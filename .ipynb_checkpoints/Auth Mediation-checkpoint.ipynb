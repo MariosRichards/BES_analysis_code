{
 "cells": [
  {
   "cell_type": "code",
   "execution_count": 1,
   "id": "c4d2d09a",
   "metadata": {},
   "outputs": [
    {
     "data": {
      "text/html": [
       "<script>jQuery(function() {if (jQuery(\"body.notebook_app\").length == 0) { jQuery(\".input_area\").toggle(); jQuery(\".prompt\").toggle();}});</script>"
      ]
     },
     "metadata": {},
     "output_type": "display_data"
    },
    {
     "data": {
      "text/html": [
       "<button onclick=\"jQuery('.input_area').toggle(); jQuery('.prompt').toggle();\">Toggle code</button>"
      ]
     },
     "metadata": {},
     "output_type": "display_data"
    },
    {
     "name": "stderr",
     "output_type": "stream",
     "text": [
      "WARNING:param.Config: Use method 'set_param' via param namespace \n",
      "WARNING:param.Dimension: Use method 'get_param_values' via param namespace \n",
      "WARNING:param.Dimension: Use method 'get_param_values' via param namespace \n",
      "WARNING:param.Dimension: Use method 'get_param_values' via param namespace \n",
      "WARNING:param.Dimension: Use method 'get_param_values' via param namespace \n",
      "WARNING:param.Dimension: Use method 'get_param_values' via param namespace \n",
      "WARNING:param.Dimension: Use method 'get_param_values' via param namespace \n",
      "WARNING:param.Dimension: Use method 'get_param_values' via param namespace \n",
      "WARNING:param.Dimension: Use method 'get_param_values' via param namespace \n",
      "WARNING:param.Dimension: Use method 'get_param_values' via param namespace \n",
      "WARNING:param.Dimension: Use method 'get_param_values' via param namespace \n",
      "WARNING:param.Dimension: Use method 'get_param_values' via param namespace \n",
      "WARNING:param.Dimension: Use method 'get_param_values' via param namespace \n",
      "WARNING:param.Dimension: Use method 'get_param_values' via param namespace \n",
      "WARNING:param.Dimension: Use method 'get_param_values' via param namespace \n",
      "WARNING:param.Dimension: Use method 'get_param_values' via param namespace \n",
      "WARNING:param.Dimension: Use method 'get_param_values' via param namespace \n",
      "WARNING:param.Dimension: Use method 'get_param_values' via param namespace \n",
      "WARNING:param.Dimension: Use method 'get_param_values' via param namespace \n",
      "WARNING:param.Dimension: Use method 'get_param_values' via param namespace \n",
      "WARNING:param.Dimension: Use method 'get_param_values' via param namespace \n",
      "WARNING:param.Dimension: Use method 'get_param_values' via param namespace \n",
      "WARNING:param.Dimension: Use method 'get_param_values' via param namespace \n",
      "WARNING:param.Dimension: Use method 'get_param_values' via param namespace \n",
      "WARNING:param.Dimension: Use method 'get_param_values' via param namespace \n",
      "WARNING:param.Dimension: Use method 'get_param_values' via param namespace \n",
      "WARNING:param.Dimension: Use method 'get_param_values' via param namespace \n",
      "WARNING:param.Dimension: Use method 'get_param_values' via param namespace \n",
      "WARNING:param.Dimension: Use method 'get_param_values' via param namespace \n",
      "WARNING:param.Dimension: Use method 'get_param_values' via param namespace \n",
      "WARNING:param.Dimension: Use method 'get_param_values' via param namespace \n",
      "WARNING:param.Dimension: Use method 'get_param_values' via param namespace \n",
      "WARNING:param.Dimension: Use method 'get_param_values' via param namespace \n",
      "WARNING:param.Dimension: Use method 'get_param_values' via param namespace \n",
      "WARNING:param.Dimension: Use method 'get_param_values' via param namespace \n",
      "WARNING:param.Dimension: Use method 'get_param_values' via param namespace \n",
      "WARNING:param.Dimension: Use method 'get_param_values' via param namespace \n",
      "WARNING:param.Dimension: Use method 'get_param_values' via param namespace \n",
      "WARNING:param.Dimension: Use method 'get_param_values' via param namespace \n",
      "WARNING:param.Dimension: Use method 'get_param_values' via param namespace \n",
      "WARNING:param.Dimension: Use method 'get_param_values' via param namespace \n",
      "WARNING:param.Dimension: Use method 'get_param_values' via param namespace \n",
      "WARNING:param.Dimension: Use method 'get_param_values' via param namespace \n",
      "WARNING:param.Dimension: Use method 'get_param_values' via param namespace \n",
      "WARNING:param.Dimension: Use method 'get_param_values' via param namespace \n",
      "WARNING:param.Dimension: Use method 'get_param_values' via param namespace \n",
      "WARNING:param.Dimension: Use method 'get_param_values' via param namespace \n",
      "WARNING:param.Dimension: Use method 'get_param_values' via param namespace \n",
      "WARNING:param.Dimension: Use method 'get_param_values' via param namespace \n",
      "WARNING:param.Dimension: Use method 'get_param_values' via param namespace \n",
      "WARNING:param.Dimension: Use method 'get_param_values' via param namespace \n",
      "WARNING:param.Dimension: Use method 'get_param_values' via param namespace \n",
      "WARNING:param.Dimension: Use method 'get_param_values' via param namespace \n",
      "WARNING:param.Dimension: Use method 'get_param_values' via param namespace \n",
      "WARNING:param.Dimension: Use method 'get_param_values' via param namespace \n",
      "WARNING:param.Dimension: Use method 'get_param_values' via param namespace \n",
      "WARNING:param.Dimension: Use method 'get_param_values' via param namespace \n",
      "WARNING:param.Dimension: Use method 'get_param_values' via param namespace \n",
      "WARNING:param.Dimension: Use method 'get_param_values' via param namespace \n",
      "WARNING:param.Dimension: Use method 'get_param_values' via param namespace \n",
      "WARNING:param.Dimension: Use method 'get_param_values' via param namespace \n",
      "WARNING:param.Dimension: Use method 'get_param_values' via param namespace \n",
      "WARNING:param.Dimension: Use method 'get_param_values' via param namespace \n",
      "WARNING:param.Dimension: Use method 'get_param_values' via param namespace \n",
      "WARNING:param.Dimension: Use method 'get_param_values' via param namespace \n",
      "WARNING:param.Dimension: Use method 'get_param_values' via param namespace \n",
      "WARNING:param.Dimension: Use method 'get_param_values' via param namespace \n",
      "WARNING:param.Dimension: Use method 'get_param_values' via param namespace \n",
      "WARNING:param.Dimension: Use method 'get_param_values' via param namespace \n",
      "WARNING:param.Dimension: Use method 'get_param_values' via param namespace \n",
      "WARNING:param.Dimension: Use method 'get_param_values' via param namespace \n",
      "WARNING:param.Dimension: Use method 'get_param_values' via param namespace \n",
      "WARNING:param.Dimension: Use method 'get_param_values' via param namespace \n",
      "WARNING:param.Dimension: Use method 'get_param_values' via param namespace \n",
      "WARNING:param.Dimension: Use method 'get_param_values' via param namespace \n",
      "WARNING:param.Dimension: Use method 'get_param_values' via param namespace \n",
      "WARNING:param.Dimension: Use method 'get_param_values' via param namespace \n",
      "WARNING:param.Dimension: Use method 'get_param_values' via param namespace \n",
      "WARNING:param.Dimension: Use method 'get_param_values' via param namespace \n",
      "WARNING:param.Dimension: Use method 'get_param_values' via param namespace \n",
      "WARNING:param.Dimension: Use method 'get_param_values' via param namespace \n",
      "WARNING:param.Dimension: Use method 'get_param_values' via param namespace \n",
      "WARNING:param.Dimension: Use method 'get_param_values' via param namespace \n",
      "WARNING:param.Dimension: Use method 'get_param_values' via param namespace \n",
      "WARNING:param.Dimension: Use method 'get_param_values' via param namespace \n",
      "WARNING:param.Dimension: Use method 'get_param_values' via param namespace \n",
      "WARNING:param.Dimension: Use method 'get_param_values' via param namespace \n",
      "WARNING:param.Dimension: Use method 'get_param_values' via param namespace \n",
      "WARNING:param.Dimension: Use method 'get_param_values' via param namespace \n",
      "WARNING:param.Dimension: Use method 'get_param_values' via param namespace \n",
      "WARNING:param.Dimension: Use method 'get_param_values' via param namespace \n",
      "WARNING:param.Dimension: Use method 'get_param_values' via param namespace \n",
      "WARNING:param.Dimension: Use method 'get_param_values' via param namespace \n",
      "WARNING:param.Dimension: Use method 'get_param_values' via param namespace \n",
      "WARNING:param.Dimension: Use method 'get_param_values' via param namespace \n",
      "WARNING:param.Dimension: Use method 'get_param_values' via param namespace \n",
      "WARNING:param.Dimension: Use method 'get_param_values' via param namespace \n",
      "WARNING:param.Dimension: Use method 'get_param_values' via param namespace \n",
      "WARNING:param.Dimension: Use method 'get_param_values' via param namespace \n",
      "WARNING:param.Dimension: Use method 'get_param_values' via param namespace \n",
      "WARNING:param.Dimension: Use method 'get_param_values' via param namespace \n",
      "WARNING:param.Dimension: Use method 'get_param_values' via param namespace \n",
      "WARNING:param.Dimension: Use method 'get_param_values' via param namespace \n",
      "WARNING:param.Dimension: Use method 'get_param_values' via param namespace \n",
      "WARNING:param.Dimension: Use method 'get_param_values' via param namespace \n",
      "WARNING:param.Dimension: Use method 'get_param_values' via param namespace \n",
      "WARNING:param.Dimension: Use method 'get_param_values' via param namespace \n",
      "WARNING:param.Dimension: Use method 'get_param_values' via param namespace \n"
     ]
    },
    {
     "name": "stderr",
     "output_type": "stream",
     "text": [
      "WARNING:param.Dimension: Use method 'get_param_values' via param namespace \n",
      "WARNING:param.Dimension: Use method 'get_param_values' via param namespace \n",
      "WARNING:param.Dimension: Use method 'get_param_values' via param namespace \n",
      "WARNING:param.Dimension: Use method 'get_param_values' via param namespace \n",
      "WARNING:param.Dimension: Use method 'get_param_values' via param namespace \n",
      "WARNING:param.Dimension: Use method 'get_param_values' via param namespace \n",
      "WARNING:param.Dimension: Use method 'get_param_values' via param namespace \n",
      "WARNING:param.Dimension: Use method 'get_param_values' via param namespace \n",
      "WARNING:param.Dimension: Use method 'get_param_values' via param namespace \n",
      "WARNING:param.Dimension: Use method 'get_param_values' via param namespace \n",
      "WARNING:param.Dimension: Use method 'get_param_values' via param namespace \n",
      "WARNING:param.Dimension: Use method 'get_param_values' via param namespace \n",
      "WARNING:param.Dimension: Use method 'get_param_values' via param namespace \n",
      "WARNING:param.Dimension: Use method 'get_param_values' via param namespace \n",
      "WARNING:param.Dimension: Use method 'get_param_values' via param namespace \n",
      "WARNING:param.Dimension: Use method 'get_param_values' via param namespace \n",
      "WARNING:param.Dimension: Use method 'get_param_values' via param namespace \n",
      "WARNING:param.Dimension: Use method 'get_param_values' via param namespace \n",
      "WARNING:param.Dimension: Use method 'get_param_values' via param namespace \n",
      "WARNING:param.Dimension: Use method 'get_param_values' via param namespace \n",
      "WARNING:param.Dimension: Use method 'get_param_values' via param namespace \n",
      "WARNING:param.Dimension: Use method 'get_param_values' via param namespace \n"
     ]
    },
    {
     "ename": "NameError",
     "evalue": "name 'pan_dataset_allr_values' is not defined",
     "output_type": "error",
     "traceback": [
      "\u001b[1;31m---------------------------------------------------------------------------\u001b[0m",
      "\u001b[1;31mNameError\u001b[0m                                 Traceback (most recent call last)",
      "\u001b[1;32m<timed exec>\u001b[0m in \u001b[0;36m<module>\u001b[1;34m\u001b[0m\n",
      "\u001b[1;31mNameError\u001b[0m: name 'pan_dataset_allr_values' is not defined"
     ]
    }
   ],
   "source": [
    "%%time\n",
    "dataset_name = \"W20_comb\"\n",
    "df_list = \"BES_Panel\"\n",
    "\n",
    "%matplotlib inline\n",
    "%run BES_header.py {dataset_name} {df_list}\n",
    "# (var_type, cat_dictionary, new_old_col_names, old_new_col_names) = get_small_files(data_subfolder, encoding)    \n",
    "# get full set of inferred \"cross wave\" auth-lib/left-right values and ages\n",
    "# pan_dataset_allr_values = pd.read_pickle(BES_small_data_files + \"pan_dataset_allr_valuesW19\"+\".zip\",compression='zip')\n",
    "pan_dataset_allr_values = pan_dataset_allr_values.loc[BES_Panel.index].sort_index()\n",
    "# pan_dataset_ages = pd.read_pickle(BES_small_data_files + \"pan_dataset_ages\"+\".zip\", compression='zip')\n",
    "# pan_dataset_votes = pd.read_pickle(BES_small_data_files+\"pan_dataset_votes\"+\".zip\",compression='zip')\n"
   ]
  },
  {
   "cell_type": "code",
   "execution_count": 3,
   "id": "24e749b4",
   "metadata": {},
   "outputs": [
    {
     "data": {
      "text/plain": [
       "zeroHourContractW6             28721\n",
       "zeroSum7W14                     7939\n",
       "zeroSum11W14                    7939\n",
       "zeroSum5W14                     7939\n",
       "zeroSum9W14                     7939\n",
       "zeroSum1W14                     7939\n",
       "zeroSum4W14                     7939\n",
       "selfOccStatusW16               19738\n",
       "selfOccStatusLastW16           15935\n",
       "selfOccStatusW17                4541\n",
       "selfOccStatusLastW17            3809\n",
       "selfOccStatusW18                1165\n",
       "selfOccStatusLastW18             688\n",
       "selfOccStatusW19               15534\n",
       "selfOccStatusLastW19           15421\n",
       "selfOccStatusW20               15978\n",
       "selfOccStatusLastW20           13855\n",
       "lr_scaleW1_W5                  38503\n",
       "al_scaleW1_W5                  37890\n",
       "lr_scaleW6                     27819\n",
       "al_scaleW6                     27288\n",
       "lr_scaleW7_W9                  36472\n",
       "al_scaleW7_W9                  35873\n",
       "lr_scaleW10_W12                30352\n",
       "al_scaleW10_W12                30088\n",
       "lr_scaleW13                    28065\n",
       "al_scaleW13                    27253\n",
       "lr_scaleW14W15                 32385\n",
       "al_scaleW14W15                 31629\n",
       "lr_scaleW16                    33450\n",
       "al_scaleW16                    32671\n",
       "lr_scaleW17                    30488\n",
       "al_scaleW17                    29773\n",
       "lr_scaleW20                    27872\n",
       "al_scaleW20                    26914\n",
       "selfOccStatusW1W2W3W4W5        15913\n",
       "selfOccStatusW6_W12            30010\n",
       "selfOccStatusW14W15             5661\n",
       "selfOccStatusLastW1W2W3W4W5    12722\n",
       "selfOccStatusLastW6_W12        21292\n",
       "selfOccStatusLastW14W15         3232\n",
       "zeroSumIRTW14                   7776\n",
       "dtype: int64"
      ]
     },
     "execution_count": 3,
     "metadata": {},
     "output_type": "execute_result"
    }
   ],
   "source": [
    "search(BES_Panel,\"zero|selfOccStatus|al_scale|lr_scale\")"
   ]
  },
  {
   "cell_type": "code",
   "execution_count": null,
   "id": "081af8d5",
   "metadata": {},
   "outputs": [],
   "source": [
    "# selfOccStatusW1W2W3W4W5        15913\n",
    "# selfOccStatusW6_W12            30010\n",
    "# zeroHourContractW6             28721\n",
    "\n",
    "# lr_scaleW6                     27819\n",
    "# al_scaleW6                     27288"
   ]
  },
  {
   "cell_type": "code",
   "execution_count": 4,
   "id": "0aca26a6",
   "metadata": {},
   "outputs": [],
   "source": [
    "pan_dataset_allr_values = pd.read_pickle(BES_small_data_files + \"pan_dataset_allr_valuesW19\"+\".zip\",compression='zip')"
   ]
  },
  {
   "cell_type": "code",
   "execution_count": 5,
   "id": "c30380db",
   "metadata": {},
   "outputs": [
    {
     "data": {
      "text/plain": [
       "Should definitely be illegal    9769\n",
       "Should probably be illegal      7475\n",
       "Should definitely be legal      5321\n",
       "Should probably be legal        4525\n",
       "Don't know                      1631\n",
       "Name: zeroHourContractW6, dtype: int64"
      ]
     },
     "execution_count": 5,
     "metadata": {},
     "output_type": "execute_result"
    }
   ],
   "source": [
    "BES_Panel[\"zeroHourContractW6\"].value_counts()"
   ]
  },
  {
   "cell_type": "code",
   "execution_count": 6,
   "id": "52f218c2",
   "metadata": {},
   "outputs": [],
   "source": [
    "zeroHour = BES_Panel[\"zeroHourContractW6\"].cat.reorder_categories(['Should definitely be illegal', 'Should probably be illegal', \"Don't know\",\n",
    "       'Should probably be legal', 'Should definitely be legal']).cat.codes.replace(-1,np.nan)"
   ]
  },
  {
   "cell_type": "code",
   "execution_count": 16,
   "id": "6ab00424",
   "metadata": {},
   "outputs": [
    {
     "data": {
      "text/plain": [
       "0.0    9769\n",
       "1.0    7475\n",
       "4.0    5321\n",
       "3.0    4525\n",
       "2.0    1631\n",
       "dtype: int64"
      ]
     },
     "execution_count": 16,
     "metadata": {},
     "output_type": "execute_result"
    }
   ],
   "source": [
    "zeroHour.value_counts()"
   ]
  },
  {
   "cell_type": "code",
   "execution_count": 17,
   "id": "b63bd455",
   "metadata": {},
   "outputs": [
    {
     "data": {
      "text/plain": [
       "<matplotlib.axes._subplots.AxesSubplot at 0x26e26f5fa88>"
      ]
     },
     "execution_count": 17,
     "metadata": {},
     "output_type": "execute_result"
    },
    {
     "data": {
      "image/png": "[encoded data removed]",
      "text/plain": [
       "<Figure size 432x288 with 1 Axes>"
      ]
     },
     "metadata": {},
     "output_type": "display_data"
    }
   ],
   "source": [
    "zeroHour.hist()"
   ]
  },
  {
   "cell_type": "code",
   "execution_count": 22,
   "id": "5046dfb9",
   "metadata": {},
   "outputs": [
    {
     "data": {
      "text/plain": [
       "0    12842\n",
       "2     9771\n",
       "1     6108\n",
       "dtype: int64"
      ]
     },
     "execution_count": 22,
     "metadata": {},
     "output_type": "execute_result"
    }
   ],
   "source": [
    "BES_Panel[[\"selfOccStatusW1W2W3W4W5\",\"selfOccStatusW6_W12\"]][zeroHour.notnull()].notnull().sum(axis=1).value_counts()"
   ]
  },
  {
   "cell_type": "code",
   "execution_count": 23,
   "id": "38a46148",
   "metadata": {},
   "outputs": [
    {
     "data": {
      "text/html": [
       "<div>\n",
       "<style scoped>\n",
       "    .dataframe tbody tr th:only-of-type {\n",
       "        vertical-align: middle;\n",
       "    }\n",
       "\n",
       "    .dataframe tbody tr th {\n",
       "        vertical-align: top;\n",
       "    }\n",
       "\n",
       "    .dataframe thead th {\n",
       "        text-align: right;\n",
       "    }\n",
       "</style>\n",
       "<table border=\"1\" class=\"dataframe\">\n",
       "  <thead>\n",
       "    <tr style=\"text-align: right;\">\n",
       "      <th></th>\n",
       "      <th>selfOccStatusW1W2W3W4W5</th>\n",
       "      <th>selfOccStatusW6_W12</th>\n",
       "    </tr>\n",
       "    <tr>\n",
       "      <th>id</th>\n",
       "      <th></th>\n",
       "      <th></th>\n",
       "    </tr>\n",
       "  </thead>\n",
       "  <tbody>\n",
       "    <tr>\n",
       "      <th>1</th>\n",
       "      <td>NaN</td>\n",
       "      <td>NaN</td>\n",
       "    </tr>\n",
       "    <tr>\n",
       "      <th>2</th>\n",
       "      <td>Self-employed/independent contractor</td>\n",
       "      <td>NaN</td>\n",
       "    </tr>\n",
       "    <tr>\n",
       "      <th>3</th>\n",
       "      <td>NaN</td>\n",
       "      <td>NaN</td>\n",
       "    </tr>\n",
       "    <tr>\n",
       "      <th>4</th>\n",
       "      <td>An employee</td>\n",
       "      <td>NaN</td>\n",
       "    </tr>\n",
       "    <tr>\n",
       "      <th>5</th>\n",
       "      <td>Self-employed/independent contractor</td>\n",
       "      <td>NaN</td>\n",
       "    </tr>\n",
       "    <tr>\n",
       "      <th>...</th>\n",
       "      <td>...</td>\n",
       "      <td>...</td>\n",
       "    </tr>\n",
       "    <tr>\n",
       "      <th>102854</th>\n",
       "      <td>NaN</td>\n",
       "      <td>NaN</td>\n",
       "    </tr>\n",
       "    <tr>\n",
       "      <th>102855</th>\n",
       "      <td>NaN</td>\n",
       "      <td>NaN</td>\n",
       "    </tr>\n",
       "    <tr>\n",
       "      <th>102856</th>\n",
       "      <td>NaN</td>\n",
       "      <td>NaN</td>\n",
       "    </tr>\n",
       "    <tr>\n",
       "      <th>102857</th>\n",
       "      <td>NaN</td>\n",
       "      <td>NaN</td>\n",
       "    </tr>\n",
       "    <tr>\n",
       "      <th>102858</th>\n",
       "      <td>NaN</td>\n",
       "      <td>NaN</td>\n",
       "    </tr>\n",
       "  </tbody>\n",
       "</table>\n",
       "<p>101413 rows × 2 columns</p>\n",
       "</div>"
      ],
      "text/plain": [
       "                     selfOccStatusW1W2W3W4W5 selfOccStatusW6_W12\n",
       "id                                                              \n",
       "1                                        NaN                 NaN\n",
       "2       Self-employed/independent contractor                 NaN\n",
       "3                                        NaN                 NaN\n",
       "4                                An employee                 NaN\n",
       "5       Self-employed/independent contractor                 NaN\n",
       "...                                      ...                 ...\n",
       "102854                                   NaN                 NaN\n",
       "102855                                   NaN                 NaN\n",
       "102856                                   NaN                 NaN\n",
       "102857                                   NaN                 NaN\n",
       "102858                                   NaN                 NaN\n",
       "\n",
       "[101413 rows x 2 columns]"
      ]
     },
     "execution_count": 23,
     "metadata": {},
     "output_type": "execute_result"
    }
   ],
   "source": [
    "BES_Panel[[\"selfOccStatusW1W2W3W4W5\",\"selfOccStatusW6_W12\"]]"
   ]
  },
  {
   "cell_type": "code",
   "execution_count": 27,
   "id": "ccc1953e",
   "metadata": {},
   "outputs": [
    {
     "data": {
      "text/plain": [
       "An employee                             92320\n",
       "Self-employed/independent contractor    15164\n",
       "Don't know                               1056\n",
       "dtype: int64"
      ]
     },
     "execution_count": 27,
     "metadata": {},
     "output_type": "execute_result"
    }
   ],
   "source": [
    "BES_Panel[search(BES_Panel,\"selfOccStatusW\").index].stack().value_counts()"
   ]
  },
  {
   "cell_type": "code",
   "execution_count": 29,
   "id": "d9f377c0",
   "metadata": {},
   "outputs": [
    {
     "data": {
      "text/plain": [
       "2    53795\n",
       "1    45453\n",
       "3     2136\n",
       "4       29\n",
       "dtype: int64"
      ]
     },
     "execution_count": 29,
     "metadata": {},
     "output_type": "execute_result"
    }
   ],
   "source": [
    "BES_Panel[search(BES_Panel,\"selfOccStatusW\").index].apply(lambda x: len(x.unique()),axis=1 ).value_counts()"
   ]
  },
  {
   "cell_type": "code",
   "execution_count": 41,
   "id": "a79a134d",
   "metadata": {},
   "outputs": [],
   "source": [
    "num_diff_cats = BES_Panel[search(BES_Panel,\"selfOccStatusW\").index].apply(lambda x: len(x.dropna().unique()),axis=1 )\n",
    "#"
   ]
  },
  {
   "cell_type": "code",
   "execution_count": 38,
   "id": "19e9d4d4",
   "metadata": {},
   "outputs": [
    {
     "data": {
      "text/plain": [
       "[NaN, 'Self-employed/independent contractor', 'An employee']\n",
       "Categories (2, object): ['Self-employed/independent contractor' < 'An employee']"
      ]
     },
     "execution_count": 38,
     "metadata": {},
     "output_type": "execute_result"
    }
   ],
   "source": [
    "BES_Panel[search(BES_Panel,\"selfOccStatusW\").index][0:100].loc[9].unique()"
   ]
  },
  {
   "cell_type": "code",
   "execution_count": 43,
   "id": "42ffd6d4",
   "metadata": {},
   "outputs": [
    {
     "data": {
      "text/plain": [
       "1    53795\n",
       "0    45453\n",
       "2     2136\n",
       "3       29\n",
       "dtype: int64"
      ]
     },
     "execution_count": 43,
     "metadata": {},
     "output_type": "execute_result"
    }
   ],
   "source": [
    "num_diff_cats.value_counts()"
   ]
  },
  {
   "cell_type": "code",
   "execution_count": 44,
   "id": "c2563e7b",
   "metadata": {},
   "outputs": [
    {
     "data": {
      "text/plain": [
       "0.03636363636363636"
      ]
     },
     "execution_count": 44,
     "metadata": {},
     "output_type": "execute_result"
    }
   ],
   "source": [
    "2/55\n",
    "\n",
    "## change of status ~3-4%"
   ]
  },
  {
   "cell_type": "code",
   "execution_count": 51,
   "id": "d768e689",
   "metadata": {},
   "outputs": [],
   "source": [
    "def amalgamate_waves(df, pattern, forward_fill=True, specify_wave_order = None, low_priority_values = [], match=True):\n",
    "    # euref_imm = amalgamate_waves(BES_reduced_with_na,\"euRefVoteW\",forward_fill=False)\n",
    "    # assumes simple wave structure, give a pattern that works!\n",
    "    if match:\n",
    "        df_cols_dict = {int(re.search(\"W(\\d+)\", x).groups()[0]):x for x in df.columns if re.match(pattern, x)}\n",
    "    else:\n",
    "        df_cols_dict = {int(re.search(\"W(\\d+)\", x).groups()[0]):x for x in df.columns if re.search(pattern, x)}\n",
    "    # sort columns\n",
    "    if specify_wave_order is not None:\n",
    "        df_cols = [df_cols_dict[x] for x in specify_wave_order]\n",
    "    else:\n",
    "        df_cols = [df_cols_dict[x] for x in sorted(df_cols_dict.keys())]\n",
    "    \n",
    "    # forward fill and and pick last column - or backward fill and pick first column\n",
    "    if len(df_cols)<=1:\n",
    "        raise Exception(\"Can't amalgamate less than two variables!\")\n",
    "    if forward_fill:\n",
    "        pick_col = -1\n",
    "        method = \"ffill\"        \n",
    "    else:\n",
    "        pick_col = 0\n",
    "        method = \"bfill\"\n",
    "    latest_series = df[df_cols]\\\n",
    "        .replace(low_priority_values,[np.nan]*len(low_priority_values))\\\n",
    "        .fillna(method=method,axis=1)[df_cols[pick_col]]\n",
    "    # stop values in low_priority from cascading, overwrite where possible, otherwise reinsert where there are only nans \n",
    "    categories = df[df_cols[0]].cat.categories\n",
    "    if low_priority_values:\n",
    "        high_priority_values = [x for x in categories if x not in low_priority_values]\n",
    "        low_priority_series = df[df_cols]\\\n",
    "                .replace(high_priority_values,[np.nan]*len(high_priority_values))\\\n",
    "                .fillna(method=method,axis=1)[df_cols[pick_col]]\n",
    "        # apply doesn't trigger on NaN values!\n",
    "        low_priority_mask = low_priority_series.apply(lambda x: x in low_priority_values).astype('bool').fillna(False) & latest_series.isnull()\n",
    "        latest_series.loc[low_priority_mask] = low_priority_series.loc[low_priority_mask]\n",
    "    # if it's a category, retain category type/options/order\n",
    "    if df[df_cols[0]].dtype.name == \"category\":\n",
    "        latest_series = latest_series.astype(\n",
    "                    pd.api.types.CategoricalDtype(categories) )\n",
    "    # update name\n",
    "    # re.match(\"(.*?)W\\d+\",\"climateChangeW11\").groups()[0]\n",
    "    print(\"Amalgamating variables: \")\n",
    "    print(df_cols_dict,df_cols)\n",
    "    name_stub = re.match(\"(.*?)W\\d+\",  list(df_cols_dict.values())[0]).groups()[0]\n",
    "    latest_series.name = name_stub+\"W\"+\"&\".join([str(x) for x in sorted(df_cols_dict.keys())])\n",
    "    \n",
    "    return latest_series"
   ]
  },
  {
   "cell_type": "code",
   "execution_count": 7,
   "id": "11cce888",
   "metadata": {},
   "outputs": [
    {
     "name": "stdout",
     "output_type": "stream",
     "text": [
      "Amalgamating variables: \n",
      "{16: 'selfOccStatusW16', 17: 'selfOccStatusW17', 18: 'selfOccStatusW18', 19: 'selfOccStatusW19', 20: 'selfOccStatusW20', 1: 'selfOccStatusW1W2W3W4W5', 6: 'selfOccStatusW6_W12', 14: 'selfOccStatusW14W15'} ['selfOccStatusW1W2W3W4W5', 'selfOccStatusW6_W12', 'selfOccStatusW14W15', 'selfOccStatusW16', 'selfOccStatusW17', 'selfOccStatusW18', 'selfOccStatusW19', 'selfOccStatusW20']\n"
     ]
    }
   ],
   "source": [
    "# (df, pattern, forward_fill=True, specify_wave_order = None, low_priority_values = [], match=True)\n",
    "selfOccStatus = amalgamate_waves(BES_Panel,\"selfOccStatusW\",forward_fill=False)"
   ]
  },
  {
   "cell_type": "code",
   "execution_count": 8,
   "id": "6c41af59",
   "metadata": {
    "scrolled": false
   },
   "outputs": [
    {
     "name": "stdout",
     "output_type": "stream",
     "text": [
      "responsive?\n"
     ]
    }
   ],
   "source": [
    "# print(\"responsive?\")"
   ]
  },
  {
   "cell_type": "code",
   "execution_count": 9,
   "id": "ce3f8c12",
   "metadata": {},
   "outputs": [
    {
     "data": {
      "text/plain": [
       "45453"
      ]
     },
     "execution_count": 9,
     "metadata": {},
     "output_type": "execute_result"
    }
   ],
   "source": [
    "selfOccStatus.isnull().sum()"
   ]
  },
  {
   "cell_type": "code",
   "execution_count": 10,
   "id": "4ac1a1d0",
   "metadata": {},
   "outputs": [
    {
     "data": {
      "text/plain": [
       "An employee                             47273\n",
       "Self-employed/independent contractor     7916\n",
       "Don't know                                771\n",
       "Name: selfOccStatusW1&6&14&16&17&18&19&20, dtype: int64"
      ]
     },
     "execution_count": 10,
     "metadata": {},
     "output_type": "execute_result"
    }
   ],
   "source": [
    "selfOccStatus.value_counts()"
   ]
  },
  {
   "cell_type": "code",
   "execution_count": 11,
   "id": "5c384988",
   "metadata": {},
   "outputs": [
    {
     "data": {
      "text/plain": [
       "An employee                             47273\n",
       "Self-employed/independent contractor     7916\n",
       "Name: selfOccStatusW1&6&14&16&17&18&19&20, dtype: int64"
      ]
     },
     "execution_count": 11,
     "metadata": {},
     "output_type": "execute_result"
    }
   ],
   "source": [
    "## drop any remaining Don't knows\n",
    "selfOccStatus = selfOccStatus.replace(\"Don't know\",np.nan)\n",
    "selfOccStatus.value_counts()"
   ]
  },
  {
   "cell_type": "code",
   "execution_count": null,
   "id": "49e064f3",
   "metadata": {},
   "outputs": [],
   "source": []
  },
  {
   "cell_type": "code",
   "execution_count": 12,
   "id": "c2c2180c",
   "metadata": {},
   "outputs": [
    {
     "name": "stdout",
     "output_type": "stream",
     "text": [
      "Amalgamating variables: \n",
      "{1: 'al_scaleW1_W5', 6: 'al_scaleW6', 7: 'al_scaleW7_W9', 10: 'al_scaleW10_W12', 13: 'al_scaleW13', 14: 'al_scaleW14W15', 16: 'al_scaleW16', 17: 'al_scaleW17', 20: 'al_scaleW20'} ['al_scaleW1_W5', 'al_scaleW6', 'al_scaleW7_W9', 'al_scaleW10_W12', 'al_scaleW13', 'al_scaleW14W15', 'al_scaleW16', 'al_scaleW17', 'al_scaleW20']\n"
     ]
    }
   ],
   "source": [
    "al_scale = amalgamate_waves(BES_Panel,\"al_scale\",forward_fill=False)"
   ]
  },
  {
   "cell_type": "code",
   "execution_count": 15,
   "id": "c646cb79",
   "metadata": {},
   "outputs": [
    {
     "data": {
      "text/plain": [
       "7.5              9821\n",
       "7.0              8592\n",
       "6.5              8265\n",
       "NaN              7136\n",
       "8.0              7071\n",
       "6.0              6928\n",
       "5.0              6517\n",
       "5.5              6221\n",
       "8.5              5732\n",
       "9.0              5056\n",
       "4.5              4671\n",
       "4.0              4104\n",
       "9.5              3587\n",
       "3.5              3484\n",
       "Authoritarian    3443\n",
       "3.0              3079\n",
       "2.5              2484\n",
       "2.0              1962\n",
       "1.5              1294\n",
       "1.0               951\n",
       "0.5               553\n",
       "Libertarian       462\n",
       "Name: al_scaleW1&6&7&10&13&14&16&17&20, dtype: int64"
      ]
     },
     "execution_count": 15,
     "metadata": {},
     "output_type": "execute_result"
    }
   ],
   "source": [
    "al_scale.value_counts(dropna=False)"
   ]
  },
  {
   "cell_type": "code",
   "execution_count": 17,
   "id": "aad53920",
   "metadata": {},
   "outputs": [],
   "source": [
    "al_scale = al_scale.cat.codes.replace(-1,np.nan)"
   ]
  },
  {
   "cell_type": "code",
   "execution_count": 21,
   "id": "0da9ca39",
   "metadata": {},
   "outputs": [],
   "source": [
    "df = pd.concat([zeroHour,selfOccStatus,al_scale],axis=1)\n",
    "df.columns = [\"zeroHour\",\"selfOccStatus\",\"al_scale\"]"
   ]
  },
  {
   "cell_type": "code",
   "execution_count": 22,
   "id": "3f3522c5",
   "metadata": {},
   "outputs": [
    {
     "data": {
      "text/html": [
       "<div>\n",
       "<style scoped>\n",
       "    .dataframe tbody tr th:only-of-type {\n",
       "        vertical-align: middle;\n",
       "    }\n",
       "\n",
       "    .dataframe tbody tr th {\n",
       "        vertical-align: top;\n",
       "    }\n",
       "\n",
       "    .dataframe thead th {\n",
       "        text-align: right;\n",
       "    }\n",
       "</style>\n",
       "<table border=\"1\" class=\"dataframe\">\n",
       "  <thead>\n",
       "    <tr style=\"text-align: right;\">\n",
       "      <th></th>\n",
       "      <th>zeroHour</th>\n",
       "      <th>selfOccStatus</th>\n",
       "      <th>al_scale</th>\n",
       "    </tr>\n",
       "  </thead>\n",
       "  <tbody>\n",
       "    <tr>\n",
       "      <th>1</th>\n",
       "      <td>0.0</td>\n",
       "      <td>NaN</td>\n",
       "      <td>16.0</td>\n",
       "    </tr>\n",
       "    <tr>\n",
       "      <th>2</th>\n",
       "      <td>3.0</td>\n",
       "      <td>Self-employed/independent contractor</td>\n",
       "      <td>12.0</td>\n",
       "    </tr>\n",
       "    <tr>\n",
       "      <th>3</th>\n",
       "      <td>3.0</td>\n",
       "      <td>NaN</td>\n",
       "      <td>14.0</td>\n",
       "    </tr>\n",
       "    <tr>\n",
       "      <th>4</th>\n",
       "      <td>NaN</td>\n",
       "      <td>An employee</td>\n",
       "      <td>16.0</td>\n",
       "    </tr>\n",
       "    <tr>\n",
       "      <th>5</th>\n",
       "      <td>NaN</td>\n",
       "      <td>Self-employed/independent contractor</td>\n",
       "      <td>12.0</td>\n",
       "    </tr>\n",
       "    <tr>\n",
       "      <th>...</th>\n",
       "      <td>...</td>\n",
       "      <td>...</td>\n",
       "      <td>...</td>\n",
       "    </tr>\n",
       "    <tr>\n",
       "      <th>102854</th>\n",
       "      <td>NaN</td>\n",
       "      <td>An employee</td>\n",
       "      <td>8.0</td>\n",
       "    </tr>\n",
       "    <tr>\n",
       "      <th>102855</th>\n",
       "      <td>NaN</td>\n",
       "      <td>NaN</td>\n",
       "      <td>11.0</td>\n",
       "    </tr>\n",
       "    <tr>\n",
       "      <th>102856</th>\n",
       "      <td>NaN</td>\n",
       "      <td>An employee</td>\n",
       "      <td>11.0</td>\n",
       "    </tr>\n",
       "    <tr>\n",
       "      <th>102857</th>\n",
       "      <td>NaN</td>\n",
       "      <td>An employee</td>\n",
       "      <td>19.0</td>\n",
       "    </tr>\n",
       "    <tr>\n",
       "      <th>102858</th>\n",
       "      <td>NaN</td>\n",
       "      <td>Self-employed/independent contractor</td>\n",
       "      <td>9.0</td>\n",
       "    </tr>\n",
       "  </tbody>\n",
       "</table>\n",
       "<p>101413 rows × 3 columns</p>\n",
       "</div>"
      ],
      "text/plain": [
       "        zeroHour                         selfOccStatus  al_scale\n",
       "1            0.0                                   NaN      16.0\n",
       "2            3.0  Self-employed/independent contractor      12.0\n",
       "3            3.0                                   NaN      14.0\n",
       "4            NaN                           An employee      16.0\n",
       "5            NaN  Self-employed/independent contractor      12.0\n",
       "...          ...                                   ...       ...\n",
       "102854       NaN                           An employee       8.0\n",
       "102855       NaN                                   NaN      11.0\n",
       "102856       NaN                           An employee      11.0\n",
       "102857       NaN                           An employee      19.0\n",
       "102858       NaN  Self-employed/independent contractor       9.0\n",
       "\n",
       "[101413 rows x 3 columns]"
      ]
     },
     "execution_count": 22,
     "metadata": {},
     "output_type": "execute_result"
    }
   ],
   "source": [
    "df"
   ]
  },
  {
   "cell_type": "code",
   "execution_count": 23,
   "id": "4bf98116",
   "metadata": {},
   "outputs": [
    {
     "data": {
      "text/plain": [
       "zeroHour         72692\n",
       "selfOccStatus    46224\n",
       "al_scale          7136\n",
       "dtype: int64"
      ]
     },
     "execution_count": 23,
     "metadata": {},
     "output_type": "execute_result"
    }
   ],
   "source": [
    "df.isnull().sum()"
   ]
  },
  {
   "cell_type": "code",
   "execution_count": 25,
   "id": "124bae32",
   "metadata": {},
   "outputs": [
    {
     "data": {
      "text/plain": [
       "zeroHour             0\n",
       "selfOccStatus    12302\n",
       "al_scale           470\n",
       "dtype: int64"
      ]
     },
     "execution_count": 25,
     "metadata": {},
     "output_type": "execute_result"
    }
   ],
   "source": [
    "df[df[\"zeroHour\"].notnull()].isnull().sum()"
   ]
  },
  {
   "cell_type": "code",
   "execution_count": 30,
   "id": "31860288",
   "metadata": {},
   "outputs": [],
   "source": [
    "mask = df.notnull().all(axis=1)"
   ]
  },
  {
   "cell_type": "code",
   "execution_count": 35,
   "id": "7f6810fe",
   "metadata": {},
   "outputs": [],
   "source": [
    "df[\"al_scale\"].value_counts()\n",
    "al_mask = df[\"al_scale\"].apply(lambda x: x in [0.0,10.0,20.0])"
   ]
  },
  {
   "cell_type": "code",
   "execution_count": 36,
   "id": "65dbf262",
   "metadata": {},
   "outputs": [
    {
     "data": {
      "text/plain": [
       "<matplotlib.axes._subplots.AxesSubplot at 0x1d07a39cec8>"
      ]
     },
     "execution_count": 36,
     "metadata": {},
     "output_type": "execute_result"
    },
    {
     "data": {
      "image/png": "[encoded data removed]",
      "text/plain": [
       "<Figure size 432x288 with 1 Axes>"
      ]
     },
     "metadata": {},
     "output_type": "display_data"
    }
   ],
   "source": [
    "sns.lineplot(data = df[mask&al_mask],x=\"selfOccStatus\",y=\"zeroHour\",hue=\"al_scale\")"
   ]
  },
  {
   "cell_type": "code",
   "execution_count": null,
   "id": "59682729",
   "metadata": {},
   "outputs": [],
   "source": [
    "# We deviate because no controls!\n",
    "# Also we haven't weighted!\n",
    "\n",
    "\n",
    "# Modeling Approach\n",
    "# We use a simple linear regression model specification with the relevant outcome measure y regressed\n",
    "# on authoritarianism, the relevant demographic and interaction between the demographic and\n",
    "# authoritarianism. Where the demographic variable is categorical we include main effects and\n",
    "# interactions for each category other than the baseline. For each outcome variable we run two models,\n",
    "# the first as described above, and the second with additional controls for age and education level (BESIP:\n",
    "# No qualifications, Below GCSE, GCSE, A-level, Undergraduate degree, Postgraduate degree. ANES:\n",
    "# High school or less, Some college, Bachelors degree, Postgraduate degree).\n",
    "# 1. 𝑦 = 𝛽0 + 𝛽1𝑎𝑢𝑡ℎ + 𝛽2𝑑𝑒𝑚𝑜𝑔𝑟𝑎𝑝ℎ𝑖𝑐 + 𝛽3𝑎𝑢𝑡ℎ ∗ 𝑑𝑒𝑚𝑜𝑔𝑟𝑎𝑝ℎ𝑖𝑐\n",
    "# 2. 𝑦 = 𝛽0 + 𝛽1𝑎𝑢𝑡ℎ + 𝛽2𝑑𝑒𝑚𝑜𝑔𝑟𝑎𝑝ℎ𝑖𝑐 + 𝛽3𝑎𝑢𝑡ℎ ∗ 𝑑𝑒𝑚𝑜𝑔𝑟𝑎𝑝ℎ𝑖𝑐 + 𝛽4𝐴𝑔𝑒 +\n",
    "# 𝛽5𝑖𝐸𝑑𝑢𝑐𝑎𝑡𝑖𝑜𝑛�"
   ]
  },
  {
   "cell_type": "code",
   "execution_count": 39,
   "id": "e8e910cc",
   "metadata": {},
   "outputs": [
    {
     "data": {
      "text/plain": [
       "gayMarriageW10    30237\n",
       "houseBuildW12     34394\n",
       "dtype: int64"
      ]
     },
     "execution_count": 39,
     "metadata": {},
     "output_type": "execute_result"
    }
   ],
   "source": [
    "search(BES_Panel,\"gayMarriage|houseBuild|\")"
   ]
  },
  {
   "cell_type": "code",
   "execution_count": 41,
   "id": "a4fd35bc",
   "metadata": {},
   "outputs": [],
   "source": [
    "# BES_Panel[\"houseBuildW12\"]"
   ]
  },
  {
   "cell_type": "code",
   "execution_count": null,
   "id": "35ebb8c6",
   "metadata": {},
   "outputs": [],
   "source": []
  }
 ],
 "metadata": {
  "kernelspec": {
   "display_name": "Python 3",
   "language": "python",
   "name": "python3"
  },
  "language_info": {
   "codemirror_mode": {
    "name": "ipython",
    "version": 3
   },
   "file_extension": ".py",
   "mimetype": "text/x-python",
   "name": "python",
   "nbconvert_exporter": "python",
   "pygments_lexer": "ipython3",
   "version": "3.7.10"
  }
 },
 "nbformat": 4,
 "nbformat_minor": 5
}
