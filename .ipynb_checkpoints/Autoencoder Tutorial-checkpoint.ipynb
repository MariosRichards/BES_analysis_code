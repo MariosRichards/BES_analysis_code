{
 "cells": [
  {
   "cell_type": "code",
   "execution_count": 1,
   "id": "30c9fb2a",
   "metadata": {},
   "outputs": [
    {
     "name": "stderr",
     "output_type": "stream",
     "text": [
      "C:\\ProgramData\\Anaconda3\\envs\\test_tensorflow_install\\lib\\site-packages\\tensorflow\\python\\framework\\dtypes.py:493: FutureWarning: Passing (type, 1) or '1type' as a synonym of type is deprecated; in a future version of numpy, it will be understood as (type, (1,)) / '(1,)type'.\n",
      "  _np_qint8 = np.dtype([(\"qint8\", np.int8, 1)])\n",
      "C:\\ProgramData\\Anaconda3\\envs\\test_tensorflow_install\\lib\\site-packages\\tensorflow\\python\\framework\\dtypes.py:494: FutureWarning: Passing (type, 1) or '1type' as a synonym of type is deprecated; in a future version of numpy, it will be understood as (type, (1,)) / '(1,)type'.\n",
      "  _np_quint8 = np.dtype([(\"quint8\", np.uint8, 1)])\n",
      "C:\\ProgramData\\Anaconda3\\envs\\test_tensorflow_install\\lib\\site-packages\\tensorflow\\python\\framework\\dtypes.py:495: FutureWarning: Passing (type, 1) or '1type' as a synonym of type is deprecated; in a future version of numpy, it will be understood as (type, (1,)) / '(1,)type'.\n",
      "  _np_qint16 = np.dtype([(\"qint16\", np.int16, 1)])\n",
      "C:\\ProgramData\\Anaconda3\\envs\\test_tensorflow_install\\lib\\site-packages\\tensorflow\\python\\framework\\dtypes.py:496: FutureWarning: Passing (type, 1) or '1type' as a synonym of type is deprecated; in a future version of numpy, it will be understood as (type, (1,)) / '(1,)type'.\n",
      "  _np_quint16 = np.dtype([(\"quint16\", np.uint16, 1)])\n",
      "C:\\ProgramData\\Anaconda3\\envs\\test_tensorflow_install\\lib\\site-packages\\tensorflow\\python\\framework\\dtypes.py:497: FutureWarning: Passing (type, 1) or '1type' as a synonym of type is deprecated; in a future version of numpy, it will be understood as (type, (1,)) / '(1,)type'.\n",
      "  _np_qint32 = np.dtype([(\"qint32\", np.int32, 1)])\n",
      "C:\\ProgramData\\Anaconda3\\envs\\test_tensorflow_install\\lib\\site-packages\\tensorflow\\python\\framework\\dtypes.py:502: FutureWarning: Passing (type, 1) or '1type' as a synonym of type is deprecated; in a future version of numpy, it will be understood as (type, (1,)) / '(1,)type'.\n",
      "  np_resource = np.dtype([(\"resource\", np.ubyte, 1)])\n"
     ]
    }
   ],
   "source": [
    "import tensorflow as tf\n",
    "from tensorflow.python.keras.layers import Dense\n",
    "from tensorflow.python.keras.models import Sequential\n",
    "from tensorflow.python.keras.callbacks import EarlyStopping\n",
    "import time\n",
    "from tensorflow.python.keras.utils import to_categorical\n",
    "\n",
    "import shap\n",
    "from tensorflow.python.ops import gradients_impl as tf_gradients_impl\n",
    "tf_gradients_impl._IsBackpropagatable=True\n",
    "\n",
    "import matplotlib.pyplot as plt\n",
    "import numpy as np\n",
    "import pandas as pd\n",
    "import tensorflow as tf\n",
    "\n",
    "from sklearn.metrics import accuracy_score, precision_score, recall_score\n",
    "from sklearn.model_selection import train_test_split\n",
    "from tensorflow.python.keras import layers, losses\n",
    "from tensorflow.python.keras.datasets import fashion_mnist\n",
    "from tensorflow.python.keras.models import Model\n",
    "\n",
    "from tensorflow.python.keras.layers import Input, Dense\n",
    "from tensorflow.python.keras.models import Model\n",
    "from tensorflow.python.keras import regularizers\n",
    "from tensorflow.python.keras.datasets import mnist\n",
    "from tensorflow.python.keras import backend as K\n",
    "import numpy as np\n",
    "import matplotlib.pyplot as plt\n",
    "import pickle\n",
    "\n",
    "from sklearn.model_selection import train_test_split\n",
    "\n",
    "from sklearn.preprocessing import OrdinalEncoder\n",
    "from tensorflow.python.keras.layers import InputLayer\n",
    "from sklearn.preprocessing import OneHotEncoder\n"
   ]
  },
  {
   "cell_type": "code",
   "execution_count": 3,
   "id": "ab667a65",
   "metadata": {},
   "outputs": [],
   "source": [
    "def extract_layers(main_model, starting_layer_ix, ending_layer_ix, input_shape):\n",
    "  # create an empty model\n",
    "    new_model = Sequential()\n",
    "    first_layer =True\n",
    "    for ix in range(starting_layer_ix, ending_layer_ix + 1):\n",
    "        curr_layer = main_model.get_layer(index=ix)\n",
    "        # copy this layer over to the new model\n",
    "        if first_layer:\n",
    "            new_model.add(input_shape)\n",
    "            first_layer=False\n",
    "        new_model.add(curr_layer)\n",
    "    return new_model"
   ]
  },
  {
   "cell_type": "code",
   "execution_count": 2,
   "id": "12244763",
   "metadata": {},
   "outputs": [],
   "source": [
    "# import numpy as np\n",
    "# import pandas as pd\n",
    "# %matplotlib inline\n",
    "# import matplotlib.pyplot as plt\n",
    "# import gc\n",
    "# import re\n",
    "\n",
    "# from itertools import cycle\n",
    "# from IPython.display import display\n",
    "# import pickle, os\n",
    "\n",
    "# import seaborn as sns\n",
    "\n",
    "# encoding = \"ISO-8859-1\"\n",
    "\n",
    "# import Jupyter_module_loader"
   ]
  },
  {
   "cell_type": "code",
   "execution_count": 3,
   "id": "5c8b32ae",
   "metadata": {},
   "outputs": [],
   "source": [
    "# import numpy as np, pandas as pd, matplotlib.pyplot as plt, seaborn as sns\n",
    "# import pickle, os, gc, re\n",
    "\n",
    "# from IPython.display import display\n",
    "\n",
    "# import Jupyter_module_loader\n",
    "# # from utility import *"
   ]
  },
  {
   "cell_type": "code",
   "execution_count": 1,
   "id": "09dc2979",
   "metadata": {},
   "outputs": [
    {
     "data": {
      "text/html": [
       "<script>jQuery(function() {if (jQuery(\"body.notebook_app\").length == 0) { jQuery(\".input_area\").toggle(); jQuery(\".prompt\").toggle();}});</script>"
      ]
     },
     "metadata": {},
     "output_type": "display_data"
    },
    {
     "data": {
      "text/html": [
       "<button onclick=\"jQuery('.input_area').toggle(); jQuery('.prompt').toggle();\">Toggle code</button>"
      ]
     },
     "metadata": {},
     "output_type": "display_data"
    },
    {
     "name": "stdout",
     "output_type": "stream",
     "text": [
      "var_type (354, 13)\n",
      "Wall time: 6.5 s\n"
     ]
    }
   ],
   "source": [
    "%%time\n",
    "dataset_name = \"W10_only\"\n",
    "df_list = \"BES_reduced\"\n",
    "\n",
    "%matplotlib inline \n",
    "%run BES_header.py {dataset_name} {df_list}\n",
    "(var_type, cat_dictionary, new_old_col_names, old_new_col_names) = get_small_files(data_subfolder, encoding)    \n",
    "# get full set of inferred \"cross wave\" auth-lib/left-right values and ages\n",
    "pan_dataset_allr_values = pd.read_pickle(BES_small_data_files + \"pan_dataset_allr_valuesW19\"+\".zip\",compression='zip')\n",
    "# pan_dataset_allr_values = pan_dataset_allr_values.loc[BES_Panel.index].sort_index()\n",
    "pan_dataset_ages = pd.read_pickle(BES_small_data_files + \"pan_dataset_ages\"+\".zip\", compression='zip')\n",
    "pan_dataset_votes = pd.read_pickle(BES_small_data_files+\"pan_dataset_votes\"+\".zip\",compression='zip')\n"
   ]
  },
  {
   "cell_type": "code",
   "execution_count": null,
   "id": "bac404f7",
   "metadata": {},
   "outputs": [],
   "source": []
  },
  {
   "cell_type": "code",
   "execution_count": 2,
   "id": "202c8a92",
   "metadata": {},
   "outputs": [],
   "source": [
    "# warnings - don't know why, online comments suggest just blocking\n",
    "# tf.logging.set_verbosity(tf.logging.ERROR)"
   ]
  },
  {
   "cell_type": "code",
   "execution_count": 31,
   "id": "697a587c",
   "metadata": {},
   "outputs": [
    {
     "data": {
      "text/html": [
       "['profile_eurefvote_Leave the EU', 'euRefVote_Leave the EU', 'euID_The leave side', 'happyEULeave__Extremely happy']"
      ],
      "text/plain": [
       "['profile_eurefvote_Leave the EU',\n",
       " 'euRefVote_Leave the EU',\n",
       " 'euID_The leave side',\n",
       " 'happyEULeave__Extremely happy']"
      ]
     },
     "execution_count": 31,
     "metadata": {},
     "output_type": "execute_result"
    }
   ],
   "source": [
    "drop_vars = []\n",
    "drop_vars.extend( [x for x in BES_reduced.columns if \"eurefvote\" in x.lower() ] )\n",
    "drop_vars.extend( [x for x in BES_reduced.columns if \"euid_\" in x.lower() ] )\n",
    "drop_vars.extend( [x for x in BES_reduced.columns if \"happyeuleave\" in x.lower() ] )\n",
    "drop_vars                 "
   ]
  },
  {
   "cell_type": "code",
   "execution_count": 32,
   "id": "4095be53",
   "metadata": {},
   "outputs": [],
   "source": [
    "# [x for x in BES_reduced.columns if \"euref\" in x.lower()]\n",
    "y = BES_reduced['euRefVote_Leave the EU']\n",
    "X = BES_reduced.drop(drop_vars,axis=1)\n",
    "y = to_categorical(y)"
   ]
  },
  {
   "cell_type": "code",
   "execution_count": null,
   "id": "624d2376",
   "metadata": {},
   "outputs": [],
   "source": [
    "\n"
   ]
  },
  {
   "cell_type": "code",
   "execution_count": 18,
   "id": "08ad2d60",
   "metadata": {},
   "outputs": [],
   "source": [
    "# X.shape"
   ]
  },
  {
   "cell_type": "code",
   "execution_count": 33,
   "id": "89721043",
   "metadata": {},
   "outputs": [
    {
     "data": {
      "image/png": "[encoded data removed]",
      "text/plain": [
       "<Figure size 432x288 with 1 Axes>"
      ]
     },
     "metadata": {},
     "output_type": "display_data"
    },
    {
     "name": "stdout",
     "output_type": "stream",
     "text": [
      "97.09109139442444\n"
     ]
    }
   ],
   "source": [
    "start_time = time.time()\n",
    "\n",
    "early_stopping_monitor = EarlyStopping(patience=3)\n",
    "\n",
    "n_neurons_layer = 500\n",
    "\n",
    "# Create the model: model\n",
    "model = Sequential()\n",
    "\n",
    "# Add the first hidden layer\n",
    "input_shape = (X.shape[1],)\n",
    "model.add( Dense(n_neurons_layer, activation='relu', input_shape = input_shape) )\n",
    "\n",
    "# Add the second hidden layer\n",
    "model.add( Dense(n_neurons_layer, activation='relu') )\n",
    "\n",
    "# Add the third hidden layer\n",
    "model.add( Dense(n_neurons_layer, activation='relu') )\n",
    "\n",
    "# Add the fourth hidden layer\n",
    "model.add( Dense(n_neurons_layer, activation='relu') )\n",
    "\n",
    "# Add the output layer\n",
    "no_of_outputs = len(np.unique(y))\n",
    "model.add( Dense( no_of_outputs , activation='softmax') )\n",
    "\n",
    "# Compile the model\n",
    "model.compile( optimizer = 'adam',\n",
    "               loss = 'categorical_crossentropy',\n",
    "               metrics=['accuracy'])\n",
    "\n",
    "# Fit the model\n",
    "# X -> X.values\n",
    "model_training = model.fit(X.values, y, epochs=15, validation_split=0.2, callbacks=[early_stopping_monitor], verbose=False)\n",
    "\n",
    "# Create the plot\n",
    "plt.plot(model_training.history['val_loss'], 'r')\n",
    "plt.xlabel('Epochs')\n",
    "plt.ylabel('Validation score')\n",
    "plt.show()\n",
    "\n",
    "elapsed_time = time.time() - start_time\n",
    "print(elapsed_time)"
   ]
  },
  {
   "cell_type": "code",
   "execution_count": 34,
   "id": "cbe5500b",
   "metadata": {},
   "outputs": [],
   "source": [
    "# tf.__version__"
   ]
  },
  {
   "cell_type": "code",
   "execution_count": 2,
   "id": "aa13bcff",
   "metadata": {},
   "outputs": [],
   "source": []
  },
  {
   "cell_type": "code",
   "execution_count": 36,
   "id": "10825cd5",
   "metadata": {},
   "outputs": [
    {
     "name": "stdout",
     "output_type": "stream",
     "text": [
      "Wall time: 1min 12s\n"
     ]
    }
   ],
   "source": [
    "%%time\n",
    "\n",
    "# hasattr(tf_gradients_impl, \"_IsBackpropagatable\")\n",
    "background = X.loc[np.random.choice(X.shape[0], 200, replace=False)]\n",
    "\n",
    "# e = shap.DeepExplainer((model.layers[0].input, model.layers[-1].output), background)\n",
    "e = shap.DeepExplainer(model, background)\n",
    "shap_values = e.shap_values(background.values)"
   ]
  },
  {
   "cell_type": "code",
   "execution_count": 37,
   "id": "b74612c2",
   "metadata": {},
   "outputs": [
    {
     "data": {
      "image/png": "[encoded data removed]",
      "text/plain": [
       "<Figure size 576x684 with 2 Axes>"
      ]
     },
     "metadata": {},
     "output_type": "display_data"
    },
    {
     "name": "stdout",
     "output_type": "stream",
     "text": [
      "Wall time: 606 ms\n"
     ]
    }
   ],
   "source": [
    "%%time\n",
    "shap.summary_plot(shap_values[0], background, plot_type='dot')"
   ]
  },
  {
   "cell_type": "code",
   "execution_count": 38,
   "id": "b5ad8947",
   "metadata": {},
   "outputs": [
    {
     "data": {
      "text/plain": [
       "(30319, 328)"
      ]
     },
     "execution_count": 38,
     "metadata": {},
     "output_type": "execute_result"
    }
   ],
   "source": [
    "X.shape"
   ]
  },
  {
   "cell_type": "code",
   "execution_count": 39,
   "id": "257d4fd4",
   "metadata": {},
   "outputs": [
    {
     "data": {
      "text/plain": [
       "(30319, 2)"
      ]
     },
     "execution_count": 39,
     "metadata": {},
     "output_type": "execute_result"
    }
   ],
   "source": [
    "y.shape"
   ]
  },
  {
   "cell_type": "code",
   "execution_count": 40,
   "id": "50aee35c",
   "metadata": {},
   "outputs": [
    {
     "data": {
      "text/html": [
       "<div>\n",
       "<style scoped>\n",
       "    .dataframe tbody tr th:only-of-type {\n",
       "        vertical-align: middle;\n",
       "    }\n",
       "\n",
       "    .dataframe tbody tr th {\n",
       "        vertical-align: top;\n",
       "    }\n",
       "\n",
       "    .dataframe thead th {\n",
       "        text-align: right;\n",
       "    }\n",
       "</style>\n",
       "<table border=\"1\" class=\"dataframe\">\n",
       "  <thead>\n",
       "    <tr style=\"text-align: right;\">\n",
       "      <th></th>\n",
       "      <th>turnoutUKGeneral__Very likely that I will vote</th>\n",
       "      <th>generalElectionCertainty__Completely certain</th>\n",
       "      <th>partyIdStrength__Not very strong</th>\n",
       "      <th>expectGoodConductEURef__Conducted unfairly</th>\n",
       "      <th>polAttention__Pay a great deal of attention</th>\n",
       "      <th>britishness__Very strongly British</th>\n",
       "      <th>englishness__Very strongly English</th>\n",
       "      <th>europeanness__Very strongly European</th>\n",
       "      <th>likeMay__Strongly like</th>\n",
       "      <th>likeCorbyn__Strongly like</th>\n",
       "      <th>...</th>\n",
       "      <th>expectAccess_Yes</th>\n",
       "      <th>negotiationSpecifics_none_Yes</th>\n",
       "      <th>negotiationSpecifics_3_Yes</th>\n",
       "      <th>negotiationSpecifics_2_Yes</th>\n",
       "      <th>negotiationSpecifics_1_Yes</th>\n",
       "      <th>bestPM_Jeremy Corbyn</th>\n",
       "      <th>profile_eurefturnout_Yes</th>\n",
       "      <th>gender_Female</th>\n",
       "      <th>euRefDoOver_Yes</th>\n",
       "      <th>regretsIHaveAFewEU_Yes</th>\n",
       "    </tr>\n",
       "  </thead>\n",
       "  <tbody>\n",
       "    <tr>\n",
       "      <th>0</th>\n",
       "      <td>4.0</td>\n",
       "      <td>6.0</td>\n",
       "      <td>0.0</td>\n",
       "      <td>0.0</td>\n",
       "      <td>7.0</td>\n",
       "      <td>3.0</td>\n",
       "      <td>6.0</td>\n",
       "      <td>0.0</td>\n",
       "      <td>4.0</td>\n",
       "      <td>0.0</td>\n",
       "      <td>...</td>\n",
       "      <td>0</td>\n",
       "      <td>0</td>\n",
       "      <td>1</td>\n",
       "      <td>1</td>\n",
       "      <td>1</td>\n",
       "      <td>0</td>\n",
       "      <td>1</td>\n",
       "      <td>0</td>\n",
       "      <td>0</td>\n",
       "      <td>0</td>\n",
       "    </tr>\n",
       "    <tr>\n",
       "      <th>1</th>\n",
       "      <td>4.0</td>\n",
       "      <td>5.0</td>\n",
       "      <td>1.0</td>\n",
       "      <td>0.0</td>\n",
       "      <td>8.0</td>\n",
       "      <td>4.0</td>\n",
       "      <td>4.0</td>\n",
       "      <td>3.0</td>\n",
       "      <td>7.0</td>\n",
       "      <td>1.0</td>\n",
       "      <td>...</td>\n",
       "      <td>0</td>\n",
       "      <td>0</td>\n",
       "      <td>1</td>\n",
       "      <td>1</td>\n",
       "      <td>1</td>\n",
       "      <td>0</td>\n",
       "      <td>1</td>\n",
       "      <td>1</td>\n",
       "      <td>0</td>\n",
       "      <td>0</td>\n",
       "    </tr>\n",
       "    <tr>\n",
       "      <th>2</th>\n",
       "      <td>3.0</td>\n",
       "      <td>6.0</td>\n",
       "      <td>2.0</td>\n",
       "      <td>3.0</td>\n",
       "      <td>8.0</td>\n",
       "      <td>5.0</td>\n",
       "      <td>4.0</td>\n",
       "      <td>2.0</td>\n",
       "      <td>5.0</td>\n",
       "      <td>2.0</td>\n",
       "      <td>...</td>\n",
       "      <td>0</td>\n",
       "      <td>0</td>\n",
       "      <td>1</td>\n",
       "      <td>0</td>\n",
       "      <td>1</td>\n",
       "      <td>0</td>\n",
       "      <td>1</td>\n",
       "      <td>1</td>\n",
       "      <td>0</td>\n",
       "      <td>0</td>\n",
       "    </tr>\n",
       "    <tr>\n",
       "      <th>3</th>\n",
       "      <td>4.0</td>\n",
       "      <td>6.0</td>\n",
       "      <td>0.0</td>\n",
       "      <td>4.0</td>\n",
       "      <td>5.0</td>\n",
       "      <td>5.0</td>\n",
       "      <td>0.0</td>\n",
       "      <td>4.0</td>\n",
       "      <td>0.0</td>\n",
       "      <td>10.0</td>\n",
       "      <td>...</td>\n",
       "      <td>0</td>\n",
       "      <td>0</td>\n",
       "      <td>1</td>\n",
       "      <td>1</td>\n",
       "      <td>1</td>\n",
       "      <td>1</td>\n",
       "      <td>1</td>\n",
       "      <td>0</td>\n",
       "      <td>1</td>\n",
       "      <td>0</td>\n",
       "    </tr>\n",
       "    <tr>\n",
       "      <th>4</th>\n",
       "      <td>4.0</td>\n",
       "      <td>5.0</td>\n",
       "      <td>1.0</td>\n",
       "      <td>0.0</td>\n",
       "      <td>9.0</td>\n",
       "      <td>6.0</td>\n",
       "      <td>6.0</td>\n",
       "      <td>4.0</td>\n",
       "      <td>8.0</td>\n",
       "      <td>0.0</td>\n",
       "      <td>...</td>\n",
       "      <td>1</td>\n",
       "      <td>0</td>\n",
       "      <td>0</td>\n",
       "      <td>0</td>\n",
       "      <td>1</td>\n",
       "      <td>0</td>\n",
       "      <td>1</td>\n",
       "      <td>0</td>\n",
       "      <td>0</td>\n",
       "      <td>0</td>\n",
       "    </tr>\n",
       "    <tr>\n",
       "      <th>...</th>\n",
       "      <td>...</td>\n",
       "      <td>...</td>\n",
       "      <td>...</td>\n",
       "      <td>...</td>\n",
       "      <td>...</td>\n",
       "      <td>...</td>\n",
       "      <td>...</td>\n",
       "      <td>...</td>\n",
       "      <td>...</td>\n",
       "      <td>...</td>\n",
       "      <td>...</td>\n",
       "      <td>...</td>\n",
       "      <td>...</td>\n",
       "      <td>...</td>\n",
       "      <td>...</td>\n",
       "      <td>...</td>\n",
       "      <td>...</td>\n",
       "      <td>...</td>\n",
       "      <td>...</td>\n",
       "      <td>...</td>\n",
       "      <td>...</td>\n",
       "    </tr>\n",
       "    <tr>\n",
       "      <th>30314</th>\n",
       "      <td>4.0</td>\n",
       "      <td>3.0</td>\n",
       "      <td>1.0</td>\n",
       "      <td>4.0</td>\n",
       "      <td>5.0</td>\n",
       "      <td>5.0</td>\n",
       "      <td>4.0</td>\n",
       "      <td>4.0</td>\n",
       "      <td>3.0</td>\n",
       "      <td>8.0</td>\n",
       "      <td>...</td>\n",
       "      <td>0</td>\n",
       "      <td>0</td>\n",
       "      <td>1</td>\n",
       "      <td>1</td>\n",
       "      <td>1</td>\n",
       "      <td>1</td>\n",
       "      <td>1</td>\n",
       "      <td>1</td>\n",
       "      <td>1</td>\n",
       "      <td>0</td>\n",
       "    </tr>\n",
       "    <tr>\n",
       "      <th>30315</th>\n",
       "      <td>1.0</td>\n",
       "      <td>6.0</td>\n",
       "      <td>1.0</td>\n",
       "      <td>2.0</td>\n",
       "      <td>1.0</td>\n",
       "      <td>3.0</td>\n",
       "      <td>3.0</td>\n",
       "      <td>3.0</td>\n",
       "      <td>5.0</td>\n",
       "      <td>2.0</td>\n",
       "      <td>...</td>\n",
       "      <td>0</td>\n",
       "      <td>0</td>\n",
       "      <td>1</td>\n",
       "      <td>1</td>\n",
       "      <td>1</td>\n",
       "      <td>0</td>\n",
       "      <td>1</td>\n",
       "      <td>1</td>\n",
       "      <td>0</td>\n",
       "      <td>0</td>\n",
       "    </tr>\n",
       "    <tr>\n",
       "      <th>30316</th>\n",
       "      <td>3.0</td>\n",
       "      <td>3.0</td>\n",
       "      <td>2.0</td>\n",
       "      <td>0.0</td>\n",
       "      <td>5.0</td>\n",
       "      <td>6.0</td>\n",
       "      <td>6.0</td>\n",
       "      <td>3.0</td>\n",
       "      <td>8.0</td>\n",
       "      <td>4.0</td>\n",
       "      <td>...</td>\n",
       "      <td>0</td>\n",
       "      <td>0</td>\n",
       "      <td>1</td>\n",
       "      <td>1</td>\n",
       "      <td>1</td>\n",
       "      <td>0</td>\n",
       "      <td>1</td>\n",
       "      <td>1</td>\n",
       "      <td>0</td>\n",
       "      <td>0</td>\n",
       "    </tr>\n",
       "    <tr>\n",
       "      <th>30317</th>\n",
       "      <td>3.0</td>\n",
       "      <td>6.0</td>\n",
       "      <td>1.0</td>\n",
       "      <td>3.0</td>\n",
       "      <td>4.0</td>\n",
       "      <td>3.0</td>\n",
       "      <td>5.0</td>\n",
       "      <td>3.0</td>\n",
       "      <td>5.0</td>\n",
       "      <td>6.0</td>\n",
       "      <td>...</td>\n",
       "      <td>0</td>\n",
       "      <td>0</td>\n",
       "      <td>0</td>\n",
       "      <td>0</td>\n",
       "      <td>1</td>\n",
       "      <td>1</td>\n",
       "      <td>1</td>\n",
       "      <td>0</td>\n",
       "      <td>1</td>\n",
       "      <td>0</td>\n",
       "    </tr>\n",
       "    <tr>\n",
       "      <th>30318</th>\n",
       "      <td>4.0</td>\n",
       "      <td>5.0</td>\n",
       "      <td>1.0</td>\n",
       "      <td>4.0</td>\n",
       "      <td>7.0</td>\n",
       "      <td>2.0</td>\n",
       "      <td>0.0</td>\n",
       "      <td>3.0</td>\n",
       "      <td>1.0</td>\n",
       "      <td>8.0</td>\n",
       "      <td>...</td>\n",
       "      <td>0</td>\n",
       "      <td>0</td>\n",
       "      <td>1</td>\n",
       "      <td>1</td>\n",
       "      <td>1</td>\n",
       "      <td>1</td>\n",
       "      <td>1</td>\n",
       "      <td>0</td>\n",
       "      <td>1</td>\n",
       "      <td>0</td>\n",
       "    </tr>\n",
       "  </tbody>\n",
       "</table>\n",
       "<p>30319 rows × 328 columns</p>\n",
       "</div>"
      ],
      "text/plain": [
       "       turnoutUKGeneral__Very likely that I will vote  \\\n",
       "0                                                 4.0   \n",
       "1                                                 4.0   \n",
       "2                                                 3.0   \n",
       "3                                                 4.0   \n",
       "4                                                 4.0   \n",
       "...                                               ...   \n",
       "30314                                             4.0   \n",
       "30315                                             1.0   \n",
       "30316                                             3.0   \n",
       "30317                                             3.0   \n",
       "30318                                             4.0   \n",
       "\n",
       "       generalElectionCertainty__Completely certain  \\\n",
       "0                                               6.0   \n",
       "1                                               5.0   \n",
       "2                                               6.0   \n",
       "3                                               6.0   \n",
       "4                                               5.0   \n",
       "...                                             ...   \n",
       "30314                                           3.0   \n",
       "30315                                           6.0   \n",
       "30316                                           3.0   \n",
       "30317                                           6.0   \n",
       "30318                                           5.0   \n",
       "\n",
       "       partyIdStrength__Not very strong  \\\n",
       "0                                   0.0   \n",
       "1                                   1.0   \n",
       "2                                   2.0   \n",
       "3                                   0.0   \n",
       "4                                   1.0   \n",
       "...                                 ...   \n",
       "30314                               1.0   \n",
       "30315                               1.0   \n",
       "30316                               2.0   \n",
       "30317                               1.0   \n",
       "30318                               1.0   \n",
       "\n",
       "       expectGoodConductEURef__Conducted unfairly  \\\n",
       "0                                             0.0   \n",
       "1                                             0.0   \n",
       "2                                             3.0   \n",
       "3                                             4.0   \n",
       "4                                             0.0   \n",
       "...                                           ...   \n",
       "30314                                         4.0   \n",
       "30315                                         2.0   \n",
       "30316                                         0.0   \n",
       "30317                                         3.0   \n",
       "30318                                         4.0   \n",
       "\n",
       "       polAttention__Pay a great deal of attention  \\\n",
       "0                                              7.0   \n",
       "1                                              8.0   \n",
       "2                                              8.0   \n",
       "3                                              5.0   \n",
       "4                                              9.0   \n",
       "...                                            ...   \n",
       "30314                                          5.0   \n",
       "30315                                          1.0   \n",
       "30316                                          5.0   \n",
       "30317                                          4.0   \n",
       "30318                                          7.0   \n",
       "\n",
       "       britishness__Very strongly British  englishness__Very strongly English  \\\n",
       "0                                     3.0                                 6.0   \n",
       "1                                     4.0                                 4.0   \n",
       "2                                     5.0                                 4.0   \n",
       "3                                     5.0                                 0.0   \n",
       "4                                     6.0                                 6.0   \n",
       "...                                   ...                                 ...   \n",
       "30314                                 5.0                                 4.0   \n",
       "30315                                 3.0                                 3.0   \n",
       "30316                                 6.0                                 6.0   \n",
       "30317                                 3.0                                 5.0   \n",
       "30318                                 2.0                                 0.0   \n",
       "\n",
       "       europeanness__Very strongly European  likeMay__Strongly like  \\\n",
       "0                                       0.0                     4.0   \n",
       "1                                       3.0                     7.0   \n",
       "2                                       2.0                     5.0   \n",
       "3                                       4.0                     0.0   \n",
       "4                                       4.0                     8.0   \n",
       "...                                     ...                     ...   \n",
       "30314                                   4.0                     3.0   \n",
       "30315                                   3.0                     5.0   \n",
       "30316                                   3.0                     8.0   \n",
       "30317                                   3.0                     5.0   \n",
       "30318                                   3.0                     1.0   \n",
       "\n",
       "       likeCorbyn__Strongly like  ...  expectAccess_Yes  \\\n",
       "0                            0.0  ...                 0   \n",
       "1                            1.0  ...                 0   \n",
       "2                            2.0  ...                 0   \n",
       "3                           10.0  ...                 0   \n",
       "4                            0.0  ...                 1   \n",
       "...                          ...  ...               ...   \n",
       "30314                        8.0  ...                 0   \n",
       "30315                        2.0  ...                 0   \n",
       "30316                        4.0  ...                 0   \n",
       "30317                        6.0  ...                 0   \n",
       "30318                        8.0  ...                 0   \n",
       "\n",
       "       negotiationSpecifics_none_Yes  negotiationSpecifics_3_Yes  \\\n",
       "0                                  0                           1   \n",
       "1                                  0                           1   \n",
       "2                                  0                           1   \n",
       "3                                  0                           1   \n",
       "4                                  0                           0   \n",
       "...                              ...                         ...   \n",
       "30314                              0                           1   \n",
       "30315                              0                           1   \n",
       "30316                              0                           1   \n",
       "30317                              0                           0   \n",
       "30318                              0                           1   \n",
       "\n",
       "       negotiationSpecifics_2_Yes  negotiationSpecifics_1_Yes  \\\n",
       "0                               1                           1   \n",
       "1                               1                           1   \n",
       "2                               0                           1   \n",
       "3                               1                           1   \n",
       "4                               0                           1   \n",
       "...                           ...                         ...   \n",
       "30314                           1                           1   \n",
       "30315                           1                           1   \n",
       "30316                           1                           1   \n",
       "30317                           0                           1   \n",
       "30318                           1                           1   \n",
       "\n",
       "       bestPM_Jeremy Corbyn  profile_eurefturnout_Yes  gender_Female  \\\n",
       "0                         0                         1              0   \n",
       "1                         0                         1              1   \n",
       "2                         0                         1              1   \n",
       "3                         1                         1              0   \n",
       "4                         0                         1              0   \n",
       "...                     ...                       ...            ...   \n",
       "30314                     1                         1              1   \n",
       "30315                     0                         1              1   \n",
       "30316                     0                         1              1   \n",
       "30317                     1                         1              0   \n",
       "30318                     1                         1              0   \n",
       "\n",
       "       euRefDoOver_Yes  regretsIHaveAFewEU_Yes  \n",
       "0                    0                       0  \n",
       "1                    0                       0  \n",
       "2                    0                       0  \n",
       "3                    1                       0  \n",
       "4                    0                       0  \n",
       "...                ...                     ...  \n",
       "30314                1                       0  \n",
       "30315                0                       0  \n",
       "30316                0                       0  \n",
       "30317                1                       0  \n",
       "30318                1                       0  \n",
       "\n",
       "[30319 rows x 328 columns]"
      ]
     },
     "execution_count": 40,
     "metadata": {},
     "output_type": "execute_result"
    }
   ],
   "source": [
    "X"
   ]
  },
  {
   "cell_type": "code",
   "execution_count": 41,
   "id": "979f20a8",
   "metadata": {},
   "outputs": [
    {
     "data": {
      "text/plain": [
       "array([[0., 1.],\n",
       "       [0., 1.],\n",
       "       [0., 1.],\n",
       "       ...,\n",
       "       [0., 1.],\n",
       "       [1., 0.],\n",
       "       [1., 0.]])"
      ]
     },
     "execution_count": 41,
     "metadata": {},
     "output_type": "execute_result"
    }
   ],
   "source": [
    "y"
   ]
  },
  {
   "cell_type": "code",
   "execution_count": 42,
   "id": "6b8c6042",
   "metadata": {},
   "outputs": [
    {
     "data": {
      "text/html": [
       "<div>\n",
       "<style scoped>\n",
       "    .dataframe tbody tr th:only-of-type {\n",
       "        vertical-align: middle;\n",
       "    }\n",
       "\n",
       "    .dataframe tbody tr th {\n",
       "        vertical-align: top;\n",
       "    }\n",
       "\n",
       "    .dataframe thead th {\n",
       "        text-align: right;\n",
       "    }\n",
       "</style>\n",
       "<table border=\"1\" class=\"dataframe\">\n",
       "  <thead>\n",
       "    <tr style=\"text-align: right;\">\n",
       "      <th></th>\n",
       "      <th>turnoutUKGeneral__Very likely that I will vote</th>\n",
       "      <th>generalElectionCertainty__Completely certain</th>\n",
       "      <th>partyIdStrength__Not very strong</th>\n",
       "      <th>expectGoodConductEURef__Conducted unfairly</th>\n",
       "      <th>polAttention__Pay a great deal of attention</th>\n",
       "      <th>britishness__Very strongly British</th>\n",
       "      <th>englishness__Very strongly English</th>\n",
       "      <th>europeanness__Very strongly European</th>\n",
       "      <th>likeMay__Strongly like</th>\n",
       "      <th>likeCorbyn__Strongly like</th>\n",
       "      <th>...</th>\n",
       "      <th>expectAccess_Yes</th>\n",
       "      <th>negotiationSpecifics_none_Yes</th>\n",
       "      <th>negotiationSpecifics_3_Yes</th>\n",
       "      <th>negotiationSpecifics_2_Yes</th>\n",
       "      <th>negotiationSpecifics_1_Yes</th>\n",
       "      <th>bestPM_Jeremy Corbyn</th>\n",
       "      <th>profile_eurefturnout_Yes</th>\n",
       "      <th>gender_Female</th>\n",
       "      <th>euRefDoOver_Yes</th>\n",
       "      <th>regretsIHaveAFewEU_Yes</th>\n",
       "    </tr>\n",
       "  </thead>\n",
       "  <tbody>\n",
       "    <tr>\n",
       "      <th>0</th>\n",
       "      <td>4.0</td>\n",
       "      <td>6.0</td>\n",
       "      <td>0.0</td>\n",
       "      <td>0.0</td>\n",
       "      <td>7.0</td>\n",
       "      <td>3.0</td>\n",
       "      <td>6.0</td>\n",
       "      <td>0.0</td>\n",
       "      <td>4.0</td>\n",
       "      <td>0.0</td>\n",
       "      <td>...</td>\n",
       "      <td>0</td>\n",
       "      <td>0</td>\n",
       "      <td>1</td>\n",
       "      <td>1</td>\n",
       "      <td>1</td>\n",
       "      <td>0</td>\n",
       "      <td>1</td>\n",
       "      <td>0</td>\n",
       "      <td>0</td>\n",
       "      <td>0</td>\n",
       "    </tr>\n",
       "    <tr>\n",
       "      <th>1</th>\n",
       "      <td>4.0</td>\n",
       "      <td>5.0</td>\n",
       "      <td>1.0</td>\n",
       "      <td>0.0</td>\n",
       "      <td>8.0</td>\n",
       "      <td>4.0</td>\n",
       "      <td>4.0</td>\n",
       "      <td>3.0</td>\n",
       "      <td>7.0</td>\n",
       "      <td>1.0</td>\n",
       "      <td>...</td>\n",
       "      <td>0</td>\n",
       "      <td>0</td>\n",
       "      <td>1</td>\n",
       "      <td>1</td>\n",
       "      <td>1</td>\n",
       "      <td>0</td>\n",
       "      <td>1</td>\n",
       "      <td>1</td>\n",
       "      <td>0</td>\n",
       "      <td>0</td>\n",
       "    </tr>\n",
       "    <tr>\n",
       "      <th>2</th>\n",
       "      <td>3.0</td>\n",
       "      <td>6.0</td>\n",
       "      <td>2.0</td>\n",
       "      <td>3.0</td>\n",
       "      <td>8.0</td>\n",
       "      <td>5.0</td>\n",
       "      <td>4.0</td>\n",
       "      <td>2.0</td>\n",
       "      <td>5.0</td>\n",
       "      <td>2.0</td>\n",
       "      <td>...</td>\n",
       "      <td>0</td>\n",
       "      <td>0</td>\n",
       "      <td>1</td>\n",
       "      <td>0</td>\n",
       "      <td>1</td>\n",
       "      <td>0</td>\n",
       "      <td>1</td>\n",
       "      <td>1</td>\n",
       "      <td>0</td>\n",
       "      <td>0</td>\n",
       "    </tr>\n",
       "    <tr>\n",
       "      <th>3</th>\n",
       "      <td>4.0</td>\n",
       "      <td>6.0</td>\n",
       "      <td>0.0</td>\n",
       "      <td>4.0</td>\n",
       "      <td>5.0</td>\n",
       "      <td>5.0</td>\n",
       "      <td>0.0</td>\n",
       "      <td>4.0</td>\n",
       "      <td>0.0</td>\n",
       "      <td>10.0</td>\n",
       "      <td>...</td>\n",
       "      <td>0</td>\n",
       "      <td>0</td>\n",
       "      <td>1</td>\n",
       "      <td>1</td>\n",
       "      <td>1</td>\n",
       "      <td>1</td>\n",
       "      <td>1</td>\n",
       "      <td>0</td>\n",
       "      <td>1</td>\n",
       "      <td>0</td>\n",
       "    </tr>\n",
       "    <tr>\n",
       "      <th>4</th>\n",
       "      <td>4.0</td>\n",
       "      <td>5.0</td>\n",
       "      <td>1.0</td>\n",
       "      <td>0.0</td>\n",
       "      <td>9.0</td>\n",
       "      <td>6.0</td>\n",
       "      <td>6.0</td>\n",
       "      <td>4.0</td>\n",
       "      <td>8.0</td>\n",
       "      <td>0.0</td>\n",
       "      <td>...</td>\n",
       "      <td>1</td>\n",
       "      <td>0</td>\n",
       "      <td>0</td>\n",
       "      <td>0</td>\n",
       "      <td>1</td>\n",
       "      <td>0</td>\n",
       "      <td>1</td>\n",
       "      <td>0</td>\n",
       "      <td>0</td>\n",
       "      <td>0</td>\n",
       "    </tr>\n",
       "    <tr>\n",
       "      <th>...</th>\n",
       "      <td>...</td>\n",
       "      <td>...</td>\n",
       "      <td>...</td>\n",
       "      <td>...</td>\n",
       "      <td>...</td>\n",
       "      <td>...</td>\n",
       "      <td>...</td>\n",
       "      <td>...</td>\n",
       "      <td>...</td>\n",
       "      <td>...</td>\n",
       "      <td>...</td>\n",
       "      <td>...</td>\n",
       "      <td>...</td>\n",
       "      <td>...</td>\n",
       "      <td>...</td>\n",
       "      <td>...</td>\n",
       "      <td>...</td>\n",
       "      <td>...</td>\n",
       "      <td>...</td>\n",
       "      <td>...</td>\n",
       "      <td>...</td>\n",
       "    </tr>\n",
       "    <tr>\n",
       "      <th>30314</th>\n",
       "      <td>4.0</td>\n",
       "      <td>3.0</td>\n",
       "      <td>1.0</td>\n",
       "      <td>4.0</td>\n",
       "      <td>5.0</td>\n",
       "      <td>5.0</td>\n",
       "      <td>4.0</td>\n",
       "      <td>4.0</td>\n",
       "      <td>3.0</td>\n",
       "      <td>8.0</td>\n",
       "      <td>...</td>\n",
       "      <td>0</td>\n",
       "      <td>0</td>\n",
       "      <td>1</td>\n",
       "      <td>1</td>\n",
       "      <td>1</td>\n",
       "      <td>1</td>\n",
       "      <td>1</td>\n",
       "      <td>1</td>\n",
       "      <td>1</td>\n",
       "      <td>0</td>\n",
       "    </tr>\n",
       "    <tr>\n",
       "      <th>30315</th>\n",
       "      <td>1.0</td>\n",
       "      <td>6.0</td>\n",
       "      <td>1.0</td>\n",
       "      <td>2.0</td>\n",
       "      <td>1.0</td>\n",
       "      <td>3.0</td>\n",
       "      <td>3.0</td>\n",
       "      <td>3.0</td>\n",
       "      <td>5.0</td>\n",
       "      <td>2.0</td>\n",
       "      <td>...</td>\n",
       "      <td>0</td>\n",
       "      <td>0</td>\n",
       "      <td>1</td>\n",
       "      <td>1</td>\n",
       "      <td>1</td>\n",
       "      <td>0</td>\n",
       "      <td>1</td>\n",
       "      <td>1</td>\n",
       "      <td>0</td>\n",
       "      <td>0</td>\n",
       "    </tr>\n",
       "    <tr>\n",
       "      <th>30316</th>\n",
       "      <td>3.0</td>\n",
       "      <td>3.0</td>\n",
       "      <td>2.0</td>\n",
       "      <td>0.0</td>\n",
       "      <td>5.0</td>\n",
       "      <td>6.0</td>\n",
       "      <td>6.0</td>\n",
       "      <td>3.0</td>\n",
       "      <td>8.0</td>\n",
       "      <td>4.0</td>\n",
       "      <td>...</td>\n",
       "      <td>0</td>\n",
       "      <td>0</td>\n",
       "      <td>1</td>\n",
       "      <td>1</td>\n",
       "      <td>1</td>\n",
       "      <td>0</td>\n",
       "      <td>1</td>\n",
       "      <td>1</td>\n",
       "      <td>0</td>\n",
       "      <td>0</td>\n",
       "    </tr>\n",
       "    <tr>\n",
       "      <th>30317</th>\n",
       "      <td>3.0</td>\n",
       "      <td>6.0</td>\n",
       "      <td>1.0</td>\n",
       "      <td>3.0</td>\n",
       "      <td>4.0</td>\n",
       "      <td>3.0</td>\n",
       "      <td>5.0</td>\n",
       "      <td>3.0</td>\n",
       "      <td>5.0</td>\n",
       "      <td>6.0</td>\n",
       "      <td>...</td>\n",
       "      <td>0</td>\n",
       "      <td>0</td>\n",
       "      <td>0</td>\n",
       "      <td>0</td>\n",
       "      <td>1</td>\n",
       "      <td>1</td>\n",
       "      <td>1</td>\n",
       "      <td>0</td>\n",
       "      <td>1</td>\n",
       "      <td>0</td>\n",
       "    </tr>\n",
       "    <tr>\n",
       "      <th>30318</th>\n",
       "      <td>4.0</td>\n",
       "      <td>5.0</td>\n",
       "      <td>1.0</td>\n",
       "      <td>4.0</td>\n",
       "      <td>7.0</td>\n",
       "      <td>2.0</td>\n",
       "      <td>0.0</td>\n",
       "      <td>3.0</td>\n",
       "      <td>1.0</td>\n",
       "      <td>8.0</td>\n",
       "      <td>...</td>\n",
       "      <td>0</td>\n",
       "      <td>0</td>\n",
       "      <td>1</td>\n",
       "      <td>1</td>\n",
       "      <td>1</td>\n",
       "      <td>1</td>\n",
       "      <td>1</td>\n",
       "      <td>0</td>\n",
       "      <td>1</td>\n",
       "      <td>0</td>\n",
       "    </tr>\n",
       "  </tbody>\n",
       "</table>\n",
       "<p>30319 rows × 328 columns</p>\n",
       "</div>"
      ],
      "text/plain": [
       "       turnoutUKGeneral__Very likely that I will vote  \\\n",
       "0                                                 4.0   \n",
       "1                                                 4.0   \n",
       "2                                                 3.0   \n",
       "3                                                 4.0   \n",
       "4                                                 4.0   \n",
       "...                                               ...   \n",
       "30314                                             4.0   \n",
       "30315                                             1.0   \n",
       "30316                                             3.0   \n",
       "30317                                             3.0   \n",
       "30318                                             4.0   \n",
       "\n",
       "       generalElectionCertainty__Completely certain  \\\n",
       "0                                               6.0   \n",
       "1                                               5.0   \n",
       "2                                               6.0   \n",
       "3                                               6.0   \n",
       "4                                               5.0   \n",
       "...                                             ...   \n",
       "30314                                           3.0   \n",
       "30315                                           6.0   \n",
       "30316                                           3.0   \n",
       "30317                                           6.0   \n",
       "30318                                           5.0   \n",
       "\n",
       "       partyIdStrength__Not very strong  \\\n",
       "0                                   0.0   \n",
       "1                                   1.0   \n",
       "2                                   2.0   \n",
       "3                                   0.0   \n",
       "4                                   1.0   \n",
       "...                                 ...   \n",
       "30314                               1.0   \n",
       "30315                               1.0   \n",
       "30316                               2.0   \n",
       "30317                               1.0   \n",
       "30318                               1.0   \n",
       "\n",
       "       expectGoodConductEURef__Conducted unfairly  \\\n",
       "0                                             0.0   \n",
       "1                                             0.0   \n",
       "2                                             3.0   \n",
       "3                                             4.0   \n",
       "4                                             0.0   \n",
       "...                                           ...   \n",
       "30314                                         4.0   \n",
       "30315                                         2.0   \n",
       "30316                                         0.0   \n",
       "30317                                         3.0   \n",
       "30318                                         4.0   \n",
       "\n",
       "       polAttention__Pay a great deal of attention  \\\n",
       "0                                              7.0   \n",
       "1                                              8.0   \n",
       "2                                              8.0   \n",
       "3                                              5.0   \n",
       "4                                              9.0   \n",
       "...                                            ...   \n",
       "30314                                          5.0   \n",
       "30315                                          1.0   \n",
       "30316                                          5.0   \n",
       "30317                                          4.0   \n",
       "30318                                          7.0   \n",
       "\n",
       "       britishness__Very strongly British  englishness__Very strongly English  \\\n",
       "0                                     3.0                                 6.0   \n",
       "1                                     4.0                                 4.0   \n",
       "2                                     5.0                                 4.0   \n",
       "3                                     5.0                                 0.0   \n",
       "4                                     6.0                                 6.0   \n",
       "...                                   ...                                 ...   \n",
       "30314                                 5.0                                 4.0   \n",
       "30315                                 3.0                                 3.0   \n",
       "30316                                 6.0                                 6.0   \n",
       "30317                                 3.0                                 5.0   \n",
       "30318                                 2.0                                 0.0   \n",
       "\n",
       "       europeanness__Very strongly European  likeMay__Strongly like  \\\n",
       "0                                       0.0                     4.0   \n",
       "1                                       3.0                     7.0   \n",
       "2                                       2.0                     5.0   \n",
       "3                                       4.0                     0.0   \n",
       "4                                       4.0                     8.0   \n",
       "...                                     ...                     ...   \n",
       "30314                                   4.0                     3.0   \n",
       "30315                                   3.0                     5.0   \n",
       "30316                                   3.0                     8.0   \n",
       "30317                                   3.0                     5.0   \n",
       "30318                                   3.0                     1.0   \n",
       "\n",
       "       likeCorbyn__Strongly like  ...  expectAccess_Yes  \\\n",
       "0                            0.0  ...                 0   \n",
       "1                            1.0  ...                 0   \n",
       "2                            2.0  ...                 0   \n",
       "3                           10.0  ...                 0   \n",
       "4                            0.0  ...                 1   \n",
       "...                          ...  ...               ...   \n",
       "30314                        8.0  ...                 0   \n",
       "30315                        2.0  ...                 0   \n",
       "30316                        4.0  ...                 0   \n",
       "30317                        6.0  ...                 0   \n",
       "30318                        8.0  ...                 0   \n",
       "\n",
       "       negotiationSpecifics_none_Yes  negotiationSpecifics_3_Yes  \\\n",
       "0                                  0                           1   \n",
       "1                                  0                           1   \n",
       "2                                  0                           1   \n",
       "3                                  0                           1   \n",
       "4                                  0                           0   \n",
       "...                              ...                         ...   \n",
       "30314                              0                           1   \n",
       "30315                              0                           1   \n",
       "30316                              0                           1   \n",
       "30317                              0                           0   \n",
       "30318                              0                           1   \n",
       "\n",
       "       negotiationSpecifics_2_Yes  negotiationSpecifics_1_Yes  \\\n",
       "0                               1                           1   \n",
       "1                               1                           1   \n",
       "2                               0                           1   \n",
       "3                               1                           1   \n",
       "4                               0                           1   \n",
       "...                           ...                         ...   \n",
       "30314                           1                           1   \n",
       "30315                           1                           1   \n",
       "30316                           1                           1   \n",
       "30317                           0                           1   \n",
       "30318                           1                           1   \n",
       "\n",
       "       bestPM_Jeremy Corbyn  profile_eurefturnout_Yes  gender_Female  \\\n",
       "0                         0                         1              0   \n",
       "1                         0                         1              1   \n",
       "2                         0                         1              1   \n",
       "3                         1                         1              0   \n",
       "4                         0                         1              0   \n",
       "...                     ...                       ...            ...   \n",
       "30314                     1                         1              1   \n",
       "30315                     0                         1              1   \n",
       "30316                     0                         1              1   \n",
       "30317                     1                         1              0   \n",
       "30318                     1                         1              0   \n",
       "\n",
       "       euRefDoOver_Yes  regretsIHaveAFewEU_Yes  \n",
       "0                    0                       0  \n",
       "1                    0                       0  \n",
       "2                    0                       0  \n",
       "3                    1                       0  \n",
       "4                    0                       0  \n",
       "...                ...                     ...  \n",
       "30314                1                       0  \n",
       "30315                0                       0  \n",
       "30316                0                       0  \n",
       "30317                1                       0  \n",
       "30318                1                       0  \n",
       "\n",
       "[30319 rows x 328 columns]"
      ]
     },
     "execution_count": 42,
     "metadata": {},
     "output_type": "execute_result"
    }
   ],
   "source": [
    "X"
   ]
  },
  {
   "cell_type": "code",
   "execution_count": 2,
   "id": "ab51e02c",
   "metadata": {},
   "outputs": [
    {
     "data": {
      "text/html": [
       "<script>jQuery(function() {if (jQuery(\"body.notebook_app\").length == 0) { jQuery(\".input_area\").toggle(); jQuery(\".prompt\").toggle();}});</script>"
      ]
     },
     "metadata": {},
     "output_type": "display_data"
    },
    {
     "data": {
      "text/html": [
       "<button onclick=\"jQuery('.input_area').toggle(); jQuery('.prompt').toggle();\">Toggle code</button>"
      ]
     },
     "metadata": {},
     "output_type": "display_data"
    },
    {
     "name": "stdout",
     "output_type": "stream",
     "text": [
      "var_type (463, 14)\n",
      "Wall time: 4.06 s\n"
     ]
    }
   ],
   "source": [
    "%%time\n",
    "dataset_name = \"W20_only\"\n",
    "df_list = \"BES_reduced|BES_Panel\"\n",
    "\n",
    "%matplotlib inline \n",
    "%run BES_header.py {dataset_name} {df_list}\n",
    "(var_type, cat_dictionary, new_old_col_names, old_new_col_names) = get_small_files(data_subfolder, encoding)    \n",
    "# get full set of inferred \"cross wave\" auth-lib/left-right values and ages\n",
    "# pan_dataset_allr_values = pd.read_pickle(BES_small_data_files + \"pan_dataset_allr_valuesW19\"+\".zip\",compression='zip')\n",
    "# # pan_dataset_allr_values = pan_dataset_allr_values.loc[BES_Panel.index].sort_index()\n",
    "# pan_dataset_ages = pd.read_pickle(BES_small_data_files + \"pan_dataset_ages\"+\".zip\", compression='zip')\n",
    "# pan_dataset_votes = pd.read_pickle(BES_small_data_files+\"pan_dataset_votes\"+\".zip\",compression='zip')\n"
   ]
  },
  {
   "cell_type": "code",
   "execution_count": 9,
   "id": "c1a7efe6",
   "metadata": {},
   "outputs": [
    {
     "data": {
      "text/html": [
       "['p_eurefvote_I voted to leave', 'p_eurefturnout_Yes', 'euRefVoteAfter_Stay out of the EU', 'euID_The leave side']"
      ],
      "text/plain": [
       "['p_eurefvote_I voted to leave',\n",
       " 'p_eurefturnout_Yes',\n",
       " 'euRefVoteAfter_Stay out of the EU',\n",
       " 'euID_The leave side']"
      ]
     },
     "execution_count": 9,
     "metadata": {},
     "output_type": "execute_result"
    }
   ],
   "source": [
    "drop_vars = []\n",
    "drop_vars.extend( [x for x in BES_reduced.columns if \"euref\" in x.lower() ] )\n",
    "drop_vars.extend( [x for x in BES_reduced.columns if \"euid_\" in x.lower() ] )\n",
    "drop_vars.extend( [x for x in BES_reduced.columns if \"happyeuleave\" in x.lower() ] )\n",
    "# drop_vars.extend( [x for x in BES_reduced.columns if \"euref\" in x.lower() ] )\n",
    "\n",
    "\n",
    "drop_vars                 "
   ]
  },
  {
   "cell_type": "code",
   "execution_count": 4,
   "id": "6ad9e5f6",
   "metadata": {},
   "outputs": [],
   "source": [
    "y = BES_reduced['p_eurefvote_I voted to leave']\n",
    "y = to_categorical(y)\n",
    "X = BES_reduced\n",
    "#.drop(drop_vars,axis=1)\n",
    "\n",
    "# X = X[[\"EUIntegrationSelf__Protect our independence\"]]"
   ]
  },
  {
   "cell_type": "code",
   "execution_count": 80,
   "id": "cc838cda",
   "metadata": {},
   "outputs": [],
   "source": [
    "# X = X.reset_index(drop=True)"
   ]
  },
  {
   "cell_type": "code",
   "execution_count": 62,
   "id": "aa751ea6",
   "metadata": {},
   "outputs": [
    {
     "data": {
      "text/plain": [
       "0    18333\n",
       "1    13135\n",
       "Name: p_eurefvote_I voted to leave, dtype: int64"
      ]
     },
     "execution_count": 62,
     "metadata": {},
     "output_type": "execute_result"
    }
   ],
   "source": [
    "BES_reduced['p_eurefvote_I voted to leave'].value_counts(dropna=False)"
   ]
  },
  {
   "cell_type": "code",
   "execution_count": 67,
   "id": "36f76f83",
   "metadata": {},
   "outputs": [
    {
     "data": {
      "text/plain": [
       "EUIntegrationSelf__Protect our independence    31468\n",
       "dtype: int64"
      ]
     },
     "execution_count": 67,
     "metadata": {},
     "output_type": "execute_result"
    }
   ],
   "source": [
    "search(X,\"EUIntegrationSelf\")"
   ]
  },
  {
   "cell_type": "code",
   "execution_count": 81,
   "id": "d79bbb6f",
   "metadata": {},
   "outputs": [
    {
     "data": {
      "image/png": "[encoded data removed]",
      "text/plain": [
       "<Figure size 432x288 with 1 Axes>"
      ]
     },
     "metadata": {},
     "output_type": "display_data"
    },
    {
     "name": "stdout",
     "output_type": "stream",
     "text": [
      "277.89589500427246\n"
     ]
    }
   ],
   "source": [
    "start_time = time.time()\n",
    "\n",
    "early_stopping_monitor = EarlyStopping(patience=3)\n",
    "\n",
    "n_neurons_layer = 500\n",
    "\n",
    "# Create the model: model\n",
    "model = Sequential()\n",
    "\n",
    "# Add the first hidden layer\n",
    "input_shape = (X.shape[1],)\n",
    "model.add( Dense(n_neurons_layer, activation='relu', input_shape = input_shape) )\n",
    "\n",
    "# Add the second hidden layer\n",
    "model.add( Dense(n_neurons_layer, activation='relu') )\n",
    "\n",
    "# Add the third hidden layer\n",
    "model.add( Dense(n_neurons_layer, activation='relu') )\n",
    "\n",
    "# Add the fourth hidden layer\n",
    "model.add( Dense(n_neurons_layer, activation='relu') )\n",
    "\n",
    "# Add the output layer\n",
    "no_of_outputs = len(np.unique(y))\n",
    "model.add( Dense( no_of_outputs , activation='softmax') )\n",
    "\n",
    "# Compile the model\n",
    "model.compile( optimizer = 'adam',\n",
    "               loss = 'categorical_crossentropy',\n",
    "               metrics=['accuracy'])\n",
    "\n",
    "# Fit the model\n",
    "# X -> X.values\n",
    "model_training = model.fit(X.values, y, epochs=15, validation_split=0.2, callbacks=[early_stopping_monitor], verbose=False)\n",
    "\n",
    "# Create the plot\n",
    "plt.plot(model_training.history['val_loss'], 'r')\n",
    "plt.xlabel('Epochs')\n",
    "plt.ylabel('Validation score')\n",
    "plt.show()\n",
    "\n",
    "elapsed_time = time.time() - start_time\n",
    "print(elapsed_time)"
   ]
  },
  {
   "cell_type": "code",
   "execution_count": 82,
   "id": "ac2a5b44",
   "metadata": {},
   "outputs": [],
   "source": [
    "# %%time\n",
    "\n",
    "# hasattr(tf_gradients_impl, \"_IsBackpropagatable\")\n",
    "background = X.loc[X.index[np.random.choice(X.shape[0], 200, replace=False)]]\n",
    "\n",
    "# e = shap.DeepExplainer((model.layers[0].input, model.layers[-1].output), background)\n",
    "e = shap.DeepExplainer(model, background.values)\n",
    "shap_values = e.shap_values(background.values)"
   ]
  },
  {
   "cell_type": "code",
   "execution_count": 83,
   "id": "05452135",
   "metadata": {},
   "outputs": [
    {
     "data": {
      "image/png": "[encoded data removed]",
      "text/plain": [
       "<Figure size 576x684 with 2 Axes>"
      ]
     },
     "metadata": {},
     "output_type": "display_data"
    },
    {
     "name": "stdout",
     "output_type": "stream",
     "text": [
      "Wall time: 634 ms\n"
     ]
    }
   ],
   "source": [
    "%%time\n",
    "shap.summary_plot(shap_values[0], background, plot_type='dot')"
   ]
  },
  {
   "cell_type": "code",
   "execution_count": 106,
   "id": "f303a2eb",
   "metadata": {},
   "outputs": [
    {
     "data": {
      "text/plain": [
       "738"
      ]
     },
     "execution_count": 106,
     "metadata": {},
     "output_type": "execute_result"
    }
   ],
   "source": [
    "X.shape[1]"
   ]
  },
  {
   "cell_type": "code",
   "execution_count": 6,
   "id": "31638789",
   "metadata": {},
   "outputs": [
    {
     "data": {
      "text/plain": [
       "p_eurefvote_I voted to leave         31468\n",
       "p_eurefturnout_Yes                   31468\n",
       "euRefVoteAfter_Stay out of the EU    31468\n",
       "dtype: int64"
      ]
     },
     "execution_count": 6,
     "metadata": {},
     "output_type": "execute_result"
    }
   ],
   "source": [
    "search(BES_reduced,\"euRef\")"
   ]
  },
  {
   "cell_type": "code",
   "execution_count": null,
   "id": "5593523c",
   "metadata": {},
   "outputs": [],
   "source": []
  },
  {
   "cell_type": "code",
   "execution_count": 77,
   "id": "73879431",
   "metadata": {},
   "outputs": [
    {
     "data": {
      "text/plain": [
       "europeanness__Very strongly European    -0.505684\n",
       "immigSelf__Allow many more              -0.494151\n",
       "immigCultural__Enriches cultural life   -0.476114\n",
       "immigEcon__Good for economy             -0.443282\n",
       "likeLD__Strongly like                   -0.423664\n",
       "likeLab__Strongly like                  -0.407686\n",
       "ptvLD__Very likely                      -0.406763\n",
       "ptvLab__Very likely                     -0.398804\n",
       "likeGrn__Strongly like                  -0.382075\n",
       "likeStarmer__Strongly like              -0.346852\n",
       "dtype: float64"
      ]
     },
     "execution_count": 77,
     "metadata": {},
     "output_type": "execute_result"
    }
   ],
   "source": [
    "BES_reduced.corrwith( BES_reduced['p_eurefvote_I voted to leave'] ).sort_values().head(10)"
   ]
  },
  {
   "cell_type": "code",
   "execution_count": null,
   "id": "def9bca2",
   "metadata": {},
   "outputs": [],
   "source": []
  },
  {
   "cell_type": "code",
   "execution_count": 3,
   "id": "b3e7c078",
   "metadata": {},
   "outputs": [],
   "source": []
  },
  {
   "cell_type": "code",
   "execution_count": 104,
   "id": "f07b548f",
   "metadata": {},
   "outputs": [],
   "source": [
    "# # (x_train, _), (x_test, _) = fashion_mnist.load_data()\n",
    "\n",
    "# from tensorflow.python.keras._impl.keras.datasets.mnist import load_data\n",
    "# (x_train, _), (x_test, _) = load_data()\n",
    "\n",
    "# x_train = x_train.astype('float32') / 255.\n",
    "# x_test = x_test.astype('float32') / 255.\n",
    "\n",
    "# print (x_train.shape)\n",
    "# print (x_test.shape)"
   ]
  },
  {
   "cell_type": "code",
   "execution_count": 103,
   "id": "7e42678c",
   "metadata": {},
   "outputs": [],
   "source": [
    "# latent_dim = 64 \n",
    "\n",
    "# class Autoencoder(Model):\n",
    "#   def __init__(self, latent_dim):\n",
    "#     super(Autoencoder, self).__init__()\n",
    "#     self.latent_dim = latent_dim   \n",
    "#     self.encoder = tf.keras.Sequential([\n",
    "#       layers.Flatten(),\n",
    "#       layers.Dense(latent_dim, activation='relu'),\n",
    "#     ])\n",
    "#     self.decoder = tf.keras.Sequential([\n",
    "#       layers.Dense(784, activation='sigmoid'),\n",
    "#       layers.Reshape((28, 28))\n",
    "#     ])\n",
    "\n",
    "#   def call(self, x):\n",
    "#     encoded = self.encoder(x)\n",
    "#     decoded = self.decoder(encoded)\n",
    "#     return decoded\n",
    "\n",
    "# autoencoder = Autoencoder(latent_dim)\n",
    "\n",
    "# autoencoder.compile(optimizer='adam', loss=losses.MeanSquaredError())"
   ]
  },
  {
   "cell_type": "code",
   "execution_count": null,
   "id": "bb0c5d13",
   "metadata": {},
   "outputs": [],
   "source": []
  },
  {
   "cell_type": "code",
   "execution_count": 4,
   "id": "99d0b66c",
   "metadata": {},
   "outputs": [],
   "source": []
  },
  {
   "cell_type": "code",
   "execution_count": 101,
   "id": "74f41376",
   "metadata": {},
   "outputs": [
    {
     "name": "stdout",
     "output_type": "stream",
     "text": [
      "(60000, 784)\n",
      "(10000, 784)\n",
      "Train on 60000 samples, validate on 10000 samples\n",
      "Epoch 1/50\n",
      " - 4s - loss: 0.3705 - val_loss: 0.2721\n",
      "Epoch 2/50\n",
      " - 4s - loss: 0.2647 - val_loss: 0.2538\n",
      "Epoch 3/50\n",
      " - 4s - loss: 0.2433 - val_loss: 0.2305\n",
      "Epoch 4/50\n",
      " - 4s - loss: 0.2225 - val_loss: 0.2124\n",
      "Epoch 5/50\n",
      " - 4s - loss: 0.2069 - val_loss: 0.1991\n",
      "Epoch 6/50\n",
      " - 4s - loss: 0.1955 - val_loss: 0.1893\n",
      "Epoch 7/50\n",
      " - 4s - loss: 0.1868 - val_loss: 0.1816\n",
      "Epoch 8/50\n",
      " - 4s - loss: 0.1798 - val_loss: 0.1752\n",
      "Epoch 9/50\n",
      " - 4s - loss: 0.1739 - val_loss: 0.1697\n",
      "Epoch 10/50\n",
      " - 4s - loss: 0.1687 - val_loss: 0.1648\n",
      "Epoch 11/50\n",
      " - 4s - loss: 0.1641 - val_loss: 0.1604\n",
      "Epoch 12/50\n",
      " - 4s - loss: 0.1598 - val_loss: 0.1563\n",
      "Epoch 13/50\n",
      " - 3s - loss: 0.1560 - val_loss: 0.1527\n",
      "Epoch 14/50\n",
      " - 4s - loss: 0.1524 - val_loss: 0.1492\n",
      "Epoch 15/50\n",
      " - 4s - loss: 0.1491 - val_loss: 0.1460\n",
      "Epoch 16/50\n",
      " - 4s - loss: 0.1461 - val_loss: 0.1431\n",
      "Epoch 17/50\n",
      " - 4s - loss: 0.1434 - val_loss: 0.1406\n",
      "Epoch 18/50\n",
      " - 4s - loss: 0.1408 - val_loss: 0.1380\n",
      "Epoch 19/50\n",
      " - 4s - loss: 0.1384 - val_loss: 0.1356\n",
      "Epoch 20/50\n",
      " - 3s - loss: 0.1361 - val_loss: 0.1334\n",
      "Epoch 21/50\n",
      " - 4s - loss: 0.1340 - val_loss: 0.1313\n",
      "Epoch 22/50\n",
      " - 4s - loss: 0.1319 - val_loss: 0.1293\n",
      "Epoch 23/50\n",
      " - 4s - loss: 0.1300 - val_loss: 0.1274\n",
      "Epoch 24/50\n",
      " - 4s - loss: 0.1281 - val_loss: 0.1255\n",
      "Epoch 25/50\n",
      " - 3s - loss: 0.1263 - val_loss: 0.1239\n",
      "Epoch 26/50\n",
      " - 3s - loss: 0.1246 - val_loss: 0.1221\n",
      "Epoch 27/50\n",
      " - 4s - loss: 0.1230 - val_loss: 0.1207\n",
      "Epoch 28/50\n",
      " - 4s - loss: 0.1215 - val_loss: 0.1191\n",
      "Epoch 29/50\n",
      " - 4s - loss: 0.1201 - val_loss: 0.1176\n",
      "Epoch 30/50\n",
      " - 4s - loss: 0.1187 - val_loss: 0.1163\n",
      "Epoch 31/50\n",
      " - 5s - loss: 0.1174 - val_loss: 0.1151\n",
      "Epoch 32/50\n",
      " - 4s - loss: 0.1162 - val_loss: 0.1140\n",
      "Epoch 33/50\n",
      " - 4s - loss: 0.1151 - val_loss: 0.1129\n",
      "Epoch 34/50\n",
      " - 4s - loss: 0.1141 - val_loss: 0.1119\n",
      "Epoch 35/50\n",
      " - 4s - loss: 0.1131 - val_loss: 0.1110\n",
      "Epoch 36/50\n",
      " - 4s - loss: 0.1122 - val_loss: 0.1101\n",
      "Epoch 37/50\n",
      " - 3s - loss: 0.1114 - val_loss: 0.1093\n",
      "Epoch 38/50\n",
      " - 3s - loss: 0.1106 - val_loss: 0.1086\n",
      "Epoch 39/50\n",
      " - 4s - loss: 0.1099 - val_loss: 0.1079\n",
      "Epoch 40/50\n",
      " - 4s - loss: 0.1092 - val_loss: 0.1072\n",
      "Epoch 41/50\n",
      " - 3s - loss: 0.1086 - val_loss: 0.1067\n",
      "Epoch 42/50\n",
      " - 3s - loss: 0.1080 - val_loss: 0.1061\n",
      "Epoch 43/50\n",
      " - 3s - loss: 0.1075 - val_loss: 0.1055\n",
      "Epoch 44/50\n",
      " - 3s - loss: 0.1070 - val_loss: 0.1050\n",
      "Epoch 45/50\n",
      " - 4s - loss: 0.1065 - val_loss: 0.1046\n",
      "Epoch 46/50\n",
      " - 3s - loss: 0.1060 - val_loss: 0.1041\n",
      "Epoch 47/50\n",
      " - 3s - loss: 0.1056 - val_loss: 0.1037\n",
      "Epoch 48/50\n",
      " - 3s - loss: 0.1052 - val_loss: 0.1033\n",
      "Epoch 49/50\n",
      " - 4s - loss: 0.1048 - val_loss: 0.1030\n",
      "Epoch 50/50\n",
      " - 4s - loss: 0.1044 - val_loss: 0.1026\n"
     ]
    },
    {
     "data": {
      "image/png": "[encoded data removed]",
      "text/plain": [
       "<Figure size 1000x200 with 20 Axes>"
      ]
     },
     "metadata": {},
     "output_type": "display_data"
    }
   ],
   "source": [
    "\n",
    "\n",
    "# Single fully-connected neural layer as encoder and decoder\n",
    "use_regularizer = False\n",
    "my_regularizer = None\n",
    "my_epochs = 50\n",
    "features_path = 'simple_autoe_features.pickle'\n",
    "labels_path = 'simple_autoe_labels.pickle'\n",
    "\n",
    "if use_regularizer:\n",
    "    # add a sparsity constraint on the encoded representations\n",
    "    # note use of 10e-5 leads to blurred results\n",
    "    my_regularizer = regularizers.l1(10e-8)\n",
    "    # and a larger number of epochs as the added regularization the model\n",
    "    # is less likely to overfit and can be trained longer\n",
    "    my_epochs = 100\n",
    "    features_path = 'sparse_autoe_features.pickle'\n",
    "    labels_path = 'sparse_autoe_labels.pickle'\n",
    "\n",
    "# this is the size of our encoded representations\n",
    "encoding_dim = 32   # 32 floats -> compression factor 24.5, assuming the input is 784 floats\n",
    "\n",
    "# this is our input placeholder; 784 = 28 x 28\n",
    "input_img = Input(shape=(784, ))\n",
    "\n",
    "# \"encoded\" is the encoded representation of the inputs\n",
    "encoded = Dense(encoding_dim, activation='relu', activity_regularizer=my_regularizer)(input_img)\n",
    "\n",
    "# \"decoded\" is the lossy reconstruction of the input\n",
    "decoded = Dense(784, activation='sigmoid')(encoded)\n",
    "\n",
    "# this model maps an input to its reconstruction\n",
    "autoencoder = Model(input_img, decoded)\n",
    "\n",
    "# Separate Encoder model\n",
    "\n",
    "# this model maps an input to its encoded representation\n",
    "encoder = Model(input_img, encoded)\n",
    "\n",
    "# Separate Decoder model\n",
    "\n",
    "# create a placeholder for an encoded (32-dimensional) input\n",
    "encoded_input = Input(shape=(encoding_dim,))\n",
    "# retrieve the last layer of the autoencoder model\n",
    "decoder_layer = autoencoder.layers[-1]\n",
    "# create the decoder model\n",
    "decoder = Model(encoded_input, decoder_layer(encoded_input))\n",
    "\n",
    "# Train to reconstruct MNIST digits\n",
    "\n",
    "# configure model to use a per-pixel binary crossentropy loss, and the Adadelta optimizer\n",
    "autoencoder.compile(optimizer='adadelta', loss='binary_crossentropy')\n",
    "\n",
    "# prepare input data\n",
    "(x_train, _), (x_test, y_test) = mnist.load_data()\n",
    "\n",
    "# normalize all values between 0 and 1 and flatten the 28x28 images into vectors of size 784\n",
    "x_train = x_train.astype('float32') / 255.\n",
    "x_test = x_test.astype('float32') / 255.\n",
    "x_train = x_train.reshape((len(x_train), np.prod(x_train.shape[1:])))\n",
    "x_test = x_test.reshape((len(x_test), np.prod(x_test.shape[1:])))\n",
    "print(x_train.shape)\n",
    "print(x_test.shape)\n",
    "\n",
    "# Train autoencoder for 50 epochs\n",
    "\n",
    "autoencoder.fit(x_train, x_train, epochs=my_epochs, batch_size=256, shuffle=True, validation_data=(x_test, x_test),\n",
    "                verbose=2)\n",
    "\n",
    "# after 50/100 epochs the autoencoder seems to reach a stable train/test lost value\n",
    "\n",
    "# Visualize the reconstructed encoded representations\n",
    "\n",
    "# encode and decode some digits\n",
    "# note that we take them from the *test* set\n",
    "encoded_imgs = encoder.predict(x_test)\n",
    "decoded_imgs = decoder.predict(encoded_imgs)\n",
    "\n",
    "# save latent space features 32-d vector\n",
    "pickle.dump(encoded_imgs, open(features_path, 'wb'))\n",
    "pickle.dump(y_test, open(labels_path, 'wb'))\n",
    "\n",
    "n = 10  # how many digits we will display\n",
    "plt.figure(figsize=(10, 2), dpi=100)\n",
    "for i in range(n):\n",
    "    # display original\n",
    "    ax = plt.subplot(2, n, i + 1)\n",
    "    plt.imshow(x_test[i].reshape(28, 28))\n",
    "    plt.gray()\n",
    "    ax.set_axis_off()\n",
    "\n",
    "    # display reconstruction\n",
    "    ax = plt.subplot(2, n, i + n + 1)\n",
    "    plt.imshow(decoded_imgs[i].reshape(28, 28))\n",
    "    plt.gray()\n",
    "    ax.set_axis_off()\n",
    "\n",
    "plt.show()"
   ]
  },
  {
   "cell_type": "code",
   "execution_count": 7,
   "id": "3d622388",
   "metadata": {},
   "outputs": [],
   "source": [
    "X_old = X.copy()"
   ]
  },
  {
   "cell_type": "code",
   "execution_count": 8,
   "id": "7a470bab",
   "metadata": {},
   "outputs": [],
   "source": [
    "X=X/X.max()"
   ]
  },
  {
   "cell_type": "code",
   "execution_count": 9,
   "id": "75b5cf4f",
   "metadata": {},
   "outputs": [],
   "source": [
    "\n"
   ]
  },
  {
   "cell_type": "code",
   "execution_count": 10,
   "id": "a57e5f09",
   "metadata": {},
   "outputs": [],
   "source": [
    "low_var_columns = X.columns[X.var()<.05]\n",
    "X.drop(low_var_columns,axis=1,inplace=True)"
   ]
  },
  {
   "cell_type": "code",
   "execution_count": 5,
   "id": "ae530217",
   "metadata": {},
   "outputs": [],
   "source": [
    "\n",
    "\n"
   ]
  },
  {
   "cell_type": "code",
   "execution_count": 6,
   "id": "c719ea9e",
   "metadata": {},
   "outputs": [],
   "source": []
  },
  {
   "cell_type": "code",
   "execution_count": null,
   "id": "023bb1f9",
   "metadata": {},
   "outputs": [],
   "source": []
  },
  {
   "cell_type": "code",
   "execution_count": null,
   "id": "0f0a1525",
   "metadata": {},
   "outputs": [],
   "source": []
  },
  {
   "cell_type": "code",
   "execution_count": 10,
   "id": "d8449e56",
   "metadata": {},
   "outputs": [],
   "source": [
    "def run_autoencoder(encoding_dim=32,hidden_size=100,verbose=2):\n",
    "\n",
    "    # Single fully-connected neural layer as encoder and decoder\n",
    "    use_regularizer = True\n",
    "    my_regularizer = None\n",
    "    my_epochs = 50\n",
    "    features_path = 'simple_autoe_features.pickle'\n",
    "    labels_path = 'simple_autoe_labels.pickle'\n",
    "\n",
    "    early_stopping_monitor = EarlyStopping(patience=3)\n",
    "\n",
    "    if use_regularizer:\n",
    "        # add a sparsity constraint on the encoded representations\n",
    "        # note use of 10e-5 leads to blurred results\n",
    "    #     my_regularizer = regularizers.l1(10e-8)\n",
    "        # and a larger number of epochs as the added regularization the model\n",
    "        # is less likely to overfit and can be trained longer\n",
    "        my_epochs = 100\n",
    "        features_path = 'sparse_autoe_features.pickle'\n",
    "        labels_path = 'sparse_autoe_labels.pickle'\n",
    "\n",
    "    # this is the size of our encoded representations\n",
    "    # encoding_dim = encoding_dim   # 32 floats -> compression factor 24.5, assuming the input is 784 floats\n",
    "    # hidden_size = hidden_size\n",
    "\n",
    "\n",
    "    # this is our input placeholder; 784 = 28 x 28\n",
    "    # input_img = Input(shape=(784, ))\n",
    "\n",
    "    input_img = Input(shape=(X.shape[1], ))\n",
    "\n",
    "    # \"encoded\" is the encoded representation of the inputs\n",
    "    hidden_encoder = Dense(hidden_size, activation = 'relu',\n",
    "                           activity_regularizer=regularizers.l1(10e-7) )(input_img)\n",
    "    encoded = Dense(encoding_dim, activation='relu',\n",
    "                    kernel_regularizer=regularizers.l2(10e-7))(hidden_encoder)\n",
    "    # encoded = Dense(encoding_dim, activation='relu', activity_regularizer=my_regularizer)(input_img)\n",
    "\n",
    "\n",
    "    # \"decoded\" is the lossy reconstruction of the input\n",
    "    # decoded = Dense(X.shape[1], activation='sigmoid')(encoded)\n",
    "\n",
    "    hidden_decoder = Dense(hidden_size, activation = 'relu',\n",
    "                          kernel_regularizer=regularizers.l2(10e-7))(encoded)\n",
    "    decoded = Dense(X.shape[1], activation='linear',\n",
    "                          kernel_regularizer=regularizers.l2(10e-7))(hidden_decoder)\n",
    "    # decoded = Dense(X.shape[1], activation='linear')(encoded)\n",
    "    # decoded = Dense(X.shape[1], activation='softmax')(encoded)\n",
    "\n",
    "    # this model maps an input to its reconstruction\n",
    "    autoencoder = Model(input_img, decoded)\n",
    "\n",
    "    # Separate Encoder model\n",
    "\n",
    "    # this model maps an input to its encoded representation\n",
    "    encoder = Model(input_img, encoded)\n",
    "\n",
    "    # Separate Decoder model\n",
    "\n",
    "    # create a placeholder for an encoded (32-dimensional) input\n",
    "    encoded_input = Input(shape=(encoding_dim,))\n",
    "    # hidden_layer_input = Input(shape=(hidden_size,))\n",
    "    # retrieve the last layer of the autoencoder model\n",
    "    ## changed to -2 after adding hidden layer!\n",
    "    # decoder_layer = autoencoder.layers[-1]\n",
    "    # create the decoder model\n",
    "    # decoder = Model(encoded_input, decoder_layer(hidden_layer_input))\n",
    "    from tensorflow.python.keras.layers import InputLayer\n",
    "    encoded_input_layer = InputLayer(input_shape=(encoding_dim,))\n",
    "    # decoder = Model(encoded_input, decoder_layer(encoded_input))\n",
    "\n",
    "    decoder = extract_layers(autoencoder, -2, -1, encoded_input_layer)\n",
    "\n",
    "    # Train to reconstruct MNIST digits\n",
    "\n",
    "    # configure model to use a per-pixel binary crossentropy loss, and the Adadelta optimizer\n",
    "    # autoencoder.compile(optimizer='adadelta', loss='binary_crossentropy')\n",
    "\n",
    "    # autoencoder.compile(optimizer='adadelta', loss='binary_crossentropy')\n",
    "\n",
    "    autoencoder.compile( optimizer = 'adam',\n",
    "    #                loss = 'categorical_crossentropy',\n",
    "    #                loss = 'categorical_crossentropy',\n",
    "                   loss = 'mean_squared_error',     \n",
    "                   metrics=['accuracy','mse'])\n",
    "\n",
    "\n",
    "    # # prepare input data\n",
    "    # (x_train, _), (x_test, y_test) = mnist.load_data()\n",
    "\n",
    "    # # normalize all values between 0 and 1 and flatten the 28x28 images into vectors of size 784\n",
    "    # x_train = x_train.astype('float32') / 255.\n",
    "    # x_test = x_test.astype('float32') / 255.\n",
    "    # x_train = x_train.reshape((len(x_train), np.prod(x_train.shape[1:])))\n",
    "    # x_test = x_test.reshape((len(x_test), np.prod(x_test.shape[1:])))\n",
    "    # print(x_train.shape)\n",
    "    # print(x_test.shape)\n",
    "\n",
    "    X_train, X_test, y_train, y_test = train_test_split(\n",
    "        X, y, test_size=0.33, random_state=42)\n",
    "\n",
    "    # Train autoencoder for 50 epochs\n",
    "\n",
    "    autoencoder.fit(X_train.values, X_train.values, epochs=my_epochs, batch_size=256,\n",
    "                    shuffle=True, validation_data=(X_test.values, X_test.values),\n",
    "                    verbose=verbose, callbacks=[early_stopping_monitor])\n",
    "\n",
    "    # after 50/100 epochs the autoencoder seems to reach a stable train/test lost value\n",
    "\n",
    "    # Visualize the reconstructed encoded representations\n",
    "\n",
    "    # encode and decode some digits\n",
    "    # note that we take them from the *test* set\n",
    "    encoded_imgs = encoder.predict(X_test.values)\n",
    "    decoded_imgs = decoder.predict(encoded_imgs)\n",
    "\n",
    "    # save latent space features 32-d vector\n",
    "    pickle.dump(encoded_imgs, open(features_path, 'wb'))\n",
    "    pickle.dump(y_test, open(labels_path, 'wb'))\n",
    "\n",
    "    # n = 10  # how many digits we will display\n",
    "    # plt.figure(figsize=(10, 2), dpi=100)\n",
    "    # for i in range(n):\n",
    "    #     # display original\n",
    "    #     ax = plt.subplot(2, n, i + 1)\n",
    "    #     plt.imshow(x_test[i].reshape(28, 28))\n",
    "    #     plt.gray()\n",
    "    #     ax.set_axis_off()\n",
    "\n",
    "    #     # display reconstruction\n",
    "    #     ax = plt.subplot(2, n, i + n + 1)\n",
    "    #     plt.imshow(decoded_imgs[i].reshape(28, 28))\n",
    "    #     plt.gray()\n",
    "    #     ax.set_axis_off()\n",
    "\n",
    "    # plt.show()\n",
    "    \n",
    "    return decoded_imgs,X_test,encoded_imgs,autoencoder"
   ]
  },
  {
   "cell_type": "code",
   "execution_count": 15,
   "id": "a1a4957e",
   "metadata": {},
   "outputs": [
    {
     "name": "stdout",
     "output_type": "stream",
     "text": [
      "encoding_dim = 1 hidden_size = 50\n",
      "WARNING:tensorflow:Model inputs must come from `tf.layers.Input` (thus holding past layer metadata), they cannot be the output of a previous non-Input layer. Here, a tensor specified as input to \"sequential_5_model\" was not an Input tensor, it was generated by layer input_15.\n",
      "Note that input tensors are instantiated via `tensor = tf.layers.Input(shape)`.\n",
      "The tensor that caused the issue was: input_15:0\n",
      "p_past_vote_2019_Conservative correlation =\n",
      "0.7844030145201695\n",
      "mean correlation =\n",
      "0.21380402373957139\n",
      "encoding_dim = 1 hidden_size = 100\n",
      "WARNING:tensorflow:Model inputs must come from `tf.layers.Input` (thus holding past layer metadata), they cannot be the output of a previous non-Input layer. Here, a tensor specified as input to \"sequential_6_model\" was not an Input tensor, it was generated by layer input_18.\n",
      "Note that input tensors are instantiated via `tensor = tf.layers.Input(shape)`.\n",
      "The tensor that caused the issue was: input_18:0\n",
      "p_past_vote_2019_Conservative correlation =\n",
      "0.8163994735698885\n",
      "mean correlation =\n",
      "0.25129315768987237\n",
      "encoding_dim = 1 hidden_size = 200\n",
      "WARNING:tensorflow:Model inputs must come from `tf.layers.Input` (thus holding past layer metadata), they cannot be the output of a previous non-Input layer. Here, a tensor specified as input to \"sequential_7_model\" was not an Input tensor, it was generated by layer input_21.\n",
      "Note that input tensors are instantiated via `tensor = tf.layers.Input(shape)`.\n",
      "The tensor that caused the issue was: input_21:0\n",
      "p_past_vote_2019_Conservative correlation =\n",
      "0.817456944351009\n",
      "mean correlation =\n",
      "0.2508357312862762\n",
      "encoding_dim = 2 hidden_size = 50\n",
      "WARNING:tensorflow:Model inputs must come from `tf.layers.Input` (thus holding past layer metadata), they cannot be the output of a previous non-Input layer. Here, a tensor specified as input to \"sequential_8_model\" was not an Input tensor, it was generated by layer input_24.\n",
      "Note that input tensors are instantiated via `tensor = tf.layers.Input(shape)`.\n",
      "The tensor that caused the issue was: input_24:0\n",
      "p_past_vote_2019_Conservative correlation =\n",
      "0.8131533032301758\n",
      "mean correlation =\n",
      "0.24971945879909244\n",
      "encoding_dim = 2 hidden_size = 100\n",
      "WARNING:tensorflow:Model inputs must come from `tf.layers.Input` (thus holding past layer metadata), they cannot be the output of a previous non-Input layer. Here, a tensor specified as input to \"sequential_9_model\" was not an Input tensor, it was generated by layer input_27.\n",
      "Note that input tensors are instantiated via `tensor = tf.layers.Input(shape)`.\n",
      "The tensor that caused the issue was: input_27:0\n",
      "p_past_vote_2019_Conservative correlation =\n",
      "0.8400814847418315\n",
      "mean correlation =\n",
      "0.3378718816903193\n",
      "encoding_dim = 2 hidden_size = 200\n",
      "WARNING:tensorflow:Model inputs must come from `tf.layers.Input` (thus holding past layer metadata), they cannot be the output of a previous non-Input layer. Here, a tensor specified as input to \"sequential_10_model\" was not an Input tensor, it was generated by layer input_30.\n",
      "Note that input tensors are instantiated via `tensor = tf.layers.Input(shape)`.\n",
      "The tensor that caused the issue was: input_30:0\n",
      "p_past_vote_2019_Conservative correlation =\n",
      "0.834034185452524\n",
      "mean correlation =\n",
      "0.3306242922141362\n",
      "encoding_dim = 4 hidden_size = 50\n",
      "WARNING:tensorflow:Model inputs must come from `tf.layers.Input` (thus holding past layer metadata), they cannot be the output of a previous non-Input layer. Here, a tensor specified as input to \"sequential_11_model\" was not an Input tensor, it was generated by layer input_33.\n",
      "Note that input tensors are instantiated via `tensor = tf.layers.Input(shape)`.\n",
      "The tensor that caused the issue was: input_33:0\n",
      "p_past_vote_2019_Conservative correlation =\n",
      "0.8302594714278425\n",
      "mean correlation =\n",
      "0.3914335444107577\n",
      "encoding_dim = 4 hidden_size = 100\n",
      "WARNING:tensorflow:Model inputs must come from `tf.layers.Input` (thus holding past layer metadata), they cannot be the output of a previous non-Input layer. Here, a tensor specified as input to \"sequential_12_model\" was not an Input tensor, it was generated by layer input_36.\n",
      "Note that input tensors are instantiated via `tensor = tf.layers.Input(shape)`.\n",
      "The tensor that caused the issue was: input_36:0\n",
      "p_past_vote_2019_Conservative correlation =\n",
      "0.8408080688618051\n",
      "mean correlation =\n",
      "0.4148693049206489\n",
      "encoding_dim = 4 hidden_size = 200\n",
      "WARNING:tensorflow:Model inputs must come from `tf.layers.Input` (thus holding past layer metadata), they cannot be the output of a previous non-Input layer. Here, a tensor specified as input to \"sequential_13_model\" was not an Input tensor, it was generated by layer input_39.\n",
      "Note that input tensors are instantiated via `tensor = tf.layers.Input(shape)`.\n",
      "The tensor that caused the issue was: input_39:0\n",
      "p_past_vote_2019_Conservative correlation =\n",
      "0.8434084943664608\n",
      "mean correlation =\n",
      "0.41587594931235095\n",
      "encoding_dim = 8 hidden_size = 50\n",
      "WARNING:tensorflow:Model inputs must come from `tf.layers.Input` (thus holding past layer metadata), they cannot be the output of a previous non-Input layer. Here, a tensor specified as input to \"sequential_14_model\" was not an Input tensor, it was generated by layer input_42.\n",
      "Note that input tensors are instantiated via `tensor = tf.layers.Input(shape)`.\n",
      "The tensor that caused the issue was: input_42:0\n",
      "p_past_vote_2019_Conservative correlation =\n",
      "0.8320224698942048\n",
      "mean correlation =\n",
      "0.4973494900069841\n",
      "encoding_dim = 8 hidden_size = 100\n",
      "WARNING:tensorflow:Model inputs must come from `tf.layers.Input` (thus holding past layer metadata), they cannot be the output of a previous non-Input layer. Here, a tensor specified as input to \"sequential_15_model\" was not an Input tensor, it was generated by layer input_45.\n",
      "Note that input tensors are instantiated via `tensor = tf.layers.Input(shape)`.\n",
      "The tensor that caused the issue was: input_45:0\n",
      "p_past_vote_2019_Conservative correlation =\n",
      "0.839332834608232\n",
      "mean correlation =\n",
      "0.5235814493639965\n",
      "encoding_dim = 8 hidden_size = 200\n",
      "WARNING:tensorflow:Model inputs must come from `tf.layers.Input` (thus holding past layer metadata), they cannot be the output of a previous non-Input layer. Here, a tensor specified as input to \"sequential_16_model\" was not an Input tensor, it was generated by layer input_48.\n",
      "Note that input tensors are instantiated via `tensor = tf.layers.Input(shape)`.\n",
      "The tensor that caused the issue was: input_48:0\n",
      "p_past_vote_2019_Conservative correlation =\n",
      "0.8437546063474923\n",
      "mean correlation =\n",
      "0.5331547322208438\n",
      "encoding_dim = 16 hidden_size = 50\n",
      "WARNING:tensorflow:Model inputs must come from `tf.layers.Input` (thus holding past layer metadata), they cannot be the output of a previous non-Input layer. Here, a tensor specified as input to \"sequential_17_model\" was not an Input tensor, it was generated by layer input_51.\n",
      "Note that input tensors are instantiated via `tensor = tf.layers.Input(shape)`.\n",
      "The tensor that caused the issue was: input_51:0\n",
      "p_past_vote_2019_Conservative correlation =\n",
      "0.8356670617720275\n",
      "mean correlation =\n",
      "0.5524821072243018\n",
      "encoding_dim = 16 hidden_size = 100\n",
      "WARNING:tensorflow:Model inputs must come from `tf.layers.Input` (thus holding past layer metadata), they cannot be the output of a previous non-Input layer. Here, a tensor specified as input to \"sequential_18_model\" was not an Input tensor, it was generated by layer input_54.\n",
      "Note that input tensors are instantiated via `tensor = tf.layers.Input(shape)`.\n",
      "The tensor that caused the issue was: input_54:0\n",
      "p_past_vote_2019_Conservative correlation =\n",
      "0.8352057566662843\n",
      "mean correlation =\n",
      "0.5881480852752997\n",
      "encoding_dim = 16 hidden_size = 200\n",
      "WARNING:tensorflow:Model inputs must come from `tf.layers.Input` (thus holding past layer metadata), they cannot be the output of a previous non-Input layer. Here, a tensor specified as input to \"sequential_19_model\" was not an Input tensor, it was generated by layer input_57.\n",
      "Note that input tensors are instantiated via `tensor = tf.layers.Input(shape)`.\n",
      "The tensor that caused the issue was: input_57:0\n",
      "p_past_vote_2019_Conservative correlation =\n",
      "0.8482112595614182\n",
      "mean correlation =\n",
      "0.6159384415700955\n",
      "encoding_dim = 32 hidden_size = 50\n",
      "WARNING:tensorflow:Model inputs must come from `tf.layers.Input` (thus holding past layer metadata), they cannot be the output of a previous non-Input layer. Here, a tensor specified as input to \"sequential_20_model\" was not an Input tensor, it was generated by layer input_60.\n",
      "Note that input tensors are instantiated via `tensor = tf.layers.Input(shape)`.\n",
      "The tensor that caused the issue was: input_60:0\n"
     ]
    },
    {
     "name": "stdout",
     "output_type": "stream",
     "text": [
      "p_past_vote_2019_Conservative correlation =\n",
      "0.8368057172205199\n",
      "mean correlation =\n",
      "0.5911999901165422\n",
      "encoding_dim = 32 hidden_size = 100\n",
      "WARNING:tensorflow:Model inputs must come from `tf.layers.Input` (thus holding past layer metadata), they cannot be the output of a previous non-Input layer. Here, a tensor specified as input to \"sequential_21_model\" was not an Input tensor, it was generated by layer input_63.\n",
      "Note that input tensors are instantiated via `tensor = tf.layers.Input(shape)`.\n",
      "The tensor that caused the issue was: input_63:0\n",
      "p_past_vote_2019_Conservative correlation =\n",
      "0.8505597797667845\n",
      "mean correlation =\n",
      "0.6478349687066038\n",
      "encoding_dim = 32 hidden_size = 200\n",
      "WARNING:tensorflow:Model inputs must come from `tf.layers.Input` (thus holding past layer metadata), they cannot be the output of a previous non-Input layer. Here, a tensor specified as input to \"sequential_22_model\" was not an Input tensor, it was generated by layer input_66.\n",
      "Note that input tensors are instantiated via `tensor = tf.layers.Input(shape)`.\n",
      "The tensor that caused the issue was: input_66:0\n",
      "p_past_vote_2019_Conservative correlation =\n",
      "0.8524938552455625\n",
      "mean correlation =\n",
      "0.6772054795475295\n"
     ]
    }
   ],
   "source": [
    "import warnings\n",
    "warnings.filterwarnings('ignore')\n",
    "\n",
    "for encoding_dim in [1,2,4,8,16,32]:\n",
    "    for hidden_size in [50,100,200]:\n",
    "        print(\"encoding_dim = \"+str(encoding_dim),\"hidden_size = \"+str(hidden_size))\n",
    "        decoded_imgs,X_test,encoded_imgs = run_autoencoder(encoding_dim=encoding_dim,hidden_size=hidden_size,verbose=0)\n",
    "\n",
    "        X_test_reconst = pd.DataFrame(decoded_imgs,columns=X_test.columns,index=X_test.index)\n",
    "    #     X_test_reconst[\"p_past_vote_2019_Conservative\"].hist(bins=100)\n",
    "        print(\"p_past_vote_2019_Conservative correlation =\")\n",
    "        print(X_test_reconst[\"p_past_vote_2019_Conservative\"].corr(X_test[\"p_past_vote_2019_Conservative\"]))\n",
    "        print(\"mean correlation =\")\n",
    "        print(X_test_reconst.apply(lambda x: X_test_reconst[x.name].corr( X_test[x.name] ) ).mean())"
   ]
  },
  {
   "cell_type": "code",
   "execution_count": 17,
   "id": "4817b756",
   "metadata": {},
   "outputs": [
    {
     "name": "stdout",
     "output_type": "stream",
     "text": [
      "WARNING:tensorflow:Model inputs must come from `tf.layers.Input` (thus holding past layer metadata), they cannot be the output of a previous non-Input layer. Here, a tensor specified as input to \"sequential_23_model\" was not an Input tensor, it was generated by layer input_69.\n",
      "Note that input tensors are instantiated via `tensor = tf.layers.Input(shape)`.\n",
      "The tensor that caused the issue was: input_69:0\n"
     ]
    }
   ],
   "source": [
    "decoded_imgs,X_test,encoded_imgs = run_autoencoder(encoding_dim=1,hidden_size=100,verbose=0)\n",
    "X_test_reconst = pd.DataFrame(decoded_imgs,columns=X_test.columns,index=X_test.index)"
   ]
  },
  {
   "cell_type": "code",
   "execution_count": 29,
   "id": "4ab18ae0",
   "metadata": {},
   "outputs": [
    {
     "data": {
      "text/plain": [
       "id\n",
       "66014     0.767713\n",
       "78512     0.884926\n",
       "102320    0.127643\n",
       "44782     0.345282\n",
       "100932    0.363586\n",
       "            ...   \n",
       "51434     1.270266\n",
       "101213    0.057599\n",
       "14449     1.504369\n",
       "7930      0.252477\n",
       "59978     0.102770\n",
       "Length: 10385, dtype: float32"
      ]
     },
     "execution_count": 29,
     "metadata": {},
     "output_type": "execute_result"
    }
   ],
   "source": [
    "pd.Series(encoded_imgs.reshape(X_test.shape[0]),index=X_test.index)\n",
    "# pd.Series(encoded_imgs,index=X_test.index)"
   ]
  },
  {
   "cell_type": "code",
   "execution_count": 21,
   "id": "fd266f9e",
   "metadata": {},
   "outputs": [
    {
     "data": {
      "text/plain": [
       "(10385, 289)"
      ]
     },
     "execution_count": 21,
     "metadata": {},
     "output_type": "execute_result"
    }
   ],
   "source": [
    "X_test_reconst.shape"
   ]
  },
  {
   "cell_type": "code",
   "execution_count": 33,
   "id": "1facd527",
   "metadata": {},
   "outputs": [
    {
     "data": {
      "text/plain": [
       "<matplotlib.axes._subplots.AxesSubplot at 0x1c05f390>"
      ]
     },
     "execution_count": 33,
     "metadata": {},
     "output_type": "execute_result"
    },
    {
     "data": {
      "image/png": "[encoded data removed]",
      "text/plain": [
       "<Figure size 432x288 with 1 Axes>"
      ]
     },
     "metadata": {},
     "output_type": "display_data"
    }
   ],
   "source": [
    "X_test_reconst.corrwith(pd.Series(encoded_imgs.reshape(X_test.shape[0]),index=X_test.index)).sort_values().hist(bins=100)"
   ]
  },
  {
   "cell_type": "code",
   "execution_count": 34,
   "id": "2eaec7a4",
   "metadata": {},
   "outputs": [
    {
     "data": {
      "text/plain": [
       "generalElectionVote_Labour                                                                                      -0.999850\n",
       "p_work_stat_Working full time (30 or more hours per week)                                                       -0.999616\n",
       "workingStatusPartner_Working full time (30 or more hours per week)                                              -0.999603\n",
       "gor_East of England                                                                                             -0.999349\n",
       "p_marital_Living with a partner but neither married nor in a civil partnership                                  -0.999204\n",
       "workingStatus_Working full time (30 or more hours per week)                                                     -0.999054\n",
       "p_housing_Rent from a private landlord                                                                          -0.998932\n",
       "p_past_vote_2019_Labour                                                                                         -0.998871\n",
       "jobForAll__Strongly agree                                                                                       -0.996849\n",
       "lr5__Strongly agree                                                                                             -0.996781\n",
       "p_religion_No, I do not regard myself as belonging to any particular religion.                                  -0.996436\n",
       "likeLD__Strongly like                                                                                           -0.995361\n",
       "stateOwnership__Strongly agree                                                                                  -0.991557\n",
       "selfOccSupervise_Yes                                                                                            -0.990641\n",
       "p_job_sector_Public sector government owned or funded (e.g. civil service, local government, NHS, university)   -0.989248\n",
       "CVsuspect_1_Yes                                                                                                 -0.988277\n",
       "p_past_vote_2017_Labour                                                                                         -0.987374\n",
       "lr3__Strongly agree                                                                                             -0.987294\n",
       "p_past_vote_2019_Liberal Democrat                                                                               -0.985876\n",
       "ptvLD__Very likely                                                                                              -0.985631\n",
       "lr4__Strongly agree                                                                                             -0.985483\n",
       "p_past_vote_2017_Liberal Democrat                                                                               -0.982147\n",
       "partyId_Liberal Democrat                                                                                        -0.979194\n",
       "likeLab__Strongly like                                                                                          -0.978605\n",
       "partyId_Labour                                                                                                  -0.978535\n",
       "highRiskLetter_2_Yes                                                                                            -0.975591\n",
       "lr2__Strongly agree                                                                                             -0.974891\n",
       "ptvLab__Very likely                                                                                             -0.971870\n",
       "lr1__Strongly agree                                                                                             -0.969204\n",
       "partnerOccSupervise_Yes                                                                                         -0.966706\n",
       "coronaMeasures_3_Yes                                                                                            -0.963843\n",
       "p_housing_Own with a mortgage                                                                                   -0.957507\n",
       "handleCoronaLab__Very well                                                                                      -0.955992\n",
       "likeGrn__Strongly like                                                                                          -0.954518\n",
       "selfPriorities_environment_Yes                                                                                  -0.954158\n",
       "p_past_vote_2015_Labour                                                                                         -0.952352\n",
       "workingStatus_Full time university student                                                                      -0.950801\n",
       "selfOccStatusLast_An employee                                                                                   -0.950650\n",
       "p_marital_Single                                                                                                -0.950614\n",
       "changeEconomyLab__Getting a lot better                                                                          -0.949979\n",
       "enviroGrowth__Protecting the environment should have priority                                                   -0.945373\n",
       "likeStarmer__Strongly like                                                                                      -0.942727\n",
       "selfPriorities_nhs_Yes                                                                                          -0.940999\n",
       "p_past_vote_2015_Liberal Democrat                                                                               -0.939048\n",
       "selfOccSuperviseLast_Yes                                                                                        -0.936336\n",
       "riskUnemployment__Very likely                                                                                   -0.932847\n",
       "europeanness__Very strongly European                                                                            -0.930479\n",
       "p_turnout_scot_ref_Yes, I voted                                                                                 -0.930459\n",
       "changeNHSLab__Getting a lot better                                                                              -0.927603\n",
       "coronaMeasures_4_Yes                                                                                            -0.925078\n",
       "dtype: float64"
      ]
     },
     "execution_count": 34,
     "metadata": {},
     "output_type": "execute_result"
    }
   ],
   "source": [
    "X_test_reconst.corrwith(pd.Series(encoded_imgs.reshape(X_test.shape[0]),index=X_test.index)).sort_values().head(50)"
   ]
  },
  {
   "cell_type": "code",
   "execution_count": 35,
   "id": "d4415397",
   "metadata": {},
   "outputs": [
    {
     "data": {
      "text/plain": [
       "handleCorona__Very well                                                                  0.962451\n",
       "p_welsh_const_vote_2016_Conservative                                                     0.962624\n",
       "resourceAccess1_1_Yes                                                                    0.962660\n",
       "partnerEducation_CSE grade 1, GCE O level, GCSE, School Certificate                      0.964539\n",
       "EUIntegrationSelf__Protect our independence                                              0.965646\n",
       "coronaMeasures2_1_Yes                                                                    0.966235\n",
       "p_past_vote_2010_Conservative                                                            0.967118\n",
       "govtHandlelockdown__Very well                                                            0.967844\n",
       "govtHandlePPE__Very well                                                                 0.970664\n",
       "likeJohnson__Strongly like                                                               0.970974\n",
       "sector_Self-employed                                                                     0.974131\n",
       "p_job_sector_Private sector profit-seeking (e.g. public limited company, partnership)    0.978524\n",
       "p_parent_Yes                                                                             0.978579\n",
       "p_education_Other technical, professional or higher qualification                        0.979318\n",
       "country_England                                                                          0.979620\n",
       "redistSelf__Government should be less concerned about equal incomes                      0.982506\n",
       "conPriorities_nhs_Yes                                                                    0.983587\n",
       "trustMPs__A great deal of trust                                                          0.984661\n",
       "likeCon__Strongly like                                                                   0.985995\n",
       "ns_sec_analytic_Employers in small organisations and own account workers                 0.986099\n",
       "p_past_vote_2015_Conservative                                                            0.988401\n",
       "partyId_Conservative                                                                     0.988520\n",
       "generalElectionVote_Conservative                                                         0.988777\n",
       "p_country_birth_UK                                                                       0.991826\n",
       "selfPriorities_crime_Yes                                                                 0.992049\n",
       "p_past_vote_2017_Conservative                                                            0.992731\n",
       "p_eurefvote_I voted to leave                                                             0.992749\n",
       "ptvCon__Very likely                                                                      0.993556\n",
       "euID_The leave side                                                                      0.993708\n",
       "trustWestminster__Just about always                                                      0.993882\n",
       "p_religion_Yes - Church of England/Anglican/Episcopal                                    0.994063\n",
       "likeFarage__Strongly like                                                                0.994265\n",
       "p_past_vote_2019_Conservative                                                            0.995813\n",
       "responsibleCorona_8_Yes                                                                  0.996032\n",
       "likeBrexitParty__Strongly like                                                           0.996241\n",
       "euRefVoteAfter_Stay out of the EU                                                        0.996496\n",
       "p_ethnicity_White British                                                                0.996741\n",
       "sectorPartner_Self-employed                                                              0.996793\n",
       "highRiskLetter_1_Yes                                                                     0.996940\n",
       "goodTimePurchase__Good time to buy                                                       0.997096\n",
       "p_paper_read_The Daily Mail / The Scottish Daily Mail                                    0.997116\n",
       "partnerEducation_No formal qualifications                                                0.997376\n",
       "gor_South East                                                                           0.997798\n",
       "p_scot_list_vote_2016_I would/did not vote                                               0.998334\n",
       "p_scot_const_vote_2016_I would/did not vote                                              0.998406\n",
       "highRiskLetter_none_Yes                                                                  0.999179\n",
       "selfPriorities_immig_Yes                                                                 0.999658\n",
       "p_past_vote_2015_United Kingdom Independence Party (UKIP)                                0.999697\n",
       "selfPriorities_econ_Yes                                                                  0.999741\n",
       "ptvBrexitParty__Very likely                                                              0.999788\n",
       "dtype: float64"
      ]
     },
     "execution_count": 35,
     "metadata": {},
     "output_type": "execute_result"
    }
   ],
   "source": [
    "X_test_reconst.corrwith(pd.Series(encoded_imgs.reshape(X_test.shape[0]),index=X_test.index)).sort_values().tail(50)"
   ]
  },
  {
   "cell_type": "code",
   "execution_count": null,
   "id": "9563e443",
   "metadata": {},
   "outputs": [],
   "source": []
  },
  {
   "cell_type": "code",
   "execution_count": null,
   "id": "cf2b914d",
   "metadata": {},
   "outputs": [],
   "source": []
  },
  {
   "cell_type": "code",
   "execution_count": 212,
   "id": "1955877d",
   "metadata": {},
   "outputs": [
    {
     "data": {
      "text/plain": [
       "p_past_vote_2017_Labour                                                                                                                   0.842220\n",
       "bestOnMII_Labour                                                                                                                          0.843398\n",
       "highRiskLetter_none_Yes                                                                                                                   0.845901\n",
       "p_job_sector_Private sector profit-seeking (e.g. public limited company, partnership)                                                     0.846124\n",
       "sector_Other public sector employer Incl eg: - Central govt/ Civil Service/ Govt Agency - Local authority/ Local Educ Auth/sch            0.846246\n",
       "ptvLab__Very likely                                                                                                                       0.847280\n",
       "workingStatusPartner_Working full time (30 or more hours per week)                                                                        0.847426\n",
       "partyId_No - none                                                                                                                         0.847750\n",
       "p_past_vote_2017_Conservative                                                                                                             0.850764\n",
       "partyId_Conservative                                                                                                                      0.850959\n",
       "highRiskLetter_2_Yes                                                                                                                      0.850976\n",
       "p_past_vote_2005_Labour                                                                                                                   0.860275\n",
       "gender_Female                                                                                                                             0.860295\n",
       "resourceAccess2_4_Yes                                                                                                                     0.862714\n",
       "generalElectionVote_Labour                                                                                                                0.864125\n",
       "p_edlevel__Postgrad                                                                                                                       0.869763\n",
       "p_paper_read_None                                                                                                                         0.874442\n",
       "sector_Private sector firm of company Including, for example, limited companies and PLCs                                                  0.878151\n",
       "noDependentsInHouse_Yes                                                                                                                   0.879534\n",
       "stoppedWork_none_Yes                                                                                                                      0.879939\n",
       "p_education_University or CNAA first degree (e.g. BA, B.Sc, B.Ed)                                                                         0.880320\n",
       "EUIntegrationSelf__Protect our independence                                                                                               0.880372\n",
       "p_edlevelUni__Postgrad                                                                                                                    0.883211\n",
       "likeJohnson__Strongly like                                                                                                                0.883292\n",
       "euRefVoteAfter_Stay out of the EU                                                                                                         0.883463\n",
       "sectorPartner_Other public sector employer *Incl eg: - Central govt/ Civil Service/ Govt Agency - Local authority/ Local Educ Auth/sch    0.886995\n",
       "highRiskMedical_none_Yes                                                                                                                  0.888323\n",
       "p_turnout_scot_ref_Yes, I voted                                                                                                           0.888463\n",
       "p_past_vote_2010_Labour                                                                                                                   0.890583\n",
       "ptvCon__Very likely                                                                                                                       0.892758\n",
       "likeCon__Strongly like                                                                                                                    0.896285\n",
       "euID_The leave side                                                                                                                       0.898928\n",
       "sectorPartner_Private sector firm of company *Including, for example, limited companies and PLCs*                                         0.914290\n",
       "p_marital_Single                                                                                                                          0.914501\n",
       "p_religion_No, I do not regard myself as belonging to any particular religion.                                                            0.915432\n",
       "p_past_vote_2010_Conservative                                                                                                             0.915784\n",
       "generalElectionVote_Conservative                                                                                                          0.916228\n",
       "ns_sec_L7.1 Intermediate clerical and administrative occupations                                                                          0.917569\n",
       "p_past_vote_2005_Conservative                                                                                                             0.919286\n",
       "p_work_stat_Working full time (30 or more hours per week)                                                                                 0.924169\n",
       "workingStatus_Working full time (30 or more hours per week)                                                                               0.925878\n",
       "bestOnMII_No party is best able to handle this issue                                                                                      0.931067\n",
       "bestOnMII_Conservative                                                                                                                    0.937323\n",
       "ns_sec_analytic_Intermediate occupations                                                                                                  0.943770\n",
       "p_scot_const_vote_2016_I would/did not vote                                                                                               0.945198\n",
       "workingStatusPartner_Working part time (less than 8 hours a week)                                                                         0.946634\n",
       "CVsuspect_none_Yes                                                                                                                        0.953748\n",
       "p_scot_list_vote_2016_I would/did not vote                                                                                                0.968727\n",
       "p_work_stat_Retired                                                                                                                       0.980051\n",
       "workingStatus_Retired                                                                                                                     0.984973\n",
       "dtype: float64"
      ]
     },
     "execution_count": 212,
     "metadata": {},
     "output_type": "execute_result"
    }
   ],
   "source": [
    "X_test_reconst.apply(lambda x: X_test_reconst[x.name].corr( X_test[x.name] ) ).sort_values().tail(50)\n"
   ]
  },
  {
   "cell_type": "code",
   "execution_count": 202,
   "id": "284ef1ea",
   "metadata": {},
   "outputs": [
    {
     "name": "stdout",
     "output_type": "stream",
     "text": [
      "_________________________________________________________________\n",
      "Layer (type)                 Output Shape              Param #   \n",
      "=================================================================\n",
      "input_108 (InputLayer)       (None, 289)               0         \n",
      "_________________________________________________________________\n",
      "dense_134 (Dense)            (None, 100)               29000     \n",
      "_________________________________________________________________\n",
      "dense_135 (Dense)            (None, 32)                3232      \n",
      "_________________________________________________________________\n",
      "dense_136 (Dense)            (None, 100)               3300      \n",
      "_________________________________________________________________\n",
      "dense_137 (Dense)            (None, 289)               29189     \n",
      "=================================================================\n",
      "Total params: 64,721\n",
      "Trainable params: 64,721\n",
      "Non-trainable params: 0\n",
      "_________________________________________________________________\n"
     ]
    }
   ],
   "source": [
    "autoencoder.summary()"
   ]
  },
  {
   "cell_type": "code",
   "execution_count": null,
   "id": "db57dec8",
   "metadata": {},
   "outputs": [],
   "source": []
  },
  {
   "cell_type": "code",
   "execution_count": 145,
   "id": "ed05cd0d",
   "metadata": {},
   "outputs": [
    {
     "name": "stdout",
     "output_type": "stream",
     "text": [
      "_________________________________________________________________\n",
      "Layer (type)                 Output Shape              Param #   \n",
      "=================================================================\n",
      "input_68 (InputLayer)        (None, 742)               0         \n",
      "_________________________________________________________________\n",
      "dense_79 (Dense)             (None, 100)               74300     \n",
      "_________________________________________________________________\n",
      "dense_80 (Dense)             (None, 32)                3232      \n",
      "_________________________________________________________________\n",
      "dense_81 (Dense)             (None, 100)               3300      \n",
      "_________________________________________________________________\n",
      "dense_82 (Dense)             (None, 742)               74942     \n",
      "=================================================================\n",
      "Total params: 155,774\n",
      "Trainable params: 155,774\n",
      "Non-trainable params: 0\n",
      "_________________________________________________________________\n"
     ]
    }
   ],
   "source": [
    "autoencoder.summary()"
   ]
  },
  {
   "cell_type": "code",
   "execution_count": 112,
   "id": "a407eb23",
   "metadata": {},
   "outputs": [
    {
     "name": "stdout",
     "output_type": "stream",
     "text": [
      "_________________________________________________________________\n",
      "Layer (type)                 Output Shape              Param #   \n",
      "=================================================================\n",
      "input_45 (InputLayer)        (None, 742)               0         \n",
      "_________________________________________________________________\n",
      "dense_47 (Dense)             (None, 100)               74300     \n",
      "_________________________________________________________________\n",
      "dense_48 (Dense)             (None, 32)                3232      \n",
      "=================================================================\n",
      "Total params: 77,532\n",
      "Trainable params: 77,532\n",
      "Non-trainable params: 0\n",
      "_________________________________________________________________\n"
     ]
    }
   ],
   "source": [
    "encoder.summary()"
   ]
  },
  {
   "cell_type": "code",
   "execution_count": 113,
   "id": "787dc029",
   "metadata": {},
   "outputs": [
    {
     "name": "stdout",
     "output_type": "stream",
     "text": [
      "_________________________________________________________________\n",
      "Layer (type)                 Output Shape              Param #   \n",
      "=================================================================\n",
      "input_46 (InputLayer)        (None, 32)                0         \n",
      "_________________________________________________________________\n",
      "dense_49 (Dense)             (None, 100)               3300      \n",
      "=================================================================\n",
      "Total params: 3,300\n",
      "Trainable params: 3,300\n",
      "Non-trainable params: 0\n",
      "_________________________________________________________________\n"
     ]
    }
   ],
   "source": [
    "decoder.summary()"
   ]
  },
  {
   "cell_type": "code",
   "execution_count": 116,
   "id": "3ef12b9a",
   "metadata": {},
   "outputs": [
    {
     "data": {
      "text/plain": [
       "<tensorflow.python.keras._impl.keras.layers.core.Dense at 0x2b8a51d0>"
      ]
     },
     "execution_count": 116,
     "metadata": {},
     "output_type": "execute_result"
    }
   ],
   "source": [
    "autoencoder.layers[-1]"
   ]
  },
  {
   "cell_type": "code",
   "execution_count": 118,
   "id": "0fa36d38",
   "metadata": {},
   "outputs": [
    {
     "data": {
      "text/plain": [
       "<tf.Tensor 'input_47:0' shape=(?, 32) dtype=float32>"
      ]
     },
     "execution_count": 118,
     "metadata": {},
     "output_type": "execute_result"
    }
   ],
   "source": [
    "encoded_input"
   ]
  },
  {
   "cell_type": "code",
   "execution_count": 174,
   "id": "70a7619e",
   "metadata": {},
   "outputs": [],
   "source": [
    "# # Model(input_img, autoencoder.layers[])\n",
    "# Model(encoded_input, autoencoder.layers[-1](encoded_input))"
   ]
  },
  {
   "cell_type": "code",
   "execution_count": 173,
   "id": "8cbdb2f4",
   "metadata": {},
   "outputs": [],
   "source": [
    "# # create a placeholder for an encoded (32-dimensional) input\n",
    "# encoded_input = Input(shape=(encoding_dim,))\n",
    "# # retrieve the last layer of the autoencoder model\n",
    "# ## changed to -2 after adding hidden layer!\n",
    "# decoder_layer = autoencoder.layers[-1]\n",
    "# # create the decoder model\n",
    "# decoder = Model(encoded_input, decoder_layer(encoded_input))"
   ]
  },
  {
   "cell_type": "code",
   "execution_count": null,
   "id": "344d2e54",
   "metadata": {},
   "outputs": [],
   "source": [
    "# encoding_dim = 32\n",
    "# Epoch 2/50\n",
    "#  - 2s - loss: 5935.9533 - acc: 0.3057 - val_loss: 5822.0374 - val_acc: 0.5679\n",
    "# Epoch 50/50\n",
    "#  - 2s - loss: 5680.6994 - acc: 0.8580 - val_loss: 5683.9633 - val_acc: 0.8727\n",
    "\n",
    "# encoding_dim = 16\n",
    "# Epoch 2/50\n",
    "#  - 2s - loss: 5978.8631 - acc: 0.8325 - val_loss: 5866.3392 - val_acc: 0.8639\n",
    "# Epoch 50/50\n",
    "#  - 3s - loss: 5694.4223 - acc: 0.8617 - val_loss: 5697.4094 - val_acc: 0.8703\n",
    "\n",
    "# encoding_dim = 8\n",
    "# Epoch 2/50\n",
    "#  - 2s - loss: 5970.0431 - acc: 0.8586 - val_loss: 5835.3781 - val_acc: 0.8639\n",
    "# Epoch 50/50\n",
    "#  - 2s - loss: 5715.6143 - acc: 0.8595 - val_loss: 5718.3449 - val_acc: 0.8642\n",
    "\n",
    "# encoding_dim = 1\n",
    "# Epoch 2/50\n",
    "#  - 2s - loss: 6096.5372 - acc: 0.0000e+00 - val_loss: 6056.0097 - val_acc: 0.0000e+00\n",
    "# Epoch 38/50\n",
    "#  - 2s - loss: 5753.8536 - acc: 0.0416 - val_loss: 5756.7104 - val_acc: 0.0403\n",
    "\n",
    "# encoding_dim = 2\n",
    "# Epoch 2/50\n",
    "#  - 2s - loss: 6086.2950 - acc: 0.0000e+00 - val_loss: 6052.0046 - val_acc: 0.0000e+00\n",
    "# Epoch 41/50\n",
    "#  - 2s - loss: 5729.3915 - acc: 0.8586 - val_loss: 5731.9737 - val_acc: 0.8639\n",
    "\n",
    "## WTF!\n",
    "# encoding_dim = 3\n",
    "# Epoch 2/50\n",
    "#  - 2s - loss: 6062.5483 - acc: 0.0074 - val_loss: 6017.2380 - val_acc: 0.0075\n",
    "# Epoch 38/50\n",
    "#  - 3s - loss: 5735.6843 - acc: 0.0442 - val_loss: 5738.1730 - val_acc: 0.0402\n",
    "\n",
    "# encoding_dim = 4\n",
    "# Epoch 2/50\n",
    "#  - 2s - loss: 6040.1189 - acc: 4.7432e-05 - val_loss: 5968.3275 - val_acc: 0.0000e+00\n",
    "# Epoch 50/50\n",
    "#  - 2s - loss: 5723.7691 - acc: 0.8586 - val_loss: 5726.4317 - val_acc: 0.8639                   "
   ]
  },
  {
   "cell_type": "code",
   "execution_count": null,
   "id": "03765bb5",
   "metadata": {},
   "outputs": [],
   "source": [
    "# encoding_dim = 4\n",
    "# hidden_size = 0\n",
    "\n",
    "# Epoch 2/50\n",
    "#  - 1s - loss: 2.0178 - acc: 0.8586 - val_loss: 1.8578 - val_acc: 0.8639\n",
    "# Epoch 50/50\n",
    "#  - 2s - loss: 0.3624 - acc: 0.9903 - val_loss: 0.3628 - val_acc: 0.9922"
   ]
  },
  {
   "cell_type": "code",
   "execution_count": 119,
   "id": "0a29e96e",
   "metadata": {},
   "outputs": [],
   "source": [
    "# encoded_imgs = encoder.predict(X_test.values)\n",
    "# decoded_imgs = decoder.predict(encoded_imgs)\n",
    "\n",
    "# # save latent space features 32-d vector\n",
    "# pickle.dump(encoded_imgs, open(features_path, 'wb'))\n",
    "# pickle.dump(y_test, open(labels_path, 'wb'))\n"
   ]
  },
  {
   "cell_type": "code",
   "execution_count": 121,
   "id": "414084c1",
   "metadata": {},
   "outputs": [
    {
     "data": {
      "text/plain": [
       "(10385, 32)"
      ]
     },
     "execution_count": 121,
     "metadata": {},
     "output_type": "execute_result"
    }
   ],
   "source": [
    "encoded_imgs.shape"
   ]
  },
  {
   "cell_type": "code",
   "execution_count": null,
   "id": "4ae39e27",
   "metadata": {},
   "outputs": [],
   "source": [
    "# %%time\n",
    "\n",
    "# hasattr(tf_gradients_impl, \"_IsBackpropagatable\")\n",
    "background = X.loc[X.index[np.random.choice(X.shape[0], 200, replace=False)]]\n",
    "\n",
    "# e = shap.DeepExplainer((model.layers[0].input, model.layers[-1].output), background)\n",
    "e = shap.DeepExplainer(model, background.values)\n",
    "shap_values = e.shap_values(background.values)"
   ]
  },
  {
   "cell_type": "code",
   "execution_count": 105,
   "id": "d71d500b",
   "metadata": {},
   "outputs": [
    {
     "data": {
      "text/plain": [
       "(None, 100)"
      ]
     },
     "execution_count": 105,
     "metadata": {},
     "output_type": "execute_result"
    }
   ],
   "source": [
    "decoder_layer.input_shape"
   ]
  },
  {
   "cell_type": "code",
   "execution_count": 13,
   "id": "c2a45e7d",
   "metadata": {},
   "outputs": [
    {
     "data": {
      "text/plain": [
       "(10385, 32)"
      ]
     },
     "execution_count": 13,
     "metadata": {},
     "output_type": "execute_result"
    }
   ],
   "source": [
    "encoded_imgs.shape"
   ]
  },
  {
   "cell_type": "code",
   "execution_count": 125,
   "id": "a929104a",
   "metadata": {},
   "outputs": [
    {
     "data": {
      "text/plain": [
       "(10385, 32)"
      ]
     },
     "execution_count": 125,
     "metadata": {},
     "output_type": "execute_result"
    }
   ],
   "source": [
    "encoded_imgs.shape"
   ]
  },
  {
   "cell_type": "code",
   "execution_count": 195,
   "id": "db09c5ec",
   "metadata": {},
   "outputs": [
    {
     "data": {
      "text/plain": [
       "<matplotlib.axes._subplots.AxesSubplot at 0x2b3f34e0>"
      ]
     },
     "execution_count": 195,
     "metadata": {},
     "output_type": "execute_result"
    },
    {
     "data": {
      "image/png": "[encoded data removed]",
      "text/plain": [
       "<Figure size 432x288 with 1 Axes>"
      ]
     },
     "metadata": {},
     "output_type": "display_data"
    }
   ],
   "source": [
    "X_test_reconst = pd.DataFrame(decoded_imgs,columns=X_test.columns,index=X_test.index)\n",
    "X_test_reconst[\"p_past_vote_2019_Conservative\"].hist(bins=100)"
   ]
  },
  {
   "cell_type": "code",
   "execution_count": 196,
   "id": "93927515",
   "metadata": {},
   "outputs": [
    {
     "data": {
      "text/plain": [
       "0.8510384676776054"
      ]
     },
     "execution_count": 196,
     "metadata": {},
     "output_type": "execute_result"
    }
   ],
   "source": [
    "X_test_reconst[\"p_past_vote_2019_Conservative\"].corr(X_test[\"p_past_vote_2019_Conservative\"])"
   ]
  },
  {
   "cell_type": "code",
   "execution_count": 176,
   "id": "e07878c3",
   "metadata": {},
   "outputs": [
    {
     "data": {
      "text/plain": [
       "<matplotlib.axes._subplots.AxesSubplot at 0x2eb16978>"
      ]
     },
     "execution_count": 176,
     "metadata": {},
     "output_type": "execute_result"
    },
    {
     "data": {
      "image/png": "[encoded data removed]",
      "text/plain": [
       "<Figure size 432x288 with 1 Axes>"
      ]
     },
     "metadata": {},
     "output_type": "display_data"
    }
   ],
   "source": [
    "X_test_reconst = pd.DataFrame(decoded_imgs,columns=X_test.columns,index=X_test.index)\n",
    "X_test_reconst[\"p_past_vote_2019_Conservative\"].hist(bins=100)"
   ]
  },
  {
   "cell_type": "code",
   "execution_count": 83,
   "id": "808f2d4f",
   "metadata": {},
   "outputs": [
    {
     "data": {
      "text/plain": [
       "<matplotlib.axes._subplots.AxesSubplot at 0x1b143828>"
      ]
     },
     "execution_count": 83,
     "metadata": {},
     "output_type": "execute_result"
    },
    {
     "data": {
      "image/png": "[encoded data removed]",
      "text/plain": [
       "<Figure size 432x288 with 1 Axes>"
      ]
     },
     "metadata": {},
     "output_type": "display_data"
    }
   ],
   "source": [
    "X_test_reconst = pd.DataFrame(decoded_imgs,columns=X_test.columns,index=X_test.index)\n",
    "X_test_reconst[\"p_past_vote_2019_Conservative\"].hist(bins=100)"
   ]
  },
  {
   "cell_type": "code",
   "execution_count": 96,
   "id": "7d996e48",
   "metadata": {},
   "outputs": [
    {
     "data": {
      "text/plain": [
       "<matplotlib.axes._subplots.AxesSubplot at 0x253706d8>"
      ]
     },
     "execution_count": 96,
     "metadata": {},
     "output_type": "execute_result"
    },
    {
     "data": {
      "image/png": "[encoded data removed]",
      "text/plain": [
       "<Figure size 432x288 with 1 Axes>"
      ]
     },
     "metadata": {},
     "output_type": "display_data"
    }
   ],
   "source": [
    "X_test_reconst = pd.DataFrame(decoded_imgs,columns=X_test.columns,index=X_test.index)\n",
    "X_test_reconst[\"p_past_vote_2019_Conservative\"].hist(bins=100)"
   ]
  },
  {
   "cell_type": "code",
   "execution_count": 101,
   "id": "e57ebda7",
   "metadata": {},
   "outputs": [
    {
     "data": {
      "text/plain": [
       "<matplotlib.axes._subplots.AxesSubplot at 0x2465cef0>"
      ]
     },
     "execution_count": 101,
     "metadata": {},
     "output_type": "execute_result"
    },
    {
     "data": {
      "image/png": "[encoded data removed]",
      "text/plain": [
       "<Figure size 432x288 with 1 Axes>"
      ]
     },
     "metadata": {},
     "output_type": "display_data"
    }
   ],
   "source": [
    "X_test_reconst = pd.DataFrame(decoded_imgs,columns=X_test.columns,index=X_test.index)\n",
    "X_test_reconst[\"p_past_vote_2019_Conservative\"].hist(bins=100)"
   ]
  },
  {
   "cell_type": "code",
   "execution_count": 168,
   "id": "515b2986",
   "metadata": {},
   "outputs": [
    {
     "data": {
      "text/plain": [
       "<matplotlib.axes._subplots.AxesSubplot at 0x2e4eee80>"
      ]
     },
     "execution_count": 168,
     "metadata": {},
     "output_type": "execute_result"
    },
    {
     "data": {
      "image/png": "[encoded data removed]",
      "text/plain": [
       "<Figure size 432x288 with 1 Axes>"
      ]
     },
     "metadata": {},
     "output_type": "display_data"
    }
   ],
   "source": [
    "X_test_reconst = pd.DataFrame(decoded_imgs,columns=X_test.columns,index=X_test.index)\n",
    "X_test_reconst[\"p_past_vote_2019_Conservative\"].hist(bins=100)"
   ]
  },
  {
   "cell_type": "code",
   "execution_count": 171,
   "id": "2b69f22f",
   "metadata": {},
   "outputs": [
    {
     "data": {
      "text/plain": [
       "<matplotlib.axes._subplots.AxesSubplot at 0x2bddccc0>"
      ]
     },
     "execution_count": 171,
     "metadata": {},
     "output_type": "execute_result"
    },
    {
     "data": {
      "image/png": "[encoded data removed]",
      "text/plain": [
       "<Figure size 432x288 with 1 Axes>"
      ]
     },
     "metadata": {},
     "output_type": "display_data"
    }
   ],
   "source": [
    "X_test_reconst = pd.DataFrame(decoded_imgs,columns=X_test.columns,index=X_test.index)\n",
    "X_test_reconst[\"p_past_vote_2019_Conservative\"].hist(bins=100)"
   ]
  },
  {
   "cell_type": "code",
   "execution_count": 109,
   "id": "f1bde516",
   "metadata": {},
   "outputs": [
    {
     "data": {
      "text/plain": [
       "(10385, 100)"
      ]
     },
     "execution_count": 109,
     "metadata": {},
     "output_type": "execute_result"
    }
   ],
   "source": [
    "decoded_imgs.shape"
   ]
  },
  {
   "cell_type": "code",
   "execution_count": 177,
   "id": "7ba334de",
   "metadata": {},
   "outputs": [
    {
     "data": {
      "text/plain": [
       "0.7519656733240291"
      ]
     },
     "execution_count": 177,
     "metadata": {},
     "output_type": "execute_result"
    }
   ],
   "source": []
  },
  {
   "cell_type": "code",
   "execution_count": 98,
   "id": "54a970d3",
   "metadata": {},
   "outputs": [
    {
     "data": {
      "text/plain": [
       "0    6541\n",
       "1    3844\n",
       "Name: p_past_vote_2019_Conservative, dtype: int64"
      ]
     },
     "execution_count": 98,
     "metadata": {},
     "output_type": "execute_result"
    }
   ],
   "source": [
    "X_test[\"p_past_vote_2019_Conservative\"].value_counts()"
   ]
  },
  {
   "cell_type": "code",
   "execution_count": 99,
   "id": "f1c704a4",
   "metadata": {},
   "outputs": [
    {
     "data": {
      "text/plain": [
       "0.69317105471296"
      ]
     },
     "execution_count": 99,
     "metadata": {},
     "output_type": "execute_result"
    }
   ],
   "source": [
    "X_test_reconst[\"p_past_vote_2019_Conservative\"].corr(X_test[\"p_past_vote_2019_Conservative\"])"
   ]
  },
  {
   "cell_type": "code",
   "execution_count": 68,
   "id": "ffc64805",
   "metadata": {},
   "outputs": [
    {
     "data": {
      "text/plain": [
       "id\n",
       "66014     1\n",
       "78512     1\n",
       "102320    0\n",
       "44782     0\n",
       "100932    0\n",
       "         ..\n",
       "51434     1\n",
       "101213    0\n",
       "14449     1\n",
       "7930      0\n",
       "59978     0\n",
       "Name: p_past_vote_2019_Conservative, Length: 10385, dtype: uint8"
      ]
     },
     "execution_count": 68,
     "metadata": {},
     "output_type": "execute_result"
    }
   ],
   "source": [
    "X_test[\"p_past_vote_2019_Conservative\"]"
   ]
  },
  {
   "cell_type": "code",
   "execution_count": 69,
   "id": "28ec3564",
   "metadata": {},
   "outputs": [
    {
     "data": {
      "text/plain": [
       "id\n",
       "66014     0.343306\n",
       "78512     0.952774\n",
       "102320    0.006326\n",
       "44782     0.036370\n",
       "100932    0.046496\n",
       "            ...   \n",
       "51434     0.992141\n",
       "101213    0.002963\n",
       "14449     0.990144\n",
       "7930      0.036385\n",
       "59978     0.038661\n",
       "Name: p_past_vote_2019_Conservative, Length: 10385, dtype: float32"
      ]
     },
     "execution_count": 69,
     "metadata": {},
     "output_type": "execute_result"
    }
   ],
   "source": [
    "X_test_reconst[\"p_past_vote_2019_Conservative\"]"
   ]
  },
  {
   "cell_type": "code",
   "execution_count": null,
   "id": "6c3309d1",
   "metadata": {},
   "outputs": [],
   "source": []
  },
  {
   "cell_type": "code",
   "execution_count": 87,
   "id": "a426b4d7",
   "metadata": {},
   "outputs": [
    {
     "data": {
      "text/plain": [
       "0.3701492537313433"
      ]
     },
     "execution_count": 87,
     "metadata": {},
     "output_type": "execute_result"
    }
   ],
   "source": [
    "X_test[\"p_past_vote_2019_Conservative\"].mean()"
   ]
  },
  {
   "cell_type": "code",
   "execution_count": 86,
   "id": "16c93cdd",
   "metadata": {},
   "outputs": [
    {
     "data": {
      "text/plain": [
       "0.7247054790225834"
      ]
     },
     "execution_count": 86,
     "metadata": {},
     "output_type": "execute_result"
    }
   ],
   "source": []
  },
  {
   "cell_type": "code",
   "execution_count": 90,
   "id": "eaa13ecf",
   "metadata": {},
   "outputs": [
    {
     "data": {
      "text/plain": [
       "fatherVote_Plaid Cymru                                                     0.000452\n",
       "partyIdSqueeze_Plaid Cymru                                                 0.000723\n",
       "motherVote_Plaid Cymru                                                     0.000847\n",
       "fatherVote_Scottish National Party (SNP)                                   0.001016\n",
       "ns_sec_L12.5 Semi-routine agricultural occupations                         0.001262\n",
       "                                                                             ...   \n",
       "worryCoronaHealth__Extremely Worried                                       4.011829\n",
       "cvEconSelf__Save the economy even if it increases infections               4.099110\n",
       "p_gross_household__£150,000 and over                                       4.122387\n",
       "cvFreedomSelf__Protect personal freedom even if it increases infections    4.274847\n",
       "worryCoronaPub__Extremely Worried                                          4.363718\n",
       "Length: 742, dtype: float64"
      ]
     },
     "execution_count": 90,
     "metadata": {},
     "output_type": "execute_result"
    }
   ],
   "source": [
    "(X_test_reconst-X_test).applymap(lambda x: x**2).mean().sort_values()"
   ]
  },
  {
   "cell_type": "code",
   "execution_count": 37,
   "id": "5a6fbe91",
   "metadata": {},
   "outputs": [
    {
     "data": {
      "text/plain": [
       "(4005.9648, 3844)"
      ]
     },
     "execution_count": 37,
     "metadata": {},
     "output_type": "execute_result"
    }
   ],
   "source": [
    "X_test_reconst[\"p_past_vote_2019_Conservative\"].sum(),X_test[\"p_past_vote_2019_Conservative\"].sum()"
   ]
  },
  {
   "cell_type": "code",
   "execution_count": 57,
   "id": "94c7ef46",
   "metadata": {},
   "outputs": [
    {
     "data": {
      "text/plain": [
       "(54.293293, 3844)"
      ]
     },
     "execution_count": 57,
     "metadata": {},
     "output_type": "execute_result"
    }
   ],
   "source": [
    "X_test_reconst[\"p_past_vote_2019_Conservative\"].sum(),X_test[\"p_past_vote_2019_Conservative\"].sum()"
   ]
  },
  {
   "cell_type": "code",
   "execution_count": 53,
   "id": "bc5c4ba3",
   "metadata": {},
   "outputs": [
    {
     "data": {
      "text/plain": [
       "array([[28.89605 , 30.912666, 36.709103,  0.      ],\n",
       "       [32.253   , 23.422077, 34.824047,  0.      ],\n",
       "       [25.277166, 40.572582, 29.26418 ,  0.      ],\n",
       "       ...,\n",
       "       [30.91752 , 23.406105, 40.072803,  0.      ],\n",
       "       [25.83636 , 32.851925, 33.76849 ,  0.      ],\n",
       "       [28.247217, 35.77055 , 31.923008,  0.      ]], dtype=float32)"
      ]
     },
     "execution_count": 53,
     "metadata": {},
     "output_type": "execute_result"
    }
   ],
   "source": [
    "encoded_imgs"
   ]
  },
  {
   "cell_type": "code",
   "execution_count": 72,
   "id": "8dd1dc2e",
   "metadata": {},
   "outputs": [
    {
     "data": {
      "text/plain": [
       "turnoutUKGeneral__Very likely that I will vote     4.0\n",
       "partyIdStrength__Not very strong                   2.0\n",
       "polAttention__Pay a great deal of attention       10.0\n",
       "pidWeThey__Strongly agree                          3.0\n",
       "pidInterestedOthers__Strongly agree                3.0\n",
       "                                                  ... \n",
       "responsibleEconC_2_Yes                             1.0\n",
       "responsibleEconC_1_Yes                             1.0\n",
       "coronaMeasures_2_Yes                               1.0\n",
       "coronaMeasures_1_Yes                               1.0\n",
       "coronaMeasures_4_Yes                               1.0\n",
       "Length: 742, dtype: float32"
      ]
     },
     "execution_count": 72,
     "metadata": {},
     "output_type": "execute_result"
    }
   ],
   "source": [
    "X.max()"
   ]
  },
  {
   "cell_type": "code",
   "execution_count": null,
   "id": "a27c3d3c",
   "metadata": {},
   "outputs": [],
   "source": []
  },
  {
   "cell_type": "code",
   "execution_count": null,
   "id": "78fc906e",
   "metadata": {},
   "outputs": [],
   "source": []
  },
  {
   "cell_type": "code",
   "execution_count": null,
   "id": "75adc7d4",
   "metadata": {},
   "outputs": [],
   "source": []
  },
  {
   "cell_type": "code",
   "execution_count": null,
   "id": "2790ac81",
   "metadata": {},
   "outputs": [],
   "source": []
  },
  {
   "cell_type": "code",
   "execution_count": null,
   "id": "37010610",
   "metadata": {},
   "outputs": [],
   "source": []
  },
  {
   "cell_type": "code",
   "execution_count": null,
   "id": "f66dd03b",
   "metadata": {},
   "outputs": [],
   "source": []
  },
  {
   "cell_type": "code",
   "execution_count": 5,
   "id": "pharmaceutical-invalid",
   "metadata": {},
   "outputs": [],
   "source": [
    "prep = BES_Panel.select_dtypes('category')\n",
    "prep = prep.copy()#[temp.columns[0:100]].copy()\n",
    "prep.dropna(axis=1,inplace=True)\n",
    "\n",
    "y = BES_Panel['p_eurefvote']"
   ]
  },
  {
   "cell_type": "code",
   "execution_count": 43,
   "id": "intended-orlando",
   "metadata": {},
   "outputs": [],
   "source": [
    "# search(BES_Panel,\"eurefvote\")"
   ]
  },
  {
   "cell_type": "code",
   "execution_count": 44,
   "id": "liberal-dressing",
   "metadata": {},
   "outputs": [],
   "source": [
    "\n",
    "# y = to_categorical(y)"
   ]
  },
  {
   "cell_type": "code",
   "execution_count": 45,
   "id": "voluntary-kennedy",
   "metadata": {},
   "outputs": [],
   "source": [
    "# prepare target\n",
    "# def prepare_targets(y_train, y_test):\n",
    "#     le = LabelEncoder()\n",
    "#     le.fit(y_train)\n",
    "#     y_train_enc = le.transform(y_train)\n",
    "#     y_test_enc = le.transform(y_test)\n",
    "#     return y_train_enc, y_test_enc\n",
    "\n",
    "\n",
    "enc = OrdinalEncoder()\n",
    "\n",
    "X = enc.fit_transform(prep)\n",
    "X = pd.DataFrame(X,columns = prep.columns,index = prep.index)"
   ]
  },
  {
   "cell_type": "code",
   "execution_count": 46,
   "id": "judicial-confidentiality",
   "metadata": {},
   "outputs": [],
   "source": [
    "# X = prep"
   ]
  },
  {
   "cell_type": "code",
   "execution_count": 10,
   "id": "anonymous-nudist",
   "metadata": {},
   "outputs": [],
   "source": [
    "# X"
   ]
  },
  {
   "cell_type": "code",
   "execution_count": 4,
   "id": "retained-teach",
   "metadata": {},
   "outputs": [],
   "source": [
    "def run_autoencoder(encoding_dim=32,hidden_size=100,verbose=2,\n",
    "                    loss='mean_squared_error',metrics=['accuracy','mse'],optimizer='adam',\n",
    "                    penultimate_act = 'relu',ultimate_act = 'linear'):\n",
    "\n",
    "    # Single fully-connected neural layer as encoder and decoder\n",
    "    use_regularizer = True\n",
    "    my_regularizer = None\n",
    "    my_epochs = 50\n",
    "    features_path = 'simple_autoe_features.pickle'\n",
    "    labels_path = 'simple_autoe_labels.pickle'\n",
    "\n",
    "    early_stopping_monitor = EarlyStopping(patience=3)\n",
    "\n",
    "    if use_regularizer:\n",
    "        # add a sparsity constraint on the encoded representations\n",
    "        # note use of 10e-5 leads to blurred results\n",
    "    #     my_regularizer = regularizers.l1(10e-8)\n",
    "        # and a larger number of epochs as the added regularization the model\n",
    "        # is less likely to overfit and can be trained longer\n",
    "        my_epochs = 100\n",
    "        features_path = 'sparse_autoe_features.pickle'\n",
    "        labels_path = 'sparse_autoe_labels.pickle'\n",
    "\n",
    "    # this is the size of our encoded representations\n",
    "    # encoding_dim = encoding_dim   # 32 floats -> compression factor 24.5, assuming the input is 784 floats\n",
    "    # hidden_size = hidden_size\n",
    "\n",
    "\n",
    "    # this is our input placeholder; 784 = 28 x 28\n",
    "    # input_img = Input(shape=(784, ))\n",
    "\n",
    "    input_img = Input(shape=(X.shape[1], ))\n",
    "\n",
    "    # \"encoded\" is the encoded representation of the inputs\n",
    "    hidden_encoder = Dense(hidden_size, activation = penultimate_act,\n",
    "                           activity_regularizer=regularizers.l1(10e-7) )(input_img)\n",
    "    encoded = Dense(encoding_dim, activation=penultimate_act,\n",
    "                    kernel_regularizer=regularizers.l2(10e-7))(hidden_encoder)\n",
    "    # encoded = Dense(encoding_dim, activation='relu', activity_regularizer=my_regularizer)(input_img)\n",
    "\n",
    "\n",
    "    # \"decoded\" is the lossy reconstruction of the input\n",
    "    # decoded = Dense(X.shape[1], activation='sigmoid')(encoded)\n",
    "\n",
    "    hidden_decoder = Dense(hidden_size, activation = penultimate_act,\n",
    "                          kernel_regularizer=regularizers.l2(10e-7))(encoded)\n",
    "    decoded = Dense(X.shape[1], activation=ultimate_act,\n",
    "                          kernel_regularizer=regularizers.l2(10e-7))(hidden_decoder)\n",
    "    # decoded = Dense(X.shape[1], activation='linear')(encoded)\n",
    "    # decoded = Dense(X.shape[1], activation='softmax')(encoded)\n",
    "\n",
    "    # this model maps an input to its reconstruction\n",
    "    autoencoder = Model(input_img, decoded)\n",
    "\n",
    "    # Separate Encoder model\n",
    "\n",
    "    # this model maps an input to its encoded representation\n",
    "    encoder = Model(input_img, encoded)\n",
    "\n",
    "    # Separate Decoder model\n",
    "\n",
    "    # create a placeholder for an encoded (32-dimensional) input\n",
    "    encoded_input = Input(shape=(encoding_dim,))\n",
    "    # hidden_layer_input = Input(shape=(hidden_size,))\n",
    "    # retrieve the last layer of the autoencoder model\n",
    "    ## changed to -2 after adding hidden layer!\n",
    "    # decoder_layer = autoencoder.layers[-1]\n",
    "    # create the decoder model\n",
    "    # decoder = Model(encoded_input, decoder_layer(hidden_layer_input))\n",
    "    encoded_input_layer = InputLayer(input_shape=(encoding_dim,))\n",
    "    # decoder = Model(encoded_input, decoder_layer(encoded_input))\n",
    "\n",
    "    decoder = extract_layers(autoencoder, -2, -1, encoded_input_layer)\n",
    "\n",
    "    # Train to reconstruct MNIST digits\n",
    "\n",
    "    # configure model to use a per-pixel binary crossentropy loss, and the Adadelta optimizer\n",
    "    # autoencoder.compile(optimizer='adadelta', loss='binary_crossentropy')\n",
    "\n",
    "    # autoencoder.compile(optimizer='adadelta', loss='binary_crossentropy')\n",
    "\n",
    "    autoencoder.compile( optimizer = optimizer,\n",
    "    #                loss = 'categorical_crossentropy',\n",
    "    #                loss = 'categorical_crossentropy',\n",
    "                   loss = loss,     \n",
    "                   metrics=metrics)\n",
    "\n",
    "\n",
    "    # # prepare input data\n",
    "    # (x_train, _), (x_test, y_test) = mnist.load_data()\n",
    "\n",
    "    # # normalize all values between 0 and 1 and flatten the 28x28 images into vectors of size 784\n",
    "    # x_train = x_train.astype('float32') / 255.\n",
    "    # x_test = x_test.astype('float32') / 255.\n",
    "    # x_train = x_train.reshape((len(x_train), np.prod(x_train.shape[1:])))\n",
    "    # x_test = x_test.reshape((len(x_test), np.prod(x_test.shape[1:])))\n",
    "    # print(x_train.shape)\n",
    "    # print(x_test.shape)\n",
    "\n",
    "    X_train, X_test, y_train, y_test = train_test_split(\n",
    "        X, y, test_size=0.33, random_state=42)\n",
    "\n",
    "    # Train autoencoder for 50 epochs\n",
    "\n",
    "    if isinstance(X_test, pd.DataFrame):\n",
    "        X_test_values = X_test.values\n",
    "        X_train_values = X_train.values\n",
    "    else:\n",
    "        X_test_values = X_test\n",
    "        X_train_values = X_train\n",
    "    \n",
    "    autoencoder.fit(X_train_values, X_train_values, epochs=my_epochs, batch_size=256,\n",
    "                    shuffle=True, validation_data=(X_test_values, X_test_values),\n",
    "                    verbose=verbose, callbacks=[early_stopping_monitor])\n",
    "\n",
    "    # after 50/100 epochs the autoencoder seems to reach a stable train/test lost value\n",
    "\n",
    "    # Visualize the reconstructed encoded representations\n",
    "\n",
    "    # encode and decode some digits\n",
    "    # note that we take them from the *test* set\n",
    "    encoded_imgs = encoder.predict(X_test_values)\n",
    "    decoded_imgs = decoder.predict(encoded_imgs)\n",
    "\n",
    "    # save latent space features 32-d vector\n",
    "    pickle.dump(encoded_imgs, open(features_path, 'wb'))\n",
    "    pickle.dump(y_test, open(labels_path, 'wb'))\n",
    "\n",
    "    # n = 10  # how many digits we will display\n",
    "    # plt.figure(figsize=(10, 2), dpi=100)\n",
    "    # for i in range(n):\n",
    "    #     # display original\n",
    "    #     ax = plt.subplot(2, n, i + 1)\n",
    "    #     plt.imshow(x_test[i].reshape(28, 28))\n",
    "    #     plt.gray()\n",
    "    #     ax.set_axis_off()\n",
    "\n",
    "    #     # display reconstruction\n",
    "    #     ax = plt.subplot(2, n, i + n + 1)\n",
    "    #     plt.imshow(decoded_imgs[i].reshape(28, 28))\n",
    "    #     plt.gray()\n",
    "    #     ax.set_axis_off()\n",
    "\n",
    "    # plt.show()\n",
    "    \n",
    "    return decoded_imgs,X_test,encoded_imgs,autoencoder,encoder,decoder"
   ]
  },
  {
   "cell_type": "code",
   "execution_count": 22,
   "id": "narrative-editor",
   "metadata": {},
   "outputs": [],
   "source": [
    "# prepare target\n",
    "# def prepare_targets(y_train, y_test):\n",
    "#     le = LabelEncoder()\n",
    "#     le.fit(y_train)\n",
    "#     y_train_enc = le.transform(y_train)\n",
    "#     y_test_enc = le.transform(y_test)\n",
    "#     return y_train_enc, y_test_enc\n",
    "enc = OneHotEncoder(sparse=False)\n",
    "\n",
    "X = enc.fit_transform(prep)\n",
    "# X = pd.DataFrame(X,columns = prep.columns,index = prep.index)"
   ]
  },
  {
   "cell_type": "code",
   "execution_count": 114,
   "id": "rubber-johnson",
   "metadata": {},
   "outputs": [
    {
     "data": {
      "text/plain": [
       "array([\"x0_Don't know\", 'x0_Fairly likely', 'x0_Fairly unlikely', ...,\n",
       "       'x161_Working full time (30 or more hours per week)',\n",
       "       'x161_Working part time (8-29 hours a week)',\n",
       "       'x161_Working part time (Less than 8 hours a week)'], dtype=object)"
      ]
     },
     "execution_count": 114,
     "metadata": {},
     "output_type": "execute_result"
    }
   ],
   "source": [
    "enc.get_feature_names()"
   ]
  },
  {
   "cell_type": "code",
   "execution_count": 116,
   "id": "8b18f817",
   "metadata": {},
   "outputs": [
    {
     "data": {
      "text/plain": [
       "Index(['turnoutUKGeneral', 'partyId', 'mii', 'polAttention', 'likeJohnson',\n",
       "       'likeStarmer', 'likeDavey', 'likeFarage', 'infoSourceTV',\n",
       "       'infoSourcePaper',\n",
       "       ...\n",
       "       'highRiskLetter_none', 'anyUni', 'riskScale', 'oslaua', 'gender', 'age',\n",
       "       'pcon', 'p_paper_read', 'p_socgrade', 'p_work_stat'],\n",
       "      dtype='object', length=162)"
      ]
     },
     "execution_count": 116,
     "metadata": {},
     "output_type": "execute_result"
    }
   ],
   "source": []
  },
  {
   "cell_type": "code",
   "execution_count": 20,
   "id": "1fd22af9",
   "metadata": {},
   "outputs": [],
   "source": [
    "# low_var_columns\n",
    "# X"
   ]
  },
  {
   "cell_type": "code",
   "execution_count": 24,
   "id": "special-illustration",
   "metadata": {},
   "outputs": [
    {
     "data": {
      "text/plain": [
       "(31468, 1214)"
      ]
     },
     "execution_count": 24,
     "metadata": {},
     "output_type": "execute_result"
    }
   ],
   "source": [
    "# low_var_columns = X.columns[X.var()<.05]\n",
    "not_low_var_columns = pd.DataFrame(X).columns[pd.DataFrame(X).var()>.005]\n",
    "X = X[:,not_low_var_columns]\n",
    "# X.drop(low_var_columns,axis=1,inplace=True)\n",
    "X.shape"
   ]
  },
  {
   "cell_type": "code",
   "execution_count": 107,
   "id": "cc0c7e7b",
   "metadata": {},
   "outputs": [
    {
     "data": {
      "text/plain": [
       "Int64Index([   0,    1,    2,    3,    4,    5,    6,    7,    8,    9,\n",
       "            ...\n",
       "            2228, 2229, 2231, 2232, 2233, 2234, 2235, 2236, 2237, 2238],\n",
       "           dtype='int64', length=1214)"
      ]
     },
     "execution_count": 107,
     "metadata": {},
     "output_type": "execute_result"
    }
   ],
   "source": [
    "not_low_var_columns"
   ]
  },
  {
   "cell_type": "code",
   "execution_count": 26,
   "id": "overhead-poker",
   "metadata": {},
   "outputs": [
    {
     "name": "stdout",
     "output_type": "stream",
     "text": [
      "encoding_dim = 4 hidden_size = 100\n",
      "WARNING:tensorflow:From C:\\ProgramData\\Anaconda3\\envs\\test_tensorflow_install\\lib\\site-packages\\tensorflow\\python\\keras\\_impl\\keras\\backend.py:1456: calling reduce_sum (from tensorflow.python.ops.math_ops) with keep_dims is deprecated and will be removed in a future version.\n",
      "Instructions for updating:\n",
      "keep_dims is deprecated, use keepdims instead\n",
      "WARNING:tensorflow:From C:\\ProgramData\\Anaconda3\\envs\\test_tensorflow_install\\lib\\site-packages\\tensorflow\\python\\keras\\_impl\\keras\\backend.py:1557: calling reduce_mean (from tensorflow.python.ops.math_ops) with keep_dims is deprecated and will be removed in a future version.\n",
      "Instructions for updating:\n",
      "keep_dims is deprecated, use keepdims instead\n",
      "Train on 21083 samples, validate on 10385 samples\n",
      "Epoch 1/100\n",
      " - 5s - loss: 0.3807 - acc: 0.8641 - mean_squared_error: 0.1135 - binary_accuracy: 0.8641 - binary_crossentropy: 0.3665 - val_loss: 0.3057 - val_acc: 0.8887 - val_mean_squared_error: 0.0867 - val_binary_accuracy: 0.8887 - val_binary_crossentropy: 0.2938\n",
      "Epoch 2/100\n",
      " - 4s - loss: 0.2943 - acc: 0.8914 - mean_squared_error: 0.0840 - binary_accuracy: 0.8914 - binary_crossentropy: 0.2846 - val_loss: 0.2830 - val_acc: 0.8943 - val_mean_squared_error: 0.0812 - val_binary_accuracy: 0.8943 - val_binary_crossentropy: 0.2749\n",
      "Epoch 3/100\n",
      " - 5s - loss: 0.2773 - acc: 0.8957 - mean_squared_error: 0.0799 - binary_accuracy: 0.8957 - binary_crossentropy: 0.2702 - val_loss: 0.2713 - val_acc: 0.8973 - val_mean_squared_error: 0.0785 - val_binary_accuracy: 0.8973 - val_binary_crossentropy: 0.2648\n",
      "Epoch 4/100\n",
      " - 4s - loss: 0.2685 - acc: 0.8978 - mean_squared_error: 0.0780 - binary_accuracy: 0.8978 - binary_crossentropy: 0.2628 - val_loss: 0.2667 - val_acc: 0.8982 - val_mean_squared_error: 0.0777 - val_binary_accuracy: 0.8982 - val_binary_crossentropy: 0.2616\n",
      "Epoch 5/100\n",
      " - 4s - loss: 0.2651 - acc: 0.8985 - mean_squared_error: 0.0773 - binary_accuracy: 0.8985 - binary_crossentropy: 0.2603 - val_loss: 0.2642 - val_acc: 0.8987 - val_mean_squared_error: 0.0772 - val_binary_accuracy: 0.8987 - val_binary_crossentropy: 0.2597\n",
      "Epoch 6/100\n",
      " - 5s - loss: 0.2627 - acc: 0.8990 - mean_squared_error: 0.0769 - binary_accuracy: 0.8990 - binary_crossentropy: 0.2584 - val_loss: 0.2614 - val_acc: 0.8994 - val_mean_squared_error: 0.0765 - val_binary_accuracy: 0.8994 - val_binary_crossentropy: 0.2572\n",
      "Epoch 7/100\n",
      " - 4s - loss: 0.2592 - acc: 0.9000 - mean_squared_error: 0.0759 - binary_accuracy: 0.9000 - binary_crossentropy: 0.2549 - val_loss: 0.2581 - val_acc: 0.9004 - val_mean_squared_error: 0.0756 - val_binary_accuracy: 0.9004 - val_binary_crossentropy: 0.2540\n",
      "Epoch 8/100\n",
      " - 5s - loss: 0.2570 - acc: 0.9006 - mean_squared_error: 0.0753 - binary_accuracy: 0.9006 - binary_crossentropy: 0.2530 - val_loss: 0.2568 - val_acc: 0.9007 - val_mean_squared_error: 0.0753 - val_binary_accuracy: 0.9007 - val_binary_crossentropy: 0.2529\n",
      "Epoch 9/100\n",
      " - 5s - loss: 0.2558 - acc: 0.9009 - mean_squared_error: 0.0751 - binary_accuracy: 0.9009 - binary_crossentropy: 0.2521 - val_loss: 0.2559 - val_acc: 0.9009 - val_mean_squared_error: 0.0751 - val_binary_accuracy: 0.9009 - val_binary_crossentropy: 0.2523\n",
      "Epoch 10/100\n",
      " - 5s - loss: 0.2550 - acc: 0.9011 - mean_squared_error: 0.0749 - binary_accuracy: 0.9011 - binary_crossentropy: 0.2514 - val_loss: 0.2551 - val_acc: 0.9011 - val_mean_squared_error: 0.0749 - val_binary_accuracy: 0.9011 - val_binary_crossentropy: 0.2517\n",
      "Epoch 11/100\n",
      " - 4s - loss: 0.2543 - acc: 0.9013 - mean_squared_error: 0.0748 - binary_accuracy: 0.9013 - binary_crossentropy: 0.2509 - val_loss: 0.2545 - val_acc: 0.9013 - val_mean_squared_error: 0.0748 - val_binary_accuracy: 0.9013 - val_binary_crossentropy: 0.2512\n",
      "Epoch 12/100\n",
      " - 4s - loss: 0.2536 - acc: 0.9015 - mean_squared_error: 0.0746 - binary_accuracy: 0.9015 - binary_crossentropy: 0.2504 - val_loss: 0.2539 - val_acc: 0.9015 - val_mean_squared_error: 0.0747 - val_binary_accuracy: 0.9015 - val_binary_crossentropy: 0.2507\n",
      "Epoch 13/100\n",
      " - 5s - loss: 0.2530 - acc: 0.9017 - mean_squared_error: 0.0745 - binary_accuracy: 0.9017 - binary_crossentropy: 0.2499 - val_loss: 0.2534 - val_acc: 0.9017 - val_mean_squared_error: 0.0745 - val_binary_accuracy: 0.9017 - val_binary_crossentropy: 0.2503\n",
      "Epoch 14/100\n",
      " - 5s - loss: 0.2525 - acc: 0.9019 - mean_squared_error: 0.0743 - binary_accuracy: 0.9019 - binary_crossentropy: 0.2494 - val_loss: 0.2528 - val_acc: 0.9019 - val_mean_squared_error: 0.0744 - val_binary_accuracy: 0.9019 - val_binary_crossentropy: 0.2498\n",
      "Epoch 15/100\n",
      " - 4s - loss: 0.2520 - acc: 0.9020 - mean_squared_error: 0.0742 - binary_accuracy: 0.9020 - binary_crossentropy: 0.2490 - val_loss: 0.2524 - val_acc: 0.9021 - val_mean_squared_error: 0.0743 - val_binary_accuracy: 0.9021 - val_binary_crossentropy: 0.2494\n",
      "Epoch 16/100\n",
      " - 5s - loss: 0.2515 - acc: 0.9022 - mean_squared_error: 0.0740 - binary_accuracy: 0.9022 - binary_crossentropy: 0.2485 - val_loss: 0.2519 - val_acc: 0.9022 - val_mean_squared_error: 0.0742 - val_binary_accuracy: 0.9022 - val_binary_crossentropy: 0.2491\n",
      "Epoch 17/100\n",
      " - 5s - loss: 0.2510 - acc: 0.9024 - mean_squared_error: 0.0739 - binary_accuracy: 0.9024 - binary_crossentropy: 0.2482 - val_loss: 0.2516 - val_acc: 0.9023 - val_mean_squared_error: 0.0741 - val_binary_accuracy: 0.9023 - val_binary_crossentropy: 0.2488\n",
      "Epoch 18/100\n",
      " - 5s - loss: 0.2506 - acc: 0.9025 - mean_squared_error: 0.0738 - binary_accuracy: 0.9025 - binary_crossentropy: 0.2478 - val_loss: 0.2512 - val_acc: 0.9024 - val_mean_squared_error: 0.0740 - val_binary_accuracy: 0.9024 - val_binary_crossentropy: 0.2484\n",
      "Epoch 19/100\n",
      " - 5s - loss: 0.2503 - acc: 0.9026 - mean_squared_error: 0.0737 - binary_accuracy: 0.9026 - binary_crossentropy: 0.2475 - val_loss: 0.2509 - val_acc: 0.9025 - val_mean_squared_error: 0.0739 - val_binary_accuracy: 0.9025 - val_binary_crossentropy: 0.2482\n",
      "Epoch 20/100\n",
      " - 5s - loss: 0.2500 - acc: 0.9027 - mean_squared_error: 0.0737 - binary_accuracy: 0.9027 - binary_crossentropy: 0.2472 - val_loss: 0.2506 - val_acc: 0.9026 - val_mean_squared_error: 0.0738 - val_binary_accuracy: 0.9026 - val_binary_crossentropy: 0.2479\n",
      "Epoch 21/100\n",
      " - 5s - loss: 0.2497 - acc: 0.9028 - mean_squared_error: 0.0736 - binary_accuracy: 0.9028 - binary_crossentropy: 0.2469 - val_loss: 0.2504 - val_acc: 0.9027 - val_mean_squared_error: 0.0738 - val_binary_accuracy: 0.9027 - val_binary_crossentropy: 0.2477\n",
      "Epoch 22/100\n",
      " - 5s - loss: 0.2494 - acc: 0.9028 - mean_squared_error: 0.0735 - binary_accuracy: 0.9028 - binary_crossentropy: 0.2467 - val_loss: 0.2502 - val_acc: 0.9027 - val_mean_squared_error: 0.0737 - val_binary_accuracy: 0.9027 - val_binary_crossentropy: 0.2475\n",
      "Epoch 23/100\n",
      " - 5s - loss: 0.2492 - acc: 0.9029 - mean_squared_error: 0.0735 - binary_accuracy: 0.9029 - binary_crossentropy: 0.2465 - val_loss: 0.2500 - val_acc: 0.9027 - val_mean_squared_error: 0.0737 - val_binary_accuracy: 0.9027 - val_binary_crossentropy: 0.2473\n",
      "Epoch 24/100\n",
      " - 4s - loss: 0.2490 - acc: 0.9029 - mean_squared_error: 0.0734 - binary_accuracy: 0.9029 - binary_crossentropy: 0.2463 - val_loss: 0.2498 - val_acc: 0.9027 - val_mean_squared_error: 0.0736 - val_binary_accuracy: 0.9027 - val_binary_crossentropy: 0.2472\n",
      "Epoch 25/100\n",
      " - 4s - loss: 0.2488 - acc: 0.9030 - mean_squared_error: 0.0734 - binary_accuracy: 0.9030 - binary_crossentropy: 0.2462 - val_loss: 0.2496 - val_acc: 0.9028 - val_mean_squared_error: 0.0736 - val_binary_accuracy: 0.9028 - val_binary_crossentropy: 0.2470\n",
      "Epoch 26/100\n",
      " - 5s - loss: 0.2486 - acc: 0.9030 - mean_squared_error: 0.0733 - binary_accuracy: 0.9030 - binary_crossentropy: 0.2460 - val_loss: 0.2495 - val_acc: 0.9028 - val_mean_squared_error: 0.0735 - val_binary_accuracy: 0.9028 - val_binary_crossentropy: 0.2469\n",
      "Epoch 27/100\n",
      " - 4s - loss: 0.2485 - acc: 0.9031 - mean_squared_error: 0.0733 - binary_accuracy: 0.9031 - binary_crossentropy: 0.2459 - val_loss: 0.2494 - val_acc: 0.9029 - val_mean_squared_error: 0.0735 - val_binary_accuracy: 0.9029 - val_binary_crossentropy: 0.2468\n",
      "Epoch 28/100\n",
      " - 5s - loss: 0.2483 - acc: 0.9031 - mean_squared_error: 0.0733 - binary_accuracy: 0.9031 - binary_crossentropy: 0.2457 - val_loss: 0.2492 - val_acc: 0.9029 - val_mean_squared_error: 0.0735 - val_binary_accuracy: 0.9029 - val_binary_crossentropy: 0.2467\n"
     ]
    },
    {
     "name": "stdout",
     "output_type": "stream",
     "text": [
      "Epoch 29/100\n",
      " - 5s - loss: 0.2482 - acc: 0.9032 - mean_squared_error: 0.0732 - binary_accuracy: 0.9032 - binary_crossentropy: 0.2456 - val_loss: 0.2491 - val_acc: 0.9029 - val_mean_squared_error: 0.0735 - val_binary_accuracy: 0.9029 - val_binary_crossentropy: 0.2466\n",
      "Epoch 30/100\n",
      " - 4s - loss: 0.2480 - acc: 0.9032 - mean_squared_error: 0.0732 - binary_accuracy: 0.9032 - binary_crossentropy: 0.2455 - val_loss: 0.2490 - val_acc: 0.9029 - val_mean_squared_error: 0.0734 - val_binary_accuracy: 0.9029 - val_binary_crossentropy: 0.2464\n",
      "Epoch 31/100\n",
      " - 4s - loss: 0.2479 - acc: 0.9032 - mean_squared_error: 0.0732 - binary_accuracy: 0.9032 - binary_crossentropy: 0.2454 - val_loss: 0.2489 - val_acc: 0.9030 - val_mean_squared_error: 0.0734 - val_binary_accuracy: 0.9030 - val_binary_crossentropy: 0.2464\n",
      "Epoch 32/100\n",
      " - 5s - loss: 0.2478 - acc: 0.9032 - mean_squared_error: 0.0731 - binary_accuracy: 0.9032 - binary_crossentropy: 0.2453 - val_loss: 0.2488 - val_acc: 0.9030 - val_mean_squared_error: 0.0734 - val_binary_accuracy: 0.9030 - val_binary_crossentropy: 0.2463\n",
      "Epoch 33/100\n",
      " - 5s - loss: 0.2477 - acc: 0.9033 - mean_squared_error: 0.0731 - binary_accuracy: 0.9033 - binary_crossentropy: 0.2452 - val_loss: 0.2487 - val_acc: 0.9030 - val_mean_squared_error: 0.0734 - val_binary_accuracy: 0.9030 - val_binary_crossentropy: 0.2462\n",
      "Epoch 34/100\n",
      " - 5s - loss: 0.2476 - acc: 0.9033 - mean_squared_error: 0.0731 - binary_accuracy: 0.9033 - binary_crossentropy: 0.2451 - val_loss: 0.2486 - val_acc: 0.9030 - val_mean_squared_error: 0.0733 - val_binary_accuracy: 0.9030 - val_binary_crossentropy: 0.2461\n",
      "Epoch 35/100\n",
      " - 4s - loss: 0.2475 - acc: 0.9033 - mean_squared_error: 0.0731 - binary_accuracy: 0.9033 - binary_crossentropy: 0.2450 - val_loss: 0.2486 - val_acc: 0.9030 - val_mean_squared_error: 0.0733 - val_binary_accuracy: 0.9030 - val_binary_crossentropy: 0.2461\n",
      "Epoch 36/100\n",
      " - 5s - loss: 0.2474 - acc: 0.9034 - mean_squared_error: 0.0730 - binary_accuracy: 0.9034 - binary_crossentropy: 0.2450 - val_loss: 0.2484 - val_acc: 0.9031 - val_mean_squared_error: 0.0733 - val_binary_accuracy: 0.9031 - val_binary_crossentropy: 0.2460\n",
      "Epoch 37/100\n",
      " - 5s - loss: 0.2473 - acc: 0.9034 - mean_squared_error: 0.0730 - binary_accuracy: 0.9034 - binary_crossentropy: 0.2449 - val_loss: 0.2484 - val_acc: 0.9031 - val_mean_squared_error: 0.0733 - val_binary_accuracy: 0.9031 - val_binary_crossentropy: 0.2460\n",
      "Epoch 38/100\n",
      " - 6s - loss: 0.2472 - acc: 0.9034 - mean_squared_error: 0.0730 - binary_accuracy: 0.9034 - binary_crossentropy: 0.2448 - val_loss: 0.2483 - val_acc: 0.9031 - val_mean_squared_error: 0.0733 - val_binary_accuracy: 0.9031 - val_binary_crossentropy: 0.2459\n",
      "Epoch 39/100\n",
      " - 5s - loss: 0.2472 - acc: 0.9034 - mean_squared_error: 0.0730 - binary_accuracy: 0.9034 - binary_crossentropy: 0.2447 - val_loss: 0.2483 - val_acc: 0.9031 - val_mean_squared_error: 0.0733 - val_binary_accuracy: 0.9031 - val_binary_crossentropy: 0.2458\n",
      "Epoch 40/100\n",
      " - 5s - loss: 0.2471 - acc: 0.9034 - mean_squared_error: 0.0730 - binary_accuracy: 0.9034 - binary_crossentropy: 0.2447 - val_loss: 0.2482 - val_acc: 0.9031 - val_mean_squared_error: 0.0733 - val_binary_accuracy: 0.9031 - val_binary_crossentropy: 0.2458\n",
      "Epoch 41/100\n",
      " - 4s - loss: 0.2470 - acc: 0.9035 - mean_squared_error: 0.0729 - binary_accuracy: 0.9035 - binary_crossentropy: 0.2446 - val_loss: 0.2481 - val_acc: 0.9032 - val_mean_squared_error: 0.0732 - val_binary_accuracy: 0.9032 - val_binary_crossentropy: 0.2457\n",
      "Epoch 42/100\n",
      " - 4s - loss: 0.2469 - acc: 0.9035 - mean_squared_error: 0.0729 - binary_accuracy: 0.9035 - binary_crossentropy: 0.2445 - val_loss: 0.2481 - val_acc: 0.9031 - val_mean_squared_error: 0.0732 - val_binary_accuracy: 0.9031 - val_binary_crossentropy: 0.2457\n",
      "Epoch 43/100\n",
      " - 5s - loss: 0.2469 - acc: 0.9035 - mean_squared_error: 0.0729 - binary_accuracy: 0.9035 - binary_crossentropy: 0.2445 - val_loss: 0.2480 - val_acc: 0.9032 - val_mean_squared_error: 0.0732 - val_binary_accuracy: 0.9032 - val_binary_crossentropy: 0.2456\n",
      "Epoch 44/100\n",
      " - 5s - loss: 0.2468 - acc: 0.9035 - mean_squared_error: 0.0729 - binary_accuracy: 0.9035 - binary_crossentropy: 0.2444 - val_loss: 0.2480 - val_acc: 0.9032 - val_mean_squared_error: 0.0732 - val_binary_accuracy: 0.9032 - val_binary_crossentropy: 0.2457\n",
      "Epoch 45/100\n",
      " - 5s - loss: 0.2467 - acc: 0.9035 - mean_squared_error: 0.0729 - binary_accuracy: 0.9035 - binary_crossentropy: 0.2444 - val_loss: 0.2479 - val_acc: 0.9032 - val_mean_squared_error: 0.0732 - val_binary_accuracy: 0.9032 - val_binary_crossentropy: 0.2455\n",
      "Epoch 46/100\n",
      " - 5s - loss: 0.2467 - acc: 0.9035 - mean_squared_error: 0.0729 - binary_accuracy: 0.9035 - binary_crossentropy: 0.2443 - val_loss: 0.2478 - val_acc: 0.9032 - val_mean_squared_error: 0.0732 - val_binary_accuracy: 0.9032 - val_binary_crossentropy: 0.2455\n",
      "Epoch 47/100\n",
      " - 5s - loss: 0.2466 - acc: 0.9036 - mean_squared_error: 0.0728 - binary_accuracy: 0.9036 - binary_crossentropy: 0.2442 - val_loss: 0.2478 - val_acc: 0.9032 - val_mean_squared_error: 0.0732 - val_binary_accuracy: 0.9032 - val_binary_crossentropy: 0.2455\n",
      "Epoch 48/100\n",
      " - 5s - loss: 0.2465 - acc: 0.9036 - mean_squared_error: 0.0728 - binary_accuracy: 0.9036 - binary_crossentropy: 0.2442 - val_loss: 0.2478 - val_acc: 0.9032 - val_mean_squared_error: 0.0731 - val_binary_accuracy: 0.9032 - val_binary_crossentropy: 0.2455\n",
      "Epoch 49/100\n",
      " - 4s - loss: 0.2465 - acc: 0.9036 - mean_squared_error: 0.0728 - binary_accuracy: 0.9036 - binary_crossentropy: 0.2441 - val_loss: 0.2478 - val_acc: 0.9032 - val_mean_squared_error: 0.0732 - val_binary_accuracy: 0.9032 - val_binary_crossentropy: 0.2455\n",
      "Epoch 50/100\n",
      " - 5s - loss: 0.2464 - acc: 0.9036 - mean_squared_error: 0.0728 - binary_accuracy: 0.9036 - binary_crossentropy: 0.2441 - val_loss: 0.2478 - val_acc: 0.9033 - val_mean_squared_error: 0.0731 - val_binary_accuracy: 0.9033 - val_binary_crossentropy: 0.2455\n",
      "Epoch 51/100\n",
      " - 5s - loss: 0.2464 - acc: 0.9036 - mean_squared_error: 0.0728 - binary_accuracy: 0.9036 - binary_crossentropy: 0.2440 - val_loss: 0.2477 - val_acc: 0.9033 - val_mean_squared_error: 0.0731 - val_binary_accuracy: 0.9033 - val_binary_crossentropy: 0.2454\n",
      "Epoch 52/100\n",
      " - 4s - loss: 0.2463 - acc: 0.9037 - mean_squared_error: 0.0728 - binary_accuracy: 0.9037 - binary_crossentropy: 0.2440 - val_loss: 0.2477 - val_acc: 0.9033 - val_mean_squared_error: 0.0731 - val_binary_accuracy: 0.9033 - val_binary_crossentropy: 0.2454\n",
      "Epoch 53/100\n",
      " - 5s - loss: 0.2462 - acc: 0.9037 - mean_squared_error: 0.0727 - binary_accuracy: 0.9037 - binary_crossentropy: 0.2439 - val_loss: 0.2476 - val_acc: 0.9033 - val_mean_squared_error: 0.0731 - val_binary_accuracy: 0.9033 - val_binary_crossentropy: 0.2453\n",
      "Epoch 54/100\n",
      " - 5s - loss: 0.2462 - acc: 0.9037 - mean_squared_error: 0.0727 - binary_accuracy: 0.9037 - binary_crossentropy: 0.2439 - val_loss: 0.2475 - val_acc: 0.9033 - val_mean_squared_error: 0.0731 - val_binary_accuracy: 0.9033 - val_binary_crossentropy: 0.2453\n",
      "Epoch 55/100\n",
      " - 4s - loss: 0.2461 - acc: 0.9037 - mean_squared_error: 0.0727 - binary_accuracy: 0.9037 - binary_crossentropy: 0.2438 - val_loss: 0.2475 - val_acc: 0.9033 - val_mean_squared_error: 0.0731 - val_binary_accuracy: 0.9033 - val_binary_crossentropy: 0.2452\n",
      "Epoch 56/100\n",
      " - 5s - loss: 0.2461 - acc: 0.9037 - mean_squared_error: 0.0727 - binary_accuracy: 0.9037 - binary_crossentropy: 0.2438 - val_loss: 0.2475 - val_acc: 0.9033 - val_mean_squared_error: 0.0731 - val_binary_accuracy: 0.9033 - val_binary_crossentropy: 0.2452\n",
      "Epoch 57/100\n",
      " - 5s - loss: 0.2460 - acc: 0.9037 - mean_squared_error: 0.0727 - binary_accuracy: 0.9037 - binary_crossentropy: 0.2437 - val_loss: 0.2475 - val_acc: 0.9033 - val_mean_squared_error: 0.0731 - val_binary_accuracy: 0.9033 - val_binary_crossentropy: 0.2452\n",
      "Epoch 58/100\n",
      " - 5s - loss: 0.2460 - acc: 0.9038 - mean_squared_error: 0.0727 - binary_accuracy: 0.9038 - binary_crossentropy: 0.2437 - val_loss: 0.2474 - val_acc: 0.9034 - val_mean_squared_error: 0.0731 - val_binary_accuracy: 0.9034 - val_binary_crossentropy: 0.2451\n",
      "Epoch 59/100\n",
      " - 4s - loss: 0.2459 - acc: 0.9038 - mean_squared_error: 0.0727 - binary_accuracy: 0.9038 - binary_crossentropy: 0.2436 - val_loss: 0.2474 - val_acc: 0.9033 - val_mean_squared_error: 0.0731 - val_binary_accuracy: 0.9033 - val_binary_crossentropy: 0.2451\n"
     ]
    },
    {
     "name": "stdout",
     "output_type": "stream",
     "text": [
      "Epoch 60/100\n",
      " - 5s - loss: 0.2458 - acc: 0.9038 - mean_squared_error: 0.0726 - binary_accuracy: 0.9038 - binary_crossentropy: 0.2435 - val_loss: 0.2474 - val_acc: 0.9034 - val_mean_squared_error: 0.0730 - val_binary_accuracy: 0.9034 - val_binary_crossentropy: 0.2451\n",
      "Epoch 61/100\n",
      " - 5s - loss: 0.2458 - acc: 0.9038 - mean_squared_error: 0.0726 - binary_accuracy: 0.9038 - binary_crossentropy: 0.2435 - val_loss: 0.2473 - val_acc: 0.9034 - val_mean_squared_error: 0.0730 - val_binary_accuracy: 0.9034 - val_binary_crossentropy: 0.2450\n",
      "Epoch 62/100\n",
      " - 5s - loss: 0.2457 - acc: 0.9039 - mean_squared_error: 0.0726 - binary_accuracy: 0.9039 - binary_crossentropy: 0.2435 - val_loss: 0.2473 - val_acc: 0.9034 - val_mean_squared_error: 0.0730 - val_binary_accuracy: 0.9034 - val_binary_crossentropy: 0.2450\n",
      "Epoch 63/100\n",
      " - 6s - loss: 0.2457 - acc: 0.9039 - mean_squared_error: 0.0726 - binary_accuracy: 0.9039 - binary_crossentropy: 0.2434 - val_loss: 0.2472 - val_acc: 0.9034 - val_mean_squared_error: 0.0730 - val_binary_accuracy: 0.9034 - val_binary_crossentropy: 0.2450\n",
      "Epoch 64/100\n",
      " - 4s - loss: 0.2457 - acc: 0.9039 - mean_squared_error: 0.0726 - binary_accuracy: 0.9039 - binary_crossentropy: 0.2434 - val_loss: 0.2472 - val_acc: 0.9034 - val_mean_squared_error: 0.0730 - val_binary_accuracy: 0.9034 - val_binary_crossentropy: 0.2449\n",
      "Epoch 65/100\n",
      " - 4s - loss: 0.2456 - acc: 0.9039 - mean_squared_error: 0.0726 - binary_accuracy: 0.9039 - binary_crossentropy: 0.2433 - val_loss: 0.2471 - val_acc: 0.9034 - val_mean_squared_error: 0.0730 - val_binary_accuracy: 0.9034 - val_binary_crossentropy: 0.2449\n",
      "Epoch 66/100\n",
      " - 4s - loss: 0.2455 - acc: 0.9039 - mean_squared_error: 0.0726 - binary_accuracy: 0.9039 - binary_crossentropy: 0.2433 - val_loss: 0.2472 - val_acc: 0.9034 - val_mean_squared_error: 0.0730 - val_binary_accuracy: 0.9034 - val_binary_crossentropy: 0.2450\n",
      "Epoch 67/100\n",
      " - 4s - loss: 0.2455 - acc: 0.9039 - mean_squared_error: 0.0725 - binary_accuracy: 0.9039 - binary_crossentropy: 0.2432 - val_loss: 0.2471 - val_acc: 0.9035 - val_mean_squared_error: 0.0730 - val_binary_accuracy: 0.9035 - val_binary_crossentropy: 0.2449\n",
      "Epoch 68/100\n",
      " - 4s - loss: 0.2454 - acc: 0.9039 - mean_squared_error: 0.0725 - binary_accuracy: 0.9039 - binary_crossentropy: 0.2432 - val_loss: 0.2470 - val_acc: 0.9035 - val_mean_squared_error: 0.0730 - val_binary_accuracy: 0.9035 - val_binary_crossentropy: 0.2448\n",
      "Epoch 69/100\n",
      " - 4s - loss: 0.2454 - acc: 0.9039 - mean_squared_error: 0.0725 - binary_accuracy: 0.9039 - binary_crossentropy: 0.2431 - val_loss: 0.2471 - val_acc: 0.9035 - val_mean_squared_error: 0.0730 - val_binary_accuracy: 0.9035 - val_binary_crossentropy: 0.2448\n",
      "Epoch 70/100\n",
      " - 4s - loss: 0.2454 - acc: 0.9040 - mean_squared_error: 0.0725 - binary_accuracy: 0.9040 - binary_crossentropy: 0.2431 - val_loss: 0.2470 - val_acc: 0.9035 - val_mean_squared_error: 0.0730 - val_binary_accuracy: 0.9035 - val_binary_crossentropy: 0.2448\n",
      "Epoch 71/100\n",
      " - 4s - loss: 0.2453 - acc: 0.9040 - mean_squared_error: 0.0725 - binary_accuracy: 0.9040 - binary_crossentropy: 0.2431 - val_loss: 0.2470 - val_acc: 0.9034 - val_mean_squared_error: 0.0730 - val_binary_accuracy: 0.9034 - val_binary_crossentropy: 0.2448\n",
      "Epoch 72/100\n",
      " - 5s - loss: 0.2453 - acc: 0.9040 - mean_squared_error: 0.0725 - binary_accuracy: 0.9040 - binary_crossentropy: 0.2430 - val_loss: 0.2470 - val_acc: 0.9035 - val_mean_squared_error: 0.0730 - val_binary_accuracy: 0.9035 - val_binary_crossentropy: 0.2448\n",
      "Epoch 73/100\n",
      " - 4s - loss: 0.2452 - acc: 0.9040 - mean_squared_error: 0.0725 - binary_accuracy: 0.9040 - binary_crossentropy: 0.2430 - val_loss: 0.2470 - val_acc: 0.9035 - val_mean_squared_error: 0.0730 - val_binary_accuracy: 0.9035 - val_binary_crossentropy: 0.2448\n",
      "Epoch 74/100\n",
      " - 5s - loss: 0.2452 - acc: 0.9040 - mean_squared_error: 0.0725 - binary_accuracy: 0.9040 - binary_crossentropy: 0.2429 - val_loss: 0.2469 - val_acc: 0.9035 - val_mean_squared_error: 0.0729 - val_binary_accuracy: 0.9035 - val_binary_crossentropy: 0.2447\n",
      "Epoch 75/100\n",
      " - 4s - loss: 0.2452 - acc: 0.9040 - mean_squared_error: 0.0725 - binary_accuracy: 0.9040 - binary_crossentropy: 0.2429 - val_loss: 0.2469 - val_acc: 0.9035 - val_mean_squared_error: 0.0729 - val_binary_accuracy: 0.9035 - val_binary_crossentropy: 0.2447\n",
      "Epoch 76/100\n",
      " - 4s - loss: 0.2451 - acc: 0.9041 - mean_squared_error: 0.0724 - binary_accuracy: 0.9041 - binary_crossentropy: 0.2429 - val_loss: 0.2469 - val_acc: 0.9035 - val_mean_squared_error: 0.0729 - val_binary_accuracy: 0.9035 - val_binary_crossentropy: 0.2447\n",
      "Epoch 77/100\n",
      " - 4s - loss: 0.2451 - acc: 0.9041 - mean_squared_error: 0.0724 - binary_accuracy: 0.9041 - binary_crossentropy: 0.2428 - val_loss: 0.2469 - val_acc: 0.9035 - val_mean_squared_error: 0.0729 - val_binary_accuracy: 0.9035 - val_binary_crossentropy: 0.2446\n",
      "Epoch 78/100\n",
      " - 4s - loss: 0.2450 - acc: 0.9041 - mean_squared_error: 0.0724 - binary_accuracy: 0.9041 - binary_crossentropy: 0.2428 - val_loss: 0.2468 - val_acc: 0.9035 - val_mean_squared_error: 0.0729 - val_binary_accuracy: 0.9035 - val_binary_crossentropy: 0.2446\n",
      "Epoch 79/100\n",
      " - 5s - loss: 0.2450 - acc: 0.9041 - mean_squared_error: 0.0724 - binary_accuracy: 0.9041 - binary_crossentropy: 0.2428 - val_loss: 0.2468 - val_acc: 0.9035 - val_mean_squared_error: 0.0729 - val_binary_accuracy: 0.9035 - val_binary_crossentropy: 0.2446\n",
      "Epoch 80/100\n",
      " - 5s - loss: 0.2449 - acc: 0.9041 - mean_squared_error: 0.0724 - binary_accuracy: 0.9041 - binary_crossentropy: 0.2427 - val_loss: 0.2468 - val_acc: 0.9036 - val_mean_squared_error: 0.0729 - val_binary_accuracy: 0.9036 - val_binary_crossentropy: 0.2446\n",
      "Epoch 81/100\n",
      " - 5s - loss: 0.2449 - acc: 0.9041 - mean_squared_error: 0.0724 - binary_accuracy: 0.9041 - binary_crossentropy: 0.2427 - val_loss: 0.2468 - val_acc: 0.9036 - val_mean_squared_error: 0.0729 - val_binary_accuracy: 0.9036 - val_binary_crossentropy: 0.2446\n",
      "Epoch 82/100\n",
      " - 5s - loss: 0.2449 - acc: 0.9041 - mean_squared_error: 0.0724 - binary_accuracy: 0.9041 - binary_crossentropy: 0.2427 - val_loss: 0.2468 - val_acc: 0.9035 - val_mean_squared_error: 0.0729 - val_binary_accuracy: 0.9035 - val_binary_crossentropy: 0.2445\n",
      "Epoch 83/100\n",
      " - 5s - loss: 0.2449 - acc: 0.9041 - mean_squared_error: 0.0724 - binary_accuracy: 0.9041 - binary_crossentropy: 0.2426 - val_loss: 0.2467 - val_acc: 0.9036 - val_mean_squared_error: 0.0729 - val_binary_accuracy: 0.9036 - val_binary_crossentropy: 0.2445\n",
      "Epoch 84/100\n",
      " - 5s - loss: 0.2448 - acc: 0.9041 - mean_squared_error: 0.0724 - binary_accuracy: 0.9041 - binary_crossentropy: 0.2426 - val_loss: 0.2468 - val_acc: 0.9036 - val_mean_squared_error: 0.0729 - val_binary_accuracy: 0.9036 - val_binary_crossentropy: 0.2445\n",
      "Epoch 85/100\n",
      " - 5s - loss: 0.2448 - acc: 0.9041 - mean_squared_error: 0.0724 - binary_accuracy: 0.9041 - binary_crossentropy: 0.2426 - val_loss: 0.2467 - val_acc: 0.9035 - val_mean_squared_error: 0.0729 - val_binary_accuracy: 0.9035 - val_binary_crossentropy: 0.2445\n",
      "Epoch 86/100\n",
      " - 5s - loss: 0.2448 - acc: 0.9042 - mean_squared_error: 0.0724 - binary_accuracy: 0.9042 - binary_crossentropy: 0.2425 - val_loss: 0.2467 - val_acc: 0.9036 - val_mean_squared_error: 0.0729 - val_binary_accuracy: 0.9036 - val_binary_crossentropy: 0.2445\n",
      "Epoch 87/100\n",
      " - 5s - loss: 0.2447 - acc: 0.9042 - mean_squared_error: 0.0723 - binary_accuracy: 0.9042 - binary_crossentropy: 0.2425 - val_loss: 0.2467 - val_acc: 0.9035 - val_mean_squared_error: 0.0729 - val_binary_accuracy: 0.9035 - val_binary_crossentropy: 0.2445\n",
      "Epoch 88/100\n",
      " - 5s - loss: 0.2447 - acc: 0.9042 - mean_squared_error: 0.0723 - binary_accuracy: 0.9042 - binary_crossentropy: 0.2425 - val_loss: 0.2467 - val_acc: 0.9036 - val_mean_squared_error: 0.0729 - val_binary_accuracy: 0.9036 - val_binary_crossentropy: 0.2445\n",
      "Epoch 89/100\n",
      " - 5s - loss: 0.2447 - acc: 0.9042 - mean_squared_error: 0.0723 - binary_accuracy: 0.9042 - binary_crossentropy: 0.2424 - val_loss: 0.2467 - val_acc: 0.9036 - val_mean_squared_error: 0.0729 - val_binary_accuracy: 0.9036 - val_binary_crossentropy: 0.2445\n",
      "Epoch 90/100\n",
      " - 5s - loss: 0.2446 - acc: 0.9042 - mean_squared_error: 0.0723 - binary_accuracy: 0.9042 - binary_crossentropy: 0.2424 - val_loss: 0.2466 - val_acc: 0.9036 - val_mean_squared_error: 0.0729 - val_binary_accuracy: 0.9036 - val_binary_crossentropy: 0.2444\n"
     ]
    },
    {
     "name": "stdout",
     "output_type": "stream",
     "text": [
      "Epoch 91/100\n",
      " - 5s - loss: 0.2446 - acc: 0.9042 - mean_squared_error: 0.0723 - binary_accuracy: 0.9042 - binary_crossentropy: 0.2424 - val_loss: 0.2466 - val_acc: 0.9036 - val_mean_squared_error: 0.0729 - val_binary_accuracy: 0.9036 - val_binary_crossentropy: 0.2444\n",
      "Epoch 92/100\n",
      " - 5s - loss: 0.2446 - acc: 0.9042 - mean_squared_error: 0.0723 - binary_accuracy: 0.9042 - binary_crossentropy: 0.2424 - val_loss: 0.2467 - val_acc: 0.9035 - val_mean_squared_error: 0.0729 - val_binary_accuracy: 0.9035 - val_binary_crossentropy: 0.2445\n",
      "Epoch 93/100\n",
      " - 5s - loss: 0.2445 - acc: 0.9042 - mean_squared_error: 0.0723 - binary_accuracy: 0.9042 - binary_crossentropy: 0.2423 - val_loss: 0.2466 - val_acc: 0.9036 - val_mean_squared_error: 0.0729 - val_binary_accuracy: 0.9036 - val_binary_crossentropy: 0.2444\n",
      "mean correlation =\n",
      "0.2974576615220296\n"
     ]
    }
   ],
   "source": [
    "import warnings\n",
    "warnings.filterwarnings('ignore')\n",
    "\n",
    "for encoding_dim in [4]:\n",
    "    for hidden_size in [100]:\n",
    "        print(\"encoding_dim = \"+str(encoding_dim),\"hidden_size = \"+str(hidden_size))\n",
    "        decoded_imgs,X_test,encoded_imgs,autoencoder,encoder,decoder = run_autoencoder(encoding_dim=encoding_dim,\n",
    "                                                                                       hidden_size=hidden_size,\n",
    "                                                                                       verbose=2,\n",
    "                                                                                       loss='binary_crossentropy',\n",
    "                                                                                       ultimate_act='sigmoid',\n",
    "                                                                                       metrics=['accuracy',\n",
    "                                                                                                'mse',\n",
    "                                                                                                'binary_accuracy',\n",
    "                                                                                                'binary_crossentropy',\n",
    "                                                                                                'kullback_leibler_divergence',\n",
    "                                                                                                'precision',])\n",
    "\n",
    "        X_test = pd.DataFrame(X_test)\n",
    "\n",
    "        X_test_reconst = pd.DataFrame(decoded_imgs)\n",
    "        mean_correlation  = X_test_reconst.apply(lambda x: X_test_reconst[x.name].corr( X_test[x.name] ) ).mean()        \n",
    "        \n",
    "        \n",
    "#         X_test_reconst = pd.DataFrame(decoded_imgs,columns=X_test.columns,index=X_test.index)\n",
    "    #     X_test_reconst[\"p_past_vote_2019_Conservative\"].hist(bins=100)\n",
    "#         print(\"p_past_vote_2019_Conservative correlation =\")\n",
    "#         print(X_test_reconst[\"p_past_vote_2019_Conservative\"].corr(X_test[\"p_past_vote_2019_Conservative\"]))\n",
    "        print(\"mean correlation =\")\n",
    "        print(mean_correlation)"
   ]
  },
  {
   "cell_type": "code",
   "execution_count": 33,
   "id": "24f2b949",
   "metadata": {},
   "outputs": [
    {
     "data": {
      "text/plain": [
       "0.3331904894686003"
      ]
     },
     "execution_count": 33,
     "metadata": {},
     "output_type": "execute_result"
    }
   ],
   "source": [
    "X_test_reconst.apply(lambda x: (X_test_reconst>.5)[x.name].corr( X_test[x.name] ) ).mean()  "
   ]
  },
  {
   "cell_type": "code",
   "execution_count": 34,
   "id": "4dadb455",
   "metadata": {},
   "outputs": [
    {
     "data": {
      "text/plain": [
       "0.2974576615220296"
      ]
     },
     "execution_count": 34,
     "metadata": {},
     "output_type": "execute_result"
    }
   ],
   "source": [
    "X_test_reconst.apply(lambda x: X_test_reconst[x.name].corr( X_test[x.name] ) ).mean()  "
   ]
  },
  {
   "cell_type": "code",
   "execution_count": 43,
   "id": "literary-budget",
   "metadata": {},
   "outputs": [],
   "source": [
    "df = pd.DataFrame(X_test_reconst>.5,columns=enc.get_feature_names()[not_low_var_columns],index=prep.index)"
   ]
  },
  {
   "cell_type": "code",
   "execution_count": 67,
   "id": "8ed3f867",
   "metadata": {},
   "outputs": [
    {
     "data": {
      "text/plain": [
       "7"
      ]
     },
     "execution_count": 67,
     "metadata": {},
     "output_type": "execute_result"
    }
   ],
   "source": [
    "list(enc.get_feature_names()[not_low_var_columns]).index(\"x1_Conservative\")"
   ]
  },
  {
   "cell_type": "code",
   "execution_count": 78,
   "id": "c9655e7d",
   "metadata": {},
   "outputs": [],
   "source": [
    "df = (X_test_reconst>.5).astype(int)\n",
    "df.columns = enc.get_feature_names()[not_low_var_columns]"
   ]
  },
  {
   "cell_type": "code",
   "execution_count": 52,
   "id": "e93e0ac2",
   "metadata": {},
   "outputs": [
    {
     "data": {
      "text/plain": [
       "x1_Conservative    0\n",
       "dtype: int64"
      ]
     },
     "execution_count": 52,
     "metadata": {},
     "output_type": "execute_result"
    }
   ],
   "source": [
    "search(df,\"Conservative\")"
   ]
  },
  {
   "cell_type": "code",
   "execution_count": 56,
   "id": "hawaiian-bridal",
   "metadata": {},
   "outputs": [],
   "source": [
    "df_orig = pd.DataFrame(X_test,columns=enc.get_feature_names()[not_low_var_columns],index=prep.index)"
   ]
  },
  {
   "cell_type": "code",
   "execution_count": 82,
   "id": "6145ef69",
   "metadata": {},
   "outputs": [],
   "source": [
    "df_orig = X_test.copy()\n",
    "df_orig.columns = enc.get_feature_names()[not_low_var_columns]\n",
    "df_orig = df_orig.astype(int)"
   ]
  },
  {
   "cell_type": "code",
   "execution_count": 83,
   "id": "d03d0cc1",
   "metadata": {},
   "outputs": [
    {
     "data": {
      "text/plain": [
       "3168"
      ]
     },
     "execution_count": 83,
     "metadata": {},
     "output_type": "execute_result"
    }
   ],
   "source": [
    "df_orig[\"x1_Conservative\"].sum()"
   ]
  },
  {
   "cell_type": "code",
   "execution_count": 84,
   "id": "cd0e7b82",
   "metadata": {},
   "outputs": [
    {
     "data": {
      "text/plain": [
       "3286"
      ]
     },
     "execution_count": 84,
     "metadata": {},
     "output_type": "execute_result"
    }
   ],
   "source": [
    "df[\"x1_Conservative\"].sum()"
   ]
  },
  {
   "cell_type": "code",
   "execution_count": 85,
   "id": "2e13d85f",
   "metadata": {},
   "outputs": [
    {
     "data": {
      "text/plain": [
       "0.6572463463950309"
      ]
     },
     "execution_count": 85,
     "metadata": {},
     "output_type": "execute_result"
    }
   ],
   "source": [
    "df[\"x1_Conservative\"].corr(df_orig[\"x1_Conservative\"])"
   ]
  },
  {
   "cell_type": "code",
   "execution_count": 86,
   "id": "a73e697d",
   "metadata": {},
   "outputs": [
    {
     "data": {
      "text/plain": [
       "0.7163260426942462"
      ]
     },
     "execution_count": 86,
     "metadata": {},
     "output_type": "execute_result"
    }
   ],
   "source": [
    "X_test_reconst[7].corr(X_test[7])"
   ]
  },
  {
   "cell_type": "code",
   "execution_count": 89,
   "id": "6b83781b",
   "metadata": {},
   "outputs": [
    {
     "data": {
      "text/plain": [
       "0.8530572941742899"
      ]
     },
     "execution_count": 89,
     "metadata": {},
     "output_type": "execute_result"
    }
   ],
   "source": [
    "sum(df[\"x1_Conservative\"]==df_orig[\"x1_Conservative\"])/df[\"x1_Conservative\"].shape[0]"
   ]
  },
  {
   "cell_type": "code",
   "execution_count": 23,
   "id": "dirty-cambridge",
   "metadata": {},
   "outputs": [
    {
     "data": {
      "text/plain": [
       "0        0.035615\n",
       "1        0.019917\n",
       "2        0.005073\n",
       "3        0.365039\n",
       "4        0.029809\n",
       "           ...   \n",
       "10380    0.019235\n",
       "10381    0.005803\n",
       "10382    0.020040\n",
       "10383    0.006591\n",
       "10384    0.006595\n",
       "Name: 0, Length: 10385, dtype: float32"
      ]
     },
     "execution_count": 23,
     "metadata": {},
     "output_type": "execute_result"
    }
   ],
   "source": [
    "X_test_reconst.apply(lambda x: X_test_reconst[x.name].corr( X_test[x.name] ) ).mean()"
   ]
  },
  {
   "cell_type": "code",
   "execution_count": 94,
   "id": "meaningful-delta",
   "metadata": {},
   "outputs": [
    {
     "data": {
      "text/plain": [
       "444    0.654178\n",
       "650    0.663619\n",
       "220    0.664292\n",
       "899    0.667243\n",
       "480    0.671782\n",
       "73     0.673374\n",
       "716    0.673770\n",
       "468    0.677780\n",
       "208    0.680285\n",
       "832    0.683550\n",
       "502    0.689561\n",
       "292    0.690762\n",
       "133    0.692577\n",
       "513    0.694370\n",
       "963    0.694707\n",
       "243    0.695602\n",
       "563    0.695610\n",
       "887    0.698197\n",
       "808    0.698532\n",
       "765    0.698603\n",
       "820    0.700747\n",
       "492    0.703564\n",
       "254    0.704982\n",
       "525    0.705057\n",
       "722    0.706938\n",
       "346    0.710535\n",
       "271    0.711914\n",
       "262    0.712888\n",
       "547    0.713450\n",
       "853    0.715295\n",
       "935    0.715577\n",
       "278    0.716758\n",
       "536    0.721971\n",
       "619    0.722107\n",
       "557    0.724030\n",
       "232    0.728334\n",
       "595    0.729707\n",
       "911    0.730417\n",
       "642    0.732571\n",
       "568    0.734126\n",
       "607    0.734949\n",
       "157    0.737945\n",
       "551    0.740737\n",
       "841    0.741016\n",
       "946    0.744880\n",
       "145    0.748310\n",
       "583    0.754455\n",
       "631    0.757446\n",
       "923    0.797876\n",
       "99     0.820750\n",
       "dtype: float64"
      ]
     },
     "execution_count": 94,
     "metadata": {},
     "output_type": "execute_result"
    }
   ],
   "source": [
    "X_test_reconst.corrwith(pd.Series(encoded_imgs[:,0].reshape(X_test.shape[0]),index=X_test.index)).sort_values().tail(50)"
   ]
  },
  {
   "cell_type": "code",
   "execution_count": 95,
   "id": "liable-concentration",
   "metadata": {},
   "outputs": [
    {
     "data": {
      "text/plain": [
       "0       0.628757\n",
       "1       0.054209\n",
       "2       0.146042\n",
       "3       0.216294\n",
       "4      -0.434844\n",
       "          ...   \n",
       "1209    0.317695\n",
       "1210   -0.042881\n",
       "1211   -0.471164\n",
       "1212    0.000535\n",
       "1213   -0.378133\n",
       "Length: 1214, dtype: float64"
      ]
     },
     "execution_count": 95,
     "metadata": {},
     "output_type": "execute_result"
    }
   ],
   "source": [
    "X_test_reconst.corrwith(pd.Series(encoded_imgs[:,0].reshape(X_test.shape[0]),index=X_test.index))"
   ]
  },
  {
   "cell_type": "code",
   "execution_count": 118,
   "id": "fd1a7596",
   "metadata": {},
   "outputs": [
    {
     "data": {
      "text/html": [
       "[\"turnoutUKGeneral_Don't know\", 'turnoutUKGeneral_Fairly likely', 'turnoutUKGeneral_Fairly unlikely', 'turnoutUKGeneral_Neither likely nor unlikely', 'turnoutUKGeneral_Very likely that I would vote', 'turnoutUKGeneral_Very unlikely that I would vote', 'partyId_Brexit Party', 'partyId_Conservative', \"partyId_Don't know\", 'partyId_Green Party', 'partyId_Labour', 'partyId_Liberal Democrat', 'partyId_No - none', 'partyId_Other', 'partyId_Plaid Cymru', 'partyId_Scottish National Party (SNP)', \"mii_Don't know\", 'mii_Issue stated', 'mii_None', 'polAttention_1', 'polAttention_2', 'polAttention_3', 'polAttention_4', 'polAttention_5', 'polAttention_6', 'polAttention_7', 'polAttention_8', 'polAttention_9', \"polAttention_Don't know\", 'polAttention_Pay a great deal of attention', 'polAttention_Pay no attention', 'likeJohnson_1', 'likeJohnson_2', 'likeJohnson_3', 'likeJohnson_4', 'likeJohnson_5', 'likeJohnson_6', 'likeJohnson_7', 'likeJohnson_8', 'likeJohnson_9', \"likeJohnson_Don't know\", 'likeJohnson_Strongly dislike', 'likeJohnson_Strongly like', 'likeStarmer_1', 'likeStarmer_2', 'likeStarmer_3', 'likeStarmer_4', 'likeStarmer_5', 'likeStarmer_6', 'likeStarmer_7', 'likeStarmer_8', 'likeStarmer_9', \"likeStarmer_Don't know\", 'likeStarmer_Strongly dislike', 'likeStarmer_Strongly like', 'likeDavey_1', 'likeDavey_2', 'likeDavey_3', 'likeDavey_4', 'likeDavey_5', 'likeDavey_6', 'likeDavey_7', 'likeDavey_8', 'likeDavey_9', \"likeDavey_Don't know\", 'likeDavey_Strongly dislike', 'likeDavey_Strongly like', 'likeFarage_1', 'likeFarage_2', 'likeFarage_3', 'likeFarage_4', 'likeFarage_5', 'likeFarage_6', 'likeFarage_7', 'likeFarage_8', 'likeFarage_9', \"likeFarage_Don't know\", 'likeFarage_Strongly dislike', 'likeFarage_Strongly like', 'infoSourceTV_1 to 2 hours', 'infoSourceTV_1/2 hour to 1 hour', \"infoSourceTV_Don't know\", 'infoSourceTV_Less than 1/2 hour', 'infoSourceTV_More than 2 hours', 'infoSourceTV_None, no time at all', 'infoSourcePaper_1 to 2 hours', 'infoSourcePaper_1/2 hour to 1 hour', \"infoSourcePaper_Don't know\", 'infoSourcePaper_Less than 1/2 hour', 'infoSourcePaper_More than 2 hours', 'infoSourcePaper_None, no time at all', 'infoSourceRadio_1 to 2 hours', 'infoSourceRadio_1/2 hour to 1 hour', \"infoSourceRadio_Don't know\", 'infoSourceRadio_Less than 1/2 hour', 'infoSourceRadio_More than 2 hours', 'infoSourceRadio_None, no time at all', 'infoSourceInternet_1 to 2 hours', 'infoSourceInternet_1/2 hour to 1 hour', \"infoSourceInternet_Don't know\", 'infoSourceInternet_Less than 1/2 hour', 'infoSourceInternet_More than 2 hours', 'infoSourceInternet_None, no time at all', 'likeCon_1', 'likeCon_2', 'likeCon_3', 'likeCon_4', 'likeCon_5', 'likeCon_6', 'likeCon_7', 'likeCon_8', 'likeCon_9', \"likeCon_Don't know\", 'likeCon_Strongly dislike', 'likeCon_Strongly like', 'likeLab_1', 'likeLab_2', 'likeLab_3', 'likeLab_4', 'likeLab_5', 'likeLab_6', 'likeLab_7', 'likeLab_8', 'likeLab_9', \"likeLab_Don't know\", 'likeLab_Strongly dislike', 'likeLab_Strongly like', 'likeLD_1', 'likeLD_2', 'likeLD_3', 'likeLD_4', 'likeLD_5', 'likeLD_6', 'likeLD_7', 'likeLD_8', 'likeLD_9', \"likeLD_Don't know\", 'likeLD_Strongly dislike', 'likeLD_Strongly like', 'likeBrexitParty_1', 'likeBrexitParty_2', 'likeBrexitParty_3', 'likeBrexitParty_4', 'likeBrexitParty_5', 'likeBrexitParty_6', 'likeBrexitParty_7', 'likeBrexitParty_8', 'likeBrexitParty_9', \"likeBrexitParty_Don't know\", 'likeBrexitParty_Strongly dislike', 'likeBrexitParty_Strongly like', 'likeGrn_1', 'likeGrn_2', 'likeGrn_3', 'likeGrn_4', 'likeGrn_5', 'likeGrn_6', 'likeGrn_7', 'likeGrn_8', 'likeGrn_9', \"likeGrn_Don't know\", 'likeGrn_Strongly dislike', 'likeGrn_Strongly like', \"riskPoverty_Don't know\", 'riskPoverty_Fairly likely', 'riskPoverty_Fairly unlikely', 'riskPoverty_Neither likely nor unlikely', 'riskPoverty_Very likely', 'riskPoverty_Very unlikely', \"riskUnemployment_Don't know\", 'riskUnemployment_Fairly likely', 'riskUnemployment_Fairly unlikely', 'riskUnemployment_Neither likely nor unlikely', 'riskUnemployment_Very likely', 'riskUnemployment_Very unlikely', 'goodTimePurchase_Bad time to buy', \"goodTimePurchase_Don't know\", 'goodTimePurchase_Good time to buy', 'goodTimePurchase_Neither good nor bad time to buy', \"econPersonalRetro_Don't know\", 'econPersonalRetro_Got a little better', 'econPersonalRetro_Got a little worse', 'econPersonalRetro_Got a lot better', 'econPersonalRetro_Got a lot worse', 'econPersonalRetro_Stayed the same', \"econGenRetro_Don't know\", 'econGenRetro_Got a little better', 'econGenRetro_Got a little worse', 'econGenRetro_Got a lot better', 'econGenRetro_Got a lot worse', 'econGenRetro_Stayed the same', \"econPersonalProsp_Don't know\", 'econPersonalProsp_Get a little better', 'econPersonalProsp_Get a little worse', 'econPersonalProsp_Get a lot better', 'econPersonalProsp_Get a lot worse', 'econPersonalProsp_Stay the same', \"econGenProsp_Don't know\", 'econGenProsp_Get a little better', 'econGenProsp_Get a little worse', 'econGenProsp_Get a lot better', 'econGenProsp_Get a lot worse', 'econGenProsp_Stay the same', 'EUIntegrationSelf_1', 'EUIntegrationSelf_2', 'EUIntegrationSelf_3', 'EUIntegrationSelf_4', 'EUIntegrationSelf_5', 'EUIntegrationSelf_6', 'EUIntegrationSelf_7', 'EUIntegrationSelf_8', 'EUIntegrationSelf_9', \"EUIntegrationSelf_Don't know\", 'EUIntegrationSelf_Protect our independence', 'EUIntegrationSelf_Unite fully with the European Union', 'EUIntegrationCon_1', 'EUIntegrationCon_2', 'EUIntegrationCon_3', 'EUIntegrationCon_4', 'EUIntegrationCon_5', 'EUIntegrationCon_6', 'EUIntegrationCon_7', 'EUIntegrationCon_8', 'EUIntegrationCon_9', \"EUIntegrationCon_Don't know\", 'EUIntegrationCon_Protect our independence', 'EUIntegrationCon_Unite fully with the European Union', 'EUIntegrationLab_1', 'EUIntegrationLab_2', 'EUIntegrationLab_3', 'EUIntegrationLab_4', 'EUIntegrationLab_5', 'EUIntegrationLab_6', 'EUIntegrationLab_7', 'EUIntegrationLab_8', 'EUIntegrationLab_9', \"EUIntegrationLab_Don't know\", 'EUIntegrationLab_Protect our independence', 'EUIntegrationLab_Unite fully with the European Union', 'EUIntegrationLD_1', 'EUIntegrationLD_2', 'EUIntegrationLD_3', 'EUIntegrationLD_4', 'EUIntegrationLD_5', 'EUIntegrationLD_6', 'EUIntegrationLD_7', 'EUIntegrationLD_8', 'EUIntegrationLD_9', \"EUIntegrationLD_Don't know\", 'EUIntegrationLD_Protect our independence', 'EUIntegrationLD_Unite fully with the European Union', 'EUIntegrationGreen_1', 'EUIntegrationGreen_2', 'EUIntegrationGreen_3', 'EUIntegrationGreen_4', 'EUIntegrationGreen_5', 'EUIntegrationGreen_6', 'EUIntegrationGreen_7', 'EUIntegrationGreen_8', 'EUIntegrationGreen_9', \"EUIntegrationGreen_Don't know\", 'EUIntegrationGreen_Protect our independence', 'EUIntegrationGreen_Unite fully with the European Union', 'EUIntegrationBrexit_1', 'EUIntegrationBrexit_2', 'EUIntegrationBrexit_3', 'EUIntegrationBrexit_4', 'EUIntegrationBrexit_5', 'EUIntegrationBrexit_6', 'EUIntegrationBrexit_7', 'EUIntegrationBrexit_8', 'EUIntegrationBrexit_9', \"EUIntegrationBrexit_Don't know\", 'EUIntegrationBrexit_Protect our independence', 'EUIntegrationBrexit_Unite fully with the European Union', 'immigEcon_2', 'immigEcon_3', 'immigEcon_4', 'immigEcon_5', 'immigEcon_6', 'immigEcon_Bad for economy', \"immigEcon_Don't know\", 'immigEcon_Good for economy', 'immigCultural_2', 'immigCultural_3', 'immigCultural_4', 'immigCultural_5', 'immigCultural_6', \"immigCultural_Don't know\", 'immigCultural_Enriches cultural life', 'immigCultural_Undermines cultural life', 'euPriorityBalance_1', 'euPriorityBalance_2', 'euPriorityBalance_3', 'euPriorityBalance_4', 'euPriorityBalance_5', 'euPriorityBalance_6', 'euPriorityBalance_7', 'euPriorityBalance_8', 'euPriorityBalance_9', 'euPriorityBalance_Access to the single market', 'euPriorityBalance_Control immigration', \"euPriorityBalance_Don't know\", \"handleCorona_Don't know\", 'handleCorona_Fairly badly', 'handleCorona_Fairly well', 'handleCorona_Neither well nor badly', 'handleCorona_Very badly', 'handleCorona_Very well', \"handleCoronaLab_Don't know\", 'handleCoronaLab_Fairly badly', 'handleCoronaLab_Fairly well', 'handleCoronaLab_Neither well nor badly', 'handleCoronaLab_Very badly', 'handleCoronaLab_Very well', \"govtHandlelockdown_Don't know\", 'govtHandlelockdown_Fairly badly', 'govtHandlelockdown_Fairly well', 'govtHandlelockdown_Neither well nor badly', 'govtHandlelockdown_Very badly', 'govtHandlelockdown_Very well', \"govtHandlePPE_Don't know\", 'govtHandlePPE_Fairly badly', 'govtHandlePPE_Fairly well', 'govtHandlePPE_Neither well nor badly', 'govtHandlePPE_Very badly', 'govtHandlePPE_Very well', \"govtHandleTesting_Don't know\", 'govtHandleTesting_Fairly badly', 'govtHandleTesting_Fairly well', 'govtHandleTesting_Neither well nor badly', 'govtHandleTesting_Very badly', 'govtHandleTesting_Very well', \"changeEconomy_Don't know\", 'changeEconomy_Getting a little better', 'changeEconomy_Getting a little worse', 'changeEconomy_Getting a lot better', 'changeEconomy_Getting a lot worse', 'changeEconomy_Staying about the same', \"changeNHS_Don't know\", 'changeNHS_Getting a little better', 'changeNHS_Getting a little worse', 'changeNHS_Getting a lot better', 'changeNHS_Getting a lot worse', 'changeNHS_Staying about the same', \"changeCorona_Don't know\", 'changeCorona_Getting a little better', 'changeCorona_Getting a little worse', 'changeCorona_Getting a lot better', 'changeCorona_Getting a lot worse', 'changeCorona_Staying about the same', \"changeEconomyLab_Don't know\", 'changeEconomyLab_Getting a little better', 'changeEconomyLab_Getting a little worse', 'changeEconomyLab_Getting a lot better', 'changeEconomyLab_Getting a lot worse', 'changeEconomyLab_Staying about the same', \"changeNHSLab_Don't know\", 'changeNHSLab_Getting a little better', 'changeNHSLab_Getting a little worse', 'changeNHSLab_Getting a lot better', 'changeNHSLab_Getting a lot worse', 'changeNHSLab_Staying about the same', \"coronaMeasures_1_Don't know\", 'coronaMeasures_1_No', 'coronaMeasures_1_Yes', \"coronaMeasures_2_Don't know\", 'coronaMeasures_2_No', 'coronaMeasures_2_Yes', \"coronaMeasures_3_Don't know\", 'coronaMeasures_3_No', 'coronaMeasures_3_Yes', \"coronaMeasures_4_Don't know\", 'coronaMeasures_4_No', 'coronaMeasures_4_Yes', \"coronaMeasures_5_Don't know\", 'coronaMeasures_5_No', 'coronaMeasures_5_Yes', \"coronaMeasures_none_Don't know\", 'coronaMeasures_none_No', 'coronaMeasures_none_Yes', \"coronaMeasures2_1_Don't know\", 'coronaMeasures2_1_No', 'coronaMeasures2_1_Yes', \"coronaMeasures2_2_Don't know\", 'coronaMeasures2_2_No', 'coronaMeasures2_2_Yes', \"coronaMeasures2_3_Don't know\", 'coronaMeasures2_3_No', 'coronaMeasures2_3_Yes', \"coronaMeasures2_4_Don't know\", 'coronaMeasures2_4_No', 'coronaMeasures2_4_Yes', \"coronaMeasures2_5_Don't know\", 'coronaMeasures2_5_No', 'coronaMeasures2_5_Yes', \"coronaMeasures2_none_Don't know\", 'coronaMeasures2_none_No', 'coronaMeasures2_none_Yes', 'worryCoronaHealth_1', 'worryCoronaHealth_2', 'worryCoronaHealth_3', 'worryCoronaHealth_4', 'worryCoronaHealth_5', 'worryCoronaHealth_6', 'worryCoronaHealth_7', 'worryCoronaHealth_8', 'worryCoronaHealth_9', \"worryCoronaHealth_Don't know\", 'worryCoronaHealth_Extremely Worried', 'worryCoronaHealth_Not at all worried', 'worryCoronaEcon_1', 'worryCoronaEcon_2', 'worryCoronaEcon_3', 'worryCoronaEcon_4', 'worryCoronaEcon_5', 'worryCoronaEcon_6', 'worryCoronaEcon_7', 'worryCoronaEcon_8', 'worryCoronaEcon_9', \"worryCoronaEcon_Don't know\", 'worryCoronaEcon_Extremely Worried', 'worryCoronaEcon_Not at all worried', 'worryCoronaPub_1', 'worryCoronaPub_2', 'worryCoronaPub_3', 'worryCoronaPub_4', 'worryCoronaPub_5', 'worryCoronaPub_6', 'worryCoronaPub_7', 'worryCoronaPub_8', 'worryCoronaPub_9', \"worryCoronaPub_Don't know\", 'worryCoronaPub_Extremely Worried', 'worryCoronaPub_Not at all worried', 'ptvCon_1', 'ptvCon_2', 'ptvCon_3', 'ptvCon_4', 'ptvCon_5', 'ptvCon_6', 'ptvCon_7', 'ptvCon_8', 'ptvCon_9', \"ptvCon_Don't know\", 'ptvCon_Very likely', 'ptvCon_Very unlikely', 'ptvLab_1', 'ptvLab_2', 'ptvLab_3', 'ptvLab_4', 'ptvLab_5', 'ptvLab_6', 'ptvLab_7', 'ptvLab_8', 'ptvLab_9', \"ptvLab_Don't know\", 'ptvLab_Very likely', 'ptvLab_Very unlikely', 'ptvLD_1', 'ptvLD_2', 'ptvLD_3', 'ptvLD_4', 'ptvLD_5', 'ptvLD_6', 'ptvLD_7', 'ptvLD_8', 'ptvLD_9', \"ptvLD_Don't know\", 'ptvLD_Very likely', 'ptvLD_Very unlikely', 'ptvBrexitParty_1', 'ptvBrexitParty_2', 'ptvBrexitParty_3', 'ptvBrexitParty_4', 'ptvBrexitParty_5', 'ptvBrexitParty_6', 'ptvBrexitParty_7', 'ptvBrexitParty_8', 'ptvBrexitParty_9', \"ptvBrexitParty_Don't know\", 'ptvBrexitParty_Very likely', 'ptvBrexitParty_Very unlikely', 'ptvGrn_1', 'ptvGrn_2', 'ptvGrn_3', 'ptvGrn_4', 'ptvGrn_5', 'ptvGrn_6', 'ptvGrn_7', 'ptvGrn_8', 'ptvGrn_9', \"ptvGrn_Don't know\", 'ptvGrn_Very likely', 'ptvGrn_Very unlikely', 'leftRight_1', 'leftRight_2', 'leftRight_3', 'leftRight_4', 'leftRight_5', 'leftRight_6', 'leftRight_7', 'leftRight_8', 'leftRight_9', \"leftRight_Don't know\", 'leftRight_Left', 'leftRight_Right', 'lrCon_1', 'lrCon_2', 'lrCon_3', 'lrCon_4', 'lrCon_5', 'lrCon_6', 'lrCon_7', 'lrCon_8', 'lrCon_9', \"lrCon_Don't know\", 'lrCon_Left', 'lrCon_Right', 'lrLab_1', 'lrLab_2', 'lrLab_3', 'lrLab_4', 'lrLab_5', 'lrLab_6', 'lrLab_7', 'lrLab_8', 'lrLab_9', \"lrLab_Don't know\", 'lrLab_Left', 'lrLab_Right', 'lrLD_1', 'lrLD_2', 'lrLD_3', 'lrLD_4', 'lrLD_5', 'lrLD_6', 'lrLD_7', 'lrLD_8', 'lrLD_9', \"lrLD_Don't know\", 'lrLD_Left', 'lrLD_Right', 'lrgreens_1', 'lrgreens_2', 'lrgreens_3', 'lrgreens_4', 'lrgreens_5', 'lrgreens_6', 'lrgreens_7', 'lrgreens_8', 'lrgreens_9', \"lrgreens_Don't know\", 'lrgreens_Left', 'lrgreens_Right', 'lrBrexit_1', 'lrBrexit_2', 'lrBrexit_3', 'lrBrexit_4', 'lrBrexit_5', 'lrBrexit_6', 'lrBrexit_7', 'lrBrexit_8', 'lrBrexit_9', \"lrBrexit_Don't know\", 'lrBrexit_Left', 'lrBrexit_Right', 'cutsTooFarNational_About right', \"cutsTooFarNational_Don't know\", 'cutsTooFarNational_Gone much too far', 'cutsTooFarNational_Gone too far', 'cutsTooFarNational_Not gone far enough', 'cutsTooFarNational_Not gone nearly far enough', 'cutsTooFarNHS_About right', \"cutsTooFarNHS_Don't know\", 'cutsTooFarNHS_Gone much too far', 'cutsTooFarNHS_Gone too far', 'cutsTooFarNHS_Not gone far enough', 'cutsTooFarNHS_Not gone nearly far enough', 'cutsTooFarLocal_About right', \"cutsTooFarLocal_Don't know\", 'cutsTooFarLocal_Gone much too far', 'cutsTooFarLocal_Gone too far', 'cutsTooFarLocal_Not gone far enough', 'cutsTooFarLocal_Not gone nearly far enough', \"globalGoodOverall_Don't know\", 'globalGoodOverall_Equally good and bad', 'globalGoodOverall_Mainly bad', 'globalGoodOverall_Mainly good', 'globalGoodOverall_Slightly more bad than good', 'globalGoodOverall_Slightly more good than bad', 'redistSelf_1', 'redistSelf_2', 'redistSelf_3', 'redistSelf_4', 'redistSelf_5', 'redistSelf_6', 'redistSelf_7', 'redistSelf_8', 'redistSelf_9', \"redistSelf_Don't know\", 'redistSelf_Government should be less concerned about equal incomes', 'redistSelf_Government should try to make incomes equal', 'redistCon_1', 'redistCon_2', 'redistCon_3', 'redistCon_4', 'redistCon_5', 'redistCon_6', 'redistCon_7', 'redistCon_8', 'redistCon_9', \"redistCon_Don't know\", 'redistCon_Government should be less concerned about equal incomes', 'redistCon_Government should try to make incomes equal', 'redistLab_1', 'redistLab_2', 'redistLab_3', 'redistLab_4', 'redistLab_5', 'redistLab_6', 'redistLab_7', 'redistLab_8', 'redistLab_9', \"redistLab_Don't know\", 'redistLab_Government should be less concerned about equal incomes', 'redistLab_Government should try to make incomes equal', 'redistLD_1', 'redistLD_2', 'redistLD_3', 'redistLD_4', 'redistLD_5', 'redistLD_6', 'redistLD_7', 'redistLD_8', 'redistLD_9', \"redistLD_Don't know\", 'redistLD_Government should be less concerned about equal incomes', 'redistLD_Government should try to make incomes equal', 'redistBrexit_1', 'redistBrexit_2', 'redistBrexit_3', 'redistBrexit_4', 'redistBrexit_5', 'redistBrexit_6', 'redistBrexit_7', 'redistBrexit_8', 'redistBrexit_9', \"redistBrexit_Don't know\", 'redistBrexit_Government should be less concerned about equal incomes', 'redistBrexit_Government should try to make incomes equal', 'redistGreen_1', 'redistGreen_2', 'redistGreen_3', 'redistGreen_4', 'redistGreen_5', 'redistGreen_6', 'redistGreen_7', 'redistGreen_8', 'redistGreen_9', \"redistGreen_Don't know\", 'redistGreen_Government should be less concerned about equal incomes', 'redistGreen_Government should try to make incomes equal', \"euID_Don't know\", 'euID_Neither', 'euID_The leave side', 'euID_The remain side', 'satDemUK_A little dissatisfied', \"satDemUK_Don't know\", 'satDemUK_Fairly satisfied', 'satDemUK_Very dissatisfied', 'satDemUK_Very satisfied', 'lr1_Agree', 'lr1_Disagree', \"lr1_Don't know\", 'lr1_Neither agree nor disagree', 'lr1_Strongly agree', 'lr1_Strongly disagree', 'lr2_Agree', 'lr2_Disagree', \"lr2_Don't know\", 'lr2_Neither agree nor disagree', 'lr2_Strongly agree', 'lr2_Strongly disagree', 'lr3_Agree', 'lr3_Disagree', \"lr3_Don't know\", 'lr3_Neither agree nor disagree', 'lr3_Strongly agree', 'lr3_Strongly disagree', 'lr4_Agree', 'lr4_Disagree', \"lr4_Don't know\", 'lr4_Neither agree nor disagree', 'lr4_Strongly agree', 'lr4_Strongly disagree', 'lr5_Agree', 'lr5_Disagree', \"lr5_Don't know\", 'lr5_Neither agree nor disagree', 'lr5_Strongly agree', 'lr5_Strongly disagree', 'al1_Agree', 'al1_Disagree', \"al1_Don't know\", 'al1_Neither agree nor disagree', 'al1_Strongly agree', 'al1_Strongly disagree', 'al2_Agree', 'al2_Disagree', \"al2_Don't know\", 'al2_Neither agree nor disagree', 'al2_Strongly agree', 'al2_Strongly disagree', 'al3_Agree', 'al3_Disagree', \"al3_Don't know\", 'al3_Neither agree nor disagree', 'al3_Strongly agree', 'al3_Strongly disagree', 'al4_Agree', 'al4_Disagree', \"al4_Don't know\", 'al4_Neither agree nor disagree', 'al4_Strongly agree', 'al4_Strongly disagree', 'al5_Agree', 'al5_Disagree', \"al5_Don't know\", 'al5_Neither agree nor disagree', 'al5_Strongly agree', 'al5_Strongly disagree', 'privateEnterprise_Agree', 'privateEnterprise_Disagree', \"privateEnterprise_Don't know\", 'privateEnterprise_Neither agree nor disagree', 'privateEnterprise_Strongly agree', 'privateEnterprise_Strongly disagree', 'stateOwnership_Agree', 'stateOwnership_Disagree', \"stateOwnership_Don't know\", 'stateOwnership_Neither agree nor disagree', 'stateOwnership_Strongly agree', 'stateOwnership_Strongly disagree', 'jobForAll_Agree', 'jobForAll_Disagree', \"jobForAll_Don't know\", 'jobForAll_Neither agree nor disagree', 'jobForAll_Strongly agree', 'jobForAll_Strongly disagree', 'reasonForUnemployment_Agree', 'reasonForUnemployment_Disagree', \"reasonForUnemployment_Don't know\", 'reasonForUnemployment_Neither agree nor disagree', 'reasonForUnemployment_Strongly agree', 'reasonForUnemployment_Strongly disagree', 'immigrantsWelfareState_Agree', 'immigrantsWelfareState_Disagree', \"immigrantsWelfareState_Don't know\", 'immigrantsWelfareState_Neither agree nor disagree', 'immigrantsWelfareState_Strongly agree', 'immigrantsWelfareState_Strongly disagree', 'govtHandouts_Agree', 'govtHandouts_Disagree', \"govtHandouts_Don't know\", 'govtHandouts_Neither agree nor disagree', 'govtHandouts_Strongly agree', 'govtHandouts_Strongly disagree', 'benefitsNotDeserved_Agree', 'benefitsNotDeserved_Disagree', \"benefitsNotDeserved_Don't know\", 'benefitsNotDeserved_Neither agree nor disagree', 'benefitsNotDeserved_Strongly agree', 'benefitsNotDeserved_Strongly disagree', 'taxSpendSelf_1', 'taxSpendSelf_2', 'taxSpendSelf_3', 'taxSpendSelf_4', 'taxSpendSelf_5', 'taxSpendSelf_6', 'taxSpendSelf_7', 'taxSpendSelf_8', 'taxSpendSelf_9', \"taxSpendSelf_Don't know\", 'taxSpendSelf_Government should cut taxes a lot and spend much less on health and social services', 'taxSpendSelf_Government should increase taxes a lot and spend much more on health and social services', \"deficitReduce_Don't know\", 'deficitReduce_It is completely necessary', 'deficitReduce_It is completely unnecessary', 'deficitReduce_It is important but not absolutely  necessary', 'deficitReduce_It is not necessary but it would be desirable', 'trustMPs_2', 'trustMPs_3', 'trustMPs_4', 'trustMPs_5', 'trustMPs_6', 'trustMPs_A great deal of trust', \"trustMPs_Don't know\", 'trustMPs_No trust', \"trustWestminster_Don't know\", 'trustWestminster_Hardly ever', 'trustWestminster_Just about always', 'trustWestminster_Most of the time', 'trustWestminster_Some of the time', 'immigSelf_1', 'immigSelf_2', 'immigSelf_3', 'immigSelf_4', 'immigSelf_5', 'immigSelf_6', 'immigSelf_7', 'immigSelf_8', 'immigSelf_9', 'immigSelf_Allow many fewer', 'immigSelf_Allow many more', \"immigSelf_Don't know\", 'immigCon_1', 'immigCon_2', 'immigCon_3', 'immigCon_4', 'immigCon_5', 'immigCon_6', 'immigCon_7', 'immigCon_8', 'immigCon_9', 'immigCon_Allow many fewer', 'immigCon_Allow many more', \"immigCon_Don't know\", 'immigLab_1', 'immigLab_2', 'immigLab_3', 'immigLab_4', 'immigLab_5', 'immigLab_6', 'immigLab_7', 'immigLab_8', 'immigLab_9', 'immigLab_Allow many fewer', 'immigLab_Allow many more', \"immigLab_Don't know\", 'immigLD_1', 'immigLD_2', 'immigLD_3', 'immigLD_4', 'immigLD_5', 'immigLD_6', 'immigLD_7', 'immigLD_8', 'immigLD_9', 'immigLD_Allow many fewer', 'immigLD_Allow many more', \"immigLD_Don't know\", 'immigBrexit_1', 'immigBrexit_2', 'immigBrexit_3', 'immigBrexit_4', 'immigBrexit_5', 'immigBrexit_6', 'immigBrexit_7', 'immigBrexit_8', 'immigBrexit_9', 'immigBrexit_Allow many fewer', 'immigBrexit_Allow many more', \"immigBrexit_Don't know\", 'immigGreen_1', 'immigGreen_2', 'immigGreen_3', 'immigGreen_4', 'immigGreen_5', 'immigGreen_6', 'immigGreen_7', 'immigGreen_8', 'immigGreen_9', 'immigGreen_Allow many fewer', 'immigGreen_Allow many more', \"immigGreen_Don't know\", 'britishness_2', 'britishness_3', 'britishness_4', 'britishness_5', 'britishness_6', \"britishness_Don't know\", 'britishness_Not at all British', 'britishness_Very strongly British', 'englishness_2', 'englishness_3', 'englishness_4', 'englishness_5', 'englishness_6', \"englishness_Don't know\", 'englishness_Not at all English', 'englishness_Very strongly English', 'europeanness_2', 'europeanness_3', 'europeanness_4', 'europeanness_5', 'europeanness_6', \"europeanness_Don't know\", 'europeanness_Not at all European', 'europeanness_Very strongly European', 'enviroGrowth_1', 'enviroGrowth_2', 'enviroGrowth_3', 'enviroGrowth_4', 'enviroGrowth_5', 'enviroGrowth_6', 'enviroGrowth_7', 'enviroGrowth_8', 'enviroGrowth_9', \"enviroGrowth_Don't know\", 'enviroGrowth_Economic growth should have priority', 'enviroGrowth_Protecting the environment should have priority', 'cvEconSelf_1', 'cvEconSelf_2', 'cvEconSelf_3', 'cvEconSelf_4', 'cvEconSelf_5', 'cvEconSelf_6', 'cvEconSelf_7', 'cvEconSelf_8', 'cvEconSelf_9', \"cvEconSelf_Don't know\", 'cvEconSelf_Reduce infections even if it damages the economy', 'cvEconSelf_Save the economy even if it increases infections', 'cvEconCon_1', 'cvEconCon_2', 'cvEconCon_3', 'cvEconCon_4', 'cvEconCon_5', 'cvEconCon_6', 'cvEconCon_7', 'cvEconCon_8', 'cvEconCon_9', \"cvEconCon_Don't know\", 'cvEconCon_Reduce infections even if it damages the economy', 'cvEconCon_Save the economy even if it increases infections', 'cvEconLab_1', 'cvEconLab_2', 'cvEconLab_3', 'cvEconLab_4', 'cvEconLab_5', 'cvEconLab_6', 'cvEconLab_7', 'cvEconLab_8', 'cvEconLab_9', \"cvEconLab_Don't know\", 'cvEconLab_Reduce infections even if it damages the economy', 'cvEconLab_Save the economy even if it increases infections', 'cvEconLD_1', 'cvEconLD_2', 'cvEconLD_3', 'cvEconLD_4', 'cvEconLD_5', 'cvEconLD_6', 'cvEconLD_7', 'cvEconLD_8', 'cvEconLD_9', \"cvEconLD_Don't know\", 'cvEconLD_Reduce infections even if it damages the economy', 'cvEconLD_Save the economy even if it increases infections', 'cvEconGreen_1', 'cvEconGreen_2', 'cvEconGreen_3', 'cvEconGreen_4', 'cvEconGreen_5', 'cvEconGreen_6', 'cvEconGreen_7', 'cvEconGreen_8', 'cvEconGreen_9', \"cvEconGreen_Don't know\", 'cvEconGreen_Reduce infections even if it damages the economy', 'cvEconGreen_Save the economy even if it increases infections', 'cvFreedomSelf_1', 'cvFreedomSelf_2', 'cvFreedomSelf_3', 'cvFreedomSelf_4', 'cvFreedomSelf_5', 'cvFreedomSelf_6', 'cvFreedomSelf_7', 'cvFreedomSelf_8', 'cvFreedomSelf_9', \"cvFreedomSelf_Don't know\", 'cvFreedomSelf_Protect personal freedom even if it increases infections', 'cvFreedomSelf_Restrict personal freedom to reduce infections', 'strongLeader_Agree', 'strongLeader_Disagree', \"strongLeader_Don't know\", 'strongLeader_Neither agree nor disagree', 'strongLeader_Strongly agree', 'strongLeader_Strongly disagree', 'antiIntellectual_Agree', 'antiIntellectual_Disagree', \"antiIntellectual_Don't know\", 'antiIntellectual_Neither agree nor disagree', 'antiIntellectual_Strongly agree', 'antiIntellectual_Strongly disagree', 'dutyCorona_Agree', 'dutyCorona_Disagree', \"dutyCorona_Don't know\", 'dutyCorona_Neither agree nor disagree', 'dutyCorona_Strongly agree', 'dutyCorona_Strongly disagree', \"genTrust_Can't be too careful\", \"genTrust_Don't know\", 'genTrust_Most people can be trusted', 'preschoolKidsInHouse_No', 'preschoolKidsInHouse_Yes', 'schoolKidsInHouse_No', 'schoolKidsInHouse_Yes', 'sickElderlyInHouse_No', 'sickElderlyInHouse_Yes', 'noDependentsInHouse_No', 'noDependentsInHouse_Yes', 'workingStatus_Full time university student', 'workingStatus_Furloughed', 'workingStatus_Not in paid work for any other reason', 'workingStatus_Other', 'workingStatus_Other full time student', 'workingStatus_Retired', 'workingStatus_Unemployed and looking for work', 'workingStatus_Working full time (30 or more hours per week)', 'workingStatus_Working part time (8-29 hours per week)', 'workingStatus_Working part time (less than 8 hours a week)', \"hhIncomeCorona_Don't know\", 'hhIncomeCorona_It has decreased by between a quarter and a half', 'hhIncomeCorona_It has decreased by less than a quarter', 'hhIncomeCorona_It has increased', 'hhIncomeCorona_It hasnâ\\x80\\x99t changed', 'hhIncomeCorona_It is less than half of what it was', \"stoppedWork_1_Don't know\", 'stoppedWork_1_No', 'stoppedWork_1_Yes', \"stoppedWork_2_Don't know\", 'stoppedWork_2_No', 'stoppedWork_2_Yes', \"stoppedWork_none_Don't know\", 'stoppedWork_none_No', 'stoppedWork_none_Yes', \"incomeGuaranteePersonal_1_Don't know\", 'incomeGuaranteePersonal_1_No', 'incomeGuaranteePersonal_1_Yes', \"incomeGuaranteePersonal_2_Don't know\", 'incomeGuaranteePersonal_2_No', 'incomeGuaranteePersonal_2_Yes', \"incomeGuaranteePersonal_3_Don't know\", 'incomeGuaranteePersonal_3_No', 'incomeGuaranteePersonal_3_Yes', \"incomeGuaranteePersonal_4_Don't know\", 'incomeGuaranteePersonal_4_No', 'incomeGuaranteePersonal_4_Yes', \"incomeGuaranteePersonal_none_Don't know\", 'incomeGuaranteePersonal_none_No', 'incomeGuaranteePersonal_none_Yes', \"incomeGuaranteeHH_1_Don't know\", 'incomeGuaranteeHH_1_No', 'incomeGuaranteeHH_1_Yes', \"incomeGuaranteeHH_2_Don't know\", 'incomeGuaranteeHH_2_No', 'incomeGuaranteeHH_2_Yes', \"incomeGuaranteeHH_3_Don't know\", 'incomeGuaranteeHH_3_No', 'incomeGuaranteeHH_3_Yes', \"incomeGuaranteeHH_4_Don't know\", 'incomeGuaranteeHH_4_No', 'incomeGuaranteeHH_4_Yes', \"incomeGuaranteeHH_none_Don't know\", 'incomeGuaranteeHH_none_No', 'incomeGuaranteeHH_none_Yes', \"CVsuspect_1_Don't know\", 'CVsuspect_1_No', 'CVsuspect_1_Yes', \"CVsuspect_2_Don't know\", 'CVsuspect_2_No', 'CVsuspect_2_Yes', \"CVsuspect_3_Don't know\", 'CVsuspect_3_No', 'CVsuspect_3_Yes', \"CVsuspect_none_Don't know\", 'CVsuspect_none_No', 'CVsuspect_none_Yes', \"highRiskMedical_1_Don't know\", 'highRiskMedical_1_No', 'highRiskMedical_1_Yes', \"highRiskMedical_2_Don't know\", 'highRiskMedical_2_No', 'highRiskMedical_2_Yes', \"highRiskMedical_3_Don't know\", 'highRiskMedical_3_No', 'highRiskMedical_3_Yes', \"highRiskMedical_none_Don't know\", 'highRiskMedical_none_No', 'highRiskMedical_none_Yes', \"highRiskLetter_1_Don't know\", 'highRiskLetter_1_No', 'highRiskLetter_1_Yes', \"highRiskLetter_2_Don't know\", 'highRiskLetter_2_No', 'highRiskLetter_2_Yes', \"highRiskLetter_3_Don't know\", 'highRiskLetter_3_No', 'highRiskLetter_3_Yes', \"highRiskLetter_none_Don't know\", 'highRiskLetter_none_No', 'highRiskLetter_none_Yes', \"anyUni_Don't know\", 'anyUni_No, I have never attended higher education', 'anyUni_Yes, I am currently enrolled in higher education', 'anyUni_Yes, I graduated from higher education', \"anyUni_Yes, but I didn't complete higher education\", 'riskScale_10', 'riskScale_11', 'riskScale_12', 'riskScale_13', 'riskScale_14', 'riskScale_15', 'riskScale_2', 'riskScale_3', 'riskScale_4', 'riskScale_5', 'riskScale_6', 'riskScale_7', 'riskScale_8', 'riskScale_9', 'riskScale_Most risk averse', 'riskScale_Most risk inclined', 'oslaua_Aberdeen City', 'oslaua_Aberdeenshire', 'oslaua_Adur', 'oslaua_Allerdale', 'oslaua_Amber Valley', 'oslaua_Angus', 'oslaua_Argyll & Bute', 'oslaua_Arun', 'oslaua_Ashfield', 'oslaua_Ashford', 'oslaua_Aylesbury Vale', 'oslaua_Babergh', 'oslaua_Barking and Dagenham', 'oslaua_Barnet', 'oslaua_Barnsley', 'oslaua_Barrow-in-Furness', 'oslaua_Basildon', 'oslaua_Basingstoke and Deane', 'oslaua_Bassetlaw', 'oslaua_Bath and North East Somerset', 'oslaua_Bedford', 'oslaua_Bexley', 'oslaua_Birmingham', 'oslaua_Blaby', 'oslaua_Blackburn with Darwen', 'oslaua_Blackpool', 'oslaua_Blaenau Gwent', 'oslaua_Bolsover', 'oslaua_Bolton', 'oslaua_Boston', 'oslaua_Bournemouth, Christchurch and Poole', 'oslaua_Bracknell Forest', 'oslaua_Bradford', 'oslaua_Braintree', 'oslaua_Breckland', 'oslaua_Brent', 'oslaua_Brentwood', 'oslaua_Bridgend', 'oslaua_Brighton and Hove', 'oslaua_Bristol, City of', 'oslaua_Broadland', 'oslaua_Bromley', 'oslaua_Bromsgrove', 'oslaua_Broxbourne', 'oslaua_Broxtowe', 'oslaua_Burnley', 'oslaua_Bury', 'oslaua_Caerphilly', 'oslaua_Calderdale', 'oslaua_Cambridge', 'oslaua_Camden', 'oslaua_Cannock Chase', 'oslaua_Canterbury', 'oslaua_Cardiff', 'oslaua_Carlisle', 'oslaua_Carmarthenshire', 'oslaua_Castle Point', 'oslaua_Central Bedfordshire', 'oslaua_Ceredigion', 'oslaua_Charnwood', 'oslaua_Chelmsford', 'oslaua_Cheltenham', 'oslaua_Cherwell', 'oslaua_Cheshire East', 'oslaua_Cheshire West and Chester', 'oslaua_Chesterfield', 'oslaua_Chichester', 'oslaua_Chiltern', 'oslaua_Chorley', 'oslaua_City of London', 'oslaua_Clackmannanshire', 'oslaua_Colchester', 'oslaua_Conwy', 'oslaua_Copeland', 'oslaua_Corby', 'oslaua_Cornwall', 'oslaua_Cotswold', 'oslaua_County Durham', 'oslaua_Coventry', 'oslaua_Craven', 'oslaua_Crawley', 'oslaua_Croydon', 'oslaua_Dacorum', 'oslaua_Darlington', 'oslaua_Dartford', 'oslaua_Daventry', 'oslaua_Denbighshire', 'oslaua_Derby', 'oslaua_Derbyshire Dales', 'oslaua_Doncaster', 'oslaua_Dorset', 'oslaua_Dover', 'oslaua_Dudley', 'oslaua_Dumfries & Galloway', 'oslaua_Dundee City', 'oslaua_Ealing', 'oslaua_East Ayrshire', 'oslaua_East Cambridgeshire', 'oslaua_East Devon', 'oslaua_East Dunbartonshire', 'oslaua_East Hampshire', 'oslaua_East Hertfordshire', 'oslaua_East Lindsey', 'oslaua_East Lothian', 'oslaua_East Northamptonshire', 'oslaua_East Renfrewshire', 'oslaua_East Riding of Yorkshire', 'oslaua_East Staffordshire', 'oslaua_East Suffolk', 'oslaua_Eastbourne', 'oslaua_Eastleigh', 'oslaua_Eden', 'oslaua_Edinburgh, City of', 'oslaua_Eilean Siar', 'oslaua_Elmbridge', 'oslaua_Enfield', 'oslaua_Epping Forest', 'oslaua_Epsom and Ewell', 'oslaua_Erewash', 'oslaua_Exeter', 'oslaua_Falkirk', 'oslaua_Fareham', 'oslaua_Fenland', 'oslaua_Fife', 'oslaua_Flintshire', 'oslaua_Forest of Dean', 'oslaua_Fylde', 'oslaua_Gateshead', 'oslaua_Gedling', 'oslaua_Glasgow City', 'oslaua_Gloucester', 'oslaua_Gosport', 'oslaua_Gravesham', 'oslaua_Great Yarmouth', 'oslaua_Greenwich', 'oslaua_Guildford', 'oslaua_Gwynedd', 'oslaua_Hackney', 'oslaua_Halton', 'oslaua_Hambleton', 'oslaua_Hammersmith and Fulham', 'oslaua_Harborough', 'oslaua_Haringey', 'oslaua_Harlow', 'oslaua_Harrogate', 'oslaua_Harrow', 'oslaua_Hart', 'oslaua_Hartlepool', 'oslaua_Hastings', 'oslaua_Havant', 'oslaua_Havering', 'oslaua_Herefordshire, County of', 'oslaua_Hertsmere', 'oslaua_High Peak', 'oslaua_Highland', 'oslaua_Hillingdon', 'oslaua_Hinckley and Bosworth', 'oslaua_Horsham', 'oslaua_Hounslow', 'oslaua_Huntingdonshire', 'oslaua_Hyndburn', 'oslaua_Inverclyde', 'oslaua_Ipswich', 'oslaua_Isle of Anglesey', 'oslaua_Isle of Wight', 'oslaua_Islington', 'oslaua_Kensington and Chelsea', 'oslaua_Kettering', \"oslaua_King's Lynn and West Norfolk\", 'oslaua_Kingston upon Hull, City of', 'oslaua_Kingston upon Thames', 'oslaua_Kirklees', 'oslaua_Knowsley', 'oslaua_Lambeth', 'oslaua_Lancaster', 'oslaua_Leeds', 'oslaua_Leicester', 'oslaua_Lewes', 'oslaua_Lewisham', 'oslaua_Lichfield', 'oslaua_Lincoln', 'oslaua_Liverpool', 'oslaua_Luton', 'oslaua_Maidstone', 'oslaua_Maldon', 'oslaua_Malvern Hills', 'oslaua_Manchester', 'oslaua_Mansfield', 'oslaua_Medway', 'oslaua_Melton', 'oslaua_Mendip', 'oslaua_Merthyr Tydfil', 'oslaua_Merton', 'oslaua_Mid Devon', 'oslaua_Mid Suffolk', 'oslaua_Mid Sussex', 'oslaua_Middlesbrough', 'oslaua_Midlothian', 'oslaua_Milton Keynes', 'oslaua_Mole Valley', 'oslaua_Monmouthshire', 'oslaua_Moray', 'oslaua_Neath Port Talbot', 'oslaua_New Forest', 'oslaua_Newark and Sherwood', 'oslaua_Newcastle upon Tyne', 'oslaua_Newcastle-under-Lyme', 'oslaua_Newham', 'oslaua_Newport', 'oslaua_None', 'oslaua_North Ayrshire', 'oslaua_North Devon', 'oslaua_North East Derbyshire', 'oslaua_North East Lincolnshire', 'oslaua_North Hertfordshire', 'oslaua_North Kesteven', 'oslaua_North Lanarkshire', 'oslaua_North Lincolnshire', 'oslaua_North Norfolk', 'oslaua_North Somerset', 'oslaua_North Tyneside', 'oslaua_North Warwickshire', 'oslaua_North West Leicestershire', 'oslaua_Northampton', 'oslaua_Northumberland', 'oslaua_Norwich', 'oslaua_Nottingham', 'oslaua_Nuneaton and Bedworth', 'oslaua_Oadby and Wigston', 'oslaua_Oldham', 'oslaua_Orkney Islands', 'oslaua_Oxford', 'oslaua_Pembrokeshire', 'oslaua_Pendle', 'oslaua_Perth and Kinross', 'oslaua_Peterborough', 'oslaua_Plymouth', 'oslaua_Portsmouth', 'oslaua_Powys', 'oslaua_Preston', 'oslaua_Reading', 'oslaua_Redbridge', 'oslaua_Redcar and Cleveland', 'oslaua_Redditch', 'oslaua_Reigate and Banstead', 'oslaua_Renfrewshire', 'oslaua_Rhondda, Cynon, Taff', 'oslaua_Ribble Valley', 'oslaua_Richmond upon Thames', 'oslaua_Richmondshire', 'oslaua_Rochdale', 'oslaua_Rochford', 'oslaua_Rossendale', 'oslaua_Rother', 'oslaua_Rotherham', 'oslaua_Rugby', 'oslaua_Runnymede', 'oslaua_Rushcliffe', 'oslaua_Rushmoor', 'oslaua_Rutland', 'oslaua_Ryedale', 'oslaua_Salford', 'oslaua_Sandwell', 'oslaua_Scarborough', 'oslaua_Scottish Borders', 'oslaua_Sedgemoor', 'oslaua_Sefton', 'oslaua_Selby', 'oslaua_Sevenoaks', 'oslaua_Sheffield', 'oslaua_Shepway', 'oslaua_Shetland Islands', 'oslaua_Shropshire', 'oslaua_Slough', 'oslaua_Solihull', 'oslaua_Somerset West and Taunton', 'oslaua_South Ayrshire', 'oslaua_South Bucks', 'oslaua_South Cambridgeshire', 'oslaua_South Derbyshire', 'oslaua_South Gloucestershire', 'oslaua_South Hams', 'oslaua_South Holland', 'oslaua_South Kesteven', 'oslaua_South Lakeland', 'oslaua_South Lanarkshire', 'oslaua_South Norfolk', 'oslaua_South Northamptonshire', 'oslaua_South Oxfordshire', 'oslaua_South Ribble', 'oslaua_South Somerset', 'oslaua_South Staffordshire', 'oslaua_South Tyneside', 'oslaua_Southampton', 'oslaua_Southend-on-Sea', 'oslaua_Southwark', 'oslaua_Spelthorne', 'oslaua_St Albans', 'oslaua_St. Helens', 'oslaua_Stafford', 'oslaua_Staffordshire Moorlands', 'oslaua_Stevenage', 'oslaua_Stirling', 'oslaua_Stockport', 'oslaua_Stockton-on-Tees', 'oslaua_Stoke-on-Trent', 'oslaua_Stratford-on-Avon', 'oslaua_Stroud', 'oslaua_Sunderland', 'oslaua_Surrey Heath', 'oslaua_Sutton', 'oslaua_Swale', 'oslaua_Swansea', 'oslaua_Swindon', 'oslaua_Tameside', 'oslaua_Tamworth', 'oslaua_Tandridge', 'oslaua_Teignbridge', 'oslaua_Telford and Wrekin', 'oslaua_Tendring', 'oslaua_Test Valley', 'oslaua_Tewkesbury', 'oslaua_Thanet', 'oslaua_The Vale of Glamorgan', 'oslaua_Three Rivers', 'oslaua_Thurrock', 'oslaua_Tonbridge and Malling', 'oslaua_Torbay', 'oslaua_Torfaen', 'oslaua_Torridge', 'oslaua_Tower Hamlets', 'oslaua_Trafford', 'oslaua_Tunbridge Wells', 'oslaua_Uttlesford', 'oslaua_Vale of White Horse', 'oslaua_Wakefield', 'oslaua_Walsall', 'oslaua_Waltham Forest', 'oslaua_Wandsworth', 'oslaua_Warrington', 'oslaua_Warwick', 'oslaua_Watford', 'oslaua_Waverley', 'oslaua_Wealden', 'oslaua_Wellingborough', 'oslaua_Welwyn Hatfield', 'oslaua_West Berkshire', 'oslaua_West Devon', 'oslaua_West Dunbartonshire', 'oslaua_West Lancashire', 'oslaua_West Lindsey', 'oslaua_West Lothian', 'oslaua_West Oxfordshire', 'oslaua_West Suffolk', 'oslaua_Westminster', 'oslaua_Wigan', 'oslaua_Wiltshire', 'oslaua_Winchester', 'oslaua_Windsor and Maidenhead', 'oslaua_Wirral', 'oslaua_Woking', 'oslaua_Wokingham', 'oslaua_Wolverhampton', 'oslaua_Worcester', 'oslaua_Worthing', 'oslaua_Wrexham', 'oslaua_Wychavon', 'oslaua_Wycombe', 'oslaua_Wyre', 'oslaua_Wyre Forest', 'oslaua_York', 'gender_Female', 'gender_Male', 'age_18', 'age_19', 'age_20', 'age_21', 'age_22', 'age_23', 'age_24', 'age_25', 'age_26', 'age_27', 'age_28', 'age_29', 'age_30', 'age_31', 'age_32', 'age_33', 'age_34', 'age_35', 'age_36', 'age_37', 'age_38', 'age_39', 'age_40', 'age_41', 'age_42', 'age_43', 'age_44', 'age_45', 'age_46', 'age_47', 'age_48', 'age_49', 'age_50', 'age_51', 'age_52', 'age_53', 'age_54', 'age_55', 'age_56', 'age_57', 'age_58', 'age_59', 'age_60', 'age_61', 'age_62', 'age_63', 'age_64', 'age_65', 'age_66', 'age_67', 'age_68', 'age_69', 'age_70', 'age_71', 'age_72', 'age_73', 'age_74', 'age_75', 'age_76', 'age_77', 'age_78', 'age_79', 'age_80', 'age_81', 'age_82', 'age_83', 'age_84', 'age_85', 'age_86', 'age_87', 'age_88', 'age_89', 'age_90', 'age_91', 'age_92', 'age_93', 'age_94', 'pcon_Aberavon', 'pcon_Aberconwy', 'pcon_Aberdeen North', 'pcon_Aberdeen South', 'pcon_Airdrie and Shotts', 'pcon_Aldershot', 'pcon_Aldridge-Brownhills', 'pcon_Altrincham and Sale West', 'pcon_Alyn and Deeside', 'pcon_Amber Valley', 'pcon_Angus', 'pcon_Arfon', 'pcon_Argyll and Bute', 'pcon_Arundel and South Downs', 'pcon_Ashfield', 'pcon_Ashford', 'pcon_Ashton-under-Lyne', 'pcon_Aylesbury', 'pcon_Ayr, Carrick and Cumnock', 'pcon_Banbury', 'pcon_Banff and Buchan', 'pcon_Barking', 'pcon_Barnsley Central', 'pcon_Barnsley East', 'pcon_Barrow and Furness', 'pcon_Basildon and Billericay', 'pcon_Basingstoke', 'pcon_Bassetlaw', 'pcon_Bath', 'pcon_Batley and Spen', 'pcon_Battersea', 'pcon_Beaconsfield', 'pcon_Beckenham', 'pcon_Bedford', 'pcon_Bermondsey and Old Southwark', 'pcon_Berwick-upon-Tweed', 'pcon_Berwickshire, Roxburgh and Selkirk', 'pcon_Bethnal Green and Bow', 'pcon_Beverley and Holderness', 'pcon_Bexhill and Battle', 'pcon_Bexleyheath and Crayford', 'pcon_Birkenhead', 'pcon_Birmingham, Edgbaston', 'pcon_Birmingham, Erdington', 'pcon_Birmingham, Hall Green', 'pcon_Birmingham, Hodge Hill', 'pcon_Birmingham, Ladywood', 'pcon_Birmingham, Northfield', 'pcon_Birmingham, Perry Barr', 'pcon_Birmingham, Selly Oak', 'pcon_Birmingham, Yardley', 'pcon_Bishop Auckland', 'pcon_Blackburn', 'pcon_Blackley and Broughton', 'pcon_Blackpool North and Cleveleys', 'pcon_Blackpool South', 'pcon_Blaenau Gwent', 'pcon_Blaydon', 'pcon_Blyth Valley', 'pcon_Bognor Regis and Littlehampton', 'pcon_Bolsover', 'pcon_Bolton North East', 'pcon_Bolton South East', 'pcon_Bolton West', 'pcon_Bootle', 'pcon_Boston and Skegness', 'pcon_Bosworth', 'pcon_Bournemouth East', 'pcon_Bournemouth West', 'pcon_Bracknell', 'pcon_Bradford East', 'pcon_Bradford South', 'pcon_Bradford West', 'pcon_Braintree', 'pcon_Brecon and Radnorshire', 'pcon_Brent Central', 'pcon_Brent North', 'pcon_Brentford and Isleworth', 'pcon_Brentwood and Ongar', 'pcon_Bridgend', 'pcon_Bridgwater and West Somerset', 'pcon_Brigg and Goole', 'pcon_Brighton, Kemptown', 'pcon_Brighton, Pavilion', 'pcon_Bristol East', 'pcon_Bristol North West', 'pcon_Bristol South', 'pcon_Bristol West', 'pcon_Broadland', 'pcon_Bromley and Chislehurst', 'pcon_Bromsgrove', 'pcon_Broxbourne', 'pcon_Broxtowe', 'pcon_Buckingham', 'pcon_Burnley', 'pcon_Burton', 'pcon_Bury North', 'pcon_Bury South', 'pcon_Bury St Edmunds', 'pcon_Caerphilly', 'pcon_Caithness, Sutherland and Easter Ross', 'pcon_Calder Valley', 'pcon_Camberwell and Peckham', 'pcon_Camborne and Redruth', 'pcon_Cambridge', 'pcon_Cannock Chase', 'pcon_Canterbury', 'pcon_Cardiff Central', 'pcon_Cardiff North', 'pcon_Cardiff South and Penarth', 'pcon_Cardiff West', 'pcon_Carlisle', 'pcon_Carmarthen East and Dinefwr', 'pcon_Carmarthen West and South Pembrokeshire', 'pcon_Carshalton and Wallington', 'pcon_Castle Point', 'pcon_Central Ayrshire', 'pcon_Central Devon', 'pcon_Central Suffolk and North Ipswich', 'pcon_Ceredigion', 'pcon_Charnwood', 'pcon_Chatham and Aylesford', 'pcon_Cheadle', 'pcon_Chelmsford', 'pcon_Chelsea and Fulham', 'pcon_Cheltenham', 'pcon_Chesham and Amersham', 'pcon_Chesterfield', 'pcon_Chichester', 'pcon_Chingford and Woodford Green', 'pcon_Chippenham', 'pcon_Chipping Barnet', 'pcon_Chorley', 'pcon_Christchurch', 'pcon_Cities of London and Westminster', 'pcon_City of Chester', 'pcon_City of Durham', 'pcon_Clacton', 'pcon_Cleethorpes', 'pcon_Clwyd South', 'pcon_Clwyd West', 'pcon_Coatbridge, Chryston and Bellshill', 'pcon_Colchester', 'pcon_Colne Valley', 'pcon_Congleton', 'pcon_Copeland', 'pcon_Corby', 'pcon_Coventry North East', 'pcon_Coventry North West', 'pcon_Coventry South', 'pcon_Crawley', 'pcon_Crewe and Nantwich', 'pcon_Croydon Central', 'pcon_Croydon North', 'pcon_Croydon South', 'pcon_Cumbernauld, Kilsyth and Kirkintilloch East', 'pcon_Cynon Valley', 'pcon_Dagenham and Rainham', 'pcon_Darlington', 'pcon_Dartford', 'pcon_Daventry', 'pcon_Delyn', 'pcon_Denton and Reddish', 'pcon_Derby North', 'pcon_Derby South', 'pcon_Derbyshire Dales', 'pcon_Devizes', 'pcon_Dewsbury', 'pcon_Don Valley', 'pcon_Doncaster Central', 'pcon_Doncaster North', 'pcon_Dover', 'pcon_Dudley North', 'pcon_Dudley South', 'pcon_Dulwich and West Norwood', 'pcon_Dumfries and Galloway', 'pcon_Dumfriesshire, Clydesdale and Tweeddale', 'pcon_Dundee East', 'pcon_Dundee West', 'pcon_Dunfermline and West Fife', 'pcon_Dwyfor Meirionnydd', 'pcon_Ealing Central and Acton', 'pcon_Ealing North', 'pcon_Ealing, Southall', 'pcon_Easington', 'pcon_East Devon', 'pcon_East Dunbartonshire', 'pcon_East Ham', 'pcon_East Hampshire', 'pcon_East Kilbride, Strathaven and Lesmahagow', 'pcon_East Lothian', 'pcon_East Renfrewshire', 'pcon_East Surrey', 'pcon_East Worthing and Shoreham', 'pcon_East Yorkshire', 'pcon_Eastbourne', 'pcon_Eastleigh', 'pcon_Eddisbury', 'pcon_Edinburgh East', 'pcon_Edinburgh North and Leith', 'pcon_Edinburgh South', 'pcon_Edinburgh South West', 'pcon_Edinburgh West', 'pcon_Edmonton', 'pcon_Ellesmere Port and Neston', 'pcon_Elmet and Rothwell', 'pcon_Eltham', 'pcon_Enfield North', 'pcon_Enfield, Southgate', 'pcon_Epping Forest', 'pcon_Epsom and Ewell', 'pcon_Erewash', 'pcon_Erith and Thamesmead', 'pcon_Esher and Walton', 'pcon_Exeter', 'pcon_Falkirk', 'pcon_Fareham', 'pcon_Faversham and Mid Kent', 'pcon_Feltham and Heston', 'pcon_Filton and Bradley Stoke', 'pcon_Finchley and Golders Green', 'pcon_Folkestone and Hythe', 'pcon_Forest of Dean', 'pcon_Fylde', 'pcon_Gainsborough', 'pcon_Garston and Halewood', 'pcon_Gateshead', 'pcon_Gedling', 'pcon_Gillingham and Rainham', 'pcon_Glasgow Central', 'pcon_Glasgow East', 'pcon_Glasgow North', 'pcon_Glasgow North East', 'pcon_Glasgow North West', 'pcon_Glasgow South', 'pcon_Glasgow South West', 'pcon_Glenrothes', 'pcon_Gloucester', 'pcon_Gordon', 'pcon_Gosport', 'pcon_Gower', 'pcon_Grantham and Stamford', 'pcon_Gravesham', 'pcon_Great Grimsby', 'pcon_Great Yarmouth', 'pcon_Greenwich and Woolwich', 'pcon_Guildford', 'pcon_Hackney North and Stoke Newington', 'pcon_Hackney South and Shoreditch', 'pcon_Halesowen and Rowley Regis', 'pcon_Halifax', 'pcon_Haltemprice and Howden', 'pcon_Halton', 'pcon_Hammersmith', 'pcon_Hampstead and Kilburn', 'pcon_Harborough', 'pcon_Harlow', 'pcon_Harrogate and Knaresborough', 'pcon_Harrow East', 'pcon_Harrow West', 'pcon_Hartlepool', 'pcon_Harwich and North Essex', 'pcon_Hastings and Rye', 'pcon_Havant', 'pcon_Hayes and Harlington', 'pcon_Hazel Grove', 'pcon_Hemel Hempstead', 'pcon_Hemsworth', 'pcon_Hendon', 'pcon_Henley', 'pcon_Hereford and South Herefordshire', 'pcon_Hertford and Stortford', 'pcon_Hertsmere', 'pcon_Hexham', 'pcon_Heywood and Middleton', 'pcon_High Peak', 'pcon_Hitchin and Harpenden', 'pcon_Holborn and St Pancras', 'pcon_Hornchurch and Upminster', 'pcon_Hornsey and Wood Green', 'pcon_Horsham', 'pcon_Houghton and Sunderland South', 'pcon_Hove', 'pcon_Huddersfield', 'pcon_Huntingdon', 'pcon_Hyndburn', 'pcon_Ilford North', 'pcon_Ilford South', 'pcon_Inverclyde', 'pcon_Inverness, Nairn, Badenoch and Strathspey', 'pcon_Ipswich', 'pcon_Isle of Wight', 'pcon_Islington North', 'pcon_Islington South and Finsbury', 'pcon_Islwyn', 'pcon_Jarrow', 'pcon_Keighley', 'pcon_Kenilworth and Southam', 'pcon_Kensington', 'pcon_Kettering', 'pcon_Kilmarnock and Loudoun', 'pcon_Kingston and Surbiton', 'pcon_Kingston upon Hull East', 'pcon_Kingston upon Hull North', 'pcon_Kingston upon Hull West and Hessle', 'pcon_Kingswood', 'pcon_Kirkcaldy and Cowdenbeath', 'pcon_Knowsley', 'pcon_Lanark and Hamilton East', 'pcon_Lancaster and Fleetwood', 'pcon_Leeds Central', 'pcon_Leeds East', 'pcon_Leeds North East', 'pcon_Leeds North West', 'pcon_Leeds West', 'pcon_Leicester East', 'pcon_Leicester South', 'pcon_Leicester West', 'pcon_Leigh', 'pcon_Lewes', 'pcon_Lewisham East', 'pcon_Lewisham West and Penge', 'pcon_Lewisham, Deptford', 'pcon_Leyton and Wanstead', 'pcon_Lichfield', 'pcon_Lincoln', 'pcon_Linlithgow and East Falkirk', 'pcon_Liverpool, Riverside', 'pcon_Liverpool, Walton', 'pcon_Liverpool, Wavertree', 'pcon_Liverpool, West Derby', 'pcon_Livingston', 'pcon_Llanelli', 'pcon_Loughborough', 'pcon_Louth and Horncastle', 'pcon_Ludlow', 'pcon_Luton North', 'pcon_Luton South', 'pcon_Macclesfield', 'pcon_Maidenhead', 'pcon_Maidstone and The Weald', 'pcon_Makerfield', 'pcon_Maldon', 'pcon_Manchester Central', 'pcon_Manchester, Gorton', 'pcon_Manchester, Withington', 'pcon_Mansfield', 'pcon_Meon Valley', 'pcon_Meriden', 'pcon_Merthyr Tydfil and Rhymney', 'pcon_Mid Bedfordshire', 'pcon_Mid Derbyshire', 'pcon_Mid Dorset and North Poole', 'pcon_Mid Norfolk', 'pcon_Mid Sussex', 'pcon_Mid Worcestershire', 'pcon_Middlesbrough', 'pcon_Middlesbrough South and East Cleveland', 'pcon_Midlothian', 'pcon_Milton Keynes North', 'pcon_Milton Keynes South', 'pcon_Mitcham and Morden', 'pcon_Mole Valley', 'pcon_Monmouth', 'pcon_Montgomeryshire', 'pcon_Moray', 'pcon_Morecambe and Lunesdale', 'pcon_Morley and Outwood', 'pcon_Motherwell and Wishaw', 'pcon_NOT in a 2010 Parliamentary Constituency', 'pcon_Na h-Eileanan an Iar', 'pcon_Neath', 'pcon_New Forest East', 'pcon_New Forest West', 'pcon_Newark', 'pcon_Newbury', 'pcon_Newcastle upon Tyne Central', 'pcon_Newcastle upon Tyne East', 'pcon_Newcastle upon Tyne North', 'pcon_Newcastle-under-Lyme', 'pcon_Newport East', 'pcon_Newport West', 'pcon_Newton Abbot', 'pcon_Normanton, Pontefract and Castleford', 'pcon_North Ayrshire and Arran', 'pcon_North Cornwall', 'pcon_North Devon', 'pcon_North Dorset', 'pcon_North Durham', 'pcon_North East Bedfordshire', 'pcon_North East Cambridgeshire', 'pcon_North East Derbyshire', 'pcon_North East Fife', 'pcon_North East Hampshire', 'pcon_North East Hertfordshire', 'pcon_North East Somerset', 'pcon_North Herefordshire', 'pcon_North Norfolk', 'pcon_North Shropshire', 'pcon_North Somerset', 'pcon_North Swindon', 'pcon_North Thanet', 'pcon_North Tyneside', 'pcon_North Warwickshire', 'pcon_North West Cambridgeshire', 'pcon_North West Durham', 'pcon_North West Hampshire', 'pcon_North West Leicestershire', 'pcon_North West Norfolk', 'pcon_North Wiltshire', 'pcon_Northampton North', 'pcon_Northampton South', 'pcon_Norwich North', 'pcon_Norwich South', 'pcon_Nottingham East', 'pcon_Nottingham North', 'pcon_Nottingham South', 'pcon_Nuneaton', 'pcon_Ochil and South Perthshire', 'pcon_Ogmore', 'pcon_Old Bexley and Sidcup', 'pcon_Oldham East and Saddleworth', 'pcon_Oldham West and Royton', 'pcon_Orkney and Shetland', 'pcon_Orpington', 'pcon_Oxford East', 'pcon_Oxford West and Abingdon', 'pcon_Paisley and Renfrewshire North', 'pcon_Paisley and Renfrewshire South', 'pcon_Pendle', 'pcon_Penistone and Stocksbridge', 'pcon_Penrith and The Border', 'pcon_Perth and North Perthshire', 'pcon_Peterborough', 'pcon_Plymouth, Moor View', 'pcon_Plymouth, Sutton and Devonport', 'pcon_Pontypridd', 'pcon_Poole', 'pcon_Poplar and Limehouse', 'pcon_Portsmouth North', 'pcon_Portsmouth South', 'pcon_Preseli Pembrokeshire', 'pcon_Preston', 'pcon_Pudsey', 'pcon_Putney', 'pcon_Rayleigh and Wickford', 'pcon_Reading East', 'pcon_Reading West', 'pcon_Redcar', 'pcon_Redditch', 'pcon_Reigate', 'pcon_Rhondda', 'pcon_Ribble Valley', 'pcon_Richmond (Yorks)', 'pcon_Richmond Park', 'pcon_Rochdale', 'pcon_Rochester and Strood', 'pcon_Rochford and Southend East', 'pcon_Romford', 'pcon_Romsey and Southampton North', 'pcon_Ross, Skye and Lochaber', 'pcon_Rossendale and Darwen', 'pcon_Rother Valley', 'pcon_Rotherham', 'pcon_Rugby', 'pcon_Ruislip, Northwood and Pinner', 'pcon_Runnymede and Weybridge', 'pcon_Rushcliffe', 'pcon_Rutherglen and Hamilton West', 'pcon_Rutland and Melton', 'pcon_Saffron Walden', 'pcon_Salford and Eccles', 'pcon_Salisbury', 'pcon_Scarborough and Whitby', 'pcon_Scunthorpe', 'pcon_Sedgefield', 'pcon_Sefton Central', 'pcon_Selby and Ainsty', 'pcon_Sevenoaks', 'pcon_Sheffield Central', 'pcon_Sheffield South East', 'pcon_Sheffield, Brightside and Hillsborough', 'pcon_Sheffield, Hallam', 'pcon_Sheffield, Heeley', 'pcon_Sherwood', 'pcon_Shipley', 'pcon_Shrewsbury and Atcham', 'pcon_Sittingbourne and Sheppey', 'pcon_Skipton and Ripon', 'pcon_Sleaford and North Hykeham', 'pcon_Slough', 'pcon_Solihull', 'pcon_Somerton and Frome', 'pcon_South Basildon and East Thurrock', 'pcon_South Cambridgeshire', 'pcon_South Derbyshire', 'pcon_South Dorset', 'pcon_South East Cambridgeshire', 'pcon_South East Cornwall', 'pcon_South Holland and The Deepings', 'pcon_South Leicestershire', 'pcon_South Norfolk', 'pcon_South Northamptonshire', 'pcon_South Ribble', 'pcon_South Shields', 'pcon_South Staffordshire', 'pcon_South Suffolk', 'pcon_South Swindon', 'pcon_South Thanet', 'pcon_South West Bedfordshire', 'pcon_South West Devon', 'pcon_South West Hertfordshire', 'pcon_South West Norfolk', 'pcon_South West Surrey', 'pcon_South West Wiltshire', 'pcon_Southampton, Itchen', 'pcon_Southampton, Test', 'pcon_Southend West', 'pcon_Southport', 'pcon_Spelthorne', 'pcon_St Albans', 'pcon_St Austell and Newquay', 'pcon_St Helens North', 'pcon_St Helens South and Whiston', 'pcon_St Ives', 'pcon_Stafford', 'pcon_Staffordshire Moorlands', 'pcon_Stalybridge and Hyde', 'pcon_Stevenage', 'pcon_Stirling', 'pcon_Stockport', 'pcon_Stockton North', 'pcon_Stockton South', 'pcon_Stoke-on-Trent Central', 'pcon_Stoke-on-Trent North', 'pcon_Stoke-on-Trent South', 'pcon_Stone', 'pcon_Stourbridge', 'pcon_Stratford-on-Avon', 'pcon_Streatham', 'pcon_Stretford and Urmston', 'pcon_Stroud', 'pcon_Suffolk Coastal', 'pcon_Sunderland Central', 'pcon_Surrey Heath', 'pcon_Sutton Coldfield', 'pcon_Sutton and Cheam', 'pcon_Swansea East', 'pcon_Swansea West', 'pcon_Tamworth', 'pcon_Tatton', 'pcon_Taunton Deane', 'pcon_Telford', 'pcon_Tewkesbury', 'pcon_The Cotswolds', 'pcon_The Wrekin', 'pcon_Thirsk and Malton', 'pcon_Thornbury and Yate', 'pcon_Thurrock', 'pcon_Tiverton and Honiton', 'pcon_Tonbridge and Malling', 'pcon_Tooting', 'pcon_Torbay', 'pcon_Torfaen', 'pcon_Torridge and West Devon', 'pcon_Totnes', 'pcon_Tottenham', 'pcon_Truro and Falmouth', 'pcon_Tunbridge Wells', 'pcon_Twickenham', 'pcon_Tynemouth', 'pcon_Uxbridge and South Ruislip', 'pcon_Vale of Clwyd', 'pcon_Vale of Glamorgan', 'pcon_Vauxhall', 'pcon_Wakefield', 'pcon_Wallasey', 'pcon_Walsall North', 'pcon_Walsall South', 'pcon_Walthamstow', 'pcon_Wansbeck', 'pcon_Wantage', 'pcon_Warley', 'pcon_Warrington North', 'pcon_Warrington South', 'pcon_Warwick and Leamington', 'pcon_Washington and Sunderland West', 'pcon_Watford', 'pcon_Waveney', 'pcon_Wealden', 'pcon_Weaver Vale', 'pcon_Wellingborough', 'pcon_Wells', 'pcon_Welwyn Hatfield', 'pcon_Wentworth and Dearne', 'pcon_West Aberdeenshire and Kincardine', 'pcon_West Bromwich East', 'pcon_West Bromwich West', 'pcon_West Dorset', 'pcon_West Dunbartonshire', 'pcon_West Ham', 'pcon_West Lancashire', 'pcon_West Suffolk', 'pcon_West Worcestershire', 'pcon_Westminster North', 'pcon_Westmorland and Lonsdale', 'pcon_Weston-Super-Mare', 'pcon_Wigan', 'pcon_Wimbledon', 'pcon_Winchester', 'pcon_Windsor', 'pcon_Wirral South', 'pcon_Wirral West', 'pcon_Witham', 'pcon_Witney', 'pcon_Woking', 'pcon_Wokingham', 'pcon_Wolverhampton North East', 'pcon_Wolverhampton South East', 'pcon_Wolverhampton South West', 'pcon_Worcester', 'pcon_Workington', 'pcon_Worsley and Eccles South', 'pcon_Worthing West', 'pcon_Wrexham', 'pcon_Wycombe', 'pcon_Wyre Forest', 'pcon_Wyre and Preston North', 'pcon_Wythenshawe and Sale East', 'pcon_Yeovil', 'pcon_Ynys Mon', 'pcon_York Central', 'pcon_York Outer', 'p_paper_read_None', 'p_paper_read_Other Newspaper', 'p_paper_read_Other local daily morning newspaper', 'p_paper_read_The Daily Mail / The Scottish Daily Mail', 'p_paper_read_The Daily Star / The Daily Star of Scotland', 'p_paper_read_The Daily Telegraph', 'p_paper_read_The Express', 'p_paper_read_The Financial Times', 'p_paper_read_The Guardian', 'p_paper_read_The Herald (Glasgow)', 'p_paper_read_The Independent', 'p_paper_read_The Mirror / Daily Record', 'p_paper_read_The Scotsman', 'p_paper_read_The Sun', 'p_paper_read_The Times', 'p_paper_read_The Western Mail', 'p_socgrade_A', 'p_socgrade_B', 'p_socgrade_C1', 'p_socgrade_C2', 'p_socgrade_D', 'p_socgrade_E', 'p_socgrade_Unknown', 'p_work_stat_Full time student', 'p_work_stat_Not working', 'p_work_stat_Other', 'p_work_stat_Retired', 'p_work_stat_Unemployed', 'p_work_stat_Working full time (30 or more hours per week)', 'p_work_stat_Working part time (8-29 hours a week)', 'p_work_stat_Working part time (Less than 8 hours a week)']"
      ],
      "text/plain": [
       "[\"turnoutUKGeneral_Don't know\",\n",
       " 'turnoutUKGeneral_Fairly likely',\n",
       " 'turnoutUKGeneral_Fairly unlikely',\n",
       " 'turnoutUKGeneral_Neither likely nor unlikely',\n",
       " 'turnoutUKGeneral_Very likely that I would vote',\n",
       " 'turnoutUKGeneral_Very unlikely that I would vote',\n",
       " 'partyId_Brexit Party',\n",
       " 'partyId_Conservative',\n",
       " \"partyId_Don't know\",\n",
       " 'partyId_Green Party',\n",
       " 'partyId_Labour',\n",
       " 'partyId_Liberal Democrat',\n",
       " 'partyId_No - none',\n",
       " 'partyId_Other',\n",
       " 'partyId_Plaid Cymru',\n",
       " 'partyId_Scottish National Party (SNP)',\n",
       " \"mii_Don't know\",\n",
       " 'mii_Issue stated',\n",
       " 'mii_None',\n",
       " 'polAttention_1',\n",
       " 'polAttention_2',\n",
       " 'polAttention_3',\n",
       " 'polAttention_4',\n",
       " 'polAttention_5',\n",
       " 'polAttention_6',\n",
       " 'polAttention_7',\n",
       " 'polAttention_8',\n",
       " 'polAttention_9',\n",
       " \"polAttention_Don't know\",\n",
       " 'polAttention_Pay a great deal of attention',\n",
       " 'polAttention_Pay no attention',\n",
       " 'likeJohnson_1',\n",
       " 'likeJohnson_2',\n",
       " 'likeJohnson_3',\n",
       " 'likeJohnson_4',\n",
       " 'likeJohnson_5',\n",
       " 'likeJohnson_6',\n",
       " 'likeJohnson_7',\n",
       " 'likeJohnson_8',\n",
       " 'likeJohnson_9',\n",
       " \"likeJohnson_Don't know\",\n",
       " 'likeJohnson_Strongly dislike',\n",
       " 'likeJohnson_Strongly like',\n",
       " 'likeStarmer_1',\n",
       " 'likeStarmer_2',\n",
       " 'likeStarmer_3',\n",
       " 'likeStarmer_4',\n",
       " 'likeStarmer_5',\n",
       " 'likeStarmer_6',\n",
       " 'likeStarmer_7',\n",
       " 'likeStarmer_8',\n",
       " 'likeStarmer_9',\n",
       " \"likeStarmer_Don't know\",\n",
       " 'likeStarmer_Strongly dislike',\n",
       " 'likeStarmer_Strongly like',\n",
       " 'likeDavey_1',\n",
       " 'likeDavey_2',\n",
       " 'likeDavey_3',\n",
       " 'likeDavey_4',\n",
       " 'likeDavey_5',\n",
       " 'likeDavey_6',\n",
       " 'likeDavey_7',\n",
       " 'likeDavey_8',\n",
       " 'likeDavey_9',\n",
       " \"likeDavey_Don't know\",\n",
       " 'likeDavey_Strongly dislike',\n",
       " 'likeDavey_Strongly like',\n",
       " 'likeFarage_1',\n",
       " 'likeFarage_2',\n",
       " 'likeFarage_3',\n",
       " 'likeFarage_4',\n",
       " 'likeFarage_5',\n",
       " 'likeFarage_6',\n",
       " 'likeFarage_7',\n",
       " 'likeFarage_8',\n",
       " 'likeFarage_9',\n",
       " \"likeFarage_Don't know\",\n",
       " 'likeFarage_Strongly dislike',\n",
       " 'likeFarage_Strongly like',\n",
       " 'infoSourceTV_1 to 2 hours',\n",
       " 'infoSourceTV_1/2 hour to 1 hour',\n",
       " \"infoSourceTV_Don't know\",\n",
       " 'infoSourceTV_Less than 1/2 hour',\n",
       " 'infoSourceTV_More than 2 hours',\n",
       " 'infoSourceTV_None, no time at all',\n",
       " 'infoSourcePaper_1 to 2 hours',\n",
       " 'infoSourcePaper_1/2 hour to 1 hour',\n",
       " \"infoSourcePaper_Don't know\",\n",
       " 'infoSourcePaper_Less than 1/2 hour',\n",
       " 'infoSourcePaper_More than 2 hours',\n",
       " 'infoSourcePaper_None, no time at all',\n",
       " 'infoSourceRadio_1 to 2 hours',\n",
       " 'infoSourceRadio_1/2 hour to 1 hour',\n",
       " \"infoSourceRadio_Don't know\",\n",
       " 'infoSourceRadio_Less than 1/2 hour',\n",
       " 'infoSourceRadio_More than 2 hours',\n",
       " 'infoSourceRadio_None, no time at all',\n",
       " 'infoSourceInternet_1 to 2 hours',\n",
       " 'infoSourceInternet_1/2 hour to 1 hour',\n",
       " \"infoSourceInternet_Don't know\",\n",
       " 'infoSourceInternet_Less than 1/2 hour',\n",
       " 'infoSourceInternet_More than 2 hours',\n",
       " 'infoSourceInternet_None, no time at all',\n",
       " 'likeCon_1',\n",
       " 'likeCon_2',\n",
       " 'likeCon_3',\n",
       " 'likeCon_4',\n",
       " 'likeCon_5',\n",
       " 'likeCon_6',\n",
       " 'likeCon_7',\n",
       " 'likeCon_8',\n",
       " 'likeCon_9',\n",
       " \"likeCon_Don't know\",\n",
       " 'likeCon_Strongly dislike',\n",
       " 'likeCon_Strongly like',\n",
       " 'likeLab_1',\n",
       " 'likeLab_2',\n",
       " 'likeLab_3',\n",
       " 'likeLab_4',\n",
       " 'likeLab_5',\n",
       " 'likeLab_6',\n",
       " 'likeLab_7',\n",
       " 'likeLab_8',\n",
       " 'likeLab_9',\n",
       " \"likeLab_Don't know\",\n",
       " 'likeLab_Strongly dislike',\n",
       " 'likeLab_Strongly like',\n",
       " 'likeLD_1',\n",
       " 'likeLD_2',\n",
       " 'likeLD_3',\n",
       " 'likeLD_4',\n",
       " 'likeLD_5',\n",
       " 'likeLD_6',\n",
       " 'likeLD_7',\n",
       " 'likeLD_8',\n",
       " 'likeLD_9',\n",
       " \"likeLD_Don't know\",\n",
       " 'likeLD_Strongly dislike',\n",
       " 'likeLD_Strongly like',\n",
       " 'likeBrexitParty_1',\n",
       " 'likeBrexitParty_2',\n",
       " 'likeBrexitParty_3',\n",
       " 'likeBrexitParty_4',\n",
       " 'likeBrexitParty_5',\n",
       " 'likeBrexitParty_6',\n",
       " 'likeBrexitParty_7',\n",
       " 'likeBrexitParty_8',\n",
       " 'likeBrexitParty_9',\n",
       " \"likeBrexitParty_Don't know\",\n",
       " 'likeBrexitParty_Strongly dislike',\n",
       " 'likeBrexitParty_Strongly like',\n",
       " 'likeGrn_1',\n",
       " 'likeGrn_2',\n",
       " 'likeGrn_3',\n",
       " 'likeGrn_4',\n",
       " 'likeGrn_5',\n",
       " 'likeGrn_6',\n",
       " 'likeGrn_7',\n",
       " 'likeGrn_8',\n",
       " 'likeGrn_9',\n",
       " \"likeGrn_Don't know\",\n",
       " 'likeGrn_Strongly dislike',\n",
       " 'likeGrn_Strongly like',\n",
       " \"riskPoverty_Don't know\",\n",
       " 'riskPoverty_Fairly likely',\n",
       " 'riskPoverty_Fairly unlikely',\n",
       " 'riskPoverty_Neither likely nor unlikely',\n",
       " 'riskPoverty_Very likely',\n",
       " 'riskPoverty_Very unlikely',\n",
       " \"riskUnemployment_Don't know\",\n",
       " 'riskUnemployment_Fairly likely',\n",
       " 'riskUnemployment_Fairly unlikely',\n",
       " 'riskUnemployment_Neither likely nor unlikely',\n",
       " 'riskUnemployment_Very likely',\n",
       " 'riskUnemployment_Very unlikely',\n",
       " 'goodTimePurchase_Bad time to buy',\n",
       " \"goodTimePurchase_Don't know\",\n",
       " 'goodTimePurchase_Good time to buy',\n",
       " 'goodTimePurchase_Neither good nor bad time to buy',\n",
       " \"econPersonalRetro_Don't know\",\n",
       " 'econPersonalRetro_Got a little better',\n",
       " 'econPersonalRetro_Got a little worse',\n",
       " 'econPersonalRetro_Got a lot better',\n",
       " 'econPersonalRetro_Got a lot worse',\n",
       " 'econPersonalRetro_Stayed the same',\n",
       " \"econGenRetro_Don't know\",\n",
       " 'econGenRetro_Got a little better',\n",
       " 'econGenRetro_Got a little worse',\n",
       " 'econGenRetro_Got a lot better',\n",
       " 'econGenRetro_Got a lot worse',\n",
       " 'econGenRetro_Stayed the same',\n",
       " \"econPersonalProsp_Don't know\",\n",
       " 'econPersonalProsp_Get a little better',\n",
       " 'econPersonalProsp_Get a little worse',\n",
       " 'econPersonalProsp_Get a lot better',\n",
       " 'econPersonalProsp_Get a lot worse',\n",
       " 'econPersonalProsp_Stay the same',\n",
       " \"econGenProsp_Don't know\",\n",
       " 'econGenProsp_Get a little better',\n",
       " 'econGenProsp_Get a little worse',\n",
       " 'econGenProsp_Get a lot better',\n",
       " 'econGenProsp_Get a lot worse',\n",
       " 'econGenProsp_Stay the same',\n",
       " 'EUIntegrationSelf_1',\n",
       " 'EUIntegrationSelf_2',\n",
       " 'EUIntegrationSelf_3',\n",
       " 'EUIntegrationSelf_4',\n",
       " 'EUIntegrationSelf_5',\n",
       " 'EUIntegrationSelf_6',\n",
       " 'EUIntegrationSelf_7',\n",
       " 'EUIntegrationSelf_8',\n",
       " 'EUIntegrationSelf_9',\n",
       " \"EUIntegrationSelf_Don't know\",\n",
       " 'EUIntegrationSelf_Protect our independence',\n",
       " 'EUIntegrationSelf_Unite fully with the European Union',\n",
       " 'EUIntegrationCon_1',\n",
       " 'EUIntegrationCon_2',\n",
       " 'EUIntegrationCon_3',\n",
       " 'EUIntegrationCon_4',\n",
       " 'EUIntegrationCon_5',\n",
       " 'EUIntegrationCon_6',\n",
       " 'EUIntegrationCon_7',\n",
       " 'EUIntegrationCon_8',\n",
       " 'EUIntegrationCon_9',\n",
       " \"EUIntegrationCon_Don't know\",\n",
       " 'EUIntegrationCon_Protect our independence',\n",
       " 'EUIntegrationCon_Unite fully with the European Union',\n",
       " 'EUIntegrationLab_1',\n",
       " 'EUIntegrationLab_2',\n",
       " 'EUIntegrationLab_3',\n",
       " 'EUIntegrationLab_4',\n",
       " 'EUIntegrationLab_5',\n",
       " 'EUIntegrationLab_6',\n",
       " 'EUIntegrationLab_7',\n",
       " 'EUIntegrationLab_8',\n",
       " 'EUIntegrationLab_9',\n",
       " \"EUIntegrationLab_Don't know\",\n",
       " 'EUIntegrationLab_Protect our independence',\n",
       " 'EUIntegrationLab_Unite fully with the European Union',\n",
       " 'EUIntegrationLD_1',\n",
       " 'EUIntegrationLD_2',\n",
       " 'EUIntegrationLD_3',\n",
       " 'EUIntegrationLD_4',\n",
       " 'EUIntegrationLD_5',\n",
       " 'EUIntegrationLD_6',\n",
       " 'EUIntegrationLD_7',\n",
       " 'EUIntegrationLD_8',\n",
       " 'EUIntegrationLD_9',\n",
       " \"EUIntegrationLD_Don't know\",\n",
       " 'EUIntegrationLD_Protect our independence',\n",
       " 'EUIntegrationLD_Unite fully with the European Union',\n",
       " 'EUIntegrationGreen_1',\n",
       " 'EUIntegrationGreen_2',\n",
       " 'EUIntegrationGreen_3',\n",
       " 'EUIntegrationGreen_4',\n",
       " 'EUIntegrationGreen_5',\n",
       " 'EUIntegrationGreen_6',\n",
       " 'EUIntegrationGreen_7',\n",
       " 'EUIntegrationGreen_8',\n",
       " 'EUIntegrationGreen_9',\n",
       " \"EUIntegrationGreen_Don't know\",\n",
       " 'EUIntegrationGreen_Protect our independence',\n",
       " 'EUIntegrationGreen_Unite fully with the European Union',\n",
       " 'EUIntegrationBrexit_1',\n",
       " 'EUIntegrationBrexit_2',\n",
       " 'EUIntegrationBrexit_3',\n",
       " 'EUIntegrationBrexit_4',\n",
       " 'EUIntegrationBrexit_5',\n",
       " 'EUIntegrationBrexit_6',\n",
       " 'EUIntegrationBrexit_7',\n",
       " 'EUIntegrationBrexit_8',\n",
       " 'EUIntegrationBrexit_9',\n",
       " \"EUIntegrationBrexit_Don't know\",\n",
       " 'EUIntegrationBrexit_Protect our independence',\n",
       " 'EUIntegrationBrexit_Unite fully with the European Union',\n",
       " 'immigEcon_2',\n",
       " 'immigEcon_3',\n",
       " 'immigEcon_4',\n",
       " 'immigEcon_5',\n",
       " 'immigEcon_6',\n",
       " 'immigEcon_Bad for economy',\n",
       " \"immigEcon_Don't know\",\n",
       " 'immigEcon_Good for economy',\n",
       " 'immigCultural_2',\n",
       " 'immigCultural_3',\n",
       " 'immigCultural_4',\n",
       " 'immigCultural_5',\n",
       " 'immigCultural_6',\n",
       " \"immigCultural_Don't know\",\n",
       " 'immigCultural_Enriches cultural life',\n",
       " 'immigCultural_Undermines cultural life',\n",
       " 'euPriorityBalance_1',\n",
       " 'euPriorityBalance_2',\n",
       " 'euPriorityBalance_3',\n",
       " 'euPriorityBalance_4',\n",
       " 'euPriorityBalance_5',\n",
       " 'euPriorityBalance_6',\n",
       " 'euPriorityBalance_7',\n",
       " 'euPriorityBalance_8',\n",
       " 'euPriorityBalance_9',\n",
       " 'euPriorityBalance_Access to the single market',\n",
       " 'euPriorityBalance_Control immigration',\n",
       " \"euPriorityBalance_Don't know\",\n",
       " \"handleCorona_Don't know\",\n",
       " 'handleCorona_Fairly badly',\n",
       " 'handleCorona_Fairly well',\n",
       " 'handleCorona_Neither well nor badly',\n",
       " 'handleCorona_Very badly',\n",
       " 'handleCorona_Very well',\n",
       " \"handleCoronaLab_Don't know\",\n",
       " 'handleCoronaLab_Fairly badly',\n",
       " 'handleCoronaLab_Fairly well',\n",
       " 'handleCoronaLab_Neither well nor badly',\n",
       " 'handleCoronaLab_Very badly',\n",
       " 'handleCoronaLab_Very well',\n",
       " \"govtHandlelockdown_Don't know\",\n",
       " 'govtHandlelockdown_Fairly badly',\n",
       " 'govtHandlelockdown_Fairly well',\n",
       " 'govtHandlelockdown_Neither well nor badly',\n",
       " 'govtHandlelockdown_Very badly',\n",
       " 'govtHandlelockdown_Very well',\n",
       " \"govtHandlePPE_Don't know\",\n",
       " 'govtHandlePPE_Fairly badly',\n",
       " 'govtHandlePPE_Fairly well',\n",
       " 'govtHandlePPE_Neither well nor badly',\n",
       " 'govtHandlePPE_Very badly',\n",
       " 'govtHandlePPE_Very well',\n",
       " \"govtHandleTesting_Don't know\",\n",
       " 'govtHandleTesting_Fairly badly',\n",
       " 'govtHandleTesting_Fairly well',\n",
       " 'govtHandleTesting_Neither well nor badly',\n",
       " 'govtHandleTesting_Very badly',\n",
       " 'govtHandleTesting_Very well',\n",
       " \"changeEconomy_Don't know\",\n",
       " 'changeEconomy_Getting a little better',\n",
       " 'changeEconomy_Getting a little worse',\n",
       " 'changeEconomy_Getting a lot better',\n",
       " 'changeEconomy_Getting a lot worse',\n",
       " 'changeEconomy_Staying about the same',\n",
       " \"changeNHS_Don't know\",\n",
       " 'changeNHS_Getting a little better',\n",
       " 'changeNHS_Getting a little worse',\n",
       " 'changeNHS_Getting a lot better',\n",
       " 'changeNHS_Getting a lot worse',\n",
       " 'changeNHS_Staying about the same',\n",
       " \"changeCorona_Don't know\",\n",
       " 'changeCorona_Getting a little better',\n",
       " 'changeCorona_Getting a little worse',\n",
       " 'changeCorona_Getting a lot better',\n",
       " 'changeCorona_Getting a lot worse',\n",
       " 'changeCorona_Staying about the same',\n",
       " \"changeEconomyLab_Don't know\",\n",
       " 'changeEconomyLab_Getting a little better',\n",
       " 'changeEconomyLab_Getting a little worse',\n",
       " 'changeEconomyLab_Getting a lot better',\n",
       " 'changeEconomyLab_Getting a lot worse',\n",
       " 'changeEconomyLab_Staying about the same',\n",
       " \"changeNHSLab_Don't know\",\n",
       " 'changeNHSLab_Getting a little better',\n",
       " 'changeNHSLab_Getting a little worse',\n",
       " 'changeNHSLab_Getting a lot better',\n",
       " 'changeNHSLab_Getting a lot worse',\n",
       " 'changeNHSLab_Staying about the same',\n",
       " \"coronaMeasures_1_Don't know\",\n",
       " 'coronaMeasures_1_No',\n",
       " 'coronaMeasures_1_Yes',\n",
       " \"coronaMeasures_2_Don't know\",\n",
       " 'coronaMeasures_2_No',\n",
       " 'coronaMeasures_2_Yes',\n",
       " \"coronaMeasures_3_Don't know\",\n",
       " 'coronaMeasures_3_No',\n",
       " 'coronaMeasures_3_Yes',\n",
       " \"coronaMeasures_4_Don't know\",\n",
       " 'coronaMeasures_4_No',\n",
       " 'coronaMeasures_4_Yes',\n",
       " \"coronaMeasures_5_Don't know\",\n",
       " 'coronaMeasures_5_No',\n",
       " 'coronaMeasures_5_Yes',\n",
       " \"coronaMeasures_none_Don't know\",\n",
       " 'coronaMeasures_none_No',\n",
       " 'coronaMeasures_none_Yes',\n",
       " \"coronaMeasures2_1_Don't know\",\n",
       " 'coronaMeasures2_1_No',\n",
       " 'coronaMeasures2_1_Yes',\n",
       " \"coronaMeasures2_2_Don't know\",\n",
       " 'coronaMeasures2_2_No',\n",
       " 'coronaMeasures2_2_Yes',\n",
       " \"coronaMeasures2_3_Don't know\",\n",
       " 'coronaMeasures2_3_No',\n",
       " 'coronaMeasures2_3_Yes',\n",
       " \"coronaMeasures2_4_Don't know\",\n",
       " 'coronaMeasures2_4_No',\n",
       " 'coronaMeasures2_4_Yes',\n",
       " \"coronaMeasures2_5_Don't know\",\n",
       " 'coronaMeasures2_5_No',\n",
       " 'coronaMeasures2_5_Yes',\n",
       " \"coronaMeasures2_none_Don't know\",\n",
       " 'coronaMeasures2_none_No',\n",
       " 'coronaMeasures2_none_Yes',\n",
       " 'worryCoronaHealth_1',\n",
       " 'worryCoronaHealth_2',\n",
       " 'worryCoronaHealth_3',\n",
       " 'worryCoronaHealth_4',\n",
       " 'worryCoronaHealth_5',\n",
       " 'worryCoronaHealth_6',\n",
       " 'worryCoronaHealth_7',\n",
       " 'worryCoronaHealth_8',\n",
       " 'worryCoronaHealth_9',\n",
       " \"worryCoronaHealth_Don't know\",\n",
       " 'worryCoronaHealth_Extremely Worried',\n",
       " 'worryCoronaHealth_Not at all worried',\n",
       " 'worryCoronaEcon_1',\n",
       " 'worryCoronaEcon_2',\n",
       " 'worryCoronaEcon_3',\n",
       " 'worryCoronaEcon_4',\n",
       " 'worryCoronaEcon_5',\n",
       " 'worryCoronaEcon_6',\n",
       " 'worryCoronaEcon_7',\n",
       " 'worryCoronaEcon_8',\n",
       " 'worryCoronaEcon_9',\n",
       " \"worryCoronaEcon_Don't know\",\n",
       " 'worryCoronaEcon_Extremely Worried',\n",
       " 'worryCoronaEcon_Not at all worried',\n",
       " 'worryCoronaPub_1',\n",
       " 'worryCoronaPub_2',\n",
       " 'worryCoronaPub_3',\n",
       " 'worryCoronaPub_4',\n",
       " 'worryCoronaPub_5',\n",
       " 'worryCoronaPub_6',\n",
       " 'worryCoronaPub_7',\n",
       " 'worryCoronaPub_8',\n",
       " 'worryCoronaPub_9',\n",
       " \"worryCoronaPub_Don't know\",\n",
       " 'worryCoronaPub_Extremely Worried',\n",
       " 'worryCoronaPub_Not at all worried',\n",
       " 'ptvCon_1',\n",
       " 'ptvCon_2',\n",
       " 'ptvCon_3',\n",
       " 'ptvCon_4',\n",
       " 'ptvCon_5',\n",
       " 'ptvCon_6',\n",
       " 'ptvCon_7',\n",
       " 'ptvCon_8',\n",
       " 'ptvCon_9',\n",
       " \"ptvCon_Don't know\",\n",
       " 'ptvCon_Very likely',\n",
       " 'ptvCon_Very unlikely',\n",
       " 'ptvLab_1',\n",
       " 'ptvLab_2',\n",
       " 'ptvLab_3',\n",
       " 'ptvLab_4',\n",
       " 'ptvLab_5',\n",
       " 'ptvLab_6',\n",
       " 'ptvLab_7',\n",
       " 'ptvLab_8',\n",
       " 'ptvLab_9',\n",
       " \"ptvLab_Don't know\",\n",
       " 'ptvLab_Very likely',\n",
       " 'ptvLab_Very unlikely',\n",
       " 'ptvLD_1',\n",
       " 'ptvLD_2',\n",
       " 'ptvLD_3',\n",
       " 'ptvLD_4',\n",
       " 'ptvLD_5',\n",
       " 'ptvLD_6',\n",
       " 'ptvLD_7',\n",
       " 'ptvLD_8',\n",
       " 'ptvLD_9',\n",
       " \"ptvLD_Don't know\",\n",
       " 'ptvLD_Very likely',\n",
       " 'ptvLD_Very unlikely',\n",
       " 'ptvBrexitParty_1',\n",
       " 'ptvBrexitParty_2',\n",
       " 'ptvBrexitParty_3',\n",
       " 'ptvBrexitParty_4',\n",
       " 'ptvBrexitParty_5',\n",
       " 'ptvBrexitParty_6',\n",
       " 'ptvBrexitParty_7',\n",
       " 'ptvBrexitParty_8',\n",
       " 'ptvBrexitParty_9',\n",
       " \"ptvBrexitParty_Don't know\",\n",
       " 'ptvBrexitParty_Very likely',\n",
       " 'ptvBrexitParty_Very unlikely',\n",
       " 'ptvGrn_1',\n",
       " 'ptvGrn_2',\n",
       " 'ptvGrn_3',\n",
       " 'ptvGrn_4',\n",
       " 'ptvGrn_5',\n",
       " 'ptvGrn_6',\n",
       " 'ptvGrn_7',\n",
       " 'ptvGrn_8',\n",
       " 'ptvGrn_9',\n",
       " \"ptvGrn_Don't know\",\n",
       " 'ptvGrn_Very likely',\n",
       " 'ptvGrn_Very unlikely',\n",
       " 'leftRight_1',\n",
       " 'leftRight_2',\n",
       " 'leftRight_3',\n",
       " 'leftRight_4',\n",
       " 'leftRight_5',\n",
       " 'leftRight_6',\n",
       " 'leftRight_7',\n",
       " 'leftRight_8',\n",
       " 'leftRight_9',\n",
       " \"leftRight_Don't know\",\n",
       " 'leftRight_Left',\n",
       " 'leftRight_Right',\n",
       " 'lrCon_1',\n",
       " 'lrCon_2',\n",
       " 'lrCon_3',\n",
       " 'lrCon_4',\n",
       " 'lrCon_5',\n",
       " 'lrCon_6',\n",
       " 'lrCon_7',\n",
       " 'lrCon_8',\n",
       " 'lrCon_9',\n",
       " \"lrCon_Don't know\",\n",
       " 'lrCon_Left',\n",
       " 'lrCon_Right',\n",
       " 'lrLab_1',\n",
       " 'lrLab_2',\n",
       " 'lrLab_3',\n",
       " 'lrLab_4',\n",
       " 'lrLab_5',\n",
       " 'lrLab_6',\n",
       " 'lrLab_7',\n",
       " 'lrLab_8',\n",
       " 'lrLab_9',\n",
       " \"lrLab_Don't know\",\n",
       " 'lrLab_Left',\n",
       " 'lrLab_Right',\n",
       " 'lrLD_1',\n",
       " 'lrLD_2',\n",
       " 'lrLD_3',\n",
       " 'lrLD_4',\n",
       " 'lrLD_5',\n",
       " 'lrLD_6',\n",
       " 'lrLD_7',\n",
       " 'lrLD_8',\n",
       " 'lrLD_9',\n",
       " \"lrLD_Don't know\",\n",
       " 'lrLD_Left',\n",
       " 'lrLD_Right',\n",
       " 'lrgreens_1',\n",
       " 'lrgreens_2',\n",
       " 'lrgreens_3',\n",
       " 'lrgreens_4',\n",
       " 'lrgreens_5',\n",
       " 'lrgreens_6',\n",
       " 'lrgreens_7',\n",
       " 'lrgreens_8',\n",
       " 'lrgreens_9',\n",
       " \"lrgreens_Don't know\",\n",
       " 'lrgreens_Left',\n",
       " 'lrgreens_Right',\n",
       " 'lrBrexit_1',\n",
       " 'lrBrexit_2',\n",
       " 'lrBrexit_3',\n",
       " 'lrBrexit_4',\n",
       " 'lrBrexit_5',\n",
       " 'lrBrexit_6',\n",
       " 'lrBrexit_7',\n",
       " 'lrBrexit_8',\n",
       " 'lrBrexit_9',\n",
       " \"lrBrexit_Don't know\",\n",
       " 'lrBrexit_Left',\n",
       " 'lrBrexit_Right',\n",
       " 'cutsTooFarNational_About right',\n",
       " \"cutsTooFarNational_Don't know\",\n",
       " 'cutsTooFarNational_Gone much too far',\n",
       " 'cutsTooFarNational_Gone too far',\n",
       " 'cutsTooFarNational_Not gone far enough',\n",
       " 'cutsTooFarNational_Not gone nearly far enough',\n",
       " 'cutsTooFarNHS_About right',\n",
       " \"cutsTooFarNHS_Don't know\",\n",
       " 'cutsTooFarNHS_Gone much too far',\n",
       " 'cutsTooFarNHS_Gone too far',\n",
       " 'cutsTooFarNHS_Not gone far enough',\n",
       " 'cutsTooFarNHS_Not gone nearly far enough',\n",
       " 'cutsTooFarLocal_About right',\n",
       " \"cutsTooFarLocal_Don't know\",\n",
       " 'cutsTooFarLocal_Gone much too far',\n",
       " 'cutsTooFarLocal_Gone too far',\n",
       " 'cutsTooFarLocal_Not gone far enough',\n",
       " 'cutsTooFarLocal_Not gone nearly far enough',\n",
       " \"globalGoodOverall_Don't know\",\n",
       " 'globalGoodOverall_Equally good and bad',\n",
       " 'globalGoodOverall_Mainly bad',\n",
       " 'globalGoodOverall_Mainly good',\n",
       " 'globalGoodOverall_Slightly more bad than good',\n",
       " 'globalGoodOverall_Slightly more good than bad',\n",
       " 'redistSelf_1',\n",
       " 'redistSelf_2',\n",
       " 'redistSelf_3',\n",
       " 'redistSelf_4',\n",
       " 'redistSelf_5',\n",
       " 'redistSelf_6',\n",
       " 'redistSelf_7',\n",
       " 'redistSelf_8',\n",
       " 'redistSelf_9',\n",
       " \"redistSelf_Don't know\",\n",
       " 'redistSelf_Government should be less concerned about equal incomes',\n",
       " 'redistSelf_Government should try to make incomes equal',\n",
       " 'redistCon_1',\n",
       " 'redistCon_2',\n",
       " 'redistCon_3',\n",
       " 'redistCon_4',\n",
       " 'redistCon_5',\n",
       " 'redistCon_6',\n",
       " 'redistCon_7',\n",
       " 'redistCon_8',\n",
       " 'redistCon_9',\n",
       " \"redistCon_Don't know\",\n",
       " 'redistCon_Government should be less concerned about equal incomes',\n",
       " 'redistCon_Government should try to make incomes equal',\n",
       " 'redistLab_1',\n",
       " 'redistLab_2',\n",
       " 'redistLab_3',\n",
       " 'redistLab_4',\n",
       " 'redistLab_5',\n",
       " 'redistLab_6',\n",
       " 'redistLab_7',\n",
       " 'redistLab_8',\n",
       " 'redistLab_9',\n",
       " \"redistLab_Don't know\",\n",
       " 'redistLab_Government should be less concerned about equal incomes',\n",
       " 'redistLab_Government should try to make incomes equal',\n",
       " 'redistLD_1',\n",
       " 'redistLD_2',\n",
       " 'redistLD_3',\n",
       " 'redistLD_4',\n",
       " 'redistLD_5',\n",
       " 'redistLD_6',\n",
       " 'redistLD_7',\n",
       " 'redistLD_8',\n",
       " 'redistLD_9',\n",
       " \"redistLD_Don't know\",\n",
       " 'redistLD_Government should be less concerned about equal incomes',\n",
       " 'redistLD_Government should try to make incomes equal',\n",
       " 'redistBrexit_1',\n",
       " 'redistBrexit_2',\n",
       " 'redistBrexit_3',\n",
       " 'redistBrexit_4',\n",
       " 'redistBrexit_5',\n",
       " 'redistBrexit_6',\n",
       " 'redistBrexit_7',\n",
       " 'redistBrexit_8',\n",
       " 'redistBrexit_9',\n",
       " \"redistBrexit_Don't know\",\n",
       " 'redistBrexit_Government should be less concerned about equal incomes',\n",
       " 'redistBrexit_Government should try to make incomes equal',\n",
       " 'redistGreen_1',\n",
       " 'redistGreen_2',\n",
       " 'redistGreen_3',\n",
       " 'redistGreen_4',\n",
       " 'redistGreen_5',\n",
       " 'redistGreen_6',\n",
       " 'redistGreen_7',\n",
       " 'redistGreen_8',\n",
       " 'redistGreen_9',\n",
       " \"redistGreen_Don't know\",\n",
       " 'redistGreen_Government should be less concerned about equal incomes',\n",
       " 'redistGreen_Government should try to make incomes equal',\n",
       " \"euID_Don't know\",\n",
       " 'euID_Neither',\n",
       " 'euID_The leave side',\n",
       " 'euID_The remain side',\n",
       " 'satDemUK_A little dissatisfied',\n",
       " \"satDemUK_Don't know\",\n",
       " 'satDemUK_Fairly satisfied',\n",
       " 'satDemUK_Very dissatisfied',\n",
       " 'satDemUK_Very satisfied',\n",
       " 'lr1_Agree',\n",
       " 'lr1_Disagree',\n",
       " \"lr1_Don't know\",\n",
       " 'lr1_Neither agree nor disagree',\n",
       " 'lr1_Strongly agree',\n",
       " 'lr1_Strongly disagree',\n",
       " 'lr2_Agree',\n",
       " 'lr2_Disagree',\n",
       " \"lr2_Don't know\",\n",
       " 'lr2_Neither agree nor disagree',\n",
       " 'lr2_Strongly agree',\n",
       " 'lr2_Strongly disagree',\n",
       " 'lr3_Agree',\n",
       " 'lr3_Disagree',\n",
       " \"lr3_Don't know\",\n",
       " 'lr3_Neither agree nor disagree',\n",
       " 'lr3_Strongly agree',\n",
       " 'lr3_Strongly disagree',\n",
       " 'lr4_Agree',\n",
       " 'lr4_Disagree',\n",
       " \"lr4_Don't know\",\n",
       " 'lr4_Neither agree nor disagree',\n",
       " 'lr4_Strongly agree',\n",
       " 'lr4_Strongly disagree',\n",
       " 'lr5_Agree',\n",
       " 'lr5_Disagree',\n",
       " \"lr5_Don't know\",\n",
       " 'lr5_Neither agree nor disagree',\n",
       " 'lr5_Strongly agree',\n",
       " 'lr5_Strongly disagree',\n",
       " 'al1_Agree',\n",
       " 'al1_Disagree',\n",
       " \"al1_Don't know\",\n",
       " 'al1_Neither agree nor disagree',\n",
       " 'al1_Strongly agree',\n",
       " 'al1_Strongly disagree',\n",
       " 'al2_Agree',\n",
       " 'al2_Disagree',\n",
       " \"al2_Don't know\",\n",
       " 'al2_Neither agree nor disagree',\n",
       " 'al2_Strongly agree',\n",
       " 'al2_Strongly disagree',\n",
       " 'al3_Agree',\n",
       " 'al3_Disagree',\n",
       " \"al3_Don't know\",\n",
       " 'al3_Neither agree nor disagree',\n",
       " 'al3_Strongly agree',\n",
       " 'al3_Strongly disagree',\n",
       " 'al4_Agree',\n",
       " 'al4_Disagree',\n",
       " \"al4_Don't know\",\n",
       " 'al4_Neither agree nor disagree',\n",
       " 'al4_Strongly agree',\n",
       " 'al4_Strongly disagree',\n",
       " 'al5_Agree',\n",
       " 'al5_Disagree',\n",
       " \"al5_Don't know\",\n",
       " 'al5_Neither agree nor disagree',\n",
       " 'al5_Strongly agree',\n",
       " 'al5_Strongly disagree',\n",
       " 'privateEnterprise_Agree',\n",
       " 'privateEnterprise_Disagree',\n",
       " \"privateEnterprise_Don't know\",\n",
       " 'privateEnterprise_Neither agree nor disagree',\n",
       " 'privateEnterprise_Strongly agree',\n",
       " 'privateEnterprise_Strongly disagree',\n",
       " 'stateOwnership_Agree',\n",
       " 'stateOwnership_Disagree',\n",
       " \"stateOwnership_Don't know\",\n",
       " 'stateOwnership_Neither agree nor disagree',\n",
       " 'stateOwnership_Strongly agree',\n",
       " 'stateOwnership_Strongly disagree',\n",
       " 'jobForAll_Agree',\n",
       " 'jobForAll_Disagree',\n",
       " \"jobForAll_Don't know\",\n",
       " 'jobForAll_Neither agree nor disagree',\n",
       " 'jobForAll_Strongly agree',\n",
       " 'jobForAll_Strongly disagree',\n",
       " 'reasonForUnemployment_Agree',\n",
       " 'reasonForUnemployment_Disagree',\n",
       " \"reasonForUnemployment_Don't know\",\n",
       " 'reasonForUnemployment_Neither agree nor disagree',\n",
       " 'reasonForUnemployment_Strongly agree',\n",
       " 'reasonForUnemployment_Strongly disagree',\n",
       " 'immigrantsWelfareState_Agree',\n",
       " 'immigrantsWelfareState_Disagree',\n",
       " \"immigrantsWelfareState_Don't know\",\n",
       " 'immigrantsWelfareState_Neither agree nor disagree',\n",
       " 'immigrantsWelfareState_Strongly agree',\n",
       " 'immigrantsWelfareState_Strongly disagree',\n",
       " 'govtHandouts_Agree',\n",
       " 'govtHandouts_Disagree',\n",
       " \"govtHandouts_Don't know\",\n",
       " 'govtHandouts_Neither agree nor disagree',\n",
       " 'govtHandouts_Strongly agree',\n",
       " 'govtHandouts_Strongly disagree',\n",
       " 'benefitsNotDeserved_Agree',\n",
       " 'benefitsNotDeserved_Disagree',\n",
       " \"benefitsNotDeserved_Don't know\",\n",
       " 'benefitsNotDeserved_Neither agree nor disagree',\n",
       " 'benefitsNotDeserved_Strongly agree',\n",
       " 'benefitsNotDeserved_Strongly disagree',\n",
       " 'taxSpendSelf_1',\n",
       " 'taxSpendSelf_2',\n",
       " 'taxSpendSelf_3',\n",
       " 'taxSpendSelf_4',\n",
       " 'taxSpendSelf_5',\n",
       " 'taxSpendSelf_6',\n",
       " 'taxSpendSelf_7',\n",
       " 'taxSpendSelf_8',\n",
       " 'taxSpendSelf_9',\n",
       " \"taxSpendSelf_Don't know\",\n",
       " 'taxSpendSelf_Government should cut taxes a lot and spend much less on health and social services',\n",
       " 'taxSpendSelf_Government should increase taxes a lot and spend much more on health and social services',\n",
       " \"deficitReduce_Don't know\",\n",
       " 'deficitReduce_It is completely necessary',\n",
       " 'deficitReduce_It is completely unnecessary',\n",
       " 'deficitReduce_It is important but not absolutely  necessary',\n",
       " 'deficitReduce_It is not necessary but it would be desirable',\n",
       " 'trustMPs_2',\n",
       " 'trustMPs_3',\n",
       " 'trustMPs_4',\n",
       " 'trustMPs_5',\n",
       " 'trustMPs_6',\n",
       " 'trustMPs_A great deal of trust',\n",
       " \"trustMPs_Don't know\",\n",
       " 'trustMPs_No trust',\n",
       " \"trustWestminster_Don't know\",\n",
       " 'trustWestminster_Hardly ever',\n",
       " 'trustWestminster_Just about always',\n",
       " 'trustWestminster_Most of the time',\n",
       " 'trustWestminster_Some of the time',\n",
       " 'immigSelf_1',\n",
       " 'immigSelf_2',\n",
       " 'immigSelf_3',\n",
       " 'immigSelf_4',\n",
       " 'immigSelf_5',\n",
       " 'immigSelf_6',\n",
       " 'immigSelf_7',\n",
       " 'immigSelf_8',\n",
       " 'immigSelf_9',\n",
       " 'immigSelf_Allow many fewer',\n",
       " 'immigSelf_Allow many more',\n",
       " \"immigSelf_Don't know\",\n",
       " 'immigCon_1',\n",
       " 'immigCon_2',\n",
       " 'immigCon_3',\n",
       " 'immigCon_4',\n",
       " 'immigCon_5',\n",
       " 'immigCon_6',\n",
       " 'immigCon_7',\n",
       " 'immigCon_8',\n",
       " 'immigCon_9',\n",
       " 'immigCon_Allow many fewer',\n",
       " 'immigCon_Allow many more',\n",
       " \"immigCon_Don't know\",\n",
       " 'immigLab_1',\n",
       " 'immigLab_2',\n",
       " 'immigLab_3',\n",
       " 'immigLab_4',\n",
       " 'immigLab_5',\n",
       " 'immigLab_6',\n",
       " 'immigLab_7',\n",
       " 'immigLab_8',\n",
       " 'immigLab_9',\n",
       " 'immigLab_Allow many fewer',\n",
       " 'immigLab_Allow many more',\n",
       " \"immigLab_Don't know\",\n",
       " 'immigLD_1',\n",
       " 'immigLD_2',\n",
       " 'immigLD_3',\n",
       " 'immigLD_4',\n",
       " 'immigLD_5',\n",
       " 'immigLD_6',\n",
       " 'immigLD_7',\n",
       " 'immigLD_8',\n",
       " 'immigLD_9',\n",
       " 'immigLD_Allow many fewer',\n",
       " 'immigLD_Allow many more',\n",
       " \"immigLD_Don't know\",\n",
       " 'immigBrexit_1',\n",
       " 'immigBrexit_2',\n",
       " 'immigBrexit_3',\n",
       " 'immigBrexit_4',\n",
       " 'immigBrexit_5',\n",
       " 'immigBrexit_6',\n",
       " 'immigBrexit_7',\n",
       " 'immigBrexit_8',\n",
       " 'immigBrexit_9',\n",
       " 'immigBrexit_Allow many fewer',\n",
       " 'immigBrexit_Allow many more',\n",
       " \"immigBrexit_Don't know\",\n",
       " 'immigGreen_1',\n",
       " 'immigGreen_2',\n",
       " 'immigGreen_3',\n",
       " 'immigGreen_4',\n",
       " 'immigGreen_5',\n",
       " 'immigGreen_6',\n",
       " 'immigGreen_7',\n",
       " 'immigGreen_8',\n",
       " 'immigGreen_9',\n",
       " 'immigGreen_Allow many fewer',\n",
       " 'immigGreen_Allow many more',\n",
       " \"immigGreen_Don't know\",\n",
       " 'britishness_2',\n",
       " 'britishness_3',\n",
       " 'britishness_4',\n",
       " 'britishness_5',\n",
       " 'britishness_6',\n",
       " \"britishness_Don't know\",\n",
       " 'britishness_Not at all British',\n",
       " 'britishness_Very strongly British',\n",
       " 'englishness_2',\n",
       " 'englishness_3',\n",
       " 'englishness_4',\n",
       " 'englishness_5',\n",
       " 'englishness_6',\n",
       " \"englishness_Don't know\",\n",
       " 'englishness_Not at all English',\n",
       " 'englishness_Very strongly English',\n",
       " 'europeanness_2',\n",
       " 'europeanness_3',\n",
       " 'europeanness_4',\n",
       " 'europeanness_5',\n",
       " 'europeanness_6',\n",
       " \"europeanness_Don't know\",\n",
       " 'europeanness_Not at all European',\n",
       " 'europeanness_Very strongly European',\n",
       " 'enviroGrowth_1',\n",
       " 'enviroGrowth_2',\n",
       " 'enviroGrowth_3',\n",
       " 'enviroGrowth_4',\n",
       " 'enviroGrowth_5',\n",
       " 'enviroGrowth_6',\n",
       " 'enviroGrowth_7',\n",
       " 'enviroGrowth_8',\n",
       " 'enviroGrowth_9',\n",
       " \"enviroGrowth_Don't know\",\n",
       " 'enviroGrowth_Economic growth should have priority',\n",
       " 'enviroGrowth_Protecting the environment should have priority',\n",
       " 'cvEconSelf_1',\n",
       " 'cvEconSelf_2',\n",
       " 'cvEconSelf_3',\n",
       " 'cvEconSelf_4',\n",
       " 'cvEconSelf_5',\n",
       " 'cvEconSelf_6',\n",
       " 'cvEconSelf_7',\n",
       " 'cvEconSelf_8',\n",
       " 'cvEconSelf_9',\n",
       " \"cvEconSelf_Don't know\",\n",
       " 'cvEconSelf_Reduce infections even if it damages the economy',\n",
       " 'cvEconSelf_Save the economy even if it increases infections',\n",
       " 'cvEconCon_1',\n",
       " 'cvEconCon_2',\n",
       " 'cvEconCon_3',\n",
       " 'cvEconCon_4',\n",
       " 'cvEconCon_5',\n",
       " 'cvEconCon_6',\n",
       " 'cvEconCon_7',\n",
       " 'cvEconCon_8',\n",
       " 'cvEconCon_9',\n",
       " \"cvEconCon_Don't know\",\n",
       " 'cvEconCon_Reduce infections even if it damages the economy',\n",
       " 'cvEconCon_Save the economy even if it increases infections',\n",
       " 'cvEconLab_1',\n",
       " 'cvEconLab_2',\n",
       " 'cvEconLab_3',\n",
       " 'cvEconLab_4',\n",
       " 'cvEconLab_5',\n",
       " 'cvEconLab_6',\n",
       " 'cvEconLab_7',\n",
       " 'cvEconLab_8',\n",
       " 'cvEconLab_9',\n",
       " \"cvEconLab_Don't know\",\n",
       " 'cvEconLab_Reduce infections even if it damages the economy',\n",
       " 'cvEconLab_Save the economy even if it increases infections',\n",
       " 'cvEconLD_1',\n",
       " 'cvEconLD_2',\n",
       " 'cvEconLD_3',\n",
       " 'cvEconLD_4',\n",
       " 'cvEconLD_5',\n",
       " 'cvEconLD_6',\n",
       " 'cvEconLD_7',\n",
       " 'cvEconLD_8',\n",
       " 'cvEconLD_9',\n",
       " \"cvEconLD_Don't know\",\n",
       " 'cvEconLD_Reduce infections even if it damages the economy',\n",
       " 'cvEconLD_Save the economy even if it increases infections',\n",
       " 'cvEconGreen_1',\n",
       " 'cvEconGreen_2',\n",
       " 'cvEconGreen_3',\n",
       " 'cvEconGreen_4',\n",
       " 'cvEconGreen_5',\n",
       " 'cvEconGreen_6',\n",
       " 'cvEconGreen_7',\n",
       " 'cvEconGreen_8',\n",
       " 'cvEconGreen_9',\n",
       " \"cvEconGreen_Don't know\",\n",
       " 'cvEconGreen_Reduce infections even if it damages the economy',\n",
       " 'cvEconGreen_Save the economy even if it increases infections',\n",
       " 'cvFreedomSelf_1',\n",
       " 'cvFreedomSelf_2',\n",
       " 'cvFreedomSelf_3',\n",
       " 'cvFreedomSelf_4',\n",
       " 'cvFreedomSelf_5',\n",
       " 'cvFreedomSelf_6',\n",
       " 'cvFreedomSelf_7',\n",
       " 'cvFreedomSelf_8',\n",
       " 'cvFreedomSelf_9',\n",
       " \"cvFreedomSelf_Don't know\",\n",
       " 'cvFreedomSelf_Protect personal freedom even if it increases infections',\n",
       " 'cvFreedomSelf_Restrict personal freedom to reduce infections',\n",
       " 'strongLeader_Agree',\n",
       " 'strongLeader_Disagree',\n",
       " \"strongLeader_Don't know\",\n",
       " 'strongLeader_Neither agree nor disagree',\n",
       " 'strongLeader_Strongly agree',\n",
       " 'strongLeader_Strongly disagree',\n",
       " 'antiIntellectual_Agree',\n",
       " 'antiIntellectual_Disagree',\n",
       " \"antiIntellectual_Don't know\",\n",
       " 'antiIntellectual_Neither agree nor disagree',\n",
       " 'antiIntellectual_Strongly agree',\n",
       " 'antiIntellectual_Strongly disagree',\n",
       " 'dutyCorona_Agree',\n",
       " 'dutyCorona_Disagree',\n",
       " \"dutyCorona_Don't know\",\n",
       " 'dutyCorona_Neither agree nor disagree',\n",
       " ...]"
      ]
     },
     "execution_count": 118,
     "metadata": {},
     "output_type": "execute_result"
    }
   ],
   "source": [
    "column_indices = [int(x.split(\"_\")[0].split(\"x\")[1]) for x in enc.get_feature_names()]\n",
    "\n",
    "[prep.columns[x] for x in column_indices]\n",
    "\n"
   ]
  },
  {
   "cell_type": "code",
   "execution_count": 122,
   "id": "attached-surfing",
   "metadata": {},
   "outputs": [],
   "source": [
    "X_test_reconst.columns = enc.get_feature_names()[not_low_var_columns]"
   ]
  },
  {
   "cell_type": "code",
   "execution_count": 123,
   "id": "c6f76507",
   "metadata": {},
   "outputs": [],
   "source": [
    "X_test_reconst.columns = [prep.columns[int(x.split(\"_\")[0].split(\"x\")[1])] +\"_\"+\"_\".join(x.split(\"_\")[1:]) for x in enc.get_feature_names()[not_low_var_columns]]"
   ]
  },
  {
   "cell_type": "code",
   "execution_count": 125,
   "id": "c62bb6fb",
   "metadata": {},
   "outputs": [
    {
     "data": {
      "text/plain": [
       "ptvLab_Don't know                          0.654178\n",
       "satDemUK_Don't know                        0.663619\n",
       "EUIntegrationCon_Don't know                0.664292\n",
       "cvEconSelf_Don't know                      0.667243\n",
       "ptvGrn_Don't know                          0.671782\n",
       "likeFarage_Don't know                      0.673374\n",
       "privateEnterprise_Don't know               0.673770\n",
       "ptvBrexitParty_Don't know                  0.677780\n",
       "EUIntegrationSelf_Don't know               0.680285\n",
       "immigLD_Don't know                         0.683550\n",
       "lrCon_Don't know                           0.689561\n",
       "euPriorityBalance_Don't know               0.690762\n",
       "likeLD_Don't know                          0.692577\n",
       "lrLab_Don't know                           0.694370\n",
       "strongLeader_Don't know                    0.694707\n",
       "EUIntegrationLD_Don't know                 0.695602\n",
       "cutsTooFarLocal_Don't know                 0.695610\n",
       "enviroGrowth_Don't know                    0.698197\n",
       "immigCon_Don't know                        0.698532\n",
       "taxSpendSelf_Don't know                    0.698603\n",
       "immigLab_Don't know                        0.700747\n",
       "leftRight_Don't know                       0.703564\n",
       "EUIntegrationGreen_Don't know              0.704982\n",
       "lrLD_Don't know                            0.705057\n",
       "stateOwnership_Don't know                  0.706938\n",
       "changeNHSLab_Don't know                    0.710535\n",
       "immigEcon_Don't know                       0.711914\n",
       "EUIntegrationBrexit_Don't know             0.712888\n",
       "lrBrexit_Don't know                        0.713450\n",
       "immigGreen_Don't know                      0.715295\n",
       "cvEconLD_Don't know                        0.715577\n",
       "immigCultural_Don't know                   0.716758\n",
       "lrgreens_Don't know                        0.721971\n",
       "redistLD_Don't know                        0.722107\n",
       "cutsTooFarNHS_Don't know                   0.724030\n",
       "EUIntegrationLab_Don't know                0.728334\n",
       "redistCon_Don't know                       0.729707\n",
       "cvEconCon_Don't know                       0.730417\n",
       "redistGreen_Don't know                     0.732571\n",
       "globalGoodOverall_Don't know               0.734126\n",
       "redistLab_Don't know                       0.734949\n",
       "likeGrn_Don't know                         0.737945\n",
       "cutsTooFarNational_Don't know              0.740737\n",
       "immigBrexit_Don't know                     0.741016\n",
       "cvEconGreen_Don't know                     0.744880\n",
       "likeBrexitParty_Don't know                 0.748310\n",
       "redistSelf_Don't know                      0.754455\n",
       "redistBrexit_Don't know                    0.757446\n",
       "cvEconLab_Don't know                       0.797876\n",
       "infoSourceInternet_None, no time at all    0.820750\n",
       "dtype: float64"
      ]
     },
     "execution_count": 125,
     "metadata": {},
     "output_type": "execute_result"
    }
   ],
   "source": [
    "X_test_reconst.corrwith(pd.Series(encoded_imgs[:,0].reshape(X_test.shape[0]),index=X_test.index)).sort_values().tail(50)"
   ]
  },
  {
   "cell_type": "code",
   "execution_count": 126,
   "id": "c03091ed",
   "metadata": {},
   "outputs": [
    {
     "data": {
      "text/plain": [
       "infoSourceInternet_1 to 2 hours                                        -0.838166\n",
       "infoSourceInternet_1/2 hour to 1 hour                                  -0.788343\n",
       "al4_Disagree                                                           -0.764867\n",
       "lrLab_4                                                                -0.755498\n",
       "p_paper_read_The Independent                                           -0.750893\n",
       "CVsuspect_3_Yes                                                        -0.747010\n",
       "immigBrexit_Allow many fewer                                           -0.746328\n",
       "immigLab_5                                                             -0.746309\n",
       "reasonForUnemployment_Agree                                            -0.742515\n",
       "cvEconGreen_2                                                          -0.736570\n",
       "EUIntegrationLab_3                                                     -0.734566\n",
       "redistLab_4                                                            -0.729341\n",
       "infoSourceRadio_1 to 2 hours                                           -0.729260\n",
       "EUIntegrationLab_5                                                     -0.728444\n",
       "econPersonalProsp_Get a little worse                                   -0.728288\n",
       "lrLab_3                                                                -0.725465\n",
       "cvEconLab_5                                                            -0.725253\n",
       "cvEconLab_2                                                            -0.724820\n",
       "cvEconLab_3                                                            -0.723613\n",
       "immigGreen_7                                                           -0.722990\n",
       "redistLD_6                                                             -0.716453\n",
       "cvEconLab_4                                                            -0.711908\n",
       "britishness_3                                                          -0.710029\n",
       "redistLD_7                                                             -0.708781\n",
       "riskScale_11                                                           -0.708183\n",
       "immigLab_6                                                             -0.703662\n",
       "cvEconGreen_1                                                          -0.701929\n",
       "ptvGrn_6                                                               -0.700559\n",
       "englishness_3                                                          -0.700005\n",
       "redistGreen_3                                                          -0.699684\n",
       "ptvGrn_8                                                               -0.697441\n",
       "immigLD_5                                                              -0.696225\n",
       "privateEnterprise_Disagree                                             -0.695967\n",
       "EUIntegrationLab_4                                                     -0.695051\n",
       "immigGreen_6                                                           -0.693169\n",
       "redistLab_3                                                            -0.692003\n",
       "lrgreens_2                                                             -0.691495\n",
       "changeNHSLab_Getting a little better                                   -0.689574\n",
       "immigLab_7                                                             -0.687744\n",
       "englishness_2                                                          -0.686592\n",
       "cvEconGreen_3                                                          -0.686440\n",
       "globalGoodOverall_Mainly good                                          -0.685754\n",
       "CVsuspect_2_Yes                                                        -0.685022\n",
       "EUIntegrationGreen_2                                                   -0.684438\n",
       "CVsuspect_none_No                                                      -0.682204\n",
       "anyUni_Yes, I graduated from higher education                          -0.681943\n",
       "EUIntegrationGreen_3                                                   -0.681506\n",
       "infoSourceInternet_More than 2 hours                                   -0.678202\n",
       "redistBrexit_Government should be less concerned about equal incomes   -0.677885\n",
       "ptvGrn_7                                                               -0.674669\n",
       "dtype: float64"
      ]
     },
     "execution_count": 126,
     "metadata": {},
     "output_type": "execute_result"
    }
   ],
   "source": [
    "X_test_reconst.corrwith(pd.Series(encoded_imgs[:,0].reshape(X_test.shape[0]),index=X_test.index)).sort_values().head(50)"
   ]
  },
  {
   "cell_type": "code",
   "execution_count": 130,
   "id": "dd01c5d1",
   "metadata": {},
   "outputs": [
    {
     "data": {
      "text/plain": [
       "age_65                                                   0.904639\n",
       "riskUnemployment_Very unlikely                           0.893336\n",
       "age_75                                                   0.857434\n",
       "econPersonalRetro_Stayed the same                        0.856699\n",
       "goodTimePurchase_Good time to buy                        0.856290\n",
       "age_67                                                   0.855261\n",
       "age_70                                                   0.848664\n",
       "age_66                                                   0.846267\n",
       "workingStatus_Retired                                    0.842629\n",
       "p_work_stat_Retired                                      0.841223\n",
       "econPersonalProsp_Stay the same                          0.830294\n",
       "age_64                                                   0.815917\n",
       "riskPoverty_Very unlikely                                0.813887\n",
       "highRiskLetter_2_No                                      0.811187\n",
       "age_76                                                   0.801478\n",
       "age_72                                                   0.799222\n",
       "age_69                                                   0.798822\n",
       "age_71                                                   0.796746\n",
       "p_paper_read_The Daily Mail / The Scottish Daily Mail    0.793726\n",
       "age_73                                                   0.789271\n",
       "age_77                                                   0.784968\n",
       "age_74                                                   0.777763\n",
       "age_68                                                   0.776641\n",
       "oslaua_East Riding of Yorkshire                          0.765733\n",
       "p_paper_read_The Express                                 0.765261\n",
       "hhIncomeCorona_It hasnât changed                       0.763356\n",
       "age_78                                                   0.758747\n",
       "britishness_Very strongly British                        0.745315\n",
       "CVsuspect_none_Yes                                       0.741286\n",
       "preschoolKidsInHouse_No                                  0.726836\n",
       "partyId_Conservative                                     0.716845\n",
       "likeGrn_1                                                0.716434\n",
       "redistSelf_9                                             0.702450\n",
       "likeStarmer_1                                            0.697042\n",
       "englishness_Very strongly English                        0.697005\n",
       "changeNHS_Getting a lot better                           0.694130\n",
       "changeEconomyLab_Getting a lot worse                     0.685074\n",
       "stoppedWork_none_Yes                                     0.684222\n",
       "oslaua_Wiltshire                                         0.679737\n",
       "highRiskLetter_none_Yes                                  0.678928\n",
       "leftRight_8                                              0.678425\n",
       "enviroGrowth_1                                           0.676514\n",
       "stoppedWork_2_No                                         0.675854\n",
       "ptvCon_Very likely                                       0.672961\n",
       "privateEnterprise_Agree                                  0.670288\n",
       "CVsuspect_2_No                                           0.666016\n",
       "highRiskLetter_3_No                                      0.664349\n",
       "ptvLab_Very unlikely                                     0.662115\n",
       "ptvGrn_Very unlikely                                     0.661073\n",
       "highRiskMedical_3_No                                     0.654766\n",
       "dtype: float64"
      ]
     },
     "execution_count": 130,
     "metadata": {},
     "output_type": "execute_result"
    }
   ],
   "source": [
    "X_test_reconst.corrwith(pd.Series(encoded_imgs[:,1].reshape(X_test.shape[0]),index=X_test.index)).sort_values().tail(50)[::-1]"
   ]
  },
  {
   "cell_type": "code",
   "execution_count": null,
   "id": "8af097ec",
   "metadata": {},
   "outputs": [],
   "source": []
  },
  {
   "cell_type": "code",
   "execution_count": null,
   "id": "23875106",
   "metadata": {},
   "outputs": [],
   "source": [
    "## DATA PROCESSING BUG: p_gross_personal__Â Prefer not to answer"
   ]
  }
 ],
 "metadata": {
  "kernelspec": {
   "display_name": "Python [conda env:test_tensorflow_install] *",
   "language": "python",
   "name": "conda-env-test_tensorflow_install-py"
  },
  "language_info": {
   "codemirror_mode": {
    "name": "ipython",
    "version": 3
   },
   "file_extension": ".py",
   "mimetype": "text/x-python",
   "name": "python",
   "nbconvert_exporter": "python",
   "pygments_lexer": "ipython3",
   "version": "3.6.1"
  }
 },
 "nbformat": 4,
 "nbformat_minor": 5
}
