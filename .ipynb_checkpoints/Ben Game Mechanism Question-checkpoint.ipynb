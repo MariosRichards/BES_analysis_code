{
 "cells": [
  {
   "cell_type": "code",
   "execution_count": 1,
   "id": "c38c34f8",
   "metadata": {},
   "outputs": [
    {
     "data": {
      "text/html": [
       "<script>jQuery(function() {if (jQuery(\"body.notebook_app\").length == 0) { jQuery(\".input_area\").toggle(); jQuery(\".prompt\").toggle();}});</script>"
      ]
     },
     "metadata": {},
     "output_type": "display_data"
    },
    {
     "data": {
      "text/html": [
       "<button onclick=\"jQuery('.input_area').toggle(); jQuery('.prompt').toggle();\">Toggle code</button>"
      ]
     },
     "metadata": {},
     "output_type": "display_data"
    },
    {
     "name": "stdout",
     "output_type": "stream",
     "text": [
      "2023-05-21 12:53:08,085 WARNING: panel.io.resources - Mimetype declaration for .js files was set to 'text/plain'. This will interefere with serving JS modules. Ensure your system does not override the mimetype declaration and/or contact your system administrator. \n",
      "Wall time: 51.7 s\n"
     ]
    }
   ],
   "source": [
    "%%time\n",
    "dataset_name = \"W19_only\"\n",
    "df_list = \"BES_Panel\"\n",
    "\n",
    "%matplotlib inline\n",
    "%run BES_header.py {dataset_name} {df_list}\n",
    "\n",
    "# BES_Panel = pd.read_stata( \"E:\\\\Users\\\\Gamer\\\\Documents\\\\GitHub\\\\BES_analysis\\\\BES_analysis_data\\\\W23_only\\\\BES2019_W23_v23.0.dta\" )"
   ]
  },
  {
   "cell_type": "code",
   "execution_count": 4,
   "id": "981ee2eb",
   "metadata": {},
   "outputs": [
    {
     "data": {
      "text/plain": [
       "array([5, 2, 2])"
      ]
     },
     "execution_count": 4,
     "metadata": {},
     "output_type": "execute_result"
    }
   ],
   "source": []
  },
  {
   "cell_type": "code",
   "execution_count": 7,
   "id": "90605e6f",
   "metadata": {},
   "outputs": [
    {
     "data": {
      "text/plain": [
       "0    0.0\n",
       "1    0.0\n",
       "2    0.0\n",
       "dtype: float64"
      ]
     },
     "execution_count": 7,
     "metadata": {},
     "output_type": "execute_result"
    }
   ],
   "source": [
    "pd.Series(index = [0,1,2]).fillna(0)"
   ]
  },
  {
   "cell_type": "code",
   "execution_count": 20,
   "id": "87a65494",
   "metadata": {},
   "outputs": [
    {
     "data": {
      "text/html": [
       "<div>\n",
       "<style scoped>\n",
       "    .dataframe tbody tr th:only-of-type {\n",
       "        vertical-align: middle;\n",
       "    }\n",
       "\n",
       "    .dataframe tbody tr th {\n",
       "        vertical-align: top;\n",
       "    }\n",
       "\n",
       "    .dataframe thead th {\n",
       "        text-align: right;\n",
       "    }\n",
       "</style>\n",
       "<table border=\"1\" class=\"dataframe\">\n",
       "  <thead>\n",
       "    <tr style=\"text-align: right;\">\n",
       "      <th></th>\n",
       "      <th>repeat</th>\n",
       "    </tr>\n",
       "  </thead>\n",
       "  <tbody>\n",
       "    <tr>\n",
       "      <th>0</th>\n",
       "      <td>0</td>\n",
       "    </tr>\n",
       "    <tr>\n",
       "      <th>1</th>\n",
       "      <td>0</td>\n",
       "    </tr>\n",
       "    <tr>\n",
       "      <th>2</th>\n",
       "      <td>0</td>\n",
       "    </tr>\n",
       "  </tbody>\n",
       "</table>\n",
       "</div>"
      ],
      "text/plain": [
       "   repeat\n",
       "0       0\n",
       "1       0\n",
       "2       0"
      ]
     },
     "execution_count": 20,
     "metadata": {},
     "output_type": "execute_result"
    }
   ],
   "source": [
    "# 50% morning, aft 30%, even 20%"
   ]
  },
  {
   "cell_type": "code",
   "execution_count": 58,
   "id": "99b73c18",
   "metadata": {},
   "outputs": [
    {
     "data": {
      "text/plain": [
       "0    0.451538\n",
       "1    0.329860\n",
       "2    0.218602\n",
       "dtype: float64"
      ]
     },
     "execution_count": 58,
     "metadata": {},
     "output_type": "execute_result"
    }
   ],
   "source": [
    "total_repeats = 1000\n",
    "period_df = pd.DataFrame(index=[0,1,2],columns=range(0,total_repeats)).fillna(0)\n",
    "\n",
    "\n",
    "# period_length = pd.Series(index = [0,1,2]).fillna(0)\n",
    "for repeat in range(0,total_repeats):\n",
    "    period = 0\n",
    "    while period <3:\n",
    "        # roll dice\n",
    "        period_df.loc[period,repeat]=period_df.loc[period,repeat]+1\n",
    "        roll_dice = np.random.randint(1,6,4-period)\n",
    "        # apply rule\n",
    "#         if roll_dice.sum()<11:\n",
    "#             period=period+1\n",
    "        if (roll_dice<4).all():\n",
    "            period=period+1\n",
    "        \n",
    "        \n",
    "        \n",
    "# display(period_length)\n",
    "# 100*period_length/period_length.sum()\n",
    "period_df.apply(lambda x: x/sum(x)).mean(axis=1)"
   ]
  },
  {
   "cell_type": "code",
   "execution_count": 48,
   "id": "83bec8eb",
   "metadata": {},
   "outputs": [
    {
     "data": {
      "text/plain": [
       "False"
      ]
     },
     "execution_count": 48,
     "metadata": {},
     "output_type": "execute_result"
    }
   ],
   "source": [
    "(roll_dice<4).all()"
   ]
  },
  {
   "cell_type": "code",
   "execution_count": 59,
   "id": "ee89d2a9",
   "metadata": {},
   "outputs": [
    {
     "data": {
      "text/plain": [
       "14.466"
      ]
     },
     "execution_count": 59,
     "metadata": {},
     "output_type": "execute_result"
    }
   ],
   "source": [
    "period_df.mean(axis=1).sum()"
   ]
  },
  {
   "cell_type": "code",
   "execution_count": 60,
   "id": "e34ce7bd",
   "metadata": {},
   "outputs": [
    {
     "data": {
      "text/plain": [
       "0    7.181\n",
       "1    4.577\n",
       "2    2.708\n",
       "dtype: float64"
      ]
     },
     "execution_count": 60,
     "metadata": {},
     "output_type": "execute_result"
    }
   ],
   "source": [
    "period_df.mean(axis=1)"
   ]
  },
  {
   "cell_type": "code",
   "execution_count": 41,
   "id": "29f07b0b",
   "metadata": {},
   "outputs": [],
   "source": [
    "# period_df.sum(axis=0).mean()"
   ]
  },
  {
   "cell_type": "code",
   "execution_count": 68,
   "id": "7b3e7594",
   "metadata": {},
   "outputs": [
    {
     "data": {
      "text/plain": [
       "<matplotlib.axes._subplots.AxesSubplot at 0x1c10ff565c8>"
      ]
     },
     "execution_count": 68,
     "metadata": {},
     "output_type": "execute_result"
    },
    {
     "data": {
      "image/png": "[encoded data removed]",
      "text/plain": [
       "<Figure size 432x288 with 1 Axes>"
      ]
     },
     "metadata": {},
     "output_type": "display_data"
    }
   ],
   "source": [
    "period_df.sum().hist(bins=20)"
   ]
  },
  {
   "cell_type": "code",
   "execution_count": 63,
   "id": "d8553cc3",
   "metadata": {},
   "outputs": [
    {
     "data": {
      "text/plain": [
       "3"
      ]
     },
     "execution_count": 63,
     "metadata": {},
     "output_type": "execute_result"
    }
   ],
   "source": [
    "period_df.sum().min()"
   ]
  },
  {
   "cell_type": "code",
   "execution_count": 64,
   "id": "56bc1b1b",
   "metadata": {},
   "outputs": [
    {
     "data": {
      "text/plain": [
       "0    10\n",
       "dtype: int64"
      ]
     },
     "execution_count": 64,
     "metadata": {},
     "output_type": "execute_result"
    }
   ],
   "source": [
    "period_df.sum().mode()"
   ]
  },
  {
   "cell_type": "code",
   "execution_count": null,
   "id": "b1516e9f",
   "metadata": {},
   "outputs": [],
   "source": [
    "# Tests are what propel you through the day. Fail a test and Morning will become Afternoon.\n",
    "# Fail another and the sun will set and darkness descend. \n",
    "\n",
    "# Test couldn’t be simpler. You roll four six sided dice and if you rolled a 5 or a 6 you’ve passed.\n",
    "# This means that the antagonist reveals a secret about themselves to their organisation. What is this secret?\n",
    "# There will be a space on your character sheet to record it.  \n",
    "\n",
    "# If you don’t roll a 5 or a 6, it means you’ve failed and there is a negative outcome to that prompt.\n",
    "# Have you sustained an injury? Have you found something out that puts you on edge or renders you immobile? \n",
    "\n",
    "# You also lose a die. That means in the afternoon you only roll three dice and in the evening, you only roll two. \n",
    "\n",
    "# Fail two tests in the morning and time has passed and you are in the afternoon.\n",
    "# Fail three tests in the afternoon and the sun sets and you are in the night. \n",
    "\n",
    "# Pass or fail tests will yield a discovery about the antagonist at night. There will be a box on the character sheet. \n",
    "\n",
    "# If you fail four tests at night the game ends. Have you escaped?\n",
    "# Has the secret of the town been revealed? What has become of your person? You will find out in the resolutions. "
   ]
  },
  {
   "cell_type": "code",
   "execution_count": null,
   "id": "7f8503b9",
   "metadata": {},
   "outputs": [],
   "source": [
    "# states: Morning 4 dice, Afternoon 3 dice, Evening 2 dice\n",
    "# Morning -> Afternoon (2 fails)\n",
    "# Afternoon -> Evening (3 fails)\n",
    "# Evening -> Game End (4 fails)\n",
    "\n",
    "# so, really, only a question of the number/distribution of passes in the three phases"
   ]
  },
  {
   "cell_type": "code",
   "execution_count": 24,
   "id": "8ff0e340",
   "metadata": {},
   "outputs": [],
   "source": [
    "game = pd.DataFrame(columns=[\"Morning Passes\",\"Afternon Passes\",\"Evening Passes\"])\n",
    "max_game_phases = 3\n",
    "max_dice = 4\n",
    "succeed_min = 5\n",
    "repeats=10000\n",
    "for rep in range(0,repeats):\n",
    "    phase = 0\n",
    "    fail = 0\n",
    "    success = 0\n",
    "    while phase < max_game_phases:\n",
    "        # ROLL DICE\n",
    "        roll_dice = np.random.randint(1,6,max_dice-phase)\n",
    "        # RESOLVE ROLL\n",
    "        if (roll_dice<succeed_min).all():\n",
    "            fail = fail + 1\n",
    "        else:\n",
    "            success = success + 1\n",
    "        # CHECK TO SEE IF PHASE CHANGES\n",
    "        if fail>(2+phase):\n",
    "            # record state\n",
    "            game.loc[rep,game.columns[phase]]=success\n",
    "            # update/reset counters\n",
    "            phase = phase + 1\n",
    "            fail = 0\n",
    "            success = 0\n",
    "        "
   ]
  },
  {
   "cell_type": "code",
   "execution_count": 25,
   "id": "91533950",
   "metadata": {},
   "outputs": [
    {
     "data": {
      "text/html": [
       "<div>\n",
       "<style scoped>\n",
       "    .dataframe tbody tr th:only-of-type {\n",
       "        vertical-align: middle;\n",
       "    }\n",
       "\n",
       "    .dataframe tbody tr th {\n",
       "        vertical-align: top;\n",
       "    }\n",
       "\n",
       "    .dataframe thead th {\n",
       "        text-align: right;\n",
       "    }\n",
       "</style>\n",
       "<table border=\"1\" class=\"dataframe\">\n",
       "  <thead>\n",
       "    <tr style=\"text-align: right;\">\n",
       "      <th></th>\n",
       "      <th>Morning Passes</th>\n",
       "      <th>Afternon Passes</th>\n",
       "      <th>Evening Passes</th>\n",
       "      <th>Total Passes</th>\n",
       "    </tr>\n",
       "  </thead>\n",
       "  <tbody>\n",
       "    <tr>\n",
       "      <th>0</th>\n",
       "      <td>4</td>\n",
       "      <td>0</td>\n",
       "      <td>3</td>\n",
       "      <td>7</td>\n",
       "    </tr>\n",
       "    <tr>\n",
       "      <th>1</th>\n",
       "      <td>1</td>\n",
       "      <td>4</td>\n",
       "      <td>3</td>\n",
       "      <td>8</td>\n",
       "    </tr>\n",
       "    <tr>\n",
       "      <th>2</th>\n",
       "      <td>14</td>\n",
       "      <td>7</td>\n",
       "      <td>1</td>\n",
       "      <td>22</td>\n",
       "    </tr>\n",
       "    <tr>\n",
       "      <th>3</th>\n",
       "      <td>1</td>\n",
       "      <td>3</td>\n",
       "      <td>1</td>\n",
       "      <td>5</td>\n",
       "    </tr>\n",
       "    <tr>\n",
       "      <th>4</th>\n",
       "      <td>7</td>\n",
       "      <td>4</td>\n",
       "      <td>5</td>\n",
       "      <td>16</td>\n",
       "    </tr>\n",
       "    <tr>\n",
       "      <th>...</th>\n",
       "      <td>...</td>\n",
       "      <td>...</td>\n",
       "      <td>...</td>\n",
       "      <td>...</td>\n",
       "    </tr>\n",
       "    <tr>\n",
       "      <th>9995</th>\n",
       "      <td>2</td>\n",
       "      <td>2</td>\n",
       "      <td>3</td>\n",
       "      <td>7</td>\n",
       "    </tr>\n",
       "    <tr>\n",
       "      <th>9996</th>\n",
       "      <td>3</td>\n",
       "      <td>1</td>\n",
       "      <td>4</td>\n",
       "      <td>8</td>\n",
       "    </tr>\n",
       "    <tr>\n",
       "      <th>9997</th>\n",
       "      <td>3</td>\n",
       "      <td>1</td>\n",
       "      <td>5</td>\n",
       "      <td>9</td>\n",
       "    </tr>\n",
       "    <tr>\n",
       "      <th>9998</th>\n",
       "      <td>6</td>\n",
       "      <td>6</td>\n",
       "      <td>4</td>\n",
       "      <td>16</td>\n",
       "    </tr>\n",
       "    <tr>\n",
       "      <th>9999</th>\n",
       "      <td>2</td>\n",
       "      <td>2</td>\n",
       "      <td>5</td>\n",
       "      <td>9</td>\n",
       "    </tr>\n",
       "  </tbody>\n",
       "</table>\n",
       "<p>10000 rows × 4 columns</p>\n",
       "</div>"
      ],
      "text/plain": [
       "      Morning Passes  Afternon Passes  Evening Passes  Total Passes\n",
       "0                  4                0               3             7\n",
       "1                  1                4               3             8\n",
       "2                 14                7               1            22\n",
       "3                  1                3               1             5\n",
       "4                  7                4               5            16\n",
       "...              ...              ...             ...           ...\n",
       "9995               2                2               3             7\n",
       "9996               3                1               4             8\n",
       "9997               3                1               5             9\n",
       "9998               6                6               4            16\n",
       "9999               2                2               5             9\n",
       "\n",
       "[10000 rows x 4 columns]"
      ]
     },
     "execution_count": 25,
     "metadata": {},
     "output_type": "execute_result"
    }
   ],
   "source": [
    "# \n",
    "game = game.astype(int)\n",
    "game[\"Total Passes\"] = np.nan\n",
    "game[\"Total Passes\"] = game.sum(axis=1).astype(int)\n",
    "game"
   ]
  },
  {
   "cell_type": "code",
   "execution_count": 27,
   "id": "f260c48b",
   "metadata": {},
   "outputs": [
    {
     "data": {
      "text/plain": [
       "array([[<AxesSubplot:title={'center':'Morning Passes'}>,\n",
       "        <AxesSubplot:title={'center':'Afternon Passes'}>],\n",
       "       [<AxesSubplot:title={'center':'Evening Passes'}>,\n",
       "        <AxesSubplot:title={'center':'Total Passes'}>]], dtype=object)"
      ]
     },
     "execution_count": 27,
     "metadata": {},
     "output_type": "execute_result"
    },
    {
     "data": {
      "image/png": "[encoded data removed]",
      "text/plain": [
       "<Figure size 640x480 with 4 Axes>"
      ]
     },
     "metadata": {},
     "output_type": "display_data"
    }
   ],
   "source": [
    "game.hist()"
   ]
  },
  {
   "cell_type": "code",
   "execution_count": 36,
   "id": "77d1db90",
   "metadata": {},
   "outputs": [
    {
     "data": {
      "image/png": "[encoded data removed]",
      "text/plain": [
       "<Figure size 640x480 with 1 Axes>"
      ]
     },
     "metadata": {},
     "output_type": "display_data"
    }
   ],
   "source": [
    "game[\"Total Passes\"].hist(bins=game[\"Total Passes\"].describe().loc['max'].astype(int));"
   ]
  },
  {
   "cell_type": "code",
   "execution_count": 40,
   "id": "2176c7aa",
   "metadata": {},
   "outputs": [
    {
     "data": {
      "text/plain": [
       "10.0"
      ]
     },
     "execution_count": 40,
     "metadata": {},
     "output_type": "execute_result"
    }
   ],
   "source": [
    "game[\"Total Passes\"].median()"
   ]
  },
  {
   "cell_type": "code",
   "execution_count": 39,
   "id": "c6b621c5",
   "metadata": {},
   "outputs": [
    {
     "data": {
      "text/plain": [
       "count    10000.000000\n",
       "mean        11.003800\n",
       "std          4.760531\n",
       "min          0.000000\n",
       "25%          8.000000\n",
       "50%         10.000000\n",
       "75%         14.000000\n",
       "max         37.000000\n",
       "Name: Total Passes, dtype: float64"
      ]
     },
     "execution_count": 39,
     "metadata": {},
     "output_type": "execute_result"
    }
   ],
   "source": [
    "game[\"Total Passes\"].describe()"
   ]
  },
  {
   "cell_type": "code",
   "execution_count": 38,
   "id": "de1367c5",
   "metadata": {},
   "outputs": [
    {
     "data": {
      "text/plain": [
       "0       3\n",
       "1      37\n",
       "2      93\n",
       "3     179\n",
       "4     293\n",
       "5     456\n",
       "6     626\n",
       "7     747\n",
       "8     832\n",
       "9     862\n",
       "10    875\n",
       "11    860\n",
       "12    741\n",
       "13    681\n",
       "14    561\n",
       "15    529\n",
       "16    395\n",
       "17    304\n",
       "18    238\n",
       "19    173\n",
       "20    133\n",
       "21    105\n",
       "22     73\n",
       "23     57\n",
       "24     44\n",
       "25     30\n",
       "26     25\n",
       "27     17\n",
       "28     12\n",
       "29      5\n",
       "30      4\n",
       "31      3\n",
       "32      3\n",
       "33      2\n",
       "34      1\n",
       "37      1\n",
       "Name: Total Passes, dtype: int64"
      ]
     },
     "execution_count": 38,
     "metadata": {},
     "output_type": "execute_result"
    }
   ],
   "source": [
    "game[\"Total Passes\"].value_counts().sort_index()\n",
    "# mode,median is 10 successes, mean is 11\n",
    "# 3 games out of 10,000 -> 0 successes\n",
    "# 1 game out of 10,000 -> 37 successes"
   ]
  },
  {
   "cell_type": "code",
   "execution_count": null,
   "id": "6cb8fc39",
   "metadata": {},
   "outputs": [],
   "source": []
  }
 ],
 "metadata": {
  "kernelspec": {
   "display_name": "Python 3 (ipykernel)",
   "language": "python",
   "name": "python3"
  },
  "language_info": {
   "codemirror_mode": {
    "name": "ipython",
    "version": 3
   },
   "file_extension": ".py",
   "mimetype": "text/x-python",
   "name": "python",
   "nbconvert_exporter": "python",
   "pygments_lexer": "ipython3",
   "version": "3.7.12"
  }
 },
 "nbformat": 4,
 "nbformat_minor": 5
}
