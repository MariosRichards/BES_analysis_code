{
 "cells": [
  {
   "cell_type": "code",
   "execution_count": 4,
   "metadata": {},
   "outputs": [
    {
     "data": {
      "text/html": [
       "<script>jQuery(function() {if (jQuery(\"body.notebook_app\").length == 0) { jQuery(\".input_area\").toggle(); jQuery(\".prompt\").toggle();}});</script>"
      ]
     },
     "metadata": {},
     "output_type": "display_data"
    },
    {
     "data": {
      "text/html": [
       "<button onclick=\"jQuery('.input_area').toggle(); jQuery('.prompt').toggle();\">Toggle code</button>"
      ]
     },
     "metadata": {},
     "output_type": "display_data"
    },
    {
     "name": "stdout",
     "output_type": "stream",
     "text": [
      "Wall time: 8 ms\n"
     ]
    }
   ],
   "source": [
    "%%time\n",
    "%matplotlib inline\n",
    "%run Prosser_header.py"
   ]
  },
  {
   "cell_type": "code",
   "execution_count": 5,
   "metadata": {},
   "outputs": [],
   "source": [
    "dataset_folder = \"C:\\\\Users\\\\Marios\\\\Documents\\\\GitHub\\\\Thomas Prosser project\\\\datasets\\\\\"\n",
    "output_folder  = \"C:\\\\Users\\\\Marios\\\\Documents\\\\GitHub\\\\Thomas Prosser project\\\\output\\\\\""
   ]
  },
  {
   "cell_type": "code",
   "execution_count": 6,
   "metadata": {},
   "outputs": [],
   "source": [
    "CSES_int = pd.read_stata(dataset_folder + \"CSES\"+os.sep+\"integrated 1-4\"+os.sep+\"cses_imd.dta\")\n",
    "\n",
    "def get_dta_meta(fn):\n",
    "    reader = pd.io.stata.StataReader( fn )\n",
    "    header = reader.variable_labels()\n",
    "    labels = reader.value_labels()\n",
    "    return header,labels\n",
    "\n",
    "# pd.read_stata(dataset_folder + \"CSES\"+os.sep+\"module 5\"+os.sep+\"cses5.dta\")\n",
    "header5,labels5 = get_dta_meta(dataset_folder + \"CSES\"+os.sep+\"module 5\"+os.sep+\"cses5.dta\")\n",
    "header4,labels4 = get_dta_meta(dataset_folder + \"CSES\"+os.sep+\"module 4\"+os.sep+\"cses4.dta\")\n",
    "header3,labels3 = get_dta_meta(dataset_folder + \"CSES\"+os.sep+\"module 3\"+os.sep+\"cses3.dta\")\n",
    "header2,labels2 = get_dta_meta(dataset_folder + \"CSES\"+os.sep+\"module 2\"+os.sep+\"cses2.dta\")\n",
    "header1,labels1 = get_dta_meta(dataset_folder + \"CSES\"+os.sep+\"module 1\"+os.sep+\"cses1.dta\")\n",
    "headerINT,labelsINT = get_dta_meta(dataset_folder + \"CSES\"+os.sep+\"integrated 1-4\"+os.sep+\"cses_imd.dta\")"
   ]
  },
  {
   "cell_type": "code",
   "execution_count": 66,
   "metadata": {},
   "outputs": [],
   "source": [
    "CSES_int_5 = pd.read_pickle(dataset_folder + \"CSES\"+os.sep+\"Integration\"+os.sep+\"CSES_int_5.pkl\")\n",
    "CSES_int_final = pd.read_pickle(dataset_folder + \"CSES\"+os.sep+\"Integration\"+os.sep+\"CSES_int_final.pkl\")"
   ]
  },
  {
   "cell_type": "code",
   "execution_count": null,
   "metadata": {},
   "outputs": [],
   "source": []
  },
  {
   "cell_type": "code",
   "execution_count": null,
   "metadata": {},
   "outputs": [],
   "source": []
  },
  {
   "cell_type": "code",
   "execution_count": null,
   "metadata": {},
   "outputs": [],
   "source": []
  },
  {
   "cell_type": "code",
   "execution_count": 67,
   "metadata": {},
   "outputs": [],
   "source": [
    "df = CSES_int_final.apply(lambda x: \"|\".join([str(x) for x in x.unique()]))\n",
    "df = df.reset_index()"
   ]
  },
  {
   "cell_type": "code",
   "execution_count": 68,
   "metadata": {},
   "outputs": [],
   "source": [
    "df[\"un_val_len\"] = df[0].apply(lambda x: len(x.split(\"|\")))"
   ]
  },
  {
   "cell_type": "code",
   "execution_count": 69,
   "metadata": {},
   "outputs": [],
   "source": [
    "df[\"descr\"] = df[\"index\"].apply(lambda x: headerINT[x] if x in headerINT.keys() else np.nan)"
   ]
  },
  {
   "cell_type": "code",
   "execution_count": 70,
   "metadata": {},
   "outputs": [],
   "source": [
    "df[0][df[\"un_val_len\"]>100] = df[0][df[\"un_val_len\"]>100].apply(lambda x: x.split(\"|\")[0:100])"
   ]
  },
  {
   "cell_type": "code",
   "execution_count": 71,
   "metadata": {},
   "outputs": [],
   "source": [
    "df[\"final_dtypes\"] = CSES_int_final.apply(lambda x: x.dtype.name).values\n",
    "df[\"original_dtypes\"] = df[\"index\"].apply(lambda x: CSES_int[x].dtype if x in CSES_int.columns else np.nan)"
   ]
  },
  {
   "cell_type": "code",
   "execution_count": 72,
   "metadata": {},
   "outputs": [
    {
     "data": {
      "text/html": [
       "<div>\n",
       "<style scoped>\n",
       "    .dataframe tbody tr th:only-of-type {\n",
       "        vertical-align: middle;\n",
       "    }\n",
       "\n",
       "    .dataframe tbody tr th {\n",
       "        vertical-align: top;\n",
       "    }\n",
       "\n",
       "    .dataframe thead th {\n",
       "        text-align: right;\n",
       "    }\n",
       "</style>\n",
       "<table border=\"1\" class=\"dataframe\">\n",
       "  <thead>\n",
       "    <tr style=\"text-align: right;\">\n",
       "      <th></th>\n",
       "      <th>index</th>\n",
       "      <th>0</th>\n",
       "      <th>un_val_len</th>\n",
       "      <th>descr</th>\n",
       "      <th>final_dtypes</th>\n",
       "      <th>original_dtypes</th>\n",
       "    </tr>\n",
       "  </thead>\n",
       "  <tbody>\n",
       "    <tr>\n",
       "      <th>0</th>\n",
       "      <td>IMD1001</td>\n",
       "      <td>CSES-IMD|CSES-MODULE-5</td>\n",
       "      <td>2</td>\n",
       "      <td>dataset</td>\n",
       "      <td>object</td>\n",
       "      <td>object</td>\n",
       "    </tr>\n",
       "    <tr>\n",
       "      <th>1</th>\n",
       "      <td>IMD1002_VER</td>\n",
       "      <td>VER2019-OCT-17|VER2020-MAY-14</td>\n",
       "      <td>2</td>\n",
       "      <td>DATASET VERSION</td>\n",
       "      <td>object</td>\n",
       "      <td>object</td>\n",
       "    </tr>\n",
       "    <tr>\n",
       "      <th>2</th>\n",
       "      <td>IMD1002_DOI</td>\n",
       "      <td>doi:10.7804/cses.imd.2019-10-17|doi:10.7804/cs...</td>\n",
       "      <td>2</td>\n",
       "      <td>DIGITAL OBJECT IDENTIFIER</td>\n",
       "      <td>object</td>\n",
       "      <td>object</td>\n",
       "    </tr>\n",
       "    <tr>\n",
       "      <th>3</th>\n",
       "      <td>IMD1003</td>\n",
       "      <td>[00802005. ALBANIA (2005), 03202015. ARGENTINA...</td>\n",
       "      <td>194</td>\n",
       "      <td>ID VARIABLE - ELECTION STUDY (NUMERIC POLITY)</td>\n",
       "      <td>object</td>\n",
       "      <td>category</td>\n",
       "    </tr>\n",
       "    <tr>\n",
       "      <th>4</th>\n",
       "      <td>IMD1004</td>\n",
       "      <td>[ALB_2005, ARG_2015, AUS_1996, AUS_2004, AUS_2...</td>\n",
       "      <td>194</td>\n",
       "      <td>ID VARIABLE - ELECTION STUDY (ALPHABETIC POLITY)</td>\n",
       "      <td>object</td>\n",
       "      <td>object</td>\n",
       "    </tr>\n",
       "    <tr>\n",
       "      <th>...</th>\n",
       "      <td>...</td>\n",
       "      <td>...</td>\n",
       "      <td>...</td>\n",
       "      <td>...</td>\n",
       "      <td>...</td>\n",
       "      <td>...</td>\n",
       "    </tr>\n",
       "    <tr>\n",
       "      <th>272</th>\n",
       "      <td>IMD5058_1</td>\n",
       "      <td>[10.46, 3.4, 3.21, 3.17, 3.03, 3.42, 4.83, 5.1...</td>\n",
       "      <td>134</td>\n",
       "      <td>EFFECTIVE NUMBER OF ELECTORAL PARTIES</td>\n",
       "      <td>category</td>\n",
       "      <td>category</td>\n",
       "    </tr>\n",
       "    <tr>\n",
       "      <th>273</th>\n",
       "      <td>IMD5058_2</td>\n",
       "      <td>999.00. MISSING|3.4|3.03|3.42|4.83|5.15|5.78|1...</td>\n",
       "      <td>91</td>\n",
       "      <td>CORRECTED EFFECTIVE NUMBER OF ELECTORAL PARTIES</td>\n",
       "      <td>category</td>\n",
       "      <td>category</td>\n",
       "    </tr>\n",
       "    <tr>\n",
       "      <th>274</th>\n",
       "      <td>IMD5059_1</td>\n",
       "      <td>[3.75, 3.52, 2.62, 2.44, 2.43, 2.36, 4.27, 4.5...</td>\n",
       "      <td>134</td>\n",
       "      <td>EFFECTIVE NUMBER OF PARLIAMENTARY PARTIES</td>\n",
       "      <td>category</td>\n",
       "      <td>category</td>\n",
       "    </tr>\n",
       "    <tr>\n",
       "      <th>275</th>\n",
       "      <td>IMD5059_2</td>\n",
       "      <td>999.00. MISSING|3.48|2.43|2.36|4.27|4.59|5.06|...</td>\n",
       "      <td>88</td>\n",
       "      <td>CORRECTED EFFECTIVE NUMBER OF PARLIAMENTARY PA...</td>\n",
       "      <td>category</td>\n",
       "      <td>category</td>\n",
       "    </tr>\n",
       "    <tr>\n",
       "      <th>276</th>\n",
       "      <td>IMD1008_MOD_5</td>\n",
       "      <td>00. NOT IN CSES MODULE 5|01. IN CSES MODULE 5</td>\n",
       "      <td>2</td>\n",
       "      <td>NaN</td>\n",
       "      <td>category</td>\n",
       "      <td>NaN</td>\n",
       "    </tr>\n",
       "  </tbody>\n",
       "</table>\n",
       "<p>277 rows × 6 columns</p>\n",
       "</div>"
      ],
      "text/plain": [
       "             index                                                  0  \\\n",
       "0          IMD1001                             CSES-IMD|CSES-MODULE-5   \n",
       "1      IMD1002_VER                      VER2019-OCT-17|VER2020-MAY-14   \n",
       "2      IMD1002_DOI  doi:10.7804/cses.imd.2019-10-17|doi:10.7804/cs...   \n",
       "3          IMD1003  [00802005. ALBANIA (2005), 03202015. ARGENTINA...   \n",
       "4          IMD1004  [ALB_2005, ARG_2015, AUS_1996, AUS_2004, AUS_2...   \n",
       "..             ...                                                ...   \n",
       "272      IMD5058_1  [10.46, 3.4, 3.21, 3.17, 3.03, 3.42, 4.83, 5.1...   \n",
       "273      IMD5058_2  999.00. MISSING|3.4|3.03|3.42|4.83|5.15|5.78|1...   \n",
       "274      IMD5059_1  [3.75, 3.52, 2.62, 2.44, 2.43, 2.36, 4.27, 4.5...   \n",
       "275      IMD5059_2  999.00. MISSING|3.48|2.43|2.36|4.27|4.59|5.06|...   \n",
       "276  IMD1008_MOD_5      00. NOT IN CSES MODULE 5|01. IN CSES MODULE 5   \n",
       "\n",
       "     un_val_len                                              descr  \\\n",
       "0             2                                            dataset   \n",
       "1             2                                    DATASET VERSION   \n",
       "2             2                          DIGITAL OBJECT IDENTIFIER   \n",
       "3           194      ID VARIABLE - ELECTION STUDY (NUMERIC POLITY)   \n",
       "4           194   ID VARIABLE - ELECTION STUDY (ALPHABETIC POLITY)   \n",
       "..          ...                                                ...   \n",
       "272         134              EFFECTIVE NUMBER OF ELECTORAL PARTIES   \n",
       "273          91    CORRECTED EFFECTIVE NUMBER OF ELECTORAL PARTIES   \n",
       "274         134          EFFECTIVE NUMBER OF PARLIAMENTARY PARTIES   \n",
       "275          88  CORRECTED EFFECTIVE NUMBER OF PARLIAMENTARY PA...   \n",
       "276           2                                                NaN   \n",
       "\n",
       "    final_dtypes original_dtypes  \n",
       "0         object          object  \n",
       "1         object          object  \n",
       "2         object          object  \n",
       "3         object        category  \n",
       "4         object          object  \n",
       "..           ...             ...  \n",
       "272     category        category  \n",
       "273     category        category  \n",
       "274     category        category  \n",
       "275     category        category  \n",
       "276     category             NaN  \n",
       "\n",
       "[277 rows x 6 columns]"
      ]
     },
     "execution_count": 72,
     "metadata": {},
     "output_type": "execute_result"
    }
   ],
   "source": [
    "df"
   ]
  },
  {
   "cell_type": "code",
   "execution_count": 103,
   "metadata": {},
   "outputs": [
    {
     "data": {
      "text/plain": [
       "277"
      ]
     },
     "execution_count": 103,
     "metadata": {},
     "output_type": "execute_result"
    }
   ],
   "source": [
    "len( CSES_int_final.apply(lambda x: x.dtype.name).values )"
   ]
  },
  {
   "cell_type": "code",
   "execution_count": 45,
   "metadata": {},
   "outputs": [],
   "source": []
  },
  {
   "cell_type": "code",
   "execution_count": 113,
   "metadata": {},
   "outputs": [],
   "source": [
    "df = df[['index',  'un_val_len','final_dtypes', 'original_dtypes','descr', 0,  ]]\n",
    "df.to_csv(dataset_folder + \"CSES\"+os.sep+\"Integration\"+os.sep+\"variable_manifest.csv\")"
   ]
  },
  {
   "cell_type": "code",
   "execution_count": null,
   "metadata": {},
   "outputs": [],
   "source": []
  },
  {
   "cell_type": "code",
   "execution_count": null,
   "metadata": {},
   "outputs": [],
   "source": [
    "## how much has partyfacts updated?"
   ]
  },
  {
   "cell_type": "code",
   "execution_count": 73,
   "metadata": {},
   "outputs": [],
   "source": [
    "partyfacts_core_parties = pd.read_csv(dataset_folder+\"PartyFacts\"+os.sep+\"partyfacts-core-parties.csv\")\n",
    "partyfacts_external_parties = pd.read_csv(dataset_folder+\"PartyFacts\"+os.sep+ \"partyfacts-external-parties.csv\")\n"
   ]
  },
  {
   "cell_type": "code",
   "execution_count": 74,
   "metadata": {},
   "outputs": [],
   "source": [
    "partyfacts_core_parties_newest = pd.read_csv(dataset_folder+\"PartyFacts\"+os.sep+\"Newest version\"+os.sep+\"partyfacts-core-parties.csv\")\n",
    "partyfacts_external_parties_newest = pd.read_csv(dataset_folder+\"PartyFacts\"+os.sep+\"Newest version\"+os.sep+ \"partyfacts-external-parties.csv\")\n",
    "# partyfacts_countries = pd.read_csv(dataset_folder+\"PartyFacts\"+os.sep+ \"partyfacts-countries.csv\")\n",
    "# partyfacts_datasets = pd.read_csv(dataset_folder+\"PartyFacts\"+os.sep+ \"partyfacts-datasets.csv\")\n",
    "\n",
    "# pf_country_to_code = partyfacts_countries[[\"country\",\"name\"]].set_index(\"name\")[\"country\"].apply(lambda x: x.lower())\n",
    "\n",
    "# county_iso = 'THA'\n",
    "\n",
    "# pfc = partyfacts_core_parties[partyfacts_core_parties[\"country\"]==county_iso].sort_values(by='year_first')\n",
    "# pfc[-60:]"
   ]
  },
  {
   "cell_type": "code",
   "execution_count": 75,
   "metadata": {},
   "outputs": [
    {
     "data": {
      "text/plain": [
       "((6902, 17), (6962, 17))"
      ]
     },
     "execution_count": 75,
     "metadata": {},
     "output_type": "execute_result"
    }
   ],
   "source": [
    "partyfacts_core_parties.shape, partyfacts_core_parties_newest.shape"
   ]
  },
  {
   "cell_type": "code",
   "execution_count": 76,
   "metadata": {},
   "outputs": [
    {
     "data": {
      "text/plain": [
       "((25319, 17), (26595, 17))"
      ]
     },
     "execution_count": 76,
     "metadata": {},
     "output_type": "execute_result"
    }
   ],
   "source": [
    "partyfacts_external_parties.shape,partyfacts_external_parties_newest.shape"
   ]
  },
  {
   "cell_type": "code",
   "execution_count": null,
   "metadata": {},
   "outputs": [],
   "source": []
  },
  {
   "cell_type": "code",
   "execution_count": 81,
   "metadata": {},
   "outputs": [],
   "source": [
    "cses_variable_types = pd.read_pickle(dataset_folder + \"CSES\"+os.sep+\"Integration\"+os.sep+\"cses_variable_types.pkl\")\n",
    "# fix to add new variable\n",
    "cses_variable_types.loc[\"IMD1008_MOD_5\"] = [\"ID COMPONENT - CSES MODULE 5\",\"country\"]\n"
   ]
  },
  {
   "cell_type": "code",
   "execution_count": 85,
   "metadata": {},
   "outputs": [
    {
     "data": {
      "text/html": [
       "<div>\n",
       "<style scoped>\n",
       "    .dataframe tbody tr th:only-of-type {\n",
       "        vertical-align: middle;\n",
       "    }\n",
       "\n",
       "    .dataframe tbody tr th {\n",
       "        vertical-align: top;\n",
       "    }\n",
       "\n",
       "    .dataframe thead th {\n",
       "        text-align: right;\n",
       "    }\n",
       "</style>\n",
       "<table border=\"1\" class=\"dataframe\">\n",
       "  <thead>\n",
       "    <tr style=\"text-align: right;\">\n",
       "      <th></th>\n",
       "      <th>index</th>\n",
       "      <th>un_val_len</th>\n",
       "      <th>final_dtypes</th>\n",
       "      <th>original_dtypes</th>\n",
       "      <th>descr</th>\n",
       "      <th>0</th>\n",
       "      <th>variable type</th>\n",
       "      <th>variable structural type</th>\n",
       "    </tr>\n",
       "  </thead>\n",
       "  <tbody>\n",
       "    <tr>\n",
       "      <th>0</th>\n",
       "      <td>IMD1001</td>\n",
       "      <td>2</td>\n",
       "      <td>object</td>\n",
       "      <td>object</td>\n",
       "      <td>dataset</td>\n",
       "      <td>CSES-IMD|CSES-MODULE-5</td>\n",
       "      <td>meta</td>\n",
       "      <td>dataset</td>\n",
       "    </tr>\n",
       "    <tr>\n",
       "      <th>1</th>\n",
       "      <td>IMD1002_VER</td>\n",
       "      <td>2</td>\n",
       "      <td>object</td>\n",
       "      <td>object</td>\n",
       "      <td>DATASET VERSION</td>\n",
       "      <td>VER2019-OCT-17|VER2020-MAY-14</td>\n",
       "      <td>meta</td>\n",
       "      <td>dataset</td>\n",
       "    </tr>\n",
       "    <tr>\n",
       "      <th>2</th>\n",
       "      <td>IMD1002_DOI</td>\n",
       "      <td>2</td>\n",
       "      <td>object</td>\n",
       "      <td>object</td>\n",
       "      <td>DIGITAL OBJECT IDENTIFIER</td>\n",
       "      <td>doi:10.7804/cses.imd.2019-10-17|doi:10.7804/cs...</td>\n",
       "      <td>meta</td>\n",
       "      <td>dataset</td>\n",
       "    </tr>\n",
       "    <tr>\n",
       "      <th>3</th>\n",
       "      <td>IMD1003</td>\n",
       "      <td>194</td>\n",
       "      <td>object</td>\n",
       "      <td>category</td>\n",
       "      <td>ID VARIABLE - ELECTION STUDY (NUMERIC POLITY)</td>\n",
       "      <td>['00802005. ALBANIA (2005)', '03202015. ARGENT...</td>\n",
       "      <td>metam</td>\n",
       "      <td>country</td>\n",
       "    </tr>\n",
       "    <tr>\n",
       "      <th>4</th>\n",
       "      <td>IMD1004</td>\n",
       "      <td>194</td>\n",
       "      <td>object</td>\n",
       "      <td>object</td>\n",
       "      <td>ID VARIABLE - ELECTION STUDY (ALPHABETIC POLITY)</td>\n",
       "      <td>['ALB_2005', 'ARG_2015', 'AUS_1996', 'AUS_2004...</td>\n",
       "      <td>meta</td>\n",
       "      <td>country</td>\n",
       "    </tr>\n",
       "    <tr>\n",
       "      <th>...</th>\n",
       "      <td>...</td>\n",
       "      <td>...</td>\n",
       "      <td>...</td>\n",
       "      <td>...</td>\n",
       "      <td>...</td>\n",
       "      <td>...</td>\n",
       "      <td>...</td>\n",
       "      <td>...</td>\n",
       "    </tr>\n",
       "    <tr>\n",
       "      <th>272</th>\n",
       "      <td>IMD5058_1</td>\n",
       "      <td>148</td>\n",
       "      <td>object</td>\n",
       "      <td>category</td>\n",
       "      <td>EFFECTIVE NUMBER OF ELECTORAL PARTIES</td>\n",
       "      <td>['10.46', '3.4', '3.21', '3.17', '3.03', '3.42...</td>\n",
       "      <td>seminumeric</td>\n",
       "      <td>country</td>\n",
       "    </tr>\n",
       "    <tr>\n",
       "      <th>273</th>\n",
       "      <td>IMD5058_2</td>\n",
       "      <td>108</td>\n",
       "      <td>object</td>\n",
       "      <td>category</td>\n",
       "      <td>CORRECTED EFFECTIVE NUMBER OF ELECTORAL PARTIES</td>\n",
       "      <td>['999.00. MISSING', '3.4', '3.03', '3.42', '4....</td>\n",
       "      <td>seminumeric</td>\n",
       "      <td>country</td>\n",
       "    </tr>\n",
       "    <tr>\n",
       "      <th>274</th>\n",
       "      <td>IMD5059_1</td>\n",
       "      <td>149</td>\n",
       "      <td>object</td>\n",
       "      <td>category</td>\n",
       "      <td>EFFECTIVE NUMBER OF PARLIAMENTARY PARTIES</td>\n",
       "      <td>['3.75', '3.52', '2.62', '2.44', '2.43', '2.36...</td>\n",
       "      <td>seminumeric</td>\n",
       "      <td>country</td>\n",
       "    </tr>\n",
       "    <tr>\n",
       "      <th>275</th>\n",
       "      <td>IMD5059_2</td>\n",
       "      <td>106</td>\n",
       "      <td>object</td>\n",
       "      <td>category</td>\n",
       "      <td>CORRECTED EFFECTIVE NUMBER OF PARLIAMENTARY PA...</td>\n",
       "      <td>['999.00. MISSING', '3.48', '2.43', '2.36', '4...</td>\n",
       "      <td>seminumeric</td>\n",
       "      <td>country</td>\n",
       "    </tr>\n",
       "    <tr>\n",
       "      <th>276</th>\n",
       "      <td>IMD1008_MOD_5</td>\n",
       "      <td>2</td>\n",
       "      <td>category</td>\n",
       "      <td>NaN</td>\n",
       "      <td>NaN</td>\n",
       "      <td>00. NOT IN CSES MODULE 5|01. IN CSES MODULE 5</td>\n",
       "      <td>meta</td>\n",
       "      <td>country</td>\n",
       "    </tr>\n",
       "  </tbody>\n",
       "</table>\n",
       "<p>277 rows × 8 columns</p>\n",
       "</div>"
      ],
      "text/plain": [
       "             index  un_val_len final_dtypes original_dtypes  \\\n",
       "0          IMD1001           2       object          object   \n",
       "1      IMD1002_VER           2       object          object   \n",
       "2      IMD1002_DOI           2       object          object   \n",
       "3          IMD1003         194       object        category   \n",
       "4          IMD1004         194       object          object   \n",
       "..             ...         ...          ...             ...   \n",
       "272      IMD5058_1         148       object        category   \n",
       "273      IMD5058_2         108       object        category   \n",
       "274      IMD5059_1         149       object        category   \n",
       "275      IMD5059_2         106       object        category   \n",
       "276  IMD1008_MOD_5           2     category             NaN   \n",
       "\n",
       "                                                 descr  \\\n",
       "0                                              dataset   \n",
       "1                                      DATASET VERSION   \n",
       "2                            DIGITAL OBJECT IDENTIFIER   \n",
       "3        ID VARIABLE - ELECTION STUDY (NUMERIC POLITY)   \n",
       "4     ID VARIABLE - ELECTION STUDY (ALPHABETIC POLITY)   \n",
       "..                                                 ...   \n",
       "272              EFFECTIVE NUMBER OF ELECTORAL PARTIES   \n",
       "273    CORRECTED EFFECTIVE NUMBER OF ELECTORAL PARTIES   \n",
       "274          EFFECTIVE NUMBER OF PARLIAMENTARY PARTIES   \n",
       "275  CORRECTED EFFECTIVE NUMBER OF PARLIAMENTARY PA...   \n",
       "276                                                NaN   \n",
       "\n",
       "                                                     0 variable type  \\\n",
       "0                               CSES-IMD|CSES-MODULE-5          meta   \n",
       "1                        VER2019-OCT-17|VER2020-MAY-14          meta   \n",
       "2    doi:10.7804/cses.imd.2019-10-17|doi:10.7804/cs...          meta   \n",
       "3    ['00802005. ALBANIA (2005)', '03202015. ARGENT...         metam   \n",
       "4    ['ALB_2005', 'ARG_2015', 'AUS_1996', 'AUS_2004...          meta   \n",
       "..                                                 ...           ...   \n",
       "272  ['10.46', '3.4', '3.21', '3.17', '3.03', '3.42...   seminumeric   \n",
       "273  ['999.00. MISSING', '3.4', '3.03', '3.42', '4....   seminumeric   \n",
       "274  ['3.75', '3.52', '2.62', '2.44', '2.43', '2.36...   seminumeric   \n",
       "275  ['999.00. MISSING', '3.48', '2.43', '2.36', '4...   seminumeric   \n",
       "276      00. NOT IN CSES MODULE 5|01. IN CSES MODULE 5          meta   \n",
       "\n",
       "    variable structural type  \n",
       "0                    dataset  \n",
       "1                    dataset  \n",
       "2                    dataset  \n",
       "3                    country  \n",
       "4                    country  \n",
       "..                       ...  \n",
       "272                  country  \n",
       "273                  country  \n",
       "274                  country  \n",
       "275                  country  \n",
       "276                  country  \n",
       "\n",
       "[277 rows x 8 columns]"
      ]
     },
     "execution_count": 85,
     "metadata": {},
     "output_type": "execute_result"
    }
   ],
   "source": [
    "df = pd.read_csv(dataset_folder + \"CSES\"+os.sep+\"Integration\"+os.sep+\"variable_manifest.csv\",index_col=\"Unnamed: 0\")\n",
    "df"
   ]
  },
  {
   "cell_type": "code",
   "execution_count": 86,
   "metadata": {},
   "outputs": [
    {
     "data": {
      "text/html": [
       "<div>\n",
       "<style scoped>\n",
       "    .dataframe tbody tr th:only-of-type {\n",
       "        vertical-align: middle;\n",
       "    }\n",
       "\n",
       "    .dataframe tbody tr th {\n",
       "        vertical-align: top;\n",
       "    }\n",
       "\n",
       "    .dataframe thead th {\n",
       "        text-align: right;\n",
       "    }\n",
       "</style>\n",
       "<table border=\"1\" class=\"dataframe\">\n",
       "  <thead>\n",
       "    <tr style=\"text-align: right;\">\n",
       "      <th></th>\n",
       "      <th>index</th>\n",
       "      <th>un_val_len</th>\n",
       "      <th>final_dtypes</th>\n",
       "      <th>original_dtypes</th>\n",
       "      <th>descr</th>\n",
       "      <th>0</th>\n",
       "      <th>variable type</th>\n",
       "      <th>variable structural type</th>\n",
       "    </tr>\n",
       "  </thead>\n",
       "  <tbody>\n",
       "    <tr>\n",
       "      <th>0</th>\n",
       "      <td>IMD1001</td>\n",
       "      <td>2</td>\n",
       "      <td>object</td>\n",
       "      <td>object</td>\n",
       "      <td>dataset</td>\n",
       "      <td>CSES-IMD|CSES-MODULE-5</td>\n",
       "      <td>meta</td>\n",
       "      <td>dataset</td>\n",
       "    </tr>\n",
       "    <tr>\n",
       "      <th>1</th>\n",
       "      <td>IMD1002_VER</td>\n",
       "      <td>2</td>\n",
       "      <td>object</td>\n",
       "      <td>object</td>\n",
       "      <td>DATASET VERSION</td>\n",
       "      <td>VER2019-OCT-17|VER2020-MAY-14</td>\n",
       "      <td>meta</td>\n",
       "      <td>dataset</td>\n",
       "    </tr>\n",
       "    <tr>\n",
       "      <th>2</th>\n",
       "      <td>IMD1002_DOI</td>\n",
       "      <td>2</td>\n",
       "      <td>object</td>\n",
       "      <td>object</td>\n",
       "      <td>DIGITAL OBJECT IDENTIFIER</td>\n",
       "      <td>doi:10.7804/cses.imd.2019-10-17|doi:10.7804/cs...</td>\n",
       "      <td>meta</td>\n",
       "      <td>dataset</td>\n",
       "    </tr>\n",
       "    <tr>\n",
       "      <th>3</th>\n",
       "      <td>IMD1003</td>\n",
       "      <td>194</td>\n",
       "      <td>object</td>\n",
       "      <td>category</td>\n",
       "      <td>ID VARIABLE - ELECTION STUDY (NUMERIC POLITY)</td>\n",
       "      <td>['00802005. ALBANIA (2005)', '03202015. ARGENT...</td>\n",
       "      <td>metam</td>\n",
       "      <td>country</td>\n",
       "    </tr>\n",
       "    <tr>\n",
       "      <th>4</th>\n",
       "      <td>IMD1004</td>\n",
       "      <td>194</td>\n",
       "      <td>object</td>\n",
       "      <td>object</td>\n",
       "      <td>ID VARIABLE - ELECTION STUDY (ALPHABETIC POLITY)</td>\n",
       "      <td>['ALB_2005', 'ARG_2015', 'AUS_1996', 'AUS_2004...</td>\n",
       "      <td>meta</td>\n",
       "      <td>country</td>\n",
       "    </tr>\n",
       "    <tr>\n",
       "      <th>...</th>\n",
       "      <td>...</td>\n",
       "      <td>...</td>\n",
       "      <td>...</td>\n",
       "      <td>...</td>\n",
       "      <td>...</td>\n",
       "      <td>...</td>\n",
       "      <td>...</td>\n",
       "      <td>...</td>\n",
       "    </tr>\n",
       "    <tr>\n",
       "      <th>272</th>\n",
       "      <td>IMD5058_1</td>\n",
       "      <td>148</td>\n",
       "      <td>object</td>\n",
       "      <td>category</td>\n",
       "      <td>EFFECTIVE NUMBER OF ELECTORAL PARTIES</td>\n",
       "      <td>['10.46', '3.4', '3.21', '3.17', '3.03', '3.42...</td>\n",
       "      <td>seminumeric</td>\n",
       "      <td>country</td>\n",
       "    </tr>\n",
       "    <tr>\n",
       "      <th>273</th>\n",
       "      <td>IMD5058_2</td>\n",
       "      <td>108</td>\n",
       "      <td>object</td>\n",
       "      <td>category</td>\n",
       "      <td>CORRECTED EFFECTIVE NUMBER OF ELECTORAL PARTIES</td>\n",
       "      <td>['999.00. MISSING', '3.4', '3.03', '3.42', '4....</td>\n",
       "      <td>seminumeric</td>\n",
       "      <td>country</td>\n",
       "    </tr>\n",
       "    <tr>\n",
       "      <th>274</th>\n",
       "      <td>IMD5059_1</td>\n",
       "      <td>149</td>\n",
       "      <td>object</td>\n",
       "      <td>category</td>\n",
       "      <td>EFFECTIVE NUMBER OF PARLIAMENTARY PARTIES</td>\n",
       "      <td>['3.75', '3.52', '2.62', '2.44', '2.43', '2.36...</td>\n",
       "      <td>seminumeric</td>\n",
       "      <td>country</td>\n",
       "    </tr>\n",
       "    <tr>\n",
       "      <th>275</th>\n",
       "      <td>IMD5059_2</td>\n",
       "      <td>106</td>\n",
       "      <td>object</td>\n",
       "      <td>category</td>\n",
       "      <td>CORRECTED EFFECTIVE NUMBER OF PARLIAMENTARY PA...</td>\n",
       "      <td>['999.00. MISSING', '3.48', '2.43', '2.36', '4...</td>\n",
       "      <td>seminumeric</td>\n",
       "      <td>country</td>\n",
       "    </tr>\n",
       "    <tr>\n",
       "      <th>276</th>\n",
       "      <td>IMD1008_MOD_5</td>\n",
       "      <td>2</td>\n",
       "      <td>category</td>\n",
       "      <td>NaN</td>\n",
       "      <td>NaN</td>\n",
       "      <td>00. NOT IN CSES MODULE 5|01. IN CSES MODULE 5</td>\n",
       "      <td>meta</td>\n",
       "      <td>country</td>\n",
       "    </tr>\n",
       "  </tbody>\n",
       "</table>\n",
       "<p>277 rows × 8 columns</p>\n",
       "</div>"
      ],
      "text/plain": [
       "             index  un_val_len final_dtypes original_dtypes  \\\n",
       "0          IMD1001           2       object          object   \n",
       "1      IMD1002_VER           2       object          object   \n",
       "2      IMD1002_DOI           2       object          object   \n",
       "3          IMD1003         194       object        category   \n",
       "4          IMD1004         194       object          object   \n",
       "..             ...         ...          ...             ...   \n",
       "272      IMD5058_1         148       object        category   \n",
       "273      IMD5058_2         108       object        category   \n",
       "274      IMD5059_1         149       object        category   \n",
       "275      IMD5059_2         106       object        category   \n",
       "276  IMD1008_MOD_5           2     category             NaN   \n",
       "\n",
       "                                                 descr  \\\n",
       "0                                              dataset   \n",
       "1                                      DATASET VERSION   \n",
       "2                            DIGITAL OBJECT IDENTIFIER   \n",
       "3        ID VARIABLE - ELECTION STUDY (NUMERIC POLITY)   \n",
       "4     ID VARIABLE - ELECTION STUDY (ALPHABETIC POLITY)   \n",
       "..                                                 ...   \n",
       "272              EFFECTIVE NUMBER OF ELECTORAL PARTIES   \n",
       "273    CORRECTED EFFECTIVE NUMBER OF ELECTORAL PARTIES   \n",
       "274          EFFECTIVE NUMBER OF PARLIAMENTARY PARTIES   \n",
       "275  CORRECTED EFFECTIVE NUMBER OF PARLIAMENTARY PA...   \n",
       "276                                                NaN   \n",
       "\n",
       "                                                     0 variable type  \\\n",
       "0                               CSES-IMD|CSES-MODULE-5          meta   \n",
       "1                        VER2019-OCT-17|VER2020-MAY-14          meta   \n",
       "2    doi:10.7804/cses.imd.2019-10-17|doi:10.7804/cs...          meta   \n",
       "3    ['00802005. ALBANIA (2005)', '03202015. ARGENT...         metam   \n",
       "4    ['ALB_2005', 'ARG_2015', 'AUS_1996', 'AUS_2004...          meta   \n",
       "..                                                 ...           ...   \n",
       "272  ['10.46', '3.4', '3.21', '3.17', '3.03', '3.42...   seminumeric   \n",
       "273  ['999.00. MISSING', '3.4', '3.03', '3.42', '4....   seminumeric   \n",
       "274  ['3.75', '3.52', '2.62', '2.44', '2.43', '2.36...   seminumeric   \n",
       "275  ['999.00. MISSING', '3.48', '2.43', '2.36', '4...   seminumeric   \n",
       "276      00. NOT IN CSES MODULE 5|01. IN CSES MODULE 5          meta   \n",
       "\n",
       "    variable structural type  \n",
       "0                    dataset  \n",
       "1                    dataset  \n",
       "2                    dataset  \n",
       "3                    country  \n",
       "4                    country  \n",
       "..                       ...  \n",
       "272                  country  \n",
       "273                  country  \n",
       "274                  country  \n",
       "275                  country  \n",
       "276                  country  \n",
       "\n",
       "[277 rows x 8 columns]"
      ]
     },
     "execution_count": 86,
     "metadata": {},
     "output_type": "execute_result"
    }
   ],
   "source": [
    "df"
   ]
  },
  {
   "cell_type": "code",
   "execution_count": 87,
   "metadata": {},
   "outputs": [],
   "source": [
    "df[\"variable structural type\"] = df[\"index\"].apply(lambda x: cses_variable_types.loc[x])[\"variable type\"]"
   ]
  },
  {
   "cell_type": "code",
   "execution_count": 28,
   "metadata": {},
   "outputs": [],
   "source": [
    "df.to_csv(dataset_folder + \"CSES\"+os.sep+\"Integration\"+os.sep+\"variable_manifest.csv\")"
   ]
  },
  {
   "cell_type": "code",
   "execution_count": 183,
   "metadata": {},
   "outputs": [
    {
     "data": {
      "text/html": [
       "<div>\n",
       "<style scoped>\n",
       "    .dataframe tbody tr th:only-of-type {\n",
       "        vertical-align: middle;\n",
       "    }\n",
       "\n",
       "    .dataframe tbody tr th {\n",
       "        vertical-align: top;\n",
       "    }\n",
       "\n",
       "    .dataframe thead th {\n",
       "        text-align: right;\n",
       "    }\n",
       "</style>\n",
       "<table border=\"1\" class=\"dataframe\">\n",
       "  <thead>\n",
       "    <tr style=\"text-align: right;\">\n",
       "      <th></th>\n",
       "      <th>index</th>\n",
       "      <th>un_val_len</th>\n",
       "      <th>final_dtypes</th>\n",
       "      <th>original_dtypes</th>\n",
       "      <th>descr</th>\n",
       "      <th>0</th>\n",
       "      <th>variable type</th>\n",
       "      <th>variable structural type</th>\n",
       "    </tr>\n",
       "  </thead>\n",
       "  <tbody>\n",
       "    <tr>\n",
       "      <th>0</th>\n",
       "      <td>IMD1001</td>\n",
       "      <td>2</td>\n",
       "      <td>object</td>\n",
       "      <td>object</td>\n",
       "      <td>dataset</td>\n",
       "      <td>CSES-IMD|CSES-MODULE-5</td>\n",
       "      <td>meta</td>\n",
       "      <td>dataset</td>\n",
       "    </tr>\n",
       "    <tr>\n",
       "      <th>1</th>\n",
       "      <td>IMD1002_VER</td>\n",
       "      <td>2</td>\n",
       "      <td>object</td>\n",
       "      <td>object</td>\n",
       "      <td>DATASET VERSION</td>\n",
       "      <td>VER2019-OCT-17|VER2020-MAY-14</td>\n",
       "      <td>meta</td>\n",
       "      <td>dataset</td>\n",
       "    </tr>\n",
       "    <tr>\n",
       "      <th>2</th>\n",
       "      <td>IMD1002_DOI</td>\n",
       "      <td>2</td>\n",
       "      <td>object</td>\n",
       "      <td>object</td>\n",
       "      <td>DIGITAL OBJECT IDENTIFIER</td>\n",
       "      <td>doi:10.7804/cses.imd.2019-10-17|doi:10.7804/cs...</td>\n",
       "      <td>meta</td>\n",
       "      <td>dataset</td>\n",
       "    </tr>\n",
       "    <tr>\n",
       "      <th>3</th>\n",
       "      <td>IMD1003</td>\n",
       "      <td>194</td>\n",
       "      <td>object</td>\n",
       "      <td>category</td>\n",
       "      <td>ID VARIABLE - ELECTION STUDY (NUMERIC POLITY)</td>\n",
       "      <td>['00802005. ALBANIA (2005)', '03202015. ARGENT...</td>\n",
       "      <td>meta</td>\n",
       "      <td>country</td>\n",
       "    </tr>\n",
       "    <tr>\n",
       "      <th>4</th>\n",
       "      <td>IMD1004</td>\n",
       "      <td>194</td>\n",
       "      <td>object</td>\n",
       "      <td>object</td>\n",
       "      <td>ID VARIABLE - ELECTION STUDY (ALPHABETIC POLITY)</td>\n",
       "      <td>['ALB_2005', 'ARG_2015', 'AUS_1996', 'AUS_2004...</td>\n",
       "      <td>meta</td>\n",
       "      <td>country</td>\n",
       "    </tr>\n",
       "    <tr>\n",
       "      <th>...</th>\n",
       "      <td>...</td>\n",
       "      <td>...</td>\n",
       "      <td>...</td>\n",
       "      <td>...</td>\n",
       "      <td>...</td>\n",
       "      <td>...</td>\n",
       "      <td>...</td>\n",
       "      <td>...</td>\n",
       "    </tr>\n",
       "    <tr>\n",
       "      <th>272</th>\n",
       "      <td>IMD5058_1</td>\n",
       "      <td>148</td>\n",
       "      <td>object</td>\n",
       "      <td>category</td>\n",
       "      <td>EFFECTIVE NUMBER OF ELECTORAL PARTIES</td>\n",
       "      <td>['10.46', '3.4', '3.21', '3.17', '3.03', '3.42...</td>\n",
       "      <td>seminumeric</td>\n",
       "      <td>country</td>\n",
       "    </tr>\n",
       "    <tr>\n",
       "      <th>273</th>\n",
       "      <td>IMD5058_2</td>\n",
       "      <td>108</td>\n",
       "      <td>object</td>\n",
       "      <td>category</td>\n",
       "      <td>CORRECTED EFFECTIVE NUMBER OF ELECTORAL PARTIES</td>\n",
       "      <td>['999.00. MISSING', '3.4', '3.03', '3.42', '4....</td>\n",
       "      <td>seminumeric</td>\n",
       "      <td>country</td>\n",
       "    </tr>\n",
       "    <tr>\n",
       "      <th>274</th>\n",
       "      <td>IMD5059_1</td>\n",
       "      <td>149</td>\n",
       "      <td>object</td>\n",
       "      <td>category</td>\n",
       "      <td>EFFECTIVE NUMBER OF PARLIAMENTARY PARTIES</td>\n",
       "      <td>['3.75', '3.52', '2.62', '2.44', '2.43', '2.36...</td>\n",
       "      <td>seminumeric</td>\n",
       "      <td>country</td>\n",
       "    </tr>\n",
       "    <tr>\n",
       "      <th>275</th>\n",
       "      <td>IMD5059_2</td>\n",
       "      <td>106</td>\n",
       "      <td>object</td>\n",
       "      <td>category</td>\n",
       "      <td>CORRECTED EFFECTIVE NUMBER OF PARLIAMENTARY PA...</td>\n",
       "      <td>['999.00. MISSING', '3.48', '2.43', '2.36', '4...</td>\n",
       "      <td>seminumeric</td>\n",
       "      <td>country</td>\n",
       "    </tr>\n",
       "    <tr>\n",
       "      <th>276</th>\n",
       "      <td>IMD1008_MOD_5</td>\n",
       "      <td>2</td>\n",
       "      <td>category</td>\n",
       "      <td>NaN</td>\n",
       "      <td>NaN</td>\n",
       "      <td>00. NOT IN CSES MODULE 5|01. IN CSES MODULE 5</td>\n",
       "      <td>meta</td>\n",
       "      <td>country</td>\n",
       "    </tr>\n",
       "  </tbody>\n",
       "</table>\n",
       "<p>277 rows × 8 columns</p>\n",
       "</div>"
      ],
      "text/plain": [
       "             index  un_val_len final_dtypes original_dtypes  \\\n",
       "0          IMD1001           2       object          object   \n",
       "1      IMD1002_VER           2       object          object   \n",
       "2      IMD1002_DOI           2       object          object   \n",
       "3          IMD1003         194       object        category   \n",
       "4          IMD1004         194       object          object   \n",
       "..             ...         ...          ...             ...   \n",
       "272      IMD5058_1         148       object        category   \n",
       "273      IMD5058_2         108       object        category   \n",
       "274      IMD5059_1         149       object        category   \n",
       "275      IMD5059_2         106       object        category   \n",
       "276  IMD1008_MOD_5           2     category             NaN   \n",
       "\n",
       "                                                 descr  \\\n",
       "0                                              dataset   \n",
       "1                                      DATASET VERSION   \n",
       "2                            DIGITAL OBJECT IDENTIFIER   \n",
       "3        ID VARIABLE - ELECTION STUDY (NUMERIC POLITY)   \n",
       "4     ID VARIABLE - ELECTION STUDY (ALPHABETIC POLITY)   \n",
       "..                                                 ...   \n",
       "272              EFFECTIVE NUMBER OF ELECTORAL PARTIES   \n",
       "273    CORRECTED EFFECTIVE NUMBER OF ELECTORAL PARTIES   \n",
       "274          EFFECTIVE NUMBER OF PARLIAMENTARY PARTIES   \n",
       "275  CORRECTED EFFECTIVE NUMBER OF PARLIAMENTARY PA...   \n",
       "276                                                NaN   \n",
       "\n",
       "                                                     0 variable type  \\\n",
       "0                               CSES-IMD|CSES-MODULE-5          meta   \n",
       "1                        VER2019-OCT-17|VER2020-MAY-14          meta   \n",
       "2    doi:10.7804/cses.imd.2019-10-17|doi:10.7804/cs...          meta   \n",
       "3    ['00802005. ALBANIA (2005)', '03202015. ARGENT...          meta   \n",
       "4    ['ALB_2005', 'ARG_2015', 'AUS_1996', 'AUS_2004...          meta   \n",
       "..                                                 ...           ...   \n",
       "272  ['10.46', '3.4', '3.21', '3.17', '3.03', '3.42...   seminumeric   \n",
       "273  ['999.00. MISSING', '3.4', '3.03', '3.42', '4....   seminumeric   \n",
       "274  ['3.75', '3.52', '2.62', '2.44', '2.43', '2.36...   seminumeric   \n",
       "275  ['999.00. MISSING', '3.48', '2.43', '2.36', '4...   seminumeric   \n",
       "276      00. NOT IN CSES MODULE 5|01. IN CSES MODULE 5          meta   \n",
       "\n",
       "    variable structural type  \n",
       "0                    dataset  \n",
       "1                    dataset  \n",
       "2                    dataset  \n",
       "3                    country  \n",
       "4                    country  \n",
       "..                       ...  \n",
       "272                  country  \n",
       "273                  country  \n",
       "274                  country  \n",
       "275                  country  \n",
       "276                  country  \n",
       "\n",
       "[277 rows x 8 columns]"
      ]
     },
     "execution_count": 183,
     "metadata": {},
     "output_type": "execute_result"
    }
   ],
   "source": [
    "df = pd.read_csv(dataset_folder + \"CSES\"+os.sep+\"Integration\"+os.sep+\"variable_manifest.csv\", index_col = \"Unnamed: 0\")\n",
    "df"
   ]
  },
  {
   "cell_type": "code",
   "execution_count": 163,
   "metadata": {},
   "outputs": [
    {
     "data": {
      "text/plain": [
       "seminumeric    112\n",
       "ordinal         72\n",
       "party           32\n",
       "dummy           25\n",
       "meta            19\n",
       "date            15\n",
       "metam            1\n",
       "drop             1\n",
       "Name: variable type, dtype: int64"
      ]
     },
     "execution_count": 163,
     "metadata": {},
     "output_type": "execute_result"
    }
   ],
   "source": [
    "df[\"variable type\"].value_counts()"
   ]
  },
  {
   "cell_type": "code",
   "execution_count": 88,
   "metadata": {},
   "outputs": [],
   "source": [
    "def isnum(x):\n",
    "    return str(x).replace('.','',1).replace('-','',1).isdigit()"
   ]
  },
  {
   "cell_type": "code",
   "execution_count": 89,
   "metadata": {},
   "outputs": [],
   "source": [
    "# variable whose contents should be *explicit decimal values* or *non-response codes*\n",
    "\n",
    "seminumeric_vars = df[df[\"variable type\"]==\"seminumeric\"][\"index\"].values"
   ]
  },
  {
   "cell_type": "code",
   "execution_count": 160,
   "metadata": {},
   "outputs": [],
   "source": [
    "decimals_dropped = CSES_int_final[seminumeric_vars].applymap(lambda x: x if not isnum(x) else np.nan)"
   ]
  },
  {
   "cell_type": "code",
   "execution_count": 161,
   "metadata": {},
   "outputs": [],
   "source": [
    "decimals_dropped_vc = decimals_dropped.stack().value_counts()"
   ]
  },
  {
   "cell_type": "code",
   "execution_count": 170,
   "metadata": {},
   "outputs": [
    {
     "data": {
      "text/plain": [
       "999. MISSING                                                      4555367\n",
       "996. NOT APPLICABLE: UNICAMERAL SYSTEM                            2178722\n",
       "997. NOT APPLICABLE: NO UPPER HOUSE ELECTION                      1978464\n",
       "97. NOT APPLICABLE                                                1447699\n",
       "997. NOT APPLICABLE: NO PRESIDENTIAL ELECTION                     1235379\n",
       "996. NOT APPLICABLE: NO ROLE OF PRESIDENT                          972396\n",
       "10. Democratic                                                     576914\n",
       "99.00 MISSING                                                      501448\n",
       "997. NOT APPLICABLE: NO LOWER HOUSE ELECTION                       468614\n",
       "97.00 NOT APPLICABLE                                               425221\n",
       "999.00. MISSING                                                    285892\n",
       "9996. NOT APPLICABLE: NO SECOND ROUND                              271965\n",
       "00.00 THERE IS NO THRESHOLD                                        180328\n",
       "91. [SEE ELECTION STUDY NOTES]                                      68173\n",
       "999.00. MISSING/NOT AVAILABLE AT TIME OF PUBLICATION                59626\n",
       "99. MISSING                                                         50895\n",
       "9999. MISSING                                                       44481\n",
       "997.00. PRESIDENTIAL ELECTION ONLY - NOT CALCULATED                 42722\n",
       "96.00 OTHER THRESHOLD [SEE ELECTION STUDY NOTES]                    41478\n",
       "99999.00. MISSING/NOT AVAILABLE AT TIME OF PUBLICATION              27559\n",
       "999999999. MISSING AND/OR NOT AVAILABLE AT TIME OF PUBLICATION      25686\n",
       "99.00. MISSING/NOT AVAILABLE AT TIME OF PUBLICATION                 24043\n",
       "999999.00. MISSING/NOT AVAILABLE AT TIME OF PUBLICATION             22034\n",
       "9995. NOT ASCERTAINED                                                5413\n",
       "-88. Transition Periods                                              2220\n",
       "9. MISSING                                                           1208\n",
       "9997. REFUSED                                                         656\n",
       "9998. DON'T KNOW                                                      119\n",
       "dtype: int64"
      ]
     },
     "execution_count": 170,
     "metadata": {},
     "output_type": "execute_result"
    }
   ],
   "source": [
    "decimals_dropped_vc"
   ]
  },
  {
   "cell_type": "code",
   "execution_count": 156,
   "metadata": {},
   "outputs": [
    {
     "data": {
      "text/plain": [
       "array([        9,        91,        96,        97,        99,       996,\n",
       "             997,       999,      9995,      9996,      9997,      9998,\n",
       "            9999,     99999,    999999, 999999999])"
      ]
     },
     "execution_count": 156,
     "metadata": {},
     "output_type": "execute_result"
    }
   ],
   "source": [
    "manual_fixes = [\"-88. Transition Periods\",\"00.00 THERE IS NO THRESHOLD\",\"10. Democratic\"]\n",
    "\n",
    "np.unique( [int(x.split(\".\")[0]) for x in decimals_dropped_vc.index if x not in manual_fixes] )"
   ]
  },
  {
   "cell_type": "code",
   "execution_count": 174,
   "metadata": {},
   "outputs": [
    {
     "data": {
      "text/html": [
       "['10. Democratic', '00.00 THERE IS NO THRESHOLD', '-88. Transition Periods']"
      ],
      "text/plain": [
       "['10. Democratic', '00.00 THERE IS NO THRESHOLD', '-88. Transition Periods']"
      ]
     },
     "execution_count": 174,
     "metadata": {},
     "output_type": "execute_result"
    }
   ],
   "source": [
    "[x for x in decimals_dropped_vc.index if not re.match(\"9{1,8}\\d?\\.(00)?\\.?\",x)]"
   ]
  },
  {
   "cell_type": "code",
   "execution_count": 181,
   "metadata": {},
   "outputs": [],
   "source": [
    "# %debug"
   ]
  },
  {
   "cell_type": "code",
   "execution_count": null,
   "metadata": {},
   "outputs": [],
   "source": [
    "ordinal         72\n",
    "party           32\n",
    "dummy           25"
   ]
  },
  {
   "cell_type": "code",
   "execution_count": 164,
   "metadata": {},
   "outputs": [],
   "source": [
    "ordinal_vars = df[df[\"variable type\"]==\"ordinal\"][\"index\"].values\n",
    "ordinal_decimals_dropped = CSES_int_final[ordinal_vars].applymap(lambda x: x if not isnum(x) else np.nan)\n",
    "ordinal_decimals_dropped_vc = ordinal_decimals_dropped.stack().value_counts()"
   ]
  },
  {
   "cell_type": "code",
   "execution_count": 184,
   "metadata": {},
   "outputs": [],
   "source": [
    "party_vars = df[df[\"variable type\"]==\"party\"][\"index\"].values\n",
    "party_decimals_dropped = CSES_int_final[party_vars].applymap(lambda x: x if not isnum(x) else np.nan)\n",
    "party_ordinal_decimals_dropped_vc = party_decimals_dropped.stack().value_counts()"
   ]
  },
  {
   "cell_type": "code",
   "execution_count": 194,
   "metadata": {},
   "outputs": [],
   "source": [
    "dummy_vars = df[df[\"variable type\"]==\"dummy\"][\"index\"].values\n",
    "dummy_decimals_dropped = CSES_int_final[dummy_vars].applymap(lambda x: x if not isnum(x) else np.nan)\n",
    "dummy_decimals_dropped_vc = dummy_decimals_dropped.stack().value_counts()"
   ]
  },
  {
   "cell_type": "code",
   "execution_count": 168,
   "metadata": {},
   "outputs": [
    {
     "data": {
      "text/plain": [
       "99. MISSING                                                             4270105\n",
       "9. MISSING                                                              3201590\n",
       "1. RESPONDENT CAST A BALLOT                                              841266\n",
       "5. NO                                                                    689627\n",
       "00. STRONGLY DISLIKE                                                     499807\n",
       "7. NOT APPLICABLE                                                        424423\n",
       "9999995. NOT APPLICABLE: NO ROLE OF PRESIDENT                            404579\n",
       "9999999. MISSING                                                         402268\n",
       "1. CORRECT                                                               396650\n",
       "1. YES                                                                   333793\n",
       "98. VOLUNTEERED: DON'T KNOW WHERE TO PLACE                               294330\n",
       "9999996. NOT APPLICABLE: NO PRESIDENTIAL ELECTIONS / NO SECOND ROUND     278460\n",
       "8. VOLUNTEERED: DON'T KNOW                                               243178\n",
       "9999996. NOT APPLICABLE: NO PRESIDENTIAL ELECTIONS                       230646\n",
       "9999996. NOT APPLICABLE: NO UPPER HOUSE ELECTION                         222161\n",
       "9999995. NOT APPLICABLE: UNICAMERAL SYSTEM                               220309\n",
       "2. BICAMERAL LEGISLATURE (TWO LEGISLATIVE CHAMBERS)                      200193\n",
       "98. DON'T KNOW ENOUGH ABOUT/DON'T KNOW WHERE TO RATE                     192446\n",
       "0. INCORRECT                                                             187412\n",
       "10. RIGHT                                                                186407\n",
       "10. STRONGLY LIKE                                                        161271\n",
       "00. LEFT                                                                 159485\n",
       "0. RESPONDENT DID NOT CAST A BALLOT                                      156323\n",
       "2. FAIRLY SATISFIED                                                      141414\n",
       "0. DID NOT VOTE FOR THE OUTGOING GOVERNMENT (INCUMBENT)                  127498\n",
       "5. WHO PEOPLE VOTE FOR CAN MAKE A BIG DIFFERENCE                         121316\n",
       "5. IT MAKES A BIG DIFFERENCE WHO IS IN POWER                             116472\n",
       "1. UNICAMERAL LEGISLATURE (ONE LEGISLATIVE CHAMBER)                      116055\n",
       "4. LARGE TOWN OR CITY                                                     93260\n",
       "4. NOT VERY SATISFIED                                                     87643\n",
       "1. VOTED FOR THE OUTGOING GOVERNMENT (INCUMBENT)                          86143\n",
       "97. VOLUNTEERED: REFUSED                                                  77476\n",
       "2. GOOD JOB                                                               73022\n",
       "3. STAYED THE SAME                                                        67936\n",
       "1. RURAL AREA OR VILLAGE                                                  64550\n",
       "2. SMALL OR MIDDLE-SIZED TOWN                                             60542\n",
       "5. GOTTEN WORSE                                                           56471\n",
       "96. HAVEN'T HEARD OF PARTY                                                54738\n",
       "9999999. MISSING / ABSTAINED (DID NOT VOTE)                               54434\n",
       "2. SECOND HOUSEHOLD INCOME QUINTILE                                       54129\n",
       "3. THIRD HOUSEHOLD INCOME QUINTILE                                        53931\n",
       "9999996. NOT APPLICABLE: NO LOWER HOUSE ELECTION                          53930\n",
       "3. BAD JOB                                                                53441\n",
       "96. HAVEN'T HEARD OF LEADER                                               52472\n",
       "1. LOWEST HOUSEHOLD INCOME QUINTILE                                       50652\n",
       "95. VOLUNTEERED: HAVEN'T HEARD OF LEFT-RIGHT                              48759\n",
       "4. FOURTH HOUSEHOLD INCOME QUINTILE                                       48430\n",
       "5. HIGHEST HOUSEHOLD INCOME QUINTILE                                      45121\n",
       "96. VOLUNTEERED: HAVEN'T HEARD OF PARTY                                   44559\n",
       "3. SUBURBS OF LARGE TOWN OR CITY                                          39130\n",
       "1. GOTTEN BETTER                                                          38267\n",
       "7. VOLUNTEERED: REFUSED                                                   36260\n",
       "9999996. NOT ASCERTAINED/INCUMBENT CANDIDATE/PARTY DID NOT CONTEST        35909\n",
       "5. NOT AT ALL SATISFIED                                                   34133\n",
       "2. SOMEWHAT BETTER                                                        30962\n",
       "4. SOMEWHAT WORSE                                                         30578\n",
       "1. VERY SATISFIED                                                         29625\n",
       "2. YES; WEAKLY ENFORCED SANCTIONS                                         25160\n",
       "1. IT DOESN'T MAKE ANY DIFFERENCE WHO IS IN POWER                         24996\n",
       "97. NOT APPLICABLE                                                        24503\n",
       "dtype: int64"
      ]
     },
     "execution_count": 168,
     "metadata": {},
     "output_type": "execute_result"
    }
   ],
   "source": [
    "ordinal_decimals_dropped_vc.head(60)"
   ]
  },
  {
   "cell_type": "code",
   "execution_count": 177,
   "metadata": {},
   "outputs": [
    {
     "data": {
      "text/plain": [
       "0                                           99. MISSING\n",
       "1                                            9. MISSING\n",
       "2         9999995. NOT APPLICABLE: NO ROLE OF PRESIDENT\n",
       "3                                      9999999. MISSING\n",
       "4            98. VOLUNTEERED: DON'T KNOW WHERE TO PLACE\n",
       "5     9999996. NOT APPLICABLE: NO PRESIDENTIAL ELECT...\n",
       "6     9999996. NOT APPLICABLE: NO PRESIDENTIAL ELECT...\n",
       "7      9999996. NOT APPLICABLE: NO UPPER HOUSE ELECTION\n",
       "8            9999995. NOT APPLICABLE: UNICAMERAL SYSTEM\n",
       "9     98. DON'T KNOW ENOUGH ABOUT/DON'T KNOW WHERE T...\n",
       "10                             97. VOLUNTEERED: REFUSED\n",
       "11                           96. HAVEN'T HEARD OF PARTY\n",
       "12          9999999. MISSING / ABSTAINED (DID NOT VOTE)\n",
       "13     9999996. NOT APPLICABLE: NO LOWER HOUSE ELECTION\n",
       "14                          96. HAVEN'T HEARD OF LEADER\n",
       "15         95. VOLUNTEERED: HAVEN'T HEARD OF LEFT-RIGHT\n",
       "16              96. VOLUNTEERED: HAVEN'T HEARD OF PARTY\n",
       "17    9999996. NOT ASCERTAINED/INCUMBENT CANDIDATE/P...\n",
       "18                                   97. NOT APPLICABLE\n",
       "19    9999993. VOLUNTEERED: RESPONDENT NOT REGISTERE...\n",
       "20                        9999997. VOLUNTEERED: REFUSED\n",
       "21                     9999998. VOLUNTEERED: DON'T KNOW\n",
       "dtype: object"
      ]
     },
     "execution_count": 177,
     "metadata": {},
     "output_type": "execute_result"
    }
   ],
   "source": [
    "pd.Series( [x for x in ordinal_decimals_dropped_vc.index if re.match(\"9{1,8}\\d?\\.(00)?\\.?\",x)] )"
   ]
  },
  {
   "cell_type": "code",
   "execution_count": null,
   "metadata": {},
   "outputs": [],
   "source": [
    " # ordinals\n",
    "    # non responses missing from match\n",
    "    \"8. VOLUNTEERED: DON'T KNOW\", \"6. [SEE ELECTION STUDY NOTES]\", \"7. VOLUNTEERED: REFUSED\"\n",
    " # party\n",
    "    # non responses\n",
    "    ['9999989. INDEPENDENT CANDIDATE',\n",
    "       '999989. INDEPENDENT (NON-PARTY CANDIDATE)',\n",
    "       '999989. INDEPENDENT CANDIDATE',\n",
    "       '9999988. NONE OF THE CANDIDATES/PARTIES',\n",
    "       '9999988. NONE OF THE CANDIDATES PARTIES',\n",
    "       '999988. NONE OF THE CANDIDATES/PARTIES']\n",
    " # dummy\n",
    "    # non responses\n",
    "'5. [SEE ELECTION STUDY NOTES]','3. [SEE ELECTION STUDY NOTES]'],'4. [SEE ELECTION STUDY NOTES]',\n",
    "\"8. VOLUNTEERED: DON'T KNOW\",'7. REFUSED','7. VOLUNTEERED: REFUSED','7. NOT APPLICABLE',    \n",
    "#     responses\n",
    "'9. CONSERVATIVE PARTIES','9. HINDUISM',"
   ]
  },
  {
   "cell_type": "code",
   "execution_count": 192,
   "metadata": {},
   "outputs": [
    {
     "data": {
      "text/plain": [
       "array(['9999989. INDEPENDENT CANDIDATE',\n",
       "       '999989. INDEPENDENT (NON-PARTY CANDIDATE)',\n",
       "       '999989. INDEPENDENT CANDIDATE',\n",
       "       '9999988. NONE OF THE CANDIDATES/PARTIES',\n",
       "       '9999988. NONE OF THE CANDIDATES PARTIES',\n",
       "       '999988. NONE OF THE CANDIDATES/PARTIES'], dtype=object)"
      ]
     },
     "execution_count": 192,
     "metadata": {},
     "output_type": "execute_result"
    }
   ],
   "source": [
    "pd.Series( [x for x in party_ordinal_decimals_dropped_vc.index if not re.match(\"9{1,8}\\d?\\.(00)?\\.?\",x) and x[0:1]==\"9\"] ).values\n"
   ]
  },
  {
   "cell_type": "code",
   "execution_count": 197,
   "metadata": {},
   "outputs": [
    {
     "data": {
      "text/plain": [
       "array(['99. MISSING', '9. MISSING', '9. CONSERVATIVE PARTIES',\n",
       "       '90. OTHER', '97. NOT APPLICABLE',\n",
       "       '98. NO IDEOLOGICAL FAMILY MENTIONED', '96. OTHER: NOT SPECIFIED',\n",
       "       '9999. MISSING', '97. VOLUNTEERED: REFUSED',\n",
       "       \"98. VOLUNTEERED: DON'T KNOW\", '9997. REFUSED', '9. HINDUISM',\n",
       "       \"9998. DON'T KNOW\"], dtype=object)"
      ]
     },
     "execution_count": 197,
     "metadata": {},
     "output_type": "execute_result"
    }
   ],
   "source": [
    "pd.Series( [x for x in dummy_decimals_dropped_vc.index if re.match(\"9{1,8}\\d?\\.(00)?\\.?\",x)] ).values\n"
   ]
  },
  {
   "cell_type": "code",
   "execution_count": null,
   "metadata": {},
   "outputs": [],
   "source": []
  },
  {
   "cell_type": "code",
   "execution_count": null,
   "metadata": {},
   "outputs": [],
   "source": []
  },
  {
   "cell_type": "code",
   "execution_count": null,
   "metadata": {},
   "outputs": [],
   "source": [
    "## check categories, see if we have any with the same 'numbers'"
   ]
  },
  {
   "cell_type": "code",
   "execution_count": 102,
   "metadata": {},
   "outputs": [],
   "source": [
    "CSES_int_final.select_dtypes('object').shape\n",
    "\n",
    "def is_dup(x):\n",
    "    return len(set(x))!=len(x)"
   ]
  },
  {
   "cell_type": "code",
   "execution_count": 104,
   "metadata": {},
   "outputs": [
    {
     "data": {
      "text/plain": [
       "0"
      ]
     },
     "execution_count": 104,
     "metadata": {},
     "output_type": "execute_result"
    }
   ],
   "source": [
    "CSES_int_final.select_dtypes('category').apply(lambda x:is_dup([int(y.split(\".\")[0]) for y in x.cat.categories if isinstance(y,str) and re.match(\"(\\d+)\\.\",y)]))"
   ]
  },
  {
   "cell_type": "code",
   "execution_count": 108,
   "metadata": {},
   "outputs": [],
   "source": [
    "temp = CSES_int_final.select_dtypes('object').astype('category').apply(lambda x:is_dup([int(y.split(\".\")[0]) for y in x.cat.categories if isinstance(y,str) and re.match(\"(\\d+)\\.\",y)]))"
   ]
  },
  {
   "cell_type": "code",
   "execution_count": 111,
   "metadata": {},
   "outputs": [
    {
     "data": {
      "text/html": [
       "<div>\n",
       "<style scoped>\n",
       "    .dataframe tbody tr th:only-of-type {\n",
       "        vertical-align: middle;\n",
       "    }\n",
       "\n",
       "    .dataframe tbody tr th {\n",
       "        vertical-align: top;\n",
       "    }\n",
       "\n",
       "    .dataframe thead th {\n",
       "        text-align: right;\n",
       "    }\n",
       "</style>\n",
       "<table border=\"1\" class=\"dataframe\">\n",
       "  <thead>\n",
       "    <tr style=\"text-align: right;\">\n",
       "      <th></th>\n",
       "      <th>IMD2001_1</th>\n",
       "      <th>IMD2001_2</th>\n",
       "      <th>IMD5022_2</th>\n",
       "      <th>IMD5022_3</th>\n",
       "      <th>IMD5022_4</th>\n",
       "    </tr>\n",
       "  </thead>\n",
       "  <tbody>\n",
       "    <tr>\n",
       "      <th>0</th>\n",
       "      <td>22</td>\n",
       "      <td>01. YOUNGEST - 24 YEARS</td>\n",
       "      <td>99.00 MISSING</td>\n",
       "      <td>99.00 MISSING</td>\n",
       "      <td>99.00 MISSING</td>\n",
       "    </tr>\n",
       "    <tr>\n",
       "      <th>1</th>\n",
       "      <td>22</td>\n",
       "      <td>01. YOUNGEST - 24 YEARS</td>\n",
       "      <td>99.00 MISSING</td>\n",
       "      <td>99.00 MISSING</td>\n",
       "      <td>99.00 MISSING</td>\n",
       "    </tr>\n",
       "    <tr>\n",
       "      <th>2</th>\n",
       "      <td>56</td>\n",
       "      <td>05. 55-64 YEARS</td>\n",
       "      <td>99.00 MISSING</td>\n",
       "      <td>99.00 MISSING</td>\n",
       "      <td>99.00 MISSING</td>\n",
       "    </tr>\n",
       "    <tr>\n",
       "      <th>3</th>\n",
       "      <td>50</td>\n",
       "      <td>04. 45-54 YEARS</td>\n",
       "      <td>99.00 MISSING</td>\n",
       "      <td>99.00 MISSING</td>\n",
       "      <td>99.00 MISSING</td>\n",
       "    </tr>\n",
       "    <tr>\n",
       "      <th>4</th>\n",
       "      <td>48</td>\n",
       "      <td>04. 45-54 YEARS</td>\n",
       "      <td>99.00 MISSING</td>\n",
       "      <td>99.00 MISSING</td>\n",
       "      <td>99.00 MISSING</td>\n",
       "    </tr>\n",
       "    <tr>\n",
       "      <th>...</th>\n",
       "      <td>...</td>\n",
       "      <td>...</td>\n",
       "      <td>...</td>\n",
       "      <td>...</td>\n",
       "      <td>...</td>\n",
       "    </tr>\n",
       "    <tr>\n",
       "      <th>35160</th>\n",
       "      <td>20</td>\n",
       "      <td>01. YOUNGEST - 24 YEARS</td>\n",
       "      <td>97. NOT APPLICABLE</td>\n",
       "      <td>0</td>\n",
       "      <td>97. NOT APPLICABLE</td>\n",
       "    </tr>\n",
       "    <tr>\n",
       "      <th>35161</th>\n",
       "      <td>36</td>\n",
       "      <td>03. 35-44 YEARS</td>\n",
       "      <td>97. NOT APPLICABLE</td>\n",
       "      <td>0</td>\n",
       "      <td>97. NOT APPLICABLE</td>\n",
       "    </tr>\n",
       "    <tr>\n",
       "      <th>35162</th>\n",
       "      <td>81</td>\n",
       "      <td>06. 65 - OLDEST</td>\n",
       "      <td>97. NOT APPLICABLE</td>\n",
       "      <td>0</td>\n",
       "      <td>97. NOT APPLICABLE</td>\n",
       "    </tr>\n",
       "    <tr>\n",
       "      <th>35163</th>\n",
       "      <td>26</td>\n",
       "      <td>02. 25-34 YEARS</td>\n",
       "      <td>97. NOT APPLICABLE</td>\n",
       "      <td>0</td>\n",
       "      <td>97. NOT APPLICABLE</td>\n",
       "    </tr>\n",
       "    <tr>\n",
       "      <th>35164</th>\n",
       "      <td>38</td>\n",
       "      <td>03. 35-44 YEARS</td>\n",
       "      <td>97. NOT APPLICABLE</td>\n",
       "      <td>0</td>\n",
       "      <td>97. NOT APPLICABLE</td>\n",
       "    </tr>\n",
       "  </tbody>\n",
       "</table>\n",
       "<p>316248 rows × 5 columns</p>\n",
       "</div>"
      ],
      "text/plain": [
       "      IMD2001_1                IMD2001_2           IMD5022_2      IMD5022_3  \\\n",
       "0            22  01. YOUNGEST - 24 YEARS       99.00 MISSING  99.00 MISSING   \n",
       "1            22  01. YOUNGEST - 24 YEARS       99.00 MISSING  99.00 MISSING   \n",
       "2            56          05. 55-64 YEARS       99.00 MISSING  99.00 MISSING   \n",
       "3            50          04. 45-54 YEARS       99.00 MISSING  99.00 MISSING   \n",
       "4            48          04. 45-54 YEARS       99.00 MISSING  99.00 MISSING   \n",
       "...         ...                      ...                 ...            ...   \n",
       "35160        20  01. YOUNGEST - 24 YEARS  97. NOT APPLICABLE              0   \n",
       "35161        36          03. 35-44 YEARS  97. NOT APPLICABLE              0   \n",
       "35162        81          06. 65 - OLDEST  97. NOT APPLICABLE              0   \n",
       "35163        26          02. 25-34 YEARS  97. NOT APPLICABLE              0   \n",
       "35164        38          03. 35-44 YEARS  97. NOT APPLICABLE              0   \n",
       "\n",
       "                IMD5022_4  \n",
       "0           99.00 MISSING  \n",
       "1           99.00 MISSING  \n",
       "2           99.00 MISSING  \n",
       "3           99.00 MISSING  \n",
       "4           99.00 MISSING  \n",
       "...                   ...  \n",
       "35160  97. NOT APPLICABLE  \n",
       "35161  97. NOT APPLICABLE  \n",
       "35162  97. NOT APPLICABLE  \n",
       "35163  97. NOT APPLICABLE  \n",
       "35164  97. NOT APPLICABLE  \n",
       "\n",
       "[316248 rows x 5 columns]"
      ]
     },
     "execution_count": 111,
     "metadata": {},
     "output_type": "execute_result"
    }
   ],
   "source": [
    "CSES_int_final[CSES_int_final.select_dtypes('object').columns[temp]]\n",
    "\n",
    "## any repeated"
   ]
  },
  {
   "cell_type": "code",
   "execution_count": 140,
   "metadata": {},
   "outputs": [],
   "source": [
    "CSES_int_final = CSES_int_final.reset_index().rename(columns={\"index\":\"original_index\"})"
   ]
  },
  {
   "cell_type": "code",
   "execution_count": 150,
   "metadata": {},
   "outputs": [],
   "source": [
    "replace_dict= {\"9997. VOLUNTEERED: REFUSED\":\"9997. REFUSED\",\n",
    " \"9998. VOLUNTEERED: DON'T KNOW\":\"9998. DON'T KNOW\",}\n",
    "CSES_int_final[\"IMD2001_1\"] = CSES_int_final[\"IMD2001_1\"].replace(replace_dict)\n",
    "#\n",
    "replace_dict = {'9997. VOLUNTEERED: REFUSED':'9997. REFUSED',\n",
    "                \"9998. VOLUNTEERED: DON'T KNOW\":\"9998. DON'T KNOW\"}\n",
    "CSES_int_final[\"IMD2001_2\"] = CSES_int_final[\"IMD2001_2\"]\\\n",
    "                                  .replace(replace_dict).astype('category').cat.set_categories(CSES_int[\"IMD2001_2\"].cat.categories,\n",
    "                                  ordered=True)\n",
    "#\n",
    "replace_dict = {'97. NOT APPLICABLE':'97.00 NOT APPLICABLE'}\n",
    "\n",
    "CSES_int_final[\"IMD5022_2\"] = CSES_int_final[\"IMD5022_2\"].replace(replace_dict)\n",
    "CSES_int_final[\"IMD5022_3\"] = CSES_int_final[\"IMD5022_3\"].replace(replace_dict)\n",
    "CSES_int_final[\"IMD5022_4\"] = CSES_int_final[\"IMD5022_4\"].replace(replace_dict)"
   ]
  },
  {
   "cell_type": "code",
   "execution_count": 151,
   "metadata": {},
   "outputs": [],
   "source": []
  },
  {
   "cell_type": "code",
   "execution_count": null,
   "metadata": {},
   "outputs": [],
   "source": []
  },
  {
   "cell_type": "code",
   "execution_count": 132,
   "metadata": {},
   "outputs": [],
   "source": []
  },
  {
   "cell_type": "code",
   "execution_count": null,
   "metadata": {},
   "outputs": [],
   "source": []
  },
  {
   "cell_type": "code",
   "execution_count": null,
   "metadata": {},
   "outputs": [],
   "source": []
  },
  {
   "cell_type": "code",
   "execution_count": null,
   "metadata": {},
   "outputs": [],
   "source": []
  },
  {
   "cell_type": "code",
   "execution_count": null,
   "metadata": {},
   "outputs": [],
   "source": []
  }
 ],
 "metadata": {
  "kernelspec": {
   "display_name": "Python [conda env:BES_analysis] *",
   "language": "python",
   "name": "conda-env-BES_analysis-py"
  },
  "language_info": {
   "codemirror_mode": {
    "name": "ipython",
    "version": 3
   },
   "file_extension": ".py",
   "mimetype": "text/x-python",
   "name": "python",
   "nbconvert_exporter": "python",
   "pygments_lexer": "ipython3",
   "version": "3.7.6"
  }
 },
 "nbformat": 4,
 "nbformat_minor": 4
}
