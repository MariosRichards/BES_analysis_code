{
 "cells": [
  {
   "cell_type": "code",
   "execution_count": null,
   "id": "194a7a75",
   "metadata": {},
   "outputs": [],
   "source": [
    "### Look Conservative electorate flows in 2024 (premature given waves 27+ aren't out so 'estimated')\n",
    "# FURTHER WORK - wait for later waves to look at detailed splits, what predicts vote change, and non-voting\n",
    "#              - try to create segmentation for larger view con electorate"
   ]
  },
  {
   "cell_type": "code",
   "execution_count": 3,
   "id": "031e861f",
   "metadata": {},
   "outputs": [
    {
     "data": {
      "text/html": [
       "<script>jQuery(function() {if (jQuery(\"body.notebook_app\").length == 0) { jQuery(\".input_area\").toggle(); jQuery(\".prompt\").toggle();}});</script>"
      ]
     },
     "metadata": {},
     "output_type": "display_data"
    },
    {
     "data": {
      "text/html": [
       "<button onclick=\"jQuery('.input_area').toggle(); jQuery('.prompt').toggle();\">Toggle code</button>"
      ]
     },
     "metadata": {},
     "output_type": "display_data"
    },
    {
     "name": "stdout",
     "output_type": "stream",
     "text": [
      "var_type (10365, 13)\n",
      "CPU times: total: 1min 57s\n",
      "Wall time: 1min 57s\n"
     ]
    }
   ],
   "source": [
    "%%time\n",
    "dataset_name = \"W25_comb\"\n",
    "df_list = \"BES_Panel\"\n",
    "#|BES_reduced_with_na\"\n",
    "\n",
    "%matplotlib inline \n",
    "%run BES_header.py {dataset_name} {df_list}\n",
    "\n",
    "global BES_label_list, BES_df_list\n",
    "# BES_reduced_with_na.index=BES_Panel.index"
   ]
  },
  {
   "cell_type": "code",
   "execution_count": null,
   "id": "3f655419",
   "metadata": {},
   "outputs": [],
   "source": [
    "## maybe also W26_only"
   ]
  },
  {
   "cell_type": "code",
   "execution_count": 2,
   "id": "178e32d6",
   "metadata": {},
   "outputs": [],
   "source": [
    "BES_PanelW26 = pd.read_pickle(\"E:\\\\Users\\\\Gamer\\\\Documents\\\\GitHub\\\\BES_analysis\\\\BES_analysis_data\\\\W26_only\\\\BES2019_W26_v0.0.zip\",\n",
    "                                       compression='zip')\n",
    "BES_PanelW26.columns = [ x+\"W26\" for x in BES_PanelW26.columns ]"
   ]
  },
  {
   "cell_type": "code",
   "execution_count": 4,
   "id": "945e756d",
   "metadata": {},
   "outputs": [
    {
     "data": {
      "text/html": [
       "<div>\n",
       "<style scoped>\n",
       "    .dataframe tbody tr th:only-of-type {\n",
       "        vertical-align: middle;\n",
       "    }\n",
       "\n",
       "    .dataframe tbody tr th {\n",
       "        vertical-align: top;\n",
       "    }\n",
       "\n",
       "    .dataframe thead th {\n",
       "        text-align: right;\n",
       "    }\n",
       "</style>\n",
       "<table border=\"1\" class=\"dataframe\">\n",
       "  <thead>\n",
       "    <tr style=\"text-align: right;\">\n",
       "      <th></th>\n",
       "      <th>idW26</th>\n",
       "      <th>waveW26</th>\n",
       "      <th>weightW26</th>\n",
       "      <th>turnoutUKGeneralW26</th>\n",
       "      <th>generalElectionVoteW26</th>\n",
       "      <th>partyIdStrengthW26</th>\n",
       "      <th>partyIdW26</th>\n",
       "      <th>bestOnMIIW26</th>\n",
       "      <th>polAttentionW26</th>\n",
       "      <th>likeConLeaderW26</th>\n",
       "      <th>...</th>\n",
       "      <th>p_job_sectorW26</th>\n",
       "      <th>p_maritalW26</th>\n",
       "      <th>p_disabilityW26</th>\n",
       "      <th>p_religionW26</th>\n",
       "      <th>p_sexualityW26</th>\n",
       "      <th>p_ethnicityW26</th>\n",
       "      <th>p_edlevelW26</th>\n",
       "      <th>lr_scaleW26</th>\n",
       "      <th>al_scaleW26</th>\n",
       "      <th>genderW26</th>\n",
       "    </tr>\n",
       "    <tr>\n",
       "      <th>id</th>\n",
       "      <th></th>\n",
       "      <th></th>\n",
       "      <th></th>\n",
       "      <th></th>\n",
       "      <th></th>\n",
       "      <th></th>\n",
       "      <th></th>\n",
       "      <th></th>\n",
       "      <th></th>\n",
       "      <th></th>\n",
       "      <th></th>\n",
       "      <th></th>\n",
       "      <th></th>\n",
       "      <th></th>\n",
       "      <th></th>\n",
       "      <th></th>\n",
       "      <th></th>\n",
       "      <th></th>\n",
       "      <th></th>\n",
       "      <th></th>\n",
       "      <th></th>\n",
       "    </tr>\n",
       "  </thead>\n",
       "  <tbody>\n",
       "    <tr>\n",
       "      <th>9</th>\n",
       "      <td>9</td>\n",
       "      <td>26</td>\n",
       "      <td>0.430024</td>\n",
       "      <td>Very likely that I would vote</td>\n",
       "      <td>Labour</td>\n",
       "      <td>NaN</td>\n",
       "      <td>No - none</td>\n",
       "      <td>Liberal Democrat</td>\n",
       "      <td>8</td>\n",
       "      <td>3</td>\n",
       "      <td>...</td>\n",
       "      <td>Private sector - profit seeking</td>\n",
       "      <td>Single</td>\n",
       "      <td>No</td>\n",
       "      <td>No, I do not regard myself as belonging to any...</td>\n",
       "      <td>Gay or lesbian</td>\n",
       "      <td>White British</td>\n",
       "      <td>Undergraduate</td>\n",
       "      <td>NaN</td>\n",
       "      <td>NaN</td>\n",
       "      <td>Men</td>\n",
       "    </tr>\n",
       "    <tr>\n",
       "      <th>14</th>\n",
       "      <td>14</td>\n",
       "      <td>26</td>\n",
       "      <td>0.543611</td>\n",
       "      <td>Very likely that I would vote</td>\n",
       "      <td>Conservative</td>\n",
       "      <td>Fairly strong</td>\n",
       "      <td>Conservative</td>\n",
       "      <td>Conservative</td>\n",
       "      <td>6</td>\n",
       "      <td>9</td>\n",
       "      <td>...</td>\n",
       "      <td>99.0</td>\n",
       "      <td>Married</td>\n",
       "      <td>No</td>\n",
       "      <td>Yes - Church of England/Anglican/Episcopal</td>\n",
       "      <td>Heterosexual</td>\n",
       "      <td>White British</td>\n",
       "      <td>No qualifications</td>\n",
       "      <td>6.0</td>\n",
       "      <td>7.0</td>\n",
       "      <td>Men</td>\n",
       "    </tr>\n",
       "    <tr>\n",
       "      <th>18</th>\n",
       "      <td>18</td>\n",
       "      <td>26</td>\n",
       "      <td>0.438129</td>\n",
       "      <td>Very likely that I would vote</td>\n",
       "      <td>Scottish National Party (SNP)</td>\n",
       "      <td>Not very strong</td>\n",
       "      <td>Scottish National Party (SNP)</td>\n",
       "      <td>No party is best able to handle this issue</td>\n",
       "      <td>7</td>\n",
       "      <td>Strongly dislike</td>\n",
       "      <td>...</td>\n",
       "      <td>Public sector - government owned or funded</td>\n",
       "      <td>Married</td>\n",
       "      <td>Yes, limited a lot</td>\n",
       "      <td>No, I do not regard myself as belonging to any...</td>\n",
       "      <td>Heterosexual</td>\n",
       "      <td>Any other white background</td>\n",
       "      <td>Postgrad</td>\n",
       "      <td>Left</td>\n",
       "      <td>0.5</td>\n",
       "      <td>Men</td>\n",
       "    </tr>\n",
       "    <tr>\n",
       "      <th>24</th>\n",
       "      <td>24</td>\n",
       "      <td>26</td>\n",
       "      <td>1.076325</td>\n",
       "      <td>Very likely that I would vote</td>\n",
       "      <td>Green Party</td>\n",
       "      <td>Not very strong</td>\n",
       "      <td>Green Party</td>\n",
       "      <td>Green Party</td>\n",
       "      <td>7</td>\n",
       "      <td>Strongly dislike</td>\n",
       "      <td>...</td>\n",
       "      <td>Public sector - government owned or funded</td>\n",
       "      <td>Married</td>\n",
       "      <td>No</td>\n",
       "      <td>No, I do not regard myself as belonging to any...</td>\n",
       "      <td>Heterosexual</td>\n",
       "      <td>White British</td>\n",
       "      <td>Postgrad</td>\n",
       "      <td>0.5</td>\n",
       "      <td>3.0</td>\n",
       "      <td>Men</td>\n",
       "    </tr>\n",
       "    <tr>\n",
       "      <th>30</th>\n",
       "      <td>30</td>\n",
       "      <td>26</td>\n",
       "      <td>0.570840</td>\n",
       "      <td>Very likely that I would vote</td>\n",
       "      <td>Green Party</td>\n",
       "      <td>Not very strong</td>\n",
       "      <td>Labour</td>\n",
       "      <td>No party is best able to handle this issue</td>\n",
       "      <td>3</td>\n",
       "      <td>7</td>\n",
       "      <td>...</td>\n",
       "      <td>Public sector - government owned or funded</td>\n",
       "      <td>Living with a partner but neither married nor ...</td>\n",
       "      <td>No</td>\n",
       "      <td>Yes - Church of England/Anglican/Episcopal</td>\n",
       "      <td>Heterosexual</td>\n",
       "      <td>White British</td>\n",
       "      <td>GCSE</td>\n",
       "      <td>1.0</td>\n",
       "      <td>7.0</td>\n",
       "      <td>Female</td>\n",
       "    </tr>\n",
       "    <tr>\n",
       "      <th>...</th>\n",
       "      <td>...</td>\n",
       "      <td>...</td>\n",
       "      <td>...</td>\n",
       "      <td>...</td>\n",
       "      <td>...</td>\n",
       "      <td>...</td>\n",
       "      <td>...</td>\n",
       "      <td>...</td>\n",
       "      <td>...</td>\n",
       "      <td>...</td>\n",
       "      <td>...</td>\n",
       "      <td>...</td>\n",
       "      <td>...</td>\n",
       "      <td>...</td>\n",
       "      <td>...</td>\n",
       "      <td>...</td>\n",
       "      <td>...</td>\n",
       "      <td>...</td>\n",
       "      <td>...</td>\n",
       "      <td>...</td>\n",
       "      <td>...</td>\n",
       "    </tr>\n",
       "    <tr>\n",
       "      <th>115586</th>\n",
       "      <td>115586</td>\n",
       "      <td>26</td>\n",
       "      <td>2.867724</td>\n",
       "      <td>Very likely that I would vote</td>\n",
       "      <td>Conservative</td>\n",
       "      <td>Fairly strong</td>\n",
       "      <td>Conservative</td>\n",
       "      <td>Conservative</td>\n",
       "      <td>7</td>\n",
       "      <td>9</td>\n",
       "      <td>...</td>\n",
       "      <td>NaN</td>\n",
       "      <td>Single</td>\n",
       "      <td>Yes, limited a little</td>\n",
       "      <td>NaN</td>\n",
       "      <td>Heterosexual</td>\n",
       "      <td>White British</td>\n",
       "      <td>No qualifications</td>\n",
       "      <td>0.5</td>\n",
       "      <td>7.5</td>\n",
       "      <td>Men</td>\n",
       "    </tr>\n",
       "    <tr>\n",
       "      <th>115587</th>\n",
       "      <td>115587</td>\n",
       "      <td>26</td>\n",
       "      <td>3.014036</td>\n",
       "      <td>Neither likely nor unlikely</td>\n",
       "      <td>Liberal Democrat</td>\n",
       "      <td>Fairly strong</td>\n",
       "      <td>Liberal Democrat</td>\n",
       "      <td>Don't know</td>\n",
       "      <td>7</td>\n",
       "      <td>Strongly dislike</td>\n",
       "      <td>...</td>\n",
       "      <td>NaN</td>\n",
       "      <td>Single</td>\n",
       "      <td>Yes, limited a lot</td>\n",
       "      <td>NaN</td>\n",
       "      <td>Bisexual</td>\n",
       "      <td>White British</td>\n",
       "      <td>GCSE</td>\n",
       "      <td>Left</td>\n",
       "      <td>7.0</td>\n",
       "      <td>Men</td>\n",
       "    </tr>\n",
       "    <tr>\n",
       "      <th>115588</th>\n",
       "      <td>115588</td>\n",
       "      <td>26</td>\n",
       "      <td>2.176923</td>\n",
       "      <td>Very likely that I would vote</td>\n",
       "      <td>Labour</td>\n",
       "      <td>Fairly strong</td>\n",
       "      <td>Labour</td>\n",
       "      <td>Labour</td>\n",
       "      <td>7</td>\n",
       "      <td>3</td>\n",
       "      <td>...</td>\n",
       "      <td>NaN</td>\n",
       "      <td>Married</td>\n",
       "      <td>NaN</td>\n",
       "      <td>NaN</td>\n",
       "      <td>Heterosexual</td>\n",
       "      <td>White British</td>\n",
       "      <td>Undergraduate</td>\n",
       "      <td>3.0</td>\n",
       "      <td>3.5</td>\n",
       "      <td>Men</td>\n",
       "    </tr>\n",
       "    <tr>\n",
       "      <th>115589</th>\n",
       "      <td>115589</td>\n",
       "      <td>26</td>\n",
       "      <td>0.800532</td>\n",
       "      <td>Very likely that I would vote</td>\n",
       "      <td>Labour</td>\n",
       "      <td>Fairly strong</td>\n",
       "      <td>Labour</td>\n",
       "      <td>Labour</td>\n",
       "      <td>7</td>\n",
       "      <td>Strongly dislike</td>\n",
       "      <td>...</td>\n",
       "      <td>NaN</td>\n",
       "      <td>NaN</td>\n",
       "      <td>NaN</td>\n",
       "      <td>NaN</td>\n",
       "      <td>Heterosexual</td>\n",
       "      <td>White British</td>\n",
       "      <td>Undergraduate</td>\n",
       "      <td>2.5</td>\n",
       "      <td>6.0</td>\n",
       "      <td>Men</td>\n",
       "    </tr>\n",
       "    <tr>\n",
       "      <th>115590</th>\n",
       "      <td>115590</td>\n",
       "      <td>26</td>\n",
       "      <td>2.732994</td>\n",
       "      <td>Very unlikely that I would vote</td>\n",
       "      <td>I would/did not vote</td>\n",
       "      <td>Not very strong</td>\n",
       "      <td>Conservative</td>\n",
       "      <td>No party is best able to handle this issue</td>\n",
       "      <td>4</td>\n",
       "      <td>3</td>\n",
       "      <td>...</td>\n",
       "      <td>NaN</td>\n",
       "      <td>NaN</td>\n",
       "      <td>NaN</td>\n",
       "      <td>No, I do not regard myself as belonging to any...</td>\n",
       "      <td>Heterosexual</td>\n",
       "      <td>White British</td>\n",
       "      <td>GCSE</td>\n",
       "      <td>1.5</td>\n",
       "      <td>6.0</td>\n",
       "      <td>Men</td>\n",
       "    </tr>\n",
       "  </tbody>\n",
       "</table>\n",
       "<p>30085 rows × 82 columns</p>\n",
       "</div>"
      ],
      "text/plain": [
       "         idW26  waveW26  weightW26              turnoutUKGeneralW26  \\\n",
       "id                                                                    \n",
       "9            9       26   0.430024    Very likely that I would vote   \n",
       "14          14       26   0.543611    Very likely that I would vote   \n",
       "18          18       26   0.438129    Very likely that I would vote   \n",
       "24          24       26   1.076325    Very likely that I would vote   \n",
       "30          30       26   0.570840    Very likely that I would vote   \n",
       "...        ...      ...        ...                              ...   \n",
       "115586  115586       26   2.867724    Very likely that I would vote   \n",
       "115587  115587       26   3.014036      Neither likely nor unlikely   \n",
       "115588  115588       26   2.176923    Very likely that I would vote   \n",
       "115589  115589       26   0.800532    Very likely that I would vote   \n",
       "115590  115590       26   2.732994  Very unlikely that I would vote   \n",
       "\n",
       "               generalElectionVoteW26 partyIdStrengthW26  \\\n",
       "id                                                         \n",
       "9                              Labour                NaN   \n",
       "14                       Conservative      Fairly strong   \n",
       "18      Scottish National Party (SNP)    Not very strong   \n",
       "24                        Green Party    Not very strong   \n",
       "30                        Green Party    Not very strong   \n",
       "...                               ...                ...   \n",
       "115586                   Conservative      Fairly strong   \n",
       "115587               Liberal Democrat      Fairly strong   \n",
       "115588                         Labour      Fairly strong   \n",
       "115589                         Labour      Fairly strong   \n",
       "115590           I would/did not vote    Not very strong   \n",
       "\n",
       "                           partyIdW26  \\\n",
       "id                                      \n",
       "9                           No - none   \n",
       "14                       Conservative   \n",
       "18      Scottish National Party (SNP)   \n",
       "24                        Green Party   \n",
       "30                             Labour   \n",
       "...                               ...   \n",
       "115586                   Conservative   \n",
       "115587               Liberal Democrat   \n",
       "115588                         Labour   \n",
       "115589                         Labour   \n",
       "115590                   Conservative   \n",
       "\n",
       "                                      bestOnMIIW26 polAttentionW26  \\\n",
       "id                                                                   \n",
       "9                                 Liberal Democrat               8   \n",
       "14                                    Conservative               6   \n",
       "18      No party is best able to handle this issue               7   \n",
       "24                                     Green Party               7   \n",
       "30      No party is best able to handle this issue               3   \n",
       "...                                            ...             ...   \n",
       "115586                                Conservative               7   \n",
       "115587                                  Don't know               7   \n",
       "115588                                      Labour               7   \n",
       "115589                                      Labour               7   \n",
       "115590  No party is best able to handle this issue               4   \n",
       "\n",
       "        likeConLeaderW26  ...                             p_job_sectorW26  \\\n",
       "id                        ...                                               \n",
       "9                      3  ...             Private sector - profit seeking   \n",
       "14                     9  ...                                        99.0   \n",
       "18      Strongly dislike  ...  Public sector - government owned or funded   \n",
       "24      Strongly dislike  ...  Public sector - government owned or funded   \n",
       "30                     7  ...  Public sector - government owned or funded   \n",
       "...                  ...  ...                                         ...   \n",
       "115586                 9  ...                                         NaN   \n",
       "115587  Strongly dislike  ...                                         NaN   \n",
       "115588                 3  ...                                         NaN   \n",
       "115589  Strongly dislike  ...                                         NaN   \n",
       "115590                 3  ...                                         NaN   \n",
       "\n",
       "                                             p_maritalW26  \\\n",
       "id                                                          \n",
       "9                                                  Single   \n",
       "14                                                Married   \n",
       "18                                                Married   \n",
       "24                                                Married   \n",
       "30      Living with a partner but neither married nor ...   \n",
       "...                                                   ...   \n",
       "115586                                             Single   \n",
       "115587                                             Single   \n",
       "115588                                            Married   \n",
       "115589                                                NaN   \n",
       "115590                                                NaN   \n",
       "\n",
       "              p_disabilityW26  \\\n",
       "id                              \n",
       "9                          No   \n",
       "14                         No   \n",
       "18         Yes, limited a lot   \n",
       "24                         No   \n",
       "30                         No   \n",
       "...                       ...   \n",
       "115586  Yes, limited a little   \n",
       "115587     Yes, limited a lot   \n",
       "115588                    NaN   \n",
       "115589                    NaN   \n",
       "115590                    NaN   \n",
       "\n",
       "                                            p_religionW26  p_sexualityW26  \\\n",
       "id                                                                          \n",
       "9       No, I do not regard myself as belonging to any...  Gay or lesbian   \n",
       "14             Yes - Church of England/Anglican/Episcopal    Heterosexual   \n",
       "18      No, I do not regard myself as belonging to any...    Heterosexual   \n",
       "24      No, I do not regard myself as belonging to any...    Heterosexual   \n",
       "30             Yes - Church of England/Anglican/Episcopal    Heterosexual   \n",
       "...                                                   ...             ...   \n",
       "115586                                                NaN    Heterosexual   \n",
       "115587                                                NaN        Bisexual   \n",
       "115588                                                NaN    Heterosexual   \n",
       "115589                                                NaN    Heterosexual   \n",
       "115590  No, I do not regard myself as belonging to any...    Heterosexual   \n",
       "\n",
       "                    p_ethnicityW26       p_edlevelW26 lr_scaleW26 al_scaleW26  \\\n",
       "id                                                                              \n",
       "9                    White British      Undergraduate         NaN         NaN   \n",
       "14                   White British  No qualifications         6.0         7.0   \n",
       "18      Any other white background           Postgrad        Left         0.5   \n",
       "24                   White British           Postgrad         0.5         3.0   \n",
       "30                   White British               GCSE         1.0         7.0   \n",
       "...                            ...                ...         ...         ...   \n",
       "115586               White British  No qualifications         0.5         7.5   \n",
       "115587               White British               GCSE        Left         7.0   \n",
       "115588               White British      Undergraduate         3.0         3.5   \n",
       "115589               White British      Undergraduate         2.5         6.0   \n",
       "115590               White British               GCSE         1.5         6.0   \n",
       "\n",
       "       genderW26  \n",
       "id                \n",
       "9            Men  \n",
       "14           Men  \n",
       "18           Men  \n",
       "24           Men  \n",
       "30        Female  \n",
       "...          ...  \n",
       "115586       Men  \n",
       "115587       Men  \n",
       "115588       Men  \n",
       "115589       Men  \n",
       "115590       Men  \n",
       "\n",
       "[30085 rows x 82 columns]"
      ]
     },
     "execution_count": 4,
     "metadata": {},
     "output_type": "execute_result"
    }
   ],
   "source": []
  },
  {
   "cell_type": "code",
   "execution_count": 6,
   "id": "8645ab0d",
   "metadata": {},
   "outputs": [],
   "source": [
    "BES_Panel[BES_PanelW26.columns] = BES_PanelW26"
   ]
  },
  {
   "cell_type": "code",
   "execution_count": 7,
   "id": "38628f6b",
   "metadata": {},
   "outputs": [
    {
     "data": {
      "text/plain": [
       "113066"
      ]
     },
     "execution_count": 7,
     "metadata": {},
     "output_type": "execute_result"
    }
   ],
   "source": [
    "BES_Panel.index.max()"
   ]
  },
  {
   "cell_type": "code",
   "execution_count": 9,
   "id": "3ba99235",
   "metadata": {},
   "outputs": [
    {
     "data": {
      "text/plain": [
       "27550"
      ]
     },
     "execution_count": 9,
     "metadata": {},
     "output_type": "execute_result"
    }
   ],
   "source": [
    "BES_Panel[\"waveW26\"].notnull().sum()"
   ]
  },
  {
   "cell_type": "code",
   "execution_count": null,
   "id": "0525d9ff",
   "metadata": {},
   "outputs": [],
   "source": []
  },
  {
   "cell_type": "code",
   "execution_count": 56,
   "id": "fc3ef24a",
   "metadata": {},
   "outputs": [
    {
     "data": {
      "text/plain": [
       "Series([], dtype: float64)"
      ]
     },
     "execution_count": 56,
     "metadata": {},
     "output_type": "execute_result"
    }
   ],
   "source": [
    "search(BES_PanelW26,\"country\")"
   ]
  },
  {
   "cell_type": "code",
   "execution_count": 14,
   "id": "02626dab",
   "metadata": {},
   "outputs": [],
   "source": [
    "BES_Panel[\"timesVotedConservative\"]=(BES_Panel[search(BES_Panel,\"p_past\").index]==\"Conservative\").sum(axis=1)"
   ]
  },
  {
   "cell_type": "code",
   "execution_count": 131,
   "id": "0ba4835c",
   "metadata": {},
   "outputs": [],
   "source": [
    "BES_Panel[\"timesVotedConservativeRecently\"]=(BES_Panel[search(BES_Panel,\"p_past_vote_20(15|17|19)\").index]==\"Conservative\").sum(axis=1)"
   ]
  },
  {
   "cell_type": "code",
   "execution_count": null,
   "id": "1ed9d254",
   "metadata": {},
   "outputs": [],
   "source": []
  },
  {
   "cell_type": "code",
   "execution_count": null,
   "id": "171eaac6",
   "metadata": {},
   "outputs": [],
   "source": []
  },
  {
   "cell_type": "code",
   "execution_count": 28,
   "id": "5fb336df",
   "metadata": {},
   "outputs": [],
   "source": [
    "BES_Panel[\"maxptvConEver\"]=BES_Panel[search(BES_Panel,\"ptvCon\").index].apply(lambda x: x.replace(\"Don't know\").cat.codes.replace(-1,np.nan)).max(axis=1)"
   ]
  },
  {
   "cell_type": "code",
   "execution_count": 29,
   "id": "19357daa",
   "metadata": {},
   "outputs": [
    {
     "data": {
      "text/plain": [
       "<Axes: xlabel='maxptvConEver', ylabel='timesVotedConservative'>"
      ]
     },
     "execution_count": 29,
     "metadata": {},
     "output_type": "execute_result"
    },
    {
     "data": {
      "image/png": "[encoded data removed]",
      "text/plain": [
       "<Figure size 640x480 with 1 Axes>"
      ]
     },
     "metadata": {},
     "output_type": "display_data"
    }
   ],
   "source": [
    "sns.lineplot(x=BES_Panel[\"maxptvConEver\"],y=BES_Panel[\"timesVotedConservative\"])"
   ]
  },
  {
   "cell_type": "code",
   "execution_count": 31,
   "id": "7439f0e7",
   "metadata": {},
   "outputs": [
    {
     "data": {
      "text/plain": [
       "maxptvConEver\n",
       "0.0     30754\n",
       "1.0      4127\n",
       "2.0      4531\n",
       "3.0      4351\n",
       "4.0      3010\n",
       "5.0      6084\n",
       "6.0      4236\n",
       "7.0      5609\n",
       "8.0      6380\n",
       "9.0      4270\n",
       "10.0    28687\n",
       "Name: count, dtype: int64"
      ]
     },
     "execution_count": 31,
     "metadata": {},
     "output_type": "execute_result"
    }
   ],
   "source": [
    "BES_Panel[\"maxptvConEver\"].value_counts().sort_index()"
   ]
  },
  {
   "cell_type": "code",
   "execution_count": 32,
   "id": "a4e45527",
   "metadata": {},
   "outputs": [
    {
     "data": {
      "text/plain": [
       "generalElectionVoteW1              30546\n",
       "generalElectionVoteW2              30882\n",
       "generalElectionVoteW3              28561\n",
       "generalElectionVoteW4              31547\n",
       "generalElectionVoteUnsqueezeW4     20884\n",
       "generalElectionVoteSqueezeW4        9399\n",
       "generalElectionVoteW5              30508\n",
       "generalElectionVotePostW5           3241\n",
       "generalElectionVoteUnsqueezeW5     19487\n",
       "generalElectionVoteSqueezeW5        6814\n",
       "generalElectionVoteW6              27838\n",
       "generalElectionVoteW7              30895\n",
       "generalElectionVoteW8              33502\n",
       "generalElectionVoteW9              30036\n",
       "generalElectionVoteW10             30237\n",
       "generalElectionVoteW11             30956\n",
       "generalElectionVoteUnsqueezeW11    20488\n",
       "generalElectionVoteSqueezeW11       9330\n",
       "generalElectionVoteW12             34394\n",
       "generalElectionVotePostW12          4335\n",
       "generalElectionVoteUnsqueezeW12    21316\n",
       "generalElectionVoteSqueezeW12       7389\n",
       "generalElectionVoteW13             28296\n",
       "generalElectionVoteW14             31063\n",
       "generalElectionVoteW15             30572\n",
       "generalElectionVoteTIGW15          30502\n",
       "generalElectionVoteW16             37959\n",
       "generalElectionVoteW17             33992\n",
       "generalElectionVoteUnsqueezeW17    20409\n",
       "generalElectionVoteSqueezeW17      11672\n",
       "generalElectionVoteW18             37372\n",
       "generalElectionVotePostW18          5028\n",
       "generalElectionVoteUnsqueezeW18    22183\n",
       "generalElectionVoteSqueezeW18       8463\n",
       "generalElectionVoteRetro2017W18     8063\n",
       "generalElectionVoteW19             28901\n",
       "generalElectionVoteNonVoterW19      3116\n",
       "generalElectionVoteW20             30956\n",
       "generalElectionVoteW21             29753\n",
       "generalElectionVoteW22             27607\n",
       "generalElectionVoteW23             30400\n",
       "generalElectionVoteW24             15118\n",
       "generalElectionVoteW25             29983\n",
       "generalElectionVoteW26             27130\n",
       "dtype: int64"
      ]
     },
     "execution_count": 32,
     "metadata": {},
     "output_type": "execute_result"
    }
   ],
   "source": [
    "search(BES_Panel,\"generalElectionVote\")"
   ]
  },
  {
   "cell_type": "code",
   "execution_count": 40,
   "id": "ca7444a1",
   "metadata": {},
   "outputs": [
    {
     "data": {
      "text/plain": [
       "generalElectionVoteW26\n",
       "Conservative                                29.940541\n",
       "Don't know                                  21.411674\n",
       "Labour                                      16.801995\n",
       "Brexit Party/Reform UK                      15.926092\n",
       "Liberal Democrat                             5.913944\n",
       "I would/did not vote                         5.229845\n",
       "Green Party                                  2.378365\n",
       "Other                                        1.675085\n",
       "Scottish National Party (SNP)                0.485902\n",
       "Plaid Cymru                                  0.236558\n",
       "United Kingdom Independence Party (UKIP)     0.000000\n",
       "British National Party (BNP)                 0.000000\n",
       "Change UK- The Independent Group             0.000000\n",
       "An independent candidate                     0.000000\n",
       "Name: proportion, dtype: float64"
      ]
     },
     "execution_count": 40,
     "metadata": {},
     "output_type": "execute_result"
    }
   ],
   "source": [
    "BES_Panel[\"generalElectionVoteW26\"][BES_Panel[\"maxptvConEver\"]>=6].value_counts(normalize=True)*100"
   ]
  },
  {
   "cell_type": "code",
   "execution_count": 46,
   "id": "455aa96a",
   "metadata": {},
   "outputs": [
    {
     "data": {
      "text/plain": [
       "p_past_vote_2019\n",
       "Conservative                                69.557335\n",
       "Labour                                      11.361614\n",
       "Liberal Democrat                             9.947592\n",
       "Brexit Party/Reform UK                       2.772010\n",
       "Green Party                                  2.116088\n",
       "Other                                        1.186592\n",
       "Don't know                                   1.160223\n",
       "Scottish National Party (SNP)                1.110782\n",
       "An independent candidate                     0.398827\n",
       "Plaid Cymru                                  0.326313\n",
       "United Kingdom Independence Party (UKIP)     0.062626\n",
       "Name: proportion, dtype: float64"
      ]
     },
     "execution_count": 46,
     "metadata": {},
     "output_type": "execute_result"
    }
   ],
   "source": [
    "(BES_Panel[\"p_past_vote_2019\"][BES_Panel[\"maxptvConEver\"]>=6].value_counts(normalize=True)*100)"
   ]
  },
  {
   "cell_type": "code",
   "execution_count": 42,
   "id": "51101730",
   "metadata": {},
   "outputs": [
    {
     "data": {
      "text/plain": [
       "generalElectionVoteW26\n",
       "Conservative                                31.805198\n",
       "Don't know                                  21.305650\n",
       "Brexit Party/Reform UK                      17.236815\n",
       "Labour                                      15.362642\n",
       "Liberal Democrat                             5.511043\n",
       "I would/did not vote                         4.340556\n",
       "Green Party                                  2.118024\n",
       "Other                                        1.811468\n",
       "Scottish National Party (SNP)                0.306556\n",
       "Plaid Cymru                                  0.202048\n",
       "United Kingdom Independence Party (UKIP)     0.000000\n",
       "British National Party (BNP)                 0.000000\n",
       "Change UK- The Independent Group             0.000000\n",
       "An independent candidate                     0.000000\n",
       "Name: proportion, dtype: float64"
      ]
     },
     "execution_count": 42,
     "metadata": {},
     "output_type": "execute_result"
    }
   ],
   "source": [
    "BES_Panel[\"generalElectionVoteW26\"][BES_Panel[\"timesVotedConservative\"]>=1].value_counts(normalize=True)*100"
   ]
  },
  {
   "cell_type": "code",
   "execution_count": 44,
   "id": "9e813b59",
   "metadata": {},
   "outputs": [
    {
     "data": {
      "text/plain": [
       "p_past_vote_2019\n",
       "Conservative                                77.410468\n",
       "Liberal Democrat                             8.611366\n",
       "Labour                                       7.584260\n",
       "Brexit Party/Reform UK                       1.914771\n",
       "Green Party                                  1.649492\n",
       "Other                                        0.942081\n",
       "Don't know                                   0.700609\n",
       "Scottish National Party (SNP)                0.595177\n",
       "An independent candidate                     0.329898\n",
       "Plaid Cymru                                  0.224467\n",
       "United Kingdom Independence Party (UKIP)     0.037411\n",
       "Name: proportion, dtype: float64"
      ]
     },
     "execution_count": 44,
     "metadata": {},
     "output_type": "execute_result"
    }
   ],
   "source": [
    "BES_Panel[\"p_past_vote_2019\"][BES_Panel[\"timesVotedConservative\"]>=1].value_counts(normalize=True)*100"
   ]
  },
  {
   "cell_type": "code",
   "execution_count": 41,
   "id": "7e6a124f",
   "metadata": {},
   "outputs": [
    {
     "data": {
      "text/plain": [
       "generalElectionVoteW26\n",
       "Conservative                                38.815789\n",
       "Don't know                                  21.546053\n",
       "Brexit Party/Reform UK                      20.481811\n",
       "Labour                                       9.384675\n",
       "I would/did not vote                         3.821594\n",
       "Liberal Democrat                             2.912152\n",
       "Other                                        1.693111\n",
       "Green Party                                  1.160991\n",
       "Scottish National Party (SNP)                0.096749\n",
       "Plaid Cymru                                  0.087074\n",
       "United Kingdom Independence Party (UKIP)     0.000000\n",
       "British National Party (BNP)                 0.000000\n",
       "Change UK- The Independent Group             0.000000\n",
       "An independent candidate                     0.000000\n",
       "Name: proportion, dtype: float64"
      ]
     },
     "execution_count": 41,
     "metadata": {},
     "output_type": "execute_result"
    }
   ],
   "source": [
    "BES_Panel[\"generalElectionVoteW26\"][BES_Panel[\"p_past_vote_2019\"]==\"Conservative\"].value_counts(normalize=True)*100"
   ]
  },
  {
   "cell_type": "code",
   "execution_count": null,
   "id": "7dbdc7c2",
   "metadata": {},
   "outputs": [],
   "source": [
    "# add weights, restrict to England to make life easier?\n",
    "# reassign DKs based on their past vote/like<party> and actual election %?\n",
    "\n"
   ]
  },
  {
   "cell_type": "code",
   "execution_count": 55,
   "id": "9a046762",
   "metadata": {},
   "outputs": [
    {
     "data": {
      "text/plain": [
       "abroadCountry_1W8               5258\n",
       "abroadCountry_2W8               5258\n",
       "motherCountryBornW8            24295\n",
       "fatherCountryBornW8            24295\n",
       "automationEffectsCountryW16     9330\n",
       "environCountrysideW25           7636\n",
       "countryW1                      30587\n",
       "countryW2                      30221\n",
       "countryW3                      28104\n",
       "countryW4                      31552\n",
       "countryW5                      30809\n",
       "countryW6                      30131\n",
       "countryW7                      30895\n",
       "countryW8                      33502\n",
       "countryW9                      30036\n",
       "countryW10                     30214\n",
       "countryW11                     30956\n",
       "countryW12                     34394\n",
       "countryW13                     31114\n",
       "countryW14                     31063\n",
       "countryW15                     30842\n",
       "countryW16                     37959\n",
       "countryW17                     34366\n",
       "countryW18                     37825\n",
       "countryW19                     32177\n",
       "countryW20                     31468\n",
       "countryW21                     30281\n",
       "countryW22                     28113\n",
       "countryW23                     30949\n",
       "countryW24                     15439\n",
       "countryW25                     30407\n",
       "p_country_birthW1               3089\n",
       "p_country_birthW2              26550\n",
       "p_country_birthW3              25578\n",
       "p_country_birthW4              27482\n",
       "p_country_birthW5              27676\n",
       "p_country_birthW6              27455\n",
       "p_country_birthW7              27655\n",
       "p_country_birthW8              31566\n",
       "p_country_birthW9              28723\n",
       "p_country_birthW10             28175\n",
       "p_country_birthW11             28944\n",
       "p_country_birthW12             32268\n",
       "p_country_birthW13             29814\n",
       "p_country_birthW14             29609\n",
       "p_country_birthW15             29274\n",
       "p_country_birthW16             34617\n",
       "p_country_birthW17             32784\n",
       "p_country_birthW18             36640\n",
       "p_country_birthW19             31440\n",
       "p_country_birthW20             30247\n",
       "p_country_birthW21             30279\n",
       "p_country_birthW22             28070\n",
       "p_country_birthW23             30894\n",
       "p_country_birthW24             15427\n",
       "p_country_birthW25             30387\n",
       "weightW26                      27540\n",
       "dtype: int64"
      ]
     },
     "execution_count": 55,
     "metadata": {},
     "output_type": "execute_result"
    }
   ],
   "source": [
    "search(BES_Panel,\"^weightW26|country\")"
   ]
  },
  {
   "cell_type": "code",
   "execution_count": 62,
   "id": "66d19c67",
   "metadata": {},
   "outputs": [],
   "source": [
    "country = BES_Panel[search(BES_Panel,\"^country\").index].fillna(method='ffill',axis=1)[\"countryW25\"]"
   ]
  },
  {
   "cell_type": "code",
   "execution_count": 68,
   "id": "50344a4d",
   "metadata": {},
   "outputs": [
    {
     "data": {
      "text/html": [
       "<div>\n",
       "<style scoped>\n",
       "    .dataframe tbody tr th:only-of-type {\n",
       "        vertical-align: middle;\n",
       "    }\n",
       "\n",
       "    .dataframe tbody tr th {\n",
       "        vertical-align: top;\n",
       "    }\n",
       "\n",
       "    .dataframe thead th {\n",
       "        text-align: right;\n",
       "    }\n",
       "</style>\n",
       "<table border=\"1\" class=\"dataframe\">\n",
       "  <thead>\n",
       "    <tr style=\"text-align: right;\">\n",
       "      <th></th>\n",
       "      <th>weighted_sample_percentage</th>\n",
       "      <th>raw_sample_size</th>\n",
       "    </tr>\n",
       "    <tr>\n",
       "      <th>generalElectionVoteW26</th>\n",
       "      <th></th>\n",
       "      <th></th>\n",
       "    </tr>\n",
       "  </thead>\n",
       "  <tbody>\n",
       "    <tr>\n",
       "      <th>GRN</th>\n",
       "      <td>1.48</td>\n",
       "      <td>117</td>\n",
       "    </tr>\n",
       "    <tr>\n",
       "      <th>OTH</th>\n",
       "      <td>1.72</td>\n",
       "      <td>148</td>\n",
       "    </tr>\n",
       "    <tr>\n",
       "      <th>LD</th>\n",
       "      <td>3.21</td>\n",
       "      <td>270</td>\n",
       "    </tr>\n",
       "    <tr>\n",
       "      <th>DNV</th>\n",
       "      <td>5.01</td>\n",
       "      <td>364</td>\n",
       "    </tr>\n",
       "    <tr>\n",
       "      <th>LAB</th>\n",
       "      <td>10.12</td>\n",
       "      <td>791</td>\n",
       "    </tr>\n",
       "    <tr>\n",
       "      <th>REF</th>\n",
       "      <td>20.03</td>\n",
       "      <td>1913</td>\n",
       "    </tr>\n",
       "    <tr>\n",
       "      <th>DK</th>\n",
       "      <td>22.03</td>\n",
       "      <td>1979</td>\n",
       "    </tr>\n",
       "    <tr>\n",
       "      <th>CON</th>\n",
       "      <td>35.09</td>\n",
       "      <td>3507</td>\n",
       "    </tr>\n",
       "  </tbody>\n",
       "</table>\n",
       "</div>"
      ],
      "text/plain": [
       "                        weighted_sample_percentage  raw_sample_size\n",
       "generalElectionVoteW26                                             \n",
       "GRN                                           1.48              117\n",
       "OTH                                           1.72              148\n",
       "LD                                            3.21              270\n",
       "DNV                                           5.01              364\n",
       "LAB                                          10.12              791\n",
       "REF                                          20.03             1913\n",
       "DK                                           22.03             1979\n",
       "CON                                          35.09             3507"
      ]
     },
     "execution_count": 68,
     "metadata": {},
     "output_type": "execute_result"
    }
   ],
   "source": [
    "mask = (BES_Panel[\"p_past_vote_2019\"]==\"Conservative\")&(country==\"England\")\n",
    "\n",
    "vi_replace_dict = {'I would/did not vote':\"DNV\", 'Conservative':\"CON\", 'Labour':\"LAB\", 'Liberal Democrat':\"LD\",\n",
    "       'Scottish National Party (SNP)':np.nan, 'Plaid Cymru':np.nan, #england only!\n",
    "       'United Kingdom Independence Party (UKIP)':np.nan, 'Green Party':\"GRN\",\n",
    "       'British National Party (BNP)':np.nan, 'Other':\"OTH\",\n",
    "       'Change UK- The Independent Group':np.nan, 'Brexit Party/Reform UK':\"REF\",\n",
    "       'An independent candidate':\"OTH\", \"Don't know\":\"DK\"}\n",
    "\n",
    "wvc = weighted_value_counts(BES_Panel[\"generalElectionVoteW26\"][mask].astype('object').replace(vi_replace_dict),\n",
    "                      BES_Panel[\"weightW26\"][mask],normalize=True,perc=True)\n",
    "wvc[\"raw_sample_size\"] = wvc[\"raw_sample_size\"].astype(int)\n",
    "wvc\n"
   ]
  },
  {
   "cell_type": "code",
   "execution_count": 76,
   "id": "2e633dd4",
   "metadata": {},
   "outputs": [
    {
     "data": {
      "text/html": [
       "<div>\n",
       "<style scoped>\n",
       "    .dataframe tbody tr th:only-of-type {\n",
       "        vertical-align: middle;\n",
       "    }\n",
       "\n",
       "    .dataframe tbody tr th {\n",
       "        vertical-align: top;\n",
       "    }\n",
       "\n",
       "    .dataframe thead th {\n",
       "        text-align: right;\n",
       "    }\n",
       "</style>\n",
       "<table border=\"1\" class=\"dataframe\">\n",
       "  <thead>\n",
       "    <tr style=\"text-align: right;\">\n",
       "      <th></th>\n",
       "      <th>weighted_sample_percentage</th>\n",
       "      <th>raw_sample_size</th>\n",
       "    </tr>\n",
       "    <tr>\n",
       "      <th>p_past_vote_2019</th>\n",
       "      <th></th>\n",
       "      <th></th>\n",
       "    </tr>\n",
       "  </thead>\n",
       "  <tbody>\n",
       "    <tr>\n",
       "      <th>OTH</th>\n",
       "      <td>0.94</td>\n",
       "      <td>182</td>\n",
       "    </tr>\n",
       "    <tr>\n",
       "      <th>GRN</th>\n",
       "      <td>1.26</td>\n",
       "      <td>208</td>\n",
       "    </tr>\n",
       "    <tr>\n",
       "      <th>BXP&amp;UKIP</th>\n",
       "      <td>1.80</td>\n",
       "      <td>240</td>\n",
       "    </tr>\n",
       "    <tr>\n",
       "      <th>LAB</th>\n",
       "      <td>6.48</td>\n",
       "      <td>799</td>\n",
       "    </tr>\n",
       "    <tr>\n",
       "      <th>LD</th>\n",
       "      <td>7.53</td>\n",
       "      <td>1060</td>\n",
       "    </tr>\n",
       "    <tr>\n",
       "      <th>CON</th>\n",
       "      <td>72.91</td>\n",
       "      <td>9169</td>\n",
       "    </tr>\n",
       "  </tbody>\n",
       "</table>\n",
       "</div>"
      ],
      "text/plain": [
       "                  weighted_sample_percentage  raw_sample_size\n",
       "p_past_vote_2019                                             \n",
       "OTH                                     0.94              182\n",
       "GRN                                     1.26              208\n",
       "BXP&UKIP                                1.80              240\n",
       "LAB                                     6.48              799\n",
       "LD                                      7.53             1060\n",
       "CON                                    72.91             9169"
      ]
     },
     "execution_count": 76,
     "metadata": {},
     "output_type": "execute_result"
    }
   ],
   "source": [
    "BES_Panel[\"p_past_vote_2019\"].cat.categories\n",
    "\n",
    "pv_2019_replace_dict = {'Conservative':\"CON\", 'Labour':\"LAB\", 'Liberal Democrat':\"LD\",\n",
    "       'Scottish National Party (SNP)':np.nan, 'Plaid Cymru':np.nan,\n",
    "       'United Kingdom Independence Party (UKIP)':\"BXP&UKIP\", 'Green Party':\"GRN\", 'Other':\"OTH\",\n",
    "       'Brexit Party/Reform UK':\"BXP&UKIP\", 'An independent candidate':\"OTH\", \"Don't know\":np.nan}\n",
    "\n",
    "mask = (BES_Panel[\"timesVotedConservative\"]>=1)&(country==\"England\")\n",
    "\n",
    "wvc = weighted_value_counts(BES_Panel[\"p_past_vote_2019\"][mask].astype('object').replace(pv_2019_replace_dict),\n",
    "                      BES_Panel[\"weightW26\"][mask],normalize=True,perc=True)\n",
    "wvc[\"raw_sample_size\"] = wvc[\"raw_sample_size\"].astype(int)\n",
    "wvc"
   ]
  },
  {
   "cell_type": "code",
   "execution_count": 72,
   "id": "6e156d18",
   "metadata": {},
   "outputs": [
    {
     "data": {
      "text/plain": [
       "p_past_vote_2019\n",
       "Conservative                                22761\n",
       "Labour                                      17991\n",
       "Liberal Democrat                             6910\n",
       "Scottish National Party (SNP)                2633\n",
       "Green Party                                  1884\n",
       "Brexit Party/Reform UK                       1228\n",
       "Don't know                                    831\n",
       "Other                                         765\n",
       "Plaid Cymru                                   392\n",
       "An independent candidate                      229\n",
       "United Kingdom Independence Party (UKIP)       32\n",
       "Name: count, dtype: int64"
      ]
     },
     "execution_count": 72,
     "metadata": {},
     "output_type": "execute_result"
    }
   ],
   "source": [
    "BES_Panel[\"p_past_vote_2019\"].value_counts()"
   ]
  },
  {
   "cell_type": "code",
   "execution_count": 91,
   "id": "cc48bd82",
   "metadata": {},
   "outputs": [
    {
     "data": {
      "text/plain": [
       "LAB    34.4\n",
       "CON    25.9\n",
       "LD     13.2\n",
       "REF    15.3\n",
       "GRN     7.3\n",
       "OTH     3.9\n",
       "dtype: float64"
      ]
     },
     "execution_count": 91,
     "metadata": {},
     "output_type": "execute_result"
    }
   ],
   "source": [
    "## England Vote 2024\n",
    "\n",
    "# Turnout 60%\n",
    "# LAB 34.4\n",
    "# CON 25.9\n",
    "# LD 13.2\n",
    "# REF 15.3\n",
    "# GRN 7.3\n",
    "## 96.1\n",
    "# OTH 3.9\n",
    "\n",
    "# Speaker .1, Workers PArty .9, SDP .1, Independent 2.1\n",
    "\n",
    "# Galloway's Workers Party not totally trivial\n",
    "\n",
    "\n",
    "actual_vote_dist = {\"LAB\":34.4,\"CON\":25.9,\"LD\":13.2,\"REF\":15.3,\"GRN\":7.3,\"OTH\":3.9}\n",
    "# sum(list(actual_vote_dist.values()))\n",
    "pd.Series(actual_vote_dist)"
   ]
  },
  {
   "cell_type": "code",
   "execution_count": 79,
   "id": "6ac14851",
   "metadata": {},
   "outputs": [
    {
     "data": {
      "text/html": [
       "<div>\n",
       "<style scoped>\n",
       "    .dataframe tbody tr th:only-of-type {\n",
       "        vertical-align: middle;\n",
       "    }\n",
       "\n",
       "    .dataframe tbody tr th {\n",
       "        vertical-align: top;\n",
       "    }\n",
       "\n",
       "    .dataframe thead th {\n",
       "        text-align: right;\n",
       "    }\n",
       "</style>\n",
       "<table border=\"1\" class=\"dataframe\">\n",
       "  <thead>\n",
       "    <tr style=\"text-align: right;\">\n",
       "      <th></th>\n",
       "      <th>weighted_sample_percentage</th>\n",
       "      <th>raw_sample_size</th>\n",
       "    </tr>\n",
       "    <tr>\n",
       "      <th>generalElectionVoteW26</th>\n",
       "      <th></th>\n",
       "      <th></th>\n",
       "    </tr>\n",
       "  </thead>\n",
       "  <tbody>\n",
       "    <tr>\n",
       "      <th>OTH</th>\n",
       "      <td>1.90</td>\n",
       "      <td>430</td>\n",
       "    </tr>\n",
       "    <tr>\n",
       "      <th>GRN</th>\n",
       "      <td>5.11</td>\n",
       "      <td>1134</td>\n",
       "    </tr>\n",
       "    <tr>\n",
       "      <th>LD</th>\n",
       "      <td>6.50</td>\n",
       "      <td>1657</td>\n",
       "    </tr>\n",
       "    <tr>\n",
       "      <th>DNV</th>\n",
       "      <td>10.12</td>\n",
       "      <td>1520</td>\n",
       "    </tr>\n",
       "    <tr>\n",
       "      <th>REF</th>\n",
       "      <td>10.32</td>\n",
       "      <td>2602</td>\n",
       "    </tr>\n",
       "    <tr>\n",
       "      <th>CON</th>\n",
       "      <td>15.48</td>\n",
       "      <td>4133</td>\n",
       "    </tr>\n",
       "    <tr>\n",
       "      <th>DK</th>\n",
       "      <td>17.49</td>\n",
       "      <td>3985</td>\n",
       "    </tr>\n",
       "    <tr>\n",
       "      <th>LAB</th>\n",
       "      <td>30.65</td>\n",
       "      <td>7109</td>\n",
       "    </tr>\n",
       "  </tbody>\n",
       "</table>\n",
       "</div>"
      ],
      "text/plain": [
       "                        weighted_sample_percentage  raw_sample_size\n",
       "generalElectionVoteW26                                             \n",
       "OTH                                           1.90              430\n",
       "GRN                                           5.11             1134\n",
       "LD                                            6.50             1657\n",
       "DNV                                          10.12             1520\n",
       "REF                                          10.32             2602\n",
       "CON                                          15.48             4133\n",
       "DK                                           17.49             3985\n",
       "LAB                                          30.65             7109"
      ]
     },
     "execution_count": 79,
     "metadata": {},
     "output_type": "execute_result"
    }
   ],
   "source": [
    "mask = (country==\"England\")\n",
    "\n",
    "wvc = weighted_value_counts(BES_Panel[\"generalElectionVoteW26\"][mask].astype('object').replace(vi_replace_dict),\n",
    "                      BES_Panel[\"weightW26\"][mask],normalize=True,perc=True)\n",
    "wvc[\"raw_sample_size\"] = wvc[\"raw_sample_size\"].astype(int)\n",
    "wvc"
   ]
  },
  {
   "cell_type": "code",
   "execution_count": 92,
   "id": "b93e33a0",
   "metadata": {},
   "outputs": [
    {
     "name": "stdout",
     "output_type": "stream",
     "text": [
      "generalElectionVoteW26\n",
      "OTH     2.172670\n",
      "GRN     5.843339\n",
      "LD      7.432819\n",
      "REF    11.801029\n",
      "CON    17.701544\n",
      "DK     20.000000\n",
      "LAB    35.048599\n",
      "Name: weighted_sample_percentage, dtype: float64\n",
      "generalElectionVoteW26\n",
      "OTH     2.715838\n",
      "GRN     7.304174\n",
      "LD      9.291023\n",
      "REF    14.751286\n",
      "CON    22.126930\n",
      "LAB    43.810749\n",
      "Name: weighted_sample_percentage, dtype: float64\n"
     ]
    }
   ],
   "source": [
    "approx_vote_dist = wvc[\"weighted_sample_percentage\"].drop(\"DNV\")\n",
    "approx_vote_dist = approx_vote_dist/(approx_vote_dist.sum()/100)\n",
    "print(approx_vote_dist)\n",
    "\n",
    "\n",
    "approx_vote_dist = approx_vote_dist.drop(\"DK\")\n",
    "approx_vote_dist = approx_vote_dist/(approx_vote_dist.sum()/100)\n",
    "print(approx_vote_dist)"
   ]
  },
  {
   "cell_type": "code",
   "execution_count": 94,
   "id": "4835214f",
   "metadata": {},
   "outputs": [
    {
     "data": {
      "text/plain": [
       "119.78169866567542"
      ]
     },
     "execution_count": 94,
     "metadata": {},
     "output_type": "execute_result"
    }
   ],
   "source": [
    "## don't even try to track non-voting!\n",
    "\n",
    "def evaluate_vote_dist(approx_vote_dist,actual_vote_dist):\n",
    "    \n",
    "    return (pd.Series(actual_vote_dist) - pd.Series(approx_vote_dist)).apply(lambda x: x*x).sum()\n",
    "    \n",
    "evaluate_vote_dist(approx_vote_dist,actual_vote_dist)    "
   ]
  },
  {
   "cell_type": "code",
   "execution_count": 96,
   "id": "811a7613",
   "metadata": {},
   "outputs": [
    {
     "data": {
      "text/plain": [
       "likeConW1           15335\n",
       "likeConW2           15369\n",
       "likeConW3           13854\n",
       "likeConW4           15695\n",
       "likeConW5           15443\n",
       "likeConW6           15008\n",
       "likeConW7           30895\n",
       "likeConW8           33502\n",
       "likeConW9           30036\n",
       "likeConW10          30237\n",
       "likeConW11          30956\n",
       "likeConW12          34394\n",
       "likeConW13          31135\n",
       "likeConW14          31063\n",
       "likeConW15          30842\n",
       "likeConW16          37959\n",
       "likeConW17          34366\n",
       "likeConW18          37825\n",
       "likeConW19          32177\n",
       "likeConW20          31468\n",
       "likeConW21          30281\n",
       "likeConW22          28113\n",
       "likeConW23          30949\n",
       "likeConW24          15405\n",
       "likeConW25          30407\n",
       "likeConLeaderW26    27540\n",
       "likeConW26          27540\n",
       "dtype: int64"
      ]
     },
     "execution_count": 96,
     "metadata": {},
     "output_type": "execute_result"
    }
   ],
   "source": [
    "search(BES_Panel,\"likeCon\")"
   ]
  },
  {
   "cell_type": "code",
   "execution_count": 99,
   "id": "be326e7d",
   "metadata": {},
   "outputs": [
    {
     "data": {
      "text/plain": [
       "Index(['likeConLeaderW26', 'likeLabLeaderW26', 'likeLDLeaderW26',\n",
       "       'likePCLeaderW26', 'likeBrexitLeaderW26', 'likeSNPLeaderW26',\n",
       "       'likeConW26', 'likeLabW26', 'likeLDW26', 'likeSNPW26', 'likePCW26',\n",
       "       'likeBrexitPartyW26'],\n",
       "      dtype='object')"
      ]
     },
     "execution_count": 99,
     "metadata": {},
     "output_type": "execute_result"
    }
   ],
   "source": [
    "mask = (country==\"England\") & (BES_Panel[\"generalElectionVoteW26\"]==\"Don't know\")\n",
    "\n",
    "BES_Panel[search(BES_Panel,\"like.*W26\").index][mask].columns"
   ]
  },
  {
   "cell_type": "code",
   "execution_count": 103,
   "id": "43f464c2",
   "metadata": {},
   "outputs": [
    {
     "data": {
      "text/plain": [
       "likeConW26            2019\n",
       "likeLabW26             764\n",
       "likeLDW26              503\n",
       "likeBrexitPartyW26     428\n",
       "Name: count, dtype: int64"
      ]
     },
     "execution_count": 103,
     "metadata": {},
     "output_type": "execute_result"
    }
   ],
   "source": [
    "likeCols = [ 'likeConW26', 'likeLabW26', 'likeLDW26',  'likeBrexitPartyW26' ]\n",
    "BES_Panel[likeCols][mask].apply(lambda x: x.replace(\"Don't know\",np.nan).cat.codes.replace(-1,np.nan)).idxmax(axis=1).value_counts()\n"
   ]
  },
  {
   "cell_type": "code",
   "execution_count": 105,
   "id": "550996cf",
   "metadata": {},
   "outputs": [],
   "source": []
  },
  {
   "cell_type": "code",
   "execution_count": 110,
   "id": "d325987a",
   "metadata": {},
   "outputs": [],
   "source": [
    "BES_Panel[\"generalElectionVoteW26_reassigned\"] = BES_Panel[\"generalElectionVoteW26\"].copy().astype('object')\n",
    "DK_reassignment = BES_Panel[likeCols][mask].apply(lambda x: x.replace(\"Don't know\",np.nan).cat.codes.replace(-1,np.nan)).idxmax(axis=1)\n",
    "DK_replace_dict = {\"likeConW26\":\"CON\",\"likeLabW26\":\"LAB\",\"likeLDW26\":\"LD\",\"likeBrexitPartyW26\":\"REF\"}\n",
    "DK_reassignment = DK_reassignment.replace(DK_replace_dict).astype('object')\n",
    "\n",
    "\n",
    "BES_Panel.loc[mask,\"generalElectionVoteW26_reassigned\"] = DK_reassignment.astype('object')"
   ]
  },
  {
   "cell_type": "code",
   "execution_count": 121,
   "id": "90f57070",
   "metadata": {},
   "outputs": [
    {
     "data": {
      "text/html": [
       "<div>\n",
       "<style scoped>\n",
       "    .dataframe tbody tr th:only-of-type {\n",
       "        vertical-align: middle;\n",
       "    }\n",
       "\n",
       "    .dataframe tbody tr th {\n",
       "        vertical-align: top;\n",
       "    }\n",
       "\n",
       "    .dataframe thead th {\n",
       "        text-align: right;\n",
       "    }\n",
       "</style>\n",
       "<table border=\"1\" class=\"dataframe\">\n",
       "  <thead>\n",
       "    <tr style=\"text-align: right;\">\n",
       "      <th></th>\n",
       "      <th>weighted_sample_percentage</th>\n",
       "      <th>raw_sample_size</th>\n",
       "    </tr>\n",
       "    <tr>\n",
       "      <th>generalElectionVoteW26_reassigned</th>\n",
       "      <th></th>\n",
       "      <th></th>\n",
       "    </tr>\n",
       "  </thead>\n",
       "  <tbody>\n",
       "    <tr>\n",
       "      <th>OTH</th>\n",
       "      <td>2.216519</td>\n",
       "      <td>430</td>\n",
       "    </tr>\n",
       "    <tr>\n",
       "      <th>GRN</th>\n",
       "      <td>5.961269</td>\n",
       "      <td>1134</td>\n",
       "    </tr>\n",
       "    <tr>\n",
       "      <th>LD</th>\n",
       "      <td>10.055996</td>\n",
       "      <td>2160</td>\n",
       "    </tr>\n",
       "    <tr>\n",
       "      <th>REF</th>\n",
       "      <td>14.104060</td>\n",
       "      <td>3030</td>\n",
       "    </tr>\n",
       "    <tr>\n",
       "      <th>CON</th>\n",
       "      <td>27.869809</td>\n",
       "      <td>6152</td>\n",
       "    </tr>\n",
       "    <tr>\n",
       "      <th>LAB</th>\n",
       "      <td>39.792347</td>\n",
       "      <td>7873</td>\n",
       "    </tr>\n",
       "  </tbody>\n",
       "</table>\n",
       "</div>"
      ],
      "text/plain": [
       "                                   weighted_sample_percentage  raw_sample_size\n",
       "generalElectionVoteW26_reassigned                                             \n",
       "OTH                                                  2.216519              430\n",
       "GRN                                                  5.961269             1134\n",
       "LD                                                  10.055996             2160\n",
       "REF                                                 14.104060             3030\n",
       "CON                                                 27.869809             6152\n",
       "LAB                                                 39.792347             7873"
      ]
     },
     "execution_count": 121,
     "metadata": {},
     "output_type": "execute_result"
    }
   ],
   "source": [
    "mask = (country==\"England\")\n",
    "\n",
    "wvc = weighted_value_counts(BES_Panel[\"generalElectionVoteW26_reassigned\"][mask].astype('object').replace(vi_replace_dict),\n",
    "                      BES_Panel[\"weightW26\"][mask],normalize=True,perc=True)\n",
    "wvc[\"raw_sample_size\"] = wvc[\"raw_sample_size\"].astype(int)\n",
    "wvc[\"weighted_sample_percentage\"] = wvc[\"weighted_sample_percentage\"]*100/(wvc[\"weighted_sample_percentage\"].sum())\n",
    "wvc"
   ]
  },
  {
   "cell_type": "code",
   "execution_count": 160,
   "id": "2145cf56",
   "metadata": {},
   "outputs": [
    {
     "data": {
      "text/html": [
       "<div>\n",
       "<style scoped>\n",
       "    .dataframe tbody tr th:only-of-type {\n",
       "        vertical-align: middle;\n",
       "    }\n",
       "\n",
       "    .dataframe tbody tr th {\n",
       "        vertical-align: top;\n",
       "    }\n",
       "\n",
       "    .dataframe thead th {\n",
       "        text-align: right;\n",
       "    }\n",
       "</style>\n",
       "<table border=\"1\" class=\"dataframe\">\n",
       "  <thead>\n",
       "    <tr style=\"text-align: right;\">\n",
       "      <th></th>\n",
       "      <th>weighted_sample_percentage</th>\n",
       "      <th>raw_sample_size</th>\n",
       "    </tr>\n",
       "    <tr>\n",
       "      <th>generalElectionVoteW26_reassigned</th>\n",
       "      <th></th>\n",
       "      <th></th>\n",
       "    </tr>\n",
       "  </thead>\n",
       "  <tbody>\n",
       "    <tr>\n",
       "      <th>GRN</th>\n",
       "      <td>1.597755</td>\n",
       "      <td>117</td>\n",
       "    </tr>\n",
       "    <tr>\n",
       "      <th>OTH</th>\n",
       "      <td>1.856850</td>\n",
       "      <td>148</td>\n",
       "    </tr>\n",
       "    <tr>\n",
       "      <th>LD</th>\n",
       "      <td>4.879629</td>\n",
       "      <td>394</td>\n",
       "    </tr>\n",
       "    <tr>\n",
       "      <th>LAB</th>\n",
       "      <td>12.836014</td>\n",
       "      <td>939</td>\n",
       "    </tr>\n",
       "    <tr>\n",
       "      <th>REF</th>\n",
       "      <td>25.078268</td>\n",
       "      <td>2205</td>\n",
       "    </tr>\n",
       "    <tr>\n",
       "      <th>CON</th>\n",
       "      <td>53.751484</td>\n",
       "      <td>4859</td>\n",
       "    </tr>\n",
       "  </tbody>\n",
       "</table>\n",
       "</div>"
      ],
      "text/plain": [
       "                                   weighted_sample_percentage  raw_sample_size\n",
       "generalElectionVoteW26_reassigned                                             \n",
       "GRN                                                  1.597755              117\n",
       "OTH                                                  1.856850              148\n",
       "LD                                                   4.879629              394\n",
       "LAB                                                 12.836014              939\n",
       "REF                                                 25.078268             2205\n",
       "CON                                                 53.751484             4859"
      ]
     },
     "execution_count": 160,
     "metadata": {},
     "output_type": "execute_result"
    }
   ],
   "source": [
    "mask = (BES_Panel[\"p_past_vote_2019\"]==\"Conservative\")&(country==\"England\")\n",
    "\n",
    "vi_replace_dict = {'I would/did not vote':np.nan,\n",
    "                   'Conservative':\"CON\", 'Labour':\"LAB\", 'Liberal Democrat':\"LD\",\n",
    "       'Scottish National Party (SNP)':np.nan, 'Plaid Cymru':np.nan, #england only!\n",
    "       'United Kingdom Independence Party (UKIP)':np.nan, 'Green Party':\"GRN\",\n",
    "       'British National Party (BNP)':np.nan, 'Other':\"OTH\",\n",
    "       'Change UK- The Independent Group':np.nan, 'Brexit Party/Reform UK':\"REF\",\n",
    "       'An independent candidate':\"OTH\", \"Don't know\":\"DK\",\n",
    "        }\n",
    "\n",
    "wvc = weighted_value_counts(BES_Panel[\"generalElectionVoteW26_reassigned\"][mask].astype('object').replace(vi_replace_dict),\n",
    "                      BES_Panel[\"weightW26\"][mask],normalize=True,perc=True)\n",
    "wvc[\"raw_sample_size\"] = wvc[\"raw_sample_size\"].astype(int)\n",
    "wvc[\"weighted_sample_percentage\"] = wvc[\"weighted_sample_percentage\"]*100/(wvc[\"weighted_sample_percentage\"].sum())\n",
    "wvc\n"
   ]
  },
  {
   "cell_type": "code",
   "execution_count": 165,
   "id": "172d80f2",
   "metadata": {},
   "outputs": [
    {
     "data": {
      "image/png": "[encoded data removed]",
      "text/plain": [
       "<Figure size 640x480 with 1 Axes>"
      ]
     },
     "metadata": {},
     "output_type": "display_data"
    }
   ],
   "source": [
    "col_palette = {\"OTH\":\"grey\",\"CON\":\"blue\",\"REF\":\"purple\",\"LAB\":\"red\",\"LD\":\"orange\",\"GRN\":\"green\",\n",
    "              \"LAB&LD&GRN\":\"red\"}\n",
    "hatch_palette = {\"OTH\":\"\",\"CON\":\"\",\"REF\":\"\",\"LAB\":\"//\",\"LD\":\"\",\"GRN\":\"\",}\n",
    "\n",
    "#               \"LAB&LD&GRN\":\"//\"}\n",
    "\n",
    "breakdown = wvc[\"weighted_sample_percentage\"]\n",
    "\n",
    "\n",
    "\n",
    "bar =sns.barplot(breakdown,palette = col_palette);\n",
    "plt.ylim([0,60]);\n",
    "plt.ylabel(\"%\");\n",
    "plt.xlabel(\"Estimated 2024 Vote\");\n",
    "plt.title(\"How CON-2019 Voters Voted In 2024\");\n",
    "\n",
    "\n",
    "# hatches = [\"\", \"\", \"\\\\\",\"\",]\n",
    "# for i,thisbar in enumerate(bar.patches):\n",
    "#     # Set a different hatch for each bar\n",
    "#     thisbar.set_hatch(hatches[i])"
   ]
  },
  {
   "cell_type": "code",
   "execution_count": 167,
   "id": "b0399497",
   "metadata": {},
   "outputs": [
    {
     "data": {
      "image/png": "[encoded data removed]",
      "text/plain": [
       "<Figure size 640x480 with 1 Axes>"
      ]
     },
     "metadata": {},
     "output_type": "display_data"
    }
   ],
   "source": [
    "mask = (BES_Panel[\"p_past_vote_2019\"]==\"Conservative\")&(country==\"England\")\n",
    "\n",
    "vi_replace_dict = {'I would/did not vote':np.nan,\n",
    "                   'Conservative':\"CON\", 'Labour':\"LAB\", 'Liberal Democrat':\"LD\",\n",
    "       'Scottish National Party (SNP)':np.nan, 'Plaid Cymru':np.nan, #england only!\n",
    "       'United Kingdom Independence Party (UKIP)':np.nan, 'Green Party':\"GRN\",\n",
    "       'British National Party (BNP)':np.nan, 'Other':\"OTH\",\n",
    "       'Change UK- The Independent Group':np.nan, 'Brexit Party/Reform UK':\"REF\",\n",
    "       'An independent candidate':\"OTH\", \"Don't know\":\"DK\",\n",
    "        }\n",
    "\n",
    "wvc = weighted_value_counts(BES_Panel[\"generalElectionVoteW26_reassigned\"][mask].astype('object').replace(vi_replace_dict_merged),\n",
    "                      BES_Panel[\"weightW26\"][mask],normalize=True,perc=True)\n",
    "wvc[\"raw_sample_size\"] = wvc[\"raw_sample_size\"].astype(int)\n",
    "wvc[\"weighted_sample_percentage\"] = wvc[\"weighted_sample_percentage\"]*100/(wvc[\"weighted_sample_percentage\"].sum())\n",
    "wvc\n",
    "\n",
    "breakdown = wvc[\"weighted_sample_percentage\"]\n",
    "\n",
    "bar =sns.barplot(breakdown,palette = col_palette);\n",
    "plt.ylim([0,60]);\n",
    "plt.ylabel(\"%\");\n",
    "plt.xlabel(\"Estimated 2024 Vote\");\n",
    "plt.title(\"How CON-2019 Voters Voted In 2024\");\n",
    "\n",
    "hatches = [\"\", \"\\\\\",\"\",\"\",]\n",
    "for i,thisbar in enumerate(bar.patches):\n",
    "    # Set a different hatch for each bar\n",
    "    thisbar.set_hatch(hatches[i])"
   ]
  },
  {
   "cell_type": "code",
   "execution_count": null,
   "id": "3af64f49",
   "metadata": {},
   "outputs": [],
   "source": []
  },
  {
   "cell_type": "code",
   "execution_count": null,
   "id": "10c363f3",
   "metadata": {},
   "outputs": [],
   "source": []
  },
  {
   "cell_type": "code",
   "execution_count": 169,
   "id": "4993e4be",
   "metadata": {},
   "outputs": [
    {
     "data": {
      "image/png": "[encoded data removed]",
      "text/plain": [
       "<Figure size 640x480 with 1 Axes>"
      ]
     },
     "metadata": {},
     "output_type": "display_data"
    }
   ],
   "source": [
    "mask = (BES_Panel[\"timesVotedConservativeRecently\"]>=1)&(country==\"England\")\n",
    "\n",
    "vi_replace_dict = {'I would/did not vote':np.nan,\n",
    "                   'Conservative':\"CON\", 'Labour':\"LAB\", 'Liberal Democrat':\"LD\",\n",
    "       'Scottish National Party (SNP)':np.nan, 'Plaid Cymru':np.nan, #england only!\n",
    "       'United Kingdom Independence Party (UKIP)':np.nan, 'Green Party':\"GRN\",\n",
    "       'British National Party (BNP)':np.nan, 'Other':\"OTH\",\n",
    "       'Change UK- The Independent Group':np.nan, 'Brexit Party/Reform UK':\"REF\",\n",
    "       'An independent candidate':\"OTH\", \"Don't know\":\"DK\",\n",
    "        }\n",
    "\n",
    "wvc = weighted_value_counts(BES_Panel[\"generalElectionVoteW26_reassigned\"][mask].astype('object').replace(vi_replace_dict_merged),\n",
    "                      BES_Panel[\"weightW26\"][mask],normalize=True,perc=True)\n",
    "wvc[\"raw_sample_size\"] = wvc[\"raw_sample_size\"].astype(int)\n",
    "wvc[\"weighted_sample_percentage\"] = wvc[\"weighted_sample_percentage\"]*100/(wvc[\"weighted_sample_percentage\"].sum())\n",
    "wvc\n",
    "\n",
    "breakdown = wvc[\"weighted_sample_percentage\"]\n",
    "\n",
    "bar =sns.barplot(breakdown,palette = col_palette);\n",
    "plt.ylim([0,60]);\n",
    "plt.ylabel(\"%\");\n",
    "plt.xlabel(\"Estimated 2024 Vote\");\n",
    "plt.title(\"How People Who Ever Voted Con 2015-2019 Voted In 2024\");\n",
    "\n",
    "hatches = [\"\", \"\",\"\\\\\",\"\",]\n",
    "for i,thisbar in enumerate(bar.patches):\n",
    "    # Set a different hatch for each bar\n",
    "    thisbar.set_hatch(hatches[i])"
   ]
  },
  {
   "cell_type": "code",
   "execution_count": null,
   "id": "a014ba96",
   "metadata": {},
   "outputs": [],
   "source": []
  },
  {
   "cell_type": "code",
   "execution_count": null,
   "id": "c5cc1bf9",
   "metadata": {},
   "outputs": [],
   "source": []
  },
  {
   "cell_type": "code",
   "execution_count": null,
   "id": "ab5a2e4f",
   "metadata": {},
   "outputs": [],
   "source": []
  },
  {
   "cell_type": "code",
   "execution_count": 125,
   "id": "98650292",
   "metadata": {},
   "outputs": [
    {
     "data": {
      "text/html": [
       "<div>\n",
       "<style scoped>\n",
       "    .dataframe tbody tr th:only-of-type {\n",
       "        vertical-align: middle;\n",
       "    }\n",
       "\n",
       "    .dataframe tbody tr th {\n",
       "        vertical-align: top;\n",
       "    }\n",
       "\n",
       "    .dataframe thead th {\n",
       "        text-align: right;\n",
       "    }\n",
       "</style>\n",
       "<table border=\"1\" class=\"dataframe\">\n",
       "  <thead>\n",
       "    <tr style=\"text-align: right;\">\n",
       "      <th></th>\n",
       "      <th>weighted_sample_percentage</th>\n",
       "      <th>raw_sample_size</th>\n",
       "    </tr>\n",
       "    <tr>\n",
       "      <th>generalElectionVoteW26_reassigned</th>\n",
       "      <th></th>\n",
       "      <th></th>\n",
       "    </tr>\n",
       "  </thead>\n",
       "  <tbody>\n",
       "    <tr>\n",
       "      <th>OTH</th>\n",
       "      <td>1.896098</td>\n",
       "      <td>222</td>\n",
       "    </tr>\n",
       "    <tr>\n",
       "      <th>GRN</th>\n",
       "      <td>2.619465</td>\n",
       "      <td>288</td>\n",
       "    </tr>\n",
       "    <tr>\n",
       "      <th>LD</th>\n",
       "      <td>8.143358</td>\n",
       "      <td>977</td>\n",
       "    </tr>\n",
       "    <tr>\n",
       "      <th>LAB</th>\n",
       "      <td>20.078913</td>\n",
       "      <td>2142</td>\n",
       "    </tr>\n",
       "    <tr>\n",
       "      <th>REF</th>\n",
       "      <td>21.383165</td>\n",
       "      <td>2565</td>\n",
       "    </tr>\n",
       "    <tr>\n",
       "      <th>CON</th>\n",
       "      <td>45.879000</td>\n",
       "      <td>5673</td>\n",
       "    </tr>\n",
       "  </tbody>\n",
       "</table>\n",
       "</div>"
      ],
      "text/plain": [
       "                                   weighted_sample_percentage  raw_sample_size\n",
       "generalElectionVoteW26_reassigned                                             \n",
       "OTH                                                  1.896098              222\n",
       "GRN                                                  2.619465              288\n",
       "LD                                                   8.143358              977\n",
       "LAB                                                 20.078913             2142\n",
       "REF                                                 21.383165             2565\n",
       "CON                                                 45.879000             5673"
      ]
     },
     "execution_count": 125,
     "metadata": {},
     "output_type": "execute_result"
    }
   ],
   "source": [
    "mask = (BES_Panel[\"timesVotedConservative\"]>=1)&(country==\"England\")\n",
    "\n",
    "vi_replace_dict = {'I would/did not vote':np.nan,\n",
    "                   'Conservative':\"CON\", 'Labour':\"LAB\", 'Liberal Democrat':\"LD\",\n",
    "       'Scottish National Party (SNP)':np.nan, 'Plaid Cymru':np.nan, #england only!\n",
    "       'United Kingdom Independence Party (UKIP)':np.nan, 'Green Party':\"GRN\",\n",
    "       'British National Party (BNP)':np.nan, 'Other':\"OTH\",\n",
    "       'Change UK- The Independent Group':np.nan, 'Brexit Party/Reform UK':\"REF\",\n",
    "       'An independent candidate':\"OTH\", \"Don't know\":\"DK\",\n",
    "        }\n",
    "\n",
    "wvc = weighted_value_counts(BES_Panel[\"generalElectionVoteW26_reassigned\"][mask].astype('object').replace(vi_replace_dict),\n",
    "                      BES_Panel[\"weightW26\"][mask],normalize=True,perc=True)\n",
    "wvc[\"raw_sample_size\"] = wvc[\"raw_sample_size\"].astype(int)\n",
    "wvc[\"weighted_sample_percentage\"] = wvc[\"weighted_sample_percentage\"]*100/(wvc[\"weighted_sample_percentage\"].sum())\n",
    "wvc\n"
   ]
  },
  {
   "cell_type": "code",
   "execution_count": 171,
   "id": "73780d69",
   "metadata": {},
   "outputs": [
    {
     "data": {
      "image/png": "[encoded data removed]",
      "text/plain": [
       "<Figure size 640x480 with 1 Axes>"
      ]
     },
     "metadata": {},
     "output_type": "display_data"
    }
   ],
   "source": [
    "mask = (BES_Panel[\"maxptvConEver\"]>=6)&(country==\"England\")\n",
    "\n",
    "vi_replace_dict = {'I would/did not vote':np.nan,\n",
    "                   'Conservative':\"CON\", 'Labour':\"LAB\", 'Liberal Democrat':\"LD\",\n",
    "       'Scottish National Party (SNP)':np.nan, 'Plaid Cymru':np.nan, #england only!\n",
    "       'United Kingdom Independence Party (UKIP)':np.nan, 'Green Party':\"GRN\",\n",
    "       'British National Party (BNP)':np.nan, 'Other':\"OTH\",\n",
    "       'Change UK- The Independent Group':np.nan, 'Brexit Party/Reform UK':\"REF\",\n",
    "       'An independent candidate':\"OTH\", \"Don't know\":\"DK\",\n",
    "        }\n",
    "\n",
    "wvc = weighted_value_counts(BES_Panel[\"generalElectionVoteW26_reassigned\"][mask].astype('object').replace(vi_replace_dict_merged),\n",
    "                      BES_Panel[\"weightW26\"][mask],normalize=True,perc=True)\n",
    "wvc[\"raw_sample_size\"] = wvc[\"raw_sample_size\"].astype(int)\n",
    "wvc[\"weighted_sample_percentage\"] = wvc[\"weighted_sample_percentage\"]*100/(wvc[\"weighted_sample_percentage\"].sum())\n",
    "wvc\n",
    "\n",
    "breakdown = wvc[\"weighted_sample_percentage\"]\n",
    "\n",
    "bar =sns.barplot(breakdown,palette = col_palette);\n",
    "plt.ylim([0,60]);\n",
    "plt.ylabel(\"%\");\n",
    "plt.xlabel(\"Estimated 2024 Vote\");\n",
    "plt.title(\"How People Who Ever Considering Voting Con 2014-2024 Voted In 2024\");\n",
    "\n",
    "hatches = [\"\", \"\",\"\\\\\",\"\",]\n",
    "for i,thisbar in enumerate(bar.patches):\n",
    "    # Set a different hatch for each bar\n",
    "    thisbar.set_hatch(hatches[i])"
   ]
  },
  {
   "cell_type": "code",
   "execution_count": 158,
   "id": "6a4eee0c",
   "metadata": {},
   "outputs": [
    {
     "data": {
      "text/html": [
       "<div>\n",
       "<style scoped>\n",
       "    .dataframe tbody tr th:only-of-type {\n",
       "        vertical-align: middle;\n",
       "    }\n",
       "\n",
       "    .dataframe tbody tr th {\n",
       "        vertical-align: top;\n",
       "    }\n",
       "\n",
       "    .dataframe thead th {\n",
       "        text-align: right;\n",
       "    }\n",
       "</style>\n",
       "<table border=\"1\" class=\"dataframe\">\n",
       "  <thead>\n",
       "    <tr style=\"text-align: right;\">\n",
       "      <th></th>\n",
       "      <th>weighted_sample_percentage</th>\n",
       "      <th>raw_sample_size</th>\n",
       "    </tr>\n",
       "    <tr>\n",
       "      <th>generalElectionVoteW26_reassigned</th>\n",
       "      <th></th>\n",
       "      <th></th>\n",
       "    </tr>\n",
       "  </thead>\n",
       "  <tbody>\n",
       "    <tr>\n",
       "      <th>OTH</th>\n",
       "      <td>1.934541</td>\n",
       "      <td>223</td>\n",
       "    </tr>\n",
       "    <tr>\n",
       "      <th>REF</th>\n",
       "      <td>19.772804</td>\n",
       "      <td>2586</td>\n",
       "    </tr>\n",
       "    <tr>\n",
       "      <th>LAB&amp;LD&amp;GRN</th>\n",
       "      <td>34.630525</td>\n",
       "      <td>4022</td>\n",
       "    </tr>\n",
       "    <tr>\n",
       "      <th>CON</th>\n",
       "      <td>43.662130</td>\n",
       "      <td>5853</td>\n",
       "    </tr>\n",
       "  </tbody>\n",
       "</table>\n",
       "</div>"
      ],
      "text/plain": [
       "                                   weighted_sample_percentage  raw_sample_size\n",
       "generalElectionVoteW26_reassigned                                             \n",
       "OTH                                                  1.934541              223\n",
       "REF                                                 19.772804             2586\n",
       "LAB&LD&GRN                                          34.630525             4022\n",
       "CON                                                 43.662130             5853"
      ]
     },
     "execution_count": 158,
     "metadata": {},
     "output_type": "execute_result"
    }
   ],
   "source": [
    "vi_replace_dict_merged = {'I would/did not vote':np.nan,\n",
    "                   'Conservative':\"CON\", 'Labour':\"LAB&LD&GRN\", 'Liberal Democrat':\"LAB&LD&GRN\", 'Green Party':\"LAB&LD&GRN\",\n",
    "                          \"LAB\":\"LAB&LD&GRN\",'LD':\"LAB&LD&GRN\",'GRN':\"LAB&LD&GRN\",\n",
    "       'Scottish National Party (SNP)':np.nan, 'Plaid Cymru':np.nan, #england only!\n",
    "       'United Kingdom Independence Party (UKIP)':np.nan,\n",
    "       'British National Party (BNP)':np.nan, 'Other':\"OTH\",\n",
    "       'Change UK- The Independent Group':np.nan, 'Brexit Party/Reform UK':\"REF\",\n",
    "       'An independent candidate':\"OTH\", \"Don't know\":\"DK\",\n",
    "        }\n",
    "\n",
    "wvc = weighted_value_counts(BES_Panel[\"generalElectionVoteW26_reassigned\"][mask].astype('object').replace(vi_replace_dict_merged),\n",
    "                      BES_Panel[\"weightW26\"][mask],normalize=True,perc=True)\n",
    "wvc[\"raw_sample_size\"] = wvc[\"raw_sample_size\"].astype(int)\n",
    "wvc[\"weighted_sample_percentage\"] = wvc[\"weighted_sample_percentage\"]*100/(wvc[\"weighted_sample_percentage\"].sum())\n",
    "wvc"
   ]
  },
  {
   "cell_type": "code",
   "execution_count": 159,
   "id": "26e80081",
   "metadata": {},
   "outputs": [
    {
     "data": {
      "image/png": "[encoded data removed]",
      "text/plain": [
       "<Figure size 640x480 with 1 Axes>"
      ]
     },
     "metadata": {},
     "output_type": "display_data"
    }
   ],
   "source": [
    "col_palette = {\"OTH\":\"grey\",\"CON\":\"blue\",\"REF\":\"purple\",\"LAB\":\"red\",\"LD\":\"orange\",\"GRN\":\"green\",\n",
    "              \"LAB&LD&GRN\":\"red\"}\n",
    "hatch_palette = {\"OTH\":\"\",\"CON\":\"\",\"REF\":\"\",\"LAB\":\"//\",\"LD\":\"\",\"GRN\":\"\",}\n",
    "\n",
    "#               \"LAB&LD&GRN\":\"//\"}\n",
    "\n",
    "breakdown = wvc[\"weighted_sample_percentage\"]\n",
    "\n",
    "\n",
    "\n",
    "bar =sns.barplot(breakdown,palette = col_palette, hatch=hatch_palette);\n",
    "plt.ylim([0,60]);\n",
    "\n",
    "hatches = [\"\", \"\", \"\\\\\",\"\",]\n",
    "for i,thisbar in enumerate(bar.patches):\n",
    "    # Set a different hatch for each bar\n",
    "    thisbar.set_hatch(hatches[i])"
   ]
  },
  {
   "cell_type": "code",
   "execution_count": 145,
   "id": "a4871c96",
   "metadata": {},
   "outputs": [
    {
     "data": {
      "text/plain": [
       "dict_items([('OTH', ''), ('CON', ''), ('REF', ''), ('LAB', '//'), ('LD', ''), ('GRN', '')])"
      ]
     },
     "execution_count": 145,
     "metadata": {},
     "output_type": "execute_result"
    }
   ],
   "source": [
    "hatch_palette.items()"
   ]
  },
  {
   "cell_type": "code",
   "execution_count": 146,
   "id": "cfcfa48c",
   "metadata": {},
   "outputs": [
    {
     "data": {
      "text/plain": [
       "<Axes.ArtistList of 0 artists>"
      ]
     },
     "execution_count": 146,
     "metadata": {},
     "output_type": "execute_result"
    }
   ],
   "source": [
    "ax.artists"
   ]
  },
  {
   "cell_type": "code",
   "execution_count": null,
   "id": "bc146702",
   "metadata": {},
   "outputs": [],
   "source": []
  },
  {
   "cell_type": "code",
   "execution_count": null,
   "id": "6a040716",
   "metadata": {},
   "outputs": [],
   "source": []
  },
  {
   "cell_type": "code",
   "execution_count": null,
   "id": "00c4ddce",
   "metadata": {},
   "outputs": [],
   "source": []
  }
 ],
 "metadata": {
  "kernelspec": {
   "display_name": "Python 3 (ipykernel)",
   "language": "python",
   "name": "python3"
  },
  "language_info": {
   "codemirror_mode": {
    "name": "ipython",
    "version": 3
   },
   "file_extension": ".py",
   "mimetype": "text/x-python",
   "name": "python",
   "nbconvert_exporter": "python",
   "pygments_lexer": "ipython3",
   "version": "3.9.19"
  }
 },
 "nbformat": 4,
 "nbformat_minor": 5
}
