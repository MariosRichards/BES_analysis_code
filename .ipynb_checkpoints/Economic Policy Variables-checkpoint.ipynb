{
 "cells": [
  {
   "cell_type": "code",
   "execution_count": 1,
   "id": "f5763964",
   "metadata": {},
   "outputs": [
    {
     "data": {
      "text/html": [
       "<script>jQuery(function() {if (jQuery(\"body.notebook_app\").length == 0) { jQuery(\".input_area\").toggle(); jQuery(\".prompt\").toggle();}});</script>"
      ]
     },
     "metadata": {},
     "output_type": "display_data"
    },
    {
     "data": {
      "text/html": [
       "<button onclick=\"jQuery('.input_area').toggle(); jQuery('.prompt').toggle();\">Toggle code</button>"
      ]
     },
     "metadata": {},
     "output_type": "display_data"
    },
    {
     "name": "stderr",
     "output_type": "stream",
     "text": [
      "WARNING:param.Config: Use method 'set_param' via param namespace \n",
      "WARNING:param.Dimension: Use method 'get_param_values' via param namespace \n",
      "WARNING:param.Dimension: Use method 'get_param_values' via param namespace \n",
      "WARNING:param.Dimension: Use method 'get_param_values' via param namespace \n",
      "WARNING:param.Dimension: Use method 'get_param_values' via param namespace \n",
      "WARNING:param.Dimension: Use method 'get_param_values' via param namespace \n",
      "WARNING:param.Dimension: Use method 'get_param_values' via param namespace \n",
      "WARNING:param.Dimension: Use method 'get_param_values' via param namespace \n",
      "WARNING:param.Dimension: Use method 'get_param_values' via param namespace \n",
      "WARNING:param.Dimension: Use method 'get_param_values' via param namespace \n",
      "WARNING:param.Dimension: Use method 'get_param_values' via param namespace \n",
      "WARNING:param.Dimension: Use method 'get_param_values' via param namespace \n",
      "WARNING:param.Dimension: Use method 'get_param_values' via param namespace \n",
      "WARNING:param.Dimension: Use method 'get_param_values' via param namespace \n",
      "WARNING:param.Dimension: Use method 'get_param_values' via param namespace \n",
      "WARNING:param.Dimension: Use method 'get_param_values' via param namespace \n",
      "WARNING:param.Dimension: Use method 'get_param_values' via param namespace \n",
      "WARNING:param.Dimension: Use method 'get_param_values' via param namespace \n",
      "WARNING:param.Dimension: Use method 'get_param_values' via param namespace \n",
      "WARNING:param.Dimension: Use method 'get_param_values' via param namespace \n",
      "WARNING:param.Dimension: Use method 'get_param_values' via param namespace \n",
      "WARNING:param.Dimension: Use method 'get_param_values' via param namespace \n",
      "WARNING:param.Dimension: Use method 'get_param_values' via param namespace \n",
      "WARNING:param.Dimension: Use method 'get_param_values' via param namespace \n",
      "WARNING:param.Dimension: Use method 'get_param_values' via param namespace \n",
      "WARNING:param.Dimension: Use method 'get_param_values' via param namespace \n",
      "WARNING:param.Dimension: Use method 'get_param_values' via param namespace \n",
      "WARNING:param.Dimension: Use method 'get_param_values' via param namespace \n",
      "WARNING:param.Dimension: Use method 'get_param_values' via param namespace \n",
      "WARNING:param.Dimension: Use method 'get_param_values' via param namespace \n",
      "WARNING:param.Dimension: Use method 'get_param_values' via param namespace \n",
      "WARNING:param.Dimension: Use method 'get_param_values' via param namespace \n",
      "WARNING:param.Dimension: Use method 'get_param_values' via param namespace \n",
      "WARNING:param.Dimension: Use method 'get_param_values' via param namespace \n",
      "WARNING:param.Dimension: Use method 'get_param_values' via param namespace \n",
      "WARNING:param.Dimension: Use method 'get_param_values' via param namespace \n",
      "WARNING:param.Dimension: Use method 'get_param_values' via param namespace \n",
      "WARNING:param.Dimension: Use method 'get_param_values' via param namespace \n",
      "WARNING:param.Dimension: Use method 'get_param_values' via param namespace \n",
      "WARNING:param.Dimension: Use method 'get_param_values' via param namespace \n",
      "WARNING:param.Dimension: Use method 'get_param_values' via param namespace \n",
      "WARNING:param.Dimension: Use method 'get_param_values' via param namespace \n",
      "WARNING:param.Dimension: Use method 'get_param_values' via param namespace \n",
      "WARNING:param.Dimension: Use method 'get_param_values' via param namespace \n",
      "WARNING:param.Dimension: Use method 'get_param_values' via param namespace \n",
      "WARNING:param.Dimension: Use method 'get_param_values' via param namespace \n",
      "WARNING:param.Dimension: Use method 'get_param_values' via param namespace \n",
      "WARNING:param.Dimension: Use method 'get_param_values' via param namespace \n",
      "WARNING:param.Dimension: Use method 'get_param_values' via param namespace \n",
      "WARNING:param.Dimension: Use method 'get_param_values' via param namespace \n",
      "WARNING:param.Dimension: Use method 'get_param_values' via param namespace \n",
      "WARNING:param.Dimension: Use method 'get_param_values' via param namespace \n",
      "WARNING:param.Dimension: Use method 'get_param_values' via param namespace \n",
      "WARNING:param.Dimension: Use method 'get_param_values' via param namespace \n",
      "WARNING:param.Dimension: Use method 'get_param_values' via param namespace \n",
      "WARNING:param.Dimension: Use method 'get_param_values' via param namespace \n",
      "WARNING:param.Dimension: Use method 'get_param_values' via param namespace \n",
      "WARNING:param.Dimension: Use method 'get_param_values' via param namespace \n",
      "WARNING:param.Dimension: Use method 'get_param_values' via param namespace \n",
      "WARNING:param.Dimension: Use method 'get_param_values' via param namespace \n",
      "WARNING:param.Dimension: Use method 'get_param_values' via param namespace \n",
      "WARNING:param.Dimension: Use method 'get_param_values' via param namespace \n",
      "WARNING:param.Dimension: Use method 'get_param_values' via param namespace \n",
      "WARNING:param.Dimension: Use method 'get_param_values' via param namespace \n",
      "WARNING:param.Dimension: Use method 'get_param_values' via param namespace \n",
      "WARNING:param.Dimension: Use method 'get_param_values' via param namespace \n",
      "WARNING:param.Dimension: Use method 'get_param_values' via param namespace \n",
      "WARNING:param.Dimension: Use method 'get_param_values' via param namespace \n",
      "WARNING:param.Dimension: Use method 'get_param_values' via param namespace \n",
      "WARNING:param.Dimension: Use method 'get_param_values' via param namespace \n",
      "WARNING:param.Dimension: Use method 'get_param_values' via param namespace \n",
      "WARNING:param.Dimension: Use method 'get_param_values' via param namespace \n",
      "WARNING:param.Dimension: Use method 'get_param_values' via param namespace \n",
      "WARNING:param.Dimension: Use method 'get_param_values' via param namespace \n",
      "WARNING:param.Dimension: Use method 'get_param_values' via param namespace \n",
      "WARNING:param.Dimension: Use method 'get_param_values' via param namespace \n",
      "WARNING:param.Dimension: Use method 'get_param_values' via param namespace \n",
      "WARNING:param.Dimension: Use method 'get_param_values' via param namespace \n",
      "WARNING:param.Dimension: Use method 'get_param_values' via param namespace \n",
      "WARNING:param.Dimension: Use method 'get_param_values' via param namespace \n",
      "WARNING:param.Dimension: Use method 'get_param_values' via param namespace \n",
      "WARNING:param.Dimension: Use method 'get_param_values' via param namespace \n",
      "WARNING:param.Dimension: Use method 'get_param_values' via param namespace \n",
      "WARNING:param.Dimension: Use method 'get_param_values' via param namespace \n",
      "WARNING:param.Dimension: Use method 'get_param_values' via param namespace \n",
      "WARNING:param.Dimension: Use method 'get_param_values' via param namespace \n",
      "WARNING:param.Dimension: Use method 'get_param_values' via param namespace \n",
      "WARNING:param.Dimension: Use method 'get_param_values' via param namespace \n",
      "WARNING:param.Dimension: Use method 'get_param_values' via param namespace \n",
      "WARNING:param.Dimension: Use method 'get_param_values' via param namespace \n",
      "WARNING:param.Dimension: Use method 'get_param_values' via param namespace \n",
      "WARNING:param.Dimension: Use method 'get_param_values' via param namespace \n",
      "WARNING:param.Dimension: Use method 'get_param_values' via param namespace \n",
      "WARNING:param.Dimension: Use method 'get_param_values' via param namespace \n",
      "WARNING:param.Dimension: Use method 'get_param_values' via param namespace \n",
      "WARNING:param.Dimension: Use method 'get_param_values' via param namespace \n",
      "WARNING:param.Dimension: Use method 'get_param_values' via param namespace \n",
      "WARNING:param.Dimension: Use method 'get_param_values' via param namespace \n",
      "WARNING:param.Dimension: Use method 'get_param_values' via param namespace \n",
      "WARNING:param.Dimension: Use method 'get_param_values' via param namespace \n",
      "WARNING:param.Dimension: Use method 'get_param_values' via param namespace \n",
      "WARNING:param.Dimension: Use method 'get_param_values' via param namespace \n",
      "WARNING:param.Dimension: Use method 'get_param_values' via param namespace \n",
      "WARNING:param.Dimension: Use method 'get_param_values' via param namespace \n",
      "WARNING:param.Dimension: Use method 'get_param_values' via param namespace \n",
      "WARNING:param.Dimension: Use method 'get_param_values' via param namespace \n",
      "WARNING:param.Dimension: Use method 'get_param_values' via param namespace \n",
      "WARNING:param.Dimension: Use method 'get_param_values' via param namespace \n"
     ]
    },
    {
     "name": "stderr",
     "output_type": "stream",
     "text": [
      "WARNING:param.Dimension: Use method 'get_param_values' via param namespace \n",
      "WARNING:param.Dimension: Use method 'get_param_values' via param namespace \n",
      "WARNING:param.Dimension: Use method 'get_param_values' via param namespace \n",
      "WARNING:param.Dimension: Use method 'get_param_values' via param namespace \n",
      "WARNING:param.Dimension: Use method 'get_param_values' via param namespace \n",
      "WARNING:param.Dimension: Use method 'get_param_values' via param namespace \n",
      "WARNING:param.Dimension: Use method 'get_param_values' via param namespace \n",
      "WARNING:param.Dimension: Use method 'get_param_values' via param namespace \n",
      "WARNING:param.Dimension: Use method 'get_param_values' via param namespace \n",
      "WARNING:param.Dimension: Use method 'get_param_values' via param namespace \n",
      "WARNING:param.Dimension: Use method 'get_param_values' via param namespace \n",
      "WARNING:param.Dimension: Use method 'get_param_values' via param namespace \n",
      "WARNING:param.Dimension: Use method 'get_param_values' via param namespace \n",
      "WARNING:param.Dimension: Use method 'get_param_values' via param namespace \n",
      "WARNING:param.Dimension: Use method 'get_param_values' via param namespace \n",
      "WARNING:param.Dimension: Use method 'get_param_values' via param namespace \n",
      "WARNING:param.Dimension: Use method 'get_param_values' via param namespace \n",
      "WARNING:param.Dimension: Use method 'get_param_values' via param namespace \n",
      "WARNING:param.Dimension: Use method 'get_param_values' via param namespace \n",
      "WARNING:param.Dimension: Use method 'get_param_values' via param namespace \n",
      "WARNING:param.Dimension: Use method 'get_param_values' via param namespace \n",
      "WARNING:param.Dimension: Use method 'get_param_values' via param namespace \n"
     ]
    },
    {
     "name": "stdout",
     "output_type": "stream",
     "text": [
      "Wall time: 52.6 s\n"
     ]
    }
   ],
   "source": [
    "%%time\n",
    "dataset_name = \"W20_comb\"\n",
    "df_list = \"BES_Panel\"\n",
    "\n",
    "%matplotlib inline\n",
    "%run BES_header.py {dataset_name} {df_list}\n",
    "# (var_type, cat_dictionary, new_old_col_names, old_new_col_names) = get_small_files(data_subfolder, encoding)    \n",
    "# get full set of inferred \"cross wave\" auth-lib/left-right values and ages\n",
    "# pan_dataset_allr_values = pd.read_pickle(BES_small_data_files + \"pan_dataset_allr_valuesW19\"+\".zip\",compression='zip')\n",
    "# # pan_dataset_allr_values = pan_dataset_allr_values.loc[BES_Panel.index].sort_index()\n",
    "# pan_dataset_ages = pd.read_pickle(BES_small_data_files + \"pan_dataset_ages\"+\".zip\", compression='zip')\n",
    "# pan_dataset_votes = pd.read_pickle(BES_small_data_files+\"pan_dataset_votes\"+\".zip\",compression='zip')\n"
   ]
  },
  {
   "cell_type": "code",
   "execution_count": 18,
   "id": "ebcd03b1",
   "metadata": {},
   "outputs": [],
   "source": [
    "# search(BES_Panel,\"wt\")"
   ]
  },
  {
   "cell_type": "code",
   "execution_count": 19,
   "id": "8a1f6e7f",
   "metadata": {},
   "outputs": [],
   "source": [
    "# search(BES_Panel,\"vote\")"
   ]
  },
  {
   "cell_type": "code",
   "execution_count": 2,
   "id": "21d02b58",
   "metadata": {},
   "outputs": [],
   "source": [
    "pattern = \"enviroGrowth|econ(Personal|Gen)(Retro|Prosp)|goodTimePurchase|\"\n",
    "pattern = pattern + \"privateEnterprise|stateOwnership|jobForAll|\" # bhpsIdeology\n",
    "pattern = pattern + \"lockdownApproval|cvEcon|govtCorpSupport|worryCoronaEcon|\" # corona-related\n",
    "pattern = pattern + \"worryEconSecurity|borrowEssentials|smallEmergency|riskPoverty|riskUnemployment|\" # econ risks\n",
    "pattern = pattern + \"reasonForUnemployment|govtHandouts|businessBonus|\" # perceptions of the poor\n",
    "pattern = pattern + \"economyResponsible|responsibleDebt|\" # responsible for economy/debt\n",
    "pattern = pattern + \"(change|responsible|govtHandle|labHandle)(Econ|CostLive)|\" # change/resp/handle Econ/CostLive\n",
    "pattern = pattern + \"cutsTooFar|privatTooFar|enviroProtection|tuitionFeesTooFar|\" # too-far list\n",
    "pattern = pattern + \"automation|globalGoodOverall|global(Trade|Banks|Migration|Tourism|Planes|Films|Brands|Talk|Orgs)|\" # auto/globalization\n",
    "pattern = pattern + \"socialCare|zeroHourContract|renationaliseRail|debtMoral|\" # specific economic policies\n",
    "pattern = pattern + \"redist|selfRedistCertain|taxSpend|tax(High|Medium|Low)Income|spend(Health|Pensions|Unemp)|\" # taxation and redist\n",
    "pattern = pattern + \"deficitReduce|howToReduceDeficit|\" # must you/how to reduce deficit\n",
    "pattern = pattern + \"tryReduceInequality|successReduceInequality|inequality|\" # inequality good/bad/changing party perception\n",
    "pattern = pattern + \"minIncomeWellOff|minIncomeGetBy|incomeWelfare|welfarePreference|\" # questions about minimum income/perceived levels\n",
    "pattern = pattern + \"(con|lab|brexit|snp|pc|ukip|grn)LookAfter|\"\n",
    "pattern = pattern + \"lr\\d\"\n",
    "# pattern = pattern +\n",
    "# pattern = pattern +\n",
    "\n",
    "\n",
    "\n",
    "\n",
    "# sdoantiegal|sdodominance|zeroSum|\n",
    "# radical|harkBack|\n",
    "\n",
    "# localEconNow|\n",
    "# localEcon1520Yr"
   ]
  },
  {
   "cell_type": "code",
   "execution_count": 3,
   "id": "3ca49fce",
   "metadata": {},
   "outputs": [],
   "source": [
    "matches = search(BES_Panel,pattern)"
   ]
  },
  {
   "cell_type": "code",
   "execution_count": 17,
   "id": "431d6143",
   "metadata": {},
   "outputs": [
    {
     "data": {
      "text/plain": [
       "W4         88\n",
       "W20        77\n",
       "W2         70\n",
       "W1         63\n",
       "W3         63\n",
       "W10        46\n",
       "W14        42\n",
       "W6         39\n",
       "W7         36\n",
       "W12        35\n",
       "W19        34\n",
       "W15        34\n",
       "W17        33\n",
       "W16        26\n",
       "W11        20\n",
       "W18        18\n",
       "W13        17\n",
       "W8          7\n",
       "W7_W9       5\n",
       "W14W15      5\n",
       "W10_W12     5\n",
       "W1_W5       5\n",
       "W9          4\n",
       "dtype: int64"
      ]
     },
     "execution_count": 17,
     "metadata": {},
     "output_type": "execute_result"
    }
   ],
   "source": [
    "pd.Series([re.search(\"(W\\d.*)\",x).groups()[0] for x in matches.index]).value_counts()"
   ]
  },
  {
   "cell_type": "code",
   "execution_count": 28,
   "id": "744708a7",
   "metadata": {},
   "outputs": [
    {
     "data": {
      "text/plain": [
       "Index(['minIncomeWellOffW1', 'minIncomeGetByW1', 'incomeWelfareW1',\n",
       "       'minIncomeWellOffW2', 'minIncomeGetByW2', 'incomeWelfareW2',\n",
       "       'minIncomeWellOffW3', 'minIncomeGetByW3', 'incomeWelfareW3',\n",
       "       'minIncomeWellOffW4', 'minIncomeGetByW4', 'incomeWelfareW4',\n",
       "       'minIncomeWellOffW6', 'minIncomeGetByW6', 'incomeWelfareW6'],\n",
       "      dtype='object')"
      ]
     },
     "execution_count": 28,
     "metadata": {},
     "output_type": "execute_result"
    }
   ],
   "source": [
    "# BES_Panel[matches.index].columns[ BES_Panel[matches.index].describe().loc[\"unique\"]>100 ]"
   ]
  },
  {
   "cell_type": "code",
   "execution_count": null,
   "id": "abcd7006",
   "metadata": {},
   "outputs": [],
   "source": []
  },
  {
   "cell_type": "code",
   "execution_count": 4,
   "id": "51e2ce10",
   "metadata": {},
   "outputs": [],
   "source": [
    "df = BES_Panel[matches.index].copy()"
   ]
  },
  {
   "cell_type": "code",
   "execution_count": 5,
   "id": "d4bfc59b",
   "metadata": {},
   "outputs": [],
   "source": [
    "# df['minIncomeWellOffW1']"
   ]
  },
  {
   "cell_type": "code",
   "execution_count": 6,
   "id": "2c139ac5",
   "metadata": {},
   "outputs": [],
   "source": [
    "minIncomeVars = BES_Panel[matches.index].columns[ BES_Panel[matches.index].describe().loc[\"unique\"]>15 ]"
   ]
  },
  {
   "cell_type": "code",
   "execution_count": 38,
   "id": "727ab691",
   "metadata": {},
   "outputs": [
    {
     "data": {
      "text/plain": [
       "<matplotlib.axes._subplots.AxesSubplot at 0x1bc7fa95888>"
      ]
     },
     "execution_count": 38,
     "metadata": {},
     "output_type": "execute_result"
    },
    {
     "data": {
      "image/png": "[encoded data removed]",
      "text/plain": [
       "<Figure size 432x288 with 1 Axes>"
      ]
     },
     "metadata": {},
     "output_type": "display_data"
    }
   ],
   "source": [
    "df[minIncomeVars].stack().replace(\"Don't know\",np.nan).hist(log=True)"
   ]
  },
  {
   "cell_type": "code",
   "execution_count": 7,
   "id": "ae4dfff9",
   "metadata": {},
   "outputs": [],
   "source": [
    "minIncomeVarsAdditional = list(minIncomeVars)\n",
    "\n",
    "for x in minIncomeVars:\n",
    "\n",
    "    df[x+\"_dk\"] = df[x]==\"Don't know\"\n",
    "    df[x+\"_na\"] = df[x].isnull()\n",
    "    df[x] = df[x].replace(\"Don't know\",np.nan).astype(float).fillna(df[x].replace(\"Don't know\",np.nan).astype(float).mean())\n",
    "    minIncomeVarsAdditional.append(x+\"_dk\")\n",
    "    minIncomeVarsAdditional.append(x+\"_na\")"
   ]
  },
  {
   "cell_type": "code",
   "execution_count": 8,
   "id": "d205ce8d",
   "metadata": {},
   "outputs": [],
   "source": [
    "dummied_vars = pd.get_dummies(df[[y for y in df.columns if y not in minIncomeVarsAdditional]],dummy_na=True)"
   ]
  },
  {
   "cell_type": "code",
   "execution_count": 9,
   "id": "0ce3413c",
   "metadata": {},
   "outputs": [],
   "source": [
    "df_nona = pd.concat([df[minIncomeVarsAdditional],dummied_vars],axis=1)"
   ]
  },
  {
   "cell_type": "code",
   "execution_count": 10,
   "id": "dc2e07ac",
   "metadata": {},
   "outputs": [
    {
     "data": {
      "text/plain": [
       "uint8      5736\n",
       "bool         30\n",
       "float64      15\n",
       "dtype: int64"
      ]
     },
     "execution_count": 10,
     "metadata": {},
     "output_type": "execute_result"
    }
   ],
   "source": [
    "df_nona.dtypes.value_counts()"
   ]
  },
  {
   "cell_type": "code",
   "execution_count": 48,
   "id": "d495f170",
   "metadata": {},
   "outputs": [
    {
     "data": {
      "text/plain": [
       "Don't know    3155\n",
       "1000.0         330\n",
       "2000.0         254\n",
       "1500.0         243\n",
       "800.0          193\n",
       "1200.0         160\n",
       "500.0          118\n",
       "600.0          113\n",
       "2500.0          65\n",
       "900.0           52\n",
       "3000.0          49\n",
       "700.0           48\n",
       "1800.0          45\n",
       "400.0           42\n",
       "1600.0          41\n",
       "750.0           30\n",
       "1400.0          27\n",
       "300.0           25\n",
       "200.0           18\n",
       "4000.0          16\n",
       "1300.0          16\n",
       "1100.0          15\n",
       "2200.0          15\n",
       "20000.0         15\n",
       "450.0           14\n",
       "250.0           13\n",
       "1750.0          13\n",
       "850.0           13\n",
       "1250.0          10\n",
       "0.0              9\n",
       "25000.0          9\n",
       "1700.0           9\n",
       "350.0            8\n",
       "2100.0           8\n",
       "650.0            7\n",
       "2400.0           7\n",
       "150.0            6\n",
       "100.0            6\n",
       "3500.0           5\n",
       "10000.0          5\n",
       "30000.0          4\n",
       "1900.0           4\n",
       "15000.0          4\n",
       "2800.0           4\n",
       "720.0            4\n",
       "180.0            4\n",
       "12000.0          3\n",
       "950.0            3\n",
       "16000.0          3\n",
       "1350.0           3\n",
       "Name: incomeWelfareW1, dtype: int64"
      ]
     },
     "execution_count": 48,
     "metadata": {},
     "output_type": "execute_result"
    }
   ],
   "source": [
    "%%time\n",
    "\n",
    "Treatment = \"Economic Policy Variables\"\n",
    "output_subfolder = BES_output_folder + Treatment + os.sep\n",
    "if not os.path.exists( output_subfolder ):\n",
    "    os.makedirs( output_subfolder )\n",
    "\n",
    "# value_vars = [x for x in manifesto_project.columns if re.match(\"per(\\d+|uncod)|rile|planeco|markeco|welfare|intpeace\",x)]\n",
    "# value_vars = search(BES_reduced_with_na,\"taxSpend|tax(Low|Middle|High)Income|bes(1|2|3|4)(a|b)W2|socialCare|howToReduceDeficit|deficitReduce|spend(Health|Pensions|Unemp)\").index\n",
    "# rile, planeco, markeco, welfare, intpeace\n",
    "# notnulls = BES_reduced_with_na[value_vars].notnull().any(axis=1)\n",
    "# notnulls = BES_reduced_with_na[\"taxLowIncomeW15__Much too high\"].notnull()\n",
    "# MCP_vals = BES_reduced_with_na[value_vars][notnulls]\n",
    "# MCP_vals = MCP_vals.fillna(MCP_vals.mean())\n",
    "\n",
    "\n",
    "# df[\"peruncod\"]\n",
    "# percentage uncoded\n",
    "# MCP_vals.columns = [variable_labels.loc[x]+\"(\"+x.replace(\"per\",\"\")+\")\" for x in MCP_vals.columns]\n",
    "# MCP_vals.columns\n",
    "# MCP_vals = MCP_vals.drop_duplicates()\n",
    "MCP_vals = df_nona.drop_duplicates()\n",
    "\n",
    "decomp_index = MCP_vals.index\n",
    "decomp_columns = MCP_vals.columns\n",
    "clean_feature_set_std = StandardScaler().fit_transform(MCP_vals.values )\n",
    "decomp_std = pd.DataFrame(   clean_feature_set_std,\n",
    "                             columns = MCP_vals.columns,\n",
    "                             index   = MCP_vals.index      )\n",
    "\n",
    "\n",
    "\n",
    "# 5 mins\n",
    "## RUN (some variant of) PCA (potentially v slow!)\n",
    "n_components = decomp_std.shape[1]\n",
    "n_components = 5\n",
    "# (svd_solver='full', n_components='mle',whiten=True)\n",
    "decomp = PCA(n_components = n_components,svd_solver='full')\n",
    "# decomp = FastICA(algorithm='deflation', fun='exp', fun_args=None, max_iter=1000,\n",
    "#     n_components=None, random_state=None, tol=0.07, w_init=None, whiten=False) # 2h 1min 4s \"fast\"\n",
    "# decomp = SparsePCA(n_components=n_components, alpha=2,max_iter=1000,n_jobs=4,tol=1e-10, verbose=True) # 5min\n",
    "#\n",
    "# alpha=2 -> 1hr\n",
    "\n",
    "# decomp = FactorAnalysis(svd_method = 'lapack',n_components = n_components) ## ~10s ,n_components=30 -> 1.5 hrs\n",
    "decomp_method = str(decomp).split(\"(\")[0] \n",
    "# ,n_components=30\n",
    "\n",
    "X_r = decomp.fit_transform(decomp_std)\n",
    "\n",
    "BES_decomp = pd.DataFrame(   X_r,\n",
    "                             columns = range(0,n_components),\n",
    "                             index   = decomp_index)\n",
    "\n",
    "\n",
    "import pickle\n",
    "# treatdir = BES_data_folder+Treatment\n",
    "# subdir = BES_data_folder+Treatment+decomp_method\n",
    "load_suff = \"FactorAnalysis\"\n",
    "save = True # False => Load\n",
    "\n",
    "if save & ( 'decomp' in globals() ): # SAVE    ##( 'decomp' not in globals() )\n",
    "    decomp_method = str(decomp).split(\"(\")[0] \n",
    "    subdir = output_subfolder + decomp_method\n",
    "    fname = subdir+ os.sep + decomp_method\n",
    "    # create dir, save decomp object, BES_decomp, BES_std    \n",
    "    if not os.path.exists(subdir): os.makedirs(subdir)\n",
    "    with open(fname+\".pkl\", \"wb\") as f: pickle.dump( decomp, f )\n",
    "    BES_decomp.to_hdf(fname+\".hdf\"        , decomp_method)\n",
    "    decomp_std.to_hdf(   fname+\"_std\"+\".hdf\" , decomp_method)\n",
    "    \n",
    "else: # LOAD decomp results (default is SAVE)\n",
    "    decomp_method = load_suff\n",
    "    subdir = output_subfolder + os.sep + decomp_method    \n",
    "    fname = subdir + os.sep + decomp_method\n",
    "    if not os.path.exists(subdir): raise Exception(subdir + ' does not exist!')\n",
    "    # load decomp object, BES_decomp, BES_std, n_components\n",
    "    with open(fname+\".pkl\", \"rb\") as f: decomp = pickle.load(f) \n",
    "    BES_decomp = pd.read_hdf(fname+\".hdf\")\n",
    "    decomp_std    = pd.read_hdf(fname+\"_std\"+\".hdf\")\n",
    "    n_components = decomp.components_.shape[0] \n",
    "    \n",
    "    \n",
    "(BES_decomp, comp_labels, comp_dict) = display_components(n_components, decomp,\n",
    "                                                          decomp_columns, BES_decomp, manifest=None, \n",
    "                                                          save_folder = subdir,  \n",
    "                                                          show_first_x_comps= 7, show_histogram = False)    "
   ]
  },
  {
   "cell_type": "code",
   "execution_count": null,
   "id": "d3539ef0",
   "metadata": {},
   "outputs": [],
   "source": []
  },
  {
   "cell_type": "code",
   "execution_count": null,
   "id": "081d578f",
   "metadata": {},
   "outputs": [],
   "source": []
  },
  {
   "cell_type": "code",
   "execution_count": null,
   "id": "303f33f8",
   "metadata": {},
   "outputs": [],
   "source": []
  }
 ],
 "metadata": {
  "kernelspec": {
   "display_name": "Python 3",
   "language": "python",
   "name": "python3"
  },
  "language_info": {
   "codemirror_mode": {
    "name": "ipython",
    "version": 3
   },
   "file_extension": ".py",
   "mimetype": "text/x-python",
   "name": "python",
   "nbconvert_exporter": "python",
   "pygments_lexer": "ipython3",
   "version": "3.7.10"
  }
 },
 "nbformat": 4,
 "nbformat_minor": 5
}
