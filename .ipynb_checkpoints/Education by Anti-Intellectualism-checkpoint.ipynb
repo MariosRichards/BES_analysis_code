{
 "cells": [
  {
   "cell_type": "code",
   "execution_count": null,
   "metadata": {
    "collapsed": true
   },
   "outputs": [],
   "source": [
    "# https://twitter.com/p_surridge/status/925046405617594368\n",
    "\n",
    "# antiIntellectual\n",
    "# I’d rather put my trust in the wisdom of ordinary people than the opinions of experts\n",
    "# W7W8W9W10W11\n",
    "\n",
    "# education\n",
    "\n",
    "# Any breakdown of these people by party vote or media consumption.\n",
    "# It says alot by itself, but a semi unreality to it an actual practice!\n"
   ]
  },
  {
   "cell_type": "code",
   "execution_count": 1,
   "metadata": {
    "collapsed": true
   },
   "outputs": [],
   "source": [
    "import numpy as np\n",
    "import pandas as pd\n",
    "np.random.seed(0)\n",
    "\n",
    "import matplotlib.pyplot as plt\n",
    "import gc\n",
    "import re\n",
    "\n",
    "from sklearn import datasets\n",
    "from sklearn.decomposition import PCA, IncrementalPCA, NMF, TruncatedSVD, FastICA, FactorAnalysis, SparsePCA\n",
    "from sklearn.preprocessing import StandardScaler\n",
    "from sklearn.discriminant_analysis import LinearDiscriminantAnalysis\n",
    "from itertools import cycle\n",
    "from IPython.display import display\n",
    "import pickle, os\n",
    "\n",
    "import seaborn as sns\n",
    "\n",
    "BES_data_folder = \"../BES_analysis_data/\"\n",
    "BES_code_folder = \"../BES_analysis_code/\"\n",
    "\n",
    "# from fancyimpute import BiScaler, KNN, NuclearNormMinimization, SoftImpute, MICE\n",
    "from gaussian_kde import gaussian_kde\n",
    "from utility import display_components,display_pca_data\n",
    "\n",
    "\n",
    "import time\n",
    "import warnings\n",
    "\n",
    "import numpy as np\n",
    "import matplotlib.pyplot as plt\n",
    "\n",
    "from sklearn import cluster, datasets, mixture\n",
    "from sklearn.neighbors import kneighbors_graph\n",
    "from sklearn.preprocessing import StandardScaler\n",
    "from itertools import cycle, islice\n",
    "\n",
    "%matplotlib inline"
   ]
  },
  {
   "cell_type": "code",
   "execution_count": 2,
   "metadata": {
    "collapsed": true
   },
   "outputs": [],
   "source": [
    "from sklearn import datasets, cluster\n",
    "import numpy as np\n",
    "import matplotlib.pyplot as plt\n",
    "from mpl_toolkits.mplot3d import Axes3D\n",
    "\n",
    "from sklearn import cluster"
   ]
  },
  {
   "cell_type": "code",
   "execution_count": 3,
   "metadata": {
    "collapsed": true
   },
   "outputs": [],
   "source": [
    "Treatment = \"W13_only\" \n",
    "if not os.path.exists(BES_data_folder+Treatment):\n",
    "    os.makedirs(BES_data_folder+Treatment)"
   ]
  },
  {
   "cell_type": "code",
   "execution_count": 4,
   "metadata": {
    "collapsed": true
   },
   "outputs": [],
   "source": [
    "dataset = \"BES2017_W13_v1.0.dta\"\n",
    "wave = \"W13_only\"\n",
    "\n",
    "BES_Panel = pd.read_stata(BES_data_folder+dataset)"
   ]
  },
  {
   "cell_type": "code",
   "execution_count": 10,
   "metadata": {},
   "outputs": [
    {
     "data": {
      "text/plain": [
       "Undergraduate        8526\n",
       "GCSE A*-C            6120\n",
       "A-level              5822\n",
       "Postgrad             2640\n",
       "No qualifications    2078\n",
       "GCSE D-G             1315\n",
       "Name: edlevel, dtype: int64"
      ]
     },
     "execution_count": 10,
     "metadata": {},
     "output_type": "execute_result"
    }
   ],
   "source": [
    "BES_Panel[\"edlevel\"].value_counts()"
   ]
  },
  {
   "cell_type": "code",
   "execution_count": 11,
   "metadata": {},
   "outputs": [
    {
     "data": {
      "text/plain": [
       "26501"
      ]
     },
     "execution_count": 11,
     "metadata": {},
     "output_type": "execute_result"
    }
   ],
   "source": [
    "BES_Panel[\"edlevel\"].value_counts().sum()"
   ]
  },
  {
   "cell_type": "code",
   "execution_count": 8,
   "metadata": {},
   "outputs": [
    {
     "data": {
      "text/plain": [
       "(31197, 312)"
      ]
     },
     "execution_count": 8,
     "metadata": {},
     "output_type": "execute_result"
    }
   ],
   "source": [
    "BES_Panel.shape"
   ]
  },
  {
   "cell_type": "code",
   "execution_count": 16,
   "metadata": {},
   "outputs": [
    {
     "data": {
      "text/plain": [
       "University or CNAA first degree (eg BA, B.Sc, B.Ed)      6199\n",
       "GCE A level or Higher Certificate                        4245\n",
       "CSE grade 1, GCE O level, GCSE, School Certificate       4146\n",
       "Other technical, professional or higher qualification    3793\n",
       "University or CNAA higher degree (eg M.Sc, Ph.D)         2640\n",
       "No formal qualifications                                 2078\n",
       "City and Guild certificate                               1342\n",
       "University diploma                                       1158\n",
       "Teaching qualification (not degree)                       703\n",
       "City and Guild certificate - advanced                     688\n",
       "CSE grades 2-5                                            673\n",
       "Scottish Higher Certificate                               596\n",
       "Clerical and commercial                                   573\n",
       "Prefer not to say                                         571\n",
       "Nursing qualification (eg SEN, SRN, SCM, RGN)             466\n",
       "Recognised trade apprenticeship completed                 422\n",
       "Don't know                                                332\n",
       "onc                                                       293\n",
       "Scottish Ordinary/ Lower Certificate                      210\n",
       "Youth training certificate/skillseekers                    69\n",
       "Name: education, dtype: int64"
      ]
     },
     "execution_count": 16,
     "metadata": {},
     "output_type": "execute_result"
    }
   ],
   "source": [
    "BES_Panel[\"education\"].value_counts()"
   ]
  },
  {
   "cell_type": "code",
   "execution_count": null,
   "metadata": {
    "collapsed": true
   },
   "outputs": [],
   "source": []
  }
 ],
 "metadata": {
  "kernelspec": {
   "display_name": "Python [conda env:BES_analysis]",
   "language": "python",
   "name": "conda-env-BES_analysis-py"
  },
  "language_info": {
   "codemirror_mode": {
    "name": "ipython",
    "version": 3
   },
   "file_extension": ".py",
   "mimetype": "text/x-python",
   "name": "python",
   "nbconvert_exporter": "python",
   "pygments_lexer": "ipython3",
   "version": "3.6.2"
  }
 },
 "nbformat": 4,
 "nbformat_minor": 2
}
