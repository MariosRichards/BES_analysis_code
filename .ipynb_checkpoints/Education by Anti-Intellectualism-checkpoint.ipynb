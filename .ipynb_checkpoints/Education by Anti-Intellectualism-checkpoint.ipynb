{
 "cells": [
  {
   "cell_type": "code",
   "execution_count": 1,
   "metadata": {
    "collapsed": true
   },
   "outputs": [],
   "source": [
    "# https://twitter.com/p_surridge/status/925046405617594368\n",
    "\n",
    "# antiIntellectual\n",
    "# I’d rather put my trust in the wisdom of ordinary people than the opinions of experts\n",
    "# W7W8W9W10W11\n",
    "\n",
    "# education\n",
    "\n",
    "# Any breakdown of these people by party vote or media consumption.\n",
    "# It says alot by itself, but a semi unreality to it an actual practice!\n",
    "\n",
    "# media source variables?\n",
    "\n",
    "# profile_newspaper_readership_201 W10W13\n",
    "\n",
    "\n",
    "# euSources W7W8\n",
    "\n",
    "# infoSources W4W5W6W7W8W12W13\n",
    "\n",
    "# tvWatch/radioListen/paperRead/internetRead W4W5W8\n",
    "\n",
    "# twitterUse/twitterInfo W4W5W12\n",
    "\n",
    "# fbUse/fbInfo           W4W5W12\n",
    "\n",
    "\n",
    "\n",
    "# resourceAccess\n",
    "\n",
    "\n"
   ]
  },
  {
   "cell_type": "code",
   "execution_count": 2,
   "metadata": {
    "collapsed": true
   },
   "outputs": [],
   "source": [
    "import numpy as np\n",
    "import pandas as pd\n",
    "np.random.seed(0)\n",
    "\n",
    "import matplotlib.pyplot as plt\n",
    "import gc\n",
    "import re\n",
    "\n",
    "from sklearn import datasets\n",
    "from sklearn.decomposition import PCA, IncrementalPCA, NMF, TruncatedSVD, FastICA, FactorAnalysis, SparsePCA\n",
    "from sklearn.preprocessing import StandardScaler\n",
    "from sklearn.discriminant_analysis import LinearDiscriminantAnalysis\n",
    "from itertools import cycle\n",
    "from IPython.display import display\n",
    "import pickle, os\n",
    "\n",
    "import seaborn as sns\n",
    "\n",
    "# from fancyimpute import BiScaler, KNN, NuclearNormMinimization, SoftImpute, MICE\n",
    "from gaussian_kde import gaussian_kde\n",
    "from utility import display_components,display_pca_data\n",
    "\n",
    "\n",
    "import time\n",
    "import warnings\n",
    "\n",
    "import numpy as np\n",
    "import matplotlib.pyplot as plt\n",
    "\n",
    "from sklearn import cluster, datasets, mixture\n",
    "from sklearn.neighbors import kneighbors_graph\n",
    "from sklearn.preprocessing import StandardScaler\n",
    "from itertools import cycle, islice\n",
    "\n",
    "%matplotlib inline"
   ]
  },
  {
   "cell_type": "code",
   "execution_count": 3,
   "metadata": {
    "collapsed": true
   },
   "outputs": [],
   "source": [
    "from sklearn import datasets, cluster\n",
    "import numpy as np\n",
    "import matplotlib.pyplot as plt\n",
    "from mpl_toolkits.mplot3d import Axes3D\n",
    "\n",
    "from sklearn import cluster"
   ]
  },
  {
   "cell_type": "code",
   "execution_count": 4,
   "metadata": {
    "collapsed": true
   },
   "outputs": [],
   "source": [
    "# you should clone this git to this subdirectory (in some directory - I call it BES_analysis - doesn't matter though)\n",
    "\n",
    "if os.getcwd().split(os.sep)[-1] != 'BES_analysis_code':\n",
    "    raise Exception(\"Stop! You're in the wrong directory - should be in 'BES_analysis_code'\")\n",
    "\n",
    "BES_code_folder   = \"../BES_analysis_code/\" # we should be here!\n",
    "BES_small_data_files = BES_code_folder + \"small data files\" + os.sep\n",
    "if not os.path.exists( BES_small_data_files ):\n",
    "    os.makedirs( BES_small_data_files )\n",
    "\n",
    "# we should create these if they don't already exist\n",
    "BES_data_folder   = \"../BES_analysis_data/\"\n",
    "if not os.path.exists( BES_data_folder ):\n",
    "    os.makedirs( BES_data_folder )\n",
    "\n",
    "BES_output_folder = \"../BES_analysis_output/\"\n",
    "if not os.path.exists( BES_output_folder ):\n",
    "    os.makedirs( BES_output_folder )"
   ]
  },
  {
   "cell_type": "code",
   "execution_count": null,
   "metadata": {
    "collapsed": true
   },
   "outputs": [],
   "source": []
  },
  {
   "cell_type": "code",
   "execution_count": null,
   "metadata": {
    "collapsed": true
   },
   "outputs": [],
   "source": []
  },
  {
   "cell_type": "code",
   "execution_count": 5,
   "metadata": {
    "collapsed": true
   },
   "outputs": [],
   "source": [
    "wave = \"W8_comb\"\n"
   ]
  },
  {
   "cell_type": "code",
   "execution_count": 6,
   "metadata": {
    "collapsed": true
   },
   "outputs": [],
   "source": [
    "import urllib.request\n",
    "import zipfile\n",
    "BES_file_manifest = pd.read_csv(BES_small_data_files+\"BES_file_manifest.csv\")"
   ]
  },
  {
   "cell_type": "code",
   "execution_count": 8,
   "metadata": {},
   "outputs": [
    {
     "name": "stdout",
     "output_type": "stream",
     "text": [
      "checking for W13_only and file BES2017_W13_v1.0.dta\n",
      "It's there!\n",
      "checking for W13_comb and file BES2017_W13_Panel_v1.0.dta\n",
      "It's there!\n",
      "checking for W13_comb_strings and file BES2017_W13Strings_v1.0.dta\n",
      "It's there!\n",
      "checking for W12_only and file BES2015_W12_v1.0.dta\n",
      "It's there!\n",
      "checking for W11_only and file BES2015_W11_v1.0.dta\n",
      "It's there!\n",
      "checking for W10_comb and file BES2015_W10_Panel_v0.3.dta\n",
      "It's there!\n",
      "checking for W10_only and file BES2015_W10_v0.3.dta\n",
      "It's there!\n",
      "checking for W9_comb and file BES2015_W9_Panel_v1.2.dta\n",
      "It's there!\n",
      "checking for W9_only and file BES2015_W9_v1.2.dta\n",
      "It's there!\n",
      "checking for W8_only and file BES2015_W8_v1.6.dta\n",
      "It's there!\n",
      "checking for W8_comb and file BES2015_W8_Panel_v1.4.dta\n",
      "It's there!\n",
      "checking for W7_only and file BES2015_W7_v1.3.dta\n",
      "It's there!\n",
      "checking for W7_comb and file BES2015_W7_Panel_v3.0.dta\n",
      "It's there!\n",
      "checking for W6_only and file BES2015_W6_v3.6.dta\n",
      "It's there!\n",
      "checking for W6_comb and file BES2015_W6_Panel_v1.2.dta\n",
      "It's there!\n",
      "checking for W5_comb and file BES2015_W5_Panel_v1.6.dta\n",
      "It's there!\n",
      "checking for W5_only and file BES2015_W5_v1.0.dta\n",
      "It's there!\n",
      "checking for W4_only and file BES2015_W4_v3.7.dta\n",
      "It's there!\n",
      "checking for W4_comb and file BES2015_W4_Panel_v2.1.dta\n",
      "It's there!\n",
      "checking for W3_only and file BES2015_W3_v4.7.dta\n",
      "It's there!\n",
      "checking for W3_comb and file BES2015_W3_Panel_v1.2.dta\n",
      "It's there!\n",
      "checking for W2_only and file BES2015_W2_v6.7.dta\n",
      "It's there!\n",
      "checking for W1_only and file BES2015_W1_v7.7.dta\n",
      "It's there!\n"
     ]
    }
   ],
   "source": [
    "\n",
    "wave_list = BES_file_manifest.Name.values\n",
    "# wave_list = [\"W13_only\"]\n",
    "\n",
    "for wave in wave_list:\n",
    "\n",
    "\n",
    "    manifest = BES_file_manifest[ BES_file_manifest[\"Name\"] == wave ]\n",
    "\n",
    "    filename = manifest[\"Stata_Filename\"].values[0]\n",
    "    # final filename! may need to be unzipped!\n",
    "\n",
    "    url      = manifest[\"Stata_Url\"].values[0]\n",
    "\n",
    "    Treatment = wave\n",
    "    \n",
    "    data_subfolder = BES_data_folder+Treatment+os.sep\n",
    "    \n",
    "    # make data subfolder if it doesn't already exist\n",
    "    \n",
    "    if not os.path.exists(data_subfolder):\n",
    "        os.makedirs(data_subfolder)\n",
    "\n",
    "#     try:\n",
    "#         BES_Panel = pd.read_stata(BES_data_folder+filename)\n",
    "\n",
    "#     except FileNotFoundError:\n",
    "    print(\"checking for \"+wave+ \" and file \"+filename)\n",
    "    \n",
    "    \n",
    "\n",
    "    # stata file does not exist, download!\n",
    "    if not os.path.exists( data_subfolder + filename ):      \n",
    "\n",
    "\n",
    "        opener=urllib.request.build_opener()\n",
    "        opener.addheaders=[('User-Agent',\n",
    "                            'Mozilla/5.0 (Windows NT 6.1; WOW64) AppleWebKit/537.36 (KHTML, like Gecko) Chrome/36.0.1941.0 Safari/537.36')]\n",
    "        urllib.request.install_opener(opener)\n",
    "\n",
    "        url_filename = url.split(\"/\")[-1]\n",
    "        print(\"downloading \"+str(url_filename))        \n",
    "        urllib.request.urlretrieve(url,\n",
    "                                   data_subfolder + url_filename)\n",
    "\n",
    "        # unzip?\n",
    "        file_extension = url_filename.split(\".\")[-1]    \n",
    "        if (file_extension == \"zip\"):\n",
    "            print( \"unzipping \"+str( url_filename ) )\n",
    "            zip_ref = zipfile.ZipFile( data_subfolder + url_filename , 'r')\n",
    "            zip_ref.extractall( data_subfolder )\n",
    "            zip_ref.close()\n",
    "            print( \"unzipped to \"+str(filename) )\n",
    "            \n",
    "            # remove zip file!\n",
    "            os.remove(data_subfolder + url_filename)\n",
    "            print(\"deleted \"+str(url_filename))\n",
    "\n",
    "        elif (file_extension == \"7z\"):\n",
    "            # sorry - no clean way to unzip this in python!\n",
    "            raise Exception(\"I'm afraid you'll have extract this file manually: \"+str(url_filename))\n",
    "    else:\n",
    "        print(\"It's there!\")\n",
    "#         BES_Panel = pd.read_stata( BES_data_folder+filename)\n",
    "\n",
    "    # download the questionnaire pdf\n",
    "    url_ques_filename = manifest[ \"Ques_Url\" ].values[0]\n",
    "    ques_filename = url_ques_filename.split('/')[-1]\n",
    "    if not os.path.exists( data_subfolder + ques_filename ):\n",
    "        print( \"downloading \" + url_ques_filename )\n",
    "\n",
    "        opener=urllib.request.build_opener()\n",
    "        opener.addheaders=[('User-Agent',\n",
    "                            'Mozilla/5.0 (Windows NT 6.1; WOW64) AppleWebKit/537.36 (KHTML, like Gecko) Chrome/36.0.1941.0 Safari/537.36')]\n",
    "        urllib.request.install_opener(opener)\n",
    "\n",
    "        urllib.request.urlretrieve(url_ques_filename,\n",
    "                                   data_subfolder + ques_filename)        \n",
    "\n"
   ]
  },
  {
   "cell_type": "code",
   "execution_count": null,
   "metadata": {
    "collapsed": true
   },
   "outputs": [],
   "source": []
  },
  {
   "cell_type": "code",
   "execution_count": 20,
   "metadata": {},
   "outputs": [
    {
     "data": {
      "text/plain": [
       "'../BES_analysis_data/W10_comb\\\\BES2015_W10_Panel_v0.3_stata.dta'"
      ]
     },
     "execution_count": 20,
     "metadata": {},
     "output_type": "execute_result"
    }
   ],
   "source": [
    "data_subfolder + filename"
   ]
  },
  {
   "cell_type": "code",
   "execution_count": 21,
   "metadata": {},
   "outputs": [
    {
     "data": {
      "text/plain": [
       "False"
      ]
     },
     "execution_count": 21,
     "metadata": {},
     "output_type": "execute_result"
    }
   ],
   "source": [
    "os.path.exists( data_subfolder + filename )"
   ]
  },
  {
   "cell_type": "code",
   "execution_count": 23,
   "metadata": {},
   "outputs": [
    {
     "data": {
      "text/plain": [
       "array(['W13_only', 'W13_comb', 'W13_comb_strings', 'W12_only', 'W11_only',\n",
       "       'W10_comb', 'W10_only', 'W9_comb', 'W9_only', 'W8_only', 'W8_comb',\n",
       "       'W7_only', 'W7_comb', 'W6_only', 'W6_comb', 'W5_comb', 'W5_only',\n",
       "       'W4_only', 'W4_comb', 'W3_only', 'W3_comb', 'W2_only', 'W1_only'], dtype=object)"
      ]
     },
     "execution_count": 23,
     "metadata": {},
     "output_type": "execute_result"
    }
   ],
   "source": []
  },
  {
   "cell_type": "code",
   "execution_count": null,
   "metadata": {
    "collapsed": true
   },
   "outputs": [],
   "source": []
  },
  {
   "cell_type": "code",
   "execution_count": null,
   "metadata": {
    "collapsed": true
   },
   "outputs": [],
   "source": [
    "BES_Panel[\"edlevel\"].value_counts()"
   ]
  },
  {
   "cell_type": "code",
   "execution_count": null,
   "metadata": {
    "collapsed": true
   },
   "outputs": [],
   "source": [
    "BES_Panel[\"edlevel\"].value_counts().sum()"
   ]
  },
  {
   "cell_type": "code",
   "execution_count": null,
   "metadata": {
    "collapsed": true
   },
   "outputs": [],
   "source": [
    "BES_Panel.shape"
   ]
  },
  {
   "cell_type": "code",
   "execution_count": null,
   "metadata": {
    "collapsed": true
   },
   "outputs": [],
   "source": [
    "BES_Panel[\"education\"].value_counts()"
   ]
  },
  {
   "cell_type": "code",
   "execution_count": null,
   "metadata": {
    "collapsed": true
   },
   "outputs": [],
   "source": [
    "import seaborn as sns"
   ]
  },
  {
   "cell_type": "code",
   "execution_count": null,
   "metadata": {
    "collapsed": true
   },
   "outputs": [],
   "source": [
    "BES_Panel[\"antiIntellectual\"].value_counts()[ BES_Panel[\"antiIntellectual\"].cat.categories]"
   ]
  },
  {
   "cell_type": "code",
   "execution_count": null,
   "metadata": {
    "collapsed": true
   },
   "outputs": [],
   "source": [
    "BES_Panel[\"antiIntellectual\"].cat.categories"
   ]
  },
  {
   "cell_type": "code",
   "execution_count": null,
   "metadata": {
    "collapsed": true
   },
   "outputs": [],
   "source": []
  },
  {
   "cell_type": "code",
   "execution_count": null,
   "metadata": {
    "collapsed": true
   },
   "outputs": [],
   "source": [
    "# I’d rather put my trust in the wisdom of ordinary people than the opinions of experts\n",
    "\n",
    "sns.countplot(hue=\"antiIntellectual\", x=\"edlevel\", data=BES_Panel, palette=\"Greens_d\");"
   ]
  },
  {
   "cell_type": "code",
   "execution_count": null,
   "metadata": {
    "collapsed": true
   },
   "outputs": [],
   "source": [
    "pd.crosstab(BES_Panel[\"antiIntellectual\"],BES_Panel[\"edlevel\"])"
   ]
  },
  {
   "cell_type": "code",
   "execution_count": null,
   "metadata": {
    "collapsed": true
   },
   "outputs": [],
   "source": []
  },
  {
   "cell_type": "code",
   "execution_count": null,
   "metadata": {
    "collapsed": true
   },
   "outputs": [],
   "source": [
    "N = 1000\n",
    "mark = np.random.choice([True,False], N)\n",
    "periods = np.random.choice(['BASELINE','WEEK 12', 'WEEK 24', 'WEEK 4'], N)\n",
    "\n",
    "df = pd.DataFrame({'mark':mark,'period':periods})\n",
    "ct = pd.crosstab(df.period, df.mark)\n",
    "\n",
    "#  mark      False  True \n",
    "#  period                \n",
    "#  BASELINE    118    111\n",
    "#  WEEK 12     117    149\n",
    "#  WEEK 24     117    130\n",
    "#  WEEK 4      127    131\n",
    "\n",
    "# now stack and reset\n",
    "stacked = ct.stack().reset_index().rename(columns={0:'value'})"
   ]
  },
  {
   "cell_type": "code",
   "execution_count": null,
   "metadata": {
    "collapsed": true
   },
   "outputs": [],
   "source": [
    "var1 = \"edlevel\"\n",
    "var2 = \"antiIntellectual\"\n",
    "\n",
    "ct = pd.crosstab(BES_Panel[var1],BES_Panel[var2],normalize='index')*100\n",
    "pct = ct.stack().reset_index().rename(columns={0:'percentage'})\n",
    "\n",
    "fig, ax = plt.subplots()\n",
    "# the size of A4 paper\n",
    "fig.set_size_inches(11.7, 8.27)\n",
    "\n",
    "sns.barplot(hue=var2, x=var1, y='percentage', data=pct, palette=\"Greens_d\",ax=ax);\n",
    "ax.set_title(\"I’d rather put my trust in the wisdom of ordinary people than the opinions of experts\")\n",
    "\n",
    "fig.savefig( BES_data_folder+Treatment+\"ed_by_anti_int_coarse.png\", bbox_inches='tight' )\n"
   ]
  },
  {
   "cell_type": "code",
   "execution_count": null,
   "metadata": {
    "collapsed": true
   },
   "outputs": [],
   "source": [
    "var1 = \"education\"\n",
    "var2 = \"antiIntellectual\"\n",
    "\n",
    "\n",
    "ct = pd.crosstab(BES_Panel[var1],BES_Panel[var2],normalize='index')*100\n",
    "pct = ct.stack().reset_index().rename(columns={0:'percentage'})\n",
    "\n",
    "fig, ax = plt.subplots()\n",
    "# the size of A4 paper\n",
    "fig.set_size_inches(11.7, 8.27)\n",
    "\n",
    "sns.barplot(hue=var2, x=var1, y='percentage', data=pct, palette=\"Greens_d\",ax=ax);\n",
    "ax.set_title(\"I’d rather put my trust in the wisdom of ordinary people than the opinions of experts\")\n",
    "ax.set_xticklabels( BES_Panel[var1].cat.categories, rotation=90 ) ;\n",
    "\n",
    "fig.savefig( BES_data_folder+Treatment+os.sep+\"ed_by_anti_int_fine.png\", bbox_inches='tight' )"
   ]
  },
  {
   "cell_type": "code",
   "execution_count": null,
   "metadata": {
    "collapsed": true
   },
   "outputs": [],
   "source": [
    "BES_Panel[var2].cat.remove_categories(\"Don't know\")\n",
    "\n",
    "\n",
    "not_dks = (BES_Panel[var2] != \"Don't know\")\n",
    "BES_Panel[var2][not_dks].cat.codes.value_counts()"
   ]
  },
  {
   "cell_type": "code",
   "execution_count": null,
   "metadata": {
    "collapsed": true
   },
   "outputs": [],
   "source": [
    "var1 = \"education\"\n",
    "var2 = \"antiIntellectual\"\n",
    "\n",
    "fig, ax = plt.subplots()\n",
    "# the size of A4 paper\n",
    "fig.set_size_inches(11.7, 8.27)\n",
    "\n",
    "\n",
    "# get list of x-axis values ordered by mean\n",
    "sorted_index = BES_Panel[var2][not_dks].cat.codes.groupby(BES_Panel[var1][not_dks]).mean().sort_values(ascending=True).index\n",
    "\n",
    "sns.barplot(x=BES_Panel[var1][not_dks], y=BES_Panel[var2][not_dks].cat.codes, order = sorted_index)\n",
    "ax.set_title(\"I’d rather put my trust in the wisdom of ordinary people than the opinions of experts\")\n",
    "\n",
    "\n",
    "\n",
    "ax.set_xticklabels( sorted_index, rotation=90 ) ;\n",
    "\n",
    "fig.savefig( BES_data_folder+Treatment+os.sep+\"ed_by_anti_int_coarse.png\", bbox_inches='tight' )"
   ]
  },
  {
   "cell_type": "code",
   "execution_count": null,
   "metadata": {
    "collapsed": true
   },
   "outputs": [],
   "source": [
    "var1 = \"generalElectionVote\"\n",
    "var2 = \"antiIntellectual\"\n",
    "\n",
    "fig, ax = plt.subplots()\n",
    "# the size of A4 paper\n",
    "fig.set_size_inches(11.7, 8.27)\n",
    "\n",
    "\n",
    "# get list of x-axis values ordered by mean\n",
    "sorted_index = BES_Panel[var2][not_dks].cat.codes.groupby(BES_Panel[var1][not_dks]).mean().sort_values(ascending=True).index\n",
    "\n",
    "sns.barplot(x=BES_Panel[var1][not_dks], y=BES_Panel[var2][not_dks].cat.codes, order = sorted_index)\n",
    "ax.set_title(\"I’d rather put my trust in the wisdom of ordinary people than the opinions of experts\")\n",
    "\n",
    "\n",
    "\n",
    "ax.set_xticklabels( sorted_index, rotation=90 ) ;\n",
    "\n",
    "fig.savefig( BES_data_folder+Treatment+os.sep+\"vote_by_anti_int_coarse.png\", bbox_inches='tight' )"
   ]
  },
  {
   "cell_type": "code",
   "execution_count": null,
   "metadata": {
    "collapsed": true
   },
   "outputs": [],
   "source": [
    "var1 = \"generalElectionVote\"\n",
    "var2 = \"antiIntellectual\"\n",
    "\n",
    "ct = pd.crosstab(BES_Panel[var1],BES_Panel[var2],normalize='index')*100\n",
    "pct = ct.stack().reset_index().rename(columns={0:'percentage'})\n",
    "\n",
    "fig, ax = plt.subplots()\n",
    "# the size of A4 paper\n",
    "fig.set_size_inches(11.7, 8.27)\n",
    "\n",
    "sns.barplot(hue=var2, x=var1, y='percentage', data=pct, palette=\"Greens_d\",ax=ax, order=sorted_index);\n",
    "ax.set_title(\"I’d rather put my trust in the wisdom of ordinary people than the opinions of experts\")\n",
    "ax.set_xticklabels( sorted_index, rotation=90 ) ;\n",
    "\n",
    "fig.savefig( BES_data_folder+Treatment+os.sep+\"vote_by_anti_int_fine.png\", bbox_inches='tight' )\n"
   ]
  },
  {
   "cell_type": "code",
   "execution_count": null,
   "metadata": {
    "collapsed": true
   },
   "outputs": [],
   "source": []
  },
  {
   "cell_type": "code",
   "execution_count": null,
   "metadata": {
    "collapsed": true
   },
   "outputs": [],
   "source": [
    "# wave 9 \"profile_newspaper_readership_201\"; wave 11 \"profile_newspaper\"\n",
    "var1 = \"profile_newspaper\"\n",
    "var2 = \"antiIntellectual\"\n",
    "\n",
    "fig, ax = plt.subplots()\n",
    "# the size of A4 paper\n",
    "fig.set_size_inches(11.7, 8.27)\n",
    "\n",
    "\n",
    "# get list of x-axis values ordered by mean\n",
    "sorted_index = BES_Panel[var2][not_dks].cat.codes.groupby(BES_Panel[var1][not_dks]).mean().sort_values(ascending=True).index\n",
    "\n",
    "sns.barplot(x=BES_Panel[var1][not_dks], y=BES_Panel[var2][not_dks].cat.codes, order = sorted_index)\n",
    "ax.set_title(\"I’d rather put my trust in the wisdom of ordinary people than the opinions of experts\")\n",
    "\n",
    "\n",
    "\n",
    "ax.set_xticklabels( sorted_index, rotation=90 ) ;\n",
    "\n",
    "fig.savefig( BES_data_folder+Treatment+os.sep+\"newspaper_by_anti_int_coarse.png\", bbox_inches='tight' )"
   ]
  },
  {
   "cell_type": "code",
   "execution_count": null,
   "metadata": {
    "collapsed": true
   },
   "outputs": [],
   "source": [
    "\n",
    "ct = pd.crosstab(BES_Panel[var1],BES_Panel[var2],normalize='index')*100\n",
    "pct = ct.stack().reset_index().rename(columns={0:'percentage'})\n",
    "\n",
    "fig, ax = plt.subplots()\n",
    "# the size of A4 paper\n",
    "fig.set_size_inches(11.7, 8.27)\n",
    "\n",
    "sns.barplot(hue=var2, x=var1, y='percentage', data=pct, palette=\"Greens_d\",ax=ax, order=sorted_index);\n",
    "ax.set_title(\"I’d rather put my trust in the wisdom of ordinary people than the opinions of experts\")\n",
    "ax.set_xticklabels( sorted_index, rotation=90 ) ;\n",
    "\n",
    "fig.savefig( BES_data_folder+Treatment+os.sep+\"newspaper_by_anti_int_fine.png\", bbox_inches='tight' )\n"
   ]
  },
  {
   "cell_type": "code",
   "execution_count": null,
   "metadata": {
    "collapsed": true
   },
   "outputs": [],
   "source": []
  },
  {
   "cell_type": "code",
   "execution_count": null,
   "metadata": {
    "collapsed": true
   },
   "outputs": [],
   "source": [
    "# [x for x in BES_Panel.columns if \"profile_newspaper\" in x]"
   ]
  },
  {
   "cell_type": "code",
   "execution_count": null,
   "metadata": {
    "collapsed": true
   },
   "outputs": [],
   "source": []
  },
  {
   "cell_type": "code",
   "execution_count": null,
   "metadata": {
    "collapsed": true
   },
   "outputs": [],
   "source": []
  },
  {
   "cell_type": "code",
   "execution_count": null,
   "metadata": {
    "collapsed": true
   },
   "outputs": [],
   "source": []
  },
  {
   "cell_type": "code",
   "execution_count": null,
   "metadata": {
    "collapsed": true
   },
   "outputs": [],
   "source": []
  }
 ],
 "metadata": {
  "kernelspec": {
   "display_name": "Python [conda env:BES_analysis]",
   "language": "python",
   "name": "conda-env-BES_analysis-py"
  },
  "language_info": {
   "codemirror_mode": {
    "name": "ipython",
    "version": 3
   },
   "file_extension": ".py",
   "mimetype": "text/x-python",
   "name": "python",
   "nbconvert_exporter": "python",
   "pygments_lexer": "ipython3",
   "version": "3.6.2"
  }
 },
 "nbformat": 4,
 "nbformat_minor": 2
}
