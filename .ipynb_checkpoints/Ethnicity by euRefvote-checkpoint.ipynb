{
 "cells": [
  {
   "cell_type": "code",
   "execution_count": null,
   "metadata": {
    "collapsed": true
   },
   "outputs": [],
   "source": []
  },
  {
   "cell_type": "code",
   "execution_count": 47,
   "metadata": {
    "collapsed": true
   },
   "outputs": [],
   "source": [
    "import numpy as np\n",
    "import pandas as pd\n",
    "np.random.seed(0)\n",
    "\n",
    "import matplotlib.pyplot as plt\n",
    "import gc\n",
    "import re\n",
    "\n",
    "from sklearn import datasets\n",
    "from sklearn.decomposition import PCA, IncrementalPCA, NMF, TruncatedSVD, FastICA, FactorAnalysis, SparsePCA\n",
    "from sklearn.preprocessing import StandardScaler\n",
    "from sklearn.discriminant_analysis import LinearDiscriminantAnalysis\n",
    "from itertools import cycle\n",
    "from IPython.display import display\n",
    "import pickle, os\n",
    "\n",
    "import seaborn as sns\n",
    "\n",
    "# from fancyimpute import BiScaler, KNN, NuclearNormMinimization, SoftImpute, MICE\n",
    "from gaussian_kde import gaussian_kde\n",
    "from utility import display_components,display_pca_data\n",
    "\n",
    "\n",
    "import time\n",
    "import warnings\n",
    "\n",
    "import numpy as np\n",
    "import matplotlib.pyplot as plt\n",
    "\n",
    "from sklearn import cluster, datasets, mixture\n",
    "from sklearn.neighbors import kneighbors_graph\n",
    "from sklearn.preprocessing import StandardScaler\n",
    "from itertools import cycle, islice\n",
    "\n",
    "%matplotlib inline"
   ]
  },
  {
   "cell_type": "code",
   "execution_count": 48,
   "metadata": {
    "collapsed": true
   },
   "outputs": [],
   "source": [
    "from sklearn import datasets, cluster\n",
    "import numpy as np\n",
    "import matplotlib.pyplot as plt\n",
    "from mpl_toolkits.mplot3d import Axes3D\n",
    "\n",
    "from sklearn import cluster"
   ]
  },
  {
   "cell_type": "code",
   "execution_count": 49,
   "metadata": {
    "collapsed": true
   },
   "outputs": [],
   "source": [
    "# you should clone this git to this subdirectory (in some directory - I call it BES_analysis - doesn't matter though)\n",
    "\n",
    "if os.getcwd().split(os.sep)[-1] != 'BES_analysis_code':\n",
    "    raise Exception(\"Stop! You're in the wrong directory - should be in 'BES_analysis_code'\")\n",
    "\n",
    "BES_code_folder   = \"../BES_analysis_code/\" # we should be here!\n",
    "BES_small_data_files = BES_code_folder + \"small data files\" + os.sep\n",
    "if not os.path.exists( BES_small_data_files ):\n",
    "    os.makedirs( BES_small_data_files )\n",
    "\n",
    "# we should create these if they don't already exist\n",
    "BES_data_folder   = \"../BES_analysis_data/\"\n",
    "if not os.path.exists( BES_data_folder ):\n",
    "    os.makedirs( BES_data_folder )\n",
    "\n",
    "BES_output_folder = \"../BES_analysis_output/\"\n",
    "if not os.path.exists( BES_output_folder ):\n",
    "    os.makedirs( BES_output_folder )"
   ]
  },
  {
   "cell_type": "code",
   "execution_count": 50,
   "metadata": {
    "collapsed": true
   },
   "outputs": [],
   "source": [
    "dataset_name = \"W13_comb\""
   ]
  },
  {
   "cell_type": "code",
   "execution_count": 51,
   "metadata": {},
   "outputs": [
    {
     "name": "stdout",
     "output_type": "stream",
     "text": [
      "(69486, 5173)\n",
      "Wall time: 22min 47s\n"
     ]
    }
   ],
   "source": [
    "%%time\n",
    "\n",
    "\n",
    "BES_file_manifest = pd.read_csv( BES_small_data_files + \"BES_file_manifest.csv\" )\n",
    "manifest = BES_file_manifest[ BES_file_manifest[\"Name\"] == dataset_name ]\n",
    "\n",
    "filename = manifest[\"Stata_Filename\"].values[0]\n",
    "\n",
    "data_subfolder = BES_data_folder + dataset_name + os.sep\n",
    "\n",
    "Treatment = dataset_name\n",
    "\n",
    "\n",
    "# dataset = \"BES2017_W13_v1.0.dta\"\n",
    "# wave = \"W13_only\"\n",
    "\n",
    "BES_Panel = pd.read_stata( data_subfolder + filename)\n",
    "\n",
    "print( BES_Panel.shape )\n",
    "\n",
    "# 20 mins for W13_comb"
   ]
  },
  {
   "cell_type": "code",
   "execution_count": 44,
   "metadata": {},
   "outputs": [],
   "source": [
    "# BES_Panel[\"euRefVote\"]\n",
    "# BES_Panel[\"profile_ethnicity\"]\n",
    "# BES_Panel[\"wt_full_W9\"]"
   ]
  },
  {
   "cell_type": "code",
   "execution_count": 52,
   "metadata": {},
   "outputs": [],
   "source": [
    "# add N=??? sample size to each category type!\n",
    "cats = BES_Panel[var1].cat.categories\n",
    "sample_sizes = BES_Panel[var1].value_counts().loc[cats].values\n",
    "cat_plus_sample_sizes = [\"\".join([x,\" (N=\", str(y),\")\"]) for x,y in zip(cats, sample_sizes)]\n",
    "BES_Panel[var1].cat.rename_categories( cat_plus_sample_sizes, inplace=True )"
   ]
  },
  {
   "cell_type": "code",
   "execution_count": 63,
   "metadata": {},
   "outputs": [
    {
     "data": {
      "text/plain": [
       "['euRefVoteW1',\n",
       " 'euRefVoteW2',\n",
       " 'euRefVoteW3',\n",
       " 'euRefVoteW4',\n",
       " 'euRefVoteW6',\n",
       " 'euRefVoteW7',\n",
       " 'euRefVoteSqueezeW7',\n",
       " 'euRefVoteUnsqueezeW7',\n",
       " 'euRefVotePostW8',\n",
       " 'euRefVoteW8',\n",
       " 'euRefVoteSqueezeW8',\n",
       " 'euRefVoteUnsqueezeW8',\n",
       " 'euRefVote2W8',\n",
       " 'euRefVoteHypotheticalW9',\n",
       " 'euRefVoteW9',\n",
       " 'euRefVoteW10',\n",
       " 'euRefVoteW11',\n",
       " 'euRefVoteW12',\n",
       " 'euRefVoteW13']"
      ]
     },
     "execution_count": 63,
     "metadata": {},
     "output_type": "execute_result"
    }
   ],
   "source": [
    "[x for x in BES_Panel.columns if \"euRefVote\" in x]"
   ]
  },
  {
   "cell_type": "code",
   "execution_count": null,
   "metadata": {
    "collapsed": true
   },
   "outputs": [],
   "source": [
    "weights = 'wt_new_W13'"
   ]
  },
  {
   "cell_type": "code",
   "execution_count": 61,
   "metadata": {},
   "outputs": [
    {
     "data": {
      "image/png": "[encoded data removed]",
      "text/plain": [
       "<matplotlib.figure.Figure at 0x17238048>"
      ]
     },
     "metadata": {},
     "output_type": "display_data"
    }
   ],
   "source": [
    "var1 = \"profile_ethnicity\"\n",
    "var2 = 'euRefVoteW13'\n",
    "weights = 'wt_new_W13'\n",
    "\n",
    "# # add N=??? sample size to each category type!\n",
    "# sample_sizes = df[col].value_counts().loc[cats].values\n",
    "# cat_plus_sample_sizes = [\"\".join([x,\" (N=\", str(y),\")\"]) for x,y in zip(cats, sample_sizes)]\n",
    "# df[col].cat.rename_categories( cat_plus_sample_sizes, inplace=True )\n",
    "\n",
    "\n",
    "ct = pd.crosstab(BES_Panel[var1],BES_Panel[var2],normalize='index',aggfunc = sum, values = BES_Panel[weights])*100\n",
    "pct = ct.stack().reset_index().rename(columns={0:'percentage'})\n",
    "\n",
    "fig, ax = plt.subplots()\n",
    "# the size of A4 paper\n",
    "fig.set_size_inches(11.7, 8.27)\n",
    "\n",
    "\n",
    "\n",
    "sns.barplot(hue=var2, x=var1, y='percentage', data=pct, palette=\"Greens_d\",ax=ax);\n",
    "ax.set_title(\"profile_ethnicity by euRef vote \"+\"(\"+dataset_name+\")\")\n",
    "\n",
    "\n",
    "ax.set_xticklabels( BES_Panel[var1].cat.categories , rotation=90 ) ;\n",
    "\n",
    "fig.savefig( BES_data_folder+Treatment+\"profile_ethnicity_by_euRefvote\"+\"(\"+dataset_name+\")\"+\".png\", bbox_inches='tight' )\n"
   ]
  },
  {
   "cell_type": "code",
   "execution_count": 39,
   "metadata": {},
   "outputs": [
    {
     "data": {
      "text/plain": [
       "'W9_only'"
      ]
     },
     "execution_count": 39,
     "metadata": {},
     "output_type": "execute_result"
    }
   ],
   "source": [
    "Treatment"
   ]
  },
  {
   "cell_type": "code",
   "execution_count": 62,
   "metadata": {},
   "outputs": [
    {
     "data": {
      "text/plain": [
       "Stay/remain in the EU    15218\n",
       "Leave the EU             13624\n",
       "Don't know                1444\n",
       "I would/will not vote      911\n",
       "Name: euRefVoteW13, dtype: int64"
      ]
     },
     "execution_count": 62,
     "metadata": {},
     "output_type": "execute_result"
    }
   ],
   "source": [
    "BES_Panel[].value_counts()"
   ]
  },
  {
   "cell_type": "code",
   "execution_count": 69,
   "metadata": {},
   "outputs": [
    {
     "data": {
      "text/plain": [
       "euRefVoteW1                30325\n",
       "euRefVoteW2                25798\n",
       "euRefVoteW3                27830\n",
       "euRefVoteW4                31439\n",
       "euRefVoteW6                30148\n",
       "euRefVoteW7                30895\n",
       "euRefVoteSqueezeW7          4717\n",
       "euRefVoteUnsqueezeW7       30895\n",
       "euRefVotePostW8             4326\n",
       "euRefVoteW8                33501\n",
       "euRefVoteSqueezeW8          3818\n",
       "euRefVoteUnsqueezeW8       29175\n",
       "euRefVote2W8               29175\n",
       "euRefVoteHypotheticalW9     1788\n",
       "euRefVoteW9                28248\n",
       "euRefVoteW10               30319\n",
       "euRefVoteW11               31014\n",
       "euRefVoteW12               34464\n",
       "euRefVoteW13               31197\n",
       "dtype: int64"
      ]
     },
     "execution_count": 69,
     "metadata": {},
     "output_type": "execute_result"
    }
   ],
   "source": []
  },
  {
   "cell_type": "code",
   "execution_count": null,
   "metadata": {
    "collapsed": true
   },
   "outputs": [],
   "source": []
  },
  {
   "cell_type": "code",
   "execution_count": null,
   "metadata": {
    "collapsed": true
   },
   "outputs": [],
   "source": []
  },
  {
   "cell_type": "code",
   "execution_count": null,
   "metadata": {
    "collapsed": true
   },
   "outputs": [],
   "source": []
  },
  {
   "cell_type": "code",
   "execution_count": null,
   "metadata": {
    "collapsed": true
   },
   "outputs": [],
   "source": []
  },
  {
   "cell_type": "code",
   "execution_count": null,
   "metadata": {
    "collapsed": true
   },
   "outputs": [],
   "source": []
  },
  {
   "cell_type": "code",
   "execution_count": null,
   "metadata": {
    "collapsed": true
   },
   "outputs": [],
   "source": []
  },
  {
   "cell_type": "code",
   "execution_count": null,
   "metadata": {
    "collapsed": true
   },
   "outputs": [],
   "source": []
  },
  {
   "cell_type": "code",
   "execution_count": null,
   "metadata": {
    "collapsed": true
   },
   "outputs": [],
   "source": []
  }
 ],
 "metadata": {
  "kernelspec": {
   "display_name": "Python [conda env:BES_analysis]",
   "language": "python",
   "name": "conda-env-BES_analysis-py"
  },
  "language_info": {
   "codemirror_mode": {
    "name": "ipython",
    "version": 3
   },
   "file_extension": ".py",
   "mimetype": "text/x-python",
   "name": "python",
   "nbconvert_exporter": "python",
   "pygments_lexer": "ipython3",
   "version": "3.6.2"
  }
 },
 "nbformat": 4,
 "nbformat_minor": 2
}
