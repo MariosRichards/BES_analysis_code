{
 "cells": [
  {
   "cell_type": "code",
   "execution_count": null,
   "metadata": {},
   "outputs": [],
   "source": []
  },
  {
   "cell_type": "code",
   "execution_count": 1,
   "metadata": {},
   "outputs": [
    {
     "data": {
      "text/html": [
       "<script>jQuery(function() {if (jQuery(\"body.notebook_app\").length == 0) { jQuery(\".input_area\").toggle(); jQuery(\".prompt\").toggle();}});</script>"
      ]
     },
     "metadata": {},
     "output_type": "display_data"
    },
    {
     "data": {
      "text/html": [
       "<button onclick=\"jQuery('.input_area').toggle(); jQuery('.prompt').toggle();\">Toggle code</button>"
      ]
     },
     "metadata": {},
     "output_type": "display_data"
    },
    {
     "name": "stdout",
     "output_type": "stream",
     "text": [
      "var_type (7911, 14)\n",
      "Wall time: 33.9 s\n"
     ]
    }
   ],
   "source": [
    "%%time\n",
    "dataset_name = \"W19_comb\"\n",
    "df_list = [ \"BES_Panel\" ]\n",
    "\n",
    "%matplotlib inline \n",
    "%run BES_header.py {dataset_name} {df_list}\n",
    "\n",
    "if \"id\" in BES_Panel.columns:\n",
    "    BES_Panel = BES_Panel.set_index(\"id\").sort_index()\n",
    "\n",
    "(var_type, cat_dictionary, new_old_col_names, old_new_col_names) = get_small_files(data_subfolder, encoding)    \n",
    "    \n",
    "# get full set of inferred \"cross wave\" auth-lib/left-right values and ages\n",
    "pan_dataset_allr_values = pd.read_csv(BES_small_data_files + \"pan_dataset_allr_values\"+\".csv\")\n",
    "pan_dataset_ages = pd.read_pickle(BES_small_data_files + \"pan_dataset_ages\"+\".zip\", compression='zip')\n",
    "\n"
   ]
  },
  {
   "cell_type": "code",
   "execution_count": 3,
   "metadata": {},
   "outputs": [],
   "source": [
    "BES_Panel = pd.read_pickle(\"..\\\\BES_analysis_data\\\\\"+\"W19_comb\"+os.sep+\"BES_Panelv02\",compression='zip')\n",
    "\n",
    "BES_Panel = BES_Panel.set_index(\"id\")\n",
    "BES_Panel = BES_Panel.sort_index()"
   ]
  },
  {
   "cell_type": "markdown",
   "metadata": {},
   "source": [
    "Media variables\n",
    "all these variables reflect the \"profile_newspaper_readership_201\" yougov variable\n",
    "\n",
    "note that this is \"Which daily newspaper do you read most often?\"\n",
    "\n",
    "you could legitimately read the Express and Mail about as often and oscillate between\n",
    "\n",
    "also there's a huge editorial (and anecdotally I understand readership) difference between\n",
    "\n",
    "Mail on Sunday (Remain! - contains weekly TV listings) and the Daily Mail (Leave!)\n",
    "\n",
    "\"profiles_newspaper2W16\" is obviously just a \"top up\" sample\n",
    "\n",
    "\"profile_newspaper\" is an amalgamation of all the waves\n",
    "\n",
    "Full Waves 10, 11, 12, 13, 15"
   ]
  },
  {
   "cell_type": "code",
   "execution_count": 9,
   "metadata": {},
   "outputs": [
    {
     "data": {
      "text/plain": [
       "p_paper_readW1     30383\n",
       "p_paper_readW2     30239\n",
       "p_paper_readW3     28122\n",
       "p_paper_readW4     31442\n",
       "p_paper_readW5     30829\n",
       "p_paper_readW6     30149\n",
       "p_paper_readW7     30841\n",
       "p_paper_readW8     33500\n",
       "p_paper_readW9     30034\n",
       "p_paper_readW10    30236\n",
       "p_paper_readW11    30955\n",
       "p_paper_readW12    34393\n",
       "p_paper_readW13    31135\n",
       "p_paper_readW14    31061\n",
       "p_paper_readW15    30840\n",
       "p_paper_readW16    37959\n",
       "p_paper_readW17    34365\n",
       "p_paper_readW18    37824\n",
       "p_paper_readW19    32176\n",
       "dtype: int64"
      ]
     },
     "execution_count": 9,
     "metadata": {},
     "output_type": "execute_result"
    }
   ],
   "source": [
    "search(BES_Panel,\"p_paper_read\")\n",
    "# beautiful!"
   ]
  },
  {
   "cell_type": "code",
   "execution_count": 10,
   "metadata": {},
   "outputs": [
    {
     "data": {
      "text/html": [
       "<div>\n",
       "<style scoped>\n",
       "    .dataframe tbody tr th:only-of-type {\n",
       "        vertical-align: middle;\n",
       "    }\n",
       "\n",
       "    .dataframe tbody tr th {\n",
       "        vertical-align: top;\n",
       "    }\n",
       "\n",
       "    .dataframe thead th {\n",
       "        text-align: right;\n",
       "    }\n",
       "</style>\n",
       "<table border=\"1\" class=\"dataframe\">\n",
       "  <thead>\n",
       "    <tr style=\"text-align: right;\">\n",
       "      <th></th>\n",
       "      <th>p_paper_readW1</th>\n",
       "      <th>p_paper_readW2</th>\n",
       "      <th>p_paper_readW3</th>\n",
       "      <th>p_paper_readW4</th>\n",
       "      <th>p_paper_readW5</th>\n",
       "      <th>p_paper_readW6</th>\n",
       "      <th>p_paper_readW7</th>\n",
       "      <th>p_paper_readW8</th>\n",
       "      <th>p_paper_readW9</th>\n",
       "      <th>p_paper_readW10</th>\n",
       "      <th>p_paper_readW11</th>\n",
       "      <th>p_paper_readW12</th>\n",
       "      <th>p_paper_readW13</th>\n",
       "      <th>p_paper_readW14</th>\n",
       "      <th>p_paper_readW15</th>\n",
       "      <th>p_paper_readW16</th>\n",
       "      <th>p_paper_readW17</th>\n",
       "      <th>p_paper_readW18</th>\n",
       "    </tr>\n",
       "    <tr>\n",
       "      <th>id</th>\n",
       "      <th></th>\n",
       "      <th></th>\n",
       "      <th></th>\n",
       "      <th></th>\n",
       "      <th></th>\n",
       "      <th></th>\n",
       "      <th></th>\n",
       "      <th></th>\n",
       "      <th></th>\n",
       "      <th></th>\n",
       "      <th></th>\n",
       "      <th></th>\n",
       "      <th></th>\n",
       "      <th></th>\n",
       "      <th></th>\n",
       "      <th></th>\n",
       "      <th></th>\n",
       "      <th></th>\n",
       "    </tr>\n",
       "  </thead>\n",
       "  <tbody>\n",
       "    <tr>\n",
       "      <th>1</th>\n",
       "      <td>The Mirror / Daily Record</td>\n",
       "      <td>The Mirror / Daily Record</td>\n",
       "      <td>NaN</td>\n",
       "      <td>The Mirror / Daily Record</td>\n",
       "      <td>The Mirror / Daily Record</td>\n",
       "      <td>The Mirror / Daily Record</td>\n",
       "      <td>The Mirror / Daily Record</td>\n",
       "      <td>The Mirror / Daily Record</td>\n",
       "      <td>The Mirror / Daily Record</td>\n",
       "      <td>None</td>\n",
       "      <td>NaN</td>\n",
       "      <td>NaN</td>\n",
       "      <td>NaN</td>\n",
       "      <td>NaN</td>\n",
       "      <td>NaN</td>\n",
       "      <td>NaN</td>\n",
       "      <td>NaN</td>\n",
       "      <td>NaN</td>\n",
       "    </tr>\n",
       "    <tr>\n",
       "      <th>2</th>\n",
       "      <td>The Daily Telegraph</td>\n",
       "      <td>NaN</td>\n",
       "      <td>The Daily Telegraph</td>\n",
       "      <td>The Daily Telegraph</td>\n",
       "      <td>The Daily Telegraph</td>\n",
       "      <td>The Daily Telegraph</td>\n",
       "      <td>The Daily Telegraph</td>\n",
       "      <td>The Daily Telegraph</td>\n",
       "      <td>The Daily Telegraph</td>\n",
       "      <td>The Daily Telegraph</td>\n",
       "      <td>The Daily Telegraph</td>\n",
       "      <td>The Daily Telegraph</td>\n",
       "      <td>The Daily Telegraph</td>\n",
       "      <td>The Daily Telegraph</td>\n",
       "      <td>NaN</td>\n",
       "      <td>NaN</td>\n",
       "      <td>None</td>\n",
       "      <td>None</td>\n",
       "    </tr>\n",
       "    <tr>\n",
       "      <th>3</th>\n",
       "      <td>The Mirror / Daily Record</td>\n",
       "      <td>The Mirror / Daily Record</td>\n",
       "      <td>The Mirror / Daily Record</td>\n",
       "      <td>The Mirror / Daily Record</td>\n",
       "      <td>The Mirror / Daily Record</td>\n",
       "      <td>The Mirror / Daily Record</td>\n",
       "      <td>The Mirror / Daily Record</td>\n",
       "      <td>NaN</td>\n",
       "      <td>NaN</td>\n",
       "      <td>The Mirror / Daily Record</td>\n",
       "      <td>The Mirror / Daily Record</td>\n",
       "      <td>The Mirror / Daily Record</td>\n",
       "      <td>The Mirror / Daily Record</td>\n",
       "      <td>The Mirror / Daily Record</td>\n",
       "      <td>None</td>\n",
       "      <td>None</td>\n",
       "      <td>NaN</td>\n",
       "      <td>NaN</td>\n",
       "    </tr>\n",
       "    <tr>\n",
       "      <th>4</th>\n",
       "      <td>The Sun</td>\n",
       "      <td>The Sun</td>\n",
       "      <td>NaN</td>\n",
       "      <td>NaN</td>\n",
       "      <td>NaN</td>\n",
       "      <td>NaN</td>\n",
       "      <td>NaN</td>\n",
       "      <td>NaN</td>\n",
       "      <td>NaN</td>\n",
       "      <td>NaN</td>\n",
       "      <td>NaN</td>\n",
       "      <td>NaN</td>\n",
       "      <td>NaN</td>\n",
       "      <td>NaN</td>\n",
       "      <td>NaN</td>\n",
       "      <td>NaN</td>\n",
       "      <td>NaN</td>\n",
       "      <td>NaN</td>\n",
       "    </tr>\n",
       "    <tr>\n",
       "      <th>5</th>\n",
       "      <td>The Daily Telegraph</td>\n",
       "      <td>The Daily Telegraph</td>\n",
       "      <td>NaN</td>\n",
       "      <td>NaN</td>\n",
       "      <td>NaN</td>\n",
       "      <td>NaN</td>\n",
       "      <td>NaN</td>\n",
       "      <td>NaN</td>\n",
       "      <td>NaN</td>\n",
       "      <td>NaN</td>\n",
       "      <td>NaN</td>\n",
       "      <td>NaN</td>\n",
       "      <td>NaN</td>\n",
       "      <td>NaN</td>\n",
       "      <td>NaN</td>\n",
       "      <td>NaN</td>\n",
       "      <td>NaN</td>\n",
       "      <td>NaN</td>\n",
       "    </tr>\n",
       "    <tr>\n",
       "      <th>...</th>\n",
       "      <td>...</td>\n",
       "      <td>...</td>\n",
       "      <td>...</td>\n",
       "      <td>...</td>\n",
       "      <td>...</td>\n",
       "      <td>...</td>\n",
       "      <td>...</td>\n",
       "      <td>...</td>\n",
       "      <td>...</td>\n",
       "      <td>...</td>\n",
       "      <td>...</td>\n",
       "      <td>...</td>\n",
       "      <td>...</td>\n",
       "      <td>...</td>\n",
       "      <td>...</td>\n",
       "      <td>...</td>\n",
       "      <td>...</td>\n",
       "      <td>...</td>\n",
       "    </tr>\n",
       "    <tr>\n",
       "      <th>98447</th>\n",
       "      <td>NaN</td>\n",
       "      <td>NaN</td>\n",
       "      <td>NaN</td>\n",
       "      <td>NaN</td>\n",
       "      <td>NaN</td>\n",
       "      <td>NaN</td>\n",
       "      <td>NaN</td>\n",
       "      <td>NaN</td>\n",
       "      <td>NaN</td>\n",
       "      <td>NaN</td>\n",
       "      <td>NaN</td>\n",
       "      <td>NaN</td>\n",
       "      <td>NaN</td>\n",
       "      <td>NaN</td>\n",
       "      <td>NaN</td>\n",
       "      <td>NaN</td>\n",
       "      <td>None</td>\n",
       "      <td>NaN</td>\n",
       "    </tr>\n",
       "    <tr>\n",
       "      <th>98448</th>\n",
       "      <td>NaN</td>\n",
       "      <td>NaN</td>\n",
       "      <td>NaN</td>\n",
       "      <td>NaN</td>\n",
       "      <td>NaN</td>\n",
       "      <td>NaN</td>\n",
       "      <td>NaN</td>\n",
       "      <td>NaN</td>\n",
       "      <td>NaN</td>\n",
       "      <td>NaN</td>\n",
       "      <td>NaN</td>\n",
       "      <td>NaN</td>\n",
       "      <td>NaN</td>\n",
       "      <td>NaN</td>\n",
       "      <td>NaN</td>\n",
       "      <td>NaN</td>\n",
       "      <td>None</td>\n",
       "      <td>NaN</td>\n",
       "    </tr>\n",
       "    <tr>\n",
       "      <th>98449</th>\n",
       "      <td>NaN</td>\n",
       "      <td>NaN</td>\n",
       "      <td>NaN</td>\n",
       "      <td>NaN</td>\n",
       "      <td>NaN</td>\n",
       "      <td>NaN</td>\n",
       "      <td>NaN</td>\n",
       "      <td>NaN</td>\n",
       "      <td>NaN</td>\n",
       "      <td>NaN</td>\n",
       "      <td>NaN</td>\n",
       "      <td>NaN</td>\n",
       "      <td>NaN</td>\n",
       "      <td>NaN</td>\n",
       "      <td>NaN</td>\n",
       "      <td>NaN</td>\n",
       "      <td>None</td>\n",
       "      <td>NaN</td>\n",
       "    </tr>\n",
       "    <tr>\n",
       "      <th>98450</th>\n",
       "      <td>NaN</td>\n",
       "      <td>NaN</td>\n",
       "      <td>NaN</td>\n",
       "      <td>NaN</td>\n",
       "      <td>NaN</td>\n",
       "      <td>NaN</td>\n",
       "      <td>NaN</td>\n",
       "      <td>NaN</td>\n",
       "      <td>NaN</td>\n",
       "      <td>NaN</td>\n",
       "      <td>NaN</td>\n",
       "      <td>NaN</td>\n",
       "      <td>NaN</td>\n",
       "      <td>NaN</td>\n",
       "      <td>NaN</td>\n",
       "      <td>NaN</td>\n",
       "      <td>The Daily Mail / The Scottish Daily Mail</td>\n",
       "      <td>NaN</td>\n",
       "    </tr>\n",
       "    <tr>\n",
       "      <th>98451</th>\n",
       "      <td>NaN</td>\n",
       "      <td>NaN</td>\n",
       "      <td>NaN</td>\n",
       "      <td>NaN</td>\n",
       "      <td>NaN</td>\n",
       "      <td>NaN</td>\n",
       "      <td>NaN</td>\n",
       "      <td>NaN</td>\n",
       "      <td>NaN</td>\n",
       "      <td>NaN</td>\n",
       "      <td>NaN</td>\n",
       "      <td>NaN</td>\n",
       "      <td>NaN</td>\n",
       "      <td>NaN</td>\n",
       "      <td>NaN</td>\n",
       "      <td>NaN</td>\n",
       "      <td>None</td>\n",
       "      <td>NaN</td>\n",
       "    </tr>\n",
       "  </tbody>\n",
       "</table>\n",
       "<p>97006 rows × 18 columns</p>\n",
       "</div>"
      ],
      "text/plain": [
       "                  p_paper_readW1             p_paper_readW2  \\\n",
       "id                                                            \n",
       "1      The Mirror / Daily Record  The Mirror / Daily Record   \n",
       "2            The Daily Telegraph                        NaN   \n",
       "3      The Mirror / Daily Record  The Mirror / Daily Record   \n",
       "4                        The Sun                    The Sun   \n",
       "5            The Daily Telegraph        The Daily Telegraph   \n",
       "...                          ...                        ...   \n",
       "98447                        NaN                        NaN   \n",
       "98448                        NaN                        NaN   \n",
       "98449                        NaN                        NaN   \n",
       "98450                        NaN                        NaN   \n",
       "98451                        NaN                        NaN   \n",
       "\n",
       "                  p_paper_readW3             p_paper_readW4  \\\n",
       "id                                                            \n",
       "1                            NaN  The Mirror / Daily Record   \n",
       "2            The Daily Telegraph        The Daily Telegraph   \n",
       "3      The Mirror / Daily Record  The Mirror / Daily Record   \n",
       "4                            NaN                        NaN   \n",
       "5                            NaN                        NaN   \n",
       "...                          ...                        ...   \n",
       "98447                        NaN                        NaN   \n",
       "98448                        NaN                        NaN   \n",
       "98449                        NaN                        NaN   \n",
       "98450                        NaN                        NaN   \n",
       "98451                        NaN                        NaN   \n",
       "\n",
       "                  p_paper_readW5             p_paper_readW6  \\\n",
       "id                                                            \n",
       "1      The Mirror / Daily Record  The Mirror / Daily Record   \n",
       "2            The Daily Telegraph        The Daily Telegraph   \n",
       "3      The Mirror / Daily Record  The Mirror / Daily Record   \n",
       "4                            NaN                        NaN   \n",
       "5                            NaN                        NaN   \n",
       "...                          ...                        ...   \n",
       "98447                        NaN                        NaN   \n",
       "98448                        NaN                        NaN   \n",
       "98449                        NaN                        NaN   \n",
       "98450                        NaN                        NaN   \n",
       "98451                        NaN                        NaN   \n",
       "\n",
       "                  p_paper_readW7             p_paper_readW8  \\\n",
       "id                                                            \n",
       "1      The Mirror / Daily Record  The Mirror / Daily Record   \n",
       "2            The Daily Telegraph        The Daily Telegraph   \n",
       "3      The Mirror / Daily Record                        NaN   \n",
       "4                            NaN                        NaN   \n",
       "5                            NaN                        NaN   \n",
       "...                          ...                        ...   \n",
       "98447                        NaN                        NaN   \n",
       "98448                        NaN                        NaN   \n",
       "98449                        NaN                        NaN   \n",
       "98450                        NaN                        NaN   \n",
       "98451                        NaN                        NaN   \n",
       "\n",
       "                  p_paper_readW9            p_paper_readW10  \\\n",
       "id                                                            \n",
       "1      The Mirror / Daily Record                       None   \n",
       "2            The Daily Telegraph        The Daily Telegraph   \n",
       "3                            NaN  The Mirror / Daily Record   \n",
       "4                            NaN                        NaN   \n",
       "5                            NaN                        NaN   \n",
       "...                          ...                        ...   \n",
       "98447                        NaN                        NaN   \n",
       "98448                        NaN                        NaN   \n",
       "98449                        NaN                        NaN   \n",
       "98450                        NaN                        NaN   \n",
       "98451                        NaN                        NaN   \n",
       "\n",
       "                 p_paper_readW11            p_paper_readW12  \\\n",
       "id                                                            \n",
       "1                            NaN                        NaN   \n",
       "2            The Daily Telegraph        The Daily Telegraph   \n",
       "3      The Mirror / Daily Record  The Mirror / Daily Record   \n",
       "4                            NaN                        NaN   \n",
       "5                            NaN                        NaN   \n",
       "...                          ...                        ...   \n",
       "98447                        NaN                        NaN   \n",
       "98448                        NaN                        NaN   \n",
       "98449                        NaN                        NaN   \n",
       "98450                        NaN                        NaN   \n",
       "98451                        NaN                        NaN   \n",
       "\n",
       "                 p_paper_readW13            p_paper_readW14 p_paper_readW15  \\\n",
       "id                                                                            \n",
       "1                            NaN                        NaN             NaN   \n",
       "2            The Daily Telegraph        The Daily Telegraph             NaN   \n",
       "3      The Mirror / Daily Record  The Mirror / Daily Record            None   \n",
       "4                            NaN                        NaN             NaN   \n",
       "5                            NaN                        NaN             NaN   \n",
       "...                          ...                        ...             ...   \n",
       "98447                        NaN                        NaN             NaN   \n",
       "98448                        NaN                        NaN             NaN   \n",
       "98449                        NaN                        NaN             NaN   \n",
       "98450                        NaN                        NaN             NaN   \n",
       "98451                        NaN                        NaN             NaN   \n",
       "\n",
       "      p_paper_readW16                           p_paper_readW17  \\\n",
       "id                                                                \n",
       "1                 NaN                                       NaN   \n",
       "2                 NaN                                      None   \n",
       "3                None                                       NaN   \n",
       "4                 NaN                                       NaN   \n",
       "5                 NaN                                       NaN   \n",
       "...               ...                                       ...   \n",
       "98447             NaN                                      None   \n",
       "98448             NaN                                      None   \n",
       "98449             NaN                                      None   \n",
       "98450             NaN  The Daily Mail / The Scottish Daily Mail   \n",
       "98451             NaN                                      None   \n",
       "\n",
       "      p_paper_readW18  \n",
       "id                     \n",
       "1                 NaN  \n",
       "2                None  \n",
       "3                 NaN  \n",
       "4                 NaN  \n",
       "5                 NaN  \n",
       "...               ...  \n",
       "98447             NaN  \n",
       "98448             NaN  \n",
       "98449             NaN  \n",
       "98450             NaN  \n",
       "98451             NaN  \n",
       "\n",
       "[97006 rows x 18 columns]"
      ]
     },
     "execution_count": 10,
     "metadata": {},
     "output_type": "execute_result"
    }
   ],
   "source": [
    "BES_Panel[search(BES_Panel,\"p_paper_read\").index[:-1]]"
   ]
  },
  {
   "cell_type": "code",
   "execution_count": 11,
   "metadata": {},
   "outputs": [
    {
     "data": {
      "text/plain": [
       "The Express|The Daily Mail / The Scottish Daily Mail|The Mirror / Daily Record|The Daily Star / The Daily Star of Scotland|The Sun|The Daily Telegraph|The Financial Times|The Guardian|The Independent|The Times|The Scotsman|The Herald (Glasgow)|The Western Mail|Other local daily morning newspaper|Other Newspaper|None    19\n",
       "dtype: int64"
      ]
     },
     "execution_count": 11,
     "metadata": {},
     "output_type": "execute_result"
    }
   ],
   "source": [
    "BES_Panel[search(BES_Panel,\"p_paper_read\").index].apply(lambda x: \"|\".join(x.cat.categories)).value_counts()\n",
    "# consistent categories!"
   ]
  },
  {
   "cell_type": "code",
   "execution_count": 13,
   "metadata": {},
   "outputs": [
    {
     "data": {
      "text/plain": [
       "None                                           17321\n",
       "The Daily Mail / The Scottish Daily Mail        5010\n",
       "The Guardian                                    3645\n",
       "The Sun                                         2156\n",
       "The Times                                       1906\n",
       "Other Newspaper                                 1858\n",
       "The Daily Telegraph                             1728\n",
       "The Mirror / Daily Record                       1091\n",
       "Other local daily morning newspaper             1063\n",
       "The Express                                      712\n",
       "The Independent                                  685\n",
       "The Financial Times                              220\n",
       "The Daily Star / The Daily Star of Scotland      159\n",
       "The Herald (Glasgow)                             127\n",
       "The Scotsman                                      98\n",
       "The Western Mail                                  45\n",
       "Name: p_paper_readW18, dtype: int64"
      ]
     },
     "execution_count": 13,
     "metadata": {},
     "output_type": "execute_result"
    }
   ],
   "source": [
    "BES_Panel[\"p_paper_readW18\"].value_counts()"
   ]
  },
  {
   "cell_type": "code",
   "execution_count": null,
   "metadata": {},
   "outputs": [],
   "source": []
  },
  {
   "cell_type": "code",
   "execution_count": null,
   "metadata": {},
   "outputs": [],
   "source": []
  },
  {
   "cell_type": "code",
   "execution_count": null,
   "metadata": {},
   "outputs": [],
   "source": []
  },
  {
   "cell_type": "code",
   "execution_count": null,
   "metadata": {},
   "outputs": [],
   "source": []
  },
  {
   "cell_type": "code",
   "execution_count": 30,
   "metadata": {},
   "outputs": [
    {
     "name": "stdout",
     "output_type": "stream",
     "text": [
      "Amalgamating variables: \n",
      "{10: 'profile_newspaperW10', 11: 'profile_newspaperW11', 12: 'profile_newspaper2W12', 13: 'profile_newspaperW13', 16: 'profiles_newspaper2W16', 17: 'profiles_newspaper2W17'} ['profile_newspaperW10', 'profile_newspaperW11', 'profile_newspaper2W12', 'profile_newspaperW13', 'profiles_newspaper2W16', 'profiles_newspaper2W17']\n"
     ]
    }
   ],
   "source": [
    "newspaper_amalg = amalgamate_waves(BES_Panel,\"newspaper2?W\",forward_fill=False,match=False,\n",
    "                                   low_priority_values=[\"Other local daily morning newspaper\",\"Other Newspaper\",\"None\"])"
   ]
  },
  {
   "cell_type": "code",
   "execution_count": 33,
   "metadata": {},
   "outputs": [
    {
     "data": {
      "text/plain": [
       "None                                           28027\n",
       "The Daily Mail / The Scottish Daily Mail        9331\n",
       "The Guardian                                    7430\n",
       "The Sun                                         4906\n",
       "The Times                                       3458\n",
       "The Daily Telegraph                             3230\n",
       "Other Newspaper                                 3095\n",
       "The Mirror / Daily Record                       2853\n",
       "The Independent                                 1969\n",
       "Other local daily morning newspaper             1928\n",
       "The Express                                     1297\n",
       "The Financial Times                              502\n",
       "The Daily Star / The Daily Star of Scotland      422\n",
       "The Herald (Glasgow)                             363\n",
       "The Scotsman                                     250\n",
       "The Western Mail                                 140\n",
       "Name: profile_newspaperW10&11&12&13&16&17, dtype: int64"
      ]
     },
     "execution_count": 33,
     "metadata": {},
     "output_type": "execute_result"
    }
   ],
   "source": [
    "newspaper_amalg.value_counts()"
   ]
  },
  {
   "cell_type": "code",
   "execution_count": 34,
   "metadata": {},
   "outputs": [
    {
     "name": "stdout",
     "output_type": "stream",
     "text": [
      "Amalgamating variables: \n",
      "{10: 'profile_newspaperW10', 11: 'profile_newspaperW11', 12: 'profile_newspaper2W12', 13: 'profile_newspaperW13', 16: 'profiles_newspaper2W16', 17: 'profiles_newspaper2W17'} ['profile_newspaperW10', 'profile_newspaperW11', 'profile_newspaper2W12', 'profile_newspaperW13', 'profiles_newspaper2W16', 'profiles_newspaper2W17']\n"
     ]
    },
    {
     "data": {
      "text/plain": [
       "None                                           30597\n",
       "The Daily Mail / The Scottish Daily Mail        8518\n",
       "The Guardian                                    6616\n",
       "The Sun                                         4524\n",
       "Other Newspaper                                 3727\n",
       "The Times                                       3149\n",
       "The Daily Telegraph                             2958\n",
       "The Mirror / Daily Record                       2584\n",
       "Other local daily morning newspaper             2304\n",
       "The Independent                                 1595\n",
       "The Express                                     1159\n",
       "The Financial Times                              447\n",
       "The Daily Star / The Daily Star of Scotland      387\n",
       "The Herald (Glasgow)                             299\n",
       "The Scotsman                                     220\n",
       "The Western Mail                                 117\n",
       "Name: profile_newspaperW10&11&12&13&16&17, dtype: int64"
      ]
     },
     "execution_count": 34,
     "metadata": {},
     "output_type": "execute_result"
    }
   ],
   "source": [
    "newspaper_amalg = amalgamate_waves(BES_Panel,\"newspaper2?W\",forward_fill=False,match=False,\n",
    "                                   low_priority_values=[])\n",
    "newspaper_amalg.value_counts()"
   ]
  },
  {
   "cell_type": "code",
   "execution_count": 51,
   "metadata": {},
   "outputs": [
    {
     "name": "stdout",
     "output_type": "stream",
     "text": [
      "Amalgamating variables: \n",
      "{10: 'profile_newspaperW10', 11: 'profile_newspaperW11', 12: 'profile_newspaper2W12', 13: 'profile_newspaperW13', 16: 'profiles_newspaper2W16', 17: 'profiles_newspaper2W17'} ['profile_newspaperW10', 'profile_newspaperW11', 'profile_newspaper2W12', 'profile_newspaperW13', 'profiles_newspaper2W16', 'profiles_newspaper2W17']\n",
      "Wall time: 1min 40s\n"
     ]
    },
    {
     "data": {
      "text/plain": [
       "None                                           32368\n",
       "The Daily Mail / The Scottish Daily Mail        8043\n",
       "The Guardian                                    6833\n",
       "The Sun                                         4074\n",
       "Other Newspaper                                 3423\n",
       "The Times                                       3195\n",
       "The Daily Telegraph                             2848\n",
       "The Mirror / Daily Record                       2268\n",
       "Other local daily morning newspaper             2090\n",
       "The Independent                                 1593\n",
       "The Express                                     1099\n",
       "The Financial Times                              478\n",
       "The Daily Star / The Daily Star of Scotland      312\n",
       "The Herald (Glasgow)                             284\n",
       "The Scotsman                                     189\n",
       "The Western Mail                                 104\n",
       "Name: profile_newspaperW10&11&12&13&16&17, dtype: int64"
      ]
     },
     "execution_count": 51,
     "metadata": {},
     "output_type": "execute_result"
    }
   ],
   "source": [
    "%%time\n",
    "newspaper_amalg = amalgamate_waves(BES_Panel,\"newspaper2?W\",forward_fill=True,match=False,\n",
    "                                   low_priority_values=[])\n",
    "newspaper_amalg.value_counts()"
   ]
  },
  {
   "cell_type": "code",
   "execution_count": null,
   "metadata": {},
   "outputs": [],
   "source": []
  },
  {
   "cell_type": "code",
   "execution_count": null,
   "metadata": {},
   "outputs": [],
   "source": [
    "# they're a bit None heavy (and region matters)"
   ]
  },
  {
   "cell_type": "code",
   "execution_count": 4,
   "metadata": {},
   "outputs": [
    {
     "data": {
      "text/plain": [
       "None                                           17415\n",
       "The Sun                                         7420\n",
       "The Daily Mail / The Scottish Daily Mail        7390\n",
       "The Guardian                                    4461\n",
       "The Mirror / Daily Record                       4407\n",
       "Other Newspaper                                 3743\n",
       "The Daily Telegraph                             2726\n",
       "The Times                                       2720\n",
       "Other local daily morning newspaper             2265\n",
       "The Independent                                 1339\n",
       "The Express                                     1068\n",
       "The Herald (Glasgow)                             562\n",
       "The Daily Star / The Daily Star of Scotland      539\n",
       "The Scotsman                                     391\n",
       "The Financial Times                              319\n",
       "The Western Mail                                 203\n",
       "Name: profile_newspaper, dtype: int64"
      ]
     },
     "execution_count": 4,
     "metadata": {},
     "output_type": "execute_result"
    }
   ],
   "source": [
    "BES_Panel[\"profile_newspaper\"].value_counts()\n",
    "### hmm - discrepancy alert"
   ]
  },
  {
   "cell_type": "code",
   "execution_count": 35,
   "metadata": {},
   "outputs": [
    {
     "data": {
      "text/plain": [
       "Index(['newspaperReadW15', 'profile_newspaperW10', 'profile_newspaperW11',\n",
       "       'profile_newspaper2W12', 'profile_newspaperW13',\n",
       "       'profiles_newspaper2W16', 'profiles_newspaper2W17',\n",
       "       'profile_newspaper'],\n",
       "      dtype='object')"
      ]
     },
     "execution_count": 35,
     "metadata": {},
     "output_type": "execute_result"
    }
   ],
   "source": [
    "search(BES_Panel,\"newspaper\").index"
   ]
  },
  {
   "cell_type": "code",
   "execution_count": 36,
   "metadata": {},
   "outputs": [
    {
     "data": {
      "text/plain": [
       "None                                           15350\n",
       "The Daily Mail / The Scottish Daily Mail        3715\n",
       "The Guardian                                    2617\n",
       "The Sun                                         1804\n",
       "The Times                                       1415\n",
       "Other Newspaper                                 1292\n",
       "The Daily Telegraph                             1187\n",
       "The Mirror / Daily Record                        956\n",
       "Other local daily morning newspaper              843\n",
       "The Independent                                  619\n",
       "The Express                                      507\n",
       "The Financial Times                              189\n",
       "The Daily Star / The Daily Star of Scotland      140\n",
       "The Herald (Glasgow)                              93\n",
       "The Scotsman                                      72\n",
       "The Western Mail                                  43\n",
       "Name: newspaperReadW15, dtype: int64"
      ]
     },
     "execution_count": 36,
     "metadata": {},
     "output_type": "execute_result"
    }
   ],
   "source": [
    "BES_Panel[\"newspaperReadW15\"].value_counts()\n"
   ]
  },
  {
   "cell_type": "code",
   "execution_count": 37,
   "metadata": {},
   "outputs": [
    {
     "data": {
      "text/plain": [
       "None                                           12611\n",
       "The Daily Mail / The Scottish Daily Mail        4117\n",
       "The Guardian                                    2461\n",
       "The Sun                                         2334\n",
       "Other Newspaper                                 1798\n",
       "The Mirror / Daily Record                       1403\n",
       "The Times                                       1358\n",
       "The Daily Telegraph                             1285\n",
       "Other local daily morning newspaper             1127\n",
       "The Independent                                  547\n",
       "The Express                                      524\n",
       "The Daily Star / The Daily Star of Scotland      212\n",
       "The Financial Times                              152\n",
       "The Herald (Glasgow)                             144\n",
       "The Scotsman                                     106\n",
       "The Western Mail                                  58\n",
       "Name: profile_newspaperW10, dtype: int64"
      ]
     },
     "execution_count": 37,
     "metadata": {},
     "output_type": "execute_result"
    }
   ],
   "source": [
    "BES_Panel[\"profile_newspaperW10\"].value_counts()"
   ]
  },
  {
   "cell_type": "code",
   "execution_count": 38,
   "metadata": {},
   "outputs": [
    {
     "data": {
      "text/plain": [
       "None                                           12990\n",
       "The Daily Mail / The Scottish Daily Mail        4147\n",
       "The Guardian                                    2606\n",
       "The Sun                                         2318\n",
       "Other Newspaper                                 1906\n",
       "The Times                                       1402\n",
       "The Mirror / Daily Record                       1373\n",
       "The Daily Telegraph                             1342\n",
       "Other local daily morning newspaper             1062\n",
       "The Express                                      587\n",
       "The Independent                                  542\n",
       "The Daily Star / The Daily Star of Scotland      200\n",
       "The Herald (Glasgow)                             162\n",
       "The Financial Times                              152\n",
       "The Scotsman                                     105\n",
       "The Western Mail                                  62\n",
       "Name: profile_newspaperW11, dtype: int64"
      ]
     },
     "execution_count": 38,
     "metadata": {},
     "output_type": "execute_result"
    }
   ],
   "source": [
    "BES_Panel[\"profile_newspaperW11\"].value_counts()"
   ]
  },
  {
   "cell_type": "code",
   "execution_count": 40,
   "metadata": {},
   "outputs": [
    {
     "data": {
      "text/plain": [
       "None                                           13987\n",
       "The Daily Mail / The Scottish Daily Mail        4330\n",
       "The Guardian                                    3129\n",
       "Other Newspaper                                 2704\n",
       "The Sun                                         2182\n",
       "The Times                                       1709\n",
       "The Daily Telegraph                             1599\n",
       "The Mirror / Daily Record                       1349\n",
       "Other local daily morning newspaper             1180\n",
       "The Independent                                  788\n",
       "The Express                                      661\n",
       "The Daily Star / The Daily Star of Scotland      202\n",
       "The Financial Times                              200\n",
       "The Herald (Glasgow)                             199\n",
       "The Scotsman                                     111\n",
       "The Western Mail                                  64\n",
       "Name: profile_newspaper2W12, dtype: int64"
      ]
     },
     "execution_count": 40,
     "metadata": {},
     "output_type": "execute_result"
    }
   ],
   "source": [
    "BES_Panel[\"profile_newspaper2W12\"].value_counts()"
   ]
  },
  {
   "cell_type": "code",
   "execution_count": 41,
   "metadata": {},
   "outputs": [
    {
     "data": {
      "text/plain": [
       "None                                           13111\n",
       "The Daily Mail / The Scottish Daily Mail        4209\n",
       "The Guardian                                    2617\n",
       "The Sun                                         2237\n",
       "Other Newspaper                                 1914\n",
       "The Times                                       1434\n",
       "The Daily Telegraph                             1389\n",
       "The Mirror / Daily Record                       1378\n",
       "Other local daily morning newspaper             1058\n",
       "The Express                                      592\n",
       "The Independent                                  540\n",
       "The Daily Star / The Daily Star of Scotland      201\n",
       "The Herald (Glasgow)                             159\n",
       "The Financial Times                              138\n",
       "The Scotsman                                     106\n",
       "The Western Mail                                  53\n",
       "Name: profile_newspaperW13, dtype: int64"
      ]
     },
     "execution_count": 41,
     "metadata": {},
     "output_type": "execute_result"
    }
   ],
   "source": [
    "BES_Panel[\"profile_newspaperW13\"].value_counts()"
   ]
  },
  {
   "cell_type": "code",
   "execution_count": 43,
   "metadata": {},
   "outputs": [
    {
     "data": {
      "text/plain": [
       "None                                           6805\n",
       "The Daily Mail / The Scottish Daily Mail       1561\n",
       "The Guardian                                   1535\n",
       "The Sun                                         630\n",
       "The Daily Telegraph                             618\n",
       "The Times                                       607\n",
       "Other Newspaper                                 533\n",
       "The Independent                                 373\n",
       "Other local daily morning newspaper             366\n",
       "The Mirror / Daily Record                       296\n",
       "The Express                                     215\n",
       "The Financial Times                             110\n",
       "The Daily Star / The Daily Star of Scotland      51\n",
       "The Scotsman                                     32\n",
       "The Herald (Glasgow)                             30\n",
       "The Western Mail                                 13\n",
       "Name: profiles_newspaper2W16, dtype: int64"
      ]
     },
     "execution_count": 43,
     "metadata": {},
     "output_type": "execute_result"
    }
   ],
   "source": [
    "BES_Panel[\"profiles_newspaper2W16\"].value_counts()"
   ]
  },
  {
   "cell_type": "code",
   "execution_count": 44,
   "metadata": {},
   "outputs": [
    {
     "data": {
      "text/plain": [
       "None                                           17703\n",
       "The Daily Mail / The Scottish Daily Mail        3908\n",
       "The Guardian                                    3136\n",
       "The Sun                                         1853\n",
       "The Times                                       1512\n",
       "Other Newspaper                                 1336\n",
       "The Daily Telegraph                             1302\n",
       "The Mirror / Daily Record                        955\n",
       "Other local daily morning newspaper              913\n",
       "The Independent                                  658\n",
       "The Express                                      529\n",
       "The Financial Times                              219\n",
       "The Daily Star / The Daily Star of Scotland      123\n",
       "The Herald (Glasgow)                             107\n",
       "The Scotsman                                      73\n",
       "The Western Mail                                  39\n",
       "Name: profiles_newspaper2W17, dtype: int64"
      ]
     },
     "execution_count": 44,
     "metadata": {},
     "output_type": "execute_result"
    }
   ],
   "source": [
    "BES_Panel[\"profiles_newspaper2W17\"].value_counts()"
   ]
  },
  {
   "cell_type": "code",
   "execution_count": 56,
   "metadata": {},
   "outputs": [
    {
     "data": {
      "text/plain": [
       "5254"
      ]
     },
     "execution_count": 56,
     "metadata": {},
     "output_type": "execute_result"
    }
   ],
   "source": [
    "(BES_Panel[search(BES_Panel,\"newspaper2?W\").index]==\"The Sun\").any(axis=1).sum()\n",
    "\n",
    "## how come 2000 extra Sun readers just appear for profile_newspaper?"
   ]
  },
  {
   "cell_type": "code",
   "execution_count": 48,
   "metadata": {},
   "outputs": [
    {
     "data": {
      "text/html": [
       "<div>\n",
       "<style scoped>\n",
       "    .dataframe tbody tr th:only-of-type {\n",
       "        vertical-align: middle;\n",
       "    }\n",
       "\n",
       "    .dataframe tbody tr th {\n",
       "        vertical-align: top;\n",
       "    }\n",
       "\n",
       "    .dataframe thead th {\n",
       "        text-align: right;\n",
       "    }\n",
       "</style>\n",
       "<table border=\"1\" class=\"dataframe\">\n",
       "  <thead>\n",
       "    <tr style=\"text-align: right;\">\n",
       "      <th></th>\n",
       "      <th>profile_newspaperW10</th>\n",
       "      <th>profile_newspaperW11</th>\n",
       "      <th>profile_newspaper2W12</th>\n",
       "      <th>profile_newspaperW13</th>\n",
       "      <th>profiles_newspaper2W16</th>\n",
       "      <th>profiles_newspaper2W17</th>\n",
       "    </tr>\n",
       "    <tr>\n",
       "      <th>id</th>\n",
       "      <th></th>\n",
       "      <th></th>\n",
       "      <th></th>\n",
       "      <th></th>\n",
       "      <th></th>\n",
       "      <th></th>\n",
       "    </tr>\n",
       "  </thead>\n",
       "  <tbody>\n",
       "    <tr>\n",
       "      <th>73</th>\n",
       "      <td>NaN</td>\n",
       "      <td>NaN</td>\n",
       "      <td>Other local daily morning newspaper</td>\n",
       "      <td>Other local daily morning newspaper</td>\n",
       "      <td>NaN</td>\n",
       "      <td>NaN</td>\n",
       "    </tr>\n",
       "    <tr>\n",
       "      <th>129</th>\n",
       "      <td>NaN</td>\n",
       "      <td>NaN</td>\n",
       "      <td>The Sun</td>\n",
       "      <td>The Sun</td>\n",
       "      <td>NaN</td>\n",
       "      <td>NaN</td>\n",
       "    </tr>\n",
       "    <tr>\n",
       "      <th>215</th>\n",
       "      <td>NaN</td>\n",
       "      <td>NaN</td>\n",
       "      <td>NaN</td>\n",
       "      <td>NaN</td>\n",
       "      <td>NaN</td>\n",
       "      <td>The Sun</td>\n",
       "    </tr>\n",
       "    <tr>\n",
       "      <th>228</th>\n",
       "      <td>None</td>\n",
       "      <td>The Sun</td>\n",
       "      <td>Other local daily morning newspaper</td>\n",
       "      <td>NaN</td>\n",
       "      <td>NaN</td>\n",
       "      <td>NaN</td>\n",
       "    </tr>\n",
       "    <tr>\n",
       "      <th>232</th>\n",
       "      <td>The Daily Star / The Daily Star of Scotland</td>\n",
       "      <td>The Daily Star / The Daily Star of Scotland</td>\n",
       "      <td>The Daily Star / The Daily Star of Scotland</td>\n",
       "      <td>The Daily Star / The Daily Star of Scotland</td>\n",
       "      <td>NaN</td>\n",
       "      <td>The Daily Star / The Daily Star of Scotland</td>\n",
       "    </tr>\n",
       "    <tr>\n",
       "      <th>...</th>\n",
       "      <td>...</td>\n",
       "      <td>...</td>\n",
       "      <td>...</td>\n",
       "      <td>...</td>\n",
       "      <td>...</td>\n",
       "      <td>...</td>\n",
       "    </tr>\n",
       "    <tr>\n",
       "      <th>57356</th>\n",
       "      <td>The Sun</td>\n",
       "      <td>The Sun</td>\n",
       "      <td>The Sun</td>\n",
       "      <td>The Sun</td>\n",
       "      <td>NaN</td>\n",
       "      <td>NaN</td>\n",
       "    </tr>\n",
       "    <tr>\n",
       "      <th>57464</th>\n",
       "      <td>The Sun</td>\n",
       "      <td>The Sun</td>\n",
       "      <td>None</td>\n",
       "      <td>The Sun</td>\n",
       "      <td>NaN</td>\n",
       "      <td>NaN</td>\n",
       "    </tr>\n",
       "    <tr>\n",
       "      <th>57468</th>\n",
       "      <td>The Sun</td>\n",
       "      <td>The Sun</td>\n",
       "      <td>The Mirror / Daily Record</td>\n",
       "      <td>The Sun</td>\n",
       "      <td>NaN</td>\n",
       "      <td>The Sun</td>\n",
       "    </tr>\n",
       "    <tr>\n",
       "      <th>57486</th>\n",
       "      <td>NaN</td>\n",
       "      <td>The Mirror / Daily Record</td>\n",
       "      <td>The Mirror / Daily Record</td>\n",
       "      <td>The Mirror / Daily Record</td>\n",
       "      <td>NaN</td>\n",
       "      <td>The Sun</td>\n",
       "    </tr>\n",
       "    <tr>\n",
       "      <th>57501</th>\n",
       "      <td>The Sun</td>\n",
       "      <td>The Sun</td>\n",
       "      <td>The Sun</td>\n",
       "      <td>The Sun</td>\n",
       "      <td>NaN</td>\n",
       "      <td>The Sun</td>\n",
       "    </tr>\n",
       "  </tbody>\n",
       "</table>\n",
       "<p>4425 rows × 6 columns</p>\n",
       "</div>"
      ],
      "text/plain": [
       "                              profile_newspaperW10  \\\n",
       "id                                                   \n",
       "73                                             NaN   \n",
       "129                                            NaN   \n",
       "215                                            NaN   \n",
       "228                                           None   \n",
       "232    The Daily Star / The Daily Star of Scotland   \n",
       "...                                            ...   \n",
       "57356                                      The Sun   \n",
       "57464                                      The Sun   \n",
       "57468                                      The Sun   \n",
       "57486                                          NaN   \n",
       "57501                                      The Sun   \n",
       "\n",
       "                              profile_newspaperW11  \\\n",
       "id                                                   \n",
       "73                                             NaN   \n",
       "129                                            NaN   \n",
       "215                                            NaN   \n",
       "228                                        The Sun   \n",
       "232    The Daily Star / The Daily Star of Scotland   \n",
       "...                                            ...   \n",
       "57356                                      The Sun   \n",
       "57464                                      The Sun   \n",
       "57468                                      The Sun   \n",
       "57486                    The Mirror / Daily Record   \n",
       "57501                                      The Sun   \n",
       "\n",
       "                             profile_newspaper2W12  \\\n",
       "id                                                   \n",
       "73             Other local daily morning newspaper   \n",
       "129                                        The Sun   \n",
       "215                                            NaN   \n",
       "228            Other local daily morning newspaper   \n",
       "232    The Daily Star / The Daily Star of Scotland   \n",
       "...                                            ...   \n",
       "57356                                      The Sun   \n",
       "57464                                         None   \n",
       "57468                    The Mirror / Daily Record   \n",
       "57486                    The Mirror / Daily Record   \n",
       "57501                                      The Sun   \n",
       "\n",
       "                              profile_newspaperW13 profiles_newspaper2W16  \\\n",
       "id                                                                          \n",
       "73             Other local daily morning newspaper                    NaN   \n",
       "129                                        The Sun                    NaN   \n",
       "215                                            NaN                    NaN   \n",
       "228                                            NaN                    NaN   \n",
       "232    The Daily Star / The Daily Star of Scotland                    NaN   \n",
       "...                                            ...                    ...   \n",
       "57356                                      The Sun                    NaN   \n",
       "57464                                      The Sun                    NaN   \n",
       "57468                                      The Sun                    NaN   \n",
       "57486                    The Mirror / Daily Record                    NaN   \n",
       "57501                                      The Sun                    NaN   \n",
       "\n",
       "                            profiles_newspaper2W17  \n",
       "id                                                  \n",
       "73                                             NaN  \n",
       "129                                            NaN  \n",
       "215                                        The Sun  \n",
       "228                                            NaN  \n",
       "232    The Daily Star / The Daily Star of Scotland  \n",
       "...                                            ...  \n",
       "57356                                          NaN  \n",
       "57464                                          NaN  \n",
       "57468                                      The Sun  \n",
       "57486                                      The Sun  \n",
       "57501                                      The Sun  \n",
       "\n",
       "[4425 rows x 6 columns]"
      ]
     },
     "execution_count": 48,
     "metadata": {},
     "output_type": "execute_result"
    }
   ],
   "source": [
    "\n",
    "BES_Panel[search(BES_Panel,\"newspaper2?W\").index].loc[BES_Panel[\"profile_newspaper\"]==\"The Sun\"].dropna(axis=0,how='all')"
   ]
  },
  {
   "cell_type": "code",
   "execution_count": 50,
   "metadata": {},
   "outputs": [
    {
     "data": {
      "text/plain": [
       "The Sun                                        911\n",
       "None                                           846\n",
       "The Daily Mail / The Scottish Daily Mail       148\n",
       "Other Newspaper                                 43\n",
       "Other local daily morning newspaper             42\n",
       "The Mirror / Daily Record                       35\n",
       "The Guardian                                    27\n",
       "The Times                                       18\n",
       "The Daily Star / The Daily Star of Scotland     18\n",
       "The Express                                     15\n",
       "The Daily Telegraph                             14\n",
       "The Financial Times                              6\n",
       "The Independent                                  3\n",
       "The Herald (Glasgow)                             2\n",
       "The Western Mail                                 0\n",
       "The Scotsman                                     0\n",
       "Name: profiles_newspaper2W17, dtype: int64"
      ]
     },
     "execution_count": 50,
     "metadata": {},
     "output_type": "execute_result"
    }
   ],
   "source": [
    "BES_Panel[\"profiles_newspaper2W17\"][BES_Panel[\"profile_newspaper\"]==\"The Sun\"].value_counts()"
   ]
  },
  {
   "cell_type": "code",
   "execution_count": null,
   "metadata": {},
   "outputs": [],
   "source": []
  },
  {
   "cell_type": "code",
   "execution_count": null,
   "metadata": {},
   "outputs": [],
   "source": []
  },
  {
   "cell_type": "code",
   "execution_count": null,
   "metadata": {},
   "outputs": [],
   "source": []
  },
  {
   "cell_type": "code",
   "execution_count": null,
   "metadata": {},
   "outputs": [],
   "source": [
    "BES Media module variables\n",
    "infoSource\n",
    "\n",
    "During the last seven days, on average how much time (if any) have you spent per day following news about\n",
    "\n",
    "politics or current affairs from each of these sources?\n",
    "\n",
    "TV/Paper/Radio/Internet/People\n",
    "\n",
    "Full waves 4, 5, 6, 7, 8, 12, 13, 15, 17, 18, 19"
   ]
  },
  {
   "cell_type": "code",
   "execution_count": 14,
   "metadata": {},
   "outputs": [
    {
     "data": {
      "text/plain": [
       "infoSourceTVW4           31552\n",
       "infoSourcePaperW4        31552\n",
       "infoSourceRadioW4        31552\n",
       "infoSourceInternetW4     31552\n",
       "infoSourcePeopleW4       31552\n",
       "infoSourceTVW5           30969\n",
       "infoSourcePaperW5        30969\n",
       "infoSourceRadioW5        30969\n",
       "infoSourceInternetW5     30969\n",
       "infoSourcePeopleW5       30969\n",
       "infoSourceTVW6           30257\n",
       "infoSourcePaperW6        30257\n",
       "infoSourceRadioW6        30257\n",
       "infoSourceInternetW6     30257\n",
       "infoSourcePeopleW6       30257\n",
       "infoSourceTVW7           30895\n",
       "infoSourcePaperW7        30895\n",
       "infoSourceRadioW7        30895\n",
       "infoSourceInternetW7     30895\n",
       "infoSourcePeopleW7       30895\n",
       "infoSourceTVW8           33502\n",
       "infoSourcePaperW8        33502\n",
       "infoSourceRadioW8        33502\n",
       "infoSourceInternetW8     33502\n",
       "infoSourcePeopleW8       33502\n",
       "infoSourceTVW12          34394\n",
       "infoSourcePaperW12       34394\n",
       "infoSourceRadioW12       34394\n",
       "infoSourceInternetW12    34394\n",
       "infoSourceTVW13          31136\n",
       "infoSourcePaperW13       31136\n",
       "infoSourceRadioW13       31136\n",
       "infoSourceInternetW13    31136\n",
       "infoSourcePeopleW13      31136\n",
       "infoSourceTVW15          30842\n",
       "infoSourcePaperW15       30842\n",
       "infoSourceRadioW15       30842\n",
       "infoSourceInternetW15    30842\n",
       "infoSourceTVW17          34366\n",
       "infoSourcePaperW17       34366\n",
       "infoSourceRadioW17       34366\n",
       "infoSourceInternetW17    34366\n",
       "infoSourceTVW18          37825\n",
       "infoSourcePaperW18       37825\n",
       "infoSourceRadioW18       37825\n",
       "infoSourceInternetW18    37825\n",
       "infoSourceTVW19          32177\n",
       "infoSourcePaperW19       32177\n",
       "infoSourceRadioW19       32177\n",
       "infoSourceInternetW19    32177\n",
       "infoSourcePeopleW19      32177\n",
       "dtype: int64"
      ]
     },
     "execution_count": 14,
     "metadata": {},
     "output_type": "execute_result"
    }
   ],
   "source": [
    "search(BES_Panel,\"infoSource\")"
   ]
  },
  {
   "cell_type": "code",
   "execution_count": 5,
   "metadata": {},
   "outputs": [
    {
     "data": {
      "text/plain": [
       "Less than 1/2 hour      8861\n",
       "1/2 hour to 1 hour      8585\n",
       "1 to 2 hours            5334\n",
       "None, no time at all    4199\n",
       "More than 2 hours       3505\n",
       "Don't know              1068\n",
       "Name: infoSourceTVW4, dtype: int64"
      ]
     },
     "execution_count": 5,
     "metadata": {},
     "output_type": "execute_result"
    }
   ],
   "source": [
    "BES_Panel[\"infoSourceTVW4\"].value_counts()"
   ]
  },
  {
   "cell_type": "code",
   "execution_count": null,
   "metadata": {},
   "outputs": [],
   "source": [
    "twitterUse: Full Waves 4, 5, 6, 12, 18\n",
    "\n",
    "Do you use Twitter? Yes/No/DK (mostly No!, ~8000/30+k = Yes)\n",
    "\n",
    "~8000 people that say Yes then asked\n",
    "\n",
    "twitterInfo(_1/2/3) Partial Sample Waves 4, 5, 12, 18\n",
    "\n",
    "In the last 4 weeks, have you read news or found information about the upcoming general election or politics\n",
    "\n",
    "more generally that was tweeted by any of the following people or organisations? Tick all that apply\n",
    "\n",
    "twitterInfo_1: Candidates or parties on Twitter\n",
    "\n",
    "twitterInfo_2: Someone you know personally on Twitter\n",
    "\n",
    "twitterInfo_3: Other people on Twitter e.g. commentators, journalists, activists\n",
    "\n",
    "Yes/No/DK/Don't follow politics on twitter (mostly Don't follow politics on twitter)\n",
    "\n",
    "twitterInfof2f Partial Sample Wave 6\n",
    "During the election campaign, did you get news about politics and the election through twitter?\n",
    "Yes/No/DK"
   ]
  },
  {
   "cell_type": "code",
   "execution_count": 15,
   "metadata": {},
   "outputs": [
    {
     "data": {
      "text/plain": [
       "twitterUseW4        31551\n",
       "twitterInfo_1W4      8799\n",
       "twitterInfo_2W4      8799\n",
       "twitterInfo_3W4      8799\n",
       "twitterUseW5        30970\n",
       "twitterInfo_1W5      8777\n",
       "twitterInfo_2W5      8777\n",
       "twitterInfo_3W5      8777\n",
       "twitterUseW6        30257\n",
       "twitterInfof2fW6     8440\n",
       "twitterUseW12       34394\n",
       "twitterInfo_1W12     9848\n",
       "twitterInfo_2W12     9848\n",
       "twitterInfo_3W12     9848\n",
       "twitterUseW18       37825\n",
       "twitterInfo_1W18    10807\n",
       "twitterInfo_2W18    10807\n",
       "twitterInfo_3W18    10807\n",
       "dtype: int64"
      ]
     },
     "execution_count": 15,
     "metadata": {},
     "output_type": "execute_result"
    }
   ],
   "source": [
    "search(BES_Panel,\"twitter\")"
   ]
  },
  {
   "cell_type": "code",
   "execution_count": 6,
   "metadata": {},
   "outputs": [
    {
     "data": {
      "text/plain": [
       "Yes           4505\n",
       "No            3821\n",
       "Don't know     114\n",
       "Name: twitterInfof2fW6, dtype: int64"
      ]
     },
     "execution_count": 6,
     "metadata": {},
     "output_type": "execute_result"
    }
   ],
   "source": [
    "BES_Panel[\"twitterInfof2fW6\"].value_counts()"
   ]
  },
  {
   "cell_type": "code",
   "execution_count": null,
   "metadata": {},
   "outputs": [],
   "source": [
    "fbUse: Full Waves 4, 5, 6, 12, 18\n",
    "\n",
    "Do you use Facebook? Yes/No/DK (mostly No!, ~20k/30+k = Yes)\n",
    "\n",
    "~20000 people that say Yes then asked\n",
    "\n",
    "fbInfo(_1/2/3) Partial Sample Waves 4, 5, 12, 18\n",
    "\n",
    "In the last 4 weeks, have you read news or found information about the upcoming general election or politics more\n",
    "\n",
    "generally that was posted on Facebook by any of the following people or organisations? Tick all that apply\n",
    "\n",
    "fbInfo_1 Candidates or parties on Facebook\n",
    "\n",
    "fbInfo_2 Someone you know personally on Facebook\n",
    "\n",
    "fbInfo_3 Other people on Facebook e.g. commentators, journalists, activists\n",
    "\n",
    "Yes/No/DK/Don't follow politics on facebook (mostly Don't follow politics on facebook - even moreso than twitter)\n",
    "\n",
    "fbInfof2fW6 Partial Sample Wave 6\n",
    "During the election campaign, did you get news about politics and the election through Facebook?\n",
    "Yes/No/DK"
   ]
  },
  {
   "cell_type": "code",
   "execution_count": 16,
   "metadata": {},
   "outputs": [
    {
     "data": {
      "text/plain": [
       "fbUseW4        31551\n",
       "fbInfo_1W4     21008\n",
       "fbInfo_2W4     21008\n",
       "fbInfo_3W4     21008\n",
       "fbUseW5        30970\n",
       "fbInfo_1W5     20632\n",
       "fbInfo_2W5     20632\n",
       "fbInfo_3W5     20632\n",
       "fbUseW6        30258\n",
       "fbInfof2fW6    20233\n",
       "fbUseW12       34394\n",
       "fbInfo_1W12    23538\n",
       "fbInfo_2W12    23538\n",
       "fbInfo_3W12    23538\n",
       "fbUseW18       37825\n",
       "fbInfo_1W18    25248\n",
       "fbInfo_2W18    25248\n",
       "fbInfo_3W18    25248\n",
       "dtype: int64"
      ]
     },
     "execution_count": 16,
     "metadata": {},
     "output_type": "execute_result"
    }
   ],
   "source": [
    "search(BES_Panel,\"fb\",case_sensitive=True)"
   ]
  },
  {
   "cell_type": "code",
   "execution_count": 7,
   "metadata": {},
   "outputs": [
    {
     "data": {
      "text/plain": [
       "Don't follow politics on facebook    14358\n",
       "No                                    3038\n",
       "Yes                                   2609\n",
       "Don't know                            1003\n",
       "Name: fbInfo_1W4, dtype: int64"
      ]
     },
     "execution_count": 7,
     "metadata": {},
     "output_type": "execute_result"
    }
   ],
   "source": [
    "BES_Panel[\"fbInfo_1W4\"].value_counts()"
   ]
  },
  {
   "cell_type": "code",
   "execution_count": null,
   "metadata": {},
   "outputs": [],
   "source": [
    "euSources Full Waves 7, 8\n",
    "\n",
    "Have you heard anything about the EU referendum from any of these during the last seven days?\n",
    "\n",
    "Please tick all that apply.\n",
    "\n",
    "euSources_1: Television\n",
    "\n",
    "euSources_2: Newspaper (including online)\n",
    "\n",
    "euSources_3: Radio\n",
    "\n",
    "euSources_4: Internet (not including online newspapers)\n",
    "\n",
    "euSources_5: Talking to other people\n",
    "\n",
    "Yes/No/DK"
   ]
  },
  {
   "cell_type": "code",
   "execution_count": 17,
   "metadata": {},
   "outputs": [
    {
     "data": {
      "text/plain": [
       "euSources_1W7      30895\n",
       "euSources_2W7      30895\n",
       "euSources_3W7      30895\n",
       "euSources_4W7      30895\n",
       "euSources_5W7      30895\n",
       "euSources_111W7    30781\n",
       "euSources_1W8      33502\n",
       "euSources_2W8      33502\n",
       "euSources_3W8      33502\n",
       "euSources_4W8      33502\n",
       "euSources_5W8      33502\n",
       "euSources_111W8    33391\n",
       "dtype: int64"
      ]
     },
     "execution_count": 17,
     "metadata": {},
     "output_type": "execute_result"
    }
   ],
   "source": [
    "search(BES_Panel,\"euSources\")"
   ]
  },
  {
   "cell_type": "code",
   "execution_count": 829,
   "metadata": {},
   "outputs": [
    {
     "data": {
      "text/plain": [
       "Yes           19147\n",
       "No             9568\n",
       "Don't know     2180\n",
       "Name: euSources_1W7, dtype: int64"
      ]
     },
     "execution_count": 829,
     "metadata": {},
     "output_type": "execute_result"
    }
   ],
   "source": [
    "BES_Panel[\"euSources_1W7\"].value_counts()"
   ]
  },
  {
   "cell_type": "code",
   "execution_count": null,
   "metadata": {},
   "outputs": [],
   "source": []
  },
  {
   "cell_type": "code",
   "execution_count": null,
   "metadata": {},
   "outputs": [],
   "source": []
  },
  {
   "cell_type": "code",
   "execution_count": null,
   "metadata": {},
   "outputs": [],
   "source": []
  },
  {
   "cell_type": "code",
   "execution_count": null,
   "metadata": {},
   "outputs": [],
   "source": []
  },
  {
   "cell_type": "markdown",
   "metadata": {},
   "source": [
    "need to download/open up the open-ended question dataset for\n",
    "tvWatch/radioList/paperRead/internetRead\n",
    "\n",
    "urk - ugly human data\n",
    "\n",
    "What are the most important Internet sources (including online newspapers) you read\n",
    "\n",
    "for information about politics and the election?\n",
    "\n",
    "List up to three websites or click next if there are no websites you can think of.\n",
    "\n",
    "TV/radio/newspaper/internet\n",
    "\n",
    "whole bunch of variables about visiting a party site/sharing party website/fb/twitter stuff -> ignoring"
   ]
  },
  {
   "cell_type": "code",
   "execution_count": 18,
   "metadata": {},
   "outputs": [],
   "source": [
    "df=pd.read_pickle('../BES_analysis_data/W19_comb_strings\\\\BES2019_W19Strings_v0.3.zip', compression='zip')"
   ]
  },
  {
   "cell_type": "code",
   "execution_count": null,
   "metadata": {},
   "outputs": [],
   "source": []
  },
  {
   "cell_type": "code",
   "execution_count": 306,
   "metadata": {},
   "outputs": [],
   "source": [
    "crap_list = [\"__na__\",\"none\",\"dk\",\"__dk__\",\"na\",\"0\",\"?\",\".\",\"don't know\",\"dont know\",\"-\",\"d/k\",\"n/a\",\"o\",\"n\",\n",
    "             \"x\",\"dn\",\"no\",\"n.a\",\"a\",\"not sure\",\"1\",\"2\",\"3\",\"4\",\"5\",\"6\",\"7\",\"8\",\"9\",\"non\",\"nil\",\"no tv\",\"no idea\",\n",
    "             \"unsure\",\"s\",\"/\",\",\",\" none\",\"n/c\",\"don't read newspapers\",\"n a\",\"nothing\",\"h\",\"g\",\"any\",\n",
    "             \"i don't read newspapers\",\"f\",\"e\",\"all\",\"c\",\"??\",\"z\",\"l\",\"v\",\"???\",\"q\",\"b\",\"i don't know\",\"idk\",\"do not read\",\n",
    "             \"pass\",\"various\",\"m\",\"do not know\",\"an\",\"as above\",\"..\",\"not applicable\",\"d\",\",\",\n",
    "             'k', \"'\", '\\\\', 'y', 'w', '\"', '=', 'r', 'j', 'u', 't', 'p', '`', ';', '>', '+', '!',\n",
    "             '--','00','.?','//',',,',\"''\",'>?','?/','@?',\"'i\",'p<','/.',\".'\",'>/',',l','n/',':?',' 1',\n",
    "             '...','///','---','...','n\\\\a','n?a','n,a','000',\n",
    "             'n/a.','....','////','????','i dk','any.','n./a','n.,a',' n/a','`n.a','..?.','`n/a','in/a','-///',\n",
    "             'n.aq','n/a/','----','n /a','nm/a',\n",
    "             '?????','no ne','n.?/a','-----','.....','/////','none-','nione','/////','n.a..','.none','noene', ',,,,,',\n",
    "             \"can't\",'non e', '>>>>>', \"do 't\",'\"non\"','nmone',\n",
    "             \"don't\",'?????', 'nnone', 'none3', 'onone', 'nonet','n.?/a','none`','arsed','noned','-----','.....',\n",
    "             'nnoen','none-','nione','/////','n.a..','noner',',,,,,',\"can't\",'non e','>>>>>',\"do 't\",'\"non\"','nmone',\n",
    "             'xxxxxxx','xxxxxx','xxxxx','xxxx','xxx','xx','x',\n",
    "             \"i don't\",'notsure','any/all','did not','noneone','i avoid',\n",
    "             \"i didn't\",'whatever', 'no telly', 'i do not', 'your mum','dontread','read the', 'dont use',\n",
    "             'fkuyhhjh','xcvxcvxc','kjgmfdgf','dddssdsd','jgcvhbmn','xcvcxvxc','tyyuhjkl','wsrfgwrg','ghhhgfgj',\n",
    "             'hjfcgchg', 'ahsjsjsj','dontwatch','nonr','dont','d k','none','i dont','no e','noine','noe',\"i haven't\", '\"',\n",
    "             'ditto','dont read','jjj', 'iii', 'jj','djajsjajs','jyfjhjm','don tknow',\n",
    "             'not sure', 'vznfndndk', 'no paper','sss',\"don't kbo\",'sdvsdf','in/a','ghgfgg',';iluluyfg','gcfhd',\n",
    "             'iiii',\"don't kno\",'not known',\"don't kno\", 'na',\n",
    "             'scvxdv','czdvfb', 'rghwrghwr','shsjjs','chifyj', 'xfckkj','fhhjkkkkk','ghsgfshsf','wrgwrhg','i didnt','werhwrhwr',\n",
    "             'i have no tv','\"', 'u', 'n', 'd',\n",
    "             'do not watch tv',\"don't watch\",\"no radio\",\"don't listen to radio\",\"none\",\"nobe\",\"same\",\n",
    "             \"radio\",\"can't remember\",\"next\",\"nk\",\"dont listen to the radio\",\"good\",\"npne\",\n",
    "             \"not one\",\"know\",\"listen\",\"noen\",\"do not listen to radio\",\"no other\",\"do not read newspapers\",\"nine\",\n",
    "             \"dont read newspapers\",\"varies\",\"nill\",\"no newspaper\",\"there is no trustworthy newspaper\",\"i do not read newspapers\",\n",
    "             \"no scooby doo\",\"not\",\"all are biased\",\"nothing specific\",\"hey\",\"not read\",\"stop\",\"lies lies lies on waste paper\",\"out of uk at present\",\n",
    "             \"never\",\"away on hol\",\"did not read\",\"i don not read politics in newspapers\",\"havent read a newspaper\",\"don't read\",\"n/a don't buy papers\",\n",
    "             \"i don't pay for second hand views of the illuminati\",\"read\",\"unknown\",\"there are none\",\"above\",\n",
    "             \"not important\",\"on holiday\",\"none in print\",\"d/n\",\"its ok\",\"none read\",\"not read any\",\"dont no\",\"above\",\n",
    "             '\"','11','12','42','n0','u','n/o','yes','n.a','n/k', 'm/a','na2', 'nk;', 'd.k',\"n'a\",\n",
    "             \"any news\",\"none2\",\"other\",\"dont listen to radio\",\"general radio\",\"do not use\",\"don't know any\",\n",
    "             \"no websites\",\"non biased\",\"been on a cruise\",\"don't mnkw\",\"cant remember\",\"did not watch\",\n",
    "             \"don't watch tv\",\"don't watch tv\",\"i don't have a tv\",\"i don't watch tv\",\"tv\",\"watch\",\"can't recall\",\n",
    "             \"do not watch any tv\",\n",
    "            \"i don't own a television\",\"errtff\",\"chdn\",\"i don't accept this matter arises\",\n",
    "            \"not sute\",\"don;t know\",\"all biased\",\n",
    "            \"iuiuiokolp\",\"cant\",\"jfdnf\",\"xccxcxcxcx\",\"dont know 2\", \"98\",\"forget\",\n",
    "            \"advertising\",\"don't have tv in the house\",\"dont watch tv programmes about news or politics\",\"didn't\",\n",
    "            \"not iimportsnt\",\"don't mr know\",\"assorted\",\"as i'm on holiday\",\n",
    "            \"typo\",\"our tv has got an off button\",\"01383Â 730050\",\n",
    "            \"i never said i watched live tv\", \n",
    "            \"didnt watch\",\"don't jniw\",\"okkk\",\"yuuijjkkkkkm\",\"dontknow\",\"vccvvc\",\"hsbababdg\",\"oooo\",\n",
    "            \"dont known\",\"don t watch\",\"not interested\",\"as before\",\"sure\"\n",
    "            \"i dont watch tv\",\"dont knowd\",\"not applicable on holiday\",\"dont watch any\",\n",
    "            \"first tv programme\",\"dkn\",\"i don't watch tv politics\",\"not watching\",\"n/a no tv\",\n",
    "            \"programmes i can't remember\",\"too biased\",\"don t know\",\"nont\",\n",
    "            \"i don't watch tv at home\",\"none i can think of don't remember\",\"i do not watch tv\",\n",
    "            \"i can\",\"none live  no tv\",\"none. on holiday\",\"dont watch t v\",\"dont watch  tv\",\"10\",\n",
    "            \"couldn't be bothered\",\"not watch\",\"why\",\"dont have a tv\",\"dont remember\",\n",
    "            \"don't follow politics at all\",\"didn't watch any\",\"did not watch tv\",\"no others\",\n",
    "            \"did not watch any tv last week.  did not have time\",\"n/a - out of uk at present\",\n",
    "            \"havent watched television\",\"tv cannot be trusted\",\"i do not watch political programmes\",\n",
    "            \"can think of\",\"i dont own a tv\",\"none\",\"they're all biased\",\"not watched\",\n",
    "            \"none i have been abroad\",\"dont know 3\",\"dint know\",\n",
    "            \"i already told you i don't watch tv\",\"none they r biased\",\n",
    "            \"i have been away on holiday\",\"so i have not seen any tv\",\n",
    "            \"none, this has been going on since bloody xmas, i am losing the will to live\",\n",
    "            \"i try to avoid all politics progs including the news\",\n",
    "            \"i don't watch tv anymore it's to biased\",\n",
    "            \"ticked this in error, sorry\",\"f knows\",\n",
    "            \"do not watch tv as biased\",\"not sure of names\",\n",
    "            \"whoever stole the off switch for my mind please return it, no questions asked\",\n",
    "            \"none i would rather watch paint dry\",\n",
    "            \"tv programmes are bought and paid for by elites\",\n",
    "            \"i don't watch television\",\"none, all have proven to be biased\",\n",
    "            \"none because i have made my mind up and i am fed up with some of the antics of the polititians\",\n",
    "            \"none - was on holiday\",\"i've been on holiday so not watched uk tv\",\n",
    "            \"i don't watch plitical programmes\",\"no interest in politics\",\"80\",\n",
    "            \"dont watch politics programmes as they are all just mouth pices for the labour party\",\n",
    "            \"voted so not watching\",\"i don't watch much tv\",\"n/a rarely watch tv\",\"do not watch as biased\",\n",
    "            \"no interest in party politics\",\"don't watch live tv\",\"n.a. i do not have a television\",\n",
    "            \"didn't watch any tv\",\"dont watch tv\",\"did not watch any\",\"don't have a tv\",\"cannot remember\",\n",
    "            \"bbc are too biases\",\"cant mind\",\"n/a rarely watchtv\",\"none, fed up with the lot of them\",\n",
    "            \"one of our local news programmes with the conservative candidate and the labour candidate. labour was awful\",\n",
    "            \"none - was on holiday in italy\",\"what\",\"dont follow politics too closely\",\"seriously, tv is obnoxious\",\n",
    "            \"tv is so biased it is not worth watching\",\n",
    "            \"none on holiday\",\n",
    "            \"been on holiday\",\n",
    "            \"none, been on holiday\",\n",
    "            \"none - on holiday\",\n",
    "            \"on holiday abroard\",\n",
    "            \"i have been away on holiday, so i have not seen any tv\",\n",
    "            \"none been on holiday\",\n",
    "            \"none, they're all biased\",\n",
    "            \"don't have tv\",\n",
    "            \"don't have access to a tv\",\n",
    "            \"don't knoe\",\n",
    "            \"don't kniw\",\n",
    "            \"don't habe tv\",\n",
    "            \"don't  know\",\n",
    "            \"don't remember\",\n",
    "            \"i don't watch any\",\n",
    "            \"i have given up on the bbc\",\n",
    "            \"dont know what called\",\n",
    "            \"dn't know\",\n",
    "            \"don't  know\",\n",
    "            \"don.t know\",\n",
    "            \"cant recall\",\n",
    "            \"cant rememeber\",\n",
    "            \"cant remeber\",\n",
    "            \"can't remember  name of show\",\n",
    "            \"can't think\",\n",
    "            \"can't remember the name\",\n",
    "            \"itv @ 12:30 can't rem name\",\n",
    "            \"whatevers on\",\n",
    "            \"see above\",\n",
    "            \"not got radio\",\n",
    "            \"no particular prgrams\",\n",
    "            \"none am deaf\",\n",
    "            \"vyggh\",\n",
    "            \"201\",\n",
    "            \"i dont know\",\n",
    "            \"what the\",\n",
    "            \"not listened to radio in 7 days\",\n",
    "            \"i made a mistake\",\n",
    "            \"dont usually listen to radio\",\n",
    "            \"not sure 2\",\n",
    "            \"nonw\",\n",
    "            \"none n\",\n",
    "            \"no ideano idea\",\n",
    "            \"oioojjjkkkll\",\n",
    "            \"wgngmg\",\n",
    "            \"nonne\",\n",
    "            \"didn't listen to radio at all\",\n",
    "            \"else\",\n",
    "            \"i still don't\",\n",
    "            \"can't remember name\",\n",
    "            \"n/a -out of uk at present\",\n",
    "            \"i ddon;t listen to political radio\",\n",
    "            \"haven't listened to another programme\",\n",
    "            \"kllllllllllllllllllllllllllllllllllllllllllllllllllllllllllllllllllllllllllllllllllllllllllllllllllllllllllllllllllllllllllllllll\",\n",
    "            \"don't listen to the radio either\",\n",
    "            \"cant rememebr\",\n",
    "            \"yuuiioijokkl\",\n",
    "            \"none spring to mind\",\n",
    "            \"didnt listen\",\n",
    "            \"yygggh\",\n",
    "            \"no other station\",\n",
    "            \"nothing here unbiased and worth listening to\",\n",
    "            \"mone\",\n",
    "            \"do not listen to radio so i don't know\",\n",
    "            \"fo not know\",\n",
    "            \"dont know of any\",\n",
    "            \"been away\",\n",
    "            \"nil - i do not listen to the radio\",\n",
    "            \"i don't listen to radio\",\n",
    "            \"do t listen\",\n",
    "            \"gjhgg\",\n",
    "            \"donr k now\",\n",
    "            \"not surenot sure\",\n",
    "            \"none didnt have radio on\",\n",
    "            \"dont listen to radio at all\",\n",
    "            \"above are the only two stations i listen to\",\n",
    "            \"nons\",\n",
    "            \"xxxxxxxxxxxxx\",\n",
    "            \"don't listen to any\",\n",
    "            \"don't listen to the radio\",\n",
    "            \"font listed to rafio\",\n",
    "            \"to any\",\n",
    "            \"fbnngb\",\n",
    "            \"no radio in house\",\n",
    "            \"no programs\",\n",
    "            \"don';t know\",\n",
    "            \"i have been away\",\n",
    "            \"xxxxxxxxxxxxxxx\",\"n0n4\",\n",
    "            \"nznxncmcm\",\"ghjjj\",\"cxvxcxc\",\"jydb\",\"wrgwr\",\"ffvvfvfvvfvfv\",\"jjaeÂ·kkjjjjkjkj\",\"xkajxjh\",\n",
    "            \"i do not listen on the radio to political programmes\",\n",
    "            \"don't know title\",\n",
    "            \"too\",\n",
    "            \"it varies depends when i am driving\",\n",
    "            \"n/a-partially deaf\",\n",
    "            \"didnt listen to radio\",\n",
    "            \"don't remember\",\n",
    "            \"if on i listen other wise no special programme\",\n",
    "            \"n/a - sometimes hear it by chance if i am out and about\",\n",
    "            \"no radio reception either\",\n",
    "            \"never on any radio\",\n",
    "            \"at all, biased\",\n",
    "            \"xxxxxxxxxxx\",\n",
    "            \"don't' listen\",\n",
    "            \"do no listen to the radio\",\n",
    "            \"dont kno\",\n",
    "            \"cant remember title of\",\n",
    "            \"t listen on the radio to political programmes\",\n",
    "            \"cant recall\",\n",
    "            \"dont use radio\",\n",
    "            \"i dont listen to the radio\",\n",
    "            \"radio also cannot be trusted\",\n",
    "            \"i do not have tv\",\n",
    "            \"n/a no radio\",\n",
    "            \"did not listen\",\n",
    "            \"have not watched any\",\n",
    "            \"do not listen\",\n",
    "            \"none - on annual leave\",\n",
    "            \"nonenone\",\n",
    "            \"any not to do with politics\",\n",
    "            \"don,t know\",\n",
    "            \"no program\",\n",
    "            \"no programmes\",\n",
    "            \"dont listen\",\n",
    "            \"only listen to music\",\n",
    "            \"do not listen to the radio at all\",\n",
    "            \"do not listen to the radio\",\n",
    "            \"i don't listen to the radio\",\n",
    "            \"i do not listen to the radio\",\n",
    "            \"do not listen to radio for politics\",\n",
    "            \"na -told you i didn't listen to the radio\",\n",
    "            \"listening\",\n",
    "            \"don't listen\",\n",
    "            \"not listened to any\",\n",
    "            \"i dont have a radio\",\n",
    "            \"dont know name\",\n",
    "            \"dont konnw\",\n",
    "            \"dont have radio\",\n",
    "            \"don't use radio\",\n",
    "            \"i don't listen to the radio\",\n",
    "            \"don't jnow\",\n",
    "            \"don'tknow\",\n",
    "            \"don't listen\",\n",
    "            \"shshsss\",\"cyfgvhk\",\"vxbvxf\",\"cygvbkj\",\"cggghghgghhg\",\"kkhhhhhghhh\",\"cighffvhgfhvfgvghgghgu\",\n",
    "            \"xxxxxxxxxxx\",\"ghvg\",\"doont knoe\",\"popoiyhfg\",\"jhgngng\",\"dk2\",\"no papers\",\"are you serious\",\n",
    "            \"none read the last\",\"i dont read them\",\"don't read them\",\"whatever i catch online\",\"dont read newspaper\",\n",
    "            \"nothing worth reading\",\n",
    "            \"any newspaper\",\n",
    "            \"no third paper\",\n",
    "            \"dont read them\",\n",
    "            \"none, they are biased\",\n",
    "            \"i dont read the politcs pages\",\n",
    "            \"unsure, what is on the train\",\n",
    "            \"i dont know\",\n",
    "            \"none on holiday\",\n",
    "            \"dont read news papers\",\n",
    "            \"sont read\",\n",
    "            \"dont read another\",\n",
    "            \"none 2\",\n",
    "            \"none havent read any\",\n",
    "            \"a laugh\",\n",
    "            \"tory smear tatics\",\n",
    "            \"answer ffs\",\n",
    "            \"defenately not the telegraph\",\n",
    "            \"don't read  newspaper\",\n",
    "            \"never read\",\n",
    "            \"dont buy newspapers\",\n",
    "            \"all newspapers are pro-union\",\n",
    "            \"newspapers? come on! i want facts not overt lies\",\n",
    "            \"newspapers have been bought off\",\n",
    "            \"what really happened\",\n",
    "            \"not shre\",\n",
    "            \"don't remember\",\n",
    "            \"don't read papers for politics\",\n",
    "            \"there are no scottish papers\",\n",
    "            \"no other paper\",\n",
    "            \"i don't take any\",\n",
    "            \"in the press have been an\",\n",
    "            \"xxxxxxxxxxxx\",\n",
    "            \"none, don't read newspapers(printed)\",\n",
    "            \"do people read newspapers\",\n",
    "            \"i have been away\",\n",
    "            \"na - told you i haven't read newspapers\",\n",
    "            \"do not read newspapers so don't know\",\n",
    "            \"none of them\",\n",
    "            \"none available on this island\",\n",
    "            \"i can think of newspapers but i haven't read any newspapapers in the last week\",\n",
    "            \"papers are old school only the brainwashed read the crap anymore\",\n",
    "            \"do people actually still read newspapers\",\n",
    "            \"xxxxxxxxxxx\",\"xxxxxxxxxxxx\",\"xxxxxxxxxxxxxx\",\n",
    "            \"i dont read the news on line\",\n",
    "            \"no!e\",\n",
    "            \"i have been away\",\n",
    "            \"hwrhwrh\",\n",
    "            \"do not tend to look at politics stories on internet\",\n",
    "            \"i'm not telling you that. mind your own business\",\n",
    "            \"whichever party/topic i'm interested in at that time\",\n",
    "            \"none specific\",\n",
    "            \"none at all\",\n",
    "            \"i do not use any web sites to follow politics\",\n",
    "            \"dont use internet scources\",\n",
    "            \"nonenone\",\n",
    "            \"dont read about politics on internet\",\n",
    "            \"do not tend to look at political stories on internet\",\n",
    "            \"dont kno\",\n",
    "            \"cant recall\",\n",
    "            \"ghhhjj\",\n",
    "            \"dont knwo\",\n",
    "            \"likkkkkjkjj\",\n",
    "            \"do not use internet\",\n",
    "            \"blog i can't remember name of\",\n",
    "            \"do not tend to look at politics stories on the internet\",\n",
    "            \"don't use\",\n",
    "            \"i can't even remember the sites i avoid\",\n",
    "            \"i have no interest in party politics\",\n",
    "            \"don't have an interest in politics\",\n",
    "\n",
    "             \n",
    "             \n",
    "             \n",
    "             \n",
    "             \n",
    "            ]\n",
    "\n",
    "\n",
    "crap_regex = [\"^the \"]\n",
    "replace_dict = dict(zip(crap_list,[np.nan]*len(crap_list)))\n",
    "to_strip = '.!? \\n\\t/,>-\\\\<`′\\\"\\'$;'\n"
   ]
  },
  {
   "cell_type": "code",
   "execution_count": 299,
   "metadata": {
    "scrolled": false
   },
   "outputs": [],
   "source": [
    "# [x for x in df[match(df,\"tv|radio|paper|internet\",case_sensitive=False).index]\\\n",
    "#      .replace(replace_dict).replace(crap_regex,\"\",regex=True)\\\n",
    "#      .applymap(lambda x: x.strip(to_strip) if pd.notnull(x) else np.nan)\\\n",
    "#      .replace(replace_dict).stack().value_counts().index if len(x)<=4]"
   ]
  },
  {
   "cell_type": "code",
   "execution_count": null,
   "metadata": {},
   "outputs": [],
   "source": []
  },
  {
   "cell_type": "code",
   "execution_count": null,
   "metadata": {},
   "outputs": [],
   "source": []
  },
  {
   "cell_type": "code",
   "execution_count": null,
   "metadata": {},
   "outputs": [],
   "source": []
  },
  {
   "cell_type": "code",
   "execution_count": null,
   "metadata": {},
   "outputs": [],
   "source": []
  },
  {
   "cell_type": "code",
   "execution_count": 300,
   "metadata": {},
   "outputs": [],
   "source": [
    "### Maybe it would be easier if I broke down the mappings by wave?"
   ]
  },
  {
   "cell_type": "code",
   "execution_count": 301,
   "metadata": {},
   "outputs": [],
   "source": [
    "# df[match(df,\"tv|radio|paper|internet\",case_sensitive=False).index]\\\n",
    "#     .replace(replace_dict).replace(crap_regex,\"\",regex=True).stack().value_counts().head(400)[-60:]\n",
    "\n",
    "                   \n",
    "\n",
    "# pm? no? 1? 2? non? bt? 3? 4? 5?\n",
    "# pm is a radio station!\n",
    "\n",
    "# I think anything that's 1 letter is \"woops - I want to get out of here\" - except maybe \"i\" (what about 1/2/3 radio?)"
   ]
  },
  {
   "cell_type": "code",
   "execution_count": 302,
   "metadata": {},
   "outputs": [
    {
     "name": "stdout",
     "output_type": "stream",
     "text": [
      "95825 0.8791964518653796 0.9245395251761023\n"
     ]
    },
    {
     "data": {
      "text/plain": [
       "bbc news                17494\n",
       "question time           10648\n",
       "newsnight                9613\n",
       "news                     8838\n",
       "sky news                 4883\n",
       "                        ...  \n",
       "debate on april16th         1\n",
       "bbc electiion debate        1\n",
       "chn4 news                   1\n",
       "anrdew marr                 1\n",
       "int news                    1\n",
       "Length: 5876, dtype: int64"
      ]
     },
     "execution_count": 302,
     "metadata": {},
     "output_type": "execute_result"
    }
   ],
   "source": [
    "tv_replace_dict = {\"news night\":\"newsnight\",\"questiontime\":\"question time\",\"bbc 1\":\"bbc1\",\"bbc 1 news\":\"bbc1 news\",\"bbcnews\":\"bbc news\",\n",
    "    \"bbc newsnight\":\"newsnight\",\"party political broadcast\":\"party political broadcasts\",\"bbc question time\":\"question time\",\n",
    "    \"news at 10\":\"news at ten\",\"bbc news at 10\":\"bbc news at ten\",\"newnight\":\"newsnight\",\n",
    "    \"leaders debates\":\"leaders debate\",\"election debates\":\"election debate\",\"debates\":\"debate\",\n",
    "    \"daily politics show\":\"daily politics\",\"andrew marr show\":\"andrew marr\",\n",
    "    \"10 o clock news\":\"news at ten\",\"10 oclock news\":\"news at ten\",\"10pm news\":\"news at ten\",\"ten o'clock news\":\"news at ten\",\n",
    "    \"6 o clock news\":\"6 o'clock news\",\"6 oclock news\":\"6 o'clock news\",\"6pm news\":\"6 o'clock news\",\n",
    "    \"six o clock news\":\"6 o'clock news\",\"six o'clock news\":\"6 o'clock news\",                 \n",
    "    \"news at 6\":\"6 o'clock news\",\"news at six\":\"6 o'clock news\",\n",
    "    \"aljazeera\":\"al jazeera\",\n",
    "    \"andrew mar\":\"andrew marr\",\"andrew mar show\":\"andrew marr\",\"andrew marr on sunday\":\"andrew marr\",\n",
    "    \"andrew marrs\":\"andrew marr\",\"marr\":\"andrew marr\",\"marr on sunday\":\"andrew marr\",\"marr show\":\"andrew marr\",\n",
    "    \"bbc  news\":\"bbc news\",\"bbc new\":\"bbc news\",\"bbc newa\":\"bbc news\",\n",
    "    \"bbc 10pm news\":\"bbc news at ten\",\n",
    "    \"bbc 6 o clock news\":\"bbc news at 6\",\"bbc 6 oclock news\":\"bbc news at 6\",\"bbc 6 o'clock news\":\"bbc news at 6\",\n",
    "    \"bbc news 6pm\":\"bbc news at 6\",\"bbc news at six\":\"bbc news at 6\",\"bbc six o'clock news\":\"bbc news at 6\",\n",
    "    \"bbc news24\":\"bbc news 24\",\"bbc one\":\"bbc1\",\"bbc one news\":\"bbc1 news\",\n",
    "    \"big questions\":\"big question\",\n",
    "    \"chanel 4 news\":\"channel 4 news\",\"channel 4news\":\"channel 4 news\",\"ch4 news\":\"channel 4 news\",\n",
    "    \"ch 4 news\":\"channel 4 news\",\"c4 news\":\"channel 4 news\",\"channel four news\":\"channel 4 news\",\"channel4 news\":\"channel 4 news\",\n",
    "    \"chanel 4\":\"channel 4\",\"channel4\":\"channel 4\",\n",
    "    \"channel5\":\"channel 5\",\n",
    "    \"daily politcs\":\"daily politics\",\"daily politic\":\"daily politics\",\"daily politic show\":\"daily politics\",\n",
    "    \"daily politics bbc\":\"daily politics\",\"daily polotics\":\"daily politics\",\"daily poltics\":\"daily politics\",\n",
    "    \"documentary\":\"documentaries\",\n",
    "    \"euro news\":\"euronews\",\n",
    "    \"good morning\":\"good morning britain\",\n",
    "    \"hignfy\":\"have i got news for you\",\n",
    "    \"it news \":\"itn news\",\"its news\":\"itn news\",\n",
    "    \"itv  news\": \"itv news\",\"itv new\":\"itv news\",\"itvnews\":\"itv news\",\n",
    "    \"itv news at ten\":\"itv news at 10\",\n",
    "    \"leader debate\":\"leaders debate\",\"leader debates\":\"leaders debate\",\"leader's debate\":\"leaders debate\",\n",
    "    \"leaders' debate\":\"leaders debate\",\"leaders' debates\":\"leaders debate\",\"leadership debate\":\"leaders debate\",\n",
    "    \"leaders interviews\":\"leader interviews\",\n",
    "    \"live debates\":\"live debate\",\n",
    "    \"new\":\"news\",\n",
    "    \"news channel\":\"news channels\",\n",
    "    \"newsight\":\"newsnight\",\"newsmight\":\"newsnight\",\n",
    "    \"panarama\":\"panorama\",\"panaroma\":\"panorama\",\n",
    "    \"parliament channel\":\"parliament\",\n",
    "    \"paxman interviews\":\"paxman\",\n",
    "    \"peston\":\"peston on sunday\",\n",
    "    \"pm question time\":\"pmqs\",\"pm questions\":\"pmqs\",\"pmq\":\"pmqs\",\"pmq's\":\"pmqs\",\n",
    "    \"prime minister's questions\":\"pmqs\",\"prime ministers question time\":\"pmqs\",\"prime ministers questions\":\"pmqs\",\n",
    "    \"question  time\":\"question time\",\"question times\":\"question time\",\"question tine\":\"question time\",\n",
    "    \"question tome\":\"question time\",\"questions time\":\"question time\",\"qustion time\":\"question time\",\n",
    "    \"russia today\":\"rt\",\n",
    "    \"scotland2015\":\"scotland 2015\",\n",
    "    \"sky new\":\"sky news\",\"skynews\":\"sky news\",\n",
    "    \"today programme\":\"today\",\n",
    "    \"tv debates\":\"debate\",\n",
    "    \"election broadcast\":\"party political broadcasts\",\"election broadcasts\":\"party political broadcasts\",\n",
    "    \"party broadcast\":\"party political broadcasts\",\"party broadcasts\":\"party political broadcasts\",\n",
    "    \"party election broadcast\":\"party political broadcasts\",\"party election broadcasts\":\"party political broadcasts\",\n",
    "    \"political broadcast\":\"party political broadcasts\",\"political broadcasts\":\"party political broadcasts\",\n",
    "    \"political debate\":\"party political broadcasts\",\"political debates\":\"party political broadcasts\",\"ppb\":\"party political broadcasts\",\n",
    "    \"party debate\":\"party debates\",\"bbc news channel\":\"bbc news\",\n",
    "    \"10 o'clock news\":\"news at ten\",\"tv debate\":\"debate\",\"live debate\":\"debate\",\"news bbc\":\"bbc news\",\n",
    "    \"parliament\":\"bbc parliament\",\"7 leader debate\":\"7 leaders debate\",\"7 party debate\":\"7 leaders debate\",\n",
    "    \"7 way debate\":\"7 leaders debate\",\"all party debate\":\"7 leaders debate\",\"al jazera\":\"al jazeera\",\n",
    "    \"andre marr\":\"andrew marr\",\"andrew mars\":\"andrew marr\",\"b.b.c. news\":\"bbc news\",\"bbc 24 hour news\":\"bbc news 24\",\n",
    "    \"bbc 24 hr news\":\"bbc news 24\",\"bbc bews\":\"bbc news\",\"bbc newd\":\"bbc news\",\n",
    "    \"bbc parliament channel\":\"bbc parliament\",\"bbc debates\":\"bbc debate\",\"bbc election debate\":\"bbc debate\",\n",
    "    \"bbc news night\":\"newsnight\",\"bbc parliment\":\"bbc parliament\",\"bbc politics show\":\"politics show\",\n",
    "    \"bbc news 10pm\":\"bbc news at ten\",\"bbc 6pm news\":\"bbc news at 6\",\"bbc news at 6pm\":\"bbc news at 6\",\n",
    "    \"bbc qt\":\"question time\",\"bbc scottish news\":\"bbc scotland news\",\"bbc tv\":\"bbc\",\"bbc tv news\":\"bbc news\",\n",
    "    \"bbc2 newsnight\":\"newsnight\",\"bbcqt\":\"question time\",\"bc news\":\"bbc news\",\"bec news\":\"bbc news\",\"broadcasts\":\"broadcast\",\n",
    "    \"breakfast tv\":\"breakfast\",\"c4\":\"channel 4\",\"c4news\":\"channel 4 news\",\"ch 4\":\"channel 4\",\"ch4\":\"channel 4\",\n",
    "    \"corrie\":\"coronation street\",\"daily  politics\":\"daily politics\",\"daily/sunday politics\":\"daily politics\",\n",
    "    \"election specials\":\"election special\",\"france24\":\"france 24\",\"hardtalk\":\"hard talk\",\"i tv news\":\"itv news\",\n",
    "    \"htv\":\"itv\",\"i t v\":\"itv\",\"itv 1\":\"itv1\",\"itv election debate\":\"itv debate\",\"itv leader's debate\":\"itv leaders debate\",\n",
    "    \"itv leaders' debate\":\"itv leaders debate\",\"leaders interview\":\"leader interview\",\"nesnight\":\"newsnight\",\n",
    "    \"new night\":\"newsnight\",\"newd\":\"news\",\"news (bbc)\":\"bbc news\",\"news itv\":\"itv news\",\"news on bbc\":\"bbc news\",\n",
    "    \"news on itv\":\"itv news\",\"news broadcast\":\"news\",\"news broadcasts\":\"news\",\"news channels\":\"news\",\n",
    "    \"news programme\":\"news\",\"news programmes\":\"news\",\"news programs\":\"news\",\"other news\":\"news\",\"newsnght\":\"newsnight\",\n",
    "    \"opposition leaders debate\":\"opposition debate\",\"parliament live\":\"parliament\",\"party leaders debate\":\"leaders debate\",\n",
    "    \"party political\":\"party political broadcasts\",\"pm's questions\":\"pmqs\",\"politic show\":\"politics show\",\n",
    "    \"polotics show\":\"politics show\",\"prime minister questions\":\"pmqs\",\"q time\":\"question time\",\"qestion time\":\"question time\",\n",
    "    \"qt\":\"question time\",\"question time bbc\":\"question time\",\"queston time\":\"question time\",\"quetion time\":\"question time\",\n",
    "    \"scottish debate\":\"scottish leaders debate\",\"sky newa\":\"sky news\",\"sky news channel\":\"sky news\",\"televised debates\":\"debate\",\n",
    "    \"tv news\":\"news\",\"scotland debate\":\"scotland debates\",\"sky  news\":\"sky news\",\"sky1\":\"sky\",\"stv  news\":\"stv news\",\n",
    "    \"sunday polotics\":\"sunday politics\",\"sunday poltics\":\"sunday politics\",\"scottish leaders' debate\":\"scottish leaders debate\",\n",
    "    \"sunday politic\":\"sunday politics\",\"bbc sunday politics\":\"sunday politics\",\"six oclock news\":\"6 o'clock news\",\n",
    "    \"bbc ten o'clock news\":\"bbc news at ten\",\"10 o'clock news\":\"news at ten\",\"10 pm news\":\"news at ten\",\n",
    "    \"bbcnews24\":\"bbc news 24\",\"news 24\":\"bbc news 24\",\"news24\":\"bbc news 24\",\"six oclock news\":\"6 o'clock news\",\n",
    "    \"6 o'clock news bbc\":\"6 o'clock news\",\"a week in politics\":\"week in politics\",\"andrew marr sunday\":\"andrew marr\",\n",
    "    \"bbc 2\":\"bbc2\",\"bbc 24 news\":\"bbc news 24\",\"bbc daily politics\":\"daily politics\",\"bbc news 24\":\"bbc news 24\",\"bbc news at one\":\"bbc news at 1\",\n",
    "    \"bbc24\":\"bbc news 24\",\"bbs news\":\"bbc news\",\"calender\":\"calendar\",\"chanel 5\":\"channel 5\",\"channel  4 news\":\"channel 4 news\",\n",
    "    \"daily poitics\":\"daily politics\",\"daily politics bbc2\":\"daily politics\",\"free speach\":\"free speech\",\"general news\":\"news\",\n",
    "    \"itv 3\":\"itv3\",\"itv debates\":\"itv debate\",\"itv live debate\":\"itv debate\",\"leader interview\":\"leader interviews\",\n",
    "    \"live debate\":\"debate\",\"live leaders debate\":\"leaders debate\",\"news channels\":\"news\",\"news in general\":\"news\",\n",
    "    \"news reports\":\"news bulletins\",\"news sky\":\"sky news\",\"newsnight bbc2\":\"newsnight\",\"newsnoght\":\"newsnight\",\n",
    "    \"northwest tonight\":\"north west tonight\",\"party debate\":\"party debates\",\"political programmes\":\"politics\",                   \n",
    "    \"politics programme\":\"politics\",\"question\":\"question time\",\"charlie brooker's weekly wipe\":\"weekly wipe\",\n",
    "    \"daily news\":\"news\",\"4 news\":\"channel 4 news\",\"5 news\":\"channel 5 news\",\"bbc1news\":\"bbc1 news\",\"bbc new 24\":\"bbc news 24\",\n",
    "    \"bbc 2 newsnight\":\"newsnight\",\"1st debate\":\"first debate\",\"2nd debate\":\"second debate\",\"any news programme\":\"news\",\n",
    "    \"bbc regional news\":\"local bbc news\",\"news channels\":\"news\",\"bbc politics\":\"politics\",\"it news\":\"itv news\",\n",
    "    \"6 pm news\":\"6 o'clock news\",\"al jazzera\":\"al jazeera\",\"andrew  marr\":\"andrew marr\",\"andrew marr programme\":\"andrew marr\",\n",
    "    \"andrew neal\":\"andrew neil\",\"andrew neill\":\"andrew neil\",\"any other news\":\"news\",\"b b c\":\"bbc\",\"b b c news\":\"bbc news\",\n",
    "    \"bbb news\":\"bbc news\",\"bbbc news\":\"bbc news\",\"bbc 24\":\"bbc news 24\",\n",
    "                   \n",
    "                   \n",
    "                   \n",
    "                   \n",
    "                   \n",
    "}\n",
    "\n",
    "\n",
    "vc = df[match(df,\"tv\",case_sensitive=False).index].replace(replace_dict)\\\n",
    "    .replace(crap_regex,\"\",regex=True)\\\n",
    "    .applymap(lambda x: x.strip(to_strip) if pd.notnull(x) else np.nan)\\\n",
    "    .replace(replace_dict).replace(tv_replace_dict).replace(\"\",np.nan).stack().value_counts()\n",
    "print( vc.sum(),vc.head(60).sum()/vc.sum(),vc.head(300).sum()/vc.sum() )\n",
    "# vc.head(120)[-60:]\n",
    "# vc.head(300).sort_index().head(60)[-60:]\n",
    "vc.head(60)[-60:]\n",
    "vc\n",
    "\n",
    "\n",
    "\n",
    "\n",
    "\n",
    "# 1 o'clock news              5\n",
    "# 24 hour news                6\n",
    "# 2nd election debate         5\n",
    "# 2nd leaders debate          4\n",
    "# 9 o'clock news              5\n",
    "# 9 oclock news               4\n",
    "\n",
    "# it news -> prob itv rather than itn but ambiguous!\n",
    "# leaders -> ambiguous (debate/interview)\n",
    "# hh,i,"
   ]
  },
  {
   "cell_type": "code",
   "execution_count": 303,
   "metadata": {},
   "outputs": [],
   "source": [
    "vc.to_csv('../BES_analysis_data/W19_comb_strings\\\\tv.csv')"
   ]
  },
  {
   "cell_type": "code",
   "execution_count": null,
   "metadata": {},
   "outputs": [],
   "source": []
  },
  {
   "cell_type": "code",
   "execution_count": 304,
   "metadata": {},
   "outputs": [
    {
     "name": "stdout",
     "output_type": "stream",
     "text": [
      "37931 0.8033007302733911 0.8675226068387335\n"
     ]
    },
    {
     "data": {
      "text/plain": [
       "5 live daily                  15\n",
       "real                          14\n",
       "scottish news                 14\n",
       "politics                      14\n",
       "chris evans                   14\n",
       "stephen nolan                 14\n",
       "this morning                  14\n",
       "radio wales news              13\n",
       "file on four                  13\n",
       "gold                          13\n",
       "radio 4 am                    13\n",
       "metro                         13\n",
       "radio devon                   13\n",
       "politics today                13\n",
       "good morning                  12\n",
       "radio wm                      12\n",
       "radio sheffield               12\n",
       "radio kent                    12\n",
       "morning call                  12\n",
       "scotland today                12\n",
       "daily politics                12\n",
       "radio 4 morning news          12\n",
       "6 music news                  11\n",
       "taro'r post                   11\n",
       "wave                          11\n",
       "radio newcastle               11\n",
       "morning news                  11\n",
       "radio humberside              11\n",
       "nicky campbell                11\n",
       "bbc radio london              10\n",
       "tay fm                        10\n",
       "sky                           10\n",
       "fm                            10\n",
       "archers                       10\n",
       "radio norfolk                 10\n",
       "xfm                           10\n",
       "week in politics              10\n",
       "start the week                10\n",
       "john humphries                10\n",
       "bbc newcastle                 10\n",
       "music                         10\n",
       "midnight news                 10\n",
       "radio bristol                  9\n",
       "5 o'clock news                 9\n",
       "parliament today               9\n",
       "from our own correspondent     9\n",
       "tonight                        9\n",
       "radio 4 world at one           9\n",
       "clyde                          9\n",
       "radio 2 news bulletins         9\n",
       "radio city                     9\n",
       "post cyntaf                    9\n",
       "crossfire                      9\n",
       "bbc radio kent                 9\n",
       "world today                    9\n",
       "heat                           9\n",
       "radio 5 live breakfast         9\n",
       "viking                         8\n",
       "scotland                       8\n",
       "mfr                            8\n",
       "dtype: int64"
      ]
     },
     "execution_count": 304,
     "metadata": {},
     "output_type": "execute_result"
    }
   ],
   "source": [
    "radio_replace_dict = {\"radio 5 live\":\"5 live\",\"today programme\":\"today\",\"bbc radio 4\":\"radio 4\",\"bbc radio 2\":\"radio 2\",\n",
    "    \"five live\":\"5 live\",\"radio4\":\"radio 4\",\"radio2\":\"radio 2\",\"bbc2\":\"radio 2\",\"radio2\":\"radio 2\",\"bbc4\":\"radio 4\",\n",
    "    \"5live\":\"5 live\",\"bbc 2\":\"radio 2\",\"bbc 4\":\"radio 4\",\"bbc1\":\"radio 1\",\"bbc radio 1\":\"radio 1\",\"bbc 5 live\":\"5 live\",\n",
    "    \"bbc radio\":\"bbc\",\"bbc world service\":\"world service\",\"today program\":\"today\",\"radio news\":\"news\",\"radio1\":\"radio 1\",\n",
    "    \"r4\":\"radio 4\",\"radio 4 today\":\"today\",\"today radio 4\":\"today\",\"today on radio 4\":\"today\",\"r4 today\":\"today\",\"today r4\":\"today\",\n",
    "    \"world at 1\":\"world at one\",\"bbc radio 2 news\":\"radio 2 news\",\"bbc radio 4 news\":\"radio 4 news\",\"radio five live\":\"5 live\",\n",
    "    \"bbc five live\":\"5 live\",\"radio one\":\"radio 1\",\"radio 4 today programme\":\"today\",\"radio four\":\"radio 4\",\"bbc today\":\"today\",\n",
    "    \"bbc radio 5 live\":\"5 live\",\"bbc today\":\"today\",\"r4 news\":\"radio 4 news\",\"today show\":\"today\",\"bbc radio 5\":\"radio 5\",\n",
    "    \"pienaars politics\":\"pienaar's politics\",\"five live drive\":\"5 live drive\",\"radio two\":\"radio 2\",\"radio5\":\"radio 5\",\n",
    "    \"6 o'clock news\":\"six o'clock news\",\"bbc 1\":\"radio 1\",\"r2\":\"radio 2\",\"radio five\":\"radio 5\",\"today (radio 4)\":\"today\",\n",
    "    \"today prog\":\"today\",\"bbc r2\":\"radio 2\",\"bbc r4\":\"radio 4\",\"r4 today programme\":\"today\",\"6pm news\":\"six o'clock news\",\n",
    "    \"today, radio 4\":\"today\",\"bbc radio2\":\"radio 2\",\"radio 5live\":\"5 live\",\"today (r4)\":\"today\",\"today - radio 4\":\"today\",\n",
    "    \"bbc r4 today\":\"today\",\"radio3\":\"radio 3\",\"today programme radio 4\":\"today\",\"today on r4\":\"today\",\"bbc2 news\":\"radio 2 news\",\n",
    "    \"bbc radio two\":\"radio 2\",\"bbc 5\":\"radio 5\",\"new\":\"news\",\"news radio 4\":\"radio 4 news\",\"fivelive\":\"5 live\",\n",
    "    \"bbc 2 news\":\"radio 2 news\",\"radio4 news\":\"radio 4 news\",\"bbc 5live\":\"5 live\",\"radio4 today\":\"today\",\n",
    "    \"today on radio4\":\"today\",\"radio5 live\":\"5 live\",\"bbc radio four\":\"radio 4\",\"bbc radio 1 news\":\"radio 1 news\",\n",
    "    \"radio four news\":\"radio 4 news\",\"today radio4\":\"today\",\"pienars politics\":\"pienaar's politics\",\n",
    "    \"pinaars politics\":\"pienaar's politics\",\"r5 live\":\"5 live\",\"radio2 news\":\"radio 2 news\",\"bbc4 news\":\"radio 4 news\",\n",
    "    \"bbc4 today\":\"today\",\"bbc5\":\"radio 5\",\"bbc radio 3\":\"radio 3\",\"bbc r4 news\":\"radio 4 news\",\"local\":\"local radio\",\n",
    "    \"bbc scotland\":\"radio scotland\",\"radio scotland news\":\"radio scotland\",\"bbc local radio\":\"local radio\",\n",
    "    \"local radio news\":\"local news\",\"radio 4 pm\":\"pm\",\"jeremy vine show\":\"jeremy vine\",\"jeremy vine radio 2\":\"jeremy vine\",\n",
    "    \"bbc radio news\":\"bbc news\",\"pm radio 4\":\"pm\",\"talk sport\":\"talksport\",\"bbc wales\":\"radio wales\",\n",
    "    \"five live breakfast\":\"5 live breakfast\",\"pm on radio 4\":\"pm\",\"drive\":\"5 live drive\",\n",
    "    \"heart fm\":\"heart\",\"capital fm\":\"capital\",\"p.m\":\"pm\",\"women's hour\":\"woman's hour\",\n",
    "    \"5live breakfast\":\"5 live breakfast\",\"radio 2 jeremy vine\":\"jeremy vine\",\"bbc radio 4 today\":\"today\",\n",
    "    \"pm programme\":\"pm\",\"radio 1 newsbeat\":\"newsbeat\",\"r4 pm\":\"pm\",\"lbc nick ferrari\":\"nick ferrari\",\n",
    "    \"womens hour\":\"woman's hour\",\"pm r4\":\"pm\",\"news on radio 4\":\"radio 4 news\",\"five live news\":\"5 live news\",\n",
    "    \"smooth radio\":\"smooth\",\"absolute radio\":\"absolute\",\"bbc radio wales\":\"radio wales\",\"local bbc\":\"local radio\",\"bbc local\":\"local radio\",\n",
    "    \"bbc 4 news\":\"radio 4 news\",\"womans hour\":\"woman's hour\",\"bbc3\":\"radio 3\",\"vine\":\"jeremy vine\",\"bbc radio one\":\"radio 1\",\n",
    "    \"bbc radio4\":\"radio 4\",\"r5\":\"radio 5\",\"nick ferrari lbc\":\"nick ferrari\",\"local bbc radio\":\"local radio\",\n",
    "    \"5live drive\":\"5 live drive\",\"bbc pm\":\"pm\",\"bbc newsbeat\":\"newsbeat\",\"classic\":\"classic fm\",\"local station\":\"local radio\",\n",
    "    \"jeremy vine r2\":\"jeremy vine\",\"lbc radio\":\"lbc\",\"lbc 97.3\":\"lbc\",\"questiontime\":\"question time\",\"bbc r4 pm\":\"pm\",\n",
    "    \"local radio station\":\"local radio\",\"j vine\":\"jeremy vine\",\"bbc local news\":\"local news\",\n",
    "    \"jeremy vine on radio 2\":\"jeremy vine\",\"pm - radio 4\":\"pm\",\"r1\":\"radio 1\",\"radio 4 any questions\":\"any questions\",\n",
    "    \"pm (radio 4)\":\"pm\",\"5live news\":\"5 live news\",\"bbc radio 4 pm\":\"pm\",\"jermey vine\":\"jeremy vine\",\n",
    "    \"r4 world at one\":\"world at one\",\"bbc radio solent\":\"radio solent\",\"news on radio 2\":\"radio 2 news\",\n",
    "    \"local bbc news\":\"local news\",\"bbc radio 2 jeremy vine\":\"jeremy vine\",\"bbc radio 4 today programme\":\"today\",\n",
    "    \"ian dale\":\"lbc iain dale\",\"classical fm\":\"classic fm\",\"bbc world service news\":\"world service news\",\n",
    "    \"pm at 5pm\":\"pm\",\"nick ferrari on lbc\":\"nick ferrari\",\"pinnars politics\":\"pienaar's politics\",\"p m\":\"pm\",\n",
    "    \"news broadcasts\":\"news bulletins\",\"pinaar's politics\":\"pienaar's politics\",\"bbc radio4 news\":\"radio 4 news\",\n",
    "    \"r3\":\"radio 3\",\"bbc 3\":\"radio 3\",\"capital radio\":\"capital\",\"piennars politics\":\"pienaar's politics\",\n",
    "    \"bbc radio1\":\"radio 1\",\"bbc one\":\"radio 1\",\"news bbc\":\"bbc news\",\"bbc radio 5 news\":\"radio 5 news\",\n",
    "    \"radio  4 in general\":\"radio 4\",\"radio 4 programmes\":\"radio 4\",\"radio 4 generally\":\"radio 4\",\n",
    "    \"jeremey vine\":\"jeremy vine\",\"bbc radio 1 newsbeat\":\"newsbeat\",\"r2 news\":\"radio 2 news\",\"pm (r4)\":\"pm\",\n",
    "    \"news radio 2\":\"radio 2 news\",\"jeremy vine bbc radio 2\":\"jeremy vine\",\"pienar's politics\":\"pienaar's politics\",\n",
    "    \"smooth fm\":\"smooth\",\"james o'brien lbc\":\"james o'brien\",\"iain dale lbc\":\"lbc iain dale\",\"bbc radio five live\":\"5 live\",\n",
    "    \"today programme r4\":\"today\",\"today programe\":\"today\",\"pinar's politics\":\"pienaar's politics\",\n",
    "    \"pienar's politics\":\"pienaar's politics\",\"any question\":\"any questions\",\"pm, radio 4\":\"pm\",\n",
    "    \"radio5live\":\"radio 5 live\",\"jeremy vine (radio 2)\":\"jeremy vine\",\"radio 4 today program\":\"today\",\n",
    "    \"radio 4 today prog\":\"today\",\"local bbc station\":\"local radio\",\"deadringers\":\"dead ringers\",\"radio two news\":\"radio 2 news\",\n",
    "    \"radio 5 live\":\"5 live\",\"kiss fm\":\"kiss\",\"news reports\":\"news bulletins\",\"bbc news bulletins\":\"news bulletins\",\n",
    "    \"radio one news\":\"radio 1 news\",\"qt\":\"question time\",\"jeramy vine\":\"jeremy vine\",\"radio 2 jeremy vine show\":\"jeremy vine\",\n",
    "    \"bb2\":\"radio 2\",\"ian dale lbc\":\"lbc iain dale\",\"6 o clock news\":\"six o'clock news\",\"6 oclock news\":\"six o'clock news\",\n",
    "    \"6 pm news\":\"six o'clock news\",\"bbc radio scotland\":\"radio scotland\",\"bbc scotland news\":\"radio scotland news\",\n",
    "    \"bbc radio scotland news\":\"radio scotland news\",\"chris evans breakfast show\":\"chris evans\",\"clyde1\":\"clyde 1\",\n",
    "    \"debates\":\"debate\",\"drivetime\":\"drive time\",\"file on 4\":\"file on four\",\"forth 1\":\"forth one\",\"heart fm news\":\"heart news\",\n",
    "    \"heart radio\":\"heart\",\"jeremyvine\":\"jeremy vine\",\"money box\":\"moneybox\",\"money programme\":\"moneybox\",\n",
    "    \"news bulletin\":\"news bulletins\",\"news programmes\":\"news bulletins\",\"other news\":\"news\",\"pm at 5 pm\":\"pm\",\n",
    "    \"pmq\":\"pmqs\",\"pmq's\":\"pmqs\",\"breakfast 5 live\":\"5 live breakfast\",\"five live daily\":\"5 live daily\",\n",
    "    \"general news\":\"news\",\"iain dale (lbc)\":\"lbc iain dale\",\"john humphreys\":\"john humphries\",\"newa\":\"news\",\n",
    "    \"news bullitins\":\"news bulletins\",\"6music news\":\"6 music news\",\"nick ferrari (lbc)\":\"nick ferrari\",\n",
    "    \"question time extra\":\"question time extra time\",\"radio 4 in general\":\"radio 4\",\"radio 4 news bulletins\":\"radio 4 news\",\n",
    "    \"radio 4 news at 6\":\"radio 4 6pm news\",\"radio 4 6 o'clock news\":\"radio 4 6pm news\",\"radio 4 six o'clock news\":\"radio 4 6pm news\",\n",
    "    \"real radio\":\"real\",\"six o clock news\":\"six o'clock news\",\"tfm\":\"tay fm\",\"today at westminster\":\"today in westminster\",\n",
    "    \"today in parliment\":\"today in parliament\",\"various radio 4\":\"radio 4\",\"week at westminster\":\"week in westminster\",\n",
    "    \"westminister hour\":\"westminster hour\",\"westminster today\":\"today in westminster\",\"world at one r4\":\"world at one\",\n",
    "    \"today bbc 4\":\"today\",\"today r 4\":\"today\",\"you & yours\":\"you and yours\",\n",
    "    \"news at 1\":\"news at one\",\"one o'clock news\":\"news at one\",\"1 o'clock news\":\"news at one\",\"1pm news\":\"news at one\",\n",
    "    \"news at 6\":\"six o'clock news\",\"news at six\":\"six o'clock news\",\"ten o'clock news\":\"news at 10\",\"news at ten\":\"news at 10\",\n",
    "    \"10pm news\":\"news at 10\",\"10 o'clock news\":\"news at 10\",\"bbc world news\":\"world news\",\n",
    "                      \n",
    "}\n",
    "\n",
    "\n",
    "\n",
    "\n",
    "\n",
    "vc = df[match(df,\"radio\",case_sensitive=False).index].replace(replace_dict)\\\n",
    "    .replace(crap_regex,\"\",regex=True)\\\n",
    "    .applymap(lambda x: x.strip(to_strip) if pd.notnull(x) else np.nan)\\\n",
    "    .replace(replace_dict).replace(radio_replace_dict).replace(\"\",np.nan).stack().value_counts()\n",
    "print( vc.sum(),vc.head(60).sum()/vc.sum(),vc.head(300).sum()/vc.sum() )\n",
    "# vc.head(300).sort_index().head(300)[-60:]\n",
    "vc.head(170)[-60:]\n",
    "\n",
    "\n",
    "# radio 1-5 (news)\n",
    "# bbc (news|london)\n",
    "# local (radio|news)\n",
    "# classic fm (news)|heart (news)\n",
    "# news|news bulletins\n",
    "# pm|lbc|today|jeremy vine|news quiz|world service|capital|smooth|talksport|pienaar's politics|newsbeat\n",
    "\n",
    "# 5 live (drive|breakfast|news)\n",
    "# world at one|any questions|any answers|question time|westminster hour|today in parliament|week in westminster\n",
    "# radio (scotland|wales)\n",
    "# good morning (scotland|wales)|world tonight|broadcasting house|woman's hour|magic|kiss|wato|gms\n",
    "\n",
    "\n",
    "# radio 4 morning/breakfast/morning news???\n",
    "            \n",
    "# 5 o'clock news               9\n",
    "# 6 o'clock news radio 4       5\n",
    "#                   4\n",
    "\n",
    "# am, fm -> useful??\n",
    "# free radio,hourly news,world news,national news\n",
    "# radio clyde\n"
   ]
  },
  {
   "cell_type": "code",
   "execution_count": 305,
   "metadata": {},
   "outputs": [],
   "source": [
    "vc.to_csv('../BES_analysis_data/W19_comb_strings\\\\radio.csv')"
   ]
  },
  {
   "cell_type": "code",
   "execution_count": 281,
   "metadata": {},
   "outputs": [
    {
     "name": "stdout",
     "output_type": "stream",
     "text": [
      "55382 0.9561951536600339 0.9760391462930194\n"
     ]
    },
    {
     "data": {
      "text/plain": [
       "sunday                     5\n",
       "sky                        5\n",
       "argus                      5\n",
       "google news                5\n",
       "socialist                  5\n",
       "lancashire evening post    5\n",
       "sunday independent         5\n",
       "york press                 5\n",
       "daily sport                5\n",
       "oxford mail                5\n",
       "ipswich star               5\n",
       "independent/i              5\n",
       "buzzfeed                   5\n",
       "independent online         4\n",
       "daily echo                 4\n",
       "today                      4\n",
       "bournemouth echo           4\n",
       "worcester news             4\n",
       "post                       4\n",
       "lichfield mercury          4\n",
       "southern reporter          4\n",
       "evening gazette            4\n",
       "herald express             4\n",
       "bolton news                4\n",
       "fife free press            4\n",
       "ross-shire journal         4\n",
       "evening telegraph          4\n",
       "dandy                      4\n",
       "local echo                 4\n",
       "falkirk herald             4\n",
       "scottish express           4\n",
       "golwg                      4\n",
       "times on saturday          4\n",
       "cornishman                 3\n",
       "el pais                    3\n",
       "saturday mirror            3\n",
       "bbc news online            3\n",
       "swindon advertiser         3\n",
       "peterborough telegraph     3\n",
       "big issue                  3\n",
       "democracy                  3\n",
       "western telegraph          3\n",
       "mostly blogs               3\n",
       "politics                   3\n",
       "derbyshire times           3\n",
       "beano                      3\n",
       "coventry telegraph         3\n",
       "dunfermline press          3\n",
       "infowars                   3\n",
       "times online               3\n",
       "southern evening echo      3\n",
       "gloucester citizen         3\n",
       "edinburgh news             3\n",
       "surrey advertiser          3\n",
       "portsmouth news            3\n",
       "scots independent          3\n",
       "ok                         3\n",
       "y cymro                    3\n",
       "northern times             3\n",
       "star on sunday             3\n",
       "dtype: int64"
      ]
     },
     "execution_count": 281,
     "metadata": {},
     "output_type": "execute_result"
    }
   ],
   "source": [
    "paper_replace_dict = {\"mail\":\"daily mail\",\"daily telegraph\":\"telegraph\",\"daily mirror\":\"mirror\",\"daily express\":\"express\",\n",
    "    \"independant\":\"independent\",\"financial times\":\"ft\",\"sunday mail\":\"mail on sunday\",\"standard\":\"evening standard\",\n",
    "    \"local newspaper\":\"local paper\",\"record\":\"daily record\",\"daily star\":\"star\",\"gaurdian\":\"guardian\",\"dailymail\":\"daily mail\",\n",
    "    \"press & journal\":\"press and journal\",\"i paper\":\"i\",\"d telegraph\":\"telegraph\",\"dail mail\":\"daily mail\",\n",
    "    \"gardian\":\"guardian\",\"mirrow\":\"mirror\",\"gurdian\":\"guardian\",\"telegragh\":\"telegraph\",\"mos\":\"mail on sunday\",\n",
    "    \"indipendent\":\"independent\",\"ipaper\":\"i\",\"daly mail\":\"daily mail\",\"huffpost\":\"huffington post\",\n",
    "    \"huffington\":\"huffington post\",\"local press\":\"local paper\",\"p&j\":\"press and journal\",\"i newspaper\":\"i\",\n",
    "    \"mail on line\":\"mail online\",\"d mail\":\"daily mail\",\"huff post\":\"huffington post\",\"indy\":\"independent\",\n",
    "    \"saturday mail\":\"mail on saturday\",\"grauniad\":\"guardian\",\"daily  mail\":\"daily mail\",\"guradian\":\"guardian\",\n",
    "    \"dt\":\"telegraph\",\"telegrapgh\":\"telegraph\",\"london standard\":\"evening standard\",\"torygraph\":\"telegraph\",\n",
    "    \"indie\":\"independent\",\"dailymirror\":\"mirror\",\"mailonline\":\"mail online\",\"guadian\":\"guardian\",\"local news\":\"local paper\",\n",
    "    \"thesun\":\"sun\",\"local daily\":\"local paper\",\"es\":\"evening standard\",\"guardain\":\"guardian\",\n",
    "    \"local papers\":\"local paper\",\"indpendent\":\"independent\",\"sunday sun\":\"sun on sunday\",\"men\":\"manchester evening news\",\n",
    "    \"s times\":\"sunday times\",\"bbc website\":\"bbc online\",\"express & star\":\"express and star\",\"local newspapers\":\"local paper\",\n",
    "    \"indi\":\"independent\",\"guardian weekly\":\"guardian\",\"bbc news online\":\"bbc online\",\"exspress\":\"express\",\"sun times\":\"sunday times\",\n",
    "    \"daily  mirror\":\"mirror\",\"local news paper\":\"local paper\",\"daily maik\":\"daily mail\",\"telagraph\":\"telegraph\",\n",
    "    \"d.mail\":\"daily mail\",\"local weekly paper\":\"local paper\",\"d. telegraph\":\"telegraph\",\"dm\":\"daily mail\",\n",
    "    \"indepedent\":\"independent\",\"telegrah\":\"telegraph\",\"local rag\":\"local paper\",\"d mirror\":\"mirror\",\"indipendant\":\"independent\",\n",
    "    \"huffington post uk\":\"huffington post\",\"daily mirrow\":\"mirror\",\"mirroe\":\"mirror\",\"daily telegrapgh\":\"telegraph\",\n",
    "    \"indepentant\":\"independent\",\"daily mail online\":\"mail online\",\"telegrath\":\"telegraph\",\"local daily paper\":\"local paper\",\n",
    "    \"telegaph\":\"telegraph\",\"tines\":\"times\",\"observor\":\"observer\",\"huffingdon post\":\"huffington post\",\n",
    "    \"guaridan\":\"guardian\",\"dailey express\":\"express\",\"timed\":\"times\",\"the sun\":\"sun\",\"local weekly\":\"local paper\",\n",
    "    \"e standard\":\"evening standard\",\"indepenent\":\"independent\",\"independence\":\"independent\",\"dailly mail\":\"daily mail\",\n",
    "    \"guardiam\":\"guardian\",\"sundaytimes\":\"sundaytimes\",\"daily miror\":\"mirror\",\"theguardian\":\"guardian\",\"gusrdian\":\"guardian\",\n",
    "    \"daliy mail\":\"daily mail\",\"daiy mail\":\"daily mail\",\"sunday time\":\"sunday times\",\"mirrror\":\"mirror\",\"daiky mail\":\"daily mail\",\n",
    "    \"huffing ton post\":\"huffington post\",\"idependent\":\"independent\",\"guardin\":\"guardian\",\n",
    "    \"daily mail on line\":\"mail online\",\"daily morror\":\"mirror\",\"times on sunday\":\"sunday times\",\"f t\":\"ft\",\n",
    "    \"ns\":\"new statesman\",\"sum\":\"sun\",\"son\":\"sun\",\"daiy telegraph\":\"telegraph\",\"miror\":\"mirror\",\"dailytelegraph\":\"telegraph\",\n",
    "    \"p & j\":\"press and journal\",\"daily times\":\"times\",\"f.t\":\"ft\",\"mirrir\":\"mirror\",\"dail mirror\":\"mirror\",\n",
    "    \"daily fail\":\"daily mail\",\"telgraph\":\"telegraph\",\"local guardian\":\"guardian\",\"daily mai\":\"daily mail\",\n",
    "    \"regional paper\":\"local paper\",\"dailystar\":\"star\",\"bbc news website\":\"bbc news online\",\"daliy mirror\":\"mirror\",\n",
    "    \"m.e.n\":\"manchester evening news\",\"inderpendant\":\"independent\",\"p and j\":\"press and journal\",\n",
    "    \"d. mail\":\"daily mail\",\"daily telegragh\":\"telegraph\",\"inependent\":\"independent\",\"giuardian\":\"guardian\",\"morrir\":\"mirror\",\n",
    "    \"telegrpah\":\"telegraph\",\"huffpo\":\"huffington post\",\"d tel\":\"telegraph\",\"sat times\":\"saturday times\",\"i daily\":\"i\",\n",
    "    \"evening stardard\":\"evening standard\",\"daily mirrpr\":\"mirror\",\"daily rxpress\":\"express\",\"telegraphy\":\"telegraph\",\n",
    "    \"daily telrgraph\":\"telegraph\",\"daily maul\":\"daily mail\",\"local daily newspaper\":\"local paper\",\"tmes\":\"times\",\n",
    "    \"telegrap[h\":\"telegraph\",\"daily teleghraph\":\"telegraph\",\"daily  express\":\"express\",\"guardians\":\"guardian\",\n",
    "    \"evening std\":\"evening standard\",\"evening stamdard\":\"evening standard\",\"local area paper\":\"local paper\",\n",
    "    \"dailyexpress\":\"daily express\",\"telegrph\":\"telegraph\",\"mrror\":\"mirror\",\"daily mail;\":\"daily mail\",\n",
    "    \"dailt mail\":\"daily mail\",\"aun\":\"sun\",\"saturday daily mail\":\"mail on saturday\",\"thetimes\":\"times\",\"un\":\"sun\",\n",
    "    \"daily mail on sunday\":\"mail on sunday\",\"the i\":\"i\",\"indepentdent\":\"independent\",\"ii\":\"i\",\"telegrap\":\"telegraph\",\n",
    "    \"i dependant\":\"independent\",\"huffinton post\":\"huffington post\",\"guarduian\":\"guardian\",\"indepenant\":\"independent\",\n",
    "    \"dail;y mail\":\"daily mail\",\"timea\":\"times\",\"telrgraph\":\"telegraph\",\"evening  standard\":\"evening standard\",\n",
    "    \"dsily mail\":\"daily mail\",\"dail telegraph\":\"telegraph\",\"guardia\":\"guardian\",\"daily mirrior\":\"mirror\",\n",
    "    \"daily  telegraph\":\"telegraph\",\"press& journal\":\"press and journal\",\"oberver\":\"observer\",\"dailey mirror\":\"mirror\",\n",
    "    \"telegrapth\":\"telegraph\",\"localpaper\":\"local paper\",\"mirro\":\"mirror\",\"daily mial\":\"daily mail\",\"insependent\":\"independent\",\n",
    "    \"sunday mirrow\":\"sunday mirror\",\"new stateman\":\"new statesman\",\"daily express\":\"express\",\"daily t\":\"telegraph\",\n",
    "    \"telepgraph\":\"telegraph\",\"f times\":\"ft\",\"imes\":\"times\",\"aberdeen press & journal\":\"press and journal\",\n",
    "    \"aberdeen press and journal\":\"press and journal\",\"courier and advertiser\":\"courier\",\"couriet\":\"courier\",\n",
    "    \"dailt telegraph\":\"telegraph\",\"daily express\":\"express\",\"daily maily\":\"daily mail\",\"daily recored\":\"daily record\",\n",
    "    \"eastern daily press\":\"edp\",\"edp24\":\"edp\",\"eveningstandard\":\"evening standard\",\"guardian.co.uk\":\"guardian online\",\n",
    "    \"guardion\":\"guardian\",\"glasgow hearld\":\"herald\",\"glasgow herald\":\"herald\",\"hearld\":\"herald\",\"herald (glasgow)\":\"herald\",\n",
    "    \"herald/sunday herald\":\"herald\",\"herlad\":\"herald\",\"herold\":\"herald\",\"i/independent\":\"independent/i\",\n",
    "    \"leics mercury\":\"leicester mercury\",\"lep\":\"lancashire evening post\",\"mail on sunda\":\"mail on sunday\",\n",
    "    \"mail/mail on sunday\":\"daily mail\",\"mirtor\":\"mirror\",\"nation\":\"national\",\"nationa\":\"national\",\n",
    "    \"national (scotland)\":\"national\",\"ny times\":\"new york times\",\"press\":\"press and journal\",\"s telegraph\":\"telegraph\",\n",
    "    \"sat telegraph\":\"saturday telegraph\",\"s. times\":\"times\",\"scotland in sunday\":\"scotland on sunday\",\n",
    "    \"yep\":\"yorkshire evening post\",\"tlegraph\":\"telegraph\",\n",
    "    \"daily  record\":\"daily record\",\"daily mirroe\":\"mirror\",\"dmail\":\"daily mail\",\"e.d.p\":\"edp\",\n",
    "    \"eadt\":\"east anglian daily times\",\"east anglian\":\"east anglian daily times\",\"fh\":\"falkirk herald\",\n",
    "    \"fife press\":\"fife free press\",\"independent.co.uk\":\"independent online\",\"local\":\"local paper\",\n",
    "    \"local evening paper\":\"local paper\",\"local evening post\":\"local paper\",\"local free paper\":\"local paper\",\n",
    "    \"local gazette\":\"local paper\",\"local to my area\":\"local paper\",\"mai\":\"daily mail\",\"mail  on sunday\":\"mail on sunday\",\n",
    "    \"mi rror\":\"mirror\",\"msil\":\"daily mail\",\"new shopper\":\"news shopper\",\"obseerver\":\"observer\",\"sun  y\":\"sun\",\n",
    "    \"scotland on sundat\":\"scotland on sunday\",\"sundaytimes\":\"sunday times\",\"western morning ~news\":\"western morning news\",\n",
    "    \"(glasgow) herald\":\"herald\",\"bournemouth daily echo\":\"bournemouth echo\",\"daily mail/mail on sunday\":\"daily mail\",\n",
    "\n",
    "                      \n",
    "                      \n",
    "}\n",
    "vc = df[match(df,\"paper\",case_sensitive=False).index].replace(replace_dict)\\\n",
    "    .replace(crap_regex,\"\",regex=True)\\\n",
    "    .applymap(lambda x: x.strip(to_strip) if pd.notnull(x) else np.nan)\\\n",
    "    .replace(replace_dict).replace(paper_replace_dict).replace(\"\",np.nan).stack().value_counts()\n",
    "print( vc.sum(),vc.head(60).sum()/vc.sum(),vc.head(300).sum()/vc.sum() )\n",
    "# vc.head(300).sort_index().head(60)[-60:]\n",
    "vc.to_csv('../BES_analysis_data/W19_comb_strings\\\\paper.csv')\n",
    "vc.head(180)[-60:]\n",
    "# .head(300)[-60:]\n",
    "\n",
    "# ny times                    5\n",
    "# \n",
    "# mostly blogs???\n",
    "\n",
    "# guardian/the observer          2\n",
    "# broadsheets\n"
   ]
  },
  {
   "cell_type": "code",
   "execution_count": 282,
   "metadata": {
    "scrolled": false
   },
   "outputs": [
    {
     "name": "stdout",
     "output_type": "stream",
     "text": [
      "50708 0.8746943283111146 0.9254161079119666\n"
     ]
    },
    {
     "data": {
      "text/plain": [
       "virgin                     17\n",
       "spiked                     16\n",
       "vox political              16\n",
       "sunday herald              15\n",
       "emails                     15\n",
       "france 24                  15\n",
       "digital spy                14\n",
       "golwg 360                  14\n",
       "bbc scotland               14\n",
       "left foot forward          14\n",
       "common weal                14\n",
       "itn                        14\n",
       "canary                     13\n",
       "bbc iplayer                13\n",
       "euronews                   13\n",
       "mumsnet                    13\n",
       "bt yahoo                   13\n",
       "lord ashcroft              12\n",
       "capx                       12\n",
       "glasgow herald             12\n",
       "washington post            12\n",
       "full fact                  12\n",
       "orange                     11\n",
       "commentator                11\n",
       "week                       11\n",
       "daily wales                11\n",
       "zerohedge                  11\n",
       "eu referendum              10\n",
       "lbc                        10\n",
       "electionforecast.co.uk     10\n",
       "daily post                 10\n",
       "le monde                   10\n",
       "daily mash                 10\n",
       "politics                    9\n",
       "newspapers                  9\n",
       "local                       9\n",
       "local news                  9\n",
       "news now                    9\n",
       "bbc wales                   9\n",
       "manchester evening news     9\n",
       "plaid cymru                 9\n",
       "bing news                   9\n",
       "4chan                       8\n",
       "political scrapbook         8\n",
       "what scotland thinks        8\n",
       "time                        8\n",
       "vote for policies           8\n",
       "politico                    8\n",
       "news republic               7\n",
       "courier                     7\n",
       "daily star                  7\n",
       "pink news                   7\n",
       "ashcroft polls              7\n",
       "edinburgh evening news      6\n",
       "democracy now               6\n",
       "various blogs               6\n",
       "dunno                       6\n",
       "bnp                         6\n",
       "david icke                  6\n",
       "they work for you           6\n",
       "dtype: int64"
      ]
     },
     "execution_count": 282,
     "metadata": {},
     "output_type": "execute_result"
    }
   ],
   "source": [
    "internet_replace_dict = {\"bbc.co.uk\":\"bbc\",\"mail\":\"daily mail\",\"bbc website\":\"bbc\",\"mail online\":\"daily mail\",\n",
    "    \"daily telegraph\":\"telegraph\",\"bbc news website\":\"bbc news\",\"mail on line\":\"daily mail\",\"you gov\":\"yougov\",\n",
    "    \"daily mirror\":\"mirror\",\"guardian.co.uk\":\"guardian\",\"bbc online\":\"bbc\",\"huff post\":\"huffington post\",\n",
    "    \"bbc.co.uk/news\":\"bbc news\",\"mailonline\":\"daily mail\",\"huffington\":\"huffington post\",\"daily express\":\"express\",\n",
    "    \"bbc news online\":\"bbc news\",\"telegraph.co.uk\":\"telegraph\",\"bbcnews\":\"bbc news\",\"guardian website\":\"guardian\",\n",
    "    \"bbc news app\":\"bbc news\",\"dailymail\":\"daily mail\",\"huffpost\":\"huffington post\",\"huffing ton post\":\"huffington post\",\n",
    "    \"financial times\":\"ft\",\"daily mail online\":\"daily mail\",\"telegraph online\":\"telegraph\",\"www.bbc.co.uk\":\"bbc\",\n",
    "    \"guardian.com\":\"guardian\",\"labourlist\":\"labour list\",\"gaurdian\":\"guardian\",\"ft.com\":\"ft\",\n",
    "    \"dailymail.co.uk\":\"daily mail\",\"news.bbc.co.uk\":\"bbc news\",\"bbc.com\":\"bbc\",\"theguardian.com\":\"guardian\",\n",
    "    \"russia today\":\"rt\",\"face book\":\"facebook\",\"rt.com\":\"rt\",\"politicalbetting.com\":\"politicalbetting\",\n",
    "    \"bellacaledonia\":\"bella caledonia\",\"independent.co.uk\":\"independent\",\"may2015.com\":\"may2015\",\n",
    "    \"independent online\":\"independent\",\"sky.com\":\"sky\",\"you tube\":\"youtube\",\"bbc news site\":\"bbc news\",\n",
    "    \"bec news\":\"bbc news\",\"telegraph website\":\"telegraph\",\"bbcnews.co.uk\":\"bbc news\",\"independent website\":\"independent\",\n",
    "    \"huffington post uk\":\"huffington post\",\"daily mail on line\":\"daily mail\",\"daily mail website\":\"daily mail\",\n",
    "    \"local newspaper\":\"local paper\",\"bbc/news\":\"bbc news\",\"msm\":\"msn\",\"www.dailymail.co.uk\":\"daily mail\",\"msn.com\":\"msn\",\n",
    "    \"thetimes.co.uk\":\"times\",\"www.telegraph.co.uk\":\"telegraph\",\"bbc new\":\"bbc news\",\"timesonline\":\"times\",\n",
    "    \"huffingdon post\":\"huffington post\",\"sky news app\":\"sky news\",\"huffinton post\":\"huffington post\",\n",
    "    \"mirror.co.uk\":\"mirror\",\"coffee house\":\"spectator coffee house\",\"www.guardian.co.uk\":\"guardian\",\"bbc app\":\"bbc\",\n",
    "    \"guardian news\":\"guardian\",\"newstatesman\":\"new statesman\",\"gardian\":\"guardian\",\"theguardian.co.uk\":\"guardian\",\n",
    "    \"goggle\":\"google\",\"itv.com\":\"itv\",\"facebook links\":\"facebook\",\"telegraph on line\":\"telegraph\",\n",
    "    \"bella caladonia\":\"bella caledonia\",\"bbc homepage\":\"bbc\",\"dailymail.com\":\"daily mail\",\"huff\":\"huffington post\",\n",
    "    \"dt\":\"telegraph\",\"mirror on line\":\"mirror\",\"indy\":\"independent\",\"ft online\":\"ft\",\"newstatesman.com\":\"new statesman\",\n",
    "    \"guardian on line\":\"guardian\",\"mirror online\":\"mirror\",\"times on line\":\"times\",\"utube\":\"youtube\",\n",
    "    \"daly mail\":\"daily mail\",\"u gov\":\"yougov\",\"bbc web page\":\"bbc\",\"huffingtonpost.co.uk\":\"huffington post\",\n",
    "    \"guardian app\":\"guardian\",\"times website\":\"times\",\"indipendant\":\"independent\",\"bbc.co,uk\":\"bbc\",\n",
    "    \"express.co.uk\":\"express\",\"bbc news on line\":\"bbc news\",\"sun.co.uk\":\"sun\",\"bbc bews\":\"bbc news\",\"telegrapth\":\"telegraph\",\n",
    "    \"gurdian\":\"guardian\",\"bbcnews.com\":\"bbc news\",\"bbc news channel\":\"bbc news\",\"guadian\":\"guardian\",\n",
    "    \"bbc home\":\"bbc\",\"aljazeera\":\"al jazeera\",\"bbc 1\":\"bbc1\",\"bbc news.co.uk\":\"bbc news\",\"bbc on line\":\"bbc\",\n",
    "    \"bbc web site\":\"bbc\",\"bt home page\":\"bt\",\"bt internet\":\"bt\",\"bt.com\":\"bt\",\"buzz feed\":\"buzzfeed\",\"commonspace\":\"common space\",\n",
    "    \"conhome\":\"conservative home\",\"conservative\":\"conservative home\",\"conservativehome\":\"conservative home\",\n",
    "    \"conservativehome.com\":\"conservative home\",\"dail mail\":\"daily mail\",\"email\":\"emails\",\"fb\":\"facebook\",\n",
    "    \"googlenews\":\"google news\",\"flip board\":\"flipboard\",\"golwg360\":\"golwg 360\",\"government\":\"gov.uk\",\n",
    "    \"green\":\"green party\",\"green party website\":\"green party\",\"guardian\":\"guardian\",\"guido\":\"guido fawkes\",\n",
    "    \"guido fawkes blog\":\"guido fawkes\",\"herald online\":\"herald\",\"huffingtonpost\":\"huffington post\",\n",
    "    \"huffpo\":\"huffington post\",\"independant\":\"independent\",\"independent newspaper\":\"independent\",\n",
    "    \"liberal democrat voice\":\"lib dem voice\",\"libdemvoice\":\"lib dem voice\",\"lord ashcroft polls\":\"lord ashcroft\",\n",
    "    \"may 2015\":\"may2015\",\"moneysavingexpert\":\"money saving expert\",\"mse\":\"money saving expert\",\"msn uk\":\"msn\",\n",
    "    \"msn.co.uk\":\"msn\",\"new statesman website\":\"new statesman\",\"newsnet.scot\":\"newsnet scotland\",\n",
    "    \"newsnetscotland\":\"newsnet scotland\",\"news net scotland\":\"newsnet scotland\",\"news sites\":\"news\",\"news websites\":\"news\",\n",
    "    \"ny times\":\"new york times\",\"order-order\":\"order order\",\"order-order.com\":\"order order\",\n",
    "    \"political betting.com\":\"political betting\",\"politicalbetting\":\"political betting\",\"politics uk\":\"politics.co.uk\",\n",
    "    \"politicshome\":\"politics home\",\"scotland goes pop\":\"scot goes pop\",\"scotsman.com\":\"scotsman\",\"sk\":\"sky\",\n",
    "    \"sky new\":\"sky news\",\"sky news online\":\"sky news\",\"sky news website\":\"sky news\",\"skynews\":\"sky news\",\n",
    "    \"redbox\":\"red box\",\"reddit.com\":\"reddit\",\"skynews.co.uk\":\"sky news\",\"skynews.com\":\"sky news\",\"snp website\":\"snp\",\n",
    "    \"snp.org\":\"snp\",\"stv.tv\":\"stv\",\"sun online\":\"sun\",\"talk talk\":\"talktalk\",\"telegrah\":\"telegraph\",\"telegraph.com\":\"telegraph\",\n",
    "    \"times online\":\"times\",\"times.co.uk\":\"times\",\"twitter.com\":\"twitter\",\"uk polling\":\"uk polling report\",\n",
    "    \"ukip website\":\"ukip\",\"ukpolling report\":\"uk polling report\",\"ukpollingreport\":\"uk polling report\",\n",
    "    \"polling report\":\"uk polling report\",\"virgin media\":\"virgin\",\"virginmedia\":\"virgin\",\"wales on line\":\"wales online\",\n",
    "    \"walesonline\":\"wales online\",\"weegingerdug\":\"wee ginger dug\",\"wings\":\"wings over scotland\",\n",
    "    \"wingsoverscotland\":\"wings over scotland\",\"wingsoverscotland.com\":\"wings over scotland\",\"www.bbc.co.uk/news\":\"bbc news\",\n",
    "    \"yahoo home page\":\"yahoo\",\"yahoo.co.uk\":\"yahoo\",\"yahoo.com\":\"yahoo\",\"yougov.co.uk\":\"yougov\",\"yougov.com\":\"yougov\",\n",
    "    \"zero hedge\":\"zerohedge\",\"wos\":\"wings over scotland\",\"ukpr\":\"uk polling report\",\"38degrees\":\"38 degrees\",\n",
    "    \"aol.com\":\"aol\",\"aav\":\"another angry voice\",\"bbc  news\":\"bbc news\",\"bbc i player\":\"bbc iplayer\",\"bbc newd\":\"bbc news\",\n",
    "    \"bbc news 24\":\"bbc news\",\"bbc news web site\":\"bbc news\",\"bbc online news\":\"bbc news\",\"bbc uk\":\"bbc\",\"bbc,co.uk\":\"bbc\",\n",
    "    \"bbd news\":\"bbc news\",\"bbs news\":\"bbc news\",\"bells caledonia\":\"bella caledonia\",\"brietbart\":\"breitbart\",\n",
    "    \"bt homepage\":\"bt\",\"btyahoo\":\"bt yahoo\",\"c4\":\"channel 4\",\"channel4\":\"channel 4\",\"c4 news\":\"channel 4 news\",\n",
    "    \"conservative party website\":\"conservative party\",\"conservatives\":\"conservative party\",\"conservative website\":\"conservative party\",\n",
    "    \"digitalspy\":\"digital spy\",\"economist.com\":\"economist\",\"election forecast\":\"electionforecast.co.uk\",\n",
    "    \"electoralcalculus.co.uk\":\"electoral calculus\",\"eureferendum\":\"eu referendum\",\"facebook groups\":\"facebook\",\n",
    "    \"facebook.com\":\"facebook\",\"france24\":\"france 24\",\"gogle\":\"google\",\"google search\":\"google\",\"google.com\":\"google\",\n",
    "    \"greens\":\"green party\",\"guidofawkes\":\"guido fawkes\",\"herald website\":\"herald\",\"heraldscotland.com\":\"herald scotland\",\n",
    "    \"independant.co.uk\":\"independent\",\"itv.co.uk\":\"itv\",\"labour party website\":\"labour party\",\"labour website\":\"labour party\",\n",
    "    \"libdem voice\":\"lib dem voice\",\"mail plus\":\"daily mail\",\"mail.co.uk\":\"daily mail\",\"news feeds\":\"news\",\n",
    "    \"political  betting\":\"political betting\",\"politicalbetting\":\"political betting\",\"reuter\":\"reuters\",\"reuters.co.uk\":\"reuters\",\n",
    "    \"sky.co.uk\":\"sky\",\"telegragh\":\"telegraph\",\"telegraph app\":\"telegraph\",\"telegraph blogs\":\"telegraph\",\"thesun\":\"sun\",\n",
    "    \"thisismoney\":\"this is money\",\"uk gov\":\"gov.uk\",\"whatscotlandthinks\":\"what scotland thinks\",\"www.snp.org\":\"snp\",\n",
    "    \"spectator coffeehouse\":\"spectator coffee house\",\"www.bbcnews\":\"bbc news\",\"www.ukpollingreport.co.uk\":\"uk polling report\",\n",
    "    \"www.yougov.com\":\"yougov\",\"yarhoo\":\"yahoo\",\"you guv\":\"yougov\",\"youyube\":\"youtube\",\"guardian online\":\"guardian\",\n",
    "                         \n",
    "                         \n",
    "                         \n",
    "                         \n",
    "                         \n",
    "}\n",
    "vc = df[match(df,\"internet\",case_sensitive=False).index].replace(replace_dict)\\\n",
    "    .replace(crap_regex,\"\",regex=True)\\\n",
    "    .applymap(lambda x: x.strip(to_strip) if pd.notnull(x) else np.nan)\\\n",
    "    .replace(replace_dict).replace(internet_replace_dict).replace(\"\",np.nan).stack().value_counts()\n",
    "print( vc.sum(),vc.head(60).sum()/vc.sum(),vc.head(300).sum()/vc.sum() )\n",
    "vc.to_csv('../BES_analysis_data/W19_comb_strings\\\\internet.csv')\n",
    "# vc.head(300).sort_index().head(300)[-60:]\n",
    "vc.head(170)[-60:]\n",
    "# .head(300)[-60:]\n",
    "\n",
    "\n",
    "\n",
    "# party website                  6\n",
    "# party websites                32\n",
    "# political party websites       4\n",
    "# individual party websites       5  \n",
    "# party website                6\n",
    "# party websites              32\n",
    "# political party websites       4\n",
    "\n",
    "# daily telegraph website\n",
    "#five thirty eight             4 \n",
    "# general                         3\n",
    "# general browsing                3\n",
    "# local                        9\n",
    "# local news                   9\n",
    "# local paper                 28\n",
    "# newspapers                   9\n",
    "# various blogs\n",
    "\n",
    "# other- alternative,rather not say"
   ]
  },
  {
   "cell_type": "code",
   "execution_count": 283,
   "metadata": {},
   "outputs": [],
   "source": [
    "# df[match(df,\"tv|radio|paper|internet\",case_sensitive=False).index].replace(replace_dict)\\\n",
    "#     .replace(crap_regex,\"\",regex=True)\\\n",
    "#     .applymap(lambda x: x.strip(to_strip) if pd.notnull(x) else np.nan)\\\n",
    "#     .replace(replace_dict).stack().value_counts().head(60)[-60:]\n",
    "\n",
    "\n"
   ]
  },
  {
   "cell_type": "code",
   "execution_count": 284,
   "metadata": {},
   "outputs": [
    {
     "name": "stdout",
     "output_type": "stream",
     "text": [
      "Wall time: 2min 40s\n"
     ]
    }
   ],
   "source": [
    "%%time\n",
    "tvradiopaperinternet = pd.DataFrame()\n",
    "\n",
    "tv_cols = match(df,\"tv\",case_sensitive=False).index\n",
    "tvradiopaperinternet[tv_cols] = df[tv_cols].replace(replace_dict)\\\n",
    "    .replace(crap_regex,\"\",regex=True)\\\n",
    "    .applymap(lambda x: x.strip(to_strip) if pd.notnull(x) else np.nan)\\\n",
    "    .replace(replace_dict).replace(tv_replace_dict).replace(\"\",np.nan).astype('category')\n",
    "\n",
    "radio_cols = match(df,\"radio\",case_sensitive=False).index\n",
    "tvradiopaperinternet[radio_cols] = df[radio_cols].replace(replace_dict)\\\n",
    "    .replace(crap_regex,\"\",regex=True)\\\n",
    "    .applymap(lambda x: x.strip(to_strip) if pd.notnull(x) else np.nan)\\\n",
    "    .replace(replace_dict).replace(radio_replace_dict).replace(\"\",np.nan).astype('category')\n",
    "\n",
    "paper_cols = match(df,\"paper\",case_sensitive=False).index\n",
    "tvradiopaperinternet[paper_cols] = df[paper_cols].replace(replace_dict)\\\n",
    "    .replace(crap_regex,\"\",regex=True)\\\n",
    "    .applymap(lambda x: x.strip(to_strip) if pd.notnull(x) else np.nan)\\\n",
    "    .replace(replace_dict).replace(paper_replace_dict).replace(\"\",np.nan).astype('category')\n",
    "\n",
    "internet_cols = match(df,\"internet\",case_sensitive=False).index\n",
    "tvradiopaperinternet[internet_cols] = df[internet_cols].replace(replace_dict)\\\n",
    "    .replace(crap_regex,\"\",regex=True)\\\n",
    "    .applymap(lambda x: x.strip(to_strip) if pd.notnull(x) else np.nan)\\\n",
    "    .replace(replace_dict).replace(internet_replace_dict).replace(\"\",np.nan).astype('category')"
   ]
  },
  {
   "cell_type": "code",
   "execution_count": 29,
   "metadata": {},
   "outputs": [
    {
     "data": {
      "text/plain": [
       "bbc news                     5863\n",
       "news                         3429\n",
       "question time                2358\n",
       "newsnight                    2120\n",
       "daily politics               1052\n",
       "                             ... \n",
       "news (to track the bias)        1\n",
       "news (sky)                      1\n",
       "news (rt or al jazeera)         1\n",
       "news (itn)                      1\n",
       "(only foreign programmes)       1\n",
       "Name: tv1_1W4, Length: 1010, dtype: int64"
      ]
     },
     "execution_count": 29,
     "metadata": {},
     "output_type": "execute_result"
    }
   ],
   "source": [
    "tvradiopaperinternet[tvradiopaperinternet.columns[0]].value_counts()"
   ]
  },
  {
   "cell_type": "code",
   "execution_count": 30,
   "metadata": {},
   "outputs": [],
   "source": [
    "tvradiopaperinternet.to_pickle('../BES_analysis_data/W19_comb_strings\\\\tvradiopaperinternet.zip', compression='zip')"
   ]
  },
  {
   "cell_type": "code",
   "execution_count": null,
   "metadata": {},
   "outputs": [],
   "source": []
  },
  {
   "cell_type": "code",
   "execution_count": null,
   "metadata": {},
   "outputs": [],
   "source": []
  },
  {
   "cell_type": "code",
   "execution_count": null,
   "metadata": {},
   "outputs": [],
   "source": []
  },
  {
   "cell_type": "code",
   "execution_count": null,
   "metadata": {},
   "outputs": [],
   "source": []
  },
  {
   "cell_type": "code",
   "execution_count": 31,
   "metadata": {},
   "outputs": [],
   "source": [
    "#####\n",
    "### q1 variable section\n",
    "# Terrestrial programmes watched before yesterday/yesterday/today"
   ]
  },
  {
   "cell_type": "code",
   "execution_count": 32,
   "metadata": {},
   "outputs": [
    {
     "data": {
      "text/plain": [
       "201911172200|bbc1|bbc news|news                                                    589\n",
       "201911242200|bbc1|bbc news|news                                                    572\n",
       "201911192000|itv1|johnson v corbyn: the itv debate|documentary: current affairs    567\n",
       "201912012200|bbc1|bbc news|news                                                    555\n",
       "201911221900|bbc1|question time leaders special|current affairs: politics          552\n",
       "                                                                                  ... \n",
       "201911181330                                                                         1\n",
       "201911292200|bbc1|bbc n                                                              1\n",
       "201911272245|itv1|peston|current affairs: p                                          1\n",
       "201912061830|bbc1|regional news                                                      1\n",
       "201911201825|itv1|party election broadcast by the brexit party                       1\n",
       "Length: 3384, dtype: int64"
      ]
     },
     "execution_count": 32,
     "metadata": {},
     "output_type": "execute_result"
    }
   ],
   "source": [
    "ser = pd.Series( flatten( df[match(df,\"q1\",case_sensitive=False).index].replace(\"__na__\",np.nan)\\\n",
    "           .applymap(lambda x: x.split(\"~\") if pd.notnull(x) else np.nan).stack().values ) )\n",
    "ser.value_counts()\n",
    "\n",
    "#.value_counts().head(60)[-60:]"
   ]
  },
  {
   "cell_type": "code",
   "execution_count": 33,
   "metadata": {},
   "outputs": [
    {
     "data": {
      "text/plain": [
       "201911171830|channel 4|channel 4 news|news                                                                                                                    52\n",
       "201912071720|bbc1|regional news and weather|news                                                                                                              52\n",
       "201911231800|itv1|itv evening news|news~201911231815|itv1|regional news and weather|news                                                                      51\n",
       "201912090600|bbc1|breakfast|daytime                                                                                                                           51\n",
       "201911261800|bbc1|bbc news at six|news~201911261830|bbc1|regional news and weather|news                                                                       50\n",
       "201911242230|itv1|itv news|news                                                                                                                               50\n",
       "201912091300|bbc1|bbc news at one|daytime                                                                                                                     50\n",
       "201912011710|bbc1|regional news and weather|news~201912012200|bbc1|bbc news|news~201912012220|bbc1|regional news and weather|news                             49\n",
       "201911271930|bbc1|the andrew neil interviews|current affairs: politics                                                                                        48\n",
       "201912052245|bbc1|question time|current affairs: politics                                                                                                     48\n",
       "201911301730|itv1|itv evening news|news                                                                                                                       48\n",
       "201911161725|bbc1|regional news and weather|news                                                                                                              48\n",
       "201911241825|channel 4|channel 4 news|news                                                                                                                    46\n",
       "201911301725|bbc1|regional news and weather|news                                                                                                              46\n",
       "201912071840|itv1|itv evening news|news~201912071850|itv1|regional news and weather|news                                                                      46\n",
       "201911231825|channel 4|channel 4 news|news                                                                                                                    45\n",
       "201912011730|channel 4|channel 4 news|news                                                                                                                    45\n",
       "201911161800|itv1|itv evening news|news~201911161810|itv1|regional news and weather|news                                                                      44\n",
       "201912071840|itv1|itv evening news|news                                                                                                                       44\n",
       "201912021900|channel 4|channel 4 news|news                                                                                                                    44\n",
       "201912082235|itv1|itv news|news                                                                                                                               43\n",
       "201912051900|bbc1|the andrew neil interviews|current affairs: politics                                                                                        43\n",
       "201911121800|bbc1|bbc news|news                                                                                                                               43\n",
       "201911191800|bbc1|bbc news|news~201911191830|bbc1|regional news and weather|news                                                                              43\n",
       "201912101800|bbc1|bbc news at six|news~201912101830|bbc1|regional news and weather|news                                                                       42\n",
       "201911251800|bbc1|bbc news|news~201911251830|bbc1|regional news and weather|news                                                                              41\n",
       "201912081805|channel 4|channel 4 news|news                                                                                                                    41\n",
       "201911301715|bbc1|bbc news|news~201911301725|bbc1|regional news and weather|news~201911302200|bbc1|bbc news|news                                              41\n",
       "201911251900|channel 4|channel 4 news|news                                                                                                                    41\n",
       "201912041900|channel 4|channel 4 news|news                                                                                                                    40\n",
       "201911141300|bbc1|bbc news at one|daytime                                                                                                                     40\n",
       "201911291800|itv1|regional news and weather|news~201911291830|itv1|itv evening news|news                                                                      40\n",
       "201911241705|bbc1|regional news and weather|news~201911242200|bbc1|bbc news|news                                                                              39\n",
       "201911181300|bbc1|bbc news at one|daytime                                                                                                                     38\n",
       "201911241835|itv1|itv evening news|news~201911241850|itv1|regional news and weather|news                                                                      38\n",
       "201911301730|itv1|itv evening news|news~201911301745|itv1|regional news and weather|news                                                                      38\n",
       "201911171915|itv1|itv evening news|news~201911171925|itv1|regional news and weather|news                                                                      38\n",
       "201911120600|bbc1|breakfast|daytime                                                                                                                           38\n",
       "201911211900|channel 4|channel 4 news|news                                                                                                                    38\n",
       "201911261900|channel 4|channel 4 news|news                                                                                                                    38\n",
       "201911251800|itv1|regional news and weather|news~201911251830|itv1|itv evening news|news                                                                      37\n",
       "201912061800|bbc1|bbc news|news~201912061830|bbc1|regional news and weather|news                                                                              37\n",
       "201912031900|channel 4|channel 4 news|news                                                                                                                    37\n",
       "201911282245|bbc1|question time|current affairs: politics                                                                                                     37\n",
       "201911271300|bbc1|bbc news at one|daytime                                                                                                                     37\n",
       "201912032200|bbc1|bbc news at ten|news~201912032230|bbc1|regional news and weather|news                                                                       37\n",
       "201911142245|bbc1|question time|current affairs: politics                                                                                                     37\n",
       "201911252200|bbc1|bbc news at ten|news~201911252230|bbc1|regional news and weather|news                                                                       37\n",
       "201911251300|bbc1|bbc news at one|daytime                                                                                                                     36\n",
       "201912081710|bbc1|regional news and weather|news~201912082230|bbc1|bbc news|news                                                                              36\n",
       "201912050600|itv1|good morning britain|daytime                                                                                                                36\n",
       "201912040600|itv1|good morning britain|daytime                                                                                                                36\n",
       "201912091900|channel 4|channel 4 news|news                                                                                                                    35\n",
       "201911181900|channel 4|channel 4 news|news                                                                                                                    35\n",
       "201912071710|bbc1|bbc news|news~201912071720|bbc1|regional news and weather|news~201912072210|bbc1|bbc news|news                                              35\n",
       "201911150600|itv1|good morning britain|daytime                                                                                                                35\n",
       "201911200600|itv1|good morning britain|daytime                                                                                                                35\n",
       "201911140600|itv1|good morning britain|daytime                                                                                                                35\n",
       "201911192000|itv1|johnson v corbyn: the itv debate|documentary: current affairs~201911192200|itv1|the itv election interviews|documentary: current affairs    35\n",
       "201911181800|itv1|regional news and weather|news~201911181830|itv1|itv evening news|news                                                                      35\n",
       "dtype: int64"
      ]
     },
     "execution_count": 33,
     "metadata": {},
     "output_type": "execute_result"
    }
   ],
   "source": [
    "df[match(df,\"q1\",case_sensitive=False).index].replace(\"__na__\",np.nan).stack().value_counts().head(180)[-60:]"
   ]
  },
  {
   "cell_type": "code",
   "execution_count": 34,
   "metadata": {},
   "outputs": [
    {
     "data": {
      "text/plain": [
       "0    528982\n",
       "1     25428\n",
       "2     13861\n",
       "3      6398\n",
       "4      3367\n",
       "5      2155\n",
       "6      1508\n",
       "7       336\n",
       "8         1\n",
       "dtype: int64"
      ]
     },
     "execution_count": 34,
     "metadata": {},
     "output_type": "execute_result"
    }
   ],
   "source": [
    "df[match(df,\"q1\",case_sensitive=False).index].replace(\"__na__\",np.nan)\\\n",
    "           .applymap(lambda x: len(x.split(\"~\")) if pd.notnull(x) else 0).stack().value_counts()"
   ]
  },
  {
   "cell_type": "code",
   "execution_count": 35,
   "metadata": {},
   "outputs": [
    {
     "data": {
      "text/plain": [
       "q1_before_yesterdayW18         0\n",
       "q1_before_yesterday_newsW18    0\n",
       "q1_yesterdayW18                0\n",
       "q1_yesterday_newsW18           1\n",
       "q1_todayW18                    0\n",
       "q1_today_newsW18               0\n",
       "dtype: int64"
      ]
     },
     "execution_count": 35,
     "metadata": {},
     "output_type": "execute_result"
    }
   ],
   "source": [
    "(df[match(df,\"q1\",case_sensitive=False).index].replace(\"__na__\",np.nan)\\\n",
    "           .applymap(lambda x: len(x.split(\"~\")) if pd.notnull(x) else 0)==8).sum()"
   ]
  },
  {
   "cell_type": "code",
   "execution_count": 36,
   "metadata": {},
   "outputs": [
    {
     "data": {
      "text/plain": [
       "id\n",
       "78922    201912011000|skynews|sky news|news~20191201120...\n",
       "Name: q1_yesterday_newsW18, dtype: category\n",
       "Categories (2630, object): [201911130600|bbcnews24|breakfast|news, 201911130600|bbcnews24|breakfast|news~20191113..., 201911130600|bbcnews24|breakfast|news~20191113..., 201911130600|bbcnews24|breakfast|news~20191113..., ..., 20191210900|skynews|all out politics|news~2019..., 20191210900|skynews|all out politics|news~2019..., 20191211700|skynews|kay burley @breakfast|news, __na__]"
      ]
     },
     "execution_count": 36,
     "metadata": {},
     "output_type": "execute_result"
    }
   ],
   "source": [
    "df[\"q1_yesterday_newsW18\"][df[\"q1_yesterday_newsW18\"].replace(\"__na__\",np.nan)\\\n",
    "           .apply(lambda x: len(x.split(\"~\")) if pd.notnull(x) else 0)==8]"
   ]
  },
  {
   "cell_type": "code",
   "execution_count": 37,
   "metadata": {},
   "outputs": [
    {
     "data": {
      "text/html": [
       "['201912011000|skynews|sky news|news', '201912011200|bbcnews24|bbc news|news', '201912011230|bbcnews24|click|news', '201912011300|bbcnews24|bbc news|news', '201912011100|skynews|sky news|news', '201912011400|bbcnews24|bbc news|news', '201912011200|skynews|sky news|news', '20191']"
      ],
      "text/plain": [
       "['201912011000|skynews|sky news|news',\n",
       " '201912011200|bbcnews24|bbc news|news',\n",
       " '201912011230|bbcnews24|click|news',\n",
       " '201912011300|bbcnews24|bbc news|news',\n",
       " '201912011100|skynews|sky news|news',\n",
       " '201912011400|bbcnews24|bbc news|news',\n",
       " '201912011200|skynews|sky news|news',\n",
       " '20191']"
      ]
     },
     "execution_count": 37,
     "metadata": {},
     "output_type": "execute_result"
    }
   ],
   "source": [
    "df.loc[78922,\"q1_yesterday_newsW18\"].split(\"~\")\n",
    "# okay - we'll never actually *need* all 8 columns"
   ]
  },
  {
   "cell_type": "code",
   "execution_count": 38,
   "metadata": {},
   "outputs": [
    {
     "data": {
      "text/plain": [
       "4    2353\n",
       "3     780\n",
       "2     142\n",
       "1     109\n",
       "dtype: int64"
      ]
     },
     "execution_count": 38,
     "metadata": {},
     "output_type": "execute_result"
    }
   ],
   "source": [
    "# ser.value_counts().apply(lambda x: len(x.index.split(\"|\")))\n",
    "section_no = [len(x.split(\"|\")) for x in ser.value_counts().index]\n",
    "sec_no = pd.Series(section_no)\n",
    "sec_no.value_counts()"
   ]
  },
  {
   "cell_type": "code",
   "execution_count": 39,
   "metadata": {},
   "outputs": [
    {
     "data": {
      "text/plain": [
       "201911111800|itv1|regional news and weather|news                                          1\n",
       "201911112200|bbc1|bbc news at ten|news                                                    1\n",
       "201911120600|bbc1|breakfast|daytime                                                     175\n",
       "201911120600|bbcnews24|breakfast|news                                                    14\n",
       "201911120600|itv1|good morning britain|daytime                                           47\n",
       "201911120600|skynews|the early rundown|news                                               6\n",
       "201911120700|skynews|kay burley @breakfast|news                                          34\n",
       "201911120830|bbcnews24|worklife|news                                                      3\n",
       "201911120830|itv1|lorraine|daytime                                                        8\n",
       "201911120900|bbc2|bbc news at nine|daytime                                               13\n",
       "201911120900|bbcnews24|bbc news at nine|news                                             11\n",
       "201911120900|skynews|all out politics|news                                               40\n",
       "201911120915|channel 5|jeremy                                                             1\n",
       "201911120915|channel 5|jeremy vine|daytime                                                5\n",
       "201911121000|bbc2|victoria derbyshire|daytime                                            13\n",
       "201911121000|bbcnews24|victoria derbyshire|news                                          15\n",
       "201911121100|bbc2|bbc newsroom live|daytime                                              15\n",
       "201911121100|bbcnews24|bbc newsroom live|news                                            17\n",
       "201911121100|skynews|lunchtime live|news                                                  7\n",
       "201911121200|bbc2|politics live|daytime                                                  39\n",
       "201911121200|channel 4|chann                                                              1\n",
       "201911121200|channel 4|channel 4 news summary|daytime                                     5\n",
       "201911121210|channel 5|5 news lunchtime|daytime                                           7\n",
       "201911121230|itv1|loose women|daytime                                                    11\n",
       "201911121300|bbc                                                                          1\n",
       "201911121300|bbc1|bbc news at one|daytime                                                95\n",
       "201911121300|bbcnews24|bbc news at one|news                                              19\n",
       "201911121330|bbc1|regional news and weather|daytime                                      62\n",
       "201911121330|bbcnews24|bbc news|news                                                     12\n",
       "201911121330|itv1|itv lunchtime news|daytime                                             33\n",
       "201911121330|skynews|ian king live|news                                                   6\n",
       "201911121355|itv1|regional news and weather|daytime                                      22\n",
       "201911121400|bbcnews24|afternoon live|news                                               19\n",
       "201911121400|skynews|the sarah-jane mee show|news                                        20\n",
       "201911121700|bbcnews24|bbc news at                                                        1\n",
       "201911121700|bbcnews24|bbc news at five|news                                              6\n",
       "201911121700|channel 5|5 news at 5|news                                                   9\n",
       "201911121700|skynews|the news hour with mark austin|news                                 16\n",
       "201911121800|bbc1|bbc news|news                                                         248\n",
       "201911121800|bbcnews24|bbc news at six|news                                              16\n",
       "201911121800|itv1|regional news and wea                                                   1\n",
       "201911121800|itv1|regional news and weather|news                                         66\n",
       "201911121800|skynews|s                                                                    1\n",
       "201911121800|skynews|sky news at six|news                                                20\n",
       "201911121825|itv1|party ele                                                               1\n",
       "201911121825|itv1|party election broadcast by the conservative                            1\n",
       "201911121825|itv1|party election broadcast by the conservative pa                         1\n",
       "201911121825|itv1|party election broadcast by the conservative party|current affairs     26\n",
       "201911121830|bbc1|regional news and                                                       1\n",
       "201911121830|bbc1|regional news and weather|n                                             1\n",
       "201911121830|bbc1|regional news and weather|news                                        168\n",
       "201911121830|bbcnews24|sportsday|news                                                     2\n",
       "201911121830|channel 5|5 news tonight|news                                                5\n",
       "201911121830|itv1|itv ev                                                                  2\n",
       "201911121830|itv1|itv evening new                                                         1\n",
       "201911121830|itv1|itv evening news|news                                                  74\n",
       "201911121845|bbcnews24|bbc news|news                                                      5\n",
       "201911121900|bbc1|the one show|interest                                                   2\n",
       "201911121900|bbc1|the one show|interests                                                 55\n",
       "201911121900|bbcnews24|beyond 100 days|news                                              11\n",
       "dtype: int64"
      ]
     },
     "execution_count": 39,
     "metadata": {},
     "output_type": "execute_result"
    }
   ],
   "source": [
    "ser.value_counts().loc[ser.value_counts().index[sec_no>=2]].sort_index().head(60)"
   ]
  },
  {
   "cell_type": "code",
   "execution_count": 40,
   "metadata": {},
   "outputs": [
    {
     "data": {
      "text/plain": [
       "                                                     23\n",
       "b                                                    13\n",
       "bb                                                   16\n",
       "bbc                                                  12\n",
       "bbc1                                                 12\n",
       "bbc1|                                                 7\n",
       "bbc1|ask the leader                                   1\n",
       "bbc1|ask the leaders|current af                       1\n",
       "bbc1|ask the leaders|current affairs:                 1\n",
       "bbc1|ask the leaders|current affairs: politics       59\n",
       "bbc1|b                                                3\n",
       "bbc1|bb                                               3\n",
       "bbc1|bbc                                              3\n",
       "bbc1|bbc london|news                                 34\n",
       "bbc1|bbc n                                            5\n",
       "bbc1|bbc ne                                           5\n",
       "bbc1|bbc new                                          5\n",
       "bbc1|bbc news                                         6\n",
       "bbc1|bbc news a                                       6\n",
       "bbc1|bbc news at                                      8\n",
       "bbc1|bbc news at one|da                               1\n",
       "bbc1|bbc news at one|daytime                       4836\n",
       "bbc1|bbc news at s                                    2\n",
       "bbc1|bbc news at six                                  2\n",
       "bbc1|bbc news at six|                                 2\n",
       "bbc1|bbc news at six|n                                1\n",
       "bbc1|bbc news at six|ne                               1\n",
       "bbc1|bbc news at six|news                          4952\n",
       "bbc1|bbc news at t                                    7\n",
       "bbc1|bbc news at te                                   9\n",
       "bbc1|bbc news at ten                                  4\n",
       "bbc1|bbc news at ten|                                 4\n",
       "bbc1|bbc news at ten|n                                6\n",
       "bbc1|bbc news at ten|ne                              10\n",
       "bbc1|bbc news at ten|new                             30\n",
       "bbc1|bbc news at ten|news                          6434\n",
       "bbc1|bbc news|new                                     2\n",
       "bbc1|bbc news|news                                10106\n",
       "bbc1|breakfast|daytime                             8471\n",
       "bbc1|brexit                                           1\n",
       "bbc1|brexitcast                                       2\n",
       "bbc1|brexitcast|c                                     1\n",
       "bbc1|brexitcast|cu                                    1\n",
       "bbc1|brexitcast|current affair                        1\n",
       "bbc1|brexitcast|current affairs                       1\n",
       "bbc1|brexitcast|current affairs:                      2\n",
       "bbc1|brexitcast|current affairs: politic              1\n",
       "bbc1|brexitcast|current affairs: politics           154\n",
       "bbc1|panorama|documentary                            67\n",
       "bbc1|part                                             1\n",
       "bbc1|party ele                                        2\n",
       "bbc1|party electi                                     1\n",
       "bbc1|party election                                   2\n",
       "bbc1|party election b                                 2\n",
       "bbc1|party election br                                1\n",
       "bbc1|party election broa                             17\n",
       "bbc1|party election broad                             5\n",
       "bbc1|party election broadca                           2\n",
       "bbc1|party election broadcas                          1\n",
       "bbc1|party election broadcast                         2\n",
       "dtype: int64"
      ]
     },
     "execution_count": 40,
     "metadata": {},
     "output_type": "execute_result"
    }
   ],
   "source": [
    "ser.apply(lambda x: \"|\".join(x.split(\"|\")[1:]))[ser.apply(lambda x:len(x.split(\"|\")))>=2].value_counts().sort_index().head(60)"
   ]
  },
  {
   "cell_type": "code",
   "execution_count": 41,
   "metadata": {},
   "outputs": [],
   "source": [
    "year_month_day_24hr = np.unique([x for x in ser.apply(lambda x: x.split(\"|\")[0])[ser.apply(lambda x:len(x.split(\"|\")))>=2].value_counts().sort_index().index])"
   ]
  },
  {
   "cell_type": "code",
   "execution_count": 42,
   "metadata": {},
   "outputs": [
    {
     "data": {
      "text/plain": [
       "array(['2019'], dtype='<U4')"
      ]
     },
     "execution_count": 42,
     "metadata": {},
     "output_type": "execute_result"
    }
   ],
   "source": [
    "np.unique([x[0:4] for x in year_month_day_24hr])\n",
    "# all 2019"
   ]
  },
  {
   "cell_type": "code",
   "execution_count": 43,
   "metadata": {},
   "outputs": [
    {
     "data": {
      "text/plain": [
       "array(['11', '12'], dtype='<U2')"
      ]
     },
     "execution_count": 43,
     "metadata": {},
     "output_type": "execute_result"
    }
   ],
   "source": [
    "np.unique([x[4:6] for x in year_month_day_24hr])\n",
    "# 11/12"
   ]
  },
  {
   "cell_type": "code",
   "execution_count": 44,
   "metadata": {},
   "outputs": [
    {
     "data": {
      "text/plain": [
       "array(['01', '02', '03', '04', '05', '06', '07', '08', '09', '10', '11',\n",
       "       '12', '13', '14', '15', '16', '17', '18', '19', '20', '21', '22',\n",
       "       '23', '24', '25', '26', '27', '28', '29', '30'], dtype='<U2')"
      ]
     },
     "execution_count": 44,
     "metadata": {},
     "output_type": "execute_result"
    }
   ],
   "source": [
    "np.unique([x[6:8] for x in year_month_day_24hr])"
   ]
  },
  {
   "cell_type": "code",
   "execution_count": 45,
   "metadata": {},
   "outputs": [
    {
     "data": {
      "text/plain": [
       "array(['0600', '0700', '0830', '0900', '0915', '0930', '1000', '1030',\n",
       "       '1100', '1110', '1130', '1200', '1210', '1230', '1300', '1330',\n",
       "       '1355', '1400', '1430', '1500', '1530', '1600', '1630', '1645',\n",
       "       '1700', '1705', '1710', '1715', '1720', '1725', '1730', '1735',\n",
       "       '1745', '1750', '1755', '1800', '1805', '1810', '1815', '1820',\n",
       "       '1825', '1830', '1835', '1840', '1845', '1850', '1855', '1900',\n",
       "       '1910', '1915', '1925', '1930', '1945', '1955', '2000', '2005',\n",
       "       '2030', '2045', '2100', '2105', '2110', '2130', '2200', '2205',\n",
       "       '2210', '2215', '2220', '2225', '2230', '2235', '2245', '2250',\n",
       "       '2255', '2300', '2315', '2330', '2345', '600', '700', '830', '900',\n",
       "       '915', '930'], dtype='<U4')"
      ]
     },
     "execution_count": 45,
     "metadata": {},
     "output_type": "execute_result"
    }
   ],
   "source": [
    "np.unique([x[8:12] for x in year_month_day_24hr])"
   ]
  },
  {
   "cell_type": "code",
   "execution_count": 46,
   "metadata": {},
   "outputs": [
    {
     "data": {
      "text/plain": [
       "array(['20191111', '20191112', '20191113', '20191114', '20191115',\n",
       "       '20191116', '20191117', '20191118', '20191119', '20191120',\n",
       "       '20191121', '20191122', '20191123', '20191124', '20191125',\n",
       "       '20191126', '20191127', '20191128', '20191129', '20191130',\n",
       "       '20191201', '20191202', '20191203', '20191204', '20191205',\n",
       "       '20191206', '20191207', '20191208', '20191209', '20191210',\n",
       "       '20191211', '20191212'], dtype='<U8')"
      ]
     },
     "execution_count": 46,
     "metadata": {},
     "output_type": "execute_result"
    }
   ],
   "source": [
    "np.unique([x[0:8] for x in year_month_day_24hr])\n",
    "# 11/11 - 12/12"
   ]
  },
  {
   "cell_type": "code",
   "execution_count": null,
   "metadata": {},
   "outputs": [],
   "source": []
  },
  {
   "cell_type": "code",
   "execution_count": null,
   "metadata": {},
   "outputs": [],
   "source": []
  },
  {
   "cell_type": "code",
   "execution_count": 47,
   "metadata": {},
   "outputs": [],
   "source": [
    "# channel_prog_cat_dict = {\"|\".join(x.split(\"|\")[0:2]):x.split(\"|\")[2] for x in ser.apply(lambda x: \"|\".join(x.split(\"|\")[1:4]))[ser.apply(lambda x:len(x.split(\"|\")))==4].value_counts().sort_index().index}\n",
    "# safe to assume same channel_prog_cat triples?\n",
    "\n",
    "\n",
    "channels = [\"bbc1\",\"bbc2\",\"bbcnews24\",\"channel 4\",\"channel 5\",\"itv1\",\"skynews\"]\n",
    "programmes = ['5 news', '5 news at 5', '5 news lunchtime', '5 news tonight', '5 news weekend', '@ breakfast', 'a week in interviews', 'afternoon live', 'all out politics', 'ask the leaders', 'bbc london', 'bbc news', 'bbc news at 9', 'bbc news at five', 'bbc news at nine', 'bbc news at one', 'bbc news at six', 'bbc news at ten', 'bbc newsroom live', 'beyond 100 days', 'breakfast', 'brexitcast', \"britain's care scandal exposed\", 'channel 4 news', 'channel 4 news climate debate', 'channel 4 news summary', 'click', 'dateline london', 'election 2019: scotland', 'electioncast', 'fox news @ 9', 'good morning britain', 'ian king live', 'itv evening news', 'itv lunchtime news', 'itv news', 'itv news at ten', 'jeremy vine', 'johnson v corbyn: the itv debate', 'kay burley @breakfast', 'live: britain decides - the everything but brexit debate', 'loose women', 'lorraine', 'lunchtime live', 'macedonia: more than a name', 'mock the week', 'news on the hour', 'newsnight', 'newswatch', 'off air', 'on assignment', 'our world', 'outside source', 'panorama', 'party election broadcast', 'party election broadcast by the brexit party', 'party election broadcast by the conservative party', 'party election broadcast by the green party', 'party election broadcast by the labour party', 'party election broadcast by the liberal democrats', 'party election broadcast on behalf of plaid cymru', 'party election broadcast on behalf of the brexit party', 'party election broadcast on behalf of the conservative party', 'party election broadcast on behalf of the green party', 'party election broadcast on behalf of the labour party', 'party election broadcast on behalf of the liberal democrats', 'party election broadcast on behalf of the scottish national party', 'path to power', 'peston', \"pmq's\", 'politics live', 'press preview', 'question time', 'question time election special - under 30s', 'question time leaders special', 'regional news and weather', \"rivals - america's endgame\", 'sky news', 'sky news @ breakfast', 'sky news at 11', 'sky news at 11 with anna botting', 'sky news at six', 'sky news at ten', 'sky news including fyi', 'sky news tonight', 'sky news with sarah hewson', 'sophy ridge on sunday', 'sophy ridge: the take', 'sportsday', 'sportsline', 'talking movies', 'the andrew neil interviews', 'the andrew neil show', 'the bbc election debate', 'the campaign', 'the early rundown', 'the film review', 'the firing line', 'the itv election debate', 'the itv election interviews', 'the leader interviews: boris johnson - tonight', 'the leader interviews: jeremy corbyn - tonight', 'the leader interviews: jo swinson - tonight', 'the leader interviews: nigel farage - tonight', 'the leader interviews: tonight', 'the news hour with mark austin', 'the one show', 'the papers', 'the pledge', 'the prime ministerial debate', 'the prince and the epstein scandal - panorama', 'the real derry girls', 'the richard dimbleby lecture 2019', 'the sarah-jane mee show', 'the travel show', 'through the lens: untold stories', 'turner prize', 'universal credit: one year on - panorama', 'victoria derbyshire', 'victoria derbyshire: your election', 'witness history', 'worklife', 'world news today', 'your questions answered', 'your questions answered: green party', 'your questions answered: nigel farage']\n",
    "categories = [\"comedy\",\"current affairs: politics\",\"daytime\",\"documentary: current affairs\",\"interests\",\"news\"]\n",
    "# "
   ]
  },
  {
   "cell_type": "code",
   "execution_count": 48,
   "metadata": {},
   "outputs": [
    {
     "data": {
      "text/plain": [
       "{1: {'bbc1|ask the leaders': 'current afcurrent affairs:current affairs: politics',\n",
       "  'bbc1|bbc london': 'news',\n",
       "  'bbc1|bbc news': 'newnews',\n",
       "  'bbc1|bbc news at one': 'dadaytime',\n",
       "  'bbc1|bbc news at six': 'nnenews',\n",
       "  'bbc1|bbc news at ten': 'nnenewnews',\n",
       "  'bbc1|breakfast': 'daytime',\n",
       "  'bbc1|brexitcast': 'ccucurrent affaircurrent affairscurrent affairs:current affairs: politiccurrent affairs: politics',\n",
       "  'bbc1|panorama': 'documentary',\n",
       "  'bbc1|party election broadcast by the brexit party': 'currcurrecurrent afcurrent affairs: politicurrent affairs: politics',\n",
       "  'bbc1|party election broadcast by the conservative party': 'currcurrent acurrent afcurrent affairs:current affairs: polcurrent affairs: policurrent affairs: politcurrent affairs: politics',\n",
       "  'bbc1|party election broadcast by the green party': 'current affacurrent affaircurrent affairs: pcurrent affairs: politicurrent affairs: politics',\n",
       "  'bbc1|party election broadcast by the labour party': 'currencurrent afcurrent affaircurrent affairs: pocurrent affairs: politcurrent affairs: politicurrent affairs: politics',\n",
       "  'bbc1|party election broadcast by the liberal democrats': 'currecurrentcurrent acurrent affcurrent affacurrent affaicurrent affairs: pcurrent affairs: policurrent affairs: politcurrent affairs: politicurrent affairs: politiccurrent affairs: politics',\n",
       "  'bbc1|question time': 'ccucurrecurrencurrentcurrent acurrent afcurrent affcurrent affacurrent affaicurrent affaircurrent affairscurrent affairs:current affairs: pcurrent affairs: polcurrent affairs: policurrent affairs: politcurrent affairs: politicurrent affairs: politiccurrent affairs: politics',\n",
       "  'bbc1|question time election special - under 30s': 'ccurrentcurrent affairs:current affairs: pcurrent affairs: politicurrent affairs: politiccurrent affairs: politics',\n",
       "  'bbc1|question time leaders special': 'cucurrent affaicurrent affaircurrent affairs: politics',\n",
       "  'bbc1|regional news and weather': 'dadaydaytdaytimdaytimennenewnews',\n",
       "  'bbc1|the andrew neil interviews': 'ccucurcurrcurrecurrencurrentcurrent acurrent affacurrent affaicurrent affairs:current affairs: pcurrent affairs: policurrent affairs: politcurrent affairs: politiccurrent affairs: politics',\n",
       "  'bbc1|the bbc election debate': 'news',\n",
       "  'bbc1|the one show': 'documedocumentadocumentaryinintinterintereinteresinterestinterests',\n",
       "  'bbc1|the prime ministerial debate': 'nenewnews',\n",
       "  'bbc1|the prince and the epstein scandal - panorama': 'dodocudocumdocumentadocumentardocumentary',\n",
       "  'bbc1|the richard dimbleby lecture 2019': 'current affairs',\n",
       "  'bbc1|universal credit: one year on - panorama': 'documentary: cdocumentary: currendocumentary: current affairs',\n",
       "  'bbc2|bbc news at 9': 'daytime',\n",
       "  'bbc2|bbc news at nine': 'daytime',\n",
       "  'bbc2|bbc newsroom live': 'ddaydaytime',\n",
       "  'bbc2|mock the week': 'comedy',\n",
       "  'bbc2|newsnight': 'nnenewnews',\n",
       "  'bbc2|politics live': 'dadaydaytidaytimdaytime',\n",
       "  'bbc2|the andrew neil show': 'current affacurrent affairs: politicsnews',\n",
       "  'bbc2|the one show': 'interests',\n",
       "  'bbc2|victoria derbyshire': 'daydaytime',\n",
       "  'bbc2|victoria derbyshire: your election': 'daytime',\n",
       "  'bbc2|your questions answered': 'daytime',\n",
       "  'bbc2|your questions answered: green party': 'daytime',\n",
       "  'bbc2|your questions answered: nigel farage': 'daytime',\n",
       "  'bbcnews24|afternoon live': 'nenews',\n",
       "  'bbcnews24|bbc news': 'nnenewnews',\n",
       "  'bbcnews24|bbc news at five': 'news',\n",
       "  'bbcnews24|bbc news at nine': 'news',\n",
       "  'bbcnews24|bbc news at one': 'nenews',\n",
       "  'bbcnews24|bbc news at six': 'nnewnews',\n",
       "  'bbcnews24|bbc news at ten': 'nnenewnews',\n",
       "  'bbcnews24|bbc newsroom live': 'news',\n",
       "  'bbcnews24|beyond 100 days': 'nenewnews',\n",
       "  'bbcnews24|breakfast': 'news',\n",
       "  'bbcnews24|brexitcast': 'news',\n",
       "  \"bbcnews24|britain's care scandal exposed\": 'news',\n",
       "  'bbcnews24|click': 'news',\n",
       "  'bbcnews24|dateline london': 'news',\n",
       "  'bbcnews24|election 2019: scotland': 'news',\n",
       "  'bbcnews24|electioncast': 'nnews',\n",
       "  'bbcnews24|macedonia: more than a name': 'news',\n",
       "  'bbcnews24|newswatch': 'news',\n",
       "  'bbcnews24|off air': 'news',\n",
       "  'bbcnews24|our world': 'news',\n",
       "  'bbcnews24|outside source': 'nenewnews',\n",
       "  \"bbcnews24|rivals - america's endgame\": 'news',\n",
       "  'bbcnews24|sportsday': 'nenews',\n",
       "  'bbcnews24|talking movies': 'news',\n",
       "  'bbcnews24|the film review': 'news',\n",
       "  'bbcnews24|the firing line': 'news',\n",
       "  'bbcnews24|the papers': 'nenewnews',\n",
       "  'bbcnews24|the real derry girls': 'news',\n",
       "  'bbcnews24|the travel show': 'news',\n",
       "  'bbcnews24|through the lens: untold stories': 'news',\n",
       "  'bbcnews24|turner prize': 'news',\n",
       "  'bbcnews24|victoria derbyshire': 'news',\n",
       "  'bbcnews24|witness history': 'news',\n",
       "  'bbcnews24|worklife': 'news',\n",
       "  'bbcnews24|world news today': 'news',\n",
       "  'channel 4|channel 4 news': 'newnews',\n",
       "  'channel 4|channel 4 news climate debate': 'news',\n",
       "  'channel 4|channel 4 news summary': 'ddaytime',\n",
       "  'channel 4|live: britain decides - the everything but brexit debate': 'news',\n",
       "  'channel 4|party election broadcast': 'currencurrent affairscurrent affairs: pocurrent affairs: politicurrent affairs: politics',\n",
       "  'channel 5|5 news': 'news',\n",
       "  'channel 5|5 news at 5': 'daytidaytimenews',\n",
       "  'channel 5|5 news lunchtime': 'daytime',\n",
       "  'channel 5|5 news tonight': 'nenews',\n",
       "  'channel 5|5 news weekend': 'news',\n",
       "  'channel 5|jeremy vine': 'daydaytime',\n",
       "  'channel 5|party election broadcast on behalf of plaid cymru': 'current affairs',\n",
       "  'channel 5|party election broadcast on behalf of the brexit party': 'current affairs',\n",
       "  'channel 5|party election broadcast on behalf of the conservative party': 'current afcurrent affairs',\n",
       "  'channel 5|party election broadcast on behalf of the green party': 'current affairs',\n",
       "  'channel 5|party election broadcast on behalf of the labour party': 'current affairs',\n",
       "  'channel 5|party election broadcast on behalf of the liberal democrats': 'current affairs',\n",
       "  'channel 5|party election broadcast on behalf of the scottish national party': 'current affairs',\n",
       "  'itv1|good morning britain': 'daytime',\n",
       "  'itv1|itv evening news': 'nnenewnews',\n",
       "  'itv1|itv lunchtime news': 'ddadaytimdaytime',\n",
       "  'itv1|itv news': 'nnenewnews',\n",
       "  'itv1|itv news at ten': 'nnewnews',\n",
       "  'itv1|johnson v corbyn: the itv debate': 'dodocumdocumedocumentarydocumentary: currentdocumentary: current afdocumentary: current affairs',\n",
       "  'itv1|loose women': 'daytime',\n",
       "  'itv1|lorraine': 'daytdaytime',\n",
       "  'itv1|on assignment': 'current affairs',\n",
       "  'itv1|party election broadcast by the brexit party': 'cucurrent acurrent affcurrent affairs:current affairs: policurrent affairs: politicurrent affairs: politics',\n",
       "  'itv1|party election broadcast by the conservative party': 'cucurrcurrentcurrent acurrent affairscurrent affairs: pcurrent affairs: pocurrent affairs: politics',\n",
       "  'itv1|party election broadcast by the green party': 'current affaircurrent affairs',\n",
       "  'itv1|party election broadcast by the labour party': 'cucurrentcurrent acurrent affaicurrent affaircurrent affairs',\n",
       "  'itv1|party election broadcast by the liberal democrats': 'curcurrcurrecurrent affacurrent affairs',\n",
       "  'itv1|peston': 'currcurrent affaicurrent affairs:current affairs: pcurrent affairs: polcurrent affairs: policurrent affairs: politcurrent affairs: politics',\n",
       "  'itv1|regional news and weather': 'ddaytdaytimennenewnews',\n",
       "  'itv1|the itv election debate': 'current affairs: politics',\n",
       "  'itv1|the itv election interviews': 'documedocumentadocumentarydocumentary:documentary: currendocumentary: current affairs',\n",
       "  'itv1|the leader interviews: boris johnson - tonight': 'cucurrentcurrent affacurrent affairs',\n",
       "  'itv1|the leader interviews: jeremy corbyn - tonight': 'currcurrent affairs',\n",
       "  'itv1|the leader interviews: jo swinson - tonight': 'currentcurrent acurrent afcurrent affcurrent affaircurrent affairs',\n",
       "  'itv1|the leader interviews: nigel farage - tonight': 'ccurcurrecurrent acurrent affairs',\n",
       "  'itv1|the leader interviews: tonight': 'current affairs',\n",
       "  'skynews|@ breakfast': 'news',\n",
       "  'skynews|a week in interviews': 'news',\n",
       "  'skynews|all out politics': 'news',\n",
       "  'skynews|fox news @ 9': 'nenews',\n",
       "  'skynews|ian king live': 'news',\n",
       "  'skynews|kay burley @breakfast': 'news',\n",
       "  'skynews|lunchtime live': 'news',\n",
       "  'skynews|news on the hour': 'news',\n",
       "  'skynews|path to power': 'nnews',\n",
       "  \"skynews|pmq's\": 'news',\n",
       "  'skynews|press preview': 'nnenewnews',\n",
       "  'skynews|sky news': 'nnewnews',\n",
       "  'skynews|sky news @ breakfast': 'news',\n",
       "  'skynews|sky news at 11': 'news',\n",
       "  'skynews|sky news at 11 with anna botting': 'news',\n",
       "  'skynews|sky news at six': 'nenews',\n",
       "  'skynews|sky news at ten': 'nenews',\n",
       "  'skynews|sky news including fyi': 'news',\n",
       "  'skynews|sky news tonight': 'news',\n",
       "  'skynews|sky news with sarah hewson': 'news',\n",
       "  'skynews|sophy ridge on sunday': 'news',\n",
       "  'skynews|sophy ridge: the take': 'newnews',\n",
       "  'skynews|sportsline': 'news',\n",
       "  'skynews|the campaign': 'news',\n",
       "  'skynews|the early rundown': 'news',\n",
       "  'skynews|the news hour with mark austin': 'news',\n",
       "  'skynews|the pledge': 'news',\n",
       "  'skynews|the sarah-jane mee show': 'news'}}"
      ]
     },
     "execution_count": 48,
     "metadata": {},
     "output_type": "execute_result"
    }
   ],
   "source": [
    "channel_prog_pairs = [\"|\".join(x.split(\"|\")[0:2]) for x in ser.apply(lambda x: \"|\".join(x.split(\"|\")[1:4]))[ser.apply(lambda x:len(x.split(\"|\")))==4].value_counts().sort_index().index]\n",
    "categories = [x.split(\"|\")[2] for x in ser.apply(lambda x: \"|\".join(x.split(\"|\")[1:4]))[ser.apply(lambda x:len(x.split(\"|\")))==4].value_counts().sort_index().index]\n",
    "len(channel_prog_pairs),len(categories),\n",
    "\n",
    "pd.DataFrame([channel_prog_pairs,categories]).T.groupby(0).sum().to_dict()#[1].values#[1].values\n",
    "\n",
    "# sadly not a one-for-one channel-prog-prairto category mapping"
   ]
  },
  {
   "cell_type": "code",
   "execution_count": null,
   "metadata": {},
   "outputs": [],
   "source": []
  },
  {
   "cell_type": "code",
   "execution_count": 50,
   "metadata": {},
   "outputs": [],
   "source": [
    "# np.unique(list(channel_prog_cat_dict.values()))"
   ]
  },
  {
   "cell_type": "code",
   "execution_count": 51,
   "metadata": {},
   "outputs": [
    {
     "data": {
      "text/plain": [
       "bbcnews24    788\n",
       "bbc1         760\n",
       "itv1         629\n",
       "skynews      567\n",
       "bbc2         169\n",
       "channel 4    129\n",
       "channel 5    119\n",
       "              22\n",
       "it            16\n",
       "bb            15\n",
       "b             13\n",
       "bbc           12\n",
       "i              6\n",
       "bbcne          5\n",
       "channel        3\n",
       "sk             3\n",
       "skyn           3\n",
       "chan           2\n",
       "bbcn           2\n",
       "s              2\n",
       "ch             2\n",
       "bbcnews        1\n",
       "chann          1\n",
       "c              1\n",
       "skynew         1\n",
       "sky            1\n",
       "channe         1\n",
       "bbcnew         1\n",
       "itv            1\n",
       "dtype: int64"
      ]
     },
     "execution_count": 51,
     "metadata": {},
     "output_type": "execute_result"
    }
   ],
   "source": [
    "q1_tv_channels = pd.Series([x.split(\"|\")[1] for x in ser.value_counts().loc[ser.value_counts().index[sec_no>=2]].index])\n",
    "q1_tv_channels.value_counts()"
   ]
  },
  {
   "cell_type": "code",
   "execution_count": 52,
   "metadata": {},
   "outputs": [
    {
     "name": "stdout",
     "output_type": "stream",
     "text": [
      "bbcnews24\n",
      "bbc1\n",
      "itv1\n",
      "skynews\n",
      "bbc2\n",
      "channel 4\n",
      "channel 5\n",
      "nan\n",
      "itv1\n",
      "nan\n",
      "nan\n",
      "nan\n",
      "itv1\n",
      "bbcnews24\n",
      "nan\n",
      "skynews\n",
      "skynews\n",
      "nan\n",
      "bbcnews24\n",
      "skynews\n",
      "nan\n",
      "bbcnews24\n",
      "nan\n",
      "nan\n",
      "skynews\n",
      "skynews\n",
      "nan\n",
      "bbcnews24\n",
      "itv1\n"
     ]
    }
   ],
   "source": [
    "for x in q1_tv_channels.value_counts().index:\n",
    "    if x in channels:\n",
    "        print(x)\n",
    "    elif sum([x == y[0:len(x)] for y in channels])==1:\n",
    "        x = channels[[y[0:len(x)] for y in channels].index(x)]\n",
    "        print(x)\n",
    "    else:\n",
    "        x = np.nan\n",
    "        print(x)\n",
    "        "
   ]
  },
  {
   "cell_type": "code",
   "execution_count": 53,
   "metadata": {},
   "outputs": [
    {
     "data": {
      "text/plain": [
       "201911172200|bbc1|bbc news|news                                                    589\n",
       "201911242200|bbc1|bbc news|news                                                    572\n",
       "201911192000|itv1|johnson v corbyn: the itv debate|documentary: current affairs    567\n",
       "201912012200|bbc1|bbc news|news                                                    555\n",
       "201911221900|bbc1|question time leaders special|current affairs: politics          552\n",
       "                                                                                  ... \n",
       "201911181330                                                                         1\n",
       "201911292200|bbc1|bbc n                                                              1\n",
       "201911272245|itv1|peston|current affairs: p                                          1\n",
       "201912061830|bbc1|regional news                                                      1\n",
       "201911201825|itv1|party election broadcast by the brexit party                       1\n",
       "Length: 3384, dtype: int64"
      ]
     },
     "execution_count": 53,
     "metadata": {},
     "output_type": "execute_result"
    }
   ],
   "source": [
    "ser = pd.Series( flatten( df[match(df,\"q1\",case_sensitive=False).index].replace(\"__na__\",np.nan)\\\n",
    "           .applymap(lambda x: x.split(\"~\") if pd.notnull(x) else np.nan).stack().values ) )\n",
    "ser.value_counts()\n",
    "\n"
   ]
  },
  {
   "cell_type": "code",
   "execution_count": 54,
   "metadata": {},
   "outputs": [
    {
     "data": {
      "text/plain": [
       "q1_before_yesterdayW18         7\n",
       "q1_before_yesterday_newsW18    7\n",
       "q1_yesterdayW18                7\n",
       "q1_yesterday_newsW18           8\n",
       "q1_todayW18                    7\n",
       "q1_today_newsW18               7\n",
       "dtype: int64"
      ]
     },
     "execution_count": 54,
     "metadata": {},
     "output_type": "execute_result"
    }
   ],
   "source": [
    "df[match(df,\"q1\",case_sensitive=False).index].replace(\"__na__\",np.nan)\\\n",
    "           .applymap(lambda x: len(x.split(\"~\")) if pd.notnull(x) else 0).max()"
   ]
  },
  {
   "cell_type": "code",
   "execution_count": 55,
   "metadata": {},
   "outputs": [],
   "source": [
    "### start building q1 dataframe"
   ]
  },
  {
   "cell_type": "code",
   "execution_count": 60,
   "metadata": {},
   "outputs": [],
   "source": [
    "# q1_base_cols"
   ]
  },
  {
   "cell_type": "code",
   "execution_count": 61,
   "metadata": {},
   "outputs": [],
   "source": [
    "q1_col_maxes = df[match(df,\"q1\",case_sensitive=False).index].replace(\"__na__\",np.nan)\\\n",
    "           .applymap(lambda x: len(x.split(\"~\")) if pd.notnull(x) else 0).max()\n",
    "q1_base_cols = flatten([[x+\"_\"+str(y+1) for y in range(q1_col_maxes.loc[x])] for x in q1_col_maxes.index])"
   ]
  },
  {
   "cell_type": "code",
   "execution_count": 62,
   "metadata": {},
   "outputs": [],
   "source": [
    "q1 = pd.DataFrame(columns = q1_base_cols)\n",
    "\n",
    "temp = df[match(df,\"q1\",case_sensitive=False).index].replace(\"__na__\",np.nan)\\\n",
    "           .applymap(lambda x: x.split(\"~\") if pd.notnull(x) else np.nan)\n",
    "for col in q1_col_maxes.index:\n",
    "    for no in range(1,q1_col_maxes.loc[col]+1):\n",
    "        q1[col+\"_\"+str(no)] = temp[col].apply(lambda x: x[no-1] if isinstance(x,list) and len(x)>=no else np.nan)"
   ]
  },
  {
   "cell_type": "code",
   "execution_count": 63,
   "metadata": {},
   "outputs": [],
   "source": [
    "temp = q1[q1_base_cols].applymap(lambda x: x.split(\"|\")[0] if pd.notnull(x) and len(x.split(\"|\"))>=1 else np.nan)\n",
    "temp.columns = [x+\"_dt\" for x in q1_base_cols]\n",
    "q1[temp.columns]=temp"
   ]
  },
  {
   "cell_type": "code",
   "execution_count": 64,
   "metadata": {},
   "outputs": [],
   "source": [
    "temp = q1[q1_base_cols].applymap(lambda x: x.split(\"|\")[1] if pd.notnull(x) and len(x.split(\"|\"))>=2 else np.nan)\n",
    "temp.columns = [x+\"_chan\" for x in q1_base_cols]\n",
    "q1[temp.columns]=temp"
   ]
  },
  {
   "cell_type": "code",
   "execution_count": 65,
   "metadata": {},
   "outputs": [],
   "source": [
    "temp = q1[q1_base_cols].applymap(lambda x: \"|\".join(x.split(\"|\")[1:3]) if pd.notnull(x) and len(x.split(\"|\"))>=3 else np.nan)\n",
    "temp.columns = [x+\"_prog\" for x in q1_base_cols]\n",
    "q1[temp.columns]=temp"
   ]
  },
  {
   "cell_type": "code",
   "execution_count": 66,
   "metadata": {},
   "outputs": [
    {
     "data": {
      "text/plain": [
       "bbc1|regional news and weather            14155\n",
       "bbc1|bbc news                             10114\n",
       "bbc1|breakfast                             8471\n",
       "bbc1|bbc news at ten                       6488\n",
       "bbc1|bbc news at six                       4958\n",
       "                                          ...  \n",
       "bbc1|party election broadcast by the b        1\n",
       "itv1|johnson v corby                          1\n",
       "bbc1|the o                                    1\n",
       "skynews|sky news a                            1\n",
       "bbcnews24|the                                 1\n",
       "Length: 467, dtype: int64"
      ]
     },
     "execution_count": 66,
     "metadata": {},
     "output_type": "execute_result"
    }
   ],
   "source": [
    "q1[[x+\"_prog\" for x in q1_base_cols]].stack().value_counts()"
   ]
  },
  {
   "cell_type": "code",
   "execution_count": 67,
   "metadata": {},
   "outputs": [],
   "source": [
    "temp = q1[q1_base_cols].applymap(lambda x: x.split(\"|\")[3] if pd.notnull(x) and len(x.split(\"|\"))>=4 else np.nan)\n",
    "temp.columns = [x+\"_cat\" for x in q1_base_cols]\n",
    "q1[temp.columns]=temp"
   ]
  },
  {
   "cell_type": "code",
   "execution_count": 68,
   "metadata": {},
   "outputs": [
    {
     "data": {
      "text/plain": [
       "bbc1         55981\n",
       "itv1         18786\n",
       "skynews      11781\n",
       "bbcnews24    11502\n",
       "bbc2          4562\n",
       "channel 4     4147\n",
       "channel 5      712\n",
       "                23\n",
       "it              18\n",
       "bb              16\n",
       "b               13\n",
       "bbc             12\n",
       "i                6\n",
       "bbcne            5\n",
       "skyn             4\n",
       "channel          4\n",
       "sk               3\n",
       "ch               2\n",
       "s                2\n",
       "chan             2\n",
       "bbcn             2\n",
       "bbcnew           1\n",
       "itv              1\n",
       "chann            1\n",
       "c                1\n",
       "skynew           1\n",
       "bbcnews          1\n",
       "channe           1\n",
       "sky              1\n",
       "dtype: int64"
      ]
     },
     "execution_count": 68,
     "metadata": {},
     "output_type": "execute_result"
    }
   ],
   "source": [
    "q1[[x+\"_chan\" for x in q1_base_cols]].stack().value_counts()"
   ]
  },
  {
   "cell_type": "code",
   "execution_count": 69,
   "metadata": {},
   "outputs": [],
   "source": [
    "# vc = q1[[x+\"_dt\" for x in q1_base_cols]].applymap(lambda x:fix_q1_date_string(x)).stack().value_counts()"
   ]
  },
  {
   "cell_type": "code",
   "execution_count": 70,
   "metadata": {},
   "outputs": [],
   "source": [
    "# vc.loc[[x for x in vc.index if len(x)<=11]]"
   ]
  },
  {
   "cell_type": "code",
   "execution_count": 71,
   "metadata": {},
   "outputs": [],
   "source": [
    "def fix_q1_date_string(x):\n",
    "    if pd.isnull(x):\n",
    "        # it's a nan, nothing to see here\n",
    "        return x\n",
    "    elif len(x)==12:\n",
    "        # it's definitely fine\n",
    "        return(x)\n",
    "    elif len(x)==11:\n",
    "        # it's maybe fine if it's a short 2400 thing - e.g. 600, 915\n",
    "        # but if the 24 hour string starts with 0/1/2 more reasonable to assume evening than morning\n",
    "        if x[8] in [\"0\",\"1\",\"2\"]:\n",
    "            x=x+\"0\"\n",
    "        return(x)\n",
    "    elif len(x)==10:\n",
    "        # technically, this could be short or long 24 hour strings\n",
    "        # but I eyeballed all instances and saw it was only 'long' 24 hour strings\n",
    "        # some of these should also actually be 15/45 mins past the hour ...\n",
    "        # but effectively rounding down to the nearest hour seems like an acceptable fix\n",
    "        return(x+\"00\")\n",
    "    else:\n",
    "        # bugs me to throw away partial information\n",
    "        # but you'd need to have a good reason to have to add in the extra work\n",
    "        # needed to handle partially complete datestrings\n",
    "        return(np.nan)"
   ]
  },
  {
   "cell_type": "code",
   "execution_count": 72,
   "metadata": {},
   "outputs": [
    {
     "data": {
      "text/plain": [
       "201911181800    782\n",
       "201911141800    721\n",
       "201912021800    720\n",
       "201911291800    714\n",
       "201911221900    713\n",
       "               ... \n",
       "201912012030      1\n",
       "201911111800      1\n",
       "201911142340      1\n",
       "201911112200      1\n",
       "201912081230      1\n",
       "Length: 992, dtype: int64"
      ]
     },
     "execution_count": 72,
     "metadata": {},
     "output_type": "execute_result"
    }
   ],
   "source": [
    "q1[[x+\"_dt\" for x in q1_base_cols]] = q1[[x+\"_dt\" for x in q1_base_cols]].applymap(lambda x:fix_q1_date_string(x))\n",
    "\n",
    "q1[[x+\"_dt\" for x in q1_base_cols]].stack().value_counts()"
   ]
  },
  {
   "cell_type": "code",
   "execution_count": 73,
   "metadata": {},
   "outputs": [],
   "source": [
    "\n",
    "# q1[[x+\"_chan\" for x in q1_base_cols]].stack().value_counts()"
   ]
  },
  {
   "cell_type": "code",
   "execution_count": 74,
   "metadata": {},
   "outputs": [],
   "source": [
    "def fix_q1_channel_string(x):\n",
    "    channels = [\"bbc1\",\"bbc2\",\"bbcnews24\",\"channel 4\",\"channel 5\",\"itv1\",\"skynews\"]\n",
    "    if pd.isnull(x):\n",
    "        # it's a nan, nothing to see here\n",
    "        return x\n",
    "    elif x==\" \":\n",
    "        return np.nan\n",
    "    elif x in channels:\n",
    "        # it's definitely fine\n",
    "        return(x)\n",
    "    elif sum([x == y[0:len(x)] for y in channels])==1:\n",
    "        # unique match on what there is to one of the channel strings\n",
    "        return channels[[y[0:len(x)] for y in channels].index(x)]\n",
    "    else:\n",
    "        # in theory, we could match to broader classes (e.g. \"bbc\" and \"channel 4/5\")\n",
    "        # breaks my heart to throw data away!\n",
    "        # but that would inconsistent with treamtent of the date strings and create extra baggage of overlapping categories\n",
    "        # waaaaaaaaaaaaaaaaaaaaaaaaaaaaaaaaaaaaaaaaaaaaaaaaa!\n",
    "        # maybe 40-50 instances\n",
    "        return np.nan"
   ]
  },
  {
   "cell_type": "code",
   "execution_count": 75,
   "metadata": {},
   "outputs": [
    {
     "data": {
      "text/plain": [
       "bbc1         55981\n",
       "itv1         18811\n",
       "skynews      11792\n",
       "bbcnews24    11511\n",
       "bbc2          4562\n",
       "channel 4     4147\n",
       "channel 5      712\n",
       "dtype: int64"
      ]
     },
     "execution_count": 75,
     "metadata": {},
     "output_type": "execute_result"
    }
   ],
   "source": [
    "q1[[x+\"_chan\" for x in q1_base_cols]] = q1[[x+\"_chan\" for x in q1_base_cols]].applymap(lambda x:fix_q1_channel_string(x))\n",
    "q1[[x+\"_chan\" for x in q1_base_cols]].stack().value_counts()"
   ]
  },
  {
   "cell_type": "code",
   "execution_count": 76,
   "metadata": {},
   "outputs": [],
   "source": [
    "# q1[[x+\"_cat\" for x in q1_base_cols]].stack().value_counts()"
   ]
  },
  {
   "cell_type": "code",
   "execution_count": 77,
   "metadata": {},
   "outputs": [],
   "source": [
    "def fix_q1_news_cat_string(x):\n",
    "#     channels = [\"bbc1\",\"bbc2\",\"bbcnews24\",\"channel 4\",\"channel 5\",\"itv1\",\"skynews\"]\n",
    "    if pd.isnull(x):\n",
    "        # it's a nan, nothing to see here\n",
    "        return x\n",
    "    else:\n",
    "        # anything other than empty cell should be \"news\"\n",
    "        # at least, going on the distribution I see in the data\n",
    "        # arguably, this makes this column unnecessary\n",
    "        return \"news\"\n"
   ]
  },
  {
   "cell_type": "code",
   "execution_count": 78,
   "metadata": {},
   "outputs": [
    {
     "data": {
      "text/plain": [
       "news    23152\n",
       "dtype: int64"
      ]
     },
     "execution_count": 78,
     "metadata": {},
     "output_type": "execute_result"
    }
   ],
   "source": [
    "q1_base_news_cols = [x for x in q1_base_cols if \"news\" in x]\n",
    "\n",
    "q1[[x+\"_cat\" for x in q1_base_news_cols]] = q1[[x+\"_cat\" for x in q1_base_news_cols]].applymap(lambda x:fix_q1_news_cat_string(x))\n",
    "\n",
    "q1[[x+\"_cat\" for x in q1_base_news_cols]].stack().value_counts()"
   ]
  },
  {
   "cell_type": "code",
   "execution_count": 79,
   "metadata": {},
   "outputs": [
    {
     "data": {
      "text/plain": [
       "news                            49975\n",
       "daytime                         24177\n",
       "current affairs: politics        4943\n",
       "interests                        1336\n",
       "current affairs                  1223\n",
       "documentary: current affairs      742\n",
       "documentary                       368\n",
       "comedy                             66\n",
       "new                                57\n",
       "                                   36\n",
       "ne                                 25\n",
       "current af                         24\n",
       "n                                  24\n",
       "intere                             23\n",
       "current a                          20\n",
       "curr                               19\n",
       "current affairs:                   19\n",
       "curre                              15\n",
       "cu                                 14\n",
       "current affa                       14\n",
       "current affairs: p                 13\n",
       "current affai                      11\n",
       "current affairs: politi            10\n",
       "current                             9\n",
       "current affair                      9\n",
       "current affairs: poli               9\n",
       "day                                 8\n",
       "current affairs: politic            8\n",
       "current aff                         7\n",
       "current affairs: polit              7\n",
       "curren                              6\n",
       "c                                   6\n",
       "inter                               5\n",
       "da                                  5\n",
       "d                                   5\n",
       "documenta                           5\n",
       "daytim                              5\n",
       "cur                                 4\n",
       "interest                            4\n",
       "docume                              3\n",
       "documentary: curren                 3\n",
       "current affairs: pol                3\n",
       "current affairs: po                 3\n",
       "dayt                                3\n",
       "dayti                               3\n",
       "interes                             2\n",
       "int                                 2\n",
       "documentary: current                2\n",
       "documentary:                        2\n",
       "docum                               2\n",
       "do                                  2\n",
       "documentar                          1\n",
       "in                                  1\n",
       "documentary: current af             1\n",
       "docu                                1\n",
       "documentary: c                      1\n",
       "dtype: int64"
      ]
     },
     "execution_count": 79,
     "metadata": {},
     "output_type": "execute_result"
    }
   ],
   "source": [
    "q1_categories = ['news', 'daytime', 'current affairs','current affairs: politics', 'interests',\n",
    "        'documentary','documentary: current affairs', 'comedy', ]\n",
    "q1_base_notnews_cols = [x for x in q1_base_cols if \"news\" not in x]\n",
    "q1[[x+\"_cat\" for x in q1_base_notnews_cols]].stack().value_counts()\n"
   ]
  },
  {
   "cell_type": "code",
   "execution_count": 80,
   "metadata": {},
   "outputs": [],
   "source": [
    "def fix_q1_notnews_cat_string(x):\n",
    "    q1_categories = ['news', 'daytime', 'current affairs','current affairs: politics', 'interests',\n",
    "        'documentary','documentary: current affairs', 'comedy', ]\n",
    "    # sorted by generality/frequency\n",
    "    if pd.isnull(x):\n",
    "        # it's a nan, nothing to see here\n",
    "        return x\n",
    "    elif x==\" \":\n",
    "        return np.nan\n",
    "    elif x in q1_categories:\n",
    "        # it's definitely fine\n",
    "        return(x)\n",
    "    elif sum([x == y[0:len(x)] for y in q1_categories])>=1:\n",
    "        # since this data is somewhat subjective, I'm allowing 'greedy matches'\n",
    "        # e.g. 'docu' -> 'documentary', 'c' -> 'current affairs'\n",
    "        return q1_categories[[y[0:len(x)] for y in q1_categories].index(x)]\n",
    "    else:\n",
    "        # should be pretty much nothing reaching here!\n",
    "        return np.nan"
   ]
  },
  {
   "cell_type": "code",
   "execution_count": 81,
   "metadata": {},
   "outputs": [
    {
     "data": {
      "text/plain": [
       "news                            50117\n",
       "daytime                         24206\n",
       "current affairs: politics        5015\n",
       "current affairs                  1381\n",
       "interests                        1373\n",
       "documentary: current affairs      751\n",
       "documentary                       382\n",
       "comedy                             66\n",
       "dtype: int64"
      ]
     },
     "execution_count": 81,
     "metadata": {},
     "output_type": "execute_result"
    }
   ],
   "source": [
    "q1[[x+\"_cat\" for x in q1_base_notnews_cols]] = q1[[x+\"_cat\" for x in q1_base_notnews_cols]].applymap(lambda x:fix_q1_notnews_cat_string(x))\n",
    "q1[[x+\"_cat\" for x in q1_base_notnews_cols]].stack().value_counts()"
   ]
  },
  {
   "cell_type": "code",
   "execution_count": 82,
   "metadata": {},
   "outputs": [
    {
     "data": {
      "text/plain": [
       "bbc1|regional news and weather                    14155\n",
       "bbc1|bbc news                                     10114\n",
       "bbc1|breakfast                                     8471\n",
       "bbc1|bbc news at ten                               6488\n",
       "bbc1|bbc news at six                               4958\n",
       "                                                  ...  \n",
       "itv1|johnson v corbyn: the itv de                     1\n",
       "bbc1|brexit                                           1\n",
       "itv1|party election broadcas                          1\n",
       "itv1|the leader interviews: jeremy corbyn - to        1\n",
       "channel 4|party ele                                   1\n",
       "Length: 337, dtype: int64"
      ]
     },
     "execution_count": 82,
     "metadata": {},
     "output_type": "execute_result"
    }
   ],
   "source": [
    "q1[[x+\"_prog\" for x in q1_base_notnews_cols]].stack().value_counts()"
   ]
  },
  {
   "cell_type": "code",
   "execution_count": 83,
   "metadata": {},
   "outputs": [
    {
     "data": {
      "text/plain": [
       "bbc1|regional news and weather                                                 14144\n",
       "bbc1|bbc news                                                                  10108\n",
       "bbc1|breakfast                                                                  8471\n",
       "bbc1|bbc news at ten                                                            6484\n",
       "bbc1|bbc news at six                                                            4956\n",
       "                                                                               ...  \n",
       "itv1|on assignment                                                                 9\n",
       "bbc2|your questions answered: nigel farage                                         8\n",
       "bbc2|your questions answered: green party                                          8\n",
       "channel 5|party election broadcast on behalf of the scottish national party        7\n",
       "channel 5|party election broadcast on behalf of the brexit party                   5\n",
       "Length: 79, dtype: int64"
      ]
     },
     "execution_count": 83,
     "metadata": {},
     "output_type": "execute_result"
    }
   ],
   "source": [
    "temp = q1[q1_base_notnews_cols].applymap(lambda x: \"|\".join(x.split(\"|\")[1:3]) if pd.notnull(x) and len(x.split(\"|\"))==4 else np.nan)\n",
    "temp.columns = [x+\"_prog\" for x in q1_base_notnews_cols]\n",
    "channel_prog_pairs_notnews_vc = temp.stack().value_counts()\n",
    "channel_prog_pairs_notnews_vc\n",
    "# 79"
   ]
  },
  {
   "cell_type": "code",
   "execution_count": 84,
   "metadata": {},
   "outputs": [
    {
     "data": {
      "text/plain": [
       "bbcnews24|bbc news                            3034\n",
       "skynews|press preview                         1858\n",
       "skynews|all out politics                      1335\n",
       "bbcnews24|the papers                          1301\n",
       "skynews|sky news                              1245\n",
       "                                              ... \n",
       "bbcnews24|through the lens: untold stories       2\n",
       "bbcnews24|off air                                2\n",
       "bbcnews24|rivals - america's endgame             2\n",
       "bbcnews24|turner prize                           1\n",
       "bbcnews24|the firing line                        1\n",
       "Length: 63, dtype: int64"
      ]
     },
     "execution_count": 84,
     "metadata": {},
     "output_type": "execute_result"
    }
   ],
   "source": [
    "temp = q1[q1_base_news_cols].applymap(lambda x: \"|\".join(x.split(\"|\")[1:3]) if pd.notnull(x) and len(x.split(\"|\"))==4 else np.nan)\n",
    "temp.columns = [x+\"_prog\" for x in q1_base_news_cols]\n",
    "channel_prog_pairs_news_vc = temp.stack().value_counts()\n",
    "channel_prog_pairs_news_vc\n",
    "# 63"
   ]
  },
  {
   "cell_type": "code",
   "execution_count": 85,
   "metadata": {},
   "outputs": [],
   "source": [
    "def fix_q1_notnews_chan_prog_string(x):\n",
    "    q1_chan_prog_pairs = ['bbc1|regional news and weather', 'bbc1|bbc news', 'bbc1|breakfast', 'bbc1|bbc news at ten', 'bbc1|bbc news at six', 'itv1|regional news and weather', 'bbc1|bbc news at one', 'itv1|itv evening news', 'channel 4|channel 4 news', 'itv1|good morning britain', 'itv1|itv news', 'bbc2|newsnight', 'bbc1|the one show', 'bbc2|politics live', 'bbc1|the andrew neil interviews', 'itv1|itv lunchtime news', 'itv1|itv news at ten', 'bbc1|question time', 'bbc1|question time leaders special', 'itv1|johnson v corbyn: the itv debate', 'itv1|loose women', 'itv1|lorraine', 'bbc1|the prime ministerial debate', 'bbc2|bbc newsroom live', 'bbc2|victoria derbyshire', 'channel 4|party election broadcast', 'bbc1|the bbc election debate', 'channel 4|channel 4 news summary', 'channel 5|jeremy vine', 'itv1|the itv election debate', 'bbc1|party election broadcast by the labour party', 'bbc1|party election broadcast by the conservative party', 'bbc1|question time election special - under 30s', 'itv1|party election broadcast by the liberal democrats', 'itv1|party election broadcast by the labour party', 'bbc1|party election broadcast by the liberal democrats', 'itv1|party election broadcast by the brexit party', 'itv1|party election broadcast by the conservative party', 'bbc1|brexitcast', 'bbc2|bbc news at nine', 'bbc1|the prince and the epstein scandal - panorama', 'channel 5|5 news at 5', 'itv1|the leader interviews: jeremy corbyn - tonight', 'itv1|party election broadcast by the green party', 'itv1|the itv election interviews', 'itv1|the leader interviews: boris johnson - tonight', 'itv1|peston', 'bbc2|the andrew neil show', 'bbc2|bbc news at 9', 'itv1|the leader interviews: nigel farage - tonight', 'channel 4|channel 4 news climate debate', 'channel 5|5 news tonight', 'itv1|the leader interviews: tonight', 'bbc1|party election broadcast by the green party', 'itv1|the leader interviews: jo swinson - tonight', 'bbc1|party election broadcast by the brexit party', 'channel 5|5 news weekend', 'bbc1|panorama', 'bbc2|mock the week', 'bbc1|ask the leaders', 'channel 4|live: britain decides - the everything but brexit debate', 'bbc2|the one show', 'bbc1|the richard dimbleby lecture 2019', 'channel 5|5 news lunchtime', 'bbc1|universal credit: one year on - panorama', 'bbc1|bbc london', 'channel 5|5 news', 'bbc2|victoria derbyshire: your election', 'channel 5|party election broadcast on behalf of plaid cymru', 'channel 5|party election broadcast on behalf of the labour party', 'bbc2|your questions answered', 'channel 5|party election broadcast on behalf of the conservative party', 'itv1|on assignment', 'channel 5|party election broadcast on behalf of the liberal democrats', 'channel 5|party election broadcast on behalf of the green party', 'bbc2|your questions answered: nigel farage', 'bbc2|your questions answered: green party', 'channel 5|party election broadcast on behalf of the scottish national party', 'channel 5|party election broadcast on behalf of the brexit party']\n",
    "    # sorted by frequency\n",
    "    q1_chan_prog_generic_dict = {\"itv1|the leader interviews: \":\"the leader interviews(amb)\",\n",
    "                                 \"bbc1|party election broadcast by the \":\"party election broadcast(amb)\",\n",
    "                                 \"itv1|party election broadcast by the \":\"party election broadcast(amb)\",\n",
    "                                 \"channel 5|party election broadcast on behalf of the \":\"party election broadcast(amb)\",\n",
    "                                 \"itv1|itv news\":\"itv news(amb)\",\n",
    "                                 'bbc1|bbc news at ':\"bbc news(amb)\",                                 \n",
    "                                 'channel 4|channel 4 news':\"channel 4 news(amb)\",\n",
    "                                 'channel 5|5 news':\"channel 5 news(amb)\",\n",
    "                                 'bbc1|question time':'question time(amb)'}\n",
    "    \n",
    "    \n",
    "    q1_chan_prog_generic_keys = list(q1_chan_prog_generic_dict.keys())\n",
    "    # because I wept at the thought of throwing away so many ambiguous cases\n",
    "    if pd.isnull(x):\n",
    "        # it's a nan, nothing to see here\n",
    "        return x\n",
    "    elif x==\" \":\n",
    "        return np.nan\n",
    "    elif x in q1_chan_prog_pairs:\n",
    "        # it's definitely fine\n",
    "        return x.split(\"|\")[1]\n",
    "    elif sum([x == y[0:len(x)] for y in q1_chan_prog_pairs])==1:\n",
    "        # I think we need to stick to unambiguous matches here\n",
    "        # it is *theoretically* possible that we'd be able to disambiguate some of these by including the dates too!\n",
    "        return q1_chan_prog_pairs[[y[0:len(x)] for y in q1_chan_prog_pairs].index(x)].split(\"|\")[1]\n",
    "    elif sum([x == y[0:len(x)] for y in q1_chan_prog_generic_keys])==1:\n",
    "        # because 200+ ambiguous cases seemed too much -> got it down to 42\n",
    "        return q1_chan_prog_generic_dict[q1_chan_prog_generic_keys[[y[0:len(x)] for y in q1_chan_prog_generic_keys].index(x)]]\n",
    "    else:\n",
    "        # should be pretty much nothing reaching here!\n",
    "        return np.nan"
   ]
  },
  {
   "cell_type": "code",
   "execution_count": 86,
   "metadata": {},
   "outputs": [
    {
     "data": {
      "text/plain": [
       "regional news and weather                                            19357\n",
       "bbc news                                                             10114\n",
       "breakfast                                                             8471\n",
       "bbc news at ten                                                       6504\n",
       "bbc news at six                                                       4960\n",
       "                                                                     ...  \n",
       "your questions answered: nigel farage                                    8\n",
       "party election broadcast on behalf of the scottish national party        7\n",
       "party election broadcast on behalf of the brexit party                   5\n",
       "question time(amb)                                                       4\n",
       "channel 5 news(amb)                                                      2\n",
       "Length: 79, dtype: int64"
      ]
     },
     "execution_count": 86,
     "metadata": {},
     "output_type": "execute_result"
    }
   ],
   "source": [
    "q1[[x+\"_prog\" for x in q1_base_notnews_cols]].applymap(lambda x:fix_q1_notnews_chan_prog_string(x)).stack().value_counts()"
   ]
  },
  {
   "cell_type": "code",
   "execution_count": 87,
   "metadata": {},
   "outputs": [
    {
     "data": {
      "text/plain": [
       "28"
      ]
     },
     "execution_count": 87,
     "metadata": {},
     "output_type": "execute_result"
    }
   ],
   "source": [
    "temp = q1[[x+\"_prog\" for x in q1_base_notnews_cols]].applymap(lambda x:fix_q1_notnews_chan_prog_string(x))\n",
    "entries_dropped = (q1[[x+\"_prog\" for x in q1_base_notnews_cols]].stack(dropna=False).notnull() & temp.stack(dropna=False).isnull())\n",
    "entries_dropped.sum()"
   ]
  },
  {
   "cell_type": "code",
   "execution_count": 88,
   "metadata": {},
   "outputs": [
    {
     "data": {
      "text/plain": [
       "itv1|                    11\n",
       "bbc1|                     7\n",
       "bbc1|the                  2\n",
       "bbc1|th                   2\n",
       "bbc2|                     1\n",
       "itv1|the i                1\n",
       "itv1|the itv election     1\n",
       "bbc2|bbc new              1\n",
       "bbc1|the p                1\n",
       "itv1|the itv              1\n",
       "dtype: int64"
      ]
     },
     "execution_count": 88,
     "metadata": {},
     "output_type": "execute_result"
    }
   ],
   "source": [
    "q1[[x+\"_prog\" for x in q1_base_notnews_cols]].stack(dropna=False)[entries_dropped].value_counts().head(60)"
   ]
  },
  {
   "cell_type": "code",
   "execution_count": 89,
   "metadata": {},
   "outputs": [
    {
     "data": {
      "text/plain": [
       "regional news and weather                                            19357\n",
       "bbc news                                                             10114\n",
       "breakfast                                                             8471\n",
       "bbc news at ten                                                       6504\n",
       "bbc news at six                                                       4960\n",
       "                                                                     ...  \n",
       "your questions answered: nigel farage                                    8\n",
       "party election broadcast on behalf of the scottish national party        7\n",
       "party election broadcast on behalf of the brexit party                   5\n",
       "question time(amb)                                                       4\n",
       "channel 5 news(amb)                                                      2\n",
       "Length: 79, dtype: int64"
      ]
     },
     "execution_count": 89,
     "metadata": {},
     "output_type": "execute_result"
    }
   ],
   "source": [
    "q1[[x+\"_prog\" for x in q1_base_notnews_cols]] = q1[[x+\"_prog\" for x in q1_base_notnews_cols]].applymap(lambda x:fix_q1_notnews_chan_prog_string(x))\n",
    "q1[[x+\"_prog\" for x in q1_base_notnews_cols]].stack().value_counts()"
   ]
  },
  {
   "cell_type": "code",
   "execution_count": 90,
   "metadata": {},
   "outputs": [],
   "source": [
    "# # woops!\n",
    "# q1[[x+\"_prog\" for x in q1_base_notnews_cols]] = q1[[x+\"_prog\" for x in q1_base_notnews_cols]].replace(\"bbc1|question time(amb)\",\"question time(amb)\")\n",
    "# q1[[x+\"_prog\" for x in q1_base_notnews_cols]].stack().value_counts()\n"
   ]
  },
  {
   "cell_type": "code",
   "execution_count": null,
   "metadata": {},
   "outputs": [],
   "source": []
  },
  {
   "cell_type": "code",
   "execution_count": 91,
   "metadata": {},
   "outputs": [
    {
     "data": {
      "text/plain": [
       "bbcnews24|bbc news                            3034\n",
       "skynews|press preview                         1858\n",
       "skynews|all out politics                      1335\n",
       "bbcnews24|the papers                          1301\n",
       "skynews|sky news                              1245\n",
       "                                              ... \n",
       "bbcnews24|through the lens: untold stories       2\n",
       "bbcnews24|off air                                2\n",
       "bbcnews24|rivals - america's endgame             2\n",
       "bbcnews24|turner prize                           1\n",
       "bbcnews24|the firing line                        1\n",
       "Length: 63, dtype: int64"
      ]
     },
     "execution_count": 91,
     "metadata": {},
     "output_type": "execute_result"
    }
   ],
   "source": [
    "channel_prog_pairs_news_vc"
   ]
  },
  {
   "cell_type": "code",
   "execution_count": 92,
   "metadata": {},
   "outputs": [],
   "source": [
    "# list(channel_prog_pairs_news_vc.index)"
   ]
  },
  {
   "cell_type": "code",
   "execution_count": 93,
   "metadata": {},
   "outputs": [],
   "source": [
    "def fix_q1_news_chan_prog_string(x):\n",
    "    q1_chan_prog_pairs = ['bbcnews24|bbc news', 'skynews|press preview', 'skynews|all out politics', 'bbcnews24|the papers', 'skynews|sky news', 'skynews|sky news at ten', 'bbcnews24|breakfast', 'skynews|kay burley @breakfast', 'bbcnews24|bbc news at six', 'skynews|sky news tonight', 'bbcnews24|afternoon live', 'bbcnews24|bbc news at one', 'bbcnews24|bbc newsroom live', 'bbcnews24|bbc news at ten', 'skynews|sophy ridge on sunday', 'skynews|the sarah-jane mee show', 'bbcnews24|victoria derbyshire', 'bbcnews24|bbc news at nine', 'skynews|lunchtime live', 'bbcnews24|beyond 100 days', 'skynews|sky news @ breakfast', 'skynews|the early rundown', 'bbcnews24|bbc news at five', 'skynews|ian king live', 'skynews|sky news at six', 'skynews|the campaign', 'bbcnews24|sportsday', 'bbcnews24|electioncast', 'skynews|sky news at 11', 'skynews|path to power', 'skynews|@ breakfast', 'skynews|the news hour with mark austin', 'bbcnews24|outside source', 'bbcnews24|world news today', 'bbcnews24|worklife', 'skynews|sophy ridge: the take', 'skynews|sky news with sarah hewson', 'bbcnews24|dateline london', 'bbcnews24|click', 'skynews|sky news including fyi', 'skynews|a week in interviews', 'skynews|sky news at 11 with anna botting', 'bbcnews24|the film review', 'bbcnews24|brexitcast', 'bbcnews24|the travel show', 'skynews|news on the hour', 'skynews|sportsline', 'skynews|the pledge', 'bbcnews24|newswatch', 'skynews|fox news @ 9', 'bbcnews24|our world', \"skynews|pmq's\", 'bbcnews24|talking movies', 'bbcnews24|witness history', 'bbcnews24|election 2019: scotland', \"bbcnews24|britain's care scandal exposed\", 'bbcnews24|the real derry girls', 'bbcnews24|macedonia: more than a name', \"bbcnews24|rivals - america's endgame\", 'bbcnews24|through the lens: untold stories', 'bbcnews24|off air', 'bbcnews24|the firing line', 'bbcnews24|turner prize']\n",
    "    # sorted by frequency\n",
    "    q1_chan_prog_generic_dict = {\"bbcnews24|bbc news at \":\"bbc news(amb)\",\n",
    "                                 \"skynews|sky news at \":\"sky news(amb)\",\n",
    "                                }\n",
    "    \n",
    "    q1_chan_prog_generic_keys = list(q1_chan_prog_generic_dict.keys())\n",
    "    # because I wept at the thought of throwing away so many ambiguous cases\n",
    "    if pd.isnull(x):\n",
    "        # it's a nan, nothing to see here\n",
    "        return x\n",
    "    elif x==\" \":\n",
    "        return np.nan\n",
    "    elif x in q1_chan_prog_pairs:\n",
    "        # it's definitely fine\n",
    "        return x.split(\"|\")[1]\n",
    "    elif sum([x == y[0:len(x)] for y in q1_chan_prog_pairs])==1:\n",
    "        # I think we need to stick to unambiguous matches here\n",
    "        # it is *theoretically* possible that we'd be able to disambiguate some of these by including the dates too!\n",
    "        return q1_chan_prog_pairs[[y[0:len(x)] for y in q1_chan_prog_pairs].index(x)].split(\"|\")[1]\n",
    "    elif sum([x == y[0:len(x)] for y in q1_chan_prog_generic_keys])==1:\n",
    "        # because 50+ ambiguous cases seemed too much -> got it down to 4\n",
    "        return q1_chan_prog_generic_dict[q1_chan_prog_generic_keys[[y[0:len(x)] for y in q1_chan_prog_generic_keys].index(x)]]\n",
    "    else:\n",
    "        # should be pretty much nothing reaching here!\n",
    "        return np.nan"
   ]
  },
  {
   "cell_type": "code",
   "execution_count": 94,
   "metadata": {},
   "outputs": [
    {
     "data": {
      "text/plain": [
       "bbc news                            3037\n",
       "press preview                       1871\n",
       "all out politics                    1336\n",
       "the papers                          1306\n",
       "sky news                            1247\n",
       "                                    ... \n",
       "through the lens: untold stories       2\n",
       "rivals - america's endgame             2\n",
       "off air                                2\n",
       "the firing line                        1\n",
       "turner prize                           1\n",
       "Length: 65, dtype: int64"
      ]
     },
     "execution_count": 94,
     "metadata": {},
     "output_type": "execute_result"
    }
   ],
   "source": [
    "q1[[x+\"_prog\" for x in q1_base_news_cols]].applymap(lambda x:fix_q1_news_chan_prog_string(x)).stack().value_counts()"
   ]
  },
  {
   "cell_type": "code",
   "execution_count": 95,
   "metadata": {},
   "outputs": [
    {
     "data": {
      "text/plain": [
       "5"
      ]
     },
     "execution_count": 95,
     "metadata": {},
     "output_type": "execute_result"
    }
   ],
   "source": [
    "temp = q1[[x+\"_prog\" for x in q1_base_news_cols]].applymap(lambda x:fix_q1_news_chan_prog_string(x))\n",
    "entries_dropped = (q1[[x+\"_prog\" for x in q1_base_news_cols]].stack(dropna=False).notnull() & temp.stack(dropna=False).isnull())\n",
    "entries_dropped.sum()"
   ]
  },
  {
   "cell_type": "code",
   "execution_count": 96,
   "metadata": {},
   "outputs": [
    {
     "data": {
      "text/plain": [
       "bbcnews24|th         2\n",
       "skynews|the          1\n",
       "bbcnews24|the        1\n",
       "skynews|sophy rid    1\n",
       "dtype: int64"
      ]
     },
     "execution_count": 96,
     "metadata": {},
     "output_type": "execute_result"
    }
   ],
   "source": [
    "q1[[x+\"_prog\" for x in q1_base_news_cols]].stack(dropna=False)[entries_dropped].value_counts().head(60)"
   ]
  },
  {
   "cell_type": "code",
   "execution_count": 97,
   "metadata": {},
   "outputs": [
    {
     "data": {
      "text/plain": [
       "bbc news                            3037\n",
       "press preview                       1871\n",
       "all out politics                    1336\n",
       "the papers                          1306\n",
       "sky news                            1247\n",
       "                                    ... \n",
       "through the lens: untold stories       2\n",
       "rivals - america's endgame             2\n",
       "off air                                2\n",
       "the firing line                        1\n",
       "turner prize                           1\n",
       "Length: 65, dtype: int64"
      ]
     },
     "execution_count": 97,
     "metadata": {},
     "output_type": "execute_result"
    }
   ],
   "source": [
    "q1[[x+\"_prog\" for x in q1_base_news_cols]] = q1[[x+\"_prog\" for x in q1_base_news_cols]].applymap(lambda x:fix_q1_news_chan_prog_string(x))\n",
    "q1[[x+\"_prog\" for x in q1_base_news_cols]].stack().value_counts()"
   ]
  },
  {
   "cell_type": "code",
   "execution_count": 98,
   "metadata": {},
   "outputs": [],
   "source": [
    "### q1 stuff ... almost done!\n",
    "\n",
    "def turn_datestrings_to_dates(x):\n",
    "    if pd.isnull(x):\n",
    "        return pd.NaT\n",
    "    elif len(x)==11:\n",
    "        dstr = list(x)\n",
    "        dstr.insert(8,\"0\")\n",
    "        dstr = \"\".join(dstr)\n",
    "        return pd.to_datetime(dstr,format='%Y%m%d%H%M')\n",
    "    else:\n",
    "        return pd.to_datetime(x,format='%Y%m%d%H%M')\n",
    "\n",
    "        "
   ]
  },
  {
   "cell_type": "code",
   "execution_count": 99,
   "metadata": {},
   "outputs": [],
   "source": [
    "# slowish ~ 1 min - could speed up by prepping columns and processing all at once\n",
    "temp = q1[[x+\"_dt\" for x in q1_base_cols]].applymap( lambda x: turn_datestrings_to_dates(x) )"
   ]
  },
  {
   "cell_type": "code",
   "execution_count": 100,
   "metadata": {},
   "outputs": [
    {
     "data": {
      "text/plain": [
       "2019-11-17 23:00:00    1\n",
       "2019-11-22 22:40:00    1\n",
       "2019-11-23 22:30:00    1\n",
       "2019-11-29 23:30:00    1\n",
       "2019-11-30 17:00:00    1\n",
       "2019-12-02 21:00:00    1\n",
       "2019-12-08 13:00:00    1\n",
       "2019-12-11 18:00:00    1\n",
       "Name: q1_today_newsW18_7_dt, dtype: int64"
      ]
     },
     "execution_count": 100,
     "metadata": {},
     "output_type": "execute_result"
    }
   ],
   "source": [
    "temp[\"q1_today_newsW18_7_dt\"].value_counts().sort_index()"
   ]
  },
  {
   "cell_type": "code",
   "execution_count": 101,
   "metadata": {},
   "outputs": [],
   "source": [
    "q1[[x+\"_dt\" for x in q1_base_cols]] = q1[[x+\"_dt\" for x in q1_base_cols]].applymap( lambda x: turn_datestrings_to_dates(x) )"
   ]
  },
  {
   "cell_type": "code",
   "execution_count": 102,
   "metadata": {},
   "outputs": [
    {
     "data": {
      "text/html": [
       "<div>\n",
       "<style scoped>\n",
       "    .dataframe tbody tr th:only-of-type {\n",
       "        vertical-align: middle;\n",
       "    }\n",
       "\n",
       "    .dataframe tbody tr th {\n",
       "        vertical-align: top;\n",
       "    }\n",
       "\n",
       "    .dataframe thead th {\n",
       "        text-align: right;\n",
       "    }\n",
       "</style>\n",
       "<table border=\"1\" class=\"dataframe\">\n",
       "  <thead>\n",
       "    <tr style=\"text-align: right;\">\n",
       "      <th></th>\n",
       "      <th>q1_before_yesterdayW18_1</th>\n",
       "      <th>q1_before_yesterdayW18_2</th>\n",
       "      <th>q1_before_yesterdayW18_3</th>\n",
       "      <th>q1_before_yesterdayW18_4</th>\n",
       "      <th>q1_before_yesterdayW18_5</th>\n",
       "      <th>q1_before_yesterdayW18_6</th>\n",
       "      <th>q1_before_yesterdayW18_7</th>\n",
       "      <th>q1_before_yesterday_newsW18_1</th>\n",
       "      <th>q1_before_yesterday_newsW18_2</th>\n",
       "      <th>q1_before_yesterday_newsW18_3</th>\n",
       "      <th>...</th>\n",
       "      <th>q1_todayW18_5_cat</th>\n",
       "      <th>q1_todayW18_6_cat</th>\n",
       "      <th>q1_todayW18_7_cat</th>\n",
       "      <th>q1_today_newsW18_1_cat</th>\n",
       "      <th>q1_today_newsW18_2_cat</th>\n",
       "      <th>q1_today_newsW18_3_cat</th>\n",
       "      <th>q1_today_newsW18_4_cat</th>\n",
       "      <th>q1_today_newsW18_5_cat</th>\n",
       "      <th>q1_today_newsW18_6_cat</th>\n",
       "      <th>q1_today_newsW18_7_cat</th>\n",
       "    </tr>\n",
       "    <tr>\n",
       "      <th>id</th>\n",
       "      <th></th>\n",
       "      <th></th>\n",
       "      <th></th>\n",
       "      <th></th>\n",
       "      <th></th>\n",
       "      <th></th>\n",
       "      <th></th>\n",
       "      <th></th>\n",
       "      <th></th>\n",
       "      <th></th>\n",
       "      <th></th>\n",
       "      <th></th>\n",
       "      <th></th>\n",
       "      <th></th>\n",
       "      <th></th>\n",
       "      <th></th>\n",
       "      <th></th>\n",
       "      <th></th>\n",
       "      <th></th>\n",
       "      <th></th>\n",
       "      <th></th>\n",
       "    </tr>\n",
       "  </thead>\n",
       "  <tbody>\n",
       "    <tr>\n",
       "      <th>9</th>\n",
       "      <td>201912041800|bbc1|bbc news|news</td>\n",
       "      <td>NaN</td>\n",
       "      <td>NaN</td>\n",
       "      <td>NaN</td>\n",
       "      <td>NaN</td>\n",
       "      <td>NaN</td>\n",
       "      <td>NaN</td>\n",
       "      <td>NaN</td>\n",
       "      <td>NaN</td>\n",
       "      <td>NaN</td>\n",
       "      <td>...</td>\n",
       "      <td>NaN</td>\n",
       "      <td>NaN</td>\n",
       "      <td>NaN</td>\n",
       "      <td>NaN</td>\n",
       "      <td>NaN</td>\n",
       "      <td>NaN</td>\n",
       "      <td>NaN</td>\n",
       "      <td>NaN</td>\n",
       "      <td>NaN</td>\n",
       "      <td>NaN</td>\n",
       "    </tr>\n",
       "    <tr>\n",
       "      <th>11</th>\n",
       "      <td>201911291900|bbc1|the bbc election debate|news</td>\n",
       "      <td>201911292200|bbc1|bbc news at ten|news</td>\n",
       "      <td>NaN</td>\n",
       "      <td>NaN</td>\n",
       "      <td>NaN</td>\n",
       "      <td>NaN</td>\n",
       "      <td>NaN</td>\n",
       "      <td>NaN</td>\n",
       "      <td>NaN</td>\n",
       "      <td>NaN</td>\n",
       "      <td>...</td>\n",
       "      <td>NaN</td>\n",
       "      <td>NaN</td>\n",
       "      <td>NaN</td>\n",
       "      <td>NaN</td>\n",
       "      <td>NaN</td>\n",
       "      <td>NaN</td>\n",
       "      <td>NaN</td>\n",
       "      <td>NaN</td>\n",
       "      <td>NaN</td>\n",
       "      <td>NaN</td>\n",
       "    </tr>\n",
       "    <tr>\n",
       "      <th>13</th>\n",
       "      <td>20191209600|bbc1|breakfast|daytime</td>\n",
       "      <td>201912092200|bbc1|bbc news at ten|news</td>\n",
       "      <td>201912092230|itv1|regional news and weather|news</td>\n",
       "      <td>201912091800|itv1|regional news and weather|news</td>\n",
       "      <td>NaN</td>\n",
       "      <td>NaN</td>\n",
       "      <td>NaN</td>\n",
       "      <td>201912091900|skynews|sky news tonight|news</td>\n",
       "      <td>20191209600|bbcnews24|breakfast|news</td>\n",
       "      <td>201912092000|bbcnews24|bbc news|news</td>\n",
       "      <td>...</td>\n",
       "      <td>NaN</td>\n",
       "      <td>NaN</td>\n",
       "      <td>NaN</td>\n",
       "      <td>NaN</td>\n",
       "      <td>NaN</td>\n",
       "      <td>NaN</td>\n",
       "      <td>NaN</td>\n",
       "      <td>NaN</td>\n",
       "      <td>NaN</td>\n",
       "      <td>NaN</td>\n",
       "    </tr>\n",
       "    <tr>\n",
       "      <th>14</th>\n",
       "      <td>NaN</td>\n",
       "      <td>NaN</td>\n",
       "      <td>NaN</td>\n",
       "      <td>NaN</td>\n",
       "      <td>NaN</td>\n",
       "      <td>NaN</td>\n",
       "      <td>NaN</td>\n",
       "      <td>201912011000|skynews|sky news|news</td>\n",
       "      <td>NaN</td>\n",
       "      <td>NaN</td>\n",
       "      <td>...</td>\n",
       "      <td>NaN</td>\n",
       "      <td>NaN</td>\n",
       "      <td>NaN</td>\n",
       "      <td>news</td>\n",
       "      <td>NaN</td>\n",
       "      <td>NaN</td>\n",
       "      <td>NaN</td>\n",
       "      <td>NaN</td>\n",
       "      <td>NaN</td>\n",
       "      <td>NaN</td>\n",
       "    </tr>\n",
       "    <tr>\n",
       "      <th>23</th>\n",
       "      <td>201911221900|bbc1|question time leaders specia...</td>\n",
       "      <td>201911222200|bbc1|bbc news at ten|news</td>\n",
       "      <td>201911221300|bbc1|bbc news at one|daytime</td>\n",
       "      <td>201911221330|bbc1|regional news and weather|da...</td>\n",
       "      <td>NaN</td>\n",
       "      <td>NaN</td>\n",
       "      <td>NaN</td>\n",
       "      <td>201911220600|bbcnews24|breakfast|news</td>\n",
       "      <td>NaN</td>\n",
       "      <td>NaN</td>\n",
       "      <td>...</td>\n",
       "      <td>NaN</td>\n",
       "      <td>NaN</td>\n",
       "      <td>NaN</td>\n",
       "      <td>news</td>\n",
       "      <td>NaN</td>\n",
       "      <td>NaN</td>\n",
       "      <td>NaN</td>\n",
       "      <td>NaN</td>\n",
       "      <td>NaN</td>\n",
       "      <td>NaN</td>\n",
       "    </tr>\n",
       "    <tr>\n",
       "      <th>...</th>\n",
       "      <td>...</td>\n",
       "      <td>...</td>\n",
       "      <td>...</td>\n",
       "      <td>...</td>\n",
       "      <td>...</td>\n",
       "      <td>...</td>\n",
       "      <td>...</td>\n",
       "      <td>...</td>\n",
       "      <td>...</td>\n",
       "      <td>...</td>\n",
       "      <td>...</td>\n",
       "      <td>...</td>\n",
       "      <td>...</td>\n",
       "      <td>...</td>\n",
       "      <td>...</td>\n",
       "      <td>...</td>\n",
       "      <td>...</td>\n",
       "      <td>...</td>\n",
       "      <td>...</td>\n",
       "      <td>...</td>\n",
       "      <td>...</td>\n",
       "    </tr>\n",
       "    <tr>\n",
       "      <th>98327</th>\n",
       "      <td>201912012200|bbc1|bbc news|news</td>\n",
       "      <td>201912011900|itv1|the itv election debate|curr...</td>\n",
       "      <td>NaN</td>\n",
       "      <td>NaN</td>\n",
       "      <td>NaN</td>\n",
       "      <td>NaN</td>\n",
       "      <td>NaN</td>\n",
       "      <td>201912010600|skynews|sky news @ breakfast|news</td>\n",
       "      <td>201912010830|skynews|sophy ridge on sunday|news</td>\n",
       "      <td>201912010930|bbcnews24|the papers|news</td>\n",
       "      <td>...</td>\n",
       "      <td>NaN</td>\n",
       "      <td>NaN</td>\n",
       "      <td>NaN</td>\n",
       "      <td>news</td>\n",
       "      <td>news</td>\n",
       "      <td>NaN</td>\n",
       "      <td>NaN</td>\n",
       "      <td>NaN</td>\n",
       "      <td>NaN</td>\n",
       "      <td>NaN</td>\n",
       "    </tr>\n",
       "    <tr>\n",
       "      <th>98332</th>\n",
       "      <td>NaN</td>\n",
       "      <td>NaN</td>\n",
       "      <td>NaN</td>\n",
       "      <td>NaN</td>\n",
       "      <td>NaN</td>\n",
       "      <td>NaN</td>\n",
       "      <td>NaN</td>\n",
       "      <td>201911160600|bbcnews24|breakfast|news</td>\n",
       "      <td>201911161300|bbcnews24|bbc news|news</td>\n",
       "      <td>201911162200|bbcnews24|bbc news|news</td>\n",
       "      <td>...</td>\n",
       "      <td>NaN</td>\n",
       "      <td>NaN</td>\n",
       "      <td>NaN</td>\n",
       "      <td>news</td>\n",
       "      <td>news</td>\n",
       "      <td>news</td>\n",
       "      <td>news</td>\n",
       "      <td>NaN</td>\n",
       "      <td>NaN</td>\n",
       "      <td>NaN</td>\n",
       "    </tr>\n",
       "    <tr>\n",
       "      <th>98333</th>\n",
       "      <td>NaN</td>\n",
       "      <td>NaN</td>\n",
       "      <td>NaN</td>\n",
       "      <td>NaN</td>\n",
       "      <td>NaN</td>\n",
       "      <td>NaN</td>\n",
       "      <td>NaN</td>\n",
       "      <td>201911122200|bbcnews24|bbc news at ten|news</td>\n",
       "      <td>201911121800|bbcnews24|bbc news at six|news</td>\n",
       "      <td>201911122245|bbcnews24|the papers|news</td>\n",
       "      <td>...</td>\n",
       "      <td>NaN</td>\n",
       "      <td>NaN</td>\n",
       "      <td>NaN</td>\n",
       "      <td>news</td>\n",
       "      <td>news</td>\n",
       "      <td>news</td>\n",
       "      <td>NaN</td>\n",
       "      <td>NaN</td>\n",
       "      <td>NaN</td>\n",
       "      <td>NaN</td>\n",
       "    </tr>\n",
       "    <tr>\n",
       "      <th>98339</th>\n",
       "      <td>201911122200|bbc1|bbc news at ten|news</td>\n",
       "      <td>NaN</td>\n",
       "      <td>NaN</td>\n",
       "      <td>NaN</td>\n",
       "      <td>NaN</td>\n",
       "      <td>NaN</td>\n",
       "      <td>NaN</td>\n",
       "      <td>NaN</td>\n",
       "      <td>NaN</td>\n",
       "      <td>NaN</td>\n",
       "      <td>...</td>\n",
       "      <td>NaN</td>\n",
       "      <td>NaN</td>\n",
       "      <td>NaN</td>\n",
       "      <td>NaN</td>\n",
       "      <td>NaN</td>\n",
       "      <td>NaN</td>\n",
       "      <td>NaN</td>\n",
       "      <td>NaN</td>\n",
       "      <td>NaN</td>\n",
       "      <td>NaN</td>\n",
       "    </tr>\n",
       "    <tr>\n",
       "      <th>98343</th>\n",
       "      <td>201911181800|bbc1|bbc news|news</td>\n",
       "      <td>201911182200|bbc1|bbc news at ten|news</td>\n",
       "      <td>201911181830|bbc1|regional news and weather|news</td>\n",
       "      <td>NaN</td>\n",
       "      <td>NaN</td>\n",
       "      <td>NaN</td>\n",
       "      <td>NaN</td>\n",
       "      <td>NaN</td>\n",
       "      <td>NaN</td>\n",
       "      <td>NaN</td>\n",
       "      <td>...</td>\n",
       "      <td>NaN</td>\n",
       "      <td>NaN</td>\n",
       "      <td>NaN</td>\n",
       "      <td>NaN</td>\n",
       "      <td>NaN</td>\n",
       "      <td>NaN</td>\n",
       "      <td>NaN</td>\n",
       "      <td>NaN</td>\n",
       "      <td>NaN</td>\n",
       "      <td>NaN</td>\n",
       "    </tr>\n",
       "  </tbody>\n",
       "</table>\n",
       "<p>20040 rows × 215 columns</p>\n",
       "</div>"
      ],
      "text/plain": [
       "                                q1_before_yesterdayW18_1  \\\n",
       "id                                                         \n",
       "9                        201912041800|bbc1|bbc news|news   \n",
       "11        201911291900|bbc1|the bbc election debate|news   \n",
       "13                    20191209600|bbc1|breakfast|daytime   \n",
       "14                                                   NaN   \n",
       "23     201911221900|bbc1|question time leaders specia...   \n",
       "...                                                  ...   \n",
       "98327                    201912012200|bbc1|bbc news|news   \n",
       "98332                                                NaN   \n",
       "98333                                                NaN   \n",
       "98339             201911122200|bbc1|bbc news at ten|news   \n",
       "98343                    201911181800|bbc1|bbc news|news   \n",
       "\n",
       "                                q1_before_yesterdayW18_2  \\\n",
       "id                                                         \n",
       "9                                                    NaN   \n",
       "11                201911292200|bbc1|bbc news at ten|news   \n",
       "13                201912092200|bbc1|bbc news at ten|news   \n",
       "14                                                   NaN   \n",
       "23                201911222200|bbc1|bbc news at ten|news   \n",
       "...                                                  ...   \n",
       "98327  201912011900|itv1|the itv election debate|curr...   \n",
       "98332                                                NaN   \n",
       "98333                                                NaN   \n",
       "98339                                                NaN   \n",
       "98343             201911182200|bbc1|bbc news at ten|news   \n",
       "\n",
       "                               q1_before_yesterdayW18_3  \\\n",
       "id                                                        \n",
       "9                                                   NaN   \n",
       "11                                                  NaN   \n",
       "13     201912092230|itv1|regional news and weather|news   \n",
       "14                                                  NaN   \n",
       "23            201911221300|bbc1|bbc news at one|daytime   \n",
       "...                                                 ...   \n",
       "98327                                               NaN   \n",
       "98332                                               NaN   \n",
       "98333                                               NaN   \n",
       "98339                                               NaN   \n",
       "98343  201911181830|bbc1|regional news and weather|news   \n",
       "\n",
       "                                q1_before_yesterdayW18_4  \\\n",
       "id                                                         \n",
       "9                                                    NaN   \n",
       "11                                                   NaN   \n",
       "13      201912091800|itv1|regional news and weather|news   \n",
       "14                                                   NaN   \n",
       "23     201911221330|bbc1|regional news and weather|da...   \n",
       "...                                                  ...   \n",
       "98327                                                NaN   \n",
       "98332                                                NaN   \n",
       "98333                                                NaN   \n",
       "98339                                                NaN   \n",
       "98343                                                NaN   \n",
       "\n",
       "      q1_before_yesterdayW18_5 q1_before_yesterdayW18_6  \\\n",
       "id                                                        \n",
       "9                          NaN                      NaN   \n",
       "11                         NaN                      NaN   \n",
       "13                         NaN                      NaN   \n",
       "14                         NaN                      NaN   \n",
       "23                         NaN                      NaN   \n",
       "...                        ...                      ...   \n",
       "98327                      NaN                      NaN   \n",
       "98332                      NaN                      NaN   \n",
       "98333                      NaN                      NaN   \n",
       "98339                      NaN                      NaN   \n",
       "98343                      NaN                      NaN   \n",
       "\n",
       "      q1_before_yesterdayW18_7  \\\n",
       "id                               \n",
       "9                          NaN   \n",
       "11                         NaN   \n",
       "13                         NaN   \n",
       "14                         NaN   \n",
       "23                         NaN   \n",
       "...                        ...   \n",
       "98327                      NaN   \n",
       "98332                      NaN   \n",
       "98333                      NaN   \n",
       "98339                      NaN   \n",
       "98343                      NaN   \n",
       "\n",
       "                        q1_before_yesterday_newsW18_1  \\\n",
       "id                                                      \n",
       "9                                                 NaN   \n",
       "11                                                NaN   \n",
       "13         201912091900|skynews|sky news tonight|news   \n",
       "14                 201912011000|skynews|sky news|news   \n",
       "23              201911220600|bbcnews24|breakfast|news   \n",
       "...                                               ...   \n",
       "98327  201912010600|skynews|sky news @ breakfast|news   \n",
       "98332           201911160600|bbcnews24|breakfast|news   \n",
       "98333     201911122200|bbcnews24|bbc news at ten|news   \n",
       "98339                                             NaN   \n",
       "98343                                             NaN   \n",
       "\n",
       "                         q1_before_yesterday_newsW18_2  \\\n",
       "id                                                       \n",
       "9                                                  NaN   \n",
       "11                                                 NaN   \n",
       "13                20191209600|bbcnews24|breakfast|news   \n",
       "14                                                 NaN   \n",
       "23                                                 NaN   \n",
       "...                                                ...   \n",
       "98327  201912010830|skynews|sophy ridge on sunday|news   \n",
       "98332             201911161300|bbcnews24|bbc news|news   \n",
       "98333      201911121800|bbcnews24|bbc news at six|news   \n",
       "98339                                              NaN   \n",
       "98343                                              NaN   \n",
       "\n",
       "                q1_before_yesterday_newsW18_3  ... q1_todayW18_5_cat  \\\n",
       "id                                             ...                     \n",
       "9                                         NaN  ...               NaN   \n",
       "11                                        NaN  ...               NaN   \n",
       "13       201912092000|bbcnews24|bbc news|news  ...               NaN   \n",
       "14                                        NaN  ...               NaN   \n",
       "23                                        NaN  ...               NaN   \n",
       "...                                       ...  ...               ...   \n",
       "98327  201912010930|bbcnews24|the papers|news  ...               NaN   \n",
       "98332    201911162200|bbcnews24|bbc news|news  ...               NaN   \n",
       "98333  201911122245|bbcnews24|the papers|news  ...               NaN   \n",
       "98339                                     NaN  ...               NaN   \n",
       "98343                                     NaN  ...               NaN   \n",
       "\n",
       "      q1_todayW18_6_cat q1_todayW18_7_cat q1_today_newsW18_1_cat  \\\n",
       "id                                                                 \n",
       "9                   NaN               NaN                    NaN   \n",
       "11                  NaN               NaN                    NaN   \n",
       "13                  NaN               NaN                    NaN   \n",
       "14                  NaN               NaN                   news   \n",
       "23                  NaN               NaN                   news   \n",
       "...                 ...               ...                    ...   \n",
       "98327               NaN               NaN                   news   \n",
       "98332               NaN               NaN                   news   \n",
       "98333               NaN               NaN                   news   \n",
       "98339               NaN               NaN                    NaN   \n",
       "98343               NaN               NaN                    NaN   \n",
       "\n",
       "      q1_today_newsW18_2_cat q1_today_newsW18_3_cat q1_today_newsW18_4_cat  \\\n",
       "id                                                                           \n",
       "9                        NaN                    NaN                    NaN   \n",
       "11                       NaN                    NaN                    NaN   \n",
       "13                       NaN                    NaN                    NaN   \n",
       "14                       NaN                    NaN                    NaN   \n",
       "23                       NaN                    NaN                    NaN   \n",
       "...                      ...                    ...                    ...   \n",
       "98327                   news                    NaN                    NaN   \n",
       "98332                   news                   news                   news   \n",
       "98333                   news                   news                    NaN   \n",
       "98339                    NaN                    NaN                    NaN   \n",
       "98343                    NaN                    NaN                    NaN   \n",
       "\n",
       "      q1_today_newsW18_5_cat q1_today_newsW18_6_cat q1_today_newsW18_7_cat  \n",
       "id                                                                          \n",
       "9                        NaN                    NaN                    NaN  \n",
       "11                       NaN                    NaN                    NaN  \n",
       "13                       NaN                    NaN                    NaN  \n",
       "14                       NaN                    NaN                    NaN  \n",
       "23                       NaN                    NaN                    NaN  \n",
       "...                      ...                    ...                    ...  \n",
       "98327                    NaN                    NaN                    NaN  \n",
       "98332                    NaN                    NaN                    NaN  \n",
       "98333                    NaN                    NaN                    NaN  \n",
       "98339                    NaN                    NaN                    NaN  \n",
       "98343                    NaN                    NaN                    NaN  \n",
       "\n",
       "[20040 rows x 215 columns]"
      ]
     },
     "execution_count": 102,
     "metadata": {},
     "output_type": "execute_result"
    }
   ],
   "source": [
    "q1.dropna(how='all')"
   ]
  },
  {
   "cell_type": "code",
   "execution_count": 103,
   "metadata": {},
   "outputs": [
    {
     "data": {
      "text/plain": [
       "object            166\n",
       "datetime64[ns]     43\n",
       "float64             6\n",
       "dtype: int64"
      ]
     },
     "execution_count": 103,
     "metadata": {},
     "output_type": "execute_result"
    }
   ],
   "source": [
    "q1.dtypes.value_counts()"
   ]
  },
  {
   "cell_type": "code",
   "execution_count": 104,
   "metadata": {},
   "outputs": [],
   "source": [
    "# drop the completely blank 8th quadruple\n",
    "q1.drop(['q1_yesterday_newsW18_8_dt', 'q1_yesterday_newsW18_8_chan',\n",
    "       'q1_yesterday_newsW18_8_prog',  'q1_yesterday_newsW18_8_cat',  ],axis=1,inplace=True)"
   ]
  },
  {
   "cell_type": "code",
   "execution_count": 105,
   "metadata": {},
   "outputs": [],
   "source": [
    "# what to do about these?\n",
    "# can probably infer these *reasonably* based on most common channel:prog:cat triples\n",
    "\n",
    "\n",
    "#'q1_before_yesterdayW18_7_cat', 'q1_yesterdayW18_7_cat', 'q1_todayW18_7_cat'"
   ]
  },
  {
   "cell_type": "code",
   "execution_count": 106,
   "metadata": {},
   "outputs": [
    {
     "data": {
      "text/html": [
       "['q1_before_yesterdayW18_7_cat', 'q1_yesterdayW18_7_cat', 'q1_todayW18_7_cat']"
      ],
      "text/plain": [
       "['q1_before_yesterdayW18_7_cat', 'q1_yesterdayW18_7_cat', 'q1_todayW18_7_cat']"
      ]
     },
     "execution_count": 106,
     "metadata": {},
     "output_type": "execute_result"
    }
   ],
   "source": [
    "list( q1.columns[ q1.dtypes == 'float64' ] )"
   ]
  },
  {
   "cell_type": "code",
   "execution_count": 107,
   "metadata": {},
   "outputs": [
    {
     "data": {
      "text/plain": [
       "object            166\n",
       "datetime64[ns]     42\n",
       "float64             3\n",
       "dtype: int64"
      ]
     },
     "execution_count": 107,
     "metadata": {},
     "output_type": "execute_result"
    }
   ],
   "source": [
    "q1.dtypes.value_counts()"
   ]
  },
  {
   "cell_type": "code",
   "execution_count": 108,
   "metadata": {},
   "outputs": [],
   "source": [
    "q1[q1.columns[ q1.dtypes!=\"datetime64[ns]\" ]] = q1[q1.columns[ q1.dtypes!=\"datetime64[ns]\" ]].replace(\" \",np.nan).astype('category')"
   ]
  },
  {
   "cell_type": "code",
   "execution_count": 109,
   "metadata": {},
   "outputs": [
    {
     "data": {
      "text/plain": [
       "datetime64[ns]    42\n",
       "category          21\n",
       "category          21\n",
       "category          18\n",
       "category          13\n",
       "                  ..\n",
       "category           1\n",
       "category           1\n",
       "category           1\n",
       "category           1\n",
       "category           1\n",
       "Length: 96, dtype: int64"
      ]
     },
     "execution_count": 109,
     "metadata": {},
     "output_type": "execute_result"
    }
   ],
   "source": [
    "q1.dtypes.value_counts()"
   ]
  },
  {
   "cell_type": "code",
   "execution_count": 110,
   "metadata": {},
   "outputs": [],
   "source": [
    "# replace(\" \",np.nan)\n",
    "# shared categories explicitly defined"
   ]
  },
  {
   "cell_type": "code",
   "execution_count": 111,
   "metadata": {},
   "outputs": [],
   "source": [
    "q1.to_pickle('../BES_analysis_data/W19_comb_strings\\\\q1.zip', compression='zip')"
   ]
  },
  {
   "cell_type": "code",
   "execution_count": 130,
   "metadata": {},
   "outputs": [
    {
     "data": {
      "text/plain": [
       "regional news and weather           19357\n",
       "bbc news                            13151\n",
       "breakfast                            9490\n",
       "bbc news at ten                      7045\n",
       "bbc news at six                      5605\n",
       "                                    ...  \n",
       "off air                                 2\n",
       "through the lens: untold stories        2\n",
       "channel 5 news(amb)                     2\n",
       "turner prize                            1\n",
       "the firing line                         1\n",
       "Length: 134, dtype: int64"
      ]
     },
     "execution_count": 130,
     "metadata": {},
     "output_type": "execute_result"
    }
   ],
   "source": [
    "q1[search(q1,\"_prog\").index].dropna(how='all').stack().value_counts()"
   ]
  },
  {
   "cell_type": "code",
   "execution_count": 170,
   "metadata": {},
   "outputs": [
    {
     "data": {
      "text/html": [
       "<div>\n",
       "<style scoped>\n",
       "    .dataframe tbody tr th:only-of-type {\n",
       "        vertical-align: middle;\n",
       "    }\n",
       "\n",
       "    .dataframe tbody tr th {\n",
       "        vertical-align: top;\n",
       "    }\n",
       "\n",
       "    .dataframe thead th {\n",
       "        text-align: right;\n",
       "    }\n",
       "</style>\n",
       "<table border=\"1\" class=\"dataframe\">\n",
       "  <thead>\n",
       "    <tr style=\"text-align: right;\">\n",
       "      <th></th>\n",
       "      <th>q1_before_yesterdayW18_1_dt</th>\n",
       "      <th>q1_before_yesterdayW18_2_dt</th>\n",
       "      <th>q1_before_yesterdayW18_3_dt</th>\n",
       "      <th>q1_before_yesterdayW18_4_dt</th>\n",
       "      <th>q1_before_yesterdayW18_5_dt</th>\n",
       "      <th>q1_before_yesterdayW18_6_dt</th>\n",
       "      <th>q1_before_yesterdayW18_7_dt</th>\n",
       "      <th>q1_before_yesterday_newsW18_1_dt</th>\n",
       "      <th>q1_before_yesterday_newsW18_2_dt</th>\n",
       "      <th>q1_before_yesterday_newsW18_3_dt</th>\n",
       "      <th>q1_before_yesterday_newsW18_4_dt</th>\n",
       "      <th>q1_before_yesterday_newsW18_5_dt</th>\n",
       "      <th>q1_before_yesterday_newsW18_6_dt</th>\n",
       "      <th>q1_before_yesterday_newsW18_7_dt</th>\n",
       "    </tr>\n",
       "    <tr>\n",
       "      <th>id</th>\n",
       "      <th></th>\n",
       "      <th></th>\n",
       "      <th></th>\n",
       "      <th></th>\n",
       "      <th></th>\n",
       "      <th></th>\n",
       "      <th></th>\n",
       "      <th></th>\n",
       "      <th></th>\n",
       "      <th></th>\n",
       "      <th></th>\n",
       "      <th></th>\n",
       "      <th></th>\n",
       "      <th></th>\n",
       "    </tr>\n",
       "  </thead>\n",
       "  <tbody>\n",
       "    <tr>\n",
       "      <th>1</th>\n",
       "      <td>NaT</td>\n",
       "      <td>NaT</td>\n",
       "      <td>NaT</td>\n",
       "      <td>NaT</td>\n",
       "      <td>NaT</td>\n",
       "      <td>NaT</td>\n",
       "      <td>NaT</td>\n",
       "      <td>NaT</td>\n",
       "      <td>NaT</td>\n",
       "      <td>NaT</td>\n",
       "      <td>NaT</td>\n",
       "      <td>NaT</td>\n",
       "      <td>NaT</td>\n",
       "      <td>NaT</td>\n",
       "    </tr>\n",
       "    <tr>\n",
       "      <th>2</th>\n",
       "      <td>NaT</td>\n",
       "      <td>NaT</td>\n",
       "      <td>NaT</td>\n",
       "      <td>NaT</td>\n",
       "      <td>NaT</td>\n",
       "      <td>NaT</td>\n",
       "      <td>NaT</td>\n",
       "      <td>NaT</td>\n",
       "      <td>NaT</td>\n",
       "      <td>NaT</td>\n",
       "      <td>NaT</td>\n",
       "      <td>NaT</td>\n",
       "      <td>NaT</td>\n",
       "      <td>NaT</td>\n",
       "    </tr>\n",
       "    <tr>\n",
       "      <th>3</th>\n",
       "      <td>NaT</td>\n",
       "      <td>NaT</td>\n",
       "      <td>NaT</td>\n",
       "      <td>NaT</td>\n",
       "      <td>NaT</td>\n",
       "      <td>NaT</td>\n",
       "      <td>NaT</td>\n",
       "      <td>NaT</td>\n",
       "      <td>NaT</td>\n",
       "      <td>NaT</td>\n",
       "      <td>NaT</td>\n",
       "      <td>NaT</td>\n",
       "      <td>NaT</td>\n",
       "      <td>NaT</td>\n",
       "    </tr>\n",
       "    <tr>\n",
       "      <th>4</th>\n",
       "      <td>NaT</td>\n",
       "      <td>NaT</td>\n",
       "      <td>NaT</td>\n",
       "      <td>NaT</td>\n",
       "      <td>NaT</td>\n",
       "      <td>NaT</td>\n",
       "      <td>NaT</td>\n",
       "      <td>NaT</td>\n",
       "      <td>NaT</td>\n",
       "      <td>NaT</td>\n",
       "      <td>NaT</td>\n",
       "      <td>NaT</td>\n",
       "      <td>NaT</td>\n",
       "      <td>NaT</td>\n",
       "    </tr>\n",
       "    <tr>\n",
       "      <th>5</th>\n",
       "      <td>NaT</td>\n",
       "      <td>NaT</td>\n",
       "      <td>NaT</td>\n",
       "      <td>NaT</td>\n",
       "      <td>NaT</td>\n",
       "      <td>NaT</td>\n",
       "      <td>NaT</td>\n",
       "      <td>NaT</td>\n",
       "      <td>NaT</td>\n",
       "      <td>NaT</td>\n",
       "      <td>NaT</td>\n",
       "      <td>NaT</td>\n",
       "      <td>NaT</td>\n",
       "      <td>NaT</td>\n",
       "    </tr>\n",
       "    <tr>\n",
       "      <th>...</th>\n",
       "      <td>...</td>\n",
       "      <td>...</td>\n",
       "      <td>...</td>\n",
       "      <td>...</td>\n",
       "      <td>...</td>\n",
       "      <td>...</td>\n",
       "      <td>...</td>\n",
       "      <td>...</td>\n",
       "      <td>...</td>\n",
       "      <td>...</td>\n",
       "      <td>...</td>\n",
       "      <td>...</td>\n",
       "      <td>...</td>\n",
       "      <td>...</td>\n",
       "    </tr>\n",
       "    <tr>\n",
       "      <th>98447</th>\n",
       "      <td>NaT</td>\n",
       "      <td>NaT</td>\n",
       "      <td>NaT</td>\n",
       "      <td>NaT</td>\n",
       "      <td>NaT</td>\n",
       "      <td>NaT</td>\n",
       "      <td>NaT</td>\n",
       "      <td>NaT</td>\n",
       "      <td>NaT</td>\n",
       "      <td>NaT</td>\n",
       "      <td>NaT</td>\n",
       "      <td>NaT</td>\n",
       "      <td>NaT</td>\n",
       "      <td>NaT</td>\n",
       "    </tr>\n",
       "    <tr>\n",
       "      <th>98448</th>\n",
       "      <td>NaT</td>\n",
       "      <td>NaT</td>\n",
       "      <td>NaT</td>\n",
       "      <td>NaT</td>\n",
       "      <td>NaT</td>\n",
       "      <td>NaT</td>\n",
       "      <td>NaT</td>\n",
       "      <td>NaT</td>\n",
       "      <td>NaT</td>\n",
       "      <td>NaT</td>\n",
       "      <td>NaT</td>\n",
       "      <td>NaT</td>\n",
       "      <td>NaT</td>\n",
       "      <td>NaT</td>\n",
       "    </tr>\n",
       "    <tr>\n",
       "      <th>98449</th>\n",
       "      <td>NaT</td>\n",
       "      <td>NaT</td>\n",
       "      <td>NaT</td>\n",
       "      <td>NaT</td>\n",
       "      <td>NaT</td>\n",
       "      <td>NaT</td>\n",
       "      <td>NaT</td>\n",
       "      <td>NaT</td>\n",
       "      <td>NaT</td>\n",
       "      <td>NaT</td>\n",
       "      <td>NaT</td>\n",
       "      <td>NaT</td>\n",
       "      <td>NaT</td>\n",
       "      <td>NaT</td>\n",
       "    </tr>\n",
       "    <tr>\n",
       "      <th>98450</th>\n",
       "      <td>NaT</td>\n",
       "      <td>NaT</td>\n",
       "      <td>NaT</td>\n",
       "      <td>NaT</td>\n",
       "      <td>NaT</td>\n",
       "      <td>NaT</td>\n",
       "      <td>NaT</td>\n",
       "      <td>NaT</td>\n",
       "      <td>NaT</td>\n",
       "      <td>NaT</td>\n",
       "      <td>NaT</td>\n",
       "      <td>NaT</td>\n",
       "      <td>NaT</td>\n",
       "      <td>NaT</td>\n",
       "    </tr>\n",
       "    <tr>\n",
       "      <th>98451</th>\n",
       "      <td>NaT</td>\n",
       "      <td>NaT</td>\n",
       "      <td>NaT</td>\n",
       "      <td>NaT</td>\n",
       "      <td>NaT</td>\n",
       "      <td>NaT</td>\n",
       "      <td>NaT</td>\n",
       "      <td>NaT</td>\n",
       "      <td>NaT</td>\n",
       "      <td>NaT</td>\n",
       "      <td>NaT</td>\n",
       "      <td>NaT</td>\n",
       "      <td>NaT</td>\n",
       "      <td>NaT</td>\n",
       "    </tr>\n",
       "  </tbody>\n",
       "</table>\n",
       "<p>97006 rows × 14 columns</p>\n",
       "</div>"
      ],
      "text/plain": [
       "      q1_before_yesterdayW18_1_dt q1_before_yesterdayW18_2_dt  \\\n",
       "id                                                              \n",
       "1                             NaT                         NaT   \n",
       "2                             NaT                         NaT   \n",
       "3                             NaT                         NaT   \n",
       "4                             NaT                         NaT   \n",
       "5                             NaT                         NaT   \n",
       "...                           ...                         ...   \n",
       "98447                         NaT                         NaT   \n",
       "98448                         NaT                         NaT   \n",
       "98449                         NaT                         NaT   \n",
       "98450                         NaT                         NaT   \n",
       "98451                         NaT                         NaT   \n",
       "\n",
       "      q1_before_yesterdayW18_3_dt q1_before_yesterdayW18_4_dt  \\\n",
       "id                                                              \n",
       "1                             NaT                         NaT   \n",
       "2                             NaT                         NaT   \n",
       "3                             NaT                         NaT   \n",
       "4                             NaT                         NaT   \n",
       "5                             NaT                         NaT   \n",
       "...                           ...                         ...   \n",
       "98447                         NaT                         NaT   \n",
       "98448                         NaT                         NaT   \n",
       "98449                         NaT                         NaT   \n",
       "98450                         NaT                         NaT   \n",
       "98451                         NaT                         NaT   \n",
       "\n",
       "      q1_before_yesterdayW18_5_dt q1_before_yesterdayW18_6_dt  \\\n",
       "id                                                              \n",
       "1                             NaT                         NaT   \n",
       "2                             NaT                         NaT   \n",
       "3                             NaT                         NaT   \n",
       "4                             NaT                         NaT   \n",
       "5                             NaT                         NaT   \n",
       "...                           ...                         ...   \n",
       "98447                         NaT                         NaT   \n",
       "98448                         NaT                         NaT   \n",
       "98449                         NaT                         NaT   \n",
       "98450                         NaT                         NaT   \n",
       "98451                         NaT                         NaT   \n",
       "\n",
       "      q1_before_yesterdayW18_7_dt q1_before_yesterday_newsW18_1_dt  \\\n",
       "id                                                                   \n",
       "1                             NaT                              NaT   \n",
       "2                             NaT                              NaT   \n",
       "3                             NaT                              NaT   \n",
       "4                             NaT                              NaT   \n",
       "5                             NaT                              NaT   \n",
       "...                           ...                              ...   \n",
       "98447                         NaT                              NaT   \n",
       "98448                         NaT                              NaT   \n",
       "98449                         NaT                              NaT   \n",
       "98450                         NaT                              NaT   \n",
       "98451                         NaT                              NaT   \n",
       "\n",
       "      q1_before_yesterday_newsW18_2_dt q1_before_yesterday_newsW18_3_dt  \\\n",
       "id                                                                        \n",
       "1                                  NaT                              NaT   \n",
       "2                                  NaT                              NaT   \n",
       "3                                  NaT                              NaT   \n",
       "4                                  NaT                              NaT   \n",
       "5                                  NaT                              NaT   \n",
       "...                                ...                              ...   \n",
       "98447                              NaT                              NaT   \n",
       "98448                              NaT                              NaT   \n",
       "98449                              NaT                              NaT   \n",
       "98450                              NaT                              NaT   \n",
       "98451                              NaT                              NaT   \n",
       "\n",
       "      q1_before_yesterday_newsW18_4_dt q1_before_yesterday_newsW18_5_dt  \\\n",
       "id                                                                        \n",
       "1                                  NaT                              NaT   \n",
       "2                                  NaT                              NaT   \n",
       "3                                  NaT                              NaT   \n",
       "4                                  NaT                              NaT   \n",
       "5                                  NaT                              NaT   \n",
       "...                                ...                              ...   \n",
       "98447                              NaT                              NaT   \n",
       "98448                              NaT                              NaT   \n",
       "98449                              NaT                              NaT   \n",
       "98450                              NaT                              NaT   \n",
       "98451                              NaT                              NaT   \n",
       "\n",
       "      q1_before_yesterday_newsW18_6_dt q1_before_yesterday_newsW18_7_dt  \n",
       "id                                                                       \n",
       "1                                  NaT                              NaT  \n",
       "2                                  NaT                              NaT  \n",
       "3                                  NaT                              NaT  \n",
       "4                                  NaT                              NaT  \n",
       "5                                  NaT                              NaT  \n",
       "...                                ...                              ...  \n",
       "98447                              NaT                              NaT  \n",
       "98448                              NaT                              NaT  \n",
       "98449                              NaT                              NaT  \n",
       "98450                              NaT                              NaT  \n",
       "98451                              NaT                              NaT  \n",
       "\n",
       "[97006 rows x 14 columns]"
      ]
     },
     "execution_count": 170,
     "metadata": {},
     "output_type": "execute_result"
    }
   ],
   "source": [
    "q1[search(q1,\"before_yesterday.*_dt\").index]#.dropna(how='any').apply(lambda x: x.dt.day).var(axis=1)#.stack().value_counts()"
   ]
  },
  {
   "cell_type": "code",
   "execution_count": 159,
   "metadata": {},
   "outputs": [],
   "source": [
    "# note - before_yesterday = seems to equal 1 specific day, ditto yesterday, today"
   ]
  },
  {
   "cell_type": "code",
   "execution_count": null,
   "metadata": {},
   "outputs": [],
   "source": [
    "# One last thing - the non-string combined dataset had a set of variables which\n",
    "# really really *look* like they are the corresponding date variables for\n",
    "\n",
    "\n",
    "# xbefore_yesterday_dateW18    59181.0\n",
    "# xtoday_dateW18               59181.0\n",
    "# xyesterday_dateW18           59181.0\n",
    "\n",
    "# these three variables are always consecutive days (i.e. wasteful for storage!)\n",
    "\n",
    "# but do they match up with the q1 variable data?"
   ]
  },
  {
   "cell_type": "code",
   "execution_count": 134,
   "metadata": {},
   "outputs": [
    {
     "data": {
      "text/plain": [
       "37825"
      ]
     },
     "execution_count": 134,
     "metadata": {},
     "output_type": "execute_result"
    }
   ],
   "source": [
    "BES_Panel[\"xbefore_yesterday_dateW18\"].notnull().sum()"
   ]
  },
  {
   "cell_type": "code",
   "execution_count": 163,
   "metadata": {},
   "outputs": [
    {
     "data": {
      "text/plain": [
       "1 days    37825\n",
       "Name: xtoday_dateW18, dtype: int64"
      ]
     },
     "execution_count": 163,
     "metadata": {},
     "output_type": "execute_result"
    }
   ],
   "source": [
    "BES_Panel[[\"xbefore_yesterday_dateW18\",\"xyesterday_dateW18\",\"xtoday_dateW18\"]].dropna(how='any').diff(axis=1)[\"xtoday_dateW18\"].value_counts()"
   ]
  },
  {
   "cell_type": "code",
   "execution_count": 171,
   "metadata": {},
   "outputs": [],
   "source": [
    "test_df = pd.DataFrame()\n",
    "test_df[\"xbefore_yesterday_dateW18\"] = BES_Panel[\"xbefore_yesterday_dateW18\"]\n",
    "test_df[\"q1_before_yesterdayW18_1_dt\"] = q1[\"q1_before_yesterdayW18_1_dt\"] \n",
    "\n",
    "# not missing values in 'xbefore_yesterday_dateW18' not also missing value in 'q1_before_yesterdayW18_1_dt'\n",
    "# but plenty of missing values other way around (also, size of non-null looks about right for full sample of W18)\n",
    "\n",
    "test_df.dropna(how='any').diff(axis=1).apply(lambda x: x.dt.days)[\"q1_before_yesterdayW18_1_dt\"].value_counts()\n",
    "# bingo - same day each time"
   ]
  },
  {
   "cell_type": "code",
   "execution_count": 189,
   "metadata": {},
   "outputs": [
    {
     "data": {
      "text/plain": [
       "0    47483\n",
       "dtype: int64"
      ]
     },
     "execution_count": 189,
     "metadata": {},
     "output_type": "execute_result"
    }
   ],
   "source": [
    "q1[search(q1,\"before_yesterday.*_dt\").index].apply(lambda x: x-BES_Panel[\"xbefore_yesterday_dateW18\"]).dropna(how='all').stack().apply(lambda x: x.days).value_counts()"
   ]
  },
  {
   "cell_type": "code",
   "execution_count": 190,
   "metadata": {},
   "outputs": [
    {
     "data": {
      "text/plain": [
       "0    38906\n",
       "dtype: int64"
      ]
     },
     "execution_count": 190,
     "metadata": {},
     "output_type": "execute_result"
    }
   ],
   "source": [
    "q1[search(q1,\"q1_yesterday.*_dt\").index].apply(lambda x: x-BES_Panel[\"xyesterday_dateW18\"]).dropna(how='all').stack().apply(lambda x: x.days).value_counts()"
   ]
  },
  {
   "cell_type": "code",
   "execution_count": 191,
   "metadata": {
    "scrolled": true
   },
   "outputs": [
    {
     "data": {
      "text/plain": [
       "0    21263\n",
       "dtype: int64"
      ]
     },
     "execution_count": 191,
     "metadata": {},
     "output_type": "execute_result"
    }
   ],
   "source": [
    "q1[search(q1,\"q1_today.*_dt\").index].apply(lambda x: x-BES_Panel[\"xtoday_dateW18\"]).dropna(how='all').stack().apply(lambda x: x.days).value_counts()"
   ]
  },
  {
   "cell_type": "code",
   "execution_count": null,
   "metadata": {},
   "outputs": [],
   "source": [
    "## okay - all days line up perfectly\n",
    "\n",
    "# we actually only need one *date* signifier (or, three, for the convenience of not adding)\n",
    "# date variables can be reduced to 'hour' variables\n",
    "\n",
    "# NOTE - entries are all within same day, but **no guaranteed chronological order** to entries"
   ]
  },
  {
   "cell_type": "code",
   "execution_count": 196,
   "metadata": {},
   "outputs": [
    {
     "data": {
      "text/plain": [
       "id                                     \n",
       "11     q1_todayW18_1_dt                   22:20:00\n",
       "       q1_todayW18_2_dt                   22:00:00\n",
       "       q1_todayW18_3_dt                   19:00:00\n",
       "14     q1_today_newsW18_1_dt              09:00:00\n",
       "23     q1_todayW18_1_dt                   17:05:00\n",
       "                                            ...   \n",
       "98333  q1_before_yesterday_newsW18_3_dt   22:45:00\n",
       "98339  q1_before_yesterdayW18_1_dt        22:00:00\n",
       "98343  q1_before_yesterdayW18_1_dt        18:00:00\n",
       "       q1_before_yesterdayW18_2_dt        22:00:00\n",
       "       q1_before_yesterdayW18_3_dt        18:30:00\n",
       "Length: 68746, dtype: timedelta64[ns]"
      ]
     },
     "execution_count": 196,
     "metadata": {},
     "output_type": "execute_result"
    }
   ],
   "source": [
    "q1[search(q1,\"q1_today.*_dt\").index].apply(lambda x: x-BES_Panel[\"xtoday_dateW18\"]).dropna(how='all').stack().value_counts()\n",
    "\n",
    "# 75 ... not so large a set\n",
    "\n",
    "hrs_list = q1[search(q1,\"q1_today.*_dt\").index].apply(lambda x: x-BES_Panel[\"xtoday_dateW18\"]).dropna(how='all').stack()\n",
    "hrs_list.append( q1[search(q1,\"q1_yesterday.*_dt\").index].apply(lambda x: x-BES_Panel[\"xyesterday_dateW18\"]).dropna(how='all').stack() )\n",
    "hrs_list.append(q1[search(q1,\"before_yesterday.*_dt\").index].apply(lambda x: x-BES_Panel[\"xbefore_yesterday_dateW18\"]).dropna(how='all').stack() )"
   ]
  },
  {
   "cell_type": "code",
   "execution_count": 199,
   "metadata": {},
   "outputs": [
    {
     "data": {
      "text/plain": [
       "06:00:00    4065\n",
       "18:00:00    2539\n",
       "18:30:00    1832\n",
       "22:00:00    1707\n",
       "13:00:00    1396\n",
       "            ... \n",
       "17:50:00       2\n",
       "20:05:00       1\n",
       "22:40:00       1\n",
       "19:10:00       1\n",
       "21:05:00       1\n",
       "Length: 75, dtype: int64"
      ]
     },
     "execution_count": 199,
     "metadata": {},
     "output_type": "execute_result"
    }
   ],
   "source": [
    "hrs_list.value_counts()\n",
    "\n",
    "# still only 75 different hour times (does make it look like there's a pulldown list)"
   ]
  },
  {
   "cell_type": "code",
   "execution_count": null,
   "metadata": {},
   "outputs": [],
   "source": [
    "# replace _dt with _hr? and add three date variables"
   ]
  },
  {
   "cell_type": "code",
   "execution_count": 211,
   "metadata": {},
   "outputs": [],
   "source": [
    "q1[ [x.replace(\"_dt\",\"_hr\") for x in search(q1,\"q1_today.*_dt\").index] ] = q1[search(q1,\"q1_today.*_dt\").index].applymap(lambda x: x.time() if pd.notnull(x) else pd.NaT)"
   ]
  },
  {
   "cell_type": "code",
   "execution_count": 212,
   "metadata": {},
   "outputs": [],
   "source": [
    "q1[ [x.replace(\"_dt\",\"_hr\") for x in search(q1,\"q1_yesterday.*_dt\").index] ] = q1[search(q1,\"q1_yesterday.*_dt\").index].applymap(lambda x: x.time() if pd.notnull(x) else pd.NaT)"
   ]
  },
  {
   "cell_type": "code",
   "execution_count": 213,
   "metadata": {},
   "outputs": [],
   "source": [
    "q1[ [x.replace(\"_dt\",\"_hr\") for x in search(q1,\"q1_before_yesterday.*_dt\").index] ] = q1[search(q1,\"q1_before_yesterday.*_dt\").index].applymap(lambda x: x.time() if pd.notnull(x) else pd.NaT)"
   ]
  },
  {
   "cell_type": "code",
   "execution_count": 220,
   "metadata": {},
   "outputs": [],
   "source": [
    "# xbefore_yesterday_dateW18    59181.0\n",
    "# xtoday_dateW18               59181.0\n",
    "# xyesterday_dateW18           59181.0\n",
    "\n",
    "q1[\"xbefore_yesterday_dateW18\"] = BES_Panel[\"xbefore_yesterday_dateW18\"]\n",
    "q1[\"xtoday_dateW18\"]            = BES_Panel[\"xtoday_dateW18\"]\n",
    "q1[\"xyesterday_dateW18\"]        = BES_Panel[\"xyesterday_dateW18\"]"
   ]
  },
  {
   "cell_type": "code",
   "execution_count": 226,
   "metadata": {},
   "outputs": [],
   "source": [
    "q1.drop([x for x in q1.columns if \"_dt\" in x],axis=1,inplace=True)"
   ]
  },
  {
   "cell_type": "code",
   "execution_count": 229,
   "metadata": {},
   "outputs": [
    {
     "data": {
      "text/html": [
       "<div>\n",
       "<style scoped>\n",
       "    .dataframe tbody tr th:only-of-type {\n",
       "        vertical-align: middle;\n",
       "    }\n",
       "\n",
       "    .dataframe tbody tr th {\n",
       "        vertical-align: top;\n",
       "    }\n",
       "\n",
       "    .dataframe thead th {\n",
       "        text-align: right;\n",
       "    }\n",
       "</style>\n",
       "<table border=\"1\" class=\"dataframe\">\n",
       "  <thead>\n",
       "    <tr style=\"text-align: right;\">\n",
       "      <th></th>\n",
       "      <th>q1_before_yesterdayW18_1</th>\n",
       "      <th>q1_before_yesterdayW18_2</th>\n",
       "      <th>q1_before_yesterdayW18_3</th>\n",
       "      <th>q1_before_yesterdayW18_4</th>\n",
       "      <th>q1_before_yesterdayW18_5</th>\n",
       "      <th>q1_before_yesterdayW18_6</th>\n",
       "      <th>q1_before_yesterdayW18_7</th>\n",
       "      <th>q1_before_yesterday_newsW18_1</th>\n",
       "      <th>q1_before_yesterday_newsW18_2</th>\n",
       "      <th>q1_before_yesterday_newsW18_3</th>\n",
       "      <th>...</th>\n",
       "      <th>q1_before_yesterday_newsW18_1_hr</th>\n",
       "      <th>q1_before_yesterday_newsW18_2_hr</th>\n",
       "      <th>q1_before_yesterday_newsW18_3_hr</th>\n",
       "      <th>q1_before_yesterday_newsW18_4_hr</th>\n",
       "      <th>q1_before_yesterday_newsW18_5_hr</th>\n",
       "      <th>q1_before_yesterday_newsW18_6_hr</th>\n",
       "      <th>q1_before_yesterday_newsW18_7_hr</th>\n",
       "      <th>xbefore_yesterday_dateW18</th>\n",
       "      <th>xtoday_dateW18</th>\n",
       "      <th>xyesterday_dateW18</th>\n",
       "    </tr>\n",
       "    <tr>\n",
       "      <th>id</th>\n",
       "      <th></th>\n",
       "      <th></th>\n",
       "      <th></th>\n",
       "      <th></th>\n",
       "      <th></th>\n",
       "      <th></th>\n",
       "      <th></th>\n",
       "      <th></th>\n",
       "      <th></th>\n",
       "      <th></th>\n",
       "      <th></th>\n",
       "      <th></th>\n",
       "      <th></th>\n",
       "      <th></th>\n",
       "      <th></th>\n",
       "      <th></th>\n",
       "      <th></th>\n",
       "      <th></th>\n",
       "      <th></th>\n",
       "      <th></th>\n",
       "      <th></th>\n",
       "    </tr>\n",
       "  </thead>\n",
       "  <tbody>\n",
       "    <tr>\n",
       "      <th>1</th>\n",
       "      <td>NaN</td>\n",
       "      <td>NaN</td>\n",
       "      <td>NaN</td>\n",
       "      <td>NaN</td>\n",
       "      <td>NaN</td>\n",
       "      <td>NaN</td>\n",
       "      <td>NaN</td>\n",
       "      <td>NaN</td>\n",
       "      <td>NaN</td>\n",
       "      <td>NaN</td>\n",
       "      <td>...</td>\n",
       "      <td>NaN</td>\n",
       "      <td>NaN</td>\n",
       "      <td>NaN</td>\n",
       "      <td>NaN</td>\n",
       "      <td>NaN</td>\n",
       "      <td>NaN</td>\n",
       "      <td>NaN</td>\n",
       "      <td>NaT</td>\n",
       "      <td>NaT</td>\n",
       "      <td>NaT</td>\n",
       "    </tr>\n",
       "    <tr>\n",
       "      <th>2</th>\n",
       "      <td>NaN</td>\n",
       "      <td>NaN</td>\n",
       "      <td>NaN</td>\n",
       "      <td>NaN</td>\n",
       "      <td>NaN</td>\n",
       "      <td>NaN</td>\n",
       "      <td>NaN</td>\n",
       "      <td>NaN</td>\n",
       "      <td>NaN</td>\n",
       "      <td>NaN</td>\n",
       "      <td>...</td>\n",
       "      <td>NaN</td>\n",
       "      <td>NaN</td>\n",
       "      <td>NaN</td>\n",
       "      <td>NaN</td>\n",
       "      <td>NaN</td>\n",
       "      <td>NaN</td>\n",
       "      <td>NaN</td>\n",
       "      <td>2019-11-17</td>\n",
       "      <td>2019-11-19</td>\n",
       "      <td>2019-11-18</td>\n",
       "    </tr>\n",
       "    <tr>\n",
       "      <th>3</th>\n",
       "      <td>NaN</td>\n",
       "      <td>NaN</td>\n",
       "      <td>NaN</td>\n",
       "      <td>NaN</td>\n",
       "      <td>NaN</td>\n",
       "      <td>NaN</td>\n",
       "      <td>NaN</td>\n",
       "      <td>NaN</td>\n",
       "      <td>NaN</td>\n",
       "      <td>NaN</td>\n",
       "      <td>...</td>\n",
       "      <td>NaN</td>\n",
       "      <td>NaN</td>\n",
       "      <td>NaN</td>\n",
       "      <td>NaN</td>\n",
       "      <td>NaN</td>\n",
       "      <td>NaN</td>\n",
       "      <td>NaN</td>\n",
       "      <td>NaT</td>\n",
       "      <td>NaT</td>\n",
       "      <td>NaT</td>\n",
       "    </tr>\n",
       "    <tr>\n",
       "      <th>4</th>\n",
       "      <td>NaN</td>\n",
       "      <td>NaN</td>\n",
       "      <td>NaN</td>\n",
       "      <td>NaN</td>\n",
       "      <td>NaN</td>\n",
       "      <td>NaN</td>\n",
       "      <td>NaN</td>\n",
       "      <td>NaN</td>\n",
       "      <td>NaN</td>\n",
       "      <td>NaN</td>\n",
       "      <td>...</td>\n",
       "      <td>NaN</td>\n",
       "      <td>NaN</td>\n",
       "      <td>NaN</td>\n",
       "      <td>NaN</td>\n",
       "      <td>NaN</td>\n",
       "      <td>NaN</td>\n",
       "      <td>NaN</td>\n",
       "      <td>NaT</td>\n",
       "      <td>NaT</td>\n",
       "      <td>NaT</td>\n",
       "    </tr>\n",
       "    <tr>\n",
       "      <th>5</th>\n",
       "      <td>NaN</td>\n",
       "      <td>NaN</td>\n",
       "      <td>NaN</td>\n",
       "      <td>NaN</td>\n",
       "      <td>NaN</td>\n",
       "      <td>NaN</td>\n",
       "      <td>NaN</td>\n",
       "      <td>NaN</td>\n",
       "      <td>NaN</td>\n",
       "      <td>NaN</td>\n",
       "      <td>...</td>\n",
       "      <td>NaN</td>\n",
       "      <td>NaN</td>\n",
       "      <td>NaN</td>\n",
       "      <td>NaN</td>\n",
       "      <td>NaN</td>\n",
       "      <td>NaN</td>\n",
       "      <td>NaN</td>\n",
       "      <td>NaT</td>\n",
       "      <td>NaT</td>\n",
       "      <td>NaT</td>\n",
       "    </tr>\n",
       "    <tr>\n",
       "      <th>...</th>\n",
       "      <td>...</td>\n",
       "      <td>...</td>\n",
       "      <td>...</td>\n",
       "      <td>...</td>\n",
       "      <td>...</td>\n",
       "      <td>...</td>\n",
       "      <td>...</td>\n",
       "      <td>...</td>\n",
       "      <td>...</td>\n",
       "      <td>...</td>\n",
       "      <td>...</td>\n",
       "      <td>...</td>\n",
       "      <td>...</td>\n",
       "      <td>...</td>\n",
       "      <td>...</td>\n",
       "      <td>...</td>\n",
       "      <td>...</td>\n",
       "      <td>...</td>\n",
       "      <td>...</td>\n",
       "      <td>...</td>\n",
       "      <td>...</td>\n",
       "    </tr>\n",
       "    <tr>\n",
       "      <th>98447</th>\n",
       "      <td>NaN</td>\n",
       "      <td>NaN</td>\n",
       "      <td>NaN</td>\n",
       "      <td>NaN</td>\n",
       "      <td>NaN</td>\n",
       "      <td>NaN</td>\n",
       "      <td>NaN</td>\n",
       "      <td>NaN</td>\n",
       "      <td>NaN</td>\n",
       "      <td>NaN</td>\n",
       "      <td>...</td>\n",
       "      <td>NaN</td>\n",
       "      <td>NaN</td>\n",
       "      <td>NaN</td>\n",
       "      <td>NaN</td>\n",
       "      <td>NaN</td>\n",
       "      <td>NaN</td>\n",
       "      <td>NaN</td>\n",
       "      <td>NaT</td>\n",
       "      <td>NaT</td>\n",
       "      <td>NaT</td>\n",
       "    </tr>\n",
       "    <tr>\n",
       "      <th>98448</th>\n",
       "      <td>NaN</td>\n",
       "      <td>NaN</td>\n",
       "      <td>NaN</td>\n",
       "      <td>NaN</td>\n",
       "      <td>NaN</td>\n",
       "      <td>NaN</td>\n",
       "      <td>NaN</td>\n",
       "      <td>NaN</td>\n",
       "      <td>NaN</td>\n",
       "      <td>NaN</td>\n",
       "      <td>...</td>\n",
       "      <td>NaN</td>\n",
       "      <td>NaN</td>\n",
       "      <td>NaN</td>\n",
       "      <td>NaN</td>\n",
       "      <td>NaN</td>\n",
       "      <td>NaN</td>\n",
       "      <td>NaN</td>\n",
       "      <td>NaT</td>\n",
       "      <td>NaT</td>\n",
       "      <td>NaT</td>\n",
       "    </tr>\n",
       "    <tr>\n",
       "      <th>98449</th>\n",
       "      <td>NaN</td>\n",
       "      <td>NaN</td>\n",
       "      <td>NaN</td>\n",
       "      <td>NaN</td>\n",
       "      <td>NaN</td>\n",
       "      <td>NaN</td>\n",
       "      <td>NaN</td>\n",
       "      <td>NaN</td>\n",
       "      <td>NaN</td>\n",
       "      <td>NaN</td>\n",
       "      <td>...</td>\n",
       "      <td>NaN</td>\n",
       "      <td>NaN</td>\n",
       "      <td>NaN</td>\n",
       "      <td>NaN</td>\n",
       "      <td>NaN</td>\n",
       "      <td>NaN</td>\n",
       "      <td>NaN</td>\n",
       "      <td>NaT</td>\n",
       "      <td>NaT</td>\n",
       "      <td>NaT</td>\n",
       "    </tr>\n",
       "    <tr>\n",
       "      <th>98450</th>\n",
       "      <td>NaN</td>\n",
       "      <td>NaN</td>\n",
       "      <td>NaN</td>\n",
       "      <td>NaN</td>\n",
       "      <td>NaN</td>\n",
       "      <td>NaN</td>\n",
       "      <td>NaN</td>\n",
       "      <td>NaN</td>\n",
       "      <td>NaN</td>\n",
       "      <td>NaN</td>\n",
       "      <td>...</td>\n",
       "      <td>NaN</td>\n",
       "      <td>NaN</td>\n",
       "      <td>NaN</td>\n",
       "      <td>NaN</td>\n",
       "      <td>NaN</td>\n",
       "      <td>NaN</td>\n",
       "      <td>NaN</td>\n",
       "      <td>NaT</td>\n",
       "      <td>NaT</td>\n",
       "      <td>NaT</td>\n",
       "    </tr>\n",
       "    <tr>\n",
       "      <th>98451</th>\n",
       "      <td>NaN</td>\n",
       "      <td>NaN</td>\n",
       "      <td>NaN</td>\n",
       "      <td>NaN</td>\n",
       "      <td>NaN</td>\n",
       "      <td>NaN</td>\n",
       "      <td>NaN</td>\n",
       "      <td>NaN</td>\n",
       "      <td>NaN</td>\n",
       "      <td>NaN</td>\n",
       "      <td>...</td>\n",
       "      <td>NaN</td>\n",
       "      <td>NaN</td>\n",
       "      <td>NaN</td>\n",
       "      <td>NaN</td>\n",
       "      <td>NaN</td>\n",
       "      <td>NaN</td>\n",
       "      <td>NaN</td>\n",
       "      <td>NaT</td>\n",
       "      <td>NaT</td>\n",
       "      <td>NaT</td>\n",
       "    </tr>\n",
       "  </tbody>\n",
       "</table>\n",
       "<p>97006 rows × 214 columns</p>\n",
       "</div>"
      ],
      "text/plain": [
       "      q1_before_yesterdayW18_1 q1_before_yesterdayW18_2  \\\n",
       "id                                                        \n",
       "1                          NaN                      NaN   \n",
       "2                          NaN                      NaN   \n",
       "3                          NaN                      NaN   \n",
       "4                          NaN                      NaN   \n",
       "5                          NaN                      NaN   \n",
       "...                        ...                      ...   \n",
       "98447                      NaN                      NaN   \n",
       "98448                      NaN                      NaN   \n",
       "98449                      NaN                      NaN   \n",
       "98450                      NaN                      NaN   \n",
       "98451                      NaN                      NaN   \n",
       "\n",
       "      q1_before_yesterdayW18_3 q1_before_yesterdayW18_4  \\\n",
       "id                                                        \n",
       "1                          NaN                      NaN   \n",
       "2                          NaN                      NaN   \n",
       "3                          NaN                      NaN   \n",
       "4                          NaN                      NaN   \n",
       "5                          NaN                      NaN   \n",
       "...                        ...                      ...   \n",
       "98447                      NaN                      NaN   \n",
       "98448                      NaN                      NaN   \n",
       "98449                      NaN                      NaN   \n",
       "98450                      NaN                      NaN   \n",
       "98451                      NaN                      NaN   \n",
       "\n",
       "      q1_before_yesterdayW18_5 q1_before_yesterdayW18_6  \\\n",
       "id                                                        \n",
       "1                          NaN                      NaN   \n",
       "2                          NaN                      NaN   \n",
       "3                          NaN                      NaN   \n",
       "4                          NaN                      NaN   \n",
       "5                          NaN                      NaN   \n",
       "...                        ...                      ...   \n",
       "98447                      NaN                      NaN   \n",
       "98448                      NaN                      NaN   \n",
       "98449                      NaN                      NaN   \n",
       "98450                      NaN                      NaN   \n",
       "98451                      NaN                      NaN   \n",
       "\n",
       "      q1_before_yesterdayW18_7 q1_before_yesterday_newsW18_1  \\\n",
       "id                                                             \n",
       "1                          NaN                           NaN   \n",
       "2                          NaN                           NaN   \n",
       "3                          NaN                           NaN   \n",
       "4                          NaN                           NaN   \n",
       "5                          NaN                           NaN   \n",
       "...                        ...                           ...   \n",
       "98447                      NaN                           NaN   \n",
       "98448                      NaN                           NaN   \n",
       "98449                      NaN                           NaN   \n",
       "98450                      NaN                           NaN   \n",
       "98451                      NaN                           NaN   \n",
       "\n",
       "      q1_before_yesterday_newsW18_2 q1_before_yesterday_newsW18_3  ...  \\\n",
       "id                                                                 ...   \n",
       "1                               NaN                           NaN  ...   \n",
       "2                               NaN                           NaN  ...   \n",
       "3                               NaN                           NaN  ...   \n",
       "4                               NaN                           NaN  ...   \n",
       "5                               NaN                           NaN  ...   \n",
       "...                             ...                           ...  ...   \n",
       "98447                           NaN                           NaN  ...   \n",
       "98448                           NaN                           NaN  ...   \n",
       "98449                           NaN                           NaN  ...   \n",
       "98450                           NaN                           NaN  ...   \n",
       "98451                           NaN                           NaN  ...   \n",
       "\n",
       "      q1_before_yesterday_newsW18_1_hr q1_before_yesterday_newsW18_2_hr  \\\n",
       "id                                                                        \n",
       "1                                  NaN                              NaN   \n",
       "2                                  NaN                              NaN   \n",
       "3                                  NaN                              NaN   \n",
       "4                                  NaN                              NaN   \n",
       "5                                  NaN                              NaN   \n",
       "...                                ...                              ...   \n",
       "98447                              NaN                              NaN   \n",
       "98448                              NaN                              NaN   \n",
       "98449                              NaN                              NaN   \n",
       "98450                              NaN                              NaN   \n",
       "98451                              NaN                              NaN   \n",
       "\n",
       "      q1_before_yesterday_newsW18_3_hr q1_before_yesterday_newsW18_4_hr  \\\n",
       "id                                                                        \n",
       "1                                  NaN                              NaN   \n",
       "2                                  NaN                              NaN   \n",
       "3                                  NaN                              NaN   \n",
       "4                                  NaN                              NaN   \n",
       "5                                  NaN                              NaN   \n",
       "...                                ...                              ...   \n",
       "98447                              NaN                              NaN   \n",
       "98448                              NaN                              NaN   \n",
       "98449                              NaN                              NaN   \n",
       "98450                              NaN                              NaN   \n",
       "98451                              NaN                              NaN   \n",
       "\n",
       "      q1_before_yesterday_newsW18_5_hr q1_before_yesterday_newsW18_6_hr  \\\n",
       "id                                                                        \n",
       "1                                  NaN                              NaN   \n",
       "2                                  NaN                              NaN   \n",
       "3                                  NaN                              NaN   \n",
       "4                                  NaN                              NaN   \n",
       "5                                  NaN                              NaN   \n",
       "...                                ...                              ...   \n",
       "98447                              NaN                              NaN   \n",
       "98448                              NaN                              NaN   \n",
       "98449                              NaN                              NaN   \n",
       "98450                              NaN                              NaN   \n",
       "98451                              NaN                              NaN   \n",
       "\n",
       "      q1_before_yesterday_newsW18_7_hr xbefore_yesterday_dateW18  \\\n",
       "id                                                                 \n",
       "1                                  NaN                       NaT   \n",
       "2                                  NaN                2019-11-17   \n",
       "3                                  NaN                       NaT   \n",
       "4                                  NaN                       NaT   \n",
       "5                                  NaN                       NaT   \n",
       "...                                ...                       ...   \n",
       "98447                              NaN                       NaT   \n",
       "98448                              NaN                       NaT   \n",
       "98449                              NaN                       NaT   \n",
       "98450                              NaN                       NaT   \n",
       "98451                              NaN                       NaT   \n",
       "\n",
       "      xtoday_dateW18 xyesterday_dateW18  \n",
       "id                                       \n",
       "1                NaT                NaT  \n",
       "2         2019-11-19         2019-11-18  \n",
       "3                NaT                NaT  \n",
       "4                NaT                NaT  \n",
       "5                NaT                NaT  \n",
       "...              ...                ...  \n",
       "98447            NaT                NaT  \n",
       "98448            NaT                NaT  \n",
       "98449            NaT                NaT  \n",
       "98450            NaT                NaT  \n",
       "98451            NaT                NaT  \n",
       "\n",
       "[97006 rows x 214 columns]"
      ]
     },
     "execution_count": 229,
     "metadata": {},
     "output_type": "execute_result"
    }
   ],
   "source": [
    "q1\n",
    "\n",
    "# so, technically, it's a bit of a waste including anything but wave 18 rows ...\n",
    "\n",
    "# ... does it matter, spacewise?\n",
    "\n",
    "# ... eh - still a problem with 477 indices that probably shouldn't be in the dataset, just grab it all"
   ]
  },
  {
   "cell_type": "code",
   "execution_count": 265,
   "metadata": {},
   "outputs": [],
   "source": [
    "q1.to_pickle('../BES_analysis_data/W19_comb_strings\\\\q1.zip', compression='zip')"
   ]
  },
  {
   "cell_type": "code",
   "execution_count": 266,
   "metadata": {},
   "outputs": [],
   "source": [
    "q1.to_csv('../BES_analysis_data/W19_comb_strings\\\\q1.csv')"
   ]
  },
  {
   "cell_type": "code",
   "execution_count": 239,
   "metadata": {},
   "outputs": [],
   "source": [
    "discrepant_ids = BES_Panel.index[(q1.notnull().any(axis=1) != BES_Panel[\"wave18\"])]"
   ]
  },
  {
   "cell_type": "code",
   "execution_count": null,
   "metadata": {},
   "outputs": [],
   "source": []
  },
  {
   "cell_type": "code",
   "execution_count": 258,
   "metadata": {},
   "outputs": [
    {
     "data": {
      "text/plain": [
       "477"
      ]
     },
     "execution_count": 258,
     "metadata": {},
     "output_type": "execute_result"
    }
   ],
   "source": [
    "(BES_Panel[match(BES_Panel,\"wave\").index].sum(axis=1)==0).sum()"
   ]
  },
  {
   "cell_type": "code",
   "execution_count": 264,
   "metadata": {},
   "outputs": [],
   "source": [
    "BES_Panel.loc[discrepant_ids,].reset_index()[\"id\"].to_csv('../BES_analysis_data/W19_comb_strings\\\\discrepant_ids.csv')"
   ]
  },
  {
   "cell_type": "code",
   "execution_count": 243,
   "metadata": {},
   "outputs": [
    {
     "data": {
      "text/plain": [
       "((97006, 8079), (97006, 214))"
      ]
     },
     "execution_count": 243,
     "metadata": {},
     "output_type": "execute_result"
    }
   ],
   "source": [
    "BES_Panel.shape, q1.shape"
   ]
  },
  {
   "cell_type": "code",
   "execution_count": 246,
   "metadata": {},
   "outputs": [
    {
     "data": {
      "text/plain": [
       "96529"
      ]
     },
     "execution_count": 246,
     "metadata": {},
     "output_type": "execute_result"
    }
   ],
   "source": [
    "BES_Panel[match(BES_Panel,\"wave\").index].any(axis=1).sum()"
   ]
  },
  {
   "cell_type": "code",
   "execution_count": 251,
   "metadata": {},
   "outputs": [
    {
     "data": {
      "text/plain": [
       "wt_new_W10           0\n",
       "wt_new_W11           0\n",
       "wt_new_W14           0\n",
       "wt_new_W15           0\n",
       "wt_new_W16           0\n",
       "wt_new_W1_W16        0\n",
       "wt_new_W18           0\n",
       "wt_new_W6W7          0\n",
       "wt_new_W2W6          0\n",
       "wt_new_W2W6W7        0\n",
       "wt_new_W9_W13        0\n",
       "wt_new_W12           0\n",
       "wt_new_W1_W11        0\n",
       "wt_new_W1_W12        0\n",
       "wt_new_W1_W13        0\n",
       "wt_new_W6_W11        0\n",
       "wt_new_W6_W12        0\n",
       "wt_new_W6_W13        0\n",
       "wt_new_W11_W13       0\n",
       "wt_new_W13W16        0\n",
       "wt_new_W13_result    0\n",
       "wt_new_W6W16         0\n",
       "wt_new_W2W16         0\n",
       "wt_new_W17           0\n",
       "wt_new_W13W17        0\n",
       "wt_new_W6W13W19      0\n",
       "wt_new_W9W19         0\n",
       "wt_new_W13_W19       0\n",
       "wt_new_W13W19        0\n",
       "wt_new_W16W19        0\n",
       "wt_new_W17W18W19     0\n",
       "wt_new_W19_result    0\n",
       "wt_new_W9            0\n",
       "wt_new_W8            0\n",
       "wt_new_W7            0\n",
       "wt_new_W6            0\n",
       "wt_new_W13W14        0\n",
       "wt_new_W9_W14        0\n",
       "wt_new_W6_W14        0\n",
       "wt_new_W1_W14        0\n",
       "wt_new_W6W13         0\n",
       "wt_new_W7W13         0\n",
       "wt_newW17W19         0\n",
       "dtype: int64"
      ]
     },
     "execution_count": 251,
     "metadata": {},
     "output_type": "execute_result"
    }
   ],
   "source": [
    "BES_Panel.loc[discrepant_ids,match(BES_Panel,\"wt_new\").index].notnull().sum()"
   ]
  },
  {
   "cell_type": "code",
   "execution_count": 257,
   "metadata": {},
   "outputs": [
    {
     "data": {
      "text/plain": [
       "econPersonalRetroW6       0\n",
       "preferMPDegreeW6          0\n",
       "preferMPMuslimW6          0\n",
       "preferMPLGBTW6            0\n",
       "preferMPChristW6          0\n",
       "preferMPEthnicW6          0\n",
       "preferMPYoungW6           0\n",
       "preferMPDisabledW6        0\n",
       "preferMPWomenW6           0\n",
       "preferMPWorkClassW6       0\n",
       "preferMPLocalW6           0\n",
       "partyHelpMethod_5W6       0\n",
       "partyHelpMethod_4W6       0\n",
       "partyHelpMethod_3W6       0\n",
       "partyHelpMethod_2W6       0\n",
       "twitterUseW6              0\n",
       "ethno3W7                  0\n",
       "twitterInfof2fW6          0\n",
       "fbInfof2fW6               0\n",
       "ethno1W7                  0\n",
       "europeannessW7            0\n",
       "englishnessW7             0\n",
       "welshnessW7               0\n",
       "scottishnessW7            0\n",
       "britishnessW7             0\n",
       "pidPraiseGoodW7           0\n",
       "pidMyPartyW7              0\n",
       "pidConnectedW7            0\n",
       "pidRuinDayW7              0\n",
       "pidCommonPartyW7          0\n",
       "pidCriticisePartyW7       0\n",
       "pidInterestedOthersW7     0\n",
       "fbUseW6                   0\n",
       "pidWeTheyW7               0\n",
       "euRefFinalW7              0\n",
       "euRefExpectationW7        0\n",
       "euRefInterestW7           0\n",
       "euRefVoteSqueezeW7        0\n",
       "euRefVoteW7               0\n",
       "euRefTurnoutW7            0\n",
       "bestOnMIIW7               0\n",
       "miiW7                     0\n",
       "w6full                    0\n",
       "selfOccOrgSizeLastW6      0\n",
       "selfOccSuperviseLastW6    0\n",
       "selfOccOrgSizeW6          0\n",
       "selfOccSuperviseW6        0\n",
       "miieuW7                   0\n",
       "oslauaW16                 0\n",
       "wt_full_W1                1\n",
       "dtype: int64"
      ]
     },
     "execution_count": 257,
     "metadata": {},
     "output_type": "execute_result"
    }
   ],
   "source": [
    "BES_Panel.loc[discrepant_ids].notnull().sum().sort_values().tail(50)"
   ]
  },
  {
   "cell_type": "code",
   "execution_count": 256,
   "metadata": {},
   "outputs": [
    {
     "data": {
      "text/plain": [
       "p_paper_readW1     30383\n",
       "p_paper_readW2     30239\n",
       "p_paper_readW3     28122\n",
       "p_paper_readW4     31442\n",
       "p_paper_readW5     30829\n",
       "p_paper_readW6     30149\n",
       "p_paper_readW7     30841\n",
       "p_paper_readW8     33500\n",
       "p_paper_readW9     30034\n",
       "p_paper_readW10    30236\n",
       "p_paper_readW11    30955\n",
       "p_paper_readW12    34393\n",
       "p_paper_readW13    31135\n",
       "p_paper_readW14    31061\n",
       "p_paper_readW15    30840\n",
       "p_paper_readW16    37959\n",
       "p_paper_readW17    34365\n",
       "p_paper_readW18    37824\n",
       "p_paper_readW19    32176\n",
       "dtype: int64"
      ]
     },
     "execution_count": 256,
     "metadata": {},
     "output_type": "execute_result"
    }
   ],
   "source": [
    "search(BES_Panel,\"p_paper\")"
   ]
  },
  {
   "cell_type": "code",
   "execution_count": null,
   "metadata": {},
   "outputs": [],
   "source": []
  },
  {
   "cell_type": "code",
   "execution_count": null,
   "metadata": {},
   "outputs": [],
   "source": []
  },
  {
   "cell_type": "code",
   "execution_count": 23,
   "metadata": {},
   "outputs": [],
   "source": [
    "## getting string data into a nice zip file\n",
    "\n",
    "dataset_name = \"W19_comb_strings\"\n",
    "data_subfolder = BES_data_folder + dataset_name + os.sep\n",
    "\n",
    "(manifest, dataset_filename, dataset_description, dataset_citation,\n",
    " dataset_start, dataset_stop, dataset_wave) = get_manifest(dataset_name, BES_file_manifest)\n",
    "\n",
    "import pandas as pd\n",
    "import numpy as np\n",
    "# save csv manually with SPSSS\n",
    "\n",
    "csvfile = '../BES_analysis_data/W19_comb_strings\\\\BES2019_W19Strings_v0.2.csv'\n",
    "encoding = \"ISO-8859-1\"\n",
    "df = pd.read_csv(csvfile,encoding=encoding)\n",
    "\n",
    "df.rename(columns={'ï»¿id':'id'},inplace=True)\n",
    "# bug screwing up character encoding of that file!\n",
    "\n",
    "df = df.set_index(\"id\").sort_index()\n",
    "df = df.apply(lambda x: x.str.lower().replace(\" \",np.nan).astype('category'))\n",
    "df.to_pickle('../BES_analysis_data/W19_comb_strings\\\\BES2019_W19Strings_v0.2.zip', compression='zip')\n",
    "\n",
    "# csv -> zip - loses all dtypes/structure ... but no interesting dtypes in the string dataset\n"
   ]
  },
  {
   "cell_type": "code",
   "execution_count": 43,
   "metadata": {},
   "outputs": [],
   "source": []
  },
  {
   "cell_type": "code",
   "execution_count": 26,
   "metadata": {},
   "outputs": [],
   "source": []
  },
  {
   "cell_type": "code",
   "execution_count": null,
   "metadata": {},
   "outputs": [],
   "source": []
  },
  {
   "cell_type": "code",
   "execution_count": null,
   "metadata": {},
   "outputs": [],
   "source": []
  }
 ],
 "metadata": {
  "kernelspec": {
   "display_name": "Python [conda env:BES_analysis] *",
   "language": "python",
   "name": "conda-env-BES_analysis-py"
  },
  "language_info": {
   "codemirror_mode": {
    "name": "ipython",
    "version": 3
   },
   "file_extension": ".py",
   "mimetype": "text/x-python",
   "name": "python",
   "nbconvert_exporter": "python",
   "pygments_lexer": "ipython3",
   "version": "3.7.6"
  }
 },
 "nbformat": 4,
 "nbformat_minor": 4
}
