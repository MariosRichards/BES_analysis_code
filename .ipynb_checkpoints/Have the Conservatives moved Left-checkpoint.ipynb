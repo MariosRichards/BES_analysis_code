{
 "cells": [
  {
   "cell_type": "markdown",
   "metadata": {},
   "source": [
    "# Have the Conservatives Moved Left?"
   ]
  },
  {
   "cell_type": "code",
   "execution_count": 1,
   "metadata": {},
   "outputs": [
    {
     "data": {
      "text/html": [
       "<script>jQuery(function() {if (jQuery(\"body.notebook_app\").length == 0) { jQuery(\".input_area\").toggle(); jQuery(\".prompt\").toggle();}});</script>"
      ]
     },
     "metadata": {},
     "output_type": "display_data"
    },
    {
     "data": {
      "text/html": [
       "<button onclick=\"jQuery('.input_area').toggle(); jQuery('.prompt').toggle();\">Toggle code</button>"
      ]
     },
     "metadata": {},
     "output_type": "display_data"
    }
   ],
   "source": [
    "import warnings\n",
    "warnings.filterwarnings('ignore')\n",
    "\n",
    "from IPython.display import display\n",
    "from IPython.display import HTML\n",
    "import IPython.core.display as di # Example: di.display_html('<h3>%s:</h3>' % str, raw=True)\n",
    "\n",
    "# This line will hide code by default when the notebook is exported as HTML\n",
    "di.display_html('<script>jQuery(function() {if (jQuery(\"body.notebook_app\").length == 0) { jQuery(\".input_area\").toggle(); jQuery(\".prompt\").toggle();}});</script>', raw=True)\n",
    "\n",
    "# This line will add a button to toggle visibility of code blocks, for use with the HTML export version\n",
    "di.display_html('''<button onclick=\"jQuery('.input_area').toggle(); jQuery('.prompt').toggle();\">Toggle code</button>''', raw=True)"
   ]
  },
  {
   "cell_type": "code",
   "execution_count": 2,
   "metadata": {},
   "outputs": [],
   "source": [
    "dataset_name = \"W16_comb\"\n",
    "df_list = [ \"BES_Panel\", ]"
   ]
  },
  {
   "cell_type": "code",
   "execution_count": 3,
   "metadata": {},
   "outputs": [],
   "source": [
    "%matplotlib inline\n",
    "\n",
    "import numpy as np, pandas as pd, matplotlib.pyplot as plt, seaborn as sns\n",
    "import pickle, os, gc, re\n",
    "\n",
    "sns.set();\n",
    "sns.set_palette(\"colorblind\")\n",
    "\n",
    "from IPython.display import display, display_html, HTML\n",
    "plt.rcParams[\"axes.grid\"] = False\n",
    "\n",
    "import Jupyter_module_loader\n",
    "from utility import *\n",
    "import gaussian_kde\n",
    "\n",
    "import warnings\n",
    "warnings.filterwarnings('ignore')\n",
    "\n",
    "import holoviews as hv\n",
    "from holoviews import opts\n",
    "\n",
    "encoding = \"ISO-8859-1\""
   ]
  },
  {
   "cell_type": "code",
   "execution_count": 4,
   "metadata": {},
   "outputs": [],
   "source": [
    "# you should clone this git to a subdirectory called 'BES_analysis_code' (in some directory - I call it BES_analysis - doesn't matter though)\n",
    "# %matplotlib inline\n",
    "(BES_code_folder, BES_small_data_files, BES_data_folder,\n",
    " BES_output_folder, BES_file_manifest, BES_R_data_files) = setup_directories()\n",
    "\n",
    "global BES_Panel, BES_numeric, BES_reduced, BES_reduced_with_na, BES_non_numeric\n",
    "data_subfolder = BES_data_folder + dataset_name + os.sep\n",
    "\n",
    "(manifest, dataset_filename, dataset_description, dataset_citation,\n",
    " dataset_start, dataset_stop, dataset_wave) = get_manifest(dataset_name, BES_file_manifest)\n",
    "\n",
    "for df in df_list:\n",
    "    if df==\"BES_Panel\":\n",
    "        globals()[df]  = pd.read_msgpack(data_subfolder + dataset_filename.replace('.dta','.msgpack'))\n",
    "    else:\n",
    "        globals()[df]  = pd.read_msgpack(data_subfolder + df + '.msgpack' )\n",
    "        globals()[df].replace(-1,np.nan,inplace=True)\n",
    "  \n",
    "# (var_type, cat_dictionary, new_old_col_names, old_new_col_names) = get_small_files(data_subfolder, encoding)\n",
    "\n",
    "# get full set of inferred \"cross wave\" auth-lib/left-right values and ages\n",
    "pan_dataset_allr_values = pd.read_csv(BES_small_data_files + \"pan_dataset_allr_values\"+\".csv\")\n",
    "pan_dataset_ages = pd.read_csv( BES_small_data_files + \"pan_dataset_ages\"+\".csv\" )"
   ]
  },
  {
   "cell_type": "code",
   "execution_count": 95,
   "metadata": {},
   "outputs": [],
   "source": [
    "def weighted_mean(x, **kws):\n",
    "    val, weight = map(np.asarray, zip(*x))\n",
    "    return (val * weight).sum() / weight.sum()"
   ]
  },
  {
   "cell_type": "code",
   "execution_count": 62,
   "metadata": {},
   "outputs": [],
   "source": [
    "max_wave = int(re.match(\"W(\\d+)_\",dataset_name).groups()[0])\n",
    "num_to_wave = {x:\"W\"+str(x) for x in range(1,max_wave+1)}\n",
    "wts_for_wave = { \"W\"+str(y):[x for x in BES_Panel.columns.sort_values(ascending=False) if re.match(\"wt_(new|full)_W\"+str(y)+\"$\",x)][0] for y in range(1,max_wave+1) }\n",
    "# wts_for_wave"
   ]
  },
  {
   "cell_type": "code",
   "execution_count": 7,
   "metadata": {},
   "outputs": [
    {
     "data": {
      "text/plain": [
       "wt_new_                     33\n",
       "wt_full_                    25\n",
       "bestOnMII                   16\n",
       "likeSNP                     16\n",
       "likeLD                      16\n",
       "                            ..\n",
       "labPriorities2_immig         1\n",
       "automationEffectsCountry     1\n",
       "noDealResults_5              1\n",
       "resourceAccess3_8            1\n",
       "myPartyWon                   1\n",
       "Length: 1918, dtype: int64"
      ]
     },
     "execution_count": 7,
     "metadata": {},
     "output_type": "execute_result"
    }
   ],
   "source": [
    "df = pd.Series([re.match(\"(.*?)($|W\\d+)\",x).groups()[0] for x in BES_Panel.columns]).value_counts()\n",
    "df"
   ]
  },
  {
   "cell_type": "code",
   "execution_count": 25,
   "metadata": {},
   "outputs": [
    {
     "data": {
      "text/plain": [
       "0        NaN\n",
       "1        NaN\n",
       "2        NaN\n",
       "3        NaN\n",
       "4        NaN\n",
       "        ... \n",
       "92582    NaN\n",
       "92583    NaN\n",
       "92584    NaN\n",
       "92585    NaN\n",
       "92586    NaN\n",
       "Name: goodTimePurchaseW8, Length: 92587, dtype: category\n",
       "Categories (4, object): [Bad time to buy, Don't know, Good time to buy, Neither good nor bad time to buy]"
      ]
     },
     "execution_count": 25,
     "metadata": {},
     "output_type": "execute_result"
    }
   ],
   "source": [
    "BES_Panel[\"goodTimePurchaseW8\"]"
   ]
  },
  {
   "cell_type": "code",
   "execution_count": 30,
   "metadata": {},
   "outputs": [
    {
     "data": {
      "text/plain": [
       "age                  10\n",
       "dutyToVote2          10\n",
       "euID                 10\n",
       "euID1                10\n",
       "euID2                10\n",
       "euID3                10\n",
       "euID4                10\n",
       "euID6                10\n",
       "euID7                10\n",
       "europeanness         10\n",
       "gor                  10\n",
       "headHouseholdPast    10\n",
       "immigCon             10\n",
       "immigGreen           10\n",
       "immigLD              10\n",
       "immigLab             10\n",
       "immigPC              10\n",
       "immigSNP             10\n",
       "immigSelf            10\n",
       "immigUKIP            10\n",
       "likeCorbyn           10\n",
       "referendumSettled    10\n",
       "snpUnited            10\n",
       "dtype: int64"
      ]
     },
     "execution_count": 30,
     "metadata": {},
     "output_type": "execute_result"
    }
   ],
   "source": [
    "drop_list = [\"starttime\",\"endtime\",\"bestOnMII\",\"mii\",\"wt_full_\",\"wt_new_\",\"pano\",\"pcon\"]\n",
    "df[df==10].drop(drop_list,errors='ignore').sort_index()"
   ]
  },
  {
   "cell_type": "code",
   "execution_count": null,
   "metadata": {},
   "outputs": [],
   "source": [
    "np.unique([x.split(\"W\")[0] for x in search(BES_Panel,\".*Con(W|$)\",case_sensitive=True).index])"
   ]
  },
  {
   "cell_type": "code",
   "execution_count": 5,
   "metadata": {},
   "outputs": [],
   "source": [
    "# np.unique([x.split(\"W\")[0] for x in search(BES_Panel,\".*Con\",case_sensitive=True).index])"
   ]
  },
  {
   "cell_type": "code",
   "execution_count": 9,
   "metadata": {},
   "outputs": [],
   "source": [
    "# StrongLeader W10W11W14W15W16\n",
    "# like<Leader>/<party>\n",
    "# ptv<party>\n",
    "# partyId(/Squeeze/Strength),generalElectionVote,bestOnMII,leftRight\n",
    "# <party>United\n",
    "# EUIntegration<party>\n",
    "\n",
    "# 14\n",
    "# britishness,scottishness,welshness,\n",
    "# econGenRetro, econPersonalRetro\n",
    "# turnoutUKGeneral, education\n",
    "\n",
    "# 13\n",
    "# partyContact\n",
    "# mii_cat, LRAL_mii_cat, small_mii_cat\n",
    "# changeEconomy, goodTimePurchase, polAttention, satDem(Eng/Scot/UK/Wales), riskPoverty, riskUnemployment\n",
    "# scotReferendumIntention\n",
    "# lr<party>, redist<party>\n",
    "\n",
    "# 12\n",
    "# change(Education/NHS)\n",
    "# efficacy(NotUnderstand/PolCare/TooMuchEffort/Understand)\n",
    "# immig(Cultural/Economy)\n",
    "# trustMPs\n",
    "\n",
    "# 11\n",
    "# pid<features>\n",
    "# change(CostLive/Crime/Immig)\n",
    "# approve(ScotGovt/UKGovt/WelshGovt)\n"
   ]
  },
  {
   "cell_type": "code",
   "execution_count": null,
   "metadata": {},
   "outputs": [],
   "source": []
  },
  {
   "cell_type": "code",
   "execution_count": 53,
   "metadata": {},
   "outputs": [],
   "source": [
    "# fix order of redist cats\n",
    "redist_cats = BES_Panel[\"redistConW16\"].cat.categories\n",
    "\n",
    "BES_Panel[match(BES_Panel,\"redist\").index] = \\\n",
    "    BES_Panel[match(BES_Panel,\"redist\").index]\\\n",
    "        .apply(lambda x: x.cat.reorder_categories(redist_cats))"
   ]
  },
  {
   "cell_type": "code",
   "execution_count": null,
   "metadata": {},
   "outputs": [],
   "source": []
  },
  {
   "cell_type": "code",
   "execution_count": 150,
   "metadata": {},
   "outputs": [
    {
     "name": "stdout",
     "output_type": "stream",
     "text": [
      "Wall time: 7.99 s\n"
     ]
    }
   ],
   "source": [
    "%%time\n",
    "\n",
    "df=pd.DataFrame()\n",
    "df2 =pd.DataFrame()\n",
    "df_wts =pd.DataFrame()\n",
    "\n",
    "col_name = \"subject\"\n",
    "var_name = \"redist\"\n",
    "dk_nums = [11,-1]\n",
    "dk_str = \"Don't know\"\n",
    "wave_list = []\n",
    "redist_vars = pd.Series([re.match(var_name+\"([a-zA-Z]*)($|W\\d+)\",x).groups()[0] for x in BES_Panel.columns if re.match(\"(\"+var_name+\"[a-zA-Z]*)($|W\\d+)\",x)]).value_counts()\n",
    "redist_vars = redist_vars[redist_vars>2].index\n",
    "\n",
    "for subj in redist_vars:\n",
    "    for wave in [\"W\"+str(x) for x in range(1,17)]:\n",
    "        if var_name+subj+wave not in BES_Panel.columns:\n",
    "            continue\n",
    "        else:\n",
    "            wave_list.append(wave)\n",
    "        df[var_name+\"num_\"+subj+\"_\"+wave] = BES_Panel[var_name+subj+wave].cat.codes.replace(dk_nums,[np.nan for x in range(0,len(dk_nums))])\n",
    "        df2[var_name+\"dk\"+subj+\"_\"+wave] = BES_Panel[var_name+subj+wave]==dk_str\n",
    "for wave in pd.unique(wave_list):        \n",
    "    df_wts[\"wt_\"+wave] = BES_Panel[wts_for_wave[wave]]\n",
    "    \n",
    "df_wts = df_wts[df.notnull().any(axis=1)]\n",
    "df = df[df.notnull().any(axis=1)]\n",
    "\n",
    "df2.columns = df2.columns.str.split('_', expand=True)\n",
    "df2 = df2.stack(dropna=False)\\\n",
    "            .reset_index()\\\n",
    "            .rename(columns={'level_1':\"wave\"})\\\n",
    "            .rename(columns={'level_0':\"id\"}) \n",
    "\n",
    "df_wts.columns = df_wts.columns.str.split('_', expand=True)\n",
    "df_wts = df_wts.stack(dropna=False)\\\n",
    "            .reset_index()\\\n",
    "            .rename(columns={'level_1':\"wave\"})\\\n",
    "            .rename(columns={'level_0':\"id\"}) \n",
    "\n",
    "df.columns = df.columns.str.split('_', expand=True)\n",
    "df = df.stack(dropna=False)\\\n",
    "        .reset_index()\\\n",
    "        .rename(columns={'level_1':\"wave\"})\\\n",
    "        .rename(columns={'level_0':\"id\"}) \n",
    "\n",
    "df[\"wt\"] = df_wts[\"wt\"]\n",
    "df = df.loc[ df[[x for x in df.columns if var_name+\"num\" in x]].notnull().any(axis=1) ]\n",
    "df.loc[:,\"wt\"] = df.loc[:,\"wt\"].fillna(1.0).values\n",
    "temp_ind_name = \"temp_index\"\n",
    "df[temp_ind_name] = list(zip(df[\"wave\"],df[\"wt\"]))\n",
    "df = df.set_index(temp_ind_name).drop([\"id\",\"wave\",\"wt\"],axis=1)\n",
    "\n",
    "df2[\"wt\"] = df_wts[\"wt\"]\n",
    "df2 = df2.loc[ df2[[x for x in df2.columns if var_name+\"dk\" in x]].notnull().any(axis=1) ]\n",
    "df2.loc[:,\"wt\"] = df2.loc[:,\"wt\"].fillna(1.0).values\n",
    "temp_ind_name = \"temp_index\"\n",
    "df2[temp_ind_name] = list(zip(df2[\"wave\"],df2[\"wt\"]))\n",
    "df2 = df2.set_index(temp_ind_name).drop([\"id\",\"wave\",\"wt\"],axis=1)\n",
    "\n",
    "\n",
    "flat_df_num = df.stack().reset_index().rename(columns={'level_1':col_name})\n",
    "flat_df_num[\"wave\"] = flat_df_num[temp_ind_name].apply(lambda x:int(x[0].split(\"W\")[1]))\n",
    "flat_df_num[\"wt\"] = flat_df_num[temp_ind_name].apply(lambda x:x[1])\n",
    "flat_df_num.drop(temp_ind_name,axis=1,inplace=True)\n",
    "flat_df_num[col_name] = flat_df_num[col_name].astype('category')\n",
    "\n",
    "flat_df_num[var_name+\"_wts\"] = list(zip(flat_df_num[var_name+\"num\"],flat_df_num[\"wt\"]))\n",
    "\n"
   ]
  },
  {
   "cell_type": "code",
   "execution_count": 83,
   "metadata": {},
   "outputs": [],
   "source": [
    "g = sns.FacetGrid(data=flat_df_num, col=col_name, col_wrap=3);\n",
    "g.map(sns.lineplot, \"wave\",var_name+\"_wts\", estimator=weighted_mean,ci=None);"
   ]
  },
  {
   "cell_type": "code",
   "execution_count": 156,
   "metadata": {},
   "outputs": [],
   "source": [
    "flat_df_dk = df2.stack().reset_index().rename(columns={'level_1':col_name+\"_dk\",0:\"dk\"})\n",
    "flat_df_dk[\"wave\"] = flat_df_dk[temp_ind_name].apply(lambda x:int(x[0].split(\"W\")[1]))\n",
    "flat_df_dk[\"wt\"] = flat_df_dk[temp_ind_name].apply(lambda x:x[1])\n",
    "flat_df_dk.drop(temp_ind_name,axis=1,inplace=True)\n",
    "flat_df_dk[\"dk\"] = flat_df_dk[\"dk\"].astype('int')\n"
   ]
  },
  {
   "cell_type": "code",
   "execution_count": 159,
   "metadata": {},
   "outputs": [
    {
     "data": {
      "text/plain": [
       "wave  subject_dk  \n",
       "1     redistdkCon     0.068858\n",
       "      redistdkLD      0.079533\n",
       "      redistdkLab     0.069447\n",
       "      redistdkPC      0.013867\n",
       "      redistdkSNP     0.015547\n",
       "                        ...   \n",
       "16    redistdkLab     0.130348\n",
       "      redistdkPC      0.011931\n",
       "      redistdkSNP     0.013793\n",
       "      redistdkSelf    0.054453\n",
       "      redistdkUKIP    0.207364\n",
       "Length: 103, dtype: float64"
      ]
     },
     "execution_count": 159,
     "metadata": {},
     "output_type": "execute_result"
    }
   ],
   "source": [
    "flat_df_dk.groupby([\"wave\",\"subject_dk\"]).apply(lambda x: (x[\"wt\"]*x[\"dk\"]).sum()/x[\"wt\"].sum() )."
   ]
  },
  {
   "cell_type": "code",
   "execution_count": null,
   "metadata": {},
   "outputs": [],
   "source": []
  },
  {
   "cell_type": "code",
   "execution_count": 85,
   "metadata": {},
   "outputs": [
    {
     "name": "stdout",
     "output_type": "stream",
     "text": [
      "Wall time: 1min 42s\n"
     ]
    },
    {
     "data": {
      "text/plain": [
       "<seaborn.axisgrid.FacetGrid at 0x58e8f488>"
      ]
     },
     "execution_count": 85,
     "metadata": {},
     "output_type": "execute_result"
    },
    {
     "data": {
      "image/png": "[encoded data removed]",
      "text/plain": [
       "<Figure size 648x648 with 8 Axes>"
      ]
     },
     "metadata": {},
     "output_type": "display_data"
    }
   ],
   "source": [
    "%%time\n",
    "\n",
    "g = sns.FacetGrid(data=flat_df_num, col=col_name, col_wrap=3);\n",
    "g.map(sns.lineplot, \"wave\",var_name+\"_wts\", estimator=weighted_mean,n_boot=20);"
   ]
  },
  {
   "cell_type": "code",
   "execution_count": null,
   "metadata": {},
   "outputs": [],
   "source": []
  },
  {
   "cell_type": "code",
   "execution_count": 88,
   "metadata": {},
   "outputs": [
    {
     "name": "stdout",
     "output_type": "stream",
     "text": [
      "Wall time: 17.6 s\n"
     ]
    },
    {
     "data": {
      "text/plain": [
       "<seaborn.axisgrid.FacetGrid at 0x3b948148>"
      ]
     },
     "execution_count": 88,
     "metadata": {},
     "output_type": "execute_result"
    },
    {
     "data": {
      "image/png": "[encoded data removed]",
      "text/plain": [
       "<Figure size 648x648 with 8 Axes>"
      ]
     },
     "metadata": {},
     "output_type": "display_data"
    }
   ],
   "source": [
    "%%time\n",
    "# plt.rcParams[\"axes.grid\"] = True\n",
    "g = sns.FacetGrid(data=flat_df_num, col=col_name, col_wrap=3);\n",
    "g.map(sns.lineplot, \"wave\",var_name+\"_wts\", estimator=weighted_mean,ci=None);"
   ]
  },
  {
   "cell_type": "code",
   "execution_count": null,
   "metadata": {},
   "outputs": [],
   "source": [
    "%%time\n",
    "\n",
    "g = sns.FacetGrid(data=flat_df_num.sample(replace=True,weights=\"wt\",axis=0,frac=1),\n",
    "                  col=\"subject\", col_wrap=3);\n",
    "g.map(sns.lineplot, \"wave\",\"redist_num\", ci=90);"
   ]
  },
  {
   "cell_type": "code",
   "execution_count": null,
   "metadata": {},
   "outputs": [],
   "source": []
  },
  {
   "cell_type": "code",
   "execution_count": null,
   "metadata": {},
   "outputs": [],
   "source": []
  },
  {
   "cell_type": "code",
   "execution_count": null,
   "metadata": {},
   "outputs": [],
   "source": []
  },
  {
   "cell_type": "code",
   "execution_count": null,
   "metadata": {},
   "outputs": [],
   "source": []
  },
  {
   "cell_type": "code",
   "execution_count": null,
   "metadata": {},
   "outputs": [],
   "source": []
  },
  {
   "cell_type": "code",
   "execution_count": null,
   "metadata": {},
   "outputs": [],
   "source": []
  },
  {
   "cell_type": "code",
   "execution_count": null,
   "metadata": {},
   "outputs": [],
   "source": []
  },
  {
   "cell_type": "code",
   "execution_count": null,
   "metadata": {},
   "outputs": [],
   "source": []
  },
  {
   "cell_type": "code",
   "execution_count": null,
   "metadata": {},
   "outputs": [],
   "source": []
  },
  {
   "cell_type": "code",
   "execution_count": null,
   "metadata": {},
   "outputs": [],
   "source": []
  },
  {
   "cell_type": "code",
   "execution_count": null,
   "metadata": {},
   "outputs": [],
   "source": []
  },
  {
   "cell_type": "code",
   "execution_count": null,
   "metadata": {},
   "outputs": [],
   "source": []
  }
 ],
 "metadata": {
  "kernelspec": {
   "display_name": "Python [conda env:BES_analysis] *",
   "language": "python",
   "name": "conda-env-BES_analysis-py"
  },
  "language_info": {
   "codemirror_mode": {
    "name": "ipython",
    "version": 3
   },
   "file_extension": ".py",
   "mimetype": "text/x-python",
   "name": "python",
   "nbconvert_exporter": "python",
   "pygments_lexer": "ipython3",
   "version": "3.7.6"
  }
 },
 "nbformat": 4,
 "nbformat_minor": 4
}
