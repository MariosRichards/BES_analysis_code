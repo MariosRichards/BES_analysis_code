{
 "cells": [
  {
   "cell_type": "code",
   "execution_count": null,
   "metadata": {},
   "outputs": [],
   "source": []
  },
  {
   "cell_type": "code",
   "execution_count": 1,
   "metadata": {},
   "outputs": [
    {
     "data": {
      "text/html": [
       "<script>jQuery(function() {if (jQuery(\"body.notebook_app\").length == 0) { jQuery(\".input_area\").toggle(); jQuery(\".prompt\").toggle();}});</script>"
      ]
     },
     "metadata": {},
     "output_type": "display_data"
    },
    {
     "data": {
      "text/html": [
       "<button onclick=\"jQuery('.input_area').toggle(); jQuery('.prompt').toggle();\">Toggle code</button>"
      ]
     },
     "metadata": {},
     "output_type": "display_data"
    },
    {
     "name": "stdout",
     "output_type": "stream",
     "text": [
      "var_type (8079, 14)\n",
      "Wall time: 38.9 s\n"
     ]
    }
   ],
   "source": [
    "%%time\n",
    "dataset_name = \"W19_comb\"\n",
    "df_list = 'BES_Panel_clean|BESnumeric'\n",
    "%matplotlib inline\n",
    "%run BES_header.py {dataset_name} {df_list}\n",
    "(var_type, cat_dictionary, new_old_col_names, old_new_col_names) = get_small_files(data_subfolder, encoding)\n",
    "\n",
    "BES_Panel = BES_Panel_clean\n",
    "del BES_Panel_clean"
   ]
  },
  {
   "cell_type": "code",
   "execution_count": 2,
   "metadata": {},
   "outputs": [
    {
     "data": {
      "text/plain": [
       "immigEconW1     30538\n",
       "immigEconW2     30261\n",
       "immigEconW3     28299\n",
       "immigEconW4     31551\n",
       "immigEconW7     30895\n",
       "immigEconW8     33502\n",
       "immigEconW10    30237\n",
       "immigEconW11    30956\n",
       "immigEconW13    31136\n",
       "immigEconW14    31063\n",
       "immigEconW15    30842\n",
       "immigEconW16    37959\n",
       "immigEconW17    34366\n",
       "dtype: int64"
      ]
     },
     "execution_count": 2,
     "metadata": {},
     "output_type": "execute_result"
    }
   ],
   "source": [
    "search(BES_Panel,\"immigEcon\")"
   ]
  },
  {
   "cell_type": "code",
   "execution_count": 3,
   "metadata": {},
   "outputs": [],
   "source": [
    "mask  = BES_Panel[\"immigEconW8\"].notnull()&BES_Panel[\"immigEconW10\"].notnull()"
   ]
  },
  {
   "cell_type": "code",
   "execution_count": 7,
   "metadata": {},
   "outputs": [
    {
     "data": {
      "text/html": [
       "<div>\n",
       "<style scoped>\n",
       "    .dataframe tbody tr th:only-of-type {\n",
       "        vertical-align: middle;\n",
       "    }\n",
       "\n",
       "    .dataframe tbody tr th {\n",
       "        vertical-align: top;\n",
       "    }\n",
       "\n",
       "    .dataframe thead th {\n",
       "        text-align: right;\n",
       "    }\n",
       "</style>\n",
       "<table border=\"1\" class=\"dataframe\">\n",
       "  <thead>\n",
       "    <tr style=\"text-align: right;\">\n",
       "      <th>immigEconW10</th>\n",
       "      <th>Bad for economy</th>\n",
       "      <th>2</th>\n",
       "      <th>3</th>\n",
       "      <th>4</th>\n",
       "      <th>5</th>\n",
       "      <th>6</th>\n",
       "      <th>Good for economy</th>\n",
       "      <th>Don't know</th>\n",
       "    </tr>\n",
       "    <tr>\n",
       "      <th>immigEconW8</th>\n",
       "      <th></th>\n",
       "      <th></th>\n",
       "      <th></th>\n",
       "      <th></th>\n",
       "      <th></th>\n",
       "      <th></th>\n",
       "      <th></th>\n",
       "      <th></th>\n",
       "    </tr>\n",
       "  </thead>\n",
       "  <tbody>\n",
       "    <tr>\n",
       "      <th>Bad for economy</th>\n",
       "      <td>0.506861</td>\n",
       "      <td>0.163236</td>\n",
       "      <td>0.112064</td>\n",
       "      <td>0.097484</td>\n",
       "      <td>0.041452</td>\n",
       "      <td>0.012293</td>\n",
       "      <td>0.018296</td>\n",
       "      <td>0.048313</td>\n",
       "    </tr>\n",
       "    <tr>\n",
       "      <th>2</th>\n",
       "      <td>0.117409</td>\n",
       "      <td>0.259615</td>\n",
       "      <td>0.247976</td>\n",
       "      <td>0.196356</td>\n",
       "      <td>0.091093</td>\n",
       "      <td>0.032389</td>\n",
       "      <td>0.011134</td>\n",
       "      <td>0.044028</td>\n",
       "    </tr>\n",
       "    <tr>\n",
       "      <th>3</th>\n",
       "      <td>0.045856</td>\n",
       "      <td>0.113168</td>\n",
       "      <td>0.256626</td>\n",
       "      <td>0.323938</td>\n",
       "      <td>0.151451</td>\n",
       "      <td>0.034077</td>\n",
       "      <td>0.015987</td>\n",
       "      <td>0.058898</td>\n",
       "    </tr>\n",
       "    <tr>\n",
       "      <th>4</th>\n",
       "      <td>0.020578</td>\n",
       "      <td>0.037249</td>\n",
       "      <td>0.102891</td>\n",
       "      <td>0.403751</td>\n",
       "      <td>0.262568</td>\n",
       "      <td>0.093774</td>\n",
       "      <td>0.030737</td>\n",
       "      <td>0.048450</td>\n",
       "    </tr>\n",
       "    <tr>\n",
       "      <th>5</th>\n",
       "      <td>0.009790</td>\n",
       "      <td>0.013427</td>\n",
       "      <td>0.032168</td>\n",
       "      <td>0.156084</td>\n",
       "      <td>0.374825</td>\n",
       "      <td>0.307692</td>\n",
       "      <td>0.078601</td>\n",
       "      <td>0.027413</td>\n",
       "    </tr>\n",
       "    <tr>\n",
       "      <th>6</th>\n",
       "      <td>0.005184</td>\n",
       "      <td>0.008207</td>\n",
       "      <td>0.007343</td>\n",
       "      <td>0.041037</td>\n",
       "      <td>0.178834</td>\n",
       "      <td>0.478186</td>\n",
       "      <td>0.270410</td>\n",
       "      <td>0.010799</td>\n",
       "    </tr>\n",
       "    <tr>\n",
       "      <th>Good for economy</th>\n",
       "      <td>0.014881</td>\n",
       "      <td>0.004464</td>\n",
       "      <td>0.006696</td>\n",
       "      <td>0.017857</td>\n",
       "      <td>0.036458</td>\n",
       "      <td>0.156250</td>\n",
       "      <td>0.747024</td>\n",
       "      <td>0.016369</td>\n",
       "    </tr>\n",
       "    <tr>\n",
       "      <th>Don't know</th>\n",
       "      <td>0.037490</td>\n",
       "      <td>0.020375</td>\n",
       "      <td>0.055420</td>\n",
       "      <td>0.198859</td>\n",
       "      <td>0.133659</td>\n",
       "      <td>0.070905</td>\n",
       "      <td>0.034230</td>\n",
       "      <td>0.449063</td>\n",
       "    </tr>\n",
       "  </tbody>\n",
       "</table>\n",
       "</div>"
      ],
      "text/plain": [
       "immigEconW10      Bad for economy         2         3         4         5  \\\n",
       "immigEconW8                                                                 \n",
       "Bad for economy          0.506861  0.163236  0.112064  0.097484  0.041452   \n",
       "2                        0.117409  0.259615  0.247976  0.196356  0.091093   \n",
       "3                        0.045856  0.113168  0.256626  0.323938  0.151451   \n",
       "4                        0.020578  0.037249  0.102891  0.403751  0.262568   \n",
       "5                        0.009790  0.013427  0.032168  0.156084  0.374825   \n",
       "6                        0.005184  0.008207  0.007343  0.041037  0.178834   \n",
       "Good for economy         0.014881  0.004464  0.006696  0.017857  0.036458   \n",
       "Don't know               0.037490  0.020375  0.055420  0.198859  0.133659   \n",
       "\n",
       "immigEconW10             6  Good for economy  Don't know  \n",
       "immigEconW8                                               \n",
       "Bad for economy   0.012293          0.018296    0.048313  \n",
       "2                 0.032389          0.011134    0.044028  \n",
       "3                 0.034077          0.015987    0.058898  \n",
       "4                 0.093774          0.030737    0.048450  \n",
       "5                 0.307692          0.078601    0.027413  \n",
       "6                 0.478186          0.270410    0.010799  \n",
       "Good for economy  0.156250          0.747024    0.016369  \n",
       "Don't know        0.070905          0.034230    0.449063  "
      ]
     },
     "execution_count": 7,
     "metadata": {},
     "output_type": "execute_result"
    }
   ],
   "source": [
    "pd.crosstab(BES_Panel[\"immigEconW8\"],BES_Panel[\"immigEconW10\"],normalize='index')"
   ]
  },
  {
   "cell_type": "code",
   "execution_count": null,
   "metadata": {},
   "outputs": [],
   "source": []
  },
  {
   "cell_type": "code",
   "execution_count": null,
   "metadata": {},
   "outputs": [],
   "source": []
  }
 ],
 "metadata": {
  "kernelspec": {
   "display_name": "Python [conda env:BES_analysis] *",
   "language": "python",
   "name": "conda-env-BES_analysis-py"
  },
  "language_info": {
   "codemirror_mode": {
    "name": "ipython",
    "version": 3
   },
   "file_extension": ".py",
   "mimetype": "text/x-python",
   "name": "python",
   "nbconvert_exporter": "python",
   "pygments_lexer": "ipython3",
   "version": "3.7.6"
  }
 },
 "nbformat": 4,
 "nbformat_minor": 4
}
