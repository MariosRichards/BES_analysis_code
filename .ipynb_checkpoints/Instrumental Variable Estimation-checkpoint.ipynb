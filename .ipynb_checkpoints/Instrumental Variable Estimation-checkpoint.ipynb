{
 "cells": [
  {
   "cell_type": "code",
   "execution_count": 1,
   "metadata": {},
   "outputs": [],
   "source": [
    "dataset_name = \"W19_comb\"\n",
    "df_list = [ \"BES_Panel\", \"BES_reduced_with_na\"]"
   ]
  },
  {
   "cell_type": "code",
   "execution_count": 2,
   "metadata": {},
   "outputs": [
    {
     "data": {
      "text/html": [
       "<script>jQuery(function() {if (jQuery(\"body.notebook_app\").length == 0) { jQuery(\".input_area\").toggle(); jQuery(\".prompt\").toggle();}});</script>"
      ]
     },
     "metadata": {},
     "output_type": "display_data"
    },
    {
     "data": {
      "text/html": [
       "<button onclick=\"jQuery('.input_area').toggle(); jQuery('.prompt').toggle();\">Toggle code</button>"
      ]
     },
     "metadata": {},
     "output_type": "display_data"
    },
    {
     "name": "stdout",
     "output_type": "stream",
     "text": [
      "var_type (7911, 14)\n"
     ]
    }
   ],
   "source": [
    "import warnings\n",
    "warnings.filterwarnings('ignore')\n",
    "\n",
    "from IPython.display import display\n",
    "from IPython.display import HTML\n",
    "import IPython.core.display as di # Example: di.display_html('<h3>%s:</h3>' % str, raw=True)\n",
    "\n",
    "# This line will hide code by default when the notebook is exported as HTML\n",
    "di.display_html('<script>jQuery(function() {if (jQuery(\"body.notebook_app\").length == 0) { jQuery(\".input_area\").toggle(); jQuery(\".prompt\").toggle();}});</script>', raw=True)\n",
    "\n",
    "# This line will add a button to toggle visibility of code blocks, for use with the HTML export version\n",
    "di.display_html('''<button onclick=\"jQuery('.input_area').toggle(); jQuery('.prompt').toggle();\">Toggle code</button>''', raw=True)\n",
    "\n",
    "%matplotlib inline\n",
    "\n",
    "import numpy as np, pandas as pd, matplotlib.pyplot as plt, seaborn as sns\n",
    "import pickle, os, gc, re\n",
    "\n",
    "sns.set();\n",
    "sns.set_palette(\"colorblind\")\n",
    "\n",
    "from IPython.display import display, display_html, HTML\n",
    "from IPython.core.debugger import set_trace\n",
    "# plt.rcParams[\"axes.grid\"] = False\n",
    "\n",
    "import Jupyter_module_loader\n",
    "from utility import *\n",
    "import gaussian_kde\n",
    "\n",
    "import warnings\n",
    "warnings.filterwarnings('ignore')\n",
    "\n",
    "import holoviews as hv\n",
    "from holoviews import opts\n",
    "\n",
    "encoding = \"ISO-8859-1\"\n",
    "\n",
    "# you should clone this git to a subdirectory called 'BES_analysis_code' (in some directory - I call it BES_analysis - doesn't matter though)\n",
    "# %matplotlib inline\n",
    "(BES_code_folder, BES_small_data_files, BES_data_folder,\n",
    " BES_output_folder, BES_file_manifest, BES_R_data_files) = setup_directories()\n",
    "\n",
    "global BES_Panel, BES_numeric, BES_reduced, BES_reduced_with_na, BES_non_numeric\n",
    "data_subfolder = BES_data_folder + dataset_name + os.sep\n",
    "\n",
    "(manifest, dataset_filename, dataset_description, dataset_citation,\n",
    " dataset_start, dataset_stop, dataset_wave) = get_manifest(dataset_name, BES_file_manifest)\n",
    "\n",
    "for df in df_list:\n",
    "    if df==\"BES_Panel\":\n",
    "        globals()[df]  = pd.read_pickle(data_subfolder + dataset_filename.replace('.dta','.zip'),compression='zip')\n",
    "    else:\n",
    "        globals()[df]  = pd.read_pickle(data_subfolder + df + '.zip',compression='zip' )\n",
    "        globals()[df].replace(-1,np.nan,inplace=True)\n",
    "  \n",
    "(var_type, cat_dictionary, new_old_col_names, old_new_col_names) = get_small_files(data_subfolder, encoding)\n",
    "\n",
    "# get full set of inferred \"cross wave\" auth-lib/left-right values and ages\n",
    "pan_dataset_allr_values = pd.read_csv(BES_small_data_files + \"pan_dataset_allr_values\"+\".csv\")\n",
    "pan_dataset_ages = pd.read_csv( BES_small_data_files + \"pan_dataset_ages\"+\".csv\" )"
   ]
  },
  {
   "cell_type": "code",
   "execution_count": 6,
   "metadata": {},
   "outputs": [],
   "source": [
    "immigSelfW10 = search(BES_reduced_with_na,\"immigSelfW10\").index[0]\n",
    "immigSelfW8  = search(BES_reduced_with_na,\"immigSelfW8\" ).index[0]\n",
    "D8_10immigSelf = BES_reduced_with_na[immigSelfW10]-BES_reduced_with_na[immigSelfW8]\n",
    "\n",
    "changeImmigW8  = search(BES_reduced_with_na,\"changeImmigW8\" ).index[0]\n",
    "changeImmigW10 = search(BES_reduced_with_na,\"changeImmigW10\").index[0]\n",
    "D8_10changeImmig = BES_reduced_with_na[changeImmigW10]-BES_reduced_with_na[changeImmigW8]\n",
    "\n",
    "changeCrimeW8  = search(BES_reduced_with_na,\"changeCrimeW8\" ).index[0]\n",
    "changeCrimeW10 = search(BES_reduced_with_na,\"changeCrimeW10\").index[0]\n",
    "D8_10changeCrime = BES_reduced_with_na[changeCrimeW10]-BES_reduced_with_na[changeCrimeW8]\n",
    "\n",
    "immigEconW10 = search(BES_reduced_with_na,\"immigEconW10\").index[0]\n",
    "immigEconW8  = search(BES_reduced_with_na,\"immigEconW8\" ).index[0]\n",
    "D8_10immigEcon = BES_reduced_with_na[immigEconW10]-BES_reduced_with_na[immigEconW8]\n",
    "\n",
    "immigCulturalW10 = search(BES_reduced_with_na,\"immigCulturalW10\").index[0]\n",
    "immigCulturalW8  = search(BES_reduced_with_na,\"immigCulturalW8\" ).index[0]\n",
    "D8_10immigCultural = BES_reduced_with_na[immigCulturalW10]-BES_reduced_with_na[immigCulturalW8]\n",
    "\n",
    "\n",
    "# df = pd.concat([D8_10immigSelf,D8_10changeImmig,D8_10changeCrime,D8_10immigEcon,D8_10immigCultural],axis=1).dropna()\n",
    "# df.columns = [\"D8_10immigSelf\",\"D8_10changeImmig\",\"D8_10changeCrime\",\"D8_10immigEcon\",\"D8_10immigCultural\"]"
   ]
  },
  {
   "cell_type": "code",
   "execution_count": 23,
   "metadata": {},
   "outputs": [],
   "source": [
    "from linearmodels.iv import IV2SLS\n",
    "from linearmodels.iv import compare\n",
    "import statsmodels.api as sm\n",
    "from statsmodels.api import add_constant"
   ]
  },
  {
   "cell_type": "code",
   "execution_count": 26,
   "metadata": {},
   "outputs": [],
   "source": [
    "df = pd.concat([D8_10immigSelf,D8_10changeImmig,D8_10changeCrime,D8_10immigEcon,D8_10immigCultural],axis=1).dropna().astype('float32')\n",
    "df.columns = [\"D8_10immigSelf\",\"D8_10changeImmig\",\"D8_10changeCrime\",\"D8_10immigEcon\",\"D8_10immigCultural\"]\n",
    "df = add_constant(df, has_constant='add')"
   ]
  },
  {
   "cell_type": "code",
   "execution_count": 38,
   "metadata": {},
   "outputs": [
    {
     "name": "stdout",
     "output_type": "stream",
     "text": [
      "                            OLS Estimation Summary                            \n",
      "==============================================================================\n",
      "Dep. Variable:         D8_10immigSelf   R-squared:                      0.0065\n",
      "Estimator:                        OLS   Adj. R-squared:                 0.0064\n",
      "No. Observations:               14901   F-statistic:                    97.465\n",
      "Date:                Wed, Apr 15 2020   P-value (F-stat)                0.0000\n",
      "Time:                        19:40:33   Distribution:                  chi2(1)\n",
      "Cov. Estimator:            unadjusted                                         \n",
      "                                                                              \n",
      "                                Parameter Estimates                                 \n",
      "====================================================================================\n",
      "                  Parameter  Std. Err.     T-stat    P-value    Lower CI    Upper CI\n",
      "------------------------------------------------------------------------------------\n",
      "const                0.0391     0.0167     2.3442     0.0191      0.0064      0.0719\n",
      "D8_10changeImmig    -0.1551     0.0157    -9.8724     0.0000     -0.1859     -0.1243\n",
      "====================================================================================\n"
     ]
    }
   ],
   "source": [
    "# 2 stage least squares resolves to OLS when Endongeous and Instrument arguments are set to None\n",
    "dep = \"D8_10immigSelf\"\n",
    "exog = ['const','D8_10changeImmig']\n",
    "\n",
    "res_ols = IV2SLS(dependent = df[dep],\n",
    "                 exog = df[exog],\n",
    "                 endog = None,\n",
    "                 instruments = None).fit(cov_type='unadjusted')\n",
    "print(res_ols)\n",
    "\n",
    "# there's an effect of DchangeImmig in DimmigSelf ... but it's quite a small contribution"
   ]
  },
  {
   "cell_type": "code",
   "execution_count": 39,
   "metadata": {},
   "outputs": [
    {
     "name": "stdout",
     "output_type": "stream",
     "text": [
      "                            OLS Estimation Summary                            \n",
      "==============================================================================\n",
      "Dep. Variable:       D8_10changeImmig   R-squared:                      0.0839\n",
      "Estimator:                        OLS   Adj. R-squared:                 0.0838\n",
      "No. Observations:               14901   F-statistic:                    1364.0\n",
      "Date:                Wed, Apr 15 2020   P-value (F-stat)                0.0000\n",
      "Time:                        19:40:35   Distribution:                  chi2(1)\n",
      "Cov. Estimator:            unadjusted                                         \n",
      "                                                                              \n",
      "                                Parameter Estimates                                 \n",
      "====================================================================================\n",
      "                  Parameter  Std. Err.     T-stat    P-value    Lower CI    Upper CI\n",
      "------------------------------------------------------------------------------------\n",
      "const               -0.4810     0.0074    -64.690     0.0000     -0.4956     -0.4664\n",
      "D8_10changeCrime     0.3109     0.0084     36.932     0.0000      0.2944      0.3273\n",
      "====================================================================================\n"
     ]
    }
   ],
   "source": [
    "# First stage to check whether DchangeCrime is a strong instrument for changeImmig\n",
    "\n",
    "dep = \"D8_10changeImmig\"\n",
    "exog = ['const','D8_10changeCrime']\n",
    "\n",
    "res_first = IV2SLS(dependent = df[dep],\n",
    "                   exog = df[exog],\n",
    "                   endog = None,\n",
    "                   instruments = None).fit(cov_type='unadjusted')\n",
    "print(res_first)\n",
    "\n",
    "# correlation isn't huge, but F-statistic is pretty reasonable (F >> 10)"
   ]
  },
  {
   "cell_type": "code",
   "execution_count": 40,
   "metadata": {},
   "outputs": [
    {
     "name": "stdout",
     "output_type": "stream",
     "text": [
      "                          IV-2SLS Estimation Summary                          \n",
      "==============================================================================\n",
      "Dep. Variable:         D8_10immigSelf   R-squared:                      0.0063\n",
      "Estimator:                    IV-2SLS   Adj. R-squared:                 0.0062\n",
      "No. Observations:               14901   F-statistic:                    5.5622\n",
      "Date:                Wed, Apr 15 2020   P-value (F-stat)                0.0184\n",
      "Time:                        19:40:35   Distribution:                  chi2(1)\n",
      "Cov. Estimator:            unadjusted                                         \n",
      "                                                                              \n",
      "                                Parameter Estimates                                 \n",
      "====================================================================================\n",
      "                  Parameter  Std. Err.     T-stat    P-value    Lower CI    Upper CI\n",
      "------------------------------------------------------------------------------------\n",
      "const                0.0521     0.0300     1.7397     0.0819     -0.0066      0.1109\n",
      "D8_10changeImmig    -0.1280     0.0543    -2.3584     0.0184     -0.2344     -0.0216\n",
      "====================================================================================\n",
      "\n",
      "Endogenous: D8_10changeImmig\n",
      "Instruments: D8_10changeCrime\n",
      "Unadjusted Covariance (Homoskedastic)\n",
      "Debiased: False\n"
     ]
    }
   ],
   "source": [
    "# The second stage uses the instrument to fit the model.\n",
    "\n",
    "dep = 'D8_10immigSelf'\n",
    "exog = ['const']\n",
    "endog = ['D8_10changeImmig']\n",
    "instr = ['D8_10changeCrime']\n",
    "\n",
    "res_second = IV2SLS(dependent = df[dep],\n",
    "                    exog = df[exog],\n",
    "                    endog = df[endog],\n",
    "                    instruments = df[instr]).fit(cov_type='unadjusted')\n",
    "\n",
    "print(res_second)\n",
    "# DchangeImmig coefficienct is reduced to ~80% of previous"
   ]
  },
  {
   "cell_type": "code",
   "execution_count": 41,
   "metadata": {},
   "outputs": [
    {
     "name": "stdout",
     "output_type": "stream",
     "text": [
      "                                 Model Comparison                                \n",
      "=================================================================================\n",
      "                                        OLS               2SLS             Direct\n",
      "---------------------------------------------------------------------------------\n",
      "Dep. Variable                D8_10immigSelf     D8_10immigSelf     D8_10immigSelf\n",
      "Estimator                               OLS            IV-2SLS                OLS\n",
      "No. Observations                      14901              14901              14901\n",
      "Cov. Est.                        unadjusted         unadjusted         unadjusted\n",
      "R-squared                            0.0065             0.0063             0.0004\n",
      "Adj. R-squared                       0.0064             0.0062             0.0003\n",
      "F-statistic                          97.465             5.5622             5.5292\n",
      "P-value (F-stat)                     0.0000             0.0184             0.0187\n",
      "======================     ================   ================   ================\n",
      "const                                0.0391             0.0521             0.0521\n",
      "                                   (2.3442)           (1.7397)           (1.7345)\n",
      "D8_10changeImmig                    -0.1551            -0.1280                   \n",
      "                                  (-9.8724)          (-2.3584)                   \n",
      "D8_10changeImmig_hat                                                      -0.1280\n",
      "                                                                        (-2.3514)\n",
      "======================== ================== ================== ==================\n",
      "Instruments                                   D8_10changeCrime                   \n",
      "---------------------------------------------------------------------------------\n",
      "\n",
      "T-stats reported in parentheses\n"
     ]
    }
   ],
   "source": [
    "# Sanity check with 'Direct' calculated from the difference between DchangeImmig and residuals from first stage\n",
    "\n",
    "dep = 'D8_10immigSelf'\n",
    "df['D8_10changeImmig_hat'] = df[\"D8_10changeImmig\"] - res_first.resids\n",
    "exog = ['const','D8_10changeImmig_hat']\n",
    "\n",
    "res_direct = IV2SLS(dependent = df[dep],\n",
    "                    exog = df[exog],\n",
    "                    endog = None,\n",
    "                    instruments = None).fit(cov_type='unadjusted')\n",
    "\n",
    "print(compare({'OLS':res_ols, '2SLS':res_second, 'Direct': res_direct}))\n",
    "\n",
    "# The 2SLS coefficient on D8_10changeImmig and the direct coefficient on D8_10changeImmig_hat are identical."
   ]
  },
  {
   "cell_type": "code",
   "execution_count": 25,
   "metadata": {},
   "outputs": [
    {
     "name": "stdout",
     "output_type": "stream",
     "text": [
      "       First Stage Estimation Results      \n",
      "===========================================\n",
      "                           D8_10changeImmig\n",
      "-------------------------------------------\n",
      "R-squared                            0.0839\n",
      "Partial R-squared                    0.0839\n",
      "Shea's R-squared                     0.0839\n",
      "Partial F-statistic                  631.44\n",
      "P-value (Partial F-stat)             0.0000\n",
      "Partial F-stat Distn                chi2(1)\n",
      "==========================      ===========\n",
      "const                               -0.4810\n",
      "                                  (-64.717)\n",
      "D8_10changeCrime                     0.3109\n",
      "                                   (25.129)\n",
      "-------------------------------------------\n",
      "\n",
      "T-stats reported in parentheses\n",
      "T-stats use same covariance type as original model\n"
     ]
    }
   ],
   "source": [
    "# If we had multiple exogenous variables you couldn't just rely on \"big F in first stage\" => strong first stage\n",
    "# there is a helper function that calculation partial F (and a bunch of other partial measures) for the instrument\n",
    "# upon your candidate endogenous value\n",
    "\n",
    "print(res_second.first_stage)\n",
    "\n",
    "# surprisingly memory intensive!"
   ]
  },
  {
   "cell_type": "code",
   "execution_count": 29,
   "metadata": {},
   "outputs": [
    {
     "name": "stdout",
     "output_type": "stream",
     "text": [
      "                                          Model Comparison                                          \n",
      "====================================================================================================\n",
      "                                        OLS               2SLS             Direct       From Formula\n",
      "----------------------------------------------------------------------------------------------------\n",
      "Dep. Variable                D8_10immigSelf     D8_10immigSelf     D8_10immigSelf     D8_10immigSelf\n",
      "Estimator                               OLS            IV-2SLS                OLS            IV-2SLS\n",
      "No. Observations                      14901              14901              14901              14901\n",
      "Cov. Est.                        unadjusted         unadjusted         unadjusted         unadjusted\n",
      "R-squared                            0.0065             0.0063             0.0004             0.0063\n",
      "Adj. R-squared                       0.0064             0.0062             0.0003             0.0062\n",
      "F-statistic                          97.465             5.5622             5.5292             5.5622\n",
      "P-value (F-stat)                     0.0000             0.0184             0.0187             0.0184\n",
      "======================     ================   ================   ================   ================\n",
      "const                                0.0391             0.0521             0.0521                   \n",
      "                                   (2.3442)           (1.7397)           (1.7345)                   \n",
      "D8_10changeImmig                    -0.1551            -0.1280                               -0.1280\n",
      "                                  (-9.8724)          (-2.3584)                             (-2.3584)\n",
      "D8_10changeImmig_hat                                                      -0.1280                   \n",
      "                                                                        (-2.3514)                   \n",
      "Intercept                                                                                     0.0521\n",
      "                                                                                            (1.7397)\n",
      "======================== ================== ================== ================== ==================\n",
      "Instruments                                   D8_10changeCrime                      D8_10changeCrime\n",
      "----------------------------------------------------------------------------------------------------\n",
      "\n",
      "T-stats reported in parentheses\n"
     ]
    }
   ],
   "source": [
    "# Can also specify the model with a formula\n",
    "\n",
    "formula = ('D8_10immigSelf ~ 1 + [D8_10changeImmig ~ D8_10changeCrime]')\n",
    "mod = IV2SLS.from_formula(formula, df)\n",
    "res_formula = mod.fit(cov_type='unadjusted')\n",
    "\n",
    "print(compare({'OLS':res_ols, '2SLS':res_second, 'Direct': res_direct, 'From Formula':res_formula}))\n",
    "\n",
    "# Changes nothing other than that 'const' is renamed 'Intercept'"
   ]
  },
  {
   "cell_type": "code",
   "execution_count": 30,
   "metadata": {},
   "outputs": [
    {
     "name": "stdout",
     "output_type": "stream",
     "text": [
      "                          IV-2SLS Estimation Summary                          \n",
      "==============================================================================\n",
      "Dep. Variable:         D8_10immigSelf   R-squared:                      0.0075\n",
      "Estimator:                    IV-2SLS   Adj. R-squared:                 0.0071\n",
      "No. Observations:               14901   F-statistic:                    19.276\n",
      "Date:                Wed, Apr 15 2020   P-value (F-stat)                0.0037\n",
      "Time:                        18:42:18   Distribution:                  chi2(6)\n",
      "Cov. Estimator:            unadjusted                                         \n",
      "                                                                              \n",
      "                                        Parameter Estimates                                         \n",
      "====================================================================================================\n",
      "                                  Parameter  Std. Err.     T-stat    P-value    Lower CI    Upper CI\n",
      "----------------------------------------------------------------------------------------------------\n",
      "const                                0.0709     0.0381     1.8586     0.0631     -0.0039      0.1457\n",
      "controlImmigW9.A lot of control     -0.0274     0.0408    -0.6726     0.5012     -0.1074      0.0525\n",
      "controlImmigW9.A little control     -0.0625     0.0432    -1.4470     0.1479     -0.1471      0.0221\n",
      "controlImmigW9.Complete control     -0.1198     0.0517    -2.3166     0.0205     -0.2212     -0.0184\n",
      "controlImmigW9.No control at all     0.1164     0.0558     2.0849     0.0371      0.0070      0.2258\n",
      "controlImmigW9.Don't know           -0.0920     0.0843    -1.0909     0.2753     -0.2572      0.0733\n",
      "D8_10changeImmig                    -0.1372     0.0556    -2.4665     0.0136     -0.2462     -0.0282\n",
      "====================================================================================================\n",
      "\n",
      "Endogenous: D8_10changeImmig\n",
      "Instruments: D8_10changeCrime\n",
      "Unadjusted Covariance (Homoskedastic)\n",
      "Debiased: False\n"
     ]
    }
   ],
   "source": [
    "# It also handles categorical variables - adding controlImmigW9 as a categorical\n",
    "# it drops the first category by default, so I'm setting the order so that the first category is the highest frequency\n",
    "# \"Some Control\" is thus the base (shame it doesn't show that automatically - boo!)\n",
    "\n",
    "df[\"controlImmigW9\"] = BES_Panel[\"controlImmigW9\"]\n",
    "df[\"controlImmigW9\"] = df[\"controlImmigW9\"].cat.reorder_categories( list(BES_Panel[\"controlImmigW9\"].value_counts().index) )\n",
    "\n",
    "dep = 'D8_10immigSelf'\n",
    "exog = ['const','controlImmigW9']\n",
    "endog = ['D8_10changeImmig']\n",
    "instr = ['D8_10changeCrime']\n",
    "\n",
    "res_cat = IV2SLS(   dependent = df[dep],\n",
    "                    exog = df[exog],\n",
    "                    endog = df[endog],\n",
    "                    instruments = df[instr]).fit(cov_type='unadjusted')\n",
    "\n",
    "print(res_cat)"
   ]
  },
  {
   "cell_type": "code",
   "execution_count": 33,
   "metadata": {},
   "outputs": [],
   "source": [
    "## Post-estimation diagnostics"
   ]
  },
  {
   "cell_type": "code",
   "execution_count": 42,
   "metadata": {},
   "outputs": [
    {
     "data": {
      "text/plain": [
       "Wooldridge's regression test of exogeneity\n",
       "H0: Endogenous variables are exogenous\n",
       "Statistic: 0.2732\n",
       "P-value: 0.6012\n",
       "Distributed: chi2(1)\n",
       "WaldTestStatistic, id: 0xe9d53748"
      ]
     },
     "execution_count": 42,
     "metadata": {},
     "output_type": "execute_result"
    }
   ],
   "source": [
    "# Is changeImmig actually endogeneous to immigSelf?\n",
    "\n",
    "res_second.wooldridge_regression\n",
    "\n",
    "## Nope"
   ]
  },
  {
   "cell_type": "code",
   "execution_count": null,
   "metadata": {},
   "outputs": [],
   "source": [
    "# How much do I buy this as a measure of endogeneity? Quick sanity check - will test on \"really obviously endogeneous\" variables"
   ]
  },
  {
   "cell_type": "code",
   "execution_count": 44,
   "metadata": {},
   "outputs": [],
   "source": [
    "# Add in DimmigEcon, DimmigCultural\n",
    "\n",
    "df = pd.concat([D8_10immigSelf,D8_10changeImmig,D8_10changeCrime,D8_10immigEcon,D8_10immigCultural],axis=1).dropna()\n",
    "df.columns = [\"D8_10immigSelf\",\"D8_10changeImmig\",\"D8_10changeCrime\",\"D8_10immigEcon\",\"D8_10immigCultural\"]\n",
    "df = add_constant(df, has_constant='add')"
   ]
  },
  {
   "cell_type": "code",
   "execution_count": 46,
   "metadata": {},
   "outputs": [
    {
     "name": "stdout",
     "output_type": "stream",
     "text": [
      "                          IV-2SLS Estimation Summary                          \n",
      "==============================================================================\n",
      "Dep. Variable:         D8_10immigSelf   R-squared:                     -0.0565\n",
      "Estimator:                    IV-2SLS   Adj. R-squared:                -0.0566\n",
      "No. Observations:               14901   F-statistic:                    467.92\n",
      "Date:                Wed, Apr 15 2020   P-value (F-stat)                0.0000\n",
      "Time:                        19:44:29   Distribution:                  chi2(1)\n",
      "Cov. Estimator:            unadjusted                                         \n",
      "                                                                              \n",
      "                               Parameter Estimates                                \n",
      "==================================================================================\n",
      "                Parameter  Std. Err.     T-stat    P-value    Lower CI    Upper CI\n",
      "----------------------------------------------------------------------------------\n",
      "const             -0.1775     0.0204    -8.6921     0.0000     -0.2175     -0.1375\n",
      "D8_10immigEcon     0.6739     0.0312     21.632     0.0000      0.6129      0.7350\n",
      "==================================================================================\n",
      "\n",
      "Endogenous: D8_10immigEcon\n",
      "Instruments: D8_10changeCrime, D8_10changeImmig, D8_10immigCultural\n",
      "Unadjusted Covariance (Homoskedastic)\n",
      "Debiased: False\n"
     ]
    }
   ],
   "source": [
    "dep = 'D8_10immigSelf'\n",
    "exog = ['const']\n",
    "endog = ['D8_10immigEcon']\n",
    "instr = ['D8_10changeCrime',\"D8_10changeImmig\",\"D8_10immigCultural\"] ## these are not necessarily effective/sensible instruments!\n",
    "\n",
    "res_test = IV2SLS(  dependent = df[dep],\n",
    "                    exog = df[exog],\n",
    "                    endog = df[endog],\n",
    "                    instruments = df[instr]).fit(cov_type='unadjusted')\n",
    "print(res_test)\n",
    "\n",
    "# F value looks bonkers, R-squared seems very low"
   ]
  },
  {
   "cell_type": "code",
   "execution_count": 47,
   "metadata": {},
   "outputs": [
    {
     "data": {
      "text/plain": [
       "Wooldridge's regression test of exogeneity\n",
       "H0: Endogenous variables are exogenous\n",
       "Statistic: 239.5133\n",
       "P-value: 0.0000\n",
       "Distributed: chi2(1)\n",
       "WaldTestStatistic, id: 0x71911f48"
      ]
     },
     "execution_count": 47,
     "metadata": {},
     "output_type": "execute_result"
    }
   ],
   "source": [
    "# Is DimmigEcon endogeneous to DimmigSelf?\n",
    "\n",
    "res_test.wooldridge_regression\n",
    "\n",
    "# Yes, very much so"
   ]
  },
  {
   "cell_type": "code",
   "execution_count": 48,
   "metadata": {},
   "outputs": [
    {
     "data": {
      "text/plain": [
       "Wooldridge's score test of overidentification\n",
       "H0: Model is not overidentified.\n",
       "Statistic: 14.4561\n",
       "P-value: 0.0007\n",
       "Distributed: chi2(2)\n",
       "WaldTestStatistic, id: 0xe9d53548"
      ]
     },
     "execution_count": 48,
     "metadata": {},
     "output_type": "execute_result"
    }
   ],
   "source": [
    "# How about those instruments? Too many or just enough?\n",
    "\n",
    "res_test.wooldridge_overid\n",
    "\n",
    "# Hella too many (/too correlated with the dependent variable)"
   ]
  },
  {
   "cell_type": "code",
   "execution_count": 49,
   "metadata": {},
   "outputs": [
    {
     "name": "stdout",
     "output_type": "stream",
     "text": [
      "                          IV-2SLS Estimation Summary                          \n",
      "==============================================================================\n",
      "Dep. Variable:         D8_10immigSelf   R-squared:                     -0.3980\n",
      "Estimator:                    IV-2SLS   Adj. R-squared:                -0.3981\n",
      "No. Observations:               14901   F-statistic:                    69.429\n",
      "Date:                Wed, Apr 15 2020   P-value (F-stat)                0.0000\n",
      "Time:                        19:49:38   Distribution:                  chi2(1)\n",
      "Cov. Estimator:            unadjusted                                         \n",
      "                                                                              \n",
      "                               Parameter Estimates                                \n",
      "==================================================================================\n",
      "                Parameter  Std. Err.     T-stat    P-value    Lower CI    Upper CI\n",
      "----------------------------------------------------------------------------------\n",
      "const             -0.3992     0.0640    -6.2360     0.0000     -0.5247     -0.2738\n",
      "D8_10immigEcon     1.1875     0.1425     8.3324     0.0000      0.9081      1.4668\n",
      "==================================================================================\n",
      "\n",
      "Endogenous: D8_10immigEcon\n",
      "Instruments: D8_10changeCrime, D8_10changeImmig\n",
      "Unadjusted Covariance (Homoskedastic)\n",
      "Debiased: False\n"
     ]
    }
   ],
   "source": [
    "# Lets drop DimmigCultural as an instrument\n",
    "\n",
    "dep = 'D8_10immigSelf'\n",
    "exog = ['const']\n",
    "endog = ['D8_10immigEcon']\n",
    "instr = ['D8_10changeCrime',\"D8_10changeImmig\"] \n",
    "\n",
    "res_test2 = IV2SLS(  dependent = df[dep],\n",
    "                    exog = df[exog],\n",
    "                    endog = df[endog],\n",
    "                    instruments = df[instr]).fit(cov_type='unadjusted')\n",
    "print(res_test2)"
   ]
  },
  {
   "cell_type": "code",
   "execution_count": 51,
   "metadata": {},
   "outputs": [
    {
     "data": {
      "text/plain": [
       "Wooldridge's score test of overidentification\n",
       "H0: Model is not overidentified.\n",
       "Statistic: 0.0207\n",
       "P-value: 0.8856\n",
       "Distributed: chi2(1)\n",
       "WaldTestStatistic, id: 0x71820088"
      ]
     },
     "execution_count": 51,
     "metadata": {},
     "output_type": "execute_result"
    }
   ],
   "source": [
    "res_test2.wooldridge_overid\n",
    "\n",
    "# Bingo - now it's not overidentified\n",
    "# Ironically, changeImmig is sufficiently exogeneous to immigSelf to be an instrument"
   ]
  },
  {
   "cell_type": "code",
   "execution_count": 52,
   "metadata": {},
   "outputs": [
    {
     "name": "stdout",
     "output_type": "stream",
     "text": [
      "      First Stage Estimation Results     \n",
      "=========================================\n",
      "                           D8_10immigEcon\n",
      "-----------------------------------------\n",
      "R-squared                          0.0094\n",
      "Partial R-squared                  0.0094\n",
      "Shea's R-squared                   0.0094\n",
      "Partial F-statistic                141.95\n",
      "P-value (Partial F-stat)           0.0000\n",
      "Partial F-stat Distn              chi2(2)\n",
      "==========================    ===========\n",
      "const                              0.3685\n",
      "                                 (31.274)\n",
      "D8_10changeCrime                   0.0049\n",
      "                                 (0.3953)\n",
      "D8_10changeImmig                  -0.1320\n",
      "                                (-11.512)\n",
      "-----------------------------------------\n",
      "\n",
      "T-stats reported in parentheses\n",
      "T-stats use same covariance type as original model\n"
     ]
    }
   ],
   "source": [
    "# But it's not clear whether DchangeCrime/DchangeImmig fulfil the first criterion of 'instrumentality'\n",
    "\n",
    "print(res_test2.first_stage)"
   ]
  },
  {
   "cell_type": "code",
   "execution_count": null,
   "metadata": {},
   "outputs": [],
   "source": [
    "# alternative endogeneity tests"
   ]
  },
  {
   "cell_type": "code",
   "execution_count": 59,
   "metadata": {},
   "outputs": [
    {
     "data": {
      "text/plain": [
       "Durbin test of exogeneity\n",
       "H0: All endogenous variables are exogenous\n",
       "Statistic: 239.0375\n",
       "P-value: 0.0000\n",
       "Distributed: chi2(1)\n",
       "WaldTestStatistic, id: 0xeb1c3a08"
      ]
     },
     "execution_count": 59,
     "metadata": {},
     "output_type": "execute_result"
    }
   ],
   "source": [
    "res_test.durbin()\n",
    "# Not robust to heteroscedasity (unlike wooldridge)"
   ]
  },
  {
   "cell_type": "code",
   "execution_count": 60,
   "metadata": {},
   "outputs": [
    {
     "data": {
      "text/plain": [
       "Wu-Hausman test of exogeneity\n",
       "H0: All endogenous variables are exogenous\n",
       "Statistic: 242.8856\n",
       "P-value: 0.0000\n",
       "Distributed: F(1,14898)\n",
       "WaldTestStatistic, id: 0xec89d888"
      ]
     },
     "execution_count": 60,
     "metadata": {},
     "output_type": "execute_result"
    }
   ],
   "source": [
    "res_test.wu_hausman()\n",
    "# Slightly modified version of Durbin\n",
    "# Also, not robust to heteroscedasity (unlike wooldridge)"
   ]
  },
  {
   "cell_type": "code",
   "execution_count": 61,
   "metadata": {},
   "outputs": [
    {
     "data": {
      "text/plain": [
       "Wooldridge's score test of exogeneity\n",
       "H0: Endogenous variables are exogenous\n",
       "Statistic: 162.0395\n",
       "P-value: 0.0000\n",
       "Distributed: chi2(1)\n",
       "WaldTestStatistic, id: 0x717c9908"
      ]
     },
     "execution_count": 61,
     "metadata": {},
     "output_type": "execute_result"
    }
   ],
   "source": [
    "# Robust to heteroscedasity\n",
    "# but less power\n",
    "res_test.wooldridge_score"
   ]
  },
  {
   "cell_type": "code",
   "execution_count": null,
   "metadata": {},
   "outputs": [],
   "source": []
  },
  {
   "cell_type": "code",
   "execution_count": 53,
   "metadata": {},
   "outputs": [
    {
     "name": "stdout",
     "output_type": "stream",
     "text": [
      "                          IV-2SLS Estimation Summary                          \n",
      "==============================================================================\n",
      "Dep. Variable:         D8_10immigSelf   R-squared:                     -0.3980\n",
      "Estimator:                    IV-2SLS   Adj. R-squared:                -0.3981\n",
      "No. Observations:               14901   F-statistic:                    54.874\n",
      "Date:                Wed, Apr 15 2020   P-value (F-stat)                0.0000\n",
      "Time:                        19:59:38   Distribution:                  chi2(1)\n",
      "Cov. Estimator:                robust                                         \n",
      "                                                                              \n",
      "                               Parameter Estimates                                \n",
      "==================================================================================\n",
      "                Parameter  Std. Err.     T-stat    P-value    Lower CI    Upper CI\n",
      "----------------------------------------------------------------------------------\n",
      "const             -0.3992     0.0703    -5.6775     0.0000     -0.5371     -0.2614\n",
      "D8_10immigEcon     1.1875     0.1603     7.4077     0.0000      0.8733      1.5016\n",
      "==================================================================================\n",
      "\n",
      "Endogenous: D8_10immigEcon\n",
      "Instruments: D8_10changeCrime, D8_10changeImmig\n",
      "Robust Covariance (Heteroskedastic)\n",
      "Debiased: False\n"
     ]
    }
   ],
   "source": [
    "# Better covariance models? Yes - several are accessible - but the default one is \"robust\" (to heteroscedasticity)\n",
    "\n",
    "dep = 'D8_10immigSelf'\n",
    "exog = ['const']\n",
    "endog = ['D8_10immigEcon']\n",
    "instr = ['D8_10changeCrime',\"D8_10changeImmig\"] \n",
    "\n",
    "res_test3 = IV2SLS(  dependent = df[dep],\n",
    "                    exog = df[exog],\n",
    "                    endog = df[endog],\n",
    "                    instruments = df[instr]).fit()\n",
    "print(res_test3)\n",
    "\n",
    "# Coefficients don't change, just the F-statistic/comparable error/T-stats get a bit more (accurately) conservative"
   ]
  },
  {
   "cell_type": "code",
   "execution_count": null,
   "metadata": {},
   "outputs": [],
   "source": []
  },
  {
   "cell_type": "code",
   "execution_count": null,
   "metadata": {},
   "outputs": [],
   "source": []
  },
  {
   "cell_type": "code",
   "execution_count": null,
   "metadata": {},
   "outputs": [],
   "source": []
  },
  {
   "cell_type": "code",
   "execution_count": null,
   "metadata": {},
   "outputs": [],
   "source": []
  },
  {
   "cell_type": "code",
   "execution_count": null,
   "metadata": {},
   "outputs": [],
   "source": []
  }
 ],
 "metadata": {
  "kernelspec": {
   "display_name": "Python [conda env:BES_analysis] *",
   "language": "python",
   "name": "conda-env-BES_analysis-py"
  },
  "language_info": {
   "codemirror_mode": {
    "name": "ipython",
    "version": 3
   },
   "file_extension": ".py",
   "mimetype": "text/x-python",
   "name": "python",
   "nbconvert_exporter": "python",
   "pygments_lexer": "ipython3",
   "version": "3.7.6"
  }
 },
 "nbformat": 4,
 "nbformat_minor": 4
}
