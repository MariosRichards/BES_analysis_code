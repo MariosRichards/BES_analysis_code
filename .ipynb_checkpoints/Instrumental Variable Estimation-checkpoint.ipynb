{
 "cells": [
  {
   "cell_type": "code",
   "execution_count": 1,
   "metadata": {},
   "outputs": [],
   "source": [
    "dataset_name = \"W19_comb\"\n",
    "df_list = [ \"BES_Panel\", \"BES_reduced_with_na\"]"
   ]
  },
  {
   "cell_type": "code",
   "execution_count": 2,
   "metadata": {},
   "outputs": [
    {
     "data": {
      "text/html": [
       "<script>jQuery(function() {if (jQuery(\"body.notebook_app\").length == 0) { jQuery(\".input_area\").toggle(); jQuery(\".prompt\").toggle();}});</script>"
      ]
     },
     "metadata": {},
     "output_type": "display_data"
    },
    {
     "data": {
      "text/html": [
       "<button onclick=\"jQuery('.input_area').toggle(); jQuery('.prompt').toggle();\">Toggle code</button>"
      ]
     },
     "metadata": {},
     "output_type": "display_data"
    },
    {
     "name": "stdout",
     "output_type": "stream",
     "text": [
      "var_type (7911, 14)\n"
     ]
    }
   ],
   "source": [
    "import warnings\n",
    "warnings.filterwarnings('ignore')\n",
    "\n",
    "from IPython.display import display\n",
    "from IPython.display import HTML\n",
    "import IPython.core.display as di # Example: di.display_html('<h3>%s:</h3>' % str, raw=True)\n",
    "\n",
    "# This line will hide code by default when the notebook is exported as HTML\n",
    "di.display_html('<script>jQuery(function() {if (jQuery(\"body.notebook_app\").length == 0) { jQuery(\".input_area\").toggle(); jQuery(\".prompt\").toggle();}});</script>', raw=True)\n",
    "\n",
    "# This line will add a button to toggle visibility of code blocks, for use with the HTML export version\n",
    "di.display_html('''<button onclick=\"jQuery('.input_area').toggle(); jQuery('.prompt').toggle();\">Toggle code</button>''', raw=True)\n",
    "\n",
    "%matplotlib inline\n",
    "\n",
    "import numpy as np, pandas as pd, matplotlib.pyplot as plt, seaborn as sns\n",
    "import pickle, os, gc, re\n",
    "\n",
    "sns.set();\n",
    "sns.set_palette(\"colorblind\")\n",
    "\n",
    "from IPython.display import display, display_html, HTML\n",
    "from IPython.core.debugger import set_trace\n",
    "# plt.rcParams[\"axes.grid\"] = False\n",
    "\n",
    "import Jupyter_module_loader\n",
    "from utility import *\n",
    "import gaussian_kde\n",
    "\n",
    "import warnings\n",
    "warnings.filterwarnings('ignore')\n",
    "\n",
    "import holoviews as hv\n",
    "from holoviews import opts\n",
    "\n",
    "encoding = \"ISO-8859-1\"\n",
    "\n",
    "# you should clone this git to a subdirectory called 'BES_analysis_code' (in some directory - I call it BES_analysis - doesn't matter though)\n",
    "# %matplotlib inline\n",
    "(BES_code_folder, BES_small_data_files, BES_data_folder,\n",
    " BES_output_folder, BES_file_manifest, BES_R_data_files) = setup_directories()\n",
    "\n",
    "global BES_Panel, BES_numeric, BES_reduced, BES_reduced_with_na, BES_non_numeric\n",
    "data_subfolder = BES_data_folder + dataset_name + os.sep\n",
    "\n",
    "(manifest, dataset_filename, dataset_description, dataset_citation,\n",
    " dataset_start, dataset_stop, dataset_wave) = get_manifest(dataset_name, BES_file_manifest)\n",
    "\n",
    "for df in df_list:\n",
    "    if df==\"BES_Panel\":\n",
    "        globals()[df]  = pd.read_pickle(data_subfolder + dataset_filename.replace('.dta','.zip'),compression='zip')\n",
    "    else:\n",
    "        globals()[df]  = pd.read_pickle(data_subfolder + df + '.zip',compression='zip' )\n",
    "        globals()[df].replace(-1,np.nan,inplace=True)\n",
    "  \n",
    "(var_type, cat_dictionary, new_old_col_names, old_new_col_names) = get_small_files(data_subfolder, encoding)\n",
    "\n",
    "# get full set of inferred \"cross wave\" auth-lib/left-right values and ages\n",
    "pan_dataset_allr_values = pd.read_csv(BES_small_data_files + \"pan_dataset_allr_values\"+\".csv\")\n",
    "pan_dataset_ages = pd.read_csv( BES_small_data_files + \"pan_dataset_ages\"+\".csv\" )"
   ]
  },
  {
   "cell_type": "code",
   "execution_count": 19,
   "metadata": {},
   "outputs": [],
   "source": [
    "immigSelfW8  = search(BES_reduced_with_na,\"immigSelfW8\" ).index[0]\n",
    "immigSelfW9  = search(BES_reduced_with_na,\"immigSelfW9\" ).index[0]\n",
    "immigSelfW10 = search(BES_reduced_with_na,\"immigSelfW10\").index[0]\n",
    "D8_10immigSelf = BES_reduced_with_na[immigSelfW10]-BES_reduced_with_na[immigSelfW8]\n",
    "D9_10immigSelf = BES_reduced_with_na[immigSelfW10]-BES_reduced_with_na[immigSelfW9]\n",
    "D8_9immigSelf = BES_reduced_with_na[immigSelfW9]-BES_reduced_with_na[immigSelfW8]\n",
    "\n",
    "\n",
    "changeImmigW8  = search(BES_reduced_with_na,\"changeImmigW8\" ).index[0]\n",
    "changeImmigW10 = search(BES_reduced_with_na,\"changeImmigW10\").index[0]\n",
    "D8_10changeImmig = BES_reduced_with_na[changeImmigW10]-BES_reduced_with_na[changeImmigW8]\n",
    "\n",
    "changeCrimeW8  = search(BES_reduced_with_na,\"changeCrimeW8\" ).index[0]\n",
    "changeCrimeW10 = search(BES_reduced_with_na,\"changeCrimeW10\").index[0]\n",
    "D8_10changeCrime = BES_reduced_with_na[changeCrimeW10]-BES_reduced_with_na[changeCrimeW8]\n",
    "\n",
    "immigEconW8  = search(BES_reduced_with_na,\"immigEconW8\" ).index[0]\n",
    "immigEconW10 = search(BES_reduced_with_na,\"immigEconW10\").index[0]\n",
    "D8_10immigEcon = BES_reduced_with_na[immigEconW10]-BES_reduced_with_na[immigEconW8]\n",
    "\n",
    "immigCulturalW8  = search(BES_reduced_with_na,\"immigCulturalW8\" ).index[0]\n",
    "immigCulturalW10 = search(BES_reduced_with_na,\"immigCulturalW10\").index[0]\n",
    "D8_10immigCultural = BES_reduced_with_na[immigCulturalW10]-BES_reduced_with_na[immigCulturalW8]\n",
    "\n",
    "controlImmigW8  = search(BES_reduced_with_na,\"controlImmigW8\" ).index[0]\n",
    "controlImmigW9  = search(BES_reduced_with_na,\"controlImmigW9\" ).index[0]\n",
    "controlImmigW10 = search(BES_reduced_with_na,\"controlImmigW10\").index[0]\n",
    "D9_10controlImmig = BES_reduced_with_na[controlImmigW10]-BES_reduced_with_na[controlImmigW9]\n",
    "\n",
    "# df = pd.concat([D8_10immigSelf,D8_10changeImmig,D8_10changeCrime,D8_10immigEcon,D8_10immigCultural],axis=1).dropna()\n",
    "# df.columns = [\"D8_10immigSelf\",\"D8_10changeImmig\",\"D8_10changeCrime\",\"D8_10immigEcon\",\"D8_10immigCultural\"]"
   ]
  },
  {
   "cell_type": "code",
   "execution_count": 4,
   "metadata": {},
   "outputs": [],
   "source": [
    "from linearmodels.iv import IV2SLS\n",
    "from linearmodels.iv import compare\n",
    "import statsmodels.api as sm\n",
    "from statsmodels.api import add_constant"
   ]
  },
  {
   "cell_type": "code",
   "execution_count": 21,
   "metadata": {},
   "outputs": [
    {
     "data": {
      "text/plain": [
       "(12273, 23)"
      ]
     },
     "execution_count": 21,
     "metadata": {},
     "output_type": "execute_result"
    }
   ],
   "source": [
    "df.shape"
   ]
  },
  {
   "cell_type": "code",
   "execution_count": 36,
   "metadata": {},
   "outputs": [],
   "source": [
    "df = pd.concat([D8_10immigSelf,D8_10changeImmig,D8_10changeCrime,D8_10immigEcon,D8_10immigCultural,D9_10controlImmig],axis=1).dropna().astype('float32')\n",
    "df.columns = [\"D8_10immigSelf\",\"D8_10changeImmig\",\"D8_10changeCrime\",\"D8_10immigEcon\",\"D8_10immigCultural\",\"D9_10controlImmig\"]\n",
    "df = add_constant(df, has_constant='add')\n",
    "\n",
    "df[\"immigSelfW8\"] = BES_reduced_with_na[immigSelfW8]\n",
    "df[\"immigSelfW10\"] = BES_reduced_with_na[immigSelfW10]\n",
    "\n",
    "df[\"changeImmigW8\"] = BES_reduced_with_na[changeImmigW8]\n",
    "df[\"changeImmigW10\"] = BES_reduced_with_na[changeImmigW10]\n",
    "\n",
    "df[\"changeCrimeW8\"] = BES_reduced_with_na[changeCrimeW8]\n",
    "df[\"changeCrimeW10\"] = BES_reduced_with_na[changeCrimeW10]\n",
    "\n",
    "df[\"immigEconW8\"] = BES_reduced_with_na[immigEconW8]\n",
    "df[\"immigEconW10\"] = BES_reduced_with_na[immigEconW10]\n",
    "\n",
    "df[\"immigCulturalW8\"] = BES_reduced_with_na[immigCulturalW8]\n",
    "df[\"immigCulturalW10\"] = BES_reduced_with_na[immigCulturalW10]\n",
    "\n",
    "df[\"controlImmigW8\"] = BES_reduced_with_na[controlImmigW8]\n",
    "df[\"controlImmigW9\"] = BES_reduced_with_na[controlImmigW9]\n",
    "df[\"controlImmigW10\"] = BES_reduced_with_na[controlImmigW10]\n",
    "\n",
    "\n",
    "df[\"changeImmigW8_cat\"] = BES_Panel[\"changeImmigW8\"]\n",
    "df[\"changeImmigW8_cat\"] = df[\"changeImmigW8_cat\"].cat.reorder_categories( list(BES_Panel[\"changeImmigW8\"].value_counts().index) )\n",
    "\n",
    "df[\"changeImmigW10_cat\"] = BES_Panel[\"changeImmigW10\"]\n",
    "df[\"changeImmigW10_cat\"] = df[\"changeImmigW10_cat\"].cat.reorder_categories( list(BES_Panel[\"changeImmigW10\"].value_counts().index) )\n",
    "\n",
    "\n",
    "df[\"controlImmigW8_cat\"] = BES_Panel[\"controlImmigW8\"]\n",
    "df[\"controlImmigW8_cat\"] = df[\"controlImmigW8_cat\"].cat.reorder_categories( list(BES_Panel[\"controlImmigW8\"].value_counts().index) )\n",
    "\n",
    "df[\"controlImmigW9_cat\"] = BES_Panel[\"controlImmigW9\"]\n",
    "df[\"controlImmigW9_cat\"] = df[\"controlImmigW9_cat\"].cat.reorder_categories( list(BES_Panel[\"controlImmigW9\"].value_counts().index) )\n",
    "\n",
    "df[\"controlImmigW10_cat\"] = BES_Panel[\"controlImmigW10\"]\n",
    "df[\"controlImmigW10_cat\"] = df[\"controlImmigW10_cat\"].cat.reorder_categories( list(BES_Panel[\"controlImmigW10\"].value_counts().index) )\n",
    "\n",
    "\n"
   ]
  },
  {
   "cell_type": "code",
   "execution_count": null,
   "metadata": {},
   "outputs": [],
   "source": []
  },
  {
   "cell_type": "code",
   "execution_count": 38,
   "metadata": {},
   "outputs": [
    {
     "name": "stdout",
     "output_type": "stream",
     "text": [
      "                            OLS Estimation Summary                            \n",
      "==============================================================================\n",
      "Dep. Variable:         D8_10immigSelf   R-squared:                      0.0065\n",
      "Estimator:                        OLS   Adj. R-squared:                 0.0064\n",
      "No. Observations:               14901   F-statistic:                    97.465\n",
      "Date:                Wed, Apr 15 2020   P-value (F-stat)                0.0000\n",
      "Time:                        19:40:33   Distribution:                  chi2(1)\n",
      "Cov. Estimator:            unadjusted                                         \n",
      "                                                                              \n",
      "                                Parameter Estimates                                 \n",
      "====================================================================================\n",
      "                  Parameter  Std. Err.     T-stat    P-value    Lower CI    Upper CI\n",
      "------------------------------------------------------------------------------------\n",
      "const                0.0391     0.0167     2.3442     0.0191      0.0064      0.0719\n",
      "D8_10changeImmig    -0.1551     0.0157    -9.8724     0.0000     -0.1859     -0.1243\n",
      "====================================================================================\n"
     ]
    }
   ],
   "source": [
    "# 2 stage least squares resolves to OLS when Endongeous and Instrument arguments are set to None\n",
    "dep = \"D8_10immigSelf\"\n",
    "exog = ['const','D8_10changeImmig']\n",
    "\n",
    "res_ols = IV2SLS(dependent = df[dep],\n",
    "                 exog = df[exog],\n",
    "                 endog = None,\n",
    "                 instruments = None).fit(cov_type='unadjusted')\n",
    "print(res_ols)\n",
    "\n",
    "# there's an effect of DchangeImmig in DimmigSelf ... but it's quite a small contribution"
   ]
  },
  {
   "cell_type": "code",
   "execution_count": 39,
   "metadata": {},
   "outputs": [
    {
     "name": "stdout",
     "output_type": "stream",
     "text": [
      "                            OLS Estimation Summary                            \n",
      "==============================================================================\n",
      "Dep. Variable:       D8_10changeImmig   R-squared:                      0.0839\n",
      "Estimator:                        OLS   Adj. R-squared:                 0.0838\n",
      "No. Observations:               14901   F-statistic:                    1364.0\n",
      "Date:                Wed, Apr 15 2020   P-value (F-stat)                0.0000\n",
      "Time:                        19:40:35   Distribution:                  chi2(1)\n",
      "Cov. Estimator:            unadjusted                                         \n",
      "                                                                              \n",
      "                                Parameter Estimates                                 \n",
      "====================================================================================\n",
      "                  Parameter  Std. Err.     T-stat    P-value    Lower CI    Upper CI\n",
      "------------------------------------------------------------------------------------\n",
      "const               -0.4810     0.0074    -64.690     0.0000     -0.4956     -0.4664\n",
      "D8_10changeCrime     0.3109     0.0084     36.932     0.0000      0.2944      0.3273\n",
      "====================================================================================\n"
     ]
    }
   ],
   "source": [
    "# First stage to check whether DchangeCrime is a strong instrument for changeImmig\n",
    "\n",
    "dep = \"D8_10changeImmig\"\n",
    "exog = ['const','D8_10changeCrime']\n",
    "\n",
    "res_first = IV2SLS(dependent = df[dep],\n",
    "                   exog = df[exog],\n",
    "                   endog = None,\n",
    "                   instruments = None).fit(cov_type='unadjusted')\n",
    "print(res_first)\n",
    "\n",
    "# correlation isn't huge, but F-statistic is pretty reasonable (F >> 10)"
   ]
  },
  {
   "cell_type": "code",
   "execution_count": 40,
   "metadata": {},
   "outputs": [
    {
     "name": "stdout",
     "output_type": "stream",
     "text": [
      "                          IV-2SLS Estimation Summary                          \n",
      "==============================================================================\n",
      "Dep. Variable:         D8_10immigSelf   R-squared:                      0.0063\n",
      "Estimator:                    IV-2SLS   Adj. R-squared:                 0.0062\n",
      "No. Observations:               14901   F-statistic:                    5.5622\n",
      "Date:                Wed, Apr 15 2020   P-value (F-stat)                0.0184\n",
      "Time:                        19:40:35   Distribution:                  chi2(1)\n",
      "Cov. Estimator:            unadjusted                                         \n",
      "                                                                              \n",
      "                                Parameter Estimates                                 \n",
      "====================================================================================\n",
      "                  Parameter  Std. Err.     T-stat    P-value    Lower CI    Upper CI\n",
      "------------------------------------------------------------------------------------\n",
      "const                0.0521     0.0300     1.7397     0.0819     -0.0066      0.1109\n",
      "D8_10changeImmig    -0.1280     0.0543    -2.3584     0.0184     -0.2344     -0.0216\n",
      "====================================================================================\n",
      "\n",
      "Endogenous: D8_10changeImmig\n",
      "Instruments: D8_10changeCrime\n",
      "Unadjusted Covariance (Homoskedastic)\n",
      "Debiased: False\n"
     ]
    }
   ],
   "source": [
    "# The second stage uses the instrument to fit the model.\n",
    "\n",
    "dep = 'D8_10immigSelf'\n",
    "exog = ['const']\n",
    "endog = ['D8_10changeImmig']\n",
    "instr = ['D8_10changeCrime']\n",
    "\n",
    "res_second = IV2SLS(dependent = df[dep],\n",
    "                    exog = df[exog],\n",
    "                    endog = df[endog],\n",
    "                    instruments = df[instr]).fit(cov_type='unadjusted')\n",
    "\n",
    "print(res_second)\n",
    "# DchangeImmig coefficienct is reduced to ~80% of previous"
   ]
  },
  {
   "cell_type": "code",
   "execution_count": 41,
   "metadata": {},
   "outputs": [
    {
     "name": "stdout",
     "output_type": "stream",
     "text": [
      "                                 Model Comparison                                \n",
      "=================================================================================\n",
      "                                        OLS               2SLS             Direct\n",
      "---------------------------------------------------------------------------------\n",
      "Dep. Variable                D8_10immigSelf     D8_10immigSelf     D8_10immigSelf\n",
      "Estimator                               OLS            IV-2SLS                OLS\n",
      "No. Observations                      14901              14901              14901\n",
      "Cov. Est.                        unadjusted         unadjusted         unadjusted\n",
      "R-squared                            0.0065             0.0063             0.0004\n",
      "Adj. R-squared                       0.0064             0.0062             0.0003\n",
      "F-statistic                          97.465             5.5622             5.5292\n",
      "P-value (F-stat)                     0.0000             0.0184             0.0187\n",
      "======================     ================   ================   ================\n",
      "const                                0.0391             0.0521             0.0521\n",
      "                                   (2.3442)           (1.7397)           (1.7345)\n",
      "D8_10changeImmig                    -0.1551            -0.1280                   \n",
      "                                  (-9.8724)          (-2.3584)                   \n",
      "D8_10changeImmig_hat                                                      -0.1280\n",
      "                                                                        (-2.3514)\n",
      "======================== ================== ================== ==================\n",
      "Instruments                                   D8_10changeCrime                   \n",
      "---------------------------------------------------------------------------------\n",
      "\n",
      "T-stats reported in parentheses\n"
     ]
    }
   ],
   "source": [
    "# Sanity check with 'Direct' calculated from the difference between DchangeImmig and residuals from first stage\n",
    "\n",
    "dep = 'D8_10immigSelf'\n",
    "df['D8_10changeImmig_hat'] = df[\"D8_10changeImmig\"] - res_first.resids\n",
    "exog = ['const','D8_10changeImmig_hat']\n",
    "\n",
    "res_direct = IV2SLS(dependent = df[dep],\n",
    "                    exog = df[exog],\n",
    "                    endog = None,\n",
    "                    instruments = None).fit(cov_type='unadjusted')\n",
    "\n",
    "print(compare({'OLS':res_ols, '2SLS':res_second, 'Direct': res_direct}))\n",
    "\n",
    "# The 2SLS coefficient on D8_10changeImmig and the direct coefficient on D8_10changeImmig_hat are identical."
   ]
  },
  {
   "cell_type": "code",
   "execution_count": 25,
   "metadata": {},
   "outputs": [
    {
     "name": "stdout",
     "output_type": "stream",
     "text": [
      "       First Stage Estimation Results      \n",
      "===========================================\n",
      "                           D8_10changeImmig\n",
      "-------------------------------------------\n",
      "R-squared                            0.0839\n",
      "Partial R-squared                    0.0839\n",
      "Shea's R-squared                     0.0839\n",
      "Partial F-statistic                  631.44\n",
      "P-value (Partial F-stat)             0.0000\n",
      "Partial F-stat Distn                chi2(1)\n",
      "==========================      ===========\n",
      "const                               -0.4810\n",
      "                                  (-64.717)\n",
      "D8_10changeCrime                     0.3109\n",
      "                                   (25.129)\n",
      "-------------------------------------------\n",
      "\n",
      "T-stats reported in parentheses\n",
      "T-stats use same covariance type as original model\n"
     ]
    }
   ],
   "source": [
    "# If we had multiple exogenous variables you couldn't just rely on \"big F in first stage\" => strong first stage\n",
    "# there is a helper function that calculation partial F (and a bunch of other partial measures) for the instrument\n",
    "# upon your candidate endogenous value\n",
    "\n",
    "print(res_second.first_stage)\n",
    "\n",
    "# surprisingly memory intensive!"
   ]
  },
  {
   "cell_type": "code",
   "execution_count": 29,
   "metadata": {},
   "outputs": [
    {
     "name": "stdout",
     "output_type": "stream",
     "text": [
      "                                          Model Comparison                                          \n",
      "====================================================================================================\n",
      "                                        OLS               2SLS             Direct       From Formula\n",
      "----------------------------------------------------------------------------------------------------\n",
      "Dep. Variable                D8_10immigSelf     D8_10immigSelf     D8_10immigSelf     D8_10immigSelf\n",
      "Estimator                               OLS            IV-2SLS                OLS            IV-2SLS\n",
      "No. Observations                      14901              14901              14901              14901\n",
      "Cov. Est.                        unadjusted         unadjusted         unadjusted         unadjusted\n",
      "R-squared                            0.0065             0.0063             0.0004             0.0063\n",
      "Adj. R-squared                       0.0064             0.0062             0.0003             0.0062\n",
      "F-statistic                          97.465             5.5622             5.5292             5.5622\n",
      "P-value (F-stat)                     0.0000             0.0184             0.0187             0.0184\n",
      "======================     ================   ================   ================   ================\n",
      "const                                0.0391             0.0521             0.0521                   \n",
      "                                   (2.3442)           (1.7397)           (1.7345)                   \n",
      "D8_10changeImmig                    -0.1551            -0.1280                               -0.1280\n",
      "                                  (-9.8724)          (-2.3584)                             (-2.3584)\n",
      "D8_10changeImmig_hat                                                      -0.1280                   \n",
      "                                                                        (-2.3514)                   \n",
      "Intercept                                                                                     0.0521\n",
      "                                                                                            (1.7397)\n",
      "======================== ================== ================== ================== ==================\n",
      "Instruments                                   D8_10changeCrime                      D8_10changeCrime\n",
      "----------------------------------------------------------------------------------------------------\n",
      "\n",
      "T-stats reported in parentheses\n"
     ]
    }
   ],
   "source": [
    "# Can also specify the model with a formula\n",
    "\n",
    "formula = ('D8_10immigSelf ~ 1 + [D8_10changeImmig ~ D8_10changeCrime]')\n",
    "mod = IV2SLS.from_formula(formula, df)\n",
    "res_formula = mod.fit(cov_type='unadjusted')\n",
    "\n",
    "print(compare({'OLS':res_ols, '2SLS':res_second, 'Direct': res_direct, 'From Formula':res_formula}))\n",
    "\n",
    "# Changes nothing other than that 'const' is renamed 'Intercept'"
   ]
  },
  {
   "cell_type": "code",
   "execution_count": 30,
   "metadata": {},
   "outputs": [
    {
     "name": "stdout",
     "output_type": "stream",
     "text": [
      "                          IV-2SLS Estimation Summary                          \n",
      "==============================================================================\n",
      "Dep. Variable:         D8_10immigSelf   R-squared:                      0.0075\n",
      "Estimator:                    IV-2SLS   Adj. R-squared:                 0.0071\n",
      "No. Observations:               14901   F-statistic:                    19.276\n",
      "Date:                Wed, Apr 15 2020   P-value (F-stat)                0.0037\n",
      "Time:                        18:42:18   Distribution:                  chi2(6)\n",
      "Cov. Estimator:            unadjusted                                         \n",
      "                                                                              \n",
      "                                        Parameter Estimates                                         \n",
      "====================================================================================================\n",
      "                                  Parameter  Std. Err.     T-stat    P-value    Lower CI    Upper CI\n",
      "----------------------------------------------------------------------------------------------------\n",
      "const                                0.0709     0.0381     1.8586     0.0631     -0.0039      0.1457\n",
      "controlImmigW9.A lot of control     -0.0274     0.0408    -0.6726     0.5012     -0.1074      0.0525\n",
      "controlImmigW9.A little control     -0.0625     0.0432    -1.4470     0.1479     -0.1471      0.0221\n",
      "controlImmigW9.Complete control     -0.1198     0.0517    -2.3166     0.0205     -0.2212     -0.0184\n",
      "controlImmigW9.No control at all     0.1164     0.0558     2.0849     0.0371      0.0070      0.2258\n",
      "controlImmigW9.Don't know           -0.0920     0.0843    -1.0909     0.2753     -0.2572      0.0733\n",
      "D8_10changeImmig                    -0.1372     0.0556    -2.4665     0.0136     -0.2462     -0.0282\n",
      "====================================================================================================\n",
      "\n",
      "Endogenous: D8_10changeImmig\n",
      "Instruments: D8_10changeCrime\n",
      "Unadjusted Covariance (Homoskedastic)\n",
      "Debiased: False\n"
     ]
    }
   ],
   "source": [
    "# It also handles categorical variables - adding controlImmigW9 as a categorical\n",
    "# it drops the first category by default, so I'm setting the order so that the first category is the highest frequency\n",
    "# \"Some Control\" is thus the base (shame it doesn't show that automatically - boo!)\n",
    "\n",
    "df[\"controlImmigW9\"] = BES_Panel[\"controlImmigW9\"]\n",
    "df[\"controlImmigW9\"] = df[\"controlImmigW9\"].cat.reorder_categories( list(BES_Panel[\"controlImmigW9\"].value_counts().index) )\n",
    "\n",
    "dep = 'D8_10immigSelf'\n",
    "exog = ['const','controlImmigW9']\n",
    "endog = ['D8_10changeImmig']\n",
    "instr = ['D8_10changeCrime']\n",
    "\n",
    "res_cat = IV2SLS(   dependent = df[dep],\n",
    "                    exog = df[exog],\n",
    "                    endog = df[endog],\n",
    "                    instruments = df[instr]).fit(cov_type='unadjusted')\n",
    "\n",
    "print(res_cat)"
   ]
  },
  {
   "cell_type": "code",
   "execution_count": 33,
   "metadata": {},
   "outputs": [],
   "source": [
    "## Post-estimation diagnostics"
   ]
  },
  {
   "cell_type": "code",
   "execution_count": 42,
   "metadata": {},
   "outputs": [
    {
     "data": {
      "text/plain": [
       "Wooldridge's regression test of exogeneity\n",
       "H0: Endogenous variables are exogenous\n",
       "Statistic: 0.2732\n",
       "P-value: 0.6012\n",
       "Distributed: chi2(1)\n",
       "WaldTestStatistic, id: 0xe9d53748"
      ]
     },
     "execution_count": 42,
     "metadata": {},
     "output_type": "execute_result"
    }
   ],
   "source": [
    "# Is changeImmig actually endogeneous to immigSelf?\n",
    "\n",
    "res_second.wooldridge_regression\n",
    "\n",
    "## Nope"
   ]
  },
  {
   "cell_type": "code",
   "execution_count": null,
   "metadata": {},
   "outputs": [],
   "source": [
    "# How much do I buy this as a measure of endogeneity? Quick sanity check - will test on \"really obviously endogeneous\" variables"
   ]
  },
  {
   "cell_type": "code",
   "execution_count": 44,
   "metadata": {},
   "outputs": [],
   "source": [
    "# Add in DimmigEcon, DimmigCultural\n",
    "\n",
    "df = pd.concat([D8_10immigSelf,D8_10changeImmig,D8_10changeCrime,D8_10immigEcon,D8_10immigCultural],axis=1).dropna()\n",
    "df.columns = [\"D8_10immigSelf\",\"D8_10changeImmig\",\"D8_10changeCrime\",\"D8_10immigEcon\",\"D8_10immigCultural\"]\n",
    "df = add_constant(df, has_constant='add')"
   ]
  },
  {
   "cell_type": "code",
   "execution_count": 46,
   "metadata": {},
   "outputs": [
    {
     "name": "stdout",
     "output_type": "stream",
     "text": [
      "                          IV-2SLS Estimation Summary                          \n",
      "==============================================================================\n",
      "Dep. Variable:         D8_10immigSelf   R-squared:                     -0.0565\n",
      "Estimator:                    IV-2SLS   Adj. R-squared:                -0.0566\n",
      "No. Observations:               14901   F-statistic:                    467.92\n",
      "Date:                Wed, Apr 15 2020   P-value (F-stat)                0.0000\n",
      "Time:                        19:44:29   Distribution:                  chi2(1)\n",
      "Cov. Estimator:            unadjusted                                         \n",
      "                                                                              \n",
      "                               Parameter Estimates                                \n",
      "==================================================================================\n",
      "                Parameter  Std. Err.     T-stat    P-value    Lower CI    Upper CI\n",
      "----------------------------------------------------------------------------------\n",
      "const             -0.1775     0.0204    -8.6921     0.0000     -0.2175     -0.1375\n",
      "D8_10immigEcon     0.6739     0.0312     21.632     0.0000      0.6129      0.7350\n",
      "==================================================================================\n",
      "\n",
      "Endogenous: D8_10immigEcon\n",
      "Instruments: D8_10changeCrime, D8_10changeImmig, D8_10immigCultural\n",
      "Unadjusted Covariance (Homoskedastic)\n",
      "Debiased: False\n"
     ]
    }
   ],
   "source": [
    "dep = 'D8_10immigSelf'\n",
    "exog = ['const']\n",
    "endog = ['D8_10immigEcon']\n",
    "instr = ['D8_10changeCrime',\"D8_10changeImmig\",\"D8_10immigCultural\"] ## these are not necessarily effective/sensible instruments!\n",
    "\n",
    "res_test = IV2SLS(  dependent = df[dep],\n",
    "                    exog = df[exog],\n",
    "                    endog = df[endog],\n",
    "                    instruments = df[instr]).fit(cov_type='unadjusted')\n",
    "print(res_test)\n",
    "\n",
    "# F value looks bonkers, R-squared seems very low"
   ]
  },
  {
   "cell_type": "code",
   "execution_count": 47,
   "metadata": {},
   "outputs": [
    {
     "data": {
      "text/plain": [
       "Wooldridge's regression test of exogeneity\n",
       "H0: Endogenous variables are exogenous\n",
       "Statistic: 239.5133\n",
       "P-value: 0.0000\n",
       "Distributed: chi2(1)\n",
       "WaldTestStatistic, id: 0x71911f48"
      ]
     },
     "execution_count": 47,
     "metadata": {},
     "output_type": "execute_result"
    }
   ],
   "source": [
    "# Is DimmigEcon endogeneous to DimmigSelf?\n",
    "\n",
    "res_test.wooldridge_regression\n",
    "\n",
    "# Yes, very much so"
   ]
  },
  {
   "cell_type": "code",
   "execution_count": 48,
   "metadata": {},
   "outputs": [
    {
     "data": {
      "text/plain": [
       "Wooldridge's score test of overidentification\n",
       "H0: Model is not overidentified.\n",
       "Statistic: 14.4561\n",
       "P-value: 0.0007\n",
       "Distributed: chi2(2)\n",
       "WaldTestStatistic, id: 0xe9d53548"
      ]
     },
     "execution_count": 48,
     "metadata": {},
     "output_type": "execute_result"
    }
   ],
   "source": [
    "# How about those instruments? Too many or just enough?\n",
    "\n",
    "res_test.wooldridge_overid\n",
    "\n",
    "# Hella too many (/too correlated with the dependent variable)"
   ]
  },
  {
   "cell_type": "code",
   "execution_count": 49,
   "metadata": {},
   "outputs": [
    {
     "name": "stdout",
     "output_type": "stream",
     "text": [
      "                          IV-2SLS Estimation Summary                          \n",
      "==============================================================================\n",
      "Dep. Variable:         D8_10immigSelf   R-squared:                     -0.3980\n",
      "Estimator:                    IV-2SLS   Adj. R-squared:                -0.3981\n",
      "No. Observations:               14901   F-statistic:                    69.429\n",
      "Date:                Wed, Apr 15 2020   P-value (F-stat)                0.0000\n",
      "Time:                        19:49:38   Distribution:                  chi2(1)\n",
      "Cov. Estimator:            unadjusted                                         \n",
      "                                                                              \n",
      "                               Parameter Estimates                                \n",
      "==================================================================================\n",
      "                Parameter  Std. Err.     T-stat    P-value    Lower CI    Upper CI\n",
      "----------------------------------------------------------------------------------\n",
      "const             -0.3992     0.0640    -6.2360     0.0000     -0.5247     -0.2738\n",
      "D8_10immigEcon     1.1875     0.1425     8.3324     0.0000      0.9081      1.4668\n",
      "==================================================================================\n",
      "\n",
      "Endogenous: D8_10immigEcon\n",
      "Instruments: D8_10changeCrime, D8_10changeImmig\n",
      "Unadjusted Covariance (Homoskedastic)\n",
      "Debiased: False\n"
     ]
    }
   ],
   "source": [
    "# Lets drop DimmigCultural as an instrument\n",
    "\n",
    "dep = 'D8_10immigSelf'\n",
    "exog = ['const']\n",
    "endog = ['D8_10immigEcon']\n",
    "instr = ['D8_10changeCrime',\"D8_10changeImmig\"] \n",
    "\n",
    "res_test2 = IV2SLS(  dependent = df[dep],\n",
    "                    exog = df[exog],\n",
    "                    endog = df[endog],\n",
    "                    instruments = df[instr]).fit(cov_type='unadjusted')\n",
    "print(res_test2)"
   ]
  },
  {
   "cell_type": "code",
   "execution_count": 51,
   "metadata": {},
   "outputs": [
    {
     "data": {
      "text/plain": [
       "Wooldridge's score test of overidentification\n",
       "H0: Model is not overidentified.\n",
       "Statistic: 0.0207\n",
       "P-value: 0.8856\n",
       "Distributed: chi2(1)\n",
       "WaldTestStatistic, id: 0x71820088"
      ]
     },
     "execution_count": 51,
     "metadata": {},
     "output_type": "execute_result"
    }
   ],
   "source": [
    "res_test2.wooldridge_overid\n",
    "\n",
    "# Bingo - now it's not overidentified\n",
    "# Ironically, changeImmig is sufficiently exogeneous to immigSelf to be an instrument"
   ]
  },
  {
   "cell_type": "code",
   "execution_count": 52,
   "metadata": {},
   "outputs": [
    {
     "name": "stdout",
     "output_type": "stream",
     "text": [
      "      First Stage Estimation Results     \n",
      "=========================================\n",
      "                           D8_10immigEcon\n",
      "-----------------------------------------\n",
      "R-squared                          0.0094\n",
      "Partial R-squared                  0.0094\n",
      "Shea's R-squared                   0.0094\n",
      "Partial F-statistic                141.95\n",
      "P-value (Partial F-stat)           0.0000\n",
      "Partial F-stat Distn              chi2(2)\n",
      "==========================    ===========\n",
      "const                              0.3685\n",
      "                                 (31.274)\n",
      "D8_10changeCrime                   0.0049\n",
      "                                 (0.3953)\n",
      "D8_10changeImmig                  -0.1320\n",
      "                                (-11.512)\n",
      "-----------------------------------------\n",
      "\n",
      "T-stats reported in parentheses\n",
      "T-stats use same covariance type as original model\n"
     ]
    }
   ],
   "source": [
    "# But it's not clear whether DchangeCrime/DchangeImmig fulfil the first criterion of 'instrumentality'\n",
    "\n",
    "print(res_test2.first_stage)"
   ]
  },
  {
   "cell_type": "code",
   "execution_count": null,
   "metadata": {},
   "outputs": [],
   "source": [
    "# alternative endogeneity tests"
   ]
  },
  {
   "cell_type": "code",
   "execution_count": 59,
   "metadata": {},
   "outputs": [
    {
     "data": {
      "text/plain": [
       "Durbin test of exogeneity\n",
       "H0: All endogenous variables are exogenous\n",
       "Statistic: 239.0375\n",
       "P-value: 0.0000\n",
       "Distributed: chi2(1)\n",
       "WaldTestStatistic, id: 0xeb1c3a08"
      ]
     },
     "execution_count": 59,
     "metadata": {},
     "output_type": "execute_result"
    }
   ],
   "source": [
    "res_test.durbin()\n",
    "# Not robust to heteroscedasity (unlike wooldridge)"
   ]
  },
  {
   "cell_type": "code",
   "execution_count": 60,
   "metadata": {},
   "outputs": [
    {
     "data": {
      "text/plain": [
       "Wu-Hausman test of exogeneity\n",
       "H0: All endogenous variables are exogenous\n",
       "Statistic: 242.8856\n",
       "P-value: 0.0000\n",
       "Distributed: F(1,14898)\n",
       "WaldTestStatistic, id: 0xec89d888"
      ]
     },
     "execution_count": 60,
     "metadata": {},
     "output_type": "execute_result"
    }
   ],
   "source": [
    "res_test.wu_hausman()\n",
    "# Slightly modified version of Durbin\n",
    "# Also, not robust to heteroscedasity (unlike wooldridge)"
   ]
  },
  {
   "cell_type": "code",
   "execution_count": 61,
   "metadata": {},
   "outputs": [
    {
     "data": {
      "text/plain": [
       "Wooldridge's score test of exogeneity\n",
       "H0: Endogenous variables are exogenous\n",
       "Statistic: 162.0395\n",
       "P-value: 0.0000\n",
       "Distributed: chi2(1)\n",
       "WaldTestStatistic, id: 0x717c9908"
      ]
     },
     "execution_count": 61,
     "metadata": {},
     "output_type": "execute_result"
    }
   ],
   "source": [
    "# Robust to heteroscedasity\n",
    "# but less power\n",
    "res_test.wooldridge_score"
   ]
  },
  {
   "cell_type": "code",
   "execution_count": null,
   "metadata": {},
   "outputs": [],
   "source": []
  },
  {
   "cell_type": "code",
   "execution_count": 53,
   "metadata": {},
   "outputs": [
    {
     "name": "stdout",
     "output_type": "stream",
     "text": [
      "                          IV-2SLS Estimation Summary                          \n",
      "==============================================================================\n",
      "Dep. Variable:         D8_10immigSelf   R-squared:                     -0.3980\n",
      "Estimator:                    IV-2SLS   Adj. R-squared:                -0.3981\n",
      "No. Observations:               14901   F-statistic:                    54.874\n",
      "Date:                Wed, Apr 15 2020   P-value (F-stat)                0.0000\n",
      "Time:                        19:59:38   Distribution:                  chi2(1)\n",
      "Cov. Estimator:                robust                                         \n",
      "                                                                              \n",
      "                               Parameter Estimates                                \n",
      "==================================================================================\n",
      "                Parameter  Std. Err.     T-stat    P-value    Lower CI    Upper CI\n",
      "----------------------------------------------------------------------------------\n",
      "const             -0.3992     0.0703    -5.6775     0.0000     -0.5371     -0.2614\n",
      "D8_10immigEcon     1.1875     0.1603     7.4077     0.0000      0.8733      1.5016\n",
      "==================================================================================\n",
      "\n",
      "Endogenous: D8_10immigEcon\n",
      "Instruments: D8_10changeCrime, D8_10changeImmig\n",
      "Robust Covariance (Heteroskedastic)\n",
      "Debiased: False\n"
     ]
    }
   ],
   "source": [
    "# Better covariance models? Yes - several are accessible - but the default one is \"robust\" (to heteroscedasticity)\n",
    "\n",
    "dep = 'D8_10immigSelf'\n",
    "exog = ['const']\n",
    "endog = ['D8_10immigEcon']\n",
    "instr = ['D8_10changeCrime',\"D8_10changeImmig\"] \n",
    "\n",
    "res_test3 = IV2SLS(  dependent = df[dep],\n",
    "                    exog = df[exog],\n",
    "                    endog = df[endog],\n",
    "                    instruments = df[instr]).fit()\n",
    "print(res_test3)\n",
    "\n",
    "# Coefficients don't change, just the F-statistic/comparable error/T-stats get a bit more (accurately) conservative"
   ]
  },
  {
   "cell_type": "code",
   "execution_count": null,
   "metadata": {},
   "outputs": [],
   "source": []
  },
  {
   "cell_type": "code",
   "execution_count": null,
   "metadata": {},
   "outputs": [],
   "source": [
    "# Conclusion - instrumenting doesn't seem necessary for DchangeImmig => DimmigSelf"
   ]
  },
  {
   "cell_type": "code",
   "execution_count": 7,
   "metadata": {},
   "outputs": [
    {
     "data": {
      "text/html": [
       "<div>\n",
       "<style scoped>\n",
       "    .dataframe tbody tr th:only-of-type {\n",
       "        vertical-align: middle;\n",
       "    }\n",
       "\n",
       "    .dataframe tbody tr th {\n",
       "        vertical-align: top;\n",
       "    }\n",
       "\n",
       "    .dataframe thead th {\n",
       "        text-align: right;\n",
       "    }\n",
       "</style>\n",
       "<table border=\"1\" class=\"dataframe\">\n",
       "  <thead>\n",
       "    <tr style=\"text-align: right;\">\n",
       "      <th></th>\n",
       "      <th>const</th>\n",
       "      <th>D8_10immigSelf</th>\n",
       "      <th>D8_10changeImmig</th>\n",
       "      <th>D8_10changeCrime</th>\n",
       "      <th>D8_10immigEcon</th>\n",
       "      <th>D8_10immigCultural</th>\n",
       "    </tr>\n",
       "  </thead>\n",
       "  <tbody>\n",
       "    <tr>\n",
       "      <th>1</th>\n",
       "      <td>1.0</td>\n",
       "      <td>2.0</td>\n",
       "      <td>1.0</td>\n",
       "      <td>2.0</td>\n",
       "      <td>0.0</td>\n",
       "      <td>0.0</td>\n",
       "    </tr>\n",
       "    <tr>\n",
       "      <th>3</th>\n",
       "      <td>1.0</td>\n",
       "      <td>-1.0</td>\n",
       "      <td>0.0</td>\n",
       "      <td>0.0</td>\n",
       "      <td>0.0</td>\n",
       "      <td>0.0</td>\n",
       "    </tr>\n",
       "    <tr>\n",
       "      <th>6</th>\n",
       "      <td>1.0</td>\n",
       "      <td>-1.0</td>\n",
       "      <td>-1.0</td>\n",
       "      <td>0.0</td>\n",
       "      <td>0.0</td>\n",
       "      <td>0.0</td>\n",
       "    </tr>\n",
       "    <tr>\n",
       "      <th>8</th>\n",
       "      <td>1.0</td>\n",
       "      <td>0.0</td>\n",
       "      <td>0.0</td>\n",
       "      <td>-1.0</td>\n",
       "      <td>0.0</td>\n",
       "      <td>0.0</td>\n",
       "    </tr>\n",
       "    <tr>\n",
       "      <th>9</th>\n",
       "      <td>1.0</td>\n",
       "      <td>0.0</td>\n",
       "      <td>-1.0</td>\n",
       "      <td>0.0</td>\n",
       "      <td>0.0</td>\n",
       "      <td>0.0</td>\n",
       "    </tr>\n",
       "    <tr>\n",
       "      <th>...</th>\n",
       "      <td>...</td>\n",
       "      <td>...</td>\n",
       "      <td>...</td>\n",
       "      <td>...</td>\n",
       "      <td>...</td>\n",
       "      <td>...</td>\n",
       "    </tr>\n",
       "    <tr>\n",
       "      <th>97124</th>\n",
       "      <td>1.0</td>\n",
       "      <td>-2.0</td>\n",
       "      <td>0.0</td>\n",
       "      <td>0.0</td>\n",
       "      <td>-3.0</td>\n",
       "      <td>-2.0</td>\n",
       "    </tr>\n",
       "    <tr>\n",
       "      <th>97128</th>\n",
       "      <td>1.0</td>\n",
       "      <td>0.0</td>\n",
       "      <td>-1.0</td>\n",
       "      <td>0.0</td>\n",
       "      <td>0.0</td>\n",
       "      <td>0.0</td>\n",
       "    </tr>\n",
       "    <tr>\n",
       "      <th>97142</th>\n",
       "      <td>1.0</td>\n",
       "      <td>0.0</td>\n",
       "      <td>0.0</td>\n",
       "      <td>0.0</td>\n",
       "      <td>0.0</td>\n",
       "      <td>0.0</td>\n",
       "    </tr>\n",
       "    <tr>\n",
       "      <th>97146</th>\n",
       "      <td>1.0</td>\n",
       "      <td>0.0</td>\n",
       "      <td>0.0</td>\n",
       "      <td>0.0</td>\n",
       "      <td>-1.0</td>\n",
       "      <td>2.0</td>\n",
       "    </tr>\n",
       "    <tr>\n",
       "      <th>97150</th>\n",
       "      <td>1.0</td>\n",
       "      <td>0.0</td>\n",
       "      <td>0.0</td>\n",
       "      <td>0.0</td>\n",
       "      <td>1.0</td>\n",
       "      <td>4.0</td>\n",
       "    </tr>\n",
       "  </tbody>\n",
       "</table>\n",
       "<p>14901 rows × 6 columns</p>\n",
       "</div>"
      ],
      "text/plain": [
       "       const  D8_10immigSelf  D8_10changeImmig  D8_10changeCrime  \\\n",
       "1        1.0             2.0               1.0               2.0   \n",
       "3        1.0            -1.0               0.0               0.0   \n",
       "6        1.0            -1.0              -1.0               0.0   \n",
       "8        1.0             0.0               0.0              -1.0   \n",
       "9        1.0             0.0              -1.0               0.0   \n",
       "...      ...             ...               ...               ...   \n",
       "97124    1.0            -2.0               0.0               0.0   \n",
       "97128    1.0             0.0              -1.0               0.0   \n",
       "97142    1.0             0.0               0.0               0.0   \n",
       "97146    1.0             0.0               0.0               0.0   \n",
       "97150    1.0             0.0               0.0               0.0   \n",
       "\n",
       "       D8_10immigEcon  D8_10immigCultural  \n",
       "1                 0.0                 0.0  \n",
       "3                 0.0                 0.0  \n",
       "6                 0.0                 0.0  \n",
       "8                 0.0                 0.0  \n",
       "9                 0.0                 0.0  \n",
       "...               ...                 ...  \n",
       "97124            -3.0                -2.0  \n",
       "97128             0.0                 0.0  \n",
       "97142             0.0                 0.0  \n",
       "97146            -1.0                 2.0  \n",
       "97150             1.0                 4.0  \n",
       "\n",
       "[14901 rows x 6 columns]"
      ]
     },
     "execution_count": 7,
     "metadata": {},
     "output_type": "execute_result"
    }
   ],
   "source": [
    "df"
   ]
  },
  {
   "cell_type": "code",
   "execution_count": 6,
   "metadata": {},
   "outputs": [
    {
     "name": "stdout",
     "output_type": "stream",
     "text": [
      "                          IV-2SLS Estimation Summary                          \n",
      "==============================================================================\n",
      "Dep. Variable:         D8_10immigSelf   R-squared:                     -0.3980\n",
      "Estimator:                    IV-2SLS   Adj. R-squared:                -0.3981\n",
      "No. Observations:               14901   F-statistic:                    54.874\n",
      "Date:                Wed, May 06 2020   P-value (F-stat)                0.0000\n",
      "Time:                        16:39:50   Distribution:                  chi2(1)\n",
      "Cov. Estimator:                robust                                         \n",
      "                                                                              \n",
      "                               Parameter Estimates                                \n",
      "==================================================================================\n",
      "                Parameter  Std. Err.     T-stat    P-value    Lower CI    Upper CI\n",
      "----------------------------------------------------------------------------------\n",
      "const             -0.3992     0.0703    -5.6775     0.0000     -0.5371     -0.2614\n",
      "D8_10immigEcon     1.1875     0.1603     7.4077     0.0000      0.8733      1.5016\n",
      "==================================================================================\n",
      "\n",
      "Endogenous: D8_10immigEcon\n",
      "Instruments: D8_10changeCrime, D8_10changeImmig\n",
      "Robust Covariance (Heteroskedastic)\n",
      "Debiased: False\n"
     ]
    }
   ],
   "source": [
    "# Better covariance models? Yes - several are accessible - but the default one is \"robust\" (to heteroscedasticity)\n",
    "\n",
    "dep = 'D8_10immigSelf'\n",
    "exog = ['const',]\n",
    "endog = ['D8_10immigEcon',]\n",
    "instr = ['D8_10changeCrime',\"D8_10changeImmig\"] \n",
    "\n",
    "res_test3 = IV2SLS( dependent = df[dep],\n",
    "                    exog = df[exog],\n",
    "                    endog = df[endog],\n",
    "                    instruments = df[instr]).fit()\n",
    "print(res_test3)\n",
    "\n",
    "# Coefficients don't change, just the F-statistic/comparable error/T-stats get a bit more (accurately) conservative"
   ]
  },
  {
   "cell_type": "code",
   "execution_count": null,
   "metadata": {},
   "outputs": [],
   "source": [
    "#############################################"
   ]
  },
  {
   "cell_type": "code",
   "execution_count": 37,
   "metadata": {},
   "outputs": [
    {
     "data": {
      "text/plain": [
       "Index(['const', 'D8_10immigSelf', 'D8_10changeImmig', 'D8_10changeCrime',\n",
       "       'D8_10immigEcon', 'D8_10immigCultural', 'D9_10controlImmig',\n",
       "       'immigSelfW8', 'immigSelfW10', 'changeImmigW8', 'changeImmigW10',\n",
       "       'changeCrimeW8', 'changeCrimeW10', 'immigEconW8', 'immigEconW10',\n",
       "       'immigCulturalW8', 'immigCulturalW10', 'controlImmigW8',\n",
       "       'controlImmigW9', 'controlImmigW10', 'changeImmigW8_cat',\n",
       "       'changeImmigW10_cat', 'controlImmigW8_cat', 'controlImmigW9_cat',\n",
       "       'controlImmigW10_cat'],\n",
       "      dtype='object')"
      ]
     },
     "execution_count": 37,
     "metadata": {},
     "output_type": "execute_result"
    }
   ],
   "source": [
    "df.columns"
   ]
  },
  {
   "cell_type": "code",
   "execution_count": 45,
   "metadata": {},
   "outputs": [
    {
     "name": "stdout",
     "output_type": "stream",
     "text": [
      "                          IV-2SLS Estimation Summary                          \n",
      "==============================================================================\n",
      "Dep. Variable:         D8_10immigSelf   R-squared:                      0.2099\n",
      "Estimator:                    IV-2SLS   Adj. R-squared:                 0.2083\n",
      "No. Observations:                3000   F-statistic:                    477.79\n",
      "Date:                Wed, May 06 2020   P-value (F-stat)                0.0000\n",
      "Time:                        18:21:09   Distribution:                  chi2(6)\n",
      "Cov. Estimator:                robust                                         \n",
      "                                                                              \n",
      "                                Parameter Estimates                                 \n",
      "====================================================================================\n",
      "                  Parameter  Std. Err.     T-stat    P-value    Lower CI    Upper CI\n",
      "------------------------------------------------------------------------------------\n",
      "const                2.6690     0.4415     6.0455     0.0000      1.8037      3.5342\n",
      "immigSelfW8         -0.3971     0.0215    -18.449     0.0000     -0.4392     -0.3549\n",
      "controlImmigW10     -0.1418     0.0325    -4.3682     0.0000     -0.2054     -0.0782\n",
      "controlImmigW8       0.3056     0.0415     7.3648     0.0000      0.2243      0.3870\n",
      "controlImmigW9      -0.1922     0.0361    -5.3170     0.0000     -0.2630     -0.1213\n",
      "changeImmigW8       -0.3495     0.1398    -2.4996     0.0124     -0.6235     -0.0754\n",
      "D8_10changeImmig    -0.1759     0.1730    -1.0167     0.3093     -0.5151      0.1632\n",
      "====================================================================================\n",
      "\n",
      "Endogenous: D8_10changeImmig\n",
      "Instruments: D8_10changeCrime\n",
      "Robust Covariance (Heteroskedastic)\n",
      "Debiased: False\n"
     ]
    }
   ],
   "source": [
    "# Better covariance models? Yes - several are accessible - but the default one is \"robust\" (to heteroscedasticity)\n",
    "\n",
    "dep = 'D8_10immigSelf'\n",
    "exog = ['const','immigSelfW8','controlImmigW10','controlImmigW8','controlImmigW9','changeImmigW8']\n",
    "endog = [\"D8_10changeImmig\",]\n",
    "instr = ['D8_10changeCrime',] \n",
    "\n",
    "mask = df[[dep]+exog+endog+instr].notnull().all(axis=1)\n",
    "# make sure we're only ever looking at rows with no nans\n",
    "\n",
    "res =      IV2SLS(  dependent = df[dep][mask],\n",
    "                    exog = df[exog][mask],\n",
    "                    endog = df[endog][mask],\n",
    "                    instruments = df[instr][mask]).fit()\n",
    "print(res)\n",
    "\n",
    "# Coefficients don't change, just the F-statistic/comparable error/T-stats get a bit more (accurately) conservative"
   ]
  },
  {
   "cell_type": "code",
   "execution_count": null,
   "metadata": {},
   "outputs": [],
   "source": []
  },
  {
   "cell_type": "code",
   "execution_count": null,
   "metadata": {},
   "outputs": [],
   "source": []
  },
  {
   "cell_type": "code",
   "execution_count": 47,
   "metadata": {},
   "outputs": [
    {
     "data": {
      "text/plain": [
       "30036"
      ]
     },
     "execution_count": 47,
     "metadata": {},
     "output_type": "execute_result"
    }
   ],
   "source": [
    "BES_Panel[\"immigSelfW9\"].notnull().sum()"
   ]
  },
  {
   "cell_type": "code",
   "execution_count": null,
   "metadata": {},
   "outputs": [],
   "source": []
  },
  {
   "cell_type": "code",
   "execution_count": null,
   "metadata": {},
   "outputs": [],
   "source": []
  },
  {
   "cell_type": "code",
   "execution_count": null,
   "metadata": {},
   "outputs": [],
   "source": []
  },
  {
   "cell_type": "code",
   "execution_count": null,
   "metadata": {},
   "outputs": [],
   "source": []
  },
  {
   "cell_type": "code",
   "execution_count": null,
   "metadata": {},
   "outputs": [],
   "source": []
  },
  {
   "cell_type": "code",
   "execution_count": null,
   "metadata": {},
   "outputs": [],
   "source": [
    "## Going to look at cross-lagged correlation\n",
    "# picking up on the bleeding edge of causal analysis ... circa 1970\n",
    "# (everything after that is article saying why this a rubbish approach)\n",
    "# but it seems weird to skip something so very simple!"
   ]
  },
  {
   "cell_type": "code",
   "execution_count": 3,
   "metadata": {},
   "outputs": [],
   "source": [
    "immigSelfW10 = search(BES_reduced_with_na,\"immigSelfW10\").index[0]\n",
    "immigSelfW8  = search(BES_reduced_with_na,\"immigSelfW8\" ).index[0]\n",
    "D8_10immigSelf = BES_reduced_with_na[immigSelfW10]-BES_reduced_with_na[immigSelfW8]\n",
    "\n",
    "changeImmigW8  = search(BES_reduced_with_na,\"changeImmigW8\" ).index[0]\n",
    "changeImmigW10 = search(BES_reduced_with_na,\"changeImmigW10\").index[0]\n",
    "D8_10changeImmig = BES_reduced_with_na[changeImmigW10]-BES_reduced_with_na[changeImmigW8]\n",
    "\n",
    "changeCrimeW8  = search(BES_reduced_with_na,\"changeCrimeW8\" ).index[0]\n",
    "changeCrimeW10 = search(BES_reduced_with_na,\"changeCrimeW10\").index[0]\n",
    "D8_10changeCrime = BES_reduced_with_na[changeCrimeW10]-BES_reduced_with_na[changeCrimeW8]\n",
    "\n",
    "immigEconW10 = search(BES_reduced_with_na,\"immigEconW10\").index[0]\n",
    "immigEconW8  = search(BES_reduced_with_na,\"immigEconW8\" ).index[0]\n",
    "D8_10immigEcon = BES_reduced_with_na[immigEconW10]-BES_reduced_with_na[immigEconW8]\n",
    "\n",
    "immigCulturalW10 = search(BES_reduced_with_na,\"immigCulturalW10\").index[0]\n",
    "immigCulturalW8  = search(BES_reduced_with_na,\"immigCulturalW8\" ).index[0]\n",
    "D8_10immigCultural = BES_reduced_with_na[immigCulturalW10]-BES_reduced_with_na[immigCulturalW8]\n",
    "\n",
    "\n",
    "# df = pd.concat([D8_10immigSelf,D8_10changeImmig,D8_10changeCrime,D8_10immigEcon,D8_10immigCultural],axis=1).dropna()\n",
    "# df.columns = [\"D8_10immigSelf\",\"D8_10changeImmig\",\"D8_10changeCrime\",\"D8_10immigEcon\",\"D8_10immigCultural\"]"
   ]
  },
  {
   "cell_type": "code",
   "execution_count": 4,
   "metadata": {},
   "outputs": [
    {
     "data": {
      "text/plain": [
       "(0.7129805827519166, 0.6614250724714742)"
      ]
     },
     "execution_count": 4,
     "metadata": {},
     "output_type": "execute_result"
    }
   ],
   "source": [
    "BES_reduced_with_na[immigSelfW10].astype('float32').corr(BES_reduced_with_na[immigEconW8].astype('float32')),\\\n",
    "    BES_reduced_with_na[immigSelfW8].astype('float32').corr(BES_reduced_with_na[immigEconW10].astype('float32')),\\\n"
   ]
  },
  {
   "cell_type": "code",
   "execution_count": 5,
   "metadata": {},
   "outputs": [
    {
     "data": {
      "text/plain": [
       "(0.7188305330703965, 0.672131947195341)"
      ]
     },
     "execution_count": 5,
     "metadata": {},
     "output_type": "execute_result"
    }
   ],
   "source": [
    "immigSelfW10_ser = BES_reduced_with_na[immigSelfW10].astype('float32')\n",
    "immigSelfW8_ser  = BES_reduced_with_na[immigSelfW8].astype('float32')\n",
    "immigEconW8_ser  = BES_reduced_with_na[immigEconW8].astype('float32')\n",
    "immigEconW10_ser = BES_reduced_with_na[immigEconW10].astype('float32')\n",
    "mask = immigSelfW10_ser.notnull()&immigSelfW8_ser.notnull()&immigEconW8_ser.notnull()&immigEconW10_ser.notnull()\n",
    "\n",
    "immigSelfW10_ser[mask].corr(immigEconW8_ser[mask]),\\\n",
    "    immigSelfW8_ser[mask].corr(immigEconW10_ser[mask])\n",
    "\n",
    "# marginal implication of immigEcon -> immigSelf\n"
   ]
  },
  {
   "cell_type": "code",
   "execution_count": 6,
   "metadata": {},
   "outputs": [
    {
     "name": "stdout",
     "output_type": "stream",
     "text": [
      "immigEconW8->immigSelfW10 0.7188305330703965\n",
      "immigSelfW8->immigEconW10 0.672131947195341\n"
     ]
    }
   ],
   "source": [
    "var1 = \"immigEcon\"\n",
    "var2 = \"immigSelf\"\n",
    "\n",
    "\n",
    "def cross_lagged_corr(var1,var2,wave1=\"W8\",wave2=\"W10\"):\n",
    "    immigEconW10 = search(BES_reduced_with_na,var1+wave2).index[0]\n",
    "    immigEconW8  = search(BES_reduced_with_na,var1+wave1).index[0]\n",
    "    immigSelfW10 = search(BES_reduced_with_na,var2+wave2).index[0]\n",
    "    immigSelfW8  = search(BES_reduced_with_na,var2+wave1).index[0]\n",
    "\n",
    "\n",
    "    immigSelfW10_ser = BES_reduced_with_na[immigSelfW10].astype('float32')\n",
    "    immigSelfW8_ser  = BES_reduced_with_na[immigSelfW8].astype('float32')\n",
    "    immigEconW8_ser  = BES_reduced_with_na[immigEconW8].astype('float32')\n",
    "    immigEconW10_ser = BES_reduced_with_na[immigEconW10].astype('float32')\n",
    "    mask = immigSelfW10_ser.notnull()&immigSelfW8_ser.notnull()&immigEconW8_ser.notnull()&immigEconW10_ser.notnull()\n",
    "\n",
    "    var1_var2_corr = immigSelfW10_ser[mask].corr(immigEconW8_ser[mask])\n",
    "    var2_var1_corr = immigEconW10_ser[mask].corr(immigSelfW8_ser[mask])\n",
    "\n",
    "    print(var1+wave1+\"->\"+var2+wave2,var1_var2_corr)\n",
    "    print(var2+wave1+\"->\"+var1+wave2,var2_var1_corr)\n",
    "\n",
    "# marginal implication of immigEcon -> immigSelf\n",
    "cross_lagged_corr(var1,var2)"
   ]
  },
  {
   "cell_type": "code",
   "execution_count": 17,
   "metadata": {},
   "outputs": [
    {
     "name": "stdout",
     "output_type": "stream",
     "text": [
      "immigCulturalW8->immigSelfW10 0.7292689635783719\n",
      "immigSelfW8->immigCulturalW10 0.7068053396270592\n"
     ]
    }
   ],
   "source": [
    "var1 = \"immigCultural\"\n",
    "var2 = \"immigSelf\"\n",
    "\n",
    "cross_lagged_corr(var1,var2)"
   ]
  },
  {
   "cell_type": "code",
   "execution_count": 16,
   "metadata": {},
   "outputs": [
    {
     "name": "stdout",
     "output_type": "stream",
     "text": [
      "immigCulturalW1->immigEconW2 0.7393625171073076\n",
      "immigEconW1->immigCulturalW2 0.7244905616271176\n"
     ]
    }
   ],
   "source": [
    "var1 = \"immigCultural\"\n",
    "var2 = \"immigEcon\"\n",
    "\n",
    "cross_lagged_corr(var1,var2,\"W1\",\"W2\")"
   ]
  },
  {
   "cell_type": "code",
   "execution_count": 18,
   "metadata": {},
   "outputs": [
    {
     "name": "stdout",
     "output_type": "stream",
     "text": [
      "immigCulturalW7->immigEconW8 0.7440887063542656\n",
      "immigEconW7->immigCulturalW8 0.745748299358296\n"
     ]
    }
   ],
   "source": [
    "var1 = \"immigCultural\"\n",
    "var2 = \"immigEcon\"\n",
    "\n",
    "cross_lagged_corr(var1,var2,\"W7\",\"W8\")"
   ]
  },
  {
   "cell_type": "code",
   "execution_count": 19,
   "metadata": {},
   "outputs": [
    {
     "name": "stdout",
     "output_type": "stream",
     "text": [
      "immigCulturalW16->immigEconW17 0.7172137674311125\n",
      "immigEconW16->immigCulturalW17 0.7280155092150624\n"
     ]
    }
   ],
   "source": [
    "var1 = \"immigCultural\"\n",
    "var2 = \"immigEcon\"\n",
    "\n",
    "cross_lagged_corr(var1,var2,\"W16\",\"W17\")"
   ]
  },
  {
   "cell_type": "code",
   "execution_count": 20,
   "metadata": {},
   "outputs": [
    {
     "name": "stdout",
     "output_type": "stream",
     "text": [
      "immigCulturalW1->immigEconW10 0.6403261561551364\n",
      "immigEconW1->immigCulturalW10 0.6678046745596167\n"
     ]
    }
   ],
   "source": [
    "var1 = \"immigCultural\"\n",
    "var2 = \"immigEcon\"\n",
    "\n",
    "cross_lagged_corr(var1,var2,\"W1\",\"W10\")"
   ]
  },
  {
   "cell_type": "code",
   "execution_count": 9,
   "metadata": {},
   "outputs": [
    {
     "name": "stdout",
     "output_type": "stream",
     "text": [
      "immigCulturalW1->immigEconW17 0.6092705540273134\n",
      "immigEconW1->immigCulturalW17 0.625516171687894\n"
     ]
    }
   ],
   "source": [
    "var1 = \"immigCultural\"\n",
    "var2 = \"immigEcon\"\n",
    "\n",
    "cross_lagged_corr(var1,var2,\"W1\",\"W17\")"
   ]
  },
  {
   "cell_type": "code",
   "execution_count": 7,
   "metadata": {},
   "outputs": [
    {
     "name": "stdout",
     "output_type": "stream",
     "text": [
      "immigSelfW7->immigEconW17 0.6203347963846528\n",
      "immigEconW7->immigSelfW17 0.708097746600024\n"
     ]
    }
   ],
   "source": [
    "var1 = \"immigSelf\"\n",
    "var2 = \"immigEcon\"\n",
    "\n",
    "cross_lagged_corr(var1,var2,\"W7\",\"W17\")"
   ]
  },
  {
   "cell_type": "code",
   "execution_count": 8,
   "metadata": {},
   "outputs": [
    {
     "name": "stdout",
     "output_type": "stream",
     "text": [
      "immigSelfW7->immigCulturalW17 0.6690048315463473\n",
      "immigCulturalW7->immigSelfW17 0.6982389225885333\n"
     ]
    }
   ],
   "source": [
    "var1 = \"immigSelf\"\n",
    "var2 = \"immigCultural\"\n",
    "\n",
    "cross_lagged_corr(var1,var2,\"W7\",\"W17\")"
   ]
  },
  {
   "cell_type": "code",
   "execution_count": 22,
   "metadata": {},
   "outputs": [
    {
     "name": "stdout",
     "output_type": "stream",
     "text": [
      "immigSelfW16->immigEconW17 0.6959143303053202\n",
      "immigEconW16->immigSelfW17 0.7189111196006936\n"
     ]
    }
   ],
   "source": [
    "var1 = \"immigSelf\"\n",
    "var2 = \"immigEcon\"\n",
    "\n",
    "cross_lagged_corr(var1,var2,\"W16\",\"W17\")"
   ]
  },
  {
   "cell_type": "code",
   "execution_count": 10,
   "metadata": {},
   "outputs": [
    {
     "name": "stdout",
     "output_type": "stream",
     "text": [
      "immigSelfW8->immigCulturalW10 0.7068053396270592\n",
      "immigCulturalW8->immigSelfW10 0.7292689635783719\n"
     ]
    }
   ],
   "source": [
    "var1 = \"immigSelf\"\n",
    "var2 = \"immigCultural\"\n",
    "\n",
    "cross_lagged_corr(var1,var2,\"W8\",\"W10\")"
   ]
  },
  {
   "cell_type": "code",
   "execution_count": 25,
   "metadata": {},
   "outputs": [
    {
     "name": "stdout",
     "output_type": "stream",
     "text": [
      "immigrantsWelfareStateW8->immigCulturalW10 -0.6691791319586687\n",
      "immigCulturalW8->immigrantsWelfareStateW10 -0.6609960512590991\n"
     ]
    }
   ],
   "source": [
    "var1 = \"immigrantsWelfareState\"\n",
    "var2 = \"immigCultural\"\n",
    "\n",
    "cross_lagged_corr(var1,var2,\"W8\",\"W10\")"
   ]
  },
  {
   "cell_type": "code",
   "execution_count": 28,
   "metadata": {},
   "outputs": [
    {
     "name": "stdout",
     "output_type": "stream",
     "text": [
      "ukCoopMovementW8->immigSelfW10 -0.6591330822483417\n",
      "immigSelfW8->ukCoopMovementW10 -0.622298746153174\n"
     ]
    }
   ],
   "source": [
    "var1 = \"ukCoopMovement\"\n",
    "var2 = \"immigSelf\"\n",
    "\n",
    "cross_lagged_corr(var1,var2,\"W8\",\"W10\")"
   ]
  },
  {
   "cell_type": "code",
   "execution_count": 29,
   "metadata": {},
   "outputs": [
    {
     "name": "stdout",
     "output_type": "stream",
     "text": [
      "changeImmigW8->immigrantsWelfareStateW10 0.49436309713279547\n",
      "immigrantsWelfareStateW8->changeImmigW10 0.3864699872486674\n"
     ]
    }
   ],
   "source": [
    "var1 = \"changeImmig\"\n",
    "var2 = \"immigrantsWelfareState\"\n",
    "\n",
    "cross_lagged_corr(var1,var2,\"W8\",\"W10\")"
   ]
  },
  {
   "cell_type": "code",
   "execution_count": 30,
   "metadata": {
    "scrolled": true
   },
   "outputs": [
    {
     "name": "stdout",
     "output_type": "stream",
     "text": [
      "controlImmigW8->immigEconW10 0.4982253242822512\n",
      "immigEconW8->controlImmigW10 -0.34692775986003993\n"
     ]
    }
   ],
   "source": [
    "var1 = \"controlImmig\"\n",
    "var2 = \"immigEcon\"\n",
    "\n",
    "cross_lagged_corr(var1,var2,\"W8\",\"W10\")"
   ]
  },
  {
   "cell_type": "code",
   "execution_count": 38,
   "metadata": {},
   "outputs": [
    {
     "name": "stdout",
     "output_type": "stream",
     "text": [
      "controlImmigW8->immigSelfW9 0.5606340785481458\n",
      "immigSelfW8->controlImmigW9 -0.4565388083113115\n"
     ]
    }
   ],
   "source": [
    "var1 = \"controlImmig\"\n",
    "var2 = \"immigSelf\"\n",
    "\n",
    "cross_lagged_corr(var1,var2,\"W8\",\"W9\")"
   ]
  },
  {
   "cell_type": "code",
   "execution_count": 37,
   "metadata": {},
   "outputs": [
    {
     "name": "stdout",
     "output_type": "stream",
     "text": [
      "controlImmigW9->immigSelfW17 -0.45100966137563586\n",
      "immigSelfW9->controlImmigW17 -0.39225566163412734\n"
     ]
    }
   ],
   "source": [
    "var1 = \"controlImmig\"\n",
    "var2 = \"immigSelf\"\n",
    "\n",
    "cross_lagged_corr(var1,var2,\"W9\",\"W17\")"
   ]
  },
  {
   "cell_type": "code",
   "execution_count": 39,
   "metadata": {},
   "outputs": [
    {
     "name": "stdout",
     "output_type": "stream",
     "text": [
      "immigContributeTakeW7->immigSelfW8 -0.6359327433745416\n",
      "immigSelfW7->immigContributeTakeW8 -0.6248992810536302\n"
     ]
    }
   ],
   "source": [
    "var1 = \"immigContributeTake\"\n",
    "var2 = \"immigSelf\"\n",
    "\n",
    "cross_lagged_corr(var1,var2,\"W7\",\"W8\")"
   ]
  },
  {
   "cell_type": "code",
   "execution_count": 40,
   "metadata": {},
   "outputs": [
    {
     "name": "stdout",
     "output_type": "stream",
     "text": [
      "immigContributeTakeW7->immigEconW8 -0.6410224260083954\n",
      "immigEconW7->immigContributeTakeW8 -0.641945318138139\n"
     ]
    }
   ],
   "source": [
    "var1 = \"immigContributeTake\"\n",
    "var2 = \"immigEcon\"\n",
    "\n",
    "cross_lagged_corr(var1,var2,\"W7\",\"W8\")"
   ]
  },
  {
   "cell_type": "code",
   "execution_count": 41,
   "metadata": {},
   "outputs": [
    {
     "name": "stdout",
     "output_type": "stream",
     "text": [
      "immigContributeTakeW7->immigCulturalW8 -0.5960650555769174\n",
      "immigCulturalW7->immigContributeTakeW8 -0.5998208576139431\n"
     ]
    }
   ],
   "source": [
    "var1 = \"immigContributeTake\"\n",
    "var2 = \"immigCultural\"\n",
    "\n",
    "cross_lagged_corr(var1,var2,\"W7\",\"W8\")"
   ]
  },
  {
   "cell_type": "code",
   "execution_count": 42,
   "metadata": {},
   "outputs": [
    {
     "name": "stdout",
     "output_type": "stream",
     "text": [
      "immigContributeTakeW7->immigrantsWelfareStateW8 0.6907696790871389\n",
      "immigrantsWelfareStateW7->immigContributeTakeW8 0.6962436959138493\n"
     ]
    }
   ],
   "source": [
    "var1 = \"immigContributeTake\"\n",
    "var2 = \"immigrantsWelfareState\"\n",
    "\n",
    "cross_lagged_corr(var1,var2,\"W7\",\"W8\")"
   ]
  },
  {
   "cell_type": "code",
   "execution_count": 46,
   "metadata": {},
   "outputs": [
    {
     "name": "stdout",
     "output_type": "stream",
     "text": [
      "europeannessW8->immigSelfW10 0.5518217874645736\n",
      "immigSelfW8->europeannessW10 0.5509476669793407\n"
     ]
    }
   ],
   "source": [
    "var1 = \"europeanness\"\n",
    "var2 = \"immigSelf\"\n",
    "\n",
    "cross_lagged_corr(var1,var2,\"W8\",\"W10\")"
   ]
  },
  {
   "cell_type": "code",
   "execution_count": null,
   "metadata": {},
   "outputs": [],
   "source": []
  },
  {
   "cell_type": "code",
   "execution_count": null,
   "metadata": {},
   "outputs": [],
   "source": []
  },
  {
   "cell_type": "code",
   "execution_count": null,
   "metadata": {},
   "outputs": [],
   "source": [
    "## how to find instruments automatically?\n",
    "# look for things with high_corr to your endog variable and low_corr with your target variable"
   ]
  },
  {
   "cell_type": "code",
   "execution_count": 23,
   "metadata": {},
   "outputs": [
    {
     "data": {
      "text/plain": [
       "controlImmigW8__Complete control    8014\n",
       "dtype: int64"
      ]
     },
     "execution_count": 23,
     "metadata": {},
     "output_type": "execute_result"
    }
   ],
   "source": [
    "search(BES_reduced_with_na,\"controlImmigW8\")"
   ]
  },
  {
   "cell_type": "code",
   "execution_count": 26,
   "metadata": {},
   "outputs": [
    {
     "data": {
      "text/html": [
       "<style  type=\"text/css\" >\n",
       "</style><table id=\"T_ce006f1a_8fb1_11ea_9c80_20cf301b91b3\" style='display:inline'><caption>Top 20 positive (spearman) correlations for controlImmigW8__Complete control</caption><thead>    <tr>        <th class=\"blank level0\" ></th>        <th class=\"col_heading level0 col0\" >r</th>        <th class=\"col_heading level0 col1\" >p</th>        <th class=\"col_heading level0 col2\" >N</th>    </tr></thead><tbody>\n",
       "                <tr>\n",
       "                        <th id=\"T_ce006f1a_8fb1_11ea_9c80_20cf301b91b3level0_row0\" class=\"row_heading level0 row0\" >immigSelfW8__Allow many more</th>\n",
       "                        <td id=\"T_ce006f1a_8fb1_11ea_9c80_20cf301b91b3row0_col0\" class=\"data row0 col0\" >0.610000</td>\n",
       "                        <td id=\"T_ce006f1a_8fb1_11ea_9c80_20cf301b91b3row0_col1\" class=\"data row0 col1\" >0.00</td>\n",
       "                        <td id=\"T_ce006f1a_8fb1_11ea_9c80_20cf301b91b3row0_col2\" class=\"data row0 col2\" >7460</td>\n",
       "            </tr>\n",
       "            <tr>\n",
       "                        <th id=\"T_ce006f1a_8fb1_11ea_9c80_20cf301b91b3level0_row1\" class=\"row_heading level0 row1\" >immigEconW8__Good for economy</th>\n",
       "                        <td id=\"T_ce006f1a_8fb1_11ea_9c80_20cf301b91b3row1_col0\" class=\"data row1 col0\" >0.570000</td>\n",
       "                        <td id=\"T_ce006f1a_8fb1_11ea_9c80_20cf301b91b3row1_col1\" class=\"data row1 col1\" >0.00</td>\n",
       "                        <td id=\"T_ce006f1a_8fb1_11ea_9c80_20cf301b91b3row1_col2\" class=\"data row1 col2\" >7727</td>\n",
       "            </tr>\n",
       "            <tr>\n",
       "                        <th id=\"T_ce006f1a_8fb1_11ea_9c80_20cf301b91b3level0_row2\" class=\"row_heading level0 row2\" >approveEUW9__Strongly approve</th>\n",
       "                        <td id=\"T_ce006f1a_8fb1_11ea_9c80_20cf301b91b3row2_col0\" class=\"data row2 col0\" >0.560000</td>\n",
       "                        <td id=\"T_ce006f1a_8fb1_11ea_9c80_20cf301b91b3row2_col1\" class=\"data row2 col1\" >0.00</td>\n",
       "                        <td id=\"T_ce006f1a_8fb1_11ea_9c80_20cf301b91b3row2_col2\" class=\"data row2 col2\" >6419</td>\n",
       "            </tr>\n",
       "            <tr>\n",
       "                        <th id=\"T_ce006f1a_8fb1_11ea_9c80_20cf301b91b3level0_row3\" class=\"row_heading level0 row3\" >immigCulturalW8__Enriches cultural life</th>\n",
       "                        <td id=\"T_ce006f1a_8fb1_11ea_9c80_20cf301b91b3row3_col0\" class=\"data row3 col0\" >0.560000</td>\n",
       "                        <td id=\"T_ce006f1a_8fb1_11ea_9c80_20cf301b91b3row3_col1\" class=\"data row3 col1\" >0.00</td>\n",
       "                        <td id=\"T_ce006f1a_8fb1_11ea_9c80_20cf301b91b3row3_col2\" class=\"data row3 col2\" >7809</td>\n",
       "            </tr>\n",
       "            <tr>\n",
       "                        <th id=\"T_ce006f1a_8fb1_11ea_9c80_20cf301b91b3level0_row4\" class=\"row_heading level0 row4\" >euUKRichW8__Strongly agree</th>\n",
       "                        <td id=\"T_ce006f1a_8fb1_11ea_9c80_20cf301b91b3row4_col0\" class=\"data row4 col0\" >0.560000</td>\n",
       "                        <td id=\"T_ce006f1a_8fb1_11ea_9c80_20cf301b91b3row4_col1\" class=\"data row4 col1\" >0.00</td>\n",
       "                        <td id=\"T_ce006f1a_8fb1_11ea_9c80_20cf301b91b3row4_col2\" class=\"data row4 col2\" >7478</td>\n",
       "            </tr>\n",
       "            <tr>\n",
       "                        <th id=\"T_ce006f1a_8fb1_11ea_9c80_20cf301b91b3level0_row5\" class=\"row_heading level0 row5\" >euLawsLevelW8__Strongly agree</th>\n",
       "                        <td id=\"T_ce006f1a_8fb1_11ea_9c80_20cf301b91b3row5_col0\" class=\"data row5 col0\" >0.530000</td>\n",
       "                        <td id=\"T_ce006f1a_8fb1_11ea_9c80_20cf301b91b3row5_col1\" class=\"data row5 col1\" >0.00</td>\n",
       "                        <td id=\"T_ce006f1a_8fb1_11ea_9c80_20cf301b91b3row5_col2\" class=\"data row5 col2\" >7667</td>\n",
       "            </tr>\n",
       "            <tr>\n",
       "                        <th id=\"T_ce006f1a_8fb1_11ea_9c80_20cf301b91b3level0_row6\" class=\"row_heading level0 row6\" >euMoreW8__Many more</th>\n",
       "                        <td id=\"T_ce006f1a_8fb1_11ea_9c80_20cf301b91b3row6_col0\" class=\"data row6 col0\" >0.530000</td>\n",
       "                        <td id=\"T_ce006f1a_8fb1_11ea_9c80_20cf301b91b3row6_col1\" class=\"data row6 col1\" >0.00</td>\n",
       "                        <td id=\"T_ce006f1a_8fb1_11ea_9c80_20cf301b91b3row6_col2\" class=\"data row6 col2\" >7650</td>\n",
       "            </tr>\n",
       "            <tr>\n",
       "                        <th id=\"T_ce006f1a_8fb1_11ea_9c80_20cf301b91b3level0_row7\" class=\"row_heading level0 row7\" >dealVremainW18_Remain in the EU</th>\n",
       "                        <td id=\"T_ce006f1a_8fb1_11ea_9c80_20cf301b91b3row7_col0\" class=\"data row7 col0\" >0.510000</td>\n",
       "                        <td id=\"T_ce006f1a_8fb1_11ea_9c80_20cf301b91b3row7_col1\" class=\"data row7 col1\" >0.00</td>\n",
       "                        <td id=\"T_ce006f1a_8fb1_11ea_9c80_20cf301b91b3row7_col2\" class=\"data row7 col2\" >3277</td>\n",
       "            </tr>\n",
       "            <tr>\n",
       "                        <th id=\"T_ce006f1a_8fb1_11ea_9c80_20cf301b91b3level0_row8\" class=\"row_heading level0 row8\" >remainVnodealW16_Remain in the EU</th>\n",
       "                        <td id=\"T_ce006f1a_8fb1_11ea_9c80_20cf301b91b3row8_col0\" class=\"data row8 col0\" >0.510000</td>\n",
       "                        <td id=\"T_ce006f1a_8fb1_11ea_9c80_20cf301b91b3row8_col1\" class=\"data row8 col1\" >0.00</td>\n",
       "                        <td id=\"T_ce006f1a_8fb1_11ea_9c80_20cf301b91b3row8_col2\" class=\"data row8 col2\" >2595</td>\n",
       "            </tr>\n",
       "            <tr>\n",
       "                        <th id=\"T_ce006f1a_8fb1_11ea_9c80_20cf301b91b3level0_row9\" class=\"row_heading level0 row9\" >euPreventWarW8__Strongly agree</th>\n",
       "                        <td id=\"T_ce006f1a_8fb1_11ea_9c80_20cf301b91b3row9_col0\" class=\"data row9 col0\" >0.510000</td>\n",
       "                        <td id=\"T_ce006f1a_8fb1_11ea_9c80_20cf301b91b3row9_col1\" class=\"data row9 col1\" >0.00</td>\n",
       "                        <td id=\"T_ce006f1a_8fb1_11ea_9c80_20cf301b91b3row9_col2\" class=\"data row9 col2\" >7503</td>\n",
       "            </tr>\n",
       "            <tr>\n",
       "                        <th id=\"T_ce006f1a_8fb1_11ea_9c80_20cf301b91b3level0_row10\" class=\"row_heading level0 row10\" >eesEUIntegrationSelfW3__Unification should be[...]</th>\n",
       "                        <td id=\"T_ce006f1a_8fb1_11ea_9c80_20cf301b91b3row10_col0\" class=\"data row10 col0\" >0.510000</td>\n",
       "                        <td id=\"T_ce006f1a_8fb1_11ea_9c80_20cf301b91b3row10_col1\" class=\"data row10 col1\" >0.00</td>\n",
       "                        <td id=\"T_ce006f1a_8fb1_11ea_9c80_20cf301b91b3row10_col2\" class=\"data row10 col2\" >3569</td>\n",
       "            </tr>\n",
       "            <tr>\n",
       "                        <th id=\"T_ce006f1a_8fb1_11ea_9c80_20cf301b91b3level0_row11\" class=\"row_heading level0 row11\" >asylumMoreW13__Many more</th>\n",
       "                        <td id=\"T_ce006f1a_8fb1_11ea_9c80_20cf301b91b3row11_col0\" class=\"data row11 col0\" >0.510000</td>\n",
       "                        <td id=\"T_ce006f1a_8fb1_11ea_9c80_20cf301b91b3row11_col1\" class=\"data row11 col1\" >0.00</td>\n",
       "                        <td id=\"T_ce006f1a_8fb1_11ea_9c80_20cf301b91b3row11_col2\" class=\"data row11 col2\" >4698</td>\n",
       "            </tr>\n",
       "            <tr>\n",
       "                        <th id=\"T_ce006f1a_8fb1_11ea_9c80_20cf301b91b3level0_row12\" class=\"row_heading level0 row12\" >euCloserW8__Strongly agree</th>\n",
       "                        <td id=\"T_ce006f1a_8fb1_11ea_9c80_20cf301b91b3row12_col0\" class=\"data row12 col0\" >0.510000</td>\n",
       "                        <td id=\"T_ce006f1a_8fb1_11ea_9c80_20cf301b91b3row12_col1\" class=\"data row12 col1\" >0.00</td>\n",
       "                        <td id=\"T_ce006f1a_8fb1_11ea_9c80_20cf301b91b3row12_col2\" class=\"data row12 col2\" >7722</td>\n",
       "            </tr>\n",
       "            <tr>\n",
       "                        <th id=\"T_ce006f1a_8fb1_11ea_9c80_20cf301b91b3level0_row13\" class=\"row_heading level0 row13\" >immigrationLevelW4__Increased a lot</th>\n",
       "                        <td id=\"T_ce006f1a_8fb1_11ea_9c80_20cf301b91b3row13_col0\" class=\"data row13 col0\" >0.500000</td>\n",
       "                        <td id=\"T_ce006f1a_8fb1_11ea_9c80_20cf301b91b3row13_col1\" class=\"data row13 col1\" >0.00</td>\n",
       "                        <td id=\"T_ce006f1a_8fb1_11ea_9c80_20cf301b91b3row13_col2\" class=\"data row13 col2\" >4543</td>\n",
       "            </tr>\n",
       "            <tr>\n",
       "                        <th id=\"T_ce006f1a_8fb1_11ea_9c80_20cf301b91b3level0_row14\" class=\"row_heading level0 row14\" >britainFairShareW8__Much more than its fair share</th>\n",
       "                        <td id=\"T_ce006f1a_8fb1_11ea_9c80_20cf301b91b3row14_col0\" class=\"data row14 col0\" >0.500000</td>\n",
       "                        <td id=\"T_ce006f1a_8fb1_11ea_9c80_20cf301b91b3row14_col1\" class=\"data row14 col1\" >0.00</td>\n",
       "                        <td id=\"T_ce006f1a_8fb1_11ea_9c80_20cf301b91b3row14_col2\" class=\"data row14 col2\" >6300</td>\n",
       "            </tr>\n",
       "            <tr>\n",
       "                        <th id=\"T_ce006f1a_8fb1_11ea_9c80_20cf301b91b3level0_row15\" class=\"row_heading level0 row15\" >echrW8__Strongly agree</th>\n",
       "                        <td id=\"T_ce006f1a_8fb1_11ea_9c80_20cf301b91b3row15_col0\" class=\"data row15 col0\" >0.500000</td>\n",
       "                        <td id=\"T_ce006f1a_8fb1_11ea_9c80_20cf301b91b3row15_col1\" class=\"data row15 col1\" >0.00</td>\n",
       "                        <td id=\"T_ce006f1a_8fb1_11ea_9c80_20cf301b91b3row15_col2\" class=\"data row15 col2\" >7677</td>\n",
       "            </tr>\n",
       "            <tr>\n",
       "                        <th id=\"T_ce006f1a_8fb1_11ea_9c80_20cf301b91b3level0_row16\" class=\"row_heading level0 row16\" >europeannessW10__Very strongly European</th>\n",
       "                        <td id=\"T_ce006f1a_8fb1_11ea_9c80_20cf301b91b3row16_col0\" class=\"data row16 col0\" >0.500000</td>\n",
       "                        <td id=\"T_ce006f1a_8fb1_11ea_9c80_20cf301b91b3row16_col1\" class=\"data row16 col1\" >0.00</td>\n",
       "                        <td id=\"T_ce006f1a_8fb1_11ea_9c80_20cf301b91b3row16_col2\" class=\"data row16 col2\" >4659</td>\n",
       "            </tr>\n",
       "            <tr>\n",
       "                        <th id=\"T_ce006f1a_8fb1_11ea_9c80_20cf301b91b3level0_row17\" class=\"row_heading level0 row17\" >euFinancialHelpW7__Strongly agree</th>\n",
       "                        <td id=\"T_ce006f1a_8fb1_11ea_9c80_20cf301b91b3row17_col0\" class=\"data row17 col0\" >0.500000</td>\n",
       "                        <td id=\"T_ce006f1a_8fb1_11ea_9c80_20cf301b91b3row17_col1\" class=\"data row17 col1\" >0.00</td>\n",
       "                        <td id=\"T_ce006f1a_8fb1_11ea_9c80_20cf301b91b3row17_col2\" class=\"data row17 col2\" >5450</td>\n",
       "            </tr>\n",
       "            <tr>\n",
       "                        <th id=\"T_ce006f1a_8fb1_11ea_9c80_20cf301b91b3level0_row18\" class=\"row_heading level0 row18\" >satDemEUW9__Very satisfied</th>\n",
       "                        <td id=\"T_ce006f1a_8fb1_11ea_9c80_20cf301b91b3row18_col0\" class=\"data row18 col0\" >0.490000</td>\n",
       "                        <td id=\"T_ce006f1a_8fb1_11ea_9c80_20cf301b91b3row18_col1\" class=\"data row18 col1\" >0.00</td>\n",
       "                        <td id=\"T_ce006f1a_8fb1_11ea_9c80_20cf301b91b3row18_col2\" class=\"data row18 col2\" >6117</td>\n",
       "            </tr>\n",
       "            <tr>\n",
       "                        <th id=\"T_ce006f1a_8fb1_11ea_9c80_20cf301b91b3level0_row19\" class=\"row_heading level0 row19\" >euLeaveBigBusinessW8__Much more likely</th>\n",
       "                        <td id=\"T_ce006f1a_8fb1_11ea_9c80_20cf301b91b3row19_col0\" class=\"data row19 col0\" >0.480000</td>\n",
       "                        <td id=\"T_ce006f1a_8fb1_11ea_9c80_20cf301b91b3row19_col1\" class=\"data row19 col1\" >0.00</td>\n",
       "                        <td id=\"T_ce006f1a_8fb1_11ea_9c80_20cf301b91b3row19_col2\" class=\"data row19 col2\" >7112</td>\n",
       "            </tr>\n",
       "    </tbody></table><style  type=\"text/css\" >\n",
       "</style><table id=\"T_ce01326e_8fb1_11ea_b7dd_20cf301b91b3\" style='display:inline'><caption>Top 20 negative (spearman) correlations for controlImmigW8__Complete control</caption><thead>    <tr>        <th class=\"blank level0\" ></th>        <th class=\"col_heading level0 col0\" >r</th>        <th class=\"col_heading level0 col1\" >p</th>        <th class=\"col_heading level0 col2\" >N</th>    </tr></thead><tbody>\n",
       "                <tr>\n",
       "                        <th id=\"T_ce01326e_8fb1_11ea_b7dd_20cf301b91b3level0_row0\" class=\"row_heading level0 row0\" >euRefVotePostW8_Leave the EU</th>\n",
       "                        <td id=\"T_ce01326e_8fb1_11ea_b7dd_20cf301b91b3row0_col0\" class=\"data row0 col0\" >-0.610000</td>\n",
       "                        <td id=\"T_ce01326e_8fb1_11ea_b7dd_20cf301b91b3row0_col1\" class=\"data row0 col1\" >0.00</td>\n",
       "                        <td id=\"T_ce01326e_8fb1_11ea_b7dd_20cf301b91b3row0_col2\" class=\"data row0 col2\" >1057</td>\n",
       "            </tr>\n",
       "            <tr>\n",
       "                        <th id=\"T_ce01326e_8fb1_11ea_b7dd_20cf301b91b3level0_row1\" class=\"row_heading level0 row1\" >euRefVoteUnsqueezeW7_Leave the EU</th>\n",
       "                        <td id=\"T_ce01326e_8fb1_11ea_b7dd_20cf301b91b3row1_col0\" class=\"data row1 col0\" >-0.600000</td>\n",
       "                        <td id=\"T_ce01326e_8fb1_11ea_b7dd_20cf301b91b3row1_col1\" class=\"data row1 col1\" >0.00</td>\n",
       "                        <td id=\"T_ce01326e_8fb1_11ea_b7dd_20cf301b91b3row1_col2\" class=\"data row1 col2\" >5024</td>\n",
       "            </tr>\n",
       "            <tr>\n",
       "                        <th id=\"T_ce01326e_8fb1_11ea_b7dd_20cf301b91b3level0_row2\" class=\"row_heading level0 row2\" >euIDW8_The leave side</th>\n",
       "                        <td id=\"T_ce01326e_8fb1_11ea_b7dd_20cf301b91b3row2_col0\" class=\"data row2 col0\" >-0.590000</td>\n",
       "                        <td id=\"T_ce01326e_8fb1_11ea_b7dd_20cf301b91b3row2_col1\" class=\"data row2 col1\" >0.00</td>\n",
       "                        <td id=\"T_ce01326e_8fb1_11ea_b7dd_20cf301b91b3row2_col2\" class=\"data row2 col2\" >5225</td>\n",
       "            </tr>\n",
       "            <tr>\n",
       "                        <th id=\"T_ce01326e_8fb1_11ea_b7dd_20cf301b91b3level0_row3\" class=\"row_heading level0 row3\" >UKsovereigntyW8__Strongly agree</th>\n",
       "                        <td id=\"T_ce01326e_8fb1_11ea_b7dd_20cf301b91b3row3_col0\" class=\"data row3 col0\" >-0.580000</td>\n",
       "                        <td id=\"T_ce01326e_8fb1_11ea_b7dd_20cf301b91b3row3_col1\" class=\"data row3 col1\" >0.00</td>\n",
       "                        <td id=\"T_ce01326e_8fb1_11ea_b7dd_20cf301b91b3row3_col2\" class=\"data row3 col2\" >7641</td>\n",
       "            </tr>\n",
       "            <tr>\n",
       "                        <th id=\"T_ce01326e_8fb1_11ea_b7dd_20cf301b91b3level0_row4\" class=\"row_heading level0 row4\" >euRefVote2W8_Leave the EU</th>\n",
       "                        <td id=\"T_ce01326e_8fb1_11ea_b7dd_20cf301b91b3row4_col0\" class=\"data row4 col0\" >-0.580000</td>\n",
       "                        <td id=\"T_ce01326e_8fb1_11ea_b7dd_20cf301b91b3row4_col1\" class=\"data row4 col1\" >0.00</td>\n",
       "                        <td id=\"T_ce01326e_8fb1_11ea_b7dd_20cf301b91b3row4_col2\" class=\"data row4 col2\" >6480</td>\n",
       "            </tr>\n",
       "            <tr>\n",
       "                        <th id=\"T_ce01326e_8fb1_11ea_b7dd_20cf301b91b3level0_row5\" class=\"row_heading level0 row5\" >euRefVoteW8_Leave the EU</th>\n",
       "                        <td id=\"T_ce01326e_8fb1_11ea_b7dd_20cf301b91b3row5_col0\" class=\"data row5 col0\" >-0.580000</td>\n",
       "                        <td id=\"T_ce01326e_8fb1_11ea_b7dd_20cf301b91b3row5_col1\" class=\"data row5 col1\" >0.00</td>\n",
       "                        <td id=\"T_ce01326e_8fb1_11ea_b7dd_20cf301b91b3row5_col2\" class=\"data row5 col2\" >7537</td>\n",
       "            </tr>\n",
       "            <tr>\n",
       "                        <th id=\"T_ce01326e_8fb1_11ea_b7dd_20cf301b91b3level0_row6\" class=\"row_heading level0 row6\" >EUIntegrationSelfW8__Protect our independence</th>\n",
       "                        <td id=\"T_ce01326e_8fb1_11ea_b7dd_20cf301b91b3row6_col0\" class=\"data row6 col0\" >-0.580000</td>\n",
       "                        <td id=\"T_ce01326e_8fb1_11ea_b7dd_20cf301b91b3row6_col1\" class=\"data row6 col1\" >0.00</td>\n",
       "                        <td id=\"T_ce01326e_8fb1_11ea_b7dd_20cf301b91b3row6_col2\" class=\"data row6 col2\" >7679</td>\n",
       "            </tr>\n",
       "            <tr>\n",
       "                        <th id=\"T_ce01326e_8fb1_11ea_b7dd_20cf301b91b3level0_row7\" class=\"row_heading level0 row7\" >euUndermineIdentityW8__Strongly agree</th>\n",
       "                        <td id=\"T_ce01326e_8fb1_11ea_b7dd_20cf301b91b3row7_col0\" class=\"data row7 col0\" >-0.580000</td>\n",
       "                        <td id=\"T_ce01326e_8fb1_11ea_b7dd_20cf301b91b3row7_col1\" class=\"data row7 col1\" >0.00</td>\n",
       "                        <td id=\"T_ce01326e_8fb1_11ea_b7dd_20cf301b91b3row7_col2\" class=\"data row7 col2\" >7722</td>\n",
       "            </tr>\n",
       "            <tr>\n",
       "                        <th id=\"T_ce01326e_8fb1_11ea_b7dd_20cf301b91b3level0_row8\" class=\"row_heading level0 row8\" >changeImmigW8__Getting a lot higher</th>\n",
       "                        <td id=\"T_ce01326e_8fb1_11ea_b7dd_20cf301b91b3row8_col0\" class=\"data row8 col0\" >-0.570000</td>\n",
       "                        <td id=\"T_ce01326e_8fb1_11ea_b7dd_20cf301b91b3row8_col1\" class=\"data row8 col1\" >0.00</td>\n",
       "                        <td id=\"T_ce01326e_8fb1_11ea_b7dd_20cf301b91b3row8_col2\" class=\"data row8 col2\" >7822</td>\n",
       "            </tr>\n",
       "            <tr>\n",
       "                        <th id=\"T_ce01326e_8fb1_11ea_b7dd_20cf301b91b3level0_row9\" class=\"row_heading level0 row9\" >happyEULeaveW11__Extremely happy</th>\n",
       "                        <td id=\"T_ce01326e_8fb1_11ea_b7dd_20cf301b91b3row9_col0\" class=\"data row9 col0\" >-0.570000</td>\n",
       "                        <td id=\"T_ce01326e_8fb1_11ea_b7dd_20cf301b91b3row9_col1\" class=\"data row9 col1\" >0.00</td>\n",
       "                        <td id=\"T_ce01326e_8fb1_11ea_b7dd_20cf301b91b3row9_col2\" class=\"data row9 col2\" >4917</td>\n",
       "            </tr>\n",
       "            <tr>\n",
       "                        <th id=\"T_ce01326e_8fb1_11ea_b7dd_20cf301b91b3level0_row10\" class=\"row_heading level0 row10\" >profile_eurefvote_Leave the EU</th>\n",
       "                        <td id=\"T_ce01326e_8fb1_11ea_b7dd_20cf301b91b3row10_col0\" class=\"data row10 col0\" >-0.560000</td>\n",
       "                        <td id=\"T_ce01326e_8fb1_11ea_b7dd_20cf301b91b3row10_col1\" class=\"data row10 col1\" >0.00</td>\n",
       "                        <td id=\"T_ce01326e_8fb1_11ea_b7dd_20cf301b91b3row10_col2\" class=\"data row10 col2\" >7126</td>\n",
       "            </tr>\n",
       "            <tr>\n",
       "                        <th id=\"T_ce01326e_8fb1_11ea_b7dd_20cf301b91b3level0_row11\" class=\"row_heading level0 row11\" >immigrantsWelfareStateW8__Strongly agree</th>\n",
       "                        <td id=\"T_ce01326e_8fb1_11ea_b7dd_20cf301b91b3row11_col0\" class=\"data row11 col0\" >-0.560000</td>\n",
       "                        <td id=\"T_ce01326e_8fb1_11ea_b7dd_20cf301b91b3row11_col1\" class=\"data row11 col1\" >0.00</td>\n",
       "                        <td id=\"T_ce01326e_8fb1_11ea_b7dd_20cf301b91b3row11_col2\" class=\"data row11 col2\" >7775</td>\n",
       "            </tr>\n",
       "            <tr>\n",
       "                        <th id=\"T_ce01326e_8fb1_11ea_b7dd_20cf301b91b3level0_row12\" class=\"row_heading level0 row12\" >euRefpastVoteW12_Leave the EU</th>\n",
       "                        <td id=\"T_ce01326e_8fb1_11ea_b7dd_20cf301b91b3row12_col0\" class=\"data row12 col0\" >-0.560000</td>\n",
       "                        <td id=\"T_ce01326e_8fb1_11ea_b7dd_20cf301b91b3row12_col1\" class=\"data row12 col1\" >0.00</td>\n",
       "                        <td id=\"T_ce01326e_8fb1_11ea_b7dd_20cf301b91b3row12_col2\" class=\"data row12 col2\" >5061</td>\n",
       "            </tr>\n",
       "            <tr>\n",
       "                        <th id=\"T_ce01326e_8fb1_11ea_b7dd_20cf301b91b3level0_row13\" class=\"row_heading level0 row13\" >ukCoopMovementW8__Bad for Britain</th>\n",
       "                        <td id=\"T_ce01326e_8fb1_11ea_b7dd_20cf301b91b3row13_col0\" class=\"data row13 col0\" >-0.560000</td>\n",
       "                        <td id=\"T_ce01326e_8fb1_11ea_b7dd_20cf301b91b3row13_col1\" class=\"data row13 col1\" >0.00</td>\n",
       "                        <td id=\"T_ce01326e_8fb1_11ea_b7dd_20cf301b91b3row13_col2\" class=\"data row13 col2\" >7626</td>\n",
       "            </tr>\n",
       "            <tr>\n",
       "                        <th id=\"T_ce01326e_8fb1_11ea_b7dd_20cf301b91b3level0_row14\" class=\"row_heading level0 row14\" >euPriorityBalanceW13__Control immigration</th>\n",
       "                        <td id=\"T_ce01326e_8fb1_11ea_b7dd_20cf301b91b3row14_col0\" class=\"data row14 col0\" >-0.560000</td>\n",
       "                        <td id=\"T_ce01326e_8fb1_11ea_b7dd_20cf301b91b3row14_col1\" class=\"data row14 col1\" >0.00</td>\n",
       "                        <td id=\"T_ce01326e_8fb1_11ea_b7dd_20cf301b91b3row14_col2\" class=\"data row14 col2\" >4588</td>\n",
       "            </tr>\n",
       "            <tr>\n",
       "                        <th id=\"T_ce01326e_8fb1_11ea_b7dd_20cf301b91b3level0_row15\" class=\"row_heading level0 row15\" >euParlOverRideW8__Strongly agree</th>\n",
       "                        <td id=\"T_ce01326e_8fb1_11ea_b7dd_20cf301b91b3row15_col0\" class=\"data row15 col0\" >-0.540000</td>\n",
       "                        <td id=\"T_ce01326e_8fb1_11ea_b7dd_20cf301b91b3row15_col1\" class=\"data row15 col1\" >0.00</td>\n",
       "                        <td id=\"T_ce01326e_8fb1_11ea_b7dd_20cf301b91b3row15_col2\" class=\"data row15 col2\" >7737</td>\n",
       "            </tr>\n",
       "            <tr>\n",
       "                        <th id=\"T_ce01326e_8fb1_11ea_b7dd_20cf301b91b3level0_row16\" class=\"row_heading level0 row16\" >effectsEUEconW8__Much better</th>\n",
       "                        <td id=\"T_ce01326e_8fb1_11ea_b7dd_20cf301b91b3row16_col0\" class=\"data row16 col0\" >-0.520000</td>\n",
       "                        <td id=\"T_ce01326e_8fb1_11ea_b7dd_20cf301b91b3row16_col1\" class=\"data row16 col1\" >0.00</td>\n",
       "                        <td id=\"T_ce01326e_8fb1_11ea_b7dd_20cf301b91b3row16_col2\" class=\"data row16 col2\" >7440</td>\n",
       "            </tr>\n",
       "            <tr>\n",
       "                        <th id=\"T_ce01326e_8fb1_11ea_b7dd_20cf301b91b3level0_row17\" class=\"row_heading level0 row17\" >effectsEUNHSW8__Much better</th>\n",
       "                        <td id=\"T_ce01326e_8fb1_11ea_b7dd_20cf301b91b3row17_col0\" class=\"data row17 col0\" >-0.510000</td>\n",
       "                        <td id=\"T_ce01326e_8fb1_11ea_b7dd_20cf301b91b3row17_col1\" class=\"data row17 col1\" >0.00</td>\n",
       "                        <td id=\"T_ce01326e_8fb1_11ea_b7dd_20cf301b91b3row17_col2\" class=\"data row17 col2\" >7488</td>\n",
       "            </tr>\n",
       "            <tr>\n",
       "                        <th id=\"T_ce01326e_8fb1_11ea_b7dd_20cf301b91b3level0_row18\" class=\"row_heading level0 row18\" >pastvote_eup_2019W18_Brexit Party</th>\n",
       "                        <td id=\"T_ce01326e_8fb1_11ea_b7dd_20cf301b91b3row18_col0\" class=\"data row18 col0\" >-0.510000</td>\n",
       "                        <td id=\"T_ce01326e_8fb1_11ea_b7dd_20cf301b91b3row18_col1\" class=\"data row18 col1\" >0.00</td>\n",
       "                        <td id=\"T_ce01326e_8fb1_11ea_b7dd_20cf301b91b3row18_col2\" class=\"data row18 col2\" >2887</td>\n",
       "            </tr>\n",
       "            <tr>\n",
       "                        <th id=\"T_ce01326e_8fb1_11ea_b7dd_20cf301b91b3level0_row19\" class=\"row_heading level0 row19\" >euRedTapeW8__Strongly agree</th>\n",
       "                        <td id=\"T_ce01326e_8fb1_11ea_b7dd_20cf301b91b3row19_col0\" class=\"data row19 col0\" >-0.500000</td>\n",
       "                        <td id=\"T_ce01326e_8fb1_11ea_b7dd_20cf301b91b3row19_col1\" class=\"data row19 col1\" >0.00</td>\n",
       "                        <td id=\"T_ce01326e_8fb1_11ea_b7dd_20cf301b91b3row19_col2\" class=\"data row19 col2\" >7376</td>\n",
       "            </tr>\n",
       "    </tbody></table>"
      ]
     },
     "metadata": {},
     "output_type": "display_data"
    },
    {
     "name": "stdout",
     "output_type": "stream",
     "text": [
      "Wall time: 3min 9s\n"
     ]
    }
   ],
   "source": [
    "%%time\n",
    "# BES_reduced_with_na[\"trust_per_resp\"] = trust_per_resp\n",
    "pattern = \"controlImmigW8__Complete control\"\n",
    "name = \"controlImmigW8__Complete control\"\n",
    "corr_type = \"spearman\"\n",
    "corr_df,corr_type = make_corr_summary(BES_reduced_with_na, name, corr_type, pattern=pattern,min_sample_size=500)\n",
    "display_corr(corr_df, name, corr_type, text_wrap_length=50)"
   ]
  },
  {
   "cell_type": "code",
   "execution_count": 34,
   "metadata": {},
   "outputs": [],
   "source": [
    "controlImmig_corrs = corr_df.copy()"
   ]
  },
  {
   "cell_type": "code",
   "execution_count": 35,
   "metadata": {},
   "outputs": [
    {
     "data": {
      "text/html": [
       "<style  type=\"text/css\" >\n",
       "</style><table id=\"T_3b5b4d48_8fb4_11ea_bf85_20cf301b91b3\" style='display:inline'><caption>Top 20 positive (spearman) correlations for immigSelfW8__Allow many more</caption><thead>    <tr>        <th class=\"blank level0\" ></th>        <th class=\"col_heading level0 col0\" >r</th>        <th class=\"col_heading level0 col1\" >p</th>        <th class=\"col_heading level0 col2\" >N</th>    </tr></thead><tbody>\n",
       "                <tr>\n",
       "                        <th id=\"T_3b5b4d48_8fb4_11ea_bf85_20cf301b91b3level0_row0\" class=\"row_heading level0 row0\" >immigSelfW7__Allow many more</th>\n",
       "                        <td id=\"T_3b5b4d48_8fb4_11ea_bf85_20cf301b91b3row0_col0\" class=\"data row0 col0\" >0.820000</td>\n",
       "                        <td id=\"T_3b5b4d48_8fb4_11ea_bf85_20cf301b91b3row0_col1\" class=\"data row0 col1\" >0.00</td>\n",
       "                        <td id=\"T_3b5b4d48_8fb4_11ea_bf85_20cf301b91b3row0_col2\" class=\"data row0 col2\" >20527</td>\n",
       "            </tr>\n",
       "            <tr>\n",
       "                        <th id=\"T_3b5b4d48_8fb4_11ea_bf85_20cf301b91b3level0_row1\" class=\"row_heading level0 row1\" >asylumMoreW8__Many more</th>\n",
       "                        <td id=\"T_3b5b4d48_8fb4_11ea_bf85_20cf301b91b3row1_col0\" class=\"data row1 col0\" >0.780000</td>\n",
       "                        <td id=\"T_3b5b4d48_8fb4_11ea_bf85_20cf301b91b3row1_col1\" class=\"data row1 col1\" >0.00</td>\n",
       "                        <td id=\"T_3b5b4d48_8fb4_11ea_bf85_20cf301b91b3row1_col2\" class=\"data row1 col2\" >29436</td>\n",
       "            </tr>\n",
       "            <tr>\n",
       "                        <th id=\"T_3b5b4d48_8fb4_11ea_bf85_20cf301b91b3level0_row2\" class=\"row_heading level0 row2\" >immigEconW8__Good for economy</th>\n",
       "                        <td id=\"T_3b5b4d48_8fb4_11ea_bf85_20cf301b91b3row2_col0\" class=\"data row2 col0\" >0.750000</td>\n",
       "                        <td id=\"T_3b5b4d48_8fb4_11ea_bf85_20cf301b91b3row2_col1\" class=\"data row2 col1\" >0.00</td>\n",
       "                        <td id=\"T_3b5b4d48_8fb4_11ea_bf85_20cf301b91b3row2_col2\" class=\"data row2 col2\" >29449</td>\n",
       "            </tr>\n",
       "            <tr>\n",
       "                        <th id=\"T_3b5b4d48_8fb4_11ea_bf85_20cf301b91b3level0_row3\" class=\"row_heading level0 row3\" >immigCulturalW8__Enriches cultural life</th>\n",
       "                        <td id=\"T_3b5b4d48_8fb4_11ea_bf85_20cf301b91b3row3_col0\" class=\"data row3 col0\" >0.750000</td>\n",
       "                        <td id=\"T_3b5b4d48_8fb4_11ea_bf85_20cf301b91b3row3_col1\" class=\"data row3 col1\" >0.00</td>\n",
       "                        <td id=\"T_3b5b4d48_8fb4_11ea_bf85_20cf301b91b3row3_col2\" class=\"data row3 col2\" >29690</td>\n",
       "            </tr>\n",
       "            <tr>\n",
       "                        <th id=\"T_3b5b4d48_8fb4_11ea_bf85_20cf301b91b3level0_row4\" class=\"row_heading level0 row4\" >benInteg3W11__I fully support it.</th>\n",
       "                        <td id=\"T_3b5b4d48_8fb4_11ea_bf85_20cf301b91b3row4_col0\" class=\"data row4 col0\" >0.750000</td>\n",
       "                        <td id=\"T_3b5b4d48_8fb4_11ea_bf85_20cf301b91b3row4_col1\" class=\"data row4 col1\" >0.00</td>\n",
       "                        <td id=\"T_3b5b4d48_8fb4_11ea_bf85_20cf301b91b3row4_col2\" class=\"data row4 col2\" >943</td>\n",
       "            </tr>\n",
       "            <tr>\n",
       "                        <th id=\"T_3b5b4d48_8fb4_11ea_bf85_20cf301b91b3level0_row5\" class=\"row_heading level0 row5\" >euMoreW8__Many more</th>\n",
       "                        <td id=\"T_3b5b4d48_8fb4_11ea_bf85_20cf301b91b3row5_col0\" class=\"data row5 col0\" >0.720000</td>\n",
       "                        <td id=\"T_3b5b4d48_8fb4_11ea_bf85_20cf301b91b3row5_col1\" class=\"data row5 col1\" >0.00</td>\n",
       "                        <td id=\"T_3b5b4d48_8fb4_11ea_bf85_20cf301b91b3row5_col2\" class=\"data row5 col2\" >29581</td>\n",
       "            </tr>\n",
       "            <tr>\n",
       "                        <th id=\"T_3b5b4d48_8fb4_11ea_bf85_20cf301b91b3level0_row6\" class=\"row_heading level0 row6\" >familiesMoreW8__Many more</th>\n",
       "                        <td id=\"T_3b5b4d48_8fb4_11ea_bf85_20cf301b91b3row6_col0\" class=\"data row6 col0\" >0.710000</td>\n",
       "                        <td id=\"T_3b5b4d48_8fb4_11ea_bf85_20cf301b91b3row6_col1\" class=\"data row6 col1\" >0.00</td>\n",
       "                        <td id=\"T_3b5b4d48_8fb4_11ea_bf85_20cf301b91b3row6_col2\" class=\"data row6 col2\" >29297</td>\n",
       "            </tr>\n",
       "            <tr>\n",
       "                        <th id=\"T_3b5b4d48_8fb4_11ea_bf85_20cf301b91b3level0_row7\" class=\"row_heading level0 row7\" >benInteg5W11__I fully support it.</th>\n",
       "                        <td id=\"T_3b5b4d48_8fb4_11ea_bf85_20cf301b91b3row7_col0\" class=\"data row7 col0\" >0.690000</td>\n",
       "                        <td id=\"T_3b5b4d48_8fb4_11ea_bf85_20cf301b91b3row7_col1\" class=\"data row7 col1\" >0.00</td>\n",
       "                        <td id=\"T_3b5b4d48_8fb4_11ea_bf85_20cf301b91b3row7_col2\" class=\"data row7 col2\" >894</td>\n",
       "            </tr>\n",
       "            <tr>\n",
       "                        <th id=\"T_3b5b4d48_8fb4_11ea_bf85_20cf301b91b3level0_row8\" class=\"row_heading level0 row8\" >benInteg1W11__I fully support it.</th>\n",
       "                        <td id=\"T_3b5b4d48_8fb4_11ea_bf85_20cf301b91b3row8_col0\" class=\"data row8 col0\" >0.680000</td>\n",
       "                        <td id=\"T_3b5b4d48_8fb4_11ea_bf85_20cf301b91b3row8_col1\" class=\"data row8 col1\" >0.00</td>\n",
       "                        <td id=\"T_3b5b4d48_8fb4_11ea_bf85_20cf301b91b3row8_col2\" class=\"data row8 col2\" >948</td>\n",
       "            </tr>\n",
       "            <tr>\n",
       "                        <th id=\"T_3b5b4d48_8fb4_11ea_bf85_20cf301b91b3level0_row9\" class=\"row_heading level0 row9\" >immigrationLevelW4__Increased a lot</th>\n",
       "                        <td id=\"T_3b5b4d48_8fb4_11ea_bf85_20cf301b91b3row9_col0\" class=\"data row9 col0\" >0.670000</td>\n",
       "                        <td id=\"T_3b5b4d48_8fb4_11ea_bf85_20cf301b91b3row9_col1\" class=\"data row9 col1\" >0.00</td>\n",
       "                        <td id=\"T_3b5b4d48_8fb4_11ea_bf85_20cf301b91b3row9_col2\" class=\"data row9 col2\" >17210</td>\n",
       "            </tr>\n",
       "            <tr>\n",
       "                        <th id=\"T_3b5b4d48_8fb4_11ea_bf85_20cf301b91b3level0_row10\" class=\"row_heading level0 row10\" >benInteg2W11__I fully support it.</th>\n",
       "                        <td id=\"T_3b5b4d48_8fb4_11ea_bf85_20cf301b91b3row10_col0\" class=\"data row10 col0\" >0.650000</td>\n",
       "                        <td id=\"T_3b5b4d48_8fb4_11ea_bf85_20cf301b91b3row10_col1\" class=\"data row10 col1\" >0.00</td>\n",
       "                        <td id=\"T_3b5b4d48_8fb4_11ea_bf85_20cf301b91b3row10_col2\" class=\"data row10 col2\" >983</td>\n",
       "            </tr>\n",
       "            <tr>\n",
       "                        <th id=\"T_3b5b4d48_8fb4_11ea_bf85_20cf301b91b3level0_row11\" class=\"row_heading level0 row11\" >immigExpDVW7__Strongly agree</th>\n",
       "                        <td id=\"T_3b5b4d48_8fb4_11ea_bf85_20cf301b91b3row11_col0\" class=\"data row11 col0\" >0.640000</td>\n",
       "                        <td id=\"T_3b5b4d48_8fb4_11ea_bf85_20cf301b91b3row11_col1\" class=\"data row11 col1\" >0.00</td>\n",
       "                        <td id=\"T_3b5b4d48_8fb4_11ea_bf85_20cf301b91b3row11_col2\" class=\"data row11 col2\" >3526</td>\n",
       "            </tr>\n",
       "            <tr>\n",
       "                        <th id=\"T_3b5b4d48_8fb4_11ea_bf85_20cf301b91b3level0_row12\" class=\"row_heading level0 row12\" >warmSyriansW11__Very warm</th>\n",
       "                        <td id=\"T_3b5b4d48_8fb4_11ea_bf85_20cf301b91b3row12_col0\" class=\"data row12 col0\" >0.640000</td>\n",
       "                        <td id=\"T_3b5b4d48_8fb4_11ea_bf85_20cf301b91b3row12_col1\" class=\"data row12 col1\" >0.00</td>\n",
       "                        <td id=\"T_3b5b4d48_8fb4_11ea_bf85_20cf301b91b3row12_col2\" class=\"data row12 col2\" >4216</td>\n",
       "            </tr>\n",
       "            <tr>\n",
       "                        <th id=\"T_3b5b4d48_8fb4_11ea_bf85_20cf301b91b3level0_row13\" class=\"row_heading level0 row13\" >euScepticismW7__Work towards single European[...]</th>\n",
       "                        <td id=\"T_3b5b4d48_8fb4_11ea_bf85_20cf301b91b3row13_col0\" class=\"data row13 col0\" >0.620000</td>\n",
       "                        <td id=\"T_3b5b4d48_8fb4_11ea_bf85_20cf301b91b3row13_col1\" class=\"data row13 col1\" >0.00</td>\n",
       "                        <td id=\"T_3b5b4d48_8fb4_11ea_bf85_20cf301b91b3row13_col2\" class=\"data row13 col2\" >5135</td>\n",
       "            </tr>\n",
       "            <tr>\n",
       "                        <th id=\"T_3b5b4d48_8fb4_11ea_bf85_20cf301b91b3level0_row14\" class=\"row_heading level0 row14\" >noneuMoreW7__Many more</th>\n",
       "                        <td id=\"T_3b5b4d48_8fb4_11ea_bf85_20cf301b91b3row14_col0\" class=\"data row14 col0\" >0.620000</td>\n",
       "                        <td id=\"T_3b5b4d48_8fb4_11ea_bf85_20cf301b91b3row14_col1\" class=\"data row14 col1\" >0.00</td>\n",
       "                        <td id=\"T_3b5b4d48_8fb4_11ea_bf85_20cf301b91b3row14_col2\" class=\"data row14 col2\" >21067</td>\n",
       "            </tr>\n",
       "            <tr>\n",
       "                        <th id=\"T_3b5b4d48_8fb4_11ea_bf85_20cf301b91b3level0_row15\" class=\"row_heading level0 row15\" >euFinancialHelpW7__Strongly agree</th>\n",
       "                        <td id=\"T_3b5b4d48_8fb4_11ea_bf85_20cf301b91b3row15_col0\" class=\"data row15 col0\" >0.620000</td>\n",
       "                        <td id=\"T_3b5b4d48_8fb4_11ea_bf85_20cf301b91b3row15_col1\" class=\"data row15 col1\" >0.00</td>\n",
       "                        <td id=\"T_3b5b4d48_8fb4_11ea_bf85_20cf301b91b3row15_col2\" class=\"data row15 col2\" >20790</td>\n",
       "            </tr>\n",
       "            <tr>\n",
       "                        <th id=\"T_3b5b4d48_8fb4_11ea_bf85_20cf301b91b3level0_row16\" class=\"row_heading level0 row16\" >eesEUIntegrationSelfW3__Unification should be[...]</th>\n",
       "                        <td id=\"T_3b5b4d48_8fb4_11ea_bf85_20cf301b91b3row16_col0\" class=\"data row16 col0\" >0.610000</td>\n",
       "                        <td id=\"T_3b5b4d48_8fb4_11ea_bf85_20cf301b91b3row16_col1\" class=\"data row16 col1\" >0.00</td>\n",
       "                        <td id=\"T_3b5b4d48_8fb4_11ea_bf85_20cf301b91b3row16_col2\" class=\"data row16 col2\" >6868</td>\n",
       "            </tr>\n",
       "            <tr>\n",
       "                        <th id=\"T_3b5b4d48_8fb4_11ea_bf85_20cf301b91b3level0_row17\" class=\"row_heading level0 row17\" >controlImmigW8__Complete control</th>\n",
       "                        <td id=\"T_3b5b4d48_8fb4_11ea_bf85_20cf301b91b3row17_col0\" class=\"data row17 col0\" >0.610000</td>\n",
       "                        <td id=\"T_3b5b4d48_8fb4_11ea_bf85_20cf301b91b3row17_col1\" class=\"data row17 col1\" >0.00</td>\n",
       "                        <td id=\"T_3b5b4d48_8fb4_11ea_bf85_20cf301b91b3row17_col2\" class=\"data row17 col2\" >7460</td>\n",
       "            </tr>\n",
       "            <tr>\n",
       "                        <th id=\"T_3b5b4d48_8fb4_11ea_bf85_20cf301b91b3level0_row18\" class=\"row_heading level0 row18\" >warmEasternW11__Very warm</th>\n",
       "                        <td id=\"T_3b5b4d48_8fb4_11ea_bf85_20cf301b91b3row18_col0\" class=\"data row18 col0\" >0.600000</td>\n",
       "                        <td id=\"T_3b5b4d48_8fb4_11ea_bf85_20cf301b91b3row18_col1\" class=\"data row18 col1\" >0.00</td>\n",
       "                        <td id=\"T_3b5b4d48_8fb4_11ea_bf85_20cf301b91b3row18_col2\" class=\"data row18 col2\" >4299</td>\n",
       "            </tr>\n",
       "            <tr>\n",
       "                        <th id=\"T_3b5b4d48_8fb4_11ea_bf85_20cf301b91b3level0_row19\" class=\"row_heading level0 row19\" >euLawsLevelW8__Strongly agree</th>\n",
       "                        <td id=\"T_3b5b4d48_8fb4_11ea_bf85_20cf301b91b3row19_col0\" class=\"data row19 col0\" >0.600000</td>\n",
       "                        <td id=\"T_3b5b4d48_8fb4_11ea_bf85_20cf301b91b3row19_col1\" class=\"data row19 col1\" >0.00</td>\n",
       "                        <td id=\"T_3b5b4d48_8fb4_11ea_bf85_20cf301b91b3row19_col2\" class=\"data row19 col2\" >29151</td>\n",
       "            </tr>\n",
       "    </tbody></table><style  type=\"text/css\" >\n",
       "</style><table id=\"T_3b5c109c_8fb4_11ea_83e8_20cf301b91b3\" style='display:inline'><caption>Top 20 negative (spearman) correlations for immigSelfW8__Allow many more</caption><thead>    <tr>        <th class=\"blank level0\" ></th>        <th class=\"col_heading level0 col0\" >r</th>        <th class=\"col_heading level0 col1\" >p</th>        <th class=\"col_heading level0 col2\" >N</th>    </tr></thead><tbody>\n",
       "                <tr>\n",
       "                        <th id=\"T_3b5c109c_8fb4_11ea_83e8_20cf301b91b3level0_row0\" class=\"row_heading level0 row0\" >immigrantsWelfareStateW8__Strongly agree</th>\n",
       "                        <td id=\"T_3b5c109c_8fb4_11ea_83e8_20cf301b91b3row0_col0\" class=\"data row0 col0\" >-0.730000</td>\n",
       "                        <td id=\"T_3b5c109c_8fb4_11ea_83e8_20cf301b91b3row0_col1\" class=\"data row0 col1\" >0.00</td>\n",
       "                        <td id=\"T_3b5c109c_8fb4_11ea_83e8_20cf301b91b3row0_col2\" class=\"data row0 col2\" >29545</td>\n",
       "            </tr>\n",
       "            <tr>\n",
       "                        <th id=\"T_3b5c109c_8fb4_11ea_83e8_20cf301b91b3level0_row1\" class=\"row_heading level0 row1\" >euPriorityBalanceW12__Control immigration</th>\n",
       "                        <td id=\"T_3b5c109c_8fb4_11ea_83e8_20cf301b91b3row1_col0\" class=\"data row1 col0\" >-0.680000</td>\n",
       "                        <td id=\"T_3b5c109c_8fb4_11ea_83e8_20cf301b91b3row1_col1\" class=\"data row1 col1\" >0.00</td>\n",
       "                        <td id=\"T_3b5c109c_8fb4_11ea_83e8_20cf301b91b3row1_col2\" class=\"data row1 col2\" >19256</td>\n",
       "            </tr>\n",
       "            <tr>\n",
       "                        <th id=\"T_3b5c109c_8fb4_11ea_83e8_20cf301b91b3level0_row2\" class=\"row_heading level0 row2\" >ukCoopMovementW8__Bad for Britain</th>\n",
       "                        <td id=\"T_3b5c109c_8fb4_11ea_83e8_20cf301b91b3row2_col0\" class=\"data row2 col0\" >-0.670000</td>\n",
       "                        <td id=\"T_3b5c109c_8fb4_11ea_83e8_20cf301b91b3row2_col1\" class=\"data row2 col1\" >0.00</td>\n",
       "                        <td id=\"T_3b5c109c_8fb4_11ea_83e8_20cf301b91b3row2_col2\" class=\"data row2 col2\" >29071</td>\n",
       "            </tr>\n",
       "            <tr>\n",
       "                        <th id=\"T_3b5c109c_8fb4_11ea_83e8_20cf301b91b3level0_row3\" class=\"row_heading level0 row3\" >overseasAidW11__Strongly agree</th>\n",
       "                        <td id=\"T_3b5c109c_8fb4_11ea_83e8_20cf301b91b3row3_col0\" class=\"data row3 col0\" >-0.650000</td>\n",
       "                        <td id=\"T_3b5c109c_8fb4_11ea_83e8_20cf301b91b3row3_col1\" class=\"data row3 col1\" >0.00</td>\n",
       "                        <td id=\"T_3b5c109c_8fb4_11ea_83e8_20cf301b91b3row3_col2\" class=\"data row3 col2\" >18601</td>\n",
       "            </tr>\n",
       "            <tr>\n",
       "                        <th id=\"T_3b5c109c_8fb4_11ea_83e8_20cf301b91b3level0_row4\" class=\"row_heading level0 row4\" >immigManipCheck2W2__7.0</th>\n",
       "                        <td id=\"T_3b5c109c_8fb4_11ea_83e8_20cf301b91b3row4_col0\" class=\"data row4 col0\" >-0.650000</td>\n",
       "                        <td id=\"T_3b5c109c_8fb4_11ea_83e8_20cf301b91b3row4_col1\" class=\"data row4 col1\" >0.00</td>\n",
       "                        <td id=\"T_3b5c109c_8fb4_11ea_83e8_20cf301b91b3row4_col2\" class=\"data row4 col2\" >9371</td>\n",
       "            </tr>\n",
       "            <tr>\n",
       "                        <th id=\"T_3b5c109c_8fb4_11ea_83e8_20cf301b91b3level0_row5\" class=\"row_heading level0 row5\" >EUIntegrationSelfW8__Protect our independence</th>\n",
       "                        <td id=\"T_3b5c109c_8fb4_11ea_83e8_20cf301b91b3row5_col0\" class=\"data row5 col0\" >-0.650000</td>\n",
       "                        <td id=\"T_3b5c109c_8fb4_11ea_83e8_20cf301b91b3row5_col1\" class=\"data row5 col1\" >0.00</td>\n",
       "                        <td id=\"T_3b5c109c_8fb4_11ea_83e8_20cf301b91b3row5_col2\" class=\"data row5 col2\" >29309</td>\n",
       "            </tr>\n",
       "            <tr>\n",
       "                        <th id=\"T_3b5c109c_8fb4_11ea_83e8_20cf301b91b3level0_row6\" class=\"row_heading level0 row6\" >euUndermineIdentityW8__Strongly agree</th>\n",
       "                        <td id=\"T_3b5c109c_8fb4_11ea_83e8_20cf301b91b3row6_col0\" class=\"data row6 col0\" >-0.640000</td>\n",
       "                        <td id=\"T_3b5c109c_8fb4_11ea_83e8_20cf301b91b3row6_col1\" class=\"data row6 col1\" >0.00</td>\n",
       "                        <td id=\"T_3b5c109c_8fb4_11ea_83e8_20cf301b91b3row6_col2\" class=\"data row6 col2\" >29410</td>\n",
       "            </tr>\n",
       "            <tr>\n",
       "                        <th id=\"T_3b5c109c_8fb4_11ea_83e8_20cf301b91b3level0_row7\" class=\"row_heading level0 row7\" >changeImmigW7__Getting a lot higher</th>\n",
       "                        <td id=\"T_3b5c109c_8fb4_11ea_83e8_20cf301b91b3row7_col0\" class=\"data row7 col0\" >-0.640000</td>\n",
       "                        <td id=\"T_3b5c109c_8fb4_11ea_83e8_20cf301b91b3row7_col1\" class=\"data row7 col1\" >0.00</td>\n",
       "                        <td id=\"T_3b5c109c_8fb4_11ea_83e8_20cf301b91b3row7_col2\" class=\"data row7 col2\" >21298</td>\n",
       "            </tr>\n",
       "            <tr>\n",
       "                        <th id=\"T_3b5c109c_8fb4_11ea_83e8_20cf301b91b3level0_row8\" class=\"row_heading level0 row8\" >immigManipCheck2W7__onc</th>\n",
       "                        <td id=\"T_3b5c109c_8fb4_11ea_83e8_20cf301b91b3row8_col0\" class=\"data row8 col0\" >-0.640000</td>\n",
       "                        <td id=\"T_3b5c109c_8fb4_11ea_83e8_20cf301b91b3row8_col1\" class=\"data row8 col1\" >0.00</td>\n",
       "                        <td id=\"T_3b5c109c_8fb4_11ea_83e8_20cf301b91b3row8_col2\" class=\"data row8 col2\" >3575</td>\n",
       "            </tr>\n",
       "            <tr>\n",
       "                        <th id=\"T_3b5c109c_8fb4_11ea_83e8_20cf301b91b3level0_row9\" class=\"row_heading level0 row9\" >euRefVoteUnsqueezeW8_Leave the EU</th>\n",
       "                        <td id=\"T_3b5c109c_8fb4_11ea_83e8_20cf301b91b3row9_col0\" class=\"data row9 col0\" >-0.630000</td>\n",
       "                        <td id=\"T_3b5c109c_8fb4_11ea_83e8_20cf301b91b3row9_col1\" class=\"data row9 col1\" >0.00</td>\n",
       "                        <td id=\"T_3b5c109c_8fb4_11ea_83e8_20cf301b91b3row9_col2\" class=\"data row9 col2\" >23385</td>\n",
       "            </tr>\n",
       "            <tr>\n",
       "                        <th id=\"T_3b5c109c_8fb4_11ea_83e8_20cf301b91b3level0_row10\" class=\"row_heading level0 row10\" >euExpRefW7_To leave the European Union</th>\n",
       "                        <td id=\"T_3b5c109c_8fb4_11ea_83e8_20cf301b91b3row10_col0\" class=\"data row10 col0\" >-0.630000</td>\n",
       "                        <td id=\"T_3b5c109c_8fb4_11ea_83e8_20cf301b91b3row10_col1\" class=\"data row10 col1\" >0.00</td>\n",
       "                        <td id=\"T_3b5c109c_8fb4_11ea_83e8_20cf301b91b3row10_col2\" class=\"data row10 col2\" >4741</td>\n",
       "            </tr>\n",
       "            <tr>\n",
       "                        <th id=\"T_3b5c109c_8fb4_11ea_83e8_20cf301b91b3level0_row11\" class=\"row_heading level0 row11\" >dealPriorityImmigW17__Extremely important</th>\n",
       "                        <td id=\"T_3b5c109c_8fb4_11ea_83e8_20cf301b91b3row11_col0\" class=\"data row11 col0\" >-0.630000</td>\n",
       "                        <td id=\"T_3b5c109c_8fb4_11ea_83e8_20cf301b91b3row11_col1\" class=\"data row11 col1\" >0.00</td>\n",
       "                        <td id=\"T_3b5c109c_8fb4_11ea_83e8_20cf301b91b3row11_col2\" class=\"data row11 col2\" >2930</td>\n",
       "            </tr>\n",
       "            <tr>\n",
       "                        <th id=\"T_3b5c109c_8fb4_11ea_83e8_20cf301b91b3level0_row12\" class=\"row_heading level0 row12\" >happyEULeaveW11__Extremely happy</th>\n",
       "                        <td id=\"T_3b5c109c_8fb4_11ea_83e8_20cf301b91b3row12_col0\" class=\"data row12 col0\" >-0.630000</td>\n",
       "                        <td id=\"T_3b5c109c_8fb4_11ea_83e8_20cf301b91b3row12_col1\" class=\"data row12 col1\" >0.00</td>\n",
       "                        <td id=\"T_3b5c109c_8fb4_11ea_83e8_20cf301b91b3row12_col2\" class=\"data row12 col2\" >18723</td>\n",
       "            </tr>\n",
       "            <tr>\n",
       "                        <th id=\"T_3b5c109c_8fb4_11ea_83e8_20cf301b91b3level0_row13\" class=\"row_heading level0 row13\" >euParlOverRideW8__Strongly agree</th>\n",
       "                        <td id=\"T_3b5c109c_8fb4_11ea_83e8_20cf301b91b3row13_col0\" class=\"data row13 col0\" >-0.620000</td>\n",
       "                        <td id=\"T_3b5c109c_8fb4_11ea_83e8_20cf301b91b3row13_col1\" class=\"data row13 col1\" >0.00</td>\n",
       "                        <td id=\"T_3b5c109c_8fb4_11ea_83e8_20cf301b91b3row13_col2\" class=\"data row13 col2\" >29277</td>\n",
       "            </tr>\n",
       "            <tr>\n",
       "                        <th id=\"T_3b5c109c_8fb4_11ea_83e8_20cf301b91b3level0_row14\" class=\"row_heading level0 row14\" >euIDW9_The leave side</th>\n",
       "                        <td id=\"T_3b5c109c_8fb4_11ea_83e8_20cf301b91b3row14_col0\" class=\"data row14 col0\" >-0.620000</td>\n",
       "                        <td id=\"T_3b5c109c_8fb4_11ea_83e8_20cf301b91b3row14_col1\" class=\"data row14 col1\" >0.00</td>\n",
       "                        <td id=\"T_3b5c109c_8fb4_11ea_83e8_20cf301b91b3row14_col2\" class=\"data row14 col2\" >23540</td>\n",
       "            </tr>\n",
       "            <tr>\n",
       "                        <th id=\"T_3b5c109c_8fb4_11ea_83e8_20cf301b91b3level0_row15\" class=\"row_heading level0 row15\" >immigContributeTakeW7__Get more than they pay</th>\n",
       "                        <td id=\"T_3b5c109c_8fb4_11ea_83e8_20cf301b91b3row15_col0\" class=\"data row15 col0\" >-0.620000</td>\n",
       "                        <td id=\"T_3b5c109c_8fb4_11ea_83e8_20cf301b91b3row15_col1\" class=\"data row15 col1\" >0.00</td>\n",
       "                        <td id=\"T_3b5c109c_8fb4_11ea_83e8_20cf301b91b3row15_col2\" class=\"data row15 col2\" >18615</td>\n",
       "            </tr>\n",
       "            <tr>\n",
       "                        <th id=\"T_3b5c109c_8fb4_11ea_83e8_20cf301b91b3level0_row16\" class=\"row_heading level0 row16\" >euRefVote2W8_Leave the EU</th>\n",
       "                        <td id=\"T_3b5c109c_8fb4_11ea_83e8_20cf301b91b3row16_col0\" class=\"data row16 col0\" >-0.620000</td>\n",
       "                        <td id=\"T_3b5c109c_8fb4_11ea_83e8_20cf301b91b3row16_col1\" class=\"data row16 col1\" >0.00</td>\n",
       "                        <td id=\"T_3b5c109c_8fb4_11ea_83e8_20cf301b91b3row16_col2\" class=\"data row16 col2\" >24672</td>\n",
       "            </tr>\n",
       "            <tr>\n",
       "                        <th id=\"T_3b5c109c_8fb4_11ea_83e8_20cf301b91b3level0_row17\" class=\"row_heading level0 row17\" >partyPreferredW13_United Kingdom Independence[...]</th>\n",
       "                        <td id=\"T_3b5c109c_8fb4_11ea_83e8_20cf301b91b3row17_col0\" class=\"data row17 col0\" >-0.620000</td>\n",
       "                        <td id=\"T_3b5c109c_8fb4_11ea_83e8_20cf301b91b3row17_col1\" class=\"data row17 col1\" >0.00</td>\n",
       "                        <td id=\"T_3b5c109c_8fb4_11ea_83e8_20cf301b91b3row17_col2\" class=\"data row17 col2\" >1421</td>\n",
       "            </tr>\n",
       "            <tr>\n",
       "                        <th id=\"T_3b5c109c_8fb4_11ea_83e8_20cf301b91b3level0_row18\" class=\"row_heading level0 row18\" >al_scaleW7W8W9__Authoritarian</th>\n",
       "                        <td id=\"T_3b5c109c_8fb4_11ea_83e8_20cf301b91b3row18_col0\" class=\"data row18 col0\" >-0.610000</td>\n",
       "                        <td id=\"T_3b5c109c_8fb4_11ea_83e8_20cf301b91b3row18_col1\" class=\"data row18 col1\" >0.00</td>\n",
       "                        <td id=\"T_3b5c109c_8fb4_11ea_83e8_20cf301b91b3row18_col2\" class=\"data row18 col2\" >28010</td>\n",
       "            </tr>\n",
       "            <tr>\n",
       "                        <th id=\"T_3b5c109c_8fb4_11ea_83e8_20cf301b91b3level0_row19\" class=\"row_heading level0 row19\" >euRefpastVoteW11_Leave the EU</th>\n",
       "                        <td id=\"T_3b5c109c_8fb4_11ea_83e8_20cf301b91b3row19_col0\" class=\"data row19 col0\" >-0.610000</td>\n",
       "                        <td id=\"T_3b5c109c_8fb4_11ea_83e8_20cf301b91b3row19_col1\" class=\"data row19 col1\" >0.00</td>\n",
       "                        <td id=\"T_3b5c109c_8fb4_11ea_83e8_20cf301b91b3row19_col2\" class=\"data row19 col2\" >17814</td>\n",
       "            </tr>\n",
       "    </tbody></table>"
      ]
     },
     "metadata": {},
     "output_type": "display_data"
    },
    {
     "name": "stdout",
     "output_type": "stream",
     "text": [
      "Wall time: 8min 46s\n"
     ]
    }
   ],
   "source": [
    "%%time\n",
    "# BES_reduced_with_na[\"trust_per_resp\"] = trust_per_resp\n",
    "pattern = \"immigSelfW8__Allow many more\"\n",
    "name = \"immigSelfW8__Allow many more\"\n",
    "corr_type = \"spearman\"\n",
    "corr_df,corr_type = make_corr_summary(BES_reduced_with_na, name, corr_type, pattern=pattern,min_sample_size=500)\n",
    "display_corr(corr_df, name, corr_type, text_wrap_length=50)"
   ]
  },
  {
   "cell_type": "code",
   "execution_count": 48,
   "metadata": {},
   "outputs": [],
   "source": [
    "immigSelf_corrs = corr_df.copy()"
   ]
  },
  {
   "cell_type": "code",
   "execution_count": 49,
   "metadata": {},
   "outputs": [
    {
     "data": {
      "text/plain": [
       "(2617, 4)"
      ]
     },
     "execution_count": 49,
     "metadata": {},
     "output_type": "execute_result"
    }
   ],
   "source": [
    "immigSelf_corrs.shape"
   ]
  },
  {
   "cell_type": "code",
   "execution_count": null,
   "metadata": {},
   "outputs": [],
   "source": [
    "controlImmig_corrs"
   ]
  },
  {
   "cell_type": "code",
   "execution_count": null,
   "metadata": {},
   "outputs": [],
   "source": []
  },
  {
   "cell_type": "code",
   "execution_count": null,
   "metadata": {},
   "outputs": [],
   "source": []
  }
 ],
 "metadata": {
  "kernelspec": {
   "display_name": "Python [conda env:BES_analysis] *",
   "language": "python",
   "name": "conda-env-BES_analysis-py"
  },
  "language_info": {
   "codemirror_mode": {
    "name": "ipython",
    "version": 3
   },
   "file_extension": ".py",
   "mimetype": "text/x-python",
   "name": "python",
   "nbconvert_exporter": "python",
   "pygments_lexer": "ipython3",
   "version": "3.7.6"
  }
 },
 "nbformat": 4,
 "nbformat_minor": 4
}
