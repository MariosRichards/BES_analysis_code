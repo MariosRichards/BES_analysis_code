{
 "cells": [
  {
   "cell_type": "code",
   "execution_count": null,
   "metadata": {},
   "outputs": [],
   "source": [
    "# motivated by \n",
    "# https://twitter.com/MariosRichards/status/1258726923318018048"
   ]
  },
  {
   "cell_type": "code",
   "execution_count": 1,
   "metadata": {},
   "outputs": [],
   "source": [
    "dataset_name = \"W19_comb\"\n",
    "df_list = [ \"BES_Panel\" ]"
   ]
  },
  {
   "cell_type": "code",
   "execution_count": 2,
   "metadata": {},
   "outputs": [
    {
     "data": {
      "text/html": [
       "<script>jQuery(function() {if (jQuery(\"body.notebook_app\").length == 0) { jQuery(\".input_area\").toggle(); jQuery(\".prompt\").toggle();}});</script>"
      ]
     },
     "metadata": {},
     "output_type": "display_data"
    },
    {
     "data": {
      "text/html": [
       "<button onclick=\"jQuery('.input_area').toggle(); jQuery('.prompt').toggle();\">Toggle code</button>"
      ]
     },
     "metadata": {},
     "output_type": "display_data"
    },
    {
     "name": "stdout",
     "output_type": "stream",
     "text": [
      "var_type (7911, 14)\n"
     ]
    }
   ],
   "source": [
    "import warnings\n",
    "warnings.filterwarnings('ignore')\n",
    "\n",
    "from IPython.display import display\n",
    "from IPython.display import HTML\n",
    "import IPython.core.display as di # Example: di.display_html('<h3>%s:</h3>' % str, raw=True)\n",
    "\n",
    "# This line will hide code by default when the notebook is exported as HTML\n",
    "di.display_html('<script>jQuery(function() {if (jQuery(\"body.notebook_app\").length == 0) { jQuery(\".input_area\").toggle(); jQuery(\".prompt\").toggle();}});</script>', raw=True)\n",
    "\n",
    "# This line will add a button to toggle visibility of code blocks, for use with the HTML export version\n",
    "di.display_html('''<button onclick=\"jQuery('.input_area').toggle(); jQuery('.prompt').toggle();\">Toggle code</button>''', raw=True)\n",
    "\n",
    "%matplotlib inline\n",
    "\n",
    "import numpy as np, pandas as pd, matplotlib.pyplot as plt, seaborn as sns\n",
    "import pickle, os, gc, re\n",
    "\n",
    "sns.set();\n",
    "sns.set_palette(\"colorblind\")\n",
    "\n",
    "from IPython.display import display, display_html, HTML\n",
    "from IPython.core.debugger import set_trace\n",
    "# plt.rcParams[\"axes.grid\"] = False\n",
    "\n",
    "import Jupyter_module_loader\n",
    "from utility import *\n",
    "import gaussian_kde\n",
    "\n",
    "import warnings\n",
    "warnings.filterwarnings('ignore')\n",
    "\n",
    "import holoviews as hv\n",
    "from holoviews import opts\n",
    "\n",
    "encoding = \"ISO-8859-1\"\n",
    "\n",
    "# you should clone this git to a subdirectory called 'BES_analysis_code' (in some directory - I call it BES_analysis - doesn't matter though)\n",
    "# %matplotlib inline\n",
    "(BES_code_folder, BES_small_data_files, BES_data_folder,\n",
    " BES_output_folder, BES_file_manifest, BES_R_data_files) = setup_directories()\n",
    "\n",
    "global BES_Panel, BES_numeric, BES_reduced, BES_reduced_with_na, BES_non_numeric\n",
    "data_subfolder = BES_data_folder + dataset_name + os.sep\n",
    "\n",
    "(manifest, dataset_filename, dataset_description, dataset_citation,\n",
    " dataset_start, dataset_stop, dataset_wave) = get_manifest(dataset_name, BES_file_manifest)\n",
    "\n",
    "for df in df_list:\n",
    "    if df==\"BES_Panel\":\n",
    "        globals()[df]  = pd.read_pickle(data_subfolder + dataset_filename.replace('.dta','.zip'),compression='zip')\n",
    "    else:\n",
    "        globals()[df]  = pd.read_pickle(data_subfolder + df + '.zip',compression='zip' )\n",
    "        globals()[df].replace(-1,np.nan,inplace=True)\n",
    "  \n",
    "(var_type, cat_dictionary, new_old_col_names, old_new_col_names) = get_small_files(data_subfolder, encoding)\n",
    "\n",
    "# get full set of inferred \"cross wave\" auth-lib/left-right values and ages\n",
    "# pan_dataset_allr_values = pd.read_csv(BES_small_data_files + \"pan_dataset_allr_values\"+\".csv\")\n",
    "# pan_dataset_ages = pd.read_pickle(BES_small_data_files + \"pan_dataset_ages\"+\".zip\", compression='zip')"
   ]
  },
  {
   "cell_type": "code",
   "execution_count": 3,
   "metadata": {},
   "outputs": [],
   "source": [
    "BESW19 = BES_Panel.copy()"
   ]
  },
  {
   "cell_type": "code",
   "execution_count": 6,
   "metadata": {},
   "outputs": [],
   "source": [
    "BESW16 = BES_Panel.copy()"
   ]
  },
  {
   "cell_type": "code",
   "execution_count": 7,
   "metadata": {},
   "outputs": [
    {
     "data": {
      "text/plain": [
       "profile_past_vote_2010    63248\n",
       "dtype: int64"
      ]
     },
     "execution_count": 7,
     "metadata": {},
     "output_type": "execute_result"
    }
   ],
   "source": [
    "search(BESW16,\"profile_past_vote_2010\")"
   ]
  },
  {
   "cell_type": "code",
   "execution_count": 8,
   "metadata": {},
   "outputs": [
    {
     "data": {
      "text/plain": [
       "profile_past_vote_2010    65581\n",
       "dtype: int64"
      ]
     },
     "execution_count": 8,
     "metadata": {},
     "output_type": "execute_result"
    }
   ],
   "source": [
    "search(BESW19,\"profile_past_vote_2010\")"
   ]
  },
  {
   "cell_type": "code",
   "execution_count": 9,
   "metadata": {},
   "outputs": [
    {
     "name": "stdout",
     "output_type": "stream",
     "text": [
      "                        BESW19: 799.9MiB\n",
      "                     BES_Panel: 695.0MiB\n",
      "                        BESW16: 695.0MiB\n",
      "                      var_type:   5.2MiB\n",
      "                cat_dictionary: 288.1KiB\n",
      "             new_old_col_names: 288.1KiB\n",
      "             old_new_col_names: 144.1KiB\n",
      "             BES_file_manifest:  58.5KiB\n",
      "                           _i2:   2.5KiB\n",
      "                           _i5:   2.5KiB\n"
     ]
    }
   ],
   "source": [
    "memory_use(locs = locals().items())"
   ]
  },
  {
   "cell_type": "code",
   "execution_count": 10,
   "metadata": {},
   "outputs": [
    {
     "data": {
      "text/plain": [
       "((97158, 7911), (92587, 6516))"
      ]
     },
     "execution_count": 10,
     "metadata": {},
     "output_type": "execute_result"
    }
   ],
   "source": [
    "BESW19.shape,BESW16.shape"
   ]
  },
  {
   "cell_type": "code",
   "execution_count": 13,
   "metadata": {},
   "outputs": [],
   "source": [
    "BESW16 = BESW16.set_index(\"id\").sort_index()\n",
    "BESW19 = BESW19.set_index(\"id\").sort_index()"
   ]
  },
  {
   "cell_type": "code",
   "execution_count": 15,
   "metadata": {},
   "outputs": [
    {
     "data": {
      "text/plain": [
       "Conservative                                18121\n",
       "Labour                                      14335\n",
       "Liberal Democrat                            12307\n",
       "I would not vote                             9655\n",
       "Scottish National Party (SNP)                2290\n",
       "Don't know                                   2018\n",
       "United Kingdom Independence Party (UKIP)     1873\n",
       "Green Party                                   993\n",
       "Other                                         562\n",
       "Plaid Cymru                                   550\n",
       "British National Party (BNP)                  544\n",
       "Name: profile_past_vote_2010, dtype: int64"
      ]
     },
     "execution_count": 15,
     "metadata": {},
     "output_type": "execute_result"
    }
   ],
   "source": [
    "BESW16[\"profile_past_vote_2010\"].value_counts()"
   ]
  },
  {
   "cell_type": "code",
   "execution_count": 16,
   "metadata": {},
   "outputs": [
    {
     "data": {
      "text/plain": [
       "Conservative                                17934\n",
       "Labour                                      16643\n",
       "Liberal Democrat                            12853\n",
       "Scottish National Party (SNP)                6158\n",
       "I would not vote                             5001\n",
       "United Kingdom Independence Party (UKIP)     1220\n",
       "Brexit Party                                 1126\n",
       "Don't know                                    952\n",
       "British National Party (BNP)                  868\n",
       "Plaid Cymru                                   829\n",
       "10.0                                          741\n",
       "Green Party                                   686\n",
       "Other                                         371\n",
       "Change UK- The Independent Group              199\n",
       "Name: profile_past_vote_2010, dtype: int64"
      ]
     },
     "execution_count": 16,
     "metadata": {},
     "output_type": "execute_result"
    }
   ],
   "source": [
    "BESW19[\"profile_past_vote_2010\"].value_counts()"
   ]
  },
  {
   "cell_type": "code",
   "execution_count": null,
   "metadata": {},
   "outputs": [],
   "source": []
  },
  {
   "cell_type": "code",
   "execution_count": 263,
   "metadata": {},
   "outputs": [],
   "source": [
    "(BES_code_folder, BES_small_data_files, BES_data_folder,\n",
    " BES_output_folder, BES_file_manifest, BES_R_data_files) = setup_directories()\n",
    "\n",
    "global BES_Panel, BES_numeric, BES_reduced, BES_reduced_with_na, BES_non_numeric\n",
    "\n",
    "var_dict = {}\n",
    "\n",
    "for dataset_name in BES_file_manifest[BES_file_manifest[\"Base_or_Strings\"]==\"Base\"][\"Name\"]:\n",
    "    \n",
    "    data_subfolder = BES_data_folder + dataset_name + os.sep\n",
    "\n",
    "    (manifest, dataset_filename, dataset_description, dataset_citation,\n",
    "     dataset_start, dataset_stop, dataset_wave) = get_manifest(dataset_name, BES_file_manifest)    \n",
    "    try:\n",
    "        df = pd.read_pickle(data_subfolder + dataset_filename.replace('.dta','.zip'),compression='zip')\n",
    "        var_dict[dataset_name] = df.columns\n",
    "    except:\n",
    "        try:\n",
    "            df = pd.read_stata(data_subfolder + dataset_filename).set_index(\"id\").sort_index()\n",
    "            var_dict[dataset_name] = df.columns\n",
    "            df.to_pickle(data_subfolder + dataset_filename.replace('.dta','.zip'),compression='zip')\n",
    "        except:\n",
    "            var_dict[dataset_name] = \"dta not present either\"\n"
   ]
  },
  {
   "cell_type": "code",
   "execution_count": 264,
   "metadata": {},
   "outputs": [
    {
     "data": {
      "text/html": [
       "[]"
      ],
      "text/plain": [
       "[]"
      ]
     },
     "execution_count": 264,
     "metadata": {},
     "output_type": "execute_result"
    }
   ],
   "source": [
    "[x for x in var_dict.keys() if isinstance(var_dict[x],str)]"
   ]
  },
  {
   "cell_type": "code",
   "execution_count": 265,
   "metadata": {},
   "outputs": [],
   "source": [
    "# ['W13_only', 'W11_only', 'W10_only', 'W9_only', 'W7_only']\n",
    "# need updating!\n",
    "# Also updated: W15_only, W14_only,W12_only, ... all the way down, but 'only' files ... only\n",
    "\n",
    "\n",
    "\n",
    "# bug W5_only appears twice"
   ]
  },
  {
   "cell_type": "code",
   "execution_count": 266,
   "metadata": {},
   "outputs": [
    {
     "data": {
      "text/html": [
       "['W19_only', 'W19_comb', 'W18_only', 'W17_only', 'W16_only', 'W16_comb', 'W15_only', 'W15_comb', 'W14_comb', 'W13_comb', 'W11_only', 'W10_comb', 'W10_only', 'W9_comb', 'W9_only', 'W8_only', 'W8_comb', 'W7_only', 'W7_comb', 'W6_only', 'W6_comb', 'W5_comb', 'W5_only', 'W4_only', 'W4_comb', 'W3_only', 'W3_comb', 'W2_only', 'W1_only']"
      ],
      "text/plain": [
       "['W19_only',\n",
       " 'W19_comb',\n",
       " 'W18_only',\n",
       " 'W17_only',\n",
       " 'W16_only',\n",
       " 'W16_comb',\n",
       " 'W15_only',\n",
       " 'W15_comb',\n",
       " 'W14_comb',\n",
       " 'W13_comb',\n",
       " 'W11_only',\n",
       " 'W10_comb',\n",
       " 'W10_only',\n",
       " 'W9_comb',\n",
       " 'W9_only',\n",
       " 'W8_only',\n",
       " 'W8_comb',\n",
       " 'W7_only',\n",
       " 'W7_comb',\n",
       " 'W6_only',\n",
       " 'W6_comb',\n",
       " 'W5_comb',\n",
       " 'W5_only',\n",
       " 'W4_only',\n",
       " 'W4_comb',\n",
       " 'W3_only',\n",
       " 'W3_comb',\n",
       " 'W2_only',\n",
       " 'W1_only']"
      ]
     },
     "execution_count": 266,
     "metadata": {},
     "output_type": "execute_result"
    }
   ],
   "source": [
    "[x for x in var_dict.keys() if not isinstance(var_dict[x],str) and \"profile_past_vote_2010\" in var_dict[x]]"
   ]
  },
  {
   "cell_type": "code",
   "execution_count": 267,
   "metadata": {},
   "outputs": [
    {
     "data": {
      "text/html": [
       "['W19_only', 'W19_comb', 'W18_only', 'W17_only', 'W16_only', 'W16_comb', 'W15_only', 'W15_comb', 'W14_comb', 'W13_comb', 'W12_only', 'W11_only', 'W10_comb', 'W10_only', 'W9_comb', 'W9_only', 'W8_only', 'W8_comb', 'W7_only', 'W7_comb', 'W6_only', 'W6_comb', 'W5_comb', 'W5_only', 'W4_only', 'W4_comb', 'W3_only', 'W3_comb', 'W2_only', 'W1_only']"
      ],
      "text/plain": [
       "['W19_only',\n",
       " 'W19_comb',\n",
       " 'W18_only',\n",
       " 'W17_only',\n",
       " 'W16_only',\n",
       " 'W16_comb',\n",
       " 'W15_only',\n",
       " 'W15_comb',\n",
       " 'W14_comb',\n",
       " 'W13_comb',\n",
       " 'W12_only',\n",
       " 'W11_only',\n",
       " 'W10_comb',\n",
       " 'W10_only',\n",
       " 'W9_comb',\n",
       " 'W9_only',\n",
       " 'W8_only',\n",
       " 'W8_comb',\n",
       " 'W7_only',\n",
       " 'W7_comb',\n",
       " 'W6_only',\n",
       " 'W6_comb',\n",
       " 'W5_comb',\n",
       " 'W5_only',\n",
       " 'W4_only',\n",
       " 'W4_comb',\n",
       " 'W3_only',\n",
       " 'W3_comb',\n",
       " 'W2_only',\n",
       " 'W1_only']"
      ]
     },
     "execution_count": 267,
     "metadata": {},
     "output_type": "execute_result"
    }
   ],
   "source": [
    "[x for x in var_dict.keys() if not isinstance(var_dict[x],str) and \"profile_past_vote_2005\" in var_dict[x]]\n",
    "\n",
    "# W12_only!"
   ]
  },
  {
   "cell_type": "code",
   "execution_count": 268,
   "metadata": {},
   "outputs": [
    {
     "data": {
      "text/html": [
       "['profile_newspaper2', 'profile_gross_household', 'profile_socgrade', 'profile_work_stat', 'profile_house_tenure', 'profile_religion', 'profile_education_age', 'profile_lea', 'profile_oslaua', 'profile_gross_personal', 'profile_household_children', 'profile_past_vote_2005', 'profile_past_vote_2017', 'profile_turnout_2017', 'profile_past_vote_2015', 'profile_turnout_2015', 'profile_eurefvote', 'profile_eurefturnout', 'profile_scotref_turnout', 'profile_scotref_vote']"
      ],
      "text/plain": [
       "['profile_newspaper2',\n",
       " 'profile_gross_household',\n",
       " 'profile_socgrade',\n",
       " 'profile_work_stat',\n",
       " 'profile_house_tenure',\n",
       " 'profile_religion',\n",
       " 'profile_education_age',\n",
       " 'profile_lea',\n",
       " 'profile_oslaua',\n",
       " 'profile_gross_personal',\n",
       " 'profile_household_children',\n",
       " 'profile_past_vote_2005',\n",
       " 'profile_past_vote_2017',\n",
       " 'profile_turnout_2017',\n",
       " 'profile_past_vote_2015',\n",
       " 'profile_turnout_2015',\n",
       " 'profile_eurefvote',\n",
       " 'profile_eurefturnout',\n",
       " 'profile_scotref_turnout',\n",
       " 'profile_scotref_vote']"
      ]
     },
     "execution_count": 268,
     "metadata": {},
     "output_type": "execute_result"
    }
   ],
   "source": [
    "[x for x in var_dict[\"W12_only\"] if \"profile\" in x]\n",
    "# W12_only really missing profile_past_vote_2010!"
   ]
  },
  {
   "cell_type": "code",
   "execution_count": 269,
   "metadata": {},
   "outputs": [
    {
     "data": {
      "text/html": [
       "['W19_comb', 'W19_only', 'W18_only', 'W17_only', 'W16_only', 'W16_comb', 'W15_only', 'W15_comb', 'W14_comb', 'W13_comb', 'W11_only', 'W10_comb', 'W10_only', 'W9_comb', 'W9_only', 'W8_only', 'W8_comb', 'W7_only', 'W7_comb', 'W6_only', 'W6_comb', 'W5_comb', 'W5_only', 'W4_only', 'W4_comb', 'W3_only', 'W3_comb', 'W2_only', 'W1_only']"
      ],
      "text/plain": [
       "['W19_comb',\n",
       " 'W19_only',\n",
       " 'W18_only',\n",
       " 'W17_only',\n",
       " 'W16_only',\n",
       " 'W16_comb',\n",
       " 'W15_only',\n",
       " 'W15_comb',\n",
       " 'W14_comb',\n",
       " 'W13_comb',\n",
       " 'W11_only',\n",
       " 'W10_comb',\n",
       " 'W10_only',\n",
       " 'W9_comb',\n",
       " 'W9_only',\n",
       " 'W8_only',\n",
       " 'W8_comb',\n",
       " 'W7_only',\n",
       " 'W7_comb',\n",
       " 'W6_only',\n",
       " 'W6_comb',\n",
       " 'W5_comb',\n",
       " 'W5_only',\n",
       " 'W4_only',\n",
       " 'W4_comb',\n",
       " 'W3_only',\n",
       " 'W3_comb',\n",
       " 'W2_only',\n",
       " 'W1_only']"
      ]
     },
     "execution_count": 269,
     "metadata": {},
     "output_type": "execute_result"
    }
   ],
   "source": [
    "present_in_datasets = [x for x in var_dict.keys() if not isinstance(var_dict[x],str) and \"profile_past_vote_2010\" in var_dict[x]]\n",
    "present_in_datasets.remove(\"W19_comb\")\n",
    "present_in_datasets.insert(0,\"W19_comb\")\n",
    "present_in_datasets\n",
    "# need W19_comb first to set all indices!\n",
    "\n",
    "# Assumes no indices are lost ..."
   ]
  },
  {
   "cell_type": "code",
   "execution_count": 270,
   "metadata": {},
   "outputs": [
    {
     "data": {
      "text/html": [
       "['W19_comb', 'W19_only', 'W18_only', 'W17_only', 'W16_only', 'W15_only', 'W11_only', 'W10_only', 'W9_only', 'W8_only', 'W7_only', 'W6_only', 'W5_only', 'W4_only', 'W3_only', 'W2_only', 'W1_only']"
      ],
      "text/plain": [
       "['W19_comb',\n",
       " 'W19_only',\n",
       " 'W18_only',\n",
       " 'W17_only',\n",
       " 'W16_only',\n",
       " 'W15_only',\n",
       " 'W11_only',\n",
       " 'W10_only',\n",
       " 'W9_only',\n",
       " 'W8_only',\n",
       " 'W7_only',\n",
       " 'W6_only',\n",
       " 'W5_only',\n",
       " 'W4_only',\n",
       " 'W3_only',\n",
       " 'W2_only',\n",
       " 'W1_only']"
      ]
     },
     "execution_count": 270,
     "metadata": {},
     "output_type": "execute_result"
    }
   ],
   "source": [
    "present_in_datasets = [x for x in present_in_datasets if \"only\" in x]\n",
    "present_in_datasets.insert(0,\"W19_comb\")\n",
    "present_in_datasets"
   ]
  },
  {
   "cell_type": "code",
   "execution_count": 271,
   "metadata": {},
   "outputs": [],
   "source": [
    "# df = pd.DataFrame()\n",
    "# temp = BESW16[[\"profile_past_vote_2005\",\"profile_past_vote_2005\"]]\n",
    "# temp.columns = [\"W16_\"+x for x in temp.columns]\n",
    "# df = pd.concat([df,temp],axis=1)\n",
    "# temp = BESW19[[\"profile_past_vote_2005\",\"profile_past_vote_2005\"]]\n",
    "# temp.columns = [\"W19_\"+x for x in temp.columns]\n",
    "# df = pd.concat([df,temp],axis=1)\n",
    "\n",
    "# df"
   ]
  },
  {
   "cell_type": "code",
   "execution_count": 272,
   "metadata": {},
   "outputs": [
    {
     "name": "stdout",
     "output_type": "stream",
     "text": [
      "Wall time: 34.1 s\n"
     ]
    }
   ],
   "source": [
    "%%time\n",
    "(BES_code_folder, BES_small_data_files, BES_data_folder,\n",
    " BES_output_folder, BES_file_manifest, BES_R_data_files) = setup_directories()\n",
    "\n",
    "global BES_Panel, BES_numeric, BES_reduced, BES_reduced_with_na, BES_non_numeric\n",
    "\n",
    "df = pd.DataFrame()\n",
    "var_list = [\"profile_past_vote_2005\",\"profile_past_vote_2010\"]\n",
    "\n",
    "for dataset_name in present_in_datasets:\n",
    "    \n",
    "    data_subfolder = BES_data_folder + dataset_name + os.sep\n",
    "\n",
    "    (manifest, dataset_filename, dataset_description, dataset_citation,\n",
    "     dataset_start, dataset_stop, dataset_wave) = get_manifest(dataset_name, BES_file_manifest)    \n",
    "    BES_Panel = pd.read_pickle(data_subfolder + dataset_filename.replace('.dta','.zip'),compression='zip')\n",
    "    if \"id\" in BES_Panel.columns:\n",
    "        temp = BES_Panel[var_list+[\"id\"]].set_index(\"id\").sort_index()\n",
    "    else:\n",
    "        temp = BES_Panel[var_list]\n",
    "    temp.columns = [dataset_name+\"_\"+x for x in temp.columns]\n",
    "    df = pd.concat([df,temp],axis=1)\n",
    "    \n",
    "df.index = df.index.astype('int')\n",
    "# note - no extra rows over W19    "
   ]
  },
  {
   "cell_type": "code",
   "execution_count": 273,
   "metadata": {},
   "outputs": [],
   "source": [
    "# vote2005_categories = list( df[[x for x in df.columns if \"profile_past_vote_2005\"]].stack().value_counts().index )"
   ]
  },
  {
   "cell_type": "code",
   "execution_count": 274,
   "metadata": {},
   "outputs": [],
   "source": [
    "# vote2010_categories = list( df[[x for x in df.columns if \"profile_past_vote_2010\"]].stack().value_counts().index )"
   ]
  },
  {
   "cell_type": "code",
   "execution_count": 275,
   "metadata": {},
   "outputs": [
    {
     "data": {
      "text/html": [
       "['Conservative', 'Labour', 'Liberal Democrat', 'Did not vote', 'Scottish National Party', \"Don't know\", 'An independent candidate', 'United Kingdom Independence Party (UKIP)', 'Green Party', 'Plaid Cymru', 'British National Party (BNP)', 'Other', 10.0, 'Brexit Party', 'Change UK- The Independent Group']"
      ],
      "text/plain": [
       "['Conservative',\n",
       " 'Labour',\n",
       " 'Liberal Democrat',\n",
       " 'Did not vote',\n",
       " 'Scottish National Party',\n",
       " \"Don't know\",\n",
       " 'An independent candidate',\n",
       " 'United Kingdom Independence Party (UKIP)',\n",
       " 'Green Party',\n",
       " 'Plaid Cymru',\n",
       " 'British National Party (BNP)',\n",
       " 'Other',\n",
       " 10.0,\n",
       " 'Brexit Party',\n",
       " 'Change UK- The Independent Group']"
      ]
     },
     "execution_count": 275,
     "metadata": {},
     "output_type": "execute_result"
    }
   ],
   "source": [
    "replace_dict = {'I would not vote':'Did not vote',\n",
    "                'Conservative Party':'Conservative',\n",
    "                'Labour Party':'Labour',\n",
    "                'Liberal Democrats':'Liberal Democrat',\n",
    "                'Scottish National Party (SNP)':'Scottish National Party',\n",
    "                'Some other party':'Other',\n",
    "               }\n",
    "ppv2005 = [x for x in df.columns if \"profile_past_vote_2005\" in x]\n",
    "df.loc[:,ppv2005] = df.loc[:,ppv2005].replace(replace_dict)\n",
    "vote2005_categories = list( df[ppv2005].stack().value_counts().index )\n",
    "vote2005_categories"
   ]
  },
  {
   "cell_type": "code",
   "execution_count": 276,
   "metadata": {},
   "outputs": [
    {
     "data": {
      "text/html": [
       "['Conservative', 'Labour', 'Liberal Democrat', 'Did not vote', 'Scottish National Party', 'United Kingdom Independence Party (UKIP)', \"Don't know\", 'British National Party (BNP)', 'Plaid Cymru', 'Green Party', 'Brexit Party', 10.0, 'Other', 'Change UK- The Independent Group']"
      ],
      "text/plain": [
       "['Conservative',\n",
       " 'Labour',\n",
       " 'Liberal Democrat',\n",
       " 'Did not vote',\n",
       " 'Scottish National Party',\n",
       " 'United Kingdom Independence Party (UKIP)',\n",
       " \"Don't know\",\n",
       " 'British National Party (BNP)',\n",
       " 'Plaid Cymru',\n",
       " 'Green Party',\n",
       " 'Brexit Party',\n",
       " 10.0,\n",
       " 'Other',\n",
       " 'Change UK- The Independent Group']"
      ]
     },
     "execution_count": 276,
     "metadata": {},
     "output_type": "execute_result"
    }
   ],
   "source": [
    "replace_dict = {'I would not vote':'Did not vote',\n",
    "                'Conservative Party':'Conservative',\n",
    "                'Labour Party':'Labour',\n",
    "                'Liberal Democrats':'Liberal Democrat',\n",
    "                'Scottish National Party (SNP)':'Scottish National Party',\n",
    "                'Some other party':'Other',\n",
    "               }\n",
    "ppv2010 = [x for x in df.columns if \"profile_past_vote_2010\" in x]\n",
    "df.loc[:,ppv2010] = df.loc[:,ppv2010].replace(replace_dict)\n",
    "vote2010_categories = list( df[ppv2010].stack().value_counts().index )\n",
    "vote2010_categories"
   ]
  },
  {
   "cell_type": "code",
   "execution_count": null,
   "metadata": {},
   "outputs": [],
   "source": []
  },
  {
   "cell_type": "code",
   "execution_count": 277,
   "metadata": {},
   "outputs": [
    {
     "name": "stdout",
     "output_type": "stream",
     "text": [
      "Wall time: 44.9 s\n"
     ]
    },
    {
     "data": {
      "text/plain": [
       "1    50268\n",
       "0    40149\n",
       "2     6741\n",
       "dtype: int64"
      ]
     },
     "execution_count": 277,
     "metadata": {},
     "output_type": "execute_result"
    }
   ],
   "source": [
    "%%time\n",
    "number_of_unique_responses_per_row_2005 = df[ppv2005].apply(lambda x: len((x.dropna()).unique()),axis=1)\n",
    "number_of_unique_responses_per_row_2005.value_counts()"
   ]
  },
  {
   "cell_type": "code",
   "execution_count": 278,
   "metadata": {},
   "outputs": [
    {
     "name": "stdout",
     "output_type": "stream",
     "text": [
      "Wall time: 44.8 s\n"
     ]
    },
    {
     "data": {
      "text/plain": [
       "1    56419\n",
       "0    31577\n",
       "2     9162\n",
       "dtype: int64"
      ]
     },
     "execution_count": 278,
     "metadata": {},
     "output_type": "execute_result"
    }
   ],
   "source": [
    "%%time\n",
    "number_of_unique_responses_per_row_2010 = df[ppv2010].apply(lambda x: len((x.dropna()).unique()),axis=1)\n",
    "number_of_unique_responses_per_row_2010.value_counts()"
   ]
  },
  {
   "cell_type": "code",
   "execution_count": 329,
   "metadata": {},
   "outputs": [],
   "source": [
    "# df[ppv2005].loc[  number_of_unique_responses_per_row_2005>=3 ].dropna(how='all',axis=1)"
   ]
  },
  {
   "cell_type": "code",
   "execution_count": null,
   "metadata": {},
   "outputs": [],
   "source": []
  },
  {
   "cell_type": "code",
   "execution_count": 280,
   "metadata": {},
   "outputs": [],
   "source": [
    "discrepancy_pairs_2005 = df[ppv2005].loc[  number_of_unique_responses_per_row_2005==2 ].dropna(how='all',axis=1).apply(lambda x: \"|\".join([str(x) for x in x.dropna().unique()]),axis=1)"
   ]
  },
  {
   "cell_type": "code",
   "execution_count": 281,
   "metadata": {},
   "outputs": [],
   "source": [
    "discrepancy_pairs_2010 = df[ppv2010].loc[  number_of_unique_responses_per_row_2010==2 ].dropna(how='all',axis=1).apply(lambda x: \"|\".join([str(x) for x in x.dropna().unique()]),axis=1)"
   ]
  },
  {
   "cell_type": "code",
   "execution_count": 282,
   "metadata": {},
   "outputs": [
    {
     "data": {
      "text/plain": [
       "Labour|Conservative                                     2946\n",
       "Liberal Democrat|Labour                                 1680\n",
       "Conservative|Did not vote                               1652\n",
       "Scottish National Party|Liberal Democrat                1634\n",
       "Brexit Party|Don't know                                  454\n",
       "10.0|United Kingdom Independence Party (UKIP)            322\n",
       "British National Party (BNP)|Green Party                 185\n",
       "Plaid Cymru|Scottish National Party                      113\n",
       "Change UK- The Independent Group|Other                    82\n",
       "Green Party|British National Party (BNP)                  65\n",
       "United Kingdom Independence Party (UKIP)|Plaid Cymru      29\n",
       "dtype: int64"
      ]
     },
     "execution_count": 282,
     "metadata": {},
     "output_type": "execute_result"
    }
   ],
   "source": [
    "discrepancy_pairs_2010.value_counts()"
   ]
  },
  {
   "cell_type": "code",
   "execution_count": 283,
   "metadata": {},
   "outputs": [
    {
     "data": {
      "text/plain": [
       "Labour|Conservative                                     1896\n",
       "Liberal Democrat|Labour                                 1593\n",
       "Conservative|Did not vote                               1287\n",
       "Scottish National Party|Liberal Democrat                 904\n",
       "An independent candidate|Don't know                      662\n",
       "British National Party (BNP)|Green Party                 130\n",
       "10.0|United Kingdom Independence Party (UKIP)            118\n",
       "Plaid Cymru|Scottish National Party                       57\n",
       "Brexit Party|Other                                        47\n",
       "Green Party|British National Party (BNP)                  25\n",
       "United Kingdom Independence Party (UKIP)|Plaid Cymru      20\n",
       "Change UK- The Independent Group|Other                     2\n",
       "dtype: int64"
      ]
     },
     "execution_count": 283,
     "metadata": {},
     "output_type": "execute_result"
    }
   ],
   "source": [
    "discrepancy_pairs_2005.value_counts()"
   ]
  },
  {
   "cell_type": "code",
   "execution_count": 284,
   "metadata": {},
   "outputs": [],
   "source": [
    "df[\"discrepancy_pairs_2005\"] = discrepancy_pairs_2005\n",
    "df[\"discrepancy_pairs_2010\"] = discrepancy_pairs_2010"
   ]
  },
  {
   "cell_type": "code",
   "execution_count": 285,
   "metadata": {},
   "outputs": [],
   "source": [
    "# df[df[\"discrepancy_pairs_2005\"]==\"10.0|United Kingdom Independence Party (UKIP)\"][\"discr_2005_change_dataset\"].value_counts()"
   ]
  },
  {
   "cell_type": "code",
   "execution_count": null,
   "metadata": {},
   "outputs": [],
   "source": []
  },
  {
   "cell_type": "code",
   "execution_count": 286,
   "metadata": {},
   "outputs": [
    {
     "data": {
      "text/plain": [
       "discr_2005_change_dataset        discrepancy_pairs_2005                              \n",
       "W10_only_profile_past_vote_2005  Labour|Conservative                                     454\n",
       "                                 Conservative|Did not vote                               409\n",
       "                                 Liberal Democrat|Labour                                 398\n",
       "                                 Scottish National Party|Liberal Democrat                240\n",
       "                                 An independent candidate|Don't know                     210\n",
       "                                                                                        ... \n",
       "W8_only_profile_past_vote_2005   Plaid Cymru|Scottish National Party                      25\n",
       "                                 Green Party|British National Party (BNP)                 11\n",
       "                                 Brexit Party|Other                                        8\n",
       "                                 United Kingdom Independence Party (UKIP)|Plaid Cymru      8\n",
       "                                 Change UK- The Independent Group|Other                    1\n",
       "Name: discrepancy_pairs_2005, Length: 74, dtype: int64"
      ]
     },
     "execution_count": 286,
     "metadata": {},
     "output_type": "execute_result"
    }
   ],
   "source": [
    "df[\"discr_2005_change_dataset\"] = np.nan\n",
    "# discrep_pair = \"Other|Veritas\"\n",
    "for discrep_pair in discrepancy_pairs_2005.value_counts().index:\n",
    "    pair_first_part = discrep_pair.split(\"|\")[0]\n",
    "    if pair_first_part==\"10.0\":\n",
    "        pair_first_part=10.0\n",
    "    temp_ser = (df.loc[discrepancy_pairs_2005[discrepancy_pairs_2005==discrep_pair].index,ppv2005]==pair_first_part).replace(False,np.nan).cumsum(axis=1).replace(True,1.0).idxmax(axis=1)\n",
    "    df.loc[temp_ser.index,\"discr_2005_change_dataset\"] = temp_ser\n",
    "df.groupby(\"discr_2005_change_dataset\")[\"discrepancy_pairs_2005\"].value_counts()    "
   ]
  },
  {
   "cell_type": "code",
   "execution_count": null,
   "metadata": {},
   "outputs": [],
   "source": []
  },
  {
   "cell_type": "code",
   "execution_count": null,
   "metadata": {},
   "outputs": [],
   "source": []
  },
  {
   "cell_type": "code",
   "execution_count": 287,
   "metadata": {},
   "outputs": [
    {
     "data": {
      "text/plain": [
       "discr_2010_change_dataset        discrepancy_pairs_2010                              \n",
       "W10_only_profile_past_vote_2010  Labour|Conservative                                     674\n",
       "                                 Conservative|Did not vote                               479\n",
       "                                 Scottish National Party|Liberal Democrat                410\n",
       "                                 Liberal Democrat|Labour                                 377\n",
       "                                 Brexit Party|Don't know                                 123\n",
       "                                                                                        ... \n",
       "W8_only_profile_past_vote_2010   British National Party (BNP)|Green Party                 29\n",
       "                                 Plaid Cymru|Scottish National Party                      27\n",
       "                                 Green Party|British National Party (BNP)                 20\n",
       "                                 Change UK- The Independent Group|Other                   18\n",
       "                                 United Kingdom Independence Party (UKIP)|Plaid Cymru      8\n",
       "Name: discrepancy_pairs_2010, Length: 83, dtype: int64"
      ]
     },
     "execution_count": 287,
     "metadata": {},
     "output_type": "execute_result"
    }
   ],
   "source": [
    "df[\"discr_2010_change_dataset\"] = np.nan\n",
    "# discrep_pair = \"Other|Veritas\"\n",
    "for discrep_pair in discrepancy_pairs_2010.value_counts().index:\n",
    "    pair_first_part = discrep_pair.split(\"|\")[0]\n",
    "    if pair_first_part==\"10.0\":\n",
    "        pair_first_part=10.0    \n",
    "    temp_ser = (df.loc[discrepancy_pairs_2010[discrepancy_pairs_2010==discrep_pair].index,ppv2010]==pair_first_part).replace(False,np.nan).cumsum(axis=1).replace(True,1.0).idxmax(axis=1)\n",
    "  \n",
    "    df.loc[temp_ser.index,\"discr_2010_change_dataset\"] = temp_ser\n",
    "df.groupby(\"discr_2010_change_dataset\")[\"discrepancy_pairs_2010\"].value_counts()"
   ]
  },
  {
   "cell_type": "code",
   "execution_count": 288,
   "metadata": {},
   "outputs": [
    {
     "data": {
      "text/plain": [
       "W10_only_profile_past_vote_2010    2259\n",
       "W11_only_profile_past_vote_2010     891\n",
       "W15_only_profile_past_vote_2010    1633\n",
       "W17_only_profile_past_vote_2010     132\n",
       "W18_only_profile_past_vote_2010      62\n",
       "W19_comb_profile_past_vote_2010      81\n",
       "W19_only_profile_past_vote_2010       6\n",
       "W7_only_profile_past_vote_2010     2062\n",
       "W8_only_profile_past_vote_2010     2036\n",
       "Name: discr_2010_change_dataset, dtype: int64"
      ]
     },
     "execution_count": 288,
     "metadata": {},
     "output_type": "execute_result"
    }
   ],
   "source": [
    "df[\"discr_2010_change_dataset\"].value_counts().sort_index()"
   ]
  },
  {
   "cell_type": "code",
   "execution_count": 289,
   "metadata": {},
   "outputs": [
    {
     "data": {
      "text/plain": [
       "W10_only_profile_past_vote_2005    1830\n",
       "W11_only_profile_past_vote_2005     725\n",
       "W15_only_profile_past_vote_2005     339\n",
       "W17_only_profile_past_vote_2005      34\n",
       "W18_only_profile_past_vote_2005      12\n",
       "W19_comb_profile_past_vote_2005      24\n",
       "W4_only_profile_past_vote_2005        2\n",
       "W7_only_profile_past_vote_2005     1835\n",
       "W8_only_profile_past_vote_2005     1940\n",
       "Name: discr_2005_change_dataset, dtype: int64"
      ]
     },
     "execution_count": 289,
     "metadata": {},
     "output_type": "execute_result"
    }
   ],
   "source": [
    "df[\"discr_2005_change_dataset\"].value_counts().sort_index()"
   ]
  },
  {
   "cell_type": "code",
   "execution_count": 290,
   "metadata": {},
   "outputs": [
    {
     "data": {
      "text/plain": [
       "Labour|Conservative                                     1896\n",
       "Liberal Democrat|Labour                                 1593\n",
       "Conservative|Did not vote                               1287\n",
       "Scottish National Party|Liberal Democrat                 904\n",
       "An independent candidate|Don't know                      662\n",
       "British National Party (BNP)|Green Party                 130\n",
       "10.0|United Kingdom Independence Party (UKIP)            118\n",
       "Plaid Cymru|Scottish National Party                       57\n",
       "Brexit Party|Other                                        47\n",
       "Green Party|British National Party (BNP)                  25\n",
       "United Kingdom Independence Party (UKIP)|Plaid Cymru      20\n",
       "Change UK- The Independent Group|Other                     2\n",
       "Name: discrepancy_pairs_2005, dtype: int64"
      ]
     },
     "execution_count": 290,
     "metadata": {},
     "output_type": "execute_result"
    }
   ],
   "source": [
    "df[\"discrepancy_pairs_2005\"].value_counts()"
   ]
  },
  {
   "cell_type": "code",
   "execution_count": 291,
   "metadata": {},
   "outputs": [
    {
     "data": {
      "text/plain": [
       "Labour|Conservative                                     2946\n",
       "Liberal Democrat|Labour                                 1680\n",
       "Conservative|Did not vote                               1652\n",
       "Scottish National Party|Liberal Democrat                1634\n",
       "Brexit Party|Don't know                                  454\n",
       "10.0|United Kingdom Independence Party (UKIP)            322\n",
       "British National Party (BNP)|Green Party                 185\n",
       "Plaid Cymru|Scottish National Party                      113\n",
       "Change UK- The Independent Group|Other                    82\n",
       "Green Party|British National Party (BNP)                  65\n",
       "United Kingdom Independence Party (UKIP)|Plaid Cymru      29\n",
       "Name: discrepancy_pairs_2010, dtype: int64"
      ]
     },
     "execution_count": 291,
     "metadata": {},
     "output_type": "execute_result"
    }
   ],
   "source": [
    "df[\"discrepancy_pairs_2010\"].value_counts()"
   ]
  },
  {
   "cell_type": "code",
   "execution_count": null,
   "metadata": {},
   "outputs": [],
   "source": []
  },
  {
   "cell_type": "code",
   "execution_count": 292,
   "metadata": {},
   "outputs": [
    {
     "data": {
      "text/plain": [
       "Conservative                                8919\n",
       "Labour                                      7793\n",
       "Liberal Democrat                            4585\n",
       "Did not vote                                2657\n",
       "Scottish National Party                     1474\n",
       "Don't know                                   883\n",
       "An independent candidate                     430\n",
       "United Kingdom Independence Party (UKIP)     408\n",
       "Green Party                                  348\n",
       "Plaid Cymru                                  303\n",
       "Other                                        199\n",
       "British National Party (BNP)                 198\n",
       "10.0                                          83\n",
       "Brexit Party                                  32\n",
       "Change UK- The Independent Group               1\n",
       "Name: W7_only_profile_past_vote_2005, dtype: int64"
      ]
     },
     "execution_count": 292,
     "metadata": {},
     "output_type": "execute_result"
    }
   ],
   "source": [
    "df[\"W7_only_profile_past_vote_2005\"].value_counts()"
   ]
  },
  {
   "cell_type": "code",
   "execution_count": 308,
   "metadata": {},
   "outputs": [
    {
     "data": {
      "text/html": [
       "<div>\n",
       "<style scoped>\n",
       "    .dataframe tbody tr th:only-of-type {\n",
       "        vertical-align: middle;\n",
       "    }\n",
       "\n",
       "    .dataframe tbody tr th {\n",
       "        vertical-align: top;\n",
       "    }\n",
       "\n",
       "    .dataframe thead th {\n",
       "        text-align: right;\n",
       "    }\n",
       "</style>\n",
       "<table border=\"1\" class=\"dataframe\">\n",
       "  <thead>\n",
       "    <tr style=\"text-align: right;\">\n",
       "      <th></th>\n",
       "      <th>W19_comb_profile_past_vote_2005</th>\n",
       "      <th>W19_comb_profile_past_vote_2010</th>\n",
       "      <th>W19_only_profile_past_vote_2005</th>\n",
       "      <th>W19_only_profile_past_vote_2010</th>\n",
       "      <th>W18_only_profile_past_vote_2005</th>\n",
       "      <th>W18_only_profile_past_vote_2010</th>\n",
       "      <th>W17_only_profile_past_vote_2005</th>\n",
       "      <th>W17_only_profile_past_vote_2010</th>\n",
       "      <th>W16_only_profile_past_vote_2005</th>\n",
       "      <th>W16_only_profile_past_vote_2010</th>\n",
       "      <th>...</th>\n",
       "      <th>W3_only_profile_past_vote_2005</th>\n",
       "      <th>W3_only_profile_past_vote_2010</th>\n",
       "      <th>W2_only_profile_past_vote_2005</th>\n",
       "      <th>W2_only_profile_past_vote_2010</th>\n",
       "      <th>W1_only_profile_past_vote_2005</th>\n",
       "      <th>W1_only_profile_past_vote_2010</th>\n",
       "      <th>discrepancy_pairs_2005</th>\n",
       "      <th>discrepancy_pairs_2010</th>\n",
       "      <th>discr_2005_change_dataset</th>\n",
       "      <th>discr_2010_change_dataset</th>\n",
       "    </tr>\n",
       "  </thead>\n",
       "  <tbody>\n",
       "    <tr>\n",
       "      <th>1</th>\n",
       "      <td>Labour</td>\n",
       "      <td>United Kingdom Independence Party (UKIP)</td>\n",
       "      <td>NaN</td>\n",
       "      <td>NaN</td>\n",
       "      <td>NaN</td>\n",
       "      <td>NaN</td>\n",
       "      <td>NaN</td>\n",
       "      <td>NaN</td>\n",
       "      <td>NaN</td>\n",
       "      <td>NaN</td>\n",
       "      <td>...</td>\n",
       "      <td>NaN</td>\n",
       "      <td>NaN</td>\n",
       "      <td>Labour</td>\n",
       "      <td>United Kingdom Independence Party (UKIP)</td>\n",
       "      <td>Labour</td>\n",
       "      <td>United Kingdom Independence Party (UKIP)</td>\n",
       "      <td>NaN</td>\n",
       "      <td>NaN</td>\n",
       "      <td>NaN</td>\n",
       "      <td>NaN</td>\n",
       "    </tr>\n",
       "    <tr>\n",
       "      <th>2</th>\n",
       "      <td>Conservative</td>\n",
       "      <td>Conservative</td>\n",
       "      <td>Conservative</td>\n",
       "      <td>Conservative</td>\n",
       "      <td>Conservative</td>\n",
       "      <td>Conservative</td>\n",
       "      <td>Conservative</td>\n",
       "      <td>Conservative</td>\n",
       "      <td>NaN</td>\n",
       "      <td>NaN</td>\n",
       "      <td>...</td>\n",
       "      <td>Conservative</td>\n",
       "      <td>Conservative</td>\n",
       "      <td>NaN</td>\n",
       "      <td>NaN</td>\n",
       "      <td>Conservative</td>\n",
       "      <td>Conservative</td>\n",
       "      <td>NaN</td>\n",
       "      <td>NaN</td>\n",
       "      <td>NaN</td>\n",
       "      <td>NaN</td>\n",
       "    </tr>\n",
       "    <tr>\n",
       "      <th>3</th>\n",
       "      <td>Labour</td>\n",
       "      <td>Liberal Democrat</td>\n",
       "      <td>Labour</td>\n",
       "      <td>Liberal Democrat</td>\n",
       "      <td>NaN</td>\n",
       "      <td>NaN</td>\n",
       "      <td>NaN</td>\n",
       "      <td>NaN</td>\n",
       "      <td>Labour</td>\n",
       "      <td>Liberal Democrat</td>\n",
       "      <td>...</td>\n",
       "      <td>Labour</td>\n",
       "      <td>Liberal Democrat</td>\n",
       "      <td>Labour</td>\n",
       "      <td>Liberal Democrat</td>\n",
       "      <td>Labour</td>\n",
       "      <td>Liberal Democrat</td>\n",
       "      <td>NaN</td>\n",
       "      <td>NaN</td>\n",
       "      <td>NaN</td>\n",
       "      <td>NaN</td>\n",
       "    </tr>\n",
       "    <tr>\n",
       "      <th>4</th>\n",
       "      <td>Conservative</td>\n",
       "      <td>Conservative</td>\n",
       "      <td>NaN</td>\n",
       "      <td>NaN</td>\n",
       "      <td>NaN</td>\n",
       "      <td>NaN</td>\n",
       "      <td>NaN</td>\n",
       "      <td>NaN</td>\n",
       "      <td>NaN</td>\n",
       "      <td>NaN</td>\n",
       "      <td>...</td>\n",
       "      <td>NaN</td>\n",
       "      <td>NaN</td>\n",
       "      <td>Conservative</td>\n",
       "      <td>Conservative</td>\n",
       "      <td>Conservative</td>\n",
       "      <td>Conservative</td>\n",
       "      <td>NaN</td>\n",
       "      <td>NaN</td>\n",
       "      <td>NaN</td>\n",
       "      <td>NaN</td>\n",
       "    </tr>\n",
       "    <tr>\n",
       "      <th>5</th>\n",
       "      <td>Did not vote</td>\n",
       "      <td>Liberal Democrat</td>\n",
       "      <td>NaN</td>\n",
       "      <td>NaN</td>\n",
       "      <td>NaN</td>\n",
       "      <td>NaN</td>\n",
       "      <td>NaN</td>\n",
       "      <td>NaN</td>\n",
       "      <td>NaN</td>\n",
       "      <td>NaN</td>\n",
       "      <td>...</td>\n",
       "      <td>NaN</td>\n",
       "      <td>NaN</td>\n",
       "      <td>Did not vote</td>\n",
       "      <td>Liberal Democrat</td>\n",
       "      <td>Did not vote</td>\n",
       "      <td>Liberal Democrat</td>\n",
       "      <td>NaN</td>\n",
       "      <td>NaN</td>\n",
       "      <td>NaN</td>\n",
       "      <td>NaN</td>\n",
       "    </tr>\n",
       "    <tr>\n",
       "      <th>...</th>\n",
       "      <td>...</td>\n",
       "      <td>...</td>\n",
       "      <td>...</td>\n",
       "      <td>...</td>\n",
       "      <td>...</td>\n",
       "      <td>...</td>\n",
       "      <td>...</td>\n",
       "      <td>...</td>\n",
       "      <td>...</td>\n",
       "      <td>...</td>\n",
       "      <td>...</td>\n",
       "      <td>...</td>\n",
       "      <td>...</td>\n",
       "      <td>...</td>\n",
       "      <td>...</td>\n",
       "      <td>...</td>\n",
       "      <td>...</td>\n",
       "      <td>...</td>\n",
       "      <td>...</td>\n",
       "      <td>...</td>\n",
       "      <td>...</td>\n",
       "    </tr>\n",
       "    <tr>\n",
       "      <th>98447</th>\n",
       "      <td>NaN</td>\n",
       "      <td>NaN</td>\n",
       "      <td>NaN</td>\n",
       "      <td>NaN</td>\n",
       "      <td>NaN</td>\n",
       "      <td>NaN</td>\n",
       "      <td>NaN</td>\n",
       "      <td>NaN</td>\n",
       "      <td>NaN</td>\n",
       "      <td>NaN</td>\n",
       "      <td>...</td>\n",
       "      <td>NaN</td>\n",
       "      <td>NaN</td>\n",
       "      <td>NaN</td>\n",
       "      <td>NaN</td>\n",
       "      <td>NaN</td>\n",
       "      <td>NaN</td>\n",
       "      <td>NaN</td>\n",
       "      <td>NaN</td>\n",
       "      <td>NaN</td>\n",
       "      <td>NaN</td>\n",
       "    </tr>\n",
       "    <tr>\n",
       "      <th>98448</th>\n",
       "      <td>NaN</td>\n",
       "      <td>NaN</td>\n",
       "      <td>NaN</td>\n",
       "      <td>NaN</td>\n",
       "      <td>NaN</td>\n",
       "      <td>NaN</td>\n",
       "      <td>NaN</td>\n",
       "      <td>NaN</td>\n",
       "      <td>NaN</td>\n",
       "      <td>NaN</td>\n",
       "      <td>...</td>\n",
       "      <td>NaN</td>\n",
       "      <td>NaN</td>\n",
       "      <td>NaN</td>\n",
       "      <td>NaN</td>\n",
       "      <td>NaN</td>\n",
       "      <td>NaN</td>\n",
       "      <td>NaN</td>\n",
       "      <td>NaN</td>\n",
       "      <td>NaN</td>\n",
       "      <td>NaN</td>\n",
       "    </tr>\n",
       "    <tr>\n",
       "      <th>98449</th>\n",
       "      <td>NaN</td>\n",
       "      <td>NaN</td>\n",
       "      <td>NaN</td>\n",
       "      <td>NaN</td>\n",
       "      <td>NaN</td>\n",
       "      <td>NaN</td>\n",
       "      <td>NaN</td>\n",
       "      <td>NaN</td>\n",
       "      <td>NaN</td>\n",
       "      <td>NaN</td>\n",
       "      <td>...</td>\n",
       "      <td>NaN</td>\n",
       "      <td>NaN</td>\n",
       "      <td>NaN</td>\n",
       "      <td>NaN</td>\n",
       "      <td>NaN</td>\n",
       "      <td>NaN</td>\n",
       "      <td>NaN</td>\n",
       "      <td>NaN</td>\n",
       "      <td>NaN</td>\n",
       "      <td>NaN</td>\n",
       "    </tr>\n",
       "    <tr>\n",
       "      <th>98450</th>\n",
       "      <td>NaN</td>\n",
       "      <td>NaN</td>\n",
       "      <td>NaN</td>\n",
       "      <td>NaN</td>\n",
       "      <td>NaN</td>\n",
       "      <td>NaN</td>\n",
       "      <td>NaN</td>\n",
       "      <td>NaN</td>\n",
       "      <td>NaN</td>\n",
       "      <td>NaN</td>\n",
       "      <td>...</td>\n",
       "      <td>NaN</td>\n",
       "      <td>NaN</td>\n",
       "      <td>NaN</td>\n",
       "      <td>NaN</td>\n",
       "      <td>NaN</td>\n",
       "      <td>NaN</td>\n",
       "      <td>NaN</td>\n",
       "      <td>NaN</td>\n",
       "      <td>NaN</td>\n",
       "      <td>NaN</td>\n",
       "    </tr>\n",
       "    <tr>\n",
       "      <th>98451</th>\n",
       "      <td>NaN</td>\n",
       "      <td>NaN</td>\n",
       "      <td>NaN</td>\n",
       "      <td>NaN</td>\n",
       "      <td>NaN</td>\n",
       "      <td>NaN</td>\n",
       "      <td>NaN</td>\n",
       "      <td>NaN</td>\n",
       "      <td>NaN</td>\n",
       "      <td>NaN</td>\n",
       "      <td>...</td>\n",
       "      <td>NaN</td>\n",
       "      <td>NaN</td>\n",
       "      <td>NaN</td>\n",
       "      <td>NaN</td>\n",
       "      <td>NaN</td>\n",
       "      <td>NaN</td>\n",
       "      <td>NaN</td>\n",
       "      <td>NaN</td>\n",
       "      <td>NaN</td>\n",
       "      <td>NaN</td>\n",
       "    </tr>\n",
       "  </tbody>\n",
       "</table>\n",
       "<p>97158 rows × 38 columns</p>\n",
       "</div>"
      ],
      "text/plain": [
       "      W19_comb_profile_past_vote_2005  \\\n",
       "1                              Labour   \n",
       "2                        Conservative   \n",
       "3                              Labour   \n",
       "4                        Conservative   \n",
       "5                        Did not vote   \n",
       "...                               ...   \n",
       "98447                             NaN   \n",
       "98448                             NaN   \n",
       "98449                             NaN   \n",
       "98450                             NaN   \n",
       "98451                             NaN   \n",
       "\n",
       "                W19_comb_profile_past_vote_2010  \\\n",
       "1      United Kingdom Independence Party (UKIP)   \n",
       "2                                  Conservative   \n",
       "3                              Liberal Democrat   \n",
       "4                                  Conservative   \n",
       "5                              Liberal Democrat   \n",
       "...                                         ...   \n",
       "98447                                       NaN   \n",
       "98448                                       NaN   \n",
       "98449                                       NaN   \n",
       "98450                                       NaN   \n",
       "98451                                       NaN   \n",
       "\n",
       "      W19_only_profile_past_vote_2005 W19_only_profile_past_vote_2010  \\\n",
       "1                                 NaN                             NaN   \n",
       "2                        Conservative                    Conservative   \n",
       "3                              Labour                Liberal Democrat   \n",
       "4                                 NaN                             NaN   \n",
       "5                                 NaN                             NaN   \n",
       "...                               ...                             ...   \n",
       "98447                             NaN                             NaN   \n",
       "98448                             NaN                             NaN   \n",
       "98449                             NaN                             NaN   \n",
       "98450                             NaN                             NaN   \n",
       "98451                             NaN                             NaN   \n",
       "\n",
       "      W18_only_profile_past_vote_2005 W18_only_profile_past_vote_2010  \\\n",
       "1                                 NaN                             NaN   \n",
       "2                        Conservative                    Conservative   \n",
       "3                                 NaN                             NaN   \n",
       "4                                 NaN                             NaN   \n",
       "5                                 NaN                             NaN   \n",
       "...                               ...                             ...   \n",
       "98447                             NaN                             NaN   \n",
       "98448                             NaN                             NaN   \n",
       "98449                             NaN                             NaN   \n",
       "98450                             NaN                             NaN   \n",
       "98451                             NaN                             NaN   \n",
       "\n",
       "      W17_only_profile_past_vote_2005 W17_only_profile_past_vote_2010  \\\n",
       "1                                 NaN                             NaN   \n",
       "2                        Conservative                    Conservative   \n",
       "3                                 NaN                             NaN   \n",
       "4                                 NaN                             NaN   \n",
       "5                                 NaN                             NaN   \n",
       "...                               ...                             ...   \n",
       "98447                             NaN                             NaN   \n",
       "98448                             NaN                             NaN   \n",
       "98449                             NaN                             NaN   \n",
       "98450                             NaN                             NaN   \n",
       "98451                             NaN                             NaN   \n",
       "\n",
       "      W16_only_profile_past_vote_2005 W16_only_profile_past_vote_2010  ...  \\\n",
       "1                                 NaN                             NaN  ...   \n",
       "2                                 NaN                             NaN  ...   \n",
       "3                              Labour                Liberal Democrat  ...   \n",
       "4                                 NaN                             NaN  ...   \n",
       "5                                 NaN                             NaN  ...   \n",
       "...                               ...                             ...  ...   \n",
       "98447                             NaN                             NaN  ...   \n",
       "98448                             NaN                             NaN  ...   \n",
       "98449                             NaN                             NaN  ...   \n",
       "98450                             NaN                             NaN  ...   \n",
       "98451                             NaN                             NaN  ...   \n",
       "\n",
       "      W3_only_profile_past_vote_2005 W3_only_profile_past_vote_2010  \\\n",
       "1                                NaN                            NaN   \n",
       "2                       Conservative                   Conservative   \n",
       "3                             Labour               Liberal Democrat   \n",
       "4                                NaN                            NaN   \n",
       "5                                NaN                            NaN   \n",
       "...                              ...                            ...   \n",
       "98447                            NaN                            NaN   \n",
       "98448                            NaN                            NaN   \n",
       "98449                            NaN                            NaN   \n",
       "98450                            NaN                            NaN   \n",
       "98451                            NaN                            NaN   \n",
       "\n",
       "      W2_only_profile_past_vote_2005  \\\n",
       "1                             Labour   \n",
       "2                                NaN   \n",
       "3                             Labour   \n",
       "4                       Conservative   \n",
       "5                       Did not vote   \n",
       "...                              ...   \n",
       "98447                            NaN   \n",
       "98448                            NaN   \n",
       "98449                            NaN   \n",
       "98450                            NaN   \n",
       "98451                            NaN   \n",
       "\n",
       "                 W2_only_profile_past_vote_2010  \\\n",
       "1      United Kingdom Independence Party (UKIP)   \n",
       "2                                           NaN   \n",
       "3                              Liberal Democrat   \n",
       "4                                  Conservative   \n",
       "5                              Liberal Democrat   \n",
       "...                                         ...   \n",
       "98447                                       NaN   \n",
       "98448                                       NaN   \n",
       "98449                                       NaN   \n",
       "98450                                       NaN   \n",
       "98451                                       NaN   \n",
       "\n",
       "      W1_only_profile_past_vote_2005  \\\n",
       "1                             Labour   \n",
       "2                       Conservative   \n",
       "3                             Labour   \n",
       "4                       Conservative   \n",
       "5                       Did not vote   \n",
       "...                              ...   \n",
       "98447                            NaN   \n",
       "98448                            NaN   \n",
       "98449                            NaN   \n",
       "98450                            NaN   \n",
       "98451                            NaN   \n",
       "\n",
       "                 W1_only_profile_past_vote_2010 discrepancy_pairs_2005  \\\n",
       "1      United Kingdom Independence Party (UKIP)                    NaN   \n",
       "2                                  Conservative                    NaN   \n",
       "3                              Liberal Democrat                    NaN   \n",
       "4                                  Conservative                    NaN   \n",
       "5                              Liberal Democrat                    NaN   \n",
       "...                                         ...                    ...   \n",
       "98447                                       NaN                    NaN   \n",
       "98448                                       NaN                    NaN   \n",
       "98449                                       NaN                    NaN   \n",
       "98450                                       NaN                    NaN   \n",
       "98451                                       NaN                    NaN   \n",
       "\n",
       "      discrepancy_pairs_2010 discr_2005_change_dataset  \\\n",
       "1                        NaN                       NaN   \n",
       "2                        NaN                       NaN   \n",
       "3                        NaN                       NaN   \n",
       "4                        NaN                       NaN   \n",
       "5                        NaN                       NaN   \n",
       "...                      ...                       ...   \n",
       "98447                    NaN                       NaN   \n",
       "98448                    NaN                       NaN   \n",
       "98449                    NaN                       NaN   \n",
       "98450                    NaN                       NaN   \n",
       "98451                    NaN                       NaN   \n",
       "\n",
       "      discr_2010_change_dataset  \n",
       "1                           NaN  \n",
       "2                           NaN  \n",
       "3                           NaN  \n",
       "4                           NaN  \n",
       "5                           NaN  \n",
       "...                         ...  \n",
       "98447                       NaN  \n",
       "98448                       NaN  \n",
       "98449                       NaN  \n",
       "98450                       NaN  \n",
       "98451                       NaN  \n",
       "\n",
       "[97158 rows x 38 columns]"
      ]
     },
     "execution_count": 308,
     "metadata": {},
     "output_type": "execute_result"
    }
   ],
   "source": [
    "df"
   ]
  },
  {
   "cell_type": "code",
   "execution_count": 293,
   "metadata": {},
   "outputs": [],
   "source": [
    "DNV2005 = (df[\"W7_only_profile_past_vote_2005\"]==\"Did not vote\")\n",
    "DNV2010 = (df[\"W7_only_profile_past_vote_2010\"]==\"Did not vote\")"
   ]
  },
  {
   "cell_type": "code",
   "execution_count": 310,
   "metadata": {},
   "outputs": [],
   "source": [
    "BES_Panel = BES_Panel.set_index(\"id\").sort_index()"
   ]
  },
  {
   "cell_type": "code",
   "execution_count": 311,
   "metadata": {},
   "outputs": [],
   "source": [
    "first_wave_joined_panel = BES_Panel[search(BES_Panel,\"wave\\d+\").index].replace(False,np.nan).fillna(method='ffill',axis=1).replace(np.nan,False).astype('bool')\n",
    "first_wave_joined_panel.columns = [int(x.replace(\"wave\",\"\")) for x in first_wave_joined_panel.columns]"
   ]
  },
  {
   "cell_type": "code",
   "execution_count": 313,
   "metadata": {},
   "outputs": [
    {
     "name": "stdout",
     "output_type": "stream",
     "text": [
      "1 1661 714 1990 667\n",
      "2 1836 539 2180 477\n",
      "3 2028 347 2298 359\n",
      "4 2374 1 2657 0\n",
      "5 2375 0 2657 0\n",
      "6 2375 0 2657 0\n",
      "7 2375 0 2657 0\n",
      "8 2375 0 2657 0\n",
      "9 2375 0 2657 0\n",
      "10 2375 0 2657 0\n",
      "11 2375 0 2657 0\n",
      "12 2375 0 2657 0\n",
      "13 2375 0 2657 0\n",
      "14 2375 0 2657 0\n",
      "15 2375 0 2657 0\n",
      "16 2375 0 2657 0\n",
      "17 2375 0 2657 0\n",
      "18 2375 0 2657 0\n",
      "19 2375 0 2657 0\n"
     ]
    }
   ],
   "source": [
    "for wave in range(1,20):\n",
    "    mask  = list(set(first_wave_joined_panel[first_wave_joined_panel[wave]].index).union()  )\n",
    "    print( wave,\n",
    "          DNV2010.loc[first_wave_joined_panel[first_wave_joined_panel[wave]].index].sum(),\n",
    "          DNV2010.loc[first_wave_joined_panel[~first_wave_joined_panel[wave]].index].sum(),\n",
    "          DNV2005.loc[first_wave_joined_panel[first_wave_joined_panel[wave]].index].sum(),\n",
    "          DNV2005.loc[first_wave_joined_panel[~first_wave_joined_panel[wave]].index].sum(),\n",
    "         )"
   ]
  },
  {
   "cell_type": "code",
   "execution_count": 309,
   "metadata": {},
   "outputs": [
    {
     "data": {
      "text/plain": [
       "((97158, 38), (97158, 7911))"
      ]
     },
     "execution_count": 309,
     "metadata": {},
     "output_type": "execute_result"
    }
   ],
   "source": [
    "df.shape, BES_Panel.shape"
   ]
  },
  {
   "cell_type": "markdown",
   "metadata": {},
   "source": []
  },
  {
   "cell_type": "code",
   "execution_count": 300,
   "metadata": {},
   "outputs": [],
   "source": [
    "temp_df = df.copy()"
   ]
  },
  {
   "cell_type": "code",
   "execution_count": 303,
   "metadata": {},
   "outputs": [],
   "source": [
    "df = temp_df.copy()"
   ]
  },
  {
   "cell_type": "code",
   "execution_count": null,
   "metadata": {},
   "outputs": [],
   "source": []
  },
  {
   "cell_type": "code",
   "execution_count": 322,
   "metadata": {},
   "outputs": [],
   "source": [
    "var_counts = pd.DataFrame.from_dict( {k:v for k,v in var_dict.items() if k in present_in_datasets} , orient='index').stack().value_counts()"
   ]
  },
  {
   "cell_type": "code",
   "execution_count": 327,
   "metadata": {},
   "outputs": [
    {
     "data": {
      "text/plain": [
       "Index(['housing', 'profile_past_vote_2005', 'profile_turnout_2017',\n",
       "       'profile_past_vote_2017', 'euRefLA', 'profile_past_vote_2010',\n",
       "       'profile_newspaper', 'profile_scotref_turnout', 'profile_turnout_2015',\n",
       "       'profile_gross_household', 'profile_lea', 'profile_eurefvote',\n",
       "       'profile_past_vote_2015', 'profile_gross_personal', 'disability',\n",
       "       'profile_household_children', 'gender', 'profile_scotref_vote',\n",
       "       'profile_education_age', 'marital', 'ageGroup'],\n",
       "      dtype='object')"
      ]
     },
     "execution_count": 327,
     "metadata": {},
     "output_type": "execute_result"
    }
   ],
   "source": [
    "var_counts[var_counts==17].index"
   ]
  },
  {
   "cell_type": "code",
   "execution_count": 388,
   "metadata": {},
   "outputs": [
    {
     "data": {
      "text/plain": [
       "Index(['natSecurityGrn', 'profile_work_type', 'responsibleDebtEU',\n",
       "       'responsibleImmigLibDems', 'happyEULeave', 'scotRefID4', 'respdate',\n",
       "       'responsibleDebtDontKnow', 'approveEU', 'responsibleCostLiveLab',\n",
       "       ...\n",
       "       'responsibleEducationWelshGovt', 'responsibleImmigConservatives',\n",
       "       'responsibleImmigLabour', 'partyContactBrexit_4',\n",
       "       'responsibleNHSScottishGovt', 'partyContactBrexit_7', 'refAreGood',\n",
       "       'responsibleCostLiveNone', 'beliefTradeoff',\n",
       "       'responsibleEducationScotGovt'],\n",
       "      dtype='object', length=116)"
      ]
     },
     "execution_count": 388,
     "metadata": {},
     "output_type": "execute_result"
    }
   ],
   "source": [
    "var_counts[var_counts==4].index"
   ]
  },
  {
   "cell_type": "code",
   "execution_count": null,
   "metadata": {},
   "outputs": [],
   "source": [
    "# profile_eurefturnout, profile_ethnicity, profile_religion, countryOfBirth, profile_past_vote_2015"
   ]
  },
  {
   "cell_type": "code",
   "execution_count": 373,
   "metadata": {},
   "outputs": [
    {
     "data": {
      "text/plain": [
       "1     8383\n",
       "2      913\n",
       "3      127\n",
       "4      116\n",
       "5       97\n",
       "6       55\n",
       "7       57\n",
       "8       22\n",
       "9       39\n",
       "10      34\n",
       "11      21\n",
       "12      13\n",
       "13      69\n",
       "14      25\n",
       "15      25\n",
       "16      18\n",
       "17      21\n",
       "dtype: int64"
      ]
     },
     "execution_count": 373,
     "metadata": {},
     "output_type": "execute_result"
    }
   ],
   "source": [
    "var_counts.value_counts().sort_index()"
   ]
  },
  {
   "cell_type": "code",
   "execution_count": 330,
   "metadata": {},
   "outputs": [
    {
     "data": {
      "text/html": [
       "['W19_comb', 'W19_only', 'W18_only', 'W17_only', 'W16_only', 'W15_only', 'W11_only', 'W10_only', 'W9_only', 'W8_only', 'W7_only', 'W6_only', 'W5_only', 'W4_only', 'W3_only', 'W2_only', 'W1_only']"
      ],
      "text/plain": [
       "['W19_comb',\n",
       " 'W19_only',\n",
       " 'W18_only',\n",
       " 'W17_only',\n",
       " 'W16_only',\n",
       " 'W15_only',\n",
       " 'W11_only',\n",
       " 'W10_only',\n",
       " 'W9_only',\n",
       " 'W8_only',\n",
       " 'W7_only',\n",
       " 'W6_only',\n",
       " 'W5_only',\n",
       " 'W4_only',\n",
       " 'W3_only',\n",
       " 'W2_only',\n",
       " 'W1_only']"
      ]
     },
     "execution_count": 330,
     "metadata": {},
     "output_type": "execute_result"
    }
   ],
   "source": [
    "present_in_datasets"
   ]
  },
  {
   "cell_type": "code",
   "execution_count": 333,
   "metadata": {},
   "outputs": [
    {
     "name": "stdout",
     "output_type": "stream",
     "text": [
      "Wall time: 51.7 s\n"
     ]
    }
   ],
   "source": [
    "%%time\n",
    "(BES_code_folder, BES_small_data_files, BES_data_folder,\n",
    " BES_output_folder, BES_file_manifest, BES_R_data_files) = setup_directories()\n",
    "\n",
    "global BES_Panel, BES_numeric, BES_reduced, BES_reduced_with_na, BES_non_numeric\n",
    "\n",
    "df = pd.DataFrame()\n",
    "var_list = list(var_counts[var_counts==17].index)\n",
    "\n",
    "for dataset_name in present_in_datasets:\n",
    "    \n",
    "    data_subfolder = BES_data_folder + dataset_name + os.sep\n",
    "\n",
    "    (manifest, dataset_filename, dataset_description, dataset_citation,\n",
    "     dataset_start, dataset_stop, dataset_wave) = get_manifest(dataset_name, BES_file_manifest)    \n",
    "    BES_Panel = pd.read_pickle(data_subfolder + dataset_filename.replace('.dta','.zip'),compression='zip')\n",
    "    if \"id\" in BES_Panel.columns:\n",
    "        temp = BES_Panel[var_list+[\"id\"]].set_index(\"id\").sort_index()\n",
    "    else:\n",
    "        temp = BES_Panel[var_list]\n",
    "    temp.columns = [dataset_name+\"_\"+x for x in temp.columns]\n",
    "    df = pd.concat([df,temp],axis=1)\n",
    "    \n",
    "df.index = df.index.astype('int')\n",
    "# note - no extra rows over W19    "
   ]
  },
  {
   "cell_type": "code",
   "execution_count": 334,
   "metadata": {},
   "outputs": [
    {
     "name": "stdout",
     "output_type": "stream",
     "text": [
      "Wall time: 20min 46s\n"
     ]
    }
   ],
   "source": [
    "%%time\n",
    "\n",
    "number_of_unique_responses_per_row = {}\n",
    "\n",
    "for focal_var in var_list:\n",
    "    var_cols = [x for x in df.columns if focal_var in x]\n",
    "\n",
    "    number_of_unique_responses_per_row[focal_var] = df[var_cols].apply(lambda x: len((x.dropna()).unique()),axis=1)\n",
    "    number_of_unique_responses_per_row[focal_var].value_counts()"
   ]
  },
  {
   "cell_type": "code",
   "execution_count": 338,
   "metadata": {},
   "outputs": [
    {
     "name": "stdout",
     "output_type": "stream",
     "text": [
      "housing\n"
     ]
    },
    {
     "data": {
      "text/plain": [
       "0    65301\n",
       "1    31857\n",
       "dtype: int64"
      ]
     },
     "metadata": {},
     "output_type": "display_data"
    },
    {
     "name": "stdout",
     "output_type": "stream",
     "text": [
      "profile_past_vote_2005\n"
     ]
    },
    {
     "data": {
      "text/plain": [
       "1    50268\n",
       "0    40149\n",
       "2     6741\n",
       "dtype: int64"
      ]
     },
     "metadata": {},
     "output_type": "display_data"
    },
    {
     "name": "stdout",
     "output_type": "stream",
     "text": [
      "profile_turnout_2017\n"
     ]
    },
    {
     "data": {
      "text/plain": [
       "1    70322\n",
       "0    26836\n",
       "dtype: int64"
      ]
     },
     "metadata": {},
     "output_type": "display_data"
    },
    {
     "name": "stdout",
     "output_type": "stream",
     "text": [
      "profile_past_vote_2017\n"
     ]
    },
    {
     "data": {
      "text/plain": [
       "1    60451\n",
       "0    36707\n",
       "dtype: int64"
      ]
     },
     "metadata": {},
     "output_type": "display_data"
    },
    {
     "name": "stdout",
     "output_type": "stream",
     "text": [
      "euRefLA\n"
     ]
    },
    {
     "data": {
      "text/plain": [
       "1    93773\n",
       "0     3385\n",
       "dtype: int64"
      ]
     },
     "metadata": {},
     "output_type": "display_data"
    },
    {
     "name": "stdout",
     "output_type": "stream",
     "text": [
      "profile_past_vote_2010\n"
     ]
    },
    {
     "data": {
      "text/plain": [
       "1    56419\n",
       "0    31577\n",
       "2     9162\n",
       "dtype: int64"
      ]
     },
     "metadata": {},
     "output_type": "display_data"
    },
    {
     "name": "stdout",
     "output_type": "stream",
     "text": [
      "profile_newspaper\n"
     ]
    },
    {
     "data": {
      "text/plain": [
       "1    56739\n",
       "0    30228\n",
       "2     9731\n",
       "3      460\n",
       "dtype: int64"
      ]
     },
     "metadata": {},
     "output_type": "display_data"
    },
    {
     "name": "stdout",
     "output_type": "stream",
     "text": [
      "profile_scotref_turnout\n"
     ]
    },
    {
     "data": {
      "text/plain": [
       "0    87199\n",
       "1     9959\n",
       "dtype: int64"
      ]
     },
     "metadata": {},
     "output_type": "display_data"
    },
    {
     "name": "stdout",
     "output_type": "stream",
     "text": [
      "profile_turnout_2015\n"
     ]
    },
    {
     "data": {
      "text/plain": [
       "1    77713\n",
       "0    19328\n",
       "2      117\n",
       "dtype: int64"
      ]
     },
     "metadata": {},
     "output_type": "display_data"
    },
    {
     "name": "stdout",
     "output_type": "stream",
     "text": [
      "profile_gross_household\n"
     ]
    },
    {
     "data": {
      "text/plain": [
       "1    39499\n",
       "2    27572\n",
       "3    14400\n",
       "0     9005\n",
       "4     5190\n",
       "5     1325\n",
       "6      161\n",
       "7        6\n",
       "dtype: int64"
      ]
     },
     "metadata": {},
     "output_type": "display_data"
    },
    {
     "name": "stdout",
     "output_type": "stream",
     "text": [
      "profile_lea\n"
     ]
    },
    {
     "data": {
      "text/plain": [
       "1    54633\n",
       "0    42525\n",
       "dtype: int64"
      ]
     },
     "metadata": {},
     "output_type": "display_data"
    },
    {
     "name": "stdout",
     "output_type": "stream",
     "text": [
      "profile_eurefvote\n"
     ]
    },
    {
     "data": {
      "text/plain": [
       "1    68514\n",
       "0    28644\n",
       "dtype: int64"
      ]
     },
     "metadata": {},
     "output_type": "display_data"
    },
    {
     "name": "stdout",
     "output_type": "stream",
     "text": [
      "profile_past_vote_2015\n"
     ]
    },
    {
     "data": {
      "text/plain": [
       "1    71125\n",
       "0    26033\n",
       "dtype: int64"
      ]
     },
     "metadata": {},
     "output_type": "display_data"
    },
    {
     "name": "stdout",
     "output_type": "stream",
     "text": [
      "profile_gross_personal\n"
     ]
    },
    {
     "data": {
      "text/plain": [
       "1    55276\n",
       "0    22902\n",
       "2    18460\n",
       "3      520\n",
       "dtype: int64"
      ]
     },
     "metadata": {},
     "output_type": "display_data"
    },
    {
     "name": "stdout",
     "output_type": "stream",
     "text": [
      "disability\n"
     ]
    },
    {
     "data": {
      "text/plain": [
       "1    51225\n",
       "0    33356\n",
       "2    11798\n",
       "3      779\n",
       "dtype: int64"
      ]
     },
     "metadata": {},
     "output_type": "display_data"
    },
    {
     "name": "stdout",
     "output_type": "stream",
     "text": [
      "profile_household_children\n"
     ]
    },
    {
     "data": {
      "text/plain": [
       "1    73757\n",
       "0    19313\n",
       "2     4080\n",
       "3        8\n",
       "dtype: int64"
      ]
     },
     "metadata": {},
     "output_type": "display_data"
    },
    {
     "name": "stdout",
     "output_type": "stream",
     "text": [
      "gender\n"
     ]
    },
    {
     "data": {
      "text/plain": [
       "1    96521\n",
       "0      629\n",
       "2        8\n",
       "dtype: int64"
      ]
     },
     "metadata": {},
     "output_type": "display_data"
    },
    {
     "name": "stdout",
     "output_type": "stream",
     "text": [
      "profile_scotref_vote\n"
     ]
    },
    {
     "data": {
      "text/plain": [
       "0    88359\n",
       "1     8799\n",
       "dtype: int64"
      ]
     },
     "metadata": {},
     "output_type": "display_data"
    },
    {
     "name": "stdout",
     "output_type": "stream",
     "text": [
      "profile_education_age\n"
     ]
    },
    {
     "data": {
      "text/plain": [
       "1    39216\n",
       "0    23432\n",
       "2    21590\n",
       "3    12920\n",
       "dtype: int64"
      ]
     },
     "metadata": {},
     "output_type": "display_data"
    },
    {
     "name": "stdout",
     "output_type": "stream",
     "text": [
      "marital\n"
     ]
    },
    {
     "data": {
      "text/plain": [
       "1    64090\n",
       "0    33068\n",
       "dtype: int64"
      ]
     },
     "metadata": {},
     "output_type": "display_data"
    },
    {
     "name": "stdout",
     "output_type": "stream",
     "text": [
      "ageGroup\n"
     ]
    },
    {
     "data": {
      "text/plain": [
       "1    66930\n",
       "0    30228\n",
       "dtype: int64"
      ]
     },
     "metadata": {},
     "output_type": "display_data"
    }
   ],
   "source": [
    "for key in number_of_unique_responses_per_row.keys():\n",
    "    print(key)\n",
    "    display(number_of_unique_responses_per_row[key].value_counts())"
   ]
  },
  {
   "cell_type": "code",
   "execution_count": null,
   "metadata": {},
   "outputs": [],
   "source": [
    "# discrepancy_pairs_2005 = df[ppv2005].loc[  number_of_unique_responses_per_row_2005==2 ].dropna(how='all',axis=1).apply(lambda x: \"|\".join([str(x) for x in x.dropna().unique()]),axis=1)"
   ]
  },
  {
   "cell_type": "code",
   "execution_count": 339,
   "metadata": {},
   "outputs": [
    {
     "name": "stdout",
     "output_type": "stream",
     "text": [
      "Wall time: 1min 35s\n"
     ]
    }
   ],
   "source": [
    "%%time\n",
    "\n",
    "for focal_var in var_list:\n",
    "    var_cols = [x for x in df.columns if focal_var in x]\n",
    "    df[\"nuniq_\"+focal_var] = number_of_unique_responses_per_row[focal_var]\n",
    "    df[\"discrep_\"+focal_var] = df[var_cols].loc[  df[\"nuniq_\"+focal_var]>=2 ].dropna(how='all',axis=1).apply(lambda x: \"|\".join([str(x) for x in x.dropna().unique()]),axis=1)\n",
    "    "
   ]
  },
  {
   "cell_type": "code",
   "execution_count": 342,
   "metadata": {},
   "outputs": [
    {
     "data": {
      "text/html": [
       "<div>\n",
       "<style scoped>\n",
       "    .dataframe tbody tr th:only-of-type {\n",
       "        vertical-align: middle;\n",
       "    }\n",
       "\n",
       "    .dataframe tbody tr th {\n",
       "        vertical-align: top;\n",
       "    }\n",
       "\n",
       "    .dataframe thead th {\n",
       "        text-align: right;\n",
       "    }\n",
       "</style>\n",
       "<table border=\"1\" class=\"dataframe\">\n",
       "  <thead>\n",
       "    <tr style=\"text-align: right;\">\n",
       "      <th></th>\n",
       "      <th>W19_comb_housing</th>\n",
       "      <th>W19_comb_profile_past_vote_2005</th>\n",
       "      <th>W19_comb_profile_turnout_2017</th>\n",
       "      <th>W19_comb_profile_past_vote_2017</th>\n",
       "      <th>W19_comb_euRefLA</th>\n",
       "      <th>W19_comb_profile_past_vote_2010</th>\n",
       "      <th>W19_comb_profile_newspaper</th>\n",
       "      <th>W19_comb_profile_scotref_turnout</th>\n",
       "      <th>W19_comb_profile_turnout_2015</th>\n",
       "      <th>W19_comb_profile_gross_household</th>\n",
       "      <th>...</th>\n",
       "      <th>nuniq_gender</th>\n",
       "      <th>discrep_gender</th>\n",
       "      <th>nuniq_profile_scotref_vote</th>\n",
       "      <th>discrep_profile_scotref_vote</th>\n",
       "      <th>nuniq_profile_education_age</th>\n",
       "      <th>discrep_profile_education_age</th>\n",
       "      <th>nuniq_marital</th>\n",
       "      <th>discrep_marital</th>\n",
       "      <th>nuniq_ageGroup</th>\n",
       "      <th>discrep_ageGroup</th>\n",
       "    </tr>\n",
       "  </thead>\n",
       "  <tbody>\n",
       "    <tr>\n",
       "      <th>1</th>\n",
       "      <td>Own the leasehold/freehold outright</td>\n",
       "      <td>Labour</td>\n",
       "      <td>NaN</td>\n",
       "      <td>NaN</td>\n",
       "      <td>E06000050</td>\n",
       "      <td>United Kingdom Independence Party (UKIP)</td>\n",
       "      <td>The Mirror / Daily Record</td>\n",
       "      <td>NaN</td>\n",
       "      <td>Yes, voted</td>\n",
       "      <td>Â£10,000 to Â£14,999 per year</td>\n",
       "      <td>...</td>\n",
       "      <td>1</td>\n",
       "      <td>NaN</td>\n",
       "      <td>0</td>\n",
       "      <td>NaN</td>\n",
       "      <td>1</td>\n",
       "      <td>NaN</td>\n",
       "      <td>1</td>\n",
       "      <td>NaN</td>\n",
       "      <td>1</td>\n",
       "      <td>NaN</td>\n",
       "    </tr>\n",
       "    <tr>\n",
       "      <th>2</th>\n",
       "      <td>Own the leasehold/freehold outright</td>\n",
       "      <td>Conservative</td>\n",
       "      <td>Yes, voted</td>\n",
       "      <td>Conservative</td>\n",
       "      <td>E07000215</td>\n",
       "      <td>Conservative</td>\n",
       "      <td>The Daily Telegraph</td>\n",
       "      <td>NaN</td>\n",
       "      <td>Yes, voted</td>\n",
       "      <td>Â£50,000 to Â£59,999 per year</td>\n",
       "      <td>...</td>\n",
       "      <td>1</td>\n",
       "      <td>NaN</td>\n",
       "      <td>0</td>\n",
       "      <td>NaN</td>\n",
       "      <td>3</td>\n",
       "      <td>20+|d|Foreman or Supervisor of Other Workers (...</td>\n",
       "      <td>1</td>\n",
       "      <td>NaN</td>\n",
       "      <td>1</td>\n",
       "      <td>NaN</td>\n",
       "    </tr>\n",
       "    <tr>\n",
       "      <th>3</th>\n",
       "      <td>Own the leasehold/freehold outright</td>\n",
       "      <td>Labour</td>\n",
       "      <td>Yes, voted</td>\n",
       "      <td>Labour</td>\n",
       "      <td>E07000136</td>\n",
       "      <td>Liberal Democrat</td>\n",
       "      <td>The Mirror / Daily Record</td>\n",
       "      <td>NaN</td>\n",
       "      <td>Yes, voted</td>\n",
       "      <td>Â£5,000 to Â£9,999 per year</td>\n",
       "      <td>...</td>\n",
       "      <td>1</td>\n",
       "      <td>NaN</td>\n",
       "      <td>0</td>\n",
       "      <td>NaN</td>\n",
       "      <td>2</td>\n",
       "      <td>20+|d</td>\n",
       "      <td>1</td>\n",
       "      <td>NaN</td>\n",
       "      <td>1</td>\n",
       "      <td>NaN</td>\n",
       "    </tr>\n",
       "    <tr>\n",
       "      <th>4</th>\n",
       "      <td>Buying leasehold/freehold on a mortgage</td>\n",
       "      <td>Conservative</td>\n",
       "      <td>NaN</td>\n",
       "      <td>NaN</td>\n",
       "      <td>NaN</td>\n",
       "      <td>Conservative</td>\n",
       "      <td>The Sun</td>\n",
       "      <td>NaN</td>\n",
       "      <td>NaN</td>\n",
       "      <td>Â£25,000 to Â£29,999 per year</td>\n",
       "      <td>...</td>\n",
       "      <td>1</td>\n",
       "      <td>NaN</td>\n",
       "      <td>0</td>\n",
       "      <td>NaN</td>\n",
       "      <td>1</td>\n",
       "      <td>NaN</td>\n",
       "      <td>1</td>\n",
       "      <td>NaN</td>\n",
       "      <td>1</td>\n",
       "      <td>NaN</td>\n",
       "    </tr>\n",
       "    <tr>\n",
       "      <th>5</th>\n",
       "      <td>Own the leasehold/freehold outright</td>\n",
       "      <td>I would not vote</td>\n",
       "      <td>NaN</td>\n",
       "      <td>NaN</td>\n",
       "      <td>NaN</td>\n",
       "      <td>Liberal Democrat</td>\n",
       "      <td>The Daily Telegraph</td>\n",
       "      <td>NaN</td>\n",
       "      <td>NaN</td>\n",
       "      <td>Â£25,000 to Â£29,999 per year</td>\n",
       "      <td>...</td>\n",
       "      <td>1</td>\n",
       "      <td>NaN</td>\n",
       "      <td>0</td>\n",
       "      <td>NaN</td>\n",
       "      <td>1</td>\n",
       "      <td>NaN</td>\n",
       "      <td>1</td>\n",
       "      <td>NaN</td>\n",
       "      <td>1</td>\n",
       "      <td>NaN</td>\n",
       "    </tr>\n",
       "    <tr>\n",
       "      <th>...</th>\n",
       "      <td>...</td>\n",
       "      <td>...</td>\n",
       "      <td>...</td>\n",
       "      <td>...</td>\n",
       "      <td>...</td>\n",
       "      <td>...</td>\n",
       "      <td>...</td>\n",
       "      <td>...</td>\n",
       "      <td>...</td>\n",
       "      <td>...</td>\n",
       "      <td>...</td>\n",
       "      <td>...</td>\n",
       "      <td>...</td>\n",
       "      <td>...</td>\n",
       "      <td>...</td>\n",
       "      <td>...</td>\n",
       "      <td>...</td>\n",
       "      <td>...</td>\n",
       "      <td>...</td>\n",
       "      <td>...</td>\n",
       "      <td>...</td>\n",
       "    </tr>\n",
       "    <tr>\n",
       "      <th>98447</th>\n",
       "      <td>NaN</td>\n",
       "      <td>NaN</td>\n",
       "      <td>No, did not vote</td>\n",
       "      <td>NaN</td>\n",
       "      <td>NaN</td>\n",
       "      <td>NaN</td>\n",
       "      <td>NaN</td>\n",
       "      <td>NaN</td>\n",
       "      <td>No, did not vote</td>\n",
       "      <td>NaN</td>\n",
       "      <td>...</td>\n",
       "      <td>1</td>\n",
       "      <td>NaN</td>\n",
       "      <td>0</td>\n",
       "      <td>NaN</td>\n",
       "      <td>0</td>\n",
       "      <td>NaN</td>\n",
       "      <td>0</td>\n",
       "      <td>NaN</td>\n",
       "      <td>0</td>\n",
       "      <td>NaN</td>\n",
       "    </tr>\n",
       "    <tr>\n",
       "      <th>98448</th>\n",
       "      <td>NaN</td>\n",
       "      <td>NaN</td>\n",
       "      <td>No, did not vote</td>\n",
       "      <td>NaN</td>\n",
       "      <td>NaN</td>\n",
       "      <td>NaN</td>\n",
       "      <td>NaN</td>\n",
       "      <td>NaN</td>\n",
       "      <td>No, did not vote</td>\n",
       "      <td>NaN</td>\n",
       "      <td>...</td>\n",
       "      <td>1</td>\n",
       "      <td>NaN</td>\n",
       "      <td>0</td>\n",
       "      <td>NaN</td>\n",
       "      <td>0</td>\n",
       "      <td>NaN</td>\n",
       "      <td>0</td>\n",
       "      <td>NaN</td>\n",
       "      <td>0</td>\n",
       "      <td>NaN</td>\n",
       "    </tr>\n",
       "    <tr>\n",
       "      <th>98449</th>\n",
       "      <td>NaN</td>\n",
       "      <td>NaN</td>\n",
       "      <td>Yes, voted</td>\n",
       "      <td>Don't know</td>\n",
       "      <td>NaN</td>\n",
       "      <td>NaN</td>\n",
       "      <td>NaN</td>\n",
       "      <td>NaN</td>\n",
       "      <td>Yes, voted</td>\n",
       "      <td>NaN</td>\n",
       "      <td>...</td>\n",
       "      <td>1</td>\n",
       "      <td>NaN</td>\n",
       "      <td>0</td>\n",
       "      <td>NaN</td>\n",
       "      <td>1</td>\n",
       "      <td>NaN</td>\n",
       "      <td>0</td>\n",
       "      <td>NaN</td>\n",
       "      <td>0</td>\n",
       "      <td>NaN</td>\n",
       "    </tr>\n",
       "    <tr>\n",
       "      <th>98450</th>\n",
       "      <td>NaN</td>\n",
       "      <td>NaN</td>\n",
       "      <td>No, did not vote</td>\n",
       "      <td>NaN</td>\n",
       "      <td>NaN</td>\n",
       "      <td>NaN</td>\n",
       "      <td>NaN</td>\n",
       "      <td>NaN</td>\n",
       "      <td>Don't know</td>\n",
       "      <td>NaN</td>\n",
       "      <td>...</td>\n",
       "      <td>1</td>\n",
       "      <td>NaN</td>\n",
       "      <td>0</td>\n",
       "      <td>NaN</td>\n",
       "      <td>0</td>\n",
       "      <td>NaN</td>\n",
       "      <td>0</td>\n",
       "      <td>NaN</td>\n",
       "      <td>0</td>\n",
       "      <td>NaN</td>\n",
       "    </tr>\n",
       "    <tr>\n",
       "      <th>98451</th>\n",
       "      <td>NaN</td>\n",
       "      <td>NaN</td>\n",
       "      <td>Don't know</td>\n",
       "      <td>NaN</td>\n",
       "      <td>NaN</td>\n",
       "      <td>NaN</td>\n",
       "      <td>NaN</td>\n",
       "      <td>NaN</td>\n",
       "      <td>Yes, voted</td>\n",
       "      <td>NaN</td>\n",
       "      <td>...</td>\n",
       "      <td>1</td>\n",
       "      <td>NaN</td>\n",
       "      <td>0</td>\n",
       "      <td>NaN</td>\n",
       "      <td>0</td>\n",
       "      <td>NaN</td>\n",
       "      <td>0</td>\n",
       "      <td>NaN</td>\n",
       "      <td>0</td>\n",
       "      <td>NaN</td>\n",
       "    </tr>\n",
       "  </tbody>\n",
       "</table>\n",
       "<p>97158 rows × 399 columns</p>\n",
       "</div>"
      ],
      "text/plain": [
       "                              W19_comb_housing  \\\n",
       "1          Own the leasehold/freehold outright   \n",
       "2          Own the leasehold/freehold outright   \n",
       "3          Own the leasehold/freehold outright   \n",
       "4      Buying leasehold/freehold on a mortgage   \n",
       "5          Own the leasehold/freehold outright   \n",
       "...                                        ...   \n",
       "98447                                      NaN   \n",
       "98448                                      NaN   \n",
       "98449                                      NaN   \n",
       "98450                                      NaN   \n",
       "98451                                      NaN   \n",
       "\n",
       "      W19_comb_profile_past_vote_2005 W19_comb_profile_turnout_2017  \\\n",
       "1                              Labour                           NaN   \n",
       "2                        Conservative                    Yes, voted   \n",
       "3                              Labour                    Yes, voted   \n",
       "4                        Conservative                           NaN   \n",
       "5                    I would not vote                           NaN   \n",
       "...                               ...                           ...   \n",
       "98447                             NaN              No, did not vote   \n",
       "98448                             NaN              No, did not vote   \n",
       "98449                             NaN                    Yes, voted   \n",
       "98450                             NaN              No, did not vote   \n",
       "98451                             NaN                    Don't know   \n",
       "\n",
       "      W19_comb_profile_past_vote_2017 W19_comb_euRefLA  \\\n",
       "1                                 NaN        E06000050   \n",
       "2                        Conservative        E07000215   \n",
       "3                              Labour        E07000136   \n",
       "4                                 NaN              NaN   \n",
       "5                                 NaN              NaN   \n",
       "...                               ...              ...   \n",
       "98447                             NaN              NaN   \n",
       "98448                             NaN              NaN   \n",
       "98449                      Don't know              NaN   \n",
       "98450                             NaN              NaN   \n",
       "98451                             NaN              NaN   \n",
       "\n",
       "                W19_comb_profile_past_vote_2010 W19_comb_profile_newspaper  \\\n",
       "1      United Kingdom Independence Party (UKIP)  The Mirror / Daily Record   \n",
       "2                                  Conservative        The Daily Telegraph   \n",
       "3                              Liberal Democrat  The Mirror / Daily Record   \n",
       "4                                  Conservative                    The Sun   \n",
       "5                              Liberal Democrat        The Daily Telegraph   \n",
       "...                                         ...                        ...   \n",
       "98447                                       NaN                        NaN   \n",
       "98448                                       NaN                        NaN   \n",
       "98449                                       NaN                        NaN   \n",
       "98450                                       NaN                        NaN   \n",
       "98451                                       NaN                        NaN   \n",
       "\n",
       "      W19_comb_profile_scotref_turnout W19_comb_profile_turnout_2015  \\\n",
       "1                                  NaN                    Yes, voted   \n",
       "2                                  NaN                    Yes, voted   \n",
       "3                                  NaN                    Yes, voted   \n",
       "4                                  NaN                           NaN   \n",
       "5                                  NaN                           NaN   \n",
       "...                                ...                           ...   \n",
       "98447                              NaN              No, did not vote   \n",
       "98448                              NaN              No, did not vote   \n",
       "98449                              NaN                    Yes, voted   \n",
       "98450                              NaN                    Don't know   \n",
       "98451                              NaN                    Yes, voted   \n",
       "\n",
       "      W19_comb_profile_gross_household  ... nuniq_gender discrep_gender  \\\n",
       "1        Â£10,000 to Â£14,999 per year  ...            1            NaN   \n",
       "2        Â£50,000 to Â£59,999 per year  ...            1            NaN   \n",
       "3          Â£5,000 to Â£9,999 per year  ...            1            NaN   \n",
       "4        Â£25,000 to Â£29,999 per year  ...            1            NaN   \n",
       "5        Â£25,000 to Â£29,999 per year  ...            1            NaN   \n",
       "...                                ...  ...          ...            ...   \n",
       "98447                              NaN  ...            1            NaN   \n",
       "98448                              NaN  ...            1            NaN   \n",
       "98449                              NaN  ...            1            NaN   \n",
       "98450                              NaN  ...            1            NaN   \n",
       "98451                              NaN  ...            1            NaN   \n",
       "\n",
       "      nuniq_profile_scotref_vote discrep_profile_scotref_vote  \\\n",
       "1                              0                          NaN   \n",
       "2                              0                          NaN   \n",
       "3                              0                          NaN   \n",
       "4                              0                          NaN   \n",
       "5                              0                          NaN   \n",
       "...                          ...                          ...   \n",
       "98447                          0                          NaN   \n",
       "98448                          0                          NaN   \n",
       "98449                          0                          NaN   \n",
       "98450                          0                          NaN   \n",
       "98451                          0                          NaN   \n",
       "\n",
       "      nuniq_profile_education_age  \\\n",
       "1                               1   \n",
       "2                               3   \n",
       "3                               2   \n",
       "4                               1   \n",
       "5                               1   \n",
       "...                           ...   \n",
       "98447                           0   \n",
       "98448                           0   \n",
       "98449                           1   \n",
       "98450                           0   \n",
       "98451                           0   \n",
       "\n",
       "                           discrep_profile_education_age nuniq_marital  \\\n",
       "1                                                    NaN             1   \n",
       "2      20+|d|Foreman or Supervisor of Other Workers (...             1   \n",
       "3                                                  20+|d             1   \n",
       "4                                                    NaN             1   \n",
       "5                                                    NaN             1   \n",
       "...                                                  ...           ...   \n",
       "98447                                                NaN             0   \n",
       "98448                                                NaN             0   \n",
       "98449                                                NaN             0   \n",
       "98450                                                NaN             0   \n",
       "98451                                                NaN             0   \n",
       "\n",
       "      discrep_marital nuniq_ageGroup discrep_ageGroup  \n",
       "1                 NaN              1              NaN  \n",
       "2                 NaN              1              NaN  \n",
       "3                 NaN              1              NaN  \n",
       "4                 NaN              1              NaN  \n",
       "5                 NaN              1              NaN  \n",
       "...               ...            ...              ...  \n",
       "98447             NaN              0              NaN  \n",
       "98448             NaN              0              NaN  \n",
       "98449             NaN              0              NaN  \n",
       "98450             NaN              0              NaN  \n",
       "98451             NaN              0              NaN  \n",
       "\n",
       "[97158 rows x 399 columns]"
      ]
     },
     "execution_count": 342,
     "metadata": {},
     "output_type": "execute_result"
    }
   ],
   "source": [
    "df"
   ]
  },
  {
   "cell_type": "code",
   "execution_count": 347,
   "metadata": {},
   "outputs": [
    {
     "data": {
      "text/html": [
       "<div>\n",
       "<style scoped>\n",
       "    .dataframe tbody tr th:only-of-type {\n",
       "        vertical-align: middle;\n",
       "    }\n",
       "\n",
       "    .dataframe tbody tr th {\n",
       "        vertical-align: top;\n",
       "    }\n",
       "\n",
       "    .dataframe thead th {\n",
       "        text-align: right;\n",
       "    }\n",
       "</style>\n",
       "<table border=\"1\" class=\"dataframe\">\n",
       "  <thead>\n",
       "    <tr style=\"text-align: right;\">\n",
       "      <th></th>\n",
       "      <th>discrep_profile_past_vote_2005</th>\n",
       "      <th>discrep_profile_past_vote_2010</th>\n",
       "      <th>discrep_profile_newspaper</th>\n",
       "      <th>discrep_profile_turnout_2015</th>\n",
       "      <th>discrep_profile_gross_household</th>\n",
       "      <th>discrep_profile_gross_personal</th>\n",
       "      <th>discrep_disability</th>\n",
       "      <th>discrep_profile_household_children</th>\n",
       "      <th>discrep_gender</th>\n",
       "      <th>discrep_profile_education_age</th>\n",
       "    </tr>\n",
       "  </thead>\n",
       "  <tbody>\n",
       "    <tr>\n",
       "      <th>1</th>\n",
       "      <td>NaN</td>\n",
       "      <td>NaN</td>\n",
       "      <td>The Mirror / Daily Record|None</td>\n",
       "      <td>NaN</td>\n",
       "      <td>Â£10,000 to Â£14,999 per year|Â£25,000 to Â£29...</td>\n",
       "      <td>NaN</td>\n",
       "      <td>Yes, limited a little|No</td>\n",
       "      <td>NaN</td>\n",
       "      <td>NaN</td>\n",
       "      <td>NaN</td>\n",
       "    </tr>\n",
       "    <tr>\n",
       "      <th>2</th>\n",
       "      <td>NaN</td>\n",
       "      <td>NaN</td>\n",
       "      <td>NaN</td>\n",
       "      <td>NaN</td>\n",
       "      <td>Â£50,000 to Â£59,999 per year|£60,000 to £69,9...</td>\n",
       "      <td>Â£50,000 to Â£59,999 per year|£10,000 to £14,9...</td>\n",
       "      <td>NaN</td>\n",
       "      <td>NaN</td>\n",
       "      <td>NaN</td>\n",
       "      <td>20+|d|Foreman or Supervisor of Other Workers (...</td>\n",
       "    </tr>\n",
       "    <tr>\n",
       "      <th>3</th>\n",
       "      <td>NaN</td>\n",
       "      <td>NaN</td>\n",
       "      <td>NaN</td>\n",
       "      <td>NaN</td>\n",
       "      <td>Â£5,000 to Â£9,999 per year|£5,000 to £9,999 p...</td>\n",
       "      <td>Â£5,000 to Â£9,999 per year|£5,000 to £9,999 p...</td>\n",
       "      <td>NaN</td>\n",
       "      <td>NaN</td>\n",
       "      <td>NaN</td>\n",
       "      <td>20+|d</td>\n",
       "    </tr>\n",
       "    <tr>\n",
       "      <th>4</th>\n",
       "      <td>NaN</td>\n",
       "      <td>NaN</td>\n",
       "      <td>NaN</td>\n",
       "      <td>NaN</td>\n",
       "      <td>NaN</td>\n",
       "      <td>NaN</td>\n",
       "      <td>NaN</td>\n",
       "      <td>NaN</td>\n",
       "      <td>NaN</td>\n",
       "      <td>NaN</td>\n",
       "    </tr>\n",
       "    <tr>\n",
       "      <th>5</th>\n",
       "      <td>NaN</td>\n",
       "      <td>NaN</td>\n",
       "      <td>NaN</td>\n",
       "      <td>NaN</td>\n",
       "      <td>NaN</td>\n",
       "      <td>NaN</td>\n",
       "      <td>NaN</td>\n",
       "      <td>NaN</td>\n",
       "      <td>NaN</td>\n",
       "      <td>NaN</td>\n",
       "    </tr>\n",
       "    <tr>\n",
       "      <th>...</th>\n",
       "      <td>...</td>\n",
       "      <td>...</td>\n",
       "      <td>...</td>\n",
       "      <td>...</td>\n",
       "      <td>...</td>\n",
       "      <td>...</td>\n",
       "      <td>...</td>\n",
       "      <td>...</td>\n",
       "      <td>...</td>\n",
       "      <td>...</td>\n",
       "    </tr>\n",
       "    <tr>\n",
       "      <th>98447</th>\n",
       "      <td>NaN</td>\n",
       "      <td>NaN</td>\n",
       "      <td>NaN</td>\n",
       "      <td>NaN</td>\n",
       "      <td>NaN</td>\n",
       "      <td>NaN</td>\n",
       "      <td>NaN</td>\n",
       "      <td>NaN</td>\n",
       "      <td>NaN</td>\n",
       "      <td>NaN</td>\n",
       "    </tr>\n",
       "    <tr>\n",
       "      <th>98448</th>\n",
       "      <td>NaN</td>\n",
       "      <td>NaN</td>\n",
       "      <td>NaN</td>\n",
       "      <td>NaN</td>\n",
       "      <td>NaN</td>\n",
       "      <td>NaN</td>\n",
       "      <td>NaN</td>\n",
       "      <td>NaN</td>\n",
       "      <td>NaN</td>\n",
       "      <td>NaN</td>\n",
       "    </tr>\n",
       "    <tr>\n",
       "      <th>98449</th>\n",
       "      <td>NaN</td>\n",
       "      <td>NaN</td>\n",
       "      <td>NaN</td>\n",
       "      <td>NaN</td>\n",
       "      <td>NaN</td>\n",
       "      <td>NaN</td>\n",
       "      <td>NaN</td>\n",
       "      <td>NaN</td>\n",
       "      <td>NaN</td>\n",
       "      <td>NaN</td>\n",
       "    </tr>\n",
       "    <tr>\n",
       "      <th>98450</th>\n",
       "      <td>NaN</td>\n",
       "      <td>NaN</td>\n",
       "      <td>NaN</td>\n",
       "      <td>NaN</td>\n",
       "      <td>NaN</td>\n",
       "      <td>NaN</td>\n",
       "      <td>NaN</td>\n",
       "      <td>NaN</td>\n",
       "      <td>NaN</td>\n",
       "      <td>NaN</td>\n",
       "    </tr>\n",
       "    <tr>\n",
       "      <th>98451</th>\n",
       "      <td>NaN</td>\n",
       "      <td>NaN</td>\n",
       "      <td>NaN</td>\n",
       "      <td>NaN</td>\n",
       "      <td>NaN</td>\n",
       "      <td>NaN</td>\n",
       "      <td>NaN</td>\n",
       "      <td>NaN</td>\n",
       "      <td>NaN</td>\n",
       "      <td>NaN</td>\n",
       "    </tr>\n",
       "  </tbody>\n",
       "</table>\n",
       "<p>97158 rows × 10 columns</p>\n",
       "</div>"
      ],
      "text/plain": [
       "      discrep_profile_past_vote_2005 discrep_profile_past_vote_2010  \\\n",
       "1                                NaN                            NaN   \n",
       "2                                NaN                            NaN   \n",
       "3                                NaN                            NaN   \n",
       "4                                NaN                            NaN   \n",
       "5                                NaN                            NaN   \n",
       "...                              ...                            ...   \n",
       "98447                            NaN                            NaN   \n",
       "98448                            NaN                            NaN   \n",
       "98449                            NaN                            NaN   \n",
       "98450                            NaN                            NaN   \n",
       "98451                            NaN                            NaN   \n",
       "\n",
       "            discrep_profile_newspaper discrep_profile_turnout_2015  \\\n",
       "1      The Mirror / Daily Record|None                          NaN   \n",
       "2                                 NaN                          NaN   \n",
       "3                                 NaN                          NaN   \n",
       "4                                 NaN                          NaN   \n",
       "5                                 NaN                          NaN   \n",
       "...                               ...                          ...   \n",
       "98447                             NaN                          NaN   \n",
       "98448                             NaN                          NaN   \n",
       "98449                             NaN                          NaN   \n",
       "98450                             NaN                          NaN   \n",
       "98451                             NaN                          NaN   \n",
       "\n",
       "                         discrep_profile_gross_household  \\\n",
       "1      Â£10,000 to Â£14,999 per year|Â£25,000 to Â£29...   \n",
       "2      Â£50,000 to Â£59,999 per year|£60,000 to £69,9...   \n",
       "3      Â£5,000 to Â£9,999 per year|£5,000 to £9,999 p...   \n",
       "4                                                    NaN   \n",
       "5                                                    NaN   \n",
       "...                                                  ...   \n",
       "98447                                                NaN   \n",
       "98448                                                NaN   \n",
       "98449                                                NaN   \n",
       "98450                                                NaN   \n",
       "98451                                                NaN   \n",
       "\n",
       "                          discrep_profile_gross_personal  \\\n",
       "1                                                    NaN   \n",
       "2      Â£50,000 to Â£59,999 per year|£10,000 to £14,9...   \n",
       "3      Â£5,000 to Â£9,999 per year|£5,000 to £9,999 p...   \n",
       "4                                                    NaN   \n",
       "5                                                    NaN   \n",
       "...                                                  ...   \n",
       "98447                                                NaN   \n",
       "98448                                                NaN   \n",
       "98449                                                NaN   \n",
       "98450                                                NaN   \n",
       "98451                                                NaN   \n",
       "\n",
       "             discrep_disability discrep_profile_household_children  \\\n",
       "1      Yes, limited a little|No                                NaN   \n",
       "2                           NaN                                NaN   \n",
       "3                           NaN                                NaN   \n",
       "4                           NaN                                NaN   \n",
       "5                           NaN                                NaN   \n",
       "...                         ...                                ...   \n",
       "98447                       NaN                                NaN   \n",
       "98448                       NaN                                NaN   \n",
       "98449                       NaN                                NaN   \n",
       "98450                       NaN                                NaN   \n",
       "98451                       NaN                                NaN   \n",
       "\n",
       "      discrep_gender                      discrep_profile_education_age  \n",
       "1                NaN                                                NaN  \n",
       "2                NaN  20+|d|Foreman or Supervisor of Other Workers (...  \n",
       "3                NaN                                              20+|d  \n",
       "4                NaN                                                NaN  \n",
       "5                NaN                                                NaN  \n",
       "...              ...                                                ...  \n",
       "98447            NaN                                                NaN  \n",
       "98448            NaN                                                NaN  \n",
       "98449            NaN                                                NaN  \n",
       "98450            NaN                                                NaN  \n",
       "98451            NaN                                                NaN  \n",
       "\n",
       "[97158 rows x 10 columns]"
      ]
     },
     "execution_count": 347,
     "metadata": {},
     "output_type": "execute_result"
    }
   ],
   "source": [
    "df[[x for x in df.columns if \"discrep\" in x]].dropna(how='all',axis=1)"
   ]
  },
  {
   "cell_type": "code",
   "execution_count": 349,
   "metadata": {},
   "outputs": [
    {
     "data": {
      "text/plain": [
       "Female|Male    7\n",
       "Male|Female    1\n",
       "Name: discrep_gender, dtype: int64"
      ]
     },
     "execution_count": 349,
     "metadata": {},
     "output_type": "execute_result"
    }
   ],
   "source": [
    "df[\"discrep_gender\"].value_counts()"
   ]
  },
  {
   "cell_type": "code",
   "execution_count": 352,
   "metadata": {},
   "outputs": [
    {
     "data": {
      "text/plain": [
       "Int64Index([30929, 35852, 38388, 39244, 76846, 77218, 77875, 89977], dtype='int64')"
      ]
     },
     "execution_count": 352,
     "metadata": {},
     "output_type": "execute_result"
    }
   ],
   "source": [
    "BES_Panel.loc[df[df[\"discrep_gender\"].notnull()].index,]"
   ]
  },
  {
   "cell_type": "code",
   "execution_count": 353,
   "metadata": {},
   "outputs": [
    {
     "data": {
      "text/plain": [
       "Series([], dtype: float64)"
      ]
     },
     "execution_count": 353,
     "metadata": {},
     "output_type": "execute_result"
    }
   ],
   "source": [
    "search(BES_Panel,\"sexuality\")"
   ]
  },
  {
   "cell_type": "code",
   "execution_count": null,
   "metadata": {},
   "outputs": [],
   "source": []
  },
  {
   "cell_type": "code",
   "execution_count": 360,
   "metadata": {},
   "outputs": [
    {
     "data": {
      "text/plain": [
       "No, did not vote|Yes, voted    33\n",
       "Yes, voted|No, did not vote    21\n",
       "Yes, voted|Don't know          20\n",
       "No, did not vote|Don't know    19\n",
       "Don't know|Yes, voted          13\n",
       "Don't know|No, did not vote    11\n",
       "Name: discrep_profile_turnout_2015, dtype: int64"
      ]
     },
     "execution_count": 360,
     "metadata": {},
     "output_type": "execute_result"
    }
   ],
   "source": [
    "df[df[[x for x in df.columns if \"discrep\" in x]].dropna(how='all',axis=1).columns[3]].value_counts()"
   ]
  },
  {
   "cell_type": "code",
   "execution_count": 368,
   "metadata": {},
   "outputs": [
    {
     "data": {
      "text/plain": [
       "Female|Male    7\n",
       "Male|Female    1\n",
       "Name: discrep_gender, dtype: int64"
      ]
     },
     "execution_count": 368,
     "metadata": {},
     "output_type": "execute_result"
    }
   ],
   "source": [
    "df[df[[x for x in df.columns if \"discrep\" in x]].dropna(how='all',axis=1).columns[8]].value_counts().head(20)"
   ]
  },
  {
   "cell_type": "code",
   "execution_count": null,
   "metadata": {},
   "outputs": [],
   "source": []
  },
  {
   "cell_type": "code",
   "execution_count": 391,
   "metadata": {},
   "outputs": [
    {
     "name": "stdout",
     "output_type": "stream",
     "text": [
      "Wall time: 30.4 s\n"
     ]
    }
   ],
   "source": [
    "%%time\n",
    "(BES_code_folder, BES_small_data_files, BES_data_folder,\n",
    " BES_output_folder, BES_file_manifest, BES_R_data_files) = setup_directories()\n",
    "\n",
    "global BES_Panel, BES_numeric, BES_reduced, BES_reduced_with_na, BES_non_numeric\n",
    "\n",
    "df = pd.DataFrame()\n",
    "var_list = [\"profile_eurefturnout\", \"profile_ethnicity\", \"profile_religion\", \"countryOfBirth\", \"profile_past_vote_2015\"]\n",
    "\n",
    "for dataset_name in present_in_datasets:\n",
    "    \n",
    "    data_subfolder = BES_data_folder + dataset_name + os.sep\n",
    "\n",
    "    (manifest, dataset_filename, dataset_description, dataset_citation,\n",
    "     dataset_start, dataset_stop, dataset_wave) = get_manifest(dataset_name, BES_file_manifest)    \n",
    "    BES_Panel = pd.read_pickle(data_subfolder + dataset_filename.replace('.dta','.zip'),compression='zip')\n",
    "    pres_var_list = [x for x in var_list if x in BES_Panel.columns]\n",
    "    if \"id\" in BES_Panel.columns:\n",
    "        temp = BES_Panel[pres_var_list+[\"id\"]].set_index(\"id\").sort_index()\n",
    "    else:\n",
    "        temp = BES_Panel[pres_var_list]\n",
    "    temp.columns = [dataset_name+\"_\"+x for x in temp.columns]\n",
    "    df = pd.concat([df,temp],axis=1)\n",
    "    \n",
    "df.index = df.index.astype('int')\n",
    "# note - no extra rows over W19    "
   ]
  },
  {
   "cell_type": "code",
   "execution_count": 392,
   "metadata": {},
   "outputs": [
    {
     "name": "stdout",
     "output_type": "stream",
     "text": [
      "Wall time: 4min 56s\n"
     ]
    }
   ],
   "source": [
    "%%time\n",
    "\n",
    "number_of_unique_responses_per_row = {}\n",
    "\n",
    "for focal_var in var_list:\n",
    "    var_cols = [x for x in df.columns if focal_var in x]\n",
    "\n",
    "    number_of_unique_responses_per_row[focal_var] = df[var_cols].apply(lambda x: len((x.dropna()).unique()),axis=1)\n",
    "    number_of_unique_responses_per_row[focal_var].value_counts()"
   ]
  },
  {
   "cell_type": "code",
   "execution_count": 393,
   "metadata": {},
   "outputs": [
    {
     "name": "stdout",
     "output_type": "stream",
     "text": [
      "Wall time: 6.39 s\n"
     ]
    }
   ],
   "source": [
    "%%time\n",
    "\n",
    "for focal_var in var_list:\n",
    "    var_cols = [x for x in df.columns if focal_var in x]\n",
    "    df[\"nuniq_\"+focal_var] = number_of_unique_responses_per_row[focal_var]\n",
    "    df[\"discrep_\"+focal_var] = df[var_cols].loc[  df[\"nuniq_\"+focal_var]>=2 ].dropna(how='all',axis=1).apply(lambda x: \"|\".join([str(x) for x in x.dropna().unique()]),axis=1)\n",
    "    "
   ]
  },
  {
   "cell_type": "code",
   "execution_count": 397,
   "metadata": {},
   "outputs": [
    {
     "data": {
      "text/plain": [
       "Index(['discrep_profile_ethnicity', 'discrep_profile_religion',\n",
       "       'discrep_countryOfBirth'],\n",
       "      dtype='object')"
      ]
     },
     "execution_count": 397,
     "metadata": {},
     "output_type": "execute_result"
    }
   ],
   "source": [
    "df[[x for x in df.columns if \"discrep\" in x]].dropna(how='all',axis=1).columns"
   ]
  },
  {
   "cell_type": "code",
   "execution_count": 406,
   "metadata": {},
   "outputs": [
    {
     "data": {
      "text/plain": [
       "Other: Rest of world|Other: Commonwealth member country    27\n",
       "Other: Commonwealth member country|Other: Rest of world    27\n",
       "England|Other: Rest of world                               25\n",
       "Prefer not to answer|England                               15\n",
       "England|Wales                                              10\n",
       "Name: discrep_countryOfBirth, dtype: int64"
      ]
     },
     "execution_count": 406,
     "metadata": {},
     "output_type": "execute_result"
    }
   ],
   "source": [
    "df[['discrep_profile_ethnicity', 'discrep_profile_religion',\n",
    "       'discrep_countryOfBirth'][2]].value_counts().head(5)"
   ]
  },
  {
   "cell_type": "code",
   "execution_count": 404,
   "metadata": {},
   "outputs": [
    {
     "data": {
      "text/plain": [
       "Yes - Church of England/Anglican/Episcopal|No, I do not regard myself as belonging to any particular religion.    1615\n",
       "No, I do not regard myself as belonging to any particular religion.|Yes - Church of England/Anglican/Episcopal    1434\n",
       "No, I do not regard myself as belonging to any particular religion.|Prefer not to say                              705\n",
       "Yes - Other|No, I do not regard myself as belonging to any particular religion.                                    300\n",
       "Yes - Roman Catholic|No, I do not regard myself as belonging to any particular religion.                           294\n",
       "Name: discrep_profile_religion, dtype: int64"
      ]
     },
     "execution_count": 404,
     "metadata": {},
     "output_type": "execute_result"
    }
   ],
   "source": [
    "df[['discrep_profile_ethnicity', 'discrep_profile_religion',\n",
    "       'discrep_countryOfBirth'][1]].value_counts().head(5)"
   ]
  },
  {
   "cell_type": "code",
   "execution_count": 407,
   "metadata": {},
   "outputs": [
    {
     "data": {
      "text/plain": [
       "Any other white background|White British        6\n",
       "White British|Any other white background        4\n",
       "Any other mixed background|White British        3\n",
       "Prefer not to say|White British                 2\n",
       "Any other Asian background|Prefer not to say    1\n",
       "Name: discrep_profile_ethnicity, dtype: int64"
      ]
     },
     "execution_count": 407,
     "metadata": {},
     "output_type": "execute_result"
    }
   ],
   "source": [
    "df[['discrep_profile_ethnicity', 'discrep_profile_religion',\n",
    "       'discrep_countryOfBirth'][0]].value_counts().head(5)"
   ]
  },
  {
   "cell_type": "code",
   "execution_count": null,
   "metadata": {},
   "outputs": [],
   "source": []
  },
  {
   "cell_type": "code",
   "execution_count": null,
   "metadata": {},
   "outputs": [],
   "source": [
    "##############################################################################\n",
    "\n",
    "# comparing W19_comb\n",
    "# BES_Panel,BES_Panelv02\n",
    "\n"
   ]
  },
  {
   "cell_type": "code",
   "execution_count": 3,
   "metadata": {},
   "outputs": [],
   "source": [
    "BES_Panelv02 = pd.read_pickle(\"..\\\\BES_analysis_data\\\\\"+\"W19_comb\"+os.sep+\"BES_Panelv02\",compression='zip')"
   ]
  },
  {
   "cell_type": "code",
   "execution_count": 4,
   "metadata": {},
   "outputs": [
    {
     "data": {
      "text/plain": [
       "((97158, 7911), (97006, 8080))"
      ]
     },
     "execution_count": 4,
     "metadata": {},
     "output_type": "execute_result"
    }
   ],
   "source": [
    "BES_Panel.shape, BES_Panelv02.shape"
   ]
  },
  {
   "cell_type": "code",
   "execution_count": 184,
   "metadata": {},
   "outputs": [
    {
     "data": {
      "text/plain": [
       "mpNameW1    30587\n",
       "dtype: int64"
      ]
     },
     "execution_count": 184,
     "metadata": {},
     "output_type": "execute_result"
    }
   ],
   "source": [
    "search(BES_Panelv02,\"mpname\")"
   ]
  },
  {
   "cell_type": "code",
   "execution_count": 186,
   "metadata": {},
   "outputs": [
    {
     "data": {
      "text/plain": [
       "103               pastvote_ge_2019W19\n",
       "72              profile_education_age\n",
       "57                  profile_ethnicity\n",
       "11            profile_gross_household\n",
       "69             profile_gross_personal\n",
       "42               profile_house_tenure\n",
       "48         profile_household_children\n",
       "17      profile_household_childrenW18\n",
       "59      profile_household_childrenW19\n",
       "81             profile_household_size\n",
       "6                         profile_lea\n",
       "102                     profile_leaW7\n",
       "8                    profile_mpnameW2\n",
       "45                   profile_mpnameW3\n",
       "98                  profile_newspaper\n",
       "4                      profile_oslaua\n",
       "35                   profile_religion\n",
       "55                 profile_scotRefW17\n",
       "19                 profile_scotRefW18\n",
       "26                 profile_scotRefW19\n",
       "0            profile_work_industryW14\n",
       "51           profile_work_industryW17\n",
       "70           profile_work_industryW18\n",
       "40           profile_work_industryW19\n",
       "87       profile_work_organisationW14\n",
       "92       profile_work_organisationW17\n",
       "15       profile_work_organisationW18\n",
       "34       profile_work_organisationW19\n",
       "91     profile_work_organisationW1_W3\n",
       "93     profile_work_responsibilityW14\n",
       "56     profile_work_responsibilityW17\n",
       "44     profile_work_responsibilityW18\n",
       "49     profile_work_responsibilityW19\n",
       "66            profile_work_statW1_W10\n",
       "67               profile_work_typeW11\n",
       "53               profile_work_typeW14\n",
       "52               profile_work_typeW17\n",
       "100              profile_work_typeW18\n",
       "78               profile_work_typeW19\n",
       "36             profile_work_typeW2_W4\n",
       "31             profile_work_typeW7W10\n",
       "80               scotRefTurnoutW3_W14\n",
       "75                  scotRefVoteW3_W14\n",
       "97             scotReferendumRetroW11\n",
       "13             scotReferendumRetroW15\n",
       "23              scotReferendumVoteW11\n",
       "27              scotReferendumVoteW15\n",
       "90                       sexualityW14\n",
       "20                          voted2015\n",
       "10                       voted2017W19\n",
       "dtype: object"
      ]
     },
     "execution_count": 186,
     "metadata": {},
     "output_type": "execute_result"
    }
   ],
   "source": [
    "gone_vars = list(set(BES_Panel.columns) - set(BES_Panelv02.columns))\n",
    "old_stubs = {re.match(\"(.*?W\\d+)\",x).groups()[0]:x for x in gone_vars if re.match(\".*W\\d+W\\d+\",x)}\n",
    "pd.Series([x for x in gone_vars if x not in old_to_new_dict.keys()]).sort_values().head(140)[-50:]\n",
    "\n",
    "# countryOfBirth/countryOfBirthW17 -> disappeared\n",
    "# euRefLA/profile_lea/profile_leaW7  -> disappeared \n",
    "# profile_household_childrenW18/profile_household_childrenW19/profile_household_children  -> disappeared\n",
    "# profile_mpnameW2/profile_mpnameW3  -> disappeared\n",
    "# profile_work_type|profile_work_organisation|profile_work_responsibility|profile_work_industry  -> disappeared\n",
    "\n",
    "\n",
    "\n",
    "# currentUnionMemberW16/currentUnionMemberW17/everUnionMemberW16/everUnionMemberW17 -> transformed\n",
    "# edlevelW11/educationW11 -> transformed\n",
    "\n",
    "# euRefpastVoteW14/euRefpastVoteW17 -> transformed\n",
    "# mother/fatherNumEmployeesWX -> parentNumEmployees\n",
    "# headHouseholdPastWX -> headHouseholdPast\n",
    "\n",
    "\n",
    "# 102                 pastvote_EURefW17\n",
    "# 89               pastvote_eup_2019W18\n",
    "# 2                pastvote_eup_2019W19\n",
    "# 118               pastvote_ge_2019W19\n",
    "# 26                          voted2015\n",
    "# 12                       voted2017W19"
   ]
  },
  {
   "cell_type": "code",
   "execution_count": 66,
   "metadata": {},
   "outputs": [],
   "source": [
    "new_vars= list(set(BES_Panelv02.columns) - set(BES_Panel.columns))\n",
    "# [x for x in new_vars if \n",
    "new_stubs = {x:re.match(\"(.*?W\\d+)\",x).groups()[0] for x in new_vars if re.match(\".*W\\d+_\",x)}\n",
    "# [x for x in new_vars if not re.match(\"(age|pano|pcon|country|gor)|(p_)|(.*W\\d+_W\\d+)|(likeJohnson|enviroGrowth|oslaua|parentNumEmployees)\",x)]\n",
    "\n",
    "# new columns\n",
    "# profile style columns for waves that weren't included before (age/pano/pcon/country/gor/)\n",
    "# enviroGrowth has reappeared???\n",
    "# variables where the formatting for multiple waves has been made more consistent\n",
    "# likeBoris -> likeJohnson"
   ]
  },
  {
   "cell_type": "code",
   "execution_count": 70,
   "metadata": {},
   "outputs": [
    {
     "name": "stdout",
     "output_type": "stream",
     "text": [
      "doesn't appear to have older analogue motherVoteW3W14_W17\n",
      "doesn't appear to have older analogue fatherVoteW3W14_W17\n"
     ]
    }
   ],
   "source": [
    "# al2W10_W12\n",
    "old_to_new_dict = {}\n",
    "for new_key in new_stubs.keys():\n",
    "    if new_stubs[new_key] in old_stubs.keys():\n",
    "        old_to_new_dict[old_stubs[new_stubs[new_key]]] = new_key\n",
    "    else:\n",
    "        print(\"doesn't appear to have older analogue\",new_key)\n"
   ]
  },
  {
   "cell_type": "code",
   "execution_count": 198,
   "metadata": {},
   "outputs": [],
   "source": [
    "for new_var in new_vars:\n",
    "    if \"likeJohnson\" in new_var:\n",
    "        old_to_new_dict[new_var.replace(\"likeJohnson\",\"likeBoris\")] = new_var\n",
    "    elif \"parentNumEmployees\" in new_var:\n",
    "        old_to_new_dict[new_var.replace(\"parentNumEmployees\",\"fatherNumEmployees\")] = new_var\n",
    "        old_to_new_dict[new_var.replace(\"parentNumEmployees\",\"motherNumEmployees\")] = new_var\n",
    "#     else:\n",
    "#         print(\"doesn't appear to have older analogue\",new_key)"
   ]
  },
  {
   "cell_type": "code",
   "execution_count": 222,
   "metadata": {},
   "outputs": [],
   "source": [
    "old_to_new_dict[\"profile_sexualityW10\"] = \"xsexualityW10\"\n",
    "old_to_new_dict[\"sexualityW17\"] = \"p_sexualityW17\"\n",
    "\n",
    "\n",
    "old_to_new_dict[\"profile_scotref_vote\"] = \"p_vote_scot_ref\"\n",
    "old_to_new_dict[\"profile_scotref_turnout\"] = \"p_turnout_scot_ref\"\n",
    "old_to_new_dict[\"pastvote_ge_2019W19\"] = \"p_past_vote_2019\"\n",
    "old_to_new_dict[\"voted2015\"] = \"voted2015newwordingW15\"\n",
    "\n",
    "\n",
    "old_to_new_dict[\"newspaperReadW15\"] = \"p_paper_readW15\"\n",
    "old_to_new_dict[\"profile_newspaper2W12\"] = \"p_paper_readW12\"\n",
    "old_to_new_dict[\"profiles_newspaper2W16\"] = \"p_paper_readW16\"\n",
    "old_to_new_dict[\"profiles_newspaper2W17\"] = \"p_paper_readW17\"\n",
    "\n",
    "old_to_new_dict[\"ethnicity2W15\"] = \"p_ethnicityW15\"\n",
    "old_to_new_dict[\"ethnicity2W16\"] = \"p_ethnicityW16\"\n",
    "old_to_new_dict[\"profile_ethnicity2W17\"] = \"p_ethnicityW17\"\n",
    "old_to_new_dict[\"profile_ethnicity2W18\"] = \"p_ethnicityW18\"\n",
    "old_to_new_dict[\"profile_ethnicity2W19\"] = \"p_ethnicityW19\"\n",
    "\n"
   ]
  },
  {
   "cell_type": "code",
   "execution_count": 223,
   "metadata": {},
   "outputs": [
    {
     "name": "stdout",
     "output_type": "stream",
     "text": [
      "pastvote_eup_2019W19  not in new vars\n",
      "euRefpastVoteW17  not in new vars\n",
      "voted2017W19  not in new vars\n",
      "scotReferendumRetroW15  not in new vars\n",
      "profile_scotRefW18  not in new vars\n",
      "scotReferendumVoteW11  not in new vars\n",
      "profile_scotRefW19  not in new vars\n",
      "scotReferendumVoteW15  not in new vars\n",
      "euRefpastVoteW14  not in new vars\n",
      "profile_scotRefW17  not in new vars\n",
      "profile_work_statW1_W10  not in new vars\n",
      "scotRefVoteW3_W14  not in new vars\n",
      "pastvote_eup_2019W18  not in new vars\n",
      "scotRefTurnoutW3_W14  not in new vars\n",
      "pastvote_EURefW17  not in new vars\n",
      "scotReferendumRetroW11  not in new vars\n"
     ]
    }
   ],
   "source": [
    "\n",
    "drop_vars = [\"work_type\",\"work_organisation\",\"work_responsibility\",\"work_industry\",\"profile_lea\",\n",
    "             \"profile_oslaua\",\"profile_mpname\",\"education\",\"fatherVote\",\"motherVote\",\"headHouseholdPast\",\n",
    "             \"headHouseholdPast\",\"motherNumEmployees\",\"fatherNumEmployees\",\"edlevel\",\"everUnionMember\",\n",
    "             \"currentUnionMember\",\"profile_household_children\",\"sexuality\",\"countryOfBirth\"]\n",
    "\n",
    "for x in [x for x in gone_vars if \"profile\" in x and x not in old_to_new_dict.keys()]:\n",
    "    \n",
    "    if x.replace(\"profile\",\"p\") in new_vars:\n",
    "        old_to_new_dict[x] = x.replace(\"profile\",\"p\")\n",
    "    elif x.replace(\"profile_household_size\",\"p_hh_size\") in new_vars:\n",
    "        old_to_new_dict[x] = x.replace(\"profile_household_size\",\"p_hh_size\")\n",
    "    elif x.replace(\"profile_marital_stat\",\"p_marital\") in new_vars:\n",
    "        old_to_new_dict[x] = x.replace(\"profile_marital_stat\",\"p_marital\")\n",
    "    elif x.replace(\"profile_house_tenure\",\"p_housing\") in new_vars:\n",
    "        old_to_new_dict[x] = x.replace(\"profile_house_tenure\",\"p_housing\")\n",
    "    elif x.replace(\"profile_socialgrade_cie\",\"p_socgrade\") in new_vars:\n",
    "        old_to_new_dict[x] = x.replace(\"profile_socialgrade_cie\",\"p_socgrade\")\n",
    "    elif x.replace(\"profile_newspaper\",\"p_paper_read\") in new_vars:\n",
    "        old_to_new_dict[x] = x.replace(\"profile_newspaper\",\"p_paper_read\")\n",
    "        \n",
    "        \n",
    "        \n",
    "        \n",
    "        \n",
    "\n",
    "        \n",
    "\n",
    "for x in [x for x in gone_vars if re.match(\"educationW\\d+|edlevelW\\d+\",x)]:\n",
    "    if x.replace(\"education\",\"p_education\") in new_vars:\n",
    "        old_to_new_dict[x] = x.replace(\"education\",\"p_education\")\n",
    "    if x.replace(\"edlevel\",\"p_edlevel\") in new_vars:\n",
    "        old_to_new_dict[x] = x.replace(\"edlevel\",\"p_edlevel\")        \n",
    "        \n",
    "# for x in [x for x in gone_vars if re.match(\"motherNumEmployeesW\\d+|fatherNumEmployeesW\\d+\",x)]:\n",
    "#     if x.replace(\"education\",\"p_education\") in new_vars:\n",
    "#         old_to_new_dict[x] = x.replace(\"education\",\"p_education\")\n",
    "# #     if x.replace(\"edlevel\",\"p_edlevel\") in new_vars:\n",
    "# #         old_to_new_dict[x] = x.replace(\"edlevel\",\"p_edlevel\")    \n",
    "    \n",
    "for x in gone_vars:\n",
    "    if not np.any([y in x for y in drop_vars]) and re.match(\"\\d\",x[-1]) and x not in old_to_new_dict.keys():\n",
    "        print(x, \" not in new vars\")        \n",
    "        \n",
    "# many of the \"amalgamated waveless\" variables have disappeared\n",
    "# work_type|organisation|responsibility|industry\n",
    "# profile_lea,profile_leaW17,profile_oslaua\n",
    "# profile_mpnameW2,profile_mpnameW3\n",
    "\n",
    "\n",
    "# profile_scotRefW17,profile_scotRefW18,profile_scotRefW19\n",
    "# profile_household_childrenW18,profile_household_childrenW19\n",
    "# profile_work_statW1_W10\n"
   ]
  },
  {
   "cell_type": "code",
   "execution_count": null,
   "metadata": {},
   "outputs": [],
   "source": [
    "# pastvote_eup_2019W19  not in new vars\n",
    "# euRefpastVoteW17  not in new vars\n",
    "# voted2017W19  not in new vars\n",
    "# # voted2015  not in new vars -> voted2015newwordingW15\n",
    "# euRefpastVoteW14  not in new vars\n",
    "# pastvote_eup_2019W18  not in new vars\n",
    "# pastvote_EURefW17  not in new vars\n",
    "# # pastvote_ge_2019W19  not in new vars"
   ]
  },
  {
   "cell_type": "code",
   "execution_count": 169,
   "metadata": {},
   "outputs": [
    {
     "data": {
      "text/plain": [
       "0                    29664\n",
       "1                     3494\n",
       "2                     2904\n",
       "3                      655\n",
       "Prefer not to say      654\n",
       "4                      182\n",
       "Don't know             150\n",
       "5 or more               82\n",
       "6 or more                5\n",
       "Name: profile_household_childrenW18, dtype: int64"
      ]
     },
     "execution_count": 169,
     "metadata": {},
     "output_type": "execute_result"
    }
   ],
   "source": [
    "BES_Panel[\"profile_household_childrenW18\"].value_counts()"
   ]
  },
  {
   "cell_type": "code",
   "execution_count": null,
   "metadata": {},
   "outputs": [],
   "source": []
  },
  {
   "cell_type": "code",
   "execution_count": null,
   "metadata": {},
   "outputs": [],
   "source": []
  },
  {
   "cell_type": "code",
   "execution_count": 168,
   "metadata": {},
   "outputs": [
    {
     "data": {
      "text/plain": [
       "2                    17458\n",
       "1                     7928\n",
       "3                     5700\n",
       "4                     4211\n",
       "5                     1210\n",
       "Prefer not to say      569\n",
       "6                      345\n",
       "Don't know             112\n",
       "7                      106\n",
       "8 or more               71\n",
       "Name: profile_household_sizeW18, dtype: int64"
      ]
     },
     "execution_count": 168,
     "metadata": {},
     "output_type": "execute_result"
    }
   ],
   "source": [
    "BES_Panel[\"profile_household_sizeW18\"].value_counts()"
   ]
  },
  {
   "cell_type": "code",
   "execution_count": 220,
   "metadata": {},
   "outputs": [
    {
     "data": {
      "text/plain": [
       "genElecTurnoutRetroW6         30258\n",
       "genElecTurnoutRetroW7         30895\n",
       "genElecTurnoutRetroW13        31136\n",
       "genElecTurnoutRetro2017W18     9369\n",
       "genElecTurnoutRetroW19        32177\n",
       "dtype: int64"
      ]
     },
     "execution_count": 220,
     "metadata": {},
     "output_type": "execute_result"
    }
   ],
   "source": [
    "search(BES_Panelv02,\"genElecTurnoutRetro\")"
   ]
  },
  {
   "cell_type": "code",
   "execution_count": 221,
   "metadata": {},
   "outputs": [
    {
     "data": {
      "text/plain": [
       "genElecTurnoutRetroW6         30258\n",
       "genElecTurnoutRetroW13        31136\n",
       "genElecTurnoutRetro2017W18     9369\n",
       "genElecTurnoutRetroW19        32177\n",
       "dtype: int64"
      ]
     },
     "execution_count": 221,
     "metadata": {},
     "output_type": "execute_result"
    }
   ],
   "source": [
    "search(BES_Panel,\"genElecTurnoutRetro\")"
   ]
  },
  {
   "cell_type": "code",
   "execution_count": 208,
   "metadata": {},
   "outputs": [
    {
     "data": {
      "text/html": [
       "['p_sexualityW13', 'p_sexualityW9', 'p_religionW6', 'p_disabilityW13', 'oslauaW9', 'p_paper_readW4', 'p_gross_personalW17', 'p_edlevelUniW8', 'p_religionW1', 'p_gross_householdW1', 'p_edlevelW5', 'p_maritalW6', 'p_parentW10', 'p_sexualityW15', 'countryW18', 'p_parentW15', 'p_edlevelW9', 'p_gross_personalW1', 'p_maritalW12', 'oslauaW19', 'p_hh_sizeW17', 'oslauaW14', 'p_hh_sizeW11', 'gorW20', 'p_parentW11', 'p_gross_personalW2', 'p_parentW9', 'p_edlevelW4', 'p_education_ageW8', 'p_ethnicityW6', 'p_disabilityW4', 'oslauaW2', 'p_ethnicityW1', 'p_maritalW3', 'p_sexualityW18', 'p_hh_sizeW14', 'p_socgradeW11', 'p_turnout_2010', 'p_disabilityW14', 'p_gross_personalW13', 'p_parentW16', 'p_sexualityW2', 'oslauaW16', 'p_disabilityW2', 'p_work_statW9', 'oslauaW15', 'p_past_vote_2019', 'p_religionW2', 'enviroGrowthW17', 'p_parentW8', 'p_turnout_2005', 'ageW3', 'enviroGrowthW7', 'p_gross_personalW4', 'p_scot_list_vote_2011', 'oslauaW3', 'p_edlevelUniW19', 'gorW18', 'p_housingW3', 'p_paper_readW6', 'p_maritalW7', 'p_disabilityW12', 'p_ethnicityW13', 'p_edlevelW8', 'p_educationW8', 'p_hh_sizeW9', 'p_sexualityW8', 'oslauaW10', 'p_edlevelUniW9', 'p_housingW5', 'p_education_ageW12', 'p_gross_personalW16', 'p_disabilityW16', 'p_paper_readW14', 'p_edlevelUniW17', 'p_maritalW9', 'p_gross_householdW3', 'oslauaW11', 'p_hh_sizeW13', 'p_disabilityW18', 'p_disabilityW15', 'motherVoteW3W14_W17', 'p_edlevelUniW7', 'p_maritalW1', 'p_paper_readW8', 'p_scot_const_vote_2016', 'p_sexualityW3', 'p_maritalW4', 'p_hh_sizeW16', 'p_sexualityW6', 'p_education_ageW1', 'p_maritalW8', 'p_scot_const_vote_2011', 'p_ethnicityW4', 'p_hh_sizeW3', 'p_sexualityW11', 'p_ethnicityW10', 'p_sexualityW4', 'p_disabilityW1', 'p_ethnicityW3', 'p_hh_sizeW6', 'p_work_statW15', 'p_paper_readW3', 'p_work_statW2', 'countryW4', 'p_welsh_const_vote_2016', 'p_gross_householdW4', 'panoW18', 'p_socgradeW2', 'p_housingW2', 'p_hh_sizeW12', 'p_sexualityW7', 'oslauaW1', 'p_paper_readW19', 'p_hh_sizeW2', 'oslauaW18', 'p_gross_householdW9', 'p_parentW13', 'p_parentW17', 'p_sexualityW19', 'p_housingW19', 'oslauaW13', 'p_disabilityW11', 'p_education_ageW15', 'p_edlevelUniW10', 'panoW4', 'p_religionW7', 'p_educationW10', 'p_education_ageW17', 'oslauaW17', 'p_parentW14', 'oslauaW5', 'p_sexualityW10', 'p_disabilityW17', 'p_disabilityW3', 'p_welsh_list_vote_2016', 'p_hh_sizeW4', 'p_socgradeW9', 'p_gross_householdW5', 'oslauaW8', 'p_paper_readW9', 'oslauaW6', 'p_work_statW6', 'p_hh_sizeW8', 'p_religionW18', 'p_gross_personalW3', 'p_gross_personalW15', 'p_work_statW1', 'p_education_ageW3', 'p_edlevelW2', 'p_work_statW10', 'p_edlevelUniW18', 'p_scot_list_vote_2016', 'p_paper_readW7', 'enviroGrowthW16', 'p_ethnicityW14', 'p_ethnicityW9', 'p_work_statW5', 'p_sexualityW14', 'p_edlevelW3', 'p_education_ageW10', 'p_work_statW8', 'p_religionW4', 'genElecTurnoutRetroW7', 'p_gross_personalW11', 'p_housingW7', 'pconW18', 'p_housingW8', 'fatherVoteW3W14_W17', 'p_maritalW5', 'p_edlevelUniW12', 'p_gross_personalW10', 'pconW4', 'p_education_ageW16', 'p_ethnicityW11', 'p_hh_sizeW5', 'p_gross_personalW8', 'p_housingW18', 'p_ethnicityW2', 'p_edlevelUniW14', 'p_edlevelW1', 'p_educationW5', 'p_edlevelW6', 'p_sexualityW16', 'p_gross_householdW8', 'p_edlevelUniW11', 'p_parentW12', 'p_education_ageW14', 'p_paper_readW1', 'p_disabilityW10', 'p_maritalW19', 'p_gross_householdW6', 'p_socgradeW6', 'p_turnout_2019', 'p_maritalW2', 'p_religionW3', 'p_gross_personalW12', 'p_gross_personalW14', 'p_housingW9', 'p_edlevelW10', 'p_hh_sizeW15', 'oslauaW4', 'ageW2', 'p_gross_householdW2', 'p_disabilityW7', 'p_ethnicityW5', 'p_education_ageW11', 'p_religionW5', 'oslauaW12', 'p_education_ageW5', 'p_gross_personalW6', 'p_disabilityW5', 'p_gross_personalW9', 'p_paper_readW5', 'p_sexualityW12', 'p_education_ageW6', 'enviroGrowthW4', 'ageW6', 'gorW4', 'p_edlevelUniW15', 'ageW10', 'ageW5', 'p_work_statW3', 'p_housingW4', 'p_ethnicityW8', 'p_housingW1', 'p_parentW19', 'p_ethnicityW12', 'p_gross_personalW5', 'p_education_ageW2', 'oslauaW7', 'p_parentW18', 'p_maritalW10', 'p_edlevelUniW16', 'ageW4', 'p_disabilityW6', 'p_housingW6', 'p_religionW19', 'p_socgradeW1', 'p_socgradeW10', 'p_edlevelUniW13', 'p_sexualityW5', 'p_disabilityW8', 'p_socgradeW4', 'p_hh_sizeW1', 'p_work_statW16', 'countryW20', 'p_education_ageW9', 'p_education_ageW4', 'p_paper_readW18', 'p_socgradeW5', 'voted2015newwordingW15', 'p_educationW1', 'p_disabilityW19', 'p_paper_readW2', 'p_socgradeW3', 'p_religionW9', 'p_work_statW4', 'p_religionW8', 'p_sexualityW1', 'p_disabilityW9']"
      ],
      "text/plain": [
       "['p_sexualityW13',\n",
       " 'p_sexualityW9',\n",
       " 'p_religionW6',\n",
       " 'p_disabilityW13',\n",
       " 'oslauaW9',\n",
       " 'p_paper_readW4',\n",
       " 'p_gross_personalW17',\n",
       " 'p_edlevelUniW8',\n",
       " 'p_religionW1',\n",
       " 'p_gross_householdW1',\n",
       " 'p_edlevelW5',\n",
       " 'p_maritalW6',\n",
       " 'p_parentW10',\n",
       " 'p_sexualityW15',\n",
       " 'countryW18',\n",
       " 'p_parentW15',\n",
       " 'p_edlevelW9',\n",
       " 'p_gross_personalW1',\n",
       " 'p_maritalW12',\n",
       " 'oslauaW19',\n",
       " 'p_hh_sizeW17',\n",
       " 'oslauaW14',\n",
       " 'p_hh_sizeW11',\n",
       " 'gorW20',\n",
       " 'p_parentW11',\n",
       " 'p_gross_personalW2',\n",
       " 'p_parentW9',\n",
       " 'p_edlevelW4',\n",
       " 'p_education_ageW8',\n",
       " 'p_ethnicityW6',\n",
       " 'p_disabilityW4',\n",
       " 'oslauaW2',\n",
       " 'p_ethnicityW1',\n",
       " 'p_maritalW3',\n",
       " 'p_sexualityW18',\n",
       " 'p_hh_sizeW14',\n",
       " 'p_socgradeW11',\n",
       " 'p_turnout_2010',\n",
       " 'p_disabilityW14',\n",
       " 'p_gross_personalW13',\n",
       " 'p_parentW16',\n",
       " 'p_sexualityW2',\n",
       " 'oslauaW16',\n",
       " 'p_disabilityW2',\n",
       " 'p_work_statW9',\n",
       " 'oslauaW15',\n",
       " 'p_past_vote_2019',\n",
       " 'p_religionW2',\n",
       " 'enviroGrowthW17',\n",
       " 'p_parentW8',\n",
       " 'p_turnout_2005',\n",
       " 'ageW3',\n",
       " 'enviroGrowthW7',\n",
       " 'p_gross_personalW4',\n",
       " 'p_scot_list_vote_2011',\n",
       " 'oslauaW3',\n",
       " 'p_edlevelUniW19',\n",
       " 'gorW18',\n",
       " 'p_housingW3',\n",
       " 'p_paper_readW6',\n",
       " 'p_maritalW7',\n",
       " 'p_disabilityW12',\n",
       " 'p_ethnicityW13',\n",
       " 'p_edlevelW8',\n",
       " 'p_educationW8',\n",
       " 'p_hh_sizeW9',\n",
       " 'p_sexualityW8',\n",
       " 'oslauaW10',\n",
       " 'p_edlevelUniW9',\n",
       " 'p_housingW5',\n",
       " 'p_education_ageW12',\n",
       " 'p_gross_personalW16',\n",
       " 'p_disabilityW16',\n",
       " 'p_paper_readW14',\n",
       " 'p_edlevelUniW17',\n",
       " 'p_maritalW9',\n",
       " 'p_gross_householdW3',\n",
       " 'oslauaW11',\n",
       " 'p_hh_sizeW13',\n",
       " 'p_disabilityW18',\n",
       " 'p_disabilityW15',\n",
       " 'motherVoteW3W14_W17',\n",
       " 'p_edlevelUniW7',\n",
       " 'p_maritalW1',\n",
       " 'p_paper_readW8',\n",
       " 'p_scot_const_vote_2016',\n",
       " 'p_sexualityW3',\n",
       " 'p_maritalW4',\n",
       " 'p_hh_sizeW16',\n",
       " 'p_sexualityW6',\n",
       " 'p_education_ageW1',\n",
       " 'p_maritalW8',\n",
       " 'p_scot_const_vote_2011',\n",
       " 'p_ethnicityW4',\n",
       " 'p_hh_sizeW3',\n",
       " 'p_sexualityW11',\n",
       " 'p_ethnicityW10',\n",
       " 'p_sexualityW4',\n",
       " 'p_disabilityW1',\n",
       " 'p_ethnicityW3',\n",
       " 'p_hh_sizeW6',\n",
       " 'p_work_statW15',\n",
       " 'p_paper_readW3',\n",
       " 'p_work_statW2',\n",
       " 'countryW4',\n",
       " 'p_welsh_const_vote_2016',\n",
       " 'p_gross_householdW4',\n",
       " 'panoW18',\n",
       " 'p_socgradeW2',\n",
       " 'p_housingW2',\n",
       " 'p_hh_sizeW12',\n",
       " 'p_sexualityW7',\n",
       " 'oslauaW1',\n",
       " 'p_paper_readW19',\n",
       " 'p_hh_sizeW2',\n",
       " 'oslauaW18',\n",
       " 'p_gross_householdW9',\n",
       " 'p_parentW13',\n",
       " 'p_parentW17',\n",
       " 'p_sexualityW19',\n",
       " 'p_housingW19',\n",
       " 'oslauaW13',\n",
       " 'p_disabilityW11',\n",
       " 'p_education_ageW15',\n",
       " 'p_edlevelUniW10',\n",
       " 'panoW4',\n",
       " 'p_religionW7',\n",
       " 'p_educationW10',\n",
       " 'p_education_ageW17',\n",
       " 'oslauaW17',\n",
       " 'p_parentW14',\n",
       " 'oslauaW5',\n",
       " 'p_sexualityW10',\n",
       " 'p_disabilityW17',\n",
       " 'p_disabilityW3',\n",
       " 'p_welsh_list_vote_2016',\n",
       " 'p_hh_sizeW4',\n",
       " 'p_socgradeW9',\n",
       " 'p_gross_householdW5',\n",
       " 'oslauaW8',\n",
       " 'p_paper_readW9',\n",
       " 'oslauaW6',\n",
       " 'p_work_statW6',\n",
       " 'p_hh_sizeW8',\n",
       " 'p_religionW18',\n",
       " 'p_gross_personalW3',\n",
       " 'p_gross_personalW15',\n",
       " 'p_work_statW1',\n",
       " 'p_education_ageW3',\n",
       " 'p_edlevelW2',\n",
       " 'p_work_statW10',\n",
       " 'p_edlevelUniW18',\n",
       " 'p_scot_list_vote_2016',\n",
       " 'p_paper_readW7',\n",
       " 'enviroGrowthW16',\n",
       " 'p_ethnicityW14',\n",
       " 'p_ethnicityW9',\n",
       " 'p_work_statW5',\n",
       " 'p_sexualityW14',\n",
       " 'p_edlevelW3',\n",
       " 'p_education_ageW10',\n",
       " 'p_work_statW8',\n",
       " 'p_religionW4',\n",
       " 'genElecTurnoutRetroW7',\n",
       " 'p_gross_personalW11',\n",
       " 'p_housingW7',\n",
       " 'pconW18',\n",
       " 'p_housingW8',\n",
       " 'fatherVoteW3W14_W17',\n",
       " 'p_maritalW5',\n",
       " 'p_edlevelUniW12',\n",
       " 'p_gross_personalW10',\n",
       " 'pconW4',\n",
       " 'p_education_ageW16',\n",
       " 'p_ethnicityW11',\n",
       " 'p_hh_sizeW5',\n",
       " 'p_gross_personalW8',\n",
       " 'p_housingW18',\n",
       " 'p_ethnicityW2',\n",
       " 'p_edlevelUniW14',\n",
       " 'p_edlevelW1',\n",
       " 'p_educationW5',\n",
       " 'p_edlevelW6',\n",
       " 'p_sexualityW16',\n",
       " 'p_gross_householdW8',\n",
       " 'p_edlevelUniW11',\n",
       " 'p_parentW12',\n",
       " 'p_education_ageW14',\n",
       " 'p_paper_readW1',\n",
       " 'p_disabilityW10',\n",
       " 'p_maritalW19',\n",
       " 'p_gross_householdW6',\n",
       " 'p_socgradeW6',\n",
       " 'p_turnout_2019',\n",
       " 'p_maritalW2',\n",
       " 'p_religionW3',\n",
       " 'p_gross_personalW12',\n",
       " 'p_gross_personalW14',\n",
       " 'p_housingW9',\n",
       " 'p_edlevelW10',\n",
       " 'p_hh_sizeW15',\n",
       " 'oslauaW4',\n",
       " 'ageW2',\n",
       " 'p_gross_householdW2',\n",
       " 'p_disabilityW7',\n",
       " 'p_ethnicityW5',\n",
       " 'p_education_ageW11',\n",
       " 'p_religionW5',\n",
       " 'oslauaW12',\n",
       " 'p_education_ageW5',\n",
       " 'p_gross_personalW6',\n",
       " 'p_disabilityW5',\n",
       " 'p_gross_personalW9',\n",
       " 'p_paper_readW5',\n",
       " 'p_sexualityW12',\n",
       " 'p_education_ageW6',\n",
       " 'enviroGrowthW4',\n",
       " 'ageW6',\n",
       " 'gorW4',\n",
       " 'p_edlevelUniW15',\n",
       " 'ageW10',\n",
       " 'ageW5',\n",
       " 'p_work_statW3',\n",
       " 'p_housingW4',\n",
       " 'p_ethnicityW8',\n",
       " 'p_housingW1',\n",
       " 'p_parentW19',\n",
       " 'p_ethnicityW12',\n",
       " 'p_gross_personalW5',\n",
       " 'p_education_ageW2',\n",
       " 'oslauaW7',\n",
       " 'p_parentW18',\n",
       " 'p_maritalW10',\n",
       " 'p_edlevelUniW16',\n",
       " 'ageW4',\n",
       " 'p_disabilityW6',\n",
       " 'p_housingW6',\n",
       " 'p_religionW19',\n",
       " 'p_socgradeW1',\n",
       " 'p_socgradeW10',\n",
       " 'p_edlevelUniW13',\n",
       " 'p_sexualityW5',\n",
       " 'p_disabilityW8',\n",
       " 'p_socgradeW4',\n",
       " 'p_hh_sizeW1',\n",
       " 'p_work_statW16',\n",
       " 'countryW20',\n",
       " 'p_education_ageW9',\n",
       " 'p_education_ageW4',\n",
       " 'p_paper_readW18',\n",
       " 'p_socgradeW5',\n",
       " 'voted2015newwordingW15',\n",
       " 'p_educationW1',\n",
       " 'p_disabilityW19',\n",
       " 'p_paper_readW2',\n",
       " 'p_socgradeW3',\n",
       " 'p_religionW9',\n",
       " 'p_work_statW4',\n",
       " 'p_religionW8',\n",
       " 'p_sexualityW1',\n",
       " 'p_disabilityW9']"
      ]
     },
     "execution_count": 208,
     "metadata": {},
     "output_type": "execute_result"
    }
   ],
   "source": [
    "[x for x in new_vars if x not in old_to_new_dict.values()]\n",
    "\n",
    "# disability and sexuality largely new\n",
    "\n",
    "# \n",
    "\n",
    "# new variables:\n",
    "# p_parent, p_edlevelUni (edlevel but includes qualifications people are currently getting?)\n",
    "\n",
    "# return of old variables:\n",
    "# enviroGrowth"
   ]
  },
  {
   "cell_type": "code",
   "execution_count": 164,
   "metadata": {},
   "outputs": [
    {
     "data": {
      "text/plain": [
       "Yes    18121\n",
       "No     11428\n",
       "Name: p_parentW13, dtype: int64"
      ]
     },
     "execution_count": 164,
     "metadata": {},
     "output_type": "execute_result"
    }
   ],
   "source": [
    "BES_Panelv02[\"p_parentW13\"].value_counts()\n",
    "# completely new question (parent/guardian?)\n",
    "# ditto edlevelUni (I guess includes the qualification you're currently doing)"
   ]
  },
  {
   "cell_type": "code",
   "execution_count": 165,
   "metadata": {},
   "outputs": [
    {
     "data": {
      "text/plain": [
       "My father                    22097\n",
       "My mother                     3457\n",
       "Don't know                     774\n",
       "No one in my house worked      605\n",
       "Someone else                   482\n",
       "Name: headHouseholdPastW13, dtype: int64"
      ]
     },
     "execution_count": 165,
     "metadata": {},
     "output_type": "execute_result"
    }
   ],
   "source": [
    "BES_Panel[\"headHouseholdPastW13\"].value_counts()"
   ]
  },
  {
   "cell_type": "code",
   "execution_count": 153,
   "metadata": {},
   "outputs": [
    {
     "data": {
      "text/plain": [
       "Undergraduate        9873\n",
       "GCSE                 6638\n",
       "A-level              5987\n",
       "Postgrad             3066\n",
       "No qualifications    2169\n",
       "Below GCSE           1359\n",
       "Name: p_edlevelW17, dtype: int64"
      ]
     },
     "execution_count": 153,
     "metadata": {},
     "output_type": "execute_result"
    }
   ],
   "source": [
    "BES_Panelv02[\"p_edlevelW17\"].value_counts()"
   ]
  },
  {
   "cell_type": "code",
   "execution_count": 159,
   "metadata": {},
   "outputs": [
    {
     "data": {
      "text/plain": [
       "Undergraduate        10041\n",
       "GCSE                  6629\n",
       "A-level               6066\n",
       "Postgrad              3062\n",
       "No qualifications     2181\n",
       "Below GCSE            1375\n",
       "Name: edlevelW17, dtype: int64"
      ]
     },
     "execution_count": 159,
     "metadata": {},
     "output_type": "execute_result"
    }
   ],
   "source": [
    "BES_Panel[\"edlevelW17\"].value_counts()"
   ]
  },
  {
   "cell_type": "code",
   "execution_count": 197,
   "metadata": {},
   "outputs": [
    {
     "data": {
      "text/plain": [
       "55       p_scot_list_vote_2011\n",
       "156      p_scot_list_vote_2016\n",
       "267              p_sexualityW1\n",
       "135             p_sexualityW10\n",
       "98              p_sexualityW11\n",
       "221             p_sexualityW12\n",
       "0               p_sexualityW13\n",
       "162             p_sexualityW14\n",
       "14              p_sexualityW15\n",
       "189             p_sexualityW16\n",
       "35              p_sexualityW18\n",
       "122             p_sexualityW19\n",
       "42               p_sexualityW2\n",
       "89               p_sexualityW3\n",
       "100              p_sexualityW4\n",
       "248              p_sexualityW5\n",
       "92               p_sexualityW6\n",
       "114              p_sexualityW7\n",
       "68               p_sexualityW8\n",
       "1                p_sexualityW9\n",
       "245               p_socgradeW1\n",
       "246              p_socgradeW10\n",
       "37               p_socgradeW11\n",
       "111               p_socgradeW2\n",
       "263               p_socgradeW3\n",
       "250               p_socgradeW4\n",
       "258               p_socgradeW5\n",
       "198               p_socgradeW6\n",
       "141               p_socgradeW9\n",
       "51              p_turnout_2005\n",
       "38              p_turnout_2010\n",
       "199             p_turnout_2019\n",
       "108    p_welsh_const_vote_2016\n",
       "139     p_welsh_list_vote_2016\n",
       "151              p_work_statW1\n",
       "154             p_work_statW10\n",
       "104             p_work_statW15\n",
       "253             p_work_statW16\n",
       "106              p_work_statW2\n",
       "229              p_work_statW3\n",
       "265              p_work_statW4\n",
       "161              p_work_statW5\n",
       "146              p_work_statW6\n",
       "165              p_work_statW8\n",
       "45               p_work_statW9\n",
       "110                    panoW18\n",
       "128                     panoW4\n",
       "170                    pconW18\n",
       "176                     pconW4\n",
       "259     voted2015newwordingW15\n",
       "dtype: object"
      ]
     },
     "execution_count": 197,
     "metadata": {},
     "output_type": "execute_result"
    }
   ],
   "source": [
    "pd.Series([x for x in new_vars if x not in old_to_new_dict.values()]).sort_values().head(500)[-50:]"
   ]
  },
  {
   "cell_type": "code",
   "execution_count": 172,
   "metadata": {},
   "outputs": [
    {
     "data": {
      "text/plain": [
       "Own - outright                                                                          11908\n",
       "Own - with a mortgage                                                                    8136\n",
       "Rent - from a private landlord                                                           3826\n",
       "Rent - from a housing association                                                        1941\n",
       "Rent - from my local authority                                                           1618\n",
       "Neither - I live rent-free with my parents, family or friends                            1075\n",
       "Neither - I live with my parents, family or friends but pay some rent to them            1036\n",
       "Other                                                                                     492\n",
       "Own (part-own) - through shared ownership scheme (i.e. pay part mortgage, part rent)      206\n",
       "Name: profile_house_tenureW14, dtype: int64"
      ]
     },
     "execution_count": 172,
     "metadata": {},
     "output_type": "execute_result"
    }
   ],
   "source": [
    "BES_Panel[\"profile_house_tenureW14\"].value_counts()"
   ]
  },
  {
   "cell_type": "code",
   "execution_count": 121,
   "metadata": {},
   "outputs": [
    {
     "data": {
      "text/plain": [
       "Own â outright                                                                          11938\n",
       "Own â with a mortgage                                                                    8165\n",
       "Rent â from a private landlord                                                           3893\n",
       "Rent â from a housing association                                                        1950\n",
       "Rent â from my local authority                                                           1643\n",
       "Neither â I live rent-free with my parents, family or friends                            1098\n",
       "Neither â I live with my parents, family or friends but pay some rent to them            1063\n",
       "Other                                                                                       482\n",
       "Own (part-own) â through shared ownership scheme (i.e. pay part mortgage, part rent)      214\n",
       "Name: p_housingW14, dtype: int64"
      ]
     },
     "execution_count": 121,
     "metadata": {},
     "output_type": "execute_result"
    }
   ],
   "source": [
    "BES_Panelv02[\"p_housingW14\"].value_counts()"
   ]
  },
  {
   "cell_type": "code",
   "execution_count": 13,
   "metadata": {},
   "outputs": [
    {
     "data": {
      "text/html": [
       "<div>\n",
       "<style scoped>\n",
       "    .dataframe tbody tr th:only-of-type {\n",
       "        vertical-align: middle;\n",
       "    }\n",
       "\n",
       "    .dataframe tbody tr th {\n",
       "        vertical-align: top;\n",
       "    }\n",
       "\n",
       "    .dataframe thead th {\n",
       "        text-align: right;\n",
       "    }\n",
       "</style>\n",
       "<table border=\"1\" class=\"dataframe\">\n",
       "  <thead>\n",
       "    <tr style=\"text-align: right;\">\n",
       "      <th></th>\n",
       "      <th>xsexualityW10</th>\n",
       "      <th>genElecTurnoutRetroW7</th>\n",
       "      <th>voted2015newwordingW15</th>\n",
       "    </tr>\n",
       "  </thead>\n",
       "  <tbody>\n",
       "    <tr>\n",
       "      <th>0</th>\n",
       "      <td>NaN</td>\n",
       "      <td>NaN</td>\n",
       "      <td>NaN</td>\n",
       "    </tr>\n",
       "    <tr>\n",
       "      <th>1</th>\n",
       "      <td>NaN</td>\n",
       "      <td>NaN</td>\n",
       "      <td>NaN</td>\n",
       "    </tr>\n",
       "    <tr>\n",
       "      <th>2</th>\n",
       "      <td>NaN</td>\n",
       "      <td>NaN</td>\n",
       "      <td>NaN</td>\n",
       "    </tr>\n",
       "    <tr>\n",
       "      <th>3</th>\n",
       "      <td>Heterosexual</td>\n",
       "      <td>Yes, voted</td>\n",
       "      <td>NaN</td>\n",
       "    </tr>\n",
       "    <tr>\n",
       "      <th>4</th>\n",
       "      <td>NaN</td>\n",
       "      <td>NaN</td>\n",
       "      <td>NaN</td>\n",
       "    </tr>\n",
       "    <tr>\n",
       "      <th>...</th>\n",
       "      <td>...</td>\n",
       "      <td>...</td>\n",
       "      <td>...</td>\n",
       "    </tr>\n",
       "    <tr>\n",
       "      <th>97001</th>\n",
       "      <td>NaN</td>\n",
       "      <td>NaN</td>\n",
       "      <td>NaN</td>\n",
       "    </tr>\n",
       "    <tr>\n",
       "      <th>97002</th>\n",
       "      <td>NaN</td>\n",
       "      <td>NaN</td>\n",
       "      <td>NaN</td>\n",
       "    </tr>\n",
       "    <tr>\n",
       "      <th>97003</th>\n",
       "      <td>NaN</td>\n",
       "      <td>Yes, voted</td>\n",
       "      <td>NaN</td>\n",
       "    </tr>\n",
       "    <tr>\n",
       "      <th>97004</th>\n",
       "      <td>Heterosexual</td>\n",
       "      <td>Don't know</td>\n",
       "      <td>NaN</td>\n",
       "    </tr>\n",
       "    <tr>\n",
       "      <th>97005</th>\n",
       "      <td>NaN</td>\n",
       "      <td>Yes, voted</td>\n",
       "      <td>NaN</td>\n",
       "    </tr>\n",
       "  </tbody>\n",
       "</table>\n",
       "<p>97006 rows × 3 columns</p>\n",
       "</div>"
      ],
      "text/plain": [
       "      xsexualityW10 genElecTurnoutRetroW7 voted2015newwordingW15\n",
       "0               NaN                   NaN                    NaN\n",
       "1               NaN                   NaN                    NaN\n",
       "2               NaN                   NaN                    NaN\n",
       "3      Heterosexual            Yes, voted                    NaN\n",
       "4               NaN                   NaN                    NaN\n",
       "...             ...                   ...                    ...\n",
       "97001           NaN                   NaN                    NaN\n",
       "97002           NaN                   NaN                    NaN\n",
       "97003           NaN            Yes, voted                    NaN\n",
       "97004  Heterosexual            Don't know                    NaN\n",
       "97005           NaN            Yes, voted                    NaN\n",
       "\n",
       "[97006 rows x 3 columns]"
      ]
     },
     "execution_count": 13,
     "metadata": {},
     "output_type": "execute_result"
    }
   ],
   "source": [
    "BES_Panelv02[['xsexualityW10', 'genElecTurnoutRetroW7', 'voted2015newwordingW15']]"
   ]
  },
  {
   "cell_type": "code",
   "execution_count": 174,
   "metadata": {},
   "outputs": [
    {
     "data": {
      "text/plain": [
       "Yes, voted          1374\n",
       "No, did not vote     519\n",
       "Don't know           181\n",
       "Name: voted2015newwordingW15, dtype: int64"
      ]
     },
     "execution_count": 174,
     "metadata": {},
     "output_type": "execute_result"
    }
   ],
   "source": [
    "BES_Panelv02['voted2015newwordingW15'].value_counts()"
   ]
  },
  {
   "cell_type": "code",
   "execution_count": 37,
   "metadata": {},
   "outputs": [
    {
     "data": {
      "text/plain": [
       "Yes, voted          27307\n",
       "No, did not vote     2791\n",
       "Don't know            797\n",
       "Name: genElecTurnoutRetroW7, dtype: int64"
      ]
     },
     "execution_count": 37,
     "metadata": {},
     "output_type": "execute_result"
    }
   ],
   "source": [
    "BES_Panelv02['genElecTurnoutRetroW7'].value_counts()"
   ]
  },
  {
   "cell_type": "code",
   "execution_count": 219,
   "metadata": {},
   "outputs": [
    {
     "data": {
      "text/plain": [
       "Voted         70536\n",
       "DNV           12760\n",
       "Don't know      951\n",
       "Name: p_turnout_2015, dtype: int64"
      ]
     },
     "execution_count": 219,
     "metadata": {},
     "output_type": "execute_result"
    }
   ],
   "source": [
    "BES_Panelv02['p_turnout_2015'].value_counts()"
   ]
  },
  {
   "cell_type": "code",
   "execution_count": 39,
   "metadata": {},
   "outputs": [
    {
     "data": {
      "text/plain": [
       "0"
      ]
     },
     "execution_count": 39,
     "metadata": {},
     "output_type": "execute_result"
    }
   ],
   "source": [
    "(BES_Panelv02['voted2015newwordingW15']==BES_Panelv02['genElecTurnoutRetroW7']).sum()\n",
    "# no overlap ... assume the w15 is supplemental?"
   ]
  },
  {
   "cell_type": "code",
   "execution_count": 14,
   "metadata": {},
   "outputs": [
    {
     "data": {
      "text/plain": [
       "Heterosexual         26801\n",
       "Prefer not to say     1144\n",
       "Gay or lesbian        1104\n",
       "Bisexual               911\n",
       "Other                  277\n",
       "Name: xsexualityW10, dtype: int64"
      ]
     },
     "execution_count": 14,
     "metadata": {},
     "output_type": "execute_result"
    }
   ],
   "source": [
    "BES_Panelv02[\"xsexualityW10\"].value_counts()"
   ]
  },
  {
   "cell_type": "code",
   "execution_count": 30,
   "metadata": {},
   "outputs": [
    {
     "data": {
      "text/plain": [
       "Heterosexual         26805\n",
       "Prefer not to say     1139\n",
       "Gay or lesbian        1105\n",
       "Bisexual               912\n",
       "Other                  275\n",
       "Name: p_sexualityW10, dtype: int64"
      ]
     },
     "execution_count": 30,
     "metadata": {},
     "output_type": "execute_result"
    }
   ],
   "source": [
    "BES_Panelv02[\"p_sexualityW10\"].value_counts()"
   ]
  },
  {
   "cell_type": "code",
   "execution_count": 31,
   "metadata": {},
   "outputs": [
    {
     "data": {
      "text/plain": [
       "(30237, 30236)"
      ]
     },
     "execution_count": 31,
     "metadata": {},
     "output_type": "execute_result"
    }
   ],
   "source": [
    "BES_Panelv02[\"xsexualityW10\"].notnull().sum(),BES_Panelv02[\"p_sexualityW10\"].notnull().sum()"
   ]
  },
  {
   "cell_type": "code",
   "execution_count": 32,
   "metadata": {},
   "outputs": [
    {
     "data": {
      "text/plain": [
       "{67489}"
      ]
     },
     "execution_count": 32,
     "metadata": {},
     "output_type": "execute_result"
    }
   ],
   "source": [
    "set(BES_Panelv02[\"xsexualityW10\"][BES_Panelv02[\"xsexualityW10\"].notnull()].index)\\\n",
    "    -set(BES_Panelv02[\"p_sexualityW10\"][BES_Panelv02[\"p_sexualityW10\"].notnull()].index)\n",
    "    "
   ]
  },
  {
   "cell_type": "code",
   "execution_count": 33,
   "metadata": {},
   "outputs": [
    {
     "data": {
      "text/plain": [
       "23"
      ]
     },
     "execution_count": 33,
     "metadata": {},
     "output_type": "execute_result"
    }
   ],
   "source": [
    "(BES_Panelv02[\"xsexualityW10\"] != BES_Panelv02[\"p_sexualityW10\"]).sum()"
   ]
  },
  {
   "cell_type": "code",
   "execution_count": 35,
   "metadata": {},
   "outputs": [
    {
     "data": {
      "text/html": [
       "<div>\n",
       "<style scoped>\n",
       "    .dataframe tbody tr th:only-of-type {\n",
       "        vertical-align: middle;\n",
       "    }\n",
       "\n",
       "    .dataframe tbody tr th {\n",
       "        vertical-align: top;\n",
       "    }\n",
       "\n",
       "    .dataframe thead th {\n",
       "        text-align: right;\n",
       "    }\n",
       "</style>\n",
       "<table border=\"1\" class=\"dataframe\">\n",
       "  <thead>\n",
       "    <tr style=\"text-align: right;\">\n",
       "      <th></th>\n",
       "      <th>xsexualityW10</th>\n",
       "      <th>p_sexualityW10</th>\n",
       "    </tr>\n",
       "  </thead>\n",
       "  <tbody>\n",
       "    <tr>\n",
       "      <th>2311</th>\n",
       "      <td>Prefer not to say</td>\n",
       "      <td>Heterosexual</td>\n",
       "    </tr>\n",
       "    <tr>\n",
       "      <th>5382</th>\n",
       "      <td>Prefer not to say</td>\n",
       "      <td>Heterosexual</td>\n",
       "    </tr>\n",
       "    <tr>\n",
       "      <th>5841</th>\n",
       "      <td>Prefer not to say</td>\n",
       "      <td>Heterosexual</td>\n",
       "    </tr>\n",
       "    <tr>\n",
       "      <th>7928</th>\n",
       "      <td>Other</td>\n",
       "      <td>Prefer not to say</td>\n",
       "    </tr>\n",
       "    <tr>\n",
       "      <th>8071</th>\n",
       "      <td>Heterosexual</td>\n",
       "      <td>Gay or lesbian</td>\n",
       "    </tr>\n",
       "    <tr>\n",
       "      <th>16664</th>\n",
       "      <td>Prefer not to say</td>\n",
       "      <td>Bisexual</td>\n",
       "    </tr>\n",
       "    <tr>\n",
       "      <th>16812</th>\n",
       "      <td>Heterosexual</td>\n",
       "      <td>Prefer not to say</td>\n",
       "    </tr>\n",
       "    <tr>\n",
       "      <th>19758</th>\n",
       "      <td>Heterosexual</td>\n",
       "      <td>Prefer not to say</td>\n",
       "    </tr>\n",
       "    <tr>\n",
       "      <th>20053</th>\n",
       "      <td>Prefer not to say</td>\n",
       "      <td>Heterosexual</td>\n",
       "    </tr>\n",
       "    <tr>\n",
       "      <th>30290</th>\n",
       "      <td>Prefer not to say</td>\n",
       "      <td>Heterosexual</td>\n",
       "    </tr>\n",
       "    <tr>\n",
       "      <th>32289</th>\n",
       "      <td>Heterosexual</td>\n",
       "      <td>Prefer not to say</td>\n",
       "    </tr>\n",
       "    <tr>\n",
       "      <th>41320</th>\n",
       "      <td>Heterosexual</td>\n",
       "      <td>Bisexual</td>\n",
       "    </tr>\n",
       "    <tr>\n",
       "      <th>43856</th>\n",
       "      <td>Prefer not to say</td>\n",
       "      <td>Heterosexual</td>\n",
       "    </tr>\n",
       "    <tr>\n",
       "      <th>51358</th>\n",
       "      <td>Prefer not to say</td>\n",
       "      <td>Heterosexual</td>\n",
       "    </tr>\n",
       "    <tr>\n",
       "      <th>52622</th>\n",
       "      <td>Bisexual</td>\n",
       "      <td>Heterosexual</td>\n",
       "    </tr>\n",
       "    <tr>\n",
       "      <th>52825</th>\n",
       "      <td>Prefer not to say</td>\n",
       "      <td>Heterosexual</td>\n",
       "    </tr>\n",
       "    <tr>\n",
       "      <th>57213</th>\n",
       "      <td>Heterosexual</td>\n",
       "      <td>Prefer not to say</td>\n",
       "    </tr>\n",
       "    <tr>\n",
       "      <th>64165</th>\n",
       "      <td>Heterosexual</td>\n",
       "      <td>Prefer not to say</td>\n",
       "    </tr>\n",
       "    <tr>\n",
       "      <th>75636</th>\n",
       "      <td>Prefer not to say</td>\n",
       "      <td>Heterosexual</td>\n",
       "    </tr>\n",
       "    <tr>\n",
       "      <th>85385</th>\n",
       "      <td>Prefer not to say</td>\n",
       "      <td>Heterosexual</td>\n",
       "    </tr>\n",
       "    <tr>\n",
       "      <th>86247</th>\n",
       "      <td>Heterosexual</td>\n",
       "      <td>Prefer not to say</td>\n",
       "    </tr>\n",
       "    <tr>\n",
       "      <th>89445</th>\n",
       "      <td>Prefer not to say</td>\n",
       "      <td>Heterosexual</td>\n",
       "    </tr>\n",
       "    <tr>\n",
       "      <th>95545</th>\n",
       "      <td>Other</td>\n",
       "      <td>Heterosexual</td>\n",
       "    </tr>\n",
       "  </tbody>\n",
       "</table>\n",
       "</div>"
      ],
      "text/plain": [
       "           xsexualityW10     p_sexualityW10\n",
       "2311   Prefer not to say       Heterosexual\n",
       "5382   Prefer not to say       Heterosexual\n",
       "5841   Prefer not to say       Heterosexual\n",
       "7928               Other  Prefer not to say\n",
       "8071        Heterosexual     Gay or lesbian\n",
       "16664  Prefer not to say           Bisexual\n",
       "16812       Heterosexual  Prefer not to say\n",
       "19758       Heterosexual  Prefer not to say\n",
       "20053  Prefer not to say       Heterosexual\n",
       "30290  Prefer not to say       Heterosexual\n",
       "32289       Heterosexual  Prefer not to say\n",
       "41320       Heterosexual           Bisexual\n",
       "43856  Prefer not to say       Heterosexual\n",
       "51358  Prefer not to say       Heterosexual\n",
       "52622           Bisexual       Heterosexual\n",
       "52825  Prefer not to say       Heterosexual\n",
       "57213       Heterosexual  Prefer not to say\n",
       "64165       Heterosexual  Prefer not to say\n",
       "75636  Prefer not to say       Heterosexual\n",
       "85385  Prefer not to say       Heterosexual\n",
       "86247       Heterosexual  Prefer not to say\n",
       "89445  Prefer not to say       Heterosexual\n",
       "95545              Other       Heterosexual"
      ]
     },
     "execution_count": 35,
     "metadata": {},
     "output_type": "execute_result"
    }
   ],
   "source": [
    "BES_Panelv02[[\"xsexualityW10\",\"p_sexualityW10\"]][(BES_Panelv02[\"xsexualityW10\"] != BES_Panelv02[\"p_sexualityW10\"])]\n",
    "\n"
   ]
  },
  {
   "cell_type": "code",
   "execution_count": null,
   "metadata": {},
   "outputs": [],
   "source": []
  },
  {
   "cell_type": "code",
   "execution_count": 42,
   "metadata": {},
   "outputs": [
    {
     "data": {
      "text/plain": [
       "Labour                                      23742\n",
       "Conservative                                23741\n",
       "Liberal Democrat                             5258\n",
       "Scottish National Party (SNP)                2523\n",
       "United Kingdom Independence Party (UKIP)     1498\n",
       "Green Party                                  1289\n",
       "Don't know                                   1204\n",
       "Other                                         726\n",
       "Plaid Cymru                                   395\n",
       "British National Party (BNP)                    1\n",
       "Name: p_past_vote_2017, dtype: int64"
      ]
     },
     "execution_count": 42,
     "metadata": {},
     "output_type": "execute_result"
    }
   ],
   "source": [
    "BES_Panelv02[\"p_past_vote_2017\"].value_counts()"
   ]
  },
  {
   "cell_type": "code",
   "execution_count": 109,
   "metadata": {},
   "outputs": [
    {
     "data": {
      "text/plain": [
       "Yes    29976\n",
       "No      1317\n",
       "5.0     1316\n",
       "3.0     1057\n",
       "4.0      359\n",
       "Name: sexualityW17, dtype: int64"
      ]
     },
     "execution_count": 109,
     "metadata": {},
     "output_type": "execute_result"
    }
   ],
   "source": [
    "BES_Panel[\"sexualityW17\"].value_counts()"
   ]
  },
  {
   "cell_type": "code",
   "execution_count": 111,
   "metadata": {},
   "outputs": [
    {
     "data": {
      "text/plain": [
       "Heterosexual         29993\n",
       "Gay or lesbian        1321\n",
       "Prefer not to say     1319\n",
       "Bisexual              1062\n",
       "Other                  360\n",
       "Name: p_sexualityW17, dtype: int64"
      ]
     },
     "execution_count": 111,
     "metadata": {},
     "output_type": "execute_result"
    }
   ],
   "source": [
    "BES_Panelv02[\"p_sexualityW17\"].value_counts()"
   ]
  },
  {
   "cell_type": "code",
   "execution_count": 112,
   "metadata": {},
   "outputs": [
    {
     "data": {
      "text/plain": [
       "No                   7014\n",
       "Yes                   539\n",
       "Prefer not to say     248\n",
       "Name: sexualityW14, dtype: int64"
      ]
     },
     "execution_count": 112,
     "metadata": {},
     "output_type": "execute_result"
    }
   ],
   "source": [
    "BES_Panel[\"sexualityW14\"].value_counts()"
   ]
  },
  {
   "cell_type": "code",
   "execution_count": 114,
   "metadata": {},
   "outputs": [
    {
     "data": {
      "text/plain": [
       "Heterosexual         27422\n",
       "Prefer not to say     1304\n",
       "Gay or lesbian        1082\n",
       "Bisexual               851\n",
       "Other                  284\n",
       "Name: p_sexualityW14, dtype: int64"
      ]
     },
     "execution_count": 114,
     "metadata": {},
     "output_type": "execute_result"
    }
   ],
   "source": [
    "BES_Panelv02[\"p_sexualityW14\"].value_counts()"
   ]
  },
  {
   "cell_type": "code",
   "execution_count": 131,
   "metadata": {},
   "outputs": [
    {
     "data": {
      "text/plain": [
       "discussantEthnicity1W2    24933\n",
       "discussantEthnicity2W2    18238\n",
       "discussantEthnicity3W2    13210\n",
       "ethnicity2W15             30842\n",
       "ethnicity2W16             37958\n",
       "profile_ethnicityW7       30833\n",
       "profile_ethnicity2W17     34364\n",
       "profile_ethnicity2W18     37825\n",
       "profile_ethnicity2W19     32177\n",
       "profile_ethnicity         70290\n",
       "dtype: int64"
      ]
     },
     "execution_count": 131,
     "metadata": {},
     "output_type": "execute_result"
    }
   ],
   "source": [
    "search(BES_Panel,\"ethnicity\")"
   ]
  },
  {
   "cell_type": "code",
   "execution_count": null,
   "metadata": {},
   "outputs": [],
   "source": []
  },
  {
   "cell_type": "code",
   "execution_count": null,
   "metadata": {},
   "outputs": [],
   "source": [
    "##################################################\n",
    "# Done with trying to line these up/tired!"
   ]
  },
  {
   "cell_type": "code",
   "execution_count": 226,
   "metadata": {},
   "outputs": [],
   "source": [
    "old_to_new_dict_non_matching = old_to_new_dict.copy()\n",
    "# backup in case you want a set *without* all the matching variables\n",
    "\n",
    "for col in set(BES_Panelv02.columns).intersection(set(BES_Panel.columns)):\n",
    "    old_to_new_dict[col] = col\n",
    "    "
   ]
  },
  {
   "cell_type": "code",
   "execution_count": 229,
   "metadata": {},
   "outputs": [
    {
     "data": {
      "text/plain": [
       "((97158, 7911), (97006, 8080))"
      ]
     },
     "execution_count": 229,
     "metadata": {},
     "output_type": "execute_result"
    }
   ],
   "source": [
    "BES_Panel.shape,BES_Panelv02.shape"
   ]
  },
  {
   "cell_type": "code",
   "execution_count": null,
   "metadata": {},
   "outputs": [],
   "source": [
    "BES_Panel = BES_Panel.set_index(\"id\")\n",
    "BES_Panelv02 = BES_Panelv02.set_index(\"id\")"
   ]
  },
  {
   "cell_type": "code",
   "execution_count": 273,
   "metadata": {},
   "outputs": [],
   "source": [
    "BES_Panel = BES_Panel.sort_index()\n",
    "BES_Panelv02 = BES_Panelv02.sort_index()"
   ]
  },
  {
   "cell_type": "code",
   "execution_count": 250,
   "metadata": {},
   "outputs": [],
   "source": [
    "nowtsW19 = (BES_Panel[\"wt_new_W19_result\"].isnull() & BES_Panel[\"wave19\"])"
   ]
  },
  {
   "cell_type": "code",
   "execution_count": 251,
   "metadata": {},
   "outputs": [
    {
     "data": {
      "text/plain": [
       "629"
      ]
     },
     "execution_count": 251,
     "metadata": {},
     "output_type": "execute_result"
    }
   ],
   "source": [
    "nowtsW19.sum()"
   ]
  },
  {
   "cell_type": "code",
   "execution_count": 252,
   "metadata": {},
   "outputs": [
    {
     "data": {
      "text/plain": [
       "152"
      ]
     },
     "execution_count": 252,
     "metadata": {},
     "output_type": "execute_result"
    }
   ],
   "source": [
    "len(set(BES_Panel.index) - set(BES_Panelv02.index))"
   ]
  },
  {
   "cell_type": "code",
   "execution_count": 253,
   "metadata": {},
   "outputs": [
    {
     "data": {
      "text/plain": [
       "0"
      ]
     },
     "execution_count": 253,
     "metadata": {},
     "output_type": "execute_result"
    }
   ],
   "source": [
    "len(set(BES_Panelv02.index)-set(BES_Panel.index))"
   ]
  },
  {
   "cell_type": "code",
   "execution_count": 254,
   "metadata": {},
   "outputs": [],
   "source": [
    "nowtsW19v2 = (BES_Panelv02[\"wt_new_W19_result\"].isnull() & BES_Panelv02[\"wave19\"])"
   ]
  },
  {
   "cell_type": "code",
   "execution_count": 255,
   "metadata": {},
   "outputs": [
    {
     "data": {
      "text/plain": [
       "0"
      ]
     },
     "execution_count": 255,
     "metadata": {},
     "output_type": "execute_result"
    }
   ],
   "source": [
    "nowtsW19v2.sum()"
   ]
  },
  {
   "cell_type": "code",
   "execution_count": 285,
   "metadata": {},
   "outputs": [
    {
     "name": "stdout",
     "output_type": "stream",
     "text": [
      "The history saving thread hit an unexpected error (OperationalError('database or disk is full')).History will not be written to the database.\n"
     ]
    }
   ],
   "source": [
    "df_diff = (BES_Panel.loc[BES_Panelv02.index,old_to_new_dict.keys()].rename(old_to_new_dict,axis=1).astype('object')!=BES_Panelv02.loc[BES_Panelv02.index,old_to_new_dict.values()].astype('object'))"
   ]
  },
  {
   "cell_type": "code",
   "execution_count": 286,
   "metadata": {},
   "outputs": [
    {
     "data": {
      "text/plain": [
       "al4W10_W12                   62015\n",
       "preschoolKidsInHouseW1_W5    55094\n",
       "al1W10_W12                   62015\n",
       "polKnowBercowW1_W3           60177\n",
       "polKnowPutinW2_W4            63821\n",
       "                             ...  \n",
       "snpUnitedW11                 93213\n",
       "likeSNPW9                    93114\n",
       "integrityFarronW10           89574\n",
       "partyContactLD_5W18          91876\n",
       "changeCostLiveLabW1          66462\n",
       "Length: 7818, dtype: int64"
      ]
     },
     "execution_count": 286,
     "metadata": {},
     "output_type": "execute_result"
    }
   ],
   "source": [
    "df_diff.sum()"
   ]
  },
  {
   "cell_type": "code",
   "execution_count": 290,
   "metadata": {},
   "outputs": [
    {
     "data": {
      "text/plain": [
       "countryW11                    97006\n",
       "wt_new_W13_result             97006\n",
       "countryW3                     97006\n",
       "wt_new_W9_W14                 97006\n",
       "countryW12                    97006\n",
       "wt_new_W19_result             97006\n",
       "wt_new_W9W19                  97006\n",
       "wt_full_W1W2                  97006\n",
       "wt_new_W13W19                 97006\n",
       "wt_new_W2W6                   97006\n",
       "wt_newW17W19                  97006\n",
       "wt_daily_W18                  97006\n",
       "wt_full_W4W5                  97006\n",
       "wt_new_W6W7                   97006\n",
       "p_work_statW17                97006\n",
       "wt_full_W1_W11                97006\n",
       "countryW8                     97006\n",
       "wt_new_W6_W12                 97006\n",
       "wt_new_W18                    97006\n",
       "p_socgradeW17                 97006\n",
       "countryW17                    97006\n",
       "countryW1                     97006\n",
       "wt_new_W14                    97006\n",
       "wt_new_W7W13                  97006\n",
       "wt_new_W7                     97006\n",
       "wt_new_W11_W13                97006\n",
       "wt_full_W7W8                  97006\n",
       "wt_new_W2W6W7                 97006\n",
       "countryW7                     97006\n",
       "wt_new_W17                    97006\n",
       "wt_new_W9                     97006\n",
       "wt_new_W12                    97006\n",
       "wt_daily_W8                   97006\n",
       "wt_new_W6                     97006\n",
       "voted2015newwordingW15        97006\n",
       "p_sexualityW17                97006\n",
       "wt_full_W1W2W3W4W5W6W7W8W9    97006\n",
       "wt_new_W1_W13                 97006\n",
       "wt_new_W1_W12                 97006\n",
       "wt_new_W11                    97006\n",
       "wt_full_W4W6                  97006\n",
       "p_gross_personalW7            97006\n",
       "p_education_ageW18            97006\n",
       "wt_new_W16W19                 97006\n",
       "wt_full_W1W2W3                97006\n",
       "wt_full_W4                    97006\n",
       "wt_new_W17W18W19              97006\n",
       "wt_full_W4W5W6                97006\n",
       "p_gross_personalW18           97006\n",
       "wt_new_W6W13W19               97006\n",
       "dtype: int64"
      ]
     },
     "execution_count": 290,
     "metadata": {},
     "output_type": "execute_result"
    }
   ],
   "source": [
    "df_diff.sum().sort_values().tail(50)"
   ]
  },
  {
   "cell_type": "code",
   "execution_count": 242,
   "metadata": {},
   "outputs": [
    {
     "data": {
      "text/plain": [
       "0        NaN\n",
       "1        NaN\n",
       "2        NaN\n",
       "3        NaN\n",
       "4        NaN\n",
       "        ... \n",
       "97153    NaN\n",
       "97154    NaN\n",
       "97155    NaN\n",
       "97156    NaN\n",
       "97157    NaN\n",
       "Name: selfOccEmployeesW15, Length: 97158, dtype: category\n",
       "Categories (3, object): [I do not have employees < I have employees < Don't know]"
      ]
     },
     "execution_count": 242,
     "metadata": {},
     "output_type": "execute_result"
    }
   ],
   "source": [
    "BES_Panel[\"selfOccEmployeesW15\"]"
   ]
  },
  {
   "cell_type": "code",
   "execution_count": 274,
   "metadata": {},
   "outputs": [
    {
     "data": {
      "text/plain": [
       "id\n",
       "1          Male\n",
       "2        Female\n",
       "3        Female\n",
       "4        Female\n",
       "5        Female\n",
       "          ...  \n",
       "98447    Female\n",
       "98448      Male\n",
       "98449      Male\n",
       "98450    Female\n",
       "98451      Male\n",
       "Name: gender, Length: 97006, dtype: category\n",
       "Categories (2, object): [Male < Female]"
      ]
     },
     "execution_count": 274,
     "metadata": {},
     "output_type": "execute_result"
    }
   ],
   "source": [
    "BES_Panel.loc[BES_Panelv02.index,\"gender\"].sort_index()"
   ]
  },
  {
   "cell_type": "code",
   "execution_count": 272,
   "metadata": {},
   "outputs": [
    {
     "data": {
      "text/plain": [
       "Int64Index([95126, 66250, 71010, 30819, 90554, 55200, 71572, 16546, 84526,\n",
       "            35989,\n",
       "            ...\n",
       "            54003, 88710, 19111, 62529, 72987, 97130, 11566, 11157, 27434,\n",
       "            50539],\n",
       "           dtype='int64', name='id', length=97006)"
      ]
     },
     "execution_count": 272,
     "metadata": {},
     "output_type": "execute_result"
    }
   ],
   "source": [
    "BES_Panelv02.index"
   ]
  },
  {
   "cell_type": "code",
   "execution_count": 280,
   "metadata": {
    "scrolled": true
   },
   "outputs": [],
   "source": [
    "gender_diff = BES_Panelv02.loc[BES_Panelv02.index,\"gender\"].sort_index()!=BES_Panel.loc[BES_Panelv02.index,\"gender\"].sort_index()"
   ]
  },
  {
   "cell_type": "code",
   "execution_count": 281,
   "metadata": {},
   "outputs": [
    {
     "data": {
      "text/plain": [
       "31"
      ]
     },
     "execution_count": 281,
     "metadata": {},
     "output_type": "execute_result"
    }
   ],
   "source": [
    "gender_diff.sum()"
   ]
  },
  {
   "cell_type": "code",
   "execution_count": 288,
   "metadata": {},
   "outputs": [
    {
     "data": {
      "text/plain": [
       "916"
      ]
     },
     "execution_count": 288,
     "metadata": {},
     "output_type": "execute_result"
    }
   ],
   "source": [
    "BES_Panelv02.loc[BES_Panelv02.index,\"gender\"].isnull().sum()"
   ]
  },
  {
   "cell_type": "code",
   "execution_count": 289,
   "metadata": {},
   "outputs": [
    {
     "data": {
      "text/plain": [
       "4826"
      ]
     },
     "execution_count": 289,
     "metadata": {},
     "output_type": "execute_result"
    }
   ],
   "source": [
    "BES_Panel.loc[BES_Panelv02.index,\"gender\"].isnull().sum()"
   ]
  },
  {
   "cell_type": "code",
   "execution_count": null,
   "metadata": {},
   "outputs": [],
   "source": []
  },
  {
   "cell_type": "code",
   "execution_count": null,
   "metadata": {},
   "outputs": [],
   "source": []
  },
  {
   "cell_type": "code",
   "execution_count": 294,
   "metadata": {
    "scrolled": true
   },
   "outputs": [
    {
     "data": {
      "text/plain": [
       "1.0    24997\n",
       "2.0     3793\n",
       "3.0     2166\n",
       "Name: countryW11, dtype: int64"
      ]
     },
     "execution_count": 294,
     "metadata": {},
     "output_type": "execute_result"
    }
   ],
   "source": [
    "BES_Panelv02[\"countryW11\"].value_counts()"
   ]
  },
  {
   "cell_type": "code",
   "execution_count": 296,
   "metadata": {},
   "outputs": [],
   "source": [
    "old_category_cols = BES_Panel[old_to_new_dict.keys()].columns[BES_Panel[old_to_new_dict.keys()].dtypes==\"category\"]"
   ]
  },
  {
   "cell_type": "code",
   "execution_count": 298,
   "metadata": {},
   "outputs": [],
   "source": [
    "new_category_cols = BES_Panelv02[old_to_new_dict.values()].columns[BES_Panelv02[old_to_new_dict.values()].dtypes==\"category\"]"
   ]
  },
  {
   "cell_type": "code",
   "execution_count": 300,
   "metadata": {},
   "outputs": [
    {
     "data": {
      "text/plain": [
       "20"
      ]
     },
     "execution_count": 300,
     "metadata": {},
     "output_type": "execute_result"
    }
   ],
   "source": [
    "gc.collect()"
   ]
  },
  {
   "cell_type": "code",
   "execution_count": 301,
   "metadata": {},
   "outputs": [
    {
     "data": {
      "text/plain": [
       "(7633, 7591)"
      ]
     },
     "execution_count": 301,
     "metadata": {},
     "output_type": "execute_result"
    }
   ],
   "source": [
    "len(old_category_cols),len(new_category_cols),"
   ]
  },
  {
   "cell_type": "code",
   "execution_count": 308,
   "metadata": {},
   "outputs": [
    {
     "data": {
      "text/plain": [
       "6                 changeViewW19\n",
       "24                    countryW1\n",
       "9                    countryW10\n",
       "35                   countryW11\n",
       "10                   countryW12\n",
       "23                   countryW13\n",
       "26                   countryW14\n",
       "21                   countryW15\n",
       "38                   countryW16\n",
       "37                   countryW17\n",
       "29                   countryW19\n",
       "22                    countryW2\n",
       "31                    countryW3\n",
       "11                    countryW5\n",
       "1                     countryW6\n",
       "0                     countryW7\n",
       "36                    countryW8\n",
       "39                    countryW9\n",
       "30    discussantturnoutName1W12\n",
       "15     discussantturnoutName1W2\n",
       "41     discussantturnoutName1W4\n",
       "33    discussantturnoutName2W12\n",
       "12     discussantturnoutName2W2\n",
       "7      discussantturnoutName2W4\n",
       "2     discussantturnoutName3W12\n",
       "18     discussantturnoutName3W2\n",
       "8      discussantturnoutName3W4\n",
       "3           harassedSocMediaW19\n",
       "5              jobzoneW16W17W18\n",
       "20                   jobzoneW19\n",
       "13            jobzoneW1W2W3W4W5\n",
       "4               jobzoneW6W7W8W9\n",
       "34               partyAgree2W12\n",
       "27               polSocMediaW19\n",
       "16               socMediaUseW19\n",
       "40                warmDenmarkW7\n",
       "28                 warmFranceW7\n",
       "14                 warmGreeceW7\n",
       "32                 warmPolandW7\n",
       "19                warmRomaniaW7\n",
       "17                  warmSpainW7\n",
       "25                     warmUKW7\n",
       "dtype: object"
      ]
     },
     "execution_count": 308,
     "metadata": {},
     "output_type": "execute_result"
    }
   ],
   "source": [
    "pd.Series([old_to_new_dict[x] for x in old_category_cols if old_to_new_dict[x] not in new_category_cols]).sort_values()\n",
    "\n",
    "# country*\n",
    "# jobzone*\n",
    "# discussantturnoutName(1|2|3)(W2|W4|W12)\n",
    "# changeViewW19|harassedSocMediaW19|partyAgree2W12|polSocMediaW19|socMediaUseW19\n",
    "# warm(Denmark|France|Greece|Poland|Romania|Spain|UK)"
   ]
  },
  {
   "cell_type": "code",
   "execution_count": 316,
   "metadata": {},
   "outputs": [
    {
     "data": {
      "text/html": [
       "['countryW7', 'countryW6', 'discussantturnoutName3W12', 'harassedSocMediaW19', 'jobzoneW6W7W8W9', 'jobzoneW16W17W18', 'changeViewW19', 'discussantturnoutName2W4', 'discussantturnoutName3W4', 'countryW10', 'countryW12', 'countryW5', 'discussantturnoutName2W2', 'jobzoneW1W2W3W4W5', 'warmGreeceW7', 'discussantturnoutName1W2', 'socMediaUseW19', 'warmSpainW7', 'discussantturnoutName3W2', 'warmRomaniaW7', 'jobzoneW19', 'countryW15', 'countryW2', 'countryW13', 'countryW1', 'warmUKW7', 'countryW14', 'polSocMediaW19', 'warmFranceW7', 'countryW19', 'discussantturnoutName1W12', 'countryW3', 'warmPolandW7', 'discussantturnoutName2W12', 'partyAgree2W12', 'countryW11', 'countryW8', 'countryW17', 'countryW16', 'countryW9', 'warmDenmarkW7', 'discussantturnoutName1W4']"
      ],
      "text/plain": [
       "['countryW7',\n",
       " 'countryW6',\n",
       " 'discussantturnoutName3W12',\n",
       " 'harassedSocMediaW19',\n",
       " 'jobzoneW6W7W8W9',\n",
       " 'jobzoneW16W17W18',\n",
       " 'changeViewW19',\n",
       " 'discussantturnoutName2W4',\n",
       " 'discussantturnoutName3W4',\n",
       " 'countryW10',\n",
       " 'countryW12',\n",
       " 'countryW5',\n",
       " 'discussantturnoutName2W2',\n",
       " 'jobzoneW1W2W3W4W5',\n",
       " 'warmGreeceW7',\n",
       " 'discussantturnoutName1W2',\n",
       " 'socMediaUseW19',\n",
       " 'warmSpainW7',\n",
       " 'discussantturnoutName3W2',\n",
       " 'warmRomaniaW7',\n",
       " 'jobzoneW19',\n",
       " 'countryW15',\n",
       " 'countryW2',\n",
       " 'countryW13',\n",
       " 'countryW1',\n",
       " 'warmUKW7',\n",
       " 'countryW14',\n",
       " 'polSocMediaW19',\n",
       " 'warmFranceW7',\n",
       " 'countryW19',\n",
       " 'discussantturnoutName1W12',\n",
       " 'countryW3',\n",
       " 'warmPolandW7',\n",
       " 'discussantturnoutName2W12',\n",
       " 'partyAgree2W12',\n",
       " 'countryW11',\n",
       " 'countryW8',\n",
       " 'countryW17',\n",
       " 'countryW16',\n",
       " 'countryW9',\n",
       " 'warmDenmarkW7',\n",
       " 'discussantturnoutName1W4']"
      ]
     },
     "execution_count": 316,
     "metadata": {},
     "output_type": "execute_result"
    }
   ],
   "source": [
    "missing_labels = [old_to_new_dict[x] for x in old_category_cols if old_to_new_dict[x] not in new_category_cols]"
   ]
  },
  {
   "cell_type": "code",
   "execution_count": 320,
   "metadata": {},
   "outputs": [],
   "source": [
    "old_category_cols_minus_ml = [x for x in old_category_cols if old_to_new_dict[x] in new_category_cols]"
   ]
  },
  {
   "cell_type": "code",
   "execution_count": 333,
   "metadata": {},
   "outputs": [],
   "source": [
    "old_cat_lists = BES_Panel[old_category_cols_minus_ml].apply(lambda x: \"|\".join(map(str,x.cat.categories)))"
   ]
  },
  {
   "cell_type": "code",
   "execution_count": 334,
   "metadata": {},
   "outputs": [],
   "source": [
    "new_cat_lists = BES_Panelv02[new_category_cols].apply(lambda x: \"|\".join(map(str,x.cat.categories)))"
   ]
  },
  {
   "cell_type": "code",
   "execution_count": 342,
   "metadata": {},
   "outputs": [
    {
     "data": {
      "text/plain": [
       "153"
      ]
     },
     "execution_count": 342,
     "metadata": {},
     "output_type": "execute_result"
    }
   ],
   "source": [
    "gc.collect()"
   ]
  },
  {
   "cell_type": "code",
   "execution_count": null,
   "metadata": {},
   "outputs": [],
   "source": []
  },
  {
   "cell_type": "code",
   "execution_count": 336,
   "metadata": {},
   "outputs": [],
   "source": [
    "cat_lists_differ = [old_cat_lists[x]!=new_cat_lists[x] for x in range(len(new_cat_lists))]"
   ]
  },
  {
   "cell_type": "code",
   "execution_count": 337,
   "metadata": {},
   "outputs": [
    {
     "data": {
      "text/plain": [
       "al4W10W11W12                      Strongly disagree|Disagree|Neither agree nor d...\n",
       "preschoolKidsInHouseW1W2W3W4W5                                               No|Yes\n",
       "al1W10W11W12                      Strongly disagree|Disagree|Neither agree nor d...\n",
       "polKnowBercowW1W2W3               Chancellor of the Exchequer|Deputy Prime Minis...\n",
       "polKnowPutinW2W3W4                President of Russia|Chancellor of Germany|Prim...\n",
       "                                                        ...                        \n",
       "snpUnitedW11                      Very divided|Fairly divided|Neither united nor...\n",
       "likeSNPW9                         Strongly dislike|1|2|3|4|5|6|7|8|9|Strongly li...\n",
       "integrityFarronW10                No integrity at all|1|2|3|4|5|6|7|8|9|Complete...\n",
       "partyContactLD_5W18                                               No|Yes|Don't know\n",
       "changeCostLiveLabW1               Getting a lot lower|Getting a little lower|Sta...\n",
       "Length: 7591, dtype: object"
      ]
     },
     "execution_count": 337,
     "metadata": {},
     "output_type": "execute_result"
    }
   ],
   "source": [
    "old_cat_lists"
   ]
  },
  {
   "cell_type": "code",
   "execution_count": 339,
   "metadata": {},
   "outputs": [
    {
     "data": {
      "text/plain": [
       "135"
      ]
     },
     "execution_count": 339,
     "metadata": {},
     "output_type": "execute_result"
    }
   ],
   "source": [
    "np.sum(cat_lists_differ)"
   ]
  },
  {
   "cell_type": "code",
   "execution_count": 351,
   "metadata": {},
   "outputs": [],
   "source": [
    "df = pd.DataFrame([(old_category_cols_minus_ml[x],new_category_cols[x],old_cat_lists[x],new_cat_lists[x]) for x in range(len(new_cat_lists)) if cat_lists_differ[x]])"
   ]
  },
  {
   "cell_type": "code",
   "execution_count": 354,
   "metadata": {},
   "outputs": [
    {
     "data": {
      "text/html": [
       "<div>\n",
       "<style scoped>\n",
       "    .dataframe tbody tr th:only-of-type {\n",
       "        vertical-align: middle;\n",
       "    }\n",
       "\n",
       "    .dataframe tbody tr th {\n",
       "        vertical-align: top;\n",
       "    }\n",
       "\n",
       "    .dataframe thead th {\n",
       "        text-align: right;\n",
       "    }\n",
       "</style>\n",
       "<table border=\"1\" class=\"dataframe\">\n",
       "  <thead>\n",
       "    <tr style=\"text-align: right;\">\n",
       "      <th></th>\n",
       "      <th>old_var_name</th>\n",
       "      <th>new_var_name</th>\n",
       "      <th>old_cat_list</th>\n",
       "      <th>new_cat_list</th>\n",
       "    </tr>\n",
       "  </thead>\n",
       "  <tbody>\n",
       "    <tr>\n",
       "      <th>0</th>\n",
       "      <td>profile_education_ageW19</td>\n",
       "      <td>p_education_ageW19</td>\n",
       "      <td>a|b|C1|C2|d|e|Refused</td>\n",
       "      <td>15 or under|16|17-18|19|20+|Still at school/Fu...</td>\n",
       "    </tr>\n",
       "    <tr>\n",
       "      <th>1</th>\n",
       "      <td>profile_turnout_2017</td>\n",
       "      <td>p_turnout_2017</td>\n",
       "      <td>No, did not vote|Yes, voted|Don't know</td>\n",
       "      <td>DNV|Voted|Don't know</td>\n",
       "    </tr>\n",
       "    <tr>\n",
       "      <th>2</th>\n",
       "      <td>profile_gross_householdW16</td>\n",
       "      <td>p_gross_householdW16</td>\n",
       "      <td>under Â£5,000 per year|Â£5,000 to Â£9,999 per ...</td>\n",
       "      <td>under Â£5,000 per year|Â£5,000 to Â£9,999 per ...</td>\n",
       "    </tr>\n",
       "    <tr>\n",
       "      <th>3</th>\n",
       "      <td>profile_gross_householdW15</td>\n",
       "      <td>p_gross_householdW15</td>\n",
       "      <td>under Â£5,000 per year|Â£5,000 to Â£9,999 per ...</td>\n",
       "      <td>under Â£5,000 per year|Â£5,000 to Â£9,999 per ...</td>\n",
       "    </tr>\n",
       "    <tr>\n",
       "      <th>4</th>\n",
       "      <td>profile_socgradeW14</td>\n",
       "      <td>p_socgradeW14</td>\n",
       "      <td>a|b|C1|C2|d|e</td>\n",
       "      <td>A|B|C1|C2|D|E|Unknown</td>\n",
       "    </tr>\n",
       "    <tr>\n",
       "      <th>5</th>\n",
       "      <td>profile_gross_householdW12</td>\n",
       "      <td>p_gross_householdW12</td>\n",
       "      <td>under Â£5,000 per year|Â£5,000 to Â£9,999 per ...</td>\n",
       "      <td>under Â£5,000 per year|Â£5,000 to Â£9,999 per ...</td>\n",
       "    </tr>\n",
       "    <tr>\n",
       "      <th>6</th>\n",
       "      <td>profile_religionW17</td>\n",
       "      <td>p_religionW17</td>\n",
       "      <td>No, I do not regard myself as belonging to any...</td>\n",
       "      <td>No, I do not regard myself as belonging to any...</td>\n",
       "    </tr>\n",
       "    <tr>\n",
       "      <th>7</th>\n",
       "      <td>profile_gross_personalW18</td>\n",
       "      <td>p_gross_personalW18</td>\n",
       "      <td>under £5,000 per year|£5,000 to £9,999 per yea...</td>\n",
       "      <td>Â under Â£5,000 per year|Â Â£5,000 to Â£9,999 ...</td>\n",
       "    </tr>\n",
       "    <tr>\n",
       "      <th>8</th>\n",
       "      <td>profile_socgradeW12</td>\n",
       "      <td>p_socgradeW12</td>\n",
       "      <td>a|b|C1|C2|d|e</td>\n",
       "      <td>A|B|C1|C2|D|E|Unknown</td>\n",
       "    </tr>\n",
       "    <tr>\n",
       "      <th>9</th>\n",
       "      <td>profile_religionW14</td>\n",
       "      <td>p_religionW14</td>\n",
       "      <td>No, I do not regard myself as belonging to any...</td>\n",
       "      <td>No, I do not regard myself as belonging to any...</td>\n",
       "    </tr>\n",
       "    <tr>\n",
       "      <th>10</th>\n",
       "      <td>profile_religionW10</td>\n",
       "      <td>p_religionW10</td>\n",
       "      <td>No, I do not regard myself as belonging to any...</td>\n",
       "      <td>No, I do not regard myself as belonging to any...</td>\n",
       "    </tr>\n",
       "    <tr>\n",
       "      <th>11</th>\n",
       "      <td>profile_turnout_2015</td>\n",
       "      <td>p_turnout_2015</td>\n",
       "      <td>No, did not vote|Yes, voted|Don't know</td>\n",
       "      <td>DNV|Voted|Don't know</td>\n",
       "    </tr>\n",
       "    <tr>\n",
       "      <th>12</th>\n",
       "      <td>profile_past_vote_2010</td>\n",
       "      <td>p_past_vote_2010</td>\n",
       "      <td>I would not vote|Conservative|Labour|Liberal D...</td>\n",
       "      <td>Conservative|Labour|Liberal Democrat|Scottish ...</td>\n",
       "    </tr>\n",
       "    <tr>\n",
       "      <th>13</th>\n",
       "      <td>profile_gross_personalW7</td>\n",
       "      <td>p_gross_personalW7</td>\n",
       "      <td>under Â£5,000 per year|Â£5,000 to Â£9,999 per ...</td>\n",
       "      <td>Â under Â£5,000 per year|Â Â£5,000 to Â£9,999 ...</td>\n",
       "    </tr>\n",
       "    <tr>\n",
       "      <th>14</th>\n",
       "      <td>profile_gross_householdW18</td>\n",
       "      <td>p_gross_householdW18</td>\n",
       "      <td>under £5,000 per year|£5,000 to £9,999 per yea...</td>\n",
       "      <td>under Â£5,000 per year|Â£5,000 to Â£9,999 per ...</td>\n",
       "    </tr>\n",
       "    <tr>\n",
       "      <th>15</th>\n",
       "      <td>profile_religionW13</td>\n",
       "      <td>p_religionW13</td>\n",
       "      <td>No, I do not regard myself as belonging to any...</td>\n",
       "      <td>No, I do not regard myself as belonging to any...</td>\n",
       "    </tr>\n",
       "    <tr>\n",
       "      <th>16</th>\n",
       "      <td>profile_gross_householdW13</td>\n",
       "      <td>p_gross_householdW13</td>\n",
       "      <td>under Â£5,000 per year|Â£5,000 to Â£9,999 per ...</td>\n",
       "      <td>under Â£5,000 per year|Â£5,000 to Â£9,999 per ...</td>\n",
       "    </tr>\n",
       "    <tr>\n",
       "      <th>17</th>\n",
       "      <td>profile_religionW11</td>\n",
       "      <td>p_religionW11</td>\n",
       "      <td>No, I do not regard myself as belonging to any...</td>\n",
       "      <td>No, I do not regard myself as belonging to any...</td>\n",
       "    </tr>\n",
       "    <tr>\n",
       "      <th>18</th>\n",
       "      <td>profile_gross_householdW17</td>\n",
       "      <td>p_gross_householdW17</td>\n",
       "      <td>under £5,000 per year|£5,000 to £9,999 per yea...</td>\n",
       "      <td>under Â£5,000 per year|Â£5,000 to Â£9,999 per ...</td>\n",
       "    </tr>\n",
       "    <tr>\n",
       "      <th>19</th>\n",
       "      <td>profile_socgradeW7</td>\n",
       "      <td>p_socgradeW7</td>\n",
       "      <td>a|b|C1|C2|d|e</td>\n",
       "      <td>A|B|C1|C2|D|E|Refused|Unknown</td>\n",
       "    </tr>\n",
       "    <tr>\n",
       "      <th>20</th>\n",
       "      <td>profile_socgradeW15</td>\n",
       "      <td>p_socgradeW15</td>\n",
       "      <td>a|b|C1|C2|d|e</td>\n",
       "      <td>A|B|C1|C2|D|E|Unknown</td>\n",
       "    </tr>\n",
       "    <tr>\n",
       "      <th>21</th>\n",
       "      <td>profile_religionW16</td>\n",
       "      <td>p_religionW16</td>\n",
       "      <td>No, I do not regard myself as belonging to any...</td>\n",
       "      <td>No, I do not regard myself as belonging to any...</td>\n",
       "    </tr>\n",
       "    <tr>\n",
       "      <th>22</th>\n",
       "      <td>profile_work_statW17</td>\n",
       "      <td>p_work_statW17</td>\n",
       "      <td>Conservative|Labour|Liberal Democrat|Scottish ...</td>\n",
       "      <td>Working full time (30 or more hours per week)|...</td>\n",
       "    </tr>\n",
       "    <tr>\n",
       "      <th>23</th>\n",
       "      <td>profile_gross_householdW11</td>\n",
       "      <td>p_gross_householdW11</td>\n",
       "      <td>under Â£5,000 per year|Â£5,000 to Â£9,999 per ...</td>\n",
       "      <td>under Â£5,000 per year|Â£5,000 to Â£9,999 per ...</td>\n",
       "    </tr>\n",
       "    <tr>\n",
       "      <th>24</th>\n",
       "      <td>profile_religionW15</td>\n",
       "      <td>p_religionW15</td>\n",
       "      <td>No, I do not regard myself as belonging to any...</td>\n",
       "      <td>No, I do not regard myself as belonging to any...</td>\n",
       "    </tr>\n",
       "    <tr>\n",
       "      <th>25</th>\n",
       "      <td>profile_socgradeW16</td>\n",
       "      <td>p_socgradeW16</td>\n",
       "      <td>a|b|C1|C2|d|e</td>\n",
       "      <td>A|B|C1|C2|D|E|Unknown</td>\n",
       "    </tr>\n",
       "    <tr>\n",
       "      <th>26</th>\n",
       "      <td>profile_gross_householdW10</td>\n",
       "      <td>p_gross_householdW10</td>\n",
       "      <td>under Â£5,000 per year|Â£5,000 to Â£9,999 per ...</td>\n",
       "      <td>under Â£5,000 per year|Â£5,000 to Â£9,999 per ...</td>\n",
       "    </tr>\n",
       "    <tr>\n",
       "      <th>27</th>\n",
       "      <td>profile_socgradeW8</td>\n",
       "      <td>p_socgradeW8</td>\n",
       "      <td>a|b|C1|C2|d|e</td>\n",
       "      <td>A|B|C1|C2|D|E|Refused|Unknown</td>\n",
       "    </tr>\n",
       "    <tr>\n",
       "      <th>28</th>\n",
       "      <td>profile_past_vote_2005</td>\n",
       "      <td>p_past_vote_2005</td>\n",
       "      <td>I would not vote|Conservative|Labour|Liberal D...</td>\n",
       "      <td>Conservative|Labour|Liberal Democrat|Scottish ...</td>\n",
       "    </tr>\n",
       "    <tr>\n",
       "      <th>29</th>\n",
       "      <td>profile_gross_householdW19</td>\n",
       "      <td>p_gross_householdW19</td>\n",
       "      <td>under £5,000 per year|£5,000 to £9,999 per yea...</td>\n",
       "      <td>under Â£5,000 per year|Â£5,000 to Â£9,999 per ...</td>\n",
       "    </tr>\n",
       "    <tr>\n",
       "      <th>30</th>\n",
       "      <td>profile_socgradeW13</td>\n",
       "      <td>p_socgradeW13</td>\n",
       "      <td>a|b|C1|C2|d|e</td>\n",
       "      <td>A|B|C1|C2|D|E|Refused|Unknown</td>\n",
       "    </tr>\n",
       "    <tr>\n",
       "      <th>31</th>\n",
       "      <td>profile_religionW12</td>\n",
       "      <td>p_religionW12</td>\n",
       "      <td>No, I do not regard myself as belonging to any...</td>\n",
       "      <td>No, I do not regard myself as belonging to any...</td>\n",
       "    </tr>\n",
       "    <tr>\n",
       "      <th>32</th>\n",
       "      <td>profile_gross_householdW14</td>\n",
       "      <td>p_gross_householdW14</td>\n",
       "      <td>under Â£5,000 per year|Â£5,000 to Â£9,999 per ...</td>\n",
       "      <td>under Â£5,000 per year|Â£5,000 to Â£9,999 per ...</td>\n",
       "    </tr>\n",
       "    <tr>\n",
       "      <th>33</th>\n",
       "      <td>profile_gross_personalW19</td>\n",
       "      <td>p_gross_personalW19</td>\n",
       "      <td>under £5,000 per year|£5,000 to £9,999 per yea...</td>\n",
       "      <td>Â under Â£5,000 per year|Â Â£5,000 to Â£9,999 ...</td>\n",
       "    </tr>\n",
       "    <tr>\n",
       "      <th>34</th>\n",
       "      <td>profile_education_ageW18</td>\n",
       "      <td>p_education_ageW18</td>\n",
       "      <td>Professional or higher technical work / higher...</td>\n",
       "      <td>15 or under|16|17-18|19|20+|Still at school/Fu...</td>\n",
       "    </tr>\n",
       "    <tr>\n",
       "      <th>35</th>\n",
       "      <td>profile_marital_statW14</td>\n",
       "      <td>p_maritalW14</td>\n",
       "      <td>Married|Living as married|Separated (after bei...</td>\n",
       "      <td>Married|In a civil partnership|Separated but s...</td>\n",
       "    </tr>\n",
       "    <tr>\n",
       "      <th>36</th>\n",
       "      <td>profile_marital_statW18</td>\n",
       "      <td>p_maritalW18</td>\n",
       "      <td>Married|Living as married|Separated (after bei...</td>\n",
       "      <td>Married|In a civil partnership|Separated but s...</td>\n",
       "    </tr>\n",
       "    <tr>\n",
       "      <th>37</th>\n",
       "      <td>profile_marital_statW16</td>\n",
       "      <td>p_maritalW16</td>\n",
       "      <td>Married|Living as married|Separated (after bei...</td>\n",
       "      <td>Married|In a civil partnership|Separated but s...</td>\n",
       "    </tr>\n",
       "    <tr>\n",
       "      <th>38</th>\n",
       "      <td>profile_marital_statW17</td>\n",
       "      <td>p_maritalW17</td>\n",
       "      <td>a|b|C1|C2|d|e|Refused</td>\n",
       "      <td>Married|In a civil partnership|Separated but s...</td>\n",
       "    </tr>\n",
       "    <tr>\n",
       "      <th>39</th>\n",
       "      <td>profile_marital_statW11</td>\n",
       "      <td>p_maritalW11</td>\n",
       "      <td>Married|Living as married|Separated (after bei...</td>\n",
       "      <td>Married|In a civil partnership|Separated but s...</td>\n",
       "    </tr>\n",
       "    <tr>\n",
       "      <th>40</th>\n",
       "      <td>profile_marital_statW15</td>\n",
       "      <td>p_maritalW15</td>\n",
       "      <td>Married|Living as married|Separated (after bei...</td>\n",
       "      <td>Married|In a civil partnership|Separated but s...</td>\n",
       "    </tr>\n",
       "    <tr>\n",
       "      <th>41</th>\n",
       "      <td>profile_marital_statW13</td>\n",
       "      <td>p_maritalW13</td>\n",
       "      <td>Married|Living as married|Separated (after bei...</td>\n",
       "      <td>Married|In a civil partnership|Separated but s...</td>\n",
       "    </tr>\n",
       "    <tr>\n",
       "      <th>42</th>\n",
       "      <td>profile_house_tenureW14</td>\n",
       "      <td>p_housingW14</td>\n",
       "      <td>Own - outright|Own - with a mortgage|Own (part...</td>\n",
       "      <td>Own â outright|Own â with a mortgage|Own (...</td>\n",
       "    </tr>\n",
       "    <tr>\n",
       "      <th>43</th>\n",
       "      <td>profile_house_tenureW12</td>\n",
       "      <td>p_housingW12</td>\n",
       "      <td>Own  outright|Own  with a mortgage|Own (part...</td>\n",
       "      <td>Own â outright|Own â with a mortgage|Own (...</td>\n",
       "    </tr>\n",
       "    <tr>\n",
       "      <th>44</th>\n",
       "      <td>profile_house_tenureW17</td>\n",
       "      <td>p_housingW17</td>\n",
       "      <td>Own  outright|Own  with a mortgage|Own (part...</td>\n",
       "      <td>Own â outright|Own â with a mortgage|Own (...</td>\n",
       "    </tr>\n",
       "    <tr>\n",
       "      <th>45</th>\n",
       "      <td>profile_house_tenureW11</td>\n",
       "      <td>p_housingW11</td>\n",
       "      <td>Own  outright|Own  with a mortgage|Own (part...</td>\n",
       "      <td>Own â outright|Own â with a mortgage|Own (...</td>\n",
       "    </tr>\n",
       "    <tr>\n",
       "      <th>46</th>\n",
       "      <td>profile_house_tenureW15</td>\n",
       "      <td>p_housingW15</td>\n",
       "      <td>Own - outright|Own - with a mortgage|Own (part...</td>\n",
       "      <td>Own â outright|Own â with a mortgage|Own (...</td>\n",
       "    </tr>\n",
       "    <tr>\n",
       "      <th>47</th>\n",
       "      <td>profile_house_tenureW16</td>\n",
       "      <td>p_housingW16</td>\n",
       "      <td>Own - outright|Own - with a mortgage|Own (part...</td>\n",
       "      <td>Own â outright|Own â with a mortgage|Own (...</td>\n",
       "    </tr>\n",
       "    <tr>\n",
       "      <th>48</th>\n",
       "      <td>profile_house_tenureW13</td>\n",
       "      <td>p_housingW13</td>\n",
       "      <td>Own  outright|Own  with a mortgage|Own (part...</td>\n",
       "      <td>Own â outright|Own â with a mortgage|Own (...</td>\n",
       "    </tr>\n",
       "    <tr>\n",
       "      <th>49</th>\n",
       "      <td>profile_socialgrade_cieW18</td>\n",
       "      <td>p_socgradeW18</td>\n",
       "      <td>a|b|C1|C2|d|e</td>\n",
       "      <td>A|B|C1|C2|D|E|Unknown</td>\n",
       "    </tr>\n",
       "  </tbody>\n",
       "</table>\n",
       "</div>"
      ],
      "text/plain": [
       "                  old_var_name          new_var_name  \\\n",
       "0     profile_education_ageW19    p_education_ageW19   \n",
       "1         profile_turnout_2017        p_turnout_2017   \n",
       "2   profile_gross_householdW16  p_gross_householdW16   \n",
       "3   profile_gross_householdW15  p_gross_householdW15   \n",
       "4          profile_socgradeW14         p_socgradeW14   \n",
       "5   profile_gross_householdW12  p_gross_householdW12   \n",
       "6          profile_religionW17         p_religionW17   \n",
       "7    profile_gross_personalW18   p_gross_personalW18   \n",
       "8          profile_socgradeW12         p_socgradeW12   \n",
       "9          profile_religionW14         p_religionW14   \n",
       "10         profile_religionW10         p_religionW10   \n",
       "11        profile_turnout_2015        p_turnout_2015   \n",
       "12      profile_past_vote_2010      p_past_vote_2010   \n",
       "13    profile_gross_personalW7    p_gross_personalW7   \n",
       "14  profile_gross_householdW18  p_gross_householdW18   \n",
       "15         profile_religionW13         p_religionW13   \n",
       "16  profile_gross_householdW13  p_gross_householdW13   \n",
       "17         profile_religionW11         p_religionW11   \n",
       "18  profile_gross_householdW17  p_gross_householdW17   \n",
       "19          profile_socgradeW7          p_socgradeW7   \n",
       "20         profile_socgradeW15         p_socgradeW15   \n",
       "21         profile_religionW16         p_religionW16   \n",
       "22        profile_work_statW17        p_work_statW17   \n",
       "23  profile_gross_householdW11  p_gross_householdW11   \n",
       "24         profile_religionW15         p_religionW15   \n",
       "25         profile_socgradeW16         p_socgradeW16   \n",
       "26  profile_gross_householdW10  p_gross_householdW10   \n",
       "27          profile_socgradeW8          p_socgradeW8   \n",
       "28      profile_past_vote_2005      p_past_vote_2005   \n",
       "29  profile_gross_householdW19  p_gross_householdW19   \n",
       "30         profile_socgradeW13         p_socgradeW13   \n",
       "31         profile_religionW12         p_religionW12   \n",
       "32  profile_gross_householdW14  p_gross_householdW14   \n",
       "33   profile_gross_personalW19   p_gross_personalW19   \n",
       "34    profile_education_ageW18    p_education_ageW18   \n",
       "35     profile_marital_statW14          p_maritalW14   \n",
       "36     profile_marital_statW18          p_maritalW18   \n",
       "37     profile_marital_statW16          p_maritalW16   \n",
       "38     profile_marital_statW17          p_maritalW17   \n",
       "39     profile_marital_statW11          p_maritalW11   \n",
       "40     profile_marital_statW15          p_maritalW15   \n",
       "41     profile_marital_statW13          p_maritalW13   \n",
       "42     profile_house_tenureW14          p_housingW14   \n",
       "43     profile_house_tenureW12          p_housingW12   \n",
       "44     profile_house_tenureW17          p_housingW17   \n",
       "45     profile_house_tenureW11          p_housingW11   \n",
       "46     profile_house_tenureW15          p_housingW15   \n",
       "47     profile_house_tenureW16          p_housingW16   \n",
       "48     profile_house_tenureW13          p_housingW13   \n",
       "49  profile_socialgrade_cieW18         p_socgradeW18   \n",
       "\n",
       "                                         old_cat_list  \\\n",
       "0                               a|b|C1|C2|d|e|Refused   \n",
       "1              No, did not vote|Yes, voted|Don't know   \n",
       "2   under Â£5,000 per year|Â£5,000 to Â£9,999 per ...   \n",
       "3   under Â£5,000 per year|Â£5,000 to Â£9,999 per ...   \n",
       "4                                       a|b|C1|C2|d|e   \n",
       "5   under Â£5,000 per year|Â£5,000 to Â£9,999 per ...   \n",
       "6   No, I do not regard myself as belonging to any...   \n",
       "7   under £5,000 per year|£5,000 to £9,999 per yea...   \n",
       "8                                       a|b|C1|C2|d|e   \n",
       "9   No, I do not regard myself as belonging to any...   \n",
       "10  No, I do not regard myself as belonging to any...   \n",
       "11             No, did not vote|Yes, voted|Don't know   \n",
       "12  I would not vote|Conservative|Labour|Liberal D...   \n",
       "13  under Â£5,000 per year|Â£5,000 to Â£9,999 per ...   \n",
       "14  under £5,000 per year|£5,000 to £9,999 per yea...   \n",
       "15  No, I do not regard myself as belonging to any...   \n",
       "16  under Â£5,000 per year|Â£5,000 to Â£9,999 per ...   \n",
       "17  No, I do not regard myself as belonging to any...   \n",
       "18  under £5,000 per year|£5,000 to £9,999 per yea...   \n",
       "19                                      a|b|C1|C2|d|e   \n",
       "20                                      a|b|C1|C2|d|e   \n",
       "21  No, I do not regard myself as belonging to any...   \n",
       "22  Conservative|Labour|Liberal Democrat|Scottish ...   \n",
       "23  under Â£5,000 per year|Â£5,000 to Â£9,999 per ...   \n",
       "24  No, I do not regard myself as belonging to any...   \n",
       "25                                      a|b|C1|C2|d|e   \n",
       "26  under Â£5,000 per year|Â£5,000 to Â£9,999 per ...   \n",
       "27                                      a|b|C1|C2|d|e   \n",
       "28  I would not vote|Conservative|Labour|Liberal D...   \n",
       "29  under £5,000 per year|£5,000 to £9,999 per yea...   \n",
       "30                                      a|b|C1|C2|d|e   \n",
       "31  No, I do not regard myself as belonging to any...   \n",
       "32  under Â£5,000 per year|Â£5,000 to Â£9,999 per ...   \n",
       "33  under £5,000 per year|£5,000 to £9,999 per yea...   \n",
       "34  Professional or higher technical work / higher...   \n",
       "35  Married|Living as married|Separated (after bei...   \n",
       "36  Married|Living as married|Separated (after bei...   \n",
       "37  Married|Living as married|Separated (after bei...   \n",
       "38                              a|b|C1|C2|d|e|Refused   \n",
       "39  Married|Living as married|Separated (after bei...   \n",
       "40  Married|Living as married|Separated (after bei...   \n",
       "41  Married|Living as married|Separated (after bei...   \n",
       "42  Own - outright|Own - with a mortgage|Own (part...   \n",
       "43  Own  outright|Own  with a mortgage|Own (part...   \n",
       "44  Own  outright|Own  with a mortgage|Own (part...   \n",
       "45  Own  outright|Own  with a mortgage|Own (part...   \n",
       "46  Own - outright|Own - with a mortgage|Own (part...   \n",
       "47  Own - outright|Own - with a mortgage|Own (part...   \n",
       "48  Own  outright|Own  with a mortgage|Own (part...   \n",
       "49                                      a|b|C1|C2|d|e   \n",
       "\n",
       "                                         new_cat_list  \n",
       "0   15 or under|16|17-18|19|20+|Still at school/Fu...  \n",
       "1                                DNV|Voted|Don't know  \n",
       "2   under Â£5,000 per year|Â£5,000 to Â£9,999 per ...  \n",
       "3   under Â£5,000 per year|Â£5,000 to Â£9,999 per ...  \n",
       "4                               A|B|C1|C2|D|E|Unknown  \n",
       "5   under Â£5,000 per year|Â£5,000 to Â£9,999 per ...  \n",
       "6   No, I do not regard myself as belonging to any...  \n",
       "7   Â under Â£5,000 per year|Â Â£5,000 to Â£9,999 ...  \n",
       "8                               A|B|C1|C2|D|E|Unknown  \n",
       "9   No, I do not regard myself as belonging to any...  \n",
       "10  No, I do not regard myself as belonging to any...  \n",
       "11                               DNV|Voted|Don't know  \n",
       "12  Conservative|Labour|Liberal Democrat|Scottish ...  \n",
       "13  Â under Â£5,000 per year|Â Â£5,000 to Â£9,999 ...  \n",
       "14  under Â£5,000 per year|Â£5,000 to Â£9,999 per ...  \n",
       "15  No, I do not regard myself as belonging to any...  \n",
       "16  under Â£5,000 per year|Â£5,000 to Â£9,999 per ...  \n",
       "17  No, I do not regard myself as belonging to any...  \n",
       "18  under Â£5,000 per year|Â£5,000 to Â£9,999 per ...  \n",
       "19                      A|B|C1|C2|D|E|Refused|Unknown  \n",
       "20                              A|B|C1|C2|D|E|Unknown  \n",
       "21  No, I do not regard myself as belonging to any...  \n",
       "22  Working full time (30 or more hours per week)|...  \n",
       "23  under Â£5,000 per year|Â£5,000 to Â£9,999 per ...  \n",
       "24  No, I do not regard myself as belonging to any...  \n",
       "25                              A|B|C1|C2|D|E|Unknown  \n",
       "26  under Â£5,000 per year|Â£5,000 to Â£9,999 per ...  \n",
       "27                      A|B|C1|C2|D|E|Refused|Unknown  \n",
       "28  Conservative|Labour|Liberal Democrat|Scottish ...  \n",
       "29  under Â£5,000 per year|Â£5,000 to Â£9,999 per ...  \n",
       "30                      A|B|C1|C2|D|E|Refused|Unknown  \n",
       "31  No, I do not regard myself as belonging to any...  \n",
       "32  under Â£5,000 per year|Â£5,000 to Â£9,999 per ...  \n",
       "33  Â under Â£5,000 per year|Â Â£5,000 to Â£9,999 ...  \n",
       "34  15 or under|16|17-18|19|20+|Still at school/Fu...  \n",
       "35  Married|In a civil partnership|Separated but s...  \n",
       "36  Married|In a civil partnership|Separated but s...  \n",
       "37  Married|In a civil partnership|Separated but s...  \n",
       "38  Married|In a civil partnership|Separated but s...  \n",
       "39  Married|In a civil partnership|Separated but s...  \n",
       "40  Married|In a civil partnership|Separated but s...  \n",
       "41  Married|In a civil partnership|Separated but s...  \n",
       "42  Own â outright|Own â with a mortgage|Own (...  \n",
       "43  Own â outright|Own â with a mortgage|Own (...  \n",
       "44  Own â outright|Own â with a mortgage|Own (...  \n",
       "45  Own â outright|Own â with a mortgage|Own (...  \n",
       "46  Own â outright|Own â with a mortgage|Own (...  \n",
       "47  Own â outright|Own â with a mortgage|Own (...  \n",
       "48  Own â outright|Own â with a mortgage|Own (...  \n",
       "49                              A|B|C1|C2|D|E|Unknown  "
      ]
     },
     "execution_count": 354,
     "metadata": {},
     "output_type": "execute_result"
    }
   ],
   "source": [
    "df.columns = [\"old_var_name\",\"new_var_name\",\"old_cat_list\",\"new_cat_list\"]\n",
    "df.head(50)"
   ]
  },
  {
   "cell_type": "code",
   "execution_count": 472,
   "metadata": {},
   "outputs": [
    {
     "data": {
      "text/html": [
       "<div>\n",
       "<style scoped>\n",
       "    .dataframe tbody tr th:only-of-type {\n",
       "        vertical-align: middle;\n",
       "    }\n",
       "\n",
       "    .dataframe tbody tr th {\n",
       "        vertical-align: top;\n",
       "    }\n",
       "\n",
       "    .dataframe thead th {\n",
       "        text-align: right;\n",
       "    }\n",
       "</style>\n",
       "<table border=\"1\" class=\"dataframe\">\n",
       "  <thead>\n",
       "    <tr style=\"text-align: right;\">\n",
       "      <th></th>\n",
       "      <th>old_var_name</th>\n",
       "      <th>new_var_name</th>\n",
       "      <th>old_cat_list</th>\n",
       "      <th>new_cat_list</th>\n",
       "    </tr>\n",
       "  </thead>\n",
       "  <tbody>\n",
       "    <tr>\n",
       "      <th>2</th>\n",
       "      <td>profile_gross_householdW16</td>\n",
       "      <td>p_gross_householdW16</td>\n",
       "      <td>under Â£5,000 per year|Â£5,000 to Â£9,999 per ...</td>\n",
       "      <td>under Â£5,000 per year|Â£5,000 to Â£9,999 per ...</td>\n",
       "    </tr>\n",
       "    <tr>\n",
       "      <th>18</th>\n",
       "      <td>profile_gross_householdW17</td>\n",
       "      <td>p_gross_householdW17</td>\n",
       "      <td>under £5,000 per year|£5,000 to £9,999 per yea...</td>\n",
       "      <td>under Â£5,000 per year|Â£5,000 to Â£9,999 per ...</td>\n",
       "    </tr>\n",
       "    <tr>\n",
       "      <th>14</th>\n",
       "      <td>profile_gross_householdW18</td>\n",
       "      <td>p_gross_householdW18</td>\n",
       "      <td>under £5,000 per year|£5,000 to £9,999 per yea...</td>\n",
       "      <td>under Â£5,000 per year|Â£5,000 to Â£9,999 per ...</td>\n",
       "    </tr>\n",
       "    <tr>\n",
       "      <th>29</th>\n",
       "      <td>profile_gross_householdW19</td>\n",
       "      <td>p_gross_householdW19</td>\n",
       "      <td>under £5,000 per year|£5,000 to £9,999 per yea...</td>\n",
       "      <td>under Â£5,000 per year|Â£5,000 to Â£9,999 per ...</td>\n",
       "    </tr>\n",
       "    <tr>\n",
       "      <th>7</th>\n",
       "      <td>profile_gross_personalW18</td>\n",
       "      <td>p_gross_personalW18</td>\n",
       "      <td>under £5,000 per year|£5,000 to £9,999 per yea...</td>\n",
       "      <td>Â under Â£5,000 per year|Â Â£5,000 to Â£9,999 ...</td>\n",
       "    </tr>\n",
       "    <tr>\n",
       "      <th>33</th>\n",
       "      <td>profile_gross_personalW19</td>\n",
       "      <td>p_gross_personalW19</td>\n",
       "      <td>under £5,000 per year|£5,000 to £9,999 per yea...</td>\n",
       "      <td>Â under Â£5,000 per year|Â Â£5,000 to Â£9,999 ...</td>\n",
       "    </tr>\n",
       "    <tr>\n",
       "      <th>13</th>\n",
       "      <td>profile_gross_personalW7</td>\n",
       "      <td>p_gross_personalW7</td>\n",
       "      <td>under Â£5,000 per year|Â£5,000 to Â£9,999 per ...</td>\n",
       "      <td>Â under Â£5,000 per year|Â Â£5,000 to Â£9,999 ...</td>\n",
       "    </tr>\n",
       "    <tr>\n",
       "      <th>45</th>\n",
       "      <td>profile_house_tenureW11</td>\n",
       "      <td>p_housingW11</td>\n",
       "      <td>Own  outright|Own  with a mortgage|Own (part...</td>\n",
       "      <td>Own â outright|Own â with a mortgage|Own (...</td>\n",
       "    </tr>\n",
       "    <tr>\n",
       "      <th>43</th>\n",
       "      <td>profile_house_tenureW12</td>\n",
       "      <td>p_housingW12</td>\n",
       "      <td>Own  outright|Own  with a mortgage|Own (part...</td>\n",
       "      <td>Own â outright|Own â with a mortgage|Own (...</td>\n",
       "    </tr>\n",
       "    <tr>\n",
       "      <th>48</th>\n",
       "      <td>profile_house_tenureW13</td>\n",
       "      <td>p_housingW13</td>\n",
       "      <td>Own  outright|Own  with a mortgage|Own (part...</td>\n",
       "      <td>Own â outright|Own â with a mortgage|Own (...</td>\n",
       "    </tr>\n",
       "    <tr>\n",
       "      <th>42</th>\n",
       "      <td>profile_house_tenureW14</td>\n",
       "      <td>p_housingW14</td>\n",
       "      <td>Own - outright|Own - with a mortgage|Own (part...</td>\n",
       "      <td>Own â outright|Own â with a mortgage|Own (...</td>\n",
       "    </tr>\n",
       "    <tr>\n",
       "      <th>46</th>\n",
       "      <td>profile_house_tenureW15</td>\n",
       "      <td>p_housingW15</td>\n",
       "      <td>Own - outright|Own - with a mortgage|Own (part...</td>\n",
       "      <td>Own â outright|Own â with a mortgage|Own (...</td>\n",
       "    </tr>\n",
       "    <tr>\n",
       "      <th>47</th>\n",
       "      <td>profile_house_tenureW16</td>\n",
       "      <td>p_housingW16</td>\n",
       "      <td>Own - outright|Own - with a mortgage|Own (part...</td>\n",
       "      <td>Own â outright|Own â with a mortgage|Own (...</td>\n",
       "    </tr>\n",
       "    <tr>\n",
       "      <th>44</th>\n",
       "      <td>profile_house_tenureW17</td>\n",
       "      <td>p_housingW17</td>\n",
       "      <td>Own  outright|Own  with a mortgage|Own (part...</td>\n",
       "      <td>Own â outright|Own â with a mortgage|Own (...</td>\n",
       "    </tr>\n",
       "    <tr>\n",
       "      <th>39</th>\n",
       "      <td>profile_marital_statW11</td>\n",
       "      <td>p_maritalW11</td>\n",
       "      <td>Married|Living as married|Separated (after bei...</td>\n",
       "      <td>Married|In a civil partnership|Separated but s...</td>\n",
       "    </tr>\n",
       "    <tr>\n",
       "      <th>41</th>\n",
       "      <td>profile_marital_statW13</td>\n",
       "      <td>p_maritalW13</td>\n",
       "      <td>Married|Living as married|Separated (after bei...</td>\n",
       "      <td>Married|In a civil partnership|Separated but s...</td>\n",
       "    </tr>\n",
       "    <tr>\n",
       "      <th>35</th>\n",
       "      <td>profile_marital_statW14</td>\n",
       "      <td>p_maritalW14</td>\n",
       "      <td>Married|Living as married|Separated (after bei...</td>\n",
       "      <td>Married|In a civil partnership|Separated but s...</td>\n",
       "    </tr>\n",
       "    <tr>\n",
       "      <th>40</th>\n",
       "      <td>profile_marital_statW15</td>\n",
       "      <td>p_maritalW15</td>\n",
       "      <td>Married|Living as married|Separated (after bei...</td>\n",
       "      <td>Married|In a civil partnership|Separated but s...</td>\n",
       "    </tr>\n",
       "    <tr>\n",
       "      <th>37</th>\n",
       "      <td>profile_marital_statW16</td>\n",
       "      <td>p_maritalW16</td>\n",
       "      <td>Married|Living as married|Separated (after bei...</td>\n",
       "      <td>Married|In a civil partnership|Separated but s...</td>\n",
       "    </tr>\n",
       "    <tr>\n",
       "      <th>38</th>\n",
       "      <td>profile_marital_statW17</td>\n",
       "      <td>p_maritalW17</td>\n",
       "      <td>a|b|C1|C2|d|e|Refused</td>\n",
       "      <td>Married|In a civil partnership|Separated but s...</td>\n",
       "    </tr>\n",
       "    <tr>\n",
       "      <th>36</th>\n",
       "      <td>profile_marital_statW18</td>\n",
       "      <td>p_maritalW18</td>\n",
       "      <td>Married|Living as married|Separated (after bei...</td>\n",
       "      <td>Married|In a civil partnership|Separated but s...</td>\n",
       "    </tr>\n",
       "    <tr>\n",
       "      <th>28</th>\n",
       "      <td>profile_past_vote_2005</td>\n",
       "      <td>p_past_vote_2005</td>\n",
       "      <td>I would not vote|Conservative|Labour|Liberal D...</td>\n",
       "      <td>Conservative|Labour|Liberal Democrat|Scottish ...</td>\n",
       "    </tr>\n",
       "    <tr>\n",
       "      <th>12</th>\n",
       "      <td>profile_past_vote_2010</td>\n",
       "      <td>p_past_vote_2010</td>\n",
       "      <td>I would not vote|Conservative|Labour|Liberal D...</td>\n",
       "      <td>Conservative|Labour|Liberal Democrat|Scottish ...</td>\n",
       "    </tr>\n",
       "    <tr>\n",
       "      <th>10</th>\n",
       "      <td>profile_religionW10</td>\n",
       "      <td>p_religionW10</td>\n",
       "      <td>No, I do not regard myself as belonging to any...</td>\n",
       "      <td>No, I do not regard myself as belonging to any...</td>\n",
       "    </tr>\n",
       "    <tr>\n",
       "      <th>17</th>\n",
       "      <td>profile_religionW11</td>\n",
       "      <td>p_religionW11</td>\n",
       "      <td>No, I do not regard myself as belonging to any...</td>\n",
       "      <td>No, I do not regard myself as belonging to any...</td>\n",
       "    </tr>\n",
       "    <tr>\n",
       "      <th>31</th>\n",
       "      <td>profile_religionW12</td>\n",
       "      <td>p_religionW12</td>\n",
       "      <td>No, I do not regard myself as belonging to any...</td>\n",
       "      <td>No, I do not regard myself as belonging to any...</td>\n",
       "    </tr>\n",
       "    <tr>\n",
       "      <th>15</th>\n",
       "      <td>profile_religionW13</td>\n",
       "      <td>p_religionW13</td>\n",
       "      <td>No, I do not regard myself as belonging to any...</td>\n",
       "      <td>No, I do not regard myself as belonging to any...</td>\n",
       "    </tr>\n",
       "    <tr>\n",
       "      <th>9</th>\n",
       "      <td>profile_religionW14</td>\n",
       "      <td>p_religionW14</td>\n",
       "      <td>No, I do not regard myself as belonging to any...</td>\n",
       "      <td>No, I do not regard myself as belonging to any...</td>\n",
       "    </tr>\n",
       "    <tr>\n",
       "      <th>24</th>\n",
       "      <td>profile_religionW15</td>\n",
       "      <td>p_religionW15</td>\n",
       "      <td>No, I do not regard myself as belonging to any...</td>\n",
       "      <td>No, I do not regard myself as belonging to any...</td>\n",
       "    </tr>\n",
       "    <tr>\n",
       "      <th>21</th>\n",
       "      <td>profile_religionW16</td>\n",
       "      <td>p_religionW16</td>\n",
       "      <td>No, I do not regard myself as belonging to any...</td>\n",
       "      <td>No, I do not regard myself as belonging to any...</td>\n",
       "    </tr>\n",
       "    <tr>\n",
       "      <th>6</th>\n",
       "      <td>profile_religionW17</td>\n",
       "      <td>p_religionW17</td>\n",
       "      <td>No, I do not regard myself as belonging to any...</td>\n",
       "      <td>No, I do not regard myself as belonging to any...</td>\n",
       "    </tr>\n",
       "    <tr>\n",
       "      <th>53</th>\n",
       "      <td>profile_scotref_turnout</td>\n",
       "      <td>p_turnout_scot_ref</td>\n",
       "      <td>Yes, I voted|No, I did not vote|No, I was not ...</td>\n",
       "      <td>No, I did not vote|Yes, I voted|No, I was not ...</td>\n",
       "    </tr>\n",
       "    <tr>\n",
       "      <th>52</th>\n",
       "      <td>profile_scotref_vote</td>\n",
       "      <td>p_vote_scot_ref</td>\n",
       "      <td>I voted 'No' (Scotland should not be an indepe...</td>\n",
       "      <td>Voted no|Voted yes|Don't know</td>\n",
       "    </tr>\n",
       "    <tr>\n",
       "      <th>8</th>\n",
       "      <td>profile_socgradeW12</td>\n",
       "      <td>p_socgradeW12</td>\n",
       "      <td>a|b|C1|C2|d|e</td>\n",
       "      <td>A|B|C1|C2|D|E|Unknown</td>\n",
       "    </tr>\n",
       "    <tr>\n",
       "      <th>30</th>\n",
       "      <td>profile_socgradeW13</td>\n",
       "      <td>p_socgradeW13</td>\n",
       "      <td>a|b|C1|C2|d|e</td>\n",
       "      <td>A|B|C1|C2|D|E|Refused|Unknown</td>\n",
       "    </tr>\n",
       "    <tr>\n",
       "      <th>4</th>\n",
       "      <td>profile_socgradeW14</td>\n",
       "      <td>p_socgradeW14</td>\n",
       "      <td>a|b|C1|C2|d|e</td>\n",
       "      <td>A|B|C1|C2|D|E|Unknown</td>\n",
       "    </tr>\n",
       "    <tr>\n",
       "      <th>20</th>\n",
       "      <td>profile_socgradeW15</td>\n",
       "      <td>p_socgradeW15</td>\n",
       "      <td>a|b|C1|C2|d|e</td>\n",
       "      <td>A|B|C1|C2|D|E|Unknown</td>\n",
       "    </tr>\n",
       "    <tr>\n",
       "      <th>25</th>\n",
       "      <td>profile_socgradeW16</td>\n",
       "      <td>p_socgradeW16</td>\n",
       "      <td>a|b|C1|C2|d|e</td>\n",
       "      <td>A|B|C1|C2|D|E|Unknown</td>\n",
       "    </tr>\n",
       "    <tr>\n",
       "      <th>19</th>\n",
       "      <td>profile_socgradeW7</td>\n",
       "      <td>p_socgradeW7</td>\n",
       "      <td>a|b|C1|C2|d|e</td>\n",
       "      <td>A|B|C1|C2|D|E|Refused|Unknown</td>\n",
       "    </tr>\n",
       "    <tr>\n",
       "      <th>27</th>\n",
       "      <td>profile_socgradeW8</td>\n",
       "      <td>p_socgradeW8</td>\n",
       "      <td>a|b|C1|C2|d|e</td>\n",
       "      <td>A|B|C1|C2|D|E|Refused|Unknown</td>\n",
       "    </tr>\n",
       "    <tr>\n",
       "      <th>50</th>\n",
       "      <td>profile_socialgrade_cieW17</td>\n",
       "      <td>p_socgradeW17</td>\n",
       "      <td>Self-employed|Private sector firm or company (...</td>\n",
       "      <td>A|B|C1|C2|D|E|Unknown</td>\n",
       "    </tr>\n",
       "    <tr>\n",
       "      <th>49</th>\n",
       "      <td>profile_socialgrade_cieW18</td>\n",
       "      <td>p_socgradeW18</td>\n",
       "      <td>a|b|C1|C2|d|e</td>\n",
       "      <td>A|B|C1|C2|D|E|Unknown</td>\n",
       "    </tr>\n",
       "    <tr>\n",
       "      <th>51</th>\n",
       "      <td>profile_socialgrade_cieW19</td>\n",
       "      <td>p_socgradeW19</td>\n",
       "      <td>a|b|C1|C2|d|e</td>\n",
       "      <td>A|B|C1|C2|D|E|Unknown</td>\n",
       "    </tr>\n",
       "    <tr>\n",
       "      <th>11</th>\n",
       "      <td>profile_turnout_2015</td>\n",
       "      <td>p_turnout_2015</td>\n",
       "      <td>No, did not vote|Yes, voted|Don't know</td>\n",
       "      <td>DNV|Voted|Don't know</td>\n",
       "    </tr>\n",
       "    <tr>\n",
       "      <th>1</th>\n",
       "      <td>profile_turnout_2017</td>\n",
       "      <td>p_turnout_2017</td>\n",
       "      <td>No, did not vote|Yes, voted|Don't know</td>\n",
       "      <td>DNV|Voted|Don't know</td>\n",
       "    </tr>\n",
       "    <tr>\n",
       "      <th>22</th>\n",
       "      <td>profile_work_statW17</td>\n",
       "      <td>p_work_statW17</td>\n",
       "      <td>Conservative|Labour|Liberal Democrat|Scottish ...</td>\n",
       "      <td>Working full time (30 or more hours per week)|...</td>\n",
       "    </tr>\n",
       "    <tr>\n",
       "      <th>96</th>\n",
       "      <td>reaskVoteW12</td>\n",
       "      <td>reaskVoteW12</td>\n",
       "      <td>I would not vote|Conservative|Labour|Liberal D...</td>\n",
       "      <td>I would/did not vote|Conservative|Labour|Liber...</td>\n",
       "    </tr>\n",
       "    <tr>\n",
       "      <th>76</th>\n",
       "      <td>scotReferendumRetroW3</td>\n",
       "      <td>scotReferendumRetroW3</td>\n",
       "      <td>Yes, I voted|No, I did not vote|No, I was not ...</td>\n",
       "      <td>No, I did not vote|Yes, I voted|No, I was not ...</td>\n",
       "    </tr>\n",
       "    <tr>\n",
       "      <th>59</th>\n",
       "      <td>sexualityW17</td>\n",
       "      <td>p_sexualityW17</td>\n",
       "      <td>No|Yes|3.0|4.0|5.0</td>\n",
       "      <td>Heterosexual|Gay or lesbian|Bisexual|Other|Pre...</td>\n",
       "    </tr>\n",
       "    <tr>\n",
       "      <th>75</th>\n",
       "      <td>voted2015</td>\n",
       "      <td>voted2015newwordingW15</td>\n",
       "      <td>1.0|2.0|99.0</td>\n",
       "      <td>No, did not vote|Yes, voted|Don't know</td>\n",
       "    </tr>\n",
       "  </tbody>\n",
       "</table>\n",
       "</div>"
      ],
      "text/plain": [
       "                  old_var_name            new_var_name  \\\n",
       "2   profile_gross_householdW16    p_gross_householdW16   \n",
       "18  profile_gross_householdW17    p_gross_householdW17   \n",
       "14  profile_gross_householdW18    p_gross_householdW18   \n",
       "29  profile_gross_householdW19    p_gross_householdW19   \n",
       "7    profile_gross_personalW18     p_gross_personalW18   \n",
       "33   profile_gross_personalW19     p_gross_personalW19   \n",
       "13    profile_gross_personalW7      p_gross_personalW7   \n",
       "45     profile_house_tenureW11            p_housingW11   \n",
       "43     profile_house_tenureW12            p_housingW12   \n",
       "48     profile_house_tenureW13            p_housingW13   \n",
       "42     profile_house_tenureW14            p_housingW14   \n",
       "46     profile_house_tenureW15            p_housingW15   \n",
       "47     profile_house_tenureW16            p_housingW16   \n",
       "44     profile_house_tenureW17            p_housingW17   \n",
       "39     profile_marital_statW11            p_maritalW11   \n",
       "41     profile_marital_statW13            p_maritalW13   \n",
       "35     profile_marital_statW14            p_maritalW14   \n",
       "40     profile_marital_statW15            p_maritalW15   \n",
       "37     profile_marital_statW16            p_maritalW16   \n",
       "38     profile_marital_statW17            p_maritalW17   \n",
       "36     profile_marital_statW18            p_maritalW18   \n",
       "28      profile_past_vote_2005        p_past_vote_2005   \n",
       "12      profile_past_vote_2010        p_past_vote_2010   \n",
       "10         profile_religionW10           p_religionW10   \n",
       "17         profile_religionW11           p_religionW11   \n",
       "31         profile_religionW12           p_religionW12   \n",
       "15         profile_religionW13           p_religionW13   \n",
       "9          profile_religionW14           p_religionW14   \n",
       "24         profile_religionW15           p_religionW15   \n",
       "21         profile_religionW16           p_religionW16   \n",
       "6          profile_religionW17           p_religionW17   \n",
       "53     profile_scotref_turnout      p_turnout_scot_ref   \n",
       "52        profile_scotref_vote         p_vote_scot_ref   \n",
       "8          profile_socgradeW12           p_socgradeW12   \n",
       "30         profile_socgradeW13           p_socgradeW13   \n",
       "4          profile_socgradeW14           p_socgradeW14   \n",
       "20         profile_socgradeW15           p_socgradeW15   \n",
       "25         profile_socgradeW16           p_socgradeW16   \n",
       "19          profile_socgradeW7            p_socgradeW7   \n",
       "27          profile_socgradeW8            p_socgradeW8   \n",
       "50  profile_socialgrade_cieW17           p_socgradeW17   \n",
       "49  profile_socialgrade_cieW18           p_socgradeW18   \n",
       "51  profile_socialgrade_cieW19           p_socgradeW19   \n",
       "11        profile_turnout_2015          p_turnout_2015   \n",
       "1         profile_turnout_2017          p_turnout_2017   \n",
       "22        profile_work_statW17          p_work_statW17   \n",
       "96                reaskVoteW12            reaskVoteW12   \n",
       "76       scotReferendumRetroW3   scotReferendumRetroW3   \n",
       "59                sexualityW17          p_sexualityW17   \n",
       "75                   voted2015  voted2015newwordingW15   \n",
       "\n",
       "                                         old_cat_list  \\\n",
       "2   under Â£5,000 per year|Â£5,000 to Â£9,999 per ...   \n",
       "18  under £5,000 per year|£5,000 to £9,999 per yea...   \n",
       "14  under £5,000 per year|£5,000 to £9,999 per yea...   \n",
       "29  under £5,000 per year|£5,000 to £9,999 per yea...   \n",
       "7   under £5,000 per year|£5,000 to £9,999 per yea...   \n",
       "33  under £5,000 per year|£5,000 to £9,999 per yea...   \n",
       "13  under Â£5,000 per year|Â£5,000 to Â£9,999 per ...   \n",
       "45  Own  outright|Own  with a mortgage|Own (part...   \n",
       "43  Own  outright|Own  with a mortgage|Own (part...   \n",
       "48  Own  outright|Own  with a mortgage|Own (part...   \n",
       "42  Own - outright|Own - with a mortgage|Own (part...   \n",
       "46  Own - outright|Own - with a mortgage|Own (part...   \n",
       "47  Own - outright|Own - with a mortgage|Own (part...   \n",
       "44  Own  outright|Own  with a mortgage|Own (part...   \n",
       "39  Married|Living as married|Separated (after bei...   \n",
       "41  Married|Living as married|Separated (after bei...   \n",
       "35  Married|Living as married|Separated (after bei...   \n",
       "40  Married|Living as married|Separated (after bei...   \n",
       "37  Married|Living as married|Separated (after bei...   \n",
       "38                              a|b|C1|C2|d|e|Refused   \n",
       "36  Married|Living as married|Separated (after bei...   \n",
       "28  I would not vote|Conservative|Labour|Liberal D...   \n",
       "12  I would not vote|Conservative|Labour|Liberal D...   \n",
       "10  No, I do not regard myself as belonging to any...   \n",
       "17  No, I do not regard myself as belonging to any...   \n",
       "31  No, I do not regard myself as belonging to any...   \n",
       "15  No, I do not regard myself as belonging to any...   \n",
       "9   No, I do not regard myself as belonging to any...   \n",
       "24  No, I do not regard myself as belonging to any...   \n",
       "21  No, I do not regard myself as belonging to any...   \n",
       "6   No, I do not regard myself as belonging to any...   \n",
       "53  Yes, I voted|No, I did not vote|No, I was not ...   \n",
       "52  I voted 'No' (Scotland should not be an indepe...   \n",
       "8                                       a|b|C1|C2|d|e   \n",
       "30                                      a|b|C1|C2|d|e   \n",
       "4                                       a|b|C1|C2|d|e   \n",
       "20                                      a|b|C1|C2|d|e   \n",
       "25                                      a|b|C1|C2|d|e   \n",
       "19                                      a|b|C1|C2|d|e   \n",
       "27                                      a|b|C1|C2|d|e   \n",
       "50  Self-employed|Private sector firm or company (...   \n",
       "49                                      a|b|C1|C2|d|e   \n",
       "51                                      a|b|C1|C2|d|e   \n",
       "11             No, did not vote|Yes, voted|Don't know   \n",
       "1              No, did not vote|Yes, voted|Don't know   \n",
       "22  Conservative|Labour|Liberal Democrat|Scottish ...   \n",
       "96  I would not vote|Conservative|Labour|Liberal D...   \n",
       "76  Yes, I voted|No, I did not vote|No, I was not ...   \n",
       "59                                 No|Yes|3.0|4.0|5.0   \n",
       "75                                       1.0|2.0|99.0   \n",
       "\n",
       "                                         new_cat_list  \n",
       "2   under Â£5,000 per year|Â£5,000 to Â£9,999 per ...  \n",
       "18  under Â£5,000 per year|Â£5,000 to Â£9,999 per ...  \n",
       "14  under Â£5,000 per year|Â£5,000 to Â£9,999 per ...  \n",
       "29  under Â£5,000 per year|Â£5,000 to Â£9,999 per ...  \n",
       "7   Â under Â£5,000 per year|Â Â£5,000 to Â£9,999 ...  \n",
       "33  Â under Â£5,000 per year|Â Â£5,000 to Â£9,999 ...  \n",
       "13  Â under Â£5,000 per year|Â Â£5,000 to Â£9,999 ...  \n",
       "45  Own â outright|Own â with a mortgage|Own (...  \n",
       "43  Own â outright|Own â with a mortgage|Own (...  \n",
       "48  Own â outright|Own â with a mortgage|Own (...  \n",
       "42  Own â outright|Own â with a mortgage|Own (...  \n",
       "46  Own â outright|Own â with a mortgage|Own (...  \n",
       "47  Own â outright|Own â with a mortgage|Own (...  \n",
       "44  Own â outright|Own â with a mortgage|Own (...  \n",
       "39  Married|In a civil partnership|Separated but s...  \n",
       "41  Married|In a civil partnership|Separated but s...  \n",
       "35  Married|In a civil partnership|Separated but s...  \n",
       "40  Married|In a civil partnership|Separated but s...  \n",
       "37  Married|In a civil partnership|Separated but s...  \n",
       "38  Married|In a civil partnership|Separated but s...  \n",
       "36  Married|In a civil partnership|Separated but s...  \n",
       "28  Conservative|Labour|Liberal Democrat|Scottish ...  \n",
       "12  Conservative|Labour|Liberal Democrat|Scottish ...  \n",
       "10  No, I do not regard myself as belonging to any...  \n",
       "17  No, I do not regard myself as belonging to any...  \n",
       "31  No, I do not regard myself as belonging to any...  \n",
       "15  No, I do not regard myself as belonging to any...  \n",
       "9   No, I do not regard myself as belonging to any...  \n",
       "24  No, I do not regard myself as belonging to any...  \n",
       "21  No, I do not regard myself as belonging to any...  \n",
       "6   No, I do not regard myself as belonging to any...  \n",
       "53  No, I did not vote|Yes, I voted|No, I was not ...  \n",
       "52                      Voted no|Voted yes|Don't know  \n",
       "8                               A|B|C1|C2|D|E|Unknown  \n",
       "30                      A|B|C1|C2|D|E|Refused|Unknown  \n",
       "4                               A|B|C1|C2|D|E|Unknown  \n",
       "20                              A|B|C1|C2|D|E|Unknown  \n",
       "25                              A|B|C1|C2|D|E|Unknown  \n",
       "19                      A|B|C1|C2|D|E|Refused|Unknown  \n",
       "27                      A|B|C1|C2|D|E|Refused|Unknown  \n",
       "50                              A|B|C1|C2|D|E|Unknown  \n",
       "49                              A|B|C1|C2|D|E|Unknown  \n",
       "51                              A|B|C1|C2|D|E|Unknown  \n",
       "11                               DNV|Voted|Don't know  \n",
       "1                                DNV|Voted|Don't know  \n",
       "22  Working full time (30 or more hours per week)|...  \n",
       "96  I would/did not vote|Conservative|Labour|Liber...  \n",
       "76  No, I did not vote|Yes, I voted|No, I was not ...  \n",
       "59  Heterosexual|Gay or lesbian|Bisexual|Other|Pre...  \n",
       "75             No, did not vote|Yes, voted|Don't know  "
      ]
     },
     "execution_count": 472,
     "metadata": {},
     "output_type": "execute_result"
    }
   ],
   "source": [
    "df.sort_values(by=\"old_var_name\").head(150)[-50:]"
   ]
  },
  {
   "cell_type": "code",
   "execution_count": 476,
   "metadata": {},
   "outputs": [],
   "source": [
    "df.to_pickle(data_subfolder+\"categories_dont_match_up.zip\",compression='zip')"
   ]
  },
  {
   "cell_type": "code",
   "execution_count": 465,
   "metadata": {},
   "outputs": [
    {
     "data": {
      "text/plain": [
       "(\"Conservative|Labour|Liberal Democrat|Scottish National Party (SNP)|Plaid Cymru|Green Party|Other|Brexit Party|Don't know\",\n",
       " \"Conservative|Labour|Liberal Democrat|Scottish National Party (SNP)|Plaid Cymru|Brexit Party|Green|Other|Don't know\")"
      ]
     },
     "execution_count": 465,
     "metadata": {},
     "output_type": "execute_result"
    }
   ],
   "source": [
    "\"|\".join(BES_Panelv02[\"p_past_vote_2019\"].cat.categories),\"|\".join(BES_Panel[\"pastvote_ge_2019W19\"].cat.categories)"
   ]
  },
  {
   "cell_type": "code",
   "execution_count": 409,
   "metadata": {},
   "outputs": [
    {
     "data": {
      "text/plain": [
       "(97006, 7456)"
      ]
     },
     "execution_count": 409,
     "metadata": {},
     "output_type": "execute_result"
    }
   ],
   "source": [
    "cat_differences.shape"
   ]
  },
  {
   "cell_type": "code",
   "execution_count": 450,
   "metadata": {},
   "outputs": [
    {
     "data": {
      "text/html": [
       "['pconW8', 'pconW9']"
      ],
      "text/plain": [
       "['pconW8', 'pconW9']"
      ]
     },
     "execution_count": 450,
     "metadata": {},
     "output_type": "execute_result"
    }
   ],
   "source": [
    "# [x for x in old_to_new_dict.keys() if \"pcon\" in x]#\n",
    "[x for x in cat_differences.columns if \"pcon\" in x]"
   ]
  },
  {
   "cell_type": "code",
   "execution_count": 355,
   "metadata": {},
   "outputs": [],
   "source": [
    "df2 = pd.DataFrame([(old_category_cols_minus_ml[x],new_category_cols[x],old_cat_lists[x],new_cat_lists[x]) for x in range(len(new_cat_lists)) if not cat_lists_differ[x]])"
   ]
  },
  {
   "cell_type": "code",
   "execution_count": 366,
   "metadata": {},
   "outputs": [],
   "source": [
    "cat_differences = BES_Panel.loc[BES_Panelv02.index,df2[0]].rename(old_to_new_dict,axis=1)\\\n",
    "    .apply(lambda x: x.cat.as_ordered() ) != BES_Panelv02.loc[BES_Panelv02.index,df2[1]].apply(lambda x: x.cat.as_ordered() )"
   ]
  },
  {
   "cell_type": "code",
   "execution_count": 370,
   "metadata": {
    "scrolled": false
   },
   "outputs": [
    {
     "data": {
      "text/plain": [
       "parentNumEmployees        3.0\n",
       "p_edlevelW15              3.0\n",
       "gorW8                    19.0\n",
       "gender                   31.0\n",
       "p_education_ageW7        33.0\n",
       "gorW6                    34.0\n",
       "p_edlevelW13             42.0\n",
       "p_hh_sizeW19             53.0\n",
       "gorW13                   58.0\n",
       "p_education_ageW13       63.0\n",
       "p_past_vote_2017         63.0\n",
       "p_ethnicityW7            64.0\n",
       "gorW3                    77.0\n",
       "gorW9                    80.0\n",
       "p_edlevelW11             95.0\n",
       "p_edlevelW19             96.0\n",
       "p_hh_sizeW10            105.0\n",
       "gorW5                   108.0\n",
       "p_paper_readW13         136.0\n",
       "p_edlevelW17            144.0\n",
       "pconW9                  165.0\n",
       "p_hh_sizeW18            183.0\n",
       "gorW2                   198.0\n",
       "gorW10                  204.0\n",
       "p_edlevelW12            223.0\n",
       "p_work_statW19          223.0\n",
       "p_work_statW11          258.0\n",
       "p_work_statW14          260.0\n",
       "p_housingW10            268.0\n",
       "p_work_statW13          288.0\n",
       "p_edlevelW18            290.0\n",
       "p_hh_sizeW7             303.0\n",
       "p_edlevelW14            322.0\n",
       "pconW8                  327.0\n",
       "p_edlevelW7             377.0\n",
       "p_work_statW18          510.0\n",
       "p_paper_readW10         531.0\n",
       "p_edlevelW16            539.0\n",
       "p_work_statW12          589.0\n",
       "p_educationW14          693.0\n",
       "p_paper_readW11         721.0\n",
       "p_work_statW7           801.0\n",
       "p_eurefvote             804.0\n",
       "p_gross_householdW7    1033.0\n",
       "p_past_vote_2015       1090.0\n",
       "p_eurefturnout         3294.0\n",
       "p_paper_readW12        8605.0\n",
       "dtype: float64"
      ]
     },
     "execution_count": 370,
     "metadata": {},
     "output_type": "execute_result"
    }
   ],
   "source": [
    "cat_differences.sum().replace(0,np.nan).dropna().sort_values()"
   ]
  },
  {
   "cell_type": "code",
   "execution_count": 382,
   "metadata": {},
   "outputs": [
    {
     "data": {
      "text/plain": [
       "None                                           13987\n",
       "The Daily Mail / The Scottish Daily Mail        4330\n",
       "The Guardian                                    3129\n",
       "Other Newspaper                                 2704\n",
       "The Sun                                         2182\n",
       "The Times                                       1709\n",
       "The Daily Telegraph                             1599\n",
       "The Mirror / Daily Record                       1349\n",
       "Other local daily morning newspaper             1180\n",
       "The Independent                                  788\n",
       "The Express                                      661\n",
       "The Daily Star / The Daily Star of Scotland      202\n",
       "The Financial Times                              200\n",
       "The Herald (Glasgow)                             199\n",
       "The Scotsman                                     111\n",
       "The Western Mail                                  64\n",
       "Name: profile_newspaper2W12, dtype: int64"
      ]
     },
     "execution_count": 382,
     "metadata": {},
     "output_type": "execute_result"
    }
   ],
   "source": [
    "BES_Panel[\"profile_newspaper2W12\"].value_counts()"
   ]
  },
  {
   "cell_type": "code",
   "execution_count": 381,
   "metadata": {},
   "outputs": [
    {
     "data": {
      "text/plain": [
       "None                                           14246\n",
       "The Daily Mail / The Scottish Daily Mail        4620\n",
       "The Guardian                                    2981\n",
       "The Sun                                         2394\n",
       "Other Newspaper                                 2119\n",
       "The Times                                       1674\n",
       "The Daily Telegraph                             1617\n",
       "The Mirror / Daily Record                       1446\n",
       "Other local daily morning newspaper             1188\n",
       "The Express                                      681\n",
       "The Independent                                  655\n",
       "The Daily Star / The Daily Star of Scotland      206\n",
       "The Herald (Glasgow)                             189\n",
       "The Financial Times                              184\n",
       "The Scotsman                                     122\n",
       "The Western Mail                                  71\n",
       "Name: p_paper_readW12, dtype: int64"
      ]
     },
     "execution_count": 381,
     "metadata": {},
     "output_type": "execute_result"
    }
   ],
   "source": [
    "BES_Panelv02[\"p_paper_readW12\"].value_counts()"
   ]
  },
  {
   "cell_type": "code",
   "execution_count": 387,
   "metadata": {},
   "outputs": [
    {
     "data": {
      "text/html": [
       "<div>\n",
       "<style scoped>\n",
       "    .dataframe tbody tr th:only-of-type {\n",
       "        vertical-align: middle;\n",
       "    }\n",
       "\n",
       "    .dataframe tbody tr th {\n",
       "        vertical-align: top;\n",
       "    }\n",
       "\n",
       "    .dataframe thead th {\n",
       "        text-align: right;\n",
       "    }\n",
       "</style>\n",
       "<table border=\"1\" class=\"dataframe\">\n",
       "  <thead>\n",
       "    <tr style=\"text-align: right;\">\n",
       "      <th></th>\n",
       "      <th>p_paper_readW12</th>\n",
       "      <th>profile_newspaper2W12</th>\n",
       "    </tr>\n",
       "    <tr>\n",
       "      <th>id</th>\n",
       "      <th></th>\n",
       "      <th></th>\n",
       "    </tr>\n",
       "  </thead>\n",
       "  <tbody>\n",
       "    <tr>\n",
       "      <th>18</th>\n",
       "      <td>None</td>\n",
       "      <td>The Herald (Glasgow)</td>\n",
       "    </tr>\n",
       "    <tr>\n",
       "      <th>31</th>\n",
       "      <td>None</td>\n",
       "      <td>Other Newspaper</td>\n",
       "    </tr>\n",
       "    <tr>\n",
       "      <th>40</th>\n",
       "      <td>None</td>\n",
       "      <td>Other Newspaper</td>\n",
       "    </tr>\n",
       "    <tr>\n",
       "      <th>50</th>\n",
       "      <td>The Guardian</td>\n",
       "      <td>The Times</td>\n",
       "    </tr>\n",
       "    <tr>\n",
       "      <th>55</th>\n",
       "      <td>The Daily Telegraph</td>\n",
       "      <td>Other Newspaper</td>\n",
       "    </tr>\n",
       "    <tr>\n",
       "      <th>...</th>\n",
       "      <td>...</td>\n",
       "      <td>...</td>\n",
       "    </tr>\n",
       "    <tr>\n",
       "      <th>69516</th>\n",
       "      <td>The Daily Mail / The Scottish Daily Mail</td>\n",
       "      <td>The Mirror / Daily Record</td>\n",
       "    </tr>\n",
       "    <tr>\n",
       "      <th>69518</th>\n",
       "      <td>The Mirror / Daily Record</td>\n",
       "      <td>The Guardian</td>\n",
       "    </tr>\n",
       "    <tr>\n",
       "      <th>69521</th>\n",
       "      <td>The Sun</td>\n",
       "      <td>The Daily Mail / The Scottish Daily Mail</td>\n",
       "    </tr>\n",
       "    <tr>\n",
       "      <th>69525</th>\n",
       "      <td>None</td>\n",
       "      <td>The Independent</td>\n",
       "    </tr>\n",
       "    <tr>\n",
       "      <th>69527</th>\n",
       "      <td>None</td>\n",
       "      <td>The Times</td>\n",
       "    </tr>\n",
       "  </tbody>\n",
       "</table>\n",
       "<p>8605 rows × 2 columns</p>\n",
       "</div>"
      ],
      "text/plain": [
       "                                p_paper_readW12  \\\n",
       "id                                                \n",
       "18                                         None   \n",
       "31                                         None   \n",
       "40                                         None   \n",
       "50                                 The Guardian   \n",
       "55                          The Daily Telegraph   \n",
       "...                                         ...   \n",
       "69516  The Daily Mail / The Scottish Daily Mail   \n",
       "69518                 The Mirror / Daily Record   \n",
       "69521                                   The Sun   \n",
       "69525                                      None   \n",
       "69527                                      None   \n",
       "\n",
       "                          profile_newspaper2W12  \n",
       "id                                               \n",
       "18                         The Herald (Glasgow)  \n",
       "31                              Other Newspaper  \n",
       "40                              Other Newspaper  \n",
       "50                                    The Times  \n",
       "55                              Other Newspaper  \n",
       "...                                         ...  \n",
       "69516                 The Mirror / Daily Record  \n",
       "69518                              The Guardian  \n",
       "69521  The Daily Mail / The Scottish Daily Mail  \n",
       "69525                           The Independent  \n",
       "69527                                 The Times  \n",
       "\n",
       "[8605 rows x 2 columns]"
      ]
     },
     "execution_count": 387,
     "metadata": {},
     "output_type": "execute_result"
    }
   ],
   "source": [
    "mask = BES_Panelv02.loc[BES_Panelv02.index,\"p_paper_readW12\"]!=BES_Panel.loc[BES_Panelv02.index,\"profile_newspaper2W12\"]\n",
    "pd.concat([BES_Panelv02.loc[BES_Panelv02.index,\"p_paper_readW12\"],BES_Panel.loc[BES_Panelv02.index,\"profile_newspaper2W12\"] ],axis=1)[mask]"
   ]
  },
  {
   "cell_type": "code",
   "execution_count": 392,
   "metadata": {},
   "outputs": [],
   "source": [
    "# (BES_Panelv02.loc[BES_Panelv02.index,\"p_paper_readW12\"][mask].astype('object')+BES_Panel.loc[BES_Panelv02.index,\"profile_newspaper2W12\"][mask].astype('object')).value_counts().head(50)"
   ]
  },
  {
   "cell_type": "code",
   "execution_count": 407,
   "metadata": {},
   "outputs": [
    {
     "data": {
      "text/html": [
       "['profile_past_vote_2015']"
      ],
      "text/plain": [
       "['profile_past_vote_2015']"
      ]
     },
     "execution_count": 407,
     "metadata": {},
     "output_type": "execute_result"
    }
   ],
   "source": [
    "[x for x in old_to_new_dict.keys() if old_to_new_dict[x] == \"p_past_vote_2015\"]"
   ]
  },
  {
   "cell_type": "code",
   "execution_count": 408,
   "metadata": {},
   "outputs": [
    {
     "data": {
      "text/html": [
       "<div>\n",
       "<style scoped>\n",
       "    .dataframe tbody tr th:only-of-type {\n",
       "        vertical-align: middle;\n",
       "    }\n",
       "\n",
       "    .dataframe tbody tr th {\n",
       "        vertical-align: top;\n",
       "    }\n",
       "\n",
       "    .dataframe thead th {\n",
       "        text-align: right;\n",
       "    }\n",
       "</style>\n",
       "<table border=\"1\" class=\"dataframe\">\n",
       "  <thead>\n",
       "    <tr style=\"text-align: right;\">\n",
       "      <th></th>\n",
       "      <th>p_past_vote_2015</th>\n",
       "      <th>profile_past_vote_2015</th>\n",
       "    </tr>\n",
       "    <tr>\n",
       "      <th>id</th>\n",
       "      <th></th>\n",
       "      <th></th>\n",
       "    </tr>\n",
       "  </thead>\n",
       "  <tbody>\n",
       "    <tr>\n",
       "      <th>26</th>\n",
       "      <td>Plaid Cymru</td>\n",
       "      <td>Labour</td>\n",
       "    </tr>\n",
       "    <tr>\n",
       "      <th>598</th>\n",
       "      <td>Liberal Democrat</td>\n",
       "      <td>Labour</td>\n",
       "    </tr>\n",
       "    <tr>\n",
       "      <th>801</th>\n",
       "      <td>Plaid Cymru</td>\n",
       "      <td>Conservative</td>\n",
       "    </tr>\n",
       "    <tr>\n",
       "      <th>949</th>\n",
       "      <td>Scottish National Party (SNP)</td>\n",
       "      <td>Don't know</td>\n",
       "    </tr>\n",
       "    <tr>\n",
       "      <th>1334</th>\n",
       "      <td>Green Party</td>\n",
       "      <td>Labour</td>\n",
       "    </tr>\n",
       "    <tr>\n",
       "      <th>...</th>\n",
       "      <td>...</td>\n",
       "      <td>...</td>\n",
       "    </tr>\n",
       "    <tr>\n",
       "      <th>78487</th>\n",
       "      <td>Don't know</td>\n",
       "      <td>Conservative</td>\n",
       "    </tr>\n",
       "    <tr>\n",
       "      <th>78557</th>\n",
       "      <td>Conservative</td>\n",
       "      <td>Labour</td>\n",
       "    </tr>\n",
       "    <tr>\n",
       "      <th>78681</th>\n",
       "      <td>Don't know</td>\n",
       "      <td>Conservative</td>\n",
       "    </tr>\n",
       "    <tr>\n",
       "      <th>78864</th>\n",
       "      <td>Labour</td>\n",
       "      <td>Scottish National Party (SNP)</td>\n",
       "    </tr>\n",
       "    <tr>\n",
       "      <th>79259</th>\n",
       "      <td>Labour</td>\n",
       "      <td>Conservative</td>\n",
       "    </tr>\n",
       "  </tbody>\n",
       "</table>\n",
       "<p>1090 rows × 2 columns</p>\n",
       "</div>"
      ],
      "text/plain": [
       "                    p_past_vote_2015         profile_past_vote_2015\n",
       "id                                                                 \n",
       "26                       Plaid Cymru                         Labour\n",
       "598                 Liberal Democrat                         Labour\n",
       "801                      Plaid Cymru                   Conservative\n",
       "949    Scottish National Party (SNP)                     Don't know\n",
       "1334                     Green Party                         Labour\n",
       "...                              ...                            ...\n",
       "78487                     Don't know                   Conservative\n",
       "78557                   Conservative                         Labour\n",
       "78681                     Don't know                   Conservative\n",
       "78864                         Labour  Scottish National Party (SNP)\n",
       "79259                         Labour                   Conservative\n",
       "\n",
       "[1090 rows x 2 columns]"
      ]
     },
     "execution_count": 408,
     "metadata": {},
     "output_type": "execute_result"
    }
   ],
   "source": [
    "mask = BES_Panelv02.loc[BES_Panelv02.index,\"p_past_vote_2015\"]!=BES_Panel.loc[BES_Panelv02.index,\"profile_past_vote_2015\"]\n",
    "pd.concat([BES_Panelv02.loc[BES_Panelv02.index,\"p_past_vote_2015\"],BES_Panel.loc[BES_Panelv02.index,\"profile_past_vote_2015\"] ],axis=1)[mask]"
   ]
  },
  {
   "cell_type": "code",
   "execution_count": 477,
   "metadata": {},
   "outputs": [
    {
     "data": {
      "text/plain": [
       "71128"
      ]
     },
     "execution_count": 477,
     "metadata": {},
     "output_type": "execute_result"
    }
   ],
   "source": [
    "BES_Panelv02[\"p_past_vote_2015\"].value_counts().sum()"
   ]
  },
  {
   "cell_type": "code",
   "execution_count": null,
   "metadata": {},
   "outputs": [],
   "source": []
  },
  {
   "cell_type": "code",
   "execution_count": null,
   "metadata": {},
   "outputs": [],
   "source": []
  },
  {
   "cell_type": "code",
   "execution_count": 394,
   "metadata": {},
   "outputs": [
    {
     "data": {
      "text/html": [
       "<div>\n",
       "<style scoped>\n",
       "    .dataframe tbody tr th:only-of-type {\n",
       "        vertical-align: middle;\n",
       "    }\n",
       "\n",
       "    .dataframe tbody tr th {\n",
       "        vertical-align: top;\n",
       "    }\n",
       "\n",
       "    .dataframe thead th {\n",
       "        text-align: right;\n",
       "    }\n",
       "</style>\n",
       "<table border=\"1\" class=\"dataframe\">\n",
       "  <thead>\n",
       "    <tr style=\"text-align: right;\">\n",
       "      <th></th>\n",
       "      <th>p_eurefturnout</th>\n",
       "      <th>profile_eurefturnout</th>\n",
       "    </tr>\n",
       "    <tr>\n",
       "      <th>id</th>\n",
       "      <th></th>\n",
       "      <th></th>\n",
       "    </tr>\n",
       "  </thead>\n",
       "  <tbody>\n",
       "    <tr>\n",
       "      <th>365</th>\n",
       "      <td>Yes, voted</td>\n",
       "      <td>Don't know</td>\n",
       "    </tr>\n",
       "    <tr>\n",
       "      <th>544</th>\n",
       "      <td>No, did not vote</td>\n",
       "      <td>Yes, voted</td>\n",
       "    </tr>\n",
       "    <tr>\n",
       "      <th>809</th>\n",
       "      <td>Yes, voted</td>\n",
       "      <td>No, did not vote</td>\n",
       "    </tr>\n",
       "    <tr>\n",
       "      <th>878</th>\n",
       "      <td>Yes, voted</td>\n",
       "      <td>No, did not vote</td>\n",
       "    </tr>\n",
       "    <tr>\n",
       "      <th>1623</th>\n",
       "      <td>No, did not vote</td>\n",
       "      <td>Yes, voted</td>\n",
       "    </tr>\n",
       "    <tr>\n",
       "      <th>...</th>\n",
       "      <td>...</td>\n",
       "      <td>...</td>\n",
       "    </tr>\n",
       "    <tr>\n",
       "      <th>98439</th>\n",
       "      <td>Yes, voted</td>\n",
       "      <td>No, did not vote</td>\n",
       "    </tr>\n",
       "    <tr>\n",
       "      <th>98441</th>\n",
       "      <td>Don't know</td>\n",
       "      <td>No, did not vote</td>\n",
       "    </tr>\n",
       "    <tr>\n",
       "      <th>98446</th>\n",
       "      <td>Yes, voted</td>\n",
       "      <td>No, did not vote</td>\n",
       "    </tr>\n",
       "    <tr>\n",
       "      <th>98450</th>\n",
       "      <td>Yes, voted</td>\n",
       "      <td>Don't know</td>\n",
       "    </tr>\n",
       "    <tr>\n",
       "      <th>98451</th>\n",
       "      <td>Yes, voted</td>\n",
       "      <td>No, did not vote</td>\n",
       "    </tr>\n",
       "  </tbody>\n",
       "</table>\n",
       "<p>3294 rows × 2 columns</p>\n",
       "</div>"
      ],
      "text/plain": [
       "         p_eurefturnout profile_eurefturnout\n",
       "id                                          \n",
       "365          Yes, voted           Don't know\n",
       "544    No, did not vote           Yes, voted\n",
       "809          Yes, voted     No, did not vote\n",
       "878          Yes, voted     No, did not vote\n",
       "1623   No, did not vote           Yes, voted\n",
       "...                 ...                  ...\n",
       "98439        Yes, voted     No, did not vote\n",
       "98441        Don't know     No, did not vote\n",
       "98446        Yes, voted     No, did not vote\n",
       "98450        Yes, voted           Don't know\n",
       "98451        Yes, voted     No, did not vote\n",
       "\n",
       "[3294 rows x 2 columns]"
      ]
     },
     "execution_count": 394,
     "metadata": {},
     "output_type": "execute_result"
    }
   ],
   "source": [
    "mask = BES_Panelv02.loc[BES_Panelv02.index,\"p_eurefturnout\"]!=BES_Panel.loc[BES_Panelv02.index,\"profile_eurefturnout\"]\n",
    "pd.concat([BES_Panelv02.loc[BES_Panelv02.index,\"p_eurefturnout\"],BES_Panel.loc[BES_Panelv02.index,\"profile_eurefturnout\"] ],axis=1)[mask]"
   ]
  },
  {
   "cell_type": "code",
   "execution_count": 405,
   "metadata": {},
   "outputs": [
    {
     "data": {
      "text/html": [
       "<div>\n",
       "<style scoped>\n",
       "    .dataframe tbody tr th:only-of-type {\n",
       "        vertical-align: middle;\n",
       "    }\n",
       "\n",
       "    .dataframe tbody tr th {\n",
       "        vertical-align: top;\n",
       "    }\n",
       "\n",
       "    .dataframe thead th {\n",
       "        text-align: right;\n",
       "    }\n",
       "</style>\n",
       "<table border=\"1\" class=\"dataframe\">\n",
       "  <thead>\n",
       "    <tr style=\"text-align: right;\">\n",
       "      <th></th>\n",
       "      <th>profile_eurefturnout</th>\n",
       "      <th>profile_eurefvote</th>\n",
       "    </tr>\n",
       "    <tr>\n",
       "      <th>id</th>\n",
       "      <th></th>\n",
       "      <th></th>\n",
       "    </tr>\n",
       "  </thead>\n",
       "  <tbody>\n",
       "    <tr>\n",
       "      <th>365</th>\n",
       "      <td>Don't know</td>\n",
       "      <td>NaN</td>\n",
       "    </tr>\n",
       "    <tr>\n",
       "      <th>544</th>\n",
       "      <td>Yes, voted</td>\n",
       "      <td>Leave the EU</td>\n",
       "    </tr>\n",
       "    <tr>\n",
       "      <th>809</th>\n",
       "      <td>No, did not vote</td>\n",
       "      <td>NaN</td>\n",
       "    </tr>\n",
       "    <tr>\n",
       "      <th>878</th>\n",
       "      <td>No, did not vote</td>\n",
       "      <td>NaN</td>\n",
       "    </tr>\n",
       "    <tr>\n",
       "      <th>1623</th>\n",
       "      <td>Yes, voted</td>\n",
       "      <td>Leave the EU</td>\n",
       "    </tr>\n",
       "    <tr>\n",
       "      <th>...</th>\n",
       "      <td>...</td>\n",
       "      <td>...</td>\n",
       "    </tr>\n",
       "    <tr>\n",
       "      <th>98439</th>\n",
       "      <td>No, did not vote</td>\n",
       "      <td>NaN</td>\n",
       "    </tr>\n",
       "    <tr>\n",
       "      <th>98441</th>\n",
       "      <td>No, did not vote</td>\n",
       "      <td>NaN</td>\n",
       "    </tr>\n",
       "    <tr>\n",
       "      <th>98446</th>\n",
       "      <td>No, did not vote</td>\n",
       "      <td>NaN</td>\n",
       "    </tr>\n",
       "    <tr>\n",
       "      <th>98450</th>\n",
       "      <td>Don't know</td>\n",
       "      <td>NaN</td>\n",
       "    </tr>\n",
       "    <tr>\n",
       "      <th>98451</th>\n",
       "      <td>No, did not vote</td>\n",
       "      <td>NaN</td>\n",
       "    </tr>\n",
       "  </tbody>\n",
       "</table>\n",
       "<p>3294 rows × 2 columns</p>\n",
       "</div>"
      ],
      "text/plain": [
       "      profile_eurefturnout profile_eurefvote\n",
       "id                                          \n",
       "365             Don't know               NaN\n",
       "544             Yes, voted      Leave the EU\n",
       "809       No, did not vote               NaN\n",
       "878       No, did not vote               NaN\n",
       "1623            Yes, voted      Leave the EU\n",
       "...                    ...               ...\n",
       "98439     No, did not vote               NaN\n",
       "98441     No, did not vote               NaN\n",
       "98446     No, did not vote               NaN\n",
       "98450           Don't know               NaN\n",
       "98451     No, did not vote               NaN\n",
       "\n",
       "[3294 rows x 2 columns]"
      ]
     },
     "execution_count": 405,
     "metadata": {},
     "output_type": "execute_result"
    }
   ],
   "source": [
    "BES_Panel.loc[BES_Panelv02.index,[\"profile_eurefturnout\",\"profile_eurefvote\"]][mask]"
   ]
  },
  {
   "cell_type": "code",
   "execution_count": 406,
   "metadata": {},
   "outputs": [
    {
     "data": {
      "text/html": [
       "<div>\n",
       "<style scoped>\n",
       "    .dataframe tbody tr th:only-of-type {\n",
       "        vertical-align: middle;\n",
       "    }\n",
       "\n",
       "    .dataframe tbody tr th {\n",
       "        vertical-align: top;\n",
       "    }\n",
       "\n",
       "    .dataframe thead th {\n",
       "        text-align: right;\n",
       "    }\n",
       "</style>\n",
       "<table border=\"1\" class=\"dataframe\">\n",
       "  <thead>\n",
       "    <tr style=\"text-align: right;\">\n",
       "      <th></th>\n",
       "      <th>p_eurefturnout</th>\n",
       "      <th>p_eurefvote</th>\n",
       "    </tr>\n",
       "    <tr>\n",
       "      <th>id</th>\n",
       "      <th></th>\n",
       "      <th></th>\n",
       "    </tr>\n",
       "  </thead>\n",
       "  <tbody>\n",
       "    <tr>\n",
       "      <th>365</th>\n",
       "      <td>Yes, voted</td>\n",
       "      <td>Leave the EU</td>\n",
       "    </tr>\n",
       "    <tr>\n",
       "      <th>544</th>\n",
       "      <td>No, did not vote</td>\n",
       "      <td>NaN</td>\n",
       "    </tr>\n",
       "    <tr>\n",
       "      <th>809</th>\n",
       "      <td>Yes, voted</td>\n",
       "      <td>Stay/remain in the EU</td>\n",
       "    </tr>\n",
       "    <tr>\n",
       "      <th>878</th>\n",
       "      <td>Yes, voted</td>\n",
       "      <td>Leave the EU</td>\n",
       "    </tr>\n",
       "    <tr>\n",
       "      <th>1623</th>\n",
       "      <td>No, did not vote</td>\n",
       "      <td>NaN</td>\n",
       "    </tr>\n",
       "    <tr>\n",
       "      <th>...</th>\n",
       "      <td>...</td>\n",
       "      <td>...</td>\n",
       "    </tr>\n",
       "    <tr>\n",
       "      <th>98439</th>\n",
       "      <td>Yes, voted</td>\n",
       "      <td>Stay/remain in the EU</td>\n",
       "    </tr>\n",
       "    <tr>\n",
       "      <th>98441</th>\n",
       "      <td>Don't know</td>\n",
       "      <td>NaN</td>\n",
       "    </tr>\n",
       "    <tr>\n",
       "      <th>98446</th>\n",
       "      <td>Yes, voted</td>\n",
       "      <td>Leave the EU</td>\n",
       "    </tr>\n",
       "    <tr>\n",
       "      <th>98450</th>\n",
       "      <td>Yes, voted</td>\n",
       "      <td>Leave the EU</td>\n",
       "    </tr>\n",
       "    <tr>\n",
       "      <th>98451</th>\n",
       "      <td>Yes, voted</td>\n",
       "      <td>Leave the EU</td>\n",
       "    </tr>\n",
       "  </tbody>\n",
       "</table>\n",
       "<p>3294 rows × 2 columns</p>\n",
       "</div>"
      ],
      "text/plain": [
       "         p_eurefturnout            p_eurefvote\n",
       "id                                            \n",
       "365          Yes, voted           Leave the EU\n",
       "544    No, did not vote                    NaN\n",
       "809          Yes, voted  Stay/remain in the EU\n",
       "878          Yes, voted           Leave the EU\n",
       "1623   No, did not vote                    NaN\n",
       "...                 ...                    ...\n",
       "98439        Yes, voted  Stay/remain in the EU\n",
       "98441        Don't know                    NaN\n",
       "98446        Yes, voted           Leave the EU\n",
       "98450        Yes, voted           Leave the EU\n",
       "98451        Yes, voted           Leave the EU\n",
       "\n",
       "[3294 rows x 2 columns]"
      ]
     },
     "execution_count": 406,
     "metadata": {},
     "output_type": "execute_result"
    }
   ],
   "source": [
    "BES_Panelv02.loc[BES_Panelv02.index,[\"p_eurefturnout\",\"p_eurefvote\"]][mask]"
   ]
  },
  {
   "cell_type": "code",
   "execution_count": 396,
   "metadata": {},
   "outputs": [
    {
     "data": {
      "text/plain": [
       "Int64Index([    1,     2,     3,     4,     5,     6,     7,     8,     9,\n",
       "               10,\n",
       "            ...\n",
       "            98442, 98443, 98444, 98445, 98446, 98447, 98448, 98449, 98450,\n",
       "            98451],\n",
       "           dtype='int64', name='id', length=97006)"
      ]
     },
     "execution_count": 396,
     "metadata": {},
     "output_type": "execute_result"
    }
   ],
   "source": [
    "BES_Panelv02.index"
   ]
  },
  {
   "cell_type": "code",
   "execution_count": 402,
   "metadata": {},
   "outputs": [
    {
     "data": {
      "text/plain": [
       "euRefVoteW1                30529\n",
       "euRefVoteW2                25817\n",
       "euRefVoteW3                27830\n",
       "euRefVoteW4                31550\n",
       "euRefVoteW6                30258\n",
       "euRefVoteW7                30895\n",
       "euRefVoteSqueezeW7          4717\n",
       "euRefVoteUnsqueezeW7       30895\n",
       "euRefVotePostW8             4326\n",
       "euRefVoteW8                33501\n",
       "euRefVoteSqueezeW8          3818\n",
       "euRefVoteUnsqueezeW8       29175\n",
       "euRefVote2W8               29175\n",
       "euRefVoteHypotheticalW9     1788\n",
       "euRefVoteW9                28248\n",
       "euRefVoteW10               30237\n",
       "euRefVoteW11               30956\n",
       "euRefVoteW12               34394\n",
       "euRefVoteW13               31136\n",
       "euRefVoteW14               31063\n",
       "euRefVoteW15               30602\n",
       "euRefVoteW16               37959\n",
       "euRefVoteW17               34041\n",
       "euRefVoteW18               37443\n",
       "euRefVoteW19               32177\n",
       "p_eurefvote                70220\n",
       "dtype: int64"
      ]
     },
     "execution_count": 402,
     "metadata": {},
     "output_type": "execute_result"
    }
   ],
   "source": [
    "search(BES_Panelv02,\"eurefvote\")"
   ]
  },
  {
   "cell_type": "code",
   "execution_count": null,
   "metadata": {},
   "outputs": [],
   "source": []
  },
  {
   "cell_type": "code",
   "execution_count": 410,
   "metadata": {},
   "outputs": [],
   "source": [
    "old_category_not_cols = BES_Panel[old_to_new_dict.keys()].columns[BES_Panel[old_to_new_dict.keys()].dtypes!=\"category\"]"
   ]
  },
  {
   "cell_type": "code",
   "execution_count": 411,
   "metadata": {},
   "outputs": [],
   "source": [
    "new_category_not_cols = BES_Panelv02[old_to_new_dict.values()].columns[BES_Panelv02[old_to_new_dict.values()].dtypes!=\"category\"]"
   ]
  },
  {
   "cell_type": "code",
   "execution_count": 413,
   "metadata": {},
   "outputs": [
    {
     "data": {
      "text/plain": [
       "185"
      ]
     },
     "execution_count": 413,
     "metadata": {},
     "output_type": "execute_result"
    }
   ],
   "source": [
    "len(old_category_not_cols)"
   ]
  },
  {
   "cell_type": "code",
   "execution_count": 414,
   "metadata": {},
   "outputs": [
    {
     "data": {
      "text/plain": [
       "227"
      ]
     },
     "execution_count": 414,
     "metadata": {},
     "output_type": "execute_result"
    }
   ],
   "source": [
    "len(new_category_not_cols)"
   ]
  },
  {
   "cell_type": "code",
   "execution_count": 415,
   "metadata": {},
   "outputs": [],
   "source": [
    "missing_labels_not_cols = [old_to_new_dict[x] for x in old_category_not_cols if old_to_new_dict[x] not in new_category_not_cols]"
   ]
  },
  {
   "cell_type": "code",
   "execution_count": 416,
   "metadata": {},
   "outputs": [
    {
     "data": {
      "text/html": [
       "[]"
      ],
      "text/plain": [
       "[]"
      ]
     },
     "execution_count": 416,
     "metadata": {},
     "output_type": "execute_result"
    }
   ],
   "source": [
    "missing_labels_not_cols"
   ]
  },
  {
   "cell_type": "code",
   "execution_count": 420,
   "metadata": {},
   "outputs": [
    {
     "data": {
      "text/plain": [
       "Index(['wt_new_W1_W16', 'ageW12', 'wt_new_W7W13', 'starttimeW5',\n",
       "       'wt_full_W1_W11', 'wave19', 'panoW9', 'wave15', 'starttimeW16',\n",
       "       'starttimeW4',\n",
       "       ...\n",
       "       'endtimeW2', 'wt_daily_W12', 'wt_full_W1W2W3W4W5W6W7W8W9', 'ageW1',\n",
       "       'endtimeW8', 'riskScaleW8', 'wt_full_W1W2W3W4W5W6', 'endtimeW17',\n",
       "       'CampaignDayW5', 'respdateW8'],\n",
       "      dtype='object', length=185)"
      ]
     },
     "execution_count": 420,
     "metadata": {},
     "output_type": "execute_result"
    }
   ],
   "source": [
    "old_category_not_cols"
   ]
  },
  {
   "cell_type": "code",
   "execution_count": 423,
   "metadata": {},
   "outputs": [],
   "source": [
    "notcat_diff = BES_Panel.loc[BES_Panelv02.index,old_category_not_cols]!=BES_Panelv02.loc[BES_Panelv02.index,[old_to_new_dict[x] for x in old_category_not_cols]]"
   ]
  },
  {
   "cell_type": "code",
   "execution_count": 438,
   "metadata": {},
   "outputs": [
    {
     "data": {
      "text/plain": [
       "panoW1                           1.0\n",
       "panoW3                         182.0\n",
       "panoW9                         320.0\n",
       "panoW8                         349.0\n",
       "panoW19                        350.0\n",
       "wave2                          477.0\n",
       "wave1                          477.0\n",
       "wave18                         477.0\n",
       "wave13                         477.0\n",
       "wave8                          477.0\n",
       "wave4                          477.0\n",
       "wave9                          477.0\n",
       "wave12                         477.0\n",
       "wave14                         477.0\n",
       "wave11                         477.0\n",
       "wave5                          477.0\n",
       "wave7                          477.0\n",
       "wave17                         477.0\n",
       "wave3                          477.0\n",
       "wave10                         477.0\n",
       "wave16                         477.0\n",
       "panoW5                         477.0\n",
       "wave15                         477.0\n",
       "wave6                          477.0\n",
       "wave19                         477.0\n",
       "panoW17                        482.0\n",
       "panoW15                        695.0\n",
       "panoW2                         841.0\n",
       "panoW6                         906.0\n",
       "panoW7                        1753.0\n",
       "panoW16                       2089.0\n",
       "panoW14                       2119.0\n",
       "panoW13                       2492.0\n",
       "panoW12                       2923.0\n",
       "panoW10                       2999.0\n",
       "panoW11                       3079.0\n",
       "Age                          25759.0\n",
       "endtimeW16                   59047.0\n",
       "starttimeW16                 59047.0\n",
       "respdateW18                  59181.0\n",
       "xbefore_yesterday_dateW18    59181.0\n",
       "xtoday_dateW18               59181.0\n",
       "endtimeW18                   59181.0\n",
       "xyesterday_dateW18           59181.0\n",
       "starttimeW18                 59181.0\n",
       "respdateW12                  62612.0\n",
       "endtimeW12                   62612.0\n",
       "starttimeW12                 62612.0\n",
       "endtimeW17                   62640.0\n",
       "starttimeW17                 62640.0\n",
       "dtype: float64"
      ]
     },
     "execution_count": 438,
     "metadata": {},
     "output_type": "execute_result"
    }
   ],
   "source": [
    "notcat_diff.sum().replace(0.0,np.nan).dropna().sort_values().head(50)[-50:]"
   ]
  },
  {
   "cell_type": "code",
   "execution_count": 471,
   "metadata": {},
   "outputs": [
    {
     "data": {
      "text/html": [
       "<div>\n",
       "<style scoped>\n",
       "    .dataframe tbody tr th:only-of-type {\n",
       "        vertical-align: middle;\n",
       "    }\n",
       "\n",
       "    .dataframe tbody tr th {\n",
       "        vertical-align: top;\n",
       "    }\n",
       "\n",
       "    .dataframe thead th {\n",
       "        text-align: right;\n",
       "    }\n",
       "</style>\n",
       "<table border=\"1\" class=\"dataframe\">\n",
       "  <thead>\n",
       "    <tr style=\"text-align: right;\">\n",
       "      <th></th>\n",
       "      <th>p_past_vote_2019</th>\n",
       "      <th>pastvote_ge_2019W19</th>\n",
       "    </tr>\n",
       "    <tr>\n",
       "      <th>id</th>\n",
       "      <th></th>\n",
       "      <th></th>\n",
       "    </tr>\n",
       "  </thead>\n",
       "  <tbody>\n",
       "  </tbody>\n",
       "</table>\n",
       "</div>"
      ],
      "text/plain": [
       "Empty DataFrame\n",
       "Columns: [p_past_vote_2019, pastvote_ge_2019W19]\n",
       "Index: []"
      ]
     },
     "execution_count": 471,
     "metadata": {},
     "output_type": "execute_result"
    }
   ],
   "source": [
    "non_null_mask = BES_Panel.loc[BES_Panelv02.index,\"pastvote_ge_2019W19\"].notnull() & BES_Panelv02.loc[BES_Panelv02.index,\"p_past_vote_2019\"].notnull()\n",
    "mask = BES_Panelv02.loc[BES_Panelv02.index,\"p_past_vote_2019\"].astype('object').replace(\"Green Party\",\"Green\")!=BES_Panel.loc[BES_Panelv02.index,\"pastvote_ge_2019W19\"].astype('object')\n",
    "pd.concat([BES_Panelv02.loc[BES_Panelv02.index,\"p_past_vote_2019\"],BES_Panel.loc[BES_Panelv02.index,\"pastvote_ge_2019W19\"] ],axis=1)[non_null_mask][mask]\n",
    "\n",
    "\n",
    "\n",
    "\n",
    "# join(BES_Panelv02[\"p_past_vote_2019\"].cat.categories),\"|\".join(BES_Panel[\"pastvote_ge_2019W19\"].cat.categories)"
   ]
  },
  {
   "cell_type": "code",
   "execution_count": 440,
   "metadata": {},
   "outputs": [
    {
     "data": {
      "text/plain": [
       "id\n",
       "1         <NA>\n",
       "2        False\n",
       "3        False\n",
       "4         <NA>\n",
       "5         <NA>\n",
       "         ...  \n",
       "98447     <NA>\n",
       "98448     <NA>\n",
       "98449     <NA>\n",
       "98450     <NA>\n",
       "98451     <NA>\n",
       "Name: panoW11, Length: 97006, dtype: boolean"
      ]
     },
     "execution_count": 440,
     "metadata": {},
     "output_type": "execute_result"
    }
   ],
   "source": [
    "mask"
   ]
  },
  {
   "cell_type": "code",
   "execution_count": 441,
   "metadata": {},
   "outputs": [
    {
     "data": {
      "text/plain": [
       "id\n",
       "1          NaN\n",
       "2        552.0\n",
       "3         80.0\n",
       "4          NaN\n",
       "5          NaN\n",
       "         ...  \n",
       "98447      NaN\n",
       "98448      NaN\n",
       "98449      NaN\n",
       "98450      NaN\n",
       "98451      NaN\n",
       "Name: panoW11, Length: 97006, dtype: float64"
      ]
     },
     "execution_count": 441,
     "metadata": {},
     "output_type": "execute_result"
    }
   ],
   "source": [
    "BES_Panelv02.loc[BES_Panelv02.index,\"panoW11\"]"
   ]
  },
  {
   "cell_type": "code",
   "execution_count": 443,
   "metadata": {},
   "outputs": [
    {
     "data": {
      "text/html": [
       "<div>\n",
       "<style scoped>\n",
       "    .dataframe tbody tr th:only-of-type {\n",
       "        vertical-align: middle;\n",
       "    }\n",
       "\n",
       "    .dataframe tbody tr th {\n",
       "        vertical-align: top;\n",
       "    }\n",
       "\n",
       "    .dataframe thead th {\n",
       "        text-align: right;\n",
       "    }\n",
       "</style>\n",
       "<table border=\"1\" class=\"dataframe\">\n",
       "  <thead>\n",
       "    <tr style=\"text-align: right;\">\n",
       "      <th></th>\n",
       "      <th>panoW11</th>\n",
       "      <th>panoW11</th>\n",
       "    </tr>\n",
       "    <tr>\n",
       "      <th>id</th>\n",
       "      <th></th>\n",
       "      <th></th>\n",
       "    </tr>\n",
       "  </thead>\n",
       "  <tbody>\n",
       "    <tr>\n",
       "      <th>119</th>\n",
       "      <td>305.0</td>\n",
       "      <td>444</td>\n",
       "    </tr>\n",
       "    <tr>\n",
       "      <th>461</th>\n",
       "      <td>606.0</td>\n",
       "      <td>225</td>\n",
       "    </tr>\n",
       "    <tr>\n",
       "      <th>506</th>\n",
       "      <td>83.0</td>\n",
       "      <td>82</td>\n",
       "    </tr>\n",
       "    <tr>\n",
       "      <th>525</th>\n",
       "      <td>577.0</td>\n",
       "      <td>465</td>\n",
       "    </tr>\n",
       "    <tr>\n",
       "      <th>577</th>\n",
       "      <td>345.0</td>\n",
       "      <td>436</td>\n",
       "    </tr>\n",
       "    <tr>\n",
       "      <th>...</th>\n",
       "      <td>...</td>\n",
       "      <td>...</td>\n",
       "    </tr>\n",
       "    <tr>\n",
       "      <th>66804</th>\n",
       "      <td>648.0</td>\n",
       "      <td>388</td>\n",
       "    </tr>\n",
       "    <tr>\n",
       "      <th>66952</th>\n",
       "      <td>507.0</td>\n",
       "      <td>67</td>\n",
       "    </tr>\n",
       "    <tr>\n",
       "      <th>67074</th>\n",
       "      <td>430.0</td>\n",
       "      <td>103</td>\n",
       "    </tr>\n",
       "    <tr>\n",
       "      <th>67254</th>\n",
       "      <td>125.0</td>\n",
       "      <td>205</td>\n",
       "    </tr>\n",
       "    <tr>\n",
       "      <th>67508</th>\n",
       "      <td>415.0</td>\n",
       "      <td>521</td>\n",
       "    </tr>\n",
       "  </tbody>\n",
       "</table>\n",
       "<p>568 rows × 2 columns</p>\n",
       "</div>"
      ],
      "text/plain": [
       "       panoW11  panoW11\n",
       "id                     \n",
       "119      305.0      444\n",
       "461      606.0      225\n",
       "506       83.0       82\n",
       "525      577.0      465\n",
       "577      345.0      436\n",
       "...        ...      ...\n",
       "66804    648.0      388\n",
       "66952    507.0       67\n",
       "67074    430.0      103\n",
       "67254    125.0      205\n",
       "67508    415.0      521\n",
       "\n",
       "[568 rows x 2 columns]"
      ]
     },
     "execution_count": 443,
     "metadata": {},
     "output_type": "execute_result"
    }
   ],
   "source": [
    "non_null_mask = BES_Panel.loc[BES_Panelv02.index,\"panoW11\"].notnull() & BES_Panelv02.loc[BES_Panelv02.index,\"panoW11\"].notnull()\n",
    "mask = BES_Panelv02.loc[BES_Panelv02.index,\"panoW11\"][non_null_mask]!=BES_Panel.loc[BES_Panelv02.index,\"panoW11\"][non_null_mask]\n",
    "pd.concat([BES_Panelv02.loc[BES_Panelv02.index,\"panoW11\"],BES_Panel.loc[BES_Panelv02.index,\"panoW11\"] ],axis=1)[non_null_mask][mask]"
   ]
  },
  {
   "cell_type": "code",
   "execution_count": 444,
   "metadata": {},
   "outputs": [
    {
     "data": {
      "text/html": [
       "<div>\n",
       "<style scoped>\n",
       "    .dataframe tbody tr th:only-of-type {\n",
       "        vertical-align: middle;\n",
       "    }\n",
       "\n",
       "    .dataframe tbody tr th {\n",
       "        vertical-align: top;\n",
       "    }\n",
       "\n",
       "    .dataframe thead th {\n",
       "        text-align: right;\n",
       "    }\n",
       "</style>\n",
       "<table border=\"1\" class=\"dataframe\">\n",
       "  <thead>\n",
       "    <tr style=\"text-align: right;\">\n",
       "      <th></th>\n",
       "      <th>pconW11</th>\n",
       "      <th>pconW11</th>\n",
       "    </tr>\n",
       "    <tr>\n",
       "      <th>id</th>\n",
       "      <th></th>\n",
       "      <th></th>\n",
       "    </tr>\n",
       "  </thead>\n",
       "  <tbody>\n",
       "    <tr>\n",
       "      <th>119</th>\n",
       "      <td>Henley</td>\n",
       "      <td>Oxford West and Abingdon</td>\n",
       "    </tr>\n",
       "    <tr>\n",
       "      <th>461</th>\n",
       "      <td>Wealden</td>\n",
       "      <td>Eastbourne</td>\n",
       "    </tr>\n",
       "    <tr>\n",
       "      <th>506</th>\n",
       "      <td>Bournemouth West</td>\n",
       "      <td>Bournemouth East</td>\n",
       "    </tr>\n",
       "    <tr>\n",
       "      <th>525</th>\n",
       "      <td>Totnes</td>\n",
       "      <td>Reading West</td>\n",
       "    </tr>\n",
       "    <tr>\n",
       "      <th>577</th>\n",
       "      <td>Kirkcaldy and Cowdenbeath</td>\n",
       "      <td>Ochil and South Perthshire</td>\n",
       "    </tr>\n",
       "    <tr>\n",
       "      <th>...</th>\n",
       "      <td>...</td>\n",
       "      <td>...</td>\n",
       "    </tr>\n",
       "    <tr>\n",
       "      <th>66804</th>\n",
       "      <td>York Central</td>\n",
       "      <td>Manchester, Gorton</td>\n",
       "    </tr>\n",
       "    <tr>\n",
       "      <th>66952</th>\n",
       "      <td>Sheffield South East</td>\n",
       "      <td>Blackburn</td>\n",
       "    </tr>\n",
       "    <tr>\n",
       "      <th>67074</th>\n",
       "      <td>Norwich North</td>\n",
       "      <td>Broadland</td>\n",
       "    </tr>\n",
       "    <tr>\n",
       "      <th>67254</th>\n",
       "      <td>Canterbury</td>\n",
       "      <td>Dudley South</td>\n",
       "    </tr>\n",
       "    <tr>\n",
       "      <th>67508</th>\n",
       "      <td>Newcastle upon Tyne East</td>\n",
       "      <td>South Ribble</td>\n",
       "    </tr>\n",
       "  </tbody>\n",
       "</table>\n",
       "<p>568 rows × 2 columns</p>\n",
       "</div>"
      ],
      "text/plain": [
       "                         pconW11                     pconW11\n",
       "id                                                          \n",
       "119                       Henley    Oxford West and Abingdon\n",
       "461                      Wealden                  Eastbourne\n",
       "506             Bournemouth West            Bournemouth East\n",
       "525                       Totnes                Reading West\n",
       "577    Kirkcaldy and Cowdenbeath  Ochil and South Perthshire\n",
       "...                          ...                         ...\n",
       "66804               York Central          Manchester, Gorton\n",
       "66952       Sheffield South East                   Blackburn\n",
       "67074              Norwich North                   Broadland\n",
       "67254                 Canterbury                Dudley South\n",
       "67508   Newcastle upon Tyne East                South Ribble\n",
       "\n",
       "[568 rows x 2 columns]"
      ]
     },
     "execution_count": 444,
     "metadata": {},
     "output_type": "execute_result"
    }
   ],
   "source": [
    "pd.concat([BES_Panelv02.loc[BES_Panelv02.index,\"pconW11\"],BES_Panel.loc[BES_Panelv02.index,\"pconW11\"] ],axis=1)[non_null_mask][mask]"
   ]
  },
  {
   "cell_type": "code",
   "execution_count": 475,
   "metadata": {},
   "outputs": [
    {
     "data": {
      "text/plain": [
       "416"
      ]
     },
     "execution_count": 475,
     "metadata": {},
     "output_type": "execute_result"
    }
   ],
   "source": [
    "gc.collect()"
   ]
  },
  {
   "cell_type": "code",
   "execution_count": 16,
   "metadata": {},
   "outputs": [],
   "source": [
    "import pandas as pd\n",
    "import numpy as np"
   ]
  },
  {
   "cell_type": "code",
   "execution_count": null,
   "metadata": {},
   "outputs": [],
   "source": [
    "####################################\n",
    "\n",
    "# Now W19_comb_strings"
   ]
  },
  {
   "cell_type": "code",
   "execution_count": 5,
   "metadata": {},
   "outputs": [
    {
     "ename": "TypeError",
     "evalue": "read_stata() got an unexpected keyword argument 'encoding'",
     "output_type": "error",
     "traceback": [
      "\u001b[1;31m---------------------------------------------------------------------------\u001b[0m",
      "\u001b[1;31mTypeError\u001b[0m                                 Traceback (most recent call last)",
      "\u001b[1;32m<ipython-input-5-e7a918579ed4>\u001b[0m in \u001b[0;36m<module>\u001b[1;34m\u001b[0m\n\u001b[0;32m      1\u001b[0m \u001b[1;32mimport\u001b[0m \u001b[0mpandas\u001b[0m \u001b[1;32mas\u001b[0m \u001b[0mpd\u001b[0m\u001b[1;33m\u001b[0m\u001b[1;33m\u001b[0m\u001b[0m\n\u001b[1;32m----> 2\u001b[1;33m \u001b[0mdf\u001b[0m\u001b[1;33m=\u001b[0m\u001b[0mpd\u001b[0m\u001b[1;33m.\u001b[0m\u001b[0mread_stata\u001b[0m\u001b[1;33m(\u001b[0m \u001b[1;34m'../BES_analysis_data/W19_comb_strings\\\\BES2019_W19Strings_v0.3.dta'\u001b[0m\u001b[1;33m,\u001b[0m\u001b[0mencoding\u001b[0m\u001b[1;33m=\u001b[0m\u001b[1;34m'latin1'\u001b[0m \u001b[1;33m)\u001b[0m\u001b[1;33m\u001b[0m\u001b[1;33m\u001b[0m\u001b[0m\n\u001b[0m",
      "\u001b[1;31mTypeError\u001b[0m: read_stata() got an unexpected keyword argument 'encoding'"
     ]
    }
   ],
   "source": [
    "\n",
    "df=pd.read_stata( '../BES_analysis_data/W19_comb_strings\\\\BES2019_W19Strings_v0.3.dta',encoding='latin1' )"
   ]
  },
  {
   "cell_type": "code",
   "execution_count": 3,
   "metadata": {},
   "outputs": [
    {
     "name": "stdout",
     "output_type": "stream",
     "text": [
      "> \u001b[1;32mc:\\programdata\\anaconda3\\envs\\bes_analysis\\lib\\site-packages\\pandas\\io\\stata.py\u001b[0m(1489)\u001b[0;36m_read_strls\u001b[1;34m()\u001b[0m\n",
      "\u001b[1;32m   1487 \u001b[1;33m            \u001b[0mva\u001b[0m \u001b[1;33m=\u001b[0m \u001b[0mself\u001b[0m\u001b[1;33m.\u001b[0m\u001b[0mpath_or_buf\u001b[0m\u001b[1;33m.\u001b[0m\u001b[0mread\u001b[0m\u001b[1;33m(\u001b[0m\u001b[0mlength\u001b[0m\u001b[1;33m)\u001b[0m\u001b[1;33m\u001b[0m\u001b[1;33m\u001b[0m\u001b[0m\n",
      "\u001b[0m\u001b[1;32m   1488 \u001b[1;33m            \u001b[1;32mif\u001b[0m \u001b[0mtyp\u001b[0m \u001b[1;33m==\u001b[0m \u001b[1;36m130\u001b[0m\u001b[1;33m:\u001b[0m\u001b[1;33m\u001b[0m\u001b[1;33m\u001b[0m\u001b[0m\n",
      "\u001b[0m\u001b[1;32m-> 1489 \u001b[1;33m                \u001b[0mva\u001b[0m \u001b[1;33m=\u001b[0m \u001b[0mva\u001b[0m\u001b[1;33m[\u001b[0m\u001b[1;36m0\u001b[0m\u001b[1;33m:\u001b[0m\u001b[1;33m-\u001b[0m\u001b[1;36m1\u001b[0m\u001b[1;33m]\u001b[0m\u001b[1;33m.\u001b[0m\u001b[0mdecode\u001b[0m\u001b[1;33m(\u001b[0m\u001b[0mself\u001b[0m\u001b[1;33m.\u001b[0m\u001b[0m_encoding\u001b[0m\u001b[1;33m)\u001b[0m\u001b[1;33m\u001b[0m\u001b[1;33m\u001b[0m\u001b[0m\n",
      "\u001b[0m\u001b[1;32m   1490 \u001b[1;33m            \u001b[1;31m# Wrap v_o in a string to allow uint64 values as keys on 32bit OS\u001b[0m\u001b[1;33m\u001b[0m\u001b[1;33m\u001b[0m\u001b[1;33m\u001b[0m\u001b[0m\n",
      "\u001b[0m\u001b[1;32m   1491 \u001b[1;33m            \u001b[0mself\u001b[0m\u001b[1;33m.\u001b[0m\u001b[0mGSO\u001b[0m\u001b[1;33m[\u001b[0m\u001b[0mstr\u001b[0m\u001b[1;33m(\u001b[0m\u001b[0mv_o\u001b[0m\u001b[1;33m)\u001b[0m\u001b[1;33m]\u001b[0m \u001b[1;33m=\u001b[0m \u001b[0mva\u001b[0m\u001b[1;33m\u001b[0m\u001b[1;33m\u001b[0m\u001b[0m\n",
      "\u001b[0m\n",
      "ipdb> va\n",
      "b'I didn\\x92t like any of the candidates\\x00'\n",
      "ipdb> [0:-1]\n",
      "*** SyntaxError: invalid syntax\n",
      "ipdb> va\n",
      "b'I didn\\x92t like any of the candidates\\x00'\n",
      "ipdb> typ\n",
      "130\n",
      "ipdb> va[0:-1]\n",
      "b'I didn\\x92t like any of the candidates'\n",
      "ipdb> self._encoding\n",
      "'utf-8'\n",
      "ipdb> va[0:-1].decode('latin-1')\n",
      "'I didn\\x92t like any of the candidates'\n",
      "ipdb> quit\n"
     ]
    }
   ],
   "source": [
    "%debug"
   ]
  },
  {
   "cell_type": "code",
   "execution_count": null,
   "metadata": {},
   "outputs": [],
   "source": [
    "b'I didn\\x92t like any of the candidates\\x00'"
   ]
  },
  {
   "cell_type": "code",
   "execution_count": 4,
   "metadata": {},
   "outputs": [
    {
     "name": "stdout",
     "output_type": "stream",
     "text": [
      "I didnt like any of the candidates\n"
     ]
    }
   ],
   "source": [
    "print('I didn\\x92t like any of the candidates')"
   ]
  },
  {
   "cell_type": "code",
   "execution_count": null,
   "metadata": {},
   "outputs": [],
   "source": [
    "encoding='latin-1'"
   ]
  },
  {
   "cell_type": "code",
   "execution_count": null,
   "metadata": {},
   "outputs": [],
   "source": []
  },
  {
   "cell_type": "code",
   "execution_count": 12,
   "metadata": {},
   "outputs": [
    {
     "ename": "UnicodeDecodeError",
     "evalue": "'utf-8' codec can't decode byte 0x92 in position 102: invalid start byte",
     "output_type": "error",
     "traceback": [
      "\u001b[1;31m---------------------------------------------------------------------------\u001b[0m",
      "\u001b[1;31mUnicodeDecodeError\u001b[0m                        Traceback (most recent call last)",
      "\u001b[1;32m<ipython-input-12-5a837c04d18d>\u001b[0m in \u001b[0;36m<module>\u001b[1;34m\u001b[0m\n\u001b[0;32m      1\u001b[0m \u001b[1;32mimport\u001b[0m \u001b[0mpandas\u001b[0m \u001b[1;32mas\u001b[0m \u001b[0mpd\u001b[0m\u001b[1;33m\u001b[0m\u001b[1;33m\u001b[0m\u001b[0m\n\u001b[1;32m----> 2\u001b[1;33m \u001b[0mdf\u001b[0m\u001b[1;33m=\u001b[0m\u001b[0mpd\u001b[0m\u001b[1;33m.\u001b[0m\u001b[0mread_stata\u001b[0m\u001b[1;33m(\u001b[0m \u001b[1;34m'../BES_analysis_data/W19_comb_strings\\\\BES2019_W19Strings_v0.3_vs14stata.dta'\u001b[0m \u001b[1;33m)\u001b[0m\u001b[1;33m\u001b[0m\u001b[1;33m\u001b[0m\u001b[0m\n\u001b[0m",
      "\u001b[1;32mC:\\ProgramData\\Anaconda3\\envs\\BES_analysis\\lib\\site-packages\\pandas\\io\\stata.py\u001b[0m in \u001b[0;36mread_stata\u001b[1;34m(filepath_or_buffer, convert_dates, convert_categoricals, index_col, convert_missing, preserve_dtypes, columns, order_categoricals, chunksize, iterator)\u001b[0m\n\u001b[0;32m    191\u001b[0m     \u001b[1;32melse\u001b[0m\u001b[1;33m:\u001b[0m\u001b[1;33m\u001b[0m\u001b[1;33m\u001b[0m\u001b[0m\n\u001b[0;32m    192\u001b[0m         \u001b[1;32mtry\u001b[0m\u001b[1;33m:\u001b[0m\u001b[1;33m\u001b[0m\u001b[1;33m\u001b[0m\u001b[0m\n\u001b[1;32m--> 193\u001b[1;33m             \u001b[0mdata\u001b[0m \u001b[1;33m=\u001b[0m \u001b[0mreader\u001b[0m\u001b[1;33m.\u001b[0m\u001b[0mread\u001b[0m\u001b[1;33m(\u001b[0m\u001b[1;33m)\u001b[0m\u001b[1;33m\u001b[0m\u001b[1;33m\u001b[0m\u001b[0m\n\u001b[0m\u001b[0;32m    194\u001b[0m         \u001b[1;32mfinally\u001b[0m\u001b[1;33m:\u001b[0m\u001b[1;33m\u001b[0m\u001b[1;33m\u001b[0m\u001b[0m\n\u001b[0;32m    195\u001b[0m             \u001b[0mreader\u001b[0m\u001b[1;33m.\u001b[0m\u001b[0mclose\u001b[0m\u001b[1;33m(\u001b[0m\u001b[1;33m)\u001b[0m\u001b[1;33m\u001b[0m\u001b[1;33m\u001b[0m\u001b[0m\n",
      "\u001b[1;32mC:\\ProgramData\\Anaconda3\\envs\\BES_analysis\\lib\\site-packages\\pandas\\io\\stata.py\u001b[0m in \u001b[0;36mread\u001b[1;34m(self, nrows, convert_dates, convert_categoricals, index_col, convert_missing, preserve_dtypes, columns, order_categoricals)\u001b[0m\n\u001b[0;32m   1553\u001b[0m         \u001b[1;32mif\u001b[0m \u001b[1;33m(\u001b[0m\u001b[0mself\u001b[0m\u001b[1;33m.\u001b[0m\u001b[0mformat_version\u001b[0m \u001b[1;33m>=\u001b[0m \u001b[1;36m117\u001b[0m\u001b[1;33m)\u001b[0m \u001b[1;32mand\u001b[0m \u001b[1;33m(\u001b[0m\u001b[1;32mnot\u001b[0m \u001b[0mself\u001b[0m\u001b[1;33m.\u001b[0m\u001b[0m_value_labels_read\u001b[0m\u001b[1;33m)\u001b[0m\u001b[1;33m:\u001b[0m\u001b[1;33m\u001b[0m\u001b[1;33m\u001b[0m\u001b[0m\n\u001b[0;32m   1554\u001b[0m             \u001b[0mself\u001b[0m\u001b[1;33m.\u001b[0m\u001b[0m_can_read_value_labels\u001b[0m \u001b[1;33m=\u001b[0m \u001b[1;32mTrue\u001b[0m\u001b[1;33m\u001b[0m\u001b[1;33m\u001b[0m\u001b[0m\n\u001b[1;32m-> 1555\u001b[1;33m             \u001b[0mself\u001b[0m\u001b[1;33m.\u001b[0m\u001b[0m_read_strls\u001b[0m\u001b[1;33m(\u001b[0m\u001b[1;33m)\u001b[0m\u001b[1;33m\u001b[0m\u001b[1;33m\u001b[0m\u001b[0m\n\u001b[0m\u001b[0;32m   1556\u001b[0m \u001b[1;33m\u001b[0m\u001b[0m\n\u001b[0;32m   1557\u001b[0m         \u001b[1;31m# Read data\u001b[0m\u001b[1;33m\u001b[0m\u001b[1;33m\u001b[0m\u001b[1;33m\u001b[0m\u001b[0m\n",
      "\u001b[1;32mC:\\ProgramData\\Anaconda3\\envs\\BES_analysis\\lib\\site-packages\\pandas\\io\\stata.py\u001b[0m in \u001b[0;36m_read_strls\u001b[1;34m(self)\u001b[0m\n\u001b[0;32m   1487\u001b[0m             \u001b[0mva\u001b[0m \u001b[1;33m=\u001b[0m \u001b[0mself\u001b[0m\u001b[1;33m.\u001b[0m\u001b[0mpath_or_buf\u001b[0m\u001b[1;33m.\u001b[0m\u001b[0mread\u001b[0m\u001b[1;33m(\u001b[0m\u001b[0mlength\u001b[0m\u001b[1;33m)\u001b[0m\u001b[1;33m\u001b[0m\u001b[1;33m\u001b[0m\u001b[0m\n\u001b[0;32m   1488\u001b[0m             \u001b[1;32mif\u001b[0m \u001b[0mtyp\u001b[0m \u001b[1;33m==\u001b[0m \u001b[1;36m130\u001b[0m\u001b[1;33m:\u001b[0m\u001b[1;33m\u001b[0m\u001b[1;33m\u001b[0m\u001b[0m\n\u001b[1;32m-> 1489\u001b[1;33m                 \u001b[0mva\u001b[0m \u001b[1;33m=\u001b[0m \u001b[0mva\u001b[0m\u001b[1;33m[\u001b[0m\u001b[1;36m0\u001b[0m\u001b[1;33m:\u001b[0m\u001b[1;33m-\u001b[0m\u001b[1;36m1\u001b[0m\u001b[1;33m]\u001b[0m\u001b[1;33m.\u001b[0m\u001b[0mdecode\u001b[0m\u001b[1;33m(\u001b[0m\u001b[0mself\u001b[0m\u001b[1;33m.\u001b[0m\u001b[0m_encoding\u001b[0m\u001b[1;33m)\u001b[0m\u001b[1;33m\u001b[0m\u001b[1;33m\u001b[0m\u001b[0m\n\u001b[0m\u001b[0;32m   1490\u001b[0m             \u001b[1;31m# Wrap v_o in a string to allow uint64 values as keys on 32bit OS\u001b[0m\u001b[1;33m\u001b[0m\u001b[1;33m\u001b[0m\u001b[1;33m\u001b[0m\u001b[0m\n\u001b[0;32m   1491\u001b[0m             \u001b[0mself\u001b[0m\u001b[1;33m.\u001b[0m\u001b[0mGSO\u001b[0m\u001b[1;33m[\u001b[0m\u001b[0mstr\u001b[0m\u001b[1;33m(\u001b[0m\u001b[0mv_o\u001b[0m\u001b[1;33m)\u001b[0m\u001b[1;33m]\u001b[0m \u001b[1;33m=\u001b[0m \u001b[0mva\u001b[0m\u001b[1;33m\u001b[0m\u001b[1;33m\u001b[0m\u001b[0m\n",
      "\u001b[1;31mUnicodeDecodeError\u001b[0m: 'utf-8' codec can't decode byte 0x92 in position 102: invalid start byte"
     ]
    }
   ],
   "source": [
    "import pandas as pd\n",
    "df=pd.read_stata( '../BES_analysis_data/W19_comb_strings\\\\BES2019_W19Strings_v0.3_vs14stata.dta' )"
   ]
  },
  {
   "cell_type": "code",
   "execution_count": 13,
   "metadata": {},
   "outputs": [
    {
     "name": "stdout",
     "output_type": "stream",
     "text": [
      "> \u001b[1;32mc:\\programdata\\anaconda3\\envs\\bes_analysis\\lib\\site-packages\\pandas\\io\\stata.py\u001b[0m(1489)\u001b[0;36m_read_strls\u001b[1;34m()\u001b[0m\n",
      "\u001b[1;32m   1487 \u001b[1;33m            \u001b[0mva\u001b[0m \u001b[1;33m=\u001b[0m \u001b[0mself\u001b[0m\u001b[1;33m.\u001b[0m\u001b[0mpath_or_buf\u001b[0m\u001b[1;33m.\u001b[0m\u001b[0mread\u001b[0m\u001b[1;33m(\u001b[0m\u001b[0mlength\u001b[0m\u001b[1;33m)\u001b[0m\u001b[1;33m\u001b[0m\u001b[1;33m\u001b[0m\u001b[0m\n",
      "\u001b[0m\u001b[1;32m   1488 \u001b[1;33m            \u001b[1;32mif\u001b[0m \u001b[0mtyp\u001b[0m \u001b[1;33m==\u001b[0m \u001b[1;36m130\u001b[0m\u001b[1;33m:\u001b[0m\u001b[1;33m\u001b[0m\u001b[1;33m\u001b[0m\u001b[0m\n",
      "\u001b[0m\u001b[1;32m-> 1489 \u001b[1;33m                \u001b[0mva\u001b[0m \u001b[1;33m=\u001b[0m \u001b[0mva\u001b[0m\u001b[1;33m[\u001b[0m\u001b[1;36m0\u001b[0m\u001b[1;33m:\u001b[0m\u001b[1;33m-\u001b[0m\u001b[1;36m1\u001b[0m\u001b[1;33m]\u001b[0m\u001b[1;33m.\u001b[0m\u001b[0mdecode\u001b[0m\u001b[1;33m(\u001b[0m\u001b[0mself\u001b[0m\u001b[1;33m.\u001b[0m\u001b[0m_encoding\u001b[0m\u001b[1;33m)\u001b[0m\u001b[1;33m\u001b[0m\u001b[1;33m\u001b[0m\u001b[0m\n",
      "\u001b[0m\u001b[1;32m   1490 \u001b[1;33m            \u001b[1;31m# Wrap v_o in a string to allow uint64 values as keys on 32bit OS\u001b[0m\u001b[1;33m\u001b[0m\u001b[1;33m\u001b[0m\u001b[1;33m\u001b[0m\u001b[0m\n",
      "\u001b[0m\u001b[1;32m   1491 \u001b[1;33m            \u001b[0mself\u001b[0m\u001b[1;33m.\u001b[0m\u001b[0mGSO\u001b[0m\u001b[1;33m[\u001b[0m\u001b[0mstr\u001b[0m\u001b[1;33m(\u001b[0m\u001b[0mv_o\u001b[0m\u001b[1;33m)\u001b[0m\u001b[1;33m]\u001b[0m \u001b[1;33m=\u001b[0m \u001b[0mva\u001b[0m\u001b[1;33m\u001b[0m\u001b[1;33m\u001b[0m\u001b[0m\n",
      "\u001b[0m\n",
      "ipdb> va\n",
      "b'Because the original vote was to leave and ever since democracy has failed to deliver because it doesn\\x92t suit some people\\x92s interests\\x00'\n",
      "ipdb> quit\n"
     ]
    }
   ],
   "source": [
    "%debug"
   ]
  },
  {
   "cell_type": "code",
   "execution_count": 37,
   "metadata": {},
   "outputs": [],
   "source": [
    "savFileName = '../BES_analysis_data/W19_comb_strings\\\\BES2019_W19Strings_v0.3.dta'\n",
    "reader = pd.io.stata.StataReader(savFileName)\n",
    "\n",
    "header = reader.variable_labels()"
   ]
  },
  {
   "cell_type": "code",
   "execution_count": 20,
   "metadata": {},
   "outputs": [],
   "source": []
  },
  {
   "cell_type": "code",
   "execution_count": 21,
   "metadata": {},
   "outputs": [
    {
     "data": {
      "text/plain": [
       "116"
      ]
     },
     "execution_count": 21,
     "metadata": {},
     "output_type": "execute_result"
    }
   ],
   "source": [
    "reader.format_version"
   ]
  },
  {
   "cell_type": "code",
   "execution_count": 24,
   "metadata": {},
   "outputs": [
    {
     "ename": "StopIteration",
     "evalue": "",
     "output_type": "error",
     "traceback": [
      "\u001b[1;31m---------------------------------------------------------------------------\u001b[0m",
      "\u001b[1;31mStopIteration\u001b[0m                             Traceback (most recent call last)",
      "\u001b[1;32m<ipython-input-24-7d32cf459984>\u001b[0m in \u001b[0;36m<module>\u001b[1;34m\u001b[0m\n\u001b[1;32m----> 1\u001b[1;33m \u001b[0mreader\u001b[0m\u001b[1;33m.\u001b[0m\u001b[0mget_chunk\u001b[0m\u001b[1;33m(\u001b[0m\u001b[1;33m)\u001b[0m\u001b[1;33m\u001b[0m\u001b[1;33m\u001b[0m\u001b[0m\n\u001b[0m",
      "\u001b[1;32mC:\\ProgramData\\Anaconda3\\envs\\BES_analysis\\lib\\site-packages\\pandas\\io\\stata.py\u001b[0m in \u001b[0;36mget_chunk\u001b[1;34m(self, size)\u001b[0m\n\u001b[0;32m   1509\u001b[0m         \u001b[1;32mif\u001b[0m \u001b[0msize\u001b[0m \u001b[1;32mis\u001b[0m \u001b[1;32mNone\u001b[0m\u001b[1;33m:\u001b[0m\u001b[1;33m\u001b[0m\u001b[1;33m\u001b[0m\u001b[0m\n\u001b[0;32m   1510\u001b[0m             \u001b[0msize\u001b[0m \u001b[1;33m=\u001b[0m \u001b[0mself\u001b[0m\u001b[1;33m.\u001b[0m\u001b[0m_chunksize\u001b[0m\u001b[1;33m\u001b[0m\u001b[1;33m\u001b[0m\u001b[0m\n\u001b[1;32m-> 1511\u001b[1;33m         \u001b[1;32mreturn\u001b[0m \u001b[0mself\u001b[0m\u001b[1;33m.\u001b[0m\u001b[0mread\u001b[0m\u001b[1;33m(\u001b[0m\u001b[0mnrows\u001b[0m\u001b[1;33m=\u001b[0m\u001b[0msize\u001b[0m\u001b[1;33m)\u001b[0m\u001b[1;33m\u001b[0m\u001b[1;33m\u001b[0m\u001b[0m\n\u001b[0m\u001b[0;32m   1512\u001b[0m \u001b[1;33m\u001b[0m\u001b[0m\n\u001b[0;32m   1513\u001b[0m     \u001b[1;33m@\u001b[0m\u001b[0mAppender\u001b[0m\u001b[1;33m(\u001b[0m\u001b[0m_read_method_doc\u001b[0m\u001b[1;33m)\u001b[0m\u001b[1;33m\u001b[0m\u001b[1;33m\u001b[0m\u001b[0m\n",
      "\u001b[1;32mC:\\ProgramData\\Anaconda3\\envs\\BES_analysis\\lib\\site-packages\\pandas\\io\\stata.py\u001b[0m in \u001b[0;36mread\u001b[1;34m(self, nrows, convert_dates, convert_categoricals, index_col, convert_missing, preserve_dtypes, columns, order_categoricals)\u001b[0m\n\u001b[0;32m   1566\u001b[0m                 \u001b[0mself\u001b[0m\u001b[1;33m.\u001b[0m\u001b[0m_read_value_labels\u001b[0m\u001b[1;33m(\u001b[0m\u001b[1;33m)\u001b[0m\u001b[1;33m\u001b[0m\u001b[1;33m\u001b[0m\u001b[0m\n\u001b[0;32m   1567\u001b[0m             \u001b[0mself\u001b[0m\u001b[1;33m.\u001b[0m\u001b[0mclose\u001b[0m\u001b[1;33m(\u001b[0m\u001b[1;33m)\u001b[0m\u001b[1;33m\u001b[0m\u001b[1;33m\u001b[0m\u001b[0m\n\u001b[1;32m-> 1568\u001b[1;33m             \u001b[1;32mraise\u001b[0m \u001b[0mStopIteration\u001b[0m\u001b[1;33m\u001b[0m\u001b[1;33m\u001b[0m\u001b[0m\n\u001b[0m\u001b[0;32m   1569\u001b[0m         \u001b[0moffset\u001b[0m \u001b[1;33m=\u001b[0m \u001b[0mself\u001b[0m\u001b[1;33m.\u001b[0m\u001b[0m_lines_read\u001b[0m \u001b[1;33m*\u001b[0m \u001b[0mdtype\u001b[0m\u001b[1;33m.\u001b[0m\u001b[0mitemsize\u001b[0m\u001b[1;33m\u001b[0m\u001b[1;33m\u001b[0m\u001b[0m\n\u001b[0;32m   1570\u001b[0m         \u001b[0mself\u001b[0m\u001b[1;33m.\u001b[0m\u001b[0mpath_or_buf\u001b[0m\u001b[1;33m.\u001b[0m\u001b[0mseek\u001b[0m\u001b[1;33m(\u001b[0m\u001b[0mself\u001b[0m\u001b[1;33m.\u001b[0m\u001b[0mdata_location\u001b[0m \u001b[1;33m+\u001b[0m \u001b[0moffset\u001b[0m\u001b[1;33m)\u001b[0m\u001b[1;33m\u001b[0m\u001b[1;33m\u001b[0m\u001b[0m\n",
      "\u001b[1;31mStopIteration\u001b[0m: "
     ]
    }
   ],
   "source": [
    "reader.get_chunk()"
   ]
  },
  {
   "cell_type": "code",
   "execution_count": 26,
   "metadata": {},
   "outputs": [
    {
     "data": {
      "text/plain": [
       "3056"
      ]
     },
     "execution_count": 26,
     "metadata": {},
     "output_type": "execute_result"
    }
   ],
   "source": [
    "import gc\n",
    "gc.collect()"
   ]
  },
  {
   "cell_type": "code",
   "execution_count": 38,
   "metadata": {},
   "outputs": [
    {
     "ename": "KeyError",
     "evalue": "'65544'",
     "output_type": "error",
     "traceback": [
      "\u001b[1;31m---------------------------------------------------------------------------\u001b[0m",
      "\u001b[1;31mKeyError\u001b[0m                                  Traceback (most recent call last)",
      "\u001b[1;32m<ipython-input-38-205a7898a239>\u001b[0m in \u001b[0;36m<module>\u001b[1;34m\u001b[0m\n\u001b[0;32m      2\u001b[0m \u001b[1;32mimport\u001b[0m \u001b[0msys\u001b[0m\u001b[1;33m\u001b[0m\u001b[1;33m\u001b[0m\u001b[0m\n\u001b[0;32m      3\u001b[0m \u001b[0mreader\u001b[0m\u001b[1;33m.\u001b[0m\u001b[0mformat_version\u001b[0m \u001b[1;33m=\u001b[0m \u001b[1;36m117\u001b[0m\u001b[1;33m\u001b[0m\u001b[1;33m\u001b[0m\u001b[0m\n\u001b[1;32m----> 4\u001b[1;33m \u001b[0mchunk\u001b[0m \u001b[1;33m=\u001b[0m \u001b[0mreader\u001b[0m\u001b[1;33m.\u001b[0m\u001b[0mget_chunk\u001b[0m\u001b[1;33m(\u001b[0m\u001b[1;36m1000\u001b[0m\u001b[1;33m)\u001b[0m\u001b[1;33m\u001b[0m\u001b[1;33m\u001b[0m\u001b[0m\n\u001b[0m\u001b[0;32m      5\u001b[0m \u001b[1;32mwhile\u001b[0m \u001b[0mlen\u001b[0m\u001b[1;33m(\u001b[0m\u001b[0mchunk\u001b[0m\u001b[1;33m)\u001b[0m \u001b[1;33m>\u001b[0m \u001b[1;36m0\u001b[0m\u001b[1;33m:\u001b[0m\u001b[1;33m\u001b[0m\u001b[1;33m\u001b[0m\u001b[0m\n\u001b[0;32m      6\u001b[0m     \u001b[0mdf\u001b[0m \u001b[1;33m=\u001b[0m \u001b[0mdf\u001b[0m\u001b[1;33m.\u001b[0m\u001b[0mappend\u001b[0m\u001b[1;33m(\u001b[0m\u001b[0mchunk\u001b[0m\u001b[1;33m,\u001b[0m \u001b[0mignore_index\u001b[0m\u001b[1;33m=\u001b[0m\u001b[1;32mTrue\u001b[0m\u001b[1;33m)\u001b[0m\u001b[1;33m\u001b[0m\u001b[1;33m\u001b[0m\u001b[0m\n",
      "\u001b[1;32mC:\\ProgramData\\Anaconda3\\envs\\BES_analysis\\lib\\site-packages\\pandas\\io\\stata.py\u001b[0m in \u001b[0;36mget_chunk\u001b[1;34m(self, size)\u001b[0m\n\u001b[0;32m   1509\u001b[0m         \u001b[1;32mif\u001b[0m \u001b[0msize\u001b[0m \u001b[1;32mis\u001b[0m \u001b[1;32mNone\u001b[0m\u001b[1;33m:\u001b[0m\u001b[1;33m\u001b[0m\u001b[1;33m\u001b[0m\u001b[0m\n\u001b[0;32m   1510\u001b[0m             \u001b[0msize\u001b[0m \u001b[1;33m=\u001b[0m \u001b[0mself\u001b[0m\u001b[1;33m.\u001b[0m\u001b[0m_chunksize\u001b[0m\u001b[1;33m\u001b[0m\u001b[1;33m\u001b[0m\u001b[0m\n\u001b[1;32m-> 1511\u001b[1;33m         \u001b[1;32mreturn\u001b[0m \u001b[0mself\u001b[0m\u001b[1;33m.\u001b[0m\u001b[0mread\u001b[0m\u001b[1;33m(\u001b[0m\u001b[0mnrows\u001b[0m\u001b[1;33m=\u001b[0m\u001b[0msize\u001b[0m\u001b[1;33m)\u001b[0m\u001b[1;33m\u001b[0m\u001b[1;33m\u001b[0m\u001b[0m\n\u001b[0m\u001b[0;32m   1512\u001b[0m \u001b[1;33m\u001b[0m\u001b[0m\n\u001b[0;32m   1513\u001b[0m     \u001b[1;33m@\u001b[0m\u001b[0mAppender\u001b[0m\u001b[1;33m(\u001b[0m\u001b[0m_read_method_doc\u001b[0m\u001b[1;33m)\u001b[0m\u001b[1;33m\u001b[0m\u001b[1;33m\u001b[0m\u001b[0m\n",
      "\u001b[1;32mC:\\ProgramData\\Anaconda3\\envs\\BES_analysis\\lib\\site-packages\\pandas\\io\\stata.py\u001b[0m in \u001b[0;36mread\u001b[1;34m(self, nrows, convert_dates, convert_categoricals, index_col, convert_missing, preserve_dtypes, columns, order_categoricals)\u001b[0m\n\u001b[0;32m   1609\u001b[0m                 \u001b[0mdata\u001b[0m\u001b[1;33m[\u001b[0m\u001b[0mcol\u001b[0m\u001b[1;33m]\u001b[0m \u001b[1;33m=\u001b[0m \u001b[0mdata\u001b[0m\u001b[1;33m[\u001b[0m\u001b[0mcol\u001b[0m\u001b[1;33m]\u001b[0m\u001b[1;33m.\u001b[0m\u001b[0mapply\u001b[0m\u001b[1;33m(\u001b[0m\u001b[0mself\u001b[0m\u001b[1;33m.\u001b[0m\u001b[0m_decode\u001b[0m\u001b[1;33m,\u001b[0m \u001b[0mconvert_dtype\u001b[0m\u001b[1;33m=\u001b[0m\u001b[1;32mTrue\u001b[0m\u001b[1;33m)\u001b[0m\u001b[1;33m\u001b[0m\u001b[1;33m\u001b[0m\u001b[0m\n\u001b[0;32m   1610\u001b[0m \u001b[1;33m\u001b[0m\u001b[0m\n\u001b[1;32m-> 1611\u001b[1;33m         \u001b[0mdata\u001b[0m \u001b[1;33m=\u001b[0m \u001b[0mself\u001b[0m\u001b[1;33m.\u001b[0m\u001b[0m_insert_strls\u001b[0m\u001b[1;33m(\u001b[0m\u001b[0mdata\u001b[0m\u001b[1;33m)\u001b[0m\u001b[1;33m\u001b[0m\u001b[1;33m\u001b[0m\u001b[0m\n\u001b[0m\u001b[0;32m   1612\u001b[0m \u001b[1;33m\u001b[0m\u001b[0m\n\u001b[0;32m   1613\u001b[0m         \u001b[0mcols_\u001b[0m \u001b[1;33m=\u001b[0m \u001b[0mnp\u001b[0m\u001b[1;33m.\u001b[0m\u001b[0mwhere\u001b[0m\u001b[1;33m(\u001b[0m\u001b[0mself\u001b[0m\u001b[1;33m.\u001b[0m\u001b[0mdtyplist\u001b[0m\u001b[1;33m)\u001b[0m\u001b[1;33m[\u001b[0m\u001b[1;36m0\u001b[0m\u001b[1;33m]\u001b[0m\u001b[1;33m\u001b[0m\u001b[1;33m\u001b[0m\u001b[0m\n",
      "\u001b[1;32mC:\\ProgramData\\Anaconda3\\envs\\BES_analysis\\lib\\site-packages\\pandas\\io\\stata.py\u001b[0m in \u001b[0;36m_insert_strls\u001b[1;34m(self, data)\u001b[0m\n\u001b[0;32m   1721\u001b[0m                 \u001b[1;32mcontinue\u001b[0m\u001b[1;33m\u001b[0m\u001b[1;33m\u001b[0m\u001b[0m\n\u001b[0;32m   1722\u001b[0m             \u001b[1;31m# Wrap v_o in a string to allow uint64 values as keys on 32bit OS\u001b[0m\u001b[1;33m\u001b[0m\u001b[1;33m\u001b[0m\u001b[1;33m\u001b[0m\u001b[0m\n\u001b[1;32m-> 1723\u001b[1;33m             \u001b[0mdata\u001b[0m\u001b[1;33m.\u001b[0m\u001b[0miloc\u001b[0m\u001b[1;33m[\u001b[0m\u001b[1;33m:\u001b[0m\u001b[1;33m,\u001b[0m \u001b[0mi\u001b[0m\u001b[1;33m]\u001b[0m \u001b[1;33m=\u001b[0m \u001b[1;33m[\u001b[0m\u001b[0mself\u001b[0m\u001b[1;33m.\u001b[0m\u001b[0mGSO\u001b[0m\u001b[1;33m[\u001b[0m\u001b[0mstr\u001b[0m\u001b[1;33m(\u001b[0m\u001b[0mk\u001b[0m\u001b[1;33m)\u001b[0m\u001b[1;33m]\u001b[0m \u001b[1;32mfor\u001b[0m \u001b[0mk\u001b[0m \u001b[1;32min\u001b[0m \u001b[0mdata\u001b[0m\u001b[1;33m.\u001b[0m\u001b[0miloc\u001b[0m\u001b[1;33m[\u001b[0m\u001b[1;33m:\u001b[0m\u001b[1;33m,\u001b[0m \u001b[0mi\u001b[0m\u001b[1;33m]\u001b[0m\u001b[1;33m]\u001b[0m\u001b[1;33m\u001b[0m\u001b[1;33m\u001b[0m\u001b[0m\n\u001b[0m\u001b[0;32m   1724\u001b[0m         \u001b[1;32mreturn\u001b[0m \u001b[0mdata\u001b[0m\u001b[1;33m\u001b[0m\u001b[1;33m\u001b[0m\u001b[0m\n\u001b[0;32m   1725\u001b[0m \u001b[1;33m\u001b[0m\u001b[0m\n",
      "\u001b[1;32mC:\\ProgramData\\Anaconda3\\envs\\BES_analysis\\lib\\site-packages\\pandas\\io\\stata.py\u001b[0m in \u001b[0;36m<listcomp>\u001b[1;34m(.0)\u001b[0m\n\u001b[0;32m   1721\u001b[0m                 \u001b[1;32mcontinue\u001b[0m\u001b[1;33m\u001b[0m\u001b[1;33m\u001b[0m\u001b[0m\n\u001b[0;32m   1722\u001b[0m             \u001b[1;31m# Wrap v_o in a string to allow uint64 values as keys on 32bit OS\u001b[0m\u001b[1;33m\u001b[0m\u001b[1;33m\u001b[0m\u001b[1;33m\u001b[0m\u001b[0m\n\u001b[1;32m-> 1723\u001b[1;33m             \u001b[0mdata\u001b[0m\u001b[1;33m.\u001b[0m\u001b[0miloc\u001b[0m\u001b[1;33m[\u001b[0m\u001b[1;33m:\u001b[0m\u001b[1;33m,\u001b[0m \u001b[0mi\u001b[0m\u001b[1;33m]\u001b[0m \u001b[1;33m=\u001b[0m \u001b[1;33m[\u001b[0m\u001b[0mself\u001b[0m\u001b[1;33m.\u001b[0m\u001b[0mGSO\u001b[0m\u001b[1;33m[\u001b[0m\u001b[0mstr\u001b[0m\u001b[1;33m(\u001b[0m\u001b[0mk\u001b[0m\u001b[1;33m)\u001b[0m\u001b[1;33m]\u001b[0m \u001b[1;32mfor\u001b[0m \u001b[0mk\u001b[0m \u001b[1;32min\u001b[0m \u001b[0mdata\u001b[0m\u001b[1;33m.\u001b[0m\u001b[0miloc\u001b[0m\u001b[1;33m[\u001b[0m\u001b[1;33m:\u001b[0m\u001b[1;33m,\u001b[0m \u001b[0mi\u001b[0m\u001b[1;33m]\u001b[0m\u001b[1;33m]\u001b[0m\u001b[1;33m\u001b[0m\u001b[1;33m\u001b[0m\u001b[0m\n\u001b[0m\u001b[0;32m   1724\u001b[0m         \u001b[1;32mreturn\u001b[0m \u001b[0mdata\u001b[0m\u001b[1;33m\u001b[0m\u001b[1;33m\u001b[0m\u001b[0m\n\u001b[0;32m   1725\u001b[0m \u001b[1;33m\u001b[0m\u001b[0m\n",
      "\u001b[1;31mKeyError\u001b[0m: '65544'"
     ]
    }
   ],
   "source": [
    "df = pd.DataFrame()\n",
    "import sys\n",
    "reader.format_version = 117\n",
    "chunk = reader.get_chunk(1000)\n",
    "while len(chunk) > 0:\n",
    "    df = df.append(chunk, ignore_index=True)\n",
    "    chunk = reader.get_chunk(1000)\n",
    "    print('.')\n",
    "    sys.stdout.flush()\n"
   ]
  },
  {
   "cell_type": "code",
   "execution_count": 31,
   "metadata": {},
   "outputs": [
    {
     "ename": "StopIteration",
     "evalue": "",
     "output_type": "error",
     "traceback": [
      "\u001b[1;31m---------------------------------------------------------------------------\u001b[0m",
      "\u001b[1;31mStopIteration\u001b[0m                             Traceback (most recent call last)",
      "\u001b[1;32m<ipython-input-31-4010e1836910>\u001b[0m in \u001b[0;36m<module>\u001b[1;34m\u001b[0m\n\u001b[1;32m----> 1\u001b[1;33m \u001b[0mreader\u001b[0m\u001b[1;33m.\u001b[0m\u001b[0mread\u001b[0m\u001b[1;33m(\u001b[0m\u001b[1;33m)\u001b[0m\u001b[1;33m\u001b[0m\u001b[1;33m\u001b[0m\u001b[0m\n\u001b[0m",
      "\u001b[1;32mC:\\ProgramData\\Anaconda3\\envs\\BES_analysis\\lib\\site-packages\\pandas\\io\\stata.py\u001b[0m in \u001b[0;36mread\u001b[1;34m(self, nrows, convert_dates, convert_categoricals, index_col, convert_missing, preserve_dtypes, columns, order_categoricals)\u001b[0m\n\u001b[0;32m   1566\u001b[0m                 \u001b[0mself\u001b[0m\u001b[1;33m.\u001b[0m\u001b[0m_read_value_labels\u001b[0m\u001b[1;33m(\u001b[0m\u001b[1;33m)\u001b[0m\u001b[1;33m\u001b[0m\u001b[1;33m\u001b[0m\u001b[0m\n\u001b[0;32m   1567\u001b[0m             \u001b[0mself\u001b[0m\u001b[1;33m.\u001b[0m\u001b[0mclose\u001b[0m\u001b[1;33m(\u001b[0m\u001b[1;33m)\u001b[0m\u001b[1;33m\u001b[0m\u001b[1;33m\u001b[0m\u001b[0m\n\u001b[1;32m-> 1568\u001b[1;33m             \u001b[1;32mraise\u001b[0m \u001b[0mStopIteration\u001b[0m\u001b[1;33m\u001b[0m\u001b[1;33m\u001b[0m\u001b[0m\n\u001b[0m\u001b[0;32m   1569\u001b[0m         \u001b[0moffset\u001b[0m \u001b[1;33m=\u001b[0m \u001b[0mself\u001b[0m\u001b[1;33m.\u001b[0m\u001b[0m_lines_read\u001b[0m \u001b[1;33m*\u001b[0m \u001b[0mdtype\u001b[0m\u001b[1;33m.\u001b[0m\u001b[0mitemsize\u001b[0m\u001b[1;33m\u001b[0m\u001b[1;33m\u001b[0m\u001b[0m\n\u001b[0;32m   1570\u001b[0m         \u001b[0mself\u001b[0m\u001b[1;33m.\u001b[0m\u001b[0mpath_or_buf\u001b[0m\u001b[1;33m.\u001b[0m\u001b[0mseek\u001b[0m\u001b[1;33m(\u001b[0m\u001b[0mself\u001b[0m\u001b[1;33m.\u001b[0m\u001b[0mdata_location\u001b[0m \u001b[1;33m+\u001b[0m \u001b[0moffset\u001b[0m\u001b[1;33m)\u001b[0m\u001b[1;33m\u001b[0m\u001b[1;33m\u001b[0m\u001b[0m\n",
      "\u001b[1;31mStopIteration\u001b[0m: "
     ]
    }
   ],
   "source": [
    "reader.read()"
   ]
  },
  {
   "cell_type": "code",
   "execution_count": null,
   "metadata": {},
   "outputs": [],
   "source": [
    "### Waste of time and energy - load in spss, save as csv!"
   ]
  },
  {
   "cell_type": "code",
   "execution_count": 2,
   "metadata": {},
   "outputs": [],
   "source": [
    "import pandas as pd\n",
    "BES_stringsv02=pd.read_pickle( '../BES_analysis_data/W19_comb_strings\\\\BES2019_W19Strings_v0.2.zip',compression='zip' )"
   ]
  },
  {
   "cell_type": "code",
   "execution_count": 5,
   "metadata": {},
   "outputs": [
    {
     "data": {
      "text/plain": [
       "category    2\n",
       "category    2\n",
       "category    1\n",
       "category    1\n",
       "category    1\n",
       "           ..\n",
       "category    1\n",
       "category    1\n",
       "category    1\n",
       "category    1\n",
       "category    1\n",
       "Length: 286, dtype: int64"
      ]
     },
     "execution_count": 5,
     "metadata": {},
     "output_type": "execute_result"
    }
   ],
   "source": [
    "BES_stringsv02.dtypes.value_counts()"
   ]
  },
  {
   "cell_type": "code",
   "execution_count": 6,
   "metadata": {},
   "outputs": [
    {
     "data": {
      "text/html": [
       "<div>\n",
       "<style scoped>\n",
       "    .dataframe tbody tr th:only-of-type {\n",
       "        vertical-align: middle;\n",
       "    }\n",
       "\n",
       "    .dataframe tbody tr th {\n",
       "        vertical-align: top;\n",
       "    }\n",
       "\n",
       "    .dataframe thead th {\n",
       "        text-align: right;\n",
       "    }\n",
       "</style>\n",
       "<table border=\"1\" class=\"dataframe\">\n",
       "  <thead>\n",
       "    <tr style=\"text-align: right;\">\n",
       "      <th></th>\n",
       "      <th>MII_textW1</th>\n",
       "      <th>bestOnMIIOthW1</th>\n",
       "      <th>generalElectionVoteOthW1</th>\n",
       "      <th>generalElectionVoteOthW2</th>\n",
       "      <th>generalElectionVoteOthW3</th>\n",
       "      <th>generalElectionVoteOthW4</th>\n",
       "      <th>generalElectionVoteOthW5</th>\n",
       "      <th>generalElectionVotePostOthW5</th>\n",
       "      <th>generalElectionVoteOthW6</th>\n",
       "      <th>generalElectionVoteOthwishW6</th>\n",
       "      <th>...</th>\n",
       "      <th>indContactW19</th>\n",
       "      <th>othContactW19</th>\n",
       "      <th>changeViewDetailW19</th>\n",
       "      <th>othSubjClassW19</th>\n",
       "      <th>othersectorW19</th>\n",
       "      <th>othSubjClassW2_W4W7W9</th>\n",
       "      <th>othSubjClassW10W11</th>\n",
       "      <th>othSubjClassW12W14</th>\n",
       "      <th>genElecOthCodedW15</th>\n",
       "      <th>genElecOthCodedTIGW15</th>\n",
       "    </tr>\n",
       "    <tr>\n",
       "      <th>id</th>\n",
       "      <th></th>\n",
       "      <th></th>\n",
       "      <th></th>\n",
       "      <th></th>\n",
       "      <th></th>\n",
       "      <th></th>\n",
       "      <th></th>\n",
       "      <th></th>\n",
       "      <th></th>\n",
       "      <th></th>\n",
       "      <th></th>\n",
       "      <th></th>\n",
       "      <th></th>\n",
       "      <th></th>\n",
       "      <th></th>\n",
       "      <th></th>\n",
       "      <th></th>\n",
       "      <th></th>\n",
       "      <th></th>\n",
       "      <th></th>\n",
       "      <th></th>\n",
       "    </tr>\n",
       "  </thead>\n",
       "  <tbody>\n",
       "    <tr>\n",
       "      <th>1</th>\n",
       "      <td>this awful coalition</td>\n",
       "      <td>__na__</td>\n",
       "      <td>__na__</td>\n",
       "      <td>__na__</td>\n",
       "      <td></td>\n",
       "      <td>__na__</td>\n",
       "      <td>__na__</td>\n",
       "      <td>__na__</td>\n",
       "      <td>__na__</td>\n",
       "      <td>__na__</td>\n",
       "      <td>...</td>\n",
       "      <td></td>\n",
       "      <td></td>\n",
       "      <td></td>\n",
       "      <td></td>\n",
       "      <td></td>\n",
       "      <td></td>\n",
       "      <td></td>\n",
       "      <td></td>\n",
       "      <td></td>\n",
       "      <td></td>\n",
       "    </tr>\n",
       "    <tr>\n",
       "      <th>2</th>\n",
       "      <td>terrorism</td>\n",
       "      <td>__na__</td>\n",
       "      <td>__na__</td>\n",
       "      <td></td>\n",
       "      <td>__na__</td>\n",
       "      <td>__na__</td>\n",
       "      <td>__na__</td>\n",
       "      <td>__na__</td>\n",
       "      <td>__na__</td>\n",
       "      <td>__na__</td>\n",
       "      <td>...</td>\n",
       "      <td>__na__</td>\n",
       "      <td></td>\n",
       "      <td>__na__</td>\n",
       "      <td></td>\n",
       "      <td>__na__</td>\n",
       "      <td></td>\n",
       "      <td></td>\n",
       "      <td></td>\n",
       "      <td></td>\n",
       "      <td></td>\n",
       "    </tr>\n",
       "    <tr>\n",
       "      <th>3</th>\n",
       "      <td>__na__</td>\n",
       "      <td>__na__</td>\n",
       "      <td>__na__</td>\n",
       "      <td>__na__</td>\n",
       "      <td>__na__</td>\n",
       "      <td>__na__</td>\n",
       "      <td>__na__</td>\n",
       "      <td>__na__</td>\n",
       "      <td>__na__</td>\n",
       "      <td>__na__</td>\n",
       "      <td>...</td>\n",
       "      <td>__na__</td>\n",
       "      <td></td>\n",
       "      <td>__na__</td>\n",
       "      <td></td>\n",
       "      <td>__na__</td>\n",
       "      <td></td>\n",
       "      <td></td>\n",
       "      <td></td>\n",
       "      <td></td>\n",
       "      <td></td>\n",
       "    </tr>\n",
       "    <tr>\n",
       "      <th>4</th>\n",
       "      <td>economy</td>\n",
       "      <td>__na__</td>\n",
       "      <td>__na__</td>\n",
       "      <td>__na__</td>\n",
       "      <td></td>\n",
       "      <td></td>\n",
       "      <td></td>\n",
       "      <td></td>\n",
       "      <td></td>\n",
       "      <td></td>\n",
       "      <td>...</td>\n",
       "      <td></td>\n",
       "      <td></td>\n",
       "      <td></td>\n",
       "      <td></td>\n",
       "      <td></td>\n",
       "      <td></td>\n",
       "      <td></td>\n",
       "      <td></td>\n",
       "      <td></td>\n",
       "      <td></td>\n",
       "    </tr>\n",
       "    <tr>\n",
       "      <th>5</th>\n",
       "      <td>__na__</td>\n",
       "      <td>__na__</td>\n",
       "      <td>__na__</td>\n",
       "      <td>__na__</td>\n",
       "      <td></td>\n",
       "      <td></td>\n",
       "      <td></td>\n",
       "      <td></td>\n",
       "      <td></td>\n",
       "      <td></td>\n",
       "      <td>...</td>\n",
       "      <td></td>\n",
       "      <td></td>\n",
       "      <td></td>\n",
       "      <td></td>\n",
       "      <td></td>\n",
       "      <td></td>\n",
       "      <td></td>\n",
       "      <td></td>\n",
       "      <td></td>\n",
       "      <td></td>\n",
       "    </tr>\n",
       "    <tr>\n",
       "      <th>...</th>\n",
       "      <td>...</td>\n",
       "      <td>...</td>\n",
       "      <td>...</td>\n",
       "      <td>...</td>\n",
       "      <td>...</td>\n",
       "      <td>...</td>\n",
       "      <td>...</td>\n",
       "      <td>...</td>\n",
       "      <td>...</td>\n",
       "      <td>...</td>\n",
       "      <td>...</td>\n",
       "      <td>...</td>\n",
       "      <td>...</td>\n",
       "      <td>...</td>\n",
       "      <td>...</td>\n",
       "      <td>...</td>\n",
       "      <td>...</td>\n",
       "      <td>...</td>\n",
       "      <td>...</td>\n",
       "      <td>...</td>\n",
       "      <td>...</td>\n",
       "    </tr>\n",
       "    <tr>\n",
       "      <th>98447</th>\n",
       "      <td></td>\n",
       "      <td></td>\n",
       "      <td></td>\n",
       "      <td></td>\n",
       "      <td></td>\n",
       "      <td></td>\n",
       "      <td></td>\n",
       "      <td></td>\n",
       "      <td></td>\n",
       "      <td></td>\n",
       "      <td>...</td>\n",
       "      <td></td>\n",
       "      <td></td>\n",
       "      <td></td>\n",
       "      <td></td>\n",
       "      <td></td>\n",
       "      <td></td>\n",
       "      <td></td>\n",
       "      <td></td>\n",
       "      <td></td>\n",
       "      <td></td>\n",
       "    </tr>\n",
       "    <tr>\n",
       "      <th>98448</th>\n",
       "      <td></td>\n",
       "      <td></td>\n",
       "      <td></td>\n",
       "      <td></td>\n",
       "      <td></td>\n",
       "      <td></td>\n",
       "      <td></td>\n",
       "      <td></td>\n",
       "      <td></td>\n",
       "      <td></td>\n",
       "      <td>...</td>\n",
       "      <td></td>\n",
       "      <td></td>\n",
       "      <td></td>\n",
       "      <td></td>\n",
       "      <td></td>\n",
       "      <td></td>\n",
       "      <td></td>\n",
       "      <td></td>\n",
       "      <td></td>\n",
       "      <td></td>\n",
       "    </tr>\n",
       "    <tr>\n",
       "      <th>98449</th>\n",
       "      <td></td>\n",
       "      <td></td>\n",
       "      <td></td>\n",
       "      <td></td>\n",
       "      <td></td>\n",
       "      <td></td>\n",
       "      <td></td>\n",
       "      <td></td>\n",
       "      <td></td>\n",
       "      <td></td>\n",
       "      <td>...</td>\n",
       "      <td>__na__</td>\n",
       "      <td></td>\n",
       "      <td>__na__</td>\n",
       "      <td></td>\n",
       "      <td>__na__</td>\n",
       "      <td></td>\n",
       "      <td></td>\n",
       "      <td></td>\n",
       "      <td></td>\n",
       "      <td></td>\n",
       "    </tr>\n",
       "    <tr>\n",
       "      <th>98450</th>\n",
       "      <td></td>\n",
       "      <td></td>\n",
       "      <td></td>\n",
       "      <td></td>\n",
       "      <td></td>\n",
       "      <td></td>\n",
       "      <td></td>\n",
       "      <td></td>\n",
       "      <td></td>\n",
       "      <td></td>\n",
       "      <td>...</td>\n",
       "      <td></td>\n",
       "      <td></td>\n",
       "      <td></td>\n",
       "      <td></td>\n",
       "      <td></td>\n",
       "      <td></td>\n",
       "      <td></td>\n",
       "      <td></td>\n",
       "      <td></td>\n",
       "      <td></td>\n",
       "    </tr>\n",
       "    <tr>\n",
       "      <th>98451</th>\n",
       "      <td></td>\n",
       "      <td></td>\n",
       "      <td></td>\n",
       "      <td></td>\n",
       "      <td></td>\n",
       "      <td></td>\n",
       "      <td></td>\n",
       "      <td></td>\n",
       "      <td></td>\n",
       "      <td></td>\n",
       "      <td>...</td>\n",
       "      <td></td>\n",
       "      <td></td>\n",
       "      <td></td>\n",
       "      <td></td>\n",
       "      <td></td>\n",
       "      <td></td>\n",
       "      <td></td>\n",
       "      <td></td>\n",
       "      <td></td>\n",
       "      <td></td>\n",
       "    </tr>\n",
       "  </tbody>\n",
       "</table>\n",
       "<p>97158 rows × 288 columns</p>\n",
       "</div>"
      ],
      "text/plain": [
       "                 MII_textW1 bestOnMIIOthW1 generalElectionVoteOthW1  \\\n",
       "id                                                                    \n",
       "1      this awful coalition         __na__                   __na__   \n",
       "2                 terrorism         __na__                   __na__   \n",
       "3                    __na__         __na__                   __na__   \n",
       "4                   economy         __na__                   __na__   \n",
       "5                    __na__         __na__                   __na__   \n",
       "...                     ...            ...                      ...   \n",
       "98447                                                                 \n",
       "98448                                                                 \n",
       "98449                                                                 \n",
       "98450                                                                 \n",
       "98451                                                                 \n",
       "\n",
       "      generalElectionVoteOthW2 generalElectionVoteOthW3  \\\n",
       "id                                                        \n",
       "1                       __na__                            \n",
       "2                                                __na__   \n",
       "3                       __na__                   __na__   \n",
       "4                       __na__                            \n",
       "5                       __na__                            \n",
       "...                        ...                      ...   \n",
       "98447                                                     \n",
       "98448                                                     \n",
       "98449                                                     \n",
       "98450                                                     \n",
       "98451                                                     \n",
       "\n",
       "      generalElectionVoteOthW4 generalElectionVoteOthW5  \\\n",
       "id                                                        \n",
       "1                       __na__                   __na__   \n",
       "2                       __na__                   __na__   \n",
       "3                       __na__                   __na__   \n",
       "4                                                         \n",
       "5                                                         \n",
       "...                        ...                      ...   \n",
       "98447                                                     \n",
       "98448                                                     \n",
       "98449                                                     \n",
       "98450                                                     \n",
       "98451                                                     \n",
       "\n",
       "      generalElectionVotePostOthW5 generalElectionVoteOthW6  \\\n",
       "id                                                            \n",
       "1                           __na__                   __na__   \n",
       "2                           __na__                   __na__   \n",
       "3                           __na__                   __na__   \n",
       "4                                                             \n",
       "5                                                             \n",
       "...                            ...                      ...   \n",
       "98447                                                         \n",
       "98448                                                         \n",
       "98449                                                         \n",
       "98450                                                         \n",
       "98451                                                         \n",
       "\n",
       "      generalElectionVoteOthwishW6  ... indContactW19 othContactW19  \\\n",
       "id                                  ...                               \n",
       "1                           __na__  ...                               \n",
       "2                           __na__  ...        __na__                 \n",
       "3                           __na__  ...        __na__                 \n",
       "4                                   ...                               \n",
       "5                                   ...                               \n",
       "...                            ...  ...           ...           ...   \n",
       "98447                               ...                               \n",
       "98448                               ...                               \n",
       "98449                               ...        __na__                 \n",
       "98450                               ...                               \n",
       "98451                               ...                               \n",
       "\n",
       "      changeViewDetailW19 othSubjClassW19 othersectorW19  \\\n",
       "id                                                         \n",
       "1                                                          \n",
       "2                  __na__                         __na__   \n",
       "3                  __na__                         __na__   \n",
       "4                                                          \n",
       "5                                                          \n",
       "...                   ...             ...            ...   \n",
       "98447                                                      \n",
       "98448                                                      \n",
       "98449              __na__                         __na__   \n",
       "98450                                                      \n",
       "98451                                                      \n",
       "\n",
       "      othSubjClassW2_W4W7W9 othSubjClassW10W11 othSubjClassW12W14  \\\n",
       "id                                                                  \n",
       "1                                                                   \n",
       "2                                                                   \n",
       "3                                                                   \n",
       "4                                                                   \n",
       "5                                                                   \n",
       "...                     ...                ...                ...   \n",
       "98447                                                               \n",
       "98448                                                               \n",
       "98449                                                               \n",
       "98450                                                               \n",
       "98451                                                               \n",
       "\n",
       "      genElecOthCodedW15 genElecOthCodedTIGW15  \n",
       "id                                              \n",
       "1                                               \n",
       "2                                               \n",
       "3                                               \n",
       "4                                               \n",
       "5                                               \n",
       "...                  ...                   ...  \n",
       "98447                                           \n",
       "98448                                           \n",
       "98449                                           \n",
       "98450                                           \n",
       "98451                                           \n",
       "\n",
       "[97158 rows x 288 columns]"
      ]
     },
     "execution_count": 6,
     "metadata": {},
     "output_type": "execute_result"
    }
   ],
   "source": [
    "BES_stringsv02"
   ]
  },
  {
   "cell_type": "code",
   "execution_count": 17,
   "metadata": {},
   "outputs": [],
   "source": [
    "BES_stringsv03=pd.read_csv( '../BES_analysis_data/W19_comb_strings\\\\BES2019_W19Strings_v0.3.csv' , encoding='latin-1')"
   ]
  },
  {
   "cell_type": "code",
   "execution_count": 18,
   "metadata": {},
   "outputs": [],
   "source": [
    "BES_stringsv03 = BES_stringsv03.rename(columns={'ï»¿id':'id'}).set_index(\"id\").sort_index().apply(lambda x: x.str.lower().replace(\" \",np.nan).astype('category'))"
   ]
  },
  {
   "cell_type": "code",
   "execution_count": 19,
   "metadata": {},
   "outputs": [],
   "source": [
    "BES_stringsv03.to_pickle('../BES_analysis_data/W19_comb_strings\\\\BES2019_W19Strings_v0.3.zip', compression='zip')"
   ]
  },
  {
   "cell_type": "code",
   "execution_count": 21,
   "metadata": {},
   "outputs": [
    {
     "data": {
      "text/plain": [
       "((97158, 288), (97006, 288))"
      ]
     },
     "execution_count": 21,
     "metadata": {},
     "output_type": "execute_result"
    }
   ],
   "source": [
    "BES_stringsv02.shape,BES_stringsv03.shape"
   ]
  },
  {
   "cell_type": "code",
   "execution_count": 23,
   "metadata": {},
   "outputs": [
    {
     "data": {
      "text/plain": [
       "set()"
      ]
     },
     "execution_count": 23,
     "metadata": {},
     "output_type": "execute_result"
    }
   ],
   "source": [
    "set(BES_stringsv03.columns)-set(BES_stringsv02.columns)"
   ]
  },
  {
   "cell_type": "code",
   "execution_count": 41,
   "metadata": {},
   "outputs": [],
   "source": [
    "string_diff = BES_stringsv03.loc[BES_stringsv03.index].applymap(lambda x: str(x)) != BES_stringsv02.loc[BES_stringsv03.index].replace(\" \",np.nan).applymap(lambda x: str(x))"
   ]
  },
  {
   "cell_type": "code",
   "execution_count": 42,
   "metadata": {},
   "outputs": [
    {
     "data": {
      "text/plain": [
       "Series([], Name: MII_textW1, dtype: category\n",
       "Categories (5188, object): [\"unsustainability\" in different areas - econom..., ', (un)employment, (unfair) wage structure, ..., youth unempoyment, zero hour contracts, zero hours contracts, â£])"
      ]
     },
     "execution_count": 42,
     "metadata": {},
     "output_type": "execute_result"
    }
   ],
   "source": [
    "BES_stringsv03.loc[BES_stringsv03.index,\"MII_textW1\"][string_diff[\"MII_textW1\"]]"
   ]
  },
  {
   "cell_type": "code",
   "execution_count": 40,
   "metadata": {},
   "outputs": [
    {
     "data": {
      "text/plain": [
       "id\n",
       "27695    NaN\n",
       "30591    NaN\n",
       "30592    NaN\n",
       "30593    NaN\n",
       "30594    NaN\n",
       "        ... \n",
       "98447    NaN\n",
       "98448    NaN\n",
       "98449    NaN\n",
       "98450    NaN\n",
       "98451    NaN\n",
       "Name: MII_textW1, Length: 66417, dtype: category\n",
       "Categories (5188, object): [\"unsustainability\" in different areas - econom..., ', (un)employment, (unfair) wage structure, ..., youth unempoyment, zero hour contracts, zero hours contracts, â£]"
      ]
     },
     "execution_count": 40,
     "metadata": {},
     "output_type": "execute_result"
    }
   ],
   "source": [
    "BES_stringsv02.loc[BES_stringsv03.index,\"MII_textW1\"][string_diff[\"MII_textW1\"]].replace(\" \",np.nan)"
   ]
  },
  {
   "cell_type": "code",
   "execution_count": 44,
   "metadata": {},
   "outputs": [
    {
     "data": {
      "text/plain": [
       "MII_textW1                     0\n",
       "partyMemberNowOthW12           0\n",
       "partyMemberPastOthW12          0\n",
       "bestOnMIIOthW12                0\n",
       "MII_textW12                    0\n",
       "                              ..\n",
       "othContactW3                   0\n",
       "welshElectionVoteListOthW3     0\n",
       "welshElectionVoteConstOthW3    0\n",
       "genElecOthCodedW15             0\n",
       "genElecOthCodedTIGW15          0\n",
       "Length: 288, dtype: int64"
      ]
     },
     "execution_count": 44,
     "metadata": {},
     "output_type": "execute_result"
    }
   ],
   "source": [
    "string_diff.sum().sort_values()"
   ]
  },
  {
   "cell_type": "code",
   "execution_count": null,
   "metadata": {},
   "outputs": [],
   "source": [
    "# identical!"
   ]
  },
  {
   "cell_type": "code",
   "execution_count": null,
   "metadata": {},
   "outputs": [],
   "source": []
  },
  {
   "cell_type": "code",
   "execution_count": null,
   "metadata": {},
   "outputs": [],
   "source": []
  }
 ],
 "metadata": {
  "kernelspec": {
   "display_name": "Python [conda env:BES_analysis] *",
   "language": "python",
   "name": "conda-env-BES_analysis-py"
  },
  "language_info": {
   "codemirror_mode": {
    "name": "ipython",
    "version": 3
   },
   "file_extension": ".py",
   "mimetype": "text/x-python",
   "name": "python",
   "nbconvert_exporter": "python",
   "pygments_lexer": "ipython3",
   "version": "3.7.6"
  }
 },
 "nbformat": 4,
 "nbformat_minor": 4
}
