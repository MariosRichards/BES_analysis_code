{
 "cells": [
  {
   "cell_type": "code",
   "execution_count": null,
   "id": "44a95fe7",
   "metadata": {},
   "outputs": [],
   "source": [
    "### Look at Auth x Variable mediation"
   ]
  },
  {
   "cell_type": "code",
   "execution_count": 248,
   "id": "c4a7c686",
   "metadata": {},
   "outputs": [
    {
     "data": {
      "text/html": [
       "<script>jQuery(function() {if (jQuery(\"body.notebook_app\").length == 0) { jQuery(\".input_area\").toggle(); jQuery(\".prompt\").toggle();}});</script>"
      ]
     },
     "metadata": {},
     "output_type": "display_data"
    },
    {
     "data": {
      "text/html": [
       "<button onclick=\"jQuery('.input_area').toggle(); jQuery('.prompt').toggle();\">Toggle code</button>"
      ]
     },
     "metadata": {},
     "output_type": "display_data"
    }
   ],
   "source": [
    "# %%time\n",
    "## Just an easy way to load utility functions\n",
    "dataset_name = \"W19_comb\"\n",
    "df_list = \"BES_Panel|BES_reduced_with_na\"\n",
    "\n",
    "%matplotlib inline \n",
    "%run BES_header.py {dataset_name} {df_list}\n"
   ]
  },
  {
   "cell_type": "code",
   "execution_count": 34,
   "id": "70edc9ca",
   "metadata": {},
   "outputs": [],
   "source": [
    "pan_dataset_allr_values = pd.read_csv(BES_small_data_files + \"pan_dataset_allr_valuesW19\"+\".csv\")\n",
    "pan_dataset_ages = pd.read_pickle(BES_small_data_files + \"pan_dataset_ages\"+\".zip\", compression='zip')"
   ]
  },
  {
   "cell_type": "code",
   "execution_count": null,
   "id": "d5408a68",
   "metadata": {},
   "outputs": [],
   "source": []
  },
  {
   "cell_type": "code",
   "execution_count": 52,
   "id": "ff185f9a",
   "metadata": {},
   "outputs": [],
   "source": [
    "pan_dataset_allr_values.index = BES_Panel.index"
   ]
  },
  {
   "cell_type": "code",
   "execution_count": 30,
   "id": "4b838215",
   "metadata": {},
   "outputs": [
    {
     "data": {
      "text/plain": [
       "gayMarriageW10    30237\n",
       "xsexualityW10     30237\n",
       "p_sexualityW1     23411\n",
       "p_sexualityW2     29093\n",
       "p_sexualityW3     27227\n",
       "p_sexualityW4     29398\n",
       "p_sexualityW5     29432\n",
       "p_sexualityW6     29037\n",
       "p_sexualityW7     29871\n",
       "p_sexualityW8     33002\n",
       "p_sexualityW9     29802\n",
       "p_sexualityW10    30236\n",
       "p_sexualityW11    30640\n",
       "p_sexualityW12    34075\n",
       "p_sexualityW13    31061\n",
       "p_sexualityW14    30943\n",
       "p_sexualityW15    30618\n",
       "p_sexualityW16    37538\n",
       "p_sexualityW17    34055\n",
       "p_sexualityW18    37758\n",
       "p_sexualityW19    32149\n",
       "dtype: int64"
      ]
     },
     "execution_count": 30,
     "metadata": {},
     "output_type": "execute_result"
    }
   ],
   "source": [
    "search(BES_Panel,\"gayMarriage|sexuality\")"
   ]
  },
  {
   "cell_type": "code",
   "execution_count": 32,
   "id": "aee9c896",
   "metadata": {},
   "outputs": [
    {
     "data": {
      "text/plain": [
       "NaN                  66770\n",
       "Heterosexual         26805\n",
       "Prefer not to say     1139\n",
       "Gay or lesbian        1105\n",
       "Bisexual               912\n",
       "Other                  275\n",
       "Name: p_sexualityW10, dtype: int64"
      ]
     },
     "execution_count": 32,
     "metadata": {},
     "output_type": "execute_result"
    }
   ],
   "source": [
    "BES_Panel[\"p_sexualityW10\"].value_counts(dropna=False)"
   ]
  },
  {
   "cell_type": "code",
   "execution_count": 33,
   "id": "4910fe1f",
   "metadata": {},
   "outputs": [
    {
     "data": {
      "text/plain": [
       "NaN                           66769\n",
       "Strongly agree                10927\n",
       "Agree                          8710\n",
       "Neither agree nor disagree     4764\n",
       "Disagree                       2498\n",
       "Strongly disagree              2318\n",
       "Don't know                     1020\n",
       "Name: gayMarriageW10, dtype: int64"
      ]
     },
     "execution_count": 33,
     "metadata": {},
     "output_type": "execute_result"
    }
   ],
   "source": [
    "BES_Panel[\"gayMarriageW10\"].value_counts(dropna=False)"
   ]
  },
  {
   "cell_type": "code",
   "execution_count": 57,
   "id": "95c11c81",
   "metadata": {},
   "outputs": [
    {
     "data": {
      "text/plain": [
       "id\n",
       "1        Neither agree nor disagree\n",
       "2        Neither agree nor disagree\n",
       "3        Neither agree nor disagree\n",
       "4                               NaN\n",
       "5                               NaN\n",
       "                    ...            \n",
       "98447                           NaN\n",
       "98448                           NaN\n",
       "98449                           NaN\n",
       "98450                           NaN\n",
       "98451                           NaN\n",
       "Name: gayMarriageW10, Length: 97006, dtype: category\n",
       "Categories (6, object): ['Strongly disagree' < 'Disagree' < 'Neither agree nor disagree' < 'Agree' < 'Strongly agree' < 'Don't know']"
      ]
     },
     "execution_count": 57,
     "metadata": {},
     "output_type": "execute_result"
    }
   ],
   "source": [
    "BES_Panel[\"gayMarriageW10\"]"
   ]
  },
  {
   "cell_type": "code",
   "execution_count": 56,
   "id": "83c82b45",
   "metadata": {},
   "outputs": [
    {
     "data": {
      "text/plain": [
       "NaN    67789\n",
       "4.0    10927\n",
       "3.0     8710\n",
       "2.0     4764\n",
       "1.0     2498\n",
       "0.0     2318\n",
       "dtype: int64"
      ]
     },
     "execution_count": 56,
     "metadata": {},
     "output_type": "execute_result"
    }
   ],
   "source": [
    "gayMarriage = BES_Panel[\"gayMarriageW10\"].replace(\"Don't know\",np.nan).cat.codes.replace(-1,np.nan)\n",
    "mask = gayMarriage.notnull()\n",
    "gayMarriage.value_counts(dropna=False)\n",
    "\n",
    "# Gay or lesbian couples should have the right to marry one another if they want\n",
    "# str dis(0) - str agree (4)"
   ]
  },
  {
   "cell_type": "code",
   "execution_count": 72,
   "id": "5bb4f9ed",
   "metadata": {},
   "outputs": [
    {
     "data": {
      "text/plain": [
       "Heterosexual      26805\n",
       "Gay or lesbian     1105\n",
       "Name: p_sexualityW10, dtype: int64"
      ]
     },
     "execution_count": 72,
     "metadata": {},
     "output_type": "execute_result"
    }
   ],
   "source": [
    "sexuality = BES_Panel[\"p_sexualityW10\"].replace({\"Prefer not to say\":np.nan,\"Bisexual\":np.nan,\"Other\":np.nan})\n",
    "sexuality.value_counts()"
   ]
  },
  {
   "cell_type": "code",
   "execution_count": 126,
   "id": "c681d82a",
   "metadata": {},
   "outputs": [
    {
     "data": {
      "text/plain": [
       "0     4851\n",
       "7     4851\n",
       "15    4851\n",
       "11    4851\n",
       "19    4851\n",
       "3     4851\n",
       "5     4850\n",
       "6     4850\n",
       "4     4850\n",
       "8     4850\n",
       "9     4850\n",
       "1     4850\n",
       "12    4850\n",
       "13    4850\n",
       "14    4850\n",
       "2     4850\n",
       "16    4850\n",
       "17    4850\n",
       "18    4850\n",
       "10    4850\n",
       "dtype: int64"
      ]
     },
     "execution_count": 126,
     "metadata": {},
     "output_type": "execute_result"
    }
   ],
   "source": [
    "authoritiarianism = pan_dataset_allr_values['Social: Liberalism <-> Conservatism{gaussian-ish}complete_fully']\n",
    "\n",
    "authoritiarianism = pd.qcut(authoritiarianism,20).cat.codes\n",
    "# authoritiarianism = authoritiarianism.replace({0:\"Very Socially Liberal\",\n",
    "#                                                1:\"Slightly Socially Liberal\",\n",
    "#                                                2:\"Socially Moderate\",\n",
    "#                                                3:\"Slightly Socially Authoritarian\",\n",
    "#                                                4:\"Very Socially Authoritarian\"})\n",
    "# authoritiarianism = authoritiarianism.astype('category').cat.reorder_categories(['Very Socially Liberal', 'Slightly Socially Liberal','Socially Moderate','Slightly Socially Authoritarian',\n",
    "#         'Very Socially Authoritarian',\n",
    "#        ])\n",
    "# authoritiarianism.\n",
    "authoritiarianism.value_counts()"
   ]
  },
  {
   "cell_type": "code",
   "execution_count": 95,
   "id": "fe484eac",
   "metadata": {},
   "outputs": [
    {
     "data": {
      "text/plain": [
       "<matplotlib.axes._subplots.AxesSubplot at 0x2471f020c08>"
      ]
     },
     "execution_count": 95,
     "metadata": {},
     "output_type": "execute_result"
    },
    {
     "data": {
      "image/png": "[encoded data removed]",
      "text/plain": [
       "<Figure size 432x288 with 1 Axes>"
      ]
     },
     "metadata": {},
     "output_type": "display_data"
    }
   ],
   "source": [
    "pan_dataset_allr_values['Social: Liberalism <-> Conservatism{gaussian-ish}complete_fully'].groupby(authoritiarianism).mean().plot()"
   ]
  },
  {
   "cell_type": "code",
   "execution_count": 91,
   "id": "b581de34",
   "metadata": {},
   "outputs": [
    {
     "data": {
      "text/plain": [
       "19    2546\n",
       "0     2138\n",
       "18    1918\n",
       "17    1622\n",
       "1     1573\n",
       "16    1536\n",
       "15    1454\n",
       "14    1435\n",
       "2     1380\n",
       "13    1373\n",
       "12    1359\n",
       "3     1331\n",
       "11    1273\n",
       "4     1266\n",
       "10    1232\n",
       "5     1214\n",
       "8     1192\n",
       "6     1181\n",
       "7     1153\n",
       "9     1041\n",
       "dtype: int64"
      ]
     },
     "execution_count": 91,
     "metadata": {},
     "output_type": "execute_result"
    }
   ],
   "source": [
    "authoritiarianism[gayMarriage.notnull()].value_counts()"
   ]
  },
  {
   "cell_type": "code",
   "execution_count": 92,
   "id": "31ea54ea",
   "metadata": {},
   "outputs": [
    {
     "data": {
      "text/plain": [
       "<matplotlib.legend.Legend at 0x2471eaa7708>"
      ]
     },
     "execution_count": 92,
     "metadata": {},
     "output_type": "execute_result"
    },
    {
     "data": {
      "image/png": "[encoded data removed]",
      "text/plain": [
       "<Figure size 576x432 with 1 Axes>"
      ]
     },
     "metadata": {},
     "output_type": "display_data"
    }
   ],
   "source": [
    "plt.figure(figsize=(8,6))\n",
    "mask = gayMarriage.notnull()&sexuality.notnull()&authoritiarianism.notnull()\n",
    "sns.barplot(x=sexuality[mask],y=gayMarriage[mask],hue=authoritiarianism[mask])\n",
    "plt.title(\"Gay or lesbian couples should have the\\n\"+\\\n",
    "           \"right to marry one another if they want\\n\"+\\\n",
    "           \"(0=Strongly Disagree - 4=Strongly Agree)\",fontsize=20);\n",
    "plt.legend(bbox_to_anchor=(1.05, 1), loc=2, borderaxespad=0.)\n",
    "\n"
   ]
  },
  {
   "cell_type": "code",
   "execution_count": null,
   "id": "a6efabb4",
   "metadata": {},
   "outputs": [],
   "source": [
    "### so, best function to "
   ]
  },
  {
   "cell_type": "code",
   "execution_count": 99,
   "id": "e9b58647",
   "metadata": {},
   "outputs": [],
   "source": [
    "mask = sexuality==\"Heterosexual\"\n",
    "xpos = pan_dataset_allr_values['Social: Liberalism <-> Conservatism{gaussian-ish}complete_fully'][mask].groupby(authoritiarianism[mask]).mean()\n",
    "ypos = gayMarriage[mask].groupby(authoritiarianism[mask]).mean()"
   ]
  },
  {
   "cell_type": "code",
   "execution_count": 101,
   "id": "10858f30",
   "metadata": {},
   "outputs": [
    {
     "data": {
      "text/plain": [
       "<matplotlib.axes._subplots.AxesSubplot at 0x2476344cd48>"
      ]
     },
     "execution_count": 101,
     "metadata": {},
     "output_type": "execute_result"
    },
    {
     "data": {
      "image/png": "[encoded data removed]",
      "text/plain": [
       "<Figure size 432x288 with 1 Axes>"
      ]
     },
     "metadata": {},
     "output_type": "display_data"
    }
   ],
   "source": [
    "sns.lineplot(xpos,ypos)"
   ]
  },
  {
   "cell_type": "code",
   "execution_count": null,
   "id": "a33248d3",
   "metadata": {},
   "outputs": [],
   "source": [
    "### looks pretty damn close to a line to me (not an evenly distributed sampling - still)"
   ]
  },
  {
   "cell_type": "code",
   "execution_count": 104,
   "id": "62c4f240",
   "metadata": {},
   "outputs": [
    {
     "data": {
      "text/plain": [
       "discussantEthnicity1W2    24933\n",
       "discussantEthnicity2W2    18238\n",
       "discussantEthnicity3W2    13210\n",
       "mapBlackW3                15140\n",
       "warmBlackW11              30956\n",
       "blackEqualityW15           5109\n",
       "blackEqualityW16          37959\n",
       "blackEqualityW17          34366\n",
       "p_ethnicityW1             30279\n",
       "p_ethnicityW2             30160\n",
       "p_ethnicityW3             28072\n",
       "p_ethnicityW4             31442\n",
       "p_ethnicityW5             30822\n",
       "p_ethnicityW6             30145\n",
       "p_ethnicityW7             30783\n",
       "p_ethnicityW8             33443\n",
       "p_ethnicityW9             30000\n",
       "p_ethnicityW10            30227\n",
       "p_ethnicityW11            30925\n",
       "p_ethnicityW12            34358\n",
       "p_ethnicityW13            31124\n",
       "p_ethnicityW14            31015\n",
       "p_ethnicityW15            30766\n",
       "p_ethnicityW16            37745\n",
       "p_ethnicityW17            34013\n",
       "p_ethnicityW18            37635\n",
       "p_ethnicityW19            32029\n",
       "blackEqualityW1_W5        41876\n",
       "blackEqualityW6_W14       63222\n",
       "dtype: int64"
      ]
     },
     "execution_count": 104,
     "metadata": {},
     "output_type": "execute_result"
    }
   ],
   "source": [
    "search(BES_Panel,\"black|ethnicity\")"
   ]
  },
  {
   "cell_type": "code",
   "execution_count": 125,
   "id": "f525f028",
   "metadata": {},
   "outputs": [
    {
     "data": {
      "text/plain": [
       "White British      33870\n",
       "Ethnic minority     1280\n",
       "Name: p_ethnicityW16, dtype: int64"
      ]
     },
     "execution_count": 125,
     "metadata": {},
     "output_type": "execute_result"
    }
   ],
   "source": [
    "blackEquality = BES_Panel[\"blackEqualityW16\"].replace(\"Don't know\",np.nan).cat.codes.replace(-1,np.nan)\n",
    "ethnicity = BES_Panel[\"p_ethnicityW16\"].replace({\"Prefer not to say\":np.nan,\"Other ethnic group\":np.nan,\n",
    "                                                \"Any other mixed background\":np.nan,\"White and Asian\":np.nan,\n",
    "                                                \"White and Black Caribbean\":np.nan,\"Any other Asian background\":np.nan,\n",
    "                                                \"Any other black background\":np.nan,\"White and Black African\":np.nan,\n",
    "                                                \"Any other white background\":np.nan,\n",
    "                                                \"Indian\":\"Ethnic minority\",\"Pakistani\":\"Ethnic minority\",\"Black African\":\"Ethnic minority\",\n",
    "                                                \"Chinese\":\"Ethnic minority\",\"Black Caribbean\":\"Ethnic minority\",\"Bangladeshi\":\"Ethnic minority\",\n",
    "                                                })\n",
    "ethnicity.value_counts()"
   ]
  },
  {
   "cell_type": "code",
   "execution_count": 114,
   "id": "bf95c164",
   "metadata": {},
   "outputs": [
    {
     "data": {
      "text/plain": [
       "White British                 33870\n",
       "Any other white background     1474\n",
       "Indian                          405\n",
       "Prefer not to say               284\n",
       "Pakistani                       214\n",
       "Black African                   193\n",
       "Chinese                         187\n",
       "Black Caribbean                 183\n",
       "Other ethnic group              182\n",
       "Any other mixed background      181\n",
       "White and Asian                 157\n",
       "White and Black Caribbean       117\n",
       "Any other Asian background      107\n",
       "Bangladeshi                      98\n",
       "White and Black African          50\n",
       "Any other black background       43\n",
       "Name: p_ethnicityW16, dtype: int64"
      ]
     },
     "execution_count": 114,
     "metadata": {},
     "output_type": "execute_result"
    }
   ],
   "source": [
    "BES_Panel[\"p_ethnicityW16\"].value_counts()"
   ]
  },
  {
   "cell_type": "code",
   "execution_count": 127,
   "id": "f54ddf72",
   "metadata": {},
   "outputs": [
    {
     "data": {
      "text/plain": [
       "(array([0, 1]), <a list of 2 Text major ticklabel objects>)"
      ]
     },
     "execution_count": 127,
     "metadata": {},
     "output_type": "execute_result"
    },
    {
     "data": {
      "image/png": "[encoded data removed]",
      "text/plain": [
       "<Figure size 576x432 with 1 Axes>"
      ]
     },
     "metadata": {},
     "output_type": "display_data"
    }
   ],
   "source": [
    "plt.figure(figsize=(8,6))\n",
    "mask = blackEquality.notnull()&ethnicity.notnull()&authoritiarianism.notnull()\n",
    "sns.barplot(x=ethnicity[mask],y=blackEquality[mask],hue=authoritiarianism[mask])\n",
    "plt.title(\"Attempts to give equal opportunities to ethnic minorities\\n\"+\\\n",
    "           \"(0=Not gone nearly far enough - 4=Gone much too far)\",fontsize=20);\n",
    "plt.legend(bbox_to_anchor=(1.05, 1), loc=2, borderaxespad=0.)\n",
    "\n",
    "plt.xticks(rotation=90)"
   ]
  },
  {
   "cell_type": "code",
   "execution_count": 128,
   "id": "fb4e6906",
   "metadata": {},
   "outputs": [
    {
     "data": {
      "text/plain": [
       "<matplotlib.axes._subplots.AxesSubplot at 0x247c85c8448>"
      ]
     },
     "execution_count": 128,
     "metadata": {},
     "output_type": "execute_result"
    },
    {
     "data": {
      "image/png": "[encoded data removed]",
      "text/plain": [
       "<Figure size 432x288 with 1 Axes>"
      ]
     },
     "metadata": {},
     "output_type": "display_data"
    }
   ],
   "source": [
    "mask = ethnicity==\"White British\"\n",
    "xpos = pan_dataset_allr_values['Social: Liberalism <-> Conservatism{gaussian-ish}complete_fully'][mask].groupby(authoritiarianism[mask]).mean()\n",
    "ypos = blackEquality[mask].groupby(authoritiarianism[mask]).mean()\n",
    "sns.lineplot(xpos,ypos)"
   ]
  },
  {
   "cell_type": "code",
   "execution_count": null,
   "id": "183442eb",
   "metadata": {},
   "outputs": [],
   "source": [
    "## again, pretty decently linear!"
   ]
  },
  {
   "cell_type": "code",
   "execution_count": null,
   "id": "eabb724d",
   "metadata": {},
   "outputs": [],
   "source": [
    "## maybe try some more later!"
   ]
  },
  {
   "cell_type": "code",
   "execution_count": null,
   "id": "73873578",
   "metadata": {},
   "outputs": [],
   "source": [
    "# -> dummy BES_Panel, corrwith"
   ]
  },
  {
   "cell_type": "code",
   "execution_count": 139,
   "id": "e8121297",
   "metadata": {},
   "outputs": [],
   "source": [
    "# BES_Panel[\"blackEqualityW16\"]"
   ]
  },
  {
   "cell_type": "code",
   "execution_count": 138,
   "id": "5967cefe",
   "metadata": {},
   "outputs": [],
   "source": [
    "# (pd.get_dummies(ethnicity)*pan_dataset_allr_values['Social: Liberalism <-> Conservatism{gaussian-ish}complete_fully']).corrwith(blackEquality)"
   ]
  },
  {
   "cell_type": "code",
   "execution_count": 136,
   "id": "efa3b9a4",
   "metadata": {},
   "outputs": [
    {
     "data": {
      "text/plain": [
       "Ethnic minority    0.014479\n",
       "White British      0.431624\n",
       "dtype: float64"
      ]
     },
     "execution_count": 136,
     "metadata": {},
     "output_type": "execute_result"
    }
   ],
   "source": [
    "pd.get_dummies(ethnicity).apply(lambda x: x*pan_dataset_allr_values['Social: Liberalism <-> Conservatism{gaussian-ish}complete_fully']).corrwith(blackEquality)\n",
    "#*pan_dataset_allr_values['Social: Liberalism <-> Conservatism{gaussian-ish}complete_fully'])"
   ]
  },
  {
   "cell_type": "code",
   "execution_count": 137,
   "id": "13895340",
   "metadata": {},
   "outputs": [
    {
     "data": {
      "text/plain": [
       "Heterosexual     -0.327062\n",
       "Gay or lesbian   -0.065730\n",
       "dtype: float64"
      ]
     },
     "execution_count": 137,
     "metadata": {},
     "output_type": "execute_result"
    }
   ],
   "source": [
    "pd.get_dummies(sexuality).apply(lambda x: x*pan_dataset_allr_values['Social: Liberalism <-> Conservatism{gaussian-ish}complete_fully']).corrwith(gayMarriage)\n",
    "#*pan_dataset_allr_values['Social: Liberalism <-> Conservatism{gaussian-ish}complete_fully'])"
   ]
  },
  {
   "cell_type": "code",
   "execution_count": 374,
   "id": "a44eb0a2",
   "metadata": {},
   "outputs": [],
   "source": [
    "# BES_Panel"
   ]
  },
  {
   "cell_type": "code",
   "execution_count": 140,
   "id": "10b359fe",
   "metadata": {},
   "outputs": [],
   "source": [
    "dummies = pd.get_dummies(BES_Panel)\n",
    "dummies = dummies.select_dtypes('number')"
   ]
  },
  {
   "cell_type": "code",
   "execution_count": 208,
   "id": "7fd84b13",
   "metadata": {},
   "outputs": [],
   "source": [
    "\n",
    "# dummies = dummies.apply(lambda x: x*pan_dataset_allr_values['Social: Liberalism <-> Conservatism{gaussian-ish}complete_fully'])"
   ]
  },
  {
   "cell_type": "code",
   "execution_count": 165,
   "id": "3759d204",
   "metadata": {},
   "outputs": [],
   "source": [
    "gayMarriage_auth = gayMarriage/pan_dataset_allr_values['Social: Liberalism <-> Conservatism{gaussian-ish}complete_fully']"
   ]
  },
  {
   "cell_type": "code",
   "execution_count": 167,
   "id": "ebca22d5",
   "metadata": {},
   "outputs": [],
   "source": [
    "corrs = dummies.corrwith(gayMarriage_auth)"
   ]
  },
  {
   "cell_type": "code",
   "execution_count": 170,
   "id": "43445594",
   "metadata": {},
   "outputs": [
    {
     "data": {
      "text/plain": [
       "pconW13_Bromsgrove                 -0.120706\n",
       "oslauaW13_Bromsgrove               -0.120706\n",
       "pconW7_Bromsgrove                  -0.115204\n",
       "oslauaW7_Bromsgrove                -0.115204\n",
       "mii_catW13_racism/discrimination   -0.112965\n",
       "                                      ...   \n",
       "oslauaW7_County Durham              0.058279\n",
       "propMPChristW14_90                  0.059737\n",
       "pconW10_North West Durham           0.092600\n",
       "pconW9_North West Durham            0.111959\n",
       "pconW7_North West Durham            0.118339\n",
       "Length: 83333, dtype: float64"
      ]
     },
     "execution_count": 170,
     "metadata": {},
     "output_type": "execute_result"
    }
   ],
   "source": [
    "corrs.dropna().sort_values()"
   ]
  },
  {
   "cell_type": "code",
   "execution_count": 173,
   "id": "d14851f6",
   "metadata": {},
   "outputs": [
    {
     "data": {
      "text/plain": [
       "Heterosexual     -0.004232\n",
       "Gay or lesbian    0.001495\n",
       "dtype: float64"
      ]
     },
     "execution_count": 173,
     "metadata": {},
     "output_type": "execute_result"
    }
   ],
   "source": [
    "pd.get_dummies(sexuality).corrwith(gayMarriage/pan_dataset_allr_values['Social: Liberalism <-> Conservatism{gaussian-ish}complete_fully'])"
   ]
  },
  {
   "cell_type": "code",
   "execution_count": 176,
   "id": "5fc65f76",
   "metadata": {},
   "outputs": [
    {
     "data": {
      "text/plain": [
       "Heterosexual     -0.327062\n",
       "Gay or lesbian   -0.065730\n",
       "dtype: float64"
      ]
     },
     "execution_count": 176,
     "metadata": {},
     "output_type": "execute_result"
    }
   ],
   "source": [
    "(pd.get_dummies(sexuality).multiply(pan_dataset_allr_values['Social: Liberalism <-> Conservatism{gaussian-ish}complete_fully'],axis=0)).corrwith(gayMarriage)"
   ]
  },
  {
   "cell_type": "code",
   "execution_count": 177,
   "id": "42f6884a",
   "metadata": {},
   "outputs": [
    {
     "data": {
      "text/plain": [
       "Heterosexual     -0.327062\n",
       "Gay or lesbian   -0.065730\n",
       "dtype: float64"
      ]
     },
     "execution_count": 177,
     "metadata": {},
     "output_type": "execute_result"
    }
   ],
   "source": [
    "(pd.get_dummies(sexuality).multiply(pan_dataset_allr_values['Social: Liberalism <-> Conservatism{gaussian-ish}complete_fully'],axis=0)).corrwith(gayMarriage)"
   ]
  },
  {
   "cell_type": "code",
   "execution_count": 202,
   "id": "01064614",
   "metadata": {},
   "outputs": [],
   "source": [
    "# dummies = dummies.multiply(pan_dataset_allr_values['Social: Liberalism <-> Conservatism{gaussian-ish}complete_fully'],axis=0)"
   ]
  },
  {
   "cell_type": "code",
   "execution_count": 187,
   "id": "2ce6d735",
   "metadata": {},
   "outputs": [
    {
     "data": {
      "text/plain": [
       "uint8      84730\n",
       "float64      123\n",
       "float32        3\n",
       "dtype: int64"
      ]
     },
     "execution_count": 187,
     "metadata": {},
     "output_type": "execute_result"
    }
   ],
   "source": [
    "dummies.dtypes.value_counts()"
   ]
  },
  {
   "cell_type": "code",
   "execution_count": 191,
   "id": "def92811",
   "metadata": {},
   "outputs": [],
   "source": [
    "auth_uint = pan_dataset_allr_values['Social: Liberalism <-> Conservatism{gaussian-ish}complete_fully']"
   ]
  },
  {
   "cell_type": "code",
   "execution_count": 192,
   "id": "5840e710",
   "metadata": {},
   "outputs": [],
   "source": [
    "auth_uint = auth_uint-auth_uint.min()"
   ]
  },
  {
   "cell_type": "code",
   "execution_count": 194,
   "id": "6bbb52fb",
   "metadata": {},
   "outputs": [],
   "source": [
    "auth_uint = auth_uint/auth_uint.max()"
   ]
  },
  {
   "cell_type": "code",
   "execution_count": 197,
   "id": "fdb8643d",
   "metadata": {},
   "outputs": [],
   "source": [
    "auth_uint = round(auth_uint * 255).astype('uint8')"
   ]
  },
  {
   "cell_type": "code",
   "execution_count": 199,
   "id": "2ab65f06",
   "metadata": {},
   "outputs": [],
   "source": [
    "dummies = dummies.select_dtypes('uint8')"
   ]
  },
  {
   "cell_type": "code",
   "execution_count": 200,
   "id": "76f1b9c6",
   "metadata": {},
   "outputs": [],
   "source": [
    "dummies = dummies.multiply(auth_uint,axis=0)"
   ]
  },
  {
   "cell_type": "code",
   "execution_count": 203,
   "id": "f2d8b302",
   "metadata": {},
   "outputs": [
    {
     "name": "stdout",
     "output_type": "stream",
     "text": [
      "Wall time: 3min 45s\n"
     ]
    }
   ],
   "source": [
    "%%time\n",
    "corrs = dummies.corrwith(gayMarriage)"
   ]
  },
  {
   "cell_type": "code",
   "execution_count": 207,
   "id": "0c3badb5",
   "metadata": {},
   "outputs": [
    {
     "data": {
      "text/plain": [
       "likeFarageW10_Strongly dislike                      0.116945\n",
       "p_eurefvote_Stay in the EU                          0.121192\n",
       "euPriorityBalanceW10_Access to the single market    0.123946\n",
       "gayEqualityW17_Not gone far enough                  0.125786\n",
       "p_paper_readW10_The Guardian                        0.126986\n",
       "likeUKIPW10_Strongly dislike                        0.128373\n",
       "gayEqualityW16_Not gone far enough                  0.128981\n",
       "euRefVoteW10_Stay in the EU                         0.132782\n",
       "happyEULeaveW10_Extremely disappointed              0.136093\n",
       "al1W10_W12_Disagree                                 0.138375\n",
       "immigCulturalW10_Enriches cultural life             0.140590\n",
       "blackEqualityW6_W14_Not gone far enough             0.140662\n",
       "euIDW10_The remain side                             0.141354\n",
       "al2W10_W12_Strongly disagree                        0.144122\n",
       "gayEqualityW1_W5_Not gone far enough                0.147950\n",
       "ukCoopMovementW10_Good for Britain                  0.160428\n",
       "gayEqualityW6_W14_Not gone nearly far enough        0.175308\n",
       "genderRolesW10_Strongly disagree                    0.210291\n",
       "gayEqualityW6_W14_Not gone far enough               0.254608\n",
       "gayMarriageW10_Strongly agree                       0.624859\n",
       "dtype: float64"
      ]
     },
     "execution_count": 207,
     "metadata": {},
     "output_type": "execute_result"
    }
   ],
   "source": [
    "corrs.dropna().sort_values().tail(20)\n",
    "\n",
    "# p_work_statW10_Retired: retired\n",
    "# genderRolesW10_Strongly disagree                    0.210291"
   ]
  },
  {
   "cell_type": "code",
   "execution_count": 209,
   "id": "58766e48",
   "metadata": {},
   "outputs": [
    {
     "name": "stdout",
     "output_type": "stream",
     "text": [
      "Wall time: 4min 1s\n"
     ]
    }
   ],
   "source": [
    "%%time\n",
    "corrs_blackEquality = dummies.corrwith(blackEquality)"
   ]
  },
  {
   "cell_type": "code",
   "execution_count": 212,
   "id": "c7bc5d93",
   "metadata": {},
   "outputs": [
    {
     "data": {
      "text/plain": [
       "dealPriorityImmigW16_Extremely important         0.396225\n",
       "immigCulturalW16_Undermines cultural life        0.399536\n",
       "handleEUNegotiateLabW16_Very badly               0.403340\n",
       "dealVnodealW16_Leave without a deal              0.403499\n",
       "cancelBrexitW16_Strongly disagree                0.405450\n",
       "euCitizenW16_No                                  0.409083\n",
       "EUIntegrationSelfW16_Protect our independence    0.414920\n",
       "blackEqualityW16_Gone too far                    0.415515\n",
       "p_ethnicityW16_White British                     0.417891\n",
       "commonwealthCitizenW16_No                        0.418634\n",
       "gayEqualityW16_Gone much too far                 0.421543\n",
       "ukCitizenW16_Yes                                 0.429573\n",
       "willOfPeopleW16_Strongly agree                   0.433673\n",
       "p_eurefvote_Leave the EU                         0.437242\n",
       "otherCitizenW16_No                               0.439039\n",
       "euRefVoteW16_Leave the EU                        0.445364\n",
       "remainVnodealW16_Leave without a deal            0.445657\n",
       "euRefDoOverW16_No                                0.454847\n",
       "euIDW16_The leave side                           0.459038\n",
       "blackEqualityW16_Gone much too far               0.626534\n",
       "dtype: float64"
      ]
     },
     "execution_count": 212,
     "metadata": {},
     "output_type": "execute_result"
    }
   ],
   "source": [
    "corrs_blackEquality.dropna().sort_values().tail(20)"
   ]
  },
  {
   "cell_type": "code",
   "execution_count": 379,
   "id": "d63b29dc",
   "metadata": {},
   "outputs": [
    {
     "data": {
      "text/plain": [
       "p_sexualityW10\n",
       "Heterosexual     -0.331342\n",
       "Gay or lesbian   -0.176367\n",
       "dtype: float64"
      ]
     },
     "execution_count": 379,
     "metadata": {},
     "output_type": "execute_result"
    }
   ],
   "source": [
    "gayMarriage.groupby(sexuality).corr(authoritiarianism,min_periods=100,method='pearson')"
   ]
  },
  {
   "cell_type": "code",
   "execution_count": 380,
   "id": "b7a9a41d",
   "metadata": {},
   "outputs": [
    {
     "data": {
      "text/plain": [
       "p_ethnicityW16\n",
       "Ethnic minority    0.176239\n",
       "White British      0.450525\n",
       "dtype: float64"
      ]
     },
     "execution_count": 380,
     "metadata": {},
     "output_type": "execute_result"
    }
   ],
   "source": [
    "blackEquality.groupby(ethnicity).corr(authoritiarianism,min_periods=100,method='pearson')"
   ]
  },
  {
   "cell_type": "code",
   "execution_count": null,
   "id": "4baae90b",
   "metadata": {},
   "outputs": [],
   "source": []
  },
  {
   "cell_type": "code",
   "execution_count": null,
   "id": "d71a6616",
   "metadata": {},
   "outputs": [],
   "source": []
  },
  {
   "cell_type": "code",
   "execution_count": null,
   "id": "bb84f64e",
   "metadata": {},
   "outputs": [],
   "source": []
  },
  {
   "cell_type": "code",
   "execution_count": null,
   "id": "7ee71e13",
   "metadata": {},
   "outputs": [],
   "source": []
  },
  {
   "cell_type": "code",
   "execution_count": null,
   "id": "673a4e6f",
   "metadata": {},
   "outputs": [],
   "source": []
  },
  {
   "cell_type": "code",
   "execution_count": null,
   "id": "f7a60d85",
   "metadata": {},
   "outputs": [],
   "source": []
  },
  {
   "cell_type": "code",
   "execution_count": null,
   "id": "bc0f2d0a",
   "metadata": {},
   "outputs": [],
   "source": []
  },
  {
   "cell_type": "code",
   "execution_count": null,
   "id": "5aeaf39a",
   "metadata": {},
   "outputs": [],
   "source": [
    "### probably want to exclude\n",
    "# variables directly connected \"blackEquality\"\n",
    "# variables that already correlated directly"
   ]
  },
  {
   "cell_type": "code",
   "execution_count": 221,
   "id": "22734f8c",
   "metadata": {},
   "outputs": [
    {
     "name": "stdout",
     "output_type": "stream",
     "text": [
      "Wall time: 1.96 s\n"
     ]
    }
   ],
   "source": [
    "%%time\n",
    "dummies = pd.get_dummies(BES_Panel)\n",
    "dummies = dummies.select_dtypes('uint8')\n",
    "dummies = dummies.multiply(auth_uint.loc[BES_Panel.index],axis=0)"
   ]
  },
  {
   "cell_type": "code",
   "execution_count": 222,
   "id": "1dc2cd9e",
   "metadata": {},
   "outputs": [
    {
     "data": {
      "text/html": [
       "<div>\n",
       "<style scoped>\n",
       "    .dataframe tbody tr th:only-of-type {\n",
       "        vertical-align: middle;\n",
       "    }\n",
       "\n",
       "    .dataframe tbody tr th {\n",
       "        vertical-align: top;\n",
       "    }\n",
       "\n",
       "    .dataframe thead th {\n",
       "        text-align: right;\n",
       "    }\n",
       "</style>\n",
       "<table border=\"1\" class=\"dataframe\">\n",
       "  <thead>\n",
       "    <tr style=\"text-align: right;\">\n",
       "      <th></th>\n",
       "      <th>wave2ptv_1</th>\n",
       "      <th>wave2ptv_2</th>\n",
       "      <th>country_England</th>\n",
       "      <th>country_Scotland</th>\n",
       "      <th>country_Wales</th>\n",
       "      <th>turnoutUKGeneral_Very unlikely that I would vote</th>\n",
       "      <th>turnoutUKGeneral_Fairly unlikely</th>\n",
       "      <th>turnoutUKGeneral_Neither likely nor unlikely</th>\n",
       "      <th>turnoutUKGeneral_Fairly likely</th>\n",
       "      <th>turnoutUKGeneral_Very likely that I would vote</th>\n",
       "      <th>...</th>\n",
       "      <th>al_scale_5.5</th>\n",
       "      <th>al_scale_6.0</th>\n",
       "      <th>al_scale_6.5</th>\n",
       "      <th>al_scale_7.0</th>\n",
       "      <th>al_scale_7.5</th>\n",
       "      <th>al_scale_8.0</th>\n",
       "      <th>al_scale_8.5</th>\n",
       "      <th>al_scale_9.0</th>\n",
       "      <th>al_scale_9.5</th>\n",
       "      <th>al_scale_Authoritarian</th>\n",
       "    </tr>\n",
       "    <tr>\n",
       "      <th>id</th>\n",
       "      <th></th>\n",
       "      <th></th>\n",
       "      <th></th>\n",
       "      <th></th>\n",
       "      <th></th>\n",
       "      <th></th>\n",
       "      <th></th>\n",
       "      <th></th>\n",
       "      <th></th>\n",
       "      <th></th>\n",
       "      <th></th>\n",
       "      <th></th>\n",
       "      <th></th>\n",
       "      <th></th>\n",
       "      <th></th>\n",
       "      <th></th>\n",
       "      <th></th>\n",
       "      <th></th>\n",
       "      <th></th>\n",
       "      <th></th>\n",
       "      <th></th>\n",
       "    </tr>\n",
       "  </thead>\n",
       "  <tbody>\n",
       "    <tr>\n",
       "      <th>3.0</th>\n",
       "      <td>143</td>\n",
       "      <td>0</td>\n",
       "      <td>143</td>\n",
       "      <td>0</td>\n",
       "      <td>0</td>\n",
       "      <td>0</td>\n",
       "      <td>0</td>\n",
       "      <td>0</td>\n",
       "      <td>143</td>\n",
       "      <td>0</td>\n",
       "      <td>...</td>\n",
       "      <td>0</td>\n",
       "      <td>143</td>\n",
       "      <td>0</td>\n",
       "      <td>0</td>\n",
       "      <td>0</td>\n",
       "      <td>0</td>\n",
       "      <td>0</td>\n",
       "      <td>0</td>\n",
       "      <td>0</td>\n",
       "      <td>0</td>\n",
       "    </tr>\n",
       "    <tr>\n",
       "      <th>7.0</th>\n",
       "      <td>0</td>\n",
       "      <td>245</td>\n",
       "      <td>0</td>\n",
       "      <td>245</td>\n",
       "      <td>0</td>\n",
       "      <td>0</td>\n",
       "      <td>0</td>\n",
       "      <td>0</td>\n",
       "      <td>0</td>\n",
       "      <td>245</td>\n",
       "      <td>...</td>\n",
       "      <td>0</td>\n",
       "      <td>0</td>\n",
       "      <td>0</td>\n",
       "      <td>0</td>\n",
       "      <td>0</td>\n",
       "      <td>0</td>\n",
       "      <td>0</td>\n",
       "      <td>0</td>\n",
       "      <td>0</td>\n",
       "      <td>245</td>\n",
       "    </tr>\n",
       "    <tr>\n",
       "      <th>14.0</th>\n",
       "      <td>145</td>\n",
       "      <td>0</td>\n",
       "      <td>145</td>\n",
       "      <td>0</td>\n",
       "      <td>0</td>\n",
       "      <td>0</td>\n",
       "      <td>0</td>\n",
       "      <td>0</td>\n",
       "      <td>0</td>\n",
       "      <td>145</td>\n",
       "      <td>...</td>\n",
       "      <td>0</td>\n",
       "      <td>145</td>\n",
       "      <td>0</td>\n",
       "      <td>0</td>\n",
       "      <td>0</td>\n",
       "      <td>0</td>\n",
       "      <td>0</td>\n",
       "      <td>0</td>\n",
       "      <td>0</td>\n",
       "      <td>0</td>\n",
       "    </tr>\n",
       "    <tr>\n",
       "      <th>15.0</th>\n",
       "      <td>129</td>\n",
       "      <td>0</td>\n",
       "      <td>129</td>\n",
       "      <td>0</td>\n",
       "      <td>0</td>\n",
       "      <td>0</td>\n",
       "      <td>0</td>\n",
       "      <td>0</td>\n",
       "      <td>0</td>\n",
       "      <td>129</td>\n",
       "      <td>...</td>\n",
       "      <td>0</td>\n",
       "      <td>0</td>\n",
       "      <td>0</td>\n",
       "      <td>0</td>\n",
       "      <td>0</td>\n",
       "      <td>0</td>\n",
       "      <td>0</td>\n",
       "      <td>0</td>\n",
       "      <td>0</td>\n",
       "      <td>0</td>\n",
       "    </tr>\n",
       "    <tr>\n",
       "      <th>18.0</th>\n",
       "      <td>12</td>\n",
       "      <td>0</td>\n",
       "      <td>0</td>\n",
       "      <td>12</td>\n",
       "      <td>0</td>\n",
       "      <td>0</td>\n",
       "      <td>0</td>\n",
       "      <td>0</td>\n",
       "      <td>0</td>\n",
       "      <td>12</td>\n",
       "      <td>...</td>\n",
       "      <td>0</td>\n",
       "      <td>0</td>\n",
       "      <td>0</td>\n",
       "      <td>0</td>\n",
       "      <td>0</td>\n",
       "      <td>0</td>\n",
       "      <td>0</td>\n",
       "      <td>0</td>\n",
       "      <td>0</td>\n",
       "      <td>0</td>\n",
       "    </tr>\n",
       "    <tr>\n",
       "      <th>...</th>\n",
       "      <td>...</td>\n",
       "      <td>...</td>\n",
       "      <td>...</td>\n",
       "      <td>...</td>\n",
       "      <td>...</td>\n",
       "      <td>...</td>\n",
       "      <td>...</td>\n",
       "      <td>...</td>\n",
       "      <td>...</td>\n",
       "      <td>...</td>\n",
       "      <td>...</td>\n",
       "      <td>...</td>\n",
       "      <td>...</td>\n",
       "      <td>...</td>\n",
       "      <td>...</td>\n",
       "      <td>...</td>\n",
       "      <td>...</td>\n",
       "      <td>...</td>\n",
       "      <td>...</td>\n",
       "      <td>...</td>\n",
       "      <td>...</td>\n",
       "    </tr>\n",
       "    <tr>\n",
       "      <th>94883.0</th>\n",
       "      <td>187</td>\n",
       "      <td>0</td>\n",
       "      <td>0</td>\n",
       "      <td>0</td>\n",
       "      <td>0</td>\n",
       "      <td>187</td>\n",
       "      <td>0</td>\n",
       "      <td>0</td>\n",
       "      <td>0</td>\n",
       "      <td>0</td>\n",
       "      <td>...</td>\n",
       "      <td>0</td>\n",
       "      <td>0</td>\n",
       "      <td>0</td>\n",
       "      <td>0</td>\n",
       "      <td>0</td>\n",
       "      <td>0</td>\n",
       "      <td>0</td>\n",
       "      <td>0</td>\n",
       "      <td>0</td>\n",
       "      <td>187</td>\n",
       "    </tr>\n",
       "    <tr>\n",
       "      <th>94884.0</th>\n",
       "      <td>81</td>\n",
       "      <td>0</td>\n",
       "      <td>0</td>\n",
       "      <td>0</td>\n",
       "      <td>0</td>\n",
       "      <td>0</td>\n",
       "      <td>0</td>\n",
       "      <td>0</td>\n",
       "      <td>0</td>\n",
       "      <td>81</td>\n",
       "      <td>...</td>\n",
       "      <td>0</td>\n",
       "      <td>0</td>\n",
       "      <td>0</td>\n",
       "      <td>0</td>\n",
       "      <td>81</td>\n",
       "      <td>0</td>\n",
       "      <td>0</td>\n",
       "      <td>0</td>\n",
       "      <td>0</td>\n",
       "      <td>0</td>\n",
       "    </tr>\n",
       "    <tr>\n",
       "      <th>94885.0</th>\n",
       "      <td>224</td>\n",
       "      <td>0</td>\n",
       "      <td>0</td>\n",
       "      <td>0</td>\n",
       "      <td>0</td>\n",
       "      <td>224</td>\n",
       "      <td>0</td>\n",
       "      <td>0</td>\n",
       "      <td>0</td>\n",
       "      <td>0</td>\n",
       "      <td>...</td>\n",
       "      <td>0</td>\n",
       "      <td>0</td>\n",
       "      <td>0</td>\n",
       "      <td>0</td>\n",
       "      <td>0</td>\n",
       "      <td>0</td>\n",
       "      <td>0</td>\n",
       "      <td>0</td>\n",
       "      <td>224</td>\n",
       "      <td>0</td>\n",
       "    </tr>\n",
       "    <tr>\n",
       "      <th>94886.0</th>\n",
       "      <td>199</td>\n",
       "      <td>0</td>\n",
       "      <td>0</td>\n",
       "      <td>0</td>\n",
       "      <td>0</td>\n",
       "      <td>0</td>\n",
       "      <td>0</td>\n",
       "      <td>0</td>\n",
       "      <td>0</td>\n",
       "      <td>0</td>\n",
       "      <td>...</td>\n",
       "      <td>0</td>\n",
       "      <td>0</td>\n",
       "      <td>0</td>\n",
       "      <td>0</td>\n",
       "      <td>0</td>\n",
       "      <td>0</td>\n",
       "      <td>0</td>\n",
       "      <td>199</td>\n",
       "      <td>0</td>\n",
       "      <td>0</td>\n",
       "    </tr>\n",
       "    <tr>\n",
       "      <th>94887.0</th>\n",
       "      <td>180</td>\n",
       "      <td>0</td>\n",
       "      <td>0</td>\n",
       "      <td>0</td>\n",
       "      <td>0</td>\n",
       "      <td>0</td>\n",
       "      <td>0</td>\n",
       "      <td>0</td>\n",
       "      <td>180</td>\n",
       "      <td>0</td>\n",
       "      <td>...</td>\n",
       "      <td>0</td>\n",
       "      <td>0</td>\n",
       "      <td>0</td>\n",
       "      <td>180</td>\n",
       "      <td>0</td>\n",
       "      <td>0</td>\n",
       "      <td>0</td>\n",
       "      <td>0</td>\n",
       "      <td>0</td>\n",
       "      <td>0</td>\n",
       "    </tr>\n",
       "  </tbody>\n",
       "</table>\n",
       "<p>37959 rows × 6311 columns</p>\n",
       "</div>"
      ],
      "text/plain": [
       "         wave2ptv_1  wave2ptv_2  country_England  country_Scotland  \\\n",
       "id                                                                   \n",
       "3.0             143           0              143                 0   \n",
       "7.0               0         245                0               245   \n",
       "14.0            145           0              145                 0   \n",
       "15.0            129           0              129                 0   \n",
       "18.0             12           0                0                12   \n",
       "...             ...         ...              ...               ...   \n",
       "94883.0         187           0                0                 0   \n",
       "94884.0          81           0                0                 0   \n",
       "94885.0         224           0                0                 0   \n",
       "94886.0         199           0                0                 0   \n",
       "94887.0         180           0                0                 0   \n",
       "\n",
       "         country_Wales  turnoutUKGeneral_Very unlikely that I would vote  \\\n",
       "id                                                                         \n",
       "3.0                  0                                                 0   \n",
       "7.0                  0                                                 0   \n",
       "14.0                 0                                                 0   \n",
       "15.0                 0                                                 0   \n",
       "18.0                 0                                                 0   \n",
       "...                ...                                               ...   \n",
       "94883.0              0                                               187   \n",
       "94884.0              0                                                 0   \n",
       "94885.0              0                                               224   \n",
       "94886.0              0                                                 0   \n",
       "94887.0              0                                                 0   \n",
       "\n",
       "         turnoutUKGeneral_Fairly unlikely  \\\n",
       "id                                          \n",
       "3.0                                     0   \n",
       "7.0                                     0   \n",
       "14.0                                    0   \n",
       "15.0                                    0   \n",
       "18.0                                    0   \n",
       "...                                   ...   \n",
       "94883.0                                 0   \n",
       "94884.0                                 0   \n",
       "94885.0                                 0   \n",
       "94886.0                                 0   \n",
       "94887.0                                 0   \n",
       "\n",
       "         turnoutUKGeneral_Neither likely nor unlikely  \\\n",
       "id                                                      \n",
       "3.0                                                 0   \n",
       "7.0                                                 0   \n",
       "14.0                                                0   \n",
       "15.0                                                0   \n",
       "18.0                                                0   \n",
       "...                                               ...   \n",
       "94883.0                                             0   \n",
       "94884.0                                             0   \n",
       "94885.0                                             0   \n",
       "94886.0                                             0   \n",
       "94887.0                                             0   \n",
       "\n",
       "         turnoutUKGeneral_Fairly likely  \\\n",
       "id                                        \n",
       "3.0                                 143   \n",
       "7.0                                   0   \n",
       "14.0                                  0   \n",
       "15.0                                  0   \n",
       "18.0                                  0   \n",
       "...                                 ...   \n",
       "94883.0                               0   \n",
       "94884.0                               0   \n",
       "94885.0                               0   \n",
       "94886.0                               0   \n",
       "94887.0                             180   \n",
       "\n",
       "         turnoutUKGeneral_Very likely that I would vote  ...  al_scale_5.5  \\\n",
       "id                                                       ...                 \n",
       "3.0                                                   0  ...             0   \n",
       "7.0                                                 245  ...             0   \n",
       "14.0                                                145  ...             0   \n",
       "15.0                                                129  ...             0   \n",
       "18.0                                                 12  ...             0   \n",
       "...                                                 ...  ...           ...   \n",
       "94883.0                                               0  ...             0   \n",
       "94884.0                                              81  ...             0   \n",
       "94885.0                                               0  ...             0   \n",
       "94886.0                                               0  ...             0   \n",
       "94887.0                                               0  ...             0   \n",
       "\n",
       "         al_scale_6.0  al_scale_6.5  al_scale_7.0  al_scale_7.5  al_scale_8.0  \\\n",
       "id                                                                              \n",
       "3.0               143             0             0             0             0   \n",
       "7.0                 0             0             0             0             0   \n",
       "14.0              145             0             0             0             0   \n",
       "15.0                0             0             0             0             0   \n",
       "18.0                0             0             0             0             0   \n",
       "...               ...           ...           ...           ...           ...   \n",
       "94883.0             0             0             0             0             0   \n",
       "94884.0             0             0             0            81             0   \n",
       "94885.0             0             0             0             0             0   \n",
       "94886.0             0             0             0             0             0   \n",
       "94887.0             0             0           180             0             0   \n",
       "\n",
       "         al_scale_8.5  al_scale_9.0  al_scale_9.5  al_scale_Authoritarian  \n",
       "id                                                                         \n",
       "3.0                 0             0             0                       0  \n",
       "7.0                 0             0             0                     245  \n",
       "14.0                0             0             0                       0  \n",
       "15.0                0             0             0                       0  \n",
       "18.0                0             0             0                       0  \n",
       "...               ...           ...           ...                     ...  \n",
       "94883.0             0             0             0                     187  \n",
       "94884.0             0             0             0                       0  \n",
       "94885.0             0             0           224                       0  \n",
       "94886.0             0           199             0                       0  \n",
       "94887.0             0             0             0                       0  \n",
       "\n",
       "[37959 rows x 6311 columns]"
      ]
     },
     "execution_count": 222,
     "metadata": {},
     "output_type": "execute_result"
    }
   ],
   "source": [
    "dummies"
   ]
  },
  {
   "cell_type": "code",
   "execution_count": 223,
   "id": "9ea7e961",
   "metadata": {},
   "outputs": [
    {
     "data": {
      "text/plain": [
       "blackEquality__Gone much too far    33602\n",
       "dtype: int64"
      ]
     },
     "execution_count": 223,
     "metadata": {},
     "output_type": "execute_result"
    }
   ],
   "source": [
    "search(BES_reduced_with_na,\"blackEquality\")"
   ]
  },
  {
   "cell_type": "code",
   "execution_count": 224,
   "id": "f753fd89",
   "metadata": {},
   "outputs": [
    {
     "name": "stdout",
     "output_type": "stream",
     "text": [
      "Wall time: 1min 36s\n"
     ]
    }
   ],
   "source": [
    "%%time\n",
    "corrs_blackEquality = dummies.corrwith(BES_reduced_with_na[\"blackEquality__Gone much too far\"])"
   ]
  },
  {
   "cell_type": "code",
   "execution_count": 225,
   "id": "c5d43f9e",
   "metadata": {},
   "outputs": [
    {
     "data": {
      "text/plain": [
       "EUIntegrationGreen_3                         -0.042289\n",
       "pidWeThey_Agree                              -0.037958\n",
       "selfOccOrgSizeLast_25 to 499 employees       -0.036548\n",
       "winConstituencyUKIP_3                        -0.036388\n",
       "trustMPs_3                                   -0.033520\n",
       "                                                ...   \n",
       "pcon_Vauxhall                                 0.036800\n",
       "ptvCon_3                                      0.038413\n",
       "euRefLA_E07000218                             0.038494\n",
       "profile_gross_household_Â£150,000 and over    0.042118\n",
       "likeBrexitParty_6                             0.044945\n",
       "Length: 5524, dtype: float64"
      ]
     },
     "execution_count": 225,
     "metadata": {},
     "output_type": "execute_result"
    }
   ],
   "source": [
    "corrs_blackEquality.dropna().sort_values()"
   ]
  },
  {
   "cell_type": "code",
   "execution_count": null,
   "id": "5df27f53",
   "metadata": {},
   "outputs": [],
   "source": [
    "### list of demographic variables\n",
    "\n",
    "# sexuality, ethnicity, house tenure, are you a current student, main source of income, class\n",
    "# attitudes to gay rights, black right, build homes, student loans, welfare, \n",
    "\n",
    "# don't suppose there's any chance I could detect this automatically?\n",
    "\n",
    "# get set of them, run through BES_reduced_with_na variables with dummies[demographic_variables]"
   ]
  },
  {
   "cell_type": "code",
   "execution_count": 236,
   "id": "6acb5570",
   "metadata": {},
   "outputs": [
    {
     "data": {
      "text/plain": [
       "'travelEU|passportUK|passportOther|passportExpired|passportNever|livedAbroad|friendsEU|parentsForeign|motherCountryBorn|fatherCountryBorn|ukCitizen|euCitizen|commonwealthCitizen|otherCitizen|gor|anyUni|privPrimSchl|privScndSchl|neverPrivSchl|prvSchDK|gender[^R]|preschoolKidsInHouseW6_W14|preschoolKidsInHouseW6_W14|sickElderlyInHouseW6_W14|noDependentsInHouseW6_W14|allSourceIncome_\\\\d+|mainSourceIncome|workingStatus|ns_sec_analytic|ns_sec|countryOfBirth|numChildren|smallEmergency|borrowEssentials|studentloan|debtAmtb|^debt|savingsAmtb|savings|rentPayment|secondHomeAmtb|secondHome|mortgagePayment|homeamtb'"
      ]
     },
     "execution_count": 236,
     "metadata": {},
     "output_type": "execute_result"
    }
   ],
   "source": [
    "demog_var = \"travelEU|passportUK|passportOther|passportExpired|passportNever|livedAbroad|friendsEU|parentsForeign|motherCountryBorn|fatherCountryBorn\"\n",
    "demog_var = \"|\".join([demog_var,\"ukCitizen|euCitizen|commonwealthCitizen|otherCitizen\"])\n",
    "\n",
    "demog_var = \"|\".join([demog_var,\"gor|anyUni\"])\n",
    "demog_var = \"|\".join([demog_var,\"privPrimSchl|privScndSchl|neverPrivSchl|prvSchDK\"])\n",
    "demog_var = \"|\".join([demog_var,\"gender[^R]\"])\n",
    "# demog_var = \"|\".join([demog_var,\"\"])\n",
    "demog_var = \"|\".join([demog_var,\"preschoolKidsInHouseW6_W14|preschoolKidsInHouseW6_W14|sickElderlyInHouseW6_W14|noDependentsInHouseW6_W14\"])\n",
    "demog_var = \"|\".join([demog_var,\"allSourceIncome_\\d+|mainSourceIncome\"])\n",
    "demog_var = \"|\".join([demog_var,\"workingStatus|ns_sec_analytic|ns_sec|countryOfBirth\"])\n",
    "demog_var = \"|\".join([demog_var,\"numChildren|smallEmergency|borrowEssentials|studentloan|debtAmtb|^debt|savingsAmtb|savings|rentPayment|secondHomeAmtb|secondHome|mortgagePayment|homeamtb\"])\n",
    "\n",
    "demog_var"
   ]
  },
  {
   "cell_type": "code",
   "execution_count": 303,
   "id": "5d2d2688",
   "metadata": {},
   "outputs": [
    {
     "name": "stdout",
     "output_type": "stream",
     "text": [
      "Wall time: 4.21 s\n"
     ]
    }
   ],
   "source": [
    "%%time\n",
    "\n",
    "demo_vars  =[x for x in search(BES_Panel, demog_var+\"|^p_\").index if (\"vote\" not in x) and (\"turnout\" not in x)]\n",
    "\n",
    "dummies = pd.get_dummies(BES_Panel[demo_vars])\n",
    "dummies = dummies.select_dtypes('uint8')\n",
    "dummies = dummies.multiply(auth_uint.loc[BES_Panel.index],axis=0)"
   ]
  },
  {
   "cell_type": "code",
   "execution_count": 302,
   "id": "7ab4e417",
   "metadata": {},
   "outputs": [
    {
     "data": {
      "text/plain": [
       "<matplotlib.axes._subplots.AxesSubplot at 0x24763265e08>"
      ]
     },
     "execution_count": 302,
     "metadata": {},
     "output_type": "execute_result"
    },
    {
     "data": {
      "image/png": "[encoded data removed]",
      "text/plain": [
       "<Figure size 432x288 with 1 Axes>"
      ]
     },
     "metadata": {},
     "output_type": "display_data"
    }
   ],
   "source": [
    "dummy_vars[dummy_vars<100].hist(bins=100)"
   ]
  },
  {
   "cell_type": "code",
   "execution_count": 304,
   "id": "e3f148e8",
   "metadata": {},
   "outputs": [],
   "source": [
    "dummies.drop(dummies.columns[dummies.var()<=40],axis=1,inplace=True)"
   ]
  },
  {
   "cell_type": "code",
   "execution_count": 350,
   "id": "564f8e92",
   "metadata": {},
   "outputs": [
    {
     "data": {
      "text/plain": [
       "['ukCitizenW1',\n",
       " 'euCitizenW1',\n",
       " 'commonwealthCitizenW1',\n",
       " 'otherCitizenW1',\n",
       " 'allSourceIncome_1W6',\n",
       " 'allSourceIncome_2W6',\n",
       " 'allSourceIncome_3W6',\n",
       " 'allSourceIncome_4W6',\n",
       " 'allSourceIncome_5W6',\n",
       " 'allSourceIncome_6W6',\n",
       " 'allSourceIncome_7W6',\n",
       " 'allSourceIncome_8W6',\n",
       " 'allSourceIncome_9W6',\n",
       " 'allSourceIncome_10W6',\n",
       " 'allSourceIncome_11W6',\n",
       " 'allSourceIncome_99W6',\n",
       " 'mainSourceIncomeW6',\n",
       " 'anyUniW7',\n",
       " 'ukCitizenW8',\n",
       " 'euCitizenW8',\n",
       " 'commonwealthCitizenW8',\n",
       " 'otherCitizenW8',\n",
       " 'livedAbroadW8',\n",
       " 'friendsEUW8',\n",
       " 'parentsForeignW8',\n",
       " 'motherCountryBornW8',\n",
       " 'fatherCountryBornW8',\n",
       " 'travelEUW9',\n",
       " 'passportUKW9',\n",
       " 'passportOtherW9',\n",
       " 'passportExpiredW9',\n",
       " 'passportNeverW9',\n",
       " 'anyUniW9',\n",
       " 'anyUniW10',\n",
       " 'allSourceIncome_1W11',\n",
       " 'allSourceIncome_2W11',\n",
       " 'allSourceIncome_3W11',\n",
       " 'allSourceIncome_4W11',\n",
       " 'allSourceIncome_5W11',\n",
       " 'allSourceIncome_6W11',\n",
       " 'allSourceIncome_7W11',\n",
       " 'allSourceIncome_8W11',\n",
       " 'allSourceIncome_9W11',\n",
       " 'allSourceIncome_10W11',\n",
       " 'allSourceIncome_11W11',\n",
       " 'allSourceIncome_99W11',\n",
       " 'mainSourceIncomeW11',\n",
       " 'anyUniW11',\n",
       " 'anyUniW12',\n",
       " 'anyUniW13',\n",
       " 'ukCitizenW14',\n",
       " 'euCitizenW14',\n",
       " 'commonwealthCitizenW14',\n",
       " 'otherCitizenW14',\n",
       " 'anyUniW14',\n",
       " 'homeAmtbW14',\n",
       " 'mortgagePaymentW14',\n",
       " 'secondHomeW14',\n",
       " 'secondHomeAmtbW14',\n",
       " 'rentPaymentW14',\n",
       " 'savingsW14',\n",
       " 'savingsAmtbW14',\n",
       " 'debtW14',\n",
       " 'debtAmtbW14',\n",
       " 'studentloanW14',\n",
       " 'borrowEssentialsW14',\n",
       " 'smallEmergency_1W14',\n",
       " 'smallEmergency_2W14',\n",
       " 'smallEmergency_3W14',\n",
       " 'smallEmergency_4W14',\n",
       " 'smallEmergency_5W14',\n",
       " 'smallEmergency_99W14',\n",
       " 'numChildrenW14',\n",
       " 'impGenderW14',\n",
       " 'ukCitizenW15',\n",
       " 'euCitizenW15',\n",
       " 'commonwealthCitizenW15',\n",
       " 'otherCitizenW15',\n",
       " 'anyUniW15',\n",
       " 'ukCitizenW16',\n",
       " 'euCitizenW16',\n",
       " 'commonwealthCitizenW16',\n",
       " 'otherCitizenW16',\n",
       " 'anyUniW16',\n",
       " 'ns_secW16W17W18',\n",
       " 'ns_sec_analyticW16W17W18',\n",
       " 'ukCitizenW17',\n",
       " 'euCitizenW17',\n",
       " 'commonwealthCitizenW17',\n",
       " 'otherCitizenW17',\n",
       " 'privPrimSchlW17',\n",
       " 'privScndSchlW17',\n",
       " 'neverPrivSchlW17',\n",
       " 'anyUniW17',\n",
       " 'workingStatusW19',\n",
       " 'anyUniW19',\n",
       " 'ns_secW19',\n",
       " 'ns_sec_analyticW19',\n",
       " 'p_disabilityW1',\n",
       " 'p_education_ageW1',\n",
       " 'p_educationW1',\n",
       " 'p_ethnicityW1',\n",
       " 'p_gross_householdW1',\n",
       " 'p_gross_personalW1',\n",
       " 'p_hh_sizeW1',\n",
       " 'p_housingW1',\n",
       " 'p_maritalW1',\n",
       " 'p_paper_readW1',\n",
       " 'p_religionW1',\n",
       " 'p_sexualityW1',\n",
       " 'p_socgradeW1',\n",
       " 'p_work_statW1',\n",
       " 'p_disabilityW2',\n",
       " 'p_education_ageW2',\n",
       " 'p_educationW2',\n",
       " 'p_ethnicityW2',\n",
       " 'p_gross_householdW2',\n",
       " 'p_gross_personalW2',\n",
       " 'p_hh_sizeW2',\n",
       " 'p_housingW2',\n",
       " 'p_maritalW2',\n",
       " 'p_paper_readW2',\n",
       " 'p_religionW2',\n",
       " 'p_sexualityW2',\n",
       " 'p_socgradeW2',\n",
       " 'p_work_statW2',\n",
       " 'p_disabilityW3',\n",
       " 'p_education_ageW3',\n",
       " 'p_educationW3',\n",
       " 'p_ethnicityW3',\n",
       " 'p_gross_householdW3',\n",
       " 'p_gross_personalW3',\n",
       " 'p_hh_sizeW3',\n",
       " 'p_housingW3',\n",
       " 'p_maritalW3',\n",
       " 'p_paper_readW3',\n",
       " 'p_religionW3',\n",
       " 'p_sexualityW3',\n",
       " 'p_socgradeW3',\n",
       " 'p_work_statW3',\n",
       " 'p_disabilityW4',\n",
       " 'p_education_ageW4',\n",
       " 'p_educationW4',\n",
       " 'p_ethnicityW4',\n",
       " 'p_gross_householdW4',\n",
       " 'p_gross_personalW4',\n",
       " 'p_hh_sizeW4',\n",
       " 'p_housingW4',\n",
       " 'p_maritalW4',\n",
       " 'p_paper_readW4',\n",
       " 'p_religionW4',\n",
       " 'p_sexualityW4',\n",
       " 'p_socgradeW4',\n",
       " 'p_work_statW4',\n",
       " 'p_disabilityW5',\n",
       " 'p_education_ageW5',\n",
       " 'p_educationW5',\n",
       " 'p_ethnicityW5',\n",
       " 'p_gross_householdW5',\n",
       " 'p_gross_personalW5',\n",
       " 'p_hh_sizeW5',\n",
       " 'p_housingW5',\n",
       " 'p_maritalW5',\n",
       " 'p_paper_readW5',\n",
       " 'p_religionW5',\n",
       " 'p_sexualityW5',\n",
       " 'p_socgradeW5',\n",
       " 'p_work_statW5',\n",
       " 'p_disabilityW6',\n",
       " 'p_education_ageW6',\n",
       " 'p_educationW6',\n",
       " 'p_ethnicityW6',\n",
       " 'p_gross_householdW6',\n",
       " 'p_gross_personalW6',\n",
       " 'p_hh_sizeW6',\n",
       " 'p_housingW6',\n",
       " 'p_maritalW6',\n",
       " 'p_paper_readW6',\n",
       " 'p_religionW6',\n",
       " 'p_sexualityW6',\n",
       " 'p_socgradeW6',\n",
       " 'p_work_statW6',\n",
       " 'p_disabilityW7',\n",
       " 'p_education_ageW7',\n",
       " 'p_educationW7',\n",
       " 'p_ethnicityW7',\n",
       " 'p_gross_householdW7',\n",
       " 'p_gross_personalW7',\n",
       " 'p_hh_sizeW7',\n",
       " 'p_housingW7',\n",
       " 'p_maritalW7',\n",
       " 'p_paper_readW7',\n",
       " 'p_religionW7',\n",
       " 'p_sexualityW7',\n",
       " 'p_socgradeW7',\n",
       " 'p_work_statW7',\n",
       " 'p_disabilityW8',\n",
       " 'p_education_ageW8',\n",
       " 'p_educationW8',\n",
       " 'p_ethnicityW8',\n",
       " 'p_gross_householdW8',\n",
       " 'p_gross_personalW8',\n",
       " 'p_hh_sizeW8',\n",
       " 'p_housingW8',\n",
       " 'p_maritalW8',\n",
       " 'p_paper_readW8',\n",
       " 'p_parentW8',\n",
       " 'p_religionW8',\n",
       " 'p_sexualityW8',\n",
       " 'p_socgradeW8',\n",
       " 'p_work_statW8',\n",
       " 'p_disabilityW9',\n",
       " 'p_education_ageW9',\n",
       " 'p_educationW9',\n",
       " 'p_ethnicityW9',\n",
       " 'p_gross_householdW9',\n",
       " 'p_gross_personalW9',\n",
       " 'p_hh_sizeW9',\n",
       " 'p_housingW9',\n",
       " 'p_maritalW9',\n",
       " 'p_paper_readW9',\n",
       " 'p_parentW9',\n",
       " 'p_religionW9',\n",
       " 'p_sexualityW9',\n",
       " 'p_socgradeW9',\n",
       " 'p_work_statW9',\n",
       " 'p_disabilityW10',\n",
       " 'p_education_ageW10',\n",
       " 'p_educationW10',\n",
       " 'p_ethnicityW10',\n",
       " 'p_gross_householdW10',\n",
       " 'p_gross_personalW10',\n",
       " 'p_hh_sizeW10',\n",
       " 'p_housingW10',\n",
       " 'p_maritalW10',\n",
       " 'p_paper_readW10',\n",
       " 'p_parentW10',\n",
       " 'p_religionW10',\n",
       " 'p_sexualityW10',\n",
       " 'p_socgradeW10',\n",
       " 'p_work_statW10',\n",
       " 'p_disabilityW11',\n",
       " 'p_education_ageW11',\n",
       " 'p_educationW11',\n",
       " 'p_ethnicityW11',\n",
       " 'p_gross_householdW11',\n",
       " 'p_gross_personalW11',\n",
       " 'p_hh_sizeW11',\n",
       " 'p_housingW11',\n",
       " 'p_maritalW11',\n",
       " 'p_paper_readW11',\n",
       " 'p_parentW11',\n",
       " 'p_religionW11',\n",
       " 'p_sexualityW11',\n",
       " 'p_socgradeW11',\n",
       " 'p_work_statW11',\n",
       " 'p_disabilityW12',\n",
       " 'p_education_ageW12',\n",
       " 'p_educationW12',\n",
       " 'p_ethnicityW12',\n",
       " 'p_gross_householdW12',\n",
       " 'p_gross_personalW12',\n",
       " 'p_hh_sizeW12',\n",
       " 'p_housingW12',\n",
       " 'p_maritalW12',\n",
       " 'p_paper_readW12',\n",
       " 'p_parentW12',\n",
       " 'p_religionW12',\n",
       " 'p_sexualityW12',\n",
       " 'p_socgradeW12',\n",
       " 'p_work_statW12',\n",
       " 'p_disabilityW13',\n",
       " 'p_education_ageW13',\n",
       " 'p_educationW13',\n",
       " 'p_ethnicityW13',\n",
       " 'p_gross_householdW13',\n",
       " 'p_gross_personalW13',\n",
       " 'p_hh_sizeW13',\n",
       " 'p_housingW13',\n",
       " 'p_maritalW13',\n",
       " 'p_paper_readW13',\n",
       " 'p_parentW13',\n",
       " 'p_religionW13',\n",
       " 'p_sexualityW13',\n",
       " 'p_socgradeW13',\n",
       " 'p_work_statW13',\n",
       " 'p_disabilityW14',\n",
       " 'p_education_ageW14',\n",
       " 'p_educationW14',\n",
       " 'p_ethnicityW14',\n",
       " 'p_gross_householdW14',\n",
       " 'p_gross_personalW14',\n",
       " 'p_hh_sizeW14',\n",
       " 'p_housingW14',\n",
       " 'p_maritalW14',\n",
       " 'p_paper_readW14',\n",
       " 'p_parentW14',\n",
       " 'p_religionW14',\n",
       " 'p_sexualityW14',\n",
       " 'p_socgradeW14',\n",
       " 'p_work_statW14',\n",
       " 'p_disabilityW15',\n",
       " 'p_education_ageW15',\n",
       " 'p_educationW15',\n",
       " 'p_ethnicityW15',\n",
       " 'p_gross_householdW15',\n",
       " 'p_gross_personalW15',\n",
       " 'p_hh_sizeW15',\n",
       " 'p_housingW15',\n",
       " 'p_maritalW15',\n",
       " 'p_paper_readW15',\n",
       " 'p_parentW15',\n",
       " 'p_religionW15',\n",
       " 'p_sexualityW15',\n",
       " 'p_socgradeW15',\n",
       " 'p_work_statW15',\n",
       " 'p_disabilityW16',\n",
       " 'p_education_ageW16',\n",
       " 'p_educationW16',\n",
       " 'p_ethnicityW16',\n",
       " 'p_gross_householdW16',\n",
       " 'p_gross_personalW16',\n",
       " 'p_hh_sizeW16',\n",
       " 'p_housingW16',\n",
       " 'p_maritalW16',\n",
       " 'p_paper_readW16',\n",
       " 'p_parentW16',\n",
       " 'p_religionW16',\n",
       " 'p_sexualityW16',\n",
       " 'p_socgradeW16',\n",
       " 'p_work_statW16',\n",
       " 'p_disabilityW17',\n",
       " 'p_education_ageW17',\n",
       " 'p_educationW17',\n",
       " 'p_ethnicityW17',\n",
       " 'p_gross_householdW17',\n",
       " 'p_gross_personalW17',\n",
       " 'p_hh_sizeW17',\n",
       " 'p_housingW17',\n",
       " 'p_maritalW17',\n",
       " 'p_paper_readW17',\n",
       " 'p_parentW17',\n",
       " 'p_religionW17',\n",
       " 'p_sexualityW17',\n",
       " 'p_socgradeW17',\n",
       " 'p_work_statW17',\n",
       " 'p_disabilityW18',\n",
       " 'p_education_ageW18',\n",
       " 'p_educationW18',\n",
       " 'p_ethnicityW18',\n",
       " 'p_gross_householdW18',\n",
       " 'p_gross_personalW18',\n",
       " 'p_hh_sizeW18',\n",
       " 'p_housingW18',\n",
       " 'p_maritalW18',\n",
       " 'p_paper_readW18',\n",
       " 'p_parentW18',\n",
       " 'p_religionW18',\n",
       " 'p_sexualityW18',\n",
       " 'p_socgradeW18',\n",
       " 'p_work_statW18',\n",
       " 'p_disabilityW19',\n",
       " 'p_education_ageW19',\n",
       " 'p_educationW19',\n",
       " 'p_ethnicityW19',\n",
       " 'p_gross_householdW19',\n",
       " 'p_gross_personalW19',\n",
       " 'p_hh_sizeW19',\n",
       " 'p_housingW19',\n",
       " 'p_maritalW19',\n",
       " 'p_paper_readW19',\n",
       " 'p_parentW19',\n",
       " 'p_religionW19',\n",
       " 'p_sexualityW19',\n",
       " 'p_socgradeW19',\n",
       " 'p_work_statW19',\n",
       " 'p_edlevelW1',\n",
       " 'p_edlevelW2',\n",
       " 'p_edlevelW3',\n",
       " 'p_edlevelW4',\n",
       " 'p_edlevelW5',\n",
       " 'p_edlevelW6',\n",
       " 'p_edlevelW7',\n",
       " 'p_edlevelW8',\n",
       " 'p_edlevelW9',\n",
       " 'p_edlevelW10',\n",
       " 'p_edlevelW11',\n",
       " 'p_edlevelW12',\n",
       " 'p_edlevelW13',\n",
       " 'p_edlevelW14',\n",
       " 'p_edlevelW15',\n",
       " 'p_edlevelW16',\n",
       " 'p_edlevelW17',\n",
       " 'p_edlevelW18',\n",
       " 'p_edlevelW19',\n",
       " 'p_edlevelUniW7',\n",
       " 'p_edlevelUniW9',\n",
       " 'p_edlevelUniW10',\n",
       " 'p_edlevelUniW11',\n",
       " 'p_edlevelUniW12',\n",
       " 'p_edlevelUniW13',\n",
       " 'p_edlevelUniW14',\n",
       " 'p_edlevelUniW15',\n",
       " 'p_edlevelUniW16',\n",
       " 'p_edlevelUniW19',\n",
       " 'p_edlevelUniW8',\n",
       " 'p_edlevelUniW17',\n",
       " 'p_edlevelUniW18',\n",
       " 'preschoolKidsInHouseW6_W14',\n",
       " 'sickElderlyInHouseW6_W14',\n",
       " 'noDependentsInHouseW6_W14',\n",
       " 'privPrimSchlW1_W4W7W9_W12W14W15',\n",
       " 'privScndSchlW1_W4W7W9_W12W14W15',\n",
       " 'neverPrivSchlW1_W4W7W9_W12W14W15',\n",
       " 'EUMIICategoryW7',\n",
       " 'EUMIICategoryW8',\n",
       " 'workingStatusW1W2W3W4W5',\n",
       " 'workingStatusW6_W12',\n",
       " 'workingStatusW14W15',\n",
       " 'ns_secW1W2W3W4W5',\n",
       " 'ns_sec_analyticW1W2W3W4W5',\n",
       " 'ns_secW6W7W8W9',\n",
       " 'ns_sec_analyticW6W7W8W9',\n",
       " 'workingStatusW16W17W18',\n",
       " 'gorW7',\n",
       " 'gorW11',\n",
       " 'gorW12',\n",
       " 'gorW14',\n",
       " 'gorW15',\n",
       " 'gorW16',\n",
       " 'gorW17',\n",
       " 'gorW18',\n",
       " 'gorW19',\n",
       " 'gorW1',\n",
       " 'gorW2',\n",
       " 'gorW3',\n",
       " 'gorW4',\n",
       " 'gorW5',\n",
       " 'gorW6',\n",
       " 'gorW8',\n",
       " 'gorW9',\n",
       " 'gorW10',\n",
       " 'gorW13',\n",
       " 'gorW20']"
      ]
     },
     "execution_count": 350,
     "metadata": {},
     "output_type": "execute_result"
    }
   ],
   "source": [
    "demo_vars"
   ]
  },
  {
   "cell_type": "code",
   "execution_count": 311,
   "id": "69e6607a",
   "metadata": {},
   "outputs": [
    {
     "name": "stdout",
     "output_type": "stream",
     "text": [
      "Wall time: 3h 48min 14s\n"
     ]
    }
   ],
   "source": [
    "%%time\n",
    "col_dict = {}\n",
    "for col in pd.Series([x for x in BES_reduced_with_na.columns if (\"__\" in x)]):\n",
    "#col = \"blackEqualityW16__Gone much too far\"\n",
    "    mask = BES_reduced_with_na[col].notnull()\n",
    "    corrs = dummies[mask].corrwith(BES_reduced_with_na[col][mask]).dropna()\n",
    "    col_dict[col] = corrs.loc[corrs.abs().sort_values(ascending=False).head(20).index]\n"
   ]
  },
  {
   "cell_type": "code",
   "execution_count": 312,
   "id": "0773c3a0",
   "metadata": {},
   "outputs": [],
   "source": [
    "col_dict_backup = col_dict.copy()"
   ]
  },
  {
   "cell_type": "code",
   "execution_count": 354,
   "id": "459a813f",
   "metadata": {},
   "outputs": [],
   "source": [
    "non_demo_vars = [x for x in col_dict.keys() if not re.match(\"|\".join(demo_vars)+\"|al\\d+|al_scale\",x)]"
   ]
  },
  {
   "cell_type": "code",
   "execution_count": 370,
   "id": "bb1fb0e4",
   "metadata": {},
   "outputs": [
    {
     "data": {
      "text/plain": [
       "leftRightW16__Right                                    0.427726\n",
       "likeFarageW15__Strongly like                           0.428400\n",
       "euLeaveVoiceW11__Much higher                           0.428434\n",
       "changeImmigW3__Getting a lot higher                    0.428847\n",
       "antiIntellectualW16__Strongly agree                    0.428927\n",
       "likeUKIPW13__Strongly like                             0.429168\n",
       "leftRightW13__Right                                    0.430005\n",
       "euRedTapeW8__Strongly agree                            0.430743\n",
       "handleMIIUKIPW7__Very well                             0.432383\n",
       "socialIdentityGlobalLeaveW9__A great deal in common    0.433089\n",
       "likeBrexitPartyW16__Strongly like                      0.434118\n",
       "changeImmigW1__Getting a lot higher                    0.435332\n",
       "socialDistUKIPW15__Very happy                          0.435739\n",
       "likeFarageW9__Strongly like                            0.435948\n",
       "govtHandoutsW7__Strongly agree                         0.436034\n",
       "ptvUKIPW9__Very likely                                 0.436052\n",
       "EUIntegrationSelfW16__Protect our independence         0.436138\n",
       "populism1W15__Strongly agree                           0.437548\n",
       "blackEqualityW16__Gone much too far                    0.439039\n",
       "jobzoneW16W17W18__5.0                                  0.439591\n",
       "euLeaveVoiceW15__Much higher                           0.440830\n",
       "likeUKIPW7__Strongly like                              0.441234\n",
       "likeJohnsonW9__Strongly like                           0.441418\n",
       "harkBackW7__Strongly agree                             0.441716\n",
       "antiIntellectualW9__Strongly agree                     0.441875\n",
       "jobzoneW19__5.0                                        0.442836\n",
       "changeImmigW7__Getting a lot higher                    0.442905\n",
       "euLeaveVoiceW14__Much higher                           0.444590\n",
       "likeUKIPW11__Strongly like                             0.446206\n",
       "effectsEUEconW14__Much better                          0.449302\n",
       "britBornHereW11__Very important                        0.449646\n",
       "happyLeaveW7__Very happy                               0.449671\n",
       "leftRightW11__Right                                    0.449737\n",
       "dealPriorityTradeDealW15__Extremely important          0.450954\n",
       "happyEULeaveW10__Extremely happy                       0.451988\n",
       "leftRightW9__Right                                     0.452124\n",
       "EUIntegrationSelfW4__Protect our independence          0.454414\n",
       "EUIntegrationSelfW6__Protect our independence          0.455227\n",
       "likeUKIPW8__Strongly like                              0.456241\n",
       "antiIntellectualW15__Strongly agree                    0.456338\n",
       "govtHandoutsW1__Strongly agree                         0.458285\n",
       "overseasAidW17__Strongly agree                         0.459428\n",
       "dealPriorityRedTapeW17__Extremely important            0.459588\n",
       "EUIntegrationSelfW10__Protect our independence         0.459731\n",
       "leftRightW15__Right                                    0.460236\n",
       "EUIntegrationSelfW8__Protect our independence          0.460412\n",
       "EUIntegrationSelfW3__Protect our independence          0.460649\n",
       "UKsovereigntyW7__Strongly agree                        0.461213\n",
       "willOfPeopleW15__Strongly agree                        0.461362\n",
       "EUIntegrationSelfW7__Protect our independence          0.461783\n",
       "dtype: float64"
      ]
     },
     "execution_count": 370,
     "metadata": {},
     "output_type": "execute_result"
    }
   ],
   "source": [
    "pd.DataFrame(col_dict)[non_demo_vars].max().sort_values()[-100:].head(50)"
   ]
  },
  {
   "cell_type": "code",
   "execution_count": 369,
   "id": "0a814fbb",
   "metadata": {},
   "outputs": [
    {
     "data": {
      "text/plain": [
       "passportOtherW9_No                                     0.471096\n",
       "p_ethnicityW9_White British                            0.441220\n",
       "passportNeverW9_No                                     0.430094\n",
       "preschoolKidsInHouseW6_W14_No                          0.419422\n",
       "p_sexualityW9_Heterosexual                             0.412177\n",
       "privPrimSchlW1_W4W7W9_W12W14W15_No                     0.403319\n",
       "p_ethnicityW8_White British                            0.380200\n",
       "p_sexualityW8_Heterosexual                             0.357099\n",
       "privScndSchlW1_W4W7W9_W12W14W15_No                     0.355235\n",
       "sickElderlyInHouseW6_W14_No                            0.353028\n",
       "neverPrivSchlW1_W4W7W9_W12W14W15_Yes                   0.335350\n",
       "anyUniW9_No, I have never attended higher education    0.302846\n",
       "passportExpiredW9_No                                   0.301643\n",
       "p_ethnicityW7_White British                            0.298519\n",
       "p_parentW9_Yes                                         0.297854\n",
       "p_sexualityW7_Heterosexual                             0.279525\n",
       "noDependentsInHouseW6_W14_Yes                          0.271670\n",
       "passportUKW9_Yes                                       0.270297\n",
       "p_ethnicityW13_White British                           0.267470\n",
       "motherCountryBornW8_UK                                 0.265908\n",
       "dtype: float64"
      ]
     },
     "execution_count": 369,
     "metadata": {},
     "output_type": "execute_result"
    }
   ],
   "source": [
    "col_dict[\"handleMIIUKIPW9__Very well\"]"
   ]
  },
  {
   "cell_type": "code",
   "execution_count": null,
   "id": "a7b5f5bb",
   "metadata": {},
   "outputs": [],
   "source": [
    "# likeUKIPW9__Strongly like\n",
    "# handleMIIUKIPW9__Very well\n",
    "#     passportOtherW9_No                                     0.463865\n",
    "#     p_ethnicityW9_White British                            0.447078\n",
    "#     preschoolKidsInHouseW6_W14_No                          0.416100\n",
    "#     passportNeverW9_No                                     0.414351\n",
    "\n",
    "# leftRightW14__Right\n",
    "#     otherCitizenW14_No                                    0.469911\n",
    "#     ukCitizenW14_Yes                                      0.453878\n",
    "#     commonwealthCitizenW14_No                             0.446040\n",
    "#     euCitizenW14_No                                       0.439211\n",
    "#     smallEmergency_99W14_Yes                              0.431017 **\n",
    "#     p_ethnicityW14_White British                          0.411978\n",
    "#     borrowEssentialsW14_No                                0.410326 **\n",
    "\n",
    "# \"taxSpendUKIPW14__Government should increase taxes a lot and spend much more on health and social services\"\n",
    "#     otherCitizenW14_No                                      0.469769\n",
    "#     ukCitizenW14_Yes                                        0.453979\n",
    "#     commonwealthCitizenW14_No                               0.453977\n",
    "#     euCitizenW14_No                                         0.444598\n",
    "#     smallEmergency_99W14_Yes                                0.416969\n",
    "#     p_ethnicityW14_White British                            0.393456\n",
    "#     preschoolKidsInHouseW6_W14_No                           0.392745\n",
    "#     p_sexualityW14_Heterosexual                             0.390432\n",
    "#     smallEmergency_2W14_No                                  0.374132\n",
    "#     smallEmergency_3W14_No                                  0.363566\n",
    "\n",
    "\n",
    "# overseasAidW14__Strongly agree, \n",
    "# dealPriorityImmigW15__Extremely important\n",
    "# immigrantsWelfareStateW1__Strongly agree\n",
    "# euPriorityBalanceW14__Control immigration\n",
    "# dealPriorityImmigW16__Extremely important\n",
    "# dealPriorityRedTapeW15__Extremely important\n",
    "\n",
    "#### similar\n",
    "#     otherCitizenW14_No                                      0.594107\n",
    "#     commonwealthCitizenW14_No                               0.575370\n",
    "#     ukCitizenW14_Yes                                        0.575356\n",
    "#     euCitizenW14_No                                         0.560288\n",
    "#     p_ethnicityW14_White British                            0.516089\n",
    "\n",
    "# immigrantsWelfareStateW7__Strongly agree\n",
    "# immigrantsWelfareStateW8__Strongly agree\n",
    "#     p_ethnicityW7_White British                            0.568184\n",
    "\n",
    "# immigrantsWelfareStateW3__Strongly agree\n",
    "# immigrantsWelfareStateW4__Strongly agree\n",
    "#     p_ethnicityW3_White British             0.542053\n",
    "#     p_sexualityW3_Heterosexual              0.503992\n",
    "#     privPrimSchlW1_W4W7W9_W12W14W15_No      0.491119\n",
    "#     p_ethnicityW4_White British             0.440917\n",
    "#     p_ethnicityW2_White British             0.434655\n",
    "#     preschoolKidsInHouseW6_W14_No           0.427326\n",
    "#     privScndSchlW1_W4W7W9_W12W14W15_No      0.426127\n",
    "\n",
    "# overseasAidW11__Strongly agree\n",
    "# immigrantsWelfareStateW11__Strongly agree\n",
    "\n",
    "#     allSourceIncome_99W11_No                                0.545430\n",
    "#     allSourceIncome_9W11_No                                 0.541363\n",
    "#     p_ethnicityW11_White British                            0.539179\n",
    "#     allSourceIncome_10W11_No                                0.539022\n",
    "#     preschoolKidsInHouseW6_W14_No                           0.515225\n",
    "#     allSourceIncome_4W11_No                                 0.508914\n",
    "#     privPrimSchlW1_W4W7W9_W12W14W15_No                      0.497823\n",
    "#     p_sexualityW11_Heterosexual                             0.493130\n",
    "#     allSourceIncome_5W11_No                                 0.490256\n",
    "#     allSourceIncome_11W11_No                                0.487010\n",
    "#     allSourceIncome_7W11_No                                 0.464008\n",
    "\n",
    "# euPriorityBalanceW13__Control immigration\n",
    "#     p_ethnicityW13_White British                            0.527031\n",
    "#     p_sexualityW13_Heterosexual                             0.488488\n",
    "#     preschoolKidsInHouseW6_W14_No                           0.487957\n",
    "#     privPrimSchlW1_W4W7W9_W12W14W15_No                      0.439738\n",
    "#     sickElderlyInHouseW6_W14_No                             0.428215\n",
    "\n",
    "\n"
   ]
  },
  {
   "cell_type": "code",
   "execution_count": null,
   "id": "7e98241e",
   "metadata": {},
   "outputs": [],
   "source": []
  },
  {
   "cell_type": "code",
   "execution_count": 308,
   "id": "9d099f3a",
   "metadata": {},
   "outputs": [
    {
     "data": {
      "text/plain": [
       "0       turnoutUKGeneralW1__Very likely that I will vote\n",
       "1       turnoutUKGeneralW2__Very likely that I will vote\n",
       "2       turnoutUKGeneralW3__Very likely that I will vote\n",
       "3       turnoutUKGeneralW4__Very likely that I will vote\n",
       "4       turnoutUKGeneralW5__Very likely that I will vote\n",
       "                              ...                       \n",
       "3196           parentNumEmployees__500 or more employees\n",
       "3197                              jobzoneW1W2W3W4W5__5.0\n",
       "3198                                jobzoneW6W7W8W9__5.0\n",
       "3199                               jobzoneW16W17W18__5.0\n",
       "3200                                     jobzoneW19__5.0\n",
       "Length: 3201, dtype: object"
      ]
     },
     "execution_count": 308,
     "metadata": {},
     "output_type": "execute_result"
    }
   ],
   "source": [
    "pd.Series([x for x in BES_reduced_with_na.columns if (\"__\" in x)])"
   ]
  },
  {
   "cell_type": "code",
   "execution_count": null,
   "id": "9cfd7cb1",
   "metadata": {},
   "outputs": [],
   "source": []
  },
  {
   "cell_type": "code",
   "execution_count": 271,
   "id": "5b40d170",
   "metadata": {},
   "outputs": [
    {
     "data": {
      "text/plain": [
       "otherCitizenW16_No               0.439039\n",
       "p_eurefvote_Leave the EU         0.437242\n",
       "ukCitizenW16_Yes                 0.429573\n",
       "commonwealthCitizenW16_No        0.418634\n",
       "p_ethnicityW16_White British     0.417891\n",
       "euCitizenW16_No                  0.409083\n",
       "p_sexualityW16_Heterosexual      0.364493\n",
       "p_eurefturnout_Yes               0.349331\n",
       "p_past_vote_2017_Conservative    0.336030\n",
       "p_turnout_2015_Voted             0.308857\n",
       "dtype: float64"
      ]
     },
     "execution_count": 271,
     "metadata": {},
     "output_type": "execute_result"
    }
   ],
   "source": [
    "corrs_blackEquality.dropna().abs().sort_values(ascending=False).head(10)"
   ]
  },
  {
   "cell_type": "code",
   "execution_count": 265,
   "id": "f32782eb",
   "metadata": {},
   "outputs": [],
   "source": [
    "BES_vars = BES_reduced_with_na.var()"
   ]
  },
  {
   "cell_type": "code",
   "execution_count": 256,
   "id": "c6ec2f46",
   "metadata": {},
   "outputs": [
    {
     "data": {
      "text/plain": [
       "21.155555555555555"
      ]
     },
     "execution_count": 256,
     "metadata": {},
     "output_type": "execute_result"
    }
   ],
   "source": [
    "9520*8/(60*60)"
   ]
  },
  {
   "cell_type": "code",
   "execution_count": 257,
   "id": "3269d0e0",
   "metadata": {},
   "outputs": [
    {
     "data": {
      "text/plain": [
       "Index(['ukCitizenW1_No', 'ukCitizenW1_Yes', 'euCitizenW1_No',\n",
       "       'euCitizenW1_Yes', 'commonwealthCitizenW1_No',\n",
       "       'commonwealthCitizenW1_Yes', 'otherCitizenW1_No', 'otherCitizenW1_Yes',\n",
       "       'allSourceIncome_1W6_No', 'allSourceIncome_1W6_Yes',\n",
       "       ...\n",
       "       'gorW20_North West', 'gorW20_Yorkshire and The Humber',\n",
       "       'gorW20_East Midlands', 'gorW20_West Midlands',\n",
       "       'gorW20_East of England', 'gorW20_London', 'gorW20_South East',\n",
       "       'gorW20_South West', 'gorW20_Wales', 'gorW20_Scotland'],\n",
       "      dtype='object', length=4512)"
      ]
     },
     "execution_count": 257,
     "metadata": {},
     "output_type": "execute_result"
    }
   ],
   "source": [
    "dummies.columns"
   ]
  },
  {
   "cell_type": "code",
   "execution_count": 266,
   "id": "6f0bb21c",
   "metadata": {},
   "outputs": [
    {
     "data": {
      "text/plain": [
       "p_gross_householdW8     33423\n",
       "p_gross_personalW8      33413\n",
       "p_hh_sizeW8             33432\n",
       "p_housingW8             33355\n",
       "p_maritalW8             33466\n",
       "p_paper_readW8          33500\n",
       "p_parentW8              28753\n",
       "p_religionW8            33261\n",
       "p_sexualityW8           33002\n",
       "p_socgradeW8            33500\n",
       "p_work_statW8           33500\n",
       "p_disabilityW9          29739\n",
       "p_education_ageW9       29784\n",
       "p_educationW9           30034\n",
       "p_ethnicityW9           30000\n",
       "p_gross_householdW9     30004\n",
       "p_gross_personalW9      30000\n",
       "p_hh_sizeW9             30001\n",
       "p_housingW9             29953\n",
       "p_maritalW9             30028\n",
       "p_paper_readW9          30034\n",
       "p_parentW9              28764\n",
       "p_religionW9            29888\n",
       "p_sexualityW9           29802\n",
       "p_socgradeW9            30034\n",
       "p_work_statW9           30034\n",
       "p_disabilityW10         28226\n",
       "p_education_ageW10      28750\n",
       "p_educationW10          30236\n",
       "p_ethnicityW10          30227\n",
       "p_gross_householdW10    30236\n",
       "p_gross_personalW10     29216\n",
       "p_hh_sizeW10            30236\n",
       "p_housingW10            30236\n",
       "p_maritalW10            30216\n",
       "p_paper_readW10         30236\n",
       "p_parentW10             27627\n",
       "p_religionW10           30214\n",
       "p_sexualityW10          30236\n",
       "p_socgradeW10           30236\n",
       "p_work_statW10          30236\n",
       "p_disabilityW11         29408\n",
       "p_education_ageW11      30175\n",
       "p_educationW11          30955\n",
       "p_ethnicityW11          30925\n",
       "p_gross_householdW11    30334\n",
       "p_gross_personalW11     30209\n",
       "p_hh_sizeW11            30502\n",
       "p_housingW11            30262\n",
       "p_maritalW11            30939\n",
       "dtype: int64"
      ]
     },
     "execution_count": 266,
     "metadata": {},
     "output_type": "execute_result"
    }
   ],
   "source": [
    "search(BES_Panel, demog_var+\"|^p_\")[200:].head(50)"
   ]
  },
  {
   "cell_type": "code",
   "execution_count": 267,
   "id": "f3cb57d5",
   "metadata": {},
   "outputs": [
    {
     "data": {
      "text/html": [
       "<div>\n",
       "<style scoped>\n",
       "    .dataframe tbody tr th:only-of-type {\n",
       "        vertical-align: middle;\n",
       "    }\n",
       "\n",
       "    .dataframe tbody tr th {\n",
       "        vertical-align: top;\n",
       "    }\n",
       "\n",
       "    .dataframe thead th {\n",
       "        text-align: right;\n",
       "    }\n",
       "</style>\n",
       "<table border=\"1\" class=\"dataframe\">\n",
       "  <thead>\n",
       "    <tr style=\"text-align: right;\">\n",
       "      <th></th>\n",
       "      <th>ukCitizenW1_No</th>\n",
       "      <th>ukCitizenW1_Yes</th>\n",
       "      <th>euCitizenW1_No</th>\n",
       "      <th>euCitizenW1_Yes</th>\n",
       "      <th>commonwealthCitizenW1_No</th>\n",
       "      <th>commonwealthCitizenW1_Yes</th>\n",
       "      <th>otherCitizenW1_No</th>\n",
       "      <th>otherCitizenW1_Yes</th>\n",
       "      <th>allSourceIncome_1W6_No</th>\n",
       "      <th>allSourceIncome_1W6_Yes</th>\n",
       "      <th>...</th>\n",
       "      <th>gorW20_North West</th>\n",
       "      <th>gorW20_Yorkshire and The Humber</th>\n",
       "      <th>gorW20_East Midlands</th>\n",
       "      <th>gorW20_West Midlands</th>\n",
       "      <th>gorW20_East of England</th>\n",
       "      <th>gorW20_London</th>\n",
       "      <th>gorW20_South East</th>\n",
       "      <th>gorW20_South West</th>\n",
       "      <th>gorW20_Wales</th>\n",
       "      <th>gorW20_Scotland</th>\n",
       "    </tr>\n",
       "    <tr>\n",
       "      <th>id</th>\n",
       "      <th></th>\n",
       "      <th></th>\n",
       "      <th></th>\n",
       "      <th></th>\n",
       "      <th></th>\n",
       "      <th></th>\n",
       "      <th></th>\n",
       "      <th></th>\n",
       "      <th></th>\n",
       "      <th></th>\n",
       "      <th></th>\n",
       "      <th></th>\n",
       "      <th></th>\n",
       "      <th></th>\n",
       "      <th></th>\n",
       "      <th></th>\n",
       "      <th></th>\n",
       "      <th></th>\n",
       "      <th></th>\n",
       "      <th></th>\n",
       "      <th></th>\n",
       "    </tr>\n",
       "  </thead>\n",
       "  <tbody>\n",
       "    <tr>\n",
       "      <th>1</th>\n",
       "      <td>0</td>\n",
       "      <td>198</td>\n",
       "      <td>198</td>\n",
       "      <td>0</td>\n",
       "      <td>198</td>\n",
       "      <td>0</td>\n",
       "      <td>198</td>\n",
       "      <td>0</td>\n",
       "      <td>198</td>\n",
       "      <td>0</td>\n",
       "      <td>...</td>\n",
       "      <td>0</td>\n",
       "      <td>0</td>\n",
       "      <td>0</td>\n",
       "      <td>0</td>\n",
       "      <td>0</td>\n",
       "      <td>0</td>\n",
       "      <td>0</td>\n",
       "      <td>0</td>\n",
       "      <td>0</td>\n",
       "      <td>0</td>\n",
       "    </tr>\n",
       "    <tr>\n",
       "      <th>2</th>\n",
       "      <td>0</td>\n",
       "      <td>100</td>\n",
       "      <td>100</td>\n",
       "      <td>0</td>\n",
       "      <td>100</td>\n",
       "      <td>0</td>\n",
       "      <td>100</td>\n",
       "      <td>0</td>\n",
       "      <td>0</td>\n",
       "      <td>100</td>\n",
       "      <td>...</td>\n",
       "      <td>0</td>\n",
       "      <td>0</td>\n",
       "      <td>0</td>\n",
       "      <td>0</td>\n",
       "      <td>0</td>\n",
       "      <td>0</td>\n",
       "      <td>100</td>\n",
       "      <td>0</td>\n",
       "      <td>0</td>\n",
       "      <td>0</td>\n",
       "    </tr>\n",
       "    <tr>\n",
       "      <th>3</th>\n",
       "      <td>0</td>\n",
       "      <td>143</td>\n",
       "      <td>143</td>\n",
       "      <td>0</td>\n",
       "      <td>143</td>\n",
       "      <td>0</td>\n",
       "      <td>143</td>\n",
       "      <td>0</td>\n",
       "      <td>143</td>\n",
       "      <td>0</td>\n",
       "      <td>...</td>\n",
       "      <td>0</td>\n",
       "      <td>0</td>\n",
       "      <td>143</td>\n",
       "      <td>0</td>\n",
       "      <td>0</td>\n",
       "      <td>0</td>\n",
       "      <td>0</td>\n",
       "      <td>0</td>\n",
       "      <td>0</td>\n",
       "      <td>0</td>\n",
       "    </tr>\n",
       "    <tr>\n",
       "      <th>4</th>\n",
       "      <td>0</td>\n",
       "      <td>154</td>\n",
       "      <td>154</td>\n",
       "      <td>0</td>\n",
       "      <td>154</td>\n",
       "      <td>0</td>\n",
       "      <td>154</td>\n",
       "      <td>0</td>\n",
       "      <td>0</td>\n",
       "      <td>0</td>\n",
       "      <td>...</td>\n",
       "      <td>0</td>\n",
       "      <td>0</td>\n",
       "      <td>0</td>\n",
       "      <td>0</td>\n",
       "      <td>0</td>\n",
       "      <td>0</td>\n",
       "      <td>0</td>\n",
       "      <td>0</td>\n",
       "      <td>0</td>\n",
       "      <td>0</td>\n",
       "    </tr>\n",
       "    <tr>\n",
       "      <th>5</th>\n",
       "      <td>0</td>\n",
       "      <td>132</td>\n",
       "      <td>132</td>\n",
       "      <td>0</td>\n",
       "      <td>132</td>\n",
       "      <td>0</td>\n",
       "      <td>132</td>\n",
       "      <td>0</td>\n",
       "      <td>0</td>\n",
       "      <td>0</td>\n",
       "      <td>...</td>\n",
       "      <td>0</td>\n",
       "      <td>0</td>\n",
       "      <td>0</td>\n",
       "      <td>0</td>\n",
       "      <td>0</td>\n",
       "      <td>0</td>\n",
       "      <td>0</td>\n",
       "      <td>0</td>\n",
       "      <td>0</td>\n",
       "      <td>0</td>\n",
       "    </tr>\n",
       "    <tr>\n",
       "      <th>...</th>\n",
       "      <td>...</td>\n",
       "      <td>...</td>\n",
       "      <td>...</td>\n",
       "      <td>...</td>\n",
       "      <td>...</td>\n",
       "      <td>...</td>\n",
       "      <td>...</td>\n",
       "      <td>...</td>\n",
       "      <td>...</td>\n",
       "      <td>...</td>\n",
       "      <td>...</td>\n",
       "      <td>...</td>\n",
       "      <td>...</td>\n",
       "      <td>...</td>\n",
       "      <td>...</td>\n",
       "      <td>...</td>\n",
       "      <td>...</td>\n",
       "      <td>...</td>\n",
       "      <td>...</td>\n",
       "      <td>...</td>\n",
       "      <td>...</td>\n",
       "    </tr>\n",
       "    <tr>\n",
       "      <th>98447</th>\n",
       "      <td>0</td>\n",
       "      <td>0</td>\n",
       "      <td>0</td>\n",
       "      <td>0</td>\n",
       "      <td>0</td>\n",
       "      <td>0</td>\n",
       "      <td>0</td>\n",
       "      <td>0</td>\n",
       "      <td>0</td>\n",
       "      <td>0</td>\n",
       "      <td>...</td>\n",
       "      <td>0</td>\n",
       "      <td>0</td>\n",
       "      <td>0</td>\n",
       "      <td>0</td>\n",
       "      <td>0</td>\n",
       "      <td>0</td>\n",
       "      <td>0</td>\n",
       "      <td>0</td>\n",
       "      <td>0</td>\n",
       "      <td>0</td>\n",
       "    </tr>\n",
       "    <tr>\n",
       "      <th>98448</th>\n",
       "      <td>0</td>\n",
       "      <td>0</td>\n",
       "      <td>0</td>\n",
       "      <td>0</td>\n",
       "      <td>0</td>\n",
       "      <td>0</td>\n",
       "      <td>0</td>\n",
       "      <td>0</td>\n",
       "      <td>0</td>\n",
       "      <td>0</td>\n",
       "      <td>...</td>\n",
       "      <td>0</td>\n",
       "      <td>0</td>\n",
       "      <td>0</td>\n",
       "      <td>0</td>\n",
       "      <td>0</td>\n",
       "      <td>0</td>\n",
       "      <td>0</td>\n",
       "      <td>0</td>\n",
       "      <td>0</td>\n",
       "      <td>0</td>\n",
       "    </tr>\n",
       "    <tr>\n",
       "      <th>98449</th>\n",
       "      <td>0</td>\n",
       "      <td>0</td>\n",
       "      <td>0</td>\n",
       "      <td>0</td>\n",
       "      <td>0</td>\n",
       "      <td>0</td>\n",
       "      <td>0</td>\n",
       "      <td>0</td>\n",
       "      <td>0</td>\n",
       "      <td>0</td>\n",
       "      <td>...</td>\n",
       "      <td>0</td>\n",
       "      <td>0</td>\n",
       "      <td>0</td>\n",
       "      <td>0</td>\n",
       "      <td>0</td>\n",
       "      <td>0</td>\n",
       "      <td>0</td>\n",
       "      <td>0</td>\n",
       "      <td>0</td>\n",
       "      <td>0</td>\n",
       "    </tr>\n",
       "    <tr>\n",
       "      <th>98450</th>\n",
       "      <td>0</td>\n",
       "      <td>0</td>\n",
       "      <td>0</td>\n",
       "      <td>0</td>\n",
       "      <td>0</td>\n",
       "      <td>0</td>\n",
       "      <td>0</td>\n",
       "      <td>0</td>\n",
       "      <td>0</td>\n",
       "      <td>0</td>\n",
       "      <td>...</td>\n",
       "      <td>0</td>\n",
       "      <td>0</td>\n",
       "      <td>0</td>\n",
       "      <td>0</td>\n",
       "      <td>0</td>\n",
       "      <td>0</td>\n",
       "      <td>0</td>\n",
       "      <td>0</td>\n",
       "      <td>0</td>\n",
       "      <td>0</td>\n",
       "    </tr>\n",
       "    <tr>\n",
       "      <th>98451</th>\n",
       "      <td>0</td>\n",
       "      <td>0</td>\n",
       "      <td>0</td>\n",
       "      <td>0</td>\n",
       "      <td>0</td>\n",
       "      <td>0</td>\n",
       "      <td>0</td>\n",
       "      <td>0</td>\n",
       "      <td>0</td>\n",
       "      <td>0</td>\n",
       "      <td>...</td>\n",
       "      <td>0</td>\n",
       "      <td>0</td>\n",
       "      <td>0</td>\n",
       "      <td>0</td>\n",
       "      <td>0</td>\n",
       "      <td>0</td>\n",
       "      <td>0</td>\n",
       "      <td>0</td>\n",
       "      <td>0</td>\n",
       "      <td>0</td>\n",
       "    </tr>\n",
       "  </tbody>\n",
       "</table>\n",
       "<p>97006 rows × 4512 columns</p>\n",
       "</div>"
      ],
      "text/plain": [
       "       ukCitizenW1_No  ukCitizenW1_Yes  euCitizenW1_No  euCitizenW1_Yes  \\\n",
       "id                                                                        \n",
       "1                   0              198             198                0   \n",
       "2                   0              100             100                0   \n",
       "3                   0              143             143                0   \n",
       "4                   0              154             154                0   \n",
       "5                   0              132             132                0   \n",
       "...               ...              ...             ...              ...   \n",
       "98447               0                0               0                0   \n",
       "98448               0                0               0                0   \n",
       "98449               0                0               0                0   \n",
       "98450               0                0               0                0   \n",
       "98451               0                0               0                0   \n",
       "\n",
       "       commonwealthCitizenW1_No  commonwealthCitizenW1_Yes  otherCitizenW1_No  \\\n",
       "id                                                                              \n",
       "1                           198                          0                198   \n",
       "2                           100                          0                100   \n",
       "3                           143                          0                143   \n",
       "4                           154                          0                154   \n",
       "5                           132                          0                132   \n",
       "...                         ...                        ...                ...   \n",
       "98447                         0                          0                  0   \n",
       "98448                         0                          0                  0   \n",
       "98449                         0                          0                  0   \n",
       "98450                         0                          0                  0   \n",
       "98451                         0                          0                  0   \n",
       "\n",
       "       otherCitizenW1_Yes  allSourceIncome_1W6_No  allSourceIncome_1W6_Yes  \\\n",
       "id                                                                           \n",
       "1                       0                     198                        0   \n",
       "2                       0                       0                      100   \n",
       "3                       0                     143                        0   \n",
       "4                       0                       0                        0   \n",
       "5                       0                       0                        0   \n",
       "...                   ...                     ...                      ...   \n",
       "98447                   0                       0                        0   \n",
       "98448                   0                       0                        0   \n",
       "98449                   0                       0                        0   \n",
       "98450                   0                       0                        0   \n",
       "98451                   0                       0                        0   \n",
       "\n",
       "       ...  gorW20_North West  gorW20_Yorkshire and The Humber  \\\n",
       "id     ...                                                       \n",
       "1      ...                  0                                0   \n",
       "2      ...                  0                                0   \n",
       "3      ...                  0                                0   \n",
       "4      ...                  0                                0   \n",
       "5      ...                  0                                0   \n",
       "...    ...                ...                              ...   \n",
       "98447  ...                  0                                0   \n",
       "98448  ...                  0                                0   \n",
       "98449  ...                  0                                0   \n",
       "98450  ...                  0                                0   \n",
       "98451  ...                  0                                0   \n",
       "\n",
       "       gorW20_East Midlands  gorW20_West Midlands  gorW20_East of England  \\\n",
       "id                                                                          \n",
       "1                         0                     0                       0   \n",
       "2                         0                     0                       0   \n",
       "3                       143                     0                       0   \n",
       "4                         0                     0                       0   \n",
       "5                         0                     0                       0   \n",
       "...                     ...                   ...                     ...   \n",
       "98447                     0                     0                       0   \n",
       "98448                     0                     0                       0   \n",
       "98449                     0                     0                       0   \n",
       "98450                     0                     0                       0   \n",
       "98451                     0                     0                       0   \n",
       "\n",
       "       gorW20_London  gorW20_South East  gorW20_South West  gorW20_Wales  \\\n",
       "id                                                                         \n",
       "1                  0                  0                  0             0   \n",
       "2                  0                100                  0             0   \n",
       "3                  0                  0                  0             0   \n",
       "4                  0                  0                  0             0   \n",
       "5                  0                  0                  0             0   \n",
       "...              ...                ...                ...           ...   \n",
       "98447              0                  0                  0             0   \n",
       "98448              0                  0                  0             0   \n",
       "98449              0                  0                  0             0   \n",
       "98450              0                  0                  0             0   \n",
       "98451              0                  0                  0             0   \n",
       "\n",
       "       gorW20_Scotland  \n",
       "id                      \n",
       "1                    0  \n",
       "2                    0  \n",
       "3                    0  \n",
       "4                    0  \n",
       "5                    0  \n",
       "...                ...  \n",
       "98447                0  \n",
       "98448                0  \n",
       "98449                0  \n",
       "98450                0  \n",
       "98451                0  \n",
       "\n",
       "[97006 rows x 4512 columns]"
      ]
     },
     "execution_count": 267,
     "metadata": {},
     "output_type": "execute_result"
    }
   ],
   "source": [
    "dummies"
   ]
  },
  {
   "cell_type": "code",
   "execution_count": null,
   "id": "7484b8b4",
   "metadata": {},
   "outputs": [],
   "source": []
  }
 ],
 "metadata": {
  "kernelspec": {
   "display_name": "Python 3 (ipykernel)",
   "language": "python",
   "name": "python3"
  },
  "language_info": {
   "codemirror_mode": {
    "name": "ipython",
    "version": 3
   },
   "file_extension": ".py",
   "mimetype": "text/x-python",
   "name": "python",
   "nbconvert_exporter": "python",
   "pygments_lexer": "ipython3",
   "version": "3.7.12"
  }
 },
 "nbformat": 4,
 "nbformat_minor": 5
}
