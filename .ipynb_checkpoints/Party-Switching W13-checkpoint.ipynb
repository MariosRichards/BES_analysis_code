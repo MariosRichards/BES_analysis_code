{
 "cells": [
  {
   "cell_type": "code",
   "execution_count": 1,
   "metadata": {
    "collapsed": true
   },
   "outputs": [],
   "source": [
    "## attempt to analyse drivers of party switching behaviour 2015->2017"
   ]
  },
  {
   "cell_type": "code",
   "execution_count": 2,
   "metadata": {
    "collapsed": true
   },
   "outputs": [],
   "source": [
    "import numpy as np\n",
    "import pandas as pd\n",
    "%matplotlib inline\n",
    "import matplotlib.pyplot as plt\n",
    "import gc\n",
    "import re\n",
    "\n",
    "from itertools import cycle\n",
    "from IPython.display import display\n",
    "import pickle, os\n",
    "\n",
    "import seaborn as sns\n",
    "\n",
    "encoding = \"ISO-8859-1\"\n",
    "\n",
    "import Jupyter_module_loader"
   ]
  },
  {
   "cell_type": "code",
   "execution_count": 3,
   "metadata": {
    "collapsed": true
   },
   "outputs": [],
   "source": [
    "# you should clone this git to this subdirectory (in some directory - I call it BES_analysis - doesn't matter though)\n",
    "\n",
    "if os.getcwd().split(os.sep)[-1] != 'BES_analysis_code':\n",
    "    raise Exception(\"Stop! You're in the wrong directory - should be in 'BES_analysis_code'\")\n",
    "\n",
    "BES_code_folder   = \"../BES_analysis_code/\" # we should be here!\n",
    "BES_small_data_files = BES_code_folder + \"small data files\" + os.sep\n",
    "if not os.path.exists( BES_small_data_files ):\n",
    "    os.makedirs( BES_small_data_files )\n",
    "\n",
    "# we should create these if they don't already exist\n",
    "BES_data_folder   = \"../BES_analysis_data/\"\n",
    "if not os.path.exists( BES_data_folder ):\n",
    "    os.makedirs( BES_data_folder )\n",
    "\n",
    "BES_output_folder = \"../BES_analysis_output/\"\n",
    "if not os.path.exists( BES_output_folder ):\n",
    "    os.makedirs( BES_output_folder )\n",
    "    \n",
    "BES_file_manifest = pd.read_csv( BES_small_data_files + \"BES_file_manifest.csv\" )\n",
    "\n",
    "BES_R_data_files = BES_data_folder + \"R_data\" + os.sep\n",
    "if not os.path.exists( BES_R_data_files ):\n",
    "    os.makedirs( BES_R_data_files )\n"
   ]
  },
  {
   "cell_type": "code",
   "execution_count": 4,
   "metadata": {
    "collapsed": true
   },
   "outputs": [],
   "source": [
    "dataset_name = \"W13_only\""
   ]
  },
  {
   "cell_type": "code",
   "execution_count": 5,
   "metadata": {},
   "outputs": [
    {
     "name": "stdout",
     "output_type": "stream",
     "text": [
      "BES_Panel (31197, 312)\n",
      "BES_numeric (31197, 299)\n",
      "var_type (312, 13)\n",
      "BES_non_numeric (31197, 11)\n",
      "BES_reduced (31197, 304)\n",
      "BES_reduced_with_na (31197, 304)\n",
      "Wall time: 4.12 s\n"
     ]
    }
   ],
   "source": [
    "%%time\n",
    "\n",
    "manifest = BES_file_manifest[ BES_file_manifest[\"Name\"] == dataset_name ]\n",
    "\n",
    "data_subfolder = BES_data_folder + dataset_name + os.sep\n",
    "\n",
    "dataset_filename = manifest[\"Stata_Filename\"].values[0]\n",
    "# dataset_description = manifest[\"Friendlier_Description\"].values[0]\n",
    "# dataset_citation = manifest[\"Citation\"].values[0]\n",
    "# dataset_start = manifest[\"Date_Start\"].values[0]\n",
    "# dataset_stop = manifest[\"Date_Stop\"].values[0]\n",
    "# dataset_wave = manifest[\"Wave No\"].values[0]\n",
    "\n",
    "BES_Panel = pd.read_stata( data_subfolder + dataset_filename )\n",
    "print(\"BES_Panel\", BES_Panel.shape )\n",
    "\n",
    "####\n",
    "\n",
    "BES_numeric = pd.read_hdf( data_subfolder + \"BESnumeric.hdf\", \"BESnumeric\" )\n",
    "print(\"BES_numeric\",  BES_numeric.shape )\n",
    "\n",
    "var_type    = pd.read_csv( data_subfolder + \"var_type.csv\", encoding=encoding)\n",
    "var_type.set_index(\"Unnamed: 0\", inplace=True)\n",
    "print(\"var_type\",  var_type.shape )\n",
    "\n",
    "fname = data_subfolder + \"cat_dictionary.pkl\"\n",
    "with open(fname, \"rb\") as f:\n",
    "    cat_dictionary = pickle.load( f )\n",
    "    \n",
    "####\n",
    "\n",
    "BES_non_numeric = pd.read_hdf( data_subfolder + \"BESnon_numeric.hdf\", \"BESnon_numeric\" )\n",
    "print(\"BES_non_numeric\",  BES_non_numeric.shape )\n",
    "\n",
    "BES_reduced = pd.read_hdf( data_subfolder + \"BES_reduced.hdf\", \"BES_reduced\" )\n",
    "print(\"BES_reduced\",  BES_reduced.shape )\n",
    "\n",
    "BES_reduced_with_na = pd.read_hdf( data_subfolder + \"BES_reduced_with_na.hdf\", \"BES_reduced_with_na\")\n",
    "print(\"BES_reduced_with_na\", BES_reduced_with_na.shape )\n",
    "\n",
    "fname = data_subfolder + \"new_old_col_names.pkl\"\n",
    "with open(fname, \"rb\") as f:\n",
    "    new_old_col_names = pickle.load(f) "
   ]
  },
  {
   "cell_type": "code",
   "execution_count": 6,
   "metadata": {},
   "outputs": [
    {
     "data": {
      "text/plain": [
       "['housing', 'profile_household_children']"
      ]
     },
     "execution_count": 6,
     "metadata": {},
     "output_type": "execute_result"
    }
   ],
   "source": [
    "[x for x in BES_Panel.columns if \"hous\" in x]"
   ]
  },
  {
   "cell_type": "code",
   "execution_count": null,
   "metadata": {
    "collapsed": true
   },
   "outputs": [],
   "source": []
  },
  {
   "cell_type": "code",
   "execution_count": 7,
   "metadata": {},
   "outputs": [
    {
     "data": {
      "text/plain": [
       "Conservative                                9218\n",
       "Labour                                      8528\n",
       "United Kingdom Independence Party (UKIP)    3453\n",
       "Liberal Democrat                            2321\n",
       "Scottish National Party (SNP)               1544\n",
       "Green Party                                 1432\n",
       "Other                                        459\n",
       "Don't know                                   377\n",
       "Plaid Cymru                                  204\n",
       "British National Party (BNP)                  19\n",
       "Name: profile_past_vote_2015, dtype: int64"
      ]
     },
     "execution_count": 7,
     "metadata": {},
     "output_type": "execute_result"
    }
   ],
   "source": [
    "BES_Panel['profile_past_vote_2015'].value_counts()"
   ]
  },
  {
   "cell_type": "code",
   "execution_count": 8,
   "metadata": {},
   "outputs": [
    {
     "data": {
      "text/plain": [
       "27555"
      ]
     },
     "execution_count": 8,
     "metadata": {},
     "output_type": "execute_result"
    }
   ],
   "source": [
    "BES_Panel['profile_past_vote_2015'].value_counts().sum()"
   ]
  },
  {
   "cell_type": "code",
   "execution_count": 9,
   "metadata": {},
   "outputs": [
    {
     "data": {
      "text/plain": [
       "(31197, 312)"
      ]
     },
     "execution_count": 9,
     "metadata": {},
     "output_type": "execute_result"
    }
   ],
   "source": [
    "BES_Panel.shape"
   ]
  },
  {
   "cell_type": "code",
   "execution_count": 10,
   "metadata": {},
   "outputs": [
    {
     "data": {
      "text/plain": [
       "Conservative                                11295\n",
       "Labour                                      10899\n",
       "Liberal Democrat                             2667\n",
       "Scottish National Party (SNP)                1364\n",
       "United Kingdom Independence Party (UKIP)      754\n",
       "Green Party                                   608\n",
       "Other                                         361\n",
       "Plaid Cymru                                   196\n",
       "Don't know                                    168\n",
       "Name: generalElectionVote, dtype: int64"
      ]
     },
     "execution_count": 10,
     "metadata": {},
     "output_type": "execute_result"
    }
   ],
   "source": [
    "BES_Panel['generalElectionVote'].value_counts()"
   ]
  },
  {
   "cell_type": "code",
   "execution_count": 11,
   "metadata": {},
   "outputs": [
    {
     "data": {
      "text/plain": [
       "Yes, voted          27610\n",
       "No, did not vote     3356\n",
       "Don't know            231\n",
       "Name: profile_turnout_2015, dtype: int64"
      ]
     },
     "execution_count": 11,
     "metadata": {},
     "output_type": "execute_result"
    }
   ],
   "source": [
    "BES_Panel['profile_turnout_2015'].value_counts()"
   ]
  },
  {
   "cell_type": "code",
   "execution_count": 12,
   "metadata": {
    "collapsed": true
   },
   "outputs": [],
   "source": [
    "Labour2017 = BES_Panel['generalElectionVote']==\"Labour\""
   ]
  },
  {
   "cell_type": "code",
   "execution_count": 13,
   "metadata": {
    "collapsed": true
   },
   "outputs": [],
   "source": [
    "England = BES_Panel[\"country\"]==\"England\""
   ]
  },
  {
   "cell_type": "code",
   "execution_count": 44,
   "metadata": {
    "collapsed": true
   },
   "outputs": [],
   "source": [
    "Labour2015 = BES_Panel['profile_past_vote_2015']==\"Labour\"\n",
    "TurnedOut2015 = ~(BES_Panel['profile_turnout_2015']!=\"Yes, voted\")"
   ]
  },
  {
   "cell_type": "code",
   "execution_count": 43,
   "metadata": {},
   "outputs": [
    {
     "data": {
      "text/plain": [
       "True     27610\n",
       "False     3587\n",
       "Name: profile_turnout_2015, dtype: int64"
      ]
     },
     "execution_count": 43,
     "metadata": {},
     "output_type": "execute_result"
    }
   ],
   "source": []
  },
  {
   "cell_type": "code",
   "execution_count": 15,
   "metadata": {},
   "outputs": [
    {
     "data": {
      "text/plain": [
       "False    22669\n",
       "True      8528\n",
       "Name: profile_past_vote_2015, dtype: int64"
      ]
     },
     "execution_count": 15,
     "metadata": {},
     "output_type": "execute_result"
    }
   ],
   "source": [
    "Labour2015.value_counts()"
   ]
  },
  {
   "cell_type": "code",
   "execution_count": 45,
   "metadata": {
    "collapsed": true
   },
   "outputs": [],
   "source": [
    "BES_eng_lab = BES_Panel\n",
    "BES_eng_lab[\"Labour2015\"] = Labour2015\n",
    "BES_eng_lab[\"TurnedOut2015\"] = TurnedOut2015\n",
    "BES_eng_lab = BES_eng_lab[Labour2017 & England]"
   ]
  },
  {
   "cell_type": "code",
   "execution_count": 17,
   "metadata": {},
   "outputs": [
    {
     "data": {
      "text/plain": [
       "<matplotlib.axes._subplots.AxesSubplot at 0xd0f47f0>"
      ]
     },
     "execution_count": 17,
     "metadata": {},
     "output_type": "execute_result"
    },
    {
     "data": {
      "image/png": "[encoded data removed]",
      "text/plain": [
       "<matplotlib.figure.Figure at 0xd0f4160>"
      ]
     },
     "metadata": {},
     "output_type": "display_data"
    }
   ],
   "source": [
    "# missing value threshold? 33%\n",
    "missing_values = BES_eng_lab.isnull().sum()/BES_eng_lab.shape[0]\n",
    "missing_values.hist(bins=50)"
   ]
  },
  {
   "cell_type": "code",
   "execution_count": 18,
   "metadata": {
    "collapsed": true
   },
   "outputs": [],
   "source": [
    "few_missing_values = missing_values[missing_values<.66].index"
   ]
  },
  {
   "cell_type": "code",
   "execution_count": 19,
   "metadata": {
    "collapsed": true
   },
   "outputs": [],
   "source": [
    "valid_types = var_type[ var_type[\"type\"].apply(lambda x: (x>=0) and (x!=4)) ].index"
   ]
  },
  {
   "cell_type": "code",
   "execution_count": 20,
   "metadata": {
    "collapsed": true
   },
   "outputs": [],
   "source": [
    "valid_variables = [x for x in BES_eng_lab.columns if (x in valid_types) and (x in few_missing_values)]\n",
    "valid_variables.append(\"Labour2015\")"
   ]
  },
  {
   "cell_type": "code",
   "execution_count": 21,
   "metadata": {
    "collapsed": true
   },
   "outputs": [],
   "source": [
    "BES_export_to_R = BES_eng_lab[valid_variables].apply(lambda x: x.astype('category'))\n",
    "BES_export_to_R = BES_export_to_R.apply(lambda x: x.cat.remove_unused_categories())\n",
    "BES_export_to_R = BES_export_to_R.apply(lambda x: x.cat.codes)\n",
    "BES_export_to_R = BES_export_to_R.replace(-1,np.nan)"
   ]
  },
  {
   "cell_type": "code",
   "execution_count": 22,
   "metadata": {},
   "outputs": [
    {
     "data": {
      "text/plain": [
       "<matplotlib.axes._subplots.AxesSubplot at 0xd30af28>"
      ]
     },
     "execution_count": 22,
     "metadata": {},
     "output_type": "execute_result"
    },
    {
     "data": {
      "image/png": "[encoded data removed]",
      "text/plain": [
       "<matplotlib.figure.Figure at 0x4d84f60>"
      ]
     },
     "metadata": {},
     "output_type": "display_data"
    }
   ],
   "source": [
    "variance = BES_export_to_R.var()\n",
    "variance[variance<25].hist(bins=20)"
   ]
  },
  {
   "cell_type": "code",
   "execution_count": 23,
   "metadata": {
    "collapsed": true
   },
   "outputs": [],
   "source": [
    "BES_export_to_R.drop(variance[variance==0.0].index, axis=1,inplace=True)"
   ]
  },
  {
   "cell_type": "code",
   "execution_count": 24,
   "metadata": {},
   "outputs": [
    {
     "data": {
      "text/plain": [
       "'W13_onlyLAB2015_to_LAB2017_switchers'"
      ]
     },
     "metadata": {},
     "output_type": "display_data"
    }
   ],
   "source": [
    "filename = dataset_name + \"LAB2015_to_LAB2017_switchers\"\n",
    "\n",
    "BES_export_to_R.to_stata(BES_R_data_files + filename + \".dta\")\n",
    "display(filename)"
   ]
  },
  {
   "cell_type": "code",
   "execution_count": 25,
   "metadata": {},
   "outputs": [
    {
     "data": {
      "text/plain": [
       "<matplotlib.axes._subplots.AxesSubplot at 0xd3cd8d0>"
      ]
     },
     "execution_count": 25,
     "metadata": {},
     "output_type": "execute_result"
    },
    {
     "data": {
      "image/png": "[encoded data removed]",
      "text/plain": [
       "<matplotlib.figure.Figure at 0xd29dbe0>"
      ]
     },
     "metadata": {},
     "output_type": "display_data"
    }
   ],
   "source": [
    "# any 'bad' respondents?\n",
    "(BES_export_to_R.isnull().sum(axis=0)/BES_export_to_R.shape[0]).hist(bins=100)\n"
   ]
  },
  {
   "cell_type": "code",
   "execution_count": 26,
   "metadata": {
    "collapsed": true
   },
   "outputs": [],
   "source": [
    "## initial one-shot Bayesian Net results\n",
    "# profile_past_vote_2015 -> Labour2015 -> gor|changeView|partyContactCon"
   ]
  },
  {
   "cell_type": "code",
   "execution_count": 27,
   "metadata": {},
   "outputs": [
    {
     "data": {
      "text/plain": [
       "<matplotlib.axes._subplots.AxesSubplot at 0x1aa0d4a8>"
      ]
     },
     "execution_count": 27,
     "metadata": {},
     "output_type": "execute_result"
    },
    {
     "data": {
      "image/png": "[encoded data removed]",
      "text/plain": [
       "<matplotlib.figure.Figure at 0xd44ad68>"
      ]
     },
     "metadata": {},
     "output_type": "display_data"
    }
   ],
   "source": [
    "# so ... Cons less likely to contact people who voted Labour in 2015?\n",
    "sns.barplot(y=\"Labour2015\", x=\"partyContactCon\", data=BES_eng_lab[[\"Labour2015\",\"partyContactCon\"]])"
   ]
  },
  {
   "cell_type": "code",
   "execution_count": 28,
   "metadata": {},
   "outputs": [
    {
     "data": {
      "text/plain": [
       "(array([ 0,  1,  2,  3,  4,  5,  6,  7,  8,  9, 10]),\n",
       " <a list of 11 Text xticklabel objects>)"
      ]
     },
     "execution_count": 28,
     "metadata": {},
     "output_type": "execute_result"
    },
    {
     "data": {
      "image/png": "[encoded data removed]",
      "text/plain": [
       "<matplotlib.figure.Figure at 0xd31fe10>"
      ]
     },
     "metadata": {},
     "output_type": "display_data"
    }
   ],
   "source": [
    "# ?\n",
    "sns.barplot(y=\"Labour2015\", x=\"gor\", data=BES_eng_lab[[\"Labour2015\",\"gor\"]])\n",
    "plt.xticks(rotation=90)"
   ]
  },
  {
   "cell_type": "code",
   "execution_count": 29,
   "metadata": {},
   "outputs": [
    {
     "data": {
      "text/plain": [
       "(array([0, 1, 2]), <a list of 3 Text xticklabel objects>)"
      ]
     },
     "execution_count": 29,
     "metadata": {},
     "output_type": "execute_result"
    },
    {
     "data": {
      "image/png": "[encoded data removed]",
      "text/plain": [
       "<matplotlib.figure.Figure at 0x1aa08f98>"
      ]
     },
     "metadata": {},
     "output_type": "display_data"
    }
   ],
   "source": [
    "# ?\n",
    "sns.barplot(y=\"Labour2015\", x=\"changeView\", data=BES_eng_lab[[\"Labour2015\",\"changeView\"]])\n",
    "plt.xticks(rotation=90)"
   ]
  },
  {
   "cell_type": "code",
   "execution_count": 30,
   "metadata": {
    "collapsed": true
   },
   "outputs": [],
   "source": [
    "# ContactEday_2, reasonForVote, pContactEday_2, pContactEday_10, profile_eurefturnout"
   ]
  },
  {
   "cell_type": "code",
   "execution_count": 31,
   "metadata": {},
   "outputs": [
    {
     "data": {
      "image/png": "[encoded data removed]",
      "text/plain": [
       "<matplotlib.figure.Figure at 0xd370cc0>"
      ]
     },
     "metadata": {},
     "output_type": "display_data"
    }
   ],
   "source": [
    "import textwrap\n",
    "x = \"reasonForVote\"\n",
    "y = \"Labour2015\"\n",
    "sns.barplot(y=y, x=x, data=BES_eng_lab)\n",
    "ax = plt.gca();\n",
    "labels = BES_eng_lab[x].cat.categories\n",
    "labels=[textwrap.fill(text,30) for text in labels]\n",
    "\n",
    "plt.xticks(range(0,len(labels)), labels, rotation=90);"
   ]
  },
  {
   "cell_type": "code",
   "execution_count": 32,
   "metadata": {},
   "outputs": [
    {
     "data": {
      "image/png": "[encoded data removed]",
      "text/plain": [
       "<matplotlib.figure.Figure at 0x1ad03828>"
      ]
     },
     "metadata": {},
     "output_type": "display_data"
    }
   ],
   "source": [
    "import textwrap\n",
    "x = \"profile_eurefturnout\"\n",
    "y = \"Labour2015\"\n",
    "sns.barplot(y=y, x=x, data=BES_eng_lab)\n",
    "ax = plt.gca();\n",
    "labels = BES_eng_lab[x].cat.categories\n",
    "labels=[textwrap.fill(text,30) for text in labels]\n",
    "\n",
    "plt.xticks(range(0,len(labels)), labels, rotation=90);"
   ]
  },
  {
   "cell_type": "code",
   "execution_count": 33,
   "metadata": {},
   "outputs": [
    {
     "data": {
      "image/png": "[encoded data removed]",
      "text/plain": [
       "<matplotlib.figure.Figure at 0x1adec6d8>"
      ]
     },
     "metadata": {},
     "output_type": "display_data"
    }
   ],
   "source": [
    "\n",
    "\n",
    "import textwrap\n",
    "x = \"pContactEday_2\"\n",
    "y = \"Labour2015\"\n",
    "sns.barplot(y=y, x=x, data=BES_eng_lab)\n",
    "ax = plt.gca();\n",
    "labels = BES_eng_lab[x].cat.categories\n",
    "labels=[textwrap.fill(text,30) for text in labels]\n",
    "\n",
    "plt.xticks(range(0,len(labels)), labels, rotation=90);"
   ]
  },
  {
   "cell_type": "code",
   "execution_count": 72,
   "metadata": {},
   "outputs": [
    {
     "name": "stderr",
     "output_type": "stream",
     "text": [
      "C:\\Users\\Marios\\AppData\\Local\\conda\\conda\\envs\\BES_analysis\\lib\\site-packages\\sklearn\\cross_validation.py:41: DeprecationWarning: This module was deprecated in version 0.18 in favor of the model_selection module into which all the refactored classes and functions are moved. Also note that the interface of the new CV iterators are different from that of this module. This module will be removed in 0.20.\n",
      "  \"This module will be removed in 0.20.\", DeprecationWarning)\n"
     ]
    }
   ],
   "source": [
    "from sklearn import preprocessing\n",
    "from sklearn.linear_model import LogisticRegression\n",
    "from sklearn.cross_validation import train_test_split\n"
   ]
  },
  {
   "cell_type": "code",
   "execution_count": 352,
   "metadata": {},
   "outputs": [],
   "source": [
    "Weasel_answers = [\"Don't know\",\n",
    "                  \"Prefer not to say\", \"Prefer not to answer\", \"Refused\", \"Unknown\",\n",
    "                  \"Neither\", \"Other\", \"I would/will not vote\", \"Will not vote\",\n",
    "                  \"I would not vote\", \"It depends\", \"Other\",\n",
    "                  \"Don't follow politics on twitter\",\n",
    "                  \"Yes, other\", \"Haven't thought about it\",\n",
    "                  \"There wasn't a local election in my area\", \"No, haven't received it\",\n",
    "                  \"I don't know what was negotiated\", \"I never received a response\",\n",
    "                  \"There are not local elections in my area\", \"Can't remember\",\n",
    "                  \"Varies too much to say\", \"Will not state a choice\",\n",
    "                  \"All leaders equally good\", \"They are not eligible to vote\",\n",
    "                  \"There are not local elections in my area\", \"Both/neither\",\n",
    "                  \"Did not vote\",\"Can't remember\",\n",
    "                  \"Not sure\"]"
   ]
  },
  {
   "cell_type": "code",
   "execution_count": 353,
   "metadata": {},
   "outputs": [],
   "source": [
    "y_var = \"TurnedOut2015\"\n",
    "\n",
    "sample_weight = BES_eng_lab[\"wt_new_W13\"]\n",
    "\n",
    "# var_list = [\"ageGroup\",\"profile_eurefturnout\",\"housing\",\"euRefVote\",\"al_scale\"]\n",
    "var_list = valid_variables\n",
    "invalid_variables = [\"Labour2015\",\"profile_turnout_2015\",\"profile_past_vote_2015\",\n",
    "                     \"country\",\"generalElectionVote\",\"genElecTurnoutRetro\",\n",
    "                     \"age\",\"profile_lea\",\"profile_oslaua\",\"pano\",\n",
    "                     \"euRefTurnoutRetro\",\"marital\",\"euRefpastVote\",\n",
    "                     \"al1\",\"al2\",\"al3\",\"al4\",\"al5\",\"lr1\",\"lr2\",\"lr3\",\"lr4\",\"lr5\",\n",
    "                     \"edlevel\",\n",
    "                     \"voted2015\"]\n",
    "\n",
    "\n",
    "var_list = [ x for x in var_list if x not in invalid_variables ]"
   ]
  },
  {
   "cell_type": "code",
   "execution_count": 354,
   "metadata": {},
   "outputs": [],
   "source": [
    "# BES_eng_lab[valid_variables].apply(lambda x: len(x.unique())).sort_values()"
   ]
  },
  {
   "cell_type": "code",
   "execution_count": 355,
   "metadata": {},
   "outputs": [],
   "source": [
    "# BES_logit = BES_eng_lab[[y_var]].apply(lambda x: x.astype('int'))\n",
    "# BES_logit\n"
   ]
  },
  {
   "cell_type": "code",
   "execution_count": 356,
   "metadata": {},
   "outputs": [
    {
     "name": "stderr",
     "output_type": "stream",
     "text": [
      "C:\\Users\\Marios\\AppData\\Local\\conda\\conda\\envs\\BES_analysis\\lib\\site-packages\\ipykernel\\__main__.py:2: SettingWithCopyWarning: \n",
      "A value is trying to be set on a copy of a slice from a DataFrame.\n",
      "Try using .loc[row_indexer,col_indexer] = value instead\n",
      "\n",
      "See the caveats in the documentation: http://pandas.pydata.org/pandas-docs/stable/indexing.html#indexing-view-versus-copy\n",
      "  from ipykernel import kernelapp as app\n"
     ]
    },
    {
     "name": "stdout",
     "output_type": "stream",
     "text": [
      "partyId\n",
      "partyIdStrength\n",
      "countryOfBirth\n",
      "bestOnMII\n",
      "regretsIHaveAFew\n",
      "reasonForVote\n",
      "voteMethoda\n",
      "participation_1\n",
      "participation_2\n",
      "participation_3\n",
      "participation_4\n",
      "participation_5\n",
      "euRefDoOver\n",
      "euRefVote\n",
      "expectGoodConductGeneral\n",
      "polAttention\n",
      "pidWeThey\n",
      "pidInterestedOthers\n",
      "pidCriticiseParty\n",
      "pidCommonParty\n",
      "pidRuinDay\n",
      "pidConnected\n",
      "pidMyParty\n",
      "pidPraiseGood\n",
      "electionInterest\n",
      "likeMay\n",
      "likeCorbyn\n",
      "likeFarron\n",
      "likeSturgeon\n",
      "likeNuttall\n",
      "likeLucas\n",
      "likeCon\n",
      "likeLab\n",
      "likeLD\n",
      "likeSNP\n",
      "likeUKIP\n",
      "likeGrn\n",
      "conUnited\n",
      "labUnited\n",
      "ldUnited\n",
      "ukipUnited\n",
      "grnUnited\n",
      "econPersonalRetro\n",
      "econGenRetro\n",
      "EUIntegrationSelf\n",
      "EUIntegrationCon\n",
      "EUIntegrationLab\n",
      "EUIntegrationLD\n",
      "EUIntegrationUKIP\n",
      "EUIntegrationGreen\n",
      "leftRight\n",
      "satDemUK\n",
      "satDemEng\n",
      "controlImmig\n",
      "negotiationSpecifics_1\n",
      "negotiationSpecifics_2\n",
      "negotiationSpecifics_3\n",
      "negotiationSpecifics_none\n",
      "expectAccess\n",
      "handleEUNegotiate\n",
      "euPriorityBalance\n",
      "effectsEUUnemployment\n",
      "effectsEUTrade\n",
      "effectsEUImmigration\n",
      "effectsEUTerror\n",
      "euLeaveVoice\n",
      "effectsEUWorkers\n",
      "effectsEUEcon\n",
      "effectsEUFinance\n",
      "effectsEUNHS\n",
      "euLeaveBigBusiness\n",
      "euLeaveScotIndep\n",
      "UKsovereigntyPost\n",
      "asylumMore\n",
      "euMore\n",
      "noneuMore\n",
      "studentsMore\n",
      "familiesMore\n",
      "immigEcon\n",
      "immigCultural\n",
      "ptvCon\n",
      "ptvLab\n",
      "ptvLD\n",
      "ptvUKIP\n",
      "ptvGrn\n",
      "euID\n",
      "euID1\n",
      "euID2\n",
      "euID3\n",
      "euID4\n",
      "euID6\n",
      "euID7\n",
      "prefTradeoff\n",
      "beliefTradeoff\n",
      "redistSelf\n",
      "redistCon\n",
      "redistLab\n",
      "redistLD\n",
      "redistUKIP\n",
      "redistGreen\n",
      "natSecuritySelf\n",
      "natSecurityCon\n",
      "natSecurityLab\n",
      "natSecurityLD\n",
      "natSecurityUKIP\n",
      "natSecurityGrn\n",
      "partyContact1\n",
      "partyContactCon\n",
      "partyContactLab\n",
      "partyContactLD\n",
      "partyContactUKIP\n",
      "partyContactGrn\n",
      "partyContactOtherParty\n",
      "partyContactNone\n",
      "partyContactDK\n",
      "partyContactLab_1\n",
      "partyContactLab_2\n",
      "partyContactLab_3\n",
      "partyContactLab_4\n",
      "partyContactLab_5\n",
      "partyContactLab_6\n",
      "partyContactLab_7\n",
      "pContactEday_10\n",
      "pContactEday_2\n",
      "pContactEday_99\n",
      "infoSourceTV\n",
      "infoSourcePaper\n",
      "infoSourceRadio\n",
      "infoSourceInternet\n",
      "infoSourcePeople\n",
      "registered\n",
      "socialCare\n",
      "blackEquality\n",
      "policeCuts\n",
      "integrityMay\n",
      "integrityCorbyn\n",
      "competentMay\n",
      "competentCorbyn\n",
      "competentFarron\n",
      "competentFarage\n",
      "competentLucas\n",
      "likeRudd\n",
      "likeBoris\n",
      "likeDavis\n",
      "changeView\n",
      "anyUni\n",
      "profile_work_stat\n",
      "ageGroup\n",
      "gender\n",
      "housing\n",
      "gor\n",
      "education\n",
      "profile_education_age\n",
      "profile_ethnicity\n",
      "profile_marital_stat\n",
      "profile_newspaper\n",
      "profile_socialgrade_cie\n",
      "profile_religion\n",
      "profile_gross_personal\n",
      "profile_household_children\n",
      "profile_religion_denom\n",
      "profile_eurefvote\n",
      "profile_eurefturnout\n",
      "personality_agreeableness\n",
      "personality_conscientiousness\n",
      "personality_extraversion\n",
      "personality_neuroticism\n",
      "personality_openness\n",
      "lr_scale\n",
      "al_scale\n",
      "headHouseholdPast\n"
     ]
    }
   ],
   "source": [
    "BES_logit = BES_eng_lab[[y_var]].apply(lambda x: x.astype('int'))\n",
    "BES_eng_lab[\"headHouseholdPast\"] = BES_eng_lab[\"headHouseholdPast\"].astype('category')\n",
    "\n",
    "for var in var_list:\n",
    "    print(var)\n",
    "    vtype = var_type.loc[ var ][\"type\"]\n",
    "    if vtype==3 or var == \"euRefVote\": # non-ordinal categorical\n",
    "        sorted_categories = list( BES_eng_lab[var].value_counts().index )\n",
    "        relative_to = \"(\" + str(sorted_categories[0])[0:10] + \")\"\n",
    "        dummies = pd.get_dummies( BES_eng_lab[var].cat.remove_unused_categories() , dummy_na = BES_eng_lab[var].isnull().any(), prefix = var + relative_to )\n",
    "        dummies.drop( var + relative_to + \"_\" + str(sorted_categories[0]), axis=1, inplace=True )\n",
    "        BES_logit = pd.concat( [ BES_logit, dummies ] , axis=1)\n",
    "        \n",
    "    elif vtype==1: # ordinal categorical\n",
    "        BES_logit[var] = BES_eng_lab[var]\n",
    "   \n",
    "        # if any nans, create var_nan\n",
    "#         if BES_eng_lab[var].isnull().any():\n",
    "#             BES_logit[var+\"_nan\"] = BES_eng_lab[var].isnull().astype('int')\n",
    "\n",
    "        # if any don't knows, create a don't know\n",
    "        if BES_eng_lab[var].apply(lambda x: x in Weasel_answers).any():\n",
    "#             BES_logit[var+\"_dk\"] = BES_eng_lab[var].apply(lambda x: x in [\"Don't know\"]).astype('int')\n",
    "            weasel_cats = [x for x in Weasel_answers if x in BES_logit[var].cat.categories]\n",
    "            BES_logit[var] = BES_logit[var].cat.remove_categories(weasel_cats)\n",
    "            \n",
    "        BES_logit[var] = BES_logit[var].cat.codes\n",
    "        BES_logit[var] = BES_logit[var].replace(-1,0)\n",
    "#         BES_logit[var] = BES_logit[var].replace(np.nan,BES_logit[var].dropna().mean())\n",
    "        \n",
    "        # should the baseline be 0 or mean?\n",
    "        # this stuff is going to be normalised\n",
    "            \n",
    "          \n",
    "            \n",
    "        \n",
    "        \n",
    "\n",
    "# BES_logit\n",
    "# BES_eng_lab[var_list]\n",
    "\n",
    "x_vars = list(BES_logit.columns)\n",
    "x_vars.remove(y_var)\n",
    "\n",
    "X = BES_logit[x_vars]\n",
    "y = BES_logit[y_var]\n",
    "\n",
    "# X_normalized = \n",
    "X = pd.DataFrame( preprocessing.normalize(X, norm='l2'), columns = X.columns, index = X.index)"
   ]
  },
  {
   "cell_type": "code",
   "execution_count": 357,
   "metadata": {},
   "outputs": [
    {
     "data": {
      "text/html": [
       "<div>\n",
       "<style>\n",
       "    .dataframe thead tr:only-child th {\n",
       "        text-align: right;\n",
       "    }\n",
       "\n",
       "    .dataframe thead th {\n",
       "        text-align: left;\n",
       "    }\n",
       "\n",
       "    .dataframe tbody tr th {\n",
       "        vertical-align: top;\n",
       "    }\n",
       "</style>\n",
       "<table border=\"1\" class=\"dataframe\">\n",
       "  <thead>\n",
       "    <tr style=\"text-align: right;\">\n",
       "      <th></th>\n",
       "      <th>0</th>\n",
       "    </tr>\n",
       "  </thead>\n",
       "  <tbody>\n",
       "    <tr>\n",
       "      <th>partyContact1</th>\n",
       "      <td>49.569603</td>\n",
       "    </tr>\n",
       "    <tr>\n",
       "      <th>likeLab</th>\n",
       "      <td>26.351421</td>\n",
       "    </tr>\n",
       "    <tr>\n",
       "      <th>pContactEday_10</th>\n",
       "      <td>25.915836</td>\n",
       "    </tr>\n",
       "    <tr>\n",
       "      <th>partyContactLab</th>\n",
       "      <td>22.815119</td>\n",
       "    </tr>\n",
       "    <tr>\n",
       "      <th>electionInterest</th>\n",
       "      <td>19.658853</td>\n",
       "    </tr>\n",
       "    <tr>\n",
       "      <th>satDemUK</th>\n",
       "      <td>18.628209</td>\n",
       "    </tr>\n",
       "    <tr>\n",
       "      <th>satDemEng</th>\n",
       "      <td>17.886589</td>\n",
       "    </tr>\n",
       "    <tr>\n",
       "      <th>likeCorbyn</th>\n",
       "      <td>17.729245</td>\n",
       "    </tr>\n",
       "    <tr>\n",
       "      <th>ptvLab</th>\n",
       "      <td>17.515593</td>\n",
       "    </tr>\n",
       "    <tr>\n",
       "      <th>polAttention</th>\n",
       "      <td>16.979337</td>\n",
       "    </tr>\n",
       "    <tr>\n",
       "      <th>ageGroup</th>\n",
       "      <td>16.427767</td>\n",
       "    </tr>\n",
       "    <tr>\n",
       "      <th>profile_eurefturnout</th>\n",
       "      <td>15.762654</td>\n",
       "    </tr>\n",
       "    <tr>\n",
       "      <th>policeCuts</th>\n",
       "      <td>14.288564</td>\n",
       "    </tr>\n",
       "    <tr>\n",
       "      <th>immigEcon</th>\n",
       "      <td>13.790367</td>\n",
       "    </tr>\n",
       "    <tr>\n",
       "      <th>prefTradeoff</th>\n",
       "      <td>13.280711</td>\n",
       "    </tr>\n",
       "    <tr>\n",
       "      <th>euMore</th>\n",
       "      <td>12.968517</td>\n",
       "    </tr>\n",
       "    <tr>\n",
       "      <th>competentCorbyn</th>\n",
       "      <td>12.844424</td>\n",
       "    </tr>\n",
       "    <tr>\n",
       "      <th>beliefTradeoff</th>\n",
       "      <td>12.816495</td>\n",
       "    </tr>\n",
       "    <tr>\n",
       "      <th>integrityCorbyn</th>\n",
       "      <td>12.025063</td>\n",
       "    </tr>\n",
       "    <tr>\n",
       "      <th>immigCultural</th>\n",
       "      <td>11.491653</td>\n",
       "    </tr>\n",
       "    <tr>\n",
       "      <th>likeGrn</th>\n",
       "      <td>11.229754</td>\n",
       "    </tr>\n",
       "    <tr>\n",
       "      <th>housing(Own the le)_nan</th>\n",
       "      <td>10.898844</td>\n",
       "    </tr>\n",
       "    <tr>\n",
       "      <th>studentsMore</th>\n",
       "      <td>10.509557</td>\n",
       "    </tr>\n",
       "    <tr>\n",
       "      <th>pContactEday_2</th>\n",
       "      <td>10.507986</td>\n",
       "    </tr>\n",
       "    <tr>\n",
       "      <th>blackEquality</th>\n",
       "      <td>10.164384</td>\n",
       "    </tr>\n",
       "    <tr>\n",
       "      <th>likeLD</th>\n",
       "      <td>10.053047</td>\n",
       "    </tr>\n",
       "    <tr>\n",
       "      <th>noneuMore</th>\n",
       "      <td>10.006405</td>\n",
       "    </tr>\n",
       "    <tr>\n",
       "      <th>partyContactLab_2</th>\n",
       "      <td>9.289237</td>\n",
       "    </tr>\n",
       "    <tr>\n",
       "      <th>profile_education_age</th>\n",
       "      <td>8.876108</td>\n",
       "    </tr>\n",
       "    <tr>\n",
       "      <th>familiesMore</th>\n",
       "      <td>8.649824</td>\n",
       "    </tr>\n",
       "    <tr>\n",
       "      <th>...</th>\n",
       "      <td>...</td>\n",
       "    </tr>\n",
       "    <tr>\n",
       "      <th>profile_newspaper(None)_The Independent</th>\n",
       "      <td>1.130809</td>\n",
       "    </tr>\n",
       "    <tr>\n",
       "      <th>profile_ethnicity(White Brit)_Any other Asian background</th>\n",
       "      <td>1.127977</td>\n",
       "    </tr>\n",
       "    <tr>\n",
       "      <th>education(University)_Nursing qualification (eg SEN, SRN, SCM, RGN)</th>\n",
       "      <td>1.126088</td>\n",
       "    </tr>\n",
       "    <tr>\n",
       "      <th>countryOfBirth(England)_Other: European Union member country</th>\n",
       "      <td>1.125271</td>\n",
       "    </tr>\n",
       "    <tr>\n",
       "      <th>education(University)_Youth training certificate/skillseekers</th>\n",
       "      <td>1.115994</td>\n",
       "    </tr>\n",
       "    <tr>\n",
       "      <th>profile_religion(No, I do n)_Yes  Orthodox Christian</th>\n",
       "      <td>1.106830</td>\n",
       "    </tr>\n",
       "    <tr>\n",
       "      <th>profile_newspaper(None)_The Daily Star / The Daily Star of Scotland</th>\n",
       "      <td>1.104541</td>\n",
       "    </tr>\n",
       "    <tr>\n",
       "      <th>partyContactOtherParty</th>\n",
       "      <td>1.103059</td>\n",
       "    </tr>\n",
       "    <tr>\n",
       "      <th>profile_religion(No, I do n)_Yes - Evangelical  independent/non-denominational (e.g. FIEC, Pioneer, Vineyard, Newfrontiers)</th>\n",
       "      <td>1.100966</td>\n",
       "    </tr>\n",
       "    <tr>\n",
       "      <th>profile_newspaper(None)_The Scotsman</th>\n",
       "      <td>1.100842</td>\n",
       "    </tr>\n",
       "    <tr>\n",
       "      <th>profile_marital_stat(Married)_Separated (after being married)</th>\n",
       "      <td>1.100678</td>\n",
       "    </tr>\n",
       "    <tr>\n",
       "      <th>profile_ethnicity(White Brit)_Black Caribbean</th>\n",
       "      <td>1.095605</td>\n",
       "    </tr>\n",
       "    <tr>\n",
       "      <th>education(University)_onc</th>\n",
       "      <td>1.095506</td>\n",
       "    </tr>\n",
       "    <tr>\n",
       "      <th>profile_newspaper(None)_The Express</th>\n",
       "      <td>1.094100</td>\n",
       "    </tr>\n",
       "    <tr>\n",
       "      <th>profile_newspaper(None)_The Daily Telegraph</th>\n",
       "      <td>1.092534</td>\n",
       "    </tr>\n",
       "    <tr>\n",
       "      <th>headHouseholdPast(1.0)_3.0</th>\n",
       "      <td>1.088400</td>\n",
       "    </tr>\n",
       "    <tr>\n",
       "      <th>education(University)_Scottish Ordinary/ Lower Certificate</th>\n",
       "      <td>1.082017</td>\n",
       "    </tr>\n",
       "    <tr>\n",
       "      <th>profile_ethnicity(White Brit)_Any other mixed background</th>\n",
       "      <td>1.081140</td>\n",
       "    </tr>\n",
       "    <tr>\n",
       "      <th>countryOfBirth(England)_Wales</th>\n",
       "      <td>1.078257</td>\n",
       "    </tr>\n",
       "    <tr>\n",
       "      <th>profile_ethnicity(White Brit)_Other ethnic group</th>\n",
       "      <td>1.075683</td>\n",
       "    </tr>\n",
       "    <tr>\n",
       "      <th>partyId(Labour)_Other</th>\n",
       "      <td>1.071909</td>\n",
       "    </tr>\n",
       "    <tr>\n",
       "      <th>profile_ethnicity(White Brit)_White and Asian</th>\n",
       "      <td>1.069844</td>\n",
       "    </tr>\n",
       "    <tr>\n",
       "      <th>profile_marital_stat(Married)_Civil Partnership</th>\n",
       "      <td>1.068058</td>\n",
       "    </tr>\n",
       "    <tr>\n",
       "      <th>profile_newspaper(None)_The Financial Times</th>\n",
       "      <td>1.065410</td>\n",
       "    </tr>\n",
       "    <tr>\n",
       "      <th>profile_ethnicity(White Brit)_Any other black background</th>\n",
       "      <td>1.064647</td>\n",
       "    </tr>\n",
       "    <tr>\n",
       "      <th>bestOnMII(Labour)_Other party</th>\n",
       "      <td>1.064180</td>\n",
       "    </tr>\n",
       "    <tr>\n",
       "      <th>profile_ethnicity(White Brit)_White and Black Caribbean</th>\n",
       "      <td>1.060408</td>\n",
       "    </tr>\n",
       "    <tr>\n",
       "      <th>countryOfBirth(England)_Northern Ireland</th>\n",
       "      <td>1.055435</td>\n",
       "    </tr>\n",
       "    <tr>\n",
       "      <th>profile_religion(No, I do n)_nan</th>\n",
       "      <td>1.036011</td>\n",
       "    </tr>\n",
       "    <tr>\n",
       "      <th>profile_newspaper(None)_The Herald (Glasgow)</th>\n",
       "      <td>1.028128</td>\n",
       "    </tr>\n",
       "  </tbody>\n",
       "</table>\n",
       "<p>292 rows × 1 columns</p>\n",
       "</div>"
      ],
      "text/plain": [
       "                                                            0\n",
       "partyContact1                                       49.569603\n",
       "likeLab                                             26.351421\n",
       "pContactEday_10                                     25.915836\n",
       "partyContactLab                                     22.815119\n",
       "electionInterest                                    19.658853\n",
       "satDemUK                                            18.628209\n",
       "satDemEng                                           17.886589\n",
       "likeCorbyn                                          17.729245\n",
       "ptvLab                                              17.515593\n",
       "polAttention                                        16.979337\n",
       "ageGroup                                            16.427767\n",
       "profile_eurefturnout                                15.762654\n",
       "policeCuts                                          14.288564\n",
       "immigEcon                                           13.790367\n",
       "prefTradeoff                                        13.280711\n",
       "euMore                                              12.968517\n",
       "competentCorbyn                                     12.844424\n",
       "beliefTradeoff                                      12.816495\n",
       "integrityCorbyn                                     12.025063\n",
       "immigCultural                                       11.491653\n",
       "likeGrn                                             11.229754\n",
       "housing(Own the le)_nan                             10.898844\n",
       "studentsMore                                        10.509557\n",
       "pContactEday_2                                      10.507986\n",
       "blackEquality                                       10.164384\n",
       "likeLD                                              10.053047\n",
       "noneuMore                                           10.006405\n",
       "partyContactLab_2                                    9.289237\n",
       "profile_education_age                                8.876108\n",
       "familiesMore                                         8.649824\n",
       "...                                                       ...\n",
       "profile_newspaper(None)_The Independent              1.130809\n",
       "profile_ethnicity(White Brit)_Any other Asian b...   1.127977\n",
       "education(University)_Nursing qualification (eg...   1.126088\n",
       "countryOfBirth(England)_Other: European Union m...   1.125271\n",
       "education(University)_Youth training certificat...   1.115994\n",
       "profile_religion(No, I do n)_Yes  Orthodox Chr...   1.106830\n",
       "profile_newspaper(None)_The Daily Star / The Da...   1.104541\n",
       "partyContactOtherParty                               1.103059\n",
       "profile_religion(No, I do n)_Yes - Evangelical ...   1.100966\n",
       "profile_newspaper(None)_The Scotsman                 1.100842\n",
       "profile_marital_stat(Married)_Separated (after ...   1.100678\n",
       "profile_ethnicity(White Brit)_Black Caribbean        1.095605\n",
       "education(University)_onc                            1.095506\n",
       "profile_newspaper(None)_The Express                  1.094100\n",
       "profile_newspaper(None)_The Daily Telegraph          1.092534\n",
       "headHouseholdPast(1.0)_3.0                           1.088400\n",
       "education(University)_Scottish Ordinary/ Lower ...   1.082017\n",
       "profile_ethnicity(White Brit)_Any other mixed b...   1.081140\n",
       "countryOfBirth(England)_Wales                        1.078257\n",
       "profile_ethnicity(White Brit)_Other ethnic group     1.075683\n",
       "partyId(Labour)_Other                                1.071909\n",
       "profile_ethnicity(White Brit)_White and Asian        1.069844\n",
       "profile_marital_stat(Married)_Civil Partnership      1.068058\n",
       "profile_newspaper(None)_The Financial Times          1.065410\n",
       "profile_ethnicity(White Brit)_Any other black b...   1.064647\n",
       "bestOnMII(Labour)_Other party                        1.064180\n",
       "profile_ethnicity(White Brit)_White and Black C...   1.060408\n",
       "countryOfBirth(England)_Northern Ireland             1.055435\n",
       "profile_religion(No, I do n)_nan                     1.036011\n",
       "profile_newspaper(None)_The Herald (Glasgow)         1.028128\n",
       "\n",
       "[292 rows x 1 columns]"
      ]
     },
     "execution_count": 357,
     "metadata": {},
     "output_type": "execute_result"
    }
   ],
   "source": [
    "from statsmodels.stats.outliers_influence import variance_inflation_factor  \n",
    "def calculate_vif_(X):\n",
    "    variables = list(X.columns)\n",
    "    vif = {variable:variance_inflation_factor(exog=X.values, exog_idx=ix) for ix,variable in enumerate(list(X.columns))}\n",
    "    return vif\n",
    "\n",
    "vif_df = pd.DataFrame.from_dict( calculate_vif_(X), orient='index' ).sort_values(by=0, ascending=False)\n",
    "vif_df"
   ]
  },
  {
   "cell_type": "code",
   "execution_count": 358,
   "metadata": {},
   "outputs": [
    {
     "data": {
      "text/html": [
       "<div>\n",
       "<style>\n",
       "    .dataframe thead tr:only-child th {\n",
       "        text-align: right;\n",
       "    }\n",
       "\n",
       "    .dataframe thead th {\n",
       "        text-align: left;\n",
       "    }\n",
       "\n",
       "    .dataframe tbody tr th {\n",
       "        vertical-align: top;\n",
       "    }\n",
       "</style>\n",
       "<table border=\"1\" class=\"dataframe\">\n",
       "  <thead>\n",
       "    <tr style=\"text-align: right;\">\n",
       "      <th></th>\n",
       "      <th>0</th>\n",
       "    </tr>\n",
       "  </thead>\n",
       "  <tbody>\n",
       "    <tr>\n",
       "      <th>partyContact1</th>\n",
       "      <td>49.569603</td>\n",
       "    </tr>\n",
       "    <tr>\n",
       "      <th>likeLab</th>\n",
       "      <td>26.351421</td>\n",
       "    </tr>\n",
       "    <tr>\n",
       "      <th>pContactEday_10</th>\n",
       "      <td>25.915836</td>\n",
       "    </tr>\n",
       "    <tr>\n",
       "      <th>partyContactLab</th>\n",
       "      <td>22.815119</td>\n",
       "    </tr>\n",
       "    <tr>\n",
       "      <th>electionInterest</th>\n",
       "      <td>19.658853</td>\n",
       "    </tr>\n",
       "    <tr>\n",
       "      <th>satDemUK</th>\n",
       "      <td>18.628209</td>\n",
       "    </tr>\n",
       "    <tr>\n",
       "      <th>satDemEng</th>\n",
       "      <td>17.886589</td>\n",
       "    </tr>\n",
       "    <tr>\n",
       "      <th>likeCorbyn</th>\n",
       "      <td>17.729245</td>\n",
       "    </tr>\n",
       "    <tr>\n",
       "      <th>ptvLab</th>\n",
       "      <td>17.515593</td>\n",
       "    </tr>\n",
       "    <tr>\n",
       "      <th>polAttention</th>\n",
       "      <td>16.979337</td>\n",
       "    </tr>\n",
       "    <tr>\n",
       "      <th>ageGroup</th>\n",
       "      <td>16.427767</td>\n",
       "    </tr>\n",
       "    <tr>\n",
       "      <th>profile_eurefturnout</th>\n",
       "      <td>15.762654</td>\n",
       "    </tr>\n",
       "    <tr>\n",
       "      <th>policeCuts</th>\n",
       "      <td>14.288564</td>\n",
       "    </tr>\n",
       "    <tr>\n",
       "      <th>immigEcon</th>\n",
       "      <td>13.790367</td>\n",
       "    </tr>\n",
       "    <tr>\n",
       "      <th>prefTradeoff</th>\n",
       "      <td>13.280711</td>\n",
       "    </tr>\n",
       "    <tr>\n",
       "      <th>euMore</th>\n",
       "      <td>12.968517</td>\n",
       "    </tr>\n",
       "    <tr>\n",
       "      <th>competentCorbyn</th>\n",
       "      <td>12.844424</td>\n",
       "    </tr>\n",
       "    <tr>\n",
       "      <th>beliefTradeoff</th>\n",
       "      <td>12.816495</td>\n",
       "    </tr>\n",
       "    <tr>\n",
       "      <th>integrityCorbyn</th>\n",
       "      <td>12.025063</td>\n",
       "    </tr>\n",
       "    <tr>\n",
       "      <th>immigCultural</th>\n",
       "      <td>11.491653</td>\n",
       "    </tr>\n",
       "    <tr>\n",
       "      <th>likeGrn</th>\n",
       "      <td>11.229754</td>\n",
       "    </tr>\n",
       "    <tr>\n",
       "      <th>housing(Own the le)_nan</th>\n",
       "      <td>10.898844</td>\n",
       "    </tr>\n",
       "    <tr>\n",
       "      <th>studentsMore</th>\n",
       "      <td>10.509557</td>\n",
       "    </tr>\n",
       "    <tr>\n",
       "      <th>pContactEday_2</th>\n",
       "      <td>10.507986</td>\n",
       "    </tr>\n",
       "    <tr>\n",
       "      <th>blackEquality</th>\n",
       "      <td>10.164384</td>\n",
       "    </tr>\n",
       "    <tr>\n",
       "      <th>likeLD</th>\n",
       "      <td>10.053047</td>\n",
       "    </tr>\n",
       "    <tr>\n",
       "      <th>noneuMore</th>\n",
       "      <td>10.006405</td>\n",
       "    </tr>\n",
       "    <tr>\n",
       "      <th>partyContactLab_2</th>\n",
       "      <td>9.289237</td>\n",
       "    </tr>\n",
       "    <tr>\n",
       "      <th>profile_education_age</th>\n",
       "      <td>8.876108</td>\n",
       "    </tr>\n",
       "    <tr>\n",
       "      <th>familiesMore</th>\n",
       "      <td>8.649824</td>\n",
       "    </tr>\n",
       "    <tr>\n",
       "      <th>profile_religion_denom(None)_nan</th>\n",
       "      <td>8.576321</td>\n",
       "    </tr>\n",
       "    <tr>\n",
       "      <th>pidConnected</th>\n",
       "      <td>8.395088</td>\n",
       "    </tr>\n",
       "    <tr>\n",
       "      <th>pidInterestedOthers</th>\n",
       "      <td>8.378403</td>\n",
       "    </tr>\n",
       "    <tr>\n",
       "      <th>effectsEUTerror</th>\n",
       "      <td>8.037146</td>\n",
       "    </tr>\n",
       "    <tr>\n",
       "      <th>pidPraiseGood</th>\n",
       "      <td>7.963301</td>\n",
       "    </tr>\n",
       "    <tr>\n",
       "      <th>euLeaveBigBusiness</th>\n",
       "      <td>7.920550</td>\n",
       "    </tr>\n",
       "    <tr>\n",
       "      <th>effectsEUUnemployment</th>\n",
       "      <td>7.644789</td>\n",
       "    </tr>\n",
       "    <tr>\n",
       "      <th>EUIntegrationUKIP</th>\n",
       "      <td>7.438611</td>\n",
       "    </tr>\n",
       "    <tr>\n",
       "      <th>asylumMore</th>\n",
       "      <td>7.360162</td>\n",
       "    </tr>\n",
       "    <tr>\n",
       "      <th>grnUnited</th>\n",
       "      <td>7.149523</td>\n",
       "    </tr>\n",
       "    <tr>\n",
       "      <th>likeLucas</th>\n",
       "      <td>6.910743</td>\n",
       "    </tr>\n",
       "    <tr>\n",
       "      <th>redistCon</th>\n",
       "      <td>6.785586</td>\n",
       "    </tr>\n",
       "    <tr>\n",
       "      <th>effectsEUWorkers</th>\n",
       "      <td>6.732851</td>\n",
       "    </tr>\n",
       "    <tr>\n",
       "      <th>effectsEUEcon</th>\n",
       "      <td>6.731537</td>\n",
       "    </tr>\n",
       "    <tr>\n",
       "      <th>ldUnited</th>\n",
       "      <td>6.291654</td>\n",
       "    </tr>\n",
       "    <tr>\n",
       "      <th>effectsEUImmigration</th>\n",
       "      <td>6.262421</td>\n",
       "    </tr>\n",
       "    <tr>\n",
       "      <th>ptvGrn</th>\n",
       "      <td>6.241698</td>\n",
       "    </tr>\n",
       "    <tr>\n",
       "      <th>pidCommonParty</th>\n",
       "      <td>6.205421</td>\n",
       "    </tr>\n",
       "    <tr>\n",
       "      <th>euLeaveVoice</th>\n",
       "      <td>6.158737</td>\n",
       "    </tr>\n",
       "    <tr>\n",
       "      <th>effectsEUFinance</th>\n",
       "      <td>6.129096</td>\n",
       "    </tr>\n",
       "  </tbody>\n",
       "</table>\n",
       "</div>"
      ],
      "text/plain": [
       "                                          0\n",
       "partyContact1                     49.569603\n",
       "likeLab                           26.351421\n",
       "pContactEday_10                   25.915836\n",
       "partyContactLab                   22.815119\n",
       "electionInterest                  19.658853\n",
       "satDemUK                          18.628209\n",
       "satDemEng                         17.886589\n",
       "likeCorbyn                        17.729245\n",
       "ptvLab                            17.515593\n",
       "polAttention                      16.979337\n",
       "ageGroup                          16.427767\n",
       "profile_eurefturnout              15.762654\n",
       "policeCuts                        14.288564\n",
       "immigEcon                         13.790367\n",
       "prefTradeoff                      13.280711\n",
       "euMore                            12.968517\n",
       "competentCorbyn                   12.844424\n",
       "beliefTradeoff                    12.816495\n",
       "integrityCorbyn                   12.025063\n",
       "immigCultural                     11.491653\n",
       "likeGrn                           11.229754\n",
       "housing(Own the le)_nan           10.898844\n",
       "studentsMore                      10.509557\n",
       "pContactEday_2                    10.507986\n",
       "blackEquality                     10.164384\n",
       "likeLD                            10.053047\n",
       "noneuMore                         10.006405\n",
       "partyContactLab_2                  9.289237\n",
       "profile_education_age              8.876108\n",
       "familiesMore                       8.649824\n",
       "profile_religion_denom(None)_nan   8.576321\n",
       "pidConnected                       8.395088\n",
       "pidInterestedOthers                8.378403\n",
       "effectsEUTerror                    8.037146\n",
       "pidPraiseGood                      7.963301\n",
       "euLeaveBigBusiness                 7.920550\n",
       "effectsEUUnemployment              7.644789\n",
       "EUIntegrationUKIP                  7.438611\n",
       "asylumMore                         7.360162\n",
       "grnUnited                          7.149523\n",
       "likeLucas                          6.910743\n",
       "redistCon                          6.785586\n",
       "effectsEUWorkers                   6.732851\n",
       "effectsEUEcon                      6.731537\n",
       "ldUnited                           6.291654\n",
       "effectsEUImmigration               6.262421\n",
       "ptvGrn                             6.241698\n",
       "pidCommonParty                     6.205421\n",
       "euLeaveVoice                       6.158737\n",
       "effectsEUFinance                   6.129096"
      ]
     },
     "execution_count": 358,
     "metadata": {},
     "output_type": "execute_result"
    }
   ],
   "source": [
    "vif_df[0:50]"
   ]
  },
  {
   "cell_type": "code",
   "execution_count": null,
   "metadata": {},
   "outputs": [],
   "source": []
  },
  {
   "cell_type": "code",
   "execution_count": 359,
   "metadata": {},
   "outputs": [
    {
     "data": {
      "text/plain": [
       "LogisticRegression(C=100000.0, class_weight=None, dual=False,\n",
       "          fit_intercept=True, intercept_scaling=1, max_iter=100,\n",
       "          multi_class='ovr', n_jobs=1, penalty='l2', random_state=None,\n",
       "          solver='liblinear', tol=0.0001, verbose=0, warm_start=False)"
      ]
     },
     "execution_count": 359,
     "metadata": {},
     "output_type": "execute_result"
    }
   ],
   "source": [
    "\n",
    "logreg = LogisticRegression(C=1e5)\n",
    "# we create an instance of Neighbours Classifier and fit the data.\n",
    "logreg.fit(X, y, sample_weight=sample_weight)\n",
    "# logreg.coef_\n"
   ]
  },
  {
   "cell_type": "code",
   "execution_count": 360,
   "metadata": {},
   "outputs": [
    {
     "data": {
      "text/plain": [
       "array([-2.08729452])"
      ]
     },
     "execution_count": 360,
     "metadata": {},
     "output_type": "execute_result"
    }
   ],
   "source": [
    "logreg.intercept_"
   ]
  },
  {
   "cell_type": "code",
   "execution_count": 361,
   "metadata": {},
   "outputs": [
    {
     "data": {
      "text/plain": [
       "{'EUIntegrationCon': 1.5412403892553497,\n",
       " 'EUIntegrationGreen': -0.036399676799498779,\n",
       " 'EUIntegrationLD': -1.0640623598477756,\n",
       " 'EUIntegrationLab': -0.90125366564155962,\n",
       " 'EUIntegrationSelf': 1.1564687157133775,\n",
       " 'EUIntegrationUKIP': 0.64860549378314469,\n",
       " 'UKsovereigntyPost': 0.064329401318523396,\n",
       " 'ageGroup': 11.342335049028767,\n",
       " 'al_scale': -0.061627378563309153,\n",
       " 'anyUni': 2.320610298629513,\n",
       " 'asylumMore': -1.4172973890641893,\n",
       " 'beliefTradeoff': -4.0363723279938881,\n",
       " 'bestOnMII(Labour)_Conservative': 9.8695205170377722,\n",
       " \"bestOnMII(Labour)_Don't know\": -0.78763577287195985,\n",
       " 'bestOnMII(Labour)_Green Party': 45.29770649675563,\n",
       " 'bestOnMII(Labour)_Liberal Democrat': -14.300860601147109,\n",
       " 'bestOnMII(Labour)_No party is best able to handle this issue': 8.7391636745729961,\n",
       " 'bestOnMII(Labour)_Other party': -27.254324958904089,\n",
       " 'bestOnMII(Labour)_United Kingdom Independence Party (UKIP)': -15.758858304622018,\n",
       " 'bestOnMII(Labour)_nan': -14.016011524009498,\n",
       " 'blackEquality': 1.2150539908804994,\n",
       " 'changeView': -4.3613793631370292,\n",
       " 'competentCorbyn': -0.92084520099980161,\n",
       " 'competentFarage': -1.3276028923518788,\n",
       " 'competentFarron': 0.077587681670289954,\n",
       " 'competentLucas': -0.92477881424899644,\n",
       " 'competentMay': 3.0340015455620399,\n",
       " 'conUnited': 2.7839286908919481,\n",
       " 'controlImmig': 0.3174897495100899,\n",
       " 'countryOfBirth(England)_Northern Ireland': -88.787954485209752,\n",
       " 'countryOfBirth(England)_Other: Commonwealth member country': 21.631967820047912,\n",
       " 'countryOfBirth(England)_Other: European Union member country': -52.400551483563412,\n",
       " 'countryOfBirth(England)_Other: Rest of world': -17.621688730030119,\n",
       " 'countryOfBirth(England)_Prefer not to answer': -53.892875745409967,\n",
       " 'countryOfBirth(England)_Republic of Ireland': 24.024575290194917,\n",
       " 'countryOfBirth(England)_Scotland': -20.385220834078883,\n",
       " 'countryOfBirth(England)_Wales': -3.739471266036281,\n",
       " 'countryOfBirth(England)_nan': -15.962690752315568,\n",
       " 'econGenRetro': 0.27318062278454919,\n",
       " 'econPersonalRetro': 2.845229438190918,\n",
       " 'education(University)_CSE grade 1, GCE O level, GCSE, School Certificate': -18.420623079246063,\n",
       " 'education(University)_CSE grades 2-5': -20.095863144585103,\n",
       " 'education(University)_City and Guild certificate': -6.6517216926445917,\n",
       " 'education(University)_City and Guild certificate - advanced': -46.763315099432049,\n",
       " 'education(University)_Clerical and commercial': -29.8942035992544,\n",
       " \"education(University)_Don't know\": -24.658681119638612,\n",
       " 'education(University)_GCE A level or Higher Certificate': -6.8240432937748405,\n",
       " 'education(University)_No formal qualifications': -19.45044216543851,\n",
       " 'education(University)_Nursing qualification (eg SEN, SRN, SCM, RGN)': -4.0295543446506912,\n",
       " 'education(University)_Other technical, professional or higher qualification': -2.4860947089173995,\n",
       " 'education(University)_Prefer not to say': -7.9995570881947433,\n",
       " 'education(University)_Recognised trade apprenticeship completed': 30.642757123961179,\n",
       " 'education(University)_Scottish Higher Certificate': 15.165206176716396,\n",
       " 'education(University)_Scottish Ordinary/ Lower Certificate': 111.93306989557745,\n",
       " 'education(University)_Teaching qualification (not degree)': -36.137154210034069,\n",
       " 'education(University)_University diploma': 5.5802620185862075,\n",
       " 'education(University)_University or CNAA higher degree (eg M.Sc, Ph.D)': 15.254892044037934,\n",
       " 'education(University)_Youth training certificate/skillseekers': 25.679532619033449,\n",
       " 'education(University)_onc': -35.97240267157504,\n",
       " 'effectsEUEcon': 0.35520677929039191,\n",
       " 'effectsEUFinance': -4.8059085715550012,\n",
       " 'effectsEUImmigration': 5.5572118177505541,\n",
       " 'effectsEUNHS': 0.99760163434578675,\n",
       " 'effectsEUTerror': 3.7039239517576088,\n",
       " 'effectsEUTrade': 3.7399850826065055,\n",
       " 'effectsEUUnemployment': -1.9754953380413665,\n",
       " 'effectsEUWorkers': -5.7264768732559297,\n",
       " 'electionInterest': 3.1535883116856405,\n",
       " 'euLeaveBigBusiness': -1.173226043435226,\n",
       " 'euLeaveScotIndep': -2.558733300302638,\n",
       " 'euLeaveVoice': 0.42595431102006243,\n",
       " 'euMore': -1.5348641711232294,\n",
       " 'euPriorityBalance': 0.15583253615671092,\n",
       " 'euRefDoOver': -9.7527408368804256,\n",
       " \"euRefVote(Stay/remai)_Don't know\": -3.2013065469432123,\n",
       " 'euRefVote(Stay/remai)_I would/will not vote': -31.812638442834885,\n",
       " 'euRefVote(Stay/remai)_Leave the EU': -17.027430043489556,\n",
       " 'expectAccess': 1.3634178167244,\n",
       " 'expectGoodConductGeneral': -0.08090977290232676,\n",
       " 'familiesMore': 0.96569435887487898,\n",
       " 'gender': 9.4800511924591504,\n",
       " 'gor(North West)_East Midlands': -13.188313409472112,\n",
       " 'gor(North West)_East of England': 1.247542398351444,\n",
       " 'gor(North West)_London': 18.266991098274421,\n",
       " 'gor(North West)_North East': -10.466536629761633,\n",
       " 'gor(North West)_South East': -11.010331670749174,\n",
       " 'gor(North West)_South West': -11.269967557817422,\n",
       " 'gor(North West)_West Midlands': -12.887241050165484,\n",
       " 'gor(North West)_Yorkshire and the Humber': -5.189243151751862,\n",
       " 'grnUnited': 4.264930633808004,\n",
       " 'handleEUNegotiate': 3.4967759820914557,\n",
       " 'headHouseholdPast(1.0)_2.0': -8.9980983387902,\n",
       " 'headHouseholdPast(1.0)_3.0': 44.120975033192018,\n",
       " 'headHouseholdPast(1.0)_4.0': -4.2145867515652711,\n",
       " 'headHouseholdPast(1.0)_9999.0': -0.576780896497322,\n",
       " 'housing(Own the le)_Buying leasehold/freehold on a mortgage': 2.167303850069727,\n",
       " \"housing(Own the le)_Don't know\": -34.397014858824683,\n",
       " 'housing(Own the le)_It belongs to a Housing Association': 22.331782005539051,\n",
       " 'housing(Own the le)_Rented from local authority': -10.427030921354705,\n",
       " 'housing(Own the le)_Rented from private landlord': -23.584681959312739,\n",
       " 'housing(Own the le)_nan': -7.8700910627895029,\n",
       " 'immigCultural': 0.25056238523570817,\n",
       " 'immigEcon': -1.2386673573297671,\n",
       " 'infoSourceInternet': -0.034389063836088724,\n",
       " 'infoSourcePaper': -3.9034078695354988,\n",
       " 'infoSourcePeople': 4.5760209619377497,\n",
       " 'infoSourceRadio': 2.078177993959299,\n",
       " 'infoSourceTV': -3.549143493295825,\n",
       " 'integrityCorbyn': 1.9263797542346759,\n",
       " 'integrityMay': -0.84673079977835608,\n",
       " 'labUnited': -1.0892718706498523,\n",
       " 'ldUnited': 3.7024044029935004,\n",
       " 'leftRight': 1.5750180777164233,\n",
       " 'likeBoris': 1.6784430611159957,\n",
       " 'likeCon': -0.038132103975334959,\n",
       " 'likeCorbyn': 0.28071637219037271,\n",
       " 'likeDavis': -2.5665035930009208,\n",
       " 'likeFarron': 2.4253289209485955,\n",
       " 'likeGrn': -1.8717393282381736,\n",
       " 'likeLD': -1.7190660863395395,\n",
       " 'likeLab': 5.88995018398401,\n",
       " 'likeLucas': 2.9835887232505129,\n",
       " 'likeMay': -1.9252935850410007,\n",
       " 'likeNuttall': -0.57041963129132622,\n",
       " 'likeRudd': 2.0391652231288551,\n",
       " 'likeSNP': 1.413141176003625,\n",
       " 'likeSturgeon': -0.65330334715905625,\n",
       " 'likeUKIP': -0.7505833917678727,\n",
       " 'lr_scale': -0.28654181733815759,\n",
       " 'natSecurityCon': 0.65704255035294845,\n",
       " 'natSecurityGrn': 0.13512612970274857,\n",
       " 'natSecurityLD': 0.019153381183652004,\n",
       " 'natSecurityLab': -0.022498723219259543,\n",
       " 'natSecuritySelf': -2.0557761358035935,\n",
       " 'natSecurityUKIP': -1.2271824453050011,\n",
       " 'negotiationSpecifics_1': -14.602961901032,\n",
       " 'negotiationSpecifics_2': 17.141442282628063,\n",
       " 'negotiationSpecifics_3': 2.8192498429134325,\n",
       " 'negotiationSpecifics_none': -19.997240794665924,\n",
       " 'noneuMore': 1.3809014626490976,\n",
       " 'pContactEday_10': 13.603926501426598,\n",
       " 'pContactEday_2': 5.8495109035251014,\n",
       " 'pContactEday_99': 26.786592320911467,\n",
       " 'participation_1': 5.2099316168634733,\n",
       " 'participation_2': 3.2086093120015819,\n",
       " 'participation_3': -2.6232250348857158,\n",
       " 'participation_4': 3.7996352057098681,\n",
       " 'participation_5': -19.032800055610195,\n",
       " 'partyContact1': 7.0013461387717273,\n",
       " 'partyContactCon': 4.2483865742176778,\n",
       " 'partyContactDK': -58.319227629020105,\n",
       " 'partyContactGrn': -3.8967167500216013,\n",
       " 'partyContactLD': 4.0851082985514031,\n",
       " 'partyContactLab': -37.396930408690672,\n",
       " 'partyContactLab_1': 54.439638211655165,\n",
       " 'partyContactLab_2': 35.700937816912266,\n",
       " 'partyContactLab_3': 13.410613578022389,\n",
       " 'partyContactLab_4': -14.04701993174938,\n",
       " 'partyContactLab_5': 0.92592505323733576,\n",
       " 'partyContactLab_6': 11.643184069170832,\n",
       " 'partyContactLab_7': 6.3847342926900339,\n",
       " 'partyContactNone': 14.616345188481375,\n",
       " 'partyContactOtherParty': 16.294656758450632,\n",
       " 'partyContactUKIP': 2.1048005604652222,\n",
       " 'partyId(Labour)_Conservative': 21.352602121096822,\n",
       " \"partyId(Labour)_Don't know\": -10.401274122639322,\n",
       " 'partyId(Labour)_Green Party': -15.337814952335073,\n",
       " 'partyId(Labour)_Liberal Democrat': 15.478497696272658,\n",
       " 'partyId(Labour)_No - none': -2.3919774162656684,\n",
       " 'partyId(Labour)_Other': 17.014045798158282,\n",
       " 'partyId(Labour)_United Kingdom Independence Party (UKIP)': 48.696291285674704,\n",
       " 'partyIdStrength': -3.1393847413072646,\n",
       " 'pidCommonParty': -1.7531166137017349,\n",
       " 'pidConnected': 0.40860058134557548,\n",
       " 'pidCriticiseParty': 6.5141611285657177,\n",
       " 'pidInterestedOthers': 3.558254766065426,\n",
       " 'pidMyParty': -4.6619712962612514,\n",
       " 'pidPraiseGood': -1.1256833870334084,\n",
       " 'pidRuinDay': -2.0068507561580562,\n",
       " 'pidWeThey': -5.112924514613427,\n",
       " 'polAttention': 3.3037428264300766,\n",
       " 'policeCuts': 3.1134230512346512,\n",
       " 'prefTradeoff': 2.0533403853927918,\n",
       " 'profile_education_age': -2.1623458626354046,\n",
       " 'profile_ethnicity(White Brit)_Any other Asian background': -26.207971362848273,\n",
       " 'profile_ethnicity(White Brit)_Any other black background': -94.838792998295716,\n",
       " 'profile_ethnicity(White Brit)_Any other mixed background': -55.213050777148474,\n",
       " 'profile_ethnicity(White Brit)_Any other white background': -29.8364866077989,\n",
       " 'profile_ethnicity(White Brit)_Bangladeshi': -45.654607436660399,\n",
       " 'profile_ethnicity(White Brit)_Black African': 7.949400014900462,\n",
       " 'profile_ethnicity(White Brit)_Black Caribbean': -5.1815952683615221,\n",
       " 'profile_ethnicity(White Brit)_Chinese': -29.737082834505056,\n",
       " 'profile_ethnicity(White Brit)_Indian': -53.781700168689625,\n",
       " 'profile_ethnicity(White Brit)_Other ethnic group': 18.243456357537973,\n",
       " 'profile_ethnicity(White Brit)_Pakistani': -16.776978909538336,\n",
       " 'profile_ethnicity(White Brit)_Prefer not to say': 43.892633484176017,\n",
       " 'profile_ethnicity(White Brit)_White and Asian': 44.81098206493543,\n",
       " 'profile_ethnicity(White Brit)_White and Black African': -0.89961744646224739,\n",
       " 'profile_ethnicity(White Brit)_White and Black Caribbean': -83.820351226235218,\n",
       " 'profile_eurefturnout': 67.618080499147766,\n",
       " 'profile_eurefvote': 0.34120860501847328,\n",
       " 'profile_gross_personal': -1.892337566249134,\n",
       " 'profile_household_children': 0.91538553358812569,\n",
       " 'profile_marital_stat(Married)_Civil Partnership': -18.918011261590085,\n",
       " 'profile_marital_stat(Married)_Divorced': -24.925696474504431,\n",
       " 'profile_marital_stat(Married)_Living as married': -16.448275669443532,\n",
       " 'profile_marital_stat(Married)_Never married': -6.0975178310560283,\n",
       " 'profile_marital_stat(Married)_Separated (after being married)': -25.631031828516086,\n",
       " 'profile_marital_stat(Married)_Widowed': 30.536673781807657,\n",
       " 'profile_newspaper(None)_Other Newspaper': -3.433919134693812,\n",
       " 'profile_newspaper(None)_Other local daily morning newspaper': 10.777036777887412,\n",
       " 'profile_newspaper(None)_The Daily Mail / The Scottish Daily Mail': 12.809634883099639,\n",
       " 'profile_newspaper(None)_The Daily Star / The Daily Star of Scotland': 25.284575076139635,\n",
       " 'profile_newspaper(None)_The Daily Telegraph': -42.706044775843907,\n",
       " 'profile_newspaper(None)_The Express': 61.34835893540675,\n",
       " 'profile_newspaper(None)_The Financial Times': 25.732617634243184,\n",
       " 'profile_newspaper(None)_The Guardian': -4.3552391075674075,\n",
       " 'profile_newspaper(None)_The Herald (Glasgow)': 121.00841524364851,\n",
       " 'profile_newspaper(None)_The Independent': -8.4791828803021616,\n",
       " 'profile_newspaper(None)_The Mirror / Daily Record': 0.27831486280055695,\n",
       " 'profile_newspaper(None)_The Scotsman': 128.95881010291851,\n",
       " 'profile_newspaper(None)_The Sun': -2.4219614847771385,\n",
       " 'profile_newspaper(None)_The Times': 8.8280365350985885,\n",
       " 'profile_religion(No, I do n)_Prefer not to say': 32.633671342427903,\n",
       " 'profile_religion(No, I do n)_Yes - Baptist': 9.1575734302287746,\n",
       " 'profile_religion(No, I do n)_Yes - Brethren': 21.614779500515528,\n",
       " 'profile_religion(No, I do n)_Yes - Buddhism': 22.227955692377307,\n",
       " 'profile_religion(No, I do n)_Yes - Church of England/Anglican/Episcopal': 3.4937885180667152,\n",
       " 'profile_religion(No, I do n)_Yes - Evangelical \\x96 independent/non-denominational (e.g. FIEC, Pioneer, Vineyard, Newfrontiers)': 51.032673182240906,\n",
       " 'profile_religion(No, I do n)_Yes - Free Presbyterian': 11.083272960633723,\n",
       " 'profile_religion(No, I do n)_Yes - Hinduism': 19.502361566303165,\n",
       " 'profile_religion(No, I do n)_Yes - Islam': -19.249885930337644,\n",
       " 'profile_religion(No, I do n)_Yes - Judaism': 45.722963057336273,\n",
       " 'profile_religion(No, I do n)_Yes - Methodist': 33.96209946576154,\n",
       " 'profile_religion(No, I do n)_Yes - Other': 23.189129235580261,\n",
       " 'profile_religion(No, I do n)_Yes - Pentecostal (e.g. Assemblies of God, Elim Pentecostal Church, New Testament Church of God, Redeemed Christian Chur': -10.558462130604418,\n",
       " 'profile_religion(No, I do n)_Yes - Presbyterian/Church of Scotland': -18.901111953210492,\n",
       " 'profile_religion(No, I do n)_Yes - Roman Catholic': -5.3147458125389671,\n",
       " 'profile_religion(No, I do n)_Yes - Sikhism': 35.056107042949691,\n",
       " 'profile_religion(No, I do n)_Yes - United Reformed Church': -29.529623075546642,\n",
       " 'profile_religion(No, I do n)_Yes \\x96 Orthodox Christian': 20.521255693961539,\n",
       " 'profile_religion(No, I do n)_nan': -15.725651000118399,\n",
       " 'profile_religion_denom(None)_Baptist': 50.994755325173834,\n",
       " 'profile_religion_denom(None)_Brethren': 23.402616738914364,\n",
       " 'profile_religion_denom(None)_Buddhist': 23.262976415997684,\n",
       " 'profile_religion_denom(None)_Church of England/Anglican/Episcopal': 6.106542200393573,\n",
       " 'profile_religion_denom(None)_Free Presbyterian': 129.49277194670506,\n",
       " 'profile_religion_denom(None)_Hindu': 158.56924347554352,\n",
       " 'profile_religion_denom(None)_Islam/Muslim': 37.389676966515729,\n",
       " 'profile_religion_denom(None)_Jewish': 157.10551995533953,\n",
       " 'profile_religion_denom(None)_Methodist': 14.832266252464041,\n",
       " 'profile_religion_denom(None)_Other': 17.817379746891184,\n",
       " 'profile_religion_denom(None)_Prefer not to say': 76.011427026726352,\n",
       " 'profile_religion_denom(None)_Presbyterian/Church of Scotland': -51.354343930396141,\n",
       " 'profile_religion_denom(None)_Roman Catholic': -1.0356727483357056,\n",
       " 'profile_religion_denom(None)_Sikh': 147.22309205409607,\n",
       " 'profile_religion_denom(None)_United Reformed Church': 112.96273179286733,\n",
       " 'profile_religion_denom(None)_nan': -4.9339090829377268,\n",
       " 'profile_work_stat(Working fu)_Full time student': -33.605725088667128,\n",
       " 'profile_work_stat(Working fu)_Not working': -3.8732201690070545,\n",
       " 'profile_work_stat(Working fu)_Other': -18.16928347926974,\n",
       " 'profile_work_stat(Working fu)_Retired': -11.385141324378381,\n",
       " 'profile_work_stat(Working fu)_Unemployed': -15.097839055483329,\n",
       " 'profile_work_stat(Working fu)_Working part time (8-29 hours a week)': -10.5055192600681,\n",
       " 'profile_work_stat(Working fu)_Working part time (Less than 8 hours a week)': -0.61102652346839226,\n",
       " 'ptvCon': 2.5446696590511313,\n",
       " 'ptvGrn': 2.1009459332183429,\n",
       " 'ptvLD': 0.77709014148939659,\n",
       " 'ptvLab': 0.084763546954477575,\n",
       " 'ptvUKIP': 1.8387148943547593,\n",
       " \"reasonForVote(I thought )_Don't know\": 34.966161825347307,\n",
       " 'reasonForVote(I thought )_I always vote that way': 30.567650252834628,\n",
       " 'reasonForVote(I thought )_I really preferred another party but it had no chance of winning in this constituency': 14.336806023165382,\n",
       " 'reasonForVote(I thought )_I thought that party had the best candidate': 0.0025027571884723571,\n",
       " 'reasonForVote(I thought )_None of these': -0.16499590037092565,\n",
       " 'reasonForVote(I thought )_Other': 1.8182434096179436,\n",
       " 'redistCon': -0.46283434224877851,\n",
       " 'redistGreen': 2.0615826135712161,\n",
       " 'redistLD': -0.99635553827661294,\n",
       " 'redistLab': 0.27704887875124001,\n",
       " 'redistSelf': -0.7984178202995551,\n",
       " 'redistUKIP': 2.2718387511102738,\n",
       " \"registered(Yes - at $)_Don't know\": -23.580752870302341,\n",
       " 'registered(Yes - at $)_No': -87.491386016150187,\n",
       " 'registered(Yes - at $)_Yes - another address': -6.1701101469267101,\n",
       " 'regretsIHaveAFew': 7.3283529340073201,\n",
       " 'satDemEng': -5.0762530093689424,\n",
       " 'satDemUK': 3.8013422565364401,\n",
       " 'socialCare': -1.7174065057068788,\n",
       " 'studentsMore': 0.9663402444632877,\n",
       " 'ukipUnited': -0.61727391380512275,\n",
       " 'voteMethoda': -15.174361551024282}"
      ]
     },
     "execution_count": 361,
     "metadata": {},
     "output_type": "execute_result"
    }
   ],
   "source": [
    "{k: v for (k, v) in zip( X.columns , logreg.coef_[0])}"
   ]
  },
  {
   "cell_type": "code",
   "execution_count": 362,
   "metadata": {},
   "outputs": [
    {
     "name": "stderr",
     "output_type": "stream",
     "text": [
      "C:\\Users\\Marios\\AppData\\Local\\conda\\conda\\envs\\BES_analysis\\lib\\site-packages\\statsmodels\\discrete\\discrete_model.py:1214: RuntimeWarning: overflow encountered in exp\n",
      "  return 1/(1+np.exp(-X))\n"
     ]
    },
    {
     "name": "stdout",
     "output_type": "stream",
     "text": [
      "Warning: Maximum number of iterations has been exceeded.\n",
      "         Current function value: inf\n",
      "         Iterations: 35\n"
     ]
    },
    {
     "name": "stderr",
     "output_type": "stream",
     "text": [
      "C:\\Users\\Marios\\AppData\\Local\\conda\\conda\\envs\\BES_analysis\\lib\\site-packages\\statsmodels\\discrete\\discrete_model.py:1264: RuntimeWarning: divide by zero encountered in log\n",
      "  return np.sum(np.log(self.cdf(q*np.dot(X,params))))\n"
     ]
    },
    {
     "ename": "LinAlgError",
     "evalue": "Singular matrix",
     "output_type": "error",
     "traceback": [
      "\u001b[1;31m---------------------------------------------------------------------------\u001b[0m",
      "\u001b[1;31mLinAlgError\u001b[0m                               Traceback (most recent call last)",
      "\u001b[1;32m<ipython-input-362-3f4c8bf2226e>\u001b[0m in \u001b[0;36m<module>\u001b[1;34m()\u001b[0m\n\u001b[0;32m      3\u001b[0m \u001b[0mX_sm\u001b[0m\u001b[1;33m[\u001b[0m\u001b[1;34m\"intercept\"\u001b[0m\u001b[1;33m]\u001b[0m \u001b[1;33m=\u001b[0m \u001b[1;36m1.0\u001b[0m\u001b[1;33m\u001b[0m\u001b[0m\n\u001b[0;32m      4\u001b[0m \u001b[0mlogit_model\u001b[0m\u001b[1;33m=\u001b[0m\u001b[0msm\u001b[0m\u001b[1;33m.\u001b[0m\u001b[0mLogit\u001b[0m\u001b[1;33m(\u001b[0m\u001b[0my\u001b[0m\u001b[1;33m,\u001b[0m\u001b[0mX_sm\u001b[0m\u001b[1;33m)\u001b[0m\u001b[1;33m\u001b[0m\u001b[0m\n\u001b[1;32m----> 5\u001b[1;33m \u001b[0mresult\u001b[0m\u001b[1;33m=\u001b[0m\u001b[0mlogit_model\u001b[0m\u001b[1;33m.\u001b[0m\u001b[0mfit\u001b[0m\u001b[1;33m(\u001b[0m\u001b[1;33m)\u001b[0m\u001b[1;33m\u001b[0m\u001b[0m\n\u001b[0m\u001b[0;32m      6\u001b[0m \u001b[0mprint\u001b[0m\u001b[1;33m(\u001b[0m\u001b[0mresult\u001b[0m\u001b[1;33m.\u001b[0m\u001b[0msummary\u001b[0m\u001b[1;33m(\u001b[0m\u001b[1;33m)\u001b[0m\u001b[1;33m)\u001b[0m\u001b[1;33m\u001b[0m\u001b[0m\n",
      "\u001b[1;32m~\\AppData\\Local\\conda\\conda\\envs\\BES_analysis\\lib\\site-packages\\statsmodels\\discrete\\discrete_model.py\u001b[0m in \u001b[0;36mfit\u001b[1;34m(self, start_params, method, maxiter, full_output, disp, callback, **kwargs)\u001b[0m\n\u001b[0;32m   1375\u001b[0m         bnryfit = super(Logit, self).fit(start_params=start_params,\n\u001b[0;32m   1376\u001b[0m                 \u001b[0mmethod\u001b[0m\u001b[1;33m=\u001b[0m\u001b[0mmethod\u001b[0m\u001b[1;33m,\u001b[0m \u001b[0mmaxiter\u001b[0m\u001b[1;33m=\u001b[0m\u001b[0mmaxiter\u001b[0m\u001b[1;33m,\u001b[0m \u001b[0mfull_output\u001b[0m\u001b[1;33m=\u001b[0m\u001b[0mfull_output\u001b[0m\u001b[1;33m,\u001b[0m\u001b[1;33m\u001b[0m\u001b[0m\n\u001b[1;32m-> 1377\u001b[1;33m                 disp=disp, callback=callback, **kwargs)\n\u001b[0m\u001b[0;32m   1378\u001b[0m \u001b[1;33m\u001b[0m\u001b[0m\n\u001b[0;32m   1379\u001b[0m         \u001b[0mdiscretefit\u001b[0m \u001b[1;33m=\u001b[0m \u001b[0mLogitResults\u001b[0m\u001b[1;33m(\u001b[0m\u001b[0mself\u001b[0m\u001b[1;33m,\u001b[0m \u001b[0mbnryfit\u001b[0m\u001b[1;33m)\u001b[0m\u001b[1;33m\u001b[0m\u001b[0m\n",
      "\u001b[1;32m~\\AppData\\Local\\conda\\conda\\envs\\BES_analysis\\lib\\site-packages\\statsmodels\\discrete\\discrete_model.py\u001b[0m in \u001b[0;36mfit\u001b[1;34m(self, start_params, method, maxiter, full_output, disp, callback, **kwargs)\u001b[0m\n\u001b[0;32m    202\u001b[0m         mlefit = super(DiscreteModel, self).fit(start_params=start_params,\n\u001b[0;32m    203\u001b[0m                 \u001b[0mmethod\u001b[0m\u001b[1;33m=\u001b[0m\u001b[0mmethod\u001b[0m\u001b[1;33m,\u001b[0m \u001b[0mmaxiter\u001b[0m\u001b[1;33m=\u001b[0m\u001b[0mmaxiter\u001b[0m\u001b[1;33m,\u001b[0m \u001b[0mfull_output\u001b[0m\u001b[1;33m=\u001b[0m\u001b[0mfull_output\u001b[0m\u001b[1;33m,\u001b[0m\u001b[1;33m\u001b[0m\u001b[0m\n\u001b[1;32m--> 204\u001b[1;33m                 disp=disp, callback=callback, **kwargs)\n\u001b[0m\u001b[0;32m    205\u001b[0m \u001b[1;33m\u001b[0m\u001b[0m\n\u001b[0;32m    206\u001b[0m         \u001b[1;32mreturn\u001b[0m \u001b[0mmlefit\u001b[0m \u001b[1;31m# up to subclasses to wrap results\u001b[0m\u001b[1;33m\u001b[0m\u001b[0m\n",
      "\u001b[1;32m~\\AppData\\Local\\conda\\conda\\envs\\BES_analysis\\lib\\site-packages\\statsmodels\\base\\model.py\u001b[0m in \u001b[0;36mfit\u001b[1;34m(self, start_params, method, maxiter, full_output, disp, fargs, callback, retall, skip_hessian, **kwargs)\u001b[0m\n\u001b[0;32m    456\u001b[0m             \u001b[0mHinv\u001b[0m \u001b[1;33m=\u001b[0m \u001b[0mcov_params_func\u001b[0m\u001b[1;33m(\u001b[0m\u001b[0mself\u001b[0m\u001b[1;33m,\u001b[0m \u001b[0mxopt\u001b[0m\u001b[1;33m,\u001b[0m \u001b[0mretvals\u001b[0m\u001b[1;33m)\u001b[0m\u001b[1;33m\u001b[0m\u001b[0m\n\u001b[0;32m    457\u001b[0m         \u001b[1;32melif\u001b[0m \u001b[0mmethod\u001b[0m \u001b[1;33m==\u001b[0m \u001b[1;34m'newton'\u001b[0m \u001b[1;32mand\u001b[0m \u001b[0mfull_output\u001b[0m\u001b[1;33m:\u001b[0m\u001b[1;33m\u001b[0m\u001b[0m\n\u001b[1;32m--> 458\u001b[1;33m             \u001b[0mHinv\u001b[0m \u001b[1;33m=\u001b[0m \u001b[0mnp\u001b[0m\u001b[1;33m.\u001b[0m\u001b[0mlinalg\u001b[0m\u001b[1;33m.\u001b[0m\u001b[0minv\u001b[0m\u001b[1;33m(\u001b[0m\u001b[1;33m-\u001b[0m\u001b[0mretvals\u001b[0m\u001b[1;33m[\u001b[0m\u001b[1;34m'Hessian'\u001b[0m\u001b[1;33m]\u001b[0m\u001b[1;33m)\u001b[0m \u001b[1;33m/\u001b[0m \u001b[0mnobs\u001b[0m\u001b[1;33m\u001b[0m\u001b[0m\n\u001b[0m\u001b[0;32m    459\u001b[0m         \u001b[1;32melif\u001b[0m \u001b[1;32mnot\u001b[0m \u001b[0mskip_hessian\u001b[0m\u001b[1;33m:\u001b[0m\u001b[1;33m\u001b[0m\u001b[0m\n\u001b[0;32m    460\u001b[0m             \u001b[0mH\u001b[0m \u001b[1;33m=\u001b[0m \u001b[1;33m-\u001b[0m\u001b[1;36m1\u001b[0m \u001b[1;33m*\u001b[0m \u001b[0mself\u001b[0m\u001b[1;33m.\u001b[0m\u001b[0mhessian\u001b[0m\u001b[1;33m(\u001b[0m\u001b[0mxopt\u001b[0m\u001b[1;33m)\u001b[0m\u001b[1;33m\u001b[0m\u001b[0m\n",
      "\u001b[1;32m~\\AppData\\Local\\conda\\conda\\envs\\BES_analysis\\lib\\site-packages\\numpy\\linalg\\linalg.py\u001b[0m in \u001b[0;36minv\u001b[1;34m(a)\u001b[0m\n\u001b[0;32m    511\u001b[0m     \u001b[0msignature\u001b[0m \u001b[1;33m=\u001b[0m \u001b[1;34m'D->D'\u001b[0m \u001b[1;32mif\u001b[0m \u001b[0misComplexType\u001b[0m\u001b[1;33m(\u001b[0m\u001b[0mt\u001b[0m\u001b[1;33m)\u001b[0m \u001b[1;32melse\u001b[0m \u001b[1;34m'd->d'\u001b[0m\u001b[1;33m\u001b[0m\u001b[0m\n\u001b[0;32m    512\u001b[0m     \u001b[0mextobj\u001b[0m \u001b[1;33m=\u001b[0m \u001b[0mget_linalg_error_extobj\u001b[0m\u001b[1;33m(\u001b[0m\u001b[0m_raise_linalgerror_singular\u001b[0m\u001b[1;33m)\u001b[0m\u001b[1;33m\u001b[0m\u001b[0m\n\u001b[1;32m--> 513\u001b[1;33m     \u001b[0mainv\u001b[0m \u001b[1;33m=\u001b[0m \u001b[0m_umath_linalg\u001b[0m\u001b[1;33m.\u001b[0m\u001b[0minv\u001b[0m\u001b[1;33m(\u001b[0m\u001b[0ma\u001b[0m\u001b[1;33m,\u001b[0m \u001b[0msignature\u001b[0m\u001b[1;33m=\u001b[0m\u001b[0msignature\u001b[0m\u001b[1;33m,\u001b[0m \u001b[0mextobj\u001b[0m\u001b[1;33m=\u001b[0m\u001b[0mextobj\u001b[0m\u001b[1;33m)\u001b[0m\u001b[1;33m\u001b[0m\u001b[0m\n\u001b[0m\u001b[0;32m    514\u001b[0m     \u001b[1;32mreturn\u001b[0m \u001b[0mwrap\u001b[0m\u001b[1;33m(\u001b[0m\u001b[0mainv\u001b[0m\u001b[1;33m.\u001b[0m\u001b[0mastype\u001b[0m\u001b[1;33m(\u001b[0m\u001b[0mresult_t\u001b[0m\u001b[1;33m,\u001b[0m \u001b[0mcopy\u001b[0m\u001b[1;33m=\u001b[0m\u001b[1;32mFalse\u001b[0m\u001b[1;33m)\u001b[0m\u001b[1;33m)\u001b[0m\u001b[1;33m\u001b[0m\u001b[0m\n\u001b[0;32m    515\u001b[0m \u001b[1;33m\u001b[0m\u001b[0m\n",
      "\u001b[1;32m~\\AppData\\Local\\conda\\conda\\envs\\BES_analysis\\lib\\site-packages\\numpy\\linalg\\linalg.py\u001b[0m in \u001b[0;36m_raise_linalgerror_singular\u001b[1;34m(err, flag)\u001b[0m\n\u001b[0;32m     88\u001b[0m \u001b[1;33m\u001b[0m\u001b[0m\n\u001b[0;32m     89\u001b[0m \u001b[1;32mdef\u001b[0m \u001b[0m_raise_linalgerror_singular\u001b[0m\u001b[1;33m(\u001b[0m\u001b[0merr\u001b[0m\u001b[1;33m,\u001b[0m \u001b[0mflag\u001b[0m\u001b[1;33m)\u001b[0m\u001b[1;33m:\u001b[0m\u001b[1;33m\u001b[0m\u001b[0m\n\u001b[1;32m---> 90\u001b[1;33m     \u001b[1;32mraise\u001b[0m \u001b[0mLinAlgError\u001b[0m\u001b[1;33m(\u001b[0m\u001b[1;34m\"Singular matrix\"\u001b[0m\u001b[1;33m)\u001b[0m\u001b[1;33m\u001b[0m\u001b[0m\n\u001b[0m\u001b[0;32m     91\u001b[0m \u001b[1;33m\u001b[0m\u001b[0m\n\u001b[0;32m     92\u001b[0m \u001b[1;32mdef\u001b[0m \u001b[0m_raise_linalgerror_nonposdef\u001b[0m\u001b[1;33m(\u001b[0m\u001b[0merr\u001b[0m\u001b[1;33m,\u001b[0m \u001b[0mflag\u001b[0m\u001b[1;33m)\u001b[0m\u001b[1;33m:\u001b[0m\u001b[1;33m\u001b[0m\u001b[0m\n",
      "\u001b[1;31mLinAlgError\u001b[0m: Singular matrix"
     ]
    }
   ],
   "source": [
    "import statsmodels.api as sm\n",
    "X_sm = X.copy()\n",
    "X_sm[\"intercept\"] = 1.0\n",
    "logit_model=sm.Logit(y,X_sm)\n",
    "result=logit_model.fit()\n",
    "print(result.summary())"
   ]
  },
  {
   "cell_type": "code",
   "execution_count": 366,
   "metadata": {},
   "outputs": [
    {
     "name": "stderr",
     "output_type": "stream",
     "text": [
      "C:\\Users\\Marios\\AppData\\Local\\conda\\conda\\envs\\BES_analysis\\lib\\site-packages\\statsmodels\\discrete\\discrete_model.py:1214: RuntimeWarning: overflow encountered in exp\n",
      "  return 1/(1+np.exp(-X))\n"
     ]
    },
    {
     "name": "stdout",
     "output_type": "stream",
     "text": [
      "Warning: Maximum number of iterations has been exceeded.\n",
      "         Current function value: inf\n",
      "         Iterations: 35\n"
     ]
    },
    {
     "name": "stderr",
     "output_type": "stream",
     "text": [
      "C:\\Users\\Marios\\AppData\\Local\\conda\\conda\\envs\\BES_analysis\\lib\\site-packages\\statsmodels\\discrete\\discrete_model.py:1264: RuntimeWarning: divide by zero encountered in log\n",
      "  return np.sum(np.log(self.cdf(q*np.dot(X,params))))\n"
     ]
    },
    {
     "ename": "LinAlgError",
     "evalue": "Singular matrix",
     "output_type": "error",
     "traceback": [
      "\u001b[1;31m---------------------------------------------------------------------------\u001b[0m",
      "\u001b[1;31mLinAlgError\u001b[0m                               Traceback (most recent call last)",
      "\u001b[1;32m<ipython-input-366-11bedb47d2e6>\u001b[0m in \u001b[0;36m<module>\u001b[1;34m()\u001b[0m\n\u001b[0;32m      3\u001b[0m \u001b[1;31m# X_sm[\"intercept\"] = 1.0\u001b[0m\u001b[1;33m\u001b[0m\u001b[1;33m\u001b[0m\u001b[0m\n\u001b[0;32m      4\u001b[0m \u001b[0mlogit_model\u001b[0m\u001b[1;33m=\u001b[0m\u001b[0msm\u001b[0m\u001b[1;33m.\u001b[0m\u001b[0mLogit\u001b[0m\u001b[1;33m(\u001b[0m\u001b[0my\u001b[0m\u001b[1;33m,\u001b[0m\u001b[0mX_sm\u001b[0m\u001b[1;33m)\u001b[0m\u001b[1;33m\u001b[0m\u001b[0m\n\u001b[1;32m----> 5\u001b[1;33m \u001b[0mresult\u001b[0m\u001b[1;33m=\u001b[0m\u001b[0mlogit_model\u001b[0m\u001b[1;33m.\u001b[0m\u001b[0mfit\u001b[0m\u001b[1;33m(\u001b[0m\u001b[1;33m)\u001b[0m\u001b[1;33m\u001b[0m\u001b[0m\n\u001b[0m\u001b[0;32m      6\u001b[0m \u001b[0mprint\u001b[0m\u001b[1;33m(\u001b[0m\u001b[0mresult\u001b[0m\u001b[1;33m.\u001b[0m\u001b[0msummary\u001b[0m\u001b[1;33m(\u001b[0m\u001b[1;33m)\u001b[0m\u001b[1;33m)\u001b[0m\u001b[1;33m\u001b[0m\u001b[0m\n",
      "\u001b[1;32m~\\AppData\\Local\\conda\\conda\\envs\\BES_analysis\\lib\\site-packages\\statsmodels\\discrete\\discrete_model.py\u001b[0m in \u001b[0;36mfit\u001b[1;34m(self, start_params, method, maxiter, full_output, disp, callback, **kwargs)\u001b[0m\n\u001b[0;32m   1375\u001b[0m         bnryfit = super(Logit, self).fit(start_params=start_params,\n\u001b[0;32m   1376\u001b[0m                 \u001b[0mmethod\u001b[0m\u001b[1;33m=\u001b[0m\u001b[0mmethod\u001b[0m\u001b[1;33m,\u001b[0m \u001b[0mmaxiter\u001b[0m\u001b[1;33m=\u001b[0m\u001b[0mmaxiter\u001b[0m\u001b[1;33m,\u001b[0m \u001b[0mfull_output\u001b[0m\u001b[1;33m=\u001b[0m\u001b[0mfull_output\u001b[0m\u001b[1;33m,\u001b[0m\u001b[1;33m\u001b[0m\u001b[0m\n\u001b[1;32m-> 1377\u001b[1;33m                 disp=disp, callback=callback, **kwargs)\n\u001b[0m\u001b[0;32m   1378\u001b[0m \u001b[1;33m\u001b[0m\u001b[0m\n\u001b[0;32m   1379\u001b[0m         \u001b[0mdiscretefit\u001b[0m \u001b[1;33m=\u001b[0m \u001b[0mLogitResults\u001b[0m\u001b[1;33m(\u001b[0m\u001b[0mself\u001b[0m\u001b[1;33m,\u001b[0m \u001b[0mbnryfit\u001b[0m\u001b[1;33m)\u001b[0m\u001b[1;33m\u001b[0m\u001b[0m\n",
      "\u001b[1;32m~\\AppData\\Local\\conda\\conda\\envs\\BES_analysis\\lib\\site-packages\\statsmodels\\discrete\\discrete_model.py\u001b[0m in \u001b[0;36mfit\u001b[1;34m(self, start_params, method, maxiter, full_output, disp, callback, **kwargs)\u001b[0m\n\u001b[0;32m    202\u001b[0m         mlefit = super(DiscreteModel, self).fit(start_params=start_params,\n\u001b[0;32m    203\u001b[0m                 \u001b[0mmethod\u001b[0m\u001b[1;33m=\u001b[0m\u001b[0mmethod\u001b[0m\u001b[1;33m,\u001b[0m \u001b[0mmaxiter\u001b[0m\u001b[1;33m=\u001b[0m\u001b[0mmaxiter\u001b[0m\u001b[1;33m,\u001b[0m \u001b[0mfull_output\u001b[0m\u001b[1;33m=\u001b[0m\u001b[0mfull_output\u001b[0m\u001b[1;33m,\u001b[0m\u001b[1;33m\u001b[0m\u001b[0m\n\u001b[1;32m--> 204\u001b[1;33m                 disp=disp, callback=callback, **kwargs)\n\u001b[0m\u001b[0;32m    205\u001b[0m \u001b[1;33m\u001b[0m\u001b[0m\n\u001b[0;32m    206\u001b[0m         \u001b[1;32mreturn\u001b[0m \u001b[0mmlefit\u001b[0m \u001b[1;31m# up to subclasses to wrap results\u001b[0m\u001b[1;33m\u001b[0m\u001b[0m\n",
      "\u001b[1;32m~\\AppData\\Local\\conda\\conda\\envs\\BES_analysis\\lib\\site-packages\\statsmodels\\base\\model.py\u001b[0m in \u001b[0;36mfit\u001b[1;34m(self, start_params, method, maxiter, full_output, disp, fargs, callback, retall, skip_hessian, **kwargs)\u001b[0m\n\u001b[0;32m    456\u001b[0m             \u001b[0mHinv\u001b[0m \u001b[1;33m=\u001b[0m \u001b[0mcov_params_func\u001b[0m\u001b[1;33m(\u001b[0m\u001b[0mself\u001b[0m\u001b[1;33m,\u001b[0m \u001b[0mxopt\u001b[0m\u001b[1;33m,\u001b[0m \u001b[0mretvals\u001b[0m\u001b[1;33m)\u001b[0m\u001b[1;33m\u001b[0m\u001b[0m\n\u001b[0;32m    457\u001b[0m         \u001b[1;32melif\u001b[0m \u001b[0mmethod\u001b[0m \u001b[1;33m==\u001b[0m \u001b[1;34m'newton'\u001b[0m \u001b[1;32mand\u001b[0m \u001b[0mfull_output\u001b[0m\u001b[1;33m:\u001b[0m\u001b[1;33m\u001b[0m\u001b[0m\n\u001b[1;32m--> 458\u001b[1;33m             \u001b[0mHinv\u001b[0m \u001b[1;33m=\u001b[0m \u001b[0mnp\u001b[0m\u001b[1;33m.\u001b[0m\u001b[0mlinalg\u001b[0m\u001b[1;33m.\u001b[0m\u001b[0minv\u001b[0m\u001b[1;33m(\u001b[0m\u001b[1;33m-\u001b[0m\u001b[0mretvals\u001b[0m\u001b[1;33m[\u001b[0m\u001b[1;34m'Hessian'\u001b[0m\u001b[1;33m]\u001b[0m\u001b[1;33m)\u001b[0m \u001b[1;33m/\u001b[0m \u001b[0mnobs\u001b[0m\u001b[1;33m\u001b[0m\u001b[0m\n\u001b[0m\u001b[0;32m    459\u001b[0m         \u001b[1;32melif\u001b[0m \u001b[1;32mnot\u001b[0m \u001b[0mskip_hessian\u001b[0m\u001b[1;33m:\u001b[0m\u001b[1;33m\u001b[0m\u001b[0m\n\u001b[0;32m    460\u001b[0m             \u001b[0mH\u001b[0m \u001b[1;33m=\u001b[0m \u001b[1;33m-\u001b[0m\u001b[1;36m1\u001b[0m \u001b[1;33m*\u001b[0m \u001b[0mself\u001b[0m\u001b[1;33m.\u001b[0m\u001b[0mhessian\u001b[0m\u001b[1;33m(\u001b[0m\u001b[0mxopt\u001b[0m\u001b[1;33m)\u001b[0m\u001b[1;33m\u001b[0m\u001b[0m\n",
      "\u001b[1;32m~\\AppData\\Local\\conda\\conda\\envs\\BES_analysis\\lib\\site-packages\\numpy\\linalg\\linalg.py\u001b[0m in \u001b[0;36minv\u001b[1;34m(a)\u001b[0m\n\u001b[0;32m    511\u001b[0m     \u001b[0msignature\u001b[0m \u001b[1;33m=\u001b[0m \u001b[1;34m'D->D'\u001b[0m \u001b[1;32mif\u001b[0m \u001b[0misComplexType\u001b[0m\u001b[1;33m(\u001b[0m\u001b[0mt\u001b[0m\u001b[1;33m)\u001b[0m \u001b[1;32melse\u001b[0m \u001b[1;34m'd->d'\u001b[0m\u001b[1;33m\u001b[0m\u001b[0m\n\u001b[0;32m    512\u001b[0m     \u001b[0mextobj\u001b[0m \u001b[1;33m=\u001b[0m \u001b[0mget_linalg_error_extobj\u001b[0m\u001b[1;33m(\u001b[0m\u001b[0m_raise_linalgerror_singular\u001b[0m\u001b[1;33m)\u001b[0m\u001b[1;33m\u001b[0m\u001b[0m\n\u001b[1;32m--> 513\u001b[1;33m     \u001b[0mainv\u001b[0m \u001b[1;33m=\u001b[0m \u001b[0m_umath_linalg\u001b[0m\u001b[1;33m.\u001b[0m\u001b[0minv\u001b[0m\u001b[1;33m(\u001b[0m\u001b[0ma\u001b[0m\u001b[1;33m,\u001b[0m \u001b[0msignature\u001b[0m\u001b[1;33m=\u001b[0m\u001b[0msignature\u001b[0m\u001b[1;33m,\u001b[0m \u001b[0mextobj\u001b[0m\u001b[1;33m=\u001b[0m\u001b[0mextobj\u001b[0m\u001b[1;33m)\u001b[0m\u001b[1;33m\u001b[0m\u001b[0m\n\u001b[0m\u001b[0;32m    514\u001b[0m     \u001b[1;32mreturn\u001b[0m \u001b[0mwrap\u001b[0m\u001b[1;33m(\u001b[0m\u001b[0mainv\u001b[0m\u001b[1;33m.\u001b[0m\u001b[0mastype\u001b[0m\u001b[1;33m(\u001b[0m\u001b[0mresult_t\u001b[0m\u001b[1;33m,\u001b[0m \u001b[0mcopy\u001b[0m\u001b[1;33m=\u001b[0m\u001b[1;32mFalse\u001b[0m\u001b[1;33m)\u001b[0m\u001b[1;33m)\u001b[0m\u001b[1;33m\u001b[0m\u001b[0m\n\u001b[0;32m    515\u001b[0m \u001b[1;33m\u001b[0m\u001b[0m\n",
      "\u001b[1;32m~\\AppData\\Local\\conda\\conda\\envs\\BES_analysis\\lib\\site-packages\\numpy\\linalg\\linalg.py\u001b[0m in \u001b[0;36m_raise_linalgerror_singular\u001b[1;34m(err, flag)\u001b[0m\n\u001b[0;32m     88\u001b[0m \u001b[1;33m\u001b[0m\u001b[0m\n\u001b[0;32m     89\u001b[0m \u001b[1;32mdef\u001b[0m \u001b[0m_raise_linalgerror_singular\u001b[0m\u001b[1;33m(\u001b[0m\u001b[0merr\u001b[0m\u001b[1;33m,\u001b[0m \u001b[0mflag\u001b[0m\u001b[1;33m)\u001b[0m\u001b[1;33m:\u001b[0m\u001b[1;33m\u001b[0m\u001b[0m\n\u001b[1;32m---> 90\u001b[1;33m     \u001b[1;32mraise\u001b[0m \u001b[0mLinAlgError\u001b[0m\u001b[1;33m(\u001b[0m\u001b[1;34m\"Singular matrix\"\u001b[0m\u001b[1;33m)\u001b[0m\u001b[1;33m\u001b[0m\u001b[0m\n\u001b[0m\u001b[0;32m     91\u001b[0m \u001b[1;33m\u001b[0m\u001b[0m\n\u001b[0;32m     92\u001b[0m \u001b[1;32mdef\u001b[0m \u001b[0m_raise_linalgerror_nonposdef\u001b[0m\u001b[1;33m(\u001b[0m\u001b[0merr\u001b[0m\u001b[1;33m,\u001b[0m \u001b[0mflag\u001b[0m\u001b[1;33m)\u001b[0m\u001b[1;33m:\u001b[0m\u001b[1;33m\u001b[0m\u001b[0m\n",
      "\u001b[1;31mLinAlgError\u001b[0m: Singular matrix"
     ]
    }
   ],
   "source": [
    "import statsmodels.api as sm\n",
    "X_sm = X\n",
    "# X_sm[\"intercept\"] = 1.0\n",
    "logit_model=sm.Logit(y,X_sm)\n",
    "result=logit_model.fit()\n",
    "print(result.summary())"
   ]
  },
  {
   "cell_type": "code",
   "execution_count": 372,
   "metadata": {},
   "outputs": [
    {
     "ename": "TypeError",
     "evalue": "__init__() got an unexpected keyword argument 'sample_weight'",
     "output_type": "error",
     "traceback": [
      "\u001b[1;31m---------------------------------------------------------------------------\u001b[0m",
      "\u001b[1;31mTypeError\u001b[0m                                 Traceback (most recent call last)",
      "\u001b[1;32m<ipython-input-372-5b9b913d989f>\u001b[0m in \u001b[0;36m<module>\u001b[1;34m()\u001b[0m\n\u001b[0;32m      2\u001b[0m \u001b[1;32mfrom\u001b[0m \u001b[0msklearn\u001b[0m\u001b[1;33m.\u001b[0m\u001b[0mfeature_selection\u001b[0m \u001b[1;32mimport\u001b[0m \u001b[0mRFE\u001b[0m\u001b[1;33m\u001b[0m\u001b[0m\n\u001b[0;32m      3\u001b[0m \u001b[1;32mfrom\u001b[0m \u001b[0msklearn\u001b[0m\u001b[1;33m.\u001b[0m\u001b[0mlinear_model\u001b[0m \u001b[1;32mimport\u001b[0m \u001b[0mLogisticRegression\u001b[0m\u001b[1;33m\u001b[0m\u001b[0m\n\u001b[1;32m----> 4\u001b[1;33m \u001b[0mlogreg\u001b[0m \u001b[1;33m=\u001b[0m \u001b[0mLogisticRegression\u001b[0m\u001b[1;33m(\u001b[0m\u001b[0msample_weight\u001b[0m\u001b[1;33m=\u001b[0m\u001b[0msample_weight\u001b[0m\u001b[1;33m)\u001b[0m\u001b[1;33m\u001b[0m\u001b[0m\n\u001b[0m\u001b[0;32m      5\u001b[0m \u001b[0mrfe\u001b[0m \u001b[1;33m=\u001b[0m \u001b[0mRFE\u001b[0m\u001b[1;33m(\u001b[0m\u001b[0mlogreg\u001b[0m\u001b[1;33m,\u001b[0m \u001b[0mn_features_to_select\u001b[0m \u001b[1;33m=\u001b[0m \u001b[1;36m50\u001b[0m\u001b[1;33m)\u001b[0m\u001b[1;33m\u001b[0m\u001b[0m\n\u001b[0;32m      6\u001b[0m \u001b[0mrfe\u001b[0m \u001b[1;33m=\u001b[0m \u001b[0mrfe\u001b[0m\u001b[1;33m.\u001b[0m\u001b[0mfit\u001b[0m\u001b[1;33m(\u001b[0m\u001b[0mX\u001b[0m\u001b[1;33m,\u001b[0m \u001b[0my\u001b[0m \u001b[1;33m)\u001b[0m\u001b[1;33m\u001b[0m\u001b[0m\n",
      "\u001b[1;31mTypeError\u001b[0m: __init__() got an unexpected keyword argument 'sample_weight'"
     ]
    }
   ],
   "source": [
    "from sklearn import datasets\n",
    "from sklearn.feature_selection import RFE\n",
    "from sklearn.linear_model import LogisticRegression\n",
    "logreg = LogisticRegression()\n",
    "rfe = RFE(logreg, n_features_to_select = 50)\n",
    "rfe = rfe.fit(X, y )\n",
    "print(rfe.support_)\n",
    "print(rfe.ranking_)"
   ]
  },
  {
   "cell_type": "code",
   "execution_count": 368,
   "metadata": {},
   "outputs": [
    {
     "data": {
      "text/plain": [
       "Index(['countryOfBirth(England)_nan', 'bestOnMII(Labour)_nan',\n",
       "       'reasonForVote(I thought )_I always vote that way', 'voteMethoda',\n",
       "       'participation_4', 'participation_5', 'polAttention', 'likeFarron',\n",
       "       'likeSturgeon', 'likeLucas', 'likeLab', 'conUnited', 'ldUnited',\n",
       "       'grnUnited', 'EUIntegrationUKIP', 'leftRight', 'satDemEng',\n",
       "       'negotiationSpecifics_2', 'effectsEUTrade', 'effectsEUTerror',\n",
       "       'effectsEUWorkers', 'euLeaveScotIndep', 'ptvLab', 'ptvUKIP',\n",
       "       'redistCon', 'redistUKIP', 'natSecuritySelf', 'natSecurityUKIP',\n",
       "       'natSecurityGrn', 'partyContact1', 'partyContactCon', 'partyContactLab',\n",
       "       'partyContactLab_2', 'pContactEday_10', 'infoSourceTV',\n",
       "       'infoSourceRadio', 'policeCuts', 'competentMay', 'competentLucas',\n",
       "       'anyUni', 'profile_work_stat(Working fu)_Full time student',\n",
       "       'profile_work_stat(Working fu)_Retired', 'ageGroup',\n",
       "       'housing(Own the le)_Buying leasehold/freehold on a mortgage',\n",
       "       'housing(Own the le)_nan', 'profile_education_age',\n",
       "       'profile_marital_stat(Married)_Never married',\n",
       "       'profile_religion_denom(None)_Church of England/Anglican/Episcopal',\n",
       "       'profile_religion_denom(None)_nan', 'profile_eurefturnout'],\n",
       "      dtype='object')"
      ]
     },
     "execution_count": 368,
     "metadata": {},
     "output_type": "execute_result"
    }
   ],
   "source": [
    "X.columns[rfe.support_]"
   ]
  },
  {
   "cell_type": "code",
   "execution_count": 364,
   "metadata": {},
   "outputs": [],
   "source": [
    "# X[X.columns[rfe.support_]]"
   ]
  },
  {
   "cell_type": "code",
   "execution_count": 369,
   "metadata": {},
   "outputs": [
    {
     "name": "stdout",
     "output_type": "stream",
     "text": [
      "Optimization terminated successfully.\n",
      "         Current function value: 0.227171\n",
      "         Iterations 8\n",
      "                           Logit Regression Results                           \n",
      "==============================================================================\n",
      "Dep. Variable:          TurnedOut2015   No. Observations:                 7002\n",
      "Model:                          Logit   Df Residuals:                     6952\n",
      "Method:                           MLE   Df Model:                           49\n",
      "Date:                Tue, 13 Mar 2018   Pseudo R-squ.:                  0.2094\n",
      "Time:                        01:48:52   Log-Likelihood:                -1590.7\n",
      "converged:                       True   LL-Null:                       -2012.0\n",
      "                                        LLR p-value:                4.042e-145\n",
      "=====================================================================================================================================\n",
      "                                                                        coef    std err          z      P>|z|      [0.025      0.975]\n",
      "-------------------------------------------------------------------------------------------------------------------------------------\n",
      "countryOfBirth(England)_nan                                          -6.5549      5.111     -1.282      0.200     -16.573       3.463\n",
      "bestOnMII(Labour)_nan                                               -21.6010      3.896     -5.544      0.000     -29.237     -13.965\n",
      "reasonForVote(I thought )_I always vote that way                     22.3167      4.695      4.754      0.000      13.115      31.518\n",
      "voteMethoda                                                         -13.0515      2.137     -6.108      0.000     -17.240      -8.863\n",
      "participation_4                                                       8.1907      4.494      1.822      0.068      -0.618      16.999\n",
      "participation_5                                                     -15.3493      5.117     -2.999      0.003     -25.379      -5.320\n",
      "polAttention                                                          2.3003      0.782      2.940      0.003       0.767       3.834\n",
      "likeFarron                                                            1.5917      0.901      1.766      0.077      -0.175       3.358\n",
      "likeSturgeon                                                          0.1926      0.787      0.245      0.807      -1.350       1.735\n",
      "likeLucas                                                             2.9796      0.856      3.481      0.000       1.302       4.657\n",
      "likeLab                                                               1.4219      0.683      2.083      0.037       0.084       2.760\n",
      "conUnited                                                             2.7804      2.392      1.162      0.245      -1.908       7.469\n",
      "ldUnited                                                              1.1759      1.940      0.606      0.544      -2.626       4.978\n",
      "grnUnited                                                             4.4672      1.679      2.661      0.008       1.177       7.758\n",
      "EUIntegrationUKIP                                                     0.5987      0.491      1.220      0.223      -0.363       1.561\n",
      "leftRight                                                             0.9514      0.860      1.106      0.269      -0.735       2.637\n",
      "satDemEng                                                            -0.8797      2.141     -0.411      0.681      -5.076       3.317\n",
      "negotiationSpecifics_2                                               10.6259      4.270      2.489      0.013       2.258      18.994\n",
      "effectsEUTrade                                                        2.0742      1.998      1.038      0.299      -1.842       5.990\n",
      "effectsEUTerror                                                       0.6273      1.770      0.354      0.723      -2.842       4.096\n",
      "effectsEUWorkers                                                     -6.6559      2.059     -3.232      0.001     -10.692      -2.620\n",
      "euLeaveScotIndep                                                     -3.6710      1.487     -2.468      0.014      -6.586      -0.756\n",
      "ptvLab                                                                0.0524      0.639      0.082      0.935      -1.199       1.304\n",
      "ptvUKIP                                                               0.8988      0.897      1.002      0.316      -0.859       2.656\n",
      "redistCon                                                             0.1138      0.631      0.180      0.857      -1.123       1.350\n",
      "redistUKIP                                                            1.2330      0.670      1.841      0.066      -0.080       2.546\n",
      "natSecuritySelf                                                      -1.8369      0.657     -2.795      0.005      -3.125      -0.549\n",
      "natSecurityUKIP                                                      -1.5548      0.905     -1.719      0.086      -3.328       0.218\n",
      "natSecurityGrn                                                        0.2326      0.699      0.333      0.739      -1.138       1.603\n",
      "partyContact1                                                         5.5986     10.558      0.530      0.596     -15.095      26.292\n",
      "partyContactCon                                                       1.6480      6.142      0.268      0.788     -10.389      13.685\n",
      "partyContactLab                                                      -2.3234     11.854     -0.196      0.845     -25.557      20.910\n",
      "partyContactLab_2                                                    13.5855      8.916      1.524      0.128      -3.889      31.060\n",
      "pContactEday_10                                                       2.1571      6.399      0.337      0.736     -10.385      14.700\n",
      "infoSourceTV                                                         -0.6133      1.750     -0.350      0.726      -4.044       2.817\n",
      "infoSourceRadio                                                       1.7302      1.954      0.885      0.376      -2.100       5.561\n",
      "policeCuts                                                            2.2903      1.329      1.723      0.085      -0.314       4.895\n",
      "competentMay                                                          1.2915      1.105      1.169      0.242      -0.873       3.456\n",
      "competentLucas                                                        0.1562      0.866      0.180      0.857      -1.541       1.854\n",
      "anyUni                                                                2.7212      1.555      1.750      0.080      -0.327       5.769\n",
      "profile_work_stat(Working fu)_Full time student                     -25.0407      6.849     -3.656      0.000     -38.465     -11.617\n",
      "profile_work_stat(Working fu)_Retired                                 3.8632      7.074      0.546      0.585     -10.001      17.727\n",
      "ageGroup                                                              4.9937      1.412      3.537      0.000       2.227       7.760\n",
      "housing(Own the le)_Buying leasehold/freehold on a mortgage           0.6270      5.942      0.106      0.916     -11.018      12.272\n",
      "housing(Own the le)_nan                                              -3.6219      6.280     -0.577      0.564     -15.931       8.688\n",
      "profile_education_age                                                -1.8315      1.417     -1.293      0.196      -4.608       0.945\n",
      "profile_marital_stat(Married)_Never married                          -6.1145      3.561     -1.717      0.086     -13.093       0.864\n",
      "profile_religion_denom(None)_Church of England/Anglican/Episcopal     6.9661      8.168      0.853      0.394      -9.042      22.974\n",
      "profile_religion_denom(None)_nan                                    -12.3652      5.413     -2.284      0.022     -22.974      -1.756\n",
      "profile_eurefturnout                                                 46.8087      4.306     10.869      0.000      38.368      55.249\n",
      "=====================================================================================================================================\n"
     ]
    }
   ],
   "source": [
    "import statsmodels.api as sm\n",
    "X_sm = X[X.columns[rfe.support_]]\n",
    "# X_sm[\"intercept\"] = 1.0\n",
    "logit_model=sm.Logit(y,X_sm)\n",
    "result=logit_model.fit()\n",
    "print(result.summary())"
   ]
  },
  {
   "cell_type": "code",
   "execution_count": null,
   "metadata": {
    "collapsed": true
   },
   "outputs": [],
   "source": []
  },
  {
   "cell_type": "code",
   "execution_count": null,
   "metadata": {
    "collapsed": true
   },
   "outputs": [],
   "source": []
  },
  {
   "cell_type": "code",
   "execution_count": null,
   "metadata": {
    "collapsed": true
   },
   "outputs": [],
   "source": []
  },
  {
   "cell_type": "code",
   "execution_count": null,
   "metadata": {
    "collapsed": true
   },
   "outputs": [],
   "source": []
  },
  {
   "cell_type": "code",
   "execution_count": null,
   "metadata": {
    "collapsed": true
   },
   "outputs": [],
   "source": []
  },
  {
   "cell_type": "code",
   "execution_count": null,
   "metadata": {},
   "outputs": [],
   "source": []
  },
  {
   "cell_type": "code",
   "execution_count": null,
   "metadata": {
    "collapsed": true
   },
   "outputs": [],
   "source": []
  },
  {
   "cell_type": "code",
   "execution_count": null,
   "metadata": {
    "collapsed": true
   },
   "outputs": [],
   "source": []
  },
  {
   "cell_type": "code",
   "execution_count": null,
   "metadata": {
    "collapsed": true
   },
   "outputs": [],
   "source": []
  },
  {
   "cell_type": "code",
   "execution_count": null,
   "metadata": {
    "collapsed": true
   },
   "outputs": [],
   "source": []
  },
  {
   "cell_type": "code",
   "execution_count": null,
   "metadata": {
    "collapsed": true
   },
   "outputs": [],
   "source": []
  },
  {
   "cell_type": "code",
   "execution_count": null,
   "metadata": {
    "collapsed": true
   },
   "outputs": [],
   "source": []
  },
  {
   "cell_type": "code",
   "execution_count": null,
   "metadata": {
    "collapsed": true
   },
   "outputs": [],
   "source": []
  },
  {
   "cell_type": "code",
   "execution_count": null,
   "metadata": {
    "collapsed": true
   },
   "outputs": [],
   "source": []
  }
 ],
 "metadata": {
  "kernelspec": {
   "display_name": "Python [conda env:BES_analysis]",
   "language": "python",
   "name": "conda-env-BES_analysis-py"
  },
  "language_info": {
   "codemirror_mode": {
    "name": "ipython",
    "version": 3
   },
   "file_extension": ".py",
   "mimetype": "text/x-python",
   "name": "python",
   "nbconvert_exporter": "python",
   "pygments_lexer": "ipython3",
   "version": "3.6.2"
  }
 },
 "nbformat": 4,
 "nbformat_minor": 2
}
