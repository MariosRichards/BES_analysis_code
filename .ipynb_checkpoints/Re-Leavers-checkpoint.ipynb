{
 "cells": [
  {
   "cell_type": "code",
   "execution_count": 1,
   "metadata": {
    "collapsed": true
   },
   "outputs": [],
   "source": [
    "import numpy as np\n",
    "import pandas as pd\n",
    "\n",
    "import matplotlib.pyplot as plt\n",
    "%matplotlib inline\n",
    "import pickle, os\n"
   ]
  },
  {
   "cell_type": "code",
   "execution_count": 2,
   "metadata": {
    "collapsed": false
   },
   "outputs": [],
   "source": [
    "# import holoviews as hv\n",
    "# hv.notebook_extension()\n"
   ]
  },
  {
   "cell_type": "code",
   "execution_count": 3,
   "metadata": {
    "collapsed": false
   },
   "outputs": [],
   "source": [
    "BES_data_folder = \"../BES_analysis_data/\"\n",
    "BES_code_folder = \"../BES_analysis_code/\"\n",
    "# BES_Panel = pd.read_stata(BES_data_folder+\"BES2015_W10_Panel_v0.3.dta\")\n",
    "BES_Panel = pd.read_stata(BES_data_folder+\"BES2015_W10_v0.3.dta\")\n",
    "\n"
   ]
  },
  {
   "cell_type": "code",
   "execution_count": null,
   "metadata": {
    "collapsed": true
   },
   "outputs": [],
   "source": []
  },
  {
   "cell_type": "code",
   "execution_count": 4,
   "metadata": {
    "collapsed": false
   },
   "outputs": [],
   "source": [
    "wave = \"\"   # \"W10\"\n",
    "\n",
    "BES_Panel[\"new_eu_split\"] = BES_Panel['euRefVote'+wave].astype('object')\n",
    "\n",
    "\n",
    "\n",
    "BES_Panel.loc[ (BES_Panel['euRefDoOver'+wave]==\"Yes\")\n",
    "             & (BES_Panel['euRefVote'+wave]=='Stay/remain in the EU'),\n",
    "             \"new_eu_split\"]  = \"Hard Remain\"\n",
    "\n",
    "BES_Panel.loc[ (BES_Panel['euRefDoOver'+wave]!=\"Yes\")\n",
    "             & (BES_Panel['euRefVote'+wave]=='Stay/remain in the EU'),\n",
    "             \"new_eu_split\"]  = \"Re-Leave\"\n",
    "\n",
    "BES_Panel.loc[ (BES_Panel['euRefDoOver'+wave]==\"No\")\n",
    "             & (BES_Panel['euRefVote'+wave]=='Leave the EU'),\n",
    "             \"new_eu_split\"]  = \"Hard Leave\"\n",
    "\n",
    "BES_Panel.loc[ (BES_Panel['euRefDoOver'+wave]!=\"No\")\n",
    "             & (BES_Panel['euRefVote'+wave]=='Leave the EU'),\n",
    "             \"new_eu_split\"]  = \"Leave but favour sec. ref\"\n",
    "\n",
    "BES_Panel[\"new_eu_split\"] = BES_Panel[\"new_eu_split\"].astype('category')"
   ]
  },
  {
   "cell_type": "code",
   "execution_count": 5,
   "metadata": {
    "collapsed": false
   },
   "outputs": [
    {
     "data": {
      "text/plain": [
       "Hard Leave                   12127\n",
       "Hard Remain                  10667\n",
       "Re-Leave                      4349\n",
       "Don't know                    1450\n",
       "I would/will not vote         1118\n",
       "Leave but favour sec. ref      608\n",
       "Name: new_eu_split, dtype: int64"
      ]
     },
     "execution_count": 5,
     "metadata": {},
     "output_type": "execute_result"
    }
   ],
   "source": [
    "BES_Panel[\"new_eu_split\"].value_counts()"
   ]
  },
  {
   "cell_type": "code",
   "execution_count": null,
   "metadata": {
    "collapsed": false
   },
   "outputs": [],
   "source": []
  },
  {
   "cell_type": "code",
   "execution_count": 6,
   "metadata": {
    "collapsed": false
   },
   "outputs": [
    {
     "data": {
      "text/html": [
       "<div>\n",
       "<table border=\"1\" class=\"dataframe\">\n",
       "  <thead>\n",
       "    <tr style=\"text-align: right;\">\n",
       "      <th>euRefDoOver</th>\n",
       "      <th>No</th>\n",
       "      <th>Yes</th>\n",
       "      <th>Don't know</th>\n",
       "    </tr>\n",
       "    <tr>\n",
       "      <th>euRefVote</th>\n",
       "      <th></th>\n",
       "      <th></th>\n",
       "      <th></th>\n",
       "    </tr>\n",
       "  </thead>\n",
       "  <tbody>\n",
       "    <tr>\n",
       "      <th>Stay/remain in the EU</th>\n",
       "      <td>0.092438</td>\n",
       "      <td>0.345167</td>\n",
       "      <td>0.048612</td>\n",
       "    </tr>\n",
       "    <tr>\n",
       "      <th>Leave the EU</th>\n",
       "      <td>0.402135</td>\n",
       "      <td>0.014854</td>\n",
       "      <td>0.010252</td>\n",
       "    </tr>\n",
       "    <tr>\n",
       "      <th>I would/will not vote</th>\n",
       "      <td>0.021888</td>\n",
       "      <td>0.004621</td>\n",
       "      <td>0.009942</td>\n",
       "    </tr>\n",
       "    <tr>\n",
       "      <th>Don't know</th>\n",
       "      <td>0.020790</td>\n",
       "      <td>0.007445</td>\n",
       "      <td>0.021855</td>\n",
       "    </tr>\n",
       "  </tbody>\n",
       "</table>\n",
       "</div>"
      ],
      "text/plain": [
       "euRefDoOver                  No       Yes  Don't know\n",
       "euRefVote                                            \n",
       "Stay/remain in the EU  0.092438  0.345167    0.048612\n",
       "Leave the EU           0.402135  0.014854    0.010252\n",
       "I would/will not vote  0.021888  0.004621    0.009942\n",
       "Don't know             0.020790  0.007445    0.021855"
      ]
     },
     "execution_count": 6,
     "metadata": {},
     "output_type": "execute_result"
    }
   ],
   "source": [
    "\n",
    "crosstab = pd.crosstab(index   = BES_Panel[ 'euRefVote'+wave ],\n",
    "                       columns = BES_Panel[ 'euRefDoOver'+wave ],\n",
    "                       values  = BES_Panel[ \"wt_full_W10\" ],\n",
    "                       aggfunc = sum,\n",
    "                       normalize=True)\n",
    "crosstab"
   ]
  },
  {
   "cell_type": "code",
   "execution_count": null,
   "metadata": {
    "collapsed": false
   },
   "outputs": [],
   "source": [
    "## What is the difference between a Re-Leaver and a Hard Remainer?\n",
    "\n",
    "# We need a nice numerical set of data"
   ]
  },
  {
   "cell_type": "code",
   "execution_count": 7,
   "metadata": {
    "collapsed": false
   },
   "outputs": [
    {
     "name": "stdout",
     "output_type": "stream",
     "text": [
      "BES_numeric (30319, 374)\n",
      "var_type (393, 1)\n",
      "BES_reduced (30319, 444)\n"
     ]
    }
   ],
   "source": [
    "wave = \"W10_only\"\n",
    "\n",
    "BES_numeric = pd.read_hdf( BES_data_folder+\"BESnumeric\"+wave+\".hdf\", \"BESnumeric\"+wave )\n",
    "print(\"BES_numeric\",  BES_numeric.shape )\n",
    "var_type    = pd.read_hdf( BES_data_folder+\"var_type\"+wave+\".hdf\", \"var_type\" )\n",
    "print(\"var_type\",  var_type.shape )\n",
    "BES_reduced = pd.read_hdf( BES_data_folder+\"BES_reduced\"+wave+\".hdf\", \"BES_reduced\"+wave )\n",
    "print(\"BES_reduced\",  BES_reduced.shape )\n",
    "\n",
    "fname = BES_data_folder+\"cat_dictionary\"+wave+\".pkl\"\n",
    "with open(fname, \"rb\") as f:\n",
    "    cat_dictionary = pickle.load( f )"
   ]
  },
  {
   "cell_type": "code",
   "execution_count": 8,
   "metadata": {
    "collapsed": false
   },
   "outputs": [
    {
     "name": "stdout",
     "output_type": "stream",
     "text": [
      "BES_reduced (30319, 444)\n"
     ]
    }
   ],
   "source": [
    "BES_reduced = pd.read_hdf( BES_data_folder+\"BES_reduced\"+wave+\".hdf\", \"BES_reduced\"+wave )\n",
    "print(\"BES_reduced\",  BES_reduced.shape )"
   ]
  },
  {
   "cell_type": "code",
   "execution_count": 9,
   "metadata": {
    "collapsed": false
   },
   "outputs": [],
   "source": [
    "Remainers = (BES_Panel[\"new_eu_split\"] == \"Hard Remain\") | (BES_Panel[\"new_eu_split\"] ==\"Re-Leave\")"
   ]
  },
  {
   "cell_type": "code",
   "execution_count": 10,
   "metadata": {
    "collapsed": false
   },
   "outputs": [],
   "source": [
    "BES_reduced[\"Re-Leave\"] = BES_Panel[\"new_eu_split\"] == \"Re-Leave\"\n"
   ]
  },
  {
   "cell_type": "code",
   "execution_count": 11,
   "metadata": {
    "collapsed": false
   },
   "outputs": [
    {
     "data": {
      "text/plain": [
       "euRefDoOver_Yes                                      -1.000000\n",
       "expectGoodConductEURef__Conducted unfairly           -0.238160\n",
       "leaveImpactBritain__A very large impact              -0.191530\n",
       "euLeaveBigBusiness__Much more likely                 -0.184682\n",
       "euID3__Strongly agree                                -0.177888\n",
       "leaveImpactSelf__A very large impact                 -0.177165\n",
       "europeanness__Very strongly European                 -0.161594\n",
       "socialIdentityGlobalRemain__A great deal in common   -0.154177\n",
       "euLeaveScotIndep__Much more likely                   -0.153418\n",
       "approveEU__Strongly approve                          -0.147058\n",
       "euID7__Strongly agree                                -0.144342\n",
       "euID1__Strongly agree                                -0.141452\n",
       "effectsEUUnemployment__Much higher                   -0.127173\n",
       "euID6__Strongly agree                                -0.125958\n",
       "euID4__Strongly agree                                -0.111501\n",
       "ethno1__Strongly agree                               -0.111421\n",
       "ethno3__Strongly agree                               -0.108405\n",
       "renationaliseRail__Strongly agree                    -0.107348\n",
       "effectsEUTerror__Much higher                         -0.107013\n",
       "changeEconomyLab__Getting a lot better               -0.104694\n",
       "lr1__Strongly agree                                  -0.103977\n",
       "ethno6__Strongly agree                               -0.099994\n",
       "lr3__Strongly agree                                  -0.099456\n",
       "bestOnMII_Liberal Democrat                           -0.096996\n",
       "lr4__Strongly agree                                  -0.095125\n",
       "likeLab__Strongly like                               -0.088871\n",
       "ptvLab__Very likely                                  -0.086863\n",
       "immigSelf__Allow many more                           -0.085705\n",
       "bestPM_Jeremy Corbyn                                 -0.085462\n",
       "changeEducationLab__Getting a lot better             -0.084477\n",
       "                                                        ...   \n",
       "UKsovereigntyPost__Strongly agree                     0.110279\n",
       "controlImmig__Complete control                        0.113668\n",
       "lr_scale__Right                                       0.114360\n",
       "conUnited__Very united                                0.116685\n",
       "happyTrump__Extremely happy                           0.116943\n",
       "ethno2__Strongly agree                                0.123628\n",
       "satDemEng__Very satisfied                             0.132093\n",
       "generalElectionVote_Conservative                      0.132937\n",
       "ptvCon__Very likely                                   0.139973\n",
       "bestOnMII_Conservative                                0.143272\n",
       "likeCon__Strongly like                                0.144183\n",
       "satDemUK__Very satisfied                              0.144450\n",
       "effectsEUFinance__Much better                         0.145431\n",
       "euPriorityBalance__Control immigration                0.146283\n",
       "econGenRetro__Got a lot better                        0.147806\n",
       "econGenProsp__98.0                                    0.155826\n",
       "changeEconomy__Getting a lot better                   0.161944\n",
       "effectsEUNHS__Much better                             0.163101\n",
       "effectsEUWorkers__Much better                         0.164000\n",
       "approveUKGovt__Strongly approve                       0.172977\n",
       "likeMay__Strongly like                                0.174355\n",
       "effectsEUTrade__Much higher                           0.188302\n",
       "handleEUNegotiate__Very well                          0.189963\n",
       "euLeaveVoice__Much higher                             0.193195\n",
       "effectsEUEcon__Much better                            0.195952\n",
       "socialIdentityGlobalLeave__A great deal in common     0.197528\n",
       "EUIntegrationSelf__Protect our independence           0.236654\n",
       "happyEULeave__Extremely happy                         0.251715\n",
       "Re-Leave                                              1.000000\n",
       "euRefVote_Leave the EU                                     NaN\n",
       "dtype: float64"
      ]
     },
     "execution_count": 11,
     "metadata": {},
     "output_type": "execute_result"
    }
   ],
   "source": [
    "corr = BES_reduced[Remainers].corrwith(BES_reduced[\"Re-Leave\"][Remainers]).sort_values()\n",
    "corr"
   ]
  },
  {
   "cell_type": "code",
   "execution_count": 12,
   "metadata": {
    "collapsed": false
   },
   "outputs": [
    {
     "ename": "ImportError",
     "evalue": "No module named 'statsmodels'",
     "output_type": "error",
     "traceback": [
      "\u001b[0;31m---------------------------------------------------------------------------\u001b[0m",
      "\u001b[0;31mImportError\u001b[0m                               Traceback (most recent call last)",
      "\u001b[0;32m<ipython-input-12-6030a6549dc0>\u001b[0m in \u001b[0;36m<module>\u001b[0;34m()\u001b[0m\n\u001b[0;32m----> 1\u001b[0;31m \u001b[1;32mimport\u001b[0m \u001b[0mstatsmodels\u001b[0m\u001b[1;33m.\u001b[0m\u001b[0mapi\u001b[0m \u001b[1;32mas\u001b[0m \u001b[0msm\u001b[0m\u001b[1;33m\u001b[0m\u001b[0m\n\u001b[0m",
      "\u001b[0;31mImportError\u001b[0m: No module named 'statsmodels'"
     ]
    }
   ],
   "source": [
    "import statsmodels.api as sm"
   ]
  },
  {
   "cell_type": "code",
   "execution_count": null,
   "metadata": {
    "collapsed": true
   },
   "outputs": [],
   "source": []
  },
  {
   "cell_type": "code",
   "execution_count": null,
   "metadata": {
    "collapsed": true
   },
   "outputs": [],
   "source": []
  },
  {
   "cell_type": "code",
   "execution_count": null,
   "metadata": {
    "collapsed": true
   },
   "outputs": [],
   "source": []
  },
  {
   "cell_type": "code",
   "execution_count": null,
   "metadata": {
    "collapsed": true
   },
   "outputs": [],
   "source": []
  },
  {
   "cell_type": "code",
   "execution_count": null,
   "metadata": {
    "collapsed": true
   },
   "outputs": [],
   "source": []
  },
  {
   "cell_type": "code",
   "execution_count": null,
   "metadata": {
    "collapsed": true
   },
   "outputs": [],
   "source": []
  },
  {
   "cell_type": "code",
   "execution_count": null,
   "metadata": {
    "collapsed": true
   },
   "outputs": [],
   "source": []
  },
  {
   "cell_type": "code",
   "execution_count": null,
   "metadata": {
    "collapsed": true
   },
   "outputs": [],
   "source": []
  },
  {
   "cell_type": "code",
   "execution_count": null,
   "metadata": {
    "collapsed": true
   },
   "outputs": [],
   "source": []
  },
  {
   "cell_type": "code",
   "execution_count": null,
   "metadata": {
    "collapsed": true
   },
   "outputs": [],
   "source": [
    "## Comparison with Wave8 data (e.g. are they acting consistently with what they said before the referendum?)"
   ]
  },
  {
   "cell_type": "code",
   "execution_count": 22,
   "metadata": {
    "collapsed": false
   },
   "outputs": [
    {
     "data": {
      "text/plain": [
       "The decision will be final            15760\n",
       "There might be a second referendum    11318\n",
       "Don't know                             6424\n",
       "Name: euRefFinalW8, dtype: int64"
      ]
     },
     "execution_count": 22,
     "metadata": {},
     "output_type": "execute_result"
    }
   ],
   "source": [
    "BES_Panel['euRefFinalW8'].value_counts()"
   ]
  },
  {
   "cell_type": "code",
   "execution_count": 30,
   "metadata": {
    "collapsed": false
   },
   "outputs": [
    {
     "data": {
      "text/html": [
       "<div>\n",
       "<table border=\"1\" class=\"dataframe\">\n",
       "  <thead>\n",
       "    <tr style=\"text-align: right;\">\n",
       "      <th>euRefFinalW8</th>\n",
       "      <th>The decision will be final</th>\n",
       "      <th>There might be a second referendum</th>\n",
       "      <th>Don't know</th>\n",
       "    </tr>\n",
       "    <tr>\n",
       "      <th>euRefVoteW8</th>\n",
       "      <th></th>\n",
       "      <th></th>\n",
       "      <th></th>\n",
       "    </tr>\n",
       "  </thead>\n",
       "  <tbody>\n",
       "    <tr>\n",
       "      <th>Stay/remain in the EU</th>\n",
       "      <td>21.081095</td>\n",
       "      <td>15.017625</td>\n",
       "      <td>9.339418</td>\n",
       "    </tr>\n",
       "    <tr>\n",
       "      <th>Leave the EU</th>\n",
       "      <td>22.991982</td>\n",
       "      <td>17.076721</td>\n",
       "      <td>6.383714</td>\n",
       "    </tr>\n",
       "    <tr>\n",
       "      <th>I would/will not vote</th>\n",
       "      <td>0.202659</td>\n",
       "      <td>0.244076</td>\n",
       "      <td>1.076633</td>\n",
       "    </tr>\n",
       "    <tr>\n",
       "      <th>Don't know</th>\n",
       "      <td>1.969379</td>\n",
       "      <td>2.010493</td>\n",
       "      <td>2.606205</td>\n",
       "    </tr>\n",
       "  </tbody>\n",
       "</table>\n",
       "</div>"
      ],
      "text/plain": [
       "euRefFinalW8           The decision will be final  \\\n",
       "euRefVoteW8                                         \n",
       "Stay/remain in the EU                   21.081095   \n",
       "Leave the EU                            22.991982   \n",
       "I would/will not vote                    0.202659   \n",
       "Don't know                               1.969379   \n",
       "\n",
       "euRefFinalW8           There might be a second referendum  Don't know  \n",
       "euRefVoteW8                                                            \n",
       "Stay/remain in the EU                           15.017625    9.339418  \n",
       "Leave the EU                                    17.076721    6.383714  \n",
       "I would/will not vote                            0.244076    1.076633  \n",
       "Don't know                                       2.010493    2.606205  "
      ]
     },
     "execution_count": 30,
     "metadata": {},
     "output_type": "execute_result"
    }
   ],
   "source": [
    "crosstab = pd.crosstab(index   = BES_Panel[ 'euRefVoteW8' ],\n",
    "                       columns = BES_Panel[ 'euRefFinalW8' ],\n",
    "                       values  = BES_Panel[ \"wt_full_W8\" ],\n",
    "                       aggfunc = sum,\n",
    "                       normalize=True)\n",
    "100*crosstab"
   ]
  },
  {
   "cell_type": "code",
   "execution_count": 34,
   "metadata": {
    "collapsed": true
   },
   "outputs": [],
   "source": [
    "BES_Remain = BES_Panel[ BES_Panel['euRefVoteW10']== 'Stay/remain in the EU' ]"
   ]
  },
  {
   "cell_type": "code",
   "execution_count": 46,
   "metadata": {
    "collapsed": true
   },
   "outputs": [],
   "source": [
    "BES_W10_do_over = BES_Remain['euRefDoOverW10'].cat.reorder_categories(['No', 'Don\\'t know', 'Yes' ]).cat.codes\n",
    "\n",
    "BES_W10_do_over.replace(-1,np.nan,inplace=True)"
   ]
  },
  {
   "cell_type": "code",
   "execution_count": 45,
   "metadata": {
    "collapsed": true
   },
   "outputs": [],
   "source": [
    "BES_W8_do_over = BES_Remain['euRefFinalW8'].cat.reorder_categories(['The decision will be final',\n",
    "                                                   'Don\\'t know',\n",
    "                                                   'There might be a second referendum']).cat.codes\n",
    "BES_W8_do_over.replace(-1,np.nan,inplace=True)"
   ]
  },
  {
   "cell_type": "code",
   "execution_count": 55,
   "metadata": {
    "collapsed": false
   },
   "outputs": [
    {
     "data": {
      "text/plain": [
       "0.086376495043205895"
      ]
     },
     "execution_count": 55,
     "metadata": {},
     "output_type": "execute_result"
    }
   ],
   "source": [
    "non_nulls = BES_W8_do_over.notnull() & BES_W10_do_over.notnull()\n",
    "# nans\n",
    "BES_W10_do_over[non_nulls].corr(BES_W8_do_over)"
   ]
  },
  {
   "cell_type": "code",
   "execution_count": 51,
   "metadata": {
    "collapsed": false
   },
   "outputs": [
    {
     "data": {
      "text/html": [
       "<div>\n",
       "<table border=\"1\" class=\"dataframe\">\n",
       "  <thead>\n",
       "    <tr style=\"text-align: right;\">\n",
       "      <th></th>\n",
       "      <th>euRefDoOverW10</th>\n",
       "      <th>euRefFinalW8</th>\n",
       "    </tr>\n",
       "  </thead>\n",
       "  <tbody>\n",
       "    <tr>\n",
       "      <th>6</th>\n",
       "      <td>Yes</td>\n",
       "      <td>There might be a second referendum</td>\n",
       "    </tr>\n",
       "    <tr>\n",
       "      <th>8</th>\n",
       "      <td>Yes</td>\n",
       "      <td>The decision will be final</td>\n",
       "    </tr>\n",
       "    <tr>\n",
       "      <th>17</th>\n",
       "      <td>Yes</td>\n",
       "      <td>There might be a second referendum</td>\n",
       "    </tr>\n",
       "    <tr>\n",
       "      <th>40</th>\n",
       "      <td>Yes</td>\n",
       "      <td>Don't know</td>\n",
       "    </tr>\n",
       "    <tr>\n",
       "      <th>45</th>\n",
       "      <td>Yes</td>\n",
       "      <td>There might be a second referendum</td>\n",
       "    </tr>\n",
       "    <tr>\n",
       "      <th>48</th>\n",
       "      <td>No</td>\n",
       "      <td>The decision will be final</td>\n",
       "    </tr>\n",
       "    <tr>\n",
       "      <th>55</th>\n",
       "      <td>Don't know</td>\n",
       "      <td>The decision will be final</td>\n",
       "    </tr>\n",
       "    <tr>\n",
       "      <th>56</th>\n",
       "      <td>Yes</td>\n",
       "      <td>The decision will be final</td>\n",
       "    </tr>\n",
       "    <tr>\n",
       "      <th>60</th>\n",
       "      <td>No</td>\n",
       "      <td>The decision will be final</td>\n",
       "    </tr>\n",
       "    <tr>\n",
       "      <th>62</th>\n",
       "      <td>Yes</td>\n",
       "      <td>The decision will be final</td>\n",
       "    </tr>\n",
       "    <tr>\n",
       "      <th>65</th>\n",
       "      <td>Yes</td>\n",
       "      <td>The decision will be final</td>\n",
       "    </tr>\n",
       "    <tr>\n",
       "      <th>76</th>\n",
       "      <td>Yes</td>\n",
       "      <td>NaN</td>\n",
       "    </tr>\n",
       "    <tr>\n",
       "      <th>77</th>\n",
       "      <td>Yes</td>\n",
       "      <td>There might be a second referendum</td>\n",
       "    </tr>\n",
       "    <tr>\n",
       "      <th>80</th>\n",
       "      <td>Yes</td>\n",
       "      <td>The decision will be final</td>\n",
       "    </tr>\n",
       "    <tr>\n",
       "      <th>93</th>\n",
       "      <td>No</td>\n",
       "      <td>The decision will be final</td>\n",
       "    </tr>\n",
       "    <tr>\n",
       "      <th>95</th>\n",
       "      <td>No</td>\n",
       "      <td>There might be a second referendum</td>\n",
       "    </tr>\n",
       "    <tr>\n",
       "      <th>100</th>\n",
       "      <td>Don't know</td>\n",
       "      <td>The decision will be final</td>\n",
       "    </tr>\n",
       "    <tr>\n",
       "      <th>103</th>\n",
       "      <td>Yes</td>\n",
       "      <td>NaN</td>\n",
       "    </tr>\n",
       "    <tr>\n",
       "      <th>107</th>\n",
       "      <td>Yes</td>\n",
       "      <td>Don't know</td>\n",
       "    </tr>\n",
       "    <tr>\n",
       "      <th>117</th>\n",
       "      <td>Yes</td>\n",
       "      <td>The decision will be final</td>\n",
       "    </tr>\n",
       "    <tr>\n",
       "      <th>118</th>\n",
       "      <td>Yes</td>\n",
       "      <td>Don't know</td>\n",
       "    </tr>\n",
       "    <tr>\n",
       "      <th>119</th>\n",
       "      <td>Yes</td>\n",
       "      <td>The decision will be final</td>\n",
       "    </tr>\n",
       "    <tr>\n",
       "      <th>120</th>\n",
       "      <td>Yes</td>\n",
       "      <td>Don't know</td>\n",
       "    </tr>\n",
       "    <tr>\n",
       "      <th>126</th>\n",
       "      <td>Yes</td>\n",
       "      <td>The decision will be final</td>\n",
       "    </tr>\n",
       "    <tr>\n",
       "      <th>127</th>\n",
       "      <td>Yes</td>\n",
       "      <td>There might be a second referendum</td>\n",
       "    </tr>\n",
       "    <tr>\n",
       "      <th>139</th>\n",
       "      <td>Don't know</td>\n",
       "      <td>The decision will be final</td>\n",
       "    </tr>\n",
       "    <tr>\n",
       "      <th>143</th>\n",
       "      <td>Yes</td>\n",
       "      <td>The decision will be final</td>\n",
       "    </tr>\n",
       "    <tr>\n",
       "      <th>145</th>\n",
       "      <td>Yes</td>\n",
       "      <td>There might be a second referendum</td>\n",
       "    </tr>\n",
       "    <tr>\n",
       "      <th>161</th>\n",
       "      <td>No</td>\n",
       "      <td>There might be a second referendum</td>\n",
       "    </tr>\n",
       "    <tr>\n",
       "      <th>164</th>\n",
       "      <td>No</td>\n",
       "      <td>The decision will be final</td>\n",
       "    </tr>\n",
       "    <tr>\n",
       "      <th>...</th>\n",
       "      <td>...</td>\n",
       "      <td>...</td>\n",
       "    </tr>\n",
       "    <tr>\n",
       "      <th>63758</th>\n",
       "      <td>Yes</td>\n",
       "      <td>NaN</td>\n",
       "    </tr>\n",
       "    <tr>\n",
       "      <th>63759</th>\n",
       "      <td>Yes</td>\n",
       "      <td>NaN</td>\n",
       "    </tr>\n",
       "    <tr>\n",
       "      <th>63760</th>\n",
       "      <td>Yes</td>\n",
       "      <td>NaN</td>\n",
       "    </tr>\n",
       "    <tr>\n",
       "      <th>63761</th>\n",
       "      <td>Yes</td>\n",
       "      <td>NaN</td>\n",
       "    </tr>\n",
       "    <tr>\n",
       "      <th>63764</th>\n",
       "      <td>No</td>\n",
       "      <td>NaN</td>\n",
       "    </tr>\n",
       "    <tr>\n",
       "      <th>63765</th>\n",
       "      <td>No</td>\n",
       "      <td>NaN</td>\n",
       "    </tr>\n",
       "    <tr>\n",
       "      <th>63766</th>\n",
       "      <td>Yes</td>\n",
       "      <td>NaN</td>\n",
       "    </tr>\n",
       "    <tr>\n",
       "      <th>63767</th>\n",
       "      <td>No</td>\n",
       "      <td>NaN</td>\n",
       "    </tr>\n",
       "    <tr>\n",
       "      <th>63768</th>\n",
       "      <td>Yes</td>\n",
       "      <td>NaN</td>\n",
       "    </tr>\n",
       "    <tr>\n",
       "      <th>63770</th>\n",
       "      <td>Yes</td>\n",
       "      <td>NaN</td>\n",
       "    </tr>\n",
       "    <tr>\n",
       "      <th>63771</th>\n",
       "      <td>Don't know</td>\n",
       "      <td>NaN</td>\n",
       "    </tr>\n",
       "    <tr>\n",
       "      <th>63773</th>\n",
       "      <td>Yes</td>\n",
       "      <td>NaN</td>\n",
       "    </tr>\n",
       "    <tr>\n",
       "      <th>63775</th>\n",
       "      <td>Yes</td>\n",
       "      <td>NaN</td>\n",
       "    </tr>\n",
       "    <tr>\n",
       "      <th>63776</th>\n",
       "      <td>No</td>\n",
       "      <td>NaN</td>\n",
       "    </tr>\n",
       "    <tr>\n",
       "      <th>63778</th>\n",
       "      <td>Don't know</td>\n",
       "      <td>NaN</td>\n",
       "    </tr>\n",
       "    <tr>\n",
       "      <th>63780</th>\n",
       "      <td>Yes</td>\n",
       "      <td>NaN</td>\n",
       "    </tr>\n",
       "    <tr>\n",
       "      <th>63781</th>\n",
       "      <td>Yes</td>\n",
       "      <td>NaN</td>\n",
       "    </tr>\n",
       "    <tr>\n",
       "      <th>63782</th>\n",
       "      <td>Yes</td>\n",
       "      <td>NaN</td>\n",
       "    </tr>\n",
       "    <tr>\n",
       "      <th>63783</th>\n",
       "      <td>Don't know</td>\n",
       "      <td>NaN</td>\n",
       "    </tr>\n",
       "    <tr>\n",
       "      <th>63784</th>\n",
       "      <td>Yes</td>\n",
       "      <td>NaN</td>\n",
       "    </tr>\n",
       "    <tr>\n",
       "      <th>63786</th>\n",
       "      <td>Yes</td>\n",
       "      <td>NaN</td>\n",
       "    </tr>\n",
       "    <tr>\n",
       "      <th>63787</th>\n",
       "      <td>No</td>\n",
       "      <td>NaN</td>\n",
       "    </tr>\n",
       "    <tr>\n",
       "      <th>63792</th>\n",
       "      <td>Yes</td>\n",
       "      <td>NaN</td>\n",
       "    </tr>\n",
       "    <tr>\n",
       "      <th>63794</th>\n",
       "      <td>Yes</td>\n",
       "      <td>NaN</td>\n",
       "    </tr>\n",
       "    <tr>\n",
       "      <th>63796</th>\n",
       "      <td>Don't know</td>\n",
       "      <td>NaN</td>\n",
       "    </tr>\n",
       "    <tr>\n",
       "      <th>63797</th>\n",
       "      <td>Yes</td>\n",
       "      <td>NaN</td>\n",
       "    </tr>\n",
       "    <tr>\n",
       "      <th>63798</th>\n",
       "      <td>Yes</td>\n",
       "      <td>NaN</td>\n",
       "    </tr>\n",
       "    <tr>\n",
       "      <th>63799</th>\n",
       "      <td>Yes</td>\n",
       "      <td>NaN</td>\n",
       "    </tr>\n",
       "    <tr>\n",
       "      <th>63802</th>\n",
       "      <td>Yes</td>\n",
       "      <td>NaN</td>\n",
       "    </tr>\n",
       "    <tr>\n",
       "      <th>63803</th>\n",
       "      <td>Yes</td>\n",
       "      <td>NaN</td>\n",
       "    </tr>\n",
       "  </tbody>\n",
       "</table>\n",
       "<p>15016 rows × 2 columns</p>\n",
       "</div>"
      ],
      "text/plain": [
       "      euRefDoOverW10                        euRefFinalW8\n",
       "6                Yes  There might be a second referendum\n",
       "8                Yes          The decision will be final\n",
       "17               Yes  There might be a second referendum\n",
       "40               Yes                          Don't know\n",
       "45               Yes  There might be a second referendum\n",
       "48                No          The decision will be final\n",
       "55        Don't know          The decision will be final\n",
       "56               Yes          The decision will be final\n",
       "60                No          The decision will be final\n",
       "62               Yes          The decision will be final\n",
       "65               Yes          The decision will be final\n",
       "76               Yes                                 NaN\n",
       "77               Yes  There might be a second referendum\n",
       "80               Yes          The decision will be final\n",
       "93                No          The decision will be final\n",
       "95                No  There might be a second referendum\n",
       "100       Don't know          The decision will be final\n",
       "103              Yes                                 NaN\n",
       "107              Yes                          Don't know\n",
       "117              Yes          The decision will be final\n",
       "118              Yes                          Don't know\n",
       "119              Yes          The decision will be final\n",
       "120              Yes                          Don't know\n",
       "126              Yes          The decision will be final\n",
       "127              Yes  There might be a second referendum\n",
       "139       Don't know          The decision will be final\n",
       "143              Yes          The decision will be final\n",
       "145              Yes  There might be a second referendum\n",
       "161               No  There might be a second referendum\n",
       "164               No          The decision will be final\n",
       "...              ...                                 ...\n",
       "63758            Yes                                 NaN\n",
       "63759            Yes                                 NaN\n",
       "63760            Yes                                 NaN\n",
       "63761            Yes                                 NaN\n",
       "63764             No                                 NaN\n",
       "63765             No                                 NaN\n",
       "63766            Yes                                 NaN\n",
       "63767             No                                 NaN\n",
       "63768            Yes                                 NaN\n",
       "63770            Yes                                 NaN\n",
       "63771     Don't know                                 NaN\n",
       "63773            Yes                                 NaN\n",
       "63775            Yes                                 NaN\n",
       "63776             No                                 NaN\n",
       "63778     Don't know                                 NaN\n",
       "63780            Yes                                 NaN\n",
       "63781            Yes                                 NaN\n",
       "63782            Yes                                 NaN\n",
       "63783     Don't know                                 NaN\n",
       "63784            Yes                                 NaN\n",
       "63786            Yes                                 NaN\n",
       "63787             No                                 NaN\n",
       "63792            Yes                                 NaN\n",
       "63794            Yes                                 NaN\n",
       "63796     Don't know                                 NaN\n",
       "63797            Yes                                 NaN\n",
       "63798            Yes                                 NaN\n",
       "63799            Yes                                 NaN\n",
       "63802            Yes                                 NaN\n",
       "63803            Yes                                 NaN\n",
       "\n",
       "[15016 rows x 2 columns]"
      ]
     },
     "execution_count": 51,
     "metadata": {},
     "output_type": "execute_result"
    }
   ],
   "source": [
    "BES_Remain[ [ 'euRefDoOverW10', 'euRefFinalW8' ]]"
   ]
  },
  {
   "cell_type": "code",
   "execution_count": null,
   "metadata": {
    "collapsed": true
   },
   "outputs": [],
   "source": [
    "# weird -> look correlations!"
   ]
  },
  {
   "cell_type": "code",
   "execution_count": 56,
   "metadata": {
    "collapsed": false
   },
   "outputs": [
    {
     "name": "stdout",
     "output_type": "stream",
     "text": [
      "BES_numeric (31409, 659)\n"
     ]
    }
   ],
   "source": [
    "BES_numeric = pd.read_hdf( BES_data_folder+\"BESW8numeric.hdf\", \"BESW8numeric\" )\n",
    "print(\"BES_numeric\",  BES_numeric.shape )"
   ]
  },
  {
   "cell_type": "code",
   "execution_count": 57,
   "metadata": {
    "collapsed": false
   },
   "outputs": [
    {
     "name": "stdout",
     "output_type": "stream",
     "text": [
      "cat_dictionary 650\n"
     ]
    }
   ],
   "source": [
    "fname = BES_data_folder+\"cat_dictionary\"+\".pkl\"\n",
    "with open(fname, \"rb\") as f:\n",
    "    cat_dictionary = pickle.load( f )\n",
    "print(\"cat_dictionary\", len( cat_dictionary ) )"
   ]
  },
  {
   "cell_type": "code",
   "execution_count": 58,
   "metadata": {
    "collapsed": false
   },
   "outputs": [
    {
     "name": "stdout",
     "output_type": "stream",
     "text": [
      "BES_reduced_with_na (31409, 454)\n"
     ]
    }
   ],
   "source": [
    "BES_reduced_with_na = pd.read_hdf(BES_data_folder+\"BES_reduced_with_na.hdf\",\"BES_reduced_with_na\")\n",
    "print(\"BES_reduced_with_na\",  BES_reduced_with_na.shape )"
   ]
  },
  {
   "cell_type": "code",
   "execution_count": 76,
   "metadata": {
    "collapsed": false
   },
   "outputs": [
    {
     "data": {
      "text/plain": [
       "(27075,)"
      ]
     },
     "execution_count": 76,
     "metadata": {},
     "output_type": "execute_result"
    }
   ],
   "source": [
    "BES_Panel[BES_Panel.wave8==1].country.dropna().shape"
   ]
  },
  {
   "cell_type": "code",
   "execution_count": 77,
   "metadata": {
    "collapsed": false
   },
   "outputs": [
    {
     "data": {
      "text/plain": [
       "(25376,)"
      ]
     },
     "execution_count": 77,
     "metadata": {},
     "output_type": "execute_result"
    }
   ],
   "source": [
    "BES_numeric.country.dropna().shape"
   ]
  },
  {
   "cell_type": "code",
   "execution_count": null,
   "metadata": {
    "collapsed": true
   },
   "outputs": [],
   "source": []
  },
  {
   "cell_type": "code",
   "execution_count": null,
   "metadata": {
    "collapsed": true
   },
   "outputs": [],
   "source": []
  },
  {
   "cell_type": "code",
   "execution_count": null,
   "metadata": {
    "collapsed": true
   },
   "outputs": [],
   "source": []
  },
  {
   "cell_type": "code",
   "execution_count": 87,
   "metadata": {
    "collapsed": false
   },
   "outputs": [
    {
     "data": {
      "text/plain": [
       "(4349, 4248)"
      ]
     },
     "execution_count": 87,
     "metadata": {},
     "output_type": "execute_result"
    }
   ],
   "source": [
    "BES_Panel[BES_Panel[\"new_eu_split\"]=='Re-Leave'].shape"
   ]
  },
  {
   "cell_type": "code",
   "execution_count": 95,
   "metadata": {
    "collapsed": true
   },
   "outputs": [],
   "source": [
    "Re_leave_by_con = BES_Panel[BES_Panel[\"new_eu_split\"]=='Re-Leave'].pcon.replace(\"\",np.nan).value_counts()"
   ]
  },
  {
   "cell_type": "code",
   "execution_count": null,
   "metadata": {
    "collapsed": true
   },
   "outputs": [],
   "source": [
    "# 1089 - blank!\n",
    "# 3260 - not blank!"
   ]
  },
  {
   "cell_type": "code",
   "execution_count": 96,
   "metadata": {
    "collapsed": true
   },
   "outputs": [],
   "source": [
    "Not_Re_leave_by_con = BES_Panel[BES_Panel[\"new_eu_split\"]!='Re-Leave'].pcon.replace(\"\",np.nan).value_counts()"
   ]
  },
  {
   "cell_type": "code",
   "execution_count": 97,
   "metadata": {
    "collapsed": false
   },
   "outputs": [
    {
     "data": {
      "text/plain": [
       "(626,)"
      ]
     },
     "execution_count": 97,
     "metadata": {},
     "output_type": "execute_result"
    }
   ],
   "source": [
    "Re_leave_by_con.shape"
   ]
  },
  {
   "cell_type": "code",
   "execution_count": 98,
   "metadata": {
    "collapsed": false
   },
   "outputs": [
    {
     "data": {
      "text/plain": [
       "(634,)"
      ]
     },
     "execution_count": 98,
     "metadata": {},
     "output_type": "execute_result"
    }
   ],
   "source": [
    "Not_Re_leave_by_con.shape"
   ]
  },
  {
   "cell_type": "code",
   "execution_count": 110,
   "metadata": {
    "collapsed": false
   },
   "outputs": [
    {
     "data": {
      "text/plain": [
       "{'Ratio': 0.053846153846153849, 'Seat': 'Edinburgh North and Leith'}"
      ]
     },
     "execution_count": 110,
     "metadata": {},
     "output_type": "execute_result"
    }
   ],
   "source": [
    "dict({\"Ratio\":rat,\"Seat\":con})"
   ]
  },
  {
   "cell_type": "code",
   "execution_count": 127,
   "metadata": {
    "collapsed": true
   },
   "outputs": [],
   "source": [
    "ratio_by_seat = pd.DataFrame(columns = [\"Ratio\",\"Seat\"])"
   ]
  },
  {
   "cell_type": "code",
   "execution_count": 129,
   "metadata": {
    "collapsed": true
   },
   "outputs": [],
   "source": [
    "counter = 0\n",
    "for con in Not_Re_leave_by_con.index:\n",
    "    \n",
    "    if (con in Re_leave_by_con.index):\n",
    "        rat = Re_leave_by_con[con]/Not_Re_leave_by_con[con]\n",
    "    else:\n",
    "        rat = 0\n",
    "    ratio_by_seat.loc[counter] = [rat,con]\n",
    "    counter = counter + 1\n"
   ]
  },
  {
   "cell_type": "code",
   "execution_count": 133,
   "metadata": {
    "collapsed": true
   },
   "outputs": [],
   "source": [
    "ratio_by_seat.Ratio = ratio_by_seat.Ratio / ratio_by_seat.Ratio.mean()"
   ]
  },
  {
   "cell_type": "code",
   "execution_count": 157,
   "metadata": {
    "collapsed": false
   },
   "outputs": [
    {
     "data": {
      "text/plain": [
       "<matplotlib.axes._subplots.AxesSubplot at 0x1cef64e0>"
      ]
     },
     "execution_count": 157,
     "metadata": {},
     "output_type": "execute_result"
    },
    {
     "data": {
      "image/png": "[encoded data removed]",
      "text/plain": [
       "<matplotlib.figure.Figure at 0xb1404a8>"
      ]
     },
     "metadata": {},
     "output_type": "display_data"
    }
   ],
   "source": [
    "ratio_by_seat[\"Ratio\"].hist()\n"
   ]
  },
  {
   "cell_type": "code",
   "execution_count": 162,
   "metadata": {
    "collapsed": false
   },
   "outputs": [
    {
     "data": {
      "text/plain": [
       "array([ 0.        ,  0.61128913,  0.84224666,  1.07994413,  1.38710369,\n",
       "        2.91584915])"
      ]
     },
     "execution_count": 162,
     "metadata": {},
     "output_type": "execute_result"
    }
   ],
   "source": [
    "ratio_by_seat[\"Ratio\"].quantile([0,.2,.4,.6,.8,1.0]).values"
   ]
  },
  {
   "cell_type": "code",
   "execution_count": 161,
   "metadata": {
    "collapsed": true
   },
   "outputs": [],
   "source": [
    "import folium\n",
    "from IPython.display import HTML"
   ]
  },
  {
   "cell_type": "code",
   "execution_count": 167,
   "metadata": {
    "collapsed": true
   },
   "outputs": [],
   "source": [
    "# map = folium.Map(location=[53, 0],zoom_start=6)\n",
    "# map.choropleth(geo_path='wpc.json', data=ratio_by_seat, columns=['Seat', 'Ratio'],\n",
    "#              key_on='feature.properties.PCON13NM',threshold_scale=[ 0.0        ,  0.6,  0.84,  1.08,  1.39,\n",
    "#         3.0],\n",
    "#              fill_color='OrRd')\n",
    "# map # embed_map(map)"
   ]
  },
  {
   "cell_type": "code",
   "execution_count": null,
   "metadata": {
    "collapsed": true
   },
   "outputs": [],
   "source": []
  },
  {
   "cell_type": "code",
   "execution_count": null,
   "metadata": {
    "collapsed": true
   },
   "outputs": [],
   "source": []
  },
  {
   "cell_type": "code",
   "execution_count": 164,
   "metadata": {
    "collapsed": false
   },
   "outputs": [
    {
     "data": {
      "text/plain": [
       "['miiW1',\n",
       " 'miiW2',\n",
       " 'miiW3',\n",
       " 'miiW4',\n",
       " 'miiW5',\n",
       " 'miiW6',\n",
       " 'miiW7',\n",
       " 'miieuW7',\n",
       " 'miiW8',\n",
       " 'miieuW8',\n",
       " 'miiW9',\n",
       " 'miiW10',\n",
       " 'miilabelcertaintyW1',\n",
       " 'miilabelcertaintyW4',\n",
       " 'miilabelcertaintyW3',\n",
       " 'miilabelcertaintyW2',\n",
       " 'miilabelcertaintyW5',\n",
       " 'miilabelcertaintyW6',\n",
       " 'miilabelW1',\n",
       " 'miilabelW2',\n",
       " 'miilabelW3',\n",
       " 'miilabelW4',\n",
       " 'miilabelW5',\n",
       " 'miilabelW6']"
      ]
     },
     "execution_count": 164,
     "metadata": {},
     "output_type": "execute_result"
    }
   ],
   "source": [
    "[x for x in BES_Panel.columns if 'mii' in x]"
   ]
  },
  {
   "cell_type": "code",
   "execution_count": 165,
   "metadata": {
    "collapsed": false
   },
   "outputs": [
    {
     "data": {
      "text/plain": [
       "0                    nhs\n",
       "1        economy general\n",
       "2             Don't know\n",
       "3                    NaN\n",
       "4                    NaN\n",
       "5                    NaN\n",
       "6              terrorism\n",
       "7               taxation\n",
       "8           unemployment\n",
       "9        economy general\n",
       "10       economy general\n",
       "11                   NaN\n",
       "12                   NaN\n",
       "13       economy general\n",
       "14       economy general\n",
       "15             education\n",
       "16       economy general\n",
       "17                   NaN\n",
       "18                   NaN\n",
       "19                   NaN\n",
       "20                   NaN\n",
       "21                   NaN\n",
       "22                europe\n",
       "23       economy general\n",
       "24                   NaN\n",
       "25                   NaN\n",
       "26           immigration\n",
       "27           immigration\n",
       "28       economy general\n",
       "29           immigration\n",
       "              ...       \n",
       "64659                NaN\n",
       "64660                NaN\n",
       "64661                NaN\n",
       "64662                NaN\n",
       "64663                NaN\n",
       "64664                NaN\n",
       "64665                NaN\n",
       "64666                NaN\n",
       "64667                NaN\n",
       "64668                NaN\n",
       "64669                NaN\n",
       "64670                NaN\n",
       "64671                NaN\n",
       "64672                NaN\n",
       "64673                NaN\n",
       "64674                NaN\n",
       "64675                NaN\n",
       "64676                NaN\n",
       "64677                NaN\n",
       "64678                NaN\n",
       "64679                NaN\n",
       "64680                NaN\n",
       "64681                NaN\n",
       "64682                NaN\n",
       "64683                NaN\n",
       "64684                NaN\n",
       "64685                NaN\n",
       "64686                NaN\n",
       "64687                NaN\n",
       "64688                NaN\n",
       "Name: miilabelW5, dtype: category\n",
       "Categories (32, object): [No problem < unemployment < nhs < immigration ... flooding < iraq war < constitutional < Don't know]"
      ]
     },
     "execution_count": 165,
     "metadata": {},
     "output_type": "execute_result"
    }
   ],
   "source": [
    "BES_Panel['miilabelW5']"
   ]
  },
  {
   "cell_type": "code",
   "execution_count": 170,
   "metadata": {
    "collapsed": true
   },
   "outputs": [],
   "source": [
    "Re_leave_by_gor = BES_Panel[BES_Panel[\"new_eu_split\"]=='Re-Leave'].gor.replace(\"\",np.nan).value_counts()"
   ]
  },
  {
   "cell_type": "code",
   "execution_count": 183,
   "metadata": {
    "collapsed": false
   },
   "outputs": [
    {
     "data": {
      "text/plain": [
       "Scotland                    503\n",
       "South East                  363\n",
       "London                      349\n",
       "North West                  250\n",
       "Wales                       218\n",
       "Yorkshire and the Humber    215\n",
       "East of England             210\n",
       "South West                  207\n",
       "East Midlands               183\n",
       "West Midlands               179\n",
       "North East                  104\n",
       "Northern Ireland              0\n",
       "Name: gor, dtype: int64"
      ]
     },
     "execution_count": 183,
     "metadata": {},
     "output_type": "execute_result"
    }
   ],
   "source": [
    "Re_leave_by_gor"
   ]
  },
  {
   "cell_type": "code",
   "execution_count": 173,
   "metadata": {
    "collapsed": true
   },
   "outputs": [],
   "source": [
    "Not_Re_leave_by_gor = BES_Panel[BES_Panel[\"new_eu_split\"]!='Re-Leave'].gor.replace(\"\",np.nan).value_counts()"
   ]
  },
  {
   "cell_type": "code",
   "execution_count": 180,
   "metadata": {
    "collapsed": false
   },
   "outputs": [
    {
     "data": {
      "text/plain": [
       "Scotland                    7787\n",
       "London                      5904\n",
       "South East                  5749\n",
       "Wales                       4499\n",
       "North West                  4307\n",
       "East of England             3946\n",
       "Yorkshire and the Humber    3556\n",
       "South West                  3548\n",
       "West Midlands               3273\n",
       "East Midlands               2998\n",
       "North East                  1832\n",
       "Name: gor, dtype: int64"
      ]
     },
     "execution_count": 180,
     "metadata": {},
     "output_type": "execute_result"
    }
   ],
   "source": [
    "Not_Re_leave_by_gor.drop(\"Northern Ireland\")"
   ]
  },
  {
   "cell_type": "code",
   "execution_count": 181,
   "metadata": {
    "collapsed": false
   },
   "outputs": [
    {
     "data": {
      "text/html": [
       "<div>\n",
       "<table border=\"1\" class=\"dataframe\">\n",
       "  <thead>\n",
       "    <tr style=\"text-align: right;\">\n",
       "      <th></th>\n",
       "      <th>0</th>\n",
       "    </tr>\n",
       "  </thead>\n",
       "  <tbody>\n",
       "    <tr>\n",
       "      <th>Scotland</th>\n",
       "      <td>1.115035</td>\n",
       "    </tr>\n",
       "    <tr>\n",
       "      <th>London</th>\n",
       "      <td>1.061331</td>\n",
       "    </tr>\n",
       "    <tr>\n",
       "      <th>South East</th>\n",
       "      <td>1.047910</td>\n",
       "    </tr>\n",
       "    <tr>\n",
       "      <th>Wales</th>\n",
       "      <td>0.959212</td>\n",
       "    </tr>\n",
       "    <tr>\n",
       "      <th>North West</th>\n",
       "      <td>0.873720</td>\n",
       "    </tr>\n",
       "    <tr>\n",
       "      <th>East of England</th>\n",
       "      <td>0.940529</td>\n",
       "    </tr>\n",
       "    <tr>\n",
       "      <th>Yorkshire and the Humber</th>\n",
       "      <td>1.019409</td>\n",
       "    </tr>\n",
       "    <tr>\n",
       "      <th>South West</th>\n",
       "      <td>1.007111</td>\n",
       "    </tr>\n",
       "    <tr>\n",
       "      <th>West Midlands</th>\n",
       "      <td>0.965152</td>\n",
       "    </tr>\n",
       "    <tr>\n",
       "      <th>East Midlands</th>\n",
       "      <td>1.030652</td>\n",
       "    </tr>\n",
       "    <tr>\n",
       "      <th>North East</th>\n",
       "      <td>0.979938</td>\n",
       "    </tr>\n",
       "  </tbody>\n",
       "</table>\n",
       "</div>"
      ],
      "text/plain": [
       "                                 0\n",
       "Scotland                  1.115035\n",
       "London                    1.061331\n",
       "South East                1.047910\n",
       "Wales                     0.959212\n",
       "North West                0.873720\n",
       "East of England           0.940529\n",
       "Yorkshire and the Humber  1.019409\n",
       "South West                1.007111\n",
       "West Midlands             0.965152\n",
       "East Midlands             1.030652\n",
       "North East                0.979938"
      ]
     },
     "execution_count": 181,
     "metadata": {},
     "output_type": "execute_result"
    }
   ],
   "source": [
    "ratio = Re_leave_by_gor.drop(\"Northern Ireland\").values/Not_Re_leave_by_gor.drop(\"Northern Ireland\").values\n",
    "ratio = ratio/ratio.mean()\n",
    "pd.DataFrame(index = Not_Re_leave_by_gor.drop(\"Northern Ireland\").index,data=ratio)"
   ]
  },
  {
   "cell_type": "code",
   "execution_count": 191,
   "metadata": {
    "collapsed": false
   },
   "outputs": [
    {
     "data": {
      "text/html": [
       "<div>\n",
       "<table border=\"1\" class=\"dataframe\">\n",
       "  <thead>\n",
       "    <tr style=\"text-align: right;\">\n",
       "      <th></th>\n",
       "      <th>Re_Leave/HardRemain by region</th>\n",
       "    </tr>\n",
       "  </thead>\n",
       "  <tbody>\n",
       "    <tr>\n",
       "      <th>Scotland</th>\n",
       "      <td>0.954035</td>\n",
       "    </tr>\n",
       "    <tr>\n",
       "      <th>London</th>\n",
       "      <td>0.924960</td>\n",
       "    </tr>\n",
       "    <tr>\n",
       "      <th>South East</th>\n",
       "      <td>1.049631</td>\n",
       "    </tr>\n",
       "    <tr>\n",
       "      <th>North West</th>\n",
       "      <td>0.934775</td>\n",
       "    </tr>\n",
       "    <tr>\n",
       "      <th>Wales</th>\n",
       "      <td>0.851683</td>\n",
       "    </tr>\n",
       "    <tr>\n",
       "      <th>Yorkshire and the Humber</th>\n",
       "      <td>0.966840</td>\n",
       "    </tr>\n",
       "    <tr>\n",
       "      <th>South West</th>\n",
       "      <td>1.037601</td>\n",
       "    </tr>\n",
       "    <tr>\n",
       "      <th>East of England</th>\n",
       "      <td>1.035834</td>\n",
       "    </tr>\n",
       "    <tr>\n",
       "      <th>West Midlands</th>\n",
       "      <td>1.039606</td>\n",
       "    </tr>\n",
       "    <tr>\n",
       "      <th>East Midlands</th>\n",
       "      <td>1.159750</td>\n",
       "    </tr>\n",
       "    <tr>\n",
       "      <th>North East</th>\n",
       "      <td>1.045287</td>\n",
       "    </tr>\n",
       "  </tbody>\n",
       "</table>\n",
       "</div>"
      ],
      "text/plain": [
       "                          Re_Leave/HardRemain by region\n",
       "Scotland                                       0.954035\n",
       "London                                         0.924960\n",
       "South East                                     1.049631\n",
       "North West                                     0.934775\n",
       "Wales                                          0.851683\n",
       "Yorkshire and the Humber                       0.966840\n",
       "South West                                     1.037601\n",
       "East of England                                1.035834\n",
       "West Midlands                                  1.039606\n",
       "East Midlands                                  1.159750\n",
       "North East                                     1.045287"
      ]
     },
     "execution_count": 191,
     "metadata": {},
     "output_type": "execute_result"
    }
   ],
   "source": [
    "Hard_Remain_by_gor = BES_Panel[BES_Panel[\"new_eu_split\"]=='Hard Remain'].gor.replace(\"\",np.nan).value_counts()\n",
    "\n",
    "ratio = Re_leave_by_gor.drop(\"Northern Ireland\").values/Hard_Remain_by_gor.drop(\"Northern Ireland\").values\n",
    "ratio = ratio/ratio.mean()\n",
    "pd.DataFrame(index = Hard_Remain_by_gor.drop(\"Northern Ireland\").index,columns = [\"Re_Leave/HardRemain by region\"],data=ratio)"
   ]
  },
  {
   "cell_type": "code",
   "execution_count": null,
   "metadata": {
    "collapsed": true
   },
   "outputs": [],
   "source": []
  },
  {
   "cell_type": "code",
   "execution_count": 187,
   "metadata": {
    "collapsed": false
   },
   "outputs": [
    {
     "data": {
      "text/plain": [
       "Hard Leave                   12127\n",
       "Hard Remain                  10667\n",
       "Re-Leave                      4349\n",
       "Don't know                    1450\n",
       "I would/will not vote         1118\n",
       "Leave but favour sec. ref      608\n",
       "Name: new_eu_split, dtype: int64"
      ]
     },
     "execution_count": 187,
     "metadata": {},
     "output_type": "execute_result"
    }
   ],
   "source": [
    "BES_Panel[\"new_eu_split\"].value_counts()"
   ]
  },
  {
   "cell_type": "code",
   "execution_count": 192,
   "metadata": {
    "collapsed": false
   },
   "outputs": [
    {
     "data": {
      "text/plain": [
       "                                             1089\n",
       "Edinburgh West                                 17\n",
       "Argyll and Bute                                17\n",
       "Edinburgh East                                 17\n",
       "Berwickshire, Roxburgh and Selkirk             17\n",
       "Dumfries and Galloway                          16\n",
       "Chipping Barnet                                15\n",
       "Edinburgh South West                           15\n",
       "Edinburgh North and Leith                      14\n",
       "North Ayrshire and Arran                       14\n",
       "Gordon                                         14\n",
       "Ross, Skye and Lochaber                        13\n",
       "Paisley and Renfrewshire South                 13\n",
       "Kirkcaldy and Cowdenbeath                      13\n",
       "Falkirk                                        13\n",
       "Perth and North Perthshire                     12\n",
       "Glenrothes                                     12\n",
       "Warwick and Leamington                         12\n",
       "Streatham                                      12\n",
       "Inverness, Nairn, Badenoch and Strathspey      11\n",
       "Cardiff South and Penarth                      11\n",
       "Hertsmere                                      11\n",
       "Moray                                          11\n",
       "Wealden                                        11\n",
       "Taunton Deane                                  11\n",
       "Glasgow North West                             11\n",
       "Angus                                          11\n",
       "Holborn and St Pancras                         11\n",
       "South Leicestershire                           11\n",
       "Rutherglen and Hamilton West                   11\n",
       "                                             ... \n",
       "Wolverhampton North East                        1\n",
       "Wolverhampton South West                        1\n",
       "Newcastle upon Tyne Central                     1\n",
       "Luton North                                     1\n",
       "Keighley                                        1\n",
       "Cynon Valley                                    1\n",
       "Coventry South                                  1\n",
       "North Thanet                                    1\n",
       "Camberwell and Peckham                          1\n",
       "Shrewsbury and Atcham                           1\n",
       "Bury North                                      1\n",
       "Arfon                                           1\n",
       "Chelsea and Fulham                              1\n",
       "Stockton North                                  1\n",
       "Glasgow East                                    1\n",
       "Christchurch                                    1\n",
       "Luton South                                     1\n",
       "North Cornwall                                  1\n",
       "Ludlow                                          1\n",
       "Birmingham, Hodge Hill                          1\n",
       "Sefton Central                                  1\n",
       "Walsall South                                   1\n",
       "Old Bexley and Sidcup                           1\n",
       "Staffordshire Moorlands                         1\n",
       "Poole                                           1\n",
       "Stoke-on-Trent Central                          1\n",
       "Bury St Edmunds                                 1\n",
       "Hayes and Harlington                            1\n",
       "Bradford South                                  1\n",
       "Blackburn                                       1\n",
       "Name: pcon, dtype: int64"
      ]
     },
     "execution_count": 192,
     "metadata": {},
     "output_type": "execute_result"
    }
   ],
   "source": [
    "BES_Panel[BES_Panel[\"new_eu_split\"]=='Re-Leave'].pcon.value_counts()"
   ]
  },
  {
   "cell_type": "code",
   "execution_count": null,
   "metadata": {
    "collapsed": true
   },
   "outputs": [],
   "source": []
  },
  {
   "cell_type": "code",
   "execution_count": null,
   "metadata": {
    "collapsed": true
   },
   "outputs": [],
   "source": []
  },
  {
   "cell_type": "code",
   "execution_count": null,
   "metadata": {
    "collapsed": true
   },
   "outputs": [],
   "source": []
  },
  {
   "cell_type": "code",
   "execution_count": null,
   "metadata": {
    "collapsed": true
   },
   "outputs": [],
   "source": []
  },
  {
   "cell_type": "code",
   "execution_count": null,
   "metadata": {
    "collapsed": true
   },
   "outputs": [],
   "source": []
  },
  {
   "cell_type": "code",
   "execution_count": null,
   "metadata": {
    "collapsed": true
   },
   "outputs": [],
   "source": []
  },
  {
   "cell_type": "code",
   "execution_count": null,
   "metadata": {
    "collapsed": true
   },
   "outputs": [],
   "source": []
  },
  {
   "cell_type": "code",
   "execution_count": null,
   "metadata": {
    "collapsed": true
   },
   "outputs": [],
   "source": [
    "#### MOST IMPORTANT ISSUES BY CAMPAIGN DAY ####"
   ]
  },
  {
   "cell_type": "code",
   "execution_count": 7,
   "metadata": {
    "collapsed": false
   },
   "outputs": [
    {
     "name": "stdout",
     "output_type": "stream",
     "text": [
      "BES_numeric (31409, 659)\n"
     ]
    }
   ],
   "source": [
    "BES_data_folder = \"../BES_analysis_data/\"\n",
    "BES_code_folder = \"../BES_analysis_code/\"\n",
    "BES_numeric = pd.read_hdf( BES_data_folder+\"BESW8numeric.hdf\", \"BESW8numeric\" )\n",
    "print(\"BES_numeric\",  BES_numeric.shape )"
   ]
  },
  {
   "cell_type": "code",
   "execution_count": 8,
   "metadata": {
    "collapsed": false
   },
   "outputs": [
    {
     "ename": "NameError",
     "evalue": "name 'BES_Panel_wave8' is not defined",
     "output_type": "error",
     "traceback": [
      "\u001b[0;31m---------------------------------------------------------------------------\u001b[0m",
      "\u001b[0;31mNameError\u001b[0m                                 Traceback (most recent call last)",
      "\u001b[0;32m<ipython-input-8-80412817d779>\u001b[0m in \u001b[0;36m<module>\u001b[0;34m()\u001b[0m\n\u001b[0;32m----> 1\u001b[0;31m \u001b[1;33m[\u001b[0m\u001b[0mx\u001b[0m \u001b[1;32mfor\u001b[0m \u001b[0mx\u001b[0m \u001b[1;32min\u001b[0m \u001b[0mBES_Panel_wave8\u001b[0m\u001b[1;33m.\u001b[0m\u001b[0mcolumns\u001b[0m \u001b[1;32mif\u001b[0m \u001b[1;34m\"Day\"\u001b[0m \u001b[1;32min\u001b[0m \u001b[0mx\u001b[0m\u001b[1;33m]\u001b[0m\u001b[1;33m\u001b[0m\u001b[0m\n\u001b[0m",
      "\u001b[0;31mNameError\u001b[0m: name 'BES_Panel_wave8' is not defined"
     ]
    }
   ],
   "source": [
    "[x for x in BES_Panel_wave8.columns if \"Day\" in x]"
   ]
  },
  {
   "cell_type": "code",
   "execution_count": null,
   "metadata": {
    "collapsed": true
   },
   "outputs": [],
   "source": [
    "BES_Panel_wave8 = pd.read_stata(BES_data_folder+\"BES2015_W8_v1.6.dta\")"
   ]
  },
  {
   "cell_type": "code",
   "execution_count": null,
   "metadata": {
    "collapsed": true
   },
   "outputs": [],
   "source": []
  },
  {
   "cell_type": "code",
   "execution_count": null,
   "metadata": {
    "collapsed": true
   },
   "outputs": [],
   "source": []
  },
  {
   "cell_type": "code",
   "execution_count": null,
   "metadata": {
    "collapsed": true
   },
   "outputs": [],
   "source": []
  },
  {
   "cell_type": "code",
   "execution_count": null,
   "metadata": {
    "collapsed": true
   },
   "outputs": [],
   "source": []
  }
 ],
 "metadata": {
  "anaconda-cloud": {},
  "kernelspec": {
   "display_name": "Python [conda env:BES_analysis]",
   "language": "python",
   "name": "conda-env-BES_analysis-py"
  },
  "language_info": {
   "codemirror_mode": {
    "name": "ipython",
    "version": 3
   },
   "file_extension": ".py",
   "mimetype": "text/x-python",
   "name": "python",
   "nbconvert_exporter": "python",
   "pygments_lexer": "ipython3",
   "version": "3.5.2"
  }
 },
 "nbformat": 4,
 "nbformat_minor": 2
}
