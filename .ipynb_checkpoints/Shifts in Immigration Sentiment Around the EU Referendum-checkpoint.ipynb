{
 "cells": [
  {
   "cell_type": "code",
   "execution_count": 1,
   "metadata": {},
   "outputs": [
    {
     "data": {
      "text/html": [
       "<script>jQuery(function() {if (jQuery(\"body.notebook_app\").length == 0) { jQuery(\".input_area\").toggle(); jQuery(\".prompt\").toggle();}});</script>"
      ]
     },
     "metadata": {},
     "output_type": "display_data"
    },
    {
     "data": {
      "text/html": [
       "<button onclick=\"jQuery('.input_area').toggle(); jQuery('.prompt').toggle();\">Toggle code</button>"
      ]
     },
     "metadata": {},
     "output_type": "display_data"
    }
   ],
   "source": [
    "import warnings\n",
    "warnings.filterwarnings('ignore')\n",
    "\n",
    "from IPython.display import display\n",
    "from IPython.display import HTML\n",
    "import IPython.core.display as di # Example: di.display_html('<h3>%s:</h3>' % str, raw=True)\n",
    "\n",
    "# This line will hide code by default when the notebook is exported as HTML\n",
    "di.display_html('<script>jQuery(function() {if (jQuery(\"body.notebook_app\").length == 0) { jQuery(\".input_area\").toggle(); jQuery(\".prompt\").toggle();}});</script>', raw=True)\n",
    "\n",
    "# This line will add a button to toggle visibility of code blocks, for use with the HTML export version\n",
    "di.display_html('''<button onclick=\"jQuery('.input_area').toggle(); jQuery('.prompt').toggle();\">Toggle code</button>''', raw=True)"
   ]
  },
  {
   "cell_type": "code",
   "execution_count": 2,
   "metadata": {},
   "outputs": [],
   "source": [
    "dataset_name = \"W16_comb\"\n",
    "df_list = [ \"BES_Panel\", ]"
   ]
  },
  {
   "cell_type": "code",
   "execution_count": 3,
   "metadata": {},
   "outputs": [],
   "source": [
    "%matplotlib inline\n",
    "\n",
    "import numpy as np, pandas as pd, matplotlib.pyplot as plt, seaborn as sns\n",
    "import pickle, os, gc, re\n",
    "\n",
    "sns.set();\n",
    "sns.set_palette(\"colorblind\")\n",
    "\n",
    "from IPython.display import display, display_html, HTML\n",
    "plt.rcParams[\"axes.grid\"] = False\n",
    "\n",
    "import Jupyter_module_loader\n",
    "from utility import *\n",
    "import gaussian_kde\n",
    "\n",
    "import warnings\n",
    "warnings.filterwarnings('ignore')\n",
    "\n",
    "import holoviews as hv\n",
    "from holoviews import opts\n",
    "\n",
    "encoding = \"ISO-8859-1\""
   ]
  },
  {
   "cell_type": "code",
   "execution_count": 4,
   "metadata": {},
   "outputs": [],
   "source": [
    "# you should clone this git to a subdirectory called 'BES_analysis_code' (in some directory - I call it BES_analysis - doesn't matter though)\n",
    "# %matplotlib inline\n",
    "(BES_code_folder, BES_small_data_files, BES_data_folder,\n",
    " BES_output_folder, BES_file_manifest, BES_R_data_files) = setup_directories()\n",
    "\n",
    "global BES_Panel, BES_numeric, BES_reduced, BES_reduced_with_na, BES_non_numeric\n",
    "data_subfolder = BES_data_folder + dataset_name + os.sep\n",
    "\n",
    "(manifest, dataset_filename, dataset_description, dataset_citation,\n",
    " dataset_start, dataset_stop, dataset_wave) = get_manifest(dataset_name, BES_file_manifest)\n",
    "\n",
    "for df in df_list:\n",
    "    if df==\"BES_Panel\":\n",
    "        globals()[df]  = pd.read_msgpack(data_subfolder + dataset_filename.replace('.dta','.msgpack'))\n",
    "    else:\n",
    "        globals()[df]  = pd.read_msgpack(data_subfolder + df + '.msgpack' )\n",
    "        globals()[df].replace(-1,np.nan,inplace=True)\n",
    "  \n",
    "# (var_type, cat_dictionary, new_old_col_names, old_new_col_names) = get_small_files(data_subfolder, encoding)\n",
    "\n",
    "# get full set of inferred \"cross wave\" auth-lib/left-right values and ages\n",
    "pan_dataset_allr_values = pd.read_csv(BES_small_data_files + \"pan_dataset_allr_values\"+\".csv\")\n",
    "pan_dataset_ages = pd.read_csv( BES_small_data_files + \"pan_dataset_ages\"+\".csv\" )"
   ]
  },
  {
   "cell_type": "code",
   "execution_count": 5,
   "metadata": {},
   "outputs": [
    {
     "data": {
      "text/html": [
       "\n",
       "    <div class=\"bk-root\">\n",
       "        <a href=\"https://bokeh.org\" target=\"_blank\" class=\"bk-logo bk-logo-small bk-logo-notebook\"></a>\n",
       "        <span id=\"1001\">Loading BokehJS ...</span>\n",
       "    </div>"
      ]
     },
     "metadata": {},
     "output_type": "display_data"
    },
    {
     "data": {
      "application/javascript": [
       "\n",
       "(function(root) {\n",
       "  function now() {\n",
       "    return new Date();\n",
       "  }\n",
       "\n",
       "  var force = true;\n",
       "\n",
       "  if (typeof root._bokeh_onload_callbacks === \"undefined\" || force === true) {\n",
       "    root._bokeh_onload_callbacks = [];\n",
       "    root._bokeh_is_loading = undefined;\n",
       "  }\n",
       "\n",
       "  var JS_MIME_TYPE = 'application/javascript';\n",
       "  var HTML_MIME_TYPE = 'text/html';\n",
       "  var EXEC_MIME_TYPE = 'application/vnd.bokehjs_exec.v0+json';\n",
       "  var CLASS_NAME = 'output_bokeh rendered_html';\n",
       "\n",
       "  /**\n",
       "   * Render data to the DOM node\n",
       "   */\n",
       "  function render(props, node) {\n",
       "    var script = document.createElement(\"script\");\n",
       "    node.appendChild(script);\n",
       "  }\n",
       "\n",
       "  /**\n",
       "   * Handle when an output is cleared or removed\n",
       "   */\n",
       "  function handleClearOutput(event, handle) {\n",
       "    var cell = handle.cell;\n",
       "\n",
       "    var id = cell.output_area._bokeh_element_id;\n",
       "    var server_id = cell.output_area._bokeh_server_id;\n",
       "    // Clean up Bokeh references\n",
       "    if (id != null && id in Bokeh.index) {\n",
       "      Bokeh.index[id].model.document.clear();\n",
       "      delete Bokeh.index[id];\n",
       "    }\n",
       "\n",
       "    if (server_id !== undefined) {\n",
       "      // Clean up Bokeh references\n",
       "      var cmd = \"from bokeh.io.state import curstate; print(curstate().uuid_to_server['\" + server_id + \"'].get_sessions()[0].document.roots[0]._id)\";\n",
       "      cell.notebook.kernel.execute(cmd, {\n",
       "        iopub: {\n",
       "          output: function(msg) {\n",
       "            var id = msg.content.text.trim();\n",
       "            if (id in Bokeh.index) {\n",
       "              Bokeh.index[id].model.document.clear();\n",
       "              delete Bokeh.index[id];\n",
       "            }\n",
       "          }\n",
       "        }\n",
       "      });\n",
       "      // Destroy server and session\n",
       "      var cmd = \"import bokeh.io.notebook as ion; ion.destroy_server('\" + server_id + \"')\";\n",
       "      cell.notebook.kernel.execute(cmd);\n",
       "    }\n",
       "  }\n",
       "\n",
       "  /**\n",
       "   * Handle when a new output is added\n",
       "   */\n",
       "  function handleAddOutput(event, handle) {\n",
       "    var output_area = handle.output_area;\n",
       "    var output = handle.output;\n",
       "\n",
       "    // limit handleAddOutput to display_data with EXEC_MIME_TYPE content only\n",
       "    if ((output.output_type != \"display_data\") || (!output.data.hasOwnProperty(EXEC_MIME_TYPE))) {\n",
       "      return\n",
       "    }\n",
       "\n",
       "    var toinsert = output_area.element.find(\".\" + CLASS_NAME.split(' ')[0]);\n",
       "\n",
       "    if (output.metadata[EXEC_MIME_TYPE][\"id\"] !== undefined) {\n",
       "      toinsert[toinsert.length - 1].firstChild.textContent = output.data[JS_MIME_TYPE];\n",
       "      // store reference to embed id on output_area\n",
       "      output_area._bokeh_element_id = output.metadata[EXEC_MIME_TYPE][\"id\"];\n",
       "    }\n",
       "    if (output.metadata[EXEC_MIME_TYPE][\"server_id\"] !== undefined) {\n",
       "      var bk_div = document.createElement(\"div\");\n",
       "      bk_div.innerHTML = output.data[HTML_MIME_TYPE];\n",
       "      var script_attrs = bk_div.children[0].attributes;\n",
       "      for (var i = 0; i < script_attrs.length; i++) {\n",
       "        toinsert[toinsert.length - 1].firstChild.setAttribute(script_attrs[i].name, script_attrs[i].value);\n",
       "      }\n",
       "      // store reference to server id on output_area\n",
       "      output_area._bokeh_server_id = output.metadata[EXEC_MIME_TYPE][\"server_id\"];\n",
       "    }\n",
       "  }\n",
       "\n",
       "  function register_renderer(events, OutputArea) {\n",
       "\n",
       "    function append_mime(data, metadata, element) {\n",
       "      // create a DOM node to render to\n",
       "      var toinsert = this.create_output_subarea(\n",
       "        metadata,\n",
       "        CLASS_NAME,\n",
       "        EXEC_MIME_TYPE\n",
       "      );\n",
       "      this.keyboard_manager.register_events(toinsert);\n",
       "      // Render to node\n",
       "      var props = {data: data, metadata: metadata[EXEC_MIME_TYPE]};\n",
       "      render(props, toinsert[toinsert.length - 1]);\n",
       "      element.append(toinsert);\n",
       "      return toinsert\n",
       "    }\n",
       "\n",
       "    /* Handle when an output is cleared or removed */\n",
       "    events.on('clear_output.CodeCell', handleClearOutput);\n",
       "    events.on('delete.Cell', handleClearOutput);\n",
       "\n",
       "    /* Handle when a new output is added */\n",
       "    events.on('output_added.OutputArea', handleAddOutput);\n",
       "\n",
       "    /**\n",
       "     * Register the mime type and append_mime function with output_area\n",
       "     */\n",
       "    OutputArea.prototype.register_mime_type(EXEC_MIME_TYPE, append_mime, {\n",
       "      /* Is output safe? */\n",
       "      safe: true,\n",
       "      /* Index of renderer in `output_area.display_order` */\n",
       "      index: 0\n",
       "    });\n",
       "  }\n",
       "\n",
       "  // register the mime type if in Jupyter Notebook environment and previously unregistered\n",
       "  if (root.Jupyter !== undefined) {\n",
       "    var events = require('base/js/events');\n",
       "    var OutputArea = require('notebook/js/outputarea').OutputArea;\n",
       "\n",
       "    if (OutputArea.prototype.mime_types().indexOf(EXEC_MIME_TYPE) == -1) {\n",
       "      register_renderer(events, OutputArea);\n",
       "    }\n",
       "  }\n",
       "\n",
       "  \n",
       "  if (typeof (root._bokeh_timeout) === \"undefined\" || force === true) {\n",
       "    root._bokeh_timeout = Date.now() + 5000;\n",
       "    root._bokeh_failed_load = false;\n",
       "  }\n",
       "\n",
       "  var NB_LOAD_WARNING = {'data': {'text/html':\n",
       "     \"<div style='background-color: #fdd'>\\n\"+\n",
       "     \"<p>\\n\"+\n",
       "     \"BokehJS does not appear to have successfully loaded. If loading BokehJS from CDN, this \\n\"+\n",
       "     \"may be due to a slow or bad network connection. Possible fixes:\\n\"+\n",
       "     \"</p>\\n\"+\n",
       "     \"<ul>\\n\"+\n",
       "     \"<li>re-rerun `output_notebook()` to attempt to load from CDN again, or</li>\\n\"+\n",
       "     \"<li>use INLINE resources instead, as so:</li>\\n\"+\n",
       "     \"</ul>\\n\"+\n",
       "     \"<code>\\n\"+\n",
       "     \"from bokeh.resources import INLINE\\n\"+\n",
       "     \"output_notebook(resources=INLINE)\\n\"+\n",
       "     \"</code>\\n\"+\n",
       "     \"</div>\"}};\n",
       "\n",
       "  function display_loaded() {\n",
       "    var el = document.getElementById(\"1001\");\n",
       "    if (el != null) {\n",
       "      el.textContent = \"BokehJS is loading...\";\n",
       "    }\n",
       "    if (root.Bokeh !== undefined) {\n",
       "      if (el != null) {\n",
       "        el.textContent = \"BokehJS \" + root.Bokeh.version + \" successfully loaded.\";\n",
       "      }\n",
       "    } else if (Date.now() < root._bokeh_timeout) {\n",
       "      setTimeout(display_loaded, 100)\n",
       "    }\n",
       "  }\n",
       "\n",
       "\n",
       "  function run_callbacks() {\n",
       "    try {\n",
       "      root._bokeh_onload_callbacks.forEach(function(callback) {\n",
       "        if (callback != null)\n",
       "          callback();\n",
       "      });\n",
       "    } finally {\n",
       "      delete root._bokeh_onload_callbacks\n",
       "    }\n",
       "    console.debug(\"Bokeh: all callbacks have finished\");\n",
       "  }\n",
       "\n",
       "  function load_libs(css_urls, js_urls, callback) {\n",
       "    if (css_urls == null) css_urls = [];\n",
       "    if (js_urls == null) js_urls = [];\n",
       "\n",
       "    root._bokeh_onload_callbacks.push(callback);\n",
       "    if (root._bokeh_is_loading > 0) {\n",
       "      console.debug(\"Bokeh: BokehJS is being loaded, scheduling callback at\", now());\n",
       "      return null;\n",
       "    }\n",
       "    if (js_urls == null || js_urls.length === 0) {\n",
       "      run_callbacks();\n",
       "      return null;\n",
       "    }\n",
       "    console.debug(\"Bokeh: BokehJS not loaded, scheduling load and callback at\", now());\n",
       "    root._bokeh_is_loading = css_urls.length + js_urls.length;\n",
       "\n",
       "    function on_load() {\n",
       "      root._bokeh_is_loading--;\n",
       "      if (root._bokeh_is_loading === 0) {\n",
       "        console.debug(\"Bokeh: all BokehJS libraries/stylesheets loaded\");\n",
       "        run_callbacks()\n",
       "      }\n",
       "    }\n",
       "\n",
       "    function on_error() {\n",
       "      console.error(\"failed to load \" + url);\n",
       "    }\n",
       "\n",
       "    for (var i = 0; i < css_urls.length; i++) {\n",
       "      var url = css_urls[i];\n",
       "      const element = document.createElement(\"link\");\n",
       "      element.onload = on_load;\n",
       "      element.onerror = on_error;\n",
       "      element.rel = \"stylesheet\";\n",
       "      element.type = \"text/css\";\n",
       "      element.href = url;\n",
       "      console.debug(\"Bokeh: injecting link tag for BokehJS stylesheet: \", url);\n",
       "      document.body.appendChild(element);\n",
       "    }\n",
       "\n",
       "    for (var i = 0; i < js_urls.length; i++) {\n",
       "      var url = js_urls[i];\n",
       "      var element = document.createElement('script');\n",
       "      element.onload = on_load;\n",
       "      element.onerror = on_error;\n",
       "      element.async = false;\n",
       "      element.src = url;\n",
       "      console.debug(\"Bokeh: injecting script tag for BokehJS library: \", url);\n",
       "      document.head.appendChild(element);\n",
       "    }\n",
       "  };var element = document.getElementById(\"1001\");\n",
       "  if (element == null) {\n",
       "    console.error(\"Bokeh: ERROR: autoload.js configured with elementid '1001' but no matching script tag was found. \")\n",
       "    return false;\n",
       "  }\n",
       "\n",
       "  function inject_raw_css(css) {\n",
       "    const element = document.createElement(\"style\");\n",
       "    element.appendChild(document.createTextNode(css));\n",
       "    document.body.appendChild(element);\n",
       "  }\n",
       "\n",
       "  \n",
       "  var js_urls = [\"https://cdn.pydata.org/bokeh/release/bokeh-1.4.0.min.js\", \"https://cdn.pydata.org/bokeh/release/bokeh-widgets-1.4.0.min.js\", \"https://cdn.pydata.org/bokeh/release/bokeh-tables-1.4.0.min.js\", \"https://cdn.pydata.org/bokeh/release/bokeh-gl-1.4.0.min.js\"];\n",
       "  var css_urls = [];\n",
       "  \n",
       "\n",
       "  var inline_js = [\n",
       "    function(Bokeh) {\n",
       "      Bokeh.set_log_level(\"info\");\n",
       "    },\n",
       "    function(Bokeh) {\n",
       "    \n",
       "    \n",
       "    }\n",
       "  ];\n",
       "\n",
       "  function run_inline_js() {\n",
       "    \n",
       "    if (root.Bokeh !== undefined || force === true) {\n",
       "      \n",
       "    for (var i = 0; i < inline_js.length; i++) {\n",
       "      inline_js[i].call(root, root.Bokeh);\n",
       "    }\n",
       "    if (force === true) {\n",
       "        display_loaded();\n",
       "      }} else if (Date.now() < root._bokeh_timeout) {\n",
       "      setTimeout(run_inline_js, 100);\n",
       "    } else if (!root._bokeh_failed_load) {\n",
       "      console.log(\"Bokeh: BokehJS failed to load within specified timeout.\");\n",
       "      root._bokeh_failed_load = true;\n",
       "    } else if (force !== true) {\n",
       "      var cell = $(document.getElementById(\"1001\")).parents('.cell').data().cell;\n",
       "      cell.output_area.append_execute_result(NB_LOAD_WARNING)\n",
       "    }\n",
       "\n",
       "  }\n",
       "\n",
       "  if (root._bokeh_is_loading === 0) {\n",
       "    console.debug(\"Bokeh: BokehJS loaded, going straight to plotting\");\n",
       "    run_inline_js();\n",
       "  } else {\n",
       "    load_libs(css_urls, js_urls, function() {\n",
       "      console.debug(\"Bokeh: BokehJS plotting callback run at\", now());\n",
       "      run_inline_js();\n",
       "    });\n",
       "  }\n",
       "}(window));"
      ],
      "application/vnd.bokehjs_load.v0+json": "\n(function(root) {\n  function now() {\n    return new Date();\n  }\n\n  var force = true;\n\n  if (typeof root._bokeh_onload_callbacks === \"undefined\" || force === true) {\n    root._bokeh_onload_callbacks = [];\n    root._bokeh_is_loading = undefined;\n  }\n\n  \n\n  \n  if (typeof (root._bokeh_timeout) === \"undefined\" || force === true) {\n    root._bokeh_timeout = Date.now() + 5000;\n    root._bokeh_failed_load = false;\n  }\n\n  var NB_LOAD_WARNING = {'data': {'text/html':\n     \"<div style='background-color: #fdd'>\\n\"+\n     \"<p>\\n\"+\n     \"BokehJS does not appear to have successfully loaded. If loading BokehJS from CDN, this \\n\"+\n     \"may be due to a slow or bad network connection. Possible fixes:\\n\"+\n     \"</p>\\n\"+\n     \"<ul>\\n\"+\n     \"<li>re-rerun `output_notebook()` to attempt to load from CDN again, or</li>\\n\"+\n     \"<li>use INLINE resources instead, as so:</li>\\n\"+\n     \"</ul>\\n\"+\n     \"<code>\\n\"+\n     \"from bokeh.resources import INLINE\\n\"+\n     \"output_notebook(resources=INLINE)\\n\"+\n     \"</code>\\n\"+\n     \"</div>\"}};\n\n  function display_loaded() {\n    var el = document.getElementById(\"1001\");\n    if (el != null) {\n      el.textContent = \"BokehJS is loading...\";\n    }\n    if (root.Bokeh !== undefined) {\n      if (el != null) {\n        el.textContent = \"BokehJS \" + root.Bokeh.version + \" successfully loaded.\";\n      }\n    } else if (Date.now() < root._bokeh_timeout) {\n      setTimeout(display_loaded, 100)\n    }\n  }\n\n\n  function run_callbacks() {\n    try {\n      root._bokeh_onload_callbacks.forEach(function(callback) {\n        if (callback != null)\n          callback();\n      });\n    } finally {\n      delete root._bokeh_onload_callbacks\n    }\n    console.debug(\"Bokeh: all callbacks have finished\");\n  }\n\n  function load_libs(css_urls, js_urls, callback) {\n    if (css_urls == null) css_urls = [];\n    if (js_urls == null) js_urls = [];\n\n    root._bokeh_onload_callbacks.push(callback);\n    if (root._bokeh_is_loading > 0) {\n      console.debug(\"Bokeh: BokehJS is being loaded, scheduling callback at\", now());\n      return null;\n    }\n    if (js_urls == null || js_urls.length === 0) {\n      run_callbacks();\n      return null;\n    }\n    console.debug(\"Bokeh: BokehJS not loaded, scheduling load and callback at\", now());\n    root._bokeh_is_loading = css_urls.length + js_urls.length;\n\n    function on_load() {\n      root._bokeh_is_loading--;\n      if (root._bokeh_is_loading === 0) {\n        console.debug(\"Bokeh: all BokehJS libraries/stylesheets loaded\");\n        run_callbacks()\n      }\n    }\n\n    function on_error() {\n      console.error(\"failed to load \" + url);\n    }\n\n    for (var i = 0; i < css_urls.length; i++) {\n      var url = css_urls[i];\n      const element = document.createElement(\"link\");\n      element.onload = on_load;\n      element.onerror = on_error;\n      element.rel = \"stylesheet\";\n      element.type = \"text/css\";\n      element.href = url;\n      console.debug(\"Bokeh: injecting link tag for BokehJS stylesheet: \", url);\n      document.body.appendChild(element);\n    }\n\n    for (var i = 0; i < js_urls.length; i++) {\n      var url = js_urls[i];\n      var element = document.createElement('script');\n      element.onload = on_load;\n      element.onerror = on_error;\n      element.async = false;\n      element.src = url;\n      console.debug(\"Bokeh: injecting script tag for BokehJS library: \", url);\n      document.head.appendChild(element);\n    }\n  };var element = document.getElementById(\"1001\");\n  if (element == null) {\n    console.error(\"Bokeh: ERROR: autoload.js configured with elementid '1001' but no matching script tag was found. \")\n    return false;\n  }\n\n  function inject_raw_css(css) {\n    const element = document.createElement(\"style\");\n    element.appendChild(document.createTextNode(css));\n    document.body.appendChild(element);\n  }\n\n  \n  var js_urls = [\"https://cdn.pydata.org/bokeh/release/bokeh-1.4.0.min.js\", \"https://cdn.pydata.org/bokeh/release/bokeh-widgets-1.4.0.min.js\", \"https://cdn.pydata.org/bokeh/release/bokeh-tables-1.4.0.min.js\", \"https://cdn.pydata.org/bokeh/release/bokeh-gl-1.4.0.min.js\"];\n  var css_urls = [];\n  \n\n  var inline_js = [\n    function(Bokeh) {\n      Bokeh.set_log_level(\"info\");\n    },\n    function(Bokeh) {\n    \n    \n    }\n  ];\n\n  function run_inline_js() {\n    \n    if (root.Bokeh !== undefined || force === true) {\n      \n    for (var i = 0; i < inline_js.length; i++) {\n      inline_js[i].call(root, root.Bokeh);\n    }\n    if (force === true) {\n        display_loaded();\n      }} else if (Date.now() < root._bokeh_timeout) {\n      setTimeout(run_inline_js, 100);\n    } else if (!root._bokeh_failed_load) {\n      console.log(\"Bokeh: BokehJS failed to load within specified timeout.\");\n      root._bokeh_failed_load = true;\n    } else if (force !== true) {\n      var cell = $(document.getElementById(\"1001\")).parents('.cell').data().cell;\n      cell.output_area.append_execute_result(NB_LOAD_WARNING)\n    }\n\n  }\n\n  if (root._bokeh_is_loading === 0) {\n    console.debug(\"Bokeh: BokehJS loaded, going straight to plotting\");\n    run_inline_js();\n  } else {\n    load_libs(css_urls, js_urls, function() {\n      console.debug(\"Bokeh: BokehJS plotting callback run at\", now());\n      run_inline_js();\n    });\n  }\n}(window));"
     },
     "metadata": {},
     "output_type": "display_data"
    }
   ],
   "source": [
    "from bokeh.models import ColumnDataSource\n",
    "from bokeh.plotting import figure, show,  output_notebook\n",
    "from bokeh.layouts import column, row\n",
    "from bokeh.embed import components\n",
    "output_notebook()"
   ]
  },
  {
   "cell_type": "code",
   "execution_count": null,
   "metadata": {},
   "outputs": [],
   "source": [
    "## Step One: Locate the period of the Major Shift In Sentiment\n",
    "## - Find all the directly-immigration-related sentiment variables\n",
    "\n",
    "# split into \"about me\" (immigSelf)\n",
    "#            \"about party\" (immigCon)"
   ]
  },
  {
   "cell_type": "code",
   "execution_count": 6,
   "metadata": {},
   "outputs": [],
   "source": [
    "immig_var_stub = [\"immigEcon\",\"immigCultural\",\"immigSelf\",\"immigrationLevel\",\"immigContributeTake\",\n",
    "                  \"immigrantsWelfareState\",\"controlImmig\",\"effectsEUImmigration\",\"euPriorityBalance\",\n",
    "                  \"changeImmig\",\"changeImmigLab\",\"govtHandleImmig\",\"labHandleImmig\",\n",
    "                  \"asylumMore\",\"euMore\",\"noneuMore\",\"studentsMore\",\"familiesMore\"]"
   ]
  },
  {
   "cell_type": "code",
   "execution_count": 7,
   "metadata": {},
   "outputs": [
    {
     "data": {
      "text/html": [
       "['asylumMoreW13', 'asylumMoreW7', 'asylumMoreW8', 'changeImmigLabW1', 'changeImmigLabW10', 'changeImmigLabW2', 'changeImmigLabW3', 'changeImmigLabW4', 'changeImmigLabW7', 'changeImmigW1', 'changeImmigW10', 'changeImmigW11', 'changeImmigW14', 'changeImmigW15', 'changeImmigW16', 'changeImmigW2', 'changeImmigW3', 'changeImmigW4', 'changeImmigW7', 'changeImmigW8', 'controlImmigW10', 'controlImmigW11', 'controlImmigW13', 'controlImmigW14', 'controlImmigW15', 'controlImmigW16', 'controlImmigW8', 'controlImmigW9', 'effectsEUImmigrationW10', 'effectsEUImmigrationW11', 'effectsEUImmigrationW13', 'effectsEUImmigrationW14', 'effectsEUImmigrationW15', 'effectsEUImmigrationW16', 'effectsEUImmigrationW7', 'effectsEUImmigrationW8', 'euMoreW13', 'euMoreW7', 'euMoreW8', 'euPriorityBalanceW10', 'euPriorityBalanceW11', 'euPriorityBalanceW12', 'euPriorityBalanceW13', 'euPriorityBalanceW14', 'euPriorityBalanceW15', 'euPriorityBalanceW16', 'familiesMoreW13', 'familiesMoreW7', 'familiesMoreW8', 'govtHandleImmigW1', 'govtHandleImmigW14', 'govtHandleImmigW2', 'govtHandleImmigW3', 'govtHandleImmigW4', 'govtHandleImmigW7', 'immigContributeTakeW7', 'immigContributeTakeW8', 'immigCulturalW1', 'immigCulturalW10', 'immigCulturalW11', 'immigCulturalW13', 'immigCulturalW14', 'immigCulturalW15', 'immigCulturalW16', 'immigCulturalW2', 'immigCulturalW3', 'immigCulturalW4', 'immigCulturalW7', 'immigCulturalW8', 'immigEconW1', 'immigEconW10', 'immigEconW11', 'immigEconW13', 'immigEconW14', 'immigEconW15', 'immigEconW16', 'immigEconW2', 'immigEconW3', 'immigEconW4', 'immigEconW7', 'immigEconW8', 'immigSelfW10', 'immigSelfW11', 'immigSelfW12', 'immigSelfW13', 'immigSelfW14', 'immigSelfW15', 'immigSelfW16', 'immigSelfW7', 'immigSelfW8', 'immigSelfW9', 'immigrantsWelfareStateW1', 'immigrantsWelfareStateW10', 'immigrantsWelfareStateW11', 'immigrantsWelfareStateW2', 'immigrantsWelfareStateW3', 'immigrantsWelfareStateW4', 'immigrantsWelfareStateW7', 'immigrantsWelfareStateW8', 'immigrationLevelW4', 'immigrationLevelW6', 'labHandleImmigW1', 'labHandleImmigW14', 'labHandleImmigW2', 'labHandleImmigW3', 'labHandleImmigW4', 'labHandleImmigW7', 'noneuMoreW13', 'noneuMoreW7', 'noneuMoreW8', 'studentsMoreW13', 'studentsMoreW7', 'studentsMoreW8']"
      ],
      "text/plain": [
       "['asylumMoreW13',\n",
       " 'asylumMoreW7',\n",
       " 'asylumMoreW8',\n",
       " 'changeImmigLabW1',\n",
       " 'changeImmigLabW10',\n",
       " 'changeImmigLabW2',\n",
       " 'changeImmigLabW3',\n",
       " 'changeImmigLabW4',\n",
       " 'changeImmigLabW7',\n",
       " 'changeImmigW1',\n",
       " 'changeImmigW10',\n",
       " 'changeImmigW11',\n",
       " 'changeImmigW14',\n",
       " 'changeImmigW15',\n",
       " 'changeImmigW16',\n",
       " 'changeImmigW2',\n",
       " 'changeImmigW3',\n",
       " 'changeImmigW4',\n",
       " 'changeImmigW7',\n",
       " 'changeImmigW8',\n",
       " 'controlImmigW10',\n",
       " 'controlImmigW11',\n",
       " 'controlImmigW13',\n",
       " 'controlImmigW14',\n",
       " 'controlImmigW15',\n",
       " 'controlImmigW16',\n",
       " 'controlImmigW8',\n",
       " 'controlImmigW9',\n",
       " 'effectsEUImmigrationW10',\n",
       " 'effectsEUImmigrationW11',\n",
       " 'effectsEUImmigrationW13',\n",
       " 'effectsEUImmigrationW14',\n",
       " 'effectsEUImmigrationW15',\n",
       " 'effectsEUImmigrationW16',\n",
       " 'effectsEUImmigrationW7',\n",
       " 'effectsEUImmigrationW8',\n",
       " 'euMoreW13',\n",
       " 'euMoreW7',\n",
       " 'euMoreW8',\n",
       " 'euPriorityBalanceW10',\n",
       " 'euPriorityBalanceW11',\n",
       " 'euPriorityBalanceW12',\n",
       " 'euPriorityBalanceW13',\n",
       " 'euPriorityBalanceW14',\n",
       " 'euPriorityBalanceW15',\n",
       " 'euPriorityBalanceW16',\n",
       " 'familiesMoreW13',\n",
       " 'familiesMoreW7',\n",
       " 'familiesMoreW8',\n",
       " 'govtHandleImmigW1',\n",
       " 'govtHandleImmigW14',\n",
       " 'govtHandleImmigW2',\n",
       " 'govtHandleImmigW3',\n",
       " 'govtHandleImmigW4',\n",
       " 'govtHandleImmigW7',\n",
       " 'immigContributeTakeW7',\n",
       " 'immigContributeTakeW8',\n",
       " 'immigCulturalW1',\n",
       " 'immigCulturalW10',\n",
       " 'immigCulturalW11',\n",
       " 'immigCulturalW13',\n",
       " 'immigCulturalW14',\n",
       " 'immigCulturalW15',\n",
       " 'immigCulturalW16',\n",
       " 'immigCulturalW2',\n",
       " 'immigCulturalW3',\n",
       " 'immigCulturalW4',\n",
       " 'immigCulturalW7',\n",
       " 'immigCulturalW8',\n",
       " 'immigEconW1',\n",
       " 'immigEconW10',\n",
       " 'immigEconW11',\n",
       " 'immigEconW13',\n",
       " 'immigEconW14',\n",
       " 'immigEconW15',\n",
       " 'immigEconW16',\n",
       " 'immigEconW2',\n",
       " 'immigEconW3',\n",
       " 'immigEconW4',\n",
       " 'immigEconW7',\n",
       " 'immigEconW8',\n",
       " 'immigSelfW10',\n",
       " 'immigSelfW11',\n",
       " 'immigSelfW12',\n",
       " 'immigSelfW13',\n",
       " 'immigSelfW14',\n",
       " 'immigSelfW15',\n",
       " 'immigSelfW16',\n",
       " 'immigSelfW7',\n",
       " 'immigSelfW8',\n",
       " 'immigSelfW9',\n",
       " 'immigrantsWelfareStateW1',\n",
       " 'immigrantsWelfareStateW10',\n",
       " 'immigrantsWelfareStateW11',\n",
       " 'immigrantsWelfareStateW2',\n",
       " 'immigrantsWelfareStateW3',\n",
       " 'immigrantsWelfareStateW4',\n",
       " 'immigrantsWelfareStateW7',\n",
       " 'immigrantsWelfareStateW8',\n",
       " 'immigrationLevelW4',\n",
       " 'immigrationLevelW6',\n",
       " 'labHandleImmigW1',\n",
       " 'labHandleImmigW14',\n",
       " 'labHandleImmigW2',\n",
       " 'labHandleImmigW3',\n",
       " 'labHandleImmigW4',\n",
       " 'labHandleImmigW7',\n",
       " 'noneuMoreW13',\n",
       " 'noneuMoreW7',\n",
       " 'noneuMoreW8',\n",
       " 'studentsMoreW13',\n",
       " 'studentsMoreW7',\n",
       " 'studentsMoreW8']"
      ]
     },
     "execution_count": 7,
     "metadata": {},
     "output_type": "execute_result"
    }
   ],
   "source": [
    "list(match(BES_Panel,\"|\".join(immig_var_stub)).sort_index().index)"
   ]
  },
  {
   "cell_type": "code",
   "execution_count": 8,
   "metadata": {},
   "outputs": [
    {
     "data": {
      "text/html": [
       "['changeImmigW16', 'controlImmigW16', 'effectsEUImmigrationW16', 'euPriorityBalanceW16', 'immigCulturalW16', 'immigEconW16', 'immigSelfW16']"
      ],
      "text/plain": [
       "['changeImmigW16',\n",
       " 'controlImmigW16',\n",
       " 'effectsEUImmigrationW16',\n",
       " 'euPriorityBalanceW16',\n",
       " 'immigCulturalW16',\n",
       " 'immigEconW16',\n",
       " 'immigSelfW16']"
      ]
     },
     "execution_count": 8,
     "metadata": {},
     "output_type": "execute_result"
    }
   ],
   "source": [
    "[x for x in match(BES_Panel,\"|\".join(immig_var_stub)).sort_index().index if \"W16\" in x]"
   ]
  },
  {
   "cell_type": "code",
   "execution_count": 9,
   "metadata": {},
   "outputs": [
    {
     "data": {
      "text/plain": [
       "Index(['asylumMoreW13', 'asylumMoreW7', 'asylumMoreW8', 'changeImmigLabW1',\n",
       "       'changeImmigLabW10', 'changeImmigLabW2', 'changeImmigLabW3',\n",
       "       'changeImmigLabW4', 'changeImmigLabW7', 'changeImmigW1',\n",
       "       ...\n",
       "       'labHandleImmigW2', 'labHandleImmigW3', 'labHandleImmigW4',\n",
       "       'labHandleImmigW7', 'noneuMoreW13', 'noneuMoreW7', 'noneuMoreW8',\n",
       "       'studentsMoreW13', 'studentsMoreW7', 'studentsMoreW8'],\n",
       "      dtype='object', length=113)"
      ]
     },
     "execution_count": 9,
     "metadata": {},
     "output_type": "execute_result"
    }
   ],
   "source": [
    "match(BES_Panel,\"|\".join(immig_var_stub)).sort_index().index"
   ]
  },
  {
   "cell_type": "code",
   "execution_count": 18,
   "metadata": {},
   "outputs": [],
   "source": [
    "def cat_2_num_drop_dk(x):\n",
    "    if x.dtype.name=='category':\n",
    "        return x.replace(\"Don't know\",np.nan).cat.remove_unused_categories().cat.codes.replace(-1,np.nan).astype('UInt16')\n",
    "    else:\n",
    "        return x"
   ]
  },
  {
   "cell_type": "code",
   "execution_count": 19,
   "metadata": {},
   "outputs": [],
   "source": [
    "immigSelfW16 = cat_2_num_drop_dk(BES_Panel['immigSelfW16'])"
   ]
  },
  {
   "cell_type": "code",
   "execution_count": null,
   "metadata": {},
   "outputs": [],
   "source": []
  },
  {
   "cell_type": "code",
   "execution_count": 20,
   "metadata": {},
   "outputs": [
    {
     "name": "stdout",
     "output_type": "stream",
     "text": [
      "Wall time: 1min 37s\n"
     ]
    }
   ],
   "source": [
    "%%time\n",
    "df = BES_Panel.apply(lambda x: cat_2_num_drop_dk(x))"
   ]
  },
  {
   "cell_type": "code",
   "execution_count": 21,
   "metadata": {},
   "outputs": [
    {
     "data": {
      "text/plain": [
       "20"
      ]
     },
     "execution_count": 21,
     "metadata": {},
     "output_type": "execute_result"
    }
   ],
   "source": [
    "gc.collect()"
   ]
  },
  {
   "cell_type": "code",
   "execution_count": 23,
   "metadata": {},
   "outputs": [],
   "source": [
    "df = BES_Panel[BES_Panel.columns[BES_Panel.dtypes=='category']].apply(lambda x: x.cat.codes).copy()\n",
    "#.apply(lambda x: x.cat.codes)"
   ]
  },
  {
   "cell_type": "code",
   "execution_count": 30,
   "metadata": {},
   "outputs": [
    {
     "name": "stdout",
     "output_type": "stream",
     "text": [
      "Wall time: 49.7 s\n"
     ]
    }
   ],
   "source": [
    "%%time\n",
    "mask = immigSelfW16.notnull()\n",
    "\n",
    "corr_series = df[mask].select_dtypes(include=np.number).astype('float32').corrwith(immigSelfW16[mask].astype('float32'))"
   ]
  },
  {
   "cell_type": "code",
   "execution_count": 69,
   "metadata": {},
   "outputs": [
    {
     "data": {
      "text/html": [
       "['conPriorities_immigW1', 'labPriorities_immigW1', 'ldPriorities_immigW1', 'ukipPriorities_immigW1', 'conPriorities_immigW2', 'labPriorities_immigW2', 'ldPriorities_immigW2', 'ukipPriorities_immigW2', 'conPriorities_immigW3', 'labPriorities_immigW3', 'ldPriorities_immigW3', 'ukipPriorities_immigW3', 'conPriorities_immigW4', 'labPriorities_immigW4', 'ldPriorities_immigW4', 'ukipPriorities_immigW4', 'conPriorities2_immigW4', 'labPriorities2_immigW4', 'ldPriorities2_immigW4', 'ukipPriorities2_immigW4', 'conPriorities_immigW6', 'labPriorities_immigW6', 'ldPriorities_immigW6', 'ukipPriorities_immigW6', 'conPriorities_immigW9', 'labPriorities_immigW9', 'ldPriorities_immigW9', 'ukipPriorities_immigW9']"
      ],
      "text/plain": [
       "['conPriorities_immigW1',\n",
       " 'labPriorities_immigW1',\n",
       " 'ldPriorities_immigW1',\n",
       " 'ukipPriorities_immigW1',\n",
       " 'conPriorities_immigW2',\n",
       " 'labPriorities_immigW2',\n",
       " 'ldPriorities_immigW2',\n",
       " 'ukipPriorities_immigW2',\n",
       " 'conPriorities_immigW3',\n",
       " 'labPriorities_immigW3',\n",
       " 'ldPriorities_immigW3',\n",
       " 'ukipPriorities_immigW3',\n",
       " 'conPriorities_immigW4',\n",
       " 'labPriorities_immigW4',\n",
       " 'ldPriorities_immigW4',\n",
       " 'ukipPriorities_immigW4',\n",
       " 'conPriorities2_immigW4',\n",
       " 'labPriorities2_immigW4',\n",
       " 'ldPriorities2_immigW4',\n",
       " 'ukipPriorities2_immigW4',\n",
       " 'conPriorities_immigW6',\n",
       " 'labPriorities_immigW6',\n",
       " 'ldPriorities_immigW6',\n",
       " 'ukipPriorities_immigW6',\n",
       " 'conPriorities_immigW9',\n",
       " 'labPriorities_immigW9',\n",
       " 'ldPriorities_immigW9',\n",
       " 'ukipPriorities_immigW9']"
      ]
     },
     "execution_count": 69,
     "metadata": {},
     "output_type": "execute_result"
    }
   ],
   "source": [
    "list( search(BES_Panel,\"Priorities(2?)_immig\").index )\n"
   ]
  },
  {
   "cell_type": "code",
   "execution_count": 62,
   "metadata": {},
   "outputs": [
    {
     "data": {
      "text/plain": [
       "responsibleImmigConservativesW1    28777\n",
       "responsibleImmigLibDemsW1          28777\n",
       "responsibleImmigLabourW1           28777\n",
       "responsibleImmigScottishGovtW1      7962\n",
       "responsibleImmigWelshGovtW1         5957\n",
       "responsibleImmigNoneW1             28777\n",
       "responsibleImmigDontKnowW1         28777\n",
       "responsibleImmigConservativesW2    28770\n",
       "responsibleImmigLibDemsW2          28770\n",
       "responsibleImmigLabourW2           28770\n",
       "responsibleImmigScottishGovtW2      8076\n",
       "responsibleImmigWelshGovtW2         5982\n",
       "responsibleImmigNoneW2             28770\n",
       "responsibleImmigDontKnowW2         28770\n",
       "responsibleImmigConservativesW3    26282\n",
       "responsibleImmigLibDemsW3          26282\n",
       "responsibleImmigLabourW3           26282\n",
       "responsibleImmigScottishGovtW3      7335\n",
       "responsibleImmigWelshGovtW3         5568\n",
       "responsibleImmigNoneW3             26282\n",
       "responsibleImmigDontKnowW3         26282\n",
       "responsibleImmigConservativesW4    29776\n",
       "responsibleImmigLibDemsW4          29776\n",
       "responsibleImmigLabourW4           29776\n",
       "responsibleImmigScottishGovtW4      7914\n",
       "responsibleImmigWelshGovtW4         5792\n",
       "responsibleImmigNoneW4             29776\n",
       "responsibleImmigDontKnowW4         29776\n",
       "dtype: int64"
      ]
     },
     "execution_count": 62,
     "metadata": {},
     "output_type": "execute_result"
    }
   ],
   "source": [
    "search(BES_Panel,\"responsibleImmig\")"
   ]
  },
  {
   "cell_type": "code",
   "execution_count": 65,
   "metadata": {},
   "outputs": [
    {
     "data": {
      "text/plain": [
       "achieveReduceImmigConW4        31444\n",
       "achieveReduceImmigLabW4        31444\n",
       "achieveReduceImmigLDW4         31444\n",
       "achieveReduceImmigSNPW4        31444\n",
       "achieveReduceImmigPCW4         31444\n",
       "                               ...  \n",
       "achieveReduceImmigUKIPW16      37959\n",
       "achieveReduceImmigGrnW16       37959\n",
       "achieveReduceImmigTIGW16       37959\n",
       "achieveReduceImmigBrexitW16    37959\n",
       "achieveReduceImmigNoneW16      37959\n",
       "Length: 76, dtype: int64"
      ]
     },
     "execution_count": 65,
     "metadata": {},
     "output_type": "execute_result"
    }
   ],
   "source": [
    "search(BES_Panel,\"achieveReduceImmig\")\n"
   ]
  },
  {
   "cell_type": "code",
   "execution_count": 70,
   "metadata": {},
   "outputs": [],
   "source": [
    "# BES_Panel[\"conPriorities_immigW1\"].value_counts()"
   ]
  },
  {
   "cell_type": "code",
   "execution_count": 44,
   "metadata": {},
   "outputs": [
    {
     "data": {
      "text/plain": [
       "redistBrexitW16              0.387320\n",
       "redistUKIPW16                0.387737\n",
       "effectsEUWorkersW15          0.388795\n",
       "immigEconW14                 0.389004\n",
       "EUIntegrationLabW16          0.389265\n",
       "likeCorbynW16                0.390158\n",
       "effectsEUEconWalesW14        0.391070\n",
       "likeLabW16                   0.391438\n",
       "noDealEmotions_1W15          0.392866\n",
       "achieveReduceImmigNoneW9     0.393088\n",
       "effectsEUEconScotW15         0.393269\n",
       "reasonNotRegistered_3W3      0.394309\n",
       "effectsEUEconW10             0.395297\n",
       "partyContactOther_1W8        0.396842\n",
       "effectsEUWorkersW13          0.398610\n",
       "likeCableW16                 0.400554\n",
       "partyIdBSAW16                0.403962\n",
       "effectsEUEconW11             0.404711\n",
       "EUIntegrationCorbynW16       0.406273\n",
       "euLeaveBigBusinessW15        0.407072\n",
       "copelandFirstChoiceW16       0.408109\n",
       "effectsEUEconScotW13         0.408521\n",
       "effectsEUEconW8              0.409447\n",
       "effectsEUEconWalesW15        0.410141\n",
       "effectsEUEconW14             0.410474\n",
       "effectsEUEconW15             0.410534\n",
       "benInteg2W11                 0.412043\n",
       "approveScotGovtW16           0.412129\n",
       "ptvLDW16                     0.412807\n",
       "reasonNotRegistered_2W8      0.412863\n",
       "partyIdCSESW16               0.414137\n",
       "euScepticismW7               0.414836\n",
       "euIDW8                       0.417064\n",
       "likeSturgeonW16              0.418153\n",
       "euIDW7                       0.419267\n",
       "selfOccOrgSizeW3             0.420069\n",
       "benInteg3W11                 0.423037\n",
       "effectsEUEconW13             0.424623\n",
       "likeLDW16                    0.426449\n",
       "effectsEUEconWalesW13        0.427557\n",
       "cancelBrexitW16              0.429714\n",
       "registeredSupporterNowW16    0.431416\n",
       "partyContactPC_6W14          0.433013\n",
       "approveEUW2                  0.433749\n",
       "ptvGrnW16                    0.435166\n",
       "ukipAngryW14                 0.441158\n",
       "likeBerryW16                 0.445406\n",
       "euIDW14                      0.447351\n",
       "euRefFinalPostW9             0.450564\n",
       "euIDW10                      0.450856\n",
       "dtype: float64"
      ]
     },
     "execution_count": 44,
     "metadata": {},
     "output_type": "execute_result"
    }
   ],
   "source": [
    "corr_series.dropna().sort_values().tail(100)[:-50]"
   ]
  },
  {
   "cell_type": "code",
   "execution_count": 32,
   "metadata": {},
   "outputs": [],
   "source": [
    "# dealPriorityMarketAccess\n",
    "# effectsEUUnemployment\n",
    "# dealPrioritgImmig\n",
    "\n",
    "\n",
    "# W15 only possibleImmigNI,possibleMarketsImmig,possibleImmigTrade,noDealResults_6\n",
    "# W4 tryReduceImmigtryReduceImmig"
   ]
  },
  {
   "cell_type": "code",
   "execution_count": 36,
   "metadata": {},
   "outputs": [
    {
     "data": {
      "text/plain": [
       "scotIndepInequalityW3      -1.000000\n",
       "dealPriorityImmigW16       -0.652730\n",
       "euPriorityBalanceW16       -0.651068\n",
       "EUContactRemainOthW8       -0.644576\n",
       "EUIntegrationSelfW16       -0.607484\n",
       "al_scaleW16                -0.576156\n",
       "dealPriorityRedTapeW16     -0.571922\n",
       "blackEqualityW16           -0.570564\n",
       "likeBrexitPartyW16         -0.569912\n",
       "willOfPeopleW16            -0.545986\n",
       "noDealLongTermW16          -0.539898\n",
       "likeFarageW16              -0.538072\n",
       "partyPreferredW13          -0.532035\n",
       "al_scaleW13                -0.528547\n",
       "noDealShortTermW16         -0.520671\n",
       "al_scaleW14W15             -0.520248\n",
       "effectsEUEconW16           -0.519779\n",
       "ptvBrexitPartyW16          -0.519592\n",
       "effectsEUNHSW16            -0.515168\n",
       "euLeaveVoiceW16            -0.513399\n",
       "al_scaleW10W11W12          -0.513084\n",
       "al1W16                     -0.511094\n",
       "effectsEUEconWalesW16      -0.509384\n",
       "al_scaleW7W8W9             -0.509300\n",
       "euRefVoteW16               -0.507905\n",
       "immigManipCheck2W2         -0.503712\n",
       "al2W16                     -0.503118\n",
       "al_scaleW6                 -0.499717\n",
       "al_scaleW1W2W3W4W5         -0.494425\n",
       "britBornHereW11            -0.491984\n",
       "effectsEUWorkersW16        -0.486425\n",
       "EUIntegrationSelfW8        -0.485706\n",
       "delayOrNoDealW15           -0.477625\n",
       "leftRightW16               -0.475698\n",
       "EUIntegrationSelfW7        -0.475690\n",
       "euIDW16                    -0.475609\n",
       "britLiveHereW11            -0.474642\n",
       "al5W16                     -0.466513\n",
       "effectsEUTradeW16          -0.459833\n",
       "likeUKIPW16                -0.459206\n",
       "dealPriorityTradeDealW16   -0.457096\n",
       "effectsEUImmigrationW8     -0.451044\n",
       "changeImmigW16             -0.437848\n",
       "EUContactLeaveOthW8        -0.436955\n",
       "gayEqualityW16             -0.436153\n",
       "effectsEUEconScotW16       -0.435206\n",
       "reasonNotRegistered_5W7    -0.434231\n",
       "reasonNotRegistered_8W7    -0.433361\n",
       "effectsEUImmigrationW10    -0.428301\n",
       "EUIntegrationSelfW4        -0.425442\n",
       "dtype: float64"
      ]
     },
     "execution_count": 36,
     "metadata": {},
     "output_type": "execute_result"
    }
   ],
   "source": [
    "corr_series.dropna().sort_values().head(50)"
   ]
  },
  {
   "cell_type": "code",
   "execution_count": null,
   "metadata": {},
   "outputs": [],
   "source": []
  },
  {
   "cell_type": "code",
   "execution_count": null,
   "metadata": {},
   "outputs": [],
   "source": []
  },
  {
   "cell_type": "code",
   "execution_count": null,
   "metadata": {},
   "outputs": [],
   "source": [
    "# use these variables for now, edit Later"
   ]
  },
  {
   "cell_type": "code",
   "execution_count": null,
   "metadata": {},
   "outputs": [],
   "source": [
    "immig_var_stub = [\"immigEcon\",\"immigCultural\",\"immigSelf\",\"immigrationLevel\",\"immigContributeTake\",\n",
    "                  \"immigrantsWelfareState\",\"controlImmig\",\"effectsEUImmigration\",\"euPriorityBalance\",\n",
    "                  \"changeImmig\",\"changeImmigLab\",\"govtHandleImmig\",\"labHandleImmig\",\n",
    "                  \"asylumMore\",\"euMore\",\"noneuMore\",\"studentsMore\",\"familiesMore\"]"
   ]
  },
  {
   "cell_type": "code",
   "execution_count": 92,
   "metadata": {},
   "outputs": [
    {
     "data": {
      "text/plain": [
       "Don't know|Getting a little higher|Getting a little lower|Getting a lot higher|Getting a lot lower|Staying about the same    16\n",
       "1|2|3|4|5|6|7|8|9|Don't know|Many fewer|Many more                                                                            15\n",
       "Don't know|Fairly badly|Fairly well|Neither well nor badly|Very badly|Very well                                              12\n",
       "2|3|4|5|6|Bad for economy|Don't know|Good for economy                                                                        11\n",
       "2|3|4|5|6|Don't know|Enriches cultural life|Undermines cultural life                                                         11\n",
       "1|2|3|4|5|6|7|8|9|Allow many fewer|Allow many more|Don't know                                                                 9\n",
       "Agree|Disagree|Don't know|Neither agree nor disagree|Strongly agree|Strongly disagree                                         8\n",
       "A little control|A lot of control|Complete control|Don't know|No control at all|Some control                                  7\n",
       "About the same|Don't know|Higher|Lower|Much higher|Much lower                                                                 7\n",
       "1|2|3|4|5|6|7|8|9|Access to the single market|Control immigration|Don't know                                                  6\n",
       "2.0|3.0|4.0|5.0|6.0|Don't know|Get more than they pay|Pay more than they get                                                  2\n",
       "Decreased a little|Decreased a lot|Don't know|Increased a little|Increased a lot|Left the same as it is now                   2\n",
       "Getting a lot lower|Getting a little lower|Staying about the same|Getting a little higher|Getting a lot higher|Don't know     1\n",
       "No control at all|A little control|Some control|A lot of control|Complete control|Don't know                                  1\n",
       "Allow many fewer|1|2|3|4|5|6|7|8|9|Allow many more|Don't know                                                                 1\n",
       "Access to the single market|1|2|3|4|5|6|7|8|9|Control immigration|Don't know                                                  1\n",
       "Bad for economy|2|3|4|5|6|Good for economy|Don't know                                                                         1\n",
       "Undermines cultural life|2|3|4|5|6|Enriches cultural life|Don't know                                                          1\n",
       "Much lower|Lower|About the same|Higher|Much higher|Don't know                                                                 1\n",
       "dtype: int64"
      ]
     },
     "execution_count": 92,
     "metadata": {},
     "output_type": "execute_result"
    }
   ],
   "source": [
    "df = BES_Panel[ match(BES_Panel,\"|\".join(immig_var_stub)).index ].copy()\n",
    "\n",
    "# df[\"cat_strings\"]=\n",
    "cat_ser = df.apply(lambda x: \"|\".join(list(map(str,x.cat.categories))))\n",
    "df.apply(lambda x: \"|\".join(list(map(str,x.cat.categories)))).value_counts()"
   ]
  },
  {
   "cell_type": "code",
   "execution_count": null,
   "metadata": {},
   "outputs": [],
   "source": [
    "# variables with broken order\n",
    "# Don't know|Getting a little higher|Getting a little lower|Getting a lot higher|Getting a lot lower|Staying about the same\n",
    "# 1|2|3|4|5|6|7|8|9|Don't know|Many fewer|Many more\n",
    "# Don't know|Fairly badly|Fairly well|Neither well nor badly|Very badly|Very well\n",
    "\n",
    "# 2|3|4|5|6|Bad for economy|Don't know|Good for economy\n",
    "# 2|3|4|5|6|Don't know|Enriches cultural life|Undermines cultural life\n",
    "# 1|2|3|4|5|6|7|8|9|Allow many fewer|Allow many more|Don't know\n",
    "\n",
    "# A little control|A lot of control|Complete control|Don't know|No control at all|Some control"
   ]
  },
  {
   "cell_type": "code",
   "execution_count": 96,
   "metadata": {},
   "outputs": [
    {
     "data": {
      "text/html": [
       "['changeImmigW1', 'changeImmigLabW1', 'immigEconW1', 'immigCulturalW1', 'immigrantsWelfareStateW1', 'govtHandleImmigW1', 'labHandleImmigW1', 'changeImmigW2', 'changeImmigLabW2', 'immigrantsWelfareStateW2', 'immigEconW2', 'immigCulturalW2', 'govtHandleImmigW2', 'labHandleImmigW2', 'changeImmigW3', 'changeImmigLabW3', 'immigrantsWelfareStateW3', 'immigEconW3', 'immigCulturalW3', 'govtHandleImmigW3', 'labHandleImmigW3', 'changeImmigW4', 'changeImmigLabW4', 'immigrationLevelW4', 'immigrantsWelfareStateW4', 'immigEconW4', 'immigCulturalW4', 'govtHandleImmigW4', 'labHandleImmigW4', 'immigrationLevelW6', 'changeImmigW7', 'changeImmigLabW7', 'immigContributeTakeW7', 'effectsEUImmigrationW7', 'immigrantsWelfareStateW7', 'immigEconW7', 'immigCulturalW7', 'asylumMoreW7', 'euMoreW7', 'noneuMoreW7', 'studentsMoreW7', 'familiesMoreW7', 'immigSelfW7', 'govtHandleImmigW7', 'labHandleImmigW7', 'changeImmigW8', 'immigContributeTakeW8', 'effectsEUImmigrationW8', 'immigrantsWelfareStateW8', 'controlImmigW8', 'immigEconW8', 'immigCulturalW8', 'asylumMoreW8', 'euMoreW8', 'noneuMoreW8', 'studentsMoreW8', 'familiesMoreW8', 'immigSelfW8', 'controlImmigW9', 'immigSelfW9', 'controlImmigW10', 'euPriorityBalanceW10', 'effectsEUImmigrationW10', 'immigEconW10', 'immigCulturalW10', 'immigSelfW10', 'changeImmigW10', 'changeImmigLabW10', 'immigrantsWelfareStateW10', 'controlImmigW11', 'euPriorityBalanceW11', 'effectsEUImmigrationW11', 'immigEconW11', 'immigCulturalW11', 'immigSelfW11', 'changeImmigW11', 'immigrantsWelfareStateW11', 'euPriorityBalanceW12', 'immigSelfW12', 'controlImmigW13', 'euPriorityBalanceW13', 'effectsEUImmigrationW13', 'asylumMoreW13', 'euMoreW13', 'noneuMoreW13', 'studentsMoreW13', 'familiesMoreW13', 'immigEconW13', 'immigCulturalW13', 'immigSelfW13', 'controlImmigW14', 'euPriorityBalanceW14', 'effectsEUImmigrationW14', 'immigEconW14', 'immigCulturalW14', 'immigSelfW14', 'changeImmigW14', 'govtHandleImmigW14', 'labHandleImmigW14', 'controlImmigW15', 'euPriorityBalanceW15', 'effectsEUImmigrationW15', 'immigEconW15', 'immigCulturalW15', 'immigSelfW15', 'changeImmigW15', 'controlImmigW16', 'euPriorityBalanceW16', 'effectsEUImmigrationW16', 'immigEconW16', 'immigCulturalW16', 'immigSelfW16', 'changeImmigW16']"
      ],
      "text/plain": [
       "['changeImmigW1',\n",
       " 'changeImmigLabW1',\n",
       " 'immigEconW1',\n",
       " 'immigCulturalW1',\n",
       " 'immigrantsWelfareStateW1',\n",
       " 'govtHandleImmigW1',\n",
       " 'labHandleImmigW1',\n",
       " 'changeImmigW2',\n",
       " 'changeImmigLabW2',\n",
       " 'immigrantsWelfareStateW2',\n",
       " 'immigEconW2',\n",
       " 'immigCulturalW2',\n",
       " 'govtHandleImmigW2',\n",
       " 'labHandleImmigW2',\n",
       " 'changeImmigW3',\n",
       " 'changeImmigLabW3',\n",
       " 'immigrantsWelfareStateW3',\n",
       " 'immigEconW3',\n",
       " 'immigCulturalW3',\n",
       " 'govtHandleImmigW3',\n",
       " 'labHandleImmigW3',\n",
       " 'changeImmigW4',\n",
       " 'changeImmigLabW4',\n",
       " 'immigrationLevelW4',\n",
       " 'immigrantsWelfareStateW4',\n",
       " 'immigEconW4',\n",
       " 'immigCulturalW4',\n",
       " 'govtHandleImmigW4',\n",
       " 'labHandleImmigW4',\n",
       " 'immigrationLevelW6',\n",
       " 'changeImmigW7',\n",
       " 'changeImmigLabW7',\n",
       " 'immigContributeTakeW7',\n",
       " 'effectsEUImmigrationW7',\n",
       " 'immigrantsWelfareStateW7',\n",
       " 'immigEconW7',\n",
       " 'immigCulturalW7',\n",
       " 'asylumMoreW7',\n",
       " 'euMoreW7',\n",
       " 'noneuMoreW7',\n",
       " 'studentsMoreW7',\n",
       " 'familiesMoreW7',\n",
       " 'immigSelfW7',\n",
       " 'govtHandleImmigW7',\n",
       " 'labHandleImmigW7',\n",
       " 'changeImmigW8',\n",
       " 'immigContributeTakeW8',\n",
       " 'effectsEUImmigrationW8',\n",
       " 'immigrantsWelfareStateW8',\n",
       " 'controlImmigW8',\n",
       " 'immigEconW8',\n",
       " 'immigCulturalW8',\n",
       " 'asylumMoreW8',\n",
       " 'euMoreW8',\n",
       " 'noneuMoreW8',\n",
       " 'studentsMoreW8',\n",
       " 'familiesMoreW8',\n",
       " 'immigSelfW8',\n",
       " 'controlImmigW9',\n",
       " 'immigSelfW9',\n",
       " 'controlImmigW10',\n",
       " 'euPriorityBalanceW10',\n",
       " 'effectsEUImmigrationW10',\n",
       " 'immigEconW10',\n",
       " 'immigCulturalW10',\n",
       " 'immigSelfW10',\n",
       " 'changeImmigW10',\n",
       " 'changeImmigLabW10',\n",
       " 'immigrantsWelfareStateW10',\n",
       " 'controlImmigW11',\n",
       " 'euPriorityBalanceW11',\n",
       " 'effectsEUImmigrationW11',\n",
       " 'immigEconW11',\n",
       " 'immigCulturalW11',\n",
       " 'immigSelfW11',\n",
       " 'changeImmigW11',\n",
       " 'immigrantsWelfareStateW11',\n",
       " 'euPriorityBalanceW12',\n",
       " 'immigSelfW12',\n",
       " 'controlImmigW13',\n",
       " 'euPriorityBalanceW13',\n",
       " 'effectsEUImmigrationW13',\n",
       " 'asylumMoreW13',\n",
       " 'euMoreW13',\n",
       " 'noneuMoreW13',\n",
       " 'studentsMoreW13',\n",
       " 'familiesMoreW13',\n",
       " 'immigEconW13',\n",
       " 'immigCulturalW13',\n",
       " 'immigSelfW13',\n",
       " 'controlImmigW14',\n",
       " 'euPriorityBalanceW14',\n",
       " 'effectsEUImmigrationW14',\n",
       " 'immigEconW14',\n",
       " 'immigCulturalW14',\n",
       " 'immigSelfW14',\n",
       " 'changeImmigW14',\n",
       " 'govtHandleImmigW14',\n",
       " 'labHandleImmigW14',\n",
       " 'controlImmigW15',\n",
       " 'euPriorityBalanceW15',\n",
       " 'effectsEUImmigrationW15',\n",
       " 'immigEconW15',\n",
       " 'immigCulturalW15',\n",
       " 'immigSelfW15',\n",
       " 'changeImmigW15',\n",
       " 'controlImmigW16',\n",
       " 'euPriorityBalanceW16',\n",
       " 'effectsEUImmigrationW16',\n",
       " 'immigEconW16',\n",
       " 'immigCulturalW16',\n",
       " 'immigSelfW16',\n",
       " 'changeImmigW16']"
      ]
     },
     "execution_count": 96,
     "metadata": {},
     "output_type": "execute_result"
    }
   ],
   "source": [
    "list(cat_ser.index)"
   ]
  },
  {
   "cell_type": "code",
   "execution_count": 118,
   "metadata": {},
   "outputs": [
    {
     "data": {
      "text/plain": [
       "immigCultural             12\n",
       "immigEcon                 12\n",
       "changeImmig               11\n",
       "immigSelf                 10\n",
       "controlImmig               8\n",
       "immigrantsWelfareState     8\n",
       "effectsEUImmigration       8\n",
       "euPriorityBalance          7\n",
       "changeImmigLab             6\n",
       "govtHandleImmig            6\n",
       "labHandleImmig             6\n",
       "studentsMore               3\n",
       "asylumMore                 3\n",
       "familiesMore               3\n",
       "euMore                     3\n",
       "noneuMore                  3\n",
       "immigrationLevel           2\n",
       "immigContributeTake        2\n",
       "dtype: int64"
      ]
     },
     "execution_count": 118,
     "metadata": {},
     "output_type": "execute_result"
    }
   ],
   "source": [
    "pd.Series([re.match(\"(.*?)($|W\\d+)\",x).groups()[0] for x in cat_ser.index]).value_counts()"
   ]
  },
  {
   "cell_type": "code",
   "execution_count": 107,
   "metadata": {},
   "outputs": [],
   "source": [
    "# changeImmig_cats = ['Getting a lot lower', 'Getting a little lower','Staying about the same','Getting a little higher', \n",
    "#        'Getting a lot higher',  \"Don't know\" ]\n",
    "# BES_Panel[ match(BES_Panel, \"changeImmig\" ).index ] = BES_Panel[ match(BES_Panel, \"changeImmig\" ).index ].apply(lambda x: x.cat.reorder_categories(changeImmig_cats))\n",
    "\n"
   ]
  },
  {
   "cell_type": "code",
   "execution_count": 110,
   "metadata": {},
   "outputs": [],
   "source": [
    "# immigEcon_cats = ['Bad for economy','2', '3', '4', '5', '6', 'Good for economy',  \"Don't know\"]\n",
    "# BES_Panel[ match(BES_Panel, \"immigEcon\" ).index ] = BES_Panel[ match(BES_Panel, \"immigEcon\" ).index ]\\\n",
    "#     .apply(lambda x: x.cat.reorder_categories(immigEcon_cats))"
   ]
  },
  {
   "cell_type": "code",
   "execution_count": 114,
   "metadata": {},
   "outputs": [],
   "source": [
    "fix_cat_dict = {}\n",
    "fix_cat_dict['changeImmig']=['Getting a lot lower', 'Getting a little lower','Staying about the same',\n",
    "                             'Getting a little higher', 'Getting a lot higher',  \"Don't know\" ]\n",
    "fix_cat_dict['immigEcon']=['Bad for economy','2', '3', '4', '5', '6', 'Good for economy',  \"Don't know\"]\n",
    "fix_cat_dict['immigCultural']=['Undermines cultural life', '2', '3', '4', '5', '6', 'Enriches cultural life', \"Don't know\" ]\n",
    "\n",
    "fix_cat_dict[\"immig(Self|Con|Lab|TIG|Brexit|Green|UKIP|PC|SNP|LD)W\"] = ['Allow many fewer', '1', '2', '3', '4', '5', '6', '7', '8', '9', 'Allow many more', \"Don't know\"]\n",
    "fix_cat_dict['controlImmig']=['No control at all', 'A little control', 'Some control', 'A lot of control', 'Complete control', \"Don't know\"]\n",
    "\n",
    "fix_cat_dict['immigrantsWelfareState'] = ['Strongly disagree', 'Disagree',  'Neither agree nor disagree','Agree', 'Strongly agree',\"Don't know\", ]\n",
    "fix_cat_dict['effectsEUImmigration'] = ['Much lower', 'Lower', 'About the same', 'Higher', 'Much higher', \"Don't know\"]\n",
    "\n",
    "fix_cat_dict['euPriorityBalance'] = ['Access to the single market', '1', '2', '3', '4', '5', '6', '7', '8', '9', 'Control immigration', \"Don't know\"]\n",
    "fix_cat_dict['(lab|govt)HandleImmig'] = ['Very badly', 'Fairly badly', 'Neither well nor badly', 'Fairly well', 'Very well', \"Don't know\"]\n",
    "\n",
    "fix_cat_dict['(students|eu|asylum|familie|noneu)More'] = ['Many fewer', '1', '2', '3', '4', '5', '6', '7', '8', '9', 'Many more', \"Don't know\"]\n",
    "fix_cat_dict['immigrationLevel'] = ['Decreased a lot', 'Decreased a little', 'Left the same as it is now',\n",
    "                                    'Increased a little', 'Increased a lot',  \"Don't know\"]\n",
    "\n",
    "fix_cat_dict['immigContributeTake'] = ['Get more than they pay', '2.0', '3.0', '4.0',\n",
    "                                       '5.0', '6.0', 'Pay more than they get', \"Don't know\"]"
   ]
  },
  {
   "cell_type": "code",
   "execution_count": null,
   "metadata": {},
   "outputs": [],
   "source": [
    "def fix_cats(fix_cat_dict):\n",
    "    for key in fix_cat_dict.keys():\n",
    "        BES_Panel[ match(BES_Panel, key ).index ] = BES_Panel[ match(BES_Panel,key ).index ]\\\n",
    "            .apply( lambda x: x.cat.reorder_categories( fix_cat_dict[key] ) )\n",
    "    \n",
    "fix_cats(fix_cat_dict)"
   ]
  },
  {
   "cell_type": "code",
   "execution_count": 125,
   "metadata": {},
   "outputs": [
    {
     "data": {
      "text/plain": [
       "Index(['1', '2', '3', '4', '5', '6', '7', '8', '9', 'Allow many fewer',\n",
       "       'Allow many more', 'Don't know'],\n",
       "      dtype='object')"
      ]
     },
     "execution_count": 125,
     "metadata": {},
     "output_type": "execute_result"
    }
   ],
   "source": [
    "BES_Panel['immigSelfW9'].cat.categories"
   ]
  },
  {
   "cell_type": "code",
   "execution_count": 157,
   "metadata": {},
   "outputs": [
    {
     "data": {
      "text/plain": [
       "2.0|3.0|4.0|5.0|6.0|Don't know|Get more than they pay|Pay more than they get    2\n",
       "dtype: int64"
      ]
     },
     "execution_count": 157,
     "metadata": {},
     "output_type": "execute_result"
    }
   ],
   "source": [
    "BES_Panel[ match(BES_Panel, \"immigContributeTake\" ).index ].apply(lambda x: \"|\".join(list(map(str,x.cat.categories)))).value_counts()"
   ]
  },
  {
   "cell_type": "code",
   "execution_count": 158,
   "metadata": {
    "scrolled": false
   },
   "outputs": [
    {
     "data": {
      "text/html": [
       "['2.0', '3.0', '4.0', '5.0', '6.0', \"Don't know\", 'Get more than they pay', 'Pay more than they get']"
      ],
      "text/plain": [
       "['2.0',\n",
       " '3.0',\n",
       " '4.0',\n",
       " '5.0',\n",
       " '6.0',\n",
       " \"Don't know\",\n",
       " 'Get more than they pay',\n",
       " 'Pay more than they get']"
      ]
     },
     "execution_count": 158,
     "metadata": {},
     "output_type": "execute_result"
    }
   ],
   "source": [
    "\"2.0|3.0|4.0|5.0|6.0|Don't know|Get more than they pay|Pay more than they get\".split(\"|\")"
   ]
  },
  {
   "cell_type": "code",
   "execution_count": null,
   "metadata": {},
   "outputs": [],
   "source": []
  },
  {
   "cell_type": "code",
   "execution_count": null,
   "metadata": {},
   "outputs": [],
   "source": []
  },
  {
   "cell_type": "code",
   "execution_count": null,
   "metadata": {},
   "outputs": [],
   "source": []
  },
  {
   "cell_type": "code",
   "execution_count": null,
   "metadata": {},
   "outputs": [],
   "source": []
  },
  {
   "cell_type": "code",
   "execution_count": null,
   "metadata": {},
   "outputs": [],
   "source": []
  },
  {
   "cell_type": "code",
   "execution_count": null,
   "metadata": {},
   "outputs": [],
   "source": []
  }
 ],
 "metadata": {
  "kernelspec": {
   "display_name": "Python [conda env:BES_analysis] *",
   "language": "python",
   "name": "conda-env-BES_analysis-py"
  },
  "language_info": {
   "codemirror_mode": {
    "name": "ipython",
    "version": 3
   },
   "file_extension": ".py",
   "mimetype": "text/x-python",
   "name": "python",
   "nbconvert_exporter": "python",
   "pygments_lexer": "ipython3",
   "version": "3.7.6"
  }
 },
 "nbformat": 4,
 "nbformat_minor": 4
}
