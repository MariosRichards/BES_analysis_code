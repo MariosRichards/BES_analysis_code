{
 "cells": [
  {
   "cell_type": "code",
   "execution_count": 1,
   "metadata": {},
   "outputs": [
    {
     "data": {
      "text/html": [
       "<script>jQuery(function() {if (jQuery(\"body.notebook_app\").length == 0) { jQuery(\".input_area\").toggle(); jQuery(\".prompt\").toggle();}});</script>"
      ]
     },
     "metadata": {},
     "output_type": "display_data"
    },
    {
     "data": {
      "text/html": [
       "<button onclick=\"jQuery('.input_area').toggle(); jQuery('.prompt').toggle();\">Toggle code</button>"
      ]
     },
     "metadata": {},
     "output_type": "display_data"
    },
    {
     "name": "stdout",
     "output_type": "stream",
     "text": [
      "var_type (7911, 14)\n",
      "Wall time: 45.3 s\n"
     ]
    }
   ],
   "source": [
    "%%time\n",
    "dataset_name = \"W19_comb\"\n",
    "df_list = [ \"BES_Panel\" ]\n",
    "\n",
    "%matplotlib inline \n",
    "%run BES_header.py {dataset_name} {df_list}\n",
    "\n",
    "if \"id\" in BES_Panel.columns:\n",
    "    BES_Panel = BES_Panel.set_index(\"id\").sort_index()\n",
    "\n",
    "(var_type, cat_dictionary, new_old_col_names, old_new_col_names) = get_small_files(data_subfolder, encoding)    \n",
    "    \n",
    "# get full set of inferred \"cross wave\" auth-lib/left-right values and ages\n",
    "pan_dataset_allr_values = pd.read_csv(BES_small_data_files + \"pan_dataset_allr_valuesW19\"+\".csv\")\n",
    "pan_dataset_ages = pd.read_pickle(BES_small_data_files + \"pan_dataset_ages\"+\".zip\", compression='zip')"
   ]
  },
  {
   "cell_type": "code",
   "execution_count": null,
   "metadata": {},
   "outputs": [],
   "source": [
    "# https://twitter.com/p_surridge/status/1262001036031668224"
   ]
  },
  {
   "cell_type": "code",
   "execution_count": 7,
   "metadata": {},
   "outputs": [
    {
     "data": {
      "text/plain": [
       "wt_new_W19_result      32177\n",
       "ptvConW17              34366\n",
       "ptvLabW17              34366\n",
       "ptvLDW17               34366\n",
       "ptvSNPW17               3388\n",
       "ptvPCW17                2084\n",
       "ptvUKIPW17             34366\n",
       "ptvBrexitPartyW17      34366\n",
       "ptvGrnW17              34366\n",
       "pastvote_ge_2019W19    28284\n",
       "dtype: int64"
      ]
     },
     "execution_count": 7,
     "metadata": {},
     "output_type": "execute_result"
    }
   ],
   "source": [
    "search(BES_Panel,\"wt_new_W19_result|pastvote_ge_2019W19|ptv.*W17\")"
   ]
  },
  {
   "cell_type": "code",
   "execution_count": 123,
   "metadata": {},
   "outputs": [
    {
     "data": {
      "text/plain": [
       "ptvConW17            66362\n",
       "ptvLabW17            66372\n",
       "ptvLDW17             66631\n",
       "ptvSNPW17            94056\n",
       "ptvPCW17             95357\n",
       "ptvUKIPW17           65710\n",
       "ptvBrexitPartyW17    65962\n",
       "ptvGrnW17            66442\n",
       "dtype: int64"
      ]
     },
     "execution_count": 123,
     "metadata": {},
     "output_type": "execute_result"
    }
   ],
   "source": [
    "likely_voters_temp = BES_Panel[search(BES_Panel,\"ptv.*W17\").index].apply(lambda x: x.replace(\"Don't know\",np.nan).cat.codes.replace(-1,np.nan))\n",
    "likely_voters = likely_voters_temp>=6\n",
    "likely_voters[likely_voters_temp.isnull()]=np.nan\n",
    "likely_voters.isnull().sum()"
   ]
  },
  {
   "cell_type": "code",
   "execution_count": 122,
   "metadata": {},
   "outputs": [
    {
     "data": {
      "text/plain": [
       "ptvConW17            66362\n",
       "ptvLabW17            66372\n",
       "ptvLDW17             66631\n",
       "ptvSNPW17            94056\n",
       "ptvPCW17             95357\n",
       "ptvUKIPW17           65710\n",
       "ptvBrexitPartyW17    65962\n",
       "ptvGrnW17            66442\n",
       "dtype: int64"
      ]
     },
     "execution_count": 122,
     "metadata": {},
     "output_type": "execute_result"
    }
   ],
   "source": []
  },
  {
   "cell_type": "code",
   "execution_count": 17,
   "metadata": {},
   "outputs": [
    {
     "data": {
      "text/plain": [
       "id\n",
       "1                 NaN\n",
       "2        Conservative\n",
       "3        Brexit Party\n",
       "4                 NaN\n",
       "5                 NaN\n",
       "             ...     \n",
       "98447             NaN\n",
       "98448             NaN\n",
       "98449             NaN\n",
       "98450             NaN\n",
       "98451             NaN\n",
       "Name: pastvote_ge_2019W19, Length: 97158, dtype: category\n",
       "Categories (9, object): [Conservative < Labour < Liberal Democrat < Scottish National Party (SNP) ... Brexit Party < Green < Other < Don't know]"
      ]
     },
     "execution_count": 17,
     "metadata": {},
     "output_type": "execute_result"
    }
   ],
   "source": [
    "BES_Panel[\"pastvote_ge_2019W19\"]"
   ]
  },
  {
   "cell_type": "code",
   "execution_count": 105,
   "metadata": {},
   "outputs": [
    {
     "data": {
      "text/plain": [
       "wt_new_W10           30237\n",
       "wt_new_W11           30956\n",
       "wt_new_W14           31063\n",
       "wt_new_W15           30842\n",
       "wt_new_W16           37959\n",
       "wt_new_W1_W16         2427\n",
       "wt_new_W18           37825\n",
       "wt_new_W6W7          21081\n",
       "wt_new_W2W6          23163\n",
       "wt_new_W2W6W7        17076\n",
       "wt_new_W9_W13        12562\n",
       "wt_new_W12           34394\n",
       "wt_new_W1_W11         6473\n",
       "wt_new_W1_W12         5833\n",
       "wt_new_W1_W13         5301\n",
       "wt_new_W6_W11         9373\n",
       "wt_new_W6_W12         8398\n",
       "wt_new_W6_W13         7622\n",
       "wt_new_W11_W13       21520\n",
       "wt_new_W13W16        14647\n",
       "wt_new_W13_result    31135\n",
       "wt_new_W6W16          9587\n",
       "wt_new_W2W16          8388\n",
       "wt_new_W17           34366\n",
       "wt_new_W13W17        15744\n",
       "wt_new_W6W13W19       8743\n",
       "wt_new_W9W19         13604\n",
       "wt_new_W13_W19        5861\n",
       "wt_new_W13W19        15811\n",
       "wt_new_W16W19        21840\n",
       "wt_new_W17W18W19     19000\n",
       "wt_new_W19_result    32177\n",
       "wt_new_W9            30036\n",
       "wt_new_W8            33502\n",
       "wt_new_W7            30895\n",
       "wt_new_W6            30073\n",
       "wt_new_W13W14        20393\n",
       "wt_new_W9_W14         9723\n",
       "wt_new_W6_W14         6034\n",
       "wt_new_W1_W14         4191\n",
       "wt_new_W6W13         15849\n",
       "wt_new_W7W13         18493\n",
       "wt_newW17W19         23315\n",
       "dtype: int64"
      ]
     },
     "execution_count": 105,
     "metadata": {},
     "output_type": "execute_result"
    }
   ],
   "source": [
    "search(BES_Panel,\"wt_new\")"
   ]
  },
  {
   "cell_type": "code",
   "execution_count": 75,
   "metadata": {},
   "outputs": [],
   "source": [
    "def weighted_mean(x, **kws):\n",
    "    val, weight = map(np.asarray, zip(*x))\n",
    "    val, weight = val[~np.isnan(val)],weight[~np.isnan(val)]\n",
    "#     raise Exception\n",
    "    return (val * weight).sum() / weight.sum()"
   ]
  },
  {
   "cell_type": "code",
   "execution_count": 66,
   "metadata": {},
   "outputs": [
    {
     "data": {
      "text/html": [
       "<div>\n",
       "<style scoped>\n",
       "    .dataframe tbody tr th:only-of-type {\n",
       "        vertical-align: middle;\n",
       "    }\n",
       "\n",
       "    .dataframe tbody tr th {\n",
       "        vertical-align: top;\n",
       "    }\n",
       "\n",
       "    .dataframe thead th {\n",
       "        text-align: right;\n",
       "    }\n",
       "</style>\n",
       "<table border=\"1\" class=\"dataframe\">\n",
       "  <thead>\n",
       "    <tr style=\"text-align: right;\">\n",
       "      <th></th>\n",
       "      <th>weighted_sample_percentage</th>\n",
       "      <th>raw_sample_size</th>\n",
       "    </tr>\n",
       "    <tr>\n",
       "      <th>value</th>\n",
       "      <th></th>\n",
       "      <th></th>\n",
       "    </tr>\n",
       "  </thead>\n",
       "  <tbody>\n",
       "    <tr>\n",
       "      <th>Left-Liberal</th>\n",
       "      <td>13.040000</td>\n",
       "      <td>2608.0</td>\n",
       "    </tr>\n",
       "    <tr>\n",
       "      <th>Left-Moderate</th>\n",
       "      <td>12.100000</td>\n",
       "      <td>2298.0</td>\n",
       "    </tr>\n",
       "    <tr>\n",
       "      <th>Left-Authoritarian</th>\n",
       "      <td>19.250000</td>\n",
       "      <td>3466.0</td>\n",
       "    </tr>\n",
       "    <tr>\n",
       "      <th>Centre-Liberal</th>\n",
       "      <td>6.440000</td>\n",
       "      <td>1302.0</td>\n",
       "    </tr>\n",
       "    <tr>\n",
       "      <th>Centre-Moderate</th>\n",
       "      <td>18.790001</td>\n",
       "      <td>3351.0</td>\n",
       "    </tr>\n",
       "    <tr>\n",
       "      <th>Centre-Authoritarian</th>\n",
       "      <td>16.020000</td>\n",
       "      <td>3167.0</td>\n",
       "    </tr>\n",
       "    <tr>\n",
       "      <th>Right-Liberal</th>\n",
       "      <td>2.320000</td>\n",
       "      <td>447.0</td>\n",
       "    </tr>\n",
       "    <tr>\n",
       "      <th>Right-Moderate</th>\n",
       "      <td>6.310000</td>\n",
       "      <td>1319.0</td>\n",
       "    </tr>\n",
       "    <tr>\n",
       "      <th>Right-Authoritarian</th>\n",
       "      <td>5.720000</td>\n",
       "      <td>1265.0</td>\n",
       "    </tr>\n",
       "  </tbody>\n",
       "</table>\n",
       "</div>"
      ],
      "text/plain": [
       "                      weighted_sample_percentage  raw_sample_size\n",
       "value                                                            \n",
       "Left-Liberal                           13.040000           2608.0\n",
       "Left-Moderate                          12.100000           2298.0\n",
       "Left-Authoritarian                     19.250000           3466.0\n",
       "Centre-Liberal                          6.440000           1302.0\n",
       "Centre-Moderate                        18.790001           3351.0\n",
       "Centre-Authoritarian                   16.020000           3167.0\n",
       "Right-Liberal                           2.320000            447.0\n",
       "Right-Moderate                          6.310000           1319.0\n",
       "Right-Authoritarian                     5.720000           1265.0"
      ]
     },
     "execution_count": 66,
     "metadata": {},
     "output_type": "execute_result"
    }
   ],
   "source": [
    "al_lr_scale = BES_Panel[[\"lr_scaleW17\",\"al_scaleW17\"]].apply(lambda x: x.cat.codes).replace(-1,np.nan)\n",
    "\n",
    "\n",
    "\n",
    "def surridge_lr_scale(x,centre_cutoff,right_cutoff):\n",
    "    if pd.isnull(x):\n",
    "        return np.nan\n",
    "    \n",
    "    if x<centre_cutoff:\n",
    "        return \"Left\"\n",
    "    elif x<right_cutoff:\n",
    "        return \"Centre\"\n",
    "    else:\n",
    "        return \"Right\"\n",
    "    \n",
    "def surridge_al_scale(x,centre_cutoff,right_cutoff):\n",
    "    if pd.isnull(x):\n",
    "        return np.nan\n",
    "    \n",
    "    if x<centre_cutoff:\n",
    "        return \"Liberal\"\n",
    "    elif x<right_cutoff:\n",
    "        return \"Moderate\"\n",
    "    else:\n",
    "        return \"Authoritarian\"\n",
    "    \n",
    "al_lr_scale[\"lr_scaleW17\"] = al_lr_scale[\"lr_scaleW17\"].apply(lambda x: surridge_lr_scale(x, 6,11 ) )\n",
    "al_lr_scale[\"al_scaleW17\"] = al_lr_scale[\"al_scaleW17\"].apply(lambda x: surridge_al_scale(x, 10,15 ) )\n",
    "\n",
    "\n",
    "\n",
    "cats = (al_lr_scale[\"lr_scaleW17\"]+\"-\"+al_lr_scale[\"al_scaleW17\"]).astype('category')\n",
    "\n",
    "cats = cats.cat.reorder_categories([ 'Left-Liberal', 'Left-Moderate','Left-Authoritarian',\n",
    "    'Centre-Liberal', 'Centre-Moderate','Centre-Authoritarian',\n",
    "        'Right-Liberal', 'Right-Moderate','Right-Authoritarian',],ordered=True)\n",
    "\n",
    "\n",
    "wts = BES_Panel[\"wt_new_W19_result\"]\n",
    "mask = cats.notnull() & wts.notnull()\n",
    "weighted_value_counts(cats[mask],wts[mask],normalize=True, perc=True).sort_index()"
   ]
  },
  {
   "cell_type": "code",
   "execution_count": 140,
   "metadata": {},
   "outputs": [
    {
     "data": {
      "text/html": [
       "<div>\n",
       "<style scoped>\n",
       "    .dataframe tbody tr th:only-of-type {\n",
       "        vertical-align: middle;\n",
       "    }\n",
       "\n",
       "    .dataframe tbody tr th {\n",
       "        vertical-align: top;\n",
       "    }\n",
       "\n",
       "    .dataframe thead th {\n",
       "        text-align: right;\n",
       "    }\n",
       "</style>\n",
       "<table border=\"1\" class=\"dataframe\">\n",
       "  <thead>\n",
       "    <tr style=\"text-align: right;\">\n",
       "      <th></th>\n",
       "      <th>left-right</th>\n",
       "      <th>lib-auth</th>\n",
       "    </tr>\n",
       "  </thead>\n",
       "  <tbody>\n",
       "    <tr>\n",
       "      <th>0.0</th>\n",
       "      <td>Left</td>\n",
       "      <td>Liberal</td>\n",
       "    </tr>\n",
       "    <tr>\n",
       "      <th>1.0</th>\n",
       "      <td>Left</td>\n",
       "      <td>Liberal</td>\n",
       "    </tr>\n",
       "    <tr>\n",
       "      <th>2.0</th>\n",
       "      <td>Left</td>\n",
       "      <td>Liberal</td>\n",
       "    </tr>\n",
       "    <tr>\n",
       "      <th>3.0</th>\n",
       "      <td>Left</td>\n",
       "      <td>Liberal</td>\n",
       "    </tr>\n",
       "    <tr>\n",
       "      <th>4.0</th>\n",
       "      <td>Left</td>\n",
       "      <td>Liberal</td>\n",
       "    </tr>\n",
       "    <tr>\n",
       "      <th>5.0</th>\n",
       "      <td>Left</td>\n",
       "      <td>Liberal</td>\n",
       "    </tr>\n",
       "    <tr>\n",
       "      <th>6.0</th>\n",
       "      <td>Centre</td>\n",
       "      <td>Liberal</td>\n",
       "    </tr>\n",
       "    <tr>\n",
       "      <th>7.0</th>\n",
       "      <td>Centre</td>\n",
       "      <td>Liberal</td>\n",
       "    </tr>\n",
       "    <tr>\n",
       "      <th>8.0</th>\n",
       "      <td>Centre</td>\n",
       "      <td>Liberal</td>\n",
       "    </tr>\n",
       "    <tr>\n",
       "      <th>9.0</th>\n",
       "      <td>Centre</td>\n",
       "      <td>Liberal</td>\n",
       "    </tr>\n",
       "    <tr>\n",
       "      <th>10.0</th>\n",
       "      <td>Centre</td>\n",
       "      <td>Moderate</td>\n",
       "    </tr>\n",
       "    <tr>\n",
       "      <th>11.0</th>\n",
       "      <td>Right</td>\n",
       "      <td>Moderate</td>\n",
       "    </tr>\n",
       "    <tr>\n",
       "      <th>12.0</th>\n",
       "      <td>Right</td>\n",
       "      <td>Moderate</td>\n",
       "    </tr>\n",
       "    <tr>\n",
       "      <th>13.0</th>\n",
       "      <td>Right</td>\n",
       "      <td>Moderate</td>\n",
       "    </tr>\n",
       "    <tr>\n",
       "      <th>14.0</th>\n",
       "      <td>Right</td>\n",
       "      <td>Moderate</td>\n",
       "    </tr>\n",
       "    <tr>\n",
       "      <th>15.0</th>\n",
       "      <td>Right</td>\n",
       "      <td>Authoritarian</td>\n",
       "    </tr>\n",
       "    <tr>\n",
       "      <th>16.0</th>\n",
       "      <td>Right</td>\n",
       "      <td>Authoritarian</td>\n",
       "    </tr>\n",
       "    <tr>\n",
       "      <th>17.0</th>\n",
       "      <td>Right</td>\n",
       "      <td>Authoritarian</td>\n",
       "    </tr>\n",
       "    <tr>\n",
       "      <th>18.0</th>\n",
       "      <td>Right</td>\n",
       "      <td>Authoritarian</td>\n",
       "    </tr>\n",
       "    <tr>\n",
       "      <th>19.0</th>\n",
       "      <td>Right</td>\n",
       "      <td>Authoritarian</td>\n",
       "    </tr>\n",
       "    <tr>\n",
       "      <th>20.0</th>\n",
       "      <td>Right</td>\n",
       "      <td>Authoritarian</td>\n",
       "    </tr>\n",
       "  </tbody>\n",
       "</table>\n",
       "</div>"
      ],
      "text/plain": [
       "     left-right       lib-auth\n",
       "0.0        Left        Liberal\n",
       "1.0        Left        Liberal\n",
       "2.0        Left        Liberal\n",
       "3.0        Left        Liberal\n",
       "4.0        Left        Liberal\n",
       "5.0        Left        Liberal\n",
       "6.0      Centre        Liberal\n",
       "7.0      Centre        Liberal\n",
       "8.0      Centre        Liberal\n",
       "9.0      Centre        Liberal\n",
       "10.0     Centre       Moderate\n",
       "11.0      Right       Moderate\n",
       "12.0      Right       Moderate\n",
       "13.0      Right       Moderate\n",
       "14.0      Right       Moderate\n",
       "15.0      Right  Authoritarian\n",
       "16.0      Right  Authoritarian\n",
       "17.0      Right  Authoritarian\n",
       "18.0      Right  Authoritarian\n",
       "19.0      Right  Authoritarian\n",
       "20.0      Right  Authoritarian"
      ]
     },
     "execution_count": 140,
     "metadata": {},
     "output_type": "execute_result"
    }
   ],
   "source": [
    "value_range = BES_Panel[[\"lr_scaleW17\",\"al_scaleW17\"]].apply(lambda x: x.cat.codes).replace(-1,np.nan)[\"lr_scaleW17\"].value_counts().sort_index().index\n",
    "sur_df = pd.concat([pd.DataFrame.from_dict({k:surridge_lr_scale(k, 6,11 ) for k in value_range},orient='index'),\n",
    "           pd.DataFrame.from_dict({k:surridge_al_scale(k, 10,15 ) for k in value_range},orient='index')],axis=1)\n",
    "sur_df.columns = [\"left-right\",\"lib-auth\"]\n",
    "sur_df"
   ]
  },
  {
   "cell_type": "code",
   "execution_count": 146,
   "metadata": {},
   "outputs": [],
   "source": [
    "df = pd.DataFrame()\n",
    "df[\"value group\"] = cats\n",
    "df[\"wts\"] = BES_Panel[\"wt_newW17W19\"]\n",
    "df[\"wts17\"] = BES_Panel[\"wt_new_W17\"]\n",
    "#wt_new_W19_result \n",
    "\n",
    "\n",
    "\n",
    "df[\"2019GEVote\"] = BES_Panel[\"pastvote_ge_2019W19\"]\n",
    "df[likely_voters.columns] = likely_voters"
   ]
  },
  {
   "cell_type": "code",
   "execution_count": 148,
   "metadata": {},
   "outputs": [
    {
     "data": {
      "text/plain": [
       "value group           ptvConW17\n",
       "Left-Liberal          0.0          0.01\n",
       "                      1.0          0.39\n",
       "Left-Moderate         0.0          0.05\n",
       "                      1.0          0.61\n",
       "Left-Authoritarian    0.0          0.13\n",
       "                      1.0          0.73\n",
       "Centre-Liberal        0.0          0.02\n",
       "                      1.0          0.60\n",
       "Centre-Moderate       0.0          0.09\n",
       "                      1.0          0.71\n",
       "Centre-Authoritarian  0.0          0.17\n",
       "                      1.0          0.81\n",
       "Right-Liberal         0.0          0.09\n",
       "                      1.0          0.65\n",
       "Right-Moderate        0.0          0.16\n",
       "                      1.0          0.81\n",
       "Right-Authoritarian   0.0          0.23\n",
       "                      1.0          0.91\n",
       "Name: 2019GEVote_wts, dtype: float64"
      ]
     },
     "execution_count": 148,
     "metadata": {},
     "output_type": "execute_result"
    }
   ],
   "source": [
    "longname = \"Conservative\"\n",
    "shortname = \"Con\"\n",
    "var_list = [\"value group\",\"wts\",\"wts17\",\"2019GEVote\",\"ptv\"+shortname+\"W17\"]\n",
    "\n",
    "vote_mask = df[\"2019GEVote\"].notnull() & df[\"wts\"].notnull()\n",
    "likely_mask = df[\"ptv\"+shortname+\"W17\"].notnull() & df[\"wts17\"].notnull()\n",
    "\n",
    "df_temp = df[var_list].copy()\n",
    "df_temp[\"2019GEVote\"] = df_temp[\"2019GEVote\"]==longname\n",
    "df_temp[\"2019GEVote_wts\"] = list(zip(df_temp[\"2019GEVote\"],df_temp[\"wts\"]))\n",
    "df_temp[\"likely\"+shortname+\"_wts\"] = list(zip(df_temp[\"ptv\"+shortname+\"W17\"],df_temp[\"wts17\"]))\n",
    "\n",
    "df_temp.dropna().groupby([\"value group\",\"ptv\"+shortname+\"W17\"])[\"2019GEVote_wts\"].apply(lambda x: weighted_mean(x)).round(2)"
   ]
  },
  {
   "cell_type": "code",
   "execution_count": 149,
   "metadata": {},
   "outputs": [
    {
     "data": {
      "text/plain": [
       "value group\n",
       "Left-Liberal            0.02\n",
       "Left-Moderate           0.22\n",
       "Left-Authoritarian      0.49\n",
       "Centre-Liberal          0.16\n",
       "Centre-Moderate         0.51\n",
       "Centre-Authoritarian    0.73\n",
       "Right-Liberal           0.47\n",
       "Right-Moderate          0.76\n",
       "Right-Authoritarian     0.90\n",
       "Name: 2019GEVote_wts, dtype: float64"
      ]
     },
     "execution_count": 149,
     "metadata": {},
     "output_type": "execute_result"
    }
   ],
   "source": [
    "df_temp[vote_mask].groupby(\"value group\")[\"2019GEVote_wts\"].apply(lambda x: weighted_mean(x)).round(2)"
   ]
  },
  {
   "cell_type": "code",
   "execution_count": 150,
   "metadata": {},
   "outputs": [
    {
     "data": {
      "text/plain": [
       "value group\n",
       "Left-Liberal            0.04\n",
       "Left-Moderate           0.23\n",
       "Left-Authoritarian      0.44\n",
       "Centre-Liberal          0.21\n",
       "Centre-Moderate         0.52\n",
       "Centre-Authoritarian    0.72\n",
       "Right-Liberal           0.59\n",
       "Right-Moderate          0.80\n",
       "Right-Authoritarian     0.89\n",
       "Name: likelyCon_wts, dtype: float64"
      ]
     },
     "execution_count": 150,
     "metadata": {},
     "output_type": "execute_result"
    }
   ],
   "source": [
    "df_temp[likely_mask].groupby(\"value group\")[\"likely\"+shortname+\"_wts\"].apply(lambda x: weighted_mean(x)).round(2)"
   ]
  },
  {
   "cell_type": "code",
   "execution_count": null,
   "metadata": {},
   "outputs": [],
   "source": []
  },
  {
   "cell_type": "code",
   "execution_count": null,
   "metadata": {},
   "outputs": [],
   "source": []
  },
  {
   "cell_type": "code",
   "execution_count": 151,
   "metadata": {},
   "outputs": [
    {
     "data": {
      "text/plain": [
       "value group           ptvLabW17\n",
       "Left-Liberal          0.0          0.22\n",
       "                      1.0          0.77\n",
       "Left-Moderate         0.0          0.15\n",
       "                      1.0          0.69\n",
       "Left-Authoritarian    0.0          0.07\n",
       "                      1.0          0.59\n",
       "Centre-Liberal        0.0          0.14\n",
       "                      1.0          0.65\n",
       "Centre-Moderate       0.0          0.08\n",
       "                      1.0          0.53\n",
       "Centre-Authoritarian  0.0          0.03\n",
       "                      1.0          0.45\n",
       "Right-Liberal         0.0          0.06\n",
       "                      1.0          0.31\n",
       "Right-Moderate        0.0          0.03\n",
       "                      1.0          0.30\n",
       "Right-Authoritarian   0.0          0.01\n",
       "                      1.0          0.19\n",
       "Name: 2019GEVote_wts, dtype: float64"
      ]
     },
     "execution_count": 151,
     "metadata": {},
     "output_type": "execute_result"
    }
   ],
   "source": [
    "longname = \"Labour\"\n",
    "shortname = \"Lab\"\n",
    "var_list = [\"value group\",\"wts\",\"2019GEVote\",\"ptv\"+shortname+\"W17\"]\n",
    "\n",
    "vote_mask = df[\"2019GEVote\"].notnull() & df[\"wts\"].notnull()\n",
    "likely_mask = df[\"ptv\"+shortname+\"W17\"].notnull() & df[\"wts\"].notnull()\n",
    "\n",
    "df_temp = df[var_list].copy()\n",
    "df_temp[\"2019GEVote\"] = df_temp[\"2019GEVote\"]==longname\n",
    "df_temp[\"2019GEVote_wts\"] = list(zip(df_temp[\"2019GEVote\"],df_temp[\"wts\"]))\n",
    "df_temp[\"likely\"+shortname+\"_wts\"] = list(zip(df_temp[\"ptv\"+shortname+\"W17\"],df_temp[\"wts\"]))\n",
    "\n",
    "df_temp.dropna().groupby([\"value group\",\"ptv\"+shortname+\"W17\"])[\"2019GEVote_wts\"].apply(lambda x: weighted_mean(x)).round(2)"
   ]
  },
  {
   "cell_type": "code",
   "execution_count": 152,
   "metadata": {},
   "outputs": [
    {
     "data": {
      "text/plain": [
       "value group\n",
       "Left-Liberal            0.70\n",
       "Left-Moderate           0.50\n",
       "Left-Authoritarian      0.29\n",
       "Centre-Liberal          0.45\n",
       "Centre-Moderate         0.25\n",
       "Centre-Authoritarian    0.11\n",
       "Right-Liberal           0.13\n",
       "Right-Moderate          0.08\n",
       "Right-Authoritarian     0.03\n",
       "Name: 2019GEVote_wts, dtype: float64"
      ]
     },
     "execution_count": 152,
     "metadata": {},
     "output_type": "execute_result"
    }
   ],
   "source": [
    "df_temp[vote_mask].groupby(\"value group\")[\"2019GEVote_wts\"].apply(lambda x: weighted_mean(x)).round(2)"
   ]
  },
  {
   "cell_type": "code",
   "execution_count": 153,
   "metadata": {},
   "outputs": [
    {
     "data": {
      "text/plain": [
       "value group\n",
       "Left-Liberal            0.75\n",
       "Left-Moderate           0.49\n",
       "Left-Authoritarian      0.30\n",
       "Centre-Liberal          0.51\n",
       "Centre-Moderate         0.28\n",
       "Centre-Authoritarian    0.15\n",
       "Right-Liberal           0.22\n",
       "Right-Moderate          0.11\n",
       "Right-Authoritarian     0.05\n",
       "Name: likelyLab_wts, dtype: float64"
      ]
     },
     "execution_count": 153,
     "metadata": {},
     "output_type": "execute_result"
    }
   ],
   "source": [
    "df_temp[likely_mask].groupby(\"value group\")[\"likely\"+shortname+\"_wts\"].apply(lambda x: weighted_mean(x)).round(2)"
   ]
  },
  {
   "cell_type": "code",
   "execution_count": 154,
   "metadata": {},
   "outputs": [
    {
     "data": {
      "text/plain": [
       "value group           ptvLDW17\n",
       "Left-Liberal          0.0         0.03\n",
       "                      1.0         0.22\n",
       "Left-Moderate         0.0         0.02\n",
       "                      1.0         0.24\n",
       "Left-Authoritarian    0.0         0.01\n",
       "                      1.0         0.21\n",
       "Centre-Liberal        0.0         0.05\n",
       "                      1.0         0.35\n",
       "Centre-Moderate       0.0         0.03\n",
       "                      1.0         0.29\n",
       "Centre-Authoritarian  0.0         0.01\n",
       "                      1.0         0.27\n",
       "Right-Liberal         0.0         0.06\n",
       "                      1.0         0.49\n",
       "Right-Moderate        0.0         0.02\n",
       "                      1.0         0.29\n",
       "Right-Authoritarian   0.0         0.00\n",
       "                      1.0         0.32\n",
       "Name: 2019GEVote_wts, dtype: float64"
      ]
     },
     "execution_count": 154,
     "metadata": {},
     "output_type": "execute_result"
    }
   ],
   "source": [
    "longname = \"Liberal Democrat\"\n",
    "shortname = \"LD\"\n",
    "var_list = [\"value group\",\"wts\",\"2019GEVote\",\"ptv\"+shortname+\"W17\"]\n",
    "\n",
    "vote_mask = df[\"2019GEVote\"].notnull() & df[\"wts\"].notnull()\n",
    "likely_mask = df[\"ptv\"+shortname+\"W17\"].notnull() & df[\"wts\"].notnull()\n",
    "\n",
    "df_temp = df[var_list].copy()\n",
    "df_temp[\"2019GEVote\"] = df_temp[\"2019GEVote\"]==longname\n",
    "df_temp[\"2019GEVote_wts\"] = list(zip(df_temp[\"2019GEVote\"],df_temp[\"wts\"]))\n",
    "df_temp[\"likely\"+shortname+\"_wts\"] = list(zip(df_temp[\"ptv\"+shortname+\"W17\"],df_temp[\"wts\"]))\n",
    "\n",
    "df_temp.dropna().groupby([\"value group\",\"ptv\"+shortname+\"W17\"])[\"2019GEVote_wts\"].apply(lambda x: weighted_mean(x)).round(2)"
   ]
  },
  {
   "cell_type": "code",
   "execution_count": 155,
   "metadata": {},
   "outputs": [
    {
     "data": {
      "text/plain": [
       "value group\n",
       "Left-Liberal            0.14\n",
       "Left-Moderate           0.13\n",
       "Left-Authoritarian      0.07\n",
       "Centre-Liberal          0.25\n",
       "Centre-Moderate         0.14\n",
       "Centre-Authoritarian    0.07\n",
       "Right-Liberal           0.30\n",
       "Right-Moderate          0.10\n",
       "Right-Authoritarian     0.04\n",
       "Name: 2019GEVote_wts, dtype: float64"
      ]
     },
     "execution_count": 155,
     "metadata": {},
     "output_type": "execute_result"
    }
   ],
   "source": [
    "df_temp[vote_mask].groupby(\"value group\")[\"2019GEVote_wts\"].apply(lambda x: weighted_mean(x)).round(2)"
   ]
  },
  {
   "cell_type": "code",
   "execution_count": 156,
   "metadata": {},
   "outputs": [
    {
     "data": {
      "text/plain": [
       "value group\n",
       "Left-Liberal            0.48\n",
       "Left-Moderate           0.37\n",
       "Left-Authoritarian      0.21\n",
       "Centre-Liberal          0.59\n",
       "Centre-Moderate         0.33\n",
       "Centre-Authoritarian    0.17\n",
       "Right-Liberal           0.48\n",
       "Right-Moderate          0.25\n",
       "Right-Authoritarian     0.10\n",
       "Name: likelyLD_wts, dtype: float64"
      ]
     },
     "execution_count": 156,
     "metadata": {},
     "output_type": "execute_result"
    }
   ],
   "source": [
    "df_temp[likely_mask].groupby(\"value group\")[\"likely\"+shortname+\"_wts\"].apply(lambda x: weighted_mean(x)).round(2)"
   ]
  },
  {
   "cell_type": "code",
   "execution_count": null,
   "metadata": {},
   "outputs": [],
   "source": []
  },
  {
   "cell_type": "code",
   "execution_count": null,
   "metadata": {},
   "outputs": [],
   "source": []
  },
  {
   "cell_type": "code",
   "execution_count": null,
   "metadata": {},
   "outputs": [],
   "source": []
  }
 ],
 "metadata": {
  "kernelspec": {
   "display_name": "Python [conda env:BES_analysis] *",
   "language": "python",
   "name": "conda-env-BES_analysis-py"
  },
  "language_info": {
   "codemirror_mode": {
    "name": "ipython",
    "version": 3
   },
   "file_extension": ".py",
   "mimetype": "text/x-python",
   "name": "python",
   "nbconvert_exporter": "python",
   "pygments_lexer": "ipython3",
   "version": "3.7.6"
  }
 },
 "nbformat": 4,
 "nbformat_minor": 4
}
