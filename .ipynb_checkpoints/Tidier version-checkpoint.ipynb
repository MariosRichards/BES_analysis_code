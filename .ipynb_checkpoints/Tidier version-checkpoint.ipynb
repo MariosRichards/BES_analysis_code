{
 "cells": [
  {
   "cell_type": "raw",
   "metadata": {},
   "source": [
    "# British Election Study dataset\n",
    "\n",
    "# Very big (30,000+), multiple waves (we're up to 9 now) tracking some of the same people\n",
    "#\n",
    "\n",
    "\n",
    "\n"
   ]
  },
  {
   "cell_type": "code",
   "execution_count": 1,
   "metadata": {
    "collapsed": true
   },
   "outputs": [],
   "source": [
    "import numpy as np\n",
    "import pandas as pd\n",
    "%matplotlib inline\n",
    "import matplotlib.pyplot as plt\n",
    "import gc\n",
    "\n",
    "from sklearn import datasets\n",
    "from sklearn.decomposition import PCA\n",
    "from sklearn.discriminant_analysis import LinearDiscriminantAnalysis"
   ]
  },
  {
   "cell_type": "code",
   "execution_count": 16,
   "metadata": {
    "collapsed": false
   },
   "outputs": [
    {
     "name": "stdout",
     "output_type": "stream",
     "text": [
      "(31409, 733)\n",
      "Wall time: 12.9 s\n"
     ]
    }
   ],
   "source": [
    "%%time\n",
    "# Load BES Panel for Wave 8\n",
    "BES_Panel = pd.read_stata(\"../BES_analysis_data/BES2015_W8_v1.3.dta\")\n",
    "print( BES_Panel.shape )"
   ]
  },
  {
   "cell_type": "code",
   "execution_count": 49,
   "metadata": {
    "collapsed": false
   },
   "outputs": [
    {
     "name": "stdout",
     "output_type": "stream",
     "text": [
      "respondents not from England:  11944\n",
      "respondents not from England:  2344\n",
      "(17979, 733)\n"
     ]
    }
   ],
   "source": [
    "# Select only respondents from England who answer Stay/Remain to euVote\n",
    "England = (BES_Panel[\"country\"]==\"England\").values\n",
    "print ( \"respondents not from England: \", sum(BES_Panel[\"country\"]!=\"England\") )\n",
    "Remain  = (BES_Panel[\"euRefVote\"].cat.codes==0).values\n",
    "Leave   = (BES_Panel[\"euRefVote\"].cat.codes==1).values\n",
    "print ( \"respondents not from England: \", len(BES_Panel[~(Remain | Leave)]) )\n",
    "BES_reduced = BES_Panel[England & (Remain | Leave)]\n",
    "print( BES_reduced.shape )"
   ]
  },
  {
   "cell_type": "code",
   "execution_count": null,
   "metadata": {
    "collapsed": false
   },
   "outputs": [],
   "source": []
  },
  {
   "cell_type": "code",
   "execution_count": null,
   "metadata": {
    "collapsed": true
   },
   "outputs": [],
   "source": []
  },
  {
   "cell_type": "code",
   "execution_count": null,
   "metadata": {
    "collapsed": true
   },
   "outputs": [],
   "source": []
  },
  {
   "cell_type": "code",
   "execution_count": null,
   "metadata": {
    "collapsed": true
   },
   "outputs": [],
   "source": []
  },
  {
   "cell_type": "code",
   "execution_count": null,
   "metadata": {
    "collapsed": true
   },
   "outputs": [],
   "source": []
  },
  {
   "cell_type": "code",
   "execution_count": null,
   "metadata": {
    "collapsed": true
   },
   "outputs": [],
   "source": []
  }
 ],
 "metadata": {
  "anaconda-cloud": {},
  "kernelspec": {
   "display_name": "Python 3",
   "language": "python",
   "name": "python3"
  },
  "language_info": {
   "codemirror_mode": {
    "name": "ipython",
    "version": 3
   },
   "file_extension": ".py",
   "mimetype": "text/x-python",
   "name": "python",
   "nbconvert_exporter": "python",
   "pygments_lexer": "ipython3",
   "version": "3.5.2"
  }
 },
 "nbformat": 4,
 "nbformat_minor": 1
}
