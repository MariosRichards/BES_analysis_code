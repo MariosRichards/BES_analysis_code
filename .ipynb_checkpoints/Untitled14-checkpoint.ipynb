{
 "cells": [
  {
   "cell_type": "code",
   "execution_count": 1,
   "metadata": {},
   "outputs": [],
   "source": [
    "# Try to buid a nice looking network diagram of the Labour Leave/Remain like/ptv split\n",
    "\n",
    "\n",
    "\n",
    "\n",
    "# but what about \"getting voters back?\"\n",
    "# marginal seats double-weight LAB -> CON\n",
    "# what about non-voting?\n"
   ]
  },
  {
   "cell_type": "code",
   "execution_count": 2,
   "metadata": {},
   "outputs": [
    {
     "name": "stdout",
     "output_type": "stream",
     "text": [
      "var_type (5692, 13)\n"
     ]
    }
   ],
   "source": [
    "dataset_name = \"W14_comb\"\n",
    "df_list = [\n",
    "           \"BES_Panel\",\n",
    "           \"BES_reduced_with_na\",\n",
    "#            \"BESnumeric\"\n",
    "#            \"BES_reduced\",\n",
    "#            \"BESnumeric\"\n",
    "          ]\n",
    "\n",
    "import numpy as np, pandas as pd, matplotlib.pyplot as plt, seaborn as sns\n",
    "import pickle, os, gc, re\n",
    "\n",
    "from IPython.display import display, display_html, HTML\n",
    "\n",
    "import Jupyter_module_loader\n",
    "from utility import *\n",
    "import gaussian_kde\n",
    "# you should clone this git to a subdirectory called 'BES_analysis_code' (in some directory - I call it BES_analysis - doesn't matter though)\n",
    "%matplotlib inline\n",
    "encoding = \"ISO-8859-1\"\n",
    "\n",
    "(BES_code_folder, BES_small_data_files, BES_data_folder,\n",
    " BES_output_folder, BES_file_manifest, BES_R_data_files) = setup_directories()\n",
    "\n",
    "\n",
    "global BES_Panel, BES_numeric, BES_reduced, BES_reduced_with_na, BES_non_numeric\n",
    "data_subfolder = BES_data_folder + dataset_name + os.sep\n",
    "\n",
    "(manifest, dataset_filename, dataset_description, dataset_citation,\n",
    " dataset_start, dataset_stop, dataset_wave) = get_manifest(dataset_name, BES_file_manifest)\n",
    "\n",
    "for df in df_list:\n",
    "    if df==\"BES_Panel\":\n",
    "        globals()[df]  = pd.read_msgpack(data_subfolder + dataset_filename.replace('.dta','.msgpack'))\n",
    "    else:\n",
    "        globals()[df]  = pd.read_msgpack(data_subfolder + df + '.msgpack' )\n",
    "        globals()[df].replace(-1,np.nan,inplace=True)\n",
    "  \n",
    "(var_type, cat_dictionary, new_old_col_names, old_new_col_names) = get_small_files(data_subfolder, encoding)\n"
   ]
  },
  {
   "cell_type": "code",
   "execution_count": 3,
   "metadata": {},
   "outputs": [],
   "source": [
    "def sort_by_wave(lst):\n",
    "    dict_by_wave = {int(x.split(\"W\")[-1]):x for x in lst}\n",
    "    return [dict_by_wave[x] for x in sorted(dict_by_wave.keys())]\n",
    "    \n",
    "max_wave, num_to_wave, num_to_weight, weights = get_weights(dataset_name,BES_Panel)"
   ]
  },
  {
   "cell_type": "code",
   "execution_count": 4,
   "metadata": {},
   "outputs": [],
   "source": [
    "def BES_weighted_mean(data, wave=None):\n",
    "#   lets say wave is a wave no!\n",
    "    if wave is None:\n",
    "        wts = get_all_weights(None,BES_Panel).loc[data.index]\n",
    "        mask = data.notnull()&wts.notnull()\n",
    "        total_weight = wts[mask].sum()\n",
    "        if mask.sum() ==0:\n",
    "            return np.nan\n",
    "        else:\n",
    "            return((data[mask]*wts[mask]).sum()/total_weight)\n",
    "    else:\n",
    "        wts = weights[num_to_weight[wave]]\n",
    "        mask = data.notnull()&wts.notnull()\n",
    "        total_weight = wts[mask].sum()\n",
    "        if mask.sum() ==0:\n",
    "            return np.nan\n",
    "        else:\n",
    "            return((data[mask]*wts[mask]).sum()/total_weight)\n",
    "#     raise Exception"
   ]
  },
  {
   "cell_type": "code",
   "execution_count": 5,
   "metadata": {},
   "outputs": [],
   "source": [
    "BES_Panel = pd.read_msgpack(\"E:\\\\Downloads\\\\BES2017_W14_Panel_v0.4.msgpack\")"
   ]
  },
  {
   "cell_type": "code",
   "execution_count": 6,
   "metadata": {},
   "outputs": [
    {
     "data": {
      "text/plain": [
       "profile_past_vote_2005    53351\n",
       "profile_past_vote_2010    63248\n",
       "profile_past_vote_2017    37245\n",
       "profile_past_vote_2015    57064\n",
       "dtype: int64"
      ]
     },
     "execution_count": 6,
     "metadata": {},
     "output_type": "execute_result"
    }
   ],
   "source": [
    "search(BES_Panel,\"profile_past\")"
   ]
  },
  {
   "cell_type": "code",
   "execution_count": 8,
   "metadata": {},
   "outputs": [
    {
     "data": {
      "text/plain": [
       "Conservative                                14821\n",
       "Labour                                      14532\n",
       "Liberal Democrat                             3311\n",
       "Scottish National Party (SNP)                1674\n",
       "United Kingdom Independence Party (UKIP)      934\n",
       "Green Party                                   783\n",
       "Other                                         491\n",
       "Don't know                                    444\n",
       "Plaid Cymru                                   255\n",
       "Name: profile_past_vote_2017, dtype: int64"
      ]
     },
     "execution_count": 8,
     "metadata": {},
     "output_type": "execute_result"
    }
   ],
   "source": [
    "BES_Panel[\"profile_past_vote_2017\"].value_counts()"
   ]
  },
  {
   "cell_type": "code",
   "execution_count": 24,
   "metadata": {},
   "outputs": [],
   "source": [
    "Labour2017 = BES_Panel[\"profile_past_vote_2017\"] == \"Labour\""
   ]
  },
  {
   "cell_type": "code",
   "execution_count": 9,
   "metadata": {},
   "outputs": [
    {
     "data": {
      "text/plain": [
       "euRefVoteW1                30327\n",
       "euRefVoteW2                25798\n",
       "euRefVoteW3                27830\n",
       "euRefVoteW4                31442\n",
       "euRefVoteW6                30150\n",
       "euRefVoteW7                30895\n",
       "euRefVoteSqueezeW7          4717\n",
       "euRefVoteUnsqueezeW7       30895\n",
       "euRefVotePostW8             4326\n",
       "euRefVoteW8                33501\n",
       "euRefVoteSqueezeW8          3818\n",
       "euRefVoteUnsqueezeW8       29175\n",
       "euRefVote2W8               29175\n",
       "euRefVoteHypotheticalW9     1788\n",
       "euRefVoteW9                28248\n",
       "euRefVoteW10               30237\n",
       "euRefVoteW11               30956\n",
       "euRefVoteW12               34394\n",
       "euRefVoteW13               31136\n",
       "euRefVoteW14               31063\n",
       "profile_eurefvote          49745\n",
       "dtype: int64"
      ]
     },
     "execution_count": 9,
     "metadata": {},
     "output_type": "execute_result"
    }
   ],
   "source": [
    "search(BES_Panel,\"eurefVote\")"
   ]
  },
  {
   "cell_type": "code",
   "execution_count": 11,
   "metadata": {},
   "outputs": [
    {
     "data": {
      "text/plain": [
       "ptvLabW1        15107\n",
       "ptvLabW2        15199\n",
       "ptvLabW3        13971\n",
       "ptvLabW4        15801\n",
       "ptvLabW5        15458\n",
       "ptvLabW6        15191\n",
       "ptvLabW7        30895\n",
       "ptvLabW8         8966\n",
       "ptvLabW9        30036\n",
       "ptvLabW10       30237\n",
       "ptvLabW11       30956\n",
       "ptvLabW12        8515\n",
       "ptvLabW13       31136\n",
       "ptvLabExpW14     7939\n",
       "dtype: int64"
      ]
     },
     "execution_count": 11,
     "metadata": {},
     "output_type": "execute_result"
    }
   ],
   "source": [
    "search(BES_Panel,\"ptvLab\")\n",
    "# amalgamating mandatory!"
   ]
  },
  {
   "cell_type": "code",
   "execution_count": 12,
   "metadata": {},
   "outputs": [
    {
     "data": {
      "text/plain": [
       "likeLabW1     15225\n",
       "likeLabW2     15041\n",
       "likeLabW3     13854\n",
       "likeLabW4     15641\n",
       "likeLabW5     15374\n",
       "likeLabW6     14959\n",
       "likeLabW7     30895\n",
       "likeLabW8     33502\n",
       "likeLabW9     30036\n",
       "likeLabW10    30237\n",
       "likeLabW11    30956\n",
       "likeLabW12    34394\n",
       "likeLabW13    31136\n",
       "likeLabW14    31063\n",
       "dtype: int64"
      ]
     },
     "execution_count": 12,
     "metadata": {},
     "output_type": "execute_result"
    }
   ],
   "source": [
    "search(BES_Panel,\"likeLab\")"
   ]
  },
  {
   "cell_type": "code",
   "execution_count": 57,
   "metadata": {},
   "outputs": [
    {
     "data": {
      "text/plain": [
       "likeMayW14         31063\n",
       "likeCorbynW14      31063\n",
       "likeCableW14       31063\n",
       "likeSturgeonW14     3408\n",
       "likeWoodW14         2028\n",
       "likeBattenW14      31063\n",
       "likeLucasW14       31063\n",
       "likeDavidsonW14     3408\n",
       "likeLeonardW14      3408\n",
       "likeHarvieW14       3408\n",
       "likeRennieW14       3408\n",
       "likeConW14         31063\n",
       "likeLabW14         31063\n",
       "likeLDW14          31063\n",
       "likeSNPW14          3408\n",
       "likePCW14           2028\n",
       "likeUKIPW14        31063\n",
       "likeGrnW14         31063\n",
       "likeBorisW14        7691\n",
       "likeGoveW14         7691\n",
       "likeMoggW14         7691\n",
       "likeRuddW14         7691\n",
       "likeHuntW14         7691\n",
       "likeJavidW14        7691\n",
       "dtype: int64"
      ]
     },
     "execution_count": 57,
     "metadata": {},
     "output_type": "execute_result"
    }
   ],
   "source": [
    "search(BES_Panel,\"like.*W14\")\n",
    "# Lab/Con/LD/SNP/PC/UKIP/Grn/"
   ]
  },
  {
   "cell_type": "code",
   "execution_count": 15,
   "metadata": {},
   "outputs": [
    {
     "data": {
      "text/plain": [
       "ptvexpgrpW14     7939\n",
       "ptvConExpW14     7939\n",
       "ptvLabExpW14     7939\n",
       "ptvLDExpW14      7939\n",
       "ptvSNPExpW14      896\n",
       "ptvPCExpW14       521\n",
       "ptvUKIPExpW14    7939\n",
       "ptvGrnExpW14     7939\n",
       "dtype: int64"
      ]
     },
     "execution_count": 15,
     "metadata": {},
     "output_type": "execute_result"
    }
   ],
   "source": [
    "search(BES_Panel,\"ptv.*W14\")\n",
    "# amalgamating mandatory!"
   ]
  },
  {
   "cell_type": "code",
   "execution_count": 17,
   "metadata": {},
   "outputs": [
    {
     "data": {
      "text/plain": [
       "2.0    1185\n",
       "3.0    1157\n",
       "7.0    1148\n",
       "5.0    1119\n",
       "1.0    1117\n",
       "4.0    1112\n",
       "6.0    1101\n",
       "Name: ptvexpgrpW14, dtype: int64"
      ]
     },
     "execution_count": 17,
     "metadata": {},
     "output_type": "execute_result"
    }
   ],
   "source": [
    "BES_Panel[\"ptvexpgrpW14\"].value_counts()"
   ]
  },
  {
   "cell_type": "code",
   "execution_count": 58,
   "metadata": {},
   "outputs": [
    {
     "data": {
      "text/plain": [
       "likeSNPW1          2915\n",
       "likeSNPW2          2941\n",
       "likeSNPW3          2559\n",
       "likeSNPW4          2654\n",
       "likeSNPW5          2723\n",
       "likeSNPExtraW5     3543\n",
       "likeSNPW6         14959\n",
       "likeSNPW7          4215\n",
       "likeSNPW8          4278\n",
       "likeSNPW9          3892\n",
       "likeSNPW10         3397\n",
       "likeSNPW11        30956\n",
       "likeSNPW12        34394\n",
       "likeSNPW13        31136\n",
       "likeSNPW14         3408\n",
       "dtype: int64"
      ]
     },
     "execution_count": 58,
     "metadata": {},
     "output_type": "execute_result"
    }
   ],
   "source": [
    "search(BES_Panel,\"likeSNP\")"
   ]
  },
  {
   "cell_type": "code",
   "execution_count": null,
   "metadata": {},
   "outputs": [],
   "source": []
  },
  {
   "cell_type": "code",
   "execution_count": null,
   "metadata": {},
   "outputs": [],
   "source": [
    "# euRefVoteW14, \n",
    "# like(Lab/Con/LD/SNP/PC/UKIP/Grn)W14"
   ]
  },
  {
   "cell_type": "code",
   "execution_count": 37,
   "metadata": {},
   "outputs": [
    {
     "name": "stdout",
     "output_type": "stream",
     "text": [
      "Amalgamating variables: \n",
      "{1: 'likeLabW1', 2: 'likeLabW2', 3: 'likeLabW3', 4: 'likeLabW4', 5: 'likeLabW5', 6: 'likeLabW6', 7: 'likeLabW7', 8: 'likeLabW8', 9: 'likeLabW9', 10: 'likeLabW10', 11: 'likeLabW11', 12: 'likeLabW12', 13: 'likeLabW13', 14: 'likeLabW14'}\n",
      "Amalgamating variables: \n",
      "{1: 'likeConW1', 2: 'likeConW2', 3: 'likeConW3', 4: 'likeConW4', 5: 'likeConW5', 6: 'likeConW6', 7: 'likeConW7', 8: 'likeConW8', 9: 'likeConW9', 10: 'likeConW10', 11: 'likeConW11', 12: 'likeConW12', 13: 'likeConW13', 14: 'likeConW14'}\n",
      "Amalgamating variables: \n",
      "{1: 'likeLDW1', 2: 'likeLDW2', 3: 'likeLDW3', 4: 'likeLDW4', 5: 'likeLDW5', 6: 'likeLDW6', 7: 'likeLDW7', 8: 'likeLDW8', 9: 'likeLDW9', 10: 'likeLDW10', 11: 'likeLDW11', 12: 'likeLDW12', 13: 'likeLDW13', 14: 'likeLDW14'}\n",
      "Amalgamating variables: \n",
      "{1: 'likeSNPW1', 2: 'likeSNPW2', 3: 'likeSNPW3', 4: 'likeSNPW4', 5: 'likeSNPExtraW5', 6: 'likeSNPW6', 7: 'likeSNPW7', 8: 'likeSNPW8', 9: 'likeSNPW9', 10: 'likeSNPW10', 11: 'likeSNPW11', 12: 'likeSNPW12', 13: 'likeSNPW13', 14: 'likeSNPW14'}\n",
      "Amalgamating variables: \n",
      "{1: 'likePCW1', 2: 'likePCW2', 3: 'likePCW3', 4: 'likePCW4', 5: 'likePCW5', 6: 'likePCW6', 7: 'likePCW7', 8: 'likePCW8', 9: 'likePCW9', 10: 'likePCW10', 11: 'likePCW11', 12: 'likePCW12', 13: 'likePCW13', 14: 'likePCW14'}\n",
      "Amalgamating variables: \n",
      "{1: 'likeUKIPW1', 2: 'likeUKIPW2', 3: 'likeUKIPW3', 4: 'likeUKIPW4', 5: 'likeUKIPW5', 6: 'likeUKIPW6', 7: 'likeUKIPW7', 8: 'likeUKIPW8', 9: 'likeUKIPW9', 10: 'likeUKIPW10', 11: 'likeUKIPW11', 12: 'likeUKIPW12', 13: 'likeUKIPW13', 14: 'likeUKIPW14'}\n",
      "Amalgamating variables: \n",
      "{1: 'likeGrnW1', 2: 'likeGrnW2', 3: 'likeGrnW3', 4: 'likeGrnW4', 5: 'likeGrnW5', 6: 'likeGrnW6', 7: 'likeGrnW7', 8: 'likeGrnW8', 9: 'likeGrnW9', 10: 'likeGrnW10', 11: 'likeGrnW11', 12: 'likeGrnW12', 13: 'likeGrnW13', 14: 'likeGrnW14'}\n"
     ]
    },
    {
     "data": {
      "text/html": [
       "<div>\n",
       "<style scoped>\n",
       "    .dataframe tbody tr th:only-of-type {\n",
       "        vertical-align: middle;\n",
       "    }\n",
       "\n",
       "    .dataframe tbody tr th {\n",
       "        vertical-align: top;\n",
       "    }\n",
       "\n",
       "    .dataframe thead th {\n",
       "        text-align: right;\n",
       "    }\n",
       "</style>\n",
       "<table border=\"1\" class=\"dataframe\">\n",
       "  <thead>\n",
       "    <tr style=\"text-align: right;\">\n",
       "      <th></th>\n",
       "      <th>Remain</th>\n",
       "      <th>Leave</th>\n",
       "    </tr>\n",
       "  </thead>\n",
       "  <tbody>\n",
       "    <tr>\n",
       "      <th>Lab</th>\n",
       "      <td>0.766112</td>\n",
       "      <td>0.593420</td>\n",
       "    </tr>\n",
       "    <tr>\n",
       "      <th>Con</th>\n",
       "      <td>0.046983</td>\n",
       "      <td>0.107615</td>\n",
       "    </tr>\n",
       "    <tr>\n",
       "      <th>LD</th>\n",
       "      <td>0.320462</td>\n",
       "      <td>0.136208</td>\n",
       "    </tr>\n",
       "    <tr>\n",
       "      <th>SNP</th>\n",
       "      <td>0.215212</td>\n",
       "      <td>0.072033</td>\n",
       "    </tr>\n",
       "    <tr>\n",
       "      <th>PC</th>\n",
       "      <td>0.457437</td>\n",
       "      <td>0.271058</td>\n",
       "    </tr>\n",
       "    <tr>\n",
       "      <th>UKIP</th>\n",
       "      <td>0.015548</td>\n",
       "      <td>0.168389</td>\n",
       "    </tr>\n",
       "    <tr>\n",
       "      <th>Grn</th>\n",
       "      <td>0.530884</td>\n",
       "      <td>0.257388</td>\n",
       "    </tr>\n",
       "  </tbody>\n",
       "</table>\n",
       "</div>"
      ],
      "text/plain": [
       "        Remain     Leave\n",
       "Lab   0.766112  0.593420\n",
       "Con   0.046983  0.107615\n",
       "LD    0.320462  0.136208\n",
       "SNP   0.215212  0.072033\n",
       "PC    0.457437  0.271058\n",
       "UKIP  0.015548  0.168389\n",
       "Grn   0.530884  0.257388"
      ]
     },
     "execution_count": 37,
     "metadata": {},
     "output_type": "execute_result"
    }
   ],
   "source": [
    "df = pd.DataFrame(columns = [\"Remain\",\"Leave\"])\n",
    "# Lab/Con/LD/SNP/PC/UKIP/Grn\n",
    "# like_var = \"Lab\"\n",
    "for like_var in \"Lab/Con/LD/SNP/PC/UKIP/Grn\".split(\"/\"):\n",
    "    like_amalgamated = amalgamate_waves(BES_Panel,\"like\"+like_var)\n",
    "    # amalgamate\n",
    "    \n",
    "    \n",
    "    ct = pd.crosstab(BES_Panel[\"euRefVoteW14\"][Labour2017],\n",
    "                like_amalgamated[Labour2017],\n",
    "                values = weights[num_to_weight[14]][Labour2017], aggfunc=sum, normalize='index')\n",
    "#     ct.drop(\"Don't know\",inplace=True,axis=1)\n",
    "#     ct.columns.remove_categories(\"Don't know\")\n",
    "#     ct.columns = list(range(0,11))\n",
    "        \n",
    "    \n",
    "#     df.loc[like_var] = [(ct.columns*ct.loc[\"Stay/remain in the EU\"]).sum(),\n",
    "#                         (ct.columns*ct.loc[\"Leave the EU\"]).sum()]\n",
    "\n",
    "    df.loc[like_var] = [ ct[[\"6\",\"7\",\"8\",\"9\",\"Strongly like\"]].sum(axis=1).loc[\"Stay/remain in the EU\"],\n",
    "                         ct[[\"6\",\"7\",\"8\",\"9\",\"Strongly like\"]].sum(axis=1).loc[\"Leave the EU\"] ]\n",
    "df"
   ]
  },
  {
   "cell_type": "code",
   "execution_count": 36,
   "metadata": {},
   "outputs": [
    {
     "data": {
      "text/plain": [
       "0.7661119860723954"
      ]
     },
     "execution_count": 36,
     "metadata": {},
     "output_type": "execute_result"
    }
   ],
   "source": [
    "# ct[[\"6\",\"7\",\"8\",\"9\",\"Strongly like\"]].sum(axis=1).loc[\"Stay/remain in the EU\"]"
   ]
  },
  {
   "cell_type": "code",
   "execution_count": 31,
   "metadata": {},
   "outputs": [
    {
     "data": {
      "text/html": [
       "<div>\n",
       "<style scoped>\n",
       "    .dataframe tbody tr th:only-of-type {\n",
       "        vertical-align: middle;\n",
       "    }\n",
       "\n",
       "    .dataframe tbody tr th {\n",
       "        vertical-align: top;\n",
       "    }\n",
       "\n",
       "    .dataframe thead th {\n",
       "        text-align: right;\n",
       "    }\n",
       "</style>\n",
       "<table border=\"1\" class=\"dataframe\">\n",
       "  <thead>\n",
       "    <tr style=\"text-align: right;\">\n",
       "      <th></th>\n",
       "      <th>0</th>\n",
       "      <th>1</th>\n",
       "      <th>2</th>\n",
       "      <th>3</th>\n",
       "      <th>4</th>\n",
       "      <th>5</th>\n",
       "      <th>6</th>\n",
       "      <th>7</th>\n",
       "      <th>8</th>\n",
       "      <th>9</th>\n",
       "      <th>10</th>\n",
       "    </tr>\n",
       "    <tr>\n",
       "      <th>euRefVoteW14</th>\n",
       "      <th></th>\n",
       "      <th></th>\n",
       "      <th></th>\n",
       "      <th></th>\n",
       "      <th></th>\n",
       "      <th></th>\n",
       "      <th></th>\n",
       "      <th></th>\n",
       "      <th></th>\n",
       "      <th></th>\n",
       "      <th></th>\n",
       "    </tr>\n",
       "  </thead>\n",
       "  <tbody>\n",
       "    <tr>\n",
       "      <th>Stay/remain in the EU</th>\n",
       "      <td>0.050680</td>\n",
       "      <td>0.016000</td>\n",
       "      <td>0.032494</td>\n",
       "      <td>0.048436</td>\n",
       "      <td>0.061303</td>\n",
       "      <td>0.175286</td>\n",
       "      <td>0.136630</td>\n",
       "      <td>0.167235</td>\n",
       "      <td>0.107546</td>\n",
       "      <td>0.056670</td>\n",
       "      <td>0.062804</td>\n",
       "    </tr>\n",
       "    <tr>\n",
       "      <th>Leave the EU</th>\n",
       "      <td>0.134263</td>\n",
       "      <td>0.058417</td>\n",
       "      <td>0.065341</td>\n",
       "      <td>0.074897</td>\n",
       "      <td>0.090843</td>\n",
       "      <td>0.189915</td>\n",
       "      <td>0.099481</td>\n",
       "      <td>0.082895</td>\n",
       "      <td>0.040395</td>\n",
       "      <td>0.017583</td>\n",
       "      <td>0.017034</td>\n",
       "    </tr>\n",
       "    <tr>\n",
       "      <th>I would/will not vote</th>\n",
       "      <td>0.087219</td>\n",
       "      <td>0.059106</td>\n",
       "      <td>0.033147</td>\n",
       "      <td>0.089947</td>\n",
       "      <td>0.078804</td>\n",
       "      <td>0.114356</td>\n",
       "      <td>0.099948</td>\n",
       "      <td>0.123715</td>\n",
       "      <td>0.064232</td>\n",
       "      <td>0.027157</td>\n",
       "      <td>0.011092</td>\n",
       "    </tr>\n",
       "    <tr>\n",
       "      <th>Don't know</th>\n",
       "      <td>0.070726</td>\n",
       "      <td>0.025292</td>\n",
       "      <td>0.030023</td>\n",
       "      <td>0.047640</td>\n",
       "      <td>0.056466</td>\n",
       "      <td>0.173207</td>\n",
       "      <td>0.084008</td>\n",
       "      <td>0.084159</td>\n",
       "      <td>0.046108</td>\n",
       "      <td>0.025256</td>\n",
       "      <td>0.025815</td>\n",
       "    </tr>\n",
       "  </tbody>\n",
       "</table>\n",
       "</div>"
      ],
      "text/plain": [
       "                             0         1         2         3         4   \\\n",
       "euRefVoteW14                                                              \n",
       "Stay/remain in the EU  0.050680  0.016000  0.032494  0.048436  0.061303   \n",
       "Leave the EU           0.134263  0.058417  0.065341  0.074897  0.090843   \n",
       "I would/will not vote  0.087219  0.059106  0.033147  0.089947  0.078804   \n",
       "Don't know             0.070726  0.025292  0.030023  0.047640  0.056466   \n",
       "\n",
       "                             5         6         7         8         9   \\\n",
       "euRefVoteW14                                                              \n",
       "Stay/remain in the EU  0.175286  0.136630  0.167235  0.107546  0.056670   \n",
       "Leave the EU           0.189915  0.099481  0.082895  0.040395  0.017583   \n",
       "I would/will not vote  0.114356  0.099948  0.123715  0.064232  0.027157   \n",
       "Don't know             0.173207  0.084008  0.084159  0.046108  0.025256   \n",
       "\n",
       "                             10  \n",
       "euRefVoteW14                     \n",
       "Stay/remain in the EU  0.062804  \n",
       "Leave the EU           0.017034  \n",
       "I would/will not vote  0.011092  \n",
       "Don't know             0.025815  "
      ]
     },
     "execution_count": 31,
     "metadata": {},
     "output_type": "execute_result"
    }
   ],
   "source": [
    "# ct"
   ]
  },
  {
   "cell_type": "code",
   "execution_count": null,
   "metadata": {},
   "outputs": [],
   "source": []
  },
  {
   "cell_type": "code",
   "execution_count": 40,
   "metadata": {},
   "outputs": [
    {
     "name": "stdout",
     "output_type": "stream",
     "text": [
      "Amalgamating variables: \n",
      "{1: 'ptvLabW1', 2: 'ptvLabW2', 3: 'ptvLabW3', 4: 'ptvLabW4', 5: 'ptvLabW5', 6: 'ptvLabW6', 7: 'ptvLabW7', 8: 'ptvLabW8', 9: 'ptvLabW9', 10: 'ptvLabW10', 11: 'ptvLabW11', 12: 'ptvLabW12', 13: 'ptvLabW13', 14: 'ptvLabExpW14'}\n",
      "Amalgamating variables: \n",
      "{1: 'ptvConW1', 2: 'ptvConW2', 3: 'ptvConW3', 4: 'ptvConW4', 5: 'ptvConW5', 6: 'ptvConW6', 7: 'ptvConW7', 8: 'ptvConW8', 9: 'ptvConW9', 10: 'ptvConW10', 11: 'ptvConW11', 12: 'ptvConW12', 13: 'ptvConW13', 14: 'ptvConExpW14'}\n",
      "Amalgamating variables: \n",
      "{1: 'ptvLDW1', 2: 'ptvLDW2', 3: 'ptvLDW3', 4: 'ptvLDW4', 5: 'ptvLDW5', 6: 'ptvLDW6', 7: 'ptvLDW7', 8: 'ptvLDW8', 9: 'ptvLDW9', 10: 'ptvLDW10', 11: 'ptvLDW11', 12: 'ptvLDW12', 13: 'ptvLDW13', 14: 'ptvLDExpW14'}\n",
      "Amalgamating variables: \n",
      "{1: 'ptvSNPW1', 2: 'ptvSNPW2', 3: 'ptvSNPW3', 4: 'ptvSNPW4', 5: 'ptvSNPW5', 6: 'ptvSNPW6', 7: 'ptvSNPW7', 8: 'ptvSNPW8', 9: 'ptvSNPW9', 10: 'ptvSNPW10', 11: 'ptvSNPW11', 12: 'ptvSNPW12', 13: 'ptvSNPW13', 14: 'ptvSNPExpW14'}\n",
      "Amalgamating variables: \n",
      "{1: 'ptvPCW1', 2: 'ptvPCW2', 3: 'ptvPCW3', 4: 'ptvPCW4', 5: 'ptvPCW5', 6: 'ptvPCW6', 7: 'ptvPCW7', 8: 'ptvPCW8', 9: 'ptvPCW9', 10: 'ptvPCW10', 11: 'ptvPCW11', 12: 'ptvPCW12', 13: 'ptvPCW13', 14: 'ptvPCExpW14'}\n",
      "Amalgamating variables: \n",
      "{1: 'ptvUKIPW1', 2: 'ptvUKIPW2', 3: 'ptvUKIPW3', 4: 'ptvUKIPW4', 5: 'ptvUKIPW5', 6: 'ptvUKIPW6', 7: 'ptvUKIPW7', 8: 'ptvUKIPW8', 9: 'ptvUKIPW9', 10: 'ptvUKIPW10', 11: 'ptvUKIPW11', 12: 'ptvUKIPW12', 13: 'ptvUKIPW13', 14: 'ptvUKIPExpW14'}\n",
      "Amalgamating variables: \n",
      "{1: 'ptvGrnW1', 2: 'ptvGrnW2', 3: 'ptvGrnW3', 4: 'ptvGrnW4', 5: 'ptvGrnW5', 6: 'ptvGrnW6', 7: 'ptvGrnW7', 8: 'ptvGrnW8', 9: 'ptvGrnW9', 10: 'ptvGrnW10', 11: 'ptvGrnW11', 12: 'ptvGrnW12', 13: 'ptvGrnW13', 14: 'ptvGrnExpW14'}\n"
     ]
    },
    {
     "data": {
      "text/html": [
       "<div>\n",
       "<style scoped>\n",
       "    .dataframe tbody tr th:only-of-type {\n",
       "        vertical-align: middle;\n",
       "    }\n",
       "\n",
       "    .dataframe tbody tr th {\n",
       "        vertical-align: top;\n",
       "    }\n",
       "\n",
       "    .dataframe thead th {\n",
       "        text-align: right;\n",
       "    }\n",
       "</style>\n",
       "<table border=\"1\" class=\"dataframe\">\n",
       "  <thead>\n",
       "    <tr style=\"text-align: right;\">\n",
       "      <th></th>\n",
       "      <th>Remain</th>\n",
       "      <th>Leave</th>\n",
       "    </tr>\n",
       "  </thead>\n",
       "  <tbody>\n",
       "    <tr>\n",
       "      <th>Lab</th>\n",
       "      <td>0.822215</td>\n",
       "      <td>0.696653</td>\n",
       "    </tr>\n",
       "    <tr>\n",
       "      <th>Con</th>\n",
       "      <td>0.062679</td>\n",
       "      <td>0.120498</td>\n",
       "    </tr>\n",
       "    <tr>\n",
       "      <th>LD</th>\n",
       "      <td>0.334996</td>\n",
       "      <td>0.127046</td>\n",
       "    </tr>\n",
       "    <tr>\n",
       "      <th>SNP</th>\n",
       "      <td>0.234968</td>\n",
       "      <td>0.229403</td>\n",
       "    </tr>\n",
       "    <tr>\n",
       "      <th>PC</th>\n",
       "      <td>0.399097</td>\n",
       "      <td>0.258634</td>\n",
       "    </tr>\n",
       "    <tr>\n",
       "      <th>UKIP</th>\n",
       "      <td>0.016913</td>\n",
       "      <td>0.184771</td>\n",
       "    </tr>\n",
       "    <tr>\n",
       "      <th>Grn</th>\n",
       "      <td>0.369291</td>\n",
       "      <td>0.156135</td>\n",
       "    </tr>\n",
       "  </tbody>\n",
       "</table>\n",
       "</div>"
      ],
      "text/plain": [
       "        Remain     Leave\n",
       "Lab   0.822215  0.696653\n",
       "Con   0.062679  0.120498\n",
       "LD    0.334996  0.127046\n",
       "SNP   0.234968  0.229403\n",
       "PC    0.399097  0.258634\n",
       "UKIP  0.016913  0.184771\n",
       "Grn   0.369291  0.156135"
      ]
     },
     "execution_count": 40,
     "metadata": {},
     "output_type": "execute_result"
    }
   ],
   "source": [
    "df2 = pd.DataFrame(columns = [\"Remain\",\"Leave\"])\n",
    "# Lab/Con/LD/SNP/PC/UKIP/Grn\n",
    "# like_var = \"Lab\"\n",
    "for like_var in \"Lab/Con/LD/SNP/PC/UKIP/Grn\".split(\"/\"):\n",
    "    like_amalgamated = amalgamate_waves(BES_Panel,\"ptv\"+like_var)\n",
    "    # amalgamate\n",
    "    \n",
    "    \n",
    "    ct = pd.crosstab(BES_Panel[\"euRefVoteW14\"][Labour2017],\n",
    "                like_amalgamated[Labour2017],\n",
    "                values = weights[num_to_weight[14]][Labour2017], aggfunc=sum, normalize='index')\n",
    "#     ct.drop(\"Don't know\",inplace=True,axis=1)\n",
    "#     ct.columns.remove_categories(\"Don't know\")\n",
    "#     ct.columns = list(range(0,11))\n",
    "        \n",
    "    \n",
    "#     df2.loc[like_var] = [(ct.columns*ct.loc[\"Stay/remain in the EU\"]).sum(),\n",
    "#                         (ct.columns*ct.loc[\"Leave the EU\"]).sum()]\n",
    "    df2.loc[like_var] = [ ct[[\"6\",\"7\",\"8\",\"9\",\"Very likely\"]].sum(axis=1).loc[\"Stay/remain in the EU\"],\n",
    "                         ct[[\"6\",\"7\",\"8\",\"9\",\"Very likely\"]].sum(axis=1).loc[\"Leave the EU\"] ]    \n",
    "    \n",
    "df2"
   ]
  },
  {
   "cell_type": "code",
   "execution_count": 39,
   "metadata": {},
   "outputs": [
    {
     "data": {
      "text/html": [
       "<div>\n",
       "<style scoped>\n",
       "    .dataframe tbody tr th:only-of-type {\n",
       "        vertical-align: middle;\n",
       "    }\n",
       "\n",
       "    .dataframe tbody tr th {\n",
       "        vertical-align: top;\n",
       "    }\n",
       "\n",
       "    .dataframe thead th {\n",
       "        text-align: right;\n",
       "    }\n",
       "</style>\n",
       "<table border=\"1\" class=\"dataframe\">\n",
       "  <thead>\n",
       "    <tr style=\"text-align: right;\">\n",
       "      <th>ptvLabW1&amp;2&amp;3&amp;4&amp;5&amp;6&amp;7&amp;8&amp;9&amp;10&amp;11&amp;12&amp;13&amp;14</th>\n",
       "      <th>Very unlikely</th>\n",
       "      <th>1</th>\n",
       "      <th>2</th>\n",
       "      <th>3</th>\n",
       "      <th>4</th>\n",
       "      <th>5</th>\n",
       "      <th>6</th>\n",
       "      <th>7</th>\n",
       "      <th>8</th>\n",
       "      <th>9</th>\n",
       "      <th>Very likely</th>\n",
       "      <th>Don't know</th>\n",
       "    </tr>\n",
       "    <tr>\n",
       "      <th>euRefVoteW14</th>\n",
       "      <th></th>\n",
       "      <th></th>\n",
       "      <th></th>\n",
       "      <th></th>\n",
       "      <th></th>\n",
       "      <th></th>\n",
       "      <th></th>\n",
       "      <th></th>\n",
       "      <th></th>\n",
       "      <th></th>\n",
       "      <th></th>\n",
       "      <th></th>\n",
       "    </tr>\n",
       "  </thead>\n",
       "  <tbody>\n",
       "    <tr>\n",
       "      <th>Stay/remain in the EU</th>\n",
       "      <td>0.016487</td>\n",
       "      <td>0.003215</td>\n",
       "      <td>0.009979</td>\n",
       "      <td>0.011609</td>\n",
       "      <td>0.013334</td>\n",
       "      <td>0.038194</td>\n",
       "      <td>0.041208</td>\n",
       "      <td>0.085505</td>\n",
       "      <td>0.109784</td>\n",
       "      <td>0.084028</td>\n",
       "      <td>0.501689</td>\n",
       "      <td>0.084966</td>\n",
       "    </tr>\n",
       "    <tr>\n",
       "      <th>Leave the EU</th>\n",
       "      <td>0.046170</td>\n",
       "      <td>0.006757</td>\n",
       "      <td>0.013303</td>\n",
       "      <td>0.015402</td>\n",
       "      <td>0.015848</td>\n",
       "      <td>0.095353</td>\n",
       "      <td>0.054404</td>\n",
       "      <td>0.077456</td>\n",
       "      <td>0.108329</td>\n",
       "      <td>0.062251</td>\n",
       "      <td>0.394212</td>\n",
       "      <td>0.110515</td>\n",
       "    </tr>\n",
       "    <tr>\n",
       "      <th>I would/will not vote</th>\n",
       "      <td>0.072835</td>\n",
       "      <td>0.008769</td>\n",
       "      <td>0.015166</td>\n",
       "      <td>0.034269</td>\n",
       "      <td>0.007203</td>\n",
       "      <td>0.040076</td>\n",
       "      <td>0.075348</td>\n",
       "      <td>0.043829</td>\n",
       "      <td>0.095081</td>\n",
       "      <td>0.047467</td>\n",
       "      <td>0.363339</td>\n",
       "      <td>0.196617</td>\n",
       "    </tr>\n",
       "    <tr>\n",
       "      <th>Don't know</th>\n",
       "      <td>0.008071</td>\n",
       "      <td>0.020383</td>\n",
       "      <td>0.003859</td>\n",
       "      <td>0.018040</td>\n",
       "      <td>0.017315</td>\n",
       "      <td>0.049819</td>\n",
       "      <td>0.035771</td>\n",
       "      <td>0.064435</td>\n",
       "      <td>0.073462</td>\n",
       "      <td>0.080340</td>\n",
       "      <td>0.293362</td>\n",
       "      <td>0.335142</td>\n",
       "    </tr>\n",
       "  </tbody>\n",
       "</table>\n",
       "</div>"
      ],
      "text/plain": [
       "ptvLabW1&2&3&4&5&6&7&8&9&10&11&12&13&14  Very unlikely         1         2  \\\n",
       "euRefVoteW14                                                                 \n",
       "Stay/remain in the EU                         0.016487  0.003215  0.009979   \n",
       "Leave the EU                                  0.046170  0.006757  0.013303   \n",
       "I would/will not vote                         0.072835  0.008769  0.015166   \n",
       "Don't know                                    0.008071  0.020383  0.003859   \n",
       "\n",
       "ptvLabW1&2&3&4&5&6&7&8&9&10&11&12&13&14         3         4         5  \\\n",
       "euRefVoteW14                                                            \n",
       "Stay/remain in the EU                    0.011609  0.013334  0.038194   \n",
       "Leave the EU                             0.015402  0.015848  0.095353   \n",
       "I would/will not vote                    0.034269  0.007203  0.040076   \n",
       "Don't know                               0.018040  0.017315  0.049819   \n",
       "\n",
       "ptvLabW1&2&3&4&5&6&7&8&9&10&11&12&13&14         6         7         8  \\\n",
       "euRefVoteW14                                                            \n",
       "Stay/remain in the EU                    0.041208  0.085505  0.109784   \n",
       "Leave the EU                             0.054404  0.077456  0.108329   \n",
       "I would/will not vote                    0.075348  0.043829  0.095081   \n",
       "Don't know                               0.035771  0.064435  0.073462   \n",
       "\n",
       "ptvLabW1&2&3&4&5&6&7&8&9&10&11&12&13&14         9  Very likely  Don't know  \n",
       "euRefVoteW14                                                                \n",
       "Stay/remain in the EU                    0.084028     0.501689    0.084966  \n",
       "Leave the EU                             0.062251     0.394212    0.110515  \n",
       "I would/will not vote                    0.047467     0.363339    0.196617  \n",
       "Don't know                               0.080340     0.293362    0.335142  "
      ]
     },
     "execution_count": 39,
     "metadata": {},
     "output_type": "execute_result"
    }
   ],
   "source": [
    "ct"
   ]
  },
  {
   "cell_type": "code",
   "execution_count": null,
   "metadata": {},
   "outputs": [],
   "source": []
  },
  {
   "cell_type": "code",
   "execution_count": null,
   "metadata": {},
   "outputs": [],
   "source": []
  },
  {
   "cell_type": "code",
   "execution_count": 19,
   "metadata": {},
   "outputs": [
    {
     "name": "stdout",
     "output_type": "stream",
     "text": [
      "Amalgamating variables: \n",
      "{1: 'likeLabW1', 2: 'likeLabW2', 3: 'likeLabW3', 4: 'likeLabW4', 5: 'likeLabW5', 6: 'likeLabW6', 7: 'likeLabW7', 8: 'likeLabW8', 9: 'likeLabW9', 10: 'likeLabW10', 11: 'likeLabW11', 12: 'likeLabW12', 13: 'likeLabW13', 14: 'likeLabW14'}\n"
     ]
    },
    {
     "data": {
      "image/png": "[encoded data removed]",
      "text/plain": [
       "<Figure size 432x288 with 1 Axes>"
      ]
     },
     "metadata": {
      "needs_background": "light"
     },
     "output_type": "display_data"
    }
   ],
   "source": [
    "like_var = \"Lab\"\n",
    "like_amalgamated = amalgamate_waves(BES_Panel,\"like\"+like_var)\n",
    "like_amalgamated.cat.codes.replace(11,np.nan).replace(-1,np.nan).hist(bins=11);"
   ]
  },
  {
   "cell_type": "code",
   "execution_count": 20,
   "metadata": {},
   "outputs": [
    {
     "name": "stdout",
     "output_type": "stream",
     "text": [
      "Amalgamating variables: \n",
      "{1: 'likeConW1', 2: 'likeConW2', 3: 'likeConW3', 4: 'likeConW4', 5: 'likeConW5', 6: 'likeConW6', 7: 'likeConW7', 8: 'likeConW8', 9: 'likeConW9', 10: 'likeConW10', 11: 'likeConW11', 12: 'likeConW12', 13: 'likeConW13', 14: 'likeConW14'}\n"
     ]
    },
    {
     "data": {
      "image/png": "[encoded data removed]",
      "text/plain": [
       "<Figure size 432x288 with 1 Axes>"
      ]
     },
     "metadata": {
      "needs_background": "light"
     },
     "output_type": "display_data"
    }
   ],
   "source": [
    "like_var = \"Con\"\n",
    "like_amalgamated = amalgamate_waves(BES_Panel,\"like\"+like_var)\n",
    "like_amalgamated.cat.codes.replace(11,np.nan).replace(-1,np.nan).hist(bins=11);"
   ]
  },
  {
   "cell_type": "code",
   "execution_count": 21,
   "metadata": {},
   "outputs": [
    {
     "name": "stdout",
     "output_type": "stream",
     "text": [
      "Amalgamating variables: \n",
      "{1: 'ptvLabW1', 2: 'ptvLabW2', 3: 'ptvLabW3', 4: 'ptvLabW4', 5: 'ptvLabW5', 6: 'ptvLabW6', 7: 'ptvLabW7', 8: 'ptvLabW8', 9: 'ptvLabW9', 10: 'ptvLabW10', 11: 'ptvLabW11', 12: 'ptvLabW12', 13: 'ptvLabW13', 14: 'ptvLabExpW14'}\n"
     ]
    },
    {
     "data": {
      "image/png": "[encoded data removed]",
      "text/plain": [
       "<Figure size 432x288 with 1 Axes>"
      ]
     },
     "metadata": {
      "needs_background": "light"
     },
     "output_type": "display_data"
    }
   ],
   "source": [
    "like_var = \"Lab\"\n",
    "like_amalgamated = amalgamate_waves(BES_Panel,\"ptv\"+like_var)\n",
    "like_amalgamated.cat.codes.replace(11,np.nan).replace(-1,np.nan).hist(bins=11);"
   ]
  },
  {
   "cell_type": "code",
   "execution_count": 22,
   "metadata": {},
   "outputs": [
    {
     "name": "stdout",
     "output_type": "stream",
     "text": [
      "Amalgamating variables: \n",
      "{1: 'ptvConW1', 2: 'ptvConW2', 3: 'ptvConW3', 4: 'ptvConW4', 5: 'ptvConW5', 6: 'ptvConW6', 7: 'ptvConW7', 8: 'ptvConW8', 9: 'ptvConW9', 10: 'ptvConW10', 11: 'ptvConW11', 12: 'ptvConW12', 13: 'ptvConW13', 14: 'ptvConExpW14'}\n"
     ]
    },
    {
     "data": {
      "image/png": "[encoded data removed]",
      "text/plain": [
       "<Figure size 432x288 with 1 Axes>"
      ]
     },
     "metadata": {
      "needs_background": "light"
     },
     "output_type": "display_data"
    }
   ],
   "source": [
    "like_var = \"Con\"\n",
    "like_amalgamated = amalgamate_waves(BES_Panel,\"ptv\"+like_var)\n",
    "like_amalgamated.cat.codes.replace(11,np.nan).replace(-1,np.nan).hist(bins=11);"
   ]
  },
  {
   "cell_type": "code",
   "execution_count": null,
   "metadata": {},
   "outputs": [],
   "source": []
  },
  {
   "cell_type": "code",
   "execution_count": null,
   "metadata": {},
   "outputs": [],
   "source": []
  },
  {
   "cell_type": "code",
   "execution_count": null,
   "metadata": {},
   "outputs": [],
   "source": []
  },
  {
   "cell_type": "code",
   "execution_count": null,
   "metadata": {},
   "outputs": [],
   "source": []
  },
  {
   "cell_type": "code",
   "execution_count": null,
   "metadata": {},
   "outputs": [],
   "source": []
  },
  {
   "cell_type": "code",
   "execution_count": null,
   "metadata": {},
   "outputs": [],
   "source": []
  },
  {
   "cell_type": "code",
   "execution_count": null,
   "metadata": {},
   "outputs": [],
   "source": []
  }
 ],
 "metadata": {
  "kernelspec": {
   "display_name": "Python 3",
   "language": "python",
   "name": "python3"
  },
  "language_info": {
   "codemirror_mode": {
    "name": "ipython",
    "version": 3
   },
   "file_extension": ".py",
   "mimetype": "text/x-python",
   "name": "python",
   "nbconvert_exporter": "python",
   "pygments_lexer": "ipython3",
   "version": "3.6.6"
  }
 },
 "nbformat": 4,
 "nbformat_minor": 2
}
