{
 "cells": [
  {
   "cell_type": "code",
   "execution_count": 1,
   "metadata": {},
   "outputs": [
    {
     "data": {
      "text/html": [
       "<script>jQuery(function() {if (jQuery(\"body.notebook_app\").length == 0) { jQuery(\".input_area\").toggle(); jQuery(\".prompt\").toggle();}});</script>"
      ]
     },
     "metadata": {},
     "output_type": "display_data"
    },
    {
     "data": {
      "text/html": [
       "<button onclick=\"jQuery('.input_area').toggle(); jQuery('.prompt').toggle();\">Toggle code</button>"
      ]
     },
     "metadata": {},
     "output_type": "display_data"
    },
    {
     "name": "stdout",
     "output_type": "stream",
     "text": [
      "var_type (8079, 14)\n",
      "Wall time: 15.1 s\n"
     ]
    }
   ],
   "source": [
    "%%time\n",
    "dataset_name = \"W19_comb\"\n",
    "df_list = 'BES_Panel|column_description'\n",
    "%matplotlib inline\n",
    "%run BES_header.py {dataset_name} {df_list}\n",
    "(var_type, cat_dictionary, new_old_col_names, old_new_col_names) = get_small_files(data_subfolder, encoding)\n",
    "\n",
    "pan_dataset_allr_values = pd.read_pickle(BES_small_data_files + \"pan_dataset_allr_valuesW19\"+\".zip\",compression='zip')\n",
    "pan_dataset_ages = pd.read_pickle(BES_small_data_files + \"pan_dataset_ages\"+\".zip\", compression='zip')\n",
    "pan_dataset_votes = pd.read_pickle(BES_small_data_files+\"pan_dataset_votes\"+\".zip\",compression='zip')"
   ]
  },
  {
   "cell_type": "code",
   "execution_count": 55,
   "metadata": {},
   "outputs": [],
   "source": [
    "immigEc_vars = search(BES_Panel,\"immigEcon\").index\n",
    "immigCult_vars = search(BES_Panel,\"immigCult\").index\n",
    "immigSelf_vars = search(BES_Panel,\"immigSelf\").index"
   ]
  },
  {
   "cell_type": "code",
   "execution_count": 4,
   "metadata": {},
   "outputs": [
    {
     "data": {
      "text/plain": [
       "2016EUVote             79960\n",
       "2016EUVote_complete    97006\n",
       "2016EUVote_simple      96529\n",
       "dtype: int64"
      ]
     },
     "execution_count": 4,
     "metadata": {},
     "output_type": "execute_result"
    }
   ],
   "source": [
    "search(pan_dataset_votes,\"EU\")"
   ]
  },
  {
   "cell_type": "code",
   "execution_count": 5,
   "metadata": {},
   "outputs": [
    {
     "data": {
      "text/plain": [
       "REMAIN         38027\n",
       "LEAVE          33018\n",
       "UNK            16569\n",
       "DNV             7351\n",
       "TYTV(Def)       1111\n",
       "Not Present      477\n",
       "TYTV(Maybe)      409\n",
       "DK                44\n",
       "Name: 2016EUVote_complete, dtype: int64"
      ]
     },
     "execution_count": 5,
     "metadata": {},
     "output_type": "execute_result"
    }
   ],
   "source": [
    "pan_dataset_votes[\"2016EUVote_complete\"].value_counts()"
   ]
  },
  {
   "cell_type": "code",
   "execution_count": 6,
   "metadata": {},
   "outputs": [
    {
     "data": {
      "text/plain": [
       "id\n",
       "1         True\n",
       "2         True\n",
       "3         True\n",
       "4        False\n",
       "5        False\n",
       "         ...  \n",
       "98447    False\n",
       "98448    False\n",
       "98449     True\n",
       "98450     True\n",
       "98451     True\n",
       "Name: 2016EUVote_complete, Length: 97006, dtype: object"
      ]
     },
     "execution_count": 6,
     "metadata": {},
     "output_type": "execute_result"
    }
   ],
   "source": [
    "mask = pan_dataset_votes[\"2016EUVote_complete\"].apply(lambda x: x in [\"REMAIN\",\"LEAVE\"])"
   ]
  },
  {
   "cell_type": "code",
   "execution_count": 36,
   "metadata": {},
   "outputs": [],
   "source": [
    "def get_wave(x):\n",
    "    try:\n",
    "        return re.match(\".*(W\\d+)$\",x).groups()[0]\n",
    "    except:\n",
    "        raise Exception()\n",
    "        \n",
    "def get_wave_no(x):\n",
    "    try:\n",
    "        return int(re.match(\".*(W\\d+)$\",x).groups()[0].split(\"W\")[1])\n",
    "    except:\n",
    "        raise Exception()        \n",
    "        \n",
    "def get_stub(x):\n",
    "    try:\n",
    "        return re.match(\"(.*)W\\d+$\",x).groups()[0]\n",
    "    except:\n",
    "        raise Exception()\n",
    "        \n",
    "def weighted_mean(x, **kws):\n",
    "    val, weight = map(np.asarray, zip(*x))\n",
    "    mask = (~np.isnan(val))&(~np.isnan(weight))\n",
    "    val, weight = val[mask],weight[mask]\n",
    "    return (val * weight).sum() / weight.sum()        \n",
    "\n",
    "waves_to_wts = {\"W\"+str(x):search(BES_Panel,\"wt_(new|full)_W\"+str(x)+\"($|_result)\").index[0] for x in range(1,20)}"
   ]
  },
  {
   "cell_type": "code",
   "execution_count": 8,
   "metadata": {},
   "outputs": [
    {
     "data": {
      "text/plain": [
       "{'W1': 'wt_full_W1',\n",
       " 'W2': 'wt_full_W2',\n",
       " 'W3': 'wt_full_W3',\n",
       " 'W4': 'wt_full_W4',\n",
       " 'W5': 'wt_full_W5',\n",
       " 'W6': 'wt_new_W6',\n",
       " 'W7': 'wt_new_W7',\n",
       " 'W8': 'wt_new_W8',\n",
       " 'W9': 'wt_new_W9',\n",
       " 'W10': 'wt_new_W10',\n",
       " 'W11': 'wt_new_W11',\n",
       " 'W12': 'wt_new_W12',\n",
       " 'W13': 'wt_new_W13_result',\n",
       " 'W14': 'wt_new_W14',\n",
       " 'W15': 'wt_new_W15',\n",
       " 'W16': 'wt_new_W16',\n",
       " 'W17': 'wt_new_W17',\n",
       " 'W18': 'wt_new_W18',\n",
       " 'W19': 'wt_new_W19_result'}"
      ]
     },
     "execution_count": 8,
     "metadata": {},
     "output_type": "execute_result"
    }
   ],
   "source": [
    "waves_to_wts"
   ]
  },
  {
   "cell_type": "code",
   "execution_count": 32,
   "metadata": {},
   "outputs": [],
   "source": [
    "wave_no_to_date = pd.to_datetime(BES_file_manifest[BES_file_manifest[\"Only_or_Combined\"]==\"Only\"].set_index(\"Wave No\")[\"Date_Start\"],\n",
    "              format = \"%b-%y\").to_dict()\n",
    "wave_no_to_date"
   ]
  },
  {
   "cell_type": "code",
   "execution_count": 11,
   "metadata": {},
   "outputs": [
    {
     "data": {
      "text/plain": [
       "Index(['immigEconW1', 'immigEconW2', 'immigEconW3', 'immigEconW4',\n",
       "       'immigEconW7', 'immigEconW8', 'immigEconW10', 'immigEconW11',\n",
       "       'immigEconW13', 'immigEconW14', 'immigEconW15', 'immigEconW16',\n",
       "       'immigEconW17'],\n",
       "      dtype='object')"
      ]
     },
     "execution_count": 11,
     "metadata": {},
     "output_type": "execute_result"
    }
   ],
   "source": [
    "# sns.lineplot(x = )"
   ]
  },
  {
   "cell_type": "code",
   "execution_count": 30,
   "metadata": {},
   "outputs": [
    {
     "data": {
      "text/html": [
       "[Timestamp('2014-02-01 00:00:00'), Timestamp('2014-05-01 00:00:00'), Timestamp('2014-09-01 00:00:00'), Timestamp('2015-03-01 00:00:00'), Timestamp('2016-04-01 00:00:00'), Timestamp('2016-05-01 00:00:00'), Timestamp('2016-11-01 00:00:00'), Timestamp('2017-04-01 00:00:00'), Timestamp('2017-06-01 00:00:00'), Timestamp('2018-05-01 00:00:00'), Timestamp('2019-03-01 00:00:00'), Timestamp('2019-05-01 00:00:00'), Timestamp('2019-11-01 00:00:00')]"
      ],
      "text/plain": [
       "[Timestamp('2014-02-01 00:00:00'),\n",
       " Timestamp('2014-05-01 00:00:00'),\n",
       " Timestamp('2014-09-01 00:00:00'),\n",
       " Timestamp('2015-03-01 00:00:00'),\n",
       " Timestamp('2016-04-01 00:00:00'),\n",
       " Timestamp('2016-05-01 00:00:00'),\n",
       " Timestamp('2016-11-01 00:00:00'),\n",
       " Timestamp('2017-04-01 00:00:00'),\n",
       " Timestamp('2017-06-01 00:00:00'),\n",
       " Timestamp('2018-05-01 00:00:00'),\n",
       " Timestamp('2019-03-01 00:00:00'),\n",
       " Timestamp('2019-05-01 00:00:00'),\n",
       " Timestamp('2019-11-01 00:00:00')]"
      ]
     },
     "execution_count": 30,
     "metadata": {},
     "output_type": "execute_result"
    }
   ],
   "source": [
    "wave_strs = [get_wave(x) for x in immigEc_vars]\n",
    "\n",
    "wave_dates = [wave_no_to_date[int(x.split(\"W\")[1])] for x in wave_strs]\n",
    "#sns.lineplot(x=waves, )\n",
    "# sns.lineplot(x=waves,y=)\n",
    "waves"
   ]
  },
  {
   "cell_type": "code",
   "execution_count": 42,
   "metadata": {},
   "outputs": [
    {
     "data": {
      "text/plain": [
       "immigEconW1     3.512213\n",
       "immigEconW2     3.616387\n",
       "immigEconW3     3.490427\n",
       "immigEconW4     3.775749\n",
       "immigEconW7     3.804006\n",
       "immigEconW8     3.892418\n",
       "immigEconW10    4.238831\n",
       "immigEconW11    4.406856\n",
       "immigEconW13    4.360130\n",
       "immigEconW14    4.321504\n",
       "immigEconW15    4.584525\n",
       "immigEconW16    4.452491\n",
       "immigEconW17    4.460393\n",
       "dtype: float64"
      ]
     },
     "execution_count": 42,
     "metadata": {},
     "output_type": "execute_result"
    }
   ],
   "source": [
    "mask = pan_dataset_votes[\"2016EUVote_complete\"]==\"REMAIN\"\n",
    "df = BES_Panel[immigEc_vars].replace(\"Don't know\",np.nan).apply(lambda x: x.cat.codes.replace(-1,np.nan))[mask]\n",
    "df.apply(lambda x: list(zip(x,BES_Panel[waves_to_wts[get_wave(x.name)]]))).apply(weighted_mean)"
   ]
  },
  {
   "cell_type": "code",
   "execution_count": 43,
   "metadata": {},
   "outputs": [
    {
     "data": {
      "text/plain": [
       "immigEconW1     1.700332\n",
       "immigEconW2     1.691082\n",
       "immigEconW3     1.515128\n",
       "immigEconW4     1.866395\n",
       "immigEconW7     1.695074\n",
       "immigEconW8     1.774251\n",
       "immigEconW10    2.273153\n",
       "immigEconW11    2.505182\n",
       "immigEconW13    2.351194\n",
       "immigEconW14    2.497665\n",
       "immigEconW15    2.740057\n",
       "immigEconW16    2.652638\n",
       "immigEconW17    2.745068\n",
       "dtype: float64"
      ]
     },
     "execution_count": 43,
     "metadata": {},
     "output_type": "execute_result"
    }
   ],
   "source": []
  },
  {
   "cell_type": "code",
   "execution_count": 61,
   "metadata": {},
   "outputs": [
    {
     "data": {
      "image/png": "[encoded data removed]",
      "text/plain": [
       "<Figure size 864x576 with 1 Axes>"
      ]
     },
     "metadata": {},
     "output_type": "display_data"
    }
   ],
   "source": [
    "plt.figure(figsize=(12,8));\n",
    "\n",
    "wave_strs = [get_wave(x) for x in immigEc_vars]\n",
    "\n",
    "wave_dates = [wave_no_to_date[int(x.split(\"W\")[1])] for x in wave_strs]\n",
    "\n",
    "# immigEc LEAVE\n",
    "mask = pan_dataset_votes[\"2016EUVote_complete\"]==\"LEAVE\"\n",
    "df = BES_Panel[immigEc_vars].replace(\"Don't know\",np.nan).apply(lambda x: x.cat.codes.replace(-1,np.nan))[mask]\n",
    "ser = df.apply(lambda x: list(zip(x,BES_Panel[waves_to_wts[get_wave(x.name)]]))).apply(weighted_mean)/6\n",
    "\n",
    "sns.lineplot(x=wave_dates,y=ser,label = \"ImmigEC_LEAVE\")\n",
    "\n",
    "# immigEc REMAIN\n",
    "mask = pan_dataset_votes[\"2016EUVote_complete\"]==\"REMAIN\"\n",
    "df = BES_Panel[immigEc_vars].replace(\"Don't know\",np.nan).apply(lambda x: x.cat.codes.replace(-1,np.nan))[mask]\n",
    "ser = df.apply(lambda x: list(zip(x,BES_Panel[waves_to_wts[get_wave(x.name)]]))).apply(weighted_mean)/6\n",
    "\n",
    "sns.lineplot(x=wave_dates,y=ser,label = \"ImmigEC_REMAIN\")\n",
    "\n",
    "# immigCult LEAVE\n",
    "mask = pan_dataset_votes[\"2016EUVote_complete\"]==\"LEAVE\"\n",
    "df = BES_Panel[immigCult_vars].replace(\"Don't know\",np.nan).apply(lambda x: x.cat.codes.replace(-1,np.nan))[mask]\n",
    "ser = df.apply(lambda x: list(zip(x,BES_Panel[waves_to_wts[get_wave(x.name)]]))).apply(weighted_mean)/6\n",
    "\n",
    "sns.lineplot(x=wave_dates,y=ser,label = \"immigCult_LEAVE\")\n",
    "\n",
    "# immigCult REMAIN\n",
    "mask = pan_dataset_votes[\"2016EUVote_complete\"]==\"REMAIN\"\n",
    "df = BES_Panel[immigCult_vars].replace(\"Don't know\",np.nan).apply(lambda x: x.cat.codes.replace(-1,np.nan))[mask]\n",
    "ser = df.apply(lambda x: list(zip(x,BES_Panel[waves_to_wts[get_wave(x.name)]]))).apply(weighted_mean)/6\n",
    "\n",
    "sns.lineplot(x=wave_dates,y=ser,label = \"immigCult_REMAIN\")\n",
    "\n",
    "wave_strs = [get_wave(x) for x in immigSelf_vars]\n",
    "\n",
    "wave_dates = [wave_no_to_date[int(x.split(\"W\")[1])] for x in wave_strs]\n",
    "\n",
    "# immigSelf LEAVE\n",
    "mask = pan_dataset_votes[\"2016EUVote_complete\"]==\"LEAVE\"\n",
    "df = BES_Panel[immigSelf_vars].replace(\"Don't know\",np.nan).apply(lambda x: x.cat.codes.replace(-1,np.nan))[mask]\n",
    "ser = df.apply(lambda x: list(zip(x,BES_Panel[waves_to_wts[get_wave(x.name)]]))).apply(weighted_mean)/10\n",
    "\n",
    "sns.lineplot(x=wave_dates,y=ser,label = \"immigSelf_LEAVE\")\n",
    "\n",
    "# immigSelf REMAIN\n",
    "mask = pan_dataset_votes[\"2016EUVote_complete\"]==\"REMAIN\"\n",
    "df = BES_Panel[immigSelf_vars].replace(\"Don't know\",np.nan).apply(lambda x: x.cat.codes.replace(-1,np.nan))[mask]\n",
    "ser = df.apply(lambda x: list(zip(x,BES_Panel[waves_to_wts[get_wave(x.name)]]))).apply(weighted_mean)/10\n",
    "\n",
    "sns.lineplot(x=wave_dates,y=ser,label = \"immigSelf_REMAIN\")\n",
    "\n",
    "plt.ylim([0,1]);"
   ]
  },
  {
   "cell_type": "code",
   "execution_count": 59,
   "metadata": {},
   "outputs": [
    {
     "data": {
      "text/plain": [
       "10.0"
      ]
     },
     "execution_count": 59,
     "metadata": {},
     "output_type": "execute_result"
    }
   ],
   "source": [
    "df[df.columns[0]].max()"
   ]
  },
  {
   "cell_type": "code",
   "execution_count": 58,
   "metadata": {},
   "outputs": [
    {
     "data": {
      "text/html": [
       "<div>\n",
       "<style scoped>\n",
       "    .dataframe tbody tr th:only-of-type {\n",
       "        vertical-align: middle;\n",
       "    }\n",
       "\n",
       "    .dataframe tbody tr th {\n",
       "        vertical-align: top;\n",
       "    }\n",
       "\n",
       "    .dataframe thead th {\n",
       "        text-align: right;\n",
       "    }\n",
       "</style>\n",
       "<table border=\"1\" class=\"dataframe\">\n",
       "  <thead>\n",
       "    <tr style=\"text-align: right;\">\n",
       "      <th></th>\n",
       "      <th>immigSelfW7</th>\n",
       "      <th>immigSelfW8</th>\n",
       "      <th>immigSelfW9</th>\n",
       "      <th>immigSelfW10</th>\n",
       "      <th>immigSelfW11</th>\n",
       "      <th>immigSelfW12</th>\n",
       "      <th>immigSelfW13</th>\n",
       "      <th>immigSelfW14</th>\n",
       "      <th>immigSelfW15</th>\n",
       "      <th>immigSelfW16</th>\n",
       "      <th>immigSelfW17</th>\n",
       "    </tr>\n",
       "    <tr>\n",
       "      <th>id</th>\n",
       "      <th></th>\n",
       "      <th></th>\n",
       "      <th></th>\n",
       "      <th></th>\n",
       "      <th></th>\n",
       "      <th></th>\n",
       "      <th></th>\n",
       "      <th></th>\n",
       "      <th></th>\n",
       "      <th></th>\n",
       "      <th></th>\n",
       "    </tr>\n",
       "  </thead>\n",
       "  <tbody>\n",
       "    <tr>\n",
       "      <th>7</th>\n",
       "      <td>0.0</td>\n",
       "      <td>0.0</td>\n",
       "      <td>NaN</td>\n",
       "      <td>0.0</td>\n",
       "      <td>0.0</td>\n",
       "      <td>NaN</td>\n",
       "      <td>NaN</td>\n",
       "      <td>0.0</td>\n",
       "      <td>0.0</td>\n",
       "      <td>3.0</td>\n",
       "      <td>0.0</td>\n",
       "    </tr>\n",
       "    <tr>\n",
       "      <th>9</th>\n",
       "      <td>2.0</td>\n",
       "      <td>3.0</td>\n",
       "      <td>5.0</td>\n",
       "      <td>3.0</td>\n",
       "      <td>5.0</td>\n",
       "      <td>NaN</td>\n",
       "      <td>NaN</td>\n",
       "      <td>5.0</td>\n",
       "      <td>5.0</td>\n",
       "      <td>NaN</td>\n",
       "      <td>NaN</td>\n",
       "    </tr>\n",
       "    <tr>\n",
       "      <th>10</th>\n",
       "      <td>6.0</td>\n",
       "      <td>NaN</td>\n",
       "      <td>5.0</td>\n",
       "      <td>NaN</td>\n",
       "      <td>NaN</td>\n",
       "      <td>2.0</td>\n",
       "      <td>NaN</td>\n",
       "      <td>NaN</td>\n",
       "      <td>5.0</td>\n",
       "      <td>NaN</td>\n",
       "      <td>NaN</td>\n",
       "    </tr>\n",
       "    <tr>\n",
       "      <th>13</th>\n",
       "      <td>NaN</td>\n",
       "      <td>NaN</td>\n",
       "      <td>NaN</td>\n",
       "      <td>NaN</td>\n",
       "      <td>NaN</td>\n",
       "      <td>NaN</td>\n",
       "      <td>NaN</td>\n",
       "      <td>NaN</td>\n",
       "      <td>NaN</td>\n",
       "      <td>NaN</td>\n",
       "      <td>NaN</td>\n",
       "    </tr>\n",
       "    <tr>\n",
       "      <th>18</th>\n",
       "      <td>NaN</td>\n",
       "      <td>10.0</td>\n",
       "      <td>10.0</td>\n",
       "      <td>9.0</td>\n",
       "      <td>7.0</td>\n",
       "      <td>NaN</td>\n",
       "      <td>NaN</td>\n",
       "      <td>10.0</td>\n",
       "      <td>10.0</td>\n",
       "      <td>10.0</td>\n",
       "      <td>8.0</td>\n",
       "    </tr>\n",
       "    <tr>\n",
       "      <th>...</th>\n",
       "      <td>...</td>\n",
       "      <td>...</td>\n",
       "      <td>...</td>\n",
       "      <td>...</td>\n",
       "      <td>...</td>\n",
       "      <td>...</td>\n",
       "      <td>...</td>\n",
       "      <td>...</td>\n",
       "      <td>...</td>\n",
       "      <td>...</td>\n",
       "      <td>...</td>\n",
       "    </tr>\n",
       "    <tr>\n",
       "      <th>98432</th>\n",
       "      <td>NaN</td>\n",
       "      <td>NaN</td>\n",
       "      <td>NaN</td>\n",
       "      <td>NaN</td>\n",
       "      <td>NaN</td>\n",
       "      <td>NaN</td>\n",
       "      <td>NaN</td>\n",
       "      <td>NaN</td>\n",
       "      <td>NaN</td>\n",
       "      <td>NaN</td>\n",
       "      <td>5.0</td>\n",
       "    </tr>\n",
       "    <tr>\n",
       "      <th>98434</th>\n",
       "      <td>NaN</td>\n",
       "      <td>NaN</td>\n",
       "      <td>NaN</td>\n",
       "      <td>NaN</td>\n",
       "      <td>NaN</td>\n",
       "      <td>NaN</td>\n",
       "      <td>NaN</td>\n",
       "      <td>NaN</td>\n",
       "      <td>NaN</td>\n",
       "      <td>NaN</td>\n",
       "      <td>3.0</td>\n",
       "    </tr>\n",
       "    <tr>\n",
       "      <th>98435</th>\n",
       "      <td>NaN</td>\n",
       "      <td>NaN</td>\n",
       "      <td>NaN</td>\n",
       "      <td>NaN</td>\n",
       "      <td>NaN</td>\n",
       "      <td>NaN</td>\n",
       "      <td>NaN</td>\n",
       "      <td>NaN</td>\n",
       "      <td>NaN</td>\n",
       "      <td>NaN</td>\n",
       "      <td>6.0</td>\n",
       "    </tr>\n",
       "    <tr>\n",
       "      <th>98439</th>\n",
       "      <td>NaN</td>\n",
       "      <td>NaN</td>\n",
       "      <td>NaN</td>\n",
       "      <td>NaN</td>\n",
       "      <td>NaN</td>\n",
       "      <td>NaN</td>\n",
       "      <td>NaN</td>\n",
       "      <td>NaN</td>\n",
       "      <td>NaN</td>\n",
       "      <td>NaN</td>\n",
       "      <td>1.0</td>\n",
       "    </tr>\n",
       "    <tr>\n",
       "      <th>98440</th>\n",
       "      <td>NaN</td>\n",
       "      <td>NaN</td>\n",
       "      <td>NaN</td>\n",
       "      <td>NaN</td>\n",
       "      <td>NaN</td>\n",
       "      <td>NaN</td>\n",
       "      <td>NaN</td>\n",
       "      <td>NaN</td>\n",
       "      <td>NaN</td>\n",
       "      <td>NaN</td>\n",
       "      <td>5.0</td>\n",
       "    </tr>\n",
       "  </tbody>\n",
       "</table>\n",
       "<p>38027 rows × 11 columns</p>\n",
       "</div>"
      ],
      "text/plain": [
       "       immigSelfW7  immigSelfW8  immigSelfW9  immigSelfW10  immigSelfW11  \\\n",
       "id                                                                         \n",
       "7              0.0          0.0          NaN           0.0           0.0   \n",
       "9              2.0          3.0          5.0           3.0           5.0   \n",
       "10             6.0          NaN          5.0           NaN           NaN   \n",
       "13             NaN          NaN          NaN           NaN           NaN   \n",
       "18             NaN         10.0         10.0           9.0           7.0   \n",
       "...            ...          ...          ...           ...           ...   \n",
       "98432          NaN          NaN          NaN           NaN           NaN   \n",
       "98434          NaN          NaN          NaN           NaN           NaN   \n",
       "98435          NaN          NaN          NaN           NaN           NaN   \n",
       "98439          NaN          NaN          NaN           NaN           NaN   \n",
       "98440          NaN          NaN          NaN           NaN           NaN   \n",
       "\n",
       "       immigSelfW12  immigSelfW13  immigSelfW14  immigSelfW15  immigSelfW16  \\\n",
       "id                                                                            \n",
       "7               NaN           NaN           0.0           0.0           3.0   \n",
       "9               NaN           NaN           5.0           5.0           NaN   \n",
       "10              2.0           NaN           NaN           5.0           NaN   \n",
       "13              NaN           NaN           NaN           NaN           NaN   \n",
       "18              NaN           NaN          10.0          10.0          10.0   \n",
       "...             ...           ...           ...           ...           ...   \n",
       "98432           NaN           NaN           NaN           NaN           NaN   \n",
       "98434           NaN           NaN           NaN           NaN           NaN   \n",
       "98435           NaN           NaN           NaN           NaN           NaN   \n",
       "98439           NaN           NaN           NaN           NaN           NaN   \n",
       "98440           NaN           NaN           NaN           NaN           NaN   \n",
       "\n",
       "       immigSelfW17  \n",
       "id                   \n",
       "7               0.0  \n",
       "9               NaN  \n",
       "10              NaN  \n",
       "13              NaN  \n",
       "18              8.0  \n",
       "...             ...  \n",
       "98432           5.0  \n",
       "98434           3.0  \n",
       "98435           6.0  \n",
       "98439           1.0  \n",
       "98440           5.0  \n",
       "\n",
       "[38027 rows x 11 columns]"
      ]
     },
     "execution_count": 58,
     "metadata": {},
     "output_type": "execute_result"
    }
   ],
   "source": [
    "df"
   ]
  },
  {
   "cell_type": "code",
   "execution_count": null,
   "metadata": {},
   "outputs": [],
   "source": []
  }
 ],
 "metadata": {
  "kernelspec": {
   "display_name": "Python [conda env:BES_analysis] *",
   "language": "python",
   "name": "conda-env-BES_analysis-py"
  },
  "language_info": {
   "codemirror_mode": {
    "name": "ipython",
    "version": 3
   },
   "file_extension": ".py",
   "mimetype": "text/x-python",
   "name": "python",
   "nbconvert_exporter": "python",
   "pygments_lexer": "ipython3",
   "version": "3.7.6"
  }
 },
 "nbformat": 4,
 "nbformat_minor": 4
}
