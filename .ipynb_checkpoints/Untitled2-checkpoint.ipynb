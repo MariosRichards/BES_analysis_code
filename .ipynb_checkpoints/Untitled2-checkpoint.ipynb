{
 "cells": [
  {
   "cell_type": "code",
   "execution_count": 1,
   "metadata": {
    "collapsed": true
   },
   "outputs": [],
   "source": [
    "import numpy as np\n",
    "import pandas as pd\n",
    "np.random.seed(0)\n",
    "\n",
    "import matplotlib.pyplot as plt\n",
    "import gc\n",
    "import re\n",
    "\n",
    "from sklearn import datasets\n",
    "from sklearn.decomposition import PCA, IncrementalPCA, NMF, TruncatedSVD, FastICA, FactorAnalysis, SparsePCA\n",
    "from sklearn.preprocessing import StandardScaler\n",
    "from sklearn.discriminant_analysis import LinearDiscriminantAnalysis\n",
    "from itertools import cycle\n",
    "from IPython.display import display\n",
    "import pickle, os\n",
    "\n",
    "import seaborn as sns\n",
    "\n",
    "BES_data_folder = \"../BES_analysis_data/\"\n",
    "BES_code_folder = \"../BES_analysis_code/\"\n",
    "\n",
    "# from fancyimpute import BiScaler, KNN, NuclearNormMinimization, SoftImpute, MICE\n",
    "from gaussian_kde import gaussian_kde\n",
    "from utility import display_components,display_pca_data\n",
    "\n",
    "\n",
    "import time\n",
    "import warnings\n",
    "\n",
    "import numpy as np\n",
    "import matplotlib.pyplot as plt\n",
    "\n",
    "from sklearn import cluster, datasets, mixture\n",
    "from sklearn.neighbors import kneighbors_graph\n",
    "from sklearn.preprocessing import StandardScaler\n",
    "from itertools import cycle, islice\n",
    "\n",
    "%matplotlib inline"
   ]
  },
  {
   "cell_type": "code",
   "execution_count": 2,
   "metadata": {
    "collapsed": true
   },
   "outputs": [],
   "source": [
    "from sklearn import datasets, cluster\n",
    "import numpy as np\n",
    "import matplotlib.pyplot as plt\n",
    "from mpl_toolkits.mplot3d import Axes3D\n",
    "\n",
    "from sklearn import cluster"
   ]
  },
  {
   "cell_type": "code",
   "execution_count": 3,
   "metadata": {
    "collapsed": true
   },
   "outputs": [],
   "source": [
    "Treatment = \"W13_only\" \n",
    "if not os.path.exists(BES_data_folder+Treatment):\n",
    "    os.makedirs(BES_data_folder+Treatment)"
   ]
  },
  {
   "cell_type": "code",
   "execution_count": null,
   "metadata": {
    "collapsed": true
   },
   "outputs": [],
   "source": [
    "# wave = \"W13_only\"\n",
    "\n",
    "# BES_numeric = pd.read_hdf( BES_data_folder+\"BESnumeric\"+wave+\".hdf\", \"BESnumeric\"+wave )\n",
    "# print(\"BES_numeric\",  BES_numeric.shape )\n",
    "# var_type    = pd.read_hdf( BES_data_folder+\"var_type\"+wave+\".hdf\", \"var_type\" )\n",
    "# print(\"var_type\",  var_type.shape )\n",
    "# BES_reduced = pd.read_hdf( BES_data_folder+\"BES_reduced\"+wave+\".hdf\", \"BES_reduced\"+wave )\n",
    "# print(\"BES_reduced\",  BES_reduced.shape )\n",
    "\n",
    "# fname = BES_data_folder+\"cat_dictionary\"+wave+\".pkl\"\n",
    "# with open(fname, \"rb\") as f:\n",
    "#     cat_dictionary = pickle.load( f )"
   ]
  },
  {
   "cell_type": "code",
   "execution_count": 4,
   "metadata": {
    "collapsed": true
   },
   "outputs": [],
   "source": [
    "# dataset = \"BES2017_W13Strings_v1.0.dta\"\n",
    "# BES_Panel_strings = pd.read_stata(BES_data_folder+dataset)"
   ]
  },
  {
   "cell_type": "code",
   "execution_count": 75,
   "metadata": {
    "collapsed": true
   },
   "outputs": [],
   "source": [
    "dataset = \"BES2017_W13_v1.0.dta\"\n",
    "wave = \"W13_only\"\n",
    "\n",
    "BES_Panel = pd.read_stata(BES_data_folder+dataset)\n"
   ]
  },
  {
   "cell_type": "code",
   "execution_count": 76,
   "metadata": {},
   "outputs": [],
   "source": [
    "# add profile_past_vote_2005!\n",
    "profile_past_vote_2005 = pd.read_stata(BES_data_folder+\"profile_past_vote_2005.dta\")\n",
    "\n",
    "BES_Panel[\"profile_past_vote_2005\"] = profile_past_vote_2005.set_index(\"id\")[\"profile_past_vote_2005\"].loc[BES_Panel.id]\n",
    "\n",
    "# if you use merge, you lose all category information!"
   ]
  },
  {
   "cell_type": "code",
   "execution_count": 77,
   "metadata": {},
   "outputs": [],
   "source": [
    "# %%time\n",
    "# dataset = \"BES2017_W13_Panel_v1.0.dta\"\n",
    "# wave = \"W13_only\"\n",
    "\n",
    "# BES_Panel = pd.read_stata(BES_data_folder+dataset)\n",
    "\n",
    "# BES_Panel[[\"id\",\"profile_past_vote_2005\"]].to_stata(BES_data_folder+ \"profile_past_vote_2005\" +\".dta\")\n",
    "\n"
   ]
  },
  {
   "cell_type": "code",
   "execution_count": 78,
   "metadata": {},
   "outputs": [
    {
     "data": {
      "text/plain": [
       "id                                        int32\n",
       "wave11                                     int8\n",
       "wave12                                     int8\n",
       "wave13                                     int8\n",
       "country                                category\n",
       "wt_new_W13                              float64\n",
       "generalElectionVote                    category\n",
       "partyId                                category\n",
       "partyIdSqueeze                         category\n",
       "partyIdStrength                        category\n",
       "countryOfBirth                         category\n",
       "w10full                                 float64\n",
       "w11full                                 float64\n",
       "starttime                        datetime64[ns]\n",
       "endtime                          datetime64[ns]\n",
       "mii                                    category\n",
       "bestOnMII                              category\n",
       "genElecTurnoutRetro                    category\n",
       "regretsIHaveAFew                       category\n",
       "votingWish                             category\n",
       "reasonForVote                          category\n",
       "partyPreferred                         category\n",
       "voteMethoda                            category\n",
       "participation_1                        category\n",
       "participation_2                        category\n",
       "participation_3                        category\n",
       "participation_4                        category\n",
       "participation_5                        category\n",
       "euRefDoOver                            category\n",
       "euRefVote                              category\n",
       "                                      ...      \n",
       "education                              category\n",
       "profile_education_age                  category\n",
       "profile_ethnicity                      category\n",
       "profile_marital_stat                   category\n",
       "profile_newspaper                      category\n",
       "profile_socialgrade_cie                category\n",
       "profile_religion                       category\n",
       "profile_lea                            category\n",
       "profile_oslaua                         category\n",
       "profile_gross_personal                 category\n",
       "profile_household_children             category\n",
       "profile_religion_denom                 category\n",
       "profile_past_vote_2015                 category\n",
       "profile_turnout_2015                   category\n",
       "profile_eurefvote                      category\n",
       "profile_eurefturnout                   category\n",
       "personality_agreeableness               float64\n",
       "personality_conscientiousness           float64\n",
       "personality_extraversion                float64\n",
       "personality_neuroticism                 float64\n",
       "personality_openness                    float64\n",
       "lr_scale                               category\n",
       "al_scale                               category\n",
       "scotRefTurnoutW4_                      category\n",
       "scotRefVoteW4_                         category\n",
       "pano                                    float64\n",
       "headHouseholdPast                       float64\n",
       "fatherNumEmployees                      float64\n",
       "motherNumEmployees                      float64\n",
       "profile_past_vote_2005                 category\n",
       "dtype: object"
      ]
     },
     "execution_count": 78,
     "metadata": {},
     "output_type": "execute_result"
    }
   ],
   "source": [
    "BES_Panel.dtypes"
   ]
  },
  {
   "cell_type": "code",
   "execution_count": 79,
   "metadata": {},
   "outputs": [
    {
     "data": {
      "text/plain": [
       "Conservative                                11295\n",
       "Labour                                      10899\n",
       "Liberal Democrat                             2667\n",
       "Scottish National Party (SNP)                1364\n",
       "United Kingdom Independence Party (UKIP)      754\n",
       "Green Party                                   608\n",
       "Other                                         361\n",
       "Plaid Cymru                                   196\n",
       "Don't know                                    168\n",
       "Name: generalElectionVote, dtype: int64"
      ]
     },
     "execution_count": 79,
     "metadata": {},
     "output_type": "execute_result"
    }
   ],
   "source": [
    "BES_Panel.generalElectionVote.value_counts()"
   ]
  },
  {
   "cell_type": "code",
   "execution_count": null,
   "metadata": {},
   "outputs": [],
   "source": []
  },
  {
   "cell_type": "code",
   "execution_count": null,
   "metadata": {},
   "outputs": [],
   "source": [
    "\n"
   ]
  },
  {
   "cell_type": "code",
   "execution_count": 80,
   "metadata": {
    "collapsed": true
   },
   "outputs": [],
   "source": [
    "### replicate\n",
    "# p surridge\n",
    "# https://twitter.com/p_surridge/status/899985392241438720\n",
    "# Labour/ex-Labour voters x MII\n",
    "\n",
    "# Bah - have to come up with coding for MII_text (in another dataset)\n",
    "# Will have to steal this\n",
    "# https://twitter.com/dr_d_allington/status/901000497162842113\n"
   ]
  },
  {
   "cell_type": "code",
   "execution_count": 81,
   "metadata": {
    "collapsed": true
   },
   "outputs": [],
   "source": [
    "## How do you want to split up the Labour vote?\n",
    "# Lab 2005 <- DNV 2017\n",
    "# Lab 2005 <- CON 2017\n",
    "# Lab 2005 <- !CON|LAB 2017\n",
    "# Lab 2005 <- Lab 2017 \n",
    "\n",
    "# Lab 2005 <- Lab 2017\n",
    "\n",
    "# DNV 2005 <- Lab 2017\n",
    "# TooYoung <- Lab 2017\n",
    "# Lab 2005 <- Lab 2017\n",
    "# Others?  <- Lab 2017\n"
   ]
  },
  {
   "cell_type": "code",
   "execution_count": null,
   "metadata": {
    "collapsed": true
   },
   "outputs": [],
   "source": []
  },
  {
   "cell_type": "code",
   "execution_count": null,
   "metadata": {
    "collapsed": true
   },
   "outputs": [],
   "source": []
  },
  {
   "cell_type": "code",
   "execution_count": null,
   "metadata": {
    "collapsed": true
   },
   "outputs": [],
   "source": []
  },
  {
   "cell_type": "code",
   "execution_count": null,
   "metadata": {
    "collapsed": true
   },
   "outputs": [],
   "source": []
  },
  {
   "cell_type": "code",
   "execution_count": null,
   "metadata": {
    "collapsed": true
   },
   "outputs": [],
   "source": []
  },
  {
   "cell_type": "code",
   "execution_count": null,
   "metadata": {
    "collapsed": true
   },
   "outputs": [],
   "source": []
  },
  {
   "cell_type": "code",
   "execution_count": null,
   "metadata": {
    "collapsed": true
   },
   "outputs": [],
   "source": [
    "# replicate this:\n",
    "# https://twitter.com/p_surridge/status/901086638620672001\n",
    "\n",
    "# try seaborn violin plot\n",
    "\n",
    "# Can get both left/right auth/lib distributions if you put them in the same column, but have a lr/al categorical variable\n",
    "\n",
    "# 2005 -> 2017\n",
    "# Just England\n",
    "\n",
    "# LAB <- DNV\n",
    "# LAB <- CON\n",
    "# LAB <- !(DNV/CON/LAB)\n",
    "# LAB <- LAB\n",
    "# DNV <- LAB\n",
    "# !DNV <- LAB\n",
    "\n",
    "# ?? what about \"too young to vote in 2005?\"\n",
    "\n",
    "# + add \"everyone\" for comparison\n",
    "\n",
    "# day -> voting_path\n",
    "# y=lr&al_scale\n",
    "# tips -> dataframe\n",
    "# sns.violinplot(x=\"day\", y=\"total_bill\", hue=\"sex\", data=tips, split=True);"
   ]
  },
  {
   "cell_type": "code",
   "execution_count": 82,
   "metadata": {},
   "outputs": [
    {
     "data": {
      "text/plain": [
       "al_scale    27295\n",
       "dtype: int64"
      ]
     },
     "execution_count": 82,
     "metadata": {},
     "output_type": "execute_result"
    }
   ],
   "source": [
    "BES_Panel[[x for x in BES_Panel.columns if \"al_scale\" in x]].notnull().sum()"
   ]
  },
  {
   "cell_type": "code",
   "execution_count": 83,
   "metadata": {},
   "outputs": [
    {
     "data": {
      "text/plain": [
       "lr_scale    28110\n",
       "dtype: int64"
      ]
     },
     "execution_count": 83,
     "metadata": {},
     "output_type": "execute_result"
    }
   ],
   "source": [
    "BES_Panel[[x for x in BES_Panel.columns if \"lr_scale\" in x]].notnull().sum()"
   ]
  },
  {
   "cell_type": "code",
   "execution_count": 84,
   "metadata": {},
   "outputs": [
    {
     "data": {
      "text/plain": [
       "Labour Party                                3848\n",
       "Conservative Party                          3394\n",
       "Liberal Democrats                           2002\n",
       "Did not vote                                1491\n",
       "Scottish National Party                      520\n",
       "Don't know                                   510\n",
       "United Kingdom Independence Party (UKIP)     252\n",
       "Green Party                                  199\n",
       "Plaid Cymru                                  152\n",
       "Some other party                             107\n",
       "British National Party (BNP)                  62\n",
       "Respect                                       12\n",
       "Veritas                                        2\n",
       "Name: profile_past_vote_2005, dtype: int64"
      ]
     },
     "execution_count": 84,
     "metadata": {},
     "output_type": "execute_result"
    }
   ],
   "source": [
    "BES_Panel.profile_past_vote_2005.value_counts()"
   ]
  },
  {
   "cell_type": "code",
   "execution_count": 85,
   "metadata": {},
   "outputs": [
    {
     "data": {
      "text/plain": [
       "Conservative                                11295\n",
       "Labour                                      10899\n",
       "Liberal Democrat                             2667\n",
       "Scottish National Party (SNP)                1364\n",
       "United Kingdom Independence Party (UKIP)      754\n",
       "Green Party                                   608\n",
       "Other                                         361\n",
       "Plaid Cymru                                   196\n",
       "Don't know                                    168\n",
       "Name: generalElectionVote, dtype: int64"
      ]
     },
     "execution_count": 85,
     "metadata": {},
     "output_type": "execute_result"
    }
   ],
   "source": [
    "# assuming this is the \"what *did* you vote for\" question\n",
    "BES_Panel[\"generalElectionVote\"].value_counts()"
   ]
  },
  {
   "cell_type": "code",
   "execution_count": 86,
   "metadata": {},
   "outputs": [
    {
     "data": {
      "text/plain": [
       "England     19413\n",
       "Scotland     3266\n",
       "Wales        1936\n",
       "Name: country, dtype: int64"
      ]
     },
     "execution_count": 86,
     "metadata": {},
     "output_type": "execute_result"
    }
   ],
   "source": [
    "BES_Panel[\"country\"].value_counts()"
   ]
  },
  {
   "cell_type": "code",
   "execution_count": 477,
   "metadata": {
    "collapsed": true
   },
   "outputs": [],
   "source": [
    "England = (BES_Panel[\"country\"]==\"England\")\n",
    "Wave13 = (BES_Panel.wave13==1.0)\n",
    "area = England\n",
    "\n",
    "constraints = England & Wave13"
   ]
  },
  {
   "cell_type": "code",
   "execution_count": null,
   "metadata": {
    "collapsed": true
   },
   "outputs": [],
   "source": []
  },
  {
   "cell_type": "code",
   "execution_count": 478,
   "metadata": {
    "collapsed": true
   },
   "outputs": [],
   "source": [
    "wave = \"\"\n",
    "\n",
    "LAB2005 = BES_Panel[\"profile_past_vote_2005\"]==\"Labour Party\"\n",
    "DNV2005 = BES_Panel[\"profile_past_vote_2005\"]==\"Did not vote\"\n",
    "LAB2017 = BES_Panel[\"generalElectionVote\" + wave]==\"Labour\"\n",
    "DNV2017 = BES_Panel[\"genElecTurnoutRetro\" + wave]==\"No, did not vote\"\n",
    "DV2017  = BES_Panel[\"genElecTurnoutRetro\" + wave]==\"Yes, voted\" # note that there are \"don't knows\"!\n",
    "CON2017 = BES_Panel[\"generalElectionVote\" + wave]==\"Conservative\""
   ]
  },
  {
   "cell_type": "code",
   "execution_count": 479,
   "metadata": {
    "collapsed": true
   },
   "outputs": [],
   "source": [
    "# LAB <- DNV\n",
    "LAB2DNV = (LAB2005 & DNV2017, \"LAB2DNV\")\n",
    "# LAB <- CON\n",
    "LAB2CON = (LAB2005 & CON2017, \"LAB2CON\")\n",
    "# LAB <- !(DNV/CON/LAB)\n",
    "LAB2OTH = (LAB2005 & (~(CON2017 | DNV2017 | LAB2017)) & DV2017, \"LAB2OTH\")\n",
    "# LAB <- LAB\n",
    "LAB2LAB = (LAB2005 & LAB2017, \"LAB2LAB\")\n",
    "# DNV <- LAB\n",
    "DNV2LAB = (DNV2005 & LAB2017, \"DNV2LAB\")\n",
    "# !(DNV/LAB) <- LAB\n",
    "OTH2LAB = ((~(DNV2005 | LAB2005)) & LAB2017, \"OTH2LAB\")\n",
    "# # EVERYONE\n",
    "ALLOTH =  ( LAB2017 | (~LAB2017), \"ALLOTH\" )"
   ]
  },
  {
   "cell_type": "code",
   "execution_count": null,
   "metadata": {},
   "outputs": [],
   "source": []
  },
  {
   "cell_type": "code",
   "execution_count": 480,
   "metadata": {},
   "outputs": [],
   "source": [
    "df = pd.DataFrame([ BES_Panel[\"profile_past_vote_2005\"].cat.codes]).T\n",
    "df.columns = [\"voting_path\"]\n",
    "df[\"voting_path\"] = np.nan\n",
    "df[\"voting_path\"] = \"ALLOTH\""
   ]
  },
  {
   "cell_type": "code",
   "execution_count": 481,
   "metadata": {
    "collapsed": true
   },
   "outputs": [],
   "source": [
    "\n",
    "for vp in [LAB2DNV, LAB2CON, LAB2OTH, LAB2LAB, DNV2LAB, OTH2LAB]:\n",
    "    df[ vp[0] ] = vp[1]\n"
   ]
  },
  {
   "cell_type": "code",
   "execution_count": 482,
   "metadata": {},
   "outputs": [
    {
     "data": {
      "text/plain": [
       "ALLOTH     10812\n",
       "OTH2LAB     5774\n",
       "LAB2CON      967\n",
       "LAB2LAB      902\n",
       "LAB2OTH      435\n",
       "DNV2LAB      326\n",
       "LAB2DNV      197\n",
       "Name: voting_path, dtype: int64"
      ]
     },
     "execution_count": 482,
     "metadata": {},
     "output_type": "execute_result"
    }
   ],
   "source": [
    "df[\"voting_path\"][constraints].value_counts()"
   ]
  },
  {
   "cell_type": "code",
   "execution_count": 483,
   "metadata": {},
   "outputs": [],
   "source": [
    "numbers = df[\"voting_path\"][constraints].value_counts()    \n",
    "new2oldvp = {}\n",
    "for ind in numbers.index:\n",
    "    newvp = ind + \"(N = \" + str(numbers.loc[ind]) + \")\"\n",
    "    new2oldvp[ind] = newvp\n",
    "    df.loc[df[\"voting_path\"]==ind,\"voting_path\"] = newvp\n",
    "        "
   ]
  },
  {
   "cell_type": "code",
   "execution_count": 484,
   "metadata": {},
   "outputs": [],
   "source": [
    "# BES_Panel.loc[LAB2OTH[0], \"al_scaleW13\"].cat.codes.value_counts()\n",
    "\n",
    "df[\"al_scale\"] = BES_Panel[\"al_scale\"+wave].cat.codes\n",
    "df[\"al_scale\"].replace(-1, np.nan, inplace=True)\n",
    "\n",
    "df[\"lr_scale\"] = BES_Panel[\"lr_scale\"+wave].cat.codes\n",
    "df[\"lr_scale\"].replace(-1, np.nan, inplace=True)\n",
    "\n",
    "df[\"weights\"] = BES_Panel['wt_new_W13']\n",
    "\n",
    "# drop everything that's nan in voting_path\n",
    "df = df[df[\"voting_path\"].notnull()]\n",
    "\n"
   ]
  },
  {
   "cell_type": "code",
   "execution_count": 485,
   "metadata": {
    "collapsed": true
   },
   "outputs": [],
   "source": [
    "surr_order = ['LAB2DNV','LAB2CON','LAB2OTH','LAB2LAB','DNV2LAB','OTH2LAB', 'ALLOTH' ]"
   ]
  },
  {
   "cell_type": "code",
   "execution_count": 486,
   "metadata": {},
   "outputs": [],
   "source": [
    "order = [new2oldvp[x] for x in surr_order]"
   ]
  },
  {
   "cell_type": "code",
   "execution_count": 487,
   "metadata": {},
   "outputs": [
    {
     "data": {
      "image/png": "[encoded data removed]",
      "text/plain": [
       "<matplotlib.figure.Figure at 0x262902b0>"
      ]
     },
     "metadata": {},
     "output_type": "display_data"
    }
   ],
   "source": [
    "g = sns.barplot(x=\"voting_path\", y=\"al_scale\", data=df, palette=\"Greens_d\", order=order);\n",
    "g.set_xticklabels(labels = order, rotation=30);"
   ]
  },
  {
   "cell_type": "code",
   "execution_count": null,
   "metadata": {},
   "outputs": [],
   "source": []
  },
  {
   "cell_type": "code",
   "execution_count": null,
   "metadata": {},
   "outputs": [],
   "source": []
  },
  {
   "cell_type": "code",
   "execution_count": 497,
   "metadata": {
    "collapsed": true
   },
   "outputs": [],
   "source": [
    "df_stacked = df[[\"voting_path\",\"al_scale\",\"weights\"]].dropna().copy()\n",
    "df_stacked[\"scale\"] = \"al_scale\"\n",
    "df_stacked.columns = [\"voting_path\",\"values\",\"weights\",\"scale\"]"
   ]
  },
  {
   "cell_type": "code",
   "execution_count": 498,
   "metadata": {
    "collapsed": true
   },
   "outputs": [],
   "source": [
    "df2_stacked = df[[\"voting_path\",\"lr_scale\",\"weights\"]].dropna().copy()\n",
    "df2_stacked[\"scale\"] = \"lr_scale\"\n",
    "df2_stacked.columns = [\"voting_path\",\"values\",\"weights\",\"scale\"]"
   ]
  },
  {
   "cell_type": "code",
   "execution_count": 529,
   "metadata": {},
   "outputs": [],
   "source": [
    "normalise = True\n",
    "if normalise:\n",
    "    scaler = StandardScaler()\n",
    "    df_stacked[\"values\"] = scaler.fit_transform(df_stacked[\"values\"].values.reshape(-1,1)).reshape(1,-1)[0]\n",
    "    df2_stacked[\"values\"] = scaler.fit_transform(df2_stacked[\"values\"].values.reshape(-1,1)).reshape(1,-1)[0]"
   ]
  },
  {
   "cell_type": "code",
   "execution_count": 530,
   "metadata": {
    "collapsed": true
   },
   "outputs": [],
   "source": [
    "df3 = df_stacked.append(df2_stacked)"
   ]
  },
  {
   "cell_type": "code",
   "execution_count": 531,
   "metadata": {},
   "outputs": [
    {
     "data": {
      "image/png": "[encoded data removed]",
      "text/plain": [
       "<matplotlib.figure.Figure at 0x274409e8>"
      ]
     },
     "metadata": {},
     "output_type": "display_data"
    }
   ],
   "source": [
    "g = sns.barplot(x=\"voting_path\", y=\"values\", hue = \"scale\", data=df3, palette=\"Greens_d\", order=order);\n",
    "g.set_xticklabels(labels = order, rotation=30);"
   ]
  },
  {
   "cell_type": "code",
   "execution_count": 532,
   "metadata": {},
   "outputs": [],
   "source": [
    "# df3 = df_stacked.append(df2_stacked)\n",
    "# g = sns.violinplot(x=\"voting_path\", y=\"values\", hue = \"scale\", data=df3,\n",
    "#                    palette=\"Greens_d\", split=True, cut=0, inner=None);\n",
    "# g.set_xticklabels(labels = df[\"voting_path\"].dropna().unique(), rotation=30);"
   ]
  },
  {
   "cell_type": "code",
   "execution_count": 533,
   "metadata": {},
   "outputs": [],
   "source": [
    "# df3 = df_stacked.append(df2_stacked)\n",
    "# g = sns.violinplot(x=\"voting_path\", y=\"values\", hue = \"scale\", data=df3,\n",
    "#                    palette=\"Greens_d\",  cut=0);\n",
    "# g.set_xticklabels(labels = df[\"voting_path\"].dropna().unique(), rotation=30);"
   ]
  },
  {
   "cell_type": "code",
   "execution_count": 534,
   "metadata": {},
   "outputs": [],
   "source": [
    "# df3 = df_stacked.append(df2_stacked)\n",
    "# g = sns.violinplot(x=\"voting_path\", y=\"values\", hue = \"scale\", data=df3,\n",
    "#                    palette=\"Greens_d\", split=True, cut=0,\n",
    "#                    hist_kws={'weights':df3[\"weights\"]});\n",
    "# g.set_xticklabels(labels = df[\"voting_path\"].dropna().unique(), rotation=30);"
   ]
  },
  {
   "cell_type": "code",
   "execution_count": 535,
   "metadata": {},
   "outputs": [],
   "source": [
    "# sns.distplot([2,2,2,0,0,0], hist_kws={'weights':[1,1,1,20,20,20]},bins=10)"
   ]
  },
  {
   "cell_type": "code",
   "execution_count": null,
   "metadata": {},
   "outputs": [],
   "source": []
  },
  {
   "cell_type": "code",
   "execution_count": null,
   "metadata": {},
   "outputs": [],
   "source": []
  },
  {
   "cell_type": "code",
   "execution_count": null,
   "metadata": {
    "collapsed": true
   },
   "outputs": [],
   "source": []
  },
  {
   "cell_type": "code",
   "execution_count": null,
   "metadata": {},
   "outputs": [],
   "source": []
  },
  {
   "cell_type": "code",
   "execution_count": 536,
   "metadata": {
    "collapsed": true
   },
   "outputs": [],
   "source": [
    "# ## check that statsmodels *does* allow weights\n",
    "# %matplotlib inline\n",
    "\n",
    "# import numpy as np\n",
    "# from scipy import stats\n",
    "# import statsmodels.api as sm\n",
    "# import matplotlib.pyplot as plt\n",
    "# from statsmodels.distributions.mixture_rvs import mixture_rvs\n",
    "\n",
    "# np.random.seed(12345)\n",
    "# obs_dist1 = mixture_rvs([.25,.75], size=10000, dist=[stats.norm, stats.norm],\n",
    "#                 kwargs = (dict(loc=-1,scale=.5),dict(loc=1,scale=.5)))\n",
    "# kde = sm.nonparametric.KDEUnivariate(obs_dist1)\n",
    "# kde.fit()"
   ]
  },
  {
   "cell_type": "code",
   "execution_count": 537,
   "metadata": {},
   "outputs": [],
   "source": [
    "# fig = plt.figure(figsize=(12,8))\n",
    "# ax = fig.add_subplot(111)\n",
    "# ax.hist(obs_dist1, bins=50, normed=True, color='red')\n",
    "# ax.plot(kde.support, kde.density, lw=2, color='black');"
   ]
  },
  {
   "cell_type": "code",
   "execution_count": 538,
   "metadata": {},
   "outputs": [],
   "source": [
    "# weights = np.ones(obs_dist1.shape)\n",
    "# weights[obs_dist1>.8] = 2"
   ]
  },
  {
   "cell_type": "code",
   "execution_count": 539,
   "metadata": {},
   "outputs": [],
   "source": [
    "# gc.collect()"
   ]
  },
  {
   "cell_type": "code",
   "execution_count": 540,
   "metadata": {},
   "outputs": [],
   "source": [
    "\n",
    "# kde = sm.nonparametric.KDEUnivariate(obs_dist1)\n",
    "# kde.fit(fft=False,weights=weights)\n",
    "\n",
    "# fig = plt.figure(figsize=(12,8))\n",
    "# ax = fig.add_subplot(111)\n",
    "# ax.hist(obs_dist1, bins=50, normed=True, color='red', weights=weights)\n",
    "# ax.plot(kde.support, kde.density, lw=2, color='black');\n"
   ]
  },
  {
   "cell_type": "code",
   "execution_count": null,
   "metadata": {},
   "outputs": [],
   "source": []
  },
  {
   "cell_type": "code",
   "execution_count": null,
   "metadata": {
    "collapsed": true
   },
   "outputs": [],
   "source": []
  },
  {
   "cell_type": "code",
   "execution_count": null,
   "metadata": {
    "collapsed": true
   },
   "outputs": [],
   "source": []
  },
  {
   "cell_type": "code",
   "execution_count": null,
   "metadata": {
    "collapsed": true
   },
   "outputs": [],
   "source": []
  },
  {
   "cell_type": "code",
   "execution_count": 541,
   "metadata": {
    "collapsed": true
   },
   "outputs": [],
   "source": [
    "# # modify these seaborn functions to allow weighted statsmodels kde!\n",
    "\n",
    "# def _univariate_kdeplot(data, shade, vertical, kernel, bw, gridsize, cut,\n",
    "#                         clip, legend, ax, cumulative=False, **kwargs):\n",
    "#     \"\"\"Plot a univariate kernel density estimate on one of the axes.\"\"\"\n",
    "\n",
    "#     # Sort out the clipping\n",
    "#     if clip is None:\n",
    "#         clip = (-np.inf, np.inf)\n",
    "\n",
    "#     # Calculate the KDE\n",
    "#     if _has_statsmodels:\n",
    "#         # Prefer using statsmodels for kernel flexibility\n",
    "#         ## CHANGE: ADD **kwargs here\n",
    "#         x, y = _statsmodels_univariate_kde(data, kernel, bw,\n",
    "#                                            gridsize, cut, clip,\n",
    "#                                            cumulative=cumulative,\n",
    "#                                            **kwargs)\n",
    "#     else:\n",
    "#         # Fall back to scipy if missing statsmodels\n",
    "#         if kernel != \"gau\":\n",
    "#             kernel = \"gau\"\n",
    "#             msg = \"Kernel other than `gau` requires statsmodels.\"\n",
    "#             warnings.warn(msg, UserWarning)\n",
    "#         if cumulative:\n",
    "#             raise ImportError(\"Cumulative distributions are currently\"\n",
    "#                               \"only implemented in statsmodels.\"\n",
    "#                               \"Please install statsmodels.\")\n",
    "#         x, y = _scipy_univariate_kde(data, bw, gridsize, cut, clip)\n",
    "\n",
    "#     # Make sure the density is nonnegative\n",
    "#     y = np.amax(np.c_[np.zeros_like(y), y], axis=1)\n",
    "\n",
    "#     # Flip the data if the plot should be on the y axis\n",
    "#     if vertical:\n",
    "#         x, y = y, x\n",
    "\n",
    "#     # Check if a label was specified in the call\n",
    "#     label = kwargs.pop(\"label\", None)\n",
    "\n",
    "#     # Otherwise check if the data object has a name\n",
    "#     if label is None and hasattr(data, \"name\"):\n",
    "#         label = data.name\n",
    "\n",
    "#     # Decide if we're going to add a legend\n",
    "#     legend = label is not None and legend\n",
    "#     label = \"_nolegend_\" if label is None else label\n",
    "\n",
    "#     # Use the active color cycle to find the plot color\n",
    "#     facecolor = kwargs.pop(\"facecolor\", None)\n",
    "#     line, = ax.plot(x, y, **kwargs)\n",
    "#     color = line.get_color()\n",
    "#     line.remove()\n",
    "#     kwargs.pop(\"color\", None)\n",
    "#     facecolor = color if facecolor is None else facecolor\n",
    "\n",
    "#     # Draw the KDE plot and, optionally, shade\n",
    "#     ax.plot(x, y, color=color, label=label, **kwargs)\n",
    "#     shade_kws = dict(\n",
    "#         facecolor=facecolor,\n",
    "#         alpha=kwargs.get(\"alpha\", 0.25),\n",
    "#         clip_on=kwargs.get(\"clip_on\", True),\n",
    "#         zorder=kwargs.get(\"zorder\", 1),\n",
    "#         )\n",
    "#     if shade:\n",
    "#         if vertical:\n",
    "#             ax.fill_betweenx(y, 0, x, **shade_kws)\n",
    "#         else:\n",
    "#             ax.fill_between(x, 0, y, **shade_kws)\n",
    "\n",
    "#     # Set the density axis minimum to 0\n",
    "#     if vertical:\n",
    "#         ax.set_xlim(0, None)\n",
    "#     else:\n",
    "#         ax.set_ylim(0, None)\n",
    "\n",
    "#     # Draw the legend here\n",
    "#     if legend:\n",
    "#         ax.legend(loc=\"best\")\n",
    "\n",
    "#     return ax\n",
    "\n",
    "\n",
    "# def _statsmodels_univariate_kde(data, kernel, bw, gridsize, cut, clip,\n",
    "#                                 cumulative=False, **kwargs):\n",
    "# #CHANGE: ADD **kwargs added to function input variables\n",
    "#     \"\"\"Compute a univariate kernel density estimate using statsmodels.\"\"\"\n",
    "#     fft = kernel == \"gau\"\n",
    "#     kde = smnp.KDEUnivariate(data)\n",
    "    \n",
    "# #CHANGE: \n",
    "#     if \"weights\" in kwargs.keys():\n",
    "#         print(\"WEIGHTS PASSED THROUGH\")\n",
    "#         weights = kwargs[\"weights\"]\n",
    "#         fft = False # can't use fft with weights (YET)\n",
    "#     else:\n",
    "#         print(\"WEIGHTS NOT PASSED THROUGH\")        \n",
    "#         weights = None\n",
    "#     raise ValueError('A very specific bad thing happened')\n",
    "    \n",
    "#     kde.fit(kernel, bw, fft, gridsize=gridsize,\n",
    "#             cut=cut, clip=clip, weights=weights)\n",
    "#     if cumulative:\n",
    "#         grid, y = kde.support, kde.cdf\n",
    "#     else:\n",
    "#         grid, y = kde.support, kde.density\n",
    "#     return grid, y\n",
    "\n",
    "# sns.distributions._statsmodels_univariate_kde = _statsmodels_univariate_kde\n",
    "# sns.distributions._univariate_kdeplot = _univariate_kdeplot"
   ]
  },
  {
   "cell_type": "code",
   "execution_count": 542,
   "metadata": {
    "collapsed": true
   },
   "outputs": [],
   "source": [
    "# from gaussian_kde import gaussian_kde"
   ]
  },
  {
   "cell_type": "code",
   "execution_count": 543,
   "metadata": {
    "collapsed": true
   },
   "outputs": [],
   "source": [
    "# # unfortunately violinplot runs quite separately!\n",
    "\n",
    "# def violinplot(x=None, y=None, hue=None, data=None, order=None, hue_order=None,\n",
    "#                bw=\"scott\", cut=2, scale=\"area\", scale_hue=True, gridsize=100,\n",
    "#                width=.8, inner=\"box\", split=False, dodge=True, orient=None,\n",
    "#                linewidth=None, color=None, palette=None, saturation=.75,\n",
    "#                ax=None):\n",
    "#     #CHANGE: ADD **kwargs)\n",
    "# #     raise ValueError('A very specific bad thing happened')\n",
    "#     plotter = _ViolinPlotter(x, y, hue, data, order, hue_order,\n",
    "#                              bw, cut, scale, scale_hue, gridsize,\n",
    "#                              width, inner, split, dodge, orient, linewidth,\n",
    "#                              color, palette, saturation)\n",
    "\n",
    "#     if ax is None:\n",
    "#         ax = plt.gca()\n",
    "\n",
    "#     plotter.plot(ax)\n",
    "#     return ax\n",
    "\n",
    "# sns.categorical.violinplot = violinplot\n",
    "\n",
    "# # for class _ViolinPlotter\n",
    "# # CHANGE: ADD **kwargs\n",
    "# def __init__(self, x, y, hue, data, order, hue_order,\n",
    "#              bw, cut, scale, scale_hue, gridsize,\n",
    "#              width, inner, split, dodge, orient, linewidth,\n",
    "#              color, palette, saturation):\n",
    "# #     raise ValueError('A very specific bad thing happened')\n",
    "# #     if \"weights\" in kwargs.keys():\n",
    "# #         self.weights = kwargs[\"weights\"]\n",
    "        \n",
    "# #     else:\n",
    "# #         self.weights = None\n",
    "    \n",
    "    \n",
    "    \n",
    "#     self.establish_variables(x, y, hue, data, orient, order, hue_order)\n",
    "#     self.establish_colors(color, palette, saturation)\n",
    "#     self.estimate_densities(bw, cut, scale, scale_hue, gridsize)\n",
    "\n",
    "#     self.gridsize = gridsize\n",
    "#     self.width = width\n",
    "#     self.dodge = dodge\n",
    "\n",
    "#     if inner is not None:\n",
    "#         if not any([inner.startswith(\"quart\"),\n",
    "#                     inner.startswith(\"box\"),\n",
    "#                     inner.startswith(\"stick\"),\n",
    "#                     inner.startswith(\"point\")]):\n",
    "#             err = \"Inner style '{}' not recognized\".format(inner)\n",
    "#             raise ValueError(err)\n",
    "#     self.inner = inner\n",
    "\n",
    "#     if split and self.hue_names is not None and len(self.hue_names) != 2:\n",
    "#         msg = \"There must be exactly two hue levels to use `split`.'\"\n",
    "#         raise ValueError(msg)\n",
    "#     self.split = split\n",
    "\n",
    "#     if linewidth is None:\n",
    "#         linewidth = mpl.rcParams[\"lines.linewidth\"]\n",
    "#     self.linewidth = linewidth\n",
    "    \n",
    "# sns.categorical._ViolinPlotter.__init__ = __init__\n",
    "\n",
    "\n",
    "\n",
    "# def fit_kde(self, x, bw):\n",
    "#     \"\"\"Estimate a KDE for a vector of data with flexible bandwidth.\"\"\"\n",
    "# #     self.weights = None\n",
    "# #CHANGED: ADD **kwargs and this if if clause\n",
    "#     if self.weights != None:\n",
    "#         # use Tilla Hoffman's weighted gaussian kde\n",
    "#         kde = gaussian_kde(x, bw, weights=self.weights[x.shape[0]])\n",
    "#     else:\n",
    "#         raise ValueError('A very specific bad thing happened')\n",
    "#         # Allow for the use of old scipy where `bw` is fixed\n",
    "#         try:\n",
    "#             kde = stats.gaussian_kde(x, bw)\n",
    "#         except TypeError:\n",
    "#             kde = stats.gaussian_kde(x)\n",
    "#             if bw != \"scott\":  # scipy default\n",
    "#                 msg = (\"Ignoring bandwidth choice, \"\n",
    "#                        \"please upgrade scipy to use a different bandwidth.\")\n",
    "#                 warnings.warn(msg, UserWarning)\n",
    "\n",
    "#     # Extract the numeric bandwidth from the KDE object\n",
    "#     bw_used = kde.factor\n",
    "\n",
    "#     # At this point, bw will be a numeric scale factor.\n",
    "#     # To get the actual bandwidth of the kernel, we multiple by the\n",
    "#     # unbiased standard deviation of the data, which we will use\n",
    "#     # elsewhere to compute the range of the support.\n",
    "#     bw_used = bw_used * x.std(ddof=1)\n",
    "\n",
    "#     return kde, bw_used\n",
    "\n",
    "# sns.categorical._ViolinPlotter.fit_kde = fit_kde\n"
   ]
  },
  {
   "cell_type": "code",
   "execution_count": 544,
   "metadata": {},
   "outputs": [],
   "source": [
    "from gaussian_kde import gaussian_kde\n",
    "import matplotlib as mpl\n",
    "\n",
    "\n",
    "def fit_kde(self, x, bw):\n",
    "    \"\"\"Estimate a KDE for a vector of data with flexible bandwidth.\"\"\"\n",
    "    # Allow for the use of old scipy where `bw` is fixed\n",
    "    #raise ValueError('A very specific bad thing happened')\n",
    "  #  self.weights = None\n",
    "#CHANGED: ADD **kwargs and this if if clause\n",
    "\n",
    "#     self.weights = None\n",
    "    if self.weights is not None:\n",
    "#         print(x.shape[0], self.weights[x.shape[0]])\n",
    "        # use Tilla Hoffman's weighted gaussian kde\n",
    "        kde = gaussian_kde(x, bw, weights=self.weights[x.shape[0]])\n",
    "    else:\n",
    "#         raise ValueError('A very specific bad thing happened')\n",
    "        try:\n",
    "            kde = stats.gaussian_kde(x, bw)\n",
    "        except TypeError:\n",
    "            kde = stats.gaussian_kde(x)\n",
    "            if bw != \"scott\":  # scipy default\n",
    "                msg = (\"Ignoring bandwidth choice, \"\n",
    "                       \"please upgrade scipy to use a different bandwidth.\")\n",
    "                warnings.warn(msg, UserWarning)\n",
    "\n",
    "    # Extract the numeric bandwidth from the KDE object\n",
    "    bw_used = kde.factor\n",
    "\n",
    "    # At this point, bw will be a numeric scale factor.\n",
    "    # To get the actual bandwidth of the kernel, we multiple by the\n",
    "    # unbiased standard deviation of the data, which we will use\n",
    "    # elsewhere to compute the range of the support.\n",
    "    bw_used = bw_used * x.std(ddof=1)\n",
    "\n",
    "    return kde, bw_used\n",
    "    \n",
    "sns.categorical._ViolinPlotter.fit_kde = fit_kde\n",
    "#################################################\n",
    "\n",
    "def __init__(self, x, y, hue, data, order, hue_order,\n",
    "             bw, cut, scale, scale_hue, gridsize,\n",
    "             width, inner, split, orient, linewidth,\n",
    "             color, palette, saturation, **kwargs):\n",
    "\n",
    "  #  raise ValueError('A very specific bad thing happened')\n",
    "    if \"weights\" in kwargs.keys():\n",
    "        self.weights = kwargs[\"weights\"]\n",
    "#         raise ValueError('A very specific bad thing happened')\n",
    "    else:\n",
    "        self.weights = None    \n",
    "    \n",
    "    self.establish_variables(x, y, hue, data, orient, order, hue_order)\n",
    "    self.establish_colors(color, palette, saturation)\n",
    "    self.estimate_densities(bw, cut, scale, scale_hue, gridsize)\n",
    "\n",
    "    self.gridsize = gridsize\n",
    "    self.width = width\n",
    "\n",
    "    if inner is not None:\n",
    "        if not any([inner.startswith(\"quart\"),\n",
    "                    inner.startswith(\"box\"),\n",
    "                    inner.startswith(\"stick\"),\n",
    "                    inner.startswith(\"point\")]):\n",
    "            err = \"Inner style '{}' not recognized\".format(inner)\n",
    "            raise ValueError(err)\n",
    "    self.inner = inner\n",
    "\n",
    "    if split and self.hue_names is not None and len(self.hue_names) != 2:\n",
    "        raise ValueError(\"Cannot use `split` with more than 2 hue levels.\")\n",
    "    self.split = split\n",
    "\n",
    "    if linewidth is None:\n",
    "        linewidth = mpl.rcParams[\"lines.linewidth\"]\n",
    "    self.linewidth = linewidth\n",
    "    \n",
    "    \n",
    "sns.categorical._ViolinPlotter.__init__ = __init__\n",
    "\n",
    "\n",
    "############################################################\n",
    "\n",
    "\n",
    "def violinplot(x=None, y=None, hue=None, data=None, order=None, hue_order=None,\n",
    "               bw=\"scott\", cut=2, scale=\"area\", scale_hue=True, gridsize=100,\n",
    "               width=.8, inner=\"box\", split=False, orient=None, linewidth=None,\n",
    "               color=None, palette=None, saturation=.75, ax=None, **kwargs):\n",
    "\n",
    "    kw_string = ', '.join(['{}={!r}'.format(k, v) for k, v in kwargs.items()])    \n",
    "    \n",
    " #   raise ValueError(\"dfdfdf\", kw_string)\n",
    "#     raise ValueError('A very specific bad thing happened')\n",
    "    \n",
    "    # Try to handle broken backwards-compatability\n",
    "    # This should help with the lack of a smooth deprecation,\n",
    "    # but won't catch everything\n",
    "    warn = False\n",
    "    if isinstance(x, pd.DataFrame):\n",
    "        data = x\n",
    "        x = None\n",
    "        warn = True\n",
    "\n",
    "    if \"vals\" in kwargs:\n",
    "        x = kwargs.pop(\"vals\")\n",
    "        warn = True\n",
    "\n",
    "    if \"groupby\" in kwargs:\n",
    "        y = x\n",
    "        x = kwargs.pop(\"groupby\")\n",
    "        warn = True\n",
    "\n",
    "    if \"vert\" in kwargs:\n",
    "        vert = kwargs.pop(\"vert\", True)\n",
    "        if not vert:\n",
    "            x, y = y, x\n",
    "        orient = \"v\" if vert else \"h\"\n",
    "        warn = True\n",
    "\n",
    "    msg = (\"The violinplot API has been changed. Attempting to adjust your \"\n",
    "           \"arguments for the new API (which might not work). Please update \"\n",
    "           \"your code. See the version 0.6 release notes for more info.\")\n",
    "    if warn:\n",
    "        warnings.warn(msg, UserWarning)\n",
    "    # CHANGE: ADD ,**kwargs\n",
    "    plotter = sns.categorical._ViolinPlotter(x, y, hue, data, order, hue_order,\n",
    "                             bw, cut, scale, scale_hue, gridsize,\n",
    "                             width, inner, split, orient, linewidth,\n",
    "                             color, palette, saturation, **kwargs)\n",
    "\n",
    "    if ax is None:\n",
    "        ax = plt.gca()\n",
    "\n",
    "    plotter.plot(ax)\n",
    "    return ax\n",
    "\n",
    "sns.categorical.violinplot = violinplot\n",
    "\n"
   ]
  },
  {
   "cell_type": "code",
   "execution_count": 545,
   "metadata": {
    "collapsed": true
   },
   "outputs": [],
   "source": [
    "weights = {}\n",
    "for scale in df3[\"scale\"].unique():\n",
    "    for voting_path in df3[\"voting_path\"].unique():\n",
    "        wgts = df3[ (df3[\"scale\"]==scale) & (df3[\"voting_path\"]==voting_path) ][\"weights\"].values\n",
    "        wgts_len = wgts.shape[0]\n",
    "        \n",
    "        if np.isnan(wgts).any():\n",
    "            raise ValueError(\"nan in the weights!\")\n",
    "        \n",
    "        if wgts_len not in weights.keys():\n",
    "            weights[wgts_len] = wgts\n",
    "        else:\n",
    "            raise ValueError(\"This hack only works if the size of each group is different!\")\n",
    "            \n",
    "            # non-lazy way of doing same thing - create a hash!\n",
    "            "
   ]
  },
  {
   "cell_type": "code",
   "execution_count": 546,
   "metadata": {},
   "outputs": [],
   "source": [
    "# import inspect\n",
    "# inspect.getsourcelines(sns.categorical._ViolinPlotter.__init__)"
   ]
  },
  {
   "cell_type": "code",
   "execution_count": 547,
   "metadata": {},
   "outputs": [
    {
     "data": {
      "text/plain": [
       "468"
      ]
     },
     "execution_count": 547,
     "metadata": {},
     "output_type": "execute_result"
    }
   ],
   "source": [
    "gc.collect()"
   ]
  },
  {
   "cell_type": "code",
   "execution_count": 548,
   "metadata": {},
   "outputs": [],
   "source": [
    "# inspect.getsourcelines(sns.violinplot)"
   ]
  },
  {
   "cell_type": "code",
   "execution_count": null,
   "metadata": {},
   "outputs": [],
   "source": []
  },
  {
   "cell_type": "code",
   "execution_count": null,
   "metadata": {},
   "outputs": [],
   "source": []
  },
  {
   "cell_type": "code",
   "execution_count": null,
   "metadata": {},
   "outputs": [],
   "source": []
  },
  {
   "cell_type": "code",
   "execution_count": 549,
   "metadata": {},
   "outputs": [
    {
     "data": {
      "image/png": "[encoded data removed]",
      "text/plain": [
       "<matplotlib.figure.Figure at 0x27e43c88>"
      ]
     },
     "metadata": {},
     "output_type": "display_data"
    }
   ],
   "source": [
    "\n",
    "\n",
    "fig, ax = plt.subplots(figsize=(9,5))\n",
    "#cut=0,\n",
    "if normalise:\n",
    "    kwargs = {}\n",
    "    graph_name = 'Lab_vote_path_by_values_weighted_normalised'\n",
    "else:\n",
    "    kwargs = {\"cut\":0}\n",
    "    graph_name = 'Lab_vote_path_by_values_weighted'\n",
    "df3 = df_stacked.append(df2_stacked)\n",
    "g = sns.categorical.violinplot(x=\"voting_path\", y=\"values\", hue = \"scale\", data=df3,\n",
    "                   palette=\"Greens_d\", split=True,  inner=None, order=order, \n",
    "                   weights=weights, ax=ax, **kwargs);\n",
    "g.set_xticklabels(labels = order, rotation=10);\n",
    "\n",
    "fig.savefig(BES_data_folder+graph_name+'.png')"
   ]
  },
  {
   "cell_type": "code",
   "execution_count": 407,
   "metadata": {},
   "outputs": [
    {
     "data": {
      "image/png": "[encoded data removed]",
      "text/plain": [
       "<matplotlib.figure.Figure at 0x120527b8>"
      ]
     },
     "metadata": {},
     "output_type": "display_data"
    }
   ],
   "source": [
    "# df3 = df_stacked.append(df2_stacked)\n",
    "# g = sns.categorical.violinplot(x=\"voting_path\", y=\"values\", hue = \"scale\", data=df3, order=order,\n",
    "#                    palette=\"Greens_d\", split=True, cut=0, inner=None, weights=None);\n",
    "# g.set_xticklabels(labels = order, rotation=30);"
   ]
  },
  {
   "cell_type": "code",
   "execution_count": null,
   "metadata": {},
   "outputs": [],
   "source": [
    "\n"
   ]
  },
  {
   "cell_type": "code",
   "execution_count": null,
   "metadata": {},
   "outputs": [],
   "source": []
  },
  {
   "cell_type": "code",
   "execution_count": null,
   "metadata": {},
   "outputs": [],
   "source": []
  },
  {
   "cell_type": "code",
   "execution_count": null,
   "metadata": {},
   "outputs": [],
   "source": []
  },
  {
   "cell_type": "code",
   "execution_count": 443,
   "metadata": {},
   "outputs": [],
   "source": []
  },
  {
   "cell_type": "code",
   "execution_count": null,
   "metadata": {},
   "outputs": [],
   "source": []
  },
  {
   "cell_type": "code",
   "execution_count": null,
   "metadata": {
    "collapsed": true
   },
   "outputs": [],
   "source": []
  }
 ],
 "metadata": {
  "kernelspec": {
   "display_name": "Python [conda env:BES_analysis]",
   "language": "python",
   "name": "conda-env-BES_analysis-py"
  },
  "language_info": {
   "codemirror_mode": {
    "name": "ipython",
    "version": 3
   },
   "file_extension": ".py",
   "mimetype": "text/x-python",
   "name": "python",
   "nbconvert_exporter": "python",
   "pygments_lexer": "ipython3",
   "version": "3.5.2"
  }
 },
 "nbformat": 4,
 "nbformat_minor": 1
}
