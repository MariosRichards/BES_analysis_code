{
 "cells": [
  {
   "cell_type": "code",
   "execution_count": 1,
   "metadata": {
    "collapsed": true
   },
   "outputs": [],
   "source": [
    "# British Election Study dataset\n",
    "\n",
    "# Very big (30,000+), multiple waves (we're up to 9 now) tracking some of the same people\n",
    "#\n",
    "\n",
    "\n",
    "\n"
   ]
  },
  {
   "cell_type": "code",
   "execution_count": 42,
   "metadata": {
    "collapsed": true
   },
   "outputs": [],
   "source": [
    "import numpy as np\n",
    "import pandas as pd\n",
    "%matplotlib inline\n",
    "import matplotlib.pyplot as plt\n",
    "import gc\n",
    "import re\n",
    "\n",
    "from sklearn import datasets\n",
    "from sklearn.decomposition import PCA\n",
    "from sklearn.discriminant_analysis import LinearDiscriminantAnalysis\n",
    "\n",
    "from scipy import stats"
   ]
  },
  {
   "cell_type": "code",
   "execution_count": 3,
   "metadata": {
    "collapsed": false
   },
   "outputs": [
    {
     "name": "stdout",
     "output_type": "stream",
     "text": [
      "(31409, 733)\n",
      "Wall time: 12.6 s\n"
     ]
    }
   ],
   "source": [
    "%%time\n",
    "# Load BES Panel for Wave 8\n",
    "BES_Panel = pd.read_stata(\"../BES_analysis_data/BES2015_W8_v1.3.dta\")\n",
    "#(31409, 733)\n",
    "\n",
    "# BES_Panel = pd.read_stata(\"../BES_analysis_data/BES2015_W8_v1.6.dta\")\n",
    "\n",
    "print( BES_Panel.shape )"
   ]
  },
  {
   "cell_type": "code",
   "execution_count": 5,
   "metadata": {
    "collapsed": false
   },
   "outputs": [],
   "source": [
    "a = BES_Panel.columns"
   ]
  },
  {
   "cell_type": "code",
   "execution_count": 421,
   "metadata": {
    "collapsed": false
   },
   "outputs": [
    {
     "data": {
      "text/plain": [
       "['voted2015',\n",
       " 'voteMethodW9',\n",
       " 'profile_past_vote_2005',\n",
       " 'profile_past_vote_2010',\n",
       " 'profile_past_vote_2015']"
      ]
     },
     "execution_count": 421,
     "metadata": {},
     "output_type": "execute_result"
    }
   ],
   "source": [
    "[x for x in a if \"vote\" in x]"
   ]
  },
  {
   "cell_type": "code",
   "execution_count": 8,
   "metadata": {
    "collapsed": false
   },
   "outputs": [
    {
     "data": {
      "text/plain": [
       "['voted2015', 'profile_turnout_2015', 'profile_past_vote_2015']"
      ]
     },
     "execution_count": 8,
     "metadata": {},
     "output_type": "execute_result"
    }
   ],
   "source": [
    "[x for x in a if \"2015\" in x]"
   ]
  },
  {
   "cell_type": "code",
   "execution_count": 17,
   "metadata": {
    "collapsed": false
   },
   "outputs": [],
   "source": [
    "nans = BES_Panel[['profile_past_vote_2010', 'profile_past_vote_2015']].isnull().any(axis=1)"
   ]
  },
  {
   "cell_type": "code",
   "execution_count": 20,
   "metadata": {
    "collapsed": false
   },
   "outputs": [],
   "source": [
    "vote_change = BES_Panel[['profile_past_vote_2010', 'profile_past_vote_2015']][~nans]\n",
    "vote_change.columns = [ \"2010\",\"2015\" ]"
   ]
  },
  {
   "cell_type": "code",
   "execution_count": 21,
   "metadata": {
    "collapsed": false
   },
   "outputs": [
    {
     "data": {
      "text/plain": [
       "Conservative Party                          7302\n",
       "Labour Party                                5475\n",
       "Liberal Democrats                           4698\n",
       "Did not vote                                1669\n",
       "Scottish National Party                      896\n",
       "United Kingdom Independence Party (UKIP)     727\n",
       "Don't know                                   425\n",
       "Green Party                                  285\n",
       "Plaid Cymru                                  213\n",
       "British National Party (BNP)                 200\n",
       "Some other party                             199\n",
       "Respect                                        4\n",
       "Name: profile_past_vote_2010, dtype: int64"
      ]
     },
     "execution_count": 21,
     "metadata": {},
     "output_type": "execute_result"
    }
   ],
   "source": [
    "vote_change['profile_past_vote_2010'].value_counts()"
   ]
  },
  {
   "cell_type": "code",
   "execution_count": 416,
   "metadata": {
    "collapsed": false
   },
   "outputs": [
    {
     "data": {
      "text/plain": [
       "Liberal Democrats                           2042\n",
       "Labour Party                                 907\n",
       "Did not vote                                 296\n",
       "Conservative Party                           249\n",
       "Don't know                                   160\n",
       "Green Party                                   81\n",
       "Scottish National Party                       48\n",
       "Plaid Cymru                                   31\n",
       "United Kingdom Independence Party (UKIP)      28\n",
       "Some other party                              21\n",
       "British National Party (BNP)                   4\n",
       "Respect                                        3\n",
       "Veritas                                        0\n",
       "Name: profile_past_vote_2005, dtype: int64"
      ]
     },
     "execution_count": 416,
     "metadata": {},
     "output_type": "execute_result"
    }
   ],
   "source": [
    "BES_Panel['profile_past_vote_2005'].loc[ld_minus_ukip].value_counts()"
   ]
  },
  {
   "cell_type": "code",
   "execution_count": null,
   "metadata": {
    "collapsed": true
   },
   "outputs": [],
   "source": []
  },
  {
   "cell_type": "code",
   "execution_count": 26,
   "metadata": {
    "collapsed": false
   },
   "outputs": [
    {
     "data": {
      "text/plain": [
       "United Kingdom Independence Party (UKIP)    132\n",
       "Conservative                                 26\n",
       "Labour                                       21\n",
       "Scottish National Party (SNP)                 6\n",
       "Green Party                                   5\n",
       "Don't know                                    4\n",
       "Other                                         3\n",
       "British National Party (BNP)                  2\n",
       "Liberal Democrat                              1\n",
       "Plaid Cymru                                   0\n",
       "Name: 2015, dtype: int64"
      ]
     },
     "execution_count": 26,
     "metadata": {},
     "output_type": "execute_result"
    }
   ],
   "source": [
    "vote_change[ vote_change[\"2010\"] == \"British National Party (BNP)\" ][\"2015\"].value_counts()"
   ]
  },
  {
   "cell_type": "code",
   "execution_count": 27,
   "metadata": {
    "collapsed": false
   },
   "outputs": [
    {
     "data": {
      "text/plain": [
       "United Kingdom Independence Party (UKIP)    482\n",
       "Conservative                                124\n",
       "Labour                                       50\n",
       "Other                                        19\n",
       "Green Party                                  17\n",
       "Liberal Democrat                             15\n",
       "Scottish National Party (SNP)                 8\n",
       "Don't know                                    7\n",
       "Plaid Cymru                                   4\n",
       "British National Party (BNP)                  1\n",
       "Name: 2015, dtype: int64"
      ]
     },
     "execution_count": 27,
     "metadata": {},
     "output_type": "execute_result"
    }
   ],
   "source": [
    "vote_change[ vote_change[\"2010\"] == \"United Kingdom Independence Party (UKIP)\" ][\"2015\"].value_counts()"
   ]
  },
  {
   "cell_type": "code",
   "execution_count": 28,
   "metadata": {
    "collapsed": false
   },
   "outputs": [
    {
     "data": {
      "text/plain": [
       "Labour                                      1435\n",
       "Liberal Democrat                            1239\n",
       "Conservative                                 700\n",
       "Green Party                                  493\n",
       "United Kingdom Independence Party (UKIP)     431\n",
       "Scottish National Party (SNP)                243\n",
       "Other                                         78\n",
       "Plaid Cymru                                   48\n",
       "Don't know                                    25\n",
       "British National Party (BNP)                   6\n",
       "Name: 2015, dtype: int64"
      ]
     },
     "execution_count": 28,
     "metadata": {},
     "output_type": "execute_result"
    }
   ],
   "source": [
    "vote_change[ vote_change[\"2010\"] == \"Liberal Democrats\" ][\"2015\"].value_counts()"
   ]
  },
  {
   "cell_type": "code",
   "execution_count": 197,
   "metadata": {
    "collapsed": false
   },
   "outputs": [],
   "source": [
    "ld_ukip = vote_change[ (vote_change[\"2010\"] == \"Liberal Democrats\")\n",
    "            & (vote_change[\"2015\"] ==\"United Kingdom Independence Party (UKIP)\") ].index\n",
    "\n",
    "ld = vote_change[ (vote_change[\"2010\"] == \"Liberal Democrats\") ].index\n",
    "\n",
    "ld_minus_ukip = vote_change[ (vote_change[\"2010\"] == \"Liberal Democrats\")\n",
    "            & (vote_change[\"2015\"] !=\"United Kingdom Independence Party (UKIP)\") ].index"
   ]
  },
  {
   "cell_type": "code",
   "execution_count": 200,
   "metadata": {
    "collapsed": false
   },
   "outputs": [
    {
     "data": {
      "text/plain": [
       "(3.8932714617169375, 4.7333020857745485)"
      ]
     },
     "execution_count": 200,
     "metadata": {},
     "output_type": "execute_result"
    }
   ],
   "source": [
    "BES_Panel.loc[ld_ukip].lr_scale.cat.codes.mean(), BES_Panel.loc[ld_minus_ukip].lr_scale.cat.codes.mean()"
   ]
  },
  {
   "cell_type": "code",
   "execution_count": 199,
   "metadata": {
    "collapsed": false
   },
   "outputs": [
    {
     "data": {
      "text/plain": [
       "(14.491879350348027, 10.220529646121397)"
      ]
     },
     "execution_count": 199,
     "metadata": {},
     "output_type": "execute_result"
    }
   ],
   "source": [
    "BES_Panel.loc[ld_ukip].al_scale.cat.codes.mean(), BES_Panel.loc[ld_minus_ukip].al_scale.cat.codes.mean()"
   ]
  },
  {
   "cell_type": "code",
   "execution_count": 47,
   "metadata": {
    "collapsed": false
   },
   "outputs": [
    {
     "name": "stderr",
     "output_type": "stream",
     "text": [
      "C:\\ANACON~1\\envs\\BES_analysis\\lib\\site-packages\\scipy\\stats\\morestats.py:1684: UserWarning: approximate p-value will be computed by extrapolation\n",
      "  warnings.warn(\"approximate p-value will be computed by extrapolation\")\n"
     ]
    }
   ],
   "source": [
    "and_stat = stats.anderson_ksamp( [ BES_Panel.loc[ld_ukip].al_scale.cat.codes.values,  BES_Panel.loc[ld].al_scale.cat.codes.values ] )"
   ]
  },
  {
   "cell_type": "code",
   "execution_count": 50,
   "metadata": {
    "collapsed": false
   },
   "outputs": [
    {
     "data": {
      "text/plain": [
       "Anderson_ksampResult(statistic=176.84941235866381, critical_values=array([ 0.325,  1.226,  1.961,  2.718,  3.752]), significance_level=1.7000140912547025e+263)"
      ]
     },
     "execution_count": 50,
     "metadata": {},
     "output_type": "execute_result"
    }
   ],
   "source": [
    "and_stat"
   ]
  },
  {
   "cell_type": "code",
   "execution_count": 51,
   "metadata": {
    "collapsed": false
   },
   "outputs": [
    {
     "data": {
      "text/plain": [
       "1.7000140912547025e+263"
      ]
     },
     "execution_count": 51,
     "metadata": {},
     "output_type": "execute_result"
    }
   ],
   "source": [
    "and_stat.significance_level"
   ]
  },
  {
   "cell_type": "code",
   "execution_count": 182,
   "metadata": {
    "collapsed": false
   },
   "outputs": [
    {
     "name": "stderr",
     "output_type": "stream",
     "text": [
      "C:\\ANACON~1\\envs\\BES_analysis\\lib\\site-packages\\scipy\\stats\\morestats.py:1684: UserWarning: approximate p-value will be computed by extrapolation\n",
      "  warnings.warn(\"approximate p-value will be computed by extrapolation\")\n",
      "C:\\ANACON~1\\envs\\BES_analysis\\lib\\site-packages\\scipy\\stats\\morestats.py:1684: UserWarning: approximate p-value will be computed by extrapolation\n",
      "  warnings.warn(\"approximate p-value will be computed by extrapolation\")\n",
      "C:\\ANACON~1\\envs\\BES_analysis\\lib\\site-packages\\scipy\\stats\\morestats.py:1684: UserWarning: approximate p-value will be computed by extrapolation\n",
      "  warnings.warn(\"approximate p-value will be computed by extrapolation\")\n",
      "C:\\ANACON~1\\envs\\BES_analysis\\lib\\site-packages\\scipy\\stats\\morestats.py:1684: UserWarning: approximate p-value will be computed by extrapolation\n",
      "  warnings.warn(\"approximate p-value will be computed by extrapolation\")\n",
      "C:\\ANACON~1\\envs\\BES_analysis\\lib\\site-packages\\scipy\\stats\\morestats.py:1684: UserWarning: approximate p-value will be computed by extrapolation\n",
      "  warnings.warn(\"approximate p-value will be computed by extrapolation\")\n",
      "C:\\ANACON~1\\envs\\BES_analysis\\lib\\site-packages\\scipy\\stats\\morestats.py:1684: UserWarning: approximate p-value will be computed by extrapolation\n",
      "  warnings.warn(\"approximate p-value will be computed by extrapolation\")\n",
      "C:\\ANACON~1\\envs\\BES_analysis\\lib\\site-packages\\scipy\\stats\\morestats.py:1684: UserWarning: approximate p-value will be computed by extrapolation\n",
      "  warnings.warn(\"approximate p-value will be computed by extrapolation\")\n",
      "C:\\ANACON~1\\envs\\BES_analysis\\lib\\site-packages\\scipy\\stats\\morestats.py:1684: UserWarning: approximate p-value will be computed by extrapolation\n",
      "  warnings.warn(\"approximate p-value will be computed by extrapolation\")\n",
      "C:\\ANACON~1\\envs\\BES_analysis\\lib\\site-packages\\scipy\\stats\\morestats.py:1684: UserWarning: approximate p-value will be computed by extrapolation\n",
      "  warnings.warn(\"approximate p-value will be computed by extrapolation\")\n",
      "C:\\ANACON~1\\envs\\BES_analysis\\lib\\site-packages\\scipy\\stats\\morestats.py:1684: UserWarning: approximate p-value will be computed by extrapolation\n",
      "  warnings.warn(\"approximate p-value will be computed by extrapolation\")\n",
      "C:\\ANACON~1\\envs\\BES_analysis\\lib\\site-packages\\scipy\\stats\\morestats.py:1684: UserWarning: approximate p-value will be computed by extrapolation\n",
      "  warnings.warn(\"approximate p-value will be computed by extrapolation\")\n",
      "C:\\ANACON~1\\envs\\BES_analysis\\lib\\site-packages\\scipy\\stats\\morestats.py:1684: UserWarning: approximate p-value will be computed by extrapolation\n",
      "  warnings.warn(\"approximate p-value will be computed by extrapolation\")\n",
      "C:\\ANACON~1\\envs\\BES_analysis\\lib\\site-packages\\scipy\\stats\\morestats.py:1684: UserWarning: approximate p-value will be computed by extrapolation\n",
      "  warnings.warn(\"approximate p-value will be computed by extrapolation\")\n"
     ]
    },
    {
     "name": "stdout",
     "output_type": "stream",
     "text": [
      "('****', 'euRefVote', '****')\n"
     ]
    },
    {
     "name": "stderr",
     "output_type": "stream",
     "text": [
      "C:\\ANACON~1\\envs\\BES_analysis\\lib\\site-packages\\scipy\\stats\\morestats.py:1684: UserWarning: approximate p-value will be computed by extrapolation\n",
      "  warnings.warn(\"approximate p-value will be computed by extrapolation\")\n",
      "C:\\ANACON~1\\envs\\BES_analysis\\lib\\site-packages\\scipy\\stats\\morestats.py:1684: UserWarning: approximate p-value will be computed by extrapolation\n",
      "  warnings.warn(\"approximate p-value will be computed by extrapolation\")\n",
      "C:\\ANACON~1\\envs\\BES_analysis\\lib\\site-packages\\scipy\\stats\\morestats.py:1684: UserWarning: approximate p-value will be computed by extrapolation\n",
      "  warnings.warn(\"approximate p-value will be computed by extrapolation\")\n",
      "C:\\ANACON~1\\envs\\BES_analysis\\lib\\site-packages\\scipy\\stats\\morestats.py:1684: UserWarning: approximate p-value will be computed by extrapolation\n",
      "  warnings.warn(\"approximate p-value will be computed by extrapolation\")\n",
      "C:\\ANACON~1\\envs\\BES_analysis\\lib\\site-packages\\scipy\\stats\\morestats.py:1684: UserWarning: approximate p-value will be computed by extrapolation\n",
      "  warnings.warn(\"approximate p-value will be computed by extrapolation\")\n",
      "C:\\ANACON~1\\envs\\BES_analysis\\lib\\site-packages\\scipy\\stats\\morestats.py:1684: UserWarning: approximate p-value will be computed by extrapolation\n",
      "  warnings.warn(\"approximate p-value will be computed by extrapolation\")\n",
      "C:\\ANACON~1\\envs\\BES_analysis\\lib\\site-packages\\scipy\\stats\\morestats.py:1684: UserWarning: approximate p-value will be computed by extrapolation\n",
      "  warnings.warn(\"approximate p-value will be computed by extrapolation\")\n",
      "C:\\ANACON~1\\envs\\BES_analysis\\lib\\site-packages\\scipy\\stats\\morestats.py:1684: UserWarning: approximate p-value will be computed by extrapolation\n",
      "  warnings.warn(\"approximate p-value will be computed by extrapolation\")\n",
      "C:\\ANACON~1\\envs\\BES_analysis\\lib\\site-packages\\scipy\\stats\\morestats.py:1684: UserWarning: approximate p-value will be computed by extrapolation\n",
      "  warnings.warn(\"approximate p-value will be computed by extrapolation\")\n",
      "C:\\ANACON~1\\envs\\BES_analysis\\lib\\site-packages\\scipy\\stats\\morestats.py:1684: UserWarning: approximate p-value will be computed by extrapolation\n",
      "  warnings.warn(\"approximate p-value will be computed by extrapolation\")\n",
      "C:\\ANACON~1\\envs\\BES_analysis\\lib\\site-packages\\scipy\\stats\\morestats.py:1684: UserWarning: approximate p-value will be computed by extrapolation\n",
      "  warnings.warn(\"approximate p-value will be computed by extrapolation\")\n"
     ]
    },
    {
     "name": "stdout",
     "output_type": "stream",
     "text": [
      "('****', 'europeanness', '****')\n"
     ]
    },
    {
     "name": "stderr",
     "output_type": "stream",
     "text": [
      "C:\\ANACON~1\\envs\\BES_analysis\\lib\\site-packages\\scipy\\stats\\morestats.py:1684: UserWarning: approximate p-value will be computed by extrapolation\n",
      "  warnings.warn(\"approximate p-value will be computed by extrapolation\")\n",
      "C:\\ANACON~1\\envs\\BES_analysis\\lib\\site-packages\\scipy\\stats\\morestats.py:1684: UserWarning: approximate p-value will be computed by extrapolation\n",
      "  warnings.warn(\"approximate p-value will be computed by extrapolation\")\n",
      "C:\\ANACON~1\\envs\\BES_analysis\\lib\\site-packages\\scipy\\stats\\morestats.py:1684: UserWarning: approximate p-value will be computed by extrapolation\n",
      "  warnings.warn(\"approximate p-value will be computed by extrapolation\")\n",
      "C:\\ANACON~1\\envs\\BES_analysis\\lib\\site-packages\\scipy\\stats\\morestats.py:1684: UserWarning: approximate p-value will be computed by extrapolation\n",
      "  warnings.warn(\"approximate p-value will be computed by extrapolation\")\n",
      "C:\\ANACON~1\\envs\\BES_analysis\\lib\\site-packages\\scipy\\stats\\morestats.py:1684: UserWarning: approximate p-value will be computed by extrapolation\n",
      "  warnings.warn(\"approximate p-value will be computed by extrapolation\")\n",
      "C:\\ANACON~1\\envs\\BES_analysis\\lib\\site-packages\\scipy\\stats\\morestats.py:1684: UserWarning: approximate p-value will be computed by extrapolation\n",
      "  warnings.warn(\"approximate p-value will be computed by extrapolation\")\n"
     ]
    },
    {
     "name": "stdout",
     "output_type": "stream",
     "text": [
      "('****', 'likeFarage', '****')\n"
     ]
    },
    {
     "name": "stderr",
     "output_type": "stream",
     "text": [
      "C:\\ANACON~1\\envs\\BES_analysis\\lib\\site-packages\\scipy\\stats\\morestats.py:1684: UserWarning: approximate p-value will be computed by extrapolation\n",
      "  warnings.warn(\"approximate p-value will be computed by extrapolation\")\n",
      "C:\\ANACON~1\\envs\\BES_analysis\\lib\\site-packages\\scipy\\stats\\morestats.py:1684: UserWarning: approximate p-value will be computed by extrapolation\n",
      "  warnings.warn(\"approximate p-value will be computed by extrapolation\")\n"
     ]
    },
    {
     "name": "stdout",
     "output_type": "stream",
     "text": [
      "('****', 'likeBoris', '****')\n"
     ]
    },
    {
     "name": "stderr",
     "output_type": "stream",
     "text": [
      "C:\\ANACON~1\\envs\\BES_analysis\\lib\\site-packages\\scipy\\stats\\morestats.py:1684: UserWarning: approximate p-value will be computed by extrapolation\n",
      "  warnings.warn(\"approximate p-value will be computed by extrapolation\")\n",
      "C:\\ANACON~1\\envs\\BES_analysis\\lib\\site-packages\\scipy\\stats\\morestats.py:1684: UserWarning: approximate p-value will be computed by extrapolation\n",
      "  warnings.warn(\"approximate p-value will be computed by extrapolation\")\n",
      "C:\\ANACON~1\\envs\\BES_analysis\\lib\\site-packages\\scipy\\stats\\morestats.py:1684: UserWarning: approximate p-value will be computed by extrapolation\n",
      "  warnings.warn(\"approximate p-value will be computed by extrapolation\")\n",
      "C:\\ANACON~1\\envs\\BES_analysis\\lib\\site-packages\\scipy\\stats\\morestats.py:1684: UserWarning: approximate p-value will be computed by extrapolation\n",
      "  warnings.warn(\"approximate p-value will be computed by extrapolation\")\n",
      "C:\\ANACON~1\\envs\\BES_analysis\\lib\\site-packages\\scipy\\stats\\morestats.py:1684: UserWarning: approximate p-value will be computed by extrapolation\n",
      "  warnings.warn(\"approximate p-value will be computed by extrapolation\")\n",
      "C:\\ANACON~1\\envs\\BES_analysis\\lib\\site-packages\\scipy\\stats\\morestats.py:1684: UserWarning: approximate p-value will be computed by extrapolation\n",
      "  warnings.warn(\"approximate p-value will be computed by extrapolation\")\n",
      "C:\\ANACON~1\\envs\\BES_analysis\\lib\\site-packages\\scipy\\stats\\morestats.py:1684: UserWarning: approximate p-value will be computed by extrapolation\n",
      "  warnings.warn(\"approximate p-value will be computed by extrapolation\")\n",
      "C:\\ANACON~1\\envs\\BES_analysis\\lib\\site-packages\\scipy\\stats\\morestats.py:1684: UserWarning: approximate p-value will be computed by extrapolation\n",
      "  warnings.warn(\"approximate p-value will be computed by extrapolation\")\n",
      "C:\\ANACON~1\\envs\\BES_analysis\\lib\\site-packages\\scipy\\stats\\morestats.py:1684: UserWarning: approximate p-value will be computed by extrapolation\n",
      "  warnings.warn(\"approximate p-value will be computed by extrapolation\")\n",
      "C:\\ANACON~1\\envs\\BES_analysis\\lib\\site-packages\\scipy\\stats\\morestats.py:1684: UserWarning: approximate p-value will be computed by extrapolation\n",
      "  warnings.warn(\"approximate p-value will be computed by extrapolation\")\n"
     ]
    },
    {
     "name": "stdout",
     "output_type": "stream",
     "text": [
      "('****', 'likeUKIP', '****')\n"
     ]
    },
    {
     "name": "stderr",
     "output_type": "stream",
     "text": [
      "C:\\ANACON~1\\envs\\BES_analysis\\lib\\site-packages\\scipy\\stats\\morestats.py:1684: UserWarning: approximate p-value will be computed by extrapolation\n",
      "  warnings.warn(\"approximate p-value will be computed by extrapolation\")\n",
      "C:\\ANACON~1\\envs\\BES_analysis\\lib\\site-packages\\scipy\\stats\\morestats.py:1684: UserWarning: approximate p-value will be computed by extrapolation\n",
      "  warnings.warn(\"approximate p-value will be computed by extrapolation\")\n",
      "C:\\ANACON~1\\envs\\BES_analysis\\lib\\site-packages\\scipy\\stats\\morestats.py:1684: UserWarning: approximate p-value will be computed by extrapolation\n",
      "  warnings.warn(\"approximate p-value will be computed by extrapolation\")\n",
      "C:\\ANACON~1\\envs\\BES_analysis\\lib\\site-packages\\scipy\\stats\\morestats.py:1684: UserWarning: approximate p-value will be computed by extrapolation\n",
      "  warnings.warn(\"approximate p-value will be computed by extrapolation\")\n",
      "C:\\ANACON~1\\envs\\BES_analysis\\lib\\site-packages\\scipy\\stats\\morestats.py:1684: UserWarning: approximate p-value will be computed by extrapolation\n",
      "  warnings.warn(\"approximate p-value will be computed by extrapolation\")\n"
     ]
    },
    {
     "name": "stdout",
     "output_type": "stream",
     "text": [
      "('****', 'changeImmig', '****')\n"
     ]
    },
    {
     "name": "stderr",
     "output_type": "stream",
     "text": [
      "C:\\ANACON~1\\envs\\BES_analysis\\lib\\site-packages\\scipy\\stats\\morestats.py:1684: UserWarning: approximate p-value will be computed by extrapolation\n",
      "  warnings.warn(\"approximate p-value will be computed by extrapolation\")\n",
      "C:\\ANACON~1\\envs\\BES_analysis\\lib\\site-packages\\scipy\\stats\\morestats.py:1684: UserWarning: approximate p-value will be computed by extrapolation\n",
      "  warnings.warn(\"approximate p-value will be computed by extrapolation\")\n",
      "C:\\ANACON~1\\envs\\BES_analysis\\lib\\site-packages\\scipy\\stats\\morestats.py:1684: UserWarning: approximate p-value will be computed by extrapolation\n",
      "  warnings.warn(\"approximate p-value will be computed by extrapolation\")\n",
      "C:\\ANACON~1\\envs\\BES_analysis\\lib\\site-packages\\scipy\\stats\\morestats.py:1684: UserWarning: approximate p-value will be computed by extrapolation\n",
      "  warnings.warn(\"approximate p-value will be computed by extrapolation\")\n",
      "C:\\ANACON~1\\envs\\BES_analysis\\lib\\site-packages\\scipy\\stats\\morestats.py:1684: UserWarning: approximate p-value will be computed by extrapolation\n",
      "  warnings.warn(\"approximate p-value will be computed by extrapolation\")\n",
      "C:\\ANACON~1\\envs\\BES_analysis\\lib\\site-packages\\scipy\\stats\\morestats.py:1684: UserWarning: approximate p-value will be computed by extrapolation\n",
      "  warnings.warn(\"approximate p-value will be computed by extrapolation\")\n",
      "C:\\ANACON~1\\envs\\BES_analysis\\lib\\site-packages\\scipy\\stats\\morestats.py:1684: UserWarning: approximate p-value will be computed by extrapolation\n",
      "  warnings.warn(\"approximate p-value will be computed by extrapolation\")\n",
      "C:\\ANACON~1\\envs\\BES_analysis\\lib\\site-packages\\scipy\\stats\\morestats.py:1684: UserWarning: approximate p-value will be computed by extrapolation\n",
      "  warnings.warn(\"approximate p-value will be computed by extrapolation\")\n",
      "C:\\ANACON~1\\envs\\BES_analysis\\lib\\site-packages\\scipy\\stats\\morestats.py:1684: UserWarning: approximate p-value will be computed by extrapolation\n",
      "  warnings.warn(\"approximate p-value will be computed by extrapolation\")\n",
      "C:\\ANACON~1\\envs\\BES_analysis\\lib\\site-packages\\scipy\\stats\\morestats.py:1684: UserWarning: approximate p-value will be computed by extrapolation\n",
      "  warnings.warn(\"approximate p-value will be computed by extrapolation\")\n",
      "C:\\ANACON~1\\envs\\BES_analysis\\lib\\site-packages\\scipy\\stats\\morestats.py:1684: UserWarning: approximate p-value will be computed by extrapolation\n",
      "  warnings.warn(\"approximate p-value will be computed by extrapolation\")\n",
      "C:\\ANACON~1\\envs\\BES_analysis\\lib\\site-packages\\scipy\\stats\\morestats.py:1684: UserWarning: approximate p-value will be computed by extrapolation\n",
      "  warnings.warn(\"approximate p-value will be computed by extrapolation\")\n",
      "C:\\ANACON~1\\envs\\BES_analysis\\lib\\site-packages\\scipy\\stats\\morestats.py:1684: UserWarning: approximate p-value will be computed by extrapolation\n",
      "  warnings.warn(\"approximate p-value will be computed by extrapolation\")\n"
     ]
    },
    {
     "name": "stdout",
     "output_type": "stream",
     "text": [
      "('****', 'EUIntegrationSelf', '****')\n"
     ]
    },
    {
     "name": "stderr",
     "output_type": "stream",
     "text": [
      "C:\\ANACON~1\\envs\\BES_analysis\\lib\\site-packages\\scipy\\stats\\morestats.py:1684: UserWarning: approximate p-value will be computed by extrapolation\n",
      "  warnings.warn(\"approximate p-value will be computed by extrapolation\")\n",
      "C:\\ANACON~1\\envs\\BES_analysis\\lib\\site-packages\\scipy\\stats\\morestats.py:1684: UserWarning: approximate p-value will be computed by extrapolation\n",
      "  warnings.warn(\"approximate p-value will be computed by extrapolation\")\n",
      "C:\\ANACON~1\\envs\\BES_analysis\\lib\\site-packages\\scipy\\stats\\morestats.py:1684: UserWarning: approximate p-value will be computed by extrapolation\n",
      "  warnings.warn(\"approximate p-value will be computed by extrapolation\")\n",
      "C:\\ANACON~1\\envs\\BES_analysis\\lib\\site-packages\\scipy\\stats\\morestats.py:1684: UserWarning: approximate p-value will be computed by extrapolation\n",
      "  warnings.warn(\"approximate p-value will be computed by extrapolation\")\n",
      "C:\\ANACON~1\\envs\\BES_analysis\\lib\\site-packages\\scipy\\stats\\morestats.py:1684: UserWarning: approximate p-value will be computed by extrapolation\n",
      "  warnings.warn(\"approximate p-value will be computed by extrapolation\")\n",
      "C:\\ANACON~1\\envs\\BES_analysis\\lib\\site-packages\\scipy\\stats\\morestats.py:1684: UserWarning: approximate p-value will be computed by extrapolation\n",
      "  warnings.warn(\"approximate p-value will be computed by extrapolation\")\n",
      "C:\\ANACON~1\\envs\\BES_analysis\\lib\\site-packages\\scipy\\stats\\morestats.py:1684: UserWarning: approximate p-value will be computed by extrapolation\n",
      "  warnings.warn(\"approximate p-value will be computed by extrapolation\")\n",
      "C:\\ANACON~1\\envs\\BES_analysis\\lib\\site-packages\\scipy\\stats\\morestats.py:1684: UserWarning: approximate p-value will be computed by extrapolation\n",
      "  warnings.warn(\"approximate p-value will be computed by extrapolation\")\n",
      "C:\\ANACON~1\\envs\\BES_analysis\\lib\\site-packages\\scipy\\stats\\morestats.py:1684: UserWarning: approximate p-value will be computed by extrapolation\n",
      "  warnings.warn(\"approximate p-value will be computed by extrapolation\")\n",
      "C:\\ANACON~1\\envs\\BES_analysis\\lib\\site-packages\\scipy\\stats\\morestats.py:1684: UserWarning: approximate p-value will be computed by extrapolation\n",
      "  warnings.warn(\"approximate p-value will be computed by extrapolation\")\n",
      "C:\\ANACON~1\\envs\\BES_analysis\\lib\\site-packages\\scipy\\stats\\morestats.py:1684: UserWarning: approximate p-value will be computed by extrapolation\n",
      "  warnings.warn(\"approximate p-value will be computed by extrapolation\")\n",
      "C:\\ANACON~1\\envs\\BES_analysis\\lib\\site-packages\\scipy\\stats\\morestats.py:1684: UserWarning: approximate p-value will be computed by extrapolation\n",
      "  warnings.warn(\"approximate p-value will be computed by extrapolation\")\n",
      "C:\\ANACON~1\\envs\\BES_analysis\\lib\\site-packages\\scipy\\stats\\morestats.py:1684: UserWarning: approximate p-value will be computed by extrapolation\n",
      "  warnings.warn(\"approximate p-value will be computed by extrapolation\")\n",
      "C:\\ANACON~1\\envs\\BES_analysis\\lib\\site-packages\\scipy\\stats\\morestats.py:1684: UserWarning: approximate p-value will be computed by extrapolation\n",
      "  warnings.warn(\"approximate p-value will be computed by extrapolation\")\n",
      "C:\\ANACON~1\\envs\\BES_analysis\\lib\\site-packages\\scipy\\stats\\morestats.py:1684: UserWarning: approximate p-value will be computed by extrapolation\n",
      "  warnings.warn(\"approximate p-value will be computed by extrapolation\")\n",
      "C:\\ANACON~1\\envs\\BES_analysis\\lib\\site-packages\\scipy\\stats\\morestats.py:1684: UserWarning: approximate p-value will be computed by extrapolation\n",
      "  warnings.warn(\"approximate p-value will be computed by extrapolation\")\n",
      "C:\\ANACON~1\\envs\\BES_analysis\\lib\\site-packages\\scipy\\stats\\morestats.py:1684: UserWarning: approximate p-value will be computed by extrapolation\n",
      "  warnings.warn(\"approximate p-value will be computed by extrapolation\")\n",
      "C:\\ANACON~1\\envs\\BES_analysis\\lib\\site-packages\\scipy\\stats\\morestats.py:1684: UserWarning: approximate p-value will be computed by extrapolation\n",
      "  warnings.warn(\"approximate p-value will be computed by extrapolation\")\n",
      "C:\\ANACON~1\\envs\\BES_analysis\\lib\\site-packages\\scipy\\stats\\morestats.py:1684: UserWarning: approximate p-value will be computed by extrapolation\n",
      "  warnings.warn(\"approximate p-value will be computed by extrapolation\")\n",
      "C:\\ANACON~1\\envs\\BES_analysis\\lib\\site-packages\\scipy\\stats\\morestats.py:1684: UserWarning: approximate p-value will be computed by extrapolation\n",
      "  warnings.warn(\"approximate p-value will be computed by extrapolation\")\n",
      "C:\\ANACON~1\\envs\\BES_analysis\\lib\\site-packages\\scipy\\stats\\morestats.py:1684: UserWarning: approximate p-value will be computed by extrapolation\n",
      "  warnings.warn(\"approximate p-value will be computed by extrapolation\")\n",
      "C:\\ANACON~1\\envs\\BES_analysis\\lib\\site-packages\\scipy\\stats\\morestats.py:1684: UserWarning: approximate p-value will be computed by extrapolation\n",
      "  warnings.warn(\"approximate p-value will be computed by extrapolation\")\n",
      "C:\\ANACON~1\\envs\\BES_analysis\\lib\\site-packages\\scipy\\stats\\morestats.py:1684: UserWarning: approximate p-value will be computed by extrapolation\n",
      "  warnings.warn(\"approximate p-value will be computed by extrapolation\")\n",
      "C:\\ANACON~1\\envs\\BES_analysis\\lib\\site-packages\\scipy\\stats\\morestats.py:1684: UserWarning: approximate p-value will be computed by extrapolation\n",
      "  warnings.warn(\"approximate p-value will be computed by extrapolation\")\n"
     ]
    },
    {
     "name": "stdout",
     "output_type": "stream",
     "text": [
      "('****', 'ukCoopTrade', '****')\n"
     ]
    },
    {
     "name": "stderr",
     "output_type": "stream",
     "text": [
      "C:\\ANACON~1\\envs\\BES_analysis\\lib\\site-packages\\scipy\\stats\\morestats.py:1684: UserWarning: approximate p-value will be computed by extrapolation\n",
      "  warnings.warn(\"approximate p-value will be computed by extrapolation\")\n"
     ]
    },
    {
     "name": "stdout",
     "output_type": "stream",
     "text": [
      "('****', 'ukCoopWorkers', '****')\n"
     ]
    },
    {
     "name": "stderr",
     "output_type": "stream",
     "text": [
      "C:\\ANACON~1\\envs\\BES_analysis\\lib\\site-packages\\scipy\\stats\\morestats.py:1684: UserWarning: approximate p-value will be computed by extrapolation\n",
      "  warnings.warn(\"approximate p-value will be computed by extrapolation\")\n",
      "C:\\ANACON~1\\envs\\BES_analysis\\lib\\site-packages\\scipy\\stats\\morestats.py:1684: UserWarning: approximate p-value will be computed by extrapolation\n",
      "  warnings.warn(\"approximate p-value will be computed by extrapolation\")\n"
     ]
    },
    {
     "name": "stdout",
     "output_type": "stream",
     "text": [
      "('****', 'ukCoopMovement', '****')\n"
     ]
    },
    {
     "name": "stderr",
     "output_type": "stream",
     "text": [
      "C:\\ANACON~1\\envs\\BES_analysis\\lib\\site-packages\\scipy\\stats\\morestats.py:1684: UserWarning: approximate p-value will be computed by extrapolation\n",
      "  warnings.warn(\"approximate p-value will be computed by extrapolation\")\n",
      "C:\\ANACON~1\\envs\\BES_analysis\\lib\\site-packages\\scipy\\stats\\morestats.py:1684: UserWarning: approximate p-value will be computed by extrapolation\n",
      "  warnings.warn(\"approximate p-value will be computed by extrapolation\")\n"
     ]
    },
    {
     "name": "stdout",
     "output_type": "stream",
     "text": [
      "('****', 'effectsEUUnemployment', '****')\n"
     ]
    },
    {
     "name": "stderr",
     "output_type": "stream",
     "text": [
      "C:\\ANACON~1\\envs\\BES_analysis\\lib\\site-packages\\scipy\\stats\\morestats.py:1684: UserWarning: approximate p-value will be computed by extrapolation\n",
      "  warnings.warn(\"approximate p-value will be computed by extrapolation\")\n"
     ]
    },
    {
     "name": "stdout",
     "output_type": "stream",
     "text": [
      "('****', 'effectsEUTrade', '****')\n"
     ]
    },
    {
     "name": "stderr",
     "output_type": "stream",
     "text": [
      "C:\\ANACON~1\\envs\\BES_analysis\\lib\\site-packages\\scipy\\stats\\morestats.py:1684: UserWarning: approximate p-value will be computed by extrapolation\n",
      "  warnings.warn(\"approximate p-value will be computed by extrapolation\")\n"
     ]
    },
    {
     "name": "stdout",
     "output_type": "stream",
     "text": [
      "('****', 'effectsEUImmigration', '****')\n"
     ]
    },
    {
     "name": "stderr",
     "output_type": "stream",
     "text": [
      "C:\\ANACON~1\\envs\\BES_analysis\\lib\\site-packages\\scipy\\stats\\morestats.py:1684: UserWarning: approximate p-value will be computed by extrapolation\n",
      "  warnings.warn(\"approximate p-value will be computed by extrapolation\")\n"
     ]
    },
    {
     "name": "stdout",
     "output_type": "stream",
     "text": [
      "('****', 'effectsEUTerror', '****')\n"
     ]
    },
    {
     "name": "stderr",
     "output_type": "stream",
     "text": [
      "C:\\ANACON~1\\envs\\BES_analysis\\lib\\site-packages\\scipy\\stats\\morestats.py:1684: UserWarning: approximate p-value will be computed by extrapolation\n",
      "  warnings.warn(\"approximate p-value will be computed by extrapolation\")\n"
     ]
    },
    {
     "name": "stdout",
     "output_type": "stream",
     "text": [
      "('****', 'euLeaveVoice', '****')\n"
     ]
    },
    {
     "name": "stderr",
     "output_type": "stream",
     "text": [
      "C:\\ANACON~1\\envs\\BES_analysis\\lib\\site-packages\\scipy\\stats\\morestats.py:1684: UserWarning: approximate p-value will be computed by extrapolation\n",
      "  warnings.warn(\"approximate p-value will be computed by extrapolation\")\n"
     ]
    },
    {
     "name": "stdout",
     "output_type": "stream",
     "text": [
      "('****', 'effectsEUWorkers', '****')\n"
     ]
    },
    {
     "name": "stderr",
     "output_type": "stream",
     "text": [
      "C:\\ANACON~1\\envs\\BES_analysis\\lib\\site-packages\\scipy\\stats\\morestats.py:1684: UserWarning: approximate p-value will be computed by extrapolation\n",
      "  warnings.warn(\"approximate p-value will be computed by extrapolation\")\n"
     ]
    },
    {
     "name": "stdout",
     "output_type": "stream",
     "text": [
      "('****', 'effectsEUEcon', '****')\n"
     ]
    },
    {
     "name": "stderr",
     "output_type": "stream",
     "text": [
      "C:\\ANACON~1\\envs\\BES_analysis\\lib\\site-packages\\scipy\\stats\\morestats.py:1684: UserWarning: approximate p-value will be computed by extrapolation\n",
      "  warnings.warn(\"approximate p-value will be computed by extrapolation\")\n",
      "C:\\ANACON~1\\envs\\BES_analysis\\lib\\site-packages\\scipy\\stats\\morestats.py:1684: UserWarning: approximate p-value will be computed by extrapolation\n",
      "  warnings.warn(\"approximate p-value will be computed by extrapolation\")\n"
     ]
    },
    {
     "name": "stdout",
     "output_type": "stream",
     "text": [
      "('****', 'effectsEUNHS', '****')\n"
     ]
    },
    {
     "name": "stderr",
     "output_type": "stream",
     "text": [
      "C:\\ANACON~1\\envs\\BES_analysis\\lib\\site-packages\\scipy\\stats\\morestats.py:1684: UserWarning: approximate p-value will be computed by extrapolation\n",
      "  warnings.warn(\"approximate p-value will be computed by extrapolation\")\n"
     ]
    },
    {
     "name": "stdout",
     "output_type": "stream",
     "text": [
      "('****', 'euLeaveBigBusiness', '****')\n"
     ]
    },
    {
     "name": "stderr",
     "output_type": "stream",
     "text": [
      "C:\\ANACON~1\\envs\\BES_analysis\\lib\\site-packages\\scipy\\stats\\morestats.py:1684: UserWarning: approximate p-value will be computed by extrapolation\n",
      "  warnings.warn(\"approximate p-value will be computed by extrapolation\")\n",
      "C:\\ANACON~1\\envs\\BES_analysis\\lib\\site-packages\\scipy\\stats\\morestats.py:1684: UserWarning: approximate p-value will be computed by extrapolation\n",
      "  warnings.warn(\"approximate p-value will be computed by extrapolation\")\n",
      "C:\\ANACON~1\\envs\\BES_analysis\\lib\\site-packages\\scipy\\stats\\morestats.py:1684: UserWarning: approximate p-value will be computed by extrapolation\n",
      "  warnings.warn(\"approximate p-value will be computed by extrapolation\")\n",
      "C:\\ANACON~1\\envs\\BES_analysis\\lib\\site-packages\\scipy\\stats\\morestats.py:1684: UserWarning: approximate p-value will be computed by extrapolation\n",
      "  warnings.warn(\"approximate p-value will be computed by extrapolation\")\n",
      "C:\\ANACON~1\\envs\\BES_analysis\\lib\\site-packages\\scipy\\stats\\morestats.py:1684: UserWarning: approximate p-value will be computed by extrapolation\n",
      "  warnings.warn(\"approximate p-value will be computed by extrapolation\")\n",
      "C:\\ANACON~1\\envs\\BES_analysis\\lib\\site-packages\\scipy\\stats\\morestats.py:1684: UserWarning: approximate p-value will be computed by extrapolation\n",
      "  warnings.warn(\"approximate p-value will be computed by extrapolation\")\n",
      "C:\\ANACON~1\\envs\\BES_analysis\\lib\\site-packages\\scipy\\stats\\morestats.py:1684: UserWarning: approximate p-value will be computed by extrapolation\n",
      "  warnings.warn(\"approximate p-value will be computed by extrapolation\")\n",
      "C:\\ANACON~1\\envs\\BES_analysis\\lib\\site-packages\\scipy\\stats\\morestats.py:1684: UserWarning: approximate p-value will be computed by extrapolation\n",
      "  warnings.warn(\"approximate p-value will be computed by extrapolation\")\n",
      "C:\\ANACON~1\\envs\\BES_analysis\\lib\\site-packages\\scipy\\stats\\morestats.py:1684: UserWarning: approximate p-value will be computed by extrapolation\n",
      "  warnings.warn(\"approximate p-value will be computed by extrapolation\")\n",
      "C:\\ANACON~1\\envs\\BES_analysis\\lib\\site-packages\\scipy\\stats\\morestats.py:1684: UserWarning: approximate p-value will be computed by extrapolation\n",
      "  warnings.warn(\"approximate p-value will be computed by extrapolation\")\n",
      "C:\\ANACON~1\\envs\\BES_analysis\\lib\\site-packages\\scipy\\stats\\morestats.py:1684: UserWarning: approximate p-value will be computed by extrapolation\n",
      "  warnings.warn(\"approximate p-value will be computed by extrapolation\")\n",
      "C:\\ANACON~1\\envs\\BES_analysis\\lib\\site-packages\\scipy\\stats\\morestats.py:1684: UserWarning: approximate p-value will be computed by extrapolation\n",
      "  warnings.warn(\"approximate p-value will be computed by extrapolation\")\n"
     ]
    },
    {
     "name": "stdout",
     "output_type": "stream",
     "text": [
      "('****', 'britainFairShare', '****')\n"
     ]
    },
    {
     "name": "stderr",
     "output_type": "stream",
     "text": [
      "C:\\ANACON~1\\envs\\BES_analysis\\lib\\site-packages\\scipy\\stats\\morestats.py:1684: UserWarning: approximate p-value will be computed by extrapolation\n",
      "  warnings.warn(\"approximate p-value will be computed by extrapolation\")\n",
      "C:\\ANACON~1\\envs\\BES_analysis\\lib\\site-packages\\scipy\\stats\\morestats.py:1684: UserWarning: approximate p-value will be computed by extrapolation\n",
      "  warnings.warn(\"approximate p-value will be computed by extrapolation\")\n"
     ]
    },
    {
     "name": "stdout",
     "output_type": "stream",
     "text": [
      "('****', 'euPreventWar', '****')\n"
     ]
    },
    {
     "name": "stderr",
     "output_type": "stream",
     "text": [
      "C:\\ANACON~1\\envs\\BES_analysis\\lib\\site-packages\\scipy\\stats\\morestats.py:1684: UserWarning: approximate p-value will be computed by extrapolation\n",
      "  warnings.warn(\"approximate p-value will be computed by extrapolation\")\n"
     ]
    },
    {
     "name": "stdout",
     "output_type": "stream",
     "text": [
      "('****', 'euUKRich', '****')\n"
     ]
    },
    {
     "name": "stderr",
     "output_type": "stream",
     "text": [
      "C:\\ANACON~1\\envs\\BES_analysis\\lib\\site-packages\\scipy\\stats\\morestats.py:1684: UserWarning: approximate p-value will be computed by extrapolation\n",
      "  warnings.warn(\"approximate p-value will be computed by extrapolation\")\n"
     ]
    },
    {
     "name": "stdout",
     "output_type": "stream",
     "text": [
      "('****', 'euCloser', '****')\n"
     ]
    },
    {
     "name": "stderr",
     "output_type": "stream",
     "text": [
      "C:\\ANACON~1\\envs\\BES_analysis\\lib\\site-packages\\scipy\\stats\\morestats.py:1684: UserWarning: approximate p-value will be computed by extrapolation\n",
      "  warnings.warn(\"approximate p-value will be computed by extrapolation\")\n"
     ]
    },
    {
     "name": "stdout",
     "output_type": "stream",
     "text": [
      "('****', 'UKsovereignty', '****')\n"
     ]
    },
    {
     "name": "stderr",
     "output_type": "stream",
     "text": [
      "C:\\ANACON~1\\envs\\BES_analysis\\lib\\site-packages\\scipy\\stats\\morestats.py:1684: UserWarning: approximate p-value will be computed by extrapolation\n",
      "  warnings.warn(\"approximate p-value will be computed by extrapolation\")\n",
      "C:\\ANACON~1\\envs\\BES_analysis\\lib\\site-packages\\scipy\\stats\\morestats.py:1684: UserWarning: approximate p-value will be computed by extrapolation\n",
      "  warnings.warn(\"approximate p-value will be computed by extrapolation\")\n",
      "C:\\ANACON~1\\envs\\BES_analysis\\lib\\site-packages\\scipy\\stats\\morestats.py:1684: UserWarning: approximate p-value will be computed by extrapolation\n",
      "  warnings.warn(\"approximate p-value will be computed by extrapolation\")\n",
      "C:\\ANACON~1\\envs\\BES_analysis\\lib\\site-packages\\scipy\\stats\\morestats.py:1684: UserWarning: approximate p-value will be computed by extrapolation\n",
      "  warnings.warn(\"approximate p-value will be computed by extrapolation\")\n"
     ]
    },
    {
     "name": "stdout",
     "output_type": "stream",
     "text": [
      "('****', 'turkey', '****')\n"
     ]
    },
    {
     "name": "stderr",
     "output_type": "stream",
     "text": [
      "C:\\ANACON~1\\envs\\BES_analysis\\lib\\site-packages\\scipy\\stats\\morestats.py:1684: UserWarning: approximate p-value will be computed by extrapolation\n",
      "  warnings.warn(\"approximate p-value will be computed by extrapolation\")\n"
     ]
    },
    {
     "name": "stdout",
     "output_type": "stream",
     "text": [
      "('****', 'euParlOverRide', '****')\n"
     ]
    },
    {
     "name": "stderr",
     "output_type": "stream",
     "text": [
      "C:\\ANACON~1\\envs\\BES_analysis\\lib\\site-packages\\scipy\\stats\\morestats.py:1684: UserWarning: approximate p-value will be computed by extrapolation\n",
      "  warnings.warn(\"approximate p-value will be computed by extrapolation\")\n"
     ]
    },
    {
     "name": "stdout",
     "output_type": "stream",
     "text": [
      "('****', 'euLawsLevel', '****')\n"
     ]
    },
    {
     "name": "stderr",
     "output_type": "stream",
     "text": [
      "C:\\ANACON~1\\envs\\BES_analysis\\lib\\site-packages\\scipy\\stats\\morestats.py:1684: UserWarning: approximate p-value will be computed by extrapolation\n",
      "  warnings.warn(\"approximate p-value will be computed by extrapolation\")\n"
     ]
    },
    {
     "name": "stdout",
     "output_type": "stream",
     "text": [
      "('****', 'echr', '****')\n"
     ]
    },
    {
     "name": "stderr",
     "output_type": "stream",
     "text": [
      "C:\\ANACON~1\\envs\\BES_analysis\\lib\\site-packages\\scipy\\stats\\morestats.py:1684: UserWarning: approximate p-value will be computed by extrapolation\n",
      "  warnings.warn(\"approximate p-value will be computed by extrapolation\")\n"
     ]
    },
    {
     "name": "stdout",
     "output_type": "stream",
     "text": [
      "('****', 'normEU', '****')\n"
     ]
    },
    {
     "name": "stderr",
     "output_type": "stream",
     "text": [
      "C:\\ANACON~1\\envs\\BES_analysis\\lib\\site-packages\\scipy\\stats\\morestats.py:1684: UserWarning: approximate p-value will be computed by extrapolation\n",
      "  warnings.warn(\"approximate p-value will be computed by extrapolation\")\n"
     ]
    },
    {
     "name": "stdout",
     "output_type": "stream",
     "text": [
      "('****', 'euUndermineIdentity', '****')\n"
     ]
    },
    {
     "name": "stderr",
     "output_type": "stream",
     "text": [
      "C:\\ANACON~1\\envs\\BES_analysis\\lib\\site-packages\\scipy\\stats\\morestats.py:1684: UserWarning: approximate p-value will be computed by extrapolation\n",
      "  warnings.warn(\"approximate p-value will be computed by extrapolation\")\n",
      "C:\\ANACON~1\\envs\\BES_analysis\\lib\\site-packages\\scipy\\stats\\morestats.py:1684: UserWarning: approximate p-value will be computed by extrapolation\n",
      "  warnings.warn(\"approximate p-value will be computed by extrapolation\")\n",
      "C:\\ANACON~1\\envs\\BES_analysis\\lib\\site-packages\\scipy\\stats\\morestats.py:1684: UserWarning: approximate p-value will be computed by extrapolation\n",
      "  warnings.warn(\"approximate p-value will be computed by extrapolation\")\n",
      "C:\\ANACON~1\\envs\\BES_analysis\\lib\\site-packages\\scipy\\stats\\morestats.py:1684: UserWarning: approximate p-value will be computed by extrapolation\n",
      "  warnings.warn(\"approximate p-value will be computed by extrapolation\")\n",
      "C:\\ANACON~1\\envs\\BES_analysis\\lib\\site-packages\\scipy\\stats\\morestats.py:1684: UserWarning: approximate p-value will be computed by extrapolation\n",
      "  warnings.warn(\"approximate p-value will be computed by extrapolation\")\n",
      "C:\\ANACON~1\\envs\\BES_analysis\\lib\\site-packages\\scipy\\stats\\morestats.py:1684: UserWarning: approximate p-value will be computed by extrapolation\n",
      "  warnings.warn(\"approximate p-value will be computed by extrapolation\")\n",
      "C:\\ANACON~1\\envs\\BES_analysis\\lib\\site-packages\\scipy\\stats\\morestats.py:1684: UserWarning: approximate p-value will be computed by extrapolation\n",
      "  warnings.warn(\"approximate p-value will be computed by extrapolation\")\n",
      "C:\\ANACON~1\\envs\\BES_analysis\\lib\\site-packages\\scipy\\stats\\morestats.py:1684: UserWarning: approximate p-value will be computed by extrapolation\n",
      "  warnings.warn(\"approximate p-value will be computed by extrapolation\")\n",
      "C:\\ANACON~1\\envs\\BES_analysis\\lib\\site-packages\\scipy\\stats\\morestats.py:1684: UserWarning: approximate p-value will be computed by extrapolation\n",
      "  warnings.warn(\"approximate p-value will be computed by extrapolation\")\n",
      "C:\\ANACON~1\\envs\\BES_analysis\\lib\\site-packages\\scipy\\stats\\morestats.py:1684: UserWarning: approximate p-value will be computed by extrapolation\n",
      "  warnings.warn(\"approximate p-value will be computed by extrapolation\")\n",
      "C:\\ANACON~1\\envs\\BES_analysis\\lib\\site-packages\\scipy\\stats\\morestats.py:1684: UserWarning: approximate p-value will be computed by extrapolation\n",
      "  warnings.warn(\"approximate p-value will be computed by extrapolation\")\n",
      "C:\\ANACON~1\\envs\\BES_analysis\\lib\\site-packages\\scipy\\stats\\morestats.py:1684: UserWarning: approximate p-value will be computed by extrapolation\n",
      "  warnings.warn(\"approximate p-value will be computed by extrapolation\")\n",
      "C:\\ANACON~1\\envs\\BES_analysis\\lib\\site-packages\\scipy\\stats\\morestats.py:1684: UserWarning: approximate p-value will be computed by extrapolation\n",
      "  warnings.warn(\"approximate p-value will be computed by extrapolation\")\n",
      "C:\\ANACON~1\\envs\\BES_analysis\\lib\\site-packages\\scipy\\stats\\morestats.py:1684: UserWarning: approximate p-value will be computed by extrapolation\n",
      "  warnings.warn(\"approximate p-value will be computed by extrapolation\")\n",
      "C:\\ANACON~1\\envs\\BES_analysis\\lib\\site-packages\\scipy\\stats\\morestats.py:1684: UserWarning: approximate p-value will be computed by extrapolation\n",
      "  warnings.warn(\"approximate p-value will be computed by extrapolation\")\n",
      "C:\\ANACON~1\\envs\\BES_analysis\\lib\\site-packages\\scipy\\stats\\morestats.py:1684: UserWarning: approximate p-value will be computed by extrapolation\n",
      "  warnings.warn(\"approximate p-value will be computed by extrapolation\")\n",
      "C:\\ANACON~1\\envs\\BES_analysis\\lib\\site-packages\\scipy\\stats\\morestats.py:1684: UserWarning: approximate p-value will be computed by extrapolation\n",
      "  warnings.warn(\"approximate p-value will be computed by extrapolation\")\n",
      "C:\\ANACON~1\\envs\\BES_analysis\\lib\\site-packages\\scipy\\stats\\morestats.py:1684: UserWarning: approximate p-value will be computed by extrapolation\n",
      "  warnings.warn(\"approximate p-value will be computed by extrapolation\")\n",
      "C:\\ANACON~1\\envs\\BES_analysis\\lib\\site-packages\\scipy\\stats\\morestats.py:1684: UserWarning: approximate p-value will be computed by extrapolation\n",
      "  warnings.warn(\"approximate p-value will be computed by extrapolation\")\n",
      "C:\\ANACON~1\\envs\\BES_analysis\\lib\\site-packages\\scipy\\stats\\morestats.py:1684: UserWarning: approximate p-value will be computed by extrapolation\n",
      "  warnings.warn(\"approximate p-value will be computed by extrapolation\")\n",
      "C:\\ANACON~1\\envs\\BES_analysis\\lib\\site-packages\\scipy\\stats\\morestats.py:1684: UserWarning: approximate p-value will be computed by extrapolation\n",
      "  warnings.warn(\"approximate p-value will be computed by extrapolation\")\n",
      "C:\\ANACON~1\\envs\\BES_analysis\\lib\\site-packages\\scipy\\stats\\morestats.py:1684: UserWarning: approximate p-value will be computed by extrapolation\n",
      "  warnings.warn(\"approximate p-value will be computed by extrapolation\")\n",
      "C:\\ANACON~1\\envs\\BES_analysis\\lib\\site-packages\\scipy\\stats\\morestats.py:1684: UserWarning: approximate p-value will be computed by extrapolation\n",
      "  warnings.warn(\"approximate p-value will be computed by extrapolation\")\n",
      "C:\\ANACON~1\\envs\\BES_analysis\\lib\\site-packages\\scipy\\stats\\morestats.py:1684: UserWarning: approximate p-value will be computed by extrapolation\n",
      "  warnings.warn(\"approximate p-value will be computed by extrapolation\")\n",
      "C:\\ANACON~1\\envs\\BES_analysis\\lib\\site-packages\\scipy\\stats\\morestats.py:1684: UserWarning: approximate p-value will be computed by extrapolation\n",
      "  warnings.warn(\"approximate p-value will be computed by extrapolation\")\n",
      "C:\\ANACON~1\\envs\\BES_analysis\\lib\\site-packages\\scipy\\stats\\morestats.py:1684: UserWarning: approximate p-value will be computed by extrapolation\n",
      "  warnings.warn(\"approximate p-value will be computed by extrapolation\")\n",
      "C:\\ANACON~1\\envs\\BES_analysis\\lib\\site-packages\\scipy\\stats\\morestats.py:1684: UserWarning: approximate p-value will be computed by extrapolation\n",
      "  warnings.warn(\"approximate p-value will be computed by extrapolation\")\n",
      "C:\\ANACON~1\\envs\\BES_analysis\\lib\\site-packages\\scipy\\stats\\morestats.py:1684: UserWarning: approximate p-value will be computed by extrapolation\n",
      "  warnings.warn(\"approximate p-value will be computed by extrapolation\")\n",
      "C:\\ANACON~1\\envs\\BES_analysis\\lib\\site-packages\\scipy\\stats\\morestats.py:1684: UserWarning: approximate p-value will be computed by extrapolation\n",
      "  warnings.warn(\"approximate p-value will be computed by extrapolation\")\n",
      "C:\\ANACON~1\\envs\\BES_analysis\\lib\\site-packages\\scipy\\stats\\morestats.py:1684: UserWarning: approximate p-value will be computed by extrapolation\n",
      "  warnings.warn(\"approximate p-value will be computed by extrapolation\")\n",
      "C:\\ANACON~1\\envs\\BES_analysis\\lib\\site-packages\\scipy\\stats\\morestats.py:1684: UserWarning: approximate p-value will be computed by extrapolation\n",
      "  warnings.warn(\"approximate p-value will be computed by extrapolation\")\n",
      "C:\\ANACON~1\\envs\\BES_analysis\\lib\\site-packages\\scipy\\stats\\morestats.py:1684: UserWarning: approximate p-value will be computed by extrapolation\n",
      "  warnings.warn(\"approximate p-value will be computed by extrapolation\")\n",
      "C:\\ANACON~1\\envs\\BES_analysis\\lib\\site-packages\\scipy\\stats\\morestats.py:1684: UserWarning: approximate p-value will be computed by extrapolation\n",
      "  warnings.warn(\"approximate p-value will be computed by extrapolation\")\n",
      "C:\\ANACON~1\\envs\\BES_analysis\\lib\\site-packages\\scipy\\stats\\morestats.py:1684: UserWarning: approximate p-value will be computed by extrapolation\n",
      "  warnings.warn(\"approximate p-value will be computed by extrapolation\")\n",
      "C:\\ANACON~1\\envs\\BES_analysis\\lib\\site-packages\\scipy\\stats\\morestats.py:1684: UserWarning: approximate p-value will be computed by extrapolation\n",
      "  warnings.warn(\"approximate p-value will be computed by extrapolation\")\n",
      "C:\\ANACON~1\\envs\\BES_analysis\\lib\\site-packages\\scipy\\stats\\morestats.py:1684: UserWarning: approximate p-value will be computed by extrapolation\n",
      "  warnings.warn(\"approximate p-value will be computed by extrapolation\")\n",
      "C:\\ANACON~1\\envs\\BES_analysis\\lib\\site-packages\\scipy\\stats\\morestats.py:1684: UserWarning: approximate p-value will be computed by extrapolation\n",
      "  warnings.warn(\"approximate p-value will be computed by extrapolation\")\n",
      "C:\\ANACON~1\\envs\\BES_analysis\\lib\\site-packages\\scipy\\stats\\morestats.py:1684: UserWarning: approximate p-value will be computed by extrapolation\n",
      "  warnings.warn(\"approximate p-value will be computed by extrapolation\")\n",
      "C:\\ANACON~1\\envs\\BES_analysis\\lib\\site-packages\\scipy\\stats\\morestats.py:1684: UserWarning: approximate p-value will be computed by extrapolation\n",
      "  warnings.warn(\"approximate p-value will be computed by extrapolation\")\n",
      "C:\\ANACON~1\\envs\\BES_analysis\\lib\\site-packages\\scipy\\stats\\morestats.py:1684: UserWarning: approximate p-value will be computed by extrapolation\n",
      "  warnings.warn(\"approximate p-value will be computed by extrapolation\")\n",
      "C:\\ANACON~1\\envs\\BES_analysis\\lib\\site-packages\\scipy\\stats\\morestats.py:1684: UserWarning: approximate p-value will be computed by extrapolation\n",
      "  warnings.warn(\"approximate p-value will be computed by extrapolation\")\n",
      "C:\\ANACON~1\\envs\\BES_analysis\\lib\\site-packages\\scipy\\stats\\morestats.py:1684: UserWarning: approximate p-value will be computed by extrapolation\n",
      "  warnings.warn(\"approximate p-value will be computed by extrapolation\")\n",
      "C:\\ANACON~1\\envs\\BES_analysis\\lib\\site-packages\\scipy\\stats\\morestats.py:1684: UserWarning: approximate p-value will be computed by extrapolation\n",
      "  warnings.warn(\"approximate p-value will be computed by extrapolation\")\n",
      "C:\\ANACON~1\\envs\\BES_analysis\\lib\\site-packages\\scipy\\stats\\morestats.py:1684: UserWarning: approximate p-value will be computed by extrapolation\n",
      "  warnings.warn(\"approximate p-value will be computed by extrapolation\")\n",
      "C:\\ANACON~1\\envs\\BES_analysis\\lib\\site-packages\\scipy\\stats\\morestats.py:1684: UserWarning: approximate p-value will be computed by extrapolation\n",
      "  warnings.warn(\"approximate p-value will be computed by extrapolation\")\n",
      "C:\\ANACON~1\\envs\\BES_analysis\\lib\\site-packages\\scipy\\stats\\morestats.py:1684: UserWarning: approximate p-value will be computed by extrapolation\n",
      "  warnings.warn(\"approximate p-value will be computed by extrapolation\")\n",
      "C:\\ANACON~1\\envs\\BES_analysis\\lib\\site-packages\\scipy\\stats\\morestats.py:1684: UserWarning: approximate p-value will be computed by extrapolation\n",
      "  warnings.warn(\"approximate p-value will be computed by extrapolation\")\n",
      "C:\\ANACON~1\\envs\\BES_analysis\\lib\\site-packages\\scipy\\stats\\morestats.py:1684: UserWarning: approximate p-value will be computed by extrapolation\n",
      "  warnings.warn(\"approximate p-value will be computed by extrapolation\")\n",
      "C:\\ANACON~1\\envs\\BES_analysis\\lib\\site-packages\\scipy\\stats\\morestats.py:1684: UserWarning: approximate p-value will be computed by extrapolation\n",
      "  warnings.warn(\"approximate p-value will be computed by extrapolation\")\n",
      "C:\\ANACON~1\\envs\\BES_analysis\\lib\\site-packages\\scipy\\stats\\morestats.py:1684: UserWarning: approximate p-value will be computed by extrapolation\n",
      "  warnings.warn(\"approximate p-value will be computed by extrapolation\")\n",
      "C:\\ANACON~1\\envs\\BES_analysis\\lib\\site-packages\\scipy\\stats\\morestats.py:1684: UserWarning: approximate p-value will be computed by extrapolation\n",
      "  warnings.warn(\"approximate p-value will be computed by extrapolation\")\n",
      "C:\\ANACON~1\\envs\\BES_analysis\\lib\\site-packages\\scipy\\stats\\morestats.py:1684: UserWarning: approximate p-value will be computed by extrapolation\n",
      "  warnings.warn(\"approximate p-value will be computed by extrapolation\")\n",
      "C:\\ANACON~1\\envs\\BES_analysis\\lib\\site-packages\\scipy\\stats\\morestats.py:1684: UserWarning: approximate p-value will be computed by extrapolation\n",
      "  warnings.warn(\"approximate p-value will be computed by extrapolation\")\n",
      "C:\\ANACON~1\\envs\\BES_analysis\\lib\\site-packages\\scipy\\stats\\morestats.py:1684: UserWarning: approximate p-value will be computed by extrapolation\n",
      "  warnings.warn(\"approximate p-value will be computed by extrapolation\")\n",
      "C:\\ANACON~1\\envs\\BES_analysis\\lib\\site-packages\\scipy\\stats\\morestats.py:1684: UserWarning: approximate p-value will be computed by extrapolation\n",
      "  warnings.warn(\"approximate p-value will be computed by extrapolation\")\n",
      "C:\\ANACON~1\\envs\\BES_analysis\\lib\\site-packages\\scipy\\stats\\morestats.py:1684: UserWarning: approximate p-value will be computed by extrapolation\n",
      "  warnings.warn(\"approximate p-value will be computed by extrapolation\")\n",
      "C:\\ANACON~1\\envs\\BES_analysis\\lib\\site-packages\\scipy\\stats\\morestats.py:1684: UserWarning: approximate p-value will be computed by extrapolation\n",
      "  warnings.warn(\"approximate p-value will be computed by extrapolation\")\n",
      "C:\\ANACON~1\\envs\\BES_analysis\\lib\\site-packages\\scipy\\stats\\morestats.py:1684: UserWarning: approximate p-value will be computed by extrapolation\n",
      "  warnings.warn(\"approximate p-value will be computed by extrapolation\")\n",
      "C:\\ANACON~1\\envs\\BES_analysis\\lib\\site-packages\\scipy\\stats\\morestats.py:1684: UserWarning: approximate p-value will be computed by extrapolation\n",
      "  warnings.warn(\"approximate p-value will be computed by extrapolation\")\n",
      "C:\\ANACON~1\\envs\\BES_analysis\\lib\\site-packages\\scipy\\stats\\morestats.py:1684: UserWarning: approximate p-value will be computed by extrapolation\n",
      "  warnings.warn(\"approximate p-value will be computed by extrapolation\")\n",
      "C:\\ANACON~1\\envs\\BES_analysis\\lib\\site-packages\\scipy\\stats\\morestats.py:1684: UserWarning: approximate p-value will be computed by extrapolation\n",
      "  warnings.warn(\"approximate p-value will be computed by extrapolation\")\n",
      "C:\\ANACON~1\\envs\\BES_analysis\\lib\\site-packages\\scipy\\stats\\morestats.py:1684: UserWarning: approximate p-value will be computed by extrapolation\n",
      "  warnings.warn(\"approximate p-value will be computed by extrapolation\")\n",
      "C:\\ANACON~1\\envs\\BES_analysis\\lib\\site-packages\\scipy\\stats\\morestats.py:1684: UserWarning: approximate p-value will be computed by extrapolation\n",
      "  warnings.warn(\"approximate p-value will be computed by extrapolation\")\n",
      "C:\\ANACON~1\\envs\\BES_analysis\\lib\\site-packages\\scipy\\stats\\morestats.py:1684: UserWarning: approximate p-value will be computed by extrapolation\n",
      "  warnings.warn(\"approximate p-value will be computed by extrapolation\")\n",
      "C:\\ANACON~1\\envs\\BES_analysis\\lib\\site-packages\\scipy\\stats\\morestats.py:1684: UserWarning: approximate p-value will be computed by extrapolation\n",
      "  warnings.warn(\"approximate p-value will be computed by extrapolation\")\n",
      "C:\\ANACON~1\\envs\\BES_analysis\\lib\\site-packages\\scipy\\stats\\morestats.py:1684: UserWarning: approximate p-value will be computed by extrapolation\n",
      "  warnings.warn(\"approximate p-value will be computed by extrapolation\")\n",
      "C:\\ANACON~1\\envs\\BES_analysis\\lib\\site-packages\\scipy\\stats\\morestats.py:1684: UserWarning: approximate p-value will be computed by extrapolation\n",
      "  warnings.warn(\"approximate p-value will be computed by extrapolation\")\n",
      "C:\\ANACON~1\\envs\\BES_analysis\\lib\\site-packages\\scipy\\stats\\morestats.py:1684: UserWarning: approximate p-value will be computed by extrapolation\n",
      "  warnings.warn(\"approximate p-value will be computed by extrapolation\")\n",
      "C:\\ANACON~1\\envs\\BES_analysis\\lib\\site-packages\\scipy\\stats\\morestats.py:1684: UserWarning: approximate p-value will be computed by extrapolation\n",
      "  warnings.warn(\"approximate p-value will be computed by extrapolation\")\n",
      "C:\\ANACON~1\\envs\\BES_analysis\\lib\\site-packages\\scipy\\stats\\morestats.py:1684: UserWarning: approximate p-value will be computed by extrapolation\n",
      "  warnings.warn(\"approximate p-value will be computed by extrapolation\")\n",
      "C:\\ANACON~1\\envs\\BES_analysis\\lib\\site-packages\\scipy\\stats\\morestats.py:1684: UserWarning: approximate p-value will be computed by extrapolation\n",
      "  warnings.warn(\"approximate p-value will be computed by extrapolation\")\n",
      "C:\\ANACON~1\\envs\\BES_analysis\\lib\\site-packages\\scipy\\stats\\morestats.py:1684: UserWarning: approximate p-value will be computed by extrapolation\n",
      "  warnings.warn(\"approximate p-value will be computed by extrapolation\")\n",
      "C:\\ANACON~1\\envs\\BES_analysis\\lib\\site-packages\\scipy\\stats\\morestats.py:1684: UserWarning: approximate p-value will be computed by extrapolation\n",
      "  warnings.warn(\"approximate p-value will be computed by extrapolation\")\n",
      "C:\\ANACON~1\\envs\\BES_analysis\\lib\\site-packages\\scipy\\stats\\morestats.py:1684: UserWarning: approximate p-value will be computed by extrapolation\n",
      "  warnings.warn(\"approximate p-value will be computed by extrapolation\")\n",
      "C:\\ANACON~1\\envs\\BES_analysis\\lib\\site-packages\\scipy\\stats\\morestats.py:1684: UserWarning: approximate p-value will be computed by extrapolation\n",
      "  warnings.warn(\"approximate p-value will be computed by extrapolation\")\n",
      "C:\\ANACON~1\\envs\\BES_analysis\\lib\\site-packages\\scipy\\stats\\morestats.py:1684: UserWarning: approximate p-value will be computed by extrapolation\n",
      "  warnings.warn(\"approximate p-value will be computed by extrapolation\")\n",
      "C:\\ANACON~1\\envs\\BES_analysis\\lib\\site-packages\\scipy\\stats\\morestats.py:1684: UserWarning: approximate p-value will be computed by extrapolation\n",
      "  warnings.warn(\"approximate p-value will be computed by extrapolation\")\n",
      "C:\\ANACON~1\\envs\\BES_analysis\\lib\\site-packages\\scipy\\stats\\morestats.py:1684: UserWarning: approximate p-value will be computed by extrapolation\n",
      "  warnings.warn(\"approximate p-value will be computed by extrapolation\")\n",
      "C:\\ANACON~1\\envs\\BES_analysis\\lib\\site-packages\\scipy\\stats\\morestats.py:1684: UserWarning: approximate p-value will be computed by extrapolation\n",
      "  warnings.warn(\"approximate p-value will be computed by extrapolation\")\n",
      "C:\\ANACON~1\\envs\\BES_analysis\\lib\\site-packages\\scipy\\stats\\morestats.py:1684: UserWarning: approximate p-value will be computed by extrapolation\n",
      "  warnings.warn(\"approximate p-value will be computed by extrapolation\")\n",
      "C:\\ANACON~1\\envs\\BES_analysis\\lib\\site-packages\\scipy\\stats\\morestats.py:1684: UserWarning: approximate p-value will be computed by extrapolation\n",
      "  warnings.warn(\"approximate p-value will be computed by extrapolation\")\n",
      "C:\\ANACON~1\\envs\\BES_analysis\\lib\\site-packages\\scipy\\stats\\morestats.py:1684: UserWarning: approximate p-value will be computed by extrapolation\n",
      "  warnings.warn(\"approximate p-value will be computed by extrapolation\")\n",
      "C:\\ANACON~1\\envs\\BES_analysis\\lib\\site-packages\\scipy\\stats\\morestats.py:1684: UserWarning: approximate p-value will be computed by extrapolation\n",
      "  warnings.warn(\"approximate p-value will be computed by extrapolation\")\n",
      "C:\\ANACON~1\\envs\\BES_analysis\\lib\\site-packages\\scipy\\stats\\morestats.py:1684: UserWarning: approximate p-value will be computed by extrapolation\n",
      "  warnings.warn(\"approximate p-value will be computed by extrapolation\")\n",
      "C:\\ANACON~1\\envs\\BES_analysis\\lib\\site-packages\\scipy\\stats\\morestats.py:1684: UserWarning: approximate p-value will be computed by extrapolation\n",
      "  warnings.warn(\"approximate p-value will be computed by extrapolation\")\n",
      "C:\\ANACON~1\\envs\\BES_analysis\\lib\\site-packages\\scipy\\stats\\morestats.py:1684: UserWarning: approximate p-value will be computed by extrapolation\n",
      "  warnings.warn(\"approximate p-value will be computed by extrapolation\")\n",
      "C:\\ANACON~1\\envs\\BES_analysis\\lib\\site-packages\\scipy\\stats\\morestats.py:1684: UserWarning: approximate p-value will be computed by extrapolation\n",
      "  warnings.warn(\"approximate p-value will be computed by extrapolation\")\n",
      "C:\\ANACON~1\\envs\\BES_analysis\\lib\\site-packages\\scipy\\stats\\morestats.py:1684: UserWarning: approximate p-value will be computed by extrapolation\n",
      "  warnings.warn(\"approximate p-value will be computed by extrapolation\")\n",
      "C:\\ANACON~1\\envs\\BES_analysis\\lib\\site-packages\\scipy\\stats\\morestats.py:1684: UserWarning: approximate p-value will be computed by extrapolation\n",
      "  warnings.warn(\"approximate p-value will be computed by extrapolation\")\n",
      "C:\\ANACON~1\\envs\\BES_analysis\\lib\\site-packages\\scipy\\stats\\morestats.py:1684: UserWarning: approximate p-value will be computed by extrapolation\n",
      "  warnings.warn(\"approximate p-value will be computed by extrapolation\")\n",
      "C:\\ANACON~1\\envs\\BES_analysis\\lib\\site-packages\\scipy\\stats\\morestats.py:1684: UserWarning: approximate p-value will be computed by extrapolation\n",
      "  warnings.warn(\"approximate p-value will be computed by extrapolation\")\n",
      "C:\\ANACON~1\\envs\\BES_analysis\\lib\\site-packages\\scipy\\stats\\morestats.py:1684: UserWarning: approximate p-value will be computed by extrapolation\n",
      "  warnings.warn(\"approximate p-value will be computed by extrapolation\")\n",
      "C:\\ANACON~1\\envs\\BES_analysis\\lib\\site-packages\\scipy\\stats\\morestats.py:1684: UserWarning: approximate p-value will be computed by extrapolation\n",
      "  warnings.warn(\"approximate p-value will be computed by extrapolation\")\n",
      "C:\\ANACON~1\\envs\\BES_analysis\\lib\\site-packages\\scipy\\stats\\morestats.py:1684: UserWarning: approximate p-value will be computed by extrapolation\n",
      "  warnings.warn(\"approximate p-value will be computed by extrapolation\")\n"
     ]
    },
    {
     "name": "stdout",
     "output_type": "stream",
     "text": [
      "('****', 'immigrantsWelfareState', '****')\n"
     ]
    },
    {
     "name": "stderr",
     "output_type": "stream",
     "text": [
      "C:\\ANACON~1\\envs\\BES_analysis\\lib\\site-packages\\scipy\\stats\\morestats.py:1684: UserWarning: approximate p-value will be computed by extrapolation\n",
      "  warnings.warn(\"approximate p-value will be computed by extrapolation\")\n",
      "C:\\ANACON~1\\envs\\BES_analysis\\lib\\site-packages\\scipy\\stats\\morestats.py:1684: UserWarning: approximate p-value will be computed by extrapolation\n",
      "  warnings.warn(\"approximate p-value will be computed by extrapolation\")\n",
      "C:\\ANACON~1\\envs\\BES_analysis\\lib\\site-packages\\scipy\\stats\\morestats.py:1684: UserWarning: approximate p-value will be computed by extrapolation\n",
      "  warnings.warn(\"approximate p-value will be computed by extrapolation\")\n",
      "C:\\ANACON~1\\envs\\BES_analysis\\lib\\site-packages\\scipy\\stats\\morestats.py:1684: UserWarning: approximate p-value will be computed by extrapolation\n",
      "  warnings.warn(\"approximate p-value will be computed by extrapolation\")\n",
      "C:\\ANACON~1\\envs\\BES_analysis\\lib\\site-packages\\scipy\\stats\\morestats.py:1684: UserWarning: approximate p-value will be computed by extrapolation\n",
      "  warnings.warn(\"approximate p-value will be computed by extrapolation\")\n",
      "C:\\ANACON~1\\envs\\BES_analysis\\lib\\site-packages\\scipy\\stats\\morestats.py:1684: UserWarning: approximate p-value will be computed by extrapolation\n",
      "  warnings.warn(\"approximate p-value will be computed by extrapolation\")\n",
      "C:\\ANACON~1\\envs\\BES_analysis\\lib\\site-packages\\scipy\\stats\\morestats.py:1684: UserWarning: approximate p-value will be computed by extrapolation\n",
      "  warnings.warn(\"approximate p-value will be computed by extrapolation\")\n",
      "C:\\ANACON~1\\envs\\BES_analysis\\lib\\site-packages\\scipy\\stats\\morestats.py:1684: UserWarning: approximate p-value will be computed by extrapolation\n",
      "  warnings.warn(\"approximate p-value will be computed by extrapolation\")\n"
     ]
    },
    {
     "name": "stdout",
     "output_type": "stream",
     "text": [
      "('****', 'satDemEU', '****')\n"
     ]
    },
    {
     "name": "stderr",
     "output_type": "stream",
     "text": [
      "C:\\ANACON~1\\envs\\BES_analysis\\lib\\site-packages\\scipy\\stats\\morestats.py:1684: UserWarning: approximate p-value will be computed by extrapolation\n",
      "  warnings.warn(\"approximate p-value will be computed by extrapolation\")\n",
      "C:\\ANACON~1\\envs\\BES_analysis\\lib\\site-packages\\scipy\\stats\\morestats.py:1684: UserWarning: approximate p-value will be computed by extrapolation\n",
      "  warnings.warn(\"approximate p-value will be computed by extrapolation\")\n"
     ]
    },
    {
     "name": "stdout",
     "output_type": "stream",
     "text": [
      "('****', 'immigEcon', '****')\n"
     ]
    },
    {
     "name": "stderr",
     "output_type": "stream",
     "text": [
      "C:\\ANACON~1\\envs\\BES_analysis\\lib\\site-packages\\scipy\\stats\\morestats.py:1684: UserWarning: approximate p-value will be computed by extrapolation\n",
      "  warnings.warn(\"approximate p-value will be computed by extrapolation\")\n"
     ]
    },
    {
     "name": "stdout",
     "output_type": "stream",
     "text": [
      "('****', 'immigCultural', '****')\n"
     ]
    },
    {
     "name": "stderr",
     "output_type": "stream",
     "text": [
      "C:\\ANACON~1\\envs\\BES_analysis\\lib\\site-packages\\scipy\\stats\\morestats.py:1684: UserWarning: approximate p-value will be computed by extrapolation\n",
      "  warnings.warn(\"approximate p-value will be computed by extrapolation\")\n"
     ]
    },
    {
     "name": "stdout",
     "output_type": "stream",
     "text": [
      "('****', 'asylumMore', '****')\n"
     ]
    },
    {
     "name": "stderr",
     "output_type": "stream",
     "text": [
      "C:\\ANACON~1\\envs\\BES_analysis\\lib\\site-packages\\scipy\\stats\\morestats.py:1684: UserWarning: approximate p-value will be computed by extrapolation\n",
      "  warnings.warn(\"approximate p-value will be computed by extrapolation\")\n"
     ]
    },
    {
     "name": "stdout",
     "output_type": "stream",
     "text": [
      "('****', 'euMore', '****')\n"
     ]
    },
    {
     "name": "stderr",
     "output_type": "stream",
     "text": [
      "C:\\ANACON~1\\envs\\BES_analysis\\lib\\site-packages\\scipy\\stats\\morestats.py:1684: UserWarning: approximate p-value will be computed by extrapolation\n",
      "  warnings.warn(\"approximate p-value will be computed by extrapolation\")\n",
      "C:\\ANACON~1\\envs\\BES_analysis\\lib\\site-packages\\scipy\\stats\\morestats.py:1684: UserWarning: approximate p-value will be computed by extrapolation\n",
      "  warnings.warn(\"approximate p-value will be computed by extrapolation\")\n",
      "C:\\ANACON~1\\envs\\BES_analysis\\lib\\site-packages\\scipy\\stats\\morestats.py:1684: UserWarning: approximate p-value will be computed by extrapolation\n",
      "  warnings.warn(\"approximate p-value will be computed by extrapolation\")\n"
     ]
    },
    {
     "name": "stdout",
     "output_type": "stream",
     "text": [
      "('****', 'familiesMore', '****')\n"
     ]
    },
    {
     "name": "stderr",
     "output_type": "stream",
     "text": [
      "C:\\ANACON~1\\envs\\BES_analysis\\lib\\site-packages\\scipy\\stats\\morestats.py:1684: UserWarning: approximate p-value will be computed by extrapolation\n",
      "  warnings.warn(\"approximate p-value will be computed by extrapolation\")\n"
     ]
    },
    {
     "name": "stdout",
     "output_type": "stream",
     "text": [
      "('****', 'immigSelf', '****')\n"
     ]
    },
    {
     "name": "stderr",
     "output_type": "stream",
     "text": [
      "C:\\ANACON~1\\envs\\BES_analysis\\lib\\site-packages\\scipy\\stats\\morestats.py:1684: UserWarning: approximate p-value will be computed by extrapolation\n",
      "  warnings.warn(\"approximate p-value will be computed by extrapolation\")\n",
      "C:\\ANACON~1\\envs\\BES_analysis\\lib\\site-packages\\scipy\\stats\\morestats.py:1684: UserWarning: approximate p-value will be computed by extrapolation\n",
      "  warnings.warn(\"approximate p-value will be computed by extrapolation\")\n",
      "C:\\ANACON~1\\envs\\BES_analysis\\lib\\site-packages\\scipy\\stats\\morestats.py:1684: UserWarning: approximate p-value will be computed by extrapolation\n",
      "  warnings.warn(\"approximate p-value will be computed by extrapolation\")\n",
      "C:\\ANACON~1\\envs\\BES_analysis\\lib\\site-packages\\scipy\\stats\\morestats.py:1684: UserWarning: approximate p-value will be computed by extrapolation\n",
      "  warnings.warn(\"approximate p-value will be computed by extrapolation\")\n",
      "C:\\ANACON~1\\envs\\BES_analysis\\lib\\site-packages\\scipy\\stats\\morestats.py:1684: UserWarning: approximate p-value will be computed by extrapolation\n",
      "  warnings.warn(\"approximate p-value will be computed by extrapolation\")\n",
      "C:\\ANACON~1\\envs\\BES_analysis\\lib\\site-packages\\scipy\\stats\\morestats.py:1684: UserWarning: approximate p-value will be computed by extrapolation\n",
      "  warnings.warn(\"approximate p-value will be computed by extrapolation\")\n",
      "C:\\ANACON~1\\envs\\BES_analysis\\lib\\site-packages\\scipy\\stats\\morestats.py:1684: UserWarning: approximate p-value will be computed by extrapolation\n",
      "  warnings.warn(\"approximate p-value will be computed by extrapolation\")\n",
      "C:\\ANACON~1\\envs\\BES_analysis\\lib\\site-packages\\scipy\\stats\\morestats.py:1684: UserWarning: approximate p-value will be computed by extrapolation\n",
      "  warnings.warn(\"approximate p-value will be computed by extrapolation\")\n",
      "C:\\ANACON~1\\envs\\BES_analysis\\lib\\site-packages\\scipy\\stats\\morestats.py:1684: UserWarning: approximate p-value will be computed by extrapolation\n",
      "  warnings.warn(\"approximate p-value will be computed by extrapolation\")\n",
      "C:\\ANACON~1\\envs\\BES_analysis\\lib\\site-packages\\scipy\\stats\\morestats.py:1684: UserWarning: approximate p-value will be computed by extrapolation\n",
      "  warnings.warn(\"approximate p-value will be computed by extrapolation\")\n",
      "C:\\ANACON~1\\envs\\BES_analysis\\lib\\site-packages\\scipy\\stats\\morestats.py:1684: UserWarning: approximate p-value will be computed by extrapolation\n",
      "  warnings.warn(\"approximate p-value will be computed by extrapolation\")\n",
      "C:\\ANACON~1\\envs\\BES_analysis\\lib\\site-packages\\scipy\\stats\\morestats.py:1684: UserWarning: approximate p-value will be computed by extrapolation\n",
      "  warnings.warn(\"approximate p-value will be computed by extrapolation\")\n",
      "C:\\ANACON~1\\envs\\BES_analysis\\lib\\site-packages\\scipy\\stats\\morestats.py:1684: UserWarning: approximate p-value will be computed by extrapolation\n",
      "  warnings.warn(\"approximate p-value will be computed by extrapolation\")\n",
      "C:\\ANACON~1\\envs\\BES_analysis\\lib\\site-packages\\scipy\\stats\\morestats.py:1684: UserWarning: approximate p-value will be computed by extrapolation\n",
      "  warnings.warn(\"approximate p-value will be computed by extrapolation\")\n",
      "C:\\ANACON~1\\envs\\BES_analysis\\lib\\site-packages\\scipy\\stats\\morestats.py:1684: UserWarning: approximate p-value will be computed by extrapolation\n",
      "  warnings.warn(\"approximate p-value will be computed by extrapolation\")\n",
      "C:\\ANACON~1\\envs\\BES_analysis\\lib\\site-packages\\scipy\\stats\\morestats.py:1684: UserWarning: approximate p-value will be computed by extrapolation\n",
      "  warnings.warn(\"approximate p-value will be computed by extrapolation\")\n",
      "C:\\ANACON~1\\envs\\BES_analysis\\lib\\site-packages\\scipy\\stats\\morestats.py:1684: UserWarning: approximate p-value will be computed by extrapolation\n",
      "  warnings.warn(\"approximate p-value will be computed by extrapolation\")\n",
      "C:\\ANACON~1\\envs\\BES_analysis\\lib\\site-packages\\scipy\\stats\\morestats.py:1684: UserWarning: approximate p-value will be computed by extrapolation\n",
      "  warnings.warn(\"approximate p-value will be computed by extrapolation\")\n",
      "C:\\ANACON~1\\envs\\BES_analysis\\lib\\site-packages\\scipy\\stats\\morestats.py:1684: UserWarning: approximate p-value will be computed by extrapolation\n",
      "  warnings.warn(\"approximate p-value will be computed by extrapolation\")\n",
      "C:\\ANACON~1\\envs\\BES_analysis\\lib\\site-packages\\scipy\\stats\\morestats.py:1684: UserWarning: approximate p-value will be computed by extrapolation\n",
      "  warnings.warn(\"approximate p-value will be computed by extrapolation\")\n",
      "C:\\ANACON~1\\envs\\BES_analysis\\lib\\site-packages\\scipy\\stats\\morestats.py:1684: UserWarning: approximate p-value will be computed by extrapolation\n",
      "  warnings.warn(\"approximate p-value will be computed by extrapolation\")\n",
      "C:\\ANACON~1\\envs\\BES_analysis\\lib\\site-packages\\scipy\\stats\\morestats.py:1684: UserWarning: approximate p-value will be computed by extrapolation\n",
      "  warnings.warn(\"approximate p-value will be computed by extrapolation\")\n",
      "C:\\ANACON~1\\envs\\BES_analysis\\lib\\site-packages\\scipy\\stats\\morestats.py:1684: UserWarning: approximate p-value will be computed by extrapolation\n",
      "  warnings.warn(\"approximate p-value will be computed by extrapolation\")\n",
      "C:\\ANACON~1\\envs\\BES_analysis\\lib\\site-packages\\scipy\\stats\\morestats.py:1684: UserWarning: approximate p-value will be computed by extrapolation\n",
      "  warnings.warn(\"approximate p-value will be computed by extrapolation\")\n",
      "C:\\ANACON~1\\envs\\BES_analysis\\lib\\site-packages\\scipy\\stats\\morestats.py:1684: UserWarning: approximate p-value will be computed by extrapolation\n",
      "  warnings.warn(\"approximate p-value will be computed by extrapolation\")\n",
      "C:\\ANACON~1\\envs\\BES_analysis\\lib\\site-packages\\scipy\\stats\\morestats.py:1684: UserWarning: approximate p-value will be computed by extrapolation\n",
      "  warnings.warn(\"approximate p-value will be computed by extrapolation\")\n",
      "C:\\ANACON~1\\envs\\BES_analysis\\lib\\site-packages\\scipy\\stats\\morestats.py:1684: UserWarning: approximate p-value will be computed by extrapolation\n",
      "  warnings.warn(\"approximate p-value will be computed by extrapolation\")\n",
      "C:\\ANACON~1\\envs\\BES_analysis\\lib\\site-packages\\scipy\\stats\\morestats.py:1684: UserWarning: approximate p-value will be computed by extrapolation\n",
      "  warnings.warn(\"approximate p-value will be computed by extrapolation\")\n",
      "C:\\ANACON~1\\envs\\BES_analysis\\lib\\site-packages\\scipy\\stats\\morestats.py:1684: UserWarning: approximate p-value will be computed by extrapolation\n",
      "  warnings.warn(\"approximate p-value will be computed by extrapolation\")\n",
      "C:\\ANACON~1\\envs\\BES_analysis\\lib\\site-packages\\scipy\\stats\\morestats.py:1684: UserWarning: approximate p-value will be computed by extrapolation\n",
      "  warnings.warn(\"approximate p-value will be computed by extrapolation\")\n",
      "C:\\ANACON~1\\envs\\BES_analysis\\lib\\site-packages\\scipy\\stats\\morestats.py:1684: UserWarning: approximate p-value will be computed by extrapolation\n",
      "  warnings.warn(\"approximate p-value will be computed by extrapolation\")\n",
      "C:\\ANACON~1\\envs\\BES_analysis\\lib\\site-packages\\scipy\\stats\\morestats.py:1684: UserWarning: approximate p-value will be computed by extrapolation\n",
      "  warnings.warn(\"approximate p-value will be computed by extrapolation\")\n",
      "C:\\ANACON~1\\envs\\BES_analysis\\lib\\site-packages\\scipy\\stats\\morestats.py:1684: UserWarning: approximate p-value will be computed by extrapolation\n",
      "  warnings.warn(\"approximate p-value will be computed by extrapolation\")\n",
      "C:\\ANACON~1\\envs\\BES_analysis\\lib\\site-packages\\scipy\\stats\\morestats.py:1684: UserWarning: approximate p-value will be computed by extrapolation\n",
      "  warnings.warn(\"approximate p-value will be computed by extrapolation\")\n",
      "C:\\ANACON~1\\envs\\BES_analysis\\lib\\site-packages\\scipy\\stats\\morestats.py:1684: UserWarning: approximate p-value will be computed by extrapolation\n",
      "  warnings.warn(\"approximate p-value will be computed by extrapolation\")\n",
      "C:\\ANACON~1\\envs\\BES_analysis\\lib\\site-packages\\scipy\\stats\\morestats.py:1684: UserWarning: approximate p-value will be computed by extrapolation\n",
      "  warnings.warn(\"approximate p-value will be computed by extrapolation\")\n",
      "C:\\ANACON~1\\envs\\BES_analysis\\lib\\site-packages\\scipy\\stats\\morestats.py:1684: UserWarning: approximate p-value will be computed by extrapolation\n",
      "  warnings.warn(\"approximate p-value will be computed by extrapolation\")\n",
      "C:\\ANACON~1\\envs\\BES_analysis\\lib\\site-packages\\scipy\\stats\\morestats.py:1684: UserWarning: approximate p-value will be computed by extrapolation\n",
      "  warnings.warn(\"approximate p-value will be computed by extrapolation\")\n",
      "C:\\ANACON~1\\envs\\BES_analysis\\lib\\site-packages\\scipy\\stats\\morestats.py:1684: UserWarning: approximate p-value will be computed by extrapolation\n",
      "  warnings.warn(\"approximate p-value will be computed by extrapolation\")\n",
      "C:\\ANACON~1\\envs\\BES_analysis\\lib\\site-packages\\scipy\\stats\\morestats.py:1684: UserWarning: approximate p-value will be computed by extrapolation\n",
      "  warnings.warn(\"approximate p-value will be computed by extrapolation\")\n",
      "C:\\ANACON~1\\envs\\BES_analysis\\lib\\site-packages\\scipy\\stats\\morestats.py:1684: UserWarning: approximate p-value will be computed by extrapolation\n",
      "  warnings.warn(\"approximate p-value will be computed by extrapolation\")\n",
      "C:\\ANACON~1\\envs\\BES_analysis\\lib\\site-packages\\scipy\\stats\\morestats.py:1684: UserWarning: approximate p-value will be computed by extrapolation\n",
      "  warnings.warn(\"approximate p-value will be computed by extrapolation\")\n",
      "C:\\ANACON~1\\envs\\BES_analysis\\lib\\site-packages\\scipy\\stats\\morestats.py:1684: UserWarning: approximate p-value will be computed by extrapolation\n",
      "  warnings.warn(\"approximate p-value will be computed by extrapolation\")\n",
      "C:\\ANACON~1\\envs\\BES_analysis\\lib\\site-packages\\scipy\\stats\\morestats.py:1684: UserWarning: approximate p-value will be computed by extrapolation\n",
      "  warnings.warn(\"approximate p-value will be computed by extrapolation\")\n",
      "C:\\ANACON~1\\envs\\BES_analysis\\lib\\site-packages\\scipy\\stats\\morestats.py:1684: UserWarning: approximate p-value will be computed by extrapolation\n",
      "  warnings.warn(\"approximate p-value will be computed by extrapolation\")\n",
      "C:\\ANACON~1\\envs\\BES_analysis\\lib\\site-packages\\scipy\\stats\\morestats.py:1684: UserWarning: approximate p-value will be computed by extrapolation\n",
      "  warnings.warn(\"approximate p-value will be computed by extrapolation\")\n",
      "C:\\ANACON~1\\envs\\BES_analysis\\lib\\site-packages\\scipy\\stats\\morestats.py:1684: UserWarning: approximate p-value will be computed by extrapolation\n",
      "  warnings.warn(\"approximate p-value will be computed by extrapolation\")\n",
      "C:\\ANACON~1\\envs\\BES_analysis\\lib\\site-packages\\scipy\\stats\\morestats.py:1684: UserWarning: approximate p-value will be computed by extrapolation\n",
      "  warnings.warn(\"approximate p-value will be computed by extrapolation\")\n",
      "C:\\ANACON~1\\envs\\BES_analysis\\lib\\site-packages\\scipy\\stats\\morestats.py:1684: UserWarning: approximate p-value will be computed by extrapolation\n",
      "  warnings.warn(\"approximate p-value will be computed by extrapolation\")\n",
      "C:\\ANACON~1\\envs\\BES_analysis\\lib\\site-packages\\scipy\\stats\\morestats.py:1684: UserWarning: approximate p-value will be computed by extrapolation\n",
      "  warnings.warn(\"approximate p-value will be computed by extrapolation\")\n",
      "C:\\ANACON~1\\envs\\BES_analysis\\lib\\site-packages\\scipy\\stats\\morestats.py:1684: UserWarning: approximate p-value will be computed by extrapolation\n",
      "  warnings.warn(\"approximate p-value will be computed by extrapolation\")\n",
      "C:\\ANACON~1\\envs\\BES_analysis\\lib\\site-packages\\scipy\\stats\\morestats.py:1684: UserWarning: approximate p-value will be computed by extrapolation\n",
      "  warnings.warn(\"approximate p-value will be computed by extrapolation\")\n",
      "C:\\ANACON~1\\envs\\BES_analysis\\lib\\site-packages\\scipy\\stats\\morestats.py:1684: UserWarning: approximate p-value will be computed by extrapolation\n",
      "  warnings.warn(\"approximate p-value will be computed by extrapolation\")\n",
      "C:\\ANACON~1\\envs\\BES_analysis\\lib\\site-packages\\scipy\\stats\\morestats.py:1684: UserWarning: approximate p-value will be computed by extrapolation\n",
      "  warnings.warn(\"approximate p-value will be computed by extrapolation\")\n",
      "C:\\ANACON~1\\envs\\BES_analysis\\lib\\site-packages\\scipy\\stats\\morestats.py:1684: UserWarning: approximate p-value will be computed by extrapolation\n",
      "  warnings.warn(\"approximate p-value will be computed by extrapolation\")\n",
      "C:\\ANACON~1\\envs\\BES_analysis\\lib\\site-packages\\scipy\\stats\\morestats.py:1684: UserWarning: approximate p-value will be computed by extrapolation\n",
      "  warnings.warn(\"approximate p-value will be computed by extrapolation\")\n",
      "C:\\ANACON~1\\envs\\BES_analysis\\lib\\site-packages\\scipy\\stats\\morestats.py:1684: UserWarning: approximate p-value will be computed by extrapolation\n",
      "  warnings.warn(\"approximate p-value will be computed by extrapolation\")\n",
      "C:\\ANACON~1\\envs\\BES_analysis\\lib\\site-packages\\scipy\\stats\\morestats.py:1684: UserWarning: approximate p-value will be computed by extrapolation\n",
      "  warnings.warn(\"approximate p-value will be computed by extrapolation\")\n",
      "C:\\ANACON~1\\envs\\BES_analysis\\lib\\site-packages\\scipy\\stats\\morestats.py:1684: UserWarning: approximate p-value will be computed by extrapolation\n",
      "  warnings.warn(\"approximate p-value will be computed by extrapolation\")\n",
      "C:\\ANACON~1\\envs\\BES_analysis\\lib\\site-packages\\scipy\\stats\\morestats.py:1684: UserWarning: approximate p-value will be computed by extrapolation\n",
      "  warnings.warn(\"approximate p-value will be computed by extrapolation\")\n",
      "C:\\ANACON~1\\envs\\BES_analysis\\lib\\site-packages\\scipy\\stats\\morestats.py:1684: UserWarning: approximate p-value will be computed by extrapolation\n",
      "  warnings.warn(\"approximate p-value will be computed by extrapolation\")\n",
      "C:\\ANACON~1\\envs\\BES_analysis\\lib\\site-packages\\scipy\\stats\\morestats.py:1684: UserWarning: approximate p-value will be computed by extrapolation\n",
      "  warnings.warn(\"approximate p-value will be computed by extrapolation\")\n",
      "C:\\ANACON~1\\envs\\BES_analysis\\lib\\site-packages\\scipy\\stats\\morestats.py:1684: UserWarning: approximate p-value will be computed by extrapolation\n",
      "  warnings.warn(\"approximate p-value will be computed by extrapolation\")\n",
      "C:\\ANACON~1\\envs\\BES_analysis\\lib\\site-packages\\scipy\\stats\\morestats.py:1684: UserWarning: approximate p-value will be computed by extrapolation\n",
      "  warnings.warn(\"approximate p-value will be computed by extrapolation\")\n",
      "C:\\ANACON~1\\envs\\BES_analysis\\lib\\site-packages\\scipy\\stats\\morestats.py:1684: UserWarning: approximate p-value will be computed by extrapolation\n",
      "  warnings.warn(\"approximate p-value will be computed by extrapolation\")\n",
      "C:\\ANACON~1\\envs\\BES_analysis\\lib\\site-packages\\scipy\\stats\\morestats.py:1684: UserWarning: approximate p-value will be computed by extrapolation\n",
      "  warnings.warn(\"approximate p-value will be computed by extrapolation\")\n",
      "C:\\ANACON~1\\envs\\BES_analysis\\lib\\site-packages\\scipy\\stats\\morestats.py:1684: UserWarning: approximate p-value will be computed by extrapolation\n",
      "  warnings.warn(\"approximate p-value will be computed by extrapolation\")\n",
      "C:\\ANACON~1\\envs\\BES_analysis\\lib\\site-packages\\scipy\\stats\\morestats.py:1684: UserWarning: approximate p-value will be computed by extrapolation\n",
      "  warnings.warn(\"approximate p-value will be computed by extrapolation\")\n",
      "C:\\ANACON~1\\envs\\BES_analysis\\lib\\site-packages\\scipy\\stats\\morestats.py:1684: UserWarning: approximate p-value will be computed by extrapolation\n",
      "  warnings.warn(\"approximate p-value will be computed by extrapolation\")\n",
      "C:\\ANACON~1\\envs\\BES_analysis\\lib\\site-packages\\scipy\\stats\\morestats.py:1684: UserWarning: approximate p-value will be computed by extrapolation\n",
      "  warnings.warn(\"approximate p-value will be computed by extrapolation\")\n",
      "C:\\ANACON~1\\envs\\BES_analysis\\lib\\site-packages\\scipy\\stats\\morestats.py:1684: UserWarning: approximate p-value will be computed by extrapolation\n",
      "  warnings.warn(\"approximate p-value will be computed by extrapolation\")\n",
      "C:\\ANACON~1\\envs\\BES_analysis\\lib\\site-packages\\scipy\\stats\\morestats.py:1684: UserWarning: approximate p-value will be computed by extrapolation\n",
      "  warnings.warn(\"approximate p-value will be computed by extrapolation\")\n",
      "C:\\ANACON~1\\envs\\BES_analysis\\lib\\site-packages\\scipy\\stats\\morestats.py:1684: UserWarning: approximate p-value will be computed by extrapolation\n",
      "  warnings.warn(\"approximate p-value will be computed by extrapolation\")\n",
      "C:\\ANACON~1\\envs\\BES_analysis\\lib\\site-packages\\scipy\\stats\\morestats.py:1684: UserWarning: approximate p-value will be computed by extrapolation\n",
      "  warnings.warn(\"approximate p-value will be computed by extrapolation\")\n",
      "C:\\ANACON~1\\envs\\BES_analysis\\lib\\site-packages\\scipy\\stats\\morestats.py:1684: UserWarning: approximate p-value will be computed by extrapolation\n",
      "  warnings.warn(\"approximate p-value will be computed by extrapolation\")\n",
      "C:\\ANACON~1\\envs\\BES_analysis\\lib\\site-packages\\scipy\\stats\\morestats.py:1684: UserWarning: approximate p-value will be computed by extrapolation\n",
      "  warnings.warn(\"approximate p-value will be computed by extrapolation\")\n",
      "C:\\ANACON~1\\envs\\BES_analysis\\lib\\site-packages\\scipy\\stats\\morestats.py:1684: UserWarning: approximate p-value will be computed by extrapolation\n",
      "  warnings.warn(\"approximate p-value will be computed by extrapolation\")\n",
      "C:\\ANACON~1\\envs\\BES_analysis\\lib\\site-packages\\scipy\\stats\\morestats.py:1684: UserWarning: approximate p-value will be computed by extrapolation\n",
      "  warnings.warn(\"approximate p-value will be computed by extrapolation\")\n",
      "C:\\ANACON~1\\envs\\BES_analysis\\lib\\site-packages\\scipy\\stats\\morestats.py:1684: UserWarning: approximate p-value will be computed by extrapolation\n",
      "  warnings.warn(\"approximate p-value will be computed by extrapolation\")\n"
     ]
    },
    {
     "name": "stdout",
     "output_type": "stream",
     "text": [
      "('****', 'recallVote15', '****')\n"
     ]
    },
    {
     "name": "stderr",
     "output_type": "stream",
     "text": [
      "C:\\ANACON~1\\envs\\BES_analysis\\lib\\site-packages\\scipy\\stats\\morestats.py:1684: UserWarning: approximate p-value will be computed by extrapolation\n",
      "  warnings.warn(\"approximate p-value will be computed by extrapolation\")\n",
      "C:\\ANACON~1\\envs\\BES_analysis\\lib\\site-packages\\scipy\\stats\\morestats.py:1684: UserWarning: approximate p-value will be computed by extrapolation\n",
      "  warnings.warn(\"approximate p-value will be computed by extrapolation\")\n",
      "C:\\ANACON~1\\envs\\BES_analysis\\lib\\site-packages\\scipy\\stats\\morestats.py:1684: UserWarning: approximate p-value will be computed by extrapolation\n",
      "  warnings.warn(\"approximate p-value will be computed by extrapolation\")\n",
      "C:\\ANACON~1\\envs\\BES_analysis\\lib\\site-packages\\scipy\\stats\\morestats.py:1684: UserWarning: approximate p-value will be computed by extrapolation\n",
      "  warnings.warn(\"approximate p-value will be computed by extrapolation\")\n",
      "C:\\ANACON~1\\envs\\BES_analysis\\lib\\site-packages\\scipy\\stats\\morestats.py:1684: UserWarning: approximate p-value will be computed by extrapolation\n",
      "  warnings.warn(\"approximate p-value will be computed by extrapolation\")\n"
     ]
    },
    {
     "name": "stdout",
     "output_type": "stream",
     "text": [
      "('****', 'euRefVoteW9', '****')\n"
     ]
    },
    {
     "name": "stderr",
     "output_type": "stream",
     "text": [
      "C:\\ANACON~1\\envs\\BES_analysis\\lib\\site-packages\\scipy\\stats\\morestats.py:1684: UserWarning: approximate p-value will be computed by extrapolation\n",
      "  warnings.warn(\"approximate p-value will be computed by extrapolation\")\n",
      "C:\\ANACON~1\\envs\\BES_analysis\\lib\\site-packages\\scipy\\stats\\morestats.py:1684: UserWarning: approximate p-value will be computed by extrapolation\n",
      "  warnings.warn(\"approximate p-value will be computed by extrapolation\")\n",
      "C:\\ANACON~1\\envs\\BES_analysis\\lib\\site-packages\\scipy\\stats\\morestats.py:1684: UserWarning: approximate p-value will be computed by extrapolation\n",
      "  warnings.warn(\"approximate p-value will be computed by extrapolation\")\n",
      "C:\\ANACON~1\\envs\\BES_analysis\\lib\\site-packages\\scipy\\stats\\morestats.py:1684: UserWarning: approximate p-value will be computed by extrapolation\n",
      "  warnings.warn(\"approximate p-value will be computed by extrapolation\")\n"
     ]
    },
    {
     "name": "stdout",
     "output_type": "stream",
     "text": [
      "('****', 'happyEULeaveW9', '****')\n"
     ]
    },
    {
     "name": "stderr",
     "output_type": "stream",
     "text": [
      "C:\\ANACON~1\\envs\\BES_analysis\\lib\\site-packages\\scipy\\stats\\morestats.py:1684: UserWarning: approximate p-value will be computed by extrapolation\n",
      "  warnings.warn(\"approximate p-value will be computed by extrapolation\")\n",
      "C:\\ANACON~1\\envs\\BES_analysis\\lib\\site-packages\\scipy\\stats\\morestats.py:1684: UserWarning: approximate p-value will be computed by extrapolation\n",
      "  warnings.warn(\"approximate p-value will be computed by extrapolation\")\n",
      "C:\\ANACON~1\\envs\\BES_analysis\\lib\\site-packages\\scipy\\stats\\morestats.py:1684: UserWarning: approximate p-value will be computed by extrapolation\n",
      "  warnings.warn(\"approximate p-value will be computed by extrapolation\")\n",
      "C:\\ANACON~1\\envs\\BES_analysis\\lib\\site-packages\\scipy\\stats\\morestats.py:1684: UserWarning: approximate p-value will be computed by extrapolation\n",
      "  warnings.warn(\"approximate p-value will be computed by extrapolation\")\n",
      "C:\\ANACON~1\\envs\\BES_analysis\\lib\\site-packages\\scipy\\stats\\morestats.py:1684: UserWarning: approximate p-value will be computed by extrapolation\n",
      "  warnings.warn(\"approximate p-value will be computed by extrapolation\")\n",
      "C:\\ANACON~1\\envs\\BES_analysis\\lib\\site-packages\\scipy\\stats\\morestats.py:1684: UserWarning: approximate p-value will be computed by extrapolation\n",
      "  warnings.warn(\"approximate p-value will be computed by extrapolation\")\n",
      "C:\\ANACON~1\\envs\\BES_analysis\\lib\\site-packages\\scipy\\stats\\morestats.py:1684: UserWarning: approximate p-value will be computed by extrapolation\n",
      "  warnings.warn(\"approximate p-value will be computed by extrapolation\")\n",
      "C:\\ANACON~1\\envs\\BES_analysis\\lib\\site-packages\\scipy\\stats\\morestats.py:1684: UserWarning: approximate p-value will be computed by extrapolation\n",
      "  warnings.warn(\"approximate p-value will be computed by extrapolation\")\n",
      "C:\\ANACON~1\\envs\\BES_analysis\\lib\\site-packages\\scipy\\stats\\morestats.py:1684: UserWarning: approximate p-value will be computed by extrapolation\n",
      "  warnings.warn(\"approximate p-value will be computed by extrapolation\")\n",
      "C:\\ANACON~1\\envs\\BES_analysis\\lib\\site-packages\\scipy\\stats\\morestats.py:1684: UserWarning: approximate p-value will be computed by extrapolation\n",
      "  warnings.warn(\"approximate p-value will be computed by extrapolation\")\n",
      "C:\\ANACON~1\\envs\\BES_analysis\\lib\\site-packages\\scipy\\stats\\morestats.py:1684: UserWarning: approximate p-value will be computed by extrapolation\n",
      "  warnings.warn(\"approximate p-value will be computed by extrapolation\")\n",
      "C:\\ANACON~1\\envs\\BES_analysis\\lib\\site-packages\\scipy\\stats\\morestats.py:1684: UserWarning: approximate p-value will be computed by extrapolation\n",
      "  warnings.warn(\"approximate p-value will be computed by extrapolation\")\n",
      "C:\\ANACON~1\\envs\\BES_analysis\\lib\\site-packages\\scipy\\stats\\morestats.py:1684: UserWarning: approximate p-value will be computed by extrapolation\n",
      "  warnings.warn(\"approximate p-value will be computed by extrapolation\")\n",
      "C:\\ANACON~1\\envs\\BES_analysis\\lib\\site-packages\\scipy\\stats\\morestats.py:1684: UserWarning: approximate p-value will be computed by extrapolation\n",
      "  warnings.warn(\"approximate p-value will be computed by extrapolation\")\n",
      "C:\\ANACON~1\\envs\\BES_analysis\\lib\\site-packages\\scipy\\stats\\morestats.py:1684: UserWarning: approximate p-value will be computed by extrapolation\n",
      "  warnings.warn(\"approximate p-value will be computed by extrapolation\")\n",
      "C:\\ANACON~1\\envs\\BES_analysis\\lib\\site-packages\\scipy\\stats\\morestats.py:1684: UserWarning: approximate p-value will be computed by extrapolation\n",
      "  warnings.warn(\"approximate p-value will be computed by extrapolation\")\n",
      "C:\\ANACON~1\\envs\\BES_analysis\\lib\\site-packages\\scipy\\stats\\morestats.py:1684: UserWarning: approximate p-value will be computed by extrapolation\n",
      "  warnings.warn(\"approximate p-value will be computed by extrapolation\")\n",
      "C:\\ANACON~1\\envs\\BES_analysis\\lib\\site-packages\\scipy\\stats\\morestats.py:1684: UserWarning: approximate p-value will be computed by extrapolation\n",
      "  warnings.warn(\"approximate p-value will be computed by extrapolation\")\n",
      "C:\\ANACON~1\\envs\\BES_analysis\\lib\\site-packages\\scipy\\stats\\morestats.py:1684: UserWarning: approximate p-value will be computed by extrapolation\n",
      "  warnings.warn(\"approximate p-value will be computed by extrapolation\")\n",
      "C:\\ANACON~1\\envs\\BES_analysis\\lib\\site-packages\\scipy\\stats\\morestats.py:1684: UserWarning: approximate p-value will be computed by extrapolation\n",
      "  warnings.warn(\"approximate p-value will be computed by extrapolation\")\n"
     ]
    },
    {
     "name": "stdout",
     "output_type": "stream",
     "text": [
      "('****', 'likeFarageW9', '****')\n"
     ]
    },
    {
     "name": "stderr",
     "output_type": "stream",
     "text": [
      "C:\\ANACON~1\\envs\\BES_analysis\\lib\\site-packages\\scipy\\stats\\morestats.py:1684: UserWarning: approximate p-value will be computed by extrapolation\n",
      "  warnings.warn(\"approximate p-value will be computed by extrapolation\")\n",
      "C:\\ANACON~1\\envs\\BES_analysis\\lib\\site-packages\\scipy\\stats\\morestats.py:1684: UserWarning: approximate p-value will be computed by extrapolation\n",
      "  warnings.warn(\"approximate p-value will be computed by extrapolation\")\n",
      "C:\\ANACON~1\\envs\\BES_analysis\\lib\\site-packages\\scipy\\stats\\morestats.py:1684: UserWarning: approximate p-value will be computed by extrapolation\n",
      "  warnings.warn(\"approximate p-value will be computed by extrapolation\")\n",
      "C:\\ANACON~1\\envs\\BES_analysis\\lib\\site-packages\\scipy\\stats\\morestats.py:1684: UserWarning: approximate p-value will be computed by extrapolation\n",
      "  warnings.warn(\"approximate p-value will be computed by extrapolation\")\n",
      "C:\\ANACON~1\\envs\\BES_analysis\\lib\\site-packages\\scipy\\stats\\morestats.py:1684: UserWarning: approximate p-value will be computed by extrapolation\n",
      "  warnings.warn(\"approximate p-value will be computed by extrapolation\")\n",
      "C:\\ANACON~1\\envs\\BES_analysis\\lib\\site-packages\\scipy\\stats\\morestats.py:1684: UserWarning: approximate p-value will be computed by extrapolation\n",
      "  warnings.warn(\"approximate p-value will be computed by extrapolation\")\n",
      "C:\\ANACON~1\\envs\\BES_analysis\\lib\\site-packages\\scipy\\stats\\morestats.py:1684: UserWarning: approximate p-value will be computed by extrapolation\n",
      "  warnings.warn(\"approximate p-value will be computed by extrapolation\")\n",
      "C:\\ANACON~1\\envs\\BES_analysis\\lib\\site-packages\\scipy\\stats\\morestats.py:1684: UserWarning: approximate p-value will be computed by extrapolation\n",
      "  warnings.warn(\"approximate p-value will be computed by extrapolation\")\n",
      "C:\\ANACON~1\\envs\\BES_analysis\\lib\\site-packages\\scipy\\stats\\morestats.py:1684: UserWarning: approximate p-value will be computed by extrapolation\n",
      "  warnings.warn(\"approximate p-value will be computed by extrapolation\")\n"
     ]
    },
    {
     "name": "stdout",
     "output_type": "stream",
     "text": [
      "('****', 'likeUKIPW9', '****')\n"
     ]
    },
    {
     "name": "stderr",
     "output_type": "stream",
     "text": [
      "C:\\ANACON~1\\envs\\BES_analysis\\lib\\site-packages\\scipy\\stats\\morestats.py:1684: UserWarning: approximate p-value will be computed by extrapolation\n",
      "  warnings.warn(\"approximate p-value will be computed by extrapolation\")\n",
      "C:\\ANACON~1\\envs\\BES_analysis\\lib\\site-packages\\scipy\\stats\\morestats.py:1684: UserWarning: approximate p-value will be computed by extrapolation\n",
      "  warnings.warn(\"approximate p-value will be computed by extrapolation\")\n"
     ]
    },
    {
     "name": "stdout",
     "output_type": "stream",
     "text": [
      "('****', 'blameLeave_1W9', '****')\n"
     ]
    },
    {
     "name": "stderr",
     "output_type": "stream",
     "text": [
      "C:\\ANACON~1\\envs\\BES_analysis\\lib\\site-packages\\scipy\\stats\\morestats.py:1684: UserWarning: approximate p-value will be computed by extrapolation\n",
      "  warnings.warn(\"approximate p-value will be computed by extrapolation\")\n"
     ]
    },
    {
     "name": "stdout",
     "output_type": "stream",
     "text": [
      "('****', 'blameLeave_2W9', '****')\n"
     ]
    },
    {
     "name": "stderr",
     "output_type": "stream",
     "text": [
      "C:\\ANACON~1\\envs\\BES_analysis\\lib\\site-packages\\scipy\\stats\\morestats.py:1684: UserWarning: approximate p-value will be computed by extrapolation\n",
      "  warnings.warn(\"approximate p-value will be computed by extrapolation\")\n"
     ]
    },
    {
     "name": "stdout",
     "output_type": "stream",
     "text": [
      "('****', 'blameLeave_3W9', '****')\n"
     ]
    },
    {
     "name": "stderr",
     "output_type": "stream",
     "text": [
      "C:\\ANACON~1\\envs\\BES_analysis\\lib\\site-packages\\scipy\\stats\\morestats.py:1684: UserWarning: approximate p-value will be computed by extrapolation\n",
      "  warnings.warn(\"approximate p-value will be computed by extrapolation\")\n"
     ]
    },
    {
     "name": "stdout",
     "output_type": "stream",
     "text": [
      "('****', 'blameLeave_4W9', '****')\n"
     ]
    },
    {
     "name": "stderr",
     "output_type": "stream",
     "text": [
      "C:\\ANACON~1\\envs\\BES_analysis\\lib\\site-packages\\scipy\\stats\\morestats.py:1684: UserWarning: approximate p-value will be computed by extrapolation\n",
      "  warnings.warn(\"approximate p-value will be computed by extrapolation\")\n"
     ]
    },
    {
     "name": "stdout",
     "output_type": "stream",
     "text": [
      "('****', 'blameLeave_5W9', '****')\n"
     ]
    },
    {
     "name": "stderr",
     "output_type": "stream",
     "text": [
      "C:\\ANACON~1\\envs\\BES_analysis\\lib\\site-packages\\scipy\\stats\\morestats.py:1684: UserWarning: approximate p-value will be computed by extrapolation\n",
      "  warnings.warn(\"approximate p-value will be computed by extrapolation\")\n"
     ]
    },
    {
     "name": "stdout",
     "output_type": "stream",
     "text": [
      "('****', 'blameLeave_6W9', '****')\n"
     ]
    },
    {
     "name": "stderr",
     "output_type": "stream",
     "text": [
      "C:\\ANACON~1\\envs\\BES_analysis\\lib\\site-packages\\scipy\\stats\\morestats.py:1684: UserWarning: approximate p-value will be computed by extrapolation\n",
      "  warnings.warn(\"approximate p-value will be computed by extrapolation\")\n"
     ]
    },
    {
     "name": "stdout",
     "output_type": "stream",
     "text": [
      "('****', 'blameLeave_7W9', '****')\n"
     ]
    },
    {
     "name": "stderr",
     "output_type": "stream",
     "text": [
      "C:\\ANACON~1\\envs\\BES_analysis\\lib\\site-packages\\scipy\\stats\\morestats.py:1684: UserWarning: approximate p-value will be computed by extrapolation\n",
      "  warnings.warn(\"approximate p-value will be computed by extrapolation\")\n"
     ]
    },
    {
     "name": "stdout",
     "output_type": "stream",
     "text": [
      "('****', 'blameLeave_8W9', '****')\n"
     ]
    },
    {
     "name": "stderr",
     "output_type": "stream",
     "text": [
      "C:\\ANACON~1\\envs\\BES_analysis\\lib\\site-packages\\scipy\\stats\\morestats.py:1684: UserWarning: approximate p-value will be computed by extrapolation\n",
      "  warnings.warn(\"approximate p-value will be computed by extrapolation\")\n"
     ]
    },
    {
     "name": "stdout",
     "output_type": "stream",
     "text": [
      "('****', 'blameLeave_12W9', '****')\n"
     ]
    },
    {
     "name": "stderr",
     "output_type": "stream",
     "text": [
      "C:\\ANACON~1\\envs\\BES_analysis\\lib\\site-packages\\scipy\\stats\\morestats.py:1684: UserWarning: approximate p-value will be computed by extrapolation\n",
      "  warnings.warn(\"approximate p-value will be computed by extrapolation\")\n"
     ]
    },
    {
     "name": "stdout",
     "output_type": "stream",
     "text": [
      "('****', 'blameLeave_99W9', '****')\n"
     ]
    },
    {
     "name": "stderr",
     "output_type": "stream",
     "text": [
      "C:\\ANACON~1\\envs\\BES_analysis\\lib\\site-packages\\scipy\\stats\\morestats.py:1684: UserWarning: approximate p-value will be computed by extrapolation\n",
      "  warnings.warn(\"approximate p-value will be computed by extrapolation\")\n"
     ]
    },
    {
     "name": "stdout",
     "output_type": "stream",
     "text": [
      "('****', 'creditLeave_1W9', '****')\n"
     ]
    },
    {
     "name": "stderr",
     "output_type": "stream",
     "text": [
      "C:\\ANACON~1\\envs\\BES_analysis\\lib\\site-packages\\scipy\\stats\\morestats.py:1684: UserWarning: approximate p-value will be computed by extrapolation\n",
      "  warnings.warn(\"approximate p-value will be computed by extrapolation\")\n"
     ]
    },
    {
     "name": "stdout",
     "output_type": "stream",
     "text": [
      "('****', 'creditLeave_2W9', '****')\n"
     ]
    },
    {
     "name": "stderr",
     "output_type": "stream",
     "text": [
      "C:\\ANACON~1\\envs\\BES_analysis\\lib\\site-packages\\scipy\\stats\\morestats.py:1684: UserWarning: approximate p-value will be computed by extrapolation\n",
      "  warnings.warn(\"approximate p-value will be computed by extrapolation\")\n"
     ]
    },
    {
     "name": "stdout",
     "output_type": "stream",
     "text": [
      "('****', 'creditLeave_3W9', '****')\n"
     ]
    },
    {
     "name": "stderr",
     "output_type": "stream",
     "text": [
      "C:\\ANACON~1\\envs\\BES_analysis\\lib\\site-packages\\scipy\\stats\\morestats.py:1684: UserWarning: approximate p-value will be computed by extrapolation\n",
      "  warnings.warn(\"approximate p-value will be computed by extrapolation\")\n"
     ]
    },
    {
     "name": "stdout",
     "output_type": "stream",
     "text": [
      "('****', 'creditLeave_4W9', '****')\n"
     ]
    },
    {
     "name": "stderr",
     "output_type": "stream",
     "text": [
      "C:\\ANACON~1\\envs\\BES_analysis\\lib\\site-packages\\scipy\\stats\\morestats.py:1684: UserWarning: approximate p-value will be computed by extrapolation\n",
      "  warnings.warn(\"approximate p-value will be computed by extrapolation\")\n"
     ]
    },
    {
     "name": "stdout",
     "output_type": "stream",
     "text": [
      "('****', 'creditLeave_5W9', '****')\n"
     ]
    },
    {
     "name": "stderr",
     "output_type": "stream",
     "text": [
      "C:\\ANACON~1\\envs\\BES_analysis\\lib\\site-packages\\scipy\\stats\\morestats.py:1684: UserWarning: approximate p-value will be computed by extrapolation\n",
      "  warnings.warn(\"approximate p-value will be computed by extrapolation\")\n"
     ]
    },
    {
     "name": "stdout",
     "output_type": "stream",
     "text": [
      "('****', 'creditLeave_6W9', '****')\n"
     ]
    },
    {
     "name": "stderr",
     "output_type": "stream",
     "text": [
      "C:\\ANACON~1\\envs\\BES_analysis\\lib\\site-packages\\scipy\\stats\\morestats.py:1684: UserWarning: approximate p-value will be computed by extrapolation\n",
      "  warnings.warn(\"approximate p-value will be computed by extrapolation\")\n"
     ]
    },
    {
     "name": "stdout",
     "output_type": "stream",
     "text": [
      "('****', 'creditLeave_7W9', '****')\n"
     ]
    },
    {
     "name": "stderr",
     "output_type": "stream",
     "text": [
      "C:\\ANACON~1\\envs\\BES_analysis\\lib\\site-packages\\scipy\\stats\\morestats.py:1684: UserWarning: approximate p-value will be computed by extrapolation\n",
      "  warnings.warn(\"approximate p-value will be computed by extrapolation\")\n"
     ]
    },
    {
     "name": "stdout",
     "output_type": "stream",
     "text": [
      "('****', 'creditLeave_8W9', '****')\n"
     ]
    },
    {
     "name": "stderr",
     "output_type": "stream",
     "text": [
      "C:\\ANACON~1\\envs\\BES_analysis\\lib\\site-packages\\scipy\\stats\\morestats.py:1684: UserWarning: approximate p-value will be computed by extrapolation\n",
      "  warnings.warn(\"approximate p-value will be computed by extrapolation\")\n"
     ]
    },
    {
     "name": "stdout",
     "output_type": "stream",
     "text": [
      "('****', 'creditLeave_12W9', '****')\n"
     ]
    },
    {
     "name": "stderr",
     "output_type": "stream",
     "text": [
      "C:\\ANACON~1\\envs\\BES_analysis\\lib\\site-packages\\scipy\\stats\\morestats.py:1684: UserWarning: approximate p-value will be computed by extrapolation\n",
      "  warnings.warn(\"approximate p-value will be computed by extrapolation\")\n"
     ]
    },
    {
     "name": "stdout",
     "output_type": "stream",
     "text": [
      "('****', 'creditLeave_99W9', '****')\n"
     ]
    },
    {
     "name": "stderr",
     "output_type": "stream",
     "text": [
      "C:\\ANACON~1\\envs\\BES_analysis\\lib\\site-packages\\scipy\\stats\\morestats.py:1684: UserWarning: approximate p-value will be computed by extrapolation\n",
      "  warnings.warn(\"approximate p-value will be computed by extrapolation\")\n",
      "C:\\ANACON~1\\envs\\BES_analysis\\lib\\site-packages\\scipy\\stats\\morestats.py:1684: UserWarning: approximate p-value will be computed by extrapolation\n",
      "  warnings.warn(\"approximate p-value will be computed by extrapolation\")\n",
      "C:\\ANACON~1\\envs\\BES_analysis\\lib\\site-packages\\scipy\\stats\\morestats.py:1684: UserWarning: approximate p-value will be computed by extrapolation\n",
      "  warnings.warn(\"approximate p-value will be computed by extrapolation\")\n",
      "C:\\ANACON~1\\envs\\BES_analysis\\lib\\site-packages\\scipy\\stats\\morestats.py:1684: UserWarning: approximate p-value will be computed by extrapolation\n",
      "  warnings.warn(\"approximate p-value will be computed by extrapolation\")\n"
     ]
    },
    {
     "name": "stdout",
     "output_type": "stream",
     "text": [
      "('****', 'approveEUW9', '****')\n"
     ]
    },
    {
     "name": "stderr",
     "output_type": "stream",
     "text": [
      "C:\\ANACON~1\\envs\\BES_analysis\\lib\\site-packages\\scipy\\stats\\morestats.py:1684: UserWarning: approximate p-value will be computed by extrapolation\n",
      "  warnings.warn(\"approximate p-value will be computed by extrapolation\")\n",
      "C:\\ANACON~1\\envs\\BES_analysis\\lib\\site-packages\\scipy\\stats\\morestats.py:1684: UserWarning: approximate p-value will be computed by extrapolation\n",
      "  warnings.warn(\"approximate p-value will be computed by extrapolation\")\n",
      "C:\\ANACON~1\\envs\\BES_analysis\\lib\\site-packages\\scipy\\stats\\morestats.py:1684: UserWarning: approximate p-value will be computed by extrapolation\n",
      "  warnings.warn(\"approximate p-value will be computed by extrapolation\")\n",
      "C:\\ANACON~1\\envs\\BES_analysis\\lib\\site-packages\\scipy\\stats\\morestats.py:1684: UserWarning: approximate p-value will be computed by extrapolation\n",
      "  warnings.warn(\"approximate p-value will be computed by extrapolation\")\n",
      "C:\\ANACON~1\\envs\\BES_analysis\\lib\\site-packages\\scipy\\stats\\morestats.py:1684: UserWarning: approximate p-value will be computed by extrapolation\n",
      "  warnings.warn(\"approximate p-value will be computed by extrapolation\")\n",
      "C:\\ANACON~1\\envs\\BES_analysis\\lib\\site-packages\\scipy\\stats\\morestats.py:1684: UserWarning: approximate p-value will be computed by extrapolation\n",
      "  warnings.warn(\"approximate p-value will be computed by extrapolation\")\n",
      "C:\\ANACON~1\\envs\\BES_analysis\\lib\\site-packages\\scipy\\stats\\morestats.py:1684: UserWarning: approximate p-value will be computed by extrapolation\n",
      "  warnings.warn(\"approximate p-value will be computed by extrapolation\")\n",
      "C:\\ANACON~1\\envs\\BES_analysis\\lib\\site-packages\\scipy\\stats\\morestats.py:1684: UserWarning: approximate p-value will be computed by extrapolation\n",
      "  warnings.warn(\"approximate p-value will be computed by extrapolation\")\n",
      "C:\\ANACON~1\\envs\\BES_analysis\\lib\\site-packages\\scipy\\stats\\morestats.py:1684: UserWarning: approximate p-value will be computed by extrapolation\n",
      "  warnings.warn(\"approximate p-value will be computed by extrapolation\")\n"
     ]
    },
    {
     "name": "stdout",
     "output_type": "stream",
     "text": [
      "('****', 'EUIntegrationSelfW9', '****')\n"
     ]
    },
    {
     "name": "stderr",
     "output_type": "stream",
     "text": [
      "C:\\ANACON~1\\envs\\BES_analysis\\lib\\site-packages\\scipy\\stats\\morestats.py:1684: UserWarning: approximate p-value will be computed by extrapolation\n",
      "  warnings.warn(\"approximate p-value will be computed by extrapolation\")\n",
      "C:\\ANACON~1\\envs\\BES_analysis\\lib\\site-packages\\scipy\\stats\\morestats.py:1684: UserWarning: approximate p-value will be computed by extrapolation\n",
      "  warnings.warn(\"approximate p-value will be computed by extrapolation\")\n",
      "C:\\ANACON~1\\envs\\BES_analysis\\lib\\site-packages\\scipy\\stats\\morestats.py:1684: UserWarning: approximate p-value will be computed by extrapolation\n",
      "  warnings.warn(\"approximate p-value will be computed by extrapolation\")\n",
      "C:\\ANACON~1\\envs\\BES_analysis\\lib\\site-packages\\scipy\\stats\\morestats.py:1684: UserWarning: approximate p-value will be computed by extrapolation\n",
      "  warnings.warn(\"approximate p-value will be computed by extrapolation\")\n",
      "C:\\ANACON~1\\envs\\BES_analysis\\lib\\site-packages\\scipy\\stats\\morestats.py:1684: UserWarning: approximate p-value will be computed by extrapolation\n",
      "  warnings.warn(\"approximate p-value will be computed by extrapolation\")\n",
      "C:\\ANACON~1\\envs\\BES_analysis\\lib\\site-packages\\scipy\\stats\\morestats.py:1684: UserWarning: approximate p-value will be computed by extrapolation\n",
      "  warnings.warn(\"approximate p-value will be computed by extrapolation\")\n",
      "C:\\ANACON~1\\envs\\BES_analysis\\lib\\site-packages\\scipy\\stats\\morestats.py:1684: UserWarning: approximate p-value will be computed by extrapolation\n",
      "  warnings.warn(\"approximate p-value will be computed by extrapolation\")\n",
      "C:\\ANACON~1\\envs\\BES_analysis\\lib\\site-packages\\scipy\\stats\\morestats.py:1684: UserWarning: approximate p-value will be computed by extrapolation\n",
      "  warnings.warn(\"approximate p-value will be computed by extrapolation\")\n",
      "C:\\ANACON~1\\envs\\BES_analysis\\lib\\site-packages\\scipy\\stats\\morestats.py:1684: UserWarning: approximate p-value will be computed by extrapolation\n",
      "  warnings.warn(\"approximate p-value will be computed by extrapolation\")\n",
      "C:\\ANACON~1\\envs\\BES_analysis\\lib\\site-packages\\scipy\\stats\\morestats.py:1684: UserWarning: approximate p-value will be computed by extrapolation\n",
      "  warnings.warn(\"approximate p-value will be computed by extrapolation\")\n",
      "C:\\ANACON~1\\envs\\BES_analysis\\lib\\site-packages\\scipy\\stats\\morestats.py:1684: UserWarning: approximate p-value will be computed by extrapolation\n",
      "  warnings.warn(\"approximate p-value will be computed by extrapolation\")\n",
      "C:\\ANACON~1\\envs\\BES_analysis\\lib\\site-packages\\scipy\\stats\\morestats.py:1684: UserWarning: approximate p-value will be computed by extrapolation\n",
      "  warnings.warn(\"approximate p-value will be computed by extrapolation\")\n",
      "C:\\ANACON~1\\envs\\BES_analysis\\lib\\site-packages\\scipy\\stats\\morestats.py:1684: UserWarning: approximate p-value will be computed by extrapolation\n",
      "  warnings.warn(\"approximate p-value will be computed by extrapolation\")\n",
      "C:\\ANACON~1\\envs\\BES_analysis\\lib\\site-packages\\scipy\\stats\\morestats.py:1684: UserWarning: approximate p-value will be computed by extrapolation\n",
      "  warnings.warn(\"approximate p-value will be computed by extrapolation\")\n",
      "C:\\ANACON~1\\envs\\BES_analysis\\lib\\site-packages\\scipy\\stats\\morestats.py:1684: UserWarning: approximate p-value will be computed by extrapolation\n",
      "  warnings.warn(\"approximate p-value will be computed by extrapolation\")\n",
      "C:\\ANACON~1\\envs\\BES_analysis\\lib\\site-packages\\scipy\\stats\\morestats.py:1684: UserWarning: approximate p-value will be computed by extrapolation\n",
      "  warnings.warn(\"approximate p-value will be computed by extrapolation\")\n",
      "C:\\ANACON~1\\envs\\BES_analysis\\lib\\site-packages\\scipy\\stats\\morestats.py:1684: UserWarning: approximate p-value will be computed by extrapolation\n",
      "  warnings.warn(\"approximate p-value will be computed by extrapolation\")\n",
      "C:\\ANACON~1\\envs\\BES_analysis\\lib\\site-packages\\scipy\\stats\\morestats.py:1684: UserWarning: approximate p-value will be computed by extrapolation\n",
      "  warnings.warn(\"approximate p-value will be computed by extrapolation\")\n",
      "C:\\ANACON~1\\envs\\BES_analysis\\lib\\site-packages\\scipy\\stats\\morestats.py:1684: UserWarning: approximate p-value will be computed by extrapolation\n",
      "  warnings.warn(\"approximate p-value will be computed by extrapolation\")\n",
      "C:\\ANACON~1\\envs\\BES_analysis\\lib\\site-packages\\scipy\\stats\\morestats.py:1684: UserWarning: approximate p-value will be computed by extrapolation\n",
      "  warnings.warn(\"approximate p-value will be computed by extrapolation\")\n",
      "C:\\ANACON~1\\envs\\BES_analysis\\lib\\site-packages\\scipy\\stats\\morestats.py:1684: UserWarning: approximate p-value will be computed by extrapolation\n",
      "  warnings.warn(\"approximate p-value will be computed by extrapolation\")\n",
      "C:\\ANACON~1\\envs\\BES_analysis\\lib\\site-packages\\scipy\\stats\\morestats.py:1684: UserWarning: approximate p-value will be computed by extrapolation\n",
      "  warnings.warn(\"approximate p-value will be computed by extrapolation\")\n",
      "C:\\ANACON~1\\envs\\BES_analysis\\lib\\site-packages\\scipy\\stats\\morestats.py:1684: UserWarning: approximate p-value will be computed by extrapolation\n",
      "  warnings.warn(\"approximate p-value will be computed by extrapolation\")\n",
      "C:\\ANACON~1\\envs\\BES_analysis\\lib\\site-packages\\scipy\\stats\\morestats.py:1684: UserWarning: approximate p-value will be computed by extrapolation\n",
      "  warnings.warn(\"approximate p-value will be computed by extrapolation\")\n",
      "C:\\ANACON~1\\envs\\BES_analysis\\lib\\site-packages\\scipy\\stats\\morestats.py:1684: UserWarning: approximate p-value will be computed by extrapolation\n",
      "  warnings.warn(\"approximate p-value will be computed by extrapolation\")\n",
      "C:\\ANACON~1\\envs\\BES_analysis\\lib\\site-packages\\scipy\\stats\\morestats.py:1684: UserWarning: approximate p-value will be computed by extrapolation\n",
      "  warnings.warn(\"approximate p-value will be computed by extrapolation\")\n",
      "C:\\ANACON~1\\envs\\BES_analysis\\lib\\site-packages\\scipy\\stats\\morestats.py:1684: UserWarning: approximate p-value will be computed by extrapolation\n",
      "  warnings.warn(\"approximate p-value will be computed by extrapolation\")\n",
      "C:\\ANACON~1\\envs\\BES_analysis\\lib\\site-packages\\scipy\\stats\\morestats.py:1684: UserWarning: approximate p-value will be computed by extrapolation\n",
      "  warnings.warn(\"approximate p-value will be computed by extrapolation\")\n",
      "C:\\ANACON~1\\envs\\BES_analysis\\lib\\site-packages\\scipy\\stats\\morestats.py:1684: UserWarning: approximate p-value will be computed by extrapolation\n",
      "  warnings.warn(\"approximate p-value will be computed by extrapolation\")\n",
      "C:\\ANACON~1\\envs\\BES_analysis\\lib\\site-packages\\scipy\\stats\\morestats.py:1684: UserWarning: approximate p-value will be computed by extrapolation\n",
      "  warnings.warn(\"approximate p-value will be computed by extrapolation\")\n",
      "C:\\ANACON~1\\envs\\BES_analysis\\lib\\site-packages\\scipy\\stats\\morestats.py:1684: UserWarning: approximate p-value will be computed by extrapolation\n",
      "  warnings.warn(\"approximate p-value will be computed by extrapolation\")\n",
      "C:\\ANACON~1\\envs\\BES_analysis\\lib\\site-packages\\scipy\\stats\\morestats.py:1684: UserWarning: approximate p-value will be computed by extrapolation\n",
      "  warnings.warn(\"approximate p-value will be computed by extrapolation\")\n",
      "C:\\ANACON~1\\envs\\BES_analysis\\lib\\site-packages\\scipy\\stats\\morestats.py:1684: UserWarning: approximate p-value will be computed by extrapolation\n",
      "  warnings.warn(\"approximate p-value will be computed by extrapolation\")\n",
      "C:\\ANACON~1\\envs\\BES_analysis\\lib\\site-packages\\scipy\\stats\\morestats.py:1684: UserWarning: approximate p-value will be computed by extrapolation\n",
      "  warnings.warn(\"approximate p-value will be computed by extrapolation\")\n",
      "C:\\ANACON~1\\envs\\BES_analysis\\lib\\site-packages\\scipy\\stats\\morestats.py:1684: UserWarning: approximate p-value will be computed by extrapolation\n",
      "  warnings.warn(\"approximate p-value will be computed by extrapolation\")\n",
      "C:\\ANACON~1\\envs\\BES_analysis\\lib\\site-packages\\scipy\\stats\\morestats.py:1684: UserWarning: approximate p-value will be computed by extrapolation\n",
      "  warnings.warn(\"approximate p-value will be computed by extrapolation\")\n",
      "C:\\ANACON~1\\envs\\BES_analysis\\lib\\site-packages\\scipy\\stats\\morestats.py:1684: UserWarning: approximate p-value will be computed by extrapolation\n",
      "  warnings.warn(\"approximate p-value will be computed by extrapolation\")\n",
      "C:\\ANACON~1\\envs\\BES_analysis\\lib\\site-packages\\scipy\\stats\\morestats.py:1684: UserWarning: approximate p-value will be computed by extrapolation\n",
      "  warnings.warn(\"approximate p-value will be computed by extrapolation\")\n",
      "C:\\ANACON~1\\envs\\BES_analysis\\lib\\site-packages\\scipy\\stats\\morestats.py:1684: UserWarning: approximate p-value will be computed by extrapolation\n",
      "  warnings.warn(\"approximate p-value will be computed by extrapolation\")\n",
      "C:\\ANACON~1\\envs\\BES_analysis\\lib\\site-packages\\scipy\\stats\\morestats.py:1684: UserWarning: approximate p-value will be computed by extrapolation\n",
      "  warnings.warn(\"approximate p-value will be computed by extrapolation\")\n",
      "C:\\ANACON~1\\envs\\BES_analysis\\lib\\site-packages\\scipy\\stats\\morestats.py:1684: UserWarning: approximate p-value will be computed by extrapolation\n",
      "  warnings.warn(\"approximate p-value will be computed by extrapolation\")\n"
     ]
    },
    {
     "name": "stdout",
     "output_type": "stream",
     "text": [
      "('****', 'ptvUKIPW9', '****')\n"
     ]
    },
    {
     "name": "stderr",
     "output_type": "stream",
     "text": [
      "C:\\ANACON~1\\envs\\BES_analysis\\lib\\site-packages\\scipy\\stats\\morestats.py:1684: UserWarning: approximate p-value will be computed by extrapolation\n",
      "  warnings.warn(\"approximate p-value will be computed by extrapolation\")\n",
      "C:\\ANACON~1\\envs\\BES_analysis\\lib\\site-packages\\scipy\\stats\\morestats.py:1684: UserWarning: approximate p-value will be computed by extrapolation\n",
      "  warnings.warn(\"approximate p-value will be computed by extrapolation\")\n",
      "C:\\ANACON~1\\envs\\BES_analysis\\lib\\site-packages\\scipy\\stats\\morestats.py:1684: UserWarning: approximate p-value will be computed by extrapolation\n",
      "  warnings.warn(\"approximate p-value will be computed by extrapolation\")\n",
      "C:\\ANACON~1\\envs\\BES_analysis\\lib\\site-packages\\scipy\\stats\\morestats.py:1684: UserWarning: approximate p-value will be computed by extrapolation\n",
      "  warnings.warn(\"approximate p-value will be computed by extrapolation\")\n",
      "C:\\ANACON~1\\envs\\BES_analysis\\lib\\site-packages\\scipy\\stats\\morestats.py:1684: UserWarning: approximate p-value will be computed by extrapolation\n",
      "  warnings.warn(\"approximate p-value will be computed by extrapolation\")\n",
      "C:\\ANACON~1\\envs\\BES_analysis\\lib\\site-packages\\scipy\\stats\\morestats.py:1684: UserWarning: approximate p-value will be computed by extrapolation\n",
      "  warnings.warn(\"approximate p-value will be computed by extrapolation\")\n",
      "C:\\ANACON~1\\envs\\BES_analysis\\lib\\site-packages\\scipy\\stats\\morestats.py:1684: UserWarning: approximate p-value will be computed by extrapolation\n",
      "  warnings.warn(\"approximate p-value will be computed by extrapolation\")\n",
      "C:\\ANACON~1\\envs\\BES_analysis\\lib\\site-packages\\scipy\\stats\\morestats.py:1684: UserWarning: approximate p-value will be computed by extrapolation\n",
      "  warnings.warn(\"approximate p-value will be computed by extrapolation\")\n",
      "C:\\ANACON~1\\envs\\BES_analysis\\lib\\site-packages\\scipy\\stats\\morestats.py:1684: UserWarning: approximate p-value will be computed by extrapolation\n",
      "  warnings.warn(\"approximate p-value will be computed by extrapolation\")\n",
      "C:\\ANACON~1\\envs\\BES_analysis\\lib\\site-packages\\scipy\\stats\\morestats.py:1684: UserWarning: approximate p-value will be computed by extrapolation\n",
      "  warnings.warn(\"approximate p-value will be computed by extrapolation\")\n",
      "C:\\ANACON~1\\envs\\BES_analysis\\lib\\site-packages\\scipy\\stats\\morestats.py:1684: UserWarning: approximate p-value will be computed by extrapolation\n",
      "  warnings.warn(\"approximate p-value will be computed by extrapolation\")\n",
      "C:\\ANACON~1\\envs\\BES_analysis\\lib\\site-packages\\scipy\\stats\\morestats.py:1684: UserWarning: approximate p-value will be computed by extrapolation\n",
      "  warnings.warn(\"approximate p-value will be computed by extrapolation\")\n",
      "C:\\ANACON~1\\envs\\BES_analysis\\lib\\site-packages\\scipy\\stats\\morestats.py:1684: UserWarning: approximate p-value will be computed by extrapolation\n",
      "  warnings.warn(\"approximate p-value will be computed by extrapolation\")\n",
      "C:\\ANACON~1\\envs\\BES_analysis\\lib\\site-packages\\scipy\\stats\\morestats.py:1684: UserWarning: approximate p-value will be computed by extrapolation\n",
      "  warnings.warn(\"approximate p-value will be computed by extrapolation\")\n",
      "C:\\ANACON~1\\envs\\BES_analysis\\lib\\site-packages\\scipy\\stats\\morestats.py:1684: UserWarning: approximate p-value will be computed by extrapolation\n",
      "  warnings.warn(\"approximate p-value will be computed by extrapolation\")\n",
      "C:\\ANACON~1\\envs\\BES_analysis\\lib\\site-packages\\scipy\\stats\\morestats.py:1684: UserWarning: approximate p-value will be computed by extrapolation\n",
      "  warnings.warn(\"approximate p-value will be computed by extrapolation\")\n",
      "C:\\ANACON~1\\envs\\BES_analysis\\lib\\site-packages\\scipy\\stats\\morestats.py:1684: UserWarning: approximate p-value will be computed by extrapolation\n",
      "  warnings.warn(\"approximate p-value will be computed by extrapolation\")\n",
      "C:\\ANACON~1\\envs\\BES_analysis\\lib\\site-packages\\scipy\\stats\\morestats.py:1684: UserWarning: approximate p-value will be computed by extrapolation\n",
      "  warnings.warn(\"approximate p-value will be computed by extrapolation\")\n",
      "C:\\ANACON~1\\envs\\BES_analysis\\lib\\site-packages\\scipy\\stats\\morestats.py:1684: UserWarning: approximate p-value will be computed by extrapolation\n",
      "  warnings.warn(\"approximate p-value will be computed by extrapolation\")\n",
      "C:\\ANACON~1\\envs\\BES_analysis\\lib\\site-packages\\scipy\\stats\\morestats.py:1684: UserWarning: approximate p-value will be computed by extrapolation\n",
      "  warnings.warn(\"approximate p-value will be computed by extrapolation\")\n",
      "C:\\ANACON~1\\envs\\BES_analysis\\lib\\site-packages\\scipy\\stats\\morestats.py:1684: UserWarning: approximate p-value will be computed by extrapolation\n",
      "  warnings.warn(\"approximate p-value will be computed by extrapolation\")\n",
      "C:\\ANACON~1\\envs\\BES_analysis\\lib\\site-packages\\scipy\\stats\\morestats.py:1684: UserWarning: approximate p-value will be computed by extrapolation\n",
      "  warnings.warn(\"approximate p-value will be computed by extrapolation\")\n",
      "C:\\ANACON~1\\envs\\BES_analysis\\lib\\site-packages\\scipy\\stats\\morestats.py:1684: UserWarning: approximate p-value will be computed by extrapolation\n",
      "  warnings.warn(\"approximate p-value will be computed by extrapolation\")\n",
      "C:\\ANACON~1\\envs\\BES_analysis\\lib\\site-packages\\scipy\\stats\\morestats.py:1684: UserWarning: approximate p-value will be computed by extrapolation\n",
      "  warnings.warn(\"approximate p-value will be computed by extrapolation\")\n",
      "C:\\ANACON~1\\envs\\BES_analysis\\lib\\site-packages\\scipy\\stats\\morestats.py:1684: UserWarning: approximate p-value will be computed by extrapolation\n",
      "  warnings.warn(\"approximate p-value will be computed by extrapolation\")\n",
      "C:\\ANACON~1\\envs\\BES_analysis\\lib\\site-packages\\scipy\\stats\\morestats.py:1684: UserWarning: approximate p-value will be computed by extrapolation\n",
      "  warnings.warn(\"approximate p-value will be computed by extrapolation\")\n",
      "C:\\ANACON~1\\envs\\BES_analysis\\lib\\site-packages\\scipy\\stats\\morestats.py:1684: UserWarning: approximate p-value will be computed by extrapolation\n",
      "  warnings.warn(\"approximate p-value will be computed by extrapolation\")\n",
      "C:\\ANACON~1\\envs\\BES_analysis\\lib\\site-packages\\scipy\\stats\\morestats.py:1684: UserWarning: approximate p-value will be computed by extrapolation\n",
      "  warnings.warn(\"approximate p-value will be computed by extrapolation\")\n",
      "C:\\ANACON~1\\envs\\BES_analysis\\lib\\site-packages\\scipy\\stats\\morestats.py:1684: UserWarning: approximate p-value will be computed by extrapolation\n",
      "  warnings.warn(\"approximate p-value will be computed by extrapolation\")\n",
      "C:\\ANACON~1\\envs\\BES_analysis\\lib\\site-packages\\scipy\\stats\\morestats.py:1684: UserWarning: approximate p-value will be computed by extrapolation\n",
      "  warnings.warn(\"approximate p-value will be computed by extrapolation\")\n",
      "C:\\ANACON~1\\envs\\BES_analysis\\lib\\site-packages\\scipy\\stats\\morestats.py:1684: UserWarning: approximate p-value will be computed by extrapolation\n",
      "  warnings.warn(\"approximate p-value will be computed by extrapolation\")\n",
      "C:\\ANACON~1\\envs\\BES_analysis\\lib\\site-packages\\scipy\\stats\\morestats.py:1684: UserWarning: approximate p-value will be computed by extrapolation\n",
      "  warnings.warn(\"approximate p-value will be computed by extrapolation\")\n",
      "C:\\ANACON~1\\envs\\BES_analysis\\lib\\site-packages\\scipy\\stats\\morestats.py:1684: UserWarning: approximate p-value will be computed by extrapolation\n",
      "  warnings.warn(\"approximate p-value will be computed by extrapolation\")\n",
      "C:\\ANACON~1\\envs\\BES_analysis\\lib\\site-packages\\scipy\\stats\\morestats.py:1684: UserWarning: approximate p-value will be computed by extrapolation\n",
      "  warnings.warn(\"approximate p-value will be computed by extrapolation\")\n",
      "C:\\ANACON~1\\envs\\BES_analysis\\lib\\site-packages\\scipy\\stats\\morestats.py:1684: UserWarning: approximate p-value will be computed by extrapolation\n",
      "  warnings.warn(\"approximate p-value will be computed by extrapolation\")\n",
      "C:\\ANACON~1\\envs\\BES_analysis\\lib\\site-packages\\scipy\\stats\\morestats.py:1684: UserWarning: approximate p-value will be computed by extrapolation\n",
      "  warnings.warn(\"approximate p-value will be computed by extrapolation\")\n",
      "C:\\ANACON~1\\envs\\BES_analysis\\lib\\site-packages\\scipy\\stats\\morestats.py:1684: UserWarning: approximate p-value will be computed by extrapolation\n",
      "  warnings.warn(\"approximate p-value will be computed by extrapolation\")\n",
      "C:\\ANACON~1\\envs\\BES_analysis\\lib\\site-packages\\scipy\\stats\\morestats.py:1684: UserWarning: approximate p-value will be computed by extrapolation\n",
      "  warnings.warn(\"approximate p-value will be computed by extrapolation\")\n",
      "C:\\ANACON~1\\envs\\BES_analysis\\lib\\site-packages\\scipy\\stats\\morestats.py:1684: UserWarning: approximate p-value will be computed by extrapolation\n",
      "  warnings.warn(\"approximate p-value will be computed by extrapolation\")\n",
      "C:\\ANACON~1\\envs\\BES_analysis\\lib\\site-packages\\scipy\\stats\\morestats.py:1684: UserWarning: approximate p-value will be computed by extrapolation\n",
      "  warnings.warn(\"approximate p-value will be computed by extrapolation\")\n",
      "C:\\ANACON~1\\envs\\BES_analysis\\lib\\site-packages\\scipy\\stats\\morestats.py:1684: UserWarning: approximate p-value will be computed by extrapolation\n",
      "  warnings.warn(\"approximate p-value will be computed by extrapolation\")\n",
      "C:\\ANACON~1\\envs\\BES_analysis\\lib\\site-packages\\scipy\\stats\\morestats.py:1684: UserWarning: approximate p-value will be computed by extrapolation\n",
      "  warnings.warn(\"approximate p-value will be computed by extrapolation\")\n",
      "C:\\ANACON~1\\envs\\BES_analysis\\lib\\site-packages\\scipy\\stats\\morestats.py:1684: UserWarning: approximate p-value will be computed by extrapolation\n",
      "  warnings.warn(\"approximate p-value will be computed by extrapolation\")\n",
      "C:\\ANACON~1\\envs\\BES_analysis\\lib\\site-packages\\scipy\\stats\\morestats.py:1684: UserWarning: approximate p-value will be computed by extrapolation\n",
      "  warnings.warn(\"approximate p-value will be computed by extrapolation\")\n",
      "C:\\ANACON~1\\envs\\BES_analysis\\lib\\site-packages\\scipy\\stats\\morestats.py:1684: UserWarning: approximate p-value will be computed by extrapolation\n",
      "  warnings.warn(\"approximate p-value will be computed by extrapolation\")\n",
      "C:\\ANACON~1\\envs\\BES_analysis\\lib\\site-packages\\scipy\\stats\\morestats.py:1684: UserWarning: approximate p-value will be computed by extrapolation\n",
      "  warnings.warn(\"approximate p-value will be computed by extrapolation\")\n",
      "C:\\ANACON~1\\envs\\BES_analysis\\lib\\site-packages\\scipy\\stats\\morestats.py:1684: UserWarning: approximate p-value will be computed by extrapolation\n",
      "  warnings.warn(\"approximate p-value will be computed by extrapolation\")\n",
      "C:\\ANACON~1\\envs\\BES_analysis\\lib\\site-packages\\scipy\\stats\\morestats.py:1684: UserWarning: approximate p-value will be computed by extrapolation\n",
      "  warnings.warn(\"approximate p-value will be computed by extrapolation\")\n",
      "C:\\ANACON~1\\envs\\BES_analysis\\lib\\site-packages\\scipy\\stats\\morestats.py:1684: UserWarning: approximate p-value will be computed by extrapolation\n",
      "  warnings.warn(\"approximate p-value will be computed by extrapolation\")\n",
      "C:\\ANACON~1\\envs\\BES_analysis\\lib\\site-packages\\scipy\\stats\\morestats.py:1684: UserWarning: approximate p-value will be computed by extrapolation\n",
      "  warnings.warn(\"approximate p-value will be computed by extrapolation\")\n",
      "C:\\ANACON~1\\envs\\BES_analysis\\lib\\site-packages\\scipy\\stats\\morestats.py:1684: UserWarning: approximate p-value will be computed by extrapolation\n",
      "  warnings.warn(\"approximate p-value will be computed by extrapolation\")\n",
      "C:\\ANACON~1\\envs\\BES_analysis\\lib\\site-packages\\scipy\\stats\\morestats.py:1684: UserWarning: approximate p-value will be computed by extrapolation\n",
      "  warnings.warn(\"approximate p-value will be computed by extrapolation\")\n",
      "C:\\ANACON~1\\envs\\BES_analysis\\lib\\site-packages\\scipy\\stats\\morestats.py:1684: UserWarning: approximate p-value will be computed by extrapolation\n",
      "  warnings.warn(\"approximate p-value will be computed by extrapolation\")\n",
      "C:\\ANACON~1\\envs\\BES_analysis\\lib\\site-packages\\scipy\\stats\\morestats.py:1684: UserWarning: approximate p-value will be computed by extrapolation\n",
      "  warnings.warn(\"approximate p-value will be computed by extrapolation\")\n",
      "C:\\ANACON~1\\envs\\BES_analysis\\lib\\site-packages\\scipy\\stats\\morestats.py:1684: UserWarning: approximate p-value will be computed by extrapolation\n",
      "  warnings.warn(\"approximate p-value will be computed by extrapolation\")\n",
      "C:\\ANACON~1\\envs\\BES_analysis\\lib\\site-packages\\scipy\\stats\\morestats.py:1684: UserWarning: approximate p-value will be computed by extrapolation\n",
      "  warnings.warn(\"approximate p-value will be computed by extrapolation\")\n",
      "C:\\ANACON~1\\envs\\BES_analysis\\lib\\site-packages\\scipy\\stats\\morestats.py:1684: UserWarning: approximate p-value will be computed by extrapolation\n",
      "  warnings.warn(\"approximate p-value will be computed by extrapolation\")\n",
      "C:\\ANACON~1\\envs\\BES_analysis\\lib\\site-packages\\scipy\\stats\\morestats.py:1684: UserWarning: approximate p-value will be computed by extrapolation\n",
      "  warnings.warn(\"approximate p-value will be computed by extrapolation\")\n",
      "C:\\ANACON~1\\envs\\BES_analysis\\lib\\site-packages\\scipy\\stats\\morestats.py:1684: UserWarning: approximate p-value will be computed by extrapolation\n",
      "  warnings.warn(\"approximate p-value will be computed by extrapolation\")\n",
      "C:\\ANACON~1\\envs\\BES_analysis\\lib\\site-packages\\scipy\\stats\\morestats.py:1684: UserWarning: approximate p-value will be computed by extrapolation\n",
      "  warnings.warn(\"approximate p-value will be computed by extrapolation\")\n",
      "C:\\ANACON~1\\envs\\BES_analysis\\lib\\site-packages\\scipy\\stats\\morestats.py:1684: UserWarning: approximate p-value will be computed by extrapolation\n",
      "  warnings.warn(\"approximate p-value will be computed by extrapolation\")\n",
      "C:\\ANACON~1\\envs\\BES_analysis\\lib\\site-packages\\scipy\\stats\\morestats.py:1684: UserWarning: approximate p-value will be computed by extrapolation\n",
      "  warnings.warn(\"approximate p-value will be computed by extrapolation\")\n",
      "C:\\ANACON~1\\envs\\BES_analysis\\lib\\site-packages\\scipy\\stats\\morestats.py:1684: UserWarning: approximate p-value will be computed by extrapolation\n",
      "  warnings.warn(\"approximate p-value will be computed by extrapolation\")\n",
      "C:\\ANACON~1\\envs\\BES_analysis\\lib\\site-packages\\scipy\\stats\\morestats.py:1684: UserWarning: approximate p-value will be computed by extrapolation\n",
      "  warnings.warn(\"approximate p-value will be computed by extrapolation\")\n",
      "C:\\ANACON~1\\envs\\BES_analysis\\lib\\site-packages\\scipy\\stats\\morestats.py:1684: UserWarning: approximate p-value will be computed by extrapolation\n",
      "  warnings.warn(\"approximate p-value will be computed by extrapolation\")\n",
      "C:\\ANACON~1\\envs\\BES_analysis\\lib\\site-packages\\scipy\\stats\\morestats.py:1684: UserWarning: approximate p-value will be computed by extrapolation\n",
      "  warnings.warn(\"approximate p-value will be computed by extrapolation\")\n",
      "C:\\ANACON~1\\envs\\BES_analysis\\lib\\site-packages\\scipy\\stats\\morestats.py:1684: UserWarning: approximate p-value will be computed by extrapolation\n",
      "  warnings.warn(\"approximate p-value will be computed by extrapolation\")\n",
      "C:\\ANACON~1\\envs\\BES_analysis\\lib\\site-packages\\scipy\\stats\\morestats.py:1684: UserWarning: approximate p-value will be computed by extrapolation\n",
      "  warnings.warn(\"approximate p-value will be computed by extrapolation\")\n",
      "C:\\ANACON~1\\envs\\BES_analysis\\lib\\site-packages\\scipy\\stats\\morestats.py:1684: UserWarning: approximate p-value will be computed by extrapolation\n",
      "  warnings.warn(\"approximate p-value will be computed by extrapolation\")\n",
      "C:\\ANACON~1\\envs\\BES_analysis\\lib\\site-packages\\scipy\\stats\\morestats.py:1684: UserWarning: approximate p-value will be computed by extrapolation\n",
      "  warnings.warn(\"approximate p-value will be computed by extrapolation\")\n",
      "C:\\ANACON~1\\envs\\BES_analysis\\lib\\site-packages\\scipy\\stats\\morestats.py:1684: UserWarning: approximate p-value will be computed by extrapolation\n",
      "  warnings.warn(\"approximate p-value will be computed by extrapolation\")\n",
      "C:\\ANACON~1\\envs\\BES_analysis\\lib\\site-packages\\scipy\\stats\\morestats.py:1684: UserWarning: approximate p-value will be computed by extrapolation\n",
      "  warnings.warn(\"approximate p-value will be computed by extrapolation\")\n",
      "C:\\ANACON~1\\envs\\BES_analysis\\lib\\site-packages\\scipy\\stats\\morestats.py:1684: UserWarning: approximate p-value will be computed by extrapolation\n",
      "  warnings.warn(\"approximate p-value will be computed by extrapolation\")\n",
      "C:\\ANACON~1\\envs\\BES_analysis\\lib\\site-packages\\scipy\\stats\\morestats.py:1684: UserWarning: approximate p-value will be computed by extrapolation\n",
      "  warnings.warn(\"approximate p-value will be computed by extrapolation\")\n",
      "C:\\ANACON~1\\envs\\BES_analysis\\lib\\site-packages\\scipy\\stats\\morestats.py:1684: UserWarning: approximate p-value will be computed by extrapolation\n",
      "  warnings.warn(\"approximate p-value will be computed by extrapolation\")\n",
      "C:\\ANACON~1\\envs\\BES_analysis\\lib\\site-packages\\scipy\\stats\\morestats.py:1684: UserWarning: approximate p-value will be computed by extrapolation\n",
      "  warnings.warn(\"approximate p-value will be computed by extrapolation\")\n",
      "C:\\ANACON~1\\envs\\BES_analysis\\lib\\site-packages\\scipy\\stats\\morestats.py:1684: UserWarning: approximate p-value will be computed by extrapolation\n",
      "  warnings.warn(\"approximate p-value will be computed by extrapolation\")\n",
      "C:\\ANACON~1\\envs\\BES_analysis\\lib\\site-packages\\scipy\\stats\\morestats.py:1684: UserWarning: approximate p-value will be computed by extrapolation\n",
      "  warnings.warn(\"approximate p-value will be computed by extrapolation\")\n",
      "C:\\ANACON~1\\envs\\BES_analysis\\lib\\site-packages\\scipy\\stats\\morestats.py:1684: UserWarning: approximate p-value will be computed by extrapolation\n",
      "  warnings.warn(\"approximate p-value will be computed by extrapolation\")\n",
      "C:\\ANACON~1\\envs\\BES_analysis\\lib\\site-packages\\scipy\\stats\\morestats.py:1684: UserWarning: approximate p-value will be computed by extrapolation\n",
      "  warnings.warn(\"approximate p-value will be computed by extrapolation\")\n",
      "C:\\ANACON~1\\envs\\BES_analysis\\lib\\site-packages\\scipy\\stats\\morestats.py:1684: UserWarning: approximate p-value will be computed by extrapolation\n",
      "  warnings.warn(\"approximate p-value will be computed by extrapolation\")\n",
      "C:\\ANACON~1\\envs\\BES_analysis\\lib\\site-packages\\scipy\\stats\\morestats.py:1684: UserWarning: approximate p-value will be computed by extrapolation\n",
      "  warnings.warn(\"approximate p-value will be computed by extrapolation\")\n",
      "C:\\ANACON~1\\envs\\BES_analysis\\lib\\site-packages\\scipy\\stats\\morestats.py:1684: UserWarning: approximate p-value will be computed by extrapolation\n",
      "  warnings.warn(\"approximate p-value will be computed by extrapolation\")\n",
      "C:\\ANACON~1\\envs\\BES_analysis\\lib\\site-packages\\scipy\\stats\\morestats.py:1684: UserWarning: approximate p-value will be computed by extrapolation\n",
      "  warnings.warn(\"approximate p-value will be computed by extrapolation\")\n",
      "C:\\ANACON~1\\envs\\BES_analysis\\lib\\site-packages\\scipy\\stats\\morestats.py:1684: UserWarning: approximate p-value will be computed by extrapolation\n",
      "  warnings.warn(\"approximate p-value will be computed by extrapolation\")\n",
      "C:\\ANACON~1\\envs\\BES_analysis\\lib\\site-packages\\scipy\\stats\\morestats.py:1684: UserWarning: approximate p-value will be computed by extrapolation\n",
      "  warnings.warn(\"approximate p-value will be computed by extrapolation\")\n",
      "C:\\ANACON~1\\envs\\BES_analysis\\lib\\site-packages\\scipy\\stats\\morestats.py:1684: UserWarning: approximate p-value will be computed by extrapolation\n",
      "  warnings.warn(\"approximate p-value will be computed by extrapolation\")\n",
      "C:\\ANACON~1\\envs\\BES_analysis\\lib\\site-packages\\scipy\\stats\\morestats.py:1684: UserWarning: approximate p-value will be computed by extrapolation\n",
      "  warnings.warn(\"approximate p-value will be computed by extrapolation\")\n",
      "C:\\ANACON~1\\envs\\BES_analysis\\lib\\site-packages\\scipy\\stats\\morestats.py:1684: UserWarning: approximate p-value will be computed by extrapolation\n",
      "  warnings.warn(\"approximate p-value will be computed by extrapolation\")\n",
      "C:\\ANACON~1\\envs\\BES_analysis\\lib\\site-packages\\scipy\\stats\\morestats.py:1684: UserWarning: approximate p-value will be computed by extrapolation\n",
      "  warnings.warn(\"approximate p-value will be computed by extrapolation\")\n",
      "C:\\ANACON~1\\envs\\BES_analysis\\lib\\site-packages\\scipy\\stats\\morestats.py:1684: UserWarning: approximate p-value will be computed by extrapolation\n",
      "  warnings.warn(\"approximate p-value will be computed by extrapolation\")\n",
      "C:\\ANACON~1\\envs\\BES_analysis\\lib\\site-packages\\scipy\\stats\\morestats.py:1684: UserWarning: approximate p-value will be computed by extrapolation\n",
      "  warnings.warn(\"approximate p-value will be computed by extrapolation\")\n",
      "C:\\ANACON~1\\envs\\BES_analysis\\lib\\site-packages\\scipy\\stats\\morestats.py:1684: UserWarning: approximate p-value will be computed by extrapolation\n",
      "  warnings.warn(\"approximate p-value will be computed by extrapolation\")\n",
      "C:\\ANACON~1\\envs\\BES_analysis\\lib\\site-packages\\scipy\\stats\\morestats.py:1684: UserWarning: approximate p-value will be computed by extrapolation\n",
      "  warnings.warn(\"approximate p-value will be computed by extrapolation\")\n",
      "C:\\ANACON~1\\envs\\BES_analysis\\lib\\site-packages\\scipy\\stats\\morestats.py:1684: UserWarning: approximate p-value will be computed by extrapolation\n",
      "  warnings.warn(\"approximate p-value will be computed by extrapolation\")\n",
      "C:\\ANACON~1\\envs\\BES_analysis\\lib\\site-packages\\scipy\\stats\\morestats.py:1684: UserWarning: approximate p-value will be computed by extrapolation\n",
      "  warnings.warn(\"approximate p-value will be computed by extrapolation\")\n",
      "C:\\ANACON~1\\envs\\BES_analysis\\lib\\site-packages\\scipy\\stats\\morestats.py:1684: UserWarning: approximate p-value will be computed by extrapolation\n",
      "  warnings.warn(\"approximate p-value will be computed by extrapolation\")\n"
     ]
    },
    {
     "name": "stdout",
     "output_type": "stream",
     "text": [
      "('****', 'al2', '****')\n"
     ]
    },
    {
     "name": "stderr",
     "output_type": "stream",
     "text": [
      "C:\\ANACON~1\\envs\\BES_analysis\\lib\\site-packages\\scipy\\stats\\morestats.py:1684: UserWarning: approximate p-value will be computed by extrapolation\n",
      "  warnings.warn(\"approximate p-value will be computed by extrapolation\")\n",
      "C:\\ANACON~1\\envs\\BES_analysis\\lib\\site-packages\\scipy\\stats\\morestats.py:1684: UserWarning: approximate p-value will be computed by extrapolation\n",
      "  warnings.warn(\"approximate p-value will be computed by extrapolation\")\n",
      "C:\\ANACON~1\\envs\\BES_analysis\\lib\\site-packages\\scipy\\stats\\morestats.py:1684: UserWarning: approximate p-value will be computed by extrapolation\n",
      "  warnings.warn(\"approximate p-value will be computed by extrapolation\")\n",
      "C:\\ANACON~1\\envs\\BES_analysis\\lib\\site-packages\\scipy\\stats\\morestats.py:1684: UserWarning: approximate p-value will be computed by extrapolation\n",
      "  warnings.warn(\"approximate p-value will be computed by extrapolation\")\n",
      "C:\\ANACON~1\\envs\\BES_analysis\\lib\\site-packages\\scipy\\stats\\morestats.py:1684: UserWarning: approximate p-value will be computed by extrapolation\n",
      "  warnings.warn(\"approximate p-value will be computed by extrapolation\")\n",
      "C:\\ANACON~1\\envs\\BES_analysis\\lib\\site-packages\\scipy\\stats\\morestats.py:1684: UserWarning: approximate p-value will be computed by extrapolation\n",
      "  warnings.warn(\"approximate p-value will be computed by extrapolation\")\n",
      "C:\\ANACON~1\\envs\\BES_analysis\\lib\\site-packages\\scipy\\stats\\morestats.py:1684: UserWarning: approximate p-value will be computed by extrapolation\n",
      "  warnings.warn(\"approximate p-value will be computed by extrapolation\")\n",
      "C:\\ANACON~1\\envs\\BES_analysis\\lib\\site-packages\\scipy\\stats\\morestats.py:1684: UserWarning: approximate p-value will be computed by extrapolation\n",
      "  warnings.warn(\"approximate p-value will be computed by extrapolation\")\n",
      "C:\\ANACON~1\\envs\\BES_analysis\\lib\\site-packages\\scipy\\stats\\morestats.py:1684: UserWarning: approximate p-value will be computed by extrapolation\n",
      "  warnings.warn(\"approximate p-value will be computed by extrapolation\")\n",
      "C:\\ANACON~1\\envs\\BES_analysis\\lib\\site-packages\\scipy\\stats\\morestats.py:1684: UserWarning: approximate p-value will be computed by extrapolation\n",
      "  warnings.warn(\"approximate p-value will be computed by extrapolation\")\n",
      "C:\\ANACON~1\\envs\\BES_analysis\\lib\\site-packages\\scipy\\stats\\morestats.py:1684: UserWarning: approximate p-value will be computed by extrapolation\n",
      "  warnings.warn(\"approximate p-value will be computed by extrapolation\")\n",
      "C:\\ANACON~1\\envs\\BES_analysis\\lib\\site-packages\\scipy\\stats\\morestats.py:1684: UserWarning: approximate p-value will be computed by extrapolation\n",
      "  warnings.warn(\"approximate p-value will be computed by extrapolation\")\n",
      "C:\\ANACON~1\\envs\\BES_analysis\\lib\\site-packages\\scipy\\stats\\morestats.py:1684: UserWarning: approximate p-value will be computed by extrapolation\n",
      "  warnings.warn(\"approximate p-value will be computed by extrapolation\")\n",
      "C:\\ANACON~1\\envs\\BES_analysis\\lib\\site-packages\\scipy\\stats\\morestats.py:1684: UserWarning: approximate p-value will be computed by extrapolation\n",
      "  warnings.warn(\"approximate p-value will be computed by extrapolation\")\n",
      "C:\\ANACON~1\\envs\\BES_analysis\\lib\\site-packages\\scipy\\stats\\morestats.py:1684: UserWarning: approximate p-value will be computed by extrapolation\n",
      "  warnings.warn(\"approximate p-value will be computed by extrapolation\")\n",
      "C:\\ANACON~1\\envs\\BES_analysis\\lib\\site-packages\\scipy\\stats\\morestats.py:1684: UserWarning: approximate p-value will be computed by extrapolation\n",
      "  warnings.warn(\"approximate p-value will be computed by extrapolation\")\n",
      "C:\\ANACON~1\\envs\\BES_analysis\\lib\\site-packages\\scipy\\stats\\morestats.py:1684: UserWarning: approximate p-value will be computed by extrapolation\n",
      "  warnings.warn(\"approximate p-value will be computed by extrapolation\")\n",
      "C:\\ANACON~1\\envs\\BES_analysis\\lib\\site-packages\\scipy\\stats\\morestats.py:1684: UserWarning: approximate p-value will be computed by extrapolation\n",
      "  warnings.warn(\"approximate p-value will be computed by extrapolation\")\n",
      "C:\\ANACON~1\\envs\\BES_analysis\\lib\\site-packages\\scipy\\stats\\morestats.py:1684: UserWarning: approximate p-value will be computed by extrapolation\n",
      "  warnings.warn(\"approximate p-value will be computed by extrapolation\")\n",
      "C:\\ANACON~1\\envs\\BES_analysis\\lib\\site-packages\\scipy\\stats\\morestats.py:1684: UserWarning: approximate p-value will be computed by extrapolation\n",
      "  warnings.warn(\"approximate p-value will be computed by extrapolation\")\n",
      "C:\\ANACON~1\\envs\\BES_analysis\\lib\\site-packages\\scipy\\stats\\morestats.py:1684: UserWarning: approximate p-value will be computed by extrapolation\n",
      "  warnings.warn(\"approximate p-value will be computed by extrapolation\")\n",
      "C:\\ANACON~1\\envs\\BES_analysis\\lib\\site-packages\\scipy\\stats\\morestats.py:1684: UserWarning: approximate p-value will be computed by extrapolation\n",
      "  warnings.warn(\"approximate p-value will be computed by extrapolation\")\n",
      "C:\\ANACON~1\\envs\\BES_analysis\\lib\\site-packages\\scipy\\stats\\morestats.py:1684: UserWarning: approximate p-value will be computed by extrapolation\n",
      "  warnings.warn(\"approximate p-value will be computed by extrapolation\")\n",
      "C:\\ANACON~1\\envs\\BES_analysis\\lib\\site-packages\\scipy\\stats\\morestats.py:1684: UserWarning: approximate p-value will be computed by extrapolation\n",
      "  warnings.warn(\"approximate p-value will be computed by extrapolation\")\n",
      "C:\\ANACON~1\\envs\\BES_analysis\\lib\\site-packages\\scipy\\stats\\morestats.py:1684: UserWarning: approximate p-value will be computed by extrapolation\n",
      "  warnings.warn(\"approximate p-value will be computed by extrapolation\")\n",
      "C:\\ANACON~1\\envs\\BES_analysis\\lib\\site-packages\\scipy\\stats\\morestats.py:1684: UserWarning: approximate p-value will be computed by extrapolation\n",
      "  warnings.warn(\"approximate p-value will be computed by extrapolation\")\n",
      "C:\\ANACON~1\\envs\\BES_analysis\\lib\\site-packages\\scipy\\stats\\morestats.py:1684: UserWarning: approximate p-value will be computed by extrapolation\n",
      "  warnings.warn(\"approximate p-value will be computed by extrapolation\")\n",
      "C:\\ANACON~1\\envs\\BES_analysis\\lib\\site-packages\\scipy\\stats\\morestats.py:1684: UserWarning: approximate p-value will be computed by extrapolation\n",
      "  warnings.warn(\"approximate p-value will be computed by extrapolation\")\n",
      "C:\\ANACON~1\\envs\\BES_analysis\\lib\\site-packages\\scipy\\stats\\morestats.py:1684: UserWarning: approximate p-value will be computed by extrapolation\n",
      "  warnings.warn(\"approximate p-value will be computed by extrapolation\")\n",
      "C:\\ANACON~1\\envs\\BES_analysis\\lib\\site-packages\\scipy\\stats\\morestats.py:1684: UserWarning: approximate p-value will be computed by extrapolation\n",
      "  warnings.warn(\"approximate p-value will be computed by extrapolation\")\n",
      "C:\\ANACON~1\\envs\\BES_analysis\\lib\\site-packages\\scipy\\stats\\morestats.py:1684: UserWarning: approximate p-value will be computed by extrapolation\n",
      "  warnings.warn(\"approximate p-value will be computed by extrapolation\")\n",
      "C:\\ANACON~1\\envs\\BES_analysis\\lib\\site-packages\\scipy\\stats\\morestats.py:1684: UserWarning: approximate p-value will be computed by extrapolation\n",
      "  warnings.warn(\"approximate p-value will be computed by extrapolation\")\n",
      "C:\\ANACON~1\\envs\\BES_analysis\\lib\\site-packages\\scipy\\stats\\morestats.py:1684: UserWarning: approximate p-value will be computed by extrapolation\n",
      "  warnings.warn(\"approximate p-value will be computed by extrapolation\")\n",
      "C:\\ANACON~1\\envs\\BES_analysis\\lib\\site-packages\\scipy\\stats\\morestats.py:1684: UserWarning: approximate p-value will be computed by extrapolation\n",
      "  warnings.warn(\"approximate p-value will be computed by extrapolation\")\n",
      "C:\\ANACON~1\\envs\\BES_analysis\\lib\\site-packages\\scipy\\stats\\morestats.py:1684: UserWarning: approximate p-value will be computed by extrapolation\n",
      "  warnings.warn(\"approximate p-value will be computed by extrapolation\")\n",
      "C:\\ANACON~1\\envs\\BES_analysis\\lib\\site-packages\\scipy\\stats\\morestats.py:1684: UserWarning: approximate p-value will be computed by extrapolation\n",
      "  warnings.warn(\"approximate p-value will be computed by extrapolation\")\n"
     ]
    },
    {
     "data": {
      "text/html": [
       "<div>\n",
       "<table border=\"1\" class=\"dataframe\">\n",
       "  <thead>\n",
       "    <tr style=\"text-align: right;\">\n",
       "      <th></th>\n",
       "      <th>variable</th>\n",
       "      <th>significance</th>\n",
       "    </tr>\n",
       "  </thead>\n",
       "  <tbody>\n",
       "    <tr>\n",
       "      <th>10</th>\n",
       "      <td>country</td>\n",
       "      <td>9.859833e-05</td>\n",
       "    </tr>\n",
       "    <tr>\n",
       "      <th>11</th>\n",
       "      <td>generalElectionVote</td>\n",
       "      <td>1.660285e+206</td>\n",
       "    </tr>\n",
       "    <tr>\n",
       "      <th>13</th>\n",
       "      <td>generalElectionVoteW9</td>\n",
       "      <td>2.565097e-01</td>\n",
       "    </tr>\n",
       "    <tr>\n",
       "      <th>15</th>\n",
       "      <td>partyId</td>\n",
       "      <td>8.327190e+07</td>\n",
       "    </tr>\n",
       "    <tr>\n",
       "      <th>16</th>\n",
       "      <td>partyIdSqueeze</td>\n",
       "      <td>1.007337e-02</td>\n",
       "    </tr>\n",
       "    <tr>\n",
       "      <th>18</th>\n",
       "      <td>partyIdEU</td>\n",
       "      <td>1.043513e+236</td>\n",
       "    </tr>\n",
       "    <tr>\n",
       "      <th>19</th>\n",
       "      <td>partyIdW9</td>\n",
       "      <td>8.611819e-06</td>\n",
       "    </tr>\n",
       "    <tr>\n",
       "      <th>20</th>\n",
       "      <td>partyIdSqueezeW9</td>\n",
       "      <td>2.743437e-02</td>\n",
       "    </tr>\n",
       "    <tr>\n",
       "      <th>22</th>\n",
       "      <td>partyIdEUretroW9</td>\n",
       "      <td>1.391474e+23</td>\n",
       "    </tr>\n",
       "    <tr>\n",
       "      <th>23</th>\n",
       "      <td>countryOfBirth</td>\n",
       "      <td>4.026867e-02</td>\n",
       "    </tr>\n",
       "    <tr>\n",
       "      <th>32</th>\n",
       "      <td>ukCitizen</td>\n",
       "      <td>1.000000e+08</td>\n",
       "    </tr>\n",
       "    <tr>\n",
       "      <th>33</th>\n",
       "      <td>euCitizen</td>\n",
       "      <td>1.000000e+08</td>\n",
       "    </tr>\n",
       "    <tr>\n",
       "      <th>34</th>\n",
       "      <td>commonwealthCitizen</td>\n",
       "      <td>1.000000e+08</td>\n",
       "    </tr>\n",
       "    <tr>\n",
       "      <th>35</th>\n",
       "      <td>otherCitizen</td>\n",
       "      <td>1.000000e+08</td>\n",
       "    </tr>\n",
       "    <tr>\n",
       "      <th>36</th>\n",
       "      <td>mii</td>\n",
       "      <td>3.172128e-04</td>\n",
       "    </tr>\n",
       "    <tr>\n",
       "      <th>38</th>\n",
       "      <td>bestOnMII</td>\n",
       "      <td>8.895885e+23</td>\n",
       "    </tr>\n",
       "    <tr>\n",
       "      <th>40</th>\n",
       "      <td>postalapply</td>\n",
       "      <td>5.971508e-05</td>\n",
       "    </tr>\n",
       "    <tr>\n",
       "      <th>41</th>\n",
       "      <td>postalTurnout</td>\n",
       "      <td>1.916003e-05</td>\n",
       "    </tr>\n",
       "    <tr>\n",
       "      <th>42</th>\n",
       "      <td>euRefVotePost</td>\n",
       "      <td>8.894424e-06</td>\n",
       "    </tr>\n",
       "    <tr>\n",
       "      <th>43</th>\n",
       "      <td>euRefTurnout</td>\n",
       "      <td>9.583538e-02</td>\n",
       "    </tr>\n",
       "    <tr>\n",
       "      <th>44</th>\n",
       "      <td>euRefVote</td>\n",
       "      <td>-1.000000e+00</td>\n",
       "    </tr>\n",
       "    <tr>\n",
       "      <th>45</th>\n",
       "      <td>euRefVoteSqueeze</td>\n",
       "      <td>1.347128e-05</td>\n",
       "    </tr>\n",
       "    <tr>\n",
       "      <th>46</th>\n",
       "      <td>euRefCertainty</td>\n",
       "      <td>5.663652e-03</td>\n",
       "    </tr>\n",
       "    <tr>\n",
       "      <th>47</th>\n",
       "      <td>euRefInterest</td>\n",
       "      <td>9.487270e-06</td>\n",
       "    </tr>\n",
       "    <tr>\n",
       "      <th>48</th>\n",
       "      <td>euRefExpectation</td>\n",
       "      <td>4.196556e-04</td>\n",
       "    </tr>\n",
       "    <tr>\n",
       "      <th>49</th>\n",
       "      <td>euRefFinal</td>\n",
       "      <td>2.717235e-03</td>\n",
       "    </tr>\n",
       "    <tr>\n",
       "      <th>50</th>\n",
       "      <td>MIIEU</td>\n",
       "      <td>3.840029e-05</td>\n",
       "    </tr>\n",
       "    <tr>\n",
       "      <th>52</th>\n",
       "      <td>britishness</td>\n",
       "      <td>6.491587e+08</td>\n",
       "    </tr>\n",
       "    <tr>\n",
       "      <th>53</th>\n",
       "      <td>scottishness</td>\n",
       "      <td>1.353683e+04</td>\n",
       "    </tr>\n",
       "    <tr>\n",
       "      <th>54</th>\n",
       "      <td>welshness</td>\n",
       "      <td>1.010145e+00</td>\n",
       "    </tr>\n",
       "    <tr>\n",
       "      <th>...</th>\n",
       "      <td>...</td>\n",
       "      <td>...</td>\n",
       "    </tr>\n",
       "    <tr>\n",
       "      <th>702</th>\n",
       "      <td>privateSecondarySchool</td>\n",
       "      <td>6.723724e-01</td>\n",
       "    </tr>\n",
       "    <tr>\n",
       "      <th>703</th>\n",
       "      <td>neverPrivateSchool</td>\n",
       "      <td>1.774205e-01</td>\n",
       "    </tr>\n",
       "    <tr>\n",
       "      <th>704</th>\n",
       "      <td>RPrivSchnew_dk</td>\n",
       "      <td>8.635882e-01</td>\n",
       "    </tr>\n",
       "    <tr>\n",
       "      <th>705</th>\n",
       "      <td>workingStatus</td>\n",
       "      <td>2.060157e-04</td>\n",
       "    </tr>\n",
       "    <tr>\n",
       "      <th>706</th>\n",
       "      <td>preschoolChildrenInHousehold</td>\n",
       "      <td>7.232653e-01</td>\n",
       "    </tr>\n",
       "    <tr>\n",
       "      <th>707</th>\n",
       "      <td>schoolChildrenInHousehold</td>\n",
       "      <td>1.283575e+00</td>\n",
       "    </tr>\n",
       "    <tr>\n",
       "      <th>708</th>\n",
       "      <td>sickOrElderlyInHousehold</td>\n",
       "      <td>2.443711e-04</td>\n",
       "    </tr>\n",
       "    <tr>\n",
       "      <th>709</th>\n",
       "      <td>noDependentsInHousehold</td>\n",
       "      <td>5.688082e-01</td>\n",
       "    </tr>\n",
       "    <tr>\n",
       "      <th>710</th>\n",
       "      <td>speakWelsh</td>\n",
       "      <td>8.517374e-01</td>\n",
       "    </tr>\n",
       "    <tr>\n",
       "      <th>711</th>\n",
       "      <td>prevJob</td>\n",
       "      <td>8.443675e-06</td>\n",
       "    </tr>\n",
       "    <tr>\n",
       "      <th>712</th>\n",
       "      <td>selfNumEmployees</td>\n",
       "      <td>7.759105e-01</td>\n",
       "    </tr>\n",
       "    <tr>\n",
       "      <th>713</th>\n",
       "      <td>selfNumEmployeesLast</td>\n",
       "      <td>9.827360e-01</td>\n",
       "    </tr>\n",
       "    <tr>\n",
       "      <th>714</th>\n",
       "      <td>headHouseholdPast</td>\n",
       "      <td>7.254324e-01</td>\n",
       "    </tr>\n",
       "    <tr>\n",
       "      <th>715</th>\n",
       "      <td>fatherNumEmployees</td>\n",
       "      <td>1.377578e+00</td>\n",
       "    </tr>\n",
       "    <tr>\n",
       "      <th>716</th>\n",
       "      <td>motherNumEmployees</td>\n",
       "      <td>1.000000e+08</td>\n",
       "    </tr>\n",
       "    <tr>\n",
       "      <th>717</th>\n",
       "      <td>selfOccStatus</td>\n",
       "      <td>1.571748e-05</td>\n",
       "    </tr>\n",
       "    <tr>\n",
       "      <th>718</th>\n",
       "      <td>selfOccStatusLast</td>\n",
       "      <td>1.366683e-05</td>\n",
       "    </tr>\n",
       "    <tr>\n",
       "      <th>719</th>\n",
       "      <td>subjClass</td>\n",
       "      <td>1.059594e+22</td>\n",
       "    </tr>\n",
       "    <tr>\n",
       "      <th>721</th>\n",
       "      <td>polKnowMiliband</td>\n",
       "      <td>3.260776e-03</td>\n",
       "    </tr>\n",
       "    <tr>\n",
       "      <th>722</th>\n",
       "      <td>polKnowClegg</td>\n",
       "      <td>3.466276e-03</td>\n",
       "    </tr>\n",
       "    <tr>\n",
       "      <th>723</th>\n",
       "      <td>polKnowOsborne</td>\n",
       "      <td>2.652668e-03</td>\n",
       "    </tr>\n",
       "    <tr>\n",
       "      <th>724</th>\n",
       "      <td>polKnowMay</td>\n",
       "      <td>1.107093e-03</td>\n",
       "    </tr>\n",
       "    <tr>\n",
       "      <th>725</th>\n",
       "      <td>polKnowBercow</td>\n",
       "      <td>9.686384e-02</td>\n",
       "    </tr>\n",
       "    <tr>\n",
       "      <th>726</th>\n",
       "      <td>subjectHE</td>\n",
       "      <td>4.842489e-05</td>\n",
       "    </tr>\n",
       "    <tr>\n",
       "      <th>727</th>\n",
       "      <td>subjectHECurrent</td>\n",
       "      <td>5.135725e-03</td>\n",
       "    </tr>\n",
       "    <tr>\n",
       "      <th>728</th>\n",
       "      <td>edlevel</td>\n",
       "      <td>5.007198e+46</td>\n",
       "    </tr>\n",
       "    <tr>\n",
       "      <th>729</th>\n",
       "      <td>profile_turnout_2015</td>\n",
       "      <td>1.000000e+08</td>\n",
       "    </tr>\n",
       "    <tr>\n",
       "      <th>730</th>\n",
       "      <td>profile_past_vote_2015</td>\n",
       "      <td>1.000000e+08</td>\n",
       "    </tr>\n",
       "    <tr>\n",
       "      <th>731</th>\n",
       "      <td>lr_scale</td>\n",
       "      <td>9.461894e-05</td>\n",
       "    </tr>\n",
       "    <tr>\n",
       "      <th>732</th>\n",
       "      <td>al_scale</td>\n",
       "      <td>1.700014e+263</td>\n",
       "    </tr>\n",
       "  </tbody>\n",
       "</table>\n",
       "<p>664 rows × 2 columns</p>\n",
       "</div>"
      ],
      "text/plain": [
       "                         variable   significance\n",
       "10                        country   9.859833e-05\n",
       "11            generalElectionVote  1.660285e+206\n",
       "13          generalElectionVoteW9   2.565097e-01\n",
       "15                        partyId   8.327190e+07\n",
       "16                 partyIdSqueeze   1.007337e-02\n",
       "18                      partyIdEU  1.043513e+236\n",
       "19                      partyIdW9   8.611819e-06\n",
       "20               partyIdSqueezeW9   2.743437e-02\n",
       "22               partyIdEUretroW9   1.391474e+23\n",
       "23                 countryOfBirth   4.026867e-02\n",
       "32                      ukCitizen   1.000000e+08\n",
       "33                      euCitizen   1.000000e+08\n",
       "34            commonwealthCitizen   1.000000e+08\n",
       "35                   otherCitizen   1.000000e+08\n",
       "36                            mii   3.172128e-04\n",
       "38                      bestOnMII   8.895885e+23\n",
       "40                    postalapply   5.971508e-05\n",
       "41                  postalTurnout   1.916003e-05\n",
       "42                  euRefVotePost   8.894424e-06\n",
       "43                   euRefTurnout   9.583538e-02\n",
       "44                      euRefVote  -1.000000e+00\n",
       "45               euRefVoteSqueeze   1.347128e-05\n",
       "46                 euRefCertainty   5.663652e-03\n",
       "47                  euRefInterest   9.487270e-06\n",
       "48               euRefExpectation   4.196556e-04\n",
       "49                     euRefFinal   2.717235e-03\n",
       "50                          MIIEU   3.840029e-05\n",
       "52                    britishness   6.491587e+08\n",
       "53                   scottishness   1.353683e+04\n",
       "54                      welshness   1.010145e+00\n",
       "..                            ...            ...\n",
       "702        privateSecondarySchool   6.723724e-01\n",
       "703            neverPrivateSchool   1.774205e-01\n",
       "704                RPrivSchnew_dk   8.635882e-01\n",
       "705                 workingStatus   2.060157e-04\n",
       "706  preschoolChildrenInHousehold   7.232653e-01\n",
       "707     schoolChildrenInHousehold   1.283575e+00\n",
       "708      sickOrElderlyInHousehold   2.443711e-04\n",
       "709       noDependentsInHousehold   5.688082e-01\n",
       "710                    speakWelsh   8.517374e-01\n",
       "711                       prevJob   8.443675e-06\n",
       "712              selfNumEmployees   7.759105e-01\n",
       "713          selfNumEmployeesLast   9.827360e-01\n",
       "714             headHouseholdPast   7.254324e-01\n",
       "715            fatherNumEmployees   1.377578e+00\n",
       "716            motherNumEmployees   1.000000e+08\n",
       "717                 selfOccStatus   1.571748e-05\n",
       "718             selfOccStatusLast   1.366683e-05\n",
       "719                     subjClass   1.059594e+22\n",
       "721               polKnowMiliband   3.260776e-03\n",
       "722                  polKnowClegg   3.466276e-03\n",
       "723                polKnowOsborne   2.652668e-03\n",
       "724                    polKnowMay   1.107093e-03\n",
       "725                 polKnowBercow   9.686384e-02\n",
       "726                     subjectHE   4.842489e-05\n",
       "727              subjectHECurrent   5.135725e-03\n",
       "728                       edlevel   5.007198e+46\n",
       "729          profile_turnout_2015   1.000000e+08\n",
       "730        profile_past_vote_2015   1.000000e+08\n",
       "731                      lr_scale   9.461894e-05\n",
       "732                      al_scale  1.700014e+263\n",
       "\n",
       "[664 rows x 2 columns]"
      ]
     },
     "execution_count": 182,
     "metadata": {},
     "output_type": "execute_result"
    }
   ],
   "source": [
    "signif_array = pd.DataFrame(columns = [ \"variable\",\"significance\" ])\n",
    "overrun_errors = []\n",
    "ind = 0\n",
    "for col in BES_Panel.columns:\n",
    "    if BES_Panel[col].dtypes.name ==\"category\":\n",
    "        if (BES_Panel.loc[ld_ukip][col].cat.codes.var()!=0.0)\\\n",
    "        & (BES_Panel.loc[ld][col].cat.codes.var()!=0.0):\n",
    "            try:\n",
    "                and_stat = stats.anderson_ksamp( [BES_Panel.loc[ld_ukip][col].cat.codes.values,\n",
    "                                                  BES_Panel.loc[ld][col].cat.codes.values ] )\n",
    "                signif_array.loc[ind] = [col, and_stat.significance_level ]\n",
    "#                 signif_array.append( and_stat.significance_level )\n",
    "            except:\n",
    "                overrun_errors.append( col )\n",
    "                print( (\"****\", col, \"****\" ) )\n",
    "                signif_array.loc[ind] = [col, -1 ]\n",
    "        else:\n",
    "#             signif_array.append(99999999)\n",
    "            signif_array.loc[ind] = [col, 99999999 ]\n",
    "    ind = ind+1    \n",
    "signif_array"
   ]
  },
  {
   "cell_type": "code",
   "execution_count": 212,
   "metadata": {
    "collapsed": false
   },
   "outputs": [
    {
     "data": {
      "text/plain": [
       "['personality_agreeableness',\n",
       " 'personality_conscientiousness',\n",
       " 'personality_extraversion',\n",
       " 'personality_neuroticism',\n",
       " 'personality_openness']"
      ]
     },
     "execution_count": 212,
     "metadata": {},
     "output_type": "execute_result"
    }
   ],
   "source": [
    "[x for x in BES_Panel if \"personality\" in x]"
   ]
  },
  {
   "cell_type": "code",
   "execution_count": 219,
   "metadata": {
    "collapsed": false
   },
   "outputs": [
    {
     "data": {
      "text/plain": [
       "7.0     95\n",
       "8.0     90\n",
       "5.0     72\n",
       "6.0     63\n",
       "10.0    43\n",
       "9.0     28\n",
       "3.0     10\n",
       "2.0     10\n",
       "4.0      9\n",
       "Name: personality_conscientiousness, dtype: int64"
      ]
     },
     "execution_count": 219,
     "metadata": {},
     "output_type": "execute_result"
    }
   ],
   "source": []
  },
  {
   "cell_type": "code",
   "execution_count": 226,
   "metadata": {
    "collapsed": false
   },
   "outputs": [
    {
     "data": {
      "text/plain": [
       "<matplotlib.axes._subplots.AxesSubplot at 0xd941a58>"
      ]
     },
     "execution_count": 226,
     "metadata": {},
     "output_type": "execute_result"
    },
    {
     "data": {
      "image/png": "[encoded data removed]",
      "text/plain": [
       "<matplotlib.figure.Figure at 0x19d31668>"
      ]
     },
     "metadata": {},
     "output_type": "display_data"
    }
   ],
   "source": [
    "BES_Panel.loc[ld_ukip,'personality_openness'].hist(bins=np.linspace(0,10,11))"
   ]
  },
  {
   "cell_type": "code",
   "execution_count": 227,
   "metadata": {
    "collapsed": false
   },
   "outputs": [
    {
     "data": {
      "text/plain": [
       "<matplotlib.axes._subplots.AxesSubplot at 0x1d640d30>"
      ]
     },
     "execution_count": 227,
     "metadata": {},
     "output_type": "execute_result"
    },
    {
     "data": {
      "image/png": "[encoded data removed]",
      "text/plain": [
       "<matplotlib.figure.Figure at 0x1d25a518>"
      ]
     },
     "metadata": {},
     "output_type": "display_data"
    }
   ],
   "source": [
    "BES_Panel.loc[ld_minus_ukip,'personality_openness'].hist(bins=np.linspace(0,10,11))"
   ]
  },
  {
   "cell_type": "code",
   "execution_count": 109,
   "metadata": {
    "collapsed": false
   },
   "outputs": [
    {
     "data": {
      "text/plain": [
       "array([[<matplotlib.axes._subplots.AxesSubplot object at 0x000000000B8D0400>]], dtype=object)"
      ]
     },
     "execution_count": 109,
     "metadata": {},
     "output_type": "execute_result"
    },
    {
     "data": {
      "image/png": "[encoded data removed]",
      "text/plain": [
       "<matplotlib.figure.Figure at 0xb8d9898>"
      ]
     },
     "metadata": {},
     "output_type": "display_data"
    }
   ],
   "source": [
    "pd.DataFrame(signif_array_copy).apply(np.log10).hist(bins=100)"
   ]
  },
  {
   "cell_type": "code",
   "execution_count": 130,
   "metadata": {
    "collapsed": false
   },
   "outputs": [],
   "source": [
    "significant_values = pd.DataFrame(signif_array_copy)[0].values<.05/600"
   ]
  },
  {
   "cell_type": "code",
   "execution_count": 131,
   "metadata": {
    "collapsed": false
   },
   "outputs": [
    {
     "name": "stderr",
     "output_type": "stream",
     "text": [
      "C:\\ANACON~1\\envs\\BES_analysis\\lib\\site-packages\\pandas\\indexes\\base.py:1275: VisibleDeprecationWarning: boolean index did not match indexed array along dimension 0; dimension is 733 but corresponding boolean dimension is 575\n",
      "  result = getitem(key)\n"
     ]
    },
    {
     "data": {
      "text/plain": [
       "Index(['wt_full_W9', 'generalElectionVoteOth', 'generalElectionVoteW9',\n",
       "       'generalElectionVoteOthW9', 'partyIdSqueeze', 'partyIdEU',\n",
       "       'partyIdSqueezeOthW9', 'w7core', 'otherCitizen', 'euRefVote',\n",
       "       'euRefVoteSqueeze', 'polAttention', 'likeBennett', 'likeBoris',\n",
       "       'likeGove', 'likeOsborne', 'likeLD', 'likeSNP', 'localElectionVote',\n",
       "       'welshElectionVoteListOth', 'pccVote2', 'EUIntegrationSelf',\n",
       "       'certaintyEUSNP', 'betterDealEU', 'benefitsToMigrants',\n",
       "       'childBenefitsRepatriate', 'ukCoopWorkers', 'ukCoopCAP',\n",
       "       'ukCoopMovement', 'ukCoopEuro', 'effectsEUUnemployment',\n",
       "       'effectsEUTrade', 'effectsEUImmigration', 'effectsEUTerror',\n",
       "       'euLeaveVoice', 'certaintyUKRemain', 'businessSupport', 'tuSupport',\n",
       "       'labSupport', 'conSupport', 'ldSupport', 'snpSupport', 'plaidSupport',\n",
       "       'parliamentSupport', 'cabinetSupport', 'franceFairShare',\n",
       "       'britainFairShare', 'germanyFairShare', 'euPreventWar',\n",
       "       'partyContactCon', 'partyContactLab', 'partyContactGrn',\n",
       "       'partyContactOtherParty', 'partyContactVoteLeave',\n",
       "       'partyContactOthLeave', 'partyContactCon_2', 'partyContactLab_5',\n",
       "       'partyContactLD_7', 'partyContactSNP_3', 'partyContactUKIP_6',\n",
       "       'immigEcon', 'immigCon', 'reasonNotRegistered_6', 'grnUnited',\n",
       "       'participation_2', 'leaveVoteUKIPCon', 'euID6', 'tolUncertain3',\n",
       "       'abroadCountry_2', 'friendsEU', 'country_of_residence1',\n",
       "       'country_of_residence2', 'antiIntellectual', 'dutyToVote2', 'ptvLab',\n",
       "       'ptvSNP', 'ptvPC', 'ptvUKIP', 'age', 'voted2015', 'recallVote15',\n",
       "       'debateOneWatch', 'EUIntegrationSelfW9', 'changeIssue1W9', 'satDemUKW9',\n",
       "       'satDemEngW9', 'negotiationSpecifics_2W9', 'efficacyPolCareW9',\n",
       "       'efficacyNoMatterW9', 'immigConW9', 'immigLabW9', 'immigSNPW9',\n",
       "       'euIDW9', 'euID5W9', 'euID6W9', 'handleMIIUKIPW9'],\n",
       "      dtype='object')"
      ]
     },
     "execution_count": 131,
     "metadata": {},
     "output_type": "execute_result"
    }
   ],
   "source": [
    "BES_Panel.columns[significant_values]"
   ]
  },
  {
   "cell_type": "code",
   "execution_count": 196,
   "metadata": {
    "collapsed": false
   },
   "outputs": [
    {
     "data": {
      "text/plain": [
       "<matplotlib.axes._subplots.AxesSubplot at 0x19969550>"
      ]
     },
     "execution_count": 196,
     "metadata": {},
     "output_type": "execute_result"
    },
    {
     "data": {
      "image/png": "[encoded data removed]",
      "text/plain": [
       "<matplotlib.figure.Figure at 0x19971a20>"
      ]
     },
     "metadata": {},
     "output_type": "display_data"
    }
   ],
   "source": [
    "BES_Panel.loc[ld_ukip,'al_scale'].value_counts().plot('bar')"
   ]
  },
  {
   "cell_type": "code",
   "execution_count": 195,
   "metadata": {
    "collapsed": false
   },
   "outputs": [
    {
     "data": {
      "text/plain": [
       "<matplotlib.axes._subplots.AxesSubplot at 0x199197b8>"
      ]
     },
     "execution_count": 195,
     "metadata": {},
     "output_type": "execute_result"
    },
    {
     "data": {
      "image/png": "[encoded data removed]",
      "text/plain": [
       "<matplotlib.figure.Figure at 0x19932d30>"
      ]
     },
     "metadata": {},
     "output_type": "display_data"
    }
   ],
   "source": [
    "BES_Panel.loc[ld,'al_scale'].value_counts().plot('bar')"
   ]
  },
  {
   "cell_type": "code",
   "execution_count": 194,
   "metadata": {
    "collapsed": false
   },
   "outputs": [
    {
     "data": {
      "text/plain": [
       "<matplotlib.axes._subplots.AxesSubplot at 0x197879b0>"
      ]
     },
     "execution_count": 194,
     "metadata": {},
     "output_type": "execute_result"
    },
    {
     "data": {
      "image/png": "[encoded data removed]",
      "text/plain": [
       "<matplotlib.figure.Figure at 0x198605c0>"
      ]
     },
     "metadata": {},
     "output_type": "display_data"
    }
   ],
   "source": [
    "BES_Panel.loc[ld_ukip,'workingStatus'].value_counts().plot('bar')"
   ]
  },
  {
   "cell_type": "code",
   "execution_count": 193,
   "metadata": {
    "collapsed": false
   },
   "outputs": [
    {
     "data": {
      "text/plain": [
       "<matplotlib.axes._subplots.AxesSubplot at 0x197055f8>"
      ]
     },
     "execution_count": 193,
     "metadata": {},
     "output_type": "execute_result"
    },
    {
     "data": {
      "image/png": "[encoded data removed]",
      "text/plain": [
       "<matplotlib.figure.Figure at 0x1977b438>"
      ]
     },
     "metadata": {},
     "output_type": "display_data"
    }
   ],
   "source": [
    "BES_Panel.loc[ld,'workingStatus'].value_counts().plot('bar')"
   ]
  },
  {
   "cell_type": "code",
   "execution_count": 174,
   "metadata": {
    "collapsed": false
   },
   "outputs": [
    {
     "name": "stderr",
     "output_type": "stream",
     "text": [
      "C:\\ANACON~1\\envs\\BES_analysis\\lib\\site-packages\\scipy\\stats\\morestats.py:1684: UserWarning: approximate p-value will be computed by extrapolation\n",
      "  warnings.warn(\"approximate p-value will be computed by extrapolation\")\n"
     ]
    }
   ],
   "source": [
    "col = 'tolUncertain3'\n",
    "and_stat = stats.anderson_ksamp( [BES_Panel.loc[ld_ukip][col].cat.codes.values,\n",
    "                                                  BES_Panel.loc[ld][col].cat.codes.values ] )"
   ]
  },
  {
   "cell_type": "code",
   "execution_count": 175,
   "metadata": {
    "collapsed": false
   },
   "outputs": [
    {
     "data": {
      "text/plain": [
       "Anderson_ksampResult(statistic=-0.71178333267941751, critical_values=array([ 0.325,  1.226,  1.961,  2.718,  3.752]), significance_level=0.7393851055015579)"
      ]
     },
     "execution_count": 175,
     "metadata": {},
     "output_type": "execute_result"
    }
   ],
   "source": [
    "and_stat"
   ]
  },
  {
   "cell_type": "code",
   "execution_count": 164,
   "metadata": {
    "collapsed": false
   },
   "outputs": [
    {
     "data": {
      "text/plain": [
       "<matplotlib.axes._subplots.AxesSubplot at 0x1d4cbac8>"
      ]
     },
     "execution_count": 164,
     "metadata": {},
     "output_type": "execute_result"
    },
    {
     "data": {
      "image/png": "[encoded data removed]",
      "text/plain": [
       "<matplotlib.figure.Figure at 0x1d536dd8>"
      ]
     },
     "metadata": {},
     "output_type": "display_data"
    }
   ],
   "source": [
    "BES_Panel.loc[ld_ukip,'antiIntellectual'].value_counts().plot('bar')"
   ]
  },
  {
   "cell_type": "code",
   "execution_count": 165,
   "metadata": {
    "collapsed": false
   },
   "outputs": [
    {
     "data": {
      "text/plain": [
       "<matplotlib.axes._subplots.AxesSubplot at 0x1d7b9828>"
      ]
     },
     "execution_count": 165,
     "metadata": {},
     "output_type": "execute_result"
    },
    {
     "data": {
      "image/png": "[encoded data removed]",
      "text/plain": [
       "<matplotlib.figure.Figure at 0x1d5c0470>"
      ]
     },
     "metadata": {},
     "output_type": "display_data"
    }
   ],
   "source": [
    "BES_Panel.loc[ld,'antiIntellectual'].value_counts().plot('bar')"
   ]
  },
  {
   "cell_type": "code",
   "execution_count": 152,
   "metadata": {
    "collapsed": false
   },
   "outputs": [
    {
     "data": {
      "text/plain": [
       "<matplotlib.axes._subplots.AxesSubplot at 0x19419400>"
      ]
     },
     "execution_count": 152,
     "metadata": {},
     "output_type": "execute_result"
    },
    {
     "data": {
      "image/png": "[encoded data removed]",
      "text/plain": [
       "<matplotlib.figure.Figure at 0x193d8eb8>"
      ]
     },
     "metadata": {},
     "output_type": "display_data"
    }
   ],
   "source": [
    "BES_Panel.loc[ld,\"age\"].hist(bins=np.linspace(20,100,40))"
   ]
  },
  {
   "cell_type": "code",
   "execution_count": 151,
   "metadata": {
    "collapsed": false
   },
   "outputs": [
    {
     "data": {
      "text/plain": [
       "<matplotlib.axes._subplots.AxesSubplot at 0x1972d940>"
      ]
     },
     "execution_count": 151,
     "metadata": {},
     "output_type": "execute_result"
    },
    {
     "data": {
      "image/png": "[encoded data removed]",
      "text/plain": [
       "<matplotlib.figure.Figure at 0x19863978>"
      ]
     },
     "metadata": {},
     "output_type": "display_data"
    }
   ],
   "source": [
    "BES_Panel.loc[ld_ukip,\"age\"].hist(bins=np.linspace(20,100,40))"
   ]
  },
  {
   "cell_type": "code",
   "execution_count": 143,
   "metadata": {
    "collapsed": false
   },
   "outputs": [
    {
     "data": {
      "text/plain": [
       "<matplotlib.axes._subplots.AxesSubplot at 0xde35c88>"
      ]
     },
     "execution_count": 143,
     "metadata": {},
     "output_type": "execute_result"
    },
    {
     "data": {
      "image/png": "[encoded data removed]",
      "text/plain": [
       "<matplotlib.figure.Figure at 0x18fd30f0>"
      ]
     },
     "metadata": {},
     "output_type": "display_data"
    }
   ],
   "source": [
    "BES_Panel.loc[ld,\"euRefVote\"].value_counts().plot('bar')\n"
   ]
  },
  {
   "cell_type": "code",
   "execution_count": 142,
   "metadata": {
    "collapsed": false
   },
   "outputs": [
    {
     "data": {
      "text/plain": [
       "<matplotlib.axes._subplots.AxesSubplot at 0x1c459080>"
      ]
     },
     "execution_count": 142,
     "metadata": {},
     "output_type": "execute_result"
    },
    {
     "data": {
      "image/png": "[encoded data removed]",
      "text/plain": [
       "<matplotlib.figure.Figure at 0x1c8eb5c0>"
      ]
     },
     "metadata": {},
     "output_type": "display_data"
    }
   ],
   "source": [
    "BES_Panel.loc[ld_ukip,\"euRefVote\"].value_counts().plot('bar')"
   ]
  },
  {
   "cell_type": "code",
   "execution_count": 153,
   "metadata": {
    "collapsed": false
   },
   "outputs": [
    {
     "data": {
      "text/plain": [
       "['euRefVote',\n",
       " 'europeanness',\n",
       " 'likeFarage',\n",
       " 'likeBoris',\n",
       " 'likeUKIP',\n",
       " 'changeImmig',\n",
       " 'EUIntegrationSelf',\n",
       " 'ukCoopTrade',\n",
       " 'ukCoopWorkers',\n",
       " 'ukCoopMovement',\n",
       " 'effectsEUUnemployment',\n",
       " 'effectsEUTrade',\n",
       " 'effectsEUImmigration',\n",
       " 'effectsEUTerror',\n",
       " 'euLeaveVoice',\n",
       " 'effectsEUWorkers',\n",
       " 'effectsEUEcon',\n",
       " 'effectsEUNHS',\n",
       " 'euLeaveBigBusiness',\n",
       " 'britainFairShare',\n",
       " 'euPreventWar',\n",
       " 'euUKRich',\n",
       " 'euCloser',\n",
       " 'UKsovereignty',\n",
       " 'turkey',\n",
       " 'euParlOverRide',\n",
       " 'euLawsLevel',\n",
       " 'echr',\n",
       " 'normEU',\n",
       " 'euUndermineIdentity',\n",
       " 'immigrantsWelfareState',\n",
       " 'satDemEU',\n",
       " 'immigEcon',\n",
       " 'immigCultural',\n",
       " 'asylumMore',\n",
       " 'euMore',\n",
       " 'familiesMore',\n",
       " 'immigSelf',\n",
       " 'recallVote15',\n",
       " 'euRefVoteW9',\n",
       " 'happyEULeaveW9',\n",
       " 'likeFarageW9',\n",
       " 'likeUKIPW9',\n",
       " 'blameLeave_1W9',\n",
       " 'blameLeave_2W9',\n",
       " 'blameLeave_3W9',\n",
       " 'blameLeave_4W9',\n",
       " 'blameLeave_5W9',\n",
       " 'blameLeave_6W9',\n",
       " 'blameLeave_7W9',\n",
       " 'blameLeave_8W9',\n",
       " 'blameLeave_12W9',\n",
       " 'blameLeave_99W9',\n",
       " 'creditLeave_1W9',\n",
       " 'creditLeave_2W9',\n",
       " 'creditLeave_3W9',\n",
       " 'creditLeave_4W9',\n",
       " 'creditLeave_5W9',\n",
       " 'creditLeave_6W9',\n",
       " 'creditLeave_7W9',\n",
       " 'creditLeave_8W9',\n",
       " 'creditLeave_12W9',\n",
       " 'creditLeave_99W9',\n",
       " 'approveEUW9',\n",
       " 'EUIntegrationSelfW9',\n",
       " 'ptvUKIPW9',\n",
       " 'al2']"
      ]
     },
     "execution_count": 153,
     "metadata": {},
     "output_type": "execute_result"
    }
   ],
   "source": [
    "overrun_errors"
   ]
  },
  {
   "cell_type": "code",
   "execution_count": 202,
   "metadata": {
    "collapsed": false
   },
   "outputs": [
    {
     "data": {
      "text/plain": [
       "id                                       int32\n",
       "wt_core_W8                             float64\n",
       "wt_core_W9                             float64\n",
       "wt_full_W8                             float64\n",
       "wt_full_W1W2W3W4W5W6W7                 float64\n",
       "wt_full_W7                             float64\n",
       "wt_full_W9                             float64\n",
       "wt_full_W1W2W3W4W5W6W7W8W9             float64\n",
       "wt_full_W7W8W9                         float64\n",
       "wave9                                     int8\n",
       "country                               category\n",
       "generalElectionVote                   category\n",
       "generalElectionVoteOth                  object\n",
       "generalElectionVoteW9                 category\n",
       "generalElectionVoteOthW9                object\n",
       "partyId                               category\n",
       "partyIdSqueeze                        category\n",
       "partyIdSqueezeOth                       object\n",
       "partyIdEU                             category\n",
       "partyIdW9                             category\n",
       "partyIdSqueezeW9                      category\n",
       "partyIdSqueezeOthW9                     object\n",
       "partyIdEUretroW9                      category\n",
       "countryOfBirth                        category\n",
       "w6full                                 float64\n",
       "w6core                                 float64\n",
       "w7full                                 float64\n",
       "w7core                                 float64\n",
       "Dailyweight                            float64\n",
       "respdate                        datetime64[ns]\n",
       "                                     ...      \n",
       "neverPrivateSchool                    category\n",
       "RPrivSchnew_dk                        category\n",
       "workingStatus                         category\n",
       "preschoolChildrenInHousehold          category\n",
       "schoolChildrenInHousehold             category\n",
       "sickOrElderlyInHousehold              category\n",
       "noDependentsInHousehold               category\n",
       "speakWelsh                            category\n",
       "prevJob                               category\n",
       "selfNumEmployees                      category\n",
       "selfNumEmployeesLast                  category\n",
       "headHouseholdPast                     category\n",
       "fatherNumEmployees                    category\n",
       "motherNumEmployees                    category\n",
       "selfOccStatus                         category\n",
       "selfOccStatusLast                     category\n",
       "subjClass                             category\n",
       "othSubjClass                            object\n",
       "polKnowMiliband                       category\n",
       "polKnowClegg                          category\n",
       "polKnowOsborne                        category\n",
       "polKnowMay                            category\n",
       "polKnowBercow                         category\n",
       "subjectHE                             category\n",
       "subjectHECurrent                      category\n",
       "edlevel                               category\n",
       "profile_turnout_2015                  category\n",
       "profile_past_vote_2015                category\n",
       "lr_scale                              category\n",
       "al_scale                              category\n",
       "dtype: object"
      ]
     },
     "execution_count": 202,
     "metadata": {},
     "output_type": "execute_result"
    }
   ],
   "source": [
    "BES_Panel.loc[ld].dtypes"
   ]
  },
  {
   "cell_type": "code",
   "execution_count": 239,
   "metadata": {
    "collapsed": false
   },
   "outputs": [],
   "source": [
    "liberal_democats = BES_Panel[ BES_Panel.columns[ BES_Panel.dtypes ==\"category\" ] ].apply(lambda x: x.cat.codes).loc[ld]\n",
    "liberal_democats.replace(-1,np.nan, inplace=True)"
   ]
  },
  {
   "cell_type": "code",
   "execution_count": 240,
   "metadata": {
    "collapsed": false
   },
   "outputs": [
    {
     "name": "stderr",
     "output_type": "stream",
     "text": [
      "Using Theano backend.\n"
     ]
    },
    {
     "name": "stdout",
     "output_type": "stream",
     "text": [
      "[SoftImpute] Max Singular Value of X_init = 15802.282995\n",
      "[SoftImpute] Iter 1: observed MAE=1.144495 rank=21\n",
      "[SoftImpute] Iter 2: observed MAE=1.127503 rank=20\n",
      "[SoftImpute] Iter 3: observed MAE=1.120972 rank=19\n",
      "[SoftImpute] Iter 4: observed MAE=1.117825 rank=18\n",
      "[SoftImpute] Iter 5: observed MAE=1.114355 rank=18\n",
      "[SoftImpute] Iter 6: observed MAE=1.112332 rank=18\n",
      "[SoftImpute] Iter 7: observed MAE=1.110978 rank=18\n",
      "[SoftImpute] Iter 8: observed MAE=1.109920 rank=18\n",
      "[SoftImpute] Iter 9: observed MAE=1.108476 rank=17\n",
      "[SoftImpute] Iter 10: observed MAE=1.106843 rank=17\n",
      "[SoftImpute] Iter 11: observed MAE=1.105650 rank=17\n",
      "[SoftImpute] Iter 12: observed MAE=1.104787 rank=17\n",
      "[SoftImpute] Iter 13: observed MAE=1.104162 rank=17\n",
      "[SoftImpute] Iter 14: observed MAE=1.103703 rank=17\n",
      "[SoftImpute] Iter 15: observed MAE=1.103362 rank=17\n",
      "[SoftImpute] Iter 16: observed MAE=1.103103 rank=17\n",
      "[SoftImpute] Iter 17: observed MAE=1.102901 rank=17\n",
      "[SoftImpute] Iter 18: observed MAE=1.102740 rank=17\n",
      "[SoftImpute] Iter 19: observed MAE=1.102611 rank=17\n",
      "[SoftImpute] Iter 20: observed MAE=1.102506 rank=17\n",
      "[SoftImpute] Iter 21: observed MAE=1.102419 rank=17\n",
      "[SoftImpute] Iter 22: observed MAE=1.102347 rank=17\n",
      "[SoftImpute] Iter 23: observed MAE=1.102285 rank=17\n",
      "[SoftImpute] Iter 24: observed MAE=1.102232 rank=17\n",
      "[SoftImpute] Iter 25: observed MAE=1.102186 rank=17\n",
      "[SoftImpute] Iter 26: observed MAE=1.102146 rank=17\n",
      "[SoftImpute] Iter 27: observed MAE=1.102110 rank=17\n",
      "[SoftImpute] Iter 28: observed MAE=1.102078 rank=17\n",
      "[SoftImpute] Iter 29: observed MAE=1.102050 rank=17\n",
      "[SoftImpute] Iter 30: observed MAE=1.102025 rank=17\n",
      "[SoftImpute] Iter 31: observed MAE=1.102002 rank=17\n",
      "[SoftImpute] Iter 32: observed MAE=1.101981 rank=17\n",
      "[SoftImpute] Iter 33: observed MAE=1.101962 rank=17\n",
      "[SoftImpute] Iter 34: observed MAE=1.101944 rank=17\n",
      "[SoftImpute] Iter 35: observed MAE=1.101929 rank=17\n",
      "[SoftImpute] Iter 36: observed MAE=1.101914 rank=17\n",
      "[SoftImpute] Iter 37: observed MAE=1.101900 rank=17\n",
      "[SoftImpute] Iter 38: observed MAE=1.101888 rank=17\n",
      "[SoftImpute] Iter 39: observed MAE=1.101876 rank=17\n",
      "[SoftImpute] Iter 40: observed MAE=1.101865 rank=17\n",
      "[SoftImpute] Iter 41: observed MAE=1.101855 rank=17\n",
      "[SoftImpute] Iter 42: observed MAE=1.101846 rank=17\n",
      "[SoftImpute] Iter 43: observed MAE=1.101837 rank=17\n",
      "[SoftImpute] Iter 44: observed MAE=1.101829 rank=17\n",
      "[SoftImpute] Iter 45: observed MAE=1.101821 rank=17\n",
      "[SoftImpute] Iter 46: observed MAE=1.101814 rank=17\n",
      "[SoftImpute] Iter 47: observed MAE=1.101807 rank=17\n",
      "[SoftImpute] Iter 48: observed MAE=1.101801 rank=17\n",
      "[SoftImpute] Iter 49: observed MAE=1.101795 rank=17\n",
      "[SoftImpute] Iter 50: observed MAE=1.101790 rank=17\n",
      "[SoftImpute] Iter 51: observed MAE=1.101785 rank=17\n",
      "[SoftImpute] Iter 52: observed MAE=1.101780 rank=17\n",
      "[SoftImpute] Iter 53: observed MAE=1.101776 rank=17\n",
      "[SoftImpute] Iter 54: observed MAE=1.101772 rank=17\n",
      "[SoftImpute] Iter 55: observed MAE=1.101768 rank=17\n",
      "[SoftImpute] Iter 56: observed MAE=1.101764 rank=17\n",
      "[SoftImpute] Iter 57: observed MAE=1.101761 rank=17\n",
      "[SoftImpute] Iter 58: observed MAE=1.101758 rank=17\n",
      "[SoftImpute] Iter 59: observed MAE=1.101755 rank=17\n",
      "[SoftImpute] Iter 60: observed MAE=1.101752 rank=17\n",
      "[SoftImpute] Iter 61: observed MAE=1.101750 rank=17\n",
      "[SoftImpute] Iter 62: observed MAE=1.101747 rank=17\n",
      "[SoftImpute] Iter 63: observed MAE=1.101745 rank=17\n",
      "[SoftImpute] Iter 64: observed MAE=1.101743 rank=17\n",
      "[SoftImpute] Iter 65: observed MAE=1.101741 rank=17\n",
      "[SoftImpute] Iter 66: observed MAE=1.101739 rank=17\n",
      "[SoftImpute] Iter 67: observed MAE=1.101738 rank=17\n",
      "[SoftImpute] Iter 68: observed MAE=1.101736 rank=17\n",
      "[SoftImpute] Iter 69: observed MAE=1.101734 rank=17\n",
      "[SoftImpute] Iter 70: observed MAE=1.101733 rank=17\n",
      "[SoftImpute] Iter 71: observed MAE=1.101732 rank=17\n",
      "[SoftImpute] Iter 72: observed MAE=1.101731 rank=17\n",
      "[SoftImpute] Iter 73: observed MAE=1.101730 rank=17\n",
      "[SoftImpute] Iter 74: observed MAE=1.101728 rank=17\n",
      "[SoftImpute] Iter 75: observed MAE=1.101727 rank=17\n",
      "[SoftImpute] Iter 76: observed MAE=1.101727 rank=17\n",
      "[SoftImpute] Iter 77: observed MAE=1.101726 rank=17\n",
      "[SoftImpute] Iter 78: observed MAE=1.101725 rank=17\n",
      "[SoftImpute] Iter 79: observed MAE=1.101724 rank=17\n",
      "[SoftImpute] Iter 80: observed MAE=1.101723 rank=17\n",
      "[SoftImpute] Iter 81: observed MAE=1.101723 rank=17\n",
      "[SoftImpute] Iter 82: observed MAE=1.101722 rank=17\n",
      "[SoftImpute] Iter 83: observed MAE=1.101722 rank=17\n",
      "[SoftImpute] Iter 84: observed MAE=1.101721 rank=17\n",
      "[SoftImpute] Iter 85: observed MAE=1.101721 rank=17\n",
      "[SoftImpute] Iter 86: observed MAE=1.101720 rank=17\n",
      "[SoftImpute] Iter 87: observed MAE=1.101720 rank=17\n",
      "[SoftImpute] Iter 88: observed MAE=1.101719 rank=17\n",
      "[SoftImpute] Iter 89: observed MAE=1.101719 rank=17\n",
      "[SoftImpute] Iter 90: observed MAE=1.101718 rank=17\n",
      "[SoftImpute] Iter 91: observed MAE=1.101718 rank=17\n",
      "[SoftImpute] Iter 92: observed MAE=1.101718 rank=17\n",
      "[SoftImpute] Iter 93: observed MAE=1.101718 rank=17\n",
      "[SoftImpute] Iter 94: observed MAE=1.101717 rank=17\n",
      "[SoftImpute] Iter 95: observed MAE=1.101717 rank=17\n",
      "[SoftImpute] Iter 96: observed MAE=1.101717 rank=17\n",
      "[SoftImpute] Iter 97: observed MAE=1.101717 rank=17\n",
      "[SoftImpute] Iter 98: observed MAE=1.101717 rank=17\n",
      "[SoftImpute] Iter 99: observed MAE=1.101717 rank=17\n",
      "[SoftImpute] Iter 100: observed MAE=1.101716 rank=17\n",
      "[SoftImpute] Stopped after iteration 100 for lambda=316.045660\n"
     ]
    }
   ],
   "source": [
    "%%time\n",
    "from fancyimpute import BiScaler, KNN, NuclearNormMinimization, SoftImpute\n",
    "X_filled_softimpute = SoftImpute().complete(liberal_democats)\n"
   ]
  },
  {
   "cell_type": "code",
   "execution_count": 246,
   "metadata": {
    "collapsed": false
   },
   "outputs": [],
   "source": [
    "from sklearn.preprocessing import StandardScaler\n",
    "import matplotlib.pyplot as plt\n",
    "from sklearn.discriminant_analysis import LinearDiscriminantAnalysis\n",
    "clean_feature_set_std = StandardScaler().fit_transform(X_filled_softimpute)\n",
    "BES_std = pd.DataFrame(clean_feature_set_std,\n",
    "                       columns = liberal_democats.columns,\n",
    "                       index   = liberal_democats.index)\n"
   ]
  },
  {
   "cell_type": "code",
   "execution_count": null,
   "metadata": {
    "collapsed": true
   },
   "outputs": [],
   "source": [
    "# y = X[\"euRefVoteW8\"]==1\n",
    "# X = X.drop(\"euRefVoteW8\",axis=1)\n",
    "# lda = LinearDiscriminantAnalysis(n_components=2)\n",
    "# X_r2 = lda.fit(X, y).transform(X)\n",
    "# print( (X_r.shape, X_r2.shape ) )"
   ]
  },
  {
   "cell_type": "code",
   "execution_count": 265,
   "metadata": {
    "collapsed": false
   },
   "outputs": [
    {
     "name": "stdout",
     "output_type": "stream",
     "text": [
      "(4698, 1)\n"
     ]
    },
    {
     "name": "stderr",
     "output_type": "stream",
     "text": [
      "C:\\ANACON~1\\envs\\BES_analysis\\lib\\site-packages\\sklearn\\discriminant_analysis.py:389: UserWarning: Variables are collinear.\n",
      "  warnings.warn(\"Variables are collinear.\")\n"
     ]
    }
   ],
   "source": [
    "# ['profile_past_vote_2010', 'profile_past_vote_2015']\n",
    "lda = LinearDiscriminantAnalysis(n_components=2)\n",
    "y = np.abs(BES_std['profile_past_vote_2015'].loc[ld]-1.299482)<0.1 # True for LD -> UKIP\n",
    "X = BES_std.drop( ['profile_past_vote_2010', 'profile_past_vote_2015'],axis=1  )\n",
    "X_r2 = lda.fit(X, y).transform(X)\n",
    "print( X_r2.shape )"
   ]
  },
  {
   "cell_type": "code",
   "execution_count": 288,
   "metadata": {
    "collapsed": false
   },
   "outputs": [],
   "source": [
    "# colors = ['navy', 'turquoise', 'darkorange']\n",
    "# target_names = [\"LD -> not ukip\", \"LD -> ukip\"]\n",
    "# plt.figure()\n",
    "# for color, i, target_name in zip(colors, [0, 1], target_names):\n",
    "#     plt.scatter(X_r2[y == i, 0], X_r2[y == i, 1], alpha=.8, color=color,\n",
    "#                 label=target_name)\n",
    "# plt.legend(loc='best', shadow=False, scatterpoints=1)\n",
    "# plt.title('LDA of IRIS dataset')\n",
    "\n",
    "# plt.show()"
   ]
  },
  {
   "cell_type": "code",
   "execution_count": 291,
   "metadata": {
    "collapsed": false
   },
   "outputs": [
    {
     "data": {
      "text/html": [
       "<div>\n",
       "<table border=\"1\" class=\"dataframe\">\n",
       "  <thead>\n",
       "    <tr style=\"text-align: right;\">\n",
       "      <th></th>\n",
       "      <th>0</th>\n",
       "    </tr>\n",
       "  </thead>\n",
       "  <tbody>\n",
       "    <tr>\n",
       "      <th>commonwealthCitizen</th>\n",
       "      <td>-150.539150</td>\n",
       "    </tr>\n",
       "    <tr>\n",
       "      <th>otherCitizen</th>\n",
       "      <td>-134.153326</td>\n",
       "    </tr>\n",
       "    <tr>\n",
       "      <th>country_of_residence1</th>\n",
       "      <td>-108.612584</td>\n",
       "    </tr>\n",
       "    <tr>\n",
       "      <th>ukCitizen</th>\n",
       "      <td>-41.816043</td>\n",
       "    </tr>\n",
       "    <tr>\n",
       "      <th>profile_oslaua</th>\n",
       "      <td>-29.945036</td>\n",
       "    </tr>\n",
       "    <tr>\n",
       "      <th>profile_gross_household</th>\n",
       "      <td>-26.759091</td>\n",
       "    </tr>\n",
       "    <tr>\n",
       "      <th>profile_gross_personal</th>\n",
       "      <td>-25.259724</td>\n",
       "    </tr>\n",
       "    <tr>\n",
       "      <th>ns_sec</th>\n",
       "      <td>-22.873652</td>\n",
       "    </tr>\n",
       "    <tr>\n",
       "      <th>EUIntegrationLD</th>\n",
       "      <td>-18.594198</td>\n",
       "    </tr>\n",
       "    <tr>\n",
       "      <th>EUIntegrationGreen</th>\n",
       "      <td>-18.526232</td>\n",
       "    </tr>\n",
       "    <tr>\n",
       "      <th>immigUKIP</th>\n",
       "      <td>-18.355443</td>\n",
       "    </tr>\n",
       "    <tr>\n",
       "      <th>immigCon</th>\n",
       "      <td>-15.671294</td>\n",
       "    </tr>\n",
       "    <tr>\n",
       "      <th>profile_newspaper_readership_201</th>\n",
       "      <td>-15.427036</td>\n",
       "    </tr>\n",
       "    <tr>\n",
       "      <th>age</th>\n",
       "      <td>-13.735236</td>\n",
       "    </tr>\n",
       "    <tr>\n",
       "      <th>Age</th>\n",
       "      <td>-13.457403</td>\n",
       "    </tr>\n",
       "    <tr>\n",
       "      <th>EUIntegrationLab</th>\n",
       "      <td>-11.197407</td>\n",
       "    </tr>\n",
       "    <tr>\n",
       "      <th>immigLab</th>\n",
       "      <td>-10.125044</td>\n",
       "    </tr>\n",
       "    <tr>\n",
       "      <th>immigLD</th>\n",
       "      <td>-10.080228</td>\n",
       "    </tr>\n",
       "    <tr>\n",
       "      <th>immigGreen</th>\n",
       "      <td>-8.565959</td>\n",
       "    </tr>\n",
       "    <tr>\n",
       "      <th>immigConW9</th>\n",
       "      <td>-8.165571</td>\n",
       "    </tr>\n",
       "    <tr>\n",
       "      <th>partyId</th>\n",
       "      <td>-6.696385</td>\n",
       "    </tr>\n",
       "    <tr>\n",
       "      <th>partyIdW9</th>\n",
       "      <td>-6.334853</td>\n",
       "    </tr>\n",
       "    <tr>\n",
       "      <th>generalElectionVoteW9</th>\n",
       "      <td>-6.149960</td>\n",
       "    </tr>\n",
       "    <tr>\n",
       "      <th>generalElectionVote</th>\n",
       "      <td>-6.103937</td>\n",
       "    </tr>\n",
       "    <tr>\n",
       "      <th>EUIntegrationCon</th>\n",
       "      <td>-5.532143</td>\n",
       "    </tr>\n",
       "    <tr>\n",
       "      <th>partyContactDK</th>\n",
       "      <td>-5.470867</td>\n",
       "    </tr>\n",
       "    <tr>\n",
       "      <th>immigLDW9</th>\n",
       "      <td>-5.040162</td>\n",
       "    </tr>\n",
       "    <tr>\n",
       "      <th>immigUKIPW9</th>\n",
       "      <td>-4.880451</td>\n",
       "    </tr>\n",
       "    <tr>\n",
       "      <th>immigLabW9</th>\n",
       "      <td>-4.873046</td>\n",
       "    </tr>\n",
       "    <tr>\n",
       "      <th>bestOnMII</th>\n",
       "      <td>-4.318966</td>\n",
       "    </tr>\n",
       "    <tr>\n",
       "      <th>...</th>\n",
       "      <td>...</td>\n",
       "    </tr>\n",
       "    <tr>\n",
       "      <th>likeUKIPW9</th>\n",
       "      <td>5.802323</td>\n",
       "    </tr>\n",
       "    <tr>\n",
       "      <th>partyContactOtherParty</th>\n",
       "      <td>6.702483</td>\n",
       "    </tr>\n",
       "    <tr>\n",
       "      <th>likeFarageW9</th>\n",
       "      <td>6.927438</td>\n",
       "    </tr>\n",
       "    <tr>\n",
       "      <th>likeFarronW9</th>\n",
       "      <td>7.993568</td>\n",
       "    </tr>\n",
       "    <tr>\n",
       "      <th>likeUKIP</th>\n",
       "      <td>8.648068</td>\n",
       "    </tr>\n",
       "    <tr>\n",
       "      <th>likeAlanJohnson</th>\n",
       "      <td>9.027230</td>\n",
       "    </tr>\n",
       "    <tr>\n",
       "      <th>likeFarron</th>\n",
       "      <td>9.645078</td>\n",
       "    </tr>\n",
       "    <tr>\n",
       "      <th>likeGoveW9</th>\n",
       "      <td>10.383574</td>\n",
       "    </tr>\n",
       "    <tr>\n",
       "      <th>likeFarage</th>\n",
       "      <td>10.919739</td>\n",
       "    </tr>\n",
       "    <tr>\n",
       "      <th>likeBorisW9</th>\n",
       "      <td>11.602315</td>\n",
       "    </tr>\n",
       "    <tr>\n",
       "      <th>likeMayW9</th>\n",
       "      <td>11.840177</td>\n",
       "    </tr>\n",
       "    <tr>\n",
       "      <th>likeLDW9</th>\n",
       "      <td>12.123659</td>\n",
       "    </tr>\n",
       "    <tr>\n",
       "      <th>likeLD</th>\n",
       "      <td>12.587998</td>\n",
       "    </tr>\n",
       "    <tr>\n",
       "      <th>likeOsborneW9</th>\n",
       "      <td>13.583529</td>\n",
       "    </tr>\n",
       "    <tr>\n",
       "      <th>ptvLDW9</th>\n",
       "      <td>15.053519</td>\n",
       "    </tr>\n",
       "    <tr>\n",
       "      <th>likeBoris</th>\n",
       "      <td>15.065101</td>\n",
       "    </tr>\n",
       "    <tr>\n",
       "      <th>likeGove</th>\n",
       "      <td>15.768553</td>\n",
       "    </tr>\n",
       "    <tr>\n",
       "      <th>likeOsborne</th>\n",
       "      <td>16.012735</td>\n",
       "    </tr>\n",
       "    <tr>\n",
       "      <th>likeConW9</th>\n",
       "      <td>16.846918</td>\n",
       "    </tr>\n",
       "    <tr>\n",
       "      <th>lr_scale</th>\n",
       "      <td>17.485658</td>\n",
       "    </tr>\n",
       "    <tr>\n",
       "      <th>likeCon</th>\n",
       "      <td>18.238275</td>\n",
       "    </tr>\n",
       "    <tr>\n",
       "      <th>likeCameronW9</th>\n",
       "      <td>18.562395</td>\n",
       "    </tr>\n",
       "    <tr>\n",
       "      <th>likeCameron</th>\n",
       "      <td>19.448627</td>\n",
       "    </tr>\n",
       "    <tr>\n",
       "      <th>education</th>\n",
       "      <td>20.039902</td>\n",
       "    </tr>\n",
       "    <tr>\n",
       "      <th>EUMIICategory</th>\n",
       "      <td>20.325546</td>\n",
       "    </tr>\n",
       "    <tr>\n",
       "      <th>ptvConW9</th>\n",
       "      <td>20.490833</td>\n",
       "    </tr>\n",
       "    <tr>\n",
       "      <th>euRefExpectation</th>\n",
       "      <td>32.526525</td>\n",
       "    </tr>\n",
       "    <tr>\n",
       "      <th>profile_lea</th>\n",
       "      <td>33.863656</td>\n",
       "    </tr>\n",
       "    <tr>\n",
       "      <th>euCitizen</th>\n",
       "      <td>99.127651</td>\n",
       "    </tr>\n",
       "    <tr>\n",
       "      <th>country_of_residence2</th>\n",
       "      <td>123.507666</td>\n",
       "    </tr>\n",
       "  </tbody>\n",
       "</table>\n",
       "<p>662 rows × 1 columns</p>\n",
       "</div>"
      ],
      "text/plain": [
       "                                           0\n",
       "commonwealthCitizen              -150.539150\n",
       "otherCitizen                     -134.153326\n",
       "country_of_residence1            -108.612584\n",
       "ukCitizen                         -41.816043\n",
       "profile_oslaua                    -29.945036\n",
       "profile_gross_household           -26.759091\n",
       "profile_gross_personal            -25.259724\n",
       "ns_sec                            -22.873652\n",
       "EUIntegrationLD                   -18.594198\n",
       "EUIntegrationGreen                -18.526232\n",
       "immigUKIP                         -18.355443\n",
       "immigCon                          -15.671294\n",
       "profile_newspaper_readership_201  -15.427036\n",
       "age                               -13.735236\n",
       "Age                               -13.457403\n",
       "EUIntegrationLab                  -11.197407\n",
       "immigLab                          -10.125044\n",
       "immigLD                           -10.080228\n",
       "immigGreen                         -8.565959\n",
       "immigConW9                         -8.165571\n",
       "partyId                            -6.696385\n",
       "partyIdW9                          -6.334853\n",
       "generalElectionVoteW9              -6.149960\n",
       "generalElectionVote                -6.103937\n",
       "EUIntegrationCon                   -5.532143\n",
       "partyContactDK                     -5.470867\n",
       "immigLDW9                          -5.040162\n",
       "immigUKIPW9                        -4.880451\n",
       "immigLabW9                         -4.873046\n",
       "bestOnMII                          -4.318966\n",
       "...                                      ...\n",
       "likeUKIPW9                          5.802323\n",
       "partyContactOtherParty              6.702483\n",
       "likeFarageW9                        6.927438\n",
       "likeFarronW9                        7.993568\n",
       "likeUKIP                            8.648068\n",
       "likeAlanJohnson                     9.027230\n",
       "likeFarron                          9.645078\n",
       "likeGoveW9                         10.383574\n",
       "likeFarage                         10.919739\n",
       "likeBorisW9                        11.602315\n",
       "likeMayW9                          11.840177\n",
       "likeLDW9                           12.123659\n",
       "likeLD                             12.587998\n",
       "likeOsborneW9                      13.583529\n",
       "ptvLDW9                            15.053519\n",
       "likeBoris                          15.065101\n",
       "likeGove                           15.768553\n",
       "likeOsborne                        16.012735\n",
       "likeConW9                          16.846918\n",
       "lr_scale                           17.485658\n",
       "likeCon                            18.238275\n",
       "likeCameronW9                      18.562395\n",
       "likeCameron                        19.448627\n",
       "education                          20.039902\n",
       "EUMIICategory                      20.325546\n",
       "ptvConW9                           20.490833\n",
       "euRefExpectation                   32.526525\n",
       "profile_lea                        33.863656\n",
       "euCitizen                          99.127651\n",
       "country_of_residence2             123.507666\n",
       "\n",
       "[662 rows x 1 columns]"
      ]
     },
     "execution_count": 291,
     "metadata": {},
     "output_type": "execute_result"
    }
   ],
   "source": [
    "pd.DataFrame(lda.coef_.transpose(), index = X.columns ).sort_values(by=0)"
   ]
  },
  {
   "cell_type": "code",
   "execution_count": null,
   "metadata": {
    "collapsed": true
   },
   "outputs": [],
   "source": [
    "# UKIP2015: less people in cities ukip\n",
    "# Not UKIP2015: more people in cities"
   ]
  },
  {
   "cell_type": "code",
   "execution_count": 393,
   "metadata": {
    "collapsed": false
   },
   "outputs": [
    {
     "data": {
      "text/plain": [
       "<matplotlib.axes._subplots.AxesSubplot at 0x33bf4b38>"
      ]
     },
     "execution_count": 393,
     "metadata": {},
     "output_type": "execute_result"
    },
    {
     "data": {
      "image/png": "[encoded data removed]",
      "text/plain": [
       "<matplotlib.figure.Figure at 0x33756b70>"
      ]
     },
     "metadata": {},
     "output_type": "display_data"
    }
   ],
   "source": [
    "fig, axes = plt.subplots(1,2,figsize=(15,5))\n",
    "col = 'education'\n",
    "fig.suptitle(col, fontsize=16)\n",
    "BES_Panel.loc[ld_ukip,col].value_counts().plot('bar', ax=axes[0], title = \"LD2010->UKIP2015\")\n",
    "BES_Panel.loc[ld_minus_ukip,col].value_counts().plot('bar', ax=axes[1], title = \"LD2010->NotUKIP2015\")"
   ]
  },
  {
   "cell_type": "code",
   "execution_count": null,
   "metadata": {
    "collapsed": false
   },
   "outputs": [],
   "source": []
  },
  {
   "cell_type": "code",
   "execution_count": 388,
   "metadata": {
    "collapsed": false
   },
   "outputs": [
    {
     "data": {
      "text/plain": [
       "<matplotlib.axes._subplots.AxesSubplot at 0x309d8fd0>"
      ]
     },
     "execution_count": 388,
     "metadata": {},
     "output_type": "execute_result"
    },
    {
     "data": {
      "image/png": "[encoded data removed]",
      "text/plain": [
       "<matplotlib.figure.Figure at 0x3077ad30>"
      ]
     },
     "metadata": {},
     "output_type": "display_data"
    }
   ],
   "source": [
    "fig, axes = plt.subplots(1,2,figsize=(15,5))\n",
    "col = 'profile_gross_personal'\n",
    "fig.suptitle(col, fontsize=16)\n",
    "BES_Panel.loc[ld_ukip,col].value_counts().sort_index().plot('bar', ax=axes[0], title = \"LD2010->UKIP2015\")\n",
    "BES_Panel.loc[ld_minus_ukip,col].value_counts().sort_index().plot('bar', ax=axes[1], title = \"LD2010->NotUKIP2015\")"
   ]
  },
  {
   "cell_type": "code",
   "execution_count": 392,
   "metadata": {
    "collapsed": false
   },
   "outputs": [
    {
     "data": {
      "text/plain": [
       "<matplotlib.axes._subplots.AxesSubplot at 0x33780e48>"
      ]
     },
     "execution_count": 392,
     "metadata": {},
     "output_type": "execute_result"
    },
    {
     "data": {
      "image/png": "[encoded data removed]",
      "text/plain": [
       "<matplotlib.figure.Figure at 0x3205c048>"
      ]
     },
     "metadata": {},
     "output_type": "display_data"
    }
   ],
   "source": [
    "fig, axes = plt.subplots(1,2,figsize=(15,5))\n",
    "col = 'ns_sec'\n",
    "fig.suptitle(col, fontsize=16)\n",
    "BES_Panel.loc[ld_ukip,col].value_counts().plot('bar', ax=axes[0], title = \"LD2010->UKIP2015\")\n",
    "BES_Panel.loc[ld_minus_ukip,col].value_counts().plot('bar', ax=axes[1], title = \"LD2010->NotUKIP2015\")"
   ]
  },
  {
   "cell_type": "code",
   "execution_count": 395,
   "metadata": {
    "collapsed": false
   },
   "outputs": [
    {
     "data": {
      "text/plain": [
       "<matplotlib.axes._subplots.AxesSubplot at 0x340fa6a0>"
      ]
     },
     "execution_count": 395,
     "metadata": {},
     "output_type": "execute_result"
    },
    {
     "data": {
      "image/png": "[encoded data removed]",
      "text/plain": [
       "<matplotlib.figure.Figure at 0x33d02978>"
      ]
     },
     "metadata": {},
     "output_type": "display_data"
    }
   ],
   "source": [
    "fig, axes = plt.subplots(1,2,figsize=(15,5))\n",
    "col = 'profile_newspaper_readership_201'\n",
    "fig.suptitle(col, fontsize=16)\n",
    "BES_Panel.loc[ld_ukip,col].value_counts().plot('bar', ax=axes[0], title = \"LD2010->UKIP2015\")\n",
    "BES_Panel.loc[ld_minus_ukip,col].value_counts().plot('bar', ax=axes[1], title = \"LD2010->NotUKIP2015\")"
   ]
  },
  {
   "cell_type": "code",
   "execution_count": 397,
   "metadata": {
    "collapsed": false
   },
   "outputs": [
    {
     "data": {
      "text/plain": [
       "<matplotlib.axes._subplots.AxesSubplot at 0x303f1128>"
      ]
     },
     "execution_count": 397,
     "metadata": {},
     "output_type": "execute_result"
    },
    {
     "data": {
      "image/png": "[encoded data removed]",
      "text/plain": [
       "<matplotlib.figure.Figure at 0x34255048>"
      ]
     },
     "metadata": {},
     "output_type": "display_data"
    }
   ],
   "source": [
    "fig, axes = plt.subplots(1,2,figsize=(15,5))\n",
    "col = 'lr_scale'\n",
    "fig.suptitle(col, fontsize=16)\n",
    "BES_Panel.loc[ld_ukip,col].value_counts().sort_index().plot('bar', ax=axes[0], title = \"LD2010->UKIP2015\")\n",
    "BES_Panel.loc[ld_minus_ukip,col].value_counts().sort_index().plot('bar', ax=axes[1], title = \"LD2010->NotUKIP2015\")"
   ]
  },
  {
   "cell_type": "code",
   "execution_count": 398,
   "metadata": {
    "collapsed": false
   },
   "outputs": [
    {
     "data": {
      "text/plain": [
       "<matplotlib.axes._subplots.AxesSubplot at 0x34cbcda0>"
      ]
     },
     "execution_count": 398,
     "metadata": {},
     "output_type": "execute_result"
    },
    {
     "data": {
      "image/png": "[encoded data removed]",
      "text/plain": [
       "<matplotlib.figure.Figure at 0x34c78d30>"
      ]
     },
     "metadata": {},
     "output_type": "display_data"
    }
   ],
   "source": [
    "fig, axes = plt.subplots(1,2,figsize=(15,5))\n",
    "col = 'al_scale'\n",
    "fig.suptitle(col, fontsize=16)\n",
    "BES_Panel.loc[ld_ukip,col].value_counts().sort_index().plot('bar', ax=axes[0], title = \"LD2010->UKIP2015\")\n",
    "BES_Panel.loc[ld_minus_ukip,col].value_counts().sort_index().plot('bar', ax=axes[1], title = \"LD2010->NotUKIP2015\")"
   ]
  },
  {
   "cell_type": "code",
   "execution_count": 411,
   "metadata": {
    "collapsed": false
   },
   "outputs": [
    {
     "data": {
      "text/plain": [
       "<matplotlib.axes._subplots.AxesSubplot at 0x3d1c4518>"
      ]
     },
     "execution_count": 411,
     "metadata": {},
     "output_type": "execute_result"
    },
    {
     "data": {
      "image/png": "[encoded data removed]",
      "text/plain": [
       "<matplotlib.figure.Figure at 0x3c820c50>"
      ]
     },
     "metadata": {},
     "output_type": "display_data"
    }
   ],
   "source": [
    "fig, axes = plt.subplots(1,2,figsize=(30,10))\n",
    "col = 'age'\n",
    "fig.suptitle(col, fontsize=16)\n",
    "BES_Panel.loc[ld_ukip,col].value_counts().sort_index().astype('int').plot('bar', ax=axes[0], title = \"LD2010->UKIP2015\")\n",
    "BES_Panel.loc[ld_minus_ukip,col].value_counts().sort_index().plot('bar', ax=axes[1], title = \"LD2010->NotUKIP2015\")"
   ]
  },
  {
   "cell_type": "code",
   "execution_count": 418,
   "metadata": {
    "collapsed": false
   },
   "outputs": [
    {
     "data": {
      "text/plain": [
       "<matplotlib.axes._subplots.AxesSubplot at 0x3dfc0358>"
      ]
     },
     "execution_count": 418,
     "metadata": {},
     "output_type": "execute_result"
    },
    {
     "data": {
      "image/png": "[encoded data removed]",
      "text/plain": [
       "<matplotlib.figure.Figure at 0x3ded52e8>"
      ]
     },
     "metadata": {},
     "output_type": "display_data"
    }
   ],
   "source": [
    "fig, axes = plt.subplots(1,2,figsize=(15,5))\n",
    "col = 'profile_past_vote_2005'\n",
    "fig.suptitle(col, fontsize=16)\n",
    "BES_Panel.loc[ld_ukip,col].value_counts().sort_index().astype('int').plot('bar', ax=axes[0], title = \"LD2010->UKIP2015\")\n",
    "BES_Panel.loc[ld_minus_ukip,col].value_counts().sort_index().plot('bar', ax=axes[1], title = \"LD2010->NotUKIP2015\")"
   ]
  },
  {
   "cell_type": "code",
   "execution_count": null,
   "metadata": {
    "collapsed": false
   },
   "outputs": [],
   "source": []
  },
  {
   "cell_type": "code",
   "execution_count": 424,
   "metadata": {
    "collapsed": false
   },
   "outputs": [],
   "source": []
  },
  {
   "cell_type": "code",
   "execution_count": null,
   "metadata": {
    "collapsed": false
   },
   "outputs": [],
   "source": [
    "# Create a dataset of 2010 libdems\n",
    "# modify variable to be UKIP/NOT UKIP in 2015\n",
    "# 'profile_past_vote_2015' == 5 is ukip"
   ]
  },
  {
   "cell_type": "code",
   "execution_count": 425,
   "metadata": {
    "collapsed": false
   },
   "outputs": [],
   "source": [
    "liberal_democats = BES_Panel[ BES_Panel.columns[ BES_Panel.dtypes ==\"category\" ] ].apply(lambda x: x.cat.codes).loc[ld]"
   ]
  },
  {
   "cell_type": "code",
   "execution_count": 431,
   "metadata": {
    "collapsed": false
   },
   "outputs": [],
   "source": [
    "liberal_democats = liberal_democats.drop(['profile_past_vote_2010'], axis=1)"
   ]
  },
  {
   "cell_type": "code",
   "execution_count": 438,
   "metadata": {
    "collapsed": false
   },
   "outputs": [],
   "source": [
    "liberal_democats['LDUKIP2015'] = (liberal_democats['profile_past_vote_2015'].loc[ld]==5)"
   ]
  },
  {
   "cell_type": "code",
   "execution_count": 444,
   "metadata": {
    "collapsed": false
   },
   "outputs": [],
   "source": [
    "liberal_democats.fillna(-1).astype('float').to_stata(\"../BES_analysis_data/LiberalDemocats.dta\")"
   ]
  },
  {
   "cell_type": "code",
   "execution_count": 474,
   "metadata": {
    "collapsed": false
   },
   "outputs": [],
   "source": [
    "# liberal_democats.fillna(-1).astype('float')"
   ]
  },
  {
   "cell_type": "code",
   "execution_count": null,
   "metadata": {
    "collapsed": false
   },
   "outputs": [],
   "source": []
  },
  {
   "cell_type": "code",
   "execution_count": null,
   "metadata": {
    "collapsed": false
   },
   "outputs": [],
   "source": []
  },
  {
   "cell_type": "code",
   "execution_count": 450,
   "metadata": {
    "collapsed": true
   },
   "outputs": [],
   "source": [
    "BES_min = pd.read_hdf(\"../BES_analysis_data/BESW8min.hdf\", \"BESW8min\")"
   ]
  },
  {
   "cell_type": "code",
   "execution_count": 466,
   "metadata": {
    "collapsed": false
   },
   "outputs": [],
   "source": [
    "liberal_democats = BES_min.loc[ BES_min['profile_past_vote_2010']==3.0 ]"
   ]
  },
  {
   "cell_type": "code",
   "execution_count": 471,
   "metadata": {
    "collapsed": false
   },
   "outputs": [
    {
     "name": "stderr",
     "output_type": "stream",
     "text": [
      "C:\\ANACON~1\\envs\\BES_analysis\\lib\\site-packages\\ipykernel\\__main__.py:1: SettingWithCopyWarning: \n",
      "A value is trying to be set on a copy of a slice from a DataFrame.\n",
      "Try using .loc[row_indexer,col_indexer] = value instead\n",
      "\n",
      "See the caveats in the documentation: http://pandas.pydata.org/pandas-docs/stable/indexing.html#indexing-view-versus-copy\n",
      "  if __name__ == '__main__':\n"
     ]
    }
   ],
   "source": [
    "liberal_democats['LDUKIP2015'] = liberal_democats['profile_past_vote_2015']==5"
   ]
  },
  {
   "cell_type": "code",
   "execution_count": 475,
   "metadata": {
    "collapsed": false
   },
   "outputs": [],
   "source": [
    "# drop 'profile_past_vote_2010', 'profile_past_vote_2015', 'generalElectionVote'\n",
    "liberal_democats = liberal_democats.drop(['profile_past_vote_2010', 'profile_past_vote_2015', 'generalElectionVote'], axis=1)"
   ]
  },
  {
   "cell_type": "code",
   "execution_count": 479,
   "metadata": {
    "collapsed": true
   },
   "outputs": [],
   "source": []
  },
  {
   "cell_type": "code",
   "execution_count": 478,
   "metadata": {
    "collapsed": false
   },
   "outputs": [],
   "source": [
    "liberal_democats['LDUKIP2015'] = liberal_democats['LDUKIP2015'].astype('float')"
   ]
  },
  {
   "cell_type": "code",
   "execution_count": 480,
   "metadata": {
    "collapsed": true
   },
   "outputs": [],
   "source": [
    "liberal_democats.fillna(-1).to_stata(\"../BES_analysis_data/LiberalDemocats_small.dta\")"
   ]
  },
  {
   "cell_type": "code",
   "execution_count": 485,
   "metadata": {
    "collapsed": false
   },
   "outputs": [],
   "source": [
    "W9_vars = [x for x in BES_min.columns if \"W9\" in x]\n",
    "liberal_democats = liberal_democats.drop(W9_vars, axis=1)"
   ]
  },
  {
   "cell_type": "code",
   "execution_count": 486,
   "metadata": {
    "collapsed": true
   },
   "outputs": [],
   "source": [
    "liberal_democats.fillna(-1).to_stata(\"../BES_analysis_data/LiberalDemocats_small.dta\")"
   ]
  },
  {
   "cell_type": "code",
   "execution_count": null,
   "metadata": {
    "collapsed": false
   },
   "outputs": [],
   "source": []
  },
  {
   "cell_type": "code",
   "execution_count": 490,
   "metadata": {
    "collapsed": false
   },
   "outputs": [
    {
     "data": {
      "text/plain": [
       "3.0    1440\n",
       "2.0     847\n",
       "1.0     718\n",
       "4.0     397\n",
       "0.0      54\n",
       "Name: locus1, dtype: int64"
      ]
     },
     "execution_count": 490,
     "metadata": {},
     "output_type": "execute_result"
    }
   ],
   "source": [
    "# locus1      Many times I feel that I have little influence over the things that happen to me\n",
    "# ○ Strongly disagree 1\n",
    "# ○ Disagree 2\n",
    "# ○ Neither agree nor disagree 3\n",
    "# ○ Agree 4\n",
    "# ○ Strongly agree 5\n",
    "# ○ Don't know 9999\n",
    "\n",
    "\n",
    "# subjClass   Do you ever think of yourself as belonging to any particular class?\n",
    "# ○ Yes, middle class 1\n",
    "# ○ Yes, working class 2\n",
    "# ○ Yes, other (open [othSubjClass]) 3\n",
    "# ○ No 4\n",
    "# ○ Don't know 9999\n",
    "\n",
    "\n",
    "liberal_democats[\"locus1\"].value_counts()\n",
    "\n"
   ]
  },
  {
   "cell_type": "code",
   "execution_count": 496,
   "metadata": {
    "collapsed": false
   },
   "outputs": [
    {
     "data": {
      "text/plain": [
       "1.0    1385\n",
       "2.0    1380\n",
       "0.0     803\n",
       "Name: subjClass, dtype: int64"
      ]
     },
     "execution_count": 496,
     "metadata": {},
     "output_type": "execute_result"
    }
   ],
   "source": [
    "liberal_democats[\"subjClass\"].value_counts()"
   ]
  },
  {
   "cell_type": "code",
   "execution_count": 501,
   "metadata": {
    "collapsed": false
   },
   "outputs": [
    {
     "data": {
      "text/plain": [
       "Index(['No', 'Yes, middle class', 'Yes, working class', 'Yes, other',\n",
       "       'Don't know'],\n",
       "      dtype='object')"
      ]
     },
     "execution_count": 501,
     "metadata": {},
     "output_type": "execute_result"
    }
   ],
   "source": [
    "BES_Panel[\"subjClass\"].loc[ld].cat.categories"
   ]
  },
  {
   "cell_type": "code",
   "execution_count": 500,
   "metadata": {
    "collapsed": false
   },
   "outputs": [
    {
     "data": {
      "text/plain": [
       "Yes, middle class     1762\n",
       "Yes, working class    1653\n",
       "No                     989\n",
       "Don't know             105\n",
       "Yes, other              90\n",
       "Name: subjClass, dtype: int64"
      ]
     },
     "execution_count": 500,
     "metadata": {},
     "output_type": "execute_result"
    }
   ],
   "source": [
    "BES_Panel[\"subjClass\"].loc[ld].value_counts()"
   ]
  },
  {
   "cell_type": "code",
   "execution_count": 497,
   "metadata": {
    "collapsed": false
   },
   "outputs": [
    {
     "data": {
      "text/plain": [
       "0.10617365233247091"
      ]
     },
     "execution_count": 497,
     "metadata": {},
     "output_type": "execute_result"
    }
   ],
   "source": [
    "liberal_democats[\"locus1\"].corr( liberal_democats['LDUKIP2015']   )"
   ]
  },
  {
   "cell_type": "code",
   "execution_count": 498,
   "metadata": {
    "collapsed": false
   },
   "outputs": [
    {
     "data": {
      "text/plain": [
       "0.13794378864915596"
      ]
     },
     "execution_count": 498,
     "metadata": {},
     "output_type": "execute_result"
    }
   ],
   "source": [
    "liberal_democats[\"subjClass\"].corr( liberal_democats['LDUKIP2015']   )"
   ]
  },
  {
   "cell_type": "code",
   "execution_count": 505,
   "metadata": {
    "collapsed": false
   },
   "outputs": [
    {
     "data": {
      "text/plain": [
       "0.19952622515751031"
      ]
     },
     "execution_count": 505,
     "metadata": {},
     "output_type": "execute_result"
    }
   ],
   "source": [
    "(liberal_democats[\"subjClass\"]==2).corr( liberal_democats['LDUKIP2015']   )"
   ]
  },
  {
   "cell_type": "code",
   "execution_count": 513,
   "metadata": {
    "collapsed": false
   },
   "outputs": [
    {
     "data": {
      "text/plain": [
       "0.10129859363775745"
      ]
     },
     "execution_count": 513,
     "metadata": {},
     "output_type": "execute_result"
    }
   ],
   "source": [
    "(liberal_democats[\"locus1\"]==3).corr( liberal_democats['LDUKIP2015']   )"
   ]
  },
  {
   "cell_type": "code",
   "execution_count": null,
   "metadata": {
    "collapsed": true
   },
   "outputs": [],
   "source": []
  }
 ],
 "metadata": {
  "kernelspec": {
   "display_name": "Python [conda env:BES_analysis]",
   "language": "python",
   "name": "conda-env-BES_analysis-py"
  },
  "language_info": {
   "codemirror_mode": {
    "name": "ipython",
    "version": 3
   },
   "file_extension": ".py",
   "mimetype": "text/x-python",
   "name": "python",
   "nbconvert_exporter": "python",
   "pygments_lexer": "ipython3",
   "version": "3.5.2"
  }
 },
 "nbformat": 4,
 "nbformat_minor": 0
}
