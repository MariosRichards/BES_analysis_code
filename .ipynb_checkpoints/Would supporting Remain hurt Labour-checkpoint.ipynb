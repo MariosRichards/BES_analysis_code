{
 "cells": [
  {
   "cell_type": "code",
   "execution_count": 1,
   "metadata": {},
   "outputs": [],
   "source": [
    "import numpy as np\n",
    "import pandas as pd\n",
    "%matplotlib inline\n",
    "import matplotlib.pyplot as plt\n",
    "import gc\n",
    "import re\n",
    "\n",
    "from itertools import cycle\n",
    "from IPython.display import display\n",
    "import pickle, os\n",
    "\n",
    "import seaborn as sns\n",
    "\n",
    "encoding = \"ISO-8859-1\"\n",
    "\n",
    "import Jupyter_module_loader"
   ]
  },
  {
   "cell_type": "code",
   "execution_count": 2,
   "metadata": {},
   "outputs": [],
   "source": [
    "# you should clone this git to this subdirectory (in some directory - I call it BES_analysis - doesn't matter though)\n",
    "\n",
    "if os.getcwd().split(os.sep)[-1] != 'BES_analysis_code':\n",
    "    raise Exception(\"Stop! You're in the wrong directory - should be in 'BES_analysis_code'\")\n",
    "\n",
    "BES_code_folder   = \"../BES_analysis_code/\" # we should be here!\n",
    "BES_small_data_files = BES_code_folder + \"small data files\" + os.sep\n",
    "if not os.path.exists( BES_small_data_files ):\n",
    "    os.makedirs( BES_small_data_files )\n",
    "\n",
    "# we should create these if they don't already exist\n",
    "BES_data_folder   = \"../BES_analysis_data/\"\n",
    "if not os.path.exists( BES_data_folder ):\n",
    "    os.makedirs( BES_data_folder )\n",
    "\n",
    "BES_output_folder = \"../BES_analysis_output/\"\n",
    "if not os.path.exists( BES_output_folder ):\n",
    "    os.makedirs( BES_output_folder )\n",
    "    \n",
    "BES_file_manifest = pd.read_csv( BES_small_data_files + \"BES_file_manifest.csv\" )\n",
    "\n",
    "BES_R_data_files = BES_data_folder + \"R_data\" + os.sep\n",
    "if not os.path.exists( BES_R_data_files ):\n",
    "    os.makedirs( BES_R_data_files )\n"
   ]
  },
  {
   "cell_type": "code",
   "execution_count": 3,
   "metadata": {},
   "outputs": [],
   "source": [
    "dataset_name = \"W13_comb\""
   ]
  },
  {
   "cell_type": "code",
   "execution_count": 4,
   "metadata": {},
   "outputs": [
    {
     "name": "stdout",
     "output_type": "stream",
     "text": [
      "BES_Panel (68625, 5150)\n",
      "Wall time: 3.31 s\n"
     ]
    }
   ],
   "source": [
    "%%time\n",
    "\n",
    "manifest = BES_file_manifest[ BES_file_manifest[\"Name\"] == dataset_name ]\n",
    "\n",
    "data_subfolder = BES_data_folder + dataset_name + os.sep\n",
    "\n",
    "dataset_filename = manifest[\"Stata_Filename\"].values[0]\n",
    "# dataset_description = manifest[\"Friendlier_Description\"].values[0]\n",
    "# dataset_citation = manifest[\"Citation\"].values[0]\n",
    "# dataset_start = manifest[\"Date_Start\"].values[0]\n",
    "# dataset_stop = manifest[\"Date_Stop\"].values[0]\n",
    "# dataset_wave = manifest[\"Wave No\"].values[0]\n",
    "\n",
    "BES_Panel  = pd.read_msgpack(data_subfolder + dataset_filename.replace('.dta','.msgpack'))\n",
    "print(\"BES_Panel\", BES_Panel.shape )"
   ]
  },
  {
   "cell_type": "code",
   "execution_count": 5,
   "metadata": {},
   "outputs": [
    {
     "name": "stdout",
     "output_type": "stream",
     "text": [
      "var_type (5173, 12)\n",
      "BES_reduced (68625, 2572)\n",
      "BES_reduced_with_na (68625, 2572)\n"
     ]
    }
   ],
   "source": [
    "####\n",
    "\n",
    "# BES_numeric = pd.read_hdf( data_subfolder + \"BESnumeric.hdf\", \"BESnumeric\" )\n",
    "# print(\"BES_numeric\",  BES_numeric.shape )\n",
    "try:\n",
    "    var_type    = pd.read_hdf( data_subfolder + \"var_type.hdf\", encoding=encoding)\n",
    "except:\n",
    "    var_type    = pd.read_csv( data_subfolder + \"var_type.csv\", encoding=encoding)\n",
    "    var_type.set_index(\"Unnamed: 0\", inplace=True)\n",
    "print(\"var_type\",  var_type.shape )\n",
    "\n",
    "fname = data_subfolder + \"cat_dictionary.pkl\"\n",
    "with open(fname, \"rb\") as f:\n",
    "    cat_dictionary = pickle.load( f )\n",
    "    \n",
    "####\n",
    "\n",
    "# BES_non_numeric = pd.read_hdf( data_subfolder + \"BESnon_numeric.hdf\", \"BESnon_numeric\" )\n",
    "# print(\"BES_non_numeric\",  BES_non_numeric.shape )\n",
    "\n",
    "BES_reduced = pd.read_hdf( data_subfolder + \"BES_reduced.hdf\", \"BES_reduced\" )\n",
    "print(\"BES_reduced\",  BES_reduced.shape )\n",
    "\n",
    "BES_reduced_with_na = pd.read_hdf( data_subfolder + \"BES_reduced_with_na.hdf\", \"BES_reduced_with_na\")\n",
    "print(\"BES_reduced_with_na\", BES_reduced_with_na.shape )\n",
    "\n",
    "# fname = data_subfolder + \"new_old_col_names.pkl\"\n",
    "# with open(fname, \"rb\") as f:\n",
    "#     new_old_col_names = pickle.load(f) "
   ]
  },
  {
   "cell_type": "code",
   "execution_count": 6,
   "metadata": {},
   "outputs": [],
   "source": [
    "#####\n",
    "##### Lib dems support VI\n",
    "##### compared to difference between like for two leaders/parties?\n",
    "\n",
    "\n",
    "\n",
    "\n",
    "# England Only\n",
    "# W1-6\n",
    "# Cameron - Miliband -> Clegg\n",
    "# Con - Lab -> LD\n",
    "\n",
    "# W7-9\n",
    "# Cameron - Corbyn -> Farron\n",
    "\n",
    "# W10-13\n",
    "# May - Corbyn -> Farron\n"
   ]
  },
  {
   "cell_type": "code",
   "execution_count": 93,
   "metadata": {
    "collapsed": true
   },
   "outputs": [],
   "source": [
    "Conservative_leader = {n: \"Cameron\" if n <10 else \"May\" for n in range(1,14)}\n",
    "Labour_leader = {n: \"Miliband\" if n <7 else \"Corbyn\" for n in range(1,14)}\n",
    "LD_leader = {n: \"Clegg\" if n <7 else \"Farron\" for n in range(1,14)}\n"
   ]
  },
  {
   "cell_type": "code",
   "execution_count": 184,
   "metadata": {},
   "outputs": [
    {
     "data": {
      "text/plain": [
       "['profile_past_vote_2005', 'profile_past_vote_2010', 'profile_past_vote_2015']"
      ]
     },
     "execution_count": 184,
     "metadata": {},
     "output_type": "execute_result"
    }
   ],
   "source": [
    "[x for x in BES_Panel.columns if \"profile_past_vote\" in x]"
   ]
  },
  {
   "cell_type": "code",
   "execution_count": 186,
   "metadata": {},
   "outputs": [
    {
     "data": {
      "text/plain": [
       "Index(['Did not vote', 'Conservative Party', 'Labour Party',\n",
       "       'Liberal Democrats', 'Scottish National Party', 'Plaid Cymru',\n",
       "       'British National Party (BNP)', 'Green Party', 'Respect',\n",
       "       'United Kingdom Independence Party (UKIP)', 'Some other party',\n",
       "       'Don't know'],\n",
       "      dtype='object')"
      ]
     },
     "execution_count": 186,
     "metadata": {},
     "output_type": "execute_result"
    }
   ],
   "source": [
    "BES_Panel['profile_past_vote_2010'].cat.categories"
   ]
  },
  {
   "cell_type": "code",
   "execution_count": 13,
   "metadata": {},
   "outputs": [
    {
     "data": {
      "text/plain": [
       "-1     38277\n",
       " 0      8093\n",
       " 1      2455\n",
       " 2      2395\n",
       " 3      2348\n",
       " 4      2150\n",
       " 5      3309\n",
       " 6      2521\n",
       " 7      2809\n",
       " 8      1889\n",
       " 9       730\n",
       " 10      723\n",
       " 11      926\n",
       "dtype: int64"
      ]
     },
     "execution_count": 13,
     "metadata": {},
     "output_type": "execute_result"
    }
   ],
   "source": [
    "\n"
   ]
  },
  {
   "cell_type": "code",
   "execution_count": 15,
   "metadata": {},
   "outputs": [
    {
     "data": {
      "text/plain": [
       "0.0     8093\n",
       "1.0     2455\n",
       "2.0     2395\n",
       "3.0     2348\n",
       "4.0     2150\n",
       "5.0     4235\n",
       "6.0     2521\n",
       "7.0     2809\n",
       "8.0     1889\n",
       "9.0      730\n",
       "10.0     723\n",
       "dtype: int64"
      ]
     },
     "execution_count": 15,
     "metadata": {},
     "output_type": "execute_result"
    }
   ],
   "source": [
    "BES_Panel['likeCameronW1'].cat.codes.replace(-1,np.nan).replace(11,5).value_counts().sort_index()"
   ]
  },
  {
   "cell_type": "code",
   "execution_count": 117,
   "metadata": {
    "collapsed": true
   },
   "outputs": [],
   "source": [
    "wave_description = BES_file_manifest[BES_file_manifest[\"Only_or_Combined\"]==\"Only\"][[\"Wave No\",\"Friendlier_Description\"]].set_index(\"Wave No\")"
   ]
  },
  {
   "cell_type": "code",
   "execution_count": 129,
   "metadata": {},
   "outputs": [
    {
     "data": {
      "text/plain": [
       "11"
      ]
     },
     "execution_count": 129,
     "metadata": {},
     "output_type": "execute_result"
    }
   ],
   "source": []
  },
  {
   "cell_type": "code",
   "execution_count": 140,
   "metadata": {},
   "outputs": [
    {
     "data": {
      "image/png": "[encoded data removed]",
      "text/plain": [
       "<Figure size 432x288 with 1 Axes>"
      ]
     },
     "metadata": {},
     "output_type": "display_data"
    }
   ],
   "source": [
    "wave_no = 13\n",
    "DKs_transformed = False\n",
    "\n",
    "Con_name = Conservative_leader[wave_no]\n",
    "Con_var = \"like\"+Con_name+\"W\"+str(wave_no)\n",
    "Lab_name = Labour_leader[wave_no]\n",
    "Lab_var = \"like\"+Lab_name+\"W\"+str(wave_no)\n",
    "\n",
    "likeCon = BES_Panel[Con_var].cat.codes.replace(-1,np.nan)\n",
    "likeLab = BES_Panel[Lab_var].cat.codes.replace(-1,np.nan)\n",
    "if DKs_transformed:\n",
    "    likeCon = likeCon.replace(11,5)\n",
    "    likeLab = likeLab.replace(11,5)\n",
    "\n",
    "likeCon_label = Con_name+' (N='+str(likeCon.notnull().sum())+')'\n",
    "likeLab_label = Lab_name+' (N='+str(likeLab.notnull().sum())+')'\n",
    "\n",
    "xlabels = BES_Panel[Con_var].cat.categories[0:len(likeCon.value_counts())]\n",
    "bins = np.arange(len(xlabels)+1)-.5\n",
    "\n",
    "likeCon.hist(alpha=.5, label=likeCon_label, bins=bins, grid=True)\n",
    "likeLab.hist(alpha=.5, label=likeLab_label, bins=bins, grid=True)\n",
    "plt.legend()\n",
    "\n",
    "plt.xticks(range(0,len(xlabels)), xlabels, rotation =90);\n",
    "plt.title(\"Wave \"+str(wave_no)+\" : \"+wave_description.loc[wave_no].values[0]);"
   ]
  },
  {
   "cell_type": "code",
   "execution_count": 142,
   "metadata": {},
   "outputs": [
    {
     "data": {
      "image/png": "[encoded data removed]",
      "text/plain": [
       "<Figure size 432x288 with 1 Axes>"
      ]
     },
     "metadata": {},
     "output_type": "display_data"
    }
   ],
   "source": [
    "wave_no = 1\n",
    "DKs_transformed = False\n",
    "\n",
    "Con_name = Conservative_leader[wave_no]\n",
    "Con_var = \"like\"+Con_name+\"W\"+str(wave_no)\n",
    "Lab_name = Labour_leader[wave_no]\n",
    "Lab_var = \"like\"+Lab_name+\"W\"+str(wave_no)\n",
    "LD_name = LD_leader[wave_no]\n",
    "LD_var = \"like\"+LD_name+\"W\"+str(wave_no)\n",
    "\n",
    "likeLD = BES_Panel[LD_var].cat.codes.replace(-1,np.nan)\n",
    "if DKs_transformed:\n",
    "    likeLD = likeLD.replace(11,5)\n",
    "\n",
    "likeLD_label = LD_name+' (N='+str(likeLD.notnull().sum())+')'\n",
    "\n",
    "xlabels = BES_Panel[Con_var].cat.categories[0:len(likeLD.value_counts())]\n",
    "bins = np.arange(len(xlabels)+1)-.5\n",
    "\n",
    "likeLD.hist(alpha=.5, label=likeLD_label, bins=bins, grid=True)\n",
    "plt.legend()\n",
    "\n",
    "plt.xticks(range(0,len(xlabels)), xlabels, rotation =90);\n",
    "plt.title(\"Wave \"+str(wave_no)+\" : \"+wave_description.loc[wave_no].values[0]);"
   ]
  },
  {
   "cell_type": "code",
   "execution_count": 163,
   "metadata": {},
   "outputs": [
    {
     "data": {
      "image/png": "[encoded data removed]",
      "text/plain": [
       "<Figure size 432x288 with 1 Axes>"
      ]
     },
     "metadata": {},
     "output_type": "display_data"
    }
   ],
   "source": [
    "wave_no = 13\n",
    "DKs_transformed = True\n",
    "\n",
    "Con_name = Conservative_leader[wave_no]\n",
    "Con_var = \"like\"+Con_name+\"W\"+str(wave_no)\n",
    "Lab_name = Labour_leader[wave_no]\n",
    "Lab_var = \"like\"+Lab_name+\"W\"+str(wave_no)\n",
    "\n",
    "likeCon = BES_Panel[Con_var].cat.codes.replace(-1,np.nan)\n",
    "likeLab = BES_Panel[Lab_var].cat.codes.replace(-1,np.nan)\n",
    "if DKs_transformed:\n",
    "    likeCon = likeCon.replace(11,5)\n",
    "    likeLab = likeLab.replace(11,5)\n",
    "\n",
    "likeCon_label = Con_name+' (N='+str(likeCon.notnull().sum())+')'\n",
    "likeLab_label = Lab_name+' (N='+str(likeLab.notnull().sum())+')'\n",
    "\n",
    "bins = np.arange(-10,12)-.5\n",
    "\n",
    "(likeCon-likeLab).hist(bins=bins);"
   ]
  },
  {
   "cell_type": "code",
   "execution_count": 193,
   "metadata": {},
   "outputs": [
    {
     "data": {
      "image/png": "[encoded data removed]",
      "text/plain": [
       "<Figure size 432x288 with 1 Axes>"
      ]
     },
     "metadata": {},
     "output_type": "display_data"
    }
   ],
   "source": [
    "wave_no = 13\n",
    "DKs_transformed = True\n",
    "Leaders = True\n",
    "\n",
    "if Leaders:\n",
    "    Con_name = Conservative_leader[wave_no]\n",
    "    Con_var = \"like\"+Con_name+\"W\"+str(wave_no)\n",
    "    Lab_name = Labour_leader[wave_no]\n",
    "    Lab_var = \"like\"+Lab_name+\"W\"+str(wave_no)    \n",
    "    LD_name = LD_leader[wave_no]\n",
    "    LD_var = \"like\"+LD_name+\"W\"+str(wave_no)    \n",
    "else:\n",
    "    Con_name = \"Con\"\n",
    "    Con_var = \"like\"+Con_name+\"W\"+str(wave_no)\n",
    "    Lab_name = \"Lab\"\n",
    "    Lab_var = \"like\"+Lab_name+\"W\"+str(wave_no)\n",
    "    LD_name = \"LD\"\n",
    "    LD_var = \"like\"+LD_name+\"W\"+str(wave_no)\n",
    "\n",
    "likeLD = BES_Panel[LD_var].cat.codes.replace(-1,np.nan)\n",
    "likeCon = BES_Panel[Con_var].cat.codes.replace(-1,np.nan)\n",
    "likeLab = BES_Panel[Lab_var].cat.codes.replace(-1,np.nan)\n",
    "if DKs_transformed:\n",
    "    likeCon = likeCon.replace(11,5)\n",
    "    likeLab = likeLab.replace(11,5)\n",
    "    likeLD = likeLD.replace(11,5)\n",
    "\n",
    "likeCon_label = Con_name+' (N='+str(likeCon.notnull().sum())+')'\n",
    "likeLab_label = Lab_name+' (N='+str(likeLab.notnull().sum())+')'\n",
    "\n",
    "bins = np.arange(-10,12)-.5\n",
    "\n",
    "# (likeCon-likeLab)[likeLD<5].hist(bins=bins,label=\"Don't like LD\",alpha=.5);\n",
    "# (likeCon-likeLab)[likeLD>5].hist(bins=bins,label=\"Like LD\",alpha=.5);\n",
    "# (likeCon-likeLab)[likeLD==5].hist(bins=bins,label=\"Meh LD\",alpha=.5);\n",
    "\n",
    "LD2010 = BES_Panel['profile_past_vote_2010']=='Liberal Democrats'\n",
    "# (likeCon-likeLab)[LD2010].hist(bins=bins,label=\"LD2010\",alpha=.5);\n",
    "# (likeCon-likeLab)[~LD2010].hist(bins=bins,label=\"Not LD2010\",alpha=.5);\n",
    "\n",
    "bins = np.arange(0,22)-.5\n",
    "(likeCon+likeLab)[LD2010].hist(bins=bins,label=\"LD2010\",alpha=.5);\n",
    "(likeCon+likeLab)[~LD2010].hist(bins=bins,label=\"Not LD2010\",alpha=.5);\n",
    "\n",
    "plt.legend();"
   ]
  },
  {
   "cell_type": "code",
   "execution_count": 178,
   "metadata": {},
   "outputs": [
    {
     "data": {
      "text/plain": [
       "5.0     7356\n",
       "0.0     5287\n",
       "4.0     3091\n",
       "6.0     3035\n",
       "3.0     2895\n",
       "2.0     2630\n",
       "7.0     2414\n",
       "1.0     2174\n",
       "8.0     1425\n",
       "9.0      503\n",
       "10.0     387\n",
       "dtype: int64"
      ]
     },
     "execution_count": 178,
     "metadata": {},
     "output_type": "execute_result"
    }
   ],
   "source": [
    "likeLD.value_counts()"
   ]
  },
  {
   "cell_type": "code",
   "execution_count": 10,
   "metadata": {},
   "outputs": [
    {
     "data": {
      "text/plain": [
       "['likeLabW1',\n",
       " 'likeLabW2',\n",
       " 'likeLabW3',\n",
       " 'likeLabW4',\n",
       " 'likeLabW5',\n",
       " 'likeLabW6',\n",
       " 'likeCorbynW7',\n",
       " 'likeLabW7',\n",
       " 'likeCorbynW8',\n",
       " 'likeLabW8',\n",
       " 'likeCorbynW9',\n",
       " 'likeLabW9',\n",
       " 'likeCorbynW10',\n",
       " 'likeLabW10',\n",
       " 'likeCorbynW11',\n",
       " 'likeLabW11',\n",
       " 'likeCorbynW12',\n",
       " 'likeLabW12',\n",
       " 'likeCorbynW13',\n",
       " 'likeLabW13',\n",
       " 'profile_eurefvote']"
      ]
     },
     "execution_count": 10,
     "metadata": {},
     "output_type": "execute_result"
    }
   ],
   "source": [
    "[x for x in BES_Panel.columns if re.match(\"likeCorbyn|likeLab|profile_eurefvote\",x)]"
   ]
  },
  {
   "cell_type": "code",
   "execution_count": 29,
   "metadata": {},
   "outputs": [
    {
     "data": {
      "text/plain": [
       "['likeCorbynW13__Strongly like',\n",
       " 'likeLabW13__Strongly like',\n",
       " 'ptvConW13__Very likely',\n",
       " 'ptvLabW13__Very likely',\n",
       " 'ptvLDW13__Very likely',\n",
       " 'ptvUKIPW13__Very likely',\n",
       " 'ptvGrnW13__Very likely',\n",
       " 'generalElectionVoteW13_Labour',\n",
       " 'generalElectionVoteW13_Liberal Democrat',\n",
       " 'generalElectionVoteW13_Scottish National Party (SNP)',\n",
       " 'generalElectionVoteW13_United Kingdom Independence Party (UKIP)',\n",
       " 'generalElectionVoteW13_Green Party',\n",
       " 'generalElectionVoteW13_Plaid Cymru',\n",
       " 'euRefVoteW4_Leave the EU',\n",
       " 'euRefVoteW8_Leave the EU',\n",
       " 'euRefVoteW6_Leave the EU',\n",
       " 'euRefVoteW7_Leave the EU',\n",
       " 'euRefVoteW12_Leave the EU',\n",
       " 'profile_eurefvote_Leave the EU',\n",
       " 'euRefVoteW1_Leave the EU',\n",
       " 'euRefVoteW10_Leave the EU',\n",
       " 'euRefVoteW3_Leave the EU']"
      ]
     },
     "execution_count": 29,
     "metadata": {},
     "output_type": "execute_result"
    }
   ],
   "source": [
    "[x for x in BES_reduced.columns if re.match(\"likeCorbynW13|likeLabW13|profile_eurefvote|generalElectionVoteW13|euRefVote|ptv\\w*W13\",x)]"
   ]
  },
  {
   "cell_type": "code",
   "execution_count": null,
   "metadata": {
    "collapsed": true
   },
   "outputs": [],
   "source": [
    "############### Would supporting Remain hurt Corbyn?\n",
    "\n",
    "### impact estimation - look at how much Labour Leavers like Corbyn now\n",
    "\n",
    "# could also look at ptv\n",
    "\n",
    "# metric for \"give a shit about Brexit\" *other than* past vote?\n",
    "\n"
   ]
  },
  {
   "cell_type": "code",
   "execution_count": null,
   "metadata": {},
   "outputs": [],
   "source": []
  },
  {
   "cell_type": "code",
   "execution_count": 10,
   "metadata": {},
   "outputs": [
    {
     "name": "stderr",
     "output_type": "stream",
     "text": [
      "C:\\ProgramData\\Anaconda3\\envs\\BES_analysis\\lib\\site-packages\\scipy\\stats\\stats.py:1713: FutureWarning: Using a non-tuple sequence for multidimensional indexing is deprecated; use `arr[tuple(seq)]` instead of `arr[seq]`. In the future this will be interpreted as an array index, `arr[np.array(seq)]`, which will result either in an error or a different result.\n",
      "  return np.add.reduce(sorted[indexer] * weights, axis=axis) / sumval\n"
     ]
    },
    {
     "data": {
      "image/png": "[encoded data removed]",
      "text/plain": [
       "<Figure size 864x576 with 1 Axes>"
      ]
     },
     "metadata": {},
     "output_type": "display_data"
    }
   ],
   "source": [
    "plt.figure(figsize=(12,8))\n",
    "g = sns.violinplot(x='profile_eurefvote_Leave the EU',\n",
    "                y='likeCorbynW13__Strongly like',\n",
    "                hue='generalElectionVoteW13_Labour', data=BES_reduced_with_na, cut=0, bw=.25)"
   ]
  },
  {
   "cell_type": "code",
   "execution_count": 11,
   "metadata": {},
   "outputs": [],
   "source": [
    "Labour = BES_reduced_with_na['generalElectionVoteW13_Labour']==1.0\n",
    "Leave = BES_reduced_with_na['profile_eurefvote_Leave the EU']==1.0\n",
    "Remain = BES_reduced_with_na['profile_eurefvote_Leave the EU']==0.0\n",
    "# sum(Leave & Labour) = 3123"
   ]
  },
  {
   "cell_type": "code",
   "execution_count": 18,
   "metadata": {},
   "outputs": [],
   "source": [
    "Leave2017 = BES_Panel[\"euRefVoteW13\"] == \"Leave the EU\"\n"
   ]
  },
  {
   "cell_type": "code",
   "execution_count": 31,
   "metadata": {},
   "outputs": [
    {
     "data": {
      "image/png": "[encoded data removed]",
      "text/plain": [
       "<Figure size 432x288 with 1 Axes>"
      ]
     },
     "metadata": {},
     "output_type": "display_data"
    }
   ],
   "source": [
    "sns.countplot(BES_Panel[\"euRefVoteW13\"][Labour])\n",
    "plt.xticks(rotation=90);"
   ]
  },
  {
   "cell_type": "code",
   "execution_count": 69,
   "metadata": {},
   "outputs": [
    {
     "data": {
      "text/plain": [
       "Stay/remain in the EU    0.701257\n",
       "Leave the EU             0.248188\n",
       "Don't know               0.041013\n",
       "I would/will not vote    0.009542\n",
       "Name: euRefVoteW13, dtype: float64"
      ]
     },
     "execution_count": 69,
     "metadata": {},
     "output_type": "execute_result"
    }
   ],
   "source": [
    "BES_Panel[\"euRefVoteW13\"][Labour].value_counts()/len(BES_Panel[\"euRefVoteW13\"][Labour])"
   ]
  },
  {
   "cell_type": "code",
   "execution_count": 34,
   "metadata": {},
   "outputs": [
    {
     "data": {
      "text/html": [
       "<div>\n",
       "<style scoped>\n",
       "    .dataframe tbody tr th:only-of-type {\n",
       "        vertical-align: middle;\n",
       "    }\n",
       "\n",
       "    .dataframe tbody tr th {\n",
       "        vertical-align: top;\n",
       "    }\n",
       "\n",
       "    .dataframe thead th {\n",
       "        text-align: right;\n",
       "    }\n",
       "</style>\n",
       "<table border=\"1\" class=\"dataframe\">\n",
       "  <thead>\n",
       "    <tr style=\"text-align: right;\">\n",
       "      <th></th>\n",
       "      <th>Labour2017&amp;Leave2017</th>\n",
       "      <th>Labour2017&amp;NotLeave2017</th>\n",
       "      <th>NotLabour2017&amp;NotLeave2017</th>\n",
       "      <th>NotLabour2017&amp;Leave2017</th>\n",
       "    </tr>\n",
       "  </thead>\n",
       "  <tbody>\n",
       "    <tr>\n",
       "      <th>ptvLabW13__Very likely</th>\n",
       "      <td>8.443659</td>\n",
       "      <td>9.102867</td>\n",
       "      <td>4.124807</td>\n",
       "      <td>2.015077</td>\n",
       "    </tr>\n",
       "    <tr>\n",
       "      <th>ptvGrnW13__Very likely</th>\n",
       "      <td>2.835341</td>\n",
       "      <td>4.807297</td>\n",
       "      <td>3.540851</td>\n",
       "      <td>1.503607</td>\n",
       "    </tr>\n",
       "    <tr>\n",
       "      <th>ptvUKIPW13__Very likely</th>\n",
       "      <td>2.645326</td>\n",
       "      <td>0.290661</td>\n",
       "      <td>0.697688</td>\n",
       "      <td>4.384674</td>\n",
       "    </tr>\n",
       "    <tr>\n",
       "      <th>ptvLDW13__Very likely</th>\n",
       "      <td>2.440239</td>\n",
       "      <td>4.381155</td>\n",
       "      <td>4.672886</td>\n",
       "      <td>1.764911</td>\n",
       "    </tr>\n",
       "    <tr>\n",
       "      <th>ptvConW13__Very likely</th>\n",
       "      <td>1.772297</td>\n",
       "      <td>1.097719</td>\n",
       "      <td>4.476557</td>\n",
       "      <td>7.502269</td>\n",
       "    </tr>\n",
       "  </tbody>\n",
       "</table>\n",
       "</div>"
      ],
      "text/plain": [
       "                         Labour2017&Leave2017  Labour2017&NotLeave2017  \\\n",
       "ptvLabW13__Very likely               8.443659                 9.102867   \n",
       "ptvGrnW13__Very likely               2.835341                 4.807297   \n",
       "ptvUKIPW13__Very likely              2.645326                 0.290661   \n",
       "ptvLDW13__Very likely                2.440239                 4.381155   \n",
       "ptvConW13__Very likely               1.772297                 1.097719   \n",
       "\n",
       "                         NotLabour2017&NotLeave2017  NotLabour2017&Leave2017  \n",
       "ptvLabW13__Very likely                     4.124807                 2.015077  \n",
       "ptvGrnW13__Very likely                     3.540851                 1.503607  \n",
       "ptvUKIPW13__Very likely                    0.697688                 4.384674  \n",
       "ptvLDW13__Very likely                      4.672886                 1.764911  \n",
       "ptvConW13__Very likely                     4.476557                 7.502269  "
      ]
     },
     "execution_count": 34,
     "metadata": {},
     "output_type": "execute_result"
    }
   ],
   "source": [
    "res_df = pd.DataFrame()\n",
    "\n",
    "ptvs = [x for x in BES_reduced.columns if re.match(\"ptv\\w*W13\",x)]\n",
    "res_df[\"Labour2017&Leave2017\"] = BES_reduced_with_na[ptvs][Labour&Leave2017].mean().sort_values(ascending=False)\n",
    "\n",
    "res_df[\"Labour2017&NotLeave2017\"] = BES_reduced_with_na[ptvs][Labour&~Leave2017].mean().sort_values(ascending=False)\n",
    "\n",
    "res_df[\"NotLabour2017&NotLeave2017\"] = BES_reduced_with_na[ptvs][~Labour&~Leave2017].mean().sort_values(ascending=False)\n",
    "\n",
    "res_df[\"NotLabour2017&Leave2017\"] =  BES_reduced_with_na[ptvs][~Labour&Leave2017].mean().sort_values(ascending=False)\n",
    "res_df"
   ]
  },
  {
   "cell_type": "code",
   "execution_count": 56,
   "metadata": {},
   "outputs": [
    {
     "name": "stderr",
     "output_type": "stream",
     "text": [
      "C:\\ProgramData\\Anaconda3\\envs\\BES_analysis\\lib\\site-packages\\scipy\\stats\\stats.py:1713: FutureWarning: Using a non-tuple sequence for multidimensional indexing is deprecated; use `arr[tuple(seq)]` instead of `arr[seq]`. In the future this will be interpreted as an array index, `arr[np.array(seq)]`, which will result either in an error or a different result.\n",
      "  return np.add.reduce(sorted[indexer] * weights, axis=axis) / sumval\n"
     ]
    },
    {
     "data": {
      "image/png": "[encoded data removed]",
      "text/plain": [
       "<Figure size 432x288 with 1 Axes>"
      ]
     },
     "metadata": {},
     "output_type": "display_data"
    }
   ],
   "source": [
    "sns.violinplot(data = BES_reduced_with_na[ptvs][Labour&Leave2017].stack().reset_index().drop(\"level_0\",axis=1),y=0,x=\"level_1\", cut=0);\n",
    "plt.xticks(rotation=90);"
   ]
  },
  {
   "cell_type": "code",
   "execution_count": 87,
   "metadata": {},
   "outputs": [
    {
     "name": "stderr",
     "output_type": "stream",
     "text": [
      "C:\\ProgramData\\Anaconda3\\envs\\BES_analysis\\lib\\site-packages\\scipy\\stats\\stats.py:1713: FutureWarning: Using a non-tuple sequence for multidimensional indexing is deprecated; use `arr[tuple(seq)]` instead of `arr[seq]`. In the future this will be interpreted as an array index, `arr[np.array(seq)]`, which will result either in an error or a different result.\n",
      "  return np.add.reduce(sorted[indexer] * weights, axis=axis) / sumval\n"
     ]
    },
    {
     "data": {
      "image/png": "[encoded data removed]",
      "text/plain": [
       "<Figure size 864x576 with 1 Axes>"
      ]
     },
     "metadata": {},
     "output_type": "display_data"
    }
   ],
   "source": [
    "plt.figure(figsize=(12,8))\n",
    "relative_to_lab_ptv = BES_reduced_with_na[ptvs][Labour&Leave2017].subtract( BES_reduced_with_na[\"ptvLabW13__Very likely\"][Labour&Leave2017], axis=0 ).drop(\"ptvLabW13__Very likely\",axis=1)\n",
    "sns.violinplot(data = relative_to_lab_ptv.stack().reset_index().drop(\"level_0\",axis=1),y=0,x=\"level_1\", cut=0);\n",
    "plt.xticks(rotation=90);\n",
    "plt.ylabel(\"relative to (self-assigned) Probability to vote Labour\");"
   ]
  },
  {
   "cell_type": "code",
   "execution_count": 66,
   "metadata": {},
   "outputs": [
    {
     "data": {
      "text/plain": [
       "ptvConW13__Very likely    -6.680792\n",
       "ptvLDW13__Very likely     -5.998798\n",
       "ptvUKIPW13__Very likely   -5.796016\n",
       "ptvGrnW13__Very likely    -5.582757\n",
       "dtype: float64"
      ]
     },
     "execution_count": 66,
     "metadata": {},
     "output_type": "execute_result"
    }
   ],
   "source": [
    "relative_to_lab_ptv.mean()"
   ]
  },
  {
   "cell_type": "code",
   "execution_count": 80,
   "metadata": {},
   "outputs": [
    {
     "data": {
      "text/plain": [
       "ptvConW13__Very likely     0.028466\n",
       "ptvLDW13__Very likely      0.019963\n",
       "ptvUKIPW13__Very likely    0.060259\n",
       "ptvGrnW13__Very likely     0.030684\n",
       "dtype: float64"
      ]
     },
     "execution_count": 80,
     "metadata": {},
     "output_type": "execute_result"
    }
   ],
   "source": [
    "(relative_to_lab_ptv>0).mean()"
   ]
  },
  {
   "cell_type": "code",
   "execution_count": 86,
   "metadata": {},
   "outputs": [
    {
     "data": {
      "text/plain": [
       "ptvConW13__Very likely     0.096118\n",
       "ptvLDW13__Very likely      0.070610\n",
       "ptvUKIPW13__Very likely    0.080961\n",
       "ptvGrnW13__Very likely     0.063216\n",
       "dtype: float64"
      ]
     },
     "execution_count": 86,
     "metadata": {},
     "output_type": "execute_result"
    }
   ],
   "source": [
    "(relative_to_lab_ptv==0).mean()"
   ]
  },
  {
   "cell_type": "code",
   "execution_count": 100,
   "metadata": {},
   "outputs": [],
   "source": [
    "Leave_opts= relative_to_lab_ptv[[\"ptvConW13__Very likely\",\"ptvUKIPW13__Very likely\"]].max(axis=1)\n",
    "Remain_opts= relative_to_lab_ptv[[\"ptvGrnW13__Very likely\",\"ptvLDW13__Very likely\"]].max(axis=1)\n"
   ]
  },
  {
   "cell_type": "code",
   "execution_count": 109,
   "metadata": {},
   "outputs": [
    {
     "data": {
      "text/plain": [
       "0.07467652495378928"
      ]
     },
     "execution_count": 109,
     "metadata": {},
     "output_type": "execute_result"
    }
   ],
   "source": [
    "((Leave_opts>0) & (Leave_opts>=Remain_opts)).mean()\n",
    "# 12.5% - indifferent\n",
    "# 7.5% - prefer"
   ]
  },
  {
   "cell_type": "code",
   "execution_count": 111,
   "metadata": {},
   "outputs": [
    {
     "data": {
      "text/plain": [
       "0.0354898336414048"
      ]
     },
     "execution_count": 111,
     "metadata": {},
     "output_type": "execute_result"
    }
   ],
   "source": [
    "((Remain_opts>0) & (Leave_opts<=Remain_opts)).mean()\n",
    "# 8.5% - indifferent\n",
    "# 3.5% - prefer"
   ]
  },
  {
   "cell_type": "code",
   "execution_count": null,
   "metadata": {},
   "outputs": [],
   "source": []
  },
  {
   "cell_type": "code",
   "execution_count": null,
   "metadata": {},
   "outputs": [],
   "source": []
  },
  {
   "cell_type": "code",
   "execution_count": 90,
   "metadata": {},
   "outputs": [
    {
     "name": "stderr",
     "output_type": "stream",
     "text": [
      "C:\\ProgramData\\Anaconda3\\envs\\BES_analysis\\lib\\site-packages\\scipy\\stats\\stats.py:1713: FutureWarning: Using a non-tuple sequence for multidimensional indexing is deprecated; use `arr[tuple(seq)]` instead of `arr[seq]`. In the future this will be interpreted as an array index, `arr[np.array(seq)]`, which will result either in an error or a different result.\n",
      "  return np.add.reduce(sorted[indexer] * weights, axis=axis) / sumval\n"
     ]
    },
    {
     "data": {
      "image/png": "[encoded data removed]",
      "text/plain": [
       "<Figure size 864x576 with 1 Axes>"
      ]
     },
     "metadata": {},
     "output_type": "display_data"
    }
   ],
   "source": [
    "plt.figure(figsize=(12,8))\n",
    "relative_to_lab_ptv_not_leave = BES_reduced_with_na[ptvs][Labour&~Leave2017].subtract( BES_reduced_with_na[\"ptvLabW13__Very likely\"][Labour&~Leave2017], axis=0 ).drop(\"ptvLabW13__Very likely\",axis=1)\n",
    "sns.violinplot(data = relative_to_lab_ptv_not_leave.stack().reset_index().drop(\"level_0\",axis=1),y=0,x=\"level_1\", cut=0);\n",
    "plt.xticks(rotation=90);\n",
    "plt.ylabel(\"relative to (self-assigned) Probability to vote Labour\");"
   ]
  },
  {
   "cell_type": "code",
   "execution_count": 91,
   "metadata": {},
   "outputs": [
    {
     "data": {
      "text/plain": [
       "ptvConW13__Very likely    -8.010976\n",
       "ptvLDW13__Very likely     -4.720870\n",
       "ptvUKIPW13__Very likely   -8.818914\n",
       "ptvGrnW13__Very likely    -4.281809\n",
       "dtype: float64"
      ]
     },
     "execution_count": 91,
     "metadata": {},
     "output_type": "execute_result"
    }
   ],
   "source": [
    "relative_to_lab_ptv_not_leave.mean()"
   ]
  },
  {
   "cell_type": "code",
   "execution_count": 92,
   "metadata": {},
   "outputs": [
    {
     "data": {
      "text/plain": [
       "ptvConW13__Very likely     0.012692\n",
       "ptvLDW13__Very likely      0.033927\n",
       "ptvUKIPW13__Very likely    0.005004\n",
       "ptvGrnW13__Very likely     0.042348\n",
       "dtype: float64"
      ]
     },
     "execution_count": 92,
     "metadata": {},
     "output_type": "execute_result"
    }
   ],
   "source": [
    "(relative_to_lab_ptv_not_leave>0).mean()"
   ]
  },
  {
   "cell_type": "code",
   "execution_count": 93,
   "metadata": {},
   "outputs": [
    {
     "data": {
      "text/plain": [
       "ptvConW13__Very likely     0.043935\n",
       "ptvLDW13__Very likely      0.110081\n",
       "ptvUKIPW13__Very likely    0.010984\n",
       "ptvGrnW13__Very likely     0.113254\n",
       "dtype: float64"
      ]
     },
     "execution_count": 93,
     "metadata": {},
     "output_type": "execute_result"
    }
   ],
   "source": [
    "(relative_to_lab_ptv_not_leave==0).mean()"
   ]
  },
  {
   "cell_type": "code",
   "execution_count": 112,
   "metadata": {},
   "outputs": [],
   "source": [
    "Leave_opts= relative_to_lab_ptv_not_leave[[\"ptvConW13__Very likely\",\"ptvUKIPW13__Very likely\"]].max(axis=1)\n",
    "Remain_opts= relative_to_lab_ptv_not_leave[[\"ptvGrnW13__Very likely\",\"ptvLDW13__Very likely\"]].max(axis=1)\n"
   ]
  },
  {
   "cell_type": "code",
   "execution_count": 114,
   "metadata": {},
   "outputs": [
    {
     "data": {
      "text/plain": [
       "0.03880888454967049"
      ]
     },
     "execution_count": 114,
     "metadata": {},
     "output_type": "execute_result"
    }
   ],
   "source": [
    "((Leave_opts==0) & (Leave_opts>=Remain_opts)).mean()\n",
    "# Leave\n",
    "# 3.5% - indifferent\n",
    "# 1.5% - prefer"
   ]
  },
  {
   "cell_type": "code",
   "execution_count": 116,
   "metadata": {},
   "outputs": [
    {
     "data": {
      "text/plain": [
       "0.1708567244325116"
      ]
     },
     "execution_count": 116,
     "metadata": {},
     "output_type": "execute_result"
    }
   ],
   "source": [
    "((Remain_opts==0) & (Leave_opts<=Remain_opts)).mean()\n",
    "# 17% - indifferent\n",
    "# 6% - prefer"
   ]
  },
  {
   "cell_type": "code",
   "execution_count": null,
   "metadata": {},
   "outputs": [],
   "source": []
  },
  {
   "cell_type": "code",
   "execution_count": null,
   "metadata": {},
   "outputs": [],
   "source": []
  },
  {
   "cell_type": "code",
   "execution_count": 12,
   "metadata": {},
   "outputs": [],
   "source": [
    "res_df = pd.DataFrame()\n",
    "\n",
    "ptvs = [x for x in BES_reduced.columns if re.match(\"ptv\\w*W13\",x)]\n",
    "res_df[\"Labour2017&Leave\"] = BES_reduced_with_na[ptvs][Labour&Leave].mean().sort_values(ascending=False)\n",
    "\n",
    "res_df[\"Labour2017&Remain\"] = BES_reduced_with_na[ptvs][Labour&Remain].mean().sort_values(ascending=False)\n",
    "\n",
    "res_df[\"NotLabour2017&Remain\"] = BES_reduced_with_na[ptvs][~Labour&Remain].mean().sort_values(ascending=False)\n",
    "\n",
    "res_df[\"NotLabour2017&Leave\"] =  BES_reduced_with_na[ptvs][~Labour&Leave].mean().sort_values(ascending=False)"
   ]
  },
  {
   "cell_type": "code",
   "execution_count": 13,
   "metadata": {},
   "outputs": [
    {
     "data": {
      "text/html": [
       "<div>\n",
       "<style scoped>\n",
       "    .dataframe tbody tr th:only-of-type {\n",
       "        vertical-align: middle;\n",
       "    }\n",
       "\n",
       "    .dataframe tbody tr th {\n",
       "        vertical-align: top;\n",
       "    }\n",
       "\n",
       "    .dataframe thead th {\n",
       "        text-align: right;\n",
       "    }\n",
       "</style>\n",
       "<table border=\"1\" class=\"dataframe\">\n",
       "  <thead>\n",
       "    <tr style=\"text-align: right;\">\n",
       "      <th></th>\n",
       "      <th>Labour2017&amp;Leave</th>\n",
       "      <th>Labour2017&amp;Remain</th>\n",
       "      <th>NotLabour2017&amp;Remain</th>\n",
       "      <th>NotLabour2017&amp;Leave</th>\n",
       "    </tr>\n",
       "  </thead>\n",
       "  <tbody>\n",
       "    <tr>\n",
       "      <th>ptvLabW13__Very likely</th>\n",
       "      <td>8.506798</td>\n",
       "      <td>9.148406</td>\n",
       "      <td>4.054959</td>\n",
       "      <td>2.074189</td>\n",
       "    </tr>\n",
       "    <tr>\n",
       "      <th>ptvGrnW13__Very likely</th>\n",
       "      <td>3.009709</td>\n",
       "      <td>4.923561</td>\n",
       "      <td>3.584321</td>\n",
       "      <td>1.562328</td>\n",
       "    </tr>\n",
       "    <tr>\n",
       "      <th>ptvLDW13__Very likely</th>\n",
       "      <td>2.607130</td>\n",
       "      <td>4.470727</td>\n",
       "      <td>4.894096</td>\n",
       "      <td>1.829326</td>\n",
       "    </tr>\n",
       "    <tr>\n",
       "      <th>ptvUKIPW13__Very likely</th>\n",
       "      <td>2.406993</td>\n",
       "      <td>0.206494</td>\n",
       "      <td>0.495290</td>\n",
       "      <td>4.393012</td>\n",
       "    </tr>\n",
       "    <tr>\n",
       "      <th>ptvConW13__Very likely</th>\n",
       "      <td>1.756406</td>\n",
       "      <td>1.040430</td>\n",
       "      <td>4.829936</td>\n",
       "      <td>7.401907</td>\n",
       "    </tr>\n",
       "  </tbody>\n",
       "</table>\n",
       "</div>"
      ],
      "text/plain": [
       "                         Labour2017&Leave  Labour2017&Remain  \\\n",
       "ptvLabW13__Very likely           8.506798           9.148406   \n",
       "ptvGrnW13__Very likely           3.009709           4.923561   \n",
       "ptvLDW13__Very likely            2.607130           4.470727   \n",
       "ptvUKIPW13__Very likely          2.406993           0.206494   \n",
       "ptvConW13__Very likely           1.756406           1.040430   \n",
       "\n",
       "                         NotLabour2017&Remain  NotLabour2017&Leave  \n",
       "ptvLabW13__Very likely               4.054959             2.074189  \n",
       "ptvGrnW13__Very likely               3.584321             1.562328  \n",
       "ptvLDW13__Very likely                4.894096             1.829326  \n",
       "ptvUKIPW13__Very likely              0.495290             4.393012  \n",
       "ptvConW13__Very likely               4.829936             7.401907  "
      ]
     },
     "execution_count": 13,
     "metadata": {},
     "output_type": "execute_result"
    }
   ],
   "source": [
    "res_df"
   ]
  },
  {
   "cell_type": "code",
   "execution_count": 73,
   "metadata": {},
   "outputs": [
    {
     "data": {
      "text/plain": [
       "['likeLucasW12__Strongly like']"
      ]
     },
     "execution_count": 73,
     "metadata": {},
     "output_type": "execute_result"
    }
   ],
   "source": [
    "# [x for x in BES_reduced.columns if re.match(\"likeLucas\",x)]"
   ]
  },
  {
   "cell_type": "code",
   "execution_count": 83,
   "metadata": {},
   "outputs": [],
   "source": [
    "likes_df = pd.DataFrame()\n",
    "likes = [x for x in BES_reduced.columns if re.match(\"like\\w*W13\",x)]\n",
    "likes = likes + ['likeFarageW11__Strongly like','likeLucasW12__Strongly like']\n",
    "likes_df[\"Labour2017&Leave2017\"]     = BES_reduced_with_na[likes][Labour&Leave2017].mean().sort_values(ascending=False)\n",
    "\n",
    "likes_df[\"Labour2017&NotLeave2017\"]    = BES_reduced_with_na[likes][Labour&~Leave2017].mean().sort_values(ascending=False)\n",
    "\n",
    "likes_df[\"NotLabour2017&NotLeave2017\"] = BES_reduced_with_na[likes][~Labour&~Leave2017].mean().sort_values(ascending=False)\n",
    "\n",
    "likes_df[\"NotLabour2017&Leave2017\"]  = BES_reduced_with_na[likes][~Labour&Leave2017].mean().sort_values(ascending=False)"
   ]
  },
  {
   "cell_type": "code",
   "execution_count": 84,
   "metadata": {},
   "outputs": [
    {
     "data": {
      "text/html": [
       "<div>\n",
       "<style scoped>\n",
       "    .dataframe tbody tr th:only-of-type {\n",
       "        vertical-align: middle;\n",
       "    }\n",
       "\n",
       "    .dataframe tbody tr th {\n",
       "        vertical-align: top;\n",
       "    }\n",
       "\n",
       "    .dataframe thead th {\n",
       "        text-align: right;\n",
       "    }\n",
       "</style>\n",
       "<table border=\"1\" class=\"dataframe\">\n",
       "  <thead>\n",
       "    <tr style=\"text-align: right;\">\n",
       "      <th></th>\n",
       "      <th>Labour2017&amp;Leave2017</th>\n",
       "      <th>Labour2017&amp;NotLeave2017</th>\n",
       "      <th>NotLabour2017&amp;NotLeave2017</th>\n",
       "      <th>NotLabour2017&amp;Leave2017</th>\n",
       "    </tr>\n",
       "  </thead>\n",
       "  <tbody>\n",
       "    <tr>\n",
       "      <th>likeLabW13__Strongly like</th>\n",
       "      <td>7.531689</td>\n",
       "      <td>8.085106</td>\n",
       "      <td>4.268038</td>\n",
       "      <td>2.182608</td>\n",
       "    </tr>\n",
       "    <tr>\n",
       "      <th>likeCorbynW13__Strongly like</th>\n",
       "      <td>7.074358</td>\n",
       "      <td>7.891073</td>\n",
       "      <td>4.207053</td>\n",
       "      <td>1.803968</td>\n",
       "    </tr>\n",
       "    <tr>\n",
       "      <th>likeGrnW13__Strongly like</th>\n",
       "      <td>4.398502</td>\n",
       "      <td>6.225722</td>\n",
       "      <td>4.906239</td>\n",
       "      <td>2.621249</td>\n",
       "    </tr>\n",
       "    <tr>\n",
       "      <th>likeFarageW11__Strongly like</th>\n",
       "      <td>4.327502</td>\n",
       "      <td>0.912367</td>\n",
       "      <td>2.297018</td>\n",
       "      <td>5.878914</td>\n",
       "    </tr>\n",
       "    <tr>\n",
       "      <th>likeLucasW12__Strongly like</th>\n",
       "      <td>4.197931</td>\n",
       "      <td>6.133750</td>\n",
       "      <td>4.740127</td>\n",
       "      <td>2.524051</td>\n",
       "    </tr>\n",
       "    <tr>\n",
       "      <th>likeLDW13__Strongly like</th>\n",
       "      <td>3.189988</td>\n",
       "      <td>4.825596</td>\n",
       "      <td>4.769607</td>\n",
       "      <td>2.311387</td>\n",
       "    </tr>\n",
       "    <tr>\n",
       "      <th>likeUKIPW13__Strongly like</th>\n",
       "      <td>3.133385</td>\n",
       "      <td>0.496404</td>\n",
       "      <td>1.065369</td>\n",
       "      <td>4.699464</td>\n",
       "    </tr>\n",
       "    <tr>\n",
       "      <th>likeFarronW13__Strongly like</th>\n",
       "      <td>3.068151</td>\n",
       "      <td>4.306237</td>\n",
       "      <td>4.297769</td>\n",
       "      <td>2.198169</td>\n",
       "    </tr>\n",
       "    <tr>\n",
       "      <th>likeSturgeonW13__Strongly like</th>\n",
       "      <td>2.438289</td>\n",
       "      <td>4.642619</td>\n",
       "      <td>3.836281</td>\n",
       "      <td>1.108321</td>\n",
       "    </tr>\n",
       "    <tr>\n",
       "      <th>likeNuttallW13__Strongly like</th>\n",
       "      <td>2.340446</td>\n",
       "      <td>0.740487</td>\n",
       "      <td>1.224649</td>\n",
       "      <td>3.174699</td>\n",
       "    </tr>\n",
       "    <tr>\n",
       "      <th>likeSNPW13__Strongly like</th>\n",
       "      <td>2.270281</td>\n",
       "      <td>3.973056</td>\n",
       "      <td>3.426765</td>\n",
       "      <td>1.089345</td>\n",
       "    </tr>\n",
       "    <tr>\n",
       "      <th>likeMayW13__Strongly like</th>\n",
       "      <td>2.269349</td>\n",
       "      <td>1.436960</td>\n",
       "      <td>3.730003</td>\n",
       "      <td>6.211995</td>\n",
       "    </tr>\n",
       "    <tr>\n",
       "      <th>likeConW13__Strongly like</th>\n",
       "      <td>1.932165</td>\n",
       "      <td>1.369742</td>\n",
       "      <td>4.104128</td>\n",
       "      <td>6.529828</td>\n",
       "    </tr>\n",
       "  </tbody>\n",
       "</table>\n",
       "</div>"
      ],
      "text/plain": [
       "                                Labour2017&Leave2017  Labour2017&NotLeave2017  \\\n",
       "likeLabW13__Strongly like                   7.531689                 8.085106   \n",
       "likeCorbynW13__Strongly like                7.074358                 7.891073   \n",
       "likeGrnW13__Strongly like                   4.398502                 6.225722   \n",
       "likeFarageW11__Strongly like                4.327502                 0.912367   \n",
       "likeLucasW12__Strongly like                 4.197931                 6.133750   \n",
       "likeLDW13__Strongly like                    3.189988                 4.825596   \n",
       "likeUKIPW13__Strongly like                  3.133385                 0.496404   \n",
       "likeFarronW13__Strongly like                3.068151                 4.306237   \n",
       "likeSturgeonW13__Strongly like              2.438289                 4.642619   \n",
       "likeNuttallW13__Strongly like               2.340446                 0.740487   \n",
       "likeSNPW13__Strongly like                   2.270281                 3.973056   \n",
       "likeMayW13__Strongly like                   2.269349                 1.436960   \n",
       "likeConW13__Strongly like                   1.932165                 1.369742   \n",
       "\n",
       "                                NotLabour2017&NotLeave2017  \\\n",
       "likeLabW13__Strongly like                         4.268038   \n",
       "likeCorbynW13__Strongly like                      4.207053   \n",
       "likeGrnW13__Strongly like                         4.906239   \n",
       "likeFarageW11__Strongly like                      2.297018   \n",
       "likeLucasW12__Strongly like                       4.740127   \n",
       "likeLDW13__Strongly like                          4.769607   \n",
       "likeUKIPW13__Strongly like                        1.065369   \n",
       "likeFarronW13__Strongly like                      4.297769   \n",
       "likeSturgeonW13__Strongly like                    3.836281   \n",
       "likeNuttallW13__Strongly like                     1.224649   \n",
       "likeSNPW13__Strongly like                         3.426765   \n",
       "likeMayW13__Strongly like                         3.730003   \n",
       "likeConW13__Strongly like                         4.104128   \n",
       "\n",
       "                                NotLabour2017&Leave2017  \n",
       "likeLabW13__Strongly like                      2.182608  \n",
       "likeCorbynW13__Strongly like                   1.803968  \n",
       "likeGrnW13__Strongly like                      2.621249  \n",
       "likeFarageW11__Strongly like                   5.878914  \n",
       "likeLucasW12__Strongly like                    2.524051  \n",
       "likeLDW13__Strongly like                       2.311387  \n",
       "likeUKIPW13__Strongly like                     4.699464  \n",
       "likeFarronW13__Strongly like                   2.198169  \n",
       "likeSturgeonW13__Strongly like                 1.108321  \n",
       "likeNuttallW13__Strongly like                  3.174699  \n",
       "likeSNPW13__Strongly like                      1.089345  \n",
       "likeMayW13__Strongly like                      6.211995  \n",
       "likeConW13__Strongly like                      6.529828  "
      ]
     },
     "execution_count": 84,
     "metadata": {},
     "output_type": "execute_result"
    }
   ],
   "source": [
    "likes_df"
   ]
  },
  {
   "cell_type": "code",
   "execution_count": null,
   "metadata": {
    "collapsed": true
   },
   "outputs": [],
   "source": []
  }
 ],
 "metadata": {
  "kernelspec": {
   "display_name": "Python 3",
   "language": "python",
   "name": "python3"
  },
  "language_info": {
   "codemirror_mode": {
    "name": "ipython",
    "version": 3
   },
   "file_extension": ".py",
   "mimetype": "text/x-python",
   "name": "python",
   "nbconvert_exporter": "python",
   "pygments_lexer": "ipython3",
   "version": "3.6.6"
  }
 },
 "nbformat": 4,
 "nbformat_minor": 2
}
