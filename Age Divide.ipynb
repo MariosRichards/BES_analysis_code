{
 "cells": [
  {
   "cell_type": "code",
   "execution_count": 1,
   "metadata": {
    "collapsed": true
   },
   "outputs": [],
   "source": [
    "import numpy as np\n",
    "import pandas as pd\n",
    "%matplotlib inline\n",
    "import matplotlib.pyplot as plt\n",
    "import gc\n",
    "import re\n",
    "\n",
    "from sklearn import datasets\n",
    "from sklearn.decomposition import PCA, IncrementalPCA, NMF, TruncatedSVD, FastICA, FactorAnalysis, SparsePCA\n",
    "from sklearn.preprocessing import StandardScaler\n",
    "from sklearn.discriminant_analysis import LinearDiscriminantAnalysis\n",
    "from itertools import cycle\n",
    "from IPython.display import display\n",
    "import pickle, os\n",
    "\n",
    "import seaborn as sns\n",
    "\n",
    "BES_data_folder = \"../BES_analysis_data/\"\n",
    "BES_code_folder = \"../BES_analysis_code/\"\n",
    "\n",
    "# from fancyimpute import BiScaler, KNN, NuclearNormMinimization, SoftImpute, MICE\n",
    "from gaussian_kde import gaussian_kde\n",
    "from utility import display_components,display_pca_data"
   ]
  },
  {
   "cell_type": "code",
   "execution_count": null,
   "metadata": {
    "collapsed": true
   },
   "outputs": [],
   "source": []
  },
  {
   "cell_type": "code",
   "execution_count": 7,
   "metadata": {},
   "outputs": [
    {
     "name": "stdout",
     "output_type": "stream",
     "text": [
      "BES_Panel (30319, 393)\n",
      "BES_numeric (30319, 374)\n",
      "BESnon_numeric (30319, 18)\n",
      "var_type (393, 1)\n",
      "BES_reduced (30319, 422)\n",
      "BES_reduced_with_na (30319, 422)\n",
      "cat_dictionary 368\n",
      "new_old_col_names 447\n"
     ]
    }
   ],
   "source": [
    "wave = \"W10_only\"\n",
    "\n",
    "BES_Panel = pd.read_stata(BES_data_folder+\"BES2015_W10_v0.3.dta\")\n",
    "print(\"BES_Panel\",  BES_Panel.shape )\n",
    "\n",
    "BES_numeric = pd.read_hdf( BES_data_folder+\"BESnumeric\"+wave+\".hdf\", \"BESnumeric\"+wave )\n",
    "print(\"BES_numeric\",  BES_numeric.shape )\n",
    "\n",
    "BESnon_numeric = pd.read_hdf( BES_data_folder+\"BESnon_numeric\"+wave+\".hdf\", \"BESnon_numeric\"+wave )\n",
    "print(\"BESnon_numeric\",  BESnon_numeric.shape )\n",
    "\n",
    "var_type    = pd.read_hdf( BES_data_folder+\"var_type\"+wave+\".hdf\", \"var_type\" )\n",
    "print(\"var_type\",  var_type.shape )\n",
    "\n",
    "BES_reduced = pd.read_hdf( BES_data_folder+\"BES_reduced\"+wave+\".hdf\", \"BES_reduced\"+wave )\n",
    "print(\"BES_reduced\",  BES_reduced.shape )\n",
    "\n",
    "BES_reduced_with_na = pd.read_hdf( BES_data_folder+\"BES_reduced_with_na\"+wave+\".hdf\", \"BES_reduced_with_na\"+wave )\n",
    "print(\"BES_reduced_with_na\",  BES_reduced_with_na.shape )\n",
    "\n",
    "fname = BES_data_folder+\"cat_dictionary\"+wave+\".pkl\"\n",
    "with open(fname, \"rb\") as f:\n",
    "    cat_dictionary = pickle.load( f )\n",
    "    print(\"cat_dictionary\", len(cat_dictionary))\n",
    "    \n",
    "fname = BES_data_folder+\"new_old_col_names\"+wave+\".pkl\"\n",
    "with open(fname, \"rb\") as f:\n",
    "    new_old_col_names = pickle.load( f )\n",
    "    print(\"new_old_col_names\", len(new_old_col_names))\n"
   ]
  },
  {
   "cell_type": "code",
   "execution_count": null,
   "metadata": {
    "collapsed": true
   },
   "outputs": [],
   "source": []
  },
  {
   "cell_type": "code",
   "execution_count": null,
   "metadata": {
    "collapsed": true
   },
   "outputs": [],
   "source": []
  },
  {
   "cell_type": "code",
   "execution_count": null,
   "metadata": {
    "collapsed": true
   },
   "outputs": [],
   "source": []
  },
  {
   "cell_type": "code",
   "execution_count": 5,
   "metadata": {},
   "outputs": [
    {
     "data": {
      "text/plain": [
       "['ageW1',\n",
       " 'likeFarageW1',\n",
       " 'likeFarageW2',\n",
       " 'likeFarageW3',\n",
       " 'likeFarageW4',\n",
       " 'likeFarageW5',\n",
       " 'likeFarageW6',\n",
       " 'likeFarageW7',\n",
       " 'ageW7',\n",
       " 'age_pdlW8',\n",
       " 'likeFarageW8',\n",
       " 'languageSkillsW8',\n",
       " 'languageSkillsWelshW8',\n",
       " 'ageW8',\n",
       " 'ageW9',\n",
       " 'likeFarageW9',\n",
       " 'likeFarageW10',\n",
       " 'integrityFarageW10',\n",
       " 'competentFarageW10',\n",
       " 'gayMarriageW10',\n",
       " 'ageGroup',\n",
       " 'profile_education_age']"
      ]
     },
     "execution_count": 5,
     "metadata": {},
     "output_type": "execute_result"
    }
   ],
   "source": [
    "[x for x in BES_numeric.columns if \"age\" in x]"
   ]
  },
  {
   "cell_type": "code",
   "execution_count": 7,
   "metadata": {},
   "outputs": [
    {
     "data": {
      "text/plain": [
       "0        5.0\n",
       "1        0.0\n",
       "2        NaN\n",
       "3        NaN\n",
       "4        NaN\n",
       "5        NaN\n",
       "6        3.0\n",
       "7        0.0\n",
       "8        0.0\n",
       "9        NaN\n",
       "10       0.0\n",
       "11       NaN\n",
       "12       NaN\n",
       "13       0.0\n",
       "14       0.0\n",
       "15       NaN\n",
       "16       0.0\n",
       "17       3.0\n",
       "18       NaN\n",
       "19       NaN\n",
       "20       NaN\n",
       "21       NaN\n",
       "22       NaN\n",
       "23       NaN\n",
       "24       NaN\n",
       "25       NaN\n",
       "26       NaN\n",
       "27       NaN\n",
       "28       NaN\n",
       "29       1.0\n",
       "        ... \n",
       "64659    NaN\n",
       "64660    NaN\n",
       "64661    NaN\n",
       "64662    NaN\n",
       "64663    NaN\n",
       "64664    NaN\n",
       "64665    NaN\n",
       "64666    NaN\n",
       "64667    NaN\n",
       "64668    NaN\n",
       "64669    NaN\n",
       "64670    NaN\n",
       "64671    NaN\n",
       "64672    NaN\n",
       "64673    NaN\n",
       "64674    NaN\n",
       "64675    NaN\n",
       "64676    NaN\n",
       "64677    NaN\n",
       "64678    NaN\n",
       "64679    NaN\n",
       "64680    NaN\n",
       "64681    NaN\n",
       "64682    NaN\n",
       "64683    NaN\n",
       "64684    NaN\n",
       "64685    NaN\n",
       "64686    NaN\n",
       "64687    NaN\n",
       "64688    NaN\n",
       "Name: generalElectionVoteW10, dtype: float64"
      ]
     },
     "execution_count": 7,
     "metadata": {},
     "output_type": "execute_result"
    }
   ],
   "source": [
    "BES_numeric['generalElectionVoteW10']"
   ]
  },
  {
   "cell_type": "code",
   "execution_count": 6,
   "metadata": {},
   "outputs": [
    {
     "data": {
      "text/plain": [
       "['generalElectionVoteW1',\n",
       " 'generalElectionVoteW2',\n",
       " 'generalElectionVoteW3',\n",
       " 'generalElectionVoteW4',\n",
       " 'generalElectionVoteUnsqueezeW4',\n",
       " 'generalElectionVoteSqueezeW4',\n",
       " 'generalElectionVoteW5',\n",
       " 'generalElectionVotePostW5',\n",
       " 'generalElectionVoteUnsqueezeW5',\n",
       " 'generalElectionVoteSqueezeW5',\n",
       " 'generalElectionVoteW6',\n",
       " 'generalElectionVoteW7',\n",
       " 'generalElectionVoteW8',\n",
       " 'generalElectionVoteW9',\n",
       " 'generalElectionVoteW10',\n",
       " 'generalElectionCertaintyW1',\n",
       " 'generalElectionCertaintyW2',\n",
       " 'generalElectionCertaintyW3',\n",
       " 'generalElectionCertaintyW4',\n",
       " 'generalElectionCertaintyUnsqW5',\n",
       " 'generalElectionCertaintySqW5',\n",
       " 'generalElectionCertaintyW5',\n",
       " 'generalElectionCertaintyW9',\n",
       " 'generalElectionCertaintyW10']"
      ]
     },
     "execution_count": 6,
     "metadata": {},
     "output_type": "execute_result"
    }
   ],
   "source": [
    "[x for x in BES_numeric.columns if \"general\" in x]"
   ]
  },
  {
   "cell_type": "code",
   "execution_count": 4,
   "metadata": {},
   "outputs": [
    {
     "name": "stdout",
     "output_type": "stream",
     "text": [
      "BES_reduced (64689, 2735)\n"
     ]
    }
   ],
   "source": [
    "BES_reduced = pd.read_hdf(BES_data_folder+\"BES_reducedW10.hdf\",\"BES_reducedW10\")\n",
    "print(\"BES_reduced\",  BES_reduced.shape )"
   ]
  },
  {
   "cell_type": "code",
   "execution_count": 9,
   "metadata": {},
   "outputs": [
    {
     "data": {
      "text/plain": [
       "['generalElectionVoteW1_British National Party (BNP)',\n",
       " 'generalElectionVoteW1_Conservative',\n",
       " 'generalElectionVoteW1_Green Party',\n",
       " 'generalElectionVoteW1_Labour',\n",
       " 'generalElectionVoteW1_Liberal Democrat',\n",
       " 'generalElectionVoteW1_Plaid Cymru',\n",
       " 'generalElectionVoteW1_Scottish National Party (SNP)',\n",
       " 'generalElectionVoteW1_United Kingdom Independence Party (UKIP)',\n",
       " 'generalElectionVoteW2_British National Party (BNP)',\n",
       " 'generalElectionVoteW2_Conservative',\n",
       " 'generalElectionVoteW2_Green Party',\n",
       " 'generalElectionVoteW2_Labour',\n",
       " 'generalElectionVoteW2_Liberal Democrat',\n",
       " 'generalElectionVoteW2_Plaid Cymru',\n",
       " 'generalElectionVoteW2_Scottish National Party (SNP)',\n",
       " 'generalElectionVoteW2_United Kingdom Independence Party (UKIP)',\n",
       " 'generalElectionVoteW3_British National Party (BNP)',\n",
       " 'generalElectionVoteW3_Conservative',\n",
       " 'generalElectionVoteW3_Green Party',\n",
       " 'generalElectionVoteW3_Labour',\n",
       " 'generalElectionVoteW3_Liberal Democrat',\n",
       " 'generalElectionVoteW3_Plaid Cymru',\n",
       " 'generalElectionVoteW3_Scottish National Party (SNP)',\n",
       " 'generalElectionVoteW3_United Kingdom Independence Party (UKIP)',\n",
       " 'generalElectionVoteW4_British National Party (BNP)',\n",
       " 'generalElectionVoteW4_Conservative',\n",
       " 'generalElectionVoteW4_Green Party',\n",
       " 'generalElectionVoteW4_Labour',\n",
       " 'generalElectionVoteW4_Liberal Democrat',\n",
       " 'generalElectionVoteW4_Plaid Cymru',\n",
       " 'generalElectionVoteW4_Scottish National Party (SNP)',\n",
       " 'generalElectionVoteW4_United Kingdom Independence Party (UKIP)',\n",
       " 'generalElectionVoteUnsqueezeW4_British National Party (BNP)',\n",
       " 'generalElectionVoteUnsqueezeW4_Conservative',\n",
       " 'generalElectionVoteUnsqueezeW4_Green Party',\n",
       " 'generalElectionVoteUnsqueezeW4_Labour',\n",
       " 'generalElectionVoteUnsqueezeW4_Liberal Democrat',\n",
       " 'generalElectionVoteUnsqueezeW4_Plaid Cymru',\n",
       " 'generalElectionVoteUnsqueezeW4_Scottish National Party (SNP)',\n",
       " 'generalElectionVoteUnsqueezeW4_United Kingdom Independence Party (UKIP)',\n",
       " 'generalElectionVoteW5_British National Party (BNP)',\n",
       " 'generalElectionVoteW5_Conservative',\n",
       " 'generalElectionVoteW5_Green Party',\n",
       " 'generalElectionVoteW5_Labour',\n",
       " 'generalElectionVoteW5_Liberal Democrat',\n",
       " 'generalElectionVoteW5_Plaid Cymru',\n",
       " 'generalElectionVoteW5_Scottish National Party (SNP)',\n",
       " 'generalElectionVoteW5_United Kingdom Independence Party (UKIP)',\n",
       " 'generalElectionVoteUnsqueezeW5_British National Party (BNP)',\n",
       " 'generalElectionVoteUnsqueezeW5_Conservative',\n",
       " 'generalElectionVoteUnsqueezeW5_Green Party',\n",
       " 'generalElectionVoteUnsqueezeW5_Labour',\n",
       " 'generalElectionVoteUnsqueezeW5_Liberal Democrat',\n",
       " 'generalElectionVoteUnsqueezeW5_Plaid Cymru',\n",
       " 'generalElectionVoteUnsqueezeW5_Scottish National Party (SNP)',\n",
       " 'generalElectionVoteUnsqueezeW5_United Kingdom Independence Party (UKIP)',\n",
       " 'generalElectionVoteW6_British National Party (BNP)',\n",
       " 'generalElectionVoteW6_Conservative',\n",
       " 'generalElectionVoteW6_Green Party',\n",
       " 'generalElectionVoteW6_Labour',\n",
       " 'generalElectionVoteW6_Liberal Democrat',\n",
       " 'generalElectionVoteW6_Plaid Cymru',\n",
       " 'generalElectionVoteW6_Scottish National Party (SNP)',\n",
       " 'generalElectionVoteW6_United Kingdom Independence Party (UKIP)',\n",
       " 'generalElectionVoteW7_Conservative',\n",
       " 'generalElectionVoteW7_Green Party',\n",
       " 'generalElectionVoteW7_Labour',\n",
       " 'generalElectionVoteW7_Liberal Democrat',\n",
       " 'generalElectionVoteW7_Plaid Cymru',\n",
       " 'generalElectionVoteW7_Scottish National Party (SNP)',\n",
       " 'generalElectionVoteW7_United Kingdom Independence Party (UKIP)',\n",
       " 'generalElectionVoteW8_Conservative',\n",
       " 'generalElectionVoteW8_Green Party',\n",
       " 'generalElectionVoteW8_Labour',\n",
       " 'generalElectionVoteW8_Liberal Democrat',\n",
       " 'generalElectionVoteW8_Plaid Cymru',\n",
       " 'generalElectionVoteW8_Scottish National Party (SNP)',\n",
       " 'generalElectionVoteW8_United Kingdom Independence Party (UKIP)',\n",
       " 'generalElectionVoteW9_Conservative',\n",
       " 'generalElectionVoteW9_Green Party',\n",
       " 'generalElectionVoteW9_Labour',\n",
       " 'generalElectionVoteW9_Liberal Democrat',\n",
       " 'generalElectionVoteW9_Plaid Cymru',\n",
       " 'generalElectionVoteW9_Scottish National Party (SNP)',\n",
       " 'generalElectionVoteW9_United Kingdom Independence Party (UKIP)',\n",
       " 'generalElectionVoteW10_Conservative',\n",
       " 'generalElectionVoteW10_Green Party',\n",
       " 'generalElectionVoteW10_Labour',\n",
       " 'generalElectionVoteW10_Liberal Democrat',\n",
       " 'generalElectionVoteW10_Plaid Cymru',\n",
       " 'generalElectionVoteW10_Scottish National Party (SNP)',\n",
       " 'generalElectionVoteW10_United Kingdom Independence Party (UKIP)']"
      ]
     },
     "execution_count": 9,
     "metadata": {},
     "output_type": "execute_result"
    }
   ],
   "source": [
    "# [x for x in BES_reduced if \"generalElectionVote\" in x]"
   ]
  },
  {
   "cell_type": "code",
   "execution_count": 5,
   "metadata": {},
   "outputs": [
    {
     "data": {
      "text/plain": [
       "0"
      ]
     },
     "execution_count": 5,
     "metadata": {},
     "output_type": "execute_result"
    }
   ],
   "source": [
    "gc.collect()"
   ]
  },
  {
   "cell_type": "code",
   "execution_count": 6,
   "metadata": {
    "collapsed": true
   },
   "outputs": [],
   "source": [
    "Lab_or_Con = (BES_reduced['generalElectionVoteW10_Conservative']==1.0) | (BES_reduced['generalElectionVoteW10_Labour']==1.0)"
   ]
  },
  {
   "cell_type": "code",
   "execution_count": 7,
   "metadata": {
    "collapsed": true
   },
   "outputs": [],
   "source": [
    "corr_df = BES_reduced[Lab_or_Con].corrwith(BES_reduced[Lab_or_Con]['generalElectionVoteW10_Conservative'])"
   ]
  },
  {
   "cell_type": "code",
   "execution_count": 9,
   "metadata": {},
   "outputs": [
    {
     "data": {
      "text/plain": [
       "generalElectionVoteW10_Labour                                                              -1.000000\n",
       "partyIdW10_Labour                                                                          -0.696483\n",
       "lr1W10__Strongly agree                                                                     -0.538023\n",
       "xprofile_newspaper_readershipW10_Other local daily morning newspaper                       -0.511501\n",
       "xprofile_marital_statW10_Living as married                                                 -0.499829\n",
       "changeEducationLabW10__Getting a lot better                                                -0.462914\n",
       "ptvLabW10__Very likely                                                                     -0.445353\n",
       "xprofile_religionW10_No, I do not regard myself as belonging to any particular religion.   -0.442125\n",
       "renationaliseRailW10__Strongly agree                                                       -0.432665\n",
       "likeGrnW10__Strongly like                                                                  -0.422373\n",
       "likeLabW10__Strongly like                                                                  -0.413459\n",
       "changeNHSLabW10__Getting a lot better                                                      -0.408068\n",
       "xprofile_house_tenureW10_Own â with a mortgage                                           -0.401702\n",
       "ethno6W10__Strongly agree                                                                  -0.394165\n",
       "lr3W10__Strongly agree                                                                     -0.374470\n",
       "generalElectionCertaintyW10__Completely certain                                            -0.373625\n",
       "euLeaveScotIndepW10__Much more likely                                                      -0.368132\n",
       "profile_past_vote_2015_Labour                                                              -0.360886\n",
       "generalElectionVoteW9_Labour                                                               -0.356032\n",
       "leaveImpactBritainW10__A very large impact                                                 -0.353677\n",
       "ethno3W10__Strongly agree                                                                  -0.352914\n",
       "generalElectionVoteW8_Labour                                                               -0.346137\n",
       "likeCorbynW10__Strongly like                                                               -0.343460\n",
       "negotiationSpecifics_2W10_Yes                                                              -0.339530\n",
       "partyIdW9_Labour                                                                           -0.328843\n",
       "lr4W10__Strongly agree                                                                     -0.325266\n",
       "negotiationSpecifics_1W10_Yes                                                              -0.318755\n",
       "negotiationSpecifics_3W10_Yes                                                              -0.316233\n",
       "radicalW10__Strongly agree                                                                 -0.306613\n",
       "generalElectionVoteW7_Labour                                                               -0.305360\n",
       "                                                                                              ...   \n",
       "econGenProspW10__98.0                                                                       0.437081\n",
       "ptvUKIPW10__Very likely                                                                     0.440464\n",
       "partyIdW9_Conservative                                                                      0.445869\n",
       "generalElectionVoteW8_Conservative                                                          0.452461\n",
       "conLookAfterBAW10__Very closely                                                             0.452676\n",
       "likeUKIPW10__Strongly like                                                                  0.457443\n",
       "likeFarageW10__Strongly like                                                                0.460424\n",
       "generalElectionVoteW9_Conservative                                                          0.464822\n",
       "ptvConW9__Very likely                                                                       0.464861\n",
       "satDemUKW10__Very satisfied                                                                 0.474303\n",
       "conLookAfterWCW10__Very closely                                                             0.484058\n",
       "leftRightW10__Right                                                                         0.489130\n",
       "approveUKGovtW10__Strongly approve                                                          0.495866\n",
       "euIDW10_The leave side                                                                      0.496096\n",
       "econGenRetroW10__Got a lot better                                                           0.497898\n",
       "profile_past_vote_2015_Conservative                                                         0.499827\n",
       "euRefVoteW10_Leave the EU                                                                   0.507260\n",
       "changeEconomyW10__Getting a lot better                                                      0.515379\n",
       "handleEUNegotiateW10__Very well                                                             0.548969\n",
       "likeMayW10__Strongly like                                                                   0.568294\n",
       "achieveReduceImmigConW10_Yes                                                                0.571377\n",
       "likeConW10__Strongly like                                                                   0.585465\n",
       "ptvConW10__Very likely                                                                      0.753709\n",
       "partyIdW10_Conservative                                                                     0.807436\n",
       "generalElectionVoteW10_Conservative                                                         1.000000\n",
       "generalElectionVoteW10_Green Party                                                               NaN\n",
       "generalElectionVoteW10_Liberal Democrat                                                          NaN\n",
       "generalElectionVoteW10_Plaid Cymru                                                               NaN\n",
       "generalElectionVoteW10_Scottish National Party (SNP)                                             NaN\n",
       "generalElectionVoteW10_United Kingdom Independence Party (UKIP)                                  NaN\n",
       "dtype: float64"
      ]
     },
     "execution_count": 9,
     "metadata": {},
     "output_type": "execute_result"
    }
   ],
   "source": [
    "corr_df.sort_values()"
   ]
  },
  {
   "cell_type": "code",
   "execution_count": null,
   "metadata": {
    "collapsed": true
   },
   "outputs": [],
   "source": []
  },
  {
   "cell_type": "code",
   "execution_count": null,
   "metadata": {
    "collapsed": true
   },
   "outputs": [],
   "source": []
  },
  {
   "cell_type": "code",
   "execution_count": null,
   "metadata": {
    "collapsed": true
   },
   "outputs": [],
   "source": []
  },
  {
   "cell_type": "code",
   "execution_count": null,
   "metadata": {
    "collapsed": true
   },
   "outputs": [],
   "source": []
  },
  {
   "cell_type": "code",
   "execution_count": null,
   "metadata": {
    "collapsed": true
   },
   "outputs": [],
   "source": []
  },
  {
   "cell_type": "code",
   "execution_count": null,
   "metadata": {
    "collapsed": true
   },
   "outputs": [],
   "source": []
  },
  {
   "cell_type": "code",
   "execution_count": null,
   "metadata": {
    "collapsed": true
   },
   "outputs": [],
   "source": []
  }
 ],
 "metadata": {
  "kernelspec": {
   "display_name": "Python [conda env:BES_analysis]",
   "language": "python",
   "name": "conda-env-BES_analysis-py"
  },
  "language_info": {
   "codemirror_mode": {
    "name": "ipython",
    "version": 3
   },
   "file_extension": ".py",
   "mimetype": "text/x-python",
   "name": "python",
   "nbconvert_exporter": "python",
   "pygments_lexer": "ipython3",
   "version": "3.6.2"
  }
 },
 "nbformat": 4,
 "nbformat_minor": 2
}
