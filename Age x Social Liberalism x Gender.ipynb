{
 "cells": [
  {
   "cell_type": "code",
   "execution_count": 1,
   "metadata": {},
   "outputs": [
    {
     "data": {
      "text/html": [
       "<script>jQuery(function() {if (jQuery(\"body.notebook_app\").length == 0) { jQuery(\".input_area\").toggle(); jQuery(\".prompt\").toggle();}});</script>"
      ]
     },
     "metadata": {},
     "output_type": "display_data"
    },
    {
     "data": {
      "text/html": [
       "<button onclick=\"jQuery('.input_area').toggle(); jQuery('.prompt').toggle();\">Toggle code</button>"
      ]
     },
     "metadata": {},
     "output_type": "display_data"
    },
    {
     "name": "stderr",
     "output_type": "stream",
     "text": [
      "WARNING:param.Dimension: Use method 'get_param_values' via param namespace \n",
      "WARNING:param.Dimension: Use method 'get_param_values' via param namespace \n",
      "WARNING:param.Dimension: Use method 'get_param_values' via param namespace \n",
      "WARNING:param.Dimension: Use method 'get_param_values' via param namespace \n",
      "WARNING:param.Dimension: Use method 'get_param_values' via param namespace \n",
      "WARNING:param.Dimension: Use method 'get_param_values' via param namespace \n",
      "WARNING:param.Dimension: Use method 'get_param_values' via param namespace \n",
      "WARNING:param.Dimension: Use method 'get_param_values' via param namespace \n",
      "WARNING:param.Dimension: Use method 'get_param_values' via param namespace \n",
      "WARNING:param.Dimension: Use method 'get_param_values' via param namespace \n",
      "WARNING:param.Dimension: Use method 'get_param_values' via param namespace \n",
      "WARNING:param.Dimension: Use method 'get_param_values' via param namespace \n",
      "WARNING:param.Dimension: Use method 'get_param_values' via param namespace \n",
      "WARNING:param.Dimension: Use method 'get_param_values' via param namespace \n",
      "WARNING:param.Dimension: Use method 'get_param_values' via param namespace \n",
      "WARNING:param.Dimension: Use method 'get_param_values' via param namespace \n",
      "WARNING:param.Dimension: Use method 'get_param_values' via param namespace \n",
      "WARNING:param.Dimension: Use method 'get_param_values' via param namespace \n",
      "WARNING:param.Dimension: Use method 'get_param_values' via param namespace \n",
      "WARNING:param.Dimension: Use method 'get_param_values' via param namespace \n",
      "WARNING:param.Dimension: Use method 'get_param_values' via param namespace \n",
      "WARNING:param.Dimension: Use method 'get_param_values' via param namespace \n",
      "WARNING:param.Dimension: Use method 'get_param_values' via param namespace \n",
      "WARNING:param.Dimension: Use method 'get_param_values' via param namespace \n",
      "WARNING:param.Dimension: Use method 'get_param_values' via param namespace \n",
      "WARNING:param.Dimension: Use method 'get_param_values' via param namespace \n",
      "WARNING:param.Dimension: Use method 'get_param_values' via param namespace \n",
      "WARNING:param.Dimension: Use method 'get_param_values' via param namespace \n",
      "WARNING:param.Dimension: Use method 'get_param_values' via param namespace \n",
      "WARNING:param.Dimension: Use method 'get_param_values' via param namespace \n",
      "WARNING:param.Dimension: Use method 'get_param_values' via param namespace \n",
      "WARNING:param.Dimension: Use method 'get_param_values' via param namespace \n",
      "WARNING:param.Dimension: Use method 'get_param_values' via param namespace \n",
      "WARNING:param.Dimension: Use method 'get_param_values' via param namespace \n",
      "WARNING:param.Dimension: Use method 'get_param_values' via param namespace \n",
      "WARNING:param.Dimension: Use method 'get_param_values' via param namespace \n",
      "WARNING:param.Dimension: Use method 'get_param_values' via param namespace \n",
      "WARNING:param.Dimension: Use method 'get_param_values' via param namespace \n",
      "WARNING:param.Dimension: Use method 'get_param_values' via param namespace \n",
      "WARNING:param.Dimension: Use method 'get_param_values' via param namespace \n",
      "WARNING:param.Dimension: Use method 'get_param_values' via param namespace \n",
      "WARNING:param.Dimension: Use method 'get_param_values' via param namespace \n",
      "WARNING:param.Dimension: Use method 'get_param_values' via param namespace \n",
      "WARNING:param.Dimension: Use method 'get_param_values' via param namespace \n",
      "WARNING:param.Dimension: Use method 'get_param_values' via param namespace \n",
      "WARNING:param.Dimension: Use method 'get_param_values' via param namespace \n",
      "WARNING:param.Dimension: Use method 'get_param_values' via param namespace \n",
      "WARNING:param.Dimension: Use method 'get_param_values' via param namespace \n",
      "WARNING:param.Dimension: Use method 'get_param_values' via param namespace \n",
      "WARNING:param.Dimension: Use method 'get_param_values' via param namespace \n",
      "WARNING:param.Dimension: Use method 'get_param_values' via param namespace \n",
      "WARNING:param.Dimension: Use method 'get_param_values' via param namespace \n",
      "WARNING:param.Dimension: Use method 'get_param_values' via param namespace \n",
      "WARNING:param.Dimension: Use method 'get_param_values' via param namespace \n",
      "WARNING:param.Dimension: Use method 'get_param_values' via param namespace \n",
      "WARNING:param.Dimension: Use method 'get_param_values' via param namespace \n",
      "WARNING:param.Dimension: Use method 'get_param_values' via param namespace \n",
      "WARNING:param.Dimension: Use method 'get_param_values' via param namespace \n",
      "WARNING:param.Dimension: Use method 'get_param_values' via param namespace \n",
      "WARNING:param.Dimension: Use method 'get_param_values' via param namespace \n",
      "WARNING:param.Dimension: Use method 'get_param_values' via param namespace \n",
      "WARNING:param.Dimension: Use method 'get_param_values' via param namespace \n",
      "WARNING:param.Dimension: Use method 'get_param_values' via param namespace \n",
      "WARNING:param.Dimension: Use method 'get_param_values' via param namespace \n",
      "WARNING:param.Dimension: Use method 'get_param_values' via param namespace \n",
      "WARNING:param.Dimension: Use method 'get_param_values' via param namespace \n",
      "WARNING:param.Dimension: Use method 'get_param_values' via param namespace \n",
      "WARNING:param.Dimension: Use method 'get_param_values' via param namespace \n",
      "WARNING:param.Dimension: Use method 'get_param_values' via param namespace \n",
      "WARNING:param.Dimension: Use method 'get_param_values' via param namespace \n",
      "WARNING:param.Dimension: Use method 'get_param_values' via param namespace \n",
      "WARNING:param.Dimension: Use method 'get_param_values' via param namespace \n",
      "WARNING:param.Dimension: Use method 'get_param_values' via param namespace \n",
      "WARNING:param.Dimension: Use method 'get_param_values' via param namespace \n",
      "WARNING:param.Dimension: Use method 'get_param_values' via param namespace \n",
      "WARNING:param.Dimension: Use method 'get_param_values' via param namespace \n",
      "WARNING:param.Dimension: Use method 'get_param_values' via param namespace \n",
      "WARNING:param.Dimension: Use method 'get_param_values' via param namespace \n",
      "WARNING:param.Dimension: Use method 'get_param_values' via param namespace \n",
      "WARNING:param.Dimension: Use method 'get_param_values' via param namespace \n",
      "WARNING:param.Dimension: Use method 'get_param_values' via param namespace \n",
      "WARNING:param.Dimension: Use method 'get_param_values' via param namespace \n",
      "WARNING:param.Dimension: Use method 'get_param_values' via param namespace \n",
      "WARNING:param.Dimension: Use method 'get_param_values' via param namespace \n",
      "WARNING:param.Dimension: Use method 'get_param_values' via param namespace \n",
      "WARNING:param.Dimension: Use method 'get_param_values' via param namespace \n",
      "WARNING:param.Dimension: Use method 'get_param_values' via param namespace \n",
      "WARNING:param.Dimension: Use method 'get_param_values' via param namespace \n",
      "WARNING:param.Dimension: Use method 'get_param_values' via param namespace \n",
      "WARNING:param.Dimension: Use method 'get_param_values' via param namespace \n",
      "WARNING:param.Dimension: Use method 'get_param_values' via param namespace \n",
      "WARNING:param.Dimension: Use method 'get_param_values' via param namespace \n",
      "WARNING:param.Dimension: Use method 'get_param_values' via param namespace \n",
      "WARNING:param.Dimension: Use method 'get_param_values' via param namespace \n",
      "WARNING:param.Dimension: Use method 'get_param_values' via param namespace \n",
      "WARNING:param.Dimension: Use method 'get_param_values' via param namespace \n",
      "WARNING:param.Dimension: Use method 'get_param_values' via param namespace \n",
      "WARNING:param.Dimension: Use method 'get_param_values' via param namespace \n",
      "WARNING:param.Dimension: Use method 'get_param_values' via param namespace \n",
      "WARNING:param.Dimension: Use method 'get_param_values' via param namespace \n",
      "WARNING:param.Dimension: Use method 'get_param_values' via param namespace \n",
      "WARNING:param.Dimension: Use method 'get_param_values' via param namespace \n",
      "WARNING:param.Dimension: Use method 'get_param_values' via param namespace \n",
      "WARNING:param.Dimension: Use method 'get_param_values' via param namespace \n",
      "WARNING:param.Dimension: Use method 'get_param_values' via param namespace \n",
      "WARNING:param.Dimension: Use method 'get_param_values' via param namespace \n",
      "WARNING:param.Dimension: Use method 'get_param_values' via param namespace \n",
      "WARNING:param.Dimension: Use method 'get_param_values' via param namespace \n"
     ]
    },
    {
     "name": "stderr",
     "output_type": "stream",
     "text": [
      "WARNING:param.Dimension: Use method 'get_param_values' via param namespace \n",
      "WARNING:param.Dimension: Use method 'get_param_values' via param namespace \n",
      "WARNING:param.Dimension: Use method 'get_param_values' via param namespace \n",
      "WARNING:param.Dimension: Use method 'get_param_values' via param namespace \n",
      "WARNING:param.Dimension: Use method 'get_param_values' via param namespace \n",
      "WARNING:param.Dimension: Use method 'get_param_values' via param namespace \n",
      "WARNING:param.Dimension: Use method 'get_param_values' via param namespace \n",
      "WARNING:param.Dimension: Use method 'get_param_values' via param namespace \n",
      "WARNING:param.Dimension: Use method 'get_param_values' via param namespace \n",
      "WARNING:param.Dimension: Use method 'get_param_values' via param namespace \n",
      "WARNING:param.Dimension: Use method 'get_param_values' via param namespace \n",
      "WARNING:param.Dimension: Use method 'get_param_values' via param namespace \n",
      "WARNING:param.Dimension: Use method 'get_param_values' via param namespace \n",
      "WARNING:param.Dimension: Use method 'get_param_values' via param namespace \n",
      "WARNING:param.Dimension: Use method 'get_param_values' via param namespace \n",
      "WARNING:param.Dimension: Use method 'get_param_values' via param namespace \n",
      "WARNING:param.Dimension: Use method 'get_param_values' via param namespace \n",
      "WARNING:param.Dimension: Use method 'get_param_values' via param namespace \n",
      "WARNING:param.Dimension: Use method 'get_param_values' via param namespace \n",
      "WARNING:param.Dimension: Use method 'get_param_values' via param namespace \n",
      "WARNING:param.Dimension: Use method 'get_param_values' via param namespace \n",
      "WARNING:param.Dimension: Use method 'get_param_values' via param namespace \n",
      "WARNING:param.Dimension: Use method 'get_param_values' via param namespace \n"
     ]
    },
    {
     "name": "stdout",
     "output_type": "stream",
     "text": [
      "var_type (8079, 14)\n",
      "Wall time: 17.1 s\n"
     ]
    }
   ],
   "source": [
    "%%time\n",
    "dataset_name = \"W19_comb\"\n",
    "df_list = \"BES_Panel\"\n",
    "\n",
    "%matplotlib inline \n",
    "%run BES_header.py {dataset_name} {df_list}\n",
    "(var_type, cat_dictionary, new_old_col_names, old_new_col_names) = get_small_files(data_subfolder, encoding)    \n",
    "# get full set of inferred \"cross wave\" auth-lib/left-right values and ages\n",
    "pan_dataset_allr_values = pd.read_pickle(BES_small_data_files + \"pan_dataset_allr_valuesW19\"+\".zip\",compression='zip')\n",
    "# pan_dataset_allr_values = pan_dataset_allr_values.loc[BES_Panel.index].sort_index()\n",
    "pan_dataset_ages = pd.read_pickle(BES_small_data_files + \"pan_dataset_ages\"+\".zip\", compression='zip')\n",
    "pan_dataset_votes = pd.read_pickle(BES_small_data_files+\"pan_dataset_votes\"+\".zip\",compression='zip')\n"
   ]
  },
  {
   "cell_type": "code",
   "execution_count": 2,
   "metadata": {},
   "outputs": [
    {
     "data": {
      "text/plain": [
       "genderRolesW10    30237\n",
       "impGenderW14       7801\n",
       "gender            96090\n",
       "dtype: int64"
      ]
     },
     "execution_count": 2,
     "metadata": {},
     "output_type": "execute_result"
    }
   ],
   "source": [
    "search(BES_Panel,\"gender\")"
   ]
  },
  {
   "cell_type": "code",
   "execution_count": 18,
   "metadata": {},
   "outputs": [
    {
     "data": {
      "text/html": [
       "<div>\n",
       "<style scoped>\n",
       "    .dataframe tbody tr th:only-of-type {\n",
       "        vertical-align: middle;\n",
       "    }\n",
       "\n",
       "    .dataframe tbody tr th {\n",
       "        vertical-align: top;\n",
       "    }\n",
       "\n",
       "    .dataframe thead th {\n",
       "        text-align: right;\n",
       "    }\n",
       "</style>\n",
       "<table border=\"1\" class=\"dataframe\">\n",
       "  <thead>\n",
       "    <tr style=\"text-align: right;\">\n",
       "      <th></th>\n",
       "      <th>Economic: Left(0) &lt;-&gt; Right(200){uniform}</th>\n",
       "      <th>Social: Liberalism(0) &lt;-&gt; Conservatism(200){uniform}</th>\n",
       "      <th>Economic: Left &lt;-&gt; Right{gaussian-ish}</th>\n",
       "      <th>Social: Liberalism &lt;-&gt; Conservatism{gaussian-ish}</th>\n",
       "      <th>Economic: Left &lt;-&gt; Right{gaussian-ish}completish</th>\n",
       "      <th>Economic: Left &lt;-&gt; Right{gaussian-ish}complete</th>\n",
       "      <th>Social: Liberalism &lt;-&gt; Conservatism{gaussian-ish}completish</th>\n",
       "      <th>Social: Liberalism &lt;-&gt; Conservatism{gaussian-ish}complete</th>\n",
       "      <th>Economic: Left &lt;-&gt; Right{gaussian-ish}complete_fully</th>\n",
       "      <th>Social: Liberalism &lt;-&gt; Conservatism{gaussian-ish}complete_fully</th>\n",
       "    </tr>\n",
       "    <tr>\n",
       "      <th>id</th>\n",
       "      <th></th>\n",
       "      <th></th>\n",
       "      <th></th>\n",
       "      <th></th>\n",
       "      <th></th>\n",
       "      <th></th>\n",
       "      <th></th>\n",
       "      <th></th>\n",
       "      <th></th>\n",
       "      <th></th>\n",
       "    </tr>\n",
       "  </thead>\n",
       "  <tbody>\n",
       "    <tr>\n",
       "      <th>1</th>\n",
       "      <td>6.0</td>\n",
       "      <td>183.0</td>\n",
       "      <td>-1.913311</td>\n",
       "      <td>1.379564</td>\n",
       "      <td>-1.913311</td>\n",
       "      <td>-1.913311</td>\n",
       "      <td>1.379564</td>\n",
       "      <td>1.379564</td>\n",
       "      <td>-1.913311</td>\n",
       "      <td>1.379564</td>\n",
       "    </tr>\n",
       "    <tr>\n",
       "      <th>2</th>\n",
       "      <td>195.0</td>\n",
       "      <td>54.0</td>\n",
       "      <td>1.929016</td>\n",
       "      <td>-0.648342</td>\n",
       "      <td>1.929016</td>\n",
       "      <td>1.929016</td>\n",
       "      <td>-0.648342</td>\n",
       "      <td>-0.648342</td>\n",
       "      <td>1.929016</td>\n",
       "      <td>-0.648342</td>\n",
       "    </tr>\n",
       "    <tr>\n",
       "      <th>3</th>\n",
       "      <td>74.0</td>\n",
       "      <td>116.0</td>\n",
       "      <td>-0.313073</td>\n",
       "      <td>0.242132</td>\n",
       "      <td>-0.313073</td>\n",
       "      <td>-0.313073</td>\n",
       "      <td>0.242132</td>\n",
       "      <td>0.242132</td>\n",
       "      <td>-0.313073</td>\n",
       "      <td>0.242132</td>\n",
       "    </tr>\n",
       "    <tr>\n",
       "      <th>4</th>\n",
       "      <td>149.0</td>\n",
       "      <td>132.0</td>\n",
       "      <td>0.643054</td>\n",
       "      <td>0.470176</td>\n",
       "      <td>0.643054</td>\n",
       "      <td>0.643054</td>\n",
       "      <td>0.470176</td>\n",
       "      <td>0.470176</td>\n",
       "      <td>0.643054</td>\n",
       "      <td>0.470176</td>\n",
       "    </tr>\n",
       "    <tr>\n",
       "      <th>5</th>\n",
       "      <td>169.0</td>\n",
       "      <td>99.0</td>\n",
       "      <td>1.004469</td>\n",
       "      <td>0.012041</td>\n",
       "      <td>1.004469</td>\n",
       "      <td>1.004469</td>\n",
       "      <td>0.012041</td>\n",
       "      <td>0.012041</td>\n",
       "      <td>1.004469</td>\n",
       "      <td>0.012041</td>\n",
       "    </tr>\n",
       "    <tr>\n",
       "      <th>...</th>\n",
       "      <td>...</td>\n",
       "      <td>...</td>\n",
       "      <td>...</td>\n",
       "      <td>...</td>\n",
       "      <td>...</td>\n",
       "      <td>...</td>\n",
       "      <td>...</td>\n",
       "      <td>...</td>\n",
       "      <td>...</td>\n",
       "      <td>...</td>\n",
       "    </tr>\n",
       "    <tr>\n",
       "      <th>98447</th>\n",
       "      <td>118.0</td>\n",
       "      <td>57.0</td>\n",
       "      <td>0.217387</td>\n",
       "      <td>-0.585382</td>\n",
       "      <td>0.217387</td>\n",
       "      <td>0.217387</td>\n",
       "      <td>-0.585382</td>\n",
       "      <td>-0.585382</td>\n",
       "      <td>0.217387</td>\n",
       "      <td>-0.585382</td>\n",
       "    </tr>\n",
       "    <tr>\n",
       "      <th>98448</th>\n",
       "      <td>159.0</td>\n",
       "      <td>23.0</td>\n",
       "      <td>0.791833</td>\n",
       "      <td>-1.276719</td>\n",
       "      <td>0.791833</td>\n",
       "      <td>0.791833</td>\n",
       "      <td>-1.276719</td>\n",
       "      <td>-1.276719</td>\n",
       "      <td>0.791833</td>\n",
       "      <td>-1.276719</td>\n",
       "    </tr>\n",
       "    <tr>\n",
       "      <th>98449</th>\n",
       "      <td>42.0</td>\n",
       "      <td>49.0</td>\n",
       "      <td>-0.789732</td>\n",
       "      <td>-0.721598</td>\n",
       "      <td>-0.789732</td>\n",
       "      <td>-0.789732</td>\n",
       "      <td>-0.721598</td>\n",
       "      <td>-0.721598</td>\n",
       "      <td>-0.789732</td>\n",
       "      <td>-0.721598</td>\n",
       "    </tr>\n",
       "    <tr>\n",
       "      <th>98450</th>\n",
       "      <td>94.0</td>\n",
       "      <td>149.0</td>\n",
       "      <td>-0.056723</td>\n",
       "      <td>0.706377</td>\n",
       "      <td>-0.056723</td>\n",
       "      <td>-0.056723</td>\n",
       "      <td>0.706377</td>\n",
       "      <td>0.706377</td>\n",
       "      <td>-0.056723</td>\n",
       "      <td>0.706377</td>\n",
       "    </tr>\n",
       "    <tr>\n",
       "      <th>98451</th>\n",
       "      <td>71.0</td>\n",
       "      <td>125.0</td>\n",
       "      <td>-0.351287</td>\n",
       "      <td>0.371110</td>\n",
       "      <td>-0.351287</td>\n",
       "      <td>-0.351287</td>\n",
       "      <td>0.371110</td>\n",
       "      <td>0.371110</td>\n",
       "      <td>-0.351287</td>\n",
       "      <td>0.371110</td>\n",
       "    </tr>\n",
       "  </tbody>\n",
       "</table>\n",
       "<p>97006 rows × 10 columns</p>\n",
       "</div>"
      ],
      "text/plain": [
       "       Economic: Left(0) <-> Right(200){uniform}  \\\n",
       "id                                                 \n",
       "1                                            6.0   \n",
       "2                                          195.0   \n",
       "3                                           74.0   \n",
       "4                                          149.0   \n",
       "5                                          169.0   \n",
       "...                                          ...   \n",
       "98447                                      118.0   \n",
       "98448                                      159.0   \n",
       "98449                                       42.0   \n",
       "98450                                       94.0   \n",
       "98451                                       71.0   \n",
       "\n",
       "       Social: Liberalism(0) <-> Conservatism(200){uniform}  \\\n",
       "id                                                            \n",
       "1                                                  183.0      \n",
       "2                                                   54.0      \n",
       "3                                                  116.0      \n",
       "4                                                  132.0      \n",
       "5                                                   99.0      \n",
       "...                                                  ...      \n",
       "98447                                               57.0      \n",
       "98448                                               23.0      \n",
       "98449                                               49.0      \n",
       "98450                                              149.0      \n",
       "98451                                              125.0      \n",
       "\n",
       "       Economic: Left <-> Right{gaussian-ish}  \\\n",
       "id                                              \n",
       "1                                   -1.913311   \n",
       "2                                    1.929016   \n",
       "3                                   -0.313073   \n",
       "4                                    0.643054   \n",
       "5                                    1.004469   \n",
       "...                                       ...   \n",
       "98447                                0.217387   \n",
       "98448                                0.791833   \n",
       "98449                               -0.789732   \n",
       "98450                               -0.056723   \n",
       "98451                               -0.351287   \n",
       "\n",
       "       Social: Liberalism <-> Conservatism{gaussian-ish}  \\\n",
       "id                                                         \n",
       "1                                               1.379564   \n",
       "2                                              -0.648342   \n",
       "3                                               0.242132   \n",
       "4                                               0.470176   \n",
       "5                                               0.012041   \n",
       "...                                                  ...   \n",
       "98447                                          -0.585382   \n",
       "98448                                          -1.276719   \n",
       "98449                                          -0.721598   \n",
       "98450                                           0.706377   \n",
       "98451                                           0.371110   \n",
       "\n",
       "       Economic: Left <-> Right{gaussian-ish}completish  \\\n",
       "id                                                        \n",
       "1                                             -1.913311   \n",
       "2                                              1.929016   \n",
       "3                                             -0.313073   \n",
       "4                                              0.643054   \n",
       "5                                              1.004469   \n",
       "...                                                 ...   \n",
       "98447                                          0.217387   \n",
       "98448                                          0.791833   \n",
       "98449                                         -0.789732   \n",
       "98450                                         -0.056723   \n",
       "98451                                         -0.351287   \n",
       "\n",
       "       Economic: Left <-> Right{gaussian-ish}complete  \\\n",
       "id                                                      \n",
       "1                                           -1.913311   \n",
       "2                                            1.929016   \n",
       "3                                           -0.313073   \n",
       "4                                            0.643054   \n",
       "5                                            1.004469   \n",
       "...                                               ...   \n",
       "98447                                        0.217387   \n",
       "98448                                        0.791833   \n",
       "98449                                       -0.789732   \n",
       "98450                                       -0.056723   \n",
       "98451                                       -0.351287   \n",
       "\n",
       "       Social: Liberalism <-> Conservatism{gaussian-ish}completish  \\\n",
       "id                                                                   \n",
       "1                                               1.379564             \n",
       "2                                              -0.648342             \n",
       "3                                               0.242132             \n",
       "4                                               0.470176             \n",
       "5                                               0.012041             \n",
       "...                                                  ...             \n",
       "98447                                          -0.585382             \n",
       "98448                                          -1.276719             \n",
       "98449                                          -0.721598             \n",
       "98450                                           0.706377             \n",
       "98451                                           0.371110             \n",
       "\n",
       "       Social: Liberalism <-> Conservatism{gaussian-ish}complete  \\\n",
       "id                                                                 \n",
       "1                                               1.379564           \n",
       "2                                              -0.648342           \n",
       "3                                               0.242132           \n",
       "4                                               0.470176           \n",
       "5                                               0.012041           \n",
       "...                                                  ...           \n",
       "98447                                          -0.585382           \n",
       "98448                                          -1.276719           \n",
       "98449                                          -0.721598           \n",
       "98450                                           0.706377           \n",
       "98451                                           0.371110           \n",
       "\n",
       "       Economic: Left <-> Right{gaussian-ish}complete_fully  \\\n",
       "id                                                            \n",
       "1                                              -1.913311      \n",
       "2                                               1.929016      \n",
       "3                                              -0.313073      \n",
       "4                                               0.643054      \n",
       "5                                               1.004469      \n",
       "...                                                  ...      \n",
       "98447                                           0.217387      \n",
       "98448                                           0.791833      \n",
       "98449                                          -0.789732      \n",
       "98450                                          -0.056723      \n",
       "98451                                          -0.351287      \n",
       "\n",
       "       Social: Liberalism <-> Conservatism{gaussian-ish}complete_fully  \n",
       "id                                                                      \n",
       "1                                               1.379564                \n",
       "2                                              -0.648342                \n",
       "3                                               0.242132                \n",
       "4                                               0.470176                \n",
       "5                                               0.012041                \n",
       "...                                                  ...                \n",
       "98447                                          -0.585382                \n",
       "98448                                          -1.276719                \n",
       "98449                                          -0.721598                \n",
       "98450                                           0.706377                \n",
       "98451                                           0.371110                \n",
       "\n",
       "[97006 rows x 10 columns]"
      ]
     },
     "execution_count": 18,
     "metadata": {},
     "output_type": "execute_result"
    }
   ],
   "source": [
    "pan_dataset_allr_values"
   ]
  },
  {
   "cell_type": "code",
   "execution_count": 9,
   "metadata": {},
   "outputs": [
    {
     "data": {
      "text/plain": [
       "(17.0, 24.0]     6930\n",
       "(24.0, 28.0]     6928\n",
       "(28.0, 33.0]     6929\n",
       "(33.0, 37.0]     6931\n",
       "(37.0, 41.0]     6927\n",
       "(41.0, 46.0]     6929\n",
       "(46.0, 50.0]     6929\n",
       "(50.0, 55.0]     6929\n",
       "(55.0, 59.0]     6929\n",
       "(59.0, 63.0]     6930\n",
       "(63.0, 67.0]     6929\n",
       "(67.0, 71.0]     6928\n",
       "(71.0, 75.0]     6929\n",
       "(75.0, 106.0]    6929\n",
       "Name: equalisedAgeGroup_at_W19_detailed, dtype: int64"
      ]
     },
     "execution_count": 9,
     "metadata": {},
     "output_type": "execute_result"
    }
   ],
   "source": [
    "pan_dataset_ages[\"equalisedAgeGroup_at_W19_detailed\"].value_counts().sort_index()"
   ]
  },
  {
   "cell_type": "code",
   "execution_count": 4,
   "metadata": {},
   "outputs": [
    {
     "data": {
      "text/plain": [
       "id\n",
       "1          Male\n",
       "2        Female\n",
       "3        Female\n",
       "4        Female\n",
       "5        Female\n",
       "          ...  \n",
       "98447    Female\n",
       "98448      Male\n",
       "98449      Male\n",
       "98450    Female\n",
       "98451      Male\n",
       "Name: gender, Length: 97006, dtype: category\n",
       "Categories (2, object): [Male < Female]"
      ]
     },
     "execution_count": 4,
     "metadata": {},
     "output_type": "execute_result"
    }
   ],
   "source": [
    "BES_Panel[\"gender\"]"
   ]
  },
  {
   "cell_type": "code",
   "execution_count": 78,
   "metadata": {},
   "outputs": [],
   "source": [
    "df = pan_dataset_allr_values.copy()\n",
    "df[\"ageGroup\"] = pan_dataset_ages[\"equalisedAgeGroup_at_W19_detailed\"]\n",
    "df[\"gender\"] = BES_Panel[\"gender\"]\n",
    "df[\"wt\"] = BES_Panel[search(BES_Panel,\"wt_(full|new)_W\\d+$\").index].mean(axis=1)"
   ]
  },
  {
   "cell_type": "code",
   "execution_count": 95,
   "metadata": {},
   "outputs": [
    {
     "data": {
      "text/plain": [
       "<matplotlib.axes._subplots.AxesSubplot at 0x53ac53c8>"
      ]
     },
     "execution_count": 95,
     "metadata": {},
     "output_type": "execute_result"
    },
    {
     "data": {
      "image/png": "[encoded data removed]",
      "text/plain": [
       "<Figure size 432x288 with 1 Axes>"
      ]
     },
     "metadata": {},
     "output_type": "display_data"
    }
   ],
   "source": [
    "sns.kdeplot(data = df.dropna(),x=\"Social: Liberalism <-> Conservatism{gaussian-ish}\",hue=\"gender\", multiple='fill', weights=\"wt\")"
   ]
  },
  {
   "cell_type": "code",
   "execution_count": 96,
   "metadata": {},
   "outputs": [
    {
     "data": {
      "image/png": "[encoded data removed]",
      "text/plain": [
       "<Figure size 432x288 with 1 Axes>"
      ]
     },
     "metadata": {},
     "output_type": "display_data"
    }
   ],
   "source": [
    "sns.kdeplot(data = df.dropna(),x=\"Social: Liberalism(0) <-> Conservatism(200){uniform}\",hue=\"gender\",\n",
    "            multiple='fill',cut=0, weights=\"wt\");\n",
    "plt.title(\"All Ages\");"
   ]
  },
  {
   "cell_type": "code",
   "execution_count": 97,
   "metadata": {},
   "outputs": [
    {
     "data": {
      "image/png": "[encoded data removed]",
      "text/plain": [
       "<Figure size 432x288 with 1 Axes>"
      ]
     },
     "metadata": {},
     "output_type": "display_data"
    }
   ],
   "source": [
    "mask = df[\"ageGroup\"] == df[\"ageGroup\"].cat.categories[0]\n",
    "sns.kdeplot(data = df[mask].dropna(),x=\"Social: Liberalism(0) <-> Conservatism(200){uniform}\",hue=\"gender\",\n",
    "            multiple='fill',cut=0, weights=\"wt\")\n",
    "plt.title(\"Age: 17-24\");"
   ]
  },
  {
   "cell_type": "code",
   "execution_count": 98,
   "metadata": {},
   "outputs": [
    {
     "data": {
      "image/png": "[encoded data removed]",
      "text/plain": [
       "<Figure size 432x288 with 1 Axes>"
      ]
     },
     "metadata": {},
     "output_type": "display_data"
    }
   ],
   "source": [
    "mask = df[\"ageGroup\"] == df[\"ageGroup\"].cat.categories[-3]\n",
    "sns.kdeplot(data = df[mask].dropna(),x=\"Social: Liberalism(0) <-> Conservatism(200){uniform}\",hue=\"gender\",\n",
    "            multiple='fill',cut=0, weights=\"wt\")\n",
    "plt.title(\"Age: 67-71\");"
   ]
  },
  {
   "cell_type": "code",
   "execution_count": null,
   "metadata": {},
   "outputs": [],
   "source": [
    "mask = df[\"ageGroup\"] == df[\"ageGroup\"].cat.categories[0]\n",
    "sns.kdeplot(data = df[mask].dropna(),x=\"Social: Liberalism(0) <-> Conservatism(200){uniform}\",hue=\"gender\", multiple='fill')\n",
    "plt.title(\"Age: 17-24\");"
   ]
  },
  {
   "cell_type": "code",
   "execution_count": 81,
   "metadata": {},
   "outputs": [
    {
     "data": {
      "text/plain": [
       "Interval(67.0, 71.0, closed='right')"
      ]
     },
     "execution_count": 81,
     "metadata": {},
     "output_type": "execute_result"
    }
   ],
   "source": [
    "df[\"ageGroup\"].cat.categories[-3]"
   ]
  },
  {
   "cell_type": "code",
   "execution_count": 94,
   "metadata": {},
   "outputs": [],
   "source": []
  },
  {
   "cell_type": "code",
   "execution_count": 62,
   "metadata": {},
   "outputs": [],
   "source": [
    "def usekdeplot(data,x,hue,multiple,color):\n",
    "    sns.kdeplot(data=data,x = x,hue=hue,multiple=multiple,color=color)"
   ]
  },
  {
   "cell_type": "code",
   "execution_count": 51,
   "metadata": {},
   "outputs": [
    {
     "ename": "SyntaxError",
     "evalue": "invalid syntax (<ipython-input-51-86ac23ef04e1>, line 3)",
     "output_type": "error",
     "traceback": [
      "\u001b[1;36m  File \u001b[1;32m\"<ipython-input-51-86ac23ef04e1>\"\u001b[1;36m, line \u001b[1;32m3\u001b[0m\n\u001b[1;33m    g.map(sns.kdeplot, *kwargs = {\"hue\":\"gender\",\"x\":\"Social: Liberalism(0) <-> Conservatism(200){uniform}\",'multiple':'fill'});\u001b[0m\n\u001b[1;37m                               ^\u001b[0m\n\u001b[1;31mSyntaxError\u001b[0m\u001b[1;31m:\u001b[0m invalid syntax\n"
     ]
    }
   ],
   "source": [
    "g = sns.FacetGrid(df.dropna(), col=\"ageGroup\",\n",
    "                  height=1.7, aspect=4,col_wrap=4)\n",
    "g.map(sns.kdeplot, );"
   ]
  },
  {
   "cell_type": "code",
   "execution_count": null,
   "metadata": {},
   "outputs": [],
   "source": [
    "g = sns.FacetGrid(df.dropna(), col=\"ageGroup\",\n",
    "                  height=1.7, aspect=4,col_wrap=4,)\n",
    "g.map(sns.kdeplot, \"Social: Liberalism <-> Conservatism{gaussian-ish}completish\");"
   ]
  },
  {
   "cell_type": "code",
   "execution_count": 65,
   "metadata": {},
   "outputs": [],
   "source": [
    "# g = sns.FacetGrid(df.dropna(), col=\"ageGroup\",\n",
    "#                   height=1.7, aspect=4,col_wrap=4,)\n",
    "# g.map(usekdeplot, data=data,x=\"Social: Liberalism <-> Conservatism{gaussian-ish}completish\",hue=\"gender\",multiple=\"fill\");"
   ]
  },
  {
   "cell_type": "code",
   "execution_count": null,
   "metadata": {},
   "outputs": [],
   "source": []
  }
 ],
 "metadata": {
  "kernelspec": {
   "display_name": "Python [conda env:BES_analysis] *",
   "language": "python",
   "name": "conda-env-BES_analysis-py"
  },
  "language_info": {
   "codemirror_mode": {
    "name": "ipython",
    "version": 3
   },
   "file_extension": ".py",
   "mimetype": "text/x-python",
   "name": "python",
   "nbconvert_exporter": "python",
   "pygments_lexer": "ipython3",
   "version": "3.7.8"
  }
 },
 "nbformat": 4,
 "nbformat_minor": 4
}
