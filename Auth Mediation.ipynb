{
 "cells": [
  {
   "cell_type": "code",
   "execution_count": 1,
   "id": "c4d2d09a",
   "metadata": {},
   "outputs": [
    {
     "data": {
      "text/html": [
       "<script>jQuery(function() {if (jQuery(\"body.notebook_app\").length == 0) { jQuery(\".input_area\").toggle(); jQuery(\".prompt\").toggle();}});</script>"
      ]
     },
     "metadata": {},
     "output_type": "display_data"
    },
    {
     "data": {
      "text/html": [
       "<button onclick=\"jQuery('.input_area').toggle(); jQuery('.prompt').toggle();\">Toggle code</button>"
      ]
     },
     "metadata": {},
     "output_type": "display_data"
    },
    {
     "name": "stderr",
     "output_type": "stream",
     "text": [
      "WARNING:param.Config: Use method 'set_param' via param namespace \n",
      "WARNING:param.Dimension: Use method 'get_param_values' via param namespace \n",
      "WARNING:param.Dimension: Use method 'get_param_values' via param namespace \n",
      "WARNING:param.Dimension: Use method 'get_param_values' via param namespace \n",
      "WARNING:param.Dimension: Use method 'get_param_values' via param namespace \n",
      "WARNING:param.Dimension: Use method 'get_param_values' via param namespace \n",
      "WARNING:param.Dimension: Use method 'get_param_values' via param namespace \n",
      "WARNING:param.Dimension: Use method 'get_param_values' via param namespace \n",
      "WARNING:param.Dimension: Use method 'get_param_values' via param namespace \n",
      "WARNING:param.Dimension: Use method 'get_param_values' via param namespace \n",
      "WARNING:param.Dimension: Use method 'get_param_values' via param namespace \n",
      "WARNING:param.Dimension: Use method 'get_param_values' via param namespace \n",
      "WARNING:param.Dimension: Use method 'get_param_values' via param namespace \n",
      "WARNING:param.Dimension: Use method 'get_param_values' via param namespace \n",
      "WARNING:param.Dimension: Use method 'get_param_values' via param namespace \n",
      "WARNING:param.Dimension: Use method 'get_param_values' via param namespace \n",
      "WARNING:param.Dimension: Use method 'get_param_values' via param namespace \n",
      "WARNING:param.Dimension: Use method 'get_param_values' via param namespace \n",
      "WARNING:param.Dimension: Use method 'get_param_values' via param namespace \n",
      "WARNING:param.Dimension: Use method 'get_param_values' via param namespace \n",
      "WARNING:param.Dimension: Use method 'get_param_values' via param namespace \n",
      "WARNING:param.Dimension: Use method 'get_param_values' via param namespace \n",
      "WARNING:param.Dimension: Use method 'get_param_values' via param namespace \n",
      "WARNING:param.Dimension: Use method 'get_param_values' via param namespace \n",
      "WARNING:param.Dimension: Use method 'get_param_values' via param namespace \n",
      "WARNING:param.Dimension: Use method 'get_param_values' via param namespace \n",
      "WARNING:param.Dimension: Use method 'get_param_values' via param namespace \n",
      "WARNING:param.Dimension: Use method 'get_param_values' via param namespace \n",
      "WARNING:param.Dimension: Use method 'get_param_values' via param namespace \n",
      "WARNING:param.Dimension: Use method 'get_param_values' via param namespace \n",
      "WARNING:param.Dimension: Use method 'get_param_values' via param namespace \n",
      "WARNING:param.Dimension: Use method 'get_param_values' via param namespace \n",
      "WARNING:param.Dimension: Use method 'get_param_values' via param namespace \n",
      "WARNING:param.Dimension: Use method 'get_param_values' via param namespace \n",
      "WARNING:param.Dimension: Use method 'get_param_values' via param namespace \n",
      "WARNING:param.Dimension: Use method 'get_param_values' via param namespace \n",
      "WARNING:param.Dimension: Use method 'get_param_values' via param namespace \n",
      "WARNING:param.Dimension: Use method 'get_param_values' via param namespace \n",
      "WARNING:param.Dimension: Use method 'get_param_values' via param namespace \n",
      "WARNING:param.Dimension: Use method 'get_param_values' via param namespace \n",
      "WARNING:param.Dimension: Use method 'get_param_values' via param namespace \n",
      "WARNING:param.Dimension: Use method 'get_param_values' via param namespace \n",
      "WARNING:param.Dimension: Use method 'get_param_values' via param namespace \n",
      "WARNING:param.Dimension: Use method 'get_param_values' via param namespace \n",
      "WARNING:param.Dimension: Use method 'get_param_values' via param namespace \n",
      "WARNING:param.Dimension: Use method 'get_param_values' via param namespace \n",
      "WARNING:param.Dimension: Use method 'get_param_values' via param namespace \n",
      "WARNING:param.Dimension: Use method 'get_param_values' via param namespace \n",
      "WARNING:param.Dimension: Use method 'get_param_values' via param namespace \n",
      "WARNING:param.Dimension: Use method 'get_param_values' via param namespace \n",
      "WARNING:param.Dimension: Use method 'get_param_values' via param namespace \n",
      "WARNING:param.Dimension: Use method 'get_param_values' via param namespace \n",
      "WARNING:param.Dimension: Use method 'get_param_values' via param namespace \n",
      "WARNING:param.Dimension: Use method 'get_param_values' via param namespace \n",
      "WARNING:param.Dimension: Use method 'get_param_values' via param namespace \n",
      "WARNING:param.Dimension: Use method 'get_param_values' via param namespace \n",
      "WARNING:param.Dimension: Use method 'get_param_values' via param namespace \n",
      "WARNING:param.Dimension: Use method 'get_param_values' via param namespace \n",
      "WARNING:param.Dimension: Use method 'get_param_values' via param namespace \n",
      "WARNING:param.Dimension: Use method 'get_param_values' via param namespace \n",
      "WARNING:param.Dimension: Use method 'get_param_values' via param namespace \n",
      "WARNING:param.Dimension: Use method 'get_param_values' via param namespace \n",
      "WARNING:param.Dimension: Use method 'get_param_values' via param namespace \n",
      "WARNING:param.Dimension: Use method 'get_param_values' via param namespace \n",
      "WARNING:param.Dimension: Use method 'get_param_values' via param namespace \n",
      "WARNING:param.Dimension: Use method 'get_param_values' via param namespace \n",
      "WARNING:param.Dimension: Use method 'get_param_values' via param namespace \n",
      "WARNING:param.Dimension: Use method 'get_param_values' via param namespace \n",
      "WARNING:param.Dimension: Use method 'get_param_values' via param namespace \n",
      "WARNING:param.Dimension: Use method 'get_param_values' via param namespace \n",
      "WARNING:param.Dimension: Use method 'get_param_values' via param namespace \n",
      "WARNING:param.Dimension: Use method 'get_param_values' via param namespace \n",
      "WARNING:param.Dimension: Use method 'get_param_values' via param namespace \n",
      "WARNING:param.Dimension: Use method 'get_param_values' via param namespace \n",
      "WARNING:param.Dimension: Use method 'get_param_values' via param namespace \n",
      "WARNING:param.Dimension: Use method 'get_param_values' via param namespace \n",
      "WARNING:param.Dimension: Use method 'get_param_values' via param namespace \n",
      "WARNING:param.Dimension: Use method 'get_param_values' via param namespace \n",
      "WARNING:param.Dimension: Use method 'get_param_values' via param namespace \n",
      "WARNING:param.Dimension: Use method 'get_param_values' via param namespace \n",
      "WARNING:param.Dimension: Use method 'get_param_values' via param namespace \n",
      "WARNING:param.Dimension: Use method 'get_param_values' via param namespace \n",
      "WARNING:param.Dimension: Use method 'get_param_values' via param namespace \n",
      "WARNING:param.Dimension: Use method 'get_param_values' via param namespace \n",
      "WARNING:param.Dimension: Use method 'get_param_values' via param namespace \n",
      "WARNING:param.Dimension: Use method 'get_param_values' via param namespace \n",
      "WARNING:param.Dimension: Use method 'get_param_values' via param namespace \n",
      "WARNING:param.Dimension: Use method 'get_param_values' via param namespace \n",
      "WARNING:param.Dimension: Use method 'get_param_values' via param namespace \n",
      "WARNING:param.Dimension: Use method 'get_param_values' via param namespace \n",
      "WARNING:param.Dimension: Use method 'get_param_values' via param namespace \n",
      "WARNING:param.Dimension: Use method 'get_param_values' via param namespace \n",
      "WARNING:param.Dimension: Use method 'get_param_values' via param namespace \n",
      "WARNING:param.Dimension: Use method 'get_param_values' via param namespace \n",
      "WARNING:param.Dimension: Use method 'get_param_values' via param namespace \n",
      "WARNING:param.Dimension: Use method 'get_param_values' via param namespace \n",
      "WARNING:param.Dimension: Use method 'get_param_values' via param namespace \n",
      "WARNING:param.Dimension: Use method 'get_param_values' via param namespace \n",
      "WARNING:param.Dimension: Use method 'get_param_values' via param namespace \n",
      "WARNING:param.Dimension: Use method 'get_param_values' via param namespace \n",
      "WARNING:param.Dimension: Use method 'get_param_values' via param namespace \n",
      "WARNING:param.Dimension: Use method 'get_param_values' via param namespace \n",
      "WARNING:param.Dimension: Use method 'get_param_values' via param namespace \n",
      "WARNING:param.Dimension: Use method 'get_param_values' via param namespace \n",
      "WARNING:param.Dimension: Use method 'get_param_values' via param namespace \n",
      "WARNING:param.Dimension: Use method 'get_param_values' via param namespace \n",
      "WARNING:param.Dimension: Use method 'get_param_values' via param namespace \n",
      "WARNING:param.Dimension: Use method 'get_param_values' via param namespace \n"
     ]
    },
    {
     "name": "stderr",
     "output_type": "stream",
     "text": [
      "WARNING:param.Dimension: Use method 'get_param_values' via param namespace \n",
      "WARNING:param.Dimension: Use method 'get_param_values' via param namespace \n",
      "WARNING:param.Dimension: Use method 'get_param_values' via param namespace \n",
      "WARNING:param.Dimension: Use method 'get_param_values' via param namespace \n",
      "WARNING:param.Dimension: Use method 'get_param_values' via param namespace \n",
      "WARNING:param.Dimension: Use method 'get_param_values' via param namespace \n",
      "WARNING:param.Dimension: Use method 'get_param_values' via param namespace \n",
      "WARNING:param.Dimension: Use method 'get_param_values' via param namespace \n",
      "WARNING:param.Dimension: Use method 'get_param_values' via param namespace \n",
      "WARNING:param.Dimension: Use method 'get_param_values' via param namespace \n",
      "WARNING:param.Dimension: Use method 'get_param_values' via param namespace \n",
      "WARNING:param.Dimension: Use method 'get_param_values' via param namespace \n",
      "WARNING:param.Dimension: Use method 'get_param_values' via param namespace \n",
      "WARNING:param.Dimension: Use method 'get_param_values' via param namespace \n",
      "WARNING:param.Dimension: Use method 'get_param_values' via param namespace \n",
      "WARNING:param.Dimension: Use method 'get_param_values' via param namespace \n",
      "WARNING:param.Dimension: Use method 'get_param_values' via param namespace \n",
      "WARNING:param.Dimension: Use method 'get_param_values' via param namespace \n",
      "WARNING:param.Dimension: Use method 'get_param_values' via param namespace \n",
      "WARNING:param.Dimension: Use method 'get_param_values' via param namespace \n",
      "WARNING:param.Dimension: Use method 'get_param_values' via param namespace \n",
      "WARNING:param.Dimension: Use method 'get_param_values' via param namespace \n"
     ]
    },
    {
     "name": "stdout",
     "output_type": "stream",
     "text": [
      "Wall time: 55.2 s\n"
     ]
    }
   ],
   "source": [
    "%%time\n",
    "dataset_name = \"W20_comb\"\n",
    "df_list = \"BES_Panel\"\n",
    "\n",
    "%matplotlib inline\n",
    "%run BES_header.py {dataset_name} {df_list}\n",
    "# (var_type, cat_dictionary, new_old_col_names, old_new_col_names) = get_small_files(data_subfolder, encoding)    \n",
    "# get full set of inferred \"cross wave\" auth-lib/left-right values and ages\n",
    "# pan_dataset_allr_values = pd.read_pickle(BES_small_data_files + \"pan_dataset_allr_valuesW19\"+\".zip\",compression='zip')\n",
    "# pan_dataset_allr_values = pan_dataset_allr_values.loc[BES_Panel.index].sort_index()\n",
    "# pan_dataset_ages = pd.read_pickle(BES_small_data_files + \"pan_dataset_ages\"+\".zip\", compression='zip')\n",
    "# pan_dataset_votes = pd.read_pickle(BES_small_data_files+\"pan_dataset_votes\"+\".zip\",compression='zip')\n"
   ]
  },
  {
   "cell_type": "code",
   "execution_count": 2,
   "id": "24e749b4",
   "metadata": {},
   "outputs": [
    {
     "data": {
      "text/plain": [
       "zeroHourContractW6             28721\n",
       "zeroSum7W14                     7939\n",
       "zeroSum11W14                    7939\n",
       "zeroSum5W14                     7939\n",
       "zeroSum9W14                     7939\n",
       "zeroSum1W14                     7939\n",
       "zeroSum4W14                     7939\n",
       "selfOccStatusW16               19738\n",
       "selfOccStatusLastW16           15935\n",
       "selfOccStatusW17                4541\n",
       "selfOccStatusLastW17            3809\n",
       "selfOccStatusW18                1165\n",
       "selfOccStatusLastW18             688\n",
       "selfOccStatusW19               15534\n",
       "selfOccStatusLastW19           15421\n",
       "selfOccStatusW20               15978\n",
       "selfOccStatusLastW20           13855\n",
       "lr_scaleW1_W5                  38503\n",
       "al_scaleW1_W5                  37890\n",
       "lr_scaleW6                     27819\n",
       "al_scaleW6                     27288\n",
       "lr_scaleW7_W9                  36472\n",
       "al_scaleW7_W9                  35873\n",
       "lr_scaleW10_W12                30352\n",
       "al_scaleW10_W12                30088\n",
       "lr_scaleW13                    28065\n",
       "al_scaleW13                    27253\n",
       "lr_scaleW14W15                 32385\n",
       "al_scaleW14W15                 31629\n",
       "lr_scaleW16                    33450\n",
       "al_scaleW16                    32671\n",
       "lr_scaleW17                    30488\n",
       "al_scaleW17                    29773\n",
       "lr_scaleW20                    27872\n",
       "al_scaleW20                    26914\n",
       "selfOccStatusW1W2W3W4W5        15913\n",
       "selfOccStatusW6_W12            30010\n",
       "selfOccStatusW14W15             5661\n",
       "selfOccStatusLastW1W2W3W4W5    12722\n",
       "selfOccStatusLastW6_W12        21292\n",
       "selfOccStatusLastW14W15         3232\n",
       "zeroSumIRTW14                   7776\n",
       "dtype: int64"
      ]
     },
     "execution_count": 2,
     "metadata": {},
     "output_type": "execute_result"
    }
   ],
   "source": [
    "search(BES_Panel,\"zero|selfOccStatus|al_scale|lr_scale\")"
   ]
  },
  {
   "cell_type": "code",
   "execution_count": 3,
   "id": "081af8d5",
   "metadata": {},
   "outputs": [],
   "source": [
    "# selfOccStatusW1W2W3W4W5        15913\n",
    "# selfOccStatusW6_W12            30010\n",
    "# zeroHourContractW6             28721\n",
    "\n",
    "# lr_scaleW6                     27819\n",
    "# al_scaleW6                     27288"
   ]
  },
  {
   "cell_type": "code",
   "execution_count": 4,
   "id": "0aca26a6",
   "metadata": {},
   "outputs": [],
   "source": [
    "pan_dataset_allr_values = pd.read_pickle(BES_small_data_files + \"pan_dataset_allr_valuesW19\"+\".zip\",compression='zip')"
   ]
  },
  {
   "cell_type": "code",
   "execution_count": 5,
   "id": "c30380db",
   "metadata": {},
   "outputs": [
    {
     "data": {
      "text/plain": [
       "Should definitely be illegal    9769\n",
       "Should probably be illegal      7475\n",
       "Should definitely be legal      5321\n",
       "Should probably be legal        4525\n",
       "Don't know                      1631\n",
       "Name: zeroHourContractW6, dtype: int64"
      ]
     },
     "execution_count": 5,
     "metadata": {},
     "output_type": "execute_result"
    }
   ],
   "source": [
    "BES_Panel[\"zeroHourContractW6\"].value_counts()"
   ]
  },
  {
   "cell_type": "code",
   "execution_count": 6,
   "id": "52f218c2",
   "metadata": {},
   "outputs": [],
   "source": [
    "zeroHour = BES_Panel[\"zeroHourContractW6\"].cat.reorder_categories(['Should definitely be illegal', 'Should probably be illegal', \"Don't know\",\n",
    "       'Should probably be legal', 'Should definitely be legal']).cat.codes.replace(-1,np.nan)"
   ]
  },
  {
   "cell_type": "code",
   "execution_count": 7,
   "id": "6ab00424",
   "metadata": {},
   "outputs": [
    {
     "data": {
      "text/plain": [
       "0.0    9769\n",
       "1.0    7475\n",
       "4.0    5321\n",
       "3.0    4525\n",
       "2.0    1631\n",
       "dtype: int64"
      ]
     },
     "execution_count": 7,
     "metadata": {},
     "output_type": "execute_result"
    }
   ],
   "source": [
    "zeroHour.value_counts()"
   ]
  },
  {
   "cell_type": "code",
   "execution_count": 8,
   "id": "b63bd455",
   "metadata": {},
   "outputs": [
    {
     "data": {
      "text/plain": [
       "<matplotlib.axes._subplots.AxesSubplot at 0x21d66b89c48>"
      ]
     },
     "execution_count": 8,
     "metadata": {},
     "output_type": "execute_result"
    },
    {
     "data": {
      "image/png": "[encoded data removed]",
      "text/plain": [
       "<Figure size 432x288 with 1 Axes>"
      ]
     },
     "metadata": {},
     "output_type": "display_data"
    }
   ],
   "source": [
    "zeroHour.hist()"
   ]
  },
  {
   "cell_type": "code",
   "execution_count": 9,
   "id": "5046dfb9",
   "metadata": {},
   "outputs": [
    {
     "data": {
      "text/plain": [
       "0    12842\n",
       "2     9771\n",
       "1     6108\n",
       "dtype: int64"
      ]
     },
     "execution_count": 9,
     "metadata": {},
     "output_type": "execute_result"
    }
   ],
   "source": [
    "BES_Panel[[\"selfOccStatusW1W2W3W4W5\",\"selfOccStatusW6_W12\"]][zeroHour.notnull()].notnull().sum(axis=1).value_counts()"
   ]
  },
  {
   "cell_type": "code",
   "execution_count": 10,
   "id": "38a46148",
   "metadata": {},
   "outputs": [
    {
     "data": {
      "text/html": [
       "<div>\n",
       "<style scoped>\n",
       "    .dataframe tbody tr th:only-of-type {\n",
       "        vertical-align: middle;\n",
       "    }\n",
       "\n",
       "    .dataframe tbody tr th {\n",
       "        vertical-align: top;\n",
       "    }\n",
       "\n",
       "    .dataframe thead th {\n",
       "        text-align: right;\n",
       "    }\n",
       "</style>\n",
       "<table border=\"1\" class=\"dataframe\">\n",
       "  <thead>\n",
       "    <tr style=\"text-align: right;\">\n",
       "      <th></th>\n",
       "      <th>selfOccStatusW1W2W3W4W5</th>\n",
       "      <th>selfOccStatusW6_W12</th>\n",
       "    </tr>\n",
       "    <tr>\n",
       "      <th>id</th>\n",
       "      <th></th>\n",
       "      <th></th>\n",
       "    </tr>\n",
       "  </thead>\n",
       "  <tbody>\n",
       "    <tr>\n",
       "      <th>1</th>\n",
       "      <td>NaN</td>\n",
       "      <td>NaN</td>\n",
       "    </tr>\n",
       "    <tr>\n",
       "      <th>2</th>\n",
       "      <td>Self-employed/independent contractor</td>\n",
       "      <td>NaN</td>\n",
       "    </tr>\n",
       "    <tr>\n",
       "      <th>3</th>\n",
       "      <td>NaN</td>\n",
       "      <td>NaN</td>\n",
       "    </tr>\n",
       "    <tr>\n",
       "      <th>4</th>\n",
       "      <td>An employee</td>\n",
       "      <td>NaN</td>\n",
       "    </tr>\n",
       "    <tr>\n",
       "      <th>5</th>\n",
       "      <td>Self-employed/independent contractor</td>\n",
       "      <td>NaN</td>\n",
       "    </tr>\n",
       "    <tr>\n",
       "      <th>...</th>\n",
       "      <td>...</td>\n",
       "      <td>...</td>\n",
       "    </tr>\n",
       "    <tr>\n",
       "      <th>102854</th>\n",
       "      <td>NaN</td>\n",
       "      <td>NaN</td>\n",
       "    </tr>\n",
       "    <tr>\n",
       "      <th>102855</th>\n",
       "      <td>NaN</td>\n",
       "      <td>NaN</td>\n",
       "    </tr>\n",
       "    <tr>\n",
       "      <th>102856</th>\n",
       "      <td>NaN</td>\n",
       "      <td>NaN</td>\n",
       "    </tr>\n",
       "    <tr>\n",
       "      <th>102857</th>\n",
       "      <td>NaN</td>\n",
       "      <td>NaN</td>\n",
       "    </tr>\n",
       "    <tr>\n",
       "      <th>102858</th>\n",
       "      <td>NaN</td>\n",
       "      <td>NaN</td>\n",
       "    </tr>\n",
       "  </tbody>\n",
       "</table>\n",
       "<p>101413 rows × 2 columns</p>\n",
       "</div>"
      ],
      "text/plain": [
       "                     selfOccStatusW1W2W3W4W5 selfOccStatusW6_W12\n",
       "id                                                              \n",
       "1                                        NaN                 NaN\n",
       "2       Self-employed/independent contractor                 NaN\n",
       "3                                        NaN                 NaN\n",
       "4                                An employee                 NaN\n",
       "5       Self-employed/independent contractor                 NaN\n",
       "...                                      ...                 ...\n",
       "102854                                   NaN                 NaN\n",
       "102855                                   NaN                 NaN\n",
       "102856                                   NaN                 NaN\n",
       "102857                                   NaN                 NaN\n",
       "102858                                   NaN                 NaN\n",
       "\n",
       "[101413 rows x 2 columns]"
      ]
     },
     "execution_count": 10,
     "metadata": {},
     "output_type": "execute_result"
    }
   ],
   "source": [
    "BES_Panel[[\"selfOccStatusW1W2W3W4W5\",\"selfOccStatusW6_W12\"]]"
   ]
  },
  {
   "cell_type": "code",
   "execution_count": 11,
   "id": "ccc1953e",
   "metadata": {},
   "outputs": [
    {
     "data": {
      "text/plain": [
       "An employee                             92320\n",
       "Self-employed/independent contractor    15164\n",
       "Don't know                               1056\n",
       "dtype: int64"
      ]
     },
     "execution_count": 11,
     "metadata": {},
     "output_type": "execute_result"
    }
   ],
   "source": [
    "BES_Panel[search(BES_Panel,\"selfOccStatusW\").index].stack().value_counts()"
   ]
  },
  {
   "cell_type": "code",
   "execution_count": 12,
   "id": "d9f377c0",
   "metadata": {},
   "outputs": [
    {
     "data": {
      "text/plain": [
       "2    53795\n",
       "1    45453\n",
       "3     2136\n",
       "4       29\n",
       "dtype: int64"
      ]
     },
     "execution_count": 12,
     "metadata": {},
     "output_type": "execute_result"
    }
   ],
   "source": [
    "BES_Panel[search(BES_Panel,\"selfOccStatusW\").index].apply(lambda x: len(x.unique()),axis=1 ).value_counts()"
   ]
  },
  {
   "cell_type": "code",
   "execution_count": 13,
   "id": "a79a134d",
   "metadata": {},
   "outputs": [],
   "source": [
    "num_diff_cats = BES_Panel[search(BES_Panel,\"selfOccStatusW\").index].apply(lambda x: len(x.dropna().unique()),axis=1 )\n",
    "#"
   ]
  },
  {
   "cell_type": "code",
   "execution_count": 14,
   "id": "19e9d4d4",
   "metadata": {},
   "outputs": [
    {
     "data": {
      "text/plain": [
       "[NaN, 'Self-employed/independent contractor', 'An employee']\n",
       "Categories (2, object): ['Self-employed/independent contractor' < 'An employee']"
      ]
     },
     "execution_count": 14,
     "metadata": {},
     "output_type": "execute_result"
    }
   ],
   "source": [
    "BES_Panel[search(BES_Panel,\"selfOccStatusW\").index][0:100].loc[9].unique()"
   ]
  },
  {
   "cell_type": "code",
   "execution_count": 15,
   "id": "42ffd6d4",
   "metadata": {},
   "outputs": [
    {
     "data": {
      "text/plain": [
       "1    53795\n",
       "0    45453\n",
       "2     2136\n",
       "3       29\n",
       "dtype: int64"
      ]
     },
     "execution_count": 15,
     "metadata": {},
     "output_type": "execute_result"
    }
   ],
   "source": [
    "num_diff_cats.value_counts()"
   ]
  },
  {
   "cell_type": "code",
   "execution_count": 16,
   "id": "c2563e7b",
   "metadata": {},
   "outputs": [
    {
     "data": {
      "text/plain": [
       "0.03636363636363636"
      ]
     },
     "execution_count": 16,
     "metadata": {},
     "output_type": "execute_result"
    }
   ],
   "source": [
    "2/55\n",
    "\n",
    "## change of status ~3-4%"
   ]
  },
  {
   "cell_type": "code",
   "execution_count": 17,
   "id": "d768e689",
   "metadata": {},
   "outputs": [],
   "source": [
    "def amalgamate_waves(df, pattern, forward_fill=True, specify_wave_order = None, low_priority_values = [], match=True):\n",
    "    # euref_imm = amalgamate_waves(BES_reduced_with_na,\"euRefVoteW\",forward_fill=False)\n",
    "    # assumes simple wave structure, give a pattern that works!\n",
    "    if match:\n",
    "        df_cols_dict = {int(re.search(\"W(\\d+)\", x).groups()[0]):x for x in df.columns if re.match(pattern, x)}\n",
    "    else:\n",
    "        df_cols_dict = {int(re.search(\"W(\\d+)\", x).groups()[0]):x for x in df.columns if re.search(pattern, x)}\n",
    "    # sort columns\n",
    "    if specify_wave_order is not None:\n",
    "        df_cols = [df_cols_dict[x] for x in specify_wave_order]\n",
    "    else:\n",
    "        df_cols = [df_cols_dict[x] for x in sorted(df_cols_dict.keys())]\n",
    "    \n",
    "    # forward fill and and pick last column - or backward fill and pick first column\n",
    "    if len(df_cols)<=1:\n",
    "        raise Exception(\"Can't amalgamate less than two variables!\")\n",
    "    if forward_fill:\n",
    "        pick_col = -1\n",
    "        method = \"ffill\"        \n",
    "    else:\n",
    "        pick_col = 0\n",
    "        method = \"bfill\"\n",
    "    latest_series = df[df_cols]\\\n",
    "        .replace(low_priority_values,[np.nan]*len(low_priority_values))\\\n",
    "        .fillna(method=method,axis=1)[df_cols[pick_col]]\n",
    "    # stop values in low_priority from cascading, overwrite where possible, otherwise reinsert where there are only nans \n",
    "    categories = df[df_cols[0]].cat.categories\n",
    "    if low_priority_values:\n",
    "        high_priority_values = [x for x in categories if x not in low_priority_values]\n",
    "        low_priority_series = df[df_cols]\\\n",
    "                .replace(high_priority_values,[np.nan]*len(high_priority_values))\\\n",
    "                .fillna(method=method,axis=1)[df_cols[pick_col]]\n",
    "        # apply doesn't trigger on NaN values!\n",
    "        low_priority_mask = low_priority_series.apply(lambda x: x in low_priority_values).astype('bool').fillna(False) & latest_series.isnull()\n",
    "        latest_series.loc[low_priority_mask] = low_priority_series.loc[low_priority_mask]\n",
    "    # if it's a category, retain category type/options/order\n",
    "    if df[df_cols[0]].dtype.name == \"category\":\n",
    "        latest_series = latest_series.astype(\n",
    "                    pd.api.types.CategoricalDtype(categories) )\n",
    "    # update name\n",
    "    # re.match(\"(.*?)W\\d+\",\"climateChangeW11\").groups()[0]\n",
    "    print(\"Amalgamating variables: \")\n",
    "    print(df_cols_dict,df_cols)\n",
    "    name_stub = re.match(\"(.*?)W\\d+\",  list(df_cols_dict.values())[0]).groups()[0]\n",
    "    latest_series.name = name_stub+\"W\"+\"&\".join([str(x) for x in sorted(df_cols_dict.keys())])\n",
    "    \n",
    "    return latest_series"
   ]
  },
  {
   "cell_type": "code",
   "execution_count": 18,
   "id": "11cce888",
   "metadata": {},
   "outputs": [
    {
     "name": "stdout",
     "output_type": "stream",
     "text": [
      "Amalgamating variables: \n",
      "{16: 'selfOccStatusW16', 17: 'selfOccStatusW17', 18: 'selfOccStatusW18', 19: 'selfOccStatusW19', 20: 'selfOccStatusW20', 1: 'selfOccStatusW1W2W3W4W5', 6: 'selfOccStatusW6_W12', 14: 'selfOccStatusW14W15'} ['selfOccStatusW1W2W3W4W5', 'selfOccStatusW6_W12', 'selfOccStatusW14W15', 'selfOccStatusW16', 'selfOccStatusW17', 'selfOccStatusW18', 'selfOccStatusW19', 'selfOccStatusW20']\n"
     ]
    }
   ],
   "source": [
    "# (df, pattern, forward_fill=True, specify_wave_order = None, low_priority_values = [], match=True)\n",
    "selfOccStatus = amalgamate_waves(BES_Panel,\"selfOccStatusW\",forward_fill=False)"
   ]
  },
  {
   "cell_type": "code",
   "execution_count": 19,
   "id": "6c41af59",
   "metadata": {
    "scrolled": false
   },
   "outputs": [],
   "source": [
    "# print(\"responsive?\")"
   ]
  },
  {
   "cell_type": "code",
   "execution_count": 20,
   "id": "ce3f8c12",
   "metadata": {},
   "outputs": [
    {
     "data": {
      "text/plain": [
       "45453"
      ]
     },
     "execution_count": 20,
     "metadata": {},
     "output_type": "execute_result"
    }
   ],
   "source": [
    "selfOccStatus.isnull().sum()"
   ]
  },
  {
   "cell_type": "code",
   "execution_count": 21,
   "id": "4ac1a1d0",
   "metadata": {},
   "outputs": [
    {
     "data": {
      "text/plain": [
       "An employee                             47273\n",
       "Self-employed/independent contractor     7916\n",
       "Don't know                                771\n",
       "Name: selfOccStatusW1&6&14&16&17&18&19&20, dtype: int64"
      ]
     },
     "execution_count": 21,
     "metadata": {},
     "output_type": "execute_result"
    }
   ],
   "source": [
    "selfOccStatus.value_counts()"
   ]
  },
  {
   "cell_type": "code",
   "execution_count": 22,
   "id": "5c384988",
   "metadata": {},
   "outputs": [
    {
     "data": {
      "text/plain": [
       "An employee                             47273\n",
       "Self-employed/independent contractor     7916\n",
       "Name: selfOccStatusW1&6&14&16&17&18&19&20, dtype: int64"
      ]
     },
     "execution_count": 22,
     "metadata": {},
     "output_type": "execute_result"
    }
   ],
   "source": [
    "## drop any remaining Don't knows\n",
    "selfOccStatus = selfOccStatus.replace(\"Don't know\",np.nan)\n",
    "selfOccStatus.value_counts()"
   ]
  },
  {
   "cell_type": "code",
   "execution_count": null,
   "id": "49e064f3",
   "metadata": {},
   "outputs": [],
   "source": []
  },
  {
   "cell_type": "code",
   "execution_count": 23,
   "id": "c2c2180c",
   "metadata": {},
   "outputs": [
    {
     "name": "stdout",
     "output_type": "stream",
     "text": [
      "Amalgamating variables: \n",
      "{1: 'al_scaleW1_W5', 6: 'al_scaleW6', 7: 'al_scaleW7_W9', 10: 'al_scaleW10_W12', 13: 'al_scaleW13', 14: 'al_scaleW14W15', 16: 'al_scaleW16', 17: 'al_scaleW17', 20: 'al_scaleW20'} ['al_scaleW1_W5', 'al_scaleW6', 'al_scaleW7_W9', 'al_scaleW10_W12', 'al_scaleW13', 'al_scaleW14W15', 'al_scaleW16', 'al_scaleW17', 'al_scaleW20']\n"
     ]
    }
   ],
   "source": [
    "al_scale = amalgamate_waves(BES_Panel,\"al_scale\",forward_fill=False)"
   ]
  },
  {
   "cell_type": "code",
   "execution_count": 24,
   "id": "c646cb79",
   "metadata": {},
   "outputs": [
    {
     "data": {
      "text/plain": [
       "7.5              9821\n",
       "7.0              8592\n",
       "6.5              8265\n",
       "NaN              7136\n",
       "8.0              7071\n",
       "6.0              6928\n",
       "5.0              6517\n",
       "5.5              6221\n",
       "8.5              5732\n",
       "9.0              5056\n",
       "4.5              4671\n",
       "4.0              4104\n",
       "9.5              3587\n",
       "3.5              3484\n",
       "Authoritarian    3443\n",
       "3.0              3079\n",
       "2.5              2484\n",
       "2.0              1962\n",
       "1.5              1294\n",
       "1.0               951\n",
       "0.5               553\n",
       "Libertarian       462\n",
       "Name: al_scaleW1&6&7&10&13&14&16&17&20, dtype: int64"
      ]
     },
     "execution_count": 24,
     "metadata": {},
     "output_type": "execute_result"
    }
   ],
   "source": [
    "al_scale.value_counts(dropna=False)"
   ]
  },
  {
   "cell_type": "code",
   "execution_count": 25,
   "id": "65d2bf1e",
   "metadata": {},
   "outputs": [],
   "source": [
    "al_scale = al_scale.cat.codes.replace(-1,np.nan)"
   ]
  },
  {
   "cell_type": "code",
   "execution_count": 26,
   "id": "6fecb438",
   "metadata": {},
   "outputs": [],
   "source": [
    "df = pd.concat([zeroHour,selfOccStatus,al_scale],axis=1)\n",
    "df.columns = [\"zeroHour\",\"selfOccStatus\",\"al_scale\"]"
   ]
  },
  {
   "cell_type": "code",
   "execution_count": 27,
   "id": "848d0147",
   "metadata": {},
   "outputs": [
    {
     "data": {
      "text/html": [
       "<div>\n",
       "<style scoped>\n",
       "    .dataframe tbody tr th:only-of-type {\n",
       "        vertical-align: middle;\n",
       "    }\n",
       "\n",
       "    .dataframe tbody tr th {\n",
       "        vertical-align: top;\n",
       "    }\n",
       "\n",
       "    .dataframe thead th {\n",
       "        text-align: right;\n",
       "    }\n",
       "</style>\n",
       "<table border=\"1\" class=\"dataframe\">\n",
       "  <thead>\n",
       "    <tr style=\"text-align: right;\">\n",
       "      <th></th>\n",
       "      <th>zeroHour</th>\n",
       "      <th>selfOccStatus</th>\n",
       "      <th>al_scale</th>\n",
       "    </tr>\n",
       "  </thead>\n",
       "  <tbody>\n",
       "    <tr>\n",
       "      <th>1</th>\n",
       "      <td>0.0</td>\n",
       "      <td>NaN</td>\n",
       "      <td>16.0</td>\n",
       "    </tr>\n",
       "    <tr>\n",
       "      <th>2</th>\n",
       "      <td>3.0</td>\n",
       "      <td>Self-employed/independent contractor</td>\n",
       "      <td>12.0</td>\n",
       "    </tr>\n",
       "    <tr>\n",
       "      <th>3</th>\n",
       "      <td>3.0</td>\n",
       "      <td>NaN</td>\n",
       "      <td>14.0</td>\n",
       "    </tr>\n",
       "    <tr>\n",
       "      <th>4</th>\n",
       "      <td>NaN</td>\n",
       "      <td>An employee</td>\n",
       "      <td>16.0</td>\n",
       "    </tr>\n",
       "    <tr>\n",
       "      <th>5</th>\n",
       "      <td>NaN</td>\n",
       "      <td>Self-employed/independent contractor</td>\n",
       "      <td>12.0</td>\n",
       "    </tr>\n",
       "    <tr>\n",
       "      <th>...</th>\n",
       "      <td>...</td>\n",
       "      <td>...</td>\n",
       "      <td>...</td>\n",
       "    </tr>\n",
       "    <tr>\n",
       "      <th>102854</th>\n",
       "      <td>NaN</td>\n",
       "      <td>An employee</td>\n",
       "      <td>8.0</td>\n",
       "    </tr>\n",
       "    <tr>\n",
       "      <th>102855</th>\n",
       "      <td>NaN</td>\n",
       "      <td>NaN</td>\n",
       "      <td>11.0</td>\n",
       "    </tr>\n",
       "    <tr>\n",
       "      <th>102856</th>\n",
       "      <td>NaN</td>\n",
       "      <td>An employee</td>\n",
       "      <td>11.0</td>\n",
       "    </tr>\n",
       "    <tr>\n",
       "      <th>102857</th>\n",
       "      <td>NaN</td>\n",
       "      <td>An employee</td>\n",
       "      <td>19.0</td>\n",
       "    </tr>\n",
       "    <tr>\n",
       "      <th>102858</th>\n",
       "      <td>NaN</td>\n",
       "      <td>Self-employed/independent contractor</td>\n",
       "      <td>9.0</td>\n",
       "    </tr>\n",
       "  </tbody>\n",
       "</table>\n",
       "<p>101413 rows × 3 columns</p>\n",
       "</div>"
      ],
      "text/plain": [
       "        zeroHour                         selfOccStatus  al_scale\n",
       "1            0.0                                   NaN      16.0\n",
       "2            3.0  Self-employed/independent contractor      12.0\n",
       "3            3.0                                   NaN      14.0\n",
       "4            NaN                           An employee      16.0\n",
       "5            NaN  Self-employed/independent contractor      12.0\n",
       "...          ...                                   ...       ...\n",
       "102854       NaN                           An employee       8.0\n",
       "102855       NaN                                   NaN      11.0\n",
       "102856       NaN                           An employee      11.0\n",
       "102857       NaN                           An employee      19.0\n",
       "102858       NaN  Self-employed/independent contractor       9.0\n",
       "\n",
       "[101413 rows x 3 columns]"
      ]
     },
     "execution_count": 27,
     "metadata": {},
     "output_type": "execute_result"
    }
   ],
   "source": [
    "df"
   ]
  },
  {
   "cell_type": "code",
   "execution_count": 28,
   "id": "b259baae",
   "metadata": {},
   "outputs": [
    {
     "data": {
      "text/plain": [
       "zeroHour         72692\n",
       "selfOccStatus    46224\n",
       "al_scale          7136\n",
       "dtype: int64"
      ]
     },
     "execution_count": 28,
     "metadata": {},
     "output_type": "execute_result"
    }
   ],
   "source": [
    "df.isnull().sum()"
   ]
  },
  {
   "cell_type": "code",
   "execution_count": 29,
   "id": "2a3ae249",
   "metadata": {},
   "outputs": [
    {
     "data": {
      "text/plain": [
       "zeroHour             0\n",
       "selfOccStatus    12302\n",
       "al_scale           470\n",
       "dtype: int64"
      ]
     },
     "execution_count": 29,
     "metadata": {},
     "output_type": "execute_result"
    }
   ],
   "source": [
    "df[df[\"zeroHour\"].notnull()].isnull().sum()"
   ]
  },
  {
   "cell_type": "code",
   "execution_count": 30,
   "id": "d3db7d5a",
   "metadata": {},
   "outputs": [],
   "source": [
    "mask = df.notnull().all(axis=1)"
   ]
  },
  {
   "cell_type": "code",
   "execution_count": 31,
   "id": "544d83f2",
   "metadata": {},
   "outputs": [],
   "source": [
    "df[\"al_scale\"].value_counts()\n",
    "al_mask = df[\"al_scale\"].apply(lambda x: x in [0.0,10.0,20.0])"
   ]
  },
  {
   "cell_type": "code",
   "execution_count": 32,
   "id": "acc48718",
   "metadata": {},
   "outputs": [
    {
     "data": {
      "text/plain": [
       "<matplotlib.axes._subplots.AxesSubplot at 0x21d96178608>"
      ]
     },
     "execution_count": 32,
     "metadata": {},
     "output_type": "execute_result"
    },
    {
     "data": {
      "image/png": "[encoded data removed]",
      "text/plain": [
       "<Figure size 432x288 with 1 Axes>"
      ]
     },
     "metadata": {},
     "output_type": "display_data"
    }
   ],
   "source": [
    "sns.lineplot(data = df[mask&al_mask],x=\"selfOccStatus\",y=\"zeroHour\",hue=\"al_scale\")"
   ]
  },
  {
   "cell_type": "code",
   "execution_count": 33,
   "id": "76820d15",
   "metadata": {},
   "outputs": [],
   "source": [
    "# We deviate because no controls!\n",
    "# Also we haven't weighted!\n",
    "\n",
    "\n",
    "# Modeling Approach\n",
    "# We use a simple linear regression model specification with the relevant outcome measure y regressed\n",
    "# on authoritarianism, the relevant demographic and interaction between the demographic and\n",
    "# authoritarianism. Where the demographic variable is categorical we include main effects and\n",
    "# interactions for each category other than the baseline. For each outcome variable we run two models,\n",
    "# the first as described above, and the second with additional controls for age and education level (BESIP:\n",
    "# No qualifications, Below GCSE, GCSE, A-level, Undergraduate degree, Postgraduate degree. ANES:\n",
    "# High school or less, Some college, Bachelors degree, Postgraduate degree).\n",
    "# 1. 𝑦 = 𝛽0 + 𝛽1𝑎𝑢𝑡ℎ + 𝛽2𝑑𝑒𝑚𝑜𝑔𝑟𝑎𝑝ℎ𝑖𝑐 + 𝛽3𝑎𝑢𝑡ℎ ∗ 𝑑𝑒𝑚𝑜𝑔𝑟𝑎𝑝ℎ𝑖𝑐\n",
    "# 2. 𝑦 = 𝛽0 + 𝛽1𝑎𝑢𝑡ℎ + 𝛽2𝑑𝑒𝑚𝑜𝑔𝑟𝑎𝑝ℎ𝑖𝑐 + 𝛽3𝑎𝑢𝑡ℎ ∗ 𝑑𝑒𝑚𝑜𝑔𝑟𝑎𝑝ℎ𝑖𝑐 + 𝛽4𝐴𝑔𝑒 +\n",
    "# 𝛽5𝑖𝐸𝑑𝑢𝑐𝑎𝑡𝑖𝑜𝑛�"
   ]
  },
  {
   "cell_type": "code",
   "execution_count": 34,
   "id": "9391b0df",
   "metadata": {},
   "outputs": [
    {
     "data": {
      "text/plain": [
       "wave1        100936\n",
       "wave2        100936\n",
       "wave3        100936\n",
       "wave4        100936\n",
       "wave5        100936\n",
       "              ...  \n",
       "oslauaW17     34366\n",
       "oslauaW18     37824\n",
       "oslauaW19     32177\n",
       "oslauaW20     31468\n",
       "oslauaW16     37958\n",
       "Length: 8535, dtype: int64"
      ]
     },
     "execution_count": 34,
     "metadata": {},
     "output_type": "execute_result"
    }
   ],
   "source": [
    "search(BES_Panel,\"gayMarriage|p_sexualityW10|houseBuildW12|p_housingW12|\")\n",
    "\n",
    "# blackEqualityW16       37959,blackEqualityW17       34366\n",
    "# p_ethnicityW16         37744,p_ethnicityW17         34014\n",
    "\n",
    "# tuitionFeesTooFarW13    31136\n",
    "# anyUniW13               31136\n",
    "\n",
    "# welfarePreferenceW11      30956\n",
    "# mainSourceIncomeW11       29461\n",
    "\n",
    "# leftRightW10    30237\n",
    "# populism1W10    30237\n",
    "# populism2W10    30237\n",
    "# populism4W10    30237\n",
    "# populism5W10    30237\n",
    "# populism6W10    30237\n",
    "\n",
    "# overseasAidW17         34366\n",
    "# subjClassW17           34366\n",
    "\n",
    "\n",
    "# objective class\n",
    "# economic left-right"
   ]
  },
  {
   "cell_type": "code",
   "execution_count": 35,
   "id": "181b116c",
   "metadata": {},
   "outputs": [
    {
     "data": {
      "text/plain": [
       "lr1W6                  30258\n",
       "lr2W6                  30258\n",
       "lr3W6                  30258\n",
       "lr4W6                  30258\n",
       "lr5W6                  30258\n",
       "overseasAidW10         30237\n",
       "overseasAidW11         30956\n",
       "overseasAidW12          8984\n",
       "lr1W13                 31136\n",
       "lr2W13                 31136\n",
       "lr3W13                 31136\n",
       "lr4W13                 31136\n",
       "lr5W13                 31136\n",
       "overseasAidW14         31063\n",
       "forcedSubjClassW14      7939\n",
       "subjClassW15            5109\n",
       "lr1W16                 37959\n",
       "lr2W16                 37959\n",
       "lr3W16                 37959\n",
       "lr4W16                 37959\n",
       "lr5W16                 37959\n",
       "subjClassW16           13775\n",
       "overseasAidW17         34366\n",
       "subjClassW17           34366\n",
       "lr1W17                 34366\n",
       "lr2W17                 34366\n",
       "lr3W17                 34366\n",
       "lr4W17                 34366\n",
       "lr5W17                 34366\n",
       "subjClassW19           32177\n",
       "subjClassSqueezeW19    11125\n",
       "lr1W20                 31468\n",
       "lr2W20                 31468\n",
       "lr3W20                 31468\n",
       "lr4W20                 31468\n",
       "lr5W20                 31468\n",
       "subjClassW20            4408\n",
       "lr1W1_W5               41882\n",
       "lr2W1_W5               41882\n",
       "lr3W1_W5               41882\n",
       "lr4W1_W5               41882\n",
       "lr5W1_W5               41882\n",
       "lr1W14W15              36172\n",
       "lr2W14W15              36172\n",
       "lr3W14W15              36172\n",
       "lr4W14W15              36172\n",
       "lr5W14W15              36172\n",
       "lr1W7_W9               39857\n",
       "lr2W7_W9               39857\n",
       "lr3W7_W9               39857\n",
       "lr4W7_W9               39857\n",
       "lr5W7_W9               39857\n",
       "lr1W10_W12             34991\n",
       "lr2W10_W12             34991\n",
       "lr3W10_W12             34991\n",
       "lr4W10_W12             34991\n",
       "lr5W10_W12             34991\n",
       "subjClassW2_W4W7W9     51537\n",
       "subjClassW10W11        33086\n",
       "subjClassW12W14        39578\n",
       "dtype: int64"
      ]
     },
     "execution_count": 35,
     "metadata": {},
     "output_type": "execute_result"
    }
   ],
   "source": [
    "search(BES_Panel,\"overseasAid|subjClass|lr\\d\")"
   ]
  },
  {
   "cell_type": "code",
   "execution_count": 36,
   "id": "040ca8da",
   "metadata": {},
   "outputs": [
    {
     "data": {
      "text/plain": [
       "University or CNAA first degree (e.g. BA, B.Sc, B.Ed)    6506\n",
       "CSE grade 1, GCE O level, GCSE, School Certificate       4042\n",
       "GCE A level or Higher Certificate                        4035\n",
       "Other technical, professional or higher qualification    3597\n",
       "University or CNAA higher degree (e.g. M.Sc, Ph.D)       2784\n",
       "No formal qualifications                                 2100\n",
       "City & Guilds certificate                                1285\n",
       "University diploma                                       1175\n",
       "City & Guilds certificate - advanced                      729\n",
       "Teaching qualification (not degree)                       703\n",
       "CSE grades 2-5                                            620\n",
       "Scottish Higher Certificate                               607\n",
       "Prefer not to say                                         593\n",
       "Clerical and commercial                                   542\n",
       "Nursing qualification (e.g. SEN, SRN, SCM, RGN)           481\n",
       "Recognised trade apprenticeship completed                 423\n",
       "Don't know                                                369\n",
       "ONC                                                       264\n",
       "Scottish Ordinary/ Lower Certificate                      198\n",
       "Youth training certificate/skillseekers                    83\n",
       "Name: p_educationW13, dtype: int64"
      ]
     },
     "execution_count": 36,
     "metadata": {},
     "output_type": "execute_result"
    }
   ],
   "source": [
    "BES_Panel[\"p_educationW13\"].value_counts()"
   ]
  },
  {
   "cell_type": "code",
   "execution_count": null,
   "id": "cf836c84",
   "metadata": {},
   "outputs": [],
   "source": []
  },
  {
   "cell_type": "code",
   "execution_count": null,
   "id": "5ee454fe",
   "metadata": {},
   "outputs": [],
   "source": []
  },
  {
   "cell_type": "code",
   "execution_count": null,
   "id": "4533a1ce",
   "metadata": {},
   "outputs": [],
   "source": []
  },
  {
   "cell_type": "code",
   "execution_count": 37,
   "id": "7c460b81",
   "metadata": {},
   "outputs": [],
   "source": [
    "# interesting\n",
    "\n",
    "# fourDayWeek Introducing a four day working week W17\n",
    "# abolishPrivateSchool Getting rid of private education W17\n",
    "# votesAt16 Lowerin"
   ]
  },
  {
   "cell_type": "code",
   "execution_count": null,
   "id": "0b5d35ad",
   "metadata": {},
   "outputs": [],
   "source": []
  },
  {
   "cell_type": "code",
   "execution_count": null,
   "id": "38707a40",
   "metadata": {},
   "outputs": [],
   "source": []
  },
  {
   "cell_type": "code",
   "execution_count": 38,
   "id": "00c2a130",
   "metadata": {},
   "outputs": [],
   "source": [
    "# Thomas Prosser:\n",
    "# But I'm interested in things like the political views of sociocultural professionals (particularly on the cultural dimension)\n",
    "# and the size of sociocultural sectors."
   ]
  },
  {
   "cell_type": "code",
   "execution_count": 39,
   "id": "77337d43",
   "metadata": {},
   "outputs": [],
   "source": [
    "## Thought - do vocational categories form specific "
   ]
  },
  {
   "cell_type": "code",
   "execution_count": 40,
   "id": "45c762c3",
   "metadata": {},
   "outputs": [
    {
     "data": {
      "text/plain": [
       "ns_secW16W17W18              38586\n",
       "ns_sec_analyticW16W17W18     38586\n",
       "ns_secW19                    26107\n",
       "ns_sec_analyticW19           26107\n",
       "ns_secW20                    25655\n",
       "ns_sec_analyticW20           25655\n",
       "ns_secW1W2W3W4W5             26183\n",
       "ns_sec_analyticW1W2W3W4W5    26391\n",
       "ns_secW6W7W8W9               40099\n",
       "ns_sec_analyticW6W7W8W9      40099\n",
       "dtype: int64"
      ]
     },
     "execution_count": 40,
     "metadata": {},
     "output_type": "execute_result"
    }
   ],
   "source": [
    "search(BES_Panel,\"ns_sec\")"
   ]
  },
  {
   "cell_type": "code",
   "execution_count": 41,
   "id": "d6734525",
   "metadata": {},
   "outputs": [],
   "source": [
    "## Obvious value confounds\n",
    "\n",
    "# Age\n",
    "\n",
    "# Dumb control, just look at one decade at a time"
   ]
  },
  {
   "cell_type": "code",
   "execution_count": 42,
   "id": "79890df6",
   "metadata": {},
   "outputs": [
    {
     "data": {
      "text/plain": [
       "L4.1 Traditional employees                                                     6572\n",
       "L7.1 Intermediate clerical and administrative occupations                      5762\n",
       "L3.1 Traditional employees                                                     2287\n",
       "L3.2 New employees                                                             2199\n",
       "L9.1 Own account workers (non-professional)                                    2120\n",
       "L7.2 Intermediate sales and service occupations                                1872\n",
       "Lower managerial and administrative occupations                                1872\n",
       "Higher supervisory occupations                                                 1835\n",
       "Lower supervisory occupations                                                  1631\n",
       "L12.2 Semi-routine service occupations                                         1582\n",
       "L12.1 Semi-routine sales occupations                                           1420\n",
       "Higher managerial and administrative occupations                               1153\n",
       "L13.4 Routine operative occupations                                             999\n",
       "L4.3 Traditional self-employed                                                  936\n",
       "L4.2 New employees                                                              786\n",
       "L11.1 Lower technical craft occupations                                         783\n",
       "L13.3 Routine technical occupations                                             767\n",
       "L8.1 Employers in small establishments in industry, commerce, services etc.     525\n",
       "L7.3 Intermediate technical and auxiliary occupations                           524\n",
       "L12.6 Semi-routine clerical occupations                                         483\n",
       "L3.3 Traditional self-employed                                                  459\n",
       "L13.1 Routine sales and service occupations                                     396\n",
       "L7.4 Intermediate engineering occupations                                       292\n",
       "L4.4 New self-employed                                                          233\n",
       "L12.4 Semi-routine operative occupations                                        185\n",
       "L3.4 New self-employed                                                          165\n",
       "L12.3 Semi-routine technical occupations                                        143\n",
       "L12.7 Semi routine childcare occupations                                        116\n",
       "L13.2 Routine production occupations                                            109\n",
       "L9.2 Own account workers (agriculture)                                          106\n",
       "L11.2 Lower technical process operative occupations                              97\n",
       "Employers in large establishments                                                88\n",
       "L13.5 Routine agricultural occupations                                           37\n",
       "L8.2 Employers in small establishments in agriculture                            27\n",
       "L12.5 Semi-routine agricultural occupations                                      25\n",
       "Name: ns_secW16W17W18, dtype: int64"
      ]
     },
     "execution_count": 42,
     "metadata": {},
     "output_type": "execute_result"
    }
   ],
   "source": [
    "BES_Panel[\"ns_secW16W17W18\"].value_counts()"
   ]
  },
  {
   "cell_type": "code",
   "execution_count": 43,
   "id": "7a2f0b53",
   "metadata": {},
   "outputs": [
    {
     "data": {
      "text/plain": [
       "Lower professional and managerial and higher supervisory    12234\n",
       "Intermediate occupations                                     8450\n",
       "Higher professional occupations                              5110\n",
       "Semi-routine occupations                                     3954\n",
       "Employers in small organisations and own account workers     2778\n",
       "Lower supervisory and technical occupations                  2511\n",
       "Routine occupations                                          2308\n",
       "Employers in large organisations and higher managerial       1241\n",
       "Name: ns_sec_analyticW16W17W18, dtype: int64"
      ]
     },
     "execution_count": 43,
     "metadata": {},
     "output_type": "execute_result"
    }
   ],
   "source": [
    "BES_Panel[\"ns_sec_analyticW16W17W18\"].value_counts()"
   ]
  },
  {
   "cell_type": "code",
   "execution_count": 44,
   "id": "b97b4306",
   "metadata": {},
   "outputs": [
    {
     "name": "stdout",
     "output_type": "stream",
     "text": [
      "Amalgamating variables: \n",
      "{16: 'ns_sec_analyticW16W17W18', 19: 'ns_sec_analyticW19', 20: 'ns_sec_analyticW20', 1: 'ns_sec_analyticW1W2W3W4W5', 6: 'ns_sec_analyticW6W7W8W9'} ['ns_sec_analyticW1W2W3W4W5', 'ns_sec_analyticW6W7W8W9', 'ns_sec_analyticW16W17W18', 'ns_sec_analyticW19', 'ns_sec_analyticW20']\n"
     ]
    }
   ],
   "source": [
    "ns_sec_analytic = amalgamate_waves(BES_Panel,\"ns_sec_analytic\")"
   ]
  },
  {
   "cell_type": "code",
   "execution_count": 45,
   "id": "1a8b3415",
   "metadata": {},
   "outputs": [
    {
     "name": "stdout",
     "output_type": "stream",
     "text": [
      "Amalgamating variables: \n",
      "{16: 'ns_secW16W17W18', 19: 'ns_secW19', 20: 'ns_secW20', 1: 'ns_secW1W2W3W4W5', 6: 'ns_secW6W7W8W9'} ['ns_secW1W2W3W4W5', 'ns_secW6W7W8W9', 'ns_secW16W17W18', 'ns_secW19', 'ns_secW20']\n"
     ]
    }
   ],
   "source": [
    "ns_sec = amalgamate_waves(BES_Panel,\"ns_secW\")"
   ]
  },
  {
   "cell_type": "code",
   "execution_count": 46,
   "id": "22c97823",
   "metadata": {},
   "outputs": [
    {
     "data": {
      "text/plain": [
       "Lower professional and managerial and higher supervisory    24782\n",
       "Intermediate occupations                                    16315\n",
       "Higher professional occupations                             10585\n",
       "Semi-routine occupations                                     8089\n",
       "Employers in small organisations and own account workers     5851\n",
       "Lower supervisory and technical occupations                  5077\n",
       "Routine occupations                                          4672\n",
       "Employers in large organisations and higher managerial       2717\n",
       "Name: ns_sec_analyticW1&6&16&19&20, dtype: int64"
      ]
     },
     "execution_count": 46,
     "metadata": {},
     "output_type": "execute_result"
    }
   ],
   "source": [
    "ns_sec_analytic.value_counts()"
   ]
  },
  {
   "cell_type": "code",
   "execution_count": 47,
   "id": "2e5cdc03",
   "metadata": {},
   "outputs": [],
   "source": [
    "df = BES_Panel[[]]\n",
    "pan_dataset_allr_values = pd.read_pickle(BES_small_data_files + \"pan_dataset_allr_valuesW19\"+\".zip\",compression='zip')\n",
    "index_overlap = set(BES_Panel.index).intersection(set(pan_dataset_allr_values.index))\n",
    "df[pan_dataset_allr_values.columns] = pan_dataset_allr_values.loc[index_overlap]\n",
    "pan_dataset_allr_values = df.sort_index()\n",
    "\n",
    "df = BES_Panel[[]]\n",
    "pan_dataset_ages = pd.read_pickle(BES_small_data_files + \"pan_dataset_ages\"+\".zip\",compression='zip')\n",
    "index_overlap = set(BES_Panel.index).intersection(set(pan_dataset_ages.index))\n",
    "df[pan_dataset_ages.columns] = pan_dataset_ages.loc[index_overlap]\n",
    "pan_dataset_ages = df.sort_index()\n"
   ]
  },
  {
   "cell_type": "code",
   "execution_count": null,
   "id": "7077b05e",
   "metadata": {},
   "outputs": [],
   "source": []
  },
  {
   "cell_type": "code",
   "execution_count": 48,
   "id": "00800942",
   "metadata": {},
   "outputs": [
    {
     "data": {
      "text/html": [
       "<div>\n",
       "<style scoped>\n",
       "    .dataframe tbody tr th:only-of-type {\n",
       "        vertical-align: middle;\n",
       "    }\n",
       "\n",
       "    .dataframe tbody tr th {\n",
       "        vertical-align: top;\n",
       "    }\n",
       "\n",
       "    .dataframe thead th {\n",
       "        text-align: right;\n",
       "    }\n",
       "</style>\n",
       "<table border=\"1\" class=\"dataframe\">\n",
       "  <thead>\n",
       "    <tr style=\"text-align: right;\">\n",
       "      <th></th>\n",
       "      <th>Economic: Left(0) &lt;-&gt; Right(200){uniform}</th>\n",
       "      <th>Social: Liberalism(0) &lt;-&gt; Conservatism(200){uniform}</th>\n",
       "      <th>Economic: Left &lt;-&gt; Right{gaussian-ish}</th>\n",
       "      <th>Social: Liberalism &lt;-&gt; Conservatism{gaussian-ish}</th>\n",
       "      <th>Economic: Left &lt;-&gt; Right{gaussian-ish}completish</th>\n",
       "      <th>Economic: Left &lt;-&gt; Right{gaussian-ish}complete</th>\n",
       "      <th>Social: Liberalism &lt;-&gt; Conservatism{gaussian-ish}completish</th>\n",
       "      <th>Social: Liberalism &lt;-&gt; Conservatism{gaussian-ish}complete</th>\n",
       "      <th>Economic: Left &lt;-&gt; Right{gaussian-ish}complete_fully</th>\n",
       "      <th>Social: Liberalism &lt;-&gt; Conservatism{gaussian-ish}complete_fully</th>\n",
       "    </tr>\n",
       "    <tr>\n",
       "      <th>id</th>\n",
       "      <th></th>\n",
       "      <th></th>\n",
       "      <th></th>\n",
       "      <th></th>\n",
       "      <th></th>\n",
       "      <th></th>\n",
       "      <th></th>\n",
       "      <th></th>\n",
       "      <th></th>\n",
       "      <th></th>\n",
       "    </tr>\n",
       "  </thead>\n",
       "  <tbody>\n",
       "    <tr>\n",
       "      <th>1</th>\n",
       "      <td>6.0</td>\n",
       "      <td>183.0</td>\n",
       "      <td>-1.913311</td>\n",
       "      <td>1.379564</td>\n",
       "      <td>-1.913311</td>\n",
       "      <td>-1.913311</td>\n",
       "      <td>1.379564</td>\n",
       "      <td>1.379564</td>\n",
       "      <td>-1.913311</td>\n",
       "      <td>1.379564</td>\n",
       "    </tr>\n",
       "    <tr>\n",
       "      <th>2</th>\n",
       "      <td>195.0</td>\n",
       "      <td>54.0</td>\n",
       "      <td>1.929016</td>\n",
       "      <td>-0.648342</td>\n",
       "      <td>1.929016</td>\n",
       "      <td>1.929016</td>\n",
       "      <td>-0.648342</td>\n",
       "      <td>-0.648342</td>\n",
       "      <td>1.929016</td>\n",
       "      <td>-0.648342</td>\n",
       "    </tr>\n",
       "    <tr>\n",
       "      <th>3</th>\n",
       "      <td>74.0</td>\n",
       "      <td>116.0</td>\n",
       "      <td>-0.313073</td>\n",
       "      <td>0.242132</td>\n",
       "      <td>-0.313073</td>\n",
       "      <td>-0.313073</td>\n",
       "      <td>0.242132</td>\n",
       "      <td>0.242132</td>\n",
       "      <td>-0.313073</td>\n",
       "      <td>0.242132</td>\n",
       "    </tr>\n",
       "    <tr>\n",
       "      <th>4</th>\n",
       "      <td>149.0</td>\n",
       "      <td>132.0</td>\n",
       "      <td>0.643054</td>\n",
       "      <td>0.470176</td>\n",
       "      <td>0.643054</td>\n",
       "      <td>0.643054</td>\n",
       "      <td>0.470176</td>\n",
       "      <td>0.470176</td>\n",
       "      <td>0.643054</td>\n",
       "      <td>0.470176</td>\n",
       "    </tr>\n",
       "    <tr>\n",
       "      <th>5</th>\n",
       "      <td>169.0</td>\n",
       "      <td>99.0</td>\n",
       "      <td>1.004469</td>\n",
       "      <td>0.012041</td>\n",
       "      <td>1.004469</td>\n",
       "      <td>1.004469</td>\n",
       "      <td>0.012041</td>\n",
       "      <td>0.012041</td>\n",
       "      <td>1.004469</td>\n",
       "      <td>0.012041</td>\n",
       "    </tr>\n",
       "    <tr>\n",
       "      <th>...</th>\n",
       "      <td>...</td>\n",
       "      <td>...</td>\n",
       "      <td>...</td>\n",
       "      <td>...</td>\n",
       "      <td>...</td>\n",
       "      <td>...</td>\n",
       "      <td>...</td>\n",
       "      <td>...</td>\n",
       "      <td>...</td>\n",
       "      <td>...</td>\n",
       "    </tr>\n",
       "    <tr>\n",
       "      <th>102854</th>\n",
       "      <td>NaN</td>\n",
       "      <td>NaN</td>\n",
       "      <td>NaN</td>\n",
       "      <td>NaN</td>\n",
       "      <td>NaN</td>\n",
       "      <td>NaN</td>\n",
       "      <td>NaN</td>\n",
       "      <td>NaN</td>\n",
       "      <td>NaN</td>\n",
       "      <td>NaN</td>\n",
       "    </tr>\n",
       "    <tr>\n",
       "      <th>102855</th>\n",
       "      <td>NaN</td>\n",
       "      <td>NaN</td>\n",
       "      <td>NaN</td>\n",
       "      <td>NaN</td>\n",
       "      <td>NaN</td>\n",
       "      <td>NaN</td>\n",
       "      <td>NaN</td>\n",
       "      <td>NaN</td>\n",
       "      <td>NaN</td>\n",
       "      <td>NaN</td>\n",
       "    </tr>\n",
       "    <tr>\n",
       "      <th>102856</th>\n",
       "      <td>NaN</td>\n",
       "      <td>NaN</td>\n",
       "      <td>NaN</td>\n",
       "      <td>NaN</td>\n",
       "      <td>NaN</td>\n",
       "      <td>NaN</td>\n",
       "      <td>NaN</td>\n",
       "      <td>NaN</td>\n",
       "      <td>NaN</td>\n",
       "      <td>NaN</td>\n",
       "    </tr>\n",
       "    <tr>\n",
       "      <th>102857</th>\n",
       "      <td>NaN</td>\n",
       "      <td>NaN</td>\n",
       "      <td>NaN</td>\n",
       "      <td>NaN</td>\n",
       "      <td>NaN</td>\n",
       "      <td>NaN</td>\n",
       "      <td>NaN</td>\n",
       "      <td>NaN</td>\n",
       "      <td>NaN</td>\n",
       "      <td>NaN</td>\n",
       "    </tr>\n",
       "    <tr>\n",
       "      <th>102858</th>\n",
       "      <td>NaN</td>\n",
       "      <td>NaN</td>\n",
       "      <td>NaN</td>\n",
       "      <td>NaN</td>\n",
       "      <td>NaN</td>\n",
       "      <td>NaN</td>\n",
       "      <td>NaN</td>\n",
       "      <td>NaN</td>\n",
       "      <td>NaN</td>\n",
       "      <td>NaN</td>\n",
       "    </tr>\n",
       "  </tbody>\n",
       "</table>\n",
       "<p>101413 rows × 10 columns</p>\n",
       "</div>"
      ],
      "text/plain": [
       "        Economic: Left(0) <-> Right(200){uniform}  \\\n",
       "id                                                  \n",
       "1                                             6.0   \n",
       "2                                           195.0   \n",
       "3                                            74.0   \n",
       "4                                           149.0   \n",
       "5                                           169.0   \n",
       "...                                           ...   \n",
       "102854                                        NaN   \n",
       "102855                                        NaN   \n",
       "102856                                        NaN   \n",
       "102857                                        NaN   \n",
       "102858                                        NaN   \n",
       "\n",
       "        Social: Liberalism(0) <-> Conservatism(200){uniform}  \\\n",
       "id                                                             \n",
       "1                                                   183.0      \n",
       "2                                                    54.0      \n",
       "3                                                   116.0      \n",
       "4                                                   132.0      \n",
       "5                                                    99.0      \n",
       "...                                                   ...      \n",
       "102854                                                NaN      \n",
       "102855                                                NaN      \n",
       "102856                                                NaN      \n",
       "102857                                                NaN      \n",
       "102858                                                NaN      \n",
       "\n",
       "        Economic: Left <-> Right{gaussian-ish}  \\\n",
       "id                                               \n",
       "1                                    -1.913311   \n",
       "2                                     1.929016   \n",
       "3                                    -0.313073   \n",
       "4                                     0.643054   \n",
       "5                                     1.004469   \n",
       "...                                        ...   \n",
       "102854                                     NaN   \n",
       "102855                                     NaN   \n",
       "102856                                     NaN   \n",
       "102857                                     NaN   \n",
       "102858                                     NaN   \n",
       "\n",
       "        Social: Liberalism <-> Conservatism{gaussian-ish}  \\\n",
       "id                                                          \n",
       "1                                                1.379564   \n",
       "2                                               -0.648342   \n",
       "3                                                0.242132   \n",
       "4                                                0.470176   \n",
       "5                                                0.012041   \n",
       "...                                                   ...   \n",
       "102854                                                NaN   \n",
       "102855                                                NaN   \n",
       "102856                                                NaN   \n",
       "102857                                                NaN   \n",
       "102858                                                NaN   \n",
       "\n",
       "        Economic: Left <-> Right{gaussian-ish}completish  \\\n",
       "id                                                         \n",
       "1                                              -1.913311   \n",
       "2                                               1.929016   \n",
       "3                                              -0.313073   \n",
       "4                                               0.643054   \n",
       "5                                               1.004469   \n",
       "...                                                  ...   \n",
       "102854                                               NaN   \n",
       "102855                                               NaN   \n",
       "102856                                               NaN   \n",
       "102857                                               NaN   \n",
       "102858                                               NaN   \n",
       "\n",
       "        Economic: Left <-> Right{gaussian-ish}complete  \\\n",
       "id                                                       \n",
       "1                                            -1.913311   \n",
       "2                                             1.929016   \n",
       "3                                            -0.313073   \n",
       "4                                             0.643054   \n",
       "5                                             1.004469   \n",
       "...                                                ...   \n",
       "102854                                             NaN   \n",
       "102855                                             NaN   \n",
       "102856                                             NaN   \n",
       "102857                                             NaN   \n",
       "102858                                             NaN   \n",
       "\n",
       "        Social: Liberalism <-> Conservatism{gaussian-ish}completish  \\\n",
       "id                                                                    \n",
       "1                                                1.379564             \n",
       "2                                               -0.648342             \n",
       "3                                                0.242132             \n",
       "4                                                0.470176             \n",
       "5                                                0.012041             \n",
       "...                                                   ...             \n",
       "102854                                                NaN             \n",
       "102855                                                NaN             \n",
       "102856                                                NaN             \n",
       "102857                                                NaN             \n",
       "102858                                                NaN             \n",
       "\n",
       "        Social: Liberalism <-> Conservatism{gaussian-ish}complete  \\\n",
       "id                                                                  \n",
       "1                                                1.379564           \n",
       "2                                               -0.648342           \n",
       "3                                                0.242132           \n",
       "4                                                0.470176           \n",
       "5                                                0.012041           \n",
       "...                                                   ...           \n",
       "102854                                                NaN           \n",
       "102855                                                NaN           \n",
       "102856                                                NaN           \n",
       "102857                                                NaN           \n",
       "102858                                                NaN           \n",
       "\n",
       "        Economic: Left <-> Right{gaussian-ish}complete_fully  \\\n",
       "id                                                             \n",
       "1                                               -1.913311      \n",
       "2                                                1.929016      \n",
       "3                                               -0.313073      \n",
       "4                                                0.643054      \n",
       "5                                                1.004469      \n",
       "...                                                   ...      \n",
       "102854                                                NaN      \n",
       "102855                                                NaN      \n",
       "102856                                                NaN      \n",
       "102857                                                NaN      \n",
       "102858                                                NaN      \n",
       "\n",
       "        Social: Liberalism <-> Conservatism{gaussian-ish}complete_fully  \n",
       "id                                                                       \n",
       "1                                                1.379564                \n",
       "2                                               -0.648342                \n",
       "3                                                0.242132                \n",
       "4                                                0.470176                \n",
       "5                                                0.012041                \n",
       "...                                                   ...                \n",
       "102854                                                NaN                \n",
       "102855                                                NaN                \n",
       "102856                                                NaN                \n",
       "102857                                                NaN                \n",
       "102858                                                NaN                \n",
       "\n",
       "[101413 rows x 10 columns]"
      ]
     },
     "execution_count": 48,
     "metadata": {},
     "output_type": "execute_result"
    }
   ],
   "source": [
    "pan_dataset_allr_values"
   ]
  },
  {
   "cell_type": "code",
   "execution_count": 49,
   "id": "cd76712f",
   "metadata": {},
   "outputs": [
    {
     "data": {
      "text/plain": [
       "id\n",
       "1         63.545502\n",
       "2         67.541886\n",
       "3         81.507320\n",
       "4         56.678701\n",
       "5         73.678701\n",
       "            ...    \n",
       "102854          NaN\n",
       "102855          NaN\n",
       "102856          NaN\n",
       "102857          NaN\n",
       "102858          NaN\n",
       "Name: Age_at_W19, Length: 101413, dtype: float64"
      ]
     },
     "execution_count": 49,
     "metadata": {},
     "output_type": "execute_result"
    }
   ],
   "source": [
    "pan_dataset_ages[\"Age_at_W19\"]"
   ]
  },
  {
   "cell_type": "code",
   "execution_count": 50,
   "id": "3df911c5",
   "metadata": {},
   "outputs": [],
   "source": [
    "df = pan_dataset_allr_values.copy()\n",
    "df[\"ns_sec\"] = ns_sec\n",
    "df[\"ns_sec_analytic\"] = ns_sec_analytic"
   ]
  },
  {
   "cell_type": "code",
   "execution_count": 51,
   "id": "997edb59",
   "metadata": {},
   "outputs": [],
   "source": [
    "df[\"Age_at_W19\"] = pan_dataset_ages[\"Age_at_W19\"]"
   ]
  },
  {
   "cell_type": "code",
   "execution_count": null,
   "id": "59e5f4d7",
   "metadata": {},
   "outputs": [],
   "source": []
  },
  {
   "cell_type": "code",
   "execution_count": 52,
   "id": "65fdbbb7",
   "metadata": {},
   "outputs": [
    {
     "name": "stderr",
     "output_type": "stream",
     "text": [
      "No handles with labels found to put in legend.\n"
     ]
    },
    {
     "data": {
      "text/plain": [
       "<matplotlib.legend.Legend at 0x21d4f5c3248>"
      ]
     },
     "execution_count": 52,
     "metadata": {},
     "output_type": "execute_result"
    },
    {
     "data": {
      "text/plain": [
       "<Figure size 1152x864 with 0 Axes>"
      ]
     },
     "metadata": {},
     "output_type": "display_data"
    },
    {
     "data": {
      "image/png": "[encoded data removed]",
      "text/plain": [
       "<Figure size 432x432 with 3 Axes>"
      ]
     },
     "metadata": {},
     "output_type": "display_data"
    }
   ],
   "source": [
    "mask = df[['Economic: Left(0) <-> Right(200){uniform}',\n",
    "       'Social: Liberalism(0) <-> Conservatism(200){uniform}',\n",
    "       'ns_sec', 'ns_sec_analytic']].notnull().all(axis=1)\n",
    "\n",
    "plt.figure(figsize=(16,12))\n",
    "sns.jointplot(data=df[mask],\n",
    "                x='Economic: Left(0) <-> Right(200){uniform}',\n",
    "                y='Social: Liberalism(0) <-> Conservatism(200){uniform}',\n",
    "                hue='ns_sec_analytic',kind='kde')\n",
    "\n",
    "#sns.displot(penguins, x=\"bill_length_mm\", y=\"bill_depth_mm\", hue=\"species\", kind=\"kde\")\n",
    "# Put the legend out of the figure\n",
    "plt.legend(bbox_to_anchor=(1.05, 1), loc=2, borderaxespad=0.)"
   ]
  },
  {
   "cell_type": "code",
   "execution_count": null,
   "id": "db600b8b",
   "metadata": {},
   "outputs": [],
   "source": []
  },
  {
   "cell_type": "code",
   "execution_count": 53,
   "id": "910fb264",
   "metadata": {},
   "outputs": [
    {
     "name": "stderr",
     "output_type": "stream",
     "text": [
      "No handles with labels found to put in legend.\n"
     ]
    },
    {
     "data": {
      "text/plain": [
       "<matplotlib.legend.Legend at 0x21d5367e448>"
      ]
     },
     "execution_count": 53,
     "metadata": {},
     "output_type": "execute_result"
    },
    {
     "data": {
      "text/plain": [
       "<Figure size 1152x864 with 0 Axes>"
      ]
     },
     "metadata": {},
     "output_type": "display_data"
    },
    {
     "data": {
      "image/png": "[encoded data removed]",
      "text/plain": [
       "<Figure size 432x432 with 3 Axes>"
      ]
     },
     "metadata": {},
     "output_type": "display_data"
    }
   ],
   "source": [
    "mask = df[['Economic: Left(0) <-> Right(200){uniform}',\n",
    "       'Social: Liberalism(0) <-> Conservatism(200){uniform}',\n",
    "       'ns_sec', 'ns_sec_analytic']].notnull().all(axis=1)\n",
    "mask = mask & (df[\"Age_at_W19\"]>=30)&(df[\"Age_at_W19\"]<40)\n",
    "\n",
    "plt.figure(figsize=(16,12))\n",
    "g = sns.jointplot(data=df[mask],\n",
    "                x='Economic: Left(0) <-> Right(200){uniform}',\n",
    "                y='Social: Liberalism(0) <-> Conservatism(200){uniform}',\n",
    "                hue='ns_sec_analytic',kind='kde',levels=2, thresh=.2,common_norm=True,legend=False)\n",
    "\n",
    "#sns.displot(penguins, x=\"bill_length_mm\", y=\"bill_depth_mm\", hue=\"species\", kind=\"kde\")\n",
    "# Put the legend out of the figure\n",
    "g.fig.legend(loc='center left', bbox_to_anchor=(1.25, 0.5), ncol=1)\n",
    "# g.fig.title(\"30-40 only\");"
   ]
  },
  {
   "cell_type": "code",
   "execution_count": 54,
   "id": "0c9d628f",
   "metadata": {},
   "outputs": [
    {
     "data": {
      "text/plain": [
       "Lower professional and managerial and higher supervisory    24782\n",
       "Intermediate occupations                                    16315\n",
       "Higher professional occupations                             10585\n",
       "Semi-routine occupations                                     8089\n",
       "Employers in small organisations and own account workers     5851\n",
       "Lower supervisory and technical occupations                  5077\n",
       "Routine occupations                                          4672\n",
       "Employers in large organisations and higher managerial       2717\n",
       "Name: ns_sec_analytic, dtype: int64"
      ]
     },
     "execution_count": 54,
     "metadata": {},
     "output_type": "execute_result"
    }
   ],
   "source": [
    "df[\"ns_sec_analytic\"].value_counts()"
   ]
  },
  {
   "cell_type": "code",
   "execution_count": null,
   "id": "9eab3da4",
   "metadata": {},
   "outputs": [],
   "source": []
  },
  {
   "cell_type": "code",
   "execution_count": null,
   "id": "b4b3b03f",
   "metadata": {},
   "outputs": [],
   "source": []
  },
  {
   "cell_type": "code",
   "execution_count": null,
   "id": "5509b54d",
   "metadata": {},
   "outputs": [],
   "source": []
  },
  {
   "cell_type": "code",
   "execution_count": null,
   "id": "12bca1f1",
   "metadata": {},
   "outputs": [],
   "source": []
  },
  {
   "cell_type": "code",
   "execution_count": null,
   "id": "f822f855",
   "metadata": {},
   "outputs": [],
   "source": []
  }
 ],
 "metadata": {
  "kernelspec": {
   "display_name": "Python 3 (ipykernel)",
   "language": "python",
   "name": "python3"
  },
  "language_info": {
   "codemirror_mode": {
    "name": "ipython",
    "version": 3
   },
   "file_extension": ".py",
   "mimetype": "text/x-python",
   "name": "python",
   "nbconvert_exporter": "python",
   "pygments_lexer": "ipython3",
   "version": "3.9.19"
  }
 },
 "nbformat": 4,
 "nbformat_minor": 5
}
