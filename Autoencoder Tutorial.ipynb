{
 "cells": [
  {
   "cell_type": "code",
   "execution_count": 1,
   "id": "0a4707b6",
   "metadata": {},
   "outputs": [],
   "source": [
    "import tensorflow as tf\n",
    "from tensorflow.python.keras.layers import Dense\n",
    "from tensorflow.python.keras.models import Sequential\n",
    "from tensorflow.python.keras.callbacks import EarlyStopping\n",
    "import time\n",
    "# from keras.utils.np_utils import to_categorical\n",
    "from tensorflow.python.keras.utils.np_utils import to_categorical\n",
    "# from tensorflow.python.keras.utils import to_categorical\n",
    "\n",
    "import shap\n",
    "from tensorflow.python.ops import gradients_impl as tf_gradients_impl\n",
    "tf_gradients_impl._IsBackpropagatable=True\n",
    "\n",
    "import matplotlib.pyplot as plt\n",
    "import numpy as np\n",
    "import pandas as pd\n",
    "import tensorflow as tf\n",
    "\n",
    "from sklearn.metrics import accuracy_score, precision_score, recall_score\n",
    "from sklearn.model_selection import train_test_split\n",
    "from tensorflow.python.keras import layers, losses\n",
    "from tensorflow.python.keras.datasets import fashion_mnist\n",
    "from tensorflow.python.keras.models import Model\n",
    "\n",
    "from tensorflow.python.keras.layers import Input, Dense\n",
    "from tensorflow.python.keras.models import Model\n",
    "from tensorflow.python.keras import regularizers\n",
    "from tensorflow.python.keras.datasets import mnist\n",
    "from tensorflow.python.keras import backend as K\n",
    "import numpy as np\n",
    "import matplotlib.pyplot as plt\n",
    "import pickle\n",
    "\n",
    "from sklearn.model_selection import train_test_split\n",
    "\n",
    "from sklearn.preprocessing import OrdinalEncoder\n",
    "from tensorflow.python.keras.layers import InputLayer\n",
    "from sklearn.preprocessing import OneHotEncoder\n",
    "\n",
    "from tensorflow.python.keras.models import Model, load_model\n",
    "from tensorflow.python.keras.layers import Input, Dense, Layer, InputSpec\n",
    "from tensorflow.python.keras.callbacks import ModelCheckpoint, TensorBoard\n",
    "from tensorflow.python.keras import regularizers, activations, initializers, constraints, Sequential\n",
    "from tensorflow.python.keras import backend as K\n",
    "from tensorflow.python.keras.constraints import UnitNorm, Constraint"
   ]
  },
  {
   "cell_type": "code",
   "execution_count": 2,
   "id": "f6b47a11",
   "metadata": {},
   "outputs": [],
   "source": [
    "# from tensorflow.python.keras.utils import to_categorical"
   ]
  },
  {
   "cell_type": "code",
   "execution_count": null,
   "id": "72aaf75b",
   "metadata": {},
   "outputs": [],
   "source": [
    "\n",
    "\n"
   ]
  },
  {
   "cell_type": "code",
   "execution_count": 3,
   "id": "46232bed",
   "metadata": {},
   "outputs": [],
   "source": [
    "class DenseTied(Layer):\n",
    "    def __init__(self, units,\n",
    "                 activation=None,\n",
    "                 use_bias=True,\n",
    "                 kernel_initializer='glorot_uniform',\n",
    "                 bias_initializer='zeros',\n",
    "                 kernel_regularizer=None,\n",
    "                 bias_regularizer=None,\n",
    "                 activity_regularizer=None,\n",
    "                 kernel_constraint=None,\n",
    "                 bias_constraint=None,\n",
    "                 tied_to=None,\n",
    "                 **kwargs):\n",
    "        self.tied_to = tied_to\n",
    "        if 'input_shape' not in kwargs and 'input_dim' in kwargs:\n",
    "            kwargs['input_shape'] = (kwargs.pop('input_dim'),)\n",
    "        super().__init__(**kwargs)\n",
    "        self.units = units\n",
    "        self.activation = activations.get(activation)\n",
    "        self.use_bias = use_bias\n",
    "        self.kernel_initializer = initializers.get(kernel_initializer)\n",
    "        self.bias_initializer = initializers.get(bias_initializer)\n",
    "        self.kernel_regularizer = regularizers.get(kernel_regularizer)\n",
    "        self.bias_regularizer = regularizers.get(bias_regularizer)\n",
    "        self.activity_regularizer = regularizers.get(activity_regularizer)\n",
    "        self.kernel_constraint = constraints.get(kernel_constraint)\n",
    "        self.bias_constraint = constraints.get(bias_constraint)\n",
    "        self.input_spec = InputSpec(min_ndim=2)\n",
    "        self.supports_masking = True\n",
    "                \n",
    "    def build(self, input_shape):\n",
    "        assert len(input_shape) >= 2\n",
    "        input_dim = input_shape[-1]\n",
    "\n",
    "        if self.tied_to is not None:\n",
    "            self.kernel = K.transpose(self.tied_to.kernel)\n",
    "            self._non_trainable_weights.append(self.kernel)\n",
    "        else:\n",
    "            self.kernel = self.add_weight(shape=(input_dim, self.units),\n",
    "                                          initializer=self.kernel_initializer,\n",
    "                                          name='kernel',\n",
    "                                          regularizer=self.kernel_regularizer,\n",
    "                                          constraint=self.kernel_constraint)\n",
    "        if self.use_bias:\n",
    "            self.bias = self.add_weight(shape=(self.units,),\n",
    "                                        initializer=self.bias_initializer,\n",
    "                                        name='bias',\n",
    "                                        regularizer=self.bias_regularizer,\n",
    "                                        constraint=self.bias_constraint)\n",
    "        else:\n",
    "            self.bias = None\n",
    "        self.input_spec = InputSpec(min_ndim=2, axes={-1: input_dim})\n",
    "        self.built = True\n",
    "\n",
    "    def compute_output_shape(self, input_shape):\n",
    "        assert input_shape and len(input_shape) >= 2\n",
    "        output_shape = list(input_shape)\n",
    "        output_shape[-1] = self.units\n",
    "        return tuple(output_shape)\n",
    "\n",
    "    def call(self, inputs):\n",
    "        output = K.dot(inputs, self.kernel)\n",
    "        if self.use_bias:\n",
    "            output = K.bias_add(output, self.bias, data_format='channels_last')\n",
    "        if self.activation is not None:\n",
    "            output = self.activation(output)\n",
    "        return output\n",
    "\n",
    "class WeightsOrthogonalityConstraint (Constraint):\n",
    "    def __init__(self, encoding_dim, weightage = 1.0, axis = 0):\n",
    "        self.encoding_dim = encoding_dim\n",
    "        self.weightage = weightage\n",
    "        self.axis = axis\n",
    "        \n",
    "    def weights_orthogonality(self, w):\n",
    "        if(self.axis==1):\n",
    "            w = K.transpose(w)\n",
    "        if(self.encoding_dim > 1):\n",
    "            m = K.dot(K.transpose(w), w) - K.eye(self.encoding_dim)\n",
    "            return self.weightage * K.sqrt(K.sum(K.square(m)))\n",
    "        else:\n",
    "            m = K.sum(w ** 2) - 1.\n",
    "            return m\n",
    "\n",
    "    def __call__(self, w):\n",
    "        return self.weights_orthogonality(w)\n",
    "    \n",
    "class UncorrelatedFeaturesConstraint(Constraint):\n",
    "    \n",
    "    def __init__(self, encoding_dim, weightage = 1.0):\n",
    "        self.encoding_dim = encoding_dim\n",
    "        self.weightage = weightage\n",
    "    \n",
    "    def get_covariance(self, x):\n",
    "        x_centered_list = []\n",
    "\n",
    "        for i in range(self.encoding_dim):\n",
    "            x_centered_list.append(x[:, i] - K.mean(x[:, i]))\n",
    "        \n",
    "        x_centered = tf.stack(x_centered_list)\n",
    "        covariance = K.dot(x_centered, K.transpose(x_centered)) / tf.cast(x_centered.get_shape()[0], tf.float32)\n",
    "        \n",
    "        return covariance\n",
    "            \n",
    "    # Constraint penalty\n",
    "    def uncorrelated_feature(self, x):\n",
    "        if(self.encoding_dim <= 1):\n",
    "            return 0.0\n",
    "        else:\n",
    "#             output = K.sum(K.square(\n",
    "#                 self.covariance - tf.matmul(self.covariance, K.eye(self.encoding_dim))))\n",
    "            output = tf.reduce_sum(tf.square(\n",
    "                self.covariance - tf.matmul(self.covariance, tf.eye(self.encoding_dim))))            \n",
    "            \n",
    "            # FIXED ???\n",
    "         # still don't know what the problem is here!\n",
    "# https://stackoverflow.com/questions/57836849/tensorflow-keras-custom-constraint-not-working        \n",
    "# https://stackoverflow.com/questions/53751024/tying-autoencoder-weights-in-a-dense-keras-layer        \n",
    "        \n",
    "            # tf.math.multiply\n",
    "            return output\n",
    "\n",
    "    def __call__(self, x):\n",
    "        self.covariance = self.get_covariance(x)\n",
    "        return self.weightage * self.uncorrelated_feature(x)   \n",
    "    \n",
    "def extract_layers(main_model, starting_layer_ix, ending_layer_ix, input_shape):\n",
    "  # create an empty model\n",
    "    new_model = Sequential()\n",
    "    first_layer =True\n",
    "    for ix in range(starting_layer_ix, ending_layer_ix + 1):\n",
    "        curr_layer = main_model.get_layer(index=ix)\n",
    "        # copy this layer over to the new model\n",
    "        if first_layer:\n",
    "            new_model.add(input_shape)\n",
    "            first_layer=False\n",
    "        new_model.add(curr_layer)\n",
    "    return new_model    "
   ]
  },
  {
   "cell_type": "code",
   "execution_count": 4,
   "id": "7426c738",
   "metadata": {},
   "outputs": [],
   "source": [
    "import keras.backend as K\n",
    "def matthews_correlation(y_true, y_pred):\n",
    "    y_pred_pos = K.round(K.clip(y_pred, 0, 1))\n",
    "    y_pred_neg = 1 - y_pred_pos\n",
    "\n",
    "    y_pos = K.round(K.clip(y_true, 0, 1))\n",
    "    y_neg = 1 - y_pos\n",
    "\n",
    "    tp = K.sum(y_pos * y_pred_pos)\n",
    "    tn = K.sum(y_neg * y_pred_neg)\n",
    "\n",
    "    fp = K.sum(y_neg * y_pred_pos)\n",
    "    fn = K.sum(y_pos * y_pred_neg)\n",
    "\n",
    "    numerator = (tp * tn - fp * fn)\n",
    "    denominator = K.sqrt((tp + fp) * (tp + fn) * (tn + fp) * (tn + fn))\n",
    "\n",
    "    return numerator / (denominator + K.epsilon())\n",
    "\n",
    "def dice_loss(y_true, y_pred):\n",
    "    y_true = tf.cast(y_true, tf.float32)\n",
    "    y_pred = tf.math.sigmoid(y_pred)\n",
    "    numerator = 2 * tf.reduce_sum(y_true * y_pred)\n",
    "    denominator = tf.reduce_sum(y_true + y_pred)\n",
    "\n",
    "    return 1 - numerator / denominator\n",
    "\n",
    "def balanced_cross_entropy(y_true, y_pred):\n",
    "    \n",
    "    beta = beta = tf.reduce_mean(1 - y_true)\n",
    "    weight_a = beta * tf.cast(y_true, tf.float32)\n",
    "    weight_b = (1 - beta) * tf.cast(1 - y_true, tf.float32)\n",
    "\n",
    "    o = (tf.math.log1p(tf.exp(-tf.abs(y_pred))) + tf.nn.relu(-y_pred)) * (weight_a + weight_b) + y_pred * weight_b\n",
    "    return tf.reduce_mean(o)"
   ]
  },
  {
   "cell_type": "code",
   "execution_count": 5,
   "id": "842b04b7",
   "metadata": {},
   "outputs": [],
   "source": [
    "# %%time\n",
    "# dataset_name = \"W20_only\"\n",
    "# df_list = \"BES_Panel\"\n",
    "\n",
    "# %matplotlib inline \n",
    "# %run BES_header.py {dataset_name} {df_list}\n",
    "# (var_type, cat_dictionary, new_old_col_names, old_new_col_names) = get_small_files(data_subfolder, encoding)    \n",
    "# # get full set of inferred \"cross wave\" auth-lib/left-right values and ages\n",
    "# # pan_dataset_allr_values = pd.read_pickle(BES_small_data_files + \"pan_dataset_allr_valuesW19\"+\".zip\",compression='zip')\n",
    "# # # pan_dataset_allr_values = pan_dataset_allr_values.loc[BES_Panel.index].sort_index()\n",
    "# # pan_dataset_ages = pd.read_pickle(BES_small_data_files + \"pan_dataset_ages\"+\".zip\", compression='zip')\n",
    "# # pan_dataset_votes = pd.read_pickle(BES_small_data_files+\"pan_dataset_votes\"+\".zip\",compression='zip')\n"
   ]
  },
  {
   "cell_type": "code",
   "execution_count": 6,
   "id": "9c64dc80",
   "metadata": {},
   "outputs": [],
   "source": [
    "# from tensorflow.python.keras.layers import Multiply"
   ]
  },
  {
   "cell_type": "code",
   "execution_count": null,
   "id": "7b7282ed",
   "metadata": {},
   "outputs": [],
   "source": []
  },
  {
   "cell_type": "code",
   "execution_count": null,
   "id": "0513d66c",
   "metadata": {},
   "outputs": [],
   "source": []
  },
  {
   "cell_type": "code",
   "execution_count": 7,
   "id": "12244763",
   "metadata": {},
   "outputs": [],
   "source": [
    "# import numpy as np\n",
    "# import pandas as pd\n",
    "# %matplotlib inline\n",
    "# import matplotlib.pyplot as plt\n",
    "# import gc\n",
    "# import re\n",
    "\n",
    "# from itertools import cycle\n",
    "# from IPython.display import display\n",
    "# import pickle, os\n",
    "\n",
    "# import seaborn as sns\n",
    "\n",
    "# encoding = \"ISO-8859-1\"\n",
    "\n",
    "# import Jupyter_module_loader"
   ]
  },
  {
   "cell_type": "code",
   "execution_count": 8,
   "id": "5c8b32ae",
   "metadata": {},
   "outputs": [],
   "source": [
    "# import numpy as np, pandas as pd, matplotlib.pyplot as plt, seaborn as sns\n",
    "# import pickle, os, gc, re\n",
    "\n",
    "# from IPython.display import display\n",
    "\n",
    "# import Jupyter_module_loader\n",
    "# # from utility import *"
   ]
  },
  {
   "cell_type": "code",
   "execution_count": 9,
   "id": "09dc2979",
   "metadata": {},
   "outputs": [
    {
     "data": {
      "text/html": [
       "<script>jQuery(function() {if (jQuery(\"body.notebook_app\").length == 0) { jQuery(\".input_area\").toggle(); jQuery(\".prompt\").toggle();}});</script>"
      ]
     },
     "metadata": {},
     "output_type": "display_data"
    },
    {
     "data": {
      "text/html": [
       "<button onclick=\"jQuery('.input_area').toggle(); jQuery('.prompt').toggle();\">Toggle code</button>"
      ]
     },
     "metadata": {},
     "output_type": "display_data"
    },
    {
     "name": "stderr",
     "output_type": "stream",
     "text": [
      "WARNING:param.Config: Use method 'set_param' via param namespace \n",
      "WARNING:param.Dimension: Use method 'get_param_values' via param namespace \n",
      "WARNING:param.Dimension: Use method 'get_param_values' via param namespace \n",
      "WARNING:param.Dimension: Use method 'get_param_values' via param namespace \n",
      "WARNING:param.Dimension: Use method 'get_param_values' via param namespace \n",
      "WARNING:param.Dimension: Use method 'get_param_values' via param namespace \n",
      "WARNING:param.Dimension: Use method 'get_param_values' via param namespace \n",
      "WARNING:param.Dimension: Use method 'get_param_values' via param namespace \n",
      "WARNING:param.Dimension: Use method 'get_param_values' via param namespace \n",
      "WARNING:param.Dimension: Use method 'get_param_values' via param namespace \n",
      "WARNING:param.Dimension: Use method 'get_param_values' via param namespace \n",
      "WARNING:param.Dimension: Use method 'get_param_values' via param namespace \n",
      "WARNING:param.Dimension: Use method 'get_param_values' via param namespace \n",
      "WARNING:param.Dimension: Use method 'get_param_values' via param namespace \n",
      "WARNING:param.Dimension: Use method 'get_param_values' via param namespace \n",
      "WARNING:param.Dimension: Use method 'get_param_values' via param namespace \n",
      "WARNING:param.Dimension: Use method 'get_param_values' via param namespace \n",
      "WARNING:param.Dimension: Use method 'get_param_values' via param namespace \n",
      "WARNING:param.Dimension: Use method 'get_param_values' via param namespace \n",
      "WARNING:param.Dimension: Use method 'get_param_values' via param namespace \n",
      "WARNING:param.Dimension: Use method 'get_param_values' via param namespace \n",
      "WARNING:param.Dimension: Use method 'get_param_values' via param namespace \n",
      "WARNING:param.Dimension: Use method 'get_param_values' via param namespace \n",
      "WARNING:param.Dimension: Use method 'get_param_values' via param namespace \n",
      "WARNING:param.Dimension: Use method 'get_param_values' via param namespace \n",
      "WARNING:param.Dimension: Use method 'get_param_values' via param namespace \n",
      "WARNING:param.Dimension: Use method 'get_param_values' via param namespace \n",
      "WARNING:param.Dimension: Use method 'get_param_values' via param namespace \n",
      "WARNING:param.Dimension: Use method 'get_param_values' via param namespace \n",
      "WARNING:param.Dimension: Use method 'get_param_values' via param namespace \n",
      "WARNING:param.Dimension: Use method 'get_param_values' via param namespace \n",
      "WARNING:param.Dimension: Use method 'get_param_values' via param namespace \n",
      "WARNING:param.Dimension: Use method 'get_param_values' via param namespace \n",
      "WARNING:param.Dimension: Use method 'get_param_values' via param namespace \n",
      "WARNING:param.Dimension: Use method 'get_param_values' via param namespace \n",
      "WARNING:param.Dimension: Use method 'get_param_values' via param namespace \n",
      "WARNING:param.Dimension: Use method 'get_param_values' via param namespace \n",
      "WARNING:param.Dimension: Use method 'get_param_values' via param namespace \n",
      "WARNING:param.Dimension: Use method 'get_param_values' via param namespace \n",
      "WARNING:param.Dimension: Use method 'get_param_values' via param namespace \n",
      "WARNING:param.Dimension: Use method 'get_param_values' via param namespace \n",
      "WARNING:param.Dimension: Use method 'get_param_values' via param namespace \n",
      "WARNING:param.Dimension: Use method 'get_param_values' via param namespace \n",
      "WARNING:param.Dimension: Use method 'get_param_values' via param namespace \n",
      "WARNING:param.Dimension: Use method 'get_param_values' via param namespace \n",
      "WARNING:param.Dimension: Use method 'get_param_values' via param namespace \n",
      "WARNING:param.Dimension: Use method 'get_param_values' via param namespace \n",
      "WARNING:param.Dimension: Use method 'get_param_values' via param namespace \n",
      "WARNING:param.Dimension: Use method 'get_param_values' via param namespace \n",
      "WARNING:param.Dimension: Use method 'get_param_values' via param namespace \n",
      "WARNING:param.Dimension: Use method 'get_param_values' via param namespace \n",
      "WARNING:param.Dimension: Use method 'get_param_values' via param namespace \n",
      "WARNING:param.Dimension: Use method 'get_param_values' via param namespace \n",
      "WARNING:param.Dimension: Use method 'get_param_values' via param namespace \n",
      "WARNING:param.Dimension: Use method 'get_param_values' via param namespace \n",
      "WARNING:param.Dimension: Use method 'get_param_values' via param namespace \n",
      "WARNING:param.Dimension: Use method 'get_param_values' via param namespace \n",
      "WARNING:param.Dimension: Use method 'get_param_values' via param namespace \n",
      "WARNING:param.Dimension: Use method 'get_param_values' via param namespace \n",
      "WARNING:param.Dimension: Use method 'get_param_values' via param namespace \n",
      "WARNING:param.Dimension: Use method 'get_param_values' via param namespace \n",
      "WARNING:param.Dimension: Use method 'get_param_values' via param namespace \n",
      "WARNING:param.Dimension: Use method 'get_param_values' via param namespace \n",
      "WARNING:param.Dimension: Use method 'get_param_values' via param namespace \n",
      "WARNING:param.Dimension: Use method 'get_param_values' via param namespace \n",
      "WARNING:param.Dimension: Use method 'get_param_values' via param namespace \n",
      "WARNING:param.Dimension: Use method 'get_param_values' via param namespace \n",
      "WARNING:param.Dimension: Use method 'get_param_values' via param namespace \n",
      "WARNING:param.Dimension: Use method 'get_param_values' via param namespace \n",
      "WARNING:param.Dimension: Use method 'get_param_values' via param namespace \n",
      "WARNING:param.Dimension: Use method 'get_param_values' via param namespace \n",
      "WARNING:param.Dimension: Use method 'get_param_values' via param namespace \n",
      "WARNING:param.Dimension: Use method 'get_param_values' via param namespace \n",
      "WARNING:param.Dimension: Use method 'get_param_values' via param namespace \n",
      "WARNING:param.Dimension: Use method 'get_param_values' via param namespace \n",
      "WARNING:param.Dimension: Use method 'get_param_values' via param namespace \n",
      "WARNING:param.Dimension: Use method 'get_param_values' via param namespace \n",
      "WARNING:param.Dimension: Use method 'get_param_values' via param namespace \n",
      "WARNING:param.Dimension: Use method 'get_param_values' via param namespace \n",
      "WARNING:param.Dimension: Use method 'get_param_values' via param namespace \n",
      "WARNING:param.Dimension: Use method 'get_param_values' via param namespace \n",
      "WARNING:param.Dimension: Use method 'get_param_values' via param namespace \n",
      "WARNING:param.Dimension: Use method 'get_param_values' via param namespace \n",
      "WARNING:param.Dimension: Use method 'get_param_values' via param namespace \n",
      "WARNING:param.Dimension: Use method 'get_param_values' via param namespace \n",
      "WARNING:param.Dimension: Use method 'get_param_values' via param namespace \n",
      "WARNING:param.Dimension: Use method 'get_param_values' via param namespace \n",
      "WARNING:param.Dimension: Use method 'get_param_values' via param namespace \n",
      "WARNING:param.Dimension: Use method 'get_param_values' via param namespace \n",
      "WARNING:param.Dimension: Use method 'get_param_values' via param namespace \n",
      "WARNING:param.Dimension: Use method 'get_param_values' via param namespace \n",
      "WARNING:param.Dimension: Use method 'get_param_values' via param namespace \n",
      "WARNING:param.Dimension: Use method 'get_param_values' via param namespace \n",
      "WARNING:param.Dimension: Use method 'get_param_values' via param namespace \n",
      "WARNING:param.Dimension: Use method 'get_param_values' via param namespace \n",
      "WARNING:param.Dimension: Use method 'get_param_values' via param namespace \n",
      "WARNING:param.Dimension: Use method 'get_param_values' via param namespace \n",
      "WARNING:param.Dimension: Use method 'get_param_values' via param namespace \n",
      "WARNING:param.Dimension: Use method 'get_param_values' via param namespace \n",
      "WARNING:param.Dimension: Use method 'get_param_values' via param namespace \n",
      "WARNING:param.Dimension: Use method 'get_param_values' via param namespace \n",
      "WARNING:param.Dimension: Use method 'get_param_values' via param namespace \n",
      "WARNING:param.Dimension: Use method 'get_param_values' via param namespace \n",
      "WARNING:param.Dimension: Use method 'get_param_values' via param namespace \n",
      "WARNING:param.Dimension: Use method 'get_param_values' via param namespace \n",
      "WARNING:param.Dimension: Use method 'get_param_values' via param namespace \n",
      "WARNING:param.Dimension: Use method 'get_param_values' via param namespace \n",
      "WARNING:param.Dimension: Use method 'get_param_values' via param namespace \n"
     ]
    },
    {
     "name": "stderr",
     "output_type": "stream",
     "text": [
      "WARNING:param.Dimension: Use method 'get_param_values' via param namespace \n",
      "WARNING:param.Dimension: Use method 'get_param_values' via param namespace \n",
      "WARNING:param.Dimension: Use method 'get_param_values' via param namespace \n",
      "WARNING:param.Dimension: Use method 'get_param_values' via param namespace \n",
      "WARNING:param.Dimension: Use method 'get_param_values' via param namespace \n",
      "WARNING:param.Dimension: Use method 'get_param_values' via param namespace \n",
      "WARNING:param.Dimension: Use method 'get_param_values' via param namespace \n",
      "WARNING:param.Dimension: Use method 'get_param_values' via param namespace \n",
      "WARNING:param.Dimension: Use method 'get_param_values' via param namespace \n",
      "WARNING:param.Dimension: Use method 'get_param_values' via param namespace \n",
      "WARNING:param.Dimension: Use method 'get_param_values' via param namespace \n",
      "WARNING:param.Dimension: Use method 'get_param_values' via param namespace \n",
      "WARNING:param.Dimension: Use method 'get_param_values' via param namespace \n",
      "WARNING:param.Dimension: Use method 'get_param_values' via param namespace \n",
      "WARNING:param.Dimension: Use method 'get_param_values' via param namespace \n",
      "WARNING:param.Dimension: Use method 'get_param_values' via param namespace \n",
      "WARNING:param.Dimension: Use method 'get_param_values' via param namespace \n",
      "WARNING:param.Dimension: Use method 'get_param_values' via param namespace \n",
      "WARNING:param.Dimension: Use method 'get_param_values' via param namespace \n",
      "WARNING:param.Dimension: Use method 'get_param_values' via param namespace \n",
      "WARNING:param.Dimension: Use method 'get_param_values' via param namespace \n",
      "WARNING:param.Dimension: Use method 'get_param_values' via param namespace \n"
     ]
    },
    {
     "name": "stdout",
     "output_type": "stream",
     "text": [
      "var_type (354, 13)\n",
      "Wall time: 3.41 s\n"
     ]
    }
   ],
   "source": [
    "%%time\n",
    "dataset_name = \"W10_only\"\n",
    "df_list = \"BES_reduced\"\n",
    "\n",
    "%matplotlib inline \n",
    "%run BES_header.py {dataset_name} {df_list}\n",
    "(var_type, cat_dictionary, new_old_col_names, old_new_col_names) = get_small_files(data_subfolder, encoding)    \n",
    "# get full set of inferred \"cross wave\" auth-lib/left-right values and ages\n",
    "pan_dataset_allr_values = pd.read_pickle(BES_small_data_files + \"pan_dataset_allr_valuesW19\"+\".zip\",compression='zip')\n",
    "# pan_dataset_allr_values = pan_dataset_allr_values.loc[BES_Panel.index].sort_index()\n",
    "pan_dataset_ages = pd.read_pickle(BES_small_data_files + \"pan_dataset_ages\"+\".zip\", compression='zip')\n",
    "pan_dataset_votes = pd.read_pickle(BES_small_data_files+\"pan_dataset_votes\"+\".zip\",compression='zip')\n"
   ]
  },
  {
   "cell_type": "code",
   "execution_count": null,
   "id": "bac404f7",
   "metadata": {},
   "outputs": [],
   "source": []
  },
  {
   "cell_type": "code",
   "execution_count": 10,
   "id": "202c8a92",
   "metadata": {},
   "outputs": [],
   "source": [
    "# warnings - don't know why, online comments suggest just blocking\n",
    "# tf.logging.set_verbosity(tf.logging.ERROR)"
   ]
  },
  {
   "cell_type": "code",
   "execution_count": 11,
   "id": "697a587c",
   "metadata": {},
   "outputs": [
    {
     "data": {
      "text/plain": [
       "['profile_eurefvote_Leave the EU',\n",
       " 'euRefVote_Leave the EU',\n",
       " 'euID_The leave side',\n",
       " 'happyEULeave__Extremely happy']"
      ]
     },
     "execution_count": 11,
     "metadata": {},
     "output_type": "execute_result"
    }
   ],
   "source": [
    "drop_vars = []\n",
    "drop_vars.extend( [x for x in BES_reduced.columns if \"eurefvote\" in x.lower() ] )\n",
    "drop_vars.extend( [x for x in BES_reduced.columns if \"euid_\" in x.lower() ] )\n",
    "drop_vars.extend( [x for x in BES_reduced.columns if \"happyeuleave\" in x.lower() ] )\n",
    "drop_vars                 "
   ]
  },
  {
   "cell_type": "code",
   "execution_count": 12,
   "id": "4095be53",
   "metadata": {},
   "outputs": [],
   "source": [
    "# [x for x in BES_reduced.columns if \"euref\" in x.lower()]\n",
    "y = BES_reduced['euRefVote_Leave the EU']\n",
    "X = BES_reduced.drop(drop_vars,axis=1)\n",
    "y = to_categorical(y)"
   ]
  },
  {
   "cell_type": "code",
   "execution_count": null,
   "id": "624d2376",
   "metadata": {},
   "outputs": [],
   "source": [
    "\n"
   ]
  },
  {
   "cell_type": "code",
   "execution_count": 13,
   "id": "08ad2d60",
   "metadata": {},
   "outputs": [],
   "source": [
    "# X.shape"
   ]
  },
  {
   "cell_type": "code",
   "execution_count": 14,
   "id": "89721043",
   "metadata": {},
   "outputs": [
    {
     "data": {
      "image/png": "[encoded data removed]",
      "text/plain": [
       "<Figure size 432x288 with 1 Axes>"
      ]
     },
     "metadata": {},
     "output_type": "display_data"
    },
    {
     "name": "stdout",
     "output_type": "stream",
     "text": [
      "22.709355115890503\n"
     ]
    }
   ],
   "source": [
    "start_time = time.time()\n",
    "\n",
    "early_stopping_monitor = EarlyStopping(patience=3)\n",
    "\n",
    "n_neurons_layer = 500\n",
    "\n",
    "# Create the model: model\n",
    "model = Sequential()\n",
    "\n",
    "# Add the first hidden layer\n",
    "input_shape = (X.shape[1],)\n",
    "model.add( Dense(n_neurons_layer, activation='relu', input_shape = input_shape) )\n",
    "\n",
    "# Add the second hidden layer\n",
    "model.add( Dense(n_neurons_layer, activation='relu') )\n",
    "\n",
    "# Add the third hidden layer\n",
    "model.add( Dense(n_neurons_layer, activation='relu') )\n",
    "\n",
    "# Add the fourth hidden layer\n",
    "model.add( Dense(n_neurons_layer, activation='relu') )\n",
    "\n",
    "# Add the output layer\n",
    "no_of_outputs = len(np.unique(y))\n",
    "model.add( Dense( no_of_outputs , activation='softmax') )\n",
    "\n",
    "# Compile the model\n",
    "model.compile( optimizer = 'adam',\n",
    "               loss = 'categorical_crossentropy',\n",
    "               metrics=['accuracy'])\n",
    "\n",
    "# Fit the model\n",
    "# X -> X.values\n",
    "model_training = model.fit(X.values, y, epochs=15, validation_split=0.2, callbacks=[early_stopping_monitor], verbose=False)\n",
    "\n",
    "# Create the plot\n",
    "plt.plot(model_training.history['val_loss'], 'r')\n",
    "plt.xlabel('Epochs')\n",
    "plt.ylabel('Validation score')\n",
    "plt.show()\n",
    "\n",
    "elapsed_time = time.time() - start_time\n",
    "print(elapsed_time)"
   ]
  },
  {
   "cell_type": "code",
   "execution_count": 15,
   "id": "cbe5500b",
   "metadata": {},
   "outputs": [
    {
     "data": {
      "text/plain": [
       "[PhysicalDevice(name='/physical_device:GPU:0', device_type='GPU')]"
      ]
     },
     "execution_count": 15,
     "metadata": {},
     "output_type": "execute_result"
    }
   ],
   "source": [
    "tf.config.list_physical_devices('GPU') "
   ]
  },
  {
   "cell_type": "code",
   "execution_count": 16,
   "id": "144ab6ec",
   "metadata": {},
   "outputs": [
    {
     "name": "stdout",
     "output_type": "stream",
     "text": [
      "True\n"
     ]
    }
   ],
   "source": [
    "print(tf.test.is_built_with_cuda())"
   ]
  },
  {
   "cell_type": "code",
   "execution_count": 17,
   "id": "01707a3d",
   "metadata": {},
   "outputs": [
    {
     "name": "stdout",
     "output_type": "stream",
     "text": [
      "Device mapping:\n",
      "/job:localhost/replica:0/task:0/device:GPU:0 -> device: 0, name: NVIDIA GeForce GTX 1060 6GB, pci bus id: 0000:01:00.0, compute capability: 6.1\n",
      "\n"
     ]
    }
   ],
   "source": [
    "sess = tf.compat.v1.Session(config=tf.compat.v1.ConfigProto(log_device_placement=True))"
   ]
  },
  {
   "cell_type": "code",
   "execution_count": null,
   "id": "e98cee7b",
   "metadata": {},
   "outputs": [],
   "source": []
  },
  {
   "cell_type": "code",
   "execution_count": 18,
   "id": "aa13bcff",
   "metadata": {},
   "outputs": [],
   "source": [
    "# select a set of background examples to take an expectation over\n",
    "background = X.loc[np.random.choice(X.shape[0], 100, replace=False)]\n",
    "\n",
    "# explain predictions of the model on four images\n",
    "e = shap.DeepExplainer(model, background.values)\n",
    "# ...or pass tensors directly\n",
    "# e = shap.DeepExplainer((model.layers[0].input, model.layers[-1].output), background)\n",
    "shap_values = e.shap_values(X.loc[1:5].values)\n",
    "\n",
    "# plot the feature attributions\n",
    "# shap.image_plot(shap_values, -X.loc[1:5])"
   ]
  },
  {
   "cell_type": "code",
   "execution_count": 19,
   "id": "06db25e6",
   "metadata": {},
   "outputs": [
    {
     "data": {
      "text/plain": [
       "'2.5.0'"
      ]
     },
     "execution_count": 19,
     "metadata": {},
     "output_type": "execute_result"
    }
   ],
   "source": [
    "tf.__version__\n",
    "## super old"
   ]
  },
  {
   "cell_type": "code",
   "execution_count": 20,
   "id": "8d3b86c1",
   "metadata": {},
   "outputs": [
    {
     "data": {
      "text/plain": [
       "'0.39.0'"
      ]
     },
     "execution_count": 20,
     "metadata": {},
     "output_type": "execute_result"
    }
   ],
   "source": [
    "shap.__version__\n",
    "### latesty"
   ]
  },
  {
   "cell_type": "code",
   "execution_count": null,
   "id": "4ab2d196",
   "metadata": {},
   "outputs": [],
   "source": []
  },
  {
   "cell_type": "code",
   "execution_count": 21,
   "id": "10825cd5",
   "metadata": {},
   "outputs": [
    {
     "name": "stdout",
     "output_type": "stream",
     "text": [
      "Wall time: 2.02 s\n"
     ]
    }
   ],
   "source": [
    "%%time\n",
    "\n",
    "# hasattr(tf_gradients_impl, \"_IsBackpropagatable\")\n",
    "background = X.loc[np.random.choice(X.shape[0], 200, replace=False)]\n",
    "\n",
    "# e = shap.DeepExplainer((model.layers[0].input, model.layers[-1].output), background)\n",
    "e = shap.DeepExplainer(model, background.values)\n",
    "shap_values = e.shap_values(background.values)"
   ]
  },
  {
   "cell_type": "code",
   "execution_count": 22,
   "id": "b74612c2",
   "metadata": {},
   "outputs": [
    {
     "data": {
      "image/png": "[encoded data removed]",
      "text/plain": [
       "<Figure size 576x684 with 2 Axes>"
      ]
     },
     "metadata": {},
     "output_type": "display_data"
    },
    {
     "name": "stdout",
     "output_type": "stream",
     "text": [
      "Wall time: 537 ms\n"
     ]
    }
   ],
   "source": [
    "%%time\n",
    "shap.summary_plot(shap_values[0], background, plot_type='dot')"
   ]
  },
  {
   "cell_type": "code",
   "execution_count": 23,
   "id": "b5ad8947",
   "metadata": {},
   "outputs": [
    {
     "name": "stdout",
     "output_type": "stream",
     "text": [
      "0.39.0 \n",
      " 2.5.0\n"
     ]
    },
    {
     "data": {
      "image/png": "[encoded data removed]",
      "text/plain": [
       "<Figure size 576x223.2 with 1 Axes>"
      ]
     },
     "metadata": {},
     "output_type": "display_data"
    }
   ],
   "source": [
    "from numpy.random import randint\n",
    "from tensorflow.python.keras.utils.np_utils import to_categorical\n",
    "from tensorflow.keras.models import Sequential\n",
    "from tensorflow.keras.layers import Dense, BatchNormalization, Dropout, Activation\n",
    "from tensorflow.keras.optimizers import Adam\n",
    "import shap\n",
    "import tensorflow\n",
    "print(shap.__version__, \"\\n\",tensorflow.__version__)\n",
    "\n",
    "# Train_x data creation\n",
    "train_x = pd.DataFrame({\n",
    "    'v1': randint(2, 20, 1489),\n",
    "    'v2': randint(50, 200, 1489),\n",
    "    'v3': randint(30, 90, 1489),\n",
    "    'v4': randint(100, 150, 1489)\n",
    "})\n",
    "\n",
    "# Train_y data creation\n",
    "train_y = randint(0, 2, 1489)\n",
    "\n",
    "# One-hot encoding as I use categorical cross-entropy\n",
    "train_y = to_categorical(train_y, num_classes=2)\n",
    "\n",
    "# Start construction of a DNN Sequential model.\n",
    "model = Sequential()\n",
    "\n",
    "# First input layer with a dropout and batch normalization layer following\n",
    "model.add(Dense(256, input_dim=train_x.shape[1]))\n",
    "model.add(BatchNormalization())\n",
    "model.add(Activation('relu'))\n",
    "model.add(Dropout(rate=0.2))\n",
    "\n",
    "# Output layer\n",
    "model.add(Dense(2))\n",
    "model.add(Activation('softmax'))\n",
    "\n",
    "# Use the Adam optimizer\n",
    "optimizer = Adam(lr=0.001)\n",
    "\n",
    "# Compile the model\n",
    "model.compile(loss='categorical_crossentropy', optimizer=optimizer, metrics=['accuracy'])\n",
    "\n",
    "# model.summary()\n",
    "\n",
    "# Fit model\n",
    "hist = model.fit(train_x, train_y, epochs=100, batch_size=128, shuffle=False, verbose=0)\n",
    "\n",
    "# SHAP calculation\n",
    "shap.explainers._deep.deep_tf.op_handlers[\"AddV2\"] = shap.explainers._deep.deep_tf.passthrough\n",
    "explainer = shap.DeepExplainer(model, train_x.values)\n",
    "\n",
    "shap_values = explainer.shap_values(train_x[:500].values)\n",
    "\n",
    "shap.summary_plot(shap_values[1])"
   ]
  },
  {
   "cell_type": "code",
   "execution_count": null,
   "id": "979f20a8",
   "metadata": {},
   "outputs": [],
   "source": []
  },
  {
   "cell_type": "code",
   "execution_count": null,
   "id": "6b8c6042",
   "metadata": {},
   "outputs": [],
   "source": []
  },
  {
   "cell_type": "code",
   "execution_count": 24,
   "id": "ab51e02c",
   "metadata": {},
   "outputs": [
    {
     "data": {
      "text/html": [
       "<script>jQuery(function() {if (jQuery(\"body.notebook_app\").length == 0) { jQuery(\".input_area\").toggle(); jQuery(\".prompt\").toggle();}});</script>"
      ]
     },
     "metadata": {},
     "output_type": "display_data"
    },
    {
     "data": {
      "text/html": [
       "<button onclick=\"jQuery('.input_area').toggle(); jQuery('.prompt').toggle();\">Toggle code</button>"
      ]
     },
     "metadata": {},
     "output_type": "display_data"
    },
    {
     "name": "stdout",
     "output_type": "stream",
     "text": [
      "var_type (463, 14)\n",
      "Wall time: 593 ms\n"
     ]
    }
   ],
   "source": [
    "%%time\n",
    "dataset_name = \"W20_only\"\n",
    "df_list = \"BES_reduced|BES_Panel\"\n",
    "\n",
    "%matplotlib inline \n",
    "%run BES_header.py {dataset_name} {df_list}\n",
    "(var_type, cat_dictionary, new_old_col_names, old_new_col_names) = get_small_files(data_subfolder, encoding)    \n",
    "# get full set of inferred \"cross wave\" auth-lib/left-right values and ages\n",
    "# pan_dataset_allr_values = pd.read_pickle(BES_small_data_files + \"pan_dataset_allr_valuesW19\"+\".zip\",compression='zip')\n",
    "# # pan_dataset_allr_values = pan_dataset_allr_values.loc[BES_Panel.index].sort_index()\n",
    "# pan_dataset_ages = pd.read_pickle(BES_small_data_files + \"pan_dataset_ages\"+\".zip\", compression='zip')\n",
    "# pan_dataset_votes = pd.read_pickle(BES_small_data_files+\"pan_dataset_votes\"+\".zip\",compression='zip')\n"
   ]
  },
  {
   "cell_type": "code",
   "execution_count": 25,
   "id": "c1a7efe6",
   "metadata": {},
   "outputs": [
    {
     "data": {
      "text/plain": [
       "['p_eurefvote_I voted to leave',\n",
       " 'p_eurefturnout_Yes',\n",
       " 'euRefVoteAfter_Stay out of the EU',\n",
       " 'euID_The leave side']"
      ]
     },
     "execution_count": 25,
     "metadata": {},
     "output_type": "execute_result"
    }
   ],
   "source": [
    "drop_vars = []\n",
    "drop_vars.extend( [x for x in BES_reduced.columns if \"euref\" in x.lower() ] )\n",
    "drop_vars.extend( [x for x in BES_reduced.columns if \"euid_\" in x.lower() ] )\n",
    "drop_vars.extend( [x for x in BES_reduced.columns if \"happyeuleave\" in x.lower() ] )\n",
    "# drop_vars.extend( [x for x in BES_reduced.columns if \"euref\" in x.lower() ] )\n",
    "\n",
    "\n",
    "drop_vars                 "
   ]
  },
  {
   "cell_type": "code",
   "execution_count": 26,
   "id": "6ad9e5f6",
   "metadata": {},
   "outputs": [],
   "source": [
    "y = BES_reduced['p_eurefvote_I voted to leave']\n",
    "y = to_categorical(y)\n",
    "X = BES_reduced\n",
    "#.drop(drop_vars,axis=1)\n",
    "\n",
    "# X = X[[\"EUIntegrationSelf__Protect our independence\"]]"
   ]
  },
  {
   "cell_type": "code",
   "execution_count": 27,
   "id": "cc838cda",
   "metadata": {},
   "outputs": [],
   "source": [
    "# X = X.reset_index(drop=True)"
   ]
  },
  {
   "cell_type": "code",
   "execution_count": 28,
   "id": "aa751ea6",
   "metadata": {},
   "outputs": [
    {
     "data": {
      "text/plain": [
       "0    18333\n",
       "1    13135\n",
       "Name: p_eurefvote_I voted to leave, dtype: int64"
      ]
     },
     "execution_count": 28,
     "metadata": {},
     "output_type": "execute_result"
    }
   ],
   "source": [
    "BES_reduced['p_eurefvote_I voted to leave'].value_counts(dropna=False)"
   ]
  },
  {
   "cell_type": "code",
   "execution_count": 29,
   "id": "36f76f83",
   "metadata": {},
   "outputs": [
    {
     "data": {
      "text/plain": [
       "EUIntegrationSelf__Protect our independence    31468\n",
       "dtype: int64"
      ]
     },
     "execution_count": 29,
     "metadata": {},
     "output_type": "execute_result"
    }
   ],
   "source": [
    "search(X,\"EUIntegrationSelf\")"
   ]
  },
  {
   "cell_type": "code",
   "execution_count": 30,
   "id": "d79bbb6f",
   "metadata": {},
   "outputs": [
    {
     "data": {
      "image/png": "[encoded data removed]",
      "text/plain": [
       "<Figure size 432x288 with 1 Axes>"
      ]
     },
     "metadata": {},
     "output_type": "display_data"
    },
    {
     "name": "stdout",
     "output_type": "stream",
     "text": [
      "12.455324649810791\n"
     ]
    }
   ],
   "source": [
    "start_time = time.time()\n",
    "\n",
    "early_stopping_monitor = EarlyStopping(patience=3)\n",
    "\n",
    "n_neurons_layer = 500\n",
    "\n",
    "# Create the model: model\n",
    "model = Sequential()\n",
    "\n",
    "# Add the first hidden layer\n",
    "input_shape = (X.shape[1],)\n",
    "model.add( Dense(n_neurons_layer, activation='relu', input_shape = input_shape) )\n",
    "\n",
    "# Add the second hidden layer\n",
    "model.add( Dense(n_neurons_layer, activation='relu') )\n",
    "\n",
    "# Add the third hidden layer\n",
    "model.add( Dense(n_neurons_layer, activation='relu') )\n",
    "\n",
    "# Add the fourth hidden layer\n",
    "model.add( Dense(n_neurons_layer, activation='relu') )\n",
    "\n",
    "# Add the output layer\n",
    "no_of_outputs = len(np.unique(y))\n",
    "model.add( Dense( no_of_outputs , activation='softmax') )\n",
    "\n",
    "# Compile the model\n",
    "model.compile( optimizer = 'adam',\n",
    "               loss = 'categorical_crossentropy',\n",
    "               metrics=['accuracy'])\n",
    "\n",
    "# Fit the model\n",
    "# X -> X.values\n",
    "model_training = model.fit(X.values, y, epochs=15, validation_split=0.2, callbacks=[early_stopping_monitor], verbose=False)\n",
    "\n",
    "# Create the plot\n",
    "plt.plot(model_training.history['val_loss'], 'r')\n",
    "plt.xlabel('Epochs')\n",
    "plt.ylabel('Validation score')\n",
    "plt.show()\n",
    "\n",
    "elapsed_time = time.time() - start_time\n",
    "print(elapsed_time)"
   ]
  },
  {
   "cell_type": "code",
   "execution_count": 31,
   "id": "ac2a5b44",
   "metadata": {},
   "outputs": [
    {
     "name": "stdout",
     "output_type": "stream",
     "text": [
      "Wall time: 2.31 s\n"
     ]
    }
   ],
   "source": [
    "%%time\n",
    "\n",
    "# hasattr(tf_gradients_impl, \"_IsBackpropagatable\")\n",
    "background = X.loc[X.index[np.random.choice(X.shape[0], 200, replace=False)]]\n",
    "\n",
    "# e = shap.DeepExplainer((model.layers[0].input, model.layers[-1].output), background)\n",
    "e = shap.DeepExplainer(model, background.values)\n",
    "shap_values = e.shap_values(background.values)"
   ]
  },
  {
   "cell_type": "code",
   "execution_count": 32,
   "id": "05452135",
   "metadata": {},
   "outputs": [
    {
     "data": {
      "image/png": "[encoded data removed]",
      "text/plain": [
       "<Figure size 576x684 with 2 Axes>"
      ]
     },
     "metadata": {},
     "output_type": "display_data"
    },
    {
     "name": "stdout",
     "output_type": "stream",
     "text": [
      "Wall time: 273 ms\n"
     ]
    }
   ],
   "source": [
    "%%time\n",
    "shap.summary_plot(shap_values[0], background, plot_type='dot')"
   ]
  },
  {
   "cell_type": "code",
   "execution_count": 33,
   "id": "f303a2eb",
   "metadata": {},
   "outputs": [
    {
     "data": {
      "text/plain": [
       "742"
      ]
     },
     "execution_count": 33,
     "metadata": {},
     "output_type": "execute_result"
    }
   ],
   "source": [
    "X.shape[1]"
   ]
  },
  {
   "cell_type": "code",
   "execution_count": 34,
   "id": "31638789",
   "metadata": {},
   "outputs": [
    {
     "data": {
      "text/plain": [
       "p_eurefvote_I voted to leave         31468\n",
       "p_eurefturnout_Yes                   31468\n",
       "euRefVoteAfter_Stay out of the EU    31468\n",
       "dtype: int64"
      ]
     },
     "execution_count": 34,
     "metadata": {},
     "output_type": "execute_result"
    }
   ],
   "source": [
    "search(BES_reduced,\"euRef\")"
   ]
  },
  {
   "cell_type": "code",
   "execution_count": null,
   "id": "5593523c",
   "metadata": {},
   "outputs": [],
   "source": []
  },
  {
   "cell_type": "code",
   "execution_count": 35,
   "id": "73879431",
   "metadata": {},
   "outputs": [
    {
     "data": {
      "text/plain": [
       "europeanness__Very strongly European    -0.505684\n",
       "immigSelf__Allow many more              -0.494151\n",
       "immigCultural__Enriches cultural life   -0.476114\n",
       "immigEcon__Good for economy             -0.443282\n",
       "likeLD__Strongly like                   -0.423664\n",
       "likeLab__Strongly like                  -0.407686\n",
       "ptvLD__Very likely                      -0.406763\n",
       "ptvLab__Very likely                     -0.398804\n",
       "likeGrn__Strongly like                  -0.382075\n",
       "likeStarmer__Strongly like              -0.346852\n",
       "dtype: float64"
      ]
     },
     "execution_count": 35,
     "metadata": {},
     "output_type": "execute_result"
    }
   ],
   "source": [
    "BES_reduced.corrwith( BES_reduced['p_eurefvote_I voted to leave'] ).sort_values().head(10)"
   ]
  },
  {
   "cell_type": "code",
   "execution_count": null,
   "id": "def9bca2",
   "metadata": {},
   "outputs": [],
   "source": []
  },
  {
   "cell_type": "code",
   "execution_count": 36,
   "id": "b3e7c078",
   "metadata": {},
   "outputs": [
    {
     "name": "stdout",
     "output_type": "stream",
     "text": [
      "x_train shape: (60000, 28, 28, 1)\n",
      "60000 train samples\n",
      "10000 test samples\n",
      "Epoch 1/12\n",
      "469/469 [==============================] - 6s 9ms/step - loss: 2.2652 - accuracy: 0.1673 - val_loss: 2.2104 - val_accuracy: 0.3774\n",
      "Epoch 2/12\n",
      "469/469 [==============================] - 4s 9ms/step - loss: 2.1794 - accuracy: 0.2916 - val_loss: 2.1022 - val_accuracy: 0.5549\n",
      "Epoch 3/12\n",
      "469/469 [==============================] - 4s 9ms/step - loss: 2.0676 - accuracy: 0.4017 - val_loss: 1.9564 - val_accuracy: 0.6489\n",
      "Epoch 4/12\n",
      "469/469 [==============================] - 4s 9ms/step - loss: 1.9228 - accuracy: 0.4881 - val_loss: 1.7728 - val_accuracy: 0.6988\n",
      "Epoch 5/12\n",
      "469/469 [==============================] - 4s 9ms/step - loss: 1.7478 - accuracy: 0.5466 - val_loss: 1.5616 - val_accuracy: 0.7436\n",
      "Epoch 6/12\n",
      "469/469 [==============================] - 4s 9ms/step - loss: 1.5676 - accuracy: 0.5877 - val_loss: 1.3476 - val_accuracy: 0.7705\n",
      "Epoch 7/12\n",
      "469/469 [==============================] - 4s 9ms/step - loss: 1.3977 - accuracy: 0.6222 - val_loss: 1.1566 - val_accuracy: 0.7896\n",
      "Epoch 8/12\n",
      "469/469 [==============================] - 4s 9ms/step - loss: 1.2524 - accuracy: 0.6500 - val_loss: 1.0005 - val_accuracy: 0.8074\n",
      "Epoch 9/12\n",
      "469/469 [==============================] - 4s 9ms/step - loss: 1.1369 - accuracy: 0.6742 - val_loss: 0.8794 - val_accuracy: 0.8213\n",
      "Epoch 10/12\n",
      "469/469 [==============================] - 4s 9ms/step - loss: 1.0451 - accuracy: 0.6940 - val_loss: 0.7875 - val_accuracy: 0.8340\n",
      "Epoch 11/12\n",
      "469/469 [==============================] - 4s 9ms/step - loss: 0.9684 - accuracy: 0.7132 - val_loss: 0.7163 - val_accuracy: 0.8408\n",
      "Epoch 12/12\n",
      "469/469 [==============================] - 4s 9ms/step - loss: 0.9129 - accuracy: 0.7273 - val_loss: 0.6605 - val_accuracy: 0.8487\n",
      "Test loss: 0.6605433821678162\n",
      "Test accuracy: 0.8486999869346619\n"
     ]
    }
   ],
   "source": [
    "# this is the code from https://github.com/keras-team/keras/blob/master/examples/mnist_cnn.py\n",
    "from __future__ import print_function\n",
    "import keras\n",
    "from tensorflow.keras.datasets import mnist\n",
    "from tensorflow.keras.models import Sequential\n",
    "from tensorflow.keras.layers import Dense, Dropout, Flatten\n",
    "from tensorflow.keras.layers import Conv2D, MaxPooling2D\n",
    "from tensorflow.keras import backend as K\n",
    "from tensorflow.python.keras.utils.np_utils import to_categorical\n",
    "batch_size = 128\n",
    "num_classes = 10\n",
    "epochs = 12\n",
    "\n",
    "# input image dimensions\n",
    "img_rows, img_cols = 28, 28\n",
    "\n",
    "# the data, split between train and test sets\n",
    "(x_train, y_train), (x_test, y_test) = mnist.load_data()\n",
    "\n",
    "if K.image_data_format() == 'channels_first':\n",
    "    x_train = x_train.reshape(x_train.shape[0], 1, img_rows, img_cols)\n",
    "    x_test = x_test.reshape(x_test.shape[0], 1, img_rows, img_cols)\n",
    "    input_shape = (1, img_rows, img_cols)\n",
    "else:\n",
    "    x_train = x_train.reshape(x_train.shape[0], img_rows, img_cols, 1)\n",
    "    x_test = x_test.reshape(x_test.shape[0], img_rows, img_cols, 1)\n",
    "    input_shape = (img_rows, img_cols, 1)\n",
    "\n",
    "x_train = x_train.astype('float32')\n",
    "x_test = x_test.astype('float32')\n",
    "x_train /= 255\n",
    "x_test /= 255\n",
    "print('x_train shape:', x_train.shape)\n",
    "print(x_train.shape[0], 'train samples')\n",
    "print(x_test.shape[0], 'test samples')\n",
    "\n",
    "# convert class vectors to binary class matrices\n",
    "y_train = to_categorical(y_train, num_classes)\n",
    "y_test = to_categorical(y_test, num_classes)\n",
    "\n",
    "model = Sequential()\n",
    "model.add(Conv2D(32, kernel_size=(3, 3),\n",
    "                 activation='relu',\n",
    "                 input_shape=input_shape))\n",
    "model.add(Conv2D(64, (3, 3), activation='relu'))\n",
    "model.add(MaxPooling2D(pool_size=(2, 2)))\n",
    "model.add(Dropout(0.25))\n",
    "model.add(Flatten())\n",
    "model.add(Dense(128, activation='relu'))\n",
    "model.add(Dropout(0.5))\n",
    "model.add(Dense(num_classes, activation='softmax'))\n",
    "\n",
    "model.compile(loss=tensorflow.keras.losses.categorical_crossentropy,\n",
    "              optimizer=tensorflow.keras.optimizers.Adadelta(),\n",
    "              metrics=['accuracy'])\n",
    "\n",
    "model.fit(x_train, y_train,\n",
    "          batch_size=batch_size,\n",
    "          epochs=epochs,\n",
    "          verbose=1,\n",
    "          validation_data=(x_test, y_test))\n",
    "score = model.evaluate(x_test, y_test, verbose=0)\n",
    "print('Test loss:', score[0])\n",
    "print('Test accuracy:', score[1])"
   ]
  },
  {
   "cell_type": "code",
   "execution_count": null,
   "id": "d602389a",
   "metadata": {},
   "outputs": [],
   "source": []
  },
  {
   "cell_type": "code",
   "execution_count": null,
   "id": "e062cf6a",
   "metadata": {},
   "outputs": [],
   "source": []
  },
  {
   "cell_type": "code",
   "execution_count": null,
   "id": "6286c9b9",
   "metadata": {},
   "outputs": [],
   "source": []
  },
  {
   "cell_type": "code",
   "execution_count": 37,
   "id": "f07b548f",
   "metadata": {},
   "outputs": [],
   "source": [
    "# # (x_train, _), (x_test, _) = fashion_mnist.load_data()\n",
    "\n",
    "# from tensorflow.python.keras._impl.keras.datasets.mnist import load_data\n",
    "# (x_train, _), (x_test, _) = load_data()\n",
    "\n",
    "# x_train = x_train.astype('float32') / 255.\n",
    "# x_test = x_test.astype('float32') / 255.\n",
    "\n",
    "# print (x_train.shape)\n",
    "# print (x_test.shape)"
   ]
  },
  {
   "cell_type": "code",
   "execution_count": 38,
   "id": "7e42678c",
   "metadata": {},
   "outputs": [],
   "source": [
    "# latent_dim = 64 \n",
    "\n",
    "# class Autoencoder(Model):\n",
    "#   def __init__(self, latent_dim):\n",
    "#     super(Autoencoder, self).__init__()\n",
    "#     self.latent_dim = latent_dim   \n",
    "#     self.encoder = tf.keras.Sequential([\n",
    "#       layers.Flatten(),\n",
    "#       layers.Dense(latent_dim, activation='relu'),\n",
    "#     ])\n",
    "#     self.decoder = tf.keras.Sequential([\n",
    "#       layers.Dense(784, activation='sigmoid'),\n",
    "#       layers.Reshape((28, 28))\n",
    "#     ])\n",
    "\n",
    "#   def call(self, x):\n",
    "#     encoded = self.encoder(x)\n",
    "#     decoded = self.decoder(encoded)\n",
    "#     return decoded\n",
    "\n",
    "# autoencoder = Autoencoder(latent_dim)\n",
    "\n",
    "# autoencoder.compile(optimizer='adam', loss=losses.MeanSquaredError())"
   ]
  },
  {
   "cell_type": "code",
   "execution_count": null,
   "id": "bb0c5d13",
   "metadata": {},
   "outputs": [],
   "source": []
  },
  {
   "cell_type": "code",
   "execution_count": null,
   "id": "99d0b66c",
   "metadata": {},
   "outputs": [],
   "source": []
  },
  {
   "cell_type": "code",
   "execution_count": 39,
   "id": "74f41376",
   "metadata": {},
   "outputs": [
    {
     "name": "stdout",
     "output_type": "stream",
     "text": [
      "(60000, 784)\n",
      "(10000, 784)\n",
      "Epoch 1/50\n",
      "235/235 - 1s - loss: 0.6932 - val_loss: 0.6931\n",
      "Epoch 2/50\n",
      "235/235 - 0s - loss: 0.6931 - val_loss: 0.6929\n",
      "Epoch 3/50\n",
      "235/235 - 0s - loss: 0.6929 - val_loss: 0.6928\n",
      "Epoch 4/50\n",
      "235/235 - 0s - loss: 0.6927 - val_loss: 0.6926\n",
      "Epoch 5/50\n",
      "235/235 - 0s - loss: 0.6926 - val_loss: 0.6925\n",
      "Epoch 6/50\n",
      "235/235 - 0s - loss: 0.6924 - val_loss: 0.6923\n",
      "Epoch 7/50\n",
      "235/235 - 0s - loss: 0.6923 - val_loss: 0.6921\n",
      "Epoch 8/50\n",
      "235/235 - 0s - loss: 0.6921 - val_loss: 0.6920\n",
      "Epoch 9/50\n",
      "235/235 - 0s - loss: 0.6919 - val_loss: 0.6918\n",
      "Epoch 10/50\n",
      "235/235 - 0s - loss: 0.6918 - val_loss: 0.6916\n",
      "Epoch 11/50\n",
      "235/235 - 0s - loss: 0.6916 - val_loss: 0.6915\n",
      "Epoch 12/50\n",
      "235/235 - 0s - loss: 0.6914 - val_loss: 0.6913\n",
      "Epoch 13/50\n",
      "235/235 - 0s - loss: 0.6913 - val_loss: 0.6911\n",
      "Epoch 14/50\n",
      "235/235 - 0s - loss: 0.6911 - val_loss: 0.6910\n",
      "Epoch 15/50\n",
      "235/235 - 0s - loss: 0.6909 - val_loss: 0.6908\n",
      "Epoch 16/50\n",
      "235/235 - 1s - loss: 0.6908 - val_loss: 0.6906\n",
      "Epoch 17/50\n",
      "235/235 - 0s - loss: 0.6906 - val_loss: 0.6905\n",
      "Epoch 18/50\n",
      "235/235 - 0s - loss: 0.6904 - val_loss: 0.6903\n",
      "Epoch 19/50\n",
      "235/235 - 0s - loss: 0.6903 - val_loss: 0.6901\n",
      "Epoch 20/50\n",
      "235/235 - 0s - loss: 0.6901 - val_loss: 0.6899\n",
      "Epoch 21/50\n",
      "235/235 - 0s - loss: 0.6899 - val_loss: 0.6897\n",
      "Epoch 22/50\n",
      "235/235 - 0s - loss: 0.6897 - val_loss: 0.6896\n",
      "Epoch 23/50\n",
      "235/235 - 0s - loss: 0.6895 - val_loss: 0.6894\n",
      "Epoch 24/50\n",
      "235/235 - 0s - loss: 0.6894 - val_loss: 0.6892\n",
      "Epoch 25/50\n",
      "235/235 - 0s - loss: 0.6892 - val_loss: 0.6890\n",
      "Epoch 26/50\n",
      "235/235 - 0s - loss: 0.6890 - val_loss: 0.6888\n",
      "Epoch 27/50\n",
      "235/235 - 0s - loss: 0.6888 - val_loss: 0.6886\n",
      "Epoch 28/50\n",
      "235/235 - 0s - loss: 0.6886 - val_loss: 0.6884\n",
      "Epoch 29/50\n",
      "235/235 - 0s - loss: 0.6884 - val_loss: 0.6882\n",
      "Epoch 30/50\n",
      "235/235 - 0s - loss: 0.6882 - val_loss: 0.6880\n",
      "Epoch 31/50\n",
      "235/235 - 0s - loss: 0.6880 - val_loss: 0.6878\n",
      "Epoch 32/50\n",
      "235/235 - 0s - loss: 0.6877 - val_loss: 0.6875\n",
      "Epoch 33/50\n",
      "235/235 - 0s - loss: 0.6875 - val_loss: 0.6873\n",
      "Epoch 34/50\n",
      "235/235 - 0s - loss: 0.6873 - val_loss: 0.6871\n",
      "Epoch 35/50\n",
      "235/235 - 0s - loss: 0.6871 - val_loss: 0.6869\n",
      "Epoch 36/50\n",
      "235/235 - 0s - loss: 0.6868 - val_loss: 0.6866\n",
      "Epoch 37/50\n",
      "235/235 - 0s - loss: 0.6866 - val_loss: 0.6864\n",
      "Epoch 38/50\n",
      "235/235 - 0s - loss: 0.6864 - val_loss: 0.6861\n",
      "Epoch 39/50\n",
      "235/235 - 0s - loss: 0.6861 - val_loss: 0.6859\n",
      "Epoch 40/50\n",
      "235/235 - 0s - loss: 0.6859 - val_loss: 0.6856\n",
      "Epoch 41/50\n",
      "235/235 - 0s - loss: 0.6856 - val_loss: 0.6853\n",
      "Epoch 42/50\n",
      "235/235 - 0s - loss: 0.6853 - val_loss: 0.6851\n",
      "Epoch 43/50\n",
      "235/235 - 0s - loss: 0.6851 - val_loss: 0.6848\n",
      "Epoch 44/50\n",
      "235/235 - 0s - loss: 0.6848 - val_loss: 0.6845\n",
      "Epoch 45/50\n",
      "235/235 - 0s - loss: 0.6845 - val_loss: 0.6842\n",
      "Epoch 46/50\n",
      "235/235 - 0s - loss: 0.6842 - val_loss: 0.6839\n",
      "Epoch 47/50\n",
      "235/235 - 0s - loss: 0.6839 - val_loss: 0.6836\n",
      "Epoch 48/50\n",
      "235/235 - 0s - loss: 0.6836 - val_loss: 0.6833\n",
      "Epoch 49/50\n",
      "235/235 - 0s - loss: 0.6833 - val_loss: 0.6830\n",
      "Epoch 50/50\n",
      "235/235 - 0s - loss: 0.6829 - val_loss: 0.6826\n"
     ]
    },
    {
     "data": {
      "image/png": "[encoded data removed]",
      "text/plain": [
       "<Figure size 1000x200 with 20 Axes>"
      ]
     },
     "metadata": {},
     "output_type": "display_data"
    }
   ],
   "source": [
    "\n",
    "\n",
    "# Single fully-connected neural layer as encoder and decoder\n",
    "use_regularizer = False\n",
    "my_regularizer = None\n",
    "my_epochs = 50\n",
    "features_path = 'simple_autoe_features.pickle'\n",
    "labels_path = 'simple_autoe_labels.pickle'\n",
    "\n",
    "if use_regularizer:\n",
    "    # add a sparsity constraint on the encoded representations\n",
    "    # note use of 10e-5 leads to blurred results\n",
    "    my_regularizer = regularizers.l1(10e-8)\n",
    "    # and a larger number of epochs as the added regularization the model\n",
    "    # is less likely to overfit and can be trained longer\n",
    "    my_epochs = 100\n",
    "    features_path = 'sparse_autoe_features.pickle'\n",
    "    labels_path = 'sparse_autoe_labels.pickle'\n",
    "\n",
    "# this is the size of our encoded representations\n",
    "encoding_dim = 32   # 32 floats -> compression factor 24.5, assuming the input is 784 floats\n",
    "\n",
    "# this is our input placeholder; 784 = 28 x 28\n",
    "input_img = Input(shape=(784, ))\n",
    "\n",
    "# \"encoded\" is the encoded representation of the inputs\n",
    "encoded = Dense(encoding_dim, activation='relu', activity_regularizer=my_regularizer)(input_img)\n",
    "\n",
    "# \"decoded\" is the lossy reconstruction of the input\n",
    "decoded = Dense(784, activation='sigmoid')(encoded)\n",
    "\n",
    "# this model maps an input to its reconstruction\n",
    "autoencoder = Model(input_img, decoded)\n",
    "\n",
    "# Separate Encoder model\n",
    "\n",
    "# this model maps an input to its encoded representation\n",
    "encoder = Model(input_img, encoded)\n",
    "\n",
    "# Separate Decoder model\n",
    "\n",
    "# create a placeholder for an encoded (32-dimensional) input\n",
    "encoded_input = Input(shape=(encoding_dim,))\n",
    "# retrieve the last layer of the autoencoder model\n",
    "decoder_layer = autoencoder.layers[-1]\n",
    "# create the decoder model\n",
    "decoder = Model(encoded_input, decoder_layer(encoded_input))\n",
    "\n",
    "# Train to reconstruct MNIST digits\n",
    "\n",
    "# configure model to use a per-pixel binary crossentropy loss, and the Adadelta optimizer\n",
    "autoencoder.compile(optimizer='adadelta', loss='binary_crossentropy')\n",
    "\n",
    "# prepare input data\n",
    "(x_train, _), (x_test, y_test) = mnist.load_data()\n",
    "\n",
    "# normalize all values between 0 and 1 and flatten the 28x28 images into vectors of size 784\n",
    "x_train = x_train.astype('float32') / 255.\n",
    "x_test = x_test.astype('float32') / 255.\n",
    "x_train = x_train.reshape((len(x_train), np.prod(x_train.shape[1:])))\n",
    "x_test = x_test.reshape((len(x_test), np.prod(x_test.shape[1:])))\n",
    "print(x_train.shape)\n",
    "print(x_test.shape)\n",
    "\n",
    "# Train autoencoder for 50 epochs\n",
    "\n",
    "autoencoder.fit(x_train, x_train, epochs=my_epochs, batch_size=256, shuffle=True, validation_data=(x_test, x_test),\n",
    "                verbose=2)\n",
    "\n",
    "# after 50/100 epochs the autoencoder seems to reach a stable train/test lost value\n",
    "\n",
    "# Visualize the reconstructed encoded representations\n",
    "\n",
    "# encode and decode some digits\n",
    "# note that we take them from the *test* set\n",
    "encoded_imgs = encoder.predict(x_test)\n",
    "decoded_imgs = decoder.predict(encoded_imgs)\n",
    "\n",
    "# save latent space features 32-d vector\n",
    "pickle.dump(encoded_imgs, open(features_path, 'wb'))\n",
    "pickle.dump(y_test, open(labels_path, 'wb'))\n",
    "\n",
    "n = 10  # how many digits we will display\n",
    "plt.figure(figsize=(10, 2), dpi=100)\n",
    "for i in range(n):\n",
    "    # display original\n",
    "    ax = plt.subplot(2, n, i + 1)\n",
    "    plt.imshow(x_test[i].reshape(28, 28))\n",
    "    plt.gray()\n",
    "    ax.set_axis_off()\n",
    "\n",
    "    # display reconstruction\n",
    "    ax = plt.subplot(2, n, i + n + 1)\n",
    "    plt.imshow(decoded_imgs[i].reshape(28, 28))\n",
    "    plt.gray()\n",
    "    ax.set_axis_off()\n",
    "\n",
    "plt.show()"
   ]
  },
  {
   "cell_type": "code",
   "execution_count": 40,
   "id": "3d622388",
   "metadata": {},
   "outputs": [],
   "source": [
    "X_old = X.copy()"
   ]
  },
  {
   "cell_type": "code",
   "execution_count": 41,
   "id": "7a470bab",
   "metadata": {},
   "outputs": [],
   "source": [
    "X=X/X.max()"
   ]
  },
  {
   "cell_type": "code",
   "execution_count": null,
   "id": "75b5cf4f",
   "metadata": {},
   "outputs": [],
   "source": [
    "\n"
   ]
  },
  {
   "cell_type": "code",
   "execution_count": 42,
   "id": "a57e5f09",
   "metadata": {},
   "outputs": [],
   "source": [
    "low_var_columns = X.columns[X.var()<.05]\n",
    "X.drop(low_var_columns,axis=1,inplace=True)"
   ]
  },
  {
   "cell_type": "code",
   "execution_count": null,
   "id": "ae530217",
   "metadata": {},
   "outputs": [],
   "source": [
    "\n",
    "\n"
   ]
  },
  {
   "cell_type": "code",
   "execution_count": null,
   "id": "c719ea9e",
   "metadata": {},
   "outputs": [],
   "source": []
  },
  {
   "cell_type": "code",
   "execution_count": null,
   "id": "023bb1f9",
   "metadata": {},
   "outputs": [],
   "source": []
  },
  {
   "cell_type": "code",
   "execution_count": null,
   "id": "0f0a1525",
   "metadata": {},
   "outputs": [],
   "source": []
  },
  {
   "cell_type": "code",
   "execution_count": 43,
   "id": "d8449e56",
   "metadata": {},
   "outputs": [],
   "source": [
    "def run_autoencoder(encoding_dim=32,hidden_size=100,verbose=2):\n",
    "\n",
    "    # Single fully-connected neural layer as encoder and decoder\n",
    "    use_regularizer = True\n",
    "    my_regularizer = None\n",
    "    my_epochs = 50\n",
    "    features_path = 'simple_autoe_features.pickle'\n",
    "    labels_path = 'simple_autoe_labels.pickle'\n",
    "\n",
    "    early_stopping_monitor = EarlyStopping(patience=3)\n",
    "\n",
    "    if use_regularizer:\n",
    "        # add a sparsity constraint on the encoded representations\n",
    "        # note use of 10e-5 leads to blurred results\n",
    "    #     my_regularizer = regularizers.l1(10e-8)\n",
    "        # and a larger number of epochs as the added regularization the model\n",
    "        # is less likely to overfit and can be trained longer\n",
    "        my_epochs = 100\n",
    "        features_path = 'sparse_autoe_features.pickle'\n",
    "        labels_path = 'sparse_autoe_labels.pickle'\n",
    "\n",
    "    # this is the size of our encoded representations\n",
    "    # encoding_dim = encoding_dim   # 32 floats -> compression factor 24.5, assuming the input is 784 floats\n",
    "    # hidden_size = hidden_size\n",
    "\n",
    "\n",
    "    # this is our input placeholder; 784 = 28 x 28\n",
    "    # input_img = Input(shape=(784, ))\n",
    "\n",
    "    input_img = Input(shape=(X.shape[1], ))\n",
    "\n",
    "    # \"encoded\" is the encoded representation of the inputs\n",
    "    hidden_encoder = Dense(hidden_size, activation = 'relu',\n",
    "                           activity_regularizer=regularizers.l1(10e-7) )(input_img)\n",
    "    encoded = Dense(encoding_dim, activation='relu',\n",
    "                    kernel_regularizer=regularizers.l2(10e-7))(hidden_encoder)\n",
    "    # encoded = Dense(encoding_dim, activation='relu', activity_regularizer=my_regularizer)(input_img)\n",
    "\n",
    "\n",
    "    # \"decoded\" is the lossy reconstruction of the input\n",
    "    # decoded = Dense(X.shape[1], activation='sigmoid')(encoded)\n",
    "\n",
    "    hidden_decoder = Dense(hidden_size, activation = 'relu',\n",
    "                          kernel_regularizer=regularizers.l2(10e-7))(encoded)\n",
    "    decoded = Dense(X.shape[1], activation='linear',\n",
    "                          kernel_regularizer=regularizers.l2(10e-7))(hidden_decoder)\n",
    "    # decoded = Dense(X.shape[1], activation='linear')(encoded)\n",
    "    # decoded = Dense(X.shape[1], activation='softmax')(encoded)\n",
    "\n",
    "    # this model maps an input to its reconstruction\n",
    "    autoencoder = Model(input_img, decoded)\n",
    "\n",
    "    # Separate Encoder model\n",
    "\n",
    "    # this model maps an input to its encoded representation\n",
    "    encoder = Model(input_img, encoded)\n",
    "\n",
    "    # Separate Decoder model\n",
    "\n",
    "    # create a placeholder for an encoded (32-dimensional) input\n",
    "    encoded_input = Input(shape=(encoding_dim,))\n",
    "    # hidden_layer_input = Input(shape=(hidden_size,))\n",
    "    # retrieve the last layer of the autoencoder model\n",
    "    ## changed to -2 after adding hidden layer!\n",
    "    # decoder_layer = autoencoder.layers[-1]\n",
    "    # create the decoder model\n",
    "    # decoder = Model(encoded_input, decoder_layer(hidden_layer_input))\n",
    "    from tensorflow.python.keras.layers import InputLayer\n",
    "    encoded_input_layer = InputLayer(input_shape=(encoding_dim,))\n",
    "    # decoder = Model(encoded_input, decoder_layer(encoded_input))\n",
    "\n",
    "    decoder = extract_layers(autoencoder, -2, -1, encoded_input_layer)\n",
    "\n",
    "    # Train to reconstruct MNIST digits\n",
    "\n",
    "    # configure model to use a per-pixel binary crossentropy loss, and the Adadelta optimizer\n",
    "    # autoencoder.compile(optimizer='adadelta', loss='binary_crossentropy')\n",
    "\n",
    "    # autoencoder.compile(optimizer='adadelta', loss='binary_crossentropy')\n",
    "\n",
    "    autoencoder.compile( optimizer = 'adam',\n",
    "    #                loss = 'categorical_crossentropy',\n",
    "    #                loss = 'categorical_crossentropy',\n",
    "                   loss = 'mean_squared_error',     \n",
    "                   metrics=['accuracy','mse'])\n",
    "\n",
    "\n",
    "    # # prepare input data\n",
    "    # (x_train, _), (x_test, y_test) = mnist.load_data()\n",
    "\n",
    "    # # normalize all values between 0 and 1 and flatten the 28x28 images into vectors of size 784\n",
    "    # x_train = x_train.astype('float32') / 255.\n",
    "    # x_test = x_test.astype('float32') / 255.\n",
    "    # x_train = x_train.reshape((len(x_train), np.prod(x_train.shape[1:])))\n",
    "    # x_test = x_test.reshape((len(x_test), np.prod(x_test.shape[1:])))\n",
    "    # print(x_train.shape)\n",
    "    # print(x_test.shape)\n",
    "\n",
    "    X_train, X_test, y_train, y_test = train_test_split(\n",
    "        X, y, test_size=0.33, random_state=42)\n",
    "\n",
    "    # Train autoencoder for 50 epochs\n",
    "\n",
    "    autoencoder.fit(X_train.values, X_train.values, epochs=my_epochs, batch_size=256,\n",
    "                    shuffle=True, validation_data=(X_test.values, X_test.values),\n",
    "                    verbose=verbose, callbacks=[early_stopping_monitor])\n",
    "\n",
    "    # after 50/100 epochs the autoencoder seems to reach a stable train/test lost value\n",
    "\n",
    "    # Visualize the reconstructed encoded representations\n",
    "\n",
    "    # encode and decode some digits\n",
    "    # note that we take them from the *test* set\n",
    "    encoded_imgs = encoder.predict(X_test.values)\n",
    "    decoded_imgs = decoder.predict(encoded_imgs)\n",
    "\n",
    "    # save latent space features 32-d vector\n",
    "    pickle.dump(encoded_imgs, open(features_path, 'wb'))\n",
    "    pickle.dump(y_test, open(labels_path, 'wb'))\n",
    "\n",
    "    # n = 10  # how many digits we will display\n",
    "    # plt.figure(figsize=(10, 2), dpi=100)\n",
    "    # for i in range(n):\n",
    "    #     # display original\n",
    "    #     ax = plt.subplot(2, n, i + 1)\n",
    "    #     plt.imshow(x_test[i].reshape(28, 28))\n",
    "    #     plt.gray()\n",
    "    #     ax.set_axis_off()\n",
    "\n",
    "    #     # display reconstruction\n",
    "    #     ax = plt.subplot(2, n, i + n + 1)\n",
    "    #     plt.imshow(decoded_imgs[i].reshape(28, 28))\n",
    "    #     plt.gray()\n",
    "    #     ax.set_axis_off()\n",
    "\n",
    "    # plt.show()\n",
    "    \n",
    "    return decoded_imgs,X_test,encoded_imgs,autoencoder"
   ]
  },
  {
   "cell_type": "code",
   "execution_count": 44,
   "id": "a1a4957e",
   "metadata": {},
   "outputs": [
    {
     "name": "stdout",
     "output_type": "stream",
     "text": [
      "encoding_dim = 1 hidden_size = 50\n",
      "p_past_vote_2019_Conservative correlation =\n",
      "0.8133123143593947\n",
      "mean correlation =\n",
      "0.2503674707430761\n",
      "encoding_dim = 1 hidden_size = 100\n",
      "p_past_vote_2019_Conservative correlation =\n",
      "0.007011531010262854\n",
      "mean correlation =\n",
      "-0.0011460531934692902\n",
      "encoding_dim = 1 hidden_size = 200\n",
      "p_past_vote_2019_Conservative correlation =\n",
      "0.8138912191540862\n",
      "mean correlation =\n",
      "0.25929253330927965\n",
      "encoding_dim = 2 hidden_size = 50\n",
      "p_past_vote_2019_Conservative correlation =\n",
      "0.8323603415893442\n",
      "mean correlation =\n",
      "0.31915375819283387\n",
      "encoding_dim = 2 hidden_size = 100\n",
      "p_past_vote_2019_Conservative correlation =\n",
      "0.84676510289628\n",
      "mean correlation =\n",
      "0.3275281639499063\n",
      "encoding_dim = 2 hidden_size = 200\n",
      "p_past_vote_2019_Conservative correlation =\n",
      "0.8374433510333384\n",
      "mean correlation =\n",
      "0.32214633326591496\n",
      "encoding_dim = 4 hidden_size = 50\n",
      "p_past_vote_2019_Conservative correlation =\n",
      "0.8321540802348981\n",
      "mean correlation =\n",
      "0.41472467387056644\n",
      "encoding_dim = 4 hidden_size = 100\n",
      "p_past_vote_2019_Conservative correlation =\n",
      "0.8451199306109759\n",
      "mean correlation =\n",
      "0.4168190616432204\n",
      "encoding_dim = 4 hidden_size = 200\n",
      "p_past_vote_2019_Conservative correlation =\n",
      "0.8470093504416387\n",
      "mean correlation =\n",
      "0.43898915794225984\n",
      "encoding_dim = 8 hidden_size = 50\n",
      "p_past_vote_2019_Conservative correlation =\n",
      "0.844075231844957\n",
      "mean correlation =\n",
      "0.5109893147626055\n",
      "encoding_dim = 8 hidden_size = 100\n",
      "p_past_vote_2019_Conservative correlation =\n",
      "0.8409641979993039\n",
      "mean correlation =\n",
      "0.5359475656225745\n",
      "encoding_dim = 8 hidden_size = 200\n",
      "p_past_vote_2019_Conservative correlation =\n",
      "0.8474241872876863\n",
      "mean correlation =\n",
      "0.5402566327634774\n",
      "encoding_dim = 16 hidden_size = 50\n",
      "p_past_vote_2019_Conservative correlation =\n",
      "0.856312723898816\n",
      "mean correlation =\n",
      "0.5529772508682357\n",
      "encoding_dim = 16 hidden_size = 100\n",
      "p_past_vote_2019_Conservative correlation =\n",
      "0.8504119259898593\n",
      "mean correlation =\n",
      "0.5982209891071242\n",
      "encoding_dim = 16 hidden_size = 200\n",
      "p_past_vote_2019_Conservative correlation =\n",
      "0.8572285322314013\n",
      "mean correlation =\n",
      "0.6145135453236342\n",
      "encoding_dim = 32 hidden_size = 50\n",
      "p_past_vote_2019_Conservative correlation =\n",
      "0.8466191773286234\n",
      "mean correlation =\n",
      "0.6207277887677422\n",
      "encoding_dim = 32 hidden_size = 100\n",
      "p_past_vote_2019_Conservative correlation =\n",
      "0.8425790847643575\n",
      "mean correlation =\n",
      "0.6193364691371303\n",
      "encoding_dim = 32 hidden_size = 200\n",
      "p_past_vote_2019_Conservative correlation =\n",
      "0.870931022489733\n",
      "mean correlation =\n",
      "0.6815748371543399\n"
     ]
    }
   ],
   "source": [
    "import warnings\n",
    "warnings.filterwarnings('ignore')\n",
    "\n",
    "for encoding_dim in [1,2,4,8,16,32]:\n",
    "    for hidden_size in [50,100,200]:\n",
    "        print(\"encoding_dim = \"+str(encoding_dim),\"hidden_size = \"+str(hidden_size))\n",
    "        decoded_imgs,X_test,encoded_imgs,autoencoder = run_autoencoder(encoding_dim=encoding_dim,hidden_size=hidden_size,verbose=0)\n",
    "\n",
    "        X_test_reconst = pd.DataFrame(decoded_imgs,columns=X_test.columns,index=X_test.index)\n",
    "    #     X_test_reconst[\"p_past_vote_2019_Conservative\"].hist(bins=100)\n",
    "        print(\"p_past_vote_2019_Conservative correlation =\")\n",
    "        print(X_test_reconst[\"p_past_vote_2019_Conservative\"].corr(X_test[\"p_past_vote_2019_Conservative\"]))\n",
    "        print(\"mean correlation =\")\n",
    "        print(X_test_reconst.apply(lambda x: X_test_reconst[x.name].corr( X_test[x.name] ) ).mean())"
   ]
  },
  {
   "cell_type": "code",
   "execution_count": 45,
   "id": "4817b756",
   "metadata": {},
   "outputs": [],
   "source": [
    "decoded_imgs,X_test,encoded_imgs,autoencoder = run_autoencoder(encoding_dim=1,hidden_size=100,verbose=0)\n",
    "X_test_reconst = pd.DataFrame(decoded_imgs,columns=X_test.columns,index=X_test.index)"
   ]
  },
  {
   "cell_type": "code",
   "execution_count": 46,
   "id": "4ab18ae0",
   "metadata": {},
   "outputs": [
    {
     "data": {
      "text/plain": [
       "id\n",
       "66014     3.477208\n",
       "78512     2.889637\n",
       "102320    0.628365\n",
       "44782     1.620509\n",
       "100932    1.646008\n",
       "            ...   \n",
       "51434     4.214303\n",
       "101213    0.612930\n",
       "14449     4.882107\n",
       "7930      1.157145\n",
       "59978     0.799414\n",
       "Length: 10385, dtype: float32"
      ]
     },
     "execution_count": 46,
     "metadata": {},
     "output_type": "execute_result"
    }
   ],
   "source": [
    "pd.Series(encoded_imgs.reshape(X_test.shape[0]),index=X_test.index)\n",
    "# pd.Series(encoded_imgs,index=X_test.index)"
   ]
  },
  {
   "cell_type": "code",
   "execution_count": 47,
   "id": "fd266f9e",
   "metadata": {},
   "outputs": [
    {
     "data": {
      "text/plain": [
       "(10385, 289)"
      ]
     },
     "execution_count": 47,
     "metadata": {},
     "output_type": "execute_result"
    }
   ],
   "source": [
    "X_test_reconst.shape"
   ]
  },
  {
   "cell_type": "code",
   "execution_count": 48,
   "id": "1facd527",
   "metadata": {},
   "outputs": [
    {
     "data": {
      "text/plain": [
       "<matplotlib.axes._subplots.AxesSubplot at 0x22b0beb38c8>"
      ]
     },
     "execution_count": 48,
     "metadata": {},
     "output_type": "execute_result"
    },
    {
     "data": {
      "image/png": "[encoded data removed]",
      "text/plain": [
       "<Figure size 432x288 with 1 Axes>"
      ]
     },
     "metadata": {},
     "output_type": "display_data"
    }
   ],
   "source": [
    "X_test_reconst.corrwith(pd.Series(encoded_imgs.reshape(X_test.shape[0]),index=X_test.index)).sort_values().hist(bins=100)"
   ]
  },
  {
   "cell_type": "code",
   "execution_count": 49,
   "id": "2eaec7a4",
   "metadata": {},
   "outputs": [
    {
     "data": {
      "text/plain": [
       "partyId_Labour                                                                                                  -0.996898\n",
       "likeLab__Strongly like                                                                                          -0.994701\n",
       "lr3__Strongly agree                                                                                             -0.994073\n",
       "likeLD__Strongly like                                                                                           -0.993612\n",
       "ptvLab__Very likely                                                                                             -0.993239\n",
       "stateOwnership__Strongly agree                                                                                  -0.992724\n",
       "coronaMeasures_3_Yes                                                                                            -0.992416\n",
       "p_job_sector_Public sector government owned or funded (e.g. civil service, local government, NHS, university)   -0.991826\n",
       "lr4__Strongly agree                                                                                             -0.991439\n",
       "lr1__Strongly agree                                                                                             -0.991006\n",
       "lr2__Strongly agree                                                                                             -0.989471\n",
       "p_past_vote_2019_Liberal Democrat                                                                               -0.987829\n",
       "jobForAll__Strongly agree                                                                                       -0.986233\n",
       "partnerOccSupervise_Yes                                                                                         -0.985886\n",
       "ptvLD__Very likely                                                                                              -0.985422\n",
       "handleCoronaLab__Very well                                                                                      -0.983486\n",
       "generalElectionVote_Labour                                                                                      -0.983300\n",
       "p_religion_No, I do not regard myself as belonging to any particular religion.                                  -0.983027\n",
       "changeEconomyLab__Getting a lot better                                                                          -0.979079\n",
       "likeGrn__Strongly like                                                                                          -0.975901\n",
       "enviroGrowth__Protecting the environment should have priority                                                   -0.975471\n",
       "coronaMeasures_4_Yes                                                                                            -0.974511\n",
       "coronaMeasures2_3_Yes                                                                                           -0.973997\n",
       "p_turnout_scot_ref_Yes, I voted                                                                                 -0.972085\n",
       "resourceAccess3_4_Yes                                                                                           -0.971070\n",
       "selfOccSupervise_Yes                                                                                            -0.965792\n",
       "likeStarmer__Strongly like                                                                                      -0.964363\n",
       "workingStatusPartner_Working full time (30 or more hours per week)                                              -0.962956\n",
       "p_past_vote_2019_Labour                                                                                         -0.962439\n",
       "cvEconCon__Save the economy even if it increases infections                                                     -0.957623\n",
       "p_marital_Living with a partner but neither married nor in a civil partnership                                  -0.957195\n",
       "changeNHSLab__Getting a lot better                                                                              -0.956965\n",
       "ptvGrn__Very likely                                                                                             -0.956314\n",
       "selfPriorities_environment_Yes                                                                                  -0.952119\n",
       "CVsuspect_3_Yes                                                                                                 -0.951105\n",
       "workingStatus_Working full time (30 or more hours per week)                                                     -0.948777\n",
       "edlevelPartner__Postgrad                                                                                        -0.948247\n",
       "immigCultural__Enriches cultural life                                                                           -0.946681\n",
       "europeanness__Very strongly European                                                                            -0.946576\n",
       "selfOccSuperviseLast_Yes                                                                                        -0.936246\n",
       "immigSelf__Allow many more                                                                                      -0.935506\n",
       "p_work_stat_Working full time (30 or more hours per week)                                                       -0.932012\n",
       "partyId_Liberal Democrat                                                                                        -0.931725\n",
       "globalGoodOverall__Mainly good                                                                                  -0.929810\n",
       "resourceAccess3_1_Yes                                                                                           -0.928580\n",
       "workHomeCoronaPartner_Yes                                                                                       -0.927516\n",
       "p_past_vote_2017_Labour                                                                                         -0.924322\n",
       "highRiskLetter_2_Yes                                                                                            -0.923321\n",
       "p_education_age__Still at school/Full time student                                                              -0.923245\n",
       "gor_East of England                                                                                             -0.916401\n",
       "dtype: float64"
      ]
     },
     "execution_count": 49,
     "metadata": {},
     "output_type": "execute_result"
    }
   ],
   "source": [
    "X_test_reconst.corrwith(pd.Series(encoded_imgs.reshape(X_test.shape[0]),index=X_test.index)).sort_values().head(50)"
   ]
  },
  {
   "cell_type": "code",
   "execution_count": 50,
   "id": "d4415397",
   "metadata": {},
   "outputs": [
    {
     "data": {
      "text/plain": [
       "trustMPs__A great deal of trust                                                          0.939487\n",
       "sectorPartner_Self-employed                                                              0.940010\n",
       "conPriorities_nhs_Yes                                                                    0.942192\n",
       "motherVote_Conservatives                                                                 0.942270\n",
       "p_religion_Yes - Church of England/Anglican/Episcopal                                    0.945312\n",
       "p_past_vote_2015_Conservative                                                            0.945852\n",
       "fatherVote_Conservatives                                                                 0.946138\n",
       "bestOnMII_Conservative                                                                   0.949906\n",
       "sector_Self-employed                                                                     0.950399\n",
       "goodTimePurchase__Good time to buy                                                       0.951626\n",
       "p_ethnicity_White British                                                                0.952138\n",
       "responsibleCorona_8_Yes                                                                  0.958240\n",
       "partyId_Conservative                                                                     0.959849\n",
       "p_paper_read_The Daily Mail / The Scottish Daily Mail                                    0.963385\n",
       "generalElectionVote_Conservative                                                         0.966102\n",
       "highRiskLetter_1_Yes                                                                     0.966558\n",
       "changeNHS__Getting a lot better                                                          0.966917\n",
       "p_past_vote_2017_Conservative                                                            0.968932\n",
       "englishness__Very strongly English                                                       0.973130\n",
       "satDemUK__Very satisfied                                                                 0.974046\n",
       "econGenProsp__Get a lot better                                                           0.974491\n",
       "privateEnterprise__Strongly agree                                                        0.975903\n",
       "govtHandleTesting__Very well                                                             0.979536\n",
       "p_past_vote_2019_Conservative                                                            0.980511\n",
       "cvEconSelf__Save the economy even if it increases infections                             0.981038\n",
       "partnerEducation_CSE grade 1, GCE O level, GCSE, School Certificate                      0.981356\n",
       "handleCorona__Very well                                                                  0.982371\n",
       "EUIntegrationSelf__Protect our independence                                              0.984697\n",
       "britishness__Very strongly British                                                       0.985476\n",
       "changeCorona__Getting a lot better                                                       0.986857\n",
       "selfPriorities_immig_Yes                                                                 0.987319\n",
       "p_past_vote_2015_United Kingdom Independence Party (UKIP)                                0.987409\n",
       "govtHandlelockdown__Very well                                                            0.989007\n",
       "govtHandlePPE__Very well                                                                 0.989429\n",
       "likeJohnson__Strongly like                                                               0.989607\n",
       "partnerEducation_No formal qualifications                                                0.990375\n",
       "p_parent_Yes                                                                             0.993015\n",
       "ptvBrexitParty__Very likely                                                              0.994657\n",
       "p_job_sector_Private sector profit-seeking (e.g. public limited company, partnership)    0.996191\n",
       "selfPriorities_crime_Yes                                                                 0.997622\n",
       "euID_The leave side                                                                      0.997828\n",
       "p_eurefvote_I voted to leave                                                             0.997840\n",
       "likeCon__Strongly like                                                                   0.998024\n",
       "euRefVoteAfter_Stay out of the EU                                                        0.998135\n",
       "likeFarage__Strongly like                                                                0.998250\n",
       "ptvCon__Very likely                                                                      0.998268\n",
       "ns_sec_analytic_Employers in small organisations and own account workers                 0.998317\n",
       "likeBrexitParty__Strongly like                                                           0.998933\n",
       "trustWestminster__Just about always                                                      0.999199\n",
       "redistSelf__Government should be less concerned about equal incomes                      0.999421\n",
       "dtype: float64"
      ]
     },
     "execution_count": 50,
     "metadata": {},
     "output_type": "execute_result"
    }
   ],
   "source": [
    "X_test_reconst.corrwith(pd.Series(encoded_imgs.reshape(X_test.shape[0]),index=X_test.index)).sort_values().tail(50)"
   ]
  },
  {
   "cell_type": "code",
   "execution_count": null,
   "id": "9563e443",
   "metadata": {},
   "outputs": [],
   "source": []
  },
  {
   "cell_type": "code",
   "execution_count": null,
   "id": "cf2b914d",
   "metadata": {},
   "outputs": [],
   "source": []
  },
  {
   "cell_type": "code",
   "execution_count": 51,
   "id": "1955877d",
   "metadata": {},
   "outputs": [
    {
     "data": {
      "text/plain": [
       "p_past_vote_2005_Labour                                                0.490730\n",
       "al5__Strongly agree                                                    0.496550\n",
       "trustWestminster__Just about always                                    0.497732\n",
       "redistSelf__Government should be less concerned about equal incomes    0.499198\n",
       "lr1__Strongly agree                                                    0.509269\n",
       "benefitsNotDeserved__Strongly agree                                    0.513480\n",
       "al2__Strongly agree                                                    0.524299\n",
       "immigEcon__Good for economy                                            0.529303\n",
       "ptvBrexitParty__Very likely                                            0.533116\n",
       "privateEnterprise__Strongly agree                                      0.533598\n",
       "likeStarmer__Strongly like                                             0.537571\n",
       "govtHandleTesting__Very well                                           0.540595\n",
       "bestOnMII_Labour                                                       0.548692\n",
       "handleCoronaLab__Very well                                             0.548813\n",
       "europeanness__Very strongly European                                   0.549072\n",
       "ptvGrn__Very likely                                                    0.554575\n",
       "generalElectionVote_Labour                                             0.563296\n",
       "p_past_vote_2015_Labour                                                0.564330\n",
       "govtHandlePPE__Very well                                               0.565711\n",
       "immigCultural__Enriches cultural life                                  0.566409\n",
       "changeEconomyLab__Getting a lot better                                 0.568330\n",
       "likeGrn__Strongly like                                                 0.570150\n",
       "al1__Strongly agree                                                    0.579802\n",
       "p_past_vote_2010_Conservative                                          0.581232\n",
       "changeNHSLab__Getting a lot better                                     0.581545\n",
       "p_past_vote_2005_Conservative                                          0.585069\n",
       "govtHandouts__Strongly agree                                           0.592568\n",
       "immigSelf__Allow many more                                             0.596878\n",
       "govtHandlelockdown__Very well                                          0.601810\n",
       "p_past_vote_2015_Conservative                                          0.603067\n",
       "p_eurefvote_I voted to leave                                           0.604289\n",
       "p_past_vote_2019_Labour                                                0.611492\n",
       "immigrantsWelfareState__Strongly agree                                 0.617536\n",
       "p_past_vote_2017_Labour                                                0.621740\n",
       "likeBrexitParty__Strongly like                                         0.639887\n",
       "likeFarage__Strongly like                                              0.641981\n",
       "euPriorityBalance__Control immigration                                 0.655003\n",
       "handleCorona__Very well                                                0.665903\n",
       "euID_The leave side                                                    0.689504\n",
       "likeLab__Strongly like                                                 0.689674\n",
       "euRefVoteAfter_Stay out of the EU                                      0.710547\n",
       "ptvLab__Very likely                                                    0.713160\n",
       "partyId_Conservative                                                   0.738037\n",
       "EUIntegrationSelf__Protect our independence                            0.760306\n",
       "p_past_vote_2017_Conservative                                          0.760718\n",
       "generalElectionVote_Conservative                                       0.788299\n",
       "likeJohnson__Strongly like                                             0.804148\n",
       "p_past_vote_2019_Conservative                                          0.815499\n",
       "likeCon__Strongly like                                                 0.828290\n",
       "ptvCon__Very likely                                                    0.838888\n",
       "dtype: float64"
      ]
     },
     "execution_count": 51,
     "metadata": {},
     "output_type": "execute_result"
    }
   ],
   "source": [
    "X_test_reconst.apply(lambda x: X_test_reconst[x.name].corr( X_test[x.name] ) ).sort_values().tail(50)\n"
   ]
  },
  {
   "cell_type": "code",
   "execution_count": 52,
   "id": "284ef1ea",
   "metadata": {},
   "outputs": [
    {
     "name": "stdout",
     "output_type": "stream",
     "text": [
      "Model: \"model_39\"\n",
      "_________________________________________________________________\n",
      "Layer (type)                 Output Shape              Param #   \n",
      "=================================================================\n",
      "input_57 (InputLayer)        [(None, 289)]             0         \n",
      "_________________________________________________________________\n",
      "dense_88 (Dense)             (None, 100)               29000     \n",
      "_________________________________________________________________\n",
      "dense_89 (Dense)             (None, 1)                 101       \n",
      "_________________________________________________________________\n",
      "dense_90 (Dense)             (None, 100)               200       \n",
      "_________________________________________________________________\n",
      "dense_91 (Dense)             (None, 289)               29189     \n",
      "=================================================================\n",
      "Total params: 58,490\n",
      "Trainable params: 58,490\n",
      "Non-trainable params: 0\n",
      "_________________________________________________________________\n"
     ]
    }
   ],
   "source": [
    "autoencoder.summary()"
   ]
  },
  {
   "cell_type": "code",
   "execution_count": null,
   "id": "db57dec8",
   "metadata": {},
   "outputs": [],
   "source": []
  },
  {
   "cell_type": "code",
   "execution_count": 53,
   "id": "ed05cd0d",
   "metadata": {},
   "outputs": [
    {
     "name": "stdout",
     "output_type": "stream",
     "text": [
      "Model: \"model_39\"\n",
      "_________________________________________________________________\n",
      "Layer (type)                 Output Shape              Param #   \n",
      "=================================================================\n",
      "input_57 (InputLayer)        [(None, 289)]             0         \n",
      "_________________________________________________________________\n",
      "dense_88 (Dense)             (None, 100)               29000     \n",
      "_________________________________________________________________\n",
      "dense_89 (Dense)             (None, 1)                 101       \n",
      "_________________________________________________________________\n",
      "dense_90 (Dense)             (None, 100)               200       \n",
      "_________________________________________________________________\n",
      "dense_91 (Dense)             (None, 289)               29189     \n",
      "=================================================================\n",
      "Total params: 58,490\n",
      "Trainable params: 58,490\n",
      "Non-trainable params: 0\n",
      "_________________________________________________________________\n"
     ]
    }
   ],
   "source": [
    "autoencoder.summary()"
   ]
  },
  {
   "cell_type": "code",
   "execution_count": 54,
   "id": "a407eb23",
   "metadata": {},
   "outputs": [
    {
     "name": "stdout",
     "output_type": "stream",
     "text": [
      "Model: \"model_1\"\n",
      "_________________________________________________________________\n",
      "Layer (type)                 Output Shape              Param #   \n",
      "=================================================================\n",
      "input_1 (InputLayer)         [(None, 784)]             0         \n",
      "_________________________________________________________________\n",
      "dense_14 (Dense)             (None, 32)                25120     \n",
      "=================================================================\n",
      "Total params: 25,120\n",
      "Trainable params: 25,120\n",
      "Non-trainable params: 0\n",
      "_________________________________________________________________\n"
     ]
    }
   ],
   "source": [
    "encoder.summary()"
   ]
  },
  {
   "cell_type": "code",
   "execution_count": 55,
   "id": "787dc029",
   "metadata": {},
   "outputs": [
    {
     "name": "stdout",
     "output_type": "stream",
     "text": [
      "Model: \"model_2\"\n",
      "_________________________________________________________________\n",
      "Layer (type)                 Output Shape              Param #   \n",
      "=================================================================\n",
      "input_2 (InputLayer)         [(None, 32)]              0         \n",
      "_________________________________________________________________\n",
      "dense_15 (Dense)             (None, 784)               25872     \n",
      "=================================================================\n",
      "Total params: 25,872\n",
      "Trainable params: 25,872\n",
      "Non-trainable params: 0\n",
      "_________________________________________________________________\n"
     ]
    }
   ],
   "source": [
    "decoder.summary()"
   ]
  },
  {
   "cell_type": "code",
   "execution_count": 56,
   "id": "3ef12b9a",
   "metadata": {},
   "outputs": [
    {
     "data": {
      "text/plain": [
       "<tensorflow.python.keras.layers.core.Dense at 0x22b0bb2b448>"
      ]
     },
     "execution_count": 56,
     "metadata": {},
     "output_type": "execute_result"
    }
   ],
   "source": [
    "autoencoder.layers[-1]"
   ]
  },
  {
   "cell_type": "code",
   "execution_count": 57,
   "id": "0fa36d38",
   "metadata": {},
   "outputs": [
    {
     "data": {
      "text/plain": [
       "<KerasTensor: shape=(None, 32) dtype=float32 (created by layer 'input_2')>"
      ]
     },
     "execution_count": 57,
     "metadata": {},
     "output_type": "execute_result"
    }
   ],
   "source": [
    "encoded_input"
   ]
  },
  {
   "cell_type": "code",
   "execution_count": 58,
   "id": "70a7619e",
   "metadata": {},
   "outputs": [],
   "source": [
    "# # Model(input_img, autoencoder.layers[])\n",
    "# Model(encoded_input, autoencoder.layers[-1](encoded_input))"
   ]
  },
  {
   "cell_type": "code",
   "execution_count": 59,
   "id": "8cbdb2f4",
   "metadata": {},
   "outputs": [],
   "source": [
    "# # create a placeholder for an encoded (32-dimensional) input\n",
    "# encoded_input = Input(shape=(encoding_dim,))\n",
    "# # retrieve the last layer of the autoencoder model\n",
    "# ## changed to -2 after adding hidden layer!\n",
    "# decoder_layer = autoencoder.layers[-1]\n",
    "# # create the decoder model\n",
    "# decoder = Model(encoded_input, decoder_layer(encoded_input))"
   ]
  },
  {
   "cell_type": "code",
   "execution_count": 60,
   "id": "344d2e54",
   "metadata": {},
   "outputs": [],
   "source": [
    "# encoding_dim = 32\n",
    "# Epoch 2/50\n",
    "#  - 2s - loss: 5935.9533 - acc: 0.3057 - val_loss: 5822.0374 - val_acc: 0.5679\n",
    "# Epoch 50/50\n",
    "#  - 2s - loss: 5680.6994 - acc: 0.8580 - val_loss: 5683.9633 - val_acc: 0.8727\n",
    "\n",
    "# encoding_dim = 16\n",
    "# Epoch 2/50\n",
    "#  - 2s - loss: 5978.8631 - acc: 0.8325 - val_loss: 5866.3392 - val_acc: 0.8639\n",
    "# Epoch 50/50\n",
    "#  - 3s - loss: 5694.4223 - acc: 0.8617 - val_loss: 5697.4094 - val_acc: 0.8703\n",
    "\n",
    "# encoding_dim = 8\n",
    "# Epoch 2/50\n",
    "#  - 2s - loss: 5970.0431 - acc: 0.8586 - val_loss: 5835.3781 - val_acc: 0.8639\n",
    "# Epoch 50/50\n",
    "#  - 2s - loss: 5715.6143 - acc: 0.8595 - val_loss: 5718.3449 - val_acc: 0.8642\n",
    "\n",
    "# encoding_dim = 1\n",
    "# Epoch 2/50\n",
    "#  - 2s - loss: 6096.5372 - acc: 0.0000e+00 - val_loss: 6056.0097 - val_acc: 0.0000e+00\n",
    "# Epoch 38/50\n",
    "#  - 2s - loss: 5753.8536 - acc: 0.0416 - val_loss: 5756.7104 - val_acc: 0.0403\n",
    "\n",
    "# encoding_dim = 2\n",
    "# Epoch 2/50\n",
    "#  - 2s - loss: 6086.2950 - acc: 0.0000e+00 - val_loss: 6052.0046 - val_acc: 0.0000e+00\n",
    "# Epoch 41/50\n",
    "#  - 2s - loss: 5729.3915 - acc: 0.8586 - val_loss: 5731.9737 - val_acc: 0.8639\n",
    "\n",
    "## WTF!\n",
    "# encoding_dim = 3\n",
    "# Epoch 2/50\n",
    "#  - 2s - loss: 6062.5483 - acc: 0.0074 - val_loss: 6017.2380 - val_acc: 0.0075\n",
    "# Epoch 38/50\n",
    "#  - 3s - loss: 5735.6843 - acc: 0.0442 - val_loss: 5738.1730 - val_acc: 0.0402\n",
    "\n",
    "# encoding_dim = 4\n",
    "# Epoch 2/50\n",
    "#  - 2s - loss: 6040.1189 - acc: 4.7432e-05 - val_loss: 5968.3275 - val_acc: 0.0000e+00\n",
    "# Epoch 50/50\n",
    "#  - 2s - loss: 5723.7691 - acc: 0.8586 - val_loss: 5726.4317 - val_acc: 0.8639                   "
   ]
  },
  {
   "cell_type": "code",
   "execution_count": 61,
   "id": "03765bb5",
   "metadata": {},
   "outputs": [],
   "source": [
    "# encoding_dim = 4\n",
    "# hidden_size = 0\n",
    "\n",
    "# Epoch 2/50\n",
    "#  - 1s - loss: 2.0178 - acc: 0.8586 - val_loss: 1.8578 - val_acc: 0.8639\n",
    "# Epoch 50/50\n",
    "#  - 2s - loss: 0.3624 - acc: 0.9903 - val_loss: 0.3628 - val_acc: 0.9922"
   ]
  },
  {
   "cell_type": "code",
   "execution_count": 62,
   "id": "0a29e96e",
   "metadata": {},
   "outputs": [],
   "source": [
    "# encoded_imgs = encoder.predict(X_test.values)\n",
    "# decoded_imgs = decoder.predict(encoded_imgs)\n",
    "\n",
    "# # save latent space features 32-d vector\n",
    "# pickle.dump(encoded_imgs, open(features_path, 'wb'))\n",
    "# pickle.dump(y_test, open(labels_path, 'wb'))\n"
   ]
  },
  {
   "cell_type": "code",
   "execution_count": 63,
   "id": "414084c1",
   "metadata": {},
   "outputs": [
    {
     "data": {
      "text/plain": [
       "(10385, 1)"
      ]
     },
     "execution_count": 63,
     "metadata": {},
     "output_type": "execute_result"
    }
   ],
   "source": [
    "encoded_imgs.shape"
   ]
  },
  {
   "cell_type": "code",
   "execution_count": 64,
   "id": "4ae39e27",
   "metadata": {},
   "outputs": [],
   "source": [
    "# # %%time\n",
    "\n",
    "# # hasattr(tf_gradients_impl, \"_IsBackpropagatable\")\n",
    "# background = X.loc[X.index[np.random.choice(X.shape[0], 200, replace=False)]]\n",
    "\n",
    "# # e = shap.DeepExplainer((model.layers[0].input, model.layers[-1].output), background)\n",
    "# e = shap.DeepExplainer(model, background.values)\n",
    "# shap_values = e.shap_values(background.values)"
   ]
  },
  {
   "cell_type": "code",
   "execution_count": 65,
   "id": "d71d500b",
   "metadata": {},
   "outputs": [
    {
     "data": {
      "text/plain": [
       "(None, 32)"
      ]
     },
     "execution_count": 65,
     "metadata": {},
     "output_type": "execute_result"
    }
   ],
   "source": [
    "decoder_layer.input_shape"
   ]
  },
  {
   "cell_type": "code",
   "execution_count": 66,
   "id": "c2a45e7d",
   "metadata": {},
   "outputs": [
    {
     "data": {
      "text/plain": [
       "(10385, 1)"
      ]
     },
     "execution_count": 66,
     "metadata": {},
     "output_type": "execute_result"
    }
   ],
   "source": [
    "encoded_imgs.shape"
   ]
  },
  {
   "cell_type": "code",
   "execution_count": 67,
   "id": "a929104a",
   "metadata": {},
   "outputs": [
    {
     "data": {
      "text/plain": [
       "(10385, 1)"
      ]
     },
     "execution_count": 67,
     "metadata": {},
     "output_type": "execute_result"
    }
   ],
   "source": [
    "encoded_imgs.shape"
   ]
  },
  {
   "cell_type": "code",
   "execution_count": 68,
   "id": "db09c5ec",
   "metadata": {},
   "outputs": [
    {
     "data": {
      "text/plain": [
       "<matplotlib.axes._subplots.AxesSubplot at 0x22b09044988>"
      ]
     },
     "execution_count": 68,
     "metadata": {},
     "output_type": "execute_result"
    },
    {
     "data": {
      "image/png": "[encoded data removed]",
      "text/plain": [
       "<Figure size 432x288 with 1 Axes>"
      ]
     },
     "metadata": {},
     "output_type": "display_data"
    }
   ],
   "source": [
    "X_test_reconst = pd.DataFrame(decoded_imgs,columns=X_test.columns,index=X_test.index)\n",
    "X_test_reconst[\"p_past_vote_2019_Conservative\"].hist(bins=100)"
   ]
  },
  {
   "cell_type": "code",
   "execution_count": 69,
   "id": "93927515",
   "metadata": {},
   "outputs": [
    {
     "data": {
      "text/plain": [
       "0.8154987944528785"
      ]
     },
     "execution_count": 69,
     "metadata": {},
     "output_type": "execute_result"
    }
   ],
   "source": [
    "X_test_reconst[\"p_past_vote_2019_Conservative\"].corr(X_test[\"p_past_vote_2019_Conservative\"])"
   ]
  },
  {
   "cell_type": "code",
   "execution_count": 70,
   "id": "e07878c3",
   "metadata": {},
   "outputs": [
    {
     "data": {
      "text/plain": [
       "<matplotlib.axes._subplots.AxesSubplot at 0x22b0468eb08>"
      ]
     },
     "execution_count": 70,
     "metadata": {},
     "output_type": "execute_result"
    },
    {
     "data": {
      "image/png": "[encoded data removed]",
      "text/plain": [
       "<Figure size 432x288 with 1 Axes>"
      ]
     },
     "metadata": {},
     "output_type": "display_data"
    }
   ],
   "source": [
    "X_test_reconst = pd.DataFrame(decoded_imgs,columns=X_test.columns,index=X_test.index)\n",
    "X_test_reconst[\"p_past_vote_2019_Conservative\"].hist(bins=100)"
   ]
  },
  {
   "cell_type": "code",
   "execution_count": 71,
   "id": "808f2d4f",
   "metadata": {},
   "outputs": [
    {
     "data": {
      "text/plain": [
       "<matplotlib.axes._subplots.AxesSubplot at 0x22b0bbb8d88>"
      ]
     },
     "execution_count": 71,
     "metadata": {},
     "output_type": "execute_result"
    },
    {
     "data": {
      "image/png": "[encoded data removed]",
      "text/plain": [
       "<Figure size 432x288 with 1 Axes>"
      ]
     },
     "metadata": {},
     "output_type": "display_data"
    }
   ],
   "source": [
    "X_test_reconst = pd.DataFrame(decoded_imgs,columns=X_test.columns,index=X_test.index)\n",
    "X_test_reconst[\"p_past_vote_2019_Conservative\"].hist(bins=100)"
   ]
  },
  {
   "cell_type": "code",
   "execution_count": 72,
   "id": "7d996e48",
   "metadata": {},
   "outputs": [
    {
     "data": {
      "text/plain": [
       "<matplotlib.axes._subplots.AxesSubplot at 0x22b04917148>"
      ]
     },
     "execution_count": 72,
     "metadata": {},
     "output_type": "execute_result"
    },
    {
     "data": {
      "image/png": "[encoded data removed]",
      "text/plain": [
       "<Figure size 432x288 with 1 Axes>"
      ]
     },
     "metadata": {},
     "output_type": "display_data"
    }
   ],
   "source": [
    "X_test_reconst = pd.DataFrame(decoded_imgs,columns=X_test.columns,index=X_test.index)\n",
    "X_test_reconst[\"p_past_vote_2019_Conservative\"].hist(bins=100)"
   ]
  },
  {
   "cell_type": "code",
   "execution_count": 73,
   "id": "e57ebda7",
   "metadata": {},
   "outputs": [
    {
     "data": {
      "text/plain": [
       "<matplotlib.axes._subplots.AxesSubplot at 0x22b07a9cc88>"
      ]
     },
     "execution_count": 73,
     "metadata": {},
     "output_type": "execute_result"
    },
    {
     "data": {
      "image/png": "[encoded data removed]",
      "text/plain": [
       "<Figure size 432x288 with 1 Axes>"
      ]
     },
     "metadata": {},
     "output_type": "display_data"
    }
   ],
   "source": [
    "X_test_reconst = pd.DataFrame(decoded_imgs,columns=X_test.columns,index=X_test.index)\n",
    "X_test_reconst[\"p_past_vote_2019_Conservative\"].hist(bins=100)"
   ]
  },
  {
   "cell_type": "code",
   "execution_count": 74,
   "id": "515b2986",
   "metadata": {},
   "outputs": [
    {
     "data": {
      "text/plain": [
       "<matplotlib.axes._subplots.AxesSubplot at 0x22b07b855c8>"
      ]
     },
     "execution_count": 74,
     "metadata": {},
     "output_type": "execute_result"
    },
    {
     "data": {
      "image/png": "[encoded data removed]",
      "text/plain": [
       "<Figure size 432x288 with 1 Axes>"
      ]
     },
     "metadata": {},
     "output_type": "display_data"
    }
   ],
   "source": [
    "X_test_reconst = pd.DataFrame(decoded_imgs,columns=X_test.columns,index=X_test.index)\n",
    "X_test_reconst[\"p_past_vote_2019_Conservative\"].hist(bins=100)"
   ]
  },
  {
   "cell_type": "code",
   "execution_count": 75,
   "id": "2b69f22f",
   "metadata": {},
   "outputs": [
    {
     "data": {
      "text/plain": [
       "<matplotlib.axes._subplots.AxesSubplot at 0x22b08444bc8>"
      ]
     },
     "execution_count": 75,
     "metadata": {},
     "output_type": "execute_result"
    },
    {
     "data": {
      "image/png": "[encoded data removed]",
      "text/plain": [
       "<Figure size 432x288 with 1 Axes>"
      ]
     },
     "metadata": {},
     "output_type": "display_data"
    }
   ],
   "source": [
    "X_test_reconst = pd.DataFrame(decoded_imgs,columns=X_test.columns,index=X_test.index)\n",
    "X_test_reconst[\"p_past_vote_2019_Conservative\"].hist(bins=100)"
   ]
  },
  {
   "cell_type": "code",
   "execution_count": 76,
   "id": "f1bde516",
   "metadata": {},
   "outputs": [
    {
     "data": {
      "text/plain": [
       "(10385, 289)"
      ]
     },
     "execution_count": 76,
     "metadata": {},
     "output_type": "execute_result"
    }
   ],
   "source": [
    "decoded_imgs.shape"
   ]
  },
  {
   "cell_type": "code",
   "execution_count": null,
   "id": "7ba334de",
   "metadata": {},
   "outputs": [],
   "source": []
  },
  {
   "cell_type": "code",
   "execution_count": 77,
   "id": "54a970d3",
   "metadata": {},
   "outputs": [
    {
     "data": {
      "text/plain": [
       "0.0    6541\n",
       "1.0    3844\n",
       "Name: p_past_vote_2019_Conservative, dtype: int64"
      ]
     },
     "execution_count": 77,
     "metadata": {},
     "output_type": "execute_result"
    }
   ],
   "source": [
    "X_test[\"p_past_vote_2019_Conservative\"].value_counts()"
   ]
  },
  {
   "cell_type": "code",
   "execution_count": 78,
   "id": "f1c704a4",
   "metadata": {},
   "outputs": [
    {
     "data": {
      "text/plain": [
       "0.8154987944528785"
      ]
     },
     "execution_count": 78,
     "metadata": {},
     "output_type": "execute_result"
    }
   ],
   "source": [
    "X_test_reconst[\"p_past_vote_2019_Conservative\"].corr(X_test[\"p_past_vote_2019_Conservative\"])"
   ]
  },
  {
   "cell_type": "code",
   "execution_count": 79,
   "id": "ffc64805",
   "metadata": {},
   "outputs": [
    {
     "data": {
      "text/plain": [
       "id\n",
       "66014     1.0\n",
       "78512     1.0\n",
       "102320    0.0\n",
       "44782     0.0\n",
       "100932    0.0\n",
       "         ... \n",
       "51434     1.0\n",
       "101213    0.0\n",
       "14449     1.0\n",
       "7930      0.0\n",
       "59978     0.0\n",
       "Name: p_past_vote_2019_Conservative, Length: 10385, dtype: float32"
      ]
     },
     "execution_count": 79,
     "metadata": {},
     "output_type": "execute_result"
    }
   ],
   "source": [
    "X_test[\"p_past_vote_2019_Conservative\"]"
   ]
  },
  {
   "cell_type": "code",
   "execution_count": 80,
   "id": "28ec3564",
   "metadata": {},
   "outputs": [
    {
     "data": {
      "text/plain": [
       "id\n",
       "66014     0.739575\n",
       "78512     0.508045\n",
       "102320   -0.019776\n",
       "44782     0.052165\n",
       "100932    0.054727\n",
       "            ...   \n",
       "51434     0.967737\n",
       "101213   -0.019958\n",
       "14449     1.174451\n",
       "7930      0.006815\n",
       "59978    -0.015573\n",
       "Name: p_past_vote_2019_Conservative, Length: 10385, dtype: float32"
      ]
     },
     "execution_count": 80,
     "metadata": {},
     "output_type": "execute_result"
    }
   ],
   "source": [
    "X_test_reconst[\"p_past_vote_2019_Conservative\"]"
   ]
  },
  {
   "cell_type": "code",
   "execution_count": null,
   "id": "6c3309d1",
   "metadata": {},
   "outputs": [],
   "source": []
  },
  {
   "cell_type": "code",
   "execution_count": 81,
   "id": "a426b4d7",
   "metadata": {},
   "outputs": [
    {
     "data": {
      "text/plain": [
       "0.37014925"
      ]
     },
     "execution_count": 81,
     "metadata": {},
     "output_type": "execute_result"
    }
   ],
   "source": [
    "X_test[\"p_past_vote_2019_Conservative\"].mean()"
   ]
  },
  {
   "cell_type": "code",
   "execution_count": null,
   "id": "16c93cdd",
   "metadata": {},
   "outputs": [],
   "source": []
  },
  {
   "cell_type": "code",
   "execution_count": 82,
   "id": "eaa13ecf",
   "metadata": {},
   "outputs": [
    {
     "data": {
      "text/plain": [
       "likeCon__Strongly like                                                                      0.035109\n",
       "privateEnterprise__Strongly agree                                                           0.039254\n",
       "likeJohnson__Strongly like                                                                  0.041606\n",
       "trustWestminster__Just about always                                                         0.041607\n",
       "cvEconCon__Save the economy even if it increases infections                                 0.042835\n",
       "                                                                                              ...   \n",
       "partnerEducation_GCE A level or Higher Certificate                                          0.238679\n",
       "highRiskMedical_none_Yes                                                                    0.240266\n",
       "sector_Private sector firm of company Including, for example, limited companies and PLCs    0.241496\n",
       "coronaMeasures2_5_Yes                                                                       0.242168\n",
       "gender_Female                                                                               0.242581\n",
       "Length: 289, dtype: float64"
      ]
     },
     "execution_count": 82,
     "metadata": {},
     "output_type": "execute_result"
    }
   ],
   "source": [
    "(X_test_reconst-X_test).applymap(lambda x: x**2).mean().sort_values()"
   ]
  },
  {
   "cell_type": "code",
   "execution_count": 83,
   "id": "5a6fbe91",
   "metadata": {},
   "outputs": [
    {
     "data": {
      "text/plain": [
       "(3876.0833, 3844.0)"
      ]
     },
     "execution_count": 83,
     "metadata": {},
     "output_type": "execute_result"
    }
   ],
   "source": [
    "X_test_reconst[\"p_past_vote_2019_Conservative\"].sum(),X_test[\"p_past_vote_2019_Conservative\"].sum()"
   ]
  },
  {
   "cell_type": "code",
   "execution_count": 84,
   "id": "94c7ef46",
   "metadata": {},
   "outputs": [
    {
     "data": {
      "text/plain": [
       "(3876.0833, 3844.0)"
      ]
     },
     "execution_count": 84,
     "metadata": {},
     "output_type": "execute_result"
    }
   ],
   "source": [
    "X_test_reconst[\"p_past_vote_2019_Conservative\"].sum(),X_test[\"p_past_vote_2019_Conservative\"].sum()"
   ]
  },
  {
   "cell_type": "code",
   "execution_count": 85,
   "id": "bc5c4ba3",
   "metadata": {},
   "outputs": [
    {
     "data": {
      "text/plain": [
       "array([[3.4772077 ],\n",
       "       [2.8896375 ],\n",
       "       [0.62836456],\n",
       "       ...,\n",
       "       [4.882107  ],\n",
       "       [1.1571454 ],\n",
       "       [0.7994142 ]], dtype=float32)"
      ]
     },
     "execution_count": 85,
     "metadata": {},
     "output_type": "execute_result"
    }
   ],
   "source": [
    "encoded_imgs"
   ]
  },
  {
   "cell_type": "code",
   "execution_count": 86,
   "id": "8dd1dc2e",
   "metadata": {},
   "outputs": [
    {
     "data": {
      "text/plain": [
       "turnoutUKGeneral__Very likely that I will vote    1.0\n",
       "partyIdStrength__Not very strong                  1.0\n",
       "polAttention__Pay a great deal of attention       1.0\n",
       "likeJohnson__Strongly like                        1.0\n",
       "likeStarmer__Strongly like                        1.0\n",
       "                                                 ... \n",
       "responsibleEconC_2_Yes                            1.0\n",
       "responsibleEconC_1_Yes                            1.0\n",
       "coronaMeasures_2_Yes                              1.0\n",
       "coronaMeasures_1_Yes                              1.0\n",
       "coronaMeasures_4_Yes                              1.0\n",
       "Length: 289, dtype: float32"
      ]
     },
     "execution_count": 86,
     "metadata": {},
     "output_type": "execute_result"
    }
   ],
   "source": [
    "X.max()"
   ]
  },
  {
   "cell_type": "code",
   "execution_count": null,
   "id": "a27c3d3c",
   "metadata": {},
   "outputs": [],
   "source": []
  },
  {
   "cell_type": "code",
   "execution_count": null,
   "id": "87a41036",
   "metadata": {},
   "outputs": [],
   "source": []
  },
  {
   "cell_type": "code",
   "execution_count": null,
   "id": "6d9d3d3a",
   "metadata": {},
   "outputs": [],
   "source": []
  },
  {
   "cell_type": "code",
   "execution_count": null,
   "id": "9789122c",
   "metadata": {},
   "outputs": [],
   "source": []
  },
  {
   "cell_type": "code",
   "execution_count": null,
   "id": "f4350e72",
   "metadata": {},
   "outputs": [],
   "source": []
  },
  {
   "cell_type": "code",
   "execution_count": null,
   "id": "3238a6f9",
   "metadata": {},
   "outputs": [],
   "source": []
  },
  {
   "cell_type": "code",
   "execution_count": 87,
   "id": "pharmaceutical-invalid",
   "metadata": {},
   "outputs": [],
   "source": [
    "prep = BES_Panel.select_dtypes('category')\n",
    "prep = prep.copy()#[temp.columns[0:100]].copy()\n",
    "prep.dropna(axis=1,inplace=True)\n",
    "\n",
    "y = BES_Panel['p_eurefvote']"
   ]
  },
  {
   "cell_type": "code",
   "execution_count": 88,
   "id": "intended-orlando",
   "metadata": {},
   "outputs": [],
   "source": [
    "# search(BES_Panel,\"eurefvote\")"
   ]
  },
  {
   "cell_type": "code",
   "execution_count": 89,
   "id": "liberal-dressing",
   "metadata": {},
   "outputs": [],
   "source": [
    "\n",
    "# y = to_categorical(y)"
   ]
  },
  {
   "cell_type": "code",
   "execution_count": 90,
   "id": "voluntary-kennedy",
   "metadata": {},
   "outputs": [],
   "source": [
    "# prepare target\n",
    "# def prepare_targets(y_train, y_test):\n",
    "#     le = LabelEncoder()\n",
    "#     le.fit(y_train)\n",
    "#     y_train_enc = le.transform(y_train)\n",
    "#     y_test_enc = le.transform(y_test)\n",
    "#     return y_train_enc, y_test_enc\n",
    "\n",
    "\n",
    "enc = OrdinalEncoder()\n",
    "\n",
    "X = enc.fit_transform(prep)\n",
    "X = pd.DataFrame(X,columns = prep.columns,index = prep.index)"
   ]
  },
  {
   "cell_type": "code",
   "execution_count": 91,
   "id": "judicial-confidentiality",
   "metadata": {},
   "outputs": [],
   "source": [
    "# X = prep"
   ]
  },
  {
   "cell_type": "code",
   "execution_count": 92,
   "id": "anonymous-nudist",
   "metadata": {},
   "outputs": [],
   "source": [
    "# no_hidden_layers=2\n",
    "# x = pow(X.shape[1]/encoding_dim,1/ (no_hidden_layers+1) )\n",
    "# [encoding_dim]+[int(encoding_dim*pow(x,y)) for y in range(1,no_hidden_layers+1)]"
   ]
  },
  {
   "cell_type": "code",
   "execution_count": 93,
   "id": "retained-teach",
   "metadata": {},
   "outputs": [],
   "source": [
    "# all layers\n",
    "def get_kernel_regularizer(orthogonality_constraint,dimension,axis,weight=10e-7,weightage=1.0):\n",
    "    if orthogonality_constraint:\n",
    "        return WeightsOrthogonalityConstraint(dimension, weightage=weightage, axis=axis)\n",
    "    else:\n",
    "        return regularizers.l2(weight)\n",
    "\n",
    "# just encoding layer (all of them or just final? Just final surely?)\n",
    "def get_activity_regularizer(uncorrelated_features,encoding_dim, weightage = 1.):\n",
    "    if uncorrelated_features:\n",
    "        return UncorrelatedFeaturesConstraint(encoding_dim, weightage = 1.)\n",
    "    else:\n",
    "        return None\n",
    "\n",
    "# all layers: kernel_constraint=get_kernel_constraint(unit_norm, axis)\n",
    "def get_kernel_constraint(unit_norm, axis):\n",
    "    if unit_norm:\n",
    "        return UnitNorm(axis=axis)\n",
    "    else:\n",
    "        return None    \n",
    "\n",
    "def run_autoencoder(encoding_dim=32,hidden_size=100,verbose=2,\n",
    "                    loss='mean_squared_error',metrics=['accuracy','mse'],optimizer='adam',\n",
    "                    penultimate_act = 'relu',ultimate_act = 'linear',max_epochs=100,\n",
    "                    no_hidden_layers=1,\n",
    "                    tied_layers = False, orthogonality_constraint = False,uncorrelated_features=False,unit_norm=False,\n",
    "                    regularizer_weight=10e-7):\n",
    "\n",
    "    # get rough intermediate sizes for hidden layers\n",
    "    x = pow(X.shape[1]/encoding_dim,1/ (no_hidden_layers+1) )\n",
    "    if no_hidden_layers!=1:\n",
    "        hidden_layer_size = [int(encoding_dim*pow(x,y)) for y in range(1,no_hidden_layers+1)]\n",
    "    else:\n",
    "        hidden_layer_size = [hidden_size]\n",
    "    \n",
    "     \n",
    "    \n",
    "    # Single fully-connected neural layer as encoder and decoder\n",
    "    use_regularizer = True\n",
    "#     my_regularizer = None\n",
    "#     my_epochs = 50\n",
    "    features_path = 'simple_autoe_features.pickle'\n",
    "    labels_path = 'simple_autoe_labels.pickle'\n",
    "\n",
    "    early_stopping_monitor = EarlyStopping(patience=3)\n",
    "\n",
    "    if use_regularizer:\n",
    "        # add a sparsity constraint on the encoded representations\n",
    "        # note use of 10e-5 leads to blurred results\n",
    "    #     my_regularizer = regularizers.l1(10e-8)\n",
    "        # and a larger number of epochs as the added regularization the model\n",
    "        # is less likely to overfit and can be trained longer\n",
    "#         my_epochs = 100\n",
    "        features_path = 'sparse_autoe_features.pickle'\n",
    "        labels_path = 'sparse_autoe_labels.pickle'\n",
    "\n",
    "    # this is the size of our encoded representations\n",
    "    # encoding_dim = encoding_dim   # 32 floats -> compression factor 24.5, assuming the input is 784 floats\n",
    "    # hidden_size = hidden_size\n",
    "\n",
    "# encoder = Dense(encoding_dim, activation=\"linear\", input_shape=(input_dim,), use_bias=True,\n",
    "#                 kernel_regularizer=WeightsOrthogonalityConstraint(encoding_dim, weightage=1., axis=0)) \n",
    "# decoder = Dense(input_dim, activation=\"linear\", use_bias = True,\n",
    "#                 kernel_regularizer=WeightsOrthogonalityConstraint(encoding_dim, weightage=1., axis=1))    \n",
    "\n",
    "\n",
    "    \n",
    "\n",
    "    # this is our input placeholder; 784 = 28 x 28\n",
    "    # input_img = Input(shape=(784, ))\n",
    "\n",
    "    input_img = Input(shape=(X.shape[1], ))\n",
    "\n",
    "    encoder_list = []\n",
    "    \n",
    "    # \"encoded\" is the encoded representation of the inputs\n",
    "    hidden_encoder = input_img\n",
    "    for hidden_layer_number in range(no_hidden_layers-1,-1,-1):       \n",
    "        \n",
    "        d = Dense(hidden_layer_size[hidden_layer_number], activation = penultimate_act,\n",
    "                          kernel_regularizer=get_kernel_regularizer(orthogonality_constraint,\n",
    "                                                                    hidden_layer_size[hidden_layer_number],\n",
    "                                                                    axis=0, weight=regularizer_weight),\n",
    "                          kernel_constraint=get_kernel_constraint(unit_norm, axis=0)\n",
    "                 )\n",
    "        \n",
    "        hidden_encoder = d(hidden_encoder)\n",
    "        encoder_list.append(d)\n",
    "    \n",
    "    d = Dense(encoding_dim, activation=penultimate_act,\n",
    "                          kernel_regularizer=get_kernel_regularizer(orthogonality_constraint,\n",
    "                                                encoding_dim,\n",
    "                                                axis=0, weight=regularizer_weight),\n",
    "                          activity_regularizer= get_activity_regularizer(uncorrelated_features,encoding_dim, weightage = 1.),\n",
    "                          kernel_constraint=get_kernel_constraint(unit_norm, axis=0)\n",
    "             )\n",
    "    \n",
    "    encoded = d(hidden_encoder)\n",
    "    encoder_list.append(d)\n",
    "    # encoded = Dense(encoding_dim, activation='relu', activity_regularizer=my_regularizer)(input_img)\n",
    "\n",
    "\n",
    "    # \"decoded\" is the lossy reconstruction of the input\n",
    "    # decoded = Dense(X.shape[1], activation='sigmoid')(encoded)\n",
    "    \n",
    "    \n",
    "#     decoder = DenseTied(input_dim, activation=\"linear\", tied_to=encoder, use_bias = True)   \n",
    "    \n",
    "    hidden_decoder = encoded\n",
    "    for hidden_layer_number in range(0,no_hidden_layers):\n",
    "        if tied_layers:\n",
    "            hidden_decoder = DenseTied(hidden_layer_size[hidden_layer_number], activation = penultimate_act,\n",
    "                                      tied_to=encoder_list[no_hidden_layers-hidden_layer_number],\n",
    "                                      kernel_regularizer=get_kernel_regularizer(orthogonality_constraint,\n",
    "                                                                    ([encoding_dim]+hidden_layer_size)[hidden_layer_number],\n",
    "                                                                    axis=1, weight=regularizer_weight),  \n",
    "                                      kernel_constraint=get_kernel_constraint(unit_norm, axis=1),\n",
    "                                      )(hidden_decoder)\n",
    "            \n",
    "        else:\n",
    "            hidden_decoder = Dense(hidden_layer_size[hidden_layer_number], activation = penultimate_act,\n",
    "                                      kernel_regularizer=get_kernel_regularizer(orthogonality_constraint,\n",
    "                                                ([encoding_dim]+hidden_layer_size)[hidden_layer_number],\n",
    "                                                 axis=1, weight=regularizer_weight),   \n",
    "                                      kernel_constraint=get_kernel_constraint(unit_norm, axis=1)\n",
    "                                      )(hidden_decoder)\n",
    "            \n",
    "    if tied_layers:\n",
    "        decoded = DenseTied(X.shape[1], activation=ultimate_act,\n",
    "                          tied_to=encoder_list[0],\n",
    "                          kernel_regularizer=get_kernel_regularizer(orthogonality_constraint,\n",
    "                                    ([encoding_dim]+hidden_layer_size)[no_hidden_layers],\n",
    "                                     axis=1, weight=regularizer_weight),   \n",
    "                                     kernel_constraint=get_kernel_constraint(unit_norm, axis=1)\n",
    "                           )(hidden_decoder)\n",
    "\n",
    "    else:            \n",
    "        decoded = Dense(X.shape[1], activation=ultimate_act,\n",
    "                          kernel_regularizer=get_kernel_regularizer(orthogonality_constraint,\n",
    "                                    ([encoding_dim]+hidden_layer_size)[no_hidden_layers],\n",
    "                                     axis=1, weight=regularizer_weight),  \n",
    "                          kernel_constraint=get_kernel_constraint(unit_norm, axis=1)\n",
    "                       )(hidden_decoder)\n",
    "    # decoded = Dense(X.shape[1], activation='linear')(encoded)\n",
    "    # decoded = Dense(X.shape[1], activation='softmax')(encoded)\n",
    "\n",
    "    # this model maps an input to its reconstruction\n",
    "    autoencoder = Model(input_img, decoded)\n",
    "\n",
    "    # Separate Encoder model\n",
    "\n",
    "    # this model maps an input to its encoded representation\n",
    "    encoder = Model(input_img, encoded)\n",
    "\n",
    "    # Separate Decoder model\n",
    "\n",
    "    # create a placeholder for an encoded (32-dimensional) input\n",
    "#     encoded_input = Input(shape=(encoding_dim,))\n",
    "    # hidden_layer_input = Input(shape=(hidden_size,))\n",
    "    # retrieve the last layer of the autoencoder model\n",
    "    ## changed to -2 after adding hidden layer!\n",
    "    # decoder_layer = autoencoder.layers[-1]\n",
    "    # create the decoder model\n",
    "    # decoder = Model(encoded_input, decoder_layer(hidden_layer_input))\n",
    "    encoded_input_layer = InputLayer(input_shape=(encoding_dim,))\n",
    "    # decoder = Model(encoded_input, decoder_layer(encoded_input))\n",
    "\n",
    "    decoder = extract_layers(autoencoder, -1-no_hidden_layers, -1, encoded_input_layer)\n",
    "\n",
    "    # Train to reconstruct MNIST digits\n",
    "\n",
    "    # configure model to use a per-pixel binary crossentropy loss, and the Adadelta optimizer\n",
    "    # autoencoder.compile(optimizer='adadelta', loss='binary_crossentropy')\n",
    "\n",
    "    # autoencoder.compile(optimizer='adadelta', loss='binary_crossentropy')\n",
    "\n",
    "    autoencoder.compile( optimizer = optimizer,\n",
    "    #                loss = 'categorical_crossentropy',\n",
    "    #                loss = 'categorical_crossentropy',\n",
    "                   loss = loss,     \n",
    "                   metrics=metrics)\n",
    "\n",
    "\n",
    "    # # prepare input data\n",
    "    # (x_train, _), (x_test, y_test) = mnist.load_data()\n",
    "\n",
    "    # # normalize all values between 0 and 1 and flatten the 28x28 images into vectors of size 784\n",
    "    # x_train = x_train.astype('float32') / 255.\n",
    "    # x_test = x_test.astype('float32') / 255.\n",
    "    # x_train = x_train.reshape((len(x_train), np.prod(x_train.shape[1:])))\n",
    "    # x_test = x_test.reshape((len(x_test), np.prod(x_test.shape[1:])))\n",
    "    # print(x_train.shape)\n",
    "    # print(x_test.shape)\n",
    "\n",
    "    X_train, X_test, y_train, y_test = train_test_split(\n",
    "        X, y, test_size=0.33, random_state=42)\n",
    "\n",
    "    # Train autoencoder for 50 epochs\n",
    "\n",
    "    if isinstance(X_test, pd.DataFrame):\n",
    "        X_test_values = X_test.values\n",
    "        X_train_values = X_train.values\n",
    "    else:\n",
    "        X_test_values = X_test\n",
    "        X_train_values = X_train\n",
    "    \n",
    "    autoencoder.fit(X_train_values, X_train_values, epochs=max_epochs, batch_size=512,\n",
    "                    shuffle=True, validation_data=(X_test_values, X_test_values),\n",
    "                    verbose=verbose, callbacks=[early_stopping_monitor])\n",
    "\n",
    "    # after 50/100 epochs the autoencoder seems to reach a stable train/test lost value\n",
    "\n",
    "    # Visualize the reconstructed encoded representations\n",
    "\n",
    "    # encode and decode some digits\n",
    "    # note that we take them from the *test* set\n",
    "    encoded_imgs = encoder.predict(X_test_values)\n",
    "    decoded_imgs = decoder.predict(encoded_imgs)\n",
    "\n",
    "    # save latent space features 32-d vector\n",
    "    pickle.dump(encoded_imgs, open(features_path, 'wb'))\n",
    "    pickle.dump(y_test, open(labels_path, 'wb'))\n",
    "\n",
    "    # n = 10  # how many digits we will display\n",
    "    # plt.figure(figsize=(10, 2), dpi=100)\n",
    "    # for i in range(n):\n",
    "    #     # display original\n",
    "    #     ax = plt.subplot(2, n, i + 1)\n",
    "    #     plt.imshow(x_test[i].reshape(28, 28))\n",
    "    #     plt.gray()\n",
    "    #     ax.set_axis_off()\n",
    "\n",
    "    #     # display reconstruction\n",
    "    #     ax = plt.subplot(2, n, i + n + 1)\n",
    "    #     plt.imshow(decoded_imgs[i].reshape(28, 28))\n",
    "    #     plt.gray()\n",
    "    #     ax.set_axis_off()kernel_constrain\n",
    "\n",
    "    # plt.show()\n",
    "    \n",
    "    return decoded_imgs,X_test,encoded_imgs,autoencoder,encoder,decoder"
   ]
  },
  {
   "cell_type": "code",
   "execution_count": 94,
   "id": "13171656",
   "metadata": {},
   "outputs": [],
   "source": [
    "## turn all columns into something like cateogory\n",
    "\n",
    "\n",
    "## dummy all columns, special option for nans\n",
    "# dummy_na\n",
    "\n",
    "\n",
    "## could do sparse output"
   ]
  },
  {
   "cell_type": "code",
   "execution_count": 95,
   "id": "ed153ba7",
   "metadata": {},
   "outputs": [
    {
     "data": {
      "text/plain": [
       "((31468, 162), (31468, 463))"
      ]
     },
     "execution_count": 95,
     "metadata": {},
     "output_type": "execute_result"
    }
   ],
   "source": [
    "prep.shape,BES_Panel.shape"
   ]
  },
  {
   "cell_type": "code",
   "execution_count": 96,
   "id": "9f6017e1",
   "metadata": {},
   "outputs": [],
   "source": [
    "prep2 = BES_Panel.copy()\n",
    "prep2[\"jobzone\"] = prep2[\"jobzone\"].astype('category')\n",
    "prep2[\"country\"] = prep2[\"country\"].replace({1.0:\"England\",2.0:\"Scotland\",3.0:\"Wales\"}).astype('category')"
   ]
  },
  {
   "cell_type": "code",
   "execution_count": 97,
   "id": "9c969c96",
   "metadata": {},
   "outputs": [],
   "source": [
    "prep2 = pd.get_dummies(prep2.select_dtypes('category'), dummy_na=True)\n",
    "prep2_var = prep2.var()\n",
    "prep2 = prep2[prep2_var[prep2_var>.005].index]"
   ]
  },
  {
   "cell_type": "code",
   "execution_count": 98,
   "id": "fb8f578a",
   "metadata": {},
   "outputs": [],
   "source": [
    "prep3 = BES_Panel.copy()\n",
    "prep3 = prep3[search(BES_Panel,\"p_\").index]\n",
    "prep3 = pd.get_dummies(prep3.select_dtypes('category'), dummy_na=True)"
   ]
  },
  {
   "cell_type": "code",
   "execution_count": 99,
   "id": "fa7f7d72",
   "metadata": {},
   "outputs": [],
   "source": [
    "# prep2_var.shape[prep2_var<.01]\n",
    "\n",
    "# 2202/2540 /5105\n"
   ]
  },
  {
   "cell_type": "code",
   "execution_count": 100,
   "id": "b8e5fa4e",
   "metadata": {},
   "outputs": [],
   "source": [
    "# BES_Panel.apply(lambda x: x.dtype.name).value_counts()"
   ]
  },
  {
   "cell_type": "code",
   "execution_count": 101,
   "id": "aef16a9e",
   "metadata": {},
   "outputs": [],
   "source": [
    "# BES_Panel.select_dtypes('number')"
   ]
  },
  {
   "cell_type": "code",
   "execution_count": 102,
   "id": "88c08a21",
   "metadata": {},
   "outputs": [],
   "source": [
    "prep = BES_Panel.select_dtypes('category')\n",
    "prep = prep.copy()#[temp.columns[0:100]].copy()\n",
    "prep.dropna(axis=1,inplace=True)\n",
    "\n",
    "y = BES_Panel['p_eurefvote']"
   ]
  },
  {
   "cell_type": "code",
   "execution_count": 103,
   "id": "narrative-editor",
   "metadata": {},
   "outputs": [],
   "source": [
    "# prepare target\n",
    "# def prepare_targets(y_train, y_test):\n",
    "#     le = LabelEncoder()\n",
    "#     le.fit(y_train)\n",
    "#     y_train_enc = le.transform(y_train)\n",
    "#     y_test_enc = le.transform(y_test)\n",
    "#     return y_train_enc, y_test_enc\n",
    "enc = OneHotEncoder(sparse=False)\n",
    "\n",
    "X = enc.fit_transform(prep)\n",
    "# X = pd.DataFrame(X,columns = prep.columns,index = prep.index)"
   ]
  },
  {
   "cell_type": "code",
   "execution_count": 104,
   "id": "special-illustration",
   "metadata": {},
   "outputs": [
    {
     "data": {
      "text/plain": [
       "(31468, 1214)"
      ]
     },
     "execution_count": 104,
     "metadata": {},
     "output_type": "execute_result"
    }
   ],
   "source": [
    "# low_var_columns = X.columns[X.var()<.05]\n",
    "not_low_var_columns = pd.DataFrame(X).columns[pd.DataFrame(X).var()>.005]\n",
    "X = X[:,not_low_var_columns]\n",
    "# X.drop(low_var_columns,axis=1,inplace=True)\n",
    "X.shape"
   ]
  },
  {
   "cell_type": "code",
   "execution_count": 105,
   "id": "rubber-johnson",
   "metadata": {},
   "outputs": [],
   "source": [
    "X = prep3"
   ]
  },
  {
   "cell_type": "code",
   "execution_count": 106,
   "id": "4c6638f3",
   "metadata": {},
   "outputs": [],
   "source": [
    "# hidden_layer_size"
   ]
  },
  {
   "cell_type": "code",
   "execution_count": 107,
   "id": "ea9ba9f3",
   "metadata": {},
   "outputs": [],
   "source": [
    "# X.max()"
   ]
  },
  {
   "cell_type": "code",
   "execution_count": 108,
   "id": "e1a45345",
   "metadata": {},
   "outputs": [],
   "source": [
    "# low_var_columns\n",
    "# X\n",
    "# if tied_layers:\n",
    "#     print(1)"
   ]
  },
  {
   "cell_type": "code",
   "execution_count": 109,
   "id": "12902ffa",
   "metadata": {},
   "outputs": [],
   "source": [
    "# not_low_var_columns\n",
    "import warnings\n",
    "warnings.filterwarnings('ignore')"
   ]
  },
  {
   "cell_type": "code",
   "execution_count": 110,
   "id": "ca1e3db1",
   "metadata": {},
   "outputs": [],
   "source": [
    "losses = pd.DataFrame(columns = ['encoding_dim','hidden_size','num_epochs',\n",
    "                                 'val_loss', 'val_acc', 'val_mean_squared_error', 'val_binary_accuracy',\n",
    "                                 'val_binary_crossentropy', 'val_kullback_leibler_divergence', 'loss', 'acc',\n",
    "                                 'mean_squared_error', 'binary_accuracy', 'binary_crossentropy', 'kullback_leibler_divergence',\n",
    "                                 'mean_correlation'])\n",
    "count = 0"
   ]
  },
  {
   "cell_type": "code",
   "execution_count": 111,
   "id": "dcd6c105",
   "metadata": {},
   "outputs": [],
   "source": [
    "losses = pd.read_csv(\"losses.csv\")\n",
    "losses.drop(\"Unnamed: 0\",axis=1,inplace=True)\n",
    "count = losses.index[-1]+1"
   ]
  },
  {
   "cell_type": "code",
   "execution_count": null,
   "id": "34782cfd",
   "metadata": {},
   "outputs": [],
   "source": []
  },
  {
   "cell_type": "code",
   "execution_count": 112,
   "id": "f94bf94c",
   "metadata": {},
   "outputs": [],
   "source": [
    "## add noise, store old X in X_old\n",
    "\n",
    "X_old = X.copy()\n",
    "\n",
    "temp = pd.DataFrame(X).astype(bool)\n",
    "\n",
    "rng = np.random.default_rng()\n",
    "e = pd.DataFrame(rng.integers(0, 2, size=temp.shape) ).astype(bool)\n",
    "e = np.random.uniform(0.0, 1.0, size=temp.shape )>.999\n",
    "\n",
    "temp2 = np.where(e,(~temp).astype('int'),temp.astype('int'))\n",
    "temp2 = pd.DataFrame(temp2,columns=temp.columns)\n",
    "temp.apply(lambda x: pd.DataFrame(temp2)[x.name].corr( temp[x.name] ) )\n",
    "\n",
    "X = temp2"
   ]
  },
  {
   "cell_type": "code",
   "execution_count": null,
   "id": "1666c651",
   "metadata": {},
   "outputs": [],
   "source": []
  },
  {
   "cell_type": "code",
   "execution_count": null,
   "id": "492b6c66",
   "metadata": {},
   "outputs": [],
   "source": []
  },
  {
   "cell_type": "code",
   "execution_count": 113,
   "id": "1aaee145",
   "metadata": {},
   "outputs": [],
   "source": [
    "# e.sum()/(e.shape[0]*e.shape[1])\n"
   ]
  },
  {
   "cell_type": "code",
   "execution_count": null,
   "id": "7a6839a0",
   "metadata": {},
   "outputs": [],
   "source": []
  },
  {
   "cell_type": "code",
   "execution_count": 114,
   "id": "c91cf1c8",
   "metadata": {},
   "outputs": [],
   "source": [
    "# Epoch 161/200\n",
    "# 42/42 - 0s - loss: 0.1313 - accuracy: 0.0096 - mse: 0.0353 - binary_accuracy: 0.9552 - binary_crossentropy: 0.1290 - kullback_leibler_divergence: 29.7100 - matthews_correlation: 0.7575 - val_loss: 0.1318 - val_accuracy: 0.0114 - val_mse: 0.0355 - val_binary_accuracy: 0.9550 - val_binary_crossentropy: 0.1295 - val_kullback_leibler_divergence: 30.0128 - val_matthews_correlation: 0.7556"
   ]
  },
  {
   "cell_type": "code",
   "execution_count": 115,
   "id": "469a92f8",
   "metadata": {},
   "outputs": [],
   "source": [
    "losses2 = pd.DataFrame(columns = ['encoding_dim','hidden_size','num_epochs',\n",
    "                                 'val_loss', 'val_acc', 'val_mean_squared_error', 'val_binary_accuracy',\n",
    "                                 'val_binary_crossentropy', 'val_kullback_leibler_divergence','val_matthews_correlation' ,'loss', 'acc',\n",
    "                                 'mean_squared_error', 'binary_accuracy', 'binary_crossentropy', 'kullback_leibler_divergence',\n",
    "                                 'mean_correlation'])\n",
    "count = 0"
   ]
  },
  {
   "cell_type": "code",
   "execution_count": 116,
   "id": "1aab142a",
   "metadata": {},
   "outputs": [],
   "source": [
    "\n",
    "\n",
    "# encoding_dim=params['encoding_dim'],\n",
    "# hidden_size=params['hidden_size'],\n",
    "# no_hidden_layers=params['no_hidden_layers'],\n",
    "# tied_layers=params['tied_layers'],\n",
    "# # orthogonality_constraint=params['orthogonality_constraint'],\n",
    "# uncorrelated_features=params['uncorrelated_features'],\n",
    "# unit_norm=params['unit_norm'],\n",
    "# regularizer_weight=params['regularizer_weight'],\n",
    "# # optimizer=params['optimizer'],\n",
    "\n",
    "from skopt.space import Integer\n",
    "from skopt.space import Real\n",
    "from skopt.space import Categorical\n",
    "from skopt.utils import use_named_args\n",
    "from skopt import gp_minimize\n",
    "\n",
    "# define the space of hyperparameters to search\n",
    "search_space = list()\n",
    "# search_space.append(Real(1e-6, 1.0, 'log-uniform', name='lr'))\n",
    "# search_space.append(Categorical(['linear', 'poly', 'rbf', 'sigmoid'], name='optimizer'))\n",
    "# search_space.append(Real(10e-8, 10e-4, 'log-uniform', name='regularizer_weight'))\n",
    "search_space.append(Integer(0, 1, name='unit_norm'))\n",
    "search_space.append(Integer(0, 1, name='uncorrelated_features'))\n",
    "search_space.append(Integer(0, 1, name='tied_layers'))\n",
    "# search_space.append(Integer(0, 5, name='no_hidden_layers'))\n",
    "# search_space.append(Integer(50, 200, name='hidden_size'))\n",
    "# search_space.append(Integer(2, 100, name='encoding_dim'))\n",
    "\n",
    "\n",
    "# search_space.append(Integer(0, 1, name='degree'))\n",
    "# search_space.append(Real(10e-8, 10e-4, 'log-uniform', name='gamma'))"
   ]
  },
  {
   "cell_type": "code",
   "execution_count": null,
   "id": "cb6afce5",
   "metadata": {},
   "outputs": [],
   "source": []
  },
  {
   "cell_type": "code",
   "execution_count": 117,
   "id": "7628d3c0",
   "metadata": {},
   "outputs": [],
   "source": [
    "@use_named_args(search_space)\n",
    "def evaluate_model(**params):\n",
    "    ultimate_act='sigmoid'\n",
    "    loss = 'binary_crossentropy'\n",
    "        \n",
    "    metrics = ['accuracy',\n",
    "                'mse',\n",
    "                'binary_accuracy',\n",
    "                'binary_crossentropy',\n",
    "                'kullback_leibler_divergence',\n",
    "                matthews_correlation,\n",
    "                ]\n",
    "    verbose = 0\n",
    "    max_epochs = 200\n",
    "    \n",
    "    shuffle=True\n",
    "    batch_size=512\n",
    "#     lr = .003\n",
    "#     lr = params['lr']\n",
    "    \n",
    "#     batch_size=params['batch_size']\n",
    "#     shuffle = params['shuffle']\n",
    "#     orthogonality_constraint = False\n",
    "\n",
    "#     encoding_dim=params['encoding_dim']\n",
    "#     hidden_size=params['hidden_size']\n",
    "#     no_hidden_layers=params['no_hidden_layers']\n",
    "    tied_layers=params['tied_layers']\n",
    "    orthogonality_constraint=False\n",
    "    uncorrelated_features=params['uncorrelated_features']\n",
    "    unit_norm=params['unit_norm']\n",
    "#     regularizer_weight=params['regularizer_weight']\n",
    "    print(tied_layers,uncorrelated_features,unit_norm)\n",
    "    lr = .003\n",
    "    encoding_dim = 13\n",
    "    hidden_size = 100\n",
    "    no_hidden_layers = 2\n",
    "    regularizer_weight = 10e-6\n",
    "    \n",
    "    optimizer = tf.keras.optimizers.Adamax(lr=lr)\n",
    "    \n",
    "    decoded_imgs,X_test,encoded_imgs,autoencoder,encoder,decoder = run_autoencoder(encoding_dim=encoding_dim,\n",
    "                                                                                   hidden_size=hidden_size,\n",
    "                                                                                   verbose=verbose,\n",
    "                                                                                   loss=loss,\n",
    "                                                                                   ultimate_act=ultimate_act,\n",
    "                                                                                   metrics=metrics,\n",
    "                                                                                   max_epochs=max_epochs,\n",
    "                                                                                   no_hidden_layers=no_hidden_layers,\n",
    "                                                                                   tied_layers=tied_layers,\n",
    "                                                                                   orthogonality_constraint=orthogonality_constraint,\n",
    "                                                                                   uncorrelated_features=uncorrelated_features,\n",
    "                                                                                   unit_norm=unit_norm,\n",
    "                                                                                   regularizer_weight=regularizer_weight,\n",
    "                                                                                   optimizer=optimizer,\n",
    "                                                                                  )\n",
    "    X_test = pd.DataFrame(X_test)\n",
    "    X_test_reconst = pd.DataFrame(decoded_imgs)\n",
    "    X_test_reconst.columns = X_test.columns\n",
    "    X_test_reconst.index = X_test.index\n",
    "    mean_correlation  = X_test_reconst.apply(lambda x: X_test_reconst[x.name].corr( X_test[x.name] ) ).mean()        \n",
    "\n",
    "#         X_test_reconst = pd.DataFrame(decoded_imgs,columns=X_test.columns,index=X_test.index)\n",
    "#         X_test_reconst[\"p_past_vote_2019_Conservative\"].hist(bins=100)\n",
    "#         print(\"p_past_vote_2019_Conservative correlation =\")\n",
    "#         print(X_test_reconst[\"p_past_vote_2019_Conservative\"].corr(X_test[\"p_past_vote_2019_Conservative\"]))\n",
    "    print(\"mean correlation =\")\n",
    "    print(mean_correlation)\n",
    "    elapsed_time = time.time() - start_time\n",
    "    print(\"elapsed_time = \",elapsed_time)\n",
    "    return autoencoder.history.history['loss'][-1]"
   ]
  },
  {
   "cell_type": "code",
   "execution_count": 118,
   "id": "2700ca01",
   "metadata": {},
   "outputs": [
    {
     "name": "stdout",
     "output_type": "stream",
     "text": [
      "1 0 0\n",
      "mean correlation =\n",
      "0.16315600250514334\n",
      "elapsed_time =  550.4070963859558\n",
      "0 1 1\n",
      "mean correlation =\n",
      "0.40863783992333585\n",
      "elapsed_time =  601.2338840961456\n",
      "0 0 0\n",
      "mean correlation =\n",
      "0.5098151935110777\n",
      "elapsed_time =  645.8728919029236\n",
      "0 0 0\n",
      "mean correlation =\n",
      "0.5323963505617075\n",
      "elapsed_time =  693.9056599140167\n",
      "1 1 0\n",
      "mean correlation =\n",
      "0.17058612947459664\n",
      "elapsed_time =  769.1907825469971\n",
      "0 0 0\n"
     ]
    },
    {
     "ename": "KeyboardInterrupt",
     "evalue": "",
     "output_type": "error",
     "traceback": [
      "\u001b[1;31m---------------------------------------------------------------------------\u001b[0m",
      "\u001b[1;31mKeyboardInterrupt\u001b[0m                         Traceback (most recent call last)",
      "\u001b[1;32m<ipython-input-118-f1268db98aa2>\u001b[0m in \u001b[0;36m<module>\u001b[1;34m\u001b[0m\n\u001b[1;32m----> 1\u001b[1;33m \u001b[0mresult\u001b[0m \u001b[1;33m=\u001b[0m \u001b[0mgp_minimize\u001b[0m\u001b[1;33m(\u001b[0m\u001b[0mevaluate_model\u001b[0m\u001b[1;33m,\u001b[0m \u001b[0msearch_space\u001b[0m\u001b[1;33m,\u001b[0m \u001b[0mn_jobs\u001b[0m\u001b[1;33m=\u001b[0m\u001b[1;33m-\u001b[0m\u001b[1;36m1\u001b[0m\u001b[1;33m)\u001b[0m\u001b[1;33m\u001b[0m\u001b[1;33m\u001b[0m\u001b[0m\n\u001b[0m\u001b[0;32m      2\u001b[0m \u001b[1;31m# summarizing finding:\u001b[0m\u001b[1;33m\u001b[0m\u001b[1;33m\u001b[0m\u001b[1;33m\u001b[0m\u001b[0m\n\u001b[0;32m      3\u001b[0m \u001b[0mprint\u001b[0m\u001b[1;33m(\u001b[0m\u001b[1;34m'Best Accuracy: %.3f'\u001b[0m \u001b[1;33m%\u001b[0m \u001b[1;33m(\u001b[0m\u001b[0mresult\u001b[0m\u001b[1;33m.\u001b[0m\u001b[0mfun\u001b[0m\u001b[1;33m)\u001b[0m\u001b[1;33m)\u001b[0m\u001b[1;33m\u001b[0m\u001b[1;33m\u001b[0m\u001b[0m\n\u001b[0;32m      4\u001b[0m \u001b[0mprint\u001b[0m\u001b[1;33m(\u001b[0m\u001b[1;34m'Best Parameters: %s'\u001b[0m \u001b[1;33m%\u001b[0m \u001b[1;33m(\u001b[0m\u001b[0mresult\u001b[0m\u001b[1;33m.\u001b[0m\u001b[0mx\u001b[0m\u001b[1;33m)\u001b[0m\u001b[1;33m)\u001b[0m\u001b[1;33m\u001b[0m\u001b[1;33m\u001b[0m\u001b[0m\n",
      "\u001b[1;32mE:\\Users\\Gamer\\anaconda3\\envs\\test_tensorflow_install\\lib\\site-packages\\skopt\\optimizer\\gp.py\u001b[0m in \u001b[0;36mgp_minimize\u001b[1;34m(func, dimensions, base_estimator, n_calls, n_random_starts, n_initial_points, initial_point_generator, acq_func, acq_optimizer, x0, y0, random_state, verbose, callback, n_points, n_restarts_optimizer, xi, kappa, noise, n_jobs, model_queue_size)\u001b[0m\n\u001b[0;32m    266\u001b[0m         \u001b[0mn_restarts_optimizer\u001b[0m\u001b[1;33m=\u001b[0m\u001b[0mn_restarts_optimizer\u001b[0m\u001b[1;33m,\u001b[0m\u001b[1;33m\u001b[0m\u001b[1;33m\u001b[0m\u001b[0m\n\u001b[0;32m    267\u001b[0m         \u001b[0mx0\u001b[0m\u001b[1;33m=\u001b[0m\u001b[0mx0\u001b[0m\u001b[1;33m,\u001b[0m \u001b[0my0\u001b[0m\u001b[1;33m=\u001b[0m\u001b[0my0\u001b[0m\u001b[1;33m,\u001b[0m \u001b[0mrandom_state\u001b[0m\u001b[1;33m=\u001b[0m\u001b[0mrng\u001b[0m\u001b[1;33m,\u001b[0m \u001b[0mverbose\u001b[0m\u001b[1;33m=\u001b[0m\u001b[0mverbose\u001b[0m\u001b[1;33m,\u001b[0m\u001b[1;33m\u001b[0m\u001b[1;33m\u001b[0m\u001b[0m\n\u001b[1;32m--> 268\u001b[1;33m         callback=callback, n_jobs=n_jobs, model_queue_size=model_queue_size)\n\u001b[0m",
      "\u001b[1;32mE:\\Users\\Gamer\\anaconda3\\envs\\test_tensorflow_install\\lib\\site-packages\\skopt\\optimizer\\base.py\u001b[0m in \u001b[0;36mbase_minimize\u001b[1;34m(func, dimensions, base_estimator, n_calls, n_random_starts, n_initial_points, initial_point_generator, acq_func, acq_optimizer, x0, y0, random_state, verbose, callback, n_points, n_restarts_optimizer, xi, kappa, n_jobs, model_queue_size)\u001b[0m\n\u001b[0;32m    299\u001b[0m     \u001b[1;32mfor\u001b[0m \u001b[0mn\u001b[0m \u001b[1;32min\u001b[0m \u001b[0mrange\u001b[0m\u001b[1;33m(\u001b[0m\u001b[0mn_calls\u001b[0m\u001b[1;33m)\u001b[0m\u001b[1;33m:\u001b[0m\u001b[1;33m\u001b[0m\u001b[1;33m\u001b[0m\u001b[0m\n\u001b[0;32m    300\u001b[0m         \u001b[0mnext_x\u001b[0m \u001b[1;33m=\u001b[0m \u001b[0moptimizer\u001b[0m\u001b[1;33m.\u001b[0m\u001b[0mask\u001b[0m\u001b[1;33m(\u001b[0m\u001b[1;33m)\u001b[0m\u001b[1;33m\u001b[0m\u001b[1;33m\u001b[0m\u001b[0m\n\u001b[1;32m--> 301\u001b[1;33m         \u001b[0mnext_y\u001b[0m \u001b[1;33m=\u001b[0m \u001b[0mfunc\u001b[0m\u001b[1;33m(\u001b[0m\u001b[0mnext_x\u001b[0m\u001b[1;33m)\u001b[0m\u001b[1;33m\u001b[0m\u001b[1;33m\u001b[0m\u001b[0m\n\u001b[0m\u001b[0;32m    302\u001b[0m         \u001b[0mresult\u001b[0m \u001b[1;33m=\u001b[0m \u001b[0moptimizer\u001b[0m\u001b[1;33m.\u001b[0m\u001b[0mtell\u001b[0m\u001b[1;33m(\u001b[0m\u001b[0mnext_x\u001b[0m\u001b[1;33m,\u001b[0m \u001b[0mnext_y\u001b[0m\u001b[1;33m)\u001b[0m\u001b[1;33m\u001b[0m\u001b[1;33m\u001b[0m\u001b[0m\n\u001b[0;32m    303\u001b[0m         \u001b[0mresult\u001b[0m\u001b[1;33m.\u001b[0m\u001b[0mspecs\u001b[0m \u001b[1;33m=\u001b[0m \u001b[0mspecs\u001b[0m\u001b[1;33m\u001b[0m\u001b[1;33m\u001b[0m\u001b[0m\n",
      "\u001b[1;32mE:\\Users\\Gamer\\anaconda3\\envs\\test_tensorflow_install\\lib\\site-packages\\skopt\\utils.py\u001b[0m in \u001b[0;36mwrapper\u001b[1;34m(x)\u001b[0m\n\u001b[0;32m    801\u001b[0m \u001b[1;33m\u001b[0m\u001b[0m\n\u001b[0;32m    802\u001b[0m             \u001b[1;31m# Call the wrapped objective function with the named arguments.\u001b[0m\u001b[1;33m\u001b[0m\u001b[1;33m\u001b[0m\u001b[1;33m\u001b[0m\u001b[0m\n\u001b[1;32m--> 803\u001b[1;33m             \u001b[0mobjective_value\u001b[0m \u001b[1;33m=\u001b[0m \u001b[0mfunc\u001b[0m\u001b[1;33m(\u001b[0m\u001b[1;33m**\u001b[0m\u001b[0marg_dict\u001b[0m\u001b[1;33m)\u001b[0m\u001b[1;33m\u001b[0m\u001b[1;33m\u001b[0m\u001b[0m\n\u001b[0m\u001b[0;32m    804\u001b[0m \u001b[1;33m\u001b[0m\u001b[0m\n\u001b[0;32m    805\u001b[0m             \u001b[1;32mreturn\u001b[0m \u001b[0mobjective_value\u001b[0m\u001b[1;33m\u001b[0m\u001b[1;33m\u001b[0m\u001b[0m\n",
      "\u001b[1;32m<ipython-input-117-bfc0191794db>\u001b[0m in \u001b[0;36mevaluate_model\u001b[1;34m(**params)\u001b[0m\n\u001b[0;32m     53\u001b[0m                                                                                    \u001b[0munit_norm\u001b[0m\u001b[1;33m=\u001b[0m\u001b[0munit_norm\u001b[0m\u001b[1;33m,\u001b[0m\u001b[1;33m\u001b[0m\u001b[1;33m\u001b[0m\u001b[0m\n\u001b[0;32m     54\u001b[0m                                                                                    \u001b[0mregularizer_weight\u001b[0m\u001b[1;33m=\u001b[0m\u001b[0mregularizer_weight\u001b[0m\u001b[1;33m,\u001b[0m\u001b[1;33m\u001b[0m\u001b[1;33m\u001b[0m\u001b[0m\n\u001b[1;32m---> 55\u001b[1;33m                                                                                    \u001b[0moptimizer\u001b[0m\u001b[1;33m=\u001b[0m\u001b[0moptimizer\u001b[0m\u001b[1;33m,\u001b[0m\u001b[1;33m\u001b[0m\u001b[1;33m\u001b[0m\u001b[0m\n\u001b[0m\u001b[0;32m     56\u001b[0m                                                                                   )\n\u001b[0;32m     57\u001b[0m     \u001b[0mX_test\u001b[0m \u001b[1;33m=\u001b[0m \u001b[0mpd\u001b[0m\u001b[1;33m.\u001b[0m\u001b[0mDataFrame\u001b[0m\u001b[1;33m(\u001b[0m\u001b[0mX_test\u001b[0m\u001b[1;33m)\u001b[0m\u001b[1;33m\u001b[0m\u001b[1;33m\u001b[0m\u001b[0m\n",
      "\u001b[1;32m<ipython-input-93-a1995c6456ff>\u001b[0m in \u001b[0;36mrun_autoencoder\u001b[1;34m(encoding_dim, hidden_size, verbose, loss, metrics, optimizer, penultimate_act, ultimate_act, max_epochs, no_hidden_layers, tied_layers, orthogonality_constraint, uncorrelated_features, unit_norm, regularizer_weight)\u001b[0m\n\u001b[0;32m    207\u001b[0m     autoencoder.fit(X_train_values, X_train_values, epochs=max_epochs, batch_size=512,\n\u001b[0;32m    208\u001b[0m                     \u001b[0mshuffle\u001b[0m\u001b[1;33m=\u001b[0m\u001b[1;32mTrue\u001b[0m\u001b[1;33m,\u001b[0m \u001b[0mvalidation_data\u001b[0m\u001b[1;33m=\u001b[0m\u001b[1;33m(\u001b[0m\u001b[0mX_test_values\u001b[0m\u001b[1;33m,\u001b[0m \u001b[0mX_test_values\u001b[0m\u001b[1;33m)\u001b[0m\u001b[1;33m,\u001b[0m\u001b[1;33m\u001b[0m\u001b[1;33m\u001b[0m\u001b[0m\n\u001b[1;32m--> 209\u001b[1;33m                     verbose=verbose, callbacks=[early_stopping_monitor])\n\u001b[0m\u001b[0;32m    210\u001b[0m \u001b[1;33m\u001b[0m\u001b[0m\n\u001b[0;32m    211\u001b[0m     \u001b[1;31m# after 50/100 epochs the autoencoder seems to reach a stable train/test lost value\u001b[0m\u001b[1;33m\u001b[0m\u001b[1;33m\u001b[0m\u001b[1;33m\u001b[0m\u001b[0m\n",
      "\u001b[1;32mE:\\Users\\Gamer\\anaconda3\\envs\\test_tensorflow_install\\lib\\site-packages\\tensorflow\\python\\keras\\engine\\training.py\u001b[0m in \u001b[0;36mfit\u001b[1;34m(self, x, y, batch_size, epochs, verbose, callbacks, validation_split, validation_data, shuffle, class_weight, sample_weight, initial_epoch, steps_per_epoch, validation_steps, validation_batch_size, validation_freq, max_queue_size, workers, use_multiprocessing)\u001b[0m\n\u001b[0;32m   1181\u001b[0m                 _r=1):\n\u001b[0;32m   1182\u001b[0m               \u001b[0mcallbacks\u001b[0m\u001b[1;33m.\u001b[0m\u001b[0mon_train_batch_begin\u001b[0m\u001b[1;33m(\u001b[0m\u001b[0mstep\u001b[0m\u001b[1;33m)\u001b[0m\u001b[1;33m\u001b[0m\u001b[1;33m\u001b[0m\u001b[0m\n\u001b[1;32m-> 1183\u001b[1;33m               \u001b[0mtmp_logs\u001b[0m \u001b[1;33m=\u001b[0m \u001b[0mself\u001b[0m\u001b[1;33m.\u001b[0m\u001b[0mtrain_function\u001b[0m\u001b[1;33m(\u001b[0m\u001b[0miterator\u001b[0m\u001b[1;33m)\u001b[0m\u001b[1;33m\u001b[0m\u001b[1;33m\u001b[0m\u001b[0m\n\u001b[0m\u001b[0;32m   1184\u001b[0m               \u001b[1;32mif\u001b[0m \u001b[0mdata_handler\u001b[0m\u001b[1;33m.\u001b[0m\u001b[0mshould_sync\u001b[0m\u001b[1;33m:\u001b[0m\u001b[1;33m\u001b[0m\u001b[1;33m\u001b[0m\u001b[0m\n\u001b[0;32m   1185\u001b[0m                 \u001b[0mcontext\u001b[0m\u001b[1;33m.\u001b[0m\u001b[0masync_wait\u001b[0m\u001b[1;33m(\u001b[0m\u001b[1;33m)\u001b[0m\u001b[1;33m\u001b[0m\u001b[1;33m\u001b[0m\u001b[0m\n",
      "\u001b[1;32mE:\\Users\\Gamer\\anaconda3\\envs\\test_tensorflow_install\\lib\\site-packages\\tensorflow\\python\\eager\\def_function.py\u001b[0m in \u001b[0;36m__call__\u001b[1;34m(self, *args, **kwds)\u001b[0m\n\u001b[0;32m    887\u001b[0m \u001b[1;33m\u001b[0m\u001b[0m\n\u001b[0;32m    888\u001b[0m       \u001b[1;32mwith\u001b[0m \u001b[0mOptionalXlaContext\u001b[0m\u001b[1;33m(\u001b[0m\u001b[0mself\u001b[0m\u001b[1;33m.\u001b[0m\u001b[0m_jit_compile\u001b[0m\u001b[1;33m)\u001b[0m\u001b[1;33m:\u001b[0m\u001b[1;33m\u001b[0m\u001b[1;33m\u001b[0m\u001b[0m\n\u001b[1;32m--> 889\u001b[1;33m         \u001b[0mresult\u001b[0m \u001b[1;33m=\u001b[0m \u001b[0mself\u001b[0m\u001b[1;33m.\u001b[0m\u001b[0m_call\u001b[0m\u001b[1;33m(\u001b[0m\u001b[1;33m*\u001b[0m\u001b[0margs\u001b[0m\u001b[1;33m,\u001b[0m \u001b[1;33m**\u001b[0m\u001b[0mkwds\u001b[0m\u001b[1;33m)\u001b[0m\u001b[1;33m\u001b[0m\u001b[1;33m\u001b[0m\u001b[0m\n\u001b[0m\u001b[0;32m    890\u001b[0m \u001b[1;33m\u001b[0m\u001b[0m\n\u001b[0;32m    891\u001b[0m       \u001b[0mnew_tracing_count\u001b[0m \u001b[1;33m=\u001b[0m \u001b[0mself\u001b[0m\u001b[1;33m.\u001b[0m\u001b[0mexperimental_get_tracing_count\u001b[0m\u001b[1;33m(\u001b[0m\u001b[1;33m)\u001b[0m\u001b[1;33m\u001b[0m\u001b[1;33m\u001b[0m\u001b[0m\n",
      "\u001b[1;32mE:\\Users\\Gamer\\anaconda3\\envs\\test_tensorflow_install\\lib\\site-packages\\tensorflow\\python\\eager\\def_function.py\u001b[0m in \u001b[0;36m_call\u001b[1;34m(self, *args, **kwds)\u001b[0m\n\u001b[0;32m    915\u001b[0m       \u001b[1;31m# In this case we have created variables on the first call, so we run the\u001b[0m\u001b[1;33m\u001b[0m\u001b[1;33m\u001b[0m\u001b[1;33m\u001b[0m\u001b[0m\n\u001b[0;32m    916\u001b[0m       \u001b[1;31m# defunned version which is guaranteed to never create variables.\u001b[0m\u001b[1;33m\u001b[0m\u001b[1;33m\u001b[0m\u001b[1;33m\u001b[0m\u001b[0m\n\u001b[1;32m--> 917\u001b[1;33m       \u001b[1;32mreturn\u001b[0m \u001b[0mself\u001b[0m\u001b[1;33m.\u001b[0m\u001b[0m_stateless_fn\u001b[0m\u001b[1;33m(\u001b[0m\u001b[1;33m*\u001b[0m\u001b[0margs\u001b[0m\u001b[1;33m,\u001b[0m \u001b[1;33m**\u001b[0m\u001b[0mkwds\u001b[0m\u001b[1;33m)\u001b[0m  \u001b[1;31m# pylint: disable=not-callable\u001b[0m\u001b[1;33m\u001b[0m\u001b[1;33m\u001b[0m\u001b[0m\n\u001b[0m\u001b[0;32m    918\u001b[0m     \u001b[1;32melif\u001b[0m \u001b[0mself\u001b[0m\u001b[1;33m.\u001b[0m\u001b[0m_stateful_fn\u001b[0m \u001b[1;32mis\u001b[0m \u001b[1;32mnot\u001b[0m \u001b[1;32mNone\u001b[0m\u001b[1;33m:\u001b[0m\u001b[1;33m\u001b[0m\u001b[1;33m\u001b[0m\u001b[0m\n\u001b[0;32m    919\u001b[0m       \u001b[1;31m# Release the lock early so that multiple threads can perform the call\u001b[0m\u001b[1;33m\u001b[0m\u001b[1;33m\u001b[0m\u001b[1;33m\u001b[0m\u001b[0m\n",
      "\u001b[1;32mE:\\Users\\Gamer\\anaconda3\\envs\\test_tensorflow_install\\lib\\site-packages\\tensorflow\\python\\eager\\function.py\u001b[0m in \u001b[0;36m__call__\u001b[1;34m(self, *args, **kwargs)\u001b[0m\n\u001b[0;32m   3022\u001b[0m        filtered_flat_args) = self._maybe_define_function(args, kwargs)\n\u001b[0;32m   3023\u001b[0m     return graph_function._call_flat(\n\u001b[1;32m-> 3024\u001b[1;33m         filtered_flat_args, captured_inputs=graph_function.captured_inputs)  # pylint: disable=protected-access\n\u001b[0m\u001b[0;32m   3025\u001b[0m \u001b[1;33m\u001b[0m\u001b[0m\n\u001b[0;32m   3026\u001b[0m   \u001b[1;33m@\u001b[0m\u001b[0mproperty\u001b[0m\u001b[1;33m\u001b[0m\u001b[1;33m\u001b[0m\u001b[0m\n",
      "\u001b[1;32mE:\\Users\\Gamer\\anaconda3\\envs\\test_tensorflow_install\\lib\\site-packages\\tensorflow\\python\\eager\\function.py\u001b[0m in \u001b[0;36m_call_flat\u001b[1;34m(self, args, captured_inputs, cancellation_manager)\u001b[0m\n\u001b[0;32m   1959\u001b[0m       \u001b[1;31m# No tape is watching; skip to running the function.\u001b[0m\u001b[1;33m\u001b[0m\u001b[1;33m\u001b[0m\u001b[1;33m\u001b[0m\u001b[0m\n\u001b[0;32m   1960\u001b[0m       return self._build_call_outputs(self._inference_function.call(\n\u001b[1;32m-> 1961\u001b[1;33m           ctx, args, cancellation_manager=cancellation_manager))\n\u001b[0m\u001b[0;32m   1962\u001b[0m     forward_backward = self._select_forward_and_backward_functions(\n\u001b[0;32m   1963\u001b[0m         \u001b[0margs\u001b[0m\u001b[1;33m,\u001b[0m\u001b[1;33m\u001b[0m\u001b[1;33m\u001b[0m\u001b[0m\n",
      "\u001b[1;32mE:\\Users\\Gamer\\anaconda3\\envs\\test_tensorflow_install\\lib\\site-packages\\tensorflow\\python\\eager\\function.py\u001b[0m in \u001b[0;36mcall\u001b[1;34m(self, ctx, args, cancellation_manager)\u001b[0m\n\u001b[0;32m    594\u001b[0m               \u001b[0minputs\u001b[0m\u001b[1;33m=\u001b[0m\u001b[0margs\u001b[0m\u001b[1;33m,\u001b[0m\u001b[1;33m\u001b[0m\u001b[1;33m\u001b[0m\u001b[0m\n\u001b[0;32m    595\u001b[0m               \u001b[0mattrs\u001b[0m\u001b[1;33m=\u001b[0m\u001b[0mattrs\u001b[0m\u001b[1;33m,\u001b[0m\u001b[1;33m\u001b[0m\u001b[1;33m\u001b[0m\u001b[0m\n\u001b[1;32m--> 596\u001b[1;33m               ctx=ctx)\n\u001b[0m\u001b[0;32m    597\u001b[0m         \u001b[1;32melse\u001b[0m\u001b[1;33m:\u001b[0m\u001b[1;33m\u001b[0m\u001b[1;33m\u001b[0m\u001b[0m\n\u001b[0;32m    598\u001b[0m           outputs = execute.execute_with_cancellation(\n",
      "\u001b[1;32mE:\\Users\\Gamer\\anaconda3\\envs\\test_tensorflow_install\\lib\\site-packages\\tensorflow\\python\\eager\\execute.py\u001b[0m in \u001b[0;36mquick_execute\u001b[1;34m(op_name, num_outputs, inputs, attrs, ctx, name)\u001b[0m\n\u001b[0;32m     58\u001b[0m     \u001b[0mctx\u001b[0m\u001b[1;33m.\u001b[0m\u001b[0mensure_initialized\u001b[0m\u001b[1;33m(\u001b[0m\u001b[1;33m)\u001b[0m\u001b[1;33m\u001b[0m\u001b[1;33m\u001b[0m\u001b[0m\n\u001b[0;32m     59\u001b[0m     tensors = pywrap_tfe.TFE_Py_Execute(ctx._handle, device_name, op_name,\n\u001b[1;32m---> 60\u001b[1;33m                                         inputs, attrs, num_outputs)\n\u001b[0m\u001b[0;32m     61\u001b[0m   \u001b[1;32mexcept\u001b[0m \u001b[0mcore\u001b[0m\u001b[1;33m.\u001b[0m\u001b[0m_NotOkStatusException\u001b[0m \u001b[1;32mas\u001b[0m \u001b[0me\u001b[0m\u001b[1;33m:\u001b[0m\u001b[1;33m\u001b[0m\u001b[1;33m\u001b[0m\u001b[0m\n\u001b[0;32m     62\u001b[0m     \u001b[1;32mif\u001b[0m \u001b[0mname\u001b[0m \u001b[1;32mis\u001b[0m \u001b[1;32mnot\u001b[0m \u001b[1;32mNone\u001b[0m\u001b[1;33m:\u001b[0m\u001b[1;33m\u001b[0m\u001b[1;33m\u001b[0m\u001b[0m\n",
      "\u001b[1;31mKeyboardInterrupt\u001b[0m: "
     ]
    }
   ],
   "source": [
    "result = gp_minimize(evaluate_model, search_space, n_jobs=-1)\n",
    "# summarizing finding:\n",
    "print('Best Accuracy: %.3f' % (result.fun))\n",
    "print('Best Parameters: %s' % (result.x))"
   ]
  },
  {
   "cell_type": "code",
   "execution_count": 119,
   "id": "cbbfbcad",
   "metadata": {},
   "outputs": [],
   "source": [
    "from sklearn.model_selection import GridSearchCV"
   ]
  },
  {
   "cell_type": "code",
   "execution_count": null,
   "id": "8af62e00",
   "metadata": {},
   "outputs": [],
   "source": []
  },
  {
   "cell_type": "code",
   "execution_count": null,
   "id": "ace92196",
   "metadata": {},
   "outputs": [],
   "source": []
  },
  {
   "cell_type": "code",
   "execution_count": null,
   "id": "b72dcd8d",
   "metadata": {},
   "outputs": [],
   "source": [
    "# Best Accuracy: 0.997\n",
    "# Best Parameters: [0.1812827106334912, 1e-07, 0, 1, 0, 0, 50, 100]\n",
    "lr=.18, regularizer_weight=1e-07, unit_norm=0,uncorrelated_features=1,tied_layers=0,no_hidden_layers=0,hidden_size=50,encoding_dim=100\n",
    "\n",
    "\n",
    "search_space.append(Real(1e-6, 1.0, 'log-uniform', name='lr'))\n",
    "# search_space.append(Categorical(['linear', 'poly', 'rbf', 'sigmoid'], name='optimizer'))\n",
    "search_space.append(Real(10e-8, 10e-4, 'log-uniform', name='regularizer_weight'))\n",
    "search_space.append(Integer(0, 1, name='unit_norm'))\n",
    "search_space.append(Integer(0, 1, name='uncorrelated_features'))\n",
    "search_space.append(Integer(0, 1, name='tied_layers'))\n",
    "search_space.append(Integer(0, 5, name='no_hidden_layers'))\n",
    "search_space.append(Integer(50, 200, name='hidden_size'))\n",
    "search_space.append(Integer(2, 100, name='encoding_dim'))\n",
    "\n",
    "\n",
    "\n",
    "\n",
    "\n",
    "\n",
    "\n"
   ]
  },
  {
   "cell_type": "code",
   "execution_count": null,
   "id": "overhead-poker",
   "metadata": {},
   "outputs": [],
   "source": [
    "description=\"regularizer_weight=10e-7 argument fixed\"\n",
    "\n",
    "hidden_size=100\n",
    "\n",
    "# originally True\n",
    "tied_layers=False\n",
    "uncorrelated_features=True  ### this one broke with new code! ### FIXED\n",
    "\n",
    "orthogonality_constraint=False ### broken\n",
    "unit_norm=False\n",
    "\n",
    "regularizer_weight=10e-6\n",
    "# test this again\n",
    "# try l1 regularizer?\n",
    "no_hidden_layers=2\n",
    "shuffle=True\n",
    "batch_size=512\n",
    "lr = .003\n",
    "\n",
    "# bit_flip = .999\n",
    "loss = 'binary_crossentropy'\n",
    "# loss = dice_loss\n",
    "# loss = balanced_cross_entropy\n",
    "metrics = ['accuracy',\n",
    "            'mse',\n",
    "            'binary_accuracy',\n",
    "            'binary_crossentropy',\n",
    "            'kullback_leibler_divergence',\n",
    "            matthews_correlation,\n",
    "            ]\n",
    "\n",
    "\n",
    "for encoding_dim in [13]:\n",
    "    \n",
    "    for regularizer_weight in [10e-6]: #,10e-7,10e-8\n",
    "        optimizer = tf.keras.optimizers.Adamax(lr=lr)    \n",
    "        # , beta_1=0.9, beta_2=0.999, epsilon=1e-07\n",
    "        for no_hidden_layers in [1]:\n",
    "        #[ [1,0,1,0],[1,1,1,0],[1,0,1,1],[1,1,1,1], ]:\n",
    "        \n",
    "#             (tied_layers,orthogonality_constraint,uncorrelated_features,unit_norm) = (bool(x) for x in combo)   \n",
    "#         for regularizer_weight in [10e-8]:\n",
    "\n",
    "#             description = str(\"learning_rate=\"+str(lr))\n",
    "            description = \"full dataset with hidden layers=\"+str(no_hidden_layers)\n",
    "            start_time = time.time()\n",
    "            print(\"encoding_dim = \"+str(encoding_dim),\"hidden_size = \"+str(hidden_size),\"no_hidden_layers = \",str(no_hidden_layers))\n",
    "            \n",
    "            decoded_imgs,X_test,encoded_imgs,autoencoder,encoder,decoder = run_autoencoder(encoding_dim=encoding_dim,\n",
    "                                                                                           hidden_size=hidden_size,\n",
    "                                                                                           verbose=2,\n",
    "                                                                                           loss=loss,\n",
    "                                                                                           ultimate_act='sigmoid',\n",
    "                                                                                           metrics=metrics,\n",
    "                                                                                          max_epochs=200,\n",
    "                                                                                          no_hidden_layers=no_hidden_layers,\n",
    "                                                                                          tied_layers=tied_layers,\n",
    "                                                                                          orthogonality_constraint=orthogonality_constraint,\n",
    "                                                                                          uncorrelated_features=uncorrelated_features,\n",
    "                                                                                          unit_norm=unit_norm,\n",
    "                                                                                          regularizer_weight=regularizer_weight,\n",
    "                                                                                          optimizer=optimizer,\n",
    "                                                                                          )\n",
    "\n",
    "            X_test = pd.DataFrame(X_test)\n",
    "\n",
    "            X_test_reconst = pd.DataFrame(decoded_imgs)\n",
    "            X_test_reconst.columns = X_test.columns\n",
    "            X_test_reconst.index = X_test.index\n",
    "            mean_correlation  = X_test_reconst.apply(lambda x: X_test_reconst[x.name].corr( X_test[x.name] ) ).mean()        \n",
    "\n",
    "    #         X_test_reconst = pd.DataFrame(decoded_imgs,columns=X_test.columns,index=X_test.index)\n",
    "    #         X_test_reconst[\"p_past_vote_2019_Conservative\"].hist(bins=100)\n",
    "    #         print(\"p_past_vote_2019_Conservative correlation =\")\n",
    "    #         print(X_test_reconst[\"p_past_vote_2019_Conservative\"].corr(X_test[\"p_past_vote_2019_Conservative\"]))\n",
    "            print(\"mean correlation =\")\n",
    "            print(mean_correlation)\n",
    "            elapsed_time = time.time() - start_time\n",
    "            print(\"elapsed_time = \",elapsed_time)\n",
    "            losses2.loc[count] = [encoding_dim,hidden_size]+[autoencoder.history.epoch[-1]]+[x[-1] for x in autoencoder.history.history.values()]+[mean_correlation]+[no_hidden_layers]+[elapsed_time]+[description]\n",
    "            count=count+1        "
   ]
  },
  {
   "cell_type": "code",
   "execution_count": null,
   "id": "3c9e4fdf",
   "metadata": {},
   "outputs": [],
   "source": [
    "# uncorrelated_features=True\n",
    "# tied_layers=True\n",
    "# Epoch 200/200\n",
    "# 42/42 - 0s - loss: 0.1916 - accuracy: 0.0288 - mse: 0.0537 - binary_accuracy: 0.9303 - binary_crossentropy: 0.1891\n",
    "# - kullback_leibler_divergence: 43.6131 - val_loss: 0.1912 - val_accuracy: 0.0270 - val_mse: 0.0536 - val_binary_accuracy: 0.9303 - val_binary_crossentropy: 0.1886 - val_kullback_leibler_divergence: 43.5077\n",
    "# mean correlation =\n",
    "# 0.1577958942671649\n",
    "# elapsed_time =  68.37737846374512\n",
    "\n",
    "#--------------------------\n",
    "# uncorrelated_features=False\n",
    "# tied_layers=True\n",
    "# Epoch 200/200\n",
    "# 42/42 - 0s - loss: 0.1886 - accuracy: 0.0219 - mse: 0.0526 - binary_accuracy: 0.9321 - binary_crossentropy: 0.1859\n",
    "# - kullback_leibler_divergence: 42.8226 - val_loss: 0.1885 - val_accuracy: 0.0226 - val_mse: 0.0526 - val_binary_accuracy: 0.9321 - val_binary_crossentropy: 0.1859 - val_kullback_leibler_divergence: 42.7679\n",
    "# mean correlation =\n",
    "# 0.1638335884038786\n",
    "# elapsed_time =  40.08471417427063\n",
    "\n",
    "#--------------------------\n",
    "# uncorrelated_features=False\n",
    "# tied_layers=False\n",
    "# Epoch 176/200\n",
    "# 42/42 - 0s - loss: 0.0869 - accuracy: 4.7432e-05 - mse: 0.0216 - binary_accuracy: 0.9724 - binary_crossentropy: 0.0802\n",
    "# - kullback_leibler_divergence: 18.5942 - val_loss: 0.0898 - val_accuracy: 0.0000e+00 - val_mse: 0.0223 - val_binary_accuracy: 0.9716 - val_binary_crossentropy: 0.0831 - val_kullback_leibler_divergence: 19.4395\n",
    "# mean correlation =\n",
    "# 0.5015264096984443\n",
    "# elapsed_time =  37.302175521850586\n",
    "\n",
    "#--------------------------\n",
    "# uncorrelated_features=False\n",
    "# tied_layers=True\n",
    "# Epoch 200/200\n",
    "# 42/42 - 0s - loss: 0.0837 - accuracy: 1.4229e-04 - mse: 0.0204 - binary_accuracy: 0.9739 - binary_crossentropy: 0.0762\n",
    "# - kullback_leibler_divergence: 17.6888 - val_loss: 0.0867 - val_accuracy: 0.0000e+00 - val_mse: 0.0211 - val_binary_accuracy: 0.9731 - val_binary_crossentropy: 0.0791 - val_kullback_leibler_divergence: 18.5374\n",
    "# mean correlation =\n",
    "# 0.5148712388086317\n",
    "# elapsed_time =  69.26004600524902\n",
    "\n",
    "# tied_layers=False\n",
    "# uncorrelated_features=True  ### this one broke with new code! ### FIXED\n",
    "# orthogonality_constraint=False ### broken\n",
    "# unit_norm=True\n",
    "# Epoch 101/200\n",
    "# 42/42 - 0s - loss: 0.1344 - accuracy: 0.0045 - mse: 0.0365 - binary_accuracy: 0.9537 - binary_crossentropy: 0.1321\n",
    "# - kullback_leibler_divergence: 30.3406 - val_loss: 0.1349 - val_accuracy: 0.0045 - val_mse: 0.0366 - val_binary_accuracy: 0.9534 - val_binary_crossentropy: 0.1327 - val_kullback_leibler_divergence: 30.5789\n",
    "# mean correlation =\n",
    "# 0.3345761010588159\n",
    "# elapsed_time =  36.271825075149536\n",
    "\n",
    "\n",
    "# loss = balanced_cross_entropy\n",
    "\n",
    "# Epoch 66/200\n",
    "# 42/42 - 0s - loss: 0.1138 - accuracy: 0.0000e+00 - mse: 0.0751 - binary_accuracy: 0.9165 - binary_crossentropy: 0.5237 - kullback_leibler_divergence: 43.9499 - matthews_correlation: 0.6510 - val_loss: 0.1138 - val_accuracy: 0.0000e+00 - val_mse: 0.0751 - val_binary_accuracy: 0.9165 - val_binary_crossentropy: 0.5220 - val_kullback_leibler_divergence: 43.7886 - val_matthews_correlation: 0.6511\n",
    "# mean correlation =\n",
    "# 0.19238115534753158\n",
    "# elapsed_time =  28.80658984184265\n",
    "\n",
    "\n",
    "# loss = binary_cross_entropy\n",
    "# Epoch 91/200\n",
    "# 42/42 - 0s - loss: 0.1343 - accuracy: 0.0072 - mse: 0.0365 - binary_accuracy: 0.9536 - binary_crossentropy: 0.1320 - kullback_leibler_divergence: 30.3347 - matthews_correlation: 0.7480 - val_loss: 0.1347 - val_accuracy: 0.0056 - val_mse: 0.0366 - val_binary_accuracy: 0.9534 - val_binary_crossentropy: 0.1324 - val_kullback_leibler_divergence: 30.3818 - val_matthews_correlation: 0.7464\n",
    "# mean correlation =\n",
    "# 0.3367017424315757\n",
    "# elapsed_time =  36.835442543029785\n"
   ]
  },
  {
   "cell_type": "code",
   "execution_count": null,
   "id": "28423e15",
   "metadata": {},
   "outputs": [],
   "source": [
    "X.stack().mean()\n",
    "\n",
    "# all binary, .1 - unbalanced!"
   ]
  },
  {
   "cell_type": "code",
   "execution_count": null,
   "id": "622e79d2",
   "metadata": {},
   "outputs": [],
   "source": [
    "\n",
    "# report scikit-optimize version number\n",
    "import skopt\n",
    "print('skopt %s' % skopt.__version__)\n"
   ]
  },
  {
   "cell_type": "code",
   "execution_count": null,
   "id": "a54d16a6",
   "metadata": {},
   "outputs": [],
   "source": [
    "# count=count+1"
   ]
  },
  {
   "cell_type": "code",
   "execution_count": null,
   "id": "61f9aa1e",
   "metadata": {},
   "outputs": [],
   "source": [
    "# X_test_reconst.columns = X_test.columns\n",
    "# X_test_reconst.index = X_test.index\n",
    "# mean_correlation  = X_test_reconst.apply(lambda x: X_test_reconst[x.name].corr( X_test[x.name] ) ).mean()\n",
    "# # count=count-1 \n",
    "# losses.loc[count] = [encoding_dim,hidden_size]+[autoencoder.history.epoch[-1]]+[x[-1] for x in autoencoder.history.history.values()]+[mean_correlation]+[no_hidden_layers]+[elapsed_time]+[description]\n"
   ]
  },
  {
   "cell_type": "code",
   "execution_count": null,
   "id": "4c1e5bb4",
   "metadata": {},
   "outputs": [],
   "source": [
    "corr_dist = X_test_reconst.apply(lambda x: X_test_reconst[x.name].corr( X_test[x.name] ) )"
   ]
  },
  {
   "cell_type": "code",
   "execution_count": null,
   "id": "85135e6e",
   "metadata": {},
   "outputs": [],
   "source": [
    "corr_dist.hist(bins=100)"
   ]
  },
  {
   "cell_type": "code",
   "execution_count": null,
   "id": "9bfb032f",
   "metadata": {},
   "outputs": [],
   "source": [
    "corr_dist[corr_dist<.05].head(50)"
   ]
  },
  {
   "cell_type": "code",
   "execution_count": null,
   "id": "65c16ffc",
   "metadata": {},
   "outputs": [],
   "source": [
    "corr_dist[corr_dist>.95].head(50)"
   ]
  },
  {
   "cell_type": "code",
   "execution_count": null,
   "id": "b603431f",
   "metadata": {},
   "outputs": [],
   "source": []
  },
  {
   "cell_type": "code",
   "execution_count": null,
   "id": "5fce92d9",
   "metadata": {},
   "outputs": [],
   "source": [
    "losses"
   ]
  },
  {
   "cell_type": "code",
   "execution_count": null,
   "id": "0c6b8075",
   "metadata": {},
   "outputs": [],
   "source": [
    "# Adamax Parameters\n",
    "\n",
    "#learning_rate=0.001, beta_1=0.9, beta_2=0.999, epsilon=1e-07,"
   ]
  },
  {
   "cell_type": "code",
   "execution_count": null,
   "id": "400cb8a9",
   "metadata": {},
   "outputs": [],
   "source": [
    "# a  = tf.keras.optimizers.Adamax()\n",
    "# tf.keras.optimizers\n",
    "encoder.summary()"
   ]
  },
  {
   "cell_type": "code",
   "execution_count": null,
   "id": "09c9884e",
   "metadata": {},
   "outputs": [],
   "source": []
  },
  {
   "cell_type": "code",
   "execution_count": null,
   "id": "796e6cf8",
   "metadata": {},
   "outputs": [],
   "source": []
  },
  {
   "cell_type": "code",
   "execution_count": null,
   "id": "2d3bda6e",
   "metadata": {},
   "outputs": [],
   "source": []
  },
  {
   "cell_type": "code",
   "execution_count": null,
   "id": "b4d8df0d",
   "metadata": {},
   "outputs": [],
   "source": []
  },
  {
   "cell_type": "code",
   "execution_count": null,
   "id": "de3f0857",
   "metadata": {},
   "outputs": [],
   "source": [
    "# pd.DataFrame(encoder.predict(X_test.values)).stack().hist()"
   ]
  },
  {
   "cell_type": "code",
   "execution_count": null,
   "id": "86360383",
   "metadata": {},
   "outputs": [],
   "source": [
    "enc_layer = encoder.get_layer(index=-1)\n",
    "enc_layer.activation = tf.keras.activations.linear\n",
    "\n",
    "a = encoder.predict(X_test.values)\n",
    "a.sort(axis=1)\n",
    "a=a[ :,::-1]\n",
    "a = pd.DataFrame(a)\n",
    "a.mean(axis=0).plot()"
   ]
  },
  {
   "cell_type": "code",
   "execution_count": null,
   "id": "843fad80",
   "metadata": {},
   "outputs": [],
   "source": [
    "# a.mean(axis=0)"
   ]
  },
  {
   "cell_type": "code",
   "execution_count": null,
   "id": "ec856775",
   "metadata": {},
   "outputs": [],
   "source": [
    "# (a.mean(axis=0)/a.mean(axis=0).sum()).cumsum().head(50)"
   ]
  },
  {
   "cell_type": "code",
   "execution_count": null,
   "id": "1d6dcbf0",
   "metadata": {},
   "outputs": [],
   "source": [
    "# enc_layer = encoder.get_layer(\"dense_23\")"
   ]
  },
  {
   "cell_type": "code",
   "execution_count": null,
   "id": "882f940b",
   "metadata": {},
   "outputs": [],
   "source": [
    "# enc_layer.kernel.eval()"
   ]
  },
  {
   "cell_type": "code",
   "execution_count": null,
   "id": "2cd69b5b",
   "metadata": {},
   "outputs": [],
   "source": [
    "losses.sort_index().tail(50)"
   ]
  },
  {
   "cell_type": "code",
   "execution_count": null,
   "id": "12d1f0ef",
   "metadata": {},
   "outputs": [],
   "source": [
    "autoencoder.get_layer"
   ]
  },
  {
   "cell_type": "code",
   "execution_count": null,
   "id": "baa5543a",
   "metadata": {},
   "outputs": [],
   "source": [
    "# enc_layer = autoencoder.get_layer(\"dense_23\")"
   ]
  },
  {
   "cell_type": "code",
   "execution_count": null,
   "id": "d08484a5",
   "metadata": {},
   "outputs": [],
   "source": [
    "\n",
    "# enc_layer.kernel.eval()"
   ]
  },
  {
   "cell_type": "code",
   "execution_count": null,
   "id": "e310cf57",
   "metadata": {},
   "outputs": [],
   "source": [
    "# with tf.variable_scope(\"dense_23\", reuse=True):\n",
    "#     weights = tf.get_variable(\"kernel\")"
   ]
  },
  {
   "cell_type": "code",
   "execution_count": null,
   "id": "c375626f",
   "metadata": {},
   "outputs": [],
   "source": [
    "# ['adam','SGD','RMSprop','Nadam','Ftrl','Adamax','Adagrad','Adadelta']"
   ]
  },
  {
   "cell_type": "code",
   "execution_count": null,
   "id": "9d3e1740",
   "metadata": {},
   "outputs": [],
   "source": []
  },
  {
   "cell_type": "code",
   "execution_count": null,
   "id": "9b80b91e",
   "metadata": {},
   "outputs": [],
   "source": [
    "losses.to_csv(\"losses.csv\")"
   ]
  },
  {
   "cell_type": "code",
   "execution_count": null,
   "id": "b3bdb512",
   "metadata": {},
   "outputs": [],
   "source": [
    "autoencoder.summary()"
   ]
  },
  {
   "cell_type": "code",
   "execution_count": null,
   "id": "d3e3f9d0",
   "metadata": {},
   "outputs": [],
   "source": [
    "encoder.summary()"
   ]
  },
  {
   "cell_type": "code",
   "execution_count": null,
   "id": "c816fa59",
   "metadata": {},
   "outputs": [],
   "source": [
    "decoder.summary()"
   ]
  },
  {
   "cell_type": "code",
   "execution_count": null,
   "id": "4b6716dc",
   "metadata": {},
   "outputs": [],
   "source": [
    "no_hidden_layers=2"
   ]
  },
  {
   "cell_type": "code",
   "execution_count": null,
   "id": "f97fd3e9",
   "metadata": {},
   "outputs": [],
   "source": [
    "no_hidden_layers=1\n",
    "x = pow(X.shape[1]/encoding_dim,1/ (no_hidden_layers+1) )\n",
    "[int(encoding_dim*pow(x,y)) for y in range(1,no_hidden_layers+1)]"
   ]
  },
  {
   "cell_type": "code",
   "execution_count": null,
   "id": "06d787a3",
   "metadata": {},
   "outputs": [],
   "source": []
  },
  {
   "cell_type": "code",
   "execution_count": null,
   "id": "d7e4928b",
   "metadata": {},
   "outputs": [],
   "source": [
    "autoencoder.history.history.keys()"
   ]
  },
  {
   "cell_type": "code",
   "execution_count": null,
   "id": "76dc85e1",
   "metadata": {},
   "outputs": [],
   "source": [
    "[encoding_dim,hidden_size]+[autoencoder.history.epoch[-1]]+[x[-1] for x in autoencoder.history.history.values()]+[mean_correlation]"
   ]
  },
  {
   "cell_type": "code",
   "execution_count": null,
   "id": "14aba573",
   "metadata": {},
   "outputs": [],
   "source": [
    "X_test_reconst.apply(lambda x: (X_test_reconst>.5)[x.name].corr( X_test[x.name] ) ).mean()  "
   ]
  },
  {
   "cell_type": "code",
   "execution_count": null,
   "id": "0dff4069",
   "metadata": {},
   "outputs": [],
   "source": [
    "X_test_reconst.apply(lambda x: X_test_reconst[x.name].corr( X_test[x.name] ) ).mean()  "
   ]
  },
  {
   "cell_type": "code",
   "execution_count": null,
   "id": "literary-budget",
   "metadata": {},
   "outputs": [],
   "source": [
    "df = pd.DataFrame(X_test_reconst>.5,columns=enc.get_feature_names()[not_low_var_columns],index=prep.index)"
   ]
  },
  {
   "cell_type": "code",
   "execution_count": null,
   "id": "76486eb1",
   "metadata": {},
   "outputs": [],
   "source": [
    "list(enc.get_feature_names()[not_low_var_columns]).index(\"x1_Conservative\")"
   ]
  },
  {
   "cell_type": "code",
   "execution_count": null,
   "id": "80ba085a",
   "metadata": {},
   "outputs": [],
   "source": [
    "df = (X_test_reconst>.5).astype(int)\n",
    "df.columns = enc.get_feature_names()[not_low_var_columns]"
   ]
  },
  {
   "cell_type": "code",
   "execution_count": null,
   "id": "6c3df14b",
   "metadata": {},
   "outputs": [],
   "source": [
    "search(df,\"Conservative\")"
   ]
  },
  {
   "cell_type": "code",
   "execution_count": null,
   "id": "hawaiian-bridal",
   "metadata": {},
   "outputs": [],
   "source": [
    "df_orig = pd.DataFrame(X_test,columns=enc.get_feature_names()[not_low_var_columns],index=prep.index)"
   ]
  },
  {
   "cell_type": "code",
   "execution_count": null,
   "id": "6a540d58",
   "metadata": {},
   "outputs": [],
   "source": [
    "df_orig = X_test.copy()\n",
    "df_orig.columns = enc.get_feature_names()[not_low_var_columns]\n",
    "df_orig = df_orig.astype(int)"
   ]
  },
  {
   "cell_type": "code",
   "execution_count": null,
   "id": "b429dec2",
   "metadata": {},
   "outputs": [],
   "source": [
    "df_orig[\"x1_Conservative\"].sum()"
   ]
  },
  {
   "cell_type": "code",
   "execution_count": null,
   "id": "d9cdd68e",
   "metadata": {},
   "outputs": [],
   "source": [
    "df[\"x1_Conservative\"].sum()"
   ]
  },
  {
   "cell_type": "code",
   "execution_count": null,
   "id": "1d7e35e6",
   "metadata": {},
   "outputs": [],
   "source": [
    "df[\"x1_Conservative\"].corr(df_orig[\"x1_Conservative\"])"
   ]
  },
  {
   "cell_type": "code",
   "execution_count": null,
   "id": "7ba0c62f",
   "metadata": {},
   "outputs": [],
   "source": [
    "X_test_reconst[7].corr(X_test[7])"
   ]
  },
  {
   "cell_type": "code",
   "execution_count": null,
   "id": "07aa1a6c",
   "metadata": {},
   "outputs": [],
   "source": [
    "sum(df[\"x1_Conservative\"]==df_orig[\"x1_Conservative\"])/df[\"x1_Conservative\"].shape[0]"
   ]
  },
  {
   "cell_type": "code",
   "execution_count": null,
   "id": "dirty-cambridge",
   "metadata": {},
   "outputs": [],
   "source": [
    "X_test_reconst.apply(lambda x: X_test_reconst[x.name].corr( X_test[x.name] ) ).mean()"
   ]
  },
  {
   "cell_type": "code",
   "execution_count": null,
   "id": "meaningful-delta",
   "metadata": {},
   "outputs": [],
   "source": [
    "X_test_reconst.corrwith(pd.Series(encoded_imgs[:,0].reshape(X_test.shape[0]),index=X_test.index)).sort_values().tail(50)"
   ]
  },
  {
   "cell_type": "code",
   "execution_count": null,
   "id": "liable-concentration",
   "metadata": {},
   "outputs": [],
   "source": [
    "X_test_reconst.corrwith(pd.Series(encoded_imgs[:,0].reshape(X_test.shape[0]),index=X_test.index))"
   ]
  },
  {
   "cell_type": "code",
   "execution_count": null,
   "id": "fd922a4d",
   "metadata": {},
   "outputs": [],
   "source": [
    "# column_indices = [int(x.split(\"_\")[0].split(\"x\")[1]) for x in enc.get_feature_names()]\n",
    "\n",
    "# [prep.columns[x] for x in column_indices]\n",
    "\n"
   ]
  },
  {
   "cell_type": "code",
   "execution_count": null,
   "id": "attached-surfing",
   "metadata": {},
   "outputs": [],
   "source": [
    "X_test_reconst.columns = enc.get_feature_names()[not_low_var_columns]\n",
    "X_test_reconst.columns = [prep.columns[int(x.split(\"_\")[0].split(\"x\")[1])] +\"_\"+\"_\".join(x.split(\"_\")[1:]) for x in enc.get_feature_names()[not_low_var_columns]]"
   ]
  },
  {
   "cell_type": "code",
   "execution_count": null,
   "id": "4afae104",
   "metadata": {},
   "outputs": [],
   "source": [
    "pd.Series(encoded_imgs[:,0].reshape(X_test.shape[0]),index=X_test.index)"
   ]
  },
  {
   "cell_type": "code",
   "execution_count": null,
   "id": "de0de628",
   "metadata": {},
   "outputs": [],
   "source": [
    "X_test_reconst"
   ]
  },
  {
   "cell_type": "code",
   "execution_count": null,
   "id": "10129e00",
   "metadata": {},
   "outputs": [],
   "source": [
    "## just the p_ dataset"
   ]
  },
  {
   "cell_type": "code",
   "execution_count": null,
   "id": "bbd891b3",
   "metadata": {
    "scrolled": true
   },
   "outputs": [],
   "source": [
    "get_top_corr(df[0],50)\n",
    "## nan pattern"
   ]
  },
  {
   "cell_type": "code",
   "execution_count": null,
   "id": "6eadd1a7",
   "metadata": {
    "scrolled": true
   },
   "outputs": [],
   "source": [
    "get_top_corr(df[1],50)\n",
    "#+: non-voting, private renting,  non-cohabit relationship, hh_childnren=1/_size=3, read no newspaper, private sector,\n",
    "# Black and White caribbean/african, live with parents\n",
    "#-: voting, retired, home-owning, methodist|baptist|United Reformed Church, reads \"Other newspaper\"|mirror|express,\n",
    "# Labour|Conservatiove, 10-15k personal income, "
   ]
  },
  {
   "cell_type": "code",
   "execution_count": null,
   "id": "dc5b223f",
   "metadata": {},
   "outputs": [],
   "source": [
    "get_top_corr(df[2],50)\n",
    "#+: ed age<=15/16, no formal quals, local auth/housing assoc renter, reads Sun|Star, disabled, Leave, retired, grade E, BNP\n",
    "    # voted2005, £5-15k, White British, ed-pref not to say/other technical, Conservative\n",
    "#-: ed age>=20, undergrad, degree, A-level, reads Independent, grade B|C1, £35-45k, Remain, house part-own, Full-time,\n",
    "    # non-cohab relationship, White and Asian, public sector, born East Asia, \n"
   ]
  },
  {
   "cell_type": "code",
   "execution_count": null,
   "id": "f793e6e7",
   "metadata": {},
   "outputs": [],
   "source": [
    "get_top_corr(df[3],50)\n",
    "#+: non-scot, ed_age 16, 5-15k, GCE/O-level/A-level\n",
    "#-: ScotrefVoted, £35-100k, reads Scotsman, Scotref_No, postgrad/degree/ed_age 20+, presby/Brethren, born East Asia/Oceania,\n",
    "    #SNP/Conservative,Full-time work, Own with mortgage,\n",
    "    # "
   ]
  },
  {
   "cell_type": "code",
   "execution_count": null,
   "id": "c53df7c9",
   "metadata": {},
   "outputs": [],
   "source": [
    "get_top_corr(df[4],50)"
   ]
  },
  {
   "cell_type": "code",
   "execution_count": null,
   "id": "174e9efe",
   "metadata": {},
   "outputs": [],
   "source": [
    "get_top_corr(df[5],50)\n",
    "\n",
    "# scotref!"
   ]
  },
  {
   "cell_type": "code",
   "execution_count": null,
   "id": "fa44d6f3",
   "metadata": {},
   "outputs": [],
   "source": [
    "get_top_corr(df[6],50)\n",
    "# uber-conservative/leave/mail/express axis/ white british/born UK/Methodist/voted2019/UKIP/outright homeowner\n",
    "# guardian/independent/other ethnic group/born elsewhere/Labour/private renter/bisexual/other religion/orthodox Christian"
   ]
  },
  {
   "cell_type": "code",
   "execution_count": null,
   "id": "f0571496",
   "metadata": {},
   "outputs": [],
   "source": [
    "get_top_corr(df[7],50)\n",
    "#+:ed_age <=15/16,anglican,parent,voted2015,married,\n",
    "#-:undergrad/degree/private rent/bisexual,single,"
   ]
  },
  {
   "cell_type": "code",
   "execution_count": null,
   "id": "fff8bb64",
   "metadata": {},
   "outputs": [],
   "source": []
  },
  {
   "cell_type": "code",
   "execution_count": null,
   "id": "5dced2af",
   "metadata": {},
   "outputs": [],
   "source": []
  },
  {
   "cell_type": "code",
   "execution_count": null,
   "id": "9aed70d1",
   "metadata": {},
   "outputs": [],
   "source": []
  },
  {
   "cell_type": "code",
   "execution_count": null,
   "id": "730a4737",
   "metadata": {},
   "outputs": [],
   "source": []
  },
  {
   "cell_type": "code",
   "execution_count": null,
   "id": "d9979813",
   "metadata": {},
   "outputs": [],
   "source": []
  },
  {
   "cell_type": "code",
   "execution_count": null,
   "id": "fc22d9a1",
   "metadata": {},
   "outputs": [],
   "source": []
  },
  {
   "cell_type": "code",
   "execution_count": null,
   "id": "e52ccca7",
   "metadata": {},
   "outputs": [],
   "source": []
  },
  {
   "cell_type": "code",
   "execution_count": null,
   "id": "d615afd3",
   "metadata": {},
   "outputs": [],
   "source": []
  },
  {
   "cell_type": "code",
   "execution_count": null,
   "id": "95eac889",
   "metadata": {},
   "outputs": [],
   "source": []
  },
  {
   "cell_type": "code",
   "execution_count": null,
   "id": "e093caed",
   "metadata": {},
   "outputs": [],
   "source": [
    "## Full dataset"
   ]
  },
  {
   "cell_type": "code",
   "execution_count": null,
   "id": "3aa83b84",
   "metadata": {
    "scrolled": true
   },
   "outputs": [],
   "source": [
    "df[0][ df[0].abs().sort_values(ascending=False).head(50).index ]\n",
    "# ~70s homeowners, retired, no risk unemploy, not furloughed, no income change, no risk povery, employed medium/big org, voted2005, no high risk close family\n",
    "# vs ~30s, hhsize =3/6, private renting, close family hospitalised"
   ]
  },
  {
   "cell_type": "code",
   "execution_count": null,
   "id": "40558385",
   "metadata": {
    "scrolled": true
   },
   "outputs": [],
   "source": [
    "get_top_corr(df[1],50)\n",
    "# leave voting, lab would handle corona/economic badly, tax_spend_5, immig bad for culture, Not Scotland??\n",
    "# vs pro-imm, non-Eng id, likes greens, Remain/rejoin id, reduced cv infections, BXP vote unlikely, disagree too many handouts, taxSpend pro spending\n",
    "    # lrLD/SNP =5\n"
   ]
  },
  {
   "cell_type": "code",
   "execution_count": null,
   "id": "baff5011",
   "metadata": {
    "scrolled": true
   },
   "outputs": [],
   "source": [
    "get_top_corr(df[2],50)\n",
    "#+: retired+no sector, disability, personal high medical risk, 70s, pref not to answer gross income\n",
    "#-: full-time work, unemployment fairly unlikely, employee/supervisor midsize/arge org, homeworking due to corona,\n",
    "# pub/third/private sector, mid-high income, somewhat worried about close ppl catching corona, ~40s, no disability, mortgage\n"
   ]
  },
  {
   "cell_type": "code",
   "execution_count": null,
   "id": "c566f55f",
   "metadata": {},
   "outputs": [],
   "source": [
    "get_top_corr(df[3],50)\n",
    "# nan structure"
   ]
  },
  {
   "cell_type": "code",
   "execution_count": null,
   "id": "9ccf6d7b",
   "metadata": {},
   "outputs": [],
   "source": [
    "get_top_corr(df[4],50)\n",
    "# more nan structure"
   ]
  },
  {
   "cell_type": "code",
   "execution_count": null,
   "id": "5d8eddb4",
   "metadata": {},
   "outputs": [],
   "source": [
    "get_top_corr(df[5],50)\n",
    "# more nan structure?"
   ]
  },
  {
   "cell_type": "code",
   "execution_count": null,
   "id": "6665f771",
   "metadata": {},
   "outputs": [],
   "source": [
    "get_top_corr(df[6],50)\n",
    "#\n",
    "#"
   ]
  },
  {
   "cell_type": "code",
   "execution_count": null,
   "id": "f88b8fe0",
   "metadata": {},
   "outputs": [],
   "source": [
    "get_top_corr(df[7],50)\n",
    "#+: Don't knows\n",
    "#-: infoSourceTV 1-2 hrs\n",
    "#"
   ]
  },
  {
   "cell_type": "code",
   "execution_count": null,
   "id": "db578f0a",
   "metadata": {},
   "outputs": [],
   "source": [
    "get_top_corr(df[8],50)\n",
    "# nans"
   ]
  },
  {
   "cell_type": "code",
   "execution_count": null,
   "id": "2b9079a8",
   "metadata": {},
   "outputs": [],
   "source": [
    "get_top_corr(df[9],50)\n",
    "# nans"
   ]
  },
  {
   "cell_type": "code",
   "execution_count": null,
   "id": "8d97b23c",
   "metadata": {},
   "outputs": [],
   "source": [
    "get_top_corr(df[10],50)"
   ]
  },
  {
   "cell_type": "code",
   "execution_count": null,
   "id": "60489c62",
   "metadata": {},
   "outputs": [],
   "source": [
    "get_top_corr(df[11],50)"
   ]
  },
  {
   "cell_type": "code",
   "execution_count": null,
   "id": "2415b3a9",
   "metadata": {},
   "outputs": [],
   "source": [
    "get_top_corr(df[12],50)"
   ]
  },
  {
   "cell_type": "code",
   "execution_count": null,
   "id": "ae71d1b4",
   "metadata": {},
   "outputs": [],
   "source": []
  },
  {
   "cell_type": "code",
   "execution_count": null,
   "id": "901f3258",
   "metadata": {},
   "outputs": [],
   "source": [
    "df = pd.DataFrame(encoded_imgs,index=X_test.index).apply(lambda x: X_test_reconst.corrwith(x))\n",
    "def get_top_corr(x,n):\n",
    "    return x[x.abs().sort_values(ascending=False).head(n).index]"
   ]
  },
  {
   "cell_type": "code",
   "execution_count": null,
   "id": "e6b8c339",
   "metadata": {},
   "outputs": [],
   "source": [
    "df[0][ df[0].abs().sort_values(ascending=False).head(25).index ]\n",
    "# Don't know - Confident no family members/you/anyone else have had covid (gender effect?)/No coronavirus measures"
   ]
  },
  {
   "cell_type": "code",
   "execution_count": null,
   "id": "9b25d88a",
   "metadata": {},
   "outputs": [],
   "source": [
    "get_top_corr(df[1],25)\n",
    "# Distrust of Westminster/MPs vs Trust in Cons"
   ]
  },
  {
   "cell_type": "code",
   "execution_count": null,
   "id": "0cee76e8",
   "metadata": {},
   "outputs": [],
   "source": [
    "get_top_corr(df[2],25)\n",
    "# Have - haven't close association with people who received High Risk medical letter/warning over covid"
   ]
  },
  {
   "cell_type": "code",
   "execution_count": null,
   "id": "eb023232",
   "metadata": {},
   "outputs": [],
   "source": [
    "get_top_corr(df[4],25)\n",
    "# euID/Farage/BrexitParty/uni/social grade B/anti-death penalty vs euID Leave/reads-Sun/strongLeader-meh"
   ]
  },
  {
   "cell_type": "code",
   "execution_count": null,
   "id": "6bf32c37",
   "metadata": {},
   "outputs": [],
   "source": [
    "get_top_corr(df[5],25)\n",
    "# hhIncomeCorona reduction/you someone you know stopped work/lost inc - age+/hhIncomeCorona static/retired/economy stayed same/unemployment unlikely/no suspicion anyone close had corona"
   ]
  },
  {
   "cell_type": "code",
   "execution_count": null,
   "id": "583bb1cb",
   "metadata": {},
   "outputs": [],
   "source": [
    "get_top_corr(df[6],25)\n",
    "# Full-time-work/thinks Lab prioritises corona-lives&equal inc, choose midpoint - vs choose Don't know/9pt"
   ]
  },
  {
   "cell_type": "code",
   "execution_count": null,
   "id": "bc490a1b",
   "metadata": {},
   "outputs": [],
   "source": [
    "get_top_corr(df[7],25)\n",
    "# corona impacted work income/lr(2,3,4))_Agree,taxSpend_6,private_enterprise_meh - corona didn't stop work/income increased/unemployment unlikely"
   ]
  },
  {
   "cell_type": "code",
   "execution_count": null,
   "id": "040fa040",
   "metadata": {},
   "outputs": [],
   "source": [
    "get_top_corr(df[8],25)\n",
    "# economy got/getting/will get a *lot* worse, extremely worried corona,likeStarmer_8/9/10,cutsTooFar,ptvLab - economy \"\" little worse"
   ]
  },
  {
   "cell_type": "code",
   "execution_count": null,
   "id": "743849f9",
   "metadata": {},
   "outputs": [],
   "source": [
    "get_top_corr(df[9],25)\n",
    "# not close to anyone who got corona, don't like BrexitParty/Farage, BXP right-wing - dk if close to anyone with corona, might vote BXP"
   ]
  },
  {
   "cell_type": "code",
   "execution_count": null,
   "id": "a82c697c",
   "metadata": {},
   "outputs": [],
   "source": [
    "get_top_corr(df[10],25)\n",
    "# euID_leave, economy/corona would get worse under Labour/immigration easier, --Grn/LD/Lab, read Daily Mail, Labour is 100% Left and Remaniac ,\n",
    "# al1_Strongly Agree (young people don't respect British values), partyId Conservative, economy>environment"
   ]
  },
  {
   "cell_type": "code",
   "execution_count": null,
   "id": "520c004f",
   "metadata": {},
   "outputs": [],
   "source": [
    "get_top_corr(df[11],25)\n",
    "# corona corona corona, taxSpend_8"
   ]
  },
  {
   "cell_type": "code",
   "execution_count": null,
   "id": "90753b55",
   "metadata": {},
   "outputs": [],
   "source": [
    "get_top_corr(df[12],25)\n",
    "# Don't know, infoSourceInternet_no time at all, "
   ]
  },
  {
   "cell_type": "code",
   "execution_count": null,
   "id": "d3c6e8f7",
   "metadata": {},
   "outputs": [],
   "source": [
    "gc.collect()"
   ]
  },
  {
   "cell_type": "code",
   "execution_count": null,
   "id": "79a7ab05",
   "metadata": {},
   "outputs": [],
   "source": [
    "search(BES_Panel,\"p_\")"
   ]
  },
  {
   "cell_type": "code",
   "execution_count": null,
   "id": "1daa3934",
   "metadata": {},
   "outputs": [],
   "source": [
    "df"
   ]
  },
  {
   "cell_type": "code",
   "execution_count": null,
   "id": "2e989ae3",
   "metadata": {},
   "outputs": [],
   "source": [
    "X_test_reconst.corrwith(pd.Series(encoded_imgs[:,0].reshape(X_test.shape[0]),index=X_test.index))\n",
    "\n",
    "#.sort_values().tail(50)"
   ]
  },
  {
   "cell_type": "code",
   "execution_count": null,
   "id": "88877e8b",
   "metadata": {},
   "outputs": [],
   "source": [
    "X_test_reconst.corrwith(pd.Series(encoded_imgs[:,0].reshape(X_test.shape[0]),index=X_test.index)).sort_values().head(50)"
   ]
  },
  {
   "cell_type": "code",
   "execution_count": null,
   "id": "1c00af19",
   "metadata": {},
   "outputs": [],
   "source": [
    "X_test_reconst.corrwith(pd.Series(encoded_imgs[:,1].reshape(X_test.shape[0]),index=X_test.index)).sort_values().tail(50)[::-1]"
   ]
  },
  {
   "cell_type": "code",
   "execution_count": null,
   "id": "9a58973f",
   "metadata": {},
   "outputs": [],
   "source": [
    "X_test_reconst.corrwith(pd.Series(encoded_imgs[:,1].reshape(X_test.shape[0]),index=X_test.index)).sort_values().head(50)[::-1]"
   ]
  },
  {
   "cell_type": "code",
   "execution_count": null,
   "id": "37ed3815",
   "metadata": {},
   "outputs": [],
   "source": [
    "X_test_reconst.corrwith(pd.Series(encoded_imgs[:,2].reshape(X_test.shape[0]),index=X_test.index)).sort_values().tail(50)[::-1]"
   ]
  },
  {
   "cell_type": "code",
   "execution_count": null,
   "id": "b96b845e",
   "metadata": {},
   "outputs": [],
   "source": [
    "X_test_reconst.corrwith(pd.Series(encoded_imgs[:,2].reshape(X_test.shape[0]),index=X_test.index)).sort_values().head(50)[::-1]"
   ]
  },
  {
   "cell_type": "code",
   "execution_count": null,
   "id": "3b995616",
   "metadata": {},
   "outputs": [],
   "source": [
    "X_test_reconst.corrwith(pd.Series(encoded_imgs[:,3].reshape(X_test.shape[0]),index=X_test.index)).sort_values().tail(50)[::-1]"
   ]
  },
  {
   "cell_type": "code",
   "execution_count": null,
   "id": "acc4dad8",
   "metadata": {},
   "outputs": [],
   "source": [
    "X_test_reconst.corrwith(pd.Series(encoded_imgs[:,3].reshape(X_test.shape[0]),index=X_test.index)).sort_values().head(50)[::-1]"
   ]
  },
  {
   "cell_type": "code",
   "execution_count": null,
   "id": "4b5e19e8",
   "metadata": {},
   "outputs": [],
   "source": []
  },
  {
   "cell_type": "code",
   "execution_count": null,
   "id": "5fb7b6e2",
   "metadata": {},
   "outputs": [],
   "source": []
  },
  {
   "cell_type": "code",
   "execution_count": null,
   "id": "dbf1290c",
   "metadata": {},
   "outputs": [],
   "source": []
  },
  {
   "cell_type": "code",
   "execution_count": null,
   "id": "bfbbcf08",
   "metadata": {},
   "outputs": [],
   "source": []
  },
  {
   "cell_type": "code",
   "execution_count": null,
   "id": "5ff365a1",
   "metadata": {},
   "outputs": [],
   "source": []
  },
  {
   "cell_type": "code",
   "execution_count": null,
   "id": "072f11f2",
   "metadata": {},
   "outputs": [],
   "source": [
    "# tensorflow.python.keras.models"
   ]
  },
  {
   "cell_type": "code",
   "execution_count": null,
   "id": "2a43be82",
   "metadata": {},
   "outputs": [],
   "source": []
  },
  {
   "cell_type": "code",
   "execution_count": null,
   "id": "1529a3bc",
   "metadata": {},
   "outputs": [],
   "source": []
  },
  {
   "cell_type": "code",
   "execution_count": null,
   "id": "3e8f1dc0",
   "metadata": {},
   "outputs": [],
   "source": [
    "# encoder = Dense(encoding_dim, activation=\"linear\", input_shape=(input_dim,), use_bias=True,\n",
    "#                 kernel_regularizer=WeightsOrthogonalityConstraint(encoding_dim, weightage=1., axis=0)) \n",
    "# decoder = Dense(input_dim, activation=\"linear\", use_bias = True,\n",
    "#                 kernel_regularizer=WeightsOrthogonalityConstraint(encoding_dim, weightage=1., axis=1))\n",
    "\n",
    "# autoencoder = Sequential()\n",
    "# autoencoder.add(encoder)\n",
    "# autoencoder.add(decoder)\n",
    "\n",
    "# autoencoder.compile(metrics=['accuracy'],\n",
    "#                     loss='mean_squared_error',\n",
    "#                     optimizer='sgd')\n",
    "# autoencoder.summary()\n",
    "\n",
    "# autoencoder.fit(X_train_scaled, X_train_scaled,\n",
    "#                 epochs=nb_epoch,\n",
    "#                 batch_size=batch_size,\n",
    "#                 shuffle=True,\n",
    "#                 verbose=0)"
   ]
  },
  {
   "cell_type": "code",
   "execution_count": null,
   "id": "33594b18",
   "metadata": {},
   "outputs": [],
   "source": []
  },
  {
   "cell_type": "code",
   "execution_count": null,
   "id": "34212427",
   "metadata": {},
   "outputs": [],
   "source": [
    "# encoder = Dense(encoding_dim, activation=\"linear\", input_shape=(input_dim,), use_bias = True, activity_regularizer=UncorrelatedFeaturesConstraint(encoding_dim, weightage = 1.)) \n",
    "# decoder = Dense(input_dim, activation=\"linear\", use_bias = True)\n",
    "\n",
    "# autoencoder = Sequential()\n",
    "# autoencoder.add(encoder)\n",
    "# autoencoder.add(decoder)\n",
    "\n",
    "# autoencoder.compile(metrics=['accuracy'],\n",
    "#                     loss='mean_squared_error',\n",
    "#                     optimizer='sgd')\n",
    "# autoencoder.summary()\n",
    "\n",
    "# autoencoder.fit(X_train_scaled, X_train_scaled,\n",
    "#                 epochs=nb_epoch,\n",
    "#                 batch_size=batch_size,\n",
    "#                 shuffle=True,\n",
    "#                 verbose=0)"
   ]
  },
  {
   "cell_type": "code",
   "execution_count": null,
   "id": "209a3039",
   "metadata": {},
   "outputs": [],
   "source": [
    "# encoder = Dense(encoding_dim, activation=\"linear\", input_shape=(input_dim,), use_bias = True, kernel_constraint=UnitNorm(axis=0)) \n",
    "# decoder = Dense(input_dim, activation=\"linear\", use_bias = True, kernel_constraint=UnitNorm(axis=1))\n",
    "# autoencoder = Sequential()\n",
    "# autoencoder.add(encoder)\n",
    "# autoencoder.add(decoder)\n",
    "# autoencoder.compile(metrics=['accuracy'],\n",
    "#                     loss='mean_squared_error',\n",
    "#                     optimizer='sgd')\n",
    "# autoencoder.summary()\n",
    "# autoencoder.fit(X_train_scaled, X_train_scaled,\n",
    "#                 epochs=nb_epoch,\n",
    "#                 batch_size=batch_size,\n",
    "#                 shuffle=True,\n",
    "#                 verbose=0)"
   ]
  },
  {
   "cell_type": "code",
   "execution_count": null,
   "id": "cbc731a5",
   "metadata": {},
   "outputs": [],
   "source": [
    "\n",
    "# encoder.use_bias\n",
    "\n",
    "\n",
    "# kernel_initializer"
   ]
  },
  {
   "cell_type": "code",
   "execution_count": null,
   "id": "11f5acb1",
   "metadata": {},
   "outputs": [],
   "source": [
    "# input_dim =32\n",
    "\n",
    "# encoder = Dense(encoding_dim, activation=\"linear\", input_shape=(input_dim,)) \n",
    "# decoder = DenseTied(input_dim, activation=\"linear\", tied_to=encoder)\n",
    "# autoencoder = Sequential()\n",
    "# autoencoder.add(encoder)\n",
    "# autoencoder.add(decoder)\n",
    "# autoencoder.compile(metrics=['accuracy'],\n",
    "#                     loss='mean_squared_error',\n",
    "#                     optimizer='sgd')\n",
    "# autoencoder.summary()\n",
    "# # autoencoder.fit(X_train_scaled, X_train_scaled,\n",
    "# #                 epochs=nb_epoch,\n",
    "# #                 batch_size=batch_size,\n",
    "# #                 shuffle=True,\n",
    "# #                 verbose=0)"
   ]
  },
  {
   "cell_type": "code",
   "execution_count": null,
   "id": "bcf53691",
   "metadata": {},
   "outputs": [],
   "source": [
    "# encoder.kernel"
   ]
  },
  {
   "cell_type": "code",
   "execution_count": null,
   "id": "23875106",
   "metadata": {},
   "outputs": [],
   "source": [
    "## DATA PROCESSING BUG: p_gross_personal__Â Prefer not to answer"
   ]
  },
  {
   "cell_type": "code",
   "execution_count": null,
   "id": "29affe15",
   "metadata": {},
   "outputs": [],
   "source": [
    "search(BES_Panel,\"Johnson\")"
   ]
  },
  {
   "cell_type": "code",
   "execution_count": null,
   "id": "1c5a8f16",
   "metadata": {},
   "outputs": [],
   "source": [
    "search(BES_Panel,\"wt\")"
   ]
  },
  {
   "cell_type": "code",
   "execution_count": null,
   "id": "b88cc8ef",
   "metadata": {},
   "outputs": [],
   "source": [
    "round(pd.crosstab(BES_Panel[\"likeJohnson\"],BES_Panel[\"polAttention\"], values=BES_Panel[\"wt\"],aggfunc=sum,normalize='columns')*100,2)"
   ]
  },
  {
   "cell_type": "code",
   "execution_count": null,
   "id": "3de7075a",
   "metadata": {},
   "outputs": [],
   "source": []
  }
 ],
 "metadata": {
  "kernelspec": {
   "display_name": "Python 3",
   "language": "python",
   "name": "python3"
  },
  "language_info": {
   "codemirror_mode": {
    "name": "ipython",
    "version": 3
   },
   "file_extension": ".py",
   "mimetype": "text/x-python",
   "name": "python",
   "nbconvert_exporter": "python",
   "pygments_lexer": "ipython3",
   "version": "3.7.10"
  }
 },
 "nbformat": 4,
 "nbformat_minor": 5
}
