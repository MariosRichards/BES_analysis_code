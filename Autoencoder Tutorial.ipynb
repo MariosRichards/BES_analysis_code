{
 "cells": [
  {
   "cell_type": "code",
   "execution_count": 1,
   "id": "0a4707b6",
   "metadata": {},
   "outputs": [],
   "source": [
    "import tensorflow as tf\n",
    "from tensorflow.python.keras.layers import Dense\n",
    "from tensorflow.python.keras.models import Sequential\n",
    "from tensorflow.python.keras.callbacks import EarlyStopping\n",
    "import time\n",
    "# from keras.utils.np_utils import to_categorical\n",
    "from tensorflow.python.keras.utils.np_utils import to_categorical\n",
    "# from tensorflow.python.keras.utils import to_categorical\n",
    "\n",
    "import shap\n",
    "from tensorflow.python.ops import gradients_impl as tf_gradients_impl\n",
    "tf_gradients_impl._IsBackpropagatable=True\n",
    "\n",
    "import matplotlib.pyplot as plt\n",
    "import numpy as np\n",
    "import pandas as pd\n",
    "import tensorflow as tf\n",
    "\n",
    "from sklearn.metrics import accuracy_score, precision_score, recall_score\n",
    "from sklearn.model_selection import train_test_split\n",
    "from tensorflow.python.keras import layers, losses\n",
    "from tensorflow.python.keras.datasets import fashion_mnist\n",
    "from tensorflow.python.keras.models import Model\n",
    "\n",
    "from tensorflow.python.keras.layers import Input, Dense\n",
    "from tensorflow.python.keras.models import Model\n",
    "from tensorflow.python.keras import regularizers\n",
    "from tensorflow.python.keras.datasets import mnist\n",
    "from tensorflow.python.keras import backend as K\n",
    "import numpy as np\n",
    "import matplotlib.pyplot as plt\n",
    "import pickle\n",
    "\n",
    "from sklearn.model_selection import train_test_split\n",
    "\n",
    "from sklearn.preprocessing import OrdinalEncoder\n",
    "from tensorflow.python.keras.layers import InputLayer\n",
    "from sklearn.preprocessing import OneHotEncoder\n",
    "\n",
    "from tensorflow.python.keras.models import Model, load_model\n",
    "from tensorflow.python.keras.layers import Input, Dense, Layer, InputSpec\n",
    "from tensorflow.python.keras.callbacks import ModelCheckpoint, TensorBoard\n",
    "from tensorflow.python.keras import regularizers, activations, initializers, constraints, Sequential\n",
    "from tensorflow.python.keras import backend as K\n",
    "from tensorflow.python.keras.constraints import UnitNorm, Constraint"
   ]
  },
  {
   "cell_type": "code",
   "execution_count": 2,
   "id": "f6b47a11",
   "metadata": {},
   "outputs": [],
   "source": [
    "# from tensorflow.python.keras.utils import to_categorical"
   ]
  },
  {
   "cell_type": "code",
   "execution_count": null,
   "id": "72aaf75b",
   "metadata": {},
   "outputs": [],
   "source": [
    "\n",
    "\n"
   ]
  },
  {
   "cell_type": "code",
   "execution_count": 3,
   "id": "46232bed",
   "metadata": {},
   "outputs": [],
   "source": [
    "class DenseTied(Layer):\n",
    "    def __init__(self, units,\n",
    "                 activation=None,\n",
    "                 use_bias=True,\n",
    "                 kernel_initializer='glorot_uniform',\n",
    "                 bias_initializer='zeros',\n",
    "                 kernel_regularizer=None,\n",
    "                 bias_regularizer=None,\n",
    "                 activity_regularizer=None,\n",
    "                 kernel_constraint=None,\n",
    "                 bias_constraint=None,\n",
    "                 tied_to=None,\n",
    "                 **kwargs):\n",
    "        self.tied_to = tied_to\n",
    "        if 'input_shape' not in kwargs and 'input_dim' in kwargs:\n",
    "            kwargs['input_shape'] = (kwargs.pop('input_dim'),)\n",
    "        super().__init__(**kwargs)\n",
    "        self.units = units\n",
    "        self.activation = activations.get(activation)\n",
    "        self.use_bias = use_bias\n",
    "        self.kernel_initializer = initializers.get(kernel_initializer)\n",
    "        self.bias_initializer = initializers.get(bias_initializer)\n",
    "        self.kernel_regularizer = regularizers.get(kernel_regularizer)\n",
    "        self.bias_regularizer = regularizers.get(bias_regularizer)\n",
    "        self.activity_regularizer = regularizers.get(activity_regularizer)\n",
    "        self.kernel_constraint = constraints.get(kernel_constraint)\n",
    "        self.bias_constraint = constraints.get(bias_constraint)\n",
    "        self.input_spec = InputSpec(min_ndim=2)\n",
    "        self.supports_masking = True\n",
    "                \n",
    "    def build(self, input_shape):\n",
    "        assert len(input_shape) >= 2\n",
    "        input_dim = input_shape[-1]\n",
    "\n",
    "        if self.tied_to is not None:\n",
    "            self.kernel = K.transpose(self.tied_to.kernel)\n",
    "            self._non_trainable_weights.append(self.kernel)\n",
    "        else:\n",
    "            self.kernel = self.add_weight(shape=(input_dim, self.units),\n",
    "                                          initializer=self.kernel_initializer,\n",
    "                                          name='kernel',\n",
    "                                          regularizer=self.kernel_regularizer,\n",
    "                                          constraint=self.kernel_constraint)\n",
    "        if self.use_bias:\n",
    "            self.bias = self.add_weight(shape=(self.units,),\n",
    "                                        initializer=self.bias_initializer,\n",
    "                                        name='bias',\n",
    "                                        regularizer=self.bias_regularizer,\n",
    "                                        constraint=self.bias_constraint)\n",
    "        else:\n",
    "            self.bias = None\n",
    "        self.input_spec = InputSpec(min_ndim=2, axes={-1: input_dim})\n",
    "        self.built = True\n",
    "\n",
    "    def compute_output_shape(self, input_shape):\n",
    "        assert input_shape and len(input_shape) >= 2\n",
    "        output_shape = list(input_shape)\n",
    "        output_shape[-1] = self.units\n",
    "        return tuple(output_shape)\n",
    "\n",
    "    def call(self, inputs):\n",
    "        output = K.dot(inputs, self.kernel)\n",
    "        if self.use_bias:\n",
    "            output = K.bias_add(output, self.bias, data_format='channels_last')\n",
    "        if self.activation is not None:\n",
    "            output = self.activation(output)\n",
    "        return output\n",
    "\n",
    "class WeightsOrthogonalityConstraint (Constraint):\n",
    "    def __init__(self, encoding_dim, weightage = 1.0, axis = 0):\n",
    "        self.encoding_dim = encoding_dim\n",
    "        self.weightage = weightage\n",
    "        self.axis = axis\n",
    "        \n",
    "    def weights_orthogonality(self, w):\n",
    "        if(self.axis==1):\n",
    "            w = K.transpose(w)\n",
    "        if(self.encoding_dim > 1):\n",
    "            m = K.dot(K.transpose(w), w) - K.eye(self.encoding_dim)\n",
    "            return self.weightage * K.sqrt(K.sum(K.square(m)))\n",
    "        else:\n",
    "            m = K.sum(w ** 2) - 1.\n",
    "            return m\n",
    "\n",
    "    def __call__(self, w):\n",
    "        return self.weights_orthogonality(w)\n",
    "    \n",
    "class UncorrelatedFeaturesConstraint(Constraint):\n",
    "    \n",
    "    def __init__(self, encoding_dim, weightage = 1.0):\n",
    "        self.encoding_dim = encoding_dim\n",
    "        self.weightage = weightage\n",
    "    \n",
    "    def get_covariance(self, x):\n",
    "        x_centered_list = []\n",
    "\n",
    "        for i in range(self.encoding_dim):\n",
    "            x_centered_list.append(x[:, i] - K.mean(x[:, i]))\n",
    "        \n",
    "        x_centered = tf.stack(x_centered_list)\n",
    "        covariance = K.dot(x_centered, K.transpose(x_centered)) / tf.cast(x_centered.get_shape()[0], tf.float32)\n",
    "        \n",
    "        return covariance\n",
    "            \n",
    "    # Constraint penalty\n",
    "    def uncorrelated_feature(self, x):\n",
    "        if(self.encoding_dim <= 1):\n",
    "            return 0.0\n",
    "        else:\n",
    "#             output = K.sum(K.square(\n",
    "#                 self.covariance - tf.matmul(self.covariance, K.eye(self.encoding_dim))))\n",
    "            output = tf.reduce_sum(tf.square(\n",
    "                self.covariance - tf.matmul(self.covariance, tf.eye(self.encoding_dim))))            \n",
    "            \n",
    "            # FIXED ???\n",
    "         # still don't know what the problem is here!\n",
    "# https://stackoverflow.com/questions/57836849/tensorflow-keras-custom-constraint-not-working        \n",
    "# https://stackoverflow.com/questions/53751024/tying-autoencoder-weights-in-a-dense-keras-layer        \n",
    "        \n",
    "            # tf.math.multiply\n",
    "            return output\n",
    "\n",
    "    def __call__(self, x):\n",
    "        self.covariance = self.get_covariance(x)\n",
    "        return self.weightage * self.uncorrelated_feature(x)   \n",
    "    \n",
    "def extract_layers(main_model, starting_layer_ix, ending_layer_ix, input_shape):\n",
    "  # create an empty model\n",
    "    new_model = Sequential()\n",
    "    first_layer =True\n",
    "    for ix in range(starting_layer_ix, ending_layer_ix + 1):\n",
    "        curr_layer = main_model.get_layer(index=ix)\n",
    "        # copy this layer over to the new model\n",
    "        if first_layer:\n",
    "            new_model.add(input_shape)\n",
    "            first_layer=False\n",
    "        new_model.add(curr_layer)\n",
    "    return new_model    "
   ]
  },
  {
   "cell_type": "code",
   "execution_count": 4,
   "id": "7426c738",
   "metadata": {},
   "outputs": [],
   "source": [
    "import keras.backend as K\n",
    "def matthews_correlation(y_true, y_pred):\n",
    "    y_pred_pos = K.round(K.clip(y_pred, 0, 1))\n",
    "    y_pred_neg = 1 - y_pred_pos\n",
    "\n",
    "    y_pos = K.round(K.clip(y_true, 0, 1))\n",
    "    y_neg = 1 - y_pos\n",
    "\n",
    "    tp = K.sum(y_pos * y_pred_pos)\n",
    "    tn = K.sum(y_neg * y_pred_neg)\n",
    "\n",
    "    fp = K.sum(y_neg * y_pred_pos)\n",
    "    fn = K.sum(y_pos * y_pred_neg)\n",
    "\n",
    "    numerator = (tp * tn - fp * fn)\n",
    "    denominator = K.sqrt((tp + fp) * (tp + fn) * (tn + fp) * (tn + fn))\n",
    "\n",
    "    return numerator / (denominator + K.epsilon())\n",
    "\n",
    "def dice_loss(y_true, y_pred):\n",
    "    y_true = tf.cast(y_true, tf.float32)\n",
    "    y_pred = tf.math.sigmoid(y_pred)\n",
    "    numerator = 2 * tf.reduce_sum(y_true * y_pred)\n",
    "    denominator = tf.reduce_sum(y_true + y_pred)\n",
    "\n",
    "    return 1 - numerator / denominator\n",
    "\n",
    "def balanced_cross_entropy(y_true, y_pred):\n",
    "    \n",
    "    beta = beta = tf.reduce_mean(1 - y_true)\n",
    "    weight_a = beta * tf.cast(y_true, tf.float32)\n",
    "    weight_b = (1 - beta) * tf.cast(1 - y_true, tf.float32)\n",
    "\n",
    "    o = (tf.math.log1p(tf.exp(-tf.abs(y_pred))) + tf.nn.relu(-y_pred)) * (weight_a + weight_b) + y_pred * weight_b\n",
    "    return tf.reduce_mean(o)"
   ]
  },
  {
   "cell_type": "code",
   "execution_count": 5,
   "id": "842b04b7",
   "metadata": {},
   "outputs": [],
   "source": [
    "# %%time\n",
    "# dataset_name = \"W20_only\"\n",
    "# df_list = \"BES_Panel\"\n",
    "\n",
    "# %matplotlib inline \n",
    "# %run BES_header.py {dataset_name} {df_list}\n",
    "# (var_type, cat_dictionary, new_old_col_names, old_new_col_names) = get_small_files(data_subfolder, encoding)    \n",
    "# # get full set of inferred \"cross wave\" auth-lib/left-right values and ages\n",
    "# # pan_dataset_allr_values = pd.read_pickle(BES_small_data_files + \"pan_dataset_allr_valuesW19\"+\".zip\",compression='zip')\n",
    "# # # pan_dataset_allr_values = pan_dataset_allr_values.loc[BES_Panel.index].sort_index()\n",
    "# # pan_dataset_ages = pd.read_pickle(BES_small_data_files + \"pan_dataset_ages\"+\".zip\", compression='zip')\n",
    "# # pan_dataset_votes = pd.read_pickle(BES_small_data_files+\"pan_dataset_votes\"+\".zip\",compression='zip')\n"
   ]
  },
  {
   "cell_type": "code",
   "execution_count": 6,
   "id": "9c64dc80",
   "metadata": {},
   "outputs": [],
   "source": [
    "# from tensorflow.python.keras.layers import Multiply"
   ]
  },
  {
   "cell_type": "code",
   "execution_count": null,
   "id": "7b7282ed",
   "metadata": {},
   "outputs": [],
   "source": []
  },
  {
   "cell_type": "code",
   "execution_count": null,
   "id": "0513d66c",
   "metadata": {},
   "outputs": [],
   "source": []
  },
  {
   "cell_type": "code",
   "execution_count": 7,
   "id": "12244763",
   "metadata": {},
   "outputs": [],
   "source": [
    "# import numpy as np\n",
    "# import pandas as pd\n",
    "# %matplotlib inline\n",
    "# import matplotlib.pyplot as plt\n",
    "# import gc\n",
    "# import re\n",
    "\n",
    "# from itertools import cycle\n",
    "# from IPython.display import display\n",
    "# import pickle, os\n",
    "\n",
    "# import seaborn as sns\n",
    "\n",
    "# encoding = \"ISO-8859-1\"\n",
    "\n",
    "# import Jupyter_module_loader"
   ]
  },
  {
   "cell_type": "code",
   "execution_count": 8,
   "id": "5c8b32ae",
   "metadata": {},
   "outputs": [],
   "source": [
    "# import numpy as np, pandas as pd, matplotlib.pyplot as plt, seaborn as sns\n",
    "# import pickle, os, gc, re\n",
    "\n",
    "# from IPython.display import display\n",
    "\n",
    "# import Jupyter_module_loader\n",
    "# # from utility import *"
   ]
  },
  {
   "cell_type": "code",
   "execution_count": 9,
   "id": "09dc2979",
   "metadata": {},
   "outputs": [
    {
     "data": {
      "text/html": [
       "<script>jQuery(function() {if (jQuery(\"body.notebook_app\").length == 0) { jQuery(\".input_area\").toggle(); jQuery(\".prompt\").toggle();}});</script>"
      ]
     },
     "metadata": {},
     "output_type": "display_data"
    },
    {
     "data": {
      "text/html": [
       "<button onclick=\"jQuery('.input_area').toggle(); jQuery('.prompt').toggle();\">Toggle code</button>"
      ]
     },
     "metadata": {},
     "output_type": "display_data"
    },
    {
     "name": "stdout",
     "output_type": "stream",
     "text": [
      "var_type (354, 13)\n",
      "Wall time: 1.83 s\n"
     ]
    }
   ],
   "source": [
    "%%time\n",
    "dataset_name = \"W10_only\"\n",
    "df_list = \"BES_reduced\"\n",
    "\n",
    "%matplotlib inline \n",
    "%run BES_header.py {dataset_name} {df_list}\n",
    "(var_type, cat_dictionary, new_old_col_names, old_new_col_names) = get_small_files(data_subfolder, encoding)    \n",
    "# get full set of inferred \"cross wave\" auth-lib/left-right values and ages\n",
    "pan_dataset_allr_values = pd.read_pickle(BES_small_data_files + \"pan_dataset_allr_valuesW19\"+\".zip\",compression='zip')\n",
    "# pan_dataset_allr_values = pan_dataset_allr_values.loc[BES_Panel.index].sort_index()\n",
    "pan_dataset_ages = pd.read_pickle(BES_small_data_files + \"pan_dataset_ages\"+\".zip\", compression='zip')\n",
    "pan_dataset_votes = pd.read_pickle(BES_small_data_files+\"pan_dataset_votes\"+\".zip\",compression='zip')\n"
   ]
  },
  {
   "cell_type": "code",
   "execution_count": null,
   "id": "bac404f7",
   "metadata": {},
   "outputs": [],
   "source": []
  },
  {
   "cell_type": "code",
   "execution_count": 10,
   "id": "202c8a92",
   "metadata": {},
   "outputs": [],
   "source": [
    "# warnings - don't know why, online comments suggest just blocking\n",
    "# tf.logging.set_verbosity(tf.logging.ERROR)"
   ]
  },
  {
   "cell_type": "code",
   "execution_count": 11,
   "id": "697a587c",
   "metadata": {},
   "outputs": [
    {
     "data": {
      "text/plain": [
       "['profile_eurefvote_Leave the EU',\n",
       " 'euRefVote_Leave the EU',\n",
       " 'euID_The leave side',\n",
       " 'happyEULeave__Extremely happy']"
      ]
     },
     "execution_count": 11,
     "metadata": {},
     "output_type": "execute_result"
    }
   ],
   "source": [
    "drop_vars = []\n",
    "drop_vars.extend( [x for x in BES_reduced.columns if \"eurefvote\" in x.lower() ] )\n",
    "drop_vars.extend( [x for x in BES_reduced.columns if \"euid_\" in x.lower() ] )\n",
    "drop_vars.extend( [x for x in BES_reduced.columns if \"happyeuleave\" in x.lower() ] )\n",
    "drop_vars                 "
   ]
  },
  {
   "cell_type": "code",
   "execution_count": 12,
   "id": "4095be53",
   "metadata": {},
   "outputs": [],
   "source": [
    "# [x for x in BES_reduced.columns if \"euref\" in x.lower()]\n",
    "y = BES_reduced['euRefVote_Leave the EU']\n",
    "X = BES_reduced.drop(drop_vars,axis=1)\n",
    "y = to_categorical(y)"
   ]
  },
  {
   "cell_type": "code",
   "execution_count": null,
   "id": "624d2376",
   "metadata": {},
   "outputs": [],
   "source": [
    "\n"
   ]
  },
  {
   "cell_type": "code",
   "execution_count": 13,
   "id": "08ad2d60",
   "metadata": {},
   "outputs": [],
   "source": [
    "# X.shape"
   ]
  },
  {
   "cell_type": "code",
   "execution_count": 14,
   "id": "89721043",
   "metadata": {},
   "outputs": [
    {
     "data": {
      "image/png": "[encoded data removed]",
      "text/plain": [
       "<Figure size 432x288 with 1 Axes>"
      ]
     },
     "metadata": {},
     "output_type": "display_data"
    },
    {
     "name": "stdout",
     "output_type": "stream",
     "text": [
      "22.731377124786377\n"
     ]
    }
   ],
   "source": [
    "start_time = time.time()\n",
    "\n",
    "early_stopping_monitor = EarlyStopping(patience=3)\n",
    "\n",
    "n_neurons_layer = 500\n",
    "\n",
    "# Create the model: model\n",
    "model = Sequential()\n",
    "\n",
    "# Add the first hidden layer\n",
    "input_shape = (X.shape[1],)\n",
    "model.add( Dense(n_neurons_layer, activation='relu', input_shape = input_shape) )\n",
    "\n",
    "# Add the second hidden layer\n",
    "model.add( Dense(n_neurons_layer, activation='relu') )\n",
    "\n",
    "# Add the third hidden layer\n",
    "model.add( Dense(n_neurons_layer, activation='relu') )\n",
    "\n",
    "# Add the fourth hidden layer\n",
    "model.add( Dense(n_neurons_layer, activation='relu') )\n",
    "\n",
    "# Add the output layer\n",
    "no_of_outputs = len(np.unique(y))\n",
    "model.add( Dense( no_of_outputs , activation='softmax') )\n",
    "\n",
    "# Compile the model\n",
    "model.compile( optimizer = 'adam',\n",
    "               loss = 'categorical_crossentropy',\n",
    "               metrics=['accuracy'])\n",
    "\n",
    "# Fit the model\n",
    "# X -> X.values\n",
    "model_training = model.fit(X.values, y, epochs=15, validation_split=0.2, callbacks=[early_stopping_monitor], verbose=False)\n",
    "\n",
    "# Create the plot\n",
    "plt.plot(model_training.history['val_loss'], 'r')\n",
    "plt.xlabel('Epochs')\n",
    "plt.ylabel('Validation score')\n",
    "plt.show()\n",
    "\n",
    "elapsed_time = time.time() - start_time\n",
    "print(elapsed_time)"
   ]
  },
  {
   "cell_type": "code",
   "execution_count": 15,
   "id": "cbe5500b",
   "metadata": {},
   "outputs": [
    {
     "data": {
      "text/plain": [
       "[PhysicalDevice(name='/physical_device:GPU:0', device_type='GPU')]"
      ]
     },
     "execution_count": 15,
     "metadata": {},
     "output_type": "execute_result"
    }
   ],
   "source": [
    "tf.config.list_physical_devices('GPU') "
   ]
  },
  {
   "cell_type": "code",
   "execution_count": 16,
   "id": "144ab6ec",
   "metadata": {},
   "outputs": [
    {
     "name": "stdout",
     "output_type": "stream",
     "text": [
      "True\n"
     ]
    }
   ],
   "source": [
    "print(tf.test.is_built_with_cuda())"
   ]
  },
  {
   "cell_type": "code",
   "execution_count": 17,
   "id": "01707a3d",
   "metadata": {},
   "outputs": [
    {
     "name": "stdout",
     "output_type": "stream",
     "text": [
      "Device mapping:\n",
      "/job:localhost/replica:0/task:0/device:GPU:0 -> device: 0, name: NVIDIA GeForce GTX 1060 6GB, pci bus id: 0000:01:00.0, compute capability: 6.1\n",
      "\n"
     ]
    }
   ],
   "source": [
    "sess = tf.compat.v1.Session(config=tf.compat.v1.ConfigProto(log_device_placement=True))"
   ]
  },
  {
   "cell_type": "code",
   "execution_count": null,
   "id": "e98cee7b",
   "metadata": {},
   "outputs": [],
   "source": []
  },
  {
   "cell_type": "code",
   "execution_count": 18,
   "id": "aa13bcff",
   "metadata": {},
   "outputs": [],
   "source": [
    "# select a set of background examples to take an expectation over\n",
    "background = X.loc[np.random.choice(X.shape[0], 100, replace=False)]\n",
    "\n",
    "# explain predictions of the model on four images\n",
    "e = shap.DeepExplainer(model, background.values)\n",
    "# ...or pass tensors directly\n",
    "# e = shap.DeepExplainer((model.layers[0].input, model.layers[-1].output), background)\n",
    "shap_values = e.shap_values(X.loc[1:5].values)\n",
    "\n",
    "# plot the feature attributions\n",
    "# shap.image_plot(shap_values, -X.loc[1:5])"
   ]
  },
  {
   "cell_type": "code",
   "execution_count": 19,
   "id": "06db25e6",
   "metadata": {},
   "outputs": [
    {
     "data": {
      "text/plain": [
       "'2.5.0'"
      ]
     },
     "execution_count": 19,
     "metadata": {},
     "output_type": "execute_result"
    }
   ],
   "source": [
    "tf.__version__\n",
    "## super old"
   ]
  },
  {
   "cell_type": "code",
   "execution_count": 20,
   "id": "8d3b86c1",
   "metadata": {},
   "outputs": [
    {
     "data": {
      "text/plain": [
       "'0.39.0'"
      ]
     },
     "execution_count": 20,
     "metadata": {},
     "output_type": "execute_result"
    }
   ],
   "source": [
    "shap.__version__\n",
    "### latesty"
   ]
  },
  {
   "cell_type": "code",
   "execution_count": null,
   "id": "4ab2d196",
   "metadata": {},
   "outputs": [],
   "source": []
  },
  {
   "cell_type": "code",
   "execution_count": 21,
   "id": "10825cd5",
   "metadata": {},
   "outputs": [
    {
     "name": "stdout",
     "output_type": "stream",
     "text": [
      "Wall time: 2.42 s\n"
     ]
    }
   ],
   "source": [
    "%%time\n",
    "\n",
    "# hasattr(tf_gradients_impl, \"_IsBackpropagatable\")\n",
    "background = X.loc[np.random.choice(X.shape[0], 200, replace=False)]\n",
    "\n",
    "# e = shap.DeepExplainer((model.layers[0].input, model.layers[-1].output), background)\n",
    "e = shap.DeepExplainer(model, background.values)\n",
    "shap_values = e.shap_values(background.values)"
   ]
  },
  {
   "cell_type": "code",
   "execution_count": 22,
   "id": "b74612c2",
   "metadata": {},
   "outputs": [
    {
     "data": {
      "image/png": "[encoded data removed]",
      "text/plain": [
       "<Figure size 576x684 with 2 Axes>"
      ]
     },
     "metadata": {},
     "output_type": "display_data"
    },
    {
     "name": "stdout",
     "output_type": "stream",
     "text": [
      "Wall time: 418 ms\n"
     ]
    }
   ],
   "source": [
    "%%time\n",
    "shap.summary_plot(shap_values[0], background, plot_type='dot')"
   ]
  },
  {
   "cell_type": "code",
   "execution_count": 23,
   "id": "b5ad8947",
   "metadata": {},
   "outputs": [
    {
     "name": "stdout",
     "output_type": "stream",
     "text": [
      "0.39.0 \n",
      " 2.5.0\n"
     ]
    },
    {
     "data": {
      "image/png": "[encoded data removed]",
      "text/plain": [
       "<Figure size 576x223.2 with 1 Axes>"
      ]
     },
     "metadata": {},
     "output_type": "display_data"
    }
   ],
   "source": [
    "from numpy.random import randint\n",
    "from tensorflow.python.keras.utils.np_utils import to_categorical\n",
    "from tensorflow.keras.models import Sequential\n",
    "from tensorflow.keras.layers import Dense, BatchNormalization, Dropout, Activation\n",
    "from tensorflow.keras.optimizers import Adam\n",
    "import shap\n",
    "import tensorflow\n",
    "print(shap.__version__, \"\\n\",tensorflow.__version__)\n",
    "\n",
    "# Train_x data creation\n",
    "train_x = pd.DataFrame({\n",
    "    'v1': randint(2, 20, 1489),\n",
    "    'v2': randint(50, 200, 1489),\n",
    "    'v3': randint(30, 90, 1489),\n",
    "    'v4': randint(100, 150, 1489)\n",
    "})\n",
    "\n",
    "# Train_y data creation\n",
    "train_y = randint(0, 2, 1489)\n",
    "\n",
    "# One-hot encoding as I use categorical cross-entropy\n",
    "train_y = to_categorical(train_y, num_classes=2)\n",
    "\n",
    "# Start construction of a DNN Sequential model.\n",
    "model = Sequential()\n",
    "\n",
    "# First input layer with a dropout and batch normalization layer following\n",
    "model.add(Dense(256, input_dim=train_x.shape[1]))\n",
    "model.add(BatchNormalization())\n",
    "model.add(Activation('relu'))\n",
    "model.add(Dropout(rate=0.2))\n",
    "\n",
    "# Output layer\n",
    "model.add(Dense(2))\n",
    "model.add(Activation('softmax'))\n",
    "\n",
    "# Use the Adam optimizer\n",
    "optimizer = Adam(lr=0.001)\n",
    "\n",
    "# Compile the model\n",
    "model.compile(loss='categorical_crossentropy', optimizer=optimizer, metrics=['accuracy'])\n",
    "\n",
    "# model.summary()\n",
    "\n",
    "# Fit model\n",
    "hist = model.fit(train_x, train_y, epochs=100, batch_size=128, shuffle=False, verbose=0)\n",
    "\n",
    "# SHAP calculation\n",
    "shap.explainers._deep.deep_tf.op_handlers[\"AddV2\"] = shap.explainers._deep.deep_tf.passthrough\n",
    "explainer = shap.DeepExplainer(model, train_x.values)\n",
    "\n",
    "shap_values = explainer.shap_values(train_x[:500].values)\n",
    "\n",
    "shap.summary_plot(shap_values[1])"
   ]
  },
  {
   "cell_type": "code",
   "execution_count": null,
   "id": "979f20a8",
   "metadata": {},
   "outputs": [],
   "source": []
  },
  {
   "cell_type": "code",
   "execution_count": null,
   "id": "6b8c6042",
   "metadata": {},
   "outputs": [],
   "source": []
  },
  {
   "cell_type": "code",
   "execution_count": 24,
   "id": "ab51e02c",
   "metadata": {},
   "outputs": [
    {
     "data": {
      "text/html": [
       "<script>jQuery(function() {if (jQuery(\"body.notebook_app\").length == 0) { jQuery(\".input_area\").toggle(); jQuery(\".prompt\").toggle();}});</script>"
      ]
     },
     "metadata": {},
     "output_type": "display_data"
    },
    {
     "data": {
      "text/html": [
       "<button onclick=\"jQuery('.input_area').toggle(); jQuery('.prompt').toggle();\">Toggle code</button>"
      ]
     },
     "metadata": {},
     "output_type": "display_data"
    },
    {
     "name": "stdout",
     "output_type": "stream",
     "text": [
      "var_type (463, 14)\n",
      "Wall time: 709 ms\n"
     ]
    }
   ],
   "source": [
    "%%time\n",
    "dataset_name = \"W20_only\"\n",
    "df_list = \"BES_reduced|BES_Panel\"\n",
    "\n",
    "%matplotlib inline \n",
    "%run BES_header.py {dataset_name} {df_list}\n",
    "(var_type, cat_dictionary, new_old_col_names, old_new_col_names) = get_small_files(data_subfolder, encoding)    \n",
    "# get full set of inferred \"cross wave\" auth-lib/left-right values and ages\n",
    "# pan_dataset_allr_values = pd.read_pickle(BES_small_data_files + \"pan_dataset_allr_valuesW19\"+\".zip\",compression='zip')\n",
    "# # pan_dataset_allr_values = pan_dataset_allr_values.loc[BES_Panel.index].sort_index()\n",
    "# pan_dataset_ages = pd.read_pickle(BES_small_data_files + \"pan_dataset_ages\"+\".zip\", compression='zip')\n",
    "# pan_dataset_votes = pd.read_pickle(BES_small_data_files+\"pan_dataset_votes\"+\".zip\",compression='zip')\n"
   ]
  },
  {
   "cell_type": "code",
   "execution_count": 25,
   "id": "c1a7efe6",
   "metadata": {},
   "outputs": [
    {
     "data": {
      "text/plain": [
       "['p_eurefvote_I voted to leave',\n",
       " 'p_eurefturnout_Yes',\n",
       " 'euRefVoteAfter_Stay out of the EU',\n",
       " 'euID_The leave side']"
      ]
     },
     "execution_count": 25,
     "metadata": {},
     "output_type": "execute_result"
    }
   ],
   "source": [
    "drop_vars = []\n",
    "drop_vars.extend( [x for x in BES_reduced.columns if \"euref\" in x.lower() ] )\n",
    "drop_vars.extend( [x for x in BES_reduced.columns if \"euid_\" in x.lower() ] )\n",
    "drop_vars.extend( [x for x in BES_reduced.columns if \"happyeuleave\" in x.lower() ] )\n",
    "# drop_vars.extend( [x for x in BES_reduced.columns if \"euref\" in x.lower() ] )\n",
    "\n",
    "\n",
    "drop_vars                 "
   ]
  },
  {
   "cell_type": "code",
   "execution_count": 26,
   "id": "6ad9e5f6",
   "metadata": {},
   "outputs": [],
   "source": [
    "y = BES_reduced['p_eurefvote_I voted to leave']\n",
    "y = to_categorical(y)\n",
    "X = BES_reduced\n",
    "#.drop(drop_vars,axis=1)\n",
    "\n",
    "# X = X[[\"EUIntegrationSelf__Protect our independence\"]]"
   ]
  },
  {
   "cell_type": "code",
   "execution_count": 27,
   "id": "cc838cda",
   "metadata": {},
   "outputs": [],
   "source": [
    "# X = X.reset_index(drop=True)"
   ]
  },
  {
   "cell_type": "code",
   "execution_count": 28,
   "id": "aa751ea6",
   "metadata": {},
   "outputs": [
    {
     "data": {
      "text/plain": [
       "0    18333\n",
       "1    13135\n",
       "Name: p_eurefvote_I voted to leave, dtype: int64"
      ]
     },
     "execution_count": 28,
     "metadata": {},
     "output_type": "execute_result"
    }
   ],
   "source": [
    "BES_reduced['p_eurefvote_I voted to leave'].value_counts(dropna=False)"
   ]
  },
  {
   "cell_type": "code",
   "execution_count": 29,
   "id": "36f76f83",
   "metadata": {},
   "outputs": [
    {
     "data": {
      "text/plain": [
       "EUIntegrationSelf__Protect our independence    31468\n",
       "dtype: int64"
      ]
     },
     "execution_count": 29,
     "metadata": {},
     "output_type": "execute_result"
    }
   ],
   "source": [
    "search(X,\"EUIntegrationSelf\")"
   ]
  },
  {
   "cell_type": "code",
   "execution_count": 30,
   "id": "d79bbb6f",
   "metadata": {},
   "outputs": [
    {
     "data": {
      "image/png": "[encoded data removed]",
      "text/plain": [
       "<Figure size 432x288 with 1 Axes>"
      ]
     },
     "metadata": {},
     "output_type": "display_data"
    },
    {
     "name": "stdout",
     "output_type": "stream",
     "text": [
      "16.986628532409668\n"
     ]
    }
   ],
   "source": [
    "start_time = time.time()\n",
    "\n",
    "early_stopping_monitor = EarlyStopping(patience=3)\n",
    "\n",
    "n_neurons_layer = 500\n",
    "\n",
    "# Create the model: model\n",
    "model = Sequential()\n",
    "\n",
    "# Add the first hidden layer\n",
    "input_shape = (X.shape[1],)\n",
    "model.add( Dense(n_neurons_layer, activation='relu', input_shape = input_shape) )\n",
    "\n",
    "# Add the second hidden layer\n",
    "model.add( Dense(n_neurons_layer, activation='relu') )\n",
    "\n",
    "# Add the third hidden layer\n",
    "model.add( Dense(n_neurons_layer, activation='relu') )\n",
    "\n",
    "# Add the fourth hidden layer\n",
    "model.add( Dense(n_neurons_layer, activation='relu') )\n",
    "\n",
    "# Add the output layer\n",
    "no_of_outputs = len(np.unique(y))\n",
    "model.add( Dense( no_of_outputs , activation='softmax') )\n",
    "\n",
    "# Compile the model\n",
    "model.compile( optimizer = 'adam',\n",
    "               loss = 'categorical_crossentropy',\n",
    "               metrics=['accuracy'])\n",
    "\n",
    "# Fit the model\n",
    "# X -> X.values\n",
    "model_training = model.fit(X.values, y, epochs=15, validation_split=0.2, callbacks=[early_stopping_monitor], verbose=False)\n",
    "\n",
    "# Create the plot\n",
    "plt.plot(model_training.history['val_loss'], 'r')\n",
    "plt.xlabel('Epochs')\n",
    "plt.ylabel('Validation score')\n",
    "plt.show()\n",
    "\n",
    "elapsed_time = time.time() - start_time\n",
    "print(elapsed_time)"
   ]
  },
  {
   "cell_type": "code",
   "execution_count": 31,
   "id": "ac2a5b44",
   "metadata": {},
   "outputs": [
    {
     "name": "stdout",
     "output_type": "stream",
     "text": [
      "Wall time: 3.19 s\n"
     ]
    }
   ],
   "source": [
    "%%time\n",
    "\n",
    "# hasattr(tf_gradients_impl, \"_IsBackpropagatable\")\n",
    "background = X.loc[X.index[np.random.choice(X.shape[0], 200, replace=False)]]\n",
    "\n",
    "# e = shap.DeepExplainer((model.layers[0].input, model.layers[-1].output), background)\n",
    "e = shap.DeepExplainer(model, background.values)\n",
    "shap_values = e.shap_values(background.values)"
   ]
  },
  {
   "cell_type": "code",
   "execution_count": 32,
   "id": "05452135",
   "metadata": {},
   "outputs": [
    {
     "data": {
      "image/png": "[encoded data removed]",
      "text/plain": [
       "<Figure size 576x684 with 2 Axes>"
      ]
     },
     "metadata": {},
     "output_type": "display_data"
    },
    {
     "name": "stdout",
     "output_type": "stream",
     "text": [
      "Wall time: 315 ms\n"
     ]
    }
   ],
   "source": [
    "%%time\n",
    "shap.summary_plot(shap_values[0], background, plot_type='dot')"
   ]
  },
  {
   "cell_type": "code",
   "execution_count": 33,
   "id": "f303a2eb",
   "metadata": {},
   "outputs": [
    {
     "data": {
      "text/plain": [
       "742"
      ]
     },
     "execution_count": 33,
     "metadata": {},
     "output_type": "execute_result"
    }
   ],
   "source": [
    "X.shape[1]"
   ]
  },
  {
   "cell_type": "code",
   "execution_count": 34,
   "id": "31638789",
   "metadata": {},
   "outputs": [
    {
     "data": {
      "text/plain": [
       "p_eurefvote_I voted to leave         31468\n",
       "p_eurefturnout_Yes                   31468\n",
       "euRefVoteAfter_Stay out of the EU    31468\n",
       "dtype: int64"
      ]
     },
     "execution_count": 34,
     "metadata": {},
     "output_type": "execute_result"
    }
   ],
   "source": [
    "search(BES_reduced,\"euRef\")"
   ]
  },
  {
   "cell_type": "code",
   "execution_count": null,
   "id": "5593523c",
   "metadata": {},
   "outputs": [],
   "source": []
  },
  {
   "cell_type": "code",
   "execution_count": 35,
   "id": "73879431",
   "metadata": {},
   "outputs": [
    {
     "data": {
      "text/plain": [
       "europeanness__Very strongly European    -0.505684\n",
       "immigSelf__Allow many more              -0.494151\n",
       "immigCultural__Enriches cultural life   -0.476114\n",
       "immigEcon__Good for economy             -0.443282\n",
       "likeLD__Strongly like                   -0.423664\n",
       "likeLab__Strongly like                  -0.407686\n",
       "ptvLD__Very likely                      -0.406763\n",
       "ptvLab__Very likely                     -0.398804\n",
       "likeGrn__Strongly like                  -0.382075\n",
       "likeStarmer__Strongly like              -0.346852\n",
       "dtype: float64"
      ]
     },
     "execution_count": 35,
     "metadata": {},
     "output_type": "execute_result"
    }
   ],
   "source": [
    "BES_reduced.corrwith( BES_reduced['p_eurefvote_I voted to leave'] ).sort_values().head(10)"
   ]
  },
  {
   "cell_type": "code",
   "execution_count": null,
   "id": "def9bca2",
   "metadata": {},
   "outputs": [],
   "source": []
  },
  {
   "cell_type": "code",
   "execution_count": 36,
   "id": "b3e7c078",
   "metadata": {},
   "outputs": [
    {
     "name": "stdout",
     "output_type": "stream",
     "text": [
      "x_train shape: (60000, 28, 28, 1)\n",
      "60000 train samples\n",
      "10000 test samples\n",
      "Epoch 1/12\n",
      "469/469 [==============================] - 7s 11ms/step - loss: 2.2917 - accuracy: 0.1413 - val_loss: 2.2763 - val_accuracy: 0.2930\n",
      "Epoch 2/12\n",
      "469/469 [==============================] - 5s 10ms/step - loss: 2.2670 - accuracy: 0.2375 - val_loss: 2.2469 - val_accuracy: 0.4549\n",
      "Epoch 3/12\n",
      "469/469 [==============================] - 5s 10ms/step - loss: 2.2374 - accuracy: 0.3226 - val_loss: 2.2102 - val_accuracy: 0.5275\n",
      "Epoch 4/12\n",
      "469/469 [==============================] - 5s 10ms/step - loss: 2.1984 - accuracy: 0.3845 - val_loss: 2.1607 - val_accuracy: 0.5692\n",
      "Epoch 5/12\n",
      "469/469 [==============================] - 5s 10ms/step - loss: 2.1455 - accuracy: 0.4287 - val_loss: 2.0922 - val_accuracy: 0.6017\n",
      "Epoch 6/12\n",
      "469/469 [==============================] - 5s 10ms/step - loss: 2.0721 - accuracy: 0.4694 - val_loss: 1.9972 - val_accuracy: 0.6310\n",
      "Epoch 7/12\n",
      "469/469 [==============================] - 6s 12ms/step - loss: 1.9694 - accuracy: 0.5044 - val_loss: 1.8669 - val_accuracy: 0.6527\n",
      "Epoch 8/12\n",
      "469/469 [==============================] - 5s 10ms/step - loss: 1.8381 - accuracy: 0.5343 - val_loss: 1.7001 - val_accuracy: 0.6802\n",
      "Epoch 9/12\n",
      "469/469 [==============================] - 5s 10ms/step - loss: 1.6867 - accuracy: 0.5591 - val_loss: 1.5090 - val_accuracy: 0.7135\n",
      "Epoch 10/12\n",
      "469/469 [==============================] - 5s 10ms/step - loss: 1.5208 - accuracy: 0.5893 - val_loss: 1.3160 - val_accuracy: 0.7429\n",
      "Epoch 11/12\n",
      "469/469 [==============================] - 5s 10ms/step - loss: 1.3714 - accuracy: 0.6199 - val_loss: 1.1440 - val_accuracy: 0.7720\n",
      "Epoch 12/12\n",
      "469/469 [==============================] - 5s 10ms/step - loss: 1.2423 - accuracy: 0.6450 - val_loss: 1.0030 - val_accuracy: 0.7937\n",
      "Test loss: 1.0029785633087158\n",
      "Test accuracy: 0.7936999797821045\n"
     ]
    }
   ],
   "source": [
    "# this is the code from https://github.com/keras-team/keras/blob/master/examples/mnist_cnn.py\n",
    "from __future__ import print_function\n",
    "import keras\n",
    "from tensorflow.keras.datasets import mnist\n",
    "from tensorflow.keras.models import Sequential\n",
    "from tensorflow.keras.layers import Dense, Dropout, Flatten\n",
    "from tensorflow.keras.layers import Conv2D, MaxPooling2D\n",
    "from tensorflow.keras import backend as K\n",
    "from tensorflow.python.keras.utils.np_utils import to_categorical\n",
    "batch_size = 128\n",
    "num_classes = 10\n",
    "epochs = 12\n",
    "\n",
    "# input image dimensions\n",
    "img_rows, img_cols = 28, 28\n",
    "\n",
    "# the data, split between train and test sets\n",
    "(x_train, y_train), (x_test, y_test) = mnist.load_data()\n",
    "\n",
    "if K.image_data_format() == 'channels_first':\n",
    "    x_train = x_train.reshape(x_train.shape[0], 1, img_rows, img_cols)\n",
    "    x_test = x_test.reshape(x_test.shape[0], 1, img_rows, img_cols)\n",
    "    input_shape = (1, img_rows, img_cols)\n",
    "else:\n",
    "    x_train = x_train.reshape(x_train.shape[0], img_rows, img_cols, 1)\n",
    "    x_test = x_test.reshape(x_test.shape[0], img_rows, img_cols, 1)\n",
    "    input_shape = (img_rows, img_cols, 1)\n",
    "\n",
    "x_train = x_train.astype('float32')\n",
    "x_test = x_test.astype('float32')\n",
    "x_train /= 255\n",
    "x_test /= 255\n",
    "print('x_train shape:', x_train.shape)\n",
    "print(x_train.shape[0], 'train samples')\n",
    "print(x_test.shape[0], 'test samples')\n",
    "\n",
    "# convert class vectors to binary class matrices\n",
    "y_train = to_categorical(y_train, num_classes)\n",
    "y_test = to_categorical(y_test, num_classes)\n",
    "\n",
    "model = Sequential()\n",
    "model.add(Conv2D(32, kernel_size=(3, 3),\n",
    "                 activation='relu',\n",
    "                 input_shape=input_shape))\n",
    "model.add(Conv2D(64, (3, 3), activation='relu'))\n",
    "model.add(MaxPooling2D(pool_size=(2, 2)))\n",
    "model.add(Dropout(0.25))\n",
    "model.add(Flatten())\n",
    "model.add(Dense(128, activation='relu'))\n",
    "model.add(Dropout(0.5))\n",
    "model.add(Dense(num_classes, activation='softmax'))\n",
    "\n",
    "model.compile(loss=tensorflow.keras.losses.categorical_crossentropy,\n",
    "              optimizer=tensorflow.keras.optimizers.Adadelta(),\n",
    "              metrics=['accuracy'])\n",
    "\n",
    "model.fit(x_train, y_train,\n",
    "          batch_size=batch_size,\n",
    "          epochs=epochs,\n",
    "          verbose=1,\n",
    "          validation_data=(x_test, y_test))\n",
    "score = model.evaluate(x_test, y_test, verbose=0)\n",
    "print('Test loss:', score[0])\n",
    "print('Test accuracy:', score[1])"
   ]
  },
  {
   "cell_type": "code",
   "execution_count": null,
   "id": "d602389a",
   "metadata": {},
   "outputs": [],
   "source": []
  },
  {
   "cell_type": "code",
   "execution_count": null,
   "id": "e062cf6a",
   "metadata": {},
   "outputs": [],
   "source": []
  },
  {
   "cell_type": "code",
   "execution_count": null,
   "id": "6286c9b9",
   "metadata": {},
   "outputs": [],
   "source": []
  },
  {
   "cell_type": "code",
   "execution_count": 37,
   "id": "f07b548f",
   "metadata": {},
   "outputs": [],
   "source": [
    "# # (x_train, _), (x_test, _) = fashion_mnist.load_data()\n",
    "\n",
    "# from tensorflow.python.keras._impl.keras.datasets.mnist import load_data\n",
    "# (x_train, _), (x_test, _) = load_data()\n",
    "\n",
    "# x_train = x_train.astype('float32') / 255.\n",
    "# x_test = x_test.astype('float32') / 255.\n",
    "\n",
    "# print (x_train.shape)\n",
    "# print (x_test.shape)"
   ]
  },
  {
   "cell_type": "code",
   "execution_count": 38,
   "id": "7e42678c",
   "metadata": {},
   "outputs": [],
   "source": [
    "# latent_dim = 64 \n",
    "\n",
    "# class Autoencoder(Model):\n",
    "#   def __init__(self, latent_dim):\n",
    "#     super(Autoencoder, self).__init__()\n",
    "#     self.latent_dim = latent_dim   \n",
    "#     self.encoder = tf.keras.Sequential([\n",
    "#       layers.Flatten(),\n",
    "#       layers.Dense(latent_dim, activation='relu'),\n",
    "#     ])\n",
    "#     self.decoder = tf.keras.Sequential([\n",
    "#       layers.Dense(784, activation='sigmoid'),\n",
    "#       layers.Reshape((28, 28))\n",
    "#     ])\n",
    "\n",
    "#   def call(self, x):\n",
    "#     encoded = self.encoder(x)\n",
    "#     decoded = self.decoder(encoded)\n",
    "#     return decoded\n",
    "\n",
    "# autoencoder = Autoencoder(latent_dim)\n",
    "\n",
    "# autoencoder.compile(optimizer='adam', loss=losses.MeanSquaredError())"
   ]
  },
  {
   "cell_type": "code",
   "execution_count": null,
   "id": "bb0c5d13",
   "metadata": {},
   "outputs": [],
   "source": []
  },
  {
   "cell_type": "code",
   "execution_count": null,
   "id": "99d0b66c",
   "metadata": {},
   "outputs": [],
   "source": []
  },
  {
   "cell_type": "code",
   "execution_count": 39,
   "id": "74f41376",
   "metadata": {},
   "outputs": [
    {
     "name": "stdout",
     "output_type": "stream",
     "text": [
      "(60000, 784)\n",
      "(10000, 784)\n",
      "Epoch 1/50\n",
      "235/235 - 1s - loss: 0.6941 - val_loss: 0.6941\n",
      "Epoch 2/50\n",
      "235/235 - 1s - loss: 0.6940 - val_loss: 0.6939\n",
      "Epoch 3/50\n",
      "235/235 - 1s - loss: 0.6938 - val_loss: 0.6938\n",
      "Epoch 4/50\n",
      "235/235 - 1s - loss: 0.6937 - val_loss: 0.6936\n",
      "Epoch 5/50\n",
      "235/235 - 0s - loss: 0.6935 - val_loss: 0.6934\n",
      "Epoch 6/50\n",
      "235/235 - 1s - loss: 0.6933 - val_loss: 0.6933\n",
      "Epoch 7/50\n",
      "235/235 - 1s - loss: 0.6932 - val_loss: 0.6931\n",
      "Epoch 8/50\n",
      "235/235 - 1s - loss: 0.6930 - val_loss: 0.6930\n",
      "Epoch 9/50\n",
      "235/235 - 1s - loss: 0.6929 - val_loss: 0.6928\n",
      "Epoch 10/50\n",
      "235/235 - 1s - loss: 0.6927 - val_loss: 0.6927\n",
      "Epoch 11/50\n",
      "235/235 - 1s - loss: 0.6926 - val_loss: 0.6925\n",
      "Epoch 12/50\n",
      "235/235 - 1s - loss: 0.6924 - val_loss: 0.6924\n",
      "Epoch 13/50\n",
      "235/235 - 1s - loss: 0.6923 - val_loss: 0.6922\n",
      "Epoch 14/50\n",
      "235/235 - 1s - loss: 0.6921 - val_loss: 0.6921\n",
      "Epoch 15/50\n",
      "235/235 - 1s - loss: 0.6920 - val_loss: 0.6919\n",
      "Epoch 16/50\n",
      "235/235 - 1s - loss: 0.6919 - val_loss: 0.6918\n",
      "Epoch 17/50\n",
      "235/235 - 1s - loss: 0.6917 - val_loss: 0.6916\n",
      "Epoch 18/50\n",
      "235/235 - 1s - loss: 0.6916 - val_loss: 0.6915\n",
      "Epoch 19/50\n",
      "235/235 - 1s - loss: 0.6914 - val_loss: 0.6913\n",
      "Epoch 20/50\n",
      "235/235 - 0s - loss: 0.6913 - val_loss: 0.6912\n",
      "Epoch 21/50\n",
      "235/235 - 1s - loss: 0.6911 - val_loss: 0.6910\n",
      "Epoch 22/50\n",
      "235/235 - 1s - loss: 0.6910 - val_loss: 0.6909\n",
      "Epoch 23/50\n",
      "235/235 - 1s - loss: 0.6908 - val_loss: 0.6907\n",
      "Epoch 24/50\n",
      "235/235 - 1s - loss: 0.6907 - val_loss: 0.6906\n",
      "Epoch 25/50\n",
      "235/235 - 1s - loss: 0.6905 - val_loss: 0.6904\n",
      "Epoch 26/50\n",
      "235/235 - 0s - loss: 0.6904 - val_loss: 0.6903\n",
      "Epoch 27/50\n",
      "235/235 - 0s - loss: 0.6902 - val_loss: 0.6901\n",
      "Epoch 28/50\n",
      "235/235 - 1s - loss: 0.6901 - val_loss: 0.6900\n",
      "Epoch 29/50\n",
      "235/235 - 1s - loss: 0.6899 - val_loss: 0.6898\n",
      "Epoch 30/50\n",
      "235/235 - 1s - loss: 0.6898 - val_loss: 0.6897\n",
      "Epoch 31/50\n",
      "235/235 - 1s - loss: 0.6896 - val_loss: 0.6895\n",
      "Epoch 32/50\n",
      "235/235 - 1s - loss: 0.6894 - val_loss: 0.6893\n",
      "Epoch 33/50\n",
      "235/235 - 0s - loss: 0.6893 - val_loss: 0.6892\n",
      "Epoch 34/50\n",
      "235/235 - 1s - loss: 0.6891 - val_loss: 0.6890\n",
      "Epoch 35/50\n",
      "235/235 - 1s - loss: 0.6889 - val_loss: 0.6889\n",
      "Epoch 36/50\n",
      "235/235 - 1s - loss: 0.6888 - val_loss: 0.6887\n",
      "Epoch 37/50\n",
      "235/235 - 1s - loss: 0.6886 - val_loss: 0.6885\n",
      "Epoch 38/50\n",
      "235/235 - 1s - loss: 0.6884 - val_loss: 0.6883\n",
      "Epoch 39/50\n",
      "235/235 - 1s - loss: 0.6883 - val_loss: 0.6882\n",
      "Epoch 40/50\n",
      "235/235 - 1s - loss: 0.6881 - val_loss: 0.6880\n",
      "Epoch 41/50\n",
      "235/235 - 1s - loss: 0.6879 - val_loss: 0.6878\n",
      "Epoch 42/50\n",
      "235/235 - 1s - loss: 0.6877 - val_loss: 0.6876\n",
      "Epoch 43/50\n",
      "235/235 - 1s - loss: 0.6875 - val_loss: 0.6874\n",
      "Epoch 44/50\n",
      "235/235 - 1s - loss: 0.6873 - val_loss: 0.6872\n",
      "Epoch 45/50\n",
      "235/235 - 1s - loss: 0.6871 - val_loss: 0.6870\n",
      "Epoch 46/50\n",
      "235/235 - 1s - loss: 0.6869 - val_loss: 0.6868\n",
      "Epoch 47/50\n",
      "235/235 - 1s - loss: 0.6867 - val_loss: 0.6866\n",
      "Epoch 48/50\n",
      "235/235 - 1s - loss: 0.6865 - val_loss: 0.6864\n",
      "Epoch 49/50\n",
      "235/235 - 1s - loss: 0.6863 - val_loss: 0.6862\n",
      "Epoch 50/50\n",
      "235/235 - 1s - loss: 0.6861 - val_loss: 0.6860\n"
     ]
    },
    {
     "data": {
      "image/png": "[encoded data removed]",
      "text/plain": [
       "<Figure size 1000x200 with 20 Axes>"
      ]
     },
     "metadata": {},
     "output_type": "display_data"
    }
   ],
   "source": [
    "\n",
    "\n",
    "# Single fully-connected neural layer as encoder and decoder\n",
    "use_regularizer = False\n",
    "my_regularizer = None\n",
    "my_epochs = 50\n",
    "features_path = 'simple_autoe_features.pickle'\n",
    "labels_path = 'simple_autoe_labels.pickle'\n",
    "\n",
    "if use_regularizer:\n",
    "    # add a sparsity constraint on the encoded representations\n",
    "    # note use of 10e-5 leads to blurred results\n",
    "    my_regularizer = regularizers.l1(10e-8)\n",
    "    # and a larger number of epochs as the added regularization the model\n",
    "    # is less likely to overfit and can be trained longer\n",
    "    my_epochs = 100\n",
    "    features_path = 'sparse_autoe_features.pickle'\n",
    "    labels_path = 'sparse_autoe_labels.pickle'\n",
    "\n",
    "# this is the size of our encoded representations\n",
    "encoding_dim = 32   # 32 floats -> compression factor 24.5, assuming the input is 784 floats\n",
    "\n",
    "# this is our input placeholder; 784 = 28 x 28\n",
    "input_img = Input(shape=(784, ))\n",
    "\n",
    "# \"encoded\" is the encoded representation of the inputs\n",
    "encoded = Dense(encoding_dim, activation='relu', activity_regularizer=my_regularizer)(input_img)\n",
    "\n",
    "# \"decoded\" is the lossy reconstruction of the input\n",
    "decoded = Dense(784, activation='sigmoid')(encoded)\n",
    "\n",
    "# this model maps an input to its reconstruction\n",
    "autoencoder = Model(input_img, decoded)\n",
    "\n",
    "# Separate Encoder model\n",
    "\n",
    "# this model maps an input to its encoded representation\n",
    "encoder = Model(input_img, encoded)\n",
    "\n",
    "# Separate Decoder model\n",
    "\n",
    "# create a placeholder for an encoded (32-dimensional) input\n",
    "encoded_input = Input(shape=(encoding_dim,))\n",
    "# retrieve the last layer of the autoencoder model\n",
    "decoder_layer = autoencoder.layers[-1]\n",
    "# create the decoder model\n",
    "decoder = Model(encoded_input, decoder_layer(encoded_input))\n",
    "\n",
    "# Train to reconstruct MNIST digits\n",
    "\n",
    "# configure model to use a per-pixel binary crossentropy loss, and the Adadelta optimizer\n",
    "autoencoder.compile(optimizer='adadelta', loss='binary_crossentropy')\n",
    "\n",
    "# prepare input data\n",
    "(x_train, _), (x_test, y_test) = mnist.load_data()\n",
    "\n",
    "# normalize all values between 0 and 1 and flatten the 28x28 images into vectors of size 784\n",
    "x_train = x_train.astype('float32') / 255.\n",
    "x_test = x_test.astype('float32') / 255.\n",
    "x_train = x_train.reshape((len(x_train), np.prod(x_train.shape[1:])))\n",
    "x_test = x_test.reshape((len(x_test), np.prod(x_test.shape[1:])))\n",
    "print(x_train.shape)\n",
    "print(x_test.shape)\n",
    "\n",
    "# Train autoencoder for 50 epochs\n",
    "\n",
    "autoencoder.fit(x_train, x_train, epochs=my_epochs, batch_size=256, shuffle=True, validation_data=(x_test, x_test),\n",
    "                verbose=2)\n",
    "\n",
    "# after 50/100 epochs the autoencoder seems to reach a stable train/test lost value\n",
    "\n",
    "# Visualize the reconstructed encoded representations\n",
    "\n",
    "# encode and decode some digits\n",
    "# note that we take them from the *test* set\n",
    "encoded_imgs = encoder.predict(x_test)\n",
    "decoded_imgs = decoder.predict(encoded_imgs)\n",
    "\n",
    "# save latent space features 32-d vector\n",
    "pickle.dump(encoded_imgs, open(features_path, 'wb'))\n",
    "pickle.dump(y_test, open(labels_path, 'wb'))\n",
    "\n",
    "n = 10  # how many digits we will display\n",
    "plt.figure(figsize=(10, 2), dpi=100)\n",
    "for i in range(n):\n",
    "    # display original\n",
    "    ax = plt.subplot(2, n, i + 1)\n",
    "    plt.imshow(x_test[i].reshape(28, 28))\n",
    "    plt.gray()\n",
    "    ax.set_axis_off()\n",
    "\n",
    "    # display reconstruction\n",
    "    ax = plt.subplot(2, n, i + n + 1)\n",
    "    plt.imshow(decoded_imgs[i].reshape(28, 28))\n",
    "    plt.gray()\n",
    "    ax.set_axis_off()\n",
    "\n",
    "plt.show()"
   ]
  },
  {
   "cell_type": "code",
   "execution_count": 40,
   "id": "3d622388",
   "metadata": {},
   "outputs": [],
   "source": [
    "X_old = X.copy()"
   ]
  },
  {
   "cell_type": "code",
   "execution_count": 41,
   "id": "7a470bab",
   "metadata": {},
   "outputs": [],
   "source": [
    "X=X/X.max()"
   ]
  },
  {
   "cell_type": "code",
   "execution_count": null,
   "id": "75b5cf4f",
   "metadata": {},
   "outputs": [],
   "source": [
    "\n"
   ]
  },
  {
   "cell_type": "code",
   "execution_count": 42,
   "id": "a57e5f09",
   "metadata": {},
   "outputs": [],
   "source": [
    "low_var_columns = X.columns[X.var()<.05]\n",
    "X.drop(low_var_columns,axis=1,inplace=True)"
   ]
  },
  {
   "cell_type": "code",
   "execution_count": null,
   "id": "ae530217",
   "metadata": {},
   "outputs": [],
   "source": [
    "\n",
    "\n"
   ]
  },
  {
   "cell_type": "code",
   "execution_count": null,
   "id": "c719ea9e",
   "metadata": {},
   "outputs": [],
   "source": []
  },
  {
   "cell_type": "code",
   "execution_count": null,
   "id": "023bb1f9",
   "metadata": {},
   "outputs": [],
   "source": []
  },
  {
   "cell_type": "code",
   "execution_count": null,
   "id": "0f0a1525",
   "metadata": {},
   "outputs": [],
   "source": []
  },
  {
   "cell_type": "code",
   "execution_count": 43,
   "id": "d8449e56",
   "metadata": {},
   "outputs": [],
   "source": [
    "def run_autoencoder(encoding_dim=32,hidden_size=100,verbose=2):\n",
    "\n",
    "    # Single fully-connected neural layer as encoder and decoder\n",
    "    use_regularizer = True\n",
    "    my_regularizer = None\n",
    "    my_epochs = 50\n",
    "    features_path = 'simple_autoe_features.pickle'\n",
    "    labels_path = 'simple_autoe_labels.pickle'\n",
    "\n",
    "    early_stopping_monitor = EarlyStopping(patience=3)\n",
    "\n",
    "    if use_regularizer:\n",
    "        # add a sparsity constraint on the encoded representations\n",
    "        # note use of 10e-5 leads to blurred results\n",
    "    #     my_regularizer = regularizers.l1(10e-8)\n",
    "        # and a larger number of epochs as the added regularization the model\n",
    "        # is less likely to overfit and can be trained longer\n",
    "        my_epochs = 100\n",
    "        features_path = 'sparse_autoe_features.pickle'\n",
    "        labels_path = 'sparse_autoe_labels.pickle'\n",
    "\n",
    "    # this is the size of our encoded representations\n",
    "    # encoding_dim = encoding_dim   # 32 floats -> compression factor 24.5, assuming the input is 784 floats\n",
    "    # hidden_size = hidden_size\n",
    "\n",
    "\n",
    "    # this is our input placeholder; 784 = 28 x 28\n",
    "    # input_img = Input(shape=(784, ))\n",
    "\n",
    "    input_img = Input(shape=(X.shape[1], ))\n",
    "\n",
    "    # \"encoded\" is the encoded representation of the inputs\n",
    "    hidden_encoder = Dense(hidden_size, activation = 'relu',\n",
    "                           activity_regularizer=regularizers.l1(10e-7) )(input_img)\n",
    "    encoded = Dense(encoding_dim, activation='relu',\n",
    "                    kernel_regularizer=regularizers.l2(10e-7))(hidden_encoder)\n",
    "    # encoded = Dense(encoding_dim, activation='relu', activity_regularizer=my_regularizer)(input_img)\n",
    "\n",
    "\n",
    "    # \"decoded\" is the lossy reconstruction of the input\n",
    "    # decoded = Dense(X.shape[1], activation='sigmoid')(encoded)\n",
    "\n",
    "    hidden_decoder = Dense(hidden_size, activation = 'relu',\n",
    "                          kernel_regularizer=regularizers.l2(10e-7))(encoded)\n",
    "    decoded = Dense(X.shape[1], activation='linear',\n",
    "                          kernel_regularizer=regularizers.l2(10e-7))(hidden_decoder)\n",
    "    # decoded = Dense(X.shape[1], activation='linear')(encoded)\n",
    "    # decoded = Dense(X.shape[1], activation='softmax')(encoded)\n",
    "\n",
    "    # this model maps an input to its reconstruction\n",
    "    autoencoder = Model(input_img, decoded)\n",
    "\n",
    "    # Separate Encoder model\n",
    "\n",
    "    # this model maps an input to its encoded representation\n",
    "    encoder = Model(input_img, encoded)\n",
    "\n",
    "    # Separate Decoder model\n",
    "\n",
    "    # create a placeholder for an encoded (32-dimensional) input\n",
    "    encoded_input = Input(shape=(encoding_dim,))\n",
    "    # hidden_layer_input = Input(shape=(hidden_size,))\n",
    "    # retrieve the last layer of the autoencoder model\n",
    "    ## changed to -2 after adding hidden layer!\n",
    "    # decoder_layer = autoencoder.layers[-1]\n",
    "    # create the decoder model\n",
    "    # decoder = Model(encoded_input, decoder_layer(hidden_layer_input))\n",
    "    from tensorflow.python.keras.layers import InputLayer\n",
    "    encoded_input_layer = InputLayer(input_shape=(encoding_dim,))\n",
    "    # decoder = Model(encoded_input, decoder_layer(encoded_input))\n",
    "\n",
    "    decoder = extract_layers(autoencoder, -2, -1, encoded_input_layer)\n",
    "\n",
    "    # Train to reconstruct MNIST digits\n",
    "\n",
    "    # configure model to use a per-pixel binary crossentropy loss, and the Adadelta optimizer\n",
    "    # autoencoder.compile(optimizer='adadelta', loss='binary_crossentropy')\n",
    "\n",
    "    # autoencoder.compile(optimizer='adadelta', loss='binary_crossentropy')\n",
    "\n",
    "    autoencoder.compile( optimizer = 'adam',\n",
    "    #                loss = 'categorical_crossentropy',\n",
    "    #                loss = 'categorical_crossentropy',\n",
    "                   loss = 'mean_squared_error',     \n",
    "                   metrics=['accuracy','mse'])\n",
    "\n",
    "\n",
    "    # # prepare input data\n",
    "    # (x_train, _), (x_test, y_test) = mnist.load_data()\n",
    "\n",
    "    # # normalize all values between 0 and 1 and flatten the 28x28 images into vectors of size 784\n",
    "    # x_train = x_train.astype('float32') / 255.\n",
    "    # x_test = x_test.astype('float32') / 255.\n",
    "    # x_train = x_train.reshape((len(x_train), np.prod(x_train.shape[1:])))\n",
    "    # x_test = x_test.reshape((len(x_test), np.prod(x_test.shape[1:])))\n",
    "    # print(x_train.shape)\n",
    "    # print(x_test.shape)\n",
    "\n",
    "    X_train, X_test, y_train, y_test = train_test_split(\n",
    "        X, y, test_size=0.33, random_state=42)\n",
    "\n",
    "    # Train autoencoder for 50 epochs\n",
    "\n",
    "    autoencoder.fit(X_train.values, X_train.values, epochs=my_epochs, batch_size=256,\n",
    "                    shuffle=True, validation_data=(X_test.values, X_test.values),\n",
    "                    verbose=verbose, callbacks=[early_stopping_monitor])\n",
    "\n",
    "    # after 50/100 epochs the autoencoder seems to reach a stable train/test lost value\n",
    "\n",
    "    # Visualize the reconstructed encoded representations\n",
    "\n",
    "    # encode and decode some digits\n",
    "    # note that we take them from the *test* set\n",
    "    encoded_imgs = encoder.predict(X_test.values)\n",
    "    decoded_imgs = decoder.predict(encoded_imgs)\n",
    "\n",
    "    # save latent space features 32-d vector\n",
    "    pickle.dump(encoded_imgs, open(features_path, 'wb'))\n",
    "    pickle.dump(y_test, open(labels_path, 'wb'))\n",
    "\n",
    "    # n = 10  # how many digits we will display\n",
    "    # plt.figure(figsize=(10, 2), dpi=100)\n",
    "    # for i in range(n):\n",
    "    #     # display original\n",
    "    #     ax = plt.subplot(2, n, i + 1)\n",
    "    #     plt.imshow(x_test[i].reshape(28, 28))\n",
    "    #     plt.gray()\n",
    "    #     ax.set_axis_off()\n",
    "\n",
    "    #     # display reconstruction\n",
    "    #     ax = plt.subplot(2, n, i + n + 1)\n",
    "    #     plt.imshow(decoded_imgs[i].reshape(28, 28))\n",
    "    #     plt.gray()\n",
    "    #     ax.set_axis_off()\n",
    "\n",
    "    # plt.show()\n",
    "    \n",
    "    return decoded_imgs,X_test,encoded_imgs,autoencoder"
   ]
  },
  {
   "cell_type": "code",
   "execution_count": 44,
   "id": "a1a4957e",
   "metadata": {},
   "outputs": [
    {
     "name": "stdout",
     "output_type": "stream",
     "text": [
      "encoding_dim = 1 hidden_size = 50\n",
      "p_past_vote_2019_Conservative correlation =\n",
      "0.8092663105682066\n",
      "mean correlation =\n",
      "0.25469132752848234\n",
      "encoding_dim = 1 hidden_size = 100\n",
      "p_past_vote_2019_Conservative correlation =\n",
      "0.8113535222189492\n",
      "mean correlation =\n",
      "0.2548473009548986\n",
      "encoding_dim = 1 hidden_size = 200\n",
      "p_past_vote_2019_Conservative correlation =\n",
      "-0.009314843980818771\n",
      "mean correlation =\n",
      "0.0008453878324286496\n",
      "encoding_dim = 2 hidden_size = 50\n",
      "p_past_vote_2019_Conservative correlation =\n",
      "0.8354366930450181\n",
      "mean correlation =\n",
      "0.3299125589377546\n",
      "encoding_dim = 2 hidden_size = 100\n",
      "p_past_vote_2019_Conservative correlation =\n",
      "0.8264910608716379\n",
      "mean correlation =\n",
      "0.3305304285193048\n",
      "encoding_dim = 2 hidden_size = 200\n",
      "p_past_vote_2019_Conservative correlation =\n",
      "0.8332118270029174\n",
      "mean correlation =\n",
      "0.26071041059381567\n",
      "encoding_dim = 4 hidden_size = 50\n",
      "p_past_vote_2019_Conservative correlation =\n",
      "0.8442166028518048\n",
      "mean correlation =\n",
      "0.41070131401573207\n",
      "encoding_dim = 4 hidden_size = 100\n",
      "p_past_vote_2019_Conservative correlation =\n",
      "0.8419953798487798\n",
      "mean correlation =\n",
      "0.40701493970939356\n",
      "encoding_dim = 4 hidden_size = 200\n",
      "p_past_vote_2019_Conservative correlation =\n",
      "0.8471284183757163\n",
      "mean correlation =\n",
      "0.43043253080633437\n",
      "encoding_dim = 8 hidden_size = 50\n",
      "p_past_vote_2019_Conservative correlation =\n",
      "0.8325571448123096\n",
      "mean correlation =\n",
      "0.4950722116532444\n",
      "encoding_dim = 8 hidden_size = 100\n",
      "p_past_vote_2019_Conservative correlation =\n",
      "0.8429591553068435\n",
      "mean correlation =\n",
      "0.5256582700394037\n",
      "encoding_dim = 8 hidden_size = 200\n",
      "p_past_vote_2019_Conservative correlation =\n",
      "0.8490410765436935\n",
      "mean correlation =\n",
      "0.53330797994455\n",
      "encoding_dim = 16 hidden_size = 50\n",
      "p_past_vote_2019_Conservative correlation =\n",
      "0.8367146724994324\n",
      "mean correlation =\n",
      "0.5633994118005877\n",
      "encoding_dim = 16 hidden_size = 100\n",
      "p_past_vote_2019_Conservative correlation =\n",
      "0.8523376267699071\n",
      "mean correlation =\n",
      "0.5967848564376776\n",
      "encoding_dim = 16 hidden_size = 200\n",
      "p_past_vote_2019_Conservative correlation =\n",
      "0.8566639408156725\n",
      "mean correlation =\n",
      "0.6051098715639537\n",
      "encoding_dim = 32 hidden_size = 50\n",
      "p_past_vote_2019_Conservative correlation =\n",
      "0.845626769149234\n",
      "mean correlation =\n",
      "0.6140587927577454\n",
      "encoding_dim = 32 hidden_size = 100\n",
      "p_past_vote_2019_Conservative correlation =\n",
      "0.8500170284638408\n",
      "mean correlation =\n",
      "0.6358863691505919\n",
      "encoding_dim = 32 hidden_size = 200\n",
      "p_past_vote_2019_Conservative correlation =\n",
      "0.8392654419156634\n",
      "mean correlation =\n",
      "0.6846121797273143\n"
     ]
    }
   ],
   "source": [
    "import warnings\n",
    "warnings.filterwarnings('ignore')\n",
    "\n",
    "for encoding_dim in [1,2,4,8,16,32]:\n",
    "    for hidden_size in [50,100,200]:\n",
    "        print(\"encoding_dim = \"+str(encoding_dim),\"hidden_size = \"+str(hidden_size))\n",
    "        decoded_imgs,X_test,encoded_imgs,autoencoder = run_autoencoder(encoding_dim=encoding_dim,hidden_size=hidden_size,verbose=0)\n",
    "\n",
    "        X_test_reconst = pd.DataFrame(decoded_imgs,columns=X_test.columns,index=X_test.index)\n",
    "    #     X_test_reconst[\"p_past_vote_2019_Conservative\"].hist(bins=100)\n",
    "        print(\"p_past_vote_2019_Conservative correlation =\")\n",
    "        print(X_test_reconst[\"p_past_vote_2019_Conservative\"].corr(X_test[\"p_past_vote_2019_Conservative\"]))\n",
    "        print(\"mean correlation =\")\n",
    "        print(X_test_reconst.apply(lambda x: X_test_reconst[x.name].corr( X_test[x.name] ) ).mean())"
   ]
  },
  {
   "cell_type": "code",
   "execution_count": 45,
   "id": "4817b756",
   "metadata": {},
   "outputs": [],
   "source": [
    "decoded_imgs,X_test,encoded_imgs,autoencoder = run_autoencoder(encoding_dim=1,hidden_size=100,verbose=0)\n",
    "X_test_reconst = pd.DataFrame(decoded_imgs,columns=X_test.columns,index=X_test.index)"
   ]
  },
  {
   "cell_type": "code",
   "execution_count": 46,
   "id": "4ab18ae0",
   "metadata": {},
   "outputs": [
    {
     "data": {
      "text/plain": [
       "id\n",
       "66014     2.680523\n",
       "78512     2.181242\n",
       "102320    0.267146\n",
       "44782     1.202553\n",
       "100932    1.183017\n",
       "            ...   \n",
       "51434     3.176412\n",
       "101213    0.558408\n",
       "14449     3.813118\n",
       "7930      0.710661\n",
       "59978     0.000000\n",
       "Length: 10385, dtype: float32"
      ]
     },
     "execution_count": 46,
     "metadata": {},
     "output_type": "execute_result"
    }
   ],
   "source": [
    "pd.Series(encoded_imgs.reshape(X_test.shape[0]),index=X_test.index)\n",
    "# pd.Series(encoded_imgs,index=X_test.index)"
   ]
  },
  {
   "cell_type": "code",
   "execution_count": 47,
   "id": "fd266f9e",
   "metadata": {},
   "outputs": [
    {
     "data": {
      "text/plain": [
       "(10385, 289)"
      ]
     },
     "execution_count": 47,
     "metadata": {},
     "output_type": "execute_result"
    }
   ],
   "source": [
    "X_test_reconst.shape"
   ]
  },
  {
   "cell_type": "code",
   "execution_count": 48,
   "id": "1facd527",
   "metadata": {},
   "outputs": [
    {
     "data": {
      "text/plain": [
       "<matplotlib.axes._subplots.AxesSubplot at 0x2b35bae7648>"
      ]
     },
     "execution_count": 48,
     "metadata": {},
     "output_type": "execute_result"
    },
    {
     "data": {
      "image/png": "[encoded data removed]",
      "text/plain": [
       "<Figure size 432x288 with 1 Axes>"
      ]
     },
     "metadata": {},
     "output_type": "display_data"
    }
   ],
   "source": [
    "X_test_reconst.corrwith(pd.Series(encoded_imgs.reshape(X_test.shape[0]),index=X_test.index)).sort_values().hist(bins=100)"
   ]
  },
  {
   "cell_type": "code",
   "execution_count": 49,
   "id": "2eaec7a4",
   "metadata": {},
   "outputs": [
    {
     "data": {
      "text/plain": [
       "likeLD__Strongly like                                                                                           -0.988948\n",
       "lr1__Strongly agree                                                                                             -0.981356\n",
       "enviroGrowth__Protecting the environment should have priority                                                   -0.979702\n",
       "likeGrn__Strongly like                                                                                          -0.979565\n",
       "changeEconomyLab__Getting a lot better                                                                          -0.978279\n",
       "ptvLD__Very likely                                                                                              -0.978141\n",
       "likeStarmer__Strongly like                                                                                      -0.976797\n",
       "lr4__Strongly agree                                                                                             -0.973771\n",
       "likeLab__Strongly like                                                                                          -0.972566\n",
       "lr3__Strongly agree                                                                                             -0.971610\n",
       "edlevelPartner__Postgrad                                                                                        -0.969681\n",
       "selfPriorities_environment_Yes                                                                                  -0.968830\n",
       "handleCoronaLab__Very well                                                                                      -0.964227\n",
       "ptvGrn__Very likely                                                                                             -0.963200\n",
       "lr2__Strongly agree                                                                                             -0.960074\n",
       "ptvLab__Very likely                                                                                             -0.958589\n",
       "europeanness__Very strongly European                                                                            -0.957990\n",
       "changeNHSLab__Getting a lot better                                                                              -0.956328\n",
       "cvEconCon__Save the economy even if it increases infections                                                     -0.955561\n",
       "stateOwnership__Strongly agree                                                                                  -0.954662\n",
       "immigCultural__Enriches cultural life                                                                           -0.945457\n",
       "worryCoronaHealth__Extremely Worried                                                                            -0.942232\n",
       "immigSelf__Allow many more                                                                                      -0.936531\n",
       "workingStatusPartner_Working part time (8-29 hours per week)                                                    -0.930325\n",
       "p_religion_No, I do not regard myself as belonging to any particular religion.                                  -0.927977\n",
       "generalElectionVote_Labour                                                                                      -0.926251\n",
       "p_education_age__Still at school/Full time student                                                              -0.918470\n",
       "lrBrexit__Right                                                                                                 -0.916665\n",
       "jobForAll__Strongly agree                                                                                       -0.912180\n",
       "worryCoronaPub__Extremely Worried                                                                               -0.909732\n",
       "immigEcon__Good for economy                                                                                     -0.909101\n",
       "coronaMeasures2_3_Yes                                                                                           -0.907757\n",
       "coronaMeasures_3_Yes                                                                                            -0.900123\n",
       "reasonForUnemployment__Strongly agree                                                                           -0.900117\n",
       "globalGoodOverall__Mainly good                                                                                  -0.899022\n",
       "selfOccSuperviseLast_Yes                                                                                        -0.898119\n",
       "partyId_Labour                                                                                                  -0.894975\n",
       "workHomeCoronaPartner_Yes                                                                                       -0.892343\n",
       "responsibleEconC_1_Yes                                                                                          -0.883619\n",
       "partnerOccSupervise_Yes                                                                                         -0.876787\n",
       "coronaMeasures_4_Yes                                                                                            -0.872212\n",
       "coronaMeasures2_4_Yes                                                                                           -0.861395\n",
       "p_job_sector_Public sector government owned or funded (e.g. civil service, local government, NHS, university)   -0.860157\n",
       "p_past_vote_2019_Labour                                                                                         -0.855567\n",
       "selfPriorities_nhs_Yes                                                                                          -0.852095\n",
       "anyUni__Yes, I graduated from higher education                                                                  -0.849153\n",
       "p_edlevel__Postgrad                                                                                             -0.848039\n",
       "resourceAccess3_4_Yes                                                                                           -0.839961\n",
       "p_education_University or CNAA first degree (e.g. BA, B.Sc, B.Ed)                                               -0.837863\n",
       "selfOccOrgSize__500 or more employees                                                                           -0.837289\n",
       "dtype: float64"
      ]
     },
     "execution_count": 49,
     "metadata": {},
     "output_type": "execute_result"
    }
   ],
   "source": [
    "X_test_reconst.corrwith(pd.Series(encoded_imgs.reshape(X_test.shape[0]),index=X_test.index)).sort_values().head(50)"
   ]
  },
  {
   "cell_type": "code",
   "execution_count": 50,
   "id": "d4415397",
   "metadata": {},
   "outputs": [
    {
     "data": {
      "text/plain": [
       "al1__Strongly agree                                                                         0.895041\n",
       "p_religion_Yes - Church of England/Anglican/Episcopal                                       0.899293\n",
       "benefitsNotDeserved__Strongly agree                                                         0.901032\n",
       "govtHandouts__Strongly agree                                                                0.906797\n",
       "al3__Strongly agree                                                                         0.910579\n",
       "trustGov2_Government D                                                                      0.914197\n",
       "trustMPs__A great deal of trust                                                             0.917992\n",
       "conPriorities_nhs_Yes                                                                       0.918962\n",
       "sector_Private sector firm of company Including, for example, limited companies and PLCs    0.924045\n",
       "highRiskMedical_none_Yes                                                                    0.927221\n",
       "p_past_vote_2015_Conservative                                                               0.929279\n",
       "coronaMeasures2_1_Yes                                                                       0.929474\n",
       "ns_sec_analytic_Employers in small organisations and own account workers                    0.933060\n",
       "euPriorityBalance__Control immigration                                                      0.938862\n",
       "changeNHS__Getting a lot better                                                             0.947644\n",
       "partyId_Conservative                                                                        0.947766\n",
       "partnerEducation_No formal qualifications                                                   0.949687\n",
       "p_paper_read_The Daily Mail / The Scottish Daily Mail                                       0.953545\n",
       "generalElectionVote_Conservative                                                            0.954945\n",
       "p_past_vote_2017_Conservative                                                               0.955074\n",
       "trustGov1_Government B                                                                      0.955802\n",
       "partnerEducation_CSE grade 1, GCE O level, GCSE, School Certificate                         0.963481\n",
       "bestOnMII_Conservative                                                                      0.965008\n",
       "britishness__Very strongly British                                                          0.966234\n",
       "p_past_vote_2015_United Kingdom Independence Party (UKIP)                                   0.969199\n",
       "p_past_vote_2019_Conservative                                                               0.970376\n",
       "redistSelf__Government should be less concerned about equal incomes                         0.970501\n",
       "cvEconSelf__Save the economy even if it increases infections                                0.972294\n",
       "privateEnterprise__Strongly agree                                                           0.973016\n",
       "changeCorona__Getting a lot better                                                          0.976208\n",
       "englishness__Very strongly English                                                          0.976784\n",
       "EUIntegrationSelf__Protect our independence                                                 0.976855\n",
       "handleCorona__Very well                                                                     0.977121\n",
       "trustWestminster__Just about always                                                         0.977289\n",
       "govtHandlelockdown__Very well                                                               0.978049\n",
       "selfPriorities_immig_Yes                                                                    0.978976\n",
       "govtHandleTesting__Very well                                                                0.979972\n",
       "selfPriorities_crime_Yes                                                                    0.980609\n",
       "likeJohnson__Strongly like                                                                  0.983770\n",
       "ptvBrexitParty__Very likely                                                                 0.984580\n",
       "govtHandlePPE__Very well                                                                    0.984590\n",
       "euID_The leave side                                                                         0.987126\n",
       "likeCon__Strongly like                                                                      0.988197\n",
       "euRefVoteAfter_Stay out of the EU                                                           0.988257\n",
       "ptvCon__Very likely                                                                         0.989021\n",
       "p_eurefvote_I voted to leave                                                                0.990028\n",
       "econGenProsp__Get a lot better                                                              0.990167\n",
       "likeBrexitParty__Strongly like                                                              0.990175\n",
       "likeFarage__Strongly like                                                                   0.990937\n",
       "satDemUK__Very satisfied                                                                    0.992092\n",
       "dtype: float64"
      ]
     },
     "execution_count": 50,
     "metadata": {},
     "output_type": "execute_result"
    }
   ],
   "source": [
    "X_test_reconst.corrwith(pd.Series(encoded_imgs.reshape(X_test.shape[0]),index=X_test.index)).sort_values().tail(50)"
   ]
  },
  {
   "cell_type": "code",
   "execution_count": null,
   "id": "9563e443",
   "metadata": {},
   "outputs": [],
   "source": []
  },
  {
   "cell_type": "code",
   "execution_count": null,
   "id": "cf2b914d",
   "metadata": {},
   "outputs": [],
   "source": []
  },
  {
   "cell_type": "code",
   "execution_count": 51,
   "id": "1955877d",
   "metadata": {},
   "outputs": [
    {
     "data": {
      "text/plain": [
       "benefitsNotDeserved__Strongly agree            0.497512\n",
       "lr1__Strongly agree                            0.498810\n",
       "ptvLD__Very likely                             0.504503\n",
       "privateEnterprise__Strongly agree              0.513829\n",
       "al2__Strongly agree                            0.519501\n",
       "immigEcon__Good for economy                    0.526800\n",
       "p_work_stat_Retired                            0.528736\n",
       "bestOnMII_Labour                               0.529451\n",
       "ptvBrexitParty__Very likely                    0.529799\n",
       "p_past_vote_2005_Labour                        0.530907\n",
       "workingStatus_Retired                          0.532552\n",
       "likeStarmer__Strongly like                     0.533924\n",
       "handleCoronaLab__Very well                     0.536511\n",
       "govtHandleTesting__Very well                   0.539749\n",
       "ptvGrn__Very likely                            0.545331\n",
       "europeanness__Very strongly European           0.554206\n",
       "changeEconomyLab__Getting a lot better         0.555487\n",
       "al1__Strongly agree                            0.560996\n",
       "immigCultural__Enriches cultural life          0.561143\n",
       "govtHandlePPE__Very well                       0.562326\n",
       "likeGrn__Strongly like                         0.564384\n",
       "govtHandouts__Strongly agree                   0.566410\n",
       "generalElectionVote_Labour                     0.569747\n",
       "changeNHSLab__Getting a lot better             0.571969\n",
       "p_past_vote_2010_Conservative                  0.587581\n",
       "p_past_vote_2005_Conservative                  0.588582\n",
       "immigSelf__Allow many more                     0.589355\n",
       "p_past_vote_2015_Labour                        0.591480\n",
       "govtHandlelockdown__Very well                  0.595308\n",
       "p_eurefvote_I voted to leave                   0.605522\n",
       "p_past_vote_2015_Conservative                  0.607786\n",
       "immigrantsWelfareState__Strongly agree         0.614355\n",
       "p_past_vote_2019_Labour                        0.635435\n",
       "likeFarage__Strongly like                      0.638527\n",
       "likeBrexitParty__Strongly like                 0.639078\n",
       "p_past_vote_2017_Labour                        0.647049\n",
       "euPriorityBalance__Control immigration         0.653581\n",
       "handleCorona__Very well                        0.662098\n",
       "likeLab__Strongly like                         0.681905\n",
       "euID_The leave side                            0.692531\n",
       "ptvLab__Very likely                            0.708613\n",
       "euRefVoteAfter_Stay out of the EU              0.711115\n",
       "partyId_Conservative                           0.740406\n",
       "p_past_vote_2017_Conservative                  0.761027\n",
       "EUIntegrationSelf__Protect our independence    0.763500\n",
       "generalElectionVote_Conservative               0.784914\n",
       "likeJohnson__Strongly like                     0.799511\n",
       "p_past_vote_2019_Conservative                  0.810233\n",
       "likeCon__Strongly like                         0.821472\n",
       "ptvCon__Very likely                            0.831933\n",
       "dtype: float64"
      ]
     },
     "execution_count": 51,
     "metadata": {},
     "output_type": "execute_result"
    }
   ],
   "source": [
    "X_test_reconst.apply(lambda x: X_test_reconst[x.name].corr( X_test[x.name] ) ).sort_values().tail(50)\n"
   ]
  },
  {
   "cell_type": "code",
   "execution_count": 52,
   "id": "284ef1ea",
   "metadata": {},
   "outputs": [
    {
     "name": "stdout",
     "output_type": "stream",
     "text": [
      "Model: \"model_39\"\n",
      "_________________________________________________________________\n",
      "Layer (type)                 Output Shape              Param #   \n",
      "=================================================================\n",
      "input_57 (InputLayer)        [(None, 289)]             0         \n",
      "_________________________________________________________________\n",
      "dense_88 (Dense)             (None, 100)               29000     \n",
      "_________________________________________________________________\n",
      "dense_89 (Dense)             (None, 1)                 101       \n",
      "_________________________________________________________________\n",
      "dense_90 (Dense)             (None, 100)               200       \n",
      "_________________________________________________________________\n",
      "dense_91 (Dense)             (None, 289)               29189     \n",
      "=================================================================\n",
      "Total params: 58,490\n",
      "Trainable params: 58,490\n",
      "Non-trainable params: 0\n",
      "_________________________________________________________________\n"
     ]
    }
   ],
   "source": [
    "autoencoder.summary()"
   ]
  },
  {
   "cell_type": "code",
   "execution_count": null,
   "id": "db57dec8",
   "metadata": {},
   "outputs": [],
   "source": []
  },
  {
   "cell_type": "code",
   "execution_count": 53,
   "id": "ed05cd0d",
   "metadata": {},
   "outputs": [
    {
     "name": "stdout",
     "output_type": "stream",
     "text": [
      "Model: \"model_39\"\n",
      "_________________________________________________________________\n",
      "Layer (type)                 Output Shape              Param #   \n",
      "=================================================================\n",
      "input_57 (InputLayer)        [(None, 289)]             0         \n",
      "_________________________________________________________________\n",
      "dense_88 (Dense)             (None, 100)               29000     \n",
      "_________________________________________________________________\n",
      "dense_89 (Dense)             (None, 1)                 101       \n",
      "_________________________________________________________________\n",
      "dense_90 (Dense)             (None, 100)               200       \n",
      "_________________________________________________________________\n",
      "dense_91 (Dense)             (None, 289)               29189     \n",
      "=================================================================\n",
      "Total params: 58,490\n",
      "Trainable params: 58,490\n",
      "Non-trainable params: 0\n",
      "_________________________________________________________________\n"
     ]
    }
   ],
   "source": [
    "autoencoder.summary()"
   ]
  },
  {
   "cell_type": "code",
   "execution_count": 54,
   "id": "a407eb23",
   "metadata": {},
   "outputs": [
    {
     "name": "stdout",
     "output_type": "stream",
     "text": [
      "Model: \"model_1\"\n",
      "_________________________________________________________________\n",
      "Layer (type)                 Output Shape              Param #   \n",
      "=================================================================\n",
      "input_1 (InputLayer)         [(None, 784)]             0         \n",
      "_________________________________________________________________\n",
      "dense_14 (Dense)             (None, 32)                25120     \n",
      "=================================================================\n",
      "Total params: 25,120\n",
      "Trainable params: 25,120\n",
      "Non-trainable params: 0\n",
      "_________________________________________________________________\n"
     ]
    }
   ],
   "source": [
    "encoder.summary()"
   ]
  },
  {
   "cell_type": "code",
   "execution_count": 55,
   "id": "787dc029",
   "metadata": {},
   "outputs": [
    {
     "name": "stdout",
     "output_type": "stream",
     "text": [
      "Model: \"model_2\"\n",
      "_________________________________________________________________\n",
      "Layer (type)                 Output Shape              Param #   \n",
      "=================================================================\n",
      "input_2 (InputLayer)         [(None, 32)]              0         \n",
      "_________________________________________________________________\n",
      "dense_15 (Dense)             (None, 784)               25872     \n",
      "=================================================================\n",
      "Total params: 25,872\n",
      "Trainable params: 25,872\n",
      "Non-trainable params: 0\n",
      "_________________________________________________________________\n"
     ]
    }
   ],
   "source": [
    "decoder.summary()"
   ]
  },
  {
   "cell_type": "code",
   "execution_count": 56,
   "id": "3ef12b9a",
   "metadata": {},
   "outputs": [
    {
     "data": {
      "text/plain": [
       "<tensorflow.python.keras.layers.core.Dense at 0x2b358b3ca08>"
      ]
     },
     "execution_count": 56,
     "metadata": {},
     "output_type": "execute_result"
    }
   ],
   "source": [
    "autoencoder.layers[-1]"
   ]
  },
  {
   "cell_type": "code",
   "execution_count": 57,
   "id": "0fa36d38",
   "metadata": {},
   "outputs": [
    {
     "data": {
      "text/plain": [
       "<KerasTensor: shape=(None, 32) dtype=float32 (created by layer 'input_2')>"
      ]
     },
     "execution_count": 57,
     "metadata": {},
     "output_type": "execute_result"
    }
   ],
   "source": [
    "encoded_input"
   ]
  },
  {
   "cell_type": "code",
   "execution_count": 58,
   "id": "70a7619e",
   "metadata": {},
   "outputs": [],
   "source": [
    "# # Model(input_img, autoencoder.layers[])\n",
    "# Model(encoded_input, autoencoder.layers[-1](encoded_input))"
   ]
  },
  {
   "cell_type": "code",
   "execution_count": 59,
   "id": "8cbdb2f4",
   "metadata": {},
   "outputs": [],
   "source": [
    "# # create a placeholder for an encoded (32-dimensional) input\n",
    "# encoded_input = Input(shape=(encoding_dim,))\n",
    "# # retrieve the last layer of the autoencoder model\n",
    "# ## changed to -2 after adding hidden layer!\n",
    "# decoder_layer = autoencoder.layers[-1]\n",
    "# # create the decoder model\n",
    "# decoder = Model(encoded_input, decoder_layer(encoded_input))"
   ]
  },
  {
   "cell_type": "code",
   "execution_count": 60,
   "id": "344d2e54",
   "metadata": {},
   "outputs": [],
   "source": [
    "# encoding_dim = 32\n",
    "# Epoch 2/50\n",
    "#  - 2s - loss: 5935.9533 - acc: 0.3057 - val_loss: 5822.0374 - val_acc: 0.5679\n",
    "# Epoch 50/50\n",
    "#  - 2s - loss: 5680.6994 - acc: 0.8580 - val_loss: 5683.9633 - val_acc: 0.8727\n",
    "\n",
    "# encoding_dim = 16\n",
    "# Epoch 2/50\n",
    "#  - 2s - loss: 5978.8631 - acc: 0.8325 - val_loss: 5866.3392 - val_acc: 0.8639\n",
    "# Epoch 50/50\n",
    "#  - 3s - loss: 5694.4223 - acc: 0.8617 - val_loss: 5697.4094 - val_acc: 0.8703\n",
    "\n",
    "# encoding_dim = 8\n",
    "# Epoch 2/50\n",
    "#  - 2s - loss: 5970.0431 - acc: 0.8586 - val_loss: 5835.3781 - val_acc: 0.8639\n",
    "# Epoch 50/50\n",
    "#  - 2s - loss: 5715.6143 - acc: 0.8595 - val_loss: 5718.3449 - val_acc: 0.8642\n",
    "\n",
    "# encoding_dim = 1\n",
    "# Epoch 2/50\n",
    "#  - 2s - loss: 6096.5372 - acc: 0.0000e+00 - val_loss: 6056.0097 - val_acc: 0.0000e+00\n",
    "# Epoch 38/50\n",
    "#  - 2s - loss: 5753.8536 - acc: 0.0416 - val_loss: 5756.7104 - val_acc: 0.0403\n",
    "\n",
    "# encoding_dim = 2\n",
    "# Epoch 2/50\n",
    "#  - 2s - loss: 6086.2950 - acc: 0.0000e+00 - val_loss: 6052.0046 - val_acc: 0.0000e+00\n",
    "# Epoch 41/50\n",
    "#  - 2s - loss: 5729.3915 - acc: 0.8586 - val_loss: 5731.9737 - val_acc: 0.8639\n",
    "\n",
    "## WTF!\n",
    "# encoding_dim = 3\n",
    "# Epoch 2/50\n",
    "#  - 2s - loss: 6062.5483 - acc: 0.0074 - val_loss: 6017.2380 - val_acc: 0.0075\n",
    "# Epoch 38/50\n",
    "#  - 3s - loss: 5735.6843 - acc: 0.0442 - val_loss: 5738.1730 - val_acc: 0.0402\n",
    "\n",
    "# encoding_dim = 4\n",
    "# Epoch 2/50\n",
    "#  - 2s - loss: 6040.1189 - acc: 4.7432e-05 - val_loss: 5968.3275 - val_acc: 0.0000e+00\n",
    "# Epoch 50/50\n",
    "#  - 2s - loss: 5723.7691 - acc: 0.8586 - val_loss: 5726.4317 - val_acc: 0.8639                   "
   ]
  },
  {
   "cell_type": "code",
   "execution_count": 61,
   "id": "03765bb5",
   "metadata": {},
   "outputs": [],
   "source": [
    "# encoding_dim = 4\n",
    "# hidden_size = 0\n",
    "\n",
    "# Epoch 2/50\n",
    "#  - 1s - loss: 2.0178 - acc: 0.8586 - val_loss: 1.8578 - val_acc: 0.8639\n",
    "# Epoch 50/50\n",
    "#  - 2s - loss: 0.3624 - acc: 0.9903 - val_loss: 0.3628 - val_acc: 0.9922"
   ]
  },
  {
   "cell_type": "code",
   "execution_count": 62,
   "id": "0a29e96e",
   "metadata": {},
   "outputs": [],
   "source": [
    "# encoded_imgs = encoder.predict(X_test.values)\n",
    "# decoded_imgs = decoder.predict(encoded_imgs)\n",
    "\n",
    "# # save latent space features 32-d vector\n",
    "# pickle.dump(encoded_imgs, open(features_path, 'wb'))\n",
    "# pickle.dump(y_test, open(labels_path, 'wb'))\n"
   ]
  },
  {
   "cell_type": "code",
   "execution_count": 63,
   "id": "414084c1",
   "metadata": {},
   "outputs": [
    {
     "data": {
      "text/plain": [
       "(10385, 1)"
      ]
     },
     "execution_count": 63,
     "metadata": {},
     "output_type": "execute_result"
    }
   ],
   "source": [
    "encoded_imgs.shape"
   ]
  },
  {
   "cell_type": "code",
   "execution_count": 64,
   "id": "4ae39e27",
   "metadata": {},
   "outputs": [],
   "source": [
    "# # %%time\n",
    "\n",
    "# # hasattr(tf_gradients_impl, \"_IsBackpropagatable\")\n",
    "# background = X.loc[X.index[np.random.choice(X.shape[0], 200, replace=False)]]\n",
    "\n",
    "# # e = shap.DeepExplainer((model.layers[0].input, model.layers[-1].output), background)\n",
    "# e = shap.DeepExplainer(model, background.values)\n",
    "# shap_values = e.shap_values(background.values)"
   ]
  },
  {
   "cell_type": "code",
   "execution_count": 65,
   "id": "d71d500b",
   "metadata": {},
   "outputs": [
    {
     "data": {
      "text/plain": [
       "(None, 32)"
      ]
     },
     "execution_count": 65,
     "metadata": {},
     "output_type": "execute_result"
    }
   ],
   "source": [
    "decoder_layer.input_shape"
   ]
  },
  {
   "cell_type": "code",
   "execution_count": 66,
   "id": "c2a45e7d",
   "metadata": {},
   "outputs": [
    {
     "data": {
      "text/plain": [
       "(10385, 1)"
      ]
     },
     "execution_count": 66,
     "metadata": {},
     "output_type": "execute_result"
    }
   ],
   "source": [
    "encoded_imgs.shape"
   ]
  },
  {
   "cell_type": "code",
   "execution_count": 67,
   "id": "a929104a",
   "metadata": {},
   "outputs": [
    {
     "data": {
      "text/plain": [
       "(10385, 1)"
      ]
     },
     "execution_count": 67,
     "metadata": {},
     "output_type": "execute_result"
    }
   ],
   "source": [
    "encoded_imgs.shape"
   ]
  },
  {
   "cell_type": "code",
   "execution_count": 68,
   "id": "db09c5ec",
   "metadata": {},
   "outputs": [
    {
     "data": {
      "text/plain": [
       "<matplotlib.axes._subplots.AxesSubplot at 0x2b35bed7e08>"
      ]
     },
     "execution_count": 68,
     "metadata": {},
     "output_type": "execute_result"
    },
    {
     "data": {
      "image/png": "[encoded data removed]",
      "text/plain": [
       "<Figure size 432x288 with 1 Axes>"
      ]
     },
     "metadata": {},
     "output_type": "display_data"
    }
   ],
   "source": [
    "X_test_reconst = pd.DataFrame(decoded_imgs,columns=X_test.columns,index=X_test.index)\n",
    "X_test_reconst[\"p_past_vote_2019_Conservative\"].hist(bins=100)"
   ]
  },
  {
   "cell_type": "code",
   "execution_count": 69,
   "id": "93927515",
   "metadata": {},
   "outputs": [
    {
     "data": {
      "text/plain": [
       "0.8102326791364531"
      ]
     },
     "execution_count": 69,
     "metadata": {},
     "output_type": "execute_result"
    }
   ],
   "source": [
    "X_test_reconst[\"p_past_vote_2019_Conservative\"].corr(X_test[\"p_past_vote_2019_Conservative\"])"
   ]
  },
  {
   "cell_type": "code",
   "execution_count": 70,
   "id": "e07878c3",
   "metadata": {},
   "outputs": [
    {
     "data": {
      "text/plain": [
       "<matplotlib.axes._subplots.AxesSubplot at 0x2b35ad26a48>"
      ]
     },
     "execution_count": 70,
     "metadata": {},
     "output_type": "execute_result"
    },
    {
     "data": {
      "image/png": "[encoded data removed]",
      "text/plain": [
       "<Figure size 432x288 with 1 Axes>"
      ]
     },
     "metadata": {},
     "output_type": "display_data"
    }
   ],
   "source": [
    "X_test_reconst = pd.DataFrame(decoded_imgs,columns=X_test.columns,index=X_test.index)\n",
    "X_test_reconst[\"p_past_vote_2019_Conservative\"].hist(bins=100)"
   ]
  },
  {
   "cell_type": "code",
   "execution_count": 71,
   "id": "808f2d4f",
   "metadata": {},
   "outputs": [
    {
     "data": {
      "text/plain": [
       "<matplotlib.axes._subplots.AxesSubplot at 0x2b35bb13048>"
      ]
     },
     "execution_count": 71,
     "metadata": {},
     "output_type": "execute_result"
    },
    {
     "data": {
      "image/png": "[encoded data removed]",
      "text/plain": [
       "<Figure size 432x288 with 1 Axes>"
      ]
     },
     "metadata": {},
     "output_type": "display_data"
    }
   ],
   "source": [
    "X_test_reconst = pd.DataFrame(decoded_imgs,columns=X_test.columns,index=X_test.index)\n",
    "X_test_reconst[\"p_past_vote_2019_Conservative\"].hist(bins=100)"
   ]
  },
  {
   "cell_type": "code",
   "execution_count": 72,
   "id": "7d996e48",
   "metadata": {},
   "outputs": [
    {
     "data": {
      "text/plain": [
       "<matplotlib.axes._subplots.AxesSubplot at 0x2b35baff0c8>"
      ]
     },
     "execution_count": 72,
     "metadata": {},
     "output_type": "execute_result"
    },
    {
     "data": {
      "image/png": "[encoded data removed]",
      "text/plain": [
       "<Figure size 432x288 with 1 Axes>"
      ]
     },
     "metadata": {},
     "output_type": "display_data"
    }
   ],
   "source": [
    "X_test_reconst = pd.DataFrame(decoded_imgs,columns=X_test.columns,index=X_test.index)\n",
    "X_test_reconst[\"p_past_vote_2019_Conservative\"].hist(bins=100)"
   ]
  },
  {
   "cell_type": "code",
   "execution_count": 73,
   "id": "e57ebda7",
   "metadata": {},
   "outputs": [
    {
     "data": {
      "text/plain": [
       "<matplotlib.axes._subplots.AxesSubplot at 0x2b35bd73cc8>"
      ]
     },
     "execution_count": 73,
     "metadata": {},
     "output_type": "execute_result"
    },
    {
     "data": {
      "image/png": "[encoded data removed]",
      "text/plain": [
       "<Figure size 432x288 with 1 Axes>"
      ]
     },
     "metadata": {},
     "output_type": "display_data"
    }
   ],
   "source": [
    "X_test_reconst = pd.DataFrame(decoded_imgs,columns=X_test.columns,index=X_test.index)\n",
    "X_test_reconst[\"p_past_vote_2019_Conservative\"].hist(bins=100)"
   ]
  },
  {
   "cell_type": "code",
   "execution_count": 74,
   "id": "515b2986",
   "metadata": {},
   "outputs": [
    {
     "data": {
      "text/plain": [
       "<matplotlib.axes._subplots.AxesSubplot at 0x2b358fd7688>"
      ]
     },
     "execution_count": 74,
     "metadata": {},
     "output_type": "execute_result"
    },
    {
     "data": {
      "image/png": "[encoded data removed]",
      "text/plain": [
       "<Figure size 432x288 with 1 Axes>"
      ]
     },
     "metadata": {},
     "output_type": "display_data"
    }
   ],
   "source": [
    "X_test_reconst = pd.DataFrame(decoded_imgs,columns=X_test.columns,index=X_test.index)\n",
    "X_test_reconst[\"p_past_vote_2019_Conservative\"].hist(bins=100)"
   ]
  },
  {
   "cell_type": "code",
   "execution_count": 75,
   "id": "2b69f22f",
   "metadata": {},
   "outputs": [
    {
     "data": {
      "text/plain": [
       "<matplotlib.axes._subplots.AxesSubplot at 0x2b35b9c8c88>"
      ]
     },
     "execution_count": 75,
     "metadata": {},
     "output_type": "execute_result"
    },
    {
     "data": {
      "image/png": "[encoded data removed]",
      "text/plain": [
       "<Figure size 432x288 with 1 Axes>"
      ]
     },
     "metadata": {},
     "output_type": "display_data"
    }
   ],
   "source": [
    "X_test_reconst = pd.DataFrame(decoded_imgs,columns=X_test.columns,index=X_test.index)\n",
    "X_test_reconst[\"p_past_vote_2019_Conservative\"].hist(bins=100)"
   ]
  },
  {
   "cell_type": "code",
   "execution_count": 76,
   "id": "f1bde516",
   "metadata": {},
   "outputs": [
    {
     "data": {
      "text/plain": [
       "(10385, 289)"
      ]
     },
     "execution_count": 76,
     "metadata": {},
     "output_type": "execute_result"
    }
   ],
   "source": [
    "decoded_imgs.shape"
   ]
  },
  {
   "cell_type": "code",
   "execution_count": null,
   "id": "7ba334de",
   "metadata": {},
   "outputs": [],
   "source": []
  },
  {
   "cell_type": "code",
   "execution_count": 77,
   "id": "54a970d3",
   "metadata": {},
   "outputs": [
    {
     "data": {
      "text/plain": [
       "0.0    6541\n",
       "1.0    3844\n",
       "Name: p_past_vote_2019_Conservative, dtype: int64"
      ]
     },
     "execution_count": 77,
     "metadata": {},
     "output_type": "execute_result"
    }
   ],
   "source": [
    "X_test[\"p_past_vote_2019_Conservative\"].value_counts()"
   ]
  },
  {
   "cell_type": "code",
   "execution_count": 78,
   "id": "f1c704a4",
   "metadata": {},
   "outputs": [
    {
     "data": {
      "text/plain": [
       "0.8102326791364531"
      ]
     },
     "execution_count": 78,
     "metadata": {},
     "output_type": "execute_result"
    }
   ],
   "source": [
    "X_test_reconst[\"p_past_vote_2019_Conservative\"].corr(X_test[\"p_past_vote_2019_Conservative\"])"
   ]
  },
  {
   "cell_type": "code",
   "execution_count": 79,
   "id": "ffc64805",
   "metadata": {},
   "outputs": [
    {
     "data": {
      "text/plain": [
       "id\n",
       "66014     1.0\n",
       "78512     1.0\n",
       "102320    0.0\n",
       "44782     0.0\n",
       "100932    0.0\n",
       "         ... \n",
       "51434     1.0\n",
       "101213    0.0\n",
       "14449     1.0\n",
       "7930      0.0\n",
       "59978     0.0\n",
       "Name: p_past_vote_2019_Conservative, Length: 10385, dtype: float32"
      ]
     },
     "execution_count": 79,
     "metadata": {},
     "output_type": "execute_result"
    }
   ],
   "source": [
    "X_test[\"p_past_vote_2019_Conservative\"]"
   ]
  },
  {
   "cell_type": "code",
   "execution_count": 80,
   "id": "28ec3564",
   "metadata": {},
   "outputs": [
    {
     "data": {
      "text/plain": [
       "id\n",
       "66014     0.776489\n",
       "78512     0.530568\n",
       "102320   -0.001740\n",
       "44782     0.065856\n",
       "100932    0.062531\n",
       "            ...   \n",
       "51434     0.987130\n",
       "101213   -0.016893\n",
       "14449     1.258140\n",
       "7930     -0.017876\n",
       "59978     0.012158\n",
       "Name: p_past_vote_2019_Conservative, Length: 10385, dtype: float32"
      ]
     },
     "execution_count": 80,
     "metadata": {},
     "output_type": "execute_result"
    }
   ],
   "source": [
    "X_test_reconst[\"p_past_vote_2019_Conservative\"]"
   ]
  },
  {
   "cell_type": "code",
   "execution_count": null,
   "id": "6c3309d1",
   "metadata": {},
   "outputs": [],
   "source": []
  },
  {
   "cell_type": "code",
   "execution_count": 81,
   "id": "a426b4d7",
   "metadata": {},
   "outputs": [
    {
     "data": {
      "text/plain": [
       "0.37014925"
      ]
     },
     "execution_count": 81,
     "metadata": {},
     "output_type": "execute_result"
    }
   ],
   "source": [
    "X_test[\"p_past_vote_2019_Conservative\"].mean()"
   ]
  },
  {
   "cell_type": "code",
   "execution_count": null,
   "id": "16c93cdd",
   "metadata": {},
   "outputs": [],
   "source": []
  },
  {
   "cell_type": "code",
   "execution_count": 82,
   "id": "eaa13ecf",
   "metadata": {},
   "outputs": [
    {
     "data": {
      "text/plain": [
       "likeCon__Strongly like                                                                      0.036620\n",
       "privateEnterprise__Strongly agree                                                           0.040506\n",
       "trustWestminster__Just about always                                                         0.041840\n",
       "likeJohnson__Strongly like                                                                  0.042866\n",
       "cvEconCon__Save the economy even if it increases infections                                 0.043108\n",
       "                                                                                              ...   \n",
       "partnerEducation_GCE A level or Higher Certificate                                          0.237871\n",
       "highRiskMedical_none_Yes                                                                    0.239978\n",
       "sector_Private sector firm of company Including, for example, limited companies and PLCs    0.241527\n",
       "coronaMeasures2_5_Yes                                                                       0.241956\n",
       "gender_Female                                                                               0.242503\n",
       "Length: 289, dtype: float64"
      ]
     },
     "execution_count": 82,
     "metadata": {},
     "output_type": "execute_result"
    }
   ],
   "source": [
    "(X_test_reconst-X_test).applymap(lambda x: x**2).mean().sort_values()"
   ]
  },
  {
   "cell_type": "code",
   "execution_count": 83,
   "id": "5a6fbe91",
   "metadata": {},
   "outputs": [
    {
     "data": {
      "text/plain": [
       "(4014.4805, 3844.0)"
      ]
     },
     "execution_count": 83,
     "metadata": {},
     "output_type": "execute_result"
    }
   ],
   "source": [
    "X_test_reconst[\"p_past_vote_2019_Conservative\"].sum(),X_test[\"p_past_vote_2019_Conservative\"].sum()"
   ]
  },
  {
   "cell_type": "code",
   "execution_count": 84,
   "id": "94c7ef46",
   "metadata": {},
   "outputs": [
    {
     "data": {
      "text/plain": [
       "(4014.4805, 3844.0)"
      ]
     },
     "execution_count": 84,
     "metadata": {},
     "output_type": "execute_result"
    }
   ],
   "source": [
    "X_test_reconst[\"p_past_vote_2019_Conservative\"].sum(),X_test[\"p_past_vote_2019_Conservative\"].sum()"
   ]
  },
  {
   "cell_type": "code",
   "execution_count": 85,
   "id": "bc5c4ba3",
   "metadata": {},
   "outputs": [
    {
     "data": {
      "text/plain": [
       "array([[2.6805234 ],\n",
       "       [2.1812422 ],\n",
       "       [0.26714563],\n",
       "       ...,\n",
       "       [3.8131185 ],\n",
       "       [0.7106612 ],\n",
       "       [0.        ]], dtype=float32)"
      ]
     },
     "execution_count": 85,
     "metadata": {},
     "output_type": "execute_result"
    }
   ],
   "source": [
    "encoded_imgs"
   ]
  },
  {
   "cell_type": "code",
   "execution_count": 86,
   "id": "8dd1dc2e",
   "metadata": {},
   "outputs": [
    {
     "data": {
      "text/plain": [
       "turnoutUKGeneral__Very likely that I will vote    1.0\n",
       "partyIdStrength__Not very strong                  1.0\n",
       "polAttention__Pay a great deal of attention       1.0\n",
       "likeJohnson__Strongly like                        1.0\n",
       "likeStarmer__Strongly like                        1.0\n",
       "                                                 ... \n",
       "responsibleEconC_2_Yes                            1.0\n",
       "responsibleEconC_1_Yes                            1.0\n",
       "coronaMeasures_2_Yes                              1.0\n",
       "coronaMeasures_1_Yes                              1.0\n",
       "coronaMeasures_4_Yes                              1.0\n",
       "Length: 289, dtype: float32"
      ]
     },
     "execution_count": 86,
     "metadata": {},
     "output_type": "execute_result"
    }
   ],
   "source": [
    "X.max()"
   ]
  },
  {
   "cell_type": "code",
   "execution_count": null,
   "id": "a27c3d3c",
   "metadata": {},
   "outputs": [],
   "source": []
  },
  {
   "cell_type": "code",
   "execution_count": null,
   "id": "87a41036",
   "metadata": {},
   "outputs": [],
   "source": []
  },
  {
   "cell_type": "code",
   "execution_count": null,
   "id": "6d9d3d3a",
   "metadata": {},
   "outputs": [],
   "source": []
  },
  {
   "cell_type": "code",
   "execution_count": null,
   "id": "9789122c",
   "metadata": {},
   "outputs": [],
   "source": []
  },
  {
   "cell_type": "code",
   "execution_count": null,
   "id": "f4350e72",
   "metadata": {},
   "outputs": [],
   "source": []
  },
  {
   "cell_type": "code",
   "execution_count": null,
   "id": "3238a6f9",
   "metadata": {},
   "outputs": [],
   "source": []
  },
  {
   "cell_type": "code",
   "execution_count": 87,
   "id": "pharmaceutical-invalid",
   "metadata": {},
   "outputs": [],
   "source": [
    "prep = BES_Panel.select_dtypes('category')\n",
    "prep = prep.copy()#[temp.columns[0:100]].copy()\n",
    "prep.dropna(axis=1,inplace=True)\n",
    "\n",
    "y = BES_Panel['p_eurefvote']"
   ]
  },
  {
   "cell_type": "code",
   "execution_count": 88,
   "id": "intended-orlando",
   "metadata": {},
   "outputs": [],
   "source": [
    "# search(BES_Panel,\"eurefvote\")"
   ]
  },
  {
   "cell_type": "code",
   "execution_count": 89,
   "id": "liberal-dressing",
   "metadata": {},
   "outputs": [],
   "source": [
    "\n",
    "# y = to_categorical(y)"
   ]
  },
  {
   "cell_type": "code",
   "execution_count": 90,
   "id": "voluntary-kennedy",
   "metadata": {},
   "outputs": [],
   "source": [
    "# prepare target\n",
    "# def prepare_targets(y_train, y_test):\n",
    "#     le = LabelEncoder()\n",
    "#     le.fit(y_train)\n",
    "#     y_train_enc = le.transform(y_train)\n",
    "#     y_test_enc = le.transform(y_test)\n",
    "#     return y_train_enc, y_test_enc\n",
    "\n",
    "\n",
    "enc = OrdinalEncoder()\n",
    "\n",
    "X = enc.fit_transform(prep)\n",
    "X = pd.DataFrame(X,columns = prep.columns,index = prep.index)"
   ]
  },
  {
   "cell_type": "code",
   "execution_count": 91,
   "id": "judicial-confidentiality",
   "metadata": {},
   "outputs": [],
   "source": [
    "# X = prep"
   ]
  },
  {
   "cell_type": "code",
   "execution_count": 92,
   "id": "anonymous-nudist",
   "metadata": {},
   "outputs": [],
   "source": [
    "# no_hidden_layers=2\n",
    "# x = pow(X.shape[1]/encoding_dim,1/ (no_hidden_layers+1) )\n",
    "# [encoding_dim]+[int(encoding_dim*pow(x,y)) for y in range(1,no_hidden_layers+1)]"
   ]
  },
  {
   "cell_type": "code",
   "execution_count": 93,
   "id": "retained-teach",
   "metadata": {},
   "outputs": [],
   "source": [
    "# all layers\n",
    "def get_kernel_regularizer(orthogonality_constraint,dimension,axis,weight=10e-7,weightage=1.0):\n",
    "    if orthogonality_constraint:\n",
    "        return WeightsOrthogonalityConstraint(dimension, weightage=weightage, axis=axis)\n",
    "    else:\n",
    "        return regularizers.l2(weight)\n",
    "\n",
    "# just encoding layer (all of them or just final? Just final surely?)\n",
    "def get_activity_regularizer(uncorrelated_features,encoding_dim, weightage = 1.):\n",
    "    if uncorrelated_features:\n",
    "        return UncorrelatedFeaturesConstraint(encoding_dim, weightage = 1.)\n",
    "    else:\n",
    "        return None\n",
    "\n",
    "# all layers: kernel_constraint=get_kernel_constraint(unit_norm, axis)\n",
    "def get_kernel_constraint(unit_norm, axis):\n",
    "    if unit_norm:\n",
    "        return UnitNorm(axis=axis)\n",
    "    else:\n",
    "        return None    \n",
    "\n",
    "def run_autoencoder(encoding_dim=32,hidden_size=100,verbose=2,\n",
    "                    loss='mean_squared_error',metrics=['accuracy','mse'],optimizer='adam',\n",
    "                    penultimate_act = 'relu',ultimate_act = 'linear',max_epochs=100,\n",
    "                    no_hidden_layers=1,\n",
    "                    tied_layers = False, orthogonality_constraint = False,uncorrelated_features=False,unit_norm=False,\n",
    "                    regularizer_weight=10e-7):\n",
    "\n",
    "    # get rough intermediate sizes for hidden layers\n",
    "    x = pow(X.shape[1]/encoding_dim,1/ (no_hidden_layers+1) )\n",
    "    if no_hidden_layers!=1:\n",
    "        hidden_layer_size = [int(encoding_dim*pow(x,y)) for y in range(1,no_hidden_layers+1)]\n",
    "    else:\n",
    "        hidden_layer_size = [hidden_size]\n",
    "    \n",
    "     \n",
    "    \n",
    "    # Single fully-connected neural layer as encoder and decoder\n",
    "    use_regularizer = True\n",
    "#     my_regularizer = None\n",
    "#     my_epochs = 50\n",
    "    features_path = 'simple_autoe_features.pickle'\n",
    "    labels_path = 'simple_autoe_labels.pickle'\n",
    "\n",
    "    early_stopping_monitor = EarlyStopping(patience=3)\n",
    "\n",
    "    if use_regularizer:\n",
    "        # add a sparsity constraint on the encoded representations\n",
    "        # note use of 10e-5 leads to blurred results\n",
    "    #     my_regularizer = regularizers.l1(10e-8)\n",
    "        # and a larger number of epochs as the added regularization the model\n",
    "        # is less likely to overfit and can be trained longer\n",
    "#         my_epochs = 100\n",
    "        features_path = 'sparse_autoe_features.pickle'\n",
    "        labels_path = 'sparse_autoe_labels.pickle'\n",
    "\n",
    "    # this is the size of our encoded representations\n",
    "    # encoding_dim = encoding_dim   # 32 floats -> compression factor 24.5, assuming the input is 784 floats\n",
    "    # hidden_size = hidden_size\n",
    "\n",
    "# encoder = Dense(encoding_dim, activation=\"linear\", input_shape=(input_dim,), use_bias=True,\n",
    "#                 kernel_regularizer=WeightsOrthogonalityConstraint(encoding_dim, weightage=1., axis=0)) \n",
    "# decoder = Dense(input_dim, activation=\"linear\", use_bias = True,\n",
    "#                 kernel_regularizer=WeightsOrthogonalityConstraint(encoding_dim, weightage=1., axis=1))    \n",
    "\n",
    "\n",
    "    \n",
    "\n",
    "    # this is our input placeholder; 784 = 28 x 28\n",
    "    # input_img = Input(shape=(784, ))\n",
    "\n",
    "    input_img = Input(shape=(X.shape[1], ))\n",
    "\n",
    "    encoder_list = []\n",
    "    \n",
    "    # \"encoded\" is the encoded representation of the inputs\n",
    "    hidden_encoder = input_img\n",
    "    for hidden_layer_number in range(no_hidden_layers-1,-1,-1):       \n",
    "        \n",
    "        d = Dense(hidden_layer_size[hidden_layer_number], activation = penultimate_act,\n",
    "                          kernel_regularizer=get_kernel_regularizer(orthogonality_constraint,\n",
    "                                                                    hidden_layer_size[hidden_layer_number],\n",
    "                                                                    axis=0, weight=regularizer_weight),\n",
    "                          kernel_constraint=get_kernel_constraint(unit_norm, axis=0)\n",
    "                 )\n",
    "        \n",
    "        hidden_encoder = d(hidden_encoder)\n",
    "        encoder_list.append(d)\n",
    "    \n",
    "    d = Dense(encoding_dim, activation=penultimate_act,\n",
    "                          kernel_regularizer=get_kernel_regularizer(orthogonality_constraint,\n",
    "                                                encoding_dim,\n",
    "                                                axis=0, weight=regularizer_weight),\n",
    "                          activity_regularizer= get_activity_regularizer(uncorrelated_features,encoding_dim, weightage = 1.),\n",
    "                          kernel_constraint=get_kernel_constraint(unit_norm, axis=0)\n",
    "             )\n",
    "    \n",
    "    encoded = d(hidden_encoder)\n",
    "    encoder_list.append(d)\n",
    "    # encoded = Dense(encoding_dim, activation='relu', activity_regularizer=my_regularizer)(input_img)\n",
    "\n",
    "\n",
    "    # \"decoded\" is the lossy reconstruction of the input\n",
    "    # decoded = Dense(X.shape[1], activation='sigmoid')(encoded)\n",
    "    \n",
    "    \n",
    "#     decoder = DenseTied(input_dim, activation=\"linear\", tied_to=encoder, use_bias = True)   \n",
    "    \n",
    "    hidden_decoder = encoded\n",
    "    for hidden_layer_number in range(0,no_hidden_layers):\n",
    "        if tied_layers:\n",
    "            hidden_decoder = DenseTied(hidden_layer_size[hidden_layer_number], activation = penultimate_act,\n",
    "                                      tied_to=encoder_list[no_hidden_layers-hidden_layer_number],\n",
    "                                      kernel_regularizer=get_kernel_regularizer(orthogonality_constraint,\n",
    "                                                                    ([encoding_dim]+hidden_layer_size)[hidden_layer_number],\n",
    "                                                                    axis=1, weight=regularizer_weight),  \n",
    "                                      kernel_constraint=get_kernel_constraint(unit_norm, axis=1),\n",
    "                                      )(hidden_decoder)\n",
    "            \n",
    "        else:\n",
    "            hidden_decoder = Dense(hidden_layer_size[hidden_layer_number], activation = penultimate_act,\n",
    "                                      kernel_regularizer=get_kernel_regularizer(orthogonality_constraint,\n",
    "                                                ([encoding_dim]+hidden_layer_size)[hidden_layer_number],\n",
    "                                                 axis=1, weight=regularizer_weight),   \n",
    "                                      kernel_constraint=get_kernel_constraint(unit_norm, axis=1)\n",
    "                                      )(hidden_decoder)\n",
    "            \n",
    "    if tied_layers:\n",
    "        decoded = DenseTied(X.shape[1], activation=ultimate_act,\n",
    "                          tied_to=encoder_list[0],\n",
    "                          kernel_regularizer=get_kernel_regularizer(orthogonality_constraint,\n",
    "                                    ([encoding_dim]+hidden_layer_size)[no_hidden_layers],\n",
    "                                     axis=1, weight=regularizer_weight),   \n",
    "                                     kernel_constraint=get_kernel_constraint(unit_norm, axis=1)\n",
    "                           )(hidden_decoder)\n",
    "\n",
    "    else:            \n",
    "        decoded = Dense(X.shape[1], activation=ultimate_act,\n",
    "                          kernel_regularizer=get_kernel_regularizer(orthogonality_constraint,\n",
    "                                    ([encoding_dim]+hidden_layer_size)[no_hidden_layers],\n",
    "                                     axis=1, weight=regularizer_weight),  \n",
    "                          kernel_constraint=get_kernel_constraint(unit_norm, axis=1)\n",
    "                       )(hidden_decoder)\n",
    "    # decoded = Dense(X.shape[1], activation='linear')(encoded)\n",
    "    # decoded = Dense(X.shape[1], activation='softmax')(encoded)\n",
    "\n",
    "    # this model maps an input to its reconstruction\n",
    "    autoencoder = Model(input_img, decoded)\n",
    "\n",
    "    # Separate Encoder model\n",
    "\n",
    "    # this model maps an input to its encoded representation\n",
    "    encoder = Model(input_img, encoded)\n",
    "\n",
    "    # Separate Decoder model\n",
    "\n",
    "    # create a placeholder for an encoded (32-dimensional) input\n",
    "#     encoded_input = Input(shape=(encoding_dim,))\n",
    "    # hidden_layer_input = Input(shape=(hidden_size,))\n",
    "    # retrieve the last layer of the autoencoder model\n",
    "    ## changed to -2 after adding hidden layer!\n",
    "    # decoder_layer = autoencoder.layers[-1]\n",
    "    # create the decoder model\n",
    "    # decoder = Model(encoded_input, decoder_layer(hidden_layer_input))\n",
    "    encoded_input_layer = InputLayer(input_shape=(encoding_dim,))\n",
    "    # decoder = Model(encoded_input, decoder_layer(encoded_input))\n",
    "\n",
    "    decoder = extract_layers(autoencoder, -1-no_hidden_layers, -1, encoded_input_layer)\n",
    "\n",
    "    # Train to reconstruct MNIST digits\n",
    "\n",
    "    # configure model to use a per-pixel binary crossentropy loss, and the Adadelta optimizer\n",
    "    # autoencoder.compile(optimizer='adadelta', loss='binary_crossentropy')\n",
    "\n",
    "    # autoencoder.compile(optimizer='adadelta', loss='binary_crossentropy')\n",
    "\n",
    "    autoencoder.compile( optimizer = optimizer,\n",
    "    #                loss = 'categorical_crossentropy',\n",
    "    #                loss = 'categorical_crossentropy',\n",
    "                   loss = loss,     \n",
    "                   metrics=metrics)\n",
    "\n",
    "\n",
    "    # # prepare input data\n",
    "    # (x_train, _), (x_test, y_test) = mnist.load_data()\n",
    "\n",
    "    # # normalize all values between 0 and 1 and flatten the 28x28 images into vectors of size 784\n",
    "    # x_train = x_train.astype('float32') / 255.\n",
    "    # x_test = x_test.astype('float32') / 255.\n",
    "    # x_train = x_train.reshape((len(x_train), np.prod(x_train.shape[1:])))\n",
    "    # x_test = x_test.reshape((len(x_test), np.prod(x_test.shape[1:])))\n",
    "    # print(x_train.shape)\n",
    "    # print(x_test.shape)\n",
    "\n",
    "    X_train, X_test, y_train, y_test = train_test_split(\n",
    "        X, y, test_size=0.33, random_state=42)\n",
    "\n",
    "    # Train autoencoder for 50 epochs\n",
    "\n",
    "    if isinstance(X_test, pd.DataFrame):\n",
    "        X_test_values = X_test.values\n",
    "        X_train_values = X_train.values\n",
    "    else:\n",
    "        X_test_values = X_test\n",
    "        X_train_values = X_train\n",
    "    \n",
    "    autoencoder.fit(X_train_values, X_train_values, epochs=max_epochs, batch_size=512,\n",
    "                    shuffle=True, validation_data=(X_test_values, X_test_values),\n",
    "                    verbose=verbose, callbacks=[early_stopping_monitor])\n",
    "\n",
    "    # after 50/100 epochs the autoencoder seems to reach a stable train/test lost value\n",
    "\n",
    "    # Visualize the reconstructed encoded representations\n",
    "\n",
    "    # encode and decode some digits\n",
    "    # note that we take them from the *test* set\n",
    "    encoded_imgs = encoder.predict(X_test_values)\n",
    "    decoded_imgs = decoder.predict(encoded_imgs)\n",
    "\n",
    "    # save latent space features 32-d vector\n",
    "    pickle.dump(encoded_imgs, open(features_path, 'wb'))\n",
    "    pickle.dump(y_test, open(labels_path, 'wb'))\n",
    "\n",
    "    # n = 10  # how many digits we will display\n",
    "    # plt.figure(figsize=(10, 2), dpi=100)\n",
    "    # for i in range(n):\n",
    "    #     # display original\n",
    "    #     ax = plt.subplot(2, n, i + 1)\n",
    "    #     plt.imshow(x_test[i].reshape(28, 28))\n",
    "    #     plt.gray()\n",
    "    #     ax.set_axis_off()\n",
    "\n",
    "    #     # display reconstruction\n",
    "    #     ax = plt.subplot(2, n, i + n + 1)\n",
    "    #     plt.imshow(decoded_imgs[i].reshape(28, 28))\n",
    "    #     plt.gray()\n",
    "    #     ax.set_axis_off()kernel_constrain\n",
    "\n",
    "    # plt.show()\n",
    "    \n",
    "    return decoded_imgs,X_test,encoded_imgs,autoencoder,encoder,decoder"
   ]
  },
  {
   "cell_type": "code",
   "execution_count": 94,
   "id": "13171656",
   "metadata": {},
   "outputs": [],
   "source": [
    "## turn all columns into something like cateogory\n",
    "\n",
    "\n",
    "## dummy all columns, special option for nans\n",
    "# dummy_na\n",
    "\n",
    "\n",
    "## could do sparse output"
   ]
  },
  {
   "cell_type": "code",
   "execution_count": 95,
   "id": "ed153ba7",
   "metadata": {},
   "outputs": [
    {
     "data": {
      "text/plain": [
       "((31468, 162), (31468, 463))"
      ]
     },
     "execution_count": 95,
     "metadata": {},
     "output_type": "execute_result"
    }
   ],
   "source": [
    "prep.shape,BES_Panel.shape"
   ]
  },
  {
   "cell_type": "code",
   "execution_count": 96,
   "id": "9f6017e1",
   "metadata": {},
   "outputs": [],
   "source": [
    "prep2 = BES_Panel.copy()\n",
    "prep2[\"jobzone\"] = prep2[\"jobzone\"].astype('category')\n",
    "prep2[\"country\"] = prep2[\"country\"].replace({1.0:\"England\",2.0:\"Scotland\",3.0:\"Wales\"}).astype('category')"
   ]
  },
  {
   "cell_type": "code",
   "execution_count": 97,
   "id": "9c969c96",
   "metadata": {},
   "outputs": [],
   "source": [
    "prep2 = pd.get_dummies(prep2.select_dtypes('category'), dummy_na=True)\n",
    "prep2_var = prep2.var()\n",
    "prep2 = prep2[prep2_var[prep2_var>.005].index]"
   ]
  },
  {
   "cell_type": "code",
   "execution_count": 98,
   "id": "fb8f578a",
   "metadata": {},
   "outputs": [],
   "source": [
    "prep3 = BES_Panel.copy()\n",
    "prep3 = prep3[search(BES_Panel,\"p_\").index]\n",
    "prep3 = pd.get_dummies(prep3.select_dtypes('category'), dummy_na=True)"
   ]
  },
  {
   "cell_type": "code",
   "execution_count": 99,
   "id": "fa7f7d72",
   "metadata": {},
   "outputs": [],
   "source": [
    "# prep2_var.shape[prep2_var<.01]\n",
    "\n",
    "# 2202/2540 /5105\n"
   ]
  },
  {
   "cell_type": "code",
   "execution_count": 100,
   "id": "b8e5fa4e",
   "metadata": {},
   "outputs": [],
   "source": [
    "# BES_Panel.apply(lambda x: x.dtype.name).value_counts()"
   ]
  },
  {
   "cell_type": "code",
   "execution_count": 101,
   "id": "aef16a9e",
   "metadata": {},
   "outputs": [],
   "source": [
    "# BES_Panel.select_dtypes('number')"
   ]
  },
  {
   "cell_type": "code",
   "execution_count": 102,
   "id": "88c08a21",
   "metadata": {},
   "outputs": [],
   "source": [
    "prep = BES_Panel.select_dtypes('category')\n",
    "prep = prep.copy()#[temp.columns[0:100]].copy()\n",
    "prep.dropna(axis=1,inplace=True)\n",
    "\n",
    "y = BES_Panel['p_eurefvote']"
   ]
  },
  {
   "cell_type": "code",
   "execution_count": 103,
   "id": "narrative-editor",
   "metadata": {},
   "outputs": [],
   "source": [
    "# prepare target\n",
    "# def prepare_targets(y_train, y_test):\n",
    "#     le = LabelEncoder()\n",
    "#     le.fit(y_train)\n",
    "#     y_train_enc = le.transform(y_train)\n",
    "#     y_test_enc = le.transform(y_test)\n",
    "#     return y_train_enc, y_test_enc\n",
    "enc = OneHotEncoder(sparse=False)\n",
    "\n",
    "X = enc.fit_transform(prep)\n",
    "# X = pd.DataFrame(X,columns = prep.columns,index = prep.index)"
   ]
  },
  {
   "cell_type": "code",
   "execution_count": 104,
   "id": "special-illustration",
   "metadata": {},
   "outputs": [
    {
     "data": {
      "text/plain": [
       "(31468, 1214)"
      ]
     },
     "execution_count": 104,
     "metadata": {},
     "output_type": "execute_result"
    }
   ],
   "source": [
    "# low_var_columns = X.columns[X.var()<.05]\n",
    "not_low_var_columns = pd.DataFrame(X).columns[pd.DataFrame(X).var()>.005]\n",
    "X = X[:,not_low_var_columns]\n",
    "# X.drop(low_var_columns,axis=1,inplace=True)\n",
    "X.shape"
   ]
  },
  {
   "cell_type": "code",
   "execution_count": 105,
   "id": "rubber-johnson",
   "metadata": {},
   "outputs": [],
   "source": [
    "X = prep3"
   ]
  },
  {
   "cell_type": "code",
   "execution_count": 106,
   "id": "4c6638f3",
   "metadata": {},
   "outputs": [],
   "source": [
    "# hidden_layer_size"
   ]
  },
  {
   "cell_type": "code",
   "execution_count": 107,
   "id": "ea9ba9f3",
   "metadata": {},
   "outputs": [],
   "source": [
    "# X.max()"
   ]
  },
  {
   "cell_type": "code",
   "execution_count": 108,
   "id": "e1a45345",
   "metadata": {},
   "outputs": [],
   "source": [
    "# low_var_columns\n",
    "# X\n",
    "# if tied_layers:\n",
    "#     print(1)"
   ]
  },
  {
   "cell_type": "code",
   "execution_count": 109,
   "id": "12902ffa",
   "metadata": {},
   "outputs": [],
   "source": [
    "# not_low_var_columns\n",
    "import warnings\n",
    "warnings.filterwarnings('ignore')"
   ]
  },
  {
   "cell_type": "code",
   "execution_count": 110,
   "id": "ca1e3db1",
   "metadata": {},
   "outputs": [],
   "source": [
    "losses = pd.DataFrame(columns = ['encoding_dim','hidden_size','num_epochs',\n",
    "                                 'val_loss', 'val_acc', 'val_mean_squared_error', 'val_binary_accuracy',\n",
    "                                 'val_binary_crossentropy', 'val_kullback_leibler_divergence', 'loss', 'acc',\n",
    "                                 'mean_squared_error', 'binary_accuracy', 'binary_crossentropy', 'kullback_leibler_divergence',\n",
    "                                 'mean_correlation'])\n",
    "count = 0"
   ]
  },
  {
   "cell_type": "code",
   "execution_count": 111,
   "id": "dcd6c105",
   "metadata": {},
   "outputs": [],
   "source": [
    "losses = pd.read_csv(\"losses.csv\")\n",
    "losses.drop(\"Unnamed: 0\",axis=1,inplace=True)\n",
    "count = losses.index[-1]+1"
   ]
  },
  {
   "cell_type": "code",
   "execution_count": null,
   "id": "34782cfd",
   "metadata": {},
   "outputs": [],
   "source": []
  },
  {
   "cell_type": "code",
   "execution_count": 112,
   "id": "f94bf94c",
   "metadata": {},
   "outputs": [],
   "source": [
    "## add noise, store old X in X_old\n",
    "\n",
    "X_old = X.copy()\n",
    "\n",
    "temp = pd.DataFrame(X).astype(bool)\n",
    "\n",
    "rng = np.random.default_rng()\n",
    "e = pd.DataFrame(rng.integers(0, 2, size=temp.shape) ).astype(bool)\n",
    "e = np.random.uniform(0.0, 1.0, size=temp.shape )>.999\n",
    "\n",
    "temp2 = np.where(e,(~temp).astype('int'),temp.astype('int'))\n",
    "temp2 = pd.DataFrame(temp2,columns=temp.columns)\n",
    "temp.apply(lambda x: pd.DataFrame(temp2)[x.name].corr( temp[x.name] ) )\n",
    "\n",
    "X = temp2"
   ]
  },
  {
   "cell_type": "code",
   "execution_count": null,
   "id": "1666c651",
   "metadata": {},
   "outputs": [],
   "source": []
  },
  {
   "cell_type": "code",
   "execution_count": null,
   "id": "492b6c66",
   "metadata": {},
   "outputs": [],
   "source": []
  },
  {
   "cell_type": "code",
   "execution_count": 113,
   "id": "1aaee145",
   "metadata": {},
   "outputs": [],
   "source": [
    "# e.sum()/(e.shape[0]*e.shape[1])\n"
   ]
  },
  {
   "cell_type": "code",
   "execution_count": null,
   "id": "7a6839a0",
   "metadata": {},
   "outputs": [],
   "source": []
  },
  {
   "cell_type": "code",
   "execution_count": 114,
   "id": "c91cf1c8",
   "metadata": {},
   "outputs": [],
   "source": [
    "# Epoch 161/200\n",
    "# 42/42 - 0s - loss: 0.1313 - accuracy: 0.0096 - mse: 0.0353 - binary_accuracy: 0.9552 - binary_crossentropy: 0.1290 - kullback_leibler_divergence: 29.7100 - matthews_correlation: 0.7575 - val_loss: 0.1318 - val_accuracy: 0.0114 - val_mse: 0.0355 - val_binary_accuracy: 0.9550 - val_binary_crossentropy: 0.1295 - val_kullback_leibler_divergence: 30.0128 - val_matthews_correlation: 0.7556"
   ]
  },
  {
   "cell_type": "code",
   "execution_count": 115,
   "id": "469a92f8",
   "metadata": {},
   "outputs": [],
   "source": [
    "losses2 = pd.DataFrame(columns = ['encoding_dim','hidden_size','num_epochs',\n",
    "                                 'val_loss', 'val_acc', 'val_mean_squared_error', 'val_binary_accuracy',\n",
    "                                 'val_binary_crossentropy', 'val_kullback_leibler_divergence','val_matthews_correlation' ,'loss', 'acc',\n",
    "                                 'mean_squared_error', 'binary_accuracy', 'binary_crossentropy', 'kullback_leibler_divergence',\n",
    "                                 'mean_correlation'])\n",
    "count = 0"
   ]
  },
  {
   "cell_type": "code",
   "execution_count": 116,
   "id": "1aab142a",
   "metadata": {},
   "outputs": [],
   "source": [
    "\n",
    "\n",
    "# encoding_dim=params['encoding_dim'],\n",
    "# hidden_size=params['hidden_size'],\n",
    "# no_hidden_layers=params['no_hidden_layers'],\n",
    "# tied_layers=params['tied_layers'],\n",
    "# # orthogonality_constraint=params['orthogonality_constraint'],\n",
    "# uncorrelated_features=params['uncorrelated_features'],\n",
    "# unit_norm=params['unit_norm'],\n",
    "# regularizer_weight=params['regularizer_weight'],\n",
    "# # optimizer=params['optimizer'],\n",
    "\n",
    "from skopt.space import Integer\n",
    "from skopt.space import Real\n",
    "from skopt.space import Categorical\n",
    "from skopt.utils import use_named_args\n",
    "from skopt import gp_minimize\n",
    "\n",
    "# define the space of hyperparameters to search\n",
    "search_space = list()\n",
    "# search_space.append(Real(1e-6, 1.0, 'log-uniform', name='lr'))\n",
    "# search_space.append(Categorical(['linear', 'poly', 'rbf', 'sigmoid'], name='optimizer'))\n",
    "# search_space.append(Real(10e-8, 10e-4, 'log-uniform', name='regularizer_weight'))\n",
    "search_space.append(Integer(0, 1, name='unit_norm'))\n",
    "search_space.append(Integer(0, 1, name='uncorrelated_features'))\n",
    "search_space.append(Integer(0, 1, name='tied_layers'))\n",
    "# search_space.append(Integer(0, 5, name='no_hidden_layers'))\n",
    "# search_space.append(Integer(50, 200, name='hidden_size'))\n",
    "# search_space.append(Integer(2, 100, name='encoding_dim'))\n",
    "\n",
    "\n",
    "# search_space.append(Integer(0, 1, name='degree'))\n",
    "# search_space.append(Real(10e-8, 10e-4, 'log-uniform', name='gamma'))"
   ]
  },
  {
   "cell_type": "code",
   "execution_count": null,
   "id": "cb6afce5",
   "metadata": {},
   "outputs": [],
   "source": []
  },
  {
   "cell_type": "code",
   "execution_count": 117,
   "id": "7628d3c0",
   "metadata": {},
   "outputs": [],
   "source": [
    "@use_named_args(search_space)\n",
    "def evaluate_model(**params):\n",
    "    ultimate_act='sigmoid'\n",
    "    loss = 'binary_crossentropy'\n",
    "        \n",
    "    metrics = ['accuracy',\n",
    "                'mse',\n",
    "                'binary_accuracy',\n",
    "                'binary_crossentropy',\n",
    "                'kullback_leibler_divergence',\n",
    "                matthews_correlation,\n",
    "                ]\n",
    "    verbose = 0\n",
    "    max_epochs = 200\n",
    "    \n",
    "    shuffle=True\n",
    "    batch_size=512\n",
    "#     lr = .003\n",
    "#     lr = params['lr']\n",
    "    \n",
    "#     batch_size=params['batch_size']\n",
    "#     shuffle = params['shuffle']\n",
    "#     orthogonality_constraint = False\n",
    "\n",
    "#     encoding_dim=params['encoding_dim']\n",
    "#     hidden_size=params['hidden_size']\n",
    "#     no_hidden_layers=params['no_hidden_layers']\n",
    "    tied_layers=params['tied_layers']\n",
    "    orthogonality_constraint=False\n",
    "    uncorrelated_features=params['uncorrelated_features']\n",
    "    unit_norm=params['unit_norm']\n",
    "#     regularizer_weight=params['regularizer_weight']\n",
    "    print(tied_layers,uncorrelated_features,unit_norm)\n",
    "    lr = .003\n",
    "    encoding_dim = 13\n",
    "    hidden_size = 100\n",
    "    no_hidden_layers = 2\n",
    "    regularizer_weight = 10e-6\n",
    "    \n",
    "    optimizer = tf.keras.optimizers.Adamax(lr=lr)\n",
    "    \n",
    "    decoded_imgs,X_test,encoded_imgs,autoencoder,encoder,decoder = run_autoencoder(encoding_dim=encoding_dim,\n",
    "                                                                                   hidden_size=hidden_size,\n",
    "                                                                                   verbose=verbose,\n",
    "                                                                                   loss=loss,\n",
    "                                                                                   ultimate_act=ultimate_act,\n",
    "                                                                                   metrics=metrics,\n",
    "                                                                                   max_epochs=max_epochs,\n",
    "                                                                                   no_hidden_layers=no_hidden_layers,\n",
    "                                                                                   tied_layers=tied_layers,\n",
    "                                                                                   orthogonality_constraint=orthogonality_constraint,\n",
    "                                                                                   uncorrelated_features=uncorrelated_features,\n",
    "                                                                                   unit_norm=unit_norm,\n",
    "                                                                                   regularizer_weight=regularizer_weight,\n",
    "                                                                                   optimizer=optimizer,\n",
    "                                                                                  )\n",
    "    X_test = pd.DataFrame(X_test)\n",
    "    X_test_reconst = pd.DataFrame(decoded_imgs)\n",
    "    X_test_reconst.columns = X_test.columns\n",
    "    X_test_reconst.index = X_test.index\n",
    "    mean_correlation  = X_test_reconst.apply(lambda x: X_test_reconst[x.name].corr( X_test[x.name] ) ).mean()        \n",
    "\n",
    "#         X_test_reconst = pd.DataFrame(decoded_imgs,columns=X_test.columns,index=X_test.index)\n",
    "#         X_test_reconst[\"p_past_vote_2019_Conservative\"].hist(bins=100)\n",
    "#         print(\"p_past_vote_2019_Conservative correlation =\")\n",
    "#         print(X_test_reconst[\"p_past_vote_2019_Conservative\"].corr(X_test[\"p_past_vote_2019_Conservative\"]))\n",
    "    print(\"mean correlation =\")\n",
    "    print(mean_correlation)\n",
    "    elapsed_time = time.time() - start_time\n",
    "    print(\"elapsed_time = \",elapsed_time)\n",
    "    return autoencoder.history.history['loss'][-1]"
   ]
  },
  {
   "cell_type": "code",
   "execution_count": null,
   "id": "2700ca01",
   "metadata": {},
   "outputs": [
    {
     "name": "stdout",
     "output_type": "stream",
     "text": [
      "1 0 1\n",
      "mean correlation =\n",
      "0.13022591197509034\n",
      "elapsed_time =  689.7495942115784\n",
      "1 1 1\n",
      "mean correlation =\n",
      "0.13535496994640941\n",
      "elapsed_time =  781.4488613605499\n",
      "0 0 0\n",
      "mean correlation =\n",
      "0.48989974499061323\n",
      "elapsed_time =  839.6409268379211\n",
      "1 0 0\n",
      "mean correlation =\n",
      "0.1488809463205085\n",
      "elapsed_time =  893.8228867053986\n",
      "0 1 1\n",
      "mean correlation =\n",
      "0.39725649045845063\n",
      "elapsed_time =  956.2579460144043\n",
      "0 0 0\n"
     ]
    }
   ],
   "source": [
    "result = gp_minimize(evaluate_model, search_space, n_jobs=-1)\n",
    "# summarizing finding:\n",
    "print('Best Accuracy: %.3f' % (result.fun))\n",
    "print('Best Parameters: %s' % (result.x))"
   ]
  },
  {
   "cell_type": "code",
   "execution_count": null,
   "id": "cbbfbcad",
   "metadata": {},
   "outputs": [],
   "source": [
    "from sklearn.model_selection import GridSearchCV"
   ]
  },
  {
   "cell_type": "code",
   "execution_count": null,
   "id": "8af62e00",
   "metadata": {},
   "outputs": [],
   "source": []
  },
  {
   "cell_type": "code",
   "execution_count": null,
   "id": "ace92196",
   "metadata": {},
   "outputs": [],
   "source": []
  },
  {
   "cell_type": "code",
   "execution_count": null,
   "id": "b72dcd8d",
   "metadata": {},
   "outputs": [],
   "source": [
    "# Best Accuracy: 0.997\n",
    "# Best Parameters: [0.1812827106334912, 1e-07, 0, 1, 0, 0, 50, 100]\n",
    "lr=.18, regularizer_weight=1e-07, unit_norm=0,uncorrelated_features=1,tied_layers=0,no_hidden_layers=0,hidden_size=50,encoding_dim=100\n",
    "\n",
    "\n",
    "search_space.append(Real(1e-6, 1.0, 'log-uniform', name='lr'))\n",
    "# search_space.append(Categorical(['linear', 'poly', 'rbf', 'sigmoid'], name='optimizer'))\n",
    "search_space.append(Real(10e-8, 10e-4, 'log-uniform', name='regularizer_weight'))\n",
    "search_space.append(Integer(0, 1, name='unit_norm'))\n",
    "search_space.append(Integer(0, 1, name='uncorrelated_features'))\n",
    "search_space.append(Integer(0, 1, name='tied_layers'))\n",
    "search_space.append(Integer(0, 5, name='no_hidden_layers'))\n",
    "search_space.append(Integer(50, 200, name='hidden_size'))\n",
    "search_space.append(Integer(2, 100, name='encoding_dim'))\n",
    "\n",
    "\n",
    "\n",
    "\n",
    "\n",
    "\n",
    "\n"
   ]
  },
  {
   "cell_type": "code",
   "execution_count": null,
   "id": "overhead-poker",
   "metadata": {},
   "outputs": [],
   "source": [
    "description=\"regularizer_weight=10e-7 argument fixed\"\n",
    "\n",
    "hidden_size=100\n",
    "\n",
    "# originally True\n",
    "tied_layers=False\n",
    "uncorrelated_features=True  ### this one broke with new code! ### FIXED\n",
    "\n",
    "orthogonality_constraint=False ### broken\n",
    "unit_norm=False\n",
    "\n",
    "regularizer_weight=10e-6\n",
    "# test this again\n",
    "# try l1 regularizer?\n",
    "no_hidden_layers=2\n",
    "shuffle=True\n",
    "batch_size=512\n",
    "lr = .003\n",
    "\n",
    "# bit_flip = .999\n",
    "loss = 'binary_crossentropy'\n",
    "# loss = dice_loss\n",
    "# loss = balanced_cross_entropy\n",
    "metrics = ['accuracy',\n",
    "            'mse',\n",
    "            'binary_accuracy',\n",
    "            'binary_crossentropy',\n",
    "            'kullback_leibler_divergence',\n",
    "            matthews_correlation,\n",
    "            ]\n",
    "\n",
    "\n",
    "for encoding_dim in [13]:\n",
    "    \n",
    "    for regularizer_weight in [10e-6]: #,10e-7,10e-8\n",
    "        optimizer = tf.keras.optimizers.Adamax(lr=lr)    \n",
    "        # , beta_1=0.9, beta_2=0.999, epsilon=1e-07\n",
    "        for no_hidden_layers in [1]:\n",
    "        #[ [1,0,1,0],[1,1,1,0],[1,0,1,1],[1,1,1,1], ]:\n",
    "        \n",
    "#             (tied_layers,orthogonality_constraint,uncorrelated_features,unit_norm) = (bool(x) for x in combo)   \n",
    "#         for regularizer_weight in [10e-8]:\n",
    "\n",
    "#             description = str(\"learning_rate=\"+str(lr))\n",
    "            description = \"full dataset with hidden layers=\"+str(no_hidden_layers)\n",
    "            start_time = time.time()\n",
    "            print(\"encoding_dim = \"+str(encoding_dim),\"hidden_size = \"+str(hidden_size),\"no_hidden_layers = \",str(no_hidden_layers))\n",
    "            \n",
    "            decoded_imgs,X_test,encoded_imgs,autoencoder,encoder,decoder = run_autoencoder(encoding_dim=encoding_dim,\n",
    "                                                                                           hidden_size=hidden_size,\n",
    "                                                                                           verbose=2,\n",
    "                                                                                           loss=loss,\n",
    "                                                                                           ultimate_act='sigmoid',\n",
    "                                                                                           metrics=metrics,\n",
    "                                                                                          max_epochs=200,\n",
    "                                                                                          no_hidden_layers=no_hidden_layers,\n",
    "                                                                                          tied_layers=tied_layers,\n",
    "                                                                                          orthogonality_constraint=orthogonality_constraint,\n",
    "                                                                                          uncorrelated_features=uncorrelated_features,\n",
    "                                                                                          unit_norm=unit_norm,\n",
    "                                                                                          regularizer_weight=regularizer_weight,\n",
    "                                                                                          optimizer=optimizer,\n",
    "                                                                                          )\n",
    "\n",
    "            X_test = pd.DataFrame(X_test)\n",
    "\n",
    "            X_test_reconst = pd.DataFrame(decoded_imgs)\n",
    "            X_test_reconst.columns = X_test.columns\n",
    "            X_test_reconst.index = X_test.index\n",
    "            mean_correlation  = X_test_reconst.apply(lambda x: X_test_reconst[x.name].corr( X_test[x.name] ) ).mean()        \n",
    "\n",
    "    #         X_test_reconst = pd.DataFrame(decoded_imgs,columns=X_test.columns,index=X_test.index)\n",
    "    #         X_test_reconst[\"p_past_vote_2019_Conservative\"].hist(bins=100)\n",
    "    #         print(\"p_past_vote_2019_Conservative correlation =\")\n",
    "    #         print(X_test_reconst[\"p_past_vote_2019_Conservative\"].corr(X_test[\"p_past_vote_2019_Conservative\"]))\n",
    "            print(\"mean correlation =\")\n",
    "            print(mean_correlation)\n",
    "            elapsed_time = time.time() - start_time\n",
    "            print(\"elapsed_time = \",elapsed_time)\n",
    "            losses2.loc[count] = [encoding_dim,hidden_size]+[autoencoder.history.epoch[-1]]+[x[-1] for x in autoencoder.history.history.values()]+[mean_correlation]+[no_hidden_layers]+[elapsed_time]+[description]\n",
    "            count=count+1        "
   ]
  },
  {
   "cell_type": "code",
   "execution_count": null,
   "id": "3c9e4fdf",
   "metadata": {},
   "outputs": [],
   "source": [
    "# uncorrelated_features=True\n",
    "# tied_layers=True\n",
    "# Epoch 200/200\n",
    "# 42/42 - 0s - loss: 0.1916 - accuracy: 0.0288 - mse: 0.0537 - binary_accuracy: 0.9303 - binary_crossentropy: 0.1891\n",
    "# - kullback_leibler_divergence: 43.6131 - val_loss: 0.1912 - val_accuracy: 0.0270 - val_mse: 0.0536 - val_binary_accuracy: 0.9303 - val_binary_crossentropy: 0.1886 - val_kullback_leibler_divergence: 43.5077\n",
    "# mean correlation =\n",
    "# 0.1577958942671649\n",
    "# elapsed_time =  68.37737846374512\n",
    "\n",
    "#--------------------------\n",
    "# uncorrelated_features=False\n",
    "# tied_layers=True\n",
    "# Epoch 200/200\n",
    "# 42/42 - 0s - loss: 0.1886 - accuracy: 0.0219 - mse: 0.0526 - binary_accuracy: 0.9321 - binary_crossentropy: 0.1859\n",
    "# - kullback_leibler_divergence: 42.8226 - val_loss: 0.1885 - val_accuracy: 0.0226 - val_mse: 0.0526 - val_binary_accuracy: 0.9321 - val_binary_crossentropy: 0.1859 - val_kullback_leibler_divergence: 42.7679\n",
    "# mean correlation =\n",
    "# 0.1638335884038786\n",
    "# elapsed_time =  40.08471417427063\n",
    "\n",
    "#--------------------------\n",
    "# uncorrelated_features=False\n",
    "# tied_layers=False\n",
    "# Epoch 176/200\n",
    "# 42/42 - 0s - loss: 0.0869 - accuracy: 4.7432e-05 - mse: 0.0216 - binary_accuracy: 0.9724 - binary_crossentropy: 0.0802\n",
    "# - kullback_leibler_divergence: 18.5942 - val_loss: 0.0898 - val_accuracy: 0.0000e+00 - val_mse: 0.0223 - val_binary_accuracy: 0.9716 - val_binary_crossentropy: 0.0831 - val_kullback_leibler_divergence: 19.4395\n",
    "# mean correlation =\n",
    "# 0.5015264096984443\n",
    "# elapsed_time =  37.302175521850586\n",
    "\n",
    "#--------------------------\n",
    "# uncorrelated_features=False\n",
    "# tied_layers=True\n",
    "# Epoch 200/200\n",
    "# 42/42 - 0s - loss: 0.0837 - accuracy: 1.4229e-04 - mse: 0.0204 - binary_accuracy: 0.9739 - binary_crossentropy: 0.0762\n",
    "# - kullback_leibler_divergence: 17.6888 - val_loss: 0.0867 - val_accuracy: 0.0000e+00 - val_mse: 0.0211 - val_binary_accuracy: 0.9731 - val_binary_crossentropy: 0.0791 - val_kullback_leibler_divergence: 18.5374\n",
    "# mean correlation =\n",
    "# 0.5148712388086317\n",
    "# elapsed_time =  69.26004600524902\n",
    "\n",
    "# tied_layers=False\n",
    "# uncorrelated_features=True  ### this one broke with new code! ### FIXED\n",
    "# orthogonality_constraint=False ### broken\n",
    "# unit_norm=True\n",
    "# Epoch 101/200\n",
    "# 42/42 - 0s - loss: 0.1344 - accuracy: 0.0045 - mse: 0.0365 - binary_accuracy: 0.9537 - binary_crossentropy: 0.1321\n",
    "# - kullback_leibler_divergence: 30.3406 - val_loss: 0.1349 - val_accuracy: 0.0045 - val_mse: 0.0366 - val_binary_accuracy: 0.9534 - val_binary_crossentropy: 0.1327 - val_kullback_leibler_divergence: 30.5789\n",
    "# mean correlation =\n",
    "# 0.3345761010588159\n",
    "# elapsed_time =  36.271825075149536\n",
    "\n",
    "\n",
    "# loss = balanced_cross_entropy\n",
    "\n",
    "# Epoch 66/200\n",
    "# 42/42 - 0s - loss: 0.1138 - accuracy: 0.0000e+00 - mse: 0.0751 - binary_accuracy: 0.9165 - binary_crossentropy: 0.5237 - kullback_leibler_divergence: 43.9499 - matthews_correlation: 0.6510 - val_loss: 0.1138 - val_accuracy: 0.0000e+00 - val_mse: 0.0751 - val_binary_accuracy: 0.9165 - val_binary_crossentropy: 0.5220 - val_kullback_leibler_divergence: 43.7886 - val_matthews_correlation: 0.6511\n",
    "# mean correlation =\n",
    "# 0.19238115534753158\n",
    "# elapsed_time =  28.80658984184265\n",
    "\n",
    "\n",
    "# loss = binary_cross_entropy\n",
    "# Epoch 91/200\n",
    "# 42/42 - 0s - loss: 0.1343 - accuracy: 0.0072 - mse: 0.0365 - binary_accuracy: 0.9536 - binary_crossentropy: 0.1320 - kullback_leibler_divergence: 30.3347 - matthews_correlation: 0.7480 - val_loss: 0.1347 - val_accuracy: 0.0056 - val_mse: 0.0366 - val_binary_accuracy: 0.9534 - val_binary_crossentropy: 0.1324 - val_kullback_leibler_divergence: 30.3818 - val_matthews_correlation: 0.7464\n",
    "# mean correlation =\n",
    "# 0.3367017424315757\n",
    "# elapsed_time =  36.835442543029785\n"
   ]
  },
  {
   "cell_type": "code",
   "execution_count": null,
   "id": "28423e15",
   "metadata": {},
   "outputs": [],
   "source": [
    "X.stack().mean()\n",
    "\n",
    "# all binary, .1 - unbalanced!"
   ]
  },
  {
   "cell_type": "code",
   "execution_count": null,
   "id": "622e79d2",
   "metadata": {},
   "outputs": [],
   "source": [
    "\n",
    "# report scikit-optimize version number\n",
    "import skopt\n",
    "print('skopt %s' % skopt.__version__)\n"
   ]
  },
  {
   "cell_type": "code",
   "execution_count": null,
   "id": "a54d16a6",
   "metadata": {},
   "outputs": [],
   "source": [
    "# count=count+1"
   ]
  },
  {
   "cell_type": "code",
   "execution_count": null,
   "id": "61f9aa1e",
   "metadata": {},
   "outputs": [],
   "source": [
    "# X_test_reconst.columns = X_test.columns\n",
    "# X_test_reconst.index = X_test.index\n",
    "# mean_correlation  = X_test_reconst.apply(lambda x: X_test_reconst[x.name].corr( X_test[x.name] ) ).mean()\n",
    "# # count=count-1 \n",
    "# losses.loc[count] = [encoding_dim,hidden_size]+[autoencoder.history.epoch[-1]]+[x[-1] for x in autoencoder.history.history.values()]+[mean_correlation]+[no_hidden_layers]+[elapsed_time]+[description]\n"
   ]
  },
  {
   "cell_type": "code",
   "execution_count": null,
   "id": "4c1e5bb4",
   "metadata": {},
   "outputs": [],
   "source": [
    "corr_dist = X_test_reconst.apply(lambda x: X_test_reconst[x.name].corr( X_test[x.name] ) )"
   ]
  },
  {
   "cell_type": "code",
   "execution_count": null,
   "id": "85135e6e",
   "metadata": {},
   "outputs": [],
   "source": [
    "corr_dist.hist(bins=100)"
   ]
  },
  {
   "cell_type": "code",
   "execution_count": null,
   "id": "9bfb032f",
   "metadata": {},
   "outputs": [],
   "source": [
    "corr_dist[corr_dist<.05].head(50)"
   ]
  },
  {
   "cell_type": "code",
   "execution_count": null,
   "id": "65c16ffc",
   "metadata": {},
   "outputs": [],
   "source": [
    "corr_dist[corr_dist>.95].head(50)"
   ]
  },
  {
   "cell_type": "code",
   "execution_count": null,
   "id": "b603431f",
   "metadata": {},
   "outputs": [],
   "source": []
  },
  {
   "cell_type": "code",
   "execution_count": null,
   "id": "5fce92d9",
   "metadata": {},
   "outputs": [],
   "source": [
    "losses"
   ]
  },
  {
   "cell_type": "code",
   "execution_count": null,
   "id": "0c6b8075",
   "metadata": {},
   "outputs": [],
   "source": [
    "# Adamax Parameters\n",
    "\n",
    "#learning_rate=0.001, beta_1=0.9, beta_2=0.999, epsilon=1e-07,"
   ]
  },
  {
   "cell_type": "code",
   "execution_count": null,
   "id": "400cb8a9",
   "metadata": {},
   "outputs": [],
   "source": [
    "# a  = tf.keras.optimizers.Adamax()\n",
    "# tf.keras.optimizers\n",
    "encoder.summary()"
   ]
  },
  {
   "cell_type": "code",
   "execution_count": null,
   "id": "09c9884e",
   "metadata": {},
   "outputs": [],
   "source": []
  },
  {
   "cell_type": "code",
   "execution_count": null,
   "id": "796e6cf8",
   "metadata": {},
   "outputs": [],
   "source": []
  },
  {
   "cell_type": "code",
   "execution_count": null,
   "id": "2d3bda6e",
   "metadata": {},
   "outputs": [],
   "source": []
  },
  {
   "cell_type": "code",
   "execution_count": null,
   "id": "b4d8df0d",
   "metadata": {},
   "outputs": [],
   "source": []
  },
  {
   "cell_type": "code",
   "execution_count": null,
   "id": "de3f0857",
   "metadata": {},
   "outputs": [],
   "source": [
    "# pd.DataFrame(encoder.predict(X_test.values)).stack().hist()"
   ]
  },
  {
   "cell_type": "code",
   "execution_count": null,
   "id": "86360383",
   "metadata": {},
   "outputs": [],
   "source": [
    "enc_layer = encoder.get_layer(index=-1)\n",
    "enc_layer.activation = tf.keras.activations.linear\n",
    "\n",
    "a = encoder.predict(X_test.values)\n",
    "a.sort(axis=1)\n",
    "a=a[ :,::-1]\n",
    "a = pd.DataFrame(a)\n",
    "a.mean(axis=0).plot()"
   ]
  },
  {
   "cell_type": "code",
   "execution_count": null,
   "id": "843fad80",
   "metadata": {},
   "outputs": [],
   "source": [
    "# a.mean(axis=0)"
   ]
  },
  {
   "cell_type": "code",
   "execution_count": null,
   "id": "ec856775",
   "metadata": {},
   "outputs": [],
   "source": [
    "# (a.mean(axis=0)/a.mean(axis=0).sum()).cumsum().head(50)"
   ]
  },
  {
   "cell_type": "code",
   "execution_count": null,
   "id": "1d6dcbf0",
   "metadata": {},
   "outputs": [],
   "source": [
    "# enc_layer = encoder.get_layer(\"dense_23\")"
   ]
  },
  {
   "cell_type": "code",
   "execution_count": null,
   "id": "882f940b",
   "metadata": {},
   "outputs": [],
   "source": [
    "# enc_layer.kernel.eval()"
   ]
  },
  {
   "cell_type": "code",
   "execution_count": null,
   "id": "2cd69b5b",
   "metadata": {},
   "outputs": [],
   "source": [
    "losses.sort_index().tail(50)"
   ]
  },
  {
   "cell_type": "code",
   "execution_count": null,
   "id": "12d1f0ef",
   "metadata": {},
   "outputs": [],
   "source": [
    "autoencoder.get_layer"
   ]
  },
  {
   "cell_type": "code",
   "execution_count": null,
   "id": "baa5543a",
   "metadata": {},
   "outputs": [],
   "source": [
    "# enc_layer = autoencoder.get_layer(\"dense_23\")"
   ]
  },
  {
   "cell_type": "code",
   "execution_count": null,
   "id": "d08484a5",
   "metadata": {},
   "outputs": [],
   "source": [
    "\n",
    "# enc_layer.kernel.eval()"
   ]
  },
  {
   "cell_type": "code",
   "execution_count": null,
   "id": "e310cf57",
   "metadata": {},
   "outputs": [],
   "source": [
    "# with tf.variable_scope(\"dense_23\", reuse=True):\n",
    "#     weights = tf.get_variable(\"kernel\")"
   ]
  },
  {
   "cell_type": "code",
   "execution_count": null,
   "id": "c375626f",
   "metadata": {},
   "outputs": [],
   "source": [
    "# ['adam','SGD','RMSprop','Nadam','Ftrl','Adamax','Adagrad','Adadelta']"
   ]
  },
  {
   "cell_type": "code",
   "execution_count": null,
   "id": "9d3e1740",
   "metadata": {},
   "outputs": [],
   "source": []
  },
  {
   "cell_type": "code",
   "execution_count": null,
   "id": "9b80b91e",
   "metadata": {},
   "outputs": [],
   "source": [
    "losses.to_csv(\"losses.csv\")"
   ]
  },
  {
   "cell_type": "code",
   "execution_count": null,
   "id": "b3bdb512",
   "metadata": {},
   "outputs": [],
   "source": [
    "autoencoder.summary()"
   ]
  },
  {
   "cell_type": "code",
   "execution_count": null,
   "id": "d3e3f9d0",
   "metadata": {},
   "outputs": [],
   "source": [
    "encoder.summary()"
   ]
  },
  {
   "cell_type": "code",
   "execution_count": null,
   "id": "c816fa59",
   "metadata": {},
   "outputs": [],
   "source": [
    "decoder.summary()"
   ]
  },
  {
   "cell_type": "code",
   "execution_count": null,
   "id": "4b6716dc",
   "metadata": {},
   "outputs": [],
   "source": [
    "no_hidden_layers=2"
   ]
  },
  {
   "cell_type": "code",
   "execution_count": null,
   "id": "f97fd3e9",
   "metadata": {},
   "outputs": [],
   "source": [
    "no_hidden_layers=1\n",
    "x = pow(X.shape[1]/encoding_dim,1/ (no_hidden_layers+1) )\n",
    "[int(encoding_dim*pow(x,y)) for y in range(1,no_hidden_layers+1)]"
   ]
  },
  {
   "cell_type": "code",
   "execution_count": null,
   "id": "06d787a3",
   "metadata": {},
   "outputs": [],
   "source": []
  },
  {
   "cell_type": "code",
   "execution_count": null,
   "id": "d7e4928b",
   "metadata": {},
   "outputs": [],
   "source": [
    "autoencoder.history.history.keys()"
   ]
  },
  {
   "cell_type": "code",
   "execution_count": null,
   "id": "76dc85e1",
   "metadata": {},
   "outputs": [],
   "source": [
    "[encoding_dim,hidden_size]+[autoencoder.history.epoch[-1]]+[x[-1] for x in autoencoder.history.history.values()]+[mean_correlation]"
   ]
  },
  {
   "cell_type": "code",
   "execution_count": null,
   "id": "14aba573",
   "metadata": {},
   "outputs": [],
   "source": [
    "X_test_reconst.apply(lambda x: (X_test_reconst>.5)[x.name].corr( X_test[x.name] ) ).mean()  "
   ]
  },
  {
   "cell_type": "code",
   "execution_count": null,
   "id": "0dff4069",
   "metadata": {},
   "outputs": [],
   "source": [
    "X_test_reconst.apply(lambda x: X_test_reconst[x.name].corr( X_test[x.name] ) ).mean()  "
   ]
  },
  {
   "cell_type": "code",
   "execution_count": null,
   "id": "literary-budget",
   "metadata": {},
   "outputs": [],
   "source": [
    "df = pd.DataFrame(X_test_reconst>.5,columns=enc.get_feature_names()[not_low_var_columns],index=prep.index)"
   ]
  },
  {
   "cell_type": "code",
   "execution_count": null,
   "id": "76486eb1",
   "metadata": {},
   "outputs": [],
   "source": [
    "list(enc.get_feature_names()[not_low_var_columns]).index(\"x1_Conservative\")"
   ]
  },
  {
   "cell_type": "code",
   "execution_count": null,
   "id": "80ba085a",
   "metadata": {},
   "outputs": [],
   "source": [
    "df = (X_test_reconst>.5).astype(int)\n",
    "df.columns = enc.get_feature_names()[not_low_var_columns]"
   ]
  },
  {
   "cell_type": "code",
   "execution_count": null,
   "id": "6c3df14b",
   "metadata": {},
   "outputs": [],
   "source": [
    "search(df,\"Conservative\")"
   ]
  },
  {
   "cell_type": "code",
   "execution_count": null,
   "id": "hawaiian-bridal",
   "metadata": {},
   "outputs": [],
   "source": [
    "df_orig = pd.DataFrame(X_test,columns=enc.get_feature_names()[not_low_var_columns],index=prep.index)"
   ]
  },
  {
   "cell_type": "code",
   "execution_count": null,
   "id": "6a540d58",
   "metadata": {},
   "outputs": [],
   "source": [
    "df_orig = X_test.copy()\n",
    "df_orig.columns = enc.get_feature_names()[not_low_var_columns]\n",
    "df_orig = df_orig.astype(int)"
   ]
  },
  {
   "cell_type": "code",
   "execution_count": null,
   "id": "b429dec2",
   "metadata": {},
   "outputs": [],
   "source": [
    "df_orig[\"x1_Conservative\"].sum()"
   ]
  },
  {
   "cell_type": "code",
   "execution_count": null,
   "id": "d9cdd68e",
   "metadata": {},
   "outputs": [],
   "source": [
    "df[\"x1_Conservative\"].sum()"
   ]
  },
  {
   "cell_type": "code",
   "execution_count": null,
   "id": "1d7e35e6",
   "metadata": {},
   "outputs": [],
   "source": [
    "df[\"x1_Conservative\"].corr(df_orig[\"x1_Conservative\"])"
   ]
  },
  {
   "cell_type": "code",
   "execution_count": null,
   "id": "7ba0c62f",
   "metadata": {},
   "outputs": [],
   "source": [
    "X_test_reconst[7].corr(X_test[7])"
   ]
  },
  {
   "cell_type": "code",
   "execution_count": null,
   "id": "07aa1a6c",
   "metadata": {},
   "outputs": [],
   "source": [
    "sum(df[\"x1_Conservative\"]==df_orig[\"x1_Conservative\"])/df[\"x1_Conservative\"].shape[0]"
   ]
  },
  {
   "cell_type": "code",
   "execution_count": null,
   "id": "dirty-cambridge",
   "metadata": {},
   "outputs": [],
   "source": [
    "X_test_reconst.apply(lambda x: X_test_reconst[x.name].corr( X_test[x.name] ) ).mean()"
   ]
  },
  {
   "cell_type": "code",
   "execution_count": null,
   "id": "meaningful-delta",
   "metadata": {},
   "outputs": [],
   "source": [
    "X_test_reconst.corrwith(pd.Series(encoded_imgs[:,0].reshape(X_test.shape[0]),index=X_test.index)).sort_values().tail(50)"
   ]
  },
  {
   "cell_type": "code",
   "execution_count": null,
   "id": "liable-concentration",
   "metadata": {},
   "outputs": [],
   "source": [
    "X_test_reconst.corrwith(pd.Series(encoded_imgs[:,0].reshape(X_test.shape[0]),index=X_test.index))"
   ]
  },
  {
   "cell_type": "code",
   "execution_count": null,
   "id": "fd922a4d",
   "metadata": {},
   "outputs": [],
   "source": [
    "# column_indices = [int(x.split(\"_\")[0].split(\"x\")[1]) for x in enc.get_feature_names()]\n",
    "\n",
    "# [prep.columns[x] for x in column_indices]\n",
    "\n"
   ]
  },
  {
   "cell_type": "code",
   "execution_count": null,
   "id": "attached-surfing",
   "metadata": {},
   "outputs": [],
   "source": [
    "X_test_reconst.columns = enc.get_feature_names()[not_low_var_columns]\n",
    "X_test_reconst.columns = [prep.columns[int(x.split(\"_\")[0].split(\"x\")[1])] +\"_\"+\"_\".join(x.split(\"_\")[1:]) for x in enc.get_feature_names()[not_low_var_columns]]"
   ]
  },
  {
   "cell_type": "code",
   "execution_count": null,
   "id": "4afae104",
   "metadata": {},
   "outputs": [],
   "source": [
    "pd.Series(encoded_imgs[:,0].reshape(X_test.shape[0]),index=X_test.index)"
   ]
  },
  {
   "cell_type": "code",
   "execution_count": null,
   "id": "de0de628",
   "metadata": {},
   "outputs": [],
   "source": [
    "X_test_reconst"
   ]
  },
  {
   "cell_type": "code",
   "execution_count": null,
   "id": "10129e00",
   "metadata": {},
   "outputs": [],
   "source": [
    "## just the p_ dataset"
   ]
  },
  {
   "cell_type": "code",
   "execution_count": null,
   "id": "bbd891b3",
   "metadata": {
    "scrolled": true
   },
   "outputs": [],
   "source": [
    "get_top_corr(df[0],50)\n",
    "## nan pattern"
   ]
  },
  {
   "cell_type": "code",
   "execution_count": null,
   "id": "6eadd1a7",
   "metadata": {
    "scrolled": true
   },
   "outputs": [],
   "source": [
    "get_top_corr(df[1],50)\n",
    "#+: non-voting, private renting,  non-cohabit relationship, hh_childnren=1/_size=3, read no newspaper, private sector,\n",
    "# Black and White caribbean/african, live with parents\n",
    "#-: voting, retired, home-owning, methodist|baptist|United Reformed Church, reads \"Other newspaper\"|mirror|express,\n",
    "# Labour|Conservatiove, 10-15k personal income, "
   ]
  },
  {
   "cell_type": "code",
   "execution_count": null,
   "id": "dc5b223f",
   "metadata": {},
   "outputs": [],
   "source": [
    "get_top_corr(df[2],50)\n",
    "#+: ed age<=15/16, no formal quals, local auth/housing assoc renter, reads Sun|Star, disabled, Leave, retired, grade E, BNP\n",
    "    # voted2005, £5-15k, White British, ed-pref not to say/other technical, Conservative\n",
    "#-: ed age>=20, undergrad, degree, A-level, reads Independent, grade B|C1, £35-45k, Remain, house part-own, Full-time,\n",
    "    # non-cohab relationship, White and Asian, public sector, born East Asia, \n"
   ]
  },
  {
   "cell_type": "code",
   "execution_count": null,
   "id": "f793e6e7",
   "metadata": {},
   "outputs": [],
   "source": [
    "get_top_corr(df[3],50)\n",
    "#+: non-scot, ed_age 16, 5-15k, GCE/O-level/A-level\n",
    "#-: ScotrefVoted, £35-100k, reads Scotsman, Scotref_No, postgrad/degree/ed_age 20+, presby/Brethren, born East Asia/Oceania,\n",
    "    #SNP/Conservative,Full-time work, Own with mortgage,\n",
    "    # "
   ]
  },
  {
   "cell_type": "code",
   "execution_count": null,
   "id": "c53df7c9",
   "metadata": {},
   "outputs": [],
   "source": [
    "get_top_corr(df[4],50)"
   ]
  },
  {
   "cell_type": "code",
   "execution_count": null,
   "id": "174e9efe",
   "metadata": {},
   "outputs": [],
   "source": [
    "get_top_corr(df[5],50)\n",
    "\n",
    "# scotref!"
   ]
  },
  {
   "cell_type": "code",
   "execution_count": null,
   "id": "fa44d6f3",
   "metadata": {},
   "outputs": [],
   "source": [
    "get_top_corr(df[6],50)\n",
    "# uber-conservative/leave/mail/express axis/ white british/born UK/Methodist/voted2019/UKIP/outright homeowner\n",
    "# guardian/independent/other ethnic group/born elsewhere/Labour/private renter/bisexual/other religion/orthodox Christian"
   ]
  },
  {
   "cell_type": "code",
   "execution_count": null,
   "id": "f0571496",
   "metadata": {},
   "outputs": [],
   "source": [
    "get_top_corr(df[7],50)\n",
    "#+:ed_age <=15/16,anglican,parent,voted2015,married,\n",
    "#-:undergrad/degree/private rent/bisexual,single,"
   ]
  },
  {
   "cell_type": "code",
   "execution_count": null,
   "id": "fff8bb64",
   "metadata": {},
   "outputs": [],
   "source": []
  },
  {
   "cell_type": "code",
   "execution_count": null,
   "id": "5dced2af",
   "metadata": {},
   "outputs": [],
   "source": []
  },
  {
   "cell_type": "code",
   "execution_count": null,
   "id": "9aed70d1",
   "metadata": {},
   "outputs": [],
   "source": []
  },
  {
   "cell_type": "code",
   "execution_count": null,
   "id": "730a4737",
   "metadata": {},
   "outputs": [],
   "source": []
  },
  {
   "cell_type": "code",
   "execution_count": null,
   "id": "d9979813",
   "metadata": {},
   "outputs": [],
   "source": []
  },
  {
   "cell_type": "code",
   "execution_count": null,
   "id": "fc22d9a1",
   "metadata": {},
   "outputs": [],
   "source": []
  },
  {
   "cell_type": "code",
   "execution_count": null,
   "id": "e52ccca7",
   "metadata": {},
   "outputs": [],
   "source": []
  },
  {
   "cell_type": "code",
   "execution_count": null,
   "id": "d615afd3",
   "metadata": {},
   "outputs": [],
   "source": []
  },
  {
   "cell_type": "code",
   "execution_count": null,
   "id": "95eac889",
   "metadata": {},
   "outputs": [],
   "source": []
  },
  {
   "cell_type": "code",
   "execution_count": null,
   "id": "e093caed",
   "metadata": {},
   "outputs": [],
   "source": [
    "## Full dataset"
   ]
  },
  {
   "cell_type": "code",
   "execution_count": null,
   "id": "3aa83b84",
   "metadata": {
    "scrolled": true
   },
   "outputs": [],
   "source": [
    "df[0][ df[0].abs().sort_values(ascending=False).head(50).index ]\n",
    "# ~70s homeowners, retired, no risk unemploy, not furloughed, no income change, no risk povery, employed medium/big org, voted2005, no high risk close family\n",
    "# vs ~30s, hhsize =3/6, private renting, close family hospitalised"
   ]
  },
  {
   "cell_type": "code",
   "execution_count": null,
   "id": "40558385",
   "metadata": {
    "scrolled": true
   },
   "outputs": [],
   "source": [
    "get_top_corr(df[1],50)\n",
    "# leave voting, lab would handle corona/economic badly, tax_spend_5, immig bad for culture, Not Scotland??\n",
    "# vs pro-imm, non-Eng id, likes greens, Remain/rejoin id, reduced cv infections, BXP vote unlikely, disagree too many handouts, taxSpend pro spending\n",
    "    # lrLD/SNP =5\n"
   ]
  },
  {
   "cell_type": "code",
   "execution_count": null,
   "id": "baff5011",
   "metadata": {
    "scrolled": true
   },
   "outputs": [],
   "source": [
    "get_top_corr(df[2],50)\n",
    "#+: retired+no sector, disability, personal high medical risk, 70s, pref not to answer gross income\n",
    "#-: full-time work, unemployment fairly unlikely, employee/supervisor midsize/arge org, homeworking due to corona,\n",
    "# pub/third/private sector, mid-high income, somewhat worried about close ppl catching corona, ~40s, no disability, mortgage\n"
   ]
  },
  {
   "cell_type": "code",
   "execution_count": null,
   "id": "c566f55f",
   "metadata": {},
   "outputs": [],
   "source": [
    "get_top_corr(df[3],50)\n",
    "# nan structure"
   ]
  },
  {
   "cell_type": "code",
   "execution_count": null,
   "id": "9ccf6d7b",
   "metadata": {},
   "outputs": [],
   "source": [
    "get_top_corr(df[4],50)\n",
    "# more nan structure"
   ]
  },
  {
   "cell_type": "code",
   "execution_count": null,
   "id": "5d8eddb4",
   "metadata": {},
   "outputs": [],
   "source": [
    "get_top_corr(df[5],50)\n",
    "# more nan structure?"
   ]
  },
  {
   "cell_type": "code",
   "execution_count": null,
   "id": "6665f771",
   "metadata": {},
   "outputs": [],
   "source": [
    "get_top_corr(df[6],50)\n",
    "#\n",
    "#"
   ]
  },
  {
   "cell_type": "code",
   "execution_count": null,
   "id": "f88b8fe0",
   "metadata": {},
   "outputs": [],
   "source": [
    "get_top_corr(df[7],50)\n",
    "#+: Don't knows\n",
    "#-: infoSourceTV 1-2 hrs\n",
    "#"
   ]
  },
  {
   "cell_type": "code",
   "execution_count": null,
   "id": "db578f0a",
   "metadata": {},
   "outputs": [],
   "source": [
    "get_top_corr(df[8],50)\n",
    "# nans"
   ]
  },
  {
   "cell_type": "code",
   "execution_count": null,
   "id": "2b9079a8",
   "metadata": {},
   "outputs": [],
   "source": [
    "get_top_corr(df[9],50)\n",
    "# nans"
   ]
  },
  {
   "cell_type": "code",
   "execution_count": null,
   "id": "8d97b23c",
   "metadata": {},
   "outputs": [],
   "source": [
    "get_top_corr(df[10],50)"
   ]
  },
  {
   "cell_type": "code",
   "execution_count": null,
   "id": "60489c62",
   "metadata": {},
   "outputs": [],
   "source": [
    "get_top_corr(df[11],50)"
   ]
  },
  {
   "cell_type": "code",
   "execution_count": null,
   "id": "2415b3a9",
   "metadata": {},
   "outputs": [],
   "source": [
    "get_top_corr(df[12],50)"
   ]
  },
  {
   "cell_type": "code",
   "execution_count": null,
   "id": "ae71d1b4",
   "metadata": {},
   "outputs": [],
   "source": []
  },
  {
   "cell_type": "code",
   "execution_count": null,
   "id": "901f3258",
   "metadata": {},
   "outputs": [],
   "source": [
    "df = pd.DataFrame(encoded_imgs,index=X_test.index).apply(lambda x: X_test_reconst.corrwith(x))\n",
    "def get_top_corr(x,n):\n",
    "    return x[x.abs().sort_values(ascending=False).head(n).index]"
   ]
  },
  {
   "cell_type": "code",
   "execution_count": null,
   "id": "e6b8c339",
   "metadata": {},
   "outputs": [],
   "source": [
    "df[0][ df[0].abs().sort_values(ascending=False).head(25).index ]\n",
    "# Don't know - Confident no family members/you/anyone else have had covid (gender effect?)/No coronavirus measures"
   ]
  },
  {
   "cell_type": "code",
   "execution_count": null,
   "id": "9b25d88a",
   "metadata": {},
   "outputs": [],
   "source": [
    "get_top_corr(df[1],25)\n",
    "# Distrust of Westminster/MPs vs Trust in Cons"
   ]
  },
  {
   "cell_type": "code",
   "execution_count": null,
   "id": "0cee76e8",
   "metadata": {},
   "outputs": [],
   "source": [
    "get_top_corr(df[2],25)\n",
    "# Have - haven't close association with people who received High Risk medical letter/warning over covid"
   ]
  },
  {
   "cell_type": "code",
   "execution_count": null,
   "id": "eb023232",
   "metadata": {},
   "outputs": [],
   "source": [
    "get_top_corr(df[4],25)\n",
    "# euID/Farage/BrexitParty/uni/social grade B/anti-death penalty vs euID Leave/reads-Sun/strongLeader-meh"
   ]
  },
  {
   "cell_type": "code",
   "execution_count": null,
   "id": "6bf32c37",
   "metadata": {},
   "outputs": [],
   "source": [
    "get_top_corr(df[5],25)\n",
    "# hhIncomeCorona reduction/you someone you know stopped work/lost inc - age+/hhIncomeCorona static/retired/economy stayed same/unemployment unlikely/no suspicion anyone close had corona"
   ]
  },
  {
   "cell_type": "code",
   "execution_count": null,
   "id": "583bb1cb",
   "metadata": {},
   "outputs": [],
   "source": [
    "get_top_corr(df[6],25)\n",
    "# Full-time-work/thinks Lab prioritises corona-lives&equal inc, choose midpoint - vs choose Don't know/9pt"
   ]
  },
  {
   "cell_type": "code",
   "execution_count": null,
   "id": "bc490a1b",
   "metadata": {},
   "outputs": [],
   "source": [
    "get_top_corr(df[7],25)\n",
    "# corona impacted work income/lr(2,3,4))_Agree,taxSpend_6,private_enterprise_meh - corona didn't stop work/income increased/unemployment unlikely"
   ]
  },
  {
   "cell_type": "code",
   "execution_count": null,
   "id": "040fa040",
   "metadata": {},
   "outputs": [],
   "source": [
    "get_top_corr(df[8],25)\n",
    "# economy got/getting/will get a *lot* worse, extremely worried corona,likeStarmer_8/9/10,cutsTooFar,ptvLab - economy \"\" little worse"
   ]
  },
  {
   "cell_type": "code",
   "execution_count": null,
   "id": "743849f9",
   "metadata": {},
   "outputs": [],
   "source": [
    "get_top_corr(df[9],25)\n",
    "# not close to anyone who got corona, don't like BrexitParty/Farage, BXP right-wing - dk if close to anyone with corona, might vote BXP"
   ]
  },
  {
   "cell_type": "code",
   "execution_count": null,
   "id": "a82c697c",
   "metadata": {},
   "outputs": [],
   "source": [
    "get_top_corr(df[10],25)\n",
    "# euID_leave, economy/corona would get worse under Labour/immigration easier, --Grn/LD/Lab, read Daily Mail, Labour is 100% Left and Remaniac ,\n",
    "# al1_Strongly Agree (young people don't respect British values), partyId Conservative, economy>environment"
   ]
  },
  {
   "cell_type": "code",
   "execution_count": null,
   "id": "520c004f",
   "metadata": {},
   "outputs": [],
   "source": [
    "get_top_corr(df[11],25)\n",
    "# corona corona corona, taxSpend_8"
   ]
  },
  {
   "cell_type": "code",
   "execution_count": null,
   "id": "90753b55",
   "metadata": {},
   "outputs": [],
   "source": [
    "get_top_corr(df[12],25)\n",
    "# Don't know, infoSourceInternet_no time at all, "
   ]
  },
  {
   "cell_type": "code",
   "execution_count": null,
   "id": "d3c6e8f7",
   "metadata": {},
   "outputs": [],
   "source": [
    "gc.collect()"
   ]
  },
  {
   "cell_type": "code",
   "execution_count": null,
   "id": "79a7ab05",
   "metadata": {},
   "outputs": [],
   "source": [
    "search(BES_Panel,\"p_\")"
   ]
  },
  {
   "cell_type": "code",
   "execution_count": null,
   "id": "1daa3934",
   "metadata": {},
   "outputs": [],
   "source": [
    "df"
   ]
  },
  {
   "cell_type": "code",
   "execution_count": null,
   "id": "2e989ae3",
   "metadata": {},
   "outputs": [],
   "source": [
    "X_test_reconst.corrwith(pd.Series(encoded_imgs[:,0].reshape(X_test.shape[0]),index=X_test.index))\n",
    "\n",
    "#.sort_values().tail(50)"
   ]
  },
  {
   "cell_type": "code",
   "execution_count": null,
   "id": "88877e8b",
   "metadata": {},
   "outputs": [],
   "source": [
    "X_test_reconst.corrwith(pd.Series(encoded_imgs[:,0].reshape(X_test.shape[0]),index=X_test.index)).sort_values().head(50)"
   ]
  },
  {
   "cell_type": "code",
   "execution_count": null,
   "id": "1c00af19",
   "metadata": {},
   "outputs": [],
   "source": [
    "X_test_reconst.corrwith(pd.Series(encoded_imgs[:,1].reshape(X_test.shape[0]),index=X_test.index)).sort_values().tail(50)[::-1]"
   ]
  },
  {
   "cell_type": "code",
   "execution_count": null,
   "id": "9a58973f",
   "metadata": {},
   "outputs": [],
   "source": [
    "X_test_reconst.corrwith(pd.Series(encoded_imgs[:,1].reshape(X_test.shape[0]),index=X_test.index)).sort_values().head(50)[::-1]"
   ]
  },
  {
   "cell_type": "code",
   "execution_count": null,
   "id": "37ed3815",
   "metadata": {},
   "outputs": [],
   "source": [
    "X_test_reconst.corrwith(pd.Series(encoded_imgs[:,2].reshape(X_test.shape[0]),index=X_test.index)).sort_values().tail(50)[::-1]"
   ]
  },
  {
   "cell_type": "code",
   "execution_count": null,
   "id": "b96b845e",
   "metadata": {},
   "outputs": [],
   "source": [
    "X_test_reconst.corrwith(pd.Series(encoded_imgs[:,2].reshape(X_test.shape[0]),index=X_test.index)).sort_values().head(50)[::-1]"
   ]
  },
  {
   "cell_type": "code",
   "execution_count": null,
   "id": "3b995616",
   "metadata": {},
   "outputs": [],
   "source": [
    "X_test_reconst.corrwith(pd.Series(encoded_imgs[:,3].reshape(X_test.shape[0]),index=X_test.index)).sort_values().tail(50)[::-1]"
   ]
  },
  {
   "cell_type": "code",
   "execution_count": null,
   "id": "acc4dad8",
   "metadata": {},
   "outputs": [],
   "source": [
    "X_test_reconst.corrwith(pd.Series(encoded_imgs[:,3].reshape(X_test.shape[0]),index=X_test.index)).sort_values().head(50)[::-1]"
   ]
  },
  {
   "cell_type": "code",
   "execution_count": null,
   "id": "4b5e19e8",
   "metadata": {},
   "outputs": [],
   "source": []
  },
  {
   "cell_type": "code",
   "execution_count": null,
   "id": "5fb7b6e2",
   "metadata": {},
   "outputs": [],
   "source": []
  },
  {
   "cell_type": "code",
   "execution_count": null,
   "id": "dbf1290c",
   "metadata": {},
   "outputs": [],
   "source": []
  },
  {
   "cell_type": "code",
   "execution_count": null,
   "id": "bfbbcf08",
   "metadata": {},
   "outputs": [],
   "source": []
  },
  {
   "cell_type": "code",
   "execution_count": null,
   "id": "5ff365a1",
   "metadata": {},
   "outputs": [],
   "source": []
  },
  {
   "cell_type": "code",
   "execution_count": null,
   "id": "072f11f2",
   "metadata": {},
   "outputs": [],
   "source": [
    "# tensorflow.python.keras.models"
   ]
  },
  {
   "cell_type": "code",
   "execution_count": null,
   "id": "2a43be82",
   "metadata": {},
   "outputs": [],
   "source": []
  },
  {
   "cell_type": "code",
   "execution_count": null,
   "id": "1529a3bc",
   "metadata": {},
   "outputs": [],
   "source": []
  },
  {
   "cell_type": "code",
   "execution_count": null,
   "id": "3e8f1dc0",
   "metadata": {},
   "outputs": [],
   "source": [
    "# encoder = Dense(encoding_dim, activation=\"linear\", input_shape=(input_dim,), use_bias=True,\n",
    "#                 kernel_regularizer=WeightsOrthogonalityConstraint(encoding_dim, weightage=1., axis=0)) \n",
    "# decoder = Dense(input_dim, activation=\"linear\", use_bias = True,\n",
    "#                 kernel_regularizer=WeightsOrthogonalityConstraint(encoding_dim, weightage=1., axis=1))\n",
    "\n",
    "# autoencoder = Sequential()\n",
    "# autoencoder.add(encoder)\n",
    "# autoencoder.add(decoder)\n",
    "\n",
    "# autoencoder.compile(metrics=['accuracy'],\n",
    "#                     loss='mean_squared_error',\n",
    "#                     optimizer='sgd')\n",
    "# autoencoder.summary()\n",
    "\n",
    "# autoencoder.fit(X_train_scaled, X_train_scaled,\n",
    "#                 epochs=nb_epoch,\n",
    "#                 batch_size=batch_size,\n",
    "#                 shuffle=True,\n",
    "#                 verbose=0)"
   ]
  },
  {
   "cell_type": "code",
   "execution_count": null,
   "id": "33594b18",
   "metadata": {},
   "outputs": [],
   "source": []
  },
  {
   "cell_type": "code",
   "execution_count": null,
   "id": "34212427",
   "metadata": {},
   "outputs": [],
   "source": [
    "# encoder = Dense(encoding_dim, activation=\"linear\", input_shape=(input_dim,), use_bias = True, activity_regularizer=UncorrelatedFeaturesConstraint(encoding_dim, weightage = 1.)) \n",
    "# decoder = Dense(input_dim, activation=\"linear\", use_bias = True)\n",
    "\n",
    "# autoencoder = Sequential()\n",
    "# autoencoder.add(encoder)\n",
    "# autoencoder.add(decoder)\n",
    "\n",
    "# autoencoder.compile(metrics=['accuracy'],\n",
    "#                     loss='mean_squared_error',\n",
    "#                     optimizer='sgd')\n",
    "# autoencoder.summary()\n",
    "\n",
    "# autoencoder.fit(X_train_scaled, X_train_scaled,\n",
    "#                 epochs=nb_epoch,\n",
    "#                 batch_size=batch_size,\n",
    "#                 shuffle=True,\n",
    "#                 verbose=0)"
   ]
  },
  {
   "cell_type": "code",
   "execution_count": null,
   "id": "209a3039",
   "metadata": {},
   "outputs": [],
   "source": [
    "# encoder = Dense(encoding_dim, activation=\"linear\", input_shape=(input_dim,), use_bias = True, kernel_constraint=UnitNorm(axis=0)) \n",
    "# decoder = Dense(input_dim, activation=\"linear\", use_bias = True, kernel_constraint=UnitNorm(axis=1))\n",
    "# autoencoder = Sequential()\n",
    "# autoencoder.add(encoder)\n",
    "# autoencoder.add(decoder)\n",
    "# autoencoder.compile(metrics=['accuracy'],\n",
    "#                     loss='mean_squared_error',\n",
    "#                     optimizer='sgd')\n",
    "# autoencoder.summary()\n",
    "# autoencoder.fit(X_train_scaled, X_train_scaled,\n",
    "#                 epochs=nb_epoch,\n",
    "#                 batch_size=batch_size,\n",
    "#                 shuffle=True,\n",
    "#                 verbose=0)"
   ]
  },
  {
   "cell_type": "code",
   "execution_count": null,
   "id": "cbc731a5",
   "metadata": {},
   "outputs": [],
   "source": [
    "\n",
    "# encoder.use_bias\n",
    "\n",
    "\n",
    "# kernel_initializer"
   ]
  },
  {
   "cell_type": "code",
   "execution_count": null,
   "id": "11f5acb1",
   "metadata": {},
   "outputs": [],
   "source": [
    "# input_dim =32\n",
    "\n",
    "# encoder = Dense(encoding_dim, activation=\"linear\", input_shape=(input_dim,)) \n",
    "# decoder = DenseTied(input_dim, activation=\"linear\", tied_to=encoder)\n",
    "# autoencoder = Sequential()\n",
    "# autoencoder.add(encoder)\n",
    "# autoencoder.add(decoder)\n",
    "# autoencoder.compile(metrics=['accuracy'],\n",
    "#                     loss='mean_squared_error',\n",
    "#                     optimizer='sgd')\n",
    "# autoencoder.summary()\n",
    "# # autoencoder.fit(X_train_scaled, X_train_scaled,\n",
    "# #                 epochs=nb_epoch,\n",
    "# #                 batch_size=batch_size,\n",
    "# #                 shuffle=True,\n",
    "# #                 verbose=0)"
   ]
  },
  {
   "cell_type": "code",
   "execution_count": null,
   "id": "bcf53691",
   "metadata": {},
   "outputs": [],
   "source": [
    "# encoder.kernel"
   ]
  },
  {
   "cell_type": "code",
   "execution_count": null,
   "id": "23875106",
   "metadata": {},
   "outputs": [],
   "source": [
    "## DATA PROCESSING BUG: p_gross_personal__Â Prefer not to answer"
   ]
  },
  {
   "cell_type": "code",
   "execution_count": null,
   "id": "29affe15",
   "metadata": {},
   "outputs": [],
   "source": [
    "search(BES_Panel,\"Johnson\")"
   ]
  },
  {
   "cell_type": "code",
   "execution_count": null,
   "id": "1c5a8f16",
   "metadata": {},
   "outputs": [],
   "source": [
    "search(BES_Panel,\"wt\")"
   ]
  },
  {
   "cell_type": "code",
   "execution_count": null,
   "id": "b88cc8ef",
   "metadata": {},
   "outputs": [],
   "source": [
    "round(pd.crosstab(BES_Panel[\"likeJohnson\"],BES_Panel[\"polAttention\"], values=BES_Panel[\"wt\"],aggfunc=sum,normalize='columns')*100,2)"
   ]
  },
  {
   "cell_type": "code",
   "execution_count": null,
   "id": "3de7075a",
   "metadata": {},
   "outputs": [],
   "source": []
  }
 ],
 "metadata": {
  "kernelspec": {
   "display_name": "Python 3 (ipykernel)",
   "language": "python",
   "name": "python3"
  },
  "language_info": {
   "codemirror_mode": {
    "name": "ipython",
    "version": 3
   },
   "file_extension": ".py",
   "mimetype": "text/x-python",
   "name": "python",
   "nbconvert_exporter": "python",
   "pygments_lexer": "ipython3",
   "version": "3.7.12"
  }
 },
 "nbformat": 4,
 "nbformat_minor": 5
}
