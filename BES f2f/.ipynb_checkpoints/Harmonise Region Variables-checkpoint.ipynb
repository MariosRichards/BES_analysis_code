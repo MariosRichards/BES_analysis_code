{
 "cells": [
  {
   "cell_type": "code",
   "execution_count": null,
   "id": "5df7b721",
   "metadata": {},
   "outputs": [],
   "source": [
    "## Region variables"
   ]
  },
  {
   "cell_type": "code",
   "execution_count": 1,
   "id": "fd7fc32b",
   "metadata": {},
   "outputs": [
    {
     "data": {
      "text/html": [
       "<script>jQuery(function() {if (jQuery(\"body.notebook_app\").length == 0) { jQuery(\".input_area\").toggle(); jQuery(\".prompt\").toggle();}});</script>"
      ]
     },
     "metadata": {},
     "output_type": "display_data"
    },
    {
     "data": {
      "text/html": [
       "<button onclick=\"jQuery('.input_area').toggle(); jQuery('.prompt').toggle();\">Toggle code</button>"
      ]
     },
     "metadata": {},
     "output_type": "display_data"
    }
   ],
   "source": [
    "# %%time\n",
    "## Just an easy way to load utility functions\n",
    "dataset_name = \"W19_only\"\n",
    "df_list = []\n",
    "\n",
    "%matplotlib inline \n",
    "%run f2f_header.py {dataset_name} {df_list}\n",
    "\n",
    "global BES_label_list, BES_df_list\n",
    "\n",
    "BES_df_list = pickle.load( open( \"E:\\\\BES_analysis_data\\\\Face_to_face\\\\BES_df_list.pickle\", \"rb\" ) )\n",
    "f2f_harmonised = pd.read_pickle(\"E:\\\\BES_analysis_data\\\\Face_to_face\\\\f2f_harmonised.zip\", compression='zip')\n",
    "BES_label_list = pickle.load( open( \"E:\\\\BES_analysis_data\\\\Face_to_face\\\\BES_label_list.pickle\", \"rb\" ) )\n",
    "demo_var_dict = pickle.load( open( \"E:\\\\BES_analysis_data\\\\Face_to_face\\\\demo_var_dict.pickle\", \"rb\" ) )\n",
    "var_type_dict_nonans = pickle.load( open( \"E:\\\\BES_analysis_data\\\\Face_to_face\\\\var_type_dict_nonans.pickle\", \"rb\" ) )\n",
    "\n",
    "generic_cols = f2f_harmonised.columns\n",
    "list_of_scale_harm_vars = [\"Age\",\"year_past_min_sch_leave_age\",\"in_school_past_min_age\"]\n",
    "\n",
    "%run f2f_utility.py"
   ]
  },
  {
   "cell_type": "code",
   "execution_count": null,
   "id": "8de48266",
   "metadata": {},
   "outputs": [],
   "source": [
    "# 2019: region, Constit_Code, Constit_Name\n",
    "# 2017: region\n",
    "# 2015: Constit_Code, Constit_Name\n",
    "# 2010: region, aconsnam, consname, cnameh\n",
    "# 2005: agor, agorx, bregion, dq2\n",
    "# 2001: regnall, aregion, tregion, seat, aconstit, tconstit\n",
    "# 1997: ??\n",
    "# 1992: arfe, area\n",
    "# 1987: scprarea\n",
    "# 1983: areano\n",
    "# 1979: m001001a, m251316\n",
    "# 1974_oct: oct145, oct251\n",
    "# 1974_feb: feb145, feb251\n",
    "# 1964-1970: v31-v34 (const nos),v35-v38 (region), v895 (region father), v899 (region mother),\n",
    "    # v903 (region as child), v907 (regions lived in)"
   ]
  },
  {
   "cell_type": "code",
   "execution_count": 18,
   "id": "32457d47",
   "metadata": {},
   "outputs": [
    {
     "name": "stdout",
     "output_type": "stream",
     "text": [
      "2019\n",
      "{'b0603': 'Reason for 2019 GE vote: Preferred party had no chance in my constituency', 'b0607': 'Better for the area / local MP / candidate', 'k02': 'Regularly read about politics in newspapers?', 'n02': 'Perceived class of MP in your constituency before 2019 GE', 'region': 'Region', 'Constit_Code': 'Constituency code', 'Constit_Name': 'Constituency name', 'LA_UA_Code': 'Local Authority Unitary Area code', 'LA_UA_Name': 'Local Authority Unitary Area name', 'pano': 'Press Association Constituency ID'}\n",
      "2017\n",
      "{'b0603': 'I really preferred another party but it stood no chance of winning in my constit', 'region': 'Region', 'Constit_Name': 'Parliamentary Constituency Name', 'Constit_Code': 'ONS Parliamentary Constituency identifier', 'pano': 'Press Association Constituency ID'}\n",
      "2015\n",
      "{'Constit_Code': 'Constit_Code', 'Constit_Name': 'Constit_Name', 'LA_UA_Code': 'Local Authority Unitary Area code', 'LA_UA_Name': 'Local Authority Unitary Area name', 'pano': 'Press Association Constituency ID', 'gor': 'Government Office Region'}\n",
      "2010\n",
      "{'agor': 'region', 'aq12_1': \"likelihood labour win r's constituency\", 'aq12_2': \"likelihood consvatives win r's constituency\", 'aq12_3': \"likelihood lib dems win r's constituency\", 'aq12_4': \"likelihood snp win r's constituency\", 'aq12_5': \"likelihood plaid cymru win r's constituency\", 'aq18_8': 'local mp tries hard look after people in const', 'aq40': \"r's vote makes diff who wins constituency\", 'aq41_2': \"party vote 2005 win r's constituency\", 'aq42': 'vote 2007 scot parl-constituency msp', 'aq43': 'vote 2007 scot parl-regional list', 'aq44': 'vote 2007 welsh asmbly-constituency am', 'aq45': 'vote 2007 welsh asmbly-regional list', 'aq56': 'votes people like r make diff win constit', 'aconsnam': 'constituency name', 'region': 'region(3rd)', 'bgor': 'standard region', 'bq46_2': \"party vote 2005 win r's constituency(3rd)\", 'consname': 'constituency name(3rd)', 'panumber': 'press association constituency number', 'pregion': 'census region', 'pa05': 'standard press association constituency reference number, 2005', 'v107_a': 'f. construction', 'tconstit': '2010 constituency name-total', 'cq31_2': 'attachment to constituency', 'cnameh': 'constituency name(4th)', 'zgor': 'standard region(3rd)'}\n",
      "2005\n",
      "{'pa05': 'std press assoc constituency ref no, 2005', 'agor': 'region', 'aq12a': \"labour win r's constituency\", 'aq12b': \"conservatives win r's constituency\", 'aq12c': \"liberal democrats win r's constituency\", 'aq12d': \"ukip win r's constituency\", 'aq12e': \"snp win r's constituency\", 'aq12f': \"plaid cymru win r's constituency\", 'aq18h': 'local mp tries hard for const', 'aq30h': 'uk approve eu constitution', 'aq35': \"r's vote-make diff who wins constit\", 'aq37a': 'constit vote-last scot election', 'aq38a': 'constit vote-last wales election', 'aq46': 'people like r make diff who wins const', 'agorx': 'region(3rd)', 'aregion': 'country & region', 'bq37': 'vote eu constitution referendum', 'bq45a': 'const vote-2003 scot parl election', 'bq46a': 'const vote-2003 welsh assembly election', 'bq49b': 'vote eu constitutional referendum', 'bregion': 'region(4th)', 'tregion': 'combined region', 'cq29': 'years lived in neighbourhood', 'cq30b': 'attachment to constituency', 'cq31d': 'regularly talk others in neigh', 'seat05': 'name of constituency 2005', 'region': 'major census region (britain)', 'old_pa': 'standard pa constituency ref number, 2001', 'seat01': 'name of constituency 2001', 'acorn1': 'wealthy achievers, suburban areas 2000', 'acorn3': 'prosperous pensioners, retirement areas 2000', 'acorn4': 'affluent executives, family areas 2000', 'acorn5': 'well-off workers, family areas 2000', 'acorn6': 'affluent urbanites, town and city areas 2000', 'acorn7': 'prosperous professionals, metropolitan areas 2000', 'acorn8': 'better off executives, inner city areas 2000', 'acorn9': 'comfortable middle agers, mature home owning areas 2000', 'acorn10': 'skilled workers, home owning areas 2000', 'acorn12': 'white collar workers, better off multi-ethnic areas 2000', 'acorn13': 'older people, less prosperous areas 2000', 'hseat05': 'name of constituency 2005(3rd)', 'dq2': 'region(5th)'}\n",
      "2001\n",
      "{'ref': 'standard pa constituency reference number', 'seatname': 'name of constituency', 'region': 'major census region (britain)', 'seat': 'constituency', 'aregion': 'region coded from nop constituency', 'aconstit': 'constituency(2nd)', 'constrev': 'corrected constituency codes (see value labels)', 'aq9': \"party likely win in r's constituency\", 'aq9aux': \"party likely win r's constituency-other\", 'aq13d': \"respect-local government in r's area\", 'aq27': \"how close election in r's constituency\", 'regwgthc': 'hdc - region weight', 'awgtgb': 'region x gender x age w/ gender weight', 'bq53': 'scotland-constitutional options', 'bq56': 'wales-constitutional options', 'bq59c': 'other regional newspapers', 'bregnwgt': 'panel weight-region', 'bpanwgt': 'panel weight-gender x age w/gender x region', 'tregion': 'region-top-up sample', 'tconstit': 'constituency-top-up sample', 'tddcode': 'top-up census constituency codes', 'tpacode': 'top-up press association constituency codes', 'regnall': 'region-all respondents', 'regoctwt': 'region weight-post-election respondents', 'postoctw': 'post-election x-sect weight-region*gender*age w/gender', 'ddcode': 'census constituency codes', 'ddrev': 'revised census constituency codes', 'pacode': 'press association constituency codes', 'parev': 'revised press association constituency codes', 'cq7e': 'vote local elec-best policy-my area', 'cq18': 'ec conitions last 12 months-this area', 'cq20d': \"respect-local government r's area\", 'cq29b': 'r attached to constituency', 'mregnwgt': 'mailback-region weight', 'mailwgt': 'mailback-region*gender*age w/gender weight', 'vconstit': 'bes constituency code - all respondents'}\n",
      "1997\n",
      "{'stregion': 'standard region  dv', 'areachge': 'has area prospered since the election compared others? q575', 'yareacge': 'why area changed since election compared with others? q576', 'mmingrp': 'mother: r.g. constituent minor group [no father] q697', 'rmingrp': \"r's r.g. constituent minor groups dv q761\", 'smingrp': 'spouse: r.g. constituent minor group [if married]  q829', 'nghbrhd': 'how long have you lived in this neighbourhood? q956', 'isspano': 'press association constituency number  ', 'issconst': 'parliamentary constituency census      ', 'issconsn': '1997+ parliamentary constituency name  ', 'isscc': 'county/region ons code', 'issccnam': 'county name/region name <a25>', 'o96pano': 'press association constituency no. [oct 96 add]', 'o96const': '1997+parliamentary constituency   [oct96 add]', 'o96consn': '1997+ parliamentary constituency  [oct96 add]', 'o96cc': 'county/region ons code      [oct96 add]', 'o96ccnam': 'county name/region name     [oct96 add]', 'othpano': 'press association constituency no [other add]', 'othconst': '1997+ parliamentary constituency  [other add]', 'othconsn': '1997+ parliamentary constituency  [other add] (diff format)', 'othcc': 'county/region ons code    [other add]', 'othccnam': 'county name/region name  [other add]'}\n",
      "1992\n",
      "{'arfc': 'field area (first coding)            arfc', 'arfe': \"registrar general's standard region arfe\", 'arff': 'opcs constitituency no.                   arff', 'arfg': 'old opcs constituency no.                 arfg', 'arfh': 'pa constitituency no.                     arfh', 'arfi': 'old pa constitituency no.                 arfi', 'area': 'constituency of sample point', 'v54a': 'this area compared to other parts of gb?   q54a', 'v202b': 'reg.constituency meetings:mp should q202b', 'fmingrp': \"f's r.g.constituent minor groups      dv\", 'rmingrp': \"r's r.g.constituent minor groups      dv\", 'smingrp': 'spouse:r.g.constt minor group [if marr] dv'}\n",
      "1987\n",
      "{'scprarea': 'area number', 'pano': 'pa constituency no', 'v10a': 'party thought would win constituency', 'v43k': 'gone too far: new houses in country areas', 'v122c1': 'geog. proximity of person most discussed politics', 'v122c2': 'geog. proximity of person 2nd discussed politics'}\n",
      "1983\n",
      "{'areano': 'area number', 'pano': 'pa constituency number', 'region': 'standard region [post-1974 def.]'}\n",
      "1979\n",
      "{'m001001a': 'area code', 'm000124': \"r's view:assemblies for regions-q35\", 'm249283': 'how long lived in area:decimal years', 'm071300': 'standard region', 'm251316': 'area grew up in'}\n",
      "1974_feb\n",
      "{'feb071': 'standard region', 'feb145': 'constituency code', 'feb251': 'area grew up in'}\n",
      "1974_oct\n",
      "{'oct071': 'standard region', 'oct145': 'constituency code', 'oct489': 'party which won constit', 'oct251': 'area grew up in'}\n",
      "1970\n",
      "{'v31': 'CONSTITUENCY NUMBER 1963', 'v32': 'CONSTITUENCY NUMBER 1964', 'v33': 'CONSTITUENCY NUMBER 1966', 'v34': 'CONSTITUENCY NUMBER 1970', 'v35': 'REGION              1963', 'v36': 'REGION              1964', 'v37': 'REGION              1966', 'v38': 'REGION              1970', 'v39': 'TYPE OF CONSTITUENCY  63', 'v40': 'TYPE OF CONSTITUENCY  64', 'v41': 'TYPE OF CONSTITUENCY  66', 'v42': 'TYPE OF CONSTITUENCY  70', 'v384': 'LIB VOTE-NO CONST WIN 64', 'v385': 'LIB VOTE-NO CONST WIN 66', 'v386': 'LIB VOTE-NO CONST WIN 70', 'v430': 'EXPECTED CONSTIT WIN  63', 'v431': 'EXPECTED CONSTIT WIN  64', 'v432': 'EXPECTED CONSTIT WIN  66', 'v433': 'EXPECTED CONSTIT WIN  70', 'v434': 'HOW CLOSE IN CONSTIT  70', 'v435': 'LIB CHANCE IN CONSTIT 63', 'v436': 'LIB CHANCE IN CONSTIT 64', 'v437': 'LIB CHANCE IN CONSTIT 66', 'v438': 'LIB CHANCE IN CONSTIT 70', 'v530': 'VOTE-CONSTANT VOTERS  63', 'v597': 'MP DONE FOR CONSTIT 1963', 'v598': 'MP DONE FOR CONSTIT 1966', 'v599a': 'MP CONSTIT SERVICES MR63 (1)', 'v599b': 'MP CONSTIT SERVICES MR63 (2)', 'v600a': 'MP CONSTIT SERVICES MR66 (1)', 'v600b': 'MP CONSTIT SERVICES MR66 (2)', 'v895': 'REGION FATHER FROM  1963', 'v899': 'REGION MOTHER FROM  1963', 'v902': 'R LIVED IN CHILDHOOD', 'v903': 'REGION R LIVED (CHILD)', 'v904a': 'CNTYS R LIVED (CHILD) (1)', 'v904b': 'CNTYS R LIVED (CHILD) (2)', 'v905': 'SIZE OF PLACE R LIVED 64', 'v906': 'WHERE R HAS LIVED', 'v907': 'REGIONS R HAS LIVED 1963', 'v908a': 'R LIVED SINCE CHILD MR66 (1)', 'v908b': 'R LIVED SINCE CHILD MR66 (2)', 'v911': 'YRS R LIVED IN AREA', 'v912': 'YRS R LIVED IN HOUSE  63', 'v913': 'YRS R LIVED IN HOUSE  64', 'v914': 'YRS R LIVED IN HOUSE  70'}\n",
      "1966\n",
      "{'v31': 'CONSTITUENCY NUMBER 1963', 'v32': 'CONSTITUENCY NUMBER 1964', 'v33': 'CONSTITUENCY NUMBER 1966', 'v34': 'CONSTITUENCY NUMBER 1970', 'v35': 'REGION              1963', 'v36': 'REGION              1964', 'v37': 'REGION              1966', 'v38': 'REGION              1970', 'v39': 'TYPE OF CONSTITUENCY  63', 'v40': 'TYPE OF CONSTITUENCY  64', 'v41': 'TYPE OF CONSTITUENCY  66', 'v42': 'TYPE OF CONSTITUENCY  70', 'v384': 'LIB VOTE-NO CONST WIN 64', 'v385': 'LIB VOTE-NO CONST WIN 66', 'v386': 'LIB VOTE-NO CONST WIN 70', 'v430': 'EXPECTED CONSTIT WIN  63', 'v431': 'EXPECTED CONSTIT WIN  64', 'v432': 'EXPECTED CONSTIT WIN  66', 'v433': 'EXPECTED CONSTIT WIN  70', 'v434': 'HOW CLOSE IN CONSTIT  70', 'v435': 'LIB CHANCE IN CONSTIT 63', 'v436': 'LIB CHANCE IN CONSTIT 64', 'v437': 'LIB CHANCE IN CONSTIT 66', 'v438': 'LIB CHANCE IN CONSTIT 70', 'v530': 'VOTE-CONSTANT VOTERS  63', 'v597': 'MP DONE FOR CONSTIT 1963', 'v598': 'MP DONE FOR CONSTIT 1966', 'v599a': 'MP CONSTIT SERVICES MR63 (1)', 'v599b': 'MP CONSTIT SERVICES MR63 (2)', 'v600a': 'MP CONSTIT SERVICES MR66 (1)', 'v600b': 'MP CONSTIT SERVICES MR66 (2)', 'v895': 'REGION FATHER FROM  1963', 'v899': 'REGION MOTHER FROM  1963', 'v902': 'R LIVED IN CHILDHOOD', 'v903': 'REGION R LIVED (CHILD)', 'v904a': 'CNTYS R LIVED (CHILD) (1)', 'v904b': 'CNTYS R LIVED (CHILD) (2)', 'v905': 'SIZE OF PLACE R LIVED 64', 'v906': 'WHERE R HAS LIVED', 'v907': 'REGIONS R HAS LIVED 1963', 'v908a': 'R LIVED SINCE CHILD MR66 (1)', 'v908b': 'R LIVED SINCE CHILD MR66 (2)', 'v911': 'YRS R LIVED IN AREA', 'v912': 'YRS R LIVED IN HOUSE  63', 'v913': 'YRS R LIVED IN HOUSE  64', 'v914': 'YRS R LIVED IN HOUSE  70'}\n",
      "1964\n",
      "{'v31': 'CONSTITUENCY NUMBER 1963', 'v32': 'CONSTITUENCY NUMBER 1964', 'v33': 'CONSTITUENCY NUMBER 1966', 'v34': 'CONSTITUENCY NUMBER 1970', 'v35': 'REGION              1963', 'v36': 'REGION              1964', 'v37': 'REGION              1966', 'v38': 'REGION              1970', 'v39': 'TYPE OF CONSTITUENCY  63', 'v40': 'TYPE OF CONSTITUENCY  64', 'v41': 'TYPE OF CONSTITUENCY  66', 'v42': 'TYPE OF CONSTITUENCY  70', 'v384': 'LIB VOTE-NO CONST WIN 64', 'v385': 'LIB VOTE-NO CONST WIN 66', 'v386': 'LIB VOTE-NO CONST WIN 70', 'v430': 'EXPECTED CONSTIT WIN  63', 'v431': 'EXPECTED CONSTIT WIN  64', 'v432': 'EXPECTED CONSTIT WIN  66', 'v433': 'EXPECTED CONSTIT WIN  70', 'v434': 'HOW CLOSE IN CONSTIT  70', 'v435': 'LIB CHANCE IN CONSTIT 63', 'v436': 'LIB CHANCE IN CONSTIT 64', 'v437': 'LIB CHANCE IN CONSTIT 66', 'v438': 'LIB CHANCE IN CONSTIT 70', 'v530': 'VOTE-CONSTANT VOTERS  63', 'v597': 'MP DONE FOR CONSTIT 1963', 'v598': 'MP DONE FOR CONSTIT 1966', 'v599a': 'MP CONSTIT SERVICES MR63 (1)', 'v599b': 'MP CONSTIT SERVICES MR63 (2)', 'v600a': 'MP CONSTIT SERVICES MR66 (1)', 'v600b': 'MP CONSTIT SERVICES MR66 (2)', 'v895': 'REGION FATHER FROM  1963', 'v899': 'REGION MOTHER FROM  1963', 'v902': 'R LIVED IN CHILDHOOD', 'v903': 'REGION R LIVED (CHILD)', 'v904a': 'CNTYS R LIVED (CHILD) (1)', 'v904b': 'CNTYS R LIVED (CHILD) (2)', 'v905': 'SIZE OF PLACE R LIVED 64', 'v906': 'WHERE R HAS LIVED', 'v907': 'REGIONS R HAS LIVED 1963', 'v908a': 'R LIVED SINCE CHILD MR66 (1)', 'v908b': 'R LIVED SINCE CHILD MR66 (2)', 'v911': 'YRS R LIVED IN AREA', 'v912': 'YRS R LIVED IN HOUSE  63', 'v913': 'YRS R LIVED IN HOUSE  64', 'v914': 'YRS R LIVED IN HOUSE  70'}\n",
      "1959\n",
      "{'v31': 'CONSTITUENCY NUMBER 1963', 'v32': 'CONSTITUENCY NUMBER 1964', 'v33': 'CONSTITUENCY NUMBER 1966', 'v34': 'CONSTITUENCY NUMBER 1970', 'v35': 'REGION              1963', 'v36': 'REGION              1964', 'v37': 'REGION              1966', 'v38': 'REGION              1970', 'v39': 'TYPE OF CONSTITUENCY  63', 'v40': 'TYPE OF CONSTITUENCY  64', 'v41': 'TYPE OF CONSTITUENCY  66', 'v42': 'TYPE OF CONSTITUENCY  70', 'v384': 'LIB VOTE-NO CONST WIN 64', 'v385': 'LIB VOTE-NO CONST WIN 66', 'v386': 'LIB VOTE-NO CONST WIN 70', 'v430': 'EXPECTED CONSTIT WIN  63', 'v431': 'EXPECTED CONSTIT WIN  64', 'v432': 'EXPECTED CONSTIT WIN  66', 'v433': 'EXPECTED CONSTIT WIN  70', 'v434': 'HOW CLOSE IN CONSTIT  70', 'v435': 'LIB CHANCE IN CONSTIT 63', 'v436': 'LIB CHANCE IN CONSTIT 64', 'v437': 'LIB CHANCE IN CONSTIT 66', 'v438': 'LIB CHANCE IN CONSTIT 70', 'v530': 'VOTE-CONSTANT VOTERS  63', 'v597': 'MP DONE FOR CONSTIT 1963', 'v598': 'MP DONE FOR CONSTIT 1966', 'v599a': 'MP CONSTIT SERVICES MR63 (1)', 'v599b': 'MP CONSTIT SERVICES MR63 (2)', 'v600a': 'MP CONSTIT SERVICES MR66 (1)', 'v600b': 'MP CONSTIT SERVICES MR66 (2)', 'v895': 'REGION FATHER FROM  1963', 'v899': 'REGION MOTHER FROM  1963', 'v902': 'R LIVED IN CHILDHOOD', 'v903': 'REGION R LIVED (CHILD)', 'v904a': 'CNTYS R LIVED (CHILD) (1)', 'v904b': 'CNTYS R LIVED (CHILD) (2)', 'v905': 'SIZE OF PLACE R LIVED 64', 'v906': 'WHERE R HAS LIVED', 'v907': 'REGIONS R HAS LIVED 1963', 'v908a': 'R LIVED SINCE CHILD MR66 (1)', 'v908b': 'R LIVED SINCE CHILD MR66 (2)', 'v911': 'YRS R LIVED IN AREA', 'v912': 'YRS R LIVED IN HOUSE  63', 'v913': 'YRS R LIVED IN HOUSE  64', 'v914': 'YRS R LIVED IN HOUSE  70'}\n"
     ]
    }
   ],
   "source": [
    "for ge in f2f_harmonised[\"dataset\"].unique():\n",
    "    print(ge)\n",
    "    print( {k:v for k,v in BES_label_list[ge].items() if re.search(\"region|constituency|^reg|const|area|(\\s|^)geo|lived\",v.lower())} )"
   ]
  },
  {
   "cell_type": "code",
   "execution_count": 228,
   "id": "edadcc07",
   "metadata": {},
   "outputs": [
    {
     "data": {
      "text/plain": [
       "count    2462.000000\n",
       "mean      401.926076\n",
       "std       301.147566\n",
       "min         1.000000\n",
       "25%       105.000000\n",
       "50%       502.000000\n",
       "75%       621.000000\n",
       "max       919.000000\n",
       "Name: feb145, dtype: float64"
      ]
     },
     "execution_count": 228,
     "metadata": {},
     "output_type": "execute_result"
    }
   ],
   "source": [
    "BES_df_list[\"1974_feb\"][\"feb145\"].apply(lambda x: x.replace(\"&\",\"\")).astype(int).value_counts(dropna=False)\n",
    "# 182 diff vals\n",
    "BES_df_list[\"1974_feb\"][\"feb145\"].apply(lambda x: x.replace(\"&\",\"\")).astype(int).describe()"
   ]
  },
  {
   "cell_type": "code",
   "execution_count": 222,
   "id": "a9714504",
   "metadata": {},
   "outputs": [
    {
     "data": {
      "text/plain": [
       "NaN      1567\n",
       "14.0       27\n",
       "63.0       25\n",
       "49.0       25\n",
       "55.0       24\n",
       "         ... \n",
       "112.0       1\n",
       "141.0       1\n",
       "173.0       1\n",
       "177.0       1\n",
       "149.0       1\n",
       "Name: v34, Length: 136, dtype: int64"
      ]
     },
     "execution_count": 222,
     "metadata": {},
     "output_type": "execute_result"
    }
   ],
   "source": [
    "BES_df_list[\"1970\"][\"v34\"].value_counts(dropna=False)"
   ]
  },
  {
   "cell_type": "code",
   "execution_count": null,
   "id": "5e73a0d4",
   "metadata": {},
   "outputs": [],
   "source": [
    "# ** Region\n",
    "    # region mother/father from\n",
    "    # region grew up/lived in previously\n",
    "# ** Constituency \n",
    "# ** Type of Constituency\n",
    "# ** "
   ]
  },
  {
   "cell_type": "code",
   "execution_count": null,
   "id": "58bce55f",
   "metadata": {},
   "outputs": [],
   "source": [
    "# Where were you born? v890\n",
    "# 1. Scotland\n",
    "# 2. Wales\n",
    "# 3. Northern England\n",
    "# 4. Midlands and East England\n",
    "# 5. South West England\n",
    "# 6. London and South East England\n",
    "# 7. Ulster\n",
    "# 8. Overseas\n",
    "# 9. DK\n",
    "# 0. NA\n",
    "\n",
    "# Where were you born - expanded v891\n",
    "# Father's region of origin - expanded v896\n",
    "# Father's region of origin - expanded v900\n",
    "# region lived as a child - expanded v904\n",
    "# region lived since childhood *before present* - expanded v908\n",
    "# Note 11 - quite detailed\n",
    "\n",
    "# Father's region of origin v895\n",
    "# Mother's region of origin v899\n",
    "# region lived as a child v903\n",
    "# region lived since childhood *before present region* v907 (9 becomes \"MOVED AROUND\",  DK -> 0, LIVED ONLY IN PRESENT REGION ->0)"
   ]
  },
  {
   "cell_type": "code",
   "execution_count": null,
   "id": "45a4c044",
   "metadata": {},
   "outputs": [],
   "source": [
    "# # Size of place of birth v892\n",
    "# 1. Connurbation - London, Manchester, Birmingham, Glasgow, Liverpool, West Yorkshire (leeds/sheffield/etc), Edinburgh, Tyneside\n",
    "# 2. Large Town - pop >150k\n",
    "# 3. Medium sized town - pop 50-150k\n",
    "# 4. Smaller town - pop 25-50k\n",
    "# 5. Smallest town - pop 5-25k\n",
    "# 6. Rural area or village - pop<5k\n",
    "# 9. resp not interviewed\n",
    "# 0. dk/na/not interviewed\n",
    "\n",
    "# # Size of father's place of birth v897\n",
    "# # Size of mother's place of birth v901\n",
    "# # Size of place lived as a child v905"
   ]
  },
  {
   "cell_type": "code",
   "execution_count": null,
   "id": "f993fb4b",
   "metadata": {},
   "outputs": [],
   "source": [
    "# # Parent's Birthplace v893\n",
    "# 1. Both always there\n",
    "# 2. One always there\n",
    "# 3. Neither there\n",
    "# 8 resp not int, 9 dk, 0 na"
   ]
  },
  {
   "cell_type": "code",
   "execution_count": null,
   "id": "dc99e5eb",
   "metadata": {},
   "outputs": [],
   "source": [
    "# # Where exactly did r's parents come from?\n",
    "# Father v894, Mother v898, You in your childhood v902,\n",
    "# you since childhood v906, you right now v909\n",
    "# 1. In same town/village\n",
    "# 2. In diff town/village but same county\n",
    "# 3. Diff county, same region\n",
    "# 4. Diff region\n",
    "# 8 resp not int/9 dk/0 na"
   ]
  },
  {
   "cell_type": "code",
   "execution_count": null,
   "id": "347f37c2",
   "metadata": {},
   "outputs": [],
   "source": [
    "# # Residential mobility v910\n",
    "# 1.HAS ALWAYS LIVED IN SAME TOWN OR VILLAGE AS WAS BORN AND WHERE BOTH PARENTS BROUGHT UP\n",
    "# 2.HAS ALWAYS LIVED IN SAME TOWN OR VILLAGE AS WAS BORN\n",
    "# 3.HAS ALWAYS LIVED IN SAME TOWN OR VILLAGE AS LIVED AS CHILD\n",
    "# 4.HAS ALWAYS LIVED IN SAME COUNTY AS LIVED AS A CHILD\n",
    "# 5.HAS ALWAYS LIVED IN SAME REGION AS LIVED AS A CHILD\n",
    "# 6.HAS LIVED IN DIFFERENT REGIONS\n",
    "# 9 RESP NOT INT,0 NA;RESP NOT INT"
   ]
  },
  {
   "cell_type": "code",
   "execution_count": null,
   "id": "5f4e8ed5",
   "metadata": {},
   "outputs": [],
   "source": [
    "# YEARS LIVED IN AREA v911\n",
    "# YEARS R LIVED IN HOUSE 63 v912\n",
    "# YEARS R LIVED IN HOUSE 64 v913\n",
    "# YEARS R LIVED IN HOUSE 69 v914\n",
    "# 1 0-2 YEARS\n",
    "# 2 3-5 YEARS\n",
    "# 3 6-10 YEARS\n",
    "# 4 11-20 YEARS\n",
    "# 5 21-30 YEARS\n",
    "# 6 31+ YEARS\n",
    "# 7 SHORT BUT UNSPECIFIED\n",
    "# 8 HAVE ALWAYS LIVED HERE, AS LONG AS I CAN REMEMBER\n",
    "# 9 DK, 0 NA"
   ]
  },
  {
   "cell_type": "code",
   "execution_count": null,
   "id": "d8fd21b4",
   "metadata": {},
   "outputs": [],
   "source": [
    "# EXPECT TO MOVE NEXT YEAR OR TWO v918\n",
    "# 1 YES\n",
    "# 5 NO\n",
    "# 8 RESP NOT INTERVIEWED, 9 DK, 0 NA"
   ]
  },
  {
   "cell_type": "code",
   "execution_count": null,
   "id": "3c7991b3",
   "metadata": {},
   "outputs": [],
   "source": [
    "# WHERE MOVING TO v919\n",
    "# 1 SPEC ADDRESS GIVEN\n",
    "# 2 SPEC ADDRESS NOT GIVEN, BUT IN SAME TOWN OR LOCALITY\n",
    "# 3 SPEC ADDRESS NOT GIVEN, AND MOVING TO ANOTHER AREA\n",
    "# 4 DESCR OF SORT OF PLACE DESIRED BUT WITHOUT REF TO ANY SPECIFIC AREA\n",
    "# 5 EMIGRATION\n",
    "# 8 OTHER, 9 DK, 0 NA/INAP (ANYTHING BUT 1 ON LAST QUES)"
   ]
  },
  {
   "cell_type": "code",
   "execution_count": 219,
   "id": "fe213264",
   "metadata": {},
   "outputs": [
    {
     "data": {
      "text/plain": [
       "count    1828.000000\n",
       "mean       40.739606\n",
       "std        22.778076\n",
       "min         1.000000\n",
       "25%        21.000000\n",
       "50%        41.000000\n",
       "75%        60.000000\n",
       "max        99.000000\n",
       "Name: v32, dtype: float64"
      ]
     },
     "execution_count": 219,
     "metadata": {},
     "output_type": "execute_result"
    }
   ],
   "source": [
    "BES_df_list[\"1970\"][\"v32\"].describe()"
   ]
  },
  {
   "cell_type": "code",
   "execution_count": 5,
   "id": "cfea242c",
   "metadata": {},
   "outputs": [
    {
     "data": {
      "text/plain": [
       "0.0    913\n",
       "6.0    609\n",
       "3.0    576\n",
       "4.0    414\n",
       "1.0    194\n",
       "5.0    117\n",
       "2.0     99\n",
       "Name: v35, dtype: int64"
      ]
     },
     "execution_count": 5,
     "metadata": {},
     "output_type": "execute_result"
    }
   ],
   "source": [
    "BES_df_list[ge][\"v35\"].value_counts(dropna=False)\n",
    "\n",
    "# ** Region\n",
    "\n",
    "# 1. SCOTLAND\n",
    "# 2. WALES (inc Monmouthshire)\n",
    "# 3. NORTHERN ENGLAND (Cheshire, Cumberland, Durham, Lancashire, Northumberland, Westmorland, Yorkshire)\n",
    "# 4. MIDLANDS AND EASTERN ENGLAND (Bedfordshire, Cambridgeshire, Derbyshire, Herefordshire, Huntingdonshire, Isle of Ely, Leicestershire, Lincolnshire, Norfolk, Northamptonshire, Nottinghamshire, Shropshire, Oxfordshire, Staffordshire, Suffolk, Warwickshire, Worcestershire)\n",
    "# 5. SOUTHWESTERN ENGLAND (Cornwall, Devonshire, Gloucestershire, Somerset, Wiltshire)\n",
    "# 6. LONDON AND SOUTHEASTERN ENGLAND (Berkshire, Buckinghamshire, Dorset, Essex, Hampshire, Hertfordshire, Isle of Wight, Kent, London, Middlesex, Surrey, Sussex)\n",
    "# 0. RESP NOT INTERVIEWED IN 63\n",
    "\n"
   ]
  },
  {
   "cell_type": "code",
   "execution_count": 6,
   "id": "3aa9d9fb",
   "metadata": {},
   "outputs": [
    {
     "data": {
      "text/plain": [
       "1.0    1049\n",
       "0.0     913\n",
       "4.0     471\n",
       "3.0     412\n",
       "2.0      77\n",
       "Name: v39, dtype: int64"
      ]
     },
     "execution_count": 6,
     "metadata": {},
     "output_type": "execute_result"
    }
   ],
   "source": [
    "# ** Type of Constituency\n",
    "\n",
    "# 1. BOROUGHS, TYPE A (Single-Stage Random Sample)\n",
    "# 2. COUNTIES, TYPE A\n",
    "# 3. COUNTIES, TYPE B (Core area represented by unclustered random sample, outlying area represented by sample clustered in one polling district)\n",
    "# 4. COUNTIES, TYPE C (Represented by sample clustered in two polling districts)\n",
    "# 5. SUPPLEMENTARY CONSTITUENCIES (into which respondents have moved. not chosen as original sampling points)\n",
    "# 0. RESP NOT INTERVIEWED IN 63\n",
    "\n",
    "BES_df_list[ge][\"v39\"].value_counts(dropna=False)"
   ]
  },
  {
   "cell_type": "code",
   "execution_count": null,
   "id": "761d1bd5",
   "metadata": {},
   "outputs": [],
   "source": [
    "## 74_feb 'feb071'\n",
    "## 74_oct 'oct071'\n",
    "# region\n",
    "\n",
    "# 1 North\n",
    "# 2 Yorkshire-Humberside\n",
    "# 3 East Midlands\n",
    "# 4 East Anglia\n",
    "# 5 South East\n",
    "# 6 Greater London\n",
    "# 7 South West\n",
    "# 8 Wales\n",
    "# 9 West Midlands\n",
    "# 10 North West\n",
    "# 12 Scotland"
   ]
  },
  {
   "cell_type": "code",
   "execution_count": null,
   "id": "4ff6ee4b",
   "metadata": {},
   "outputs": [],
   "source": [
    "## 74_feb 'feb190'\n",
    "## place grew up in \n",
    "# 1 City\n",
    "# 2 Town\n",
    "# 3 Village\n",
    "# 4 Country\n",
    "# 5 More than one\n",
    "# 8 DK\n",
    "# 0 NA"
   ]
  },
  {
   "cell_type": "code",
   "execution_count": null,
   "id": "c1e2cc4b",
   "metadata": {},
   "outputs": [],
   "source": [
    "## 74_feb 'feb214'\n",
    "## Expect to move\n",
    "# 1 Yes\n",
    "# 2 No\n",
    "# 8 DK/ambiguous\n",
    "# 0 NA"
   ]
  },
  {
   "cell_type": "code",
   "execution_count": null,
   "id": "cf7b29e8",
   "metadata": {},
   "outputs": [],
   "source": [
    "## 74_oct 'oct251'\n",
    "## Area grew up in\n",
    "# 1 North\n",
    "# 2 Yorkshire-Humberside\n",
    "# 3 East Midlands\n",
    "# 4 East Anglia\n",
    "# 5 South East\n",
    "# 6 Greater London\n",
    "# 7 South West\n",
    "# 8 Wales\n",
    "# 9 West Midlands\n",
    "# 10 North West\n",
    "# 12 Scotland\n",
    "# 13 Ireland\n",
    "# 21 White Commonwealth\n",
    "# 22 New Commonwealth\n",
    "# 23 Other country\n",
    "# 0 NA"
   ]
  },
  {
   "cell_type": "code",
   "execution_count": null,
   "id": "b3d0d436",
   "metadata": {},
   "outputs": [],
   "source": [
    "## 74_oct 'oct250'\n",
    "## Previous location\n",
    "# 1 Same village or town\n",
    "# 2 Same city or county\n",
    "# 3 Same region\n",
    "# 4 Elsewhere in Britain\n",
    "# 5 Abroad\n",
    "# 0 NA"
   ]
  },
  {
   "cell_type": "code",
   "execution_count": null,
   "id": "65ebfde4",
   "metadata": {},
   "outputs": [],
   "source": [
    "## 74_oct 'oct249'\n",
    "## Length of residence\n",
    "# No yrs\n",
    "# 85: 85+ yrs\n",
    "# 88: DK\n",
    "# 0:  NA"
   ]
  },
  {
   "cell_type": "code",
   "execution_count": null,
   "id": "2e9db797",
   "metadata": {},
   "outputs": [],
   "source": [
    "## 79 'm249283'\n",
    "# how long have you lived in this area\n",
    "# no of years\n",
    "# 888 missing data"
   ]
  },
  {
   "cell_type": "code",
   "execution_count": 29,
   "id": "475d7bf1",
   "metadata": {},
   "outputs": [
    {
     "data": {
      "text/plain": [
       "count    1893.000000\n",
       "mean      432.076070\n",
       "std       297.918921\n",
       "min         1.000000\n",
       "25%       112.000000\n",
       "50%       507.000000\n",
       "75%       625.000000\n",
       "max       919.000000\n",
       "Name: m001001a, dtype: float64"
      ]
     },
     "execution_count": 29,
     "metadata": {},
     "output_type": "execute_result"
    }
   ],
   "source": [
    "BES_df_list[\"1979\"][\"m001001a\"].apply(lambda x: x.replace(\"&\",\"\")).astype(int).describe()"
   ]
  },
  {
   "cell_type": "code",
   "execution_count": 140,
   "id": "29503df5",
   "metadata": {},
   "outputs": [
    {
     "data": {
      "text/plain": [
       "south east              374\n",
       "greater london          214\n",
       "west midlands           202\n",
       "northwest               199\n",
       "yorkshire & humbersd    188\n",
       "scotland                149\n",
       "southwest               146\n",
       "northern                126\n",
       "east midlands           126\n",
       "wales                   103\n",
       "east anglia              66\n",
       "Name: m071300, dtype: int64"
      ]
     },
     "execution_count": 140,
     "metadata": {},
     "output_type": "execute_result"
    }
   ],
   "source": [
    "BES_df_list[\"1979\"][\"m071300\"].value_counts(dropna=False)\n",
    "# 1 NORTHERN\n",
    "# 2 YORKSHIRE & HUMBERSD\n",
    "# 3 EAST MIDLANDS\n",
    "# 4 EAST ANGLIA\n",
    "# 5 SOUTH EAST\n",
    "# 6 GREATER LONDON\n",
    "# 7 SOUTHWEST\n",
    "# 8 WALES\n",
    "# 9 WEST MIDLANDS\n",
    "# 10 NORTHWEST\n",
    "# 12 SCOTLAND"
   ]
  },
  {
   "cell_type": "code",
   "execution_count": 14,
   "id": "d9ae1869",
   "metadata": {},
   "outputs": [
    {
     "data": {
      "text/plain": [
       "south east              253\n",
       "greater london          230\n",
       "yorkshire-humberside    189\n",
       "north west              188\n",
       "west midlands           183\n",
       "scotland                170\n",
       "north                   138\n",
       "south west              127\n",
       "wales                   111\n",
       "east midlands           107\n",
       "east anglia              45\n",
       "asia & africa new co     45\n",
       "eire                     23\n",
       "other developed coun     19\n",
       "n. ireland               13\n",
       "new commonwealth         13\n",
       "white commonwealth        6\n",
       "other 3rd world coun      4\n",
       "unclassifiable            2\n",
       "Name: m251316, dtype: int64"
      ]
     },
     "execution_count": 14,
     "metadata": {},
     "output_type": "execute_result"
    }
   ],
   "source": [
    "BES_df_list[\"1979\"][\"m251316\"].value_counts()"
   ]
  },
  {
   "cell_type": "code",
   "execution_count": 24,
   "id": "85ec7094",
   "metadata": {},
   "outputs": [
    {
     "data": {
      "text/plain": [
       "count    3955.000000\n",
       "mean      475.948673\n",
       "std       296.458773\n",
       "min         1.000000\n",
       "25%       209.000000\n",
       "50%       414.000000\n",
       "75%       812.000000\n",
       "max       931.000000\n",
       "Name: areano, dtype: float64"
      ]
     },
     "execution_count": 24,
     "metadata": {},
     "output_type": "execute_result"
    }
   ],
   "source": [
    "# 1983\n",
    "# {'areano': 'area number', 'pano': 'pa constituency number', 'region': 'standard region [post-1974 def.]'}\n",
    "BES_df_list[\"1983\"]['areano'].describe()\n",
    "## old constituency numbering"
   ]
  },
  {
   "cell_type": "code",
   "execution_count": 25,
   "id": "2265996c",
   "metadata": {},
   "outputs": [
    {
     "data": {
      "text/plain": [
       "count    3955.000000\n",
       "mean      343.319848\n",
       "std       180.757566\n",
       "min         8.000000\n",
       "25%       189.000000\n",
       "50%       359.000000\n",
       "75%       493.000000\n",
       "max       650.000000\n",
       "Name: pano, dtype: float64"
      ]
     },
     "execution_count": 25,
     "metadata": {},
     "output_type": "execute_result"
    }
   ],
   "source": [
    "BES_df_list[\"1983\"]['pano'].describe()\n",
    "## new constituency number"
   ]
  },
  {
   "cell_type": "code",
   "execution_count": 31,
   "id": "140d3197",
   "metadata": {},
   "outputs": [
    {
     "data": {
      "text/plain": [
       "south east        708\n",
       "north west        513\n",
       "greater london    420\n",
       "scotland          402\n",
       "west midlands     386\n",
       "yorks & humber    371\n",
       "east midlands     288\n",
       "south west        285\n",
       "north             229\n",
       "wales             212\n",
       "east anglia       141\n",
       "Name: region, dtype: int64"
      ]
     },
     "execution_count": 31,
     "metadata": {},
     "output_type": "execute_result"
    }
   ],
   "source": [
    "BES_df_list[\"1983\"]['region'].value_counts()"
   ]
  },
  {
   "cell_type": "code",
   "execution_count": 32,
   "id": "a86a7ffd",
   "metadata": {},
   "outputs": [
    {
     "data": {
      "text/plain": [
       "non-mover            3441\n",
       "reissued              341\n",
       "local mover           124\n",
       "reallocated mover      49\n",
       "Name: mover, dtype: int64"
      ]
     },
     "execution_count": 32,
     "metadata": {},
     "output_type": "execute_result"
    }
   ],
   "source": [
    "BES_df_list[\"1983\"]['mover'].value_counts()\n",
    "\n",
    "# sampling - if people move address, they try to find them (and maybe reallocate their region)"
   ]
  },
  {
   "cell_type": "code",
   "execution_count": null,
   "id": "63bf59fb",
   "metadata": {},
   "outputs": [],
   "source": [
    "# 1987\n",
    "# {'scprarea': 'area number', 'pano': 'pa constituency no', 'v10a': 'party thought would win constituency',\n",
    "#  'v43k': 'gone too far: new houses in country areas', 'v122c1': 'geog. proximity of person most discussed politics',\n",
    "#  'v122c2': 'geog. proximity of person 2nd discussed politics'}"
   ]
  },
  {
   "cell_type": "code",
   "execution_count": 138,
   "id": "ade3df2f",
   "metadata": {},
   "outputs": [],
   "source": [
    "def area_to_region(x):\n",
    "    if x>=115 and x<=137:\n",
    "        return \"Scotland\"\n",
    "    if x>=101 and x<=114:\n",
    "        return \"North\"    \n",
    "    if x>=201 and x<=229:\n",
    "        return \"North West\"    \n",
    "    if x>=301 and x<=322:\n",
    "        return \"Yorks/Humbs\"    \n",
    "    if x>=401 and x<=424:\n",
    "        return \"West Mids\"    \n",
    "    if x>=501 and x<=518:\n",
    "        return \"East Mids\"    \n",
    "    if x>=601 and x<=609:\n",
    "        return \"East Anglia\"    \n",
    "    if x>=701 and x<=720:\n",
    "        return \"South West\"    \n",
    "    if x>=801 and x<=848:\n",
    "        return \"South East\"    \n",
    "    if x>=902 and x<=931:\n",
    "        return \"Greater London\"    \n",
    "    if x>=1 and x<=13:\n",
    "        return \"Wales\"    \n",
    "        "
   ]
  },
  {
   "cell_type": "code",
   "execution_count": 139,
   "id": "9cd92e37",
   "metadata": {},
   "outputs": [
    {
     "data": {
      "text/plain": [
       "South East        707\n",
       "North West        433\n",
       "Greater London    386\n",
       "West Mids         368\n",
       "Scotland          366\n",
       "South West        346\n",
       "Yorks/Humbs       329\n",
       "East Mids         281\n",
       "North             252\n",
       "Wales             214\n",
       "East Anglia       144\n",
       "Name: scprarea, dtype: int64"
      ]
     },
     "execution_count": 139,
     "metadata": {},
     "output_type": "execute_result"
    }
   ],
   "source": [
    "BES_df_list[\"1987\"]['scprarea'].apply(area_to_region).value_counts()"
   ]
  },
  {
   "cell_type": "code",
   "execution_count": 48,
   "id": "42cd9e8c",
   "metadata": {},
   "outputs": [
    {
     "data": {
      "text/plain": [
       "606.0    22\n",
       "707.0    22\n",
       "604.0    22\n",
       "128.0    22\n",
       "106.0    22\n",
       "         ..\n",
       "134.0     8\n",
       "218.0     8\n",
       "912.0     7\n",
       "401.0     7\n",
       "835.0     5\n",
       "Name: scprarea, Length: 250, dtype: int64"
      ]
     },
     "execution_count": 48,
     "metadata": {},
     "output_type": "execute_result"
    }
   ],
   "source": [
    "BES_df_list[\"1987\"]['scprarea'].value_counts()\n",
    "Area Codes Serial Nos\n",
    "Scotland 115-137 5449-6000\n",
    "North 101-114 0001-0336\n",
    "North West 201-229 0337-1032\n",
    "Yorks/Humbs 301-322 1033-1560\n",
    "West Mids 401-424 1561-2136\n",
    "East Mids 501-518 2137-2568\n",
    "East Anglia 601-609 2569-2784\n",
    "South West 701-720 2785-3264\n",
    "South East 801-848 3265-4416\n",
    "Greater London 902-931 4417-5136\n",
    "Wales 001-013 5137-5448\n",
    "\n",
    "## this may explain why serial nos sometimes appear as regressors!"
   ]
  },
  {
   "cell_type": "code",
   "execution_count": 49,
   "id": "220354a9",
   "metadata": {},
   "outputs": [
    {
     "data": {
      "text/plain": [
       "blyth valley      22\n",
       "cambs ne          22\n",
       "gloucs west       22\n",
       "edin pentlands    22\n",
       "mid norfolk       22\n",
       "                  ..\n",
       "epsom & ewell      8\n",
       "hendon north       8\n",
       "barking            7\n",
       "mid worcs          7\n",
       "portsmouth s       5\n",
       "Name: pano, Length: 250, dtype: int64"
      ]
     },
     "execution_count": 49,
     "metadata": {},
     "output_type": "execute_result"
    }
   ],
   "source": [
    "BES_df_list[\"1987\"]['pano'].value_counts()"
   ]
  },
  {
   "cell_type": "code",
   "execution_count": 51,
   "id": "8b4f627b",
   "metadata": {},
   "outputs": [
    {
     "data": {
      "text/plain": [
       "372.0    22\n",
       "137.0    22\n",
       "612.0    22\n",
       "138.0    22\n",
       "17.0     22\n",
       "         ..\n",
       "193.0     8\n",
       "627.0     8\n",
       "153.0     7\n",
       "401.0     7\n",
       "338.0     5\n",
       "Name: opcsno, Length: 250, dtype: int64"
      ]
     },
     "execution_count": 51,
     "metadata": {},
     "output_type": "execute_result"
    }
   ],
   "source": [
    "BES_df_list[\"1987\"]['opcsno'].value_counts()\n",
    "# OPCS constituency number for addresses initially sampled"
   ]
  },
  {
   "cell_type": "code",
   "execution_count": 52,
   "id": "45b74e37",
   "metadata": {},
   "outputs": [
    {
     "data": {
      "text/plain": [
       "1.0    281\n",
       "Name: mover, dtype: int64"
      ]
     },
     "execution_count": 52,
     "metadata": {},
     "output_type": "execute_result"
    }
   ],
   "source": [
    "BES_df_list[\"1987\"]['mover'].value_counts()"
   ]
  },
  {
   "cell_type": "code",
   "execution_count": null,
   "id": "90557eb8",
   "metadata": {},
   "outputs": [],
   "source": [
    "# 1992\n",
    "# {'arfc': 'field area (first coding)            arfc', 'arfe': \"registrar general's standard region arfe\",\n",
    "#  'arff': 'opcs constitituency no.                   arff', 'arfg': 'old opcs constituency no.                 arfg',\n",
    "#  'arfh': 'pa constitituency no.                     arfh', 'arfi': 'old pa constitituency no.                 arfi',\n",
    "#  'area': 'constituency of sample point', 'v54a': 'this area compared to other parts of gb?   q54a',\n",
    "#  'v202b': 'reg.constituency meetings:mp should q202b', 'fmingrp': \"f's r.g.constituent minor groups      dv\",\n",
    "#  'rmingrp': \"r's r.g.constituent minor groups      dv\", 'smingrp': 'spouse:r.g.constt minor group [if marr] dv'}"
   ]
  },
  {
   "cell_type": "code",
   "execution_count": 54,
   "id": "8ee6a5e3",
   "metadata": {},
   "outputs": [
    {
     "data": {
      "text/plain": [
       "1.0    957\n",
       "4.0    458\n",
       "7.0    430\n",
       "3.0    427\n",
       "9.0    408\n",
       "2.0    351\n",
       "8.0    335\n",
       "6.0    168\n",
       "Name: arfc, dtype: int64"
      ]
     },
     "execution_count": 54,
     "metadata": {},
     "output_type": "execute_result"
    }
   ],
   "source": [
    "BES_df_list[\"1992\"][\"arfc\"].value_counts()\n",
    "# SCPR Field Area"
   ]
  },
  {
   "cell_type": "code",
   "execution_count": 135,
   "id": "d8770209",
   "metadata": {},
   "outputs": [
    {
     "data": {
      "text/plain": [
       "scotland              957\n",
       "south east england    534\n",
       "greater london        303\n",
       "north west            296\n",
       "west midlands         293\n",
       "yorks+humberside      267\n",
       "south west england    250\n",
       "east midlands         214\n",
       "north                 177\n",
       "wales                 149\n",
       "east anglia            94\n",
       "Name: arfe, dtype: int64"
      ]
     },
     "execution_count": 135,
     "metadata": {},
     "output_type": "execute_result"
    }
   ],
   "source": [
    "BES_df_list[\"1992\"][\"arfe\"].value_counts(dropna=False)\n",
    "# Registrar General's Standard Region"
   ]
  },
  {
   "cell_type": "code",
   "execution_count": 56,
   "id": "ae5f791b",
   "metadata": {},
   "outputs": [
    {
     "data": {
      "text/plain": [
       "warley west             32\n",
       "hazel grove             22\n",
       "n.durham                22\n",
       "bristol n.w.            22\n",
       "rugby&kenilworth        22\n",
       "                        ..\n",
       "southend east            9\n",
       "southwark&bermondsey     9\n",
       "gravesham                8\n",
       "lewisham deptford        7\n",
       "n.thanet                 6\n",
       "Name: arff, Length: 158, dtype: int64"
      ]
     },
     "execution_count": 56,
     "metadata": {},
     "output_type": "execute_result"
    }
   ],
   "source": [
    "BES_df_list[\"1992\"][\"arff\"].value_counts()\n",
    "# OPCS Constituency Number"
   ]
  },
  {
   "cell_type": "code",
   "execution_count": 57,
   "id": "f2fd1cae",
   "metadata": {},
   "outputs": [
    {
     "data": {
      "text/plain": [
       "bristol north west    22\n",
       "clydesdale            22\n",
       "rugby&kenilworth      22\n",
       "hazel grove           22\n",
       "north durham          22\n",
       "                      ..\n",
       "southend east          9\n",
       "ayr                    8\n",
       "gravesham              8\n",
       "lewisham deptford      7\n",
       "north thanet           6\n",
       "Name: arfg, Length: 218, dtype: int64"
      ]
     },
     "execution_count": 57,
     "metadata": {},
     "output_type": "execute_result"
    }
   ],
   "source": [
    "BES_df_list[\"1992\"][\"arfg\"].value_counts()\n",
    "# Old OPCS Constituency Number"
   ]
  },
  {
   "cell_type": "code",
   "execution_count": 58,
   "id": "eec0e961",
   "metadata": {},
   "outputs": [
    {
     "data": {
      "text/plain": [
       "hazel grove     22\n",
       "rugby           22\n",
       "carrick         22\n",
       "bristol nw      22\n",
       "durham north    22\n",
       "                ..\n",
       "bermondsey       9\n",
       "ayr              8\n",
       "gravesham        8\n",
       "deptford         7\n",
       "thanet north     6\n",
       "Name: arfh, Length: 218, dtype: int64"
      ]
     },
     "execution_count": 58,
     "metadata": {},
     "output_type": "execute_result"
    }
   ],
   "source": [
    "BES_df_list[\"1992\"][\"arfh\"].value_counts()\n",
    "# press association constituency number"
   ]
  },
  {
   "cell_type": "code",
   "execution_count": 59,
   "id": "2453317d",
   "metadata": {},
   "outputs": [
    {
     "data": {
      "text/plain": [
       "hazel grove     22\n",
       "rugby           22\n",
       "carrick         22\n",
       "bristol nw      22\n",
       "durham north    22\n",
       "                ..\n",
       "bermondsey       9\n",
       "ayr              8\n",
       "gravesham        8\n",
       "deptford         7\n",
       "thanet north     6\n",
       "Name: arfi, Length: 218, dtype: int64"
      ]
     },
     "execution_count": 59,
     "metadata": {},
     "output_type": "execute_result"
    }
   ],
   "source": [
    "BES_df_list[\"1992\"][\"arfi\"].value_counts()\n",
    "# old press association constituency number"
   ]
  },
  {
   "cell_type": "code",
   "execution_count": 60,
   "id": "6b668069",
   "metadata": {},
   "outputs": [
    {
     "data": {
      "text/plain": [
       "resp moved once    82\n",
       "Name: arf12c, dtype: int64"
      ]
     },
     "execution_count": 60,
     "metadata": {},
     "output_type": "execute_result"
    }
   ],
   "source": [
    "BES_df_list[\"1992\"][\"arf12c\"].value_counts()\n",
    "# moved?"
   ]
  },
  {
   "cell_type": "code",
   "execution_count": 61,
   "id": "54576770",
   "metadata": {},
   "outputs": [
    {
     "data": {
      "text/plain": [
       "north durham        22\n",
       "carrick.cum.doon    22\n",
       "clydesdale          22\n",
       "rugby kenil         22\n",
       "bristol n.w.        22\n",
       "                    ..\n",
       "paisley north        9\n",
       "gravesham            8\n",
       "ayr                  8\n",
       "lewisham dept.       7\n",
       "north thanet         6\n",
       "Name: area, Length: 218, dtype: int64"
      ]
     },
     "execution_count": 61,
     "metadata": {},
     "output_type": "execute_result"
    }
   ],
   "source": [
    "BES_df_list[\"1992\"][\"area\"].value_counts()\n",
    "# 'area'"
   ]
  },
  {
   "cell_type": "code",
   "execution_count": 62,
   "id": "5b6a6f1a",
   "metadata": {},
   "outputs": [
    {
     "data": {
      "text/plain": [
       "craghead      22\n",
       "drongan       22\n",
       "carmichael    22\n",
       "park hill     22\n",
       "horfield      22\n",
       "              ..\n",
       "gallowhill     9\n",
       "pelham         8\n",
       "craigie        8\n",
       "drake          7\n",
       "heron          6\n",
       "Name: ward, Length: 218, dtype: int64"
      ]
     },
     "execution_count": 62,
     "metadata": {},
     "output_type": "execute_result"
    }
   ],
   "source": [
    "BES_df_list[\"1992\"][\"ward\"].value_counts()"
   ]
  },
  {
   "cell_type": "code",
   "execution_count": 63,
   "id": "d9d25252",
   "metadata": {},
   "outputs": [
    {
     "data": {
      "text/plain": [
       "92.0     22\n",
       "160.0    22\n",
       "5.0      22\n",
       "163.0    22\n",
       "20.0     22\n",
       "         ..\n",
       "144.0     9\n",
       "194.0     8\n",
       "123.0     8\n",
       "147.0     7\n",
       "127.0     6\n",
       "Name: polldist, Length: 218, dtype: int64"
      ]
     },
     "execution_count": 63,
     "metadata": {},
     "output_type": "execute_result"
    }
   ],
   "source": [
    "BES_df_list[\"1992\"][\"polldist\"].value_counts()\n",
    "# polling district"
   ]
  },
  {
   "cell_type": "code",
   "execution_count": null,
   "id": "7ed092b1",
   "metadata": {},
   "outputs": [],
   "source": [
    "# 1997\n",
    "# {'stregion': 'standard region  dv',  'nghbrhd': 'how long have you lived in this neighbourhood? q956',\n",
    "#  'isspano': 'press association constituency number  ', 'issconst': 'parliamentary constituency census      ',\n",
    "#  'issconsn': '1997+ parliamentary constituency name  ', 'isscc': 'county/region ons code',\n",
    "#  'issccnam': 'county name/region name <a25>', 'o96pano': 'press association constituency no. [oct 96 add]',\n",
    "#  'o96const': '1997+parliamentary constituency   [oct96 add]', 'o96consn': '1997+ parliamentary constituency  [oct96 add]',\n",
    "#  'o96cc': 'county/region ons code      [oct96 add]', 'o96ccnam': 'county name/region name     [oct96 add]',\n",
    "#  'othpano': 'press association constituency no [other add]', 'othconst': '1997+ parliamentary constituency  [other add]',\n",
    "#  'othconsn': '1997+ parliamentary constituency  [other add] (diff format)', 'othcc': 'county/region ons code    [other add]',\n",
    "#  'othccnam': 'county name/region name  [other add]'}"
   ]
  },
  {
   "cell_type": "code",
   "execution_count": 64,
   "id": "d812982a",
   "metadata": {},
   "outputs": [
    {
     "data": {
      "text/plain": [
       "scotland              882\n",
       "south east england    586\n",
       "greater london        314\n",
       "west midlands         293\n",
       "yorks+humberside      261\n",
       "north west            258\n",
       "south west england    248\n",
       "east midlands         227\n",
       "north                 197\n",
       "wales                 182\n",
       "east anglia           167\n",
       "Name: stregion, dtype: int64"
      ]
     },
     "execution_count": 64,
     "metadata": {},
     "output_type": "execute_result"
    }
   ],
   "source": [
    "BES_df_list[\"1997\"][\"stregion\"].value_counts()"
   ]
  },
  {
   "cell_type": "code",
   "execution_count": 66,
   "id": "dcd4ee34",
   "metadata": {},
   "outputs": [
    {
     "data": {
      "text/plain": [
       "fife central              62\n",
       "cunninghame s             58\n",
       "watford                   58\n",
       "braintree                 53\n",
       "aberdeenshire w           50\n",
       "                          ..\n",
       "brentford &isle.           1\n",
       "brent east                 1\n",
       "tyne bridge                1\n",
       "newcastle north            1\n",
       "warrington north           1\n",
       "Name: isspano, Length: 218, dtype: int64"
      ]
     },
     "execution_count": 66,
     "metadata": {},
     "output_type": "execute_result"
    }
   ],
   "source": [
    "BES_df_list[\"1997\"][\"nghbrhd\"].value_counts()\n",
    "# 'how long have you lived in this neighbourhood? q956',\n",
    "# 98/99 dk/na"
   ]
  },
  {
   "cell_type": "code",
   "execution_count": 67,
   "id": "ab136307",
   "metadata": {},
   "outputs": [
    {
     "data": {
      "text/plain": [
       "fife central              62\n",
       "cunninghame s             58\n",
       "watford                   58\n",
       "braintree                 53\n",
       "aberdeenshire w           50\n",
       "                          ..\n",
       "brentford &isle.           1\n",
       "brent east                 1\n",
       "tyne bridge                1\n",
       "newcastle north            1\n",
       "warrington north           1\n",
       "Name: isspano, Length: 218, dtype: int64"
      ]
     },
     "execution_count": 67,
     "metadata": {},
     "output_type": "execute_result"
    }
   ],
   "source": [
    "BES_df_list[\"1997\"][\"isspano\"].value_counts()"
   ]
  },
  {
   "cell_type": "code",
   "execution_count": 69,
   "id": "086211c6",
   "metadata": {},
   "outputs": [
    {
     "data": {
      "text/plain": [
       "fife central              62\n",
       "cunninghame s             58\n",
       "watford                   58\n",
       "braintree                 53\n",
       "aberdeenshire w           50\n",
       "                          ..\n",
       "essex north                1\n",
       "hackney s &shor.           1\n",
       "brentford &isle.           1\n",
       "edin central               1\n",
       "brent east                 1\n",
       "Name: issconst, Length: 218, dtype: int64"
      ]
     },
     "execution_count": 69,
     "metadata": {},
     "output_type": "execute_result"
    }
   ],
   "source": [
    "BES_df_list[\"1997\"][\"issconst\"].value_counts()"
   ]
  },
  {
   "cell_type": "code",
   "execution_count": 68,
   "id": "23cff0d7",
   "metadata": {},
   "outputs": [
    {
     "data": {
      "text/plain": [
       "cunninghame s             3\n",
       "leeds east                3\n",
       "braintree                 3\n",
       "falkirk east              3\n",
       "loughborough              2\n",
       "                         ..\n",
       "gillingham                1\n",
       "essex north               1\n",
       "edin north&leith          1\n",
       "east lothian              1\n",
       "york, city of             1\n",
       "Name: othpano, Length: 122, dtype: int64"
      ]
     },
     "execution_count": 68,
     "metadata": {},
     "output_type": "execute_result"
    }
   ],
   "source": [
    "BES_df_list[\"1997\"][\"othpano\"].value_counts()"
   ]
  },
  {
   "cell_type": "code",
   "execution_count": null,
   "id": "0d2b4843",
   "metadata": {},
   "outputs": [],
   "source": [
    "# 2001\n",
    "# {'ref': 'standard pa constituency reference number', 'seatname': 'name of constituency', 'region': 'major census region (britain)',\n",
    "#  'seat': 'constituency', 'aregion': 'region coded from nop constituency', 'aconstit': 'constituency(2nd)',\n",
    "#  'constrev': 'corrected constituency codes (see value labels)', \n",
    "#  'tregion': 'region-top-up sample',\n",
    "#  'tconstit': 'constituency-top-up sample', 'tddcode': 'top-up census constituency codes',\n",
    "#  'tpacode': 'top-up press association constituency codes', 'regnall': 'region-all respondents',\n",
    "#  'ddcode': 'census constituency codes', 'ddrev': 'revised census constituency codes',\n",
    "#  'pacode': 'press association constituency codes', 'parev': 'revised press association constituency codes',\n",
    "#  'vconstit': 'bes constituency code - all respondents'}"
   ]
  },
  {
   "cell_type": "code",
   "execution_count": 71,
   "id": "6b375242",
   "metadata": {},
   "outputs": [
    {
     "data": {
      "text/plain": [
       "253.0    56\n",
       "410.0    54\n",
       "126.0    54\n",
       "268.0    53\n",
       "3.0      53\n",
       "         ..\n",
       "383.0     8\n",
       "138.0     7\n",
       "474.0     4\n",
       "595.0     2\n",
       "147.0     2\n",
       "Name: ref, Length: 128, dtype: int64"
      ]
     },
     "execution_count": 71,
     "metadata": {},
     "output_type": "execute_result"
    }
   ],
   "source": [
    "BES_df_list[\"2001\"][\"ref\"].value_counts(dropna=False)"
   ]
  },
  {
   "cell_type": "code",
   "execution_count": 72,
   "id": "b02283fc",
   "metadata": {},
   "outputs": [
    {
     "data": {
      "text/plain": [
       "Fife Central                        56\n",
       "Montgomeryshire                     54\n",
       "Cardiff West                        54\n",
       "Aberdeen North                      53\n",
       "Glasgow Govan                       53\n",
       "                                    ..\n",
       "Loughborough                         8\n",
       "Cheltenham                           7\n",
       "Regent's Park & Kensington North     4\n",
       "Upminster                            2\n",
       "Cities of London & Westminster       2\n",
       "Name: seatname, Length: 128, dtype: int64"
      ]
     },
     "execution_count": 72,
     "metadata": {},
     "output_type": "execute_result"
    }
   ],
   "source": [
    "BES_df_list[\"2001\"][\"seatname\"].value_counts(dropna=False)"
   ]
  },
  {
   "cell_type": "code",
   "execution_count": 74,
   "id": "f1f5fbef",
   "metadata": {},
   "outputs": [
    {
     "data": {
      "text/plain": [
       "Fife Central                      56\n",
       "Montgomeryshire                   54\n",
       "Cardiff West                      54\n",
       "Glasgow Govern                    53\n",
       "Aberdeen North                    53\n",
       "                                  ..\n",
       "Loughborough                       8\n",
       "Cheltenham                         7\n",
       "Regent's Park & Kensington Nor     4\n",
       "Cities of London & Westminster     2\n",
       "Upminster                          2\n",
       "Name: seat, Length: 128, dtype: int64"
      ]
     },
     "execution_count": 74,
     "metadata": {},
     "output_type": "execute_result"
    }
   ],
   "source": [
    "BES_df_list[\"2001\"][\"seat\"].value_counts(dropna=False)"
   ]
  },
  {
   "cell_type": "code",
   "execution_count": 73,
   "id": "dce981f1",
   "metadata": {},
   "outputs": [
    {
     "data": {
      "text/plain": [
       "scotland                    737\n",
       "wales                       488\n",
       "south-east                  454\n",
       "north west                  236\n",
       "yorkshire and humberside    233\n",
       "south west                  178\n",
       "greater london              172\n",
       "west midlands               167\n",
       "north                       142\n",
       "east midlands               125\n",
       "east anglia                  98\n",
       "Name: region, dtype: int64"
      ]
     },
     "execution_count": 73,
     "metadata": {},
     "output_type": "execute_result"
    }
   ],
   "source": [
    "BES_df_list[\"2001\"][\"region\"].value_counts(dropna=False)"
   ]
  },
  {
   "cell_type": "code",
   "execution_count": 75,
   "id": "69d75902",
   "metadata": {},
   "outputs": [
    {
     "data": {
      "text/plain": [
       "scotland             737\n",
       "wales                488\n",
       "south east           454\n",
       "north west           236\n",
       "york & humberside    233\n",
       "south west           178\n",
       "greater london       172\n",
       "west midlands        167\n",
       "north                142\n",
       "east midlands        125\n",
       "east anglia           98\n",
       "Name: regnall, dtype: int64"
      ]
     },
     "execution_count": 75,
     "metadata": {},
     "output_type": "execute_result"
    }
   ],
   "source": [
    "BES_df_list[\"2001\"][\"regnall\"].value_counts(dropna=False)"
   ]
  },
  {
   "cell_type": "code",
   "execution_count": 76,
   "id": "ab0ed9d0",
   "metadata": {},
   "outputs": [
    {
     "data": {
      "text/plain": [
       "122.0    56\n",
       "110.0    54\n",
       "101.0    54\n",
       "113.0    53\n",
       "124.0    53\n",
       "         ..\n",
       "22.0      8\n",
       "69.0      7\n",
       "35.0      4\n",
       "41.0      2\n",
       "39.0      2\n",
       "Name: vconstit, Length: 128, dtype: int64"
      ]
     },
     "execution_count": 76,
     "metadata": {},
     "output_type": "execute_result"
    }
   ],
   "source": [
    "BES_df_list[\"2001\"][\"vconstit\"].value_counts(dropna=False)"
   ]
  },
  {
   "cell_type": "code",
   "execution_count": null,
   "id": "288a0a53",
   "metadata": {},
   "outputs": [],
   "source": [
    "# 2005\n",
    "# {'pa05': 'std press assoc constituency ref no, 2005', 'agor': 'region',\n",
    "# 'agorx': 'region(3rd)', 'aregion': 'country & region',\n",
    "#  'bregion': 'region(4th)',\n",
    "#  'tregion': 'combined region', 'cq29': 'years lived in neighbourhood', 'cq30b': 'attachment to constituency',\n",
    "#  'seat05': 'name of constituency 2005', 'region': 'major census region (britain)',\n",
    "#  'old_pa': 'standard pa constituency ref number, 2001', 'seat01': 'name of constituency 2001',\n",
    "#  'hseat05': 'name of constituency 2005(3rd)', 'dq2': 'region(5th)'}"
   ]
  },
  {
   "cell_type": "code",
   "execution_count": 180,
   "id": "1e3887a9",
   "metadata": {},
   "outputs": [],
   "source": []
  },
  {
   "cell_type": "code",
   "execution_count": 133,
   "id": "fa578648",
   "metadata": {},
   "outputs": [
    {
     "data": {
      "text/plain": [
       "11    1019\n",
       "10     773\n",
       "1      593\n",
       "4      286\n",
       "7      275\n",
       "3      240\n",
       "5      235\n",
       "6      230\n",
       "8      228\n",
       "2      144\n",
       "9      138\n",
       "Name: region, dtype: int64"
      ]
     },
     "execution_count": 133,
     "metadata": {},
     "output_type": "execute_result"
    }
   ],
   "source": [
    "BES_df_list[\"2005\"][\"region\"].value_counts(dropna=False)"
   ]
  },
  {
   "cell_type": "code",
   "execution_count": 77,
   "id": "f316b158",
   "metadata": {},
   "outputs": [
    {
     "data": {
      "text/plain": [
       "206.0    69\n",
       "2.0      60\n",
       "556.0    52\n",
       "446.0    49\n",
       "433.0    48\n",
       "         ..\n",
       "178.0    18\n",
       "522.0    15\n",
       "330.0    15\n",
       "148.0     6\n",
       "94.0      1\n",
       "Name: pa05, Length: 127, dtype: int64"
      ]
     },
     "execution_count": 77,
     "metadata": {},
     "output_type": "execute_result"
    }
   ],
   "source": [
    "BES_df_list[\"2005\"][\"pa05\"].value_counts(dropna=False)"
   ]
  },
  {
   "cell_type": "code",
   "execution_count": 87,
   "id": "eea8f781",
   "metadata": {},
   "outputs": [
    {
     "data": {
      "text/plain": [
       "Dunbartonshire West               69\n",
       "Aberdeen North                    60\n",
       "Swansea West                      52\n",
       "Perth and North Perthshire        49\n",
       "Ochil and South Perthshire        48\n",
       "                                  ..\n",
       "Denton & Reddish                  18\n",
       "Southwark  North & Bermondsey     15\n",
       "Islington South & Finsbury        15\n",
       "Cities of London & Westminster     6\n",
       "Bridgend                           1\n",
       "Name: hseat05, Length: 127, dtype: int64"
      ]
     },
     "execution_count": 87,
     "metadata": {},
     "output_type": "execute_result"
    }
   ],
   "source": [
    "BES_df_list[\"2005\"][\"hseat05\"].value_counts(dropna=False)"
   ]
  },
  {
   "cell_type": "code",
   "execution_count": 84,
   "id": "44b57c16",
   "metadata": {},
   "outputs": [
    {
     "data": {
      "text/plain": [
       "NaN      213\n",
       "3.0       60\n",
       "566.0     52\n",
       "455.0     49\n",
       "442.0     48\n",
       "        ... \n",
       "181.0     18\n",
       "341.0     15\n",
       "531.0     15\n",
       "147.0      6\n",
       "92.0       1\n",
       "Name: old_pa, Length: 123, dtype: int64"
      ]
     },
     "execution_count": 84,
     "metadata": {},
     "output_type": "execute_result"
    }
   ],
   "source": [
    "BES_df_list[\"2005\"][\"old_pa\"].value_counts(dropna=False)"
   ]
  },
  {
   "cell_type": "code",
   "execution_count": 85,
   "id": "15d4e5f8",
   "metadata": {},
   "outputs": [
    {
     "data": {
      "text/plain": [
       "Dunbartonshire West               69\n",
       "Aberdeen North                    60\n",
       "Swansea West                      52\n",
       "Perth and North Perthshire        49\n",
       "Ochil and South Perthshire        48\n",
       "                                  ..\n",
       "Denton & Reddish                  18\n",
       "Southwark  North & Bermondsey     15\n",
       "Islington South & Finsbury        15\n",
       "Cities of London & Westminster     6\n",
       "Bridgend                           1\n",
       "Name: seat01, Length: 127, dtype: int64"
      ]
     },
     "execution_count": 85,
     "metadata": {},
     "output_type": "execute_result"
    }
   ],
   "source": [
    "BES_df_list[\"2005\"][\"seat01\"].value_counts(dropna=False)"
   ]
  },
  {
   "cell_type": "code",
   "execution_count": 83,
   "id": "aecf2904",
   "metadata": {},
   "outputs": [
    {
     "data": {
      "text/plain": [
       "Dunbartonshire West               69\n",
       "Aberdeen North                    60\n",
       "Swansea West                      52\n",
       "Perth and North Perthshire        49\n",
       "Ochil and South Perthshire        48\n",
       "                                  ..\n",
       "Denton & Reddish                  18\n",
       "Southwark  North & Bermondsey     15\n",
       "Islington South & Finsbury        15\n",
       "Cities of London & Westminster     6\n",
       "Bridgend                           1\n",
       "Name: seat05, Length: 127, dtype: int64"
      ]
     },
     "execution_count": 83,
     "metadata": {},
     "output_type": "execute_result"
    }
   ],
   "source": [
    "BES_df_list[\"2005\"][\"seat05\"].value_counts(dropna=False)"
   ]
  },
  {
   "cell_type": "code",
   "execution_count": 78,
   "id": "9ec84c6d",
   "metadata": {},
   "outputs": [
    {
     "data": {
      "text/plain": [
       "NaN                         1792\n",
       "South East                   404\n",
       "East of England              333\n",
       "North West                   299\n",
       "South_West                   286\n",
       "Yorkshire and the Humber     275\n",
       "London                       240\n",
       "West Midlands                235\n",
       "East Midlands                199\n",
       "North East                    98\n",
       "Name: agor, dtype: int64"
      ]
     },
     "execution_count": 78,
     "metadata": {},
     "output_type": "execute_result"
    }
   ],
   "source": [
    "BES_df_list[\"2005\"][\"agor\"].value_counts(dropna=False)"
   ]
  },
  {
   "cell_type": "code",
   "execution_count": 79,
   "id": "6cd167a5",
   "metadata": {},
   "outputs": [
    {
     "data": {
      "text/plain": [
       "99    1792\n",
       "7      404\n",
       "2      333\n",
       "5      299\n",
       "6      286\n",
       "3      275\n",
       "4      240\n",
       "1      235\n",
       "8      199\n",
       "9       98\n",
       "Name: agorx, dtype: int64"
      ]
     },
     "execution_count": 79,
     "metadata": {},
     "output_type": "execute_result"
    }
   ],
   "source": [
    "BES_df_list[\"2005\"][\"agorx\"].value_counts(dropna=False)"
   ]
  },
  {
   "cell_type": "code",
   "execution_count": 80,
   "id": "332039d1",
   "metadata": {},
   "outputs": [
    {
     "data": {
      "text/plain": [
       "11    1019\n",
       "10     773\n",
       "7      404\n",
       "2      333\n",
       "5      299\n",
       "6      286\n",
       "3      275\n",
       "4      240\n",
       "1      235\n",
       "8      199\n",
       "9       98\n",
       "Name: aregion, dtype: int64"
      ]
     },
     "execution_count": 80,
     "metadata": {},
     "output_type": "execute_result"
    }
   ],
   "source": [
    "BES_df_list[\"2005\"][\"aregion\"].value_counts(dropna=False)"
   ]
  },
  {
   "cell_type": "code",
   "execution_count": 195,
   "id": "39d8a5d2",
   "metadata": {},
   "outputs": [
    {
     "data": {
      "text/plain": [
       "Series([], Name: agor, dtype: int64)"
      ]
     },
     "execution_count": 195,
     "metadata": {},
     "output_type": "execute_result"
    }
   ],
   "source": [
    "BES_df_list[\"2005\"][\"agor\"][BES_df_list[\"2005\"][\"aregion\"]==10].value_counts()\n",
    "# 10 -> Wales\n",
    "# 11 -> Scotland"
   ]
  },
  {
   "cell_type": "code",
   "execution_count": 181,
   "id": "6f36a33b",
   "metadata": {},
   "outputs": [
    {
     "data": {
      "text/plain": [
       "11    1019\n",
       "10     773\n",
       "7      404\n",
       "2      333\n",
       "5      299\n",
       "6      286\n",
       "3      275\n",
       "4      240\n",
       "1      235\n",
       "8      199\n",
       "9       98\n",
       "Name: bregion, dtype: int64"
      ]
     },
     "execution_count": 181,
     "metadata": {},
     "output_type": "execute_result"
    }
   ],
   "source": [
    "BES_df_list[\"2005\"][\"bregion\"].value_counts(dropna=False)"
   ]
  },
  {
   "cell_type": "code",
   "execution_count": 82,
   "id": "0bfcbb4e",
   "metadata": {},
   "outputs": [
    {
     "data": {
      "text/plain": [
       "11    1019\n",
       "10     773\n",
       "7      404\n",
       "2      333\n",
       "5      299\n",
       "6      286\n",
       "3      275\n",
       "4      240\n",
       "1      235\n",
       "8      199\n",
       "9       98\n",
       "Name: tregion, dtype: int64"
      ]
     },
     "execution_count": 82,
     "metadata": {},
     "output_type": "execute_result"
    }
   ],
   "source": [
    "BES_df_list[\"2005\"][\"tregion\"].value_counts(dropna=False)\n",
    "\n",
    "## not clear what 10/11 are - but seems like a *lot* of missing values!"
   ]
  },
  {
   "cell_type": "code",
   "execution_count": 182,
   "id": "48f032b1",
   "metadata": {},
   "outputs": [
    {
     "data": {
      "text/plain": [
       "NaN                         1792\n",
       "South East                   404\n",
       "East of England              333\n",
       "North West                   299\n",
       "South_West                   286\n",
       "Yorkshire and the Humber     275\n",
       "London                       240\n",
       "West Midlands                235\n",
       "East Midlands                199\n",
       "North East                    98\n",
       "Name: agor, dtype: int64"
      ]
     },
     "execution_count": 182,
     "metadata": {},
     "output_type": "execute_result"
    }
   ],
   "source": [
    "BES_df_list[\"2005\"][\"agor\"].value_counts(dropna=False)"
   ]
  },
  {
   "cell_type": "code",
   "execution_count": null,
   "id": "b0ec7e00",
   "metadata": {},
   "outputs": [],
   "source": []
  },
  {
   "cell_type": "code",
   "execution_count": 86,
   "id": "00f75b8c",
   "metadata": {},
   "outputs": [
    {
     "data": {
      "text/plain": [
       "99.0    3231\n",
       "6.0      200\n",
       "9.0      136\n",
       "7.0      132\n",
       "8.0       77\n",
       "1.0       75\n",
       "5.0       73\n",
       "2.0       59\n",
       "11.0      57\n",
       "3.0       53\n",
       "10.0      48\n",
       "4.0       19\n",
       "NaN        1\n",
       "Name: dq2, dtype: int64"
      ]
     },
     "execution_count": 86,
     "metadata": {},
     "output_type": "execute_result"
    }
   ],
   "source": [
    "BES_df_list[\"2005\"][\"dq2\"].value_counts(dropna=False)"
   ]
  },
  {
   "cell_type": "code",
   "execution_count": 187,
   "id": "554ebf5b",
   "metadata": {},
   "outputs": [
    {
     "data": {
      "text/plain": [
       "South East                  124\n",
       "East of England              92\n",
       "North West                   71\n",
       "South_West                   67\n",
       "Yorkshire and the Humber     61\n",
       "London                       60\n",
       "West Midlands                51\n",
       "East Midlands                50\n",
       "North East                   16\n",
       "Name: agor, dtype: int64"
      ]
     },
     "execution_count": 187,
     "metadata": {},
     "output_type": "execute_result"
    }
   ],
   "source": [
    "BES_df_list[\"2005\"][\"agor\"][BES_df_list[\"2005\"][\"dq2\"]!=99.0].value_counts()"
   ]
  },
  {
   "cell_type": "code",
   "execution_count": null,
   "id": "3641cdfd",
   "metadata": {},
   "outputs": [],
   "source": [
    "# 2010\n",
    "# {'agor': 'region', 'aconsnam': 'constituency name', 'region': 'region(3rd)',\n",
    "#  'bgor': 'standard region', 'consname': 'constituency name(3rd)',\n",
    "#  'panumber': 'press association constituency number', 'pregion': 'census region',\n",
    "#  'pa05': 'standard press association constituency reference number, 2005',\n",
    "#  'tconstit': '2010 constituency name-total', 'cq31_2': 'attachment to constituency', 'cnameh': 'constituency name(4th)',\n",
    "#  'zgor': 'standard region(3rd)'}"
   ]
  },
  {
   "cell_type": "code",
   "execution_count": 88,
   "id": "43ec8908",
   "metadata": {},
   "outputs": [
    {
     "data": {
      "text/plain": [
       "england     2175\n",
       "scotland     665\n",
       "wales        235\n",
       "Name: region, dtype: int64"
      ]
     },
     "execution_count": 88,
     "metadata": {},
     "output_type": "execute_result"
    }
   ],
   "source": [
    "BES_df_list[\"2010\"][\"region\"].value_counts(dropna=False)"
   ]
  },
  {
   "cell_type": "code",
   "execution_count": 93,
   "id": "e5a81b2b",
   "metadata": {},
   "outputs": [
    {
     "data": {
      "text/plain": [
       "Edinburgh West Burgh Const                             35\n",
       "Kilmarnock and Loudoun Co Const                        33\n",
       "Kirkcaldy and Cowdenbeath Co Const                     32\n",
       "Ochil and South Perthshire Co Const                    31\n",
       "Perth and North Perthshire Co Const                    31\n",
       "                                                       ..\n",
       "\"Sheffield, Brightside and Hillsborough Boro Const\"     4\n",
       "Birmingham, Ladywood Boro Const                         4\n",
       "\"Birmingham, Yardley Boro Const\"                        4\n",
       "Kensington Boro Const                                   3\n",
       "Blaenau Gwent Co Const                                  3\n",
       "Name: consname, Length: 210, dtype: int64"
      ]
     },
     "execution_count": 93,
     "metadata": {},
     "output_type": "execute_result"
    }
   ],
   "source": [
    "BES_df_list[\"2010\"][\"consname\"].value_counts(dropna=False)"
   ]
  },
  {
   "cell_type": "code",
   "execution_count": 94,
   "id": "cf50d3f7",
   "metadata": {},
   "outputs": [
    {
     "data": {
      "text/plain": [
       "232    35\n",
       "342    33\n",
       "345    32\n",
       "436    31\n",
       "450    31\n",
       "       ..\n",
       "128     5\n",
       "304     5\n",
       "316     4\n",
       "71      3\n",
       "340     3\n",
       "Name: panumber, Length: 200, dtype: int64"
      ]
     },
     "execution_count": 94,
     "metadata": {},
     "output_type": "execute_result"
    }
   ],
   "source": [
    "BES_df_list[\"2010\"][\"panumber\"].value_counts(dropna=False)"
   ]
  },
  {
   "cell_type": "code",
   "execution_count": 97,
   "id": "14052eed",
   "metadata": {},
   "outputs": [
    {
     "data": {
      "text/plain": [
       "Edinburgh West Burgh Const              35\n",
       "Kilmarnock and Loudoun Co Const         33\n",
       "Kirkcaldy and Cowdenbeath Co Const      32\n",
       "Perth and North Perthshire Co Const     31\n",
       "Ochil and South Perthshire Co Const     31\n",
       "                                        ..\n",
       "Hendon Boro Const                        5\n",
       "Cardiff South and Penarth Boro Const     5\n",
       "Holborn and St. Pancras Boro Const       4\n",
       "Kensington Boro Const                    3\n",
       "Blaenau Gwent Co Const                   3\n",
       "Name: cnameh, Length: 201, dtype: int64"
      ]
     },
     "execution_count": 97,
     "metadata": {},
     "output_type": "execute_result"
    }
   ],
   "source": [
    "BES_df_list[\"2010\"][\"cnameh\"].value_counts(dropna=False)"
   ]
  },
  {
   "cell_type": "code",
   "execution_count": 95,
   "id": "433d3139",
   "metadata": {},
   "outputs": [
    {
     "data": {
      "text/plain": [
       "Scotland                    642\n",
       "South East                  406\n",
       "North West                  311\n",
       "West Midlands               244\n",
       "South West                  241\n",
       "Wales                       235\n",
       "East of England             225\n",
       "London                      213\n",
       "Yorkshire and The Humber    208\n",
       "East Midlands               191\n",
       "North East                  159\n",
       "Name: pregion, dtype: int64"
      ]
     },
     "execution_count": 95,
     "metadata": {},
     "output_type": "execute_result"
    }
   ],
   "source": [
    "BES_df_list[\"2010\"][\"pregion\"].value_counts(dropna=False)"
   ]
  },
  {
   "cell_type": "code",
   "execution_count": null,
   "id": "6afa7706",
   "metadata": {},
   "outputs": [],
   "source": [
    "# 2015\n",
    "# {'Constit_Code': 'Constit_Code', 'Constit_Name': 'Constit_Name', 'LA_UA_Code': 'Local Authority Unitary Area code',\n",
    "#  'LA_UA_Name': 'Local Authority Unitary Area name', 'pano': 'Press Association Constituency ID',\n",
    "#  'gor': 'Government Office Region'}"
   ]
  },
  {
   "cell_type": "code",
   "execution_count": 98,
   "id": "23879c36",
   "metadata": {},
   "outputs": [
    {
     "data": {
      "text/plain": [
       "E14000611    19\n",
       "E14000938    19\n",
       "S14000055    17\n",
       "E14000836    16\n",
       "E14000948    16\n",
       "             ..\n",
       "S14000028     2\n",
       "S14000022     2\n",
       "E14000541     2\n",
       "E14000925     1\n",
       "E14000661     1\n",
       "Name: Constit_Code, Length: 304, dtype: int64"
      ]
     },
     "execution_count": 98,
     "metadata": {},
     "output_type": "execute_result"
    }
   ],
   "source": [
    "BES_df_list[\"2015\"][\"Constit_Code\"].value_counts(dropna=False)"
   ]
  },
  {
   "cell_type": "code",
   "execution_count": 102,
   "id": "47d943a1",
   "metadata": {},
   "outputs": [
    {
     "data": {
      "text/plain": [
       "163    19\n",
       "111    19\n",
       "479    17\n",
       "426    16\n",
       "265    16\n",
       "       ..\n",
       "151     2\n",
       "228     2\n",
       "29      2\n",
       "509     1\n",
       "180     1\n",
       "Name: pano, Length: 304, dtype: int64"
      ]
     },
     "execution_count": 102,
     "metadata": {},
     "output_type": "execute_result"
    }
   ],
   "source": [
    "BES_df_list[\"2015\"][\"pano\"].value_counts(dropna=False)"
   ]
  },
  {
   "cell_type": "code",
   "execution_count": 99,
   "id": "ef16c30a",
   "metadata": {},
   "outputs": [
    {
     "data": {
      "text/plain": [
       "Bury North                              19\n",
       "South East Cornwall                     19\n",
       "Ross, Skye and Lochaber                 17\n",
       "South Cambridgeshire                    16\n",
       "Normanton, Pontefract and Castleford    16\n",
       "                                        ..\n",
       "Barnsley Central                         2\n",
       "Cities of London and Westminster         2\n",
       "Falkirk                                  2\n",
       "Shipley                                  1\n",
       "Denton and Reddish                       1\n",
       "Name: Constit_Name, Length: 304, dtype: int64"
      ]
     },
     "execution_count": 99,
     "metadata": {},
     "output_type": "execute_result"
    }
   ],
   "source": [
    "BES_df_list[\"2015\"][\"Constit_Name\"].value_counts(dropna=False)"
   ]
  },
  {
   "cell_type": "code",
   "execution_count": 100,
   "id": "89d093f9",
   "metadata": {},
   "outputs": [
    {
     "data": {
      "text/plain": [
       "E08000025    78\n",
       "E06000052    60\n",
       "E08000019    44\n",
       "S12000046    36\n",
       "E06000057    34\n",
       "             ..\n",
       "E07000131     2\n",
       "S12000029     2\n",
       "S12000040     2\n",
       "E09000033     2\n",
       "E09000007     1\n",
       "Name: LA_UA_Code, Length: 249, dtype: int64"
      ]
     },
     "execution_count": 100,
     "metadata": {},
     "output_type": "execute_result"
    }
   ],
   "source": [
    "BES_df_list[\"2015\"][\"LA_UA_Code\"].value_counts(dropna=False)"
   ]
  },
  {
   "cell_type": "code",
   "execution_count": 101,
   "id": "53096708",
   "metadata": {},
   "outputs": [
    {
     "data": {
      "text/plain": [
       "Birmingham                   78\n",
       "Cornwall                     60\n",
       "Sheffield                    44\n",
       "Glasgow City                 36\n",
       "Cheshire West and Chester    34\n",
       "                             ..\n",
       "North Dorset                  2\n",
       "Harborough                    2\n",
       "South Lanarkshire             2\n",
       "Harrogate                     2\n",
       "Camden                        1\n",
       "Name: LA_UA_Name, Length: 249, dtype: int64"
      ]
     },
     "execution_count": 101,
     "metadata": {},
     "output_type": "execute_result"
    }
   ],
   "source": [
    "BES_df_list[\"2015\"][\"LA_UA_Name\"].value_counts(dropna=False)"
   ]
  },
  {
   "cell_type": "code",
   "execution_count": 103,
   "id": "20ab37c9",
   "metadata": {},
   "outputs": [
    {
     "data": {
      "text/plain": [
       "North West                  408\n",
       "South East                  398\n",
       "London                      310\n",
       "West Midlands               294\n",
       "South West                  277\n",
       "Yorkshire and the Humber    272\n",
       "Scotland                    266\n",
       "East of England             255\n",
       "East Midlands               215\n",
       "Wales                       161\n",
       "North East                  131\n",
       "Name: gor, dtype: int64"
      ]
     },
     "execution_count": 103,
     "metadata": {},
     "output_type": "execute_result"
    }
   ],
   "source": [
    "BES_df_list[\"2015\"][\"gor\"].value_counts(dropna=False)"
   ]
  },
  {
   "cell_type": "code",
   "execution_count": 130,
   "id": "f1840752",
   "metadata": {},
   "outputs": [
    {
     "data": {
      "text/plain": [
       "34    282\n",
       "21    186\n",
       "6     153\n",
       "39    126\n",
       "28    121\n",
       "48    115\n",
       "55    101\n",
       "11     92\n",
       "19     89\n",
       "12     86\n",
       "Name: Stratum, dtype: int64"
      ]
     },
     "execution_count": 130,
     "metadata": {},
     "output_type": "execute_result"
    }
   ],
   "source": [
    "BES_df_list[\"2015\"][\"Stratum\"].value_counts(dropna=False).head(10)"
   ]
  },
  {
   "cell_type": "code",
   "execution_count": 115,
   "id": "e8d77f96",
   "metadata": {},
   "outputs": [
    {
     "data": {
      "text/plain": [
       "{}"
      ]
     },
     "execution_count": 115,
     "metadata": {},
     "output_type": "execute_result"
    }
   ],
   "source": [
    "# {k:v for k,v in BES_df_list[\"2015\"].items() if \"census\" in v}\n",
    "# lsoa11 STRING VARIABLE\n",
    "# 2011 Census lower layer super output area\n",
    "\n",
    "# Can't find!"
   ]
  },
  {
   "cell_type": "code",
   "execution_count": 106,
   "id": "e2cd7b39",
   "metadata": {},
   "outputs": [
    {
     "data": {
      "text/plain": [
       "Con LD        785\n",
       "Lab Con       664\n",
       "Con Lab       604\n",
       "Lab LD        335\n",
       "LD            171\n",
       "Lab SNP       121\n",
       "LD Lab         51\n",
       "Con Lab/LD     39\n",
       "LD Con         37\n",
       "Lab            35\n",
       "LD Con/SDP     28\n",
       "Lab LibDem     27\n",
       "SNP Con        21\n",
       "Lab Plaid      18\n",
       "Con            17\n",
       "Lab Con/LD     16\n",
       "Plaid          11\n",
       "Other           7\n",
       "Name: Stratumlabel, dtype: int64"
      ]
     },
     "execution_count": 106,
     "metadata": {},
     "output_type": "execute_result"
    }
   ],
   "source": [
    "BES_df_list[\"2015\"][\"Stratumlabel\"].value_counts(dropna=False)"
   ]
  },
  {
   "cell_type": "code",
   "execution_count": 107,
   "id": "23908362",
   "metadata": {},
   "outputs": [
    {
     "data": {
      "text/plain": [
       "2    670\n",
       "4    619\n",
       "3    579\n",
       "5    570\n",
       "1    549\n",
       "Name: IMDquintile, dtype: int64"
      ]
     },
     "execution_count": 107,
     "metadata": {},
     "output_type": "execute_result"
    }
   ],
   "source": [
    "BES_df_list[\"2015\"][\"IMDquintile\"].value_counts(dropna=False)\n",
    "# IMD quintile 1 = most deprived through to 5 = least deprived."
   ]
  },
  {
   "cell_type": "code",
   "execution_count": 108,
   "id": "9f3464e0",
   "metadata": {},
   "outputs": [
    {
     "data": {
      "text/plain": [
       "Semi-detached / end terraced house    1104\n",
       "Centre terraced house                  527\n",
       "Detached house                         504\n",
       "Purpose built flat                     365\n",
       "NaN                                    184\n",
       "Bungalow                               182\n",
       "Conversion flat / maisonette            85\n",
       "Other type of dwelling                  36\n",
       "Name: dwel_type, dtype: int64"
      ]
     },
     "execution_count": 108,
     "metadata": {},
     "output_type": "execute_result"
    }
   ],
   "source": [
    "BES_df_list[\"2015\"][\"dwel_type\"].value_counts(dropna=False)\n",
    "\n",
    "# -> housing"
   ]
  },
  {
   "cell_type": "code",
   "execution_count": 109,
   "id": "f2219daa",
   "metadata": {},
   "outputs": [
    {
     "data": {
      "text/plain": [
       " NaN     2312\n",
       " 0.0      414\n",
       " 1.0      140\n",
       " 2.0       70\n",
       " 3.0       22\n",
       " 8.0        7\n",
       " 4.0        5\n",
       " 5.0        5\n",
       " 10.0       2\n",
       " 40.0       2\n",
       "-1.0        2\n",
       " 6.0        1\n",
       " 11.0       1\n",
       " 18.0       1\n",
       " 13.0       1\n",
       " 12.0       1\n",
       " 7.0        1\n",
       "Name: Floor_of_dwelling, dtype: int64"
      ]
     },
     "execution_count": 109,
     "metadata": {},
     "output_type": "execute_result"
    }
   ],
   "source": [
    "BES_df_list[\"2015\"][\"Floor_of_dwelling\"].value_counts(dropna=False)\n",
    "# some people living in cellars??"
   ]
  },
  {
   "cell_type": "code",
   "execution_count": null,
   "id": "271670dd",
   "metadata": {},
   "outputs": [],
   "source": [
    "# 2017\n",
    "{'region': 'Region',\n",
    " 'Constit_Name': 'Parliamentary Constituency Name', 'Constit_Code': 'ONS Parliamentary Constituency identifier',\n",
    " 'pano': 'Press Association Constituency ID'}"
   ]
  },
  {
   "cell_type": "code",
   "execution_count": null,
   "id": "2c34d261",
   "metadata": {},
   "outputs": [],
   "source": [
    "# Q20. Which country were you born in?"
   ]
  },
  {
   "cell_type": "code",
   "execution_count": 117,
   "id": "50300106",
   "metadata": {},
   "outputs": [
    {
     "data": {
      "text/plain": [
       "North West            304\n",
       "South East            282\n",
       "West Midlands         227\n",
       "Eastern               226\n",
       "London                212\n",
       "Scotland              191\n",
       "Yorkshire & Humber    187\n",
       "South West            167\n",
       "East Midlands         156\n",
       "Wales                 129\n",
       "North East            113\n",
       "Name: region, dtype: int64"
      ]
     },
     "execution_count": 117,
     "metadata": {},
     "output_type": "execute_result"
    }
   ],
   "source": [
    "BES_df_list[\"2017\"][\"region\"].value_counts(dropna=False)"
   ]
  },
  {
   "cell_type": "code",
   "execution_count": 118,
   "id": "f7c00256",
   "metadata": {},
   "outputs": [
    {
     "data": {
      "text/plain": [
       "Birmingham    57\n",
       "North East    44\n",
       "Sheffield,    26\n",
       "Liverpool,    22\n",
       "Falkirk       21\n",
       "              ..\n",
       "South Than     4\n",
       "Great Grim     3\n",
       "Glenrothes     2\n",
       "Perth and      2\n",
       "Bolton Wes     1\n",
       "Name: Constit_Name, Length: 214, dtype: int64"
      ]
     },
     "execution_count": 118,
     "metadata": {},
     "output_type": "execute_result"
    }
   ],
   "source": [
    "BES_df_list[\"2017\"][\"Constit_Name\"].value_counts(dropna=False)"
   ]
  },
  {
   "cell_type": "code",
   "execution_count": 120,
   "id": "8adf3fd8",
   "metadata": {},
   "outputs": [
    {
     "data": {
      "text/plain": [
       "245    21\n",
       "124    20\n",
       "77     19\n",
       "149    19\n",
       "388    18\n",
       "       ..\n",
       "456     4\n",
       "629     4\n",
       "452     3\n",
       "276     3\n",
       "450     2\n",
       "Name: pano, Length: 229, dtype: int64"
      ]
     },
     "execution_count": 120,
     "metadata": {},
     "output_type": "execute_result"
    }
   ],
   "source": [
    "BES_df_list[\"2017\"][\"pano\"].value_counts(dropna=False)"
   ]
  },
  {
   "cell_type": "code",
   "execution_count": 119,
   "id": "809b007f",
   "metadata": {},
   "outputs": [
    {
     "data": {
      "text/plain": [
       "S14000028    21\n",
       "E14000618    20\n",
       "E14000579    19\n",
       "E14000637    19\n",
       "E14000808    18\n",
       "             ..\n",
       "E14000958     4\n",
       "E14001048     4\n",
       "E14000716     3\n",
       "E14000879     3\n",
       "S14000054     2\n",
       "Name: Constit_Code, Length: 229, dtype: int64"
      ]
     },
     "execution_count": 119,
     "metadata": {},
     "output_type": "execute_result"
    }
   ],
   "source": [
    "BES_df_list[\"2017\"][\"Constit_Code\"].value_counts(dropna=False)"
   ]
  },
  {
   "cell_type": "code",
   "execution_count": null,
   "id": "2eb63e67",
   "metadata": {},
   "outputs": [],
   "source": [
    "# 2019\n",
    "# {'region': 'Region', 'Constit_Code': 'Constituency code',\n",
    "#  'Constit_Name': 'Constituency name', 'LA_UA_Code': 'Local Authority Unitary Area code',\n",
    "#  'LA_UA_Name': 'Local Authority Unitary Area name', 'pano': 'Press Association Constituency ID'}"
   ]
  },
  {
   "cell_type": "code",
   "execution_count": 124,
   "id": "1c3763bc",
   "metadata": {},
   "outputs": [
    {
     "data": {
      "text/plain": [
       "South East            531\n",
       "North West            470\n",
       "London                449\n",
       "Scotland              379\n",
       "Yorkshire & Humber    379\n",
       "West Midlands         369\n",
       "Eastern               350\n",
       "South West            337\n",
       "East Midlands         281\n",
       "Wales                 211\n",
       "North East            190\n",
       "Name: region, dtype: int64"
      ]
     },
     "execution_count": 124,
     "metadata": {},
     "output_type": "execute_result"
    }
   ],
   "source": [
    "BES_df_list[\"2019\"][\"region\"].value_counts(dropna=False)"
   ]
  },
  {
   "cell_type": "code",
   "execution_count": 125,
   "id": "19910cc3",
   "metadata": {},
   "outputs": [
    {
     "data": {
      "text/plain": [
       "E14000931    18\n",
       "E14000603    17\n",
       "E14000730    16\n",
       "S14000019    16\n",
       "E14000648    16\n",
       "             ..\n",
       "W07000080     4\n",
       "E14000989     4\n",
       "E14000653     2\n",
       "E14000606     2\n",
       "E14000642     2\n",
       "Name: Constit_Code, Length: 400, dtype: int64"
      ]
     },
     "execution_count": 125,
     "metadata": {},
     "output_type": "execute_result"
    }
   ],
   "source": [
    "BES_df_list[\"2019\"][\"Constit_Code\"].value_counts(dropna=False)"
   ]
  },
  {
   "cell_type": "code",
   "execution_count": 126,
   "id": "adf16045",
   "metadata": {},
   "outputs": [
    {
     "data": {
      "text/plain": [
       "Solihull                                    18\n",
       "Broadland                                   17\n",
       "East Kilbride, Strathaven and Lesmahagow    16\n",
       "Harrogate and Knaresborough                 16\n",
       "Corby                                       16\n",
       "                                            ..\n",
       "Birmingham, Erdington                        4\n",
       "Ealing Central and Acton                     4\n",
       "Crewe and Nantwich                           2\n",
       "Broxbourne                                   2\n",
       "Clacton                                      2\n",
       "Name: Constit_Name, Length: 400, dtype: int64"
      ]
     },
     "execution_count": 126,
     "metadata": {},
     "output_type": "execute_result"
    }
   ],
   "source": [
    "BES_df_list[\"2019\"][\"Constit_Name\"].value_counts(dropna=False)"
   ]
  },
  {
   "cell_type": "code",
   "execution_count": 127,
   "id": "3020e562",
   "metadata": {},
   "outputs": [
    {
     "data": {
      "text/plain": [
       "E08000035    69\n",
       "E08000019    58\n",
       "E06000052    43\n",
       "E06000050    40\n",
       "E08000036    39\n",
       "             ..\n",
       "E07000146     3\n",
       "E07000076     2\n",
       "E07000166     2\n",
       "E07000197     1\n",
       "E07000095     1\n",
       "Name: LA_UA_Code, Length: 289, dtype: int64"
      ]
     },
     "execution_count": 127,
     "metadata": {},
     "output_type": "execute_result"
    }
   ],
   "source": [
    "BES_df_list[\"2019\"][\"LA_UA_Code\"].value_counts(dropna=False)"
   ]
  },
  {
   "cell_type": "code",
   "execution_count": 128,
   "id": "bdaed0fc",
   "metadata": {},
   "outputs": [
    {
     "data": {
      "text/plain": [
       "Leeds                        69\n",
       "Sheffield                    58\n",
       "Cornwall                     43\n",
       "Cheshire West and Chester    40\n",
       "Wakefield                    39\n",
       "                             ..\n",
       "Rushcliffe                    3\n",
       "Tendring                      2\n",
       "Richmondshire                 2\n",
       "Broxbourne                    1\n",
       "Stafford                      1\n",
       "Name: LA_UA_Name, Length: 289, dtype: int64"
      ]
     },
     "execution_count": 128,
     "metadata": {},
     "output_type": "execute_result"
    }
   ],
   "source": [
    "BES_df_list[\"2019\"][\"LA_UA_Name\"].value_counts(dropna=False)"
   ]
  },
  {
   "cell_type": "code",
   "execution_count": 129,
   "id": "a1f2bd25",
   "metadata": {},
   "outputs": [
    {
     "data": {
      "text/plain": [
       "516    18\n",
       "103    17\n",
       "223    16\n",
       "161    16\n",
       "293    16\n",
       "       ..\n",
       "482     4\n",
       "151     4\n",
       "106     2\n",
       "152     2\n",
       "169     2\n",
       "Name: pano, Length: 400, dtype: int64"
      ]
     },
     "execution_count": 129,
     "metadata": {},
     "output_type": "execute_result"
    }
   ],
   "source": [
    "BES_df_list[\"2019\"][\"pano\"].value_counts(dropna=False)"
   ]
  },
  {
   "cell_type": "code",
   "execution_count": null,
   "id": "42ccb460",
   "metadata": {},
   "outputs": [],
   "source": []
  },
  {
   "cell_type": "code",
   "execution_count": null,
   "id": "cbc37ec1",
   "metadata": {},
   "outputs": [],
   "source": []
  },
  {
   "cell_type": "code",
   "execution_count": null,
   "id": "def4e9b9",
   "metadata": {},
   "outputs": [],
   "source": [
    "### notion to look at patterns of like/out of ten questions as a measure of polarisation"
   ]
  },
  {
   "cell_type": "code",
   "execution_count": 36,
   "id": "f44acfd0",
   "metadata": {},
   "outputs": [
    {
     "data": {
      "text/plain": [
       "{'m02_1': \"Politicians don't care what people like me think\",\n",
       " 'm02_3': 'People like me have no say in what government does',\n",
       " 'b0611': 'I dislike / can`t support the leader',\n",
       " 'b0614': 'I like / have more confidence in the standing candidate / good MP',\n",
       " 'i01_1': 'Like/dislike leader: Corbyn',\n",
       " 'i01_2': 'Like/dislike leader: Johnson',\n",
       " 'i01_3': 'Like/dislike leader: Swinson',\n",
       " 'i01_4': 'Like/dislike leader: Berry',\n",
       " 'i01_5': 'Like/dislike leader: Bartley',\n",
       " 'i01_6': 'Like/dislike leader: Farage',\n",
       " 'i01_7': 'Like/dislike leader: Sturgeon',\n",
       " 'i01_8': 'Like/dislike leader: Price',\n",
       " 's01_1': 'Like/dislike scale: Conservatives',\n",
       " 's01_2': 'Like/dislike scale: Labour',\n",
       " 's01_3': 'Like/dislike scale: Liberal Democrats',\n",
       " 's01_4': 'Like/dislike scale: Brexit Party',\n",
       " 's01_5': 'Like/dislike scale: Greens',\n",
       " 's01_6': 'Like/dislike scale: SNP',\n",
       " 's01_7': 'Like/dislike scale: Plaid Cymru'}"
      ]
     },
     "execution_count": 36,
     "metadata": {},
     "output_type": "execute_result"
    }
   ],
   "source": [
    "{k:v for k,v in BES_label_list[\"2019\"].items() if \"like\" in v}"
   ]
  },
  {
   "cell_type": "code",
   "execution_count": 37,
   "id": "4d67fb5d",
   "metadata": {},
   "outputs": [
    {
     "data": {
      "text/plain": [
       "Haven't heard of them      8\n",
       "Don't know               102\n",
       "0 Strongly dislike       510\n",
       "1                        212\n",
       "2                        240\n",
       "3                        230\n",
       "4                        219\n",
       "5                        424\n",
       "6                        285\n",
       "7                        396\n",
       "8                        364\n",
       "9                        158\n",
       "10 Strongly like         297\n",
       "Name: i01_2, dtype: int64"
      ]
     },
     "execution_count": 37,
     "metadata": {},
     "output_type": "execute_result"
    }
   ],
   "source": [
    "BES_df_list[\"2019\"][\"i01_2\"].value_counts().sort_index()"
   ]
  },
  {
   "cell_type": "code",
   "execution_count": 46,
   "id": "fb531a11",
   "metadata": {},
   "outputs": [
    {
     "data": {
      "text/plain": [
       "{'aq14_1': 'feelings-gordon brown',\n",
       " 'aq19_1': 'competence-gordon brown',\n",
       " 'aq20_1': 'trust-gordon brown',\n",
       " 'aq32a': 'fin crisis-responsible-gordon brown',\n",
       " 'bq15_1': 'feelings-gordon brown(3rd)',\n",
       " 'bq19_1': 'competence-gordon brown(3rd)',\n",
       " 'bq20_1': 'trust-gordon brown(3rd)',\n",
       " 'bq31a': 'fin crisis responsible-gordon brown'}"
      ]
     },
     "execution_count": 46,
     "metadata": {},
     "output_type": "execute_result"
    }
   ],
   "source": [
    "{k:v for k,v in BES_label_list[\"2010\"].items() if \"brown\" in v}"
   ]
  },
  {
   "cell_type": "code",
   "execution_count": 45,
   "id": "90b4e0a6",
   "metadata": {},
   "outputs": [
    {
     "data": {
      "text/plain": [
       "0-strongly dislike     92\n",
       "1                      44\n",
       "2                      92\n",
       "3                     112\n",
       "4                     145\n",
       "5                     287\n",
       "6                     196\n",
       "7                     207\n",
       "8                     165\n",
       "9                      48\n",
       "10-strongly like       35\n",
       "Name: aq14_2, dtype: int64"
      ]
     },
     "execution_count": 45,
     "metadata": {},
     "output_type": "execute_result"
    }
   ],
   "source": [
    "BES_df_list[\"2010\"]['aq14_2'].value_counts().sort_index()"
   ]
  },
  {
   "cell_type": "code",
   "execution_count": 47,
   "id": "739a97bc",
   "metadata": {},
   "outputs": [
    {
     "data": {
      "text/plain": [
       "0-strongly dislike    191\n",
       "1                      95\n",
       "2                     136\n",
       "3                     173\n",
       "4                     156\n",
       "5                     210\n",
       "6                     146\n",
       "7                     146\n",
       "8                     120\n",
       "9                      45\n",
       "10-strongly like       46\n",
       "Name: aq14_1, dtype: int64"
      ]
     },
     "execution_count": 47,
     "metadata": {},
     "output_type": "execute_result"
    }
   ],
   "source": [
    "BES_df_list[\"2010\"]['aq14_1'].value_counts().sort_index()"
   ]
  },
  {
   "cell_type": "code",
   "execution_count": null,
   "id": "c3682fc9",
   "metadata": {},
   "outputs": [],
   "source": [
    "# 2019 region\n",
    "South East            531\n",
    "North West            470\n",
    "London                449\n",
    "Scotland              379\n",
    "Yorkshire & Humber    379\n",
    "West Midlands         369\n",
    "Eastern               350\n",
    "South West            337\n",
    "East Midlands         281\n",
    "Wales                 211\n",
    "North East            190\n",
    "\n",
    "# 2017 region\n",
    "North West            304\n",
    "South East            282\n",
    "West Midlands         227\n",
    "Eastern               226\n",
    "London                212\n",
    "Scotland              191\n",
    "Yorkshire & Humber    187\n",
    "South West            167\n",
    "East Midlands         156\n",
    "Wales                 129\n",
    "North East            113\n",
    "\n",
    "# 2015 gor\n",
    "North West                  408\n",
    "South East                  398\n",
    "London                      310\n",
    "West Midlands               294\n",
    "South West                  277\n",
    "Yorkshire and the Humber    272\n",
    "Scotland                    266\n",
    "East of England             255\n",
    "East Midlands               215\n",
    "Wales                       161\n",
    "North East                  131\n",
    "\n",
    "# 2010 pregion\n",
    "Scotland                    642\n",
    "South East                  406\n",
    "North West                  311\n",
    "West Midlands               244\n",
    "South West                  241\n",
    "Wales                       235\n",
    "East of England             225\n",
    "London                      213\n",
    "Yorkshire and The Humber    208\n",
    "East Midlands               191\n",
    "North East                  159\n",
    "\n",
    "# 2005 tregion\n",
    "South East                  404\n",
    "East of England             333\n",
    "North West                  299\n",
    "South_West                  286\n",
    "Yorkshire and the Humber    275\n",
    "London                      240\n",
    "West Midlands               235\n",
    "East Midlands               199\n",
    "North East                   98\n",
    "??? missing values ???\n",
    "\n",
    "# 2001 regnall, region\n",
    "scotland             737\n",
    "wales                488\n",
    "south east           454\n",
    "north west           236\n",
    "york & humberside    233\n",
    "south west           178\n",
    "greater london       172\n",
    "west midlands        167\n",
    "north                142\n",
    "east midlands        125\n",
    "east anglia           98\n",
    "\n",
    "# 1997 stregion\n",
    "scotland              882\n",
    "south east england    586\n",
    "greater london        314\n",
    "west midlands         293\n",
    "yorks+humberside      261\n",
    "north west            258\n",
    "south west england    248\n",
    "east midlands         227\n",
    "north                 197\n",
    "wales                 182\n",
    "east anglia           167\n",
    "\n",
    "# 1992 arfe\n",
    "scotland              957\n",
    "south east england    534\n",
    "greater london        303\n",
    "north west            296\n",
    "west midlands         293\n",
    "yorks+humberside      267\n",
    "south west england    250\n",
    "east midlands         214\n",
    "north                 177\n",
    "wales                 149\n",
    "east anglia            94\n",
    "\n",
    "# 1987 ['scprarea'].apply(area_to_region).value_counts()\n",
    "South East        707\n",
    "North West        433\n",
    "Greater London    386\n",
    "West Mids         368\n",
    "Scotland          366\n",
    "South West        346\n",
    "Yorks/Humbs       329\n",
    "East Mids         281\n",
    "North             252\n",
    "Wales             214\n",
    "East Anglia       144\n",
    "\n",
    "# 1983 region\n",
    "south east        708\n",
    "north west        513\n",
    "greater london    420\n",
    "scotland          402\n",
    "west midlands     386\n",
    "yorks & humber    371\n",
    "east midlands     288\n",
    "south west        285\n",
    "north             229\n",
    "wales             212\n",
    "east anglia       141\n",
    "\n",
    "# 1979  m071300\n",
    "south east              374\n",
    "greater london          214\n",
    "west midlands           202\n",
    "northwest               199\n",
    "yorkshire & humbersd    188\n",
    "scotland                149\n",
    "southwest               146\n",
    "northern                126\n",
    "east midlands           126\n",
    "wales                   103\n",
    "east anglia              66\n",
    "\n",
    "## 74_feb 'feb071'\n",
    "## 74_oct 'oct071'\n",
    "# region\n",
    "\n",
    "# 1 North\n",
    "# 2 Yorkshire-Humberside\n",
    "# 3 East Midlands\n",
    "# 4 East Anglia\n",
    "# 5 South East\n",
    "# 6 Greater London\n",
    "# 7 South West\n",
    "# 8 Wales\n",
    "# 9 West Midlands\n",
    "# 10 North West\n",
    "# 12 Scotland\n",
    "\n",
    "## 1964-70 v35-v38\n",
    "# 1. SCOTLAND\n",
    "# 2. WALES (inc Monmouthshire)\n",
    "# 3. NORTHERN ENGLAND (Cheshire, Cumberland, Durham, Lancashire, Northumberland, Westmorland, Yorkshire)\n",
    "# 4. MIDLANDS AND EASTERN ENGLAND (Bedfordshire, Cambridgeshire, Derbyshire, Herefordshire, Huntingdonshire, Isle of Ely, Leicestershire, Lincolnshire, Norfolk, Northamptonshire, Nottinghamshire, Shropshire, Oxfordshire, Staffordshire, Suffolk, Warwickshire, Worcestershire)\n",
    "# 5. SOUTHWESTERN ENGLAND (Cornwall, Devonshire, Gloucestershire, Somerset, Wiltshire)\n",
    "# 6. LONDON AND SOUTHEASTERN ENGLAND (Berkshire, Buckinghamshire, Dorset, Essex, Hampshire, Hertfordshire, Isle of Wight, Kent, London, Middlesex, Surrey, Sussex)\n",
    "# 0. RESP NOT INTERVIEWED IN 63\n"
   ]
  },
  {
   "cell_type": "code",
   "execution_count": 143,
   "id": "47d354e5",
   "metadata": {},
   "outputs": [],
   "source": [
    "f2f_harmonised[\"region\"] = np.nan"
   ]
  },
  {
   "cell_type": "code",
   "execution_count": 148,
   "id": "aaa89b4a",
   "metadata": {},
   "outputs": [],
   "source": [
    "ge = \"1974_feb\"\n",
    "rep_dict = {\"south east\":\"South East\",\"north west\":\"North West\",\"greater london\":\"London\",\"yorkshire-humberside\":\"Yorks/Humbs\",\n",
    "           \"scotland\":\"Scotland\",\"west midlands\":\"West Midlands\",\"south west\":\"South West\",\"east midlands\":\"East Midlands\",\n",
    "           \"north\":\"North East\",\"wales\":\"Wales\",\"east anglia\":\"Eastern\"}\n",
    "BES_df_list[ge]['feb071'].replace(rep_dict).value_counts(dropna=False)\n",
    "f2f_harmonised.loc[f2f_harmonised[\"dataset\"]==ge,\"region\"] = BES_df_list[ge]['feb071'].replace(rep_dict)"
   ]
  },
  {
   "cell_type": "code",
   "execution_count": 150,
   "id": "28b4fb55",
   "metadata": {},
   "outputs": [],
   "source": [
    "ge = \"1974_oct\"\n",
    "rep_dict = {\"south east\":\"South East\",\"north west\":\"North West\",\"greater london\":\"London\",\"yorkshire-humberside\":\"Yorks/Humbs\",\n",
    "           \"scotland\":\"Scotland\",\"west midlands\":\"West Midlands\",\"south west\":\"South West\",\"east midlands\":\"East Midlands\",\n",
    "           \"north\":\"North East\",\"wales\":\"Wales\",\"east anglia\":\"Eastern\"}\n",
    "BES_df_list[ge]['oct071'].replace(rep_dict).value_counts(dropna=False)\n",
    "f2f_harmonised.loc[f2f_harmonised[\"dataset\"]==ge,\"region\"] = BES_df_list[ge]['oct071'].replace(rep_dict)"
   ]
  },
  {
   "cell_type": "code",
   "execution_count": 153,
   "id": "ea0f0303",
   "metadata": {},
   "outputs": [],
   "source": [
    "ge = \"1979\"\n",
    "rep_dict = {\"south east\":\"South East\",\"northwest\":\"North West\",\"greater london\":\"London\",\"yorkshire & humbersd\":\"Yorks/Humbs\",\n",
    "           \"scotland\":\"Scotland\",\"west midlands\":\"West Midlands\",\"southwest\":\"South West\",\"east midlands\":\"East Midlands\",\n",
    "           \"northern\":\"North East\",\"wales\":\"Wales\",\"east anglia\":\"Eastern\"}\n",
    "BES_df_list[ge]['m071300'].replace(rep_dict).value_counts(dropna=False)\n",
    "f2f_harmonised.loc[f2f_harmonised[\"dataset\"]==ge,\"region\"] = BES_df_list[ge]['m071300'].replace(rep_dict)"
   ]
  },
  {
   "cell_type": "code",
   "execution_count": 156,
   "id": "946c8824",
   "metadata": {},
   "outputs": [],
   "source": [
    "ge = \"1983\"\n",
    "rep_dict = {\"south east\":\"South East\",\"north west\":\"North West\",\"greater london\":\"London\",\"yorks & humber\":\"Yorks/Humbs\",\n",
    "           \"scotland\":\"Scotland\",\"west midlands\":\"West Midlands\",\"south west\":\"South West\",\"east midlands\":\"East Midlands\",\n",
    "           \"north\":\"North East\",\"wales\":\"Wales\",\"east anglia\":\"Eastern\"}\n",
    "BES_df_list[ge]['region'].replace(rep_dict).value_counts(dropna=False)\n",
    "f2f_harmonised.loc[f2f_harmonised[\"dataset\"]==ge,\"region\"] = BES_df_list[ge]['region'].replace(rep_dict)"
   ]
  },
  {
   "cell_type": "code",
   "execution_count": 159,
   "id": "a3fe3c14",
   "metadata": {},
   "outputs": [],
   "source": [
    "ge = \"1987\"\n",
    "rep_dict = {\"south east\":\"South East\",\"north west\":\"North West\",\"Greater London\":\"London\",\"yorks & humber\":\"Yorks/Humbs\",\n",
    "           \"scotland\":\"Scotland\",\"West Mids\":\"West Midlands\",\"south west\":\"South West\",\"East Mids\":\"East Midlands\",\n",
    "           \"North\":\"North East\",\"wales\":\"Wales\",\"East Anglia\":\"Eastern\"}\n",
    "BES_df_list[ge]['scprarea'].apply(area_to_region).replace(rep_dict).value_counts(dropna=False)\n",
    "f2f_harmonised.loc[f2f_harmonised[\"dataset\"]==ge,\"region\"] = BES_df_list[ge]['scprarea'].apply(area_to_region).replace(rep_dict)"
   ]
  },
  {
   "cell_type": "code",
   "execution_count": 162,
   "id": "7b79b62a",
   "metadata": {},
   "outputs": [],
   "source": [
    "ge = \"1992\"\n",
    "rep_dict = {\"south east england\":\"South East\",\"north west\":\"North West\",\"greater london\":\"London\",\"yorks+humberside\":\"Yorks/Humbs\",\n",
    "           \"scotland\":\"Scotland\",\"west midlands\":\"West Midlands\",\"south west england\":\"South West\",\"east midlands\":\"East Midlands\",\n",
    "           \"north\":\"North East\",\"wales\":\"Wales\",\"east anglia\":\"Eastern\"}\n",
    "BES_df_list[ge]['arfe'].replace(rep_dict).value_counts(dropna=False)\n",
    "f2f_harmonised.loc[f2f_harmonised[\"dataset\"]==ge,\"region\"] = BES_df_list[ge]['arfe'].replace(rep_dict)"
   ]
  },
  {
   "cell_type": "code",
   "execution_count": 165,
   "id": "6edef29a",
   "metadata": {},
   "outputs": [],
   "source": [
    "ge = \"1997\"\n",
    "rep_dict = {\"south east england\":\"South East\",\"north west\":\"North West\",\"greater london\":\"London\",\"yorks+humberside\":\"Yorks/Humbs\",\n",
    "           \"scotland\":\"Scotland\",\"west midlands\":\"West Midlands\",\"south west england\":\"South West\",\"east midlands\":\"East Midlands\",\n",
    "           \"north\":\"North East\",\"wales\":\"Wales\",\"east anglia\":\"Eastern\"}\n",
    "BES_df_list[ge]['stregion'].replace(rep_dict).value_counts(dropna=False)\n",
    "f2f_harmonised.loc[f2f_harmonised[\"dataset\"]==ge,\"region\"] = BES_df_list[ge]['stregion'].replace(rep_dict)"
   ]
  },
  {
   "cell_type": "code",
   "execution_count": 168,
   "id": "9ea5446a",
   "metadata": {},
   "outputs": [],
   "source": [
    "ge = \"2001\"\n",
    "rep_dict = {\"south-east\":\"South East\",\"north west\":\"North West\",\"greater london\":\"London\",\"yorkshire and humberside\":\"Yorks/Humbs\",\n",
    "           \"scotland\":\"Scotland\",\"west midlands\":\"West Midlands\",\"south west\":\"South West\",\"east midlands\":\"East Midlands\",\n",
    "           \"north\":\"North East\",\"wales\":\"Wales\",\"east anglia\":\"Eastern\"}\n",
    "BES_df_list[ge]['region'].replace(rep_dict).value_counts(dropna=False)\n",
    "f2f_harmonised.loc[f2f_harmonised[\"dataset\"]==ge,\"region\"] = BES_df_list[ge]['region'].replace(rep_dict)"
   ]
  },
  {
   "cell_type": "code",
   "execution_count": 171,
   "id": "72d089c0",
   "metadata": {},
   "outputs": [],
   "source": [
    "ge = \"2010\"\n",
    "rep_dict = {\"south-east\":\"South East\",\"north west\":\"North West\",\"greater london\":\"London\",\"Yorkshire and The Humber\":\"Yorks/Humbs\",\n",
    "           \"scotland\":\"Scotland\",\"west midlands\":\"West Midlands\",\"south west\":\"South West\",\"east midlands\":\"East Midlands\",\n",
    "           \"north\":\"North East\",\"wales\":\"Wales\",\"East of England\":\"Eastern\"}\n",
    "BES_df_list[ge]['pregion'].replace(rep_dict).value_counts(dropna=False)\n",
    "f2f_harmonised.loc[f2f_harmonised[\"dataset\"]==ge,\"region\"] = BES_df_list[ge]['pregion'].replace(rep_dict)"
   ]
  },
  {
   "cell_type": "code",
   "execution_count": 174,
   "id": "3fc87570",
   "metadata": {},
   "outputs": [],
   "source": [
    "ge = \"2015\"\n",
    "rep_dict = {\"south-east\":\"South East\",\"north west\":\"North West\",\"greater london\":\"London\",\"Yorkshire and the Humber\":\"Yorks/Humbs\",\n",
    "           \"scotland\":\"Scotland\",\"west midlands\":\"West Midlands\",\"south west\":\"South West\",\"east midlands\":\"East Midlands\",\n",
    "           \"north\":\"North East\",\"wales\":\"Wales\",\"East of England\":\"Eastern\"}\n",
    "BES_df_list[ge]['gor'].replace(rep_dict).value_counts(dropna=False)\n",
    "f2f_harmonised.loc[f2f_harmonised[\"dataset\"]==ge,\"region\"] = BES_df_list[ge]['gor'].replace(rep_dict)"
   ]
  },
  {
   "cell_type": "code",
   "execution_count": 177,
   "id": "92839037",
   "metadata": {},
   "outputs": [],
   "source": [
    "ge = \"2017\"\n",
    "rep_dict = {\"south-east\":\"South East\",\"north west\":\"North West\",\"greater london\":\"London\",\"Yorkshire & Humber\":\"Yorks/Humbs\",\n",
    "           \"scotland\":\"Scotland\",\"west midlands\":\"West Midlands\",\"south west\":\"South West\",\"east midlands\":\"East Midlands\",\n",
    "           \"north\":\"North East\",\"wales\":\"Wales\",\"East of England\":\"Eastern\"}\n",
    "BES_df_list[ge]['region'].replace(rep_dict).value_counts(dropna=False)\n",
    "f2f_harmonised.loc[f2f_harmonised[\"dataset\"]==ge,\"region\"] = BES_df_list[ge]['region'].replace(rep_dict)"
   ]
  },
  {
   "cell_type": "code",
   "execution_count": 179,
   "id": "e7b7760b",
   "metadata": {},
   "outputs": [],
   "source": [
    "ge = \"2019\"\n",
    "rep_dict = {\"south-east\":\"South East\",\"north west\":\"North West\",\"greater london\":\"London\",\"Yorkshire & Humber\":\"Yorks/Humbs\",\n",
    "           \"scotland\":\"Scotland\",\"west midlands\":\"West Midlands\",\"south west\":\"South West\",\"east midlands\":\"East Midlands\",\n",
    "           \"north\":\"North East\",\"wales\":\"Wales\",\"East of England\":\"Eastern\"}\n",
    "BES_df_list[ge]['region'].replace(rep_dict).value_counts(dropna=False)\n",
    "f2f_harmonised.loc[f2f_harmonised[\"dataset\"]==ge,\"region\"] = BES_df_list[ge]['region'].replace(rep_dict)"
   ]
  },
  {
   "cell_type": "code",
   "execution_count": 201,
   "id": "65311bc2",
   "metadata": {},
   "outputs": [],
   "source": [
    "ge = \"2005\"\n",
    "\n",
    "BES_df_list[\"2005\"][\"region_complete\"] = np.nan\n",
    "BES_df_list[\"2005\"][\"region_complete\"] = BES_df_list[\"2005\"][\"agor\"]\n",
    "BES_df_list[\"2005\"].loc[BES_df_list[\"2005\"][\"aregion\"]==10,\"region_complete\"] = \"Wales\"\n",
    "BES_df_list[\"2005\"].loc[BES_df_list[\"2005\"][\"aregion\"]==11,\"region_complete\"] = \"Scotland\"\n",
    "BES_df_list[\"2005\"][\"region_complete\"].value_counts(dropna=False)\n",
    "\n",
    "rep_dict = {\"south-east\":\"South East\",\"north west\":\"North West\",\"greater london\":\"London\",\"Yorkshire and the Humber\":\"Yorks/Humbs\",\n",
    "           \"scotland\":\"Scotland\",\"west midlands\":\"West Midlands\",\"South_West\":\"South West\",\"east midlands\":\"East Midlands\",\n",
    "           \"north\":\"North East\",\"wales\":\"Wales\",\"East of England\":\"Eastern\"}\n",
    "BES_df_list[ge]['region_complete'].replace(rep_dict).value_counts(dropna=False)\n",
    "f2f_harmonised.loc[f2f_harmonised[\"dataset\"]==ge,\"region\"] = BES_df_list[ge]['region_complete'].replace(rep_dict)"
   ]
  },
  {
   "cell_type": "code",
   "execution_count": 230,
   "id": "da1a20f7",
   "metadata": {},
   "outputs": [
    {
     "data": {
      "text/plain": [
       "0.0    1567\n",
       "6.0     407\n",
       "3.0     388\n",
       "4.0     284\n",
       "1.0     111\n",
       "5.0      89\n",
       "2.0      76\n",
       "Name: v38, dtype: int64"
      ]
     },
     "execution_count": 230,
     "metadata": {},
     "output_type": "execute_result"
    }
   ],
   "source": [
    "BES_df_list[\"1970\"][\"v38\"].value_counts()\n",
    "\n",
    "## 1964-70 v35-v38\n",
    "# 1. SCOTLAND\n",
    "# 2. WALES (inc Monmouthshire)\n",
    "# 3. NORTHERN ENGLAND (Cheshire, Cumberland, Durham, Lancashire, Northumberland, Westmorland, Yorkshire)\n",
    "# 4. MIDLANDS AND EASTERN ENGLAND (Bedfordshire, Cambridgeshire, Derbyshire, Herefordshire, Huntingdonshire, Isle of Ely, Leicestershire, Lincolnshire, Norfolk, Northamptonshire, Nottinghamshire, Shropshire, Oxfordshire, Staffordshire, Suffolk, Warwickshire, Worcestershire)\n",
    "# 5. SOUTHWESTERN ENGLAND (Cornwall, Devonshire, Gloucestershire, Somerset, Wiltshire)\n",
    "# 6. LONDON AND SOUTHEASTERN ENGLAND (Berkshire, Buckinghamshire, Dorset, Essex, Hampshire, Hertfordshire, Isle of Wight, Kent, London, Middlesex, Surrey, Sussex)\n",
    "# 0. RESP NOT INTERVIEWED IN 63\n",
    "\n",
    "## 0, 1, 2, 5, don't need to be touched\n",
    "# 3 -> needs to be split into North West and North East and Yorks/Humber\n",
    "# 4 -> needs to be split into East Midlands, West Midlands and Eastern\n",
    "# 6 -> needs to be split into (Greater) London and South East"
   ]
  },
  {
   "cell_type": "code",
   "execution_count": 233,
   "id": "f19d63a4",
   "metadata": {},
   "outputs": [
    {
     "data": {
      "text/plain": [
       "(52,)"
      ]
     },
     "execution_count": 233,
     "metadata": {},
     "output_type": "execute_result"
    }
   ],
   "source": [
    "BES_df_list[\"1970\"][\"v34\"][BES_df_list[\"1970\"][\"v38\"]==6].value_counts().shape\n",
    "\n",
    "# 52 constituencies"
   ]
  },
  {
   "cell_type": "code",
   "execution_count": null,
   "id": "a1d22235",
   "metadata": {},
   "outputs": [],
   "source": [
    "\"\"\"001 1\n",
    "003 1\n",
    "005 1\n",
    "007 1\n",
    "009 2\n",
    "011 2\n",
    "013 3\n",
    "015 3\n",
    "017 3\n",
    "019 3\n",
    "021 3\n",
    "023 3\n",
    "025 3\n",
    "027 3\n",
    "029 3\n",
    "031 3\n",
    "033 3\n",
    "035 4\n",
    "037 4\n",
    "039 4\n",
    "3\n",
    "3\n",
    "1\n",
    "1\n",
    "4\n",
    "1\n",
    "4\n",
    "3\n",
    "2\n",
    "3\n",
    "1\n",
    "1\n",
    "1\n",
    "1\n",
    "1\n",
    "1\n",
    "1\n",
    "4\n",
    "4\n",
    "2\n",
    "RENFREWSHIRE EAST\n",
    "CENTRAL AYRSHIRE\n",
    "EDINBURGH NORTH\n",
    "GLASGOW BRIDGETON\n",
    "CARMARTHEN\n",
    "CARDIFF WEST\n",
    "HEXHAM\n",
    "SOUTH FYLDE\n",
    "MIDDLETON & PRESTWICH\n",
    "DON VALLEY\n",
    "NEWCASTLE UPON TYNE\n",
    "SOUTH SHIELDS\n",
    "BLACKPOOL NORTH\n",
    "SHEFFIELD HEELEY\n",
    "MANCHESTER WYTHENSHAWE\n",
    "BIRKENHEAD\n",
    "SHEFFIELD HILLSBOROUGH\n",
    "HARBOROUGH\n",
    "BURY ST. EDMUNDS\n",
    "NUNEATON\n",
    "002\n",
    "004\n",
    "006\n",
    "008\n",
    "010\n",
    "012\n",
    "014\n",
    "016\n",
    "018\n",
    "020\n",
    "022\n",
    "024\n",
    "026\n",
    "028\n",
    "030\n",
    "032\n",
    "034\n",
    "036\n",
    "038\n",
    "040\n",
    "1\n",
    "1\n",
    "1\n",
    "1\n",
    "2\n",
    "2\n",
    "3\n",
    "3\n",
    "3\n",
    "3\n",
    "3\n",
    "3\n",
    "3\n",
    "3\n",
    "3\n",
    "3\n",
    "3\n",
    "4\n",
    "4\n",
    "4\n",
    "4\n",
    "4\n",
    "1\n",
    "1\n",
    "4\n",
    "3\n",
    "4\n",
    "4\n",
    "3\n",
    "3\n",
    "1\n",
    "1\n",
    "1\n",
    "1\n",
    "1\n",
    "1\n",
    "1\n",
    "4\n",
    "3\n",
    "1\n",
    "ABERDEENSHIRE WEST\n",
    "CLACKMANNAN & EAST STIRLING\n",
    "EDINBURGH EAST\n",
    "PAISLEY\n",
    "CAERNARVON\n",
    "PONTYPOOL\n",
    "DURHAM\n",
    "THIRSK & MALTON\n",
    "DARWEN\n",
    "HEHSWORTH\n",
    "LIVERPOOL EDGE HILL\n",
    "BARNSLEY\n",
    "MANCHESTER MOSS SIDE\n",
    "DARLINGTON\n",
    "BRADFORD SOUTH\n",
    "DEWSBURY\n",
    "HUDDERSFIELD WEST\n",
    "HENLEY\n",
    "RUSHCLIFFE\n",
    "COVENTRY NORTH\"\"\""
   ]
  },
  {
   "cell_type": "code",
   "execution_count": null,
   "id": "2e4d653e",
   "metadata": {},
   "outputs": [],
   "source": [
    "\"\"\"041 4\n",
    "043 4\n",
    "045 4\n",
    "047 4\n",
    "049 4\n",
    "051 5\n",
    "053 5\n",
    "055 5\n",
    "057 6\n",
    "059 6\n",
    "061 6\n",
    "063 6\n",
    "065 6\n",
    "067 6\n",
    "069 6\n",
    "071 6\n",
    "073 6\n",
    "075 6\n",
    "077 6\n",
    "079 6\n",
    "081 3\n",
    "083 6\n",
    "085 5\n",
    "087 6\n",
    "089 4\n",
    "091 4\n",
    "093 6\n",
    "095 6\n",
    "097 4\n",
    "099 4\n",
    "4\n",
    "4\n",
    "1\n",
    "1\n",
    "1\n",
    "4\n",
    "1\n",
    "3\n",
    "3\n",
    "3\n",
    "4\n",
    "3\n",
    "1\n",
    "1\n",
    "1\n",
    "1\n",
    "1\n",
    "1\n",
    "1\n",
    "1\n",
    "5\n",
    "5\n",
    "5\n",
    "5\n",
    "5\n",
    "5\n",
    "5\n",
    "5\n",
    "5\n",
    "5\n",
    "HOLLAND WITH BOSTON 042 4\n",
    "LEEK 044 4\n",
    "BIRMINGHAM HANDSWORTH 046 4\n",
    "WALSALL SOUTH 048 4\n",
    "NOTTINGHAM NORTH 050 4\n",
    "HONITON 052 5\n",
    "TORQUAY 054 5\n",
    "FALHOUTH & CAMBORNE 056 6\n",
    "EPSOM 058 6\n",
    "FOLKESTONE & HYTHE 060 6\n",
    "BASINGSTOKE 062 6\n",
    "HITCHIN 064 6\n",
    "POOLE 066 6\n",
    "PORTSMOUTH WEST 068 6\n",
    "KINGSTON UPON THAMES 070 6\n",
    "WEMBLEY SOUTH 072 6\n",
    "LEWISHAM WEST 074 6\n",
    "FELTHAM 076 6\n",
    "SOUTHAMPTON ITCHEN 078 6\n",
    "WILLESDEN WEST 080 6\n",
    "BARKSTON ASH 082 3\n",
    "BRIGHTON KEMPTON 084 4\n",
    "EXETER 086 3\n",
    "HARROW CENTRAL 088 6\n",
    "BARKET BOSWORTH 090 4\n",
    "NOTTINGHAM WEST 092 2\n",
    "REIGATE 094 1\n",
    "RICHMOND (SURREY) 096 6\n",
    "SOUTH EAST DERBYSHIRE 098 4\n",
    "YARMOUTH 100 6\n",
    "4\n",
    "3\n",
    "1\n",
    "1\n",
    "1\n",
    "4\n",
    "1\n",
    "3\n",
    "3\n",
    "4\n",
    "4\n",
    "3\n",
    "2\n",
    "1\n",
    "1\n",
    "1\n",
    "1\n",
    "1\n",
    "1\n",
    "1\n",
    "5\n",
    "5\n",
    "5\n",
    "5\n",
    "5\n",
    "z\n",
    "5\n",
    "5\n",
    "5\n",
    "SOUTH NORTHANTS\n",
    "ILKESTON\n",
    "NORTHAMPTON\n",
    "COVENTRY SOUTH\n",
    "STOKE ON TRENT CENTRAL\n",
    "BRIDGWATER\n",
    "BRISTOL CENTRAL\n",
    "HERTFORD\n",
    "WINCHESTER\n",
    "SEVENOAKS\n",
    "AYLESBURY\n",
    "GUILDPORD\n",
    "UXBRIDGE\n",
    "BARONS COURT\n",
    "BROMLEY\n",
    "HESTON & ISLEWORTH\n",
    "ACTON\n",
    "TOTTENHAH\n",
    "FULHAM\n",
    "BERMONDSEY\n",
    "BISHOP AUCKLAND\n",
    "CARLTON\n",
    "GOOLE\n",
    "HENDON SOUTH\n",
    "MID-BEDFORDSHIRE\n",
    "OGMORE\n",
    "RENFREWSHIRE WEST\n",
    "SOUTHWARK\n",
    "WEST DERBYSHIRE\n",
    "BECKENHAM\"\"\""
   ]
  },
  {
   "cell_type": "code",
   "execution_count": null,
   "id": "a00b0e9c",
   "metadata": {},
   "outputs": [],
   "source": [
    "\"\"\"101\n",
    "106\n",
    "112\n",
    "114\n",
    "116\n",
    "118\n",
    "121\n",
    "124\n",
    "127\n",
    "129\n",
    "131\n",
    "133\n",
    "135\n",
    "137\n",
    "139\n",
    "141\n",
    "143\n",
    "145\n",
    "147\n",
    "149\n",
    "151\n",
    "153\n",
    "155\n",
    "157\n",
    "159\n",
    "161\n",
    "163\n",
    "165\n",
    "167\n",
    "169\n",
    "171\n",
    "102\n",
    "110\n",
    "113\n",
    "115\n",
    "117\n",
    "120\n",
    "122\n",
    "126\n",
    "128\n",
    "130\n",
    "132\n",
    "134\n",
    "136\n",
    "138\n",
    "140\n",
    "142\n",
    "144\n",
    "146\n",
    "148\n",
    "150\n",
    "152\n",
    "154\n",
    "156\n",
    "158\n",
    "160\n",
    "162\n",
    "164\n",
    "166\n",
    "168\n",
    "170\n",
    "172\n",
    "\n",
    "BLACKPOOL SOUTH\n",
    "IPSWICH\n",
    "WOKINGHAM\n",
    "DONCASTER\n",
    "NEWCASTLE UPON TYNE EAST\n",
    "LIVERPOOL GARSTON\n",
    "COVENTRY EAST\n",
    "BILLERICAY\n",
    "BRIGHOUSE & SPENBOROUGH\n",
    "SEDGEFIELD\n",
    "NEWCASTLE UPON TYNE WEST\n",
    "BEBINGTON\n",
    "GLASGOW-SHETTLESTON\n",
    "ISLINGTON\n",
    "\n",
    "HORSHAM\n",
    "ARUNDEL & SHOREHAM\n",
    "BATLEY & MORLEY\n",
    "BRECON & RADNOR\n",
    "\n",
    "CHELSEA\n",
    "CREWE\n",
    "\n",
    "DEVON NORTH\n",
    "DORSET SOUTH\n",
    "EASTLEIGH\n",
    "GLASGOW-CATHCART\n",
    "GOWER\n",
    "\n",
    "MAIDSTONE\n",
    "MONTGOMERY\n",
    "NEWBURY\n",
    "READING\n",
    "\n",
    "\n",
    "\n",
    "ALDERSHOT\n",
    "BOURNEMOUTH E. & CHRISTCHURCH\n",
    "CHEADLE\n",
    "CHESTER-LE-STREET\n",
    "DEARNE VALLEY\n",
    "DORSET NORTH\n",
    "EASINGTON\n",
    "EPPING\n",
    "GOSPORT & FAREHAH\n",
    "HEMEL HEMPSTEAD\n",
    "MIDLOTHIAN\n",
    "MORECAMBE\n",
    "PORTSMOUTH SOUTH\n",
    "RICHMOND (YORKS)\n",
    "SOMERSET NORTH\n",
    "SPELTHORNE\n",
    "STOCKPORT SOUTH\n",
    "TAUNTON\n",
    "TWICKENHAM\n",
    "WANDSWORTH & PUTNEY\n",
    "WESTON-S-MARE\n",
    "WIMBLEDON\n",
    "WOKING\n",
    "\n",
    "RUNCORN\n",
    "\n",
    "SOUTHALL\n",
    "STOCKPORT NORTH\n",
    "SUTTON COLDFIELD\n",
    "TIVERTON\n",
    "WAKEFIELD\n",
    "WELLS\n",
    "\n",
    "WIGAN\n",
    "WINDSOR\n",
    "KETTERING\"\"\""
   ]
  },
  {
   "cell_type": "code",
   "execution_count": 239,
   "id": "41e21f17",
   "metadata": {},
   "outputs": [
    {
     "data": {
      "text/plain": [
       "{'173': 'LEITH',\n",
       " '175': 'PONTEFRACT',\n",
       " '177': 'CARDIFF S.E.',\n",
       " '179': 'BOURNEHOUTH WEST',\n",
       " '181': 'BUCKINGHAM',\n",
       " '183': 'DORSET WEST',\n",
       " '185': 'HAMMERSMITH NORTH',\n",
       " '187': 'PETERSFIELD',\n",
       " '189': 'SUTTON & CHEAM',\n",
       " '191': 'OSWESTRY',\n",
       " '193': 'GRIMSBY',\n",
       " '195': 'BURLEY (N.E. DERBYSHIRE)',\n",
       " '197': 'CHICHESTER',\n",
       " '199': 'CHISLEHURST',\n",
       " '201': 'N.W. CROYDON',\n",
       " '203': 'WARRINGTON (LANCS)',\n",
       " '205': 'LOWESTOFT',\n",
       " '207': \"KING'S LYNN\",\n",
       " '209': 'WEST LOTHIAN',\n",
       " '211': 'HOVE',\n",
       " '213': 'ACCRINGTON',\n",
       " '215': 'ST. IVES',\n",
       " '217': 'PECKHAM',\n",
       " '219': 'ROCHDALE',\n",
       " '221': 'COLNE VALLEY',\n",
       " '223': 'ALTRINCHAM & SALE',\n",
       " '225': 'BOSWORTH',\n",
       " '227': 'WIRRAL',\n",
       " '229': 'SHEFFIELD PARK',\n",
       " '231': 'YEOVIL',\n",
       " '174': 'CONWAY',\n",
       " '176': 'LIVERPOOL WAVERTREE',\n",
       " '178': 'CARDIFF N.',\n",
       " '180': 'EALING SOUTH',\n",
       " '182': 'SHEFFIELD HALLAM',\n",
       " '184': 'HACKNEY CENTRAL',\n",
       " '186': 'BARNET',\n",
       " '188': 'HUDDERSFIELD EAST',\n",
       " '190': 'LUTON',\n",
       " '192': 'KNUTSFORD',\n",
       " '194': 'PRESTON NORTH',\n",
       " '196': 'ROTHER VALLEY',\n",
       " '198': 'WOOLWICH WEST',\n",
       " '200': 'WORTHING',\n",
       " '202': 'ORMSKIRK',\n",
       " '204': 'ABERDEEN SOUTH',\n",
       " '206': 'CARDIGAN',\n",
       " '208': 'MERIONETH',\n",
       " '210': 'BUTE & N. AYRSHIRE',\n",
       " '212': 'LANARK',\n",
       " '214': 'WESTMORLAND',\n",
       " '216': 'CHERTSEY',\n",
       " '218': 'CHIPPENHAM',\n",
       " '220': 'CHESTER (CITY)',\n",
       " '222': 'BASSETLAW',\n",
       " '224': 'OLDHAM WEST',\n",
       " '226': 'TOTNES',\n",
       " '228': 'DERBY SOUTH',\n",
       " '230': 'SOUTHAMPTON TEST',\n",
       " '232': 'LOUTH'}"
      ]
     },
     "execution_count": 239,
     "metadata": {},
     "output_type": "execute_result"
    }
   ],
   "source": [
    "dict(zip(\"\"\"173\n",
    "175\n",
    "177\n",
    "179\n",
    "181\n",
    "183\n",
    "185\n",
    "187\n",
    "189\n",
    "191\n",
    "193\n",
    "195\n",
    "197\n",
    "199\n",
    "201\n",
    "203\n",
    "205\n",
    "207\n",
    "209\n",
    "211\n",
    "213\n",
    "215\n",
    "217\n",
    "219\n",
    "221\n",
    "223\n",
    "225\n",
    "227\n",
    "229\n",
    "231\n",
    "174\n",
    "176\n",
    "178\n",
    "180\n",
    "182\n",
    "184\n",
    "186\n",
    "188\n",
    "190\n",
    "192\n",
    "194\n",
    "196\n",
    "198\n",
    "200\n",
    "202\n",
    "204\n",
    "206\n",
    "208\n",
    "210\n",
    "212\n",
    "214\n",
    "216\n",
    "218\n",
    "220\n",
    "222\n",
    "224\n",
    "226\n",
    "228\n",
    "230\n",
    "232\"\"\".split(\"\\n\"),\n",
    "\"\"\"LEITH\n",
    "PONTEFRACT\n",
    "CARDIFF S.E.\n",
    "BOURNEHOUTH WEST\n",
    "BUCKINGHAM\n",
    "DORSET WEST\n",
    "HAMMERSMITH NORTH\n",
    "PETERSFIELD\n",
    "SUTTON & CHEAM\n",
    "OSWESTRY\n",
    "GRIMSBY\n",
    "BURLEY (N.E. DERBYSHIRE)\n",
    "CHICHESTER\n",
    "CHISLEHURST\n",
    "N.W. CROYDON\n",
    "WARRINGTON (LANCS)\n",
    "LOWESTOFT\n",
    "KING'S LYNN\n",
    "WEST LOTHIAN\n",
    "HOVE\n",
    "ACCRINGTON\n",
    "ST. IVES\n",
    "PECKHAM\n",
    "ROCHDALE\n",
    "COLNE VALLEY\n",
    "ALTRINCHAM & SALE\n",
    "BOSWORTH\n",
    "WIRRAL\n",
    "SHEFFIELD PARK\n",
    "YEOVIL\n",
    "CONWAY\n",
    "LIVERPOOL WAVERTREE\n",
    "CARDIFF N.\n",
    "EALING SOUTH\n",
    "SHEFFIELD HALLAM\n",
    "HACKNEY CENTRAL\n",
    "BARNET\n",
    "HUDDERSFIELD EAST\n",
    "LUTON\n",
    "KNUTSFORD\n",
    "PRESTON NORTH\n",
    "ROTHER VALLEY\n",
    "WOOLWICH WEST\n",
    "WORTHING\n",
    "ORMSKIRK\n",
    "ABERDEEN SOUTH\n",
    "CARDIGAN\n",
    "MERIONETH\n",
    "BUTE & N. AYRSHIRE\n",
    "LANARK\n",
    "WESTMORLAND\n",
    "CHERTSEY\n",
    "CHIPPENHAM\n",
    "CHESTER (CITY)\n",
    "BASSETLAW\n",
    "OLDHAM WEST\n",
    "TOTNES\n",
    "DERBY SOUTH\n",
    "SOUTHAMPTON TEST\n",
    "LOUTH\"\"\".split(\"\\n\") ))"
   ]
  },
  {
   "cell_type": "code",
   "execution_count": 238,
   "id": "8f19427f",
   "metadata": {},
   "outputs": [
    {
     "data": {
      "text/plain": [
       "{'233': 'ENFIELD',\n",
       " '235': 'HAYES & HARLINGTON',\n",
       " '237': 'BANBURY',\n",
       " '239': 'WATFORD (HERTS)',\n",
       " '241': 'EAST HAM SOUTH',\n",
       " '243': 'ASHFORD',\n",
       " '245': 'EASTBOURNE',\n",
       " '247': 'S.E. ESSEX',\n",
       " '249': 'BERWICK UPON TWEED',\n",
       " '251': 'ROXBURGH, SELKIRK & PEEBLES ',\n",
       " '253': 'TYNEMOUTH',\n",
       " '255': 'MERIDEN',\n",
       " '257': 'HOUGHTON-LE-SPRING',\n",
       " '261': 'SALISBURY',\n",
       " '263': 'CAMBRIDGE ',\n",
       " '265': 'LOUGHBOROUGH',\n",
       " '234': 'CHELMSFORD',\n",
       " '236': 'RUISLIP-NORTHWOOD',\n",
       " '238': 'WILLESDEN EAST',\n",
       " '240': 'CATHCART',\n",
       " '242': 'EALING NORTH',\n",
       " '244': 'LEWES',\n",
       " '246': 'RYE',\n",
       " '248': 'HARWICH',\n",
       " '250': 'BLACKBURN',\n",
       " '252': 'SOUTH AYRSHIRE',\n",
       " '254': 'HARROW WEST',\n",
       " '256': 'LICHFIELD & TAMWORTH',\n",
       " '260': 'SOUTH WEST NORFOLK',\n",
       " '262': 'EDINBURGH WEST',\n",
       " '264': 'WELLINGBOROUGH',\n",
       " '266': 'HERTFORDSHIRE EAST'}"
      ]
     },
     "execution_count": 238,
     "metadata": {},
     "output_type": "execute_result"
    }
   ],
   "source": [
    "dict(zip(\"\"\"233\n",
    "235\n",
    "237\n",
    "239\n",
    "241\n",
    "243\n",
    "245\n",
    "247\n",
    "249\n",
    "251\n",
    "253\n",
    "255\n",
    "257\n",
    "261\n",
    "263\n",
    "265\n",
    "234\n",
    "236\n",
    "238\n",
    "240\n",
    "242\n",
    "244\n",
    "246\n",
    "248\n",
    "250\n",
    "252\n",
    "254\n",
    "256\n",
    "260\n",
    "262\n",
    "264\n",
    "266\"\"\".split(\"\\n\"),\\\n",
    "\"\"\"ENFIELD\n",
    "HAYES & HARLINGTON\n",
    "BANBURY\n",
    "WATFORD (HERTS)\n",
    "EAST HAM SOUTH\n",
    "ASHFORD\n",
    "EASTBOURNE\n",
    "S.E. ESSEX\n",
    "BERWICK UPON TWEED\n",
    "ROXBURGH, SELKIRK & PEEBLES \n",
    "TYNEMOUTH\n",
    "MERIDEN\n",
    "HOUGHTON-LE-SPRING\n",
    "SALISBURY\n",
    "CAMBRIDGE \n",
    "LOUGHBOROUGH\n",
    "CHELMSFORD\n",
    "RUISLIP-NORTHWOOD\n",
    "WILLESDEN EAST\n",
    "CATHCART\n",
    "EALING NORTH\n",
    "LEWES\n",
    "RYE\n",
    "HARWICH\n",
    "BLACKBURN\n",
    "SOUTH AYRSHIRE\n",
    "HARROW WEST\n",
    "LICHFIELD & TAMWORTH\n",
    "SOUTH WEST NORFOLK\n",
    "EDINBURGH WEST\n",
    "WELLINGBOROUGH\n",
    "HERTFORDSHIRE EAST\"\"\".split(\"\\n\") ))"
   ]
  },
  {
   "cell_type": "code",
   "execution_count": null,
   "id": "01908da6",
   "metadata": {},
   "outputs": [],
   "source": []
  },
  {
   "cell_type": "code",
   "execution_count": null,
   "id": "dfd5028c",
   "metadata": {},
   "outputs": [],
   "source": []
  },
  {
   "cell_type": "code",
   "execution_count": null,
   "id": "0e79c917",
   "metadata": {},
   "outputs": [],
   "source": []
  },
  {
   "cell_type": "code",
   "execution_count": null,
   "id": "2b04e96f",
   "metadata": {},
   "outputs": [],
   "source": [
    "South East            531 x\n",
    "North West            470 x\n",
    "London                449 x\n",
    "Scotland              379 x\n",
    "Yorkshire & Humber    379 x\n",
    "West Midlands         369 x\n",
    "Eastern               350 (east anglia) x\n",
    "South West            337 x\n",
    "East Midlands         281 x\n",
    "Wales                 211 x\n",
    "North East            190 (north != northwest) x\n",
    "\n",
    "south east              374 x\n",
    "greater london          214 x\n",
    "west midlands           202 x\n",
    "northwest               199 x\n",
    "yorkshire & humbersd    188 x\n",
    "scotland                149 x\n",
    "southwest               146 x\n",
    "northern                126 x\n",
    "east midlands           126 x\n",
    "wales                   103 x\n",
    "east anglia              66 x\n",
    "\n",
    "\n",
    "# 1 North x\n",
    "# 2 Yorkshire-Humberside x\n",
    "# 3 East Midlands x\n",
    "# 4 East Anglia x\n",
    "# 5 South East x\n",
    "# 6 Greater London x\n",
    "# 7 South West x\n",
    "# 8 Wales x\n",
    "# 9 West Midlands x\n",
    "# 10 North West x\n",
    "# 12 Scotland x"
   ]
  },
  {
   "cell_type": "code",
   "execution_count": null,
   "id": "6e435d2c",
   "metadata": {},
   "outputs": [],
   "source": []
  },
  {
   "cell_type": "code",
   "execution_count": null,
   "id": "7b324e8f",
   "metadata": {},
   "outputs": [],
   "source": []
  },
  {
   "cell_type": "code",
   "execution_count": null,
   "id": "5edecd6a",
   "metadata": {},
   "outputs": [],
   "source": []
  }
 ],
 "metadata": {
  "kernelspec": {
   "display_name": "Python 3 (ipykernel)",
   "language": "python",
   "name": "python3"
  },
  "language_info": {
   "codemirror_mode": {
    "name": "ipython",
    "version": 3
   },
   "file_extension": ".py",
   "mimetype": "text/x-python",
   "name": "python",
   "nbconvert_exporter": "python",
   "pygments_lexer": "ipython3",
   "version": "3.7.12"
  }
 },
 "nbformat": 4,
 "nbformat_minor": 5
}
