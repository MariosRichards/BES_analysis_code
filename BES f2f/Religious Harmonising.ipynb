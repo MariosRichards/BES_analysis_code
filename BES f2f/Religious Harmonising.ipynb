{
 "cells": [
  {
   "cell_type": "code",
   "execution_count": 2,
   "id": "89983153",
   "metadata": {},
   "outputs": [],
   "source": [
    "# Religion\n",
    "\n",
    "# religion Y/N\n",
    "# religion which\n",
    "# religion upbringing/parents/father/mother/shared\n",
    "# religious attendance\n",
    "# how religious"
   ]
  },
  {
   "cell_type": "code",
   "execution_count": 3,
   "id": "0c2b03ff",
   "metadata": {},
   "outputs": [
    {
     "data": {
      "text/html": [
       "<script>jQuery(function() {if (jQuery(\"body.notebook_app\").length == 0) { jQuery(\".input_area\").toggle(); jQuery(\".prompt\").toggle();}});</script>"
      ]
     },
     "metadata": {},
     "output_type": "display_data"
    },
    {
     "data": {
      "text/html": [
       "<button onclick=\"jQuery('.input_area').toggle(); jQuery('.prompt').toggle();\">Toggle code</button>"
      ]
     },
     "metadata": {},
     "output_type": "display_data"
    }
   ],
   "source": [
    "# %%time\n",
    "## Just an easy way to load utility functions\n",
    "dataset_name = \"W19_only\"\n",
    "df_list = []\n",
    "\n",
    "import pickle\n",
    "# from scipy import integrate\n",
    "%matplotlib inline \n",
    "%run f2f_header.py {dataset_name} {df_list}\n",
    "\n",
    "global BES_label_list, BES_df_list\n",
    "\n",
    "BES_df_list = pickle.load( open( \"E:\\\\BES_analysis_data\\\\Face_to_face\\\\BES_df_list.pickle\", \"rb\" ) )\n",
    "f2f_harmonised = pd.read_pickle(\"E:\\\\BES_analysis_data\\\\Face_to_face\\\\f2f_harmonised_temp.zip\", compression='zip')\n",
    "BES_label_list = pickle.load( open( \"E:\\\\BES_analysis_data\\\\Face_to_face\\\\BES_label_list.pickle\", \"rb\" ) )\n",
    "demo_var_dict = pickle.load( open( \"E:\\\\BES_analysis_data\\\\Face_to_face\\\\demo_var_dict.pickle\", \"rb\" ) )\n",
    "var_type_dict_nonans = pickle.load( open( \"E:\\\\BES_analysis_data\\\\Face_to_face\\\\var_type_dict_nonans.pickle\", \"rb\" ) )\n",
    "\n",
    "generic_cols = f2f_harmonised.columns\n",
    "list_of_scale_harm_vars = [\"Age\",\"year_past_min_sch_leave_age\",\"in_school_past_min_age\"]\n",
    "\n",
    "%run f2f_utility.py"
   ]
  },
  {
   "cell_type": "code",
   "execution_count": 62,
   "id": "4a379280",
   "metadata": {},
   "outputs": [
    {
     "data": {
      "text/plain": [
       "Float64Index([0.0, 1.0, 2.0, 3.0, 4.0, 5.0, 6.0, 7.0, 8.0, 9.0], dtype='float64')"
      ]
     },
     "execution_count": 62,
     "metadata": {},
     "output_type": "execute_result"
    }
   ],
   "source": [
    "ge = \"1970\"\n",
    "BES_df_list[ge]['v923'].value_counts().sort_index().index\n",
    "#.cat.categories\n",
    "#.value_counts().sort_index().index\n",
    "#"
   ]
  },
  {
   "cell_type": "code",
   "execution_count": null,
   "id": "834c251f",
   "metadata": {},
   "outputs": [],
   "source": []
  },
  {
   "cell_type": "code",
   "execution_count": 81,
   "id": "a370f547",
   "metadata": {},
   "outputs": [],
   "source": [
    "relig_det_dict = {\n",
    "    'Not stated':np.nan, 'Prefer not to say':np.nan,'Refusal':np.nan,\"don't know\":np.nan,\"refusal\":np.nan,\n",
    "        \"don't   know\":np.nan,'dk/refused':np.nan,'skp,refused religion':np.nan,'refused/dk':np.nan,'dk ref':np.nan,\n",
    "        'not     answered':np.nan,'refused/unwilling':np.nan,'dk/na':np.nan,'not answered':np.nan,'dk-ref':np.nan,0:np.nan,\n",
    "        'na':np.nan,98:np.nan,99:np.nan,9999:np.nan,'refused':np.nan,\n",
    "    'No religion':\"NoReligion\",'no religion, na':\"NoReligion\",'not app':\"NoReligion\",'no religion':\"NoReligion\",\n",
    "        'no      religion':\"NoReligion\",'no relig':\"NoReligion\",'no,none':\"NoReligion\",'none':\"NoReligion\",\"None\":\"NoReligion\",\n",
    "    \"agnostic\":\"agnostic\",\"atheists\":\"atheists\",\n",
    "    'Christian - no denomination':\"Christian\",'christian (no further detail)':\"Christian\",\"christian no denomination\":\"Christian\",\n",
    "        'christian-nodenomination':\"Christian\",\"christian - no denomination\":\"Christian\",'christian-no denomination':\"Christian\",\n",
    "        'xian no denom':\"Christian\",\n",
    "        'no denomination':\"Christian\",#??\n",
    "    'Roman Catholic':\"Catholic\",\"roman catholic\":\"Catholic\",'roman   catholic':\"Catholic\",'r c':\"Catholic\",2:\"Catholic\",\n",
    "    'Orthodox':\"Orthodox\",'eastern orthodox':\"Orthodox\",\n",
    "    'Protestant':\"Protestant\",\n",
    "    'Evangelical':\"Evangelical\", \n",
    "    'Church of England/ Anglican/Episcopal':\"Anglican\",'church of england/anglican/episcopal':\"Anglican\",\"anglican\":\"Anglican\",\n",
    "        'church of england/anglican':'Anglican','anglican/c of e':\"Anglican\",\"church of england/ anglican/episcopal\":\"Anglican\",\n",
    "        \"cofe/anglican/episcopal\":\"Anglican\",'c of e/anglican/c of ireland':\"Anglican\",\"church of england\":\"Anglican\",\n",
    "        'c of e,w etc':\"Anglican\",'c of e,c of wls,epsc':\"Anglican\",'anglican':\"Anglican\",1:\"Anglican\",\n",
    "    'Presbyterian/Church of Scotland':\"Presbyterian\",\"presbyterian/church of scotland\":\"Presbyterian\",\n",
    "        \"presbyterian/church of scotland\":\"Presbyterian\",\"cofs/presbyterian\":\"Presbyterian\",'church  scotland':\"Presbyterian\",\n",
    "        \"church of scotland\":\"Presbyterian\",'c of scotland':\"Presbyterian\",\"Church of Scotland\":\"Presbyterian\",3:\"Presbyterian\",\n",
    "        \"presbyterian\":\"Presbyterian\",#??\n",
    "        'other presb':\"Presbyterian\",\n",
    "    \"Free Presbyterian\":\"FreePresbyterian\",\"free presbyterian\":\"FreePresbyterian\",7:\"FreePresbyterian\",\n",
    "    'Methodist':'Methodist',\"methodist\":\"Methodist\",\"methodst\":\"Methodist\",4:\"Methodist\",\n",
    "    'Baptist':\"Baptist\",'baptist':'Baptist',5:\"Baptist\",\n",
    "    'United Reform Church (URC)/Congregational':\"Congregational\",\"united reform church\":\"Congregational\",\n",
    "        \"united reform\":\"Congregational\",\"united reform church (urc)/ congregation\":\"Congregational\",\"congregational\":\"Congregational\",\n",
    "        'urc/congregational':\"Congregational\",'urc, congregational':\"Congregational\",'urc etc':\"Congregational\",\n",
    "        'cong':\"Congregational\",6:\"Congregational\",\n",
    "    'Brethren':\"Brethren\",'brethren':'Brethren',8:\"Brethren\",\"brethern\":\"Brethren\",\n",
    "    \"OtherNonconformist\":\"OtherNonconformist\",\n",
    "    'Pentecostal':\"Pentecostal\",\"pentecostal\":\"Pentecostal\",\n",
    "    \"Jehovah's witness\":\"JehovahsWitness\",\"Jehovah witness\":\"JehovahsWitness\",\"jehovah's witness\":\"JehovahsWitness\",\n",
    "        'jehovas witness':\"JehovahsWitness\",'j witness':\"JehovahsWitness\",\n",
    "    'Quaker':\"Quaker\",    \n",
    "    'Other Protestant. Please specify...':\"ProtestOther\",\"Other Protestant\":\"ProtestOther\",\"other protestant (write in)\":\"ProtestOther\",\n",
    "        'protestant:other':\"ProtestOther\",'oth.protestant':\"ProtestOther\",\n",
    "    'Other Christian. Please specify...':\"ChristianOther\",'Other Christian':\"ChristianOther\",'other christian (write in)':\"ChristianOther\",\n",
    "        'other christian':\"ChristianOther\",'oth.christian':\"ChristianOther\",'other   xian':\"ChristianOther\",'other,christian':\"ChristianOther\",\n",
    "    'Jewish':\"Jewish\",'jewish':\"Jewish\",'jew':\"Jewish\",9:\"Jewish\",\n",
    "    'Islam/Muslim':\"Islam\",\"muslim\":\"Islam\",\"islam/muslim\":\"Islam\",'islam/  muslim':\"Islam\",'islam/moslem':\"Islam\",\n",
    "        'islam   moslem':\"Islam\",11:\"Islam\",\n",
    "    'sunni muslim':\"IslamSunni\", 'shiite muslim':\"IslamShia\", 'other islam/muslim':\"IslamOther\",\n",
    "    'Sikh':\"Sikh\",\"sikh\":\"Sikh\",12:\"Sikh\",\n",
    "    'Buddhist':\"Buddhist\",'buddhist':\"Buddhist\",\"buddist\":\"Buddhist\",13:\"Buddhist\",\n",
    "    'Jainism':\"Jainism\",\n",
    "    'Hindu':\"Hindu\",\"hindu\":\"Hindu\",10:\"Hindu\",\n",
    "    'non-christian':\"NonChristian\",\n",
    "    'Other non-Christian. Please specify...':\"NonChristianOther\",\"Other non-Christian\":\"NonChristianOther\",\n",
    "        \"other non-christian (write in)\":\"NonChristianOther\",'oth.non-christian':\"NonChristianOther\",\n",
    "        'other   non xian':\"NonChristianOther\",'other,non christian':\"NonChristianOther\",'other non-christian':\"NonChristianOther\",\n",
    "\n",
    "    'Pagan':\"Pagan\",\n",
    "    'Humanist':\"Humanist\", \n",
    "    'Other':\"Other\",'other':\"Other\",14:\"Other\",\n",
    "    \n",
    "    \n",
    "}"
   ]
  },
  {
   "cell_type": "code",
   "execution_count": null,
   "id": "dc17779c",
   "metadata": {},
   "outputs": [],
   "source": []
  },
  {
   "cell_type": "code",
   "execution_count": 82,
   "id": "9b22bf93",
   "metadata": {},
   "outputs": [],
   "source": [
    "f2f_harmonised[\"relig_det\"] = np.nan\n",
    "\n",
    "ge=\"2019\"\n",
    "f2f_harmonised.loc[f2f_harmonised[\"dataset\"]==ge,\"relig_det\"] = BES_df_list[ge][\"y06b\"].replace(relig_det_dict)\n",
    "\n",
    "ge=\"2017\"\n",
    "f2f_harmonised.loc[f2f_harmonised[\"dataset\"]==ge,\"relig_det\"] = BES_df_list[ge][\"y06\"].replace(relig_det_dict)\n",
    "\n",
    "ge=\"2015\"\n",
    "f2f_harmonised.loc[f2f_harmonised[\"dataset\"]==ge,\"relig_det\"] = BES_df_list[ge][\"y06\"].replace(relig_det_dict)\n",
    "\n",
    "ge=\"2010\"\n",
    "f2f_harmonised.loc[f2f_harmonised[\"dataset\"]==ge,\"relig_det\"] = BES_df_list[ge][\"zq106_2\"].replace(relig_det_dict)\n",
    "\n",
    "ge=\"2005\"\n",
    "f2f_harmonised.loc[f2f_harmonised[\"dataset\"]==ge,\"relig_det\"] = BES_df_list[ge][\"tq83b\"].replace(relig_det_dict)\n",
    "\n",
    "ge=\"2001\"\n",
    "f2f_harmonised.loc[f2f_harmonised[\"dataset\"]==ge,\"relig_det\"] = BES_df_list[ge][\"wreligs\"].replace(relig_det_dict)\n",
    "\n",
    "ge=\"1997\"\n",
    "f2f_harmonised.loc[f2f_harmonised[\"dataset\"]==ge,\"relig_det\"] = BES_df_list[ge][\"religion\"].replace(relig_det_dict)\n",
    "\n",
    "ge=\"1992\"\n",
    "f2f_harmonised.loc[f2f_harmonised[\"dataset\"]==ge,\"relig_det\"] = BES_df_list[ge][\"v916\"].replace(relig_det_dict)\n",
    "\n",
    "ge=\"1987\"\n",
    "f2f_harmonised.loc[f2f_harmonised[\"dataset\"]==ge,\"relig_det\"] = BES_df_list[ge][\"v59a\"].replace(relig_det_dict)\n",
    "\n",
    "ge=\"1983\"\n",
    "f2f_harmonised.loc[f2f_harmonised[\"dataset\"]==ge,\"relig_det\"] = BES_df_list[ge][\"q63a\"].replace(relig_det_dict)\n",
    "\n",
    "ge=\"1979\"\n",
    "f2f_harmonised.loc[f2f_harmonised[\"dataset\"]==ge,\"relig_det\"] = BES_df_list[ge][\"m495234\"].replace(relig_det_dict)\n",
    "\n",
    "ge=\"1974_oct\"\n",
    "f2f_harmonised.loc[f2f_harmonised[\"dataset\"]==ge,\"relig_det\"] = BES_df_list[ge][\"oct495\"].replace(relig_det_dict)\n",
    "\n",
    "ge=\"1974_feb\"\n",
    "# f2f_harmonised.loc[f2f_harmonised[\"dataset\"]==ge,\"relig_det\"] = BES_df_list[ge][\"feb200\"].replace(relig_det_dict)\n",
    "\n",
    "ge=\"1970\"\n",
    "f2f_harmonised.loc[f2f_harmonised[\"dataset\"]==ge,\"relig_det\"] = BES_df_list[ge]['v920']\\\n",
    "    .replace({0.0:\"na\", 1.0:\"Anglican\", 2.0:\"Church of Scotland\", 3.0:\"Methodist\", 4.0:\"Baptist\", 5.0:\"OtherNonconformist\",\n",
    "    6.0:\"Roman Catholic\", 7.0:\"Jewish\", 8.0:\"None\", 9.0:\"Other\"})\\\n",
    "    .replace(relig_det_dict)\n",
    "\n",
    "ge=\"1966\"\n",
    "f2f_harmonised.loc[f2f_harmonised[\"dataset\"]==ge,\"relig_det\"] = BES_df_list[ge]['v920']\\\n",
    "    .replace({0.0:\"na\", 1.0:\"Anglican\", 2.0:\"Church of Scotland\", 3.0:\"Methodist\", 4.0:\"Baptist\", 5.0:\"OtherNonconformist\",\n",
    "    6.0:\"Roman Catholic\", 7.0:\"Jewish\", 8.0:\"None\", 9.0:\"Other\"})\\\n",
    "    .replace(relig_det_dict)\n",
    "\n",
    "ge=\"1964\"\n",
    "f2f_harmonised.loc[f2f_harmonised[\"dataset\"]==ge,\"relig_det\"] = BES_df_list[ge]['v920']\\\n",
    "    .replace({0.0:\"na\", 1.0:\"Anglican\", 2.0:\"Church of Scotland\", 3.0:\"Methodist\", 4.0:\"Baptist\", 5.0:\"OtherNonconformist\",\n",
    "    6.0:\"Roman Catholic\", 7.0:\"Jewish\", 8.0:\"None\", 9.0:\"Other\"})\\\n",
    "    .replace(relig_det_dict)\n",
    "\n",
    "ge=\"1959\"\n",
    "f2f_harmonised.loc[f2f_harmonised[\"dataset\"]==ge,\"relig_det\"] = BES_df_list[ge]['v920']\\\n",
    "    .replace({0.0:\"na\", 1.0:\"Anglican\", 2.0:\"Church of Scotland\", 3.0:\"Methodist\", 4.0:\"Baptist\", 5.0:\"OtherNonconformist\",\n",
    "    6.0:\"Roman Catholic\", 7.0:\"Jewish\", 8.0:\"None\", 9.0:\"Other\"})\\\n",
    "    .replace(relig_det_dict)\n"
   ]
  },
  {
   "cell_type": "code",
   "execution_count": 84,
   "id": "d076df97",
   "metadata": {},
   "outputs": [
    {
     "data": {
      "text/plain": [
       "Anglican              19180\n",
       "NoReligion            13336\n",
       "Catholic               4768\n",
       "NaN                    4559\n",
       "Presbyterian           3569\n",
       "Methodist              1888\n",
       "Christian              1802\n",
       "Baptist                 683\n",
       "Other                   525\n",
       "Islam                   508\n",
       "OtherNonconformist      456\n",
       "ChristianOther          287\n",
       "Hindu                   199\n",
       "Congregational          191\n",
       "Jewish                  179\n",
       "ProtestOther            146\n",
       "Sikh                    105\n",
       "NonChristianOther        99\n",
       "Buddhist                 53\n",
       "JehovahsWitness          42\n",
       "Pentecostal              30\n",
       "IslamShia                21\n",
       "Brethren                 21\n",
       "FreePresbyterian         20\n",
       "IslamSunni               16\n",
       "IslamOther               13\n",
       "Orthodox                 12\n",
       "Evangelical               6\n",
       "Pagan                     6\n",
       "Quaker                    4\n",
       "Humanist                  3\n",
       "Jainism                   2\n",
       "Protestant                2\n",
       "Name: relig_det, dtype: int64"
      ]
     },
     "execution_count": 84,
     "metadata": {},
     "output_type": "execute_result"
    }
   ],
   "source": [
    "f2f_harmonised[\"relig_det\"].value_counts(dropna=False)"
   ]
  },
  {
   "cell_type": "code",
   "execution_count": null,
   "id": "5266ef82",
   "metadata": {},
   "outputs": [],
   "source": [
    "#2019: \n",
    "# 'y06' ['Not stated' < 'Prefer not to say' < 'Yes' < 'No']\n",
    "# 'y06b' ['Not stated', 'Prefer not to say', 'No religion',\n",
    "#        'Christian - no denomination', 'Roman Catholic',\n",
    "#        'Church of England/ Anglican/Episcopal',\n",
    "#        'Presbyterian/Church of Scotland', 'Methodist', 'Baptist',\n",
    "#        'United Reform Church (URC)/Congregational', 'Brethren',\n",
    "#        'Other Protestant. Please specify...',\n",
    "#        'Other Christian. Please specify...', 'Jewish', 'Hindu', 'Islam/Muslim',\n",
    "#        'Sikh', 'Buddhist', 'Other non-Christian. Please specify...',\n",
    "#        'Pentecostal', 'Protestant', 'Other', 'Pagan', 'Jehovah's witness',\n",
    "#        'Humanist', 'Evangelical', 'Jainism', 'Orthodox', 'Quaker']\n",
    "# 'y07' ['Not stated', 'Once a week or more',\n",
    "#        'Less often but at least once in two weeks',\n",
    "#        'Less often but at least once a month',\n",
    "#        'Less often but at least twice a year',\n",
    "#        'Less often but at least once a year', 'Less often',\n",
    "#        'Varies too much to say', 'Never or practically never']\n",
    "#2017:\n",
    "# 'y06' [  'Christian - no denomination',\n",
    "#        'Roman Catholic', 'Church of England/ Anglican/Episcopal',\n",
    "#        'Presbyterian/Church of Scotland', 'Methodist', 'Baptist',\n",
    "#        'United Reform Church (URC)/Congregational', 'Other Protestant',\n",
    "#        'Other Christian', 'Jewish', 'Hindu', 'Islam/Muslim', 'Sikh',\n",
    "#        'Buddhist', 'Other non-Christian', 'Jehovah witness']\n",
    "# 'y07' ['Once a week or more', 'Less often but at least once in two weeks',\n",
    "#        'Less often but at least once a month',\n",
    "#        'Less often but at least twice a year',\n",
    "#        'Less often but at least once a year', 'Less often',\n",
    "#        'Varies too much to say', 'Never or practically never']\n",
    "#2015:\n",
    "# 'y06' [ 'No religion', 'Christian - no denomination',\n",
    "#        'Roman Catholic', 'Church of England/ Anglican/Episcopal',\n",
    "#        'Presbyterian/Church of Scotland', 'Methodist', 'Baptist',\n",
    "#        'United Reform Church (URC)/Congregational', 'Free Presbyterian',\n",
    "#        'Other Protestant', 'Other Christian', 'Jewish', 'Hindu',\n",
    "#        'Islam/Muslim', 'Sikh', 'Buddhist', 'Other non-Christian']\n",
    "# 'y07' ['Once a week or more', 'Less often but at least once in two weeks',\n",
    "#        'Less often but at least once a month',\n",
    "#        'Less often but at least twice a year',\n",
    "#        'Less often but at least once a year', 'Less often',\n",
    "#        'Varies too much to say', 'Never or practically never']\n",
    "#2010:\n",
    "# 'zq106_1' ['refused', 'don't know', 'yes', 'no']\n",
    "# 'zq106_2' ['refused', 'don't know', 'baptist', 'brethren', 'buddhist',\n",
    "#        'church of england/anglican/episcopal', 'eastern orthodox',\n",
    "#        'free presbyterian', 'hindu', 'jewish', 'methodist', 'pentecostal',\n",
    "#        'presbyterian/church of scotland', 'roman catholic', 'sikh',\n",
    "#        'sunni muslim', 'shiite muslim', 'other islam/muslim',\n",
    "#        'united reform church', 'jehovah's witness',\n",
    "#        'christian (no further detail)', 'other', 'no religion, na']\n",
    "# 'zq106_4' ['don't know', 'five times a day', 'at least once a day',\n",
    "#        'at least once a week', 'at least once a month', 'only on festivals',\n",
    "#        'not at all']\n",
    "# 'zq106_5' ['refused', 'don't know', 'five times a day', 'at least once a day',\n",
    "#        'at least once a week', 'at least once a month', 'only on festivals',\n",
    "#        'not at all']\n",
    "#2005:\n",
    "# 'tq83a' [1, 2, 8, 9999]\n",
    "# 'tq83b' [1, 2, 3, 4, 5, 6, 7, 8, 9, 10, 11, 12, 13, 14, 98, 99, 9999]\n",
    "#2001:\n",
    "# 'religs' ['yes', 'no', 'don't know', 'refused']\n",
    "# 'wreligs' ['anglican', 'roman catholic', 'presbyterian', 'methodist', 'baptist',\n",
    "#        'united reform', 'free presbyterian', 'brethren', 'jewish', 'hindu',\n",
    "#        'muslim', 'sikh', 'buddist', 'other', 'not app']\n",
    "#1997:\n",
    "# 'religion' ['no religion', 'christian no denomination', 'roman catholic',\n",
    "#        'church of england/ anglican/episcopal',\n",
    "#        'presbyterian/church of scotland', 'methodist', 'baptist',\n",
    "#        'united reform church (urc)/ congregation', 'free presbyterian',\n",
    "#        'brethren', 'other protestant (write in)', 'other christian (write in)',\n",
    "#        'jewish', 'hindu', 'islam/muslim', 'sikh', 'buddhist',\n",
    "#        'other non-christian (write in)', 'refusal', 'don't   know']\n",
    "# 'religsum' ['church of england/anglican', 'roman catholic', 'other christian',\n",
    "#        'non-christian', 'no religion', 'dk/refused']\n",
    "# 'cses104' ['roman catholic', 'protestant:other', 'anglican/c of e', 'baptist',\n",
    "#        'congregational', 'methodist', 'presbyterian',\n",
    "#        'christian-nodenomination', 'jewish', 'muslim', 'buddhist', 'hindu',\n",
    "#        'sikh', 'agnostic', 'atheists', 'don't   know', 'refused']\n",
    "# 'famrelig' ['skp,refused religion', 'no religion', 'christian - no denomination',\n",
    "#        'roman catholic', 'church of england/ anglican/episcopal',\n",
    "#        'presbyterian/church of scotland', 'methodist', 'baptist',\n",
    "#        'united reform church (urc)/ congregation', 'free presbyterian',\n",
    "#        'brethren', 'other protestant (write in)', 'other christian (write in)',\n",
    "#        'jewish', 'hindu', 'islam/muslim', 'sikh', 'buddhist',\n",
    "#        'other non-christian (write in)', 'refusal', 'don't   know']\n",
    "# 'rlfamsum' ['church of england/anglican', 'roman catholic', 'other christian',\n",
    "#        'non-christian', 'no religion', 'refused/dk']\n",
    "# 'religius' ['very religious', 'somewhat religious', 'not very religious',\n",
    "#        'not at all religious', 'don't   know', 'not     answered']\n",
    "#1992:\n",
    "# 'v916' ['no      religion', 'christian-no denomination', 'roman   catholic',\n",
    "#        'cofe/anglican/episcopal', 'cofs/presbyterian', 'methodist', 'baptist',\n",
    "#        'urc/congregational', 'free presbyterian', 'brethern', 'oth.protestant',\n",
    "#        'oth.christian', 'jewish', 'hindu', 'islam/  muslim', 'sikh',\n",
    "#        'buddhist', 'oth.non-christian', 'refused/unwilling',\n",
    "#        'not     answered'] # current!\n",
    "# 'v917' ['skp,refused religion', 'no      religion', 'christian-no denomination',\n",
    "#        'roman   catholic', 'cofe/anglican/episcopal', 'cofs/presbyterian',\n",
    "#        'methodist', 'baptist', 'urc/congregational', 'free presbyterian',\n",
    "#        'brethern', 'oth.protestant', 'oth.christian', 'jewish', 'hindu',\n",
    "#        'islam/  muslim', 'sikh', 'buddhist', 'oth.non-christian',\n",
    "#        'not     answered'] # upbringing!\n",
    "# 'v918' ['skp,no fam.religion', 'skp,refused religion',\n",
    "#        'never/practically never', 'once a week or more',\n",
    "#        'once a month or more', 'several times year', 'once a year +',\n",
    "#        'more than once a year', 'varies/don't know', 'not     answered']\n",
    "# 'religsum' ['c of e/anglican/c of ireland', 'cofs/presbyterian', 'roman catholic',\n",
    "#        'other christian', 'non-christian', 'no religion', 'dk/na']\n",
    "# 'famrlsum' ['c of e/anglican/c of ireland', 'cofs/presbyterian', 'roman catholic',\n",
    "#        'other christian', 'non-christian', 'no religion', 'dk/na']\n",
    "#1987:\n",
    "# 'v59a' ['no religion', 'no denomination', 'roman catholic', 'church of england',\n",
    "#        'presbyterian', 'methodist', 'baptist', 'urc, congregational',\n",
    "#        'other christian', 'jehovas witness', 'jewish', 'hindu', 'islam/moslem',\n",
    "#        'sikh', 'other non-christian', 'not answered']\n",
    "# 'v59b' ['once a week +', 'sev times/month', 'at least 1/month',\n",
    "#        'sev times/year', 'at least 1/year', 'less than 1/year',\n",
    "#        'varies/dont know', 'never/rarely', 'not answered']\n",
    "#1983:\n",
    "# 'q63a' ['no relig', 'xian no denom', 'roman   catholic', 'c of e,w etc',\n",
    "#        'church  scotland', 'methodst', 'baptist', 'urc etc', 'other   xian',\n",
    "#        'j witness', 'jew', 'hindu', 'islam   moslem', 'sikh',\n",
    "#        'other   non xian']\n",
    "# 'q63b' ['never', 'once+ a week', 'sev time a mth', 'once+ a mth', 'sev time yr',\n",
    "#        'once+ a yr', 'less th once yr', 'varies  dk', 'skipped']\n",
    "#1979:\n",
    "# 'm495234' [                     0, 'c of e,c of wls,epsc',   'church of scotland',\n",
    "#                   'methodist',              'baptist',       'roman catholic',\n",
    "#             'other,christian',  'other,non christian',               'dk-ref',\n",
    "#                     'no,none']\n",
    "# 'm497236' [0, 'very much so', 'to some extent', 'not really', 'dk']\n",
    "#1974_oct\n",
    "# 'oct495' ['anglican', 'c of scotland', 'other presb', 'methodist', 'baptist',\n",
    "#        'cong', 'r c', 'jewish', 'other', 'none', 'dk ref']\n",
    "# 'oct496' ['very much so', 'to some extent', 'not really', 'dk']\n",
    "# 'oct497' ['very much so', 'to some extent', 'not really', 'dk']\n",
    "#1974_feb: ???\n",
    "#1970:\n",
    "# 'v920'\n",
    "#     {0.0:\"na\", 1.0:\"Anglican\", 2.0:\"Church of Scotland\", 3.0:\"Methodist\", 4.0:\"Baptist\", 5.0:\"OtherNonconformist\",\n",
    "#     6.0:\"Roman Catholic\", 7.0:\"Jewish\", 8.0:\"None\", 9.0:\"Other\"}\n",
    "\n",
    "# 'v921' [0.0, 1.0, 2.0, 3.0, 4.0, 5.0, 8.0, 9.0] # parents share religion/combinations\n",
    "# 'v922' [0.0, 1.0, 2.0, 3.0, 4.0, 5.0, 8.0, 9.0] # father religion as above\n",
    "#     {0.0:\"na\", 1.0:\"Anglican\", 2.0:\"Church of Scotland\", 3.0:\"Methodist\", 4.0:\"Baptist\", 5.0:\"OtherNonconformist\",\n",
    "#     6.0:\"Roman Catholic\", 7.0:\"Jewish\", 8.0:\"None\", 9.0:\"Other\"}\n",
    "# 'v923' [0.0, 1.0, 2.0, 3.0, 4.0, 5.0, 8.0, 9.0] # mother religion as above\n",
    "#     {0.0:\"na\", 1.0:\"Anglican\", 2.0:\"Church of Scotland\", 3.0:\"Methodist\", 4.0:\"Baptist\", 5.0:\"OtherNonconformist\",\n",
    "#     6.0:\"Roman Catholic\", 7.0:\"Jewish\", 8.0:\"None\", 9.0:\"Other\"}"
   ]
  },
  {
   "cell_type": "code",
   "execution_count": 87,
   "id": "5ce33d09",
   "metadata": {},
   "outputs": [
    {
     "data": {
      "text/plain": [
       "[('2019', {}),\n",
       " ('2017', {}),\n",
       " ('2015', {}),\n",
       " ('2010', {'aq69_1': 'belong to religion'}),\n",
       " ('2005', {'aq54a': 'belong to religion', 'bq83a': 'belong to religion(3rd)'}),\n",
       " ('2001',\n",
       "  {'bq77a': 'belong to religion', 'religs': 'belong to religion-summary'}),\n",
       " ('1997', {}),\n",
       " ('1992', {}),\n",
       " ('1987', {}),\n",
       " ('1983', {}),\n",
       " ('1979', {}),\n",
       " ('1974_feb', {}),\n",
       " ('1974_oct', {}),\n",
       " ('1970', {}),\n",
       " ('1966', {}),\n",
       " ('1964', {}),\n",
       " ('1959', {})]"
      ]
     },
     "execution_count": 87,
     "metadata": {},
     "output_type": "execute_result"
    }
   ],
   "source": [
    "[(ge,{k:v for k,v in BES_label_list[ge].items() if  re.search(\"belong to religion\".lower(),v.lower())}) for ge in f2f_harmonised[\"dataset\"].unique()]"
   ]
  },
  {
   "cell_type": "code",
   "execution_count": 71,
   "id": "76a52218",
   "metadata": {},
   "outputs": [
    {
     "data": {
      "text/plain": [
       "cofe/anglican/episcopal      1179\n",
       "no      religion             1045\n",
       "cofs/presbyterian             460\n",
       "roman   catholic              387\n",
       "christian-no denomination     132\n",
       "methodist                     109\n",
       "oth.protestant                 53\n",
       "baptist                        46\n",
       "urc/congregational             27\n",
       "islam/  muslim                 22\n",
       "sikh                           16\n",
       "jewish                         11\n",
       "oth.christian                   9\n",
       "not     answered                9\n",
       "hindu                           8\n",
       "brethern                        6\n",
       "oth.non-christian               6\n",
       "refused/unwilling               4\n",
       "free presbyterian               3\n",
       "buddhist                        2\n",
       "Name: v916, dtype: int64"
      ]
     },
     "execution_count": 71,
     "metadata": {},
     "output_type": "execute_result"
    }
   ],
   "source": [
    "# 'v916' ['no      religion', 'christian-no denomination', 'roman   catholic',\n",
    "#        'cofe/anglican/episcopal', 'cofs/presbyterian', 'methodist', 'baptist',\n",
    "#        'urc/congregational', 'free presbyterian', 'brethern', 'oth.protestant',\n",
    "#        'oth.christian', 'jewish', 'hindu', 'islam/  muslim', 'sikh',\n",
    "#        'buddhist', 'oth.non-christian', 'refused/unwilling',\n",
    "#        'not     answered']\n",
    "# 'v917' ['skp,refused religion', 'no      religion', 'christian-no denomination',\n",
    "#        'roman   catholic', 'cofe/anglican/episcopal', 'cofs/presbyterian',\n",
    "#        'methodist', 'baptist', 'urc/congregational', 'free presbyterian',\n",
    "#        'brethern', 'oth.protestant', 'oth.christian', 'jewish', 'hindu',\n",
    "#        'islam/  muslim', 'sikh', 'buddhist', 'oth.non-christian',\n",
    "#        'not     answered']\n",
    "# 'v918' ['skp,no fam.religion', 'skp,refused religion',\n",
    "#        'never/practically never', 'once a week or more',\n",
    "#        'once a month or more', 'several times year', 'once a year +',\n",
    "#        'more than once a year', 'varies/don't know', 'not     answered']\n",
    "# 'religsum' ['c of e/anglican/c of ireland', 'cofs/presbyterian', 'roman catholic',\n",
    "#        'other christian', 'non-christian', 'no religion', 'dk/na']\n",
    "# 'famrlsum' ['c of e/anglican/c of ireland', 'cofs/presbyterian', 'roman catholic',\n",
    "#        'other christian', 'non-christian', 'no religion', 'dk/na']\n",
    "\n",
    "\n",
    "ge = \"1992\"\n",
    "BES_df_list[ge]['v916'].value_counts(dropna=False)"
   ]
  },
  {
   "cell_type": "code",
   "execution_count": 73,
   "id": "bae2ff9b",
   "metadata": {},
   "outputs": [
    {
     "data": {
      "text/plain": [
       "cofe/anglican/episcopal      1583\n",
       "cofs/presbyterian             610\n",
       "roman   catholic              468\n",
       "no      religion              273\n",
       "methodist                     195\n",
       "christian-no denomination     103\n",
       "baptist                        66\n",
       "oth.protestant                 63\n",
       "urc/congregational             45\n",
       "not     answered               27\n",
       "islam/  muslim                 22\n",
       "sikh                           17\n",
       "jewish                         13\n",
       "brethern                       11\n",
       "free presbyterian              11\n",
       "hindu                          10\n",
       "oth.christian                   7\n",
       "buddhist                        4\n",
       "skp,refused religion            4\n",
       "oth.non-christian               2\n",
       "Name: v917, dtype: int64"
      ]
     },
     "execution_count": 73,
     "metadata": {},
     "output_type": "execute_result"
    }
   ],
   "source": [
    "ge = \"1992\"\n",
    "BES_df_list[ge]['v917'].value_counts(dropna=False)"
   ]
  },
  {
   "cell_type": "code",
   "execution_count": 75,
   "id": "86fc0b40",
   "metadata": {},
   "outputs": [
    {
     "data": {
      "text/plain": [
       "never/practically never    1664\n",
       "once a week or more         474\n",
       "several times year          335\n",
       "once a year +               277\n",
       "skp,no fam.religion         273\n",
       "once a month or more        213\n",
       "more than once a year       168\n",
       "not     answered             70\n",
       "varies/don't know            56\n",
       "skp,refused religion          4\n",
       "Name: v918, dtype: int64"
      ]
     },
     "execution_count": 75,
     "metadata": {},
     "output_type": "execute_result"
    }
   ],
   "source": [
    "ge = \"1992\"\n",
    "BES_df_list[ge]['v918'].value_counts(dropna=False)"
   ]
  },
  {
   "cell_type": "code",
   "execution_count": 76,
   "id": "7d1f3183",
   "metadata": {},
   "outputs": [
    {
     "data": {
      "text/plain": [
       "c of e/anglican/c of ireland    1179\n",
       "no religion                     1045\n",
       "cofs/presbyterian                460\n",
       "roman catholic                   387\n",
       "other christian                  385\n",
       "non-christian                     65\n",
       "dk/na                             13\n",
       "Name: religsum, dtype: int64"
      ]
     },
     "execution_count": 76,
     "metadata": {},
     "output_type": "execute_result"
    }
   ],
   "source": [
    "ge = \"1992\"\n",
    "BES_df_list[ge]['religsum'].value_counts(dropna=False)"
   ]
  },
  {
   "cell_type": "code",
   "execution_count": null,
   "id": "5ba2220c",
   "metadata": {},
   "outputs": [],
   "source": []
  },
  {
   "cell_type": "code",
   "execution_count": 85,
   "id": "6d582cd5",
   "metadata": {},
   "outputs": [],
   "source": [
    "relig_cols = f2f_harmonised[[\"relig_det\"]].copy()\n",
    "relig_cols.to_pickle(\"E:\\\\BES_analysis_data\\\\Face_to_face\\\\relig_cols.zip\", compression='zip')"
   ]
  },
  {
   "cell_type": "code",
   "execution_count": null,
   "id": "eb4c9ba4",
   "metadata": {},
   "outputs": [],
   "source": []
  },
  {
   "cell_type": "code",
   "execution_count": null,
   "id": "673697b8",
   "metadata": {},
   "outputs": [],
   "source": []
  },
  {
   "cell_type": "code",
   "execution_count": null,
   "id": "d7957a37",
   "metadata": {},
   "outputs": [],
   "source": []
  },
  {
   "cell_type": "code",
   "execution_count": null,
   "id": "6bc132b2",
   "metadata": {},
   "outputs": [],
   "source": []
  },
  {
   "cell_type": "code",
   "execution_count": null,
   "id": "a45fd0cf",
   "metadata": {},
   "outputs": [],
   "source": []
  },
  {
   "cell_type": "code",
   "execution_count": null,
   "id": "991a9b12",
   "metadata": {},
   "outputs": [],
   "source": []
  },
  {
   "cell_type": "code",
   "execution_count": null,
   "id": "c22e469f",
   "metadata": {},
   "outputs": [],
   "source": []
  },
  {
   "cell_type": "code",
   "execution_count": null,
   "id": "d7592f37",
   "metadata": {},
   "outputs": [],
   "source": []
  },
  {
   "cell_type": "code",
   "execution_count": null,
   "id": "7d0e59cb",
   "metadata": {},
   "outputs": [],
   "source": []
  },
  {
   "cell_type": "code",
   "execution_count": null,
   "id": "4edff16b",
   "metadata": {},
   "outputs": [],
   "source": []
  },
  {
   "cell_type": "code",
   "execution_count": null,
   "id": "3f14fc9a",
   "metadata": {},
   "outputs": [],
   "source": []
  },
  {
   "cell_type": "code",
   "execution_count": null,
   "id": "1398f1c3",
   "metadata": {},
   "outputs": [],
   "source": []
  },
  {
   "cell_type": "code",
   "execution_count": null,
   "id": "ca1ad68e",
   "metadata": {},
   "outputs": [],
   "source": []
  },
  {
   "cell_type": "code",
   "execution_count": null,
   "id": "94de7c28",
   "metadata": {},
   "outputs": [],
   "source": []
  }
 ],
 "metadata": {
  "kernelspec": {
   "display_name": "Python 3",
   "language": "python",
   "name": "python3"
  },
  "language_info": {
   "codemirror_mode": {
    "name": "ipython",
    "version": 3
   },
   "file_extension": ".py",
   "mimetype": "text/x-python",
   "name": "python",
   "nbconvert_exporter": "python",
   "pygments_lexer": "ipython3",
   "version": "3.7.12"
  }
 },
 "nbformat": 4,
 "nbformat_minor": 5
}
