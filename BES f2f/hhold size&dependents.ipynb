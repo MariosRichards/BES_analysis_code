{
 "cells": [
  {
   "cell_type": "code",
   "execution_count": null,
   "id": "6525eee7",
   "metadata": {},
   "outputs": [],
   "source": [
    "## get hhold size, dependent info harmonised\n",
    "\n",
    "\n",
    "# DONE - first pass for hhold_size, hhold_size_under18 (16 sometimes!)\n",
    "\n",
    "\n",
    "# TODO - check the gaps for those variables (datasets that don't seem to have them)\n",
    "# - check nan values (some might be default only 1 person)\n",
    "# "
   ]
  },
  {
   "cell_type": "code",
   "execution_count": 1,
   "id": "1d6575d9",
   "metadata": {},
   "outputs": [
    {
     "data": {
      "text/html": [
       "<script>jQuery(function() {if (jQuery(\"body.notebook_app\").length == 0) { jQuery(\".input_area\").toggle(); jQuery(\".prompt\").toggle();}});</script>"
      ]
     },
     "metadata": {},
     "output_type": "display_data"
    },
    {
     "data": {
      "text/html": [
       "<button onclick=\"jQuery('.input_area').toggle(); jQuery('.prompt').toggle();\">Toggle code</button>"
      ]
     },
     "metadata": {},
     "output_type": "display_data"
    },
    {
     "name": "stdout",
     "output_type": "stream",
     "text": [
      "2023-06-27 19:23:58,134 WARNING: panel.io.resources - Mimetype declaration for .js files was set to 'text/plain'. This will interefere with serving JS modules. Ensure your system does not override the mimetype declaration and/or contact your system administrator. \n"
     ]
    }
   ],
   "source": [
    "# %%time\n",
    "## Just an easy way to load utility functions\n",
    "dataset_name = \"W19_only\"\n",
    "df_list = []\n",
    "\n",
    "%matplotlib inline \n",
    "%run f2f_header.py {dataset_name} {df_list}\n",
    "\n",
    "global BES_label_list, BES_df_list\n",
    "\n",
    "# %run f2f_utility.py\n",
    "\n",
    "BES_df_list = pickle.load( open( \"E:\\\\BES_analysis_data\\\\Face_to_face\\\\BES_df_list.pickle\", \"rb\" ) )\n",
    "# f2f_harmonised = pd.read_pickle(\"E:\\\\BES_analysis_data\\\\Face_to_face\\\\f2f_harmonised.zip\", compression='zip')\n",
    "BES_label_list = pickle.load( open( \"E:\\\\BES_analysis_data\\\\Face_to_face\\\\BES_label_list.pickle\", \"rb\" ) )\n",
    "demo_var_dict = pickle.load( open( \"E:\\\\BES_analysis_data\\\\Face_to_face\\\\demo_var_dict.pickle\", \"rb\" ) )\n",
    "var_type_dict_nonans = pickle.load( open( \"E:\\\\BES_analysis_data\\\\Face_to_face\\\\var_type_dict_nonans.pickle\", \"rb\" ) )\n",
    "\n",
    "f2f_harmonised = pd.read_pickle(\"E:\\\\BES_analysis_data\\\\Face_to_face\\\\f2f_harmonised_temp.zip\", compression='zip')\n",
    "\n",
    "\n",
    "generic_cols = f2f_harmonised.columns\n",
    "list_of_scale_harm_vars = [\"Age\",\"year_past_min_sch_leave_age\",\"in_school_past_min_age\"]\n",
    "\n",
    "\n",
    "\n",
    "## BUGS\n",
    "\n",
    "BES_label_list[\"1959\"][\"v1236\"] = 'LOCAL ELECTION VOTE 1963(2nd)'\n",
    "BES_label_list[\"1964\"][\"v1236\"] = 'LOCAL ELECTION VOTE 1963(2nd)'\n",
    "BES_label_list[\"1966\"][\"v1236\"] = 'LOCAL ELECTION VOTE 1963(2nd)'\n",
    "BES_label_list[\"1970\"][\"v1236\"] = 'LOCAL ELECTION VOTE 1963(2nd)'\n",
    "\n",
    "BES_label_list[\"2015\"]['edlevel'] = 'Education level (summary)'"
   ]
  },
  {
   "cell_type": "code",
   "execution_count": 3,
   "id": "1944297e",
   "metadata": {},
   "outputs": [
    {
     "data": {
      "text/plain": [
       "{'2019': {'l01': 'Personal economic retrospective evaluation (12 months): household',\n",
       "  'y01a': 'Thinking about the total income of your household from all sources before tax - ',\n",
       "  'Y01_detailed': 'What is the total annual income of your household from all sources before tax - ',\n",
       "  'y01_Annual': 'Income - gross household (Annual)',\n",
       "  'y01_Weekly': 'Income - gross household (Weekly)',\n",
       "  'y01_Monthly': 'Income - gross household (Monthly)',\n",
       "  'y02_11': 'Main source of income: Dependent on parents/other relatives',\n",
       "  'y04_01': 'Dependents: Pre-school children',\n",
       "  'y04_02': 'Dependents: School children',\n",
       "  'y04_03': 'Dependents: Sick, disabled or elderly',\n",
       "  'y04_04': 'Dependents: None of the above',\n",
       "  'y04_05': \"Dependents: Don't know\",\n",
       "  'y48_4': 'Who else was present during interview?: Other adult living in household',\n",
       "  'y48_5': 'Who else was present during interview?: Other young person living in household',\n",
       "  'Q20_CSES': 'Were either or both of your parents born outside of Britain?',\n",
       "  'total_num_hous': 'Total number of households'},\n",
       " '2017': {'l02': 'L2 How do you think the financial situation of your household will change over t',\n",
       "  'y01': 'Income - gross household',\n",
       "  'y04_01': 'Dependents: pre-school children',\n",
       "  'y04_02': 'Dependents: school children',\n",
       "  'y04_03': 'Dependents: Sick, disabled or elderly',\n",
       "  'y04_04': 'Dependents: None of the above',\n",
       "  'y04_05': \"Dependents: Don't know\",\n",
       "  'y48_4': 'Y48_4 Who else was present during interview?:Other adult living in household',\n",
       "  'q21_cses': 'Q21_CSES. Was either or both of your parents born outside of Britain?',\n",
       "  'total_num_hous': 'Total number of households'},\n",
       " '2015': {'l02': 'L2 How do you think the financial situation of your household will change over t',\n",
       "  'y01': 'Income - gross household',\n",
       "  'y04_01': 'Dependents: pre-school children',\n",
       "  'y04_02': 'Dependents: school children',\n",
       "  'y04_03': 'Dependents: Sick, disabled or elderly',\n",
       "  'y04_04': 'Dependents: None of the above',\n",
       "  'y04_05': \"Dependents: Don't know\",\n",
       "  'y04_06': 'Dependents: Not stated',\n",
       "  'y37': 'Parent class',\n",
       "  'y48_4': 'y48:Other adult living in household:Y48 Who else was present during interview?',\n",
       "  'y48_5': 'y48:Other young person living in household:Y48 Who else was present during inter',\n",
       "  'y48_6': 'y48:Other adult/young person not living in household:Y48 Who else was present du',\n",
       "  'cses_q21': \"CSES_Q21 The next question is about your household's income. How likely or unlik\",\n",
       "  'cses_q22b': 'CSES_Q22b Do you or a member of your household own a business, a piece of proper',\n",
       "  'cses_q22c': 'CSES_Q22c Do you or a member of your household own stocks or bonds?',\n",
       "  'cses_q22d': 'CSES_Q22d Do you or a member of your household have any savings?'},\n",
       " '2010': {'aq72_1': 'how many people in household',\n",
       "  'aq72_2': 'people in household < 18',\n",
       "  'bq91_1': 'n people household',\n",
       "  'bq91_2': 'n people household < 18',\n",
       "  'bq92b': 'care-children 5-15 years age',\n",
       "  'bq96': 'annual household income',\n",
       "  'v117_a': 'p. private households with employed persons',\n",
       "  'uv068000': 'married couple household with dependent children',\n",
       "  'v120_a': 'married couple household with no dependent children',\n",
       "  'v121_a': 'cohabiting couple household with dependent children',\n",
       "  'v122_a': 'cohabiting couple household with no dependent children',\n",
       "  'v123_a': 'lone parent household with dependent children',\n",
       "  'v124_a': 'lone parent household with no dependent children',\n",
       "  'v125_a': 'one person household',\n",
       "  'v126_a': 'multi person household all student',\n",
       "  'uv068001': 'multi person household other',\n",
       "  'zq96': 'annual household income(3rd)',\n",
       "  'zq91_1': 'n people household(3rd)',\n",
       "  'zq91_2': 'n people household < 18(3rd)'},\n",
       " '2005': {'aq55': 'annual household income',\n",
       "  'aq56': 'main source of household income',\n",
       "  'aq57a': 'how many people in household',\n",
       "  'aq57b': 'how many people household less 18',\n",
       "  'bq84': 'annual household income(3rd)',\n",
       "  'bq85': 'main source of household income(3rd)',\n",
       "  'bq86a': 'how many people in household(3rd)',\n",
       "  'bq86b': 'how many people household less 18(3rd)',\n",
       "  'tq84': 'combined-annual household income',\n",
       "  'tq85': 'combined-main source of household income',\n",
       "  'tq86a': 'combined-number of people in household',\n",
       "  'tq86b': 'combined-number in household under 18',\n",
       "  'cq25': 'worried someone in household lose job',\n",
       "  'cq32a': 'r cares for children < 5',\n",
       "  'cq32b': 'r cares for children 5-15',\n",
       "  'lone91': 'propn families with dependent children headed .........',\n",
       "  'hhold01': 'number of households, 2001 census',\n",
       "  'lone01': 'proportion of lone-parent hh, 2001 census'},\n",
       " '2001': {'sgparent': 'proportion of families with dependent children headed by lone parent 1990 census',\n",
       "  'aq45': 'annual household income',\n",
       "  'aq47a': 'number people in household',\n",
       "  'aq47b': 'number people in household < 18',\n",
       "  'bq78': 'annual household income(2nd)',\n",
       "  'bq80a': 'number people in household(2nd)',\n",
       "  'bq80b': 'number in household under 18',\n",
       "  'bq80c': 'number in household need special care',\n",
       "  'incomes': 'annual household income-summary'},\n",
       " '1997': {'hhhemp': '% head of household employers & managers',\n",
       "  'imchild1': 'should immigrant children have extra english classes? q506',\n",
       "  'imchild2': 'should immigrant children separate religious classes? q507',\n",
       "  'imchild3': 'should immigrant children wear traditional dress? q508',\n",
       "  'imchild4': 'should immigrant children study their mother tongue? q509',\n",
       "  'ghinpst': 'financial situation of household changed in past year? q571',\n",
       "  'ghinxpc': 'will financial situation of household change next year? q573',\n",
       "  'scotance': 'truly scottish: important scottish parents/grandparents?q603',\n",
       "  'househld': 'how many in household *including r*? q634',\n",
       "  'numch18': 'number of people under 18 in household? q636',\n",
       "  'numch5': 'number of people over 5 yrs in household? q638',\n",
       "  'tusaoth': 'anyone in household tu/staff assoc. member? [not mar] q730',\n",
       "  'tusaoth2': 'whether anyone else in household tu member? q799',\n",
       "  'tusahhld': 'cses anyone else in household tu member? q800',\n",
       "  'hhincoma': 'total income per household before tax [card]? q856',\n",
       "  'hhincomb': 'total income per household before tax [ballot]? q856',\n",
       "  'hhincome': 'household income total before tax  dv  q860',\n",
       "  'hhincqua': 'household income quartiles (gb sample) q861',\n",
       "  'hhincqus': 'household income quartiles (scottish sample) q861',\n",
       "  'hhincque': 'household income quartiles (ethnic)  dv  q861',\n",
       "  'hhincqui': 'cses: household income quintiles (gb) q862',\n",
       "  'hhinquis': 'cses: household income quintile (scotland) q862',\n",
       "  'hhinquie': 'cses: household income quintile (ethnic)  862',\n",
       "  'carown': \"r or r's household have use of car? q863\",\n",
       "  'hprivmed': \"r or r's household have private medical insurance? q864\",\n",
       "  'tenurtyp': 'does r live in private household? q950',\n",
       "  'clevrkid': 'clever children should be at selective school  q210b'},\n",
       " '1992': {'v52c': 'household income kept up with prices?  q52c',\n",
       "  'v909a': 'r/household own/have use of a car? q909a',\n",
       "  'v909b': 'r/household private health insurancq909b',\n",
       "  'v920': 'main source of household income?    q920',\n",
       "  'v921': 'total income of household all source q921',\n",
       "  'hhincqua': 'household income quartile             dv'},\n",
       " '1987': {'v53a': 'thinks household income above/below average',\n",
       "  'v53b': 'no. of cars/vans household owns/uses',\n",
       "  'v53c': 'household has private health insurance',\n",
       "  'v54a1': 'children under 16',\n",
       "  'v54a2': 'children over 16 in full-time education',\n",
       "  'v54b': 'any children at/been to private school',\n",
       "  'v64': 'total household income before tax',\n",
       "  'v121o': 'agree/disagree: teach children to obey authority'},\n",
       " '1983': {'q51a': 'number cars, vans household owns, uses',\n",
       "  'q51b': 'household has private health insurance',\n",
       "  'q58c': 'resp,spouse rcvd 1-parent benefit',\n",
       "  'q65ab': 'household housing tenure',\n",
       "  'q65c': '[if household owns] has been la tenant',\n",
       "  'q65f': '[if private house] number in household'},\n",
       " '1979': {'m498272': 'does r have children-q103a',\n",
       "  'm499273': 'how many children does r have-q103b',\n",
       "  'm500274': \"are any of r's children under 18-q103c\",\n",
       "  'm000287': 'is r living in parents home-q110c',\n",
       "  'm000301': 'n of trade union members in household'},\n",
       " '1974_feb': {'feb170': 'trade union member in household'},\n",
       " '1974_oct': {'oct498': 'resp has children',\n",
       "  'oct499': 'number of children',\n",
       "  'oct500': 'children under 18'},\n",
       " '1970': {'v878': 'TU MBR IN HOUSEHOLD?  64',\n",
       "  'v890': 'WHERE PARENTS WHEN BORN',\n",
       "  'v893': 'PARENTS FR BIRTHPLACE 63',\n",
       "  'v921': 'PARENTS SHARE RELIGION',\n",
       "  'v946': 'NO. CHILDREN IN HOME  63',\n",
       "  'v947': 'NO. CHILDREN IN HOME  64',\n",
       "  'v948': 'NO. CHILDREN IN HOME  66',\n",
       "  'v949': 'NO. CHILDREN IN HOME  70',\n",
       "  'v950': 'NO. OTHER CHILDREN  1970'},\n",
       " '1966': {'v878': 'TU MBR IN HOUSEHOLD?  64',\n",
       "  'v890': 'WHERE PARENTS WHEN BORN',\n",
       "  'v893': 'PARENTS FR BIRTHPLACE 63',\n",
       "  'v921': 'PARENTS SHARE RELIGION',\n",
       "  'v946': 'NO. CHILDREN IN HOME  63',\n",
       "  'v947': 'NO. CHILDREN IN HOME  64',\n",
       "  'v948': 'NO. CHILDREN IN HOME  66',\n",
       "  'v949': 'NO. CHILDREN IN HOME  70',\n",
       "  'v950': 'NO. OTHER CHILDREN  1970'},\n",
       " '1964': {'v878': 'TU MBR IN HOUSEHOLD?  64',\n",
       "  'v890': 'WHERE PARENTS WHEN BORN',\n",
       "  'v893': 'PARENTS FR BIRTHPLACE 63',\n",
       "  'v921': 'PARENTS SHARE RELIGION',\n",
       "  'v946': 'NO. CHILDREN IN HOME  63',\n",
       "  'v947': 'NO. CHILDREN IN HOME  64',\n",
       "  'v948': 'NO. CHILDREN IN HOME  66',\n",
       "  'v949': 'NO. CHILDREN IN HOME  70',\n",
       "  'v950': 'NO. OTHER CHILDREN  1970'},\n",
       " '1959': {'v878': 'TU MBR IN HOUSEHOLD?  64',\n",
       "  'v890': 'WHERE PARENTS WHEN BORN',\n",
       "  'v893': 'PARENTS FR BIRTHPLACE 63',\n",
       "  'v921': 'PARENTS SHARE RELIGION',\n",
       "  'v946': 'NO. CHILDREN IN HOME  63',\n",
       "  'v947': 'NO. CHILDREN IN HOME  64',\n",
       "  'v948': 'NO. CHILDREN IN HOME  66',\n",
       "  'v949': 'NO. CHILDREN IN HOME  70',\n",
       "  'v950': 'NO. OTHER CHILDREN  1970'}}"
      ]
     },
     "execution_count": 3,
     "metadata": {},
     "output_type": "execute_result"
    }
   ],
   "source": [
    "{x:{k:v for k,v in BES_label_list[x].items() if re.search(\"dependents|children|household|parent\",v.lower()) } for x in BES_label_list.keys()}"
   ]
  },
  {
   "cell_type": "code",
   "execution_count": null,
   "id": "33d8c591",
   "metadata": {},
   "outputs": [],
   "source": [
    "# number of children (<16/<18) in hhold\n",
    "# number of people in hhold\n",
    "# number of children\n",
    "# respondent cares for <category>"
   ]
  },
  {
   "cell_type": "code",
   "execution_count": null,
   "id": "f479b0d6",
   "metadata": {},
   "outputs": [],
   "source": []
  },
  {
   "cell_type": "code",
   "execution_count": null,
   "id": "a71e8c7a",
   "metadata": {},
   "outputs": [],
   "source": [
    "# 2019/2017/2015\n",
    "# y04 -> care for dep -> binary for diff groups\n",
    "# y48 -> who else present during interview -> cat\n",
    "\n",
    "#2017/2019\n",
    "# 'total_num_dwel': 'Total number of dwellings',\n",
    "#  'total_num_hous': 'Total number of households'\n",
    "# think these are about the apartment complex?\n",
    "# 'num_elig_people': 'Number of eligible people'\n",
    "\n",
    "# 2010\n",
    "#   'aq72_1': 'how many people in household',\n",
    "#   'aq72_2': 'people in household < 18', (if above >1)\n",
    "#   'bq91_1': 'n people household',\n",
    "#   'bq91_2': 'n people household < 18',\n",
    "#   'zq91_1': 'n people household(3rd)',\n",
    "#   'zq91_2': 'n people household < 18(3rd)'\n",
    "\n",
    "# 'bq92a': 'care-chidren < 5 years age',\n",
    "#  'bq92b': 'care-children 5-15 years age',\n",
    "#  'bq92c': 'care-elderly people',\n",
    "#  'bq92d': 'care-disabled people',\n",
    "#  'bq92e': 'care-other people',\n",
    "#  'bq92f': 'care-dk',\n",
    "#  'bq92g': 'care-refused',\n",
    "#  'bq92h': 'care-none of above',\n",
    "#  'bq92_1': 'r-physical mental impairment'\n",
    "\n",
    "#   'uv068000': 'married couple household with dependent children',\n",
    "#   'v120_a': 'married couple household with no dependent children',\n",
    "#   'v121_a': 'cohabiting couple household with dependent children',\n",
    "#   'v122_a': 'cohabiting couple household with no dependent children',\n",
    "#   'v123_a': 'lone parent household with dependent children',\n",
    "#   'v124_a': 'lone parent household with no dependent children',\n",
    "#   'v125_a': 'one person household',\n",
    "#   'v126_a': 'multi person household all student',\n",
    "#   'uv068001': 'multi person household other',\n",
    "    ##???\n",
    "    \n",
    "# 2005\n",
    "\n",
    "#   'aq57a': 'how many people in household',\n",
    "#   'aq57b': 'how many people household less 18',\n",
    "#   'bq86a': 'how many people in household(3rd)',\n",
    "#   'bq86b': 'how many people household less 18(3rd)',\n",
    "#   'tq86a': 'combined-number of people in household',\n",
    "#   'tq86b': 'combined-number in household under 18',\n",
    "    \n",
    "#  'cq32a': 'r cares for children < 5',\n",
    "#  'cq32b': 'r cares for children 5-15',\n",
    "#  'cq32c': 'r cares for elderly people',\n",
    "#  'cq32d': 'r cares for disabled people',\n",
    "#  'cq32e': 'r cares for people needing special assist'\n",
    "\n",
    "# 2001\n",
    "#   'aq47a': 'number people in household',\n",
    "#   'aq47b': 'number people in household < 18',\n",
    "#   'bq80a': 'number people in household(2nd)',\n",
    "#   'bq80b': 'number in household under 18',\n",
    "#   'bq80c': 'number in household need special care',\n",
    "\n",
    "# 1997\n",
    "#   'househld': 'how many in household *including r*? q634',\n",
    "#   'numch18': 'number of people under 18 in household? q636',\n",
    "#   'numch5': 'number of people over 5 yrs in household? q638',\n",
    "\n",
    "# 1992\n",
    "#????\n",
    "\n",
    "# 1987\n",
    "#   'v54a1': 'children under 16', no/number\n",
    "#   'v54a2': 'children over 16 in full-time education', no/number\n",
    "\n",
    "# 1983\n",
    "#  'q58c': 'resp,spouse rcvd 1-parent benefit', # 'during last 5 years'\n",
    "#  'q65f': '[if private house] number in household',\n",
    "#  'q65g': '[if private house] number under age 16',\n",
    "\n",
    "# 1979\n",
    "# 'm498272': 'does r have children-q103a',\n",
    "#  'm499273': 'how many children does r have-q103b',\n",
    "#  'm500274': \"are any of r's children under 18-q103c\"\n",
    "\n",
    "# 1974_oct\n",
    "# 'oct498': 'resp has children',\n",
    "# 'oct499': 'number of children',\n",
    "# 'oct500': 'children under 18'\n",
    "\n",
    "# 1974_feb\n",
    "# ????\n",
    "\n",
    "# 1970-1959\n",
    "\n",
    "# Number of children 18 and under in home\n",
    "#   'v946': 'NO. CHILDREN IN HOME  63',\n",
    "#   'v947': 'NO. CHILDREN IN HOME  64',\n",
    "#   'v948': 'NO. CHILDREN IN HOME  66',\n",
    "#   'v949': 'NO. CHILDREN IN HOME  70',\n",
    "#   'v950': 'NO. OTHER CHILDREN  1970' # number of *other* children *not living in hhold*\n",
    "    \n",
    "#  'v951': 'PERSON TO BE GRADED 1963'\n",
    "#  'v952': 'PERSON TO BE GRADED 1964' ... v954 #  implicit occasional references to other ppl in house"
   ]
  },
  {
   "cell_type": "code",
   "execution_count": null,
   "id": "5da89217",
   "metadata": {},
   "outputs": [],
   "source": [
    "# 2019/2017/2015\n",
    "# y04 -> care for dep -> binary for diff groups\n",
    "# y48 -> who else present during interview -> cat\n",
    "\n",
    "#2017/2019\n",
    "# 'total_num_dwel': 'Total number of dwellings',\n",
    "#  'total_num_hous': 'Total number of households'\n",
    "# think these are about the apartment complex?\n",
    "# 'num_elig_people': 'Number of eligible people'"
   ]
  },
  {
   "cell_type": "code",
   "execution_count": 238,
   "id": "a84c057b",
   "metadata": {},
   "outputs": [
    {
     "data": {
      "text/plain": [
       "2    1906\n",
       "1    1479\n",
       "3     354\n",
       "4     164\n",
       "5      31\n",
       "6       9\n",
       "8       1\n",
       "7       1\n",
       "9       1\n",
       "Name: num_elig_people, dtype: int64"
      ]
     },
     "execution_count": 238,
     "metadata": {},
     "output_type": "execute_result"
    }
   ],
   "source": [
    "dataset = \"2019\"\n",
    "BES_df_list[dataset]['num_elig_people'].value_counts()"
   ]
  },
  {
   "cell_type": "code",
   "execution_count": 244,
   "id": "36dfac0a",
   "metadata": {},
   "outputs": [
    {
     "ename": "KeyError",
     "evalue": "'num_elig_people'",
     "output_type": "error",
     "traceback": [
      "\u001b[1;31m---------------------------------------------------------------------------\u001b[0m",
      "\u001b[1;31mKeyError\u001b[0m                                  Traceback (most recent call last)",
      "\u001b[1;32mE:\\Users\\Gamer\\anaconda3\\envs\\test_tensorflow_install\\lib\\site-packages\\pandas\\core\\indexes\\base.py\u001b[0m in \u001b[0;36mget_loc\u001b[1;34m(self, key, method, tolerance)\u001b[0m\n\u001b[0;32m   3079\u001b[0m             \u001b[1;32mtry\u001b[0m\u001b[1;33m:\u001b[0m\u001b[1;33m\u001b[0m\u001b[1;33m\u001b[0m\u001b[0m\n\u001b[1;32m-> 3080\u001b[1;33m                 \u001b[1;32mreturn\u001b[0m \u001b[0mself\u001b[0m\u001b[1;33m.\u001b[0m\u001b[0m_engine\u001b[0m\u001b[1;33m.\u001b[0m\u001b[0mget_loc\u001b[0m\u001b[1;33m(\u001b[0m\u001b[0mcasted_key\u001b[0m\u001b[1;33m)\u001b[0m\u001b[1;33m\u001b[0m\u001b[1;33m\u001b[0m\u001b[0m\n\u001b[0m\u001b[0;32m   3081\u001b[0m             \u001b[1;32mexcept\u001b[0m \u001b[0mKeyError\u001b[0m \u001b[1;32mas\u001b[0m \u001b[0merr\u001b[0m\u001b[1;33m:\u001b[0m\u001b[1;33m\u001b[0m\u001b[1;33m\u001b[0m\u001b[0m\n",
      "\u001b[1;32mpandas\\_libs\\index.pyx\u001b[0m in \u001b[0;36mpandas._libs.index.IndexEngine.get_loc\u001b[1;34m()\u001b[0m\n",
      "\u001b[1;32mpandas\\_libs\\index.pyx\u001b[0m in \u001b[0;36mpandas._libs.index.IndexEngine.get_loc\u001b[1;34m()\u001b[0m\n",
      "\u001b[1;32mpandas\\_libs\\hashtable_class_helper.pxi\u001b[0m in \u001b[0;36mpandas._libs.hashtable.PyObjectHashTable.get_item\u001b[1;34m()\u001b[0m\n",
      "\u001b[1;32mpandas\\_libs\\hashtable_class_helper.pxi\u001b[0m in \u001b[0;36mpandas._libs.hashtable.PyObjectHashTable.get_item\u001b[1;34m()\u001b[0m\n",
      "\u001b[1;31mKeyError\u001b[0m: 'num_elig_people'",
      "\nThe above exception was the direct cause of the following exception:\n",
      "\u001b[1;31mKeyError\u001b[0m                                  Traceback (most recent call last)",
      "\u001b[1;32m~\\AppData\\Local\\Temp\\ipykernel_31440\\2430115903.py\u001b[0m in \u001b[0;36m<module>\u001b[1;34m\u001b[0m\n\u001b[0;32m      3\u001b[0m \u001b[1;31m# same distribution\u001b[0m\u001b[1;33m\u001b[0m\u001b[1;33m\u001b[0m\u001b[1;33m\u001b[0m\u001b[0m\n\u001b[0;32m      4\u001b[0m \u001b[1;33m\u001b[0m\u001b[0m\n\u001b[1;32m----> 5\u001b[1;33m \u001b[0mBES_df_list\u001b[0m\u001b[1;33m[\u001b[0m\u001b[0mdataset\u001b[0m\u001b[1;33m]\u001b[0m\u001b[1;33m[\u001b[0m\u001b[1;34m'num_elig_people'\u001b[0m\u001b[1;33m]\u001b[0m\u001b[1;33m.\u001b[0m\u001b[0mvalue_counts\u001b[0m\u001b[1;33m(\u001b[0m\u001b[1;33m)\u001b[0m\u001b[1;33m\u001b[0m\u001b[1;33m\u001b[0m\u001b[0m\n\u001b[0m",
      "\u001b[1;32mE:\\Users\\Gamer\\anaconda3\\envs\\test_tensorflow_install\\lib\\site-packages\\pandas\\core\\frame.py\u001b[0m in \u001b[0;36m__getitem__\u001b[1;34m(self, key)\u001b[0m\n\u001b[0;32m   3022\u001b[0m             \u001b[1;32mif\u001b[0m \u001b[0mself\u001b[0m\u001b[1;33m.\u001b[0m\u001b[0mcolumns\u001b[0m\u001b[1;33m.\u001b[0m\u001b[0mnlevels\u001b[0m \u001b[1;33m>\u001b[0m \u001b[1;36m1\u001b[0m\u001b[1;33m:\u001b[0m\u001b[1;33m\u001b[0m\u001b[1;33m\u001b[0m\u001b[0m\n\u001b[0;32m   3023\u001b[0m                 \u001b[1;32mreturn\u001b[0m \u001b[0mself\u001b[0m\u001b[1;33m.\u001b[0m\u001b[0m_getitem_multilevel\u001b[0m\u001b[1;33m(\u001b[0m\u001b[0mkey\u001b[0m\u001b[1;33m)\u001b[0m\u001b[1;33m\u001b[0m\u001b[1;33m\u001b[0m\u001b[0m\n\u001b[1;32m-> 3024\u001b[1;33m             \u001b[0mindexer\u001b[0m \u001b[1;33m=\u001b[0m \u001b[0mself\u001b[0m\u001b[1;33m.\u001b[0m\u001b[0mcolumns\u001b[0m\u001b[1;33m.\u001b[0m\u001b[0mget_loc\u001b[0m\u001b[1;33m(\u001b[0m\u001b[0mkey\u001b[0m\u001b[1;33m)\u001b[0m\u001b[1;33m\u001b[0m\u001b[1;33m\u001b[0m\u001b[0m\n\u001b[0m\u001b[0;32m   3025\u001b[0m             \u001b[1;32mif\u001b[0m \u001b[0mis_integer\u001b[0m\u001b[1;33m(\u001b[0m\u001b[0mindexer\u001b[0m\u001b[1;33m)\u001b[0m\u001b[1;33m:\u001b[0m\u001b[1;33m\u001b[0m\u001b[1;33m\u001b[0m\u001b[0m\n\u001b[0;32m   3026\u001b[0m                 \u001b[0mindexer\u001b[0m \u001b[1;33m=\u001b[0m \u001b[1;33m[\u001b[0m\u001b[0mindexer\u001b[0m\u001b[1;33m]\u001b[0m\u001b[1;33m\u001b[0m\u001b[1;33m\u001b[0m\u001b[0m\n",
      "\u001b[1;32mE:\\Users\\Gamer\\anaconda3\\envs\\test_tensorflow_install\\lib\\site-packages\\pandas\\core\\indexes\\base.py\u001b[0m in \u001b[0;36mget_loc\u001b[1;34m(self, key, method, tolerance)\u001b[0m\n\u001b[0;32m   3080\u001b[0m                 \u001b[1;32mreturn\u001b[0m \u001b[0mself\u001b[0m\u001b[1;33m.\u001b[0m\u001b[0m_engine\u001b[0m\u001b[1;33m.\u001b[0m\u001b[0mget_loc\u001b[0m\u001b[1;33m(\u001b[0m\u001b[0mcasted_key\u001b[0m\u001b[1;33m)\u001b[0m\u001b[1;33m\u001b[0m\u001b[1;33m\u001b[0m\u001b[0m\n\u001b[0;32m   3081\u001b[0m             \u001b[1;32mexcept\u001b[0m \u001b[0mKeyError\u001b[0m \u001b[1;32mas\u001b[0m \u001b[0merr\u001b[0m\u001b[1;33m:\u001b[0m\u001b[1;33m\u001b[0m\u001b[1;33m\u001b[0m\u001b[0m\n\u001b[1;32m-> 3082\u001b[1;33m                 \u001b[1;32mraise\u001b[0m \u001b[0mKeyError\u001b[0m\u001b[1;33m(\u001b[0m\u001b[0mkey\u001b[0m\u001b[1;33m)\u001b[0m \u001b[1;32mfrom\u001b[0m \u001b[0merr\u001b[0m\u001b[1;33m\u001b[0m\u001b[1;33m\u001b[0m\u001b[0m\n\u001b[0m\u001b[0;32m   3083\u001b[0m \u001b[1;33m\u001b[0m\u001b[0m\n\u001b[0;32m   3084\u001b[0m         \u001b[1;32mif\u001b[0m \u001b[0mtolerance\u001b[0m \u001b[1;32mis\u001b[0m \u001b[1;32mnot\u001b[0m \u001b[1;32mNone\u001b[0m\u001b[1;33m:\u001b[0m\u001b[1;33m\u001b[0m\u001b[1;33m\u001b[0m\u001b[0m\n",
      "\u001b[1;31mKeyError\u001b[0m: 'num_elig_people'"
     ]
    }
   ],
   "source": [
    "dataset = \"2017\"\n",
    "# BES_df_list[dataset][search(BES_df_list[dataset],\"y48\").index].replace(\"Yes\",1).replace(\"No\",0).astype(float).sum()\n",
    "# same distribution\n",
    "\n",
    "BES_df_list[dataset]['num_elig_people'].value_counts()"
   ]
  },
  {
   "cell_type": "code",
   "execution_count": 240,
   "id": "6c0e91f3",
   "metadata": {},
   "outputs": [
    {
     "data": {
      "text/plain": [
       "2.0     1148\n",
       "1.0      882\n",
       "3.0      450\n",
       "4.0      404\n",
       "5.0      133\n",
       "6.0       42\n",
       "7.0        9\n",
       "NaN        4\n",
       "9.0        1\n",
       "11.0       1\n",
       "21.0       1\n",
       "8.0        0\n",
       "23.0       0\n",
       "Name: zq91_1, dtype: int64"
      ]
     },
     "execution_count": 240,
     "metadata": {},
     "output_type": "execute_result"
    }
   ],
   "source": [
    "dataset = \"2010\"\n",
    "\n",
    "BES_df_list[dataset]['zq91_1'].replace(\"refused\",np.nan).value_counts(dropna=False)"
   ]
  },
  {
   "cell_type": "code",
   "execution_count": 242,
   "id": "6d5af2c6",
   "metadata": {},
   "outputs": [
    {
     "data": {
      "text/plain": [
       "2.0     1535\n",
       "1.0     1152\n",
       "3.0      635\n",
       "4.0      550\n",
       "5.0      212\n",
       "6.0       56\n",
       "7.0       13\n",
       "NaN        3\n",
       "8.0        2\n",
       "44.0       1\n",
       "9.0        1\n",
       "11.0       1\n",
       "Name: tq86a, dtype: int64"
      ]
     },
     "execution_count": 242,
     "metadata": {},
     "output_type": "execute_result"
    }
   ],
   "source": [
    "dataset = \"2005\"\n",
    "replace_dict = {9999.0:np.nan,98.0:np.nan,}\n",
    "BES_df_list[dataset]['tq86a'].replace(replace_dict).astype(float).value_counts(dropna=False)"
   ]
  },
  {
   "cell_type": "code",
   "execution_count": 245,
   "id": "c260273b",
   "metadata": {},
   "outputs": [
    {
     "data": {
      "text/plain": [
       "0.0    1070\n",
       "NaN     913\n",
       "1.0     381\n",
       "2.0     324\n",
       "3.0     138\n",
       "4.0      57\n",
       "5.0      21\n",
       "7.0       8\n",
       "6.0       6\n",
       "9.0       2\n",
       "8.0       2\n",
       "Name: v946, dtype: int64"
      ]
     },
     "execution_count": 245,
     "metadata": {},
     "output_type": "execute_result"
    }
   ],
   "source": [
    "f2f_harmonised[\"hhold_size\"] = np.nan\n",
    "f2f_harmonised[\"hhold_size_under18\"] = np.nan\n",
    "dataset = \"2019\"\n",
    "\n",
    "BES_df_list[dataset][search(BES_df_list[dataset],\"y48\").index].replace(\"Yes\",1).replace(\"No\",0).astype(float).sum()\n",
    "# 1. No-one else present (should not be multi-coded)\n",
    "# 2. Respondent's partner/husband/wife\n",
    "# 3. Respondent’s son/daughter\n",
    "# 4. Other adult living in household\n",
    "# 5. Other young person living in household\n",
    "# 6. Other adult/young person not living in household\n",
    "## 2000 entries out of ~3800\n",
    "f2f_harmonised.loc[f2f_harmonised[\"dataset\"]==dataset,\"hhold_size\"] = BES_df_list[dataset]['num_elig_people'].astype(float)\n",
    "# BES_df_list[dataset]['num_elig_people'].value_counts()\n",
    "# what is 'eligible people'? >18?\n",
    "\n",
    "dataset = \"2017\"\n",
    "# BES_df_list[dataset][search(BES_df_list[dataset],\"y48\").index].replace(\"Yes\",1).replace(\"No\",0).astype(float).sum()\n",
    "# same distribution\n",
    "f2f_harmonised.loc[f2f_harmonised[\"dataset\"]==dataset,\"hhold_size\"] = BES_df_list[dataset]['num_elig_people'].astype(float)\n",
    "# BES_df_list[dataset]['num_elig_people'].value_counts()\n",
    "\n",
    "# dataset = \"2015\" # nothing!\n",
    "\n",
    "dataset = \"2010\"\n",
    "\n",
    "f2f_harmonised.loc[f2f_harmonised[\"dataset\"]==dataset,\"hhold_size\"] =\\\n",
    "    BES_df_list[dataset]['zq91_1'].replace(\"refused\",np.nan).astype(float)    \n",
    "    \n",
    "# BES_df_list[dataset]['aq72_1'].value_counts(dropna=False)\n",
    "# BES_df_list[dataset]['bq91_1'].value_counts(dropna=False)\n",
    "f2f_harmonised.loc[f2f_harmonised[\"dataset\"]==dataset,\"hhold_size_under18\"] =\\\n",
    "    BES_df_list[dataset]['zq91_2'].replace(\"refused\",np.nan).astype(float)\n",
    "\n",
    "dataset = \"2005\"\n",
    "#   'aq57a': 'how many people in household',\n",
    "#   'aq57b': 'how many people household less 18',\n",
    "#   'bq86a': 'how many people in household(3rd)',\n",
    "#   'bq86b': 'how many people household less 18(3rd)',\n",
    "#   'tq86a': 'combined-number of people in household',\n",
    "#   'tq86b': 'combined-number in household under 18',\n",
    "\n",
    "replace_dict = {9999.0:np.nan,98.0:np.nan,}\n",
    "f2f_harmonised.loc[f2f_harmonised[\"dataset\"]==dataset,\"hhold_size\"] =\\\n",
    "    BES_df_list[dataset]['tq86a'].replace(replace_dict).astype(float)\n",
    "\n",
    "f2f_harmonised.loc[f2f_harmonised[\"dataset\"]==dataset,\"hhold_size_under18\"] =\\\n",
    "    BES_df_list[dataset]['tq86b'].replace(replace_dict).astype(float)\n",
    "\n",
    "dataset = \"2001\"\n",
    "#   'aq47a': 'number people in household',\n",
    "#   'aq47b': 'number people in household < 18',\n",
    "#   'bq80a': 'number people in household(2nd)',\n",
    "#   'bq80b': 'number in household under 18',\n",
    "#   'bq80c': 'number in household need special care',\n",
    "replace_dict = {\"refused, na\":np.nan,\"not app\":np.nan,98.0:np.nan}\n",
    "temp = BES_df_list[dataset]['aq47a'].replace(replace_dict).astype(float)\n",
    "temp.value_counts(dropna=False)\n",
    "temp2 = BES_df_list[dataset]['bq80a'].replace(replace_dict).astype(float)\n",
    "temp2.value_counts(dropna=False)\n",
    "temp2.loc[temp2.isnull()] = temp.loc[temp2.isnull()]\n",
    "f2f_harmonised.loc[f2f_harmonised[\"dataset\"]==dataset,\"hhold_size\"] = temp2\n",
    "\n",
    "replace_dict = {\"refused, na\":np.nan,\"not app\":np.nan,98.0:np.nan,\"ref, na, not app\":np.nan}\n",
    "temp = BES_df_list[dataset]['aq47b'].replace(replace_dict).astype(float)\n",
    "temp.value_counts(dropna=False)\n",
    "temp2 = BES_df_list[dataset]['bq80b'].replace(replace_dict).astype(float)\n",
    "temp2.value_counts(dropna=False)\n",
    "temp2.loc[temp2.isnull()] = temp.loc[temp2.isnull()]\n",
    "temp2.value_counts(dropna=False)\n",
    "f2f_harmonised.loc[f2f_harmonised[\"dataset\"]==dataset,\"hhold_size_under18\"] = temp2\n",
    "\n",
    "dataset = \"1997\"\n",
    "#   'househld': 'how many in household *including r*? q634',\n",
    "#   'numch18': 'number of people under 18 in household? q636',\n",
    "#   'numch5': 'number of people over 5 yrs in household? q638',\n",
    "replace_dict = {\"not     answered\":np.nan,\"don't   know\":np.nan,\"none\":0.0}\n",
    "f2f_harmonised.loc[f2f_harmonised[\"dataset\"]==dataset,\"hhold_size\"] =\\\n",
    "    BES_df_list[dataset]['househld'].replace(replace_dict).astype(float)#.value_counts(dropna=False)\n",
    "f2f_harmonised.loc[f2f_harmonised[\"dataset\"]==dataset,\"hhold_size_under18\"] =\\\n",
    "    BES_df_list[dataset]['numch18'].replace(replace_dict).astype(float)#.value_counts(dropna=False)\n",
    "\n",
    "# dataset = \"1992\" # nothing here\n",
    "\n",
    "dataset = \"1987\"\n",
    "#   'v54a1': 'children under 16', no/number\n",
    "#   'v54a2': 'children over 16 in full-time education', no/number\n",
    "replace_dict = {\"not     answered\":np.nan,\"don't   know\":np.nan,\"none\":0.0,\"not answered\":np.nan}\n",
    "# BES_df_list[dataset]['v54a1'].replace(replace_dict)#.value_counts(dropna=False)\n",
    "f2f_harmonised.loc[f2f_harmonised[\"dataset\"]==dataset,\"hhold_size_under18\"] =\\\n",
    "    BES_df_list[dataset]['v54a1'].replace(replace_dict).astype(float)#.value_counts(dropna=False)\n",
    "# hhold_size\n",
    "\n",
    "dataset = \"1983\"\n",
    "#  'q58c': 'resp,spouse rcvd 1-parent benefit', # 'during last 5 years'\n",
    "#  'q65f': '[if private house] number in household',\n",
    "#  'q65g': '[if private house] number under age 16',\n",
    "replace_dict = {\"not     answered\":np.nan,\"don't   know\":np.nan,\"none\":0.0,\"not answered\":np.nan,\"skipped\":np.nan}\n",
    "f2f_harmonised.loc[f2f_harmonised[\"dataset\"]==dataset,\"hhold_size\"] =\\\n",
    "    BES_df_list[dataset]['q65f'].replace(replace_dict).astype(float)#.value_counts(dropna=False)\n",
    "f2f_harmonised.loc[f2f_harmonised[\"dataset\"]==dataset,\"hhold_size_under18\"] =\\\n",
    "    BES_df_list[dataset]['q65g'].replace(replace_dict).astype(float)#.value_counts(dropna=False)\n",
    "\n",
    "dataset = \"1979\"\n",
    "# 'm498272': 'does r have children-q103a',\n",
    "#  'm499273': 'how many children does r have-q103b',\n",
    "#  'm500274': \"are any of r's children under 18-q103c\"\n",
    "# BES_df_list[dataset]['m500274'].value_counts(dropna=False)\n",
    "### not really possible to get hhold_size/hhold_size_under18\n",
    "\n",
    "dataset = \"1974_oct\"\n",
    "# # 'oct498': 'resp has children',  # this is a binary\n",
    "# # 'oct499': 'number of children',\n",
    "# # 'oct500': 'children under 18' # this is a binary\n",
    "### eight or more => eight\n",
    "# replace_dict = {\"na or inap\":np.nan,\"one\":1,\"...\":2,\"seven\":7,\"eight or more\":8}\n",
    "# temp = BES_df_list[dataset]['oct499'].replace(replace_dict).astype(float)\n",
    "# temp.loc[BES_df_list[dataset]['oct498']=='no'] = 0\n",
    "# temp.value_counts(dropna=False)\n",
    "\n",
    "# cannot infer so many *in hhold*\n",
    "\n",
    "# # dataset = \"1974_feb\" # \n",
    "\n",
    "dataset = \"1970\"\n",
    "\n",
    "#   'v946': 'NO. CHILDREN IN HOME  63',\n",
    "#   'v947': 'NO. CHILDREN IN HOME  64',\n",
    "#   'v948': 'NO. CHILDREN IN HOME  66',\n",
    "#   'v949': 'NO. CHILDREN IN HOME  70',\n",
    "#   'v950': 'NO. OTHER CHILDREN  1970' # number of *other* children *not living in hhold*\n",
    "#  'v951': 'PERSON TO BE GRADED 1963'\n",
    "#  'v952': 'PERSON TO BE GRADED 1964' ... v954 #  implicit occasional references to other ppl in house\n",
    "replace_dict ={99.0:np.nan,}\n",
    "f2f_harmonised.loc[f2f_harmonised[\"dataset\"]==dataset,\"hhold_size_under18\"] =\\\n",
    "    BES_df_list[dataset]['v949'].replace(replace_dict).astype(float)\n",
    "\n",
    "dataset = \"1966\"\n",
    "replace_dict ={99.0:np.nan,}\n",
    "temp = BES_df_list[dataset]['v948'].replace(replace_dict).astype(float)\n",
    "temp.loc[(temp==0)&(BES_df_list[dataset]['v13']==0)]=np.nan\n",
    "f2f_harmonised.loc[f2f_harmonised[\"dataset\"]==dataset,\"hhold_size_under18\"] = temp\n",
    "temp.value_counts(dropna=False)\n",
    "\n",
    "dataset = \"1964\"\n",
    "replace_dict ={99.0:np.nan,}\n",
    "temp = BES_df_list[dataset]['v947'].replace(replace_dict).astype(float)\n",
    "temp.loc[(temp==0)&(BES_df_list[dataset]['v11']==0)]=np.nan\n",
    "f2f_harmonised.loc[f2f_harmonised[\"dataset\"]==dataset,\"hhold_size_under18\"] = temp\n",
    "temp.value_counts(dropna=False)\n",
    "\n",
    "dataset = \"1959\"\n",
    "replace_dict ={99.0:np.nan,}\n",
    "temp = BES_df_list[dataset]['v946'].replace(replace_dict).astype(float)\n",
    "temp.loc[(temp==0)&(BES_df_list[dataset]['v10']==0)]=np.nan\n",
    "f2f_harmonised.loc[f2f_harmonised[\"dataset\"]==dataset,\"hhold_size_under18\"] = temp\n",
    "temp.value_counts(dropna=False)\n",
    "\n",
    "\n",
    "## 1966/64/63 - they merge \"not interviewed\" and 0 children!\n",
    "\n",
    "# BES_df_list[dataset]['v947'][BES_df_list[dataset]['v11']==0].value_counts(dropna=False)"
   ]
  },
  {
   "cell_type": "code",
   "execution_count": 246,
   "id": "4de03088",
   "metadata": {},
   "outputs": [],
   "source": [
    "# f2f_harmonised[\"hhold_size\"].value_counts(dropna=False)\n",
    "\n",
    "### BUG 2 entries with 0 hhold_size!\n",
    "f2f_harmonised[\"hhold_size\"] = f2f_harmonised[\"hhold_size\"].replace(0,np.nan)"
   ]
  },
  {
   "cell_type": "code",
   "execution_count": 247,
   "id": "abcb26ff",
   "metadata": {},
   "outputs": [],
   "source": [
    "f2f_harmonised[['hhold_size', 'hhold_size_under18']].to_pickle(\"E:\\\\BES_analysis_data\\\\Face_to_face\\\\hholdsize.zip\", compression='zip')"
   ]
  },
  {
   "cell_type": "code",
   "execution_count": null,
   "id": "105b7ed9",
   "metadata": {},
   "outputs": [],
   "source": []
  },
  {
   "cell_type": "code",
   "execution_count": null,
   "id": "ca863c79",
   "metadata": {},
   "outputs": [],
   "source": []
  },
  {
   "cell_type": "code",
   "execution_count": 212,
   "id": "f19c1835",
   "metadata": {},
   "outputs": [
    {
     "data": {
      "text/plain": [
       "yes    0\n",
       "no     0\n",
       "Name: oct500, dtype: int64"
      ]
     },
     "execution_count": 212,
     "metadata": {},
     "output_type": "execute_result"
    }
   ],
   "source": [
    "BES_df_list[dataset]['oct500'][BES_df_list[dataset]['oct498']=='no'].value_counts()"
   ]
  },
  {
   "cell_type": "code",
   "execution_count": 213,
   "id": "b21be98d",
   "metadata": {},
   "outputs": [
    {
     "data": {
      "text/plain": [
       "yes    975\n",
       "no     727\n",
       "Name: oct500, dtype: int64"
      ]
     },
     "execution_count": 213,
     "metadata": {},
     "output_type": "execute_result"
    }
   ],
   "source": [
    "BES_df_list[dataset]['oct500'][BES_df_list[dataset]['oct498']=='yes'].value_counts()"
   ]
  },
  {
   "cell_type": "code",
   "execution_count": 207,
   "id": "8d1ed38e",
   "metadata": {},
   "outputs": [
    {
     "data": {
      "text/plain": [
       "na or inap       641\n",
       "one                0\n",
       "...                0\n",
       "3                  0\n",
       "4                  0\n",
       "5                  0\n",
       "6                  0\n",
       "seven              0\n",
       "eight or more      0\n",
       "Name: oct499, dtype: int64"
      ]
     },
     "execution_count": 207,
     "metadata": {},
     "output_type": "execute_result"
    }
   ],
   "source": [
    "BES_df_list[dataset]['oct499'][BES_df_list[dataset]['oct498']=='no'].value_counts()"
   ]
  },
  {
   "cell_type": "code",
   "execution_count": 186,
   "id": "34ab17f3",
   "metadata": {},
   "outputs": [
    {
     "data": {
      "text/plain": [
       "{'v52c': 'household income kept up with prices?  q52c',\n",
       " 'v909a': 'r/household own/have use of a car? q909a',\n",
       " 'v909b': 'r/household private health insurancq909b',\n",
       " 'v920': 'main source of household income?    q920',\n",
       " 'v921': 'total income of household all source q921',\n",
       " 'hhincqua': 'household income quartile             dv'}"
      ]
     },
     "execution_count": 186,
     "metadata": {},
     "output_type": "execute_result"
    }
   ],
   "source": [
    "{k:v for k,v in BES_label_list[\"1992\"].items() if \"household\" in v}"
   ]
  },
  {
   "cell_type": "code",
   "execution_count": 137,
   "id": "4ff41c79",
   "metadata": {},
   "outputs": [
    {
     "data": {
      "text/plain": [
       "{'aq47a': 'number people in household',\n",
       " 'aq47b': 'number people in household < 18'}"
      ]
     },
     "execution_count": 137,
     "metadata": {},
     "output_type": "execute_result"
    }
   ],
   "source": [
    "{k:v for k,v in BES_label_list[\"2001\"].items() if \"aq47\" in k}"
   ]
  },
  {
   "cell_type": "code",
   "execution_count": null,
   "id": "80164c4d",
   "metadata": {},
   "outputs": [],
   "source": [
    "# num ppl in hhold\n",
    "# num <18 in hhold\n",
    "# num <5 (>5?) in hhold\n",
    "# num dep need special care\n",
    "# child care <5/5-15\n",
    "\n",
    "# children <16\n",
    "# children >16 in FT ed\n",
    "\n",
    "# '[if private house] number in household'\n",
    "# 'm499273': 'how many children does r have-q103b'\n",
    "# 'm500274': \"are any of r's children under 18-q103c\",\n",
    "\n",
    "# 'oct498': 'resp has children',\n",
    "#   'oct499': 'number of children',\n",
    "#   'oct500': 'children under 18'\n",
    "\n",
    "#  'v949': 'NO. CHILDREN IN HOME  70',\n",
    "#   'v950': 'NO. OTHER CHILDREN  1970'"
   ]
  },
  {
   "cell_type": "code",
   "execution_count": null,
   "id": "405ace39",
   "metadata": {},
   "outputs": [],
   "source": []
  },
  {
   "cell_type": "code",
   "execution_count": null,
   "id": "1d9c2e28",
   "metadata": {},
   "outputs": [],
   "source": []
  },
  {
   "cell_type": "code",
   "execution_count": null,
   "id": "cd0f7949",
   "metadata": {},
   "outputs": [],
   "source": []
  },
  {
   "cell_type": "code",
   "execution_count": null,
   "id": "149eae48",
   "metadata": {},
   "outputs": [],
   "source": []
  },
  {
   "cell_type": "code",
   "execution_count": null,
   "id": "5c0f8143",
   "metadata": {},
   "outputs": [],
   "source": []
  },
  {
   "cell_type": "code",
   "execution_count": null,
   "id": "61d3afbe",
   "metadata": {},
   "outputs": [],
   "source": []
  },
  {
   "cell_type": "code",
   "execution_count": null,
   "id": "da0aebc8",
   "metadata": {},
   "outputs": [],
   "source": []
  },
  {
   "cell_type": "code",
   "execution_count": null,
   "id": "d8d9c796",
   "metadata": {},
   "outputs": [],
   "source": []
  }
 ],
 "metadata": {
  "kernelspec": {
   "display_name": "Python 3 (ipykernel)",
   "language": "python",
   "name": "python3"
  },
  "language_info": {
   "codemirror_mode": {
    "name": "ipython",
    "version": 3
   },
   "file_extension": ".py",
   "mimetype": "text/x-python",
   "name": "python",
   "nbconvert_exporter": "python",
   "pygments_lexer": "ipython3",
   "version": "3.7.12"
  }
 },
 "nbformat": 4,
 "nbformat_minor": 5
}
