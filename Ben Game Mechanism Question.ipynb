{
 "cells": [
  {
   "cell_type": "code",
   "execution_count": 1,
   "id": "c38c34f8",
   "metadata": {},
   "outputs": [
    {
     "data": {
      "text/html": [
       "<script>jQuery(function() {if (jQuery(\"body.notebook_app\").length == 0) { jQuery(\".input_area\").toggle(); jQuery(\".prompt\").toggle();}});</script>"
      ]
     },
     "metadata": {},
     "output_type": "display_data"
    },
    {
     "data": {
      "text/html": [
       "<button onclick=\"jQuery('.input_area').toggle(); jQuery('.prompt').toggle();\">Toggle code</button>"
      ]
     },
     "metadata": {},
     "output_type": "display_data"
    },
    {
     "name": "stdout",
     "output_type": "stream",
     "text": [
      "Wall time: 27.7 s\n"
     ]
    }
   ],
   "source": [
    "%%time\n",
    "dataset_name = \"W19_only\"\n",
    "df_list = \"BES_Panel\"\n",
    "\n",
    "%matplotlib inline\n",
    "%run BES_header.py {dataset_name} {df_list}\n",
    "\n",
    "# BES_Panel = pd.read_stata( \"E:\\\\Users\\\\Gamer\\\\Documents\\\\GitHub\\\\BES_analysis\\\\BES_analysis_data\\\\W23_only\\\\BES2019_W23_v23.0.dta\" )"
   ]
  },
  {
   "cell_type": "code",
   "execution_count": 4,
   "id": "981ee2eb",
   "metadata": {},
   "outputs": [
    {
     "data": {
      "text/plain": [
       "array([5, 2, 2])"
      ]
     },
     "execution_count": 4,
     "metadata": {},
     "output_type": "execute_result"
    }
   ],
   "source": []
  },
  {
   "cell_type": "code",
   "execution_count": 7,
   "id": "90605e6f",
   "metadata": {},
   "outputs": [
    {
     "data": {
      "text/plain": [
       "0    0.0\n",
       "1    0.0\n",
       "2    0.0\n",
       "dtype: float64"
      ]
     },
     "execution_count": 7,
     "metadata": {},
     "output_type": "execute_result"
    }
   ],
   "source": [
    "pd.Series(index = [0,1,2]).fillna(0)"
   ]
  },
  {
   "cell_type": "code",
   "execution_count": 20,
   "id": "87a65494",
   "metadata": {},
   "outputs": [
    {
     "data": {
      "text/html": [
       "<div>\n",
       "<style scoped>\n",
       "    .dataframe tbody tr th:only-of-type {\n",
       "        vertical-align: middle;\n",
       "    }\n",
       "\n",
       "    .dataframe tbody tr th {\n",
       "        vertical-align: top;\n",
       "    }\n",
       "\n",
       "    .dataframe thead th {\n",
       "        text-align: right;\n",
       "    }\n",
       "</style>\n",
       "<table border=\"1\" class=\"dataframe\">\n",
       "  <thead>\n",
       "    <tr style=\"text-align: right;\">\n",
       "      <th></th>\n",
       "      <th>repeat</th>\n",
       "    </tr>\n",
       "  </thead>\n",
       "  <tbody>\n",
       "    <tr>\n",
       "      <th>0</th>\n",
       "      <td>0</td>\n",
       "    </tr>\n",
       "    <tr>\n",
       "      <th>1</th>\n",
       "      <td>0</td>\n",
       "    </tr>\n",
       "    <tr>\n",
       "      <th>2</th>\n",
       "      <td>0</td>\n",
       "    </tr>\n",
       "  </tbody>\n",
       "</table>\n",
       "</div>"
      ],
      "text/plain": [
       "   repeat\n",
       "0       0\n",
       "1       0\n",
       "2       0"
      ]
     },
     "execution_count": 20,
     "metadata": {},
     "output_type": "execute_result"
    }
   ],
   "source": [
    "# 50% morning, aft 30%, even 20%"
   ]
  },
  {
   "cell_type": "code",
   "execution_count": 58,
   "id": "99b73c18",
   "metadata": {},
   "outputs": [
    {
     "data": {
      "text/plain": [
       "0    0.451538\n",
       "1    0.329860\n",
       "2    0.218602\n",
       "dtype: float64"
      ]
     },
     "execution_count": 58,
     "metadata": {},
     "output_type": "execute_result"
    }
   ],
   "source": [
    "total_repeats = 1000\n",
    "period_df = pd.DataFrame(index=[0,1,2],columns=range(0,total_repeats)).fillna(0)\n",
    "\n",
    "\n",
    "# period_length = pd.Series(index = [0,1,2]).fillna(0)\n",
    "for repeat in range(0,total_repeats):\n",
    "    period = 0\n",
    "    while period <3:\n",
    "        # roll dice\n",
    "        period_df.loc[period,repeat]=period_df.loc[period,repeat]+1\n",
    "        roll_dice = np.random.randint(1,6,4-period)\n",
    "        # apply rule\n",
    "#         if roll_dice.sum()<11:\n",
    "#             period=period+1\n",
    "        if (roll_dice<4).all():\n",
    "            period=period+1\n",
    "        \n",
    "        \n",
    "        \n",
    "# display(period_length)\n",
    "# 100*period_length/period_length.sum()\n",
    "period_df.apply(lambda x: x/sum(x)).mean(axis=1)"
   ]
  },
  {
   "cell_type": "code",
   "execution_count": 48,
   "id": "83bec8eb",
   "metadata": {},
   "outputs": [
    {
     "data": {
      "text/plain": [
       "False"
      ]
     },
     "execution_count": 48,
     "metadata": {},
     "output_type": "execute_result"
    }
   ],
   "source": [
    "(roll_dice<4).all()"
   ]
  },
  {
   "cell_type": "code",
   "execution_count": 59,
   "id": "ee89d2a9",
   "metadata": {},
   "outputs": [
    {
     "data": {
      "text/plain": [
       "14.466"
      ]
     },
     "execution_count": 59,
     "metadata": {},
     "output_type": "execute_result"
    }
   ],
   "source": [
    "period_df.mean(axis=1).sum()"
   ]
  },
  {
   "cell_type": "code",
   "execution_count": 60,
   "id": "e34ce7bd",
   "metadata": {},
   "outputs": [
    {
     "data": {
      "text/plain": [
       "0    7.181\n",
       "1    4.577\n",
       "2    2.708\n",
       "dtype: float64"
      ]
     },
     "execution_count": 60,
     "metadata": {},
     "output_type": "execute_result"
    }
   ],
   "source": [
    "period_df.mean(axis=1)"
   ]
  },
  {
   "cell_type": "code",
   "execution_count": 41,
   "id": "29f07b0b",
   "metadata": {},
   "outputs": [],
   "source": [
    "# period_df.sum(axis=0).mean()"
   ]
  },
  {
   "cell_type": "code",
   "execution_count": 68,
   "id": "7b3e7594",
   "metadata": {},
   "outputs": [
    {
     "data": {
      "text/plain": [
       "<matplotlib.axes._subplots.AxesSubplot at 0x1c10ff565c8>"
      ]
     },
     "execution_count": 68,
     "metadata": {},
     "output_type": "execute_result"
    },
    {
     "data": {
      "image/png": "[encoded data removed]",
      "text/plain": [
       "<Figure size 432x288 with 1 Axes>"
      ]
     },
     "metadata": {},
     "output_type": "display_data"
    }
   ],
   "source": [
    "period_df.sum().hist(bins=20)"
   ]
  },
  {
   "cell_type": "code",
   "execution_count": 63,
   "id": "d8553cc3",
   "metadata": {},
   "outputs": [
    {
     "data": {
      "text/plain": [
       "3"
      ]
     },
     "execution_count": 63,
     "metadata": {},
     "output_type": "execute_result"
    }
   ],
   "source": [
    "period_df.sum().min()"
   ]
  },
  {
   "cell_type": "code",
   "execution_count": 64,
   "id": "56bc1b1b",
   "metadata": {},
   "outputs": [
    {
     "data": {
      "text/plain": [
       "0    10\n",
       "dtype: int64"
      ]
     },
     "execution_count": 64,
     "metadata": {},
     "output_type": "execute_result"
    }
   ],
   "source": [
    "period_df.sum().mode()"
   ]
  },
  {
   "cell_type": "code",
   "execution_count": null,
   "id": "b1516e9f",
   "metadata": {},
   "outputs": [],
   "source": []
  }
 ],
 "metadata": {
  "kernelspec": {
   "display_name": "Python 3",
   "language": "python",
   "name": "python3"
  },
  "language_info": {
   "codemirror_mode": {
    "name": "ipython",
    "version": 3
   },
   "file_extension": ".py",
   "mimetype": "text/x-python",
   "name": "python",
   "nbconvert_exporter": "python",
   "pygments_lexer": "ipython3",
   "version": "3.7.12"
  }
 },
 "nbformat": 4,
 "nbformat_minor": 5
}
