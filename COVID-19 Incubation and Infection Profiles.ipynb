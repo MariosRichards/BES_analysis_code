{
 "cells": [
  {
   "cell_type": "code",
   "execution_count": 3,
   "metadata": {},
   "outputs": [],
   "source": [
    "%matplotlib inline\n",
    "\n",
    "import numpy as np, pandas as pd, matplotlib.pyplot as plt, seaborn as sns\n",
    "import pickle, os, gc, re"
   ]
  },
  {
   "cell_type": "code",
   "execution_count": 4,
   "metadata": {},
   "outputs": [
    {
     "data": {
      "image/png": "[encoded data removed]",
      "text/plain": [
       "<Figure size 432x288 with 1 Axes>"
      ]
     },
     "metadata": {
      "needs_background": "light"
     },
     "output_type": "display_data"
    }
   ],
   "source": [
    "from scipy.stats import lognorm\n",
    "import matplotlib.pyplot as plt\n",
    "fig, ax = plt.subplots(1, 1)\n"
   ]
  },
  {
   "cell_type": "code",
   "execution_count": null,
   "metadata": {},
   "outputs": [],
   "source": [
    "A common parametrization for a lognormal random variable Y is in terms of the mean, mu, and standard deviation, sigma, of the unique normally distributed random variable X such that exp(X) = Y.\n",
    "This parametrization corresponds to setting s = sigma and scale = exp(mu)."
   ]
  },
  {
   "cell_type": "code",
   "execution_count": null,
   "metadata": {},
   "outputs": [],
   "source": [
    "lognorm.pdf(x, s, loc, scale)"
   ]
  },
  {
   "cell_type": "code",
   "execution_count": null,
   "metadata": {},
   "outputs": [],
   "source": [
    "The estimate of the dispersion parameter was 1.52 (CI, 1.32 to 1.72), and the estimated mean incubation period was 5.5 days.\n",
    "Median = 5.1"
   ]
  },
  {
   "cell_type": "code",
   "execution_count": null,
   "metadata": {},
   "outputs": [],
   "source": [
    "Alternatively, the \"multiplicative\" or \"geometric\" parameters {\\displaystyle \\mu ^{*}=e^{\\mu }}{\\displaystyle \\mu ^{*}=e^{\\mu }} and {\\displaystyle \\sigma ^{*}=e^{\\sigma }}{\\displaystyle \\sigma ^{*}=e^{\\sigma }} can be used. They have a more direct interpretation: {\\displaystyle \\mu ^{*}}\\mu ^{*} is the median of the distribution, and {\\displaystyle \\sigma ^{*}}\\sigma ^{*} is useful for determining \"scatter\" intervals, see below."
   ]
  },
  {
   "cell_type": "code",
   "execution_count": 31,
   "metadata": {},
   "outputs": [],
   "source": [
    "# https://annals.org/aim/fullarticle/2762808/incubation-period-coronavirus-disease-2019-covid-19-from-publicly-reported\n",
    "\n",
    "# mean and sd of the ln(distribution)\n",
    "# https://acp.silverchair-cdn.com/acp/content_public/journal/aim/0/m200504tta2.jpeg?Expires=1584892864&Signature=lRGu8Xy3QC9WzgSuFIWCU3ePzIal6JlXVAjrJXqzStcjiMmoz45t4QmcIgPHog5ikPQOBJTJ-2HplzxmX~yf~PyJ02~cUmRAUIHXIHM1ZBnc1wbAxyrh4-nJRLsdKQ3UbSAoAJBCsYO76rUoYN9~lMI2urotd~BGtqwhIPTfNuanSTKJMSF1-yydOVfE7jd8swSMxwvOOLB3CQOimzEIF7~h3-REYn6NFRWD6ppAeBmXsTc0atsZOvnzKaP~jtdGdAekulw6lFs--zolJH8PsmhE2xPPdlttEJUCiWHX0yVm~xNVTiqG6EH6gJvDKItz5URzflYPxQ0XtFYIuFER1A__&Key-Pair-Id=APKAIE5G5CRDK6RD3PGA\n",
    "sigma = .48\n",
    "mu = 1.621\n",
    "\n",
    "s = sigma\n",
    "scale = np.exp(mu)"
   ]
  },
  {
   "cell_type": "code",
   "execution_count": 32,
   "metadata": {},
   "outputs": [
    {
     "data": {
      "image/png": "[encoded data removed]",
      "text/plain": [
       "<Figure size 432x288 with 1 Axes>"
      ]
     },
     "metadata": {
      "needs_background": "light"
     },
     "output_type": "display_data"
    }
   ],
   "source": [
    "from scipy.stats import lognorm\n",
    "import matplotlib.pyplot as plt\n",
    "fig, ax = plt.subplots(1, 1)\n",
    "\n",
    "x = np.linspace(lognorm.ppf(0.01, s=s, scale=scale),\n",
    "                lognorm.ppf(0.99, s=s, scale=scale), 100)\n",
    "ax.plot(x, lognorm.pdf(x, s=s,scale=scale),\n",
    "       'r-', lw=5, alpha=0.6, label='lognorm pdf');"
   ]
  },
  {
   "cell_type": "code",
   "execution_count": 40,
   "metadata": {},
   "outputs": [
    {
     "data": {
      "text/plain": [
       "array([ 1,  2,  3,  4,  5,  6,  7,  8,  9, 10, 11, 12, 13, 14])"
      ]
     },
     "execution_count": 40,
     "metadata": {},
     "output_type": "execute_result"
    }
   ],
   "source": [
    "x"
   ]
  },
  {
   "cell_type": "code",
   "execution_count": 35,
   "metadata": {},
   "outputs": [
    {
     "data": {
      "text/plain": [
       "array([0.00277442, 0.0641576 , 0.15323409, 0.1843702 , 0.16617773,\n",
       "       0.13002774, 0.09442271, 0.06584143, 0.04492524, 0.0303272 ,\n",
       "       0.02039048, 0.01371142, 0.00924567, 0.00626205])"
      ]
     },
     "execution_count": 35,
     "metadata": {},
     "output_type": "execute_result"
    }
   ],
   "source": [
    "x = np.array(range(1,15))\n",
    "lognorm.pdf(x, s=s,scale=scale)"
   ]
  },
  {
   "cell_type": "code",
   "execution_count": 38,
   "metadata": {},
   "outputs": [
    {
     "data": {
      "text/plain": [
       "(0.002774415240139254, 0.1843701994144768)"
      ]
     },
     "execution_count": 38,
     "metadata": {},
     "output_type": "execute_result"
    }
   ],
   "source": [
    "lognorm.pdf(x, s=s,scale=scale).min(),lognorm.pdf(x, s=s,scale=scale).max(),"
   ]
  },
  {
   "cell_type": "code",
   "execution_count": 36,
   "metadata": {},
   "outputs": [
    {
     "data": {
      "text/plain": [
       "array([3.66294258e-04, 2.66164539e-02, 1.38229639e-01, 3.12431439e-01,\n",
       "       4.90391334e-01, 6.38985688e-01, 7.50764075e-01, 8.30233034e-01,\n",
       "       8.85021158e-01, 9.22191639e-01, 9.47225982e-01, 9.64054324e-01,\n",
       "       9.75383088e-01, 9.83037111e-01])"
      ]
     },
     "execution_count": 36,
     "metadata": {},
     "output_type": "execute_result"
    }
   ],
   "source": [
    "lognorm.cdf(x, s=s,scale=scale)"
   ]
  },
  {
   "cell_type": "code",
   "execution_count": 33,
   "metadata": {},
   "outputs": [
    {
     "data": {
      "image/png": "[encoded data removed]",
      "text/plain": [
       "<Figure size 432x288 with 1 Axes>"
      ]
     },
     "metadata": {
      "needs_background": "light"
     },
     "output_type": "display_data"
    }
   ],
   "source": [
    "from scipy.stats import lognorm\n",
    "import matplotlib.pyplot as plt\n",
    "fig, ax = plt.subplots(1, 1)\n",
    "\n",
    "x = np.linspace(lognorm.ppf(0.01, s=s, scale=scale),\n",
    "                lognorm.ppf(0.99, s=s, scale=scale), 100)\n",
    "ax.plot(x, lognorm.cdf(x, s=s,scale=scale),\n",
    "       'r-', lw=5, alpha=0.6, label='lognorm pdf');"
   ]
  },
  {
   "cell_type": "code",
   "execution_count": 17,
   "metadata": {},
   "outputs": [],
   "source": [
    "mean, var, skew, kurt = lognorm.stats(s=s,scale=scale, moments='mvsk')"
   ]
  },
  {
   "cell_type": "code",
   "execution_count": 18,
   "metadata": {},
   "outputs": [
    {
     "data": {
      "text/plain": [
       "(array(1.78577291),\n",
       " array(40.95001089),\n",
       " array(56.76564465),\n",
       " array(42573.12348645))"
      ]
     },
     "execution_count": 18,
     "metadata": {},
     "output_type": "execute_result"
    }
   ],
   "source": [
    "mean, var, skew, kurt"
   ]
  },
  {
   "cell_type": "code",
   "execution_count": 7,
   "metadata": {},
   "outputs": [
    {
     "ename": "NameError",
     "evalue": "name 'x' is not defined",
     "output_type": "error",
     "traceback": [
      "\u001b[1;31m---------------------------------------------------------------------------\u001b[0m",
      "\u001b[1;31mNameError\u001b[0m                                 Traceback (most recent call last)",
      "\u001b[1;32m<ipython-input-7-faf1f8b795ac>\u001b[0m in \u001b[0;36m<module>\u001b[1;34m\u001b[0m\n\u001b[0;32m      1\u001b[0m \u001b[0mrv\u001b[0m \u001b[1;33m=\u001b[0m \u001b[0mlognorm\u001b[0m\u001b[1;33m(\u001b[0m\u001b[0ms\u001b[0m\u001b[1;33m)\u001b[0m\u001b[1;33m\u001b[0m\u001b[1;33m\u001b[0m\u001b[0m\n\u001b[1;32m----> 2\u001b[1;33m \u001b[0max\u001b[0m\u001b[1;33m.\u001b[0m\u001b[0mplot\u001b[0m\u001b[1;33m(\u001b[0m\u001b[0mx\u001b[0m\u001b[1;33m,\u001b[0m \u001b[0mrv\u001b[0m\u001b[1;33m.\u001b[0m\u001b[0mpdf\u001b[0m\u001b[1;33m(\u001b[0m\u001b[0mx\u001b[0m\u001b[1;33m)\u001b[0m\u001b[1;33m,\u001b[0m \u001b[1;34m'k-'\u001b[0m\u001b[1;33m,\u001b[0m \u001b[0mlw\u001b[0m\u001b[1;33m=\u001b[0m\u001b[1;36m2\u001b[0m\u001b[1;33m,\u001b[0m \u001b[0mlabel\u001b[0m\u001b[1;33m=\u001b[0m\u001b[1;34m'frozen pdf'\u001b[0m\u001b[1;33m)\u001b[0m\u001b[1;33m\u001b[0m\u001b[1;33m\u001b[0m\u001b[0m\n\u001b[0m",
      "\u001b[1;31mNameError\u001b[0m: name 'x' is not defined"
     ]
    }
   ],
   "source": [
    "rv = lognorm(s)\n",
    "ax.plot(x, rv.pdf(x), 'k-', lw=2, label='frozen pdf')"
   ]
  },
  {
   "cell_type": "code",
   "execution_count": 5,
   "metadata": {},
   "outputs": [
    {
     "ename": "NameError",
     "evalue": "name 's' is not defined",
     "output_type": "error",
     "traceback": [
      "\u001b[1;31m---------------------------------------------------------------------------\u001b[0m",
      "\u001b[1;31mNameError\u001b[0m                                 Traceback (most recent call last)",
      "\u001b[1;32m<ipython-input-5-9791ec40c065>\u001b[0m in \u001b[0;36m<module>\u001b[1;34m\u001b[0m\n\u001b[1;32m----> 1\u001b[1;33m x = np.linspace(lognorm.ppf(0.01, s),\n\u001b[0m\u001b[0;32m      2\u001b[0m                 lognorm.ppf(0.99, s), 100)\n\u001b[0;32m      3\u001b[0m ax.plot(x, lognorm.pdf(x, s),\n\u001b[0;32m      4\u001b[0m        'r-', lw=5, alpha=0.6, label='lognorm pdf')\n",
      "\u001b[1;31mNameError\u001b[0m: name 's' is not defined"
     ]
    }
   ],
   "source": [
    "x = np.linspace(lognorm.ppf(0.01, s),\n",
    "                lognorm.ppf(0.99, s), 100)\n",
    "ax.plot(x, lognorm.pdf(x, s),\n",
    "       'r-', lw=5, alpha=0.6, label='lognorm pdf')"
   ]
  },
  {
   "cell_type": "code",
   "execution_count": null,
   "metadata": {},
   "outputs": [],
   "source": []
  },
  {
   "cell_type": "code",
   "execution_count": null,
   "metadata": {},
   "outputs": [],
   "source": []
  }
 ],
 "metadata": {
  "kernelspec": {
   "display_name": "Python [conda env:BES_analysis] *",
   "language": "python",
   "name": "conda-env-BES_analysis-py"
  },
  "language_info": {
   "codemirror_mode": {
    "name": "ipython",
    "version": 3
   },
   "file_extension": ".py",
   "mimetype": "text/x-python",
   "name": "python",
   "nbconvert_exporter": "python",
   "pygments_lexer": "ipython3",
   "version": "3.7.6"
  }
 },
 "nbformat": 4,
 "nbformat_minor": 4
}
