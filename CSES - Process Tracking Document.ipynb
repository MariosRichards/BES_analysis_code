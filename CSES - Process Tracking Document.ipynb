{
 "cells": [
  {
   "cell_type": "code",
   "execution_count": null,
   "metadata": {},
   "outputs": [],
   "source": []
  },
  {
   "cell_type": "code",
   "execution_count": null,
   "metadata": {},
   "outputs": [],
   "source": [
    "# CSES datasets\n",
    "\n",
    "# CSES_1, CSES_2, CSES_3, CSES_4, CSES_5, CSES_IMD\n",
    "\n",
    "# CSES_1, CSES_2, CSES_3, CSES_4 => CSES_IMD (significant harmonisation, only ~ half variables taken)\n",
    "\n",
    "# CSES_5 often follows IMD style harmonisation, but not always\n",
    "\n",
    "\n",
    "\n",
    "# Structurally decompose into\n",
    "\n",
    "# Dataset level columns - one value for entire dataset (doi/version/dataset name)\n",
    "    # Arguably could also include \"source\" values (e.g. base modules in IMD dataset)\n",
    "    \n",
    "# Country level columns - one value per Country x Year combination\n",
    "    # Note - two election studies duplicate Country x Year (Germany and Belgium) - both are redundant in this instance\n",
    "    # Some variables here you could arguably shift to dataset level\n",
    "    \n",
    "# Party level columns - one value per Country x Year combination\n",
    "    # Note - the extra (mail-in) Germany study is redundant, but the two Belgian studies are not (because diff parties in Flanders/Walloon)\n",
    "    \n",
    "# Respondent level columns - one value per Respondent x Study (Country x Year - almost unique!)\n",
    "    # links to parties (opinions about up to 9 parties in a polity)\n",
    "\n",
    "\n",
    "\n"
   ]
  },
  {
   "cell_type": "code",
   "execution_count": null,
   "metadata": {},
   "outputs": [],
   "source": [
    "# How to eat the CSES elephant?\n",
    "\n",
    "# (1) We've attempted to build a transform direct from modules 1-4 to CSES_imd\n",
    "# That hit the brick wall of just too many election-study level specific manual modifications to fully automate\n",
    "# But we did achieve partial automation which should help with CSES_5\n",
    "\n",
    "# (2) We've got a proper breakdown of all the matching CSES_5 to IMD variables\n",
    "# And a reasonable start on harmonising\n",
    "# We should append the dataset today (TUESDAY 20) so the bugs can start falling out\n",
    "\n",
    "# (3) We can automate most of the numerical processing of variables\n",
    "# We need of manifest of which base variable created which numerical variable\n",
    "# We'll have a consistent approach to \"non-response\" variables (retain a categorical variable with original \"non-response\" categories and nans for response)\n",
    "# We should be able to process variables automatically knowing only whether they are\n",
    "# - categorical => dummy all categories (bother dropping the largest category already/do later?)\n",
    "# - ordinal => assumes all 'response' categories form a meaningful order\n",
    "# - nominal => values can turned directly into floats\n",
    "# So we need to built a list of variable types (nice mindless-ish task)\n",
    "\n",
    "# (4) We should take a look at the variabes that *didn't* make the cut in each of the non-IMD modules\n",
    "# - includes variables require a lot of harmonising (e.g. religion from \"many categories\" down to just a few)\n",
    "\n",
    "\n"
   ]
  },
  {
   "cell_type": "code",
   "execution_count": null,
   "metadata": {},
   "outputs": [],
   "source": [
    "# Goal\n",
    "# - absorb entire dataset\n",
    "# - process into numerically tractable form that allows it to be married against (and merged with party level dataset)\n",
    "# - do basic analysis/visualisations to show that the data ready to be worked with\n",
    "\n",
    "# Analysis\n",
    "# - Factor Analysis of Voter and Party level datasets, naturally\n",
    "# - Manually looking at variables of interest, doing a scatter plot between then\n",
    "\n",
    "# - I *really* want to try cross-decomposition on each dataset, indexed on party x year\n"
   ]
  },
  {
   "cell_type": "code",
   "execution_count": null,
   "metadata": {},
   "outputs": [],
   "source": []
  },
  {
   "cell_type": "code",
   "execution_count": null,
   "metadata": {},
   "outputs": [],
   "source": []
  },
  {
   "cell_type": "code",
   "execution_count": null,
   "metadata": {},
   "outputs": [],
   "source": []
  },
  {
   "cell_type": "code",
   "execution_count": null,
   "metadata": {},
   "outputs": [],
   "source": []
  }
 ],
 "metadata": {
  "kernelspec": {
   "display_name": "Python [conda env:BES_analysis] *",
   "language": "python",
   "name": "conda-env-BES_analysis-py"
  },
  "language_info": {
   "codemirror_mode": {
    "name": "ipython",
    "version": 3
   },
   "file_extension": ".py",
   "mimetype": "text/x-python",
   "name": "python",
   "nbconvert_exporter": "python",
   "pygments_lexer": "ipython3",
   "version": "3.7.6"
  }
 },
 "nbformat": 4,
 "nbformat_minor": 4
}
