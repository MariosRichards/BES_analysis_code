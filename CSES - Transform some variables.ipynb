{
 "cells": [
  {
   "cell_type": "code",
   "execution_count": 3,
   "metadata": {},
   "outputs": [
    {
     "data": {
      "text/html": [
       "<script>jQuery(function() {if (jQuery(\"body.notebook_app\").length == 0) { jQuery(\".input_area\").toggle(); jQuery(\".prompt\").toggle();}});</script>"
      ]
     },
     "metadata": {},
     "output_type": "display_data"
    },
    {
     "data": {
      "text/html": [
       "<button onclick=\"jQuery('.input_area').toggle(); jQuery('.prompt').toggle();\">Toggle code</button>"
      ]
     },
     "metadata": {},
     "output_type": "display_data"
    },
    {
     "name": "stdout",
     "output_type": "stream",
     "text": [
      "Wall time: 9 ms\n"
     ]
    }
   ],
   "source": [
    "%%time\n",
    "%matplotlib inline\n",
    "%run Prosser_header.py {dataset_name} {df_list}\n"
   ]
  },
  {
   "cell_type": "code",
   "execution_count": 4,
   "metadata": {},
   "outputs": [],
   "source": [
    "dataset_folder = \"C:\\\\Users\\\\Marios\\\\Documents\\\\GitHub\\\\Thomas Prosser project\\\\datasets\\\\\"\n",
    "output_folder = \"C:\\\\Users\\\\Marios\\\\Documents\\\\GitHub\\\\Thomas Prosser project\\\\output\\\\\""
   ]
  },
  {
   "cell_type": "code",
   "execution_count": 5,
   "metadata": {},
   "outputs": [],
   "source": [
    "CSES_int = pd.read_stata(dataset_folder + \"CSES\"+os.sep+\"integrated 1-4\"+os.sep+\"cses_imd.dta\")\n",
    "\n",
    "def get_dta_meta(fn):\n",
    "    reader = pd.io.stata.StataReader( fn )\n",
    "    header = reader.variable_labels()\n",
    "    labels = reader.value_labels()\n",
    "    return header,labels\n",
    "\n",
    "# pd.read_stata(dataset_folder + \"CSES\"+os.sep+\"module 5\"+os.sep+\"cses5.dta\")\n",
    "header5,labels5 = get_dta_meta(dataset_folder + \"CSES\"+os.sep+\"module 5\"+os.sep+\"cses5.dta\")\n",
    "header4,labels4 = get_dta_meta(dataset_folder + \"CSES\"+os.sep+\"module 4\"+os.sep+\"cses4.dta\")\n",
    "header3,labels3 = get_dta_meta(dataset_folder + \"CSES\"+os.sep+\"module 3\"+os.sep+\"cses3.dta\")\n",
    "header2,labels2 = get_dta_meta(dataset_folder + \"CSES\"+os.sep+\"module 2\"+os.sep+\"cses2.dta\")\n",
    "header1,labels1 = get_dta_meta(dataset_folder + \"CSES\"+os.sep+\"module 1\"+os.sep+\"cses1.dta\")\n",
    "headerINT,labelsINT = get_dta_meta(dataset_folder + \"CSES\"+os.sep+\"integrated 1-4\"+os.sep+\"cses_imd.dta\")"
   ]
  },
  {
   "cell_type": "code",
   "execution_count": 6,
   "metadata": {},
   "outputs": [],
   "source": [
    "### WEIGHTS\n",
    "\n",
    "#  | Sample weights include those intended to correct for unequal\n",
    "#  | selection probabilities resulting from \"booster\" samples,\n",
    "#  | procedures for selection within the household, non-response,\n",
    "#  | as well as other features of the sample design.\n",
    "#  |\n",
    "#  | Demographic weights adjust sample distributions of socio-\n",
    "#  | demographic characteristics to more closely resemble the\n",
    "#  | characteristics of the population.\n",
    "#  |\n",
    "#  | Political weights reconcile discrepancies in the reported\n",
    "#  | electoral behavior of the survey respondents from the\n",
    "#  | official vote counts.\n",
    "\n",
    "# they don't advise combining weights (I'm not 100% clear why)\n",
    "\n",
    "# but you will need to standardise the weights\n",
    "# - within election studies (already done for IMD weights)\n",
    "# - between election studies to equalise their effective sample size\n",
    "\n",
    "sample_size_per_ES = CSES_int[\"IMD1010_1\"].groupby(CSES_int[\"IMD1003\"]).sum()\n",
    "sample_weights_ssadj = CSES_int[\"IMD1010_1\"].values/sample_size_per_ES.loc[CSES_int[\"IMD1003\"]].values\n",
    "\n",
    "sample_size_per_ES = CSES_int[\"IMD1010_2\"].groupby(CSES_int[\"IMD1003\"]).sum()\n",
    "demographic_weights_ssadj = CSES_int[\"IMD1010_2\"].values/sample_size_per_ES.loc[CSES_int[\"IMD1003\"]].values\n",
    "\n",
    "sample_size_per_ES = CSES_int[\"IMD1010_3\"].groupby(CSES_int[\"IMD1003\"]).sum()\n",
    "political_weights_ssadj = CSES_int[\"IMD1010_3\"].values/sample_size_per_ES.loc[CSES_int[\"IMD1003\"]].values"
   ]
  },
  {
   "cell_type": "code",
   "execution_count": 8,
   "metadata": {},
   "outputs": [],
   "source": [
    "df = pd.DataFrame()"
   ]
  },
  {
   "cell_type": "code",
   "execution_count": 9,
   "metadata": {},
   "outputs": [],
   "source": [
    "### HOUSEHOLD INCOME\n",
    "\n",
    "imd_var = \"IMD2006\"\n",
    "\n",
    "# CSES_int[imd_var].cat.categories\n",
    "# check to see if ordinal/categorical\n",
    "\n",
    "\n",
    "non_response_cats = ['6. [SEE ELECTION STUDY NOTES]', '7. VOLUNTEERED: REFUSED', \"8. VOLUNTEERED: DON'T KNOW\", '9. MISSING']\n",
    "\n",
    "df[imd_var+\"_nr\"] = CSES_int[imd_var].apply(lambda x: x if x in non_response_cats else np.nan)\n",
    "top_cat = CSES_int[imd_var].cat.remove_categories(non_response_cats).cat.categories[-1]\n",
    "df[imd_var+\"__\"+top_cat] = CSES_int[imd_var].cat.remove_categories(non_response_cats).cat.codes.replace(-1,np.nan)"
   ]
  },
  {
   "cell_type": "code",
   "execution_count": 187,
   "metadata": {},
   "outputs": [],
   "source": [
    "## AGE: Categorical\n",
    "\n",
    "# 4000 non-responses\n",
    "\n",
    "# categorical -> dummies\n",
    "\n",
    "imd_var = \"IMD2001_2\"\n",
    "\n",
    "non_response_cats = ['9997. REFUSED', \"9998. DON'T KNOW\",'9999. MISSING']\n",
    "replace_dict = dict(zip(non_response_cats,[np.nan]*len(non_response_cats)))\n",
    "\n",
    "df[imd_var+\"_nr\"] = CSES_int[imd_var].apply(lambda x: x if x in non_response_cats else np.nan)\n",
    "temp = pd.get_dummies(CSES_int[imd_var].cat.remove_categories(non_response_cats),prefix=imd_var)\n",
    "df[temp.columns] = temp\n"
   ]
  },
  {
   "cell_type": "code",
   "execution_count": null,
   "metadata": {},
   "outputs": [],
   "source": [
    "## AGE: Numerical\n",
    "\n",
    "imd_var = \"IMD2001_1\"\n",
    "# 6000 non-responses\n",
    "\n",
    "non_response_cats = ['9997. REFUSED', \"9998. DON'T KNOW\",'9999. MISSING']\n",
    "replace_dict = dict(zip(non_response_cats,[np.nan]*len(non_response_cats)))\n",
    "\n",
    "df[imd_var+\"_nr\"] = CSES_int[imd_var].apply(lambda x: x if x in non_response_cats else np.nan)\n",
    "top_cat = CSES_int[imd_var].cat.remove_categories(non_response_cats).cat.categories[-1]\n",
    "df[imd_var+\"__\"+str(top_cat)] = CSES_int[imd_var].replace(replace_dict).astype(float)"
   ]
  },
  {
   "cell_type": "code",
   "execution_count": 191,
   "metadata": {},
   "outputs": [],
   "source": [
    "## Gender\n",
    "\n",
    "imd_var = \"IMD2002\"\n",
    "CSES_int[imd_var].cat.categories\n",
    "\n",
    "non_response_cats = ['3. [SEE ELECTION STUDY NOTES]', '7. REFUSED', '9. MISSING']\n",
    "replace_dict = dict(zip(non_response_cats,[np.nan]*len(non_response_cats)))\n",
    "\n",
    "## could work this different for two-valued variables ...\n",
    "\n",
    "df[imd_var+\"_nr\"] = CSES_int[imd_var].apply(lambda x: x if x in non_response_cats else np.nan)\n",
    "temp = pd.get_dummies(CSES_int[imd_var].cat.remove_categories(non_response_cats),prefix=imd_var)\n",
    "df[temp.columns] = temp"
   ]
  },
  {
   "cell_type": "code",
   "execution_count": 194,
   "metadata": {},
   "outputs": [],
   "source": [
    "## EDUCATION\n",
    "\n",
    "# Reasonable question whether this is ordinal/categorical\n",
    "\n",
    "imd_var = \"IMD2003\"\n",
    "CSES_int[imd_var].cat.categories\n",
    "\n",
    "non_response_cats = ['6. OTHER', '7. VOLUNTEERED: REFUSED', \"8. VOLUNTEERED: DON'T KNOW\", '9. MISSING']\n",
    "\n",
    "replace_dict = dict(zip(non_response_cats,[np.nan]*len(non_response_cats)))\n",
    "\n",
    "df[imd_var+\"_nr\"] = CSES_int[imd_var].apply(lambda x: x if x in non_response_cats else np.nan)\n",
    "temp = pd.get_dummies(CSES_int[imd_var].cat.remove_categories(non_response_cats),prefix=imd_var)\n",
    "df[temp.columns] = temp"
   ]
  },
  {
   "cell_type": "code",
   "execution_count": null,
   "metadata": {},
   "outputs": [],
   "source": [
    "    IMD2001_1    >>>         AGE OF RESPONDENT (IN YEARS)\n",
    "    IMD2001_2    >>>         AGE OF RESPONDENT (IN CATEGORIES)\n",
    "    IMD2002      >>>         GENDER\n",
    "    IMD2003      >>>         EDUCATION\n",
    "    IMD2004      >>>         MARITAL STATUS\n",
    "    IMD2005      >>>         RELIGIOUS DENOMINATION \n",
    "    IMD2006      >>>         HOUSEHOLD INCOME\n",
    "    IMD2007      >>>         RURAL OR URBAN RESIDENCE"
   ]
  },
  {
   "cell_type": "code",
   "execution_count": 196,
   "metadata": {},
   "outputs": [],
   "source": [
    "## MARITAL STATUS\n",
    "\n",
    "imd_var = \"IMD2004\"\n",
    "CSES_int[imd_var].cat.categories\n",
    "\n",
    "non_response_cats = ['5. [SEE ELECTION STUDY NOTES]','7. VOLUNTEERED: REFUSED', \"8. VOLUNTEERED: DON'T KNOW\", '9. MISSING']\n",
    "\n",
    "replace_dict = dict(zip(non_response_cats,[np.nan]*len(non_response_cats)))\n",
    "\n",
    "df[imd_var+\"_nr\"] = CSES_int[imd_var].apply(lambda x: x if x in non_response_cats else np.nan)\n",
    "temp = pd.get_dummies(CSES_int[imd_var].cat.remove_categories(non_response_cats),prefix=imd_var)\n",
    "df[temp.columns] = temp"
   ]
  },
  {
   "cell_type": "code",
   "execution_count": 198,
   "metadata": {},
   "outputs": [],
   "source": [
    "## RELIGIOUS DENOMINATION \n",
    "\n",
    "imd_var = \"IMD2005\"\n",
    "CSES_int[imd_var].cat.categories\n",
    "\n",
    "non_response_cats = ['97. VOLUNTEERED: REFUSED', \"98. VOLUNTEERED: DON'T KNOW\",'99. MISSING']\n",
    "\n",
    "replace_dict = dict(zip(non_response_cats,[np.nan]*len(non_response_cats)))\n",
    "\n",
    "df[imd_var+\"_nr\"] = CSES_int[imd_var].apply(lambda x: x if x in non_response_cats else np.nan)\n",
    "temp = pd.get_dummies(CSES_int[imd_var].cat.remove_categories(non_response_cats),prefix=imd_var)\n",
    "df[temp.columns] = temp"
   ]
  },
  {
   "cell_type": "code",
   "execution_count": 202,
   "metadata": {},
   "outputs": [],
   "source": [
    "## RURAL OR URBAN\n",
    "\n",
    "imd_var = \"IMD2007\"\n",
    "CSES_int[imd_var].cat.categories\n",
    "\n",
    "non_response_cats = [ '7. VOLUNTEERED: REFUSED', \"8. VOLUNTEERED: DON'T KNOW\", '9. MISSING']\n",
    "\n",
    "replace_dict = dict(zip(non_response_cats,[np.nan]*len(non_response_cats)))\n",
    "\n",
    "df[imd_var+\"_nr\"] = CSES_int[imd_var].apply(lambda x: x if x in non_response_cats else np.nan)\n",
    "temp = pd.get_dummies(CSES_int[imd_var].cat.remove_categories(non_response_cats),prefix=imd_var)\n",
    "df[temp.columns] = temp"
   ]
  },
  {
   "cell_type": "code",
   "execution_count": null,
   "metadata": {},
   "outputs": [],
   "source": []
  },
  {
   "cell_type": "code",
   "execution_count": null,
   "metadata": {},
   "outputs": [],
   "source": []
  },
  {
   "cell_type": "code",
   "execution_count": 30,
   "metadata": {},
   "outputs": [],
   "source": [
    "cses_ids_to_pf = pd.read_csv(dataset_folder + \"CSES\"+os.sep+\"Integration\"+os.sep+\"cses_ids_to_pf.csv\")\n",
    "cses_ids_to_pf = cses_ids_to_pf.set_index(\"Unnamed: 0\")[\"0\"]\n",
    "cses_ids_to_pf = cses_ids_to_pf.dropna()"
   ]
  },
  {
   "cell_type": "code",
   "execution_count": 12,
   "metadata": {},
   "outputs": [],
   "source": [
    "CSES_int[\"IMD3005_3\"].value_counts()\n",
    "# 9999999. MISSING                                           120168\n",
    "# 9999997. VOLUNTEERED: REFUSED                                       1840\n",
    "# 9999992. OTHER CANDIDATE/PARTY (NOT FURTHER SPECIFIED)              1380\n",
    "# 9999998. VOLUNTEERED: DON'T KNOW                                    1304\n",
    "# 9999988. NONE OF THE CANDIDATES PARTIES                              517\n",
    "# 9999990. OTHER LEFT WING CANDIDATE/PARTY                                   67\n",
    "# 9999991. OTHER RIGHT WING CANDIDATE/PARTY                                  36\n",
    "# 9999989. INDEPENDENT CANDIDATE                                             34\n",
    "\n",
    "\n",
    "\n",
    "missing_dict = {9999999:np.nan,\n",
    "                9999997:np.nan,\n",
    "                9999992:np.nan,\n",
    "                9999998:np.nan,\n",
    "                9999988:np.nan,\n",
    "                9999990:np.nan,\n",
    "                9999991:np.nan,\n",
    "                9999989:np.nan,\n",
    "               }\n",
    "\n",
    "\n",
    "party_ident = CSES_int[\"IMD3005_3\"].apply(lambda x: int(x[0:7])).replace(missing_dict)\n"
   ]
  },
  {
   "cell_type": "code",
   "execution_count": 33,
   "metadata": {},
   "outputs": [
    {
     "name": "stdout",
     "output_type": "stream",
     "text": [
      "Wall time: 8.4 s\n"
     ]
    }
   ],
   "source": [
    "%%time\n",
    "pf_party_ident = party_ident.apply(lambda x: cses_ids_to_pf.loc[x] if pd.notnull(x) and (x in cses_ids_to_pf.index) else np.nan)"
   ]
  },
  {
   "cell_type": "code",
   "execution_count": 35,
   "metadata": {},
   "outputs": [
    {
     "data": {
      "text/plain": [
       "1998.0    3547\n",
       "432.0     3371\n",
       "424.0     3293\n",
       "1824.0    2775\n",
       "1474.0    2773\n",
       "          ... \n",
       "7028.0       1\n",
       "7005.0       1\n",
       "7004.0       1\n",
       "7024.0       1\n",
       "4410.0       1\n",
       "Name: IMD3005_3, Length: 628, dtype: int64"
      ]
     },
     "execution_count": 35,
     "metadata": {},
     "output_type": "execute_result"
    }
   ],
   "source": [
    "pf_party_ident.value_counts()"
   ]
  },
  {
   "cell_type": "code",
   "execution_count": null,
   "metadata": {},
   "outputs": [],
   "source": []
  },
  {
   "cell_type": "code",
   "execution_count": 39,
   "metadata": {},
   "outputs": [
    {
     "data": {
      "text/plain": [
       "128831"
      ]
     },
     "execution_count": 39,
     "metadata": {},
     "output_type": "execute_result"
    }
   ],
   "source": [
    "mask = df[imd_var+\"__\"+top_cat].notnull() & pf_party_ident.notnull()\n",
    "mask.sum()"
   ]
  },
  {
   "cell_type": "code",
   "execution_count": 38,
   "metadata": {},
   "outputs": [
    {
     "data": {
      "text/plain": [
       "(281083,)"
      ]
     },
     "execution_count": 38,
     "metadata": {},
     "output_type": "execute_result"
    }
   ],
   "source": [
    "demographic_weights_ssadj.shape"
   ]
  },
  {
   "cell_type": "code",
   "execution_count": 44,
   "metadata": {},
   "outputs": [],
   "source": [
    "party_id_cses = CSES_int[\"IMD3005_3\"][mask].cat.remove_unused_categories()"
   ]
  },
  {
   "cell_type": "code",
   "execution_count": 46,
   "metadata": {},
   "outputs": [
    {
     "data": {
      "text/plain": [
       "IMD3005_3\n",
       "6080080. PHL - Abang Lingkod, Inc.                       0.0\n",
       "6080038. PHL - Anakpawis                                 0.0\n",
       "6040033. PER - Project Country                           0.0\n",
       "7640008. THA - Motherland Party (Phak Matunhum Party)    0.5\n",
       "4840016. MEX - Cardenista Party                          0.5\n",
       "                                                        ... \n",
       "6080052. PHL - Cooperative NATCCO Party                  4.0\n",
       "0080031. ALB - Agrarian Party                            4.0\n",
       "0760012. BRA - Solidarity                                4.0\n",
       "7100007. ZAF - Freedom Front Plus                        4.0\n",
       "0560002. BEL - Socialist Party (Francophone)             4.0\n",
       "Name: IMD2006__5. HIGHEST HOUSEHOLD INCOME QUINTILE, Length: 634, dtype: float64"
      ]
     },
     "execution_count": 46,
     "metadata": {},
     "output_type": "execute_result"
    }
   ],
   "source": [
    "df[imd_var+\"__\"+top_cat][mask].groupby(party_id_cses[mask]).mean().sort_values()"
   ]
  },
  {
   "cell_type": "code",
   "execution_count": 48,
   "metadata": {},
   "outputs": [],
   "source": [
    "sample_size_mask = df[imd_var+\"__\"+top_cat][mask].groupby(party_id_cses[mask]).count()>100"
   ]
  },
  {
   "cell_type": "code",
   "execution_count": 50,
   "metadata": {},
   "outputs": [
    {
     "data": {
      "text/plain": [
       "225"
      ]
     },
     "execution_count": 50,
     "metadata": {},
     "output_type": "execute_result"
    }
   ],
   "source": [
    "sample_size_mask.sum()"
   ]
  },
  {
   "cell_type": "code",
   "execution_count": 54,
   "metadata": {},
   "outputs": [
    {
     "data": {
      "text/plain": [
       "IMD3005_3\n",
       "2030005. CZE - Green Party                                                 2.233083\n",
       "7050001. SVN - Slovenian Democratic Party                                  2.251656\n",
       "2080006. DNK - Danish Social Liberal Party                                 2.254717\n",
       "7920002. TUR - Republican People's Party                                   2.256338\n",
       "0560004. BEL - Flemish Liberals and Democrats                              2.268116\n",
       "2080007. DNK - Conservative People's Party                                 2.272727\n",
       "3520001. ISL - Independence Party                                          2.285135\n",
       "2760006. DEU - Free Democratic Party                                       2.295322\n",
       "1580003. TWN - People First Party                                          2.296392\n",
       "3760004. ISR - Energy                                                      2.309211\n",
       "7520003. SWE - Liberal People's Party                                      2.321070\n",
       "1240006. CAN - Progressive Conservative                                    2.333333\n",
       "4280003. LVA - National Union All for Latvia For Fatherland and Freedom    2.336364\n",
       "4280002. LVA - Unity                                                       2.342857\n",
       "2460008. FIN - Swedish People's Party in Finland                           2.360465\n",
       "7520002. SWE - Moderate Party                                              2.365819\n",
       "5540001. NZL - National Party                                              2.369672\n",
       "7050002. SVN - Social Democrats                                            2.391304\n",
       "7050004. SVN - Liberal Democracy of Slovenia                               2.392593\n",
       "0560018. BEL - Live Differently - Flemish Ecologists                       2.394531\n",
       "2760003. DEU - Christian Social Union in Bavaria                           2.402655\n",
       "0760017. BRA - Green Party                                                 2.408333\n",
       "7920003. TUR - Nationalist Action Party                                    2.411043\n",
       "7560024. CHE - Radical Democratic Party                                    2.411232\n",
       "0080001. ALB - Socialist Party                                             2.416309\n",
       "0760002. BRA - Brazilian Social Dmeocratic Party                           2.420755\n",
       "2030002. CZE - Civic Democratic Party                                      2.421362\n",
       "5280004. NLD - Democrats 66                                                2.429306\n",
       "3440002. HKG - Civic Party                                                 2.429907\n",
       "6160001. POL - Civic Platform                                              2.437956\n",
       "6420026. ROU - Justice and Truth Alliance                                  2.447917\n",
       "1580004. TWN - New Party                                                   2.468254\n",
       "5280003. NLD - People's Party for Freedom and Democracy                    2.481961\n",
       "7560021. CHE - Green Liberal Party                                         2.489130\n",
       "6040002. PER - Peruvians for Change                                        2.500000\n",
       "6430008. RUS - Fatherland All Russia                                       2.518248\n",
       "1000034. BGR - United Democratic Forces                                    2.530303\n",
       "8400001. USA - Republican Party                                            2.562891\n",
       "5780002. NOR - Conservative Party                                          2.570255\n",
       "6430004. RUS - Yabloko                                                     2.583732\n",
       "6430043. RUS - Union of Right Forces                                       2.597826\n",
       "6420005. ROU - National Liberal Party                                      2.598485\n",
       "5540004. NZL - Act New Zealand                                             2.666667\n",
       "2460003. FIN - National Coalition Party                                    2.684932\n",
       "1000001. BGR - Citizens for European Development of Bulgaria               2.691781\n",
       "6160008. POL - Freedom Union                                               2.692308\n",
       "2030010. CZE - TOP 09                                                      2.723270\n",
       "6040052. PER - National Unity                                              2.770053\n",
       "2330001. EST - Estonian Reform Party                                       2.837838\n",
       "6040051. PER - Alliance for the Great Change                               2.978723\n",
       "Name: IMD2006__5. HIGHEST HOUSEHOLD INCOME QUINTILE, dtype: float64"
      ]
     },
     "execution_count": 54,
     "metadata": {},
     "output_type": "execute_result"
    }
   ],
   "source": [
    "df[imd_var+\"__\"+top_cat][mask].groupby(party_id_cses[mask]).mean()[sample_size_mask].sort_values().tail(50)\n",
    "# 0-4"
   ]
  },
  {
   "cell_type": "code",
   "execution_count": 53,
   "metadata": {},
   "outputs": [
    {
     "data": {
      "text/plain": [
       "4.0"
      ]
     },
     "execution_count": 53,
     "metadata": {},
     "output_type": "execute_result"
    }
   ],
   "source": [
    "# BUG!\n",
    "# 0760002. BRA - Brazilian Social Dmeocratic Party                           2.420755"
   ]
  },
  {
   "cell_type": "code",
   "execution_count": null,
   "metadata": {},
   "outputs": [],
   "source": [
    "IMD3002_PR_1 >>>         CURRENT PRESIDENTIAL ELECTION: VOTE CHOICE - ROUND 1\n",
    "IMD3002_PR_2 >>>         CURRENT PRESIDENTIAL ELECTION: VOTE CHOICE - ROUND 2\n",
    "IMD3002_LH_PL >>>        CURRENT LOWER HOUSE ELECTION: VOTE CHOICE - PARTY LIST\n",
    "IMD3002_LH_DC >>>        CURRENT LOWER HOUSE ELECTION: VOTE CHOICE - DISTRICT CANDIDATE\n",
    "IMD3002_UH_PL >>>        CURRENT UPPER HOUSE ELECTION: VOTE CHOICE - PARTY LIST\n",
    "IMD3002_UH_DC_1 >>>      CURRENT UPPER HOUSE ELECTION: VOTE CHOICE - DISTRICT CANDIDATE 1\n",
    "IMD3002_UH_DC_2 >>>      CURRENT UPPER HOUSE ELECTION: VOTE CHOICE - DISTRICT CANDIDATE 2\n",
    "IMD3002_UH_DC_3 >>>      CURRENT UPPER HOUSE ELECTION: VOTE CHOICE - DISTRICT CANDIDATE 3\n",
    "IMD3002_UH_DC_4 >>>      CURRENT UPPER HOUSE ELECTION: VOTE CHOICE - DISTRICT CANDIDATE 4\n",
    "IMD3002_OUTGOV  >>>      CURRENT MAIN ELECTION: VOTE CHOICE - OUTGOING GOVERNMENT (INCUMBENT)\n",
    "    \n",
    "IMD3004_PR_1 >>>         PREVIOUS PRESIDENTIAL ELECTION: VOTE CHOICE - ROUND 1\n",
    "IMD3004_PR_2 >>>         PREVIOUS PRESIDENTIAL ELECTION: VOTE CHOICE - ROUND 2\n",
    "IMD3004_LH_PL >>>        PREVIOUS LOWER HOUSE ELECTION: VOTE CHOICE - PARTY LIST\n",
    "IMD3004_LH_DC >>>        PREVIOUS LOWER HOUSE ELECTION: VOTE CHOICE - DISTRICT CANDIDATE\n",
    "IMD3004_UH_PL >>>        PREVIOUS UPPER HOUSE ELECTION: VOTE CHOICE - PARTY LIST\n",
    "IMD3004_UH_DC_1 >>>      PREVIOUS UPPER HOUSE ELECTION: VOTE CHOICE - DISTRICT CANDIDATE 1\n",
    "IMD3004_UH_DC_2 >>>      PREVIOUS UPPER HOUSE ELECTION: VOTE CHOICE - DISTRICT CANDIDATE 2\n",
    "IMD3004_UH_DC_3 >>>      PREVIOUS UPPER HOUSE ELECTION: VOTE CHOICE - DISTRICT CANDIDATE 3"
   ]
  },
  {
   "cell_type": "code",
   "execution_count": 64,
   "metadata": {},
   "outputs": [],
   "source": [
    "cses_vote_vars = [\"IMD3002_PR_1\",\n",
    "\"IMD3002_PR_2\",\n",
    "\"IMD3002_LH_PL\",\n",
    "\"IMD3002_LH_DC\",\n",
    "\"IMD3002_UH_PL\",\n",
    "\"IMD3002_UH_DC_1\",\n",
    "\"IMD3002_UH_DC_2\",\n",
    "\"IMD3002_UH_DC_3\",\n",
    "\"IMD3002_UH_DC_4\",\n",
    "\"IMD3004_PR_1\",\n",
    "\"IMD3004_PR_2\",\n",
    "\"IMD3004_LH_PL\",\n",
    "\"IMD3004_LH_DC\",\n",
    "\"IMD3004_UH_PL\",\n",
    "\"IMD3004_UH_DC_1\",\n",
    "\"IMD3004_UH_DC_2\",\n",
    "\"IMD3004_UH_DC_3\",]"
   ]
  },
  {
   "cell_type": "code",
   "execution_count": 83,
   "metadata": {},
   "outputs": [],
   "source": [
    "missing_values = ['9999988. NONE OF THE CANDIDATES/PARTIES',\n",
    "       '9999989. INDEPENDENT CANDIDATE',\n",
    "       '9999990. OTHER LEFT WING CANDIDATE/PARTY',\n",
    "       '9999991. OTHER RIGHT WING CANDIDATE/PARTY',\n",
    "       '9999992. OTHER CANDIDATE/PARTY (NOT FURTHER SPECIFIED)',\n",
    "       '9999993. INVALID/BLANK BALLOT',\n",
    "       '9999995. NOT APPLICABLE: NO DISTRICT CANDIDATE VOTE',\n",
    "       '9999995. NOT APPLICABLE: NO ROLE OF PRESIDENT',\n",
    "       '9999995. NOT APPLICABLE: NOT A LIST SYSTEM',\n",
    "       '9999995. NOT APPLICABLE: UNICAMERAL SYSTEM',\n",
    "       '9999996. NOT APPLICABLE: NO LOWER HOUSE ELECTION',\n",
    "       '9999996. NOT APPLICABLE: NO PRESIDENTIAL ELECTION',\n",
    "       '9999996. NOT APPLICABLE: NO PRESIDENTIAL ELECTION / NO SECOND ROUND',\n",
    "       '9999996. NOT APPLICABLE: NO UPPER HOUSE ELECTION OR CANDIDATE VOTE',\n",
    "       '9999996. NOT APPLICABLE: NO UPPER HOUSE ELECTION OR LIST VOTE',\n",
    "       '9999997. VOLUNTEERED: REFUSED', \"9999998. VOLUNTEERED: DON'T KNOW\",\n",
    "       '9999999. MISSING/ABSTAINED (DID NOT VOTE)']"
   ]
  },
  {
   "cell_type": "code",
   "execution_count": 66,
   "metadata": {},
   "outputs": [],
   "source": [
    "stacked_vote_vars = CSES_int[cses_vote_vars].stack()"
   ]
  },
  {
   "cell_type": "code",
   "execution_count": 72,
   "metadata": {},
   "outputs": [
    {
     "data": {
      "text/plain": [
       "Index(['8580005. URY - Popular Assembly', '8580006. URY - Civic Union',\n",
       "       '9999988. NONE OF THE CANDIDATES/PARTIES',\n",
       "       '9999989. INDEPENDENT CANDIDATE',\n",
       "       '9999990. OTHER LEFT WING CANDIDATE/PARTY',\n",
       "       '9999991. OTHER RIGHT WING CANDIDATE/PARTY',\n",
       "       '9999992. OTHER CANDIDATE/PARTY (NOT FURTHER SPECIFIED)',\n",
       "       '9999993. INVALID/BLANK BALLOT',\n",
       "       '9999995. NOT APPLICABLE: NO DISTRICT CANDIDATE VOTE',\n",
       "       '9999995. NOT APPLICABLE: NO ROLE OF PRESIDENT',\n",
       "       '9999995. NOT APPLICABLE: NOT A LIST SYSTEM',\n",
       "       '9999995. NOT APPLICABLE: UNICAMERAL SYSTEM',\n",
       "       '9999996. NOT APPLICABLE: NO LOWER HOUSE ELECTION',\n",
       "       '9999996. NOT APPLICABLE: NO PRESIDENTIAL ELECTION',\n",
       "       '9999996. NOT APPLICABLE: NO PRESIDENTIAL ELECTION / NO SECOND ROUND',\n",
       "       '9999996. NOT APPLICABLE: NO UPPER HOUSE ELECTION OR CANDIDATE VOTE',\n",
       "       '9999996. NOT APPLICABLE: NO UPPER HOUSE ELECTION OR LIST VOTE',\n",
       "       '9999997. VOLUNTEERED: REFUSED', '9999998. VOLUNTEERED: DON'T KNOW',\n",
       "       '9999999. MISSING/ABSTAINED (DID NOT VOTE)'],\n",
       "      dtype='object')"
      ]
     },
     "execution_count": 72,
     "metadata": {},
     "output_type": "execute_result"
    }
   ],
   "source": [
    "stacked_vote_vars.value_counts().sort_index().tail(20).index"
   ]
  },
  {
   "cell_type": "code",
   "execution_count": 76,
   "metadata": {},
   "outputs": [
    {
     "data": {
      "text/plain": [
       "IMD3004_UH_DC_3        58\n",
       "IMD3002_UH_DC_4       176\n",
       "IMD3002_UH_DC_3       609\n",
       "IMD3004_UH_DC_2       822\n",
       "IMD3004_UH_PL        1843\n",
       "IMD3002_UH_DC_2      3873\n",
       "IMD3004_UH_DC_1      5700\n",
       "IMD3002_UH_PL        8989\n",
       "IMD3004_PR_2        11766\n",
       "IMD3002_PR_2        16430\n",
       "IMD3002_UH_DC_1     25164\n",
       "IMD3004_PR_1        38302\n",
       "IMD3004_LH_DC       48732\n",
       "IMD3002_PR_1        50059\n",
       "IMD3002_LH_DC       80302\n",
       "IMD3004_LH_PL       82896\n",
       "IMD3002_LH_PL      132594\n",
       "dtype: int64"
      ]
     },
     "execution_count": 76,
     "metadata": {},
     "output_type": "execute_result"
    }
   ],
   "source": [
    "CSES_int[cses_vote_vars].replace( dict(zip(missing_values,[np.nan]*len(missing_values)))).notnull().sum().sort_values()"
   ]
  },
  {
   "cell_type": "code",
   "execution_count": 82,
   "metadata": {},
   "outputs": [],
   "source": [
    "# party_id_cses = CSES_int[\"IMD3005_3\"][mask].cat.remove_unused_categories()"
   ]
  },
  {
   "cell_type": "code",
   "execution_count": null,
   "metadata": {},
   "outputs": [],
   "source": []
  },
  {
   "cell_type": "code",
   "execution_count": null,
   "metadata": {},
   "outputs": [],
   "source": []
  },
  {
   "cell_type": "code",
   "execution_count": null,
   "metadata": {},
   "outputs": [],
   "source": []
  },
  {
   "cell_type": "code",
   "execution_count": null,
   "metadata": {},
   "outputs": [],
   "source": [
    "## Same quick breakdown, but using a different vote variable\n",
    "# IMD3002_LH_PL     highest num non-null values!"
   ]
  },
  {
   "cell_type": "code",
   "execution_count": 91,
   "metadata": {},
   "outputs": [],
   "source": [
    "lower_house_party_list = CSES_int[\"IMD3002_LH_PL\"][mask].replace(dict(zip(missing_values,[np.nan]*len(missing_values))))\n",
    "lower_house_party_list.value_counts()\n",
    "\n",
    "mask = df[imd_var+\"__\"+top_cat].notnull() & lower_house_party_list.notnull()\n",
    "\n",
    "sample_size_mask = df[imd_var+\"__\"+top_cat][mask].groupby(lower_house_party_list[mask]).count()>100"
   ]
  },
  {
   "cell_type": "code",
   "execution_count": 93,
   "metadata": {},
   "outputs": [
    {
     "data": {
      "text/plain": [
       "IMD3002_LH_PL\n",
       "6160001. POL - Civic Platform                                   2.561028\n",
       "7560021. CHE - Green Liberal Party                              2.638655\n",
       "6040052. PER - National Unity                                   2.645161\n",
       "5780002. NOR - Conservative Party                               2.654362\n",
       "6160008. POL - Freedom Union                                    2.690476\n",
       "2030010. CZE - TOP 09                                           2.719178\n",
       "5540004. NZL - Act New Zealand                                  2.723247\n",
       "2460003. FIN - National Coalition Party                         2.748503\n",
       "1000001. BGR - Citizens for European Development of Bulgaria    2.796875\n",
       "6040051. PER - Alliance for the Great Change                    2.818182\n",
       "Name: IMD2006__5. HIGHEST HOUSEHOLD INCOME QUINTILE, dtype: float64"
      ]
     },
     "execution_count": 93,
     "metadata": {},
     "output_type": "execute_result"
    }
   ],
   "source": [
    "df[imd_var+\"__\"+top_cat][mask].groupby(lower_house_party_list[mask]).mean()[sample_size_mask].sort_values().tail(10)\n",
    "# 0-4"
   ]
  },
  {
   "cell_type": "code",
   "execution_count": 94,
   "metadata": {},
   "outputs": [
    {
     "data": {
      "text/plain": [
       "IMD3002_LH_PL\n",
       "7640001. THA - For Thais Party                              1.058824\n",
       "7100001. ZAF - African National Congress                    1.157343\n",
       "2030004. CZE - Communist Party of Bohemia and Moravia       1.359909\n",
       "6160024. POL - Self-Defense of the Republic Poland          1.567797\n",
       "5540009. NZL - Alliance                                     1.622222\n",
       "1520004. CHL - Socialist Party                              1.629310\n",
       "5540003. NZL - New Zealand First                            1.629328\n",
       "3920012. JPN - New Frontier Party                           1.636364\n",
       "3000001. GRC - Pan-Hellenic Socialist Movement              1.643059\n",
       "6430002. RUS - Communist Party of the Russian Federation    1.670554\n",
       "Name: IMD2006__5. HIGHEST HOUSEHOLD INCOME QUINTILE, dtype: float64"
      ]
     },
     "execution_count": 94,
     "metadata": {},
     "output_type": "execute_result"
    }
   ],
   "source": [
    "df[imd_var+\"__\"+top_cat][mask].groupby(lower_house_party_list[mask]).mean()[sample_size_mask].sort_values().head(10)\n",
    "# 0-4"
   ]
  },
  {
   "cell_type": "code",
   "execution_count": null,
   "metadata": {},
   "outputs": [],
   "source": [
    "## do a version with weights added in, prob won't make much difference but just in case!"
   ]
  },
  {
   "cell_type": "code",
   "execution_count": null,
   "metadata": {},
   "outputs": [],
   "source": []
  },
  {
   "cell_type": "code",
   "execution_count": 95,
   "metadata": {},
   "outputs": [
    {
     "data": {
      "text/plain": [
       "0                  0080002. ALB - Democratic Party\n",
       "1                  0080002. ALB - Democratic Party\n",
       "2                  0080002. ALB - Democratic Party\n",
       "3                  0080002. ALB - Democratic Party\n",
       "4                  0080002. ALB - Democratic Party\n",
       "                            ...                   \n",
       "281078    7100001. ZAF - African National Congress\n",
       "281079    7100001. ZAF - African National Congress\n",
       "281080    7100001. ZAF - African National Congress\n",
       "281081    7100001. ZAF - African National Congress\n",
       "281082    7100001. ZAF - African National Congress\n",
       "Name: IMD5000_A, Length: 281083, dtype: category\n",
       "Categories (107, object): [0080002. ALB - Democratic Party < 0320001. ARG - Front for the Victory < 0360001. AUS - Liberal Party < 0360003. AUS - Australian Labor Party ... 8260002. GBR - Labour < 8400001. USA - Republican Party < 8400002. USA - Democratic Party < 8580001. URY - Broad Front]"
      ]
     },
     "execution_count": 95,
     "metadata": {},
     "output_type": "execute_result"
    }
   ],
   "source": [
    "cses_variable_types = pd.read_pickle(dataset_folder + \"CSES\"+os.sep+\"Integration\"+os.sep+\"cses_variable_types.pkl\")\n",
    "cses_variable_types[cses_variable_types[\"variable type\"]==\"party\"]\n",
    "\n",
    "CSES_int[\"IMD5000_A\"]"
   ]
  },
  {
   "cell_type": "code",
   "execution_count": 102,
   "metadata": {},
   "outputs": [
    {
     "data": {
      "text/html": [
       "<div>\n",
       "<style scoped>\n",
       "    .dataframe tbody tr th:only-of-type {\n",
       "        vertical-align: middle;\n",
       "    }\n",
       "\n",
       "    .dataframe tbody tr th {\n",
       "        vertical-align: top;\n",
       "    }\n",
       "\n",
       "    .dataframe thead th {\n",
       "        text-align: right;\n",
       "    }\n",
       "</style>\n",
       "<table border=\"1\" class=\"dataframe\">\n",
       "  <thead>\n",
       "    <tr style=\"text-align: right;\">\n",
       "      <th></th>\n",
       "      <th>description</th>\n",
       "      <th>variable type</th>\n",
       "    </tr>\n",
       "  </thead>\n",
       "  <tbody>\n",
       "    <tr>\n",
       "      <th>IMD5000_A</th>\n",
       "      <td>PARTY A IDENTIFIER - NUMERICAL</td>\n",
       "      <td>party</td>\n",
       "    </tr>\n",
       "    <tr>\n",
       "      <th>IMD5000_B</th>\n",
       "      <td>PARTY B IDENTIFIER - NUMERICAL</td>\n",
       "      <td>party</td>\n",
       "    </tr>\n",
       "    <tr>\n",
       "      <th>IMD5000_C</th>\n",
       "      <td>PARTY C IDENTIFIER - NUMERICAL</td>\n",
       "      <td>party</td>\n",
       "    </tr>\n",
       "    <tr>\n",
       "      <th>IMD5000_D</th>\n",
       "      <td>PARTY D IDENTIFIER - NUMERICAL</td>\n",
       "      <td>party</td>\n",
       "    </tr>\n",
       "    <tr>\n",
       "      <th>IMD5000_E</th>\n",
       "      <td>PARTY E IDENTIFIER - NUMERICAL</td>\n",
       "      <td>party</td>\n",
       "    </tr>\n",
       "    <tr>\n",
       "      <th>IMD5000_F</th>\n",
       "      <td>PARTY F IDENTIFIER - NUMERICAL</td>\n",
       "      <td>party</td>\n",
       "    </tr>\n",
       "    <tr>\n",
       "      <th>IMD5000_G</th>\n",
       "      <td>PARTY G IDENTIFIER - NUMERICAL</td>\n",
       "      <td>party</td>\n",
       "    </tr>\n",
       "    <tr>\n",
       "      <th>IMD5000_H</th>\n",
       "      <td>PARTY H IDENTIFIER - NUMERICAL</td>\n",
       "      <td>party</td>\n",
       "    </tr>\n",
       "    <tr>\n",
       "      <th>IMD5000_I</th>\n",
       "      <td>PARTY I IDENTIFIER - NUMERICAL</td>\n",
       "      <td>party</td>\n",
       "    </tr>\n",
       "    <tr>\n",
       "      <th>IMD5001_A</th>\n",
       "      <td>PERCENT VOTE - LOWER HOUSE - PARTY A</td>\n",
       "      <td>party</td>\n",
       "    </tr>\n",
       "    <tr>\n",
       "      <th>IMD5001_B</th>\n",
       "      <td>PERCENT VOTE - LOWER HOUSE - PARTY B</td>\n",
       "      <td>party</td>\n",
       "    </tr>\n",
       "    <tr>\n",
       "      <th>IMD5001_C</th>\n",
       "      <td>PERCENT VOTE - LOWER HOUSE - PARTY C</td>\n",
       "      <td>party</td>\n",
       "    </tr>\n",
       "    <tr>\n",
       "      <th>IMD5001_D</th>\n",
       "      <td>PERCENT VOTE - LOWER HOUSE - PARTY D</td>\n",
       "      <td>party</td>\n",
       "    </tr>\n",
       "    <tr>\n",
       "      <th>IMD5001_E</th>\n",
       "      <td>PERCENT VOTE - LOWER HOUSE - PARTY E</td>\n",
       "      <td>party</td>\n",
       "    </tr>\n",
       "    <tr>\n",
       "      <th>IMD5001_F</th>\n",
       "      <td>PERCENT VOTE - LOWER HOUSE - PARTY F</td>\n",
       "      <td>party</td>\n",
       "    </tr>\n",
       "    <tr>\n",
       "      <th>IMD5001_G</th>\n",
       "      <td>PERCENT VOTE - LOWER HOUSE - PARTY G</td>\n",
       "      <td>party</td>\n",
       "    </tr>\n",
       "    <tr>\n",
       "      <th>IMD5001_H</th>\n",
       "      <td>PERCENT VOTE - LOWER HOUSE - PARTY H</td>\n",
       "      <td>party</td>\n",
       "    </tr>\n",
       "    <tr>\n",
       "      <th>IMD5001_I</th>\n",
       "      <td>PERCENT VOTE - LOWER HOUSE - PARTY I</td>\n",
       "      <td>party</td>\n",
       "    </tr>\n",
       "    <tr>\n",
       "      <th>IMD5002_A</th>\n",
       "      <td>PERCENT SEATS - LOWER HOUSE - PARTY A</td>\n",
       "      <td>party</td>\n",
       "    </tr>\n",
       "    <tr>\n",
       "      <th>IMD5002_B</th>\n",
       "      <td>PERCENT SEATS - LOWER HOUSE - PARTY B</td>\n",
       "      <td>party</td>\n",
       "    </tr>\n",
       "    <tr>\n",
       "      <th>IMD5002_C</th>\n",
       "      <td>PERCENT SEATS - LOWER HOUSE - PARTY C</td>\n",
       "      <td>party</td>\n",
       "    </tr>\n",
       "    <tr>\n",
       "      <th>IMD5002_D</th>\n",
       "      <td>PERCENT SEATS - LOWER HOUSE - PARTY D</td>\n",
       "      <td>party</td>\n",
       "    </tr>\n",
       "    <tr>\n",
       "      <th>IMD5002_E</th>\n",
       "      <td>PERCENT SEATS - LOWER HOUSE - PARTY E</td>\n",
       "      <td>party</td>\n",
       "    </tr>\n",
       "    <tr>\n",
       "      <th>IMD5002_F</th>\n",
       "      <td>PERCENT SEATS - LOWER HOUSE - PARTY F</td>\n",
       "      <td>party</td>\n",
       "    </tr>\n",
       "    <tr>\n",
       "      <th>IMD5002_G</th>\n",
       "      <td>PERCENT SEATS - LOWER HOUSE - PARTY G</td>\n",
       "      <td>party</td>\n",
       "    </tr>\n",
       "    <tr>\n",
       "      <th>IMD5002_H</th>\n",
       "      <td>PERCENT SEATS - LOWER HOUSE - PARTY H</td>\n",
       "      <td>party</td>\n",
       "    </tr>\n",
       "    <tr>\n",
       "      <th>IMD5002_I</th>\n",
       "      <td>PERCENT SEATS - LOWER HOUSE - PARTY I</td>\n",
       "      <td>party</td>\n",
       "    </tr>\n",
       "    <tr>\n",
       "      <th>IMD5003_A</th>\n",
       "      <td>PERCENT VOTE - UPPER HOUSE - PARTY A</td>\n",
       "      <td>party</td>\n",
       "    </tr>\n",
       "    <tr>\n",
       "      <th>IMD5003_B</th>\n",
       "      <td>PERCENT VOTE - UPPER HOUSE - PARTY B</td>\n",
       "      <td>party</td>\n",
       "    </tr>\n",
       "    <tr>\n",
       "      <th>IMD5003_C</th>\n",
       "      <td>PERCENT VOTE - UPPER HOUSE - PARTY C</td>\n",
       "      <td>party</td>\n",
       "    </tr>\n",
       "    <tr>\n",
       "      <th>IMD5003_D</th>\n",
       "      <td>PERCENT VOTE - UPPER HOUSE - PARTY D</td>\n",
       "      <td>party</td>\n",
       "    </tr>\n",
       "    <tr>\n",
       "      <th>IMD5003_E</th>\n",
       "      <td>PERCENT VOTE - UPPER HOUSE - PARTY E</td>\n",
       "      <td>party</td>\n",
       "    </tr>\n",
       "    <tr>\n",
       "      <th>IMD5003_F</th>\n",
       "      <td>PERCENT VOTE - UPPER HOUSE - PARTY F</td>\n",
       "      <td>party</td>\n",
       "    </tr>\n",
       "    <tr>\n",
       "      <th>IMD5003_G</th>\n",
       "      <td>PERCENT VOTE - UPPER HOUSE - PARTY G</td>\n",
       "      <td>party</td>\n",
       "    </tr>\n",
       "    <tr>\n",
       "      <th>IMD5003_H</th>\n",
       "      <td>PERCENT VOTE - UPPER HOUSE - PARTY H</td>\n",
       "      <td>party</td>\n",
       "    </tr>\n",
       "    <tr>\n",
       "      <th>IMD5003_I</th>\n",
       "      <td>PERCENT VOTE - UPPER HOUSE - PARTY I</td>\n",
       "      <td>party</td>\n",
       "    </tr>\n",
       "    <tr>\n",
       "      <th>IMD5004_A</th>\n",
       "      <td>PERCENT SEATS - UPPER HOUSE - PARTY A</td>\n",
       "      <td>party</td>\n",
       "    </tr>\n",
       "    <tr>\n",
       "      <th>IMD5004_B</th>\n",
       "      <td>PERCENT SEATS - UPPER HOUSE - PARTY B</td>\n",
       "      <td>party</td>\n",
       "    </tr>\n",
       "    <tr>\n",
       "      <th>IMD5004_C</th>\n",
       "      <td>PERCENT SEATS - UPPER HOUSE - PARTY C</td>\n",
       "      <td>party</td>\n",
       "    </tr>\n",
       "    <tr>\n",
       "      <th>IMD5004_D</th>\n",
       "      <td>PERCENT SEATS - UPPER HOUSE - PARTY D</td>\n",
       "      <td>party</td>\n",
       "    </tr>\n",
       "    <tr>\n",
       "      <th>IMD5004_E</th>\n",
       "      <td>PERCENT SEATS - UPPER HOUSE - PARTY E</td>\n",
       "      <td>party</td>\n",
       "    </tr>\n",
       "    <tr>\n",
       "      <th>IMD5004_F</th>\n",
       "      <td>PERCENT SEATS - UPPER HOUSE - PARTY F</td>\n",
       "      <td>party</td>\n",
       "    </tr>\n",
       "    <tr>\n",
       "      <th>IMD5004_G</th>\n",
       "      <td>PERCENT SEATS - UPPER HOUSE - PARTY G</td>\n",
       "      <td>party</td>\n",
       "    </tr>\n",
       "    <tr>\n",
       "      <th>IMD5004_H</th>\n",
       "      <td>PERCENT SEATS - UPPER HOUSE - PARTY H</td>\n",
       "      <td>party</td>\n",
       "    </tr>\n",
       "    <tr>\n",
       "      <th>IMD5004_I</th>\n",
       "      <td>PERCENT SEATS - UPPER HOUSE - PARTY I</td>\n",
       "      <td>party</td>\n",
       "    </tr>\n",
       "    <tr>\n",
       "      <th>IMD5005_A</th>\n",
       "      <td>PERCENT VOTE - PRESIDENT - PARTY A</td>\n",
       "      <td>party</td>\n",
       "    </tr>\n",
       "    <tr>\n",
       "      <th>IMD5005_B</th>\n",
       "      <td>PERCENT VOTE - PRESIDENT - PARTY B</td>\n",
       "      <td>party</td>\n",
       "    </tr>\n",
       "    <tr>\n",
       "      <th>IMD5005_C</th>\n",
       "      <td>PERCENT VOTE - PRESIDENT - PARTY C</td>\n",
       "      <td>party</td>\n",
       "    </tr>\n",
       "    <tr>\n",
       "      <th>IMD5005_D</th>\n",
       "      <td>PERCENT VOTE - PRESIDENT - PARTY D</td>\n",
       "      <td>party</td>\n",
       "    </tr>\n",
       "    <tr>\n",
       "      <th>IMD5005_E</th>\n",
       "      <td>PERCENT VOTE - PRESIDENT - PARTY E</td>\n",
       "      <td>party</td>\n",
       "    </tr>\n",
       "  </tbody>\n",
       "</table>\n",
       "</div>"
      ],
      "text/plain": [
       "                                     description variable type\n",
       "IMD5000_A         PARTY A IDENTIFIER - NUMERICAL         party\n",
       "IMD5000_B         PARTY B IDENTIFIER - NUMERICAL         party\n",
       "IMD5000_C         PARTY C IDENTIFIER - NUMERICAL         party\n",
       "IMD5000_D         PARTY D IDENTIFIER - NUMERICAL         party\n",
       "IMD5000_E         PARTY E IDENTIFIER - NUMERICAL         party\n",
       "IMD5000_F         PARTY F IDENTIFIER - NUMERICAL         party\n",
       "IMD5000_G         PARTY G IDENTIFIER - NUMERICAL         party\n",
       "IMD5000_H         PARTY H IDENTIFIER - NUMERICAL         party\n",
       "IMD5000_I         PARTY I IDENTIFIER - NUMERICAL         party\n",
       "IMD5001_A   PERCENT VOTE - LOWER HOUSE - PARTY A         party\n",
       "IMD5001_B   PERCENT VOTE - LOWER HOUSE - PARTY B         party\n",
       "IMD5001_C   PERCENT VOTE - LOWER HOUSE - PARTY C         party\n",
       "IMD5001_D   PERCENT VOTE - LOWER HOUSE - PARTY D         party\n",
       "IMD5001_E   PERCENT VOTE - LOWER HOUSE - PARTY E         party\n",
       "IMD5001_F   PERCENT VOTE - LOWER HOUSE - PARTY F         party\n",
       "IMD5001_G   PERCENT VOTE - LOWER HOUSE - PARTY G         party\n",
       "IMD5001_H   PERCENT VOTE - LOWER HOUSE - PARTY H         party\n",
       "IMD5001_I   PERCENT VOTE - LOWER HOUSE - PARTY I         party\n",
       "IMD5002_A  PERCENT SEATS - LOWER HOUSE - PARTY A         party\n",
       "IMD5002_B  PERCENT SEATS - LOWER HOUSE - PARTY B         party\n",
       "IMD5002_C  PERCENT SEATS - LOWER HOUSE - PARTY C         party\n",
       "IMD5002_D  PERCENT SEATS - LOWER HOUSE - PARTY D         party\n",
       "IMD5002_E  PERCENT SEATS - LOWER HOUSE - PARTY E         party\n",
       "IMD5002_F  PERCENT SEATS - LOWER HOUSE - PARTY F         party\n",
       "IMD5002_G  PERCENT SEATS - LOWER HOUSE - PARTY G         party\n",
       "IMD5002_H  PERCENT SEATS - LOWER HOUSE - PARTY H         party\n",
       "IMD5002_I  PERCENT SEATS - LOWER HOUSE - PARTY I         party\n",
       "IMD5003_A   PERCENT VOTE - UPPER HOUSE - PARTY A         party\n",
       "IMD5003_B   PERCENT VOTE - UPPER HOUSE - PARTY B         party\n",
       "IMD5003_C   PERCENT VOTE - UPPER HOUSE - PARTY C         party\n",
       "IMD5003_D   PERCENT VOTE - UPPER HOUSE - PARTY D         party\n",
       "IMD5003_E   PERCENT VOTE - UPPER HOUSE - PARTY E         party\n",
       "IMD5003_F   PERCENT VOTE - UPPER HOUSE - PARTY F         party\n",
       "IMD5003_G   PERCENT VOTE - UPPER HOUSE - PARTY G         party\n",
       "IMD5003_H   PERCENT VOTE - UPPER HOUSE - PARTY H         party\n",
       "IMD5003_I   PERCENT VOTE - UPPER HOUSE - PARTY I         party\n",
       "IMD5004_A  PERCENT SEATS - UPPER HOUSE - PARTY A         party\n",
       "IMD5004_B  PERCENT SEATS - UPPER HOUSE - PARTY B         party\n",
       "IMD5004_C  PERCENT SEATS - UPPER HOUSE - PARTY C         party\n",
       "IMD5004_D  PERCENT SEATS - UPPER HOUSE - PARTY D         party\n",
       "IMD5004_E  PERCENT SEATS - UPPER HOUSE - PARTY E         party\n",
       "IMD5004_F  PERCENT SEATS - UPPER HOUSE - PARTY F         party\n",
       "IMD5004_G  PERCENT SEATS - UPPER HOUSE - PARTY G         party\n",
       "IMD5004_H  PERCENT SEATS - UPPER HOUSE - PARTY H         party\n",
       "IMD5004_I  PERCENT SEATS - UPPER HOUSE - PARTY I         party\n",
       "IMD5005_A     PERCENT VOTE - PRESIDENT - PARTY A         party\n",
       "IMD5005_B     PERCENT VOTE - PRESIDENT - PARTY B         party\n",
       "IMD5005_C     PERCENT VOTE - PRESIDENT - PARTY C         party\n",
       "IMD5005_D     PERCENT VOTE - PRESIDENT - PARTY D         party\n",
       "IMD5005_E     PERCENT VOTE - PRESIDENT - PARTY E         party"
      ]
     },
     "execution_count": 102,
     "metadata": {},
     "output_type": "execute_result"
    }
   ],
   "source": [
    "cses_variable_types[cses_variable_types[\"variable type\"]==\"party\"].head(50)"
   ]
  },
  {
   "cell_type": "code",
   "execution_count": 99,
   "metadata": {},
   "outputs": [
    {
     "data": {
      "text/plain": [
       "0         2005\n",
       "1         2005\n",
       "2         2005\n",
       "3         2005\n",
       "4         2005\n",
       "          ... \n",
       "281078    2014\n",
       "281079    2014\n",
       "281080    2014\n",
       "281081    2014\n",
       "281082    2014\n",
       "Name: IMD1008_YEAR, Length: 281083, dtype: int16"
      ]
     },
     "execution_count": 99,
     "metadata": {},
     "output_type": "execute_result"
    }
   ],
   "source": [
    "CSES_int[\"IMD1008_YEAR\"]"
   ]
  },
  {
   "cell_type": "code",
   "execution_count": null,
   "metadata": {},
   "outputs": [],
   "source": [
    "## Year x Party\n",
    "\n",
    "\n",
    "# party_A_identifier, year, party_A_left-right-pos\n",
    "\n"
   ]
  },
  {
   "cell_type": "code",
   "execution_count": 104,
   "metadata": {},
   "outputs": [
    {
     "data": {
      "text/html": [
       "<div>\n",
       "<style scoped>\n",
       "    .dataframe tbody tr th:only-of-type {\n",
       "        vertical-align: middle;\n",
       "    }\n",
       "\n",
       "    .dataframe tbody tr th {\n",
       "        vertical-align: top;\n",
       "    }\n",
       "\n",
       "    .dataframe thead th {\n",
       "        text-align: right;\n",
       "    }\n",
       "</style>\n",
       "<table border=\"1\" class=\"dataframe\">\n",
       "  <thead>\n",
       "    <tr style=\"text-align: right;\">\n",
       "      <th></th>\n",
       "      <th>IMD5000_A</th>\n",
       "      <th>IMD1008_YEAR</th>\n",
       "      <th>IMD5012_A</th>\n",
       "    </tr>\n",
       "  </thead>\n",
       "  <tbody>\n",
       "    <tr>\n",
       "      <th>0</th>\n",
       "      <td>0080002. ALB - Democratic Party</td>\n",
       "      <td>2005</td>\n",
       "      <td>6</td>\n",
       "    </tr>\n",
       "    <tr>\n",
       "      <th>1</th>\n",
       "      <td>0080002. ALB - Democratic Party</td>\n",
       "      <td>2005</td>\n",
       "      <td>6</td>\n",
       "    </tr>\n",
       "    <tr>\n",
       "      <th>2</th>\n",
       "      <td>0080002. ALB - Democratic Party</td>\n",
       "      <td>2005</td>\n",
       "      <td>6</td>\n",
       "    </tr>\n",
       "    <tr>\n",
       "      <th>3</th>\n",
       "      <td>0080002. ALB - Democratic Party</td>\n",
       "      <td>2005</td>\n",
       "      <td>6</td>\n",
       "    </tr>\n",
       "    <tr>\n",
       "      <th>4</th>\n",
       "      <td>0080002. ALB - Democratic Party</td>\n",
       "      <td>2005</td>\n",
       "      <td>6</td>\n",
       "    </tr>\n",
       "    <tr>\n",
       "      <th>...</th>\n",
       "      <td>...</td>\n",
       "      <td>...</td>\n",
       "      <td>...</td>\n",
       "    </tr>\n",
       "    <tr>\n",
       "      <th>281078</th>\n",
       "      <td>7100001. ZAF - African National Congress</td>\n",
       "      <td>2014</td>\n",
       "      <td>3</td>\n",
       "    </tr>\n",
       "    <tr>\n",
       "      <th>281079</th>\n",
       "      <td>7100001. ZAF - African National Congress</td>\n",
       "      <td>2014</td>\n",
       "      <td>3</td>\n",
       "    </tr>\n",
       "    <tr>\n",
       "      <th>281080</th>\n",
       "      <td>7100001. ZAF - African National Congress</td>\n",
       "      <td>2014</td>\n",
       "      <td>3</td>\n",
       "    </tr>\n",
       "    <tr>\n",
       "      <th>281081</th>\n",
       "      <td>7100001. ZAF - African National Congress</td>\n",
       "      <td>2014</td>\n",
       "      <td>3</td>\n",
       "    </tr>\n",
       "    <tr>\n",
       "      <th>281082</th>\n",
       "      <td>7100001. ZAF - African National Congress</td>\n",
       "      <td>2014</td>\n",
       "      <td>3</td>\n",
       "    </tr>\n",
       "  </tbody>\n",
       "</table>\n",
       "<p>281083 rows × 3 columns</p>\n",
       "</div>"
      ],
      "text/plain": [
       "                                       IMD5000_A  IMD1008_YEAR IMD5012_A\n",
       "0                0080002. ALB - Democratic Party          2005         6\n",
       "1                0080002. ALB - Democratic Party          2005         6\n",
       "2                0080002. ALB - Democratic Party          2005         6\n",
       "3                0080002. ALB - Democratic Party          2005         6\n",
       "4                0080002. ALB - Democratic Party          2005         6\n",
       "...                                          ...           ...       ...\n",
       "281078  7100001. ZAF - African National Congress          2014         3\n",
       "281079  7100001. ZAF - African National Congress          2014         3\n",
       "281080  7100001. ZAF - African National Congress          2014         3\n",
       "281081  7100001. ZAF - African National Congress          2014         3\n",
       "281082  7100001. ZAF - African National Congress          2014         3\n",
       "\n",
       "[281083 rows x 3 columns]"
      ]
     },
     "execution_count": 104,
     "metadata": {},
     "output_type": "execute_result"
    }
   ],
   "source": [
    "CSES_int[[\"IMD5000_A\",\"IMD1008_YEAR\",\"IMD5012_A\",]]"
   ]
  },
  {
   "cell_type": "code",
   "execution_count": 110,
   "metadata": {},
   "outputs": [
    {
     "data": {
      "text/plain": [
       "00. LEFT               2000\n",
       "1.0                    4738\n",
       "2.0                    4141\n",
       "3.0                   44590\n",
       "4.0                   44562\n",
       "4.5                    2971\n",
       "5.0                   36751\n",
       "6.0                   37612\n",
       "7.0                   62527\n",
       "8.0                   16402\n",
       "9.0                   11332\n",
       "97. NOT APPLICABLE     1009\n",
       "99. MISSING           12448\n",
       "Name: IMD5012_A, dtype: int64"
      ]
     },
     "execution_count": 110,
     "metadata": {},
     "output_type": "execute_result"
    }
   ],
   "source": [
    "[\"99. MISSING\",\"97. NOT APPLICABLE\"]\n",
    "\n",
    "CSES_int[\"IMD5012_A\"].value_counts().sort_index()"
   ]
  },
  {
   "cell_type": "code",
   "execution_count": 111,
   "metadata": {},
   "outputs": [
    {
     "data": {
      "text/plain": [
       "00. LEFT               1496\n",
       "1.0                    1000\n",
       "2.0                    4641\n",
       "3.0                   35066\n",
       "4.0                   53598\n",
       "5.0                   37917\n",
       "5.5                    1798\n",
       "6.0                   25859\n",
       "7.0                   56581\n",
       "8.0                   44295\n",
       "9.0                    5375\n",
       "97. NOT APPLICABLE     1009\n",
       "99. MISSING           12448\n",
       "Name: IMD5012_B, dtype: int64"
      ]
     },
     "execution_count": 111,
     "metadata": {},
     "output_type": "execute_result"
    }
   ],
   "source": [
    "CSES_int[\"IMD5012_B\"].value_counts().sort_index()\n",
    "\n",
    "# dubious - check originals!\n",
    "\n",
    "# Some collaborators have reported sub-incremental values (i.e.\n",
    "#          | 4.5, 7.5, etc.)."
   ]
  },
  {
   "cell_type": "code",
   "execution_count": 154,
   "metadata": {},
   "outputs": [],
   "source": [
    "### Left-Right Party_A\n",
    "\n",
    "for party in [\"A\",\"B\",\"C\",\"D\",\"E\",\"F\",\"G\",\"H\",\"I\"]:\n",
    "\n",
    "    imd_var = \"IMD5012_\"+party\n",
    "\n",
    "    # CSES_int[imd_var].cat.categories\n",
    "    # check to see if ordinal/categorical\n",
    "\n",
    "\n",
    "    non_response_cats = [\"99. MISSING\",\"97. NOT APPLICABLE\"]\n",
    "    replace_dict = {\"99. MISSING\":np.nan,\"97. NOT APPLICABLE\":np.nan,'00. LEFT':0,'10. RIGHT':10}\n",
    "\n",
    "\n",
    "    df[imd_var+\"_nr\"] = CSES_int[imd_var].apply(lambda x: x if x in non_response_cats else np.nan)\n",
    "    top_cat = '10. RIGHT'\n",
    "    df[imd_var+\"__\"+top_cat] = CSES_int[imd_var].replace(replace_dict).astype(float)"
   ]
  },
  {
   "cell_type": "code",
   "execution_count": 161,
   "metadata": {},
   "outputs": [
    {
     "data": {
      "text/plain": [
       "IMD5000_A\n",
       "1120001. BLR - Communist Party of Belarus                   0.000000\n",
       "8040010. UKR - Communist Party of Ukraine                   1.000000\n",
       "6430002. RUS - Communist Party of the Russian Federation    1.000000\n",
       "3000003. GRC - Coalition of the Radical Left                2.000000\n",
       "7050016. SVN - Zoran Jankovic List - Positive Slovenia      2.000000\n",
       "                                                              ...   \n",
       "7560001. CHE - Swiss People's Party                         8.398421\n",
       "2030002. CZE - Civic Democratic Party                       8.619622\n",
       "4990011. MNE - Coalition 'For a European Montenegro'        9.000000\n",
       "6040001. PER - Popular Force                                9.000000\n",
       "1520002. CHL - Independent Democratic Union                 9.000000\n",
       "Name: IMD5012_A__10. RIGHT, Length: 101, dtype: float64"
      ]
     },
     "metadata": {},
     "output_type": "display_data"
    },
    {
     "data": {
      "text/plain": [
       "IMD5000_B\n",
       "6430002. RUS - Communist Party of the Russian Federation    0.0\n",
       "3800011. ITA - Democrats of the Left                        2.0\n",
       "3000003. GRC - Coalition of the Radical Left                2.0\n",
       "4840003. MEX - Democratic Revolution Party                  2.0\n",
       "1120004. BLR - Agrarian Party                               2.0\n",
       "                                                           ... \n",
       "1520002. CHL - Independent Democratic Union                 8.0\n",
       "5780002. NOR - Conservative Party                           8.0\n",
       "2030002. CZE - Civic Democratic Party                       9.0\n",
       "6040001. PER - Popular Force                                9.0\n",
       "2500007. FRA - National Front                               9.0\n",
       "Name: IMD5012_B__10. RIGHT, Length: 109, dtype: float64"
      ]
     },
     "metadata": {},
     "output_type": "display_data"
    },
    {
     "data": {
      "text/plain": [
       "IMD5000_C\n",
       "2030004. CZE - Communist Party of Bohemia and Moravia     0.716564\n",
       "3000004. GRC - Communist Party of Greece                  1.000000\n",
       "3920004. JPN - Japanese Communist Party                   1.000000\n",
       "4990003. MNE - Socialist People's Party                   1.000000\n",
       "6160017. POL - Palikots Movement                          1.000000\n",
       "                                                           ...    \n",
       "2460003. FIN - National Coalition Party                   9.000000\n",
       "2500007. FRA - National Front                            10.000000\n",
       "3000006. GRC - Golden Dawn                               10.000000\n",
       "1120017. BLR - Christian Conservative Party              10.000000\n",
       "2030010. CZE - TOP 09                                    10.000000\n",
       "Name: IMD5012_C__10. RIGHT, Length: 121, dtype: float64"
      ]
     },
     "metadata": {},
     "output_type": "display_data"
    },
    {
     "data": {
      "text/plain": [
       "IMD5000_D\n",
       "3920004. JPN - Japanese Communist Party             0.567458\n",
       "0320004. ARG - Workers' Left Front                  1.000000\n",
       "0360005. AUS - Australian Greens                    1.000000\n",
       "2500006. FRA - Left Front                           1.000000\n",
       "3520005. ISL - Left-Green Movement                  1.642011\n",
       "                                                     ...    \n",
       "2030010. CZE - TOP 09                               9.000000\n",
       "5540004. NZL - Act New Zealand                      9.000000\n",
       "3480004. HUN - Hungarian Justice and Life Party     9.000000\n",
       "1120027. BLR - The BNF Party                        9.000000\n",
       "2500007. FRA - National Front                      10.000000\n",
       "Name: IMD5012_D__10. RIGHT, Length: 114, dtype: float64"
      ]
     },
     "metadata": {},
     "output_type": "display_data"
    },
    {
     "data": {
      "text/plain": [
       "IMD5000_E\n",
       "8580005. URY - Popular Assembly                  0.0\n",
       "2500009. FRA - Workers' Struggle                 0.0\n",
       "3440026. HKG - April Fifth Action                1.0\n",
       "4100015. KOR - Democratic Labor Party            1.0\n",
       "2500004. FRA - French Communist Party            1.0\n",
       "                                                ... \n",
       "3920007. JPN - Japan Restoration Party           9.0\n",
       "7030012. SVK - People's Party - Our Slovakia    10.0\n",
       "0560012. BEL - Flemish Block                    10.0\n",
       "3000006. GRC - Golden Dawn                      10.0\n",
       "7050008. SVN - Slovenian National Party         10.0\n",
       "Name: IMD5012_E__10. RIGHT, Length: 115, dtype: float64"
      ]
     },
     "metadata": {},
     "output_type": "display_data"
    },
    {
     "data": {
      "text/plain": [
       "IMD5000_F\n",
       "1520006. CHL - Communist Party of Chile                      0.0\n",
       "6200007. PRT - Portugese Communist Worker's Party            0.0\n",
       "3440006. HKG - Labour Party                                  1.0\n",
       "3800013. ITA - Communist Refoundation Party                  1.0\n",
       "6160007. POL - Labour Union                                  1.0\n",
       "                                                            ... \n",
       "4280014. LVA - Latvian Association of the Regions            9.0\n",
       "1120005. BLR - United Civil Party                            9.0\n",
       "6160014. POL - League of Polish Families                     9.0\n",
       "3760050. ISR - National Union - National Religious Party     9.0\n",
       "7050008. SVN - Slovenian National Party                     10.0\n",
       "Name: IMD5012_F__10. RIGHT, Length: 108, dtype: float64"
      ]
     },
     "metadata": {},
     "output_type": "display_data"
    },
    {
     "data": {
      "text/plain": [
       "IMD5000_G\n",
       "2500014. FRA - Revolutionary Communist League           0.0\n",
       "4840011. MEX - Possible Mexico                          1.0\n",
       "3000004. GRC - Communist Party of Greece                1.0\n",
       "5540011. NZL - MANA Movement                            1.0\n",
       "6040007. PER - Direct Democracy                         1.0\n",
       "                                                       ... \n",
       "2760009. DEU - National Democratic Party Of Germany     9.0\n",
       "6160004. POL - Solidarity Electoral Action              9.0\n",
       "7920015. TUR - Great Union Party                        9.0\n",
       "6160018. POL - Congress of the New Right               10.0\n",
       "1000007. BGR - Attack                                  10.0\n",
       "Name: IMD5012_G__10. RIGHT, Length: 72, dtype: float64"
      ]
     },
     "metadata": {},
     "output_type": "display_data"
    },
    {
     "data": {
      "text/plain": [
       "IMD5000_H\n",
       "0400006. AUT - Communist Party of Austria                                 1.000000\n",
       "5780010. NOR - Red Electoral Alliance                                     1.000000\n",
       "5780009. NOR - Red Party                                                  1.000000\n",
       "2080005. DNK - United List - Red-Greens                                   1.000000\n",
       "4840008. MEX - Social Democratic Party                                    1.000000\n",
       "8400005. USA - Green Party                                                2.000000\n",
       "6430005. RUS - Pensioners Party                                           2.000000\n",
       "5540009. NZL - Alliance                                                   2.000000\n",
       "3920006. JPN - Social Democratic Party                                    2.000000\n",
       "3760004. ISR - Energy                                                     2.000000\n",
       "6160068. POL - Social Democracy of Poland                                 3.000000\n",
       "2760014. DEU - Pirates Party                                              3.000000\n",
       "7030010. SVK - People's Party - Movement For a Democratic Slovakia        4.000000\n",
       "5780005. NOR - The Greens                                                 4.000000\n",
       "4840014. MEX - Social Alliance Party                                      4.000000\n",
       "4840012. MEX - Social Encounter Party                                     4.000000\n",
       "0080011. ALB - Democratic Alliance Party                                  4.000000\n",
       "0760011. BRA - Labor Democratic Party                                     4.000000\n",
       "1000008. BGR - Alternative for Bulgarian Revival                          4.000000\n",
       "2030005. CZE - Green Party                                                4.587179\n",
       "6040008. PER - Possible Peru                                              5.000000\n",
       "1120002. BLR - Liberal Democratic Party                                   5.000000\n",
       "6420007. ROU - National Peasant and Christian Democratic Party            5.000000\n",
       "7100008. ZAF - Congress of the People                                     5.000000\n",
       "6160015. POL - German Minority                                            5.000000\n",
       "2080008. DNK - Christian Democrats                                        5.000000\n",
       "7240014. ESP - Canarian Coalition - Canarian Nationalist Party            5.000000\n",
       "4040103. KEN - Alliance Party of Kenya                                    5.000000\n",
       "7640008. THA - Motherland Party (Phak Matunhum Party)                     5.000000\n",
       "5280004. NLD - Democrats 66                                               5.000000\n",
       "3440019. HKG - Frontier                                                   6.000000\n",
       "0320008. ARG - Radical Civic Union                                        6.000000\n",
       "6420005. ROU - National Liberal Party                                     6.000000\n",
       "7030013. SVK - Network                                                    6.000000\n",
       "5540006. NZL - United Future New Zealand                                  6.000000\n",
       "2460007. FIN - Christian Democrats                                        6.000000\n",
       "6160008. POL - Freedom Union                                              6.000000\n",
       "7920013. TUR - Democratic Party                                           6.000000\n",
       "5280008. NLD - Christian Union                                            6.266971\n",
       "6080008. PHL - Democratic Action                                          7.000000\n",
       "2500013. FRA - Liberal Democracy                                          7.000000\n",
       "7520004. SWE - Christian Democrats                                        7.000000\n",
       "3440008. HKG - New People's Party                                         7.000000\n",
       "6420300. ROU - Calin-Constantin-Anton Popescu-Tariceanu (Independent)     7.000000\n",
       "0760026. BRA - Progressive Republican Party                               7.000000\n",
       "6200015. PRT - People's Monarchist Party                                  7.000000\n",
       "6880008. SRB - Alliance of Vojvodina's Hungarians                         7.000000\n",
       "0560001. BEL - New Flemish Alliance                                       8.000000\n",
       "7100009. ZAF - African Christian Democratic Party                         8.000000\n",
       "1910009. HRV - Croatian Democratic Alliance of Slavonia and Baranja       8.000000\n",
       "5540004. NZL - Act New Zealand                                            9.000000\n",
       "7560008. CHE - Ticino League                                              9.000000\n",
       "7050007. SVN - New Slovenia-Christian People's Party                      9.000000\n",
       "7050008. SVN - Slovenian National Party                                  10.000000\n",
       "Name: IMD5012_H__10. RIGHT, dtype: float64"
      ]
     },
     "metadata": {},
     "output_type": "display_data"
    },
    {
     "data": {
      "text/plain": [
       "IMD5000_I\n",
       "4840004. MEX - Labor Party                            1.000000\n",
       "5780009. NOR - Red Party                              1.000000\n",
       "3760010. ISR - United Arab List                       1.000000\n",
       "2500004. FRA - French Communist Party                 1.000000\n",
       "6160007. POL - Labour Union                           1.000000\n",
       "6200026. PRT - Humanist Party                         2.000000\n",
       "7520009. SWE - Feminist Party                         2.000000\n",
       "0560013. BEL - Confederated Ecologists                3.000000\n",
       "3920005. JPN - Green Wind                             3.000000\n",
       "6080009. PHL - People's Reform Party                  4.000000\n",
       "4990007. MNE - Croatian Civic Initiative              4.000000\n",
       "1910011. HRV - Istrian Democratic Assembly            4.000000\n",
       "1520007. CHL - Radical Social-democratic Party        4.000000\n",
       "1000009. BGR - Movement 21                            4.000000\n",
       "7240012. ESP - Union, Progress and Democracy          4.000000\n",
       "4840026. MEX - Mexican Liberal Party                  4.000000\n",
       "7920012. TUR - Democratic Left Party                  4.000000\n",
       "7640009. THA - Power of Choburi Party                 5.000000\n",
       "0080010. ALB - Christian Democratic Party             5.000000\n",
       "2080008. DNK - Christian Democrats                    5.000000\n",
       "0320009. ARG - Justicialist Party                     5.000000\n",
       "5540006. NZL - United Future New Zealand              6.000000\n",
       "6040009. PER - Hope Front                             6.000000\n",
       "2030012. CZE - Czech Pirate Party                     6.000000\n",
       "0760010. BRA - Brazilian Labor Party                  6.000000\n",
       "3440009. HKG - Liberal Party                          7.000000\n",
       "5280007. NLD - Reformed Political Party               7.129642\n",
       "6080087. PHL - Alliance for the Common Good           8.000000\n",
       "6420020. ROU - Democratic Liberal Party               8.000000\n",
       "6420301. ROU - Monica-Luisa Macovei (Independent)     8.000000\n",
       "7030004. SVK - Christian Democratic Movement          8.000000\n",
       "7100009. ZAF - African Christian Democratic Party     8.000000\n",
       "0760009. BRA - Democrats                              8.000000\n",
       "4040005. KEN - Kenya African National Union           9.000000\n",
       "8400006. USA - Constitution Party                    10.000000\n",
       "Name: IMD5012_I__10. RIGHT, dtype: float64"
      ]
     },
     "metadata": {},
     "output_type": "display_data"
    }
   ],
   "source": [
    "for party in [\"A\",\"B\",\"C\",\"D\",\"E\",\"F\",\"G\",\"H\",\"I\"]:\n",
    "\n",
    "    imd_var = \"IMD5012_\"+party\n",
    "\n",
    "    mask = df[imd_var+\"__\"+top_cat].notnull() & (CSES_int[\"IMD5000_\"+party]!=\"9999999. MISSING\")\n",
    "\n",
    "    sample_size_mask = df[imd_var+\"__\"+top_cat][mask].groupby(CSES_int[\"IMD5000_\"+party][mask]).count()>100\n",
    "\n",
    "    display( df[imd_var+\"__\"+top_cat][mask].groupby(CSES_int[\"IMD5000_\"+party][mask]).mean()[sample_size_mask].sort_values() )"
   ]
  },
  {
   "cell_type": "code",
   "execution_count": 158,
   "metadata": {},
   "outputs": [
    {
     "data": {
      "text/plain": [
       "IMD5000_A\n",
       "1120001. BLR - Communist Party of Belarus                   0.000000\n",
       "8040010. UKR - Communist Party of Ukraine                   1.000000\n",
       "6430002. RUS - Communist Party of the Russian Federation    1.000000\n",
       "3000003. GRC - Coalition of the Radical Left                2.000000\n",
       "7050016. SVN - Zoran Jankovic List - Positive Slovenia      2.000000\n",
       "                                                              ...   \n",
       "7560001. CHE - Swiss People's Party                         8.398421\n",
       "2030002. CZE - Civic Democratic Party                       8.619622\n",
       "4990011. MNE - Coalition 'For a European Montenegro'        9.000000\n",
       "6040001. PER - Popular Force                                9.000000\n",
       "1520002. CHL - Independent Democratic Union                 9.000000\n",
       "Name: IMD5012_A__10. RIGHT, Length: 101, dtype: float64"
      ]
     },
     "execution_count": 158,
     "metadata": {},
     "output_type": "execute_result"
    }
   ],
   "source": [
    "df[imd_var+\"__\"+top_cat][mask].groupby(CSES_int[\"IMD5000_A\"][mask]).mean()[sample_size_mask].sort_values()"
   ]
  },
  {
   "cell_type": "code",
   "execution_count": 160,
   "metadata": {},
   "outputs": [
    {
     "data": {
      "text/plain": [
       "9999999. MISSING                                        210169\n",
       "5280007. NLD - Reformed Political Party                   6086\n",
       "0760009. BRA - Democrats                                  3136\n",
       "5540006. NZL - United Future New Zealand                  2598\n",
       "0760046. BRA - Liberal Party                              2514\n",
       "7520009. SWE - Feminist Party                             2379\n",
       "6420020. ROU - Democratic Liberal Party                   2283\n",
       "0560013. BEL - Confederated Ecologists                    2225\n",
       "2080011. DNK - Centre Democrats                           2026\n",
       "2500018. FRA - Radical Party of the Left                  2000\n",
       "0760010. BRA - Brazilian Labor Party                      2000\n",
       "4840026. MEX - Mexican Liberal Party                      1991\n",
       "3920005. JPN - Green Wind                                 1937\n",
       "8400006. USA - Constitution Party                         1929\n",
       "2760009. DEU - National Democratic Party Of Germany       1889\n",
       "6160007. POL - Labour Union                               1794\n",
       "5780009. NOR - Red Party                                  1727\n",
       "2030012. CZE - Czech Pirate Party                         1653\n",
       "6040009. PER - Hope Front                                 1572\n",
       "7640009. THA - Power of Choburi Party                     1500\n",
       "6430042. RUS - Rebirth of Russia Party                    1496\n",
       "2080008. DNK - Christian Democrats                        1442\n",
       "0320009. ARG - Justicialist Party                         1406\n",
       "6200026. PRT - Humanist Party                             1303\n",
       "7100009. ZAF - African Christian Democratic Party         1300\n",
       "7240012. ESP - Union, Progress and Democracy              1204\n",
       "6080009. PHL - People's Reform Party                      1200\n",
       "6080087. PHL - Alliance for the Common Good               1200\n",
       "4040005. KEN - Kenya African National Union               1200\n",
       "1520007. CHL - Radical Social-democratic Party            1200\n",
       "4840004. MEX - Labor Party                                1197\n",
       "7030004. SVK - Christian Democratic Movement              1150\n",
       "0080010. ALB - Christian Democratic Party                 1116\n",
       "6420301. ROU - Monica-Luisa Macovei (Independent)         1112\n",
       "7920012. TUR - Democratic Left Party                      1109\n",
       "3440009. HKG - Liberal Party                              1044\n",
       "3760010. ISR - United Arab List                           1017\n",
       "4400007. LTU - Nationalist Party - 'Young Lithuania'      1009\n",
       "1910011. HRV - Istrian Democratic Assembly                1004\n",
       "2500004. FRA - French Communist Party                     1000\n",
       "1120017. BLR - Christian Conservative Party               1000\n",
       "0400011. AUT - Pirate Party                               1000\n",
       "1000009. BGR - Movement 21                                 999\n",
       "4990007. MNE - Croatian Civic Initiative                   967\n",
       "Name: IMD5000_I, dtype: int64"
      ]
     },
     "execution_count": 160,
     "metadata": {},
     "output_type": "execute_result"
    }
   ],
   "source": []
  },
  {
   "cell_type": "code",
   "execution_count": null,
   "metadata": {},
   "outputs": [],
   "source": []
  }
 ],
 "metadata": {
  "kernelspec": {
   "display_name": "Python [conda env:BES_analysis] *",
   "language": "python",
   "name": "conda-env-BES_analysis-py"
  },
  "language_info": {
   "codemirror_mode": {
    "name": "ipython",
    "version": 3
   },
   "file_extension": ".py",
   "mimetype": "text/x-python",
   "name": "python",
   "nbconvert_exporter": "python",
   "pygments_lexer": "ipython3",
   "version": "3.7.6"
  }
 },
 "nbformat": 4,
 "nbformat_minor": 4
}
