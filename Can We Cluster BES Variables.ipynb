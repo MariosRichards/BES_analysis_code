{
 "cells": [
  {
   "cell_type": "code",
   "execution_count": 1,
   "id": "24c272f5",
   "metadata": {},
   "outputs": [],
   "source": [
    "## Is it possible to categorise/cluster variables?"
   ]
  },
  {
   "cell_type": "code",
   "execution_count": 2,
   "id": "2435ef78",
   "metadata": {},
   "outputs": [
    {
     "data": {
      "text/html": [
       "<script>jQuery(function() {if (jQuery(\"body.notebook_app\").length == 0) { jQuery(\".input_area\").toggle(); jQuery(\".prompt\").toggle();}});</script>"
      ]
     },
     "metadata": {},
     "output_type": "display_data"
    },
    {
     "data": {
      "text/html": [
       "<button onclick=\"jQuery('.input_area').toggle(); jQuery('.prompt').toggle();\">Toggle code</button>"
      ]
     },
     "metadata": {},
     "output_type": "display_data"
    }
   ],
   "source": [
    "dataset_name = \"W19_comb\"\n",
    "df_list = 'BES_Panel|BES_reduced'\n",
    "\n",
    "# 'BES_Panel|BES_reduced'\n",
    "#           ]#,\"BESnumeric\"]\n",
    "\n",
    "%matplotlib inline \n",
    "%run BES_header.py {dataset_name} {df_list}"
   ]
  },
  {
   "cell_type": "code",
   "execution_count": 3,
   "id": "d2e2a661",
   "metadata": {},
   "outputs": [],
   "source": [
    "## easiest exploratory options?\n",
    "\n",
    "## PCA/FA on dataset\n",
    "\n",
    "# tedious looking for this - make a function!!!"
   ]
  },
  {
   "cell_type": "code",
   "execution_count": null,
   "id": "9a5ea448",
   "metadata": {},
   "outputs": [],
   "source": []
  },
  {
   "cell_type": "code",
   "execution_count": 4,
   "id": "6a8fcf3c",
   "metadata": {},
   "outputs": [],
   "source": [
    "Treatment = \"Trying To Categorise Variables\"\n",
    "output_folder = \"C:\\\\Users\\\\Marios\\\\Documents\\\\GitHub\\\\BES_analysis\\\\output\\\\BES_analysis_output\"\n",
    "output_subfolder = output_folder + Treatment + os.sep\n",
    "if not os.path.exists( output_subfolder ):\n",
    "    os.makedirs( output_subfolder )"
   ]
  },
  {
   "cell_type": "code",
   "execution_count": 19,
   "id": "8278b8d9",
   "metadata": {},
   "outputs": [],
   "source": [
    "input_df = BES_reduced.T\n",
    "\n",
    "input_df = input_df.sample(frac=.1,axis=1)\n",
    "\n",
    "decomp_index = input_df.index\n",
    "decomp_columns = input_df.columns\n",
    "\n",
    "decomp_columns = [str(x) for x in decomp_columns]\n",
    "\n",
    "clean_feature_set_std = StandardScaler().fit_transform(input_df.values )\n",
    "decomp_std = pd.DataFrame(   clean_feature_set_std,\n",
    "                             columns = decomp_columns,\n",
    "                             index   = decomp_index     )"
   ]
  },
  {
   "cell_type": "code",
   "execution_count": 25,
   "id": "bee61c27",
   "metadata": {},
   "outputs": [
    {
     "name": "stdout",
     "output_type": "stream",
     "text": [
      "Wall time: 860 ms\n"
     ]
    }
   ],
   "source": [
    "%%time\n",
    "# n_components = decomp_std.shape[1]\n",
    "n_components = 4\n",
    "# (svd_solver='full', n_components='mle',whiten=True)\n",
    "# decomp = PCA(n_components = n_components,svd_solver='full')\n",
    "# decomp = FastICA(algorithm='deflation', fun='exp', fun_args=None, max_iter=1000,\n",
    "#     n_components=None, random_state=None, tol=0.07, w_init=None, whiten=False) # 2h 1min 4s \"fast\"\n",
    "# decomp = SparsePCA(n_components=n_components, alpha=1,max_iter=1000,n_jobs=4,tol=1e-10, verbose=True) # 5min\n",
    "#\n",
    "# alpha=2 -> 1hr\n",
    "\n",
    "decomp = PCA(n_components = n_components) ## ~10s ,n_components=30 -> 1.5 hrs\n",
    "# decomp_method = str(decomp).split(\"(\")[0] \n",
    "# ,n_components=30\n",
    "\n",
    "X_r = decomp.fit_transform(decomp_std)\n"
   ]
  },
  {
   "cell_type": "code",
   "execution_count": 44,
   "id": "402811b9",
   "metadata": {},
   "outputs": [
    {
     "name": "stdout",
     "output_type": "stream",
     "text": [
      "Wall time: 7.39 s\n"
     ]
    }
   ],
   "source": [
    "%%time\n",
    "# n_components = decomp_std.shape[1]\n",
    "n_components = 10\n",
    "# (svd_solver='full', n_components='mle',whiten=True)\n",
    "# decomp = PCA(n_components = n_components,svd_solver='full')\n",
    "# decomp = FastICA(algorithm='deflation', fun='exp', fun_args=None, max_iter=1000,\n",
    "#     n_components=None, random_state=None, tol=0.07, w_init=None, whiten=False) # 2h 1min 4s \"fast\"\n",
    "# decomp = SparsePCA(n_components=n_components, alpha=1,max_iter=1000,n_jobs=4,tol=1e-10, verbose=True) # 5min\n",
    "#\n",
    "# alpha=2 -> 1hr\n",
    "\n",
    "decomp = FactorAnalysis(n_components = n_components) ## ~10s ,n_components=30 -> 1.5 hrs\n",
    "# decomp_method = str(decomp).split(\"(\")[0] \n",
    "# ,n_components=30\n",
    "\n",
    "X_r = decomp.fit_transform(decomp_std)\n"
   ]
  },
  {
   "cell_type": "code",
   "execution_count": null,
   "id": "449dc35a",
   "metadata": {},
   "outputs": [],
   "source": []
  },
  {
   "cell_type": "code",
   "execution_count": 7,
   "id": "05be616a",
   "metadata": {},
   "outputs": [],
   "source": [
    "# %%time\n",
    "# # 5 mins\n",
    "# ## RUN (some variant of) PCA (potentially v slow!)\n",
    "# n_components = decomp_std.shape[1]\n",
    "# n_components = 4\n",
    "# # (svd_solver='full', n_components='mle',whiten=True)\n",
    "# # decomp = PCA(n_components = n_components,svd_solver='full')\n",
    "# # decomp = FastICA(algorithm='deflation', fun='exp', fun_args=None, max_iter=1000,\n",
    "# #     n_components=None, random_state=None, tol=0.07, w_init=None, whiten=False) # 2h 1min 4s \"fast\"\n",
    "# # decomp = SparsePCA(n_components=n_components, alpha=1,max_iter=1000,n_jobs=4,tol=1e-10, verbose=True) # 5min\n",
    "# #\n",
    "# # alpha=2 -> 1hr\n",
    "\n",
    "# decomp = FactorAnalysis(svd_method = 'lapack',n_components = n_components) ## ~10s ,n_components=30 -> 1.5 hrs\n",
    "# decomp_method = str(decomp).split(\"(\")[0] \n",
    "# # ,n_components=30\n",
    "\n",
    "# X_r = decomp.fit_transform(decomp_std)\n",
    "\n",
    "# BES_decomp = pd.DataFrame(   X_r,\n",
    "#                              columns = range(0,n_components),\n",
    "#                              index   = decomp_index)\n",
    "\n",
    "# import pickle\n",
    "# # treatdir = BES_data_folder+Treatment\n",
    "# # subdir = BES_data_folder+Treatment+decomp_method\n",
    "# load_suff = \"FactorAnalysis\"\n",
    "# save = True # False => Load\n",
    "\n",
    "# if save & ( 'decomp' in globals() ): # SAVE    ##( 'decomp' not in globals() )\n",
    "#     decomp_method = str(decomp).split(\"(\")[0] \n",
    "#     subdir = output_subfolder + decomp_method\n",
    "#     fname = subdir+ os.sep + decomp_method\n",
    "#     # create dir, save decomp object, BES_decomp, BES_std    \n",
    "# #     if not os.path.exists(subdir): os.makedirs(subdir)\n",
    "# #     with open(fname+\".pkl\", \"wb\") as f: pickle.dump( decomp, f )\n",
    "# #     BES_decomp.to_hdf(fname+\".hdf\"        , decomp_method)\n",
    "# #     decomp_std.to_hdf(   fname+\"_std\"+\".hdf\" , decomp_method)\n",
    "    \n",
    "# # else: # LOAD decomp results (default is SAVE)\n",
    "# #     decomp_method = load_suff\n",
    "# #     subdir = output_subfolder + os.sep + decomp_method    \n",
    "# #     fname = subdir + os.sep + decomp_method\n",
    "# #     if not os.path.exists(subdir): raise Exception(subdir + ' does not exist!')\n",
    "# #     # load decomp object, BES_decomp, BES_std, n_components\n",
    "# #     with open(fname+\".pkl\", \"rb\") as f: decomp = pickle.load(f) \n",
    "# #     BES_decomp = pd.read_hdf(fname+\".hdf\")\n",
    "# #     decomp_std    = pd.read_hdf(fname+\"_std\"+\".hdf\")\n",
    "# #     n_components = decomp.components_.shape[0] \n",
    "\n",
    "# # (BES_decomp, comp_labels, comp_dict) = display_components(n_components, decomp,\n",
    "# #                                                           decomp_columns, BES_decomp, manifest=None, \n",
    "# #                                                           save_folder = subdir,  \n",
    "# #                                                           show_first_x_comps= 4, show_histogram = False)"
   ]
  },
  {
   "cell_type": "code",
   "execution_count": 45,
   "id": "8d7a270b",
   "metadata": {},
   "outputs": [
    {
     "data": {
      "text/plain": [
       "<matplotlib.axes._subplots.AxesSubplot at 0x2281a768288>"
      ]
     },
     "execution_count": 45,
     "metadata": {},
     "output_type": "execute_result"
    },
    {
     "data": {
      "image/png": "[encoded data removed]",
      "text/plain": [
       "<Figure size 432x288 with 1 Axes>"
      ]
     },
     "metadata": {},
     "output_type": "display_data"
    }
   ],
   "source": [
    "sns.scatterplot(x=X_r[:,0],y=X_r[:,1])"
   ]
  },
  {
   "cell_type": "code",
   "execution_count": 46,
   "id": "fe4a93d1",
   "metadata": {},
   "outputs": [],
   "source": [
    "X_r = pd.DataFrame(X_r,index = decomp_index)"
   ]
  },
  {
   "cell_type": "code",
   "execution_count": 47,
   "id": "45cc34db",
   "metadata": {},
   "outputs": [
    {
     "data": {
      "image/png": "[encoded data removed]",
      "text/plain": [
       "<Figure size 432x288 with 1 Axes>"
      ]
     },
     "metadata": {},
     "output_type": "display_data"
    },
    {
     "data": {
      "image/png": "[encoded data removed]",
      "text/plain": [
       "<Figure size 720x432 with 1 Axes>"
      ]
     },
     "metadata": {},
     "output_type": "display_data"
    },
    {
     "data": {
      "text/plain": [
       "0    9415\n",
       "2      78\n",
       "5      12\n",
       "6      10\n",
       "1       2\n",
       "4       2\n",
       "3       1\n",
       "dtype: int64"
      ]
     },
     "execution_count": 47,
     "metadata": {},
     "output_type": "execute_result"
    }
   ],
   "source": [
    "# %%time\n",
    "n_clusters = 7\n",
    "\n",
    "\n",
    "# X = df_simp_imp\n",
    "X = X_r\n",
    "#.apply(lambda x: x.cat.codes if x.dtype=='category' else x)\n",
    "\n",
    "# values_x = pan_dataset_allr_values.columns[0]\n",
    "# values_y = pan_dataset_allr_values.columns[1]\n",
    "# value_df = pan_dataset_allr_values.loc[X.index]\n",
    "\n",
    "from sklearn.cluster import KMeans\n",
    "wcss = []\n",
    "for i in range(1, 11):\n",
    "    kmeans = KMeans(n_clusters = i, init = 'k-means++', random_state = 42)\n",
    "    kmeans.fit(X) \n",
    "    wcss.append(kmeans.inertia_)\n",
    "    \n",
    "plt.plot(range(1, 11), wcss)\n",
    "plt.xlabel('Number of clusters')\n",
    "plt.ylabel('WCSS') \n",
    "plt.show()\n",
    "\n",
    "# X.columns = [0,1]\n",
    "# X = X.values\n",
    "\n",
    "kmeans = KMeans(n_clusters = n_clusters, init = \"k-means++\", random_state = 42)\n",
    "y = kmeans.fit_predict(X)\n",
    "\n",
    "colour_list=  ['red','blue','green','violet','yellow','orange','black']\n",
    "\n",
    "# plt.figure(figsize=(10,6));\n",
    "# for cluster in range(0,n_clusters):\n",
    "#     plt.scatter(value_df.loc[y == cluster, values_x], value_df.loc[y == cluster, values_y],\n",
    "#                 s = 1, c = colour_list[cluster], label = 'Cluster'+str(cluster+1))\n",
    "    \n",
    "# plt.xlabel(pan_dataset_allr_values.columns[0])\n",
    "# plt.ylabel(pan_dataset_allr_values.columns[1])\n",
    "# plt.legend(bbox_to_anchor =(1.1,.625)) \n",
    "\n",
    "plt.figure(figsize=(10,6));\n",
    "for cluster in range(0,n_clusters):\n",
    "    plt.scatter(X.loc[y == cluster, X.columns[0]], X.loc[y == cluster, X.columns[1]],\n",
    "                s = 1, c = colour_list[cluster], label = 'Cluster'+str(cluster+1))\n",
    "    \n",
    "plt.xlabel(\"comp 0\")\n",
    "plt.ylabel(\"comp 1\")\n",
    "plt.legend(bbox_to_anchor =(1.1,.625)) \n",
    "\n",
    "plt.show()\n",
    "pd.Series(y).value_counts()"
   ]
  },
  {
   "cell_type": "code",
   "execution_count": 35,
   "id": "ac4e8d2f",
   "metadata": {},
   "outputs": [
    {
     "data": {
      "text/html": [
       "<div>\n",
       "<style scoped>\n",
       "    .dataframe tbody tr th:only-of-type {\n",
       "        vertical-align: middle;\n",
       "    }\n",
       "\n",
       "    .dataframe tbody tr th {\n",
       "        vertical-align: top;\n",
       "    }\n",
       "\n",
       "    .dataframe thead th {\n",
       "        text-align: right;\n",
       "    }\n",
       "</style>\n",
       "<table border=\"1\" class=\"dataframe\">\n",
       "  <thead>\n",
       "    <tr style=\"text-align: right;\">\n",
       "      <th></th>\n",
       "      <th>0</th>\n",
       "      <th>1</th>\n",
       "      <th>2</th>\n",
       "      <th>3</th>\n",
       "    </tr>\n",
       "  </thead>\n",
       "  <tbody>\n",
       "    <tr>\n",
       "      <th>turnoutUKGeneralW1__Very likely that I will vote</th>\n",
       "      <td>0.425386</td>\n",
       "      <td>-0.057966</td>\n",
       "      <td>-0.166734</td>\n",
       "      <td>-0.238413</td>\n",
       "    </tr>\n",
       "    <tr>\n",
       "      <th>turnoutUKGeneralW2__Very likely that I will vote</th>\n",
       "      <td>0.425386</td>\n",
       "      <td>-0.036995</td>\n",
       "      <td>-0.152070</td>\n",
       "      <td>-0.183002</td>\n",
       "    </tr>\n",
       "    <tr>\n",
       "      <th>turnoutUKGeneralW3__Very likely that I will vote</th>\n",
       "      <td>0.425386</td>\n",
       "      <td>-0.023844</td>\n",
       "      <td>-0.142822</td>\n",
       "      <td>-0.088490</td>\n",
       "    </tr>\n",
       "    <tr>\n",
       "      <th>turnoutUKGeneralW4__Very likely that I will vote</th>\n",
       "      <td>0.425386</td>\n",
       "      <td>-0.020015</td>\n",
       "      <td>-0.202946</td>\n",
       "      <td>-0.070820</td>\n",
       "    </tr>\n",
       "    <tr>\n",
       "      <th>turnoutUKGeneralW5__Very likely that I will vote</th>\n",
       "      <td>0.425386</td>\n",
       "      <td>0.003908</td>\n",
       "      <td>-0.100013</td>\n",
       "      <td>0.006484</td>\n",
       "    </tr>\n",
       "    <tr>\n",
       "      <th>...</th>\n",
       "      <td>...</td>\n",
       "      <td>...</td>\n",
       "      <td>...</td>\n",
       "      <td>...</td>\n",
       "    </tr>\n",
       "    <tr>\n",
       "      <th>responsibleEducationNoneW3_Yes</th>\n",
       "      <td>-0.279109</td>\n",
       "      <td>-0.033952</td>\n",
       "      <td>-0.033328</td>\n",
       "      <td>-0.001690</td>\n",
       "    </tr>\n",
       "    <tr>\n",
       "      <th>achieveReduceImmigLabW18_Yes</th>\n",
       "      <td>-0.279109</td>\n",
       "      <td>0.014103</td>\n",
       "      <td>-0.031150</td>\n",
       "      <td>-0.064046</td>\n",
       "    </tr>\n",
       "    <tr>\n",
       "      <th>achieveReduceImmigConW18_Yes</th>\n",
       "      <td>-0.279109</td>\n",
       "      <td>-0.151799</td>\n",
       "      <td>0.039227</td>\n",
       "      <td>-0.204112</td>\n",
       "    </tr>\n",
       "    <tr>\n",
       "      <th>partyContactConW3_Yes</th>\n",
       "      <td>-0.279109</td>\n",
       "      <td>-0.068743</td>\n",
       "      <td>-0.038189</td>\n",
       "      <td>-0.050379</td>\n",
       "    </tr>\n",
       "    <tr>\n",
       "      <th>partyContact1W3_Yes</th>\n",
       "      <td>-0.279109</td>\n",
       "      <td>-0.034772</td>\n",
       "      <td>-0.085111</td>\n",
       "      <td>-0.028032</td>\n",
       "    </tr>\n",
       "  </tbody>\n",
       "</table>\n",
       "<p>9520 rows × 4 columns</p>\n",
       "</div>"
      ],
      "text/plain": [
       "                                                         0         1  \\\n",
       "turnoutUKGeneralW1__Very likely that I will vote  0.425386 -0.057966   \n",
       "turnoutUKGeneralW2__Very likely that I will vote  0.425386 -0.036995   \n",
       "turnoutUKGeneralW3__Very likely that I will vote  0.425386 -0.023844   \n",
       "turnoutUKGeneralW4__Very likely that I will vote  0.425386 -0.020015   \n",
       "turnoutUKGeneralW5__Very likely that I will vote  0.425386  0.003908   \n",
       "...                                                    ...       ...   \n",
       "responsibleEducationNoneW3_Yes                   -0.279109 -0.033952   \n",
       "achieveReduceImmigLabW18_Yes                     -0.279109  0.014103   \n",
       "achieveReduceImmigConW18_Yes                     -0.279109 -0.151799   \n",
       "partyContactConW3_Yes                            -0.279109 -0.068743   \n",
       "partyContact1W3_Yes                              -0.279109 -0.034772   \n",
       "\n",
       "                                                         2         3  \n",
       "turnoutUKGeneralW1__Very likely that I will vote -0.166734 -0.238413  \n",
       "turnoutUKGeneralW2__Very likely that I will vote -0.152070 -0.183002  \n",
       "turnoutUKGeneralW3__Very likely that I will vote -0.142822 -0.088490  \n",
       "turnoutUKGeneralW4__Very likely that I will vote -0.202946 -0.070820  \n",
       "turnoutUKGeneralW5__Very likely that I will vote -0.100013  0.006484  \n",
       "...                                                    ...       ...  \n",
       "responsibleEducationNoneW3_Yes                   -0.033328 -0.001690  \n",
       "achieveReduceImmigLabW18_Yes                     -0.031150 -0.064046  \n",
       "achieveReduceImmigConW18_Yes                      0.039227 -0.204112  \n",
       "partyContactConW3_Yes                            -0.038189 -0.050379  \n",
       "partyContact1W3_Yes                              -0.085111 -0.028032  \n",
       "\n",
       "[9520 rows x 4 columns]"
      ]
     },
     "execution_count": 35,
     "metadata": {},
     "output_type": "execute_result"
    }
   ],
   "source": [
    "X_r"
   ]
  },
  {
   "cell_type": "code",
   "execution_count": 36,
   "id": "b9dbb2ef",
   "metadata": {},
   "outputs": [
    {
     "data": {
      "text/plain": [
       "Index(['winConstituencyLabW17__100 - Very likely to win', 'winConstituencyLabW18__100 - Very likely to win'], dtype='object')"
      ]
     },
     "execution_count": 36,
     "metadata": {},
     "output_type": "execute_result"
    }
   ],
   "source": [
    "X_r[y==6].index"
   ]
  },
  {
   "cell_type": "code",
   "execution_count": 37,
   "id": "4f6331eb",
   "metadata": {},
   "outputs": [
    {
     "data": {
      "text/plain": [
       "Index(['ageW1', 'ageW7', 'ageW8', 'ageW9', 'ageW11', 'ageW12', 'ageW13',\n",
       "       'ageW14', 'ageW16', 'ageW17', 'ageW18', 'ageW19', 'ageW2', 'ageW3',\n",
       "       'ageW4', 'ageW5', 'ageW6', 'ageW10', 'ageW15'],\n",
       "      dtype='object')"
      ]
     },
     "execution_count": 37,
     "metadata": {},
     "output_type": "execute_result"
    }
   ],
   "source": [
    "X_r[y==4].index"
   ]
  },
  {
   "cell_type": "code",
   "execution_count": 43,
   "id": "ac03331b",
   "metadata": {},
   "outputs": [
    {
     "data": {
      "text/plain": [
       "Index(['scotRefExpectationW1__100 - Scotland will definitely choose independence',\n",
       "       'scotRefExpectationTurnoutW1__100% of people will vote',\n",
       "       'scotRefExpectationW2__100 - Scotland will definitely choose independence',\n",
       "       'scotRefExpectationTurnoutW2__100% of people will vote', 'mapTurnoutW3',\n",
       "       'mapConW3', 'mapLabW3', 'mapWorkingClassW3', 'mapMiddleClassW3',\n",
       "       'mapWhiteW3', 'winConstituencySNPW4__100 - Very likely to win',\n",
       "       'winConstituencySNPW5__100 - Very likely to win',\n",
       "       'euRefExpectationW7__100 - UK will definitely vote to leave the EU',\n",
       "       'warmDenmarkW7__Very warm', 'warmFranceW7__Very warm',\n",
       "       'warmPolandW7__Very warm', 'warmRomaniaW7__Very warm',\n",
       "       'warmGreeceW7__Very warm', 'warmSpainW7__Very warm',\n",
       "       'warmUKW7__Very warm',\n",
       "       'euRefExpectationW8__100 - UK will definitely vote to leave the EU',\n",
       "       'winConstituencyConW10__100 - Very likely to win',\n",
       "       'winConstituencyLabW10__100 - Very likely to win',\n",
       "       'winConstituencyLDW11__100 - Very likely to win',\n",
       "       'warmWhiteW11__Very warm', 'warmAsianW11__Very warm',\n",
       "       'warmBlackW11__Very warm', 'warmEasternW11__Very warm',\n",
       "       'warmSyriansW11__Very warm', 'warmIndianW11__Very warm',\n",
       "       'warmWCW11__Very warm', 'warmMCW11__Very warm',\n",
       "       'warmBenefitsW11__Very warm', 'warmPoorW11__Very warm',\n",
       "       'warmRichW11__Very warm', 'warmMuslimW11__Very warm',\n",
       "       'warmChristianW11__Very warm', 'warmJewishW11__Very warm',\n",
       "       'warmAtheistW11__Very warm',\n",
       "       'winConstituencyLDW12__100 - Very likely to win',\n",
       "       'partyAgree2W12__100 - All of them support this party',\n",
       "       'rentPaymentW14', 'propMPLocalW14__100 - All of them',\n",
       "       'propMPFemaleW14__100 - All of them',\n",
       "       'propMPChristW14__100 - All of them',\n",
       "       'propMPDegreeW14__100 - All of them', 'warmMuslimW15__Very warm',\n",
       "       'warmChristianW15__Very warm', 'warmJewishW15__Very warm',\n",
       "       'warmAtheistW15__Very warm',\n",
       "       'winConstituencyConW16__100 - Very likely to win',\n",
       "       'winConstituencyLabW16__100 - Very likely to win', 'agreePartyW17',\n",
       "       'agreePartyW18', 'voteShareConW18__100% of votes',\n",
       "       'voteShareLabW18__100% of votes', 'voteShareConstConW18__100% of votes',\n",
       "       'voteShareConstLabW18__100% of votes'],\n",
       "      dtype='object')"
      ]
     },
     "execution_count": 43,
     "metadata": {},
     "output_type": "execute_result"
    }
   ],
   "source": [
    "X_r[y==5].index"
   ]
  },
  {
   "cell_type": "code",
   "execution_count": null,
   "id": "9a7369e3",
   "metadata": {},
   "outputs": [],
   "source": [
    "## some signs that it's working a bit!"
   ]
  }
 ],
 "metadata": {
  "kernelspec": {
   "display_name": "Python 3",
   "language": "python",
   "name": "python3"
  },
  "language_info": {
   "codemirror_mode": {
    "name": "ipython",
    "version": 3
   },
   "file_extension": ".py",
   "mimetype": "text/x-python",
   "name": "python",
   "nbconvert_exporter": "python",
   "pygments_lexer": "ipython3",
   "version": "3.7.12"
  }
 },
 "nbformat": 4,
 "nbformat_minor": 5
}
