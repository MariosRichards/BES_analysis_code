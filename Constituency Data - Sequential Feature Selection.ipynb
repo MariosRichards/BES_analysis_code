{
 "cells": [
  {
   "cell_type": "code",
   "execution_count": null,
   "id": "ce9cca73",
   "metadata": {},
   "outputs": [],
   "source": []
  },
  {
   "cell_type": "code",
   "execution_count": 1,
   "id": "d04be618",
   "metadata": {},
   "outputs": [
    {
     "data": {
      "text/html": [
       "<script>jQuery(function() {if (jQuery(\"body.notebook_app\").length == 0) { jQuery(\".input_area\").toggle(); jQuery(\".prompt\").toggle();}});</script>"
      ]
     },
     "metadata": {},
     "output_type": "display_data"
    },
    {
     "data": {
      "text/html": [
       "<button onclick=\"jQuery('.input_area').toggle(); jQuery('.prompt').toggle();\">Toggle code</button>"
      ]
     },
     "metadata": {},
     "output_type": "display_data"
    }
   ],
   "source": [
    "dataset_name = \"W14_comb\"\n",
    "df_list = 'BES_Panel'\n",
    "#            'BES_reduced_with_na'\n",
    "#           ]#,\"BESnumeric\"]\n",
    "\n",
    "%matplotlib inline \n",
    "%run BES_header.py {dataset_name} {df_list}\n",
    "\n",
    "del BES_Panel"
   ]
  },
  {
   "cell_type": "code",
   "execution_count": 2,
   "id": "d8050772",
   "metadata": {},
   "outputs": [
    {
     "name": "stdout",
     "output_type": "stream",
     "text": [
      "BES_census_data 2019 (632, 385)\n",
      "BES_census_data (632, 308)\n",
      "BES_census_data 2015 (632, 277)\n"
     ]
    }
   ],
   "source": [
    "BES_census_data_2019 = pd.read_stata( BES_small_data_files + \"BES-2019-General-Election-results-file-v1.0.dta\" )\n",
    "print(\"BES_census_data 2019\", BES_census_data_2019.shape )\n",
    "\n",
    "BES_census_data_2017 = pd.read_stata( BES_small_data_files + \"BES-2017-General-Election-results-file-v1.0.dta\" )\n",
    "print(\"BES_census_data\", BES_census_data_2017.shape )\n",
    "\n",
    "BES_census_data_2015 = pd.read_stata( BES_small_data_files + \"BES-2015-General-Election-results-file-v2.21.dta\" )\n",
    "print(\"BES_census_data 2015\", BES_census_data_2015.shape )\n",
    "\n",
    "BES_census_data = BES_census_data_2019.copy()\n",
    "\n",
    "#### BUG! -> check if in latest release, if yes, then tell them! ###########\n",
    "BES_census_data.loc[BES_census_data[\"Country\"].isin([\"Scotland\"]),\"c11Households\"] =\\\n",
    "    BES_census_data.loc[BES_census_data[\"Country\"].isin([\"Scotland\"]),\"c11Households\"]*100\n",
    "BES_census_data[\"ConstituencyName\"] = BES_census_data[\"ConstituencyName\"].replace(\"Ynys Môn\",\"Ynys Mon\")\n",
    "BES_census_data[\"Winner15\"] = BES_census_data[\"Winner15\"].replace(\"Speaker.\",\"Speaker\")\n",
    "\n",
    "BES_census_data[search(BES_census_data_2015,\"SpendPercent\").index] = BES_census_data_2015[search(BES_census_data_2015,\"SpendPercent\").index]\n",
    "\n",
    "BES_census_data[['SNPLongSpendPercent', 'SNPShortSpendPercent',\n",
    "       'PCLongSpendPercent', 'PCShortSpendPercent']] = BES_census_data[['SNPLongSpendPercent', 'SNPShortSpendPercent',\n",
    "       'PCLongSpendPercent', 'PCShortSpendPercent']].replace(\".\",np.nan).astype('float')"
   ]
  },
  {
   "cell_type": "code",
   "execution_count": 3,
   "id": "1ca42b51",
   "metadata": {},
   "outputs": [],
   "source": [
    "party_19_list = search(BES_census_data,\"^(Con|Lab|Brexit|LD|UKIP|SNP|PC|Green)19$\").index\n",
    "BES_census_data[[x+\"_elec\" for x in party_19_list]] = BES_census_data[party_19_list].apply(lambda x: x*BES_census_data[\"Turnout19\"]/100).fillna(0)\n",
    "BES_census_data[\"DNV19_elec\"] = 100-BES_census_data[\"Turnout19\"]\n",
    "BES_census_data[\"DNV&OTH19_elec\"] = 100-BES_census_data[\"Turnout19\"]-BES_census_data[\"Other19\"].fillna(0)\n",
    "BES_census_data[\"Auth_Right19_elec\"] = BES_census_data[\"Con19_elec\"]+BES_census_data[\"UKIP19_elec\"]+BES_census_data[\"Brexit19_elec\"]\n",
    "BES_census_data[\"Lib_Left19_elec\"] = BES_census_data[\"Lab19_elec\"]+BES_census_data[\"LD19_elec\"]+BES_census_data[\"PC19_elec\"]+BES_census_data[\"SNP19_elec\"]+BES_census_data[\"Green19_elec\"]\n",
    "\n",
    "party_17_list = search(BES_census_data,\"^(Con|Lab|Brexit|LD|UKIP|SNP|PC|Green)17$\").index\n",
    "BES_census_data[[x+\"_elec\" for x in party_17_list]] = BES_census_data[party_17_list].apply(lambda x: x*BES_census_data[\"Turnout17\"]/100).fillna(0)\n",
    "BES_census_data[\"DNV17_elec\"] = 100-BES_census_data[\"Turnout17\"]\n",
    "BES_census_data[\"DNV&OTH17_elec\"] = 100-BES_census_data[\"Turnout17\"]-BES_census_data[\"Other17\"].fillna(0)\n",
    "BES_census_data[\"Auth_Right17_elec\"] = BES_census_data[\"Con17_elec\"]+BES_census_data[\"UKIP17_elec\"]#+BES_census_data[\"Brexit17_elec\"]\n",
    "BES_census_data[\"Lib_Left17_elec\"] = BES_census_data[\"Lab17_elec\"]+BES_census_data[\"LD17_elec\"]+BES_census_data[\"PC17_elec\"]\\\n",
    "                                    +BES_census_data[\"SNP17_elec\"]+BES_census_data[\"Green17_elec\"]\n",
    "\n",
    "party_15_list = search(BES_census_data,\"^(Con|Lab|Brexit|LD|UKIP|SNP|PC|Green)15$\").index\n",
    "BES_census_data[[x+\"_elec\" for x in party_15_list]] = BES_census_data[party_15_list]\\\n",
    "                                    .apply(lambda x: x*BES_census_data[\"Turnout15\"]/100).fillna(0)\n",
    "BES_census_data[\"DNV15_elec\"] = 100-BES_census_data[\"Turnout15\"]\n",
    "BES_census_data[\"DNV&OTH15_elec\"] = 100-BES_census_data[\"Turnout15\"]-BES_census_data[\"Other15\"].fillna(0)\n",
    "BES_census_data[\"Auth_Right15_elec\"] = BES_census_data[\"Con15_elec\"]+BES_census_data[\"UKIP15_elec\"]#+BES_census_data[\"Brexit17_elec\"]\n",
    "BES_census_data[\"Lib_Left15_elec\"] = BES_census_data[\"Lab15_elec\"]+BES_census_data[\"LD15_elec\"]+BES_census_data[\"PC15_elec\"]\\\n",
    "                                    +BES_census_data[\"SNP15_elec\"]+BES_census_data[\"Green15_elec\"]\n",
    "\n",
    "party_10_list = search(BES_census_data,\"^(Con|Lab|BNP|LD|UKIP|SNP|PC|Green)10$\").index\n",
    "BES_census_data[[x+\"_elec\" for x in party_10_list]] = BES_census_data[party_10_list].apply(lambda x: x*BES_census_data[\"Turnout10\"]/100).fillna(0)\n",
    "BES_census_data[\"DNV10_elec\"] = 100-BES_census_data[\"Turnout10\"]\n",
    "BES_census_data[\"DNV&OTH10_elec\"] = 100-(BES_census_data[party_10_list].apply(lambda x: x*BES_census_data[\"Turnout10\"]/100).sum(axis=1))\n",
    "BES_census_data[\"Auth_Right10_elec\"] = BES_census_data[\"Con10_elec\"]+BES_census_data[\"UKIP10_elec\"]+BES_census_data[\"BNP10_elec\"]\n",
    "BES_census_data[\"Lib_Left10_elec\"] = BES_census_data[\"Lab10_elec\"]+BES_census_data[\"LD10_elec\"]+BES_census_data[\"PC10_elec\"]\\\n",
    "                                    +BES_census_data[\"SNP10_elec\"]+BES_census_data[\"Green10_elec\"]\n",
    "\n",
    "party_05_list = search(BES_census_data,\"^(Con|Lab|BNP|LD|UKIP|SNP|PC|Green)05$\").index\n",
    "BES_census_data[[x+\"_elec\" for x in party_05_list]] = BES_census_data[party_05_list].apply(lambda x: x*BES_census_data[\"Turnout05\"]/100).fillna(0)\n",
    "BES_census_data[\"DNV05_elec\"] = 100-BES_census_data[\"Turnout05\"]\n",
    "BES_census_data[\"DNV&OTH05_elec\"] = 100-BES_census_data[\"Turnout05\"]-BES_census_data[\"Other05\"].fillna(0)\n",
    "BES_census_data[\"Auth_Right05_elec\"] = BES_census_data[\"Con05_elec\"]+BES_census_data[\"UKIP05_elec\"]+BES_census_data[\"BNP05_elec\"]\n",
    "BES_census_data[\"Lib_Left05_elec\"] = BES_census_data[\"Lab05_elec\"]+BES_census_data[\"LD05_elec\"]+BES_census_data[\"PC05_elec\"]\\\n",
    "                                    +BES_census_data[\"SNP05_elec\"]+BES_census_data[\"Green05_elec\"]\n"
   ]
  },
  {
   "cell_type": "code",
   "execution_count": 4,
   "id": "07bcbde5",
   "metadata": {},
   "outputs": [],
   "source": [
    "welsh_df = pd.read_excel( open(BES_small_data_files+'welsh_constituency_data.xls','rb'), sheet_name='WelshLanguage' )\n",
    "welsh_df.columns = welsh_df.loc[4]\n",
    "welsh_df = welsh_df.drop([0,1,2,3,4,50,51,52])\n",
    "welsh_df = welsh_df.replace(\"Ynys Môn\",\"Ynys Mon\")\n",
    "welsh_df = welsh_df.set_index(\"Assembly Constituency Area\")\n",
    "BES_census_data[\"speakWelsh\"] = [welsh_df.loc[x,\"Percentage aged 3+ who can speak Welsh\"] if x in welsh_df.index else 0 for x in BES_census_data[\"ConstituencyName\"]  ]\n",
    "\n",
    "occ_df = pd.read_excel( open(BES_small_data_files+'Census2011-ConstituencyProfile-uk.xlsx','rb'), sheet_name='KS608D' )\n",
    "occ_df.columns = occ_df.loc[3]\n",
    "occ_df = occ_df.drop([0,1,2,3,654,])\n",
    "# occ_df\n",
    "\n",
    "var_list = [\"CON%ELEM\",\"CON%OPS\",\"CON%SAL_SERV\",\"CON%CAR_LEI_\",\"CON%SKILL\",\"CON%ADMIN_SEC\",\"CON%ASSOC_PROF_TECH\",\n",
    " \"CON%PROF\",\"CON%MAN_DIR_SEN\"]\n",
    "\n",
    "# occ_df = occ_df.set_index(\"ONSConstID\").loc[merged.index]\n",
    "# var_list = [\"CON%ELEM\",\"CON%OPS\",\"CON%SAL_SERV\",\"CON%CAR_LEI_\",\"CON%SKILL\",\"CON%ADMIN_SEC\",\"CON%ASSOC_PROF_TECH\",\n",
    "#  \"CON%PROF\",\"CON%MAN_DIR_SEN\"]\n",
    "\n",
    "BES_census_data[var_list] = occ_df.set_index(\"ONSConstID\").loc[BES_census_data[\"ONSConstID\"]][var_list].values\n",
    "\n",
    "merseyside = [\"Birkenhead\",\"Bootle\",\"Garston and Halewood\",\"Knowsley\",\n",
    "             \"Liverpool, Riverside\",\"Liverpool, Walton\",\"Liverpool, Wavertree\",\"Liverpool, West Derby\",\n",
    "             \"Sefton Central\",\"Southport\",\"St Helens North\",\"St Helens South and Whiston\",\n",
    "             \"Wallasey\",\"Wirral South\",\"Wirral West\"]\n",
    "\n",
    "BES_census_data[\"Merseyside\"] = BES_census_data[\"ConstituencyName\"].isin(merseyside).astype('float')"
   ]
  },
  {
   "cell_type": "code",
   "execution_count": 5,
   "id": "ec43f90c",
   "metadata": {},
   "outputs": [],
   "source": [
    "df = pd.read_csv(BES_small_data_files+\"CentreForTowns\"+os.sep+\"pcon-classification-csv.csv\")\n",
    "\n",
    "# https://www.centrefortowns.org/our-towns\n",
    "    \n",
    "# Type\tDefinition\tNumber\n",
    "# Villages (less than 5,000)\tPlaces with less than 5,000 residents\t5,568\n",
    "# Communities (5-10k)\tPlaces with between 5,000 and 10,000 residents\t567\n",
    "# Small towns (10k-30k)\tTowns with between 10,000 and 30,000 residents\t550\n",
    "# Medium towns (30k – 75k)\tTowns with between 30,000 and 75,000 residents\t242\n",
    "# Large towns (over 75k)\tTowns with over 75,000 residents\t102\n",
    "# Core Cities\tCore cities as defined by Pike et al (2016)\t12\n",
    "\n",
    "## doesn't seem so consisent - where is 'communities!'\n",
    "replace_dict = {\"Village or Smaller\":\"Village or smaller\",}\n",
    "df[\"classification\"] = df[\"classification\"].replace(replace_dict)\n",
    "centre_for_towns = df.pivot(index='constituency_code', columns='classification', values='percent_of_constituency').fillna(0)\n",
    "BES_census_data[centre_for_towns.columns] = centre_for_towns.loc[BES_census_data[\"ONSConstID\"]].values"
   ]
  },
  {
   "cell_type": "code",
   "execution_count": 6,
   "id": "2a723fee",
   "metadata": {},
   "outputs": [],
   "source": [
    "parl_con_aggs = pd.read_csv(BES_small_data_files+\"parliamentary constituency data\"+os.sep+\"Lots of aggregated parliamentary data.csv\")\n",
    "\n",
    "parl_con_aggs = parl_con_aggs.set_index(\"ONSConstID\").drop(['Unnamed: 0', 'pano',\n",
    " 'RESULTS2019_OTHER', 'RESULTS2019_Registered Voters', 'YOUGOVMRP_DEC_Con', 'YOUGOVMRP_DEC_Lab', 'YOUGOVMRP_DEC_LD',\n",
    "       'YOUGOVMRP_DEC_Brexit', 'YOUGOVMRP_DEC_Green', 'YOUGOVMRP_DEC_SNP',\n",
    "       'YOUGOVMRP_DEC_PC', 'YOUGOVMRP_DEC_Other', 'YOUGOVMRP_NOV_Con',\n",
    "       'YOUGOVMRP_NOV_Lab', 'YOUGOVMRP_NOV_LD', 'YOUGOVMRP_NOV_Brexit',\n",
    "       'YOUGOVMRP_NOV_Green', 'YOUGOVMRP_NOV_SNP', 'YOUGOVMRP_NOV_PC',\n",
    "       'YOUGOVMRP_NOV_Other', 'ConVote17', 'TotalVote17', 'RejectedVote17',\n",
    "       'Electorate17', 'ConVote15', 'TotalVote15', 'RejectedVote15',\n",
    "       'Electorate15', 'ConVote10', 'TotalVote10', 'Electorate10',\n",
    "       'c11Population','RESULTS2019_CON', 'RESULTS2019_LAB',\n",
    "       'RESULTS2019_LIBDEM', 'RESULTS2019_GRN', 'RESULTS2019_SNP',\n",
    "       'RESULTS2019_PC', 'RESULTS2019_BXP', 'RESULTS2019_UKIP',\n",
    "       'RESULTS2019_Turnout','Turn10'],axis=1).select_dtypes(['float64','int64'])\n",
    "parl_con_aggs = parl_con_aggs.drop(set(parl_con_aggs.columns).intersection(set(BES_census_data.columns)),axis=1)\n",
    "parl_con_aggs = parl_con_aggs.loc[BES_census_data[\"ONSConstID\"]]\n",
    "\n",
    "BES_census_data[parl_con_aggs.columns] = parl_con_aggs.values\n",
    "BES_census_data.columns = [x.replace(\"<\",\"LT\") for x in BES_census_data.columns]"
   ]
  },
  {
   "cell_type": "code",
   "execution_count": 7,
   "id": "a805cf3b",
   "metadata": {},
   "outputs": [],
   "source": [
    "BES_constituency_aggregates = pd.read_csv(BES_small_data_files+\"parliamentary constituency data\"+os.sep+\"BES_constituency_aggregates.csv\")\n",
    "BES_constituency_aggregates = BES_constituency_aggregates.set_index(\"ons_const_id\").drop([\"Unnamed: 0\",\"constituency_name\",\"pano\"],axis=1).loc[BES_census_data[\"ONSConstID\"]]\n",
    "# (632, 6868)\n",
    "\n",
    "## a lot - won't add before testing!\n",
    "nomis_dump = pd.read_csv(BES_data_folder+\"Nomis\"+os.sep+\"2011ONS_England&Wales_by_parlcon.csv\")\n",
    "nomis_dump = nomis_dump.set_index(\"Unnamed: 0\").loc[BES_census_data[\"ONSConstID\"][~BES_census_data[\"Country\"].isin([\"Scotland\"])]]\n",
    "## England&Wales"
   ]
  },
  {
   "cell_type": "code",
   "execution_count": 8,
   "id": "b8e07c24",
   "metadata": {},
   "outputs": [],
   "source": [
    "drop_cols = ['Winner17', 'Winner15', 'Winner10','pano',#category\n",
    "            'ConVote17', 'TotalVote17', 'Electorate17', 'ConVote15', 'TotalVote15',\n",
    "       'Electorate15', 'ConVote10', 'TotalVote10', 'Electorate10', #int\n",
    "             'LabVote19', 'Electorate19','RejectedVote19','LabVote05',\n",
    "              'Lab17', 'LD17', 'SNP17', 'PC17', 'UKIP17', 'Green17',\n",
    "             'Con0510', 'Lab0510', 'LD0510', 'SNP0510', 'PC0510',\n",
    "       'BNP0510', 'UKIP0510', 'Green0510',\n",
    "             'Con19', 'Lab19', 'LD19', 'SNP19', 'PC19', 'UKIP19', 'Green19',\n",
    "       'Brexit19', 'Other19', 'Majority19', 'Turnout19', 'TotalVote19',\n",
    "       'Con1719', 'Lab1719', 'LD1719', 'SNP1719', 'PC1719', 'UKIP1719',\n",
    "       'Green1719',\n",
    "             'ConVote19', 'LDVote19', 'SNPVote19', 'PCVote19', 'UKIPVote19',\n",
    "       'GreenVote19', 'BrexitVote19',\n",
    "             'leaveHanretty', 'remainHanretty',\n",
    "             'Con05', 'Lab05', 'LD05', 'SNP05', 'PC05', 'UKIP05',\n",
    "       'Green05', 'BNP05', 'Other05', 'Majority05', 'Turnout05', 'ConVote05',\n",
    "       'LDVote05', 'SNPVote05', 'PCVote05', 'UKIPVote05', 'GreenVote05',\n",
    "       'BNPVote05',\n",
    "             'Winner05', 'ConPPCsex19', 'LabPPCsex19',\n",
    "       'LDPPCsex19', 'SNPPPCsex19', 'PCPPCsex19', 'UKIPPPCsex19',\n",
    "       'GreenPPCsex19', 'BrexitPPCsex19',\n",
    "             # 'Con17',\n",
    "       'Other17', 'Majority17', 'Turnout17', 'LabVote17', 'LDVote17',\n",
    "       'SNPVote17', 'PCVote17', 'UKIPVote17', 'GreenVote17', 'Con1517',\n",
    "       'Lab1517', 'LD1517', 'SNP1517', 'PC1517', 'UKIP1517', 'Green1517',\n",
    "       'Con15', 'Lab15', 'LD15', 'SNP15', 'PC15', 'UKIP15', 'Green15',\n",
    "       'Other15', 'Majority15', 'Turnout15', 'LabVote15', 'LDVote15',\n",
    "       'SNPVote15', 'PCVote15', 'UKIPVote15', 'GreenVote15', 'BNPVote15',\n",
    "       'Con1015', 'Lab1015', 'LD1015', 'SNP1015', 'PC1015', 'UKIP1015',\n",
    "       'Green1015', 'Con10', 'Lab10', 'LD10', 'SNP10', 'PC10', 'UKIP10',\n",
    "       'Green10', 'BNP10', 'Majority10', 'LabVote10', 'LDVote10',\n",
    "       'SNPVote10', 'PCVote10', 'UKIPVote10', 'GreenVote10', 'BNPVote10',## float\n",
    "       'ONSConstID', 'ConstituencyName', 'SeatChange1517', 'SeatChange1015',\n",
    "       'ConPPC17', 'LabPPC17', 'LDPPC17', 'SNPPPC17', 'PCPPC17', 'UKIPPPC17',\n",
    "       'GreenPPC17', 'ConPPC15', 'LabPPC15', 'LDPPC15', 'SNPPPC15', 'PCPPC15',\n",
    "       'UKIPPPC15', 'GreenPPC15',     # object\n",
    "       'ONSConstID', 'ConstituencyName', 'SeatChange1719', 'SeatChange1517',\n",
    "       'SeatChange1015', 'ConPPC19', 'LabPPC19', 'LDPPC19', 'SNPPPC19',\n",
    "       'PCPPC19', 'UKIPPPC19', 'GreenPPC19', 'BrexitPPC19', 'ConPPC17',\n",
    "       'LabPPC17', 'LDPPC17', 'SNPPPC17', 'PCPPC17', 'UKIPPPC17', 'GreenPPC17',\n",
    "       'ConPPC15', 'LabPPC15', 'LDPPC15', 'SNPPPC15', 'PCPPC15', 'UKIPPPC15',\n",
    "       'GreenPPC15',\n",
    "             'ConLongSpendPercent',\n",
    "       'ConShortSpendPercent', 'LabLongSpendPercent', 'LabShortSpendPercent',\n",
    "       'LDLongSpendPercent', 'LDShortSpendPercent', 'SNPLongSpendPercent',\n",
    "       'SNPShortSpendPercent', 'PCLongSpendPercent', 'PCShortSpendPercent',\n",
    "       'UKIPLongSpendPercent', 'UKIPShortSpendPercent',\n",
    "       'GreenLongSpendPercent', 'GreenShortSpendPercent',\n",
    "             'FOCALDATAMRP_DEC_Conservative',\n",
    " 'FOCALDATAMRP_DEC_Labour',\n",
    " 'FOCALDATAMRP_DEC_Liberal Democrats',\n",
    " 'FOCALDATAMRP_DEC_SNP',\n",
    " 'FOCALDATAMRP_DEC_Other',\n",
    " 'FOCALDATAMRP_DEC_Green',\n",
    " 'FOCALDATAMRP_DEC_Brexit Party',\n",
    " 'FOCALDATAMRP_DEC_Plaid Cymru',\n",
    "        'Winner19',\n",
    "             'POLCOMP_Ec-Left-Right', 'POLCOMP_Soc-Lib-Con',\n",
    "             'Turnout10',\n",
    "            ]+['Con19_elec', 'Lab19_elec',\n",
    "       'LD19_elec', 'SNP19_elec', 'PC19_elec', 'UKIP19_elec', 'Green19_elec',\n",
    "       'Brexit19_elec', 'DNV19_elec', 'DNV&OTH19_elec', 'Auth_Right19_elec',\n",
    "       'Lib_Left19_elec', 'Con17_elec', 'Lab17_elec', 'LD17_elec',\n",
    "       'SNP17_elec', 'PC17_elec', 'UKIP17_elec', 'Green17_elec', 'DNV17_elec',\n",
    "       'DNV&OTH17_elec', 'Auth_Right17_elec', 'Lib_Left17_elec', 'Con15_elec',\n",
    "       'Lab15_elec', 'LD15_elec', 'SNP15_elec', 'PC15_elec', 'UKIP15_elec',\n",
    "       'Green15_elec', 'DNV15_elec', 'DNV&OTH15_elec', 'Auth_Right15_elec',\n",
    "       'Lib_Left15_elec', 'Con10_elec', 'Lab10_elec', 'LD10_elec',\n",
    "       'SNP10_elec', 'PC10_elec', 'UKIP10_elec', 'Green10_elec', 'BNP10_elec',\n",
    "       'DNV10_elec', 'DNV&OTH10_elec', 'Auth_Right10_elec', 'Lib_Left10_elec',\n",
    "       'Con05_elec', 'Lab05_elec', 'LD05_elec', 'SNP05_elec', 'PC05_elec',\n",
    "       'UKIP05_elec', 'Green05_elec', 'BNP05_elec', 'DNV05_elec',\n",
    "       'DNV&OTH05_elec', 'Auth_Right05_elec', 'Lib_Left05_elec']+['TotalVote19',\n",
    "                                                                  'TotalVote17', 'TotalVote15', 'TotalVote10',\n",
    "       'TotalVote05','CLOCKFACEREP_diversity', 'CLOCKFACEREP_security',\n",
    "       'CLOCKFACEREP_fecundity', 'CLOCKFACEREP_diversity_flatter',\n",
    "       'CLOCKFACEREP_security_flatter',\n",
    "        'LL17_elec', 'G-L-L17_elec','G-L17_elec',\n",
    "        \"LL15_elec\",\"LL10_elec\",\"LL05_elec\",\n",
    "        \"G-L15_elec\",\"G-L10_elec\",\"G-L05_elec\",\n",
    "        \"Con17\",\n",
    "                                                ]\n",
    "\n",
    "# 'c11Population'\n",
    "\n",
    "# df_simp = pd.get_dummies(BES_census_data.drop(drop_cols,axis=1))"
   ]
  },
  {
   "cell_type": "code",
   "execution_count": 9,
   "id": "0199e6ad",
   "metadata": {},
   "outputs": [],
   "source": [
    "import geopandas as gpd\n",
    "# set the filepath and load in a shapefile\n",
    "fp = BES_small_data_files+\"very_very_simplified_wpc.json\"\n",
    "map_df = gpd.read_file(fp)\n",
    "# check data type so we can see that this is not a normal dataframe, but a GEOdataframe\n",
    "# map_df.head()\n",
    "# now let's preview what our map looks like with no data in it\n",
    "# map_df.plot();\n",
    "# join the geodataframe with the cleaned up csv dataframe\n",
    "merged = map_df.set_index(\"PCON13CD\").join(BES_census_data.set_index(\"ONSConstID\"))\n",
    "merged = merged.loc[BES_census_data[\"ONSConstID\"]]\n",
    "# merged.head()"
   ]
  },
  {
   "cell_type": "code",
   "execution_count": 10,
   "id": "f830c8cf",
   "metadata": {},
   "outputs": [],
   "source": [
    "df_simp = pd.get_dummies(BES_census_data.drop(drop_cols,axis=1,errors='ignore'))\n",
    "df_simp = df_simp.fillna(df_simp.mean())\n",
    "df_simp = df_simp.dropna(axis=1)"
   ]
  },
  {
   "cell_type": "code",
   "execution_count": null,
   "id": "fc086a79",
   "metadata": {},
   "outputs": [],
   "source": [
    "from mlxtend.feature_selection import SequentialFeatureSelector as SFS\n",
    "from sklearn.linear_model import LinearRegression\n",
    "from mlxtend.plotting import plot_sequential_feature_selection as plot_sfs\n",
    "\n",
    "import statsmodels.api as sm"
   ]
  },
  {
   "cell_type": "code",
   "execution_count": null,
   "id": "87dd4ca8",
   "metadata": {},
   "outputs": [],
   "source": [
    "from sklearn.neighbors import KNeighborsClassifier\n",
    "from sklearn.datasets import load_iris\n",
    "from mlxtend.feature_selection import ExhaustiveFeatureSelector as EFS\n",
    "\n",
    "from sklearn.linear_model import LinearRegression\n",
    "from sklearn.datasets import load_boston\n",
    "\n",
    "from sklearn.neighbors import KNeighborsClassifier\n",
    "from sklearn.datasets import load_iris\n",
    "from mlxtend.feature_selection import ExhaustiveFeatureSelector as EFS\n",
    "from sklearn.model_selection import LeaveOneOut\n",
    "\n",
    "from sklearn.neighbors import KNeighborsClassifier\n",
    "from sklearn.datasets import load_iris\n",
    "from mlxtend.feature_selection import ExhaustiveFeatureSelector as EFS\n",
    "\n",
    "from sklearn.linear_model import LinearRegression\n",
    "from sklearn.datasets import load_boston"
   ]
  },
  {
   "cell_type": "code",
   "execution_count": 11,
   "id": "00dc49b4",
   "metadata": {},
   "outputs": [],
   "source": []
  },
  {
   "cell_type": "code",
   "execution_count": 11,
   "id": "6a53f13d",
   "metadata": {},
   "outputs": [
    {
     "data": {
      "text/html": [
       "<table class=\"simpletable\">\n",
       "<caption>OLS Regression Results</caption>\n",
       "<tr>\n",
       "  <th>Dep. Variable:</th>          <td>Con17</td>      <th>  R-squared:         </th> <td>   0.863</td> \n",
       "</tr>\n",
       "<tr>\n",
       "  <th>Model:</th>                   <td>OLS</td>       <th>  Adj. R-squared:    </th> <td>   0.862</td> \n",
       "</tr>\n",
       "<tr>\n",
       "  <th>Method:</th>             <td>Least Squares</td>  <th>  F-statistic:       </th> <td>   510.5</td> \n",
       "</tr>\n",
       "<tr>\n",
       "  <th>Date:</th>             <td>Wed, 16 Mar 2022</td> <th>  Prob (F-statistic):</th> <td>1.42e-239</td>\n",
       "</tr>\n",
       "<tr>\n",
       "  <th>Time:</th>                 <td>20:41:02</td>     <th>  Log-Likelihood:    </th> <td>  846.73</td> \n",
       "</tr>\n",
       "<tr>\n",
       "  <th>No. Observations:</th>      <td>   573</td>      <th>  AIC:               </th> <td>  -1677.</td> \n",
       "</tr>\n",
       "<tr>\n",
       "  <th>Df Residuals:</th>          <td>   565</td>      <th>  BIC:               </th> <td>  -1643.</td> \n",
       "</tr>\n",
       "<tr>\n",
       "  <th>Df Model:</th>              <td>     7</td>      <th>                     </th>     <td> </td>    \n",
       "</tr>\n",
       "<tr>\n",
       "  <th>Covariance Type:</th>      <td>nonrobust</td>    <th>                     </th>     <td> </td>    \n",
       "</tr>\n",
       "</table>\n",
       "<table class=\"simpletable\">\n",
       "<tr>\n",
       "         <td></td>            <th>coef</th>     <th>std err</th>      <th>t</th>      <th>P>|t|</th>  <th>[0.025</th>    <th>0.975]</th>  \n",
       "</tr>\n",
       "<tr>\n",
       "  <th>const</th>           <td>    0.8504</td> <td>    0.049</td> <td>   17.482</td> <td> 0.000</td> <td>    0.755</td> <td>    0.946</td>\n",
       "</tr>\n",
       "<tr>\n",
       "  <th>c11Deprived3</th>    <td>   -0.0427</td> <td>    0.002</td> <td>  -22.993</td> <td> 0.000</td> <td>   -0.046</td> <td>   -0.039</td>\n",
       "</tr>\n",
       "<tr>\n",
       "  <th>c11QualLevel4</th>   <td>   -0.0122</td> <td>    0.001</td> <td>  -21.162</td> <td> 0.000</td> <td>   -0.013</td> <td>   -0.011</td>\n",
       "</tr>\n",
       "<tr>\n",
       "  <th>c11Age60to64</th>    <td>   -0.0043</td> <td>    0.003</td> <td>   -1.415</td> <td> 0.158</td> <td>   -0.010</td> <td>    0.002</td>\n",
       "</tr>\n",
       "<tr>\n",
       "  <th>CON%MAN_DIR_SEN</th> <td>    0.0281</td> <td>    0.002</td> <td>   13.805</td> <td> 0.000</td> <td>    0.024</td> <td>    0.032</td>\n",
       "</tr>\n",
       "<tr>\n",
       "  <th>CON%SAL_SERV</th>    <td>   -0.0147</td> <td>    0.002</td> <td>   -6.165</td> <td> 0.000</td> <td>   -0.019</td> <td>   -0.010</td>\n",
       "</tr>\n",
       "<tr>\n",
       "  <th>Merseyside</th>      <td>   -0.0972</td> <td>    0.015</td> <td>   -6.391</td> <td> 0.000</td> <td>   -0.127</td> <td>   -0.067</td>\n",
       "</tr>\n",
       "<tr>\n",
       "  <th>speakWelsh</th>      <td>   -0.2954</td> <td>    0.038</td> <td>   -7.813</td> <td> 0.000</td> <td>   -0.370</td> <td>   -0.221</td>\n",
       "</tr>\n",
       "</table>\n",
       "<table class=\"simpletable\">\n",
       "<tr>\n",
       "  <th>Omnibus:</th>       <td>20.799</td> <th>  Durbin-Watson:     </th> <td>   1.754</td>\n",
       "</tr>\n",
       "<tr>\n",
       "  <th>Prob(Omnibus):</th> <td> 0.000</td> <th>  Jarque-Bera (JB):  </th> <td>  25.471</td>\n",
       "</tr>\n",
       "<tr>\n",
       "  <th>Skew:</th>          <td>-0.374</td> <th>  Prob(JB):          </th> <td>2.95e-06</td>\n",
       "</tr>\n",
       "<tr>\n",
       "  <th>Kurtosis:</th>      <td> 3.713</td> <th>  Cond. No.          </th> <td>    676.</td>\n",
       "</tr>\n",
       "</table><br/><br/>Notes:<br/>[1] Standard Errors assume that the covariance matrix of the errors is correctly specified."
      ],
      "text/plain": [
       "<class 'statsmodels.iolib.summary.Summary'>\n",
       "\"\"\"\n",
       "                            OLS Regression Results                            \n",
       "==============================================================================\n",
       "Dep. Variable:                  Con17   R-squared:                       0.863\n",
       "Model:                            OLS   Adj. R-squared:                  0.862\n",
       "Method:                 Least Squares   F-statistic:                     510.5\n",
       "Date:                Wed, 16 Mar 2022   Prob (F-statistic):          1.42e-239\n",
       "Time:                        20:41:02   Log-Likelihood:                 846.73\n",
       "No. Observations:                 573   AIC:                            -1677.\n",
       "Df Residuals:                     565   BIC:                            -1643.\n",
       "Df Model:                           7                                         \n",
       "Covariance Type:            nonrobust                                         \n",
       "===================================================================================\n",
       "                      coef    std err          t      P>|t|      [0.025      0.975]\n",
       "-----------------------------------------------------------------------------------\n",
       "const               0.8504      0.049     17.482      0.000       0.755       0.946\n",
       "c11Deprived3       -0.0427      0.002    -22.993      0.000      -0.046      -0.039\n",
       "c11QualLevel4      -0.0122      0.001    -21.162      0.000      -0.013      -0.011\n",
       "c11Age60to64       -0.0043      0.003     -1.415      0.158      -0.010       0.002\n",
       "CON%MAN_DIR_SEN     0.0281      0.002     13.805      0.000       0.024       0.032\n",
       "CON%SAL_SERV       -0.0147      0.002     -6.165      0.000      -0.019      -0.010\n",
       "Merseyside         -0.0972      0.015     -6.391      0.000      -0.127      -0.067\n",
       "speakWelsh         -0.2954      0.038     -7.813      0.000      -0.370      -0.221\n",
       "==============================================================================\n",
       "Omnibus:                       20.799   Durbin-Watson:                   1.754\n",
       "Prob(Omnibus):                  0.000   Jarque-Bera (JB):               25.471\n",
       "Skew:                          -0.374   Prob(JB):                     2.95e-06\n",
       "Kurtosis:                       3.713   Cond. No.                         676.\n",
       "==============================================================================\n",
       "\n",
       "Notes:\n",
       "[1] Standard Errors assume that the covariance matrix of the errors is correctly specified.\n",
       "\"\"\""
      ]
     },
     "execution_count": 11,
     "metadata": {},
     "output_type": "execute_result"
    }
   ],
   "source": [
    "\n",
    "jk_list = [\"c11Deprived3\",\"c11QualLevel4\",\"c11Age60to64\",\"CON%MAN_DIR_SEN\",\"CON%SAL_SERV\",\"Merseyside\",\"speakWelsh\"]\n",
    "dataset = merged[merged[\"Country\"].isin([\"England\",\"Wales\"])]\n",
    "\n",
    "Y = dataset['Con17']/100\n",
    "X = dataset[jk_list].astype('float')\n",
    "X = sm.add_constant(X)\n",
    "model = sm.OLS(Y,X)\n",
    "results = model.fit()\n",
    "results.summary()\n"
   ]
  },
  {
   "cell_type": "code",
   "execution_count": 13,
   "id": "ee151d71",
   "metadata": {},
   "outputs": [
    {
     "name": "stderr",
     "output_type": "stream",
     "text": [
      "Features: 377/377"
     ]
    },
    {
     "name": "stdout",
     "output_type": "stream",
     "text": [
      "\n",
      "Best subset: (0, 1, 4, 6, 7, 8, 9, 10, 11, 12)\n"
     ]
    }
   ],
   "source": [
    "\n",
    "\n",
    "boston = load_boston()\n",
    "X, y = boston.data, boston.target\n",
    "\n",
    "lr = LinearRegression()\n",
    "\n",
    "efs = EFS(lr, \n",
    "          min_features=10,\n",
    "          max_features=12,\n",
    "          scoring='neg_mean_squared_error',\n",
    "          cv=10)\n",
    "\n",
    "efs.fit(X, y)\n",
    "\n",
    "print('Best MSE score: %.2f' % efs.best_score_ * (-1))\n",
    "print('Best subset:', efs.best_idx_)"
   ]
  },
  {
   "cell_type": "code",
   "execution_count": 14,
   "id": "eed3a995",
   "metadata": {},
   "outputs": [
    {
     "name": "stderr",
     "output_type": "stream",
     "text": [
      "Features: 15/15"
     ]
    },
    {
     "name": "stdout",
     "output_type": "stream",
     "text": [
      "Best accuracy score: 0.96\n",
      "Best subset (indices): (3,)\n",
      "Best subset (corresponding names): ('3',)\n"
     ]
    }
   ],
   "source": [
    "\n",
    "\n",
    "iris = load_iris()\n",
    "X = iris.data\n",
    "y = iris.target\n",
    "\n",
    "knn = KNeighborsClassifier(n_neighbors=3)\n",
    "\n",
    "efs1 = EFS(knn, \n",
    "           min_features=1,\n",
    "           max_features=4,\n",
    "           scoring='accuracy',\n",
    "           print_progress=True,\n",
    "           cv=LeaveOneOut()) ### Use cross-validation generator here\n",
    "\n",
    "efs1 = efs1.fit(X, y)\n",
    "\n",
    "print('Best accuracy score: %.2f' % efs1.best_score_)\n",
    "print('Best subset (indices):', efs1.best_idx_)\n",
    "print('Best subset (corresponding names):', efs1.best_feature_names_)"
   ]
  },
  {
   "cell_type": "code",
   "execution_count": 22,
   "id": "4415f692",
   "metadata": {},
   "outputs": [
    {
     "data": {
      "text/plain": [
       "Con1719       630\n",
       "Con17         632\n",
       "Con17_elec    632\n",
       "dtype: int64"
      ]
     },
     "execution_count": 22,
     "metadata": {},
     "output_type": "execute_result"
    }
   ],
   "source": [
    "search(BES_census_data,\"Con17\")\n",
    "# "
   ]
  },
  {
   "cell_type": "code",
   "execution_count": 26,
   "id": "740ee3bc",
   "metadata": {},
   "outputs": [
    {
     "name": "stderr",
     "output_type": "stream",
     "text": [
      "Features: 582/582"
     ]
    },
    {
     "name": "stdout",
     "output_type": "stream",
     "text": [
      "\n",
      "Best subset: (1, 3, 4, 7, 9)\n"
     ]
    }
   ],
   "source": [
    "\n",
    "\n",
    "# boston = load_boston()\n",
    "X, y = df_simp[df_simp.columns[0:10]], BES_census_data[\"Con17_elec\"]\n",
    "\n",
    "lr = LinearRegression()\n",
    "\n",
    "efs = EFS(lr, \n",
    "          min_features=5,\n",
    "          max_features=7,\n",
    "          scoring='r2',\n",
    "          #'neg_mean_squared_error',\n",
    "          cv=10)\n",
    "\n",
    "efs.fit(X, y)\n",
    "\n",
    "print('Best MSE score: %.2f' % efs.best_score_ * (-1))\n",
    "print('Best subset:', efs.best_idx_)"
   ]
  },
  {
   "cell_type": "code",
   "execution_count": 40,
   "id": "38406b8a",
   "metadata": {},
   "outputs": [],
   "source": []
  },
  {
   "cell_type": "code",
   "execution_count": 39,
   "id": "b9fab73b",
   "metadata": {},
   "outputs": [
    {
     "name": "stdout",
     "output_type": "stream",
     "text": [
      "best combination (ACC: 0.907): (57, 61, 115, 121, 146, 174, 175, 178, 186, 187, 188, 198, 207, 255, 289, 308, 333, 402, 411, 437)\n",
      "\n",
      "all subsets:\n",
      " {1: {'feature_idx': (186,), 'cv_scores': array([0.70855689, 0.5298421 , 0.7266402 , 0.36455011, 0.7913058 ,\n",
      "       0.66664193, 0.57075489, 0.66846774, 0.69869109, 0.67242763]), 'avg_score': 0.6397878375779871, 'feature_names': ('c11Deprived3',)}, 2: {'feature_idx': (175, 186), 'cv_scores': array([0.79595372, 0.67143777, 0.75423911, 0.60389979, 0.82395245,\n",
      "       0.77105784, 0.70403545, 0.72443816, 0.79538397, 0.72005754]), 'avg_score': 0.7364455807039526, 'feature_names': ('c11HealthVeryGood', 'c11Deprived3')}, 3: {'feature_idx': (121, 175, 186), 'cv_scores': array([0.80671707, 0.779802  , 0.80205282, 0.72397009, 0.86080919,\n",
      "       0.84454429, 0.78698957, 0.77323255, 0.80273908, 0.81424509]), 'avg_score': 0.7995101740955749, 'feature_names': ('c11NSSECHigherManager', 'c11HealthVeryGood', 'c11Deprived3')}, 4: {'feature_idx': (61, 121, 175, 186), 'cv_scores': array([0.82187592, 0.77377689, 0.84564607, 0.78337422, 0.89421205,\n",
      "       0.88399746, 0.77367272, 0.82560266, 0.84473094, 0.86309927]), 'avg_score': 0.830998820004487, 'feature_names': ('c11CarsFour', 'c11NSSECHigherManager', 'c11HealthVeryGood', 'c11Deprived3')}, 5: {'feature_idx': (61, 121, 175, 178, 186), 'cv_scores': array([0.82574558, 0.79665998, 0.86888568, 0.80608415, 0.90859212,\n",
      "       0.88964644, 0.78472615, 0.86037186, 0.85506455, 0.86937933]), 'avg_score': 0.8465155829787567, 'feature_names': ('c11CarsFour', 'c11NSSECHigherManager', 'c11HealthVeryGood', 'c11HealthBad', 'c11Deprived3')}, 6: {'feature_idx': (61, 121, 174, 175, 178, 186), 'cv_scores': array([0.83302406, 0.82810991, 0.85011976, 0.80070653, 0.90850646,\n",
      "       0.91469532, 0.80689761, 0.8754954 , 0.8734189 , 0.8783969 ]), 'avg_score': 0.856937085040513, 'feature_names': ('c11CarsFour', 'c11NSSECHigherManager', 'c11Degree', 'c11HealthVeryGood', 'c11HealthBad', 'c11Deprived3')}, 7: {'feature_idx': (61, 121, 146, 174, 175, 178, 186), 'cv_scores': array([0.8464079 , 0.84016952, 0.84712693, 0.82804165, 0.91313705,\n",
      "       0.92174493, 0.79139515, 0.89614615, 0.8900656 , 0.8723295 ]), 'avg_score': 0.8646564385191091, 'feature_names': ('c11CarsFour', 'c11NSSECHigherManager', 'c11Neverworked', 'c11Degree', 'c11HealthVeryGood', 'c11HealthBad', 'c11Deprived3')}, 8: {'feature_idx': (61, 121, 146, 174, 175, 178, 186, 289), 'cv_scores': array([0.85660083, 0.847636  , 0.84767537, 0.83244908, 0.92506366,\n",
      "       0.92886098, 0.80252231, 0.89895803, 0.89305844, 0.87128899]), 'avg_score': 0.8704113687604087, 'feature_names': ('c11CarsFour', 'c11NSSECHigherManager', 'c11Neverworked', 'c11Degree', 'c11HealthVeryGood', 'c11HealthBad', 'c11Deprived3', 'BENEFITEXPENDITURE_Attendance Allowance')}, 9: {'feature_idx': (61, 121, 146, 174, 175, 178, 186, 207, 289), 'cv_scores': array([0.84285782, 0.85779375, 0.85125618, 0.8373228 , 0.937355  ,\n",
      "       0.92519579, 0.81144991, 0.90681823, 0.90463289, 0.8758123 ]), 'avg_score': 0.8750494663891308, 'feature_names': ('c11CarsFour', 'c11NSSECHigherManager', 'c11Neverworked', 'c11Degree', 'c11HealthVeryGood', 'c11HealthBad', 'c11Deprived3', 'DISEASES_Asthma', 'BENEFITEXPENDITURE_Attendance Allowance')}, 10: {'feature_idx': (61, 121, 146, 174, 175, 178, 186, 188, 207, 289), 'cv_scores': array([0.84362833, 0.87610685, 0.85553046, 0.85061058, 0.93706928,\n",
      "       0.92535879, 0.81283836, 0.9000749 , 0.90667874, 0.88282118]), 'avg_score': 0.8790717472453291, 'feature_names': ('c11CarsFour', 'c11NSSECHigherManager', 'c11Neverworked', 'c11Degree', 'c11HealthVeryGood', 'c11HealthBad', 'c11Deprived3', 'speakWelsh', 'DISEASES_Asthma', 'BENEFITEXPENDITURE_Attendance Allowance')}, 11: {'feature_idx': (61, 121, 146, 174, 175, 178, 186, 188, 207, 255, 289), 'cv_scores': array([0.86078116, 0.88812806, 0.85902149, 0.85232489, 0.9328792 ,\n",
      "       0.91704467, 0.82170256, 0.90302035, 0.91186402, 0.88950236]), 'avg_score': 0.8836268757570649, 'feature_names': ('c11CarsFour', 'c11NSSECHigherManager', 'c11Neverworked', 'c11Degree', 'c11HealthVeryGood', 'c11HealthBad', 'c11Deprived3', 'speakWelsh', 'DISEASES_Asthma', 'ELECTORATE_LG_Electors', 'BENEFITEXPENDITURE_Attendance Allowance')}, 12: {'feature_idx': (61, 121, 146, 174, 175, 178, 186, 188, 207, 255, 289, 437), 'cv_scores': array([0.85326445, 0.89299628, 0.86737506, 0.86346032, 0.93632613,\n",
      "       0.91486937, 0.83123609, 0.90250185, 0.91430831, 0.88859122]), 'avg_score': 0.8864929070247648, 'feature_names': ('c11CarsFour', 'c11NSSECHigherManager', 'c11Neverworked', 'c11Degree', 'c11HealthVeryGood', 'c11HealthBad', 'c11Deprived3', 'speakWelsh', 'DISEASES_Asthma', 'ELECTORATE_LG_Electors', 'BENEFITEXPENDITURE_Attendance Allowance', 'SNPPPCsex15_Male')}, 13: {'feature_idx': (61, 121, 146, 174, 175, 178, 186, 188, 198, 207, 255, 289, 437), 'cv_scores': array([0.85351448, 0.89902255, 0.86412479, 0.86266535, 0.93667495,\n",
      "       0.92295144, 0.83587872, 0.91068173, 0.9225774 , 0.88757876]), 'avg_score': 0.8895670173192312, 'feature_names': ('c11CarsFour', 'c11NSSECHigherManager', 'c11Neverworked', 'c11Degree', 'c11HealthVeryGood', 'c11HealthBad', 'c11Deprived3', 'speakWelsh', 'Merseyside', 'DISEASES_Asthma', 'ELECTORATE_LG_Electors', 'BENEFITEXPENDITURE_Attendance Allowance', 'SNPPPCsex15_Male')}, 14: {'feature_idx': (61, 115, 121, 146, 174, 175, 178, 186, 188, 198, 207, 255, 289, 437), 'cv_scores': array([0.85721711, 0.89894112, 0.86641423, 0.86850537, 0.94923518,\n",
      "       0.92492632, 0.83421963, 0.91080398, 0.92112296, 0.88748831]), 'avg_score': 0.8918874215029643, 'feature_names': ('c11CarsFour', 'c11Jewish', 'c11NSSECHigherManager', 'c11Neverworked', 'c11Degree', 'c11HealthVeryGood', 'c11HealthBad', 'c11Deprived3', 'speakWelsh', 'Merseyside', 'DISEASES_Asthma', 'ELECTORATE_LG_Electors', 'BENEFITEXPENDITURE_Attendance Allowance', 'SNPPPCsex15_Male')}, 15: {'feature_idx': (61, 115, 121, 146, 174, 175, 178, 186, 188, 198, 207, 255, 289, 333, 437), 'cv_scores': array([0.86261301, 0.89990658, 0.87075059, 0.86100893, 0.94873205,\n",
      "       0.92892986, 0.84698385, 0.91244044, 0.91804645, 0.8927635 ]), 'avg_score': 0.8942175268177343, 'feature_names': ('c11CarsFour', 'c11Jewish', 'c11NSSECHigherManager', 'c11Neverworked', 'c11Degree', 'c11HealthVeryGood', 'c11HealthBad', 'c11Deprived3', 'speakWelsh', 'Merseyside', 'DISEASES_Asthma', 'ELECTORATE_LG_Electors', 'BENEFITEXPENDITURE_Attendance Allowance', 'CHILDTAXCREDITS_% of Children in low-income families All Families', 'SNPPPCsex15_Male')}, 16: {'feature_idx': (57, 61, 115, 121, 146, 174, 175, 178, 186, 188, 198, 207, 255, 289, 333, 437), 'cv_scores': array([0.86736241, 0.90528864, 0.87850049, 0.85712647, 0.94634433,\n",
      "       0.92903284, 0.85041371, 0.91309428, 0.91948245, 0.89860747]), 'avg_score': 0.8965253094896231, 'feature_names': ('c11CarsNone', 'c11CarsFour', 'c11Jewish', 'c11NSSECHigherManager', 'c11Neverworked', 'c11Degree', 'c11HealthVeryGood', 'c11HealthBad', 'c11Deprived3', 'speakWelsh', 'Merseyside', 'DISEASES_Asthma', 'ELECTORATE_LG_Electors', 'BENEFITEXPENDITURE_Attendance Allowance', 'CHILDTAXCREDITS_% of Children in low-income families All Families', 'SNPPPCsex15_Male')}, 17: {'feature_idx': (57, 61, 115, 121, 146, 174, 175, 178, 186, 187, 188, 198, 207, 255, 289, 333, 437), 'cv_scores': array([0.87111746, 0.91153582, 0.88692679, 0.86544365, 0.95230859,\n",
      "       0.93044379, 0.85438383, 0.91060596, 0.91590829, 0.90285849]), 'avg_score': 0.9001532683982985, 'feature_names': ('c11CarsNone', 'c11CarsFour', 'c11Jewish', 'c11NSSECHigherManager', 'c11Neverworked', 'c11Degree', 'c11HealthVeryGood', 'c11HealthBad', 'c11Deprived3', 'c11Deprived4', 'speakWelsh', 'Merseyside', 'DISEASES_Asthma', 'ELECTORATE_LG_Electors', 'BENEFITEXPENDITURE_Attendance Allowance', 'CHILDTAXCREDITS_% of Children in low-income families All Families', 'SNPPPCsex15_Male')}, 18: {'feature_idx': (57, 61, 115, 121, 146, 174, 175, 178, 186, 187, 188, 198, 207, 255, 289, 333, 402, 437), 'cv_scores': array([0.87543333, 0.91439884, 0.88293619, 0.86587035, 0.95489559,\n",
      "       0.93444643, 0.85080374, 0.91145035, 0.92514623, 0.90917023]), 'avg_score': 0.9024551275494417, 'feature_names': ('c11CarsNone', 'c11CarsFour', 'c11Jewish', 'c11NSSECHigherManager', 'c11Neverworked', 'c11Degree', 'c11HealthVeryGood', 'c11HealthBad', 'c11Deprived3', 'c11Deprived4', 'speakWelsh', 'Merseyside', 'DISEASES_Asthma', 'ELECTORATE_LG_Electors', 'BENEFITEXPENDITURE_Attendance Allowance', 'CHILDTAXCREDITS_% of Children in low-income families All Families', 'Region_West Midlands', 'SNPPPCsex15_Male')}, 19: {'feature_idx': (57, 61, 115, 121, 146, 174, 175, 178, 186, 187, 188, 198, 207, 255, 289, 308, 333, 402, 437), 'cv_scores': array([0.88277686, 0.91862721, 0.88716748, 0.86361134, 0.95130654,\n",
      "       0.9288237 , 0.86618599, 0.91581366, 0.92792414, 0.90551963]), 'avg_score': 0.9047756553104016, 'feature_names': ('c11CarsNone', 'c11CarsFour', 'c11Jewish', 'c11NSSECHigherManager', 'c11Neverworked', 'c11Degree', 'c11HealthVeryGood', 'c11HealthBad', 'c11Deprived3', 'c11Deprived4', 'speakWelsh', 'Merseyside', 'DISEASES_Asthma', 'ELECTORATE_LG_Electors', 'BENEFITEXPENDITURE_Attendance Allowance', 'BENEFITEXPENDITURE_State Pension', 'CHILDTAXCREDITS_% of Children in low-income families All Families', 'Region_West Midlands', 'SNPPPCsex15_Male')}, 20: {'feature_idx': (57, 61, 115, 121, 146, 174, 175, 178, 186, 187, 188, 198, 207, 255, 289, 308, 333, 402, 411, 437), 'cv_scores': array([0.88393829, 0.92046068, 0.88949481, 0.86691777, 0.94919953,\n",
      "       0.92564064, 0.87104109, 0.92088953, 0.93260428, 0.90777468]), 'avg_score': 0.9067961310013505, 'feature_names': ('c11CarsNone', 'c11CarsFour', 'c11Jewish', 'c11NSSECHigherManager', 'c11Neverworked', 'c11Degree', 'c11HealthVeryGood', 'c11HealthBad', 'c11Deprived3', 'c11Deprived4', 'speakWelsh', 'Merseyside', 'DISEASES_Asthma', 'ELECTORATE_LG_Electors', 'BENEFITEXPENDITURE_Attendance Allowance', 'BENEFITEXPENDITURE_State Pension', 'CHILDTAXCREDITS_% of Children in low-income families All Families', 'Region_West Midlands', 'ConPPCsex17_Male', 'SNPPPCsex15_Male')}}\n",
      "Wall time: 1min 44s\n"
     ]
    },
    {
     "data": {
      "text/plain": [
       "(<Figure size 432x288 with 1 Axes>,\n",
       " <matplotlib.axes._subplots.AxesSubplot at 0x14b4bcab108>)"
      ]
     },
     "execution_count": 39,
     "metadata": {},
     "output_type": "execute_result"
    },
    {
     "data": {
      "image/png": "[encoded data removed]",
      "text/plain": [
       "<Figure size 432x288 with 1 Axes>"
      ]
     },
     "metadata": {},
     "output_type": "display_data"
    }
   ],
   "source": [
    "%%time\n",
    "from sklearn.neighbors import KNeighborsClassifier\n",
    "from sklearn.datasets import load_iris\n",
    "# from mlxtend.feature_selection import ExhaustiveFeatureSelector as EFS\n",
    "from mlxtend.feature_selection import SequentialFeatureSelector as SFS\n",
    "\n",
    "from sklearn.linear_model import LinearRegression\n",
    "from sklearn.datasets import load_boston\n",
    "\n",
    "# boston = load_boston()\n",
    "X, y = df_simp, BES_census_data[\"Con17_elec\"]\n",
    "\n",
    "lr = LinearRegression()\n",
    "\n",
    "efs = SFS(lr, \n",
    "          k_features=(1, 20), \n",
    "#           min_features=5,\n",
    "#           max_features=7,\n",
    "          forward=True,\n",
    "          floating=False,\n",
    "          scoring='r2',\n",
    "          #'neg_mean_squared_error',\n",
    "          cv=10)\n",
    "\n",
    "efs.fit(X, y)\n",
    "\n",
    "print('best combination (ACC: %.3f): %s\\n' % (efs.k_score_, efs.k_feature_idx_))\n",
    "print('all subsets:\\n', efs.subsets_)\n",
    "plot_sfs(efs.get_metric_dict(), kind='std_err');"
   ]
  },
  {
   "cell_type": "code",
   "execution_count": 13,
   "id": "03e584fe",
   "metadata": {},
   "outputs": [],
   "source": [
    "\n",
    "mask = (BES_census_data[\"Country\"]==\"England\") & (BES_census_data[\"Winner19\"].apply(lambda x: x not in [\"Speaker\",\"Green\"]))\n",
    "X, y = df_simp[mask], BES_census_data[\"Con17_elec\"][mask]"
   ]
  },
  {
   "cell_type": "code",
   "execution_count": 16,
   "id": "4825a59f",
   "metadata": {},
   "outputs": [],
   "source": []
  },
  {
   "cell_type": "code",
   "execution_count": 14,
   "id": "315d9368",
   "metadata": {},
   "outputs": [
    {
     "name": "stdout",
     "output_type": "stream",
     "text": [
      "best combination (ACC: 0.923): (20, 24, 29, 52, 60, 79, 88, 115, 121, 122, 149, 162, 164, 174, 186, 198, 207, 229, 238, 295)\n",
      "\n",
      "all subsets:\n",
      " {1: {'feature_idx': (60,), 'cv_scores': array([0.72247296, 0.69971418, 0.80247759, 0.72009227, 0.78015588]), 'avg_score': 0.7449825747699399, 'feature_names': ('c11CarsThree',)}, 2: {'feature_idx': (60, 186), 'cv_scores': array([0.80065428, 0.81048797, 0.85097334, 0.76829699, 0.82305885]), 'avg_score': 0.8106942872287076, 'feature_names': ('c11CarsThree', 'c11Deprived3')}, 3: {'feature_idx': (60, 164, 186), 'cv_scores': array([0.83835473, 0.82064347, 0.87945603, 0.81474181, 0.8257681 ]), 'avg_score': 0.835792829849999, 'feature_names': ('c11CarsThree', 'c11IndustryEducation', 'c11Deprived3')}, 4: {'feature_idx': (24, 60, 164, 186), 'cv_scores': array([0.86271437, 0.84765177, 0.89963067, 0.8049215 , 0.85334909]), 'avg_score': 0.8536534816728457, 'feature_names': ('c11Age90plus', 'c11CarsThree', 'c11IndustryEducation', 'c11Deprived3')}, 5: {'feature_idx': (24, 60, 164, 186, 238), 'cv_scores': array([0.86056557, 0.8628037 , 0.90231339, 0.82123662, 0.87370445]), 'avg_score': 0.8641247454956179, 'feature_names': ('c11Age90plus', 'c11CarsThree', 'c11IndustryEducation', 'c11Deprived3', 'EDUCATION_Reg. % In need of Improvement (Secondary)')}, 6: {'feature_idx': (24, 60, 162, 164, 186, 238), 'cv_scores': array([0.8662856 , 0.88326365, 0.90818456, 0.8268523 , 0.89683795]), 'avg_score': 0.8762848121772537, 'feature_names': ('c11Age90plus', 'c11CarsThree', 'c11IndustryAdministrative', 'c11IndustryEducation', 'c11Deprived3', 'EDUCATION_Reg. % In need of Improvement (Secondary)')}, 7: {'feature_idx': (24, 60, 162, 164, 186, 229, 238), 'cv_scores': array([0.8735055 , 0.88775196, 0.91444889, 0.83370003, 0.90907574]), 'avg_score': 0.8836964229910101, 'feature_names': ('c11Age90plus', 'c11CarsThree', 'c11IndustryAdministrative', 'c11IndustryEducation', 'c11Deprived3', 'EDUCATION_Region AAB %', 'EDUCATION_Reg. % In need of Improvement (Secondary)')}, 8: {'feature_idx': (24, 52, 60, 162, 164, 186, 229, 238), 'cv_scores': array([0.87801136, 0.89156392, 0.92166673, 0.83799884, 0.91116878]), 'avg_score': 0.8880819245036395, 'feature_names': ('c11Age90plus', 'c11HouseholdOther', 'c11CarsThree', 'c11IndustryAdministrative', 'c11IndustryEducation', 'c11Deprived3', 'EDUCATION_Region AAB %', 'EDUCATION_Reg. % In need of Improvement (Secondary)')}, 9: {'feature_idx': (24, 52, 60, 162, 164, 186, 229, 238, 295), 'cv_scores': array([0.88955495, 0.89998805, 0.92458236, 0.85417999, 0.90151957]), 'avg_score': 0.8939649828322447, 'feature_names': ('c11Age90plus', 'c11HouseholdOther', 'c11CarsThree', 'c11IndustryAdministrative', 'c11IndustryEducation', 'c11Deprived3', 'EDUCATION_Region AAB %', 'EDUCATION_Reg. % In need of Improvement (Secondary)', 'BENEFITEXPENDITURE_of which pensioners')}, 10: {'feature_idx': (20, 24, 52, 60, 162, 164, 186, 229, 238, 295), 'cv_scores': array([0.89785359, 0.90656838, 0.9226203 , 0.86121187, 0.90693517]), 'avg_score': 0.8990378605152622, 'feature_names': ('c11Age60to64', 'c11Age90plus', 'c11HouseholdOther', 'c11CarsThree', 'c11IndustryAdministrative', 'c11IndustryEducation', 'c11Deprived3', 'EDUCATION_Region AAB %', 'EDUCATION_Reg. % In need of Improvement (Secondary)', 'BENEFITEXPENDITURE_of which pensioners')}, 11: {'feature_idx': (20, 24, 52, 60, 162, 164, 186, 207, 229, 238, 295), 'cv_scores': array([0.89984963, 0.91245874, 0.92490218, 0.86422688, 0.90928353]), 'avg_score': 0.9021441935049388, 'feature_names': ('c11Age60to64', 'c11Age90plus', 'c11HouseholdOther', 'c11CarsThree', 'c11IndustryAdministrative', 'c11IndustryEducation', 'c11Deprived3', 'DISEASES_Asthma', 'EDUCATION_Region AAB %', 'EDUCATION_Reg. % In need of Improvement (Secondary)', 'BENEFITEXPENDITURE_of which pensioners')}, 12: {'feature_idx': (20, 24, 52, 60, 88, 162, 164, 186, 207, 229, 238, 295), 'cv_scores': array([0.90526008, 0.90788947, 0.9281796 , 0.87003768, 0.91053376]), 'avg_score': 0.9043801186297932, 'feature_names': ('c11Age60to64', 'c11Age90plus', 'c11HouseholdOther', 'c11CarsThree', 'c11BornScotland', 'c11IndustryAdministrative', 'c11IndustryEducation', 'c11Deprived3', 'DISEASES_Asthma', 'EDUCATION_Region AAB %', 'EDUCATION_Reg. % In need of Improvement (Secondary)', 'BENEFITEXPENDITURE_of which pensioners')}, 13: {'feature_idx': (20, 24, 29, 52, 60, 88, 162, 164, 186, 207, 229, 238, 295), 'cv_scores': array([0.90789753, 0.90838268, 0.92680036, 0.87541681, 0.91375936]), 'avg_score': 0.906451348894316, 'feature_names': ('c11Age60to64', 'c11Age90plus', 'c11HouseSocial', 'c11HouseholdOther', 'c11CarsThree', 'c11BornScotland', 'c11IndustryAdministrative', 'c11IndustryEducation', 'c11Deprived3', 'DISEASES_Asthma', 'EDUCATION_Region AAB %', 'EDUCATION_Reg. % In need of Improvement (Secondary)', 'BENEFITEXPENDITURE_of which pensioners')}, 14: {'feature_idx': (20, 24, 29, 52, 60, 79, 88, 162, 164, 186, 207, 229, 238, 295), 'cv_scores': array([0.91012131, 0.90896387, 0.92887937, 0.87871879, 0.91455765]), 'avg_score': 0.9082481967877877, 'feature_names': ('c11Age60to64', 'c11Age90plus', 'c11HouseSocial', 'c11HouseholdOther', 'c11CarsThree', 'c11EthnicityOtherAsian', 'c11BornScotland', 'c11IndustryAdministrative', 'c11IndustryEducation', 'c11Deprived3', 'DISEASES_Asthma', 'EDUCATION_Region AAB %', 'EDUCATION_Reg. % In need of Improvement (Secondary)', 'BENEFITEXPENDITURE_of which pensioners')}, 15: {'feature_idx': (20, 24, 29, 52, 60, 79, 88, 121, 162, 164, 186, 207, 229, 238, 295), 'cv_scores': array([0.91276301, 0.91185527, 0.92963996, 0.87962865, 0.91506992]), 'avg_score': 0.9097913605544976, 'feature_names': ('c11Age60to64', 'c11Age90plus', 'c11HouseSocial', 'c11HouseholdOther', 'c11CarsThree', 'c11EthnicityOtherAsian', 'c11BornScotland', 'c11NSSECHigherManager', 'c11IndustryAdministrative', 'c11IndustryEducation', 'c11Deprived3', 'DISEASES_Asthma', 'EDUCATION_Region AAB %', 'EDUCATION_Reg. % In need of Improvement (Secondary)', 'BENEFITEXPENDITURE_of which pensioners')}, 16: {'feature_idx': (20, 24, 29, 52, 60, 79, 88, 121, 162, 164, 174, 186, 207, 229, 238, 295), 'cv_scores': array([0.91486933, 0.90900825, 0.93583912, 0.89042738, 0.92630786]), 'avg_score': 0.9152903872573184, 'feature_names': ('c11Age60to64', 'c11Age90plus', 'c11HouseSocial', 'c11HouseholdOther', 'c11CarsThree', 'c11EthnicityOtherAsian', 'c11BornScotland', 'c11NSSECHigherManager', 'c11IndustryAdministrative', 'c11IndustryEducation', 'c11Degree', 'c11Deprived3', 'DISEASES_Asthma', 'EDUCATION_Region AAB %', 'EDUCATION_Reg. % In need of Improvement (Secondary)', 'BENEFITEXPENDITURE_of which pensioners')}, 17: {'feature_idx': (20, 24, 29, 52, 60, 79, 88, 121, 122, 162, 164, 174, 186, 207, 229, 238, 295), 'cv_scores': array([0.91517776, 0.91198206, 0.9392919 , 0.89010153, 0.92834717]), 'avg_score': 0.916980084337699, 'feature_names': ('c11Age60to64', 'c11Age90plus', 'c11HouseSocial', 'c11HouseholdOther', 'c11CarsThree', 'c11EthnicityOtherAsian', 'c11BornScotland', 'c11NSSECHigherManager', 'c11NSSECHigherProfessional', 'c11IndustryAdministrative', 'c11IndustryEducation', 'c11Degree', 'c11Deprived3', 'DISEASES_Asthma', 'EDUCATION_Region AAB %', 'EDUCATION_Reg. % In need of Improvement (Secondary)', 'BENEFITEXPENDITURE_of which pensioners')}, 18: {'feature_idx': (20, 24, 29, 52, 60, 79, 88, 121, 122, 149, 162, 164, 174, 186, 207, 229, 238, 295), 'cv_scores': array([0.91420922, 0.9153878 , 0.94206821, 0.89374743, 0.93195769]), 'avg_score': 0.9194740696977082, 'feature_names': ('c11Age60to64', 'c11Age90plus', 'c11HouseSocial', 'c11HouseholdOther', 'c11CarsThree', 'c11EthnicityOtherAsian', 'c11BornScotland', 'c11NSSECHigherManager', 'c11NSSECHigherProfessional', 'c11IndustryAgriculture', 'c11IndustryAdministrative', 'c11IndustryEducation', 'c11Degree', 'c11Deprived3', 'DISEASES_Asthma', 'EDUCATION_Region AAB %', 'EDUCATION_Reg. % In need of Improvement (Secondary)', 'BENEFITEXPENDITURE_of which pensioners')}, 19: {'feature_idx': (20, 24, 29, 52, 60, 79, 88, 115, 121, 122, 149, 162, 164, 174, 186, 207, 229, 238, 295), 'cv_scores': array([0.91778777, 0.91517922, 0.94748184, 0.8939609 , 0.93250161]), 'avg_score': 0.9213822684569261, 'feature_names': ('c11Age60to64', 'c11Age90plus', 'c11HouseSocial', 'c11HouseholdOther', 'c11CarsThree', 'c11EthnicityOtherAsian', 'c11BornScotland', 'c11Jewish', 'c11NSSECHigherManager', 'c11NSSECHigherProfessional', 'c11IndustryAgriculture', 'c11IndustryAdministrative', 'c11IndustryEducation', 'c11Degree', 'c11Deprived3', 'DISEASES_Asthma', 'EDUCATION_Region AAB %', 'EDUCATION_Reg. % In need of Improvement (Secondary)', 'BENEFITEXPENDITURE_of which pensioners')}, 20: {'feature_idx': (20, 24, 29, 52, 60, 79, 88, 115, 121, 122, 149, 162, 164, 174, 186, 198, 207, 229, 238, 295), 'cv_scores': array([0.91851281, 0.91383485, 0.94758579, 0.89855288, 0.93651792]), 'avg_score': 0.923000849531487, 'feature_names': ('c11Age60to64', 'c11Age90plus', 'c11HouseSocial', 'c11HouseholdOther', 'c11CarsThree', 'c11EthnicityOtherAsian', 'c11BornScotland', 'c11Jewish', 'c11NSSECHigherManager', 'c11NSSECHigherProfessional', 'c11IndustryAgriculture', 'c11IndustryAdministrative', 'c11IndustryEducation', 'c11Degree', 'c11Deprived3', 'Merseyside', 'DISEASES_Asthma', 'EDUCATION_Region AAB %', 'EDUCATION_Reg. % In need of Improvement (Secondary)', 'BENEFITEXPENDITURE_of which pensioners')}}\n"
     ]
    },
    {
     "ename": "NameError",
     "evalue": "name 'plot_sfs' is not defined",
     "output_type": "error",
     "traceback": [
      "\u001b[1;31m---------------------------------------------------------------------------\u001b[0m",
      "\u001b[1;31mNameError\u001b[0m                                 Traceback (most recent call last)",
      "\u001b[1;32m<timed exec>\u001b[0m in \u001b[0;36m<module>\u001b[1;34m\u001b[0m\n",
      "\u001b[1;31mNameError\u001b[0m: name 'plot_sfs' is not defined"
     ]
    }
   ],
   "source": [
    "%%time\n",
    "lr = LinearRegression()\n",
    "\n",
    "efs = SFS(lr, \n",
    "          k_features=(1, 20), \n",
    "          forward=True,\n",
    "          floating=False,\n",
    "          scoring='r2',\n",
    "          cv=5,n_jobs=-1)\n",
    "\n",
    "efs.fit(X, y)\n",
    "\n",
    "print('best combination (ACC: %.3f): %s\\n' % (efs.k_score_, efs.k_feature_idx_))\n",
    "print('all subsets:\\n', efs.subsets_)\n",
    "plot_sfs(efs.get_metric_dict(), kind='std_err');"
   ]
  },
  {
   "cell_type": "code",
   "execution_count": 17,
   "id": "02556ac3",
   "metadata": {},
   "outputs": [
    {
     "data": {
      "image/png": "[encoded data removed]",
      "text/plain": [
       "<Figure size 432x288 with 1 Axes>"
      ]
     },
     "metadata": {},
     "output_type": "display_data"
    }
   ],
   "source": [
    "plot_sfs(efs.get_metric_dict(), kind='std_err');"
   ]
  },
  {
   "cell_type": "code",
   "execution_count": 18,
   "id": "14215ccd",
   "metadata": {},
   "outputs": [],
   "source": [
    "# %%time\n",
    "# lr = LinearRegression()\n",
    "\n",
    "# efs = SFS(lr, \n",
    "#           k_features=(1, 20), \n",
    "#           forward=False,\n",
    "#           floating=False,\n",
    "#           scoring='r2',\n",
    "#           cv=5,n_jobs=-1)\n",
    "\n",
    "# efs.fit(X, y)\n",
    "\n",
    "# print('best combination (ACC: %.3f): %s\\n' % (efs.k_score_, efs.k_feature_idx_))\n",
    "# print('all subsets:\\n', efs.subsets_)\n",
    "# plot_sfs(efs.get_metric_dict(), kind='std_err');"
   ]
  },
  {
   "cell_type": "code",
   "execution_count": 15,
   "id": "83fa799b",
   "metadata": {},
   "outputs": [
    {
     "name": "stdout",
     "output_type": "stream",
     "text": [
      "best combination (ACC: 0.923): (20, 24, 29, 60, 79, 81, 88, 121, 149, 162, 164, 174, 186, 198, 207, 229, 238, 295, 400, 425)\n",
      "\n",
      "all subsets:\n",
      " {1: {'feature_idx': (60,), 'cv_scores': array([0.72247296, 0.69971418, 0.80247759, 0.72009227, 0.78015588]), 'avg_score': 0.7449825747699399, 'feature_names': ('c11CarsThree',)}, 2: {'feature_idx': (60, 186), 'cv_scores': array([0.80065428, 0.81048797, 0.85097334, 0.76829699, 0.82305885]), 'avg_score': 0.8106942872287076, 'feature_names': ('c11CarsThree', 'c11Deprived3')}, 3: {'feature_idx': (60, 164, 186), 'cv_scores': array([0.83835473, 0.82064347, 0.87945603, 0.81474181, 0.8257681 ]), 'avg_score': 0.835792829849999, 'feature_names': ('c11CarsThree', 'c11IndustryEducation', 'c11Deprived3')}, 4: {'feature_idx': (24, 60, 164, 186), 'cv_scores': array([0.86271437, 0.84765177, 0.89963067, 0.8049215 , 0.85334909]), 'avg_score': 0.8536534816728457, 'feature_names': ('c11Age90plus', 'c11CarsThree', 'c11IndustryEducation', 'c11Deprived3')}, 5: {'feature_idx': (24, 60, 164, 186, 238), 'cv_scores': array([0.86056557, 0.8628037 , 0.90231339, 0.82123662, 0.87370445]), 'avg_score': 0.8641247454956179, 'feature_names': ('c11Age90plus', 'c11CarsThree', 'c11IndustryEducation', 'c11Deprived3', 'EDUCATION_Reg. % In need of Improvement (Secondary)')}, 6: {'feature_idx': (24, 60, 162, 164, 186, 238), 'cv_scores': array([0.8662856 , 0.88326365, 0.90818456, 0.8268523 , 0.89683795]), 'avg_score': 0.8762848121772537, 'feature_names': ('c11Age90plus', 'c11CarsThree', 'c11IndustryAdministrative', 'c11IndustryEducation', 'c11Deprived3', 'EDUCATION_Reg. % In need of Improvement (Secondary)')}, 7: {'feature_idx': (24, 60, 162, 164, 186, 229, 238), 'cv_scores': array([0.8735055 , 0.88775196, 0.91444889, 0.83370003, 0.90907574]), 'avg_score': 0.8836964229910101, 'feature_names': ('c11Age90plus', 'c11CarsThree', 'c11IndustryAdministrative', 'c11IndustryEducation', 'c11Deprived3', 'EDUCATION_Region AAB %', 'EDUCATION_Reg. % In need of Improvement (Secondary)')}, 8: {'feature_idx': (24, 52, 60, 162, 164, 186, 229, 238), 'cv_scores': array([0.87801136, 0.89156392, 0.92166673, 0.83799884, 0.91116878]), 'avg_score': 0.8880819245036395, 'feature_names': ('c11Age90plus', 'c11HouseholdOther', 'c11CarsThree', 'c11IndustryAdministrative', 'c11IndustryEducation', 'c11Deprived3', 'EDUCATION_Region AAB %', 'EDUCATION_Reg. % In need of Improvement (Secondary)')}, 9: {'feature_idx': (24, 52, 60, 162, 164, 186, 229, 238, 295), 'cv_scores': array([0.88955495, 0.89998805, 0.92458236, 0.85417999, 0.90151957]), 'avg_score': 0.8939649828322447, 'feature_names': ('c11Age90plus', 'c11HouseholdOther', 'c11CarsThree', 'c11IndustryAdministrative', 'c11IndustryEducation', 'c11Deprived3', 'EDUCATION_Region AAB %', 'EDUCATION_Reg. % In need of Improvement (Secondary)', 'BENEFITEXPENDITURE_of which pensioners')}, 10: {'feature_idx': (20, 24, 52, 60, 162, 164, 186, 229, 238, 295), 'cv_scores': array([0.89785359, 0.90656838, 0.9226203 , 0.86121187, 0.90693517]), 'avg_score': 0.8990378605152622, 'feature_names': ('c11Age60to64', 'c11Age90plus', 'c11HouseholdOther', 'c11CarsThree', 'c11IndustryAdministrative', 'c11IndustryEducation', 'c11Deprived3', 'EDUCATION_Region AAB %', 'EDUCATION_Reg. % In need of Improvement (Secondary)', 'BENEFITEXPENDITURE_of which pensioners')}, 11: {'feature_idx': (20, 24, 52, 60, 162, 164, 186, 207, 229, 238, 295), 'cv_scores': array([0.89984963, 0.91245874, 0.92490218, 0.86422688, 0.90928353]), 'avg_score': 0.9021441935049388, 'feature_names': ('c11Age60to64', 'c11Age90plus', 'c11HouseholdOther', 'c11CarsThree', 'c11IndustryAdministrative', 'c11IndustryEducation', 'c11Deprived3', 'DISEASES_Asthma', 'EDUCATION_Region AAB %', 'EDUCATION_Reg. % In need of Improvement (Secondary)', 'BENEFITEXPENDITURE_of which pensioners')}, 12: {'feature_idx': (20, 24, 52, 60, 88, 162, 164, 186, 207, 229, 238, 295), 'cv_scores': array([0.90526008, 0.90788947, 0.9281796 , 0.87003768, 0.91053376]), 'avg_score': 0.9043801186297932, 'feature_names': ('c11Age60to64', 'c11Age90plus', 'c11HouseholdOther', 'c11CarsThree', 'c11BornScotland', 'c11IndustryAdministrative', 'c11IndustryEducation', 'c11Deprived3', 'DISEASES_Asthma', 'EDUCATION_Region AAB %', 'EDUCATION_Reg. % In need of Improvement (Secondary)', 'BENEFITEXPENDITURE_of which pensioners')}, 13: {'feature_idx': (20, 24, 29, 52, 60, 88, 162, 164, 186, 207, 229, 238, 295), 'cv_scores': array([0.90789753, 0.90838268, 0.92680036, 0.87541681, 0.91375936]), 'avg_score': 0.906451348894316, 'feature_names': ('c11Age60to64', 'c11Age90plus', 'c11HouseSocial', 'c11HouseholdOther', 'c11CarsThree', 'c11BornScotland', 'c11IndustryAdministrative', 'c11IndustryEducation', 'c11Deprived3', 'DISEASES_Asthma', 'EDUCATION_Region AAB %', 'EDUCATION_Reg. % In need of Improvement (Secondary)', 'BENEFITEXPENDITURE_of which pensioners')}, 14: {'feature_idx': (20, 24, 29, 52, 60, 79, 88, 162, 164, 186, 207, 229, 238, 295), 'cv_scores': array([0.91012131, 0.90896387, 0.92887937, 0.87871879, 0.91455765]), 'avg_score': 0.9082481967877877, 'feature_names': ('c11Age60to64', 'c11Age90plus', 'c11HouseSocial', 'c11HouseholdOther', 'c11CarsThree', 'c11EthnicityOtherAsian', 'c11BornScotland', 'c11IndustryAdministrative', 'c11IndustryEducation', 'c11Deprived3', 'DISEASES_Asthma', 'EDUCATION_Region AAB %', 'EDUCATION_Reg. % In need of Improvement (Secondary)', 'BENEFITEXPENDITURE_of which pensioners')}, 15: {'feature_idx': (20, 24, 29, 60, 79, 88, 121, 162, 164, 174, 186, 207, 229, 238, 295), 'cv_scores': array([0.91494206, 0.90900801, 0.93591577, 0.89045984, 0.92670484]), 'avg_score': 0.9154061035590285, 'feature_names': ('c11Age60to64', 'c11Age90plus', 'c11HouseSocial', 'c11CarsThree', 'c11EthnicityOtherAsian', 'c11BornScotland', 'c11NSSECHigherManager', 'c11IndustryAdministrative', 'c11IndustryEducation', 'c11Degree', 'c11Deprived3', 'DISEASES_Asthma', 'EDUCATION_Region AAB %', 'EDUCATION_Reg. % In need of Improvement (Secondary)', 'BENEFITEXPENDITURE_of which pensioners')}, 16: {'feature_idx': (20, 24, 29, 60, 79, 88, 121, 162, 164, 174, 186, 198, 207, 229, 238, 295), 'cv_scores': array([0.91596395, 0.90711879, 0.93551985, 0.89523751, 0.93083176]), 'avg_score': 0.9169343727132663, 'feature_names': ('c11Age60to64', 'c11Age90plus', 'c11HouseSocial', 'c11CarsThree', 'c11EthnicityOtherAsian', 'c11BornScotland', 'c11NSSECHigherManager', 'c11IndustryAdministrative', 'c11IndustryEducation', 'c11Degree', 'c11Deprived3', 'Merseyside', 'DISEASES_Asthma', 'EDUCATION_Region AAB %', 'EDUCATION_Reg. % In need of Improvement (Secondary)', 'BENEFITEXPENDITURE_of which pensioners')}, 17: {'feature_idx': (20, 24, 29, 60, 79, 88, 121, 162, 164, 174, 186, 198, 207, 229, 238, 295, 425), 'cv_scores': array([0.9188684 , 0.90852689, 0.93282242, 0.89809989, 0.93376337]), 'avg_score': 0.918416194650406, 'feature_names': ('c11Age60to64', 'c11Age90plus', 'c11HouseSocial', 'c11CarsThree', 'c11EthnicityOtherAsian', 'c11BornScotland', 'c11NSSECHigherManager', 'c11IndustryAdministrative', 'c11IndustryEducation', 'c11Degree', 'c11Deprived3', 'Merseyside', 'DISEASES_Asthma', 'EDUCATION_Region AAB %', 'EDUCATION_Reg. % In need of Improvement (Secondary)', 'BENEFITEXPENDITURE_of which pensioners', 'ConPPCsex15_Male')}, 18: {'feature_idx': (20, 24, 29, 60, 79, 88, 121, 162, 164, 174, 186, 198, 207, 229, 238, 295, 400, 425), 'cv_scores': array([0.92153758, 0.90713779, 0.93397242, 0.90285277, 0.93425717]), 'avg_score': 0.9199515450705146, 'feature_names': ('c11Age60to64', 'c11Age90plus', 'c11HouseSocial', 'c11CarsThree', 'c11EthnicityOtherAsian', 'c11BornScotland', 'c11NSSECHigherManager', 'c11IndustryAdministrative', 'c11IndustryEducation', 'c11Degree', 'c11Deprived3', 'Merseyside', 'DISEASES_Asthma', 'EDUCATION_Region AAB %', 'EDUCATION_Reg. % In need of Improvement (Secondary)', 'BENEFITEXPENDITURE_of which pensioners', 'Region_Yorkshire and The Humber', 'ConPPCsex15_Male')}, 19: {'feature_idx': (20, 24, 29, 60, 79, 81, 88, 121, 162, 164, 174, 186, 198, 207, 229, 238, 295, 400, 425), 'cv_scores': array([0.92130351, 0.90871229, 0.93595071, 0.90563228, 0.93553271]), 'avg_score': 0.9214262998531876, 'feature_names': ('c11Age60to64', 'c11Age90plus', 'c11HouseSocial', 'c11CarsThree', 'c11EthnicityOtherAsian', 'c11EthnicityBlackCaribbean', 'c11BornScotland', 'c11NSSECHigherManager', 'c11IndustryAdministrative', 'c11IndustryEducation', 'c11Degree', 'c11Deprived3', 'Merseyside', 'DISEASES_Asthma', 'EDUCATION_Region AAB %', 'EDUCATION_Reg. % In need of Improvement (Secondary)', 'BENEFITEXPENDITURE_of which pensioners', 'Region_Yorkshire and The Humber', 'ConPPCsex15_Male')}, 20: {'feature_idx': (20, 24, 29, 60, 79, 81, 88, 121, 149, 162, 164, 174, 186, 198, 207, 229, 238, 295, 400, 425), 'cv_scores': array([0.92113868, 0.90904496, 0.93698374, 0.90829543, 0.93794897]), 'avg_score': 0.9226823572542324, 'feature_names': ('c11Age60to64', 'c11Age90plus', 'c11HouseSocial', 'c11CarsThree', 'c11EthnicityOtherAsian', 'c11EthnicityBlackCaribbean', 'c11BornScotland', 'c11NSSECHigherManager', 'c11IndustryAgriculture', 'c11IndustryAdministrative', 'c11IndustryEducation', 'c11Degree', 'c11Deprived3', 'Merseyside', 'DISEASES_Asthma', 'EDUCATION_Region AAB %', 'EDUCATION_Reg. % In need of Improvement (Secondary)', 'BENEFITEXPENDITURE_of which pensioners', 'Region_Yorkshire and The Humber', 'ConPPCsex15_Male')}}\n"
     ]
    },
    {
     "ename": "NameError",
     "evalue": "name 'plot_sfs' is not defined",
     "output_type": "error",
     "traceback": [
      "\u001b[1;31m---------------------------------------------------------------------------\u001b[0m",
      "\u001b[1;31mNameError\u001b[0m                                 Traceback (most recent call last)",
      "\u001b[1;32m<timed exec>\u001b[0m in \u001b[0;36m<module>\u001b[1;34m\u001b[0m\n",
      "\u001b[1;31mNameError\u001b[0m: name 'plot_sfs' is not defined"
     ]
    }
   ],
   "source": [
    "%%time\n",
    "lr = LinearRegression()\n",
    "\n",
    "efs = SFS(lr, \n",
    "          k_features=(1, 20), \n",
    "          forward=True,\n",
    "          floating=True,\n",
    "          scoring='r2',\n",
    "          cv=5,n_jobs=-1)\n",
    "\n",
    "efs.fit(X, y)\n",
    "\n",
    "print('best combination (ACC: %.3f): %s\\n' % (efs.k_score_, efs.k_feature_idx_))\n",
    "print('all subsets:\\n', efs.subsets_)\n",
    "plot_sfs(efs.get_metric_dict(), kind='std_err');"
   ]
  },
  {
   "cell_type": "code",
   "execution_count": 20,
   "id": "9a725c75",
   "metadata": {},
   "outputs": [
    {
     "data": {
      "image/png": "[encoded data removed]",
      "text/plain": [
       "<Figure size 432x288 with 1 Axes>"
      ]
     },
     "metadata": {},
     "output_type": "display_data"
    }
   ],
   "source": [
    "plot_sfs(efs.get_metric_dict(), kind='std_err');"
   ]
  },
  {
   "cell_type": "code",
   "execution_count": 19,
   "id": "668431f8",
   "metadata": {},
   "outputs": [],
   "source": [
    "# %%time\n",
    "# lr = LinearRegression()\n",
    "\n",
    "# efs = SFS(lr, \n",
    "#           k_features=(1, 20), \n",
    "#           forward=False,\n",
    "#           floating=True,\n",
    "#           scoring='r2',\n",
    "#           cv=5,n_jobs=-1)\n",
    "\n",
    "# efs.fit(X, y)\n",
    "\n",
    "# print('best combination (ACC: %.3f): %s\\n' % (efs.k_score_, efs.k_feature_idx_))\n",
    "# print('all subsets:\\n', efs.subsets_)\n",
    "# plot_sfs(efs.get_metric_dict(), kind='std_err');"
   ]
  },
  {
   "cell_type": "code",
   "execution_count": null,
   "id": "7d080ecc",
   "metadata": {},
   "outputs": [],
   "source": [
    "## backwards selection will be *waay too slow* unless you start with a much smaller set of variables\n",
    "\n",
    "## I think you probably need a custom score to also include 'condition no'"
   ]
  },
  {
   "cell_type": "code",
   "execution_count": null,
   "id": "91adc42e",
   "metadata": {},
   "outputs": [],
   "source": []
  }
 ],
 "metadata": {
  "kernelspec": {
   "display_name": "Python 3",
   "language": "python",
   "name": "python3"
  },
  "language_info": {
   "codemirror_mode": {
    "name": "ipython",
    "version": 3
   },
   "file_extension": ".py",
   "mimetype": "text/x-python",
   "name": "python",
   "nbconvert_exporter": "python",
   "pygments_lexer": "ipython3",
   "version": "3.7.12"
  }
 },
 "nbformat": 4,
 "nbformat_minor": 5
}
