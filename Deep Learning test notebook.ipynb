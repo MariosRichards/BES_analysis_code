{
 "cells": [
  {
   "cell_type": "code",
   "execution_count": 1,
   "metadata": {
    "collapsed": true
   },
   "outputs": [],
   "source": [
    "import numpy as np\n",
    "import pandas as pd\n",
    "%matplotlib inline\n",
    "import matplotlib.pyplot as plt\n",
    "import gc\n",
    "import re\n",
    "\n",
    "from itertools import cycle\n",
    "from IPython.display import display\n",
    "import pickle, os\n",
    "\n",
    "import seaborn as sns\n",
    "\n",
    "encoding = \"ISO-8859-1\"\n",
    "\n",
    "import Jupyter_module_loader"
   ]
  },
  {
   "cell_type": "code",
   "execution_count": 2,
   "metadata": {
    "collapsed": true
   },
   "outputs": [],
   "source": [
    "# you should clone this git to this subdirectory (in some directory - I call it BES_analysis - doesn't matter though)\n",
    "\n",
    "if os.getcwd().split(os.sep)[-1] != 'BES_analysis_code':\n",
    "    raise Exception(\"Stop! You're in the wrong directory - should be in 'BES_analysis_code'\")\n",
    "\n",
    "BES_code_folder   = \"../BES_analysis_code/\" # we should be here!\n",
    "BES_small_data_files = BES_code_folder + \"small data files\" + os.sep\n",
    "if not os.path.exists( BES_small_data_files ):\n",
    "    os.makedirs( BES_small_data_files )\n",
    "\n",
    "# we should create these if they don't already exist\n",
    "BES_data_folder   = \"../BES_analysis_data/\"\n",
    "if not os.path.exists( BES_data_folder ):\n",
    "    os.makedirs( BES_data_folder )\n",
    "\n",
    "BES_output_folder = \"../BES_analysis_output/\"\n",
    "if not os.path.exists( BES_output_folder ):\n",
    "    os.makedirs( BES_output_folder )\n",
    "    \n",
    "BES_file_manifest = pd.read_csv( BES_small_data_files + \"BES_file_manifest.csv\" )\n",
    "\n",
    "BES_R_data_files = BES_data_folder + \"R_data\" + os.sep\n",
    "if not os.path.exists( BES_R_data_files ):\n",
    "    os.makedirs( BES_R_data_files )\n"
   ]
  },
  {
   "cell_type": "code",
   "execution_count": 3,
   "metadata": {
    "collapsed": true
   },
   "outputs": [],
   "source": [
    "dataset_name = \"W10_only\""
   ]
  },
  {
   "cell_type": "code",
   "execution_count": 4,
   "metadata": {},
   "outputs": [
    {
     "name": "stdout",
     "output_type": "stream",
     "text": [
      "BES_Panel (30319, 354)\n",
      "Wall time: 198 ms\n"
     ]
    }
   ],
   "source": [
    "%%time\n",
    "\n",
    "manifest = BES_file_manifest[ BES_file_manifest[\"Name\"] == dataset_name ]\n",
    "\n",
    "data_subfolder = BES_data_folder + dataset_name + os.sep\n",
    "\n",
    "dataset_filename = manifest[\"Stata_Filename\"].values[0]\n",
    "# dataset_description = manifest[\"Friendlier_Description\"].values[0]\n",
    "# dataset_citation = manifest[\"Citation\"].values[0]\n",
    "# dataset_start = manifest[\"Date_Start\"].values[0]\n",
    "# dataset_stop = manifest[\"Date_Stop\"].values[0]\n",
    "# dataset_wave = manifest[\"Wave No\"].values[0]\n",
    "\n",
    "# BES_Panel = pd.read_stata( data_subfolder + dataset_filename )\n",
    "BES_Panel  = pd.read_msgpack(data_subfolder + dataset_filename.replace('.dta','.msgpack'))\n",
    "print(\"BES_Panel\", BES_Panel.shape )"
   ]
  },
  {
   "cell_type": "code",
   "execution_count": 5,
   "metadata": {},
   "outputs": [
    {
     "name": "stdout",
     "output_type": "stream",
     "text": [
      "BES_numeric (30319, 372)\n",
      "var_type (393, 13)\n",
      "BES_non_numeric (30319, 18)\n",
      "BES_reduced (30319, 419)\n",
      "BES_reduced_with_na (30319, 419)\n",
      "Wall time: 450 ms\n"
     ]
    }
   ],
   "source": [
    "%%time\n",
    "\n",
    "BES_numeric = pd.read_hdf( data_subfolder + \"BESnumeric.hdf\", \"BESnumeric\" )\n",
    "print(\"BES_numeric\",  BES_numeric.shape )\n",
    "\n",
    "var_type    = pd.read_csv( data_subfolder + \"var_type.csv\", encoding=encoding)\n",
    "var_type.set_index(\"Unnamed: 0\", inplace=True)\n",
    "print(\"var_type\",  var_type.shape )\n",
    "\n",
    "fname = data_subfolder + \"cat_dictionary.pkl\"\n",
    "with open(fname, \"rb\") as f:\n",
    "    cat_dictionary = pickle.load( f )\n",
    "    \n",
    "####\n",
    "\n",
    "BES_non_numeric = pd.read_hdf( data_subfolder + \"BESnon_numeric.hdf\", \"BESnon_numeric\" )\n",
    "print(\"BES_non_numeric\",  BES_non_numeric.shape )\n",
    "\n",
    "BES_reduced = pd.read_hdf( data_subfolder + \"BES_reduced.hdf\", \"BES_reduced\" )\n",
    "print(\"BES_reduced\",  BES_reduced.shape )\n",
    "\n",
    "BES_reduced_with_na = pd.read_hdf( data_subfolder + \"BES_reduced_with_na.hdf\", \"BES_reduced_with_na\")\n",
    "print(\"BES_reduced_with_na\", BES_reduced_with_na.shape )\n",
    "\n",
    "fname = data_subfolder + \"new_old_col_names.pkl\"\n",
    "with open(fname, \"rb\") as f:\n",
    "    new_old_col_names = pickle.load(f) "
   ]
  },
  {
   "cell_type": "code",
   "execution_count": 70,
   "metadata": {},
   "outputs": [],
   "source": [
    "import tensorflow as tf\n",
    "from tensorflow.python.keras.layers import Dense\n",
    "from tensorflow.python.keras.models import Sequential\n",
    "from tensorflow.python.keras.callbacks import EarlyStopping\n",
    "import time"
   ]
  },
  {
   "cell_type": "code",
   "execution_count": 7,
   "metadata": {
    "collapsed": true
   },
   "outputs": [],
   "source": [
    "# warnings - don't know why, online comments suggest just blocking\n",
    "tf.logging.set_verbosity(tf.logging.ERROR)"
   ]
  },
  {
   "cell_type": "code",
   "execution_count": 90,
   "metadata": {},
   "outputs": [
    {
     "data": {
      "text/html": [
       "['profile_eurefvote_Leave the EU', 'euRefVote_Leave the EU', 'euID_The leave side', 'happyEULeave__Extremely happy']"
      ],
      "text/plain": [
       "['profile_eurefvote_Leave the EU',\n",
       " 'euRefVote_Leave the EU',\n",
       " 'euID_The leave side',\n",
       " 'happyEULeave__Extremely happy']"
      ]
     },
     "execution_count": 90,
     "metadata": {},
     "output_type": "execute_result"
    }
   ],
   "source": [
    "drop_vars = []\n",
    "drop_vars.extend( [x for x in BES_reduced.columns if \"eurefvote\" in x.lower() ] )\n",
    "drop_vars.extend( [x for x in BES_reduced.columns if \"euid_\" in x.lower() ] )\n",
    "drop_vars.extend( [x for x in BES_reduced.columns if \"happyeuleave\" in x.lower() ] )\n",
    "drop_vars                 "
   ]
  },
  {
   "cell_type": "code",
   "execution_count": 91,
   "metadata": {},
   "outputs": [],
   "source": [
    "# [x for x in BES_reduced.columns if \"euref\" in x.lower()]\n",
    "y = BES_reduced['euRefVote_Leave the EU']\n",
    "X = BES_reduced.drop(drop_vars,axis=1)"
   ]
  },
  {
   "cell_type": "code",
   "execution_count": 92,
   "metadata": {
    "collapsed": true
   },
   "outputs": [],
   "source": [
    "from tensorflow.python.keras.utils import to_categorical\n",
    "y = to_categorical(y)"
   ]
  },
  {
   "cell_type": "code",
   "execution_count": 93,
   "metadata": {},
   "outputs": [
    {
     "data": {
      "image/png": "[encoded data removed]",
      "text/plain": [
       "<Figure size 432x288 with 1 Axes>"
      ]
     },
     "metadata": {},
     "output_type": "display_data"
    },
    {
     "name": "stdout",
     "output_type": "stream",
     "text": [
      "107.957599401474\n"
     ]
    }
   ],
   "source": [
    "start_time = time.time()\n",
    "\n",
    "early_stopping_monitor = EarlyStopping(patience=3)\n",
    "\n",
    "n_neurons_layer = 500\n",
    "\n",
    "# Create the model: model\n",
    "model = Sequential()\n",
    "\n",
    "# Add the first hidden layer\n",
    "input_shape = (X.shape[1],)\n",
    "model.add( Dense(n_neurons_layer, activation='relu', input_shape = input_shape) )\n",
    "\n",
    "# Add the second hidden layer\n",
    "model.add( Dense(n_neurons_layer, activation='relu') )\n",
    "\n",
    "# Add the third hidden layer\n",
    "model.add( Dense(n_neurons_layer, activation='relu') )\n",
    "\n",
    "# Add the fourth hidden layer\n",
    "model.add( Dense(n_neurons_layer, activation='relu') )\n",
    "\n",
    "# Add the output layer\n",
    "no_of_outputs = len(np.unique(y))\n",
    "model.add( Dense( no_of_outputs , activation='softmax') )\n",
    "\n",
    "# Compile the model\n",
    "model.compile( optimizer = 'adam',\n",
    "               loss = 'categorical_crossentropy',\n",
    "               metrics=['accuracy'])\n",
    "\n",
    "# Fit the model\n",
    "model_training = model.fit(X, y, epochs=15, validation_split=0.2, callbacks=[early_stopping_monitor], verbose=False)\n",
    "\n",
    "# Create the plot\n",
    "plt.plot(model_training.history['val_loss'], 'r')\n",
    "plt.xlabel('Epochs')\n",
    "plt.ylabel('Validation score')\n",
    "plt.show()\n",
    "\n",
    "elapsed_time = time.time() - start_time\n",
    "print(elapsed_time)"
   ]
  },
  {
   "cell_type": "code",
   "execution_count": null,
   "metadata": {},
   "outputs": [],
   "source": [
    "# 16s, epoch 4:.164"
   ]
  },
  {
   "cell_type": "code",
   "execution_count": null,
   "metadata": {
    "collapsed": true
   },
   "outputs": [],
   "source": []
  },
  {
   "cell_type": "code",
   "execution_count": null,
   "metadata": {},
   "outputs": [],
   "source": []
  },
  {
   "cell_type": "code",
   "execution_count": 13,
   "metadata": {
    "collapsed": true
   },
   "outputs": [],
   "source": [
    "import shap\n",
    "from shap.explainers.deep import DeepExplainer\n",
    "from shap.explainers.gradient import GradientExplainer\n",
    "# e = DeepExplainer(model,X)"
   ]
  },
  {
   "cell_type": "code",
   "execution_count": null,
   "metadata": {},
   "outputs": [],
   "source": []
  },
  {
   "cell_type": "code",
   "execution_count": 15,
   "metadata": {},
   "outputs": [
    {
     "data": {
      "text/plain": [
       "'1.9.0'"
      ]
     },
     "execution_count": 15,
     "metadata": {},
     "output_type": "execute_result"
    }
   ],
   "source": [
    "tf.__version__"
   ]
  },
  {
   "cell_type": "code",
   "execution_count": 16,
   "metadata": {
    "collapsed": true
   },
   "outputs": [],
   "source": [
    "## Deep learning has install issues! Going to create a new environment just for tensorflow\n",
    "\n",
    "\n",
    "# meh - issue is cpu not set up to use post 1.5 special commands!\n",
    "\n",
    "# I guess install gpu_ocelot and cuda version???\n",
    "# lot of work!"
   ]
  },
  {
   "cell_type": "code",
   "execution_count": null,
   "metadata": {},
   "outputs": [],
   "source": []
  },
  {
   "cell_type": "code",
   "execution_count": 94,
   "metadata": {},
   "outputs": [
    {
     "name": "stdout",
     "output_type": "stream",
     "text": [
      "Wall time: 7min 57s\n"
     ]
    }
   ],
   "source": [
    "%%time\n",
    "background = X.loc[np.random.choice(X.shape[0], 1000, replace=False)]\n",
    "\n",
    "# e = shap.DeepExplainer((model.layers[0].input, model.layers[-1].output), background)\n",
    "e = shap.DeepExplainer(model, background)\n",
    "shap_values = e.shap_values(background.values)"
   ]
  },
  {
   "cell_type": "code",
   "execution_count": 83,
   "metadata": {},
   "outputs": [],
   "source": [
    "# 100: 1.2s\n",
    "# 500: 16.4s\n",
    "# 1000: 66s\n",
    "\n",
    "# same size but larger neural net -> 7 mins"
   ]
  },
  {
   "cell_type": "code",
   "execution_count": 95,
   "metadata": {},
   "outputs": [
    {
     "data": {
      "text/plain": [
       "16014"
      ]
     },
     "execution_count": 95,
     "metadata": {},
     "output_type": "execute_result"
    }
   ],
   "source": [
    "gc.collect()\n"
   ]
  },
  {
   "cell_type": "code",
   "execution_count": null,
   "metadata": {},
   "outputs": [],
   "source": []
  },
  {
   "cell_type": "code",
   "execution_count": 96,
   "metadata": {},
   "outputs": [
    {
     "data": {
      "image/png": "[encoded data removed]",
      "text/plain": [
       "<Figure size 576x684 with 2 Axes>"
      ]
     },
     "metadata": {},
     "output_type": "display_data"
    }
   ],
   "source": [
    "shap.summary_plot(shap_values[0], background, plot_type='dot')"
   ]
  },
  {
   "cell_type": "code",
   "execution_count": null,
   "metadata": {
    "collapsed": true
   },
   "outputs": [],
   "source": []
  },
  {
   "cell_type": "code",
   "execution_count": null,
   "metadata": {
    "collapsed": true
   },
   "outputs": [],
   "source": []
  },
  {
   "cell_type": "code",
   "execution_count": null,
   "metadata": {
    "collapsed": true
   },
   "outputs": [],
   "source": []
  },
  {
   "cell_type": "code",
   "execution_count": null,
   "metadata": {
    "collapsed": true
   },
   "outputs": [],
   "source": [
    "### problems getting DeepExplainer to work, tried KernelExplainer ... super slow!"
   ]
  },
  {
   "cell_type": "code",
   "execution_count": 18,
   "metadata": {
    "collapsed": true
   },
   "outputs": [],
   "source": [
    "f = lambda x: model.predict_proba(x)"
   ]
  },
  {
   "cell_type": "code",
   "execution_count": 19,
   "metadata": {},
   "outputs": [
    {
     "name": "stderr",
     "output_type": "stream",
     "text": [
      "Using 304 background data samples could cause slower run times. Consider using shap.kmeans(data, K) to summarize the background as K weighted samples.\n"
     ]
    }
   ],
   "source": [
    "explainer = shap.KernelExplainer(f, X[0:-1:100,0:])"
   ]
  },
  {
   "cell_type": "code",
   "execution_count": 97,
   "metadata": {},
   "outputs": [],
   "source": [
    "# shap_values = explainer.shap_values(X[0:-1:100,0:])\n",
    "# unspeakably slow!"
   ]
  },
  {
   "cell_type": "code",
   "execution_count": 98,
   "metadata": {},
   "outputs": [
    {
     "data": {
      "text/plain": [
       "7505"
      ]
     },
     "execution_count": 98,
     "metadata": {},
     "output_type": "execute_result"
    }
   ],
   "source": [
    "gc.collect()"
   ]
  },
  {
   "cell_type": "code",
   "execution_count": null,
   "metadata": {
    "collapsed": true
   },
   "outputs": [],
   "source": []
  },
  {
   "cell_type": "code",
   "execution_count": null,
   "metadata": {
    "collapsed": true
   },
   "outputs": [],
   "source": []
  },
  {
   "cell_type": "code",
   "execution_count": null,
   "metadata": {
    "collapsed": true
   },
   "outputs": [],
   "source": []
  },
  {
   "cell_type": "code",
   "execution_count": null,
   "metadata": {
    "collapsed": true
   },
   "outputs": [],
   "source": []
  },
  {
   "cell_type": "code",
   "execution_count": null,
   "metadata": {
    "collapsed": true
   },
   "outputs": [],
   "source": []
  },
  {
   "cell_type": "code",
   "execution_count": null,
   "metadata": {
    "collapsed": true
   },
   "outputs": [],
   "source": [
    "import umap"
   ]
  },
  {
   "cell_type": "code",
   "execution_count": null,
   "metadata": {},
   "outputs": [],
   "source": [
    "X.shape"
   ]
  },
  {
   "cell_type": "code",
   "execution_count": null,
   "metadata": {
    "collapsed": true
   },
   "outputs": [],
   "source": [
    "y = BES_reduced['euRefVote_Leave the EU'].values"
   ]
  },
  {
   "cell_type": "code",
   "execution_count": null,
   "metadata": {
    "collapsed": true
   },
   "outputs": [],
   "source": []
  },
  {
   "cell_type": "code",
   "execution_count": null,
   "metadata": {},
   "outputs": [],
   "source": [
    "from sklearn.model_selection import train_test_split\n",
    "X_train, X_test, y_train, y_test = train_test_split(X, y, test_size=0.1, stratify = y, random_state=42)\n",
    "X_test.shape"
   ]
  },
  {
   "cell_type": "code",
   "execution_count": null,
   "metadata": {
    "collapsed": true
   },
   "outputs": [],
   "source": [
    "import numpy as np\n",
    "import matplotlib.pyplot as plt\n",
    "import seaborn as sns\n",
    "import time\n",
    "\n",
    "from sklearn import datasets, decomposition, manifold, preprocessing\n",
    "from colorsys import hsv_to_rgb\n",
    "\n",
    "import umap"
   ]
  },
  {
   "cell_type": "code",
   "execution_count": null,
   "metadata": {},
   "outputs": [],
   "source": [
    "\n",
    "\n",
    "sns.set(context=\"paper\", style=\"white\")\n",
    "\n",
    "# blobs, blob_labels = datasets.make_blobs(\n",
    "#     n_samples=500, n_features=10, centers=5, random_state=42\n",
    "# )\n",
    "# iris = datasets.load_iris()\n",
    "# digits = datasets.load_digits(n_class=10)\n",
    "# wine = datasets.load_wine()\n",
    "# swissroll, swissroll_labels = datasets.make_swiss_roll(\n",
    "#     n_samples=1000, noise=0.1, random_state=42\n",
    "# )\n",
    "# sphere = np.random.normal(size=(600, 3))\n",
    "# sphere = preprocessing.normalize(sphere)\n",
    "# sphere_hsv = np.array(\n",
    "#     [\n",
    "#         (\n",
    "#             (np.arctan2(c[1], c[0]) + np.pi) / (2 * np.pi),\n",
    "#             np.abs(c[2]),\n",
    "#             min((c[2] + 1.1), 1.0),\n",
    "#         )\n",
    "#         for c in sphere\n",
    "#     ]\n",
    "# )\n",
    "# sphere_colors = np.array([hsv_to_rgb(*c) for c in sphere_hsv])\n",
    "\n",
    "reducers = [\n",
    "#      (manifold.TSNE, {\"perplexity\": 50}),\n",
    "    # (manifold.LocallyLinearEmbedding, {'n_neighbors':10, 'method':'hessian'}),\n",
    "#     (manifold.Isomap, {\"n_neighbors\": 30}),\n",
    "#     (manifold.MDS, {}),\n",
    "#     (decomposition.PCA, {}),\n",
    "    (umap.UMAP, {\"n_neighbors\": 15, \"min_dist\": 0.001}),\n",
    "]\n",
    "\n",
    "test_data = [\n",
    "#     (blobs, blob_labels),\n",
    "#     (iris.data, iris.target),\n",
    "#     (digits.data, digits.target),\n",
    "#     (wine.data, wine.target),\n",
    "#     (swissroll, swissroll_labels),\n",
    "#     (sphere, sphere_colors),\n",
    "#     (X_test, y_test)\n",
    "      (X, y)\n",
    "]\n",
    "# dataset_names = [\"Blobs\", \"Iris\", \"Digits\", \"Wine\", \"Swiss Roll\", \"Sphere\"]\n",
    "dataset_names = [\"BES\"]\n",
    "\n",
    "n_rows = len(test_data)\n",
    "n_cols = len(reducers)\n",
    "ax_index = 1\n",
    "ax_list = []\n",
    "\n",
    "# plt.figure(figsize=(9 * 2 + 3, 12.5))\n",
    "plt.figure(figsize=(16, 12))\n",
    "plt.subplots_adjust(\n",
    "    left=.02, right=.98, bottom=.001, top=.96, wspace=.05, hspace=.01\n",
    ")\n",
    "for data, labels in test_data:\n",
    "    for reducer, args in reducers:\n",
    "        print(reducer)\n",
    "        start_time = time.time()\n",
    "        embedding = reducer(n_components=2, **args).fit_transform(data)\n",
    "        elapsed_time = time.time() - start_time\n",
    "        ax = plt.subplot(n_rows, n_cols, ax_index)\n",
    "        if isinstance(labels[0], tuple):\n",
    "            ax.scatter(*embedding.T, s=10, c=labels, alpha=0.5)\n",
    "        else:\n",
    "            ax.scatter(\n",
    "                *embedding.T, s=10, c=labels, cmap=\"Spectral\", alpha=0.5\n",
    "            )\n",
    "        ax.text(\n",
    "            0.99,\n",
    "            0.01,\n",
    "            \"{:.2f} s\".format(elapsed_time),\n",
    "            transform=ax.transAxes,\n",
    "            size=14,\n",
    "            horizontalalignment=\"right\",\n",
    "        )\n",
    "        ax_list.append(ax)\n",
    "        ax_index += 1\n",
    "plt.setp(ax_list, xticks=[], yticks=[])\n",
    "\n",
    "for i in np.arange(n_rows) * n_cols:\n",
    "    ax_list[i].set_ylabel(dataset_names[i // n_cols], size=16)\n",
    "for i in range(n_cols):\n",
    "    ax_list[i].set_xlabel(repr(reducers[i][0]()).split(\"(\")[0], size=16)\n",
    "    ax_list[i].xaxis.set_label_position(\"top\")\n",
    "\n",
    "plt.tight_layout()\n",
    "plt.show()"
   ]
  },
  {
   "cell_type": "code",
   "execution_count": null,
   "metadata": {
    "collapsed": true
   },
   "outputs": [],
   "source": [
    "def draw_umap(data, labels, n_neighbors=15, min_dist=0.1, n_components=2, metric='euclidean', title=''):\n",
    "    fit = umap.UMAP(\n",
    "        n_neighbors=n_neighbors,\n",
    "        min_dist=min_dist,\n",
    "        n_components=n_components,\n",
    "        metric=metric\n",
    "    )\n",
    "    start_time = time.time()\n",
    "    u = fit.fit_transform(data);\n",
    "    elapsed_time = time.time() - start_time   \n",
    "    \n",
    "    \n",
    "    \n",
    "    fig = plt.figure(figsize=(16, 12))\n",
    "    if n_components == 1:\n",
    "        ax = fig.add_subplot(111)\n",
    "        ax.scatter(u[:,0], range(len(u)), s=10, c=labels, cmap=\"Spectral\", alpha=0.5)\n",
    "    if n_components == 2:\n",
    "        ax = fig.add_subplot(111)\n",
    "        ax.scatter(u[:,0], u[:,1], s=10, c=labels, cmap=\"Spectral\", alpha=0.5)\n",
    "    if n_components == 3:\n",
    "        ax = fig.add_subplot(111, projection='3d')\n",
    "        ax.scatter(u[:,0], u[:,1], u[:,2], s=100, c=labels, cmap=\"Spectral\", alpha=0.5)\n",
    "        \n",
    "    ax.text(\n",
    "        0.99,\n",
    "        0.01,\n",
    "        \"{:.2f} s\".format(elapsed_time),\n",
    "        transform=ax.transAxes,\n",
    "        size=14,\n",
    "        horizontalalignment=\"right\",\n",
    "    )        \n",
    "    plt.title(title, fontsize=18)\n",
    "    return fit, u\n",
    "\n",
    "def fit_umap(data, labels=[], n_neighbors=15, min_dist=0.1, n_components=2, metric='euclidean', title=''):\n",
    "    fit = umap.UMAP(\n",
    "        n_neighbors=n_neighbors,\n",
    "        min_dist=min_dist,\n",
    "        n_components=n_components,\n",
    "        metric=metric\n",
    "    )\n",
    "    start_time = time.time()\n",
    "    if len(labels)!=0:\n",
    "        u = fit.fit_transform(data,labels);\n",
    "    else:\n",
    "        u = fit.fit_transform(data);\n",
    "    elapsed_time = time.time() - start_time\n",
    "    return fit, u, elapsed_time\n",
    "\n",
    "def draw_fitted_umap(u, elapsed_time, labels, label_strings=None, n_neighbors=15, min_dist=0.1, n_components=2, metric='euclidean', title=''):\n",
    "    fig = plt.figure(figsize=(16, 12))\n",
    "    if n_components == 1:\n",
    "        ax = fig.add_subplot(111)\n",
    "        sc = ax.scatter(u[:,0], range(len(u)), s=10, c=labels, cmap=\"Spectral\", alpha=0.5, label = label_strings)\n",
    "    if n_components == 2:\n",
    "        ax = fig.add_subplot(111)\n",
    "        unique = list(set(labels))\n",
    "        colors = [plt.cm.nipy_spectral(float(i)/max(unique)) for i in unique]    \n",
    "\n",
    "        for lab in range(0,np.max(labels)+1):\n",
    "            ax.scatter(u[labels==lab,0], u[labels==lab,1], s=10, c=colors[lab], alpha=0.5, label = label_strings[lab])\n",
    "            \n",
    "    if n_components == 3:\n",
    "        ax = fig.add_subplot(111, projection='3d')\n",
    "        sc = ax.scatter(u[:,0], u[:,1], u[:,2], s=100, c=labels, cmap=\"Spectral\", alpha=0.5, label = label_strings)\n",
    "        \n",
    "#     if len(label_strings) != 0:\n",
    "#         ax.legend()\n",
    "#     else:\n",
    "#         fig.colorbar(sc,ax=ax)\n",
    "    ax.text(\n",
    "        0.99,\n",
    "        0.01,\n",
    "        \"{:.2f} s\".format(elapsed_time),\n",
    "        transform=ax.transAxes,\n",
    "        size=14,\n",
    "        horizontalalignment=\"right\",\n",
    "    )        \n",
    "    plt.title(title, fontsize=18)\n",
    "    ax.legend()\n",
    "    return ax\n",
    "\n",
    "\n",
    "# def draw_fitted_umap_with_labels(u, elapsed_time, labels, label_strings=None,\n",
    "#                                  n_neighbors=15, min_dist=0.1, n_components=2, metric='euclidean', title=''):\n",
    "    \n",
    "\n"
   ]
  },
  {
   "cell_type": "code",
   "execution_count": null,
   "metadata": {
    "collapsed": true
   },
   "outputs": [],
   "source": [
    "fit, u, elapsed_time = fit_umap(X, y)"
   ]
  },
  {
   "cell_type": "code",
   "execution_count": null,
   "metadata": {},
   "outputs": [],
   "source": [
    "# englishness__Very strongly English\n",
    "draw_fitted_umap(u, elapsed_time, BES_reduced['englishness__Very strongly English'].values)\n"
   ]
  },
  {
   "cell_type": "code",
   "execution_count": null,
   "metadata": {
    "collapsed": true
   },
   "outputs": [],
   "source": []
  },
  {
   "cell_type": "code",
   "execution_count": null,
   "metadata": {
    "collapsed": true
   },
   "outputs": [],
   "source": [
    "X2 = np.zeros((X[[0,1],:]).shape)"
   ]
  },
  {
   "cell_type": "code",
   "execution_count": null,
   "metadata": {},
   "outputs": [],
   "source": [
    "X2.shape"
   ]
  },
  {
   "cell_type": "code",
   "execution_count": null,
   "metadata": {},
   "outputs": [],
   "source": [
    "X.shape"
   ]
  },
  {
   "cell_type": "code",
   "execution_count": null,
   "metadata": {
    "collapsed": true
   },
   "outputs": [],
   "source": []
  },
  {
   "cell_type": "code",
   "execution_count": null,
   "metadata": {},
   "outputs": [],
   "source": [
    "from sklearn.preprocessing import StandardScaler\n",
    "scaler = StandardScaler()\n",
    "\n",
    "var_name = \"euRefVote\"\n",
    "drop_vars = [x for x in BES_reduced.columns if var_name in x]\n",
    "X = BES_reduced.drop(drop_vars,axis=1).values\n",
    "y = BES_Panel[var_name].cat.codes\n",
    "\n",
    "X_std = scaler.fit_transform(X)\n",
    "fit, u, elapsed_time = fit_umap(X_std, y, n_neighbors=30, min_dist=0.2, n_components=2, metric='euclidean', title='')\n",
    "print(elapsed_time)"
   ]
  },
  {
   "cell_type": "code",
   "execution_count": null,
   "metadata": {},
   "outputs": [],
   "source": [
    "# draw_fitted_umap(u, elapsed_time, labels, label_strings=None\n",
    "label_strings=BES_Panel[var_name].cat.categories\n",
    "draw_fitted_umap(u, elapsed_time, y, label_strings)"
   ]
  },
  {
   "cell_type": "code",
   "execution_count": null,
   "metadata": {},
   "outputs": [],
   "source": [
    "df_u = pd.DataFrame(u)\n",
    "df_u_0_corr = BES_reduced.drop(drop_vars,axis=1).corrwith(df_u[0])\n",
    "df_u_0_corr.sort_values()"
   ]
  },
  {
   "cell_type": "code",
   "execution_count": null,
   "metadata": {},
   "outputs": [],
   "source": [
    "df_u_1_corr = BES_reduced.drop(drop_vars,axis=1).corrwith(df_u[1])\n",
    "df_u_1_corr.sort_values()\n"
   ]
  },
  {
   "cell_type": "code",
   "execution_count": null,
   "metadata": {
    "collapsed": true
   },
   "outputs": [],
   "source": []
  },
  {
   "cell_type": "code",
   "execution_count": null,
   "metadata": {
    "collapsed": true
   },
   "outputs": [],
   "source": [
    "fit, u, elapsed_time = fit_umap(X, BES_reduced['euRefVote_Leave the EU'].values)"
   ]
  },
  {
   "cell_type": "code",
   "execution_count": null,
   "metadata": {},
   "outputs": [],
   "source": [
    "draw_fitted_umap(u, elapsed_time, BES_reduced['euRefVote_Leave the EU'].values)"
   ]
  },
  {
   "cell_type": "code",
   "execution_count": null,
   "metadata": {
    "collapsed": true
   },
   "outputs": [],
   "source": []
  },
  {
   "cell_type": "code",
   "execution_count": null,
   "metadata": {
    "collapsed": true
   },
   "outputs": [],
   "source": []
  },
  {
   "cell_type": "code",
   "execution_count": null,
   "metadata": {
    "collapsed": true
   },
   "outputs": [],
   "source": [
    "df_u = pd.DataFrame(u)\n",
    "df_u_0_corr = BES_reduced.drop(['euRefVote_Leave the EU'],axis=1).corrwith(df_u[0])\n",
    "df_u_0_corr.sort_values()\n",
    "# euRef standard split"
   ]
  },
  {
   "cell_type": "code",
   "execution_count": null,
   "metadata": {},
   "outputs": [],
   "source": [
    "df_u_1_corr = BES_reduced.drop(['euRefVote_Leave the EU'],axis=1).corrwith(df_u[1])\n",
    "df_u_1_corr.sort_values()\n"
   ]
  },
  {
   "cell_type": "code",
   "execution_count": null,
   "metadata": {},
   "outputs": [],
   "source": [
    "# try another variable\n",
    "\n",
    "[x for x in BES_reduced.columns if \"generalElection\" in x]"
   ]
  },
  {
   "cell_type": "code",
   "execution_count": null,
   "metadata": {
    "collapsed": true
   },
   "outputs": [],
   "source": []
  },
  {
   "cell_type": "code",
   "execution_count": null,
   "metadata": {
    "collapsed": true
   },
   "outputs": [],
   "source": [
    "var_name = \"generalElectionVote\"\n",
    "drop_vars = [x for x in BES_reduced.columns if var_name in x]\n",
    "X = BES_reduced.drop(drop_vars,axis=1).values\n",
    "y = BES_Panel[var_name].cat.codes\n",
    "\n",
    "fit, u, elapsed_time = fit_umap(X, y, n_neighbors=10, min_dist=0.01, n_components=2, metric='euclidean', title='')"
   ]
  },
  {
   "cell_type": "code",
   "execution_count": null,
   "metadata": {},
   "outputs": [],
   "source": [
    "var_name = \"generalElectionVote\"\n",
    "title = \"\"\n",
    "n_components == 2\n",
    "label_strings=BES_Panel[var_name].cat.categories\n",
    "labels = y\n",
    "\n",
    "fig = plt.figure(figsize=(16, 12))\n",
    "if n_components == 1:\n",
    "    ax = fig.add_subplot(111)\n",
    "    sc = ax.scatter(u[:,0], range(len(u)), s=10, c=labels, cmap=\"Spectral\", alpha=0.5, label = label_strings)\n",
    "if n_components == 2:\n",
    "    ax = fig.add_subplot(111)\n",
    "    \n",
    "    unique = list(set(labels))\n",
    "    colors = [plt.cm.nipy_spectral(float(i)/max(unique)) for i in unique]    \n",
    "    \n",
    "    for lab in range(0,np.max(labels)+1):\n",
    "        ax.scatter(u[labels==lab,0], u[labels==lab,1], s=10, c=colors[lab], alpha=0.5, label = label_strings[lab])\n",
    "if n_components == 3:\n",
    "    ax = fig.add_subplot(111, projection='3d')\n",
    "    sc = ax.scatter(u[:,0], u[:,1], u[:,2], s=100, c=labels, cmap=\"Spectral\", alpha=0.5, label = label_strings)\n",
    "\n",
    "#     if len(label_strings) != 0:\n",
    "#         ax.legend()\n",
    "#     else:\n",
    "#         fig.colorbar(sc,ax=ax)\n",
    "ax.text(\n",
    "    0.99,\n",
    "    0.01,\n",
    "    \"{:.2f} s\".format(elapsed_time),\n",
    "    transform=ax.transAxes,\n",
    "    size=14,\n",
    "    horizontalalignment=\"right\",\n",
    ");\n",
    "plt.title(title, fontsize=18);\n",
    "\n",
    "\n",
    "ax.legend();"
   ]
  },
  {
   "cell_type": "code",
   "execution_count": null,
   "metadata": {
    "collapsed": true
   },
   "outputs": [],
   "source": []
  },
  {
   "cell_type": "code",
   "execution_count": null,
   "metadata": {
    "collapsed": true
   },
   "outputs": [],
   "source": []
  },
  {
   "cell_type": "code",
   "execution_count": null,
   "metadata": {},
   "outputs": [],
   "source": [
    "\n"
   ]
  },
  {
   "cell_type": "code",
   "execution_count": null,
   "metadata": {},
   "outputs": [],
   "source": [
    "df_u = pd.DataFrame(u)\n",
    "df_u_0_corr = BES_reduced.drop(drop_vars,axis=1).corrwith(df_u[0])\n",
    "df_u_0_corr.sort_values()"
   ]
  },
  {
   "cell_type": "code",
   "execution_count": null,
   "metadata": {},
   "outputs": [],
   "source": [
    "df_u_1_corr = BES_reduced.drop(drop_vars,axis=1).corrwith(df_u[1])\n",
    "df_u_1_corr.sort_values()\n"
   ]
  },
  {
   "cell_type": "code",
   "execution_count": null,
   "metadata": {
    "collapsed": true
   },
   "outputs": [],
   "source": []
  },
  {
   "cell_type": "code",
   "execution_count": null,
   "metadata": {
    "collapsed": true
   },
   "outputs": [],
   "source": []
  },
  {
   "cell_type": "code",
   "execution_count": null,
   "metadata": {
    "collapsed": true
   },
   "outputs": [],
   "source": []
  },
  {
   "cell_type": "code",
   "execution_count": null,
   "metadata": {
    "collapsed": true
   },
   "outputs": [],
   "source": []
  }
 ],
 "metadata": {
  "anaconda-cloud": {},
  "kernelspec": {
   "display_name": "Python [default]",
   "language": "python",
   "name": "python3"
  },
  "language_info": {
   "codemirror_mode": {
    "name": "ipython",
    "version": 3
   },
   "file_extension": ".py",
   "mimetype": "text/x-python",
   "name": "python",
   "nbconvert_exporter": "python",
   "pygments_lexer": "ipython3",
   "version": "3.5.5"
  }
 },
 "nbformat": 4,
 "nbformat_minor": 2
}
