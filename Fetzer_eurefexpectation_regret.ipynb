{
 "cells": [
  {
   "cell_type": "code",
   "execution_count": null,
   "metadata": {},
   "outputs": [],
   "source": [
    "# https://twitter.com/fetzert/status/1164859743791435776\n",
    "\n",
    "# weird pattern: Remainers who expected Leave to win and regret their vote\n",
    "\n",
    "# euRefExpectation W7W8\n",
    "\n",
    "# regretsIHaveAFewEU W9W10W11W14\n"
   ]
  },
  {
   "cell_type": "code",
   "execution_count": 1,
   "metadata": {},
   "outputs": [],
   "source": [
    "import numpy as np, pandas as pd, matplotlib.pyplot as plt, seaborn as sns\n",
    "import pickle, os, gc, re\n",
    "sns.set()\n",
    "sns.palplot(sns.color_palette(\"colorblind\"))\n",
    "from IPython.display import display, display_html, HTML\n",
    "\n",
    "import Jupyter_module_loader\n",
    "from utility import *\n",
    "import gaussian_kde\n"
   ]
  },
  {
   "cell_type": "code",
   "execution_count": 2,
   "metadata": {},
   "outputs": [],
   "source": [
    "dataset_name = \"W14_comb\"\n",
    "df_list = [\n",
    "           \"BES_Panel\",\n",
    "           \"BES_reduced_with_na\",\n",
    "#            \"BESnumeric\"\n",
    "#            \"BES_reduced\",\n",
    "#            \"BESnumeric\"\n",
    "          ]"
   ]
  },
  {
   "cell_type": "code",
   "execution_count": 3,
   "metadata": {},
   "outputs": [],
   "source": [
    "# you should clone this git to a subdirectory called 'BES_analysis_code' (in some directory - I call it BES_analysis - doesn't matter though)\n",
    "%matplotlib inline\n",
    "encoding = \"ISO-8859-1\"\n",
    "\n",
    "(BES_code_folder, BES_small_data_files, BES_data_folder,\n",
    " BES_output_folder, BES_file_manifest, BES_R_data_files) = setup_directories()\n",
    "\n",
    "\n"
   ]
  },
  {
   "cell_type": "code",
   "execution_count": 4,
   "metadata": {},
   "outputs": [
    {
     "name": "stdout",
     "output_type": "stream",
     "text": [
      "var_type (5692, 13)\n"
     ]
    }
   ],
   "source": [
    "global BES_Panel, BES_numeric, BES_reduced, BES_reduced_with_na, BES_non_numeric\n",
    "data_subfolder = BES_data_folder + dataset_name + os.sep\n",
    "\n",
    "(manifest, dataset_filename, dataset_description, dataset_citation,\n",
    " dataset_start, dataset_stop, dataset_wave) = get_manifest(dataset_name, BES_file_manifest)\n",
    "\n",
    "for df in df_list:\n",
    "    if df==\"BES_Panel\":\n",
    "        globals()[df]  = pd.read_msgpack(data_subfolder + dataset_filename.replace('.dta','.msgpack'))\n",
    "    else:\n",
    "        globals()[df]  = pd.read_msgpack(data_subfolder + df + '.msgpack' )\n",
    "        globals()[df].replace(-1,np.nan,inplace=True)\n",
    "  \n",
    "(var_type, cat_dictionary, new_old_col_names, old_new_col_names) = get_small_files(data_subfolder, encoding)"
   ]
  },
  {
   "cell_type": "code",
   "execution_count": 5,
   "metadata": {},
   "outputs": [
    {
     "data": {
      "text/plain": [
       "euRefExpectationW7__100 - UK will definitely vote to leave the EU    26258\n",
       "euRefExpectationW8__100 - UK will definitely vote to leave the EU    28345\n",
       "dtype: int64"
      ]
     },
     "execution_count": 5,
     "metadata": {},
     "output_type": "execute_result"
    }
   ],
   "source": [
    "search(BES_reduced_with_na,\"euRefExpectation\")"
   ]
  },
  {
   "cell_type": "code",
   "execution_count": 6,
   "metadata": {},
   "outputs": [
    {
     "data": {
      "text/plain": [
       "regretsIHaveAFewEUW10__I did not vote    29711\n",
       "regretsIHaveAFewEUW11__I did not vote    30439\n",
       "regretsIHaveAFewEUW14__I did not vote    30287\n",
       "regretsIHaveAFewEUW9_Yes                 27564\n",
       "dtype: int64"
      ]
     },
     "execution_count": 6,
     "metadata": {},
     "output_type": "execute_result"
    }
   ],
   "source": [
    "search(BES_reduced_with_na,\"regretsIHaveAFewEU\")"
   ]
  },
  {
   "cell_type": "code",
   "execution_count": 7,
   "metadata": {},
   "outputs": [
    {
     "data": {
      "text/plain": [
       "regretsIHaveAFewEUW9     28248\n",
       "regretsIHaveAFewEUW10    30237\n",
       "regretsIHaveAFewEUW11    30956\n",
       "regretsIHaveAFewEUW14    31063\n",
       "dtype: int64"
      ]
     },
     "execution_count": 7,
     "metadata": {},
     "output_type": "execute_result"
    }
   ],
   "source": [
    "search(BES_Panel,\"regretsIHaveAFewEU\")"
   ]
  },
  {
   "cell_type": "code",
   "execution_count": 25,
   "metadata": {},
   "outputs": [
    {
     "data": {
      "text/plain": [
       "regretsIHaveAFewEUW9_Yes                 27564\n",
       "regretsIHaveAFewEUW10__I did not vote    29711\n",
       "regretsIHaveAFewEUW14__I did not vote    30287\n",
       "regretsIHaveAFewEUW11__I did not vote    30439\n",
       "dtype: int64"
      ]
     },
     "execution_count": 25,
     "metadata": {},
     "output_type": "execute_result"
    }
   ],
   "source": [
    "search(BES_reduced_with_na,\"regretsIHaveAFewEU\").sort_values()"
   ]
  },
  {
   "cell_type": "code",
   "execution_count": 11,
   "metadata": {},
   "outputs": [],
   "source": [
    "euref_corrs = BES_reduced_with_na.corrwith(BES_reduced_with_na[\"profile_eurefvote_Leave the EU\"])"
   ]
  },
  {
   "cell_type": "code",
   "execution_count": 13,
   "metadata": {},
   "outputs": [
    {
     "data": {
      "text/plain": [
       "approveEUW9__Strongly approve                             -0.714853\n",
       "euRefDoOverW10_Yes                                        -0.691213\n",
       "euRefFinalPostW9_Yes                                      -0.686528\n",
       "euRefDoOverW11_Yes                                        -0.674169\n",
       "euRefDoOverW14_Yes                                        -0.672095\n",
       "euUKRichW8__Strongly agree                                -0.670543\n",
       "euScepticismW7__Work towards single European government   -0.666793\n",
       "euRefDoOverW13_Yes                                        -0.665256\n",
       "euLawsLevelW8__Strongly agree                             -0.646034\n",
       "approveEUW7__Strongly approve                             -0.645013\n",
       "euUKRichW7__Strongly agree                                -0.643954\n",
       "socialIdentityGlobalRemainW10__A great deal in common     -0.625950\n",
       "euPreventWarW8__Strongly agree                            -0.619365\n",
       "euLeaveBigBusinessW8__Much more likely                    -0.618486\n",
       "immigSelfW9__Allow many more                              -0.611603\n",
       "immigSelfW11__Allow many more                             -0.611199\n",
       "europeannessW9__Very strongly European                    -0.610899\n",
       "europeannessW11__Very strongly European                   -0.609478\n",
       "euLeaveBigBusinessW10__Much more likely                   -0.609198\n",
       "euLawsLevelW7__Strongly agree                             -0.608007\n",
       "approveEUW10__Strongly approve                            -0.607995\n",
       "euLeaveBigBusinessW11__Much more likely                   -0.606896\n",
       "euLeaveBigBusinessW14__Much more likely                   -0.602886\n",
       "immigSelfW12__Allow many more                             -0.602662\n",
       "europeannessW12__Very strongly European                   -0.601217\n",
       "immigSelfW10__Allow many more                             -0.598477\n",
       "immigSelfW8__Allow many more                              -0.598397\n",
       "euLeaveBigBusinessW7__Much more likely                    -0.594313\n",
       "euLeaveBigBusinessW13__Much more likely                   -0.592095\n",
       "europeannessW10__Very strongly European                   -0.591012\n",
       "                                                             ...   \n",
       "euIDW7_The leave side                                      0.839846\n",
       "euRefVoteW7_Leave the EU                                   0.847763\n",
       "euRefVoteW14_Leave the EU                                  0.860719\n",
       "euExpRefW7_To leave the European Union                     0.870910\n",
       "happyEULeaveW14__Extremely happy                           0.872130\n",
       "euRefVoteUnsqueezeW7_Leave the EU                          0.875603\n",
       "euIDW8_The leave side                                      0.878528\n",
       "happyEULeaveW11__Extremely happy                           0.880344\n",
       "euRefVote2W8_Leave the EU                                  0.882115\n",
       "euRefVoteW13_Leave the EU                                  0.882741\n",
       "euRefVoteW12_Leave the EU                                  0.885979\n",
       "euIDW14_The leave side                                     0.886990\n",
       "happyEULeaveW10__Extremely happy                           0.887023\n",
       "euRefVoteW11_Leave the EU                                  0.890419\n",
       "euRefVoteW8_Leave the EU                                   0.893136\n",
       "euRefVoteUnsqueezeW8_Leave the EU                          0.904181\n",
       "euIDW12_The leave side                                     0.905492\n",
       "euRefVoteW10_Leave the EU                                  0.906352\n",
       "happyEULeaveW9__Extremely happy                            0.907242\n",
       "euIDW11_The leave side                                     0.911943\n",
       "euIDW13_The leave side                                     0.913719\n",
       "euIDW10_The leave side                                     0.924461\n",
       "euRefVotePostW8_Leave the EU                               0.959713\n",
       "euIDW9_The leave side                                      0.965069\n",
       "euRefpastVoteW13_Leave the EU                              0.967614\n",
       "euRefpastVoteW11_Leave the EU                              0.970945\n",
       "euRefpastVoteW12_Leave the EU                              0.972664\n",
       "euRefpastVoteW14_Leave the EU                              1.000000\n",
       "profile_eurefvote_Leave the EU                             1.000000\n",
       "euRefVoteW9_Leave the EU                                   1.000000\n",
       "Length: 6838, dtype: float64"
      ]
     },
     "execution_count": 13,
     "metadata": {},
     "output_type": "execute_result"
    }
   ],
   "source": [
    "euref_corrs.dropna().sort_values()"
   ]
  },
  {
   "cell_type": "code",
   "execution_count": 115,
   "metadata": {},
   "outputs": [],
   "source": [
    "expect_corrs = BES_reduced_with_na.corrwith(BES_reduced_with_na[\"euRefExpectationW8__100 - UK will definitely vote to leave the EU\"])"
   ]
  },
  {
   "cell_type": "code",
   "execution_count": 117,
   "metadata": {},
   "outputs": [
    {
     "data": {
      "text/plain": [
       "normEUW8__Strongly agree                                            -0.376957\n",
       "normEUW7__Strongly agree                                            -0.345148\n",
       "euLeaveBigBusinessW8__Much more likely                              -0.327202\n",
       "socialIdentityGlobalRemainW8__A great deal in common                -0.322132\n",
       "euRefFinalPostW9_Yes                                                -0.314879\n",
       "euUKRichW8__Strongly agree                                          -0.309949\n",
       "socialIdentityGlobalRemainW10__A great deal in common               -0.308696\n",
       "euLeaveBigBusinessW7__Much more likely                              -0.302089\n",
       "socialIdentityGlobalRemainW7__A great deal in common                -0.300073\n",
       "euLeaveBigBusinessW14__Much more likely                             -0.295185\n",
       "approveEUW9__Strongly approve                                       -0.294378\n",
       "euLeaveBigBusinessW13__Much more likely                             -0.293040\n",
       "euUKRichW7__Strongly agree                                          -0.292818\n",
       "euLeaveBigBusinessW11__Much more likely                             -0.290971\n",
       "euLawsLevelW8__Strongly agree                                       -0.290603\n",
       "euLeaveBigBusinessW10__Much more likely                             -0.288842\n",
       "euScepticismW7__Work towards single European government             -0.287896\n",
       "immigEconW8__Good for economy                                       -0.285288\n",
       "socialIdentityGlobalRemainW9__A great deal in common                -0.282593\n",
       "approveEUW7__Strongly approve                                       -0.281990\n",
       "euCloserW8__Strongly agree                                          -0.281109\n",
       "betterDealEUW7__Much better                                         -0.278673\n",
       "euRefDoOverW10_Yes                                                  -0.276843\n",
       "euRefDoOverW14_Yes                                                  -0.273260\n",
       "europeannessW9__Very strongly European                              -0.272471\n",
       "immigEconW7__Good for economy                                       -0.272056\n",
       "immigEconW11__Good for economy                                      -0.269745\n",
       "immigSelfW9__Allow many more                                        -0.268761\n",
       "immigSelfW12__Allow many more                                       -0.267990\n",
       "immigSelfW11__Allow many more                                       -0.267538\n",
       "                                                                       ...   \n",
       "EUIntegrationSelfW8__Protect our independence                        0.345011\n",
       "euIDW13_The leave side                                               0.345867\n",
       "euRefVoteW11_Leave the EU                                            0.347377\n",
       "euRefpastVoteW13_Leave the EU                                        0.350111\n",
       "euRefpastVoteW12_Leave the EU                                        0.350289\n",
       "euRefVoteW10_Leave the EU                                            0.351802\n",
       "socialIdentityGlobalLeaveW8__A great deal in common                  0.351888\n",
       "euIDW11_The leave side                                               0.351999\n",
       "euExpRefW7_To leave the European Union                               0.352517\n",
       "euIDW10_The leave side                                               0.352987\n",
       "happyEULeaveW14__Extremely happy                                     0.353482\n",
       "euIDW12_The leave side                                               0.355435\n",
       "euRefpastVoteW11_Leave the EU                                        0.355792\n",
       "profile_eurefvote_Leave the EU                                       0.359093\n",
       "euRefVoteW9_Leave the EU                                             0.359700\n",
       "euRefVoteW7_Leave the EU                                             0.360953\n",
       "euIDW9_The leave side                                                0.364374\n",
       "partyIdEUW8__Mainly leave                                            0.365874\n",
       "happyEULeaveW11__Extremely happy                                     0.365994\n",
       "happyEULeaveW10__Extremely happy                                     0.367068\n",
       "euIDW7_The leave side                                                0.373197\n",
       "euRefVoteUnsqueezeW7_Leave the EU                                    0.374755\n",
       "happyEULeaveW9__Extremely happy                                      0.381929\n",
       "euRefVotePostW8_Leave the EU                                         0.387818\n",
       "euRefVote2W8_Leave the EU                                            0.387900\n",
       "euRefVoteW8_Leave the EU                                             0.389261\n",
       "euIDW8_The leave side                                                0.391634\n",
       "euRefVoteUnsqueezeW8_Leave the EU                                    0.398606\n",
       "euRefExpectationW7__100 - UK will definitely vote to leave the EU    0.532077\n",
       "euRefExpectationW8__100 - UK will definitely vote to leave the EU    1.000000\n",
       "Length: 6847, dtype: float64"
      ]
     },
     "execution_count": 117,
     "metadata": {},
     "output_type": "execute_result"
    }
   ],
   "source": [
    "expect_corrs.dropna().sort_values()"
   ]
  },
  {
   "cell_type": "code",
   "execution_count": 118,
   "metadata": {},
   "outputs": [
    {
     "data": {
      "text/plain": [
       "euRefCertaintyW8__Completely certain                     -0.102440\n",
       "blameLeave_8W9_Yes                                       -0.089678\n",
       "twitterInfo_3W12_Yes                                     -0.083270\n",
       "blameLeave_5W9_Yes                                       -0.082247\n",
       "blameLeave_6W9_Yes                                       -0.075669\n",
       "euID1W9__Strongly agree                                  -0.072313\n",
       "knowMPW3_Correct name                                    -0.068427\n",
       "euID6W9__Strongly agree                                  -0.067328\n",
       "euID1W10__Strongly agree                                 -0.067002\n",
       "euID7W9__Strongly agree                                  -0.066967\n",
       "euID4W9__Strongly agree                                  -0.065399\n",
       "euID4W7__Strongly agree                                  -0.064413\n",
       "warmIndianW11__Very warm                                 -0.063497\n",
       "natSecuritySelfW4__Protect civil liberties               -0.061555\n",
       "twitterInfo_1W12_Yes                                     -0.060595\n",
       "polKnowAssadW10_President of Turkey                      -0.060222\n",
       "warmAtheistW11__Very warm                                -0.059476\n",
       "euID4W10__Strongly agree                                 -0.057774\n",
       "euID6W11__Strongly agree                                 -0.056894\n",
       "warmBenefitsW11__Very warm                               -0.056762\n",
       "euID6W14__Strongly agree                                 -0.056163\n",
       "euID6W7__Strongly agree                                  -0.055699\n",
       "euID4W13__Strongly agree                                 -0.055191\n",
       "certaintyEULabW7__Very certain                           -0.054034\n",
       "euID1W14__Strongly agree                                 -0.053797\n",
       "auth2W10_Self-reliance                                   -0.052475\n",
       "winConstituencySNPW12__100 - Very likely to win          -0.052345\n",
       "partyContactLab_5W4_Yes                                  -0.052329\n",
       "generalElectionCertaintyW4__Completely certain           -0.051863\n",
       "warmEasternW11__Very warm                                -0.051172\n",
       "                                                            ...   \n",
       "leftRightW8__Right                                        0.059683\n",
       "UKsovereigntyW8__Strongly agree                           0.060067\n",
       "polKnowHollandeW10_President of France                    0.060272\n",
       "generalElectionVoteSqueezeW11_Conservative                0.061153\n",
       "euIDW9_The leave side                                     0.061719\n",
       "creditLeave_2W9_Yes                                       0.066895\n",
       "euIDW8_The leave side                                     0.067358\n",
       "euRefVote2W8_Leave the EU                                 0.071190\n",
       "partyContactLD_3W12_Yes                                   0.072381\n",
       "euRefVoteUnsqueezeW8_Leave the EU                         0.072817\n",
       "euRefVoteW8_Leave the EU                                  0.073460\n",
       "euExpRefW7_To leave the European Union                    0.074265\n",
       "polKnowNetanyahuW10_Prime Minister of Israel              0.076605\n",
       "strongestConnectionW11_A film star or famous celebrity    0.077119\n",
       "creditLeave_4W9_Yes                                       0.077803\n",
       "polKnowAssadW10_President of Syria                        0.081653\n",
       "euRefVotePostW8_Leave the EU                              0.081922\n",
       "creditLeave_3W9_Yes                                       0.082139\n",
       "likeSEvansW10__Strongly like                              0.085807\n",
       "euRefpastVoteW11_Leave the EU                             0.103068\n",
       "euRefpastVoteW12_Leave the EU                             0.103252\n",
       "EUContactLeaveLabW7_Yes                                   0.104338\n",
       "euRefFinalPostW9_Yes                                      0.105564\n",
       "euRefpastVoteW13_Leave the EU                             0.108520\n",
       "euRefVoteW9_Leave the EU                                  0.116089\n",
       "profile_eurefvote_Leave the EU                            0.116089\n",
       "regretsIHaveAFewEUW14__I did not vote                     0.176376\n",
       "regretsIHaveAFewEUW11__I did not vote                     0.196167\n",
       "regretsIHaveAFewEUW10__I did not vote                     0.209796\n",
       "regretsIHaveAFewEUW9_Yes                                  1.000000\n",
       "Length: 6838, dtype: float64"
      ]
     },
     "execution_count": 118,
     "metadata": {},
     "output_type": "execute_result"
    }
   ],
   "source": [
    "regret_corrs = BES_reduced_with_na.corrwith(BES_reduced_with_na[\"regretsIHaveAFewEUW9_Yes\"])\n",
    "regret_corrs.dropna().sort_values()"
   ]
  },
  {
   "cell_type": "code",
   "execution_count": 119,
   "metadata": {},
   "outputs": [
    {
     "data": {
      "text/plain": [
       "regretsIHaveAFewEUW10__I did not vote    29711\n",
       "regretsIHaveAFewEUW11__I did not vote    30439\n",
       "regretsIHaveAFewEUW14__I did not vote    30287\n",
       "regretsIHaveAFewEUW9_Yes                 27564\n",
       "dtype: int64"
      ]
     },
     "execution_count": 119,
     "metadata": {},
     "output_type": "execute_result"
    }
   ],
   "source": [
    "search(BES_reduced_with_na,\"regretsIHaveAFewEU\")"
   ]
  },
  {
   "cell_type": "code",
   "execution_count": null,
   "metadata": {},
   "outputs": [],
   "source": []
  },
  {
   "cell_type": "code",
   "execution_count": null,
   "metadata": {},
   "outputs": [],
   "source": []
  },
  {
   "cell_type": "code",
   "execution_count": null,
   "metadata": {},
   "outputs": [],
   "source": []
  },
  {
   "cell_type": "code",
   "execution_count": 20,
   "metadata": {},
   "outputs": [
    {
     "data": {
      "text/plain": [
       "Stay/remain in the EU    26047\n",
       "Leave the EU             23278\n",
       "Don't know                 420\n",
       "Name: profile_eurefvote, dtype: int64"
      ]
     },
     "execution_count": 20,
     "metadata": {},
     "output_type": "execute_result"
    }
   ],
   "source": [
    "BES_Panel[\"profile_eurefvote\"].value_counts()"
   ]
  },
  {
   "cell_type": "code",
   "execution_count": null,
   "metadata": {},
   "outputs": [],
   "source": []
  },
  {
   "cell_type": "code",
   "execution_count": 21,
   "metadata": {},
   "outputs": [],
   "source": [
    "Remainers = BES_Panel[\"profile_eurefvote\"] == \"Stay/remain in the EU\""
   ]
  },
  {
   "cell_type": "code",
   "execution_count": 15,
   "metadata": {},
   "outputs": [
    {
     "data": {
      "text/plain": [
       "Don't know                                       4481\n",
       "50.0                                             1723\n",
       "51.0                                             1176\n",
       "48.0                                             1090\n",
       "45.0                                             1032\n",
       "100 - UK will definitely vote to leave the EU     778\n",
       "54.0                                              734\n",
       "47.0                                              707\n",
       "52.0                                              699\n",
       "55.0                                              663\n",
       "26.0                                              648\n",
       "44.0                                              572\n",
       "49.0                                              569\n",
       "60.0                                              568\n",
       "40.0                                              538\n",
       "42.0                                              534\n",
       "53.0                                              533\n",
       "57.0                                              493\n",
       "46.0                                              492\n",
       "25.0                                              472\n",
       "76.0                                              461\n",
       "41.0                                              452\n",
       "58.0                                              388\n",
       "56.0                                              376\n",
       "39.0                                              364\n",
       "38.0                                              336\n",
       "61.0                                              336\n",
       "75.0                                              330\n",
       "43.0                                              329\n",
       "35.0                                              307\n",
       "                                                 ... \n",
       "5.0                                                94\n",
       "85.0                                               92\n",
       "79.0                                               91\n",
       "71.0                                               91\n",
       "21.0                                               88\n",
       "13.0                                               87\n",
       "73.0                                               85\n",
       "82.0                                               82\n",
       "18.0                                               79\n",
       "6.0                                                72\n",
       "86.0                                               72\n",
       "8.0                                                71\n",
       "7.0                                                71\n",
       "95.0                                               71\n",
       "88.0                                               66\n",
       "83.0                                               62\n",
       "97.0                                               60\n",
       "81.0                                               59\n",
       "11.0                                               59\n",
       "9.0                                                56\n",
       "92.0                                               56\n",
       "90.0                                               56\n",
       "94.0                                               54\n",
       "84.0                                               54\n",
       "12.0                                               53\n",
       "89.0                                               53\n",
       "87.0                                               50\n",
       "96.0                                               42\n",
       "91.0                                               40\n",
       "93.0                                               30\n",
       "Name: euRefExpectationW7, Length: 102, dtype: int64"
      ]
     },
     "execution_count": 15,
     "metadata": {},
     "output_type": "execute_result"
    }
   ],
   "source": [
    "BES_Panel[\"euRefExpectationW7\"].value_counts()"
   ]
  },
  {
   "cell_type": "code",
   "execution_count": 18,
   "metadata": {},
   "outputs": [
    {
     "data": {
      "image/png": "[encoded data removed]",
      "text/plain": [
       "<Figure size 432x288 with 1 Axes>"
      ]
     },
     "metadata": {
      "needs_background": "light"
     },
     "output_type": "display_data"
    }
   ],
   "source": [
    "BES_reduced_with_na[\"euRefExpectationW7__100 - UK will definitely vote to leave the EU\"].hist(bins=100);"
   ]
  },
  {
   "cell_type": "code",
   "execution_count": 101,
   "metadata": {},
   "outputs": [
    {
     "data": {
      "text/plain": [
       "50.0     2096\n",
       "48.0     1488\n",
       "51.0     1469\n",
       "45.0     1201\n",
       "54.0      930\n",
       "52.0      917\n",
       "49.0      859\n",
       "47.0      779\n",
       "55.0      777\n",
       "53.0      691\n",
       "100.0     684\n",
       "57.0      614\n",
       "44.0      603\n",
       "26.0      574\n",
       "76.0      566\n",
       "46.0      532\n",
       "42.0      515\n",
       "40.0      515\n",
       "60.0      506\n",
       "58.0      492\n",
       "25.0      459\n",
       "56.0      437\n",
       "41.0      411\n",
       "75.0      354\n",
       "61.0      325\n",
       "43.0      319\n",
       "39.0      314\n",
       "38.0      303\n",
       "77.0      287\n",
       "64.0      283\n",
       "         ... \n",
       "19.0       89\n",
       "13.0       88\n",
       "5.0        88\n",
       "86.0       87\n",
       "71.0       86\n",
       "81.0       85\n",
       "83.0       82\n",
       "10.0       81\n",
       "21.0       81\n",
       "11.0       76\n",
       "15.0       75\n",
       "82.0       71\n",
       "89.0       71\n",
       "18.0       70\n",
       "97.0       68\n",
       "90.0       67\n",
       "88.0       60\n",
       "95.0       60\n",
       "84.0       59\n",
       "7.0        56\n",
       "9.0        55\n",
       "92.0       55\n",
       "6.0        53\n",
       "12.0       51\n",
       "8.0        50\n",
       "87.0       43\n",
       "93.0       42\n",
       "91.0       42\n",
       "94.0       33\n",
       "96.0       30\n",
       "Length: 101, dtype: int64"
      ]
     },
     "execution_count": 101,
     "metadata": {},
     "output_type": "execute_result"
    }
   ],
   "source": [
    "euRefExpectationW8 = BES_Panel[\"euRefExpectationW8\"].cat.codes.replace(101,np.nan).replace(-1,np.nan)\n",
    "euRefExpectationW8.value_counts()"
   ]
  },
  {
   "cell_type": "code",
   "execution_count": 102,
   "metadata": {},
   "outputs": [
    {
     "data": {
      "text/plain": [
       "50.0     1723\n",
       "51.0     1176\n",
       "48.0     1090\n",
       "45.0     1032\n",
       "100.0     778\n",
       "54.0      734\n",
       "47.0      707\n",
       "52.0      699\n",
       "55.0      663\n",
       "26.0      648\n",
       "44.0      572\n",
       "49.0      569\n",
       "60.0      568\n",
       "40.0      538\n",
       "42.0      534\n",
       "53.0      533\n",
       "57.0      493\n",
       "46.0      492\n",
       "25.0      472\n",
       "76.0      461\n",
       "41.0      452\n",
       "58.0      388\n",
       "56.0      376\n",
       "39.0      364\n",
       "38.0      336\n",
       "61.0      336\n",
       "75.0      330\n",
       "43.0      329\n",
       "35.0      307\n",
       "64.0      290\n",
       "         ... \n",
       "5.0        94\n",
       "85.0       92\n",
       "79.0       91\n",
       "71.0       91\n",
       "21.0       88\n",
       "13.0       87\n",
       "73.0       85\n",
       "82.0       82\n",
       "18.0       79\n",
       "86.0       72\n",
       "6.0        72\n",
       "8.0        71\n",
       "95.0       71\n",
       "7.0        71\n",
       "88.0       66\n",
       "83.0       62\n",
       "97.0       60\n",
       "81.0       59\n",
       "11.0       59\n",
       "9.0        56\n",
       "92.0       56\n",
       "90.0       56\n",
       "94.0       54\n",
       "84.0       54\n",
       "89.0       53\n",
       "12.0       53\n",
       "87.0       50\n",
       "96.0       42\n",
       "91.0       40\n",
       "93.0       30\n",
       "Length: 101, dtype: int64"
      ]
     },
     "execution_count": 102,
     "metadata": {},
     "output_type": "execute_result"
    }
   ],
   "source": [
    "euRefExpectationW7 = BES_Panel[\"euRefExpectationW7\"].cat.codes.replace(101,np.nan).replace(-1,np.nan)\n",
    "euRefExpectationW7.value_counts()"
   ]
  },
  {
   "cell_type": "code",
   "execution_count": null,
   "metadata": {},
   "outputs": [],
   "source": []
  },
  {
   "cell_type": "code",
   "execution_count": 108,
   "metadata": {},
   "outputs": [
    {
     "data": {
      "image/png": "[encoded data removed]",
      "text/plain": [
       "<Figure size 432x288 with 1 Axes>"
      ]
     },
     "metadata": {
      "needs_background": "light"
     },
     "output_type": "display_data"
    },
    {
     "data": {
      "image/png": "[encoded data removed]",
      "text/plain": [
       "<Figure size 432x288 with 1 Axes>"
      ]
     },
     "metadata": {
      "needs_background": "light"
     },
     "output_type": "display_data"
    }
   ],
   "source": [
    "mean_expect_fixed = pd.concat([euRefExpectationW7,euRefExpectationW8],axis=1)[Remainers].mean(axis=1)\n",
    "plt.figure()\n",
    "mean_expect_fixed.hist(bins=100);\n",
    "mean_expect_fixed_deciles = pd.qcut( mean_expect_fixed,\n",
    "        10)\n",
    "# mean_expect_fixed.groupby(mean_expect_fixed_deciles).mean()\n",
    "\n",
    "plt.figure()\n",
    "sns.barplot(x = mean_expect_fixed.groupby(mean_expect_fixed_deciles).mean().values,\n",
    "            y = mean_expect_fixed.groupby(mean_expect_fixed_deciles).mean().index);\n",
    "plt.xlim([0,100]);\n",
    "plt.xlabel(\"Scale from 0 (will remain) to 100 (will leave)\");\n",
    "plt.ylabel(\"deciles of Remainers by euRefExpectation\");"
   ]
  },
  {
   "cell_type": "code",
   "execution_count": 112,
   "metadata": {},
   "outputs": [
    {
     "data": {
      "text/plain": [
       "0.0      100\n",
       "1.0       66\n",
       "2.0       78\n",
       "3.0      111\n",
       "4.0       66\n",
       "5.0       59\n",
       "6.0       38\n",
       "7.0       37\n",
       "8.0       35\n",
       "9.0       32\n",
       "10.0      48\n",
       "11.0      54\n",
       "12.0      34\n",
       "13.0      58\n",
       "14.0      58\n",
       "15.0      48\n",
       "16.0      70\n",
       "17.0      75\n",
       "18.0      43\n",
       "19.0      56\n",
       "20.0      98\n",
       "21.0      50\n",
       "22.0      56\n",
       "23.0      66\n",
       "24.0      60\n",
       "25.0     305\n",
       "26.0     362\n",
       "27.0     147\n",
       "28.0      84\n",
       "29.0      75\n",
       "        ... \n",
       "71.0      27\n",
       "72.0      28\n",
       "73.0      18\n",
       "74.0      31\n",
       "75.0      69\n",
       "76.0     107\n",
       "77.0      56\n",
       "78.0      33\n",
       "79.0      16\n",
       "80.0      27\n",
       "81.0      12\n",
       "82.0       9\n",
       "83.0      13\n",
       "84.0       8\n",
       "85.0      14\n",
       "86.0      17\n",
       "87.0       9\n",
       "88.0      12\n",
       "89.0      13\n",
       "90.0       8\n",
       "91.0       9\n",
       "92.0       9\n",
       "93.0       5\n",
       "94.0       4\n",
       "95.0       5\n",
       "96.0       5\n",
       "97.0       5\n",
       "98.0      11\n",
       "99.0       6\n",
       "100.0     50\n",
       "Length: 101, dtype: int64"
      ]
     },
     "execution_count": 112,
     "metadata": {},
     "output_type": "execute_result"
    }
   ],
   "source": [
    "euRefExpectationW8[Remainers].value_counts().sort_index()"
   ]
  },
  {
   "cell_type": "code",
   "execution_count": 114,
   "metadata": {},
   "outputs": [
    {
     "data": {
      "text/plain": [
       "0.0     100\n",
       "1.0      66\n",
       "2.0      78\n",
       "3.0     111\n",
       "4.0      66\n",
       "5.0      59\n",
       "6.0      38\n",
       "7.0      37\n",
       "8.0      35\n",
       "9.0      32\n",
       "10.0     48\n",
       "11.0     54\n",
       "12.0     34\n",
       "13.0     58\n",
       "14.0     58\n",
       "15.0     48\n",
       "16.0     70\n",
       "17.0     75\n",
       "18.0     43\n",
       "19.0     56\n",
       "20.0     98\n",
       "21.0     50\n",
       "22.0     56\n",
       "23.0     66\n",
       "24.0     60\n",
       "25.0    305\n",
       "26.0    362\n",
       "27.0    147\n",
       "28.0     84\n",
       "29.0     75\n",
       "       ... \n",
       "70.0     51\n",
       "71.0     27\n",
       "72.0     28\n",
       "73.0     18\n",
       "74.0     31\n",
       "75.0     69\n",
       "76.0    107\n",
       "77.0     56\n",
       "78.0     33\n",
       "79.0     16\n",
       "80.0     27\n",
       "81.0     12\n",
       "82.0      9\n",
       "83.0     13\n",
       "84.0      8\n",
       "85.0     14\n",
       "86.0     17\n",
       "87.0      9\n",
       "88.0     12\n",
       "89.0     13\n",
       "90.0      8\n",
       "91.0      9\n",
       "92.0      9\n",
       "93.0      5\n",
       "94.0      4\n",
       "95.0      5\n",
       "96.0      5\n",
       "97.0      5\n",
       "98.0     11\n",
       "99.0     50\n",
       "Name: euRefExpectationW8__100 - UK will definitely vote to leave the EU, Length: 100, dtype: int64"
      ]
     },
     "execution_count": 114,
     "metadata": {},
     "output_type": "execute_result"
    }
   ],
   "source": [
    "# who are the people who, given a range 0-100, choose only discrete points?\n",
    "\n",
    "BES_reduced_with_na[\"euRefExpectationW8__100 - UK will definitely vote to leave the EU\"][Remainers].value_counts().sort_index()"
   ]
  },
  {
   "cell_type": "code",
   "execution_count": 109,
   "metadata": {},
   "outputs": [
    {
     "data": {
      "text/plain": [
       "50.0    2096\n",
       "48.0    1488\n",
       "51.0    1469\n",
       "45.0    1201\n",
       "54.0     930\n",
       "52.0     917\n",
       "49.0     859\n",
       "47.0     779\n",
       "55.0     777\n",
       "53.0     691\n",
       "99.0     684\n",
       "57.0     614\n",
       "44.0     603\n",
       "26.0     574\n",
       "76.0     566\n",
       "46.0     532\n",
       "42.0     515\n",
       "40.0     515\n",
       "60.0     506\n",
       "58.0     492\n",
       "25.0     459\n",
       "56.0     437\n",
       "41.0     411\n",
       "75.0     354\n",
       "61.0     325\n",
       "43.0     319\n",
       "39.0     314\n",
       "38.0     303\n",
       "77.0     287\n",
       "64.0     283\n",
       "        ... \n",
       "19.0      89\n",
       "5.0       88\n",
       "13.0      88\n",
       "86.0      87\n",
       "71.0      86\n",
       "81.0      85\n",
       "83.0      82\n",
       "21.0      81\n",
       "10.0      81\n",
       "11.0      76\n",
       "15.0      75\n",
       "82.0      71\n",
       "89.0      71\n",
       "18.0      70\n",
       "97.0      68\n",
       "90.0      67\n",
       "95.0      60\n",
       "88.0      60\n",
       "84.0      59\n",
       "7.0       56\n",
       "9.0       55\n",
       "92.0      55\n",
       "6.0       53\n",
       "12.0      51\n",
       "8.0       50\n",
       "87.0      43\n",
       "91.0      42\n",
       "93.0      42\n",
       "94.0      33\n",
       "96.0      30\n",
       "Name: euRefExpectationW8__100 - UK will definitely vote to leave the EU, Length: 100, dtype: int64"
      ]
     },
     "execution_count": 109,
     "metadata": {},
     "output_type": "execute_result"
    }
   ],
   "source": [
    "BES_reduced_with_na[\"euRefExpectationW8__100 - UK will definitely vote to leave the EU\"].value_counts()"
   ]
  },
  {
   "cell_type": "code",
   "execution_count": null,
   "metadata": {},
   "outputs": [],
   "source": []
  },
  {
   "cell_type": "code",
   "execution_count": 22,
   "metadata": {},
   "outputs": [
    {
     "data": {
      "image/png": "[encoded data removed]",
      "text/plain": [
       "<Figure size 432x288 with 1 Axes>"
      ]
     },
     "metadata": {
      "needs_background": "light"
     },
     "output_type": "display_data"
    }
   ],
   "source": [
    "BES_reduced_with_na[\"euRefExpectationW7__100 - UK will definitely vote to leave the EU\"][Remainers].hist(bins=100);"
   ]
  },
  {
   "cell_type": "code",
   "execution_count": 23,
   "metadata": {},
   "outputs": [
    {
     "data": {
      "image/png": "[encoded data removed]",
      "text/plain": [
       "<Figure size 432x288 with 1 Axes>"
      ]
     },
     "metadata": {
      "needs_background": "light"
     },
     "output_type": "display_data"
    }
   ],
   "source": [
    "BES_reduced_with_na[\"euRefExpectationW8__100 - UK will definitely vote to leave the EU\"][Remainers].hist(bins=100);"
   ]
  },
  {
   "cell_type": "code",
   "execution_count": 27,
   "metadata": {},
   "outputs": [
    {
     "data": {
      "text/plain": [
       "No            26774\n",
       "Yes             790\n",
       "Don't know      684\n",
       "Name: regretsIHaveAFewEUW9, dtype: int64"
      ]
     },
     "execution_count": 27,
     "metadata": {},
     "output_type": "execute_result"
    }
   ],
   "source": [
    "BES_Panel[\"regretsIHaveAFewEUW9\"].value_counts()"
   ]
  },
  {
   "cell_type": "code",
   "execution_count": 26,
   "metadata": {},
   "outputs": [
    {
     "data": {
      "image/png": "[encoded data removed]",
      "text/plain": [
       "<Figure size 432x288 with 1 Axes>"
      ]
     },
     "metadata": {
      "needs_background": "light"
     },
     "output_type": "display_data"
    }
   ],
   "source": [
    "BES_reduced_with_na[\"regretsIHaveAFewEUW9_Yes\"][Remainers].hist(bins=100);"
   ]
  },
  {
   "cell_type": "code",
   "execution_count": 42,
   "metadata": {},
   "outputs": [
    {
     "data": {
      "text/plain": [
       "6        28.0\n",
       "8        32.0\n",
       "9        54.0\n",
       "17       41.0\n",
       "18       42.0\n",
       "21        NaN\n",
       "23        NaN\n",
       "29       30.5\n",
       "31       23.0\n",
       "32        NaN\n",
       "37       50.0\n",
       "40       53.0\n",
       "44       50.5\n",
       "45        8.5\n",
       "47       45.0\n",
       "48       23.0\n",
       "50       41.5\n",
       "51       44.0\n",
       "55       36.5\n",
       "56        NaN\n",
       "58       51.0\n",
       "60       52.0\n",
       "61       50.0\n",
       "62       45.0\n",
       "65       43.5\n",
       "66       25.0\n",
       "68       55.5\n",
       "74        NaN\n",
       "75       26.5\n",
       "76       27.0\n",
       "         ... \n",
       "73610     NaN\n",
       "73621     NaN\n",
       "73623     NaN\n",
       "73624     NaN\n",
       "73626     NaN\n",
       "73633     NaN\n",
       "73634     NaN\n",
       "73635     NaN\n",
       "73636     NaN\n",
       "73637     NaN\n",
       "73638     NaN\n",
       "73641     NaN\n",
       "73646     NaN\n",
       "73649     NaN\n",
       "73652     NaN\n",
       "73660     NaN\n",
       "73662     NaN\n",
       "73665     NaN\n",
       "73666     NaN\n",
       "73669     NaN\n",
       "73670     NaN\n",
       "73675     NaN\n",
       "73680     NaN\n",
       "73682     NaN\n",
       "73685     NaN\n",
       "73688     NaN\n",
       "73690     NaN\n",
       "73691     NaN\n",
       "73696     NaN\n",
       "73701     NaN\n",
       "Length: 26047, dtype: float32"
      ]
     },
     "execution_count": 42,
     "metadata": {},
     "output_type": "execute_result"
    }
   ],
   "source": [
    "mean_expect = BES_reduced_with_na[[\"euRefExpectationW7__100 - UK will definitely vote to leave the EU\",\"euRefExpectationW8__100 - UK will definitely vote to leave the EU\"]][Remainers].mean(axis=1)\n",
    "# mean_expect"
   ]
  },
  {
   "cell_type": "code",
   "execution_count": 47,
   "metadata": {},
   "outputs": [
    {
     "data": {
      "image/png": "[encoded data removed]",
      "text/plain": [
       "<Figure size 432x288 with 1 Axes>"
      ]
     },
     "metadata": {
      "needs_background": "light"
     },
     "output_type": "display_data"
    }
   ],
   "source": [
    "mean_expect.hist(bins=100);"
   ]
  },
  {
   "cell_type": "code",
   "execution_count": 57,
   "metadata": {},
   "outputs": [
    {
     "data": {
      "text/plain": [
       "(-0.001, 22.0]    11.948986\n",
       "(22.0, 30.0]      26.261562\n",
       "(30.0, 37.5]      34.198524\n",
       "(37.5, 42.0]      40.133530\n",
       "(42.0, 45.5]      44.213894\n",
       "(45.5, 48.0]      47.134102\n",
       "(48.0, 50.0]      49.542786\n",
       "(50.0, 52.5]      51.340763\n",
       "(52.5, 59.0]      55.393822\n",
       "(59.0, 99.0]      70.415764\n",
       "dtype: float32"
      ]
     },
     "execution_count": 57,
     "metadata": {},
     "output_type": "execute_result"
    }
   ],
   "source": [
    "mean_expect_deciles = pd.qcut( mean_expect,\n",
    "        10)\n",
    "mean_expect.groupby(mean_expect_deciles).mean()"
   ]
  },
  {
   "cell_type": "code",
   "execution_count": 56,
   "metadata": {},
   "outputs": [
    {
     "data": {
      "image/png": "[encoded data removed]",
      "text/plain": [
       "<Figure size 432x288 with 1 Axes>"
      ]
     },
     "metadata": {
      "needs_background": "light"
     },
     "output_type": "display_data"
    }
   ],
   "source": [
    "sns.barplot(x = mean_expect.groupby(expect_decilesW8).mean().values,\n",
    "            y = mean_expect.groupby(expect_decilesW8).mean().index);\n",
    "plt.xlim([0,100]);\n",
    "plt.xlabel(\"Scale from 0 (will remain) to 100 (will leave)\");\n",
    "plt.ylabel(\"deciles of Remainers by euRefExpectation\");"
   ]
  },
  {
   "cell_type": "code",
   "execution_count": null,
   "metadata": {},
   "outputs": [],
   "source": []
  },
  {
   "cell_type": "code",
   "execution_count": 64,
   "metadata": {},
   "outputs": [
    {
     "data": {
      "image/png": "[encoded data removed]",
      "text/plain": [
       "<Figure size 432x288 with 1 Axes>"
      ]
     },
     "metadata": {
      "needs_background": "light"
     },
     "output_type": "display_data"
    },
    {
     "data": {
      "image/png": "[encoded data removed]",
      "text/plain": [
       "<Figure size 432x288 with 1 Axes>"
      ]
     },
     "metadata": {
      "needs_background": "light"
     },
     "output_type": "display_data"
    }
   ],
   "source": [
    "mean_expect_all = BES_reduced_with_na[[\"euRefExpectationW7__100 - UK will definitely vote to leave the EU\",\"euRefExpectationW8__100 - UK will definitely vote to leave the EU\"]].mean(axis=1)\n",
    "plt.figure()\n",
    "mean_expect_all.hist(bins=100);\n",
    "mean_expect_all_deciles = pd.qcut( mean_expect_all,\n",
    "        10)\n",
    "mean_expect_all.groupby(mean_expect_all_deciles).mean()\n",
    "\n",
    "plt.figure()\n",
    "sns.barplot(x = mean_expect_all.groupby(mean_expect_all_deciles).mean().values,\n",
    "            y = mean_expect_all.groupby(mean_expect_all_deciles).mean().index);\n",
    "plt.xlim([0,100]);\n",
    "plt.xlabel(\"Scale from 0 (will remain) to 100 (will leave)\");\n",
    "plt.ylabel(\"deciles of Remainers&Leavers by euRefExpectation\");"
   ]
  },
  {
   "cell_type": "code",
   "execution_count": 35,
   "metadata": {},
   "outputs": [],
   "source": [
    "expect_decilesW8 = pd.qcut( BES_reduced_with_na[\"euRefExpectationW8__100 - UK will definitely vote to leave the EU\"][Remainers],\n",
    "        10)"
   ]
  },
  {
   "cell_type": "code",
   "execution_count": 37,
   "metadata": {},
   "outputs": [
    {
     "data": {
      "text/plain": [
       "euRefExpectationW8__100 - UK will definitely vote to leave the EU\n",
       "(-0.001, 20.0]     9.596519\n",
       "(20.0, 30.0]      25.847876\n",
       "(30.0, 40.0]      36.540726\n",
       "(40.0, 44.0]      42.627331\n",
       "(44.0, 47.0]      45.820885\n",
       "(47.0, 49.0]      48.388931\n",
       "(49.0, 50.0]      50.000000\n",
       "(50.0, 54.0]      52.253670\n",
       "(54.0, 60.0]      57.001976\n",
       "(60.0, 99.0]      73.054604\n",
       "Name: euRefExpectationW8__100 - UK will definitely vote to leave the EU, dtype: float32"
      ]
     },
     "execution_count": 37,
     "metadata": {},
     "output_type": "execute_result"
    }
   ],
   "source": [
    "BES_reduced_with_na[\"euRefExpectationW8__100 - UK will definitely vote to leave the EU\"][Remainers].groupby(expect_decilesW8).mean()"
   ]
  },
  {
   "cell_type": "code",
   "execution_count": null,
   "metadata": {},
   "outputs": [],
   "source": []
  },
  {
   "cell_type": "code",
   "execution_count": null,
   "metadata": {},
   "outputs": [],
   "source": []
  },
  {
   "cell_type": "code",
   "execution_count": 67,
   "metadata": {},
   "outputs": [
    {
     "data": {
      "image/png": "[encoded data removed]",
      "text/plain": [
       "<Figure size 432x288 with 1 Axes>"
      ]
     },
     "metadata": {
      "needs_background": "light"
     },
     "output_type": "display_data"
    }
   ],
   "source": [
    "sns.lineplot(x = BES_reduced_with_na[\"euRefExpectationW8__100 - UK will definitely vote to leave the EU\"][Remainers],\n",
    "             y = BES_Panel[\"regretsIHaveAFewEUW9\"][Remainers] == \"Yes\");"
   ]
  },
  {
   "cell_type": "code",
   "execution_count": 91,
   "metadata": {},
   "outputs": [
    {
     "name": "stderr",
     "output_type": "stream",
     "text": [
      "C:\\ProgramData\\Anaconda3\\envs\\BES_analysis\\lib\\site-packages\\scipy\\stats\\stats.py:1713: FutureWarning: Using a non-tuple sequence for multidimensional indexing is deprecated; use `arr[tuple(seq)]` instead of `arr[seq]`. In the future this will be interpreted as an array index, `arr[np.array(seq)]`, which will result either in an error or a different result.\n",
      "  return np.add.reduce(sorted[indexer] * weights, axis=axis) / sumval\n"
     ]
    },
    {
     "data": {
      "image/png": "[encoded data removed]",
      "text/plain": [
       "<Figure size 432x288 with 1 Axes>"
      ]
     },
     "metadata": {
      "needs_background": "light"
     },
     "output_type": "display_data"
    }
   ],
   "source": [
    "sns.lineplot(x = pd.Series([decile_means.loc[x] if pd.notnull(x) else np.nan for x in mean_expect_deciles.values]),\n",
    "             y = (BES_Panel[\"regretsIHaveAFewEUW9\"][Remainers] == \"Yes\").astype('float'));"
   ]
  },
  {
   "cell_type": "code",
   "execution_count": 90,
   "metadata": {},
   "outputs": [
    {
     "data": {
      "text/plain": [
       "0        26.261562\n",
       "1        34.198524\n",
       "2        55.393822\n",
       "3        40.133530\n",
       "4        40.133530\n",
       "5              NaN\n",
       "6              NaN\n",
       "7        34.198524\n",
       "8        26.261562\n",
       "9              NaN\n",
       "10       49.542786\n",
       "11       55.393822\n",
       "12       51.340763\n",
       "13       11.948986\n",
       "14       44.213894\n",
       "15       26.261562\n",
       "16       40.133530\n",
       "17       44.213894\n",
       "18       34.198524\n",
       "19             NaN\n",
       "20       51.340763\n",
       "21       51.340763\n",
       "22       49.542786\n",
       "23       44.213894\n",
       "24       44.213894\n",
       "25       26.261562\n",
       "26       55.393822\n",
       "27             NaN\n",
       "28       26.261562\n",
       "29       26.261562\n",
       "           ...    \n",
       "26017          NaN\n",
       "26018          NaN\n",
       "26019          NaN\n",
       "26020          NaN\n",
       "26021          NaN\n",
       "26022          NaN\n",
       "26023          NaN\n",
       "26024          NaN\n",
       "26025          NaN\n",
       "26026          NaN\n",
       "26027          NaN\n",
       "26028          NaN\n",
       "26029          NaN\n",
       "26030          NaN\n",
       "26031          NaN\n",
       "26032          NaN\n",
       "26033          NaN\n",
       "26034          NaN\n",
       "26035          NaN\n",
       "26036          NaN\n",
       "26037          NaN\n",
       "26038          NaN\n",
       "26039          NaN\n",
       "26040          NaN\n",
       "26041          NaN\n",
       "26042          NaN\n",
       "26043          NaN\n",
       "26044          NaN\n",
       "26045          NaN\n",
       "26046          NaN\n",
       "Length: 26047, dtype: float64"
      ]
     },
     "execution_count": 90,
     "metadata": {},
     "output_type": "execute_result"
    }
   ],
   "source": [
    "pd.Series([decile_means.loc[x] if pd.notnull(x) else np.nan for x in mean_expect_deciles.values])"
   ]
  },
  {
   "cell_type": "code",
   "execution_count": 74,
   "metadata": {},
   "outputs": [],
   "source": [
    "# mean_expect_deciles"
   ]
  },
  {
   "cell_type": "code",
   "execution_count": 72,
   "metadata": {},
   "outputs": [
    {
     "data": {
      "text/plain": [
       "(-0.001, 22.0]    11.948986\n",
       "(22.0, 30.0]      26.261562\n",
       "(30.0, 37.5]      34.198524\n",
       "(37.5, 42.0]      40.133530\n",
       "(42.0, 45.5]      44.213894\n",
       "(45.5, 48.0]      47.134102\n",
       "(48.0, 50.0]      49.542786\n",
       "(50.0, 52.5]      51.340763\n",
       "(52.5, 59.0]      55.393822\n",
       "(59.0, 99.0]      70.415764\n",
       "dtype: float32"
      ]
     },
     "execution_count": 72,
     "metadata": {},
     "output_type": "execute_result"
    }
   ],
   "source": [
    "decile_means = mean_expect.groupby(mean_expect_deciles).mean()\n",
    "decile_means"
   ]
  },
  {
   "cell_type": "code",
   "execution_count": 83,
   "metadata": {},
   "outputs": [
    {
     "data": {
      "text/plain": [
       "26.261562"
      ]
     },
     "execution_count": 83,
     "metadata": {},
     "output_type": "execute_result"
    }
   ],
   "source": [
    "decile_means.loc[ mean_expect_deciles.values[0] ]"
   ]
  },
  {
   "cell_type": "code",
   "execution_count": null,
   "metadata": {},
   "outputs": [],
   "source": []
  },
  {
   "cell_type": "code",
   "execution_count": null,
   "metadata": {},
   "outputs": [],
   "source": [
    "decile_means.loc[x]"
   ]
  },
  {
   "cell_type": "code",
   "execution_count": null,
   "metadata": {},
   "outputs": [],
   "source": []
  },
  {
   "cell_type": "code",
   "execution_count": null,
   "metadata": {},
   "outputs": [],
   "source": []
  },
  {
   "cell_type": "code",
   "execution_count": null,
   "metadata": {},
   "outputs": [],
   "source": []
  },
  {
   "cell_type": "code",
   "execution_count": null,
   "metadata": {},
   "outputs": [],
   "source": []
  },
  {
   "cell_type": "code",
   "execution_count": null,
   "metadata": {},
   "outputs": [],
   "source": []
  },
  {
   "cell_type": "code",
   "execution_count": null,
   "metadata": {},
   "outputs": [],
   "source": []
  },
  {
   "cell_type": "code",
   "execution_count": null,
   "metadata": {},
   "outputs": [],
   "source": []
  },
  {
   "cell_type": "code",
   "execution_count": null,
   "metadata": {},
   "outputs": [],
   "source": []
  },
  {
   "cell_type": "code",
   "execution_count": null,
   "metadata": {},
   "outputs": [],
   "source": []
  },
  {
   "cell_type": "code",
   "execution_count": null,
   "metadata": {},
   "outputs": [],
   "source": []
  },
  {
   "cell_type": "code",
   "execution_count": null,
   "metadata": {},
   "outputs": [],
   "source": []
  },
  {
   "cell_type": "code",
   "execution_count": null,
   "metadata": {},
   "outputs": [],
   "source": []
  }
 ],
 "metadata": {
  "kernelspec": {
   "display_name": "Python 3",
   "language": "python",
   "name": "python3"
  },
  "language_info": {
   "codemirror_mode": {
    "name": "ipython",
    "version": 3
   },
   "file_extension": ".py",
   "mimetype": "text/x-python",
   "name": "python",
   "nbconvert_exporter": "python",
   "pygments_lexer": "ipython3",
   "version": "3.6.6"
  }
 },
 "nbformat": 4,
 "nbformat_minor": 2
}
