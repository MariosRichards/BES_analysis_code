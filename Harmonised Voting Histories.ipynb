{
 "cells": [
  {
   "cell_type": "code",
   "execution_count": null,
   "metadata": {},
   "outputs": [],
   "source": []
  },
  {
   "cell_type": "code",
   "execution_count": 116,
   "metadata": {},
   "outputs": [
    {
     "data": {
      "text/html": [
       "<script>jQuery(function() {if (jQuery(\"body.notebook_app\").length == 0) { jQuery(\".input_area\").toggle(); jQuery(\".prompt\").toggle();}});</script>"
      ]
     },
     "metadata": {},
     "output_type": "display_data"
    },
    {
     "data": {
      "text/html": [
       "<button onclick=\"jQuery('.input_area').toggle(); jQuery('.prompt').toggle();\">Toggle code</button>"
      ]
     },
     "metadata": {},
     "output_type": "display_data"
    },
    {
     "name": "stdout",
     "output_type": "stream",
     "text": [
      "var_type (7911, 14)\n",
      "Wall time: 29.3 s\n"
     ]
    }
   ],
   "source": [
    "%%time\n",
    "dataset_name = \"W19_comb\"\n",
    "df_list = [ \"BES_Panel\" ]\n",
    "\n",
    "%matplotlib inline \n",
    "%run BES_header.py {dataset_name} {df_list}\n",
    "\n",
    "if \"id\" in BES_Panel.columns:\n",
    "    BES_Panel = BES_Panel.set_index(\"id\").sort_index()\n",
    "\n",
    "(var_type, cat_dictionary, new_old_col_names, old_new_col_names) = get_small_files(data_subfolder, encoding)    \n",
    "    \n",
    "# get full set of inferred \"cross wave\" auth-lib/left-right values and ages\n",
    "# pan_dataset_allr_values = pd.read_csv(BES_small_data_files + \"pan_dataset_allr_valuesW19\"+\".csv\")\n",
    "pan_dataset_ages = pd.read_pickle(BES_small_data_files + \"pan_dataset_ages\"+\".zip\", compression='zip')"
   ]
  },
  {
   "cell_type": "code",
   "execution_count": 318,
   "metadata": {},
   "outputs": [],
   "source": [
    "# City of London,No formal qualifications = Conservative\n",
    "# Cambden,Youth training certificate/skillseekers = Labour\n",
    "# Greenwich,Recognised trade apprenticeship completed = Lib Dems\n",
    "# Hackney,Clerical and commercial = SNP\n",
    "# Hammersmith and Fulham,City & Guilds certificate = PC\n",
    "# Islington,City & Guilds certificate - advanced = Green\n",
    "# Kensington and Chelsea,onc = UKIP\n",
    "# Lambeth,CSE grades 2-5 = Brexit Party\n",
    "# Lewisham,CSE grade 1, GCE O level, GCSE, School Certificate = TIG\n",
    "# Bromley,Other technical, professional or higher qualification = Other\n",
    "# Ealing,Prefer not to say = Don't know"
   ]
  },
  {
   "cell_type": "code",
   "execution_count": 316,
   "metadata": {},
   "outputs": [],
   "source": []
  },
  {
   "cell_type": "code",
   "execution_count": 120,
   "metadata": {},
   "outputs": [],
   "source": [
    "BES_Panelv01 = BES_Panel.copy()"
   ]
  },
  {
   "cell_type": "code",
   "execution_count": 121,
   "metadata": {},
   "outputs": [],
   "source": [
    "BES_Panel = pd.read_pickle(\"..\\\\BES_analysis_data\\\\\"+\"W19_comb\"+os.sep+\"BES_Panelv02\",compression='zip')\n",
    "BES_Panel = BES_Panel.set_index(\"id\")\n",
    "BES_Panel = BES_Panel.sort_index()"
   ]
  },
  {
   "cell_type": "code",
   "execution_count": null,
   "metadata": {},
   "outputs": [],
   "source": [
    "# scotRefTurnoutW3_W14          8031\n",
    "# scotRefVoteW3_W14             7401\n",
    "# profile_scotRefW17            3668\n",
    "# profile_scotRefW18            4203\n",
    "# profile_scotRefW19            3498\n",
    "# profile_scotref_turnout       9959\n",
    "# profile_scotref_vote          8799"
   ]
  },
  {
   "cell_type": "code",
   "execution_count": 267,
   "metadata": {},
   "outputs": [],
   "source": [
    "BES_Panel[\"pastvote_eup_2019W18\"] = pastvote_eup_2019W18.loc[BES_Panel.index]\n",
    "BES_Panel[\"pastvote_eup_2019W19\"] = pastvote_eup_2019W19.loc[BES_Panel.index]\n",
    "\n",
    "BES_Panel[\"scotReferendumVoteW11\"] = scotReferendumVoteW11.loc[BES_Panel.index]\n",
    "BES_Panel[\"scotReferendumVoteW15\"] = scotReferendumVoteW15.loc[BES_Panel.index]\n",
    "\n",
    "fixed_eup_categories = ['Conservative', 'Labour', 'Liberal Democrat',\n",
    "       'Scottish National Party (SNP)', 'Plaid Cymru',\n",
    "       'Green Party','United Kingdom Independence Party (UKIP)','Brexit Party', \n",
    "       'Change UK- The Independent Group', 'Other', \"Don't know\"]\n",
    "BES_Panel[\"pastvote_eup_2019W18\"].cat.rename_categories(fixed_eup_categories,inplace=True)\n",
    "BES_Panel[\"pastvote_eup_2019W19\"].cat.rename_categories(fixed_eup_categories,inplace=True)\n",
    "\n",
    "BES_Panel[\"pastvote_eup_2019W18\"] = BES_Panel[\"pastvote_eup_2019W18\"].cat.reorder_categories(BES_Panel[\"euroElectionVoteW16\"].cat.categories)\n",
    "BES_Panel[\"pastvote_eup_2019W19\"] = BES_Panel[\"pastvote_eup_2019W19\"].cat.reorder_categories(BES_Panel[\"euroElectionVoteW16\"].cat.categories)\n",
    "\n",
    "BES_Panel[match(BES_Panel,\"countryW\\d+\").index] = BES_Panel[match(BES_Panel,\"countryW\\d+\").index].replace({1:\"England\",2:\"Scotland\",3:\"Wales\"})\n",
    "\n",
    "extra_vote_var_list = ['scotReferendumVoteW3', 'scotReferendumVoteW11',  'scotReferendumVoteW15']\n",
    "BES_Panel[extra_vote_var_list] = BES_Panel[extra_vote_var_list].replace({\"I voted 'No' (Scotland should not be an independent country)\":\"Voted no\",\n",
    "                                   \"I voted 'Yes' (Scotland should be an independent country)\":\"Voted yes\"})\n",
    "\n",
    "# 98.0 in localElectionVoteW12 *appears to be \"An independent candidate\"\n",
    "# guess they decided to move all these to Other ... but missed this one\n",
    "BES_Panel['localElectionVoteW12'] = BES_Panel['localElectionVoteW12'].replace(98.0,\"Other\")"
   ]
  },
  {
   "cell_type": "code",
   "execution_count": 14,
   "metadata": {},
   "outputs": [
    {
     "data": {
      "text/plain": [
       "array([\"Conservative|Labour|Liberal Democrat|Scottish National Party (SNP)|Plaid Cymru|United Kingdom Independence Party (UKIP)|Green Party|British National Party (BNP)|Other|Don't know\",\n",
       "       \"Conservative|Labour|Liberal Democrat|Scottish National Party (SNP)|Plaid Cymru|United Kingdom Independence Party (UKIP)|Green Party|British National Party (BNP)|Other|Don't know\",\n",
       "       \"Conservative|Labour|Liberal Democrat|Scottish National Party (SNP)|Plaid Cymru|United Kingdom Independence Party (UKIP)|Green Party|British National Party (BNP)|Other|Don't know\",\n",
       "       \"Conservative|Labour|Liberal Democrat|Scottish National Party (SNP)|Plaid Cymru|United Kingdom Independence Party (UKIP)|Green Party|British National Party (BNP)|Other|Don't know\",\n",
       "       \"Conservative|Labour|Liberal Democrat|Scottish National Party (SNP)|Plaid Cymru|Green Party|Other|Brexit Party|Don't know\"],\n",
       "      dtype=object)"
      ]
     },
     "execution_count": 14,
     "metadata": {},
     "output_type": "execute_result"
    }
   ],
   "source": [
    "BES_Panel[search(BES_Panel,\"p_past_vote\").index].apply(lambda x: \"|\".join( x.cat.categories ) ).values"
   ]
  },
  {
   "cell_type": "code",
   "execution_count": null,
   "metadata": {},
   "outputs": [],
   "source": []
  },
  {
   "cell_type": "code",
   "execution_count": 30,
   "metadata": {},
   "outputs": [
    {
     "data": {
      "text/plain": [
       "Labour                                      23742\n",
       "Conservative                                23741\n",
       "Liberal Democrat                             5258\n",
       "Scottish National Party (SNP)                2523\n",
       "United Kingdom Independence Party (UKIP)     1498\n",
       "Green Party                                  1289\n",
       "Don't know                                   1204\n",
       "Other                                         726\n",
       "Plaid Cymru                                   395\n",
       "British National Party (BNP)                    1\n",
       "Name: p_past_vote_2017, dtype: int64"
      ]
     },
     "execution_count": 30,
     "metadata": {},
     "output_type": "execute_result"
    }
   ],
   "source": [
    "BES_Panel[\"p_past_vote_2017\"].value_counts()"
   ]
  },
  {
   "cell_type": "code",
   "execution_count": 12,
   "metadata": {},
   "outputs": [
    {
     "data": {
      "text/plain": [
       "p_turnout_2015                                     DNV|Voted|Don't know\n",
       "p_turnout_2017                                     DNV|Voted|Don't know\n",
       "p_turnout_2019                                     DNV|Voted|Don't know\n",
       "p_turnout_2010                                                DNV|Voted\n",
       "p_turnout_2005                                                DNV|Voted\n",
       "p_turnout_scot_ref    No, I did not vote|Yes, I voted|No, I was not ...\n",
       "dtype: object"
      ]
     },
     "execution_count": 12,
     "metadata": {},
     "output_type": "execute_result"
    }
   ],
   "source": [
    "BES_Panel[search(BES_Panel,\"p_turnout\").index].apply(lambda x: \"|\".join( x.cat.categories ) )"
   ]
  },
  {
   "cell_type": "code",
   "execution_count": 65,
   "metadata": {
    "scrolled": true
   },
   "outputs": [],
   "source": [
    "mask = BES_Panel[ search(BES_Panel,\"euRefpastVote\").index ].replace(\"Don't know\",np.nan).notnull().any(axis=1)"
   ]
  },
  {
   "cell_type": "code",
   "execution_count": 81,
   "metadata": {},
   "outputs": [
    {
     "data": {
      "text/plain": [
       "Index(['generalElectionVoteRetro2017W18', 'euroTurnoutRetroW2',\n",
       "       'localTurnoutRetroW2', 'genElecTurnoutRetroW6', 'localTurnoutRetroW6',\n",
       "       'genElecTurnoutRetroW7', 'localTurnoutRetroW8', 'welshTurnoutRetroW8',\n",
       "       'scotTurnoutRetroW8', 'euRefTurnoutRetroW9', 'euRefTurnoutRetroW11',\n",
       "       'localTurnoutRetroW12', 'euRefTurnoutRetroW12',\n",
       "       'genElecTurnoutRetroW13', 'euRefTurnoutRetroW13',\n",
       "       'localTurnoutRetroW14', 'euRefTurnoutRetroW14', 'euRefTurnoutRetroW15',\n",
       "       'euroTurnoutRetroW16', 'localTurnoutRetroW16', 'euRefTurnoutRetroW17',\n",
       "       'genElecTurnoutRetro2017W18', 'genElecTurnoutRetroW19'],\n",
       "      dtype='object')"
      ]
     },
     "execution_count": 81,
     "metadata": {},
     "output_type": "execute_result"
    }
   ],
   "source": [
    "search(BES_Panel,\"generalElectionVoteRetro|TurnoutRetro\").index\n",
    "\n",
    "\n",
    "# welshTurnoutRetroW8, scotTurnoutRetroW8"
   ]
  },
  {
   "cell_type": "code",
   "execution_count": 83,
   "metadata": {},
   "outputs": [
    {
     "data": {
      "text/plain": [
       "Index(['euroTurnoutW1', 'euroElectionVoteW1', 'euroTurnoutRetroW2',\n",
       "       'euroElectionVoteW2', 'voteMethodEurope_1W2', 'voteMethodEurope_2W2',\n",
       "       'voteMethodEurope_3W2', 'voteMethodEurope_4W2', 'euroTurnoutRetroW16',\n",
       "       'euroElectionVoteW16', 'euroElectionVoteNonVoterW16',\n",
       "       'voteMethodEurope_1W16', 'voteMethodEurope_2W16',\n",
       "       'voteMethodEurope_3W16', 'voteMethodEurope_4W16'],\n",
       "      dtype='object')"
      ]
     },
     "execution_count": 83,
     "metadata": {},
     "output_type": "execute_result"
    }
   ],
   "source": [
    "search(BES_Panel,\"euroTurnout|euroElectionVote|voteMethodEurope\").index\n",
    "\n",
    "# voteMethodEurope\n",
    "\n",
    "# welshTurnoutRetroW8, scotTurnoutRetroW8"
   ]
  },
  {
   "cell_type": "code",
   "execution_count": 79,
   "metadata": {},
   "outputs": [
    {
     "data": {
      "text/plain": [
       "Index(['euRefVoteW1', 'euRefVoteW2', 'euRefVoteW3', 'euRefVoteW4',\n",
       "       'euRefVoteW6', 'euRefTurnoutW7', 'euRefVoteW7', 'euRefVoteSqueezeW7',\n",
       "       'euRefInterestW7', 'euRefExpectationW7', 'euRefFinalW7',\n",
       "       'expectGoodConductEURefW7', 'euRefVoteUnsqueezeW7', 'euRefVotePostW8',\n",
       "       'euRefTurnoutW8', 'euRefVoteW8', 'euRefVoteSqueezeW8',\n",
       "       'euRefCertaintyW8', 'euRefInterestW8', 'euRefExpectationW8',\n",
       "       'euRefFinalW8', 'euRefVoteUnsqueezeW8', 'euRefVote2W8',\n",
       "       'euRefTurnoutRetroW9', 'euRefVoteHypotheticalW9', 'euRefVoteW9',\n",
       "       'euRefFinalPostW9', 'goodConductEURefW9', 'euRefDoOverW10',\n",
       "       'euRefVoteW10', 'goodConductEURefW10', 'euRefDoOverW11', 'euRefVoteW11',\n",
       "       'goodConductEURefW11', 'euRefTurnoutRetroW11', 'euRefpastVoteW11',\n",
       "       'euRefVoteW12', 'euRefTurnoutRetroW12', 'euRefpastVoteW12',\n",
       "       'euRefDoOverW13', 'euRefVoteW13', 'euRefTurnoutRetroW13',\n",
       "       'euRefpastVoteW13', 'euRefDoOverW14', 'euRefVoteW14',\n",
       "       'euRefTurnoutRetroW14', 'euRefDoOverW15', 'euRefVoteW15',\n",
       "       'goodConductEURefW15', 'euRefTurnoutRetroW15', 'euRefpastVoteW15',\n",
       "       'euRefDoOverW16', 'euRefVoteW16', 'euRefDoOverW17', 'euRefVoteW17',\n",
       "       'euRefTurnoutRetroW17', 'euRefDoOverW18', 'euRefVoteW18',\n",
       "       'euRefDoOverW19', 'euRefVoteW19', 'EUrefsatisfactionControl_1W19',\n",
       "       'p_eurefvote', 'p_eurefturnout'],\n",
       "      dtype='object')"
      ]
     },
     "execution_count": 79,
     "metadata": {},
     "output_type": "execute_result"
    }
   ],
   "source": [
    "search(BES_Panel,\"euref\").index"
   ]
  },
  {
   "cell_type": "code",
   "execution_count": 77,
   "metadata": {},
   "outputs": [
    {
     "data": {
      "text/plain": [
       "id\n",
       "81       Stay/remain in the EU\n",
       "458               Leave the EU\n",
       "544               Leave the EU\n",
       "778               Leave the EU\n",
       "1068              Leave the EU\n",
       "                 ...          \n",
       "80899             Leave the EU\n",
       "80912             Leave the EU\n",
       "80985    Stay/remain in the EU\n",
       "81072    Stay/remain in the EU\n",
       "81082    Stay/remain in the EU\n",
       "Name: 0, Length: 945, dtype: object"
      ]
     },
     "execution_count": 77,
     "metadata": {},
     "output_type": "execute_result"
    }
   ],
   "source": [
    "BES_Panel[ search(BES_Panel,\"pastvote\").index ][BES_Panel[\"p_eurefvote\"].isnull()&mask].replace(\"Don't know\",np.nan).mode(axis=1,dropna=True)[0]"
   ]
  },
  {
   "cell_type": "code",
   "execution_count": 97,
   "metadata": {},
   "outputs": [
    {
     "data": {
      "text/html": [
       "['turnoutUKGeneralW1', 'turnoutUKGeneralW2', 'turnoutUKGeneralW3', 'turnoutUKGeneralW4', 'turnoutUKGeneralW5', 'turnoutUKGeneralW7', 'turnoutUKGeneralW8', 'turnoutUKGeneralW9', 'turnoutUKGeneralW10', 'turnoutUKGeneralW11', 'turnoutUKGeneralW12', 'turnoutUKGeneralW14', 'turnoutUKGeneralW15', 'turnoutUKGeneralW16', 'turnoutUKGeneralW17', 'turnoutUKGeneralW18', 'euroTurnoutW1', 'scotReferendumTurnoutW1', 'scotRefExpectationTurnoutW1', 'euroTurnoutRetroW2', 'localTurnoutRetroW2', 'discussantturnoutName1W2', 'discussantturnoutName2W2', 'discussantturnoutName3W2', 'scotReferendumTurnoutW2', 'scotRefExpectationTurnoutW2', 'mapTurnoutW3', 'discussantturnoutName1W4', 'discussantturnoutName2W4', 'discussantturnoutName3W4', 'postalTurnoutW5', 'genElecTurnoutRetroW6', 'localTurnoutRetroW6', 'euRefTurnoutW7', 'localTurnoutW7', 'welshTurnoutW7', 'scotTurnoutW7', 'londonTurnoutW7', 'genElecTurnoutRetroW7', 'postalTurnoutW8', 'euRefTurnoutW8', 'localTurnoutRetroW8', 'welshTurnoutRetroW8', 'scotTurnoutRetroW8', 'pccTurnoutW8', 'londonTurnoutW8', 'euRefTurnoutRetroW9', 'euRefTurnoutRetroW11', 'postalTurnoutW12', 'localTurnoutRetroW12', 'discussantturnoutName1W12', 'discussantturnoutName2W12', 'discussantturnoutName3W12', 'euRefTurnoutRetroW12', 'genElecTurnoutRetroW13', 'euRefTurnoutRetroW13', 'localTurnoutRetroW14', 'euRefTurnoutRetroW14', 'euRefTurnoutRetroW15', 'euroTurnoutRetroW16', 'localTurnoutRetroW16', 'euRefTurnoutRetroW17', 'postalTurnoutW18', 'genElecTurnoutRetro2017W18', 'genElecTurnoutRetroW19', 'p_turnout_2015', 'p_turnout_2017', 'p_turnout_2019', 'p_turnout_2010', 'p_turnout_2005', 'p_turnout_scot_ref', 'p_eurefturnout']"
      ],
      "text/plain": [
       "['turnoutUKGeneralW1',\n",
       " 'turnoutUKGeneralW2',\n",
       " 'turnoutUKGeneralW3',\n",
       " 'turnoutUKGeneralW4',\n",
       " 'turnoutUKGeneralW5',\n",
       " 'turnoutUKGeneralW7',\n",
       " 'turnoutUKGeneralW8',\n",
       " 'turnoutUKGeneralW9',\n",
       " 'turnoutUKGeneralW10',\n",
       " 'turnoutUKGeneralW11',\n",
       " 'turnoutUKGeneralW12',\n",
       " 'turnoutUKGeneralW14',\n",
       " 'turnoutUKGeneralW15',\n",
       " 'turnoutUKGeneralW16',\n",
       " 'turnoutUKGeneralW17',\n",
       " 'turnoutUKGeneralW18',\n",
       " 'euroTurnoutW1',\n",
       " 'scotReferendumTurnoutW1',\n",
       " 'scotRefExpectationTurnoutW1',\n",
       " 'euroTurnoutRetroW2',\n",
       " 'localTurnoutRetroW2',\n",
       " 'discussantturnoutName1W2',\n",
       " 'discussantturnoutName2W2',\n",
       " 'discussantturnoutName3W2',\n",
       " 'scotReferendumTurnoutW2',\n",
       " 'scotRefExpectationTurnoutW2',\n",
       " 'mapTurnoutW3',\n",
       " 'discussantturnoutName1W4',\n",
       " 'discussantturnoutName2W4',\n",
       " 'discussantturnoutName3W4',\n",
       " 'postalTurnoutW5',\n",
       " 'genElecTurnoutRetroW6',\n",
       " 'localTurnoutRetroW6',\n",
       " 'euRefTurnoutW7',\n",
       " 'localTurnoutW7',\n",
       " 'welshTurnoutW7',\n",
       " 'scotTurnoutW7',\n",
       " 'londonTurnoutW7',\n",
       " 'genElecTurnoutRetroW7',\n",
       " 'postalTurnoutW8',\n",
       " 'euRefTurnoutW8',\n",
       " 'localTurnoutRetroW8',\n",
       " 'welshTurnoutRetroW8',\n",
       " 'scotTurnoutRetroW8',\n",
       " 'pccTurnoutW8',\n",
       " 'londonTurnoutW8',\n",
       " 'euRefTurnoutRetroW9',\n",
       " 'euRefTurnoutRetroW11',\n",
       " 'postalTurnoutW12',\n",
       " 'localTurnoutRetroW12',\n",
       " 'discussantturnoutName1W12',\n",
       " 'discussantturnoutName2W12',\n",
       " 'discussantturnoutName3W12',\n",
       " 'euRefTurnoutRetroW12',\n",
       " 'genElecTurnoutRetroW13',\n",
       " 'euRefTurnoutRetroW13',\n",
       " 'localTurnoutRetroW14',\n",
       " 'euRefTurnoutRetroW14',\n",
       " 'euRefTurnoutRetroW15',\n",
       " 'euroTurnoutRetroW16',\n",
       " 'localTurnoutRetroW16',\n",
       " 'euRefTurnoutRetroW17',\n",
       " 'postalTurnoutW18',\n",
       " 'genElecTurnoutRetro2017W18',\n",
       " 'genElecTurnoutRetroW19',\n",
       " 'p_turnout_2015',\n",
       " 'p_turnout_2017',\n",
       " 'p_turnout_2019',\n",
       " 'p_turnout_2010',\n",
       " 'p_turnout_2005',\n",
       " 'p_turnout_scot_ref',\n",
       " 'p_eurefturnout']"
      ]
     },
     "execution_count": 97,
     "metadata": {},
     "output_type": "execute_result"
    }
   ],
   "source": [
    "list( search(BES_Panel,\"turnout\").index )"
   ]
  },
  {
   "cell_type": "code",
   "execution_count": 93,
   "metadata": {},
   "outputs": [
    {
     "data": {
      "text/plain": [
       "id\n",
       "1        Yes, voted\n",
       "2        Yes, voted\n",
       "3        Yes, voted\n",
       "4               NaN\n",
       "5               NaN\n",
       "            ...    \n",
       "98447           NaN\n",
       "98448           NaN\n",
       "98449           NaN\n",
       "98450           NaN\n",
       "98451           NaN\n",
       "Name: genElecTurnoutRetroW6, Length: 97006, dtype: category\n",
       "Categories (3, object): [No, did not vote < Yes, voted < Don't know]"
      ]
     },
     "execution_count": 93,
     "metadata": {},
     "output_type": "execute_result"
    }
   ],
   "source": [
    "BES_Panel[\"pastvote_eup_2019W18\"] = pastvote_eup_2019W18.loc[BES_Panel.index]\n",
    "BES_Panel[\"pastvote_eup_2019W19\"] = pastvote_eup_2019W19.loc[BES_Panel.index]\n",
    "\n",
    "BES_Panel[\"scotReferendumVoteW11\"] = scotReferendumVoteW11.loc[BES_Panel.index]\n",
    "BES_Panel[\"scotReferendumVoteW15\"] = scotReferendumVoteW15.loc[BES_Panel.index]"
   ]
  },
  {
   "cell_type": "code",
   "execution_count": null,
   "metadata": {},
   "outputs": [],
   "source": [
    "# voting events\n",
    "\n",
    "# GE 2005,2010,2015,2017,2019 DONE\n",
    "# euRefTurnoutRetro W9W11W12W13W14W15W17\n",
    "# euRefpastVote W11W12W13W15\n",
    "# p_eurefturnout\n",
    "# p_eurvote DONE\n",
    "\n",
    "# euroTurnoutRetro W2W16\n",
    "# euroElectionVote W2W16\n",
    "# pastvote_eup_2019 W18W19 DONE\n",
    "\n",
    "\n",
    "# SCOTREF, EUREF\n",
    "# EURO 2014,2019\n",
    "\n",
    "\n",
    "# voteMethodEurope_(1|2|3|4|dk) W2W16 (same coverage as euroElectionVote)\n",
    "# euroElectionVoteNonVoterW16  (good coverage of *all* the people not registered as voting!)\n",
    "\n",
    "\n",
    "# scotReferendumVote W11W15\n",
    "# scotReferendumTurnout W1W2\n",
    "# scotReferendumRetroW3\n",
    "# scotReferendumVoteW3\n",
    "p_vote_scot_ref                   9588\n",
    "p_turnout_scot_ref               10976 DONE\n",
    "\n",
    "\n",
    "# localTurnoutRetro W2W8W12W14W16\n",
    "# localElectionVote W2W8W12W14W16 DONE\n",
    "\n",
    "\n",
    "\n",
    "p_scot_const_vote_2011            9581\n",
    "p_scot_list_vote_2011             9489\n",
    "\n",
    "p_scot_const_vote_2016            8637\n",
    "p_scot_list_vote_2016             8635\n",
    "# scotTurnoutRetroW8\n",
    "\n",
    "p_welsh_const_vote_2016    5212\n",
    "p_welsh_list_vote_2016     5211\n",
    "# welshTurnoutRetroW8\n",
    "\n",
    "# <specific mayoral votes>"
   ]
  },
  {
   "cell_type": "code",
   "execution_count": 387,
   "metadata": {},
   "outputs": [
    {
     "data": {
      "text/plain": [
       "londonTurnoutW7    3598\n",
       "londonTurnoutW8    3702\n",
       "dtype: int64"
      ]
     },
     "execution_count": 387,
     "metadata": {},
     "output_type": "execute_result"
    }
   ],
   "source": [
    "search(BES_Panel,\"londonTurnout\")"
   ]
  },
  {
   "cell_type": "code",
   "execution_count": null,
   "metadata": {},
   "outputs": [],
   "source": []
  },
  {
   "cell_type": "code",
   "execution_count": 140,
   "metadata": {},
   "outputs": [
    {
     "data": {
      "text/plain": [
       "p_turnout_2005                                             DNV|Voted\n",
       "p_turnout_2010                                             DNV|Voted\n",
       "p_turnout_2015                                  DNV|Voted|Don't know\n",
       "p_turnout_2017                                  DNV|Voted|Don't know\n",
       "p_turnout_2019                                  DNV|Voted|Don't know\n",
       "voted2015newwordingW15        No, did not vote|Yes, voted|Don't know\n",
       "genElecTurnoutRetroW6         No, did not vote|Yes, voted|Don't know\n",
       "genElecTurnoutRetroW7         No, did not vote|Yes, voted|Don't know\n",
       "genElecTurnoutRetroW13        No, did not vote|Yes, voted|Don't know\n",
       "genElecTurnoutRetro2017W18    No, did not vote|Yes, voted|Don't know\n",
       "genElecTurnoutRetroW19        No, did not vote|Yes, voted|Don't know\n",
       "dtype: object"
      ]
     },
     "execution_count": 140,
     "metadata": {},
     "output_type": "execute_result"
    }
   ],
   "source": [
    "BES_Panel[[\"p_turnout_2005\",\"p_turnout_2010\",\"p_turnout_2015\",\"p_turnout_2017\",\"p_turnout_2019\",\n",
    "           \"voted2015newwordingW15\",\"genElecTurnoutRetroW6\",\"genElecTurnoutRetroW7\",\n",
    "           \"genElecTurnoutRetroW13\",\"genElecTurnoutRetro2017W18\",\n",
    "           \"genElecTurnoutRetroW19\"]].apply(lambda x:\"|\".join(x.cat.categories))"
   ]
  },
  {
   "cell_type": "code",
   "execution_count": 468,
   "metadata": {},
   "outputs": [],
   "source": [
    "unknown_str = \"UNK\"\n",
    "tooYoung_str = \"TYTV(Def)\"\n",
    "tooYoung_soft_str = \"TYTV(Maybe)\"\n",
    "noWeights_str = \"Not Present\"\n",
    "nonVoter_str = \"DNV\"\n",
    "couldNotVote_str = \"CNV\"\n",
    "age_cut_off = 18\n",
    "\n",
    "replace_dict = {'Conservative':\"CON\",\n",
    " 'Labour':\"LAB\",\n",
    " 'Liberal Democrat':\"LD\",\n",
    " 'Scottish National Party (SNP)':\"SNP\",\n",
    " 'Plaid Cymru':\"PC\",\n",
    " 'Green Party':\"GP\",\n",
    " 'Other':\"OTH\",\n",
    " 'Brexit Party':\"BXP\",\n",
    " \"Don't know\":\"DK\",\n",
    " \"United Kingdom Independence Party (UKIP)\":\"UKIP\",\n",
    " \"British National Party (BNP)\":\"BNP\",\n",
    " \"Stay/remain in the EU\":\"REMAIN\",\n",
    " \"Leave the EU\":\"LEAVE\",\n",
    " \"Change UK- The Independent Group\":\"TIG\",\n",
    " \"Voted no\":\"NO\",\"Voted yes\":\"YES\",\n",
    " \"I voted 'No' (Scotland should not be an independent country)\":\"NO\",\n",
    " \"I voted 'Yes' (Scotland should be an independent country)\":\"YES\",\n",
    " \"I would/did not vote\":nonVoter_str,\n",
    "               }\n",
    "\n",
    "\n",
    "\n",
    "Probably_didnt_vote_list = [\"No, did not vote\",\"No, I did not vote\",\"DNV\",\"I would/did not vote\",\n",
    "                            \"No, I was not eligible to vote\",\"There wasn't a local election in my area\"]\n",
    "\n",
    "Couldnt_vote_list = [\"No, I was not eligible to vote\",\"There wasn't a local election in my area\"]\n",
    "\n",
    "nowtsW19 = (~BES_Panel[match(BES_Panel,\"wave\\d+$\").index].any(axis=1))\n",
    "\n",
    "dk_replace = {\"Don't know\":np.nan,\"DK\":np.nan}"
   ]
  },
  {
   "cell_type": "code",
   "execution_count": 489,
   "metadata": {},
   "outputs": [],
   "source": [
    "\n",
    "\n",
    "\n",
    "def add_cat_and_modify_df(pan_dataset_votes, col, mask, new_cat ):\n",
    "    if new_cat not in pan_dataset_votes[col].cat.categories:\n",
    "        pan_dataset_votes[col].cat.add_categories(new_cat,inplace=True)\n",
    "    pan_dataset_votes[col][mask] = new_cat\n",
    "    \n",
    "def were_they_too_young_to_vote(age_var,offset):\n",
    "    too_young_to_vote_hard = pan_dataset_ages[age_var]<=(age_cut_off+offset-1)\n",
    "    too_young_to_vote_soft = pan_dataset_ages[age_var]<=(age_cut_off+offset+1)\n",
    "    return too_young_to_vote_hard,too_young_to_vote_soft\n",
    "\n",
    "def update_pan_dataset_votes(turnout_var,past_vote_var,new_vote_var,age_var,age_offset=0,\n",
    "                             extra_turnout_var_list=[],extra_vote_var_list=[],could_not_vote_var_list=[],\n",
    "                             could_not_vote_extras=[]):\n",
    "    pan_dataset_votes[new_vote_var] = BES_Panel[past_vote_var].copy()\n",
    "    # BES_Panel[\"profile_past_vote_2005\"].cat.categories\n",
    "\n",
    "    # 'An independent candidate' -> An independent candidate\n",
    "    # BES_Panel[\"profile_past_vote_2005\"].replace(replace_dict)\n",
    "\n",
    "    for extra_vote_var in extra_vote_var_list:\n",
    "        no_confident_vote_inf = pan_dataset_votes[new_vote_var].replace(dk_replace).isnull()\n",
    "        pan_dataset_votes.loc[no_confident_vote_inf,new_vote_var] = BES_Panel.loc[no_confident_vote_inf,extra_vote_var]\n",
    "        \n",
    "    pan_dataset_votes[new_vote_var] = pan_dataset_votes[new_vote_var].replace(replace_dict).astype('category')\n",
    "\n",
    "    # Did not vote\n",
    "    if turnout_var is not None:\n",
    "        Didnt_vote_not_sure = BES_Panel[turnout_var].apply(lambda x: x in Probably_didnt_vote_list).fillna(False).astype('bool')\n",
    "        for extra_turnout_var in extra_turnout_var_list:\n",
    "            Didnt_vote_not_sure = Didnt_vote_not_sure|BES_Panel[extra_turnout_var].apply(lambda x: x in Probably_didnt_vote_list).replace(np.nan,False)   \n",
    "        # non profile variables only contribute where profile variables is not present\n",
    "        no_confident_vote_inf = pan_dataset_votes[new_vote_var].replace(dk_replace).isnull()\n",
    "        Didnt_vote_not_sure = Didnt_vote_not_sure & no_confident_vote_inf\n",
    "        add_cat_and_modify_df(pan_dataset_votes, new_vote_var, Didnt_vote_not_sure, nonVoter_str)            \n",
    "\n",
    "    # Could not vote\n",
    "    # check turnout variables for \"couldnt_vote_list\" strings\n",
    "    Could_not_vote = pd.Series([False]*BES_Panel.shape[0],index=BES_Panel.index)\n",
    "    if turnout_var is not None:\n",
    "        Could_not_vote =  Could_not_vote|BES_Panel[turnout_var].apply(lambda x: x in Couldnt_vote_list+could_not_vote_extras).fillna(False).astype('bool')\n",
    "        for extra_turnout_var in extra_turnout_var_list:\n",
    "            Could_not_vote = Could_not_vote|BES_Panel[extra_turnout_var].apply(lambda x: x in Couldnt_vote_list+could_not_vote_extras).replace(np.nan,False)\n",
    "    for could_not_vote_var in could_not_vote_var_list:\n",
    "        Could_not_vote = Could_not_vote|BES_Panel[could_not_vote_var].apply(lambda x: x in Couldnt_vote_list+could_not_vote_extras).replace(np.nan,False)\n",
    "    \n",
    "    if Could_not_vote.sum()>0:\n",
    "        add_cat_and_modify_df(pan_dataset_votes, new_vote_var, Could_not_vote, couldNotVote_str)\n",
    "    \n",
    "\n",
    "    # could break this into two phases\n",
    "    # Age < CutOff-1 => Confident enough to override recollections of voting!\n",
    "    # Age < Cutoff+1 => Only overrides Don't know/absence of info\n",
    "    too_young_to_vote_hard,too_young_to_vote_soft = were_they_too_young_to_vote(age_var,age_offset)\n",
    "    add_cat_and_modify_df(pan_dataset_votes, new_vote_var, too_young_to_vote_hard, tooYoung_str)\n",
    "\n",
    "    no_confident_vote_inf = pan_dataset_votes[new_vote_var].replace(dk_replace).isnull()\n",
    "    too_young_to_vote_soft = too_young_to_vote_soft & no_confident_vote_inf\n",
    "    add_cat_and_modify_df(pan_dataset_votes, new_vote_var, too_young_to_vote_soft, tooYoung_soft_str)\n",
    "\n",
    "    pan_dataset_votes[new_vote_var+\"_complete\"] = pan_dataset_votes[new_vote_var]\n",
    "    # entried that don't actually seem real/to contain any data!\n",
    "    # nowtsW19 = (BES_Panel[\"wt_new_W19_result\"].isnull() & BES_Panel[\"wave19\"])\n",
    "    add_cat_and_modify_df(pan_dataset_votes, new_vote_var+\"_complete\", nowtsW19, noWeights_str)\n",
    "\n",
    "    # we have no information - probably because not covered in any wave\n",
    "    unknownW19 = pan_dataset_votes[new_vote_var+\"_complete\"].isnull()\n",
    "    add_cat_and_modify_df(pan_dataset_votes, new_vote_var+\"_complete\", unknownW19, unknown_str)   \n",
    "    \n",
    "    pan_dataset_votes[new_vote_var+\"_simple\"] = pan_dataset_votes[new_vote_var+\"_complete\"]\n",
    "    pan_dataset_votes[new_vote_var+\"_simple\"].replace( {\"Not Present\":np.nan,\"TYTV(Def)\":\"TYTV\",\"TYTV(Maybe)\":\"TYTV\" },inplace=True )\n",
    "    pan_dataset_votes[new_vote_var+\"_simple\"] = pan_dataset_votes[new_vote_var+\"_simple\"].astype('category')"
   ]
  },
  {
   "cell_type": "code",
   "execution_count": 490,
   "metadata": {},
   "outputs": [
    {
     "data": {
      "text/plain": [
       "UNK     64745\n",
       "CON     12695\n",
       "LAB      8264\n",
       "LD       3582\n",
       "DNV      3224\n",
       "SNP      1252\n",
       "GP        863\n",
       "BXP       722\n",
       "OTH       552\n",
       "TYTV      226\n",
       "DK        221\n",
       "PC        183\n",
       "Name: 2019GEVote_simple, dtype: int64"
      ]
     },
     "execution_count": 490,
     "metadata": {},
     "output_type": "execute_result"
    }
   ],
   "source": [
    "    \n",
    "pan_dataset_votes = pd.DataFrame()\n",
    "    \n",
    "turnout_var = \"p_turnout_2005\"\n",
    "past_vote_var = \"p_past_vote_2005\"\n",
    "new_vote_var = \"2005GEVote\"\n",
    "age_var = \"Age_at_W1\"\n",
    "age_offset =8.818617385352498\n",
    "update_pan_dataset_votes(turnout_var,past_vote_var,new_vote_var,age_var,age_offset)    \n",
    "\n",
    "turnout_var = \"p_turnout_2010\"\n",
    "past_vote_var = \"p_past_vote_2010\"\n",
    "new_vote_var = \"2010GEVote\"\n",
    "age_var = \"Age_at_W1\"\n",
    "age_offset =3.818617385352498\n",
    "update_pan_dataset_votes(turnout_var,past_vote_var,new_vote_var,age_var,age_offset)    \n",
    "\n",
    "turnout_var = \"p_turnout_2015\"\n",
    "past_vote_var = \"p_past_vote_2015\"\n",
    "new_vote_var = \"2015GEVote\"\n",
    "age_var = \"Age_at_W5\"\n",
    "extra_turnout_var_list = [\"voted2015newwordingW15\",\"genElecTurnoutRetroW6\",\"genElecTurnoutRetroW7\"]\n",
    "update_pan_dataset_votes(turnout_var=turnout_var,past_vote_var=past_vote_var,new_vote_var=new_vote_var,age_var=age_var,\n",
    "                         extra_turnout_var_list=extra_turnout_var_list) \n",
    "\n",
    "turnout_var = \"p_turnout_2017\"\n",
    "past_vote_var = \"p_past_vote_2017\"\n",
    "new_vote_var = \"2017GEVote\"\n",
    "age_var = \"Age_at_W12\"\n",
    "extra_turnout_var_list = [\"genElecTurnoutRetroW13\",\"genElecTurnoutRetro2017W18\"]\n",
    "update_pan_dataset_votes(turnout_var=turnout_var,past_vote_var=past_vote_var,new_vote_var=new_vote_var,age_var=age_var,\n",
    "                         extra_turnout_var_list=extra_turnout_var_list) \n",
    "\n",
    "turnout_var = \"p_turnout_2019\"\n",
    "past_vote_var = \"p_past_vote_2019\"\n",
    "new_vote_var = \"2019GEVote\"\n",
    "age_var = \"Age_at_W18\"\n",
    "extra_turnout_var_list = [\"genElecTurnoutRetroW19\"]\n",
    "update_pan_dataset_votes(turnout_var=turnout_var,past_vote_var=past_vote_var,new_vote_var=new_vote_var,age_var=age_var,\n",
    "                         extra_turnout_var_list=extra_turnout_var_list) \n",
    "\n",
    "pan_dataset_votes[\"2019GEVote_simple\"].value_counts()"
   ]
  },
  {
   "cell_type": "code",
   "execution_count": 491,
   "metadata": {},
   "outputs": [
    {
     "data": {
      "text/plain": [
       "UNK     48627\n",
       "BXP     12733\n",
       "DNV     11523\n",
       "LD       7536\n",
       "GP       4812\n",
       "LAB      3822\n",
       "CON      2487\n",
       "SNP      1485\n",
       "TIG      1197\n",
       "OTH       708\n",
       "UKIP      552\n",
       "PC        472\n",
       "DK        311\n",
       "TYTV      264\n",
       "Name: 2019EEVote_simple, dtype: int64"
      ]
     },
     "execution_count": 491,
     "metadata": {},
     "output_type": "execute_result"
    }
   ],
   "source": [
    "turnout_var = \"p_eurefturnout\"\n",
    "past_vote_var = \"p_eurefvote\"\n",
    "new_vote_var = \"2016EUVote\"\n",
    "age_var = \"Age_at_W8\"\n",
    "extra_turnout_var_list = ['euRefTurnoutRetroW9', 'euRefTurnoutRetroW11', 'euRefTurnoutRetroW12',\n",
    "       'euRefTurnoutRetroW13', 'euRefTurnoutRetroW14', 'euRefTurnoutRetroW15',\n",
    "       'euRefTurnoutRetroW17']\n",
    "extra_vote_var_list = ['euRefpastVoteW11', 'euRefpastVoteW12', 'euRefpastVoteW13',\n",
    "       'euRefpastVoteW15']\n",
    "\n",
    "update_pan_dataset_votes(turnout_var=turnout_var,past_vote_var=past_vote_var,new_vote_var=new_vote_var,age_var=age_var,\n",
    "                         extra_turnout_var_list=extra_turnout_var_list,\n",
    "                         extra_vote_var_list = extra_vote_var_list) \n",
    "\n",
    "\n",
    "\n",
    "turnout_var = \"euroTurnoutRetroW2\"\n",
    "past_vote_var = \"euroElectionVoteW2\"\n",
    "new_vote_var = \"2014EEVote\"\n",
    "age_var = \"Age_at_W1\"\n",
    "update_pan_dataset_votes(turnout_var=turnout_var,past_vote_var=past_vote_var,new_vote_var=new_vote_var,age_var=age_var) \n",
    "\n",
    "\n",
    "turnout_var = \"euroTurnoutRetroW16\"\n",
    "past_vote_var = \"euroElectionVoteW16\"\n",
    "new_vote_var = \"2019EEVote\"\n",
    "age_var = \"Age_at_W16\"\n",
    "extra_vote_var_list = [ 'pastvote_eup_2019W18', 'pastvote_eup_2019W18' ]\n",
    "update_pan_dataset_votes(turnout_var=turnout_var,past_vote_var=past_vote_var,new_vote_var=new_vote_var,age_var=age_var,\n",
    "                         extra_vote_var_list = extra_vote_var_list) \n",
    "\n",
    "\n",
    "\n",
    "pan_dataset_votes[new_vote_var+\"_simple\"].value_counts()\n"
   ]
  },
  {
   "cell_type": "code",
   "execution_count": 492,
   "metadata": {},
   "outputs": [
    {
     "data": {
      "text/plain": [
       "UNK     57523\n",
       "CNV     24273\n",
       "NO       5030\n",
       "YES      4480\n",
       "TYTV     4389\n",
       "DNV       832\n",
       "DK          2\n",
       "Name: 2014SCOTREF_simple, dtype: int64"
      ]
     },
     "execution_count": 492,
     "metadata": {},
     "output_type": "execute_result"
    }
   ],
   "source": [
    "turnout_var = \"p_turnout_scot_ref\"\n",
    "past_vote_var = \"p_vote_scot_ref\"\n",
    "new_vote_var = \"2014SCOTREF\"\n",
    "age_var = \"Age_at_W2\"\n",
    "age_offset = -2\n",
    "extra_vote_var_list = ['scotReferendumVoteW3', 'scotReferendumVoteW11',  'scotReferendumVoteW15']\n",
    "\n",
    "extra_turnout_var_list = ['scotReferendumRetroW3']\n",
    "\n",
    "update_pan_dataset_votes(turnout_var=turnout_var,past_vote_var=past_vote_var,new_vote_var=new_vote_var,\n",
    "                         age_var=age_var,age_offset = age_offset,\n",
    "                         extra_turnout_var_list=extra_turnout_var_list,\n",
    "                         extra_vote_var_list = extra_vote_var_list,\n",
    "                         could_not_vote_var_list=[\"countryW2\"],could_not_vote_extras=[\"England\",\"Wales\"]) \n",
    "\n",
    "pan_dataset_votes[new_vote_var+\"_simple\"].value_counts()\n",
    "\n",
    "\n",
    "\n",
    "\n",
    "                             "
   ]
  },
  {
   "cell_type": "code",
   "execution_count": null,
   "metadata": {},
   "outputs": [],
   "source": []
  },
  {
   "cell_type": "code",
   "execution_count": 460,
   "metadata": {},
   "outputs": [],
   "source": []
  },
  {
   "cell_type": "code",
   "execution_count": null,
   "metadata": {},
   "outputs": [],
   "source": []
  },
  {
   "cell_type": "code",
   "execution_count": null,
   "metadata": {},
   "outputs": [],
   "source": []
  },
  {
   "cell_type": "code",
   "execution_count": 408,
   "metadata": {},
   "outputs": [],
   "source": []
  },
  {
   "cell_type": "code",
   "execution_count": null,
   "metadata": {},
   "outputs": [],
   "source": []
  },
  {
   "cell_type": "code",
   "execution_count": 476,
   "metadata": {},
   "outputs": [],
   "source": [
    "# UK local elections\n",
    "# https://en.wikipedia.org/wiki/2019_United_Kingdom_local_elections\n",
    "    \n",
    "# * 2 May 2019\tW16\n",
    "# * 3 May 2018\tW14\n",
    "# * 4 May 2017\tW12\n",
    "# * 5 May 2016 - W8\n",
    "# * 7 May 2015 - W6\n",
    "# * 22 May 2014   - W2"
   ]
  },
  {
   "cell_type": "code",
   "execution_count": 493,
   "metadata": {},
   "outputs": [
    {
     "data": {
      "text/plain": [
       "UNK     73126\n",
       "DNV      7609\n",
       "CNV      3203\n",
       "CON      3168\n",
       "LAB      2872\n",
       "LD       2212\n",
       "OTH      1713\n",
       "GP       1140\n",
       "UKIP      701\n",
       "TYTV      447\n",
       "DK        338\n",
       "Name: 2019LE_simple, dtype: int64"
      ]
     },
     "execution_count": 493,
     "metadata": {},
     "output_type": "execute_result"
    }
   ],
   "source": [
    "turnout_var = \"localTurnoutRetroW2\"\n",
    "past_vote_var = \"localElectionVoteW2\"\n",
    "new_vote_var = \"2014LE\"\n",
    "age_var = \"Age_at_W2\"\n",
    "\n",
    "update_pan_dataset_votes(turnout_var=turnout_var,past_vote_var=past_vote_var,new_vote_var=new_vote_var,age_var=age_var) \n",
    "\n",
    "turnout_var = \"localTurnoutRetroW6\"\n",
    "past_vote_var = \"localElectionVoteW6\"\n",
    "new_vote_var = \"2015LE\"\n",
    "age_var = \"Age_at_W6\"\n",
    "\n",
    "update_pan_dataset_votes(turnout_var=turnout_var,past_vote_var=past_vote_var,new_vote_var=new_vote_var,age_var=age_var) \n",
    "\n",
    "turnout_var = \"localTurnoutRetroW8\"\n",
    "past_vote_var = \"localElectionVoteW8\"\n",
    "new_vote_var = \"2016LE\"\n",
    "age_var = \"Age_at_W8\"\n",
    "\n",
    "update_pan_dataset_votes(turnout_var=turnout_var,past_vote_var=past_vote_var,new_vote_var=new_vote_var,age_var=age_var) \n",
    "\n",
    "turnout_var = \"localTurnoutRetroW12\"\n",
    "past_vote_var = \"localElectionVoteW12\"\n",
    "new_vote_var = \"2017LE\"\n",
    "age_var = \"Age_at_W12\"\n",
    "\n",
    "\n",
    "update_pan_dataset_votes(turnout_var=turnout_var,past_vote_var=past_vote_var,new_vote_var=new_vote_var,age_var=age_var) \n",
    "\n",
    "turnout_var = \"localTurnoutRetroW14\"\n",
    "past_vote_var = \"localElectionVoteW14\"\n",
    "new_vote_var = \"2018LE\"\n",
    "age_var = \"Age_at_W14\"\n",
    "\n",
    "update_pan_dataset_votes(turnout_var=turnout_var,past_vote_var=past_vote_var,new_vote_var=new_vote_var,age_var=age_var)\n",
    "\n",
    "turnout_var = \"localTurnoutRetroW16\"\n",
    "past_vote_var = \"localElectionVoteW16\"\n",
    "new_vote_var = \"2019LE\"\n",
    "age_var = \"Age_at_W16\"\n",
    "\n",
    "update_pan_dataset_votes(turnout_var=turnout_var,past_vote_var=past_vote_var,new_vote_var=new_vote_var,age_var=age_var)\n",
    "\n",
    "pan_dataset_votes[new_vote_var+\"_simple\"].value_counts()\n"
   ]
  },
  {
   "cell_type": "code",
   "execution_count": 494,
   "metadata": {},
   "outputs": [
    {
     "data": {
      "text/plain": [
       "UNK     59351\n",
       "CNV     28315\n",
       "TYTV     3730\n",
       "DNV      2181\n",
       "LAB       897\n",
       "PC        645\n",
       "CON       592\n",
       "UKIP      325\n",
       "LD        227\n",
       "GP        151\n",
       "OTH       115\n",
       "Name: 2016WEL_simple, dtype: int64"
      ]
     },
     "execution_count": 494,
     "metadata": {},
     "output_type": "execute_result"
    }
   ],
   "source": [
    "turnout_var = None\n",
    "past_vote_var = \"p_scot_const_vote_2011\"\n",
    "new_vote_var = \"2011SEC\"\n",
    "age_var = \"Age_at_W1\"\n",
    "age_offset = 2.818617385352498\n",
    "\n",
    "update_pan_dataset_votes(turnout_var=turnout_var,past_vote_var=past_vote_var,new_vote_var=new_vote_var,\n",
    "                         age_var=age_var,age_offset=age_offset) \n",
    "\n",
    "\n",
    "\n",
    "turnout_var = None\n",
    "past_vote_var = \"p_scot_list_vote_2011\"\n",
    "new_vote_var = \"2011SEL\"\n",
    "age_var = \"Age_at_W1\"\n",
    "age_offset = 2.818617385352498\n",
    "\n",
    "update_pan_dataset_votes(turnout_var=turnout_var,past_vote_var=past_vote_var,new_vote_var=new_vote_var,\n",
    "                         age_var=age_var,age_offset=age_offset) \n",
    "\n",
    "\n",
    "\n",
    "turnout_var = \"scotTurnoutRetroW8\"\n",
    "past_vote_var = \"p_scot_const_vote_2016\"\n",
    "new_vote_var = \"2016SEC\"\n",
    "age_var = \"Age_at_W7\"\n",
    "age_offset = -2\n",
    "\n",
    "\n",
    "update_pan_dataset_votes(turnout_var=turnout_var,past_vote_var=past_vote_var,new_vote_var=new_vote_var,\n",
    "                         age_var=age_var,age_offset=age_offset,\n",
    "                         could_not_vote_var_list=[\"countryW7\"],could_not_vote_extras=[\"England\",\"Wales\"]) \n",
    "\n",
    "\n",
    "turnout_var = \"scotTurnoutRetroW8\"\n",
    "past_vote_var = \"p_scot_list_vote_2016\"\n",
    "new_vote_var = \"2016SEL\"\n",
    "age_var = \"Age_at_W7\"\n",
    "age_offset = -2\n",
    "\n",
    "update_pan_dataset_votes(turnout_var=turnout_var,past_vote_var=past_vote_var,new_vote_var=new_vote_var,\n",
    "                         age_var=age_var,age_offset=age_offset,\n",
    "                         could_not_vote_var_list=[\"countryW7\"],could_not_vote_extras=[\"England\",\"Wales\"]) \n",
    "\n",
    "\n",
    "turnout_var = \"welshTurnoutRetroW8\"\n",
    "past_vote_var = \"p_welsh_const_vote_2016\"\n",
    "new_vote_var = \"2016WEC\"\n",
    "age_var = \"Age_at_W7\"\n",
    "\n",
    "\n",
    "update_pan_dataset_votes(turnout_var=turnout_var,past_vote_var=past_vote_var,new_vote_var=new_vote_var,\n",
    "                         age_var=age_var,\n",
    "                         could_not_vote_var_list=[\"countryW7\"],could_not_vote_extras=[\"England\",\"Scotland\"]) \n",
    "\n",
    "# pan_dataset_votes[new_vote_var+\"_complete\"].value_counts()\n",
    "\n",
    "turnout_var = \"welshTurnoutRetroW8\"\n",
    "past_vote_var = \"p_welsh_list_vote_2016\"\n",
    "new_vote_var = \"2016WEL\"\n",
    "age_var = \"Age_at_W7\"\n",
    "\n",
    "update_pan_dataset_votes(turnout_var=turnout_var,past_vote_var=past_vote_var,new_vote_var=new_vote_var,\n",
    "                         age_var=age_var,\n",
    "                         could_not_vote_var_list=[\"countryW7\"],could_not_vote_extras=[\"England\",\"Scotland\"]) \n",
    "\n",
    "\n",
    "\n",
    "pan_dataset_votes[new_vote_var+\"_simple\"].value_counts()\n",
    "\n"
   ]
  },
  {
   "cell_type": "code",
   "execution_count": 498,
   "metadata": {},
   "outputs": [],
   "source": [
    "pan_dataset_votes.to_csv(BES_small_data_files+\"pan_dataset_votes\"+\".csv\")\n",
    "pan_dataset_votes.to_pickle(BES_small_data_files+\"pan_dataset_votes\"+\".zip\",compression='zip')"
   ]
  },
  {
   "cell_type": "code",
   "execution_count": 496,
   "metadata": {},
   "outputs": [
    {
     "data": {
      "text/plain": [
       "'../BES_analysis_code/small data files\\\\'"
      ]
     },
     "execution_count": 496,
     "metadata": {},
     "output_type": "execute_result"
    }
   ],
   "source": []
  },
  {
   "cell_type": "code",
   "execution_count": null,
   "metadata": {},
   "outputs": [],
   "source": [
    "# No, did not vote|Yes, voted|There wasn't a local election in my area|Don't know"
   ]
  },
  {
   "cell_type": "code",
   "execution_count": 426,
   "metadata": {},
   "outputs": [
    {
     "data": {
      "text/plain": [
       "I would/did not vote                        1529\n",
       "Labour                                      1279\n",
       "Conservative                                 809\n",
       "Plaid Cymru                                  745\n",
       "United Kingdom Independence Party (UKIP)     407\n",
       "Liberal Democrat                             292\n",
       "Other                                        151\n",
       "Name: p_welsh_const_vote_2016, dtype: int64"
      ]
     },
     "execution_count": 426,
     "metadata": {},
     "output_type": "execute_result"
    }
   ],
   "source": [
    "BES_Panel['p_welsh_const_vote_2016'].value_counts()"
   ]
  },
  {
   "cell_type": "code",
   "execution_count": 428,
   "metadata": {},
   "outputs": [
    {
     "data": {
      "text/plain": [
       "Yes, voted          2152\n",
       "No, did not vote     386\n",
       "Don't know            33\n",
       "Name: welshTurnoutRetroW8, dtype: int64"
      ]
     },
     "execution_count": 428,
     "metadata": {},
     "output_type": "execute_result"
    }
   ],
   "source": [
    "BES_Panel['welshTurnoutRetroW8'].value_counts()"
   ]
  },
  {
   "cell_type": "code",
   "execution_count": 406,
   "metadata": {},
   "outputs": [
    {
     "data": {
      "text/plain": [
       "Index([                            'Conservative',\n",
       "                                         'Labour',\n",
       "                               'Liberal Democrat',\n",
       "                  'Scottish National Party (SNP)',\n",
       "                                    'Plaid Cymru',\n",
       "       'United Kingdom Independence Party (UKIP)',\n",
       "                                    'Green Party',\n",
       "                                          'Other',\n",
       "                                             98.0,\n",
       "                                     'Don't know'],\n",
       "      dtype='object')"
      ]
     },
     "execution_count": 406,
     "metadata": {},
     "output_type": "execute_result"
    }
   ],
   "source": [
    "BES_Panel['localElectionVoteW12'].cat.categories"
   ]
  },
  {
   "cell_type": "code",
   "execution_count": 433,
   "metadata": {},
   "outputs": [
    {
     "data": {
      "text/html": [
       "<div>\n",
       "<style scoped>\n",
       "    .dataframe tbody tr th:only-of-type {\n",
       "        vertical-align: middle;\n",
       "    }\n",
       "\n",
       "    .dataframe tbody tr th {\n",
       "        vertical-align: top;\n",
       "    }\n",
       "\n",
       "    .dataframe thead th {\n",
       "        text-align: right;\n",
       "    }\n",
       "</style>\n",
       "<table border=\"1\" class=\"dataframe\">\n",
       "  <thead>\n",
       "    <tr style=\"text-align: right;\">\n",
       "      <th></th>\n",
       "      <th>Name</th>\n",
       "      <th>BES_Title</th>\n",
       "      <th>BES_Url</th>\n",
       "      <th>Wave No</th>\n",
       "      <th>Only_or_Combined</th>\n",
       "      <th>Base_or_Strings</th>\n",
       "      <th>Mode</th>\n",
       "      <th>Version</th>\n",
       "      <th>Stata_Filename</th>\n",
       "      <th>Stata_Url</th>\n",
       "      <th>SPSS_Url</th>\n",
       "      <th>Ques_Url</th>\n",
       "      <th>N</th>\n",
       "      <th>Date_Start</th>\n",
       "      <th>Date_Stop</th>\n",
       "      <th>Description</th>\n",
       "      <th>Citation</th>\n",
       "      <th>Friendlier_Description</th>\n",
       "    </tr>\n",
       "  </thead>\n",
       "  <tbody>\n",
       "    <tr>\n",
       "      <th>0</th>\n",
       "      <td>W19_only</td>\n",
       "      <td>Wave 19 of the 2014-2023 British Election Stud...</td>\n",
       "      <td>https://www.britishelectionstudy.com/data-obje...</td>\n",
       "      <td>19</td>\n",
       "      <td>Only</td>\n",
       "      <td>Base</td>\n",
       "      <td>Online Survey</td>\n",
       "      <td>0.1</td>\n",
       "      <td>BES2019_W19_v0.1.dta</td>\n",
       "      <td>https://www.britishelectionstudy.com/wp-conten...</td>\n",
       "      <td>https://www.britishelectionstudy.com/wp-conten...</td>\n",
       "      <td>https://www.britishelectionstudy.com/wp-conten...</td>\n",
       "      <td>32177</td>\n",
       "      <td>Dec-19</td>\n",
       "      <td>Dec-19</td>\n",
       "      <td>December 2019 (post-2019 election) wave of the...</td>\n",
       "      <td>Fieldhouse, E., J. Green, G. Evans, J. Mellon ...</td>\n",
       "      <td>2019 GE: Post-Election</td>\n",
       "    </tr>\n",
       "    <tr>\n",
       "      <th>1</th>\n",
       "      <td>W19_comb</td>\n",
       "      <td>British Election Study Combined Wave 1-19 Inte...</td>\n",
       "      <td>https://www.britishelectionstudy.com/data-obje...</td>\n",
       "      <td>19</td>\n",
       "      <td>Combined</td>\n",
       "      <td>Base</td>\n",
       "      <td>Online Survey</td>\n",
       "      <td>0.1</td>\n",
       "      <td>BES2019_W19_Panel_v0.1.dta</td>\n",
       "      <td>https://www.britishelectionstudy.com/wp-conten...</td>\n",
       "      <td>https://www.britishelectionstudy.com/wp-conten...</td>\n",
       "      <td>British Election Study Combined Wave 1-19 Inte...</td>\n",
       "      <td>97158</td>\n",
       "      <td>Feb-14</td>\n",
       "      <td>Dec-19</td>\n",
       "      <td>A panel dataset including waves 1-19 of the BE...</td>\n",
       "      <td>Fieldhouse, E., J. Green, G. Evans, J. Mellon ...</td>\n",
       "      <td>2019 GE: Post-Election</td>\n",
       "    </tr>\n",
       "    <tr>\n",
       "      <th>2</th>\n",
       "      <td>W19_comb_strings</td>\n",
       "      <td>British Election Study Combined Wave 1-19 Inte...</td>\n",
       "      <td>https://www.britishelectionstudy.com/data-obje...</td>\n",
       "      <td>19</td>\n",
       "      <td>Combined</td>\n",
       "      <td>Strings</td>\n",
       "      <td>Online Survey</td>\n",
       "      <td>0.2</td>\n",
       "      <td>BES2019_W19Strings_v0.2.dta</td>\n",
       "      <td>https://www.britishelectionstudy.com/wp-conten...</td>\n",
       "      <td>https://www.britishelectionstudy.com/wp-conten...</td>\n",
       "      <td>https://www.britishelectionstudy.com/wp-conten...</td>\n",
       "      <td>97158</td>\n",
       "      <td>Feb-14</td>\n",
       "      <td>Dec-19</td>\n",
       "      <td>A dataset containing the data from open ended ...</td>\n",
       "      <td>Fieldhouse, E., J. Green, G. Evans, J. Mellon ...</td>\n",
       "      <td>2019 GE: Post-Election</td>\n",
       "    </tr>\n",
       "    <tr>\n",
       "      <th>3</th>\n",
       "      <td>W18_only</td>\n",
       "      <td>Wave 18 of the 2014-2023 British Election Stud...</td>\n",
       "      <td>https://www.britishelectionstudy.com/data-obje...</td>\n",
       "      <td>18</td>\n",
       "      <td>Only</td>\n",
       "      <td>Base</td>\n",
       "      <td>Online Survey</td>\n",
       "      <td>0.1</td>\n",
       "      <td>BES2019_W18_v0.1.dta</td>\n",
       "      <td>https://www.britishelectionstudy.com/wp-conten...</td>\n",
       "      <td>https://www.britishelectionstudy.com/wp-conten...</td>\n",
       "      <td>https://www.britishelectionstudy.com/wp-conten...</td>\n",
       "      <td>37825</td>\n",
       "      <td>Nov-19</td>\n",
       "      <td>Dec-19</td>\n",
       "      <td>November-December 2019 (2019 campaign) wave of...</td>\n",
       "      <td>Fieldhouse, E., J. Green, G. Evans, J. Mellon ...</td>\n",
       "      <td>2019 GE: Campaign</td>\n",
       "    </tr>\n",
       "    <tr>\n",
       "      <th>4</th>\n",
       "      <td>W17_only</td>\n",
       "      <td>Wave 17 of the 2014-2023 British Election Stud...</td>\n",
       "      <td>https://www.britishelectionstudy.com/data-obje...</td>\n",
       "      <td>17</td>\n",
       "      <td>Only</td>\n",
       "      <td>Base</td>\n",
       "      <td>Online Survey</td>\n",
       "      <td>0.1</td>\n",
       "      <td>BES2019_W17_v0.1.dta</td>\n",
       "      <td>https://www.britishelectionstudy.com/wp-conten...</td>\n",
       "      <td>https://www.britishelectionstudy.com/wp-conten...</td>\n",
       "      <td>https://www.britishelectionstudy.com/wp-conten...</td>\n",
       "      <td>34366</td>\n",
       "      <td>Nov-19</td>\n",
       "      <td>Nov-19</td>\n",
       "      <td>November 2019 (pre-2019 election) wave of the ...</td>\n",
       "      <td>Fieldhouse, E., J. Green, G. Evans, J. Mellon ...</td>\n",
       "      <td>2019 GE: Pre-Campaign</td>\n",
       "    </tr>\n",
       "    <tr>\n",
       "      <th>5</th>\n",
       "      <td>W16_only</td>\n",
       "      <td>Wave 16 of the 2014-2019 British Election Stud...</td>\n",
       "      <td>https://www.britishelectionstudy.com/data-obje...</td>\n",
       "      <td>16</td>\n",
       "      <td>Only</td>\n",
       "      <td>Base</td>\n",
       "      <td>Online Survey</td>\n",
       "      <td>0.2</td>\n",
       "      <td>BES2019_W16_v0.2.dta</td>\n",
       "      <td>https://www.britishelectionstudy.com/wp-conten...</td>\n",
       "      <td>https://www.britishelectionstudy.com/wp-conten...</td>\n",
       "      <td>https://www.britishelectionstudy.com/wp-conten...</td>\n",
       "      <td>37959</td>\n",
       "      <td>May-19</td>\n",
       "      <td>Jun-19</td>\n",
       "      <td>May-June 2019 wave of the 2014-2019 British El...</td>\n",
       "      <td>Fieldhouse, E., J. Green, G. Evans, J. Mellon ...</td>\n",
       "      <td>2019 : Post Euro Elections</td>\n",
       "    </tr>\n",
       "    <tr>\n",
       "      <th>6</th>\n",
       "      <td>W16_comb</td>\n",
       "      <td>British Election Study Combined Wave 1-16 Inte...</td>\n",
       "      <td>https://www.britishelectionstudy.com/data-obje...</td>\n",
       "      <td>16</td>\n",
       "      <td>Combined</td>\n",
       "      <td>Base</td>\n",
       "      <td>Online Survey</td>\n",
       "      <td>0.3</td>\n",
       "      <td>BES2019_W16_Panel_v0.3.dta</td>\n",
       "      <td>https://www.britishelectionstudy.com/wp-conten...</td>\n",
       "      <td>https://www.britishelectionstudy.com/wp-conten...</td>\n",
       "      <td>https://www.britishelectionstudy.com/wp-conten...</td>\n",
       "      <td>92587</td>\n",
       "      <td>Feb-14</td>\n",
       "      <td>Jun-19</td>\n",
       "      <td>A panel dataset including waves 1, 2, 3, 4, 5,...</td>\n",
       "      <td>Fieldhouse, E., J. Green, G. Evans, J. Mellon ...</td>\n",
       "      <td>2019 : Post Euro Elections</td>\n",
       "    </tr>\n",
       "    <tr>\n",
       "      <th>7</th>\n",
       "      <td>W16_comb_strings</td>\n",
       "      <td>British Election Study Combined Wave 1-16 Inte...</td>\n",
       "      <td>https://www.britishelectionstudy.com/data-obje...</td>\n",
       "      <td>16</td>\n",
       "      <td>Combined</td>\n",
       "      <td>Strings</td>\n",
       "      <td>Online Survey</td>\n",
       "      <td>0.2</td>\n",
       "      <td>BES2019_W16Strings_v0.2.dta</td>\n",
       "      <td>https://www.britishelectionstudy.com/wp-conten...</td>\n",
       "      <td>https://www.britishelectionstudy.com/wp-conten...</td>\n",
       "      <td>https://www.britishelectionstudy.com/wp-conten...</td>\n",
       "      <td>92587</td>\n",
       "      <td>Feb-14</td>\n",
       "      <td>Jun-19</td>\n",
       "      <td>A dataset containing the data from open ended ...</td>\n",
       "      <td>Fieldhouse, E., J. Green, G. Evans, J. Mellon ...</td>\n",
       "      <td>2019 : Post Euro Elections</td>\n",
       "    </tr>\n",
       "    <tr>\n",
       "      <th>8</th>\n",
       "      <td>W15_only</td>\n",
       "      <td>Wave 15 of the 2014-2019 British Election Stud...</td>\n",
       "      <td>https://www.britishelectionstudy.com/data-obje...</td>\n",
       "      <td>15</td>\n",
       "      <td>Only</td>\n",
       "      <td>Base</td>\n",
       "      <td>Online Survey</td>\n",
       "      <td>0.4</td>\n",
       "      <td>BES2019_W15_v0.4.dta</td>\n",
       "      <td>https://www.britishelectionstudy.com/wp-conten...</td>\n",
       "      <td>https://www.britishelectionstudy.com/wp-conten...</td>\n",
       "      <td>https://www.britishelectionstudy.com/wp-conten...</td>\n",
       "      <td>30842</td>\n",
       "      <td>Mar-19</td>\n",
       "      <td>Mar-19</td>\n",
       "      <td>March 2019 wave of the 2014-2019 British Elect...</td>\n",
       "      <td>Fieldhouse, E., J. Green., G. Evans., H. Schmi...</td>\n",
       "      <td>2019: Spring</td>\n",
       "    </tr>\n",
       "    <tr>\n",
       "      <th>9</th>\n",
       "      <td>W15_comb</td>\n",
       "      <td>British Election Study Combined Wave 1-15 Inte...</td>\n",
       "      <td>https://www.britishelectionstudy.com/data-obje...</td>\n",
       "      <td>15</td>\n",
       "      <td>Combined</td>\n",
       "      <td>Base</td>\n",
       "      <td>Online Survey</td>\n",
       "      <td>0.3</td>\n",
       "      <td>BES2019_W15_Panel_v0.3.dta</td>\n",
       "      <td>https://www.britishelectionstudy.com/wp-conten...</td>\n",
       "      <td>https://www.britishelectionstudy.com/wp-conten...</td>\n",
       "      <td>https://www.britishelectionstudy.com/wp-conten...</td>\n",
       "      <td>3206</td>\n",
       "      <td>Feb-14</td>\n",
       "      <td>Mar-19</td>\n",
       "      <td>A panel dataset including waves 1, 2, 3, 4, 5,...</td>\n",
       "      <td>Fieldhouse, E., J. Green., G. Evans., H. Schmi...</td>\n",
       "      <td>2019: Spring</td>\n",
       "    </tr>\n",
       "    <tr>\n",
       "      <th>10</th>\n",
       "      <td>W14_only</td>\n",
       "      <td>Wave 14 of the 2014-2018 British Election Stud...</td>\n",
       "      <td>http://www.britishelectionstudy.com/data-objec...</td>\n",
       "      <td>14</td>\n",
       "      <td>Only</td>\n",
       "      <td>Base</td>\n",
       "      <td>Online Survey</td>\n",
       "      <td>0.4</td>\n",
       "      <td>BES2017_W14_v0.4.dta</td>\n",
       "      <td>https://www.britishelectionstudy.com/wp-conten...</td>\n",
       "      <td>https://www.britishelectionstudy.com/wp-conten...</td>\n",
       "      <td>http://www.britishelectionstudy.com/wp-content...</td>\n",
       "      <td>31063</td>\n",
       "      <td>May-18</td>\n",
       "      <td>May-18</td>\n",
       "      <td>May 2018 wave of the 2014-2018 British Electio...</td>\n",
       "      <td>Fieldhouse, E., J. Green., G. Evans., H. Schmi...</td>\n",
       "      <td>2018: Summer</td>\n",
       "    </tr>\n",
       "    <tr>\n",
       "      <th>11</th>\n",
       "      <td>W14_comb</td>\n",
       "      <td>British Election Study Combined Wave 1-14 Inte...</td>\n",
       "      <td>http://www.britishelectionstudy.com/data-objec...</td>\n",
       "      <td>14</td>\n",
       "      <td>Combined</td>\n",
       "      <td>Base</td>\n",
       "      <td>Online Survey</td>\n",
       "      <td>0.3</td>\n",
       "      <td>BES2017_W14_Panel_v0.3.dta</td>\n",
       "      <td>http://www.britishelectionstudy.com/wp-content...</td>\n",
       "      <td>http://www.britishelectionstudy.com/wp-content...</td>\n",
       "      <td>http://www.britishelectionstudy.com/wp-content...</td>\n",
       "      <td>4191</td>\n",
       "      <td>Feb-14</td>\n",
       "      <td>May-18</td>\n",
       "      <td>A panel dataset including waves 1, 2, 3, 4, 5,...</td>\n",
       "      <td>Fieldhouse, E., J. Green., G. Evans., H. Schmi...</td>\n",
       "      <td>2018: Summer</td>\n",
       "    </tr>\n",
       "    <tr>\n",
       "      <th>12</th>\n",
       "      <td>W14_comb_strings</td>\n",
       "      <td>British Election Study Combined Wave 1-14 Inte...</td>\n",
       "      <td>http://www.britishelectionstudy.com/data-objec...</td>\n",
       "      <td>14</td>\n",
       "      <td>Combined</td>\n",
       "      <td>Strings</td>\n",
       "      <td>Online Survey</td>\n",
       "      <td>0.3</td>\n",
       "      <td>BES2017_W14Strings_v0.3.dta</td>\n",
       "      <td>http://www.britishelectionstudy.com/wp-content...</td>\n",
       "      <td>http://www.britishelectionstudy.com/wp-content...</td>\n",
       "      <td>http://www.britishelectionstudy.com/wp-content...</td>\n",
       "      <td>4191</td>\n",
       "      <td>Feb-14</td>\n",
       "      <td>May-18</td>\n",
       "      <td>A dataset containing the data from open ended ...</td>\n",
       "      <td>Fieldhouse, E., J. Green., G. Evans., H. Schmi...</td>\n",
       "      <td>2018: Summer</td>\n",
       "    </tr>\n",
       "    <tr>\n",
       "      <th>13</th>\n",
       "      <td>W13_only</td>\n",
       "      <td>Wave 13 of the 2014-2018 British Election Stud...</td>\n",
       "      <td>http://www.britishelectionstudy.com/data-objec...</td>\n",
       "      <td>13</td>\n",
       "      <td>Only</td>\n",
       "      <td>Base</td>\n",
       "      <td>Online Survey</td>\n",
       "      <td>1.6</td>\n",
       "      <td>BES2017_W13_v1.6.dta</td>\n",
       "      <td>https://www.britishelectionstudy.com/wp-conten...</td>\n",
       "      <td>https://www.britishelectionstudy.com/wp-conten...</td>\n",
       "      <td>https://www.britishelectionstudy.com/wp-conten...</td>\n",
       "      <td>31196</td>\n",
       "      <td>Jun-17</td>\n",
       "      <td>Jul-17</td>\n",
       "      <td>2017 post-election wave of the 2014-2018 Briti...</td>\n",
       "      <td>Fieldhouse, E., J. Green., G. Evans., H. Schmi...</td>\n",
       "      <td>2017 GE: Post-Election</td>\n",
       "    </tr>\n",
       "    <tr>\n",
       "      <th>14</th>\n",
       "      <td>W13_comb</td>\n",
       "      <td>British Election Study Combined Wave 1-13 Inte...</td>\n",
       "      <td>http://www.britishelectionstudy.com/data-objec...</td>\n",
       "      <td>13</td>\n",
       "      <td>Combined</td>\n",
       "      <td>Base</td>\n",
       "      <td>Online Survey</td>\n",
       "      <td>1.2</td>\n",
       "      <td>BES2017_W13_Panel_v1.2.dta</td>\n",
       "      <td>http://www.britishelectionstudy.com/wp-content...</td>\n",
       "      <td>http://www.britishelectionstudy.com/custom/upl...</td>\n",
       "      <td>http://www.britishelectionstudy.com/custom/upl...</td>\n",
       "      <td>5300</td>\n",
       "      <td>Feb-14</td>\n",
       "      <td>Jul-17</td>\n",
       "      <td>A panel dataset including waves 1, 2, 3, 4, 5,...</td>\n",
       "      <td>Fieldhouse, E., J. Green., G. Evans., H. Schmi...</td>\n",
       "      <td>2017 GE: Post-Election</td>\n",
       "    </tr>\n",
       "    <tr>\n",
       "      <th>15</th>\n",
       "      <td>W13_comb_strings</td>\n",
       "      <td>British Election Study Combined Wave 1-13 Inte...</td>\n",
       "      <td>http://www.britishelectionstudy.com/data-objec...</td>\n",
       "      <td>13</td>\n",
       "      <td>Combined</td>\n",
       "      <td>Strings</td>\n",
       "      <td>Online Survey</td>\n",
       "      <td>1.0</td>\n",
       "      <td>BES2017_W13Strings_v1.0.dta</td>\n",
       "      <td>http://www.britishelectionstudy.com/custom/upl...</td>\n",
       "      <td>http://www.britishelectionstudy.com/custom/upl...</td>\n",
       "      <td>http://www.britishelectionstudy.com/custom/upl...</td>\n",
       "      <td>5300</td>\n",
       "      <td>Feb-14</td>\n",
       "      <td>Jul-17</td>\n",
       "      <td>A dataset containing the data from open ended ...</td>\n",
       "      <td>Fieldhouse, E., J. Green., G. Evans., H. Schmi...</td>\n",
       "      <td>2017 GE: Post-Election</td>\n",
       "    </tr>\n",
       "    <tr>\n",
       "      <th>16</th>\n",
       "      <td>W12_only</td>\n",
       "      <td>Wave 12 of the 2014-2018 British Election Stud...</td>\n",
       "      <td>http://www.britishelectionstudy.com/data-objec...</td>\n",
       "      <td>12</td>\n",
       "      <td>Only</td>\n",
       "      <td>Base</td>\n",
       "      <td>Online Survey</td>\n",
       "      <td>1.6</td>\n",
       "      <td>BES2015_W12_v1.6.dta</td>\n",
       "      <td>https://www.britishelectionstudy.com/wp-conten...</td>\n",
       "      <td>https://www.britishelectionstudy.com/wp-conten...</td>\n",
       "      <td>https://www.britishelectionstudy.com/wp-conten...</td>\n",
       "      <td>34464</td>\n",
       "      <td>May-17</td>\n",
       "      <td>Jun-17</td>\n",
       "      <td>2017 campaign wave of the 2014-2018 British El...</td>\n",
       "      <td>Fieldhouse, E., J. Green., G. Evans., H. Schmi...</td>\n",
       "      <td>2017 GE: Campaign</td>\n",
       "    </tr>\n",
       "    <tr>\n",
       "      <th>17</th>\n",
       "      <td>W11_only</td>\n",
       "      <td>Wave 11 of the 2014-2018 British Election Stud...</td>\n",
       "      <td>http://www.britishelectionstudy.com/data-objec...</td>\n",
       "      <td>11</td>\n",
       "      <td>Only</td>\n",
       "      <td>Base</td>\n",
       "      <td>Online Survey</td>\n",
       "      <td>1.6</td>\n",
       "      <td>BES2015_W11_v1.6.dta</td>\n",
       "      <td>https://www.britishelectionstudy.com/wp-conten...</td>\n",
       "      <td>https://www.britishelectionstudy.com/wp-conten...</td>\n",
       "      <td>https://www.britishelectionstudy.com/wp-conten...</td>\n",
       "      <td>31014</td>\n",
       "      <td>Apr-17</td>\n",
       "      <td>May-17</td>\n",
       "      <td>2017 election pre-campaign wave of the 2014-20...</td>\n",
       "      <td>Fieldhouse, E., J. Green., G. Evans., H. Schmi...</td>\n",
       "      <td>2017 GE: Pre-Campaign</td>\n",
       "    </tr>\n",
       "    <tr>\n",
       "      <th>18</th>\n",
       "      <td>W10_comb</td>\n",
       "      <td>British Election Study Combined Wave 1-10 Inte...</td>\n",
       "      <td>http://www.britishelectionstudy.com/data-objec...</td>\n",
       "      <td>10</td>\n",
       "      <td>Combined</td>\n",
       "      <td>Base</td>\n",
       "      <td>Online Survey</td>\n",
       "      <td>0.3</td>\n",
       "      <td>BES2015_W10_Panel_v0.3.dta</td>\n",
       "      <td>http://www.britishelectionstudy.com/custom/upl...</td>\n",
       "      <td>http://www.britishelectionstudy.com/custom/upl...</td>\n",
       "      <td>http://www.britishelectionstudy.com/custom/upl...</td>\n",
       "      <td>7351</td>\n",
       "      <td>Feb-14</td>\n",
       "      <td>Dec-16</td>\n",
       "      <td>A panel dataset including waves 1, 2, 3, 4, 5,...</td>\n",
       "      <td>Fieldhouse, E., J. Green., G. Evans., H. Schmi...</td>\n",
       "      <td>2016: Autumn</td>\n",
       "    </tr>\n",
       "    <tr>\n",
       "      <th>19</th>\n",
       "      <td>W10_only</td>\n",
       "      <td>Wave 10 of the 2014-2018 British Election Stud...</td>\n",
       "      <td>http://www.britishelectionstudy.com/data-objec...</td>\n",
       "      <td>10</td>\n",
       "      <td>Only</td>\n",
       "      <td>Base</td>\n",
       "      <td>Online Survey</td>\n",
       "      <td>0.9</td>\n",
       "      <td>BES2015_W10_v0.9.dta</td>\n",
       "      <td>https://www.britishelectionstudy.com/wp-conten...</td>\n",
       "      <td>https://www.britishelectionstudy.com/wp-conten...</td>\n",
       "      <td>https://www.britishelectionstudy.com/wp-conten...</td>\n",
       "      <td>30319</td>\n",
       "      <td>Nov-16</td>\n",
       "      <td>Dec-16</td>\n",
       "      <td>2016 Autumn wave of the 2014-2018 British Elec...</td>\n",
       "      <td>Fieldhouse, E., J. Green., G. Evans., H. Schmi...</td>\n",
       "      <td>2016: Autumn</td>\n",
       "    </tr>\n",
       "    <tr>\n",
       "      <th>20</th>\n",
       "      <td>W9_comb</td>\n",
       "      <td>British Election Study Combined Wave 1-9 Inter...</td>\n",
       "      <td>http://www.britishelectionstudy.com/data-objec...</td>\n",
       "      <td>9</td>\n",
       "      <td>Combined</td>\n",
       "      <td>Base</td>\n",
       "      <td>Online Survey</td>\n",
       "      <td>1.2</td>\n",
       "      <td>BES2015_W9_Panel_v1.2.dta</td>\n",
       "      <td>http://www.britishelectionstudy.com/custom/upl...</td>\n",
       "      <td>http://www.britishelectionstudy.com/custom/upl...</td>\n",
       "      <td>http://www.britishelectionstudy.com/custom/upl...</td>\n",
       "      <td>10170</td>\n",
       "      <td>Feb-14</td>\n",
       "      <td>Jul-16</td>\n",
       "      <td>A panel dataset including waves 1, 2, 3, 4, 5,...</td>\n",
       "      <td>Fieldhouse, E., J. Green., G. Evans., H. Schmi...</td>\n",
       "      <td>2016 EU Ref: Post-Referendum</td>\n",
       "    </tr>\n",
       "    <tr>\n",
       "      <th>21</th>\n",
       "      <td>W9_only</td>\n",
       "      <td>Wave 9 of the 2014-2018 British Election Study...</td>\n",
       "      <td>http://www.britishelectionstudy.com/data-objec...</td>\n",
       "      <td>9</td>\n",
       "      <td>Only</td>\n",
       "      <td>Base</td>\n",
       "      <td>Online Survey</td>\n",
       "      <td>1.8</td>\n",
       "      <td>BES2015_W9_v1.8.dta</td>\n",
       "      <td>https://www.britishelectionstudy.com/wp-conten...</td>\n",
       "      <td>https://www.britishelectionstudy.com/wp-conten...</td>\n",
       "      <td>https://www.britishelectionstudy.com/wp-conten...</td>\n",
       "      <td>30036</td>\n",
       "      <td>Jun-16</td>\n",
       "      <td>Jul-16</td>\n",
       "      <td>2016 post-referendum wave of the 2014-2018 Bri...</td>\n",
       "      <td>Fieldhouse, E., J. Green., G. Evans., H. Schmi...</td>\n",
       "      <td>2016 EU Ref: Post-Referendum</td>\n",
       "    </tr>\n",
       "    <tr>\n",
       "      <th>22</th>\n",
       "      <td>W8_only</td>\n",
       "      <td>Wave 8 of the 2014-2018 British Election Study...</td>\n",
       "      <td>http://www.britishelectionstudy.com/data-objec...</td>\n",
       "      <td>8</td>\n",
       "      <td>Only</td>\n",
       "      <td>Base</td>\n",
       "      <td>Online Survey</td>\n",
       "      <td>2.4</td>\n",
       "      <td>BES2015_W8_v2.4.dta</td>\n",
       "      <td>https://www.britishelectionstudy.com/wp-conten...</td>\n",
       "      <td>https://www.britishelectionstudy.com/wp-conten...</td>\n",
       "      <td>https://www.britishelectionstudy.com/wp-conten...</td>\n",
       "      <td>31409</td>\n",
       "      <td>May-16</td>\n",
       "      <td>Jun-16</td>\n",
       "      <td>The 2016 EU Referendum campaign wave of the 20...</td>\n",
       "      <td>Evans, G., E. Fieldhouse., J. Green., H. Schmi...</td>\n",
       "      <td>2016 EU Ref: Campaign</td>\n",
       "    </tr>\n",
       "    <tr>\n",
       "      <th>23</th>\n",
       "      <td>W8_comb</td>\n",
       "      <td>British Election Study Combined Wave 1, 2, 3, ...</td>\n",
       "      <td>http://www.britishelectionstudy.com/data-objec...</td>\n",
       "      <td>8</td>\n",
       "      <td>Combined</td>\n",
       "      <td>Base</td>\n",
       "      <td>Online Survey</td>\n",
       "      <td>1.4</td>\n",
       "      <td>BES2015_W8_Panel_v1.4.dta</td>\n",
       "      <td>http://www.britishelectionstudy.com/custom/upl...</td>\n",
       "      <td>http://www.britishelectionstudy.com/custom/upl...</td>\n",
       "      <td>http://www.britishelectionstudy.com/custom/upl...</td>\n",
       "      <td>10678</td>\n",
       "      <td>Feb-14</td>\n",
       "      <td>Jun-16</td>\n",
       "      <td>A panel dataset including waves 1, 2, 3, 4, 5,...</td>\n",
       "      <td>Fieldhouse, E., J. Green., G. Evans., H. Schmi...</td>\n",
       "      <td>2016 EU Ref: Campaign</td>\n",
       "    </tr>\n",
       "    <tr>\n",
       "      <th>24</th>\n",
       "      <td>W7_only</td>\n",
       "      <td>Wave 7 of the 2014-2018 British Election Study...</td>\n",
       "      <td>http://www.britishelectionstudy.com/data-objec...</td>\n",
       "      <td>7</td>\n",
       "      <td>Only</td>\n",
       "      <td>Base</td>\n",
       "      <td>Online Survey</td>\n",
       "      <td>2.3</td>\n",
       "      <td>BES2015_W7_v2.3.dta</td>\n",
       "      <td>https://www.britishelectionstudy.com/wp-conten...</td>\n",
       "      <td>https://www.britishelectionstudy.com/wp-conten...</td>\n",
       "      <td>https://www.britishelectionstudy.com/wp-conten...</td>\n",
       "      <td>30895</td>\n",
       "      <td>Apr-16</td>\n",
       "      <td>May-16</td>\n",
       "      <td>Updated release version of the 2016 pre-local ...</td>\n",
       "      <td>Fieldhouse, E., J. Green., G. Evans., H. Schmi...</td>\n",
       "      <td>2016: Pre Local Elections</td>\n",
       "    </tr>\n",
       "    <tr>\n",
       "      <th>25</th>\n",
       "      <td>W7_comb</td>\n",
       "      <td>British Election Study Combined Wave 1, 2, 3, ...</td>\n",
       "      <td>http://www.britishelectionstudy.com/data-objec...</td>\n",
       "      <td>7</td>\n",
       "      <td>Combined</td>\n",
       "      <td>Base</td>\n",
       "      <td>Online Survey</td>\n",
       "      <td>3.0</td>\n",
       "      <td>BES2015_W7_Panel_v3.0.dta</td>\n",
       "      <td>http://www.britishelectionstudy.com/custom/upl...</td>\n",
       "      <td>http://www.britishelectionstudy.com/custom/upl...</td>\n",
       "      <td>http://www.britishelectionstudy.com/custom/upl...</td>\n",
       "      <td>13313</td>\n",
       "      <td>Feb-14</td>\n",
       "      <td>May-16</td>\n",
       "      <td>A panel dataset including waves 1, 2, 3, 4, 5,...</td>\n",
       "      <td>Fieldhouse, E., J. Green., G. Evans., H. Schmi...</td>\n",
       "      <td>2016: Pre Local Elections</td>\n",
       "    </tr>\n",
       "    <tr>\n",
       "      <th>26</th>\n",
       "      <td>W6_only</td>\n",
       "      <td>Post-Election Wave 6 of the 2014-2018 British ...</td>\n",
       "      <td>http://www.britishelectionstudy.com/data-objec...</td>\n",
       "      <td>6</td>\n",
       "      <td>Only</td>\n",
       "      <td>Base</td>\n",
       "      <td>Online Survey</td>\n",
       "      <td>4.0</td>\n",
       "      <td>BES2015_W6_v4.0.dta</td>\n",
       "      <td>https://www.britishelectionstudy.com/wp-conten...</td>\n",
       "      <td>https://www.britishelectionstudy.com/wp-conten...</td>\n",
       "      <td>https://www.britishelectionstudy.com/wp-conten...</td>\n",
       "      <td>30027</td>\n",
       "      <td>May-15</td>\n",
       "      <td>May-15</td>\n",
       "      <td>The 2015 post-election wave of the 2014-2018 B...</td>\n",
       "      <td>Fieldhouse, E., J. Green., G. Evans., H. Schmi...</td>\n",
       "      <td>2015 GE: Post-Election</td>\n",
       "    </tr>\n",
       "    <tr>\n",
       "      <th>27</th>\n",
       "      <td>W6_comb</td>\n",
       "      <td>British Election Study Combined Wave 1, 2, 3, ...</td>\n",
       "      <td>http://www.britishelectionstudy.com/data-objec...</td>\n",
       "      <td>6</td>\n",
       "      <td>Combined</td>\n",
       "      <td>Base</td>\n",
       "      <td>Online Survey</td>\n",
       "      <td>1.2</td>\n",
       "      <td>BES2015_W6_Panel_v1.2.dta</td>\n",
       "      <td>http://www.britishelectionstudy.com/custom/upl...</td>\n",
       "      <td>http://www.britishelectionstudy.com/custom/upl...</td>\n",
       "      <td>http://www.britishelectionstudy.com/custom/upl...</td>\n",
       "      <td>16799</td>\n",
       "      <td>Feb-14</td>\n",
       "      <td>May-15</td>\n",
       "      <td>A panel dataset including waves 1, 2, 3, 4, 5 ...</td>\n",
       "      <td>Fieldhouse, E., J. Green., G. Evans., H. Schmi...</td>\n",
       "      <td>2015 GE: Post-Election</td>\n",
       "    </tr>\n",
       "    <tr>\n",
       "      <th>28</th>\n",
       "      <td>W5_comb</td>\n",
       "      <td>British Election Study Combined Wave 1, 2, 3, ...</td>\n",
       "      <td>http://www.britishelectionstudy.com/data-objec...</td>\n",
       "      <td>5</td>\n",
       "      <td>Combined</td>\n",
       "      <td>Base</td>\n",
       "      <td>Online Survey</td>\n",
       "      <td>1.6</td>\n",
       "      <td>BES2015_W5_Panel_v1.6.dta</td>\n",
       "      <td>http://www.britishelectionstudy.com/custom/upl...</td>\n",
       "      <td>http://www.britishelectionstudy.com/custom/upl...</td>\n",
       "      <td>http://www.britishelectionstudy.com/custom/upl...</td>\n",
       "      <td>17673</td>\n",
       "      <td>Feb-14</td>\n",
       "      <td>May-15</td>\n",
       "      <td>A panel dataset including waves 1, 2, 3, 4 and...</td>\n",
       "      <td>Fieldhouse, E., J. Green., G. Evans., H. Schmi...</td>\n",
       "      <td>2015 GE: Campaign</td>\n",
       "    </tr>\n",
       "    <tr>\n",
       "      <th>29</th>\n",
       "      <td>W5_only</td>\n",
       "      <td>Wave 5 of the 2014-2018 British Election Study...</td>\n",
       "      <td>http://www.britishelectionstudy.com/data-objec...</td>\n",
       "      <td>5</td>\n",
       "      <td>Only</td>\n",
       "      <td>Base</td>\n",
       "      <td>Online Survey</td>\n",
       "      <td>4.0</td>\n",
       "      <td>BES2015_W5_v4.0.dta</td>\n",
       "      <td>https://www.britishelectionstudy.com/wp-conten...</td>\n",
       "      <td>https://www.britishelectionstudy.com/wp-conten...</td>\n",
       "      <td>https://www.britishelectionstudy.com/wp-conten...</td>\n",
       "      <td>30725</td>\n",
       "      <td>Mar-15</td>\n",
       "      <td>May-15</td>\n",
       "      <td>Updated release version of the 2015 campaign w...</td>\n",
       "      <td>Fieldhouse, E., J. Green., G. Evans., H. Schmi...</td>\n",
       "      <td>2015 GE: Campaign</td>\n",
       "    </tr>\n",
       "    <tr>\n",
       "      <th>30</th>\n",
       "      <td>W4_only</td>\n",
       "      <td>Updated Wave 4 of the 2014-2018 British Electi...</td>\n",
       "      <td>http://www.britishelectionstudy.com/data-objec...</td>\n",
       "      <td>4</td>\n",
       "      <td>Only</td>\n",
       "      <td>Base</td>\n",
       "      <td>Online Survey</td>\n",
       "      <td>4.0</td>\n",
       "      <td>BES2015_W4_v4.0.dta</td>\n",
       "      <td>https://www.britishelectionstudy.com/wp-conten...</td>\n",
       "      <td>https://www.britishelectionstudy.com/wp-conten...</td>\n",
       "      <td>https://www.britishelectionstudy.com/wp-conten...</td>\n",
       "      <td>31323</td>\n",
       "      <td>Mar-15</td>\n",
       "      <td>Mar-15</td>\n",
       "      <td>An updated full sample version of the March 20...</td>\n",
       "      <td>Fieldhouse, E., J. Green., G. Evans., H. Schmi...</td>\n",
       "      <td>2015 GE: Pre-Campaign</td>\n",
       "    </tr>\n",
       "    <tr>\n",
       "      <th>31</th>\n",
       "      <td>W4_comb</td>\n",
       "      <td>Updated British Election Study Combined Wave 1...</td>\n",
       "      <td>http://www.britishelectionstudy.com/data-objec...</td>\n",
       "      <td>4</td>\n",
       "      <td>Combined</td>\n",
       "      <td>Base</td>\n",
       "      <td>Online Survey</td>\n",
       "      <td>2.1</td>\n",
       "      <td>BES2015_W4_Panel_v2.1.dta</td>\n",
       "      <td>http://www.britishelectionstudy.com/custom/upl...</td>\n",
       "      <td>http://www.britishelectionstudy.com/custom/upl...</td>\n",
       "      <td>http://www.britishelectionstudy.com/custom/upl...</td>\n",
       "      <td>19003</td>\n",
       "      <td>Feb-14</td>\n",
       "      <td>Mar-15</td>\n",
       "      <td>An updated panel dataset including the full sa...</td>\n",
       "      <td>Fieldhouse, E., J. Green., G. Evans., H. Schmi...</td>\n",
       "      <td>2015 GE: Pre-Campaign</td>\n",
       "    </tr>\n",
       "    <tr>\n",
       "      <th>32</th>\n",
       "      <td>W3_only</td>\n",
       "      <td>Wave 3 of the 2014-2018 British Election Study...</td>\n",
       "      <td>http://www.britishelectionstudy.com/data-objec...</td>\n",
       "      <td>3</td>\n",
       "      <td>Only</td>\n",
       "      <td>Base</td>\n",
       "      <td>Online Survey</td>\n",
       "      <td>5.0</td>\n",
       "      <td>BES2015_W3_v5.0.dta</td>\n",
       "      <td>https://www.britishelectionstudy.com/wp-conten...</td>\n",
       "      <td>https://www.britishelectionstudy.com/wp-conten...</td>\n",
       "      <td>https://www.britishelectionstudy.com/wp-conten...</td>\n",
       "      <td>27839</td>\n",
       "      <td>Sep-14</td>\n",
       "      <td>Oct-14</td>\n",
       "      <td>The third 2014 wave of the 2014-2018 British E...</td>\n",
       "      <td>Fieldhouse, E., J. Green., G. Evans., H. Schmi...</td>\n",
       "      <td>2014: Autumn</td>\n",
       "    </tr>\n",
       "    <tr>\n",
       "      <th>33</th>\n",
       "      <td>W3_comb</td>\n",
       "      <td>2015 British Election Study Combined Wave 1, 2...</td>\n",
       "      <td>http://www.britishelectionstudy.com/data-objec...</td>\n",
       "      <td>3</td>\n",
       "      <td>Combined</td>\n",
       "      <td>Base</td>\n",
       "      <td>Online Survey</td>\n",
       "      <td>1.2</td>\n",
       "      <td>BES2015_W3_Panel_v1.2.dta</td>\n",
       "      <td>http://www.britishelectionstudy.com/custom/upl...</td>\n",
       "      <td>http://www.britishelectionstudy.com/custom/upl...</td>\n",
       "      <td>http://www.britishelectionstudy.com/custom/upl...</td>\n",
       "      <td>21489</td>\n",
       "      <td>Feb-14</td>\n",
       "      <td>Oct-14</td>\n",
       "      <td>The combined data set for the 2015 British Ele...</td>\n",
       "      <td>Fieldhouse, E., J. Green., G. Evans., H. Schmi...</td>\n",
       "      <td>2014: Autumn</td>\n",
       "    </tr>\n",
       "    <tr>\n",
       "      <th>34</th>\n",
       "      <td>W2_only</td>\n",
       "      <td>Wave 2 of the 2014-2018 British Election Study...</td>\n",
       "      <td>http://www.britishelectionstudy.com/data-objec...</td>\n",
       "      <td>2</td>\n",
       "      <td>Only</td>\n",
       "      <td>Base</td>\n",
       "      <td>Online Survey</td>\n",
       "      <td>6.9</td>\n",
       "      <td>BES2015_W2_v6.9.dta</td>\n",
       "      <td>https://www.britishelectionstudy.com/wp-conten...</td>\n",
       "      <td>https://www.britishelectionstudy.com/wp-conten...</td>\n",
       "      <td>https://www.britishelectionstudy.com/wp-conten...</td>\n",
       "      <td>30219</td>\n",
       "      <td>May-14</td>\n",
       "      <td>Jun-14</td>\n",
       "      <td>The second 2014 wave of the 2014-2018 British ...</td>\n",
       "      <td>Fieldhouse, E., J. Green., G. Evans., H. Schmi...</td>\n",
       "      <td>2014: Summer</td>\n",
       "    </tr>\n",
       "    <tr>\n",
       "      <th>35</th>\n",
       "      <td>W1_only</td>\n",
       "      <td>Wave 1 of the 2014-2018 British Election Study...</td>\n",
       "      <td>http://www.britishelectionstudy.com/data-objec...</td>\n",
       "      <td>1</td>\n",
       "      <td>Only</td>\n",
       "      <td>Base</td>\n",
       "      <td>Online Survey</td>\n",
       "      <td>8.0</td>\n",
       "      <td>BES2015_W1_v8.0.dta</td>\n",
       "      <td>https://www.britishelectionstudy.com/wp-conten...</td>\n",
       "      <td>https://www.britishelectionstudy.com/wp-conten...</td>\n",
       "      <td>http://www.britishelectionstudy.com/custom/upl...</td>\n",
       "      <td>30239</td>\n",
       "      <td>Feb-14</td>\n",
       "      <td>Mar-14</td>\n",
       "      <td>The first 2014 wave of the 2014-2018 British E...</td>\n",
       "      <td>Fieldhouse, E., J. Green., G. Evans., H. Schmi...</td>\n",
       "      <td>2014: Spring</td>\n",
       "    </tr>\n",
       "  </tbody>\n",
       "</table>\n",
       "</div>"
      ],
      "text/plain": [
       "                Name                                          BES_Title  \\\n",
       "0           W19_only  Wave 19 of the 2014-2023 British Election Stud...   \n",
       "1           W19_comb  British Election Study Combined Wave 1-19 Inte...   \n",
       "2   W19_comb_strings  British Election Study Combined Wave 1-19 Inte...   \n",
       "3           W18_only  Wave 18 of the 2014-2023 British Election Stud...   \n",
       "4           W17_only  Wave 17 of the 2014-2023 British Election Stud...   \n",
       "5           W16_only  Wave 16 of the 2014-2019 British Election Stud...   \n",
       "6           W16_comb  British Election Study Combined Wave 1-16 Inte...   \n",
       "7   W16_comb_strings  British Election Study Combined Wave 1-16 Inte...   \n",
       "8           W15_only  Wave 15 of the 2014-2019 British Election Stud...   \n",
       "9           W15_comb  British Election Study Combined Wave 1-15 Inte...   \n",
       "10          W14_only  Wave 14 of the 2014-2018 British Election Stud...   \n",
       "11          W14_comb  British Election Study Combined Wave 1-14 Inte...   \n",
       "12  W14_comb_strings  British Election Study Combined Wave 1-14 Inte...   \n",
       "13          W13_only  Wave 13 of the 2014-2018 British Election Stud...   \n",
       "14          W13_comb  British Election Study Combined Wave 1-13 Inte...   \n",
       "15  W13_comb_strings  British Election Study Combined Wave 1-13 Inte...   \n",
       "16          W12_only  Wave 12 of the 2014-2018 British Election Stud...   \n",
       "17          W11_only  Wave 11 of the 2014-2018 British Election Stud...   \n",
       "18          W10_comb  British Election Study Combined Wave 1-10 Inte...   \n",
       "19          W10_only  Wave 10 of the 2014-2018 British Election Stud...   \n",
       "20           W9_comb  British Election Study Combined Wave 1-9 Inter...   \n",
       "21           W9_only  Wave 9 of the 2014-2018 British Election Study...   \n",
       "22           W8_only  Wave 8 of the 2014-2018 British Election Study...   \n",
       "23           W8_comb  British Election Study Combined Wave 1, 2, 3, ...   \n",
       "24           W7_only  Wave 7 of the 2014-2018 British Election Study...   \n",
       "25           W7_comb  British Election Study Combined Wave 1, 2, 3, ...   \n",
       "26           W6_only  Post-Election Wave 6 of the 2014-2018 British ...   \n",
       "27           W6_comb  British Election Study Combined Wave 1, 2, 3, ...   \n",
       "28           W5_comb  British Election Study Combined Wave 1, 2, 3, ...   \n",
       "29           W5_only  Wave 5 of the 2014-2018 British Election Study...   \n",
       "30           W4_only  Updated Wave 4 of the 2014-2018 British Electi...   \n",
       "31           W4_comb  Updated British Election Study Combined Wave 1...   \n",
       "32           W3_only  Wave 3 of the 2014-2018 British Election Study...   \n",
       "33           W3_comb  2015 British Election Study Combined Wave 1, 2...   \n",
       "34           W2_only  Wave 2 of the 2014-2018 British Election Study...   \n",
       "35           W1_only  Wave 1 of the 2014-2018 British Election Study...   \n",
       "\n",
       "                                              BES_Url  Wave No  \\\n",
       "0   https://www.britishelectionstudy.com/data-obje...       19   \n",
       "1   https://www.britishelectionstudy.com/data-obje...       19   \n",
       "2   https://www.britishelectionstudy.com/data-obje...       19   \n",
       "3   https://www.britishelectionstudy.com/data-obje...       18   \n",
       "4   https://www.britishelectionstudy.com/data-obje...       17   \n",
       "5   https://www.britishelectionstudy.com/data-obje...       16   \n",
       "6   https://www.britishelectionstudy.com/data-obje...       16   \n",
       "7   https://www.britishelectionstudy.com/data-obje...       16   \n",
       "8   https://www.britishelectionstudy.com/data-obje...       15   \n",
       "9   https://www.britishelectionstudy.com/data-obje...       15   \n",
       "10  http://www.britishelectionstudy.com/data-objec...       14   \n",
       "11  http://www.britishelectionstudy.com/data-objec...       14   \n",
       "12  http://www.britishelectionstudy.com/data-objec...       14   \n",
       "13  http://www.britishelectionstudy.com/data-objec...       13   \n",
       "14  http://www.britishelectionstudy.com/data-objec...       13   \n",
       "15  http://www.britishelectionstudy.com/data-objec...       13   \n",
       "16  http://www.britishelectionstudy.com/data-objec...       12   \n",
       "17  http://www.britishelectionstudy.com/data-objec...       11   \n",
       "18  http://www.britishelectionstudy.com/data-objec...       10   \n",
       "19  http://www.britishelectionstudy.com/data-objec...       10   \n",
       "20  http://www.britishelectionstudy.com/data-objec...        9   \n",
       "21  http://www.britishelectionstudy.com/data-objec...        9   \n",
       "22  http://www.britishelectionstudy.com/data-objec...        8   \n",
       "23  http://www.britishelectionstudy.com/data-objec...        8   \n",
       "24  http://www.britishelectionstudy.com/data-objec...        7   \n",
       "25  http://www.britishelectionstudy.com/data-objec...        7   \n",
       "26  http://www.britishelectionstudy.com/data-objec...        6   \n",
       "27  http://www.britishelectionstudy.com/data-objec...        6   \n",
       "28  http://www.britishelectionstudy.com/data-objec...        5   \n",
       "29  http://www.britishelectionstudy.com/data-objec...        5   \n",
       "30  http://www.britishelectionstudy.com/data-objec...        4   \n",
       "31  http://www.britishelectionstudy.com/data-objec...        4   \n",
       "32  http://www.britishelectionstudy.com/data-objec...        3   \n",
       "33  http://www.britishelectionstudy.com/data-objec...        3   \n",
       "34  http://www.britishelectionstudy.com/data-objec...        2   \n",
       "35  http://www.britishelectionstudy.com/data-objec...        1   \n",
       "\n",
       "   Only_or_Combined Base_or_Strings           Mode  Version  \\\n",
       "0              Only            Base  Online Survey      0.1   \n",
       "1          Combined            Base  Online Survey      0.1   \n",
       "2          Combined         Strings  Online Survey      0.2   \n",
       "3              Only            Base  Online Survey      0.1   \n",
       "4              Only            Base  Online Survey      0.1   \n",
       "5              Only            Base  Online Survey      0.2   \n",
       "6          Combined            Base  Online Survey      0.3   \n",
       "7          Combined         Strings  Online Survey      0.2   \n",
       "8              Only            Base  Online Survey      0.4   \n",
       "9          Combined            Base  Online Survey      0.3   \n",
       "10             Only            Base  Online Survey      0.4   \n",
       "11         Combined            Base  Online Survey      0.3   \n",
       "12         Combined         Strings  Online Survey      0.3   \n",
       "13             Only            Base  Online Survey      1.6   \n",
       "14         Combined            Base  Online Survey      1.2   \n",
       "15         Combined         Strings  Online Survey      1.0   \n",
       "16             Only            Base  Online Survey      1.6   \n",
       "17             Only            Base  Online Survey      1.6   \n",
       "18         Combined            Base  Online Survey      0.3   \n",
       "19             Only            Base  Online Survey      0.9   \n",
       "20         Combined            Base  Online Survey      1.2   \n",
       "21             Only            Base  Online Survey      1.8   \n",
       "22             Only            Base  Online Survey      2.4   \n",
       "23         Combined            Base  Online Survey      1.4   \n",
       "24             Only            Base  Online Survey      2.3   \n",
       "25         Combined            Base  Online Survey      3.0   \n",
       "26             Only            Base  Online Survey      4.0   \n",
       "27         Combined            Base  Online Survey      1.2   \n",
       "28         Combined            Base  Online Survey      1.6   \n",
       "29             Only            Base  Online Survey      4.0   \n",
       "30             Only            Base  Online Survey      4.0   \n",
       "31         Combined            Base  Online Survey      2.1   \n",
       "32             Only            Base  Online Survey      5.0   \n",
       "33         Combined            Base  Online Survey      1.2   \n",
       "34             Only            Base  Online Survey      6.9   \n",
       "35             Only            Base  Online Survey      8.0   \n",
       "\n",
       "                 Stata_Filename  \\\n",
       "0          BES2019_W19_v0.1.dta   \n",
       "1    BES2019_W19_Panel_v0.1.dta   \n",
       "2   BES2019_W19Strings_v0.2.dta   \n",
       "3          BES2019_W18_v0.1.dta   \n",
       "4          BES2019_W17_v0.1.dta   \n",
       "5          BES2019_W16_v0.2.dta   \n",
       "6    BES2019_W16_Panel_v0.3.dta   \n",
       "7   BES2019_W16Strings_v0.2.dta   \n",
       "8          BES2019_W15_v0.4.dta   \n",
       "9    BES2019_W15_Panel_v0.3.dta   \n",
       "10         BES2017_W14_v0.4.dta   \n",
       "11   BES2017_W14_Panel_v0.3.dta   \n",
       "12  BES2017_W14Strings_v0.3.dta   \n",
       "13         BES2017_W13_v1.6.dta   \n",
       "14   BES2017_W13_Panel_v1.2.dta   \n",
       "15  BES2017_W13Strings_v1.0.dta   \n",
       "16         BES2015_W12_v1.6.dta   \n",
       "17         BES2015_W11_v1.6.dta   \n",
       "18   BES2015_W10_Panel_v0.3.dta   \n",
       "19         BES2015_W10_v0.9.dta   \n",
       "20    BES2015_W9_Panel_v1.2.dta   \n",
       "21          BES2015_W9_v1.8.dta   \n",
       "22          BES2015_W8_v2.4.dta   \n",
       "23    BES2015_W8_Panel_v1.4.dta   \n",
       "24          BES2015_W7_v2.3.dta   \n",
       "25    BES2015_W7_Panel_v3.0.dta   \n",
       "26          BES2015_W6_v4.0.dta   \n",
       "27    BES2015_W6_Panel_v1.2.dta   \n",
       "28    BES2015_W5_Panel_v1.6.dta   \n",
       "29          BES2015_W5_v4.0.dta   \n",
       "30          BES2015_W4_v4.0.dta   \n",
       "31    BES2015_W4_Panel_v2.1.dta   \n",
       "32          BES2015_W3_v5.0.dta   \n",
       "33    BES2015_W3_Panel_v1.2.dta   \n",
       "34          BES2015_W2_v6.9.dta   \n",
       "35          BES2015_W1_v8.0.dta   \n",
       "\n",
       "                                            Stata_Url  \\\n",
       "0   https://www.britishelectionstudy.com/wp-conten...   \n",
       "1   https://www.britishelectionstudy.com/wp-conten...   \n",
       "2   https://www.britishelectionstudy.com/wp-conten...   \n",
       "3   https://www.britishelectionstudy.com/wp-conten...   \n",
       "4   https://www.britishelectionstudy.com/wp-conten...   \n",
       "5   https://www.britishelectionstudy.com/wp-conten...   \n",
       "6   https://www.britishelectionstudy.com/wp-conten...   \n",
       "7   https://www.britishelectionstudy.com/wp-conten...   \n",
       "8   https://www.britishelectionstudy.com/wp-conten...   \n",
       "9   https://www.britishelectionstudy.com/wp-conten...   \n",
       "10  https://www.britishelectionstudy.com/wp-conten...   \n",
       "11  http://www.britishelectionstudy.com/wp-content...   \n",
       "12  http://www.britishelectionstudy.com/wp-content...   \n",
       "13  https://www.britishelectionstudy.com/wp-conten...   \n",
       "14  http://www.britishelectionstudy.com/wp-content...   \n",
       "15  http://www.britishelectionstudy.com/custom/upl...   \n",
       "16  https://www.britishelectionstudy.com/wp-conten...   \n",
       "17  https://www.britishelectionstudy.com/wp-conten...   \n",
       "18  http://www.britishelectionstudy.com/custom/upl...   \n",
       "19  https://www.britishelectionstudy.com/wp-conten...   \n",
       "20  http://www.britishelectionstudy.com/custom/upl...   \n",
       "21  https://www.britishelectionstudy.com/wp-conten...   \n",
       "22  https://www.britishelectionstudy.com/wp-conten...   \n",
       "23  http://www.britishelectionstudy.com/custom/upl...   \n",
       "24  https://www.britishelectionstudy.com/wp-conten...   \n",
       "25  http://www.britishelectionstudy.com/custom/upl...   \n",
       "26  https://www.britishelectionstudy.com/wp-conten...   \n",
       "27  http://www.britishelectionstudy.com/custom/upl...   \n",
       "28  http://www.britishelectionstudy.com/custom/upl...   \n",
       "29  https://www.britishelectionstudy.com/wp-conten...   \n",
       "30  https://www.britishelectionstudy.com/wp-conten...   \n",
       "31  http://www.britishelectionstudy.com/custom/upl...   \n",
       "32  https://www.britishelectionstudy.com/wp-conten...   \n",
       "33  http://www.britishelectionstudy.com/custom/upl...   \n",
       "34  https://www.britishelectionstudy.com/wp-conten...   \n",
       "35  https://www.britishelectionstudy.com/wp-conten...   \n",
       "\n",
       "                                             SPSS_Url  \\\n",
       "0   https://www.britishelectionstudy.com/wp-conten...   \n",
       "1   https://www.britishelectionstudy.com/wp-conten...   \n",
       "2   https://www.britishelectionstudy.com/wp-conten...   \n",
       "3   https://www.britishelectionstudy.com/wp-conten...   \n",
       "4   https://www.britishelectionstudy.com/wp-conten...   \n",
       "5   https://www.britishelectionstudy.com/wp-conten...   \n",
       "6   https://www.britishelectionstudy.com/wp-conten...   \n",
       "7   https://www.britishelectionstudy.com/wp-conten...   \n",
       "8   https://www.britishelectionstudy.com/wp-conten...   \n",
       "9   https://www.britishelectionstudy.com/wp-conten...   \n",
       "10  https://www.britishelectionstudy.com/wp-conten...   \n",
       "11  http://www.britishelectionstudy.com/wp-content...   \n",
       "12  http://www.britishelectionstudy.com/wp-content...   \n",
       "13  https://www.britishelectionstudy.com/wp-conten...   \n",
       "14  http://www.britishelectionstudy.com/custom/upl...   \n",
       "15  http://www.britishelectionstudy.com/custom/upl...   \n",
       "16  https://www.britishelectionstudy.com/wp-conten...   \n",
       "17  https://www.britishelectionstudy.com/wp-conten...   \n",
       "18  http://www.britishelectionstudy.com/custom/upl...   \n",
       "19  https://www.britishelectionstudy.com/wp-conten...   \n",
       "20  http://www.britishelectionstudy.com/custom/upl...   \n",
       "21  https://www.britishelectionstudy.com/wp-conten...   \n",
       "22  https://www.britishelectionstudy.com/wp-conten...   \n",
       "23  http://www.britishelectionstudy.com/custom/upl...   \n",
       "24  https://www.britishelectionstudy.com/wp-conten...   \n",
       "25  http://www.britishelectionstudy.com/custom/upl...   \n",
       "26  https://www.britishelectionstudy.com/wp-conten...   \n",
       "27  http://www.britishelectionstudy.com/custom/upl...   \n",
       "28  http://www.britishelectionstudy.com/custom/upl...   \n",
       "29  https://www.britishelectionstudy.com/wp-conten...   \n",
       "30  https://www.britishelectionstudy.com/wp-conten...   \n",
       "31  http://www.britishelectionstudy.com/custom/upl...   \n",
       "32  https://www.britishelectionstudy.com/wp-conten...   \n",
       "33  http://www.britishelectionstudy.com/custom/upl...   \n",
       "34  https://www.britishelectionstudy.com/wp-conten...   \n",
       "35  https://www.britishelectionstudy.com/wp-conten...   \n",
       "\n",
       "                                             Ques_Url      N Date_Start  \\\n",
       "0   https://www.britishelectionstudy.com/wp-conten...  32177     Dec-19   \n",
       "1   British Election Study Combined Wave 1-19 Inte...  97158     Feb-14   \n",
       "2   https://www.britishelectionstudy.com/wp-conten...  97158     Feb-14   \n",
       "3   https://www.britishelectionstudy.com/wp-conten...  37825     Nov-19   \n",
       "4   https://www.britishelectionstudy.com/wp-conten...  34366     Nov-19   \n",
       "5   https://www.britishelectionstudy.com/wp-conten...  37959     May-19   \n",
       "6   https://www.britishelectionstudy.com/wp-conten...  92587     Feb-14   \n",
       "7   https://www.britishelectionstudy.com/wp-conten...  92587     Feb-14   \n",
       "8   https://www.britishelectionstudy.com/wp-conten...  30842     Mar-19   \n",
       "9   https://www.britishelectionstudy.com/wp-conten...   3206     Feb-14   \n",
       "10  http://www.britishelectionstudy.com/wp-content...  31063     May-18   \n",
       "11  http://www.britishelectionstudy.com/wp-content...   4191     Feb-14   \n",
       "12  http://www.britishelectionstudy.com/wp-content...   4191     Feb-14   \n",
       "13  https://www.britishelectionstudy.com/wp-conten...  31196     Jun-17   \n",
       "14  http://www.britishelectionstudy.com/custom/upl...   5300     Feb-14   \n",
       "15  http://www.britishelectionstudy.com/custom/upl...   5300     Feb-14   \n",
       "16  https://www.britishelectionstudy.com/wp-conten...  34464     May-17   \n",
       "17  https://www.britishelectionstudy.com/wp-conten...  31014     Apr-17   \n",
       "18  http://www.britishelectionstudy.com/custom/upl...   7351     Feb-14   \n",
       "19  https://www.britishelectionstudy.com/wp-conten...  30319     Nov-16   \n",
       "20  http://www.britishelectionstudy.com/custom/upl...  10170     Feb-14   \n",
       "21  https://www.britishelectionstudy.com/wp-conten...  30036     Jun-16   \n",
       "22  https://www.britishelectionstudy.com/wp-conten...  31409     May-16   \n",
       "23  http://www.britishelectionstudy.com/custom/upl...  10678     Feb-14   \n",
       "24  https://www.britishelectionstudy.com/wp-conten...  30895     Apr-16   \n",
       "25  http://www.britishelectionstudy.com/custom/upl...  13313     Feb-14   \n",
       "26  https://www.britishelectionstudy.com/wp-conten...  30027     May-15   \n",
       "27  http://www.britishelectionstudy.com/custom/upl...  16799     Feb-14   \n",
       "28  http://www.britishelectionstudy.com/custom/upl...  17673     Feb-14   \n",
       "29  https://www.britishelectionstudy.com/wp-conten...  30725     Mar-15   \n",
       "30  https://www.britishelectionstudy.com/wp-conten...  31323     Mar-15   \n",
       "31  http://www.britishelectionstudy.com/custom/upl...  19003     Feb-14   \n",
       "32  https://www.britishelectionstudy.com/wp-conten...  27839     Sep-14   \n",
       "33  http://www.britishelectionstudy.com/custom/upl...  21489     Feb-14   \n",
       "34  https://www.britishelectionstudy.com/wp-conten...  30219     May-14   \n",
       "35  http://www.britishelectionstudy.com/custom/upl...  30239     Feb-14   \n",
       "\n",
       "   Date_Stop                                        Description  \\\n",
       "0     Dec-19  December 2019 (post-2019 election) wave of the...   \n",
       "1     Dec-19  A panel dataset including waves 1-19 of the BE...   \n",
       "2     Dec-19  A dataset containing the data from open ended ...   \n",
       "3     Dec-19  November-December 2019 (2019 campaign) wave of...   \n",
       "4     Nov-19  November 2019 (pre-2019 election) wave of the ...   \n",
       "5     Jun-19  May-June 2019 wave of the 2014-2019 British El...   \n",
       "6     Jun-19  A panel dataset including waves 1, 2, 3, 4, 5,...   \n",
       "7     Jun-19  A dataset containing the data from open ended ...   \n",
       "8     Mar-19  March 2019 wave of the 2014-2019 British Elect...   \n",
       "9     Mar-19  A panel dataset including waves 1, 2, 3, 4, 5,...   \n",
       "10    May-18  May 2018 wave of the 2014-2018 British Electio...   \n",
       "11    May-18  A panel dataset including waves 1, 2, 3, 4, 5,...   \n",
       "12    May-18  A dataset containing the data from open ended ...   \n",
       "13    Jul-17  2017 post-election wave of the 2014-2018 Briti...   \n",
       "14    Jul-17  A panel dataset including waves 1, 2, 3, 4, 5,...   \n",
       "15    Jul-17  A dataset containing the data from open ended ...   \n",
       "16    Jun-17  2017 campaign wave of the 2014-2018 British El...   \n",
       "17    May-17  2017 election pre-campaign wave of the 2014-20...   \n",
       "18    Dec-16  A panel dataset including waves 1, 2, 3, 4, 5,...   \n",
       "19    Dec-16  2016 Autumn wave of the 2014-2018 British Elec...   \n",
       "20    Jul-16  A panel dataset including waves 1, 2, 3, 4, 5,...   \n",
       "21    Jul-16  2016 post-referendum wave of the 2014-2018 Bri...   \n",
       "22    Jun-16  The 2016 EU Referendum campaign wave of the 20...   \n",
       "23    Jun-16  A panel dataset including waves 1, 2, 3, 4, 5,...   \n",
       "24    May-16  Updated release version of the 2016 pre-local ...   \n",
       "25    May-16  A panel dataset including waves 1, 2, 3, 4, 5,...   \n",
       "26    May-15  The 2015 post-election wave of the 2014-2018 B...   \n",
       "27    May-15  A panel dataset including waves 1, 2, 3, 4, 5 ...   \n",
       "28    May-15  A panel dataset including waves 1, 2, 3, 4 and...   \n",
       "29    May-15  Updated release version of the 2015 campaign w...   \n",
       "30    Mar-15  An updated full sample version of the March 20...   \n",
       "31    Mar-15  An updated panel dataset including the full sa...   \n",
       "32    Oct-14  The third 2014 wave of the 2014-2018 British E...   \n",
       "33    Oct-14  The combined data set for the 2015 British Ele...   \n",
       "34    Jun-14  The second 2014 wave of the 2014-2018 British ...   \n",
       "35    Mar-14  The first 2014 wave of the 2014-2018 British E...   \n",
       "\n",
       "                                             Citation  \\\n",
       "0   Fieldhouse, E., J. Green, G. Evans, J. Mellon ...   \n",
       "1   Fieldhouse, E., J. Green, G. Evans, J. Mellon ...   \n",
       "2   Fieldhouse, E., J. Green, G. Evans, J. Mellon ...   \n",
       "3   Fieldhouse, E., J. Green, G. Evans, J. Mellon ...   \n",
       "4   Fieldhouse, E., J. Green, G. Evans, J. Mellon ...   \n",
       "5   Fieldhouse, E., J. Green, G. Evans, J. Mellon ...   \n",
       "6   Fieldhouse, E., J. Green, G. Evans, J. Mellon ...   \n",
       "7   Fieldhouse, E., J. Green, G. Evans, J. Mellon ...   \n",
       "8   Fieldhouse, E., J. Green., G. Evans., H. Schmi...   \n",
       "9   Fieldhouse, E., J. Green., G. Evans., H. Schmi...   \n",
       "10  Fieldhouse, E., J. Green., G. Evans., H. Schmi...   \n",
       "11  Fieldhouse, E., J. Green., G. Evans., H. Schmi...   \n",
       "12  Fieldhouse, E., J. Green., G. Evans., H. Schmi...   \n",
       "13  Fieldhouse, E., J. Green., G. Evans., H. Schmi...   \n",
       "14  Fieldhouse, E., J. Green., G. Evans., H. Schmi...   \n",
       "15  Fieldhouse, E., J. Green., G. Evans., H. Schmi...   \n",
       "16  Fieldhouse, E., J. Green., G. Evans., H. Schmi...   \n",
       "17  Fieldhouse, E., J. Green., G. Evans., H. Schmi...   \n",
       "18  Fieldhouse, E., J. Green., G. Evans., H. Schmi...   \n",
       "19  Fieldhouse, E., J. Green., G. Evans., H. Schmi...   \n",
       "20  Fieldhouse, E., J. Green., G. Evans., H. Schmi...   \n",
       "21  Fieldhouse, E., J. Green., G. Evans., H. Schmi...   \n",
       "22  Evans, G., E. Fieldhouse., J. Green., H. Schmi...   \n",
       "23  Fieldhouse, E., J. Green., G. Evans., H. Schmi...   \n",
       "24  Fieldhouse, E., J. Green., G. Evans., H. Schmi...   \n",
       "25  Fieldhouse, E., J. Green., G. Evans., H. Schmi...   \n",
       "26  Fieldhouse, E., J. Green., G. Evans., H. Schmi...   \n",
       "27  Fieldhouse, E., J. Green., G. Evans., H. Schmi...   \n",
       "28  Fieldhouse, E., J. Green., G. Evans., H. Schmi...   \n",
       "29  Fieldhouse, E., J. Green., G. Evans., H. Schmi...   \n",
       "30  Fieldhouse, E., J. Green., G. Evans., H. Schmi...   \n",
       "31  Fieldhouse, E., J. Green., G. Evans., H. Schmi...   \n",
       "32  Fieldhouse, E., J. Green., G. Evans., H. Schmi...   \n",
       "33  Fieldhouse, E., J. Green., G. Evans., H. Schmi...   \n",
       "34  Fieldhouse, E., J. Green., G. Evans., H. Schmi...   \n",
       "35  Fieldhouse, E., J. Green., G. Evans., H. Schmi...   \n",
       "\n",
       "          Friendlier_Description  \n",
       "0         2019 GE: Post-Election  \n",
       "1         2019 GE: Post-Election  \n",
       "2         2019 GE: Post-Election  \n",
       "3              2019 GE: Campaign  \n",
       "4          2019 GE: Pre-Campaign  \n",
       "5     2019 : Post Euro Elections  \n",
       "6     2019 : Post Euro Elections  \n",
       "7     2019 : Post Euro Elections  \n",
       "8                   2019: Spring  \n",
       "9                   2019: Spring  \n",
       "10                  2018: Summer  \n",
       "11                  2018: Summer  \n",
       "12                  2018: Summer  \n",
       "13        2017 GE: Post-Election  \n",
       "14        2017 GE: Post-Election  \n",
       "15        2017 GE: Post-Election  \n",
       "16             2017 GE: Campaign  \n",
       "17         2017 GE: Pre-Campaign  \n",
       "18                  2016: Autumn  \n",
       "19                  2016: Autumn  \n",
       "20  2016 EU Ref: Post-Referendum  \n",
       "21  2016 EU Ref: Post-Referendum  \n",
       "22         2016 EU Ref: Campaign  \n",
       "23         2016 EU Ref: Campaign  \n",
       "24     2016: Pre Local Elections  \n",
       "25     2016: Pre Local Elections  \n",
       "26        2015 GE: Post-Election  \n",
       "27        2015 GE: Post-Election  \n",
       "28             2015 GE: Campaign  \n",
       "29             2015 GE: Campaign  \n",
       "30         2015 GE: Pre-Campaign  \n",
       "31         2015 GE: Pre-Campaign  \n",
       "32                  2014: Autumn  \n",
       "33                  2014: Autumn  \n",
       "34                  2014: Summer  \n",
       "35                  2014: Spring  "
      ]
     },
     "execution_count": 433,
     "metadata": {},
     "output_type": "execute_result"
    }
   ],
   "source": [
    "BES_file_manifest"
   ]
  },
  {
   "cell_type": "code",
   "execution_count": null,
   "metadata": {},
   "outputs": [],
   "source": []
  },
  {
   "cell_type": "code",
   "execution_count": null,
   "metadata": {},
   "outputs": [],
   "source": []
  },
  {
   "cell_type": "code",
   "execution_count": null,
   "metadata": {},
   "outputs": [],
   "source": []
  },
  {
   "cell_type": "code",
   "execution_count": null,
   "metadata": {},
   "outputs": [],
   "source": []
  },
  {
   "cell_type": "code",
   "execution_count": null,
   "metadata": {},
   "outputs": [],
   "source": []
  },
  {
   "cell_type": "code",
   "execution_count": null,
   "metadata": {},
   "outputs": [],
   "source": []
  },
  {
   "cell_type": "code",
   "execution_count": null,
   "metadata": {},
   "outputs": [],
   "source": []
  },
  {
   "cell_type": "code",
   "execution_count": null,
   "metadata": {},
   "outputs": [],
   "source": []
  },
  {
   "cell_type": "code",
   "execution_count": null,
   "metadata": {},
   "outputs": [],
   "source": []
  },
  {
   "cell_type": "code",
   "execution_count": 426,
   "metadata": {},
   "outputs": [],
   "source": [
    "# ALERT ALERT AWOOOGA - Heinz Brandenburg\n",
    "# https://twitter.com/HzBrandenburg/status/1258414163833094154\n",
    "\n",
    "# (1) check this for specific wave7+/wave6+ respondent split\n",
    "# (2) think about comparing datasets with datasets on matching variables!\n",
    "\n",
    "## FIXED IN BIG BES UPDATE!"
   ]
  },
  {
   "cell_type": "code",
   "execution_count": 278,
   "metadata": {},
   "outputs": [
    {
     "data": {
      "text/plain": [
       "1.1854893908281998"
      ]
     },
     "execution_count": 278,
     "metadata": {},
     "output_type": "execute_result"
    }
   ],
   "source": [
    "td = (pd.to_datetime(\"7 May 2015\") - pd.to_datetime(\"28 Feb 2014\") )\n",
    "td.days/365.25"
   ]
  },
  {
   "cell_type": "code",
   "execution_count": 15,
   "metadata": {},
   "outputs": [
    {
     "data": {
      "text/plain": [
       "ukCitizenW1     30575\n",
       "ukCitizenW8      6338\n",
       "ukCitizenW14    31063\n",
       "ukCitizenW15    30842\n",
       "ukCitizenW16    37959\n",
       "ukCitizenW17     3564\n",
       "dtype: int64"
      ]
     },
     "execution_count": 15,
     "metadata": {},
     "output_type": "execute_result"
    }
   ],
   "source": [
    "search(BES_Panel,\"ukCitizen\")\n",
    "# ukCitizen, euCitizen, commonwealthCitizen, otherCitizen\n",
    "\n",
    "# ... misses \"Irish\" citizens who have access"
   ]
  },
  {
   "cell_type": "code",
   "execution_count": 32,
   "metadata": {},
   "outputs": [],
   "source": [
    "commonwealthCitizen = BES_Panel[search(BES_Panel,\"commonwealthCitizen\").index].fillna(method='ffill',axis=1)[search(BES_Panel,\"commonwealthCitizen\").index[-1]]"
   ]
  },
  {
   "cell_type": "code",
   "execution_count": 16,
   "metadata": {},
   "outputs": [],
   "source": [
    "ukCitizen = BES_Panel[search(BES_Panel,\"ukCitizen\").index].fillna(method='ffill',axis=1)[search(BES_Panel,\"ukCitizen\").index[-1]]"
   ]
  },
  {
   "cell_type": "code",
   "execution_count": 31,
   "metadata": {},
   "outputs": [
    {
     "data": {
      "text/plain": [
       "(77413, 79532)"
      ]
     },
     "execution_count": 31,
     "metadata": {},
     "output_type": "execute_result"
    }
   ],
   "source": [
    "(ukCitizen==\"Yes\").sum(),ukCitizen.notnull().sum()"
   ]
  },
  {
   "cell_type": "code",
   "execution_count": 33,
   "metadata": {},
   "outputs": [
    {
     "data": {
      "text/plain": [
       "(2776, 79532)"
      ]
     },
     "execution_count": 33,
     "metadata": {},
     "output_type": "execute_result"
    }
   ],
   "source": [
    "(commonwealthCitizen==\"Yes\").sum(),commonwealthCitizen.notnull().sum()"
   ]
  },
  {
   "cell_type": "code",
   "execution_count": 35,
   "metadata": {},
   "outputs": [
    {
     "data": {
      "text/plain": [
       "77836"
      ]
     },
     "execution_count": 35,
     "metadata": {},
     "output_type": "execute_result"
    }
   ],
   "source": [
    "((ukCitizen==\"Yes\")|(commonwealthCitizen==\"Yes\")).sum()"
   ]
  },
  {
   "cell_type": "code",
   "execution_count": 36,
   "metadata": {},
   "outputs": [
    {
     "data": {
      "text/plain": [
       "1696"
      ]
     },
     "execution_count": 36,
     "metadata": {},
     "output_type": "execute_result"
    }
   ],
   "source": [
    "79532-77836"
   ]
  },
  {
   "cell_type": "code",
   "execution_count": null,
   "metadata": {},
   "outputs": [],
   "source": [
    "ukCitizen = BES_Panel[search(BES_Panel,\"registeredW\\d+\").index].fillna(method='ffill',axis=1)[search(BES_Panel,\"registeredW\\d+\").index[-1]]"
   ]
  },
  {
   "cell_type": "code",
   "execution_count": 25,
   "metadata": {},
   "outputs": [
    {
     "data": {
      "text/plain": [
       "registeredW2     25814\n",
       "registeredW3     27819\n",
       "registeredW4     31532\n",
       "registeredW6     30258\n",
       "registeredW7     30895\n",
       "registeredW8     33502\n",
       "registeredW11    30956\n",
       "registeredW13    31136\n",
       "registeredW17    34366\n",
       "registeredW19    32177\n",
       "dtype: int64"
      ]
     },
     "execution_count": 25,
     "metadata": {},
     "output_type": "execute_result"
    }
   ],
   "source": [
    "search(BES_Panel,\"registeredW\\d+\")"
   ]
  },
  {
   "cell_type": "code",
   "execution_count": 37,
   "metadata": {},
   "outputs": [
    {
     "data": {
      "text/plain": [
       "registeredW2     581\n",
       "registeredW3     684\n",
       "registeredW4     644\n",
       "registeredW6     323\n",
       "registeredW7     503\n",
       "registeredW8     416\n",
       "registeredW11    473\n",
       "registeredW13    279\n",
       "registeredW17    588\n",
       "registeredW19    259\n",
       "dtype: int64"
      ]
     },
     "execution_count": 37,
     "metadata": {},
     "output_type": "execute_result"
    }
   ],
   "source": [
    "(BES_Panel[search(BES_Panel,\"registeredW\\d+\").index]==\"Don't know\").sum()"
   ]
  },
  {
   "cell_type": "code",
   "execution_count": 28,
   "metadata": {},
   "outputs": [
    {
     "data": {
      "text/plain": [
       "registeredW2     396\n",
       "registeredW3     360\n",
       "registeredW4     406\n",
       "registeredW6     333\n",
       "registeredW7     249\n",
       "registeredW8     278\n",
       "registeredW11    326\n",
       "registeredW13    219\n",
       "registeredW17    260\n",
       "registeredW19    182\n",
       "dtype: int64"
      ]
     },
     "execution_count": 28,
     "metadata": {},
     "output_type": "execute_result"
    }
   ],
   "source": [
    "(BES_Panel[search(BES_Panel,\"registeredW\\d+\").index]==\"No\").sum()"
   ]
  },
  {
   "cell_type": "code",
   "execution_count": 23,
   "metadata": {},
   "outputs": [
    {
     "data": {
      "text/plain": [
       "reasonNotRegistered_1W2        46\n",
       "reasonNotRegistered_2W2        32\n",
       "reasonNotRegistered_3W2        25\n",
       "reasonNotRegistered_4W2        48\n",
       "reasonNotRegistered_5W2        30\n",
       "reasonNotRegistered_6W2        40\n",
       "reasonNotRegistered_7W2       109\n",
       "reasonNotRegistered_8W2        26\n",
       "reasonNotRegistered_noneW2      0\n",
       "reasonNotRegistered_dkW2       32\n",
       "reasonNotRegistered_1W3        51\n",
       "reasonNotRegistered_2W3         9\n",
       "reasonNotRegistered_3W3        29\n",
       "reasonNotRegistered_4W3        43\n",
       "reasonNotRegistered_5W3        39\n",
       "reasonNotRegistered_6W3        24\n",
       "reasonNotRegistered_7W3       116\n",
       "reasonNotRegistered_8W3        22\n",
       "reasonNotRegistered_noneW3      0\n",
       "reasonNotRegistered_dkW3       26\n",
       "reasonNotRegistered_1W4       119\n",
       "reasonNotRegistered_2W4        12\n",
       "reasonNotRegistered_3W4        26\n",
       "reasonNotRegistered_4W4        47\n",
       "reasonNotRegistered_5W4        48\n",
       "reasonNotRegistered_6W4        29\n",
       "reasonNotRegistered_7W4        77\n",
       "reasonNotRegistered_8W4        31\n",
       "reasonNotRegistered_noneW4      0\n",
       "reasonNotRegistered_dkW4       13\n",
       "reasonNotRegistered_1W6       124\n",
       "reasonNotRegistered_2W6        16\n",
       "reasonNotRegistered_3W6        10\n",
       "reasonNotRegistered_4W6        48\n",
       "reasonNotRegistered_5W6        33\n",
       "reasonNotRegistered_6W6        23\n",
       "reasonNotRegistered_7W6        32\n",
       "reasonNotRegistered_8W6        20\n",
       "reasonNotRegistered_noneW6      0\n",
       "reasonNotRegistered_dkW6       17\n",
       "reasonNotRegistered_1W7        39\n",
       "reasonNotRegistered_2W7         4\n",
       "reasonNotRegistered_3W7        10\n",
       "reasonNotRegistered_4W7        50\n",
       "reasonNotRegistered_5W7        25\n",
       "reasonNotRegistered_6W7        11\n",
       "reasonNotRegistered_7W7        32\n",
       "reasonNotRegistered_8W7        24\n",
       "reasonNotRegistered_noneW7      0\n",
       "reasonNotRegistered_dkW7       29\n",
       "reasonNotRegistered_1W8        62\n",
       "reasonNotRegistered_2W8         8\n",
       "reasonNotRegistered_3W8        15\n",
       "reasonNotRegistered_4W8        46\n",
       "reasonNotRegistered_5W8        36\n",
       "reasonNotRegistered_6W8        18\n",
       "reasonNotRegistered_7W8        39\n",
       "reasonNotRegistered_8W8        25\n",
       "reasonNotRegistered_noneW8      0\n",
       "reasonNotRegistered_dkW8       28\n",
       "dtype: int64"
      ]
     },
     "execution_count": 23,
     "metadata": {},
     "output_type": "execute_result"
    }
   ],
   "source": [
    "(BES_Panel[search(BES_Panel,\"reasonNotRegistered\").index]==\"Yes\").sum()"
   ]
  },
  {
   "cell_type": "code",
   "execution_count": 44,
   "metadata": {},
   "outputs": [
    {
     "data": {
      "text/html": [
       "<div>\n",
       "<style scoped>\n",
       "    .dataframe tbody tr th:only-of-type {\n",
       "        vertical-align: middle;\n",
       "    }\n",
       "\n",
       "    .dataframe tbody tr th {\n",
       "        vertical-align: top;\n",
       "    }\n",
       "\n",
       "    .dataframe thead th {\n",
       "        text-align: right;\n",
       "    }\n",
       "</style>\n",
       "<table border=\"1\" class=\"dataframe\">\n",
       "  <thead>\n",
       "    <tr style=\"text-align: right;\">\n",
       "      <th></th>\n",
       "      <th>turnoutUKGeneralW1__Very likely that I will vote</th>\n",
       "      <th>turnoutUKGeneralW2__Very likely that I will vote</th>\n",
       "      <th>turnoutUKGeneralW3__Very likely that I will vote</th>\n",
       "      <th>turnoutUKGeneralW4__Very likely that I will vote</th>\n",
       "      <th>turnoutUKGeneralW5__Very likely that I will vote</th>\n",
       "      <th>turnoutUKGeneralW7__Very likely that I will vote</th>\n",
       "      <th>turnoutUKGeneralW8__Very likely that I will vote</th>\n",
       "      <th>turnoutUKGeneralW9__Very likely that I will vote</th>\n",
       "      <th>turnoutUKGeneralW10__Very likely that I will vote</th>\n",
       "      <th>turnoutUKGeneralW11__Very likely that I will vote</th>\n",
       "      <th>...</th>\n",
       "      <th>conPriorities2_schoolW4_Yes</th>\n",
       "      <th>conPriorities2_nhsW4_Yes</th>\n",
       "      <th>conPriorities2_costLiveW4_Yes</th>\n",
       "      <th>devoResponsibleWalesJusticeW2_The UK Parliament</th>\n",
       "      <th>conPriorities2_immigW4_Yes</th>\n",
       "      <th>conPriorities2_crimeW4_Yes</th>\n",
       "      <th>sharedContentOnline_1W5_Yes</th>\n",
       "      <th>partySiteOthW5_Yes</th>\n",
       "      <th>euCitizenW1_Yes</th>\n",
       "      <th>conPriorities2_natsecW4_Yes</th>\n",
       "    </tr>\n",
       "  </thead>\n",
       "  <tbody>\n",
       "    <tr>\n",
       "      <th>1607</th>\n",
       "      <td>NaN</td>\n",
       "      <td>NaN</td>\n",
       "      <td>0.0</td>\n",
       "      <td>0.0</td>\n",
       "      <td>0.0</td>\n",
       "      <td>0.0</td>\n",
       "      <td>0.0</td>\n",
       "      <td>0.0</td>\n",
       "      <td>0.0</td>\n",
       "      <td>NaN</td>\n",
       "      <td>...</td>\n",
       "      <td>NaN</td>\n",
       "      <td>NaN</td>\n",
       "      <td>NaN</td>\n",
       "      <td>NaN</td>\n",
       "      <td>NaN</td>\n",
       "      <td>NaN</td>\n",
       "      <td>NaN</td>\n",
       "      <td>NaN</td>\n",
       "      <td>NaN</td>\n",
       "      <td>NaN</td>\n",
       "    </tr>\n",
       "    <tr>\n",
       "      <th>1644</th>\n",
       "      <td>0.0</td>\n",
       "      <td>0.0</td>\n",
       "      <td>0.0</td>\n",
       "      <td>0.0</td>\n",
       "      <td>0.0</td>\n",
       "      <td>NaN</td>\n",
       "      <td>0.0</td>\n",
       "      <td>0.0</td>\n",
       "      <td>0.0</td>\n",
       "      <td>0.0</td>\n",
       "      <td>...</td>\n",
       "      <td>NaN</td>\n",
       "      <td>NaN</td>\n",
       "      <td>NaN</td>\n",
       "      <td>NaN</td>\n",
       "      <td>NaN</td>\n",
       "      <td>NaN</td>\n",
       "      <td>NaN</td>\n",
       "      <td>NaN</td>\n",
       "      <td>0.0</td>\n",
       "      <td>0.0</td>\n",
       "    </tr>\n",
       "    <tr>\n",
       "      <th>1709</th>\n",
       "      <td>NaN</td>\n",
       "      <td>NaN</td>\n",
       "      <td>NaN</td>\n",
       "      <td>3.0</td>\n",
       "      <td>3.0</td>\n",
       "      <td>2.0</td>\n",
       "      <td>4.0</td>\n",
       "      <td>NaN</td>\n",
       "      <td>NaN</td>\n",
       "      <td>3.0</td>\n",
       "      <td>...</td>\n",
       "      <td>NaN</td>\n",
       "      <td>NaN</td>\n",
       "      <td>NaN</td>\n",
       "      <td>NaN</td>\n",
       "      <td>NaN</td>\n",
       "      <td>NaN</td>\n",
       "      <td>0.0</td>\n",
       "      <td>NaN</td>\n",
       "      <td>NaN</td>\n",
       "      <td>NaN</td>\n",
       "    </tr>\n",
       "    <tr>\n",
       "      <th>2063</th>\n",
       "      <td>0.0</td>\n",
       "      <td>0.0</td>\n",
       "      <td>NaN</td>\n",
       "      <td>0.0</td>\n",
       "      <td>0.0</td>\n",
       "      <td>0.0</td>\n",
       "      <td>0.0</td>\n",
       "      <td>0.0</td>\n",
       "      <td>NaN</td>\n",
       "      <td>NaN</td>\n",
       "      <td>...</td>\n",
       "      <td>NaN</td>\n",
       "      <td>NaN</td>\n",
       "      <td>NaN</td>\n",
       "      <td>NaN</td>\n",
       "      <td>NaN</td>\n",
       "      <td>NaN</td>\n",
       "      <td>1.0</td>\n",
       "      <td>1.0</td>\n",
       "      <td>0.0</td>\n",
       "      <td>NaN</td>\n",
       "    </tr>\n",
       "    <tr>\n",
       "      <th>2072</th>\n",
       "      <td>4.0</td>\n",
       "      <td>4.0</td>\n",
       "      <td>4.0</td>\n",
       "      <td>4.0</td>\n",
       "      <td>4.0</td>\n",
       "      <td>4.0</td>\n",
       "      <td>4.0</td>\n",
       "      <td>4.0</td>\n",
       "      <td>4.0</td>\n",
       "      <td>4.0</td>\n",
       "      <td>...</td>\n",
       "      <td>NaN</td>\n",
       "      <td>NaN</td>\n",
       "      <td>NaN</td>\n",
       "      <td>NaN</td>\n",
       "      <td>NaN</td>\n",
       "      <td>NaN</td>\n",
       "      <td>1.0</td>\n",
       "      <td>0.0</td>\n",
       "      <td>0.0</td>\n",
       "      <td>NaN</td>\n",
       "    </tr>\n",
       "    <tr>\n",
       "      <th>...</th>\n",
       "      <td>...</td>\n",
       "      <td>...</td>\n",
       "      <td>...</td>\n",
       "      <td>...</td>\n",
       "      <td>...</td>\n",
       "      <td>...</td>\n",
       "      <td>...</td>\n",
       "      <td>...</td>\n",
       "      <td>...</td>\n",
       "      <td>...</td>\n",
       "      <td>...</td>\n",
       "      <td>...</td>\n",
       "      <td>...</td>\n",
       "      <td>...</td>\n",
       "      <td>...</td>\n",
       "      <td>...</td>\n",
       "      <td>...</td>\n",
       "      <td>...</td>\n",
       "      <td>...</td>\n",
       "      <td>...</td>\n",
       "      <td>...</td>\n",
       "    </tr>\n",
       "    <tr>\n",
       "      <th>96062</th>\n",
       "      <td>NaN</td>\n",
       "      <td>NaN</td>\n",
       "      <td>4.0</td>\n",
       "      <td>4.0</td>\n",
       "      <td>0.0</td>\n",
       "      <td>NaN</td>\n",
       "      <td>NaN</td>\n",
       "      <td>NaN</td>\n",
       "      <td>NaN</td>\n",
       "      <td>NaN</td>\n",
       "      <td>...</td>\n",
       "      <td>NaN</td>\n",
       "      <td>NaN</td>\n",
       "      <td>NaN</td>\n",
       "      <td>NaN</td>\n",
       "      <td>NaN</td>\n",
       "      <td>NaN</td>\n",
       "      <td>1.0</td>\n",
       "      <td>0.0</td>\n",
       "      <td>NaN</td>\n",
       "      <td>NaN</td>\n",
       "    </tr>\n",
       "    <tr>\n",
       "      <th>96098</th>\n",
       "      <td>NaN</td>\n",
       "      <td>NaN</td>\n",
       "      <td>4.0</td>\n",
       "      <td>3.0</td>\n",
       "      <td>3.0</td>\n",
       "      <td>3.0</td>\n",
       "      <td>3.0</td>\n",
       "      <td>4.0</td>\n",
       "      <td>4.0</td>\n",
       "      <td>4.0</td>\n",
       "      <td>...</td>\n",
       "      <td>NaN</td>\n",
       "      <td>NaN</td>\n",
       "      <td>NaN</td>\n",
       "      <td>NaN</td>\n",
       "      <td>NaN</td>\n",
       "      <td>NaN</td>\n",
       "      <td>0.0</td>\n",
       "      <td>NaN</td>\n",
       "      <td>NaN</td>\n",
       "      <td>NaN</td>\n",
       "    </tr>\n",
       "    <tr>\n",
       "      <th>96186</th>\n",
       "      <td>NaN</td>\n",
       "      <td>NaN</td>\n",
       "      <td>NaN</td>\n",
       "      <td>4.0</td>\n",
       "      <td>0.0</td>\n",
       "      <td>NaN</td>\n",
       "      <td>NaN</td>\n",
       "      <td>NaN</td>\n",
       "      <td>NaN</td>\n",
       "      <td>NaN</td>\n",
       "      <td>...</td>\n",
       "      <td>NaN</td>\n",
       "      <td>NaN</td>\n",
       "      <td>NaN</td>\n",
       "      <td>NaN</td>\n",
       "      <td>NaN</td>\n",
       "      <td>NaN</td>\n",
       "      <td>NaN</td>\n",
       "      <td>NaN</td>\n",
       "      <td>NaN</td>\n",
       "      <td>NaN</td>\n",
       "    </tr>\n",
       "    <tr>\n",
       "      <th>96681</th>\n",
       "      <td>4.0</td>\n",
       "      <td>3.0</td>\n",
       "      <td>4.0</td>\n",
       "      <td>3.0</td>\n",
       "      <td>4.0</td>\n",
       "      <td>4.0</td>\n",
       "      <td>4.0</td>\n",
       "      <td>NaN</td>\n",
       "      <td>NaN</td>\n",
       "      <td>NaN</td>\n",
       "      <td>...</td>\n",
       "      <td>NaN</td>\n",
       "      <td>NaN</td>\n",
       "      <td>NaN</td>\n",
       "      <td>1.0</td>\n",
       "      <td>NaN</td>\n",
       "      <td>NaN</td>\n",
       "      <td>1.0</td>\n",
       "      <td>0.0</td>\n",
       "      <td>0.0</td>\n",
       "      <td>NaN</td>\n",
       "    </tr>\n",
       "    <tr>\n",
       "      <th>97021</th>\n",
       "      <td>NaN</td>\n",
       "      <td>NaN</td>\n",
       "      <td>NaN</td>\n",
       "      <td>0.0</td>\n",
       "      <td>0.0</td>\n",
       "      <td>0.0</td>\n",
       "      <td>0.0</td>\n",
       "      <td>0.0</td>\n",
       "      <td>0.0</td>\n",
       "      <td>2.0</td>\n",
       "      <td>...</td>\n",
       "      <td>NaN</td>\n",
       "      <td>NaN</td>\n",
       "      <td>NaN</td>\n",
       "      <td>NaN</td>\n",
       "      <td>NaN</td>\n",
       "      <td>NaN</td>\n",
       "      <td>0.0</td>\n",
       "      <td>NaN</td>\n",
       "      <td>NaN</td>\n",
       "      <td>NaN</td>\n",
       "    </tr>\n",
       "  </tbody>\n",
       "</table>\n",
       "<p>333 rows × 11963 columns</p>\n",
       "</div>"
      ],
      "text/plain": [
       "       turnoutUKGeneralW1__Very likely that I will vote  \\\n",
       "1607                                                NaN   \n",
       "1644                                                0.0   \n",
       "1709                                                NaN   \n",
       "2063                                                0.0   \n",
       "2072                                                4.0   \n",
       "...                                                 ...   \n",
       "96062                                               NaN   \n",
       "96098                                               NaN   \n",
       "96186                                               NaN   \n",
       "96681                                               4.0   \n",
       "97021                                               NaN   \n",
       "\n",
       "       turnoutUKGeneralW2__Very likely that I will vote  \\\n",
       "1607                                                NaN   \n",
       "1644                                                0.0   \n",
       "1709                                                NaN   \n",
       "2063                                                0.0   \n",
       "2072                                                4.0   \n",
       "...                                                 ...   \n",
       "96062                                               NaN   \n",
       "96098                                               NaN   \n",
       "96186                                               NaN   \n",
       "96681                                               3.0   \n",
       "97021                                               NaN   \n",
       "\n",
       "       turnoutUKGeneralW3__Very likely that I will vote  \\\n",
       "1607                                                0.0   \n",
       "1644                                                0.0   \n",
       "1709                                                NaN   \n",
       "2063                                                NaN   \n",
       "2072                                                4.0   \n",
       "...                                                 ...   \n",
       "96062                                               4.0   \n",
       "96098                                               4.0   \n",
       "96186                                               NaN   \n",
       "96681                                               4.0   \n",
       "97021                                               NaN   \n",
       "\n",
       "       turnoutUKGeneralW4__Very likely that I will vote  \\\n",
       "1607                                                0.0   \n",
       "1644                                                0.0   \n",
       "1709                                                3.0   \n",
       "2063                                                0.0   \n",
       "2072                                                4.0   \n",
       "...                                                 ...   \n",
       "96062                                               4.0   \n",
       "96098                                               3.0   \n",
       "96186                                               4.0   \n",
       "96681                                               3.0   \n",
       "97021                                               0.0   \n",
       "\n",
       "       turnoutUKGeneralW5__Very likely that I will vote  \\\n",
       "1607                                                0.0   \n",
       "1644                                                0.0   \n",
       "1709                                                3.0   \n",
       "2063                                                0.0   \n",
       "2072                                                4.0   \n",
       "...                                                 ...   \n",
       "96062                                               0.0   \n",
       "96098                                               3.0   \n",
       "96186                                               0.0   \n",
       "96681                                               4.0   \n",
       "97021                                               0.0   \n",
       "\n",
       "       turnoutUKGeneralW7__Very likely that I will vote  \\\n",
       "1607                                                0.0   \n",
       "1644                                                NaN   \n",
       "1709                                                2.0   \n",
       "2063                                                0.0   \n",
       "2072                                                4.0   \n",
       "...                                                 ...   \n",
       "96062                                               NaN   \n",
       "96098                                               3.0   \n",
       "96186                                               NaN   \n",
       "96681                                               4.0   \n",
       "97021                                               0.0   \n",
       "\n",
       "       turnoutUKGeneralW8__Very likely that I will vote  \\\n",
       "1607                                                0.0   \n",
       "1644                                                0.0   \n",
       "1709                                                4.0   \n",
       "2063                                                0.0   \n",
       "2072                                                4.0   \n",
       "...                                                 ...   \n",
       "96062                                               NaN   \n",
       "96098                                               3.0   \n",
       "96186                                               NaN   \n",
       "96681                                               4.0   \n",
       "97021                                               0.0   \n",
       "\n",
       "       turnoutUKGeneralW9__Very likely that I will vote  \\\n",
       "1607                                                0.0   \n",
       "1644                                                0.0   \n",
       "1709                                                NaN   \n",
       "2063                                                0.0   \n",
       "2072                                                4.0   \n",
       "...                                                 ...   \n",
       "96062                                               NaN   \n",
       "96098                                               4.0   \n",
       "96186                                               NaN   \n",
       "96681                                               NaN   \n",
       "97021                                               0.0   \n",
       "\n",
       "       turnoutUKGeneralW10__Very likely that I will vote  \\\n",
       "1607                                                 0.0   \n",
       "1644                                                 0.0   \n",
       "1709                                                 NaN   \n",
       "2063                                                 NaN   \n",
       "2072                                                 4.0   \n",
       "...                                                  ...   \n",
       "96062                                                NaN   \n",
       "96098                                                4.0   \n",
       "96186                                                NaN   \n",
       "96681                                                NaN   \n",
       "97021                                                0.0   \n",
       "\n",
       "       turnoutUKGeneralW11__Very likely that I will vote  ...  \\\n",
       "1607                                                 NaN  ...   \n",
       "1644                                                 0.0  ...   \n",
       "1709                                                 3.0  ...   \n",
       "2063                                                 NaN  ...   \n",
       "2072                                                 4.0  ...   \n",
       "...                                                  ...  ...   \n",
       "96062                                                NaN  ...   \n",
       "96098                                                4.0  ...   \n",
       "96186                                                NaN  ...   \n",
       "96681                                                NaN  ...   \n",
       "97021                                                2.0  ...   \n",
       "\n",
       "       conPriorities2_schoolW4_Yes  conPriorities2_nhsW4_Yes  \\\n",
       "1607                           NaN                       NaN   \n",
       "1644                           NaN                       NaN   \n",
       "1709                           NaN                       NaN   \n",
       "2063                           NaN                       NaN   \n",
       "2072                           NaN                       NaN   \n",
       "...                            ...                       ...   \n",
       "96062                          NaN                       NaN   \n",
       "96098                          NaN                       NaN   \n",
       "96186                          NaN                       NaN   \n",
       "96681                          NaN                       NaN   \n",
       "97021                          NaN                       NaN   \n",
       "\n",
       "       conPriorities2_costLiveW4_Yes  \\\n",
       "1607                             NaN   \n",
       "1644                             NaN   \n",
       "1709                             NaN   \n",
       "2063                             NaN   \n",
       "2072                             NaN   \n",
       "...                              ...   \n",
       "96062                            NaN   \n",
       "96098                            NaN   \n",
       "96186                            NaN   \n",
       "96681                            NaN   \n",
       "97021                            NaN   \n",
       "\n",
       "       devoResponsibleWalesJusticeW2_The UK Parliament  \\\n",
       "1607                                               NaN   \n",
       "1644                                               NaN   \n",
       "1709                                               NaN   \n",
       "2063                                               NaN   \n",
       "2072                                               NaN   \n",
       "...                                                ...   \n",
       "96062                                              NaN   \n",
       "96098                                              NaN   \n",
       "96186                                              NaN   \n",
       "96681                                              1.0   \n",
       "97021                                              NaN   \n",
       "\n",
       "       conPriorities2_immigW4_Yes  conPriorities2_crimeW4_Yes  \\\n",
       "1607                          NaN                         NaN   \n",
       "1644                          NaN                         NaN   \n",
       "1709                          NaN                         NaN   \n",
       "2063                          NaN                         NaN   \n",
       "2072                          NaN                         NaN   \n",
       "...                           ...                         ...   \n",
       "96062                         NaN                         NaN   \n",
       "96098                         NaN                         NaN   \n",
       "96186                         NaN                         NaN   \n",
       "96681                         NaN                         NaN   \n",
       "97021                         NaN                         NaN   \n",
       "\n",
       "       sharedContentOnline_1W5_Yes  partySiteOthW5_Yes  euCitizenW1_Yes  \\\n",
       "1607                           NaN                 NaN              NaN   \n",
       "1644                           NaN                 NaN              0.0   \n",
       "1709                           0.0                 NaN              NaN   \n",
       "2063                           1.0                 1.0              0.0   \n",
       "2072                           1.0                 0.0              0.0   \n",
       "...                            ...                 ...              ...   \n",
       "96062                          1.0                 0.0              NaN   \n",
       "96098                          0.0                 NaN              NaN   \n",
       "96186                          NaN                 NaN              NaN   \n",
       "96681                          1.0                 0.0              0.0   \n",
       "97021                          0.0                 NaN              NaN   \n",
       "\n",
       "       conPriorities2_natsecW4_Yes  \n",
       "1607                           NaN  \n",
       "1644                           0.0  \n",
       "1709                           NaN  \n",
       "2063                           NaN  \n",
       "2072                           NaN  \n",
       "...                            ...  \n",
       "96062                          NaN  \n",
       "96098                          NaN  \n",
       "96186                          NaN  \n",
       "96681                          NaN  \n",
       "97021                          NaN  \n",
       "\n",
       "[333 rows x 11963 columns]"
      ]
     },
     "execution_count": 44,
     "metadata": {},
     "output_type": "execute_result"
    }
   ],
   "source": [
    "df"
   ]
  },
  {
   "cell_type": "code",
   "execution_count": 46,
   "metadata": {},
   "outputs": [
    {
     "data": {
      "text/html": [
       "<style  type=\"text/css\" >\n",
       "</style><table id=\"T_cdc04be6_8732_11ea_9600_20cf301b91b3\" style='display:inline'><caption>Top 20 positive (spearman) correlations for reasonNotRegistered_1W6_Yes</caption><thead>    <tr>        <th class=\"blank level0\" ></th>        <th class=\"col_heading level0 col0\" >r</th>        <th class=\"col_heading level0 col1\" >p</th>        <th class=\"col_heading level0 col2\" >N</th>    </tr></thead><tbody>\n",
       "                <tr>\n",
       "                        <th id=\"T_cdc04be6_8732_11ea_9600_20cf301b91b3level0_row0\" class=\"row_heading level0 row0\" >partyMemberPastW10_Plaid Cymru</th>\n",
       "                        <td id=\"T_cdc04be6_8732_11ea_9600_20cf301b91b3row0_col0\" class=\"data row0 col0\" >1.000000</td>\n",
       "                        <td id=\"T_cdc04be6_8732_11ea_9600_20cf301b91b3row0_col1\" class=\"data row0 col1\" >0.00</td>\n",
       "                        <td id=\"T_cdc04be6_8732_11ea_9600_20cf301b91b3row0_col2\" class=\"data row0 col2\" >10</td>\n",
       "            </tr>\n",
       "            <tr>\n",
       "                        <th id=\"T_cdc04be6_8732_11ea_9600_20cf301b91b3level0_row1\" class=\"row_heading level0 row1\" >freeSpeechMilitaryTeachW15__Definitely</th>\n",
       "                        <td id=\"T_cdc04be6_8732_11ea_9600_20cf301b91b3row1_col0\" class=\"data row1 col0\" >0.990000</td>\n",
       "                        <td id=\"T_cdc04be6_8732_11ea_9600_20cf301b91b3row1_col1\" class=\"data row1 col1\" >0.00</td>\n",
       "                        <td id=\"T_cdc04be6_8732_11ea_9600_20cf301b91b3row1_col2\" class=\"data row1 col2\" >13</td>\n",
       "            </tr>\n",
       "            <tr>\n",
       "                        <th id=\"T_cdc04be6_8732_11ea_9600_20cf301b91b3level0_row2\" class=\"row_heading level0 row2\" >reasonNotRegistered_1W8_Yes</th>\n",
       "                        <td id=\"T_cdc04be6_8732_11ea_9600_20cf301b91b3row2_col0\" class=\"data row2 col0\" >0.950000</td>\n",
       "                        <td id=\"T_cdc04be6_8732_11ea_9600_20cf301b91b3row2_col1\" class=\"data row2 col1\" >0.00</td>\n",
       "                        <td id=\"T_cdc04be6_8732_11ea_9600_20cf301b91b3row2_col2\" class=\"data row2 col2\" >36</td>\n",
       "            </tr>\n",
       "            <tr>\n",
       "                        <th id=\"T_cdc04be6_8732_11ea_9600_20cf301b91b3level0_row3\" class=\"row_heading level0 row3\" >noDealEmotions_5W15_Yes</th>\n",
       "                        <td id=\"T_cdc04be6_8732_11ea_9600_20cf301b91b3row3_col0\" class=\"data row3 col0\" >0.820000</td>\n",
       "                        <td id=\"T_cdc04be6_8732_11ea_9600_20cf301b91b3row3_col1\" class=\"data row3 col1\" >0.00</td>\n",
       "                        <td id=\"T_cdc04be6_8732_11ea_9600_20cf301b91b3row3_col2\" class=\"data row3 col2\" >13</td>\n",
       "            </tr>\n",
       "            <tr>\n",
       "                        <th id=\"T_cdc04be6_8732_11ea_9600_20cf301b91b3level0_row4\" class=\"row_heading level0 row4\" >euID5W7__Strongly agree</th>\n",
       "                        <td id=\"T_cdc04be6_8732_11ea_9600_20cf301b91b3row4_col0\" class=\"data row4 col0\" >0.760000</td>\n",
       "                        <td id=\"T_cdc04be6_8732_11ea_9600_20cf301b91b3row4_col1\" class=\"data row4 col1\" >0.01</td>\n",
       "                        <td id=\"T_cdc04be6_8732_11ea_9600_20cf301b91b3row4_col2\" class=\"data row4 col2\" >10</td>\n",
       "            </tr>\n",
       "            <tr>\n",
       "                        <th id=\"T_cdc04be6_8732_11ea_9600_20cf301b91b3level0_row5\" class=\"row_heading level0 row5\" >labHopeW14_Yes</th>\n",
       "                        <td id=\"T_cdc04be6_8732_11ea_9600_20cf301b91b3row5_col0\" class=\"data row5 col0\" >0.760000</td>\n",
       "                        <td id=\"T_cdc04be6_8732_11ea_9600_20cf301b91b3row5_col1\" class=\"data row5 col1\" >0.01</td>\n",
       "                        <td id=\"T_cdc04be6_8732_11ea_9600_20cf301b91b3row5_col2\" class=\"data row5 col2\" >10</td>\n",
       "            </tr>\n",
       "            <tr>\n",
       "                        <th id=\"T_cdc04be6_8732_11ea_9600_20cf301b91b3level0_row6\" class=\"row_heading level0 row6\" >profile_work_statW14_Full time student</th>\n",
       "                        <td id=\"T_cdc04be6_8732_11ea_9600_20cf301b91b3row6_col0\" class=\"data row6 col0\" >0.740000</td>\n",
       "                        <td id=\"T_cdc04be6_8732_11ea_9600_20cf301b91b3row6_col1\" class=\"data row6 col1\" >0.00</td>\n",
       "                        <td id=\"T_cdc04be6_8732_11ea_9600_20cf301b91b3row6_col2\" class=\"data row6 col2\" >63</td>\n",
       "            </tr>\n",
       "            <tr>\n",
       "                        <th id=\"T_cdc04be6_8732_11ea_9600_20cf301b91b3level0_row7\" class=\"row_heading level0 row7\" >warmMuslimW11__Very warm</th>\n",
       "                        <td id=\"T_cdc04be6_8732_11ea_9600_20cf301b91b3row7_col0\" class=\"data row7 col0\" >0.730000</td>\n",
       "                        <td id=\"T_cdc04be6_8732_11ea_9600_20cf301b91b3row7_col1\" class=\"data row7 col1\" >0.00</td>\n",
       "                        <td id=\"T_cdc04be6_8732_11ea_9600_20cf301b91b3row7_col2\" class=\"data row7 col2\" >13</td>\n",
       "            </tr>\n",
       "            <tr>\n",
       "                        <th id=\"T_cdc04be6_8732_11ea_9600_20cf301b91b3level0_row8\" class=\"row_heading level0 row8\" >freeSpeechIslamistSpeechW15__Definitely</th>\n",
       "                        <td id=\"T_cdc04be6_8732_11ea_9600_20cf301b91b3row8_col0\" class=\"data row8 col0\" >0.720000</td>\n",
       "                        <td id=\"T_cdc04be6_8732_11ea_9600_20cf301b91b3row8_col1\" class=\"data row8 col1\" >0.01</td>\n",
       "                        <td id=\"T_cdc04be6_8732_11ea_9600_20cf301b91b3row8_col2\" class=\"data row8 col2\" >13</td>\n",
       "            </tr>\n",
       "            <tr>\n",
       "                        <th id=\"T_cdc04be6_8732_11ea_9600_20cf301b91b3level0_row9\" class=\"row_heading level0 row9\" >workingStatusW14W15_Full time university student</th>\n",
       "                        <td id=\"T_cdc04be6_8732_11ea_9600_20cf301b91b3row9_col0\" class=\"data row9 col0\" >0.720000</td>\n",
       "                        <td id=\"T_cdc04be6_8732_11ea_9600_20cf301b91b3row9_col1\" class=\"data row9 col1\" >0.00</td>\n",
       "                        <td id=\"T_cdc04be6_8732_11ea_9600_20cf301b91b3row9_col2\" class=\"data row9 col2\" >71</td>\n",
       "            </tr>\n",
       "            <tr>\n",
       "                        <th id=\"T_cdc04be6_8732_11ea_9600_20cf301b91b3level0_row10\" class=\"row_heading level0 row10\" >childvalues_9W14_Yes</th>\n",
       "                        <td id=\"T_cdc04be6_8732_11ea_9600_20cf301b91b3row10_col0\" class=\"data row10 col0\" >0.710000</td>\n",
       "                        <td id=\"T_cdc04be6_8732_11ea_9600_20cf301b91b3row10_col1\" class=\"data row10 col1\" >0.01</td>\n",
       "                        <td id=\"T_cdc04be6_8732_11ea_9600_20cf301b91b3row10_col2\" class=\"data row10 col2\" >12</td>\n",
       "            </tr>\n",
       "            <tr>\n",
       "                        <th id=\"T_cdc04be6_8732_11ea_9600_20cf301b91b3level0_row11\" class=\"row_heading level0 row11\" >likeDaveyW19__Strongly like</th>\n",
       "                        <td id=\"T_cdc04be6_8732_11ea_9600_20cf301b91b3row11_col0\" class=\"data row11 col0\" >0.690000</td>\n",
       "                        <td id=\"T_cdc04be6_8732_11ea_9600_20cf301b91b3row11_col1\" class=\"data row11 col1\" >0.00</td>\n",
       "                        <td id=\"T_cdc04be6_8732_11ea_9600_20cf301b91b3row11_col2\" class=\"data row11 col2\" >17</td>\n",
       "            </tr>\n",
       "            <tr>\n",
       "                        <th id=\"T_cdc04be6_8732_11ea_9600_20cf301b91b3level0_row12\" class=\"row_heading level0 row12\" >noDealEmotions_7W15_Yes</th>\n",
       "                        <td id=\"T_cdc04be6_8732_11ea_9600_20cf301b91b3row12_col0\" class=\"data row12 col0\" >0.690000</td>\n",
       "                        <td id=\"T_cdc04be6_8732_11ea_9600_20cf301b91b3row12_col1\" class=\"data row12 col1\" >0.01</td>\n",
       "                        <td id=\"T_cdc04be6_8732_11ea_9600_20cf301b91b3row12_col2\" class=\"data row12 col2\" >13</td>\n",
       "            </tr>\n",
       "            <tr>\n",
       "                        <th id=\"T_cdc04be6_8732_11ea_9600_20cf301b91b3level0_row13\" class=\"row_heading level0 row13\" >partyIdSqueezeW14_Liberal Democrat</th>\n",
       "                        <td id=\"T_cdc04be6_8732_11ea_9600_20cf301b91b3row13_col0\" class=\"data row13 col0\" >0.680000</td>\n",
       "                        <td id=\"T_cdc04be6_8732_11ea_9600_20cf301b91b3row13_col1\" class=\"data row13 col1\" >0.00</td>\n",
       "                        <td id=\"T_cdc04be6_8732_11ea_9600_20cf301b91b3row13_col2\" class=\"data row13 col2\" >27</td>\n",
       "            </tr>\n",
       "            <tr>\n",
       "                        <th id=\"T_cdc04be6_8732_11ea_9600_20cf301b91b3level0_row14\" class=\"row_heading level0 row14\" >likeWoodW6__Strongly like</th>\n",
       "                        <td id=\"T_cdc04be6_8732_11ea_9600_20cf301b91b3row14_col0\" class=\"data row14 col0\" >0.670000</td>\n",
       "                        <td id=\"T_cdc04be6_8732_11ea_9600_20cf301b91b3row14_col1\" class=\"data row14 col1\" >0.01</td>\n",
       "                        <td id=\"T_cdc04be6_8732_11ea_9600_20cf301b91b3row14_col2\" class=\"data row14 col2\" >13</td>\n",
       "            </tr>\n",
       "            <tr>\n",
       "                        <th id=\"T_cdc04be6_8732_11ea_9600_20cf301b91b3level0_row15\" class=\"row_heading level0 row15\" >workingStatusW6_W12_Other full time student</th>\n",
       "                        <td id=\"T_cdc04be6_8732_11ea_9600_20cf301b91b3row15_col0\" class=\"data row15 col0\" >0.620000</td>\n",
       "                        <td id=\"T_cdc04be6_8732_11ea_9600_20cf301b91b3row15_col1\" class=\"data row15 col1\" >0.00</td>\n",
       "                        <td id=\"T_cdc04be6_8732_11ea_9600_20cf301b91b3row15_col2\" class=\"data row15 col2\" >253</td>\n",
       "            </tr>\n",
       "            <tr>\n",
       "                        <th id=\"T_cdc04be6_8732_11ea_9600_20cf301b91b3level0_row16\" class=\"row_heading level0 row16\" >selfOccSuperviseW16_Yes</th>\n",
       "                        <td id=\"T_cdc04be6_8732_11ea_9600_20cf301b91b3row16_col0\" class=\"data row16 col0\" >0.600000</td>\n",
       "                        <td id=\"T_cdc04be6_8732_11ea_9600_20cf301b91b3row16_col1\" class=\"data row16 col1\" >0.01</td>\n",
       "                        <td id=\"T_cdc04be6_8732_11ea_9600_20cf301b91b3row16_col2\" class=\"data row16 col2\" >19</td>\n",
       "            </tr>\n",
       "            <tr>\n",
       "                        <th id=\"T_cdc04be6_8732_11ea_9600_20cf301b91b3level0_row17\" class=\"row_heading level0 row17\" >ptvGrnW12__Very likely</th>\n",
       "                        <td id=\"T_cdc04be6_8732_11ea_9600_20cf301b91b3row17_col0\" class=\"data row17 col0\" >0.600000</td>\n",
       "                        <td id=\"T_cdc04be6_8732_11ea_9600_20cf301b91b3row17_col1\" class=\"data row17 col1\" >0.01</td>\n",
       "                        <td id=\"T_cdc04be6_8732_11ea_9600_20cf301b91b3row17_col2\" class=\"data row17 col2\" >17</td>\n",
       "            </tr>\n",
       "            <tr>\n",
       "                        <th id=\"T_cdc04be6_8732_11ea_9600_20cf301b91b3level0_row18\" class=\"row_heading level0 row18\" >subjClassW17_Yes, middle class</th>\n",
       "                        <td id=\"T_cdc04be6_8732_11ea_9600_20cf301b91b3row18_col0\" class=\"data row18 col0\" >0.590000</td>\n",
       "                        <td id=\"T_cdc04be6_8732_11ea_9600_20cf301b91b3row18_col1\" class=\"data row18 col1\" >0.00</td>\n",
       "                        <td id=\"T_cdc04be6_8732_11ea_9600_20cf301b91b3row18_col2\" class=\"data row18 col2\" >55</td>\n",
       "            </tr>\n",
       "            <tr>\n",
       "                        <th id=\"T_cdc04be6_8732_11ea_9600_20cf301b91b3level0_row19\" class=\"row_heading level0 row19\" >passportOtherW9_Yes</th>\n",
       "                        <td id=\"T_cdc04be6_8732_11ea_9600_20cf301b91b3row19_col0\" class=\"data row19 col0\" >0.590000</td>\n",
       "                        <td id=\"T_cdc04be6_8732_11ea_9600_20cf301b91b3row19_col1\" class=\"data row19 col1\" >0.00</td>\n",
       "                        <td id=\"T_cdc04be6_8732_11ea_9600_20cf301b91b3row19_col2\" class=\"data row19 col2\" >93</td>\n",
       "            </tr>\n",
       "    </tbody></table><style  type=\"text/css\" >\n",
       "</style><table id=\"T_cdc1364a_8732_11ea_9b94_20cf301b91b3\" style='display:inline'><caption>Top 20 negative (spearman) correlations for reasonNotRegistered_1W6_Yes</caption><thead>    <tr>        <th class=\"blank level0\" ></th>        <th class=\"col_heading level0 col0\" >r</th>        <th class=\"col_heading level0 col1\" >p</th>        <th class=\"col_heading level0 col2\" >N</th>    </tr></thead><tbody>\n",
       "                <tr>\n",
       "                        <th id=\"T_cdc1364a_8732_11ea_9b94_20cf301b91b3level0_row0\" class=\"row_heading level0 row0\" >ukCitizenW1_Yes</th>\n",
       "                        <td id=\"T_cdc1364a_8732_11ea_9b94_20cf301b91b3row0_col0\" class=\"data row0 col0\" >-0.710000</td>\n",
       "                        <td id=\"T_cdc1364a_8732_11ea_9b94_20cf301b91b3row0_col1\" class=\"data row0 col1\" >0.00</td>\n",
       "                        <td id=\"T_cdc1364a_8732_11ea_9b94_20cf301b91b3row0_col2\" class=\"data row0 col2\" >125</td>\n",
       "            </tr>\n",
       "            <tr>\n",
       "                        <th id=\"T_cdc1364a_8732_11ea_9b94_20cf301b91b3level0_row1\" class=\"row_heading level0 row1\" >reasonNotRegistered_4W7_Yes</th>\n",
       "                        <td id=\"T_cdc1364a_8732_11ea_9b94_20cf301b91b3row1_col0\" class=\"data row1 col0\" >-0.690000</td>\n",
       "                        <td id=\"T_cdc1364a_8732_11ea_9b94_20cf301b91b3row1_col1\" class=\"data row1 col1\" >0.00</td>\n",
       "                        <td id=\"T_cdc1364a_8732_11ea_9b94_20cf301b91b3row1_col2\" class=\"data row1 col2\" >31</td>\n",
       "            </tr>\n",
       "            <tr>\n",
       "                        <th id=\"T_cdc1364a_8732_11ea_9b94_20cf301b91b3level0_row2\" class=\"row_heading level0 row2\" >partyContactConW18_Yes</th>\n",
       "                        <td id=\"T_cdc1364a_8732_11ea_9b94_20cf301b91b3row2_col0\" class=\"data row2 col0\" >-0.670000</td>\n",
       "                        <td id=\"T_cdc1364a_8732_11ea_9b94_20cf301b91b3row2_col1\" class=\"data row2 col1\" >0.00</td>\n",
       "                        <td id=\"T_cdc1364a_8732_11ea_9b94_20cf301b91b3row2_col2\" class=\"data row2 col2\" >16</td>\n",
       "            </tr>\n",
       "            <tr>\n",
       "                        <th id=\"T_cdc1364a_8732_11ea_9b94_20cf301b91b3level0_row3\" class=\"row_heading level0 row3\" >occCheckW17__Very well</th>\n",
       "                        <td id=\"T_cdc1364a_8732_11ea_9b94_20cf301b91b3row3_col0\" class=\"data row3 col0\" >-0.620000</td>\n",
       "                        <td id=\"T_cdc1364a_8732_11ea_9b94_20cf301b91b3row3_col1\" class=\"data row3 col1\" >0.01</td>\n",
       "                        <td id=\"T_cdc1364a_8732_11ea_9b94_20cf301b91b3row3_col2\" class=\"data row3 col2\" >18</td>\n",
       "            </tr>\n",
       "            <tr>\n",
       "                        <th id=\"T_cdc1364a_8732_11ea_9b94_20cf301b91b3level0_row4\" class=\"row_heading level0 row4\" >britishnessW2__Very strongly British</th>\n",
       "                        <td id=\"T_cdc1364a_8732_11ea_9b94_20cf301b91b3row4_col0\" class=\"data row4 col0\" >-0.610000</td>\n",
       "                        <td id=\"T_cdc1364a_8732_11ea_9b94_20cf301b91b3row4_col1\" class=\"data row4 col1\" >0.00</td>\n",
       "                        <td id=\"T_cdc1364a_8732_11ea_9b94_20cf301b91b3row4_col2\" class=\"data row4 col2\" >125</td>\n",
       "            </tr>\n",
       "            <tr>\n",
       "                        <th id=\"T_cdc1364a_8732_11ea_9b94_20cf301b91b3level0_row5\" class=\"row_heading level0 row5\" >partyContactLabW12_Yes</th>\n",
       "                        <td id=\"T_cdc1364a_8732_11ea_9b94_20cf301b91b3row5_col0\" class=\"data row5 col0\" >-0.590000</td>\n",
       "                        <td id=\"T_cdc1364a_8732_11ea_9b94_20cf301b91b3row5_col1\" class=\"data row5 col1\" >0.01</td>\n",
       "                        <td id=\"T_cdc1364a_8732_11ea_9b94_20cf301b91b3row5_col2\" class=\"data row5 col2\" >19</td>\n",
       "            </tr>\n",
       "            <tr>\n",
       "                        <th id=\"T_cdc1364a_8732_11ea_9b94_20cf301b91b3level0_row6\" class=\"row_heading level0 row6\" >ageW15</th>\n",
       "                        <td id=\"T_cdc1364a_8732_11ea_9b94_20cf301b91b3row6_col0\" class=\"data row6 col0\" >-0.570000</td>\n",
       "                        <td id=\"T_cdc1364a_8732_11ea_9b94_20cf301b91b3row6_col1\" class=\"data row6 col1\" >0.00</td>\n",
       "                        <td id=\"T_cdc1364a_8732_11ea_9b94_20cf301b91b3row6_col2\" class=\"data row6 col2\" >58</td>\n",
       "            </tr>\n",
       "            <tr>\n",
       "                        <th id=\"T_cdc1364a_8732_11ea_9b94_20cf301b91b3level0_row7\" class=\"row_heading level0 row7\" >discrimWhiteW10__A lot of discrimination against</th>\n",
       "                        <td id=\"T_cdc1364a_8732_11ea_9b94_20cf301b91b3row7_col0\" class=\"data row7 col0\" >-0.560000</td>\n",
       "                        <td id=\"T_cdc1364a_8732_11ea_9b94_20cf301b91b3row7_col1\" class=\"data row7 col1\" >0.00</td>\n",
       "                        <td id=\"T_cdc1364a_8732_11ea_9b94_20cf301b91b3row7_col2\" class=\"data row7 col2\" >80</td>\n",
       "            </tr>\n",
       "            <tr>\n",
       "                        <th id=\"T_cdc1364a_8732_11ea_9b94_20cf301b91b3level0_row8\" class=\"row_heading level0 row8\" >ageGroup__66+</th>\n",
       "                        <td id=\"T_cdc1364a_8732_11ea_9b94_20cf301b91b3row8_col0\" class=\"data row8 col0\" >-0.550000</td>\n",
       "                        <td id=\"T_cdc1364a_8732_11ea_9b94_20cf301b91b3row8_col1\" class=\"data row8 col1\" >0.00</td>\n",
       "                        <td id=\"T_cdc1364a_8732_11ea_9b94_20cf301b91b3row8_col2\" class=\"data row8 col2\" >260</td>\n",
       "            </tr>\n",
       "            <tr>\n",
       "                        <th id=\"T_cdc1364a_8732_11ea_9b94_20cf301b91b3level0_row9\" class=\"row_heading level0 row9\" >Age</th>\n",
       "                        <td id=\"T_cdc1364a_8732_11ea_9b94_20cf301b91b3row9_col0\" class=\"data row9 col0\" >-0.550000</td>\n",
       "                        <td id=\"T_cdc1364a_8732_11ea_9b94_20cf301b91b3row9_col1\" class=\"data row9 col1\" >0.00</td>\n",
       "                        <td id=\"T_cdc1364a_8732_11ea_9b94_20cf301b91b3row9_col2\" class=\"data row9 col2\" >260</td>\n",
       "            </tr>\n",
       "            <tr>\n",
       "                        <th id=\"T_cdc1364a_8732_11ea_9b94_20cf301b91b3level0_row10\" class=\"row_heading level0 row10\" >registeredW13_Yes - at $postcode_hidden</th>\n",
       "                        <td id=\"T_cdc1364a_8732_11ea_9b94_20cf301b91b3row10_col0\" class=\"data row10 col0\" >-0.530000</td>\n",
       "                        <td id=\"T_cdc1364a_8732_11ea_9b94_20cf301b91b3row10_col1\" class=\"data row10 col1\" >0.00</td>\n",
       "                        <td id=\"T_cdc1364a_8732_11ea_9b94_20cf301b91b3row10_col2\" class=\"data row10 col2\" >78</td>\n",
       "            </tr>\n",
       "            <tr>\n",
       "                        <th id=\"T_cdc1364a_8732_11ea_9b94_20cf301b91b3level0_row11\" class=\"row_heading level0 row11\" >motherCountryBornW8_UK</th>\n",
       "                        <td id=\"T_cdc1364a_8732_11ea_9b94_20cf301b91b3row11_col0\" class=\"data row11 col0\" >-0.530000</td>\n",
       "                        <td id=\"T_cdc1364a_8732_11ea_9b94_20cf301b91b3row11_col1\" class=\"data row11 col1\" >0.00</td>\n",
       "                        <td id=\"T_cdc1364a_8732_11ea_9b94_20cf301b91b3row11_col2\" class=\"data row11 col2\" >103</td>\n",
       "            </tr>\n",
       "            <tr>\n",
       "                        <th id=\"T_cdc1364a_8732_11ea_9b94_20cf301b91b3level0_row12\" class=\"row_heading level0 row12\" >scotRefTurnoutW3_W14_No, I did not vote</th>\n",
       "                        <td id=\"T_cdc1364a_8732_11ea_9b94_20cf301b91b3row12_col0\" class=\"data row12 col0\" >-0.520000</td>\n",
       "                        <td id=\"T_cdc1364a_8732_11ea_9b94_20cf301b91b3row12_col1\" class=\"data row12 col1\" >0.00</td>\n",
       "                        <td id=\"T_cdc1364a_8732_11ea_9b94_20cf301b91b3row12_col2\" class=\"data row12 col2\" >38</td>\n",
       "            </tr>\n",
       "            <tr>\n",
       "                        <th id=\"T_cdc1364a_8732_11ea_9b94_20cf301b91b3level0_row13\" class=\"row_heading level0 row13\" >countryOfBirthW17_England</th>\n",
       "                        <td id=\"T_cdc1364a_8732_11ea_9b94_20cf301b91b3row13_col0\" class=\"data row13 col0\" >-0.510000</td>\n",
       "                        <td id=\"T_cdc1364a_8732_11ea_9b94_20cf301b91b3row13_col1\" class=\"data row13 col1\" >0.00</td>\n",
       "                        <td id=\"T_cdc1364a_8732_11ea_9b94_20cf301b91b3row13_col2\" class=\"data row13 col2\" >60</td>\n",
       "            </tr>\n",
       "            <tr>\n",
       "                        <th id=\"T_cdc1364a_8732_11ea_9b94_20cf301b91b3level0_row14\" class=\"row_heading level0 row14\" >selfEUCertainW4__Very certain</th>\n",
       "                        <td id=\"T_cdc1364a_8732_11ea_9b94_20cf301b91b3row14_col0\" class=\"data row14 col0\" >-0.500000</td>\n",
       "                        <td id=\"T_cdc1364a_8732_11ea_9b94_20cf301b91b3row14_col1\" class=\"data row14 col1\" >0.01</td>\n",
       "                        <td id=\"T_cdc1364a_8732_11ea_9b94_20cf301b91b3row14_col2\" class=\"data row14 col2\" >25</td>\n",
       "            </tr>\n",
       "            <tr>\n",
       "                        <th id=\"T_cdc1364a_8732_11ea_9b94_20cf301b91b3level0_row15\" class=\"row_heading level0 row15\" >englishnessW2__Very strongly English</th>\n",
       "                        <td id=\"T_cdc1364a_8732_11ea_9b94_20cf301b91b3row15_col0\" class=\"data row15 col0\" >-0.500000</td>\n",
       "                        <td id=\"T_cdc1364a_8732_11ea_9b94_20cf301b91b3row15_col1\" class=\"data row15 col1\" >0.00</td>\n",
       "                        <td id=\"T_cdc1364a_8732_11ea_9b94_20cf301b91b3row15_col2\" class=\"data row15 col2\" >125</td>\n",
       "            </tr>\n",
       "            <tr>\n",
       "                        <th id=\"T_cdc1364a_8732_11ea_9b94_20cf301b91b3level0_row16\" class=\"row_heading level0 row16\" >dutyLongW11_Choice</th>\n",
       "                        <td id=\"T_cdc1364a_8732_11ea_9b94_20cf301b91b3row16_col0\" class=\"data row16 col0\" >-0.490000</td>\n",
       "                        <td id=\"T_cdc1364a_8732_11ea_9b94_20cf301b91b3row16_col1\" class=\"data row16 col1\" >0.00</td>\n",
       "                        <td id=\"T_cdc1364a_8732_11ea_9b94_20cf301b91b3row16_col2\" class=\"data row16 col2\" >32</td>\n",
       "            </tr>\n",
       "            <tr>\n",
       "                        <th id=\"T_cdc1364a_8732_11ea_9b94_20cf301b91b3level0_row17\" class=\"row_heading level0 row17\" >effectsEUTradeW15__Much higher</th>\n",
       "                        <td id=\"T_cdc1364a_8732_11ea_9b94_20cf301b91b3row17_col0\" class=\"data row17 col0\" >-0.490000</td>\n",
       "                        <td id=\"T_cdc1364a_8732_11ea_9b94_20cf301b91b3row17_col1\" class=\"data row17 col1\" >0.00</td>\n",
       "                        <td id=\"T_cdc1364a_8732_11ea_9b94_20cf301b91b3row17_col2\" class=\"data row17 col2\" >48</td>\n",
       "            </tr>\n",
       "            <tr>\n",
       "                        <th id=\"T_cdc1364a_8732_11ea_9b94_20cf301b91b3level0_row18\" class=\"row_heading level0 row18\" >antiIntellectualW17__Strongly agree</th>\n",
       "                        <td id=\"T_cdc1364a_8732_11ea_9b94_20cf301b91b3row18_col0\" class=\"data row18 col0\" >-0.490000</td>\n",
       "                        <td id=\"T_cdc1364a_8732_11ea_9b94_20cf301b91b3row18_col1\" class=\"data row18 col1\" >0.00</td>\n",
       "                        <td id=\"T_cdc1364a_8732_11ea_9b94_20cf301b91b3row18_col2\" class=\"data row18 col2\" >52</td>\n",
       "            </tr>\n",
       "            <tr>\n",
       "                        <th id=\"T_cdc1364a_8732_11ea_9b94_20cf301b91b3level0_row19\" class=\"row_heading level0 row19\" >fatherCountryBornW8_UK</th>\n",
       "                        <td id=\"T_cdc1364a_8732_11ea_9b94_20cf301b91b3row19_col0\" class=\"data row19 col0\" >-0.480000</td>\n",
       "                        <td id=\"T_cdc1364a_8732_11ea_9b94_20cf301b91b3row19_col1\" class=\"data row19 col1\" >0.00</td>\n",
       "                        <td id=\"T_cdc1364a_8732_11ea_9b94_20cf301b91b3row19_col2\" class=\"data row19 col2\" >103</td>\n",
       "            </tr>\n",
       "    </tbody></table>"
      ]
     },
     "metadata": {},
     "output_type": "display_data"
    },
    {
     "name": "stdout",
     "output_type": "stream",
     "text": [
      "Wall time: 50.5 s\n"
     ]
    }
   ],
   "source": [
    "%%time\n",
    "pattern = \"reasonNotRegistered_1W6_Yes\"\n",
    "name = \"reasonNotRegistered_1W6_Yes\"\n",
    "corr_type = \"spearman\"\n",
    "mask = BES_Panel[\"wave6\"] & (BES_Panel[\"registeredW6\"]==\"No\")\n",
    "df = BES_reduced_with_na[mask].astype('float32')\n",
    "corr_df,corr_type = make_corr_summary(df, name, corr_type, pattern=pattern,min_sample_size=10)\n",
    "display_corr(corr_df, name, corr_type, text_wrap_length=50)"
   ]
  },
  {
   "cell_type": "code",
   "execution_count": 47,
   "metadata": {},
   "outputs": [
    {
     "data": {
      "text/plain": [
       "countryOfBirth       36842\n",
       "countryOfBirthW17    34366\n",
       "dtype: int64"
      ]
     },
     "execution_count": 47,
     "metadata": {},
     "output_type": "execute_result"
    }
   ],
   "source": [
    "search(BES_Panel,\"countryOfBirth\")"
   ]
  },
  {
   "cell_type": "code",
   "execution_count": 49,
   "metadata": {},
   "outputs": [
    {
     "data": {
      "text/plain": [
       "England                                 25332\n",
       "Scotland                                 6011\n",
       "Wales                                    2834\n",
       "Other: European Union member country      704\n",
       "Other: Rest of world                      703\n",
       "Other: Commonwealth member country        601\n",
       "Prefer not to answer                      272\n",
       "Republic of Ireland                       199\n",
       "Northern Ireland                          186\n",
       "Name: countryOfBirth, dtype: int64"
      ]
     },
     "execution_count": 49,
     "metadata": {},
     "output_type": "execute_result"
    }
   ],
   "source": [
    "BES_Panel[\"countryOfBirth\"].value_counts()"
   ]
  },
  {
   "cell_type": "code",
   "execution_count": 40,
   "metadata": {},
   "outputs": [
    {
     "data": {
      "text/plain": [
       "reasonNotRegistered_1W6_Yes    260\n",
       "dtype: int64"
      ]
     },
     "execution_count": 40,
     "metadata": {},
     "output_type": "execute_result"
    }
   ],
   "source": [
    "search(BES_reduced_with_na, \"reasonNotRegistered_1W6\")\n",
    "# BES_Panel[\"reasonNotRegistered_1W6\"]"
   ]
  },
  {
   "cell_type": "code",
   "execution_count": 42,
   "metadata": {},
   "outputs": [
    {
     "data": {
      "text/html": [
       "<div>\n",
       "<style scoped>\n",
       "    .dataframe tbody tr th:only-of-type {\n",
       "        vertical-align: middle;\n",
       "    }\n",
       "\n",
       "    .dataframe tbody tr th {\n",
       "        vertical-align: top;\n",
       "    }\n",
       "\n",
       "    .dataframe thead th {\n",
       "        text-align: right;\n",
       "    }\n",
       "</style>\n",
       "<table border=\"1\" class=\"dataframe\">\n",
       "  <thead>\n",
       "    <tr style=\"text-align: right;\">\n",
       "      <th></th>\n",
       "      <th>turnoutUKGeneralW1__Very likely that I will vote</th>\n",
       "      <th>turnoutUKGeneralW2__Very likely that I will vote</th>\n",
       "      <th>turnoutUKGeneralW3__Very likely that I will vote</th>\n",
       "      <th>turnoutUKGeneralW4__Very likely that I will vote</th>\n",
       "      <th>turnoutUKGeneralW5__Very likely that I will vote</th>\n",
       "      <th>turnoutUKGeneralW7__Very likely that I will vote</th>\n",
       "      <th>turnoutUKGeneralW8__Very likely that I will vote</th>\n",
       "      <th>turnoutUKGeneralW9__Very likely that I will vote</th>\n",
       "      <th>turnoutUKGeneralW10__Very likely that I will vote</th>\n",
       "      <th>turnoutUKGeneralW11__Very likely that I will vote</th>\n",
       "      <th>...</th>\n",
       "      <th>conPriorities2_schoolW4_Yes</th>\n",
       "      <th>conPriorities2_nhsW4_Yes</th>\n",
       "      <th>conPriorities2_costLiveW4_Yes</th>\n",
       "      <th>devoResponsibleWalesJusticeW2_The UK Parliament</th>\n",
       "      <th>conPriorities2_immigW4_Yes</th>\n",
       "      <th>conPriorities2_crimeW4_Yes</th>\n",
       "      <th>sharedContentOnline_1W5_Yes</th>\n",
       "      <th>partySiteOthW5_Yes</th>\n",
       "      <th>euCitizenW1_Yes</th>\n",
       "      <th>conPriorities2_natsecW4_Yes</th>\n",
       "    </tr>\n",
       "  </thead>\n",
       "  <tbody>\n",
       "    <tr>\n",
       "      <th>1607</th>\n",
       "      <td>NaN</td>\n",
       "      <td>NaN</td>\n",
       "      <td>0.0</td>\n",
       "      <td>0.0</td>\n",
       "      <td>0.0</td>\n",
       "      <td>0.0</td>\n",
       "      <td>0.0</td>\n",
       "      <td>0.0</td>\n",
       "      <td>0.0</td>\n",
       "      <td>NaN</td>\n",
       "      <td>...</td>\n",
       "      <td>NaN</td>\n",
       "      <td>NaN</td>\n",
       "      <td>NaN</td>\n",
       "      <td>NaN</td>\n",
       "      <td>NaN</td>\n",
       "      <td>NaN</td>\n",
       "      <td>NaN</td>\n",
       "      <td>NaN</td>\n",
       "      <td>NaN</td>\n",
       "      <td>NaN</td>\n",
       "    </tr>\n",
       "    <tr>\n",
       "      <th>1644</th>\n",
       "      <td>0.0</td>\n",
       "      <td>0.0</td>\n",
       "      <td>0.0</td>\n",
       "      <td>0.0</td>\n",
       "      <td>0.0</td>\n",
       "      <td>NaN</td>\n",
       "      <td>0.0</td>\n",
       "      <td>0.0</td>\n",
       "      <td>0.0</td>\n",
       "      <td>0.0</td>\n",
       "      <td>...</td>\n",
       "      <td>NaN</td>\n",
       "      <td>NaN</td>\n",
       "      <td>NaN</td>\n",
       "      <td>NaN</td>\n",
       "      <td>NaN</td>\n",
       "      <td>NaN</td>\n",
       "      <td>NaN</td>\n",
       "      <td>NaN</td>\n",
       "      <td>0.0</td>\n",
       "      <td>0.0</td>\n",
       "    </tr>\n",
       "    <tr>\n",
       "      <th>1709</th>\n",
       "      <td>NaN</td>\n",
       "      <td>NaN</td>\n",
       "      <td>NaN</td>\n",
       "      <td>3.0</td>\n",
       "      <td>3.0</td>\n",
       "      <td>2.0</td>\n",
       "      <td>4.0</td>\n",
       "      <td>NaN</td>\n",
       "      <td>NaN</td>\n",
       "      <td>3.0</td>\n",
       "      <td>...</td>\n",
       "      <td>NaN</td>\n",
       "      <td>NaN</td>\n",
       "      <td>NaN</td>\n",
       "      <td>NaN</td>\n",
       "      <td>NaN</td>\n",
       "      <td>NaN</td>\n",
       "      <td>0.0</td>\n",
       "      <td>NaN</td>\n",
       "      <td>NaN</td>\n",
       "      <td>NaN</td>\n",
       "    </tr>\n",
       "    <tr>\n",
       "      <th>2063</th>\n",
       "      <td>0.0</td>\n",
       "      <td>0.0</td>\n",
       "      <td>NaN</td>\n",
       "      <td>0.0</td>\n",
       "      <td>0.0</td>\n",
       "      <td>0.0</td>\n",
       "      <td>0.0</td>\n",
       "      <td>0.0</td>\n",
       "      <td>NaN</td>\n",
       "      <td>NaN</td>\n",
       "      <td>...</td>\n",
       "      <td>NaN</td>\n",
       "      <td>NaN</td>\n",
       "      <td>NaN</td>\n",
       "      <td>NaN</td>\n",
       "      <td>NaN</td>\n",
       "      <td>NaN</td>\n",
       "      <td>1.0</td>\n",
       "      <td>1.0</td>\n",
       "      <td>0.0</td>\n",
       "      <td>NaN</td>\n",
       "    </tr>\n",
       "    <tr>\n",
       "      <th>2072</th>\n",
       "      <td>4.0</td>\n",
       "      <td>4.0</td>\n",
       "      <td>4.0</td>\n",
       "      <td>4.0</td>\n",
       "      <td>4.0</td>\n",
       "      <td>4.0</td>\n",
       "      <td>4.0</td>\n",
       "      <td>4.0</td>\n",
       "      <td>4.0</td>\n",
       "      <td>4.0</td>\n",
       "      <td>...</td>\n",
       "      <td>NaN</td>\n",
       "      <td>NaN</td>\n",
       "      <td>NaN</td>\n",
       "      <td>NaN</td>\n",
       "      <td>NaN</td>\n",
       "      <td>NaN</td>\n",
       "      <td>1.0</td>\n",
       "      <td>0.0</td>\n",
       "      <td>0.0</td>\n",
       "      <td>NaN</td>\n",
       "    </tr>\n",
       "    <tr>\n",
       "      <th>...</th>\n",
       "      <td>...</td>\n",
       "      <td>...</td>\n",
       "      <td>...</td>\n",
       "      <td>...</td>\n",
       "      <td>...</td>\n",
       "      <td>...</td>\n",
       "      <td>...</td>\n",
       "      <td>...</td>\n",
       "      <td>...</td>\n",
       "      <td>...</td>\n",
       "      <td>...</td>\n",
       "      <td>...</td>\n",
       "      <td>...</td>\n",
       "      <td>...</td>\n",
       "      <td>...</td>\n",
       "      <td>...</td>\n",
       "      <td>...</td>\n",
       "      <td>...</td>\n",
       "      <td>...</td>\n",
       "      <td>...</td>\n",
       "      <td>...</td>\n",
       "    </tr>\n",
       "    <tr>\n",
       "      <th>96062</th>\n",
       "      <td>NaN</td>\n",
       "      <td>NaN</td>\n",
       "      <td>4.0</td>\n",
       "      <td>4.0</td>\n",
       "      <td>0.0</td>\n",
       "      <td>NaN</td>\n",
       "      <td>NaN</td>\n",
       "      <td>NaN</td>\n",
       "      <td>NaN</td>\n",
       "      <td>NaN</td>\n",
       "      <td>...</td>\n",
       "      <td>NaN</td>\n",
       "      <td>NaN</td>\n",
       "      <td>NaN</td>\n",
       "      <td>NaN</td>\n",
       "      <td>NaN</td>\n",
       "      <td>NaN</td>\n",
       "      <td>1.0</td>\n",
       "      <td>0.0</td>\n",
       "      <td>NaN</td>\n",
       "      <td>NaN</td>\n",
       "    </tr>\n",
       "    <tr>\n",
       "      <th>96098</th>\n",
       "      <td>NaN</td>\n",
       "      <td>NaN</td>\n",
       "      <td>4.0</td>\n",
       "      <td>3.0</td>\n",
       "      <td>3.0</td>\n",
       "      <td>3.0</td>\n",
       "      <td>3.0</td>\n",
       "      <td>4.0</td>\n",
       "      <td>4.0</td>\n",
       "      <td>4.0</td>\n",
       "      <td>...</td>\n",
       "      <td>NaN</td>\n",
       "      <td>NaN</td>\n",
       "      <td>NaN</td>\n",
       "      <td>NaN</td>\n",
       "      <td>NaN</td>\n",
       "      <td>NaN</td>\n",
       "      <td>0.0</td>\n",
       "      <td>NaN</td>\n",
       "      <td>NaN</td>\n",
       "      <td>NaN</td>\n",
       "    </tr>\n",
       "    <tr>\n",
       "      <th>96186</th>\n",
       "      <td>NaN</td>\n",
       "      <td>NaN</td>\n",
       "      <td>NaN</td>\n",
       "      <td>4.0</td>\n",
       "      <td>0.0</td>\n",
       "      <td>NaN</td>\n",
       "      <td>NaN</td>\n",
       "      <td>NaN</td>\n",
       "      <td>NaN</td>\n",
       "      <td>NaN</td>\n",
       "      <td>...</td>\n",
       "      <td>NaN</td>\n",
       "      <td>NaN</td>\n",
       "      <td>NaN</td>\n",
       "      <td>NaN</td>\n",
       "      <td>NaN</td>\n",
       "      <td>NaN</td>\n",
       "      <td>NaN</td>\n",
       "      <td>NaN</td>\n",
       "      <td>NaN</td>\n",
       "      <td>NaN</td>\n",
       "    </tr>\n",
       "    <tr>\n",
       "      <th>96681</th>\n",
       "      <td>4.0</td>\n",
       "      <td>3.0</td>\n",
       "      <td>4.0</td>\n",
       "      <td>3.0</td>\n",
       "      <td>4.0</td>\n",
       "      <td>4.0</td>\n",
       "      <td>4.0</td>\n",
       "      <td>NaN</td>\n",
       "      <td>NaN</td>\n",
       "      <td>NaN</td>\n",
       "      <td>...</td>\n",
       "      <td>NaN</td>\n",
       "      <td>NaN</td>\n",
       "      <td>NaN</td>\n",
       "      <td>1.0</td>\n",
       "      <td>NaN</td>\n",
       "      <td>NaN</td>\n",
       "      <td>1.0</td>\n",
       "      <td>0.0</td>\n",
       "      <td>0.0</td>\n",
       "      <td>NaN</td>\n",
       "    </tr>\n",
       "    <tr>\n",
       "      <th>97021</th>\n",
       "      <td>NaN</td>\n",
       "      <td>NaN</td>\n",
       "      <td>NaN</td>\n",
       "      <td>0.0</td>\n",
       "      <td>0.0</td>\n",
       "      <td>0.0</td>\n",
       "      <td>0.0</td>\n",
       "      <td>0.0</td>\n",
       "      <td>0.0</td>\n",
       "      <td>2.0</td>\n",
       "      <td>...</td>\n",
       "      <td>NaN</td>\n",
       "      <td>NaN</td>\n",
       "      <td>NaN</td>\n",
       "      <td>NaN</td>\n",
       "      <td>NaN</td>\n",
       "      <td>NaN</td>\n",
       "      <td>0.0</td>\n",
       "      <td>NaN</td>\n",
       "      <td>NaN</td>\n",
       "      <td>NaN</td>\n",
       "    </tr>\n",
       "  </tbody>\n",
       "</table>\n",
       "<p>333 rows × 11963 columns</p>\n",
       "</div>"
      ],
      "text/plain": [
       "       turnoutUKGeneralW1__Very likely that I will vote  \\\n",
       "1607                                                NaN   \n",
       "1644                                                0.0   \n",
       "1709                                                NaN   \n",
       "2063                                                0.0   \n",
       "2072                                                4.0   \n",
       "...                                                 ...   \n",
       "96062                                               NaN   \n",
       "96098                                               NaN   \n",
       "96186                                               NaN   \n",
       "96681                                               4.0   \n",
       "97021                                               NaN   \n",
       "\n",
       "       turnoutUKGeneralW2__Very likely that I will vote  \\\n",
       "1607                                                NaN   \n",
       "1644                                                0.0   \n",
       "1709                                                NaN   \n",
       "2063                                                0.0   \n",
       "2072                                                4.0   \n",
       "...                                                 ...   \n",
       "96062                                               NaN   \n",
       "96098                                               NaN   \n",
       "96186                                               NaN   \n",
       "96681                                               3.0   \n",
       "97021                                               NaN   \n",
       "\n",
       "       turnoutUKGeneralW3__Very likely that I will vote  \\\n",
       "1607                                                0.0   \n",
       "1644                                                0.0   \n",
       "1709                                                NaN   \n",
       "2063                                                NaN   \n",
       "2072                                                4.0   \n",
       "...                                                 ...   \n",
       "96062                                               4.0   \n",
       "96098                                               4.0   \n",
       "96186                                               NaN   \n",
       "96681                                               4.0   \n",
       "97021                                               NaN   \n",
       "\n",
       "       turnoutUKGeneralW4__Very likely that I will vote  \\\n",
       "1607                                                0.0   \n",
       "1644                                                0.0   \n",
       "1709                                                3.0   \n",
       "2063                                                0.0   \n",
       "2072                                                4.0   \n",
       "...                                                 ...   \n",
       "96062                                               4.0   \n",
       "96098                                               3.0   \n",
       "96186                                               4.0   \n",
       "96681                                               3.0   \n",
       "97021                                               0.0   \n",
       "\n",
       "       turnoutUKGeneralW5__Very likely that I will vote  \\\n",
       "1607                                                0.0   \n",
       "1644                                                0.0   \n",
       "1709                                                3.0   \n",
       "2063                                                0.0   \n",
       "2072                                                4.0   \n",
       "...                                                 ...   \n",
       "96062                                               0.0   \n",
       "96098                                               3.0   \n",
       "96186                                               0.0   \n",
       "96681                                               4.0   \n",
       "97021                                               0.0   \n",
       "\n",
       "       turnoutUKGeneralW7__Very likely that I will vote  \\\n",
       "1607                                                0.0   \n",
       "1644                                                NaN   \n",
       "1709                                                2.0   \n",
       "2063                                                0.0   \n",
       "2072                                                4.0   \n",
       "...                                                 ...   \n",
       "96062                                               NaN   \n",
       "96098                                               3.0   \n",
       "96186                                               NaN   \n",
       "96681                                               4.0   \n",
       "97021                                               0.0   \n",
       "\n",
       "       turnoutUKGeneralW8__Very likely that I will vote  \\\n",
       "1607                                                0.0   \n",
       "1644                                                0.0   \n",
       "1709                                                4.0   \n",
       "2063                                                0.0   \n",
       "2072                                                4.0   \n",
       "...                                                 ...   \n",
       "96062                                               NaN   \n",
       "96098                                               3.0   \n",
       "96186                                               NaN   \n",
       "96681                                               4.0   \n",
       "97021                                               0.0   \n",
       "\n",
       "       turnoutUKGeneralW9__Very likely that I will vote  \\\n",
       "1607                                                0.0   \n",
       "1644                                                0.0   \n",
       "1709                                                NaN   \n",
       "2063                                                0.0   \n",
       "2072                                                4.0   \n",
       "...                                                 ...   \n",
       "96062                                               NaN   \n",
       "96098                                               4.0   \n",
       "96186                                               NaN   \n",
       "96681                                               NaN   \n",
       "97021                                               0.0   \n",
       "\n",
       "       turnoutUKGeneralW10__Very likely that I will vote  \\\n",
       "1607                                                 0.0   \n",
       "1644                                                 0.0   \n",
       "1709                                                 NaN   \n",
       "2063                                                 NaN   \n",
       "2072                                                 4.0   \n",
       "...                                                  ...   \n",
       "96062                                                NaN   \n",
       "96098                                                4.0   \n",
       "96186                                                NaN   \n",
       "96681                                                NaN   \n",
       "97021                                                0.0   \n",
       "\n",
       "       turnoutUKGeneralW11__Very likely that I will vote  ...  \\\n",
       "1607                                                 NaN  ...   \n",
       "1644                                                 0.0  ...   \n",
       "1709                                                 3.0  ...   \n",
       "2063                                                 NaN  ...   \n",
       "2072                                                 4.0  ...   \n",
       "...                                                  ...  ...   \n",
       "96062                                                NaN  ...   \n",
       "96098                                                4.0  ...   \n",
       "96186                                                NaN  ...   \n",
       "96681                                                NaN  ...   \n",
       "97021                                                2.0  ...   \n",
       "\n",
       "       conPriorities2_schoolW4_Yes  conPriorities2_nhsW4_Yes  \\\n",
       "1607                           NaN                       NaN   \n",
       "1644                           NaN                       NaN   \n",
       "1709                           NaN                       NaN   \n",
       "2063                           NaN                       NaN   \n",
       "2072                           NaN                       NaN   \n",
       "...                            ...                       ...   \n",
       "96062                          NaN                       NaN   \n",
       "96098                          NaN                       NaN   \n",
       "96186                          NaN                       NaN   \n",
       "96681                          NaN                       NaN   \n",
       "97021                          NaN                       NaN   \n",
       "\n",
       "       conPriorities2_costLiveW4_Yes  \\\n",
       "1607                             NaN   \n",
       "1644                             NaN   \n",
       "1709                             NaN   \n",
       "2063                             NaN   \n",
       "2072                             NaN   \n",
       "...                              ...   \n",
       "96062                            NaN   \n",
       "96098                            NaN   \n",
       "96186                            NaN   \n",
       "96681                            NaN   \n",
       "97021                            NaN   \n",
       "\n",
       "       devoResponsibleWalesJusticeW2_The UK Parliament  \\\n",
       "1607                                               NaN   \n",
       "1644                                               NaN   \n",
       "1709                                               NaN   \n",
       "2063                                               NaN   \n",
       "2072                                               NaN   \n",
       "...                                                ...   \n",
       "96062                                              NaN   \n",
       "96098                                              NaN   \n",
       "96186                                              NaN   \n",
       "96681                                              1.0   \n",
       "97021                                              NaN   \n",
       "\n",
       "       conPriorities2_immigW4_Yes  conPriorities2_crimeW4_Yes  \\\n",
       "1607                          NaN                         NaN   \n",
       "1644                          NaN                         NaN   \n",
       "1709                          NaN                         NaN   \n",
       "2063                          NaN                         NaN   \n",
       "2072                          NaN                         NaN   \n",
       "...                           ...                         ...   \n",
       "96062                         NaN                         NaN   \n",
       "96098                         NaN                         NaN   \n",
       "96186                         NaN                         NaN   \n",
       "96681                         NaN                         NaN   \n",
       "97021                         NaN                         NaN   \n",
       "\n",
       "       sharedContentOnline_1W5_Yes  partySiteOthW5_Yes  euCitizenW1_Yes  \\\n",
       "1607                           NaN                 NaN              NaN   \n",
       "1644                           NaN                 NaN              0.0   \n",
       "1709                           0.0                 NaN              NaN   \n",
       "2063                           1.0                 1.0              0.0   \n",
       "2072                           1.0                 0.0              0.0   \n",
       "...                            ...                 ...              ...   \n",
       "96062                          1.0                 0.0              NaN   \n",
       "96098                          0.0                 NaN              NaN   \n",
       "96186                          NaN                 NaN              NaN   \n",
       "96681                          1.0                 0.0              0.0   \n",
       "97021                          0.0                 NaN              NaN   \n",
       "\n",
       "       conPriorities2_natsecW4_Yes  \n",
       "1607                           NaN  \n",
       "1644                           0.0  \n",
       "1709                           NaN  \n",
       "2063                           NaN  \n",
       "2072                           NaN  \n",
       "...                            ...  \n",
       "96062                          NaN  \n",
       "96098                          NaN  \n",
       "96186                          NaN  \n",
       "96681                          NaN  \n",
       "97021                          NaN  \n",
       "\n",
       "[333 rows x 11963 columns]"
      ]
     },
     "execution_count": 42,
     "metadata": {},
     "output_type": "execute_result"
    }
   ],
   "source": [
    "df"
   ]
  },
  {
   "cell_type": "code",
   "execution_count": 122,
   "metadata": {},
   "outputs": [],
   "source": []
  },
  {
   "cell_type": "code",
   "execution_count": 488,
   "metadata": {},
   "outputs": [
    {
     "data": {
      "text/plain": [
       "Unknown                                     60988\n",
       "Did not vote                                 8197\n",
       "United Kingdom Independence Party (UKIP)     6365\n",
       "Too Young To Vote                            5258\n",
       "Labour                                       5074\n",
       "Conservative                                 3899\n",
       "Green Party                                  2521\n",
       "Scottish National Party (SNP)                1443\n",
       "Liberal Democrat                             1379\n",
       "Not Present                                   629\n",
       "Other                                         565\n",
       "Plaid Cymru                                   437\n",
       "Don't know                                    308\n",
       "British National Party (BNP)                   95\n",
       "Name: 2014EEVote_complete, dtype: int64"
      ]
     },
     "execution_count": 488,
     "metadata": {},
     "output_type": "execute_result"
    }
   ],
   "source": [
    "pan_dataset_votes[\"2014EEVote\"+\"_complete\"].value_counts(dropna=False)"
   ]
  },
  {
   "cell_type": "code",
   "execution_count": null,
   "metadata": {},
   "outputs": [],
   "source": []
  },
  {
   "cell_type": "code",
   "execution_count": 489,
   "metadata": {},
   "outputs": [
    {
     "data": {
      "text/plain": [
       "Unknown                                     58536\n",
       "Did not vote                                12034\n",
       "Brexit Party                                 9229\n",
       "Liberal Democrat                             5369\n",
       "Green Party                                  3517\n",
       "Labour                                       2510\n",
       "Conservative                                 1715\n",
       "Scottish National Party (SNP)                 945\n",
       "Change UK- The Independent Group              882\n",
       "Not Present                                   629\n",
       "Other                                         526\n",
       "United Kingdom Independence Party (UKIP)      399\n",
       "Don't know                                    379\n",
       "Plaid Cymru                                   294\n",
       "Too Young To Vote                             194\n",
       "Name: 2019EEVote_complete, dtype: int64"
      ]
     },
     "execution_count": 489,
     "metadata": {},
     "output_type": "execute_result"
    }
   ],
   "source": [
    "pan_dataset_votes[\"2019EEVote\"+\"_complete\"].value_counts(dropna=False)"
   ]
  },
  {
   "cell_type": "code",
   "execution_count": null,
   "metadata": {},
   "outputs": [],
   "source": []
  },
  {
   "cell_type": "code",
   "execution_count": 469,
   "metadata": {},
   "outputs": [
    {
     "data": {
      "text/plain": [
       "Unknown                                     25473\n",
       "Too Young To Vote                           19789\n",
       "Labour                                      15323\n",
       "Conservative                                11666\n",
       "Liberal Democrat                             9423\n",
       "Did not vote                                 4783\n",
       "Scottish National Party                      3792\n",
       "Other                                        1770\n",
       "Don't know                                   1692\n",
       "United Kingdom Independence Party (UKIP)      684\n",
       "Not Present                                   629\n",
       "Plaid Cymru                                   625\n",
       "Green Party                                   614\n",
       "British National Party (BNP)                  505\n",
       "Ambiguous category                            283\n",
       "Respect                                       104\n",
       "Veritas                                         3\n",
       "Name: 2005GEVote_complete, dtype: int64"
      ]
     },
     "execution_count": 469,
     "metadata": {},
     "output_type": "execute_result"
    }
   ],
   "source": [
    "pan_dataset_votes[\"2005GEVote_complete\"].value_counts(dropna=False)"
   ]
  },
  {
   "cell_type": "code",
   "execution_count": 470,
   "metadata": {},
   "outputs": [
    {
     "data": {
      "text/plain": [
       "Unknown                                     23666\n",
       "Labour                                      16448\n",
       "Conservative                                14808\n",
       "Liberal Democrat                            12653\n",
       "Too Young To Vote                           11716\n",
       "Scottish National Party                      6067\n",
       "Did not vote                                 4436\n",
       "Other                                        1376\n",
       "United Kingdom Independence Party (UKIP)     1211\n",
       "Don't know                                    925\n",
       "British National Party (BNP)                  841\n",
       "Plaid Cymru                                   800\n",
       "Ambiguous category                            728\n",
       "Green Party                                   663\n",
       "Not Present                                   629\n",
       "Respect                                       191\n",
       "Name: 2010GEVote_complete, dtype: int64"
      ]
     },
     "execution_count": 470,
     "metadata": {},
     "output_type": "execute_result"
    }
   ],
   "source": [
    "pan_dataset_votes[\"2010GEVote_complete\"].value_counts(dropna=False)"
   ]
  },
  {
   "cell_type": "code",
   "execution_count": 471,
   "metadata": {},
   "outputs": [
    {
     "data": {
      "text/plain": [
       "Conservative                                23223\n",
       "Labour                                      21820\n",
       "Unknown                                     12616\n",
       "Did not vote                                10971\n",
       "United Kingdom Independence Party (UKIP)     7424\n",
       "Liberal Democrat                             5950\n",
       "Green Party                                  3817\n",
       "Scottish National Party (SNP)                3813\n",
       "Too Young To Vote                            3005\n",
       "Don't know                                   2206\n",
       "Other                                        1084\n",
       "Not Present                                   629\n",
       "Plaid Cymru                                   535\n",
       "British National Party (BNP)                   65\n",
       "Name: 2015GEVote_complete, dtype: int64"
      ]
     },
     "execution_count": 471,
     "metadata": {},
     "output_type": "execute_result"
    }
   ],
   "source": [
    "pan_dataset_votes[\"2015GEVote_complete\"].value_counts(dropna=False)"
   ]
  },
  {
   "cell_type": "code",
   "execution_count": 472,
   "metadata": {},
   "outputs": [
    {
     "data": {
      "text/plain": [
       "Unknown                                     26009\n",
       "Conservative                                23716\n",
       "Labour                                      23624\n",
       "Did not vote                                 8975\n",
       "Liberal Democrat                             5245\n",
       "Scottish National Party (SNP)                2515\n",
       "United Kingdom Independence Party (UKIP)     1482\n",
       "Too Young To Vote                            1403\n",
       "Green Party                                  1274\n",
       "Don't know                                   1173\n",
       "Other                                         716\n",
       "Not Present                                   629\n",
       "Plaid Cymru                                   396\n",
       "British National Party (BNP)                    1\n",
       "Name: 2017GEVote_complete, dtype: int64"
      ]
     },
     "execution_count": 472,
     "metadata": {},
     "output_type": "execute_result"
    }
   ],
   "source": [
    "pan_dataset_votes[\"2017GEVote_complete\"].value_counts(dropna=False)"
   ]
  },
  {
   "cell_type": "code",
   "execution_count": 473,
   "metadata": {},
   "outputs": [
    {
     "data": {
      "text/plain": [
       "NaN                                         65715\n",
       "Conservative                                12666\n",
       "Labour                                       8244\n",
       "Liberal Democrat                             3579\n",
       "Did not vote                                 3159\n",
       "Scottish National Party (SNP)                1249\n",
       "Green Party                                   858\n",
       "Brexit Party                                  722\n",
       "Other                                         553\n",
       "Don't know                                    231\n",
       "Plaid Cymru                                   182\n",
       "United Kingdom Independence Party (UKIP)        0\n",
       "Too Young To Vote                               0\n",
       "Name: 2019GEVote, dtype: int64"
      ]
     },
     "execution_count": 473,
     "metadata": {},
     "output_type": "execute_result"
    }
   ],
   "source": [
    "pan_dataset_votes[\"2019GEVote\"].value_counts(dropna=False)"
   ]
  },
  {
   "cell_type": "code",
   "execution_count": 474,
   "metadata": {},
   "outputs": [
    {
     "data": {
      "text/plain": [
       "Unknown                                     64352\n",
       "Conservative                                12890\n",
       "Labour                                       8453\n",
       "Liberal Democrat                             3648\n",
       "Did not vote                                 3159\n",
       "Scottish National Party (SNP)                1281\n",
       "Green Party                                   894\n",
       "Brexit Party                                  746\n",
       "Not Present                                   629\n",
       "Other                                         603\n",
       "Don't know                                    317\n",
       "Plaid Cymru                                   183\n",
       "United Kingdom Independence Party (UKIP)        3\n",
       "Too Young To Vote                               0\n",
       "Name: 2019GEVote_complete, dtype: int64"
      ]
     },
     "execution_count": 474,
     "metadata": {},
     "output_type": "execute_result"
    }
   ],
   "source": [
    "pan_dataset_votes[\"2019GEVote_complete\"].value_counts(dropna=False)"
   ]
  },
  {
   "cell_type": "code",
   "execution_count": 490,
   "metadata": {},
   "outputs": [
    {
     "data": {
      "text/plain": [
       "array(['Plaid Cymru', 'British National Party (BNP)', 'Labour',\n",
       "       'Brexit Party', 'Leave the EU',\n",
       "       'United Kingdom Independence Party (UKIP)', 'Conservative',\n",
       "       'Stay/remain in the EU', 'Did not vote', 'Unknown', \"Don't know\",\n",
       "       'Too Young To Vote', 'Liberal Democrat', 'Scottish National Party',\n",
       "       'Other', 'Green Party', 'Ambiguous category',\n",
       "       'Scottish National Party (SNP)', 'Respect',\n",
       "       'Change UK- The Independent Group', 'Not Present', 'Veritas'],\n",
       "      dtype=object)"
      ]
     },
     "execution_count": 490,
     "metadata": {},
     "output_type": "execute_result"
    }
   ],
   "source": [
    "pan_dataset_votes.stack().unique()"
   ]
  },
  {
   "cell_type": "code",
   "execution_count": 491,
   "metadata": {},
   "outputs": [],
   "source": [
    "pan_dataset_votes.to_pickle(BES_small_data_files + \"pan_dataset_votes\"+\".zip\", compression='zip')"
   ]
  },
  {
   "cell_type": "code",
   "execution_count": 383,
   "metadata": {},
   "outputs": [
    {
     "data": {
      "text/plain": [
       "euroTurnoutW1          30542\n",
       "euroTurnoutRetroW2     30262\n",
       "euroTurnoutRetroW16    37959\n",
       "dtype: int64"
      ]
     },
     "execution_count": 383,
     "metadata": {},
     "output_type": "execute_result"
    }
   ],
   "source": [
    "search(BES_Panel,\"euroTurnout\")"
   ]
  },
  {
   "cell_type": "code",
   "execution_count": 381,
   "metadata": {},
   "outputs": [
    {
     "data": {
      "text/plain": [
       "euroElectionVoteW1             30537\n",
       "euroElectionVoteW2             22188\n",
       "euroElectionVoteW16            25837\n",
       "euroElectionVoteNonVoterW16    12122\n",
       "dtype: int64"
      ]
     },
     "execution_count": 381,
     "metadata": {},
     "output_type": "execute_result"
    }
   ],
   "source": [
    "search(BES_Panel,\"euroElection\")"
   ]
  },
  {
   "cell_type": "code",
   "execution_count": 379,
   "metadata": {},
   "outputs": [
    {
     "data": {
      "text/plain": [
       "euRefpastVoteW11        27999\n",
       "euRefpastVoteW12        31173\n",
       "euRefpastVoteW13        28288\n",
       "euRefpastVoteW14         3822\n",
       "euRefpastVoteW15        27007\n",
       "euRefpastVoteW17         2643\n",
       "pastvote_EURefW17       34352\n",
       "pastvote_eup_2019W18    27133\n",
       "pastvote_ge_2019W19     31443\n",
       "pastvote_eup_2019W19    23186\n",
       "dtype: int64"
      ]
     },
     "execution_count": 379,
     "metadata": {},
     "output_type": "execute_result"
    }
   ],
   "source": [
    "search(BES_Panel,\"pastvote\")"
   ]
  },
  {
   "cell_type": "code",
   "execution_count": 306,
   "metadata": {},
   "outputs": [
    {
     "data": {
      "text/plain": [
       "profile_past_vote_2010    65581\n",
       "dtype: int64"
      ]
     },
     "execution_count": 306,
     "metadata": {},
     "output_type": "execute_result"
    }
   ],
   "source": [
    "search(BES_Panel,\"2010\")"
   ]
  },
  {
   "cell_type": "code",
   "execution_count": 340,
   "metadata": {},
   "outputs": [
    {
     "data": {
      "text/plain": [
       "profile_past_vote_2005_I would not vote                                      profile_past_vote_2010_I would not vote\n",
       "profile_past_vote_2005_Conservative                                              profile_past_vote_2010_Conservative\n",
       "profile_past_vote_2005_Labour                                                          profile_past_vote_2010_Labour\n",
       "profile_past_vote_2005_Liberal Democrat                                      profile_past_vote_2010_Liberal Democrat\n",
       "profile_past_vote_2005_Scottish National Party (SNP)               profile_past_vote_2010_Scottish National Party...\n",
       "profile_past_vote_2005_Plaid Cymru                                                profile_past_vote_2010_Plaid Cymru\n",
       "profile_past_vote_2005_United Kingdom Independence Party (UKIP)    profile_past_vote_2010_United Kingdom Independ...\n",
       "profile_past_vote_2005_Green Party                                                profile_past_vote_2010_Green Party\n",
       "profile_past_vote_2005_British National Party (BNP)                profile_past_vote_2010_British National Party ...\n",
       "profile_past_vote_2005_Other                                                            profile_past_vote_2010_Other\n",
       "profile_past_vote_2005_10.0                                                              profile_past_vote_2010_10.0\n",
       "profile_past_vote_2005_Change UK- The Independent Group            profile_past_vote_2010_Scottish National Party...\n",
       "profile_past_vote_2005_Brexit Party                                profile_past_vote_2010_Change UK- The Independ...\n",
       "profile_past_vote_2005_An independent candidate                                  profile_past_vote_2010_Brexit Party\n",
       "profile_past_vote_2005_Don't know                                                  profile_past_vote_2010_Don't know\n",
       "profile_past_vote_2010_I would not vote                                      profile_past_vote_2010_I would not vote\n",
       "profile_past_vote_2010_Conservative                                              profile_past_vote_2010_Conservative\n",
       "profile_past_vote_2010_Labour                                                          profile_past_vote_2010_Labour\n",
       "profile_past_vote_2010_Liberal Democrat                                      profile_past_vote_2010_Liberal Democrat\n",
       "profile_past_vote_2010_Scottish National Party (SNP)               profile_past_vote_2010_Scottish National Party...\n",
       "profile_past_vote_2010_Plaid Cymru                                                profile_past_vote_2010_Plaid Cymru\n",
       "profile_past_vote_2010_United Kingdom Independence Party (UKIP)    profile_past_vote_2010_United Kingdom Independ...\n",
       "profile_past_vote_2010_Green Party                                                profile_past_vote_2010_Green Party\n",
       "profile_past_vote_2010_British National Party (BNP)                profile_past_vote_2010_British National Party ...\n",
       "profile_past_vote_2010_Other                                                            profile_past_vote_2010_Other\n",
       "profile_past_vote_2010_10.0                                                              profile_past_vote_2010_10.0\n",
       "profile_past_vote_2010_Change UK- The Independent Group            profile_past_vote_2010_Change UK- The Independ...\n",
       "profile_past_vote_2010_Brexit Party                                              profile_past_vote_2010_Brexit Party\n",
       "profile_past_vote_2010_Don't know                                                  profile_past_vote_2010_Don't know\n",
       "profile_past_vote_2015_Conservative                                              profile_past_vote_2010_Conservative\n",
       "profile_past_vote_2015_Labour                                                profile_past_vote_2010_Liberal Democrat\n",
       "profile_past_vote_2015_Liberal Democrat                            profile_past_vote_2010_Scottish National Party...\n",
       "profile_past_vote_2015_Scottish National Party (SNP)               profile_past_vote_2010_Scottish National Party...\n",
       "profile_past_vote_2015_Plaid Cymru                                                profile_past_vote_2010_Plaid Cymru\n",
       "profile_past_vote_2015_United Kingdom Independence Party (UKIP)                          profile_past_vote_2010_10.0\n",
       "profile_past_vote_2015_Green Party                                 profile_past_vote_2010_British National Party ...\n",
       "profile_past_vote_2015_British National Party (BNP)                               profile_past_vote_2010_Green Party\n",
       "profile_past_vote_2015_Other                                       profile_past_vote_2010_Change UK- The Independ...\n",
       "profile_past_vote_2015_Don't know                                                profile_past_vote_2010_Brexit Party\n",
       "profile_past_vote_2015_Did not vote                                          profile_past_vote_2010_I would not vote\n",
       "dtype: object"
      ]
     },
     "execution_count": 340,
     "metadata": {},
     "output_type": "execute_result"
    }
   ],
   "source": [
    "corrs = pd.get_dummies(BES_Panel[[\"profile_past_vote_2005\",\"profile_past_vote_2010\",\"profile_past_vote_2015\"]]).corr()\n",
    "corrs[[x for x in corrs.columns if \"profile_past_vote_2010\" in x]].idxmax(axis=1)"
   ]
  },
  {
   "cell_type": "code",
   "execution_count": 359,
   "metadata": {},
   "outputs": [
    {
     "data": {
      "text/html": [
       "['ptvConW1__Very likely', 'ptvLabW1__Very likely', 'ptvLDW1__Very likely', 'ptvSNPW1__Very likely', 'ptvPCW1__Very likely', 'ptvUKIPW1__Very likely', 'ptvGrnW1__Very likely', 'ptvBNPW1__Very likely']"
      ],
      "text/plain": [
       "['ptvConW1__Very likely',\n",
       " 'ptvLabW1__Very likely',\n",
       " 'ptvLDW1__Very likely',\n",
       " 'ptvSNPW1__Very likely',\n",
       " 'ptvPCW1__Very likely',\n",
       " 'ptvUKIPW1__Very likely',\n",
       " 'ptvGrnW1__Very likely',\n",
       " 'ptvBNPW1__Very likely']"
      ]
     },
     "execution_count": 359,
     "metadata": {},
     "output_type": "execute_result"
    }
   ],
   "source": [
    "list(search(BES_reduced_with_na,\"ptv.*W1_\").index)"
   ]
  },
  {
   "cell_type": "code",
   "execution_count": 361,
   "metadata": {},
   "outputs": [
    {
     "data": {
      "text/plain": [
       "ptvConW1__Very likely                                              1.000000\n",
       "ptvLabW1__Very likely                                             -0.439090\n",
       "ptvLDW1__Very likely                                               0.132162\n",
       "ptvSNPW1__Very likely                                             -0.360742\n",
       "ptvPCW1__Very likely                                              -0.167955\n",
       "ptvUKIPW1__Very likely                                             0.235519\n",
       "ptvGrnW1__Very likely                                             -0.215325\n",
       "ptvBNPW1__Very likely                                              0.053291\n",
       "profile_past_vote_2010_I would not vote                           -0.099291\n",
       "profile_past_vote_2010_Conservative                                0.650714\n",
       "profile_past_vote_2010_Labour                                     -0.351950\n",
       "profile_past_vote_2010_Liberal Democrat                           -0.157116\n",
       "profile_past_vote_2010_Scottish National Party (SNP)              -0.135695\n",
       "profile_past_vote_2010_Plaid Cymru                                -0.053645\n",
       "profile_past_vote_2010_United Kingdom Independence Party (UKIP)   -0.032252\n",
       "profile_past_vote_2010_Green Party                                -0.059745\n",
       "profile_past_vote_2010_British National Party (BNP)               -0.035024\n",
       "profile_past_vote_2010_Other                                      -0.027092\n",
       "profile_past_vote_2010_10.0                                        0.001033\n",
       "profile_past_vote_2010_Change UK- The Independent Group                 NaN\n",
       "profile_past_vote_2010_Brexit Party                               -0.004362\n",
       "profile_past_vote_2010_Don't know                                 -0.021001\n",
       "Name: ptvConW1__Very likely, dtype: float64"
      ]
     },
     "execution_count": 361,
     "metadata": {},
     "output_type": "execute_result"
    }
   ],
   "source": [
    "corrs['ptvConW1__Very likely', 'ptvLabW1__Very likely',"
   ]
  },
  {
   "cell_type": "code",
   "execution_count": 362,
   "metadata": {},
   "outputs": [
    {
     "data": {
      "text/plain": [
       "ptvConW1__Very likely                                               ptvConW1__Very likely\n",
       "ptvLabW1__Very likely                                               ptvLabW1__Very likely\n",
       "ptvLDW1__Very likely                                                 ptvLDW1__Very likely\n",
       "ptvSNPW1__Very likely                                               ptvSNPW1__Very likely\n",
       "ptvPCW1__Very likely                                                 ptvPCW1__Very likely\n",
       "ptvUKIPW1__Very likely                                             ptvUKIPW1__Very likely\n",
       "ptvGrnW1__Very likely                                               ptvGrnW1__Very likely\n",
       "ptvBNPW1__Very likely                                               ptvBNPW1__Very likely\n",
       "profile_past_vote_2010_I would not vote                             ptvBNPW1__Very likely\n",
       "profile_past_vote_2010_Conservative                                 ptvConW1__Very likely\n",
       "profile_past_vote_2010_Labour                                       ptvLabW1__Very likely\n",
       "profile_past_vote_2010_Liberal Democrat                              ptvLDW1__Very likely\n",
       "profile_past_vote_2010_Scottish National Party (SNP)                ptvSNPW1__Very likely\n",
       "profile_past_vote_2010_Plaid Cymru                                   ptvPCW1__Very likely\n",
       "profile_past_vote_2010_United Kingdom Independence Party (UKIP)    ptvUKIPW1__Very likely\n",
       "profile_past_vote_2010_Green Party                                  ptvGrnW1__Very likely\n",
       "profile_past_vote_2010_British National Party (BNP)                 ptvBNPW1__Very likely\n",
       "profile_past_vote_2010_Other                                       ptvUKIPW1__Very likely\n",
       "profile_past_vote_2010_10.0                                        ptvUKIPW1__Very likely\n",
       "profile_past_vote_2010_Change UK- The Independent Group                               NaN\n",
       "profile_past_vote_2010_Brexit Party                                 ptvBNPW1__Very likely\n",
       "profile_past_vote_2010_Don't know                                   ptvBNPW1__Very likely\n",
       "dtype: object"
      ]
     },
     "execution_count": 362,
     "metadata": {},
     "output_type": "execute_result"
    }
   ],
   "source": [
    "# pd.get_dummies(BES_Panel[\"profile_past_vote_2010\"])\n",
    "corrs= pd.concat([BES_reduced_with_na[search(BES_reduced_with_na,\"ptv.*W1_\").index].astype('float32'),\n",
    "           pd.get_dummies(BES_Panel[[\"profile_past_vote_2010\"]])],axis=1).corr()\n",
    "# corrs\n",
    "corrs[list(search(BES_reduced_with_na,\"ptv.*W1_\").index)].idxmax(axis=1)"
   ]
  },
  {
   "cell_type": "code",
   "execution_count": 363,
   "metadata": {},
   "outputs": [
    {
     "data": {
      "text/plain": [
       "ptvConW1__Very likely                                               ptvConW1__Very likely\n",
       "ptvLabW1__Very likely                                               ptvLabW1__Very likely\n",
       "ptvLDW1__Very likely                                                 ptvLDW1__Very likely\n",
       "ptvSNPW1__Very likely                                               ptvSNPW1__Very likely\n",
       "ptvPCW1__Very likely                                                 ptvPCW1__Very likely\n",
       "ptvUKIPW1__Very likely                                             ptvUKIPW1__Very likely\n",
       "ptvGrnW1__Very likely                                               ptvGrnW1__Very likely\n",
       "ptvBNPW1__Very likely                                               ptvBNPW1__Very likely\n",
       "profile_past_vote_2005_I would not vote                             ptvBNPW1__Very likely\n",
       "profile_past_vote_2005_Conservative                                 ptvConW1__Very likely\n",
       "profile_past_vote_2005_Labour                                       ptvLabW1__Very likely\n",
       "profile_past_vote_2005_Liberal Democrat                              ptvLDW1__Very likely\n",
       "profile_past_vote_2005_Scottish National Party (SNP)                ptvSNPW1__Very likely\n",
       "profile_past_vote_2005_Plaid Cymru                                   ptvPCW1__Very likely\n",
       "profile_past_vote_2005_United Kingdom Independence Party (UKIP)    ptvUKIPW1__Very likely\n",
       "profile_past_vote_2005_Green Party                                  ptvGrnW1__Very likely\n",
       "profile_past_vote_2005_British National Party (BNP)                 ptvBNPW1__Very likely\n",
       "profile_past_vote_2005_Other                                       ptvUKIPW1__Very likely\n",
       "profile_past_vote_2005_10.0                                        ptvUKIPW1__Very likely\n",
       "profile_past_vote_2005_Change UK- The Independent Group                               NaN\n",
       "profile_past_vote_2005_Brexit Party                                 ptvBNPW1__Very likely\n",
       "profile_past_vote_2005_An independent candidate                     ptvSNPW1__Very likely\n",
       "profile_past_vote_2005_Don't know                                   ptvBNPW1__Very likely\n",
       "dtype: object"
      ]
     },
     "execution_count": 363,
     "metadata": {},
     "output_type": "execute_result"
    }
   ],
   "source": [
    "# pd.get_dummies(BES_Panel[\"profile_past_vote_2010\"])\n",
    "corrs= pd.concat([BES_reduced_with_na[search(BES_reduced_with_na,\"ptv.*W1_\").index].astype('float32'),\n",
    "           pd.get_dummies(BES_Panel[[\"profile_past_vote_2005\"]])],axis=1).corr()\n",
    "# corrs\n",
    "corrs[list(search(BES_reduced_with_na,\"ptv.*W1_\").index)].idxmax(axis=1)"
   ]
  },
  {
   "cell_type": "code",
   "execution_count": 364,
   "metadata": {},
   "outputs": [
    {
     "data": {
      "text/plain": [
       "ptvConW5__Very likely                                               ptvConW5__Very likely\n",
       "ptvLabW5__Very likely                                               ptvLabW5__Very likely\n",
       "ptvLDW5__Very likely                                                 ptvLDW5__Very likely\n",
       "ptvSNPW5__Very likely                                               ptvSNPW5__Very likely\n",
       "ptvPCW5__Very likely                                                 ptvPCW5__Very likely\n",
       "ptvUKIPW5__Very likely                                             ptvUKIPW5__Very likely\n",
       "ptvGrnW5__Very likely                                               ptvGrnW5__Very likely\n",
       "ptvBNPW5__Very likely                                               ptvBNPW5__Very likely\n",
       "profile_past_vote_2015_Conservative                                 ptvConW5__Very likely\n",
       "profile_past_vote_2015_Labour                                       ptvLabW5__Very likely\n",
       "profile_past_vote_2015_Liberal Democrat                              ptvLDW5__Very likely\n",
       "profile_past_vote_2015_Scottish National Party (SNP)                ptvSNPW5__Very likely\n",
       "profile_past_vote_2015_Plaid Cymru                                   ptvPCW5__Very likely\n",
       "profile_past_vote_2015_United Kingdom Independence Party (UKIP)    ptvUKIPW5__Very likely\n",
       "profile_past_vote_2015_Green Party                                  ptvGrnW5__Very likely\n",
       "profile_past_vote_2015_British National Party (BNP)                 ptvBNPW5__Very likely\n",
       "profile_past_vote_2015_Other                                        ptvGrnW5__Very likely\n",
       "profile_past_vote_2015_Don't know                                  ptvUKIPW5__Very likely\n",
       "profile_past_vote_2015_Did not vote                                 ptvBNPW5__Very likely\n",
       "dtype: object"
      ]
     },
     "execution_count": 364,
     "metadata": {},
     "output_type": "execute_result"
    }
   ],
   "source": [
    "# pd.get_dummies(BES_Panel[\"profile_past_vote_2010\"])\n",
    "corrs= pd.concat([BES_reduced_with_na[search(BES_reduced_with_na,\"ptv.*W5_\").index].astype('float32'),\n",
    "           pd.get_dummies(BES_Panel[[\"profile_past_vote_2015\"]])],axis=1).corr()\n",
    "# corrs\n",
    "corrs[list(search(BES_reduced_with_na,\"ptv.*W5_\").index)].idxmax(axis=1)"
   ]
  },
  {
   "cell_type": "code",
   "execution_count": null,
   "metadata": {},
   "outputs": [],
   "source": [
    "corrs = pd.get_dummies(BES_Panel[[\"profile_past_vote_2005\",\"profile_past_vote_2010\",\"profile_past_vote_2015\",]]).corr()\n",
    "corrs[[x for x in corrs.columns if \"profile_past_vote_2010\" in x]].idxmax(axis=1)"
   ]
  },
  {
   "cell_type": "code",
   "execution_count": 365,
   "metadata": {},
   "outputs": [
    {
     "data": {
      "text/plain": [
       "Conservative                                17934\n",
       "Labour                                      16643\n",
       "Liberal Democrat                            12853\n",
       "Scottish National Party (SNP)                6158\n",
       "I would not vote                             5001\n",
       "United Kingdom Independence Party (UKIP)     1220\n",
       "Brexit Party                                 1126\n",
       "Don't know                                    952\n",
       "British National Party (BNP)                  868\n",
       "Plaid Cymru                                   829\n",
       "10.0                                          741\n",
       "Green Party                                   686\n",
       "Other                                         371\n",
       "Change UK- The Independent Group              199\n",
       "Name: profile_past_vote_2010, dtype: int64"
      ]
     },
     "execution_count": 365,
     "metadata": {},
     "output_type": "execute_result"
    }
   ],
   "source": [
    "BES_Panel[\"profile_past_vote_2010\"].value_counts()"
   ]
  },
  {
   "cell_type": "code",
   "execution_count": 366,
   "metadata": {},
   "outputs": [
    {
     "data": {
      "text/plain": [
       "Conservative                                16407\n",
       "Labour                                      15435\n",
       "Liberal Democrat                             9582\n",
       "I would not vote                             4791\n",
       "Scottish National Party (SNP)                3857\n",
       "Don't know                                   1694\n",
       "An independent candidate                     1611\n",
       "United Kingdom Independence Party (UKIP)      691\n",
       "Plaid Cymru                                   647\n",
       "Green Party                                   622\n",
       "British National Party (BNP)                  523\n",
       "Other                                         357\n",
       "10.0                                          295\n",
       "Brexit Party                                  116\n",
       "Change UK- The Independent Group                3\n",
       "Name: profile_past_vote_2005, dtype: int64"
      ]
     },
     "execution_count": 366,
     "metadata": {},
     "output_type": "execute_result"
    }
   ],
   "source": [
    "BES_Panel[\"profile_past_vote_2005\"].value_counts()\n",
    "Change UK- The Independent Group                3 -> veritas?\n",
    "Brexit Party                                  116 -> respect"
   ]
  },
  {
   "cell_type": "code",
   "execution_count": 368,
   "metadata": {},
   "outputs": [
    {
     "data": {
      "text/plain": [
       "Index([                        'I would not vote',\n",
       "                                   'Conservative',\n",
       "                                         'Labour',\n",
       "                               'Liberal Democrat',\n",
       "                  'Scottish National Party (SNP)',\n",
       "                                    'Plaid Cymru',\n",
       "       'United Kingdom Independence Party (UKIP)',\n",
       "                                    'Green Party',\n",
       "                   'British National Party (BNP)',\n",
       "                                          'Other',\n",
       "                                             10.0,\n",
       "               'Change UK- The Independent Group',\n",
       "                                   'Brexit Party',\n",
       "                                     'Don't know'],\n",
       "      dtype='object')"
      ]
     },
     "execution_count": 368,
     "metadata": {},
     "output_type": "execute_result"
    }
   ],
   "source": [
    "BES_Panel[\"profile_past_vote_2010\"].cat.categories"
   ]
  },
  {
   "cell_type": "code",
   "execution_count": 367,
   "metadata": {},
   "outputs": [
    {
     "data": {
      "text/plain": [
       "Index([                        'I would not vote',\n",
       "                                   'Conservative',\n",
       "                                         'Labour',\n",
       "                               'Liberal Democrat',\n",
       "                  'Scottish National Party (SNP)',\n",
       "                                    'Plaid Cymru',\n",
       "       'United Kingdom Independence Party (UKIP)',\n",
       "                                    'Green Party',\n",
       "                   'British National Party (BNP)',\n",
       "                                          'Other',\n",
       "                                             10.0,\n",
       "               'Change UK- The Independent Group',\n",
       "                                   'Brexit Party',\n",
       "                       'An independent candidate',\n",
       "                                     'Don't know'],\n",
       "      dtype='object')"
      ]
     },
     "execution_count": 367,
     "metadata": {},
     "output_type": "execute_result"
    }
   ],
   "source": [
    "BES_Panel[\"profile_past_vote_2005\"].cat.categories"
   ]
  },
  {
   "cell_type": "code",
   "execution_count": 370,
   "metadata": {},
   "outputs": [
    {
     "data": {
      "text/plain": [
       "Conservative Party                          16407\n",
       "Labour Party                                15435\n",
       "Liberal Democrats                            9582\n",
       "Did not vote                                 4791\n",
       "Scottish National Party                      3857\n",
       "Don't know                                   1694\n",
       "An independent candidate                     1611\n",
       "United Kingdom Independence Party (UKIP)      691\n",
       "Plaid Cymru                                   647\n",
       "Green Party                                   622\n",
       "British National Party (BNP)                  523\n",
       "Some other party                              357\n",
       "Ambiguous category                            295\n",
       "Respect                                       116\n",
       "Veritas                                         3\n",
       "Name: profile_past_vote_2005, dtype: int64"
      ]
     },
     "execution_count": 370,
     "metadata": {},
     "output_type": "execute_result"
    }
   ],
   "source": [
    "BES_Panel[\"profile_past_vote_2005\"].cat.categories\n",
    "replace_dict = {'I would not vote':'Did not vote',\n",
    "                'Conservative':'Conservative Party',\n",
    "                'Labour':'Labour Party',\n",
    "                'Liberal Democrat':'Liberal Democrats',\n",
    "                'Scottish National Party (SNP)':'Scottish National Party',\n",
    "                'Plaid Cymru':'Plaid Cymru',\n",
    "                'United Kingdom Independence Party (UKIP)':'United Kingdom Independence Party (UKIP)',\n",
    "                'Green Party':'Green Party',\n",
    "                'British National Party (BNP)':'British National Party (BNP)',\n",
    "                'Other': 'Some other party',\n",
    "                10.0:'Ambiguous category',\n",
    "                'Change UK- The Independent Group':'Veritas',\n",
    "                'Brexit Party':'Respect',\n",
    "                'An independent candidate':'An independent candidate',\n",
    "                \"Don't know\":\"Don't know\",\n",
    "               }\n",
    "BES_Panel[\"profile_past_vote_2005\"].replace(replace_dict)"
   ]
  },
  {
   "cell_type": "code",
   "execution_count": 310,
   "metadata": {},
   "outputs": [
    {
     "data": {
      "text/plain": [
       "Index([                        'I would not vote',\n",
       "                                   'Conservative',\n",
       "                                         'Labour',\n",
       "                               'Liberal Democrat',\n",
       "                  'Scottish National Party (SNP)',\n",
       "                                    'Plaid Cymru',\n",
       "       'United Kingdom Independence Party (UKIP)',\n",
       "                                    'Green Party',\n",
       "                   'British National Party (BNP)',\n",
       "                                          'Other',\n",
       "                                             10.0,\n",
       "               'Change UK- The Independent Group',\n",
       "                                   'Brexit Party',\n",
       "                                     'Don't know'],\n",
       "      dtype='object')"
      ]
     },
     "execution_count": 310,
     "metadata": {},
     "output_type": "execute_result"
    }
   ],
   "source": [
    "BES_Panel[\"profile_past_vote_2010\"].cat.categories\n",
    "replace_dict = {'I would not vote':'Did not vote',\n",
    "                'Conservative':'Conservative Party',\n",
    "                'Labour':'Labour Party',\n",
    "                'Liberal Democrat':'Liberal Democrats',\n",
    "                'Scottish National Party (SNP)':'Scottish National Party',\n",
    "                'Plaid Cymru':'Plaid Cymru',\n",
    "                'United Kingdom Independence Party (UKIP)':'United Kingdom Independence Party (UKIP)',\n",
    "                'Green Party':'Green Party',\n",
    "                'British National Party (BNP)':'British National Party (BNP)',\n",
    "                'Other': 'Some other party',\n",
    "                10.0:'Ambiguous category',\n",
    "                'Change UK- The Independent Group':'Respect',\n",
    "                'Brexit Party':'An independent candidate',\n",
    "                \"Don't know\":\"Don't know\",\n",
    "               }\n",
    "BES_Panel[\"profile_past_vote_2010\"].replace(replace_dict)"
   ]
  },
  {
   "cell_type": "code",
   "execution_count": 315,
   "metadata": {},
   "outputs": [
    {
     "data": {
      "text/plain": [
       "profile_past_vote_2010_Conservative                                59257\n",
       "profile_past_vote_2010_Labour                                      59257\n",
       "profile_past_vote_2010_Liberal Democrat                            59257\n",
       "profile_past_vote_2010_Scottish National Party (SNP)               59257\n",
       "profile_past_vote_2010_United Kingdom Independence Party (UKIP)    59257\n",
       "profile_past_vote_2010_Brexit Party                                59257\n",
       "profile_past_vote_2010_British National Party (BNP)                59257\n",
       "profile_past_vote_2010_Plaid Cymru                                 59257\n",
       "profile_past_vote_2010_10.0                                        59257\n",
       "profile_past_vote_2010_Green Party                                 59257\n",
       "profile_past_vote_2010_Change UK- The Independent Group            59257\n",
       "dtype: int64"
      ]
     },
     "execution_count": 315,
     "metadata": {},
     "output_type": "execute_result"
    }
   ],
   "source": [
    "search(BES_reduced_with_na,\"profile_past_vote_2010\")"
   ]
  },
  {
   "cell_type": "code",
   "execution_count": 330,
   "metadata": {},
   "outputs": [
    {
     "data": {
      "text/plain": [
       "ptvConW1__Very likely    -0.027092\n",
       "ptvLabW1__Very likely    -0.031455\n",
       "ptvLDW1__Very likely     -0.026559\n",
       "ptvSNPW1__Very likely    -0.004223\n",
       "ptvPCW1__Very likely     -0.001329\n",
       "ptvUKIPW1__Very likely    0.010653\n",
       "ptvGrnW1__Very likely     0.004426\n",
       "ptvBNPW1__Very likely     0.005244\n",
       "dtype: float64"
      ]
     },
     "execution_count": 330,
     "metadata": {},
     "output_type": "execute_result"
    }
   ],
   "source": [
    "BES_reduced_with_na[search(BES_reduced_with_na,\"ptv.*W1__\").index].astype('float32').corrwith((BES_Panel[\"profile_past_vote_2010\"]==\"Other\"))"
   ]
  },
  {
   "cell_type": "code",
   "execution_count": null,
   "metadata": {},
   "outputs": [],
   "source": [
    "BES_Panel[ BES_Panel[\"profile_past_vote_2010\"]==\"Change UK- The Independent Group\" ][search(BES_Panel,\"wave\\d+\").index].sum()"
   ]
  },
  {
   "cell_type": "code",
   "execution_count": 325,
   "metadata": {},
   "outputs": [
    {
     "data": {
      "text/plain": [
       "wave1      10\n",
       "wave2       9\n",
       "wave3      14\n",
       "wave4      16\n",
       "wave5      17\n",
       "wave6      13\n",
       "wave7     225\n",
       "wave8     388\n",
       "wave9     325\n",
       "wave10    500\n",
       "wave11    582\n",
       "wave12    730\n",
       "wave13    638\n",
       "wave14    617\n",
       "wave15    494\n",
       "wave16    463\n",
       "wave17    406\n",
       "wave18    419\n",
       "wave19    354\n",
       "dtype: int64"
      ]
     },
     "execution_count": 325,
     "metadata": {},
     "output_type": "execute_result"
    }
   ],
   "source": [
    "BES_Panel[ BES_Panel[\"profile_past_vote_2010\"]==\"Brexit Party\" ][search(BES_Panel,\"wave\\d+\").index].sum()"
   ]
  },
  {
   "cell_type": "code",
   "execution_count": 331,
   "metadata": {
    "scrolled": true
   },
   "outputs": [
    {
     "data": {
      "text/plain": [
       "I would not vote                             5001\n",
       "Conservative                                17934\n",
       "Labour                                      16643\n",
       "Liberal Democrat                            12853\n",
       "Scottish National Party (SNP)                6158\n",
       "Plaid Cymru                                   829\n",
       "United Kingdom Independence Party (UKIP)     1220\n",
       "Green Party                                   686\n",
       "British National Party (BNP)                  868\n",
       "Other                                         371\n",
       "10.0                                          741\n",
       "Change UK- The Independent Group              199\n",
       "Brexit Party                                 1126\n",
       "Don't know                                    952\n",
       "Name: profile_past_vote_2010, dtype: int64"
      ]
     },
     "execution_count": 331,
     "metadata": {},
     "output_type": "execute_result"
    }
   ],
   "source": [
    "BES_Panel[\"profile_past_vote_2010\"].value_counts().sort_index()"
   ]
  },
  {
   "cell_type": "code",
   "execution_count": 332,
   "metadata": {},
   "outputs": [
    {
     "data": {
      "text/plain": [
       "Conservative                                23284\n",
       "Labour                                      21943\n",
       "Liberal Democrat                             5977\n",
       "Scottish National Party (SNP)                3825\n",
       "Plaid Cymru                                   535\n",
       "United Kingdom Independence Party (UKIP)     7434\n",
       "Green Party                                  3835\n",
       "British National Party (BNP)                   66\n",
       "Other                                        1087\n",
       "Don't know                                   2591\n",
       "Did not vote                                12491\n",
       "Name: profile_past_vote_2015, dtype: int64"
      ]
     },
     "execution_count": 332,
     "metadata": {},
     "output_type": "execute_result"
    }
   ],
   "source": [
    "BES_Panel[\"profile_past_vote_2015\"].value_counts().sort_index()"
   ]
  },
  {
   "cell_type": "code",
   "execution_count": 313,
   "metadata": {},
   "outputs": [
    {
     "data": {
      "text/plain": [
       "Conservative                                23284\n",
       "Labour                                      21943\n",
       "Did not vote                                12491\n",
       "United Kingdom Independence Party (UKIP)     7434\n",
       "Liberal Democrat                             5977\n",
       "Green Party                                  3835\n",
       "Scottish National Party (SNP)                3825\n",
       "Don't know                                   2591\n",
       "Other                                        1087\n",
       "Plaid Cymru                                   535\n",
       "British National Party (BNP)                   66\n",
       "Name: profile_past_vote_2015, dtype: int64"
      ]
     },
     "execution_count": 313,
     "metadata": {},
     "output_type": "execute_result"
    }
   ],
   "source": [
    "BES_Panel[\"profile_past_vote_2015\"].value_counts()"
   ]
  },
  {
   "cell_type": "code",
   "execution_count": 314,
   "metadata": {},
   "outputs": [
    {
     "data": {
      "text/plain": [
       "Conservative                                16407\n",
       "Labour                                      15435\n",
       "Liberal Democrat                             9582\n",
       "I would not vote                             4791\n",
       "Scottish National Party (SNP)                3857\n",
       "Don't know                                   1694\n",
       "An independent candidate                     1611\n",
       "United Kingdom Independence Party (UKIP)      691\n",
       "Plaid Cymru                                   647\n",
       "Green Party                                   622\n",
       "British National Party (BNP)                  523\n",
       "Other                                         357\n",
       "10.0                                          295\n",
       "Brexit Party                                  116\n",
       "Change UK- The Independent Group                3\n",
       "Name: profile_past_vote_2005, dtype: int64"
      ]
     },
     "execution_count": 314,
     "metadata": {},
     "output_type": "execute_result"
    }
   ],
   "source": [
    "BES_Panel[\"profile_past_vote_2005\"].value_counts()"
   ]
  },
  {
   "cell_type": "code",
   "execution_count": 268,
   "metadata": {},
   "outputs": [
    {
     "data": {
      "text/html": [
       "<div>\n",
       "<style scoped>\n",
       "    .dataframe tbody tr th:only-of-type {\n",
       "        vertical-align: middle;\n",
       "    }\n",
       "\n",
       "    .dataframe tbody tr th {\n",
       "        vertical-align: top;\n",
       "    }\n",
       "\n",
       "    .dataframe thead th {\n",
       "        text-align: right;\n",
       "    }\n",
       "</style>\n",
       "<table border=\"1\" class=\"dataframe\">\n",
       "  <thead>\n",
       "    <tr style=\"text-align: right;\">\n",
       "      <th>profile_eurefturnout</th>\n",
       "      <th>No, did not vote</th>\n",
       "      <th>Yes, voted</th>\n",
       "      <th>Don't know</th>\n",
       "    </tr>\n",
       "    <tr>\n",
       "      <th>euRefTurnoutW8</th>\n",
       "      <th></th>\n",
       "      <th></th>\n",
       "      <th></th>\n",
       "    </tr>\n",
       "  </thead>\n",
       "  <tbody>\n",
       "    <tr>\n",
       "      <th>Very unlikely that I would vote</th>\n",
       "      <td>599</td>\n",
       "      <td>151</td>\n",
       "      <td>12</td>\n",
       "    </tr>\n",
       "    <tr>\n",
       "      <th>Fairly unlikely</th>\n",
       "      <td>176</td>\n",
       "      <td>149</td>\n",
       "      <td>8</td>\n",
       "    </tr>\n",
       "    <tr>\n",
       "      <th>Neither likely nor unlikely</th>\n",
       "      <td>220</td>\n",
       "      <td>326</td>\n",
       "      <td>22</td>\n",
       "    </tr>\n",
       "    <tr>\n",
       "      <th>Fairly likely</th>\n",
       "      <td>251</td>\n",
       "      <td>1594</td>\n",
       "      <td>20</td>\n",
       "    </tr>\n",
       "    <tr>\n",
       "      <th>Very likely that I would vote</th>\n",
       "      <td>369</td>\n",
       "      <td>23143</td>\n",
       "      <td>43</td>\n",
       "    </tr>\n",
       "    <tr>\n",
       "      <th>Don't know</th>\n",
       "      <td>168</td>\n",
       "      <td>257</td>\n",
       "      <td>56</td>\n",
       "    </tr>\n",
       "  </tbody>\n",
       "</table>\n",
       "</div>"
      ],
      "text/plain": [
       "profile_eurefturnout             No, did not vote  Yes, voted  Don't know\n",
       "euRefTurnoutW8                                                           \n",
       "Very unlikely that I would vote               599         151          12\n",
       "Fairly unlikely                               176         149           8\n",
       "Neither likely nor unlikely                   220         326          22\n",
       "Fairly likely                                 251        1594          20\n",
       "Very likely that I would vote                 369       23143          43\n",
       "Don't know                                    168         257          56"
      ]
     },
     "execution_count": 268,
     "metadata": {},
     "output_type": "execute_result"
    }
   ],
   "source": [
    "pd.crosstab(BES_Panel[\"euRefTurnoutW8\"], BES_Panel[\"profile_eurefturnout\"])"
   ]
  },
  {
   "cell_type": "code",
   "execution_count": 255,
   "metadata": {},
   "outputs": [
    {
     "data": {
      "text/plain": [
       "euRefpastVoteW14                     0\n",
       "euRefDoOverW15                       0\n",
       "euRefVoteW15                         0\n",
       "goodConductEURefW15                  0\n",
       "euRefTurnoutRetroW15                 0\n",
       "euRefpastVoteW15                     0\n",
       "euRefTurnoutRetroW17                 0\n",
       "euRefpastVoteW17                     0\n",
       "euRefpastVoteW13                     0\n",
       "euRefDoOverW10                       0\n",
       "profile_eurefturnout                 0\n",
       "euRefFinalPostW9                     0\n",
       "euRefVoteW9                          0\n",
       "euRefVoteHypotheticalW9              0\n",
       "euRefTurnoutRetroW9                  0\n",
       "goodConductEURefW9                   0\n",
       "euRefVoteW16                         5\n",
       "euRefDoOverW16                       5\n",
       "EUrefsatisfactionControl_1W19       28\n",
       "euRefVotePostW8                    207\n",
       "euRefVoteSqueezeW8                 225\n",
       "euRefVoteW19                       271\n",
       "euRefDoOverW19                     271\n",
       "pastvote_EURefW17                  282\n",
       "euRefVoteW17                       283\n",
       "euRefDoOverW17                     286\n",
       "euRefVoteSqueezeW7                 480\n",
       "euRefVoteW18                       569\n",
       "euRefDoOverW18                     572\n",
       "euRefVote2W8                      1611\n",
       "euRefVoteUnsqueezeW8              1611\n",
       "euRefTurnoutW8                    1611\n",
       "euRefCertaintyW8                  1611\n",
       "euRefInterestW8                   1818\n",
       "euRefFinalW8                      1818\n",
       "euRefExpectationW8                1818\n",
       "euRefVoteW8                       1818\n",
       "expectGoodConductEURefW7          2789\n",
       "euRefFinalW7                      2789\n",
       "euRefTurnoutW7                    2789\n",
       "euRefVoteW7                       2789\n",
       "euRefVoteUnsqueezeW7              2789\n",
       "euRefInterestW7                   2789\n",
       "euRefExpectationW7                2789\n",
       "euRefLA                           3668\n",
       "euRefVoteW6                       5809\n",
       "euRefVoteW3                       6566\n",
       "euRefVoteW4                       6974\n",
       "euRefVoteW2                       7619\n",
       "euRefVoteW1                      10067\n",
       "dtype: int64"
      ]
     },
     "execution_count": 255,
     "metadata": {},
     "output_type": "execute_result"
    }
   ],
   "source": [
    "search(BES_Panel,\"euref\",mask = BES_Panel[\"profile_eurefvote\"].isnull()).sort_values().tail(50)"
   ]
  },
  {
   "cell_type": "code",
   "execution_count": 256,
   "metadata": {},
   "outputs": [
    {
     "data": {
      "text/plain": [
       "Male      135\n",
       "Female    124\n",
       "3.0        19\n",
       "4.0         4\n",
       "Name: pastvote_EURefW17, dtype: int64"
      ]
     },
     "execution_count": 256,
     "metadata": {},
     "output_type": "execute_result"
    }
   ],
   "source": [
    "BES_Panel[\"pastvote_EURefW17\"][BES_Panel[\"profile_eurefvote\"].isnull()].value_counts()"
   ]
  },
  {
   "cell_type": "code",
   "execution_count": 258,
   "metadata": {},
   "outputs": [
    {
     "data": {
      "text/plain": [
       "Stay/remain in the EU    36286\n",
       "Leave the EU             31721\n",
       "Did not vote             10997\n",
       "Don't know                 507\n",
       "Name: profile_eurefvote, dtype: int64"
      ]
     },
     "execution_count": 258,
     "metadata": {},
     "output_type": "execute_result"
    }
   ],
   "source": [
    "BES_Panel[\"profile_eurefvote\"].value_counts()"
   ]
  },
  {
   "cell_type": "code",
   "execution_count": 263,
   "metadata": {},
   "outputs": [
    {
     "data": {
      "text/plain": [
       "Stay/remain in the EU    15266\n",
       "Leave the EU             14843\n",
       "Did not vote              3714\n",
       "Don't know                 529\n",
       "Name: pastvote_EURefW17, dtype: int64"
      ]
     },
     "execution_count": 263,
     "metadata": {},
     "output_type": "execute_result"
    }
   ],
   "source": [
    "BES_Panel[\"pastvote_EURefW17\"].value_counts()\n",
    "replace_dict = {\"Male\":'Stay/remain in the EU',\"Female\":'Leave the EU',3.0:'Did not vote',4.0:\"Don't know\"}\n",
    "BES_Panel[\"pastvote_EURefW17\"].replace(replace_dict).astype('category').cat.set_categories(BES_Panel[\"profile_eurefvote\"].cat.categories)"
   ]
  },
  {
   "cell_type": "code",
   "execution_count": 260,
   "metadata": {},
   "outputs": [
    {
     "data": {
      "text/plain": [
       "Male      14469\n",
       "Female      164\n",
       "3.0          97\n",
       "4.0          57\n",
       "Name: pastvote_EURefW17, dtype: int64"
      ]
     },
     "execution_count": 260,
     "metadata": {},
     "output_type": "execute_result"
    }
   ],
   "source": [
    "BES_Panel[\"pastvote_EURefW17\"][BES_Panel[\"profile_eurefvote\"] == \"Stay/remain in the EU\"].value_counts()"
   ]
  },
  {
   "cell_type": "code",
   "execution_count": 254,
   "metadata": {},
   "outputs": [
    {
     "data": {
      "text/plain": [
       "euRefpastVoteW14                     0\n",
       "euRefDoOverW15                       0\n",
       "euRefVoteW15                         0\n",
       "goodConductEURefW15                  0\n",
       "euRefTurnoutRetroW15                 0\n",
       "euRefpastVoteW15                     0\n",
       "euRefTurnoutRetroW17                 0\n",
       "euRefpastVoteW17                     0\n",
       "euRefpastVoteW13                     0\n",
       "euRefDoOverW10                       0\n",
       "profile_eurefturnout                 0\n",
       "euRefFinalPostW9                     0\n",
       "euRefVoteW9                          0\n",
       "euRefVoteHypotheticalW9              0\n",
       "euRefTurnoutRetroW9                  0\n",
       "goodConductEURefW9                   0\n",
       "euRefVoteW16                         5\n",
       "euRefDoOverW16                       5\n",
       "EUrefsatisfactionControl_1W19       28\n",
       "euRefVotePostW8                    207\n",
       "euRefVoteSqueezeW8                 225\n",
       "euRefVoteW19                       271\n",
       "euRefDoOverW19                     271\n",
       "pastvote_EURefW17                  282\n",
       "euRefVoteW17                       283\n",
       "euRefDoOverW17                     286\n",
       "euRefVoteSqueezeW7                 480\n",
       "euRefVoteW18                       569\n",
       "euRefDoOverW18                     572\n",
       "euRefVote2W8                      1611\n",
       "euRefVoteUnsqueezeW8              1611\n",
       "euRefTurnoutW8                    1611\n",
       "euRefCertaintyW8                  1611\n",
       "euRefInterestW8                   1818\n",
       "euRefFinalW8                      1818\n",
       "euRefExpectationW8                1818\n",
       "euRefVoteW8                       1818\n",
       "expectGoodConductEURefW7          2789\n",
       "euRefFinalW7                      2789\n",
       "euRefTurnoutW7                    2789\n",
       "euRefVoteW7                       2789\n",
       "euRefVoteUnsqueezeW7              2789\n",
       "euRefInterestW7                   2789\n",
       "euRefExpectationW7                2789\n",
       "euRefLA                           3668\n",
       "euRefVoteW6                       5809\n",
       "euRefVoteW3                       6566\n",
       "euRefVoteW4                       6974\n",
       "euRefVoteW2                       7619\n",
       "euRefVoteW1                      10067\n",
       "dtype: int64"
      ]
     },
     "execution_count": 254,
     "metadata": {},
     "output_type": "execute_result"
    }
   ],
   "source": [
    "search(BES_Panel,\"euref\",mask = BES_Panel[\"profile_eurefturnout\"].isnull()).sort_values().tail(50)"
   ]
  },
  {
   "cell_type": "code",
   "execution_count": null,
   "metadata": {},
   "outputs": [],
   "source": [
    "pastvote_EURefW17"
   ]
  },
  {
   "cell_type": "code",
   "execution_count": 248,
   "metadata": {},
   "outputs": [
    {
     "data": {
      "text/plain": [
       "Unknown                                     26037\n",
       "Labour                                      23817\n",
       "Conservative                                23760\n",
       "Did not vote                                10041\n",
       "Liberal Democrat                             5275\n",
       "Scottish National Party (SNP)                2531\n",
       "United Kingdom Independence Party (UKIP)     1484\n",
       "Green Party                                  1285\n",
       "Don't know                                   1179\n",
       "Other                                         723\n",
       "Not Present                                   629\n",
       "Plaid Cymru                                   396\n",
       "British National Party (BNP)                    1\n",
       "Name: 2017GEVote_complete, dtype: int64"
      ]
     },
     "execution_count": 248,
     "metadata": {},
     "output_type": "execute_result"
    }
   ],
   "source": [
    "pan_dataset_votes[\"2017GEVote\"+\"_complete\"].value_counts(dropna=False)"
   ]
  },
  {
   "cell_type": "code",
   "execution_count": 244,
   "metadata": {},
   "outputs": [
    {
     "data": {
      "text/plain": [
       "Did not vote                                666\n",
       "Labour                                       29\n",
       "Conservative                                  7\n",
       "Liberal Democrat                              4\n",
       "Green Party                                   2\n",
       "Scottish National Party (SNP)                 2\n",
       "Don't know                                    1\n",
       "Other                                         1\n",
       "Not Present                                   0\n",
       "British National Party (BNP)                  0\n",
       "United Kingdom Independence Party (UKIP)      0\n",
       "Plaid Cymru                                   0\n",
       "Name: 2017GEVote_complete, dtype: int64"
      ]
     },
     "execution_count": 244,
     "metadata": {},
     "output_type": "execute_result"
    }
   ],
   "source": [
    "pan_dataset_votes[new_vote_var+\"_complete\"][too_young_to_vote].value_counts()"
   ]
  },
  {
   "cell_type": "code",
   "execution_count": 210,
   "metadata": {},
   "outputs": [
    {
     "data": {
      "text/plain": [
       "Conservative                                3422\n",
       "Labour                                      2803\n",
       "Liberal Democrat                             650\n",
       "Scottish National Party (SNP)                316\n",
       "Did not vote                                 289\n",
       "United Kingdom Independence Party (UKIP)     199\n",
       "Green Party                                  154\n",
       "Don't know                                    98\n",
       "Other                                         87\n",
       "Plaid Cymru                                   45\n",
       "British National Party (BNP)                   0\n",
       "Name: profile_past_vote_2017, dtype: int64"
      ]
     },
     "execution_count": 210,
     "metadata": {},
     "output_type": "execute_result"
    }
   ],
   "source": [
    "BES_Panel[\"profile_past_vote_2017\"][BES_Panel[\"generalElectionVoteRetro2017W18\"].notnull()].value_counts()\n"
   ]
  },
  {
   "cell_type": "code",
   "execution_count": 211,
   "metadata": {},
   "outputs": [
    {
     "data": {
      "text/plain": [
       "Conservative                                3478\n",
       "Labour                                      2409\n",
       "Liberal Democrat                             793\n",
       "United Kingdom Independence Party (UKIP)     416\n",
       "Scottish National Party (SNP)                336\n",
       "Don't know                                   236\n",
       "Green Party                                  224\n",
       "Other                                        119\n",
       "Plaid Cymru                                   52\n",
       "Name: generalElectionVoteRetro2017W18, dtype: int64"
      ]
     },
     "execution_count": 211,
     "metadata": {},
     "output_type": "execute_result"
    }
   ],
   "source": [
    "BES_Panel[\"generalElectionVoteRetro2017W18\"].value_counts()"
   ]
  },
  {
   "cell_type": "code",
   "execution_count": 212,
   "metadata": {},
   "outputs": [
    {
     "data": {
      "text/plain": [
       "Conservative                                106\n",
       "Labour                                       73\n",
       "Liberal Democrat                             38\n",
       "United Kingdom Independence Party (UKIP)     34\n",
       "Scottish National Party (SNP)                17\n",
       "Don't know                                   11\n",
       "Other                                         5\n",
       "Green Party                                   4\n",
       "Plaid Cymru                                   1\n",
       "Name: generalElectionVoteRetro2017W18, dtype: int64"
      ]
     },
     "execution_count": 212,
     "metadata": {},
     "output_type": "execute_result"
    }
   ],
   "source": [
    "BES_Panel[\"generalElectionVoteRetro2017W18\"][BES_Panel[\"profile_past_vote_2017\"]==\"Did not vote\"].value_counts()\n"
   ]
  },
  {
   "cell_type": "code",
   "execution_count": 216,
   "metadata": {},
   "outputs": [
    {
     "data": {
      "text/plain": [
       "generalElectionVoteRetro2017W18     8063\n",
       "econGenRetroW1                     30549\n",
       "econGenRetroW2                     30260\n",
       "econGenRetroW3                     27829\n",
       "econGenRetroW4                     31550\n",
       "genElecTurnoutRetroW6              30258\n",
       "econGenRetroW6                      7522\n",
       "econGenRetroW7                     30895\n",
       "econGenRetroW8                     15200\n",
       "econGenRetroW10                    30237\n",
       "econGenRetroW11                    30956\n",
       "econGenRetroW12                     8984\n",
       "genElecTurnoutRetroW13             31136\n",
       "econGenRetroW13                    31136\n",
       "econGenRetroW14                    31063\n",
       "econGenRetroW15                    30842\n",
       "econGenRetroW16                    37959\n",
       "econGenRetroW17                    34366\n",
       "genElecTurnoutRetro2017W18          9369\n",
       "genElecTurnoutRetroW19             32177\n",
       "dtype: int64"
      ]
     },
     "execution_count": 216,
     "metadata": {},
     "output_type": "execute_result"
    }
   ],
   "source": [
    "search(BES_Panel,\"gen.*Retro\")"
   ]
  },
  {
   "cell_type": "code",
   "execution_count": 220,
   "metadata": {},
   "outputs": [
    {
     "data": {
      "text/plain": [
       "Conservative                                3478\n",
       "Labour                                      2409\n",
       "Liberal Democrat                             793\n",
       "United Kingdom Independence Party (UKIP)     416\n",
       "Scottish National Party (SNP)                336\n",
       "Don't know                                   236\n",
       "Green Party                                  224\n",
       "Other                                        119\n",
       "Plaid Cymru                                   52\n",
       "Name: generalElectionVoteRetro2017W18, dtype: int64"
      ]
     },
     "execution_count": 220,
     "metadata": {},
     "output_type": "execute_result"
    }
   ],
   "source": [
    "BES_Panel[\"generalElectionVoteRetro2017W18\"].value_counts()"
   ]
  },
  {
   "cell_type": "code",
   "execution_count": 217,
   "metadata": {},
   "outputs": [
    {
     "data": {
      "text/plain": [
       "Yes, voted    8177\n",
       "2.0            962\n",
       "Don't know     230\n",
       "Name: genElecTurnoutRetro2017W18, dtype: int64"
      ]
     },
     "execution_count": 217,
     "metadata": {},
     "output_type": "execute_result"
    }
   ],
   "source": [
    "BES_Panel[\"genElecTurnoutRetro2017W18\"].value_counts()"
   ]
  },
  {
   "cell_type": "code",
   "execution_count": 222,
   "metadata": {},
   "outputs": [
    {
     "data": {
      "text/plain": [
       "2.0           465\n",
       "Yes, voted    204\n",
       "Don't know     44\n",
       "Name: genElecTurnoutRetro2017W18, dtype: int64"
      ]
     },
     "execution_count": 222,
     "metadata": {},
     "output_type": "execute_result"
    }
   ],
   "source": [
    "BES_Panel[\"genElecTurnoutRetro2017W18\"][BES_Panel[\"voted2017W19\"]==\"No, did not vote\"].value_counts()"
   ]
  },
  {
   "cell_type": "code",
   "execution_count": 223,
   "metadata": {},
   "outputs": [
    {
     "data": {
      "text/plain": [
       "Conservative                                73\n",
       "Labour                                      46\n",
       "United Kingdom Independence Party (UKIP)    27\n",
       "Liberal Democrat                            26\n",
       "Scottish National Party (SNP)               11\n",
       "Don't know                                   7\n",
       "Green Party                                  4\n",
       "Other                                        3\n",
       "Plaid Cymru                                  0\n",
       "Name: generalElectionVoteRetro2017W18, dtype: int64"
      ]
     },
     "execution_count": 223,
     "metadata": {},
     "output_type": "execute_result"
    }
   ],
   "source": [
    "BES_Panel[\"generalElectionVoteRetro2017W18\"][BES_Panel[\"voted2017W19\"]==\"No, did not vote\"].value_counts()"
   ]
  },
  {
   "cell_type": "code",
   "execution_count": null,
   "metadata": {},
   "outputs": [],
   "source": [
    "BES_Panel[\"genElecTurnoutRetro2017W18\"].value_counts()"
   ]
  },
  {
   "cell_type": "code",
   "execution_count": 186,
   "metadata": {},
   "outputs": [
    {
     "data": {
      "text/plain": [
       "Conservative                                3478\n",
       "Labour                                      2409\n",
       "Liberal Democrat                             793\n",
       "United Kingdom Independence Party (UKIP)     416\n",
       "Scottish National Party (SNP)                336\n",
       "Don't know                                   236\n",
       "Green Party                                  224\n",
       "Other                                        119\n",
       "Plaid Cymru                                   52\n",
       "Name: generalElectionVoteRetro2017W18, dtype: int64"
      ]
     },
     "execution_count": 186,
     "metadata": {},
     "output_type": "execute_result"
    }
   ],
   "source": [
    "BES_Panel[\"generalElectionVoteRetro2017W18\"].value_counts()"
   ]
  },
  {
   "cell_type": "code",
   "execution_count": 165,
   "metadata": {},
   "outputs": [
    {
     "data": {
      "text/plain": [
       "37                              Labour\n",
       "57                              Labour\n",
       "87                        Conservative\n",
       "90                          Don't know\n",
       "91       Scottish National Party (SNP)\n",
       "                     ...              \n",
       "31960                           Labour\n",
       "32031                            Green\n",
       "32080                           Labour\n",
       "32155                           Labour\n",
       "32158                     Conservative\n",
       "Name: generalElectionVoteW19, Length: 734, dtype: category\n",
       "Categories (11, object): [Conservative < Labour < Liberal Democrat < Scottish National Party (SNP) ... Other < Don't know < Did not vote < Not Present]"
      ]
     },
     "execution_count": 165,
     "metadata": {},
     "output_type": "execute_result"
    }
   ],
   "source": [
    "BES_Panel[\"generalElectionVoteW19\"][last_chunk_unassigned].astype('object').replace(replace_dict)\\\n",
    "        .astype('category').cat.set_categories(pan_dataset_votes[new_vote_var+\"_complete\"].cat.categories,ordered =True)"
   ]
  },
  {
   "cell_type": "code",
   "execution_count": 66,
   "metadata": {},
   "outputs": [],
   "source": [
    "# %%time\n",
    "# pattern = \"profile_eurefturnout_Yes\"\n",
    "# name = \"profile_eurefturnout_Yes\"\n",
    "# corr_type = \"spearman\"\n",
    "# mask = BES_Panel[\"profile_eurefturnout\"].notnull()\n",
    "# corr_df,corr_type = make_corr_summary(BES_reduced_with_na[mask].astype('float32'),\n",
    "#                                       name, corr_type, pattern=pattern)\n",
    "# display_corr(corr_df, name, corr_type, text_wrap_length=50)"
   ]
  },
  {
   "cell_type": "code",
   "execution_count": 75,
   "metadata": {},
   "outputs": [
    {
     "data": {
      "text/plain": [
       "(31443, 32806)"
      ]
     },
     "execution_count": 75,
     "metadata": {},
     "output_type": "execute_result"
    }
   ],
   "source": [
    "BES_Panel[\"pastvote_ge_2019W19\"].value_counts().sum(), BES_Panel[\"wave19\"].sum()"
   ]
  },
  {
   "cell_type": "code",
   "execution_count": 141,
   "metadata": {},
   "outputs": [
    {
     "data": {
      "text/plain": [
       "Index(['Conservative', 'Labour', 'Liberal Democrat',\n",
       "       'Scottish National Party (SNP)', 'Plaid Cymru', 'Brexit Party', 'Green',\n",
       "       'Other', 'Don't know', 'Did not vote', 'Not Present'],\n",
       "      dtype='object')"
      ]
     },
     "execution_count": 141,
     "metadata": {},
     "output_type": "execute_result"
    }
   ],
   "source": [
    "\n",
    "pan_dataset_votes.loc[last_chunk_unassigned,new_vote_var+\"_complete\"].cat.categories\n",
    "# = BES_Panel[\"generalElectionVoteW19\"][last_chunk_unassigned].astype('object').replace(replace_dict).values"
   ]
  },
  {
   "cell_type": "code",
   "execution_count": 140,
   "metadata": {},
   "outputs": [
    {
     "data": {
      "text/plain": [
       "Conservative                                224\n",
       "Labour                                      209\n",
       "Don't know                                   86\n",
       "Liberal Democrat                             69\n",
       "Other                                        50\n",
       "Green                                        36\n",
       "Scottish National Party (SNP)                32\n",
       "Brexit Party                                 24\n",
       "United Kingdom Independence Party (UKIP)      3\n",
       "Plaid Cymru                                   1\n",
       "Name: generalElectionVoteW19, dtype: int64"
      ]
     },
     "execution_count": 140,
     "metadata": {},
     "output_type": "execute_result"
    }
   ],
   "source": [
    "BES_Panel[\"generalElectionVoteW19\"][last_chunk_unassigned].astype('object').replace(replace_dict).value_counts(dropna=False)"
   ]
  },
  {
   "cell_type": "code",
   "execution_count": 142,
   "metadata": {},
   "outputs": [
    {
     "data": {
      "text/plain": [
       "Conservative                     12666\n",
       "Labour                            8244\n",
       "Liberal Democrat                  3579\n",
       "Did not vote                      3159\n",
       "Scottish National Party (SNP)     1249\n",
       "Green                              858\n",
       "Brexit Party                       722\n",
       "Other                              553\n",
       "Don't know                         231\n",
       "Plaid Cymru                        182\n",
       "Name: pastvote_ge_2019W19, dtype: int64"
      ]
     },
     "execution_count": 142,
     "metadata": {},
     "output_type": "execute_result"
    }
   ],
   "source": [
    "BES_Panel[\"pastvote_ge_2019W19\"].value_counts()"
   ]
  },
  {
   "cell_type": "code",
   "execution_count": null,
   "metadata": {},
   "outputs": [],
   "source": [
    "[BES_Panel[\"pastvote_ge_2019W19\"]==\"Other\"]"
   ]
  },
  {
   "cell_type": "code",
   "execution_count": 78,
   "metadata": {},
   "outputs": [],
   "source": [
    "GE2019_unaccounted = (BES_Panel[\"wave19\"] & BES_Panel[\"pastvote_ge_2019W19\"].isnull())\n",
    "# 1363 unaccounted for"
   ]
  },
  {
   "cell_type": "code",
   "execution_count": 80,
   "metadata": {},
   "outputs": [
    {
     "data": {
      "text/plain": [
       "Yes, voted          608\n",
       "No, did not vote    107\n",
       "Don't know           16\n",
       "Name: profile_turnout_2017, dtype: int64"
      ]
     },
     "execution_count": 80,
     "metadata": {},
     "output_type": "execute_result"
    }
   ],
   "source": [
    "BES_Panel[GE2019_unaccounted][\"profile_turnout_2017\"].value_counts()"
   ]
  },
  {
   "cell_type": "code",
   "execution_count": 85,
   "metadata": {},
   "outputs": [],
   "source": [
    "# search(BES_Panel,\"wt_new\")\n",
    "nowtsW19 = (BES_Panel[\"wt_new_W19_result\"].isnull() & BES_Panel[\"wave19\"])\n",
    "\n",
    "# bunch of people who only appear to exist in wave/id/wt_full_W1/gor/country/pcon/pano variables!\n",
    "# 629"
   ]
  },
  {
   "cell_type": "code",
   "execution_count": 103,
   "metadata": {},
   "outputs": [],
   "source": [
    "# BES_Panel[nowtsW19].notnull().sum().sort_values().tail(60)\n",
    "# nowtsW19.sum()"
   ]
  },
  {
   "cell_type": "code",
   "execution_count": 106,
   "metadata": {},
   "outputs": [
    {
     "data": {
      "text/plain": [
       "-734"
      ]
     },
     "execution_count": 106,
     "metadata": {},
     "output_type": "execute_result"
    }
   ],
   "source": [
    "BES_Panel[\"pastvote_ge_2019W19\"].value_counts().sum() - BES_Panel[\"wt_new_W19_result\"].notnull().sum()"
   ]
  },
  {
   "cell_type": "code",
   "execution_count": 109,
   "metadata": {},
   "outputs": [],
   "source": [
    "last_chunk_unassigned = (BES_Panel[\"pastvote_ge_2019W19\"].isnull() & BES_Panel[\"wt_new_W19_result\"].notnull())"
   ]
  },
  {
   "cell_type": "code",
   "execution_count": 111,
   "metadata": {},
   "outputs": [
    {
     "data": {
      "text/plain": [
       "Yes, voted          608\n",
       "No, did not vote    107\n",
       "Don't know           16\n",
       "Name: profile_turnout_2017, dtype: int64"
      ]
     },
     "execution_count": 111,
     "metadata": {},
     "output_type": "execute_result"
    }
   ],
   "source": [
    "BES_Panel[last_chunk_unassigned][\"profile_turnout_2017\"].value_counts()"
   ]
  },
  {
   "cell_type": "code",
   "execution_count": 128,
   "metadata": {},
   "outputs": [
    {
     "data": {
      "text/plain": [
       "Conservative                                224\n",
       "Labour                                      209\n",
       "Don't know                                   86\n",
       "Liberal Democrat                             69\n",
       "Other                                        45\n",
       "Green Party                                  36\n",
       "Scottish National Party (SNP)                32\n",
       "Brexit Party                                 24\n",
       "An independent candidate                      5\n",
       "United Kingdom Independence Party (UKIP)      3\n",
       "Plaid Cymru                                   1\n",
       "Name: generalElectionVoteW19, dtype: int64"
      ]
     },
     "execution_count": 128,
     "metadata": {},
     "output_type": "execute_result"
    }
   ],
   "source": [
    "BES_Panel[last_chunk_unassigned][\"generalElectionVoteW19\"].value_counts()"
   ]
  },
  {
   "cell_type": "code",
   "execution_count": 127,
   "metadata": {},
   "outputs": [
    {
     "data": {
      "text/plain": [
       "Index(['Conservative', 'Labour', 'Liberal Democrat',\n",
       "       'Scottish National Party (SNP)', 'Plaid Cymru', 'Brexit Party', 'Green',\n",
       "       'Other', 'Don't know', 'Did not vote'],\n",
       "      dtype='object')"
      ]
     },
     "execution_count": 127,
     "metadata": {},
     "output_type": "execute_result"
    }
   ],
   "source": [
    "BES_Panel[\"pastvote_ge_2019W19\"].cat.categories"
   ]
  },
  {
   "cell_type": "code",
   "execution_count": null,
   "metadata": {},
   "outputs": [],
   "source": [
    "replace_dict = {'Green Party':'Green','An independent candidate':'Other'}"
   ]
  },
  {
   "cell_type": "code",
   "execution_count": 117,
   "metadata": {},
   "outputs": [
    {
     "data": {
      "text/plain": [
       "734"
      ]
     },
     "execution_count": 117,
     "metadata": {},
     "output_type": "execute_result"
    }
   ],
   "source": [
    "BES_Panel[last_chunk_unassigned][\"generalElectionVoteW19\"].value_counts().sum()"
   ]
  },
  {
   "cell_type": "code",
   "execution_count": 119,
   "metadata": {},
   "outputs": [
    {
     "data": {
      "text/plain": [
       "482"
      ]
     },
     "execution_count": 119,
     "metadata": {},
     "output_type": "execute_result"
    }
   ],
   "source": [
    "BES_Panel[last_chunk_unassigned][\"generalElectionVoteW18\"].value_counts().sum()"
   ]
  },
  {
   "cell_type": "code",
   "execution_count": 121,
   "metadata": {},
   "outputs": [
    {
     "data": {
      "text/plain": [
       "453"
      ]
     },
     "execution_count": 121,
     "metadata": {},
     "output_type": "execute_result"
    }
   ],
   "source": [
    "BES_Panel[last_chunk_unassigned][\"generalElectionVoteW17\"].value_counts().sum()"
   ]
  },
  {
   "cell_type": "code",
   "execution_count": 493,
   "metadata": {},
   "outputs": [
    {
     "data": {
      "text/plain": [
       "16055"
      ]
     },
     "execution_count": 493,
     "metadata": {},
     "output_type": "execute_result"
    }
   ],
   "source": [
    "LD2005 = pan_dataset_votes[\"2005GEVote_complete\"]==\"Liberal Democrat\"\n",
    "LD2010 = pan_dataset_votes[\"2010GEVote_complete\"]==\"Liberal Democrat\"\n",
    "LD05_10 = LD2005|LD2010\n",
    "LD05_10.sum()"
   ]
  },
  {
   "cell_type": "code",
   "execution_count": 499,
   "metadata": {},
   "outputs": [],
   "source": [
    "LD05_10_tot = (pan_dataset_votes[\"2005GEVote_complete\"]!=\"Unknown\")|(pan_dataset_votes[\"2010GEVote_complete\"]!=\"Unknown\")"
   ]
  },
  {
   "cell_type": "code",
   "execution_count": 502,
   "metadata": {},
   "outputs": [],
   "source": [
    "LAB2015 = pan_dataset_votes[\"2015GEVote_complete\"]==\"Labour\"\n",
    "LAB2017 = pan_dataset_votes[\"2017GEVote_complete\"]==\"Labour\"\n",
    "LAB2019 = pan_dataset_votes[\"2019GEVote_complete\"]==\"Labour\"\n"
   ]
  },
  {
   "cell_type": "code",
   "execution_count": 501,
   "metadata": {},
   "outputs": [
    {
     "data": {
      "text/plain": [
       "0.11851465117796776"
      ]
     },
     "execution_count": 501,
     "metadata": {},
     "output_type": "execute_result"
    }
   ],
   "source": [
    "(LAB2015&LD05_10).sum()/(LAB2015&LD05_10_tot).sum()"
   ]
  },
  {
   "cell_type": "code",
   "execution_count": 503,
   "metadata": {},
   "outputs": [
    {
     "data": {
      "text/plain": [
       "0.35422623813336385"
      ]
     },
     "execution_count": 503,
     "metadata": {},
     "output_type": "execute_result"
    }
   ],
   "source": [
    "(LAB2015&LD05_10).sum()/(LAB2015&LD05_10_tot).sum()"
   ]
  },
  {
   "cell_type": "code",
   "execution_count": 505,
   "metadata": {},
   "outputs": [
    {
     "data": {
      "text/plain": [
       "0.31912166304408407"
      ]
     },
     "execution_count": 505,
     "metadata": {},
     "output_type": "execute_result"
    }
   ],
   "source": [
    "(LAB2017&LD05_10).sum()/(LAB2017&LD05_10_tot).sum()"
   ]
  },
  {
   "cell_type": "code",
   "execution_count": 506,
   "metadata": {},
   "outputs": [
    {
     "data": {
      "text/plain": [
       "0.3342492322611928"
      ]
     },
     "execution_count": 506,
     "metadata": {},
     "output_type": "execute_result"
    }
   ],
   "source": [
    "(LAB2019&LD05_10).sum()/(LAB2019&LD05_10_tot).sum()"
   ]
  },
  {
   "cell_type": "code",
   "execution_count": null,
   "metadata": {},
   "outputs": [],
   "source": []
  }
 ],
 "metadata": {
  "kernelspec": {
   "display_name": "Python [conda env:BES_analysis] *",
   "language": "python",
   "name": "conda-env-BES_analysis-py"
  },
  "language_info": {
   "codemirror_mode": {
    "name": "ipython",
    "version": 3
   },
   "file_extension": ".py",
   "mimetype": "text/x-python",
   "name": "python",
   "nbconvert_exporter": "python",
   "pygments_lexer": "ipython3",
   "version": "3.7.6"
  }
 },
 "nbformat": 4,
 "nbformat_minor": 4
}
