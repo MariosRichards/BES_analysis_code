{
 "cells": [
  {
   "cell_type": "code",
   "execution_count": null,
   "metadata": {},
   "outputs": [],
   "source": [
    "dataset_name = \"W19_comb\"\n",
    "df_list = [ \"BES_Panel\", \"BES_reduced_with_na\"]"
   ]
  },
  {
   "cell_type": "code",
   "execution_count": null,
   "metadata": {},
   "outputs": [],
   "source": [
    "5+5"
   ]
  },
  {
   "cell_type": "code",
   "execution_count": null,
   "metadata": {},
   "outputs": [],
   "source": [
    "import warnings\n",
    "warnings.filterwarnings('ignore')\n",
    "\n",
    "from IPython.display import display\n",
    "from IPython.display import HTML\n",
    "import IPython.core.display as di # Example: di.display_html('<h3>%s:</h3>' % str, raw=True)\n",
    "\n",
    "# This line will hide code by default when the notebook is exported as HTML\n",
    "di.display_html('<script>jQuery(function() {if (jQuery(\"body.notebook_app\").length == 0) { jQuery(\".input_area\").toggle(); jQuery(\".prompt\").toggle();}});</script>', raw=True)\n",
    "\n",
    "# This line will add a button to toggle visibility of code blocks, for use with the HTML export version\n",
    "di.display_html('''<button onclick=\"jQuery('.input_area').toggle(); jQuery('.prompt').toggle();\">Toggle code</button>''', raw=True)\n",
    "\n",
    "%matplotlib inline\n",
    "\n",
    "import numpy as np, pandas as pd, matplotlib.pyplot as plt, seaborn as sns\n",
    "import pickle, os, gc, re\n",
    "\n",
    "sns.set();\n",
    "sns.set_palette(\"colorblind\")\n",
    "\n",
    "from IPython.display import display, display_html, HTML\n",
    "from IPython.core.debugger import set_trace\n",
    "# plt.rcParams[\"axes.grid\"] = False\n",
    "\n",
    "import Jupyter_module_loader\n",
    "from utility import *\n",
    "import gaussian_kde\n",
    "\n",
    "import warnings\n",
    "warnings.filterwarnings('ignore')\n",
    "\n",
    "import holoviews as hv\n",
    "from holoviews import opts\n",
    "\n",
    "encoding = \"ISO-8859-1\"\n",
    "\n",
    "# you should clone this git to a subdirectory called 'BES_analysis_code' (in some directory - I call it BES_analysis - doesn't matter though)\n",
    "# %matplotlib inline\n",
    "(BES_code_folder, BES_small_data_files, BES_data_folder,\n",
    " BES_output_folder, BES_file_manifest, BES_R_data_files) = setup_directories()\n",
    "\n",
    "global BES_Panel, BES_numeric, BES_reduced, BES_reduced_with_na, BES_non_numeric\n",
    "data_subfolder = BES_data_folder + dataset_name + os.sep\n",
    "\n",
    "(manifest, dataset_filename, dataset_description, dataset_citation,\n",
    " dataset_start, dataset_stop, dataset_wave) = get_manifest(dataset_name, BES_file_manifest)\n",
    "\n",
    "for df in df_list:\n",
    "    if df==\"BES_Panel\":\n",
    "        globals()[df]  = pd.read_pickle(data_subfolder + dataset_filename.replace('.dta','.zip'),compression='zip')\n",
    "    else:\n",
    "        globals()[df]  = pd.read_pickle(data_subfolder + df + '.zip',compression='zip' )\n",
    "        globals()[df].replace(-1,np.nan,inplace=True)\n",
    "  \n",
    "(var_type, cat_dictionary, new_old_col_names, old_new_col_names) = get_small_files(data_subfolder, encoding)\n",
    "\n",
    "# get full set of inferred \"cross wave\" auth-lib/left-right values and ages\n",
    "pan_dataset_allr_values = pd.read_csv(BES_small_data_files + \"pan_dataset_allr_values\"+\".csv\")\n",
    "pan_dataset_ages = pd.read_pickle(BES_small_data_files + \"pan_dataset_ages\"+\".zip\", compression='zip')"
   ]
  },
  {
   "cell_type": "code",
   "execution_count": null,
   "metadata": {},
   "outputs": [],
   "source": [
    "BES_Panel.loc[30929, 35852, 38388, 39244, 76846, 77218, 77875, 89977]"
   ]
  },
  {
   "cell_type": "code",
   "execution_count": null,
   "metadata": {},
   "outputs": [],
   "source": []
  },
  {
   "cell_type": "code",
   "execution_count": 426,
   "metadata": {},
   "outputs": [],
   "source": [
    "# ALERT ALERT AWOOOGA - Heinz Brandenburg\n",
    "# https://twitter.com/HzBrandenburg/status/1258414163833094154\n",
    "\n",
    "# (1) check this for specific wave7+/wave6+ respondent split\n",
    "# (2) think about comparing datasets with datasets on matching variables!"
   ]
  },
  {
   "cell_type": "code",
   "execution_count": 11,
   "metadata": {},
   "outputs": [],
   "source": [
    "respondent_in_first_six_waves = BES_Panel[search(BES_Panel,\"wave\\d+\").index[0:6]].any(axis=1)\n",
    "respondent_after_first_six_waves = ~BES_Panel[search(BES_Panel,\"wave\\d+\").index[0:6]].any(axis=1)\n"
   ]
  },
  {
   "cell_type": "code",
   "execution_count": 24,
   "metadata": {},
   "outputs": [
    {
     "data": {
      "text/html": [
       "<div>\n",
       "<style scoped>\n",
       "    .dataframe tbody tr th:only-of-type {\n",
       "        vertical-align: middle;\n",
       "    }\n",
       "\n",
       "    .dataframe tbody tr th {\n",
       "        vertical-align: top;\n",
       "    }\n",
       "\n",
       "    .dataframe thead th {\n",
       "        text-align: right;\n",
       "    }\n",
       "</style>\n",
       "<table border=\"1\" class=\"dataframe\">\n",
       "  <thead>\n",
       "    <tr style=\"text-align: right;\">\n",
       "      <th></th>\n",
       "      <th>2015_Conservative</th>\n",
       "      <th>2015_Labour</th>\n",
       "      <th>2015_United Kingdom Independence Party (UKIP)</th>\n",
       "      <th>2015_Liberal Democrat</th>\n",
       "      <th>2015_Green Party</th>\n",
       "      <th>2015_Scottish National Party (SNP)</th>\n",
       "      <th>2015_Plaid Cymru</th>\n",
       "      <th>2015_British National Party (BNP)</th>\n",
       "    </tr>\n",
       "  </thead>\n",
       "  <tbody>\n",
       "    <tr>\n",
       "      <th>2010_Conservative</th>\n",
       "      <td>-0.09</td>\n",
       "      <td>0.04</td>\n",
       "      <td>-0.01</td>\n",
       "      <td>-0.01</td>\n",
       "      <td>0.09</td>\n",
       "      <td>0.01</td>\n",
       "      <td>0.01</td>\n",
       "      <td>-0.00</td>\n",
       "    </tr>\n",
       "    <tr>\n",
       "      <th>2010_Labour</th>\n",
       "      <td>0.60</td>\n",
       "      <td>-0.40</td>\n",
       "      <td>-0.01</td>\n",
       "      <td>-0.15</td>\n",
       "      <td>-0.15</td>\n",
       "      <td>-0.10</td>\n",
       "      <td>-0.03</td>\n",
       "      <td>-0.01</td>\n",
       "    </tr>\n",
       "    <tr>\n",
       "      <th>2010_Liberal Democrat</th>\n",
       "      <td>-0.31</td>\n",
       "      <td>0.50</td>\n",
       "      <td>-0.10</td>\n",
       "      <td>-0.11</td>\n",
       "      <td>-0.06</td>\n",
       "      <td>-0.01</td>\n",
       "      <td>-0.02</td>\n",
       "      <td>-0.01</td>\n",
       "    </tr>\n",
       "    <tr>\n",
       "      <th>2010_Scottish National Party (SNP)</th>\n",
       "      <td>-0.20</td>\n",
       "      <td>0.01</td>\n",
       "      <td>-0.05</td>\n",
       "      <td>0.34</td>\n",
       "      <td>0.08</td>\n",
       "      <td>-0.03</td>\n",
       "      <td>-0.02</td>\n",
       "      <td>-0.01</td>\n",
       "    </tr>\n",
       "    <tr>\n",
       "      <th>2010_United Kingdom Independence Party (UKIP)</th>\n",
       "      <td>-0.03</td>\n",
       "      <td>-0.02</td>\n",
       "      <td>-0.01</td>\n",
       "      <td>-0.01</td>\n",
       "      <td>0.02</td>\n",
       "      <td>-0.01</td>\n",
       "      <td>0.46</td>\n",
       "      <td>-0.00</td>\n",
       "    </tr>\n",
       "    <tr>\n",
       "      <th>2010_Brexit Party</th>\n",
       "      <td>-0.01</td>\n",
       "      <td>-0.00</td>\n",
       "      <td>0.03</td>\n",
       "      <td>-0.01</td>\n",
       "      <td>-0.01</td>\n",
       "      <td>0.00</td>\n",
       "      <td>0.00</td>\n",
       "      <td>0.00</td>\n",
       "    </tr>\n",
       "    <tr>\n",
       "      <th>2010_British National Party (BNP)</th>\n",
       "      <td>-0.08</td>\n",
       "      <td>-0.03</td>\n",
       "      <td>-0.02</td>\n",
       "      <td>-0.02</td>\n",
       "      <td>0.28</td>\n",
       "      <td>-0.01</td>\n",
       "      <td>0.00</td>\n",
       "      <td>-0.01</td>\n",
       "    </tr>\n",
       "    <tr>\n",
       "      <th>2010_Plaid Cymru</th>\n",
       "      <td>-0.08</td>\n",
       "      <td>-0.07</td>\n",
       "      <td>-0.04</td>\n",
       "      <td>-0.03</td>\n",
       "      <td>-0.03</td>\n",
       "      <td>0.59</td>\n",
       "      <td>-0.01</td>\n",
       "      <td>-0.00</td>\n",
       "    </tr>\n",
       "    <tr>\n",
       "      <th>2010_10.0</th>\n",
       "      <td>-0.08</td>\n",
       "      <td>-0.10</td>\n",
       "      <td>0.32</td>\n",
       "      <td>-0.04</td>\n",
       "      <td>-0.03</td>\n",
       "      <td>-0.02</td>\n",
       "      <td>-0.01</td>\n",
       "      <td>0.04</td>\n",
       "    </tr>\n",
       "    <tr>\n",
       "      <th>2010_Green Party</th>\n",
       "      <td>-0.04</td>\n",
       "      <td>-0.04</td>\n",
       "      <td>0.14</td>\n",
       "      <td>-0.02</td>\n",
       "      <td>-0.02</td>\n",
       "      <td>-0.01</td>\n",
       "      <td>-0.01</td>\n",
       "      <td>0.11</td>\n",
       "    </tr>\n",
       "    <tr>\n",
       "      <th>2010_Change UK- The Independent Group</th>\n",
       "      <td>-0.04</td>\n",
       "      <td>-0.00</td>\n",
       "      <td>0.03</td>\n",
       "      <td>-0.00</td>\n",
       "      <td>0.02</td>\n",
       "      <td>0.03</td>\n",
       "      <td>0.01</td>\n",
       "      <td>-0.00</td>\n",
       "    </tr>\n",
       "  </tbody>\n",
       "</table>\n",
       "</div>"
      ],
      "text/plain": [
       "                                               2015_Conservative  2015_Labour  \\\n",
       "2010_Conservative                                          -0.09         0.04   \n",
       "2010_Labour                                                 0.60        -0.40   \n",
       "2010_Liberal Democrat                                      -0.31         0.50   \n",
       "2010_Scottish National Party (SNP)                         -0.20         0.01   \n",
       "2010_United Kingdom Independence Party (UKIP)              -0.03        -0.02   \n",
       "2010_Brexit Party                                          -0.01        -0.00   \n",
       "2010_British National Party (BNP)                          -0.08        -0.03   \n",
       "2010_Plaid Cymru                                           -0.08        -0.07   \n",
       "2010_10.0                                                  -0.08        -0.10   \n",
       "2010_Green Party                                           -0.04        -0.04   \n",
       "2010_Change UK- The Independent Group                      -0.04        -0.00   \n",
       "\n",
       "                                               2015_United Kingdom Independence Party (UKIP)  \\\n",
       "2010_Conservative                                                                      -0.01   \n",
       "2010_Labour                                                                            -0.01   \n",
       "2010_Liberal Democrat                                                                  -0.10   \n",
       "2010_Scottish National Party (SNP)                                                     -0.05   \n",
       "2010_United Kingdom Independence Party (UKIP)                                          -0.01   \n",
       "2010_Brexit Party                                                                       0.03   \n",
       "2010_British National Party (BNP)                                                      -0.02   \n",
       "2010_Plaid Cymru                                                                       -0.04   \n",
       "2010_10.0                                                                               0.32   \n",
       "2010_Green Party                                                                        0.14   \n",
       "2010_Change UK- The Independent Group                                                   0.03   \n",
       "\n",
       "                                               2015_Liberal Democrat  \\\n",
       "2010_Conservative                                              -0.01   \n",
       "2010_Labour                                                    -0.15   \n",
       "2010_Liberal Democrat                                          -0.11   \n",
       "2010_Scottish National Party (SNP)                              0.34   \n",
       "2010_United Kingdom Independence Party (UKIP)                  -0.01   \n",
       "2010_Brexit Party                                              -0.01   \n",
       "2010_British National Party (BNP)                              -0.02   \n",
       "2010_Plaid Cymru                                               -0.03   \n",
       "2010_10.0                                                      -0.04   \n",
       "2010_Green Party                                               -0.02   \n",
       "2010_Change UK- The Independent Group                          -0.00   \n",
       "\n",
       "                                               2015_Green Party  \\\n",
       "2010_Conservative                                          0.09   \n",
       "2010_Labour                                               -0.15   \n",
       "2010_Liberal Democrat                                     -0.06   \n",
       "2010_Scottish National Party (SNP)                         0.08   \n",
       "2010_United Kingdom Independence Party (UKIP)              0.02   \n",
       "2010_Brexit Party                                         -0.01   \n",
       "2010_British National Party (BNP)                          0.28   \n",
       "2010_Plaid Cymru                                          -0.03   \n",
       "2010_10.0                                                 -0.03   \n",
       "2010_Green Party                                          -0.02   \n",
       "2010_Change UK- The Independent Group                      0.02   \n",
       "\n",
       "                                               2015_Scottish National Party (SNP)  \\\n",
       "2010_Conservative                                                            0.01   \n",
       "2010_Labour                                                                 -0.10   \n",
       "2010_Liberal Democrat                                                       -0.01   \n",
       "2010_Scottish National Party (SNP)                                          -0.03   \n",
       "2010_United Kingdom Independence Party (UKIP)                               -0.01   \n",
       "2010_Brexit Party                                                            0.00   \n",
       "2010_British National Party (BNP)                                           -0.01   \n",
       "2010_Plaid Cymru                                                             0.59   \n",
       "2010_10.0                                                                   -0.02   \n",
       "2010_Green Party                                                            -0.01   \n",
       "2010_Change UK- The Independent Group                                        0.03   \n",
       "\n",
       "                                               2015_Plaid Cymru  \\\n",
       "2010_Conservative                                          0.01   \n",
       "2010_Labour                                               -0.03   \n",
       "2010_Liberal Democrat                                     -0.02   \n",
       "2010_Scottish National Party (SNP)                        -0.02   \n",
       "2010_United Kingdom Independence Party (UKIP)              0.46   \n",
       "2010_Brexit Party                                          0.00   \n",
       "2010_British National Party (BNP)                          0.00   \n",
       "2010_Plaid Cymru                                          -0.01   \n",
       "2010_10.0                                                 -0.01   \n",
       "2010_Green Party                                          -0.01   \n",
       "2010_Change UK- The Independent Group                      0.01   \n",
       "\n",
       "                                               2015_British National Party (BNP)  \n",
       "2010_Conservative                                                          -0.00  \n",
       "2010_Labour                                                                -0.01  \n",
       "2010_Liberal Democrat                                                      -0.01  \n",
       "2010_Scottish National Party (SNP)                                         -0.01  \n",
       "2010_United Kingdom Independence Party (UKIP)                              -0.00  \n",
       "2010_Brexit Party                                                           0.00  \n",
       "2010_British National Party (BNP)                                          -0.01  \n",
       "2010_Plaid Cymru                                                           -0.00  \n",
       "2010_10.0                                                                   0.04  \n",
       "2010_Green Party                                                            0.11  \n",
       "2010_Change UK- The Independent Group                                      -0.00  "
      ]
     },
     "execution_count": 24,
     "metadata": {},
     "output_type": "execute_result"
    }
   ],
   "source": [
    "vote2010 = list(search(BES_reduced_with_na,\"profile_past_vote_2010\").index)\n",
    "vote2015 = list(search(BES_reduced_with_na,\"profile_past_vote_2015\").index)\n",
    "\n",
    "cor_mat = BES_reduced_with_na[vote2010+vote2015][respondent_after_first_six_waves].astype('float32').corr().loc[vote2010,vote2015]\n",
    "cor_mat.columns = [x.replace(\"profile_past_vote_\",\"\") for x in cor_mat.columns]\n",
    "cor_mat.index = [x.replace(\"profile_past_vote_\",\"\") for x in cor_mat.index]\n",
    "cor_mat.round(2)\n",
    "# very tempting to shorten variable names here!"
   ]
  },
  {
   "cell_type": "code",
   "execution_count": 25,
   "metadata": {},
   "outputs": [
    {
     "data": {
      "text/html": [
       "<div>\n",
       "<style scoped>\n",
       "    .dataframe tbody tr th:only-of-type {\n",
       "        vertical-align: middle;\n",
       "    }\n",
       "\n",
       "    .dataframe tbody tr th {\n",
       "        vertical-align: top;\n",
       "    }\n",
       "\n",
       "    .dataframe thead th {\n",
       "        text-align: right;\n",
       "    }\n",
       "</style>\n",
       "<table border=\"1\" class=\"dataframe\">\n",
       "  <thead>\n",
       "    <tr style=\"text-align: right;\">\n",
       "      <th></th>\n",
       "      <th>2015_Conservative</th>\n",
       "      <th>2015_Labour</th>\n",
       "      <th>2015_United Kingdom Independence Party (UKIP)</th>\n",
       "      <th>2015_Liberal Democrat</th>\n",
       "      <th>2015_Green Party</th>\n",
       "      <th>2015_Scottish National Party (SNP)</th>\n",
       "      <th>2015_Plaid Cymru</th>\n",
       "      <th>2015_British National Party (BNP)</th>\n",
       "    </tr>\n",
       "  </thead>\n",
       "  <tbody>\n",
       "    <tr>\n",
       "      <th>2010_Conservative</th>\n",
       "      <td>0.63</td>\n",
       "      <td>-0.40</td>\n",
       "      <td>0.05</td>\n",
       "      <td>-0.12</td>\n",
       "      <td>-0.10</td>\n",
       "      <td>-0.20</td>\n",
       "      <td>-0.07</td>\n",
       "      <td>-0.02</td>\n",
       "    </tr>\n",
       "    <tr>\n",
       "      <th>2010_Labour</th>\n",
       "      <td>-0.34</td>\n",
       "      <td>0.55</td>\n",
       "      <td>-0.12</td>\n",
       "      <td>-0.13</td>\n",
       "      <td>-0.05</td>\n",
       "      <td>-0.04</td>\n",
       "      <td>-0.03</td>\n",
       "      <td>0.01</td>\n",
       "    </tr>\n",
       "    <tr>\n",
       "      <th>2010_Liberal Democrat</th>\n",
       "      <td>-0.21</td>\n",
       "      <td>0.00</td>\n",
       "      <td>-0.05</td>\n",
       "      <td>0.33</td>\n",
       "      <td>0.15</td>\n",
       "      <td>-0.05</td>\n",
       "      <td>-0.00</td>\n",
       "      <td>0.01</td>\n",
       "    </tr>\n",
       "    <tr>\n",
       "      <th>2010_Scottish National Party (SNP)</th>\n",
       "      <td>-0.15</td>\n",
       "      <td>-0.14</td>\n",
       "      <td>-0.08</td>\n",
       "      <td>-0.06</td>\n",
       "      <td>-0.04</td>\n",
       "      <td>0.65</td>\n",
       "      <td>-0.02</td>\n",
       "      <td>-0.01</td>\n",
       "    </tr>\n",
       "    <tr>\n",
       "      <th>2010_United Kingdom Independence Party (UKIP)</th>\n",
       "      <td>-0.06</td>\n",
       "      <td>-0.09</td>\n",
       "      <td>0.32</td>\n",
       "      <td>-0.04</td>\n",
       "      <td>-0.02</td>\n",
       "      <td>-0.05</td>\n",
       "      <td>-0.01</td>\n",
       "      <td>-0.00</td>\n",
       "    </tr>\n",
       "    <tr>\n",
       "      <th>2010_Brexit Party</th>\n",
       "      <td>-0.01</td>\n",
       "      <td>0.00</td>\n",
       "      <td>-0.00</td>\n",
       "      <td>-0.01</td>\n",
       "      <td>0.02</td>\n",
       "      <td>0.00</td>\n",
       "      <td>-0.00</td>\n",
       "      <td>-0.00</td>\n",
       "    </tr>\n",
       "    <tr>\n",
       "      <th>2010_British National Party (BNP)</th>\n",
       "      <td>-0.04</td>\n",
       "      <td>-0.05</td>\n",
       "      <td>0.18</td>\n",
       "      <td>-0.03</td>\n",
       "      <td>-0.01</td>\n",
       "      <td>-0.02</td>\n",
       "      <td>-0.01</td>\n",
       "      <td>0.04</td>\n",
       "    </tr>\n",
       "    <tr>\n",
       "      <th>2010_Plaid Cymru</th>\n",
       "      <td>-0.05</td>\n",
       "      <td>-0.04</td>\n",
       "      <td>-0.01</td>\n",
       "      <td>-0.01</td>\n",
       "      <td>-0.01</td>\n",
       "      <td>-0.03</td>\n",
       "      <td>0.53</td>\n",
       "      <td>-0.00</td>\n",
       "    </tr>\n",
       "    <tr>\n",
       "      <th>2010_10.0</th>\n",
       "      <td>-0.00</td>\n",
       "      <td>-0.00</td>\n",
       "      <td>0.02</td>\n",
       "      <td>-0.00</td>\n",
       "      <td>-0.00</td>\n",
       "      <td>-0.00</td>\n",
       "      <td>-0.00</td>\n",
       "      <td>-0.00</td>\n",
       "    </tr>\n",
       "    <tr>\n",
       "      <th>2010_Green Party</th>\n",
       "      <td>-0.06</td>\n",
       "      <td>-0.01</td>\n",
       "      <td>-0.02</td>\n",
       "      <td>-0.01</td>\n",
       "      <td>0.20</td>\n",
       "      <td>-0.01</td>\n",
       "      <td>-0.00</td>\n",
       "      <td>-0.00</td>\n",
       "    </tr>\n",
       "    <tr>\n",
       "      <th>2010_Change UK- The Independent Group</th>\n",
       "      <td>-0.01</td>\n",
       "      <td>-0.01</td>\n",
       "      <td>-0.00</td>\n",
       "      <td>-0.00</td>\n",
       "      <td>0.04</td>\n",
       "      <td>-0.00</td>\n",
       "      <td>-0.00</td>\n",
       "      <td>-0.00</td>\n",
       "    </tr>\n",
       "  </tbody>\n",
       "</table>\n",
       "</div>"
      ],
      "text/plain": [
       "                                               2015_Conservative  2015_Labour  \\\n",
       "2010_Conservative                                           0.63        -0.40   \n",
       "2010_Labour                                                -0.34         0.55   \n",
       "2010_Liberal Democrat                                      -0.21         0.00   \n",
       "2010_Scottish National Party (SNP)                         -0.15        -0.14   \n",
       "2010_United Kingdom Independence Party (UKIP)              -0.06        -0.09   \n",
       "2010_Brexit Party                                          -0.01         0.00   \n",
       "2010_British National Party (BNP)                          -0.04        -0.05   \n",
       "2010_Plaid Cymru                                           -0.05        -0.04   \n",
       "2010_10.0                                                  -0.00        -0.00   \n",
       "2010_Green Party                                           -0.06        -0.01   \n",
       "2010_Change UK- The Independent Group                      -0.01        -0.01   \n",
       "\n",
       "                                               2015_United Kingdom Independence Party (UKIP)  \\\n",
       "2010_Conservative                                                                       0.05   \n",
       "2010_Labour                                                                            -0.12   \n",
       "2010_Liberal Democrat                                                                  -0.05   \n",
       "2010_Scottish National Party (SNP)                                                     -0.08   \n",
       "2010_United Kingdom Independence Party (UKIP)                                           0.32   \n",
       "2010_Brexit Party                                                                      -0.00   \n",
       "2010_British National Party (BNP)                                                       0.18   \n",
       "2010_Plaid Cymru                                                                       -0.01   \n",
       "2010_10.0                                                                               0.02   \n",
       "2010_Green Party                                                                       -0.02   \n",
       "2010_Change UK- The Independent Group                                                  -0.00   \n",
       "\n",
       "                                               2015_Liberal Democrat  \\\n",
       "2010_Conservative                                              -0.12   \n",
       "2010_Labour                                                    -0.13   \n",
       "2010_Liberal Democrat                                           0.33   \n",
       "2010_Scottish National Party (SNP)                             -0.06   \n",
       "2010_United Kingdom Independence Party (UKIP)                  -0.04   \n",
       "2010_Brexit Party                                              -0.01   \n",
       "2010_British National Party (BNP)                              -0.03   \n",
       "2010_Plaid Cymru                                               -0.01   \n",
       "2010_10.0                                                      -0.00   \n",
       "2010_Green Party                                               -0.01   \n",
       "2010_Change UK- The Independent Group                          -0.00   \n",
       "\n",
       "                                               2015_Green Party  \\\n",
       "2010_Conservative                                         -0.10   \n",
       "2010_Labour                                               -0.05   \n",
       "2010_Liberal Democrat                                      0.15   \n",
       "2010_Scottish National Party (SNP)                        -0.04   \n",
       "2010_United Kingdom Independence Party (UKIP)             -0.02   \n",
       "2010_Brexit Party                                          0.02   \n",
       "2010_British National Party (BNP)                         -0.01   \n",
       "2010_Plaid Cymru                                          -0.01   \n",
       "2010_10.0                                                 -0.00   \n",
       "2010_Green Party                                           0.20   \n",
       "2010_Change UK- The Independent Group                      0.04   \n",
       "\n",
       "                                               2015_Scottish National Party (SNP)  \\\n",
       "2010_Conservative                                                           -0.20   \n",
       "2010_Labour                                                                 -0.04   \n",
       "2010_Liberal Democrat                                                       -0.05   \n",
       "2010_Scottish National Party (SNP)                                           0.65   \n",
       "2010_United Kingdom Independence Party (UKIP)                               -0.05   \n",
       "2010_Brexit Party                                                            0.00   \n",
       "2010_British National Party (BNP)                                           -0.02   \n",
       "2010_Plaid Cymru                                                            -0.03   \n",
       "2010_10.0                                                                   -0.00   \n",
       "2010_Green Party                                                            -0.01   \n",
       "2010_Change UK- The Independent Group                                       -0.00   \n",
       "\n",
       "                                               2015_Plaid Cymru  \\\n",
       "2010_Conservative                                         -0.07   \n",
       "2010_Labour                                               -0.03   \n",
       "2010_Liberal Democrat                                     -0.00   \n",
       "2010_Scottish National Party (SNP)                        -0.02   \n",
       "2010_United Kingdom Independence Party (UKIP)             -0.01   \n",
       "2010_Brexit Party                                         -0.00   \n",
       "2010_British National Party (BNP)                         -0.01   \n",
       "2010_Plaid Cymru                                           0.53   \n",
       "2010_10.0                                                 -0.00   \n",
       "2010_Green Party                                          -0.00   \n",
       "2010_Change UK- The Independent Group                     -0.00   \n",
       "\n",
       "                                               2015_British National Party (BNP)  \n",
       "2010_Conservative                                                          -0.02  \n",
       "2010_Labour                                                                 0.01  \n",
       "2010_Liberal Democrat                                                       0.01  \n",
       "2010_Scottish National Party (SNP)                                         -0.01  \n",
       "2010_United Kingdom Independence Party (UKIP)                              -0.00  \n",
       "2010_Brexit Party                                                          -0.00  \n",
       "2010_British National Party (BNP)                                           0.04  \n",
       "2010_Plaid Cymru                                                           -0.00  \n",
       "2010_10.0                                                                  -0.00  \n",
       "2010_Green Party                                                           -0.00  \n",
       "2010_Change UK- The Independent Group                                      -0.00  "
      ]
     },
     "execution_count": 25,
     "metadata": {},
     "output_type": "execute_result"
    }
   ],
   "source": [
    "vote2010 = list(search(BES_reduced_with_na,\"profile_past_vote_2010\").index)\n",
    "vote2015 = list(search(BES_reduced_with_na,\"profile_past_vote_2015\").index)\n",
    "\n",
    "cor_mat = BES_reduced_with_na[vote2010+vote2015][respondent_in_first_six_waves].astype('float32').corr().loc[vote2010,vote2015]\n",
    "cor_mat.columns = [x.replace(\"profile_past_vote_\",\"\") for x in cor_mat.columns]\n",
    "cor_mat.index = [x.replace(\"profile_past_vote_\",\"\") for x in cor_mat.index]\n",
    "cor_mat.name = \"corr for respondent_in_first_six_waves\"\n",
    "cor_mat.round(2)\n",
    "# very tempting to shorten variable names here!"
   ]
  },
  {
   "cell_type": "code",
   "execution_count": 41,
   "metadata": {},
   "outputs": [],
   "source": [
    "# respondent joined in wave\n",
    "first_wave_joined_panel = BES_Panel[search(BES_Panel,\"wave\\d+\").index].replace(False,np.nan).fillna(method='ffill',axis=1).replace(np.nan,False).astype('bool')\n",
    "first_wave_joined_panel.columns = [int(x.replace(\"wave\",\"\")) for x in first_wave_joined_panel.columns]\n",
    "# respondent joined in wave\n",
    "joined_panel_before_wave = BES_Panel[search(BES_Panel,\"wave\\d+\").index].replace(False,np.nan).fillna(method='bfill',axis=1).replace(np.nan,False).astype('bool')\n",
    "joined_panel_before_wave.columns = [int(x.replace(\"wave\",\"\")) for x in joined_panel_before_wave.columns]"
   ]
  },
  {
   "cell_type": "code",
   "execution_count": 50,
   "metadata": {},
   "outputs": [
    {
     "data": {
      "text/plain": [
       "0                          Plaid Cymru\n",
       "1                               Labour\n",
       "2                         Conservative\n",
       "3                          Plaid Cymru\n",
       "4                                  NaN\n",
       "                     ...              \n",
       "97153                           Labour\n",
       "97154                     Conservative\n",
       "97155                     Conservative\n",
       "97156                 I would not vote\n",
       "97157    Scottish National Party (SNP)\n",
       "Name: profile_past_vote_2005, Length: 97158, dtype: category\n",
       "Categories (15, object): [I would not vote < Conservative < Labour < Liberal Democrat ... Change UK- The Independent Group < Brexit Party < An independent candidate < Don't know]"
      ]
     },
     "execution_count": 50,
     "metadata": {},
     "output_type": "execute_result"
    }
   ],
   "source": [
    "BES_Panel[\"profile_past_vote_2005\"]"
   ]
  },
  {
   "cell_type": "code",
   "execution_count": 45,
   "metadata": {},
   "outputs": [
    {
     "data": {
      "text/plain": [
       "profile_past_vote_2010    65581\n",
       "dtype: int64"
      ]
     },
     "execution_count": 45,
     "metadata": {},
     "output_type": "execute_result"
    }
   ],
   "source": [
    "search(BES_Panel,\"profile_past_vote_2010\")"
   ]
  },
  {
   "cell_type": "code",
   "execution_count": 51,
   "metadata": {},
   "outputs": [],
   "source": [
    "Lab2010 = BES_reduced_with_na[\"profile_past_vote_2010_Labour\"].astype('float32')\n",
    "Con2015 = BES_reduced_with_na[\"profile_past_vote_2015_Conservative\"].astype('float32')\n",
    "Lab2010.corr(Con2015)\n",
    "DNV2010 = BES_Panel[\"profile_past_vote_2010\"]==\"I would not vote\"\n",
    "DNV2005 = BES_Panel[\"profile_past_vote_2005\"]==\"I would not vote\""
   ]
  },
  {
   "cell_type": "code",
   "execution_count": 56,
   "metadata": {},
   "outputs": [
    {
     "name": "stdout",
     "output_type": "stream",
     "text": [
      "1 3276 1725 3530 1261\n",
      "2 3711 1290 3910 881\n",
      "3 4220 781 4101 690\n",
      "4 5000 1 4790 1\n",
      "5 5001 0 4791 0\n",
      "6 5001 0 4791 0\n",
      "7 5001 0 4791 0\n",
      "8 5001 0 4791 0\n",
      "9 5001 0 4791 0\n",
      "10 5001 0 4791 0\n",
      "11 5001 0 4791 0\n",
      "12 5001 0 4791 0\n",
      "13 5001 0 4791 0\n",
      "14 5001 0 4791 0\n",
      "15 5001 0 4791 0\n",
      "16 5001 0 4791 0\n",
      "17 5001 0 4791 0\n",
      "18 5001 0 4791 0\n",
      "19 5001 0 4791 0\n"
     ]
    }
   ],
   "source": [
    "for wave in range(1,20):\n",
    "    print( wave,\n",
    "          DNV2010[first_wave_joined_panel[wave]].sum(),\n",
    "          DNV2010[~first_wave_joined_panel[wave]].sum(),\n",
    "          DNV2005[first_wave_joined_panel[wave]].sum(),\n",
    "          DNV2005[~first_wave_joined_panel[wave]].sum(),\n",
    "         )"
   ]
  },
  {
   "cell_type": "code",
   "execution_count": 53,
   "metadata": {},
   "outputs": [
    {
     "name": "stdout",
     "output_type": "stream",
     "text": [
      "1 3530 1261\n",
      "2 3910 881\n",
      "3 4101 690\n",
      "4 4790 1\n",
      "5 4791 0\n",
      "6 4791 0\n",
      "7 4791 0\n",
      "8 4791 0\n",
      "9 4791 0\n",
      "10 4791 0\n",
      "11 4791 0\n",
      "12 4791 0\n",
      "13 4791 0\n",
      "14 4791 0\n",
      "15 4791 0\n",
      "16 4791 0\n",
      "17 4791 0\n",
      "18 4791 0\n",
      "19 4791 0\n"
     ]
    }
   ],
   "source": [
    "for wave in range(1,20):\n",
    "    print( wave,\n",
    "          DNV2005[first_wave_joined_panel[wave]].sum(),\n",
    "          DNV2005[~first_wave_joined_panel[wave]].sum(),)"
   ]
  },
  {
   "cell_type": "code",
   "execution_count": null,
   "metadata": {},
   "outputs": [],
   "source": []
  },
  {
   "cell_type": "code",
   "execution_count": null,
   "metadata": {},
   "outputs": [],
   "source": []
  },
  {
   "cell_type": "code",
   "execution_count": 37,
   "metadata": {},
   "outputs": [
    {
     "name": "stdout",
     "output_type": "stream",
     "text": [
      "1 -0.33900350011179525 0.3790529817722261\n",
      "2 -0.33354399713657945 0.42420905669017617\n",
      "3 -0.33014477037274087 0.46270106702963504\n",
      "4 -0.33587673044276234 0.6011021127411934\n",
      "5 -0.3356347655116438 0.6010523351723633\n",
      "6 -0.33564976778694866 0.6011991301006138\n",
      "7 -0.16022180295231347 0.6023572016452368\n",
      "8 -0.033737447305364404 0.5900475869576092\n",
      "9 -0.033737447305364404 0.5900475869576092\n",
      "10 0.02483885165616949 0.5891231321637798\n",
      "11 0.04509423777486178 0.592166095040169\n",
      "12 0.060027628430214156 0.5962549678185115\n",
      "13 0.060027628430214156 0.5962549678185115\n",
      "14 0.08502725309580596 nan\n",
      "15 0.08502725309580596 nan\n",
      "16 0.08502725309580596 nan\n",
      "17 0.08502725309580596 nan\n",
      "18 0.08502725309580596 nan\n",
      "19 0.08502725309580596 nan\n"
     ]
    }
   ],
   "source": [
    "for wave in range(1,20):\n",
    "    print( wave,\n",
    "          Lab2010[first_wave_joined_panel[wave]].corr(Con2015[first_wave_joined_panel[wave]]),\n",
    "          Lab2010[~first_wave_joined_panel[wave]].corr(Con2015[~first_wave_joined_panel[wave]]),)"
   ]
  },
  {
   "cell_type": "code",
   "execution_count": 42,
   "metadata": {},
   "outputs": [
    {
     "name": "stdout",
     "output_type": "stream",
     "text": [
      "1 0.08502725309580596 nan\n",
      "2 0.08502725309580596 nan\n",
      "3 0.08502725309580596 nan\n",
      "4 0.08502725309580596 nan\n",
      "5 0.08502725309580596 nan\n",
      "6 0.08502725309580596 nan\n",
      "7 0.11081420536264824 -0.32235313060698334\n",
      "8 0.1151875956557256 -0.3158463977615409\n",
      "9 0.114015058161784 -0.18792851912508743\n",
      "10 0.11352194532306659 -0.10093937631090157\n",
      "11 0.11564114733797397 -0.08253677077578192\n",
      "12 0.1167153036114765 -0.07555602857812743\n",
      "13 0.11560886904191217 -0.03486932713532534\n",
      "14 0.1105933739777556 0.016917860458299037\n",
      "15 0.10414216435039043 0.04601540549925962\n",
      "16 0.10436390321821368 0.05148351066147123\n",
      "17 0.0998090536335408 0.06359750804752981\n",
      "18 0.09743845928014834 0.06924687072194988\n",
      "19 0.11185057454786203 0.06668825450339508\n"
     ]
    }
   ],
   "source": [
    "for wave in range(1,20):\n",
    "    print( wave,\n",
    "          Lab2010[joined_panel_before_wave[wave]].corr(Con2015[joined_panel_before_wave[wave]]),\n",
    "          Lab2010[~joined_panel_before_wave[wave]].corr(Con2015[~joined_panel_before_wave[wave]]),)"
   ]
  },
  {
   "cell_type": "code",
   "execution_count": 38,
   "metadata": {},
   "outputs": [
    {
     "name": "stdout",
     "output_type": "stream",
     "text": [
      "1 -0.33900350011179525 0.3790529817722261\n",
      "2 -0.334137714115336 0.39431679603445763\n",
      "3 -0.32920697908113544 0.3798416844239813\n",
      "4 -0.34033270628967366 0.4957740874875053\n",
      "5 -0.3374497189886388 0.5000117627074612\n",
      "6 -0.33510495580765304 0.5074886949520409\n",
      "7 -0.10712961254285307 0.28554286114009114\n",
      "8 0.04409540471844286 0.1467064901896246\n",
      "9 0.02190133567900101 0.1581251257059908\n",
      "10 0.09484202942070685 0.07398177543898617\n",
      "11 0.09928769098451251 0.06839478415727204\n",
      "12 0.11031763339065578 0.04667384165336662\n",
      "13 0.10582693010172996 0.05907182236132919\n",
      "14 0.1355699056005412 0.030861716728359204\n",
      "15 0.1312333809091834 0.04666021847530593\n",
      "16 0.13804351541781557 0.05438931406115467\n",
      "17 0.11629764195482728 0.06507472589336527\n",
      "18 0.10067480610773795 0.07048369586635639\n",
      "19 0.11185057454786203 0.06668825450339508\n"
     ]
    }
   ],
   "source": [
    "for wave in range(1,20):\n",
    "    print( wave,\n",
    "          Lab2010[ BES_Panel[\"wave\"+str(wave)] ].corr(Con2015[ BES_Panel[\"wave\"+str(wave)] ]),\n",
    "          Lab2010[ ~BES_Panel[\"wave\"+str(wave)] ].corr(Con2015[ ~BES_Panel[\"wave\"+str(wave)] ]),)"
   ]
  },
  {
   "cell_type": "code",
   "execution_count": null,
   "metadata": {},
   "outputs": [],
   "source": []
  },
  {
   "cell_type": "code",
   "execution_count": null,
   "metadata": {},
   "outputs": [],
   "source": []
  },
  {
   "cell_type": "code",
   "execution_count": 13,
   "metadata": {},
   "outputs": [
    {
     "data": {
      "text/plain": [
       "2                         Conservative\n",
       "4                         Conservative\n",
       "5                                  NaN\n",
       "7                                  NaN\n",
       "9        Scottish National Party (SNP)\n",
       "                     ...              \n",
       "97148                     Conservative\n",
       "97151                              NaN\n",
       "97152                              NaN\n",
       "97155                     Conservative\n",
       "97157    Scottish National Party (SNP)\n",
       "Name: profile_past_vote_2010, Length: 54161, dtype: category\n",
       "Categories (14, object): [I would not vote < Conservative < Labour < Liberal Democrat ... 10 < Change UK- The Independent Group < Brexit Party < Don't know]"
      ]
     },
     "execution_count": 13,
     "metadata": {},
     "output_type": "execute_result"
    }
   ],
   "source": [
    "BES_Panel[\"profile_past_vote_2010\"][respondent_after_first_six_waves]"
   ]
  },
  {
   "cell_type": "code",
   "execution_count": null,
   "metadata": {},
   "outputs": [],
   "source": []
  },
  {
   "cell_type": "code",
   "execution_count": null,
   "metadata": {},
   "outputs": [],
   "source": []
  },
  {
   "cell_type": "code",
   "execution_count": null,
   "metadata": {},
   "outputs": [],
   "source": [
    "## past voting behaviour\n",
    "\n",
    "\n",
    "# profile_past_vote_2005\n",
    "    # date relative to W1 - February 2014 - March 2014\n",
    "    # 5 May 2005\n",
    "    # -8.818617385352498 yrs\n",
    "# profile_past_vote_2010\n",
    "    # date relative to W1 - February 2014 - March 2014\n",
    "    # 6 May 2010\n",
    "    # -3.8165639972621492"
   ]
  },
  {
   "cell_type": "code",
   "execution_count": 8,
   "metadata": {},
   "outputs": [],
   "source": [
    "td = (pd.to_datetime(\"5 May 2005\") - pd.to_datetime(\"28 Feb 2014\") )\n",
    "td.days/365.25"
   ]
  },
  {
   "cell_type": "code",
   "execution_count": 10,
   "metadata": {},
   "outputs": [
    {
     "data": {
      "text/plain": [
       "-8.818617385352498"
      ]
     },
     "execution_count": 10,
     "metadata": {},
     "output_type": "execute_result"
    }
   ],
   "source": [
    "td = (pd.to_datetime(\"6 May 2010\") - pd.to_datetime(\"28 Feb 2014\") )\n",
    "td.days/365.25"
   ]
  },
  {
   "cell_type": "code",
   "execution_count": 278,
   "metadata": {},
   "outputs": [
    {
     "data": {
      "text/plain": [
       "1.1854893908281998"
      ]
     },
     "execution_count": 278,
     "metadata": {},
     "output_type": "execute_result"
    }
   ],
   "source": [
    "td = (pd.to_datetime(\"7 May 2015\") - pd.to_datetime(\"28 Feb 2014\") )\n",
    "td.days/365.25"
   ]
  },
  {
   "cell_type": "code",
   "execution_count": 51,
   "metadata": {},
   "outputs": [
    {
     "data": {
      "text/plain": [
       "56631"
      ]
     },
     "execution_count": 51,
     "metadata": {},
     "output_type": "execute_result"
    }
   ],
   "source": [
    "BES_Panel[\"profile_past_vote_2005\"].value_counts().sum()"
   ]
  },
  {
   "cell_type": "code",
   "execution_count": 58,
   "metadata": {},
   "outputs": [
    {
     "data": {
      "text/plain": [
       "65581"
      ]
     },
     "execution_count": 58,
     "metadata": {},
     "output_type": "execute_result"
    }
   ],
   "source": [
    "BES_Panel[\"profile_past_vote_2010\"].value_counts().sum()"
   ]
  },
  {
   "cell_type": "code",
   "execution_count": 59,
   "metadata": {},
   "outputs": [
    {
     "data": {
      "text/plain": [
       "0                    British National Party (BNP)\n",
       "1                                          Labour\n",
       "2                                    Conservative\n",
       "3                                     Plaid Cymru\n",
       "4                                    Conservative\n",
       "                           ...                   \n",
       "97153                                      Labour\n",
       "97154    United Kingdom Independence Party (UKIP)\n",
       "97155                                Conservative\n",
       "97156                            I would not vote\n",
       "97157               Scottish National Party (SNP)\n",
       "Name: profile_past_vote_2010, Length: 97158, dtype: category\n",
       "Categories (14, object): [I would not vote < Conservative < Labour < Liberal Democrat ... 10 < Change UK- The Independent Group < Brexit Party < Don't know]"
      ]
     },
     "execution_count": 59,
     "metadata": {},
     "output_type": "execute_result"
    }
   ],
   "source": [
    "BES_Panel[\"profile_past_vote_2010\"]"
   ]
  },
  {
   "cell_type": "code",
   "execution_count": 56,
   "metadata": {},
   "outputs": [
    {
     "data": {
      "text/plain": [
       "False    25471\n",
       "True     15056\n",
       "Name: Age_at_W1, dtype: int64"
      ]
     },
     "execution_count": 56,
     "metadata": {},
     "output_type": "execute_result"
    }
   ],
   "source": [
    "((pan_dataset_ages[ BES_Panel[\"profile_past_vote_2005\"].isnull() ][\"Age_at_W1\"]-8.818617385352498)<=19).value_counts()"
   ]
  },
  {
   "cell_type": "code",
   "execution_count": 57,
   "metadata": {},
   "outputs": [
    {
     "data": {
      "text/plain": [
       "False    23663\n",
       "True      7914\n",
       "Name: Age_at_W1, dtype: int64"
      ]
     },
     "execution_count": 57,
     "metadata": {},
     "output_type": "execute_result"
    }
   ],
   "source": [
    "((pan_dataset_ages[ BES_Panel[\"profile_past_vote_2010\"].isnull() ][\"Age_at_W1\"]-3.8165639972621492)<=19).value_counts()"
   ]
  },
  {
   "cell_type": "code",
   "execution_count": null,
   "metadata": {},
   "outputs": [],
   "source": []
  },
  {
   "cell_type": "code",
   "execution_count": 15,
   "metadata": {},
   "outputs": [
    {
     "data": {
      "text/plain": [
       "ukCitizenW1     30575\n",
       "ukCitizenW8      6338\n",
       "ukCitizenW14    31063\n",
       "ukCitizenW15    30842\n",
       "ukCitizenW16    37959\n",
       "ukCitizenW17     3564\n",
       "dtype: int64"
      ]
     },
     "execution_count": 15,
     "metadata": {},
     "output_type": "execute_result"
    }
   ],
   "source": [
    "search(BES_Panel,\"ukCitizen\")\n",
    "# ukCitizen, euCitizen, commonwealthCitizen, otherCitizen\n",
    "\n",
    "# ... misses \"Irish\" citizens who have access"
   ]
  },
  {
   "cell_type": "code",
   "execution_count": 32,
   "metadata": {},
   "outputs": [],
   "source": [
    "commonwealthCitizen = BES_Panel[search(BES_Panel,\"commonwealthCitizen\").index].fillna(method='ffill',axis=1)[search(BES_Panel,\"commonwealthCitizen\").index[-1]]"
   ]
  },
  {
   "cell_type": "code",
   "execution_count": 16,
   "metadata": {},
   "outputs": [],
   "source": [
    "ukCitizen = BES_Panel[search(BES_Panel,\"ukCitizen\").index].fillna(method='ffill',axis=1)[search(BES_Panel,\"ukCitizen\").index[-1]]"
   ]
  },
  {
   "cell_type": "code",
   "execution_count": 31,
   "metadata": {},
   "outputs": [
    {
     "data": {
      "text/plain": [
       "(77413, 79532)"
      ]
     },
     "execution_count": 31,
     "metadata": {},
     "output_type": "execute_result"
    }
   ],
   "source": [
    "(ukCitizen==\"Yes\").sum(),ukCitizen.notnull().sum()"
   ]
  },
  {
   "cell_type": "code",
   "execution_count": 33,
   "metadata": {},
   "outputs": [
    {
     "data": {
      "text/plain": [
       "(2776, 79532)"
      ]
     },
     "execution_count": 33,
     "metadata": {},
     "output_type": "execute_result"
    }
   ],
   "source": [
    "(commonwealthCitizen==\"Yes\").sum(),commonwealthCitizen.notnull().sum()"
   ]
  },
  {
   "cell_type": "code",
   "execution_count": 35,
   "metadata": {},
   "outputs": [
    {
     "data": {
      "text/plain": [
       "77836"
      ]
     },
     "execution_count": 35,
     "metadata": {},
     "output_type": "execute_result"
    }
   ],
   "source": [
    "((ukCitizen==\"Yes\")|(commonwealthCitizen==\"Yes\")).sum()"
   ]
  },
  {
   "cell_type": "code",
   "execution_count": 36,
   "metadata": {},
   "outputs": [
    {
     "data": {
      "text/plain": [
       "1696"
      ]
     },
     "execution_count": 36,
     "metadata": {},
     "output_type": "execute_result"
    }
   ],
   "source": [
    "79532-77836"
   ]
  },
  {
   "cell_type": "code",
   "execution_count": null,
   "metadata": {},
   "outputs": [],
   "source": [
    "ukCitizen = BES_Panel[search(BES_Panel,\"registeredW\\d+\").index].fillna(method='ffill',axis=1)[search(BES_Panel,\"registeredW\\d+\").index[-1]]"
   ]
  },
  {
   "cell_type": "code",
   "execution_count": 25,
   "metadata": {},
   "outputs": [
    {
     "data": {
      "text/plain": [
       "registeredW2     25814\n",
       "registeredW3     27819\n",
       "registeredW4     31532\n",
       "registeredW6     30258\n",
       "registeredW7     30895\n",
       "registeredW8     33502\n",
       "registeredW11    30956\n",
       "registeredW13    31136\n",
       "registeredW17    34366\n",
       "registeredW19    32177\n",
       "dtype: int64"
      ]
     },
     "execution_count": 25,
     "metadata": {},
     "output_type": "execute_result"
    }
   ],
   "source": [
    "search(BES_Panel,\"registeredW\\d+\")"
   ]
  },
  {
   "cell_type": "code",
   "execution_count": 37,
   "metadata": {},
   "outputs": [
    {
     "data": {
      "text/plain": [
       "registeredW2     581\n",
       "registeredW3     684\n",
       "registeredW4     644\n",
       "registeredW6     323\n",
       "registeredW7     503\n",
       "registeredW8     416\n",
       "registeredW11    473\n",
       "registeredW13    279\n",
       "registeredW17    588\n",
       "registeredW19    259\n",
       "dtype: int64"
      ]
     },
     "execution_count": 37,
     "metadata": {},
     "output_type": "execute_result"
    }
   ],
   "source": [
    "(BES_Panel[search(BES_Panel,\"registeredW\\d+\").index]==\"Don't know\").sum()"
   ]
  },
  {
   "cell_type": "code",
   "execution_count": 28,
   "metadata": {},
   "outputs": [
    {
     "data": {
      "text/plain": [
       "registeredW2     396\n",
       "registeredW3     360\n",
       "registeredW4     406\n",
       "registeredW6     333\n",
       "registeredW7     249\n",
       "registeredW8     278\n",
       "registeredW11    326\n",
       "registeredW13    219\n",
       "registeredW17    260\n",
       "registeredW19    182\n",
       "dtype: int64"
      ]
     },
     "execution_count": 28,
     "metadata": {},
     "output_type": "execute_result"
    }
   ],
   "source": [
    "(BES_Panel[search(BES_Panel,\"registeredW\\d+\").index]==\"No\").sum()"
   ]
  },
  {
   "cell_type": "code",
   "execution_count": 23,
   "metadata": {},
   "outputs": [
    {
     "data": {
      "text/plain": [
       "reasonNotRegistered_1W2        46\n",
       "reasonNotRegistered_2W2        32\n",
       "reasonNotRegistered_3W2        25\n",
       "reasonNotRegistered_4W2        48\n",
       "reasonNotRegistered_5W2        30\n",
       "reasonNotRegistered_6W2        40\n",
       "reasonNotRegistered_7W2       109\n",
       "reasonNotRegistered_8W2        26\n",
       "reasonNotRegistered_noneW2      0\n",
       "reasonNotRegistered_dkW2       32\n",
       "reasonNotRegistered_1W3        51\n",
       "reasonNotRegistered_2W3         9\n",
       "reasonNotRegistered_3W3        29\n",
       "reasonNotRegistered_4W3        43\n",
       "reasonNotRegistered_5W3        39\n",
       "reasonNotRegistered_6W3        24\n",
       "reasonNotRegistered_7W3       116\n",
       "reasonNotRegistered_8W3        22\n",
       "reasonNotRegistered_noneW3      0\n",
       "reasonNotRegistered_dkW3       26\n",
       "reasonNotRegistered_1W4       119\n",
       "reasonNotRegistered_2W4        12\n",
       "reasonNotRegistered_3W4        26\n",
       "reasonNotRegistered_4W4        47\n",
       "reasonNotRegistered_5W4        48\n",
       "reasonNotRegistered_6W4        29\n",
       "reasonNotRegistered_7W4        77\n",
       "reasonNotRegistered_8W4        31\n",
       "reasonNotRegistered_noneW4      0\n",
       "reasonNotRegistered_dkW4       13\n",
       "reasonNotRegistered_1W6       124\n",
       "reasonNotRegistered_2W6        16\n",
       "reasonNotRegistered_3W6        10\n",
       "reasonNotRegistered_4W6        48\n",
       "reasonNotRegistered_5W6        33\n",
       "reasonNotRegistered_6W6        23\n",
       "reasonNotRegistered_7W6        32\n",
       "reasonNotRegistered_8W6        20\n",
       "reasonNotRegistered_noneW6      0\n",
       "reasonNotRegistered_dkW6       17\n",
       "reasonNotRegistered_1W7        39\n",
       "reasonNotRegistered_2W7         4\n",
       "reasonNotRegistered_3W7        10\n",
       "reasonNotRegistered_4W7        50\n",
       "reasonNotRegistered_5W7        25\n",
       "reasonNotRegistered_6W7        11\n",
       "reasonNotRegistered_7W7        32\n",
       "reasonNotRegistered_8W7        24\n",
       "reasonNotRegistered_noneW7      0\n",
       "reasonNotRegistered_dkW7       29\n",
       "reasonNotRegistered_1W8        62\n",
       "reasonNotRegistered_2W8         8\n",
       "reasonNotRegistered_3W8        15\n",
       "reasonNotRegistered_4W8        46\n",
       "reasonNotRegistered_5W8        36\n",
       "reasonNotRegistered_6W8        18\n",
       "reasonNotRegistered_7W8        39\n",
       "reasonNotRegistered_8W8        25\n",
       "reasonNotRegistered_noneW8      0\n",
       "reasonNotRegistered_dkW8       28\n",
       "dtype: int64"
      ]
     },
     "execution_count": 23,
     "metadata": {},
     "output_type": "execute_result"
    }
   ],
   "source": [
    "(BES_Panel[search(BES_Panel,\"reasonNotRegistered\").index]==\"Yes\").sum()"
   ]
  },
  {
   "cell_type": "code",
   "execution_count": 44,
   "metadata": {},
   "outputs": [
    {
     "data": {
      "text/html": [
       "<div>\n",
       "<style scoped>\n",
       "    .dataframe tbody tr th:only-of-type {\n",
       "        vertical-align: middle;\n",
       "    }\n",
       "\n",
       "    .dataframe tbody tr th {\n",
       "        vertical-align: top;\n",
       "    }\n",
       "\n",
       "    .dataframe thead th {\n",
       "        text-align: right;\n",
       "    }\n",
       "</style>\n",
       "<table border=\"1\" class=\"dataframe\">\n",
       "  <thead>\n",
       "    <tr style=\"text-align: right;\">\n",
       "      <th></th>\n",
       "      <th>turnoutUKGeneralW1__Very likely that I will vote</th>\n",
       "      <th>turnoutUKGeneralW2__Very likely that I will vote</th>\n",
       "      <th>turnoutUKGeneralW3__Very likely that I will vote</th>\n",
       "      <th>turnoutUKGeneralW4__Very likely that I will vote</th>\n",
       "      <th>turnoutUKGeneralW5__Very likely that I will vote</th>\n",
       "      <th>turnoutUKGeneralW7__Very likely that I will vote</th>\n",
       "      <th>turnoutUKGeneralW8__Very likely that I will vote</th>\n",
       "      <th>turnoutUKGeneralW9__Very likely that I will vote</th>\n",
       "      <th>turnoutUKGeneralW10__Very likely that I will vote</th>\n",
       "      <th>turnoutUKGeneralW11__Very likely that I will vote</th>\n",
       "      <th>...</th>\n",
       "      <th>conPriorities2_schoolW4_Yes</th>\n",
       "      <th>conPriorities2_nhsW4_Yes</th>\n",
       "      <th>conPriorities2_costLiveW4_Yes</th>\n",
       "      <th>devoResponsibleWalesJusticeW2_The UK Parliament</th>\n",
       "      <th>conPriorities2_immigW4_Yes</th>\n",
       "      <th>conPriorities2_crimeW4_Yes</th>\n",
       "      <th>sharedContentOnline_1W5_Yes</th>\n",
       "      <th>partySiteOthW5_Yes</th>\n",
       "      <th>euCitizenW1_Yes</th>\n",
       "      <th>conPriorities2_natsecW4_Yes</th>\n",
       "    </tr>\n",
       "  </thead>\n",
       "  <tbody>\n",
       "    <tr>\n",
       "      <th>1607</th>\n",
       "      <td>NaN</td>\n",
       "      <td>NaN</td>\n",
       "      <td>0.0</td>\n",
       "      <td>0.0</td>\n",
       "      <td>0.0</td>\n",
       "      <td>0.0</td>\n",
       "      <td>0.0</td>\n",
       "      <td>0.0</td>\n",
       "      <td>0.0</td>\n",
       "      <td>NaN</td>\n",
       "      <td>...</td>\n",
       "      <td>NaN</td>\n",
       "      <td>NaN</td>\n",
       "      <td>NaN</td>\n",
       "      <td>NaN</td>\n",
       "      <td>NaN</td>\n",
       "      <td>NaN</td>\n",
       "      <td>NaN</td>\n",
       "      <td>NaN</td>\n",
       "      <td>NaN</td>\n",
       "      <td>NaN</td>\n",
       "    </tr>\n",
       "    <tr>\n",
       "      <th>1644</th>\n",
       "      <td>0.0</td>\n",
       "      <td>0.0</td>\n",
       "      <td>0.0</td>\n",
       "      <td>0.0</td>\n",
       "      <td>0.0</td>\n",
       "      <td>NaN</td>\n",
       "      <td>0.0</td>\n",
       "      <td>0.0</td>\n",
       "      <td>0.0</td>\n",
       "      <td>0.0</td>\n",
       "      <td>...</td>\n",
       "      <td>NaN</td>\n",
       "      <td>NaN</td>\n",
       "      <td>NaN</td>\n",
       "      <td>NaN</td>\n",
       "      <td>NaN</td>\n",
       "      <td>NaN</td>\n",
       "      <td>NaN</td>\n",
       "      <td>NaN</td>\n",
       "      <td>0.0</td>\n",
       "      <td>0.0</td>\n",
       "    </tr>\n",
       "    <tr>\n",
       "      <th>1709</th>\n",
       "      <td>NaN</td>\n",
       "      <td>NaN</td>\n",
       "      <td>NaN</td>\n",
       "      <td>3.0</td>\n",
       "      <td>3.0</td>\n",
       "      <td>2.0</td>\n",
       "      <td>4.0</td>\n",
       "      <td>NaN</td>\n",
       "      <td>NaN</td>\n",
       "      <td>3.0</td>\n",
       "      <td>...</td>\n",
       "      <td>NaN</td>\n",
       "      <td>NaN</td>\n",
       "      <td>NaN</td>\n",
       "      <td>NaN</td>\n",
       "      <td>NaN</td>\n",
       "      <td>NaN</td>\n",
       "      <td>0.0</td>\n",
       "      <td>NaN</td>\n",
       "      <td>NaN</td>\n",
       "      <td>NaN</td>\n",
       "    </tr>\n",
       "    <tr>\n",
       "      <th>2063</th>\n",
       "      <td>0.0</td>\n",
       "      <td>0.0</td>\n",
       "      <td>NaN</td>\n",
       "      <td>0.0</td>\n",
       "      <td>0.0</td>\n",
       "      <td>0.0</td>\n",
       "      <td>0.0</td>\n",
       "      <td>0.0</td>\n",
       "      <td>NaN</td>\n",
       "      <td>NaN</td>\n",
       "      <td>...</td>\n",
       "      <td>NaN</td>\n",
       "      <td>NaN</td>\n",
       "      <td>NaN</td>\n",
       "      <td>NaN</td>\n",
       "      <td>NaN</td>\n",
       "      <td>NaN</td>\n",
       "      <td>1.0</td>\n",
       "      <td>1.0</td>\n",
       "      <td>0.0</td>\n",
       "      <td>NaN</td>\n",
       "    </tr>\n",
       "    <tr>\n",
       "      <th>2072</th>\n",
       "      <td>4.0</td>\n",
       "      <td>4.0</td>\n",
       "      <td>4.0</td>\n",
       "      <td>4.0</td>\n",
       "      <td>4.0</td>\n",
       "      <td>4.0</td>\n",
       "      <td>4.0</td>\n",
       "      <td>4.0</td>\n",
       "      <td>4.0</td>\n",
       "      <td>4.0</td>\n",
       "      <td>...</td>\n",
       "      <td>NaN</td>\n",
       "      <td>NaN</td>\n",
       "      <td>NaN</td>\n",
       "      <td>NaN</td>\n",
       "      <td>NaN</td>\n",
       "      <td>NaN</td>\n",
       "      <td>1.0</td>\n",
       "      <td>0.0</td>\n",
       "      <td>0.0</td>\n",
       "      <td>NaN</td>\n",
       "    </tr>\n",
       "    <tr>\n",
       "      <th>...</th>\n",
       "      <td>...</td>\n",
       "      <td>...</td>\n",
       "      <td>...</td>\n",
       "      <td>...</td>\n",
       "      <td>...</td>\n",
       "      <td>...</td>\n",
       "      <td>...</td>\n",
       "      <td>...</td>\n",
       "      <td>...</td>\n",
       "      <td>...</td>\n",
       "      <td>...</td>\n",
       "      <td>...</td>\n",
       "      <td>...</td>\n",
       "      <td>...</td>\n",
       "      <td>...</td>\n",
       "      <td>...</td>\n",
       "      <td>...</td>\n",
       "      <td>...</td>\n",
       "      <td>...</td>\n",
       "      <td>...</td>\n",
       "      <td>...</td>\n",
       "    </tr>\n",
       "    <tr>\n",
       "      <th>96062</th>\n",
       "      <td>NaN</td>\n",
       "      <td>NaN</td>\n",
       "      <td>4.0</td>\n",
       "      <td>4.0</td>\n",
       "      <td>0.0</td>\n",
       "      <td>NaN</td>\n",
       "      <td>NaN</td>\n",
       "      <td>NaN</td>\n",
       "      <td>NaN</td>\n",
       "      <td>NaN</td>\n",
       "      <td>...</td>\n",
       "      <td>NaN</td>\n",
       "      <td>NaN</td>\n",
       "      <td>NaN</td>\n",
       "      <td>NaN</td>\n",
       "      <td>NaN</td>\n",
       "      <td>NaN</td>\n",
       "      <td>1.0</td>\n",
       "      <td>0.0</td>\n",
       "      <td>NaN</td>\n",
       "      <td>NaN</td>\n",
       "    </tr>\n",
       "    <tr>\n",
       "      <th>96098</th>\n",
       "      <td>NaN</td>\n",
       "      <td>NaN</td>\n",
       "      <td>4.0</td>\n",
       "      <td>3.0</td>\n",
       "      <td>3.0</td>\n",
       "      <td>3.0</td>\n",
       "      <td>3.0</td>\n",
       "      <td>4.0</td>\n",
       "      <td>4.0</td>\n",
       "      <td>4.0</td>\n",
       "      <td>...</td>\n",
       "      <td>NaN</td>\n",
       "      <td>NaN</td>\n",
       "      <td>NaN</td>\n",
       "      <td>NaN</td>\n",
       "      <td>NaN</td>\n",
       "      <td>NaN</td>\n",
       "      <td>0.0</td>\n",
       "      <td>NaN</td>\n",
       "      <td>NaN</td>\n",
       "      <td>NaN</td>\n",
       "    </tr>\n",
       "    <tr>\n",
       "      <th>96186</th>\n",
       "      <td>NaN</td>\n",
       "      <td>NaN</td>\n",
       "      <td>NaN</td>\n",
       "      <td>4.0</td>\n",
       "      <td>0.0</td>\n",
       "      <td>NaN</td>\n",
       "      <td>NaN</td>\n",
       "      <td>NaN</td>\n",
       "      <td>NaN</td>\n",
       "      <td>NaN</td>\n",
       "      <td>...</td>\n",
       "      <td>NaN</td>\n",
       "      <td>NaN</td>\n",
       "      <td>NaN</td>\n",
       "      <td>NaN</td>\n",
       "      <td>NaN</td>\n",
       "      <td>NaN</td>\n",
       "      <td>NaN</td>\n",
       "      <td>NaN</td>\n",
       "      <td>NaN</td>\n",
       "      <td>NaN</td>\n",
       "    </tr>\n",
       "    <tr>\n",
       "      <th>96681</th>\n",
       "      <td>4.0</td>\n",
       "      <td>3.0</td>\n",
       "      <td>4.0</td>\n",
       "      <td>3.0</td>\n",
       "      <td>4.0</td>\n",
       "      <td>4.0</td>\n",
       "      <td>4.0</td>\n",
       "      <td>NaN</td>\n",
       "      <td>NaN</td>\n",
       "      <td>NaN</td>\n",
       "      <td>...</td>\n",
       "      <td>NaN</td>\n",
       "      <td>NaN</td>\n",
       "      <td>NaN</td>\n",
       "      <td>1.0</td>\n",
       "      <td>NaN</td>\n",
       "      <td>NaN</td>\n",
       "      <td>1.0</td>\n",
       "      <td>0.0</td>\n",
       "      <td>0.0</td>\n",
       "      <td>NaN</td>\n",
       "    </tr>\n",
       "    <tr>\n",
       "      <th>97021</th>\n",
       "      <td>NaN</td>\n",
       "      <td>NaN</td>\n",
       "      <td>NaN</td>\n",
       "      <td>0.0</td>\n",
       "      <td>0.0</td>\n",
       "      <td>0.0</td>\n",
       "      <td>0.0</td>\n",
       "      <td>0.0</td>\n",
       "      <td>0.0</td>\n",
       "      <td>2.0</td>\n",
       "      <td>...</td>\n",
       "      <td>NaN</td>\n",
       "      <td>NaN</td>\n",
       "      <td>NaN</td>\n",
       "      <td>NaN</td>\n",
       "      <td>NaN</td>\n",
       "      <td>NaN</td>\n",
       "      <td>0.0</td>\n",
       "      <td>NaN</td>\n",
       "      <td>NaN</td>\n",
       "      <td>NaN</td>\n",
       "    </tr>\n",
       "  </tbody>\n",
       "</table>\n",
       "<p>333 rows × 11963 columns</p>\n",
       "</div>"
      ],
      "text/plain": [
       "       turnoutUKGeneralW1__Very likely that I will vote  \\\n",
       "1607                                                NaN   \n",
       "1644                                                0.0   \n",
       "1709                                                NaN   \n",
       "2063                                                0.0   \n",
       "2072                                                4.0   \n",
       "...                                                 ...   \n",
       "96062                                               NaN   \n",
       "96098                                               NaN   \n",
       "96186                                               NaN   \n",
       "96681                                               4.0   \n",
       "97021                                               NaN   \n",
       "\n",
       "       turnoutUKGeneralW2__Very likely that I will vote  \\\n",
       "1607                                                NaN   \n",
       "1644                                                0.0   \n",
       "1709                                                NaN   \n",
       "2063                                                0.0   \n",
       "2072                                                4.0   \n",
       "...                                                 ...   \n",
       "96062                                               NaN   \n",
       "96098                                               NaN   \n",
       "96186                                               NaN   \n",
       "96681                                               3.0   \n",
       "97021                                               NaN   \n",
       "\n",
       "       turnoutUKGeneralW3__Very likely that I will vote  \\\n",
       "1607                                                0.0   \n",
       "1644                                                0.0   \n",
       "1709                                                NaN   \n",
       "2063                                                NaN   \n",
       "2072                                                4.0   \n",
       "...                                                 ...   \n",
       "96062                                               4.0   \n",
       "96098                                               4.0   \n",
       "96186                                               NaN   \n",
       "96681                                               4.0   \n",
       "97021                                               NaN   \n",
       "\n",
       "       turnoutUKGeneralW4__Very likely that I will vote  \\\n",
       "1607                                                0.0   \n",
       "1644                                                0.0   \n",
       "1709                                                3.0   \n",
       "2063                                                0.0   \n",
       "2072                                                4.0   \n",
       "...                                                 ...   \n",
       "96062                                               4.0   \n",
       "96098                                               3.0   \n",
       "96186                                               4.0   \n",
       "96681                                               3.0   \n",
       "97021                                               0.0   \n",
       "\n",
       "       turnoutUKGeneralW5__Very likely that I will vote  \\\n",
       "1607                                                0.0   \n",
       "1644                                                0.0   \n",
       "1709                                                3.0   \n",
       "2063                                                0.0   \n",
       "2072                                                4.0   \n",
       "...                                                 ...   \n",
       "96062                                               0.0   \n",
       "96098                                               3.0   \n",
       "96186                                               0.0   \n",
       "96681                                               4.0   \n",
       "97021                                               0.0   \n",
       "\n",
       "       turnoutUKGeneralW7__Very likely that I will vote  \\\n",
       "1607                                                0.0   \n",
       "1644                                                NaN   \n",
       "1709                                                2.0   \n",
       "2063                                                0.0   \n",
       "2072                                                4.0   \n",
       "...                                                 ...   \n",
       "96062                                               NaN   \n",
       "96098                                               3.0   \n",
       "96186                                               NaN   \n",
       "96681                                               4.0   \n",
       "97021                                               0.0   \n",
       "\n",
       "       turnoutUKGeneralW8__Very likely that I will vote  \\\n",
       "1607                                                0.0   \n",
       "1644                                                0.0   \n",
       "1709                                                4.0   \n",
       "2063                                                0.0   \n",
       "2072                                                4.0   \n",
       "...                                                 ...   \n",
       "96062                                               NaN   \n",
       "96098                                               3.0   \n",
       "96186                                               NaN   \n",
       "96681                                               4.0   \n",
       "97021                                               0.0   \n",
       "\n",
       "       turnoutUKGeneralW9__Very likely that I will vote  \\\n",
       "1607                                                0.0   \n",
       "1644                                                0.0   \n",
       "1709                                                NaN   \n",
       "2063                                                0.0   \n",
       "2072                                                4.0   \n",
       "...                                                 ...   \n",
       "96062                                               NaN   \n",
       "96098                                               4.0   \n",
       "96186                                               NaN   \n",
       "96681                                               NaN   \n",
       "97021                                               0.0   \n",
       "\n",
       "       turnoutUKGeneralW10__Very likely that I will vote  \\\n",
       "1607                                                 0.0   \n",
       "1644                                                 0.0   \n",
       "1709                                                 NaN   \n",
       "2063                                                 NaN   \n",
       "2072                                                 4.0   \n",
       "...                                                  ...   \n",
       "96062                                                NaN   \n",
       "96098                                                4.0   \n",
       "96186                                                NaN   \n",
       "96681                                                NaN   \n",
       "97021                                                0.0   \n",
       "\n",
       "       turnoutUKGeneralW11__Very likely that I will vote  ...  \\\n",
       "1607                                                 NaN  ...   \n",
       "1644                                                 0.0  ...   \n",
       "1709                                                 3.0  ...   \n",
       "2063                                                 NaN  ...   \n",
       "2072                                                 4.0  ...   \n",
       "...                                                  ...  ...   \n",
       "96062                                                NaN  ...   \n",
       "96098                                                4.0  ...   \n",
       "96186                                                NaN  ...   \n",
       "96681                                                NaN  ...   \n",
       "97021                                                2.0  ...   \n",
       "\n",
       "       conPriorities2_schoolW4_Yes  conPriorities2_nhsW4_Yes  \\\n",
       "1607                           NaN                       NaN   \n",
       "1644                           NaN                       NaN   \n",
       "1709                           NaN                       NaN   \n",
       "2063                           NaN                       NaN   \n",
       "2072                           NaN                       NaN   \n",
       "...                            ...                       ...   \n",
       "96062                          NaN                       NaN   \n",
       "96098                          NaN                       NaN   \n",
       "96186                          NaN                       NaN   \n",
       "96681                          NaN                       NaN   \n",
       "97021                          NaN                       NaN   \n",
       "\n",
       "       conPriorities2_costLiveW4_Yes  \\\n",
       "1607                             NaN   \n",
       "1644                             NaN   \n",
       "1709                             NaN   \n",
       "2063                             NaN   \n",
       "2072                             NaN   \n",
       "...                              ...   \n",
       "96062                            NaN   \n",
       "96098                            NaN   \n",
       "96186                            NaN   \n",
       "96681                            NaN   \n",
       "97021                            NaN   \n",
       "\n",
       "       devoResponsibleWalesJusticeW2_The UK Parliament  \\\n",
       "1607                                               NaN   \n",
       "1644                                               NaN   \n",
       "1709                                               NaN   \n",
       "2063                                               NaN   \n",
       "2072                                               NaN   \n",
       "...                                                ...   \n",
       "96062                                              NaN   \n",
       "96098                                              NaN   \n",
       "96186                                              NaN   \n",
       "96681                                              1.0   \n",
       "97021                                              NaN   \n",
       "\n",
       "       conPriorities2_immigW4_Yes  conPriorities2_crimeW4_Yes  \\\n",
       "1607                          NaN                         NaN   \n",
       "1644                          NaN                         NaN   \n",
       "1709                          NaN                         NaN   \n",
       "2063                          NaN                         NaN   \n",
       "2072                          NaN                         NaN   \n",
       "...                           ...                         ...   \n",
       "96062                         NaN                         NaN   \n",
       "96098                         NaN                         NaN   \n",
       "96186                         NaN                         NaN   \n",
       "96681                         NaN                         NaN   \n",
       "97021                         NaN                         NaN   \n",
       "\n",
       "       sharedContentOnline_1W5_Yes  partySiteOthW5_Yes  euCitizenW1_Yes  \\\n",
       "1607                           NaN                 NaN              NaN   \n",
       "1644                           NaN                 NaN              0.0   \n",
       "1709                           0.0                 NaN              NaN   \n",
       "2063                           1.0                 1.0              0.0   \n",
       "2072                           1.0                 0.0              0.0   \n",
       "...                            ...                 ...              ...   \n",
       "96062                          1.0                 0.0              NaN   \n",
       "96098                          0.0                 NaN              NaN   \n",
       "96186                          NaN                 NaN              NaN   \n",
       "96681                          1.0                 0.0              0.0   \n",
       "97021                          0.0                 NaN              NaN   \n",
       "\n",
       "       conPriorities2_natsecW4_Yes  \n",
       "1607                           NaN  \n",
       "1644                           0.0  \n",
       "1709                           NaN  \n",
       "2063                           NaN  \n",
       "2072                           NaN  \n",
       "...                            ...  \n",
       "96062                          NaN  \n",
       "96098                          NaN  \n",
       "96186                          NaN  \n",
       "96681                          NaN  \n",
       "97021                          NaN  \n",
       "\n",
       "[333 rows x 11963 columns]"
      ]
     },
     "execution_count": 44,
     "metadata": {},
     "output_type": "execute_result"
    }
   ],
   "source": [
    "df"
   ]
  },
  {
   "cell_type": "code",
   "execution_count": 46,
   "metadata": {},
   "outputs": [
    {
     "data": {
      "text/html": [
       "<style  type=\"text/css\" >\n",
       "</style><table id=\"T_cdc04be6_8732_11ea_9600_20cf301b91b3\" style='display:inline'><caption>Top 20 positive (spearman) correlations for reasonNotRegistered_1W6_Yes</caption><thead>    <tr>        <th class=\"blank level0\" ></th>        <th class=\"col_heading level0 col0\" >r</th>        <th class=\"col_heading level0 col1\" >p</th>        <th class=\"col_heading level0 col2\" >N</th>    </tr></thead><tbody>\n",
       "                <tr>\n",
       "                        <th id=\"T_cdc04be6_8732_11ea_9600_20cf301b91b3level0_row0\" class=\"row_heading level0 row0\" >partyMemberPastW10_Plaid Cymru</th>\n",
       "                        <td id=\"T_cdc04be6_8732_11ea_9600_20cf301b91b3row0_col0\" class=\"data row0 col0\" >1.000000</td>\n",
       "                        <td id=\"T_cdc04be6_8732_11ea_9600_20cf301b91b3row0_col1\" class=\"data row0 col1\" >0.00</td>\n",
       "                        <td id=\"T_cdc04be6_8732_11ea_9600_20cf301b91b3row0_col2\" class=\"data row0 col2\" >10</td>\n",
       "            </tr>\n",
       "            <tr>\n",
       "                        <th id=\"T_cdc04be6_8732_11ea_9600_20cf301b91b3level0_row1\" class=\"row_heading level0 row1\" >freeSpeechMilitaryTeachW15__Definitely</th>\n",
       "                        <td id=\"T_cdc04be6_8732_11ea_9600_20cf301b91b3row1_col0\" class=\"data row1 col0\" >0.990000</td>\n",
       "                        <td id=\"T_cdc04be6_8732_11ea_9600_20cf301b91b3row1_col1\" class=\"data row1 col1\" >0.00</td>\n",
       "                        <td id=\"T_cdc04be6_8732_11ea_9600_20cf301b91b3row1_col2\" class=\"data row1 col2\" >13</td>\n",
       "            </tr>\n",
       "            <tr>\n",
       "                        <th id=\"T_cdc04be6_8732_11ea_9600_20cf301b91b3level0_row2\" class=\"row_heading level0 row2\" >reasonNotRegistered_1W8_Yes</th>\n",
       "                        <td id=\"T_cdc04be6_8732_11ea_9600_20cf301b91b3row2_col0\" class=\"data row2 col0\" >0.950000</td>\n",
       "                        <td id=\"T_cdc04be6_8732_11ea_9600_20cf301b91b3row2_col1\" class=\"data row2 col1\" >0.00</td>\n",
       "                        <td id=\"T_cdc04be6_8732_11ea_9600_20cf301b91b3row2_col2\" class=\"data row2 col2\" >36</td>\n",
       "            </tr>\n",
       "            <tr>\n",
       "                        <th id=\"T_cdc04be6_8732_11ea_9600_20cf301b91b3level0_row3\" class=\"row_heading level0 row3\" >noDealEmotions_5W15_Yes</th>\n",
       "                        <td id=\"T_cdc04be6_8732_11ea_9600_20cf301b91b3row3_col0\" class=\"data row3 col0\" >0.820000</td>\n",
       "                        <td id=\"T_cdc04be6_8732_11ea_9600_20cf301b91b3row3_col1\" class=\"data row3 col1\" >0.00</td>\n",
       "                        <td id=\"T_cdc04be6_8732_11ea_9600_20cf301b91b3row3_col2\" class=\"data row3 col2\" >13</td>\n",
       "            </tr>\n",
       "            <tr>\n",
       "                        <th id=\"T_cdc04be6_8732_11ea_9600_20cf301b91b3level0_row4\" class=\"row_heading level0 row4\" >euID5W7__Strongly agree</th>\n",
       "                        <td id=\"T_cdc04be6_8732_11ea_9600_20cf301b91b3row4_col0\" class=\"data row4 col0\" >0.760000</td>\n",
       "                        <td id=\"T_cdc04be6_8732_11ea_9600_20cf301b91b3row4_col1\" class=\"data row4 col1\" >0.01</td>\n",
       "                        <td id=\"T_cdc04be6_8732_11ea_9600_20cf301b91b3row4_col2\" class=\"data row4 col2\" >10</td>\n",
       "            </tr>\n",
       "            <tr>\n",
       "                        <th id=\"T_cdc04be6_8732_11ea_9600_20cf301b91b3level0_row5\" class=\"row_heading level0 row5\" >labHopeW14_Yes</th>\n",
       "                        <td id=\"T_cdc04be6_8732_11ea_9600_20cf301b91b3row5_col0\" class=\"data row5 col0\" >0.760000</td>\n",
       "                        <td id=\"T_cdc04be6_8732_11ea_9600_20cf301b91b3row5_col1\" class=\"data row5 col1\" >0.01</td>\n",
       "                        <td id=\"T_cdc04be6_8732_11ea_9600_20cf301b91b3row5_col2\" class=\"data row5 col2\" >10</td>\n",
       "            </tr>\n",
       "            <tr>\n",
       "                        <th id=\"T_cdc04be6_8732_11ea_9600_20cf301b91b3level0_row6\" class=\"row_heading level0 row6\" >profile_work_statW14_Full time student</th>\n",
       "                        <td id=\"T_cdc04be6_8732_11ea_9600_20cf301b91b3row6_col0\" class=\"data row6 col0\" >0.740000</td>\n",
       "                        <td id=\"T_cdc04be6_8732_11ea_9600_20cf301b91b3row6_col1\" class=\"data row6 col1\" >0.00</td>\n",
       "                        <td id=\"T_cdc04be6_8732_11ea_9600_20cf301b91b3row6_col2\" class=\"data row6 col2\" >63</td>\n",
       "            </tr>\n",
       "            <tr>\n",
       "                        <th id=\"T_cdc04be6_8732_11ea_9600_20cf301b91b3level0_row7\" class=\"row_heading level0 row7\" >warmMuslimW11__Very warm</th>\n",
       "                        <td id=\"T_cdc04be6_8732_11ea_9600_20cf301b91b3row7_col0\" class=\"data row7 col0\" >0.730000</td>\n",
       "                        <td id=\"T_cdc04be6_8732_11ea_9600_20cf301b91b3row7_col1\" class=\"data row7 col1\" >0.00</td>\n",
       "                        <td id=\"T_cdc04be6_8732_11ea_9600_20cf301b91b3row7_col2\" class=\"data row7 col2\" >13</td>\n",
       "            </tr>\n",
       "            <tr>\n",
       "                        <th id=\"T_cdc04be6_8732_11ea_9600_20cf301b91b3level0_row8\" class=\"row_heading level0 row8\" >freeSpeechIslamistSpeechW15__Definitely</th>\n",
       "                        <td id=\"T_cdc04be6_8732_11ea_9600_20cf301b91b3row8_col0\" class=\"data row8 col0\" >0.720000</td>\n",
       "                        <td id=\"T_cdc04be6_8732_11ea_9600_20cf301b91b3row8_col1\" class=\"data row8 col1\" >0.01</td>\n",
       "                        <td id=\"T_cdc04be6_8732_11ea_9600_20cf301b91b3row8_col2\" class=\"data row8 col2\" >13</td>\n",
       "            </tr>\n",
       "            <tr>\n",
       "                        <th id=\"T_cdc04be6_8732_11ea_9600_20cf301b91b3level0_row9\" class=\"row_heading level0 row9\" >workingStatusW14W15_Full time university student</th>\n",
       "                        <td id=\"T_cdc04be6_8732_11ea_9600_20cf301b91b3row9_col0\" class=\"data row9 col0\" >0.720000</td>\n",
       "                        <td id=\"T_cdc04be6_8732_11ea_9600_20cf301b91b3row9_col1\" class=\"data row9 col1\" >0.00</td>\n",
       "                        <td id=\"T_cdc04be6_8732_11ea_9600_20cf301b91b3row9_col2\" class=\"data row9 col2\" >71</td>\n",
       "            </tr>\n",
       "            <tr>\n",
       "                        <th id=\"T_cdc04be6_8732_11ea_9600_20cf301b91b3level0_row10\" class=\"row_heading level0 row10\" >childvalues_9W14_Yes</th>\n",
       "                        <td id=\"T_cdc04be6_8732_11ea_9600_20cf301b91b3row10_col0\" class=\"data row10 col0\" >0.710000</td>\n",
       "                        <td id=\"T_cdc04be6_8732_11ea_9600_20cf301b91b3row10_col1\" class=\"data row10 col1\" >0.01</td>\n",
       "                        <td id=\"T_cdc04be6_8732_11ea_9600_20cf301b91b3row10_col2\" class=\"data row10 col2\" >12</td>\n",
       "            </tr>\n",
       "            <tr>\n",
       "                        <th id=\"T_cdc04be6_8732_11ea_9600_20cf301b91b3level0_row11\" class=\"row_heading level0 row11\" >likeDaveyW19__Strongly like</th>\n",
       "                        <td id=\"T_cdc04be6_8732_11ea_9600_20cf301b91b3row11_col0\" class=\"data row11 col0\" >0.690000</td>\n",
       "                        <td id=\"T_cdc04be6_8732_11ea_9600_20cf301b91b3row11_col1\" class=\"data row11 col1\" >0.00</td>\n",
       "                        <td id=\"T_cdc04be6_8732_11ea_9600_20cf301b91b3row11_col2\" class=\"data row11 col2\" >17</td>\n",
       "            </tr>\n",
       "            <tr>\n",
       "                        <th id=\"T_cdc04be6_8732_11ea_9600_20cf301b91b3level0_row12\" class=\"row_heading level0 row12\" >noDealEmotions_7W15_Yes</th>\n",
       "                        <td id=\"T_cdc04be6_8732_11ea_9600_20cf301b91b3row12_col0\" class=\"data row12 col0\" >0.690000</td>\n",
       "                        <td id=\"T_cdc04be6_8732_11ea_9600_20cf301b91b3row12_col1\" class=\"data row12 col1\" >0.01</td>\n",
       "                        <td id=\"T_cdc04be6_8732_11ea_9600_20cf301b91b3row12_col2\" class=\"data row12 col2\" >13</td>\n",
       "            </tr>\n",
       "            <tr>\n",
       "                        <th id=\"T_cdc04be6_8732_11ea_9600_20cf301b91b3level0_row13\" class=\"row_heading level0 row13\" >partyIdSqueezeW14_Liberal Democrat</th>\n",
       "                        <td id=\"T_cdc04be6_8732_11ea_9600_20cf301b91b3row13_col0\" class=\"data row13 col0\" >0.680000</td>\n",
       "                        <td id=\"T_cdc04be6_8732_11ea_9600_20cf301b91b3row13_col1\" class=\"data row13 col1\" >0.00</td>\n",
       "                        <td id=\"T_cdc04be6_8732_11ea_9600_20cf301b91b3row13_col2\" class=\"data row13 col2\" >27</td>\n",
       "            </tr>\n",
       "            <tr>\n",
       "                        <th id=\"T_cdc04be6_8732_11ea_9600_20cf301b91b3level0_row14\" class=\"row_heading level0 row14\" >likeWoodW6__Strongly like</th>\n",
       "                        <td id=\"T_cdc04be6_8732_11ea_9600_20cf301b91b3row14_col0\" class=\"data row14 col0\" >0.670000</td>\n",
       "                        <td id=\"T_cdc04be6_8732_11ea_9600_20cf301b91b3row14_col1\" class=\"data row14 col1\" >0.01</td>\n",
       "                        <td id=\"T_cdc04be6_8732_11ea_9600_20cf301b91b3row14_col2\" class=\"data row14 col2\" >13</td>\n",
       "            </tr>\n",
       "            <tr>\n",
       "                        <th id=\"T_cdc04be6_8732_11ea_9600_20cf301b91b3level0_row15\" class=\"row_heading level0 row15\" >workingStatusW6_W12_Other full time student</th>\n",
       "                        <td id=\"T_cdc04be6_8732_11ea_9600_20cf301b91b3row15_col0\" class=\"data row15 col0\" >0.620000</td>\n",
       "                        <td id=\"T_cdc04be6_8732_11ea_9600_20cf301b91b3row15_col1\" class=\"data row15 col1\" >0.00</td>\n",
       "                        <td id=\"T_cdc04be6_8732_11ea_9600_20cf301b91b3row15_col2\" class=\"data row15 col2\" >253</td>\n",
       "            </tr>\n",
       "            <tr>\n",
       "                        <th id=\"T_cdc04be6_8732_11ea_9600_20cf301b91b3level0_row16\" class=\"row_heading level0 row16\" >selfOccSuperviseW16_Yes</th>\n",
       "                        <td id=\"T_cdc04be6_8732_11ea_9600_20cf301b91b3row16_col0\" class=\"data row16 col0\" >0.600000</td>\n",
       "                        <td id=\"T_cdc04be6_8732_11ea_9600_20cf301b91b3row16_col1\" class=\"data row16 col1\" >0.01</td>\n",
       "                        <td id=\"T_cdc04be6_8732_11ea_9600_20cf301b91b3row16_col2\" class=\"data row16 col2\" >19</td>\n",
       "            </tr>\n",
       "            <tr>\n",
       "                        <th id=\"T_cdc04be6_8732_11ea_9600_20cf301b91b3level0_row17\" class=\"row_heading level0 row17\" >ptvGrnW12__Very likely</th>\n",
       "                        <td id=\"T_cdc04be6_8732_11ea_9600_20cf301b91b3row17_col0\" class=\"data row17 col0\" >0.600000</td>\n",
       "                        <td id=\"T_cdc04be6_8732_11ea_9600_20cf301b91b3row17_col1\" class=\"data row17 col1\" >0.01</td>\n",
       "                        <td id=\"T_cdc04be6_8732_11ea_9600_20cf301b91b3row17_col2\" class=\"data row17 col2\" >17</td>\n",
       "            </tr>\n",
       "            <tr>\n",
       "                        <th id=\"T_cdc04be6_8732_11ea_9600_20cf301b91b3level0_row18\" class=\"row_heading level0 row18\" >subjClassW17_Yes, middle class</th>\n",
       "                        <td id=\"T_cdc04be6_8732_11ea_9600_20cf301b91b3row18_col0\" class=\"data row18 col0\" >0.590000</td>\n",
       "                        <td id=\"T_cdc04be6_8732_11ea_9600_20cf301b91b3row18_col1\" class=\"data row18 col1\" >0.00</td>\n",
       "                        <td id=\"T_cdc04be6_8732_11ea_9600_20cf301b91b3row18_col2\" class=\"data row18 col2\" >55</td>\n",
       "            </tr>\n",
       "            <tr>\n",
       "                        <th id=\"T_cdc04be6_8732_11ea_9600_20cf301b91b3level0_row19\" class=\"row_heading level0 row19\" >passportOtherW9_Yes</th>\n",
       "                        <td id=\"T_cdc04be6_8732_11ea_9600_20cf301b91b3row19_col0\" class=\"data row19 col0\" >0.590000</td>\n",
       "                        <td id=\"T_cdc04be6_8732_11ea_9600_20cf301b91b3row19_col1\" class=\"data row19 col1\" >0.00</td>\n",
       "                        <td id=\"T_cdc04be6_8732_11ea_9600_20cf301b91b3row19_col2\" class=\"data row19 col2\" >93</td>\n",
       "            </tr>\n",
       "    </tbody></table><style  type=\"text/css\" >\n",
       "</style><table id=\"T_cdc1364a_8732_11ea_9b94_20cf301b91b3\" style='display:inline'><caption>Top 20 negative (spearman) correlations for reasonNotRegistered_1W6_Yes</caption><thead>    <tr>        <th class=\"blank level0\" ></th>        <th class=\"col_heading level0 col0\" >r</th>        <th class=\"col_heading level0 col1\" >p</th>        <th class=\"col_heading level0 col2\" >N</th>    </tr></thead><tbody>\n",
       "                <tr>\n",
       "                        <th id=\"T_cdc1364a_8732_11ea_9b94_20cf301b91b3level0_row0\" class=\"row_heading level0 row0\" >ukCitizenW1_Yes</th>\n",
       "                        <td id=\"T_cdc1364a_8732_11ea_9b94_20cf301b91b3row0_col0\" class=\"data row0 col0\" >-0.710000</td>\n",
       "                        <td id=\"T_cdc1364a_8732_11ea_9b94_20cf301b91b3row0_col1\" class=\"data row0 col1\" >0.00</td>\n",
       "                        <td id=\"T_cdc1364a_8732_11ea_9b94_20cf301b91b3row0_col2\" class=\"data row0 col2\" >125</td>\n",
       "            </tr>\n",
       "            <tr>\n",
       "                        <th id=\"T_cdc1364a_8732_11ea_9b94_20cf301b91b3level0_row1\" class=\"row_heading level0 row1\" >reasonNotRegistered_4W7_Yes</th>\n",
       "                        <td id=\"T_cdc1364a_8732_11ea_9b94_20cf301b91b3row1_col0\" class=\"data row1 col0\" >-0.690000</td>\n",
       "                        <td id=\"T_cdc1364a_8732_11ea_9b94_20cf301b91b3row1_col1\" class=\"data row1 col1\" >0.00</td>\n",
       "                        <td id=\"T_cdc1364a_8732_11ea_9b94_20cf301b91b3row1_col2\" class=\"data row1 col2\" >31</td>\n",
       "            </tr>\n",
       "            <tr>\n",
       "                        <th id=\"T_cdc1364a_8732_11ea_9b94_20cf301b91b3level0_row2\" class=\"row_heading level0 row2\" >partyContactConW18_Yes</th>\n",
       "                        <td id=\"T_cdc1364a_8732_11ea_9b94_20cf301b91b3row2_col0\" class=\"data row2 col0\" >-0.670000</td>\n",
       "                        <td id=\"T_cdc1364a_8732_11ea_9b94_20cf301b91b3row2_col1\" class=\"data row2 col1\" >0.00</td>\n",
       "                        <td id=\"T_cdc1364a_8732_11ea_9b94_20cf301b91b3row2_col2\" class=\"data row2 col2\" >16</td>\n",
       "            </tr>\n",
       "            <tr>\n",
       "                        <th id=\"T_cdc1364a_8732_11ea_9b94_20cf301b91b3level0_row3\" class=\"row_heading level0 row3\" >occCheckW17__Very well</th>\n",
       "                        <td id=\"T_cdc1364a_8732_11ea_9b94_20cf301b91b3row3_col0\" class=\"data row3 col0\" >-0.620000</td>\n",
       "                        <td id=\"T_cdc1364a_8732_11ea_9b94_20cf301b91b3row3_col1\" class=\"data row3 col1\" >0.01</td>\n",
       "                        <td id=\"T_cdc1364a_8732_11ea_9b94_20cf301b91b3row3_col2\" class=\"data row3 col2\" >18</td>\n",
       "            </tr>\n",
       "            <tr>\n",
       "                        <th id=\"T_cdc1364a_8732_11ea_9b94_20cf301b91b3level0_row4\" class=\"row_heading level0 row4\" >britishnessW2__Very strongly British</th>\n",
       "                        <td id=\"T_cdc1364a_8732_11ea_9b94_20cf301b91b3row4_col0\" class=\"data row4 col0\" >-0.610000</td>\n",
       "                        <td id=\"T_cdc1364a_8732_11ea_9b94_20cf301b91b3row4_col1\" class=\"data row4 col1\" >0.00</td>\n",
       "                        <td id=\"T_cdc1364a_8732_11ea_9b94_20cf301b91b3row4_col2\" class=\"data row4 col2\" >125</td>\n",
       "            </tr>\n",
       "            <tr>\n",
       "                        <th id=\"T_cdc1364a_8732_11ea_9b94_20cf301b91b3level0_row5\" class=\"row_heading level0 row5\" >partyContactLabW12_Yes</th>\n",
       "                        <td id=\"T_cdc1364a_8732_11ea_9b94_20cf301b91b3row5_col0\" class=\"data row5 col0\" >-0.590000</td>\n",
       "                        <td id=\"T_cdc1364a_8732_11ea_9b94_20cf301b91b3row5_col1\" class=\"data row5 col1\" >0.01</td>\n",
       "                        <td id=\"T_cdc1364a_8732_11ea_9b94_20cf301b91b3row5_col2\" class=\"data row5 col2\" >19</td>\n",
       "            </tr>\n",
       "            <tr>\n",
       "                        <th id=\"T_cdc1364a_8732_11ea_9b94_20cf301b91b3level0_row6\" class=\"row_heading level0 row6\" >ageW15</th>\n",
       "                        <td id=\"T_cdc1364a_8732_11ea_9b94_20cf301b91b3row6_col0\" class=\"data row6 col0\" >-0.570000</td>\n",
       "                        <td id=\"T_cdc1364a_8732_11ea_9b94_20cf301b91b3row6_col1\" class=\"data row6 col1\" >0.00</td>\n",
       "                        <td id=\"T_cdc1364a_8732_11ea_9b94_20cf301b91b3row6_col2\" class=\"data row6 col2\" >58</td>\n",
       "            </tr>\n",
       "            <tr>\n",
       "                        <th id=\"T_cdc1364a_8732_11ea_9b94_20cf301b91b3level0_row7\" class=\"row_heading level0 row7\" >discrimWhiteW10__A lot of discrimination against</th>\n",
       "                        <td id=\"T_cdc1364a_8732_11ea_9b94_20cf301b91b3row7_col0\" class=\"data row7 col0\" >-0.560000</td>\n",
       "                        <td id=\"T_cdc1364a_8732_11ea_9b94_20cf301b91b3row7_col1\" class=\"data row7 col1\" >0.00</td>\n",
       "                        <td id=\"T_cdc1364a_8732_11ea_9b94_20cf301b91b3row7_col2\" class=\"data row7 col2\" >80</td>\n",
       "            </tr>\n",
       "            <tr>\n",
       "                        <th id=\"T_cdc1364a_8732_11ea_9b94_20cf301b91b3level0_row8\" class=\"row_heading level0 row8\" >ageGroup__66+</th>\n",
       "                        <td id=\"T_cdc1364a_8732_11ea_9b94_20cf301b91b3row8_col0\" class=\"data row8 col0\" >-0.550000</td>\n",
       "                        <td id=\"T_cdc1364a_8732_11ea_9b94_20cf301b91b3row8_col1\" class=\"data row8 col1\" >0.00</td>\n",
       "                        <td id=\"T_cdc1364a_8732_11ea_9b94_20cf301b91b3row8_col2\" class=\"data row8 col2\" >260</td>\n",
       "            </tr>\n",
       "            <tr>\n",
       "                        <th id=\"T_cdc1364a_8732_11ea_9b94_20cf301b91b3level0_row9\" class=\"row_heading level0 row9\" >Age</th>\n",
       "                        <td id=\"T_cdc1364a_8732_11ea_9b94_20cf301b91b3row9_col0\" class=\"data row9 col0\" >-0.550000</td>\n",
       "                        <td id=\"T_cdc1364a_8732_11ea_9b94_20cf301b91b3row9_col1\" class=\"data row9 col1\" >0.00</td>\n",
       "                        <td id=\"T_cdc1364a_8732_11ea_9b94_20cf301b91b3row9_col2\" class=\"data row9 col2\" >260</td>\n",
       "            </tr>\n",
       "            <tr>\n",
       "                        <th id=\"T_cdc1364a_8732_11ea_9b94_20cf301b91b3level0_row10\" class=\"row_heading level0 row10\" >registeredW13_Yes - at $postcode_hidden</th>\n",
       "                        <td id=\"T_cdc1364a_8732_11ea_9b94_20cf301b91b3row10_col0\" class=\"data row10 col0\" >-0.530000</td>\n",
       "                        <td id=\"T_cdc1364a_8732_11ea_9b94_20cf301b91b3row10_col1\" class=\"data row10 col1\" >0.00</td>\n",
       "                        <td id=\"T_cdc1364a_8732_11ea_9b94_20cf301b91b3row10_col2\" class=\"data row10 col2\" >78</td>\n",
       "            </tr>\n",
       "            <tr>\n",
       "                        <th id=\"T_cdc1364a_8732_11ea_9b94_20cf301b91b3level0_row11\" class=\"row_heading level0 row11\" >motherCountryBornW8_UK</th>\n",
       "                        <td id=\"T_cdc1364a_8732_11ea_9b94_20cf301b91b3row11_col0\" class=\"data row11 col0\" >-0.530000</td>\n",
       "                        <td id=\"T_cdc1364a_8732_11ea_9b94_20cf301b91b3row11_col1\" class=\"data row11 col1\" >0.00</td>\n",
       "                        <td id=\"T_cdc1364a_8732_11ea_9b94_20cf301b91b3row11_col2\" class=\"data row11 col2\" >103</td>\n",
       "            </tr>\n",
       "            <tr>\n",
       "                        <th id=\"T_cdc1364a_8732_11ea_9b94_20cf301b91b3level0_row12\" class=\"row_heading level0 row12\" >scotRefTurnoutW3_W14_No, I did not vote</th>\n",
       "                        <td id=\"T_cdc1364a_8732_11ea_9b94_20cf301b91b3row12_col0\" class=\"data row12 col0\" >-0.520000</td>\n",
       "                        <td id=\"T_cdc1364a_8732_11ea_9b94_20cf301b91b3row12_col1\" class=\"data row12 col1\" >0.00</td>\n",
       "                        <td id=\"T_cdc1364a_8732_11ea_9b94_20cf301b91b3row12_col2\" class=\"data row12 col2\" >38</td>\n",
       "            </tr>\n",
       "            <tr>\n",
       "                        <th id=\"T_cdc1364a_8732_11ea_9b94_20cf301b91b3level0_row13\" class=\"row_heading level0 row13\" >countryOfBirthW17_England</th>\n",
       "                        <td id=\"T_cdc1364a_8732_11ea_9b94_20cf301b91b3row13_col0\" class=\"data row13 col0\" >-0.510000</td>\n",
       "                        <td id=\"T_cdc1364a_8732_11ea_9b94_20cf301b91b3row13_col1\" class=\"data row13 col1\" >0.00</td>\n",
       "                        <td id=\"T_cdc1364a_8732_11ea_9b94_20cf301b91b3row13_col2\" class=\"data row13 col2\" >60</td>\n",
       "            </tr>\n",
       "            <tr>\n",
       "                        <th id=\"T_cdc1364a_8732_11ea_9b94_20cf301b91b3level0_row14\" class=\"row_heading level0 row14\" >selfEUCertainW4__Very certain</th>\n",
       "                        <td id=\"T_cdc1364a_8732_11ea_9b94_20cf301b91b3row14_col0\" class=\"data row14 col0\" >-0.500000</td>\n",
       "                        <td id=\"T_cdc1364a_8732_11ea_9b94_20cf301b91b3row14_col1\" class=\"data row14 col1\" >0.01</td>\n",
       "                        <td id=\"T_cdc1364a_8732_11ea_9b94_20cf301b91b3row14_col2\" class=\"data row14 col2\" >25</td>\n",
       "            </tr>\n",
       "            <tr>\n",
       "                        <th id=\"T_cdc1364a_8732_11ea_9b94_20cf301b91b3level0_row15\" class=\"row_heading level0 row15\" >englishnessW2__Very strongly English</th>\n",
       "                        <td id=\"T_cdc1364a_8732_11ea_9b94_20cf301b91b3row15_col0\" class=\"data row15 col0\" >-0.500000</td>\n",
       "                        <td id=\"T_cdc1364a_8732_11ea_9b94_20cf301b91b3row15_col1\" class=\"data row15 col1\" >0.00</td>\n",
       "                        <td id=\"T_cdc1364a_8732_11ea_9b94_20cf301b91b3row15_col2\" class=\"data row15 col2\" >125</td>\n",
       "            </tr>\n",
       "            <tr>\n",
       "                        <th id=\"T_cdc1364a_8732_11ea_9b94_20cf301b91b3level0_row16\" class=\"row_heading level0 row16\" >dutyLongW11_Choice</th>\n",
       "                        <td id=\"T_cdc1364a_8732_11ea_9b94_20cf301b91b3row16_col0\" class=\"data row16 col0\" >-0.490000</td>\n",
       "                        <td id=\"T_cdc1364a_8732_11ea_9b94_20cf301b91b3row16_col1\" class=\"data row16 col1\" >0.00</td>\n",
       "                        <td id=\"T_cdc1364a_8732_11ea_9b94_20cf301b91b3row16_col2\" class=\"data row16 col2\" >32</td>\n",
       "            </tr>\n",
       "            <tr>\n",
       "                        <th id=\"T_cdc1364a_8732_11ea_9b94_20cf301b91b3level0_row17\" class=\"row_heading level0 row17\" >effectsEUTradeW15__Much higher</th>\n",
       "                        <td id=\"T_cdc1364a_8732_11ea_9b94_20cf301b91b3row17_col0\" class=\"data row17 col0\" >-0.490000</td>\n",
       "                        <td id=\"T_cdc1364a_8732_11ea_9b94_20cf301b91b3row17_col1\" class=\"data row17 col1\" >0.00</td>\n",
       "                        <td id=\"T_cdc1364a_8732_11ea_9b94_20cf301b91b3row17_col2\" class=\"data row17 col2\" >48</td>\n",
       "            </tr>\n",
       "            <tr>\n",
       "                        <th id=\"T_cdc1364a_8732_11ea_9b94_20cf301b91b3level0_row18\" class=\"row_heading level0 row18\" >antiIntellectualW17__Strongly agree</th>\n",
       "                        <td id=\"T_cdc1364a_8732_11ea_9b94_20cf301b91b3row18_col0\" class=\"data row18 col0\" >-0.490000</td>\n",
       "                        <td id=\"T_cdc1364a_8732_11ea_9b94_20cf301b91b3row18_col1\" class=\"data row18 col1\" >0.00</td>\n",
       "                        <td id=\"T_cdc1364a_8732_11ea_9b94_20cf301b91b3row18_col2\" class=\"data row18 col2\" >52</td>\n",
       "            </tr>\n",
       "            <tr>\n",
       "                        <th id=\"T_cdc1364a_8732_11ea_9b94_20cf301b91b3level0_row19\" class=\"row_heading level0 row19\" >fatherCountryBornW8_UK</th>\n",
       "                        <td id=\"T_cdc1364a_8732_11ea_9b94_20cf301b91b3row19_col0\" class=\"data row19 col0\" >-0.480000</td>\n",
       "                        <td id=\"T_cdc1364a_8732_11ea_9b94_20cf301b91b3row19_col1\" class=\"data row19 col1\" >0.00</td>\n",
       "                        <td id=\"T_cdc1364a_8732_11ea_9b94_20cf301b91b3row19_col2\" class=\"data row19 col2\" >103</td>\n",
       "            </tr>\n",
       "    </tbody></table>"
      ]
     },
     "metadata": {},
     "output_type": "display_data"
    },
    {
     "name": "stdout",
     "output_type": "stream",
     "text": [
      "Wall time: 50.5 s\n"
     ]
    }
   ],
   "source": [
    "%%time\n",
    "pattern = \"reasonNotRegistered_1W6_Yes\"\n",
    "name = \"reasonNotRegistered_1W6_Yes\"\n",
    "corr_type = \"spearman\"\n",
    "mask = BES_Panel[\"wave6\"] & (BES_Panel[\"registeredW6\"]==\"No\")\n",
    "df = BES_reduced_with_na[mask].astype('float32')\n",
    "corr_df,corr_type = make_corr_summary(df, name, corr_type, pattern=pattern,min_sample_size=10)\n",
    "display_corr(corr_df, name, corr_type, text_wrap_length=50)"
   ]
  },
  {
   "cell_type": "code",
   "execution_count": 47,
   "metadata": {},
   "outputs": [
    {
     "data": {
      "text/plain": [
       "countryOfBirth       36842\n",
       "countryOfBirthW17    34366\n",
       "dtype: int64"
      ]
     },
     "execution_count": 47,
     "metadata": {},
     "output_type": "execute_result"
    }
   ],
   "source": [
    "search(BES_Panel,\"countryOfBirth\")"
   ]
  },
  {
   "cell_type": "code",
   "execution_count": 49,
   "metadata": {},
   "outputs": [
    {
     "data": {
      "text/plain": [
       "England                                 25332\n",
       "Scotland                                 6011\n",
       "Wales                                    2834\n",
       "Other: European Union member country      704\n",
       "Other: Rest of world                      703\n",
       "Other: Commonwealth member country        601\n",
       "Prefer not to answer                      272\n",
       "Republic of Ireland                       199\n",
       "Northern Ireland                          186\n",
       "Name: countryOfBirth, dtype: int64"
      ]
     },
     "execution_count": 49,
     "metadata": {},
     "output_type": "execute_result"
    }
   ],
   "source": [
    "BES_Panel[\"countryOfBirth\"].value_counts()"
   ]
  },
  {
   "cell_type": "code",
   "execution_count": 40,
   "metadata": {},
   "outputs": [
    {
     "data": {
      "text/plain": [
       "reasonNotRegistered_1W6_Yes    260\n",
       "dtype: int64"
      ]
     },
     "execution_count": 40,
     "metadata": {},
     "output_type": "execute_result"
    }
   ],
   "source": [
    "search(BES_reduced_with_na, \"reasonNotRegistered_1W6\")\n",
    "# BES_Panel[\"reasonNotRegistered_1W6\"]"
   ]
  },
  {
   "cell_type": "code",
   "execution_count": 42,
   "metadata": {},
   "outputs": [
    {
     "data": {
      "text/html": [
       "<div>\n",
       "<style scoped>\n",
       "    .dataframe tbody tr th:only-of-type {\n",
       "        vertical-align: middle;\n",
       "    }\n",
       "\n",
       "    .dataframe tbody tr th {\n",
       "        vertical-align: top;\n",
       "    }\n",
       "\n",
       "    .dataframe thead th {\n",
       "        text-align: right;\n",
       "    }\n",
       "</style>\n",
       "<table border=\"1\" class=\"dataframe\">\n",
       "  <thead>\n",
       "    <tr style=\"text-align: right;\">\n",
       "      <th></th>\n",
       "      <th>turnoutUKGeneralW1__Very likely that I will vote</th>\n",
       "      <th>turnoutUKGeneralW2__Very likely that I will vote</th>\n",
       "      <th>turnoutUKGeneralW3__Very likely that I will vote</th>\n",
       "      <th>turnoutUKGeneralW4__Very likely that I will vote</th>\n",
       "      <th>turnoutUKGeneralW5__Very likely that I will vote</th>\n",
       "      <th>turnoutUKGeneralW7__Very likely that I will vote</th>\n",
       "      <th>turnoutUKGeneralW8__Very likely that I will vote</th>\n",
       "      <th>turnoutUKGeneralW9__Very likely that I will vote</th>\n",
       "      <th>turnoutUKGeneralW10__Very likely that I will vote</th>\n",
       "      <th>turnoutUKGeneralW11__Very likely that I will vote</th>\n",
       "      <th>...</th>\n",
       "      <th>conPriorities2_schoolW4_Yes</th>\n",
       "      <th>conPriorities2_nhsW4_Yes</th>\n",
       "      <th>conPriorities2_costLiveW4_Yes</th>\n",
       "      <th>devoResponsibleWalesJusticeW2_The UK Parliament</th>\n",
       "      <th>conPriorities2_immigW4_Yes</th>\n",
       "      <th>conPriorities2_crimeW4_Yes</th>\n",
       "      <th>sharedContentOnline_1W5_Yes</th>\n",
       "      <th>partySiteOthW5_Yes</th>\n",
       "      <th>euCitizenW1_Yes</th>\n",
       "      <th>conPriorities2_natsecW4_Yes</th>\n",
       "    </tr>\n",
       "  </thead>\n",
       "  <tbody>\n",
       "    <tr>\n",
       "      <th>1607</th>\n",
       "      <td>NaN</td>\n",
       "      <td>NaN</td>\n",
       "      <td>0.0</td>\n",
       "      <td>0.0</td>\n",
       "      <td>0.0</td>\n",
       "      <td>0.0</td>\n",
       "      <td>0.0</td>\n",
       "      <td>0.0</td>\n",
       "      <td>0.0</td>\n",
       "      <td>NaN</td>\n",
       "      <td>...</td>\n",
       "      <td>NaN</td>\n",
       "      <td>NaN</td>\n",
       "      <td>NaN</td>\n",
       "      <td>NaN</td>\n",
       "      <td>NaN</td>\n",
       "      <td>NaN</td>\n",
       "      <td>NaN</td>\n",
       "      <td>NaN</td>\n",
       "      <td>NaN</td>\n",
       "      <td>NaN</td>\n",
       "    </tr>\n",
       "    <tr>\n",
       "      <th>1644</th>\n",
       "      <td>0.0</td>\n",
       "      <td>0.0</td>\n",
       "      <td>0.0</td>\n",
       "      <td>0.0</td>\n",
       "      <td>0.0</td>\n",
       "      <td>NaN</td>\n",
       "      <td>0.0</td>\n",
       "      <td>0.0</td>\n",
       "      <td>0.0</td>\n",
       "      <td>0.0</td>\n",
       "      <td>...</td>\n",
       "      <td>NaN</td>\n",
       "      <td>NaN</td>\n",
       "      <td>NaN</td>\n",
       "      <td>NaN</td>\n",
       "      <td>NaN</td>\n",
       "      <td>NaN</td>\n",
       "      <td>NaN</td>\n",
       "      <td>NaN</td>\n",
       "      <td>0.0</td>\n",
       "      <td>0.0</td>\n",
       "    </tr>\n",
       "    <tr>\n",
       "      <th>1709</th>\n",
       "      <td>NaN</td>\n",
       "      <td>NaN</td>\n",
       "      <td>NaN</td>\n",
       "      <td>3.0</td>\n",
       "      <td>3.0</td>\n",
       "      <td>2.0</td>\n",
       "      <td>4.0</td>\n",
       "      <td>NaN</td>\n",
       "      <td>NaN</td>\n",
       "      <td>3.0</td>\n",
       "      <td>...</td>\n",
       "      <td>NaN</td>\n",
       "      <td>NaN</td>\n",
       "      <td>NaN</td>\n",
       "      <td>NaN</td>\n",
       "      <td>NaN</td>\n",
       "      <td>NaN</td>\n",
       "      <td>0.0</td>\n",
       "      <td>NaN</td>\n",
       "      <td>NaN</td>\n",
       "      <td>NaN</td>\n",
       "    </tr>\n",
       "    <tr>\n",
       "      <th>2063</th>\n",
       "      <td>0.0</td>\n",
       "      <td>0.0</td>\n",
       "      <td>NaN</td>\n",
       "      <td>0.0</td>\n",
       "      <td>0.0</td>\n",
       "      <td>0.0</td>\n",
       "      <td>0.0</td>\n",
       "      <td>0.0</td>\n",
       "      <td>NaN</td>\n",
       "      <td>NaN</td>\n",
       "      <td>...</td>\n",
       "      <td>NaN</td>\n",
       "      <td>NaN</td>\n",
       "      <td>NaN</td>\n",
       "      <td>NaN</td>\n",
       "      <td>NaN</td>\n",
       "      <td>NaN</td>\n",
       "      <td>1.0</td>\n",
       "      <td>1.0</td>\n",
       "      <td>0.0</td>\n",
       "      <td>NaN</td>\n",
       "    </tr>\n",
       "    <tr>\n",
       "      <th>2072</th>\n",
       "      <td>4.0</td>\n",
       "      <td>4.0</td>\n",
       "      <td>4.0</td>\n",
       "      <td>4.0</td>\n",
       "      <td>4.0</td>\n",
       "      <td>4.0</td>\n",
       "      <td>4.0</td>\n",
       "      <td>4.0</td>\n",
       "      <td>4.0</td>\n",
       "      <td>4.0</td>\n",
       "      <td>...</td>\n",
       "      <td>NaN</td>\n",
       "      <td>NaN</td>\n",
       "      <td>NaN</td>\n",
       "      <td>NaN</td>\n",
       "      <td>NaN</td>\n",
       "      <td>NaN</td>\n",
       "      <td>1.0</td>\n",
       "      <td>0.0</td>\n",
       "      <td>0.0</td>\n",
       "      <td>NaN</td>\n",
       "    </tr>\n",
       "    <tr>\n",
       "      <th>...</th>\n",
       "      <td>...</td>\n",
       "      <td>...</td>\n",
       "      <td>...</td>\n",
       "      <td>...</td>\n",
       "      <td>...</td>\n",
       "      <td>...</td>\n",
       "      <td>...</td>\n",
       "      <td>...</td>\n",
       "      <td>...</td>\n",
       "      <td>...</td>\n",
       "      <td>...</td>\n",
       "      <td>...</td>\n",
       "      <td>...</td>\n",
       "      <td>...</td>\n",
       "      <td>...</td>\n",
       "      <td>...</td>\n",
       "      <td>...</td>\n",
       "      <td>...</td>\n",
       "      <td>...</td>\n",
       "      <td>...</td>\n",
       "      <td>...</td>\n",
       "    </tr>\n",
       "    <tr>\n",
       "      <th>96062</th>\n",
       "      <td>NaN</td>\n",
       "      <td>NaN</td>\n",
       "      <td>4.0</td>\n",
       "      <td>4.0</td>\n",
       "      <td>0.0</td>\n",
       "      <td>NaN</td>\n",
       "      <td>NaN</td>\n",
       "      <td>NaN</td>\n",
       "      <td>NaN</td>\n",
       "      <td>NaN</td>\n",
       "      <td>...</td>\n",
       "      <td>NaN</td>\n",
       "      <td>NaN</td>\n",
       "      <td>NaN</td>\n",
       "      <td>NaN</td>\n",
       "      <td>NaN</td>\n",
       "      <td>NaN</td>\n",
       "      <td>1.0</td>\n",
       "      <td>0.0</td>\n",
       "      <td>NaN</td>\n",
       "      <td>NaN</td>\n",
       "    </tr>\n",
       "    <tr>\n",
       "      <th>96098</th>\n",
       "      <td>NaN</td>\n",
       "      <td>NaN</td>\n",
       "      <td>4.0</td>\n",
       "      <td>3.0</td>\n",
       "      <td>3.0</td>\n",
       "      <td>3.0</td>\n",
       "      <td>3.0</td>\n",
       "      <td>4.0</td>\n",
       "      <td>4.0</td>\n",
       "      <td>4.0</td>\n",
       "      <td>...</td>\n",
       "      <td>NaN</td>\n",
       "      <td>NaN</td>\n",
       "      <td>NaN</td>\n",
       "      <td>NaN</td>\n",
       "      <td>NaN</td>\n",
       "      <td>NaN</td>\n",
       "      <td>0.0</td>\n",
       "      <td>NaN</td>\n",
       "      <td>NaN</td>\n",
       "      <td>NaN</td>\n",
       "    </tr>\n",
       "    <tr>\n",
       "      <th>96186</th>\n",
       "      <td>NaN</td>\n",
       "      <td>NaN</td>\n",
       "      <td>NaN</td>\n",
       "      <td>4.0</td>\n",
       "      <td>0.0</td>\n",
       "      <td>NaN</td>\n",
       "      <td>NaN</td>\n",
       "      <td>NaN</td>\n",
       "      <td>NaN</td>\n",
       "      <td>NaN</td>\n",
       "      <td>...</td>\n",
       "      <td>NaN</td>\n",
       "      <td>NaN</td>\n",
       "      <td>NaN</td>\n",
       "      <td>NaN</td>\n",
       "      <td>NaN</td>\n",
       "      <td>NaN</td>\n",
       "      <td>NaN</td>\n",
       "      <td>NaN</td>\n",
       "      <td>NaN</td>\n",
       "      <td>NaN</td>\n",
       "    </tr>\n",
       "    <tr>\n",
       "      <th>96681</th>\n",
       "      <td>4.0</td>\n",
       "      <td>3.0</td>\n",
       "      <td>4.0</td>\n",
       "      <td>3.0</td>\n",
       "      <td>4.0</td>\n",
       "      <td>4.0</td>\n",
       "      <td>4.0</td>\n",
       "      <td>NaN</td>\n",
       "      <td>NaN</td>\n",
       "      <td>NaN</td>\n",
       "      <td>...</td>\n",
       "      <td>NaN</td>\n",
       "      <td>NaN</td>\n",
       "      <td>NaN</td>\n",
       "      <td>1.0</td>\n",
       "      <td>NaN</td>\n",
       "      <td>NaN</td>\n",
       "      <td>1.0</td>\n",
       "      <td>0.0</td>\n",
       "      <td>0.0</td>\n",
       "      <td>NaN</td>\n",
       "    </tr>\n",
       "    <tr>\n",
       "      <th>97021</th>\n",
       "      <td>NaN</td>\n",
       "      <td>NaN</td>\n",
       "      <td>NaN</td>\n",
       "      <td>0.0</td>\n",
       "      <td>0.0</td>\n",
       "      <td>0.0</td>\n",
       "      <td>0.0</td>\n",
       "      <td>0.0</td>\n",
       "      <td>0.0</td>\n",
       "      <td>2.0</td>\n",
       "      <td>...</td>\n",
       "      <td>NaN</td>\n",
       "      <td>NaN</td>\n",
       "      <td>NaN</td>\n",
       "      <td>NaN</td>\n",
       "      <td>NaN</td>\n",
       "      <td>NaN</td>\n",
       "      <td>0.0</td>\n",
       "      <td>NaN</td>\n",
       "      <td>NaN</td>\n",
       "      <td>NaN</td>\n",
       "    </tr>\n",
       "  </tbody>\n",
       "</table>\n",
       "<p>333 rows × 11963 columns</p>\n",
       "</div>"
      ],
      "text/plain": [
       "       turnoutUKGeneralW1__Very likely that I will vote  \\\n",
       "1607                                                NaN   \n",
       "1644                                                0.0   \n",
       "1709                                                NaN   \n",
       "2063                                                0.0   \n",
       "2072                                                4.0   \n",
       "...                                                 ...   \n",
       "96062                                               NaN   \n",
       "96098                                               NaN   \n",
       "96186                                               NaN   \n",
       "96681                                               4.0   \n",
       "97021                                               NaN   \n",
       "\n",
       "       turnoutUKGeneralW2__Very likely that I will vote  \\\n",
       "1607                                                NaN   \n",
       "1644                                                0.0   \n",
       "1709                                                NaN   \n",
       "2063                                                0.0   \n",
       "2072                                                4.0   \n",
       "...                                                 ...   \n",
       "96062                                               NaN   \n",
       "96098                                               NaN   \n",
       "96186                                               NaN   \n",
       "96681                                               3.0   \n",
       "97021                                               NaN   \n",
       "\n",
       "       turnoutUKGeneralW3__Very likely that I will vote  \\\n",
       "1607                                                0.0   \n",
       "1644                                                0.0   \n",
       "1709                                                NaN   \n",
       "2063                                                NaN   \n",
       "2072                                                4.0   \n",
       "...                                                 ...   \n",
       "96062                                               4.0   \n",
       "96098                                               4.0   \n",
       "96186                                               NaN   \n",
       "96681                                               4.0   \n",
       "97021                                               NaN   \n",
       "\n",
       "       turnoutUKGeneralW4__Very likely that I will vote  \\\n",
       "1607                                                0.0   \n",
       "1644                                                0.0   \n",
       "1709                                                3.0   \n",
       "2063                                                0.0   \n",
       "2072                                                4.0   \n",
       "...                                                 ...   \n",
       "96062                                               4.0   \n",
       "96098                                               3.0   \n",
       "96186                                               4.0   \n",
       "96681                                               3.0   \n",
       "97021                                               0.0   \n",
       "\n",
       "       turnoutUKGeneralW5__Very likely that I will vote  \\\n",
       "1607                                                0.0   \n",
       "1644                                                0.0   \n",
       "1709                                                3.0   \n",
       "2063                                                0.0   \n",
       "2072                                                4.0   \n",
       "...                                                 ...   \n",
       "96062                                               0.0   \n",
       "96098                                               3.0   \n",
       "96186                                               0.0   \n",
       "96681                                               4.0   \n",
       "97021                                               0.0   \n",
       "\n",
       "       turnoutUKGeneralW7__Very likely that I will vote  \\\n",
       "1607                                                0.0   \n",
       "1644                                                NaN   \n",
       "1709                                                2.0   \n",
       "2063                                                0.0   \n",
       "2072                                                4.0   \n",
       "...                                                 ...   \n",
       "96062                                               NaN   \n",
       "96098                                               3.0   \n",
       "96186                                               NaN   \n",
       "96681                                               4.0   \n",
       "97021                                               0.0   \n",
       "\n",
       "       turnoutUKGeneralW8__Very likely that I will vote  \\\n",
       "1607                                                0.0   \n",
       "1644                                                0.0   \n",
       "1709                                                4.0   \n",
       "2063                                                0.0   \n",
       "2072                                                4.0   \n",
       "...                                                 ...   \n",
       "96062                                               NaN   \n",
       "96098                                               3.0   \n",
       "96186                                               NaN   \n",
       "96681                                               4.0   \n",
       "97021                                               0.0   \n",
       "\n",
       "       turnoutUKGeneralW9__Very likely that I will vote  \\\n",
       "1607                                                0.0   \n",
       "1644                                                0.0   \n",
       "1709                                                NaN   \n",
       "2063                                                0.0   \n",
       "2072                                                4.0   \n",
       "...                                                 ...   \n",
       "96062                                               NaN   \n",
       "96098                                               4.0   \n",
       "96186                                               NaN   \n",
       "96681                                               NaN   \n",
       "97021                                               0.0   \n",
       "\n",
       "       turnoutUKGeneralW10__Very likely that I will vote  \\\n",
       "1607                                                 0.0   \n",
       "1644                                                 0.0   \n",
       "1709                                                 NaN   \n",
       "2063                                                 NaN   \n",
       "2072                                                 4.0   \n",
       "...                                                  ...   \n",
       "96062                                                NaN   \n",
       "96098                                                4.0   \n",
       "96186                                                NaN   \n",
       "96681                                                NaN   \n",
       "97021                                                0.0   \n",
       "\n",
       "       turnoutUKGeneralW11__Very likely that I will vote  ...  \\\n",
       "1607                                                 NaN  ...   \n",
       "1644                                                 0.0  ...   \n",
       "1709                                                 3.0  ...   \n",
       "2063                                                 NaN  ...   \n",
       "2072                                                 4.0  ...   \n",
       "...                                                  ...  ...   \n",
       "96062                                                NaN  ...   \n",
       "96098                                                4.0  ...   \n",
       "96186                                                NaN  ...   \n",
       "96681                                                NaN  ...   \n",
       "97021                                                2.0  ...   \n",
       "\n",
       "       conPriorities2_schoolW4_Yes  conPriorities2_nhsW4_Yes  \\\n",
       "1607                           NaN                       NaN   \n",
       "1644                           NaN                       NaN   \n",
       "1709                           NaN                       NaN   \n",
       "2063                           NaN                       NaN   \n",
       "2072                           NaN                       NaN   \n",
       "...                            ...                       ...   \n",
       "96062                          NaN                       NaN   \n",
       "96098                          NaN                       NaN   \n",
       "96186                          NaN                       NaN   \n",
       "96681                          NaN                       NaN   \n",
       "97021                          NaN                       NaN   \n",
       "\n",
       "       conPriorities2_costLiveW4_Yes  \\\n",
       "1607                             NaN   \n",
       "1644                             NaN   \n",
       "1709                             NaN   \n",
       "2063                             NaN   \n",
       "2072                             NaN   \n",
       "...                              ...   \n",
       "96062                            NaN   \n",
       "96098                            NaN   \n",
       "96186                            NaN   \n",
       "96681                            NaN   \n",
       "97021                            NaN   \n",
       "\n",
       "       devoResponsibleWalesJusticeW2_The UK Parliament  \\\n",
       "1607                                               NaN   \n",
       "1644                                               NaN   \n",
       "1709                                               NaN   \n",
       "2063                                               NaN   \n",
       "2072                                               NaN   \n",
       "...                                                ...   \n",
       "96062                                              NaN   \n",
       "96098                                              NaN   \n",
       "96186                                              NaN   \n",
       "96681                                              1.0   \n",
       "97021                                              NaN   \n",
       "\n",
       "       conPriorities2_immigW4_Yes  conPriorities2_crimeW4_Yes  \\\n",
       "1607                          NaN                         NaN   \n",
       "1644                          NaN                         NaN   \n",
       "1709                          NaN                         NaN   \n",
       "2063                          NaN                         NaN   \n",
       "2072                          NaN                         NaN   \n",
       "...                           ...                         ...   \n",
       "96062                         NaN                         NaN   \n",
       "96098                         NaN                         NaN   \n",
       "96186                         NaN                         NaN   \n",
       "96681                         NaN                         NaN   \n",
       "97021                         NaN                         NaN   \n",
       "\n",
       "       sharedContentOnline_1W5_Yes  partySiteOthW5_Yes  euCitizenW1_Yes  \\\n",
       "1607                           NaN                 NaN              NaN   \n",
       "1644                           NaN                 NaN              0.0   \n",
       "1709                           0.0                 NaN              NaN   \n",
       "2063                           1.0                 1.0              0.0   \n",
       "2072                           1.0                 0.0              0.0   \n",
       "...                            ...                 ...              ...   \n",
       "96062                          1.0                 0.0              NaN   \n",
       "96098                          0.0                 NaN              NaN   \n",
       "96186                          NaN                 NaN              NaN   \n",
       "96681                          1.0                 0.0              0.0   \n",
       "97021                          0.0                 NaN              NaN   \n",
       "\n",
       "       conPriorities2_natsecW4_Yes  \n",
       "1607                           NaN  \n",
       "1644                           0.0  \n",
       "1709                           NaN  \n",
       "2063                           NaN  \n",
       "2072                           NaN  \n",
       "...                            ...  \n",
       "96062                          NaN  \n",
       "96098                          NaN  \n",
       "96186                          NaN  \n",
       "96681                          NaN  \n",
       "97021                          NaN  \n",
       "\n",
       "[333 rows x 11963 columns]"
      ]
     },
     "execution_count": 42,
     "metadata": {},
     "output_type": "execute_result"
    }
   ],
   "source": [
    "df"
   ]
  },
  {
   "cell_type": "code",
   "execution_count": 122,
   "metadata": {},
   "outputs": [],
   "source": []
  },
  {
   "cell_type": "code",
   "execution_count": 484,
   "metadata": {},
   "outputs": [],
   "source": [
    "pan_dataset_votes = pd.DataFrame()\n",
    "\n",
    "age_cut_off = 18\n",
    "\n",
    "Probably_didnt_vote_list = [\"Don't know\",\"No, did not vote\",\"No, I did not vote\",2.0,99.0]\n",
    "nowtsW19 = (BES_Panel[\"wt_new_W19_result\"].isnull() & BES_Panel[\"wave19\"])\n",
    "def add_cat_and_modify_df(pan_dataset_votes, col, mask, new_cat ):\n",
    "    if new_cat not in pan_dataset_votes[col].cat.categories:\n",
    "        pan_dataset_votes[col].cat.add_categories(new_cat,inplace=True)\n",
    "    pan_dataset_votes[col][mask] = new_cat\n",
    "\n",
    "# turnout_var = \"profile_turnout_2005\"\n",
    "past_vote_var = \"profile_past_vote_2005\"\n",
    "new_vote_var = \"2005GEVote\"    \n",
    "\n",
    "pan_dataset_votes[new_vote_var] = BES_Panel[past_vote_var].copy()\n",
    "# BES_Panel[\"profile_past_vote_2005\"].cat.categories\n",
    "replace_dict = {'I would not vote':'Did not vote',\n",
    "                'Conservative':'Conservative',\n",
    "                'Labour':'Labour',\n",
    "                'Liberal Democrat':'Liberal Democrat',\n",
    "                'Scottish National Party (SNP)':'Scottish National Party',\n",
    "                'Plaid Cymru':'Plaid Cymru',\n",
    "                'United Kingdom Independence Party (UKIP)':'United Kingdom Independence Party (UKIP)',\n",
    "                'Green Party':'Green Party',\n",
    "                'British National Party (BNP)':'British National Party (BNP)',\n",
    "                'Other': 'Other',\n",
    "                10.0:'Ambiguous category',\n",
    "                'Change UK- The Independent Group':'Veritas',\n",
    "                'Brexit Party':'Respect',\n",
    "                'An independent candidate':'Other',\n",
    "                \"Don't know\":\"Don't know\",\n",
    "               }\n",
    "# 'An independent candidate' -> An independent candidate\n",
    "# BES_Panel[\"profile_past_vote_2005\"].replace(replace_dict)\n",
    "\n",
    "pan_dataset_votes[new_vote_var] = pan_dataset_votes[new_vote_var].replace(replace_dict).astype('category')\n",
    "\n",
    "too_young_to_vote = pan_dataset_ages[\"Age_at_W1\"]<=(age_cut_off+8.818617385352498)\n",
    "add_cat_and_modify_df(pan_dataset_votes, new_vote_var, too_young_to_vote, \"Too Young To Vote\")\n",
    "\n",
    "pan_dataset_votes[new_vote_var+\"_complete\"] = pan_dataset_votes[new_vote_var]\n",
    "# entried that don't actually seem real/to contain any data!\n",
    "# nowtsW19 = (BES_Panel[\"wt_new_W19_result\"].isnull() & BES_Panel[\"wave19\"])\n",
    "add_cat_and_modify_df(pan_dataset_votes, new_vote_var+\"_complete\", nowtsW19, \"Not Present\")\n",
    "\n",
    "# we have no information - probably because not covered in any wave\n",
    "unknownW19 = pan_dataset_votes[new_vote_var+\"_complete\"].isnull()\n",
    "add_cat_and_modify_df(pan_dataset_votes, new_vote_var+\"_complete\", unknownW19, \"Unknown\")    \n",
    "    \n",
    "    \n",
    "# turnout_var = \"profile_turnout_2010\"\n",
    "past_vote_var = \"profile_past_vote_2010\"\n",
    "new_vote_var = \"2010GEVote\"\n",
    "\n",
    "# # three different turnout variables!\n",
    "# Didnt_vote_not_sure =BES_Panel[turnout_var].apply(lambda x: x in Probably_didnt_vote_list).replace(np.nan,False)\n",
    "# Didnt_vote_not_sure = Didnt_vote_not_sure|BES_Panel[\"voted2015\"].apply(lambda x: x in Probably_didnt_vote_list).replace(np.nan,False)\n",
    "# Didnt_vote_not_sure = Didnt_vote_not_sure|BES_Panel[\"genElecTurnoutRetroW6\"].apply(lambda x: x in Probably_didnt_vote_list).replace(np.nan,False)\n",
    "\n",
    "# lets assume that positive data (even \"don't know\"! in past_vote_var outranks recollection of voting/turnout)\n",
    "# Didnt_vote_not_sure = Didnt_vote_not_sure & BES_Panel[past_vote_var].isnull()\n",
    "\n",
    "pan_dataset_votes[new_vote_var] = BES_Panel[past_vote_var].copy()\n",
    "# add_cat_and_modify_df(pan_dataset_votes, new_vote_var, Didnt_vote_not_sure, \"Did not vote\")\n",
    "# BES_Panel[\"profile_past_vote_2010\"].cat.categories\n",
    "replace_dict = {'I would not vote':'Did not vote',\n",
    "                'Conservative':'Conservative',\n",
    "                'Labour':'Labour',\n",
    "                'Liberal Democrat':'Liberal Democrat',\n",
    "                'Scottish National Party (SNP)':'Scottish National Party',\n",
    "                'Plaid Cymru':'Plaid Cymru',\n",
    "                'United Kingdom Independence Party (UKIP)':'United Kingdom Independence Party (UKIP)',\n",
    "                'Green Party':'Green Party',\n",
    "                'British National Party (BNP)':'British National Party (BNP)',\n",
    "                'Other': 'Other',\n",
    "                10.0:'Ambiguous category',\n",
    "                'Change UK- The Independent Group':'Respect',\n",
    "                'Brexit Party':'Other',\n",
    "                \"Don't know\":\"Don't know\",\n",
    "               }\n",
    "# Brexit Party -> An independent candidate\n",
    "pan_dataset_votes[new_vote_var] = pan_dataset_votes[new_vote_var].replace(replace_dict).astype('category')\n",
    "\n",
    "\n",
    "too_young_to_vote = pan_dataset_ages[\"Age_at_W1\"]<=(age_cut_off+3.8165639972621492)\n",
    "add_cat_and_modify_df(pan_dataset_votes, new_vote_var, too_young_to_vote, \"Too Young To Vote\")\n",
    "\n",
    "pan_dataset_votes[new_vote_var+\"_complete\"] = pan_dataset_votes[new_vote_var]\n",
    "# entried that don't actually seem real/to contain any data!\n",
    "# nowtsW19 = (BES_Panel[\"wt_new_W19_result\"].isnull() & BES_Panel[\"wave19\"])\n",
    "add_cat_and_modify_df(pan_dataset_votes, new_vote_var+\"_complete\", nowtsW19, \"Not Present\")\n",
    "\n",
    "# we have no information - probably because not covered in any wave\n",
    "unknownW19 = pan_dataset_votes[new_vote_var+\"_complete\"].isnull()\n",
    "add_cat_and_modify_df(pan_dataset_votes, new_vote_var+\"_complete\", unknownW19, \"Unknown\")    \n",
    "    \n",
    "    \n",
    "    \n",
    "turnout_var = \"profile_turnout_2015\"\n",
    "past_vote_var = \"profile_past_vote_2015\"\n",
    "new_vote_var = \"2015GEVote\"\n",
    "\n",
    "# three different turnout variables!\n",
    "Didnt_vote_not_sure =BES_Panel[turnout_var].apply(lambda x: x in Probably_didnt_vote_list).replace(np.nan,False)\n",
    "Didnt_vote_not_sure = Didnt_vote_not_sure|BES_Panel[\"voted2015\"].apply(lambda x: x in Probably_didnt_vote_list).replace(np.nan,False)\n",
    "Didnt_vote_not_sure = Didnt_vote_not_sure|BES_Panel[\"genElecTurnoutRetroW6\"].apply(lambda x: x in Probably_didnt_vote_list).replace(np.nan,False)\n",
    "\n",
    "# lets assume that positive data (even \"don't know\"! in past_vote_var outranks recollection of voting/turnout)\n",
    "Didnt_vote_not_sure = Didnt_vote_not_sure & BES_Panel[past_vote_var].isnull()\n",
    "\n",
    "pan_dataset_votes[new_vote_var] = BES_Panel[past_vote_var]\n",
    "add_cat_and_modify_df(pan_dataset_votes, new_vote_var, Didnt_vote_not_sure, \"Did not vote\")\n",
    "# two non-voting variables for 2015!\n",
    "# if \"Did not vote\" not in BES_Panel[past_vote_var].cat.categories:\n",
    "#     BES_Panel[past_vote_var].cat.add_categories(\"Did not vote\",inplace=True)\n",
    "# # this is assumed to only be overwriting nans\n",
    "# BES_Panel[past_vote_var][Didnt_vote_not_sure] = \"Did not vote\"\n",
    "\n",
    "# BES_Panel[past_vote_var].value_counts()\n",
    "\n",
    "too_young_to_vote = pan_dataset_ages[\"Age_at_W1\"]<=(age_cut_off-1.1854893908281998)\n",
    "add_cat_and_modify_df(pan_dataset_votes, new_vote_var, too_young_to_vote, \"Too Young To Vote\")\n",
    "\n",
    "pan_dataset_votes[new_vote_var+\"_complete\"] = pan_dataset_votes[new_vote_var]\n",
    "# entried that don't actually seem real/to contain any data!\n",
    "# nowtsW19 = (BES_Panel[\"wt_new_W19_result\"].isnull() & BES_Panel[\"wave19\"])\n",
    "add_cat_and_modify_df(pan_dataset_votes, new_vote_var+\"_complete\", nowtsW19, \"Not Present\")\n",
    "\n",
    "# we have no information - probably because not covered in any wave\n",
    "unknownW19 = pan_dataset_votes[new_vote_var+\"_complete\"].isnull()\n",
    "add_cat_and_modify_df(pan_dataset_votes, new_vote_var+\"_complete\", unknownW19, \"Unknown\")\n",
    "\n",
    "\n",
    "\n",
    "turnout_var = \"profile_turnout_2017\"\n",
    "past_vote_var = \"profile_past_vote_2017\"\n",
    "new_vote_var = \"2017GEVote\"\n",
    "\n",
    "# generalElectionVoteRetro2017W18     8063\n",
    "# genElecTurnoutRetro2017W18          9369\n",
    "# voted2017W19                       32177\n",
    "# profile_past_vote_2017             70492\n",
    "# profile_turnout_2017               70322\n",
    "\n",
    "\n",
    "Didnt_vote_not_sure =BES_Panel[turnout_var].apply(lambda x: x in Probably_didnt_vote_list).replace(np.nan,False)\n",
    "Didnt_vote_not_sure = Didnt_vote_not_sure|BES_Panel[\"voted2017W19\"].apply(lambda x: x in Probably_didnt_vote_list).replace(np.nan,False)\n",
    "Didnt_vote_not_sure = Didnt_vote_not_sure|BES_Panel[\"genElecTurnoutRetro2017W18\"].apply(lambda x: x in Probably_didnt_vote_list).replace(np.nan,False)\n",
    "# lets assume that positive data (even \"don't know\"! in past_vote_var outranks recollection of voting/turnout)\n",
    "Didnt_vote_not_sure = Didnt_vote_not_sure & BES_Panel[past_vote_var].isnull()\n",
    "# two non-voting variables for 2015!\n",
    "pan_dataset_votes[new_vote_var] = BES_Panel[past_vote_var]\n",
    "add_cat_and_modify_df(pan_dataset_votes, new_vote_var, Didnt_vote_not_sure, \"Did not vote\")\n",
    "\n",
    "# if \"Did not vote\" not in BES_Panel[past_vote_var].cat.categories:\n",
    "#     BES_Panel[past_vote_var].cat.add_categories(\"Did not vote\",inplace=True)\n",
    "# # this is assumed to only be overwriting nans\n",
    "# BES_Panel[past_vote_var][Didnt_vote_not_sure] = \"Did not vote\"\n",
    "\n",
    "too_young_to_vote = pan_dataset_ages[\"Age_at_W12\"]<=age_cut_off\n",
    "add_cat_and_modify_df(pan_dataset_votes, new_vote_var, too_young_to_vote, \"Too Young To Vote\")\n",
    "\n",
    "pan_dataset_votes[new_vote_var+\"_complete\"] = pan_dataset_votes[new_vote_var]\n",
    "# entried that don't actually seem real/to contain any data!\n",
    "# nowtsW19 = (BES_Panel[\"wt_new_W19_result\"].isnull() & BES_Panel[\"wave19\"])\n",
    "add_cat_and_modify_df(pan_dataset_votes, new_vote_var+\"_complete\", nowtsW19, \"Not Present\")\n",
    "\n",
    "# we have no information - probably because not covered in any wave\n",
    "unknownW19 = pan_dataset_votes[new_vote_var+\"_complete\"].isnull()\n",
    "add_cat_and_modify_df(pan_dataset_votes, new_vote_var+\"_complete\", unknownW19, \"Unknown\")\n",
    "\n",
    "\n",
    "# BES_Panel[past_vote_var].value_counts()\n",
    "\n",
    "turnout_var = \"genElecTurnoutRetroW19\"\n",
    "past_vote_var = \"pastvote_ge_2019W19\"\n",
    "new_vote_var = \"2019GEVote\"\n",
    "\n",
    "Didnt_vote_not_sure =BES_Panel[turnout_var].apply(lambda x: x in Probably_didnt_vote_list).replace(np.nan,False)\n",
    "\n",
    "# lets assume that positive data (even \"don't know\"! in past_vote_var outranks recollection of voting/turnout)\n",
    "Didnt_vote_not_sure = Didnt_vote_not_sure & BES_Panel[past_vote_var].isnull()\n",
    "# two non-voting variables for 2015!\n",
    "pan_dataset_votes[new_vote_var] = BES_Panel[past_vote_var]\n",
    "add_cat_and_modify_df(pan_dataset_votes, new_vote_var, Didnt_vote_not_sure, \"Did not vote\")\n",
    "\n",
    "too_young_to_vote = pan_dataset_ages[\"Age_at_W18\"]<=age_cut_off\n",
    "add_cat_and_modify_df(pan_dataset_votes, new_vote_var, too_young_to_vote, \"Too Young To Vote\")\n",
    "\n",
    "# if \"Did not vote\" not in pan_dataset_votes[new_vote_var].cat.categories:\n",
    "#     pan_dataset_votes[new_vote_var].cat.add_categories(\"Did not vote\",inplace=True)\n",
    "# # this is assumed to only be overwriting nans\n",
    "# pan_dataset_votes[new_vote_var][Didnt_vote_not_sure] = \"Did not vote\"\n",
    "\n",
    "pan_dataset_votes[new_vote_var] = pan_dataset_votes[new_vote_var].cat.rename_categories({\"Green\":\"Green Party\"})\n",
    "pan_dataset_votes[new_vote_var] = pan_dataset_votes[new_vote_var].cat.add_categories({'United Kingdom Independence Party (UKIP)'})\n",
    "\n",
    "pan_dataset_votes[new_vote_var+\"_complete\"] = pan_dataset_votes[new_vote_var]\n",
    "# entried that don't actually seem real/to contain any data!\n",
    "# nowtsW19 = (BES_Panel[\"wt_new_W19_result\"].isnull() & BES_Panel[\"wave19\"])\n",
    "add_cat_and_modify_df(pan_dataset_votes, new_vote_var+\"_complete\", nowtsW19, \"Not Present\")\n",
    "# if \"Not Present\" not in pan_dataset_votes[new_vote_var+\"_complete\"].cat.categories:\n",
    "#     pan_dataset_votes[new_vote_var+\"_complete\"].cat.add_categories(\"Not Present\",inplace=True)\n",
    "# pan_dataset_votes[new_vote_var+\"_complete\"][nowtsW19] = \"Not Present\"\n",
    "\n",
    "\n",
    "\n",
    "replace_dict = {'An independent candidate':'Other'}\n",
    "# there's 3 - and only - UKIP VI people in this ~700 ppl - and no UKIP category\n",
    "# seems a bit dumb to add a category for just 3 ppl ...\n",
    "# unless you're going to create a coherent set of categories for all votes???\n",
    "last_chunk_unassigned = (pan_dataset_votes[new_vote_var+\"_complete\"].isnull() & BES_Panel[\"wt_new_W19_result\"].notnull())\n",
    "pan_dataset_votes[new_vote_var+\"_complete\"][last_chunk_unassigned] = \\\n",
    "    BES_Panel[\"generalElectionVoteW19\"][last_chunk_unassigned].astype('object').replace(replace_dict)\\\n",
    "        .astype('category').cat.set_categories(pan_dataset_votes[new_vote_var+\"_complete\"].cat.categories,ordered =True).values\n",
    "\n",
    "# we have no information - probably because not covered in any wave\n",
    "unknownW19 = pan_dataset_votes[new_vote_var+\"_complete\"].isnull()\n",
    "add_cat_and_modify_df(pan_dataset_votes, new_vote_var+\"_complete\", unknownW19, \"Unknown\")\n",
    "\n",
    "# too_young_to_vote = pan_dataset_ages[\"Age_at_W18\"]<=18\n",
    "# add_cat_and_modify_df(pan_dataset_votes, new_vote_var+\"_complete\", too_young_to_vote, \"Too Young To Vote\")\n",
    "\n",
    "\n",
    "# BES_Panel[past_vote_var].value_counts()\n",
    "\n",
    "turnout_var = \"profile_eurefturnout\"\n",
    "past_vote_var = \"profile_eurefvote\"\n",
    "new_vote_var = \"2016EUVote\"\n",
    "\n",
    "Didnt_vote_not_sure = BES_Panel[turnout_var].apply(lambda x: x in Probably_didnt_vote_list).replace(np.nan,False)\n",
    "\n",
    "# lets assume that positive data (even \"don't know\"! in past_vote_var outranks recollection of voting/turnout)\n",
    "Didnt_vote_not_sure = Didnt_vote_not_sure & BES_Panel[past_vote_var].isnull()\n",
    "\n",
    "pan_dataset_votes[new_vote_var] = BES_Panel[past_vote_var]\n",
    "add_cat_and_modify_df(pan_dataset_votes, new_vote_var, Didnt_vote_not_sure, \"Did not vote\")\n",
    "\n",
    "# # two non-voting variables for 2015!\n",
    "# if \"Did not vote\" not in BES_Panel[past_vote_var].cat.categories:\n",
    "#     BES_Panel[past_vote_var].cat.add_categories(\"Did not vote\",inplace=True)\n",
    "# # this is assumed to only be overwriting nans\n",
    "# BES_Panel[past_vote_var][Didnt_vote_not_sure] = \"Did not vote\"\n",
    "\n",
    "mask = BES_Panel[\"pastvote_EURefW17\"].notnull() & pan_dataset_votes[new_vote_var].isnull()\n",
    "\n",
    "# BES_Panel[\"pastvote_EURefW17\"][mask].replace(replace_dict).astype('category').cat.set_categories(BES_Panel[\"profile_eurefvote\"].cat.categories)\n",
    "replace_dict = {\"Male\":'Stay/remain in the EU',\"Female\":'Leave the EU',3.0:'Did not vote',4.0:\"Don't know\"}\n",
    "pan_dataset_votes[new_vote_var][mask] = \\\n",
    "    BES_Panel[\"pastvote_EURefW17\"][mask].astype('object').replace(replace_dict)\\\n",
    "        .astype('category').cat.set_categories(['Stay/remain in the EU', 'Leave the EU', \"Don't know\", 'Did not vote'],\n",
    "                                               ordered=True).values\n",
    "# BES_Panel[\"profile_eurefvote\"].cat.categories\n",
    "\n",
    "too_young_to_vote = pan_dataset_ages[\"Age_at_W8\"]<=age_cut_off\n",
    "add_cat_and_modify_df(pan_dataset_votes, new_vote_var, too_young_to_vote, \"Too Young To Vote\")\n",
    "\n",
    "pan_dataset_votes[new_vote_var+\"_complete\"] = pan_dataset_votes[new_vote_var]\n",
    "# entried that don't actually seem real/to contain any data!\n",
    "\n",
    "add_cat_and_modify_df(pan_dataset_votes, new_vote_var+\"_complete\", nowtsW19, \"Not Present\")\n",
    "\n",
    "# we have no information - probably because not covered in any wave\n",
    "unknownW19 = pan_dataset_votes[new_vote_var+\"_complete\"].isnull()\n",
    "add_cat_and_modify_df(pan_dataset_votes, new_vote_var+\"_complete\", unknownW19, \"Unknown\")\n",
    "\n",
    "\n",
    "turnout_var = \"euroTurnoutRetroW2\"\n",
    "past_vote_var = \"euroElectionVoteW2\"\n",
    "new_vote_var = \"2014EEVote\"\n",
    "\n",
    "# euroTurnoutW1          30542\n",
    "# euroTurnoutRetroW2     30262\n",
    "# euroElectionVoteW1             30537\n",
    "# euroElectionVoteW2             22188\n",
    "\n",
    "Didnt_vote_not_sure =BES_Panel[turnout_var].apply(lambda x: x in Probably_didnt_vote_list).replace(np.nan,False)\n",
    "Didnt_vote_not_sure = Didnt_vote_not_sure|BES_Panel[\"euroTurnoutW1\"].apply(lambda x: x in Probably_didnt_vote_list).replace(np.nan,False)\n",
    "# lets assume that positive data (even \"don't know\"! in past_vote_var outranks recollection of voting/turnout)\n",
    "Didnt_vote_not_sure = Didnt_vote_not_sure & BES_Panel[past_vote_var].isnull()\n",
    "# two non-voting variables for 2015!\n",
    "pan_dataset_votes[new_vote_var] = BES_Panel[past_vote_var]\n",
    "add_cat_and_modify_df(pan_dataset_votes, new_vote_var, Didnt_vote_not_sure, \"Did not vote\")\n",
    "\n",
    "too_young_to_vote = pan_dataset_ages[\"Age_at_W1\"]<=age_cut_off\n",
    "add_cat_and_modify_df(pan_dataset_votes, new_vote_var, too_young_to_vote, \"Too Young To Vote\")\n",
    "\n",
    "pan_dataset_votes[new_vote_var+\"_complete\"] = pan_dataset_votes[new_vote_var]\n",
    "\n",
    "add_cat_and_modify_df(pan_dataset_votes, new_vote_var+\"_complete\", nowtsW19, \"Not Present\")\n",
    "\n",
    "last_chunk_unassigned = ( pan_dataset_votes[new_vote_var+\"_complete\"].isnull() & BES_Panel[\"wave2\"] )\n",
    "pan_dataset_votes[new_vote_var+\"_complete\"][last_chunk_unassigned] = \\\n",
    "    BES_Panel[\"euroElectionVoteW2\"][last_chunk_unassigned].astype('object').replace(replace_dict)\\\n",
    "        .astype('category').cat.set_categories(pan_dataset_votes[new_vote_var+\"_complete\"].cat.categories,ordered =True).values\n",
    "\n",
    "# we have no information - probably because not covered in any wave\n",
    "unknownW19 = pan_dataset_votes[new_vote_var+\"_complete\"].isnull()\n",
    "add_cat_and_modify_df(pan_dataset_votes, new_vote_var+\"_complete\", unknownW19, \"Unknown\")\n",
    "\n",
    "\n",
    "turnout_var = \"euroTurnoutRetroW16\"\n",
    "past_vote_var = \"euroElectionVoteW16\"\n",
    "new_vote_var = \"2019EEVote\"\n",
    "\n",
    "# euroTurnoutRetroW16    37959\n",
    "# euroElectionVoteW16            25837\n",
    "# euroElectionVoteNonVoterW16    12122\n",
    "\n",
    "Didnt_vote_not_sure =BES_Panel[turnout_var].apply(lambda x: x in Probably_didnt_vote_list).replace(np.nan,False)\n",
    "# Didnt_vote_not_sure = Didnt_vote_not_sure|BES_Panel[\"euroTurnoutW1\"].apply(lambda x: x in Probably_didnt_vote_list).replace(np.nan,False)\n",
    "# lets assume that positive data (even \"don't know\"! in past_vote_var outranks recollection of voting/turnout)\n",
    "Didnt_vote_not_sure = Didnt_vote_not_sure & BES_Panel[past_vote_var].isnull()\n",
    "# two non-voting variables for 2015!\n",
    "pan_dataset_votes[new_vote_var] = BES_Panel[past_vote_var]\n",
    "add_cat_and_modify_df(pan_dataset_votes, new_vote_var, Didnt_vote_not_sure, \"Did not vote\")\n",
    "\n",
    "too_young_to_vote = pan_dataset_ages[\"Age_at_W16\"]<=age_cut_off\n",
    "add_cat_and_modify_df(pan_dataset_votes, new_vote_var, too_young_to_vote, \"Too Young To Vote\")\n",
    "\n",
    "pan_dataset_votes[new_vote_var+\"_complete\"] = pan_dataset_votes[new_vote_var]\n",
    "\n",
    "add_cat_and_modify_df(pan_dataset_votes, new_vote_var+\"_complete\", nowtsW19, \"Not Present\")\n",
    "\n",
    "# we have no information - probably because not covered in any wave\n",
    "unknownW19 = pan_dataset_votes[new_vote_var+\"_complete\"].isnull()\n",
    "add_cat_and_modify_df(pan_dataset_votes, new_vote_var+\"_complete\", unknownW19, \"Unknown\")\n",
    "\n"
   ]
  },
  {
   "cell_type": "code",
   "execution_count": 488,
   "metadata": {},
   "outputs": [
    {
     "data": {
      "text/plain": [
       "Unknown                                     60988\n",
       "Did not vote                                 8197\n",
       "United Kingdom Independence Party (UKIP)     6365\n",
       "Too Young To Vote                            5258\n",
       "Labour                                       5074\n",
       "Conservative                                 3899\n",
       "Green Party                                  2521\n",
       "Scottish National Party (SNP)                1443\n",
       "Liberal Democrat                             1379\n",
       "Not Present                                   629\n",
       "Other                                         565\n",
       "Plaid Cymru                                   437\n",
       "Don't know                                    308\n",
       "British National Party (BNP)                   95\n",
       "Name: 2014EEVote_complete, dtype: int64"
      ]
     },
     "execution_count": 488,
     "metadata": {},
     "output_type": "execute_result"
    }
   ],
   "source": [
    "pan_dataset_votes[\"2014EEVote\"+\"_complete\"].value_counts(dropna=False)"
   ]
  },
  {
   "cell_type": "code",
   "execution_count": null,
   "metadata": {},
   "outputs": [],
   "source": []
  },
  {
   "cell_type": "code",
   "execution_count": 489,
   "metadata": {},
   "outputs": [
    {
     "data": {
      "text/plain": [
       "Unknown                                     58536\n",
       "Did not vote                                12034\n",
       "Brexit Party                                 9229\n",
       "Liberal Democrat                             5369\n",
       "Green Party                                  3517\n",
       "Labour                                       2510\n",
       "Conservative                                 1715\n",
       "Scottish National Party (SNP)                 945\n",
       "Change UK- The Independent Group              882\n",
       "Not Present                                   629\n",
       "Other                                         526\n",
       "United Kingdom Independence Party (UKIP)      399\n",
       "Don't know                                    379\n",
       "Plaid Cymru                                   294\n",
       "Too Young To Vote                             194\n",
       "Name: 2019EEVote_complete, dtype: int64"
      ]
     },
     "execution_count": 489,
     "metadata": {},
     "output_type": "execute_result"
    }
   ],
   "source": [
    "pan_dataset_votes[\"2019EEVote\"+\"_complete\"].value_counts(dropna=False)"
   ]
  },
  {
   "cell_type": "code",
   "execution_count": null,
   "metadata": {},
   "outputs": [],
   "source": []
  },
  {
   "cell_type": "code",
   "execution_count": 469,
   "metadata": {},
   "outputs": [
    {
     "data": {
      "text/plain": [
       "Unknown                                     25473\n",
       "Too Young To Vote                           19789\n",
       "Labour                                      15323\n",
       "Conservative                                11666\n",
       "Liberal Democrat                             9423\n",
       "Did not vote                                 4783\n",
       "Scottish National Party                      3792\n",
       "Other                                        1770\n",
       "Don't know                                   1692\n",
       "United Kingdom Independence Party (UKIP)      684\n",
       "Not Present                                   629\n",
       "Plaid Cymru                                   625\n",
       "Green Party                                   614\n",
       "British National Party (BNP)                  505\n",
       "Ambiguous category                            283\n",
       "Respect                                       104\n",
       "Veritas                                         3\n",
       "Name: 2005GEVote_complete, dtype: int64"
      ]
     },
     "execution_count": 469,
     "metadata": {},
     "output_type": "execute_result"
    }
   ],
   "source": [
    "pan_dataset_votes[\"2005GEVote_complete\"].value_counts(dropna=False)"
   ]
  },
  {
   "cell_type": "code",
   "execution_count": 470,
   "metadata": {},
   "outputs": [
    {
     "data": {
      "text/plain": [
       "Unknown                                     23666\n",
       "Labour                                      16448\n",
       "Conservative                                14808\n",
       "Liberal Democrat                            12653\n",
       "Too Young To Vote                           11716\n",
       "Scottish National Party                      6067\n",
       "Did not vote                                 4436\n",
       "Other                                        1376\n",
       "United Kingdom Independence Party (UKIP)     1211\n",
       "Don't know                                    925\n",
       "British National Party (BNP)                  841\n",
       "Plaid Cymru                                   800\n",
       "Ambiguous category                            728\n",
       "Green Party                                   663\n",
       "Not Present                                   629\n",
       "Respect                                       191\n",
       "Name: 2010GEVote_complete, dtype: int64"
      ]
     },
     "execution_count": 470,
     "metadata": {},
     "output_type": "execute_result"
    }
   ],
   "source": [
    "pan_dataset_votes[\"2010GEVote_complete\"].value_counts(dropna=False)"
   ]
  },
  {
   "cell_type": "code",
   "execution_count": 471,
   "metadata": {},
   "outputs": [
    {
     "data": {
      "text/plain": [
       "Conservative                                23223\n",
       "Labour                                      21820\n",
       "Unknown                                     12616\n",
       "Did not vote                                10971\n",
       "United Kingdom Independence Party (UKIP)     7424\n",
       "Liberal Democrat                             5950\n",
       "Green Party                                  3817\n",
       "Scottish National Party (SNP)                3813\n",
       "Too Young To Vote                            3005\n",
       "Don't know                                   2206\n",
       "Other                                        1084\n",
       "Not Present                                   629\n",
       "Plaid Cymru                                   535\n",
       "British National Party (BNP)                   65\n",
       "Name: 2015GEVote_complete, dtype: int64"
      ]
     },
     "execution_count": 471,
     "metadata": {},
     "output_type": "execute_result"
    }
   ],
   "source": [
    "pan_dataset_votes[\"2015GEVote_complete\"].value_counts(dropna=False)"
   ]
  },
  {
   "cell_type": "code",
   "execution_count": 472,
   "metadata": {},
   "outputs": [
    {
     "data": {
      "text/plain": [
       "Unknown                                     26009\n",
       "Conservative                                23716\n",
       "Labour                                      23624\n",
       "Did not vote                                 8975\n",
       "Liberal Democrat                             5245\n",
       "Scottish National Party (SNP)                2515\n",
       "United Kingdom Independence Party (UKIP)     1482\n",
       "Too Young To Vote                            1403\n",
       "Green Party                                  1274\n",
       "Don't know                                   1173\n",
       "Other                                         716\n",
       "Not Present                                   629\n",
       "Plaid Cymru                                   396\n",
       "British National Party (BNP)                    1\n",
       "Name: 2017GEVote_complete, dtype: int64"
      ]
     },
     "execution_count": 472,
     "metadata": {},
     "output_type": "execute_result"
    }
   ],
   "source": [
    "pan_dataset_votes[\"2017GEVote_complete\"].value_counts(dropna=False)"
   ]
  },
  {
   "cell_type": "code",
   "execution_count": 473,
   "metadata": {},
   "outputs": [
    {
     "data": {
      "text/plain": [
       "NaN                                         65715\n",
       "Conservative                                12666\n",
       "Labour                                       8244\n",
       "Liberal Democrat                             3579\n",
       "Did not vote                                 3159\n",
       "Scottish National Party (SNP)                1249\n",
       "Green Party                                   858\n",
       "Brexit Party                                  722\n",
       "Other                                         553\n",
       "Don't know                                    231\n",
       "Plaid Cymru                                   182\n",
       "United Kingdom Independence Party (UKIP)        0\n",
       "Too Young To Vote                               0\n",
       "Name: 2019GEVote, dtype: int64"
      ]
     },
     "execution_count": 473,
     "metadata": {},
     "output_type": "execute_result"
    }
   ],
   "source": [
    "pan_dataset_votes[\"2019GEVote\"].value_counts(dropna=False)"
   ]
  },
  {
   "cell_type": "code",
   "execution_count": 474,
   "metadata": {},
   "outputs": [
    {
     "data": {
      "text/plain": [
       "Unknown                                     64352\n",
       "Conservative                                12890\n",
       "Labour                                       8453\n",
       "Liberal Democrat                             3648\n",
       "Did not vote                                 3159\n",
       "Scottish National Party (SNP)                1281\n",
       "Green Party                                   894\n",
       "Brexit Party                                  746\n",
       "Not Present                                   629\n",
       "Other                                         603\n",
       "Don't know                                    317\n",
       "Plaid Cymru                                   183\n",
       "United Kingdom Independence Party (UKIP)        3\n",
       "Too Young To Vote                               0\n",
       "Name: 2019GEVote_complete, dtype: int64"
      ]
     },
     "execution_count": 474,
     "metadata": {},
     "output_type": "execute_result"
    }
   ],
   "source": [
    "pan_dataset_votes[\"2019GEVote_complete\"].value_counts(dropna=False)"
   ]
  },
  {
   "cell_type": "code",
   "execution_count": 490,
   "metadata": {},
   "outputs": [
    {
     "data": {
      "text/plain": [
       "array(['Plaid Cymru', 'British National Party (BNP)', 'Labour',\n",
       "       'Brexit Party', 'Leave the EU',\n",
       "       'United Kingdom Independence Party (UKIP)', 'Conservative',\n",
       "       'Stay/remain in the EU', 'Did not vote', 'Unknown', \"Don't know\",\n",
       "       'Too Young To Vote', 'Liberal Democrat', 'Scottish National Party',\n",
       "       'Other', 'Green Party', 'Ambiguous category',\n",
       "       'Scottish National Party (SNP)', 'Respect',\n",
       "       'Change UK- The Independent Group', 'Not Present', 'Veritas'],\n",
       "      dtype=object)"
      ]
     },
     "execution_count": 490,
     "metadata": {},
     "output_type": "execute_result"
    }
   ],
   "source": [
    "pan_dataset_votes.stack().unique()"
   ]
  },
  {
   "cell_type": "code",
   "execution_count": 491,
   "metadata": {},
   "outputs": [],
   "source": [
    "pan_dataset_votes.to_pickle(BES_small_data_files + \"pan_dataset_votes\"+\".zip\", compression='zip')"
   ]
  },
  {
   "cell_type": "code",
   "execution_count": 383,
   "metadata": {},
   "outputs": [
    {
     "data": {
      "text/plain": [
       "euroTurnoutW1          30542\n",
       "euroTurnoutRetroW2     30262\n",
       "euroTurnoutRetroW16    37959\n",
       "dtype: int64"
      ]
     },
     "execution_count": 383,
     "metadata": {},
     "output_type": "execute_result"
    }
   ],
   "source": [
    "search(BES_Panel,\"euroTurnout\")"
   ]
  },
  {
   "cell_type": "code",
   "execution_count": 381,
   "metadata": {},
   "outputs": [
    {
     "data": {
      "text/plain": [
       "euroElectionVoteW1             30537\n",
       "euroElectionVoteW2             22188\n",
       "euroElectionVoteW16            25837\n",
       "euroElectionVoteNonVoterW16    12122\n",
       "dtype: int64"
      ]
     },
     "execution_count": 381,
     "metadata": {},
     "output_type": "execute_result"
    }
   ],
   "source": [
    "search(BES_Panel,\"euroElection\")"
   ]
  },
  {
   "cell_type": "code",
   "execution_count": 379,
   "metadata": {},
   "outputs": [
    {
     "data": {
      "text/plain": [
       "euRefpastVoteW11        27999\n",
       "euRefpastVoteW12        31173\n",
       "euRefpastVoteW13        28288\n",
       "euRefpastVoteW14         3822\n",
       "euRefpastVoteW15        27007\n",
       "euRefpastVoteW17         2643\n",
       "pastvote_EURefW17       34352\n",
       "pastvote_eup_2019W18    27133\n",
       "pastvote_ge_2019W19     31443\n",
       "pastvote_eup_2019W19    23186\n",
       "dtype: int64"
      ]
     },
     "execution_count": 379,
     "metadata": {},
     "output_type": "execute_result"
    }
   ],
   "source": [
    "search(BES_Panel,\"pastvote\")"
   ]
  },
  {
   "cell_type": "code",
   "execution_count": 306,
   "metadata": {},
   "outputs": [
    {
     "data": {
      "text/plain": [
       "profile_past_vote_2010    65581\n",
       "dtype: int64"
      ]
     },
     "execution_count": 306,
     "metadata": {},
     "output_type": "execute_result"
    }
   ],
   "source": [
    "search(BES_Panel,\"2010\")"
   ]
  },
  {
   "cell_type": "code",
   "execution_count": 340,
   "metadata": {},
   "outputs": [
    {
     "data": {
      "text/plain": [
       "profile_past_vote_2005_I would not vote                                      profile_past_vote_2010_I would not vote\n",
       "profile_past_vote_2005_Conservative                                              profile_past_vote_2010_Conservative\n",
       "profile_past_vote_2005_Labour                                                          profile_past_vote_2010_Labour\n",
       "profile_past_vote_2005_Liberal Democrat                                      profile_past_vote_2010_Liberal Democrat\n",
       "profile_past_vote_2005_Scottish National Party (SNP)               profile_past_vote_2010_Scottish National Party...\n",
       "profile_past_vote_2005_Plaid Cymru                                                profile_past_vote_2010_Plaid Cymru\n",
       "profile_past_vote_2005_United Kingdom Independence Party (UKIP)    profile_past_vote_2010_United Kingdom Independ...\n",
       "profile_past_vote_2005_Green Party                                                profile_past_vote_2010_Green Party\n",
       "profile_past_vote_2005_British National Party (BNP)                profile_past_vote_2010_British National Party ...\n",
       "profile_past_vote_2005_Other                                                            profile_past_vote_2010_Other\n",
       "profile_past_vote_2005_10.0                                                              profile_past_vote_2010_10.0\n",
       "profile_past_vote_2005_Change UK- The Independent Group            profile_past_vote_2010_Scottish National Party...\n",
       "profile_past_vote_2005_Brexit Party                                profile_past_vote_2010_Change UK- The Independ...\n",
       "profile_past_vote_2005_An independent candidate                                  profile_past_vote_2010_Brexit Party\n",
       "profile_past_vote_2005_Don't know                                                  profile_past_vote_2010_Don't know\n",
       "profile_past_vote_2010_I would not vote                                      profile_past_vote_2010_I would not vote\n",
       "profile_past_vote_2010_Conservative                                              profile_past_vote_2010_Conservative\n",
       "profile_past_vote_2010_Labour                                                          profile_past_vote_2010_Labour\n",
       "profile_past_vote_2010_Liberal Democrat                                      profile_past_vote_2010_Liberal Democrat\n",
       "profile_past_vote_2010_Scottish National Party (SNP)               profile_past_vote_2010_Scottish National Party...\n",
       "profile_past_vote_2010_Plaid Cymru                                                profile_past_vote_2010_Plaid Cymru\n",
       "profile_past_vote_2010_United Kingdom Independence Party (UKIP)    profile_past_vote_2010_United Kingdom Independ...\n",
       "profile_past_vote_2010_Green Party                                                profile_past_vote_2010_Green Party\n",
       "profile_past_vote_2010_British National Party (BNP)                profile_past_vote_2010_British National Party ...\n",
       "profile_past_vote_2010_Other                                                            profile_past_vote_2010_Other\n",
       "profile_past_vote_2010_10.0                                                              profile_past_vote_2010_10.0\n",
       "profile_past_vote_2010_Change UK- The Independent Group            profile_past_vote_2010_Change UK- The Independ...\n",
       "profile_past_vote_2010_Brexit Party                                              profile_past_vote_2010_Brexit Party\n",
       "profile_past_vote_2010_Don't know                                                  profile_past_vote_2010_Don't know\n",
       "profile_past_vote_2015_Conservative                                              profile_past_vote_2010_Conservative\n",
       "profile_past_vote_2015_Labour                                                profile_past_vote_2010_Liberal Democrat\n",
       "profile_past_vote_2015_Liberal Democrat                            profile_past_vote_2010_Scottish National Party...\n",
       "profile_past_vote_2015_Scottish National Party (SNP)               profile_past_vote_2010_Scottish National Party...\n",
       "profile_past_vote_2015_Plaid Cymru                                                profile_past_vote_2010_Plaid Cymru\n",
       "profile_past_vote_2015_United Kingdom Independence Party (UKIP)                          profile_past_vote_2010_10.0\n",
       "profile_past_vote_2015_Green Party                                 profile_past_vote_2010_British National Party ...\n",
       "profile_past_vote_2015_British National Party (BNP)                               profile_past_vote_2010_Green Party\n",
       "profile_past_vote_2015_Other                                       profile_past_vote_2010_Change UK- The Independ...\n",
       "profile_past_vote_2015_Don't know                                                profile_past_vote_2010_Brexit Party\n",
       "profile_past_vote_2015_Did not vote                                          profile_past_vote_2010_I would not vote\n",
       "dtype: object"
      ]
     },
     "execution_count": 340,
     "metadata": {},
     "output_type": "execute_result"
    }
   ],
   "source": [
    "corrs = pd.get_dummies(BES_Panel[[\"profile_past_vote_2005\",\"profile_past_vote_2010\",\"profile_past_vote_2015\"]]).corr()\n",
    "corrs[[x for x in corrs.columns if \"profile_past_vote_2010\" in x]].idxmax(axis=1)"
   ]
  },
  {
   "cell_type": "code",
   "execution_count": 359,
   "metadata": {},
   "outputs": [
    {
     "data": {
      "text/html": [
       "['ptvConW1__Very likely', 'ptvLabW1__Very likely', 'ptvLDW1__Very likely', 'ptvSNPW1__Very likely', 'ptvPCW1__Very likely', 'ptvUKIPW1__Very likely', 'ptvGrnW1__Very likely', 'ptvBNPW1__Very likely']"
      ],
      "text/plain": [
       "['ptvConW1__Very likely',\n",
       " 'ptvLabW1__Very likely',\n",
       " 'ptvLDW1__Very likely',\n",
       " 'ptvSNPW1__Very likely',\n",
       " 'ptvPCW1__Very likely',\n",
       " 'ptvUKIPW1__Very likely',\n",
       " 'ptvGrnW1__Very likely',\n",
       " 'ptvBNPW1__Very likely']"
      ]
     },
     "execution_count": 359,
     "metadata": {},
     "output_type": "execute_result"
    }
   ],
   "source": [
    "list(search(BES_reduced_with_na,\"ptv.*W1_\").index)"
   ]
  },
  {
   "cell_type": "code",
   "execution_count": 361,
   "metadata": {},
   "outputs": [
    {
     "data": {
      "text/plain": [
       "ptvConW1__Very likely                                              1.000000\n",
       "ptvLabW1__Very likely                                             -0.439090\n",
       "ptvLDW1__Very likely                                               0.132162\n",
       "ptvSNPW1__Very likely                                             -0.360742\n",
       "ptvPCW1__Very likely                                              -0.167955\n",
       "ptvUKIPW1__Very likely                                             0.235519\n",
       "ptvGrnW1__Very likely                                             -0.215325\n",
       "ptvBNPW1__Very likely                                              0.053291\n",
       "profile_past_vote_2010_I would not vote                           -0.099291\n",
       "profile_past_vote_2010_Conservative                                0.650714\n",
       "profile_past_vote_2010_Labour                                     -0.351950\n",
       "profile_past_vote_2010_Liberal Democrat                           -0.157116\n",
       "profile_past_vote_2010_Scottish National Party (SNP)              -0.135695\n",
       "profile_past_vote_2010_Plaid Cymru                                -0.053645\n",
       "profile_past_vote_2010_United Kingdom Independence Party (UKIP)   -0.032252\n",
       "profile_past_vote_2010_Green Party                                -0.059745\n",
       "profile_past_vote_2010_British National Party (BNP)               -0.035024\n",
       "profile_past_vote_2010_Other                                      -0.027092\n",
       "profile_past_vote_2010_10.0                                        0.001033\n",
       "profile_past_vote_2010_Change UK- The Independent Group                 NaN\n",
       "profile_past_vote_2010_Brexit Party                               -0.004362\n",
       "profile_past_vote_2010_Don't know                                 -0.021001\n",
       "Name: ptvConW1__Very likely, dtype: float64"
      ]
     },
     "execution_count": 361,
     "metadata": {},
     "output_type": "execute_result"
    }
   ],
   "source": [
    "corrs['ptvConW1__Very likely', 'ptvLabW1__Very likely',"
   ]
  },
  {
   "cell_type": "code",
   "execution_count": 362,
   "metadata": {},
   "outputs": [
    {
     "data": {
      "text/plain": [
       "ptvConW1__Very likely                                               ptvConW1__Very likely\n",
       "ptvLabW1__Very likely                                               ptvLabW1__Very likely\n",
       "ptvLDW1__Very likely                                                 ptvLDW1__Very likely\n",
       "ptvSNPW1__Very likely                                               ptvSNPW1__Very likely\n",
       "ptvPCW1__Very likely                                                 ptvPCW1__Very likely\n",
       "ptvUKIPW1__Very likely                                             ptvUKIPW1__Very likely\n",
       "ptvGrnW1__Very likely                                               ptvGrnW1__Very likely\n",
       "ptvBNPW1__Very likely                                               ptvBNPW1__Very likely\n",
       "profile_past_vote_2010_I would not vote                             ptvBNPW1__Very likely\n",
       "profile_past_vote_2010_Conservative                                 ptvConW1__Very likely\n",
       "profile_past_vote_2010_Labour                                       ptvLabW1__Very likely\n",
       "profile_past_vote_2010_Liberal Democrat                              ptvLDW1__Very likely\n",
       "profile_past_vote_2010_Scottish National Party (SNP)                ptvSNPW1__Very likely\n",
       "profile_past_vote_2010_Plaid Cymru                                   ptvPCW1__Very likely\n",
       "profile_past_vote_2010_United Kingdom Independence Party (UKIP)    ptvUKIPW1__Very likely\n",
       "profile_past_vote_2010_Green Party                                  ptvGrnW1__Very likely\n",
       "profile_past_vote_2010_British National Party (BNP)                 ptvBNPW1__Very likely\n",
       "profile_past_vote_2010_Other                                       ptvUKIPW1__Very likely\n",
       "profile_past_vote_2010_10.0                                        ptvUKIPW1__Very likely\n",
       "profile_past_vote_2010_Change UK- The Independent Group                               NaN\n",
       "profile_past_vote_2010_Brexit Party                                 ptvBNPW1__Very likely\n",
       "profile_past_vote_2010_Don't know                                   ptvBNPW1__Very likely\n",
       "dtype: object"
      ]
     },
     "execution_count": 362,
     "metadata": {},
     "output_type": "execute_result"
    }
   ],
   "source": [
    "# pd.get_dummies(BES_Panel[\"profile_past_vote_2010\"])\n",
    "corrs= pd.concat([BES_reduced_with_na[search(BES_reduced_with_na,\"ptv.*W1_\").index].astype('float32'),\n",
    "           pd.get_dummies(BES_Panel[[\"profile_past_vote_2010\"]])],axis=1).corr()\n",
    "# corrs\n",
    "corrs[list(search(BES_reduced_with_na,\"ptv.*W1_\").index)].idxmax(axis=1)"
   ]
  },
  {
   "cell_type": "code",
   "execution_count": 363,
   "metadata": {},
   "outputs": [
    {
     "data": {
      "text/plain": [
       "ptvConW1__Very likely                                               ptvConW1__Very likely\n",
       "ptvLabW1__Very likely                                               ptvLabW1__Very likely\n",
       "ptvLDW1__Very likely                                                 ptvLDW1__Very likely\n",
       "ptvSNPW1__Very likely                                               ptvSNPW1__Very likely\n",
       "ptvPCW1__Very likely                                                 ptvPCW1__Very likely\n",
       "ptvUKIPW1__Very likely                                             ptvUKIPW1__Very likely\n",
       "ptvGrnW1__Very likely                                               ptvGrnW1__Very likely\n",
       "ptvBNPW1__Very likely                                               ptvBNPW1__Very likely\n",
       "profile_past_vote_2005_I would not vote                             ptvBNPW1__Very likely\n",
       "profile_past_vote_2005_Conservative                                 ptvConW1__Very likely\n",
       "profile_past_vote_2005_Labour                                       ptvLabW1__Very likely\n",
       "profile_past_vote_2005_Liberal Democrat                              ptvLDW1__Very likely\n",
       "profile_past_vote_2005_Scottish National Party (SNP)                ptvSNPW1__Very likely\n",
       "profile_past_vote_2005_Plaid Cymru                                   ptvPCW1__Very likely\n",
       "profile_past_vote_2005_United Kingdom Independence Party (UKIP)    ptvUKIPW1__Very likely\n",
       "profile_past_vote_2005_Green Party                                  ptvGrnW1__Very likely\n",
       "profile_past_vote_2005_British National Party (BNP)                 ptvBNPW1__Very likely\n",
       "profile_past_vote_2005_Other                                       ptvUKIPW1__Very likely\n",
       "profile_past_vote_2005_10.0                                        ptvUKIPW1__Very likely\n",
       "profile_past_vote_2005_Change UK- The Independent Group                               NaN\n",
       "profile_past_vote_2005_Brexit Party                                 ptvBNPW1__Very likely\n",
       "profile_past_vote_2005_An independent candidate                     ptvSNPW1__Very likely\n",
       "profile_past_vote_2005_Don't know                                   ptvBNPW1__Very likely\n",
       "dtype: object"
      ]
     },
     "execution_count": 363,
     "metadata": {},
     "output_type": "execute_result"
    }
   ],
   "source": [
    "# pd.get_dummies(BES_Panel[\"profile_past_vote_2010\"])\n",
    "corrs= pd.concat([BES_reduced_with_na[search(BES_reduced_with_na,\"ptv.*W1_\").index].astype('float32'),\n",
    "           pd.get_dummies(BES_Panel[[\"profile_past_vote_2005\"]])],axis=1).corr()\n",
    "# corrs\n",
    "corrs[list(search(BES_reduced_with_na,\"ptv.*W1_\").index)].idxmax(axis=1)"
   ]
  },
  {
   "cell_type": "code",
   "execution_count": 364,
   "metadata": {},
   "outputs": [
    {
     "data": {
      "text/plain": [
       "ptvConW5__Very likely                                               ptvConW5__Very likely\n",
       "ptvLabW5__Very likely                                               ptvLabW5__Very likely\n",
       "ptvLDW5__Very likely                                                 ptvLDW5__Very likely\n",
       "ptvSNPW5__Very likely                                               ptvSNPW5__Very likely\n",
       "ptvPCW5__Very likely                                                 ptvPCW5__Very likely\n",
       "ptvUKIPW5__Very likely                                             ptvUKIPW5__Very likely\n",
       "ptvGrnW5__Very likely                                               ptvGrnW5__Very likely\n",
       "ptvBNPW5__Very likely                                               ptvBNPW5__Very likely\n",
       "profile_past_vote_2015_Conservative                                 ptvConW5__Very likely\n",
       "profile_past_vote_2015_Labour                                       ptvLabW5__Very likely\n",
       "profile_past_vote_2015_Liberal Democrat                              ptvLDW5__Very likely\n",
       "profile_past_vote_2015_Scottish National Party (SNP)                ptvSNPW5__Very likely\n",
       "profile_past_vote_2015_Plaid Cymru                                   ptvPCW5__Very likely\n",
       "profile_past_vote_2015_United Kingdom Independence Party (UKIP)    ptvUKIPW5__Very likely\n",
       "profile_past_vote_2015_Green Party                                  ptvGrnW5__Very likely\n",
       "profile_past_vote_2015_British National Party (BNP)                 ptvBNPW5__Very likely\n",
       "profile_past_vote_2015_Other                                        ptvGrnW5__Very likely\n",
       "profile_past_vote_2015_Don't know                                  ptvUKIPW5__Very likely\n",
       "profile_past_vote_2015_Did not vote                                 ptvBNPW5__Very likely\n",
       "dtype: object"
      ]
     },
     "execution_count": 364,
     "metadata": {},
     "output_type": "execute_result"
    }
   ],
   "source": [
    "# pd.get_dummies(BES_Panel[\"profile_past_vote_2010\"])\n",
    "corrs= pd.concat([BES_reduced_with_na[search(BES_reduced_with_na,\"ptv.*W5_\").index].astype('float32'),\n",
    "           pd.get_dummies(BES_Panel[[\"profile_past_vote_2015\"]])],axis=1).corr()\n",
    "# corrs\n",
    "corrs[list(search(BES_reduced_with_na,\"ptv.*W5_\").index)].idxmax(axis=1)"
   ]
  },
  {
   "cell_type": "code",
   "execution_count": null,
   "metadata": {},
   "outputs": [],
   "source": [
    "corrs = pd.get_dummies(BES_Panel[[\"profile_past_vote_2005\",\"profile_past_vote_2010\",\"profile_past_vote_2015\",]]).corr()\n",
    "corrs[[x for x in corrs.columns if \"profile_past_vote_2010\" in x]].idxmax(axis=1)"
   ]
  },
  {
   "cell_type": "code",
   "execution_count": 365,
   "metadata": {},
   "outputs": [
    {
     "data": {
      "text/plain": [
       "Conservative                                17934\n",
       "Labour                                      16643\n",
       "Liberal Democrat                            12853\n",
       "Scottish National Party (SNP)                6158\n",
       "I would not vote                             5001\n",
       "United Kingdom Independence Party (UKIP)     1220\n",
       "Brexit Party                                 1126\n",
       "Don't know                                    952\n",
       "British National Party (BNP)                  868\n",
       "Plaid Cymru                                   829\n",
       "10.0                                          741\n",
       "Green Party                                   686\n",
       "Other                                         371\n",
       "Change UK- The Independent Group              199\n",
       "Name: profile_past_vote_2010, dtype: int64"
      ]
     },
     "execution_count": 365,
     "metadata": {},
     "output_type": "execute_result"
    }
   ],
   "source": [
    "BES_Panel[\"profile_past_vote_2010\"].value_counts()"
   ]
  },
  {
   "cell_type": "code",
   "execution_count": 366,
   "metadata": {},
   "outputs": [
    {
     "data": {
      "text/plain": [
       "Conservative                                16407\n",
       "Labour                                      15435\n",
       "Liberal Democrat                             9582\n",
       "I would not vote                             4791\n",
       "Scottish National Party (SNP)                3857\n",
       "Don't know                                   1694\n",
       "An independent candidate                     1611\n",
       "United Kingdom Independence Party (UKIP)      691\n",
       "Plaid Cymru                                   647\n",
       "Green Party                                   622\n",
       "British National Party (BNP)                  523\n",
       "Other                                         357\n",
       "10.0                                          295\n",
       "Brexit Party                                  116\n",
       "Change UK- The Independent Group                3\n",
       "Name: profile_past_vote_2005, dtype: int64"
      ]
     },
     "execution_count": 366,
     "metadata": {},
     "output_type": "execute_result"
    }
   ],
   "source": [
    "BES_Panel[\"profile_past_vote_2005\"].value_counts()\n",
    "Change UK- The Independent Group                3 -> veritas?\n",
    "Brexit Party                                  116 -> respect"
   ]
  },
  {
   "cell_type": "code",
   "execution_count": 368,
   "metadata": {},
   "outputs": [
    {
     "data": {
      "text/plain": [
       "Index([                        'I would not vote',\n",
       "                                   'Conservative',\n",
       "                                         'Labour',\n",
       "                               'Liberal Democrat',\n",
       "                  'Scottish National Party (SNP)',\n",
       "                                    'Plaid Cymru',\n",
       "       'United Kingdom Independence Party (UKIP)',\n",
       "                                    'Green Party',\n",
       "                   'British National Party (BNP)',\n",
       "                                          'Other',\n",
       "                                             10.0,\n",
       "               'Change UK- The Independent Group',\n",
       "                                   'Brexit Party',\n",
       "                                     'Don't know'],\n",
       "      dtype='object')"
      ]
     },
     "execution_count": 368,
     "metadata": {},
     "output_type": "execute_result"
    }
   ],
   "source": [
    "BES_Panel[\"profile_past_vote_2010\"].cat.categories"
   ]
  },
  {
   "cell_type": "code",
   "execution_count": 367,
   "metadata": {},
   "outputs": [
    {
     "data": {
      "text/plain": [
       "Index([                        'I would not vote',\n",
       "                                   'Conservative',\n",
       "                                         'Labour',\n",
       "                               'Liberal Democrat',\n",
       "                  'Scottish National Party (SNP)',\n",
       "                                    'Plaid Cymru',\n",
       "       'United Kingdom Independence Party (UKIP)',\n",
       "                                    'Green Party',\n",
       "                   'British National Party (BNP)',\n",
       "                                          'Other',\n",
       "                                             10.0,\n",
       "               'Change UK- The Independent Group',\n",
       "                                   'Brexit Party',\n",
       "                       'An independent candidate',\n",
       "                                     'Don't know'],\n",
       "      dtype='object')"
      ]
     },
     "execution_count": 367,
     "metadata": {},
     "output_type": "execute_result"
    }
   ],
   "source": [
    "BES_Panel[\"profile_past_vote_2005\"].cat.categories"
   ]
  },
  {
   "cell_type": "code",
   "execution_count": 370,
   "metadata": {},
   "outputs": [
    {
     "data": {
      "text/plain": [
       "Conservative Party                          16407\n",
       "Labour Party                                15435\n",
       "Liberal Democrats                            9582\n",
       "Did not vote                                 4791\n",
       "Scottish National Party                      3857\n",
       "Don't know                                   1694\n",
       "An independent candidate                     1611\n",
       "United Kingdom Independence Party (UKIP)      691\n",
       "Plaid Cymru                                   647\n",
       "Green Party                                   622\n",
       "British National Party (BNP)                  523\n",
       "Some other party                              357\n",
       "Ambiguous category                            295\n",
       "Respect                                       116\n",
       "Veritas                                         3\n",
       "Name: profile_past_vote_2005, dtype: int64"
      ]
     },
     "execution_count": 370,
     "metadata": {},
     "output_type": "execute_result"
    }
   ],
   "source": [
    "BES_Panel[\"profile_past_vote_2005\"].cat.categories\n",
    "replace_dict = {'I would not vote':'Did not vote',\n",
    "                'Conservative':'Conservative Party',\n",
    "                'Labour':'Labour Party',\n",
    "                'Liberal Democrat':'Liberal Democrats',\n",
    "                'Scottish National Party (SNP)':'Scottish National Party',\n",
    "                'Plaid Cymru':'Plaid Cymru',\n",
    "                'United Kingdom Independence Party (UKIP)':'United Kingdom Independence Party (UKIP)',\n",
    "                'Green Party':'Green Party',\n",
    "                'British National Party (BNP)':'British National Party (BNP)',\n",
    "                'Other': 'Some other party',\n",
    "                10.0:'Ambiguous category',\n",
    "                'Change UK- The Independent Group':'Veritas',\n",
    "                'Brexit Party':'Respect',\n",
    "                'An independent candidate':'An independent candidate',\n",
    "                \"Don't know\":\"Don't know\",\n",
    "               }\n",
    "BES_Panel[\"profile_past_vote_2005\"].replace(replace_dict)"
   ]
  },
  {
   "cell_type": "code",
   "execution_count": 310,
   "metadata": {},
   "outputs": [
    {
     "data": {
      "text/plain": [
       "Index([                        'I would not vote',\n",
       "                                   'Conservative',\n",
       "                                         'Labour',\n",
       "                               'Liberal Democrat',\n",
       "                  'Scottish National Party (SNP)',\n",
       "                                    'Plaid Cymru',\n",
       "       'United Kingdom Independence Party (UKIP)',\n",
       "                                    'Green Party',\n",
       "                   'British National Party (BNP)',\n",
       "                                          'Other',\n",
       "                                             10.0,\n",
       "               'Change UK- The Independent Group',\n",
       "                                   'Brexit Party',\n",
       "                                     'Don't know'],\n",
       "      dtype='object')"
      ]
     },
     "execution_count": 310,
     "metadata": {},
     "output_type": "execute_result"
    }
   ],
   "source": [
    "BES_Panel[\"profile_past_vote_2010\"].cat.categories\n",
    "replace_dict = {'I would not vote':'Did not vote',\n",
    "                'Conservative':'Conservative Party',\n",
    "                'Labour':'Labour Party',\n",
    "                'Liberal Democrat':'Liberal Democrats',\n",
    "                'Scottish National Party (SNP)':'Scottish National Party',\n",
    "                'Plaid Cymru':'Plaid Cymru',\n",
    "                'United Kingdom Independence Party (UKIP)':'United Kingdom Independence Party (UKIP)',\n",
    "                'Green Party':'Green Party',\n",
    "                'British National Party (BNP)':'British National Party (BNP)',\n",
    "                'Other': 'Some other party',\n",
    "                10.0:'Ambiguous category',\n",
    "                'Change UK- The Independent Group':'Respect',\n",
    "                'Brexit Party':'An independent candidate',\n",
    "                \"Don't know\":\"Don't know\",\n",
    "               }\n",
    "BES_Panel[\"profile_past_vote_2010\"].replace(replace_dict)"
   ]
  },
  {
   "cell_type": "code",
   "execution_count": 315,
   "metadata": {},
   "outputs": [
    {
     "data": {
      "text/plain": [
       "profile_past_vote_2010_Conservative                                59257\n",
       "profile_past_vote_2010_Labour                                      59257\n",
       "profile_past_vote_2010_Liberal Democrat                            59257\n",
       "profile_past_vote_2010_Scottish National Party (SNP)               59257\n",
       "profile_past_vote_2010_United Kingdom Independence Party (UKIP)    59257\n",
       "profile_past_vote_2010_Brexit Party                                59257\n",
       "profile_past_vote_2010_British National Party (BNP)                59257\n",
       "profile_past_vote_2010_Plaid Cymru                                 59257\n",
       "profile_past_vote_2010_10.0                                        59257\n",
       "profile_past_vote_2010_Green Party                                 59257\n",
       "profile_past_vote_2010_Change UK- The Independent Group            59257\n",
       "dtype: int64"
      ]
     },
     "execution_count": 315,
     "metadata": {},
     "output_type": "execute_result"
    }
   ],
   "source": [
    "search(BES_reduced_with_na,\"profile_past_vote_2010\")"
   ]
  },
  {
   "cell_type": "code",
   "execution_count": 322,
   "metadata": {},
   "outputs": [
    {
     "data": {
      "text/html": [
       "<div>\n",
       "<style scoped>\n",
       "    .dataframe tbody tr th:only-of-type {\n",
       "        vertical-align: middle;\n",
       "    }\n",
       "\n",
       "    .dataframe tbody tr th {\n",
       "        vertical-align: top;\n",
       "    }\n",
       "\n",
       "    .dataframe thead th {\n",
       "        text-align: right;\n",
       "    }\n",
       "</style>\n",
       "<table border=\"1\" class=\"dataframe\">\n",
       "  <thead>\n",
       "    <tr style=\"text-align: right;\">\n",
       "      <th></th>\n",
       "      <th>ptvConW1__Very likely</th>\n",
       "      <th>ptvLabW1__Very likely</th>\n",
       "      <th>ptvLDW1__Very likely</th>\n",
       "      <th>ptvSNPW1__Very likely</th>\n",
       "      <th>ptvPCW1__Very likely</th>\n",
       "      <th>ptvUKIPW1__Very likely</th>\n",
       "      <th>ptvGrnW1__Very likely</th>\n",
       "      <th>ptvBNPW1__Very likely</th>\n",
       "    </tr>\n",
       "  </thead>\n",
       "  <tbody>\n",
       "    <tr>\n",
       "      <th>ptvConW1__Very likely</th>\n",
       "      <td>1.000000</td>\n",
       "      <td>-0.439090</td>\n",
       "      <td>0.132162</td>\n",
       "      <td>-0.360742</td>\n",
       "      <td>-0.167955</td>\n",
       "      <td>0.235519</td>\n",
       "      <td>-0.215325</td>\n",
       "      <td>0.053291</td>\n",
       "    </tr>\n",
       "    <tr>\n",
       "      <th>ptvLabW1__Very likely</th>\n",
       "      <td>-0.439090</td>\n",
       "      <td>1.000000</td>\n",
       "      <td>0.167575</td>\n",
       "      <td>-0.194455</td>\n",
       "      <td>0.156821</td>\n",
       "      <td>-0.294187</td>\n",
       "      <td>0.247891</td>\n",
       "      <td>-0.066843</td>\n",
       "    </tr>\n",
       "    <tr>\n",
       "      <th>ptvLDW1__Very likely</th>\n",
       "      <td>0.132162</td>\n",
       "      <td>0.167575</td>\n",
       "      <td>1.000000</td>\n",
       "      <td>-0.094208</td>\n",
       "      <td>0.226703</td>\n",
       "      <td>-0.132099</td>\n",
       "      <td>0.306397</td>\n",
       "      <td>-0.002038</td>\n",
       "    </tr>\n",
       "    <tr>\n",
       "      <th>ptvSNPW1__Very likely</th>\n",
       "      <td>-0.360742</td>\n",
       "      <td>-0.194455</td>\n",
       "      <td>-0.094208</td>\n",
       "      <td>1.000000</td>\n",
       "      <td>NaN</td>\n",
       "      <td>-0.106209</td>\n",
       "      <td>0.288918</td>\n",
       "      <td>0.015724</td>\n",
       "    </tr>\n",
       "    <tr>\n",
       "      <th>ptvPCW1__Very likely</th>\n",
       "      <td>-0.167955</td>\n",
       "      <td>0.156821</td>\n",
       "      <td>0.226703</td>\n",
       "      <td>NaN</td>\n",
       "      <td>1.000000</td>\n",
       "      <td>-0.103549</td>\n",
       "      <td>0.339524</td>\n",
       "      <td>0.007574</td>\n",
       "    </tr>\n",
       "    <tr>\n",
       "      <th>ptvUKIPW1__Very likely</th>\n",
       "      <td>0.235519</td>\n",
       "      <td>-0.294187</td>\n",
       "      <td>-0.132099</td>\n",
       "      <td>-0.106209</td>\n",
       "      <td>-0.103549</td>\n",
       "      <td>1.000000</td>\n",
       "      <td>-0.068596</td>\n",
       "      <td>0.427586</td>\n",
       "    </tr>\n",
       "    <tr>\n",
       "      <th>ptvGrnW1__Very likely</th>\n",
       "      <td>-0.215325</td>\n",
       "      <td>0.247891</td>\n",
       "      <td>0.306397</td>\n",
       "      <td>0.288918</td>\n",
       "      <td>0.339524</td>\n",
       "      <td>-0.068596</td>\n",
       "      <td>1.000000</td>\n",
       "      <td>0.100275</td>\n",
       "    </tr>\n",
       "    <tr>\n",
       "      <th>ptvBNPW1__Very likely</th>\n",
       "      <td>0.053291</td>\n",
       "      <td>-0.066843</td>\n",
       "      <td>-0.002038</td>\n",
       "      <td>0.015724</td>\n",
       "      <td>0.007574</td>\n",
       "      <td>0.427586</td>\n",
       "      <td>0.100275</td>\n",
       "      <td>1.000000</td>\n",
       "    </tr>\n",
       "    <tr>\n",
       "      <th>profile_past_vote_2010_Conservative</th>\n",
       "      <td>0.691073</td>\n",
       "      <td>-0.496065</td>\n",
       "      <td>-0.119539</td>\n",
       "      <td>-0.307137</td>\n",
       "      <td>-0.276412</td>\n",
       "      <td>0.263719</td>\n",
       "      <td>-0.280498</td>\n",
       "      <td>0.050916</td>\n",
       "    </tr>\n",
       "    <tr>\n",
       "      <th>profile_past_vote_2010_Labour</th>\n",
       "      <td>-0.408518</td>\n",
       "      <td>0.601367</td>\n",
       "      <td>-0.125881</td>\n",
       "      <td>-0.206074</td>\n",
       "      <td>-0.077407</td>\n",
       "      <td>-0.224659</td>\n",
       "      <td>0.034990</td>\n",
       "      <td>-0.059540</td>\n",
       "    </tr>\n",
       "    <tr>\n",
       "      <th>profile_past_vote_2010_Liberal Democrat</th>\n",
       "      <td>-0.192248</td>\n",
       "      <td>0.083903</td>\n",
       "      <td>0.383793</td>\n",
       "      <td>-0.053681</td>\n",
       "      <td>0.054787</td>\n",
       "      <td>-0.132893</td>\n",
       "      <td>0.211967</td>\n",
       "      <td>-0.076386</td>\n",
       "    </tr>\n",
       "    <tr>\n",
       "      <th>profile_past_vote_2010_Scottish National Party (SNP)</th>\n",
       "      <td>-0.154268</td>\n",
       "      <td>-0.140504</td>\n",
       "      <td>-0.093202</td>\n",
       "      <td>0.568481</td>\n",
       "      <td>-0.025732</td>\n",
       "      <td>-0.114135</td>\n",
       "      <td>0.069349</td>\n",
       "      <td>-0.044769</td>\n",
       "    </tr>\n",
       "    <tr>\n",
       "      <th>profile_past_vote_2010_United Kingdom Independence Party (UKIP)</th>\n",
       "      <td>-0.041577</td>\n",
       "      <td>-0.120274</td>\n",
       "      <td>-0.097471</td>\n",
       "      <td>-0.094487</td>\n",
       "      <td>-0.102618</td>\n",
       "      <td>0.291538</td>\n",
       "      <td>-0.057213</td>\n",
       "      <td>0.076776</td>\n",
       "    </tr>\n",
       "    <tr>\n",
       "      <th>profile_past_vote_2010_Brexit Party</th>\n",
       "      <td>-0.005232</td>\n",
       "      <td>-0.011363</td>\n",
       "      <td>0.000048</td>\n",
       "      <td>NaN</td>\n",
       "      <td>NaN</td>\n",
       "      <td>0.003898</td>\n",
       "      <td>-0.006831</td>\n",
       "      <td>0.005207</td>\n",
       "    </tr>\n",
       "    <tr>\n",
       "      <th>profile_past_vote_2010_British National Party (BNP)</th>\n",
       "      <td>-0.041500</td>\n",
       "      <td>-0.072327</td>\n",
       "      <td>-0.067829</td>\n",
       "      <td>-0.057798</td>\n",
       "      <td>-0.030431</td>\n",
       "      <td>0.127351</td>\n",
       "      <td>-0.032792</td>\n",
       "      <td>0.302883</td>\n",
       "    </tr>\n",
       "    <tr>\n",
       "      <th>profile_past_vote_2010_Plaid Cymru</th>\n",
       "      <td>-0.061921</td>\n",
       "      <td>-0.034433</td>\n",
       "      <td>-0.024758</td>\n",
       "      <td>0.030347</td>\n",
       "      <td>0.462541</td>\n",
       "      <td>-0.023377</td>\n",
       "      <td>0.020860</td>\n",
       "      <td>0.007361</td>\n",
       "    </tr>\n",
       "    <tr>\n",
       "      <th>profile_past_vote_2010_10.0</th>\n",
       "      <td>0.000759</td>\n",
       "      <td>-0.009634</td>\n",
       "      <td>-0.001010</td>\n",
       "      <td>NaN</td>\n",
       "      <td>NaN</td>\n",
       "      <td>0.017719</td>\n",
       "      <td>-0.007820</td>\n",
       "      <td>-0.003319</td>\n",
       "    </tr>\n",
       "    <tr>\n",
       "      <th>profile_past_vote_2010_Green Party</th>\n",
       "      <td>-0.068170</td>\n",
       "      <td>-0.018532</td>\n",
       "      <td>-0.005160</td>\n",
       "      <td>-0.032830</td>\n",
       "      <td>0.023297</td>\n",
       "      <td>-0.054383</td>\n",
       "      <td>0.194884</td>\n",
       "      <td>-0.022548</td>\n",
       "    </tr>\n",
       "    <tr>\n",
       "      <th>profile_past_vote_2010_Change UK- The Independent Group</th>\n",
       "      <td>NaN</td>\n",
       "      <td>NaN</td>\n",
       "      <td>NaN</td>\n",
       "      <td>NaN</td>\n",
       "      <td>NaN</td>\n",
       "      <td>NaN</td>\n",
       "      <td>NaN</td>\n",
       "      <td>NaN</td>\n",
       "    </tr>\n",
       "  </tbody>\n",
       "</table>\n",
       "</div>"
      ],
      "text/plain": [
       "                                                    ptvConW1__Very likely  \\\n",
       "ptvConW1__Very likely                                            1.000000   \n",
       "ptvLabW1__Very likely                                           -0.439090   \n",
       "ptvLDW1__Very likely                                             0.132162   \n",
       "ptvSNPW1__Very likely                                           -0.360742   \n",
       "ptvPCW1__Very likely                                            -0.167955   \n",
       "ptvUKIPW1__Very likely                                           0.235519   \n",
       "ptvGrnW1__Very likely                                           -0.215325   \n",
       "ptvBNPW1__Very likely                                            0.053291   \n",
       "profile_past_vote_2010_Conservative                              0.691073   \n",
       "profile_past_vote_2010_Labour                                   -0.408518   \n",
       "profile_past_vote_2010_Liberal Democrat                         -0.192248   \n",
       "profile_past_vote_2010_Scottish National Party ...              -0.154268   \n",
       "profile_past_vote_2010_United Kingdom Independe...              -0.041577   \n",
       "profile_past_vote_2010_Brexit Party                             -0.005232   \n",
       "profile_past_vote_2010_British National Party (...              -0.041500   \n",
       "profile_past_vote_2010_Plaid Cymru                              -0.061921   \n",
       "profile_past_vote_2010_10.0                                      0.000759   \n",
       "profile_past_vote_2010_Green Party                              -0.068170   \n",
       "profile_past_vote_2010_Change UK- The Independe...                    NaN   \n",
       "\n",
       "                                                    ptvLabW1__Very likely  \\\n",
       "ptvConW1__Very likely                                           -0.439090   \n",
       "ptvLabW1__Very likely                                            1.000000   \n",
       "ptvLDW1__Very likely                                             0.167575   \n",
       "ptvSNPW1__Very likely                                           -0.194455   \n",
       "ptvPCW1__Very likely                                             0.156821   \n",
       "ptvUKIPW1__Very likely                                          -0.294187   \n",
       "ptvGrnW1__Very likely                                            0.247891   \n",
       "ptvBNPW1__Very likely                                           -0.066843   \n",
       "profile_past_vote_2010_Conservative                             -0.496065   \n",
       "profile_past_vote_2010_Labour                                    0.601367   \n",
       "profile_past_vote_2010_Liberal Democrat                          0.083903   \n",
       "profile_past_vote_2010_Scottish National Party ...              -0.140504   \n",
       "profile_past_vote_2010_United Kingdom Independe...              -0.120274   \n",
       "profile_past_vote_2010_Brexit Party                             -0.011363   \n",
       "profile_past_vote_2010_British National Party (...              -0.072327   \n",
       "profile_past_vote_2010_Plaid Cymru                              -0.034433   \n",
       "profile_past_vote_2010_10.0                                     -0.009634   \n",
       "profile_past_vote_2010_Green Party                              -0.018532   \n",
       "profile_past_vote_2010_Change UK- The Independe...                    NaN   \n",
       "\n",
       "                                                    ptvLDW1__Very likely  \\\n",
       "ptvConW1__Very likely                                           0.132162   \n",
       "ptvLabW1__Very likely                                           0.167575   \n",
       "ptvLDW1__Very likely                                            1.000000   \n",
       "ptvSNPW1__Very likely                                          -0.094208   \n",
       "ptvPCW1__Very likely                                            0.226703   \n",
       "ptvUKIPW1__Very likely                                         -0.132099   \n",
       "ptvGrnW1__Very likely                                           0.306397   \n",
       "ptvBNPW1__Very likely                                          -0.002038   \n",
       "profile_past_vote_2010_Conservative                            -0.119539   \n",
       "profile_past_vote_2010_Labour                                  -0.125881   \n",
       "profile_past_vote_2010_Liberal Democrat                         0.383793   \n",
       "profile_past_vote_2010_Scottish National Party ...             -0.093202   \n",
       "profile_past_vote_2010_United Kingdom Independe...             -0.097471   \n",
       "profile_past_vote_2010_Brexit Party                             0.000048   \n",
       "profile_past_vote_2010_British National Party (...             -0.067829   \n",
       "profile_past_vote_2010_Plaid Cymru                             -0.024758   \n",
       "profile_past_vote_2010_10.0                                    -0.001010   \n",
       "profile_past_vote_2010_Green Party                             -0.005160   \n",
       "profile_past_vote_2010_Change UK- The Independe...                   NaN   \n",
       "\n",
       "                                                    ptvSNPW1__Very likely  \\\n",
       "ptvConW1__Very likely                                           -0.360742   \n",
       "ptvLabW1__Very likely                                           -0.194455   \n",
       "ptvLDW1__Very likely                                            -0.094208   \n",
       "ptvSNPW1__Very likely                                            1.000000   \n",
       "ptvPCW1__Very likely                                                  NaN   \n",
       "ptvUKIPW1__Very likely                                          -0.106209   \n",
       "ptvGrnW1__Very likely                                            0.288918   \n",
       "ptvBNPW1__Very likely                                            0.015724   \n",
       "profile_past_vote_2010_Conservative                             -0.307137   \n",
       "profile_past_vote_2010_Labour                                   -0.206074   \n",
       "profile_past_vote_2010_Liberal Democrat                         -0.053681   \n",
       "profile_past_vote_2010_Scottish National Party ...               0.568481   \n",
       "profile_past_vote_2010_United Kingdom Independe...              -0.094487   \n",
       "profile_past_vote_2010_Brexit Party                                   NaN   \n",
       "profile_past_vote_2010_British National Party (...              -0.057798   \n",
       "profile_past_vote_2010_Plaid Cymru                               0.030347   \n",
       "profile_past_vote_2010_10.0                                           NaN   \n",
       "profile_past_vote_2010_Green Party                              -0.032830   \n",
       "profile_past_vote_2010_Change UK- The Independe...                    NaN   \n",
       "\n",
       "                                                    ptvPCW1__Very likely  \\\n",
       "ptvConW1__Very likely                                          -0.167955   \n",
       "ptvLabW1__Very likely                                           0.156821   \n",
       "ptvLDW1__Very likely                                            0.226703   \n",
       "ptvSNPW1__Very likely                                                NaN   \n",
       "ptvPCW1__Very likely                                            1.000000   \n",
       "ptvUKIPW1__Very likely                                         -0.103549   \n",
       "ptvGrnW1__Very likely                                           0.339524   \n",
       "ptvBNPW1__Very likely                                           0.007574   \n",
       "profile_past_vote_2010_Conservative                            -0.276412   \n",
       "profile_past_vote_2010_Labour                                  -0.077407   \n",
       "profile_past_vote_2010_Liberal Democrat                         0.054787   \n",
       "profile_past_vote_2010_Scottish National Party ...             -0.025732   \n",
       "profile_past_vote_2010_United Kingdom Independe...             -0.102618   \n",
       "profile_past_vote_2010_Brexit Party                                  NaN   \n",
       "profile_past_vote_2010_British National Party (...             -0.030431   \n",
       "profile_past_vote_2010_Plaid Cymru                              0.462541   \n",
       "profile_past_vote_2010_10.0                                          NaN   \n",
       "profile_past_vote_2010_Green Party                              0.023297   \n",
       "profile_past_vote_2010_Change UK- The Independe...                   NaN   \n",
       "\n",
       "                                                    ptvUKIPW1__Very likely  \\\n",
       "ptvConW1__Very likely                                             0.235519   \n",
       "ptvLabW1__Very likely                                            -0.294187   \n",
       "ptvLDW1__Very likely                                             -0.132099   \n",
       "ptvSNPW1__Very likely                                            -0.106209   \n",
       "ptvPCW1__Very likely                                             -0.103549   \n",
       "ptvUKIPW1__Very likely                                            1.000000   \n",
       "ptvGrnW1__Very likely                                            -0.068596   \n",
       "ptvBNPW1__Very likely                                             0.427586   \n",
       "profile_past_vote_2010_Conservative                               0.263719   \n",
       "profile_past_vote_2010_Labour                                    -0.224659   \n",
       "profile_past_vote_2010_Liberal Democrat                          -0.132893   \n",
       "profile_past_vote_2010_Scottish National Party ...               -0.114135   \n",
       "profile_past_vote_2010_United Kingdom Independe...                0.291538   \n",
       "profile_past_vote_2010_Brexit Party                               0.003898   \n",
       "profile_past_vote_2010_British National Party (...                0.127351   \n",
       "profile_past_vote_2010_Plaid Cymru                               -0.023377   \n",
       "profile_past_vote_2010_10.0                                       0.017719   \n",
       "profile_past_vote_2010_Green Party                               -0.054383   \n",
       "profile_past_vote_2010_Change UK- The Independe...                     NaN   \n",
       "\n",
       "                                                    ptvGrnW1__Very likely  \\\n",
       "ptvConW1__Very likely                                           -0.215325   \n",
       "ptvLabW1__Very likely                                            0.247891   \n",
       "ptvLDW1__Very likely                                             0.306397   \n",
       "ptvSNPW1__Very likely                                            0.288918   \n",
       "ptvPCW1__Very likely                                             0.339524   \n",
       "ptvUKIPW1__Very likely                                          -0.068596   \n",
       "ptvGrnW1__Very likely                                            1.000000   \n",
       "ptvBNPW1__Very likely                                            0.100275   \n",
       "profile_past_vote_2010_Conservative                             -0.280498   \n",
       "profile_past_vote_2010_Labour                                    0.034990   \n",
       "profile_past_vote_2010_Liberal Democrat                          0.211967   \n",
       "profile_past_vote_2010_Scottish National Party ...               0.069349   \n",
       "profile_past_vote_2010_United Kingdom Independe...              -0.057213   \n",
       "profile_past_vote_2010_Brexit Party                             -0.006831   \n",
       "profile_past_vote_2010_British National Party (...              -0.032792   \n",
       "profile_past_vote_2010_Plaid Cymru                               0.020860   \n",
       "profile_past_vote_2010_10.0                                     -0.007820   \n",
       "profile_past_vote_2010_Green Party                               0.194884   \n",
       "profile_past_vote_2010_Change UK- The Independe...                    NaN   \n",
       "\n",
       "                                                    ptvBNPW1__Very likely  \n",
       "ptvConW1__Very likely                                            0.053291  \n",
       "ptvLabW1__Very likely                                           -0.066843  \n",
       "ptvLDW1__Very likely                                            -0.002038  \n",
       "ptvSNPW1__Very likely                                            0.015724  \n",
       "ptvPCW1__Very likely                                             0.007574  \n",
       "ptvUKIPW1__Very likely                                           0.427586  \n",
       "ptvGrnW1__Very likely                                            0.100275  \n",
       "ptvBNPW1__Very likely                                            1.000000  \n",
       "profile_past_vote_2010_Conservative                              0.050916  \n",
       "profile_past_vote_2010_Labour                                   -0.059540  \n",
       "profile_past_vote_2010_Liberal Democrat                         -0.076386  \n",
       "profile_past_vote_2010_Scottish National Party ...              -0.044769  \n",
       "profile_past_vote_2010_United Kingdom Independe...               0.076776  \n",
       "profile_past_vote_2010_Brexit Party                              0.005207  \n",
       "profile_past_vote_2010_British National Party (...               0.302883  \n",
       "profile_past_vote_2010_Plaid Cymru                               0.007361  \n",
       "profile_past_vote_2010_10.0                                     -0.003319  \n",
       "profile_past_vote_2010_Green Party                              -0.022548  \n",
       "profile_past_vote_2010_Change UK- The Independe...                    NaN  "
      ]
     },
     "execution_count": 322,
     "metadata": {},
     "output_type": "execute_result"
    }
   ],
   "source": [
    "BES_reduced_with_na[search(BES_reduced_with_na,\"ptv.*W1__|profile_past_vote_2010\").index].astype('float32').corr()[search(BES_reduced_with_na,\"ptv.*W1__\").index]"
   ]
  },
  {
   "cell_type": "code",
   "execution_count": 326,
   "metadata": {},
   "outputs": [
    {
     "data": {
      "text/html": [
       "<div>\n",
       "<style scoped>\n",
       "    .dataframe tbody tr th:only-of-type {\n",
       "        vertical-align: middle;\n",
       "    }\n",
       "\n",
       "    .dataframe tbody tr th {\n",
       "        vertical-align: top;\n",
       "    }\n",
       "\n",
       "    .dataframe thead th {\n",
       "        text-align: right;\n",
       "    }\n",
       "</style>\n",
       "<table border=\"1\" class=\"dataframe\">\n",
       "  <thead>\n",
       "    <tr style=\"text-align: right;\">\n",
       "      <th></th>\n",
       "      <th>ptvConW13__Very likely</th>\n",
       "      <th>ptvLabW13__Very likely</th>\n",
       "      <th>ptvLDW13__Very likely</th>\n",
       "      <th>ptvSNPW13__Very likely</th>\n",
       "      <th>ptvPCW13__Very likely</th>\n",
       "      <th>ptvUKIPW13__Very likely</th>\n",
       "      <th>ptvGrnW13__Very likely</th>\n",
       "    </tr>\n",
       "  </thead>\n",
       "  <tbody>\n",
       "    <tr>\n",
       "      <th>ptvConW13__Very likely</th>\n",
       "      <td>1.000000</td>\n",
       "      <td>-0.644215</td>\n",
       "      <td>-0.206287</td>\n",
       "      <td>-0.593521</td>\n",
       "      <td>-0.365975</td>\n",
       "      <td>0.333739</td>\n",
       "      <td>-0.423337</td>\n",
       "    </tr>\n",
       "    <tr>\n",
       "      <th>ptvLabW13__Very likely</th>\n",
       "      <td>-0.644215</td>\n",
       "      <td>1.000000</td>\n",
       "      <td>0.328559</td>\n",
       "      <td>0.014575</td>\n",
       "      <td>0.301948</td>\n",
       "      <td>-0.333641</td>\n",
       "      <td>0.423734</td>\n",
       "    </tr>\n",
       "    <tr>\n",
       "      <th>ptvLDW13__Very likely</th>\n",
       "      <td>-0.206287</td>\n",
       "      <td>0.328559</td>\n",
       "      <td>1.000000</td>\n",
       "      <td>-0.077990</td>\n",
       "      <td>0.358562</td>\n",
       "      <td>-0.268544</td>\n",
       "      <td>0.420888</td>\n",
       "    </tr>\n",
       "    <tr>\n",
       "      <th>ptvSNPW13__Very likely</th>\n",
       "      <td>-0.593521</td>\n",
       "      <td>0.014575</td>\n",
       "      <td>-0.077990</td>\n",
       "      <td>1.000000</td>\n",
       "      <td>NaN</td>\n",
       "      <td>-0.229320</td>\n",
       "      <td>0.525867</td>\n",
       "    </tr>\n",
       "    <tr>\n",
       "      <th>ptvPCW13__Very likely</th>\n",
       "      <td>-0.365975</td>\n",
       "      <td>0.301948</td>\n",
       "      <td>0.358562</td>\n",
       "      <td>NaN</td>\n",
       "      <td>1.000000</td>\n",
       "      <td>-0.210304</td>\n",
       "      <td>0.422959</td>\n",
       "    </tr>\n",
       "    <tr>\n",
       "      <th>ptvUKIPW13__Very likely</th>\n",
       "      <td>0.333739</td>\n",
       "      <td>-0.333641</td>\n",
       "      <td>-0.268544</td>\n",
       "      <td>-0.229320</td>\n",
       "      <td>-0.210304</td>\n",
       "      <td>1.000000</td>\n",
       "      <td>-0.187684</td>\n",
       "    </tr>\n",
       "    <tr>\n",
       "      <th>ptvGrnW13__Very likely</th>\n",
       "      <td>-0.423337</td>\n",
       "      <td>0.423734</td>\n",
       "      <td>0.420888</td>\n",
       "      <td>0.525867</td>\n",
       "      <td>0.422959</td>\n",
       "      <td>-0.187684</td>\n",
       "      <td>1.000000</td>\n",
       "    </tr>\n",
       "    <tr>\n",
       "      <th>profile_past_vote_2010_Conservative</th>\n",
       "      <td>0.290167</td>\n",
       "      <td>-0.249445</td>\n",
       "      <td>-0.112997</td>\n",
       "      <td>-0.210351</td>\n",
       "      <td>-0.267745</td>\n",
       "      <td>0.102860</td>\n",
       "      <td>-0.163129</td>\n",
       "    </tr>\n",
       "    <tr>\n",
       "      <th>profile_past_vote_2010_Labour</th>\n",
       "      <td>0.074732</td>\n",
       "      <td>0.023380</td>\n",
       "      <td>-0.121327</td>\n",
       "      <td>-0.171865</td>\n",
       "      <td>-0.057046</td>\n",
       "      <td>-0.020494</td>\n",
       "      <td>-0.096643</td>\n",
       "    </tr>\n",
       "    <tr>\n",
       "      <th>profile_past_vote_2010_Liberal Democrat</th>\n",
       "      <td>-0.249964</td>\n",
       "      <td>0.260280</td>\n",
       "      <td>0.185332</td>\n",
       "      <td>-0.054602</td>\n",
       "      <td>0.088945</td>\n",
       "      <td>-0.127700</td>\n",
       "      <td>0.147939</td>\n",
       "    </tr>\n",
       "    <tr>\n",
       "      <th>profile_past_vote_2010_Scottish National Party (SNP)</th>\n",
       "      <td>-0.154358</td>\n",
       "      <td>0.041258</td>\n",
       "      <td>0.174713</td>\n",
       "      <td>0.358114</td>\n",
       "      <td>0.037563</td>\n",
       "      <td>-0.115360</td>\n",
       "      <td>0.138592</td>\n",
       "    </tr>\n",
       "    <tr>\n",
       "      <th>profile_past_vote_2010_United Kingdom Independence Party (UKIP)</th>\n",
       "      <td>0.030440</td>\n",
       "      <td>-0.071520</td>\n",
       "      <td>-0.085100</td>\n",
       "      <td>-0.086849</td>\n",
       "      <td>0.092333</td>\n",
       "      <td>0.177668</td>\n",
       "      <td>-0.062339</td>\n",
       "    </tr>\n",
       "    <tr>\n",
       "      <th>profile_past_vote_2010_Brexit Party</th>\n",
       "      <td>-0.023921</td>\n",
       "      <td>0.008263</td>\n",
       "      <td>0.004348</td>\n",
       "      <td>-0.004251</td>\n",
       "      <td>0.008264</td>\n",
       "      <td>0.012319</td>\n",
       "      <td>0.004615</td>\n",
       "    </tr>\n",
       "    <tr>\n",
       "      <th>profile_past_vote_2010_British National Party (BNP)</th>\n",
       "      <td>-0.041869</td>\n",
       "      <td>-0.000943</td>\n",
       "      <td>-0.013285</td>\n",
       "      <td>-0.033158</td>\n",
       "      <td>-0.026672</td>\n",
       "      <td>0.053469</td>\n",
       "      <td>0.093493</td>\n",
       "    </tr>\n",
       "    <tr>\n",
       "      <th>profile_past_vote_2010_Plaid Cymru</th>\n",
       "      <td>-0.068803</td>\n",
       "      <td>-0.019173</td>\n",
       "      <td>-0.027667</td>\n",
       "      <td>0.163509</td>\n",
       "      <td>0.325342</td>\n",
       "      <td>-0.022934</td>\n",
       "      <td>0.036884</td>\n",
       "    </tr>\n",
       "    <tr>\n",
       "      <th>profile_past_vote_2010_10.0</th>\n",
       "      <td>0.040468</td>\n",
       "      <td>-0.070234</td>\n",
       "      <td>-0.063200</td>\n",
       "      <td>-0.046185</td>\n",
       "      <td>-0.048409</td>\n",
       "      <td>0.158979</td>\n",
       "      <td>-0.035489</td>\n",
       "    </tr>\n",
       "    <tr>\n",
       "      <th>profile_past_vote_2010_Green Party</th>\n",
       "      <td>-0.040197</td>\n",
       "      <td>-0.002533</td>\n",
       "      <td>-0.019648</td>\n",
       "      <td>0.018872</td>\n",
       "      <td>0.012714</td>\n",
       "      <td>0.029396</td>\n",
       "      <td>0.075069</td>\n",
       "    </tr>\n",
       "    <tr>\n",
       "      <th>profile_past_vote_2010_Change UK- The Independent Group</th>\n",
       "      <td>-0.018226</td>\n",
       "      <td>0.008452</td>\n",
       "      <td>-0.009918</td>\n",
       "      <td>0.019844</td>\n",
       "      <td>0.009582</td>\n",
       "      <td>0.000093</td>\n",
       "      <td>0.015842</td>\n",
       "    </tr>\n",
       "  </tbody>\n",
       "</table>\n",
       "</div>"
      ],
      "text/plain": [
       "                                                    ptvConW13__Very likely  \\\n",
       "ptvConW13__Very likely                                            1.000000   \n",
       "ptvLabW13__Very likely                                           -0.644215   \n",
       "ptvLDW13__Very likely                                            -0.206287   \n",
       "ptvSNPW13__Very likely                                           -0.593521   \n",
       "ptvPCW13__Very likely                                            -0.365975   \n",
       "ptvUKIPW13__Very likely                                           0.333739   \n",
       "ptvGrnW13__Very likely                                           -0.423337   \n",
       "profile_past_vote_2010_Conservative                               0.290167   \n",
       "profile_past_vote_2010_Labour                                     0.074732   \n",
       "profile_past_vote_2010_Liberal Democrat                          -0.249964   \n",
       "profile_past_vote_2010_Scottish National Party ...               -0.154358   \n",
       "profile_past_vote_2010_United Kingdom Independe...                0.030440   \n",
       "profile_past_vote_2010_Brexit Party                              -0.023921   \n",
       "profile_past_vote_2010_British National Party (...               -0.041869   \n",
       "profile_past_vote_2010_Plaid Cymru                               -0.068803   \n",
       "profile_past_vote_2010_10.0                                       0.040468   \n",
       "profile_past_vote_2010_Green Party                               -0.040197   \n",
       "profile_past_vote_2010_Change UK- The Independe...               -0.018226   \n",
       "\n",
       "                                                    ptvLabW13__Very likely  \\\n",
       "ptvConW13__Very likely                                           -0.644215   \n",
       "ptvLabW13__Very likely                                            1.000000   \n",
       "ptvLDW13__Very likely                                             0.328559   \n",
       "ptvSNPW13__Very likely                                            0.014575   \n",
       "ptvPCW13__Very likely                                             0.301948   \n",
       "ptvUKIPW13__Very likely                                          -0.333641   \n",
       "ptvGrnW13__Very likely                                            0.423734   \n",
       "profile_past_vote_2010_Conservative                              -0.249445   \n",
       "profile_past_vote_2010_Labour                                     0.023380   \n",
       "profile_past_vote_2010_Liberal Democrat                           0.260280   \n",
       "profile_past_vote_2010_Scottish National Party ...                0.041258   \n",
       "profile_past_vote_2010_United Kingdom Independe...               -0.071520   \n",
       "profile_past_vote_2010_Brexit Party                               0.008263   \n",
       "profile_past_vote_2010_British National Party (...               -0.000943   \n",
       "profile_past_vote_2010_Plaid Cymru                               -0.019173   \n",
       "profile_past_vote_2010_10.0                                      -0.070234   \n",
       "profile_past_vote_2010_Green Party                               -0.002533   \n",
       "profile_past_vote_2010_Change UK- The Independe...                0.008452   \n",
       "\n",
       "                                                    ptvLDW13__Very likely  \\\n",
       "ptvConW13__Very likely                                          -0.206287   \n",
       "ptvLabW13__Very likely                                           0.328559   \n",
       "ptvLDW13__Very likely                                            1.000000   \n",
       "ptvSNPW13__Very likely                                          -0.077990   \n",
       "ptvPCW13__Very likely                                            0.358562   \n",
       "ptvUKIPW13__Very likely                                         -0.268544   \n",
       "ptvGrnW13__Very likely                                           0.420888   \n",
       "profile_past_vote_2010_Conservative                             -0.112997   \n",
       "profile_past_vote_2010_Labour                                   -0.121327   \n",
       "profile_past_vote_2010_Liberal Democrat                          0.185332   \n",
       "profile_past_vote_2010_Scottish National Party ...               0.174713   \n",
       "profile_past_vote_2010_United Kingdom Independe...              -0.085100   \n",
       "profile_past_vote_2010_Brexit Party                              0.004348   \n",
       "profile_past_vote_2010_British National Party (...              -0.013285   \n",
       "profile_past_vote_2010_Plaid Cymru                              -0.027667   \n",
       "profile_past_vote_2010_10.0                                     -0.063200   \n",
       "profile_past_vote_2010_Green Party                              -0.019648   \n",
       "profile_past_vote_2010_Change UK- The Independe...              -0.009918   \n",
       "\n",
       "                                                    ptvSNPW13__Very likely  \\\n",
       "ptvConW13__Very likely                                           -0.593521   \n",
       "ptvLabW13__Very likely                                            0.014575   \n",
       "ptvLDW13__Very likely                                            -0.077990   \n",
       "ptvSNPW13__Very likely                                            1.000000   \n",
       "ptvPCW13__Very likely                                                  NaN   \n",
       "ptvUKIPW13__Very likely                                          -0.229320   \n",
       "ptvGrnW13__Very likely                                            0.525867   \n",
       "profile_past_vote_2010_Conservative                              -0.210351   \n",
       "profile_past_vote_2010_Labour                                    -0.171865   \n",
       "profile_past_vote_2010_Liberal Democrat                          -0.054602   \n",
       "profile_past_vote_2010_Scottish National Party ...                0.358114   \n",
       "profile_past_vote_2010_United Kingdom Independe...               -0.086849   \n",
       "profile_past_vote_2010_Brexit Party                              -0.004251   \n",
       "profile_past_vote_2010_British National Party (...               -0.033158   \n",
       "profile_past_vote_2010_Plaid Cymru                                0.163509   \n",
       "profile_past_vote_2010_10.0                                      -0.046185   \n",
       "profile_past_vote_2010_Green Party                                0.018872   \n",
       "profile_past_vote_2010_Change UK- The Independe...                0.019844   \n",
       "\n",
       "                                                    ptvPCW13__Very likely  \\\n",
       "ptvConW13__Very likely                                          -0.365975   \n",
       "ptvLabW13__Very likely                                           0.301948   \n",
       "ptvLDW13__Very likely                                            0.358562   \n",
       "ptvSNPW13__Very likely                                                NaN   \n",
       "ptvPCW13__Very likely                                            1.000000   \n",
       "ptvUKIPW13__Very likely                                         -0.210304   \n",
       "ptvGrnW13__Very likely                                           0.422959   \n",
       "profile_past_vote_2010_Conservative                             -0.267745   \n",
       "profile_past_vote_2010_Labour                                   -0.057046   \n",
       "profile_past_vote_2010_Liberal Democrat                          0.088945   \n",
       "profile_past_vote_2010_Scottish National Party ...               0.037563   \n",
       "profile_past_vote_2010_United Kingdom Independe...               0.092333   \n",
       "profile_past_vote_2010_Brexit Party                              0.008264   \n",
       "profile_past_vote_2010_British National Party (...              -0.026672   \n",
       "profile_past_vote_2010_Plaid Cymru                               0.325342   \n",
       "profile_past_vote_2010_10.0                                     -0.048409   \n",
       "profile_past_vote_2010_Green Party                               0.012714   \n",
       "profile_past_vote_2010_Change UK- The Independe...               0.009582   \n",
       "\n",
       "                                                    ptvUKIPW13__Very likely  \\\n",
       "ptvConW13__Very likely                                             0.333739   \n",
       "ptvLabW13__Very likely                                            -0.333641   \n",
       "ptvLDW13__Very likely                                             -0.268544   \n",
       "ptvSNPW13__Very likely                                            -0.229320   \n",
       "ptvPCW13__Very likely                                             -0.210304   \n",
       "ptvUKIPW13__Very likely                                            1.000000   \n",
       "ptvGrnW13__Very likely                                            -0.187684   \n",
       "profile_past_vote_2010_Conservative                                0.102860   \n",
       "profile_past_vote_2010_Labour                                     -0.020494   \n",
       "profile_past_vote_2010_Liberal Democrat                           -0.127700   \n",
       "profile_past_vote_2010_Scottish National Party ...                -0.115360   \n",
       "profile_past_vote_2010_United Kingdom Independe...                 0.177668   \n",
       "profile_past_vote_2010_Brexit Party                                0.012319   \n",
       "profile_past_vote_2010_British National Party (...                 0.053469   \n",
       "profile_past_vote_2010_Plaid Cymru                                -0.022934   \n",
       "profile_past_vote_2010_10.0                                        0.158979   \n",
       "profile_past_vote_2010_Green Party                                 0.029396   \n",
       "profile_past_vote_2010_Change UK- The Independe...                 0.000093   \n",
       "\n",
       "                                                    ptvGrnW13__Very likely  \n",
       "ptvConW13__Very likely                                           -0.423337  \n",
       "ptvLabW13__Very likely                                            0.423734  \n",
       "ptvLDW13__Very likely                                             0.420888  \n",
       "ptvSNPW13__Very likely                                            0.525867  \n",
       "ptvPCW13__Very likely                                             0.422959  \n",
       "ptvUKIPW13__Very likely                                          -0.187684  \n",
       "ptvGrnW13__Very likely                                            1.000000  \n",
       "profile_past_vote_2010_Conservative                              -0.163129  \n",
       "profile_past_vote_2010_Labour                                    -0.096643  \n",
       "profile_past_vote_2010_Liberal Democrat                           0.147939  \n",
       "profile_past_vote_2010_Scottish National Party ...                0.138592  \n",
       "profile_past_vote_2010_United Kingdom Independe...               -0.062339  \n",
       "profile_past_vote_2010_Brexit Party                               0.004615  \n",
       "profile_past_vote_2010_British National Party (...                0.093493  \n",
       "profile_past_vote_2010_Plaid Cymru                                0.036884  \n",
       "profile_past_vote_2010_10.0                                      -0.035489  \n",
       "profile_past_vote_2010_Green Party                                0.075069  \n",
       "profile_past_vote_2010_Change UK- The Independe...                0.015842  "
      ]
     },
     "execution_count": 326,
     "metadata": {},
     "output_type": "execute_result"
    }
   ],
   "source": [
    "BES_reduced_with_na[search(BES_reduced_with_na,\"ptv.*W13__|profile_past_vote_2010\").index].astype('float32').corr()[search(BES_reduced_with_na,\"ptv.*W13__\").index]"
   ]
  },
  {
   "cell_type": "code",
   "execution_count": 330,
   "metadata": {},
   "outputs": [
    {
     "data": {
      "text/plain": [
       "ptvConW1__Very likely    -0.027092\n",
       "ptvLabW1__Very likely    -0.031455\n",
       "ptvLDW1__Very likely     -0.026559\n",
       "ptvSNPW1__Very likely    -0.004223\n",
       "ptvPCW1__Very likely     -0.001329\n",
       "ptvUKIPW1__Very likely    0.010653\n",
       "ptvGrnW1__Very likely     0.004426\n",
       "ptvBNPW1__Very likely     0.005244\n",
       "dtype: float64"
      ]
     },
     "execution_count": 330,
     "metadata": {},
     "output_type": "execute_result"
    }
   ],
   "source": [
    "BES_reduced_with_na[search(BES_reduced_with_na,\"ptv.*W1__\").index].astype('float32').corrwith((BES_Panel[\"profile_past_vote_2010\"]==\"Other\"))"
   ]
  },
  {
   "cell_type": "code",
   "execution_count": null,
   "metadata": {},
   "outputs": [],
   "source": [
    "BES_Panel[ BES_Panel[\"profile_past_vote_2010\"]==\"Change UK- The Independent Group\" ][search(BES_Panel,\"wave\\d+\").index].sum()"
   ]
  },
  {
   "cell_type": "code",
   "execution_count": 325,
   "metadata": {},
   "outputs": [
    {
     "data": {
      "text/plain": [
       "wave1      10\n",
       "wave2       9\n",
       "wave3      14\n",
       "wave4      16\n",
       "wave5      17\n",
       "wave6      13\n",
       "wave7     225\n",
       "wave8     388\n",
       "wave9     325\n",
       "wave10    500\n",
       "wave11    582\n",
       "wave12    730\n",
       "wave13    638\n",
       "wave14    617\n",
       "wave15    494\n",
       "wave16    463\n",
       "wave17    406\n",
       "wave18    419\n",
       "wave19    354\n",
       "dtype: int64"
      ]
     },
     "execution_count": 325,
     "metadata": {},
     "output_type": "execute_result"
    }
   ],
   "source": [
    "BES_Panel[ BES_Panel[\"profile_past_vote_2010\"]==\"Brexit Party\" ][search(BES_Panel,\"wave\\d+\").index].sum()"
   ]
  },
  {
   "cell_type": "code",
   "execution_count": 331,
   "metadata": {
    "scrolled": true
   },
   "outputs": [
    {
     "data": {
      "text/plain": [
       "I would not vote                             5001\n",
       "Conservative                                17934\n",
       "Labour                                      16643\n",
       "Liberal Democrat                            12853\n",
       "Scottish National Party (SNP)                6158\n",
       "Plaid Cymru                                   829\n",
       "United Kingdom Independence Party (UKIP)     1220\n",
       "Green Party                                   686\n",
       "British National Party (BNP)                  868\n",
       "Other                                         371\n",
       "10.0                                          741\n",
       "Change UK- The Independent Group              199\n",
       "Brexit Party                                 1126\n",
       "Don't know                                    952\n",
       "Name: profile_past_vote_2010, dtype: int64"
      ]
     },
     "execution_count": 331,
     "metadata": {},
     "output_type": "execute_result"
    }
   ],
   "source": [
    "BES_Panel[\"profile_past_vote_2010\"].value_counts().sort_index()"
   ]
  },
  {
   "cell_type": "code",
   "execution_count": 332,
   "metadata": {},
   "outputs": [
    {
     "data": {
      "text/plain": [
       "Conservative                                23284\n",
       "Labour                                      21943\n",
       "Liberal Democrat                             5977\n",
       "Scottish National Party (SNP)                3825\n",
       "Plaid Cymru                                   535\n",
       "United Kingdom Independence Party (UKIP)     7434\n",
       "Green Party                                  3835\n",
       "British National Party (BNP)                   66\n",
       "Other                                        1087\n",
       "Don't know                                   2591\n",
       "Did not vote                                12491\n",
       "Name: profile_past_vote_2015, dtype: int64"
      ]
     },
     "execution_count": 332,
     "metadata": {},
     "output_type": "execute_result"
    }
   ],
   "source": [
    "BES_Panel[\"profile_past_vote_2015\"].value_counts().sort_index()"
   ]
  },
  {
   "cell_type": "code",
   "execution_count": 313,
   "metadata": {},
   "outputs": [
    {
     "data": {
      "text/plain": [
       "Conservative                                23284\n",
       "Labour                                      21943\n",
       "Did not vote                                12491\n",
       "United Kingdom Independence Party (UKIP)     7434\n",
       "Liberal Democrat                             5977\n",
       "Green Party                                  3835\n",
       "Scottish National Party (SNP)                3825\n",
       "Don't know                                   2591\n",
       "Other                                        1087\n",
       "Plaid Cymru                                   535\n",
       "British National Party (BNP)                   66\n",
       "Name: profile_past_vote_2015, dtype: int64"
      ]
     },
     "execution_count": 313,
     "metadata": {},
     "output_type": "execute_result"
    }
   ],
   "source": [
    "BES_Panel[\"profile_past_vote_2015\"].value_counts()"
   ]
  },
  {
   "cell_type": "code",
   "execution_count": 314,
   "metadata": {},
   "outputs": [
    {
     "data": {
      "text/plain": [
       "Conservative                                16407\n",
       "Labour                                      15435\n",
       "Liberal Democrat                             9582\n",
       "I would not vote                             4791\n",
       "Scottish National Party (SNP)                3857\n",
       "Don't know                                   1694\n",
       "An independent candidate                     1611\n",
       "United Kingdom Independence Party (UKIP)      691\n",
       "Plaid Cymru                                   647\n",
       "Green Party                                   622\n",
       "British National Party (BNP)                  523\n",
       "Other                                         357\n",
       "10.0                                          295\n",
       "Brexit Party                                  116\n",
       "Change UK- The Independent Group                3\n",
       "Name: profile_past_vote_2005, dtype: int64"
      ]
     },
     "execution_count": 314,
     "metadata": {},
     "output_type": "execute_result"
    }
   ],
   "source": [
    "BES_Panel[\"profile_past_vote_2005\"].value_counts()"
   ]
  },
  {
   "cell_type": "code",
   "execution_count": 268,
   "metadata": {},
   "outputs": [
    {
     "data": {
      "text/html": [
       "<div>\n",
       "<style scoped>\n",
       "    .dataframe tbody tr th:only-of-type {\n",
       "        vertical-align: middle;\n",
       "    }\n",
       "\n",
       "    .dataframe tbody tr th {\n",
       "        vertical-align: top;\n",
       "    }\n",
       "\n",
       "    .dataframe thead th {\n",
       "        text-align: right;\n",
       "    }\n",
       "</style>\n",
       "<table border=\"1\" class=\"dataframe\">\n",
       "  <thead>\n",
       "    <tr style=\"text-align: right;\">\n",
       "      <th>profile_eurefturnout</th>\n",
       "      <th>No, did not vote</th>\n",
       "      <th>Yes, voted</th>\n",
       "      <th>Don't know</th>\n",
       "    </tr>\n",
       "    <tr>\n",
       "      <th>euRefTurnoutW8</th>\n",
       "      <th></th>\n",
       "      <th></th>\n",
       "      <th></th>\n",
       "    </tr>\n",
       "  </thead>\n",
       "  <tbody>\n",
       "    <tr>\n",
       "      <th>Very unlikely that I would vote</th>\n",
       "      <td>599</td>\n",
       "      <td>151</td>\n",
       "      <td>12</td>\n",
       "    </tr>\n",
       "    <tr>\n",
       "      <th>Fairly unlikely</th>\n",
       "      <td>176</td>\n",
       "      <td>149</td>\n",
       "      <td>8</td>\n",
       "    </tr>\n",
       "    <tr>\n",
       "      <th>Neither likely nor unlikely</th>\n",
       "      <td>220</td>\n",
       "      <td>326</td>\n",
       "      <td>22</td>\n",
       "    </tr>\n",
       "    <tr>\n",
       "      <th>Fairly likely</th>\n",
       "      <td>251</td>\n",
       "      <td>1594</td>\n",
       "      <td>20</td>\n",
       "    </tr>\n",
       "    <tr>\n",
       "      <th>Very likely that I would vote</th>\n",
       "      <td>369</td>\n",
       "      <td>23143</td>\n",
       "      <td>43</td>\n",
       "    </tr>\n",
       "    <tr>\n",
       "      <th>Don't know</th>\n",
       "      <td>168</td>\n",
       "      <td>257</td>\n",
       "      <td>56</td>\n",
       "    </tr>\n",
       "  </tbody>\n",
       "</table>\n",
       "</div>"
      ],
      "text/plain": [
       "profile_eurefturnout             No, did not vote  Yes, voted  Don't know\n",
       "euRefTurnoutW8                                                           \n",
       "Very unlikely that I would vote               599         151          12\n",
       "Fairly unlikely                               176         149           8\n",
       "Neither likely nor unlikely                   220         326          22\n",
       "Fairly likely                                 251        1594          20\n",
       "Very likely that I would vote                 369       23143          43\n",
       "Don't know                                    168         257          56"
      ]
     },
     "execution_count": 268,
     "metadata": {},
     "output_type": "execute_result"
    }
   ],
   "source": [
    "pd.crosstab(BES_Panel[\"euRefTurnoutW8\"], BES_Panel[\"profile_eurefturnout\"])"
   ]
  },
  {
   "cell_type": "code",
   "execution_count": 255,
   "metadata": {},
   "outputs": [
    {
     "data": {
      "text/plain": [
       "euRefpastVoteW14                     0\n",
       "euRefDoOverW15                       0\n",
       "euRefVoteW15                         0\n",
       "goodConductEURefW15                  0\n",
       "euRefTurnoutRetroW15                 0\n",
       "euRefpastVoteW15                     0\n",
       "euRefTurnoutRetroW17                 0\n",
       "euRefpastVoteW17                     0\n",
       "euRefpastVoteW13                     0\n",
       "euRefDoOverW10                       0\n",
       "profile_eurefturnout                 0\n",
       "euRefFinalPostW9                     0\n",
       "euRefVoteW9                          0\n",
       "euRefVoteHypotheticalW9              0\n",
       "euRefTurnoutRetroW9                  0\n",
       "goodConductEURefW9                   0\n",
       "euRefVoteW16                         5\n",
       "euRefDoOverW16                       5\n",
       "EUrefsatisfactionControl_1W19       28\n",
       "euRefVotePostW8                    207\n",
       "euRefVoteSqueezeW8                 225\n",
       "euRefVoteW19                       271\n",
       "euRefDoOverW19                     271\n",
       "pastvote_EURefW17                  282\n",
       "euRefVoteW17                       283\n",
       "euRefDoOverW17                     286\n",
       "euRefVoteSqueezeW7                 480\n",
       "euRefVoteW18                       569\n",
       "euRefDoOverW18                     572\n",
       "euRefVote2W8                      1611\n",
       "euRefVoteUnsqueezeW8              1611\n",
       "euRefTurnoutW8                    1611\n",
       "euRefCertaintyW8                  1611\n",
       "euRefInterestW8                   1818\n",
       "euRefFinalW8                      1818\n",
       "euRefExpectationW8                1818\n",
       "euRefVoteW8                       1818\n",
       "expectGoodConductEURefW7          2789\n",
       "euRefFinalW7                      2789\n",
       "euRefTurnoutW7                    2789\n",
       "euRefVoteW7                       2789\n",
       "euRefVoteUnsqueezeW7              2789\n",
       "euRefInterestW7                   2789\n",
       "euRefExpectationW7                2789\n",
       "euRefLA                           3668\n",
       "euRefVoteW6                       5809\n",
       "euRefVoteW3                       6566\n",
       "euRefVoteW4                       6974\n",
       "euRefVoteW2                       7619\n",
       "euRefVoteW1                      10067\n",
       "dtype: int64"
      ]
     },
     "execution_count": 255,
     "metadata": {},
     "output_type": "execute_result"
    }
   ],
   "source": [
    "search(BES_Panel,\"euref\",mask = BES_Panel[\"profile_eurefvote\"].isnull()).sort_values().tail(50)"
   ]
  },
  {
   "cell_type": "code",
   "execution_count": 256,
   "metadata": {},
   "outputs": [
    {
     "data": {
      "text/plain": [
       "Male      135\n",
       "Female    124\n",
       "3.0        19\n",
       "4.0         4\n",
       "Name: pastvote_EURefW17, dtype: int64"
      ]
     },
     "execution_count": 256,
     "metadata": {},
     "output_type": "execute_result"
    }
   ],
   "source": [
    "BES_Panel[\"pastvote_EURefW17\"][BES_Panel[\"profile_eurefvote\"].isnull()].value_counts()"
   ]
  },
  {
   "cell_type": "code",
   "execution_count": 258,
   "metadata": {},
   "outputs": [
    {
     "data": {
      "text/plain": [
       "Stay/remain in the EU    36286\n",
       "Leave the EU             31721\n",
       "Did not vote             10997\n",
       "Don't know                 507\n",
       "Name: profile_eurefvote, dtype: int64"
      ]
     },
     "execution_count": 258,
     "metadata": {},
     "output_type": "execute_result"
    }
   ],
   "source": [
    "BES_Panel[\"profile_eurefvote\"].value_counts()"
   ]
  },
  {
   "cell_type": "code",
   "execution_count": 263,
   "metadata": {},
   "outputs": [
    {
     "data": {
      "text/plain": [
       "Stay/remain in the EU    15266\n",
       "Leave the EU             14843\n",
       "Did not vote              3714\n",
       "Don't know                 529\n",
       "Name: pastvote_EURefW17, dtype: int64"
      ]
     },
     "execution_count": 263,
     "metadata": {},
     "output_type": "execute_result"
    }
   ],
   "source": [
    "BES_Panel[\"pastvote_EURefW17\"].value_counts()\n",
    "replace_dict = {\"Male\":'Stay/remain in the EU',\"Female\":'Leave the EU',3.0:'Did not vote',4.0:\"Don't know\"}\n",
    "BES_Panel[\"pastvote_EURefW17\"].replace(replace_dict).astype('category').cat.set_categories(BES_Panel[\"profile_eurefvote\"].cat.categories)"
   ]
  },
  {
   "cell_type": "code",
   "execution_count": 260,
   "metadata": {},
   "outputs": [
    {
     "data": {
      "text/plain": [
       "Male      14469\n",
       "Female      164\n",
       "3.0          97\n",
       "4.0          57\n",
       "Name: pastvote_EURefW17, dtype: int64"
      ]
     },
     "execution_count": 260,
     "metadata": {},
     "output_type": "execute_result"
    }
   ],
   "source": [
    "BES_Panel[\"pastvote_EURefW17\"][BES_Panel[\"profile_eurefvote\"] == \"Stay/remain in the EU\"].value_counts()"
   ]
  },
  {
   "cell_type": "code",
   "execution_count": 254,
   "metadata": {},
   "outputs": [
    {
     "data": {
      "text/plain": [
       "euRefpastVoteW14                     0\n",
       "euRefDoOverW15                       0\n",
       "euRefVoteW15                         0\n",
       "goodConductEURefW15                  0\n",
       "euRefTurnoutRetroW15                 0\n",
       "euRefpastVoteW15                     0\n",
       "euRefTurnoutRetroW17                 0\n",
       "euRefpastVoteW17                     0\n",
       "euRefpastVoteW13                     0\n",
       "euRefDoOverW10                       0\n",
       "profile_eurefturnout                 0\n",
       "euRefFinalPostW9                     0\n",
       "euRefVoteW9                          0\n",
       "euRefVoteHypotheticalW9              0\n",
       "euRefTurnoutRetroW9                  0\n",
       "goodConductEURefW9                   0\n",
       "euRefVoteW16                         5\n",
       "euRefDoOverW16                       5\n",
       "EUrefsatisfactionControl_1W19       28\n",
       "euRefVotePostW8                    207\n",
       "euRefVoteSqueezeW8                 225\n",
       "euRefVoteW19                       271\n",
       "euRefDoOverW19                     271\n",
       "pastvote_EURefW17                  282\n",
       "euRefVoteW17                       283\n",
       "euRefDoOverW17                     286\n",
       "euRefVoteSqueezeW7                 480\n",
       "euRefVoteW18                       569\n",
       "euRefDoOverW18                     572\n",
       "euRefVote2W8                      1611\n",
       "euRefVoteUnsqueezeW8              1611\n",
       "euRefTurnoutW8                    1611\n",
       "euRefCertaintyW8                  1611\n",
       "euRefInterestW8                   1818\n",
       "euRefFinalW8                      1818\n",
       "euRefExpectationW8                1818\n",
       "euRefVoteW8                       1818\n",
       "expectGoodConductEURefW7          2789\n",
       "euRefFinalW7                      2789\n",
       "euRefTurnoutW7                    2789\n",
       "euRefVoteW7                       2789\n",
       "euRefVoteUnsqueezeW7              2789\n",
       "euRefInterestW7                   2789\n",
       "euRefExpectationW7                2789\n",
       "euRefLA                           3668\n",
       "euRefVoteW6                       5809\n",
       "euRefVoteW3                       6566\n",
       "euRefVoteW4                       6974\n",
       "euRefVoteW2                       7619\n",
       "euRefVoteW1                      10067\n",
       "dtype: int64"
      ]
     },
     "execution_count": 254,
     "metadata": {},
     "output_type": "execute_result"
    }
   ],
   "source": [
    "search(BES_Panel,\"euref\",mask = BES_Panel[\"profile_eurefturnout\"].isnull()).sort_values().tail(50)"
   ]
  },
  {
   "cell_type": "code",
   "execution_count": null,
   "metadata": {},
   "outputs": [],
   "source": [
    "pastvote_EURefW17"
   ]
  },
  {
   "cell_type": "code",
   "execution_count": 248,
   "metadata": {},
   "outputs": [
    {
     "data": {
      "text/plain": [
       "Unknown                                     26037\n",
       "Labour                                      23817\n",
       "Conservative                                23760\n",
       "Did not vote                                10041\n",
       "Liberal Democrat                             5275\n",
       "Scottish National Party (SNP)                2531\n",
       "United Kingdom Independence Party (UKIP)     1484\n",
       "Green Party                                  1285\n",
       "Don't know                                   1179\n",
       "Other                                         723\n",
       "Not Present                                   629\n",
       "Plaid Cymru                                   396\n",
       "British National Party (BNP)                    1\n",
       "Name: 2017GEVote_complete, dtype: int64"
      ]
     },
     "execution_count": 248,
     "metadata": {},
     "output_type": "execute_result"
    }
   ],
   "source": [
    "pan_dataset_votes[\"2017GEVote\"+\"_complete\"].value_counts(dropna=False)"
   ]
  },
  {
   "cell_type": "code",
   "execution_count": 243,
   "metadata": {},
   "outputs": [],
   "source": [
    "turnout_var = \"profile_turnout_2017\"\n",
    "past_vote_var = \"profile_past_vote_2017\"\n",
    "new_vote_var = \"2017GEVote\"\n",
    "\n",
    "# generalElectionVoteRetro2017W18     8063\n",
    "# genElecTurnoutRetro2017W18          9369\n",
    "# voted2017W19                       32177\n",
    "# profile_past_vote_2017             70492\n",
    "# profile_turnout_2017               70322\n",
    "\n",
    "\n",
    "Didnt_vote_not_sure =BES_Panel[turnout_var].apply(lambda x: x in Probably_didnt_vote_list).replace(np.nan,False)\n",
    "Didnt_vote_not_sure = Didnt_vote_not_sure|BES_Panel[\"voted2017W19\"].apply(lambda x: x in Probably_didnt_vote_list).replace(np.nan,False)\n",
    "Didnt_vote_not_sure = Didnt_vote_not_sure|BES_Panel[\"genElecTurnoutRetro2017W18\"].apply(lambda x: x in Probably_didnt_vote_list).replace(np.nan,False)\n",
    "# lets assume that positive data (even \"don't know\"! in past_vote_var outranks recollection of voting/turnout)\n",
    "Didnt_vote_not_sure = Didnt_vote_not_sure & BES_Panel[past_vote_var].isnull()\n",
    "# two non-voting variables for 2015!\n",
    "pan_dataset_votes[new_vote_var] = BES_Panel[past_vote_var]\n",
    "add_cat_and_modify_df(pan_dataset_votes, new_vote_var, Didnt_vote_not_sure, \"Did not vote\")\n",
    "\n",
    "# if \"Did not vote\" not in BES_Panel[past_vote_var].cat.categories:\n",
    "#     BES_Panel[past_vote_var].cat.add_categories(\"Did not vote\",inplace=True)\n",
    "# # this is assumed to only be overwriting nans\n",
    "# BES_Panel[past_vote_var][Didnt_vote_not_sure] = \"Did not vote\"\n",
    "\n",
    "pan_dataset_votes[new_vote_var+\"_complete\"] = pan_dataset_votes[new_vote_var]\n",
    "# entries that don't actually seem real/to contain any data!\n",
    "nowtsW19 = (BES_Panel[\"wt_new_W19_result\"].isnull() & BES_Panel[\"wave19\"])\n",
    "add_cat_and_modify_df(pan_dataset_votes, new_vote_var+\"_complete\", nowtsW19, \"Not Present\")\n",
    "\n",
    "too_young_to_vote = pan_dataset_ages[\"Age_at_W12\"]<=17"
   ]
  },
  {
   "cell_type": "code",
   "execution_count": 244,
   "metadata": {},
   "outputs": [
    {
     "data": {
      "text/plain": [
       "Did not vote                                666\n",
       "Labour                                       29\n",
       "Conservative                                  7\n",
       "Liberal Democrat                              4\n",
       "Green Party                                   2\n",
       "Scottish National Party (SNP)                 2\n",
       "Don't know                                    1\n",
       "Other                                         1\n",
       "Not Present                                   0\n",
       "British National Party (BNP)                  0\n",
       "United Kingdom Independence Party (UKIP)      0\n",
       "Plaid Cymru                                   0\n",
       "Name: 2017GEVote_complete, dtype: int64"
      ]
     },
     "execution_count": 244,
     "metadata": {},
     "output_type": "execute_result"
    }
   ],
   "source": [
    "pan_dataset_votes[new_vote_var+\"_complete\"][too_young_to_vote].value_counts()"
   ]
  },
  {
   "cell_type": "code",
   "execution_count": 210,
   "metadata": {},
   "outputs": [
    {
     "data": {
      "text/plain": [
       "Conservative                                3422\n",
       "Labour                                      2803\n",
       "Liberal Democrat                             650\n",
       "Scottish National Party (SNP)                316\n",
       "Did not vote                                 289\n",
       "United Kingdom Independence Party (UKIP)     199\n",
       "Green Party                                  154\n",
       "Don't know                                    98\n",
       "Other                                         87\n",
       "Plaid Cymru                                   45\n",
       "British National Party (BNP)                   0\n",
       "Name: profile_past_vote_2017, dtype: int64"
      ]
     },
     "execution_count": 210,
     "metadata": {},
     "output_type": "execute_result"
    }
   ],
   "source": [
    "BES_Panel[\"profile_past_vote_2017\"][BES_Panel[\"generalElectionVoteRetro2017W18\"].notnull()].value_counts()\n"
   ]
  },
  {
   "cell_type": "code",
   "execution_count": 211,
   "metadata": {},
   "outputs": [
    {
     "data": {
      "text/plain": [
       "Conservative                                3478\n",
       "Labour                                      2409\n",
       "Liberal Democrat                             793\n",
       "United Kingdom Independence Party (UKIP)     416\n",
       "Scottish National Party (SNP)                336\n",
       "Don't know                                   236\n",
       "Green Party                                  224\n",
       "Other                                        119\n",
       "Plaid Cymru                                   52\n",
       "Name: generalElectionVoteRetro2017W18, dtype: int64"
      ]
     },
     "execution_count": 211,
     "metadata": {},
     "output_type": "execute_result"
    }
   ],
   "source": [
    "BES_Panel[\"generalElectionVoteRetro2017W18\"].value_counts()"
   ]
  },
  {
   "cell_type": "code",
   "execution_count": 212,
   "metadata": {},
   "outputs": [
    {
     "data": {
      "text/plain": [
       "Conservative                                106\n",
       "Labour                                       73\n",
       "Liberal Democrat                             38\n",
       "United Kingdom Independence Party (UKIP)     34\n",
       "Scottish National Party (SNP)                17\n",
       "Don't know                                   11\n",
       "Other                                         5\n",
       "Green Party                                   4\n",
       "Plaid Cymru                                   1\n",
       "Name: generalElectionVoteRetro2017W18, dtype: int64"
      ]
     },
     "execution_count": 212,
     "metadata": {},
     "output_type": "execute_result"
    }
   ],
   "source": [
    "BES_Panel[\"generalElectionVoteRetro2017W18\"][BES_Panel[\"profile_past_vote_2017\"]==\"Did not vote\"].value_counts()\n"
   ]
  },
  {
   "cell_type": "code",
   "execution_count": 216,
   "metadata": {},
   "outputs": [
    {
     "data": {
      "text/plain": [
       "generalElectionVoteRetro2017W18     8063\n",
       "econGenRetroW1                     30549\n",
       "econGenRetroW2                     30260\n",
       "econGenRetroW3                     27829\n",
       "econGenRetroW4                     31550\n",
       "genElecTurnoutRetroW6              30258\n",
       "econGenRetroW6                      7522\n",
       "econGenRetroW7                     30895\n",
       "econGenRetroW8                     15200\n",
       "econGenRetroW10                    30237\n",
       "econGenRetroW11                    30956\n",
       "econGenRetroW12                     8984\n",
       "genElecTurnoutRetroW13             31136\n",
       "econGenRetroW13                    31136\n",
       "econGenRetroW14                    31063\n",
       "econGenRetroW15                    30842\n",
       "econGenRetroW16                    37959\n",
       "econGenRetroW17                    34366\n",
       "genElecTurnoutRetro2017W18          9369\n",
       "genElecTurnoutRetroW19             32177\n",
       "dtype: int64"
      ]
     },
     "execution_count": 216,
     "metadata": {},
     "output_type": "execute_result"
    }
   ],
   "source": [
    "search(BES_Panel,\"gen.*Retro\")"
   ]
  },
  {
   "cell_type": "code",
   "execution_count": 220,
   "metadata": {},
   "outputs": [
    {
     "data": {
      "text/plain": [
       "Conservative                                3478\n",
       "Labour                                      2409\n",
       "Liberal Democrat                             793\n",
       "United Kingdom Independence Party (UKIP)     416\n",
       "Scottish National Party (SNP)                336\n",
       "Don't know                                   236\n",
       "Green Party                                  224\n",
       "Other                                        119\n",
       "Plaid Cymru                                   52\n",
       "Name: generalElectionVoteRetro2017W18, dtype: int64"
      ]
     },
     "execution_count": 220,
     "metadata": {},
     "output_type": "execute_result"
    }
   ],
   "source": [
    "BES_Panel[\"generalElectionVoteRetro2017W18\"].value_counts()"
   ]
  },
  {
   "cell_type": "code",
   "execution_count": 217,
   "metadata": {},
   "outputs": [
    {
     "data": {
      "text/plain": [
       "Yes, voted    8177\n",
       "2.0            962\n",
       "Don't know     230\n",
       "Name: genElecTurnoutRetro2017W18, dtype: int64"
      ]
     },
     "execution_count": 217,
     "metadata": {},
     "output_type": "execute_result"
    }
   ],
   "source": [
    "BES_Panel[\"genElecTurnoutRetro2017W18\"].value_counts()"
   ]
  },
  {
   "cell_type": "code",
   "execution_count": 222,
   "metadata": {},
   "outputs": [
    {
     "data": {
      "text/plain": [
       "2.0           465\n",
       "Yes, voted    204\n",
       "Don't know     44\n",
       "Name: genElecTurnoutRetro2017W18, dtype: int64"
      ]
     },
     "execution_count": 222,
     "metadata": {},
     "output_type": "execute_result"
    }
   ],
   "source": [
    "BES_Panel[\"genElecTurnoutRetro2017W18\"][BES_Panel[\"voted2017W19\"]==\"No, did not vote\"].value_counts()"
   ]
  },
  {
   "cell_type": "code",
   "execution_count": 223,
   "metadata": {},
   "outputs": [
    {
     "data": {
      "text/plain": [
       "Conservative                                73\n",
       "Labour                                      46\n",
       "United Kingdom Independence Party (UKIP)    27\n",
       "Liberal Democrat                            26\n",
       "Scottish National Party (SNP)               11\n",
       "Don't know                                   7\n",
       "Green Party                                  4\n",
       "Other                                        3\n",
       "Plaid Cymru                                  0\n",
       "Name: generalElectionVoteRetro2017W18, dtype: int64"
      ]
     },
     "execution_count": 223,
     "metadata": {},
     "output_type": "execute_result"
    }
   ],
   "source": [
    "BES_Panel[\"generalElectionVoteRetro2017W18\"][BES_Panel[\"voted2017W19\"]==\"No, did not vote\"].value_counts()"
   ]
  },
  {
   "cell_type": "code",
   "execution_count": null,
   "metadata": {},
   "outputs": [],
   "source": [
    "BES_Panel[\"genElecTurnoutRetro2017W18\"].value_counts()"
   ]
  },
  {
   "cell_type": "code",
   "execution_count": 186,
   "metadata": {},
   "outputs": [
    {
     "data": {
      "text/plain": [
       "Conservative                                3478\n",
       "Labour                                      2409\n",
       "Liberal Democrat                             793\n",
       "United Kingdom Independence Party (UKIP)     416\n",
       "Scottish National Party (SNP)                336\n",
       "Don't know                                   236\n",
       "Green Party                                  224\n",
       "Other                                        119\n",
       "Plaid Cymru                                   52\n",
       "Name: generalElectionVoteRetro2017W18, dtype: int64"
      ]
     },
     "execution_count": 186,
     "metadata": {},
     "output_type": "execute_result"
    }
   ],
   "source": [
    "BES_Panel[\"generalElectionVoteRetro2017W18\"].value_counts()"
   ]
  },
  {
   "cell_type": "code",
   "execution_count": 165,
   "metadata": {},
   "outputs": [
    {
     "data": {
      "text/plain": [
       "37                              Labour\n",
       "57                              Labour\n",
       "87                        Conservative\n",
       "90                          Don't know\n",
       "91       Scottish National Party (SNP)\n",
       "                     ...              \n",
       "31960                           Labour\n",
       "32031                            Green\n",
       "32080                           Labour\n",
       "32155                           Labour\n",
       "32158                     Conservative\n",
       "Name: generalElectionVoteW19, Length: 734, dtype: category\n",
       "Categories (11, object): [Conservative < Labour < Liberal Democrat < Scottish National Party (SNP) ... Other < Don't know < Did not vote < Not Present]"
      ]
     },
     "execution_count": 165,
     "metadata": {},
     "output_type": "execute_result"
    }
   ],
   "source": [
    "BES_Panel[\"generalElectionVoteW19\"][last_chunk_unassigned].astype('object').replace(replace_dict)\\\n",
    "        .astype('category').cat.set_categories(pan_dataset_votes[new_vote_var+\"_complete\"].cat.categories,ordered =True)"
   ]
  },
  {
   "cell_type": "code",
   "execution_count": 66,
   "metadata": {},
   "outputs": [],
   "source": [
    "# %%time\n",
    "# pattern = \"profile_eurefturnout_Yes\"\n",
    "# name = \"profile_eurefturnout_Yes\"\n",
    "# corr_type = \"spearman\"\n",
    "# mask = BES_Panel[\"profile_eurefturnout\"].notnull()\n",
    "# corr_df,corr_type = make_corr_summary(BES_reduced_with_na[mask].astype('float32'),\n",
    "#                                       name, corr_type, pattern=pattern)\n",
    "# display_corr(corr_df, name, corr_type, text_wrap_length=50)"
   ]
  },
  {
   "cell_type": "code",
   "execution_count": 75,
   "metadata": {},
   "outputs": [
    {
     "data": {
      "text/plain": [
       "(31443, 32806)"
      ]
     },
     "execution_count": 75,
     "metadata": {},
     "output_type": "execute_result"
    }
   ],
   "source": [
    "BES_Panel[\"pastvote_ge_2019W19\"].value_counts().sum(), BES_Panel[\"wave19\"].sum()"
   ]
  },
  {
   "cell_type": "code",
   "execution_count": 141,
   "metadata": {},
   "outputs": [
    {
     "data": {
      "text/plain": [
       "Index(['Conservative', 'Labour', 'Liberal Democrat',\n",
       "       'Scottish National Party (SNP)', 'Plaid Cymru', 'Brexit Party', 'Green',\n",
       "       'Other', 'Don't know', 'Did not vote', 'Not Present'],\n",
       "      dtype='object')"
      ]
     },
     "execution_count": 141,
     "metadata": {},
     "output_type": "execute_result"
    }
   ],
   "source": [
    "\n",
    "pan_dataset_votes.loc[last_chunk_unassigned,new_vote_var+\"_complete\"].cat.categories\n",
    "# = BES_Panel[\"generalElectionVoteW19\"][last_chunk_unassigned].astype('object').replace(replace_dict).values"
   ]
  },
  {
   "cell_type": "code",
   "execution_count": 140,
   "metadata": {},
   "outputs": [
    {
     "data": {
      "text/plain": [
       "Conservative                                224\n",
       "Labour                                      209\n",
       "Don't know                                   86\n",
       "Liberal Democrat                             69\n",
       "Other                                        50\n",
       "Green                                        36\n",
       "Scottish National Party (SNP)                32\n",
       "Brexit Party                                 24\n",
       "United Kingdom Independence Party (UKIP)      3\n",
       "Plaid Cymru                                   1\n",
       "Name: generalElectionVoteW19, dtype: int64"
      ]
     },
     "execution_count": 140,
     "metadata": {},
     "output_type": "execute_result"
    }
   ],
   "source": [
    "BES_Panel[\"generalElectionVoteW19\"][last_chunk_unassigned].astype('object').replace(replace_dict).value_counts(dropna=False)"
   ]
  },
  {
   "cell_type": "code",
   "execution_count": 142,
   "metadata": {},
   "outputs": [
    {
     "data": {
      "text/plain": [
       "Conservative                     12666\n",
       "Labour                            8244\n",
       "Liberal Democrat                  3579\n",
       "Did not vote                      3159\n",
       "Scottish National Party (SNP)     1249\n",
       "Green                              858\n",
       "Brexit Party                       722\n",
       "Other                              553\n",
       "Don't know                         231\n",
       "Plaid Cymru                        182\n",
       "Name: pastvote_ge_2019W19, dtype: int64"
      ]
     },
     "execution_count": 142,
     "metadata": {},
     "output_type": "execute_result"
    }
   ],
   "source": [
    "BES_Panel[\"pastvote_ge_2019W19\"].value_counts()"
   ]
  },
  {
   "cell_type": "code",
   "execution_count": null,
   "metadata": {},
   "outputs": [],
   "source": [
    "[BES_Panel[\"pastvote_ge_2019W19\"]==\"Other\"]"
   ]
  },
  {
   "cell_type": "code",
   "execution_count": 78,
   "metadata": {},
   "outputs": [],
   "source": [
    "GE2019_unaccounted = (BES_Panel[\"wave19\"] & BES_Panel[\"pastvote_ge_2019W19\"].isnull())\n",
    "# 1363 unaccounted for"
   ]
  },
  {
   "cell_type": "code",
   "execution_count": 80,
   "metadata": {},
   "outputs": [
    {
     "data": {
      "text/plain": [
       "Yes, voted          608\n",
       "No, did not vote    107\n",
       "Don't know           16\n",
       "Name: profile_turnout_2017, dtype: int64"
      ]
     },
     "execution_count": 80,
     "metadata": {},
     "output_type": "execute_result"
    }
   ],
   "source": [
    "BES_Panel[GE2019_unaccounted][\"profile_turnout_2017\"].value_counts()"
   ]
  },
  {
   "cell_type": "code",
   "execution_count": 85,
   "metadata": {},
   "outputs": [],
   "source": [
    "# search(BES_Panel,\"wt_new\")\n",
    "nowtsW19 = (BES_Panel[\"wt_new_W19_result\"].isnull() & BES_Panel[\"wave19\"])\n",
    "\n",
    "# bunch of people who only appear to exist in wave/id/wt_full_W1/gor/country/pcon/pano variables!\n",
    "# 629"
   ]
  },
  {
   "cell_type": "code",
   "execution_count": 103,
   "metadata": {},
   "outputs": [],
   "source": [
    "# BES_Panel[nowtsW19].notnull().sum().sort_values().tail(60)\n",
    "# nowtsW19.sum()"
   ]
  },
  {
   "cell_type": "code",
   "execution_count": 106,
   "metadata": {},
   "outputs": [
    {
     "data": {
      "text/plain": [
       "-734"
      ]
     },
     "execution_count": 106,
     "metadata": {},
     "output_type": "execute_result"
    }
   ],
   "source": [
    "BES_Panel[\"pastvote_ge_2019W19\"].value_counts().sum() - BES_Panel[\"wt_new_W19_result\"].notnull().sum()"
   ]
  },
  {
   "cell_type": "code",
   "execution_count": 109,
   "metadata": {},
   "outputs": [],
   "source": [
    "last_chunk_unassigned = (BES_Panel[\"pastvote_ge_2019W19\"].isnull() & BES_Panel[\"wt_new_W19_result\"].notnull())"
   ]
  },
  {
   "cell_type": "code",
   "execution_count": 111,
   "metadata": {},
   "outputs": [
    {
     "data": {
      "text/plain": [
       "Yes, voted          608\n",
       "No, did not vote    107\n",
       "Don't know           16\n",
       "Name: profile_turnout_2017, dtype: int64"
      ]
     },
     "execution_count": 111,
     "metadata": {},
     "output_type": "execute_result"
    }
   ],
   "source": [
    "BES_Panel[last_chunk_unassigned][\"profile_turnout_2017\"].value_counts()"
   ]
  },
  {
   "cell_type": "code",
   "execution_count": 128,
   "metadata": {},
   "outputs": [
    {
     "data": {
      "text/plain": [
       "Conservative                                224\n",
       "Labour                                      209\n",
       "Don't know                                   86\n",
       "Liberal Democrat                             69\n",
       "Other                                        45\n",
       "Green Party                                  36\n",
       "Scottish National Party (SNP)                32\n",
       "Brexit Party                                 24\n",
       "An independent candidate                      5\n",
       "United Kingdom Independence Party (UKIP)      3\n",
       "Plaid Cymru                                   1\n",
       "Name: generalElectionVoteW19, dtype: int64"
      ]
     },
     "execution_count": 128,
     "metadata": {},
     "output_type": "execute_result"
    }
   ],
   "source": [
    "BES_Panel[last_chunk_unassigned][\"generalElectionVoteW19\"].value_counts()"
   ]
  },
  {
   "cell_type": "code",
   "execution_count": 127,
   "metadata": {},
   "outputs": [
    {
     "data": {
      "text/plain": [
       "Index(['Conservative', 'Labour', 'Liberal Democrat',\n",
       "       'Scottish National Party (SNP)', 'Plaid Cymru', 'Brexit Party', 'Green',\n",
       "       'Other', 'Don't know', 'Did not vote'],\n",
       "      dtype='object')"
      ]
     },
     "execution_count": 127,
     "metadata": {},
     "output_type": "execute_result"
    }
   ],
   "source": [
    "BES_Panel[\"pastvote_ge_2019W19\"].cat.categories"
   ]
  },
  {
   "cell_type": "code",
   "execution_count": null,
   "metadata": {},
   "outputs": [],
   "source": [
    "replace_dict = {'Green Party':'Green','An independent candidate':'Other'}"
   ]
  },
  {
   "cell_type": "code",
   "execution_count": 117,
   "metadata": {},
   "outputs": [
    {
     "data": {
      "text/plain": [
       "734"
      ]
     },
     "execution_count": 117,
     "metadata": {},
     "output_type": "execute_result"
    }
   ],
   "source": [
    "BES_Panel[last_chunk_unassigned][\"generalElectionVoteW19\"].value_counts().sum()"
   ]
  },
  {
   "cell_type": "code",
   "execution_count": 119,
   "metadata": {},
   "outputs": [
    {
     "data": {
      "text/plain": [
       "482"
      ]
     },
     "execution_count": 119,
     "metadata": {},
     "output_type": "execute_result"
    }
   ],
   "source": [
    "BES_Panel[last_chunk_unassigned][\"generalElectionVoteW18\"].value_counts().sum()"
   ]
  },
  {
   "cell_type": "code",
   "execution_count": 121,
   "metadata": {},
   "outputs": [
    {
     "data": {
      "text/plain": [
       "453"
      ]
     },
     "execution_count": 121,
     "metadata": {},
     "output_type": "execute_result"
    }
   ],
   "source": [
    "BES_Panel[last_chunk_unassigned][\"generalElectionVoteW17\"].value_counts().sum()"
   ]
  },
  {
   "cell_type": "code",
   "execution_count": 493,
   "metadata": {},
   "outputs": [
    {
     "data": {
      "text/plain": [
       "16055"
      ]
     },
     "execution_count": 493,
     "metadata": {},
     "output_type": "execute_result"
    }
   ],
   "source": [
    "LD2005 = pan_dataset_votes[\"2005GEVote_complete\"]==\"Liberal Democrat\"\n",
    "LD2010 = pan_dataset_votes[\"2010GEVote_complete\"]==\"Liberal Democrat\"\n",
    "LD05_10 = LD2005|LD2010\n",
    "LD05_10.sum()"
   ]
  },
  {
   "cell_type": "code",
   "execution_count": 499,
   "metadata": {},
   "outputs": [],
   "source": [
    "LD05_10_tot = (pan_dataset_votes[\"2005GEVote_complete\"]!=\"Unknown\")|(pan_dataset_votes[\"2010GEVote_complete\"]!=\"Unknown\")"
   ]
  },
  {
   "cell_type": "code",
   "execution_count": 502,
   "metadata": {},
   "outputs": [],
   "source": [
    "LAB2015 = pan_dataset_votes[\"2015GEVote_complete\"]==\"Labour\"\n",
    "LAB2017 = pan_dataset_votes[\"2017GEVote_complete\"]==\"Labour\"\n",
    "LAB2019 = pan_dataset_votes[\"2019GEVote_complete\"]==\"Labour\"\n"
   ]
  },
  {
   "cell_type": "code",
   "execution_count": 501,
   "metadata": {},
   "outputs": [
    {
     "data": {
      "text/plain": [
       "0.11851465117796776"
      ]
     },
     "execution_count": 501,
     "metadata": {},
     "output_type": "execute_result"
    }
   ],
   "source": [
    "(LAB2015&LD05_10).sum()/(LAB2015&LD05_10_tot).sum()"
   ]
  },
  {
   "cell_type": "code",
   "execution_count": 503,
   "metadata": {},
   "outputs": [
    {
     "data": {
      "text/plain": [
       "0.35422623813336385"
      ]
     },
     "execution_count": 503,
     "metadata": {},
     "output_type": "execute_result"
    }
   ],
   "source": [
    "(LAB2015&LD05_10).sum()/(LAB2015&LD05_10_tot).sum()"
   ]
  },
  {
   "cell_type": "code",
   "execution_count": 505,
   "metadata": {},
   "outputs": [
    {
     "data": {
      "text/plain": [
       "0.31912166304408407"
      ]
     },
     "execution_count": 505,
     "metadata": {},
     "output_type": "execute_result"
    }
   ],
   "source": [
    "(LAB2017&LD05_10).sum()/(LAB2017&LD05_10_tot).sum()"
   ]
  },
  {
   "cell_type": "code",
   "execution_count": 506,
   "metadata": {},
   "outputs": [
    {
     "data": {
      "text/plain": [
       "0.3342492322611928"
      ]
     },
     "execution_count": 506,
     "metadata": {},
     "output_type": "execute_result"
    }
   ],
   "source": [
    "(LAB2019&LD05_10).sum()/(LAB2019&LD05_10_tot).sum()"
   ]
  },
  {
   "cell_type": "code",
   "execution_count": null,
   "metadata": {},
   "outputs": [],
   "source": []
  }
 ],
 "metadata": {
  "kernelspec": {
   "display_name": "Python [conda env:BES_analysis] *",
   "language": "python",
   "name": "conda-env-BES_analysis-py"
  },
  "language_info": {
   "codemirror_mode": {
    "name": "ipython",
    "version": 3
   },
   "file_extension": ".py",
   "mimetype": "text/x-python",
   "name": "python",
   "nbconvert_exporter": "python",
   "pygments_lexer": "ipython3",
   "version": "3.7.6"
  }
 },
 "nbformat": 4,
 "nbformat_minor": 4
}
