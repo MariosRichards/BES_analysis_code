{
 "cells": [
  {
   "cell_type": "markdown",
   "metadata": {},
   "source": [
    "# Have the Conservatives Moved Left?"
   ]
  },
  {
   "cell_type": "code",
   "execution_count": 1,
   "metadata": {},
   "outputs": [
    {
     "data": {
      "text/html": [
       "<script>jQuery(function() {if (jQuery(\"body.notebook_app\").length == 0) { jQuery(\".input_area\").toggle(); jQuery(\".prompt\").toggle();}});</script>"
      ]
     },
     "metadata": {},
     "output_type": "display_data"
    },
    {
     "data": {
      "text/html": [
       "<button onclick=\"jQuery('.input_area').toggle(); jQuery('.prompt').toggle();\">Toggle code</button>"
      ]
     },
     "metadata": {},
     "output_type": "display_data"
    }
   ],
   "source": [
    "import warnings\n",
    "warnings.filterwarnings('ignore')\n",
    "\n",
    "from IPython.display import display\n",
    "from IPython.display import HTML\n",
    "import IPython.core.display as di # Example: di.display_html('<h3>%s:</h3>' % str, raw=True)\n",
    "\n",
    "# This line will hide code by default when the notebook is exported as HTML\n",
    "di.display_html('<script>jQuery(function() {if (jQuery(\"body.notebook_app\").length == 0) { jQuery(\".input_area\").toggle(); jQuery(\".prompt\").toggle();}});</script>', raw=True)\n",
    "\n",
    "# This line will add a button to toggle visibility of code blocks, for use with the HTML export version\n",
    "di.display_html('''<button onclick=\"jQuery('.input_area').toggle(); jQuery('.prompt').toggle();\">Toggle code</button>''', raw=True)"
   ]
  },
  {
   "cell_type": "code",
   "execution_count": 2,
   "metadata": {},
   "outputs": [],
   "source": [
    "dataset_name = \"W16_comb\"\n",
    "df_list = [ \"BES_Panel\", ]"
   ]
  },
  {
   "cell_type": "code",
   "execution_count": 3,
   "metadata": {},
   "outputs": [],
   "source": [
    "%matplotlib inline\n",
    "\n",
    "import numpy as np, pandas as pd, matplotlib.pyplot as plt, seaborn as sns\n",
    "import pickle, os, gc, re\n",
    "\n",
    "sns.set();\n",
    "sns.set_palette(\"colorblind\")\n",
    "\n",
    "from IPython.display import display, display_html, HTML\n",
    "plt.rcParams[\"axes.grid\"] = False\n",
    "\n",
    "import Jupyter_module_loader\n",
    "from utility import *\n",
    "import gaussian_kde\n",
    "\n",
    "import warnings\n",
    "warnings.filterwarnings('ignore')\n",
    "\n",
    "import holoviews as hv\n",
    "from holoviews import opts\n",
    "\n",
    "encoding = \"ISO-8859-1\""
   ]
  },
  {
   "cell_type": "code",
   "execution_count": 4,
   "metadata": {},
   "outputs": [],
   "source": [
    "# you should clone this git to a subdirectory called 'BES_analysis_code' (in some directory - I call it BES_analysis - doesn't matter though)\n",
    "# %matplotlib inline\n",
    "(BES_code_folder, BES_small_data_files, BES_data_folder,\n",
    " BES_output_folder, BES_file_manifest, BES_R_data_files) = setup_directories()\n",
    "\n",
    "global BES_Panel, BES_numeric, BES_reduced, BES_reduced_with_na, BES_non_numeric\n",
    "data_subfolder = BES_data_folder + dataset_name + os.sep\n",
    "\n",
    "(manifest, dataset_filename, dataset_description, dataset_citation,\n",
    " dataset_start, dataset_stop, dataset_wave) = get_manifest(dataset_name, BES_file_manifest)\n",
    "\n",
    "for df in df_list:\n",
    "    if df==\"BES_Panel\":\n",
    "        globals()[df]  = pd.read_msgpack(data_subfolder + dataset_filename.replace('.dta','.msgpack'))\n",
    "    else:\n",
    "        globals()[df]  = pd.read_msgpack(data_subfolder + df + '.msgpack' )\n",
    "        globals()[df].replace(-1,np.nan,inplace=True)\n",
    "  \n",
    "# (var_type, cat_dictionary, new_old_col_names, old_new_col_names) = get_small_files(data_subfolder, encoding)\n",
    "\n",
    "# get full set of inferred \"cross wave\" auth-lib/left-right values and ages\n",
    "pan_dataset_allr_values = pd.read_csv(BES_small_data_files + \"pan_dataset_allr_values\"+\".csv\")\n",
    "pan_dataset_ages = pd.read_csv( BES_small_data_files + \"pan_dataset_ages\"+\".csv\" )"
   ]
  },
  {
   "cell_type": "code",
   "execution_count": 5,
   "metadata": {},
   "outputs": [],
   "source": [
    "def weighted_mean(x, **kws):\n",
    "    val, weight = map(np.asarray, zip(*x))\n",
    "    return (val * weight).sum() / weight.sum()"
   ]
  },
  {
   "cell_type": "code",
   "execution_count": 6,
   "metadata": {},
   "outputs": [],
   "source": [
    "max_wave = int(re.match(\"W(\\d+)_\",dataset_name).groups()[0])\n",
    "num_to_wave = {x:\"W\"+str(x) for x in range(1,max_wave+1)}\n",
    "wts_for_wave = { \"W\"+str(y):[x for x in BES_Panel.columns.sort_values(ascending=False) if re.match(\"wt_(new|full)_W\"+str(y)+\"$\",x)][0] for y in range(1,max_wave+1) }\n",
    "# wts_for_wave"
   ]
  },
  {
   "cell_type": "code",
   "execution_count": 7,
   "metadata": {},
   "outputs": [
    {
     "data": {
      "text/plain": [
       "wt_new_               33\n",
       "wt_full_              25\n",
       "likeCon               16\n",
       "likeLD                16\n",
       "leftRight             16\n",
       "                      ..\n",
       "fatherCountryBorn      1\n",
       "blameLeave_7           1\n",
       "ukipLookAfterUnemp     1\n",
       "profile_ethnicity      1\n",
       "proposalHealth         1\n",
       "Length: 1918, dtype: int64"
      ]
     },
     "execution_count": 7,
     "metadata": {},
     "output_type": "execute_result"
    }
   ],
   "source": [
    "df = pd.Series([re.match(\"(.*?)($|W\\d+)\",x).groups()[0] for x in BES_Panel.columns]).value_counts()\n",
    "df"
   ]
  },
  {
   "cell_type": "code",
   "execution_count": 8,
   "metadata": {},
   "outputs": [],
   "source": [
    "# BES_Panel[\"goodTimePurchaseW8\"]"
   ]
  },
  {
   "cell_type": "code",
   "execution_count": 9,
   "metadata": {},
   "outputs": [
    {
     "data": {
      "text/plain": [
       "age                  10\n",
       "dutyToVote2          10\n",
       "euID                 10\n",
       "euID1                10\n",
       "euID2                10\n",
       "euID3                10\n",
       "euID4                10\n",
       "euID6                10\n",
       "euID7                10\n",
       "europeanness         10\n",
       "gor                  10\n",
       "headHouseholdPast    10\n",
       "immigCon             10\n",
       "immigGreen           10\n",
       "immigLD              10\n",
       "immigLab             10\n",
       "immigPC              10\n",
       "immigSNP             10\n",
       "immigSelf            10\n",
       "immigUKIP            10\n",
       "likeCorbyn           10\n",
       "referendumSettled    10\n",
       "snpUnited            10\n",
       "dtype: int64"
      ]
     },
     "execution_count": 9,
     "metadata": {},
     "output_type": "execute_result"
    }
   ],
   "source": [
    "drop_list = [\"starttime\",\"endtime\",\"bestOnMII\",\"mii\",\"wt_full_\",\"wt_new_\",\"pano\",\"pcon\"]\n",
    "df[df==10].drop(drop_list,errors='ignore').sort_index()"
   ]
  },
  {
   "cell_type": "code",
   "execution_count": 10,
   "metadata": {},
   "outputs": [
    {
     "data": {
      "text/plain": [
       "array(['EUContactLeaveCon', 'EUContactRemainCon', 'EUIntegrationCon',\n",
       "       'achieveReduceImmigCon', 'brexitCon', 'certaintyEUCon',\n",
       "       'certaintyRedistCon', 'eesEUIntegrationCon', 'handleMIICon',\n",
       "       'immigCon', 'leaveVoteUKIPCon', 'likeCon', 'lrCon',\n",
       "       'majorityPartyCon', 'mapCon', 'natSecurityCon',\n",
       "       'noChanceCoalitionCon', 'partyContactCon', 'partySiteCon',\n",
       "       'ptvCon', 'redistCon', 'responsibleCostLiveCon',\n",
       "       'responsibleEducationCon', 'scotCon', 'socialDistCon',\n",
       "       'successReduceInequalityCon', 'taxSpendCon', 'tryReduceImmigCon',\n",
       "       'tryReduceInequalityCon', 'welshCon', 'winConstituencyCon'],\n",
       "      dtype='<U26')"
      ]
     },
     "execution_count": 10,
     "metadata": {},
     "output_type": "execute_result"
    }
   ],
   "source": [
    "np.unique([x.split(\"W\")[0] for x in search(BES_Panel,\".*Con(W|$)\",case_sensitive=True).index])"
   ]
  },
  {
   "cell_type": "code",
   "execution_count": 11,
   "metadata": {},
   "outputs": [],
   "source": [
    "# np.unique([x.split(\"W\")[0] for x in search(BES_Panel,\".*Con\",case_sensitive=True).index])"
   ]
  },
  {
   "cell_type": "code",
   "execution_count": 12,
   "metadata": {},
   "outputs": [],
   "source": [
    "# StrongLeader W10W11W14W15W16\n",
    "# like<Leader>/<party>\n",
    "# ptv<party>\n",
    "# partyId(/Squeeze/Strength),generalElectionVote,bestOnMII,leftRight\n",
    "# <party>United\n",
    "# EUIntegration<party>\n",
    "\n",
    "# 14\n",
    "# britishness,scottishness,welshness,\n",
    "# econGenRetro, econPersonalRetro\n",
    "# turnoutUKGeneral, education\n",
    "\n",
    "# 13\n",
    "# partyContact\n",
    "# mii_cat, LRAL_mii_cat, small_mii_cat\n",
    "# changeEconomy, goodTimePurchase, polAttention, satDem(Eng/Scot/UK/Wales), riskPoverty, riskUnemployment\n",
    "# scotReferendumIntention\n",
    "# lr<party>, redist<party>\n",
    "\n",
    "# 12\n",
    "# change(Education/NHS)\n",
    "# efficacy(NotUnderstand/PolCare/TooMuchEffort/Understand)\n",
    "# immig(Cultural/Economy)\n",
    "# trustMPs\n",
    "\n",
    "# 11\n",
    "# pid<features>\n",
    "# change(CostLive/Crime/Immig)\n",
    "# approve(ScotGovt/UKGovt/WelshGovt)\n"
   ]
  },
  {
   "cell_type": "code",
   "execution_count": 13,
   "metadata": {},
   "outputs": [
    {
     "data": {
      "text/plain": [
       "endtimeW1    2014-02-19 16:22:34.488\n",
       "endtimeW2    2014-05-22 21:22:21.698\n",
       "endtimeW3    1970-01-01 00:00:00.000\n",
       "endtimeW4    2015-03-04 18:26:51.695\n",
       "endtimeW5    2015-03-30 08:53:36.930\n",
       "endtimeW6    2015-05-08 15:12:46.173\n",
       "endtimeW7    2016-04-14 10:32:41.766\n",
       "endtimeW8    2016-05-06 14:19:31.887\n",
       "endtimeW9    2016-06-24 16:31:52.996\n",
       "endtimeW10   2016-11-24 09:14:31.890\n",
       "endtimeW11   2017-04-24 07:40:07.341\n",
       "endtimeW12   2017-05-05 09:34:36.706\n",
       "endtimeW13   2017-06-09 16:02:51.901\n",
       "endtimeW14   2018-05-04 11:11:49.794\n",
       "endtimeW15   2019-03-11 15:23:47.838\n",
       "endtimeW16   2019-05-24 09:01:28.620\n",
       "dtype: datetime64[ns]"
      ]
     },
     "execution_count": 13,
     "metadata": {},
     "output_type": "execute_result"
    }
   ],
   "source": [
    "BES_Panel[search(BES_Panel,\"endtime\").index].min()"
   ]
  },
  {
   "cell_type": "code",
   "execution_count": 14,
   "metadata": {},
   "outputs": [],
   "source": [
    "def time_series(var_name,title,subtract_var=False,retain_var=True,specific_dates=True,use_midpoints=True,col_name=\"party\",dk_nums=[11,-1],dk_str=\"Don't know\",max_y_size=10.0,min_waves_included=3):\n",
    "\n",
    "    df=pd.DataFrame()\n",
    "    df2 =pd.DataFrame()\n",
    "    df_wts =pd.DataFrame()\n",
    "    df_dates = pd.DataFrame()\n",
    "    \n",
    "    if subtract_var:\n",
    "        title=title+\"\\n(where respondents place parties relative to their own preference set at 0.5)\"\n",
    "\n",
    "\n",
    "    wave_list = []\n",
    "    redist_vars = pd.Series([re.match(var_name+\"([a-zA-Z]*)($|W\\d+)\",x).groups()[0] for x in BES_Panel.columns if re.match(\"(\"+var_name+\"[a-zA-Z]*)($|W\\d+)\",x)]).value_counts()\n",
    "    redist_vars = redist_vars[redist_vars>=min_waves_included].index\n",
    "\n",
    "    for subj in redist_vars:\n",
    "        for wave in [\"W\"+str(x) for x in range(1,17)]:\n",
    "            if var_name+subj+wave not in BES_Panel.columns:\n",
    "                continue\n",
    "            else:\n",
    "                wave_list.append(wave)\n",
    "            df[var_name+\"num_\"+subj+\"_\"+wave] = BES_Panel[var_name+subj+wave].cat.codes.replace(dk_nums,[np.nan for x in range(0,len(dk_nums))])/max_y_size\n",
    "            df2[var_name+\"dk_\"+subj+\"_\"+wave] = BES_Panel[var_name+subj+wave]==dk_str\n",
    "            df2[var_name+\"dk_\"+subj+\"_\"+wave][BES_Panel[var_name+subj+wave].isnull()] = np.nan\n",
    "    for wave in pd.unique(wave_list):        \n",
    "        df_wts[\"wt_\"+wave] = BES_Panel[wts_for_wave[wave]]\n",
    "        if use_midpoints:\n",
    "            df_dates[\"dt_\"+wave] = BES_Panel[\"midpoint\"+wave]\n",
    "        else:\n",
    "            df_dates[\"dt_\"+wave] = (BES_Panel[\"starttime\"+wave]+(BES_Panel[\"endtime\"+wave]-BES_Panel[\"starttime\"+wave])/2).apply(lambda x:x.date())\n",
    "\n",
    "    df_wts = df_wts[df.notnull().any(axis=1)]\n",
    "    df = df[df.notnull().any(axis=1)]\n",
    "\n",
    "    df2.columns = df2.columns.str.split('_', expand=True)\n",
    "    df2 = df2.stack(dropna=False)\\\n",
    "                .reset_index()\\\n",
    "                .rename(columns={'level_1':\"wave\"})\\\n",
    "                .rename(columns={'level_0':\"id\"}) \n",
    "\n",
    "    df_wts.columns = df_wts.columns.str.split('_', expand=True)\n",
    "    df_wts = df_wts.stack(dropna=False)\\\n",
    "                .reset_index()\\\n",
    "                .rename(columns={'level_1':\"wave\"})\\\n",
    "                .rename(columns={'level_0':\"id\"}) \n",
    "\n",
    "    df_dates.columns = df_dates.columns.str.split('_', expand=True)\n",
    "    df_dates = df_dates.stack(dropna=False)\\\n",
    "                .reset_index()\\\n",
    "                .rename(columns={'level_1':\"wave\"})\\\n",
    "                .rename(columns={'level_0':\"id\"}) \n",
    "\n",
    "    df.columns = df.columns.str.split('_', expand=True)\n",
    "    df = df.stack(dropna=False)\\\n",
    "            .reset_index()\\\n",
    "            .rename(columns={'level_1':\"wave\"})\\\n",
    "            .rename(columns={'level_0':\"id\"}) \n",
    "\n",
    "    df[\"wt\"] = df_wts[\"wt\"]\n",
    "\n",
    "    df = df.loc[ df[[x for x in df.columns if var_name+\"num\" in x]].notnull().any(axis=1) ]\n",
    "    df.loc[:,\"wt\"] = df.loc[:,\"wt\"].fillna(1.0).values\n",
    "    temp_ind_name = \"temp_index\"\n",
    "\n",
    "    if specific_dates:\n",
    "        df[\"wave\"] = df[[\"id\",\"wave\"]].merge(right=df_dates,\n",
    "                 how=\"left\",left_on=[\"id\",\"wave\"],right_on=[\"id\",\"wave\"])[\"dt\"].values\n",
    "\n",
    "    df[temp_ind_name] = list(zip(df[\"wave\"],df[\"wt\"]))\n",
    "    df = df.set_index(temp_ind_name).drop([\"id\",\"wave\",\"wt\"],axis=1)\n",
    "\n",
    "    df2[\"wt\"] = df_wts[\"wt\"]\n",
    "\n",
    "    if subtract_var:\n",
    "        if retain_var:\n",
    "            focal_vars = [x for x in df.columns if (var_name+\"num\" in x) and (subtract_var not in x)]\n",
    "            df[focal_vars] = df[focal_vars].apply(lambda x: x-df[(var_name+\"num\",  subtract_var)])+0.5\n",
    "        else:\n",
    "            focal_vars = [x for x in df.columns if var_name+\"num\" in x]\n",
    "            df[focal_vars] = df[focal_vars].apply(lambda x: x-df[(var_name+\"num\",  subtract_var)])+0.5\n",
    "            df.drop((var_name+\"num\",  subtract_var),axis=1,inplace=True)\n",
    "\n",
    "\n",
    "    df2 = df2.loc[ df2[[x for x in df2.columns if var_name+\"dk\" in x]].notnull().any(axis=1) ]\n",
    "    df2.loc[:,\"wt\"] = df2.loc[:,\"wt\"].fillna(1.0).values\n",
    "    if specific_dates:\n",
    "        df2[\"wave\"] = df2[[\"id\",\"wave\"]].merge(right=df_dates,\n",
    "                 how=\"left\",left_on=[\"id\",\"wave\"],right_on=[\"id\",\"wave\"])[\"dt\"].values\n",
    "\n",
    "    temp_ind_name = \"temp_index\"\n",
    "    df2[temp_ind_name] = list(zip(df2[\"wave\"],df2[\"wt\"]))\n",
    "    df2 = df2.set_index(temp_ind_name).drop([\"id\",\"wave\",\"wt\"],axis=1)\n",
    "\n",
    "\n",
    "    flat_df_num = df.stack().reset_index().rename(columns={'level_1':col_name})\n",
    "\n",
    "    if specific_dates:\n",
    "        flat_df_num[\"wave\"] = flat_df_num[temp_ind_name].apply(lambda x:x[0])    \n",
    "    else:\n",
    "        flat_df_num[\"wave\"] = flat_df_num[temp_ind_name].apply(lambda x:int(x[0].split(\"W\")[1]))\n",
    "\n",
    "\n",
    "    flat_df_num[\"wt\"] = flat_df_num[temp_ind_name].apply(lambda x:x[1])\n",
    "    flat_df_num.drop(temp_ind_name,axis=1,inplace=True)\n",
    "    flat_df_num[col_name] = flat_df_num[col_name].astype('category')\n",
    "\n",
    "    flat_df_num[var_name+\"_wts\"] = list(zip(flat_df_num[var_name+\"num\"],flat_df_num[\"wt\"]))\n",
    "\n",
    "    flat_df_dk = df2.stack().reset_index().rename(columns={'level_1':col_name,0:\"dk\"})\n",
    "    if specific_dates:\n",
    "        flat_df_dk[\"wave\"] = flat_df_dk[temp_ind_name].apply(lambda x:x[0])    \n",
    "    else:\n",
    "        flat_df_dk[\"wave\"] = flat_df_dk[temp_ind_name].apply(lambda x:int(x[0].split(\"W\")[1]))\n",
    "\n",
    "    flat_df_dk[\"wt\"] = flat_df_dk[temp_ind_name].apply(lambda x:x[1])\n",
    "    flat_df_dk.drop(temp_ind_name,axis=1,inplace=True)\n",
    "    flat_df_dk[var_name+\"dk\"] = flat_df_dk[var_name+\"dk\"].astype('int')\n",
    "    flat_df_dk = flat_df_dk.groupby([\"wave\",col_name]).apply(lambda x: (x[\"wt\"]*x[var_name+\"dk\"]).sum()/x[\"wt\"].sum() ).reset_index().rename(columns={0:\"dk\"})\n",
    "\n",
    "    flat_df_num = flat_df_num.merge(right=flat_df_dk[[col_name,\"wave\",\"dk\"]],how='left',left_on=[col_name,\"wave\"],right_on=[col_name,\"wave\"])\n",
    "    if not specific_dates:\n",
    "        flat_df_num[\"wave\"] = flat_df_num[\"wave\"].apply(lambda x: wave_to_date[x])\n",
    "        flat_df_num[\"wave\"] = pd.to_datetime(flat_df_num[\"wave\"] , format=\"%b-%y\")\n",
    "\n",
    "    return flat_df_num"
   ]
  },
  {
   "cell_type": "code",
   "execution_count": 15,
   "metadata": {},
   "outputs": [],
   "source": [
    "# flat_df_num = time_series(var_name, title, min_waves_included=3)"
   ]
  },
  {
   "cell_type": "code",
   "execution_count": 16,
   "metadata": {},
   "outputs": [],
   "source": [
    "# BES_Panel[\"endtime\"+wave]+\n",
    "# ((BES_Panel[\"endtime\"+wave]-BES_Panel[\"starttime\"+wave])/2)"
   ]
  },
  {
   "cell_type": "code",
   "execution_count": null,
   "metadata": {},
   "outputs": [],
   "source": []
  },
  {
   "cell_type": "code",
   "execution_count": 17,
   "metadata": {},
   "outputs": [],
   "source": [
    "# BES_Panel[\"midpoint\"+wave]"
   ]
  },
  {
   "cell_type": "code",
   "execution_count": null,
   "metadata": {},
   "outputs": [],
   "source": []
  },
  {
   "cell_type": "code",
   "execution_count": 18,
   "metadata": {},
   "outputs": [],
   "source": [
    "\n",
    "\n",
    "# fix order of redist cats\n",
    "redist_cats = BES_Panel[\"redistConW16\"].cat.categories\n",
    "\n",
    "BES_Panel[match(BES_Panel,\"redist\").index] = \\\n",
    "    BES_Panel[match(BES_Panel,\"redist\").index]\\\n",
    "        .apply(lambda x: x.cat.reorder_categories(redist_cats))\n",
    "\n",
    "        \n",
    "# fix endtimeW3 bug!\n",
    "BES_Panel.loc[BES_Panel[\"endtimeW3\"]=='1970-01-01 00:00:00',\"endtimeW3\"]=BES_Panel[BES_Panel[\"endtimeW3\"]=='1970-01-01 00:00:00'][\"starttimeW3\"].values\n",
    "\n",
    "# create correct midpoints (technically we should weight these!)\n",
    "n = 1\n",
    "for wave_no in range(1,17):\n",
    "    wave = \"W\"+str(wave_no)\n",
    "#     print(wave)\n",
    "\n",
    "    BES_Panel[\"midpoint\"+wave] = pd.qcut(BES_Panel[\"endtime\"+wave]+((BES_Panel[\"endtime\"+wave]-BES_Panel[\"starttime\"+wave])/2),n)\n",
    "    date_cats_dict = {BES_Panel[\"midpoint\"+wave].cat.categories[x]:(BES_Panel[\"midpoint\"+wave].cat.categories[x].left+ (BES_Panel[\"midpoint\"+wave].cat.categories[x].right - BES_Panel[\"midpoint\"+wave].cat.categories[x].left)/2).strftime(\"%Y-%m-%d\") for x in range(n)}\n",
    "    BES_Panel[\"midpoint\"+wave] = pd.to_datetime(BES_Panel[\"midpoint\"+wave].replace(date_cats_dict))    "
   ]
  },
  {
   "cell_type": "code",
   "execution_count": null,
   "metadata": {},
   "outputs": [],
   "source": [
    "\n",
    "\n"
   ]
  },
  {
   "cell_type": "code",
   "execution_count": 19,
   "metadata": {},
   "outputs": [],
   "source": [
    "BES_Panel.rename(columns={x:x.replace(\"leftRight\",\"lrSelf\") for x in BES_Panel[match(BES_Panel, \"leftRight\").index]},inplace=True)\n",
    "lr_cats = ['Left', '1', '2', '3', '4', '5', '6', '7', '8', '9', \"Don't know\", 'Right']\n",
    "BES_Panel[match(BES_Panel,\"lr\"+\"([a-zA-Z]*)($|W\\d+)\").index] =\\\n",
    "    BES_Panel[match(BES_Panel,\"lr\"+\"([a-zA-Z]*)($|W\\d+)\").index]\\\n",
    "        .apply(lambda x: x.cat.reorder_categories(lr_cats))"
   ]
  },
  {
   "cell_type": "code",
   "execution_count": null,
   "metadata": {},
   "outputs": [],
   "source": []
  },
  {
   "cell_type": "code",
   "execution_count": 20,
   "metadata": {},
   "outputs": [
    {
     "data": {
      "text/html": [
       "<div>\n",
       "<style scoped>\n",
       "    .dataframe tbody tr th:only-of-type {\n",
       "        vertical-align: middle;\n",
       "    }\n",
       "\n",
       "    .dataframe tbody tr th {\n",
       "        vertical-align: top;\n",
       "    }\n",
       "\n",
       "    .dataframe thead th {\n",
       "        text-align: right;\n",
       "    }\n",
       "</style>\n",
       "<table border=\"1\" class=\"dataframe\">\n",
       "  <thead>\n",
       "    <tr style=\"text-align: right;\">\n",
       "      <th></th>\n",
       "      <th>party</th>\n",
       "      <th>lrnum</th>\n",
       "      <th>wave</th>\n",
       "      <th>wt</th>\n",
       "      <th>lr_wts</th>\n",
       "      <th>dk</th>\n",
       "    </tr>\n",
       "  </thead>\n",
       "  <tbody>\n",
       "    <tr>\n",
       "      <th>0</th>\n",
       "      <td>Self</td>\n",
       "      <td>0.8</td>\n",
       "      <td>2014-03-04</td>\n",
       "      <td>0.619887</td>\n",
       "      <td>(0.8, 0.6198869798011676)</td>\n",
       "      <td>0.182370</td>\n",
       "    </tr>\n",
       "    <tr>\n",
       "      <th>1</th>\n",
       "      <td>Con</td>\n",
       "      <td>0.0</td>\n",
       "      <td>2016-12-06</td>\n",
       "      <td>1.199635</td>\n",
       "      <td>(0.0, 1.199634629896476)</td>\n",
       "      <td>0.258679</td>\n",
       "    </tr>\n",
       "    <tr>\n",
       "      <th>2</th>\n",
       "      <td>LD</td>\n",
       "      <td>0.0</td>\n",
       "      <td>2016-12-06</td>\n",
       "      <td>1.199635</td>\n",
       "      <td>(0.0, 1.199634629896476)</td>\n",
       "      <td>0.298077</td>\n",
       "    </tr>\n",
       "    <tr>\n",
       "      <th>3</th>\n",
       "      <td>Lab</td>\n",
       "      <td>0.0</td>\n",
       "      <td>2016-12-06</td>\n",
       "      <td>1.199635</td>\n",
       "      <td>(0.0, 1.199634629896476)</td>\n",
       "      <td>0.260579</td>\n",
       "    </tr>\n",
       "    <tr>\n",
       "      <th>4</th>\n",
       "      <td>Self</td>\n",
       "      <td>0.7</td>\n",
       "      <td>2016-12-06</td>\n",
       "      <td>1.199635</td>\n",
       "      <td>(0.7, 1.199634629896476)</td>\n",
       "      <td>0.223570</td>\n",
       "    </tr>\n",
       "    <tr>\n",
       "      <th>...</th>\n",
       "      <td>...</td>\n",
       "      <td>...</td>\n",
       "      <td>...</td>\n",
       "      <td>...</td>\n",
       "      <td>...</td>\n",
       "      <td>...</td>\n",
       "    </tr>\n",
       "    <tr>\n",
       "      <th>2197693</th>\n",
       "      <td>LD</td>\n",
       "      <td>1.0</td>\n",
       "      <td>2019-06-10</td>\n",
       "      <td>1.066548</td>\n",
       "      <td>(1.0, 1.066548006832155)</td>\n",
       "      <td>0.281305</td>\n",
       "    </tr>\n",
       "    <tr>\n",
       "      <th>2197694</th>\n",
       "      <td>Lab</td>\n",
       "      <td>1.0</td>\n",
       "      <td>2019-06-10</td>\n",
       "      <td>1.066548</td>\n",
       "      <td>(1.0, 1.066548006832155)</td>\n",
       "      <td>0.249011</td>\n",
       "    </tr>\n",
       "    <tr>\n",
       "      <th>2197695</th>\n",
       "      <td>Self</td>\n",
       "      <td>1.0</td>\n",
       "      <td>2019-06-10</td>\n",
       "      <td>1.066548</td>\n",
       "      <td>(1.0, 1.066548006832155)</td>\n",
       "      <td>0.223817</td>\n",
       "    </tr>\n",
       "    <tr>\n",
       "      <th>2197696</th>\n",
       "      <td>UKIP</td>\n",
       "      <td>1.0</td>\n",
       "      <td>2019-06-10</td>\n",
       "      <td>1.066548</td>\n",
       "      <td>(1.0, 1.066548006832155)</td>\n",
       "      <td>0.290867</td>\n",
       "    </tr>\n",
       "    <tr>\n",
       "      <th>2197697</th>\n",
       "      <td>greens</td>\n",
       "      <td>1.0</td>\n",
       "      <td>2019-06-10</td>\n",
       "      <td>1.066548</td>\n",
       "      <td>(1.0, 1.066548006832155)</td>\n",
       "      <td>0.325936</td>\n",
       "    </tr>\n",
       "  </tbody>\n",
       "</table>\n",
       "<p>2197698 rows × 6 columns</p>\n",
       "</div>"
      ],
      "text/plain": [
       "          party  lrnum       wave        wt                     lr_wts  \\\n",
       "0          Self    0.8 2014-03-04  0.619887  (0.8, 0.6198869798011676)   \n",
       "1           Con    0.0 2016-12-06  1.199635   (0.0, 1.199634629896476)   \n",
       "2            LD    0.0 2016-12-06  1.199635   (0.0, 1.199634629896476)   \n",
       "3           Lab    0.0 2016-12-06  1.199635   (0.0, 1.199634629896476)   \n",
       "4          Self    0.7 2016-12-06  1.199635   (0.7, 1.199634629896476)   \n",
       "...         ...    ...        ...       ...                        ...   \n",
       "2197693      LD    1.0 2019-06-10  1.066548   (1.0, 1.066548006832155)   \n",
       "2197694     Lab    1.0 2019-06-10  1.066548   (1.0, 1.066548006832155)   \n",
       "2197695    Self    1.0 2019-06-10  1.066548   (1.0, 1.066548006832155)   \n",
       "2197696    UKIP    1.0 2019-06-10  1.066548   (1.0, 1.066548006832155)   \n",
       "2197697  greens    1.0 2019-06-10  1.066548   (1.0, 1.066548006832155)   \n",
       "\n",
       "               dk  \n",
       "0        0.182370  \n",
       "1        0.258679  \n",
       "2        0.298077  \n",
       "3        0.260579  \n",
       "4        0.223570  \n",
       "...           ...  \n",
       "2197693  0.281305  \n",
       "2197694  0.249011  \n",
       "2197695  0.223817  \n",
       "2197696  0.290867  \n",
       "2197697  0.325936  \n",
       "\n",
       "[2197698 rows x 6 columns]"
      ]
     },
     "execution_count": 20,
     "metadata": {},
     "output_type": "execute_result"
    }
   ],
   "source": [
    "# %%time\n",
    "\n",
    "\n",
    "\n",
    "col_name = \"party\"\n",
    "# var_name = \"redist\"\n",
    "\n",
    "dk_nums = [11,-1]\n",
    "dk_str = \"Don't know\"\n",
    "max_y_size = 10.0\n",
    "# title= \"Government should try to make incomes equal(0/10)\\nGovernment should be less concerned about equal incomes(10/10)\"\n",
    "title= \"In politics people sometimes talk of left and right.\\nWhere would you place yourself/this party on the following scale?\\nLeft(0)-Right(10)\"\n",
    "min_waves_included = 3\n",
    "\n",
    "var_name = \"lr\"\n",
    "title= \"In politics people sometimes talk of left and right.\\nWhere would you place yourself/this party on the following scale?\\nLeft(0)-Right(10)\"\n",
    "time_series(var_name,title,col_name=\"party\",dk_nums=[11,-1],dk_str=\"Don't know\",max_y_size=10.0,min_waves_included=3)\n"
   ]
  },
  {
   "cell_type": "code",
   "execution_count": 21,
   "metadata": {},
   "outputs": [
    {
     "ename": "NameError",
     "evalue": "name 'flat_df_num' is not defined",
     "output_type": "error",
     "traceback": [
      "\u001b[1;31m---------------------------------------------------------------------------\u001b[0m",
      "\u001b[1;31mNameError\u001b[0m                                 Traceback (most recent call last)",
      "\u001b[1;32m<ipython-input-21-e67dfc3330a4>\u001b[0m in \u001b[0;36m<module>\u001b[1;34m\u001b[0m\n\u001b[0;32m      1\u001b[0m \u001b[0mget_ipython\u001b[0m\u001b[1;33m(\u001b[0m\u001b[1;33m)\u001b[0m\u001b[1;33m.\u001b[0m\u001b[0mrun_line_magic\u001b[0m\u001b[1;33m(\u001b[0m\u001b[1;34m'config'\u001b[0m\u001b[1;33m,\u001b[0m \u001b[1;34m'InlineBackend.figure_format = \"png\"'\u001b[0m\u001b[1;33m)\u001b[0m\u001b[1;33m\u001b[0m\u001b[1;33m\u001b[0m\u001b[0m\n\u001b[0;32m      2\u001b[0m \u001b[1;33m\u001b[0m\u001b[0m\n\u001b[1;32m----> 3\u001b[1;33m \u001b[0mg\u001b[0m \u001b[1;33m=\u001b[0m \u001b[0msns\u001b[0m\u001b[1;33m.\u001b[0m\u001b[0mFacetGrid\u001b[0m\u001b[1;33m(\u001b[0m\u001b[0mdata\u001b[0m\u001b[1;33m=\u001b[0m\u001b[0mflat_df_num\u001b[0m\u001b[1;33m,\u001b[0m \u001b[0mcol\u001b[0m\u001b[1;33m=\u001b[0m\u001b[0mcol_name\u001b[0m\u001b[1;33m,\u001b[0m \u001b[0mcol_wrap\u001b[0m\u001b[1;33m=\u001b[0m\u001b[1;36m4\u001b[0m\u001b[1;33m,\u001b[0m \u001b[0mylim\u001b[0m\u001b[1;33m=\u001b[0m\u001b[1;33m(\u001b[0m\u001b[1;36m0.0\u001b[0m\u001b[1;33m,\u001b[0m \u001b[1;36m1.0\u001b[0m\u001b[1;33m)\u001b[0m\u001b[1;33m,\u001b[0m \u001b[0mlegend_out\u001b[0m\u001b[1;33m=\u001b[0m\u001b[1;32mFalse\u001b[0m\u001b[1;33m)\u001b[0m\u001b[1;33m;\u001b[0m\u001b[1;33m\u001b[0m\u001b[1;33m\u001b[0m\u001b[0m\n\u001b[0m\u001b[0;32m      4\u001b[0m \u001b[0mg\u001b[0m\u001b[1;33m.\u001b[0m\u001b[0mmap\u001b[0m\u001b[1;33m(\u001b[0m\u001b[0msns\u001b[0m\u001b[1;33m.\u001b[0m\u001b[0mlineplot\u001b[0m\u001b[1;33m,\u001b[0m \u001b[1;34m\"wave\"\u001b[0m\u001b[1;33m,\u001b[0m\u001b[0mvar_name\u001b[0m\u001b[1;33m+\u001b[0m\u001b[1;34m\"_wts\"\u001b[0m\u001b[1;33m,\u001b[0m \u001b[0mestimator\u001b[0m\u001b[1;33m=\u001b[0m\u001b[0mweighted_mean\u001b[0m\u001b[1;33m,\u001b[0m\u001b[0mci\u001b[0m\u001b[1;33m=\u001b[0m\u001b[1;32mNone\u001b[0m\u001b[1;33m,\u001b[0m \u001b[0mlabel\u001b[0m\u001b[1;33m=\u001b[0m\u001b[1;34m\"Mean answer\"\u001b[0m\u001b[1;33m,\u001b[0m\u001b[1;33m)\u001b[0m\u001b[1;33m;\u001b[0m\u001b[1;33m\u001b[0m\u001b[1;33m\u001b[0m\u001b[0m\n\u001b[0;32m      5\u001b[0m \u001b[0mg\u001b[0m\u001b[1;33m.\u001b[0m\u001b[0mmap\u001b[0m\u001b[1;33m(\u001b[0m\u001b[0msns\u001b[0m\u001b[1;33m.\u001b[0m\u001b[0mlineplot\u001b[0m\u001b[1;33m,\u001b[0m \u001b[1;34m\"wave\"\u001b[0m\u001b[1;33m,\u001b[0m\u001b[1;34m\"dk\"\u001b[0m\u001b[1;33m,\u001b[0m \u001b[0mcolor\u001b[0m\u001b[1;33m=\u001b[0m\u001b[1;34m'r'\u001b[0m\u001b[1;33m,\u001b[0m \u001b[0mci\u001b[0m\u001b[1;33m=\u001b[0m\u001b[1;32mNone\u001b[0m\u001b[1;33m,\u001b[0m \u001b[0mlabel\u001b[0m\u001b[1;33m=\u001b[0m\u001b[1;34m\"DK fraction\"\u001b[0m\u001b[1;33m,\u001b[0m\u001b[1;33m)\u001b[0m\u001b[1;33m;\u001b[0m\u001b[1;33m\u001b[0m\u001b[1;33m\u001b[0m\u001b[0m\n",
      "\u001b[1;31mNameError\u001b[0m: name 'flat_df_num' is not defined"
     ]
    }
   ],
   "source": [
    "%config InlineBackend.figure_format = \"png\"\n",
    "\n",
    "g = sns.FacetGrid(data=flat_df_num, col=col_name, col_wrap=4, ylim=(0.0, 1.0), legend_out=False);\n",
    "g.map(sns.lineplot, \"wave\",var_name+\"_wts\", estimator=weighted_mean,ci=None, label=\"Mean answer\",);\n",
    "g.map(sns.lineplot, \"wave\",\"dk\", color='r', ci=None, label=\"DK fraction\",);\n",
    "g.map(plt.axvline, x=pd.to_datetime(\"7 May 2015\"), ls='--', c='red',linewidth=1, alpha=.5)# 2015GE\n",
    "g.map(plt.axvline, x=pd.to_datetime(\"23 June 2016\"), ls='--', c='blue',linewidth=1, alpha=.5)# 2016EUREF\n",
    "g.map(plt.axvline, x=pd.to_datetime(\"8 June 2017\"), ls='--', c='red',linewidth=1, alpha=.5)# 2017GE\n",
    "\n",
    "g.add_legend().set_ylabels(\"\").set_titles(col_template=\"{col_name}\")\n",
    "g.fig.suptitle(title, y=1.0+0.03*len(title.split(\"\\n\")));\n",
    "\n",
    "treatment = \"timeseries\"\n",
    "output_subfolder = create_subdir(BES_output_folder, treatment)\n",
    "g.savefig(output_subfolder +var_name + \".png\",       bbox_inches='tight')\n"
   ]
  },
  {
   "cell_type": "code",
   "execution_count": null,
   "metadata": {},
   "outputs": [],
   "source": [
    "%config InlineBackend.figure_format = \"png\"\n",
    "\n",
    "g = sns.FacetGrid(data=flat_df_num, col=col_name, col_wrap=4, ylim=(0.0, 1.0), legend_out=False);\n",
    "g.map(sns.lineplot, \"wave\",var_name+\"_wts\", estimator=weighted_mean,ci=None, label=\"Mean answer\",);\n",
    "g.map(sns.lineplot, \"wave\",\"dk\", color='r', ci=None, label=\"DK fraction\",);\n",
    "g.map(plt.axvline, x=pd.to_datetime(\"7 May 2015\"), ls='--', c='red',linewidth=1, alpha=.5)# 2015GE\n",
    "g.map(plt.axvline, x=pd.to_datetime(\"23 June 2016\"), ls='--', c='blue',linewidth=1, alpha=.5)# 2016EUREF\n",
    "g.map(plt.axvline, x=pd.to_datetime(\"8 June 2017\"), ls='--', c='red',linewidth=1, alpha=.5)# 2017GE\n",
    "\n",
    "g.add_legend().set_ylabels(\"\").set_titles(col_template=\"{col_name}\")\n",
    "g.fig.suptitle(title, y=1.0+0.03*len(title.split(\"\\n\")));\n",
    "\n",
    "treatment = \"timeseries\"\n",
    "output_subfolder = create_subdir(BES_output_folder, treatment)\n",
    "g.savefig(output_subfolder +var_name + \".png\",       bbox_inches='tight')\n"
   ]
  },
  {
   "cell_type": "code",
   "execution_count": null,
   "metadata": {},
   "outputs": [],
   "source": [
    "flat_df_num"
   ]
  },
  {
   "cell_type": "code",
   "execution_count": 22,
   "metadata": {},
   "outputs": [
    {
     "data": {
      "image/png": "[encoded data removed]",
      "text/plain": [
       "<Figure size 864x648 with 11 Axes>"
      ]
     },
     "metadata": {},
     "output_type": "display_data"
    }
   ],
   "source": [
    "var_name = \"lr\"\n",
    "title= \"In politics people sometimes talk of left and right.\\nWhere would you place yourself/this party on the following scale?\\nLeft(0)-Right(10)\"\n",
    "flat_df_num = time_series(var_name,title,col_name=\"party\",dk_nums=[11,-1],dk_str=\"Don't know\",max_y_size=10.0,min_waves_included=2)\n",
    "\n",
    "\n",
    "g = sns.FacetGrid(data=flat_df_num, col=col_name, col_wrap=4, ylim=(0.0, 1.0), legend_out=False);\n",
    "g.map(sns.lineplot, \"wave\",var_name+\"_wts\", estimator=weighted_mean,ci=None, label=\"Mean answer\",);\n",
    "g.map(sns.lineplot, \"wave\",\"dk\", color='r', ci=None, label=\"DK fraction\",);\n",
    "g.map(plt.axvline, x=pd.to_datetime(\"7 May 2015\"), ls='--', c='red',linewidth=1, alpha=.5)# 2015GE\n",
    "g.map(plt.axvline, x=pd.to_datetime(\"23 June 2016\"), ls='--', c='blue',linewidth=1, alpha=.5)# 2016EUREF\n",
    "g.map(plt.axvline, x=pd.to_datetime(\"8 June 2017\"), ls='--', c='red',linewidth=1, alpha=.5)# 2017GE\n",
    "\n",
    "g.add_legend().set_ylabels(\"\").set_titles(col_template=\"{col_name}\")\n",
    "g.fig.suptitle(title, y=1.0+0.03*len(title.split(\"\\n\")));\n",
    "\n",
    "treatment = \"timeseries\"\n",
    "output_subfolder = create_subdir(BES_output_folder, treatment)\n",
    "g.savefig(output_subfolder +var_name + \".png\",       bbox_inches='tight')\n"
   ]
  },
  {
   "cell_type": "code",
   "execution_count": 25,
   "metadata": {},
   "outputs": [
    {
     "data": {
      "text/plain": [
       "2019-06-10    248563\n",
       "2016-04-28    231690\n",
       "2017-05-23    225319\n",
       "2019-03-26    203730\n",
       "2015-03-22    180012\n",
       "2015-04-22    177165\n",
       "2014-06-14    174181\n",
       "2017-05-01    173005\n",
       "2015-05-20    172919\n",
       "2016-12-06    170706\n",
       "2014-10-14    159891\n",
       "2016-06-01     45723\n",
       "2016-07-01     42065\n",
       "2017-06-19     30332\n",
       "2018-05-16     30230\n",
       "2014-03-04     29531\n",
       "Name: wave, dtype: int64"
      ]
     },
     "execution_count": 25,
     "metadata": {},
     "output_type": "execute_result"
    }
   ],
   "source": [
    "flat_df_num[\"wave\"].value_counts()"
   ]
  },
  {
   "cell_type": "code",
   "execution_count": null,
   "metadata": {},
   "outputs": [],
   "source": [
    "var_name = \"EUIntegration\"\n",
    "\n",
    "fixed_cats = BES_Panel[var_name+\"ConW16\"].cat.categories\n",
    "BES_Panel[match(BES_Panel,var_name+\"([a-zA-Z]*)($|W\\d+)\").index] =\\\n",
    "    BES_Panel[match(BES_Panel,var_name+\"([a-zA-Z]*)($|W\\d+)\").index]\\\n",
    "        .apply(lambda x: x.cat.reorder_categories(fixed_cats))\n",
    "\n",
    "\n",
    "title= \"Some people feel that Britain should do all it can to unite fully with the European Union.\\nOther people feel that Britain should do all it can to protect its independence from the European Union.\\nWhere would you place yourself and the political parties on this scale?\\nUnite fully with the European Union(0)-Protect our independence(10)\"\n",
    "flat_df_num = time_series(var_name,title,col_name=\"party\",dk_nums=[11,-1],dk_str=\"Don't know\",max_y_size=10.0,min_waves_included=2)\n",
    "\n",
    "\n",
    "g = sns.FacetGrid(data=flat_df_num, col=col_name, col_wrap=4, ylim=(0.0, 1.0), legend_out=False);\n",
    "g.map(sns.lineplot, \"wave\",var_name+\"_wts\", estimator=weighted_mean,ci=None, label=\"Mean answer\",);\n",
    "g.map(sns.lineplot, \"wave\",\"dk\", color='r', ci=None, label=\"DK fraction\",);\n",
    "g.map(plt.axvline, x=pd.to_datetime(\"7 May 2015\"), ls='--', c='red',linewidth=1, alpha=.5)# 2015GE\n",
    "g.map(plt.axvline, x=pd.to_datetime(\"23 June 2016\"), ls='--', c='blue',linewidth=1, alpha=.5)# 2016EUREF\n",
    "g.map(plt.axvline, x=pd.to_datetime(\"8 June 2017\"), ls='--', c='red',linewidth=1, alpha=.5)# 2017GE\n",
    "\n",
    "g.add_legend().set_ylabels(\"\").set_titles(col_template=\"{col_name}\")\n",
    "g.fig.suptitle(title, y=1.0+0.03*len(title.split(\"\\n\")));\n",
    "\n",
    "treatment = \"timeseries\"\n",
    "output_subfolder = create_subdir(BES_output_folder, treatment)\n",
    "g.savefig(output_subfolder +var_name + \".png\", bbox_inches='tight')\n"
   ]
  },
  {
   "cell_type": "code",
   "execution_count": null,
   "metadata": {},
   "outputs": [],
   "source": [
    "%%time\n",
    "# var_name = \"EUIntegration\"\n",
    "\n",
    "# fixed_cats = BES_Panel[var_name+\"ConW16\"].cat.categories\n",
    "# BES_Panel[match(BES_Panel,var_name+\"([a-zA-Z]*)($|W\\d+)\").index] =\\\n",
    "#     BES_Panel[match(BES_Panel,var_name+\"([a-zA-Z]*)($|W\\d+)\").index]\\\n",
    "#         .apply(lambda x: x.cat.reorder_categories(fixed_cats))\n",
    "\n",
    "subtract_var = \"Self\"\n",
    "title= \"Some people feel that Britain should do all it can to unite fully with the European Union.\\nOther people feel that Britain should do all it can to protect its independence from the European Union.\\nWhere would you place yourself and the political parties on this scale?\\nUnite fully with the European Union(0)-Protect our independence(10)\"\n",
    "flat_df_num = time_series(var_name,title,subtract_var = subtract_var,col_name=\"party\",dk_nums=[11,-1],dk_str=\"Don't know\",max_y_size=10.0,min_waves_included=2) \n",
    "\n",
    "g = sns.FacetGrid(data=flat_df_num, col=col_name, col_wrap=4, ylim=(0.0, 1.0), legend_out=False);\n",
    "g.map(sns.lineplot, \"wave\",var_name+\"num\", ci=None, label=\"Mean answer\",); #n_boot=100\n",
    "g.map(sns.lineplot, \"wave\",\"dk\", color='r', ci=None, label=\"DK fraction\",);\n",
    "g.map(plt.axvline, x=pd.to_datetime(\"7 May 2015\"), ls='--', c='red',linewidth=1, alpha=.5)# 2015GE\n",
    "g.map(plt.axvline, x=pd.to_datetime(\"23 June 2016\"), ls='--', c='blue',linewidth=1, alpha=.5)# 2016EUREF\n",
    "g.map(plt.axvline, x=pd.to_datetime(\"8 June 2017\"), ls='--', c='red',linewidth=1, alpha=.5)# 2017GE\n",
    "if subtract_var:\n",
    "    g.map(plt.axhline, y=0.5, ls='--', c='green',linewidth=1, alpha=.5)# 2017GE\n",
    "\n",
    "g.add_legend().set_ylabels(\"\").set_titles(col_template=\"{col_name}\")\n",
    "g.fig.suptitle(title, y=1.0+0.03*len(title.split(\"\\n\")));\n",
    "\n",
    "treatment = \"timeseries\"\n",
    "output_subfolder = create_subdir(BES_output_folder, treatment)\n",
    "g.savefig(output_subfolder +var_name + \".png\", bbox_inches='tight')\n"
   ]
  },
  {
   "cell_type": "code",
   "execution_count": null,
   "metadata": {},
   "outputs": [],
   "source": [
    "# %%time\n",
    "\n",
    "# for wave in [\"W\"+str(x) for x in range(1,17)]:\n",
    "    \n",
    "#     BES_Panel[\"genderedlrMen\"+wave] = BES_Panel[\"lrSelf\"+wave].copy()\n",
    "#     BES_Panel.loc[BES_Panel[\"gender\"]==\"Female\",\"genderedlrMen\"+wave] = np.nan\n",
    "#     BES_Panel[\"genderedlrWomen\"+wave] = BES_Panel[\"lrSelf\"+wave].copy()\n",
    "#     BES_Panel.loc[BES_Panel[\"gender\"]==\"Male\",\"genderedlrWomen\"+wave] = np.nan\n",
    "\n",
    "# var_name = \"genderedlr\"\n",
    "\n",
    "# subtract_var = False\n",
    "col_wrap = 2\n",
    "# title = \"In politics people sometimes talk of left and right.\\nWhere would you place yourself/this party on the following scale?\\nLeft(0)-Right(10)\"\n",
    "# flat_df_num = time_series(var_name,title,subtract_var = subtract_var,col_name=\"party\",dk_nums=[11,-1],dk_str=\"Don't know\",max_y_size=10.0,min_waves_included=2) \n",
    "\n",
    "g = sns.FacetGrid(data=flat_df_num, col=col_name, col_wrap=col_wrap, ylim=(0.0, 1.0), legend_out=False, height=6);\n",
    "g.map(sns.lineplot, \"wave\",var_name+\"num\", n_boot=100, label=\"Mean answer\",); #n_boot=100\n",
    "g.map(sns.lineplot, \"wave\",\"dk\", color='r', ci=None, label=\"DK fraction\",);\n",
    "g.map(plt.axvline, x=pd.to_datetime(\"7 May 2015\"), ls='--', c='red',linewidth=1, alpha=.5)# 2015GE\n",
    "g.map(plt.axvline, x=pd.to_datetime(\"23 June 2016\"), ls='--', c='blue',linewidth=1, alpha=.5)# 2016EUREF\n",
    "g.map(plt.axvline, x=pd.to_datetime(\"8 June 2017\"), ls='--', c='red',linewidth=1, alpha=.5)# 2017GE\n",
    "if subtract_var:\n",
    "    g.map(plt.axhline, y=0.5, ls='--', c='green',linewidth=1, alpha=.5)# 2017GE\n",
    "\n",
    "g.add_legend().set_ylabels(\"\").set_titles(col_template=\"{col_name}\")\n",
    "g.fig.suptitle(title, y=1.0+0.03*len(title.split(\"\\n\")));\n",
    "\n",
    "treatment = \"timeseries\"\n",
    "output_subfolder = create_subdir(BES_output_folder, treatment)\n",
    "g.savefig(output_subfolder +var_name + \".png\", bbox_inches='tight')\n"
   ]
  },
  {
   "cell_type": "code",
   "execution_count": null,
   "metadata": {},
   "outputs": [],
   "source": []
  },
  {
   "cell_type": "code",
   "execution_count": null,
   "metadata": {},
   "outputs": [],
   "source": []
  },
  {
   "cell_type": "code",
   "execution_count": null,
   "metadata": {},
   "outputs": [],
   "source": [
    "match(BES_Panel,\"lrSelf(Men|Women)\"+\"([a-zA-Z]*)($|W\\d+)\")"
   ]
  },
  {
   "cell_type": "code",
   "execution_count": null,
   "metadata": {},
   "outputs": [],
   "source": [
    "var_name = \"EUIntegration\"\n",
    "np.unique([x.split(\"W\")[0] for x in match(BES_Panel,var_name+\"([a-zA-Z]*)($|W\\d+)\",case_sensitive=True).index])"
   ]
  },
  {
   "cell_type": "code",
   "execution_count": null,
   "metadata": {},
   "outputs": [],
   "source": [
    "BES_Panel[\"eesEUIntegrationConW1\"]"
   ]
  },
  {
   "cell_type": "code",
   "execution_count": null,
   "metadata": {},
   "outputs": [],
   "source": [
    "BES_Panel[\"EUIntegrationConW9\"]"
   ]
  },
  {
   "cell_type": "code",
   "execution_count": null,
   "metadata": {},
   "outputs": [],
   "source": []
  },
  {
   "cell_type": "code",
   "execution_count": null,
   "metadata": {},
   "outputs": [],
   "source": []
  },
  {
   "cell_type": "code",
   "execution_count": null,
   "metadata": {},
   "outputs": [],
   "source": [
    "%config InlineBackend.figure_format = \"png\"\n",
    "# %%time\n",
    "# plt.rcParams[\"axes.grid\"] = True\n",
    "title= \"Government should try to make incomes equal(0/10)\\nGovernment should be less concerned about equal incomes(10/10)\"\n",
    "\n",
    "g = sns.FacetGrid(data=flat_df_num, col=col_name, col_wrap=4, ylim=(0.0, 1.0), legend_out=False);\n",
    "g.map(sns.lineplot, \"wave\",\"dk\", color='r', ci=None, label=\"DK fraction\",);\n",
    "g.map(sns.lineplot, \"wave\",var_name+\"_wts\", estimator=weighted_mean,ci=None, label=\"Mean answer\",);\n",
    "\n",
    "g.add_legend().set_ylabels(\"\").set_titles(col_template=\"{col_name}\")\n",
    "g.fig.suptitle(title, y=1.05);"
   ]
  },
  {
   "cell_type": "code",
   "execution_count": null,
   "metadata": {},
   "outputs": [],
   "source": [
    "%config InlineBackend.figure_format = \"png\"\n",
    "# %%time\n",
    "# plt.rcParams[\"axes.grid\"] = True\n",
    "title= \"Government should try to make incomes equal(0/10)\\nGovernment should be less concerned about equal incomes(10/10)\"\n",
    "\n",
    "from datetime import datetime\n",
    "flat_df_num[\"wave\"] = flat_df_num[\"wave\"].apply(lambda x: datetime.timestamp(x))\n",
    "\n",
    "g = sns.FacetGrid(data=flat_df_num, col=col_name, col_wrap=4, ylim=(0.0, 1.0), legend_out=False);\n",
    "g.map(sns.regplot, \"wave\",\"dk\", color='r', ci=None, label=\"DK fraction\",);\n",
    "g.map(sns.regplot, \"wave\",var_name+\"num\", label=\"Mean answer\",);\n",
    "# estimator=weighted_mean,ci=None,\n",
    "g.add_legend().set_ylabels(\"\").set_titles(col_template=\"{col_name}\")\n",
    "g.fig.suptitle(title, y=1.05);"
   ]
  },
  {
   "cell_type": "code",
   "execution_count": null,
   "metadata": {},
   "outputs": [],
   "source": []
  },
  {
   "cell_type": "code",
   "execution_count": null,
   "metadata": {},
   "outputs": [],
   "source": [
    "# wave_to_date = BES_file_manifest[BES_file_manifest[\"Only_or_Combined\"]==\"Only\"][[\"Wave No\",\"Date_Start\"]].set_index(\"Wave No\")[\"Date_Start\"]\n",
    "# wave_to_date\n",
    "# pd.to_datetime(wave_to_date, format=\"%b-%y\")"
   ]
  },
  {
   "cell_type": "code",
   "execution_count": null,
   "metadata": {},
   "outputs": [],
   "source": [
    "# BES_Panel[\"redistConW16\"].value_counts()/BES_Panel[\"redistConW16\"].value_counts().sum()"
   ]
  },
  {
   "cell_type": "code",
   "execution_count": null,
   "metadata": {},
   "outputs": [],
   "source": [
    "# g = sns.FacetGrid(data=flat_df_num, col=col_name, col_wrap=3);\n",
    "# g.map(sns.lineplot, \"wave\",var_name+\"_wts\", estimator=weighted_mean,ci=None);"
   ]
  },
  {
   "cell_type": "code",
   "execution_count": null,
   "metadata": {},
   "outputs": [],
   "source": []
  },
  {
   "cell_type": "code",
   "execution_count": 26,
   "metadata": {},
   "outputs": [
    {
     "data": {
      "text/plain": [
       "0.4444444444444444"
      ]
     },
     "execution_count": 26,
     "metadata": {},
     "output_type": "execute_result"
    }
   ],
   "source": [
    "20/45"
   ]
  },
  {
   "cell_type": "code",
   "execution_count": null,
   "metadata": {},
   "outputs": [],
   "source": [
    "flat_df_num"
   ]
  },
  {
   "cell_type": "code",
   "execution_count": null,
   "metadata": {},
   "outputs": [],
   "source": [
    "%%time\n",
    "\n",
    "g = sns.FacetGrid(data=flat_df_num, col=col_name, col_wrap=3);\n",
    "g.map(sns.lineplot, \"wave\",var_name+\"_wts\", estimator=weighted_mean,n_boot=20);\n",
    "g.map(sns.lineplot, \"wave\",\"dk\", color='r');"
   ]
  },
  {
   "cell_type": "code",
   "execution_count": null,
   "metadata": {},
   "outputs": [],
   "source": []
  },
  {
   "cell_type": "code",
   "execution_count": null,
   "metadata": {},
   "outputs": [],
   "source": [
    "%%time\n",
    "\n",
    "g = sns.FacetGrid(data=flat_df_num.sample(replace=True,weights=\"wt\",axis=0,frac=1),\n",
    "                  col=\"subject\", col_wrap=3);\n",
    "g.map(sns.lineplot, \"wave\",\"redist_num\", ci=90);"
   ]
  },
  {
   "cell_type": "code",
   "execution_count": null,
   "metadata": {},
   "outputs": [],
   "source": []
  },
  {
   "cell_type": "code",
   "execution_count": null,
   "metadata": {},
   "outputs": [],
   "source": []
  },
  {
   "cell_type": "code",
   "execution_count": null,
   "metadata": {},
   "outputs": [],
   "source": []
  },
  {
   "cell_type": "code",
   "execution_count": null,
   "metadata": {},
   "outputs": [],
   "source": []
  },
  {
   "cell_type": "code",
   "execution_count": null,
   "metadata": {},
   "outputs": [],
   "source": []
  },
  {
   "cell_type": "code",
   "execution_count": null,
   "metadata": {},
   "outputs": [],
   "source": []
  },
  {
   "cell_type": "code",
   "execution_count": null,
   "metadata": {},
   "outputs": [],
   "source": []
  },
  {
   "cell_type": "code",
   "execution_count": null,
   "metadata": {},
   "outputs": [],
   "source": []
  },
  {
   "cell_type": "code",
   "execution_count": null,
   "metadata": {},
   "outputs": [],
   "source": []
  },
  {
   "cell_type": "code",
   "execution_count": null,
   "metadata": {},
   "outputs": [],
   "source": []
  },
  {
   "cell_type": "code",
   "execution_count": null,
   "metadata": {},
   "outputs": [],
   "source": []
  },
  {
   "cell_type": "code",
   "execution_count": null,
   "metadata": {},
   "outputs": [],
   "source": []
  }
 ],
 "metadata": {
  "kernelspec": {
   "display_name": "Python [conda env:BES_analysis] *",
   "language": "python",
   "name": "conda-env-BES_analysis-py"
  },
  "language_info": {
   "codemirror_mode": {
    "name": "ipython",
    "version": 3
   },
   "file_extension": ".py",
   "mimetype": "text/x-python",
   "name": "python",
   "nbconvert_exporter": "python",
   "pygments_lexer": "ipython3",
   "version": "3.7.6"
  }
 },
 "nbformat": 4,
 "nbformat_minor": 4
}
