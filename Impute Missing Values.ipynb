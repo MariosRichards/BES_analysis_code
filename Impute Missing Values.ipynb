{
 "cells": [
  {
   "cell_type": "code",
   "execution_count": null,
   "metadata": {
    "collapsed": true
   },
   "outputs": [],
   "source": []
  },
  {
   "cell_type": "code",
   "execution_count": 1,
   "metadata": {
    "collapsed": false
   },
   "outputs": [
    {
     "name": "stderr",
     "output_type": "stream",
     "text": [
      "Using Theano backend.\n"
     ]
    }
   ],
   "source": [
    "import numpy as np\n",
    "import pandas as pd\n",
    "%matplotlib inline\n",
    "import matplotlib.pyplot as plt\n",
    "import gc\n",
    "import re\n",
    "\n",
    "from sklearn import datasets\n",
    "from sklearn.decomposition import PCA\n",
    "from sklearn.discriminant_analysis import LinearDiscriminantAnalysis\n",
    "from itertools import cycle\n",
    "from IPython.display import display\n",
    "import pickle, os\n",
    "\n",
    "import seaborn as sns\n",
    "from fancyimpute import BiScaler, KNN, NuclearNormMinimization, SoftImpute, MICE\n",
    "\n",
    "BES_data_folder = \"../BES_analysis_data/\"\n",
    "BES_code_folder = \"../BES_analysis_code/\""
   ]
  },
  {
   "cell_type": "code",
   "execution_count": 2,
   "metadata": {
    "collapsed": true
   },
   "outputs": [],
   "source": [
    "BES_numeric = pd.read_hdf( BES_data_folder+\"BESW8numeric.hdf\", \"BESW8numeric\" )"
   ]
  },
  {
   "cell_type": "code",
   "execution_count": null,
   "metadata": {
    "collapsed": true
   },
   "outputs": [],
   "source": [
    "%%time\n",
    "mice = MICE() # 1hr+ ->  2h 7min 43s\n",
    "X_filled_mice = mice.complete( BES_numeric.values )\n",
    "BESW8mice = pd.DataFrame( X_filled_mice, columns = BES_numeric.columns )\n",
    "BESW8mice.to_hdf( BES_data_folder+\"BESW8mice.hdf\", \"BESW8mice\" )"
   ]
  },
  {
   "cell_type": "code",
   "execution_count": null,
   "metadata": {
    "collapsed": true
   },
   "outputs": [],
   "source": [
    "%%time\n",
    "X_filled_knn = KNN(k=3).complete(BES_numeric) # 20 mins+\n",
    "BESW8knn = pd.DataFrame( X_filled_knn, columns = BES_numeric.columns)\n",
    "BESW8knn.to_hdf(BES_data_folder+\"BESW8knn.hdf\", \"BESW8knn\")"
   ]
  },
  {
   "cell_type": "code",
   "execution_count": null,
   "metadata": {
    "collapsed": false
   },
   "outputs": [
    {
     "name": "stdout",
     "output_type": "stream",
     "text": [
      "[SoftImpute] Max Singular Value of X_init = 73720.919723\n",
      "[SoftImpute] Iter 1: observed MAE=1.300243 rank=12\n",
      "[SoftImpute] Iter 2: observed MAE=1.251961 rank=11\n",
      "[SoftImpute] Iter 3: observed MAE=1.235707 rank=10\n",
      "[SoftImpute] Iter 4: observed MAE=1.226561 rank=10\n",
      "[SoftImpute] Iter 5: observed MAE=1.220463 rank=10\n",
      "[SoftImpute] Iter 6: observed MAE=1.216189 rank=10\n",
      "[SoftImpute] Iter 7: observed MAE=1.213171 rank=10\n",
      "[SoftImpute] Iter 8: observed MAE=1.211003 rank=10\n"
     ]
    }
   ],
   "source": [
    "%%time\n",
    "X_filled_softimpute = SoftImpute().complete(BES_numeric) # 40s\n",
    "BESW8softimpute = pd.DataFrame( X_filled_softimpute, columns = BES_numeric.columns)\n",
    "BESW8softimpute.to_hdf(BES_data_folder+\"BESW8softimpute.hdf\",\"BESW8softimpute\")"
   ]
  },
  {
   "cell_type": "code",
   "execution_count": 3,
   "metadata": {
    "collapsed": true
   },
   "outputs": [],
   "source": [
    "X_filled_median = BES_numeric.fillna(BES_numeric.median()).values\n",
    "BESW8median = pd.DataFrame( X_filled_median, columns = BES_numeric.columns)\n",
    "BESW8median.to_hdf(BES_data_folder+\"BESW8median.hdf\", \"BESW8median\")"
   ]
  },
  {
   "cell_type": "code",
   "execution_count": 4,
   "metadata": {
    "collapsed": true
   },
   "outputs": [],
   "source": [
    "X_filled_mean = BES_numeric.fillna(BES_numeric.mean()).values\n",
    "BESW8mean = pd.DataFrame( X_filled_mean, columns = BES_numeric.columns)\n",
    "BESW8mean.to_hdf(BES_data_folder+\"BESW8mean.hdf\", \"BESW8mean\")"
   ]
  },
  {
   "cell_type": "code",
   "execution_count": 5,
   "metadata": {
    "collapsed": false
   },
   "outputs": [
    {
     "data": {
      "text/plain": [
       "14"
      ]
     },
     "execution_count": 5,
     "metadata": {},
     "output_type": "execute_result"
    }
   ],
   "source": [
    "gc.collect()"
   ]
  },
  {
   "cell_type": "code",
   "execution_count": null,
   "metadata": {
    "collapsed": true
   },
   "outputs": [],
   "source": []
  },
  {
   "cell_type": "code",
   "execution_count": null,
   "metadata": {
    "collapsed": true
   },
   "outputs": [],
   "source": []
  },
  {
   "cell_type": "code",
   "execution_count": null,
   "metadata": {
    "collapsed": true
   },
   "outputs": [],
   "source": []
  },
  {
   "cell_type": "code",
   "execution_count": null,
   "metadata": {
    "collapsed": true
   },
   "outputs": [],
   "source": []
  }
 ],
 "metadata": {
  "kernelspec": {
   "display_name": "Python [conda env:BES_analysis]",
   "language": "python",
   "name": "conda-env-BES_analysis-py"
  },
  "language_info": {
   "codemirror_mode": {
    "name": "ipython",
    "version": 3
   },
   "file_extension": ".py",
   "mimetype": "text/x-python",
   "name": "python",
   "nbconvert_exporter": "python",
   "pygments_lexer": "ipython3",
   "version": "3.5.2"
  }
 },
 "nbformat": 4,
 "nbformat_minor": 0
}
