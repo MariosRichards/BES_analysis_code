{
 "cells": [
  {
   "cell_type": "code",
   "execution_count": 2,
   "metadata": {
    "collapsed": true
   },
   "outputs": [],
   "source": [
    "# Runs various forms of Missing Value Imputation on 'BESW8numeric' (BES Panel W8 substantive data in numeric form)\n",
    "# Most thorough approach is *slooooow* (8+hrs)\n",
    "# So a compromise has been added at the top to drop variables which tend to get ditched further down the line\n",
    "\n",
    "# Ultimately, it would be preferable to use algorithms which are okay with missing values\n",
    "# (or, even better, okay with weighted samples)\n",
    "# But most algorithms are not\n",
    "\n",
    "# Bottom half of the notebook contains a noble attempt to actually test and compare the imputation methods\n",
    "# The fact that median imputation appears to more or less win suggests\n",
    "# That either the methods suck or the measure is rubbish"
   ]
  },
  {
   "cell_type": "code",
   "execution_count": 2,
   "metadata": {
    "collapsed": false
   },
   "outputs": [],
   "source": [
    "import numpy as np\n",
    "import pandas as pd\n",
    "%matplotlib inline\n",
    "import matplotlib.pyplot as plt\n",
    "import gc\n",
    "import re\n",
    "\n",
    "from sklearn import datasets\n",
    "from sklearn.decomposition import PCA\n",
    "from sklearn.discriminant_analysis import LinearDiscriminantAnalysis\n",
    "from itertools import cycle\n",
    "from IPython.display import display\n",
    "import pickle, os\n",
    "\n",
    "import seaborn as sns\n",
    "from fancyimpute import BiScaler, KNN, NuclearNormMinimization, SoftImpute, MICE\n",
    "\n",
    "BES_data_folder = \"../BES_analysis_data/\"\n",
    "BES_code_folder = \"../BES_analysis_code/\""
   ]
  },
  {
   "cell_type": "code",
   "execution_count": 3,
   "metadata": {
    "collapsed": false
   },
   "outputs": [
    {
     "name": "stdout",
     "output_type": "stream",
     "text": [
      "BES_numeric (31409, 659)\n",
      "var_type (733, 1)\n"
     ]
    }
   ],
   "source": [
    "BES_numeric = pd.read_hdf( BES_data_folder+\"BESW8numeric.hdf\", \"BESW8numeric\" )\n",
    "print(\"BES_numeric\",  BES_numeric.shape )\n",
    "var_type    = pd.read_hdf( BES_data_folder+\"var_type.hdf\", \"var_type\" )\n",
    "print(\"var_type\"   ,  var_type.shape )\n",
    "\n"
   ]
  },
  {
   "cell_type": "code",
   "execution_count": null,
   "metadata": {
    "collapsed": true
   },
   "outputs": [],
   "source": [
    "### COMPROMISE DUE TO SLOOOOOWNESS OF MICE\n",
    "\n",
    "\n",
    "# thresh = 0.5 , 226 -> 2 hours\n",
    "# thresh = 0.02, 378 -> 6 hours\n",
    "thresh = .02\n",
    "counts = BES_numeric.count()\n",
    "mostly_not_filled_out = counts[counts<= (counts.max()*thresh)].index\n",
    "# mostly_filled_out     = counts[counts>  (counts.max()*thresh)].index\n",
    "W9_vars = pd.Index([x for x in BES_numeric.columns if \"W9\" in x])\n",
    "\n",
    "many_cat_drop_list = ['Age', 'EUMIICategory', 'age', 'country_of_residence1',\n",
    "       'country_of_residence2', 'euRefExpectation', 'ns_sec', 'pano',\n",
    "       'profile_lea', 'profile_oslaua']\n",
    "\n",
    "high_corr_drop_list = ['ageGroup', 'euRefVote2', 'euRefVotePost', 'euRefVoteUnsqueeze',\n",
    "       'recallVote15', 'voted2015']\n",
    "\n",
    "very_low_var = ['partyContactLD_6', 'partyContactLD_7', 'partyContactUKIP_1']\n",
    "\n",
    "\n",
    "BES_numeric.drop(W9_vars,               axis=1, inplace=True, errors='ignore')\n",
    "BES_numeric.drop(mostly_not_filled_out, axis=1, inplace=True, errors='ignore')\n",
    "BES_numeric.drop(many_cat_drop_list   , axis=1, inplace=True, errors='ignore')\n",
    "BES_numeric.drop(high_corr_drop_list  , axis=1, inplace=True, errors='ignore')\n",
    "BES_numeric.drop(very_low_var         , axis=1, inplace=True, errors='ignore')\n",
    "print(BES_numeric.shape)"
   ]
  },
  {
   "cell_type": "code",
   "execution_count": null,
   "metadata": {
    "collapsed": true
   },
   "outputs": [],
   "source": []
  },
  {
   "cell_type": "code",
   "execution_count": 4,
   "metadata": {
    "collapsed": false
   },
   "outputs": [
    {
     "name": "stdout",
     "output_type": "stream",
     "text": [
      "[MICE] Completing matrix with shape (31409, 378)\n",
      "[MICE] Starting imputation round 1/110, elapsed time 0.494\n",
      "[MICE] Starting imputation round 2/110, elapsed time 219.795\n",
      "[MICE] Starting imputation round 3/110, elapsed time 446.740\n",
      "[MICE] Starting imputation round 4/110, elapsed time 675.138\n",
      "[MICE] Starting imputation round 5/110, elapsed time 906.328\n",
      "[MICE] Starting imputation round 6/110, elapsed time 1134.556\n",
      "[MICE] Starting imputation round 7/110, elapsed time 1365.437\n",
      "[MICE] Starting imputation round 8/110, elapsed time 1595.760\n",
      "[MICE] Starting imputation round 9/110, elapsed time 1825.520\n",
      "[MICE] Starting imputation round 10/110, elapsed time 2055.469\n",
      "[MICE] Starting imputation round 11/110, elapsed time 2286.088\n",
      "[MICE] Starting imputation round 12/110, elapsed time 2515.985\n",
      "[MICE] Starting imputation round 13/110, elapsed time 2747.761\n",
      "[MICE] Starting imputation round 14/110, elapsed time 2976.440\n",
      "[MICE] Starting imputation round 15/110, elapsed time 3206.947\n",
      "[MICE] Starting imputation round 16/110, elapsed time 3439.168\n",
      "[MICE] Starting imputation round 17/110, elapsed time 3669.868\n",
      "[MICE] Starting imputation round 18/110, elapsed time 3901.676\n",
      "[MICE] Starting imputation round 19/110, elapsed time 4131.934\n",
      "[MICE] Starting imputation round 20/110, elapsed time 4363.418\n",
      "[MICE] Starting imputation round 21/110, elapsed time 4595.068\n",
      "[MICE] Starting imputation round 22/110, elapsed time 4824.323\n",
      "[MICE] Starting imputation round 23/110, elapsed time 5054.092\n",
      "[MICE] Starting imputation round 24/110, elapsed time 5284.106\n",
      "[MICE] Starting imputation round 25/110, elapsed time 5515.377\n",
      "[MICE] Starting imputation round 26/110, elapsed time 5744.791\n",
      "[MICE] Starting imputation round 27/110, elapsed time 5975.760\n",
      "[MICE] Starting imputation round 28/110, elapsed time 6204.989\n",
      "[MICE] Starting imputation round 29/110, elapsed time 6431.913\n",
      "[MICE] Starting imputation round 30/110, elapsed time 6660.764\n",
      "[MICE] Starting imputation round 31/110, elapsed time 6889.765\n",
      "[MICE] Starting imputation round 32/110, elapsed time 7119.784\n",
      "[MICE] Starting imputation round 33/110, elapsed time 7351.463\n",
      "[MICE] Starting imputation round 34/110, elapsed time 7585.481\n",
      "[MICE] Starting imputation round 35/110, elapsed time 7816.853\n",
      "[MICE] Starting imputation round 36/110, elapsed time 8048.100\n",
      "[MICE] Starting imputation round 37/110, elapsed time 8280.647\n",
      "[MICE] Starting imputation round 38/110, elapsed time 8511.871\n",
      "[MICE] Starting imputation round 39/110, elapsed time 8742.169\n",
      "[MICE] Starting imputation round 40/110, elapsed time 8973.856\n",
      "[MICE] Starting imputation round 41/110, elapsed time 9204.706\n",
      "[MICE] Starting imputation round 42/110, elapsed time 9435.966\n",
      "[MICE] Starting imputation round 43/110, elapsed time 9667.328\n",
      "[MICE] Starting imputation round 44/110, elapsed time 9897.650\n",
      "[MICE] Starting imputation round 45/110, elapsed time 10127.543\n",
      "[MICE] Starting imputation round 46/110, elapsed time 10359.137\n",
      "[MICE] Starting imputation round 47/110, elapsed time 10587.967\n",
      "[MICE] Starting imputation round 48/110, elapsed time 10819.031\n",
      "[MICE] Starting imputation round 49/110, elapsed time 11049.748\n",
      "[MICE] Starting imputation round 50/110, elapsed time 11283.819\n",
      "[MICE] Starting imputation round 51/110, elapsed time 11513.122\n",
      "[MICE] Starting imputation round 52/110, elapsed time 11742.417\n",
      "[MICE] Starting imputation round 53/110, elapsed time 11972.589\n",
      "[MICE] Starting imputation round 54/110, elapsed time 12203.110\n",
      "[MICE] Starting imputation round 55/110, elapsed time 12434.143\n",
      "[MICE] Starting imputation round 56/110, elapsed time 12664.600\n",
      "[MICE] Starting imputation round 57/110, elapsed time 12895.940\n",
      "[MICE] Starting imputation round 58/110, elapsed time 13126.090\n",
      "[MICE] Starting imputation round 59/110, elapsed time 13356.026\n",
      "[MICE] Starting imputation round 60/110, elapsed time 13585.468\n",
      "[MICE] Starting imputation round 61/110, elapsed time 13816.035\n",
      "[MICE] Starting imputation round 62/110, elapsed time 14047.091\n",
      "[MICE] Starting imputation round 63/110, elapsed time 14277.213\n",
      "[MICE] Starting imputation round 64/110, elapsed time 14509.414\n",
      "[MICE] Starting imputation round 65/110, elapsed time 14741.258\n",
      "[MICE] Starting imputation round 66/110, elapsed time 14974.033\n",
      "[MICE] Starting imputation round 67/110, elapsed time 15205.381\n",
      "[MICE] Starting imputation round 68/110, elapsed time 15437.164\n",
      "[MICE] Starting imputation round 69/110, elapsed time 15667.897\n",
      "[MICE] Starting imputation round 70/110, elapsed time 15898.487\n",
      "[MICE] Starting imputation round 71/110, elapsed time 16130.513\n",
      "[MICE] Starting imputation round 72/110, elapsed time 16363.231\n",
      "[MICE] Starting imputation round 73/110, elapsed time 16595.141\n",
      "[MICE] Starting imputation round 74/110, elapsed time 16825.317\n",
      "[MICE] Starting imputation round 75/110, elapsed time 17054.938\n",
      "[MICE] Starting imputation round 76/110, elapsed time 17285.063\n",
      "[MICE] Starting imputation round 77/110, elapsed time 17516.740\n",
      "[MICE] Starting imputation round 78/110, elapsed time 17748.143\n",
      "[MICE] Starting imputation round 79/110, elapsed time 17978.118\n",
      "[MICE] Starting imputation round 80/110, elapsed time 18207.687\n",
      "[MICE] Starting imputation round 81/110, elapsed time 18441.626\n",
      "[MICE] Starting imputation round 82/110, elapsed time 18674.417\n",
      "[MICE] Starting imputation round 83/110, elapsed time 18907.245\n",
      "[MICE] Starting imputation round 84/110, elapsed time 19136.350\n",
      "[MICE] Starting imputation round 85/110, elapsed time 19368.503\n",
      "[MICE] Starting imputation round 86/110, elapsed time 19599.671\n",
      "[MICE] Starting imputation round 87/110, elapsed time 19830.672\n",
      "[MICE] Starting imputation round 88/110, elapsed time 20062.855\n",
      "[MICE] Starting imputation round 89/110, elapsed time 20294.110\n",
      "[MICE] Starting imputation round 90/110, elapsed time 20525.015\n",
      "[MICE] Starting imputation round 91/110, elapsed time 20754.881\n",
      "[MICE] Starting imputation round 92/110, elapsed time 20986.103\n",
      "[MICE] Starting imputation round 93/110, elapsed time 21217.132\n",
      "[MICE] Starting imputation round 94/110, elapsed time 21449.510\n",
      "[MICE] Starting imputation round 95/110, elapsed time 21680.882\n",
      "[MICE] Starting imputation round 96/110, elapsed time 21911.582\n",
      "[MICE] Starting imputation round 97/110, elapsed time 22145.828\n",
      "[MICE] Starting imputation round 98/110, elapsed time 22377.366\n",
      "[MICE] Starting imputation round 99/110, elapsed time 22607.584\n",
      "[MICE] Starting imputation round 100/110, elapsed time 22838.628\n",
      "[MICE] Starting imputation round 101/110, elapsed time 23071.050\n",
      "[MICE] Starting imputation round 102/110, elapsed time 23304.312\n",
      "[MICE] Starting imputation round 103/110, elapsed time 23536.254\n",
      "[MICE] Starting imputation round 104/110, elapsed time 23769.278\n",
      "[MICE] Starting imputation round 105/110, elapsed time 24001.496\n",
      "[MICE] Starting imputation round 106/110, elapsed time 24234.041\n",
      "[MICE] Starting imputation round 107/110, elapsed time 24465.273\n",
      "[MICE] Starting imputation round 108/110, elapsed time 24696.870\n",
      "[MICE] Starting imputation round 109/110, elapsed time 24929.039\n",
      "[MICE] Starting imputation round 110/110, elapsed time 25164.395\n",
      "Wall time: 7h 3min 22s\n"
     ]
    }
   ],
   "source": [
    "## MULTIPLE IMPUTATION WITH CHAINED EQUATIONS\n",
    "# Gold standard missing value imputation\n",
    "# Only improvement is to create a lots of different imputed sets and run your final analysis on all of them\n",
    "# to get an implict sensitivity analysis\n",
    "# I'm still pathetically hoping to find a more efficient way of doing this\n",
    "# Ideally one that also tested itself to tell you whether it was spitting out crap\n",
    "\n",
    "%%time\n",
    "\n",
    "#  n_pmm_neighbors=BES_numeric.shape[1],impute_type = \"pmm\",\n",
    "mice = MICE(n_imputations = 100, n_burn_in = 10,# impute_type = \"pmm\",n_pmm_neighbors= 20\n",
    "            verbose = True, init_fill_method='median') # 1hr+ ->  2h 7min 43s\n",
    "X_filled_mice = mice.complete( BES_numeric.values )\n",
    "BESW8mice = pd.DataFrame( X_filled_mice, columns = BES_numeric.columns )\n",
    "BESW8mice.to_hdf( BES_data_folder+\"BESW8mice.hdf\", \"BESW8mice\" )"
   ]
  },
  {
   "cell_type": "code",
   "execution_count": null,
   "metadata": {
    "collapsed": true
   },
   "outputs": [],
   "source": [
    "# Not nearly as hardcore as MICE\n",
    "# But can run into memory issues\n",
    "%%time\n",
    "X_filled_knn = KNN(k=3).complete(BES_numeric) # 20 mins+\n",
    "BESW8knn = pd.DataFrame( X_filled_knn, columns = BES_numeric.columns)\n",
    "BESW8knn.to_hdf(BES_data_folder+\"BESW8knn.hdf\", \"BESW8knn\")"
   ]
  },
  {
   "cell_type": "code",
   "execution_count": 3,
   "metadata": {
    "collapsed": false
   },
   "outputs": [
    {
     "name": "stdout",
     "output_type": "stream",
     "text": [
      "[SoftImpute] Max Singular Value of X_init = 73720.919723\n",
      "[SoftImpute] Iter 1: observed MAE=1.300243 rank=12\n",
      "[SoftImpute] Iter 2: observed MAE=1.251961 rank=11\n",
      "[SoftImpute] Iter 3: observed MAE=1.235707 rank=10\n",
      "[SoftImpute] Iter 4: observed MAE=1.226561 rank=10\n",
      "[SoftImpute] Iter 5: observed MAE=1.220463 rank=10\n",
      "[SoftImpute] Iter 6: observed MAE=1.216189 rank=10\n",
      "[SoftImpute] Iter 7: observed MAE=1.213171 rank=10\n",
      "[SoftImpute] Iter 8: observed MAE=1.211003 rank=10\n",
      "[SoftImpute] Iter 9: observed MAE=1.209417 rank=10\n",
      "[SoftImpute] Iter 10: observed MAE=1.208232 rank=10\n",
      "[SoftImpute] Iter 11: observed MAE=1.207327 rank=10\n",
      "[SoftImpute] Iter 12: observed MAE=1.206622 rank=10\n",
      "[SoftImpute] Iter 13: observed MAE=1.206064 rank=10\n",
      "[SoftImpute] Iter 14: observed MAE=1.205615 rank=10\n",
      "[SoftImpute] Iter 15: observed MAE=1.205248 rank=10\n",
      "[SoftImpute] Iter 16: observed MAE=1.204943 rank=10\n",
      "[SoftImpute] Iter 17: observed MAE=1.204688 rank=10\n",
      "[SoftImpute] Iter 18: observed MAE=1.204473 rank=10\n",
      "[SoftImpute] Iter 19: observed MAE=1.204289 rank=10\n",
      "[SoftImpute] Iter 20: observed MAE=1.204132 rank=10\n",
      "[SoftImpute] Iter 21: observed MAE=1.203996 rank=10\n",
      "[SoftImpute] Iter 22: observed MAE=1.203879 rank=10\n",
      "[SoftImpute] Iter 23: observed MAE=1.203776 rank=10\n",
      "[SoftImpute] Iter 24: observed MAE=1.203687 rank=10\n",
      "[SoftImpute] Iter 25: observed MAE=1.203608 rank=10\n",
      "[SoftImpute] Iter 26: observed MAE=1.203539 rank=10\n",
      "[SoftImpute] Iter 27: observed MAE=1.203478 rank=10\n",
      "[SoftImpute] Iter 28: observed MAE=1.203423 rank=10\n",
      "[SoftImpute] Iter 29: observed MAE=1.203375 rank=10\n",
      "[SoftImpute] Iter 30: observed MAE=1.203332 rank=10\n",
      "[SoftImpute] Iter 31: observed MAE=1.203294 rank=10\n",
      "[SoftImpute] Iter 32: observed MAE=1.203259 rank=10\n",
      "[SoftImpute] Iter 33: observed MAE=1.203229 rank=10\n",
      "[SoftImpute] Iter 34: observed MAE=1.203201 rank=10\n",
      "[SoftImpute] Iter 35: observed MAE=1.203176 rank=10\n",
      "[SoftImpute] Iter 36: observed MAE=1.203154 rank=10\n",
      "[SoftImpute] Iter 37: observed MAE=1.203134 rank=10\n",
      "[SoftImpute] Iter 38: observed MAE=1.203115 rank=10\n",
      "[SoftImpute] Iter 39: observed MAE=1.203099 rank=10\n",
      "[SoftImpute] Iter 40: observed MAE=1.203084 rank=10\n",
      "[SoftImpute] Iter 41: observed MAE=1.203070 rank=10\n",
      "[SoftImpute] Iter 42: observed MAE=1.203058 rank=10\n",
      "[SoftImpute] Iter 43: observed MAE=1.203047 rank=10\n",
      "[SoftImpute] Iter 44: observed MAE=1.203037 rank=10\n",
      "[SoftImpute] Iter 45: observed MAE=1.203028 rank=10\n",
      "[SoftImpute] Iter 46: observed MAE=1.203019 rank=10\n",
      "[SoftImpute] Iter 47: observed MAE=1.203012 rank=10\n",
      "[SoftImpute] Iter 48: observed MAE=1.203005 rank=10\n",
      "[SoftImpute] Iter 49: observed MAE=1.203000 rank=10\n",
      "[SoftImpute] Iter 50: observed MAE=1.202995 rank=10\n",
      "[SoftImpute] Iter 51: observed MAE=1.202990 rank=10\n",
      "[SoftImpute] Iter 52: observed MAE=1.202986 rank=10\n",
      "[SoftImpute] Iter 53: observed MAE=1.202982 rank=10\n",
      "[SoftImpute] Iter 54: observed MAE=1.202978 rank=10\n",
      "[SoftImpute] Iter 55: observed MAE=1.202975 rank=10\n",
      "[SoftImpute] Iter 56: observed MAE=1.202973 rank=10\n",
      "[SoftImpute] Iter 57: observed MAE=1.202971 rank=10\n",
      "[SoftImpute] Iter 58: observed MAE=1.202969 rank=10\n",
      "[SoftImpute] Iter 59: observed MAE=1.202967 rank=10\n",
      "[SoftImpute] Iter 60: observed MAE=1.202965 rank=10\n",
      "[SoftImpute] Iter 61: observed MAE=1.202964 rank=10\n",
      "[SoftImpute] Iter 62: observed MAE=1.202963 rank=10\n",
      "[SoftImpute] Iter 63: observed MAE=1.202962 rank=10\n",
      "[SoftImpute] Iter 64: observed MAE=1.202961 rank=10\n",
      "[SoftImpute] Iter 65: observed MAE=1.202960 rank=10\n",
      "[SoftImpute] Iter 66: observed MAE=1.202959 rank=10\n",
      "[SoftImpute] Iter 67: observed MAE=1.202958 rank=10\n",
      "[SoftImpute] Iter 68: observed MAE=1.202958 rank=10\n",
      "[SoftImpute] Iter 69: observed MAE=1.202957 rank=10\n",
      "[SoftImpute] Iter 70: observed MAE=1.202957 rank=10\n",
      "[SoftImpute] Iter 71: observed MAE=1.202957 rank=10\n",
      "[SoftImpute] Iter 72: observed MAE=1.202957 rank=10\n",
      "[SoftImpute] Iter 73: observed MAE=1.202956 rank=10\n",
      "[SoftImpute] Iter 74: observed MAE=1.202956 rank=10\n",
      "[SoftImpute] Iter 75: observed MAE=1.202956 rank=10\n",
      "[SoftImpute] Iter 76: observed MAE=1.202956 rank=10\n",
      "[SoftImpute] Iter 77: observed MAE=1.202957 rank=10\n",
      "[SoftImpute] Iter 78: observed MAE=1.202957 rank=10\n",
      "[SoftImpute] Iter 79: observed MAE=1.202957 rank=10\n",
      "[SoftImpute] Iter 80: observed MAE=1.202957 rank=10\n",
      "[SoftImpute] Iter 81: observed MAE=1.202957 rank=10\n",
      "[SoftImpute] Iter 82: observed MAE=1.202958 rank=10\n",
      "[SoftImpute] Iter 83: observed MAE=1.202958 rank=10\n",
      "[SoftImpute] Iter 84: observed MAE=1.202958 rank=10\n",
      "[SoftImpute] Iter 85: observed MAE=1.202958 rank=10\n",
      "[SoftImpute] Iter 86: observed MAE=1.202959 rank=10\n",
      "[SoftImpute] Iter 87: observed MAE=1.202959 rank=10\n",
      "[SoftImpute] Iter 88: observed MAE=1.202959 rank=10\n",
      "[SoftImpute] Iter 89: observed MAE=1.202960 rank=10\n",
      "[SoftImpute] Iter 90: observed MAE=1.202960 rank=10\n",
      "[SoftImpute] Iter 91: observed MAE=1.202960 rank=10\n",
      "[SoftImpute] Iter 92: observed MAE=1.202961 rank=10\n",
      "[SoftImpute] Iter 93: observed MAE=1.202961 rank=10\n",
      "[SoftImpute] Iter 94: observed MAE=1.202961 rank=10\n",
      "[SoftImpute] Iter 95: observed MAE=1.202962 rank=10\n",
      "[SoftImpute] Iter 96: observed MAE=1.202962 rank=10\n",
      "[SoftImpute] Stopped after iteration 96 for lambda=1474.418394\n",
      "Wall time: 8min 20s\n"
     ]
    }
   ],
   "source": [
    "%%time\n",
    "# infers values outside of normal range\n",
    "X_filled_softimpute = SoftImpute().complete(BES_numeric) # 40s\n",
    "BESW8softimpute = pd.DataFrame( X_filled_softimpute, columns = BES_numeric.columns)\n",
    "BESW8softimpute.to_hdf(BES_data_folder+\"BESW8softimpute.hdf\",\"BESW8softimpute\")"
   ]
  },
  {
   "cell_type": "code",
   "execution_count": 3,
   "metadata": {
    "collapsed": true
   },
   "outputs": [],
   "source": [
    "X_filled_median = BES_numeric.fillna(BES_numeric.median()).values\n",
    "BESW8median = pd.DataFrame( X_filled_median, columns = BES_numeric.columns)\n",
    "BESW8median.to_hdf(BES_data_folder+\"BESW8median.hdf\", \"BESW8median\")"
   ]
  },
  {
   "cell_type": "code",
   "execution_count": 4,
   "metadata": {
    "collapsed": true
   },
   "outputs": [],
   "source": [
    "X_filled_mean = BES_numeric.fillna(BES_numeric.mean()).values\n",
    "BESW8mean = pd.DataFrame( X_filled_mean, columns = BES_numeric.columns)\n",
    "BESW8mean.to_hdf(BES_data_folder+\"BESW8mean.hdf\", \"BESW8mean\")"
   ]
  },
  {
   "cell_type": "code",
   "execution_count": 9,
   "metadata": {
    "collapsed": false
   },
   "outputs": [
    {
     "data": {
      "text/plain": [
       "0"
      ]
     },
     "execution_count": 9,
     "metadata": {},
     "output_type": "execute_result"
    }
   ],
   "source": [
    "# try to clear memory a bit\n",
    "gc.collect()"
   ]
  },
  {
   "cell_type": "code",
   "execution_count": null,
   "metadata": {
    "collapsed": false
   },
   "outputs": [],
   "source": []
  },
  {
   "cell_type": "code",
   "execution_count": null,
   "metadata": {
    "collapsed": true
   },
   "outputs": [],
   "source": [
    "# How do we test imputation?\n",
    "# Impute on a dataset where we know the values\n",
    "   # Warning - this may not be representative of situation for values we *don't know*\n",
    "# Get representation subset of data\n",
    "   # Warning - subsamples may respond differently just because of size (MICE should work better on big datasets ...)\n",
    "    \n",
    "\n",
    "# Practical questions\n",
    "    # Memory requirements\n",
    "    # variable typing (does it impute discrete values as discrete values or as continuous values?)\n"
   ]
  },
  {
   "cell_type": "code",
   "execution_count": 369,
   "metadata": {
    "collapsed": true
   },
   "outputs": [],
   "source": [
    "# take in missing_mask, number of missing_values\n",
    "# take in variable types\n",
    "# go through each missing_value\n",
    "    # normalise to 0 - for random chance; 1 - for correct\n",
    "    # ordinal: mean (0), correct value (1)\n",
    "    \n",
    "# Start with dumb algorithm -> right/wrong -> %\n",
    "   \n",
    "\n",
    "\n",
    "def score_mv_function( dataset_imputed,dataset_complete, missing_mask, num_values_to_drop, var_type ):\n",
    "    score = 0\n",
    "    dataset_maxdistance = dataset_complete.max()-dataset_complete.min()\n",
    "\n",
    "    for (row, col) in missing_mask:\n",
    "        col_name = dataset_complete.columns[col]\n",
    "        col_type = var_type.loc[col_name][\"type\"]\n",
    "#         print(col_name)\n",
    "        if np.isnan( dataset_imputed.iloc[row,col] ):\n",
    "            print(\"dataset_imputed isnan\")\n",
    "        if np.isnan( dataset_complete.iloc[row,col] ):\n",
    "            print(\"dataset_complete isnan\")            \n",
    "        # ordinal: 0, 1, 2, 5, 6\n",
    "        # non-ordinal: 3, 7\n",
    "        if col_type in [3,7]:\n",
    "            if round( dataset_imputed.iloc[row,col] ) == dataset_complete.iloc[row,col]:\n",
    "                score = score+1 # 0/1\n",
    "        elif col_type in [0, 1, 2, 5, 6]:\n",
    "            if dataset_maxdistance[col_name]  == 0:\n",
    "                continue\n",
    "                # print(col_name, \"dataset_maxdistance[col_name]  == 0\")\n",
    "            distance = np.abs( dataset_imputed.iloc[row,col] - dataset_complete.iloc[row,col])\n",
    "            score = score + 1 - ( distance/dataset_maxdistance[col_name] )\n",
    "\n",
    "            \n",
    "    score = score / num_values_to_drop\n",
    "    return score"
   ]
  },
  {
   "cell_type": "code",
   "execution_count": 254,
   "metadata": {
    "collapsed": true
   },
   "outputs": [],
   "source": [
    "def drop_fraction(dataset_complete,fraction_missing):\n",
    "\n",
    "    dataset = dataset_complete.copy()\n",
    "    n_rows, n_cols = dataset.shape\n",
    "\n",
    "    nan_values = dataset.isnull()\n",
    "    num_non_missing_values = (~nan_values).sum().sum()\n",
    "    \n",
    "    num_values_to_drop = int( num_non_missing_values * fraction_missing )\n",
    "    \n",
    "    # check to see that there are at least that many\n",
    "\n",
    "\n",
    "    \n",
    "#     missing_mask = np.zeros( (n_rows, n_cols), dtype=bool )\n",
    "\n",
    "    missing_mask = []\n",
    "    if num_values_to_drop > num_non_missing_values*10:\n",
    "        raise Exception('not enough non-missing values!')\n",
    "    \n",
    "#     missing_raw_values = np.random.uniform( 0, 1, (n_rows, n_cols) )\n",
    "#     missing_mask = missing_raw_values < fraction_missing    \n",
    "#     overlap = sum(sum(nan_values.values & missing_mask))\n",
    "    \n",
    "#     dataset[missing_mask] = np.nan\n",
    "#     drop_counter = overlap    #num_values_to_drop\n",
    "    \n",
    "    \n",
    "    drop_counter = num_values_to_drop\n",
    "    while drop_counter>0:\n",
    "        row = int(np.random.rand()*n_rows)\n",
    "        col = int(np.random.rand()*n_cols)\n",
    "        if not np.isnan( dataset.iloc[row,col] ):\n",
    "            dataset.iloc[row,col] = np.nan\n",
    "#             missing_mask[row][col] = True\n",
    "            missing_mask.append( (row,col) )\n",
    "            drop_counter = drop_counter - 1\n",
    "\n",
    "    return dataset, missing_mask, num_values_to_drop"
   ]
  },
  {
   "cell_type": "code",
   "execution_count": 298,
   "metadata": {
    "collapsed": false
   },
   "outputs": [
    {
     "name": "stdout",
     "output_type": "stream",
     "text": [
      "(3141, 264) 0.5010286725902774\n",
      "Wall time: 64 ms\n"
     ]
    }
   ],
   "source": [
    "%%time\n",
    "BES_sample = BES_numeric.sample( frac=.1 ).dropna(axis=0, how='all').sample(axis=1, frac=.4 ).dropna(axis=1, how='all')\n",
    "print( BES_sample.shape, BES_sample.isnull().mean().mean() )"
   ]
  },
  {
   "cell_type": "code",
   "execution_count": 299,
   "metadata": {
    "collapsed": false
   },
   "outputs": [
    {
     "name": "stdout",
     "output_type": "stream",
     "text": [
      "41375 0.5509247199791615\n",
      "Wall time: 21.1 s\n"
     ]
    }
   ],
   "source": [
    "%%time\n",
    "incomplete_dataset, missing_mask, num_values_to_drop = drop_fraction(BES_sample,.1)\n",
    "print( num_values_to_drop, incomplete_dataset.isnull().mean().mean() )"
   ]
  },
  {
   "cell_type": "code",
   "execution_count": 375,
   "metadata": {
    "collapsed": false
   },
   "outputs": [],
   "source": [
    "%%time\n",
    "mice = MICE(n_imputations = 100, n_burn_in = 10, impute_type = \"pmm\",\n",
    "            verbose = True, n_pmm_neighbors=BES_sample.shape[1], init_fill_method='median')\n",
    "X_filled = mice.complete( incomplete_dataset.values )\n",
    "dataset_imputed = pd.DataFrame( X_filled, columns = BES_sample.columns )\n",
    "score = score_mv_function( dataset_imputed, BES_sample, missing_mask, num_values_to_drop, var_type  )\n",
    "print( (\"mice\",score) )"
   ]
  },
  {
   "cell_type": "code",
   "execution_count": 370,
   "metadata": {
    "collapsed": false
   },
   "outputs": [
    {
     "name": "stdout",
     "output_type": "stream",
     "text": [
      "('median', 0.7323767945515518)\n"
     ]
    }
   ],
   "source": [
    "X_filled = incomplete_dataset.fillna(incomplete_dataset.median()).values\n",
    "dataset_imputed = pd.DataFrame( X_filled, columns = BES_sample.columns )\n",
    "score = score_mv_function( dataset_imputed, BES_sample, missing_mask, num_values_to_drop, var_type  )\n",
    "print( (\"median\",score) )"
   ]
  },
  {
   "cell_type": "code",
   "execution_count": 371,
   "metadata": {
    "collapsed": false
   },
   "outputs": [
    {
     "name": "stdout",
     "output_type": "stream",
     "text": [
      "('mean', 0.69239417561201744)\n"
     ]
    }
   ],
   "source": [
    "X_filled = incomplete_dataset.fillna(incomplete_dataset.mean()).values\n",
    "dataset_imputed = pd.DataFrame( X_filled, columns = BES_sample.columns )\n",
    "score = score_mv_function( dataset_imputed, BES_sample, missing_mask, num_values_to_drop, var_type  )\n",
    "print( (\"mean\",score) )"
   ]
  },
  {
   "cell_type": "code",
   "execution_count": 372,
   "metadata": {
    "collapsed": false
   },
   "outputs": [
    {
     "name": "stdout",
     "output_type": "stream",
     "text": [
      "[SoftImpute] Max Singular Value of X_init = 11286.870446\n",
      "[SoftImpute] Iter 1: observed MAE=1.252531 rank=13\n",
      "[SoftImpute] Iter 2: observed MAE=1.180320 rank=10\n",
      "[SoftImpute] Iter 3: observed MAE=1.158438 rank=10\n",
      "[SoftImpute] Iter 4: observed MAE=1.149442 rank=10\n",
      "[SoftImpute] Iter 5: observed MAE=1.144342 rank=10\n",
      "[SoftImpute] Iter 6: observed MAE=1.140927 rank=10\n",
      "[SoftImpute] Iter 7: observed MAE=1.138421 rank=10\n",
      "[SoftImpute] Iter 8: observed MAE=1.136483 rank=10\n",
      "[SoftImpute] Iter 9: observed MAE=1.134926 rank=10\n",
      "[SoftImpute] Iter 10: observed MAE=1.133639 rank=10\n",
      "[SoftImpute] Iter 11: observed MAE=1.132550 rank=10\n",
      "[SoftImpute] Iter 12: observed MAE=1.131624 rank=10\n",
      "[SoftImpute] Iter 13: observed MAE=1.130833 rank=10\n",
      "[SoftImpute] Iter 14: observed MAE=1.130152 rank=10\n",
      "[SoftImpute] Iter 15: observed MAE=1.129559 rank=10\n",
      "[SoftImpute] Iter 16: observed MAE=1.129037 rank=10\n",
      "[SoftImpute] Iter 17: observed MAE=1.128574 rank=10\n",
      "[SoftImpute] Iter 18: observed MAE=1.128159 rank=10\n",
      "[SoftImpute] Iter 19: observed MAE=1.127786 rank=10\n",
      "[SoftImpute] Iter 20: observed MAE=1.127450 rank=10\n",
      "[SoftImpute] Iter 21: observed MAE=1.127146 rank=10\n",
      "[SoftImpute] Iter 22: observed MAE=1.126870 rank=10\n",
      "[SoftImpute] Iter 23: observed MAE=1.126616 rank=10\n",
      "[SoftImpute] Iter 24: observed MAE=1.126385 rank=10\n",
      "[SoftImpute] Iter 25: observed MAE=1.126172 rank=10\n",
      "[SoftImpute] Iter 26: observed MAE=1.125977 rank=10\n",
      "[SoftImpute] Iter 27: observed MAE=1.125797 rank=10\n",
      "[SoftImpute] Iter 28: observed MAE=1.125630 rank=10\n",
      "[SoftImpute] Iter 29: observed MAE=1.125473 rank=10\n",
      "[SoftImpute] Iter 30: observed MAE=1.125327 rank=10\n",
      "[SoftImpute] Iter 31: observed MAE=1.125190 rank=10\n",
      "[SoftImpute] Iter 32: observed MAE=1.125062 rank=10\n",
      "[SoftImpute] Iter 33: observed MAE=1.124942 rank=10\n",
      "[SoftImpute] Iter 34: observed MAE=1.124830 rank=10\n",
      "[SoftImpute] Iter 35: observed MAE=1.124724 rank=10\n",
      "[SoftImpute] Iter 36: observed MAE=1.124624 rank=10\n",
      "[SoftImpute] Iter 37: observed MAE=1.124532 rank=10\n",
      "[SoftImpute] Iter 38: observed MAE=1.124445 rank=10\n",
      "[SoftImpute] Iter 39: observed MAE=1.124364 rank=10\n",
      "[SoftImpute] Iter 40: observed MAE=1.124288 rank=10\n",
      "[SoftImpute] Iter 41: observed MAE=1.124216 rank=10\n",
      "[SoftImpute] Iter 42: observed MAE=1.124148 rank=10\n",
      "[SoftImpute] Iter 43: observed MAE=1.124085 rank=10\n",
      "[SoftImpute] Iter 44: observed MAE=1.124024 rank=10\n",
      "[SoftImpute] Iter 45: observed MAE=1.123966 rank=10\n",
      "[SoftImpute] Iter 46: observed MAE=1.123913 rank=10\n",
      "[SoftImpute] Iter 47: observed MAE=1.123863 rank=10\n",
      "[SoftImpute] Iter 48: observed MAE=1.123816 rank=10\n",
      "[SoftImpute] Iter 49: observed MAE=1.123771 rank=10\n",
      "[SoftImpute] Iter 50: observed MAE=1.123729 rank=10\n",
      "[SoftImpute] Iter 51: observed MAE=1.123689 rank=10\n",
      "[SoftImpute] Iter 52: observed MAE=1.123652 rank=10\n",
      "[SoftImpute] Iter 53: observed MAE=1.123616 rank=10\n",
      "[SoftImpute] Iter 54: observed MAE=1.123582 rank=10\n",
      "[SoftImpute] Iter 55: observed MAE=1.123550 rank=10\n",
      "[SoftImpute] Iter 56: observed MAE=1.123519 rank=10\n",
      "[SoftImpute] Iter 57: observed MAE=1.123491 rank=10\n",
      "[SoftImpute] Iter 58: observed MAE=1.123464 rank=10\n",
      "[SoftImpute] Iter 59: observed MAE=1.123438 rank=10\n",
      "[SoftImpute] Iter 60: observed MAE=1.123414 rank=10\n",
      "[SoftImpute] Iter 61: observed MAE=1.123391 rank=10\n",
      "[SoftImpute] Iter 62: observed MAE=1.123369 rank=10\n",
      "[SoftImpute] Iter 63: observed MAE=1.123349 rank=10\n",
      "[SoftImpute] Iter 64: observed MAE=1.123329 rank=10\n",
      "[SoftImpute] Iter 65: observed MAE=1.123311 rank=10\n",
      "[SoftImpute] Iter 66: observed MAE=1.123294 rank=10\n",
      "[SoftImpute] Iter 67: observed MAE=1.123278 rank=10\n",
      "[SoftImpute] Iter 68: observed MAE=1.123262 rank=10\n",
      "[SoftImpute] Iter 69: observed MAE=1.123248 rank=10\n",
      "[SoftImpute] Iter 70: observed MAE=1.123234 rank=10\n",
      "[SoftImpute] Iter 71: observed MAE=1.123221 rank=10\n",
      "[SoftImpute] Iter 72: observed MAE=1.123209 rank=10\n",
      "[SoftImpute] Iter 73: observed MAE=1.123197 rank=10\n",
      "[SoftImpute] Iter 74: observed MAE=1.123186 rank=10\n",
      "[SoftImpute] Iter 75: observed MAE=1.123176 rank=10\n",
      "[SoftImpute] Iter 76: observed MAE=1.123166 rank=10\n",
      "[SoftImpute] Iter 77: observed MAE=1.123156 rank=10\n",
      "[SoftImpute] Iter 78: observed MAE=1.123147 rank=10\n",
      "[SoftImpute] Iter 79: observed MAE=1.123139 rank=10\n",
      "[SoftImpute] Iter 80: observed MAE=1.123130 rank=10\n",
      "[SoftImpute] Iter 81: observed MAE=1.123123 rank=10\n",
      "[SoftImpute] Iter 82: observed MAE=1.123115 rank=10\n",
      "[SoftImpute] Iter 83: observed MAE=1.123108 rank=10\n",
      "[SoftImpute] Iter 84: observed MAE=1.123101 rank=10\n",
      "[SoftImpute] Iter 85: observed MAE=1.123095 rank=10\n",
      "[SoftImpute] Iter 86: observed MAE=1.123089 rank=10\n",
      "[SoftImpute] Iter 87: observed MAE=1.123083 rank=10\n",
      "[SoftImpute] Iter 88: observed MAE=1.123078 rank=10\n",
      "[SoftImpute] Iter 89: observed MAE=1.123072 rank=10\n",
      "[SoftImpute] Iter 90: observed MAE=1.123067 rank=10\n",
      "[SoftImpute] Iter 91: observed MAE=1.123063 rank=10\n",
      "[SoftImpute] Iter 92: observed MAE=1.123058 rank=10\n",
      "[SoftImpute] Iter 93: observed MAE=1.123054 rank=10\n",
      "[SoftImpute] Iter 94: observed MAE=1.123050 rank=10\n",
      "[SoftImpute] Iter 95: observed MAE=1.123046 rank=10\n",
      "[SoftImpute] Iter 96: observed MAE=1.123042 rank=10\n",
      "[SoftImpute] Iter 97: observed MAE=1.123038 rank=10\n",
      "[SoftImpute] Iter 98: observed MAE=1.123035 rank=10\n",
      "[SoftImpute] Iter 99: observed MAE=1.123031 rank=10\n",
      "[SoftImpute] Iter 100: observed MAE=1.123028 rank=10\n",
      "[SoftImpute] Stopped after iteration 100 for lambda=225.737409\n",
      "('soft', 0.7054720910428024)\n"
     ]
    }
   ],
   "source": [
    "X_filled = SoftImpute().complete(incomplete_dataset) # 40s\n",
    "dataset_imputed = pd.DataFrame( X_filled, columns = BES_sample.columns )\n",
    "score = score_mv_function( dataset_imputed, BES_sample, missing_mask, num_values_to_drop, var_type  )\n",
    "print( (\"soft\",score) )"
   ]
  },
  {
   "cell_type": "code",
   "execution_count": 373,
   "metadata": {
    "collapsed": false
   },
   "outputs": [
    {
     "name": "stdout",
     "output_type": "stream",
     "text": [
      "Computing pairwise distances between 3141 samples\n",
      "Computing distances for sample #1/3141, elapsed time: 2.468\n",
      "Computing distances for sample #101/3141, elapsed time: 3.698\n",
      "Computing distances for sample #201/3141, elapsed time: 4.878\n",
      "Computing distances for sample #301/3141, elapsed time: 6.039\n",
      "Computing distances for sample #401/3141, elapsed time: 7.218\n",
      "Computing distances for sample #501/3141, elapsed time: 8.399\n",
      "Computing distances for sample #601/3141, elapsed time: 9.586\n",
      "Computing distances for sample #701/3141, elapsed time: 10.774\n",
      "Computing distances for sample #801/3141, elapsed time: 11.962\n",
      "Computing distances for sample #901/3141, elapsed time: 13.144\n",
      "Computing distances for sample #1001/3141, elapsed time: 14.329\n",
      "Computing distances for sample #1101/3141, elapsed time: 15.504\n",
      "Computing distances for sample #1201/3141, elapsed time: 16.688\n",
      "Computing distances for sample #1301/3141, elapsed time: 17.881\n",
      "Computing distances for sample #1401/3141, elapsed time: 19.068\n",
      "Computing distances for sample #1501/3141, elapsed time: 20.248\n",
      "Computing distances for sample #1601/3141, elapsed time: 21.430\n",
      "Computing distances for sample #1701/3141, elapsed time: 22.609\n",
      "Computing distances for sample #1801/3141, elapsed time: 23.793\n",
      "Computing distances for sample #1901/3141, elapsed time: 24.975\n",
      "Computing distances for sample #2001/3141, elapsed time: 26.149\n",
      "Computing distances for sample #2101/3141, elapsed time: 27.329\n",
      "Computing distances for sample #2201/3141, elapsed time: 28.507\n",
      "Computing distances for sample #2301/3141, elapsed time: 29.683\n",
      "Computing distances for sample #2401/3141, elapsed time: 30.860\n",
      "Computing distances for sample #2501/3141, elapsed time: 32.034\n",
      "Computing distances for sample #2601/3141, elapsed time: 33.208\n",
      "Computing distances for sample #2701/3141, elapsed time: 34.388\n",
      "Computing distances for sample #2801/3141, elapsed time: 35.562\n",
      "Computing distances for sample #2901/3141, elapsed time: 36.747\n",
      "Computing distances for sample #3001/3141, elapsed time: 37.919\n",
      "Computing distances for sample #3101/3141, elapsed time: 39.095\n",
      "Imputing row 1/3141 with 146 missing columns, elapsed time: 40.286\n",
      "Imputing row 101/3141 with 134 missing columns, elapsed time: 40.766\n",
      "Imputing row 201/3141 with 177 missing columns, elapsed time: 41.247\n",
      "Imputing row 301/3141 with 188 missing columns, elapsed time: 41.763\n",
      "Imputing row 401/3141 with 139 missing columns, elapsed time: 42.226\n",
      "Imputing row 501/3141 with 148 missing columns, elapsed time: 42.686\n",
      "Imputing row 601/3141 with 134 missing columns, elapsed time: 43.156\n",
      "Imputing row 701/3141 with 143 missing columns, elapsed time: 43.612\n",
      "Imputing row 801/3141 with 121 missing columns, elapsed time: 44.072\n",
      "Imputing row 901/3141 with 181 missing columns, elapsed time: 44.525\n",
      "Imputing row 1001/3141 with 172 missing columns, elapsed time: 45.016\n",
      "Imputing row 1101/3141 with 137 missing columns, elapsed time: 45.483\n",
      "Imputing row 1201/3141 with 130 missing columns, elapsed time: 45.946\n",
      "Imputing row 1301/3141 with 175 missing columns, elapsed time: 46.402\n",
      "Imputing row 1401/3141 with 132 missing columns, elapsed time: 46.888\n",
      "Imputing row 1501/3141 with 129 missing columns, elapsed time: 47.368\n",
      "Imputing row 1601/3141 with 119 missing columns, elapsed time: 47.850\n",
      "Imputing row 1701/3141 with 134 missing columns, elapsed time: 48.324\n",
      "Imputing row 1801/3141 with 156 missing columns, elapsed time: 48.795\n",
      "Imputing row 1901/3141 with 158 missing columns, elapsed time: 49.275\n",
      "Imputing row 2001/3141 with 114 missing columns, elapsed time: 49.759\n",
      "Imputing row 2101/3141 with 144 missing columns, elapsed time: 50.255\n",
      "Imputing row 2201/3141 with 126 missing columns, elapsed time: 50.743\n",
      "Imputing row 2301/3141 with 167 missing columns, elapsed time: 51.226\n",
      "Imputing row 2401/3141 with 123 missing columns, elapsed time: 51.691\n",
      "Imputing row 2501/3141 with 130 missing columns, elapsed time: 52.164\n",
      "Imputing row 2601/3141 with 135 missing columns, elapsed time: 52.643\n",
      "Imputing row 2701/3141 with 175 missing columns, elapsed time: 53.107\n",
      "Imputing row 2801/3141 with 169 missing columns, elapsed time: 53.591\n",
      "Imputing row 2901/3141 with 127 missing columns, elapsed time: 54.040\n",
      "Imputing row 3001/3141 with 137 missing columns, elapsed time: 54.519\n",
      "Imputing row 3101/3141 with 177 missing columns, elapsed time: 54.978\n",
      "[KNN] Warning: 158/829224 still missing after imputation, replacing with 0\n",
      "('knn', 0.7254683791302543)\n",
      "Wall time: 1min 29s\n"
     ]
    }
   ],
   "source": [
    "%%time\n",
    "X_filled = KNN(k=30).complete(incomplete_dataset) # 20 mins+\n",
    "dataset_imputed = pd.DataFrame( X_filled, columns = BES_sample.columns )\n",
    "score = score_mv_function( dataset_imputed, BES_sample, missing_mask, num_values_to_drop, var_type  )\n",
    "print( (\"knn\",score) )"
   ]
  },
  {
   "cell_type": "code",
   "execution_count": null,
   "metadata": {
    "collapsed": false
   },
   "outputs": [],
   "source": [
    "##\n",
    "## ANOTHER MEASURE OF IMPUTING SUCCESS\n",
    "## ---> NOT REDUCING CORRELATION IN DATASET\n",
    "## ---> NOT RESPECTING RANGES (imputing values of 8 for categories with only 7 options)"
   ]
  },
  {
   "cell_type": "code",
   "execution_count": null,
   "metadata": {
    "collapsed": true
   },
   "outputs": [],
   "source": []
  }
 ],
 "metadata": {
  "kernelspec": {
   "display_name": "Python [conda env:BES_analysis]",
   "language": "python",
   "name": "conda-env-BES_analysis-py"
  },
  "language_info": {
   "codemirror_mode": {
    "name": "ipython",
    "version": 3
   },
   "file_extension": ".py",
   "mimetype": "text/x-python",
   "name": "python",
   "nbconvert_exporter": "python",
   "pygments_lexer": "ipython3",
   "version": "3.5.2"
  }
 },
 "nbformat": 4,
 "nbformat_minor": 0
}
