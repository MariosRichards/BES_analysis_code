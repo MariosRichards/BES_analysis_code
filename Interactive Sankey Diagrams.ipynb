{
 "cells": [
  {
   "cell_type": "code",
   "execution_count": null,
   "metadata": {},
   "outputs": [],
   "source": []
  },
  {
   "cell_type": "code",
   "execution_count": 17,
   "metadata": {},
   "outputs": [],
   "source": [
    "import numpy as np\n",
    "import pandas as pd\n",
    "%matplotlib inline\n",
    "import matplotlib.pyplot as plt\n",
    "import gc\n",
    "import re\n",
    "\n",
    "from itertools import cycle\n",
    "from IPython.display import display\n",
    "import pickle, os\n",
    "\n",
    "import seaborn as sns\n",
    "\n",
    "encoding = \"ISO-8859-1\"\n",
    "\n",
    "import Jupyter_module_loader"
   ]
  },
  {
   "cell_type": "code",
   "execution_count": 18,
   "metadata": {},
   "outputs": [],
   "source": [
    "# you should clone this git to this subdirectory (in some directory - I call it BES_analysis - doesn't matter though)\n",
    "\n",
    "if os.getcwd().split(os.sep)[-1] != 'BES_analysis_code':\n",
    "    raise Exception(\"Stop! You're in the wrong directory - should be in 'BES_analysis_code'\")\n",
    "\n",
    "BES_code_folder   = \"../BES_analysis_code/\" # we should be here!\n",
    "BES_small_data_files = BES_code_folder + \"small data files\" + os.sep\n",
    "if not os.path.exists( BES_small_data_files ):\n",
    "    os.makedirs( BES_small_data_files )\n",
    "\n",
    "# we should create these if they don't already exist\n",
    "BES_data_folder   = \"../BES_analysis_data/\"\n",
    "if not os.path.exists( BES_data_folder ):\n",
    "    os.makedirs( BES_data_folder )\n",
    "\n",
    "BES_output_folder = \"../BES_analysis_output/\"\n",
    "if not os.path.exists( BES_output_folder ):\n",
    "    os.makedirs( BES_output_folder )\n",
    "    \n",
    "BES_file_manifest = pd.read_csv( BES_small_data_files + \"BES_file_manifest.csv\" )\n",
    "\n",
    "BES_R_data_files = BES_data_folder + \"R_data\" + os.sep\n",
    "if not os.path.exists( BES_R_data_files ):\n",
    "    os.makedirs( BES_R_data_files )\n"
   ]
  },
  {
   "cell_type": "code",
   "execution_count": 19,
   "metadata": {},
   "outputs": [],
   "source": [
    "dataset_name = \"W13_comb\""
   ]
  },
  {
   "cell_type": "code",
   "execution_count": 20,
   "metadata": {},
   "outputs": [
    {
     "name": "stdout",
     "output_type": "stream",
     "text": [
      "BES_Panel (69486, 5173)\n",
      "BES_numeric (69486, 4993)\n",
      "var_type (5173, 13)\n",
      "BES_non_numeric (69486, 125)\n",
      "BES_reduced (69486, 2526)\n",
      "BES_reduced_with_na (69486, 2526)\n",
      "Wall time: 18min 25s\n"
     ]
    }
   ],
   "source": [
    "%%time\n",
    "\n",
    "manifest = BES_file_manifest[ BES_file_manifest[\"Name\"] == dataset_name ]\n",
    "\n",
    "data_subfolder = BES_data_folder + dataset_name + os.sep\n",
    "\n",
    "dataset_filename = manifest[\"Stata_Filename\"].values[0]\n",
    "# dataset_description = manifest[\"Friendlier_Description\"].values[0]\n",
    "# dataset_citation = manifest[\"Citation\"].values[0]\n",
    "# dataset_start = manifest[\"Date_Start\"].values[0]\n",
    "# dataset_stop = manifest[\"Date_Stop\"].values[0]\n",
    "# dataset_wave = manifest[\"Wave No\"].values[0]\n",
    "\n",
    "BES_Panel = pd.read_stata( data_subfolder + dataset_filename )\n",
    "print(\"BES_Panel\", BES_Panel.shape )\n",
    "\n",
    "####\n",
    "\n",
    "BES_numeric = pd.read_hdf( data_subfolder + \"BESnumeric.hdf\", \"BESnumeric\" )\n",
    "print(\"BES_numeric\",  BES_numeric.shape )\n",
    "\n",
    "var_type    = pd.read_csv( data_subfolder + \"var_type.csv\", encoding=encoding)\n",
    "var_type.set_index(\"Unnamed: 0\", inplace=True)\n",
    "print(\"var_type\",  var_type.shape )\n",
    "\n",
    "fname = data_subfolder + \"cat_dictionary.pkl\"\n",
    "with open(fname, \"rb\") as f:\n",
    "    cat_dictionary = pickle.load( f )\n",
    "    \n",
    "####\n",
    "\n",
    "BES_non_numeric = pd.read_hdf( data_subfolder + \"BESnon_numeric.hdf\", \"BESnon_numeric\" )\n",
    "print(\"BES_non_numeric\",  BES_non_numeric.shape )\n",
    "\n",
    "BES_reduced = pd.read_hdf( data_subfolder + \"BES_reduced.hdf\", \"BES_reduced\" )\n",
    "print(\"BES_reduced\",  BES_reduced.shape )\n",
    "\n",
    "BES_reduced_with_na = pd.read_hdf( data_subfolder + \"BES_reduced_with_na.hdf\", \"BES_reduced_with_na\")\n",
    "print(\"BES_reduced_with_na\", BES_reduced_with_na.shape )\n",
    "\n",
    "fname = data_subfolder + \"new_old_col_names.pkl\"\n",
    "with open(fname, \"rb\") as f:\n",
    "    new_old_col_names = pickle.load(f) "
   ]
  },
  {
   "cell_type": "code",
   "execution_count": null,
   "metadata": {},
   "outputs": [],
   "source": []
  },
  {
   "cell_type": "code",
   "execution_count": 5,
   "metadata": {},
   "outputs": [],
   "source": [
    "from ipysankeywidget import SankeyWidget\n",
    "from ipywidgets import Layout"
   ]
  },
  {
   "cell_type": "code",
   "execution_count": 6,
   "metadata": {},
   "outputs": [],
   "source": [
    "layout = Layout(width=\"300\", height=\"200\")\n",
    "def sankey(margin_top=10, **value):\n",
    "    \"\"\"Show SankeyWidget with default values for size and margins\"\"\"\n",
    "    return SankeyWidget(layout=layout,\n",
    "                        margins=dict(top=margin_top, bottom=0, left=30, right=60),\n",
    "                        **value)"
   ]
  },
  {
   "cell_type": "code",
   "execution_count": 7,
   "metadata": {},
   "outputs": [
    {
     "data": {
      "application/vnd.jupyter.widget-view+json": {
       "model_id": "ed62ef5480e74811a27fc531ade02d29",
       "version_major": 2,
       "version_minor": 0
      },
      "text/plain": [
       "VBox(children=(HBox(children=(Button(description='Swap', style=ButtonStyle()), Button(description='Remove', st…"
      ]
     },
     "metadata": {},
     "output_type": "display_data"
    }
   ],
   "source": [
    "from ipywidgets import Button, VBox, HBox, Output\n",
    "from IPython.display import display, clear_output\n",
    "\n",
    "links = [\n",
    "    {'source': 'A', 'target': 'B', 'value': 1},\n",
    "    {'source': 'B', 'target': 'C', 'value': 1},\n",
    "    {'source': 'A', 'target': 'D', 'value': 1},\n",
    "]\n",
    "order = [\n",
    "    ['A'],\n",
    "    ['D', 'B'],\n",
    "    ['C'],\n",
    "]\n",
    "# out = Output()\n",
    "# display(out)\n",
    "s = sankey(links=links, order=order)\n",
    "\n",
    "\n",
    "\n",
    "def swap(x):\n",
    "    global order\n",
    "    order = [list(reversed(o)) for o in order]\n",
    "    s.order = order\n",
    "\n",
    "\n",
    "def remove(x):\n",
    "    global links, out, e, s\n",
    "    links = links[0:len(links)-1]\n",
    "    s.links = links\n",
    "   #s.close()\n",
    "#     IPython.display.clear_output()\n",
    "    #s.clear_output()\n",
    "#     out = Output()\n",
    "#     s.clear_output()\n",
    "#    s.close()\n",
    "    e.close()\n",
    "    clear_output()\n",
    "#     with out:  \n",
    "    s = sankey(links=links, order=order)\n",
    "    b = Button(description='Swap')\n",
    "    b.on_click(swap)    \n",
    "    c = Button(description='Remove')\n",
    "    c.on_click(remove)\n",
    "    e = VBox([HBox([b,c]), s])\n",
    "    display(e)\n",
    "\n",
    "b = Button(description='Swap')\n",
    "b.on_click(swap)    \n",
    "    \n",
    "c = Button(description='Remove')\n",
    "c.on_click(remove)\n",
    "\n",
    "e = VBox([HBox([b,c]), s])\n",
    "display(e)"
   ]
  },
  {
   "cell_type": "code",
   "execution_count": 121,
   "metadata": {},
   "outputs": [
    {
     "data": {
      "text/plain": [
       "[{'source': 'A', 'target': 'B', 'value': 1},\n",
       " {'source': 'B', 'target': 'C', 'value': 1}]"
      ]
     },
     "execution_count": 121,
     "metadata": {},
     "output_type": "execute_result"
    }
   ],
   "source": [
    "s.links"
   ]
  },
  {
   "cell_type": "code",
   "execution_count": 89,
   "metadata": {},
   "outputs": [
    {
     "data": {
      "text/plain": [
       "[['A'], ['B', 'D'], ['C']]"
      ]
     },
     "execution_count": 89,
     "metadata": {},
     "output_type": "execute_result"
    }
   ],
   "source": [
    "s.order"
   ]
  },
  {
   "cell_type": "code",
   "execution_count": 49,
   "metadata": {},
   "outputs": [],
   "source": [
    "s.close()\n",
    "\n"
   ]
  },
  {
   "cell_type": "code",
   "execution_count": 54,
   "metadata": {},
   "outputs": [],
   "source": [
    "s.open()"
   ]
  },
  {
   "cell_type": "code",
   "execution_count": 77,
   "metadata": {},
   "outputs": [],
   "source": [
    "s.setup_instance()\n",
    "s.open()"
   ]
  },
  {
   "cell_type": "code",
   "execution_count": 75,
   "metadata": {},
   "outputs": [],
   "source": [
    "s.close_all()"
   ]
  },
  {
   "cell_type": "code",
   "execution_count": 85,
   "metadata": {},
   "outputs": [
    {
     "data": {
      "text/plain": [
       "[]"
      ]
     },
     "execution_count": 85,
     "metadata": {},
     "output_type": "execute_result"
    }
   ],
   "source": [
    "s.nodes"
   ]
  },
  {
   "cell_type": "code",
   "execution_count": 21,
   "metadata": {},
   "outputs": [
    {
     "data": {
      "text/plain": [
       "['wt_core_W3',\n",
       " 'wt_core_W4',\n",
       " 'wt_core_W5',\n",
       " 'wt_core_W6',\n",
       " 'wt_core_W7',\n",
       " 'wt_core_W8',\n",
       " 'wt_core_W9',\n",
       " 'wt_core_W1',\n",
       " 'wt_core_W2',\n",
       " 'wt_full_W3',\n",
       " 'wt_full_W1W2W3',\n",
       " 'wt_full_W4',\n",
       " 'wt_full_W1W2W3W4',\n",
       " 'wt_full_W5',\n",
       " 'wt_full_W1W2W3W4W5',\n",
       " 'wt_full_W4W5',\n",
       " 'wt_full_W6',\n",
       " 'wt_full_W1W2W3W4W5W6',\n",
       " 'wt_full_W4W5W6',\n",
       " 'wt_full_W4W6',\n",
       " 'wt_full_W7',\n",
       " 'wt_full_W8',\n",
       " 'wt_full_W1W2W3W4W5W6W7W8',\n",
       " 'wt_full_W7W8',\n",
       " 'wt_full_W9',\n",
       " 'wt_full_W1W2W3W4W5W6W7W8W9',\n",
       " 'wt_full_W7W8W9',\n",
       " 'wt_full_W10',\n",
       " 'wt_full_W11',\n",
       " 'wt_full_W1_W11',\n",
       " 'wt_full_W1',\n",
       " 'wt_full_W2',\n",
       " 'wt_full_W1W2',\n",
       " 'wt_full_W1W2W3W4W5W6W7',\n",
       " 'wt_daily_W5',\n",
       " 'wt_new_W11',\n",
       " 'wt_new_W12',\n",
       " 'wt_daily_W12',\n",
       " 'wt_new_W13',\n",
       " 'wt_new_W1_W11',\n",
       " 'wt_new_W1_W12',\n",
       " 'wt_new_W1_W13',\n",
       " 'wt_new_W6_W11',\n",
       " 'wt_new_W6_W12',\n",
       " 'wt_new_W6_W13',\n",
       " 'wt_new_W11_W13',\n",
       " 'enviroGrowthW4',\n",
       " 'enviroGrowthW7',\n",
       " 'wt_daily_W8',\n",
       " 'wt_new_W10']"
      ]
     },
     "execution_count": 21,
     "metadata": {},
     "output_type": "execute_result"
    }
   ],
   "source": [
    "[x for x in BES_Panel.columns if \"wt\" in x]"
   ]
  },
  {
   "cell_type": "code",
   "execution_count": 22,
   "metadata": {},
   "outputs": [],
   "source": [
    "variables_of_interest = [x for x in BES_Panel.columns if re.match(\"al(_scale|\\d)|lr(_scale|\\d)|personality|\"+\n",
    "                                          \"euRefVote|generalElectionVote|wave|wt_full|wt_new\"+\n",
    "                                          \"profile|marital|gender|edlevel|ageGroup|country|housing|countryOfBirth\",x)]\n",
    "len(variables_of_interest)\n",
    "\n",
    "BES_Panel[variables_of_interest].to_pickle(dataset_name+\"_small.pkl\")"
   ]
  },
  {
   "cell_type": "code",
   "execution_count": 11,
   "metadata": {},
   "outputs": [],
   "source": [
    "# BES_Panel= pd.read_pickle(dataset_name+\"_small.pkl\")"
   ]
  },
  {
   "cell_type": "code",
   "execution_count": 12,
   "metadata": {},
   "outputs": [],
   "source": [
    "party_list = list( BES_Panel[ ['profile_past_vote_2005','profile_past_vote_2010','profile_past_vote_2015' ] ].stack().unique() )\n",
    "party_list.append('I would not vote')\n",
    "replace_dict = {'Labour Party':\"LAB\", \n",
    " 'United Kingdom Independence Party (UKIP)':\"UKIP\",\n",
    " 'Labour':\"LAB\",\n",
    " 'Conservative Party':\"CON\",\n",
    " 'Conservative':\"CON\",\n",
    " 'Liberal Democrats':\"LD\",\n",
    " 'Did not vote':\"DNV\",\n",
    " 'Scottish National Party':\"SNP\",\n",
    " 'Scottish National Party (SNP)':\"SNP\",\n",
    " 'British National Party (BNP)':\"BNP\",\n",
    " 'Green Party':\"GP\",\n",
    " 'Liberal Democrat':\"LD\",\n",
    " \"Don't know\":\"DK\",\n",
    " 'Some other party':\"OTH\",\n",
    " 'Veritas':\"VER\",\n",
    " 'Plaid Cymru':\"PC\",\n",
    " 'Other':\"OTH\",\n",
    " 'Respect':\"RES\",\n",
    " 'I would not vote':\"DNV\"}\n",
    "colourmap = {'LAB':'red', 'UKIP':'purple', 'CON':'blue', 'SNP':'yellow', 'BNP':'black', 'LD':'orange', 'DNV':'grey', 'DK':'cyan', 'OTH':'brown', 'GP':'green',\n",
    "       'VER':'pink', 'PC':'olive', 'RES':'peru'}\n",
    "base_order = ['LAB','CON','DK','UKIP','LD','SNP','DNV','GP','PC','BNP','OTH','RES','VER']\n",
    "lr_order   = ['GP','PC','LAB','SNP','DK','OTH','DNV','LD','CON','UKIP','BNP','RES','VER']\n",
    "cmap = ['red','purple','blue','yellow','black','orange','grey','cyan','brown','green','pink','olive','peru']"
   ]
  },
  {
   "cell_type": "code",
   "execution_count": 13,
   "metadata": {},
   "outputs": [],
   "source": [
    "def flatten(A):\n",
    "    rt = []\n",
    "    for i in A:\n",
    "        if isinstance(i,list): rt.extend(flatten(i))\n",
    "        else: rt.append(i)\n",
    "    return rt\n",
    "\n",
    "def make_sankey(BES, links, order, first_year, second_year, first_col, second_col,\n",
    "                replace_dict, threshold, colour, fixed_order, scale, nodes, wt_col):\n",
    "    \n",
    "    crosstab = pd.crosstab(index   = BES[ first_col  ],\n",
    "                           columns = BES[ second_col ],\n",
    "                           values  = BES[ wt_col ],\n",
    "                           aggfunc = sum,\n",
    "                           normalize=True)*scale\n",
    "#     if order == []: # initialise\n",
    "#         order = [ [[replace_dict[x]+first_year] for x in crosstab.index] ]\n",
    "#     order.append( [[replace_dict[x]+second_year] for x in crosstab.columns] ) # add new layer\n",
    "#     if nodes == []: # initialise\n",
    "#         nodes =   [ {'id':x+first_year } for x in lr_order ]  #, 'direction':'r'\n",
    "#     nodes.extend( [ {'id':x+second_year} for x in lr_order ] ) # , 'direction':'r'\n",
    "    \n",
    "    if order == []: # initialise\n",
    "        order = [ [[x+first_year]  for x in fixed_order] ]\n",
    "    order.append( [[x+second_year] for x in fixed_order] ) # add new layer\n",
    "    \n",
    "    for col in crosstab.columns:\n",
    "        second_party = replace_dict[ col ]\n",
    "        for ind in crosstab[col].index:\n",
    "            first_party = replace_dict[ ind ]\n",
    "            \n",
    "            if crosstab[col][ind]>threshold:\n",
    "                if colour == []:\n",
    "                    col_to_use = colourmap[first_party]\n",
    "                else:\n",
    "                    col_to_use = cmap[colour]\n",
    "                    \n",
    "                node_id_first = first_party+first_year\n",
    "                if node_id_first not in [x['id'] for x in nodes]:\n",
    "                    nodes.append({'id':node_id_first, 'direction':'l'})\n",
    "                node_id_second = second_party+second_year\n",
    "                if node_id_second not in [x['id'] for x in nodes]:\n",
    "                    nodes.append({'id':node_id_second, 'direction':'l'})                    \n",
    "\n",
    "                d = {'source': node_id_first,\n",
    "                     'target': node_id_second,\n",
    "                     'value': crosstab[col][ind],\n",
    "                     'color': col_to_use,'type' : colour}\n",
    "                links.append(d)\n",
    "\n",
    "    return links, order, nodes"
   ]
  },
  {
   "cell_type": "code",
   "execution_count": 14,
   "metadata": {},
   "outputs": [],
   "source": [
    "threshold = 0.5\n",
    "margins=dict(top=30, bottom=10, left=70, right=70)"
   ]
  },
  {
   "cell_type": "code",
   "execution_count": 23,
   "metadata": {},
   "outputs": [
    {
     "data": {
      "application/vnd.jupyter.widget-view+json": {
       "model_id": "2a22711dcc5b4d2f9e9449628e1c4f75",
       "version_major": 2,
       "version_minor": 0
      },
      "text/plain": [
       "SankeyWidget(links=[{'source': 'DNV2005', 'target': 'DNV2010', 'value': 13.595799711610557, 'color': 'grey', '…"
      ]
     },
     "metadata": {},
     "output_type": "display_data"
    }
   ],
   "source": [
    "# 2005 -> 2010, weighted\n",
    "colour = []\n",
    "order  = []\n",
    "links  = []\n",
    "pairs = ([\"2005\",'profile_past_vote_2005'],\n",
    "         [\"2010\",'profile_past_vote_2010'])\n",
    "scale = 100\n",
    "nodes = []\n",
    "wt_col = 'wt_new_W1_W13'\n",
    "for pair_no in range(0,len(pairs)-1):\n",
    "#     (links,order) = make_sankey(BES_Panel, links, order,\n",
    "#                         pairs[pair_no][0], pairs[pair_no+1][0], pairs[pair_no][1], pairs[pair_no+1][1],\n",
    "#                         replace_dict, threshold, colour, lr_order, wt_col)\n",
    "    (links, order, nodes) = make_sankey(BES_Panel, links, order,\n",
    "                        pairs[pair_no][0], pairs[pair_no+1][0],\n",
    "                        pairs[pair_no][1], pairs[pair_no+1][1],\n",
    "                        replace_dict, threshold, colour, lr_order, scale, nodes, wt_col)    \n",
    "\n",
    "SankeyWidget(links=links, order=order, margins = margins, scale=2)"
   ]
  },
  {
   "cell_type": "code",
   "execution_count": 47,
   "metadata": {},
   "outputs": [
    {
     "data": {
      "text/html": [
       "<script>requirejs.config({paths: { 'plotly': ['https://cdn.plot.ly/plotly-latest.min']},});if(!window.Plotly) {{require(['plotly'],function(plotly) {window.Plotly=plotly;});}}</script>"
      ],
      "text/vnd.plotly.v1+html": [
       "<script>requirejs.config({paths: { 'plotly': ['https://cdn.plot.ly/plotly-latest.min']},});if(!window.Plotly) {{require(['plotly'],function(plotly) {window.Plotly=plotly;});}}</script>"
      ]
     },
     "metadata": {},
     "output_type": "display_data"
    }
   ],
   "source": [
    "import json, urllib\n",
    "import plotly.plotly as py\n",
    "import pandas as pd\n",
    "import numpy as np\n",
    "from plotly import __version__\n",
    "from plotly.offline import download_plotlyjs, init_notebook_mode, plot, iplot\n",
    "init_notebook_mode(connected=True)"
   ]
  },
  {
   "cell_type": "code",
   "execution_count": 51,
   "metadata": {},
   "outputs": [
    {
     "data": {
      "application/vnd.plotly.v1+json": {
       "data": [
        {
         "x": [
          1,
          2,
          3
         ],
         "y": [
          3,
          1,
          6
         ]
        }
       ],
       "layout": {}
      },
      "text/html": [
       "<div id=\"f0de42d4-f0a3-40ff-bcf7-c3d571fd63dd\" style=\"height: 525px; width: 100%;\" class=\"plotly-graph-div\"></div><script type=\"text/javascript\">require([\"plotly\"], function(Plotly) { window.PLOTLYENV=window.PLOTLYENV || {};window.PLOTLYENV.BASE_URL=\"https://plot.ly\";Plotly.newPlot(\"f0de42d4-f0a3-40ff-bcf7-c3d571fd63dd\", [{\"x\": [1, 2, 3], \"y\": [3, 1, 6]}], {}, {\"showLink\": true, \"linkText\": \"Export to plot.ly\"})});</script>"
      ],
      "text/vnd.plotly.v1+html": [
       "<div id=\"f0de42d4-f0a3-40ff-bcf7-c3d571fd63dd\" style=\"height: 525px; width: 100%;\" class=\"plotly-graph-div\"></div><script type=\"text/javascript\">require([\"plotly\"], function(Plotly) { window.PLOTLYENV=window.PLOTLYENV || {};window.PLOTLYENV.BASE_URL=\"https://plot.ly\";Plotly.newPlot(\"f0de42d4-f0a3-40ff-bcf7-c3d571fd63dd\", [{\"x\": [1, 2, 3], \"y\": [3, 1, 6]}], {}, {\"showLink\": true, \"linkText\": \"Export to plot.ly\"})});</script>"
      ]
     },
     "metadata": {},
     "output_type": "display_data"
    }
   ],
   "source": [
    "iplot([{\"x\": [1, 2, 3], \"y\": [3, 1, 6]}])"
   ]
  },
  {
   "cell_type": "code",
   "execution_count": 83,
   "metadata": {},
   "outputs": [
    {
     "data": {
      "text/plain": [
       "['grey',\n",
       " 'grey',\n",
       " 'blue',\n",
       " 'red',\n",
       " 'orange',\n",
       " 'cyan',\n",
       " 'blue',\n",
       " 'purple',\n",
       " 'red',\n",
       " 'orange',\n",
       " 'yellow',\n",
       " 'yellow',\n",
       " 'purple',\n",
       " 'cyan']"
      ]
     },
     "execution_count": 83,
     "metadata": {},
     "output_type": "execute_result"
    }
   ],
   "source": [
    "[colourmap[x.split(\"2\")[0]] for x in nodes_df['id']]"
   ]
  },
  {
   "cell_type": "code",
   "execution_count": 64,
   "metadata": {},
   "outputs": [],
   "source": [
    "links_df = pd.DataFrame.from_dict(links)\n",
    "nodes_df = pd.DataFrame.from_dict(nodes)\n"
   ]
  },
  {
   "cell_type": "code",
   "execution_count": 72,
   "metadata": {},
   "outputs": [],
   "source": [
    "source_num = [list(nodes_df['id'].values).index(x) for x in links_df[\"source\"].values]\n",
    "target_num = [list(nodes_df['id'].values).index(x) for x in links_df[\"target\"].values]\n",
    "# nodes_num = [list(nodes_df['id'].values).index(x)  for x in nodes_df['id'].values]"
   ]
  },
  {
   "cell_type": "code",
   "execution_count": 61,
   "metadata": {},
   "outputs": [],
   "source": [
    "nodes_df.id = nodes_df.id.astype('category').cat.set_categories(flatten(order), ordered=True)\n",
    "nodes_df = nodes_df.sort_values(by='id')"
   ]
  },
  {
   "cell_type": "code",
   "execution_count": 84,
   "metadata": {},
   "outputs": [
    {
     "data": {
      "application/vnd.plotly.v1+json": {
       "data": [
        {
         "domain": {
          "x": [
           0,
           1
          ],
          "y": [
           0,
           1
          ]
         },
         "link": {
          "color": [
           "grey",
           "blue",
           "red",
           "orange",
           "cyan",
           "grey",
           "blue",
           "red",
           "orange",
           "purple",
           "cyan",
           "grey",
           "blue",
           "red",
           "orange",
           "cyan",
           "grey",
           "blue",
           "red",
           "orange",
           "cyan",
           "yellow",
           "grey",
           "blue",
           "purple",
           "grey",
           "cyan"
          ],
          "source": [
           0,
           2,
           3,
           4,
           5,
           0,
           2,
           3,
           4,
           7,
           5,
           0,
           2,
           3,
           4,
           5,
           0,
           2,
           3,
           4,
           5,
           10,
           0,
           2,
           7,
           0,
           5
          ],
          "target": [
           1,
           1,
           1,
           1,
           1,
           6,
           6,
           6,
           6,
           6,
           6,
           8,
           8,
           8,
           8,
           8,
           9,
           9,
           9,
           9,
           9,
           11,
           12,
           12,
           12,
           13,
           13
          ],
          "value": [
           13.595799711610557,
           0.7740918649530276,
           2.2637968700217472,
           0.7440671421411087,
           1.3067423365624857,
           3.2251394247337557,
           20.155937387345055,
           2.942669129080091,
           2.1803750336036023,
           0.5839975235058952,
           1.1871783853715725,
           1.6806612553533047,
           0.7556276213898215,
           15.8593372678625,
           1.2238209148106285,
           0.6147430089564438,
           2.445083649771412,
           1.4038595008112653,
           4.3113447014347415,
           8.222722437582078,
           1.0279327273785572,
           1.013938276364661,
           0.5126360594017929,
           0.7225945979822462,
           0.5884980056098056,
           0.6582891274225275,
           0.75641631948772
          ]
         },
         "node": {
          "color": [
           "grey",
           "grey",
           "blue",
           "red",
           "orange",
           "cyan",
           "blue",
           "purple",
           "red",
           "orange",
           "yellow",
           "yellow",
           "purple",
           "cyan"
          ],
          "label": [
           "DNV2005",
           "DNV2010",
           "CON2005",
           "LAB2005",
           "LD2005",
           "DK2005",
           "CON2010",
           "UKIP2005",
           "LAB2010",
           "LD2010",
           "SNP2005",
           "SNP2010",
           "UKIP2010",
           "DK2010"
          ],
          "line": {
           "color": "black",
           "width": 0
          },
          "pad": 10,
          "thickness": 30
         },
         "orientation": "h",
         "type": "sankey",
         "valueformat": ".0f"
        }
       ],
       "layout": {
        "font": {
         "size": 10
        },
        "height": 772,
        "title": "Scottish Referendum Voters who now want Independence"
       }
      },
      "text/html": [
       "<div id=\"0c6960ce-40ec-443f-a630-5e59689ec64b\" style=\"height: 772px; width: 100%;\" class=\"plotly-graph-div\"></div><script type=\"text/javascript\">require([\"plotly\"], function(Plotly) { window.PLOTLYENV=window.PLOTLYENV || {};window.PLOTLYENV.BASE_URL=\"https://plot.ly\";Plotly.newPlot(\"0c6960ce-40ec-443f-a630-5e59689ec64b\", [{\"type\": \"sankey\", \"domain\": {\"x\": [0, 1], \"y\": [0, 1]}, \"orientation\": \"h\", \"valueformat\": \".0f\", \"node\": {\"pad\": 10, \"thickness\": 30, \"line\": {\"color\": \"black\", \"width\": 0}, \"label\": [\"DNV2005\", \"DNV2010\", \"CON2005\", \"LAB2005\", \"LD2005\", \"DK2005\", \"CON2010\", \"UKIP2005\", \"LAB2010\", \"LD2010\", \"SNP2005\", \"SNP2010\", \"UKIP2010\", \"DK2010\"], \"color\": [\"grey\", \"grey\", \"blue\", \"red\", \"orange\", \"cyan\", \"blue\", \"purple\", \"red\", \"orange\", \"yellow\", \"yellow\", \"purple\", \"cyan\"]}, \"link\": {\"source\": [0, 2, 3, 4, 5, 0, 2, 3, 4, 7, 5, 0, 2, 3, 4, 5, 0, 2, 3, 4, 5, 10, 0, 2, 7, 0, 5], \"target\": [1, 1, 1, 1, 1, 6, 6, 6, 6, 6, 6, 8, 8, 8, 8, 8, 9, 9, 9, 9, 9, 11, 12, 12, 12, 13, 13], \"value\": [13.595799711610557, 0.7740918649530276, 2.2637968700217472, 0.7440671421411087, 1.3067423365624857, 3.2251394247337557, 20.155937387345055, 2.942669129080091, 2.1803750336036023, 0.5839975235058952, 1.1871783853715725, 1.6806612553533047, 0.7556276213898215, 15.8593372678625, 1.2238209148106285, 0.6147430089564438, 2.445083649771412, 1.4038595008112653, 4.3113447014347415, 8.222722437582078, 1.0279327273785572, 1.013938276364661, 0.5126360594017929, 0.7225945979822462, 0.5884980056098056, 0.6582891274225275, 0.75641631948772], \"color\": [\"grey\", \"blue\", \"red\", \"orange\", \"cyan\", \"grey\", \"blue\", \"red\", \"orange\", \"purple\", \"cyan\", \"grey\", \"blue\", \"red\", \"orange\", \"cyan\", \"grey\", \"blue\", \"red\", \"orange\", \"cyan\", \"yellow\", \"grey\", \"blue\", \"purple\", \"grey\", \"cyan\"]}}], {\"title\": \"Scottish Referendum Voters who now want Independence\", \"height\": 772, \"font\": {\"size\": 10}}, {\"showLink\": true, \"linkText\": \"Export to plot.ly\"})});</script>"
      ],
      "text/vnd.plotly.v1+html": [
       "<div id=\"0c6960ce-40ec-443f-a630-5e59689ec64b\" style=\"height: 772px; width: 100%;\" class=\"plotly-graph-div\"></div><script type=\"text/javascript\">require([\"plotly\"], function(Plotly) { window.PLOTLYENV=window.PLOTLYENV || {};window.PLOTLYENV.BASE_URL=\"https://plot.ly\";Plotly.newPlot(\"0c6960ce-40ec-443f-a630-5e59689ec64b\", [{\"type\": \"sankey\", \"domain\": {\"x\": [0, 1], \"y\": [0, 1]}, \"orientation\": \"h\", \"valueformat\": \".0f\", \"node\": {\"pad\": 10, \"thickness\": 30, \"line\": {\"color\": \"black\", \"width\": 0}, \"label\": [\"DNV2005\", \"DNV2010\", \"CON2005\", \"LAB2005\", \"LD2005\", \"DK2005\", \"CON2010\", \"UKIP2005\", \"LAB2010\", \"LD2010\", \"SNP2005\", \"SNP2010\", \"UKIP2010\", \"DK2010\"], \"color\": [\"grey\", \"grey\", \"blue\", \"red\", \"orange\", \"cyan\", \"blue\", \"purple\", \"red\", \"orange\", \"yellow\", \"yellow\", \"purple\", \"cyan\"]}, \"link\": {\"source\": [0, 2, 3, 4, 5, 0, 2, 3, 4, 7, 5, 0, 2, 3, 4, 5, 0, 2, 3, 4, 5, 10, 0, 2, 7, 0, 5], \"target\": [1, 1, 1, 1, 1, 6, 6, 6, 6, 6, 6, 8, 8, 8, 8, 8, 9, 9, 9, 9, 9, 11, 12, 12, 12, 13, 13], \"value\": [13.595799711610557, 0.7740918649530276, 2.2637968700217472, 0.7440671421411087, 1.3067423365624857, 3.2251394247337557, 20.155937387345055, 2.942669129080091, 2.1803750336036023, 0.5839975235058952, 1.1871783853715725, 1.6806612553533047, 0.7556276213898215, 15.8593372678625, 1.2238209148106285, 0.6147430089564438, 2.445083649771412, 1.4038595008112653, 4.3113447014347415, 8.222722437582078, 1.0279327273785572, 1.013938276364661, 0.5126360594017929, 0.7225945979822462, 0.5884980056098056, 0.6582891274225275, 0.75641631948772], \"color\": [\"grey\", \"blue\", \"red\", \"orange\", \"cyan\", \"grey\", \"blue\", \"red\", \"orange\", \"purple\", \"cyan\", \"grey\", \"blue\", \"red\", \"orange\", \"cyan\", \"grey\", \"blue\", \"red\", \"orange\", \"cyan\", \"yellow\", \"grey\", \"blue\", \"purple\", \"grey\", \"cyan\"]}}], {\"title\": \"Scottish Referendum Voters who now want Independence\", \"height\": 772, \"font\": {\"size\": 10}}, {\"showLink\": true, \"linkText\": \"Export to plot.ly\"})});</script>"
      ]
     },
     "metadata": {},
     "output_type": "display_data"
    }
   ],
   "source": [
    "data_trace = dict(\n",
    "    type='sankey',\n",
    "    domain = dict(\n",
    "      x =  [0,1],\n",
    "      y =  [0,1]\n",
    "    ),\n",
    "    orientation = \"h\",\n",
    "    valueformat = \".0f\",\n",
    "    node = dict(\n",
    "      pad = 10,\n",
    "      thickness = 30,\n",
    "      line = dict(\n",
    "        color = \"black\",\n",
    "        width = 0\n",
    "      ),\n",
    "      label =  list(nodes_df['id'].values),\n",
    "      color =  [colourmap[x.split(\"2\")[0]] for x in nodes_df['id']]\n",
    "        # scottish_df['Node, Label'].dropna(axis=0, how='any'),\n",
    "#      color = scottish_df['Color']\n",
    "    ),\n",
    "#     link = links\n",
    "    link = dict(\n",
    "        source = source_num,\n",
    "        target = target_num,\n",
    "        value = list(links_df[\"value\"].values),\n",
    "        color = links_df[\"color\"].values,\n",
    "#       source = scottish_df['Source'].dropna(axis=0, how='any'),\n",
    "#       target = scottish_df['Target'].dropna(axis=0, how='any'),\n",
    "#       value = scottish_df['Value'].dropna(axis=0, how='any'),\n",
    "#       color = scottish_df['Link Color'].dropna(axis=0, how='any'),        \n",
    "        \n",
    "#       source = scottish_df['Source'].dropna(axis=0, how='any'),\n",
    "#       target = scottish_df['Target'].dropna(axis=0, how='any'),\n",
    "#       value = scottish_df['Value'].dropna(axis=0, how='any'),\n",
    "#       color = scottish_df['Link Color'].dropna(axis=0, how='any'),\n",
    "  )\n",
    ")\n",
    "\n",
    "layout =  dict(\n",
    "    title = \"Scottish Referendum Voters who now want Independence\",\n",
    "    height = 772,\n",
    "    font = dict(\n",
    "      size = 10\n",
    "    ),    \n",
    ")\n",
    "\n",
    "fig = dict(data=[data_trace], layout=layout)\n",
    "iplot(fig, validate=False)"
   ]
  },
  {
   "cell_type": "code",
   "execution_count": null,
   "metadata": {},
   "outputs": [],
   "source": []
  },
  {
   "cell_type": "code",
   "execution_count": null,
   "metadata": {},
   "outputs": [],
   "source": []
  },
  {
   "cell_type": "code",
   "execution_count": null,
   "metadata": {},
   "outputs": [],
   "source": []
  }
 ],
 "metadata": {
  "anaconda-cloud": {},
  "kernelspec": {
   "display_name": "Python [conda env:BES_analysis]",
   "language": "python",
   "name": "conda-env-BES_analysis-py"
  },
  "language_info": {
   "codemirror_mode": {
    "name": "ipython",
    "version": 3
   },
   "file_extension": ".py",
   "mimetype": "text/x-python",
   "name": "python",
   "nbconvert_exporter": "python",
   "pygments_lexer": "ipython3",
   "version": "3.6.5"
  }
 },
 "nbformat": 4,
 "nbformat_minor": 2
}
