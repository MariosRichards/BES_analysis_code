{
 "cells": [
  {
   "cell_type": "code",
   "execution_count": 3,
   "metadata": {
    "collapsed": true
   },
   "outputs": [],
   "source": [
    "# What's up with people who voted LD in 2010 and UKIP in 2015?\n"
   ]
  },
  {
   "cell_type": "code",
   "execution_count": 4,
   "metadata": {
    "collapsed": true
   },
   "outputs": [],
   "source": [
    "import numpy as np\n",
    "import pandas as pd\n",
    "%matplotlib inline\n",
    "import matplotlib.pyplot as plt\n",
    "import gc\n",
    "import re\n",
    "\n",
    "from sklearn import datasets\n",
    "from sklearn.decomposition import PCA\n",
    "from sklearn.discriminant_analysis import LinearDiscriminantAnalysis\n",
    "\n",
    "from scipy import stats"
   ]
  },
  {
   "cell_type": "code",
   "execution_count": 5,
   "metadata": {
    "collapsed": false
   },
   "outputs": [
    {
     "name": "stdout",
     "output_type": "stream",
     "text": [
      "(31409, 733)\n",
      "Wall time: 13.9 s\n"
     ]
    }
   ],
   "source": [
    "%%time\n",
    "# Load BES Panel for Wave 8\n",
    "BES_Panel = pd.read_stata(\"../BES_analysis_data/BES2015_W8_v1.3.dta\")\n",
    "#(31409, 733)\n",
    "\n",
    "# BES_Panel = pd.read_stata(\"../BES_analysis_data/BES2015_W8_v1.6.dta\")\n",
    "\n",
    "print( BES_Panel.shape )"
   ]
  },
  {
   "cell_type": "code",
   "execution_count": 6,
   "metadata": {
    "collapsed": false
   },
   "outputs": [],
   "source": [
    "a = BES_Panel.columns"
   ]
  },
  {
   "cell_type": "code",
   "execution_count": 7,
   "metadata": {
    "collapsed": false
   },
   "outputs": [
    {
     "data": {
      "text/plain": [
       "['voted2015',\n",
       " 'voteMethodW9',\n",
       " 'profile_past_vote_2005',\n",
       " 'profile_past_vote_2010',\n",
       " 'profile_past_vote_2015']"
      ]
     },
     "execution_count": 7,
     "metadata": {},
     "output_type": "execute_result"
    }
   ],
   "source": [
    "[x for x in a if \"vote\" in x]"
   ]
  },
  {
   "cell_type": "code",
   "execution_count": 8,
   "metadata": {
    "collapsed": false
   },
   "outputs": [
    {
     "data": {
      "text/plain": [
       "['voted2015', 'profile_turnout_2015', 'profile_past_vote_2015']"
      ]
     },
     "execution_count": 8,
     "metadata": {},
     "output_type": "execute_result"
    }
   ],
   "source": [
    "[x for x in a if \"2015\" in x]"
   ]
  },
  {
   "cell_type": "code",
   "execution_count": 9,
   "metadata": {
    "collapsed": false
   },
   "outputs": [],
   "source": [
    "nans = BES_Panel[['profile_past_vote_2010', 'profile_past_vote_2015']].isnull().any(axis=1)"
   ]
  },
  {
   "cell_type": "code",
   "execution_count": 10,
   "metadata": {
    "collapsed": false
   },
   "outputs": [],
   "source": [
    "vote_change = BES_Panel[['profile_past_vote_2010', 'profile_past_vote_2015']][~nans]\n",
    "vote_change.columns = [ \"2010\",\"2015\" ]"
   ]
  },
  {
   "cell_type": "code",
   "execution_count": 13,
   "metadata": {
    "collapsed": false
   },
   "outputs": [],
   "source": [
    "# vote_change['profile_past_vote_2010'].value_counts()"
   ]
  },
  {
   "cell_type": "code",
   "execution_count": 14,
   "metadata": {
    "collapsed": false
   },
   "outputs": [
    {
     "ename": "NameError",
     "evalue": "name 'ld_minus_ukip' is not defined",
     "output_type": "error",
     "traceback": [
      "\u001b[0;31m---------------------------------------------------------------------------\u001b[0m",
      "\u001b[0;31mNameError\u001b[0m                                 Traceback (most recent call last)",
      "\u001b[0;32m<ipython-input-14-e7373b4a3f26>\u001b[0m in \u001b[0;36m<module>\u001b[0;34m()\u001b[0m\n\u001b[0;32m----> 1\u001b[0;31m \u001b[0mBES_Panel\u001b[0m\u001b[1;33m[\u001b[0m\u001b[1;34m'profile_past_vote_2005'\u001b[0m\u001b[1;33m]\u001b[0m\u001b[1;33m.\u001b[0m\u001b[0mloc\u001b[0m\u001b[1;33m[\u001b[0m\u001b[0mld_minus_ukip\u001b[0m\u001b[1;33m]\u001b[0m\u001b[1;33m.\u001b[0m\u001b[0mvalue_counts\u001b[0m\u001b[1;33m(\u001b[0m\u001b[1;33m)\u001b[0m\u001b[1;33m\u001b[0m\u001b[0m\n\u001b[0m",
      "\u001b[0;31mNameError\u001b[0m: name 'ld_minus_ukip' is not defined"
     ]
    }
   ],
   "source": [
    "BES_Panel['profile_past_vote_2005'].loc[ld_minus_ukip].value_counts()"
   ]
  },
  {
   "cell_type": "code",
   "execution_count": null,
   "metadata": {
    "collapsed": true
   },
   "outputs": [],
   "source": []
  },
  {
   "cell_type": "code",
   "execution_count": 15,
   "metadata": {
    "collapsed": false
   },
   "outputs": [
    {
     "data": {
      "text/plain": [
       "United Kingdom Independence Party (UKIP)    132\n",
       "Conservative                                 26\n",
       "Labour                                       21\n",
       "Scottish National Party (SNP)                 6\n",
       "Green Party                                   5\n",
       "Don't know                                    4\n",
       "Other                                         3\n",
       "British National Party (BNP)                  2\n",
       "Liberal Democrat                              1\n",
       "Plaid Cymru                                   0\n",
       "Name: 2015, dtype: int64"
      ]
     },
     "execution_count": 15,
     "metadata": {},
     "output_type": "execute_result"
    }
   ],
   "source": [
    "vote_change[ vote_change[\"2010\"] == \"British National Party (BNP)\" ][\"2015\"].value_counts()"
   ]
  },
  {
   "cell_type": "code",
   "execution_count": 16,
   "metadata": {
    "collapsed": false
   },
   "outputs": [
    {
     "data": {
      "text/plain": [
       "United Kingdom Independence Party (UKIP)    482\n",
       "Conservative                                124\n",
       "Labour                                       50\n",
       "Other                                        19\n",
       "Green Party                                  17\n",
       "Liberal Democrat                             15\n",
       "Scottish National Party (SNP)                 8\n",
       "Don't know                                    7\n",
       "Plaid Cymru                                   4\n",
       "British National Party (BNP)                  1\n",
       "Name: 2015, dtype: int64"
      ]
     },
     "execution_count": 16,
     "metadata": {},
     "output_type": "execute_result"
    }
   ],
   "source": [
    "vote_change[ vote_change[\"2010\"] == \"United Kingdom Independence Party (UKIP)\" ][\"2015\"].value_counts()"
   ]
  },
  {
   "cell_type": "code",
   "execution_count": 18,
   "metadata": {
    "collapsed": false
   },
   "outputs": [
    {
     "data": {
      "text/plain": [
       "Labour                                      1435\n",
       "Liberal Democrat                            1239\n",
       "Conservative                                 700\n",
       "Green Party                                  493\n",
       "United Kingdom Independence Party (UKIP)     431\n",
       "Scottish National Party (SNP)                243\n",
       "Other                                         78\n",
       "Plaid Cymru                                   48\n",
       "Don't know                                    25\n",
       "British National Party (BNP)                   6\n",
       "Name: 2015, dtype: int64"
      ]
     },
     "execution_count": 18,
     "metadata": {},
     "output_type": "execute_result"
    }
   ],
   "source": [
    "vote_change[ vote_change[\"2010\"] == \"Liberal Democrats\" ][\"2015\"].value_counts()"
   ]
  },
  {
   "cell_type": "code",
   "execution_count": 19,
   "metadata": {
    "collapsed": false
   },
   "outputs": [],
   "source": [
    "ld_ukip = vote_change[ (vote_change[\"2010\"] == \"Liberal Democrats\")\n",
    "            & (vote_change[\"2015\"] ==\"United Kingdom Independence Party (UKIP)\") ].index\n",
    "\n",
    "ld = vote_change[ (vote_change[\"2010\"] == \"Liberal Democrats\") ].index\n",
    "\n",
    "ld_minus_ukip = vote_change[ (vote_change[\"2010\"] == \"Liberal Democrats\")\n",
    "            & (vote_change[\"2015\"] !=\"United Kingdom Independence Party (UKIP)\") ].index"
   ]
  },
  {
   "cell_type": "code",
   "execution_count": null,
   "metadata": {
    "collapsed": false
   },
   "outputs": [],
   "source": [
    "BES_Panel.loc[ld_ukip].lr_scale.cat.codes.mean(), BES_Panel.loc[ld_minus_ukip].lr_scale.cat.codes.mean()"
   ]
  },
  {
   "cell_type": "code",
   "execution_count": null,
   "metadata": {
    "collapsed": false
   },
   "outputs": [],
   "source": [
    "BES_Panel.loc[ld_ukip].al_scale.cat.codes.mean(), BES_Panel.loc[ld_minus_ukip].al_scale.cat.codes.mean()"
   ]
  },
  {
   "cell_type": "code",
   "execution_count": null,
   "metadata": {
    "collapsed": false
   },
   "outputs": [],
   "source": [
    "and_stat = stats.anderson_ksamp( [ BES_Panel.loc[ld_ukip].al_scale.cat.codes.values,  BES_Panel.loc[ld].al_scale.cat.codes.values ] )"
   ]
  },
  {
   "cell_type": "code",
   "execution_count": null,
   "metadata": {
    "collapsed": false
   },
   "outputs": [],
   "source": [
    "and_stat"
   ]
  },
  {
   "cell_type": "code",
   "execution_count": null,
   "metadata": {
    "collapsed": false
   },
   "outputs": [],
   "source": [
    "and_stat.significance_level"
   ]
  },
  {
   "cell_type": "code",
   "execution_count": null,
   "metadata": {
    "collapsed": false
   },
   "outputs": [],
   "source": [
    "signif_array = pd.DataFrame(columns = [ \"variable\",\"significance\" ])\n",
    "overrun_errors = []\n",
    "ind = 0\n",
    "for col in BES_Panel.columns:\n",
    "    if BES_Panel[col].dtypes.name ==\"category\":\n",
    "        if (BES_Panel.loc[ld_ukip][col].cat.codes.var()!=0.0)\\\n",
    "        & (BES_Panel.loc[ld][col].cat.codes.var()!=0.0):\n",
    "            try:\n",
    "                and_stat = stats.anderson_ksamp( [BES_Panel.loc[ld_ukip][col].cat.codes.values,\n",
    "                                                  BES_Panel.loc[ld][col].cat.codes.values ] )\n",
    "                signif_array.loc[ind] = [col, and_stat.significance_level ]\n",
    "#                 signif_array.append( and_stat.significance_level )\n",
    "            except:\n",
    "                overrun_errors.append( col )\n",
    "                print( (\"****\", col, \"****\" ) )\n",
    "                signif_array.loc[ind] = [col, -1 ]\n",
    "        else:\n",
    "#             signif_array.append(99999999)\n",
    "            signif_array.loc[ind] = [col, 99999999 ]\n",
    "    ind = ind+1    \n",
    "signif_array"
   ]
  },
  {
   "cell_type": "code",
   "execution_count": null,
   "metadata": {
    "collapsed": false
   },
   "outputs": [],
   "source": [
    "[x for x in BES_Panel if \"personality\" in x]"
   ]
  },
  {
   "cell_type": "code",
   "execution_count": null,
   "metadata": {
    "collapsed": false
   },
   "outputs": [],
   "source": []
  },
  {
   "cell_type": "code",
   "execution_count": null,
   "metadata": {
    "collapsed": false
   },
   "outputs": [],
   "source": [
    "BES_Panel.loc[ld_ukip,'personality_openness'].hist(bins=np.linspace(0,10,11))"
   ]
  },
  {
   "cell_type": "code",
   "execution_count": null,
   "metadata": {
    "collapsed": false
   },
   "outputs": [],
   "source": [
    "BES_Panel.loc[ld_minus_ukip,'personality_openness'].hist(bins=np.linspace(0,10,11))"
   ]
  },
  {
   "cell_type": "code",
   "execution_count": null,
   "metadata": {
    "collapsed": false
   },
   "outputs": [],
   "source": [
    "pd.DataFrame(signif_array_copy).apply(np.log10).hist(bins=100)"
   ]
  },
  {
   "cell_type": "code",
   "execution_count": null,
   "metadata": {
    "collapsed": false
   },
   "outputs": [],
   "source": [
    "significant_values = pd.DataFrame(signif_array_copy)[0].values<.05/600"
   ]
  },
  {
   "cell_type": "code",
   "execution_count": null,
   "metadata": {
    "collapsed": false
   },
   "outputs": [],
   "source": [
    "BES_Panel.columns[significant_values]"
   ]
  },
  {
   "cell_type": "code",
   "execution_count": null,
   "metadata": {
    "collapsed": false
   },
   "outputs": [],
   "source": [
    "BES_Panel.loc[ld_ukip,'al_scale'].value_counts().plot('bar')"
   ]
  },
  {
   "cell_type": "code",
   "execution_count": null,
   "metadata": {
    "collapsed": false
   },
   "outputs": [],
   "source": [
    "BES_Panel.loc[ld,'al_scale'].value_counts().plot('bar')"
   ]
  },
  {
   "cell_type": "code",
   "execution_count": null,
   "metadata": {
    "collapsed": false
   },
   "outputs": [],
   "source": [
    "BES_Panel.loc[ld_ukip,'workingStatus'].value_counts().plot('bar')"
   ]
  },
  {
   "cell_type": "code",
   "execution_count": null,
   "metadata": {
    "collapsed": false
   },
   "outputs": [],
   "source": [
    "BES_Panel.loc[ld,'workingStatus'].value_counts().plot('bar')"
   ]
  },
  {
   "cell_type": "code",
   "execution_count": null,
   "metadata": {
    "collapsed": false
   },
   "outputs": [],
   "source": [
    "col = 'tolUncertain3'\n",
    "and_stat = stats.anderson_ksamp( [BES_Panel.loc[ld_ukip][col].cat.codes.values,\n",
    "                                                  BES_Panel.loc[ld][col].cat.codes.values ] )"
   ]
  },
  {
   "cell_type": "code",
   "execution_count": null,
   "metadata": {
    "collapsed": false
   },
   "outputs": [],
   "source": [
    "and_stat"
   ]
  },
  {
   "cell_type": "code",
   "execution_count": null,
   "metadata": {
    "collapsed": false
   },
   "outputs": [],
   "source": [
    "BES_Panel.loc[ld_ukip,'antiIntellectual'].value_counts().plot('bar')"
   ]
  },
  {
   "cell_type": "code",
   "execution_count": null,
   "metadata": {
    "collapsed": false
   },
   "outputs": [],
   "source": [
    "BES_Panel.loc[ld,'antiIntellectual'].value_counts().plot('bar')"
   ]
  },
  {
   "cell_type": "code",
   "execution_count": null,
   "metadata": {
    "collapsed": false
   },
   "outputs": [],
   "source": [
    "BES_Panel.loc[ld,\"age\"].hist(bins=np.linspace(20,100,40))"
   ]
  },
  {
   "cell_type": "code",
   "execution_count": null,
   "metadata": {
    "collapsed": false
   },
   "outputs": [],
   "source": [
    "BES_Panel.loc[ld_ukip,\"age\"].hist(bins=np.linspace(20,100,40))"
   ]
  },
  {
   "cell_type": "code",
   "execution_count": null,
   "metadata": {
    "collapsed": false
   },
   "outputs": [],
   "source": [
    "BES_Panel.loc[ld,\"euRefVote\"].value_counts().plot('bar')\n"
   ]
  },
  {
   "cell_type": "code",
   "execution_count": null,
   "metadata": {
    "collapsed": false
   },
   "outputs": [],
   "source": [
    "BES_Panel.loc[ld_ukip,\"euRefVote\"].value_counts().plot('bar')"
   ]
  },
  {
   "cell_type": "code",
   "execution_count": null,
   "metadata": {
    "collapsed": false
   },
   "outputs": [],
   "source": [
    "overrun_errors"
   ]
  },
  {
   "cell_type": "code",
   "execution_count": null,
   "metadata": {
    "collapsed": false
   },
   "outputs": [],
   "source": [
    "BES_Panel.loc[ld].dtypes"
   ]
  },
  {
   "cell_type": "code",
   "execution_count": null,
   "metadata": {
    "collapsed": false
   },
   "outputs": [],
   "source": [
    "liberal_democats = BES_Panel[ BES_Panel.columns[ BES_Panel.dtypes ==\"category\" ] ].apply(lambda x: x.cat.codes).loc[ld]\n",
    "liberal_democats.replace(-1,np.nan, inplace=True)"
   ]
  },
  {
   "cell_type": "code",
   "execution_count": null,
   "metadata": {
    "collapsed": false
   },
   "outputs": [],
   "source": [
    "# %%time\n",
    "# from fancyimpute import BiScaler, KNN, NuclearNormMinimization, SoftImpute\n",
    "# X_filled_softimpute = SoftImpute().complete(liberal_democats)\n"
   ]
  },
  {
   "cell_type": "code",
   "execution_count": null,
   "metadata": {
    "collapsed": false
   },
   "outputs": [],
   "source": [
    "from sklearn.preprocessing import StandardScaler\n",
    "import matplotlib.pyplot as plt\n",
    "from sklearn.discriminant_analysis import LinearDiscriminantAnalysis\n",
    "clean_feature_set_std = StandardScaler().fit_transform(X_filled_softimpute)\n",
    "BES_std = pd.DataFrame(clean_feature_set_std,\n",
    "                       columns = liberal_democats.columns,\n",
    "                       index   = liberal_democats.index)\n"
   ]
  },
  {
   "cell_type": "code",
   "execution_count": null,
   "metadata": {
    "collapsed": true
   },
   "outputs": [],
   "source": [
    "# y = X[\"euRefVoteW8\"]==1\n",
    "# X = X.drop(\"euRefVoteW8\",axis=1)\n",
    "# lda = LinearDiscriminantAnalysis(n_components=2)\n",
    "# X_r2 = lda.fit(X, y).transform(X)\n",
    "# print( (X_r.shape, X_r2.shape ) )"
   ]
  },
  {
   "cell_type": "code",
   "execution_count": null,
   "metadata": {
    "collapsed": false
   },
   "outputs": [],
   "source": [
    "# ['profile_past_vote_2010', 'profile_past_vote_2015']\n",
    "lda = LinearDiscriminantAnalysis(n_components=2)\n",
    "y = np.abs(BES_std['profile_past_vote_2015'].loc[ld]-1.299482)<0.1 # True for LD -> UKIP\n",
    "X = BES_std.drop( ['profile_past_vote_2010', 'profile_past_vote_2015'],axis=1  )\n",
    "X_r2 = lda.fit(X, y).transform(X)\n",
    "print( X_r2.shape )"
   ]
  },
  {
   "cell_type": "code",
   "execution_count": null,
   "metadata": {
    "collapsed": false
   },
   "outputs": [],
   "source": [
    "# colors = ['navy', 'turquoise', 'darkorange']\n",
    "# target_names = [\"LD -> not ukip\", \"LD -> ukip\"]\n",
    "# plt.figure()\n",
    "# for color, i, target_name in zip(colors, [0, 1], target_names):\n",
    "#     plt.scatter(X_r2[y == i, 0], X_r2[y == i, 1], alpha=.8, color=color,\n",
    "#                 label=target_name)\n",
    "# plt.legend(loc='best', shadow=False, scatterpoints=1)\n",
    "# plt.title('LDA of IRIS dataset')\n",
    "\n",
    "# plt.show()"
   ]
  },
  {
   "cell_type": "code",
   "execution_count": null,
   "metadata": {
    "collapsed": false
   },
   "outputs": [],
   "source": [
    "pd.DataFrame(lda.coef_.transpose(), index = X.columns ).sort_values(by=0)"
   ]
  },
  {
   "cell_type": "code",
   "execution_count": null,
   "metadata": {
    "collapsed": true
   },
   "outputs": [],
   "source": [
    "# UKIP2015: less people in cities ukip\n",
    "# Not UKIP2015: more people in cities"
   ]
  },
  {
   "cell_type": "code",
   "execution_count": null,
   "metadata": {
    "collapsed": false
   },
   "outputs": [],
   "source": [
    "fig, axes = plt.subplots(1,2,figsize=(15,5))\n",
    "col = 'education'\n",
    "fig.suptitle(col, fontsize=16)\n",
    "BES_Panel.loc[ld_ukip,col].value_counts().plot('bar', ax=axes[0], title = \"LD2010->UKIP2015\")\n",
    "BES_Panel.loc[ld_minus_ukip,col].value_counts().plot('bar', ax=axes[1], title = \"LD2010->NotUKIP2015\")"
   ]
  },
  {
   "cell_type": "code",
   "execution_count": null,
   "metadata": {
    "collapsed": false
   },
   "outputs": [],
   "source": []
  },
  {
   "cell_type": "code",
   "execution_count": null,
   "metadata": {
    "collapsed": false
   },
   "outputs": [],
   "source": [
    "fig, axes = plt.subplots(1,2,figsize=(15,5))\n",
    "col = 'profile_gross_personal'\n",
    "fig.suptitle(col, fontsize=16)\n",
    "BES_Panel.loc[ld_ukip,col].value_counts().sort_index().plot('bar', ax=axes[0], title = \"LD2010->UKIP2015\")\n",
    "BES_Panel.loc[ld_minus_ukip,col].value_counts().sort_index().plot('bar', ax=axes[1], title = \"LD2010->NotUKIP2015\")"
   ]
  },
  {
   "cell_type": "code",
   "execution_count": null,
   "metadata": {
    "collapsed": false
   },
   "outputs": [],
   "source": [
    "fig, axes = plt.subplots(1,2,figsize=(15,5))\n",
    "col = 'ns_sec'\n",
    "fig.suptitle(col, fontsize=16)\n",
    "BES_Panel.loc[ld_ukip,col].value_counts().plot('bar', ax=axes[0], title = \"LD2010->UKIP2015\")\n",
    "BES_Panel.loc[ld_minus_ukip,col].value_counts().plot('bar', ax=axes[1], title = \"LD2010->NotUKIP2015\")"
   ]
  },
  {
   "cell_type": "code",
   "execution_count": null,
   "metadata": {
    "collapsed": false
   },
   "outputs": [],
   "source": [
    "fig, axes = plt.subplots(1,2,figsize=(15,5))\n",
    "col = 'profile_newspaper_readership_201'\n",
    "fig.suptitle(col, fontsize=16)\n",
    "BES_Panel.loc[ld_ukip,col].value_counts().plot('bar', ax=axes[0], title = \"LD2010->UKIP2015\")\n",
    "BES_Panel.loc[ld_minus_ukip,col].value_counts().plot('bar', ax=axes[1], title = \"LD2010->NotUKIP2015\")"
   ]
  },
  {
   "cell_type": "code",
   "execution_count": null,
   "metadata": {
    "collapsed": false
   },
   "outputs": [],
   "source": [
    "fig, axes = plt.subplots(1,2,figsize=(15,5))\n",
    "col = 'lr_scale'\n",
    "fig.suptitle(col, fontsize=16)\n",
    "BES_Panel.loc[ld_ukip,col].value_counts().sort_index().plot('bar', ax=axes[0], title = \"LD2010->UKIP2015\")\n",
    "BES_Panel.loc[ld_minus_ukip,col].value_counts().sort_index().plot('bar', ax=axes[1], title = \"LD2010->NotUKIP2015\")"
   ]
  },
  {
   "cell_type": "code",
   "execution_count": null,
   "metadata": {
    "collapsed": false
   },
   "outputs": [],
   "source": [
    "fig, axes = plt.subplots(1,2,figsize=(15,5))\n",
    "col = 'al_scale'\n",
    "fig.suptitle(col, fontsize=16)\n",
    "BES_Panel.loc[ld_ukip,col].value_counts().sort_index().plot('bar', ax=axes[0], title = \"LD2010->UKIP2015\")\n",
    "BES_Panel.loc[ld_minus_ukip,col].value_counts().sort_index().plot('bar', ax=axes[1], title = \"LD2010->NotUKIP2015\")"
   ]
  },
  {
   "cell_type": "code",
   "execution_count": null,
   "metadata": {
    "collapsed": false
   },
   "outputs": [],
   "source": [
    "fig, axes = plt.subplots(1,2,figsize=(30,10))\n",
    "col = 'age'\n",
    "fig.suptitle(col, fontsize=16)\n",
    "BES_Panel.loc[ld_ukip,col].value_counts().sort_index().astype('int').plot('bar', ax=axes[0], title = \"LD2010->UKIP2015\")\n",
    "BES_Panel.loc[ld_minus_ukip,col].value_counts().sort_index().plot('bar', ax=axes[1], title = \"LD2010->NotUKIP2015\")"
   ]
  },
  {
   "cell_type": "code",
   "execution_count": null,
   "metadata": {
    "collapsed": false
   },
   "outputs": [],
   "source": [
    "fig, axes = plt.subplots(1,2,figsize=(15,5))\n",
    "col = 'profile_past_vote_2005'\n",
    "fig.suptitle(col, fontsize=16)\n",
    "BES_Panel.loc[ld_ukip,col].value_counts().sort_index().astype('int').plot('bar', ax=axes[0], title = \"LD2010->UKIP2015\")\n",
    "BES_Panel.loc[ld_minus_ukip,col].value_counts().sort_index().plot('bar', ax=axes[1], title = \"LD2010->NotUKIP2015\")"
   ]
  },
  {
   "cell_type": "code",
   "execution_count": null,
   "metadata": {
    "collapsed": false
   },
   "outputs": [],
   "source": []
  },
  {
   "cell_type": "code",
   "execution_count": null,
   "metadata": {
    "collapsed": false
   },
   "outputs": [],
   "source": []
  },
  {
   "cell_type": "code",
   "execution_count": null,
   "metadata": {
    "collapsed": false
   },
   "outputs": [],
   "source": [
    "# Create a dataset of 2010 libdems\n",
    "# modify variable to be UKIP/NOT UKIP in 2015\n",
    "# 'profile_past_vote_2015' == 5 is ukip"
   ]
  },
  {
   "cell_type": "code",
   "execution_count": 20,
   "metadata": {
    "collapsed": false
   },
   "outputs": [],
   "source": [
    "liberal_democats = BES_Panel[ BES_Panel.columns[ BES_Panel.dtypes ==\"category\" ] ].apply(lambda x: x.cat.codes).loc[ld]"
   ]
  },
  {
   "cell_type": "code",
   "execution_count": 21,
   "metadata": {
    "collapsed": false
   },
   "outputs": [],
   "source": [
    "liberal_democats = liberal_democats.drop(['profile_past_vote_2010'], axis=1)"
   ]
  },
  {
   "cell_type": "code",
   "execution_count": 22,
   "metadata": {
    "collapsed": false
   },
   "outputs": [],
   "source": [
    "liberal_democats['LDUKIP2015'] = (liberal_democats['profile_past_vote_2015'].loc[ld]==5)"
   ]
  },
  {
   "cell_type": "code",
   "execution_count": 23,
   "metadata": {
    "collapsed": false
   },
   "outputs": [],
   "source": [
    "liberal_democats.fillna(-1).astype('float').to_stata(\"../BES_analysis_data/LiberalDemocats.dta\")"
   ]
  },
  {
   "cell_type": "code",
   "execution_count": 24,
   "metadata": {
    "collapsed": false
   },
   "outputs": [],
   "source": [
    "# liberal_democats.fillna(-1).astype('float')"
   ]
  },
  {
   "cell_type": "code",
   "execution_count": null,
   "metadata": {
    "collapsed": false
   },
   "outputs": [],
   "source": []
  },
  {
   "cell_type": "code",
   "execution_count": null,
   "metadata": {
    "collapsed": false
   },
   "outputs": [],
   "source": []
  },
  {
   "cell_type": "code",
   "execution_count": 25,
   "metadata": {
    "collapsed": false
   },
   "outputs": [
    {
     "ename": "OSError",
     "evalue": "File ../BES_analysis_data/BESW8min.hdf does not exist",
     "output_type": "error",
     "traceback": [
      "\u001b[0;31m---------------------------------------------------------------------------\u001b[0m",
      "\u001b[0;31mOSError\u001b[0m                                   Traceback (most recent call last)",
      "\u001b[0;32m<ipython-input-25-50fbeee29b34>\u001b[0m in \u001b[0;36m<module>\u001b[0;34m()\u001b[0m\n\u001b[0;32m----> 1\u001b[0;31m \u001b[0mBES_min\u001b[0m \u001b[1;33m=\u001b[0m \u001b[0mpd\u001b[0m\u001b[1;33m.\u001b[0m\u001b[0mread_hdf\u001b[0m\u001b[1;33m(\u001b[0m\u001b[1;34m\"../BES_analysis_data/BESW8min.hdf\"\u001b[0m\u001b[1;33m,\u001b[0m \u001b[1;34m\"BESW8min\"\u001b[0m\u001b[1;33m)\u001b[0m\u001b[1;33m\u001b[0m\u001b[0m\n\u001b[0m",
      "\u001b[0;32mC:\\Users\\Marios\\Anaconda3\\envs\\BES_analysis\\lib\\site-packages\\pandas\\io\\pytables.py\u001b[0m in \u001b[0;36mread_hdf\u001b[0;34m(path_or_buf, key, **kwargs)\u001b[0m\n\u001b[1;32m    304\u001b[0m \u001b[1;33m\u001b[0m\u001b[0m\n\u001b[1;32m    305\u001b[0m         \u001b[1;32mif\u001b[0m \u001b[1;32mnot\u001b[0m \u001b[0mexists\u001b[0m\u001b[1;33m:\u001b[0m\u001b[1;33m\u001b[0m\u001b[0m\n\u001b[0;32m--> 306\u001b[0;31m             \u001b[1;32mraise\u001b[0m \u001b[0mIOError\u001b[0m\u001b[1;33m(\u001b[0m\u001b[1;34m'File %s does not exist'\u001b[0m \u001b[1;33m%\u001b[0m \u001b[0mpath_or_buf\u001b[0m\u001b[1;33m)\u001b[0m\u001b[1;33m\u001b[0m\u001b[0m\n\u001b[0m\u001b[1;32m    307\u001b[0m \u001b[1;33m\u001b[0m\u001b[0m\n\u001b[1;32m    308\u001b[0m         \u001b[1;31m# can't auto open/close if we are using an iterator\u001b[0m\u001b[1;33m\u001b[0m\u001b[1;33m\u001b[0m\u001b[0m\n",
      "\u001b[0;31mOSError\u001b[0m: File ../BES_analysis_data/BESW8min.hdf does not exist"
     ]
    }
   ],
   "source": [
    "BES_min = pd.read_hdf(\"../BES_analysis_data/BESW8min.hdf\", \"BESW8min\")"
   ]
  },
  {
   "cell_type": "code",
   "execution_count": null,
   "metadata": {
    "collapsed": false
   },
   "outputs": [],
   "source": [
    "liberal_democats = BES_min.loc[ BES_min['profile_past_vote_2010']==3.0 ]"
   ]
  },
  {
   "cell_type": "code",
   "execution_count": 33,
   "metadata": {
    "collapsed": false
   },
   "outputs": [],
   "source": [
    "liberal_democats['LDUKIP2015'] = liberal_democats['profile_past_vote_2015']==5"
   ]
  },
  {
   "cell_type": "code",
   "execution_count": null,
   "metadata": {
    "collapsed": false
   },
   "outputs": [],
   "source": [
    "# drop 'profile_past_vote_2010', 'profile_past_vote_2015', 'generalElectionVote'\n",
    "liberal_democats = liberal_democats.drop(['profile_past_vote_2010', 'profile_past_vote_2015', 'generalElectionVote'], axis=1)"
   ]
  },
  {
   "cell_type": "code",
   "execution_count": null,
   "metadata": {
    "collapsed": true
   },
   "outputs": [],
   "source": []
  },
  {
   "cell_type": "code",
   "execution_count": null,
   "metadata": {
    "collapsed": false
   },
   "outputs": [],
   "source": [
    "liberal_democats['LDUKIP2015'] = liberal_democats['LDUKIP2015'].astype('float')"
   ]
  },
  {
   "cell_type": "code",
   "execution_count": null,
   "metadata": {
    "collapsed": true
   },
   "outputs": [],
   "source": [
    "liberal_democats.fillna(-1).to_stata(\"../BES_analysis_data/LiberalDemocats_small.dta\")"
   ]
  },
  {
   "cell_type": "code",
   "execution_count": null,
   "metadata": {
    "collapsed": false
   },
   "outputs": [],
   "source": [
    "W9_vars = [x for x in BES_min.columns if \"W9\" in x]\n",
    "liberal_democats = liberal_democats.drop(W9_vars, axis=1)"
   ]
  },
  {
   "cell_type": "code",
   "execution_count": null,
   "metadata": {
    "collapsed": true
   },
   "outputs": [],
   "source": [
    "liberal_democats.fillna(-1).to_stata(\"../BES_analysis_data/LiberalDemocats_small.dta\")"
   ]
  },
  {
   "cell_type": "code",
   "execution_count": null,
   "metadata": {
    "collapsed": false
   },
   "outputs": [],
   "source": []
  },
  {
   "cell_type": "code",
   "execution_count": null,
   "metadata": {
    "collapsed": false
   },
   "outputs": [],
   "source": [
    "# locus1      Many times I feel that I have little influence over the things that happen to me\n",
    "# ○ Strongly disagree 1\n",
    "# ○ Disagree 2\n",
    "# ○ Neither agree nor disagree 3\n",
    "# ○ Agree 4\n",
    "# ○ Strongly agree 5\n",
    "# ○ Don't know 9999\n",
    "\n",
    "\n",
    "# subjClass   Do you ever think of yourself as belonging to any particular class?\n",
    "# ○ Yes, middle class 1\n",
    "# ○ Yes, working class 2\n",
    "# ○ Yes, other (open [othSubjClass]) 3\n",
    "# ○ No 4\n",
    "# ○ Don't know 9999\n",
    "\n",
    "\n",
    "liberal_democats[\"locus1\"].value_counts()\n",
    "\n"
   ]
  },
  {
   "cell_type": "code",
   "execution_count": null,
   "metadata": {
    "collapsed": false
   },
   "outputs": [],
   "source": [
    "liberal_democats[\"subjClass\"].value_counts()"
   ]
  },
  {
   "cell_type": "code",
   "execution_count": 26,
   "metadata": {
    "collapsed": false
   },
   "outputs": [
    {
     "data": {
      "text/plain": [
       "Index(['No', 'Yes, middle class', 'Yes, working class', 'Yes, other',\n",
       "       'Don't know'],\n",
       "      dtype='object')"
      ]
     },
     "execution_count": 26,
     "metadata": {},
     "output_type": "execute_result"
    }
   ],
   "source": [
    "BES_Panel[\"subjClass\"].loc[ld].cat.categories"
   ]
  },
  {
   "cell_type": "code",
   "execution_count": null,
   "metadata": {
    "collapsed": false
   },
   "outputs": [],
   "source": []
  },
  {
   "cell_type": "code",
   "execution_count": null,
   "metadata": {
    "collapsed": false
   },
   "outputs": [],
   "source": []
  },
  {
   "cell_type": "code",
   "execution_count": null,
   "metadata": {
    "collapsed": false
   },
   "outputs": [],
   "source": []
  },
  {
   "cell_type": "code",
   "execution_count": null,
   "metadata": {
    "collapsed": true
   },
   "outputs": [],
   "source": [
    "\n",
    "\n",
    "\n",
    "\n",
    "\n",
    "\n",
    "\n",
    "\n"
   ]
  },
  {
   "cell_type": "code",
   "execution_count": null,
   "metadata": {
    "collapsed": false
   },
   "outputs": [],
   "source": []
  },
  {
   "cell_type": "code",
   "execution_count": null,
   "metadata": {
    "collapsed": false
   },
   "outputs": [],
   "source": [
    "liberal_democats['bestOnMII']"
   ]
  },
  {
   "cell_type": "code",
   "execution_count": 30,
   "metadata": {
    "collapsed": false
   },
   "outputs": [],
   "source": [
    "liberal_democats = BES_Panel.loc[ld]"
   ]
  },
  {
   "cell_type": "code",
   "execution_count": null,
   "metadata": {
    "collapsed": false
   },
   "outputs": [],
   "source": [
    "# (same pattern - like UKIP a lot, dislike LD/Lab/Grn/PC in that order)\n",
    "# [likeLD, likeGrn, likeLab, pccVote1, partyId, likeUKIP\n",
    "\n",
    "# likeCameron - more likely to either Strongly Dislike/be completely neutral\n",
    "# EUIntegrationGreen - more likely to ascribe strongly pro/anti EU integration sentiments to Green Party\n",
    "\n",
    "# polKnowBercow - more likely to just guess Speaker/Home Sec/Chancellor\n",
    "\n",
    "# bestOnMII -> UKIP\n",
    "# MII_text -> imagration\n",
    "\n",
    "# Age -> baby boomer profile (less young people, more old people but only up to a point\n",
    "# subjClass - define as working class (in pref to middle class/no class def)\n",
    "# locus 1 - Many times I feel that I have little influence over the things that happen to me (agree/strongly agree)"
   ]
  },
  {
   "cell_type": "code",
   "execution_count": 38,
   "metadata": {
    "collapsed": false
   },
   "outputs": [],
   "source": [
    "liberal_democats['LDUKIP2015'] = liberal_democats['profile_past_vote_2015']==\"United Kingdom Independence Party (UKIP)\""
   ]
  },
  {
   "cell_type": "code",
   "execution_count": 56,
   "metadata": {
    "collapsed": false
   },
   "outputs": [
    {
     "data": {
      "text/plain": [
       "No party is best able to handle this issue   -0.060049\n",
       "Conservative                                 -0.058684\n",
       "Labour                                       -0.125042\n",
       "Liberal Democrat                             -0.076040\n",
       "Scottish National Party (SNP)                -0.037024\n",
       "Plaid Cymru                                  -0.010374\n",
       "United Kingdom Independence Party (UKIP)      0.512203\n",
       "Green Party                                  -0.061015\n",
       "Other party                                  -0.018959\n",
       "Don't know                                   -0.040676\n",
       "dtype: float64"
      ]
     },
     "execution_count": 56,
     "metadata": {},
     "output_type": "execute_result"
    }
   ],
   "source": [
    "pd.get_dummies(liberal_democats['bestOnMII']).corrwith(liberal_democats['LDUKIP2015'])"
   ]
  },
  {
   "cell_type": "code",
   "execution_count": 57,
   "metadata": {
    "collapsed": false
   },
   "outputs": [
    {
     "data": {
      "text/plain": [
       "No                   -0.050161\n",
       "Yes, middle class    -0.109128\n",
       "Yes, working class    0.162677\n",
       "Yes, other           -0.006760\n",
       "Don't know            0.006820\n",
       "dtype: float64"
      ]
     },
     "execution_count": 57,
     "metadata": {},
     "output_type": "execute_result"
    }
   ],
   "source": [
    "pd.get_dummies(liberal_democats[\"subjClass\"]).corrwith(liberal_democats['LDUKIP2015'])"
   ]
  },
  {
   "cell_type": "code",
   "execution_count": 58,
   "metadata": {
    "collapsed": false
   },
   "outputs": [
    {
     "data": {
      "text/plain": [
       "Strongly disagree            -0.003884\n",
       "Disagree                     -0.057875\n",
       "Neither agree nor disagree   -0.045584\n",
       "Agree                         0.042817\n",
       "Strongly agree                0.076048\n",
       "Don't know                    0.019450\n",
       "dtype: float64"
      ]
     },
     "execution_count": 58,
     "metadata": {},
     "output_type": "execute_result"
    }
   ],
   "source": [
    "pd.get_dummies(liberal_democats[\"locus1\"]).corrwith(liberal_democats['LDUKIP2015'])"
   ]
  },
  {
   "cell_type": "code",
   "execution_count": 60,
   "metadata": {
    "collapsed": false
   },
   "outputs": [
    {
     "data": {
      "text/plain": [
       "Strongly dislike    0.076570\n",
       "1                  -0.004985\n",
       "2                  -0.017630\n",
       "3                  -0.017572\n",
       "4                  -0.007001\n",
       "5                   0.023262\n",
       "6                  -0.047657\n",
       "7                  -0.034751\n",
       "8                  -0.013964\n",
       "9                  -0.028486\n",
       "Strongly like      -0.020467\n",
       "Don't know          0.006730\n",
       "dtype: float64"
      ]
     },
     "execution_count": 60,
     "metadata": {},
     "output_type": "execute_result"
    }
   ],
   "source": [
    "pd.get_dummies(liberal_democats[\"likeCameron\"]).corrwith(liberal_democats['LDUKIP2015'])\n",
    "# strong eff. strongly dislike/weak eff. completely neutral"
   ]
  },
  {
   "cell_type": "code",
   "execution_count": 72,
   "metadata": {
    "collapsed": false
   },
   "outputs": [
    {
     "data": {
      "text/plain": [
       "Strongly dislike    0.155614\n",
       "1                   0.036954\n",
       "2                   0.075085\n",
       "3                   0.026960\n",
       "4                  -0.005618\n",
       "5                  -0.006962\n",
       "6                  -0.047676\n",
       "7                  -0.062448\n",
       "8                  -0.055556\n",
       "9                  -0.048095\n",
       "Strongly like      -0.054225\n",
       "Don't know          0.030274\n",
       "dtype: float64"
      ]
     },
     "execution_count": 72,
     "metadata": {},
     "output_type": "execute_result"
    }
   ],
   "source": [
    "# likeLD or likeGrn/ likeUKIP inverse relationship\n",
    "pd.get_dummies(liberal_democats[\"likeUKIP\"]).corrwith(liberal_democats['LDUKIP2015'])\n",
    "pd.get_dummies(liberal_democats[\"likeLD\"]  ).corrwith(liberal_democats['LDUKIP2015'])\n",
    "pd.get_dummies(liberal_democats[\"likeGrn\"] ).corrwith(liberal_democats['LDUKIP2015'])"
   ]
  },
  {
   "cell_type": "code",
   "execution_count": null,
   "metadata": {
    "collapsed": true
   },
   "outputs": [],
   "source": [
    "# likeLab - dislike labour less than LD/Grn - but not by much\n",
    "pd.get_dummies(liberal_democats[\"likeLab\"]).corrwith(liberal_democats['LDUKIP2015'])\n"
   ]
  },
  {
   "cell_type": "code",
   "execution_count": 64,
   "metadata": {
    "collapsed": false
   },
   "outputs": [
    {
     "data": {
      "text/plain": [
       "Chancellor of the Exchequer        0.021226\n",
       "Deputy Prime Minister              0.009282\n",
       "Leader of the Labour Party        -0.009278\n",
       "Home secretary                     0.030532\n",
       "Speaker of the House of Commons    0.025036\n",
       "Don't know                        -0.003326\n",
       "dtype: float64"
      ]
     },
     "execution_count": 64,
     "metadata": {},
     "output_type": "execute_result"
    }
   ],
   "source": [
    "# polKnowBercow\n",
    "pd.get_dummies(liberal_democats[\"polKnowBercow\"]).corrwith(liberal_democats['LDUKIP2015'])\n",
    "# How the fuck to interpet this?\n",
    "# - Less willing to say \"I don't know\"\n",
    "# - More likely to just guess\n",
    "# - Or more likely to know not the leader of the Labour Party/Dep PM?"
   ]
  },
  {
   "cell_type": "code",
   "execution_count": 69,
   "metadata": {
    "collapsed": false
   },
   "outputs": [
    {
     "data": {
      "text/plain": [
       "Conservative                               -0.005116\n",
       "Labour                                     -0.102004\n",
       "Liberal Democrat                           -0.127534\n",
       "Scottish National Party (SNP)              -0.051014\n",
       "Plaid Cymru                                -0.016795\n",
       "United Kingdom Independence Party (UKIP)    0.528996\n",
       "Green Party                                -0.068919\n",
       "Other                                       0.000318\n",
       "No - none                                   0.026233\n",
       "Don't know                                  0.012972\n",
       "dtype: float64"
      ]
     },
     "execution_count": 69,
     "metadata": {},
     "output_type": "execute_result"
    }
   ],
   "source": [
    "# partyId\n",
    "pd.get_dummies(liberal_democats[\"partyId\"]).corrwith(liberal_democats['LDUKIP2015'])"
   ]
  },
  {
   "cell_type": "code",
   "execution_count": 70,
   "metadata": {
    "collapsed": false
   },
   "outputs": [
    {
     "data": {
      "text/plain": [
       "Mainly leave           0.426457\n",
       "Mainly remain         -0.215373\n",
       "Fairly evenly split   -0.037861\n",
       "Don't know            -0.061004\n",
       "dtype: float64"
      ]
     },
     "execution_count": 70,
     "metadata": {},
     "output_type": "execute_result"
    }
   ],
   "source": [
    "# partyIdEU\n",
    "pd.get_dummies(liberal_democats[\"partyIdEU\"]).corrwith(liberal_democats['LDUKIP2015'])\n"
   ]
  },
  {
   "cell_type": "code",
   "execution_count": 73,
   "metadata": {
    "collapsed": false
   },
   "outputs": [
    {
     "data": {
      "text/plain": [
       "Will not vote                     0.018006\n",
       "The Conservative candidate        0.019499\n",
       "The Labour candidate             -0.105149\n",
       "The Liberal Democrat candidate   -0.057853\n",
       "The Plaid Cymru candidate        -0.020435\n",
       "The UKIP candidate                0.357956\n",
       "The Green candidate              -0.027735\n",
       "Any other candidate               0.018786\n",
       "Don't know                        0.026698\n",
       "dtype: float64"
      ]
     },
     "execution_count": 73,
     "metadata": {},
     "output_type": "execute_result"
    }
   ],
   "source": [
    "# pccVote1\n",
    "pd.get_dummies(liberal_democats[\"pccVote1\"]).corrwith(liberal_democats['LDUKIP2015'])\n",
    "# Lean UKIP, antipathy for Lab/Lib/Grn/PC, a lot of noise"
   ]
  },
  {
   "cell_type": "code",
   "execution_count": 75,
   "metadata": {
    "collapsed": false
   },
   "outputs": [
    {
     "data": {
      "text/plain": [
       "Yes, voted         NaN\n",
       "No, did not vote   NaN\n",
       "Dont know         NaN\n",
       "dtype: float64"
      ]
     },
     "execution_count": 75,
     "metadata": {},
     "output_type": "execute_result"
    }
   ],
   "source": [
    "# profile_turnout_2015\n",
    "pd.get_dummies(liberal_democats[\"profile_turnout_2015\"]).corrwith(liberal_democats['LDUKIP2015'])\n",
    "# um - variance zero - how did this happen?"
   ]
  },
  {
   "cell_type": "code",
   "execution_count": 82,
   "metadata": {
    "collapsed": false,
    "scrolled": true
   },
   "outputs": [
    {
     "data": {
      "text/plain": [
       "Unite fully with the European Union    0.151951\n",
       "1                                      0.023616\n",
       "2                                     -0.011170\n",
       "3                                     -0.038198\n",
       "4                                     -0.062892\n",
       "5                                     -0.022815\n",
       "6                                     -0.009328\n",
       "7                                     -0.010549\n",
       "8                                     -0.006670\n",
       "9                                      0.019685\n",
       "Protect our independence               0.002651\n",
       "Don't know                            -0.008725\n",
       "dtype: float64"
      ]
     },
     "execution_count": 82,
     "metadata": {},
     "output_type": "execute_result"
    }
   ],
   "source": [
    "# \"EUIntegrationGreen\"\n",
    "pd.get_dummies(liberal_democats[\"EUIntegrationGreen\"]).corrwith(liberal_democats['LDUKIP2015'])"
   ]
  },
  {
   "cell_type": "code",
   "execution_count": 90,
   "metadata": {
    "collapsed": false
   },
   "outputs": [
    {
     "data": {
      "text/plain": [
       "<matplotlib.axes._subplots.AxesSubplot at 0x21fa23634a8>"
      ]
     },
     "execution_count": 90,
     "metadata": {},
     "output_type": "execute_result"
    },
    {
     "data": {
      "image/png": "[encoded data removed]",
      "text/plain": [
       "<matplotlib.figure.Figure at 0x21fa23adeb8>"
      ]
     },
     "metadata": {},
     "output_type": "display_data"
    }
   ],
   "source": [
    "liberal_democats[ liberal_democats[\"EUIntegrationGreen\"]==\"Protect our independence\" ][\"likeUKIP\"].value_counts().sort_index().plot('bar')"
   ]
  },
  {
   "cell_type": "code",
   "execution_count": 91,
   "metadata": {
    "collapsed": false
   },
   "outputs": [
    {
     "data": {
      "text/plain": [
       "<matplotlib.axes._subplots.AxesSubplot at 0x21fa24087f0>"
      ]
     },
     "execution_count": 91,
     "metadata": {},
     "output_type": "execute_result"
    },
    {
     "data": {
      "image/png": "[encoded data removed]",
      "text/plain": [
       "<matplotlib.figure.Figure at 0x21fa7a2f080>"
      ]
     },
     "metadata": {},
     "output_type": "display_data"
    }
   ],
   "source": [
    "liberal_democats[ liberal_democats[\"EUIntegrationGreen\"]==\"Unite fully with the European Union\" ][\"likeUKIP\"].value_counts().sort_index().plot('bar')"
   ]
  },
  {
   "cell_type": "code",
   "execution_count": 92,
   "metadata": {
    "collapsed": false
   },
   "outputs": [
    {
     "data": {
      "text/plain": [
       "<matplotlib.axes._subplots.AxesSubplot at 0x21fa8ad60f0>"
      ]
     },
     "execution_count": 92,
     "metadata": {},
     "output_type": "execute_result"
    },
    {
     "data": {
      "image/png": "[encoded data removed]",
      "text/plain": [
       "<matplotlib.figure.Figure at 0x21fa7a9ba90>"
      ]
     },
     "metadata": {},
     "output_type": "display_data"
    }
   ],
   "source": [
    "liberal_democats[ liberal_democats[\"EUIntegrationGreen\"]==\"Protect our independence\" ][\"likeGrn\"].value_counts().sort_index().plot('bar')"
   ]
  },
  {
   "cell_type": "code",
   "execution_count": 100,
   "metadata": {
    "collapsed": false
   },
   "outputs": [
    {
     "data": {
      "text/plain": [
       "__NA__                                                         309\n",
       "EU referendum                                                  231\n",
       "Immigration                                                    157\n",
       "EU Referendum                                                  149\n",
       "Economy                                                        147\n",
       "immigration                                                    142\n",
       "economy                                                        121\n",
       "NHS                                                             91\n",
       "Brexit                                                          91\n",
       "eu referendum                                                   67\n",
       "Europe                                                          66\n",
       "Housing                                                         60\n",
       "Inequality                                                      50\n",
       "The economy                                                     48\n",
       "EU                                                              48\n",
       "the economy                                                     47\n",
       "Referendum                                                      44\n",
       "Eu referendum                                                   40\n",
       "Terrorism                                                       38\n",
       "EU membership                                                   37\n",
       "The EU referendum                                               35\n",
       "referendum                                                      33\n",
       "terrorism                                                       30\n",
       "brexit                                                          29\n",
       "Climate change                                                  27\n",
       "Environment                                                     26\n",
       "Nhs                                                             25\n",
       "nhs                                                             24\n",
       "The EU Referendum                                               23\n",
       "inequality                                                      22\n",
       "                                                              ... \n",
       "the fact that we're not all i n it together i.e. inequality      1\n",
       "Austerity killing growth and public services                     1\n",
       "inequality especially poverty                                    1\n",
       "Public spending cuts                                             1\n",
       "Capitalism.                                                      1\n",
       "The outcome of the referendum                                    1\n",
       "EU rwferendum                                                    1\n",
       "overcrowding                                                     1\n",
       "Immigration/referendum                                           1\n",
       "euro exit                                                        1\n",
       "Whether to leave the EU                                          1\n",
       "lack of democracy                                                1\n",
       "distrust of politicians & the political process                  1\n",
       "the E U voting                                                   1\n",
       "Europe Excit                                                     1\n",
       "Illegal Immigration crisis                                       1\n",
       "nhs funding                                                      1\n",
       "Corrupt self interest in politics                                1\n",
       "racism                                                           1\n",
       "The eu vote                                                      1\n",
       "Staying in the EU!                                               1\n",
       "Terrorists                                                       1\n",
       "Continuing Health Care funding and the NHS                       1\n",
       "capitalism                                                       1\n",
       "Terroism                                                         1\n",
       "the nhs                                                          1\n",
       "Polarisation of views                                            1\n",
       "Minimum wage                                                     1\n",
       "The EU fracas                                                    1\n",
       "In or Out of EU                                                  1\n",
       "Name: MII_text, dtype: int64"
      ]
     },
     "execution_count": 100,
     "metadata": {},
     "output_type": "execute_result"
    }
   ],
   "source": [
    "liberal_democats[\"MII_text\"].loc[ld_minus_ukip][liberal_democats['bestOnMII']!=\"United Kingdom Independence Party (UKIP)\"].value_counts()"
   ]
  },
  {
   "cell_type": "code",
   "execution_count": null,
   "metadata": {
    "collapsed": true
   },
   "outputs": [],
   "source": []
  }
 ],
 "metadata": {
  "kernelspec": {
   "display_name": "Python [conda env:BES_analysis]",
   "language": "python",
   "name": "conda-env-BES_analysis-py"
  },
  "language_info": {
   "codemirror_mode": {
    "name": "ipython",
    "version": 3
   },
   "file_extension": ".py",
   "mimetype": "text/x-python",
   "name": "python",
   "nbconvert_exporter": "python",
   "pygments_lexer": "ipython3",
   "version": "3.5.2"
  }
 },
 "nbformat": 4,
 "nbformat_minor": 0
}
