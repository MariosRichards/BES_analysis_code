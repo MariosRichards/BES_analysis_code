{
 "cells": [
  {
   "cell_type": "code",
   "execution_count": 1,
   "metadata": {
    "collapsed": true
   },
   "outputs": [],
   "source": [
    "# Process BES Panel for Wave 8\n",
    "\n",
    "## WORK IN PROGRESS - run this on all updated BES waves\n",
    "\n",
    "# Assign types to each column variables (mostly automatic - but there's room for manual editing)\n",
    "# Modifies categories (harmoning options, harmonising order, dropping weasel terms)\n",
    "# Creates:\n",
    "# var_type (types for column variables)\n",
    "# BES_numeric (fixed version with only useful columns all transformed into numeric values)\n",
    "    # non-numeric categorical values -> index number of category\n",
    "    # floats -> float\n",
    "    # numeric categories (i.e. income intervals/number of children) -> numeric\n",
    "# cat_dictionary\n",
    "    # so you can get the text categories back from the index values as and when it's necessary\n",
    "# BES_non_numeric\n",
    "    # basically everything else! (mostly meta-data - weights)\n",
    "\n",
    "# LIVE: Run all cells -> ~20s"
   ]
  },
  {
   "cell_type": "code",
   "execution_count": 2,
   "metadata": {
    "collapsed": true
   },
   "outputs": [],
   "source": [
    "import numpy as np\n",
    "import pandas as pd\n",
    "%matplotlib inline\n",
    "import matplotlib.pyplot as plt\n",
    "import gc\n",
    "import re\n",
    "\n",
    "from itertools import cycle\n",
    "from IPython.display import display\n",
    "import pickle, os\n",
    "\n",
    "import seaborn as sns\n",
    "\n",
    "# BES_data_folder = \"../BES_analysis_data/\"\n",
    "# BES_code_folder = \"../BES_analysis_code/\"\n"
   ]
  },
  {
   "cell_type": "code",
   "execution_count": 3,
   "metadata": {
    "collapsed": true
   },
   "outputs": [],
   "source": [
    "# you should clone this git to this subdirectory (in some directory - I call it BES_analysis - doesn't matter though)\n",
    "\n",
    "if os.getcwd().split(os.sep)[-1] != 'BES_analysis_code':\n",
    "    raise Exception(\"Stop! You're in the wrong directory - should be in 'BES_analysis_code'\")\n",
    "\n",
    "BES_code_folder   = \"../BES_analysis_code/\" # we should be here!\n",
    "BES_small_data_files = BES_code_folder + \"small data files\" + os.sep\n",
    "if not os.path.exists( BES_small_data_files ):\n",
    "    os.makedirs( BES_small_data_files )\n",
    "\n",
    "# we should create these if they don't already exist\n",
    "BES_data_folder   = \"../BES_analysis_data/\"\n",
    "if not os.path.exists( BES_data_folder ):\n",
    "    os.makedirs( BES_data_folder )\n",
    "\n",
    "BES_output_folder = \"../BES_analysis_output/\"\n",
    "if not os.path.exists( BES_output_folder ):\n",
    "    os.makedirs( BES_output_folder )"
   ]
  },
  {
   "cell_type": "code",
   "execution_count": 4,
   "metadata": {
    "collapsed": true
   },
   "outputs": [],
   "source": [
    "encoding = \"ISO-8859-1\""
   ]
  },
  {
   "cell_type": "code",
   "execution_count": 5,
   "metadata": {},
   "outputs": [
    {
     "name": "stdout",
     "output_type": "stream",
     "text": [
      "importing Jupyter notebook from Untitled5.ipynb\n"
     ]
    }
   ],
   "source": [
    "import Jupyter_module_loader\n",
    "import Untitled5\n",
    "from Untitled5 import process_dataset"
   ]
  },
  {
   "cell_type": "code",
   "execution_count": 6,
   "metadata": {
    "collapsed": true
   },
   "outputs": [],
   "source": [
    "dataset_name = 'W5_comb'\n",
    "\n",
    "BES_file_manifest = pd.read_csv( BES_small_data_files + \"BES_file_manifest.csv\" )"
   ]
  },
  {
   "cell_type": "code",
   "execution_count": 7,
   "metadata": {},
   "outputs": [],
   "source": [
    "process_dataset(dataset_name)"
   ]
  },
  {
   "cell_type": "code",
   "execution_count": null,
   "metadata": {
    "collapsed": true
   },
   "outputs": [],
   "source": []
  },
  {
   "cell_type": "code",
   "execution_count": null,
   "metadata": {
    "collapsed": true
   },
   "outputs": [],
   "source": []
  },
  {
   "cell_type": "code",
   "execution_count": null,
   "metadata": {
    "collapsed": true
   },
   "outputs": [],
   "source": []
  },
  {
   "cell_type": "code",
   "execution_count": null,
   "metadata": {
    "collapsed": true
   },
   "outputs": [],
   "source": []
  },
  {
   "cell_type": "code",
   "execution_count": null,
   "metadata": {
    "collapsed": true
   },
   "outputs": [],
   "source": []
  },
  {
   "cell_type": "code",
   "execution_count": 8,
   "metadata": {
    "collapsed": true
   },
   "outputs": [],
   "source": [
    "# TEST CODE\n",
    "# Checking to see if different column names have same question set but are assigned different types"
   ]
  },
  {
   "cell_type": "code",
   "execution_count": 9,
   "metadata": {},
   "outputs": [],
   "source": [
    "# # Test to see if pruning \"_wave\" leads to differing variable categories\n",
    "# for key in var_cat_dict_pruned.keys():\n",
    "#     for val in var_cat_dict_pruned[key]:\n",
    "#         for other_key in var_cat_dict_pruned.keys():\n",
    "#             if key==other_key: # don't check same category\n",
    "#                 continue\n",
    "#             if val in var_cat_dict_pruned[other_key]:\n",
    "#                 print(\"problem: {0} {1} {2}\".format(key, val, other_key) )\n",
    "            \n",
    "# # mixing 1 and 5 is fine, because 5 (mis-ordered ordinal) is turned into 1 (correctly ordered ordinal)"
   ]
  },
  {
   "cell_type": "code",
   "execution_count": 10,
   "metadata": {},
   "outputs": [],
   "source": [
    "# # Test to see if further pruning \"_num\" leads to differing variable categories\n",
    "# for key in var_cat_dict_pruned_2.keys():\n",
    "#     for val in var_cat_dict_pruned_2[key]:\n",
    "#         for other_key in var_cat_dict_pruned_2.keys():\n",
    "#             if key==other_key: # don't check same category\n",
    "#                 continue\n",
    "#             if val in var_cat_dict_pruned_2[other_key]:\n",
    "#                 print(\"problem: {0} {1} {2}\".format(key, val, other_key) )\n",
    "            \n",
    "                "
   ]
  },
  {
   "cell_type": "code",
   "execution_count": null,
   "metadata": {
    "collapsed": true
   },
   "outputs": [],
   "source": []
  },
  {
   "cell_type": "code",
   "execution_count": null,
   "metadata": {
    "collapsed": true
   },
   "outputs": [],
   "source": []
  },
  {
   "cell_type": "code",
   "execution_count": null,
   "metadata": {
    "collapsed": true
   },
   "outputs": [],
   "source": []
  },
  {
   "cell_type": "code",
   "execution_count": null,
   "metadata": {
    "collapsed": true
   },
   "outputs": [],
   "source": []
  },
  {
   "cell_type": "code",
   "execution_count": null,
   "metadata": {
    "collapsed": true
   },
   "outputs": [],
   "source": []
  },
  {
   "cell_type": "code",
   "execution_count": 11,
   "metadata": {},
   "outputs": [
    {
     "name": "stdout",
     "output_type": "stream",
     "text": [
      "W13_only\n",
      "W13_comb\n",
      "W12_only\n",
      "W11_only\n",
      "W10_comb\n",
      "W10_only\n",
      "W9_comb\n",
      "W9_only\n",
      "W8_only\n",
      "W8_comb\n",
      "W7_only\n",
      "W7_comb\n",
      "W6_only\n",
      "W6_comb\n",
      "W5_comb\n",
      "W5_only\n",
      "W4_only\n",
      "W4_comb\n",
      "W3_only\n",
      "W3_comb\n",
      "W2_only\n",
      "W1_only\n"
     ]
    }
   ],
   "source": [
    "var_type_all_datasets = pd.DataFrame(columns = [\"dataset_name\",\"dtype\",\"type\",\"pruned\",\"original_cat_list\",\n",
    "                                   \"renamed_cat_list\",\"reordered_cat_list\",\"final_cat_list\",\n",
    "                                   \"dataset_specific_hardcoded_fix\",\n",
    "                                   \"numerical_dont_knows\",\n",
    "                                   \"weasel_words\",\"typos\" ] )\n",
    "\n",
    "for dataset_name in [x for x in BES_file_manifest[\"Name\"] if not (\"strings\" in x)]:\n",
    "    print(dataset_name)\n",
    "\n",
    "    data_subfolder = BES_data_folder + dataset_name + os.sep\n",
    "    \n",
    "#     var_type = pd.read_hdf( data_subfolder + \"var_type.hdf\", \"var_type\")\n",
    "    var_type = pd.read_csv( data_subfolder + \"var_type.csv\", encoding = encoding )\n",
    "    \n",
    "    var_type_all_datasets = var_type_all_datasets.append(var_type)\n",
    "\n",
    "var_type_all_datasets.reset_index(inplace = True)\n",
    "var_type_all_datasets.rename(columns = {'index':'variable_name'},inplace = True)    \n",
    "\n",
    "var_type_all_datasets.to_csv( BES_data_folder + \"var_type_all_datasets.csv\", encoding = encoding)"
   ]
  },
  {
   "cell_type": "code",
   "execution_count": 12,
   "metadata": {
    "collapsed": true
   },
   "outputs": [],
   "source": [
    "# ## COLUMNS THAT EITHER LACK ALL DATA OR HAVE ACTUAL ERRORS\n",
    "# # check back on these periodically - one assumes they will get fixed!\n",
    "# # maybe tell them about them so that they can?\n",
    "\n",
    "# # {'changeIssue1W9', 'conLeaderLikeW9'}\n",
    "# # these variables appear to have disappeared! Fixed in an updated version?\n",
    "\n",
    "# ignore_list = ['whichPartiesHelped_99W6',\n",
    "#                'partyContactGrnW1',\n",
    "#                'partyContactGrnW2',\n",
    "#                'partyContactGrnW3',\n",
    "#                'reasonNotRegistered_noneW2',               \n",
    "#                'reasonNotRegistered_noneW3',\n",
    "#                'reasonNotRegistered_noneW4',\n",
    "#                'reasonNotRegistered_noneW6',\n",
    "#                'reasonNotRegistered_noneW7',\n",
    "#                'reasonNotRegistered_noneW8',\n",
    "#                'reasonNotRegistered_none',\n",
    "#                'partyContactSNPW1',\n",
    "#                'partyContactSNPW2',\n",
    "#                \"locusControlW9\",\n",
    "#                \"generalElecCertaintyW1\", # wave 10 forwards\n",
    "#                \"generalElecCertaintyW2\",\n",
    "#                \"generalElecCertaintyW3\",\n",
    "#                \"londonMayorVoteW7\",\n",
    "#                \"fatherNumEmployeesW4\",\n",
    "#                \"motherNumEmployeesW4\",\n",
    "#                \"profile_pcon_2010_newW3\", # W3_comb: this is parl. constit. ... but by number!\n",
    "#                \"euroElectionVoteYoungW2\", # W3_comb: all NaNs!\n",
    "#                \"profile_GOR_pdlW4\", # W4_comb: misnamed selection, probably fixable \n",
    "#                \"participation_111W5\", ### -->\n",
    "#                \"sharedContentOnline_111W5\",\n",
    "#                \"sharedContentOnline_99W5\", ### <-- W5_comb \"Got a lot worse|Got a little worse\" doesn't look right (indicator vars?)\n",
    "#                \"csplScotRefW3\", ### W5_comb: \"North East\" - just broken!\n",
    "#               ]\n",
    "\n",
    "# #- approveEUW2 'Strongly disapprove|Disapprove|Don't know' - should be \"approve|disapprove|don't know\"??? NOT SURE (distribution weird)\n",
    "# #- whichPartiesHelped_99W6 - answer set = [\"No\"]\n",
    "# #- partyContactGrnW1 ... reasonNotRegistered_noneW8 answer set = [\"No\", \"Don't know\"]\n",
    "# # -partyContactSNPW1, partyContactSNPW2 - answer set = [\"Don't know\"]\n",
    "# # -changeIssue1W9|conLeaderLikeW9|locusControlW9 - answer set = [\"No formal qualifications\"]"
   ]
  },
  {
   "cell_type": "code",
   "execution_count": 13,
   "metadata": {},
   "outputs": [],
   "source": [
    "# var_type_all_datasets = pd.read_csv( BES_data_folder + \"var_type_all_datasets.csv\", encoding = encoding )\n",
    "\n",
    "# BES_file_manifest = pd.read_csv( BES_small_data_files + \"BES_file_manifest.csv\" )\n",
    "# ign_out = pd.DataFrame(columns = [\"dataset_name\",\"variable_name\",\"dtype\",\"cat_all_strings\",\"cat_list\"])\n",
    "# ign_ds = var_type_all_datasets[ var_type_all_datasets[\"variable_name\"].apply(lambda x: x in ignore_list) ][\"dataset_name\"].unique()\n",
    "\n",
    "# for dataset_name in ign_ds:\n",
    "\n",
    "#     manifest = BES_file_manifest[ BES_file_manifest[\"Name\"] == dataset_name ]\n",
    "\n",
    "#     filename = manifest[\"Stata_Filename\"].values[0]\n",
    "\n",
    "#     data_subfolder = BES_data_folder + dataset_name + os.sep\n",
    "\n",
    "#     BES_Panel = pd.read_stata( data_subfolder + filename)\n",
    "\n",
    "#     w13_igns = var_type_all_datasets[ var_type_all_datasets[\"variable_name\"].apply(lambda x: x in ignore_list) ]\\\n",
    "#         [var_type_all_datasets[\"dataset_name\"]==dataset_name]\n",
    "\n",
    "\n",
    "#     for var in w13_igns[\"variable_name\"].values:\n",
    "        \n",
    "#         dtype = BES_Panel[ var ].dtypes.name\n",
    "#         if (dtype == 'category'):\n",
    "#             cat_all_strings = np.all([isinstance(x,str) for x in BES_Panel[ var ].cat.categories])\n",
    "#             if cat_all_strings:\n",
    "#                 cat_list = \"|\".join(BES_Panel[ var ].cat.categories)\n",
    "#                 print(var,\":\" ,'\"'+cat_list+'\"' )\n",
    "#             else:\n",
    "#                 cat_list = BES_Panel[ var ].cat.categories\n",
    "#                 print(var,\":\" ,cat_list )\n",
    "#         else:\n",
    "#             cat_all_strings = np.nan\n",
    "#             cat_list = (BES_Panel[ var ].dropna().unique())\n",
    "#             print(var,\":\" , cat_list )\n",
    "            \n",
    "#         temp_row = pd.DataFrame([[dataset_name,var,dtype,cat_all_strings,cat_list]],\n",
    "#             columns = [\"dataset_name\",\"variable_name\",\"dtype\",\"cat_all_strings\",\"cat_list\"])            \n",
    "#         ign_out = ign_out.append( temp_row )      \n",
    "\n",
    "# ign_out.reset_index( drop = True , inplace = True )        \n",
    "# ign_out.to_csv( BES_data_folder + \"ignore_out.csv\", encoding = encoding )"
   ]
  },
  {
   "cell_type": "code",
   "execution_count": 14,
   "metadata": {
    "collapsed": true
   },
   "outputs": [],
   "source": [
    "# ign_out = pd.read_csv( BES_data_folder + \"ignore_out.csv\", encoding = encoding )\n",
    "\n",
    "# ign_out_dataset_list = pd.DataFrame(columns = [\"dataset_list\",\"variable_name\",\"dtype\",\"cat_all_strings\",\"cat_list\"])\n",
    "# newdf_index = 0\n",
    "# for col in ign_out[\"variable_name\"].unique():\n",
    "#     if re.match(\"soc2010|v1|RandomIDW1|mapNames(W[0-9]+)?\" ,col) is not None:\n",
    "#         continue\n",
    "#     elif re.match( \"pano(W[0-9]+)?|electoratepcon|[a-zA-Z]+10pcon\" , col ) is not None:\n",
    "#         continue\n",
    "#     elif re.match( \"approveEUW2|selfNumEmployeesW6W7W8W9|selfNumEmployeesLastW6W7W8W9\" , col ) is not None:\n",
    "#         continue\n",
    "\n",
    "#     indices = ign_out[ ign_out[\"variable_name\"]==col ].index\n",
    "#     dataset_list = []\n",
    "#     dataset_list.append( ign_out.loc[ indices[0] ][\"dataset_name\"] )  \n",
    "    \n",
    "#     cat_list        = ign_out.loc[ indices[0] ][\"cat_list\"]\n",
    "#     dtype           = ign_out.loc[ indices[0] ][\"dtype\"]\n",
    "#     cat_all_strings = ign_out.loc[ indices[0] ][\"cat_all_strings\"]    \n",
    "    \n",
    "#     if len(indices) > 1:\n",
    "\n",
    "#         for index in indices[1:len(indices)]:\n",
    "# #             if ( not np.all([i==j for i, j in zip(ign_out.loc[ index ][\"cat_list\"], cat_list)]) ):\n",
    "# #                 print( col, cat_list, ign_out.loc[ index ][\"cat_list\"] )\n",
    "#             if ( ign_out.loc[ index ][\"dtype\"] != dtype ):\n",
    "#                 print( col, dtype   , ign_out.loc[ index ][\"dtype\"] )\n",
    "#             if ( not np.isnan(ign_out.loc[ index ][\"cat_all_strings\"]) and\\\n",
    "#                 (ign_out.loc[ index ][\"cat_all_strings\"] != cat_all_strings) ):\n",
    "#                 print( col, cat_all_strings   , ign_out.loc[ index ][\"cat_all_strings\"] )\n",
    "#                 dataset_list.append( ign_out.loc[ index ][\"dataset_name\"] )\n",
    "\n",
    "#     ign_out_dataset_list.loc[newdf_index] = [dataset_list, col, dtype, cat_all_strings, cat_list ]\n",
    "#     newdf_index = newdf_index + 1\n",
    "        \n",
    "        \n",
    "# ign_out_dataset_list.sort_values(by=\"variable_name\").to_csv( BES_data_folder + \"ignore_out_stacked_by_dataset.csv\", encoding = encoding )"
   ]
  },
  {
   "cell_type": "code",
   "execution_count": null,
   "metadata": {
    "collapsed": true
   },
   "outputs": [],
   "source": []
  },
  {
   "cell_type": "code",
   "execution_count": null,
   "metadata": {
    "collapsed": true
   },
   "outputs": [],
   "source": []
  },
  {
   "cell_type": "code",
   "execution_count": 429,
   "metadata": {},
   "outputs": [
    {
     "name": "stdout",
     "output_type": "stream",
     "text": [
      "Wall time: 4min 57s\n"
     ]
    }
   ],
   "source": [
    "%%time\n",
    "dataset_name = \"W7_comb\"\n",
    "\n",
    "manifest = BES_file_manifest[ BES_file_manifest[\"Name\"] == dataset_name ]\n",
    "\n",
    "filename = manifest[\"Stata_Filename\"].values[0]\n",
    "\n",
    "data_subfolder = BES_data_folder + dataset_name + os.sep\n",
    "# global BES_Panel_W7comb\n",
    "BES_Panel_W7comb = pd.read_stata( data_subfolder + filename)"
   ]
  },
  {
   "cell_type": "code",
   "execution_count": 439,
   "metadata": {},
   "outputs": [
    {
     "name": "stdout",
     "output_type": "stream",
     "text": [
      "Wall time: 3min 4s\n"
     ]
    }
   ],
   "source": [
    "%%time\n",
    "dataset_name = \"W6_comb\"\n",
    "\n",
    "manifest = BES_file_manifest[ BES_file_manifest[\"Name\"] == dataset_name ]\n",
    "\n",
    "filename = manifest[\"Stata_Filename\"].values[0]\n",
    "\n",
    "data_subfolder = BES_data_folder + dataset_name + os.sep\n",
    "global BES_Panel\n",
    "BES_Panel = pd.read_stata( data_subfolder + filename)\n"
   ]
  },
  {
   "cell_type": "code",
   "execution_count": 440,
   "metadata": {},
   "outputs": [
    {
     "data": {
      "text/plain": [
       "['Should definitely be illegal',\n",
       " 'Should probably be illegal',\n",
       " 'Should probably be legal',\n",
       " 'Should definitely be legal',\n",
       " '5.0',\n",
       " \"Don't know\"]"
      ]
     },
     "execution_count": 440,
     "metadata": {},
     "output_type": "execute_result"
    }
   ],
   "source": []
  },
  {
   "cell_type": "code",
   "execution_count": 436,
   "metadata": {},
   "outputs": [
    {
     "data": {
      "text/plain": [
       "Yes    22778\n",
       "No      7895\n",
       "2.0        7\n",
       "Name: noDependentsInHousehold, dtype: int64"
      ]
     },
     "execution_count": 436,
     "metadata": {},
     "output_type": "execute_result"
    }
   ],
   "source": [
    "# W7_only\n",
    "col = \"noDependentsInHousehold\"\n",
    "BES_Panel[ col ].value_counts()"
   ]
  },
  {
   "cell_type": "code",
   "execution_count": 434,
   "metadata": {},
   "outputs": [
    {
     "data": {
      "text/plain": [
       "Yes    22986\n",
       "No      7876\n",
       "Name: noDependentsInHousehold, dtype: int64"
      ]
     },
     "execution_count": 434,
     "metadata": {},
     "output_type": "execute_result"
    }
   ],
   "source": [
    "# W7_only\n",
    "col = \"noDependentsInHousehold\"\n",
    "BES_Panel[ col ].value_counts()"
   ]
  },
  {
   "cell_type": "code",
   "execution_count": 417,
   "metadata": {},
   "outputs": [
    {
     "data": {
      "text/plain": [
       "30027"
      ]
     },
     "execution_count": 417,
     "metadata": {},
     "output_type": "execute_result"
    }
   ],
   "source": [
    "BES_Panel[ col ].value_counts().values.sum()"
   ]
  },
  {
   "cell_type": "code",
   "execution_count": 430,
   "metadata": {},
   "outputs": [
    {
     "data": {
      "text/plain": [
       "Don't know            856\n",
       "Somewhat certain      836\n",
       "Not at all certain    564\n",
       "Very certain          461\n",
       "Name: certaintyEUGreenW2, dtype: int64"
      ]
     },
     "execution_count": 430,
     "metadata": {},
     "output_type": "execute_result"
    }
   ],
   "source": [
    "# W7_comb\n",
    "col = \"certaintyEUGreenW2\"\n",
    "BES_Panel_W7comb[ col ].value_counts()\n",
    "# [x for x in BES_Panel_only.columns if \"certaintyEU\" in x]"
   ]
  },
  {
   "cell_type": "code",
   "execution_count": 414,
   "metadata": {},
   "outputs": [
    {
     "data": {
      "text/plain": [
       "Should definitely be illegal    9718\n",
       "Should probably be illegal      7417\n",
       "Should definitely be legal      5267\n",
       "Should probably be legal        4493\n",
       "Don't know                      1615\n",
       "5.0                             1517\n",
       "Name: zeroHourContractW6, dtype: int64"
      ]
     },
     "execution_count": 414,
     "metadata": {},
     "output_type": "execute_result"
    }
   ],
   "source": []
  },
  {
   "cell_type": "code",
   "execution_count": 411,
   "metadata": {},
   "outputs": [
    {
     "data": {
      "text/plain": [
       "Should definitely be illegal    9733\n",
       "Should probably be illegal      7426\n",
       "Should definitely be legal      5278\n",
       "Should probably be legal        4501\n",
       "Don't know                      1615\n",
       "Name: zeroHourContract, dtype: int64"
      ]
     },
     "execution_count": 411,
     "metadata": {},
     "output_type": "execute_result"
    }
   ],
   "source": [
    "# W6_only\n",
    "col = \"zeroHourContract\"\n",
    "BES_Panel[ col ].value_counts()"
   ]
  },
  {
   "cell_type": "code",
   "execution_count": 409,
   "metadata": {},
   "outputs": [
    {
     "data": {
      "text/plain": [
       "Index(['None/ No leader',   'David Cameron',     'Ed Miliband',\n",
       "            'Nick Clegg', 'Nicola Sturgeon',     'Leanne Wood',\n",
       "          'Nigel Farage', 'Natalie Bennett',               222,\n",
       "            'Don't know'],\n",
       "      dtype='object')"
      ]
     },
     "execution_count": 409,
     "metadata": {},
     "output_type": "execute_result"
    }
   ],
   "source": [
    "# col = \"housing\"\n",
    "BES_Panel[ col ].cat.categories\n"
   ]
  },
  {
   "cell_type": "code",
   "execution_count": 386,
   "metadata": {},
   "outputs": [
    {
     "data": {
      "text/plain": [
       "Index([                                                                      'Own  outright',\n",
       "                                                                      'Own  with a mortgage',\n",
       "       'Own (part-own)  through shared ownership scheme (i.e. pay part mortgage, part rent)',\n",
       "                                                             'Rent  from a private landlord',\n",
       "                                                             'Rent  from my local authority',\n",
       "              'Neither  I live with my parents, family or friends but pay some rent to them',\n",
       "                              'Neither  I live rent-free with my parents, family or friends',\n",
       "                                                                                      'Other',\n",
       "                                                                                         9999],\n",
       "      dtype='object')"
      ]
     },
     "execution_count": 386,
     "metadata": {},
     "output_type": "execute_result"
    }
   ],
   "source": [
    "BES_Panel[col].cat.categories"
   ]
  },
  {
   "cell_type": "code",
   "execution_count": 395,
   "metadata": {},
   "outputs": [
    {
     "data": {
      "text/plain": [
       "'Own \\x96 outright|Own \\x96 with a mortgage|Own (part-own) \\x96 through shared ownership scheme (i.e. pay part mortgage, part rent)|Rent \\x96 from a private landlord|Rent \\x96 from my local authority|Neither \\x96 I live with my parents, family or friends but pay some rent to them|Neither \\x96 I live rent-free with my parents, family or friends|Other|9999'"
      ]
     },
     "execution_count": 395,
     "metadata": {},
     "output_type": "execute_result"
    }
   ],
   "source": [
    "BES_Panel[col].cat.rename_categories( BES_Panel[col].cat.categories.map(str),inplace=True )\n",
    "join_list = \"|\".join(  BES_Panel[col].cat.categories )\n",
    "join_list"
   ]
  },
  {
   "cell_type": "code",
   "execution_count": 403,
   "metadata": {},
   "outputs": [
    {
     "data": {
      "text/plain": [
       "['Own \\x96 outright',\n",
       " 'Own \\x96 with a mortgage',\n",
       " 'Own (part-own) \\x96 through shared ownership scheme (i.e. pay part mortgage, part rent)',\n",
       " 'Rent \\x96 from a private landlord',\n",
       " 'Rent \\x96 from my local authority',\n",
       " 'Neither \\x96 I live with my parents, family or friends but pay some rent to them',\n",
       " 'Neither \\x96 I live rent-free with my parents, family or friends',\n",
       " 'Other',\n",
       " '9999']"
      ]
     },
     "execution_count": 403,
     "metadata": {},
     "output_type": "execute_result"
    }
   ],
   "source": [
    "'Own \\x96 outright|Own \\x96 with a mortgage|Own (part-own) \\x96 through shared ownership scheme (i.e. pay part mortgage, part rent)|Rent \\x96 from a private landlord|Rent \\x96 from my local authority|Neither \\x96 I live with my parents, family or friends but pay some rent to them|Neither \\x96 I live rent-free with my parents, family or friends|Other|9999'.split(\"|\")"
   ]
  },
  {
   "cell_type": "code",
   "execution_count": 396,
   "metadata": {},
   "outputs": [
    {
     "data": {
      "text/plain": [
       "['Own - outright',\n",
       " 'Own - with a mortgage',\n",
       " 'Own (part-own) - through shared ownership scheme (i.e. pay part mortgage, part rent)',\n",
       " 'Rent - from a private landlord',\n",
       " 'Rent - from my local authority',\n",
       " 'Neither - I live with my parents, family or friends but pay some rent to them',\n",
       " 'Neither - I live rent-free with my parents, family or friends',\n",
       " 'Other',\n",
       " '9999']"
      ]
     },
     "execution_count": 396,
     "metadata": {},
     "output_type": "execute_result"
    }
   ],
   "source": [
    "fixed_cat_string = fix_a_hat_chars( join_list )\n",
    "fixed_cat_string"
   ]
  },
  {
   "cell_type": "code",
   "execution_count": 400,
   "metadata": {},
   "outputs": [
    {
     "data": {
      "text/plain": [
       "'Own - outright|Own - with a mortgage|Own (part-own) - through shared ownership scheme (i.e. pay part mortgage, part rent)|Rent - from a private landlord|Rent - from my local authority|Neither - I live with my parents, family or friends but pay some rent to them|Neither - I live rent-free with my parents, family or friends|Other|9999'"
      ]
     },
     "execution_count": 400,
     "metadata": {},
     "output_type": "execute_result"
    }
   ],
   "source": [
    "\"|\".join( fixed_cat_string )"
   ]
  },
  {
   "cell_type": "code",
   "execution_count": 384,
   "metadata": {
    "collapsed": true
   },
   "outputs": [],
   "source": [
    "# s.cat.rename_categories([1,2,3])\n",
    "# EUContactRemainConW8|EUContactRemainLabW8|EUContactRemainLDW8|\n",
    "# EUContactRemainSNPW8|EUContactRemainPCW8|EUContactRemainUKIPW8|\n",
    "# EUContactRemainGreenW8|EUContactRemainOthW8|EUContactRemainNoneW8|\n",
    "# EUContactRemainDKW8|EUContactLeaveConW8|EUContactLeaveLabW8|\n",
    "# EUContactLeaveLDW8|EUContactLeaveSNPW8|EUContactLeavePCW8|\n",
    "# EUContactLeaveUKIPW8|EUContactLeaveGreenW8|EUContactLeaveOthW8|\n",
    "# EUContactLeaveNoneW8|EUContactLeaveDKW8\n",
    "\n",
    "# pattern match \"EUContact*****W8\"\n",
    "# debateOneWatchW8|debateTwoWatchW8\n",
    "\n",
    "# \"1.0|2.0|99.0\" -> \n",
    "\n",
    "# euRefVoteSqueezeW7 \"Will not vote|Yes - Leave|Yes - Remain|No - not decided\"\n",
    "#    -> Stay/remain in the EU|Leave the EU|I would/will not vote|Don't know\n",
    "#    HMM - RENAME AND REORDER!\n",
    "\n",
    "# miieuW7\n",
    "# \"Issue stated|Nothing|Don't know\" -> \"Issue stated|None|Don't know\"\n",
    "# MIIEUW8\n",
    "# \"1.0|Nothing|Don't know\" -> \"Issue stated|None|Don't know\"\n",
    "# partyIdEUW7|partyIdEUW8\n",
    "# \"Mainly leave|Mainly remain|Fairly evenly split|Don't know\" -> \"Mainly remain|Fairly evenly divided|Mainly leave|Don't know\"\n",
    "#    HMM - RENAME AND REORDER!\n",
    "\n",
    "# 1. campaignVisionYesW3|campaignVisionNoW3, govtNatSecuritySuccessW4\n",
    "# Very unsuccessful|Fairly unsuccessful|Neither successful nor unsuccessful|Fairly successful|Very successful|Don't know\n",
    "# Very unsuccessful|Somewhat unsuccessful|Neither successful or unsuccessful|Somewhat successful|Very successful|Don't know\n",
    "\n",
    "# Fairly <-> Somewhat\n",
    "\n",
    "# 2. euroTurnoutW1, scotReferendumTurnoutW1|scotReferendumTurnoutW2|welshTurnoutW7|scotTurnoutW7, turnoutUKGeneralW1|turnoutUKGeneralW2|turnoutUKGeneralW3|turnoutUKGeneralW4|turnoutUKGeneralW5|euRefTurnoutW7|euRefTurnoutW8\n",
    "# Very unlikely that I vote|Fairly unlikely|Neither likely nor unlikely|Fairly likely|Very likely that I vote|Don't know\n",
    "# Very unlikely that I would vote|Fairly unlikely|Neither likely nor unlikely|Fairly likely|Very likely that I would vote|Don't know\n",
    "# There are not local elections in my area\n",
    "    #|Very unlikely that I will vote|Fairly unlikely|Neither likely nor unlikely|Fairly likely|Very likely that I will vote|Don't know\n",
    "# Very unlikely that I will vote|Fairly unlikely|Neither likely nor unlikely|Fairly likely|Very likely that I will vote|Don't know\n",
    "\n",
    "# \"Very unlikely that I vote\", \"Very unlikely that I would vote\" ->  \"Very unlikely that I will vote\" \n",
    "\n",
    "rename_cat_dict = {\"North East|North West\": [ \"No\", \"Yes\" ],\n",
    "                   \"1.0|2.0|99.0\": [\"No\", \"Yes\", \"99.0\"],\n",
    "                   \"Will not vote|Yes - Leave|Yes - Remain|No - not decided\":\n",
    "                       ['I would/will not vote', 'Leave the EU','Stay in the EU', \"Don't know\"], \n",
    "                   \"Stay/remain in the EU|Leave the EU|I would/will not vote|Don't know\":\n",
    "                       ['Stay in the EU','Leave the EU',  'I would/will not vote', \"Don't know\"],   # euRefVote    \n",
    "                   \"Stay/remain in the EU|Leave the EU|Don't know\":\n",
    "                       ['Stay in the EU','Leave the EU', \"Don't know\"],   # profile_eurefvote                    \n",
    "                   \"Issue stated|Nothing|Don't know\":  ['Issue stated', 'None', \"Don't know\"],\n",
    "                   \"1.0|Nothing|Don't know\":           ['Issue stated', 'None', \"Don't know\"],\n",
    "                   \"a|b|C1|C2|d|e|Refused|Unknown\" : ['A', 'B', 'C1', 'C2', 'D', 'E', 'Refused', 'Unknown'],\n",
    "                   \"Mainly leave|Mainly remain|Fairly evenly split|Don't know\":\n",
    "                       ['Mainly leave','Mainly remain', 'Fairly evenly divided', \"Don't know\"],\n",
    "                   \"Very unsuccessful|Somewhat unsuccessful|Neither successful or unsuccessful|Somewhat successful|Very successful|Don't know\":\n",
    "                       ['Very unsuccessful', 'Fairly unsuccessful', 'Neither successful nor unsuccessful',\n",
    "                        'Fairly successful', 'Very successful', \"Don't know\"],\n",
    "                   \"Very unlikely that I vote|Fairly unlikely|Neither likely nor unlikely|Fairly likely|Very likely that I vote|Don't know\":\n",
    "                       ['Very unlikely that I will vote', 'Fairly unlikely', 'Neither likely nor unlikely',\n",
    "                        'Fairly likely', 'Very likely that I will vote', \"Don't know\"],\n",
    "                   \"Very unlikely that I would vote|Fairly unlikely|Neither likely nor unlikely|Fairly likely|Very likely that I would vote|Don't know\":\n",
    "                       ['Very unlikely that I will vote', 'Fairly unlikely', 'Neither likely nor unlikely',\n",
    "                        'Fairly likely', 'Very likely that I will vote', \"Don't know\"],\n",
    "                   \"No, did not vote|Yes, voted|3.0|4.0|5.0|Don't know\":   \n",
    "                       [\"Very unlikely that I will vote\", \"Fairly unlikely\", 'Neither likely nor unlikely',\n",
    "                        \"Fairly likely\", \"Very likely that I will vote\", \"Don't know\"], #londonTurnoutW7\n",
    "                   'No, I do not regard myself as belonging to any particular religion.|Yes - Church of England/Anglican/Episcopal|Yes - Roman Catholic|Yes - Presbyterian/Church of Scotland|Yes - Methodist|Yes - Baptist|Yes - United Reformed Church|Yes - Free Presbyterian|Yes - Brethren|Yes - Judaism|Yes - Hinduism|Yes - Islam|Yes - Sikhism|Yes - Buddhism|Yes - Other|Prefer not to say|Yes Orthodox Christian|Yes - Pentecostal (e.g. Assemblies of God, Elim Pentecostal Church, New Testament Church of God, Redeemed Christian Chur|Yes - Evangelical independent/non-denominational (e.g. FIEC, Pioneer, Vineyard, Newfrontiers)':\n",
    "                       [\"No, I do not regard myself as belonging to any particular religion.\",\"Yes - Church of England/Anglican/Episcopal\",\n",
    "                        \"Yes - Roman Catholic\",\"Yes - Presbyterian/Church of Scotland\",\"Yes - Methodist\",\"Yes - Baptist\",\n",
    "                        \"Yes - United Reformed Church\",\"Yes - Free Presbyterian\",\"Yes - Brethren\",\"Yes - Judaism\",\"Yes - Hinduism\",\n",
    "                        \"Yes - Islam\",\"Yes - Sikhism\",\"Yes - Buddhism\",\"Yes - Other\",\"Prefer not to say\",\"Yes - Orthodox Christian\",\n",
    "                        \"Yes - Pentecostal\",\"Yes - Evangelical /independent/non-denominational\"], #xprofile_religionW10\n",
    "                   'No, I do not regard myself as belonging to any particular religion.|Yes - Church of England/Anglican/Episcopal|Yes - Roman Catholic|Yes - Presbyterian/Church of Scotland|Yes - Methodist|Yes - Baptist|Yes - United Reformed Church|Yes - Free Presbyterian|Yes - Brethren|Yes - Judaism|Yes - Hinduism|Yes - Islam|Yes - Sikhism|Yes - Buddhism|Yes - Other|Prefer not to say|Yes - Orthodox Christian|Yes - Pentecostal (e.g. Assemblies of God, Elim Pentecostal Church, New Testament Church of God, Redeemed Christian Chur|Yes - Evangelical - independent/non-denominational (e.g. FIEC, Pioneer, Vineyard, Newfrontiers)':\n",
    "                       [\"No, I do not regard myself as belonging to any particular religion.\",\"Yes - Church of England/Anglican/Episcopal\",\n",
    "                        \"Yes - Roman Catholic\",\"Yes - Presbyterian/Church of Scotland\",\"Yes - Methodist\",\"Yes - Baptist\",\n",
    "                        \"Yes - United Reformed Church\",\"Yes - Free Presbyterian\",\"Yes - Brethren\",\"Yes - Judaism\",\"Yes - Hinduism\",\n",
    "                        \"Yes - Islam\",\"Yes - Sikhism\",\"Yes - Buddhism\",\"Yes - Other\",\"Prefer not to say\",\"Yes - Orthodox Christian\",\n",
    "                        \"Yes - Pentecostal\",\"Yes - Evangelical /independent/non-denominational\"], #xprofile_religionW10                   \n",
    "                   'Own - outright|Own - with a mortgage|Own (part-own) - through shared ownership scheme (i.e. pay part mortgage, part rent)|Rent - from a private landlord|Rent - from my local authority|Rent - from a housing association|Neither - I live with my parents, family or friends but pay some rent to them|Neither - I live rent-free with my parents, family or friends|Other|9999':\n",
    "                       [ 'Own outright',\n",
    "                         'Own with a mortgage',\n",
    "                         'Own (part-own) through shared ownership scheme (i.e. pay part mortgage, part rent)',\n",
    "                         'Rent from a private landlord',\n",
    "                         'Rent from my local authority',\n",
    "                         'Rent from a housing association',\n",
    "                         'Neither I live with my parents, family or friends but pay some rent to them',\n",
    "                         'Neither I live rent-free with my parents, family or friends',\n",
    "                         'Other',\n",
    "                         '9999'], #profile_house_tenureW11|profile_house_tenureW12|profile_house_tenureW13\n",
    "                   \"I voted 'No' (Scotland should not be an independent country)|I voted 'Yes' (Scotland should be an independent country)|111.0|Don't know\":\n",
    "                       [\"No\",\"Yes\",\"Did not vote\",\"Don't know\"], # referendumrecall\n",
    "                   \"Voted Yes|Voted No|Did not vote|Can't remember\":\n",
    "                       [\"Yes\",\"No\",\"Did not vote\",\"Don't know\"], # scotRefVoteW4_\n",
    "                   \"No|Yes|3.0|Don't know\":\n",
    "                       [\"No\",\"Yes\",\"Did not vote\",\"Don't know\"], # regretsIHaveAFewEUW10|regretsIHaveAFewEUW11   \n",
    "                   \"No|Yes|3|Don't know\":\n",
    "                       [\"No\",\"Yes\",\"Did not vote\",\"Don't know\"], # regretsIHaveAFewEU W11_only|regretsIHaveAFew W10_only \n",
    "                   \"Professional or higher technical work - work that requires at least degree-level qualifications (e.g. doctor, accountant|Manager or Senior Administrator (e.g. company director, finance manager, personnel manager, senior sales manager, senior|Clerical (e.g. clerk, secretary)|Sales or Services (e.g. commercial traveller, shop assistant, nursery nurse, care assistant, paramedic)|Foreman or Supervisor of Other Workers (e.g building site foreman, supervisor of cleaning workers)|Skilled Manual Work (e.g. plumber, electrician, fitter)|Semi-Skilled or Unskilled Manual Work (e.g. machine operator, assembler, postman, waitress, cleaner, labourer, driver, b|Other|Have never worked\":\n",
    "                       ['Professional or higher technical work / higher managerial - work that requires at least degree-level qualifications (e.g',\n",
    "                        'Manager or Senior Administrator / intermediate managerial / professional (e.g. company director, finance manager, person',\n",
    "                        'Clerical/junior managerial/professional/administrator (e.g. office worker, student doctor, sales person, clerk, secretar',\n",
    "                        'Sales or Services (e.g. commercial traveller, shop assistant, nursery nurse, care assistant, paramedic)',\n",
    "                        'Foreman or Supervisor of Other Workers (e.g. building site foreman, supervisor of cleaning workers)',\n",
    "                        'Skilled Manual Work (e.g. plumber, electrician, fitter)',\n",
    "                        'Semi-Skilled or Unskilled Manual Work (e.g. machine operator, assembler, postman, waitress, cleaner, labourer, driver, b',\n",
    "                        'Other',\n",
    "                        'Have never worked'], # work_type -> profile_work_typeW7\n",
    "                   \"No formal qualifications|Youth training certificate/skillseekers|Recognised trade apprenticeship completed|Clerical and commercial|City & Guilds certificate|City & Guilds certificate - advanced|onc|CSE grades 2-5|CSE grade 1, GCE O level, GCSE, School Certificate|Scottish Ordinary/ Lower Certificate|GCE A level or Higher Certificate|Scottish Higher Certificate|Nursing qualification (eg SEN, SRN, SCM, RGN)|Teaching qualification (not degree)|University diploma|University or CNAA first degree (eg BA, B.Sc, B.Ed)|University or CNAA higher degree (eg M.Sc, Ph.D)|Other technical, professional or higher qualification|Don't know|Prefer not to say\":\n",
    "                       ['No formal qualifications','Youth training certificate/skillseekers','Recognised trade apprenticeship completed',\n",
    "                        'Clerical and commercial','City and Guild certificate','City and Guild certificate - advanced','onc','CSE grades 2-5',\n",
    "                        'CSE grade 1, GCE O level, GCSE, School Certificate','Scottish Ordinary/ Lower Certificate','GCE A level or Higher Certificate',\n",
    "                        'Scottish Higher Certificate','Nursing qualification (eg SEN, SRN, SCM, RGN)','Teaching qualification (not degree)',\n",
    "                        'University diploma','University or CNAA first degree (eg BA, B.Sc, B.Ed)','University or CNAA higher degree (eg M.Sc, Ph.D)',\n",
    "                        'Other technical, professional or higher qualification',\"Don't know\",'Prefer not to say'], # W6_comb: qeducationW6\n",
    "                   \"Strongly disapprove|Disapprove|Don't know\":\n",
    "                       [\"Approve\",\"Disapprove\",\"Don't know\"], # approveEUW2 # W7_comb, W10_comb, W13_comb, W8_comb, W9_comb\n",
    "                   '1 to 24 employees|25 to 499 employees|500 or more employees|':\n",
    "                       ['1 to 24 employees','25 to 499 employees','500 or more employees',\"Don't know\"], #fatherNumEmployees,motherNumEmployees #W6_comb,W5_comb,W5_only,W3_comb\n",
    "                   \"Yes, voted|No, did not vote|Don't know\":\n",
    "                       ['Yes',\"No\",\"Don't know\"],\n",
    "                   \"No, did not vote|Yes, voted|Don't know\":\n",
    "                       ['No','Yes',\"Don't know\"],\n",
    "                   \"No, did not vote|Yes, voted|2.0\":\n",
    "                       ['No','Yes',\"Don't know\"],\n",
    "                   \"Strongly disagree|Disagree|Neither nor disagree|Agree|Strongly agree|Don't know\":\n",
    "                       [\"Strongly disagree\",\"Disagree\",\"Neither agree nor disagree\",\"Agree\",\"Strongly agree\",\"Don't know\"],# euFinancialHelpW2 W3-6_comb\n",
    "                   \"I am very unsure what will happen|I am quite unsure what will happen|I am quite sure what will happen|I am very sure what will happen|Don't know\":\n",
    "                       [\"I am very unsure what would happen\",\"I am quite unsure what would happen\",\"I am quite sure what would happen\",\"I am very sure what would happen\",\"Don't know\"], # certaintyScotUnionW3 W3-5_comb\n",
    "                   \"0.0|1.0|2.0|3.0|4.0|5.0|6.0|7.0|997.0\":\n",
    "                       [\"0 days\",\"1 day\",\"2 days\",\"3 days\",\"4 days\",\"5 days\",\"6 days\",\"7 days\",\"Don't know\"], # discussPolDaysW5\tW5_comb\n",
    "                   \"A major transfer of powers from Westminster to the Scottish Parliament (\\\"devo-max\\\")|Some powers will be transferred but well short of \\\"devo-max\\\"|No change to the relationship between Westminster and the Scottish Parliament\":\n",
    "                       [\"A major transfer of powers from Westminster to the Scottish Parliament (devo-max)\",\"Some powers will be transferred but well short of devo-max\",\"No change to the relationship between Westminster and the Scottish Parliament\"], # expectationManipCheckW1 # W13,10,9,8,7 vs W6-3_comb\n",
    "                   \"No, I did not vote|Yes, I voted|There wasn't a local election in my area|Don't know\":\n",
    "                       [\"No, did not vote\",\"Yes, voted\",\"There wasn't a local election in my area\",\"Don't know\"], # localTurnoutRetroW2 W3-6_comb\n",
    "                   \"Focuses mainly on criticising other parties|2.0|3.0|4.0|Focuses mainly on putting forward their own policies and personalities|Don't know\":\n",
    "                       [\"1 - Focused mainly on criticising other parties\",\"2.0\",\"3.0\",\"4.0\",\"5 - Focused mainly on putting forward their own policies and personalities\",\"Don't know\"], # <party>ToneW5 # W5-6_comb, W5_only\n",
    "                   \"Environmental Policy|Defence|Education|Pensions\":\n",
    "                       [\"No, I think they *will not* vote\",\"Yes, I think they *will* vote\",\"They are not eligible to vote\",\"Don't know\"], # discussantturnoutName1-3W4 # W4-5_comb\n",
    "                   \"Employers in large organisations and higher managerial|Higher professional occupations|Lower professional and managerial and higher supervisory|Intermediate occupations|Employers in small organisations and own account workers|Lower suprivsory and technical occupations|Semi-routine occupations|Routine occupations\":\n",
    "                       ['Employers in large organisations and higher managerial', 'Higher professional occupations',\n",
    "                        'Lower professional and managerial and higher supervisory', 'Intermediate occupations',\n",
    "                        'Employers in small organisations and own account workers', 'Lower supervisory and technical occupations',\n",
    "                        'Semi-routine occupations', 'Routine occupations'], # ns_sec_analytic\t W5_only, W3-6_comb                   \n",
    "                   \"Employers in large organisations and higher managerial|Higher professional occupations|Lower professional and managerail and higher supervisory|Intermediate occupations|Employers in small organisations and own account workers|Lower suprivsory and technical occupations|Semi-routine occupations|Routine occupations\":\n",
    "                       ['Employers in large organisations and higher managerial', 'Higher professional occupations',\n",
    "                        'Lower professional and managerial and higher supervisory', 'Intermediate occupations',\n",
    "                        'Employers in small organisations and own account workers', 'Lower supervisory and technical occupations',\n",
    "                        'Semi-routine occupations', 'Routine occupations'], # ns_sec_analytic\t W5_only, W3-6_comb    # v slight typo!\n",
    "                   \"A major transfer of powers from Westminster to the Scottish Parliament (\\\"devo-max\\\")|Some powers will be transferred but well short of \\\"devo-max\\\"|No change to the relationship between Westminster and the Scottish Parliament|Don't know\":\n",
    "                       ['A major transfer of powers from Westminster to the Scottish Parliament (devo-max)',\n",
    "                        'Some powers will be transferred but well short of devo-max',\n",
    "                        'No change to the relationship between Westminster and the Scottish Parliament',\"Don't know\"], # expectationManipCheckW1 W3-6_comb\n",
    "                   \"Employers in large establishments|Higher managerial and administrative occupations|L3.1 'Traditional' employees|L3.2 'New' employees|L3.3 'Traditional' self-employed|L3.4 'New' self-employed|L4.1 'Traditional' employees|L4.2 'New' employees|L4.3 'Traditional' self-employed|L4.4 'New' self-employed|Lower managerial and administrative occupations|Higher supervisory occupations|L7.1 Intermediate clerical and administrative occupations|L7.2 Intermediate sales and service occupations|L7.3 Intermediate technical and auxiliary occupations|L7.4 Intermediate engineering occupations|L8.1 Employers in small establishments in industry, commerce, services etc.|L8.2 Employers in small establishments in agriculture|L9.1 Own account workers (non-professional)|L9.2 Own account workers (agriculture)|Lower supervisory occupations|L11.1 Lower technical craft occupations|L11.2 Lower technical process operative occupations|L12.1 Semi-routine sales occupations|L12.2 Semi-routine service occupations|L12.3 Semi-routine technical occupations|L12.4 Semi-routine operative occupations|L12.5 Semi-routine agricultural occupations|L12.6 Semi-routine clerical occupations|L12.7 Semi routine childcare occupations|L13.1 Routine sales and service occupations|L13.2 Routine production occupations|L13.3 Routine technical occupations|L13.4 Routine operative occupations|L13.5 Routine agricultural occupations\":\n",
    "                       ['Employers in large establishments', 'Higher managerial and administrative occupations',\n",
    "                        'L3.1 Traditional employees', 'L3.2 New employees', 'L3.3 Traditional self-employed',\n",
    "                        'L3.4 New self-employed', 'L4.1 Traditional employees', 'L4.2 New employees',\n",
    "                        'L4.3 Traditional self-employed', 'L4.4 New self-employed', 'Lower managerial and administrative occupations',\n",
    "                        'Higher supervisory occupations', 'L7.1 Intermediate clerical and administrative occupations',\n",
    "                        'L7.2 Intermediate sales and service occupations', 'L7.3 Intermediate technical and auxiliary occupations',\n",
    "                        'L7.4 Intermediate engineering occupations', 'L8.1 Employers in small establishments in industry, commerce, services etc.',\n",
    "                        'L8.2 Employers in small establishments in agriculture', 'L9.1 Own account workers (non-professional)',\n",
    "                        'L9.2 Own account workers (agriculture)', 'Lower supervisory occupations', 'L11.1 Lower technical craft occupations',\n",
    "                        'L11.2 Lower technical process operative occupations', 'L12.1 Semi-routine sales occupations',\n",
    "                        'L12.2 Semi-routine service occupations', 'L12.3 Semi-routine technical occupations', 'L12.4 Semi-routine operative occupations',\n",
    "                        'L12.5 Semi-routine agricultural occupations', 'L12.6 Semi-routine clerical occupations', 'L12.7 Semi routine childcare occupations',\n",
    "                        'L13.1 Routine sales and service occupations', 'L13.2 Routine production occupations', 'L13.3 Routine technical occupations',\n",
    "                        'L13.4 Routine operative occupations', 'L13.5 Routine agricultural occupations'],\n",
    "                   \"Employers in large establishments|Higher managerial and administrative occupations|L3.1 ?Traditional? employees|L3.2 ?New? employees|L3.3 ?Traditional? self-employed|L3.4 ?New? self-employed|L4.1 ?Traditional? employees|L4.2 ?New? employees|L4.3 ?Traditional? self-employed|L4.4 ?New? self-employed|Lower managerial and administrative occupations|Higher supervisory occupations|L7.1 Intermediate clerical and administrative occupations|L7.2 Intermediate sales and service occupations|L7.3 Intermediate technical and auxiliary occupations|L7.4 Intermediate engineering occupations|L8.1 Employers in small establishments in industry, commerce, services etc.|L8.2 Employers in small establishments in agriculture|L9.1 Own account workers (non-professional)|L9.2 Own account workers (agriculture)|Lower supervisory occupations|L11.1 Lower technical craft occupations|L11.2 Lower technical process operative occupations|L12.1 Semi-routine sales occupations|L12.2 Semi-routine service occupations|L12.3 Semi-routine technical occupations|L12.4 Semi-routine operative occupations|L12.5 Semi-routine agricultural occupations|L12.6 Semi-routine clerical occupations|L12.7 Semi routine childcare occupations|L13.1 Routine sales and service occupations|L13.2 Routine production occupations|L13.3 Routine technical occupations|L13.4 Routine operative occupations|L13.5 Routine agricultural occupations\":\n",
    "                       ['Employers in large establishments', 'Higher managerial and administrative occupations',\n",
    "                        'L3.1 Traditional employees', 'L3.2 New employees', 'L3.3 Traditional self-employed',\n",
    "                        'L3.4 New self-employed', 'L4.1 Traditional employees', 'L4.2 New employees',\n",
    "                        'L4.3 Traditional self-employed', 'L4.4 New self-employed', 'Lower managerial and administrative occupations',\n",
    "                        'Higher supervisory occupations', 'L7.1 Intermediate clerical and administrative occupations',\n",
    "                        'L7.2 Intermediate sales and service occupations', 'L7.3 Intermediate technical and auxiliary occupations',\n",
    "                        'L7.4 Intermediate engineering occupations', 'L8.1 Employers in small establishments in industry, commerce, services etc.',\n",
    "                        'L8.2 Employers in small establishments in agriculture', 'L9.1 Own account workers (non-professional)',\n",
    "                        'L9.2 Own account workers (agriculture)', 'Lower supervisory occupations', 'L11.1 Lower technical craft occupations',\n",
    "                        'L11.2 Lower technical process operative occupations', 'L12.1 Semi-routine sales occupations',\n",
    "                        'L12.2 Semi-routine service occupations', 'L12.3 Semi-routine technical occupations', 'L12.4 Semi-routine operative occupations',\n",
    "                        'L12.5 Semi-routine agricultural occupations', 'L12.6 Semi-routine clerical occupations', 'L12.7 Semi routine childcare occupations',\n",
    "                        'L13.1 Routine sales and service occupations', 'L13.2 Routine production occupations', 'L13.3 Routine technical occupations',\n",
    "                        'L13.4 Routine operative occupations', 'L13.5 Routine agricultural occupations'],\n",
    "                   \"1|2\":\n",
    "                       [\"No\",\"Yes\"], # tryReduceImmigDKW4, achieveReduceImmigUKIPW4, achieveReduceImmigGrnW4, achieveReduceImmigDKW4, tryReduceInequalityDKW4, successReduceInequalityDKW4 # W4-5_comb # sharedContentOnline_1-5W4 W5_comb # voteMethodEurope_dkW2, discussantsAskedYouToVote_DKW2 ,discussantsAccompaniedVote_dkW2, referendumContact_dkW2 # W3_comb\n",
    "                   \"1.0|2.0\":\n",
    "                       [\"No\",\"Yes\"], # tryReduceImmigDKW4, achieveReduceImmigUKIPW4, achieveReduceImmigGrnW4, achieveReduceImmigDKW4, tryReduceInequalityDKW4, successReduceInequalityDKW4 # W4-5_comb # sharedContentOnline_1-5W4 W5_comb # voteMethodEurope_dkW2, discussantsAskedYouToVote_DKW2 ,discussantsAccompaniedVote_dkW2, referendumContact_dkW2 # W3_comb\n",
    "                   \"Should definitely be illegal|Should probably be illegal|Should probably be legal|Should definitely be legal|5.0\":\n",
    "                       [\"Should definitely be illegal\",\"Should probably be illegal\",\"Should probably be legal\",\"Should definitely be legal\",\"Don't know\"], # zeroHourContractW6\n",
    "                  }\n",
    "\n",
    "\n",
    "rename_variable_dict = pd.DataFrame.from_dict( {k : \"|\".join(v) for k, v in rename_cat_dict.items()} , orient='index' ).reset_index()\n",
    "rename_variable_dict.columns = [\"original_cat_list\",\"renameed_cat_list\"]\n",
    "rename_variable_dict.to_csv( BES_small_data_files + \"rename_variable_dict.csv\" )\n",
    "\n",
    "def re_name(ques):\n",
    "    if ques in rename_cat_dict.keys():\n",
    "        return \"|\".join( rename_cat_dict[ques] )\n",
    "    else:\n",
    "        return ques"
   ]
  },
  {
   "cell_type": "code",
   "execution_count": 361,
   "metadata": {},
   "outputs": [
    {
     "data": {
      "text/plain": [
       "Scotland should become an independent country    2490\n",
       "111.0                                            2424\n",
       "99.0                                              357\n",
       "2.0                                                42\n",
       "Name: scotReferendumIntentionW6, dtype: int64"
      ]
     },
     "execution_count": 361,
     "metadata": {},
     "output_type": "execute_result"
    }
   ],
   "source": [
    "col = \"scotReferendumIntentionW6\"\n",
    "BES_Panel[ col ].value_counts()\n",
    "# full_set = BES_Panel[ col ].cat.categories\n",
    "# full_set"
   ]
  },
  {
   "cell_type": "code",
   "execution_count": 362,
   "metadata": {},
   "outputs": [
    {
     "data": {
      "text/plain": [
       "Index(['Scotland should become an independent country', 2.0, 99.0, 111.0], dtype='object')"
      ]
     },
     "execution_count": 362,
     "metadata": {},
     "output_type": "execute_result"
    }
   ],
   "source": [
    "BES_Panel[ col ].cat.categories"
   ]
  },
  {
   "cell_type": "code",
   "execution_count": 351,
   "metadata": {},
   "outputs": [
    {
     "data": {
      "text/plain": [
       "0                                   NaN\n",
       "1                                   NaN\n",
       "2                                   NaN\n",
       "3                                   NaN\n",
       "4                                   NaN\n",
       "5                                   NaN\n",
       "6                                   NaN\n",
       "7                                   NaN\n",
       "8                                   NaN\n",
       "9                                   NaN\n",
       "10                                  NaN\n",
       "11                                  NaN\n",
       "12                                  NaN\n",
       "13                                  NaN\n",
       "14                                  NaN\n",
       "15                                  NaN\n",
       "16                                  NaN\n",
       "17                                  NaN\n",
       "18                                  NaN\n",
       "19                                  NaN\n",
       "20                                  NaN\n",
       "21                                  NaN\n",
       "22                                  NaN\n",
       "23                                  NaN\n",
       "24                                  NaN\n",
       "25                                  NaN\n",
       "26                                  NaN\n",
       "27                                  NaN\n",
       "28                                  NaN\n",
       "29                                  NaN\n",
       "                      ...              \n",
       "36513                        Dont know\n",
       "36514                        Dont know\n",
       "36515    They were not eligible to vote\n",
       "36516                               NaN\n",
       "36517                   Yes, they voted\n",
       "36518                        Dont know\n",
       "36519                   No, didnt vote\n",
       "36520                               NaN\n",
       "36521                               NaN\n",
       "36522                        Dont know\n",
       "36523                               NaN\n",
       "36524                               NaN\n",
       "36525                               NaN\n",
       "36526                   No, didnt vote\n",
       "36527                   Yes, they voted\n",
       "36528                               NaN\n",
       "36529                               NaN\n",
       "36530                               NaN\n",
       "36531                   Yes, they voted\n",
       "36532                        Dont know\n",
       "36533                   Yes, they voted\n",
       "36534                               NaN\n",
       "36535                   No, didnt vote\n",
       "36536                   No, didnt vote\n",
       "36537                   No, didnt vote\n",
       "36538                   Yes, they voted\n",
       "36539                   Yes, they voted\n",
       "36540                   No, didnt vote\n",
       "36541                   No, didnt vote\n",
       "36542                               NaN\n",
       "Name: discussantturnoutName2W2, Length: 36543, dtype: category\n",
       "Categories (4, object): [No, didnt vote < Yes, they voted < They were not eligible to vote < Dont know]"
      ]
     },
     "execution_count": 351,
     "metadata": {},
     "output_type": "execute_result"
    }
   ],
   "source": [
    "No, I think they *will not* vote|Yes, I think they *will* vote|Don't know"
   ]
  },
  {
   "cell_type": "code",
   "execution_count": 348,
   "metadata": {},
   "outputs": [
    {
     "data": {
      "text/plain": [
       "{'No, I do not regard myself as belonging to any particular religion.': 'No, I do not regard myself as belonging to any particular religion.',\n",
       " 'Yes - Church of England/Anglican/Episcopal': 'Yes - Church of England/Anglican/Episcopal',\n",
       " 'Yes - Roman Catholic': 'Yes - Roman Catholic',\n",
       " 'Yes - Presbyterian/Church of Scotland': 'Yes - Presbyterian/Church of Scotland',\n",
       " 'Yes - Methodist': 'Yes - Methodist',\n",
       " 'Yes - Baptist': 'Yes - Baptist',\n",
       " 'Yes - United Reformed Church': 'Yes - United Reformed Church',\n",
       " 'Yes - Free Presbyterian': 'Yes - Free Presbyterian',\n",
       " 'Yes - Brethren': 'Yes - Brethren',\n",
       " 'Yes - Judaism': 'Yes - Judaism',\n",
       " 'Yes - Hinduism': 'Yes - Hinduism',\n",
       " 'Yes - Islam': 'Yes - Islam',\n",
       " 'Yes - Sikhism': 'Yes - Sikhism',\n",
       " 'Yes - Buddhism': 'Yes - Buddhism',\n",
       " 'Yes - Other': 'Yes - Other',\n",
       " 16.0: 'Prefer not to say',\n",
       " 17.0: 'Yes - Orthodox Christian',\n",
       " 18.0: 'Yes - Pentecostal',\n",
       " 19.0: 'Yes - Evangelical /independent/non-denominational'}"
      ]
     },
     "execution_count": 348,
     "metadata": {},
     "output_type": "execute_result"
    }
   ],
   "source": [
    "# {k:v in zip(half_set,full_set)}\n",
    "\n",
    "dict(zip(half_set,full_set))"
   ]
  },
  {
   "cell_type": "code",
   "execution_count": 330,
   "metadata": {
    "scrolled": false
   },
   "outputs": [
    {
     "data": {
      "text/plain": [
       "No, I do not regard myself as belonging to any particular religion.                                                         14859\n",
       "Yes - Church of England/Anglican/Episcopal                                                                                   8285\n",
       "Yes - Roman Catholic                                                                                                         2329\n",
       "Yes - Presbyterian/Church of Scotland                                                                                        1022\n",
       "Prefer not to say                                                                                                             788\n",
       "Yes - Methodist                                                                                                               744\n",
       "Yes - Other                                                                                                                   737\n",
       "Yes - Baptist                                                                                                                 326\n",
       "Yes - Evangelical  independent/non-denominational (e.g. FIEC, Pioneer, Vineyard, Newfrontiers)                               310\n",
       "Yes - Judaism                                                                                                                 257\n",
       "Yes - Islam                                                                                                                   242\n",
       "Yes - Pentecostal (e.g. Assemblies of God, Elim Pentecostal Church, New Testament Church of God, Redeemed Christian Chur      184\n",
       "Yes  Orthodox Christian                                                                                                      147\n",
       "Yes - Buddhism                                                                                                                142\n",
       "Yes - United Reformed Church                                                                                                  115\n",
       "Yes - Hinduism                                                                                                                 98\n",
       "Yes - Sikhism                                                                                                                  49\n",
       "Yes - Brethren                                                                                                                 24\n",
       "Yes - Free Presbyterian                                                                                                        20\n",
       "Name: profile_religion, dtype: int64"
      ]
     },
     "execution_count": 330,
     "metadata": {},
     "output_type": "execute_result"
    }
   ],
   "source": [
    "col = \"profile_religion\"\n",
    "BES_Panel[ col ].value_counts()"
   ]
  },
  {
   "cell_type": "code",
   "execution_count": 308,
   "metadata": {},
   "outputs": [
    {
     "data": {
      "text/plain": [
       "\"1 to 24 employees|25 to 499 employees|Don't know\""
      ]
     },
     "execution_count": 308,
     "metadata": {},
     "output_type": "execute_result"
    }
   ],
   "source": [
    "join_list = \"|\".join( BES_Panel[ col ].cat.categories )\n",
    "join_list"
   ]
  },
  {
   "cell_type": "code",
   "execution_count": 304,
   "metadata": {},
   "outputs": [
    {
     "data": {
      "text/plain": [
       "['No, I do not regard myself as belonging to any particular religion.',\n",
       " 'Yes - Church of England/Anglican/Episcopal',\n",
       " 'Yes - Roman Catholic',\n",
       " 'Yes - Presbyterian/Church of Scotland',\n",
       " 'Yes - Methodist',\n",
       " 'Yes - Baptist',\n",
       " 'Yes - United Reformed Church',\n",
       " 'Yes - Free Presbyterian',\n",
       " 'Yes - Brethren',\n",
       " 'Yes - Judaism',\n",
       " 'Yes - Hinduism',\n",
       " 'Yes - Islam',\n",
       " 'Yes - Sikhism',\n",
       " 'Yes - Buddhism',\n",
       " 'Yes - Other',\n",
       " 'Prefer not to say',\n",
       " 'Yes - Orthodox Christian',\n",
       " 'Yes - Pentecostal (e.g. Assemblies of God, Elim Pentecostal Church, New Testament Church of God, Redeemed Christian Chur',\n",
       " 'Yes - Evangelical - independent/non-denominational (e.g. FIEC, Pioneer, Vineyard, Newfrontiers)']"
      ]
     },
     "execution_count": 304,
     "metadata": {},
     "output_type": "execute_result"
    }
   ],
   "source": [
    "fix_a_hat_chars(join_list)"
   ]
  },
  {
   "cell_type": "code",
   "execution_count": 305,
   "metadata": {},
   "outputs": [
    {
     "data": {
      "text/plain": [
       "'No, I do not regard myself as belonging to any particular religion.|Yes - Church of England/Anglican/Episcopal|Yes - Roman Catholic|Yes - Presbyterian/Church of Scotland|Yes - Methodist|Yes - Baptist|Yes - United Reformed Church|Yes - Free Presbyterian|Yes - Brethren|Yes - Judaism|Yes - Hinduism|Yes - Islam|Yes - Sikhism|Yes - Buddhism|Yes - Other|Prefer not to say|Yes - Orthodox Christian|Yes - Pentecostal (e.g. Assemblies of God, Elim Pentecostal Church, New Testament Church of God, Redeemed Christian Chur|Yes - Evangelical - independent/non-denominational (e.g. FIEC, Pioneer, Vineyard, Newfrontiers)'"
      ]
     },
     "execution_count": 305,
     "metadata": {},
     "output_type": "execute_result"
    }
   ],
   "source": [
    "\"|\".join( fix_a_hat_chars(join_list) )"
   ]
  },
  {
   "cell_type": "code",
   "execution_count": 255,
   "metadata": {},
   "outputs": [],
   "source": [
    "def fix_100_seq(col, start, finish, weasel, rng=100):\n",
    "    lst = list([weasel,start, finish])\n",
    "    lst_dict = {\"0\":start,str(rng):finish}\n",
    "\n",
    "    fullseq = [start]\n",
    "    [fullseq.append(str(x)) for x in range(1,rng)]\n",
    "    fullseq.append(finish)\n",
    "    fullseq.append(weasel)\n",
    "    # make sure all numbers in same format (string integers)\n",
    "    BES_Panel[col] = BES_Panel[col].cat.rename_categories( [str(int(x)) if x not in lst else x for x in BES_Panel[col].cat.categories ] )\n",
    "    BES_Panel[col] = BES_Panel[col].cat.rename_categories( [lst_dict[x] if x in lst_dict.keys() else x for x in BES_Panel[col].cat.categories ] )\n",
    "    \n",
    "    # change categories to correct range\n",
    "    BES_Panel[col] = BES_Panel[col].cat.set_categories(fullseq)\n",
    "    if len( BES_Panel[col].cat.categories ) != rng+2:\n",
    "        raise Exception(\"wrong number of categories!\")"
   ]
  },
  {
   "cell_type": "code",
   "execution_count": 272,
   "metadata": {},
   "outputs": [],
   "source": [
    "# start = \"Allow many fewer\"\n",
    "# finish = \"Allow many more\"\n",
    "# weasel = \"Don't know\"        \n",
    "# fix_100_seq(col, start, finish, weasel,10)    "
   ]
  },
  {
   "cell_type": "code",
   "execution_count": 299,
   "metadata": {},
   "outputs": [
    {
     "data": {
      "text/plain": [
       "'No, I do not regard myself as belonging to any particular religion.|Yes - Church of England/Anglican/Episcopal|Yes - Roman Catholic|Yes - Presbyterian/Church of Scotland|Yes - Methodist|Yes - Baptist|Yes - United Reformed Church|Yes - Free Presbyterian|Yes - Brethren|Yes - Judaism|Yes - Hinduism|Yes - Islam|Yes - Sikhism|Yes - Buddhism|Yes - Other|Prefer not to say|Yes Orthodox Christian|Yes - Pentecostal (e.g. Assemblies of God, Elim Pentecostal Church, New Testament Church of God, Redeemed Christian Chur|Yes - Evangelical independent/non-denominational (e.g. FIEC, Pioneer, Vineyard, Newfrontiers)'"
      ]
     },
     "execution_count": 299,
     "metadata": {},
     "output_type": "execute_result"
    }
   ],
   "source": [
    "a"
   ]
  },
  {
   "cell_type": "code",
   "execution_count": 300,
   "metadata": {},
   "outputs": [
    {
     "data": {
      "text/plain": [
       "'No, I do not regard myself as belonging to any particular religion.|Yes - Church of England/Anglican/Episcopal|Yes - Roman Catholic|Yes - Presbyterian/Church of Scotland|Yes - Methodist|Yes - Baptist|Yes - United Reformed Church|Yes - Free Presbyterian|Yes - Brethren|Yes - Judaism|Yes - Hinduism|Yes - Islam|Yes - Sikhism|Yes - Buddhism|Yes - Other|Prefer not to say|Yes - Orthodox Christian|Yes - Pentecostal (e.g. Assemblies of God, Elim Pentecostal Church, New Testament Church of God, Redeemed Christian Chur|Yes - Evangelical - independent/non-denominational (e.g. FIEC, Pioneer, Vineyard, Newfrontiers)'"
      ]
     },
     "execution_count": 300,
     "metadata": {},
     "output_type": "execute_result"
    }
   ],
   "source": [
    "b"
   ]
  },
  {
   "cell_type": "code",
   "execution_count": 325,
   "metadata": {},
   "outputs": [],
   "source": [
    "test = \"No, I do not regard myself as belonging to any particular religion.|Yes - Church of England/Anglican/Episcopal|Yes - Roman Catholic|Yes - Presbyterian/Church of Scotland|Yes - Methodist|Yes - Baptist|Yes - United Reformed Church|Yes - Free Presbyterian|Yes - Brethren|Yes - Judaism|Yes - Hinduism|Yes - Islam|Yes - Sikhism|Yes - Buddhism|Yes - Other|Prefer not to say|Yes – Orthodox Christian|Yes - Pentecostal (e.g. Assemblies of God, Elim Pentecostal Church, New Testament Church of God, Redeemed Christian Chur|Yes - Evangelical – independent/non-denominational (e.g. FIEC, Pioneer, Vineyard, Newfrontiers)\""
   ]
  },
  {
   "cell_type": "code",
   "execution_count": 327,
   "metadata": {},
   "outputs": [],
   "source": [
    "test2 = \"No, I do not regard myself as belonging to any particular religion.|Yes - Church of England/Anglican/Episcopal|Yes - Roman Catholic|Yes - Presbyterian/Church of Scotland|Yes - Methodist|Yes - Baptist|Yes - United Reformed Church|Yes - Free Presbyterian|Yes - Brethren|Yes - Judaism|Yes - Hinduism|Yes - Islam|Yes - Sikhism|Yes - Buddhism|Yes - Other|16.0|17.0|18.0|19.0\""
   ]
  },
  {
   "cell_type": "code",
   "execution_count": 328,
   "metadata": {},
   "outputs": [
    {
     "data": {
      "text/plain": [
       "19"
      ]
     },
     "execution_count": 328,
     "metadata": {},
     "output_type": "execute_result"
    }
   ],
   "source": [
    "len( test2.split(\"|\") )"
   ]
  },
  {
   "cell_type": "code",
   "execution_count": 324,
   "metadata": {},
   "outputs": [
    {
     "data": {
      "text/plain": [
       "{'Employers in large establishments': 'Employers in large establishments',\n",
       " 'Higher managerial and administrative occupations': 'Higher managerial and administrative occupations',\n",
       " 'Higher supervisory occupations': 'Higher supervisory occupations',\n",
       " 'L11.1 Lower technical craft occupations': 'L11.1 Lower technical craft occupations',\n",
       " 'L11.2 Lower technical process operative occupations': 'L11.2 Lower technical process operative occupations',\n",
       " 'L12.1 Semi-routine sales occupations': 'L12.1 Semi-routine sales occupations',\n",
       " 'L12.2 Semi-routine service occupations': 'L12.2 Semi-routine service occupations',\n",
       " 'L12.3 Semi-routine technical occupations': 'L12.3 Semi-routine technical occupations',\n",
       " 'L12.4 Semi-routine operative occupations': 'L12.4 Semi-routine operative occupations',\n",
       " 'L12.5 Semi-routine agricultural occupations': 'L12.5 Semi-routine agricultural occupations',\n",
       " 'L12.6 Semi-routine clerical occupations': 'L12.6 Semi-routine clerical occupations',\n",
       " 'L12.7 Semi routine childcare occupations': 'L12.7 Semi routine childcare occupations',\n",
       " 'L13.1 Routine sales and service occupations': 'L13.1 Routine sales and service occupations',\n",
       " 'L13.2 Routine production occupations': 'L13.2 Routine production occupations',\n",
       " 'L13.3 Routine technical occupations': 'L13.3 Routine technical occupations',\n",
       " 'L13.4 Routine operative occupations': 'L13.4 Routine operative occupations',\n",
       " 'L13.5 Routine agricultural occupations': 'L13.5 Routine agricultural occupations',\n",
       " 'L3.1 Traditional employees': 'L3.1 Traditional employees',\n",
       " 'L3.2 New employees': 'L3.2 New employees',\n",
       " 'L3.3 Traditional self-employed': 'L3.3 Traditional self-employed',\n",
       " 'L3.4 New self-employed': 'L3.4 New self-employed',\n",
       " 'L4.1 Traditional employees': 'L4.1 Traditional employees',\n",
       " 'L4.2 New employees': 'L4.2 New employees',\n",
       " 'L4.3 Traditional self-employed': 'L4.3 Traditional self-employed',\n",
       " 'L4.4 New self-employed': 'L4.4 New self-employed',\n",
       " 'L7.1 Intermediate clerical and administrative occupations': 'L7.1 Intermediate clerical and administrative occupations',\n",
       " 'L7.2 Intermediate sales and service occupations': 'L7.2 Intermediate sales and service occupations',\n",
       " 'L7.3 Intermediate technical and auxiliary occupations': 'L7.3 Intermediate technical and auxiliary occupations',\n",
       " 'L7.4 Intermediate engineering occupations': 'L7.4 Intermediate engineering occupations',\n",
       " 'L8.1 Employers in small establishments in industry, commerce, services etc.': 'L8.1 Employers in small establishments in industry, commerce, services etc.',\n",
       " 'L8.2 Employers in small establishments in agriculture': 'L8.2 Employers in small establishments in agriculture',\n",
       " 'L9.1 Own account workers (non-professional)': 'L9.1 Own account workers (non-professional)',\n",
       " 'L9.2 Own account workers (agriculture)': 'L9.2 Own account workers (agriculture)',\n",
       " 'Lower managerial and administrative occupations': 'Lower managerial and administrative occupations',\n",
       " 'Lower supervisory occupations': 'Lower supervisory occupations'}"
      ]
     },
     "execution_count": 324,
     "metadata": {},
     "output_type": "execute_result"
    }
   ],
   "source": [
    "{el:el for el in ns_sec.split(\"|\")}"
   ]
  },
  {
   "cell_type": "code",
   "execution_count": 317,
   "metadata": {},
   "outputs": [],
   "source": [
    "ns_sec = \"Employers in large establishments|Higher managerial and administrative occupations|L3.1 Traditional employees|L3.2 New employees|L3.3 Traditional self-employed|L3.4 New self-employed|L4.1 Traditional employees|L4.2 New employees|L4.3 Traditional self-employed|L4.4 New self-employed|Lower managerial and administrative occupations|Higher supervisory occupations|L7.1 Intermediate clerical and administrative occupations|L7.2 Intermediate sales and service occupations|L7.3 Intermediate technical and auxiliary occupations|L7.4 Intermediate engineering occupations|L8.1 Employers in small establishments in industry, commerce, services etc.|L8.2 Employers in small establishments in agriculture|L9.1 Own account workers (non-professional)|L9.2 Own account workers (agriculture)|Lower supervisory occupations|L11.1 Lower technical craft occupations|L11.2 Lower technical process operative occupations|L12.1 Semi-routine sales occupations|L12.2 Semi-routine service occupations|L12.3 Semi-routine technical occupations|L12.4 Semi-routine operative occupations|L12.5 Semi-routine agricultural occupations|L12.6 Semi-routine clerical occupations|L12.7 Semi routine childcare occupations|L13.1 Routine sales and service occupations|L13.2 Routine production occupations|L13.3 Routine technical occupations|L13.4 Routine operative occupations|L13.5 Routine agricultural occupations\""
   ]
  },
  {
   "cell_type": "code",
   "execution_count": 320,
   "metadata": {},
   "outputs": [
    {
     "ename": "TypeError",
     "evalue": "dict expected at most 1 arguments, got 2",
     "output_type": "error",
     "traceback": [
      "\u001b[1;31m---------------------------------------------------------------------------\u001b[0m",
      "\u001b[1;31mTypeError\u001b[0m                                 Traceback (most recent call last)",
      "\u001b[1;32m<ipython-input-320-95afd22a7676>\u001b[0m in \u001b[0;36m<module>\u001b[1;34m()\u001b[0m\n\u001b[1;32m----> 1\u001b[1;33m \u001b[0mdict\u001b[0m\u001b[1;33m(\u001b[0m\u001b[0mns_sec\u001b[0m\u001b[1;33m,\u001b[0m\u001b[0mns_sec\u001b[0m\u001b[1;33m)\u001b[0m\u001b[1;33m\u001b[0m\u001b[0m\n\u001b[0m",
      "\u001b[1;31mTypeError\u001b[0m: dict expected at most 1 arguments, got 2"
     ]
    }
   ],
   "source": [
    "dict(ns_sec,ns_sec)"
   ]
  },
  {
   "cell_type": "code",
   "execution_count": null,
   "metadata": {
    "collapsed": true
   },
   "outputs": [],
   "source": []
  },
  {
   "cell_type": "code",
   "execution_count": 298,
   "metadata": {},
   "outputs": [
    {
     "name": "stdout",
     "output_type": "stream",
     "text": [
      "No, I do not regard myself as belonging to any particular religion.|Yes - Church of England/Anglican/Episcopal|Yes - Roman Catholic|Yes - Presbyterian/Church of Scotland|Yes - Methodist|Yes - Baptist|Yes - United Reformed Church|Yes - Free Presbyterian|Yes - Brethren|Yes - Judaism|Yes - Hinduism|Yes - Islam|Yes - Sikhism|Yes - Buddhism|Yes - Other|Prefer not to say|Yes Orthodox Christian|Yes - Pentecostal (e.g. Assemblies of God, Elim Pentecostal Church, New Testament Church of God, Redeemed Christian Chur|Yes - Evangelical independent/non-denominational (e.g. FIEC, Pioneer, Vineyard, Newfrontiers) => No, I do not regard myself as belonging to any particular religion.|Yes - Church of England/Anglican/Episcopal|Yes - Roman Catholic|Yes - Presbyterian/Church of Scotland|Yes - Methodist|Yes - Baptist|Yes - United Reformed Church|Yes - Free Presbyterian|Yes - Brethren|Yes - Judaism|Yes - Hinduism|Yes - Islam|Yes - Sikhism|Yes - Buddhism|Yes - Other|Prefer not to say|Yes - Orthodox Christian|Yes - Pentecostal (e.g. Assemblies of God, Elim Pentecostal Church, New Testament Church of God, Redeemed Christian Chur|Yes - Evangelical - independent/non-denominational (e.g. FIEC, Pioneer, Vineyard, Newfrontiers)\n",
      "Add \"-\" to position 372\n",
      "Add \" \" to position 373\n",
      "Add \" \" to position 531\n",
      "Add \"-\" to position 532\n",
      "\n"
     ]
    }
   ],
   "source": [
    "import difflib\n",
    "\n",
    "cases=[(a, b)\n",
    "       ] \n",
    "\n",
    "for a,b in cases:     \n",
    "    print('{} => {}'.format(a,b))  \n",
    "    for i,s in enumerate(difflib.ndiff(a, b)):\n",
    "        if s[0]==' ': continue\n",
    "        elif s[0]=='-':\n",
    "            print(u'Delete \"{}\" from position {}'.format(s[-1],i))\n",
    "        elif s[0]=='+':\n",
    "            print(u'Add \"{}\" to position {}'.format(s[-1],i))    \n",
    "    print()      "
   ]
  },
  {
   "cell_type": "code",
   "execution_count": 296,
   "metadata": {},
   "outputs": [
    {
     "data": {
      "text/plain": [
       "''"
      ]
     },
     "execution_count": 296,
     "metadata": {},
     "output_type": "execute_result"
    }
   ],
   "source": [
    "c = return_not_ascii(b)\n",
    "c"
   ]
  },
  {
   "cell_type": "code",
   "execution_count": 284,
   "metadata": {
    "collapsed": true
   },
   "outputs": [],
   "source": [
    "def return_not_ascii(s): # ascii or £\n",
    "    if not isinstance(s,str):\n",
    "        return None\n",
    "    return \"|\".join([ c for c in s if not ((ord(c) < 128) or (ord(c)==163)) ])"
   ]
  },
  {
   "cell_type": "code",
   "execution_count": 271,
   "metadata": {
    "collapsed": true
   },
   "outputs": [],
   "source": [
    "def fix_a_hat_chars(cat_string):\n",
    "    cat_array = cat_string.split(\"|\")\n",
    "    a_hat_present = False\n",
    "    for el_no in range( 0, len(cat_array) ):\n",
    "        el = cat_array[el_no]\n",
    "        el = re.sub( \"SiÃƒÂ¢n C. Jame|SiÃ¢n C. James|SiÃ¢n C. Jame|Siân C. James\", \"Sian C. James\", el)\n",
    "        el = re.sub( \"ThÃ©rÃ¨se  Coff|Thérèse  Coffey\", \"Therese  Coffey\", el)\n",
    "        el = re.sub( \"RA©union|RÃ©union|RAÂ©union|RÃƒÂ©union\", \"Reunion\", el)\n",
    "        el = re.sub( \"\\xa0Lower supervisory occupations\", \"Lower supervisory occupations\", el)\n",
    "        el = re.sub( \"Don‘t know|Don?t know|Dona??t know|Dona€™t know|Donâ€™t know|Don’t know|Don‘t know|Don\\x91t know|Don\\x92t know|Dona\\x80\\x99t know|Do\\x92t know\",\"Don't know\", el  )\n",
    "        el = re.sub( \"Â–|\\x96|–\", \"-\", el )\n",
    "        el = re.sub( \"Â£|\\xc2£\", \"£\", el )\n",
    "        el = re.sub( \"\\xa0|\\sâ€“\\s|\\s\\xe2\\x80\\x93\\s|\\sÂ‘|Â’\\s\" , \" \", el )\n",
    "        el = re.sub( \"Â‘|Â’|Â€Â™|â\\?\\?|\\x80\\x99|â€™|\\xe2\\x80\\x99|â|â\\x80\\x99|\\?\\?|\\x92|‘|\\x91|’\", \"'\", el )\n",
    "        \n",
    "        if el != cat_array[el_no]:\n",
    "            a_hat_present = True\n",
    "            cat_array[el_no] = el\n",
    "            \n",
    "    if a_hat_present:\n",
    "        return cat_array\n",
    "    else:\n",
    "        return None"
   ]
  },
  {
   "cell_type": "code",
   "execution_count": null,
   "metadata": {
    "collapsed": true
   },
   "outputs": [],
   "source": []
  },
  {
   "cell_type": "code",
   "execution_count": 142,
   "metadata": {},
   "outputs": [
    {
     "data": {
      "text/plain": [
       "\"Employers in large establishments|Higher managerial and administrative occupations|L3.1 'Traditional' employees|L3.2 'New' employees|L3.3 'Traditional' self-employed|L3.4 'New' self-employed|L4.1 'Traditional' employees|L4.2 'New' employees|L4.3 'Traditional' self-employed|L4.4 'New' self-employed|Lower managerial and administrative occupations|Higher supervisory occupations|L7.1 Intermediate clerical and administrative occupations|L7.2 Intermediate sales and service occupations|L7.3 Intermediate technical and auxiliary occupations|L7.4 Intermediate engineering occupations|L8.1 Employers in small establishments in industry, commerce, services etc.|L8.2 Employers in small establishments in agriculture|L9.1 Own account workers (non-professional)|L9.2 Own account workers (agriculture)|Lower supervisory occupations|L11.1 Lower technical craft occupations|L11.2 Lower technical process operative occupations|L12.1 Semi-routine sales occupations|L12.2 Semi-routine service occupations|L12.3 Semi-routine technical occupations|L12.4 Semi-routine operative occupations|L12.5 Semi-routine agricultural occupations|L12.6 Semi-routine clerical occupations|L12.7 Semi routine childcare occupations|L13.1 Routine sales and service occupations|L13.2 Routine production occupations|L13.3 Routine technical occupations|L13.4 Routine operative occupations|L13.5 Routine agricultural occupations\""
      ]
     },
     "execution_count": 142,
     "metadata": {},
     "output_type": "execute_result"
    }
   ],
   "source": [
    "\"|\".join( fix_a_hat_chars(test) )"
   ]
  },
  {
   "cell_type": "code",
   "execution_count": 143,
   "metadata": {},
   "outputs": [
    {
     "data": {
      "text/plain": [
       "['Employers in large establishments',\n",
       " 'Higher managerial and administrative occupations',\n",
       " \"L3.1 'Traditional' employees\",\n",
       " \"L3.2 'New' employees\",\n",
       " \"L3.3 'Traditional' self-employed\",\n",
       " \"L3.4 'New' self-employed\",\n",
       " \"L4.1 'Traditional' employees\",\n",
       " \"L4.2 'New' employees\",\n",
       " \"L4.3 'Traditional' self-employed\",\n",
       " \"L4.4 'New' self-employed\",\n",
       " 'Lower managerial and administrative occupations',\n",
       " 'Higher supervisory occupations',\n",
       " 'L7.1 Intermediate clerical and administrative occupations',\n",
       " 'L7.2 Intermediate sales and service occupations',\n",
       " 'L7.3 Intermediate technical and auxiliary occupations',\n",
       " 'L7.4 Intermediate engineering occupations',\n",
       " 'L8.1 Employers in small establishments in industry, commerce, services etc.',\n",
       " 'L8.2 Employers in small establishments in agriculture',\n",
       " 'L9.1 Own account workers (non-professional)',\n",
       " 'L9.2 Own account workers (agriculture)',\n",
       " 'Lower supervisory occupations',\n",
       " 'L11.1 Lower technical craft occupations',\n",
       " 'L11.2 Lower technical process operative occupations',\n",
       " 'L12.1 Semi-routine sales occupations',\n",
       " 'L12.2 Semi-routine service occupations',\n",
       " 'L12.3 Semi-routine technical occupations',\n",
       " 'L12.4 Semi-routine operative occupations',\n",
       " 'L12.5 Semi-routine agricultural occupations',\n",
       " 'L12.6 Semi-routine clerical occupations',\n",
       " 'L12.7 Semi routine childcare occupations',\n",
       " 'L13.1 Routine sales and service occupations',\n",
       " 'L13.2 Routine production occupations',\n",
       " 'L13.3 Routine technical occupations',\n",
       " 'L13.4 Routine operative occupations',\n",
       " 'L13.5 Routine agricultural occupations']"
      ]
     },
     "execution_count": 143,
     "metadata": {},
     "output_type": "execute_result"
    }
   ],
   "source": [
    "fix_a_hat_chars(test)\n"
   ]
  },
  {
   "cell_type": "code",
   "execution_count": 144,
   "metadata": {},
   "outputs": [],
   "source": [
    "# s.cat.rename_categories([1,2,3])\n",
    "# EUContactRemainConW8|EUContactRemainLabW8|EUContactRemainLDW8|\n",
    "# EUContactRemainSNPW8|EUContactRemainPCW8|EUContactRemainUKIPW8|\n",
    "# EUContactRemainGreenW8|EUContactRemainOthW8|EUContactRemainNoneW8|\n",
    "# EUContactRemainDKW8|EUContactLeaveConW8|EUContactLeaveLabW8|\n",
    "# EUContactLeaveLDW8|EUContactLeaveSNPW8|EUContactLeavePCW8|\n",
    "# EUContactLeaveUKIPW8|EUContactLeaveGreenW8|EUContactLeaveOthW8|\n",
    "# EUContactLeaveNoneW8|EUContactLeaveDKW8\n",
    "\n",
    "# pattern match \"EUContact*****W8\"\n",
    "# debateOneWatchW8|debateTwoWatchW8\n",
    "\n",
    "# \"1.0|2.0|99.0\" -> \n",
    "\n",
    "# euRefVoteSqueezeW7 \"Will not vote|Yes - Leave|Yes - Remain|No - not decided\"\n",
    "#    -> Stay/remain in the EU|Leave the EU|I would/will not vote|Don't know\n",
    "#    HMM - RENAME AND REORDER!\n",
    "\n",
    "# miieuW7\n",
    "# \"Issue stated|Nothing|Don't know\" -> \"Issue stated|None|Don't know\"\n",
    "# MIIEUW8\n",
    "# \"1.0|Nothing|Don't know\" -> \"Issue stated|None|Don't know\"\n",
    "# partyIdEUW7|partyIdEUW8\n",
    "# \"Mainly leave|Mainly remain|Fairly evenly split|Don't know\" -> \"Mainly remain|Fairly evenly divided|Mainly leave|Don't know\"\n",
    "#    HMM - RENAME AND REORDER!\n",
    "\n",
    "# 1. campaignVisionYesW3|campaignVisionNoW3, govtNatSecuritySuccessW4\n",
    "# Very unsuccessful|Fairly unsuccessful|Neither successful nor unsuccessful|Fairly successful|Very successful|Don't know\n",
    "# Very unsuccessful|Somewhat unsuccessful|Neither successful or unsuccessful|Somewhat successful|Very successful|Don't know\n",
    "\n",
    "# Fairly <-> Somewhat\n",
    "\n",
    "# 2. euroTurnoutW1, scotReferendumTurnoutW1|scotReferendumTurnoutW2|welshTurnoutW7|scotTurnoutW7, turnoutUKGeneralW1|turnoutUKGeneralW2|turnoutUKGeneralW3|turnoutUKGeneralW4|turnoutUKGeneralW5|euRefTurnoutW7|euRefTurnoutW8\n",
    "# Very unlikely that I vote|Fairly unlikely|Neither likely nor unlikely|Fairly likely|Very likely that I vote|Don't know\n",
    "# Very unlikely that I would vote|Fairly unlikely|Neither likely nor unlikely|Fairly likely|Very likely that I would vote|Don't know\n",
    "# There are not local elections in my area\n",
    "    #|Very unlikely that I will vote|Fairly unlikely|Neither likely nor unlikely|Fairly likely|Very likely that I will vote|Don't know\n",
    "# Very unlikely that I will vote|Fairly unlikely|Neither likely nor unlikely|Fairly likely|Very likely that I will vote|Don't know\n",
    "\n",
    "# \"Very unlikely that I vote\", \"Very unlikely that I would vote\" ->  \"Very unlikely that I will vote\" \n",
    "\n",
    "rename_cat_dict = {\"North East|North West\": [ \"No\", \"Yes\" ],\n",
    "                   \"1.0|2.0|99.0\": [\"No\", \"Yes\", \"99.0\"],\n",
    "                   \"Will not vote|Yes - Leave|Yes - Remain|No - not decided\":\n",
    "                       ['I would/will not vote', 'Leave the EU','Stay in the EU', \"Don't know\"], \n",
    "                   \"Stay/remain in the EU|Leave the EU|I would/will not vote|Don't know\":\n",
    "                       ['Stay in the EU','Leave the EU',  'I would/will not vote', \"Don't know\"],   # euRefVote    \n",
    "                   \"Stay/remain in the EU|Leave the EU|Don't know\":\n",
    "                       ['Stay in the EU','Leave the EU', \"Don't know\"],   # profile_eurefvote                    \n",
    "                   \"Issue stated|Nothing|Don't know\":  ['Issue stated', 'None', \"Don't know\"],\n",
    "                   \"1.0|Nothing|Don't know\":           ['Issue stated', 'None', \"Don't know\"],\n",
    "                   \"a|b|C1|C2|d|e|Refused|Unknown\" : ['A', 'B', 'C1', 'C2', 'D', 'E', 'Refused', 'Unknown'],\n",
    "                   \"Mainly leave|Mainly remain|Fairly evenly split|Don't know\":\n",
    "                       ['Mainly leave','Mainly remain', 'Fairly evenly divided', \"Don't know\"],\n",
    "                   \"Very unsuccessful|Somewhat unsuccessful|Neither successful or unsuccessful|Somewhat successful|Very successful|Don't know\":\n",
    "                       ['Very unsuccessful', 'Fairly unsuccessful', 'Neither successful nor unsuccessful',\n",
    "                        'Fairly successful', 'Very successful', \"Don't know\"],\n",
    "                   \"Very unlikely that I vote|Fairly unlikely|Neither likely nor unlikely|Fairly likely|Very likely that I vote|Don't know\":\n",
    "                       ['Very unlikely that I will vote', 'Fairly unlikely', 'Neither likely nor unlikely',\n",
    "                        'Fairly likely', 'Very likely that I will vote', \"Don't know\"],\n",
    "                   \"Very unlikely that I would vote|Fairly unlikely|Neither likely nor unlikely|Fairly likely|Very likely that I would vote|Don't know\":\n",
    "                       ['Very unlikely that I will vote', 'Fairly unlikely', 'Neither likely nor unlikely',\n",
    "                        'Fairly likely', 'Very likely that I will vote', \"Don't know\"],\n",
    "                   \"No, did not vote|Yes, voted|3.0|4.0|5.0|Don't know\":   \n",
    "                       [\"Very unlikely that I will vote\", \"Fairly unlikely\", 'Neither likely nor unlikely',\n",
    "                        \"Fairly likely\", \"Very likely that I will vote\", \"Don't know\"], #londonTurnoutW7\n",
    "                   'No, I do not regard myself as belonging to any particular religion.|Yes - Church of England/Anglican/Episcopal|Yes - Roman Catholic|Yes - Presbyterian/Church of Scotland|Yes - Methodist|Yes - Baptist|Yes - United Reformed Church|Yes - Free Presbyterian|Yes - Brethren|Yes - Judaism|Yes - Hinduism|Yes - Islam|Yes - Sikhism|Yes - Buddhism|Yes - Other|Prefer not to say|Yes Orthodox Christian|Yes - Pentecostal (e.g. Assemblies of God, Elim Pentecostal Church, New Testament Church of God, Redeemed Christian Chur|Yes - Evangelical independent/non-denominational (e.g. FIEC, Pioneer, Vineyard, Newfrontiers)':\n",
    "                       [\"No, I do not regard myself as belonging to any particular religion.\",\"Yes - Church of England/Anglican/Episcopal\",\n",
    "                        \"Yes - Roman Catholic\",\"Yes - Presbyterian/Church of Scotland\",\"Yes - Methodist\",\"Yes - Baptist\",\n",
    "                        \"Yes - United Reformed Church\",\"Yes - Free Presbyterian\",\"Yes - Brethren\",\"Yes - Judaism\",\"Yes - Hinduism\",\n",
    "                        \"Yes - Islam\",\"Yes - Sikhism\",\"Yes - Buddhism\",\"Yes - Other\",\"Prefer not to say\",\"Yes - Orthodox Christian\",\n",
    "                        \"Yes - Pentecostal\",\"Yes - Evangelical /independent/non-denominational\"], #xprofile_religionW10\n",
    "                   'Own - outright|Own - with a mortgage|Own (part-own) - through shared ownership scheme (i.e. pay part mortgage, part rent)|Rent - from a private landlord|Rent - from my local authority|Rent - from a housing association|Neither - I live with my parents, family or friends but pay some rent to them|Neither - I live rent-free with my parents, family or friends|Other':\n",
    "                       [ 'Own - outright',\n",
    "                         'Own - with a mortgage',\n",
    "                         'Own (part-own) - through shared ownership scheme (i.e. pay part mortgage, part rent)',\n",
    "                         'Rent - from a private landlord',\n",
    "                         'Rent - from my local authority',\n",
    "                         'Rent - from a housing association',\n",
    "                         'Neither - I live with my parents, family or friends but pay some rent to them',\n",
    "                         'Neither - I live rent-free with my parents, family or friends',\n",
    "                         'Other'], #profile_house_tenureW11|profile_house_tenureW12|profile_house_tenureW13\n",
    "                   \"I voted 'No' (Scotland should not be an independent country)|I voted 'Yes' (Scotland should be an independent country)|111.0|Don't know\":\n",
    "                       [\"No\",\"Yes\",\"Did not vote\",\"Don't know\"], # referendumrecall\n",
    "                   \"Voted Yes|Voted No|Did not vote|Can't remember\":\n",
    "                       [\"Yes\",\"No\",\"Did not vote\",\"Don't know\"], # scotRefVoteW4_\n",
    "                   \"No|Yes|3.0|Don't know\":\n",
    "                       [\"No\",\"Yes\",\"Did not vote\",\"Don't know\"], # regretsIHaveAFewEUW10|regretsIHaveAFewEUW11   \n",
    "                   \"No|Yes|3|Don't know\":\n",
    "                       [\"No\",\"Yes\",\"Did not vote\",\"Don't know\"], # regretsIHaveAFewEU W11_only|regretsIHaveAFew W10_only \n",
    "                   \"Professional or higher technical work - work that requires at least degree-level qualifications (e.g. doctor, accountant|Manager or Senior Administrator (e.g. company director, finance manager, personnel manager, senior sales manager, senior|Clerical (e.g. clerk, secretary)|Sales or Services (e.g. commercial traveller, shop assistant, nursery nurse, care assistant, paramedic)|Foreman or Supervisor of Other Workers (e.g building site foreman, supervisor of cleaning workers)|Skilled Manual Work (e.g. plumber, electrician, fitter)|Semi-Skilled or Unskilled Manual Work (e.g. machine operator, assembler, postman, waitress, cleaner, labourer, driver, b|Other|Have never worked\":\n",
    "                       ['Professional or higher technical work / higher managerial - work that requires at least degree-level qualifications (e.g',\n",
    "                        'Manager or Senior Administrator / intermediate managerial / professional (e.g. company director, finance manager, person',\n",
    "                        'Clerical/junior managerial/professional/administrator (e.g. office worker, student doctor, sales person, clerk, secretar',\n",
    "                        'Sales or Services (e.g. commercial traveller, shop assistant, nursery nurse, care assistant, paramedic)',\n",
    "                        'Foreman or Supervisor of Other Workers (e.g. building site foreman, supervisor of cleaning workers)',\n",
    "                        'Skilled Manual Work (e.g. plumber, electrician, fitter)',\n",
    "                        'Semi-Skilled or Unskilled Manual Work (e.g. machine operator, assembler, postman, waitress, cleaner, labourer, driver, b',\n",
    "                        'Other',\n",
    "                        'Have never worked'], # work_type -> profile_work_typeW7\n",
    "                   \"No formal qualifications|Youth training certificate/skillseekers|Recognised trade apprenticeship completed|Clerical and commercial|City & Guilds certificate|City & Guilds certificate - advanced|onc|CSE grades 2-5|CSE grade 1, GCE O level, GCSE, School Certificate|Scottish Ordinary/ Lower Certificate|GCE A level or Higher Certificate|Scottish Higher Certificate|Nursing qualification (eg SEN, SRN, SCM, RGN)|Teaching qualification (not degree)|University diploma|University or CNAA first degree (eg BA, B.Sc, B.Ed)|University or CNAA higher degree (eg M.Sc, Ph.D)|Other technical, professional or higher qualification|Don't know|Prefer not to say\":\n",
    "                       ['No formal qualifications','Youth training certificate/skillseekers','Recognised trade apprenticeship completed',\n",
    "                        'Clerical and commercial','City and Guild certificate','City and Guild certificate - advanced','onc','CSE grades 2-5',\n",
    "                        'CSE grade 1, GCE O level, GCSE, School Certificate','Scottish Ordinary/ Lower Certificate','GCE A level or Higher Certificate',\n",
    "                        'Scottish Higher Certificate','Nursing qualification (eg SEN, SRN, SCM, RGN)','Teaching qualification (not degree)',\n",
    "                        'University diploma','University or CNAA first degree (eg BA, B.Sc, B.Ed)','University or CNAA higher degree (eg M.Sc, Ph.D)',\n",
    "                        'Other technical, professional or higher qualification',\"Don't know\",'Prefer not to say'], # W6_comb: qeducationW6\n",
    "                   \"Strongly disapprove|Disapprove|Don't know\":\n",
    "                       [\"Approve\",\"Disapprove\",\"Don't know\"], # approveEUW2 # W7_comb, W10_comb, W13_comb, W8_comb, W9_comb\n",
    "                   '1 to 24 employees|25 to 499 employees|500 or more employees|':\n",
    "                       ['1 to 24 employees','25 to 499 employees','500 or more employees',\"Don't know\"], #fatherNumEmployees,motherNumEmployees #W6_comb,W5_comb,W5_only,W3_comb\n",
    "                   \"No, did not vote|Yes, voted|Don't know\":\n",
    "                       ['No','Yes',\"Don't know\"],\n",
    "                   \"Strongly disagree|Disagree|Neither nor disagree|Agree|Strongly agree|Don't know\":\n",
    "                       [\"Strongly disagree\",\"Disagree\",\"Neither agree nor disagree\",\"Agree\",\"Strongly agree\",\"Don't know\"],# euFinancialHelpW2 W3-6_comb\n",
    "                   \"I am very unsure what will happen|I am quite unsure what will happen|I am quite sure what will happen|I am very sure what will happen|Don't know\":\n",
    "                       [\"I am very unsure what would happen\",\"I am quite unsure what would happen\",\"I am quite sure what would happen\",\"I am very sure what would happen\",\"Don't know\"], # certaintyScotUnionW3 W3-5_comb\n",
    "                   \"0.0|1.0|2.0|3.0|4.0|5.0|6.0|7.0|997.0\":\n",
    "                       [\"0 days\",\"1 day\",\"2 days\",\"3 days\",\"4 days\",\"5 days\",\"6 days\",\"7 days\",\"Don't know\"], # discussPolDaysW5\tW5_comb\n",
    "                   \"A major transfer of powers from Westminster to the Scottish Parliament (\\\"devo-max\\\")|Some powers will be transferred but well short of \\\"devo-max\\\"|No change to the relationship between Westminster and the Scottish Parliament\":\n",
    "                       [\"A major transfer of powers from Westminster to the Scottish Parliament (devo-max)\",\"Some powers will be transferred but well short of devo-max\",\"No change to the relationship between Westminster and the Scottish Parliament\"], # expectationManipCheckW1 # W13,10,9,8,7 vs W6-3_comb\n",
    "                   \"No, I did not vote|Yes, I voted|There wasn't a local election in my area|Don't know\":\n",
    "                       [\"No, did not vote\",\"Yes, voted\",\"There wasn't a local election in my area\",\"Don't know\"], # localTurnoutRetroW2 W3-6_comb\n",
    "                   \"Focuses mainly on criticising other parties|2.0|3.0|4.0|Focuses mainly on putting forward their own policies and personalities|Don't know\":\n",
    "                       [\"1 - Focused mainly on criticising other parties\",\"2.0\",\"3.0\",\"4.0\",\"5 - Focused mainly on putting forward their own policies and personalities\",\"Don't know\"], # <party>ToneW5 # W5-6_comb, W5_only\n",
    "                   \"Environmental Policy|Defence|Education|Pensions\":\n",
    "                       [\"No, I think they *will not* vote\",\"Yes, I think they *will* vote\",\"They are not eligible to vote\",\"Don't know\"], # discussantturnoutName1-3W4 # W4-5_comb\n",
    "                   \"Employers in large organisations and higher managerial|Higher professional occupations|Lower professional and managerial and higher supervisory|Intermediate occupations|Employers in small organisations and own account workers|Lower suprivsory and technical occupations|Semi-routine occupations|Routine occupations\":\n",
    "                       ['Employers in large organisations and higher managerial', 'Higher professional occupations',\n",
    "                        'Lower professional and managerial and higher supervisory', 'Intermediate occupations',\n",
    "                        'Employers in small organisations and own account workers', 'Lower supervisory and technical occupations',\n",
    "                        'Semi-routine occupations', 'Routine occupations'], # ns_sec_analytic\t W5_only, W3-6_comb                   \n",
    "                   \"Employers in large organisations and higher managerial|Higher professional occupations|Lower professional and managerail and higher supervisory|Intermediate occupations|Employers in small organisations and own account workers|Lower suprivsory and technical occupations|Semi-routine occupations|Routine occupations\":\n",
    "                       ['Employers in large organisations and higher managerial', 'Higher professional occupations',\n",
    "                        'Lower professional and managerial and higher supervisory', 'Intermediate occupations',\n",
    "                        'Employers in small organisations and own account workers', 'Lower supervisory and technical occupations',\n",
    "                        'Semi-routine occupations', 'Routine occupations'], # ns_sec_analytic\t W5_only, W3-6_comb    # v slight typo!\n",
    "                   \"A major transfer of powers from Westminster to the Scottish Parliament (\\\"devo-max\\\")|Some powers will be transferred but well short of \\\"devo-max\\\"|No change to the relationship between Westminster and the Scottish Parliament|Don't know\":\n",
    "                       ['A major transfer of powers from Westminster to the Scottish Parliament (devo-max)',\n",
    "                        'Some powers will be transferred but well short of devo-max',\n",
    "                        'No change to the relationship between Westminster and the Scottish Parliament',\"Don't know\"], # expectationManipCheckW1 W3-6_comb\n",
    "                   \"Employers in large establishments|Higher managerial and administrative occupations|L3.1 'Traditional' employees|L3.2 'New' employees|L3.3 'Traditional' self-employed|L3.4 'New' self-employed|L4.1 'Traditional' employees|L4.2 'New' employees|L4.3 'Traditional' self-employed|L4.4 'New' self-employed|Lower managerial and administrative occupations|Higher supervisory occupations|L7.1 Intermediate clerical and administrative occupations|L7.2 Intermediate sales and service occupations|L7.3 Intermediate technical and auxiliary occupations|L7.4 Intermediate engineering occupations|L8.1 Employers in small establishments in industry, commerce, services etc.|L8.2 Employers in small establishments in agriculture|L9.1 Own account workers (non-professional)|L9.2 Own account workers (agriculture)|Lower supervisory occupations|L11.1 Lower technical craft occupations|L11.2 Lower technical process operative occupations|L12.1 Semi-routine sales occupations|L12.2 Semi-routine service occupations|L12.3 Semi-routine technical occupations|L12.4 Semi-routine operative occupations|L12.5 Semi-routine agricultural occupations|L12.6 Semi-routine clerical occupations|L12.7 Semi routine childcare occupations|L13.1 Routine sales and service occupations|L13.2 Routine production occupations|L13.3 Routine technical occupations|L13.4 Routine operative occupations|L13.5 Routine agricultural occupations\":\n",
    "                       ['Employers in large establishments', 'Higher managerial and administrative occupations',\n",
    "                        'L3.1 Traditional employees', 'L3.2 New employees', 'L3.3 Traditional self-employed',\n",
    "                        'L3.4 New self-employed', 'L4.1 Traditional employees', 'L4.2 New employees',\n",
    "                        'L4.3 Traditional self-employed', 'L4.4 New self-employed', 'Lower managerial and administrative occupations',\n",
    "                        'Higher supervisory occupations', 'L7.1 Intermediate clerical and administrative occupations',\n",
    "                        'L7.2 Intermediate sales and service occupations', 'L7.3 Intermediate technical and auxiliary occupations',\n",
    "                        'L7.4 Intermediate engineering occupations', 'L8.1 Employers in small establishments in industry, commerce, services etc.',\n",
    "                        'L8.2 Employers in small establishments in agriculture', 'L9.1 Own account workers (non-professional)',\n",
    "                        'L9.2 Own account workers (agriculture)', 'Lower supervisory occupations', 'L11.1 Lower technical craft occupations',\n",
    "                        'L11.2 Lower technical process operative occupations', 'L12.1 Semi-routine sales occupations',\n",
    "                        'L12.2 Semi-routine service occupations', 'L12.3 Semi-routine technical occupations', 'L12.4 Semi-routine operative occupations',\n",
    "                        'L12.5 Semi-routine agricultural occupations', 'L12.6 Semi-routine clerical occupations', 'L12.7 Semi routine childcare occupations',\n",
    "                        'L13.1 Routine sales and service occupations', 'L13.2 Routine production occupations', 'L13.3 Routine technical occupations',\n",
    "                        'L13.4 Routine operative occupations', 'L13.5 Routine agricultural occupations'],\n",
    "                   \"Employers in large establishments|Higher managerial and administrative occupations|L3.1 ?Traditional? employees|L3.2 ?New? employees|L3.3 ?Traditional? self-employed|L3.4 ?New? self-employed|L4.1 ?Traditional? employees|L4.2 ?New? employees|L4.3 ?Traditional? self-employed|L4.4 ?New? self-employed|Lower managerial and administrative occupations|Higher supervisory occupations|L7.1 Intermediate clerical and administrative occupations|L7.2 Intermediate sales and service occupations|L7.3 Intermediate technical and auxiliary occupations|L7.4 Intermediate engineering occupations|L8.1 Employers in small establishments in industry, commerce, services etc.|L8.2 Employers in small establishments in agriculture|L9.1 Own account workers (non-professional)|L9.2 Own account workers (agriculture)|Lower supervisory occupations|L11.1 Lower technical craft occupations|L11.2 Lower technical process operative occupations|L12.1 Semi-routine sales occupations|L12.2 Semi-routine service occupations|L12.3 Semi-routine technical occupations|L12.4 Semi-routine operative occupations|L12.5 Semi-routine agricultural occupations|L12.6 Semi-routine clerical occupations|L12.7 Semi routine childcare occupations|L13.1 Routine sales and service occupations|L13.2 Routine production occupations|L13.3 Routine technical occupations|L13.4 Routine operative occupations|L13.5 Routine agricultural occupations\":\n",
    "                       ['Employers in large establishments', 'Higher managerial and administrative occupations',\n",
    "                        'L3.1 Traditional employees', 'L3.2 New employees', 'L3.3 Traditional self-employed',\n",
    "                        'L3.4 New self-employed', 'L4.1 Traditional employees', 'L4.2 New employees',\n",
    "                        'L4.3 Traditional self-employed', 'L4.4 New self-employed', 'Lower managerial and administrative occupations',\n",
    "                        'Higher supervisory occupations', 'L7.1 Intermediate clerical and administrative occupations',\n",
    "                        'L7.2 Intermediate sales and service occupations', 'L7.3 Intermediate technical and auxiliary occupations',\n",
    "                        'L7.4 Intermediate engineering occupations', 'L8.1 Employers in small establishments in industry, commerce, services etc.',\n",
    "                        'L8.2 Employers in small establishments in agriculture', 'L9.1 Own account workers (non-professional)',\n",
    "                        'L9.2 Own account workers (agriculture)', 'Lower supervisory occupations', 'L11.1 Lower technical craft occupations',\n",
    "                        'L11.2 Lower technical process operative occupations', 'L12.1 Semi-routine sales occupations',\n",
    "                        'L12.2 Semi-routine service occupations', 'L12.3 Semi-routine technical occupations', 'L12.4 Semi-routine operative occupations',\n",
    "                        'L12.5 Semi-routine agricultural occupations', 'L12.6 Semi-routine clerical occupations', 'L12.7 Semi routine childcare occupations',\n",
    "                        'L13.1 Routine sales and service occupations', 'L13.2 Routine production occupations', 'L13.3 Routine technical occupations',\n",
    "                        'L13.4 Routine operative occupations', 'L13.5 Routine agricultural occupations'],\n",
    "                   }\n",
    "\n",
    "#                    \"1.0|2.0\":\n",
    "#                        [\"No\",\"Yes\"], # tryReduceImmigDKW4, achieveReduceImmigUKIPW4, achieveReduceImmigGrnW4, achieveReduceImmigDKW4, tryReduceInequalityDKW4, successReduceInequalityDKW4 # W4-5_comb # sharedContentOnline_1-5W4 W5_comb # voteMethodEurope_dkW2, discussantsAskedYouToVote_DKW2 ,discussantsAccompaniedVote_dkW2, referendumContact_dkW2 # W3_comb\n",
    " \n",
    "rename_variable_dict = pd.DataFrame.from_dict( {k : \"|\".join(v) for k, v in rename_cat_dict.items()} , orient='index' ).reset_index()\n",
    "rename_variable_dict.columns = [\"original_cat_list\",\"renameed_cat_list\"]\n",
    "rename_variable_dict.to_csv( BES_small_data_files + \"rename_variable_dict.csv\" )\n",
    "\n",
    "def re_name(ques):\n",
    "    if ques in rename_cat_dict.keys():\n",
    "        return \"|\".join( rename_cat_dict[ques] )\n",
    "    else:\n",
    "        return ques"
   ]
  },
  {
   "cell_type": "code",
   "execution_count": 90,
   "metadata": {
    "collapsed": true
   },
   "outputs": [],
   "source": [
    "def is_ascii(s): # ascii or £\n",
    "    return all( ( (ord(c) < 128) or (ord(c)==163))   for c in s)\n",
    "\n",
    "def careful_not_ascii(s): # ascii or £\n",
    "    if not isinstance(s,str):\n",
    "        return False\n",
    "    return not all( ( (ord(c) < 128) or (ord(c)==163))   for c in s)\n",
    "\n",
    "def return_not_ascii(s): # ascii or £\n",
    "    if not isinstance(s,str):\n",
    "        return None\n",
    "    return \"|\".join([ c for c in s if not ((ord(c) < 128) or (ord(c)==163)) ])"
   ]
  },
  {
   "cell_type": "code",
   "execution_count": 154,
   "metadata": {},
   "outputs": [
    {
     "data": {
      "text/plain": [
       "[]"
      ]
     },
     "execution_count": 154,
     "metadata": {},
     "output_type": "execute_result"
    }
   ],
   "source": [
    "[x for x in Weasel_answers if careful_not_ascii(x)]"
   ]
  },
  {
   "cell_type": "code",
   "execution_count": 152,
   "metadata": {},
   "outputs": [
    {
     "data": {
      "text/plain": [
       "[]"
      ]
     },
     "execution_count": 152,
     "metadata": {},
     "output_type": "execute_result"
    }
   ],
   "source": [
    "[return_not_ascii(x) for x in Weasel_answers if careful_not_ascii(x)]"
   ]
  },
  {
   "cell_type": "code",
   "execution_count": 153,
   "metadata": {},
   "outputs": [],
   "source": [
    "Weasel_answers = [\"Don't know\",\n",
    "                  \"Prefer not to say\", \"Prefer not to answer\", \"Refused\", \"Unknown\",\n",
    "                  \"Neither\", \"Other\", \"I would/will not vote\", \"Will not vote\",\n",
    "                  \"I would not vote\", \"It depends\", \"Other\",\n",
    "                  \"Don't follow politics on twitter\",\n",
    "                  \"Yes, other\", \"Haven't thought about it\",\n",
    "                  \"There wasn't a local election in my area\", \"No, haven't received it\",\n",
    "                  \"I don't know what was negotiated\", \"I never received a response\",\n",
    "                  \"There are not local elections in my area\", \"Can't remember\",\n",
    "                  \"Varies too much to say\", \"Will not state a choice\",\n",
    "                  \"All leaders equally good\", \"They are not eligible to vote\",\n",
    "                  \"There are not local elections in my area\", \"Both/neither\",\n",
    "                  \"Did not vote\",\"Can't remember\",\n",
    "                  \"Not sure\"]"
   ]
  },
  {
   "cell_type": "code",
   "execution_count": 265,
   "metadata": {},
   "outputs": [],
   "source": [
    "test = \"Own outright|Own with a mortgage|Own (part-own) through shared ownership scheme (i.e. pay part mortgage, part rent)|Rent from a private landlord|Rent from my local authority|Rent from a housing association|Neither I live with my parents, family or friends but pay some rent to them|Neither I live rent-free with my parents, family or friends|Other\""
   ]
  },
  {
   "cell_type": "code",
   "execution_count": 266,
   "metadata": {},
   "outputs": [
    {
     "data": {
      "text/plain": [
       "['Own outright',\n",
       " 'Own with a mortgage',\n",
       " 'Own (part-own) through shared ownership scheme (i.e. pay part mortgage, part rent)',\n",
       " 'Rent from a private landlord',\n",
       " 'Rent from my local authority',\n",
       " 'Rent from a housing association',\n",
       " 'Neither I live with my parents, family or friends but pay some rent to them',\n",
       " 'Neither I live rent-free with my parents, family or friends',\n",
       " 'Other']"
      ]
     },
     "execution_count": 266,
     "metadata": {},
     "output_type": "execute_result"
    }
   ],
   "source": [
    "test.split(\"|\")"
   ]
  },
  {
   "cell_type": "code",
   "execution_count": null,
   "metadata": {
    "collapsed": true
   },
   "outputs": [],
   "source": []
  }
 ],
 "metadata": {
  "kernelspec": {
   "display_name": "Python 3",
   "language": "python",
   "name": "python3"
  },
  "language_info": {
   "codemirror_mode": {
    "name": "ipython",
    "version": 3
   },
   "file_extension": ".py",
   "mimetype": "text/x-python",
   "name": "python",
   "nbconvert_exporter": "python",
   "pygments_lexer": "ipython3",
   "version": "3.6.7"
  }
 },
 "nbformat": 4,
 "nbformat_minor": 1
}
