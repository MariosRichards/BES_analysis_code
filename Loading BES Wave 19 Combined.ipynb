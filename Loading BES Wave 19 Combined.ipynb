{
 "cells": [
  {
   "cell_type": "code",
   "execution_count": 29,
   "metadata": {},
   "outputs": [],
   "source": [
    "%matplotlib inline\n",
    "\n",
    "import numpy as np, pandas as pd, matplotlib.pyplot as plt, seaborn as sns\n",
    "import pickle, os, gc, re, sys\n",
    "from datetime import datetime "
   ]
  },
  {
   "cell_type": "code",
   "execution_count": 6,
   "metadata": {},
   "outputs": [],
   "source": [
    "# import pyreadstat\n",
    "# did not help!"
   ]
  },
  {
   "cell_type": "code",
   "execution_count": 2,
   "metadata": {},
   "outputs": [],
   "source": [
    "BES_Panel = pd.read_pickle(\"..\\\\BES_analysis_data\\\\\"+\"W19_comb\"+os.sep+\"BES2019_W19_Panel_v0.1.zip\",compression='zip')"
   ]
  },
  {
   "cell_type": "code",
   "execution_count": 1,
   "metadata": {},
   "outputs": [],
   "source": [
    "# %%time\n",
    "# cat_vars = BES_Panel.columns[ BES_Panel.dtypes==\"category\" ]\n",
    "# BES_Panel[cat_vars].apply(lambda x: x.cat.set_categories([str(x) for x in x.cat.categories]), axis=0, result_type='reduce')"
   ]
  },
  {
   "cell_type": "code",
   "execution_count": 20,
   "metadata": {},
   "outputs": [
    {
     "name": "stdout",
     "output_type": "stream",
     "text": [
      "Wall time: 12.4 s\n"
     ]
    }
   ],
   "source": [
    "%%time\n",
    "# make sure all categories in category variables are strings (mixed dtypes caused issues)\n",
    "BES_Panel[cat_vars] = BES_Panel[cat_vars].apply(lambda x: x.cat.set_categories([str(x) for x in x.cat.categories]), axis=0, result_type='reduce')"
   ]
  },
  {
   "cell_type": "code",
   "execution_count": null,
   "metadata": {},
   "outputs": [],
   "source": []
  },
  {
   "cell_type": "code",
   "execution_count": null,
   "metadata": {},
   "outputs": [],
   "source": []
  },
  {
   "cell_type": "code",
   "execution_count": null,
   "metadata": {},
   "outputs": [],
   "source": []
  },
  {
   "cell_type": "code",
   "execution_count": null,
   "metadata": {},
   "outputs": [],
   "source": []
  },
  {
   "cell_type": "code",
   "execution_count": 2,
   "metadata": {},
   "outputs": [],
   "source": [
    "# BES_Panel = pd.read_stata('../BES_analysis_data/'+\"W19_comb\"+os.sep+\"BES2019_W19_Panel_v0.1.dta\")\n",
    "# crashes with a memory error"
   ]
  },
  {
   "cell_type": "code",
   "execution_count": 12,
   "metadata": {},
   "outputs": [],
   "source": [
    "def load_large_dta(fname, chunksize=20000, columns=None):\n",
    "    \n",
    "    counter=0\n",
    "    reader = pd.read_stata(fname, chunksize=chunksize, columns=columns)\n",
    "    df = pd.DataFrame()\n",
    "    print(\"started\")\n",
    "    for chunk in reader:\n",
    "        df = df.append(chunk)\n",
    "\n",
    "        print(counter,datetime.now())\n",
    "        sys.stdout.flush()\n",
    "        gc.collect()\n",
    "        counter=counter+1\n",
    "\n",
    "    print('\\nloaded {} rows'.format(len(df)))\n",
    "\n",
    "    return df"
   ]
  },
  {
   "cell_type": "code",
   "execution_count": 62,
   "metadata": {},
   "outputs": [
    {
     "name": "stdout",
     "output_type": "stream",
     "text": [
      "started\n",
      "0 2020-03-07 04:36:50.149743\n",
      "1 2020-03-07 04:38:44.813302\n",
      "2 2020-03-07 04:40:56.675844\n",
      "3 2020-03-07 04:44:19.885467\n",
      "4 2020-03-07 04:48:23.774417\n",
      "\n",
      "loaded 97158 rows\n"
     ]
    }
   ],
   "source": [
    "BES_Panel4 = load_large_dta(\"..\\\\BES_analysis_data\\\\\"+\"W19_comb\"+os.sep+\"BES2019_W19_Panel_v0.1.dta\", chunksize=20000)\n",
    "# note, this crashed when I ran it with *too small a chunk size* (1000)\n",
    "# bingo!"
   ]
  },
  {
   "cell_type": "code",
   "execution_count": 64,
   "metadata": {},
   "outputs": [
    {
     "data": {
      "text/plain": [
       "category    1774\n",
       "object      1360\n",
       "category     403\n",
       "category     310\n",
       "category     199\n",
       "            ... \n",
       "category       1\n",
       "category       1\n",
       "category       1\n",
       "category       1\n",
       "category       1\n",
       "Length: 413, dtype: int64"
      ]
     },
     "execution_count": 64,
     "metadata": {},
     "output_type": "execute_result"
    }
   ],
   "source": [
    "BES_Panel4.dtypes.value_counts()\n",
    "\n",
    "# no bueno!\n",
    "# object      1360"
   ]
  },
  {
   "cell_type": "code",
   "execution_count": 9,
   "metadata": {},
   "outputs": [],
   "source": [
    "# # reload just the variables mis-loaded as \"object\" type\n",
    "# gc.collect()\n",
    "\n",
    "BES_Panel5 = pd.read_stata(\"..\\\\BES_analysis_data\\\\\"+\"W19_comb\"+os.sep+\"BES2019_W19_Panel_v0.1.dta\",\n",
    "                        columns=list( BES_Panel4.columns[ BES_Panel4.dtypes==\"object\" ] ))\n"
   ]
  },
  {
   "cell_type": "code",
   "execution_count": 74,
   "metadata": {},
   "outputs": [
    {
     "data": {
      "text/plain": [
       "category    713\n",
       "category     47\n",
       "category     32\n",
       "category     30\n",
       "category     28\n",
       "           ... \n",
       "category      1\n",
       "category      1\n",
       "category      1\n",
       "category      1\n",
       "category      1\n",
       "Length: 257, dtype: int64"
      ]
     },
     "execution_count": 74,
     "metadata": {},
     "output_type": "execute_result"
    }
   ],
   "source": [
    "\n",
    "gc.collect()\n",
    "BES_Panel5.dtypes.value_counts()"
   ]
  },
  {
   "cell_type": "code",
   "execution_count": 80,
   "metadata": {},
   "outputs": [
    {
     "data": {
      "text/plain": [
       "0                       NaN\n",
       "1                       NaN\n",
       "2                       NaN\n",
       "3        Completely certain\n",
       "4                       NaN\n",
       "                ...        \n",
       "97153    Completely certain\n",
       "97154                     6\n",
       "97155                   NaN\n",
       "97156                   NaN\n",
       "97157                   NaN\n",
       "Name: generalElectionCertaintyUnsqW5, Length: 97158, dtype: category\n",
       "Categories (8, object): [Not at all certain < 2 < 3 < 4 < 5 < 6 < Completely certain < Don't know]"
      ]
     },
     "execution_count": 80,
     "metadata": {},
     "output_type": "execute_result"
    }
   ],
   "source": [
    "# double-check - does it load the categories correctly now? Ys it does\n",
    "BES_Panel5[BES_Panel4.columns[ BES_Panel4.dtypes==\"object\" ][5]]\n"
   ]
  },
  {
   "cell_type": "code",
   "execution_count": null,
   "metadata": {},
   "outputs": [],
   "source": []
  },
  {
   "cell_type": "code",
   "execution_count": 225,
   "metadata": {},
   "outputs": [],
   "source": [
    "# So, basically fixed, right?"
   ]
  },
  {
   "cell_type": "code",
   "execution_count": 119,
   "metadata": {},
   "outputs": [
    {
     "data": {
      "text/plain": [
       "float64           157\n",
       "datetime64[ns]     43\n",
       "float32            22\n",
       "object              7\n",
       "int32               1\n",
       "dtype: int64"
      ]
     },
     "execution_count": 119,
     "metadata": {},
     "output_type": "execute_result"
    }
   ],
   "source": [
    "BES_Panel6=BES_Panel4.copy()\n",
    "BES_Panel6[BES_Panel5.columns] = BES_Panel5\n",
    "BES_Panel6.dtypes[BES_Panel6.dtypes!='category'].value_counts()"
   ]
  },
  {
   "cell_type": "code",
   "execution_count": 3,
   "metadata": {},
   "outputs": [],
   "source": [
    "# Not quite - still 7 objects"
   ]
  },
  {
   "cell_type": "code",
   "execution_count": 92,
   "metadata": {},
   "outputs": [
    {
     "data": {
      "text/html": [
       "<div>\n",
       "<style scoped>\n",
       "    .dataframe tbody tr th:only-of-type {\n",
       "        vertical-align: middle;\n",
       "    }\n",
       "\n",
       "    .dataframe tbody tr th {\n",
       "        vertical-align: top;\n",
       "    }\n",
       "\n",
       "    .dataframe thead th {\n",
       "        text-align: right;\n",
       "    }\n",
       "</style>\n",
       "<table border=\"1\" class=\"dataframe\">\n",
       "  <thead>\n",
       "    <tr style=\"text-align: right;\">\n",
       "      <th></th>\n",
       "      <th>xtoday_dateW18</th>\n",
       "      <th>xyesterday_dateW18</th>\n",
       "      <th>xbefore_yesterday_dateW18</th>\n",
       "      <th>xbefore_yesterday_dayW18</th>\n",
       "      <th>uniname_statusW19</th>\n",
       "      <th>JACS_subjectW19</th>\n",
       "      <th>euRefLA</th>\n",
       "    </tr>\n",
       "  </thead>\n",
       "  <tbody>\n",
       "    <tr>\n",
       "      <th>0</th>\n",
       "      <td>20191126</td>\n",
       "      <td>20191125</td>\n",
       "      <td>20191124</td>\n",
       "      <td>Sunday</td>\n",
       "      <td>__NA__</td>\n",
       "      <td></td>\n",
       "      <td>W06000012</td>\n",
       "    </tr>\n",
       "    <tr>\n",
       "      <th>1</th>\n",
       "      <td></td>\n",
       "      <td></td>\n",
       "      <td></td>\n",
       "      <td></td>\n",
       "      <td></td>\n",
       "      <td>H</td>\n",
       "      <td>W06000012</td>\n",
       "    </tr>\n",
       "    <tr>\n",
       "      <th>2</th>\n",
       "      <td></td>\n",
       "      <td></td>\n",
       "      <td></td>\n",
       "      <td></td>\n",
       "      <td></td>\n",
       "      <td></td>\n",
       "      <td></td>\n",
       "    </tr>\n",
       "    <tr>\n",
       "      <th>3</th>\n",
       "      <td>20191126</td>\n",
       "      <td>20191125</td>\n",
       "      <td>20191124</td>\n",
       "      <td>Sunday</td>\n",
       "      <td>__NA__</td>\n",
       "      <td></td>\n",
       "      <td>W06000012</td>\n",
       "    </tr>\n",
       "    <tr>\n",
       "      <th>4</th>\n",
       "      <td>20191130</td>\n",
       "      <td>20191129</td>\n",
       "      <td>20191128</td>\n",
       "      <td>Thursday</td>\n",
       "      <td>__NA__</td>\n",
       "      <td></td>\n",
       "      <td></td>\n",
       "    </tr>\n",
       "    <tr>\n",
       "      <th>...</th>\n",
       "      <td>...</td>\n",
       "      <td>...</td>\n",
       "      <td>...</td>\n",
       "      <td>...</td>\n",
       "      <td>...</td>\n",
       "      <td>...</td>\n",
       "      <td>...</td>\n",
       "    </tr>\n",
       "    <tr>\n",
       "      <th>97153</th>\n",
       "      <td></td>\n",
       "      <td></td>\n",
       "      <td></td>\n",
       "      <td></td>\n",
       "      <td></td>\n",
       "      <td></td>\n",
       "      <td></td>\n",
       "    </tr>\n",
       "    <tr>\n",
       "      <th>97154</th>\n",
       "      <td></td>\n",
       "      <td></td>\n",
       "      <td></td>\n",
       "      <td></td>\n",
       "      <td></td>\n",
       "      <td></td>\n",
       "      <td>E07000211</td>\n",
       "    </tr>\n",
       "    <tr>\n",
       "      <th>97155</th>\n",
       "      <td></td>\n",
       "      <td></td>\n",
       "      <td></td>\n",
       "      <td></td>\n",
       "      <td></td>\n",
       "      <td></td>\n",
       "      <td>E09000003</td>\n",
       "    </tr>\n",
       "    <tr>\n",
       "      <th>97156</th>\n",
       "      <td></td>\n",
       "      <td></td>\n",
       "      <td></td>\n",
       "      <td></td>\n",
       "      <td></td>\n",
       "      <td></td>\n",
       "      <td></td>\n",
       "    </tr>\n",
       "    <tr>\n",
       "      <th>97157</th>\n",
       "      <td></td>\n",
       "      <td></td>\n",
       "      <td></td>\n",
       "      <td></td>\n",
       "      <td></td>\n",
       "      <td></td>\n",
       "      <td>E08000019</td>\n",
       "    </tr>\n",
       "  </tbody>\n",
       "</table>\n",
       "<p>97158 rows × 7 columns</p>\n",
       "</div>"
      ],
      "text/plain": [
       "      xtoday_dateW18 xyesterday_dateW18 xbefore_yesterday_dateW18  \\\n",
       "0           20191126           20191125                  20191124   \n",
       "1                                                                   \n",
       "2                                                                   \n",
       "3           20191126           20191125                  20191124   \n",
       "4           20191130           20191129                  20191128   \n",
       "...              ...                ...                       ...   \n",
       "97153                                                               \n",
       "97154                                                               \n",
       "97155                                                               \n",
       "97156                                                               \n",
       "97157                                                               \n",
       "\n",
       "      xbefore_yesterday_dayW18 uniname_statusW19 JACS_subjectW19    euRefLA  \n",
       "0                       Sunday            __NA__                  W06000012  \n",
       "1                                                              H  W06000012  \n",
       "2                                                                            \n",
       "3                       Sunday            __NA__                  W06000012  \n",
       "4                     Thursday            __NA__                             \n",
       "...                        ...               ...             ...        ...  \n",
       "97153                                                                        \n",
       "97154                                                             E07000211  \n",
       "97155                                                             E09000003  \n",
       "97156                                                                        \n",
       "97157                                                             E08000019  \n",
       "\n",
       "[97158 rows x 7 columns]"
      ]
     },
     "execution_count": 92,
     "metadata": {},
     "output_type": "execute_result"
    }
   ],
   "source": [
    "BES_Panel6[ BES_Panel6.columns[BES_Panel6.dtypes=='object'] ]"
   ]
  },
  {
   "cell_type": "code",
   "execution_count": 93,
   "metadata": {},
   "outputs": [],
   "source": [
    "BES_Panel7 = pd.read_stata(\"..\\\\BES_analysis_data\\\\\"+\"W19_comb\"+os.sep+\"BES2019_W19_Panel_v0.1.dta\",\n",
    "                        columns=list( BES_Panel6.columns[ BES_Panel6.dtypes==\"object\" ] ))\n",
    " # - and not due to loading errors into python"
   ]
  },
  {
   "cell_type": "code",
   "execution_count": 115,
   "metadata": {},
   "outputs": [
    {
     "data": {
      "text/plain": [
       "             59333\n",
       "Friday        5789\n",
       "Saturday      5562\n",
       "Monday        5434\n",
       "Tuesday       5420\n",
       "Thursday      5295\n",
       "Sunday        5196\n",
       "Wednesday     5129\n",
       "Name: xbefore_yesterday_dayW18, dtype: int64"
      ]
     },
     "execution_count": 115,
     "metadata": {},
     "output_type": "execute_result"
    }
   ],
   "source": [
    "# pd.to_datetime(\n",
    "BES_Panel7[\"xbefore_yesterday_dayW18\"].value_counts()\n",
    "               #.replace(\"\",np.nan),format=\"%Y%m%d\").value_counts()"
   ]
  },
  {
   "cell_type": "code",
   "execution_count": 109,
   "metadata": {},
   "outputs": [
    {
     "data": {
      "text/plain": [
       "            59333\n",
       "20191208     1530\n",
       "20191201     1467\n",
       "20191202     1434\n",
       "20191209     1429\n",
       "20191211     1428\n",
       "20191114     1420\n",
       "20191126     1415\n",
       "20191124     1412\n",
       "20191117     1380\n",
       "20191127     1375\n",
       "20191119     1373\n",
       "20191130     1365\n",
       "20191205     1352\n",
       "20191125     1351\n",
       "20191118     1348\n",
       "20191115     1347\n",
       "20191207     1343\n",
       "20191128     1332\n",
       "20191120     1318\n",
       "20191203     1316\n",
       "20191121     1314\n",
       "20191204     1310\n",
       "20191123     1305\n",
       "20191116     1282\n",
       "20191129     1279\n",
       "20191206     1263\n",
       "20191122     1240\n",
       "20191210     1092\n",
       "20191113        3\n",
       "20191212        2\n",
       "Name: xtoday_dateW18, dtype: int64"
      ]
     },
     "execution_count": 109,
     "metadata": {},
     "output_type": "execute_result"
    }
   ],
   "source": [
    "BES_Panel7[\"xtoday_dateW18\"].value_counts()"
   ]
  },
  {
   "cell_type": "code",
   "execution_count": 224,
   "metadata": {},
   "outputs": [
    {
     "data": {
      "text/plain": [
       "0        NaN\n",
       "1          H\n",
       "2        NaN\n",
       "3        NaN\n",
       "4        NaN\n",
       "        ... \n",
       "97153    NaN\n",
       "97154    NaN\n",
       "97155    NaN\n",
       "97156    NaN\n",
       "97157    NaN\n",
       "Name: JACS_subjectW19, Length: 97158, dtype: category\n",
       "Categories (21, object): [A, B, C, D, ..., V, W, X, Y]"
      ]
     },
     "execution_count": 224,
     "metadata": {},
     "output_type": "execute_result"
    }
   ],
   "source": [
    "BES_Panel6[\"JACS_subjectW19\"]"
   ]
  },
  {
   "cell_type": "code",
   "execution_count": 213,
   "metadata": {},
   "outputs": [],
   "source": [
    "BES_Panel7[\"JACS_subjectW19\"] = BES_Panel7[\"JACS_subjectW19\"].replace(\"\",np.nan).astype('category')\n",
    "BES_Panel7[\"uniname_statusW19\"] = BES_Panel7[\"uniname_statusW19\"].replace(\"\",np.nan).astype('category')\n",
    "BES_Panel7[\"euRefLA\"] = BES_Panel7[\"euRefLA\"].replace(\"\",np.nan).astype('category')\n",
    "BES_Panel7[\"xtoday_dateW18\"]     = pd.to_datetime(BES_Panel7[\"xtoday_dateW18\"].replace(\"\",np.nan),format=\"%Y%m%d\")\n",
    "BES_Panel7[\"xyesterday_dateW18\"] = pd.to_datetime(BES_Panel7[\"xyesterday_dateW18\"].replace(\"\",np.nan),format=\"%Y%m%d\")\n",
    "BES_Panel7[\"xbefore_yesterday_dateW18\"] = pd.to_datetime(BES_Panel7[\"xbefore_yesterday_dateW18\"].replace(\"\",np.nan),format=\"%Y%m%d\")\n",
    "BES_Panel7[\"xbefore_yesterday_dayW18\"] = BES_Panel7[\"xbefore_yesterday_dayW18\"].replace(\"\",np.nan).astype('category')\n",
    "\n",
    "BES_Panel6[BES_Panel7.columns] = BES_Panel7\n",
    "# types fixed"
   ]
  },
  {
   "cell_type": "code",
   "execution_count": null,
   "metadata": {},
   "outputs": [],
   "source": [
    "# what about the non-object types? Are they all kosher?\n",
    "\n",
    "# Not entirely\n",
    "\n",
    "# couple of straight-up bugs (in the original dta or due to an invisible loading error?)\n",
    "# some issues where things are floats when they should be bools\n",
    "# some issues where things are floats when they should be categories\n",
    "# some issues where things are floats because they have nans but - using the new panda dtypes - can actually be represented as their proper dtype with nans having their own special <NA> value"
   ]
  },
  {
   "cell_type": "code",
   "execution_count": 11,
   "metadata": {},
   "outputs": [],
   "source": [
    "# \"wt_(new|full|daily)\" - all legit\n",
    "\n",
    "# wave\\d+$ -> boolean\n",
    "\n",
    "# fatherVoteW14W15W16/motherVoteW14W15W16 -> manual fix -> category\n",
    "# countryW\\d+$ -> manual fix -> category\n",
    "\n",
    "\n",
    "\n",
    "# discussantturnoutName -> category\n",
    "# \"warm.*W7\" -> category (0-100pt +DK)\n",
    "# partyAgree2W12 -> category (0-100pt +DK)\n",
    "# generalElecCertainty2squeezeW17 -> category (1-7 +DK)\n",
    "# \"jobzone\" -> category (could maybe be \"sector\" variable?)\n",
    "\n",
    "# category_var_str = \"(discussantturnoutName|warm.*W7$|partyAgree2W12|generalElecCertainty2squeezeW17|jobzone)\"\n",
    "# BES_Panel6[ match(BES_Panel6,category_var_str).index ] = BES_Panel6[ match(BES_Panel6,category_var_str).index ].astype('category')\n",
    "\n",
    "# \"w\\d+full\" -> boolean with nans\n",
    "\n",
    "# \"pano\" -> 1-650 (uint16)\n",
    "# mapNames -> ints -> you should change this to INTS with nans\n",
    "\n",
    "# \"CampaignDayW\\d+\" -> uint8 with nans\n",
    "# riskScaleW8 -> uint8 with nans\n",
    "# identityStrengthAllW11 -> uint8 with nans\n",
    "# ptvexpgrpW14 -> ??? 1-7 unit8 with nans\n",
    "# Age: 15 -> 116 uint8 with nans\n",
    "# \"ageW\\d+$\" -> uint8 with nans\n",
    "\n",
    "# numeric_var_str = \"(Age$|ageW\\d+$|ptvexpgrpW14|identityStrengthAllW11|riskScaleW8|CampaignDayW\\d+$|mapNames|pano|w\\d+full$)\"\n",
    "# BES_Panel6[ match(BES_Panel6,numeric_var_str).index ] = BES_Panel6[ match(BES_Panel6,numeric_var_str).index ].astype('category')"
   ]
  },
  {
   "cell_type": "code",
   "execution_count": 214,
   "metadata": {},
   "outputs": [],
   "source": [
    "BES_Panel6[search(BES_Panel6,\"wave\\d+$\").index] = BES_Panel6[search(BES_Panel6,\"wave\\d+$\").index].astype('bool')\n",
    "\n",
    "motherVote_dict = {0:\"Did not vote\",1:\"Labour\",2:\"Conservatives\",3:\"Liberal Democrats/Liberals/SDP/Alliance\",\n",
    "                   4:\"Scottish National Party (SNP)\", 5:\"Plaid Cymru\",9:\"Other\",10:\"Had no usual party\",\n",
    "                   9999:\"Don't know\",98:\"Did not vote\"} # \"Didn't know mother growing up\"???\n",
    "fatherVote_dict = {0:\"Did not vote\",1:\"Labour\",2:\"Conservatives\",3:\"Liberal Democrats/Liberals/SDP/Alliance\",\n",
    "                   4:\"Scottish National Party (SNP)\", 5:\"Plaid Cymru\",9:\"Other\",10:\"Had no usual party\",\n",
    "                   9999:\"Don't know\",98:\"Did not vote\"} # \"Didn't know father growing up\"???\n",
    "\n",
    "# some guesswork in this one!\n",
    "\n",
    "BES_Panel6[\"fatherVoteW14W15W16\"] = BES_Panel6[\"fatherVoteW14W15W16\"].replace(fatherVote_dict)\n",
    "BES_Panel6[\"motherVoteW14W15W16\"] = BES_Panel6[\"motherVoteW14W15W16\"].replace(motherVote_dict)\n",
    "\n",
    "country_dict={1:\"English\",2:\"Scotland\",3:\"Wales\"}\n",
    "BES_Panel6[ match(BES_Panel6,\"countryW\\d+$\").index] = BES_Panel6[match(BES_Panel6,\"countryW\\d+$\").index].replace(country_dict)\n",
    "\n",
    "category_var_str = \"(discussantturnoutName|warm.*W7$|partyAgree2W12|generalElecCertainty2squeezeW17|jobzone)\"\n",
    "BES_Panel6[ match(BES_Panel6,category_var_str).index ] = BES_Panel6[ match(BES_Panel6,category_var_str).index ].astype('category')\n",
    "\n",
    "numeric_var_str = \"(Age$|ageW\\d+$|ptvexpgrpW14|identityStrengthAllW11|riskScaleW8|CampaignDayW\\d+$|mapNames|pano|w\\d+full$)\"\n",
    "BES_Panel6[ match(BES_Panel6,numeric_var_str).index ] = BES_Panel6[ match(BES_Panel6,numeric_var_str).index ].astype('float32')"
   ]
  },
  {
   "cell_type": "code",
   "execution_count": 218,
   "metadata": {},
   "outputs": [],
   "source": [
    "BES_Panel6[\"fatherVoteW14W15W16\"] = BES_Panel6[\"fatherVoteW14W15W16\"].astype('category')\n",
    "BES_Panel6[\"motherVoteW14W15W16\"] = BES_Panel6[\"motherVoteW14W15W16\"].astype('category')\n",
    "BES_Panel6[ match(BES_Panel6,\"countryW\\d+$\").index] = BES_Panel6[match(BES_Panel6,\"countryW\\d+$\").index].astype('category')\n"
   ]
  },
  {
   "cell_type": "code",
   "execution_count": 220,
   "metadata": {},
   "outputs": [],
   "source": [
    "numeric_var_str = \"(Age$|ageW\\d+$|ptvexpgrpW14|identityStrengthAllW11|riskScaleW8|CampaignDayW\\d+$|mapNames|pano|w\\d+full$)\"\n",
    "BES_Panel6[ match(BES_Panel6,numeric_var_str).index ] = BES_Panel6[ match(BES_Panel6,numeric_var_str).index ].astype('float32')"
   ]
  },
  {
   "cell_type": "code",
   "execution_count": 221,
   "metadata": {},
   "outputs": [
    {
     "data": {
      "text/plain": [
       "float64           69\n",
       "float32           51\n",
       "datetime64[ns]    46\n",
       "bool              19\n",
       "int32              1\n",
       "dtype: int64"
      ]
     },
     "execution_count": 221,
     "metadata": {},
     "output_type": "execute_result"
    }
   ],
   "source": [
    "BES_Panel6.dtypes[BES_Panel6.dtypes!='category'].value_counts()"
   ]
  },
  {
   "cell_type": "code",
   "execution_count": null,
   "metadata": {},
   "outputs": [],
   "source": [
    "BES_Panel.to_pickle(\"..\\\\BES_analysis_data\\\\\"+\"W19_comb\"+os.sep+\"BES2019_W19_Panel_v0.1.zip\",compression='zip')"
   ]
  },
  {
   "cell_type": "code",
   "execution_count": null,
   "metadata": {},
   "outputs": [],
   "source": []
  },
  {
   "cell_type": "code",
   "execution_count": null,
   "metadata": {},
   "outputs": [],
   "source": [
    "#### well-deserved break"
   ]
  },
  {
   "cell_type": "code",
   "execution_count": null,
   "metadata": {},
   "outputs": [],
   "source": []
  },
  {
   "cell_type": "code",
   "execution_count": null,
   "metadata": {},
   "outputs": [],
   "source": [
    "# load and downcast/convert to nannable types"
   ]
  },
  {
   "cell_type": "code",
   "execution_count": null,
   "metadata": {},
   "outputs": [],
   "source": [
    "BES_Panel = pd.read_pickle(\"..\\\\BES_analysis_data\\\\\"+\"W19_comb\"+os.sep+\"BES2019_W19_Panel_v0.1.zip\",compression='zip')"
   ]
  },
  {
   "cell_type": "code",
   "execution_count": null,
   "metadata": {},
   "outputs": [],
   "source": [
    "BES_Panel.dtypes[BES_Panel.dtypes!='category'].value_counts()"
   ]
  },
  {
   "cell_type": "code",
   "execution_count": null,
   "metadata": {},
   "outputs": [],
   "source": [
    "float64_vars = BES_Panel.columns[BES_Panel.dtypes=='float64'] # all weights\n",
    "large_int_vars = match(BES_Panel,\"pano|mapNames\").index\n",
    "small_int_vars = match(BES_Panel,\"Age$|ageW\\d+$|ptvexpgrpW14|identityStrengthAllW11|riskScaleW8|CampaignDayW\\d+$\").index\n",
    "boolean_vars = match(BES_Panel,\"w\\d+full\").index\n",
    "\n",
    "# cogempathyIRTW14\taffempathyIRTW14\tzeroSumIRTW14 -> really are floats\n",
    "\n",
    "## note - all downcasting is \"safe\" because it throws an error if you try to cast in such a way that\n",
    "## your reducing a variable below the maximum size it needs to represent it's value"
   ]
  },
  {
   "cell_type": "code",
   "execution_count": null,
   "metadata": {},
   "outputs": [],
   "source": [
    "# downcast to ordinary pandas dtypes\n",
    "BES_Panel[float64_vars] = BES_Panel[float64_vars] = BES_Panel[float64_vars].apply( lambda x: pd.to_numeric(x, downcast='float') )\n",
    "# BES_Panel[\"id\"] = BES_Panel[\"id\"].apply( lambda x: pd.to_numeric(x, downcast='unsigned') ) # technically uint32 is sufficient, but I'll leave this one be"
   ]
  },
  {
   "cell_type": "code",
   "execution_count": null,
   "metadata": {},
   "outputs": [],
   "source": [
    "BES_Panel.to_stata(\"..\\\\BES_analysis_data\\\\\"+\"W19_comb\"+os.sep+\"BES2019_W19_Panel_v0.1_cleaned.dta\")\n",
    "# to_stata can't handle nannable types\n",
    "\n",
    "# default is most widely accessible Version 114\n",
    "# but could also use Version 117 in which case strL variables names can be used -> output dta is then smaller"
   ]
  },
  {
   "cell_type": "code",
   "execution_count": null,
   "metadata": {},
   "outputs": [],
   "source": [
    "# downcast to new Nannnable dtypes\n",
    "BES_Panel[large_int_vars] = BES_Panel[large_int_vars].astype(\"Int16\")\n",
    "BES_Panel[boolean_vars] = BES_Panel[boolean_vars] = BES_Panel[boolean_vars].astype('boolean')\n",
    "BES_Panel[small_int_vars] = BES_Panel[small_int_vars].replace(9999,np.nan).astype(\"Int8\")\n"
   ]
  },
  {
   "cell_type": "code",
   "execution_count": null,
   "metadata": {},
   "outputs": [],
   "source": [
    "BES_Panel.to_pickle(\"..\\\\BES_analysis_data\\\\\"+\"W19_comb\"+os.sep+\"BES2019_W19_Panel_v0.1_cleaned.zip\",compression='zip')\n",
    "# zipped pickle works fine as storage/quick load option"
   ]
  },
  {
   "cell_type": "code",
   "execution_count": null,
   "metadata": {},
   "outputs": [],
   "source": []
  },
  {
   "cell_type": "code",
   "execution_count": null,
   "metadata": {},
   "outputs": [],
   "source": [
    "# careful check that the zipped pickle stores everything okay"
   ]
  },
  {
   "cell_type": "code",
   "execution_count": 25,
   "metadata": {},
   "outputs": [],
   "source": [
    "BES_Panel_check = pd.read_pickle(\"..\\\\BES_analysis_data\\\\\"+\"W19_comb\"+os.sep+\"BES2019_W19_Panel_v0.1_cleaned.zip\",compression='zip')\n",
    "# zipped pickle works fine as storage/quick load option"
   ]
  },
  {
   "cell_type": "code",
   "execution_count": 26,
   "metadata": {},
   "outputs": [
    {
     "data": {
      "text/plain": [
       "(97158, 7911)"
      ]
     },
     "execution_count": 26,
     "metadata": {},
     "output_type": "execute_result"
    }
   ],
   "source": [
    "BES_Panel_check.shape"
   ]
  },
  {
   "cell_type": "code",
   "execution_count": 27,
   "metadata": {},
   "outputs": [
    {
     "data": {
      "text/plain": [
       "category    2487\n",
       "category     403\n",
       "category     331\n",
       "category     205\n",
       "category     173\n",
       "            ... \n",
       "category       1\n",
       "category       1\n",
       "category       1\n",
       "category       1\n",
       "category       1\n",
       "Length: 579, dtype: int64"
      ]
     },
     "execution_count": 27,
     "metadata": {},
     "output_type": "execute_result"
    }
   ],
   "source": [
    "BES_Panel_check.dtypes.value_counts()"
   ]
  },
  {
   "cell_type": "code",
   "execution_count": 28,
   "metadata": {},
   "outputs": [
    {
     "data": {
      "text/plain": [
       "category          475\n",
       "float32            72\n",
       "datetime64[ns]     46\n",
       "category           31\n",
       "category           28\n",
       "                 ... \n",
       "category            1\n",
       "category            1\n",
       "category            1\n",
       "category            1\n",
       "category            1\n",
       "Length: 249, dtype: int64"
      ]
     },
     "execution_count": 28,
     "metadata": {},
     "output_type": "execute_result"
    }
   ],
   "source": [
    "BES_Panel_check.dtypes[BES_Panel_paranoia.dtypes!='category'].value_counts()"
   ]
  },
  {
   "cell_type": "code",
   "execution_count": null,
   "metadata": {},
   "outputs": [],
   "source": [
    "# perfect!"
   ]
  },
  {
   "cell_type": "code",
   "execution_count": null,
   "metadata": {},
   "outputs": [],
   "source": []
  },
  {
   "cell_type": "code",
   "execution_count": null,
   "metadata": {},
   "outputs": [],
   "source": [
    "# paranoid check on the \"cleaned\" dta output (it's half the size of the original!)"
   ]
  },
  {
   "cell_type": "code",
   "execution_count": null,
   "metadata": {},
   "outputs": [],
   "source": [
    "# BES_Panel = pd.read_stata(\"../BES_analysis_data/\"+\"W19_comb\"+os.sep+\"BES2019_W19_Panel_v0.1_cleaned.dta\")\n",
    "# even cleaned I can't load this direct (on a 16Gb machine)"
   ]
  },
  {
   "cell_type": "code",
   "execution_count": 39,
   "metadata": {},
   "outputs": [
    {
     "name": "stdout",
     "output_type": "stream",
     "text": [
      "started\n",
      "0 2020-03-10 18:02:22.455099\n",
      "1 2020-03-10 18:03:06.285605\n",
      "2 2020-03-10 18:03:51.544194\n",
      "3 2020-03-10 18:04:38.139859\n",
      "4 2020-03-10 18:05:20.672292\n",
      "5 2020-03-10 18:06:02.682695\n",
      "6 2020-03-10 18:06:43.392023\n",
      "7 2020-03-10 18:07:24.435371\n",
      "8 2020-03-10 18:08:06.812795\n",
      "9 2020-03-10 18:08:50.032267\n",
      "10 2020-03-10 18:09:34.099787\n",
      "11 2020-03-10 18:10:18.404321\n",
      "12 2020-03-10 18:11:04.000929\n",
      "13 2020-03-10 18:11:50.012561\n",
      "14 2020-03-10 18:12:36.584225\n",
      "15 2020-03-10 18:13:24.070941\n",
      "16 2020-03-10 18:14:12.450708\n",
      "17 2020-03-10 18:15:01.583518\n",
      "18 2020-03-10 18:15:51.020346\n",
      "19 2020-03-10 18:16:41.435229\n",
      "20 2020-03-10 18:17:32.591155\n",
      "21 2020-03-10 18:18:24.279112\n",
      "22 2020-03-10 18:19:17.159136\n",
      "23 2020-03-10 18:20:10.492187\n",
      "24 2020-03-10 18:21:03.801236\n",
      "25 2020-03-10 18:22:01.208519\n",
      "26 2020-03-10 18:23:00.326901\n",
      "27 2020-03-10 18:23:59.570289\n",
      "28 2020-03-10 18:25:02.782905\n",
      "29 2020-03-10 18:26:12.643901\n",
      "30 2020-03-10 18:27:16.746567\n",
      "31 2020-03-10 18:28:15.860948\n",
      "32 2020-03-10 18:29:23.704829\n",
      "33 2020-03-10 18:30:34.028851\n",
      "34 2020-03-10 18:31:43.153805\n",
      "35 2020-03-10 18:32:49.345591\n",
      "36 2020-03-10 18:33:56.402426\n",
      "37 2020-03-10 18:35:02.545209\n",
      "38 2020-03-10 18:36:09.362031\n",
      "39 2020-03-10 18:37:19.043016\n"
     ]
    },
    {
     "ename": "KeyboardInterrupt",
     "evalue": "",
     "output_type": "error",
     "traceback": [
      "\u001b[1;31m---------------------------------------------------------------------------\u001b[0m",
      "\u001b[1;31mTypeError\u001b[0m                                 Traceback (most recent call last)",
      "\u001b[1;32mC:\\ProgramData\\Anaconda3\\envs\\BES_analysis\\lib\\site-packages\\pandas\\core\\series.py\u001b[0m in \u001b[0;36m__setitem__\u001b[1;34m(self, key, value)\u001b[0m\n\u001b[0;32m   1013\u001b[0m         \u001b[1;32mtry\u001b[0m\u001b[1;33m:\u001b[0m\u001b[1;33m\u001b[0m\u001b[1;33m\u001b[0m\u001b[0m\n\u001b[1;32m-> 1014\u001b[1;33m             \u001b[0mself\u001b[0m\u001b[1;33m.\u001b[0m\u001b[0m_set_with_engine\u001b[0m\u001b[1;33m(\u001b[0m\u001b[0mkey\u001b[0m\u001b[1;33m,\u001b[0m \u001b[0mvalue\u001b[0m\u001b[1;33m)\u001b[0m\u001b[1;33m\u001b[0m\u001b[1;33m\u001b[0m\u001b[0m\n\u001b[0m\u001b[0;32m   1015\u001b[0m         \u001b[1;32mexcept\u001b[0m \u001b[0mcom\u001b[0m\u001b[1;33m.\u001b[0m\u001b[0mSettingWithCopyError\u001b[0m\u001b[1;33m:\u001b[0m\u001b[1;33m\u001b[0m\u001b[1;33m\u001b[0m\u001b[0m\n",
      "\u001b[1;32mC:\\ProgramData\\Anaconda3\\envs\\BES_analysis\\lib\\site-packages\\pandas\\core\\series.py\u001b[0m in \u001b[0;36m_set_with_engine\u001b[1;34m(self, key, value)\u001b[0m\n\u001b[0;32m   1053\u001b[0m         \u001b[1;32mtry\u001b[0m\u001b[1;33m:\u001b[0m\u001b[1;33m\u001b[0m\u001b[1;33m\u001b[0m\u001b[0m\n\u001b[1;32m-> 1054\u001b[1;33m             \u001b[0mself\u001b[0m\u001b[1;33m.\u001b[0m\u001b[0mindex\u001b[0m\u001b[1;33m.\u001b[0m\u001b[0m_engine\u001b[0m\u001b[1;33m.\u001b[0m\u001b[0mset_value\u001b[0m\u001b[1;33m(\u001b[0m\u001b[0mvalues\u001b[0m\u001b[1;33m,\u001b[0m \u001b[0mkey\u001b[0m\u001b[1;33m,\u001b[0m \u001b[0mvalue\u001b[0m\u001b[1;33m)\u001b[0m\u001b[1;33m\u001b[0m\u001b[1;33m\u001b[0m\u001b[0m\n\u001b[0m\u001b[0;32m   1055\u001b[0m             \u001b[1;32mreturn\u001b[0m\u001b[1;33m\u001b[0m\u001b[1;33m\u001b[0m\u001b[0m\n",
      "\u001b[1;32mpandas\\_libs\\index.pyx\u001b[0m in \u001b[0;36mpandas._libs.index.IndexEngine.set_value\u001b[1;34m()\u001b[0m\n",
      "\u001b[1;32mpandas\\_libs\\index.pyx\u001b[0m in \u001b[0;36mpandas._libs.index.IndexEngine.set_value\u001b[1;34m()\u001b[0m\n",
      "\u001b[1;32mpandas\\_libs\\index.pyx\u001b[0m in \u001b[0;36mpandas._libs.index.IndexEngine.get_loc\u001b[1;34m()\u001b[0m\n",
      "\u001b[1;31mTypeError\u001b[0m: '400    True\n401    True\n402    True\n403    True\n404    True\n405    True\n406    True\n407    True\n408    True\n409    True\nName: partyContactUKIP_3W14, dtype: bool' is an invalid key",
      "\nDuring handling of the above exception, another exception occurred:\n",
      "\u001b[1;31mKeyboardInterrupt\u001b[0m                         Traceback (most recent call last)",
      "\u001b[1;32m<timed exec>\u001b[0m in \u001b[0;36m<module>\u001b[1;34m\u001b[0m\n",
      "\u001b[1;32m<ipython-input-12-7d6db931032a>\u001b[0m in \u001b[0;36mload_large_dta\u001b[1;34m(fname, chunksize, columns)\u001b[0m\n\u001b[0;32m      5\u001b[0m     \u001b[0mdf\u001b[0m \u001b[1;33m=\u001b[0m \u001b[0mpd\u001b[0m\u001b[1;33m.\u001b[0m\u001b[0mDataFrame\u001b[0m\u001b[1;33m(\u001b[0m\u001b[1;33m)\u001b[0m\u001b[1;33m\u001b[0m\u001b[1;33m\u001b[0m\u001b[0m\n\u001b[0;32m      6\u001b[0m     \u001b[0mprint\u001b[0m\u001b[1;33m(\u001b[0m\u001b[1;34m\"started\"\u001b[0m\u001b[1;33m)\u001b[0m\u001b[1;33m\u001b[0m\u001b[1;33m\u001b[0m\u001b[0m\n\u001b[1;32m----> 7\u001b[1;33m     \u001b[1;32mfor\u001b[0m \u001b[0mchunk\u001b[0m \u001b[1;32min\u001b[0m \u001b[0mreader\u001b[0m\u001b[1;33m:\u001b[0m\u001b[1;33m\u001b[0m\u001b[1;33m\u001b[0m\u001b[0m\n\u001b[0m\u001b[0;32m      8\u001b[0m         \u001b[0mdf\u001b[0m \u001b[1;33m=\u001b[0m \u001b[0mdf\u001b[0m\u001b[1;33m.\u001b[0m\u001b[0mappend\u001b[0m\u001b[1;33m(\u001b[0m\u001b[0mchunk\u001b[0m\u001b[1;33m)\u001b[0m\u001b[1;33m\u001b[0m\u001b[1;33m\u001b[0m\u001b[0m\n\u001b[0;32m      9\u001b[0m \u001b[1;33m\u001b[0m\u001b[0m\n",
      "\u001b[1;32mC:\\ProgramData\\Anaconda3\\envs\\BES_analysis\\lib\\site-packages\\pandas\\io\\stata.py\u001b[0m in \u001b[0;36m__next__\u001b[1;34m(self)\u001b[0m\n\u001b[0;32m   1492\u001b[0m \u001b[1;33m\u001b[0m\u001b[0m\n\u001b[0;32m   1493\u001b[0m     \u001b[1;32mdef\u001b[0m \u001b[0m__next__\u001b[0m\u001b[1;33m(\u001b[0m\u001b[0mself\u001b[0m\u001b[1;33m)\u001b[0m\u001b[1;33m:\u001b[0m\u001b[1;33m\u001b[0m\u001b[1;33m\u001b[0m\u001b[0m\n\u001b[1;32m-> 1494\u001b[1;33m         \u001b[1;32mreturn\u001b[0m \u001b[0mself\u001b[0m\u001b[1;33m.\u001b[0m\u001b[0mread\u001b[0m\u001b[1;33m(\u001b[0m\u001b[0mnrows\u001b[0m\u001b[1;33m=\u001b[0m\u001b[0mself\u001b[0m\u001b[1;33m.\u001b[0m\u001b[0m_chunksize\u001b[0m \u001b[1;32mor\u001b[0m \u001b[1;36m1\u001b[0m\u001b[1;33m)\u001b[0m\u001b[1;33m\u001b[0m\u001b[1;33m\u001b[0m\u001b[0m\n\u001b[0m\u001b[0;32m   1495\u001b[0m \u001b[1;33m\u001b[0m\u001b[0m\n\u001b[0;32m   1496\u001b[0m     \u001b[1;32mdef\u001b[0m \u001b[0mget_chunk\u001b[0m\u001b[1;33m(\u001b[0m\u001b[0mself\u001b[0m\u001b[1;33m,\u001b[0m \u001b[0msize\u001b[0m\u001b[1;33m=\u001b[0m\u001b[1;32mNone\u001b[0m\u001b[1;33m)\u001b[0m\u001b[1;33m:\u001b[0m\u001b[1;33m\u001b[0m\u001b[1;33m\u001b[0m\u001b[0m\n",
      "\u001b[1;32mC:\\ProgramData\\Anaconda3\\envs\\BES_analysis\\lib\\site-packages\\pandas\\io\\stata.py\u001b[0m in \u001b[0;36mread\u001b[1;34m(self, nrows, convert_dates, convert_categoricals, index_col, convert_missing, preserve_dtypes, columns, order_categoricals)\u001b[0m\n\u001b[0;32m   1632\u001b[0m         \u001b[1;32mdel\u001b[0m \u001b[0mdata_formatted\u001b[0m\u001b[1;33m\u001b[0m\u001b[1;33m\u001b[0m\u001b[0m\n\u001b[0;32m   1633\u001b[0m \u001b[1;33m\u001b[0m\u001b[0m\n\u001b[1;32m-> 1634\u001b[1;33m         \u001b[0mdata\u001b[0m \u001b[1;33m=\u001b[0m \u001b[0mself\u001b[0m\u001b[1;33m.\u001b[0m\u001b[0m_do_convert_missing\u001b[0m\u001b[1;33m(\u001b[0m\u001b[0mdata\u001b[0m\u001b[1;33m,\u001b[0m \u001b[0mconvert_missing\u001b[0m\u001b[1;33m)\u001b[0m\u001b[1;33m\u001b[0m\u001b[1;33m\u001b[0m\u001b[0m\n\u001b[0m\u001b[0;32m   1635\u001b[0m \u001b[1;33m\u001b[0m\u001b[0m\n\u001b[0;32m   1636\u001b[0m         \u001b[1;32mif\u001b[0m \u001b[0mconvert_dates\u001b[0m\u001b[1;33m:\u001b[0m\u001b[1;33m\u001b[0m\u001b[1;33m\u001b[0m\u001b[0m\n",
      "\u001b[1;32mC:\\ProgramData\\Anaconda3\\envs\\BES_analysis\\lib\\site-packages\\pandas\\io\\stata.py\u001b[0m in \u001b[0;36m_do_convert_missing\u001b[1;34m(self, data, convert_missing)\u001b[0m\n\u001b[0;32m   1705\u001b[0m                     \u001b[0mdtype\u001b[0m \u001b[1;33m=\u001b[0m \u001b[0mnp\u001b[0m\u001b[1;33m.\u001b[0m\u001b[0mfloat64\u001b[0m\u001b[1;33m\u001b[0m\u001b[1;33m\u001b[0m\u001b[0m\n\u001b[0;32m   1706\u001b[0m                 \u001b[0mreplacement\u001b[0m \u001b[1;33m=\u001b[0m \u001b[0mSeries\u001b[0m\u001b[1;33m(\u001b[0m\u001b[0mseries\u001b[0m\u001b[1;33m,\u001b[0m \u001b[0mdtype\u001b[0m\u001b[1;33m=\u001b[0m\u001b[0mdtype\u001b[0m\u001b[1;33m)\u001b[0m\u001b[1;33m\u001b[0m\u001b[1;33m\u001b[0m\u001b[0m\n\u001b[1;32m-> 1707\u001b[1;33m                 \u001b[0mreplacement\u001b[0m\u001b[1;33m[\u001b[0m\u001b[0mmissing\u001b[0m\u001b[1;33m]\u001b[0m \u001b[1;33m=\u001b[0m \u001b[0mnp\u001b[0m\u001b[1;33m.\u001b[0m\u001b[0mnan\u001b[0m\u001b[1;33m\u001b[0m\u001b[1;33m\u001b[0m\u001b[0m\n\u001b[0m\u001b[0;32m   1708\u001b[0m             \u001b[0mreplacements\u001b[0m\u001b[1;33m[\u001b[0m\u001b[0mcolname\u001b[0m\u001b[1;33m]\u001b[0m \u001b[1;33m=\u001b[0m \u001b[0mreplacement\u001b[0m\u001b[1;33m\u001b[0m\u001b[1;33m\u001b[0m\u001b[0m\n\u001b[0;32m   1709\u001b[0m         \u001b[1;32mif\u001b[0m \u001b[0mreplacements\u001b[0m\u001b[1;33m:\u001b[0m\u001b[1;33m\u001b[0m\u001b[1;33m\u001b[0m\u001b[0m\n",
      "\u001b[1;32mC:\\ProgramData\\Anaconda3\\envs\\BES_analysis\\lib\\site-packages\\pandas\\core\\series.py\u001b[0m in \u001b[0;36m__setitem__\u001b[1;34m(self, key, value)\u001b[0m\n\u001b[0;32m   1035\u001b[0m                 \u001b[0mkey\u001b[0m \u001b[1;33m=\u001b[0m \u001b[0mcheck_bool_indexer\u001b[0m\u001b[1;33m(\u001b[0m\u001b[0mself\u001b[0m\u001b[1;33m.\u001b[0m\u001b[0mindex\u001b[0m\u001b[1;33m,\u001b[0m \u001b[0mkey\u001b[0m\u001b[1;33m)\u001b[0m\u001b[1;33m\u001b[0m\u001b[1;33m\u001b[0m\u001b[0m\n\u001b[0;32m   1036\u001b[0m                 \u001b[1;32mtry\u001b[0m\u001b[1;33m:\u001b[0m\u001b[1;33m\u001b[0m\u001b[1;33m\u001b[0m\u001b[0m\n\u001b[1;32m-> 1037\u001b[1;33m                     \u001b[0mself\u001b[0m\u001b[1;33m.\u001b[0m\u001b[0m_where\u001b[0m\u001b[1;33m(\u001b[0m\u001b[1;33m~\u001b[0m\u001b[0mkey\u001b[0m\u001b[1;33m,\u001b[0m \u001b[0mvalue\u001b[0m\u001b[1;33m,\u001b[0m \u001b[0minplace\u001b[0m\u001b[1;33m=\u001b[0m\u001b[1;32mTrue\u001b[0m\u001b[1;33m)\u001b[0m\u001b[1;33m\u001b[0m\u001b[1;33m\u001b[0m\u001b[0m\n\u001b[0m\u001b[0;32m   1038\u001b[0m                     \u001b[1;32mreturn\u001b[0m\u001b[1;33m\u001b[0m\u001b[1;33m\u001b[0m\u001b[0m\n\u001b[0;32m   1039\u001b[0m                 \u001b[1;32mexcept\u001b[0m \u001b[0mInvalidIndexError\u001b[0m\u001b[1;33m:\u001b[0m\u001b[1;33m\u001b[0m\u001b[1;33m\u001b[0m\u001b[0m\n",
      "\u001b[1;32mC:\\ProgramData\\Anaconda3\\envs\\BES_analysis\\lib\\site-packages\\pandas\\core\\generic.py\u001b[0m in \u001b[0;36m_where\u001b[1;34m(self, cond, other, inplace, axis, level, errors, try_cast)\u001b[0m\n\u001b[0;32m   8763\u001b[0m                 \u001b[0minplace\u001b[0m\u001b[1;33m=\u001b[0m\u001b[1;32mTrue\u001b[0m\u001b[1;33m,\u001b[0m\u001b[1;33m\u001b[0m\u001b[1;33m\u001b[0m\u001b[0m\n\u001b[0;32m   8764\u001b[0m                 \u001b[0maxis\u001b[0m\u001b[1;33m=\u001b[0m\u001b[0mblock_axis\u001b[0m\u001b[1;33m,\u001b[0m\u001b[1;33m\u001b[0m\u001b[1;33m\u001b[0m\u001b[0m\n\u001b[1;32m-> 8765\u001b[1;33m                 \u001b[0mtranspose\u001b[0m\u001b[1;33m=\u001b[0m\u001b[0mself\u001b[0m\u001b[1;33m.\u001b[0m\u001b[0m_AXIS_REVERSED\u001b[0m\u001b[1;33m,\u001b[0m\u001b[1;33m\u001b[0m\u001b[1;33m\u001b[0m\u001b[0m\n\u001b[0m\u001b[0;32m   8766\u001b[0m             )\n\u001b[0;32m   8767\u001b[0m             \u001b[0mself\u001b[0m\u001b[1;33m.\u001b[0m\u001b[0m_update_inplace\u001b[0m\u001b[1;33m(\u001b[0m\u001b[0mnew_data\u001b[0m\u001b[1;33m)\u001b[0m\u001b[1;33m\u001b[0m\u001b[1;33m\u001b[0m\u001b[0m\n",
      "\u001b[1;32mC:\\ProgramData\\Anaconda3\\envs\\BES_analysis\\lib\\site-packages\\pandas\\core\\internals\\managers.py\u001b[0m in \u001b[0;36mputmask\u001b[1;34m(self, **kwargs)\u001b[0m\n\u001b[0;32m    562\u001b[0m \u001b[1;33m\u001b[0m\u001b[0m\n\u001b[0;32m    563\u001b[0m     \u001b[1;32mdef\u001b[0m \u001b[0mputmask\u001b[0m\u001b[1;33m(\u001b[0m\u001b[0mself\u001b[0m\u001b[1;33m,\u001b[0m \u001b[1;33m**\u001b[0m\u001b[0mkwargs\u001b[0m\u001b[1;33m)\u001b[0m\u001b[1;33m:\u001b[0m\u001b[1;33m\u001b[0m\u001b[1;33m\u001b[0m\u001b[0m\n\u001b[1;32m--> 564\u001b[1;33m         \u001b[1;32mreturn\u001b[0m \u001b[0mself\u001b[0m\u001b[1;33m.\u001b[0m\u001b[0mapply\u001b[0m\u001b[1;33m(\u001b[0m\u001b[1;34m\"putmask\"\u001b[0m\u001b[1;33m,\u001b[0m \u001b[1;33m**\u001b[0m\u001b[0mkwargs\u001b[0m\u001b[1;33m)\u001b[0m\u001b[1;33m\u001b[0m\u001b[1;33m\u001b[0m\u001b[0m\n\u001b[0m\u001b[0;32m    565\u001b[0m \u001b[1;33m\u001b[0m\u001b[0m\n\u001b[0;32m    566\u001b[0m     \u001b[1;32mdef\u001b[0m \u001b[0mdiff\u001b[0m\u001b[1;33m(\u001b[0m\u001b[0mself\u001b[0m\u001b[1;33m,\u001b[0m \u001b[1;33m**\u001b[0m\u001b[0mkwargs\u001b[0m\u001b[1;33m)\u001b[0m\u001b[1;33m:\u001b[0m\u001b[1;33m\u001b[0m\u001b[1;33m\u001b[0m\u001b[0m\n",
      "\u001b[1;32mC:\\ProgramData\\Anaconda3\\envs\\BES_analysis\\lib\\site-packages\\pandas\\core\\internals\\managers.py\u001b[0m in \u001b[0;36mapply\u001b[1;34m(self, f, filter, **kwargs)\u001b[0m\n\u001b[0;32m    440\u001b[0m                 \u001b[0mapplied\u001b[0m \u001b[1;33m=\u001b[0m \u001b[0mb\u001b[0m\u001b[1;33m.\u001b[0m\u001b[0mapply\u001b[0m\u001b[1;33m(\u001b[0m\u001b[0mf\u001b[0m\u001b[1;33m,\u001b[0m \u001b[1;33m**\u001b[0m\u001b[0mkwargs\u001b[0m\u001b[1;33m)\u001b[0m\u001b[1;33m\u001b[0m\u001b[1;33m\u001b[0m\u001b[0m\n\u001b[0;32m    441\u001b[0m             \u001b[1;32melse\u001b[0m\u001b[1;33m:\u001b[0m\u001b[1;33m\u001b[0m\u001b[1;33m\u001b[0m\u001b[0m\n\u001b[1;32m--> 442\u001b[1;33m                 \u001b[0mapplied\u001b[0m \u001b[1;33m=\u001b[0m \u001b[0mgetattr\u001b[0m\u001b[1;33m(\u001b[0m\u001b[0mb\u001b[0m\u001b[1;33m,\u001b[0m \u001b[0mf\u001b[0m\u001b[1;33m)\u001b[0m\u001b[1;33m(\u001b[0m\u001b[1;33m**\u001b[0m\u001b[0mkwargs\u001b[0m\u001b[1;33m)\u001b[0m\u001b[1;33m\u001b[0m\u001b[1;33m\u001b[0m\u001b[0m\n\u001b[0m\u001b[0;32m    443\u001b[0m             \u001b[0mresult_blocks\u001b[0m \u001b[1;33m=\u001b[0m \u001b[0m_extend_blocks\u001b[0m\u001b[1;33m(\u001b[0m\u001b[0mapplied\u001b[0m\u001b[1;33m,\u001b[0m \u001b[0mresult_blocks\u001b[0m\u001b[1;33m)\u001b[0m\u001b[1;33m\u001b[0m\u001b[1;33m\u001b[0m\u001b[0m\n\u001b[0;32m    444\u001b[0m \u001b[1;33m\u001b[0m\u001b[0m\n",
      "\u001b[1;32mC:\\ProgramData\\Anaconda3\\envs\\BES_analysis\\lib\\site-packages\\pandas\\core\\internals\\blocks.py\u001b[0m in \u001b[0;36mputmask\u001b[1;34m(self, mask, new, align, inplace, axis, transpose)\u001b[0m\n\u001b[0;32m    991\u001b[0m                     \u001b[1;32mraise\u001b[0m \u001b[0mValueError\u001b[0m\u001b[1;33m(\u001b[0m\u001b[1;34m\"cannot assign mismatch length to masked array\"\u001b[0m\u001b[1;33m)\u001b[0m\u001b[1;33m\u001b[0m\u001b[1;33m\u001b[0m\u001b[0m\n\u001b[0;32m    992\u001b[0m             \u001b[1;32melse\u001b[0m\u001b[1;33m:\u001b[0m\u001b[1;33m\u001b[0m\u001b[1;33m\u001b[0m\u001b[0m\n\u001b[1;32m--> 993\u001b[1;33m                 \u001b[0mnp\u001b[0m\u001b[1;33m.\u001b[0m\u001b[0mputmask\u001b[0m\u001b[1;33m(\u001b[0m\u001b[0mnew_values\u001b[0m\u001b[1;33m,\u001b[0m \u001b[0mmask\u001b[0m\u001b[1;33m,\u001b[0m \u001b[0mnew\u001b[0m\u001b[1;33m)\u001b[0m\u001b[1;33m\u001b[0m\u001b[1;33m\u001b[0m\u001b[0m\n\u001b[0m\u001b[0;32m    994\u001b[0m \u001b[1;33m\u001b[0m\u001b[0m\n\u001b[0;32m    995\u001b[0m         \u001b[1;31m# maybe upcast me\u001b[0m\u001b[1;33m\u001b[0m\u001b[1;33m\u001b[0m\u001b[1;33m\u001b[0m\u001b[0m\n",
      "\u001b[1;32m<__array_function__ internals>\u001b[0m in \u001b[0;36mputmask\u001b[1;34m(*args, **kwargs)\u001b[0m\n",
      "\u001b[1;31mKeyboardInterrupt\u001b[0m: "
     ]
    }
   ],
   "source": [
    "%%time\n",
    "BES_Panel_paranoia = load_large_dta(\"..\\\\BES_analysis_data\\\\\"+\"W19_comb\"+os.sep+\"BES2019_W19_Panel_v0.1_cleaned.dta\", chunksize=10)\n",
    "# note, this crashed when I ran it with *too small a chunk size* (1000)\n",
    "# bingo!"
   ]
  },
  {
   "cell_type": "code",
   "execution_count": 20,
   "metadata": {},
   "outputs": [
    {
     "data": {
      "text/plain": [
       "(97158, 7912)"
      ]
     },
     "execution_count": 20,
     "metadata": {},
     "output_type": "execute_result"
    }
   ],
   "source": [
    "BES_Panel_paranoia.shape"
   ]
  },
  {
   "cell_type": "code",
   "execution_count": 21,
   "metadata": {},
   "outputs": [
    {
     "data": {
      "text/plain": [
       "category    2012\n",
       "object       999\n",
       "category     403\n",
       "category     310\n",
       "category     199\n",
       "            ... \n",
       "category       1\n",
       "category       1\n",
       "category       1\n",
       "category       1\n",
       "category       1\n",
       "Length: 435, dtype: int64"
      ]
     },
     "execution_count": 21,
     "metadata": {},
     "output_type": "execute_result"
    }
   ],
   "source": [
    "BES_Panel_paranoia.dtypes.value_counts()"
   ]
  },
  {
   "cell_type": "code",
   "execution_count": 22,
   "metadata": {},
   "outputs": [
    {
     "data": {
      "text/plain": [
       "object            999\n",
       "float32           120\n",
       "datetime64[ns]     46\n",
       "int8               19\n",
       "int32               2\n",
       "dtype: int64"
      ]
     },
     "execution_count": 22,
     "metadata": {},
     "output_type": "execute_result"
    }
   ],
   "source": [
    "BES_Panel_paranoia.dtypes[BES_Panel_paranoia.dtypes!='category'].value_counts()"
   ]
  },
  {
   "cell_type": "code",
   "execution_count": 24,
   "metadata": {},
   "outputs": [],
   "source": [
    "# objects still an issue with chunk iteration on slightly slimmed down dta"
   ]
  },
  {
   "cell_type": "code",
   "execution_count": null,
   "metadata": {},
   "outputs": [],
   "source": []
  },
  {
   "cell_type": "code",
   "execution_count": 30,
   "metadata": {},
   "outputs": [],
   "source": [
    "BES_Panel = pd.read_pickle(\"..\\\\BES_analysis_data\\\\\"+\"W19_comb\"+os.sep+\"BES2019_W19_Panel_v0.1_cleaned.zip\",compression='zip')\n",
    "# zipped pickle works fine as storage/quick load option"
   ]
  },
  {
   "cell_type": "code",
   "execution_count": 33,
   "metadata": {},
   "outputs": [
    {
     "data": {
      "text/plain": [
       "motherVoteW17           3564\n",
       "motherVoteW14W15W16    49947\n",
       "dtype: int64"
      ]
     },
     "execution_count": 33,
     "metadata": {},
     "output_type": "execute_result"
    }
   ],
   "source": [
    "from utility import *\n",
    "search(BES_Panel_check, \"motherVote\")"
   ]
  },
  {
   "cell_type": "code",
   "execution_count": 37,
   "metadata": {},
   "outputs": [
    {
     "data": {
      "text/plain": [
       "Labour                                     1239\n",
       "Don't know                                  929\n",
       "Conservatives                               744\n",
       "Liberal Democrats/Liberals/SDP/Alliance     217\n",
       "Did not vote                                170\n",
       "Had no usual party                          104\n",
       "Didn't know mother growing up                51\n",
       "Other                                        50\n",
       "Scottish National Party (SNP)                29\n",
       "UKIP                                         21\n",
       "Plaid Cymru                                  10\n",
       "Name: motherVoteW17, dtype: int64"
      ]
     },
     "execution_count": 37,
     "metadata": {},
     "output_type": "execute_result"
    }
   ],
   "source": [
    "BES_Panel_check[\"motherVoteW17\"].value_counts()"
   ]
  },
  {
   "cell_type": "code",
   "execution_count": 36,
   "metadata": {},
   "outputs": [
    {
     "data": {
      "text/plain": [
       "Labour                                     16286\n",
       "Don't know                                 13182\n",
       "Conservatives                              12424\n",
       "Liberal Democrats/Liberals/SDP/Alliance     3006\n",
       "Didn't know father growing up               1952\n",
       "Had no usual party                          1248\n",
       "Did not vote                                 815\n",
       "Other                                        481\n",
       "Scottish National Party (SNP)                379\n",
       "Plaid Cymru                                  174\n",
       "Name: motherVoteW14W15W16, dtype: int64"
      ]
     },
     "execution_count": 36,
     "metadata": {},
     "output_type": "execute_result"
    }
   ],
   "source": [
    "BES_Panel_check[\"motherVoteW14W15W16\"].value_counts()"
   ]
  },
  {
   "cell_type": "code",
   "execution_count": 38,
   "metadata": {},
   "outputs": [
    {
     "data": {
      "text/plain": [
       "Index(['Did not vote', 'Labour', 'Conservatives',\n",
       "       'Liberal Democrats/Liberals/SDP/Alliance',\n",
       "       'Scottish National Party (SNP)', 'Plaid Cymru', 'UKIP', 'Other',\n",
       "       'Had no usual party', 'Didn't know mother growing up', 'Don't know'],\n",
       "      dtype='object')"
      ]
     },
     "execution_count": 38,
     "metadata": {},
     "output_type": "execute_result"
    }
   ],
   "source": [
    "BES_Panel_check[\"motherVoteW17\"].cat.categories"
   ]
  },
  {
   "cell_type": "code",
   "execution_count": null,
   "metadata": {},
   "outputs": [],
   "source": []
  }
 ],
 "metadata": {
  "kernelspec": {
   "display_name": "Python [conda env:BES_analysis] *",
   "language": "python",
   "name": "conda-env-BES_analysis-py"
  },
  "language_info": {
   "codemirror_mode": {
    "name": "ipython",
    "version": 3
   },
   "file_extension": ".py",
   "mimetype": "text/x-python",
   "name": "python",
   "nbconvert_exporter": "python",
   "pygments_lexer": "ipython3",
   "version": "3.7.6"
  }
 },
 "nbformat": 4,
 "nbformat_minor": 4
}
