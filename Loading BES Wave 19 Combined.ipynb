{
 "cells": [
  {
   "cell_type": "code",
   "execution_count": 3,
   "metadata": {},
   "outputs": [],
   "source": [
    "%matplotlib inline\n",
    "\n",
    "import numpy as np, pandas as pd, matplotlib.pyplot as plt, seaborn as sns\n",
    "import pickle, os, gc, re, sys\n",
    "from datetime import datetime "
   ]
  },
  {
   "cell_type": "code",
   "execution_count": 6,
   "metadata": {},
   "outputs": [],
   "source": [
    "# import pyreadstat\n",
    "# did not help!"
   ]
  },
  {
   "cell_type": "code",
   "execution_count": 2,
   "metadata": {},
   "outputs": [],
   "source": [
    "BES_Panel = pd.read_pickle(\"..\\\\BES_analysis_data\\\\\"+\"W19_comb\"+os.sep+\"BES2019_W19_Panel_v0.1.zip\",compression='zip')"
   ]
  },
  {
   "cell_type": "code",
   "execution_count": 1,
   "metadata": {},
   "outputs": [],
   "source": [
    "# %%time\n",
    "# cat_vars = BES_Panel.columns[ BES_Panel.dtypes==\"category\" ]\n",
    "# BES_Panel[cat_vars].apply(lambda x: x.cat.set_categories([str(x) for x in x.cat.categories]), axis=0, result_type='reduce')"
   ]
  },
  {
   "cell_type": "code",
   "execution_count": 20,
   "metadata": {},
   "outputs": [
    {
     "name": "stdout",
     "output_type": "stream",
     "text": [
      "Wall time: 12.4 s\n"
     ]
    }
   ],
   "source": [
    "%%time\n",
    "# make sure all categories in category variables are strings (mixed dtypes caused issues)\n",
    "BES_Panel[cat_vars] = BES_Panel[cat_vars].apply(lambda x: x.cat.set_categories([str(x) for x in x.cat.categories]), axis=0, result_type='reduce')"
   ]
  },
  {
   "cell_type": "code",
   "execution_count": null,
   "metadata": {},
   "outputs": [],
   "source": []
  },
  {
   "cell_type": "code",
   "execution_count": null,
   "metadata": {},
   "outputs": [],
   "source": []
  },
  {
   "cell_type": "code",
   "execution_count": null,
   "metadata": {},
   "outputs": [],
   "source": []
  },
  {
   "cell_type": "code",
   "execution_count": null,
   "metadata": {},
   "outputs": [],
   "source": []
  },
  {
   "cell_type": "code",
   "execution_count": 2,
   "metadata": {},
   "outputs": [],
   "source": [
    "# BES_Panel = pd.read_stata('../BES_analysis_data/'+\"W19_comb\"+os.sep+\"BES2019_W19_Panel_v0.1.dta\")\n",
    "# crashes with a memory error"
   ]
  },
  {
   "cell_type": "code",
   "execution_count": 22,
   "metadata": {},
   "outputs": [],
   "source": [
    "def load_large_dta(fname, chunksize=20000, columns=None,convert_categoricals=True):\n",
    "    \n",
    "    counter=0\n",
    "    reader = pd.read_stata(fname, chunksize=chunksize, columns=columns,convert_categoricals=convert_categoricals)\n",
    "    df = pd.DataFrame()\n",
    "    print(\"started\")\n",
    "    print(counter,datetime.now())\n",
    "    for chunk in reader:\n",
    "        df = df.append(chunk)\n",
    "        \n",
    "        sys.stdout.flush()\n",
    "        gc.collect()\n",
    "        counter=counter+1\n",
    "        print(counter,datetime.now())\n",
    "\n",
    "    print('\\nloaded {} rows'.format(len(df)))\n",
    "\n",
    "    return df"
   ]
  },
  {
   "cell_type": "code",
   "execution_count": 12,
   "metadata": {},
   "outputs": [
    {
     "data": {
      "text/plain": [
       "40"
      ]
     },
     "execution_count": 12,
     "metadata": {},
     "output_type": "execute_result"
    }
   ],
   "source": [
    "### NEW VERISON OF BES DATA as of 22-05-2020\n",
    "# v 0.2\n",
    "gc.collect()"
   ]
  },
  {
   "cell_type": "code",
   "execution_count": 13,
   "metadata": {},
   "outputs": [
    {
     "name": "stdout",
     "output_type": "stream",
     "text": [
      "started\n",
      "0 2020-05-22 14:29:38.853103\n",
      "1 2020-05-22 14:32:38.414374\n",
      "2 2020-05-22 14:35:42.184885\n",
      "3 2020-05-22 14:38:01.415848\n",
      "\n",
      "loaded 97006 rows\n"
     ]
    }
   ],
   "source": [
    "BES_Panelv02 = load_large_dta(\"..\\\\BES_analysis_data\\\\\"+\"W19_comb\"+os.sep+\"BES2019_W19_Panel_v0.2.dta\",\n",
    "                              chunksize=40000, columns =[x for x in BESv2_columns.values if \"oslaua\" not in x])\n",
    "# all good except oslauaW16, which has a repeated label"
   ]
  },
  {
   "cell_type": "code",
   "execution_count": 15,
   "metadata": {},
   "outputs": [
    {
     "data": {
      "text/plain": [
       "(97006, 8061)"
      ]
     },
     "execution_count": 15,
     "metadata": {},
     "output_type": "execute_result"
    }
   ],
   "source": [
    "BES_Panelv02.shape"
   ]
  },
  {
   "cell_type": "code",
   "execution_count": 31,
   "metadata": {},
   "outputs": [
    {
     "name": "stdout",
     "output_type": "stream",
     "text": [
      "1 1005\n",
      "2 6\n",
      "3 6\n",
      "4 6\n",
      "5 6\n"
     ]
    }
   ],
   "source": [
    "for attempt in [1,2,3,4,5]:\n",
    "    object_cols = BES_Panelv02.columns[BES_Panelv02.dtypes==\"object\"]\n",
    "    print(attempt,len(object_cols))\n",
    "    temp = pd.read_stata(\"..\\\\BES_analysis_data\\\\\"+\"W19_comb\"+os.sep+\"BES2019_W19_Panel_v0.2.dta\",\n",
    "                          columns =list(object_cols))\n",
    "    BES_Panelv02[object_cols] = temp[object_cols]\n",
    "# loading in chunks screws with pandas automatic dtype assignment\n",
    "# fix by making the \"object\" columns reload in one go"
   ]
  },
  {
   "cell_type": "code",
   "execution_count": 32,
   "metadata": {},
   "outputs": [
    {
     "data": {
      "text/plain": [
       "Index(['xtoday_dateW18', 'xyesterday_dateW18', 'xbefore_yesterday_dateW18',\n",
       "       'xbefore_yesterday_dayW18', 'uniname_statusW19', 'JACS_subjectW19'],\n",
       "      dtype='object')"
      ]
     },
     "execution_count": 32,
     "metadata": {},
     "output_type": "execute_result"
    }
   ],
   "source": [
    "object_cols"
   ]
  },
  {
   "cell_type": "code",
   "execution_count": 86,
   "metadata": {},
   "outputs": [
    {
     "data": {
      "text/plain": [
       "__NA__                   13288\n",
       "recognised               11811\n",
       "listed                    1278\n",
       "polytechnic                663\n",
       "teacher_training           107\n",
       "central_institution         95\n",
       "foundation_recognised       91\n",
       "CAT                         39\n",
       "theological_college         37\n",
       "cambridge_college           22\n",
       "art_school                  22\n",
       "award_recognised             8\n",
       "oxford_college               8\n",
       "military                     7\n",
       "nursing_school               6\n",
       "flight_school                4\n",
       "agricultural_college         3\n",
       "Name: uniname_statusW19, dtype: int64"
      ]
     },
     "execution_count": 86,
     "metadata": {},
     "output_type": "execute_result"
    }
   ],
   "source": [
    "xtoday_dateW18,xyesterday_dateW18,xbefore_yesterday_dateW18,xbefore_yesterday_dayW18"
   ]
  },
  {
   "cell_type": "code",
   "execution_count": 78,
   "metadata": {},
   "outputs": [],
   "source": [
    "BES_Panelv02[\"JACS_subjectW19\"] = BES_Panelv02[\"JACS_subjectW19\"].replace(\"\",np.nan).astype('category')\n",
    "BES_Panelv02[\"uniname_statusW19\"] = BES_Panelv02[\"uniname_statusW19\"].replace(\"\",np.nan).astype('category')\n",
    "# BES_Panelv02[\"euRefLA\"] = BES_Panelv02[\"euRefLA\"].replace(\"\",np.nan).astype('category')\n",
    "\n",
    "# what happened here!?\n",
    "BES_Panelv02[\"xtoday_dateW18\"]     = pd.to_datetime(BES_Panelv02[\"xtoday_dateW18\"].replace(\"\",np.nan),format=\"%Y%m%d\")\n",
    "BES_Panelv02[\"xyesterday_dateW18\"] = pd.to_datetime(BES_Panelv02[\"xyesterday_dateW18\"].replace(\"\",np.nan),format=\"%Y%m%d\")\n",
    "BES_Panelv02[\"xbefore_yesterday_dateW18\"] = pd.to_datetime(BES_Panelv02[\"xbefore_yesterday_dateW18\"].replace(\"\",np.nan),format=\"%Y%m%d\")\n",
    "BES_Panelv02[\"xbefore_yesterday_dayW18\"] = BES_Panelv02[\"xbefore_yesterday_dayW18\"].replace(\"\",np.nan).astype('category')"
   ]
  },
  {
   "cell_type": "code",
   "execution_count": 33,
   "metadata": {},
   "outputs": [],
   "source": [
    "oslau_all_but_16 = [x for x in BESv2_columns.values if \"oslaua\" in x and \"16\" not in x]\n",
    "\n",
    "temp = pd.read_stata(\"..\\\\BES_analysis_data\\\\\"+\"W19_comb\"+os.sep+\"BES2019_W19_Panel_v0.2.dta\",\n",
    "                      columns = oslau_all_but_16 )\n",
    "BES_Panelv02[oslau_all_but_16] = temp[oslau_all_but_16]"
   ]
  },
  {
   "cell_type": "code",
   "execution_count": 36,
   "metadata": {},
   "outputs": [
    {
     "data": {
      "text/plain": [
       "category    2483\n",
       "category     403\n",
       "category     331\n",
       "category     205\n",
       "float64      189\n",
       "            ... \n",
       "category       1\n",
       "category       1\n",
       "category       1\n",
       "category       1\n",
       "category       1\n",
       "Length: 543, dtype: int64"
      ]
     },
     "execution_count": 36,
     "metadata": {},
     "output_type": "execute_result"
    }
   ],
   "source": [
    "BES_Panelv02.dtypes.value_counts()"
   ]
  },
  {
   "cell_type": "code",
   "execution_count": 73,
   "metadata": {},
   "outputs": [],
   "source": [
    "# BES_Panelv02[oslau_all_but_16].apply(lambda x: \"|\".join(map(str,x.cat.categories))).value_counts()\n",
    "\n",
    "## all subtly different ... oslaua contains numerical values not in the explicit variables!"
   ]
  },
  {
   "cell_type": "code",
   "execution_count": 47,
   "metadata": {},
   "outputs": [
    {
     "data": {
      "text/plain": [
       "0.0                     935\n",
       "City of London           12\n",
       "Barking and Dagenham     65\n",
       "Barnet                  194\n",
       "Bexley                  126\n",
       "                       ... \n",
       "428.0                    73\n",
       "429.0                    12\n",
       "430.0                    61\n",
       "431.0                    58\n",
       "432.0                    35\n",
       "Name: oslauaW1, Length: 399, dtype: int64"
      ]
     },
     "execution_count": 47,
     "metadata": {},
     "output_type": "execute_result"
    }
   ],
   "source": [
    "BES_Panelv02[oslau_all_but_16[0]].value_counts().sort_index()"
   ]
  },
  {
   "cell_type": "code",
   "execution_count": 84,
   "metadata": {},
   "outputs": [
    {
     "ename": "ValueError",
     "evalue": "\nValue labels for column oslauaW16 are not unique. These cannot be converted to\npandas categoricals.\n\nEither read the file with `convert_categoricals` set to False or use the\nlow level interface in `StataReader` to separately read the values and the\nvalue_labels.\n\nThe repeated labels are:\n--------------------------------------------------------------------------------\nGlasgow City\n",
     "output_type": "error",
     "traceback": [
      "\u001b[1;31m---------------------------------------------------------------------------\u001b[0m",
      "\u001b[1;31mValueError\u001b[0m                                Traceback (most recent call last)",
      "\u001b[1;32mC:\\ProgramData\\Anaconda3\\envs\\BES_analysis\\lib\\site-packages\\pandas\\io\\stata.py\u001b[0m in \u001b[0;36m_do_convert_categoricals\u001b[1;34m(self, data, value_label_dict, lbllist, order_categoricals)\u001b[0m\n\u001b[0;32m   1776\u001b[0m                 \u001b[1;32mtry\u001b[0m\u001b[1;33m:\u001b[0m\u001b[1;33m\u001b[0m\u001b[1;33m\u001b[0m\u001b[0m\n\u001b[1;32m-> 1777\u001b[1;33m                     \u001b[0mcat_data\u001b[0m\u001b[1;33m.\u001b[0m\u001b[0mcategories\u001b[0m \u001b[1;33m=\u001b[0m \u001b[0mcategories\u001b[0m\u001b[1;33m\u001b[0m\u001b[1;33m\u001b[0m\u001b[0m\n\u001b[0m\u001b[0;32m   1778\u001b[0m                 \u001b[1;32mexcept\u001b[0m \u001b[0mValueError\u001b[0m\u001b[1;33m:\u001b[0m\u001b[1;33m\u001b[0m\u001b[1;33m\u001b[0m\u001b[0m\n",
      "\u001b[1;32mC:\\ProgramData\\Anaconda3\\envs\\BES_analysis\\lib\\site-packages\\pandas\\core\\arrays\\categorical.py\u001b[0m in \u001b[0;36mcategories\u001b[1;34m(self, categories)\u001b[0m\n\u001b[0;32m    428\u001b[0m     \u001b[1;32mdef\u001b[0m \u001b[0mcategories\u001b[0m\u001b[1;33m(\u001b[0m\u001b[0mself\u001b[0m\u001b[1;33m,\u001b[0m \u001b[0mcategories\u001b[0m\u001b[1;33m)\u001b[0m\u001b[1;33m:\u001b[0m\u001b[1;33m\u001b[0m\u001b[1;33m\u001b[0m\u001b[0m\n\u001b[1;32m--> 429\u001b[1;33m         \u001b[0mnew_dtype\u001b[0m \u001b[1;33m=\u001b[0m \u001b[0mCategoricalDtype\u001b[0m\u001b[1;33m(\u001b[0m\u001b[0mcategories\u001b[0m\u001b[1;33m,\u001b[0m \u001b[0mordered\u001b[0m\u001b[1;33m=\u001b[0m\u001b[0mself\u001b[0m\u001b[1;33m.\u001b[0m\u001b[0mordered\u001b[0m\u001b[1;33m)\u001b[0m\u001b[1;33m\u001b[0m\u001b[1;33m\u001b[0m\u001b[0m\n\u001b[0m\u001b[0;32m    430\u001b[0m         if self.dtype.categories is not None and len(self.dtype.categories) != len(\n",
      "\u001b[1;32mC:\\ProgramData\\Anaconda3\\envs\\BES_analysis\\lib\\site-packages\\pandas\\core\\dtypes\\dtypes.py\u001b[0m in \u001b[0;36m__init__\u001b[1;34m(self, categories, ordered)\u001b[0m\n\u001b[0;32m    221\u001b[0m     \u001b[1;32mdef\u001b[0m \u001b[0m__init__\u001b[0m\u001b[1;33m(\u001b[0m\u001b[0mself\u001b[0m\u001b[1;33m,\u001b[0m \u001b[0mcategories\u001b[0m\u001b[1;33m=\u001b[0m\u001b[1;32mNone\u001b[0m\u001b[1;33m,\u001b[0m \u001b[0mordered\u001b[0m\u001b[1;33m:\u001b[0m \u001b[0mOrdered\u001b[0m \u001b[1;33m=\u001b[0m \u001b[1;32mFalse\u001b[0m\u001b[1;33m)\u001b[0m\u001b[1;33m:\u001b[0m\u001b[1;33m\u001b[0m\u001b[1;33m\u001b[0m\u001b[0m\n\u001b[1;32m--> 222\u001b[1;33m         \u001b[0mself\u001b[0m\u001b[1;33m.\u001b[0m\u001b[0m_finalize\u001b[0m\u001b[1;33m(\u001b[0m\u001b[0mcategories\u001b[0m\u001b[1;33m,\u001b[0m \u001b[0mordered\u001b[0m\u001b[1;33m,\u001b[0m \u001b[0mfastpath\u001b[0m\u001b[1;33m=\u001b[0m\u001b[1;32mFalse\u001b[0m\u001b[1;33m)\u001b[0m\u001b[1;33m\u001b[0m\u001b[1;33m\u001b[0m\u001b[0m\n\u001b[0m\u001b[0;32m    223\u001b[0m \u001b[1;33m\u001b[0m\u001b[0m\n",
      "\u001b[1;32mC:\\ProgramData\\Anaconda3\\envs\\BES_analysis\\lib\\site-packages\\pandas\\core\\dtypes\\dtypes.py\u001b[0m in \u001b[0;36m_finalize\u001b[1;34m(self, categories, ordered, fastpath)\u001b[0m\n\u001b[0;32m    368\u001b[0m         \u001b[1;32mif\u001b[0m \u001b[0mcategories\u001b[0m \u001b[1;32mis\u001b[0m \u001b[1;32mnot\u001b[0m \u001b[1;32mNone\u001b[0m\u001b[1;33m:\u001b[0m\u001b[1;33m\u001b[0m\u001b[1;33m\u001b[0m\u001b[0m\n\u001b[1;32m--> 369\u001b[1;33m             \u001b[0mcategories\u001b[0m \u001b[1;33m=\u001b[0m \u001b[0mself\u001b[0m\u001b[1;33m.\u001b[0m\u001b[0mvalidate_categories\u001b[0m\u001b[1;33m(\u001b[0m\u001b[0mcategories\u001b[0m\u001b[1;33m,\u001b[0m \u001b[0mfastpath\u001b[0m\u001b[1;33m=\u001b[0m\u001b[0mfastpath\u001b[0m\u001b[1;33m)\u001b[0m\u001b[1;33m\u001b[0m\u001b[1;33m\u001b[0m\u001b[0m\n\u001b[0m\u001b[0;32m    370\u001b[0m \u001b[1;33m\u001b[0m\u001b[0m\n",
      "\u001b[1;32mC:\\ProgramData\\Anaconda3\\envs\\BES_analysis\\lib\\site-packages\\pandas\\core\\dtypes\\dtypes.py\u001b[0m in \u001b[0;36mvalidate_categories\u001b[1;34m(categories, fastpath)\u001b[0m\n\u001b[0;32m    545\u001b[0m             \u001b[1;32mif\u001b[0m \u001b[1;32mnot\u001b[0m \u001b[0mcategories\u001b[0m\u001b[1;33m.\u001b[0m\u001b[0mis_unique\u001b[0m\u001b[1;33m:\u001b[0m\u001b[1;33m\u001b[0m\u001b[1;33m\u001b[0m\u001b[0m\n\u001b[1;32m--> 546\u001b[1;33m                 \u001b[1;32mraise\u001b[0m \u001b[0mValueError\u001b[0m\u001b[1;33m(\u001b[0m\u001b[1;34m\"Categorical categories must be unique\"\u001b[0m\u001b[1;33m)\u001b[0m\u001b[1;33m\u001b[0m\u001b[1;33m\u001b[0m\u001b[0m\n\u001b[0m\u001b[0;32m    547\u001b[0m \u001b[1;33m\u001b[0m\u001b[0m\n",
      "\u001b[1;31mValueError\u001b[0m: Categorical categories must be unique",
      "\nDuring handling of the above exception, another exception occurred:\n",
      "\u001b[1;31mValueError\u001b[0m                                Traceback (most recent call last)",
      "\u001b[1;32m<ipython-input-84-41bf9d3a8120>\u001b[0m in \u001b[0;36m<module>\u001b[1;34m\u001b[0m\n\u001b[0;32m      1\u001b[0m oslauaW16 = pd.read_stata(\"..\\\\BES_analysis_data\\\\\"+\"W19_comb\"+os.sep+\"BES2019_W19_Panel_v0.2.dta\",\n\u001b[1;32m----> 2\u001b[1;33m                       columns = [\"oslauaW16\"],convert_categoricals=True )\n\u001b[0m",
      "\u001b[1;32mC:\\ProgramData\\Anaconda3\\envs\\BES_analysis\\lib\\site-packages\\pandas\\io\\stata.py\u001b[0m in \u001b[0;36mread_stata\u001b[1;34m(filepath_or_buffer, convert_dates, convert_categoricals, index_col, convert_missing, preserve_dtypes, columns, order_categoricals, chunksize, iterator)\u001b[0m\n\u001b[0;32m    191\u001b[0m     \u001b[1;32melse\u001b[0m\u001b[1;33m:\u001b[0m\u001b[1;33m\u001b[0m\u001b[1;33m\u001b[0m\u001b[0m\n\u001b[0;32m    192\u001b[0m         \u001b[1;32mtry\u001b[0m\u001b[1;33m:\u001b[0m\u001b[1;33m\u001b[0m\u001b[1;33m\u001b[0m\u001b[0m\n\u001b[1;32m--> 193\u001b[1;33m             \u001b[0mdata\u001b[0m \u001b[1;33m=\u001b[0m \u001b[0mreader\u001b[0m\u001b[1;33m.\u001b[0m\u001b[0mread\u001b[0m\u001b[1;33m(\u001b[0m\u001b[1;33m)\u001b[0m\u001b[1;33m\u001b[0m\u001b[1;33m\u001b[0m\u001b[0m\n\u001b[0m\u001b[0;32m    194\u001b[0m         \u001b[1;32mfinally\u001b[0m\u001b[1;33m:\u001b[0m\u001b[1;33m\u001b[0m\u001b[1;33m\u001b[0m\u001b[0m\n\u001b[0;32m    195\u001b[0m             \u001b[0mreader\u001b[0m\u001b[1;33m.\u001b[0m\u001b[0mclose\u001b[0m\u001b[1;33m(\u001b[0m\u001b[1;33m)\u001b[0m\u001b[1;33m\u001b[0m\u001b[1;33m\u001b[0m\u001b[0m\n",
      "\u001b[1;32mC:\\ProgramData\\Anaconda3\\envs\\BES_analysis\\lib\\site-packages\\pandas\\io\\stata.py\u001b[0m in \u001b[0;36mread\u001b[1;34m(self, nrows, convert_dates, convert_categoricals, index_col, convert_missing, preserve_dtypes, columns, order_categoricals)\u001b[0m\n\u001b[0;32m   1652\u001b[0m         \u001b[1;32mif\u001b[0m \u001b[0mconvert_categoricals\u001b[0m \u001b[1;32mand\u001b[0m \u001b[0mself\u001b[0m\u001b[1;33m.\u001b[0m\u001b[0mformat_version\u001b[0m \u001b[1;33m>\u001b[0m \u001b[1;36m108\u001b[0m\u001b[1;33m:\u001b[0m\u001b[1;33m\u001b[0m\u001b[1;33m\u001b[0m\u001b[0m\n\u001b[0;32m   1653\u001b[0m             data = self._do_convert_categoricals(\n\u001b[1;32m-> 1654\u001b[1;33m                 \u001b[0mdata\u001b[0m\u001b[1;33m,\u001b[0m \u001b[0mself\u001b[0m\u001b[1;33m.\u001b[0m\u001b[0mvalue_label_dict\u001b[0m\u001b[1;33m,\u001b[0m \u001b[0mself\u001b[0m\u001b[1;33m.\u001b[0m\u001b[0mlbllist\u001b[0m\u001b[1;33m,\u001b[0m \u001b[0morder_categoricals\u001b[0m\u001b[1;33m\u001b[0m\u001b[1;33m\u001b[0m\u001b[0m\n\u001b[0m\u001b[0;32m   1655\u001b[0m             )\n\u001b[0;32m   1656\u001b[0m \u001b[1;33m\u001b[0m\u001b[0m\n",
      "\u001b[1;32mC:\\ProgramData\\Anaconda3\\envs\\BES_analysis\\lib\\site-packages\\pandas\\io\\stata.py\u001b[0m in \u001b[0;36m_do_convert_categoricals\u001b[1;34m(self, data, value_label_dict, lbllist, order_categoricals)\u001b[0m\n\u001b[0;32m   1792\u001b[0m \u001b[1;33m{\u001b[0m\u001b[0mrepeats\u001b[0m\u001b[1;33m}\u001b[0m\u001b[1;33m\u001b[0m\u001b[1;33m\u001b[0m\u001b[0m\n\u001b[0;32m   1793\u001b[0m \"\"\"\n\u001b[1;32m-> 1794\u001b[1;33m                     \u001b[1;32mraise\u001b[0m \u001b[0mValueError\u001b[0m\u001b[1;33m(\u001b[0m\u001b[0mmsg\u001b[0m\u001b[1;33m)\u001b[0m\u001b[1;33m\u001b[0m\u001b[1;33m\u001b[0m\u001b[0m\n\u001b[0m\u001b[0;32m   1795\u001b[0m                 \u001b[1;31m# TODO: is the next line needed above in the data(...) method?\u001b[0m\u001b[1;33m\u001b[0m\u001b[1;33m\u001b[0m\u001b[1;33m\u001b[0m\u001b[0m\n\u001b[0;32m   1796\u001b[0m                 \u001b[0mcat_data\u001b[0m \u001b[1;33m=\u001b[0m \u001b[0mSeries\u001b[0m\u001b[1;33m(\u001b[0m\u001b[0mcat_data\u001b[0m\u001b[1;33m,\u001b[0m \u001b[0mindex\u001b[0m\u001b[1;33m=\u001b[0m\u001b[0mdata\u001b[0m\u001b[1;33m.\u001b[0m\u001b[0mindex\u001b[0m\u001b[1;33m)\u001b[0m\u001b[1;33m\u001b[0m\u001b[1;33m\u001b[0m\u001b[0m\n",
      "\u001b[1;31mValueError\u001b[0m: \nValue labels for column oslauaW16 are not unique. These cannot be converted to\npandas categoricals.\n\nEither read the file with `convert_categoricals` set to False or use the\nlow level interface in `StataReader` to separately read the values and the\nvalue_labels.\n\nThe repeated labels are:\n--------------------------------------------------------------------------------\nGlasgow City\n"
     ]
    }
   ],
   "source": [
    "oslauaW16 = pd.read_stata(\"..\\\\BES_analysis_data\\\\\"+\"W19_comb\"+os.sep+\"BES2019_W19_Panel_v0.2.dta\",\n",
    "                      columns = [\"oslauaW16\"],convert_categoricals=True )"
   ]
  },
  {
   "cell_type": "code",
   "execution_count": 69,
   "metadata": {},
   "outputs": [
    {
     "data": {
      "text/plain": [
       "Index([                   0.0,       'City of London', 'Barking and Dagenham',\n",
       "                     'Barnet',               'Bexley',                'Brent',\n",
       "                    'Bromley',               'Camden',              'Croydon',\n",
       "                     'Ealing',\n",
       "       ...\n",
       "                        422.0,                  423.0,                  424.0,\n",
       "                        425.0,                  426.0,                  428.0,\n",
       "                        429.0,                  430.0,                  431.0,\n",
       "                        432.0],\n",
       "      dtype='object', length=399)"
      ]
     },
     "execution_count": 69,
     "metadata": {},
     "output_type": "execute_result"
    }
   ],
   "source": [
    "BES_Panelv02[oslau_all_but_16[0]].cat.categories"
   ]
  },
  {
   "cell_type": "code",
   "execution_count": null,
   "metadata": {},
   "outputs": [],
   "source": []
  },
  {
   "cell_type": "code",
   "execution_count": 20,
   "metadata": {},
   "outputs": [
    {
     "name": "stdout",
     "output_type": "stream",
     "text": [
      "started\n",
      "0 2020-05-22 15:15:10.637353\n",
      "1 2020-05-22 15:15:22.353023\n",
      "2 2020-05-22 15:15:34.483717\n",
      "3 2020-05-22 15:15:40.293049\n",
      "\n",
      "loaded 97006 rows\n"
     ]
    }
   ],
   "source": [
    "oslaua = load_large_dta(\"..\\\\BES_analysis_data\\\\\"+\"W19_comb\"+os.sep+\"BES2019_W19_Panel_v0.2.dta\",\n",
    "                              chunksize=40000, columns =[x for x in BESv2_columns.values if \"oslaua\" in x and \"16\" not in x])"
   ]
  },
  {
   "cell_type": "code",
   "execution_count": 23,
   "metadata": {},
   "outputs": [
    {
     "name": "stdout",
     "output_type": "stream",
     "text": [
      "started\n",
      "0 2020-05-22 15:19:22.861779\n",
      "1 2020-05-22 15:19:33.077363\n",
      "2 2020-05-22 15:19:43.305948\n",
      "3 2020-05-22 15:19:48.242231\n",
      "\n",
      "loaded 97006 rows\n"
     ]
    }
   ],
   "source": [
    "oslaua16 = load_large_dta(\"..\\\\BES_analysis_data\\\\\"+\"W19_comb\"+os.sep+\"BES2019_W19_Panel_v0.2.dta\",\n",
    "                              chunksize=40000, columns =['oslauaW16'],convert_categoricals=False)"
   ]
  },
  {
   "cell_type": "code",
   "execution_count": 63,
   "metadata": {},
   "outputs": [],
   "source": [
    "BES_Panelv02[\"oslauaW16\"] = oslaua16[\"oslauaW16\"]"
   ]
  },
  {
   "cell_type": "code",
   "execution_count": 66,
   "metadata": {},
   "outputs": [
    {
     "data": {
      "text/plain": [
       "{1: 'City of London',\n",
       " 2: 'Barking and Dagenham',\n",
       " 3: 'Barnet',\n",
       " 4: 'Bexley',\n",
       " 5: 'Brent',\n",
       " 6: 'Bromley',\n",
       " 7: 'Camden',\n",
       " 8: 'Croydon',\n",
       " 9: 'Ealing',\n",
       " 10: 'Enfield',\n",
       " 11: 'Greenwich',\n",
       " 12: 'Hackney',\n",
       " 13: 'Hammersmith and Fulham',\n",
       " 14: 'Haringey',\n",
       " 15: 'Harrow',\n",
       " 16: 'Havering',\n",
       " 17: 'Hillingdon',\n",
       " 18: 'Hounslow',\n",
       " 19: 'Islington',\n",
       " 20: 'Kensington and Chelsea',\n",
       " 21: 'Kingston upon Thames',\n",
       " 22: 'Lambeth',\n",
       " 23: 'Lewisham',\n",
       " 24: 'Merton',\n",
       " 25: 'Newham',\n",
       " 26: 'Redbridge',\n",
       " 27: 'Richmond upon Thames',\n",
       " 28: 'Southwark',\n",
       " 29: 'Sutton',\n",
       " 30: 'Tower Hamlets',\n",
       " 31: 'Waltham Forest',\n",
       " 32: 'Wandsworth',\n",
       " 33: 'Westminster',\n",
       " 34: 'Bolton',\n",
       " 35: 'Bury',\n",
       " 36: 'Manchester',\n",
       " 37: 'Oldham',\n",
       " 38: 'Rochdale',\n",
       " 39: 'Salford',\n",
       " 40: 'Stockport',\n",
       " 41: 'Tameside',\n",
       " 42: 'Trafford',\n",
       " 43: 'Wigan',\n",
       " 44: 'Knowsley',\n",
       " 45: 'Liverpool',\n",
       " 46: 'St. Helens',\n",
       " 47: 'Sefton',\n",
       " 48: 'Wirral',\n",
       " 49: 'Barnsley',\n",
       " 50: 'Doncaster',\n",
       " 51: 'Rotherham',\n",
       " 52: 'Sheffield',\n",
       " 53: 'Gateshead',\n",
       " 54: 'Newcastle upon Tyne',\n",
       " 55: 'North Tyneside',\n",
       " 56: 'South Tyneside',\n",
       " 57: 'Sunderland',\n",
       " 58: 'Birmingham',\n",
       " 59: 'Coventry',\n",
       " 60: 'Dudley',\n",
       " 61: 'Sandwell',\n",
       " 62: 'Solihull',\n",
       " 63: 'Walsall',\n",
       " 64: 'Wolverhampton',\n",
       " 65: 'Bradford',\n",
       " 66: 'Calderdale',\n",
       " 67: 'Kirklees',\n",
       " 68: 'Leeds',\n",
       " 69: 'Wakefield',\n",
       " 70: 'Hartlepool',\n",
       " 71: 'Middlesbrough',\n",
       " 72: 'Redcar and Cleveland',\n",
       " 73: 'Stockton-on-Tees',\n",
       " 74: 'Darlington',\n",
       " 75: 'County Durham',\n",
       " 76: 'Northumberland',\n",
       " 77: 'Cheshire East',\n",
       " 78: 'Halton',\n",
       " 79: 'Warrington',\n",
       " 80: 'Cheshire West and Chester',\n",
       " 81: 'Blackburn with Darwen',\n",
       " 82: 'Blackpool',\n",
       " 83: 'Kingston upon Hull, City of',\n",
       " 84: 'East Riding of Yorkshire',\n",
       " 85: 'North East Lincolnshire',\n",
       " 86: 'North Lincolnshire',\n",
       " 87: 'York',\n",
       " 88: 'Derby',\n",
       " 89: 'Leicester',\n",
       " 90: 'Rutland',\n",
       " 91: 'Nottingham',\n",
       " 92: 'Herefordshire, County of',\n",
       " 93: 'Telford and Wrekin',\n",
       " 94: 'Shropshire',\n",
       " 95: 'Stoke-on-Trent',\n",
       " 96: 'Bath and North East Somerset',\n",
       " 97: 'Bristol, City of',\n",
       " 98: 'North Somerset',\n",
       " 99: 'South Gloucestershire',\n",
       " 100: 'Cornwall',\n",
       " 101: 'Isles of Scilly',\n",
       " 102: 'Plymouth',\n",
       " 103: 'Torbay',\n",
       " 104: 'Bournemouth',\n",
       " 105: 'Poole',\n",
       " 106: 'Swindon',\n",
       " 107: 'Wiltshire',\n",
       " 108: 'Peterborough',\n",
       " 109: 'Luton',\n",
       " 110: 'Bedford',\n",
       " 111: 'Central Bedfordshire',\n",
       " 112: 'Southend-on-Sea',\n",
       " 113: 'Thurrock',\n",
       " 114: 'Medway',\n",
       " 115: 'Bracknell Forest',\n",
       " 116: 'West Berkshire',\n",
       " 117: 'Reading',\n",
       " 118: 'Slough',\n",
       " 119: 'Windsor and Maidenhead',\n",
       " 120: 'Wokingham',\n",
       " 121: 'Milton Keynes',\n",
       " 122: 'Brighton and Hove',\n",
       " 123: 'Portsmouth',\n",
       " 124: 'Southampton',\n",
       " 125: 'Isle of Wight',\n",
       " 126: 'Isle of Anglesey',\n",
       " 127: 'Gwynedd',\n",
       " 128: 'Conwy',\n",
       " 129: 'Denbighshire',\n",
       " 130: 'Flintshire',\n",
       " 131: 'Wrexham',\n",
       " 132: 'Powys',\n",
       " 133: 'Ceredigion',\n",
       " 134: 'Pembrokeshire',\n",
       " 135: 'Carmarthenshire',\n",
       " 136: 'Swansea',\n",
       " 137: 'Neath Port Talbot',\n",
       " 138: 'Bridgend',\n",
       " 139: 'The Vale of Glamorgan',\n",
       " 140: 'Rhondda, Cynon, Taff',\n",
       " 141: 'Merthyr Tydfil',\n",
       " 142: 'Caerphilly',\n",
       " 143: 'Blaenau Gwent',\n",
       " 144: 'Torfaen',\n",
       " 145: 'Monmouthshire',\n",
       " 146: 'Newport',\n",
       " 147: 'Cardiff',\n",
       " 148: 'Aberdeen City',\n",
       " 149: 'Aberdeenshire',\n",
       " 150: 'Angus',\n",
       " 151: 'Argyll & Bute',\n",
       " 152: 'Scottish Borders',\n",
       " 153: 'Clackmannanshire',\n",
       " 154: 'West Dunbartonshire',\n",
       " 155: 'Dumfries & Galloway',\n",
       " 156: 'Dundee City',\n",
       " 157: 'East Ayrshire',\n",
       " 158: 'East Dunbartonshire',\n",
       " 159: 'East Lothian',\n",
       " 160: 'East Renfrewshire',\n",
       " 161: 'Edinburgh, City of',\n",
       " 162: 'Falkirk',\n",
       " 163: 'Fife',\n",
       " 164: 'Glasgow City',\n",
       " 165: 'Highland',\n",
       " 166: 'Inverclyde',\n",
       " 167: 'Midlothian',\n",
       " 168: 'Moray',\n",
       " 169: 'North Ayrshire',\n",
       " 170: 'North Lanarkshire',\n",
       " 171: 'Orkney Islands',\n",
       " 172: 'Perth & Kinross',\n",
       " 173: 'Renfrewshire',\n",
       " 174: 'Shetland Islands',\n",
       " 175: 'South Ayrshire',\n",
       " 176: 'South Lanarkshire',\n",
       " 177: 'Stirling',\n",
       " 178: 'West Lothian',\n",
       " 179: 'Eilean Siar',\n",
       " 180: 'Aylesbury Vale',\n",
       " 181: 'Chiltern',\n",
       " 182: 'South Bucks',\n",
       " 183: 'Wycombe',\n",
       " 184: 'Cambridge',\n",
       " 185: 'East Cambridgeshire',\n",
       " 186: 'Fenland',\n",
       " 187: 'Huntingdonshire',\n",
       " 188: 'South Cambridgeshire',\n",
       " 189: 'Allerdale',\n",
       " 190: 'Barrow-in-Furness',\n",
       " 191: 'Carlisle',\n",
       " 192: 'Copeland',\n",
       " 193: 'Eden',\n",
       " 194: 'South Lakeland',\n",
       " 195: 'Amber Valley',\n",
       " 196: 'Bolsover',\n",
       " 197: 'Chesterfield',\n",
       " 198: 'Derbyshire Dales',\n",
       " 199: 'Erewash',\n",
       " 200: 'High Peak',\n",
       " 201: 'North East Derbyshire',\n",
       " 202: 'South Derbyshire',\n",
       " 203: 'East Devon',\n",
       " 204: 'Exeter',\n",
       " 205: 'Mid Devon',\n",
       " 206: 'North Devon',\n",
       " 207: 'South Hams',\n",
       " 208: 'Teignbridge',\n",
       " 209: 'Torridge',\n",
       " 210: 'West Devon',\n",
       " 211: 'Christchurch',\n",
       " 212: 'East Dorset',\n",
       " 213: 'North Dorset',\n",
       " 214: 'Purbeck',\n",
       " 215: 'West Dorset',\n",
       " 216: 'Weymouth and Portland',\n",
       " 217: 'Eastbourne',\n",
       " 218: 'Hastings',\n",
       " 219: 'Lewes',\n",
       " 220: 'Rother',\n",
       " 221: 'Wealden',\n",
       " 222: 'Basildon',\n",
       " 223: 'Braintree',\n",
       " 224: 'Brentwood',\n",
       " 225: 'Castle Point',\n",
       " 226: 'Chelmsford',\n",
       " 227: 'Colchester',\n",
       " 228: 'Epping Forest',\n",
       " 229: 'Harlow',\n",
       " 230: 'Maldon',\n",
       " 231: 'Rochford',\n",
       " 232: 'Tendring',\n",
       " 233: 'Uttlesford',\n",
       " 234: 'Cheltenham',\n",
       " 235: 'Cotswold',\n",
       " 236: 'Forest of Dean',\n",
       " 237: 'Gloucester',\n",
       " 238: 'Stroud',\n",
       " 239: 'Tewkesbury',\n",
       " 240: 'Basingstoke and Deane',\n",
       " 241: 'East Hampshire',\n",
       " 242: 'Eastleigh',\n",
       " 243: 'Fareham',\n",
       " 244: 'Gosport',\n",
       " 245: 'Hart',\n",
       " 246: 'Havant',\n",
       " 247: 'New Forest',\n",
       " 248: 'Rushmoor',\n",
       " 249: 'Test Valley',\n",
       " 250: 'Winchester',\n",
       " 251: 'Broxbourne',\n",
       " 252: 'Dacorum',\n",
       " 253: 'East Hertfordshire',\n",
       " 254: 'Hertsmere',\n",
       " 255: 'North Hertfordshire',\n",
       " 256: 'St Albans',\n",
       " 257: 'Stevenage',\n",
       " 258: 'Three Rivers',\n",
       " 259: 'Watford',\n",
       " 260: 'Welwyn Hatfield',\n",
       " 261: 'Ashford',\n",
       " 262: 'Canterbury',\n",
       " 263: 'Dartford',\n",
       " 264: 'Dover',\n",
       " 265: 'Gravesham',\n",
       " 266: 'Maidstone',\n",
       " 267: 'Sevenoaks',\n",
       " 268: 'Shepway',\n",
       " 269: 'Swale',\n",
       " 270: 'Thanet',\n",
       " 271: 'Tonbridge and Malling',\n",
       " 272: 'Tunbridge Wells',\n",
       " 273: 'Burnley',\n",
       " 274: 'Chorley',\n",
       " 275: 'Fylde',\n",
       " 276: 'Hyndburn',\n",
       " 277: 'Lancaster',\n",
       " 278: 'Pendle',\n",
       " 279: 'Preston',\n",
       " 280: 'Ribble Valley',\n",
       " 281: 'Rossendale',\n",
       " 282: 'South Ribble',\n",
       " 283: 'West Lancashire',\n",
       " 284: 'Wyre',\n",
       " 285: 'Blaby',\n",
       " 286: 'Charnwood',\n",
       " 287: 'Harborough',\n",
       " 288: 'Hinckley and Bosworth',\n",
       " 289: 'Melton',\n",
       " 290: 'North West Leicestershire',\n",
       " 291: 'Oadby and Wigston',\n",
       " 292: 'Boston',\n",
       " 293: 'East Lindsey',\n",
       " 294: 'Lincoln',\n",
       " 295: 'North Kesteven',\n",
       " 296: 'South Holland',\n",
       " 297: 'South Kesteven',\n",
       " 298: 'West Lindsey',\n",
       " 299: 'Breckland',\n",
       " 300: 'Broadland',\n",
       " 301: 'Great Yarmouth',\n",
       " 302: \"King's Lynn and West Norfolk\",\n",
       " 303: 'North Norfolk',\n",
       " 304: 'Norwich',\n",
       " 305: 'South Norfolk',\n",
       " 306: 'Corby',\n",
       " 307: 'Daventry',\n",
       " 308: 'East Northamptonshire',\n",
       " 309: 'Kettering',\n",
       " 310: 'Northampton',\n",
       " 311: 'South Northamptonshire',\n",
       " 312: 'Wellingborough',\n",
       " 313: 'Craven',\n",
       " 314: 'Hambleton',\n",
       " 315: 'Harrogate',\n",
       " 316: 'Richmondshire',\n",
       " 317: 'Ryedale',\n",
       " 318: 'Scarborough',\n",
       " 319: 'Selby',\n",
       " 320: 'Ashfield',\n",
       " 321: 'Bassetlaw',\n",
       " 322: 'Broxtowe',\n",
       " 323: 'Gedling',\n",
       " 324: 'Mansfield',\n",
       " 325: 'Newark and Sherwood',\n",
       " 326: 'Rushcliffe',\n",
       " 327: 'Cherwell',\n",
       " 328: 'Oxford',\n",
       " 329: 'South Oxfordshire',\n",
       " 330: 'Vale of White Horse',\n",
       " 331: 'West Oxfordshire',\n",
       " 332: 'Mendip',\n",
       " 333: 'Sedgemoor',\n",
       " 334: 'South Somerset',\n",
       " 335: 'Taunton Deane',\n",
       " 336: 'West Somerset',\n",
       " 337: 'Cannock Chase',\n",
       " 338: 'East Staffordshire',\n",
       " 339: 'Lichfield',\n",
       " 340: 'Newcastle-under-Lyme',\n",
       " 341: 'South Staffordshire',\n",
       " 342: 'Stafford',\n",
       " 343: 'Staffordshire Moorlands',\n",
       " 344: 'Tamworth',\n",
       " 345: 'Babergh',\n",
       " 346: 'Forest Heath',\n",
       " 347: 'Ipswich',\n",
       " 348: 'Mid Suffolk',\n",
       " 349: 'St Edmundsbury',\n",
       " 350: 'Suffolk Coastal',\n",
       " 351: 'Waveney',\n",
       " 352: 'Elmbridge',\n",
       " 353: 'Epsom and Ewell',\n",
       " 354: 'Guildford',\n",
       " 355: 'Mole Valley',\n",
       " 356: 'Reigate and Banstead',\n",
       " 357: 'Runnymede',\n",
       " 358: 'Spelthorne',\n",
       " 359: 'Surrey Heath',\n",
       " 360: 'Tandridge',\n",
       " 361: 'Waverley',\n",
       " 362: 'Woking',\n",
       " 363: 'North Warwickshire',\n",
       " 364: 'Nuneaton and Bedworth',\n",
       " 365: 'Rugby',\n",
       " 366: 'Stratford-on-Avon',\n",
       " 367: 'Warwick',\n",
       " 368: 'Adur',\n",
       " 369: 'Arun',\n",
       " 370: 'Chichester',\n",
       " 371: 'Crawley',\n",
       " 372: 'Horsham',\n",
       " 373: 'Mid Sussex',\n",
       " 374: 'Worthing',\n",
       " 375: 'Bromsgrove',\n",
       " 376: 'Malvern Hills',\n",
       " 377: 'Redditch',\n",
       " 378: 'Worcester',\n",
       " 379: 'Wychavon',\n",
       " 380: 'Wyre Forest',\n",
       " 381: 'Derry City',\n",
       " 382: 'Limavady',\n",
       " 383: 'Coleraine',\n",
       " 384: 'Ballymoney',\n",
       " 385: 'Moyle',\n",
       " 386: 'Larne',\n",
       " 387: 'Ballymena',\n",
       " 388: 'Magherafelt',\n",
       " 389: 'Cookstown',\n",
       " 390: 'Strabane',\n",
       " 391: 'Omagh',\n",
       " 392: 'Fermanagh',\n",
       " 393: 'Dungannon',\n",
       " 394: 'Craigavon',\n",
       " 395: 'Armagh',\n",
       " 396: 'Newry and Mourne',\n",
       " 397: 'Banbridge',\n",
       " 398: 'Down',\n",
       " 399: 'Lisburn',\n",
       " 400: 'Antrim',\n",
       " 401: 'Newtownabbey',\n",
       " 402: 'Carrickfergus',\n",
       " 403: 'North Down',\n",
       " 404: 'Ards',\n",
       " 405: 'Castlereagh',\n",
       " 406: 'Belfast',\n",
       " 411: 'Antrim and Newtownabbey',\n",
       " 412: 'Armagh, Banbridge and Craigavon',\n",
       " 413: 'Belfast',\n",
       " 414: 'Causeway Coast and Glens',\n",
       " 415: 'Derry and Strabane',\n",
       " 416: 'Fermanagh and Omagh',\n",
       " 417: 'Lisburn and Castlereagh',\n",
       " 418: 'Mid and East Antrim',\n",
       " 419: 'Mid Ulster',\n",
       " 420: 'Newry, Mourne and Down',\n",
       " 421: 'North Down and Ards',\n",
       " 440: 'Fife',\n",
       " 441: 'Perth and Kinross',\n",
       " 442: 'Glasgow City',\n",
       " 443: 'North Lanarkshire',\n",
       " 444: 'Bournemouth, Christchurch and Poole',\n",
       " 445: 'Dorset',\n",
       " 446: 'East Suffolk',\n",
       " 447: 'West Suffolk',\n",
       " 448: 'Somerset West and Taunton',\n",
       " -2147483648: 'not used'}"
      ]
     },
     "execution_count": 66,
     "metadata": {},
     "output_type": "execute_result"
    }
   ],
   "source": [
    "{(str(k):v for k,v in reader.value_labels()['oslauaW16'].items()}"
   ]
  },
  {
   "cell_type": "code",
   "execution_count": 72,
   "metadata": {},
   "outputs": [],
   "source": [
    "oslaua_vars = [x for x in BESv2_columns.values if \"oslaua\" in x]\n",
    "\n",
    "BES_Panelv02[oslaua_vars] = BES_Panelv02[oslaua_vars].replace(reader.value_labels()['oslauaW16']).astype('category')"
   ]
  },
  {
   "cell_type": "code",
   "execution_count": 49,
   "metadata": {},
   "outputs": [],
   "source": [
    "savFileName = \"..\\\\BES_analysis_data\\\\\"+\"W19_comb\"+os.sep+\"BES2019_W19_Panel_v0.2.dta\"\n",
    "reader = pd.io.stata.StataReader(savFileName)\n",
    "\n",
    "header = reader.variable_labels()"
   ]
  },
  {
   "cell_type": "code",
   "execution_count": 51,
   "metadata": {},
   "outputs": [
    {
     "data": {
      "text/plain": [
       "'Local authority / District / Unitary Authority routed from postcode.'"
      ]
     },
     "execution_count": 51,
     "metadata": {},
     "output_type": "execute_result"
    }
   ],
   "source": [
    "header['oslauaW16']"
   ]
  },
  {
   "cell_type": "code",
   "execution_count": 53,
   "metadata": {},
   "outputs": [
    {
     "data": {
      "text/plain": [
       "{1: 'City of London',\n",
       " 2: 'Barking and Dagenham',\n",
       " 3: 'Barnet',\n",
       " 4: 'Bexley',\n",
       " 5: 'Brent',\n",
       " 6: 'Bromley',\n",
       " 7: 'Camden',\n",
       " 8: 'Croydon',\n",
       " 9: 'Ealing',\n",
       " 10: 'Enfield',\n",
       " 11: 'Greenwich',\n",
       " 12: 'Hackney',\n",
       " 13: 'Hammersmith and Fulham',\n",
       " 14: 'Haringey',\n",
       " 15: 'Harrow',\n",
       " 16: 'Havering',\n",
       " 17: 'Hillingdon',\n",
       " 18: 'Hounslow',\n",
       " 19: 'Islington',\n",
       " 20: 'Kensington and Chelsea',\n",
       " 21: 'Kingston upon Thames',\n",
       " 22: 'Lambeth',\n",
       " 23: 'Lewisham',\n",
       " 24: 'Merton',\n",
       " 25: 'Newham',\n",
       " 26: 'Redbridge',\n",
       " 27: 'Richmond upon Thames',\n",
       " 28: 'Southwark',\n",
       " 29: 'Sutton',\n",
       " 30: 'Tower Hamlets',\n",
       " 31: 'Waltham Forest',\n",
       " 32: 'Wandsworth',\n",
       " 33: 'Westminster',\n",
       " 34: 'Bolton',\n",
       " 35: 'Bury',\n",
       " 36: 'Manchester',\n",
       " 37: 'Oldham',\n",
       " 38: 'Rochdale',\n",
       " 39: 'Salford',\n",
       " 40: 'Stockport',\n",
       " 41: 'Tameside',\n",
       " 42: 'Trafford',\n",
       " 43: 'Wigan',\n",
       " 44: 'Knowsley',\n",
       " 45: 'Liverpool',\n",
       " 46: 'St. Helens',\n",
       " 47: 'Sefton',\n",
       " 48: 'Wirral',\n",
       " 49: 'Barnsley',\n",
       " 50: 'Doncaster',\n",
       " 51: 'Rotherham',\n",
       " 52: 'Sheffield',\n",
       " 53: 'Gateshead',\n",
       " 54: 'Newcastle upon Tyne',\n",
       " 55: 'North Tyneside',\n",
       " 56: 'South Tyneside',\n",
       " 57: 'Sunderland',\n",
       " 58: 'Birmingham',\n",
       " 59: 'Coventry',\n",
       " 60: 'Dudley',\n",
       " 61: 'Sandwell',\n",
       " 62: 'Solihull',\n",
       " 63: 'Walsall',\n",
       " 64: 'Wolverhampton',\n",
       " 65: 'Bradford',\n",
       " 66: 'Calderdale',\n",
       " 67: 'Kirklees',\n",
       " 68: 'Leeds',\n",
       " 69: 'Wakefield',\n",
       " 70: 'Hartlepool',\n",
       " 71: 'Middlesbrough',\n",
       " 72: 'Redcar and Cleveland',\n",
       " 73: 'Stockton-on-Tees',\n",
       " 74: 'Darlington',\n",
       " 75: 'County Durham',\n",
       " 76: 'Northumberland',\n",
       " 77: 'Cheshire East',\n",
       " 78: 'Halton',\n",
       " 79: 'Warrington',\n",
       " 80: 'Cheshire West and Chester',\n",
       " 81: 'Blackburn with Darwen',\n",
       " 82: 'Blackpool',\n",
       " 83: 'Kingston upon Hull, City of',\n",
       " 84: 'East Riding of Yorkshire',\n",
       " 85: 'North East Lincolnshire',\n",
       " 86: 'North Lincolnshire',\n",
       " 87: 'York',\n",
       " 88: 'Derby',\n",
       " 89: 'Leicester',\n",
       " 90: 'Rutland',\n",
       " 91: 'Nottingham',\n",
       " 92: 'Herefordshire, County of',\n",
       " 93: 'Telford and Wrekin',\n",
       " 94: 'Shropshire',\n",
       " 95: 'Stoke-on-Trent',\n",
       " 96: 'Bath and North East Somerset',\n",
       " 97: 'Bristol, City of',\n",
       " 98: 'North Somerset',\n",
       " 99: 'South Gloucestershire',\n",
       " 100: 'Cornwall',\n",
       " 101: 'Isles of Scilly',\n",
       " 102: 'Plymouth',\n",
       " 103: 'Torbay',\n",
       " 104: 'Bournemouth',\n",
       " 105: 'Poole',\n",
       " 106: 'Swindon',\n",
       " 107: 'Wiltshire',\n",
       " 108: 'Peterborough',\n",
       " 109: 'Luton',\n",
       " 110: 'Bedford',\n",
       " 111: 'Central Bedfordshire',\n",
       " 112: 'Southend-on-Sea',\n",
       " 113: 'Thurrock',\n",
       " 114: 'Medway',\n",
       " 115: 'Bracknell Forest',\n",
       " 116: 'West Berkshire',\n",
       " 117: 'Reading',\n",
       " 118: 'Slough',\n",
       " 119: 'Windsor and Maidenhead',\n",
       " 120: 'Wokingham',\n",
       " 121: 'Milton Keynes',\n",
       " 122: 'Brighton and Hove',\n",
       " 123: 'Portsmouth',\n",
       " 124: 'Southampton',\n",
       " 125: 'Isle of Wight',\n",
       " 126: 'Isle of Anglesey',\n",
       " 127: 'Gwynedd',\n",
       " 128: 'Conwy',\n",
       " 129: 'Denbighshire',\n",
       " 130: 'Flintshire',\n",
       " 131: 'Wrexham',\n",
       " 132: 'Powys',\n",
       " 133: 'Ceredigion',\n",
       " 134: 'Pembrokeshire',\n",
       " 135: 'Carmarthenshire',\n",
       " 136: 'Swansea',\n",
       " 137: 'Neath Port Talbot',\n",
       " 138: 'Bridgend',\n",
       " 139: 'The Vale of Glamorgan',\n",
       " 140: 'Rhondda, Cynon, Taff',\n",
       " 141: 'Merthyr Tydfil',\n",
       " 142: 'Caerphilly',\n",
       " 143: 'Blaenau Gwent',\n",
       " 144: 'Torfaen',\n",
       " 145: 'Monmouthshire',\n",
       " 146: 'Newport',\n",
       " 147: 'Cardiff',\n",
       " 148: 'Aberdeen City',\n",
       " 149: 'Aberdeenshire',\n",
       " 150: 'Angus',\n",
       " 151: 'Argyll & Bute',\n",
       " 152: 'Scottish Borders',\n",
       " 153: 'Clackmannanshire',\n",
       " 154: 'West Dunbartonshire',\n",
       " 155: 'Dumfries & Galloway',\n",
       " 156: 'Dundee City',\n",
       " 157: 'East Ayrshire',\n",
       " 158: 'East Dunbartonshire',\n",
       " 159: 'East Lothian',\n",
       " 160: 'East Renfrewshire',\n",
       " 161: 'Edinburgh, City of',\n",
       " 162: 'Falkirk',\n",
       " 163: 'Fife',\n",
       " 164: 'Glasgow City',\n",
       " 165: 'Highland',\n",
       " 166: 'Inverclyde',\n",
       " 167: 'Midlothian',\n",
       " 168: 'Moray',\n",
       " 169: 'North Ayrshire',\n",
       " 170: 'North Lanarkshire',\n",
       " 171: 'Orkney Islands',\n",
       " 172: 'Perth & Kinross',\n",
       " 173: 'Renfrewshire',\n",
       " 174: 'Shetland Islands',\n",
       " 175: 'South Ayrshire',\n",
       " 176: 'South Lanarkshire',\n",
       " 177: 'Stirling',\n",
       " 178: 'West Lothian',\n",
       " 179: 'Eilean Siar',\n",
       " 180: 'Aylesbury Vale',\n",
       " 181: 'Chiltern',\n",
       " 182: 'South Bucks',\n",
       " 183: 'Wycombe',\n",
       " 184: 'Cambridge',\n",
       " 185: 'East Cambridgeshire',\n",
       " 186: 'Fenland',\n",
       " 187: 'Huntingdonshire',\n",
       " 188: 'South Cambridgeshire',\n",
       " 189: 'Allerdale',\n",
       " 190: 'Barrow-in-Furness',\n",
       " 191: 'Carlisle',\n",
       " 192: 'Copeland',\n",
       " 193: 'Eden',\n",
       " 194: 'South Lakeland',\n",
       " 195: 'Amber Valley',\n",
       " 196: 'Bolsover',\n",
       " 197: 'Chesterfield',\n",
       " 198: 'Derbyshire Dales',\n",
       " 199: 'Erewash',\n",
       " 200: 'High Peak',\n",
       " 201: 'North East Derbyshire',\n",
       " 202: 'South Derbyshire',\n",
       " 203: 'East Devon',\n",
       " 204: 'Exeter',\n",
       " 205: 'Mid Devon',\n",
       " 206: 'North Devon',\n",
       " 207: 'South Hams',\n",
       " 208: 'Teignbridge',\n",
       " 209: 'Torridge',\n",
       " 210: 'West Devon',\n",
       " 211: 'Christchurch',\n",
       " 212: 'East Dorset',\n",
       " 213: 'North Dorset',\n",
       " 214: 'Purbeck',\n",
       " 215: 'West Dorset',\n",
       " 216: 'Weymouth and Portland',\n",
       " 217: 'Eastbourne',\n",
       " 218: 'Hastings',\n",
       " 219: 'Lewes',\n",
       " 220: 'Rother',\n",
       " 221: 'Wealden',\n",
       " 222: 'Basildon',\n",
       " 223: 'Braintree',\n",
       " 224: 'Brentwood',\n",
       " 225: 'Castle Point',\n",
       " 226: 'Chelmsford',\n",
       " 227: 'Colchester',\n",
       " 228: 'Epping Forest',\n",
       " 229: 'Harlow',\n",
       " 230: 'Maldon',\n",
       " 231: 'Rochford',\n",
       " 232: 'Tendring',\n",
       " 233: 'Uttlesford',\n",
       " 234: 'Cheltenham',\n",
       " 235: 'Cotswold',\n",
       " 236: 'Forest of Dean',\n",
       " 237: 'Gloucester',\n",
       " 238: 'Stroud',\n",
       " 239: 'Tewkesbury',\n",
       " 240: 'Basingstoke and Deane',\n",
       " 241: 'East Hampshire',\n",
       " 242: 'Eastleigh',\n",
       " 243: 'Fareham',\n",
       " 244: 'Gosport',\n",
       " 245: 'Hart',\n",
       " 246: 'Havant',\n",
       " 247: 'New Forest',\n",
       " 248: 'Rushmoor',\n",
       " 249: 'Test Valley',\n",
       " 250: 'Winchester',\n",
       " 251: 'Broxbourne',\n",
       " 252: 'Dacorum',\n",
       " 253: 'East Hertfordshire',\n",
       " 254: 'Hertsmere',\n",
       " 255: 'North Hertfordshire',\n",
       " 256: 'St Albans',\n",
       " 257: 'Stevenage',\n",
       " 258: 'Three Rivers',\n",
       " 259: 'Watford',\n",
       " 260: 'Welwyn Hatfield',\n",
       " 261: 'Ashford',\n",
       " 262: 'Canterbury',\n",
       " 263: 'Dartford',\n",
       " 264: 'Dover',\n",
       " 265: 'Gravesham',\n",
       " 266: 'Maidstone',\n",
       " 267: 'Sevenoaks',\n",
       " 268: 'Shepway',\n",
       " 269: 'Swale',\n",
       " 270: 'Thanet',\n",
       " 271: 'Tonbridge and Malling',\n",
       " 272: 'Tunbridge Wells',\n",
       " 273: 'Burnley',\n",
       " 274: 'Chorley',\n",
       " 275: 'Fylde',\n",
       " 276: 'Hyndburn',\n",
       " 277: 'Lancaster',\n",
       " 278: 'Pendle',\n",
       " 279: 'Preston',\n",
       " 280: 'Ribble Valley',\n",
       " 281: 'Rossendale',\n",
       " 282: 'South Ribble',\n",
       " 283: 'West Lancashire',\n",
       " 284: 'Wyre',\n",
       " 285: 'Blaby',\n",
       " 286: 'Charnwood',\n",
       " 287: 'Harborough',\n",
       " 288: 'Hinckley and Bosworth',\n",
       " 289: 'Melton',\n",
       " 290: 'North West Leicestershire',\n",
       " 291: 'Oadby and Wigston',\n",
       " 292: 'Boston',\n",
       " 293: 'East Lindsey',\n",
       " 294: 'Lincoln',\n",
       " 295: 'North Kesteven',\n",
       " 296: 'South Holland',\n",
       " 297: 'South Kesteven',\n",
       " 298: 'West Lindsey',\n",
       " 299: 'Breckland',\n",
       " 300: 'Broadland',\n",
       " 301: 'Great Yarmouth',\n",
       " 302: \"King's Lynn and West Norfolk\",\n",
       " 303: 'North Norfolk',\n",
       " 304: 'Norwich',\n",
       " 305: 'South Norfolk',\n",
       " 306: 'Corby',\n",
       " 307: 'Daventry',\n",
       " 308: 'East Northamptonshire',\n",
       " 309: 'Kettering',\n",
       " 310: 'Northampton',\n",
       " 311: 'South Northamptonshire',\n",
       " 312: 'Wellingborough',\n",
       " 313: 'Craven',\n",
       " 314: 'Hambleton',\n",
       " 315: 'Harrogate',\n",
       " 316: 'Richmondshire',\n",
       " 317: 'Ryedale',\n",
       " 318: 'Scarborough',\n",
       " 319: 'Selby',\n",
       " 320: 'Ashfield',\n",
       " 321: 'Bassetlaw',\n",
       " 322: 'Broxtowe',\n",
       " 323: 'Gedling',\n",
       " 324: 'Mansfield',\n",
       " 325: 'Newark and Sherwood',\n",
       " 326: 'Rushcliffe',\n",
       " 327: 'Cherwell',\n",
       " 328: 'Oxford',\n",
       " 329: 'South Oxfordshire',\n",
       " 330: 'Vale of White Horse',\n",
       " 331: 'West Oxfordshire',\n",
       " 332: 'Mendip',\n",
       " 333: 'Sedgemoor',\n",
       " 334: 'South Somerset',\n",
       " 335: 'Taunton Deane',\n",
       " 336: 'West Somerset',\n",
       " 337: 'Cannock Chase',\n",
       " 338: 'East Staffordshire',\n",
       " 339: 'Lichfield',\n",
       " 340: 'Newcastle-under-Lyme',\n",
       " 341: 'South Staffordshire',\n",
       " 342: 'Stafford',\n",
       " 343: 'Staffordshire Moorlands',\n",
       " 344: 'Tamworth',\n",
       " 345: 'Babergh',\n",
       " 346: 'Forest Heath',\n",
       " 347: 'Ipswich',\n",
       " 348: 'Mid Suffolk',\n",
       " 349: 'St Edmundsbury',\n",
       " 350: 'Suffolk Coastal',\n",
       " 351: 'Waveney',\n",
       " 352: 'Elmbridge',\n",
       " 353: 'Epsom and Ewell',\n",
       " 354: 'Guildford',\n",
       " 355: 'Mole Valley',\n",
       " 356: 'Reigate and Banstead',\n",
       " 357: 'Runnymede',\n",
       " 358: 'Spelthorne',\n",
       " 359: 'Surrey Heath',\n",
       " 360: 'Tandridge',\n",
       " 361: 'Waverley',\n",
       " 362: 'Woking',\n",
       " 363: 'North Warwickshire',\n",
       " 364: 'Nuneaton and Bedworth',\n",
       " 365: 'Rugby',\n",
       " 366: 'Stratford-on-Avon',\n",
       " 367: 'Warwick',\n",
       " 368: 'Adur',\n",
       " 369: 'Arun',\n",
       " 370: 'Chichester',\n",
       " 371: 'Crawley',\n",
       " 372: 'Horsham',\n",
       " 373: 'Mid Sussex',\n",
       " 374: 'Worthing',\n",
       " 375: 'Bromsgrove',\n",
       " 376: 'Malvern Hills',\n",
       " 377: 'Redditch',\n",
       " 378: 'Worcester',\n",
       " 379: 'Wychavon',\n",
       " 380: 'Wyre Forest',\n",
       " 381: 'Derry City',\n",
       " 382: 'Limavady',\n",
       " 383: 'Coleraine',\n",
       " 384: 'Ballymoney',\n",
       " 385: 'Moyle',\n",
       " 386: 'Larne',\n",
       " 387: 'Ballymena',\n",
       " 388: 'Magherafelt',\n",
       " 389: 'Cookstown',\n",
       " 390: 'Strabane',\n",
       " 391: 'Omagh',\n",
       " 392: 'Fermanagh',\n",
       " 393: 'Dungannon',\n",
       " 394: 'Craigavon',\n",
       " 395: 'Armagh',\n",
       " 396: 'Newry and Mourne',\n",
       " 397: 'Banbridge',\n",
       " 398: 'Down',\n",
       " 399: 'Lisburn',\n",
       " 400: 'Antrim',\n",
       " 401: 'Newtownabbey',\n",
       " 402: 'Carrickfergus',\n",
       " 403: 'North Down',\n",
       " 404: 'Ards',\n",
       " 405: 'Castlereagh',\n",
       " 406: 'Belfast',\n",
       " 411: 'Antrim and Newtownabbey',\n",
       " 412: 'Armagh, Banbridge and Craigavon',\n",
       " 413: 'Belfast',\n",
       " 414: 'Causeway Coast and Glens',\n",
       " 415: 'Derry and Strabane',\n",
       " 416: 'Fermanagh and Omagh',\n",
       " 417: 'Lisburn and Castlereagh',\n",
       " 418: 'Mid and East Antrim',\n",
       " 419: 'Mid Ulster',\n",
       " 420: 'Newry, Mourne and Down',\n",
       " 421: 'North Down and Ards',\n",
       " 440: 'Fife',\n",
       " 441: 'Perth and Kinross',\n",
       " 442: 'Glasgow City',\n",
       " 443: 'North Lanarkshire',\n",
       " 444: 'Bournemouth, Christchurch and Poole',\n",
       " 445: 'Dorset',\n",
       " 446: 'East Suffolk',\n",
       " 447: 'West Suffolk',\n",
       " 448: 'Somerset West and Taunton',\n",
       " -2147483648: 'not used'}"
      ]
     },
     "execution_count": 53,
     "metadata": {},
     "output_type": "execute_result"
    }
   ],
   "source": [
    "reader.value_labels()['oslauaW16']"
   ]
  },
  {
   "cell_type": "code",
   "execution_count": 54,
   "metadata": {},
   "outputs": [
    {
     "data": {
      "text/plain": [
       "{1: 'City of London',\n",
       " 2: 'Barking and Dagenham',\n",
       " 3: 'Barnet',\n",
       " 4: 'Bexley',\n",
       " 5: 'Brent',\n",
       " 6: 'Bromley',\n",
       " 7: 'Camden',\n",
       " 8: 'Croydon',\n",
       " 9: 'Ealing',\n",
       " 10: 'Enfield',\n",
       " 11: 'Greenwich',\n",
       " 12: 'Hackney',\n",
       " 13: 'Hammersmith and Fulham',\n",
       " 14: 'Haringey',\n",
       " 15: 'Harrow',\n",
       " 16: 'Havering',\n",
       " 17: 'Hillingdon',\n",
       " 18: 'Hounslow',\n",
       " 19: 'Islington',\n",
       " 20: 'Kensington and Chelsea',\n",
       " 21: 'Kingston upon Thames',\n",
       " 22: 'Lambeth',\n",
       " 23: 'Lewisham',\n",
       " 24: 'Merton',\n",
       " 25: 'Newham',\n",
       " 26: 'Redbridge',\n",
       " 27: 'Richmond upon Thames',\n",
       " 28: 'Southwark',\n",
       " 29: 'Sutton',\n",
       " 30: 'Tower Hamlets',\n",
       " 31: 'Waltham Forest',\n",
       " 32: 'Wandsworth',\n",
       " 33: 'Westminster',\n",
       " 34: 'Bolton',\n",
       " 35: 'Bury',\n",
       " 36: 'Manchester',\n",
       " 37: 'Oldham',\n",
       " 38: 'Rochdale',\n",
       " 39: 'Salford',\n",
       " 40: 'Stockport',\n",
       " 41: 'Tameside',\n",
       " 42: 'Trafford',\n",
       " 43: 'Wigan',\n",
       " 44: 'Knowsley',\n",
       " 45: 'Liverpool',\n",
       " 46: 'St. Helens',\n",
       " 47: 'Sefton',\n",
       " 48: 'Wirral',\n",
       " 49: 'Barnsley',\n",
       " 50: 'Doncaster',\n",
       " 51: 'Rotherham',\n",
       " 52: 'Sheffield',\n",
       " 53: 'Gateshead',\n",
       " 54: 'Newcastle upon Tyne',\n",
       " 55: 'North Tyneside',\n",
       " 56: 'South Tyneside',\n",
       " 57: 'Sunderland',\n",
       " 58: 'Birmingham',\n",
       " 59: 'Coventry',\n",
       " 60: 'Dudley',\n",
       " 61: 'Sandwell',\n",
       " 62: 'Solihull',\n",
       " 63: 'Walsall',\n",
       " 64: 'Wolverhampton',\n",
       " 65: 'Bradford',\n",
       " 66: 'Calderdale',\n",
       " 67: 'Kirklees',\n",
       " 68: 'Leeds',\n",
       " 69: 'Wakefield',\n",
       " 70: 'Hartlepool',\n",
       " 71: 'Middlesbrough',\n",
       " 72: 'Redcar and Cleveland',\n",
       " 73: 'Stockton-on-Tees',\n",
       " 74: 'Darlington',\n",
       " 75: 'County Durham',\n",
       " 76: 'Northumberland',\n",
       " 77: 'Cheshire East',\n",
       " 78: 'Halton',\n",
       " 79: 'Warrington',\n",
       " 80: 'Cheshire West and Chester',\n",
       " 81: 'Blackburn with Darwen',\n",
       " 82: 'Blackpool',\n",
       " 83: 'Kingston upon Hull, City of',\n",
       " 84: 'East Riding of Yorkshire',\n",
       " 85: 'North East Lincolnshire',\n",
       " 86: 'North Lincolnshire',\n",
       " 87: 'York',\n",
       " 88: 'Derby',\n",
       " 89: 'Leicester',\n",
       " 90: 'Rutland',\n",
       " 91: 'Nottingham',\n",
       " 92: 'Herefordshire, County of',\n",
       " 93: 'Telford and Wrekin',\n",
       " 94: 'Shropshire',\n",
       " 95: 'Stoke-on-Trent',\n",
       " 96: 'Bath and North East Somerset',\n",
       " 97: 'Bristol, City of',\n",
       " 98: 'North Somerset',\n",
       " 99: 'South Gloucestershire',\n",
       " 100: 'Cornwall',\n",
       " 101: 'Isles of Scilly',\n",
       " 102: 'Plymouth',\n",
       " 103: 'Torbay',\n",
       " 104: 'Bournemouth',\n",
       " 105: 'Poole',\n",
       " 106: 'Swindon',\n",
       " 107: 'Wiltshire',\n",
       " 108: 'Peterborough',\n",
       " 109: 'Luton',\n",
       " 110: 'Bedford',\n",
       " 111: 'Central Bedfordshire',\n",
       " 112: 'Southend-on-Sea',\n",
       " 113: 'Thurrock',\n",
       " 114: 'Medway',\n",
       " 115: 'Bracknell Forest',\n",
       " 116: 'West Berkshire',\n",
       " 117: 'Reading',\n",
       " 118: 'Slough',\n",
       " 119: 'Windsor and Maidenhead',\n",
       " 120: 'Wokingham',\n",
       " 121: 'Milton Keynes',\n",
       " 122: 'Brighton and Hove',\n",
       " 123: 'Portsmouth',\n",
       " 124: 'Southampton',\n",
       " 125: 'Isle of Wight',\n",
       " 126: 'Isle of Anglesey',\n",
       " 127: 'Gwynedd',\n",
       " 128: 'Conwy',\n",
       " 129: 'Denbighshire',\n",
       " 130: 'Flintshire',\n",
       " 131: 'Wrexham',\n",
       " 132: 'Powys',\n",
       " 133: 'Ceredigion',\n",
       " 134: 'Pembrokeshire',\n",
       " 135: 'Carmarthenshire',\n",
       " 136: 'Swansea',\n",
       " 137: 'Neath Port Talbot',\n",
       " 138: 'Bridgend',\n",
       " 139: 'The Vale of Glamorgan',\n",
       " 140: 'Rhondda, Cynon, Taff',\n",
       " 141: 'Merthyr Tydfil',\n",
       " 142: 'Caerphilly',\n",
       " 143: 'Blaenau Gwent',\n",
       " 144: 'Torfaen',\n",
       " 145: 'Monmouthshire',\n",
       " 146: 'Newport',\n",
       " 147: 'Cardiff',\n",
       " 148: 'Aberdeen City',\n",
       " 149: 'Aberdeenshire',\n",
       " 150: 'Angus',\n",
       " 151: 'Argyll & Bute',\n",
       " 152: 'Scottish Borders',\n",
       " 153: 'Clackmannanshire',\n",
       " 154: 'West Dunbartonshire',\n",
       " 155: 'Dumfries & Galloway',\n",
       " 156: 'Dundee City',\n",
       " 157: 'East Ayrshire',\n",
       " 158: 'East Dunbartonshire',\n",
       " 159: 'East Lothian',\n",
       " 160: 'East Renfrewshire',\n",
       " 161: 'Edinburgh, City of',\n",
       " 162: 'Falkirk',\n",
       " 163: 'Fife',\n",
       " 164: 'Glasgow City',\n",
       " 165: 'Highland',\n",
       " 166: 'Inverclyde',\n",
       " 167: 'Midlothian',\n",
       " 168: 'Moray',\n",
       " 169: 'North Ayrshire',\n",
       " 170: 'North Lanarkshire',\n",
       " 171: 'Orkney Islands',\n",
       " 172: 'Perth & Kinross',\n",
       " 173: 'Renfrewshire',\n",
       " 174: 'Shetland Islands',\n",
       " 175: 'South Ayrshire',\n",
       " 176: 'South Lanarkshire',\n",
       " 177: 'Stirling',\n",
       " 178: 'West Lothian',\n",
       " 179: 'Eilean Siar',\n",
       " 180: 'Aylesbury Vale',\n",
       " 181: 'Chiltern',\n",
       " 182: 'South Bucks',\n",
       " 183: 'Wycombe',\n",
       " 184: 'Cambridge',\n",
       " 185: 'East Cambridgeshire',\n",
       " 186: 'Fenland',\n",
       " 187: 'Huntingdonshire',\n",
       " 188: 'South Cambridgeshire',\n",
       " 189: 'Allerdale',\n",
       " 190: 'Barrow-in-Furness',\n",
       " 191: 'Carlisle',\n",
       " 192: 'Copeland',\n",
       " 193: 'Eden',\n",
       " 194: 'South Lakeland',\n",
       " 195: 'Amber Valley',\n",
       " 196: 'Bolsover',\n",
       " 197: 'Chesterfield',\n",
       " 198: 'Derbyshire Dales',\n",
       " 199: 'Erewash',\n",
       " 200: 'High Peak',\n",
       " 201: 'North East Derbyshire',\n",
       " 202: 'South Derbyshire',\n",
       " 203: 'East Devon',\n",
       " 204: 'Exeter',\n",
       " 205: 'Mid Devon',\n",
       " 206: 'North Devon',\n",
       " 207: 'South Hams',\n",
       " 208: 'Teignbridge',\n",
       " 209: 'Torridge',\n",
       " 210: 'West Devon',\n",
       " 211: 'Christchurch',\n",
       " 212: 'East Dorset',\n",
       " 213: 'North Dorset',\n",
       " 214: 'Purbeck',\n",
       " 215: 'West Dorset',\n",
       " 216: 'Weymouth and Portland',\n",
       " 217: 'Eastbourne',\n",
       " 218: 'Hastings',\n",
       " 219: 'Lewes',\n",
       " 220: 'Rother',\n",
       " 221: 'Wealden',\n",
       " 222: 'Basildon',\n",
       " 223: 'Braintree',\n",
       " 224: 'Brentwood',\n",
       " 225: 'Castle Point',\n",
       " 226: 'Chelmsford',\n",
       " 227: 'Colchester',\n",
       " 228: 'Epping Forest',\n",
       " 229: 'Harlow',\n",
       " 230: 'Maldon',\n",
       " 231: 'Rochford',\n",
       " 232: 'Tendring',\n",
       " 233: 'Uttlesford',\n",
       " 234: 'Cheltenham',\n",
       " 235: 'Cotswold',\n",
       " 236: 'Forest of Dean',\n",
       " 237: 'Gloucester',\n",
       " 238: 'Stroud',\n",
       " 239: 'Tewkesbury',\n",
       " 240: 'Basingstoke and Deane',\n",
       " 241: 'East Hampshire',\n",
       " 242: 'Eastleigh',\n",
       " 243: 'Fareham',\n",
       " 244: 'Gosport',\n",
       " 245: 'Hart',\n",
       " 246: 'Havant',\n",
       " 247: 'New Forest',\n",
       " 248: 'Rushmoor',\n",
       " 249: 'Test Valley',\n",
       " 250: 'Winchester',\n",
       " 251: 'Broxbourne',\n",
       " 252: 'Dacorum',\n",
       " 253: 'East Hertfordshire',\n",
       " 254: 'Hertsmere',\n",
       " 255: 'North Hertfordshire',\n",
       " 256: 'St Albans',\n",
       " 257: 'Stevenage',\n",
       " 258: 'Three Rivers',\n",
       " 259: 'Watford',\n",
       " 260: 'Welwyn Hatfield',\n",
       " 261: 'Ashford',\n",
       " 262: 'Canterbury',\n",
       " 263: 'Dartford',\n",
       " 264: 'Dover',\n",
       " 265: 'Gravesham',\n",
       " 266: 'Maidstone',\n",
       " 267: 'Sevenoaks',\n",
       " 268: 'Shepway',\n",
       " 269: 'Swale',\n",
       " 270: 'Thanet',\n",
       " 271: 'Tonbridge and Malling',\n",
       " 272: 'Tunbridge Wells',\n",
       " 273: 'Burnley',\n",
       " 274: 'Chorley',\n",
       " 275: 'Fylde',\n",
       " 276: 'Hyndburn',\n",
       " 277: 'Lancaster',\n",
       " 278: 'Pendle',\n",
       " 279: 'Preston',\n",
       " 280: 'Ribble Valley',\n",
       " 281: 'Rossendale',\n",
       " 282: 'South Ribble',\n",
       " 283: 'West Lancashire',\n",
       " 284: 'Wyre',\n",
       " 285: 'Blaby',\n",
       " 286: 'Charnwood',\n",
       " 287: 'Harborough',\n",
       " 288: 'Hinckley and Bosworth',\n",
       " 289: 'Melton',\n",
       " 290: 'North West Leicestershire',\n",
       " 291: 'Oadby and Wigston',\n",
       " 292: 'Boston',\n",
       " 293: 'East Lindsey',\n",
       " 294: 'Lincoln',\n",
       " 295: 'North Kesteven',\n",
       " 296: 'South Holland',\n",
       " 297: 'South Kesteven',\n",
       " 298: 'West Lindsey',\n",
       " 299: 'Breckland',\n",
       " 300: 'Broadland',\n",
       " 301: 'Great Yarmouth',\n",
       " 302: \"King's Lynn and West Norfolk\",\n",
       " 303: 'North Norfolk',\n",
       " 304: 'Norwich',\n",
       " 305: 'South Norfolk',\n",
       " 306: 'Corby',\n",
       " 307: 'Daventry',\n",
       " 308: 'East Northamptonshire',\n",
       " 309: 'Kettering',\n",
       " 310: 'Northampton',\n",
       " 311: 'South Northamptonshire',\n",
       " 312: 'Wellingborough',\n",
       " 313: 'Craven',\n",
       " 314: 'Hambleton',\n",
       " 315: 'Harrogate',\n",
       " 316: 'Richmondshire',\n",
       " 317: 'Ryedale',\n",
       " 318: 'Scarborough',\n",
       " 319: 'Selby',\n",
       " 320: 'Ashfield',\n",
       " 321: 'Bassetlaw',\n",
       " 322: 'Broxtowe',\n",
       " 323: 'Gedling',\n",
       " 324: 'Mansfield',\n",
       " 325: 'Newark and Sherwood',\n",
       " 326: 'Rushcliffe',\n",
       " 327: 'Cherwell',\n",
       " 328: 'Oxford',\n",
       " 329: 'South Oxfordshire',\n",
       " 330: 'Vale of White Horse',\n",
       " 331: 'West Oxfordshire',\n",
       " 332: 'Mendip',\n",
       " 333: 'Sedgemoor',\n",
       " 334: 'South Somerset',\n",
       " 335: 'Taunton Deane',\n",
       " 336: 'West Somerset',\n",
       " 337: 'Cannock Chase',\n",
       " 338: 'East Staffordshire',\n",
       " 339: 'Lichfield',\n",
       " 340: 'Newcastle-under-Lyme',\n",
       " 341: 'South Staffordshire',\n",
       " 342: 'Stafford',\n",
       " 343: 'Staffordshire Moorlands',\n",
       " 344: 'Tamworth',\n",
       " 345: 'Babergh',\n",
       " 346: 'Forest Heath',\n",
       " 347: 'Ipswich',\n",
       " 348: 'Mid Suffolk',\n",
       " 349: 'St Edmundsbury',\n",
       " 350: 'Suffolk Coastal',\n",
       " 351: 'Waveney',\n",
       " 352: 'Elmbridge',\n",
       " 353: 'Epsom and Ewell',\n",
       " 354: 'Guildford',\n",
       " 355: 'Mole Valley',\n",
       " 356: 'Reigate and Banstead',\n",
       " 357: 'Runnymede',\n",
       " 358: 'Spelthorne',\n",
       " 359: 'Surrey Heath',\n",
       " 360: 'Tandridge',\n",
       " 361: 'Waverley',\n",
       " 362: 'Woking',\n",
       " 363: 'North Warwickshire',\n",
       " 364: 'Nuneaton and Bedworth',\n",
       " 365: 'Rugby',\n",
       " 366: 'Stratford-on-Avon',\n",
       " 367: 'Warwick',\n",
       " 368: 'Adur',\n",
       " 369: 'Arun',\n",
       " 370: 'Chichester',\n",
       " 371: 'Crawley',\n",
       " 372: 'Horsham',\n",
       " 373: 'Mid Sussex',\n",
       " 374: 'Worthing',\n",
       " 375: 'Bromsgrove',\n",
       " 376: 'Malvern Hills',\n",
       " 377: 'Redditch',\n",
       " 378: 'Worcester',\n",
       " 379: 'Wychavon',\n",
       " 380: 'Wyre Forest',\n",
       " 381: 'Derry City',\n",
       " 382: 'Limavady',\n",
       " 383: 'Coleraine',\n",
       " 384: 'Ballymoney',\n",
       " 385: 'Moyle',\n",
       " 386: 'Larne',\n",
       " 387: 'Ballymena',\n",
       " 388: 'Magherafelt',\n",
       " 389: 'Cookstown',\n",
       " 390: 'Strabane',\n",
       " 391: 'Omagh',\n",
       " 392: 'Fermanagh',\n",
       " 393: 'Dungannon',\n",
       " 394: 'Craigavon',\n",
       " 395: 'Armagh',\n",
       " 396: 'Newry and Mourne',\n",
       " 397: 'Banbridge',\n",
       " 398: 'Down',\n",
       " 399: 'Lisburn',\n",
       " 400: 'Antrim',\n",
       " 401: 'Newtownabbey',\n",
       " 402: 'Carrickfergus',\n",
       " 403: 'North Down',\n",
       " 404: 'Ards',\n",
       " 405: 'Castlereagh',\n",
       " 406: 'Belfast',\n",
       " 411: 'Antrim and Newtownabbey',\n",
       " 412: 'Armagh, Banbridge and Craigavon',\n",
       " 413: 'Belfast',\n",
       " 414: 'Causeway Coast and Glens',\n",
       " 415: 'Derry and Strabane',\n",
       " 416: 'Fermanagh and Omagh',\n",
       " 417: 'Lisburn and Castlereagh',\n",
       " 418: 'Mid and East Antrim',\n",
       " 419: 'Mid Ulster',\n",
       " 420: 'Newry, Mourne and Down',\n",
       " 421: 'North Down and Ards',\n",
       " 440: 'Fife',\n",
       " 441: 'Perth and Kinross',\n",
       " 442: 'Glasgow City',\n",
       " 443: 'North Lanarkshire',\n",
       " 444: 'Bournemouth, Christchurch and Poole',\n",
       " 445: 'Dorset',\n",
       " 446: 'East Suffolk',\n",
       " 447: 'West Suffolk',\n",
       " 448: 'Somerset West and Taunton',\n",
       " -2147483648: 'not used'}"
      ]
     },
     "execution_count": 54,
     "metadata": {},
     "output_type": "execute_result"
    }
   ],
   "source": [
    "reader.value_labels()['oslauaW1']"
   ]
  },
  {
   "cell_type": "code",
   "execution_count": 61,
   "metadata": {},
   "outputs": [
    {
     "data": {
      "text/plain": [
       "City of London|Barking and Dagenham|Barnet|Bexley|Brent|Bromley|Camden|Croydon|Ealing|Enfield|Greenwich|Hackney|Hammersmith and Fulham|Haringey|Harrow|Havering|Hillingdon|Hounslow|Islington|Kensington and Chelsea|Kingston upon Thames|Lambeth|Lewisham|Merton|Newham|Redbridge|Richmond upon Thames|Southwark|Sutton|Tower Hamlets|Waltham Forest|Wandsworth|Westminster|Bolton|Bury|Manchester|Oldham|Rochdale|Salford|Stockport|Tameside|Trafford|Wigan|Knowsley|Liverpool|St. Helens|Sefton|Wirral|Barnsley|Doncaster|Rotherham|Sheffield|Gateshead|Newcastle upon Tyne|North Tyneside|South Tyneside|Sunderland|Birmingham|Coventry|Dudley|Sandwell|Solihull|Walsall|Wolverhampton|Bradford|Calderdale|Kirklees|Leeds|Wakefield|Hartlepool|Middlesbrough|Redcar and Cleveland|Stockton-on-Tees|Darlington|County Durham|Northumberland|Cheshire East|Halton|Warrington|Cheshire West and Chester|Blackburn with Darwen|Blackpool|Kingston upon Hull, City of|East Riding of Yorkshire|North East Lincolnshire|North Lincolnshire|York|Derby|Leicester|Rutland|Nottingham|Herefordshire, County of|Telford and Wrekin|Shropshire|Stoke-on-Trent|Bath and North East Somerset|Bristol, City of|North Somerset|South Gloucestershire|Cornwall|Isles of Scilly|Plymouth|Torbay|Bournemouth|Poole|Swindon|Wiltshire|Peterborough|Luton|Bedford|Central Bedfordshire|Southend-on-Sea|Thurrock|Medway|Bracknell Forest|West Berkshire|Reading|Slough|Windsor and Maidenhead|Wokingham|Milton Keynes|Brighton and Hove|Portsmouth|Southampton|Isle of Wight|Isle of Anglesey|Gwynedd|Conwy|Denbighshire|Flintshire|Wrexham|Powys|Ceredigion|Pembrokeshire|Carmarthenshire|Swansea|Neath Port Talbot|Bridgend|The Vale of Glamorgan|Rhondda, Cynon, Taff|Merthyr Tydfil|Caerphilly|Blaenau Gwent|Torfaen|Monmouthshire|Newport|Cardiff|Aberdeen City|Aberdeenshire|Angus|Argyll & Bute|Scottish Borders|Clackmannanshire|West Dunbartonshire|Dumfries & Galloway|Dundee City|East Ayrshire|East Dunbartonshire|East Lothian|East Renfrewshire|Edinburgh, City of|Falkirk|Fife|Glasgow City|Highland|Inverclyde|Midlothian|Moray|North Ayrshire|North Lanarkshire|Orkney Islands|Perth & Kinross|Renfrewshire|Shetland Islands|South Ayrshire|South Lanarkshire|Stirling|West Lothian|Eilean Siar|Aylesbury Vale|Chiltern|South Bucks|Wycombe|Cambridge|East Cambridgeshire|Fenland|Huntingdonshire|South Cambridgeshire|Allerdale|Barrow-in-Furness|Carlisle|Copeland|Eden|South Lakeland|Amber Valley|Bolsover|Chesterfield|Derbyshire Dales|Erewash|High Peak|North East Derbyshire|South Derbyshire|East Devon|Exeter|Mid Devon|North Devon|South Hams|Teignbridge|Torridge|West Devon|Christchurch|East Dorset|North Dorset|Purbeck|West Dorset|Weymouth and Portland|Eastbourne|Hastings|Lewes|Rother|Wealden|Basildon|Braintree|Brentwood|Castle Point|Chelmsford|Colchester|Epping Forest|Harlow|Maldon|Rochford|Tendring|Uttlesford|Cheltenham|Cotswold|Forest of Dean|Gloucester|Stroud|Tewkesbury|Basingstoke and Deane|East Hampshire|Eastleigh|Fareham|Gosport|Hart|Havant|New Forest|Rushmoor|Test Valley|Winchester|Broxbourne|Dacorum|East Hertfordshire|Hertsmere|North Hertfordshire|St Albans|Stevenage|Three Rivers|Watford|Welwyn Hatfield|Ashford|Canterbury|Dartford|Dover|Gravesham|Maidstone|Sevenoaks|Shepway|Swale|Thanet|Tonbridge and Malling|Tunbridge Wells|Burnley|Chorley|Fylde|Hyndburn|Lancaster|Pendle|Preston|Ribble Valley|Rossendale|South Ribble|West Lancashire|Wyre|Blaby|Charnwood|Harborough|Hinckley and Bosworth|Melton|North West Leicestershire|Oadby and Wigston|Boston|East Lindsey|Lincoln|North Kesteven|South Holland|South Kesteven|West Lindsey|Breckland|Broadland|Great Yarmouth|King's Lynn and West Norfolk|North Norfolk|Norwich|South Norfolk|Corby|Daventry|East Northamptonshire|Kettering|Northampton|South Northamptonshire|Wellingborough|Craven|Hambleton|Harrogate|Richmondshire|Ryedale|Scarborough|Selby|Ashfield|Bassetlaw|Broxtowe|Gedling|Mansfield|Newark and Sherwood|Rushcliffe|Cherwell|Oxford|South Oxfordshire|Vale of White Horse|West Oxfordshire|Mendip|Sedgemoor|South Somerset|Taunton Deane|West Somerset|Cannock Chase|East Staffordshire|Lichfield|Newcastle-under-Lyme|South Staffordshire|Stafford|Staffordshire Moorlands|Tamworth|Babergh|Forest Heath|Ipswich|Mid Suffolk|St Edmundsbury|Suffolk Coastal|Waveney|Elmbridge|Epsom and Ewell|Guildford|Mole Valley|Reigate and Banstead|Runnymede|Spelthorne|Surrey Heath|Tandridge|Waverley|Woking|North Warwickshire|Nuneaton and Bedworth|Rugby|Stratford-on-Avon|Warwick|Adur|Arun|Chichester|Crawley|Horsham|Mid Sussex|Worthing|Bromsgrove|Malvern Hills|Redditch|Worcester|Wychavon|Wyre Forest|Derry City|Limavady|Coleraine|Ballymoney|Moyle|Larne|Ballymena|Magherafelt|Cookstown|Strabane|Omagh|Fermanagh|Dungannon|Craigavon|Armagh|Newry and Mourne|Banbridge|Down|Lisburn|Antrim|Newtownabbey|Carrickfergus|North Down|Ards|Castlereagh|Belfast|Antrim and Newtownabbey|Armagh, Banbridge and Craigavon|Belfast|Causeway Coast and Glens|Derry and Strabane|Fermanagh and Omagh|Lisburn and Castlereagh|Mid and East Antrim|Mid Ulster|Newry, Mourne and Down|North Down and Ards|Fife|Perth and Kinross|Glasgow City|North Lanarkshire|Bournemouth, Christchurch and Poole|Dorset|East Suffolk|West Suffolk|Somerset West and Taunton|not used    19\n",
       "dtype: int64"
      ]
     },
     "execution_count": 61,
     "metadata": {},
     "output_type": "execute_result"
    }
   ],
   "source": [
    "pd.Series([\"|\".join(reader.value_labels()[x].values()) for x in BESv2_columns.values if \"oslaua\" in x]).value_counts()\n",
    "\n",
    "# [x for x in BESv2_columns.values if \"oslaua\" in x"
   ]
  },
  {
   "cell_type": "code",
   "execution_count": null,
   "metadata": {},
   "outputs": [],
   "source": []
  },
  {
   "cell_type": "code",
   "execution_count": null,
   "metadata": {},
   "outputs": [],
   "source": []
  },
  {
   "cell_type": "code",
   "execution_count": null,
   "metadata": {},
   "outputs": [],
   "source": []
  },
  {
   "cell_type": "code",
   "execution_count": 14,
   "metadata": {},
   "outputs": [],
   "source": [
    "# %debug"
   ]
  },
  {
   "cell_type": "code",
   "execution_count": 8,
   "metadata": {},
   "outputs": [],
   "source": [
    "BESv2_columns = pd.read_pickle(\"..\\\\BES_analysis_data\\\\\"+\"W19_comb\"+os.sep+\"BESv2_columns\",compression='zip')"
   ]
  },
  {
   "cell_type": "code",
   "execution_count": 9,
   "metadata": {},
   "outputs": [
    {
     "data": {
      "text/plain": [
       "0                           id\n",
       "1                        wave1\n",
       "2                        wave2\n",
       "3                        wave3\n",
       "4                        wave4\n",
       "                 ...          \n",
       "8075    profiles_newspaper2W16\n",
       "8076    profiles_newspaper2W17\n",
       "8077          cogempathyIRTW14\n",
       "8078          affempathyIRTW14\n",
       "8079             zeroSumIRTW14\n",
       "Length: 8080, dtype: object"
      ]
     },
     "execution_count": 9,
     "metadata": {},
     "output_type": "execute_result"
    }
   ],
   "source": [
    "[x for x in BESv2_columns.values if \"oslaua\" not in x]"
   ]
  },
  {
   "cell_type": "code",
   "execution_count": 82,
   "metadata": {},
   "outputs": [
    {
     "data": {
      "text/plain": [
       "category    2483\n",
       "category     403\n",
       "category     331\n",
       "category     205\n",
       "float64      189\n",
       "category     173\n",
       "category     152\n",
       "category     140\n",
       "category     133\n",
       "category     130\n",
       "dtype: int64"
      ]
     },
     "execution_count": 82,
     "metadata": {},
     "output_type": "execute_result"
    }
   ],
   "source": [
    "BES_Panelv02.dtypes.value_counts().head(10)"
   ]
  },
  {
   "cell_type": "code",
   "execution_count": 83,
   "metadata": {},
   "outputs": [],
   "source": [
    "BES_Panelv02.to_pickle(\"..\\\\BES_analysis_data\\\\\"+\"W19_comb\"+os.sep+\"BES_Panelv02\",compression='zip')"
   ]
  },
  {
   "cell_type": "code",
   "execution_count": null,
   "metadata": {},
   "outputs": [],
   "source": []
  },
  {
   "cell_type": "code",
   "execution_count": null,
   "metadata": {},
   "outputs": [],
   "source": []
  },
  {
   "cell_type": "code",
   "execution_count": null,
   "metadata": {},
   "outputs": [],
   "source": []
  },
  {
   "cell_type": "code",
   "execution_count": 62,
   "metadata": {},
   "outputs": [
    {
     "name": "stdout",
     "output_type": "stream",
     "text": [
      "started\n",
      "0 2020-03-07 04:36:50.149743\n",
      "1 2020-03-07 04:38:44.813302\n",
      "2 2020-03-07 04:40:56.675844\n",
      "3 2020-03-07 04:44:19.885467\n",
      "4 2020-03-07 04:48:23.774417\n",
      "\n",
      "loaded 97158 rows\n"
     ]
    }
   ],
   "source": [
    "BES_Panel4 = load_large_dta(\"..\\\\BES_analysis_data\\\\\"+\"W19_comb\"+os.sep+\"BES2019_W19_Panel_v0.1.dta\", chunksize=20000)\n",
    "# note, this crashed when I ran it with *too small a chunk size* (1000)\n",
    "# bingo!"
   ]
  },
  {
   "cell_type": "code",
   "execution_count": 64,
   "metadata": {},
   "outputs": [
    {
     "data": {
      "text/plain": [
       "category    1774\n",
       "object      1360\n",
       "category     403\n",
       "category     310\n",
       "category     199\n",
       "            ... \n",
       "category       1\n",
       "category       1\n",
       "category       1\n",
       "category       1\n",
       "category       1\n",
       "Length: 413, dtype: int64"
      ]
     },
     "execution_count": 64,
     "metadata": {},
     "output_type": "execute_result"
    }
   ],
   "source": [
    "BES_Panel4.dtypes.value_counts()\n",
    "\n",
    "# no bueno!\n",
    "# object      1360"
   ]
  },
  {
   "cell_type": "code",
   "execution_count": 9,
   "metadata": {},
   "outputs": [],
   "source": [
    "# # reload just the variables mis-loaded as \"object\" type\n",
    "# gc.collect()\n",
    "\n",
    "BES_Panel5 = pd.read_stata(\"..\\\\BES_analysis_data\\\\\"+\"W19_comb\"+os.sep+\"BES2019_W19_Panel_v0.1.dta\",\n",
    "                        columns=list( BES_Panel4.columns[ BES_Panel4.dtypes==\"object\" ] ))\n"
   ]
  },
  {
   "cell_type": "code",
   "execution_count": 74,
   "metadata": {},
   "outputs": [
    {
     "data": {
      "text/plain": [
       "category    713\n",
       "category     47\n",
       "category     32\n",
       "category     30\n",
       "category     28\n",
       "           ... \n",
       "category      1\n",
       "category      1\n",
       "category      1\n",
       "category      1\n",
       "category      1\n",
       "Length: 257, dtype: int64"
      ]
     },
     "execution_count": 74,
     "metadata": {},
     "output_type": "execute_result"
    }
   ],
   "source": [
    "\n",
    "gc.collect()\n",
    "BES_Panel5.dtypes.value_counts()"
   ]
  },
  {
   "cell_type": "code",
   "execution_count": 80,
   "metadata": {},
   "outputs": [
    {
     "data": {
      "text/plain": [
       "0                       NaN\n",
       "1                       NaN\n",
       "2                       NaN\n",
       "3        Completely certain\n",
       "4                       NaN\n",
       "                ...        \n",
       "97153    Completely certain\n",
       "97154                     6\n",
       "97155                   NaN\n",
       "97156                   NaN\n",
       "97157                   NaN\n",
       "Name: generalElectionCertaintyUnsqW5, Length: 97158, dtype: category\n",
       "Categories (8, object): [Not at all certain < 2 < 3 < 4 < 5 < 6 < Completely certain < Don't know]"
      ]
     },
     "execution_count": 80,
     "metadata": {},
     "output_type": "execute_result"
    }
   ],
   "source": [
    "# double-check - does it load the categories correctly now? Ys it does\n",
    "BES_Panel5[BES_Panel4.columns[ BES_Panel4.dtypes==\"object\" ][5]]\n"
   ]
  },
  {
   "cell_type": "code",
   "execution_count": null,
   "metadata": {},
   "outputs": [],
   "source": []
  },
  {
   "cell_type": "code",
   "execution_count": 225,
   "metadata": {},
   "outputs": [],
   "source": [
    "# So, basically fixed, right?"
   ]
  },
  {
   "cell_type": "code",
   "execution_count": 119,
   "metadata": {},
   "outputs": [
    {
     "data": {
      "text/plain": [
       "float64           157\n",
       "datetime64[ns]     43\n",
       "float32            22\n",
       "object              7\n",
       "int32               1\n",
       "dtype: int64"
      ]
     },
     "execution_count": 119,
     "metadata": {},
     "output_type": "execute_result"
    }
   ],
   "source": [
    "BES_Panel6=BES_Panel4.copy()\n",
    "BES_Panel6[BES_Panel5.columns] = BES_Panel5\n",
    "BES_Panel6.dtypes[BES_Panel6.dtypes!='category'].value_counts()"
   ]
  },
  {
   "cell_type": "code",
   "execution_count": 3,
   "metadata": {},
   "outputs": [],
   "source": [
    "# Not quite - still 7 objects"
   ]
  },
  {
   "cell_type": "code",
   "execution_count": 92,
   "metadata": {},
   "outputs": [
    {
     "data": {
      "text/html": [
       "<div>\n",
       "<style scoped>\n",
       "    .dataframe tbody tr th:only-of-type {\n",
       "        vertical-align: middle;\n",
       "    }\n",
       "\n",
       "    .dataframe tbody tr th {\n",
       "        vertical-align: top;\n",
       "    }\n",
       "\n",
       "    .dataframe thead th {\n",
       "        text-align: right;\n",
       "    }\n",
       "</style>\n",
       "<table border=\"1\" class=\"dataframe\">\n",
       "  <thead>\n",
       "    <tr style=\"text-align: right;\">\n",
       "      <th></th>\n",
       "      <th>xtoday_dateW18</th>\n",
       "      <th>xyesterday_dateW18</th>\n",
       "      <th>xbefore_yesterday_dateW18</th>\n",
       "      <th>xbefore_yesterday_dayW18</th>\n",
       "      <th>uniname_statusW19</th>\n",
       "      <th>JACS_subjectW19</th>\n",
       "      <th>euRefLA</th>\n",
       "    </tr>\n",
       "  </thead>\n",
       "  <tbody>\n",
       "    <tr>\n",
       "      <th>0</th>\n",
       "      <td>20191126</td>\n",
       "      <td>20191125</td>\n",
       "      <td>20191124</td>\n",
       "      <td>Sunday</td>\n",
       "      <td>__NA__</td>\n",
       "      <td></td>\n",
       "      <td>W06000012</td>\n",
       "    </tr>\n",
       "    <tr>\n",
       "      <th>1</th>\n",
       "      <td></td>\n",
       "      <td></td>\n",
       "      <td></td>\n",
       "      <td></td>\n",
       "      <td></td>\n",
       "      <td>H</td>\n",
       "      <td>W06000012</td>\n",
       "    </tr>\n",
       "    <tr>\n",
       "      <th>2</th>\n",
       "      <td></td>\n",
       "      <td></td>\n",
       "      <td></td>\n",
       "      <td></td>\n",
       "      <td></td>\n",
       "      <td></td>\n",
       "      <td></td>\n",
       "    </tr>\n",
       "    <tr>\n",
       "      <th>3</th>\n",
       "      <td>20191126</td>\n",
       "      <td>20191125</td>\n",
       "      <td>20191124</td>\n",
       "      <td>Sunday</td>\n",
       "      <td>__NA__</td>\n",
       "      <td></td>\n",
       "      <td>W06000012</td>\n",
       "    </tr>\n",
       "    <tr>\n",
       "      <th>4</th>\n",
       "      <td>20191130</td>\n",
       "      <td>20191129</td>\n",
       "      <td>20191128</td>\n",
       "      <td>Thursday</td>\n",
       "      <td>__NA__</td>\n",
       "      <td></td>\n",
       "      <td></td>\n",
       "    </tr>\n",
       "    <tr>\n",
       "      <th>...</th>\n",
       "      <td>...</td>\n",
       "      <td>...</td>\n",
       "      <td>...</td>\n",
       "      <td>...</td>\n",
       "      <td>...</td>\n",
       "      <td>...</td>\n",
       "      <td>...</td>\n",
       "    </tr>\n",
       "    <tr>\n",
       "      <th>97153</th>\n",
       "      <td></td>\n",
       "      <td></td>\n",
       "      <td></td>\n",
       "      <td></td>\n",
       "      <td></td>\n",
       "      <td></td>\n",
       "      <td></td>\n",
       "    </tr>\n",
       "    <tr>\n",
       "      <th>97154</th>\n",
       "      <td></td>\n",
       "      <td></td>\n",
       "      <td></td>\n",
       "      <td></td>\n",
       "      <td></td>\n",
       "      <td></td>\n",
       "      <td>E07000211</td>\n",
       "    </tr>\n",
       "    <tr>\n",
       "      <th>97155</th>\n",
       "      <td></td>\n",
       "      <td></td>\n",
       "      <td></td>\n",
       "      <td></td>\n",
       "      <td></td>\n",
       "      <td></td>\n",
       "      <td>E09000003</td>\n",
       "    </tr>\n",
       "    <tr>\n",
       "      <th>97156</th>\n",
       "      <td></td>\n",
       "      <td></td>\n",
       "      <td></td>\n",
       "      <td></td>\n",
       "      <td></td>\n",
       "      <td></td>\n",
       "      <td></td>\n",
       "    </tr>\n",
       "    <tr>\n",
       "      <th>97157</th>\n",
       "      <td></td>\n",
       "      <td></td>\n",
       "      <td></td>\n",
       "      <td></td>\n",
       "      <td></td>\n",
       "      <td></td>\n",
       "      <td>E08000019</td>\n",
       "    </tr>\n",
       "  </tbody>\n",
       "</table>\n",
       "<p>97158 rows × 7 columns</p>\n",
       "</div>"
      ],
      "text/plain": [
       "      xtoday_dateW18 xyesterday_dateW18 xbefore_yesterday_dateW18  \\\n",
       "0           20191126           20191125                  20191124   \n",
       "1                                                                   \n",
       "2                                                                   \n",
       "3           20191126           20191125                  20191124   \n",
       "4           20191130           20191129                  20191128   \n",
       "...              ...                ...                       ...   \n",
       "97153                                                               \n",
       "97154                                                               \n",
       "97155                                                               \n",
       "97156                                                               \n",
       "97157                                                               \n",
       "\n",
       "      xbefore_yesterday_dayW18 uniname_statusW19 JACS_subjectW19    euRefLA  \n",
       "0                       Sunday            __NA__                  W06000012  \n",
       "1                                                              H  W06000012  \n",
       "2                                                                            \n",
       "3                       Sunday            __NA__                  W06000012  \n",
       "4                     Thursday            __NA__                             \n",
       "...                        ...               ...             ...        ...  \n",
       "97153                                                                        \n",
       "97154                                                             E07000211  \n",
       "97155                                                             E09000003  \n",
       "97156                                                                        \n",
       "97157                                                             E08000019  \n",
       "\n",
       "[97158 rows x 7 columns]"
      ]
     },
     "execution_count": 92,
     "metadata": {},
     "output_type": "execute_result"
    }
   ],
   "source": [
    "BES_Panel6[ BES_Panel6.columns[BES_Panel6.dtypes=='object'] ]"
   ]
  },
  {
   "cell_type": "code",
   "execution_count": 93,
   "metadata": {},
   "outputs": [],
   "source": [
    "BES_Panel7 = pd.read_stata(\"..\\\\BES_analysis_data\\\\\"+\"W19_comb\"+os.sep+\"BES2019_W19_Panel_v0.1.dta\",\n",
    "                        columns=list( BES_Panel6.columns[ BES_Panel6.dtypes==\"object\" ] ))\n",
    " # - and not due to loading errors into python"
   ]
  },
  {
   "cell_type": "code",
   "execution_count": 115,
   "metadata": {},
   "outputs": [
    {
     "data": {
      "text/plain": [
       "             59333\n",
       "Friday        5789\n",
       "Saturday      5562\n",
       "Monday        5434\n",
       "Tuesday       5420\n",
       "Thursday      5295\n",
       "Sunday        5196\n",
       "Wednesday     5129\n",
       "Name: xbefore_yesterday_dayW18, dtype: int64"
      ]
     },
     "execution_count": 115,
     "metadata": {},
     "output_type": "execute_result"
    }
   ],
   "source": [
    "# pd.to_datetime(\n",
    "BES_Panel7[\"xbefore_yesterday_dayW18\"].value_counts()\n",
    "               #.replace(\"\",np.nan),format=\"%Y%m%d\").value_counts()"
   ]
  },
  {
   "cell_type": "code",
   "execution_count": 109,
   "metadata": {},
   "outputs": [
    {
     "data": {
      "text/plain": [
       "            59333\n",
       "20191208     1530\n",
       "20191201     1467\n",
       "20191202     1434\n",
       "20191209     1429\n",
       "20191211     1428\n",
       "20191114     1420\n",
       "20191126     1415\n",
       "20191124     1412\n",
       "20191117     1380\n",
       "20191127     1375\n",
       "20191119     1373\n",
       "20191130     1365\n",
       "20191205     1352\n",
       "20191125     1351\n",
       "20191118     1348\n",
       "20191115     1347\n",
       "20191207     1343\n",
       "20191128     1332\n",
       "20191120     1318\n",
       "20191203     1316\n",
       "20191121     1314\n",
       "20191204     1310\n",
       "20191123     1305\n",
       "20191116     1282\n",
       "20191129     1279\n",
       "20191206     1263\n",
       "20191122     1240\n",
       "20191210     1092\n",
       "20191113        3\n",
       "20191212        2\n",
       "Name: xtoday_dateW18, dtype: int64"
      ]
     },
     "execution_count": 109,
     "metadata": {},
     "output_type": "execute_result"
    }
   ],
   "source": [
    "BES_Panel7[\"xtoday_dateW18\"].value_counts()"
   ]
  },
  {
   "cell_type": "code",
   "execution_count": 224,
   "metadata": {},
   "outputs": [
    {
     "data": {
      "text/plain": [
       "0        NaN\n",
       "1          H\n",
       "2        NaN\n",
       "3        NaN\n",
       "4        NaN\n",
       "        ... \n",
       "97153    NaN\n",
       "97154    NaN\n",
       "97155    NaN\n",
       "97156    NaN\n",
       "97157    NaN\n",
       "Name: JACS_subjectW19, Length: 97158, dtype: category\n",
       "Categories (21, object): [A, B, C, D, ..., V, W, X, Y]"
      ]
     },
     "execution_count": 224,
     "metadata": {},
     "output_type": "execute_result"
    }
   ],
   "source": [
    "BES_Panel6[\"JACS_subjectW19\"]"
   ]
  },
  {
   "cell_type": "code",
   "execution_count": 213,
   "metadata": {},
   "outputs": [],
   "source": [
    "BES_Panel7[\"JACS_subjectW19\"] = BES_Panel7[\"JACS_subjectW19\"].replace(\"\",np.nan).astype('category')\n",
    "BES_Panel7[\"uniname_statusW19\"] = BES_Panel7[\"uniname_statusW19\"].replace(\"\",np.nan).astype('category')\n",
    "BES_Panel7[\"euRefLA\"] = BES_Panel7[\"euRefLA\"].replace(\"\",np.nan).astype('category')\n",
    "BES_Panel7[\"xtoday_dateW18\"]     = pd.to_datetime(BES_Panel7[\"xtoday_dateW18\"].replace(\"\",np.nan),format=\"%Y%m%d\")\n",
    "BES_Panel7[\"xyesterday_dateW18\"] = pd.to_datetime(BES_Panel7[\"xyesterday_dateW18\"].replace(\"\",np.nan),format=\"%Y%m%d\")\n",
    "BES_Panel7[\"xbefore_yesterday_dateW18\"] = pd.to_datetime(BES_Panel7[\"xbefore_yesterday_dateW18\"].replace(\"\",np.nan),format=\"%Y%m%d\")\n",
    "BES_Panel7[\"xbefore_yesterday_dayW18\"] = BES_Panel7[\"xbefore_yesterday_dayW18\"].replace(\"\",np.nan).astype('category')\n",
    "\n",
    "BES_Panel6[BES_Panel7.columns] = BES_Panel7\n",
    "# types fixed"
   ]
  },
  {
   "cell_type": "code",
   "execution_count": null,
   "metadata": {},
   "outputs": [],
   "source": [
    "# what about the non-object types? Are they all kosher?\n",
    "\n",
    "# Not entirely\n",
    "\n",
    "# couple of straight-up bugs (in the original dta or due to an invisible loading error?)\n",
    "# some issues where things are floats when they should be bools\n",
    "# some issues where things are floats when they should be categories\n",
    "# some issues where things are floats because they have nans but - using the new panda dtypes - can actually be represented as their proper dtype with nans having their own special <NA> value"
   ]
  },
  {
   "cell_type": "code",
   "execution_count": 11,
   "metadata": {},
   "outputs": [],
   "source": [
    "# \"wt_(new|full|daily)\" - all legit\n",
    "\n",
    "# wave\\d+$ -> boolean\n",
    "\n",
    "# fatherVoteW14W15W16/motherVoteW14W15W16 -> manual fix -> category\n",
    "# countryW\\d+$ -> manual fix -> category\n",
    "\n",
    "\n",
    "\n",
    "# discussantturnoutName -> category\n",
    "# \"warm.*W7\" -> category (0-100pt +DK)\n",
    "# partyAgree2W12 -> category (0-100pt +DK)\n",
    "# generalElecCertainty2squeezeW17 -> category (1-7 +DK)\n",
    "# \"jobzone\" -> category (could maybe be \"sector\" variable?)\n",
    "\n",
    "# category_var_str = \"(discussantturnoutName|warm.*W7$|partyAgree2W12|generalElecCertainty2squeezeW17|jobzone)\"\n",
    "# BES_Panel6[ match(BES_Panel6,category_var_str).index ] = BES_Panel6[ match(BES_Panel6,category_var_str).index ].astype('category')\n",
    "\n",
    "# \"w\\d+full\" -> boolean with nans\n",
    "\n",
    "# \"pano\" -> 1-650 (uint16)\n",
    "# mapNames -> ints -> you should change this to INTS with nans\n",
    "\n",
    "# \"CampaignDayW\\d+\" -> uint8 with nans\n",
    "# riskScaleW8 -> uint8 with nans\n",
    "# identityStrengthAllW11 -> uint8 with nans\n",
    "# ptvexpgrpW14 -> ??? 1-7 unit8 with nans\n",
    "# Age: 15 -> 116 uint8 with nans\n",
    "# \"ageW\\d+$\" -> uint8 with nans\n",
    "\n",
    "# numeric_var_str = \"(Age$|ageW\\d+$|ptvexpgrpW14|identityStrengthAllW11|riskScaleW8|CampaignDayW\\d+$|mapNames|pano|w\\d+full$)\"\n",
    "# BES_Panel6[ match(BES_Panel6,numeric_var_str).index ] = BES_Panel6[ match(BES_Panel6,numeric_var_str).index ].astype('category')"
   ]
  },
  {
   "cell_type": "code",
   "execution_count": 214,
   "metadata": {},
   "outputs": [],
   "source": [
    "BES_Panel6[search(BES_Panel6,\"wave\\d+$\").index] = BES_Panel6[search(BES_Panel6,\"wave\\d+$\").index].astype('bool')\n",
    "\n",
    "motherVote_dict = {0:\"Did not vote\",1:\"Labour\",2:\"Conservatives\",3:\"Liberal Democrats/Liberals/SDP/Alliance\",\n",
    "                   4:\"Scottish National Party (SNP)\", 5:\"Plaid Cymru\",9:\"Other\",10:\"Had no usual party\",\n",
    "                   9999:\"Don't know\",98:\"Did not vote\"} # \"Didn't know mother growing up\"???\n",
    "fatherVote_dict = {0:\"Did not vote\",1:\"Labour\",2:\"Conservatives\",3:\"Liberal Democrats/Liberals/SDP/Alliance\",\n",
    "                   4:\"Scottish National Party (SNP)\", 5:\"Plaid Cymru\",9:\"Other\",10:\"Had no usual party\",\n",
    "                   9999:\"Don't know\",98:\"Did not vote\"} # \"Didn't know father growing up\"???\n",
    "\n",
    "# some guesswork in this one!\n",
    "\n",
    "BES_Panel6[\"fatherVoteW14W15W16\"] = BES_Panel6[\"fatherVoteW14W15W16\"].replace(fatherVote_dict)\n",
    "BES_Panel6[\"motherVoteW14W15W16\"] = BES_Panel6[\"motherVoteW14W15W16\"].replace(motherVote_dict)\n",
    "\n",
    "country_dict={1:\"English\",2:\"Scotland\",3:\"Wales\"}\n",
    "BES_Panel6[ match(BES_Panel6,\"countryW\\d+$\").index] = BES_Panel6[match(BES_Panel6,\"countryW\\d+$\").index].replace(country_dict)\n",
    "\n",
    "category_var_str = \"(discussantturnoutName|warm.*W7$|partyAgree2W12|generalElecCertainty2squeezeW17|jobzone)\"\n",
    "BES_Panel6[ match(BES_Panel6,category_var_str).index ] = BES_Panel6[ match(BES_Panel6,category_var_str).index ].astype('category')\n",
    "\n",
    "numeric_var_str = \"(Age$|ageW\\d+$|ptvexpgrpW14|identityStrengthAllW11|riskScaleW8|CampaignDayW\\d+$|mapNames|pano|w\\d+full$)\"\n",
    "BES_Panel6[ match(BES_Panel6,numeric_var_str).index ] = BES_Panel6[ match(BES_Panel6,numeric_var_str).index ].astype('float32')"
   ]
  },
  {
   "cell_type": "code",
   "execution_count": 218,
   "metadata": {},
   "outputs": [],
   "source": [
    "BES_Panel6[\"fatherVoteW14W15W16\"] = BES_Panel6[\"fatherVoteW14W15W16\"].astype('category')\n",
    "BES_Panel6[\"motherVoteW14W15W16\"] = BES_Panel6[\"motherVoteW14W15W16\"].astype('category')\n",
    "BES_Panel6[ match(BES_Panel6,\"countryW\\d+$\").index] = BES_Panel6[match(BES_Panel6,\"countryW\\d+$\").index].astype('category')\n"
   ]
  },
  {
   "cell_type": "code",
   "execution_count": 220,
   "metadata": {},
   "outputs": [],
   "source": [
    "numeric_var_str = \"(Age$|ageW\\d+$|ptvexpgrpW14|identityStrengthAllW11|riskScaleW8|CampaignDayW\\d+$|mapNames|pano|w\\d+full$)\"\n",
    "BES_Panel6[ match(BES_Panel6,numeric_var_str).index ] = BES_Panel6[ match(BES_Panel6,numeric_var_str).index ].astype('float32')"
   ]
  },
  {
   "cell_type": "code",
   "execution_count": 221,
   "metadata": {},
   "outputs": [
    {
     "data": {
      "text/plain": [
       "float64           69\n",
       "float32           51\n",
       "datetime64[ns]    46\n",
       "bool              19\n",
       "int32              1\n",
       "dtype: int64"
      ]
     },
     "execution_count": 221,
     "metadata": {},
     "output_type": "execute_result"
    }
   ],
   "source": [
    "BES_Panel6.dtypes[BES_Panel6.dtypes!='category'].value_counts()"
   ]
  },
  {
   "cell_type": "code",
   "execution_count": null,
   "metadata": {},
   "outputs": [],
   "source": [
    "BES_Panel.to_pickle(\"..\\\\BES_analysis_data\\\\\"+\"W19_comb\"+os.sep+\"BES2019_W19_Panel_v0.1.zip\",compression='zip')"
   ]
  },
  {
   "cell_type": "code",
   "execution_count": null,
   "metadata": {},
   "outputs": [],
   "source": []
  },
  {
   "cell_type": "code",
   "execution_count": null,
   "metadata": {},
   "outputs": [],
   "source": [
    "#### well-deserved break"
   ]
  },
  {
   "cell_type": "code",
   "execution_count": null,
   "metadata": {},
   "outputs": [],
   "source": []
  },
  {
   "cell_type": "code",
   "execution_count": null,
   "metadata": {},
   "outputs": [],
   "source": [
    "# load and downcast/convert to nannable types"
   ]
  },
  {
   "cell_type": "code",
   "execution_count": null,
   "metadata": {},
   "outputs": [],
   "source": [
    "BES_Panel = pd.read_pickle(\"..\\\\BES_analysis_data\\\\\"+\"W19_comb\"+os.sep+\"BES2019_W19_Panel_v0.1.zip\",compression='zip')"
   ]
  },
  {
   "cell_type": "code",
   "execution_count": null,
   "metadata": {},
   "outputs": [],
   "source": [
    "BES_Panel.dtypes[BES_Panel.dtypes!='category'].value_counts()"
   ]
  },
  {
   "cell_type": "code",
   "execution_count": null,
   "metadata": {},
   "outputs": [],
   "source": [
    "float64_vars = BES_Panel.columns[BES_Panel.dtypes=='float64'] # all weights\n",
    "large_int_vars = match(BES_Panel,\"pano|mapNames\").index\n",
    "small_int_vars = match(BES_Panel,\"Age$|ageW\\d+$|ptvexpgrpW14|identityStrengthAllW11|riskScaleW8|CampaignDayW\\d+$\").index\n",
    "boolean_vars = match(BES_Panel,\"w\\d+full\").index\n",
    "\n",
    "# cogempathyIRTW14\taffempathyIRTW14\tzeroSumIRTW14 -> really are floats\n",
    "\n",
    "## note - all downcasting is \"safe\" because it throws an error if you try to cast in such a way that\n",
    "## your reducing a variable below the maximum size it needs to represent it's value"
   ]
  },
  {
   "cell_type": "code",
   "execution_count": null,
   "metadata": {},
   "outputs": [],
   "source": [
    "# downcast to ordinary pandas dtypes\n",
    "BES_Panel[float64_vars] = BES_Panel[float64_vars] = BES_Panel[float64_vars].apply( lambda x: pd.to_numeric(x, downcast='float') )\n",
    "# BES_Panel[\"id\"] = BES_Panel[\"id\"].apply( lambda x: pd.to_numeric(x, downcast='unsigned') ) # technically uint32 is sufficient, but I'll leave this one be"
   ]
  },
  {
   "cell_type": "code",
   "execution_count": null,
   "metadata": {},
   "outputs": [],
   "source": [
    "BES_Panel.to_stata(\"..\\\\BES_analysis_data\\\\\"+\"W19_comb\"+os.sep+\"BES2019_W19_Panel_v0.1_cleaned.dta\")\n",
    "# to_stata can't handle nannable types\n",
    "\n",
    "# default is most widely accessible Version 114\n",
    "# but could also use Version 117 in which case strL variables names can be used -> output dta is then smaller"
   ]
  },
  {
   "cell_type": "code",
   "execution_count": null,
   "metadata": {},
   "outputs": [],
   "source": [
    "# downcast to new Nannnable dtypes\n",
    "BES_Panel[large_int_vars] = BES_Panel[large_int_vars].astype(\"Int16\")\n",
    "BES_Panel[boolean_vars] = BES_Panel[boolean_vars] = BES_Panel[boolean_vars].astype('boolean')\n",
    "BES_Panel[small_int_vars] = BES_Panel[small_int_vars].replace(9999,np.nan).astype(\"Int8\")\n"
   ]
  },
  {
   "cell_type": "code",
   "execution_count": null,
   "metadata": {},
   "outputs": [],
   "source": [
    "BES_Panel.to_pickle(\"..\\\\BES_analysis_data\\\\\"+\"W19_comb\"+os.sep+\"BES2019_W19_Panel_v0.1_cleaned.zip\",compression='zip')\n",
    "# zipped pickle works fine as storage/quick load option"
   ]
  },
  {
   "cell_type": "code",
   "execution_count": null,
   "metadata": {},
   "outputs": [],
   "source": []
  },
  {
   "cell_type": "code",
   "execution_count": null,
   "metadata": {},
   "outputs": [],
   "source": [
    "# careful check that the zipped pickle stores everything okay"
   ]
  },
  {
   "cell_type": "code",
   "execution_count": 25,
   "metadata": {},
   "outputs": [],
   "source": [
    "BES_Panel_check = pd.read_pickle(\"..\\\\BES_analysis_data\\\\\"+\"W19_comb\"+os.sep+\"BES2019_W19_Panel_v0.1_cleaned.zip\",compression='zip')\n",
    "# zipped pickle works fine as storage/quick load option"
   ]
  },
  {
   "cell_type": "code",
   "execution_count": 26,
   "metadata": {},
   "outputs": [
    {
     "data": {
      "text/plain": [
       "(97158, 7911)"
      ]
     },
     "execution_count": 26,
     "metadata": {},
     "output_type": "execute_result"
    }
   ],
   "source": [
    "BES_Panel_check.shape"
   ]
  },
  {
   "cell_type": "code",
   "execution_count": 27,
   "metadata": {},
   "outputs": [
    {
     "data": {
      "text/plain": [
       "category    2487\n",
       "category     403\n",
       "category     331\n",
       "category     205\n",
       "category     173\n",
       "            ... \n",
       "category       1\n",
       "category       1\n",
       "category       1\n",
       "category       1\n",
       "category       1\n",
       "Length: 579, dtype: int64"
      ]
     },
     "execution_count": 27,
     "metadata": {},
     "output_type": "execute_result"
    }
   ],
   "source": [
    "BES_Panel_check.dtypes.value_counts()"
   ]
  },
  {
   "cell_type": "code",
   "execution_count": 28,
   "metadata": {},
   "outputs": [
    {
     "data": {
      "text/plain": [
       "category          475\n",
       "float32            72\n",
       "datetime64[ns]     46\n",
       "category           31\n",
       "category           28\n",
       "                 ... \n",
       "category            1\n",
       "category            1\n",
       "category            1\n",
       "category            1\n",
       "category            1\n",
       "Length: 249, dtype: int64"
      ]
     },
     "execution_count": 28,
     "metadata": {},
     "output_type": "execute_result"
    }
   ],
   "source": [
    "BES_Panel_check.dtypes[BES_Panel_paranoia.dtypes!='category'].value_counts()"
   ]
  },
  {
   "cell_type": "code",
   "execution_count": null,
   "metadata": {},
   "outputs": [],
   "source": [
    "# perfect!"
   ]
  },
  {
   "cell_type": "code",
   "execution_count": null,
   "metadata": {},
   "outputs": [],
   "source": []
  },
  {
   "cell_type": "code",
   "execution_count": null,
   "metadata": {},
   "outputs": [],
   "source": [
    "# paranoid check on the \"cleaned\" dta output (it's half the size of the original!)"
   ]
  },
  {
   "cell_type": "code",
   "execution_count": null,
   "metadata": {},
   "outputs": [],
   "source": [
    "# BES_Panel = pd.read_stata(\"../BES_analysis_data/\"+\"W19_comb\"+os.sep+\"BES2019_W19_Panel_v0.1_cleaned.dta\")\n",
    "# even cleaned I can't load this direct (on a 16Gb machine)"
   ]
  },
  {
   "cell_type": "code",
   "execution_count": 39,
   "metadata": {},
   "outputs": [
    {
     "name": "stdout",
     "output_type": "stream",
     "text": [
      "started\n",
      "0 2020-03-10 18:02:22.455099\n",
      "1 2020-03-10 18:03:06.285605\n",
      "2 2020-03-10 18:03:51.544194\n",
      "3 2020-03-10 18:04:38.139859\n",
      "4 2020-03-10 18:05:20.672292\n",
      "5 2020-03-10 18:06:02.682695\n",
      "6 2020-03-10 18:06:43.392023\n",
      "7 2020-03-10 18:07:24.435371\n",
      "8 2020-03-10 18:08:06.812795\n",
      "9 2020-03-10 18:08:50.032267\n",
      "10 2020-03-10 18:09:34.099787\n",
      "11 2020-03-10 18:10:18.404321\n",
      "12 2020-03-10 18:11:04.000929\n",
      "13 2020-03-10 18:11:50.012561\n",
      "14 2020-03-10 18:12:36.584225\n",
      "15 2020-03-10 18:13:24.070941\n",
      "16 2020-03-10 18:14:12.450708\n",
      "17 2020-03-10 18:15:01.583518\n",
      "18 2020-03-10 18:15:51.020346\n",
      "19 2020-03-10 18:16:41.435229\n",
      "20 2020-03-10 18:17:32.591155\n",
      "21 2020-03-10 18:18:24.279112\n",
      "22 2020-03-10 18:19:17.159136\n",
      "23 2020-03-10 18:20:10.492187\n",
      "24 2020-03-10 18:21:03.801236\n",
      "25 2020-03-10 18:22:01.208519\n",
      "26 2020-03-10 18:23:00.326901\n",
      "27 2020-03-10 18:23:59.570289\n",
      "28 2020-03-10 18:25:02.782905\n",
      "29 2020-03-10 18:26:12.643901\n",
      "30 2020-03-10 18:27:16.746567\n",
      "31 2020-03-10 18:28:15.860948\n",
      "32 2020-03-10 18:29:23.704829\n",
      "33 2020-03-10 18:30:34.028851\n",
      "34 2020-03-10 18:31:43.153805\n",
      "35 2020-03-10 18:32:49.345591\n",
      "36 2020-03-10 18:33:56.402426\n",
      "37 2020-03-10 18:35:02.545209\n",
      "38 2020-03-10 18:36:09.362031\n",
      "39 2020-03-10 18:37:19.043016\n"
     ]
    },
    {
     "ename": "KeyboardInterrupt",
     "evalue": "",
     "output_type": "error",
     "traceback": [
      "\u001b[1;31m---------------------------------------------------------------------------\u001b[0m",
      "\u001b[1;31mTypeError\u001b[0m                                 Traceback (most recent call last)",
      "\u001b[1;32mC:\\ProgramData\\Anaconda3\\envs\\BES_analysis\\lib\\site-packages\\pandas\\core\\series.py\u001b[0m in \u001b[0;36m__setitem__\u001b[1;34m(self, key, value)\u001b[0m\n\u001b[0;32m   1013\u001b[0m         \u001b[1;32mtry\u001b[0m\u001b[1;33m:\u001b[0m\u001b[1;33m\u001b[0m\u001b[1;33m\u001b[0m\u001b[0m\n\u001b[1;32m-> 1014\u001b[1;33m             \u001b[0mself\u001b[0m\u001b[1;33m.\u001b[0m\u001b[0m_set_with_engine\u001b[0m\u001b[1;33m(\u001b[0m\u001b[0mkey\u001b[0m\u001b[1;33m,\u001b[0m \u001b[0mvalue\u001b[0m\u001b[1;33m)\u001b[0m\u001b[1;33m\u001b[0m\u001b[1;33m\u001b[0m\u001b[0m\n\u001b[0m\u001b[0;32m   1015\u001b[0m         \u001b[1;32mexcept\u001b[0m \u001b[0mcom\u001b[0m\u001b[1;33m.\u001b[0m\u001b[0mSettingWithCopyError\u001b[0m\u001b[1;33m:\u001b[0m\u001b[1;33m\u001b[0m\u001b[1;33m\u001b[0m\u001b[0m\n",
      "\u001b[1;32mC:\\ProgramData\\Anaconda3\\envs\\BES_analysis\\lib\\site-packages\\pandas\\core\\series.py\u001b[0m in \u001b[0;36m_set_with_engine\u001b[1;34m(self, key, value)\u001b[0m\n\u001b[0;32m   1053\u001b[0m         \u001b[1;32mtry\u001b[0m\u001b[1;33m:\u001b[0m\u001b[1;33m\u001b[0m\u001b[1;33m\u001b[0m\u001b[0m\n\u001b[1;32m-> 1054\u001b[1;33m             \u001b[0mself\u001b[0m\u001b[1;33m.\u001b[0m\u001b[0mindex\u001b[0m\u001b[1;33m.\u001b[0m\u001b[0m_engine\u001b[0m\u001b[1;33m.\u001b[0m\u001b[0mset_value\u001b[0m\u001b[1;33m(\u001b[0m\u001b[0mvalues\u001b[0m\u001b[1;33m,\u001b[0m \u001b[0mkey\u001b[0m\u001b[1;33m,\u001b[0m \u001b[0mvalue\u001b[0m\u001b[1;33m)\u001b[0m\u001b[1;33m\u001b[0m\u001b[1;33m\u001b[0m\u001b[0m\n\u001b[0m\u001b[0;32m   1055\u001b[0m             \u001b[1;32mreturn\u001b[0m\u001b[1;33m\u001b[0m\u001b[1;33m\u001b[0m\u001b[0m\n",
      "\u001b[1;32mpandas\\_libs\\index.pyx\u001b[0m in \u001b[0;36mpandas._libs.index.IndexEngine.set_value\u001b[1;34m()\u001b[0m\n",
      "\u001b[1;32mpandas\\_libs\\index.pyx\u001b[0m in \u001b[0;36mpandas._libs.index.IndexEngine.set_value\u001b[1;34m()\u001b[0m\n",
      "\u001b[1;32mpandas\\_libs\\index.pyx\u001b[0m in \u001b[0;36mpandas._libs.index.IndexEngine.get_loc\u001b[1;34m()\u001b[0m\n",
      "\u001b[1;31mTypeError\u001b[0m: '400    True\n401    True\n402    True\n403    True\n404    True\n405    True\n406    True\n407    True\n408    True\n409    True\nName: partyContactUKIP_3W14, dtype: bool' is an invalid key",
      "\nDuring handling of the above exception, another exception occurred:\n",
      "\u001b[1;31mKeyboardInterrupt\u001b[0m                         Traceback (most recent call last)",
      "\u001b[1;32m<timed exec>\u001b[0m in \u001b[0;36m<module>\u001b[1;34m\u001b[0m\n",
      "\u001b[1;32m<ipython-input-12-7d6db931032a>\u001b[0m in \u001b[0;36mload_large_dta\u001b[1;34m(fname, chunksize, columns)\u001b[0m\n\u001b[0;32m      5\u001b[0m     \u001b[0mdf\u001b[0m \u001b[1;33m=\u001b[0m \u001b[0mpd\u001b[0m\u001b[1;33m.\u001b[0m\u001b[0mDataFrame\u001b[0m\u001b[1;33m(\u001b[0m\u001b[1;33m)\u001b[0m\u001b[1;33m\u001b[0m\u001b[1;33m\u001b[0m\u001b[0m\n\u001b[0;32m      6\u001b[0m     \u001b[0mprint\u001b[0m\u001b[1;33m(\u001b[0m\u001b[1;34m\"started\"\u001b[0m\u001b[1;33m)\u001b[0m\u001b[1;33m\u001b[0m\u001b[1;33m\u001b[0m\u001b[0m\n\u001b[1;32m----> 7\u001b[1;33m     \u001b[1;32mfor\u001b[0m \u001b[0mchunk\u001b[0m \u001b[1;32min\u001b[0m \u001b[0mreader\u001b[0m\u001b[1;33m:\u001b[0m\u001b[1;33m\u001b[0m\u001b[1;33m\u001b[0m\u001b[0m\n\u001b[0m\u001b[0;32m      8\u001b[0m         \u001b[0mdf\u001b[0m \u001b[1;33m=\u001b[0m \u001b[0mdf\u001b[0m\u001b[1;33m.\u001b[0m\u001b[0mappend\u001b[0m\u001b[1;33m(\u001b[0m\u001b[0mchunk\u001b[0m\u001b[1;33m)\u001b[0m\u001b[1;33m\u001b[0m\u001b[1;33m\u001b[0m\u001b[0m\n\u001b[0;32m      9\u001b[0m \u001b[1;33m\u001b[0m\u001b[0m\n",
      "\u001b[1;32mC:\\ProgramData\\Anaconda3\\envs\\BES_analysis\\lib\\site-packages\\pandas\\io\\stata.py\u001b[0m in \u001b[0;36m__next__\u001b[1;34m(self)\u001b[0m\n\u001b[0;32m   1492\u001b[0m \u001b[1;33m\u001b[0m\u001b[0m\n\u001b[0;32m   1493\u001b[0m     \u001b[1;32mdef\u001b[0m \u001b[0m__next__\u001b[0m\u001b[1;33m(\u001b[0m\u001b[0mself\u001b[0m\u001b[1;33m)\u001b[0m\u001b[1;33m:\u001b[0m\u001b[1;33m\u001b[0m\u001b[1;33m\u001b[0m\u001b[0m\n\u001b[1;32m-> 1494\u001b[1;33m         \u001b[1;32mreturn\u001b[0m \u001b[0mself\u001b[0m\u001b[1;33m.\u001b[0m\u001b[0mread\u001b[0m\u001b[1;33m(\u001b[0m\u001b[0mnrows\u001b[0m\u001b[1;33m=\u001b[0m\u001b[0mself\u001b[0m\u001b[1;33m.\u001b[0m\u001b[0m_chunksize\u001b[0m \u001b[1;32mor\u001b[0m \u001b[1;36m1\u001b[0m\u001b[1;33m)\u001b[0m\u001b[1;33m\u001b[0m\u001b[1;33m\u001b[0m\u001b[0m\n\u001b[0m\u001b[0;32m   1495\u001b[0m \u001b[1;33m\u001b[0m\u001b[0m\n\u001b[0;32m   1496\u001b[0m     \u001b[1;32mdef\u001b[0m \u001b[0mget_chunk\u001b[0m\u001b[1;33m(\u001b[0m\u001b[0mself\u001b[0m\u001b[1;33m,\u001b[0m \u001b[0msize\u001b[0m\u001b[1;33m=\u001b[0m\u001b[1;32mNone\u001b[0m\u001b[1;33m)\u001b[0m\u001b[1;33m:\u001b[0m\u001b[1;33m\u001b[0m\u001b[1;33m\u001b[0m\u001b[0m\n",
      "\u001b[1;32mC:\\ProgramData\\Anaconda3\\envs\\BES_analysis\\lib\\site-packages\\pandas\\io\\stata.py\u001b[0m in \u001b[0;36mread\u001b[1;34m(self, nrows, convert_dates, convert_categoricals, index_col, convert_missing, preserve_dtypes, columns, order_categoricals)\u001b[0m\n\u001b[0;32m   1632\u001b[0m         \u001b[1;32mdel\u001b[0m \u001b[0mdata_formatted\u001b[0m\u001b[1;33m\u001b[0m\u001b[1;33m\u001b[0m\u001b[0m\n\u001b[0;32m   1633\u001b[0m \u001b[1;33m\u001b[0m\u001b[0m\n\u001b[1;32m-> 1634\u001b[1;33m         \u001b[0mdata\u001b[0m \u001b[1;33m=\u001b[0m \u001b[0mself\u001b[0m\u001b[1;33m.\u001b[0m\u001b[0m_do_convert_missing\u001b[0m\u001b[1;33m(\u001b[0m\u001b[0mdata\u001b[0m\u001b[1;33m,\u001b[0m \u001b[0mconvert_missing\u001b[0m\u001b[1;33m)\u001b[0m\u001b[1;33m\u001b[0m\u001b[1;33m\u001b[0m\u001b[0m\n\u001b[0m\u001b[0;32m   1635\u001b[0m \u001b[1;33m\u001b[0m\u001b[0m\n\u001b[0;32m   1636\u001b[0m         \u001b[1;32mif\u001b[0m \u001b[0mconvert_dates\u001b[0m\u001b[1;33m:\u001b[0m\u001b[1;33m\u001b[0m\u001b[1;33m\u001b[0m\u001b[0m\n",
      "\u001b[1;32mC:\\ProgramData\\Anaconda3\\envs\\BES_analysis\\lib\\site-packages\\pandas\\io\\stata.py\u001b[0m in \u001b[0;36m_do_convert_missing\u001b[1;34m(self, data, convert_missing)\u001b[0m\n\u001b[0;32m   1705\u001b[0m                     \u001b[0mdtype\u001b[0m \u001b[1;33m=\u001b[0m \u001b[0mnp\u001b[0m\u001b[1;33m.\u001b[0m\u001b[0mfloat64\u001b[0m\u001b[1;33m\u001b[0m\u001b[1;33m\u001b[0m\u001b[0m\n\u001b[0;32m   1706\u001b[0m                 \u001b[0mreplacement\u001b[0m \u001b[1;33m=\u001b[0m \u001b[0mSeries\u001b[0m\u001b[1;33m(\u001b[0m\u001b[0mseries\u001b[0m\u001b[1;33m,\u001b[0m \u001b[0mdtype\u001b[0m\u001b[1;33m=\u001b[0m\u001b[0mdtype\u001b[0m\u001b[1;33m)\u001b[0m\u001b[1;33m\u001b[0m\u001b[1;33m\u001b[0m\u001b[0m\n\u001b[1;32m-> 1707\u001b[1;33m                 \u001b[0mreplacement\u001b[0m\u001b[1;33m[\u001b[0m\u001b[0mmissing\u001b[0m\u001b[1;33m]\u001b[0m \u001b[1;33m=\u001b[0m \u001b[0mnp\u001b[0m\u001b[1;33m.\u001b[0m\u001b[0mnan\u001b[0m\u001b[1;33m\u001b[0m\u001b[1;33m\u001b[0m\u001b[0m\n\u001b[0m\u001b[0;32m   1708\u001b[0m             \u001b[0mreplacements\u001b[0m\u001b[1;33m[\u001b[0m\u001b[0mcolname\u001b[0m\u001b[1;33m]\u001b[0m \u001b[1;33m=\u001b[0m \u001b[0mreplacement\u001b[0m\u001b[1;33m\u001b[0m\u001b[1;33m\u001b[0m\u001b[0m\n\u001b[0;32m   1709\u001b[0m         \u001b[1;32mif\u001b[0m \u001b[0mreplacements\u001b[0m\u001b[1;33m:\u001b[0m\u001b[1;33m\u001b[0m\u001b[1;33m\u001b[0m\u001b[0m\n",
      "\u001b[1;32mC:\\ProgramData\\Anaconda3\\envs\\BES_analysis\\lib\\site-packages\\pandas\\core\\series.py\u001b[0m in \u001b[0;36m__setitem__\u001b[1;34m(self, key, value)\u001b[0m\n\u001b[0;32m   1035\u001b[0m                 \u001b[0mkey\u001b[0m \u001b[1;33m=\u001b[0m \u001b[0mcheck_bool_indexer\u001b[0m\u001b[1;33m(\u001b[0m\u001b[0mself\u001b[0m\u001b[1;33m.\u001b[0m\u001b[0mindex\u001b[0m\u001b[1;33m,\u001b[0m \u001b[0mkey\u001b[0m\u001b[1;33m)\u001b[0m\u001b[1;33m\u001b[0m\u001b[1;33m\u001b[0m\u001b[0m\n\u001b[0;32m   1036\u001b[0m                 \u001b[1;32mtry\u001b[0m\u001b[1;33m:\u001b[0m\u001b[1;33m\u001b[0m\u001b[1;33m\u001b[0m\u001b[0m\n\u001b[1;32m-> 1037\u001b[1;33m                     \u001b[0mself\u001b[0m\u001b[1;33m.\u001b[0m\u001b[0m_where\u001b[0m\u001b[1;33m(\u001b[0m\u001b[1;33m~\u001b[0m\u001b[0mkey\u001b[0m\u001b[1;33m,\u001b[0m \u001b[0mvalue\u001b[0m\u001b[1;33m,\u001b[0m \u001b[0minplace\u001b[0m\u001b[1;33m=\u001b[0m\u001b[1;32mTrue\u001b[0m\u001b[1;33m)\u001b[0m\u001b[1;33m\u001b[0m\u001b[1;33m\u001b[0m\u001b[0m\n\u001b[0m\u001b[0;32m   1038\u001b[0m                     \u001b[1;32mreturn\u001b[0m\u001b[1;33m\u001b[0m\u001b[1;33m\u001b[0m\u001b[0m\n\u001b[0;32m   1039\u001b[0m                 \u001b[1;32mexcept\u001b[0m \u001b[0mInvalidIndexError\u001b[0m\u001b[1;33m:\u001b[0m\u001b[1;33m\u001b[0m\u001b[1;33m\u001b[0m\u001b[0m\n",
      "\u001b[1;32mC:\\ProgramData\\Anaconda3\\envs\\BES_analysis\\lib\\site-packages\\pandas\\core\\generic.py\u001b[0m in \u001b[0;36m_where\u001b[1;34m(self, cond, other, inplace, axis, level, errors, try_cast)\u001b[0m\n\u001b[0;32m   8763\u001b[0m                 \u001b[0minplace\u001b[0m\u001b[1;33m=\u001b[0m\u001b[1;32mTrue\u001b[0m\u001b[1;33m,\u001b[0m\u001b[1;33m\u001b[0m\u001b[1;33m\u001b[0m\u001b[0m\n\u001b[0;32m   8764\u001b[0m                 \u001b[0maxis\u001b[0m\u001b[1;33m=\u001b[0m\u001b[0mblock_axis\u001b[0m\u001b[1;33m,\u001b[0m\u001b[1;33m\u001b[0m\u001b[1;33m\u001b[0m\u001b[0m\n\u001b[1;32m-> 8765\u001b[1;33m                 \u001b[0mtranspose\u001b[0m\u001b[1;33m=\u001b[0m\u001b[0mself\u001b[0m\u001b[1;33m.\u001b[0m\u001b[0m_AXIS_REVERSED\u001b[0m\u001b[1;33m,\u001b[0m\u001b[1;33m\u001b[0m\u001b[1;33m\u001b[0m\u001b[0m\n\u001b[0m\u001b[0;32m   8766\u001b[0m             )\n\u001b[0;32m   8767\u001b[0m             \u001b[0mself\u001b[0m\u001b[1;33m.\u001b[0m\u001b[0m_update_inplace\u001b[0m\u001b[1;33m(\u001b[0m\u001b[0mnew_data\u001b[0m\u001b[1;33m)\u001b[0m\u001b[1;33m\u001b[0m\u001b[1;33m\u001b[0m\u001b[0m\n",
      "\u001b[1;32mC:\\ProgramData\\Anaconda3\\envs\\BES_analysis\\lib\\site-packages\\pandas\\core\\internals\\managers.py\u001b[0m in \u001b[0;36mputmask\u001b[1;34m(self, **kwargs)\u001b[0m\n\u001b[0;32m    562\u001b[0m \u001b[1;33m\u001b[0m\u001b[0m\n\u001b[0;32m    563\u001b[0m     \u001b[1;32mdef\u001b[0m \u001b[0mputmask\u001b[0m\u001b[1;33m(\u001b[0m\u001b[0mself\u001b[0m\u001b[1;33m,\u001b[0m \u001b[1;33m**\u001b[0m\u001b[0mkwargs\u001b[0m\u001b[1;33m)\u001b[0m\u001b[1;33m:\u001b[0m\u001b[1;33m\u001b[0m\u001b[1;33m\u001b[0m\u001b[0m\n\u001b[1;32m--> 564\u001b[1;33m         \u001b[1;32mreturn\u001b[0m \u001b[0mself\u001b[0m\u001b[1;33m.\u001b[0m\u001b[0mapply\u001b[0m\u001b[1;33m(\u001b[0m\u001b[1;34m\"putmask\"\u001b[0m\u001b[1;33m,\u001b[0m \u001b[1;33m**\u001b[0m\u001b[0mkwargs\u001b[0m\u001b[1;33m)\u001b[0m\u001b[1;33m\u001b[0m\u001b[1;33m\u001b[0m\u001b[0m\n\u001b[0m\u001b[0;32m    565\u001b[0m \u001b[1;33m\u001b[0m\u001b[0m\n\u001b[0;32m    566\u001b[0m     \u001b[1;32mdef\u001b[0m \u001b[0mdiff\u001b[0m\u001b[1;33m(\u001b[0m\u001b[0mself\u001b[0m\u001b[1;33m,\u001b[0m \u001b[1;33m**\u001b[0m\u001b[0mkwargs\u001b[0m\u001b[1;33m)\u001b[0m\u001b[1;33m:\u001b[0m\u001b[1;33m\u001b[0m\u001b[1;33m\u001b[0m\u001b[0m\n",
      "\u001b[1;32mC:\\ProgramData\\Anaconda3\\envs\\BES_analysis\\lib\\site-packages\\pandas\\core\\internals\\managers.py\u001b[0m in \u001b[0;36mapply\u001b[1;34m(self, f, filter, **kwargs)\u001b[0m\n\u001b[0;32m    440\u001b[0m                 \u001b[0mapplied\u001b[0m \u001b[1;33m=\u001b[0m \u001b[0mb\u001b[0m\u001b[1;33m.\u001b[0m\u001b[0mapply\u001b[0m\u001b[1;33m(\u001b[0m\u001b[0mf\u001b[0m\u001b[1;33m,\u001b[0m \u001b[1;33m**\u001b[0m\u001b[0mkwargs\u001b[0m\u001b[1;33m)\u001b[0m\u001b[1;33m\u001b[0m\u001b[1;33m\u001b[0m\u001b[0m\n\u001b[0;32m    441\u001b[0m             \u001b[1;32melse\u001b[0m\u001b[1;33m:\u001b[0m\u001b[1;33m\u001b[0m\u001b[1;33m\u001b[0m\u001b[0m\n\u001b[1;32m--> 442\u001b[1;33m                 \u001b[0mapplied\u001b[0m \u001b[1;33m=\u001b[0m \u001b[0mgetattr\u001b[0m\u001b[1;33m(\u001b[0m\u001b[0mb\u001b[0m\u001b[1;33m,\u001b[0m \u001b[0mf\u001b[0m\u001b[1;33m)\u001b[0m\u001b[1;33m(\u001b[0m\u001b[1;33m**\u001b[0m\u001b[0mkwargs\u001b[0m\u001b[1;33m)\u001b[0m\u001b[1;33m\u001b[0m\u001b[1;33m\u001b[0m\u001b[0m\n\u001b[0m\u001b[0;32m    443\u001b[0m             \u001b[0mresult_blocks\u001b[0m \u001b[1;33m=\u001b[0m \u001b[0m_extend_blocks\u001b[0m\u001b[1;33m(\u001b[0m\u001b[0mapplied\u001b[0m\u001b[1;33m,\u001b[0m \u001b[0mresult_blocks\u001b[0m\u001b[1;33m)\u001b[0m\u001b[1;33m\u001b[0m\u001b[1;33m\u001b[0m\u001b[0m\n\u001b[0;32m    444\u001b[0m \u001b[1;33m\u001b[0m\u001b[0m\n",
      "\u001b[1;32mC:\\ProgramData\\Anaconda3\\envs\\BES_analysis\\lib\\site-packages\\pandas\\core\\internals\\blocks.py\u001b[0m in \u001b[0;36mputmask\u001b[1;34m(self, mask, new, align, inplace, axis, transpose)\u001b[0m\n\u001b[0;32m    991\u001b[0m                     \u001b[1;32mraise\u001b[0m \u001b[0mValueError\u001b[0m\u001b[1;33m(\u001b[0m\u001b[1;34m\"cannot assign mismatch length to masked array\"\u001b[0m\u001b[1;33m)\u001b[0m\u001b[1;33m\u001b[0m\u001b[1;33m\u001b[0m\u001b[0m\n\u001b[0;32m    992\u001b[0m             \u001b[1;32melse\u001b[0m\u001b[1;33m:\u001b[0m\u001b[1;33m\u001b[0m\u001b[1;33m\u001b[0m\u001b[0m\n\u001b[1;32m--> 993\u001b[1;33m                 \u001b[0mnp\u001b[0m\u001b[1;33m.\u001b[0m\u001b[0mputmask\u001b[0m\u001b[1;33m(\u001b[0m\u001b[0mnew_values\u001b[0m\u001b[1;33m,\u001b[0m \u001b[0mmask\u001b[0m\u001b[1;33m,\u001b[0m \u001b[0mnew\u001b[0m\u001b[1;33m)\u001b[0m\u001b[1;33m\u001b[0m\u001b[1;33m\u001b[0m\u001b[0m\n\u001b[0m\u001b[0;32m    994\u001b[0m \u001b[1;33m\u001b[0m\u001b[0m\n\u001b[0;32m    995\u001b[0m         \u001b[1;31m# maybe upcast me\u001b[0m\u001b[1;33m\u001b[0m\u001b[1;33m\u001b[0m\u001b[1;33m\u001b[0m\u001b[0m\n",
      "\u001b[1;32m<__array_function__ internals>\u001b[0m in \u001b[0;36mputmask\u001b[1;34m(*args, **kwargs)\u001b[0m\n",
      "\u001b[1;31mKeyboardInterrupt\u001b[0m: "
     ]
    }
   ],
   "source": [
    "%%time\n",
    "BES_Panel_paranoia = load_large_dta(\"..\\\\BES_analysis_data\\\\\"+\"W19_comb\"+os.sep+\"BES2019_W19_Panel_v0.1_cleaned.dta\", chunksize=10)\n",
    "# note, this crashed when I ran it with *too small a chunk size* (1000)\n",
    "# bingo!"
   ]
  },
  {
   "cell_type": "code",
   "execution_count": 20,
   "metadata": {},
   "outputs": [
    {
     "data": {
      "text/plain": [
       "(97158, 7912)"
      ]
     },
     "execution_count": 20,
     "metadata": {},
     "output_type": "execute_result"
    }
   ],
   "source": [
    "BES_Panel_paranoia.shape"
   ]
  },
  {
   "cell_type": "code",
   "execution_count": 21,
   "metadata": {},
   "outputs": [
    {
     "data": {
      "text/plain": [
       "category    2012\n",
       "object       999\n",
       "category     403\n",
       "category     310\n",
       "category     199\n",
       "            ... \n",
       "category       1\n",
       "category       1\n",
       "category       1\n",
       "category       1\n",
       "category       1\n",
       "Length: 435, dtype: int64"
      ]
     },
     "execution_count": 21,
     "metadata": {},
     "output_type": "execute_result"
    }
   ],
   "source": [
    "BES_Panel_paranoia.dtypes.value_counts()"
   ]
  },
  {
   "cell_type": "code",
   "execution_count": 22,
   "metadata": {},
   "outputs": [
    {
     "data": {
      "text/plain": [
       "object            999\n",
       "float32           120\n",
       "datetime64[ns]     46\n",
       "int8               19\n",
       "int32               2\n",
       "dtype: int64"
      ]
     },
     "execution_count": 22,
     "metadata": {},
     "output_type": "execute_result"
    }
   ],
   "source": [
    "BES_Panel_paranoia.dtypes[BES_Panel_paranoia.dtypes!='category'].value_counts()"
   ]
  },
  {
   "cell_type": "code",
   "execution_count": 24,
   "metadata": {},
   "outputs": [],
   "source": [
    "# objects still an issue with chunk iteration on slightly slimmed down dta"
   ]
  },
  {
   "cell_type": "code",
   "execution_count": null,
   "metadata": {},
   "outputs": [],
   "source": []
  },
  {
   "cell_type": "code",
   "execution_count": 30,
   "metadata": {},
   "outputs": [],
   "source": [
    "BES_Panel = pd.read_pickle(\"..\\\\BES_analysis_data\\\\\"+\"W19_comb\"+os.sep+\"BES2019_W19_Panel_v0.1_cleaned.zip\",compression='zip')\n",
    "# zipped pickle works fine as storage/quick load option"
   ]
  },
  {
   "cell_type": "code",
   "execution_count": 33,
   "metadata": {},
   "outputs": [
    {
     "data": {
      "text/plain": [
       "motherVoteW17           3564\n",
       "motherVoteW14W15W16    49947\n",
       "dtype: int64"
      ]
     },
     "execution_count": 33,
     "metadata": {},
     "output_type": "execute_result"
    }
   ],
   "source": [
    "from utility import *\n",
    "search(BES_Panel_check, \"motherVote\")"
   ]
  },
  {
   "cell_type": "code",
   "execution_count": 37,
   "metadata": {},
   "outputs": [
    {
     "data": {
      "text/plain": [
       "Labour                                     1239\n",
       "Don't know                                  929\n",
       "Conservatives                               744\n",
       "Liberal Democrats/Liberals/SDP/Alliance     217\n",
       "Did not vote                                170\n",
       "Had no usual party                          104\n",
       "Didn't know mother growing up                51\n",
       "Other                                        50\n",
       "Scottish National Party (SNP)                29\n",
       "UKIP                                         21\n",
       "Plaid Cymru                                  10\n",
       "Name: motherVoteW17, dtype: int64"
      ]
     },
     "execution_count": 37,
     "metadata": {},
     "output_type": "execute_result"
    }
   ],
   "source": [
    "BES_Panel_check[\"motherVoteW17\"].value_counts()"
   ]
  },
  {
   "cell_type": "code",
   "execution_count": 36,
   "metadata": {},
   "outputs": [
    {
     "data": {
      "text/plain": [
       "Labour                                     16286\n",
       "Don't know                                 13182\n",
       "Conservatives                              12424\n",
       "Liberal Democrats/Liberals/SDP/Alliance     3006\n",
       "Didn't know father growing up               1952\n",
       "Had no usual party                          1248\n",
       "Did not vote                                 815\n",
       "Other                                        481\n",
       "Scottish National Party (SNP)                379\n",
       "Plaid Cymru                                  174\n",
       "Name: motherVoteW14W15W16, dtype: int64"
      ]
     },
     "execution_count": 36,
     "metadata": {},
     "output_type": "execute_result"
    }
   ],
   "source": [
    "BES_Panel_check[\"motherVoteW14W15W16\"].value_counts()"
   ]
  },
  {
   "cell_type": "code",
   "execution_count": 38,
   "metadata": {},
   "outputs": [
    {
     "data": {
      "text/plain": [
       "Index(['Did not vote', 'Labour', 'Conservatives',\n",
       "       'Liberal Democrats/Liberals/SDP/Alliance',\n",
       "       'Scottish National Party (SNP)', 'Plaid Cymru', 'UKIP', 'Other',\n",
       "       'Had no usual party', 'Didn't know mother growing up', 'Don't know'],\n",
       "      dtype='object')"
      ]
     },
     "execution_count": 38,
     "metadata": {},
     "output_type": "execute_result"
    }
   ],
   "source": [
    "BES_Panel_check[\"motherVoteW17\"].cat.categories"
   ]
  },
  {
   "cell_type": "code",
   "execution_count": null,
   "metadata": {},
   "outputs": [],
   "source": []
  },
  {
   "cell_type": "code",
   "execution_count": null,
   "metadata": {},
   "outputs": [],
   "source": []
  },
  {
   "cell_type": "code",
   "execution_count": null,
   "metadata": {},
   "outputs": [],
   "source": []
  },
  {
   "cell_type": "code",
   "execution_count": null,
   "metadata": {},
   "outputs": [],
   "source": [
    "def load_large_dta(fname, chunksize=20000, columns=None):\n",
    "    \n",
    "    counter=0\n",
    "    reader = pd.read_stata(fname, chunksize=chunksize, columns=columns)\n",
    "    df = pd.DataFrame()\n",
    "    print(\"started\")\n",
    "    for chunk in reader:\n",
    "        df = df.append(chunk)\n",
    "\n",
    "        print(counter,datetime.now())\n",
    "        sys.stdout.flush()\n",
    "        gc.collect()\n",
    "        counter=counter+1\n",
    "\n",
    "    print('\\nloaded {} rows'.format(len(df)))\n",
    "\n",
    "    return df"
   ]
  },
  {
   "cell_type": "code",
   "execution_count": null,
   "metadata": {},
   "outputs": [],
   "source": []
  }
 ],
 "metadata": {
  "kernelspec": {
   "display_name": "Python [conda env:BES_analysis] *",
   "language": "python",
   "name": "conda-env-BES_analysis-py"
  },
  "language_info": {
   "codemirror_mode": {
    "name": "ipython",
    "version": 3
   },
   "file_extension": ".py",
   "mimetype": "text/x-python",
   "name": "python",
   "nbconvert_exporter": "python",
   "pygments_lexer": "ipython3",
   "version": "3.7.8"
  }
 },
 "nbformat": 4,
 "nbformat_minor": 4
}
