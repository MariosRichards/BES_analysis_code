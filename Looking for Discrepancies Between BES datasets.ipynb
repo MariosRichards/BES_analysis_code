{
 "cells": [
  {
   "cell_type": "code",
   "execution_count": null,
   "metadata": {},
   "outputs": [],
   "source": [
    "# motivated by \n",
    "# https://twitter.com/MariosRichards/status/1258726923318018048"
   ]
  },
  {
   "cell_type": "code",
   "execution_count": 1,
   "metadata": {},
   "outputs": [],
   "source": [
    "dataset_name = \"W19_comb\"\n",
    "df_list = [ \"BES_Panel\" ]"
   ]
  },
  {
   "cell_type": "code",
   "execution_count": 2,
   "metadata": {},
   "outputs": [
    {
     "data": {
      "text/html": [
       "<script>jQuery(function() {if (jQuery(\"body.notebook_app\").length == 0) { jQuery(\".input_area\").toggle(); jQuery(\".prompt\").toggle();}});</script>"
      ]
     },
     "metadata": {},
     "output_type": "display_data"
    },
    {
     "data": {
      "text/html": [
       "<button onclick=\"jQuery('.input_area').toggle(); jQuery('.prompt').toggle();\">Toggle code</button>"
      ]
     },
     "metadata": {},
     "output_type": "display_data"
    },
    {
     "name": "stdout",
     "output_type": "stream",
     "text": [
      "var_type (7911, 14)\n"
     ]
    }
   ],
   "source": [
    "import warnings\n",
    "warnings.filterwarnings('ignore')\n",
    "\n",
    "from IPython.display import display\n",
    "from IPython.display import HTML\n",
    "import IPython.core.display as di # Example: di.display_html('<h3>%s:</h3>' % str, raw=True)\n",
    "\n",
    "# This line will hide code by default when the notebook is exported as HTML\n",
    "di.display_html('<script>jQuery(function() {if (jQuery(\"body.notebook_app\").length == 0) { jQuery(\".input_area\").toggle(); jQuery(\".prompt\").toggle();}});</script>', raw=True)\n",
    "\n",
    "# This line will add a button to toggle visibility of code blocks, for use with the HTML export version\n",
    "di.display_html('''<button onclick=\"jQuery('.input_area').toggle(); jQuery('.prompt').toggle();\">Toggle code</button>''', raw=True)\n",
    "\n",
    "%matplotlib inline\n",
    "\n",
    "import numpy as np, pandas as pd, matplotlib.pyplot as plt, seaborn as sns\n",
    "import pickle, os, gc, re\n",
    "\n",
    "sns.set();\n",
    "sns.set_palette(\"colorblind\")\n",
    "\n",
    "from IPython.display import display, display_html, HTML\n",
    "from IPython.core.debugger import set_trace\n",
    "# plt.rcParams[\"axes.grid\"] = False\n",
    "\n",
    "import Jupyter_module_loader\n",
    "from utility import *\n",
    "import gaussian_kde\n",
    "\n",
    "import warnings\n",
    "warnings.filterwarnings('ignore')\n",
    "\n",
    "import holoviews as hv\n",
    "from holoviews import opts\n",
    "\n",
    "encoding = \"ISO-8859-1\"\n",
    "\n",
    "# you should clone this git to a subdirectory called 'BES_analysis_code' (in some directory - I call it BES_analysis - doesn't matter though)\n",
    "# %matplotlib inline\n",
    "(BES_code_folder, BES_small_data_files, BES_data_folder,\n",
    " BES_output_folder, BES_file_manifest, BES_R_data_files) = setup_directories()\n",
    "\n",
    "global BES_Panel, BES_numeric, BES_reduced, BES_reduced_with_na, BES_non_numeric\n",
    "data_subfolder = BES_data_folder + dataset_name + os.sep\n",
    "\n",
    "(manifest, dataset_filename, dataset_description, dataset_citation,\n",
    " dataset_start, dataset_stop, dataset_wave) = get_manifest(dataset_name, BES_file_manifest)\n",
    "\n",
    "for df in df_list:\n",
    "    if df==\"BES_Panel\":\n",
    "        globals()[df]  = pd.read_pickle(data_subfolder + dataset_filename.replace('.dta','.zip'),compression='zip')\n",
    "    else:\n",
    "        globals()[df]  = pd.read_pickle(data_subfolder + df + '.zip',compression='zip' )\n",
    "        globals()[df].replace(-1,np.nan,inplace=True)\n",
    "  \n",
    "(var_type, cat_dictionary, new_old_col_names, old_new_col_names) = get_small_files(data_subfolder, encoding)\n",
    "\n",
    "# get full set of inferred \"cross wave\" auth-lib/left-right values and ages\n",
    "# pan_dataset_allr_values = pd.read_csv(BES_small_data_files + \"pan_dataset_allr_values\"+\".csv\")\n",
    "# pan_dataset_ages = pd.read_pickle(BES_small_data_files + \"pan_dataset_ages\"+\".zip\", compression='zip')"
   ]
  },
  {
   "cell_type": "code",
   "execution_count": 3,
   "metadata": {},
   "outputs": [],
   "source": [
    "BESW19 = BES_Panel.copy()"
   ]
  },
  {
   "cell_type": "code",
   "execution_count": 6,
   "metadata": {},
   "outputs": [],
   "source": [
    "BESW16 = BES_Panel.copy()"
   ]
  },
  {
   "cell_type": "code",
   "execution_count": 7,
   "metadata": {},
   "outputs": [
    {
     "data": {
      "text/plain": [
       "profile_past_vote_2010    63248\n",
       "dtype: int64"
      ]
     },
     "execution_count": 7,
     "metadata": {},
     "output_type": "execute_result"
    }
   ],
   "source": [
    "search(BESW16,\"profile_past_vote_2010\")"
   ]
  },
  {
   "cell_type": "code",
   "execution_count": 8,
   "metadata": {},
   "outputs": [
    {
     "data": {
      "text/plain": [
       "profile_past_vote_2010    65581\n",
       "dtype: int64"
      ]
     },
     "execution_count": 8,
     "metadata": {},
     "output_type": "execute_result"
    }
   ],
   "source": [
    "search(BESW19,\"profile_past_vote_2010\")"
   ]
  },
  {
   "cell_type": "code",
   "execution_count": 9,
   "metadata": {},
   "outputs": [
    {
     "name": "stdout",
     "output_type": "stream",
     "text": [
      "                        BESW19: 799.9MiB\n",
      "                     BES_Panel: 695.0MiB\n",
      "                        BESW16: 695.0MiB\n",
      "                      var_type:   5.2MiB\n",
      "                cat_dictionary: 288.1KiB\n",
      "             new_old_col_names: 288.1KiB\n",
      "             old_new_col_names: 144.1KiB\n",
      "             BES_file_manifest:  58.5KiB\n",
      "                           _i2:   2.5KiB\n",
      "                           _i5:   2.5KiB\n"
     ]
    }
   ],
   "source": [
    "memory_use(locs = locals().items())"
   ]
  },
  {
   "cell_type": "code",
   "execution_count": 10,
   "metadata": {},
   "outputs": [
    {
     "data": {
      "text/plain": [
       "((97158, 7911), (92587, 6516))"
      ]
     },
     "execution_count": 10,
     "metadata": {},
     "output_type": "execute_result"
    }
   ],
   "source": [
    "BESW19.shape,BESW16.shape"
   ]
  },
  {
   "cell_type": "code",
   "execution_count": 13,
   "metadata": {},
   "outputs": [],
   "source": [
    "BESW16 = BESW16.set_index(\"id\").sort_index()\n",
    "BESW19 = BESW19.set_index(\"id\").sort_index()"
   ]
  },
  {
   "cell_type": "code",
   "execution_count": 15,
   "metadata": {},
   "outputs": [
    {
     "data": {
      "text/plain": [
       "Conservative                                18121\n",
       "Labour                                      14335\n",
       "Liberal Democrat                            12307\n",
       "I would not vote                             9655\n",
       "Scottish National Party (SNP)                2290\n",
       "Don't know                                   2018\n",
       "United Kingdom Independence Party (UKIP)     1873\n",
       "Green Party                                   993\n",
       "Other                                         562\n",
       "Plaid Cymru                                   550\n",
       "British National Party (BNP)                  544\n",
       "Name: profile_past_vote_2010, dtype: int64"
      ]
     },
     "execution_count": 15,
     "metadata": {},
     "output_type": "execute_result"
    }
   ],
   "source": [
    "BESW16[\"profile_past_vote_2010\"].value_counts()"
   ]
  },
  {
   "cell_type": "code",
   "execution_count": 16,
   "metadata": {},
   "outputs": [
    {
     "data": {
      "text/plain": [
       "Conservative                                17934\n",
       "Labour                                      16643\n",
       "Liberal Democrat                            12853\n",
       "Scottish National Party (SNP)                6158\n",
       "I would not vote                             5001\n",
       "United Kingdom Independence Party (UKIP)     1220\n",
       "Brexit Party                                 1126\n",
       "Don't know                                    952\n",
       "British National Party (BNP)                  868\n",
       "Plaid Cymru                                   829\n",
       "10.0                                          741\n",
       "Green Party                                   686\n",
       "Other                                         371\n",
       "Change UK- The Independent Group              199\n",
       "Name: profile_past_vote_2010, dtype: int64"
      ]
     },
     "execution_count": 16,
     "metadata": {},
     "output_type": "execute_result"
    }
   ],
   "source": [
    "BESW19[\"profile_past_vote_2010\"].value_counts()"
   ]
  },
  {
   "cell_type": "code",
   "execution_count": null,
   "metadata": {},
   "outputs": [],
   "source": []
  },
  {
   "cell_type": "code",
   "execution_count": 263,
   "metadata": {},
   "outputs": [],
   "source": [
    "(BES_code_folder, BES_small_data_files, BES_data_folder,\n",
    " BES_output_folder, BES_file_manifest, BES_R_data_files) = setup_directories()\n",
    "\n",
    "global BES_Panel, BES_numeric, BES_reduced, BES_reduced_with_na, BES_non_numeric\n",
    "\n",
    "var_dict = {}\n",
    "\n",
    "for dataset_name in BES_file_manifest[BES_file_manifest[\"Base_or_Strings\"]==\"Base\"][\"Name\"]:\n",
    "    \n",
    "    data_subfolder = BES_data_folder + dataset_name + os.sep\n",
    "\n",
    "    (manifest, dataset_filename, dataset_description, dataset_citation,\n",
    "     dataset_start, dataset_stop, dataset_wave) = get_manifest(dataset_name, BES_file_manifest)    \n",
    "    try:\n",
    "        df = pd.read_pickle(data_subfolder + dataset_filename.replace('.dta','.zip'),compression='zip')\n",
    "        var_dict[dataset_name] = df.columns\n",
    "    except:\n",
    "        try:\n",
    "            df = pd.read_stata(data_subfolder + dataset_filename).set_index(\"id\").sort_index()\n",
    "            var_dict[dataset_name] = df.columns\n",
    "            df.to_pickle(data_subfolder + dataset_filename.replace('.dta','.zip'),compression='zip')\n",
    "        except:\n",
    "            var_dict[dataset_name] = \"dta not present either\"\n"
   ]
  },
  {
   "cell_type": "code",
   "execution_count": 264,
   "metadata": {},
   "outputs": [
    {
     "data": {
      "text/html": [
       "[]"
      ],
      "text/plain": [
       "[]"
      ]
     },
     "execution_count": 264,
     "metadata": {},
     "output_type": "execute_result"
    }
   ],
   "source": [
    "[x for x in var_dict.keys() if isinstance(var_dict[x],str)]"
   ]
  },
  {
   "cell_type": "code",
   "execution_count": 265,
   "metadata": {},
   "outputs": [],
   "source": [
    "# ['W13_only', 'W11_only', 'W10_only', 'W9_only', 'W7_only']\n",
    "# need updating!\n",
    "# Also updated: W15_only, W14_only,W12_only, ... all the way down, but 'only' files ... only\n",
    "\n",
    "\n",
    "\n",
    "# bug W5_only appears twice"
   ]
  },
  {
   "cell_type": "code",
   "execution_count": 266,
   "metadata": {},
   "outputs": [
    {
     "data": {
      "text/html": [
       "['W19_only', 'W19_comb', 'W18_only', 'W17_only', 'W16_only', 'W16_comb', 'W15_only', 'W15_comb', 'W14_comb', 'W13_comb', 'W11_only', 'W10_comb', 'W10_only', 'W9_comb', 'W9_only', 'W8_only', 'W8_comb', 'W7_only', 'W7_comb', 'W6_only', 'W6_comb', 'W5_comb', 'W5_only', 'W4_only', 'W4_comb', 'W3_only', 'W3_comb', 'W2_only', 'W1_only']"
      ],
      "text/plain": [
       "['W19_only',\n",
       " 'W19_comb',\n",
       " 'W18_only',\n",
       " 'W17_only',\n",
       " 'W16_only',\n",
       " 'W16_comb',\n",
       " 'W15_only',\n",
       " 'W15_comb',\n",
       " 'W14_comb',\n",
       " 'W13_comb',\n",
       " 'W11_only',\n",
       " 'W10_comb',\n",
       " 'W10_only',\n",
       " 'W9_comb',\n",
       " 'W9_only',\n",
       " 'W8_only',\n",
       " 'W8_comb',\n",
       " 'W7_only',\n",
       " 'W7_comb',\n",
       " 'W6_only',\n",
       " 'W6_comb',\n",
       " 'W5_comb',\n",
       " 'W5_only',\n",
       " 'W4_only',\n",
       " 'W4_comb',\n",
       " 'W3_only',\n",
       " 'W3_comb',\n",
       " 'W2_only',\n",
       " 'W1_only']"
      ]
     },
     "execution_count": 266,
     "metadata": {},
     "output_type": "execute_result"
    }
   ],
   "source": [
    "[x for x in var_dict.keys() if not isinstance(var_dict[x],str) and \"profile_past_vote_2010\" in var_dict[x]]"
   ]
  },
  {
   "cell_type": "code",
   "execution_count": 267,
   "metadata": {},
   "outputs": [
    {
     "data": {
      "text/html": [
       "['W19_only', 'W19_comb', 'W18_only', 'W17_only', 'W16_only', 'W16_comb', 'W15_only', 'W15_comb', 'W14_comb', 'W13_comb', 'W12_only', 'W11_only', 'W10_comb', 'W10_only', 'W9_comb', 'W9_only', 'W8_only', 'W8_comb', 'W7_only', 'W7_comb', 'W6_only', 'W6_comb', 'W5_comb', 'W5_only', 'W4_only', 'W4_comb', 'W3_only', 'W3_comb', 'W2_only', 'W1_only']"
      ],
      "text/plain": [
       "['W19_only',\n",
       " 'W19_comb',\n",
       " 'W18_only',\n",
       " 'W17_only',\n",
       " 'W16_only',\n",
       " 'W16_comb',\n",
       " 'W15_only',\n",
       " 'W15_comb',\n",
       " 'W14_comb',\n",
       " 'W13_comb',\n",
       " 'W12_only',\n",
       " 'W11_only',\n",
       " 'W10_comb',\n",
       " 'W10_only',\n",
       " 'W9_comb',\n",
       " 'W9_only',\n",
       " 'W8_only',\n",
       " 'W8_comb',\n",
       " 'W7_only',\n",
       " 'W7_comb',\n",
       " 'W6_only',\n",
       " 'W6_comb',\n",
       " 'W5_comb',\n",
       " 'W5_only',\n",
       " 'W4_only',\n",
       " 'W4_comb',\n",
       " 'W3_only',\n",
       " 'W3_comb',\n",
       " 'W2_only',\n",
       " 'W1_only']"
      ]
     },
     "execution_count": 267,
     "metadata": {},
     "output_type": "execute_result"
    }
   ],
   "source": [
    "[x for x in var_dict.keys() if not isinstance(var_dict[x],str) and \"profile_past_vote_2005\" in var_dict[x]]\n",
    "\n",
    "# W12_only!"
   ]
  },
  {
   "cell_type": "code",
   "execution_count": 268,
   "metadata": {},
   "outputs": [
    {
     "data": {
      "text/html": [
       "['profile_newspaper2', 'profile_gross_household', 'profile_socgrade', 'profile_work_stat', 'profile_house_tenure', 'profile_religion', 'profile_education_age', 'profile_lea', 'profile_oslaua', 'profile_gross_personal', 'profile_household_children', 'profile_past_vote_2005', 'profile_past_vote_2017', 'profile_turnout_2017', 'profile_past_vote_2015', 'profile_turnout_2015', 'profile_eurefvote', 'profile_eurefturnout', 'profile_scotref_turnout', 'profile_scotref_vote']"
      ],
      "text/plain": [
       "['profile_newspaper2',\n",
       " 'profile_gross_household',\n",
       " 'profile_socgrade',\n",
       " 'profile_work_stat',\n",
       " 'profile_house_tenure',\n",
       " 'profile_religion',\n",
       " 'profile_education_age',\n",
       " 'profile_lea',\n",
       " 'profile_oslaua',\n",
       " 'profile_gross_personal',\n",
       " 'profile_household_children',\n",
       " 'profile_past_vote_2005',\n",
       " 'profile_past_vote_2017',\n",
       " 'profile_turnout_2017',\n",
       " 'profile_past_vote_2015',\n",
       " 'profile_turnout_2015',\n",
       " 'profile_eurefvote',\n",
       " 'profile_eurefturnout',\n",
       " 'profile_scotref_turnout',\n",
       " 'profile_scotref_vote']"
      ]
     },
     "execution_count": 268,
     "metadata": {},
     "output_type": "execute_result"
    }
   ],
   "source": [
    "[x for x in var_dict[\"W12_only\"] if \"profile\" in x]\n",
    "# W12_only really missing profile_past_vote_2010!"
   ]
  },
  {
   "cell_type": "code",
   "execution_count": 269,
   "metadata": {},
   "outputs": [
    {
     "data": {
      "text/html": [
       "['W19_comb', 'W19_only', 'W18_only', 'W17_only', 'W16_only', 'W16_comb', 'W15_only', 'W15_comb', 'W14_comb', 'W13_comb', 'W11_only', 'W10_comb', 'W10_only', 'W9_comb', 'W9_only', 'W8_only', 'W8_comb', 'W7_only', 'W7_comb', 'W6_only', 'W6_comb', 'W5_comb', 'W5_only', 'W4_only', 'W4_comb', 'W3_only', 'W3_comb', 'W2_only', 'W1_only']"
      ],
      "text/plain": [
       "['W19_comb',\n",
       " 'W19_only',\n",
       " 'W18_only',\n",
       " 'W17_only',\n",
       " 'W16_only',\n",
       " 'W16_comb',\n",
       " 'W15_only',\n",
       " 'W15_comb',\n",
       " 'W14_comb',\n",
       " 'W13_comb',\n",
       " 'W11_only',\n",
       " 'W10_comb',\n",
       " 'W10_only',\n",
       " 'W9_comb',\n",
       " 'W9_only',\n",
       " 'W8_only',\n",
       " 'W8_comb',\n",
       " 'W7_only',\n",
       " 'W7_comb',\n",
       " 'W6_only',\n",
       " 'W6_comb',\n",
       " 'W5_comb',\n",
       " 'W5_only',\n",
       " 'W4_only',\n",
       " 'W4_comb',\n",
       " 'W3_only',\n",
       " 'W3_comb',\n",
       " 'W2_only',\n",
       " 'W1_only']"
      ]
     },
     "execution_count": 269,
     "metadata": {},
     "output_type": "execute_result"
    }
   ],
   "source": [
    "present_in_datasets = [x for x in var_dict.keys() if not isinstance(var_dict[x],str) and \"profile_past_vote_2010\" in var_dict[x]]\n",
    "present_in_datasets.remove(\"W19_comb\")\n",
    "present_in_datasets.insert(0,\"W19_comb\")\n",
    "present_in_datasets\n",
    "# need W19_comb first to set all indices!\n",
    "\n",
    "# Assumes no indices are lost ..."
   ]
  },
  {
   "cell_type": "code",
   "execution_count": 270,
   "metadata": {},
   "outputs": [
    {
     "data": {
      "text/html": [
       "['W19_comb', 'W19_only', 'W18_only', 'W17_only', 'W16_only', 'W15_only', 'W11_only', 'W10_only', 'W9_only', 'W8_only', 'W7_only', 'W6_only', 'W5_only', 'W4_only', 'W3_only', 'W2_only', 'W1_only']"
      ],
      "text/plain": [
       "['W19_comb',\n",
       " 'W19_only',\n",
       " 'W18_only',\n",
       " 'W17_only',\n",
       " 'W16_only',\n",
       " 'W15_only',\n",
       " 'W11_only',\n",
       " 'W10_only',\n",
       " 'W9_only',\n",
       " 'W8_only',\n",
       " 'W7_only',\n",
       " 'W6_only',\n",
       " 'W5_only',\n",
       " 'W4_only',\n",
       " 'W3_only',\n",
       " 'W2_only',\n",
       " 'W1_only']"
      ]
     },
     "execution_count": 270,
     "metadata": {},
     "output_type": "execute_result"
    }
   ],
   "source": [
    "present_in_datasets = [x for x in present_in_datasets if \"only\" in x]\n",
    "present_in_datasets.insert(0,\"W19_comb\")\n",
    "present_in_datasets"
   ]
  },
  {
   "cell_type": "code",
   "execution_count": 271,
   "metadata": {},
   "outputs": [],
   "source": [
    "# df = pd.DataFrame()\n",
    "# temp = BESW16[[\"profile_past_vote_2005\",\"profile_past_vote_2005\"]]\n",
    "# temp.columns = [\"W16_\"+x for x in temp.columns]\n",
    "# df = pd.concat([df,temp],axis=1)\n",
    "# temp = BESW19[[\"profile_past_vote_2005\",\"profile_past_vote_2005\"]]\n",
    "# temp.columns = [\"W19_\"+x for x in temp.columns]\n",
    "# df = pd.concat([df,temp],axis=1)\n",
    "\n",
    "# df"
   ]
  },
  {
   "cell_type": "code",
   "execution_count": 272,
   "metadata": {},
   "outputs": [
    {
     "name": "stdout",
     "output_type": "stream",
     "text": [
      "Wall time: 34.1 s\n"
     ]
    }
   ],
   "source": [
    "%%time\n",
    "(BES_code_folder, BES_small_data_files, BES_data_folder,\n",
    " BES_output_folder, BES_file_manifest, BES_R_data_files) = setup_directories()\n",
    "\n",
    "global BES_Panel, BES_numeric, BES_reduced, BES_reduced_with_na, BES_non_numeric\n",
    "\n",
    "df = pd.DataFrame()\n",
    "var_list = [\"profile_past_vote_2005\",\"profile_past_vote_2010\"]\n",
    "\n",
    "for dataset_name in present_in_datasets:\n",
    "    \n",
    "    data_subfolder = BES_data_folder + dataset_name + os.sep\n",
    "\n",
    "    (manifest, dataset_filename, dataset_description, dataset_citation,\n",
    "     dataset_start, dataset_stop, dataset_wave) = get_manifest(dataset_name, BES_file_manifest)    \n",
    "    BES_Panel = pd.read_pickle(data_subfolder + dataset_filename.replace('.dta','.zip'),compression='zip')\n",
    "    if \"id\" in BES_Panel.columns:\n",
    "        temp = BES_Panel[var_list+[\"id\"]].set_index(\"id\").sort_index()\n",
    "    else:\n",
    "        temp = BES_Panel[var_list]\n",
    "    temp.columns = [dataset_name+\"_\"+x for x in temp.columns]\n",
    "    df = pd.concat([df,temp],axis=1)\n",
    "    \n",
    "df.index = df.index.astype('int')\n",
    "# note - no extra rows over W19    "
   ]
  },
  {
   "cell_type": "code",
   "execution_count": 273,
   "metadata": {},
   "outputs": [],
   "source": [
    "# vote2005_categories = list( df[[x for x in df.columns if \"profile_past_vote_2005\"]].stack().value_counts().index )"
   ]
  },
  {
   "cell_type": "code",
   "execution_count": 274,
   "metadata": {},
   "outputs": [],
   "source": [
    "# vote2010_categories = list( df[[x for x in df.columns if \"profile_past_vote_2010\"]].stack().value_counts().index )"
   ]
  },
  {
   "cell_type": "code",
   "execution_count": 275,
   "metadata": {},
   "outputs": [
    {
     "data": {
      "text/html": [
       "['Conservative', 'Labour', 'Liberal Democrat', 'Did not vote', 'Scottish National Party', \"Don't know\", 'An independent candidate', 'United Kingdom Independence Party (UKIP)', 'Green Party', 'Plaid Cymru', 'British National Party (BNP)', 'Other', 10.0, 'Brexit Party', 'Change UK- The Independent Group']"
      ],
      "text/plain": [
       "['Conservative',\n",
       " 'Labour',\n",
       " 'Liberal Democrat',\n",
       " 'Did not vote',\n",
       " 'Scottish National Party',\n",
       " \"Don't know\",\n",
       " 'An independent candidate',\n",
       " 'United Kingdom Independence Party (UKIP)',\n",
       " 'Green Party',\n",
       " 'Plaid Cymru',\n",
       " 'British National Party (BNP)',\n",
       " 'Other',\n",
       " 10.0,\n",
       " 'Brexit Party',\n",
       " 'Change UK- The Independent Group']"
      ]
     },
     "execution_count": 275,
     "metadata": {},
     "output_type": "execute_result"
    }
   ],
   "source": [
    "replace_dict = {'I would not vote':'Did not vote',\n",
    "                'Conservative Party':'Conservative',\n",
    "                'Labour Party':'Labour',\n",
    "                'Liberal Democrats':'Liberal Democrat',\n",
    "                'Scottish National Party (SNP)':'Scottish National Party',\n",
    "                'Some other party':'Other',\n",
    "               }\n",
    "ppv2005 = [x for x in df.columns if \"profile_past_vote_2005\" in x]\n",
    "df.loc[:,ppv2005] = df.loc[:,ppv2005].replace(replace_dict)\n",
    "vote2005_categories = list( df[ppv2005].stack().value_counts().index )\n",
    "vote2005_categories"
   ]
  },
  {
   "cell_type": "code",
   "execution_count": 276,
   "metadata": {},
   "outputs": [
    {
     "data": {
      "text/html": [
       "['Conservative', 'Labour', 'Liberal Democrat', 'Did not vote', 'Scottish National Party', 'United Kingdom Independence Party (UKIP)', \"Don't know\", 'British National Party (BNP)', 'Plaid Cymru', 'Green Party', 'Brexit Party', 10.0, 'Other', 'Change UK- The Independent Group']"
      ],
      "text/plain": [
       "['Conservative',\n",
       " 'Labour',\n",
       " 'Liberal Democrat',\n",
       " 'Did not vote',\n",
       " 'Scottish National Party',\n",
       " 'United Kingdom Independence Party (UKIP)',\n",
       " \"Don't know\",\n",
       " 'British National Party (BNP)',\n",
       " 'Plaid Cymru',\n",
       " 'Green Party',\n",
       " 'Brexit Party',\n",
       " 10.0,\n",
       " 'Other',\n",
       " 'Change UK- The Independent Group']"
      ]
     },
     "execution_count": 276,
     "metadata": {},
     "output_type": "execute_result"
    }
   ],
   "source": [
    "replace_dict = {'I would not vote':'Did not vote',\n",
    "                'Conservative Party':'Conservative',\n",
    "                'Labour Party':'Labour',\n",
    "                'Liberal Democrats':'Liberal Democrat',\n",
    "                'Scottish National Party (SNP)':'Scottish National Party',\n",
    "                'Some other party':'Other',\n",
    "               }\n",
    "ppv2010 = [x for x in df.columns if \"profile_past_vote_2010\" in x]\n",
    "df.loc[:,ppv2010] = df.loc[:,ppv2010].replace(replace_dict)\n",
    "vote2010_categories = list( df[ppv2010].stack().value_counts().index )\n",
    "vote2010_categories"
   ]
  },
  {
   "cell_type": "code",
   "execution_count": null,
   "metadata": {},
   "outputs": [],
   "source": []
  },
  {
   "cell_type": "code",
   "execution_count": 277,
   "metadata": {},
   "outputs": [
    {
     "name": "stdout",
     "output_type": "stream",
     "text": [
      "Wall time: 44.9 s\n"
     ]
    },
    {
     "data": {
      "text/plain": [
       "1    50268\n",
       "0    40149\n",
       "2     6741\n",
       "dtype: int64"
      ]
     },
     "execution_count": 277,
     "metadata": {},
     "output_type": "execute_result"
    }
   ],
   "source": [
    "%%time\n",
    "number_of_unique_responses_per_row_2005 = df[ppv2005].apply(lambda x: len((x.dropna()).unique()),axis=1)\n",
    "number_of_unique_responses_per_row_2005.value_counts()"
   ]
  },
  {
   "cell_type": "code",
   "execution_count": 278,
   "metadata": {},
   "outputs": [
    {
     "name": "stdout",
     "output_type": "stream",
     "text": [
      "Wall time: 44.8 s\n"
     ]
    },
    {
     "data": {
      "text/plain": [
       "1    56419\n",
       "0    31577\n",
       "2     9162\n",
       "dtype: int64"
      ]
     },
     "execution_count": 278,
     "metadata": {},
     "output_type": "execute_result"
    }
   ],
   "source": [
    "%%time\n",
    "number_of_unique_responses_per_row_2010 = df[ppv2010].apply(lambda x: len((x.dropna()).unique()),axis=1)\n",
    "number_of_unique_responses_per_row_2010.value_counts()"
   ]
  },
  {
   "cell_type": "code",
   "execution_count": 329,
   "metadata": {},
   "outputs": [],
   "source": [
    "# df[ppv2005].loc[  number_of_unique_responses_per_row_2005>=3 ].dropna(how='all',axis=1)"
   ]
  },
  {
   "cell_type": "code",
   "execution_count": null,
   "metadata": {},
   "outputs": [],
   "source": []
  },
  {
   "cell_type": "code",
   "execution_count": 280,
   "metadata": {},
   "outputs": [],
   "source": [
    "discrepancy_pairs_2005 = df[ppv2005].loc[  number_of_unique_responses_per_row_2005==2 ].dropna(how='all',axis=1).apply(lambda x: \"|\".join([str(x) for x in x.dropna().unique()]),axis=1)"
   ]
  },
  {
   "cell_type": "code",
   "execution_count": 281,
   "metadata": {},
   "outputs": [],
   "source": [
    "discrepancy_pairs_2010 = df[ppv2010].loc[  number_of_unique_responses_per_row_2010==2 ].dropna(how='all',axis=1).apply(lambda x: \"|\".join([str(x) for x in x.dropna().unique()]),axis=1)"
   ]
  },
  {
   "cell_type": "code",
   "execution_count": 282,
   "metadata": {},
   "outputs": [
    {
     "data": {
      "text/plain": [
       "Labour|Conservative                                     2946\n",
       "Liberal Democrat|Labour                                 1680\n",
       "Conservative|Did not vote                               1652\n",
       "Scottish National Party|Liberal Democrat                1634\n",
       "Brexit Party|Don't know                                  454\n",
       "10.0|United Kingdom Independence Party (UKIP)            322\n",
       "British National Party (BNP)|Green Party                 185\n",
       "Plaid Cymru|Scottish National Party                      113\n",
       "Change UK- The Independent Group|Other                    82\n",
       "Green Party|British National Party (BNP)                  65\n",
       "United Kingdom Independence Party (UKIP)|Plaid Cymru      29\n",
       "dtype: int64"
      ]
     },
     "execution_count": 282,
     "metadata": {},
     "output_type": "execute_result"
    }
   ],
   "source": [
    "discrepancy_pairs_2010.value_counts()"
   ]
  },
  {
   "cell_type": "code",
   "execution_count": 283,
   "metadata": {},
   "outputs": [
    {
     "data": {
      "text/plain": [
       "Labour|Conservative                                     1896\n",
       "Liberal Democrat|Labour                                 1593\n",
       "Conservative|Did not vote                               1287\n",
       "Scottish National Party|Liberal Democrat                 904\n",
       "An independent candidate|Don't know                      662\n",
       "British National Party (BNP)|Green Party                 130\n",
       "10.0|United Kingdom Independence Party (UKIP)            118\n",
       "Plaid Cymru|Scottish National Party                       57\n",
       "Brexit Party|Other                                        47\n",
       "Green Party|British National Party (BNP)                  25\n",
       "United Kingdom Independence Party (UKIP)|Plaid Cymru      20\n",
       "Change UK- The Independent Group|Other                     2\n",
       "dtype: int64"
      ]
     },
     "execution_count": 283,
     "metadata": {},
     "output_type": "execute_result"
    }
   ],
   "source": [
    "discrepancy_pairs_2005.value_counts()"
   ]
  },
  {
   "cell_type": "code",
   "execution_count": 284,
   "metadata": {},
   "outputs": [],
   "source": [
    "df[\"discrepancy_pairs_2005\"] = discrepancy_pairs_2005\n",
    "df[\"discrepancy_pairs_2010\"] = discrepancy_pairs_2010"
   ]
  },
  {
   "cell_type": "code",
   "execution_count": 285,
   "metadata": {},
   "outputs": [],
   "source": [
    "# df[df[\"discrepancy_pairs_2005\"]==\"10.0|United Kingdom Independence Party (UKIP)\"][\"discr_2005_change_dataset\"].value_counts()"
   ]
  },
  {
   "cell_type": "code",
   "execution_count": null,
   "metadata": {},
   "outputs": [],
   "source": []
  },
  {
   "cell_type": "code",
   "execution_count": 286,
   "metadata": {},
   "outputs": [
    {
     "data": {
      "text/plain": [
       "discr_2005_change_dataset        discrepancy_pairs_2005                              \n",
       "W10_only_profile_past_vote_2005  Labour|Conservative                                     454\n",
       "                                 Conservative|Did not vote                               409\n",
       "                                 Liberal Democrat|Labour                                 398\n",
       "                                 Scottish National Party|Liberal Democrat                240\n",
       "                                 An independent candidate|Don't know                     210\n",
       "                                                                                        ... \n",
       "W8_only_profile_past_vote_2005   Plaid Cymru|Scottish National Party                      25\n",
       "                                 Green Party|British National Party (BNP)                 11\n",
       "                                 Brexit Party|Other                                        8\n",
       "                                 United Kingdom Independence Party (UKIP)|Plaid Cymru      8\n",
       "                                 Change UK- The Independent Group|Other                    1\n",
       "Name: discrepancy_pairs_2005, Length: 74, dtype: int64"
      ]
     },
     "execution_count": 286,
     "metadata": {},
     "output_type": "execute_result"
    }
   ],
   "source": [
    "df[\"discr_2005_change_dataset\"] = np.nan\n",
    "# discrep_pair = \"Other|Veritas\"\n",
    "for discrep_pair in discrepancy_pairs_2005.value_counts().index:\n",
    "    pair_first_part = discrep_pair.split(\"|\")[0]\n",
    "    if pair_first_part==\"10.0\":\n",
    "        pair_first_part=10.0\n",
    "    temp_ser = (df.loc[discrepancy_pairs_2005[discrepancy_pairs_2005==discrep_pair].index,ppv2005]==pair_first_part).replace(False,np.nan).cumsum(axis=1).replace(True,1.0).idxmax(axis=1)\n",
    "    df.loc[temp_ser.index,\"discr_2005_change_dataset\"] = temp_ser\n",
    "df.groupby(\"discr_2005_change_dataset\")[\"discrepancy_pairs_2005\"].value_counts()    "
   ]
  },
  {
   "cell_type": "code",
   "execution_count": null,
   "metadata": {},
   "outputs": [],
   "source": []
  },
  {
   "cell_type": "code",
   "execution_count": null,
   "metadata": {},
   "outputs": [],
   "source": []
  },
  {
   "cell_type": "code",
   "execution_count": 287,
   "metadata": {},
   "outputs": [
    {
     "data": {
      "text/plain": [
       "discr_2010_change_dataset        discrepancy_pairs_2010                              \n",
       "W10_only_profile_past_vote_2010  Labour|Conservative                                     674\n",
       "                                 Conservative|Did not vote                               479\n",
       "                                 Scottish National Party|Liberal Democrat                410\n",
       "                                 Liberal Democrat|Labour                                 377\n",
       "                                 Brexit Party|Don't know                                 123\n",
       "                                                                                        ... \n",
       "W8_only_profile_past_vote_2010   British National Party (BNP)|Green Party                 29\n",
       "                                 Plaid Cymru|Scottish National Party                      27\n",
       "                                 Green Party|British National Party (BNP)                 20\n",
       "                                 Change UK- The Independent Group|Other                   18\n",
       "                                 United Kingdom Independence Party (UKIP)|Plaid Cymru      8\n",
       "Name: discrepancy_pairs_2010, Length: 83, dtype: int64"
      ]
     },
     "execution_count": 287,
     "metadata": {},
     "output_type": "execute_result"
    }
   ],
   "source": [
    "df[\"discr_2010_change_dataset\"] = np.nan\n",
    "# discrep_pair = \"Other|Veritas\"\n",
    "for discrep_pair in discrepancy_pairs_2010.value_counts().index:\n",
    "    pair_first_part = discrep_pair.split(\"|\")[0]\n",
    "    if pair_first_part==\"10.0\":\n",
    "        pair_first_part=10.0    \n",
    "    temp_ser = (df.loc[discrepancy_pairs_2010[discrepancy_pairs_2010==discrep_pair].index,ppv2010]==pair_first_part).replace(False,np.nan).cumsum(axis=1).replace(True,1.0).idxmax(axis=1)\n",
    "  \n",
    "    df.loc[temp_ser.index,\"discr_2010_change_dataset\"] = temp_ser\n",
    "df.groupby(\"discr_2010_change_dataset\")[\"discrepancy_pairs_2010\"].value_counts()"
   ]
  },
  {
   "cell_type": "code",
   "execution_count": 288,
   "metadata": {},
   "outputs": [
    {
     "data": {
      "text/plain": [
       "W10_only_profile_past_vote_2010    2259\n",
       "W11_only_profile_past_vote_2010     891\n",
       "W15_only_profile_past_vote_2010    1633\n",
       "W17_only_profile_past_vote_2010     132\n",
       "W18_only_profile_past_vote_2010      62\n",
       "W19_comb_profile_past_vote_2010      81\n",
       "W19_only_profile_past_vote_2010       6\n",
       "W7_only_profile_past_vote_2010     2062\n",
       "W8_only_profile_past_vote_2010     2036\n",
       "Name: discr_2010_change_dataset, dtype: int64"
      ]
     },
     "execution_count": 288,
     "metadata": {},
     "output_type": "execute_result"
    }
   ],
   "source": [
    "df[\"discr_2010_change_dataset\"].value_counts().sort_index()"
   ]
  },
  {
   "cell_type": "code",
   "execution_count": 289,
   "metadata": {},
   "outputs": [
    {
     "data": {
      "text/plain": [
       "W10_only_profile_past_vote_2005    1830\n",
       "W11_only_profile_past_vote_2005     725\n",
       "W15_only_profile_past_vote_2005     339\n",
       "W17_only_profile_past_vote_2005      34\n",
       "W18_only_profile_past_vote_2005      12\n",
       "W19_comb_profile_past_vote_2005      24\n",
       "W4_only_profile_past_vote_2005        2\n",
       "W7_only_profile_past_vote_2005     1835\n",
       "W8_only_profile_past_vote_2005     1940\n",
       "Name: discr_2005_change_dataset, dtype: int64"
      ]
     },
     "execution_count": 289,
     "metadata": {},
     "output_type": "execute_result"
    }
   ],
   "source": [
    "df[\"discr_2005_change_dataset\"].value_counts().sort_index()"
   ]
  },
  {
   "cell_type": "code",
   "execution_count": 290,
   "metadata": {},
   "outputs": [
    {
     "data": {
      "text/plain": [
       "Labour|Conservative                                     1896\n",
       "Liberal Democrat|Labour                                 1593\n",
       "Conservative|Did not vote                               1287\n",
       "Scottish National Party|Liberal Democrat                 904\n",
       "An independent candidate|Don't know                      662\n",
       "British National Party (BNP)|Green Party                 130\n",
       "10.0|United Kingdom Independence Party (UKIP)            118\n",
       "Plaid Cymru|Scottish National Party                       57\n",
       "Brexit Party|Other                                        47\n",
       "Green Party|British National Party (BNP)                  25\n",
       "United Kingdom Independence Party (UKIP)|Plaid Cymru      20\n",
       "Change UK- The Independent Group|Other                     2\n",
       "Name: discrepancy_pairs_2005, dtype: int64"
      ]
     },
     "execution_count": 290,
     "metadata": {},
     "output_type": "execute_result"
    }
   ],
   "source": [
    "df[\"discrepancy_pairs_2005\"].value_counts()"
   ]
  },
  {
   "cell_type": "code",
   "execution_count": 291,
   "metadata": {},
   "outputs": [
    {
     "data": {
      "text/plain": [
       "Labour|Conservative                                     2946\n",
       "Liberal Democrat|Labour                                 1680\n",
       "Conservative|Did not vote                               1652\n",
       "Scottish National Party|Liberal Democrat                1634\n",
       "Brexit Party|Don't know                                  454\n",
       "10.0|United Kingdom Independence Party (UKIP)            322\n",
       "British National Party (BNP)|Green Party                 185\n",
       "Plaid Cymru|Scottish National Party                      113\n",
       "Change UK- The Independent Group|Other                    82\n",
       "Green Party|British National Party (BNP)                  65\n",
       "United Kingdom Independence Party (UKIP)|Plaid Cymru      29\n",
       "Name: discrepancy_pairs_2010, dtype: int64"
      ]
     },
     "execution_count": 291,
     "metadata": {},
     "output_type": "execute_result"
    }
   ],
   "source": [
    "df[\"discrepancy_pairs_2010\"].value_counts()"
   ]
  },
  {
   "cell_type": "code",
   "execution_count": null,
   "metadata": {},
   "outputs": [],
   "source": []
  },
  {
   "cell_type": "code",
   "execution_count": 292,
   "metadata": {},
   "outputs": [
    {
     "data": {
      "text/plain": [
       "Conservative                                8919\n",
       "Labour                                      7793\n",
       "Liberal Democrat                            4585\n",
       "Did not vote                                2657\n",
       "Scottish National Party                     1474\n",
       "Don't know                                   883\n",
       "An independent candidate                     430\n",
       "United Kingdom Independence Party (UKIP)     408\n",
       "Green Party                                  348\n",
       "Plaid Cymru                                  303\n",
       "Other                                        199\n",
       "British National Party (BNP)                 198\n",
       "10.0                                          83\n",
       "Brexit Party                                  32\n",
       "Change UK- The Independent Group               1\n",
       "Name: W7_only_profile_past_vote_2005, dtype: int64"
      ]
     },
     "execution_count": 292,
     "metadata": {},
     "output_type": "execute_result"
    }
   ],
   "source": [
    "df[\"W7_only_profile_past_vote_2005\"].value_counts()"
   ]
  },
  {
   "cell_type": "code",
   "execution_count": 308,
   "metadata": {},
   "outputs": [
    {
     "data": {
      "text/html": [
       "<div>\n",
       "<style scoped>\n",
       "    .dataframe tbody tr th:only-of-type {\n",
       "        vertical-align: middle;\n",
       "    }\n",
       "\n",
       "    .dataframe tbody tr th {\n",
       "        vertical-align: top;\n",
       "    }\n",
       "\n",
       "    .dataframe thead th {\n",
       "        text-align: right;\n",
       "    }\n",
       "</style>\n",
       "<table border=\"1\" class=\"dataframe\">\n",
       "  <thead>\n",
       "    <tr style=\"text-align: right;\">\n",
       "      <th></th>\n",
       "      <th>W19_comb_profile_past_vote_2005</th>\n",
       "      <th>W19_comb_profile_past_vote_2010</th>\n",
       "      <th>W19_only_profile_past_vote_2005</th>\n",
       "      <th>W19_only_profile_past_vote_2010</th>\n",
       "      <th>W18_only_profile_past_vote_2005</th>\n",
       "      <th>W18_only_profile_past_vote_2010</th>\n",
       "      <th>W17_only_profile_past_vote_2005</th>\n",
       "      <th>W17_only_profile_past_vote_2010</th>\n",
       "      <th>W16_only_profile_past_vote_2005</th>\n",
       "      <th>W16_only_profile_past_vote_2010</th>\n",
       "      <th>...</th>\n",
       "      <th>W3_only_profile_past_vote_2005</th>\n",
       "      <th>W3_only_profile_past_vote_2010</th>\n",
       "      <th>W2_only_profile_past_vote_2005</th>\n",
       "      <th>W2_only_profile_past_vote_2010</th>\n",
       "      <th>W1_only_profile_past_vote_2005</th>\n",
       "      <th>W1_only_profile_past_vote_2010</th>\n",
       "      <th>discrepancy_pairs_2005</th>\n",
       "      <th>discrepancy_pairs_2010</th>\n",
       "      <th>discr_2005_change_dataset</th>\n",
       "      <th>discr_2010_change_dataset</th>\n",
       "    </tr>\n",
       "  </thead>\n",
       "  <tbody>\n",
       "    <tr>\n",
       "      <th>1</th>\n",
       "      <td>Labour</td>\n",
       "      <td>United Kingdom Independence Party (UKIP)</td>\n",
       "      <td>NaN</td>\n",
       "      <td>NaN</td>\n",
       "      <td>NaN</td>\n",
       "      <td>NaN</td>\n",
       "      <td>NaN</td>\n",
       "      <td>NaN</td>\n",
       "      <td>NaN</td>\n",
       "      <td>NaN</td>\n",
       "      <td>...</td>\n",
       "      <td>NaN</td>\n",
       "      <td>NaN</td>\n",
       "      <td>Labour</td>\n",
       "      <td>United Kingdom Independence Party (UKIP)</td>\n",
       "      <td>Labour</td>\n",
       "      <td>United Kingdom Independence Party (UKIP)</td>\n",
       "      <td>NaN</td>\n",
       "      <td>NaN</td>\n",
       "      <td>NaN</td>\n",
       "      <td>NaN</td>\n",
       "    </tr>\n",
       "    <tr>\n",
       "      <th>2</th>\n",
       "      <td>Conservative</td>\n",
       "      <td>Conservative</td>\n",
       "      <td>Conservative</td>\n",
       "      <td>Conservative</td>\n",
       "      <td>Conservative</td>\n",
       "      <td>Conservative</td>\n",
       "      <td>Conservative</td>\n",
       "      <td>Conservative</td>\n",
       "      <td>NaN</td>\n",
       "      <td>NaN</td>\n",
       "      <td>...</td>\n",
       "      <td>Conservative</td>\n",
       "      <td>Conservative</td>\n",
       "      <td>NaN</td>\n",
       "      <td>NaN</td>\n",
       "      <td>Conservative</td>\n",
       "      <td>Conservative</td>\n",
       "      <td>NaN</td>\n",
       "      <td>NaN</td>\n",
       "      <td>NaN</td>\n",
       "      <td>NaN</td>\n",
       "    </tr>\n",
       "    <tr>\n",
       "      <th>3</th>\n",
       "      <td>Labour</td>\n",
       "      <td>Liberal Democrat</td>\n",
       "      <td>Labour</td>\n",
       "      <td>Liberal Democrat</td>\n",
       "      <td>NaN</td>\n",
       "      <td>NaN</td>\n",
       "      <td>NaN</td>\n",
       "      <td>NaN</td>\n",
       "      <td>Labour</td>\n",
       "      <td>Liberal Democrat</td>\n",
       "      <td>...</td>\n",
       "      <td>Labour</td>\n",
       "      <td>Liberal Democrat</td>\n",
       "      <td>Labour</td>\n",
       "      <td>Liberal Democrat</td>\n",
       "      <td>Labour</td>\n",
       "      <td>Liberal Democrat</td>\n",
       "      <td>NaN</td>\n",
       "      <td>NaN</td>\n",
       "      <td>NaN</td>\n",
       "      <td>NaN</td>\n",
       "    </tr>\n",
       "    <tr>\n",
       "      <th>4</th>\n",
       "      <td>Conservative</td>\n",
       "      <td>Conservative</td>\n",
       "      <td>NaN</td>\n",
       "      <td>NaN</td>\n",
       "      <td>NaN</td>\n",
       "      <td>NaN</td>\n",
       "      <td>NaN</td>\n",
       "      <td>NaN</td>\n",
       "      <td>NaN</td>\n",
       "      <td>NaN</td>\n",
       "      <td>...</td>\n",
       "      <td>NaN</td>\n",
       "      <td>NaN</td>\n",
       "      <td>Conservative</td>\n",
       "      <td>Conservative</td>\n",
       "      <td>Conservative</td>\n",
       "      <td>Conservative</td>\n",
       "      <td>NaN</td>\n",
       "      <td>NaN</td>\n",
       "      <td>NaN</td>\n",
       "      <td>NaN</td>\n",
       "    </tr>\n",
       "    <tr>\n",
       "      <th>5</th>\n",
       "      <td>Did not vote</td>\n",
       "      <td>Liberal Democrat</td>\n",
       "      <td>NaN</td>\n",
       "      <td>NaN</td>\n",
       "      <td>NaN</td>\n",
       "      <td>NaN</td>\n",
       "      <td>NaN</td>\n",
       "      <td>NaN</td>\n",
       "      <td>NaN</td>\n",
       "      <td>NaN</td>\n",
       "      <td>...</td>\n",
       "      <td>NaN</td>\n",
       "      <td>NaN</td>\n",
       "      <td>Did not vote</td>\n",
       "      <td>Liberal Democrat</td>\n",
       "      <td>Did not vote</td>\n",
       "      <td>Liberal Democrat</td>\n",
       "      <td>NaN</td>\n",
       "      <td>NaN</td>\n",
       "      <td>NaN</td>\n",
       "      <td>NaN</td>\n",
       "    </tr>\n",
       "    <tr>\n",
       "      <th>...</th>\n",
       "      <td>...</td>\n",
       "      <td>...</td>\n",
       "      <td>...</td>\n",
       "      <td>...</td>\n",
       "      <td>...</td>\n",
       "      <td>...</td>\n",
       "      <td>...</td>\n",
       "      <td>...</td>\n",
       "      <td>...</td>\n",
       "      <td>...</td>\n",
       "      <td>...</td>\n",
       "      <td>...</td>\n",
       "      <td>...</td>\n",
       "      <td>...</td>\n",
       "      <td>...</td>\n",
       "      <td>...</td>\n",
       "      <td>...</td>\n",
       "      <td>...</td>\n",
       "      <td>...</td>\n",
       "      <td>...</td>\n",
       "      <td>...</td>\n",
       "    </tr>\n",
       "    <tr>\n",
       "      <th>98447</th>\n",
       "      <td>NaN</td>\n",
       "      <td>NaN</td>\n",
       "      <td>NaN</td>\n",
       "      <td>NaN</td>\n",
       "      <td>NaN</td>\n",
       "      <td>NaN</td>\n",
       "      <td>NaN</td>\n",
       "      <td>NaN</td>\n",
       "      <td>NaN</td>\n",
       "      <td>NaN</td>\n",
       "      <td>...</td>\n",
       "      <td>NaN</td>\n",
       "      <td>NaN</td>\n",
       "      <td>NaN</td>\n",
       "      <td>NaN</td>\n",
       "      <td>NaN</td>\n",
       "      <td>NaN</td>\n",
       "      <td>NaN</td>\n",
       "      <td>NaN</td>\n",
       "      <td>NaN</td>\n",
       "      <td>NaN</td>\n",
       "    </tr>\n",
       "    <tr>\n",
       "      <th>98448</th>\n",
       "      <td>NaN</td>\n",
       "      <td>NaN</td>\n",
       "      <td>NaN</td>\n",
       "      <td>NaN</td>\n",
       "      <td>NaN</td>\n",
       "      <td>NaN</td>\n",
       "      <td>NaN</td>\n",
       "      <td>NaN</td>\n",
       "      <td>NaN</td>\n",
       "      <td>NaN</td>\n",
       "      <td>...</td>\n",
       "      <td>NaN</td>\n",
       "      <td>NaN</td>\n",
       "      <td>NaN</td>\n",
       "      <td>NaN</td>\n",
       "      <td>NaN</td>\n",
       "      <td>NaN</td>\n",
       "      <td>NaN</td>\n",
       "      <td>NaN</td>\n",
       "      <td>NaN</td>\n",
       "      <td>NaN</td>\n",
       "    </tr>\n",
       "    <tr>\n",
       "      <th>98449</th>\n",
       "      <td>NaN</td>\n",
       "      <td>NaN</td>\n",
       "      <td>NaN</td>\n",
       "      <td>NaN</td>\n",
       "      <td>NaN</td>\n",
       "      <td>NaN</td>\n",
       "      <td>NaN</td>\n",
       "      <td>NaN</td>\n",
       "      <td>NaN</td>\n",
       "      <td>NaN</td>\n",
       "      <td>...</td>\n",
       "      <td>NaN</td>\n",
       "      <td>NaN</td>\n",
       "      <td>NaN</td>\n",
       "      <td>NaN</td>\n",
       "      <td>NaN</td>\n",
       "      <td>NaN</td>\n",
       "      <td>NaN</td>\n",
       "      <td>NaN</td>\n",
       "      <td>NaN</td>\n",
       "      <td>NaN</td>\n",
       "    </tr>\n",
       "    <tr>\n",
       "      <th>98450</th>\n",
       "      <td>NaN</td>\n",
       "      <td>NaN</td>\n",
       "      <td>NaN</td>\n",
       "      <td>NaN</td>\n",
       "      <td>NaN</td>\n",
       "      <td>NaN</td>\n",
       "      <td>NaN</td>\n",
       "      <td>NaN</td>\n",
       "      <td>NaN</td>\n",
       "      <td>NaN</td>\n",
       "      <td>...</td>\n",
       "      <td>NaN</td>\n",
       "      <td>NaN</td>\n",
       "      <td>NaN</td>\n",
       "      <td>NaN</td>\n",
       "      <td>NaN</td>\n",
       "      <td>NaN</td>\n",
       "      <td>NaN</td>\n",
       "      <td>NaN</td>\n",
       "      <td>NaN</td>\n",
       "      <td>NaN</td>\n",
       "    </tr>\n",
       "    <tr>\n",
       "      <th>98451</th>\n",
       "      <td>NaN</td>\n",
       "      <td>NaN</td>\n",
       "      <td>NaN</td>\n",
       "      <td>NaN</td>\n",
       "      <td>NaN</td>\n",
       "      <td>NaN</td>\n",
       "      <td>NaN</td>\n",
       "      <td>NaN</td>\n",
       "      <td>NaN</td>\n",
       "      <td>NaN</td>\n",
       "      <td>...</td>\n",
       "      <td>NaN</td>\n",
       "      <td>NaN</td>\n",
       "      <td>NaN</td>\n",
       "      <td>NaN</td>\n",
       "      <td>NaN</td>\n",
       "      <td>NaN</td>\n",
       "      <td>NaN</td>\n",
       "      <td>NaN</td>\n",
       "      <td>NaN</td>\n",
       "      <td>NaN</td>\n",
       "    </tr>\n",
       "  </tbody>\n",
       "</table>\n",
       "<p>97158 rows × 38 columns</p>\n",
       "</div>"
      ],
      "text/plain": [
       "      W19_comb_profile_past_vote_2005  \\\n",
       "1                              Labour   \n",
       "2                        Conservative   \n",
       "3                              Labour   \n",
       "4                        Conservative   \n",
       "5                        Did not vote   \n",
       "...                               ...   \n",
       "98447                             NaN   \n",
       "98448                             NaN   \n",
       "98449                             NaN   \n",
       "98450                             NaN   \n",
       "98451                             NaN   \n",
       "\n",
       "                W19_comb_profile_past_vote_2010  \\\n",
       "1      United Kingdom Independence Party (UKIP)   \n",
       "2                                  Conservative   \n",
       "3                              Liberal Democrat   \n",
       "4                                  Conservative   \n",
       "5                              Liberal Democrat   \n",
       "...                                         ...   \n",
       "98447                                       NaN   \n",
       "98448                                       NaN   \n",
       "98449                                       NaN   \n",
       "98450                                       NaN   \n",
       "98451                                       NaN   \n",
       "\n",
       "      W19_only_profile_past_vote_2005 W19_only_profile_past_vote_2010  \\\n",
       "1                                 NaN                             NaN   \n",
       "2                        Conservative                    Conservative   \n",
       "3                              Labour                Liberal Democrat   \n",
       "4                                 NaN                             NaN   \n",
       "5                                 NaN                             NaN   \n",
       "...                               ...                             ...   \n",
       "98447                             NaN                             NaN   \n",
       "98448                             NaN                             NaN   \n",
       "98449                             NaN                             NaN   \n",
       "98450                             NaN                             NaN   \n",
       "98451                             NaN                             NaN   \n",
       "\n",
       "      W18_only_profile_past_vote_2005 W18_only_profile_past_vote_2010  \\\n",
       "1                                 NaN                             NaN   \n",
       "2                        Conservative                    Conservative   \n",
       "3                                 NaN                             NaN   \n",
       "4                                 NaN                             NaN   \n",
       "5                                 NaN                             NaN   \n",
       "...                               ...                             ...   \n",
       "98447                             NaN                             NaN   \n",
       "98448                             NaN                             NaN   \n",
       "98449                             NaN                             NaN   \n",
       "98450                             NaN                             NaN   \n",
       "98451                             NaN                             NaN   \n",
       "\n",
       "      W17_only_profile_past_vote_2005 W17_only_profile_past_vote_2010  \\\n",
       "1                                 NaN                             NaN   \n",
       "2                        Conservative                    Conservative   \n",
       "3                                 NaN                             NaN   \n",
       "4                                 NaN                             NaN   \n",
       "5                                 NaN                             NaN   \n",
       "...                               ...                             ...   \n",
       "98447                             NaN                             NaN   \n",
       "98448                             NaN                             NaN   \n",
       "98449                             NaN                             NaN   \n",
       "98450                             NaN                             NaN   \n",
       "98451                             NaN                             NaN   \n",
       "\n",
       "      W16_only_profile_past_vote_2005 W16_only_profile_past_vote_2010  ...  \\\n",
       "1                                 NaN                             NaN  ...   \n",
       "2                                 NaN                             NaN  ...   \n",
       "3                              Labour                Liberal Democrat  ...   \n",
       "4                                 NaN                             NaN  ...   \n",
       "5                                 NaN                             NaN  ...   \n",
       "...                               ...                             ...  ...   \n",
       "98447                             NaN                             NaN  ...   \n",
       "98448                             NaN                             NaN  ...   \n",
       "98449                             NaN                             NaN  ...   \n",
       "98450                             NaN                             NaN  ...   \n",
       "98451                             NaN                             NaN  ...   \n",
       "\n",
       "      W3_only_profile_past_vote_2005 W3_only_profile_past_vote_2010  \\\n",
       "1                                NaN                            NaN   \n",
       "2                       Conservative                   Conservative   \n",
       "3                             Labour               Liberal Democrat   \n",
       "4                                NaN                            NaN   \n",
       "5                                NaN                            NaN   \n",
       "...                              ...                            ...   \n",
       "98447                            NaN                            NaN   \n",
       "98448                            NaN                            NaN   \n",
       "98449                            NaN                            NaN   \n",
       "98450                            NaN                            NaN   \n",
       "98451                            NaN                            NaN   \n",
       "\n",
       "      W2_only_profile_past_vote_2005  \\\n",
       "1                             Labour   \n",
       "2                                NaN   \n",
       "3                             Labour   \n",
       "4                       Conservative   \n",
       "5                       Did not vote   \n",
       "...                              ...   \n",
       "98447                            NaN   \n",
       "98448                            NaN   \n",
       "98449                            NaN   \n",
       "98450                            NaN   \n",
       "98451                            NaN   \n",
       "\n",
       "                 W2_only_profile_past_vote_2010  \\\n",
       "1      United Kingdom Independence Party (UKIP)   \n",
       "2                                           NaN   \n",
       "3                              Liberal Democrat   \n",
       "4                                  Conservative   \n",
       "5                              Liberal Democrat   \n",
       "...                                         ...   \n",
       "98447                                       NaN   \n",
       "98448                                       NaN   \n",
       "98449                                       NaN   \n",
       "98450                                       NaN   \n",
       "98451                                       NaN   \n",
       "\n",
       "      W1_only_profile_past_vote_2005  \\\n",
       "1                             Labour   \n",
       "2                       Conservative   \n",
       "3                             Labour   \n",
       "4                       Conservative   \n",
       "5                       Did not vote   \n",
       "...                              ...   \n",
       "98447                            NaN   \n",
       "98448                            NaN   \n",
       "98449                            NaN   \n",
       "98450                            NaN   \n",
       "98451                            NaN   \n",
       "\n",
       "                 W1_only_profile_past_vote_2010 discrepancy_pairs_2005  \\\n",
       "1      United Kingdom Independence Party (UKIP)                    NaN   \n",
       "2                                  Conservative                    NaN   \n",
       "3                              Liberal Democrat                    NaN   \n",
       "4                                  Conservative                    NaN   \n",
       "5                              Liberal Democrat                    NaN   \n",
       "...                                         ...                    ...   \n",
       "98447                                       NaN                    NaN   \n",
       "98448                                       NaN                    NaN   \n",
       "98449                                       NaN                    NaN   \n",
       "98450                                       NaN                    NaN   \n",
       "98451                                       NaN                    NaN   \n",
       "\n",
       "      discrepancy_pairs_2010 discr_2005_change_dataset  \\\n",
       "1                        NaN                       NaN   \n",
       "2                        NaN                       NaN   \n",
       "3                        NaN                       NaN   \n",
       "4                        NaN                       NaN   \n",
       "5                        NaN                       NaN   \n",
       "...                      ...                       ...   \n",
       "98447                    NaN                       NaN   \n",
       "98448                    NaN                       NaN   \n",
       "98449                    NaN                       NaN   \n",
       "98450                    NaN                       NaN   \n",
       "98451                    NaN                       NaN   \n",
       "\n",
       "      discr_2010_change_dataset  \n",
       "1                           NaN  \n",
       "2                           NaN  \n",
       "3                           NaN  \n",
       "4                           NaN  \n",
       "5                           NaN  \n",
       "...                         ...  \n",
       "98447                       NaN  \n",
       "98448                       NaN  \n",
       "98449                       NaN  \n",
       "98450                       NaN  \n",
       "98451                       NaN  \n",
       "\n",
       "[97158 rows x 38 columns]"
      ]
     },
     "execution_count": 308,
     "metadata": {},
     "output_type": "execute_result"
    }
   ],
   "source": [
    "df"
   ]
  },
  {
   "cell_type": "code",
   "execution_count": 293,
   "metadata": {},
   "outputs": [],
   "source": [
    "DNV2005 = (df[\"W7_only_profile_past_vote_2005\"]==\"Did not vote\")\n",
    "DNV2010 = (df[\"W7_only_profile_past_vote_2010\"]==\"Did not vote\")"
   ]
  },
  {
   "cell_type": "code",
   "execution_count": 310,
   "metadata": {},
   "outputs": [],
   "source": [
    "BES_Panel = BES_Panel.set_index(\"id\").sort_index()"
   ]
  },
  {
   "cell_type": "code",
   "execution_count": 311,
   "metadata": {},
   "outputs": [],
   "source": [
    "first_wave_joined_panel = BES_Panel[search(BES_Panel,\"wave\\d+\").index].replace(False,np.nan).fillna(method='ffill',axis=1).replace(np.nan,False).astype('bool')\n",
    "first_wave_joined_panel.columns = [int(x.replace(\"wave\",\"\")) for x in first_wave_joined_panel.columns]"
   ]
  },
  {
   "cell_type": "code",
   "execution_count": 313,
   "metadata": {},
   "outputs": [
    {
     "name": "stdout",
     "output_type": "stream",
     "text": [
      "1 1661 714 1990 667\n",
      "2 1836 539 2180 477\n",
      "3 2028 347 2298 359\n",
      "4 2374 1 2657 0\n",
      "5 2375 0 2657 0\n",
      "6 2375 0 2657 0\n",
      "7 2375 0 2657 0\n",
      "8 2375 0 2657 0\n",
      "9 2375 0 2657 0\n",
      "10 2375 0 2657 0\n",
      "11 2375 0 2657 0\n",
      "12 2375 0 2657 0\n",
      "13 2375 0 2657 0\n",
      "14 2375 0 2657 0\n",
      "15 2375 0 2657 0\n",
      "16 2375 0 2657 0\n",
      "17 2375 0 2657 0\n",
      "18 2375 0 2657 0\n",
      "19 2375 0 2657 0\n"
     ]
    }
   ],
   "source": [
    "for wave in range(1,20):\n",
    "    mask  = list(set(first_wave_joined_panel[first_wave_joined_panel[wave]].index).union()  )\n",
    "    print( wave,\n",
    "          DNV2010.loc[first_wave_joined_panel[first_wave_joined_panel[wave]].index].sum(),\n",
    "          DNV2010.loc[first_wave_joined_panel[~first_wave_joined_panel[wave]].index].sum(),\n",
    "          DNV2005.loc[first_wave_joined_panel[first_wave_joined_panel[wave]].index].sum(),\n",
    "          DNV2005.loc[first_wave_joined_panel[~first_wave_joined_panel[wave]].index].sum(),\n",
    "         )"
   ]
  },
  {
   "cell_type": "code",
   "execution_count": 309,
   "metadata": {},
   "outputs": [
    {
     "data": {
      "text/plain": [
       "((97158, 38), (97158, 7911))"
      ]
     },
     "execution_count": 309,
     "metadata": {},
     "output_type": "execute_result"
    }
   ],
   "source": [
    "df.shape, BES_Panel.shape"
   ]
  },
  {
   "cell_type": "markdown",
   "metadata": {},
   "source": []
  },
  {
   "cell_type": "code",
   "execution_count": 300,
   "metadata": {},
   "outputs": [],
   "source": [
    "temp_df = df.copy()"
   ]
  },
  {
   "cell_type": "code",
   "execution_count": 303,
   "metadata": {},
   "outputs": [],
   "source": [
    "df = temp_df.copy()"
   ]
  },
  {
   "cell_type": "code",
   "execution_count": null,
   "metadata": {},
   "outputs": [],
   "source": []
  },
  {
   "cell_type": "code",
   "execution_count": 322,
   "metadata": {},
   "outputs": [],
   "source": [
    "var_counts = pd.DataFrame.from_dict( {k:v for k,v in var_dict.items() if k in present_in_datasets} , orient='index').stack().value_counts()"
   ]
  },
  {
   "cell_type": "code",
   "execution_count": 327,
   "metadata": {},
   "outputs": [
    {
     "data": {
      "text/plain": [
       "Index(['housing', 'profile_past_vote_2005', 'profile_turnout_2017',\n",
       "       'profile_past_vote_2017', 'euRefLA', 'profile_past_vote_2010',\n",
       "       'profile_newspaper', 'profile_scotref_turnout', 'profile_turnout_2015',\n",
       "       'profile_gross_household', 'profile_lea', 'profile_eurefvote',\n",
       "       'profile_past_vote_2015', 'profile_gross_personal', 'disability',\n",
       "       'profile_household_children', 'gender', 'profile_scotref_vote',\n",
       "       'profile_education_age', 'marital', 'ageGroup'],\n",
       "      dtype='object')"
      ]
     },
     "execution_count": 327,
     "metadata": {},
     "output_type": "execute_result"
    }
   ],
   "source": [
    "var_counts[var_counts==17].index"
   ]
  },
  {
   "cell_type": "code",
   "execution_count": 388,
   "metadata": {},
   "outputs": [
    {
     "data": {
      "text/plain": [
       "Index(['natSecurityGrn', 'profile_work_type', 'responsibleDebtEU',\n",
       "       'responsibleImmigLibDems', 'happyEULeave', 'scotRefID4', 'respdate',\n",
       "       'responsibleDebtDontKnow', 'approveEU', 'responsibleCostLiveLab',\n",
       "       ...\n",
       "       'responsibleEducationWelshGovt', 'responsibleImmigConservatives',\n",
       "       'responsibleImmigLabour', 'partyContactBrexit_4',\n",
       "       'responsibleNHSScottishGovt', 'partyContactBrexit_7', 'refAreGood',\n",
       "       'responsibleCostLiveNone', 'beliefTradeoff',\n",
       "       'responsibleEducationScotGovt'],\n",
       "      dtype='object', length=116)"
      ]
     },
     "execution_count": 388,
     "metadata": {},
     "output_type": "execute_result"
    }
   ],
   "source": [
    "var_counts[var_counts==4].index"
   ]
  },
  {
   "cell_type": "code",
   "execution_count": null,
   "metadata": {},
   "outputs": [],
   "source": [
    "# profile_eurefturnout, profile_ethnicity, profile_religion, countryOfBirth, profile_past_vote_2015"
   ]
  },
  {
   "cell_type": "code",
   "execution_count": 373,
   "metadata": {},
   "outputs": [
    {
     "data": {
      "text/plain": [
       "1     8383\n",
       "2      913\n",
       "3      127\n",
       "4      116\n",
       "5       97\n",
       "6       55\n",
       "7       57\n",
       "8       22\n",
       "9       39\n",
       "10      34\n",
       "11      21\n",
       "12      13\n",
       "13      69\n",
       "14      25\n",
       "15      25\n",
       "16      18\n",
       "17      21\n",
       "dtype: int64"
      ]
     },
     "execution_count": 373,
     "metadata": {},
     "output_type": "execute_result"
    }
   ],
   "source": [
    "var_counts.value_counts().sort_index()"
   ]
  },
  {
   "cell_type": "code",
   "execution_count": 330,
   "metadata": {},
   "outputs": [
    {
     "data": {
      "text/html": [
       "['W19_comb', 'W19_only', 'W18_only', 'W17_only', 'W16_only', 'W15_only', 'W11_only', 'W10_only', 'W9_only', 'W8_only', 'W7_only', 'W6_only', 'W5_only', 'W4_only', 'W3_only', 'W2_only', 'W1_only']"
      ],
      "text/plain": [
       "['W19_comb',\n",
       " 'W19_only',\n",
       " 'W18_only',\n",
       " 'W17_only',\n",
       " 'W16_only',\n",
       " 'W15_only',\n",
       " 'W11_only',\n",
       " 'W10_only',\n",
       " 'W9_only',\n",
       " 'W8_only',\n",
       " 'W7_only',\n",
       " 'W6_only',\n",
       " 'W5_only',\n",
       " 'W4_only',\n",
       " 'W3_only',\n",
       " 'W2_only',\n",
       " 'W1_only']"
      ]
     },
     "execution_count": 330,
     "metadata": {},
     "output_type": "execute_result"
    }
   ],
   "source": [
    "present_in_datasets"
   ]
  },
  {
   "cell_type": "code",
   "execution_count": 333,
   "metadata": {},
   "outputs": [
    {
     "name": "stdout",
     "output_type": "stream",
     "text": [
      "Wall time: 51.7 s\n"
     ]
    }
   ],
   "source": [
    "%%time\n",
    "(BES_code_folder, BES_small_data_files, BES_data_folder,\n",
    " BES_output_folder, BES_file_manifest, BES_R_data_files) = setup_directories()\n",
    "\n",
    "global BES_Panel, BES_numeric, BES_reduced, BES_reduced_with_na, BES_non_numeric\n",
    "\n",
    "df = pd.DataFrame()\n",
    "var_list = list(var_counts[var_counts==17].index)\n",
    "\n",
    "for dataset_name in present_in_datasets:\n",
    "    \n",
    "    data_subfolder = BES_data_folder + dataset_name + os.sep\n",
    "\n",
    "    (manifest, dataset_filename, dataset_description, dataset_citation,\n",
    "     dataset_start, dataset_stop, dataset_wave) = get_manifest(dataset_name, BES_file_manifest)    \n",
    "    BES_Panel = pd.read_pickle(data_subfolder + dataset_filename.replace('.dta','.zip'),compression='zip')\n",
    "    if \"id\" in BES_Panel.columns:\n",
    "        temp = BES_Panel[var_list+[\"id\"]].set_index(\"id\").sort_index()\n",
    "    else:\n",
    "        temp = BES_Panel[var_list]\n",
    "    temp.columns = [dataset_name+\"_\"+x for x in temp.columns]\n",
    "    df = pd.concat([df,temp],axis=1)\n",
    "    \n",
    "df.index = df.index.astype('int')\n",
    "# note - no extra rows over W19    "
   ]
  },
  {
   "cell_type": "code",
   "execution_count": 334,
   "metadata": {},
   "outputs": [
    {
     "name": "stdout",
     "output_type": "stream",
     "text": [
      "Wall time: 20min 46s\n"
     ]
    }
   ],
   "source": [
    "%%time\n",
    "\n",
    "number_of_unique_responses_per_row = {}\n",
    "\n",
    "for focal_var in var_list:\n",
    "    var_cols = [x for x in df.columns if focal_var in x]\n",
    "\n",
    "    number_of_unique_responses_per_row[focal_var] = df[var_cols].apply(lambda x: len((x.dropna()).unique()),axis=1)\n",
    "    number_of_unique_responses_per_row[focal_var].value_counts()"
   ]
  },
  {
   "cell_type": "code",
   "execution_count": 338,
   "metadata": {},
   "outputs": [
    {
     "name": "stdout",
     "output_type": "stream",
     "text": [
      "housing\n"
     ]
    },
    {
     "data": {
      "text/plain": [
       "0    65301\n",
       "1    31857\n",
       "dtype: int64"
      ]
     },
     "metadata": {},
     "output_type": "display_data"
    },
    {
     "name": "stdout",
     "output_type": "stream",
     "text": [
      "profile_past_vote_2005\n"
     ]
    },
    {
     "data": {
      "text/plain": [
       "1    50268\n",
       "0    40149\n",
       "2     6741\n",
       "dtype: int64"
      ]
     },
     "metadata": {},
     "output_type": "display_data"
    },
    {
     "name": "stdout",
     "output_type": "stream",
     "text": [
      "profile_turnout_2017\n"
     ]
    },
    {
     "data": {
      "text/plain": [
       "1    70322\n",
       "0    26836\n",
       "dtype: int64"
      ]
     },
     "metadata": {},
     "output_type": "display_data"
    },
    {
     "name": "stdout",
     "output_type": "stream",
     "text": [
      "profile_past_vote_2017\n"
     ]
    },
    {
     "data": {
      "text/plain": [
       "1    60451\n",
       "0    36707\n",
       "dtype: int64"
      ]
     },
     "metadata": {},
     "output_type": "display_data"
    },
    {
     "name": "stdout",
     "output_type": "stream",
     "text": [
      "euRefLA\n"
     ]
    },
    {
     "data": {
      "text/plain": [
       "1    93773\n",
       "0     3385\n",
       "dtype: int64"
      ]
     },
     "metadata": {},
     "output_type": "display_data"
    },
    {
     "name": "stdout",
     "output_type": "stream",
     "text": [
      "profile_past_vote_2010\n"
     ]
    },
    {
     "data": {
      "text/plain": [
       "1    56419\n",
       "0    31577\n",
       "2     9162\n",
       "dtype: int64"
      ]
     },
     "metadata": {},
     "output_type": "display_data"
    },
    {
     "name": "stdout",
     "output_type": "stream",
     "text": [
      "profile_newspaper\n"
     ]
    },
    {
     "data": {
      "text/plain": [
       "1    56739\n",
       "0    30228\n",
       "2     9731\n",
       "3      460\n",
       "dtype: int64"
      ]
     },
     "metadata": {},
     "output_type": "display_data"
    },
    {
     "name": "stdout",
     "output_type": "stream",
     "text": [
      "profile_scotref_turnout\n"
     ]
    },
    {
     "data": {
      "text/plain": [
       "0    87199\n",
       "1     9959\n",
       "dtype: int64"
      ]
     },
     "metadata": {},
     "output_type": "display_data"
    },
    {
     "name": "stdout",
     "output_type": "stream",
     "text": [
      "profile_turnout_2015\n"
     ]
    },
    {
     "data": {
      "text/plain": [
       "1    77713\n",
       "0    19328\n",
       "2      117\n",
       "dtype: int64"
      ]
     },
     "metadata": {},
     "output_type": "display_data"
    },
    {
     "name": "stdout",
     "output_type": "stream",
     "text": [
      "profile_gross_household\n"
     ]
    },
    {
     "data": {
      "text/plain": [
       "1    39499\n",
       "2    27572\n",
       "3    14400\n",
       "0     9005\n",
       "4     5190\n",
       "5     1325\n",
       "6      161\n",
       "7        6\n",
       "dtype: int64"
      ]
     },
     "metadata": {},
     "output_type": "display_data"
    },
    {
     "name": "stdout",
     "output_type": "stream",
     "text": [
      "profile_lea\n"
     ]
    },
    {
     "data": {
      "text/plain": [
       "1    54633\n",
       "0    42525\n",
       "dtype: int64"
      ]
     },
     "metadata": {},
     "output_type": "display_data"
    },
    {
     "name": "stdout",
     "output_type": "stream",
     "text": [
      "profile_eurefvote\n"
     ]
    },
    {
     "data": {
      "text/plain": [
       "1    68514\n",
       "0    28644\n",
       "dtype: int64"
      ]
     },
     "metadata": {},
     "output_type": "display_data"
    },
    {
     "name": "stdout",
     "output_type": "stream",
     "text": [
      "profile_past_vote_2015\n"
     ]
    },
    {
     "data": {
      "text/plain": [
       "1    71125\n",
       "0    26033\n",
       "dtype: int64"
      ]
     },
     "metadata": {},
     "output_type": "display_data"
    },
    {
     "name": "stdout",
     "output_type": "stream",
     "text": [
      "profile_gross_personal\n"
     ]
    },
    {
     "data": {
      "text/plain": [
       "1    55276\n",
       "0    22902\n",
       "2    18460\n",
       "3      520\n",
       "dtype: int64"
      ]
     },
     "metadata": {},
     "output_type": "display_data"
    },
    {
     "name": "stdout",
     "output_type": "stream",
     "text": [
      "disability\n"
     ]
    },
    {
     "data": {
      "text/plain": [
       "1    51225\n",
       "0    33356\n",
       "2    11798\n",
       "3      779\n",
       "dtype: int64"
      ]
     },
     "metadata": {},
     "output_type": "display_data"
    },
    {
     "name": "stdout",
     "output_type": "stream",
     "text": [
      "profile_household_children\n"
     ]
    },
    {
     "data": {
      "text/plain": [
       "1    73757\n",
       "0    19313\n",
       "2     4080\n",
       "3        8\n",
       "dtype: int64"
      ]
     },
     "metadata": {},
     "output_type": "display_data"
    },
    {
     "name": "stdout",
     "output_type": "stream",
     "text": [
      "gender\n"
     ]
    },
    {
     "data": {
      "text/plain": [
       "1    96521\n",
       "0      629\n",
       "2        8\n",
       "dtype: int64"
      ]
     },
     "metadata": {},
     "output_type": "display_data"
    },
    {
     "name": "stdout",
     "output_type": "stream",
     "text": [
      "profile_scotref_vote\n"
     ]
    },
    {
     "data": {
      "text/plain": [
       "0    88359\n",
       "1     8799\n",
       "dtype: int64"
      ]
     },
     "metadata": {},
     "output_type": "display_data"
    },
    {
     "name": "stdout",
     "output_type": "stream",
     "text": [
      "profile_education_age\n"
     ]
    },
    {
     "data": {
      "text/plain": [
       "1    39216\n",
       "0    23432\n",
       "2    21590\n",
       "3    12920\n",
       "dtype: int64"
      ]
     },
     "metadata": {},
     "output_type": "display_data"
    },
    {
     "name": "stdout",
     "output_type": "stream",
     "text": [
      "marital\n"
     ]
    },
    {
     "data": {
      "text/plain": [
       "1    64090\n",
       "0    33068\n",
       "dtype: int64"
      ]
     },
     "metadata": {},
     "output_type": "display_data"
    },
    {
     "name": "stdout",
     "output_type": "stream",
     "text": [
      "ageGroup\n"
     ]
    },
    {
     "data": {
      "text/plain": [
       "1    66930\n",
       "0    30228\n",
       "dtype: int64"
      ]
     },
     "metadata": {},
     "output_type": "display_data"
    }
   ],
   "source": [
    "for key in number_of_unique_responses_per_row.keys():\n",
    "    print(key)\n",
    "    display(number_of_unique_responses_per_row[key].value_counts())"
   ]
  },
  {
   "cell_type": "code",
   "execution_count": null,
   "metadata": {},
   "outputs": [],
   "source": [
    "# discrepancy_pairs_2005 = df[ppv2005].loc[  number_of_unique_responses_per_row_2005==2 ].dropna(how='all',axis=1).apply(lambda x: \"|\".join([str(x) for x in x.dropna().unique()]),axis=1)"
   ]
  },
  {
   "cell_type": "code",
   "execution_count": 339,
   "metadata": {},
   "outputs": [
    {
     "name": "stdout",
     "output_type": "stream",
     "text": [
      "Wall time: 1min 35s\n"
     ]
    }
   ],
   "source": [
    "%%time\n",
    "\n",
    "for focal_var in var_list:\n",
    "    var_cols = [x for x in df.columns if focal_var in x]\n",
    "    df[\"nuniq_\"+focal_var] = number_of_unique_responses_per_row[focal_var]\n",
    "    df[\"discrep_\"+focal_var] = df[var_cols].loc[  df[\"nuniq_\"+focal_var]>=2 ].dropna(how='all',axis=1).apply(lambda x: \"|\".join([str(x) for x in x.dropna().unique()]),axis=1)\n",
    "    "
   ]
  },
  {
   "cell_type": "code",
   "execution_count": 342,
   "metadata": {},
   "outputs": [
    {
     "data": {
      "text/html": [
       "<div>\n",
       "<style scoped>\n",
       "    .dataframe tbody tr th:only-of-type {\n",
       "        vertical-align: middle;\n",
       "    }\n",
       "\n",
       "    .dataframe tbody tr th {\n",
       "        vertical-align: top;\n",
       "    }\n",
       "\n",
       "    .dataframe thead th {\n",
       "        text-align: right;\n",
       "    }\n",
       "</style>\n",
       "<table border=\"1\" class=\"dataframe\">\n",
       "  <thead>\n",
       "    <tr style=\"text-align: right;\">\n",
       "      <th></th>\n",
       "      <th>W19_comb_housing</th>\n",
       "      <th>W19_comb_profile_past_vote_2005</th>\n",
       "      <th>W19_comb_profile_turnout_2017</th>\n",
       "      <th>W19_comb_profile_past_vote_2017</th>\n",
       "      <th>W19_comb_euRefLA</th>\n",
       "      <th>W19_comb_profile_past_vote_2010</th>\n",
       "      <th>W19_comb_profile_newspaper</th>\n",
       "      <th>W19_comb_profile_scotref_turnout</th>\n",
       "      <th>W19_comb_profile_turnout_2015</th>\n",
       "      <th>W19_comb_profile_gross_household</th>\n",
       "      <th>...</th>\n",
       "      <th>nuniq_gender</th>\n",
       "      <th>discrep_gender</th>\n",
       "      <th>nuniq_profile_scotref_vote</th>\n",
       "      <th>discrep_profile_scotref_vote</th>\n",
       "      <th>nuniq_profile_education_age</th>\n",
       "      <th>discrep_profile_education_age</th>\n",
       "      <th>nuniq_marital</th>\n",
       "      <th>discrep_marital</th>\n",
       "      <th>nuniq_ageGroup</th>\n",
       "      <th>discrep_ageGroup</th>\n",
       "    </tr>\n",
       "  </thead>\n",
       "  <tbody>\n",
       "    <tr>\n",
       "      <th>1</th>\n",
       "      <td>Own the leasehold/freehold outright</td>\n",
       "      <td>Labour</td>\n",
       "      <td>NaN</td>\n",
       "      <td>NaN</td>\n",
       "      <td>E06000050</td>\n",
       "      <td>United Kingdom Independence Party (UKIP)</td>\n",
       "      <td>The Mirror / Daily Record</td>\n",
       "      <td>NaN</td>\n",
       "      <td>Yes, voted</td>\n",
       "      <td>Â£10,000 to Â£14,999 per year</td>\n",
       "      <td>...</td>\n",
       "      <td>1</td>\n",
       "      <td>NaN</td>\n",
       "      <td>0</td>\n",
       "      <td>NaN</td>\n",
       "      <td>1</td>\n",
       "      <td>NaN</td>\n",
       "      <td>1</td>\n",
       "      <td>NaN</td>\n",
       "      <td>1</td>\n",
       "      <td>NaN</td>\n",
       "    </tr>\n",
       "    <tr>\n",
       "      <th>2</th>\n",
       "      <td>Own the leasehold/freehold outright</td>\n",
       "      <td>Conservative</td>\n",
       "      <td>Yes, voted</td>\n",
       "      <td>Conservative</td>\n",
       "      <td>E07000215</td>\n",
       "      <td>Conservative</td>\n",
       "      <td>The Daily Telegraph</td>\n",
       "      <td>NaN</td>\n",
       "      <td>Yes, voted</td>\n",
       "      <td>Â£50,000 to Â£59,999 per year</td>\n",
       "      <td>...</td>\n",
       "      <td>1</td>\n",
       "      <td>NaN</td>\n",
       "      <td>0</td>\n",
       "      <td>NaN</td>\n",
       "      <td>3</td>\n",
       "      <td>20+|d|Foreman or Supervisor of Other Workers (...</td>\n",
       "      <td>1</td>\n",
       "      <td>NaN</td>\n",
       "      <td>1</td>\n",
       "      <td>NaN</td>\n",
       "    </tr>\n",
       "    <tr>\n",
       "      <th>3</th>\n",
       "      <td>Own the leasehold/freehold outright</td>\n",
       "      <td>Labour</td>\n",
       "      <td>Yes, voted</td>\n",
       "      <td>Labour</td>\n",
       "      <td>E07000136</td>\n",
       "      <td>Liberal Democrat</td>\n",
       "      <td>The Mirror / Daily Record</td>\n",
       "      <td>NaN</td>\n",
       "      <td>Yes, voted</td>\n",
       "      <td>Â£5,000 to Â£9,999 per year</td>\n",
       "      <td>...</td>\n",
       "      <td>1</td>\n",
       "      <td>NaN</td>\n",
       "      <td>0</td>\n",
       "      <td>NaN</td>\n",
       "      <td>2</td>\n",
       "      <td>20+|d</td>\n",
       "      <td>1</td>\n",
       "      <td>NaN</td>\n",
       "      <td>1</td>\n",
       "      <td>NaN</td>\n",
       "    </tr>\n",
       "    <tr>\n",
       "      <th>4</th>\n",
       "      <td>Buying leasehold/freehold on a mortgage</td>\n",
       "      <td>Conservative</td>\n",
       "      <td>NaN</td>\n",
       "      <td>NaN</td>\n",
       "      <td>NaN</td>\n",
       "      <td>Conservative</td>\n",
       "      <td>The Sun</td>\n",
       "      <td>NaN</td>\n",
       "      <td>NaN</td>\n",
       "      <td>Â£25,000 to Â£29,999 per year</td>\n",
       "      <td>...</td>\n",
       "      <td>1</td>\n",
       "      <td>NaN</td>\n",
       "      <td>0</td>\n",
       "      <td>NaN</td>\n",
       "      <td>1</td>\n",
       "      <td>NaN</td>\n",
       "      <td>1</td>\n",
       "      <td>NaN</td>\n",
       "      <td>1</td>\n",
       "      <td>NaN</td>\n",
       "    </tr>\n",
       "    <tr>\n",
       "      <th>5</th>\n",
       "      <td>Own the leasehold/freehold outright</td>\n",
       "      <td>I would not vote</td>\n",
       "      <td>NaN</td>\n",
       "      <td>NaN</td>\n",
       "      <td>NaN</td>\n",
       "      <td>Liberal Democrat</td>\n",
       "      <td>The Daily Telegraph</td>\n",
       "      <td>NaN</td>\n",
       "      <td>NaN</td>\n",
       "      <td>Â£25,000 to Â£29,999 per year</td>\n",
       "      <td>...</td>\n",
       "      <td>1</td>\n",
       "      <td>NaN</td>\n",
       "      <td>0</td>\n",
       "      <td>NaN</td>\n",
       "      <td>1</td>\n",
       "      <td>NaN</td>\n",
       "      <td>1</td>\n",
       "      <td>NaN</td>\n",
       "      <td>1</td>\n",
       "      <td>NaN</td>\n",
       "    </tr>\n",
       "    <tr>\n",
       "      <th>...</th>\n",
       "      <td>...</td>\n",
       "      <td>...</td>\n",
       "      <td>...</td>\n",
       "      <td>...</td>\n",
       "      <td>...</td>\n",
       "      <td>...</td>\n",
       "      <td>...</td>\n",
       "      <td>...</td>\n",
       "      <td>...</td>\n",
       "      <td>...</td>\n",
       "      <td>...</td>\n",
       "      <td>...</td>\n",
       "      <td>...</td>\n",
       "      <td>...</td>\n",
       "      <td>...</td>\n",
       "      <td>...</td>\n",
       "      <td>...</td>\n",
       "      <td>...</td>\n",
       "      <td>...</td>\n",
       "      <td>...</td>\n",
       "      <td>...</td>\n",
       "    </tr>\n",
       "    <tr>\n",
       "      <th>98447</th>\n",
       "      <td>NaN</td>\n",
       "      <td>NaN</td>\n",
       "      <td>No, did not vote</td>\n",
       "      <td>NaN</td>\n",
       "      <td>NaN</td>\n",
       "      <td>NaN</td>\n",
       "      <td>NaN</td>\n",
       "      <td>NaN</td>\n",
       "      <td>No, did not vote</td>\n",
       "      <td>NaN</td>\n",
       "      <td>...</td>\n",
       "      <td>1</td>\n",
       "      <td>NaN</td>\n",
       "      <td>0</td>\n",
       "      <td>NaN</td>\n",
       "      <td>0</td>\n",
       "      <td>NaN</td>\n",
       "      <td>0</td>\n",
       "      <td>NaN</td>\n",
       "      <td>0</td>\n",
       "      <td>NaN</td>\n",
       "    </tr>\n",
       "    <tr>\n",
       "      <th>98448</th>\n",
       "      <td>NaN</td>\n",
       "      <td>NaN</td>\n",
       "      <td>No, did not vote</td>\n",
       "      <td>NaN</td>\n",
       "      <td>NaN</td>\n",
       "      <td>NaN</td>\n",
       "      <td>NaN</td>\n",
       "      <td>NaN</td>\n",
       "      <td>No, did not vote</td>\n",
       "      <td>NaN</td>\n",
       "      <td>...</td>\n",
       "      <td>1</td>\n",
       "      <td>NaN</td>\n",
       "      <td>0</td>\n",
       "      <td>NaN</td>\n",
       "      <td>0</td>\n",
       "      <td>NaN</td>\n",
       "      <td>0</td>\n",
       "      <td>NaN</td>\n",
       "      <td>0</td>\n",
       "      <td>NaN</td>\n",
       "    </tr>\n",
       "    <tr>\n",
       "      <th>98449</th>\n",
       "      <td>NaN</td>\n",
       "      <td>NaN</td>\n",
       "      <td>Yes, voted</td>\n",
       "      <td>Don't know</td>\n",
       "      <td>NaN</td>\n",
       "      <td>NaN</td>\n",
       "      <td>NaN</td>\n",
       "      <td>NaN</td>\n",
       "      <td>Yes, voted</td>\n",
       "      <td>NaN</td>\n",
       "      <td>...</td>\n",
       "      <td>1</td>\n",
       "      <td>NaN</td>\n",
       "      <td>0</td>\n",
       "      <td>NaN</td>\n",
       "      <td>1</td>\n",
       "      <td>NaN</td>\n",
       "      <td>0</td>\n",
       "      <td>NaN</td>\n",
       "      <td>0</td>\n",
       "      <td>NaN</td>\n",
       "    </tr>\n",
       "    <tr>\n",
       "      <th>98450</th>\n",
       "      <td>NaN</td>\n",
       "      <td>NaN</td>\n",
       "      <td>No, did not vote</td>\n",
       "      <td>NaN</td>\n",
       "      <td>NaN</td>\n",
       "      <td>NaN</td>\n",
       "      <td>NaN</td>\n",
       "      <td>NaN</td>\n",
       "      <td>Don't know</td>\n",
       "      <td>NaN</td>\n",
       "      <td>...</td>\n",
       "      <td>1</td>\n",
       "      <td>NaN</td>\n",
       "      <td>0</td>\n",
       "      <td>NaN</td>\n",
       "      <td>0</td>\n",
       "      <td>NaN</td>\n",
       "      <td>0</td>\n",
       "      <td>NaN</td>\n",
       "      <td>0</td>\n",
       "      <td>NaN</td>\n",
       "    </tr>\n",
       "    <tr>\n",
       "      <th>98451</th>\n",
       "      <td>NaN</td>\n",
       "      <td>NaN</td>\n",
       "      <td>Don't know</td>\n",
       "      <td>NaN</td>\n",
       "      <td>NaN</td>\n",
       "      <td>NaN</td>\n",
       "      <td>NaN</td>\n",
       "      <td>NaN</td>\n",
       "      <td>Yes, voted</td>\n",
       "      <td>NaN</td>\n",
       "      <td>...</td>\n",
       "      <td>1</td>\n",
       "      <td>NaN</td>\n",
       "      <td>0</td>\n",
       "      <td>NaN</td>\n",
       "      <td>0</td>\n",
       "      <td>NaN</td>\n",
       "      <td>0</td>\n",
       "      <td>NaN</td>\n",
       "      <td>0</td>\n",
       "      <td>NaN</td>\n",
       "    </tr>\n",
       "  </tbody>\n",
       "</table>\n",
       "<p>97158 rows × 399 columns</p>\n",
       "</div>"
      ],
      "text/plain": [
       "                              W19_comb_housing  \\\n",
       "1          Own the leasehold/freehold outright   \n",
       "2          Own the leasehold/freehold outright   \n",
       "3          Own the leasehold/freehold outright   \n",
       "4      Buying leasehold/freehold on a mortgage   \n",
       "5          Own the leasehold/freehold outright   \n",
       "...                                        ...   \n",
       "98447                                      NaN   \n",
       "98448                                      NaN   \n",
       "98449                                      NaN   \n",
       "98450                                      NaN   \n",
       "98451                                      NaN   \n",
       "\n",
       "      W19_comb_profile_past_vote_2005 W19_comb_profile_turnout_2017  \\\n",
       "1                              Labour                           NaN   \n",
       "2                        Conservative                    Yes, voted   \n",
       "3                              Labour                    Yes, voted   \n",
       "4                        Conservative                           NaN   \n",
       "5                    I would not vote                           NaN   \n",
       "...                               ...                           ...   \n",
       "98447                             NaN              No, did not vote   \n",
       "98448                             NaN              No, did not vote   \n",
       "98449                             NaN                    Yes, voted   \n",
       "98450                             NaN              No, did not vote   \n",
       "98451                             NaN                    Don't know   \n",
       "\n",
       "      W19_comb_profile_past_vote_2017 W19_comb_euRefLA  \\\n",
       "1                                 NaN        E06000050   \n",
       "2                        Conservative        E07000215   \n",
       "3                              Labour        E07000136   \n",
       "4                                 NaN              NaN   \n",
       "5                                 NaN              NaN   \n",
       "...                               ...              ...   \n",
       "98447                             NaN              NaN   \n",
       "98448                             NaN              NaN   \n",
       "98449                      Don't know              NaN   \n",
       "98450                             NaN              NaN   \n",
       "98451                             NaN              NaN   \n",
       "\n",
       "                W19_comb_profile_past_vote_2010 W19_comb_profile_newspaper  \\\n",
       "1      United Kingdom Independence Party (UKIP)  The Mirror / Daily Record   \n",
       "2                                  Conservative        The Daily Telegraph   \n",
       "3                              Liberal Democrat  The Mirror / Daily Record   \n",
       "4                                  Conservative                    The Sun   \n",
       "5                              Liberal Democrat        The Daily Telegraph   \n",
       "...                                         ...                        ...   \n",
       "98447                                       NaN                        NaN   \n",
       "98448                                       NaN                        NaN   \n",
       "98449                                       NaN                        NaN   \n",
       "98450                                       NaN                        NaN   \n",
       "98451                                       NaN                        NaN   \n",
       "\n",
       "      W19_comb_profile_scotref_turnout W19_comb_profile_turnout_2015  \\\n",
       "1                                  NaN                    Yes, voted   \n",
       "2                                  NaN                    Yes, voted   \n",
       "3                                  NaN                    Yes, voted   \n",
       "4                                  NaN                           NaN   \n",
       "5                                  NaN                           NaN   \n",
       "...                                ...                           ...   \n",
       "98447                              NaN              No, did not vote   \n",
       "98448                              NaN              No, did not vote   \n",
       "98449                              NaN                    Yes, voted   \n",
       "98450                              NaN                    Don't know   \n",
       "98451                              NaN                    Yes, voted   \n",
       "\n",
       "      W19_comb_profile_gross_household  ... nuniq_gender discrep_gender  \\\n",
       "1        Â£10,000 to Â£14,999 per year  ...            1            NaN   \n",
       "2        Â£50,000 to Â£59,999 per year  ...            1            NaN   \n",
       "3          Â£5,000 to Â£9,999 per year  ...            1            NaN   \n",
       "4        Â£25,000 to Â£29,999 per year  ...            1            NaN   \n",
       "5        Â£25,000 to Â£29,999 per year  ...            1            NaN   \n",
       "...                                ...  ...          ...            ...   \n",
       "98447                              NaN  ...            1            NaN   \n",
       "98448                              NaN  ...            1            NaN   \n",
       "98449                              NaN  ...            1            NaN   \n",
       "98450                              NaN  ...            1            NaN   \n",
       "98451                              NaN  ...            1            NaN   \n",
       "\n",
       "      nuniq_profile_scotref_vote discrep_profile_scotref_vote  \\\n",
       "1                              0                          NaN   \n",
       "2                              0                          NaN   \n",
       "3                              0                          NaN   \n",
       "4                              0                          NaN   \n",
       "5                              0                          NaN   \n",
       "...                          ...                          ...   \n",
       "98447                          0                          NaN   \n",
       "98448                          0                          NaN   \n",
       "98449                          0                          NaN   \n",
       "98450                          0                          NaN   \n",
       "98451                          0                          NaN   \n",
       "\n",
       "      nuniq_profile_education_age  \\\n",
       "1                               1   \n",
       "2                               3   \n",
       "3                               2   \n",
       "4                               1   \n",
       "5                               1   \n",
       "...                           ...   \n",
       "98447                           0   \n",
       "98448                           0   \n",
       "98449                           1   \n",
       "98450                           0   \n",
       "98451                           0   \n",
       "\n",
       "                           discrep_profile_education_age nuniq_marital  \\\n",
       "1                                                    NaN             1   \n",
       "2      20+|d|Foreman or Supervisor of Other Workers (...             1   \n",
       "3                                                  20+|d             1   \n",
       "4                                                    NaN             1   \n",
       "5                                                    NaN             1   \n",
       "...                                                  ...           ...   \n",
       "98447                                                NaN             0   \n",
       "98448                                                NaN             0   \n",
       "98449                                                NaN             0   \n",
       "98450                                                NaN             0   \n",
       "98451                                                NaN             0   \n",
       "\n",
       "      discrep_marital nuniq_ageGroup discrep_ageGroup  \n",
       "1                 NaN              1              NaN  \n",
       "2                 NaN              1              NaN  \n",
       "3                 NaN              1              NaN  \n",
       "4                 NaN              1              NaN  \n",
       "5                 NaN              1              NaN  \n",
       "...               ...            ...              ...  \n",
       "98447             NaN              0              NaN  \n",
       "98448             NaN              0              NaN  \n",
       "98449             NaN              0              NaN  \n",
       "98450             NaN              0              NaN  \n",
       "98451             NaN              0              NaN  \n",
       "\n",
       "[97158 rows x 399 columns]"
      ]
     },
     "execution_count": 342,
     "metadata": {},
     "output_type": "execute_result"
    }
   ],
   "source": [
    "df"
   ]
  },
  {
   "cell_type": "code",
   "execution_count": 347,
   "metadata": {},
   "outputs": [
    {
     "data": {
      "text/html": [
       "<div>\n",
       "<style scoped>\n",
       "    .dataframe tbody tr th:only-of-type {\n",
       "        vertical-align: middle;\n",
       "    }\n",
       "\n",
       "    .dataframe tbody tr th {\n",
       "        vertical-align: top;\n",
       "    }\n",
       "\n",
       "    .dataframe thead th {\n",
       "        text-align: right;\n",
       "    }\n",
       "</style>\n",
       "<table border=\"1\" class=\"dataframe\">\n",
       "  <thead>\n",
       "    <tr style=\"text-align: right;\">\n",
       "      <th></th>\n",
       "      <th>discrep_profile_past_vote_2005</th>\n",
       "      <th>discrep_profile_past_vote_2010</th>\n",
       "      <th>discrep_profile_newspaper</th>\n",
       "      <th>discrep_profile_turnout_2015</th>\n",
       "      <th>discrep_profile_gross_household</th>\n",
       "      <th>discrep_profile_gross_personal</th>\n",
       "      <th>discrep_disability</th>\n",
       "      <th>discrep_profile_household_children</th>\n",
       "      <th>discrep_gender</th>\n",
       "      <th>discrep_profile_education_age</th>\n",
       "    </tr>\n",
       "  </thead>\n",
       "  <tbody>\n",
       "    <tr>\n",
       "      <th>1</th>\n",
       "      <td>NaN</td>\n",
       "      <td>NaN</td>\n",
       "      <td>The Mirror / Daily Record|None</td>\n",
       "      <td>NaN</td>\n",
       "      <td>Â£10,000 to Â£14,999 per year|Â£25,000 to Â£29...</td>\n",
       "      <td>NaN</td>\n",
       "      <td>Yes, limited a little|No</td>\n",
       "      <td>NaN</td>\n",
       "      <td>NaN</td>\n",
       "      <td>NaN</td>\n",
       "    </tr>\n",
       "    <tr>\n",
       "      <th>2</th>\n",
       "      <td>NaN</td>\n",
       "      <td>NaN</td>\n",
       "      <td>NaN</td>\n",
       "      <td>NaN</td>\n",
       "      <td>Â£50,000 to Â£59,999 per year|£60,000 to £69,9...</td>\n",
       "      <td>Â£50,000 to Â£59,999 per year|£10,000 to £14,9...</td>\n",
       "      <td>NaN</td>\n",
       "      <td>NaN</td>\n",
       "      <td>NaN</td>\n",
       "      <td>20+|d|Foreman or Supervisor of Other Workers (...</td>\n",
       "    </tr>\n",
       "    <tr>\n",
       "      <th>3</th>\n",
       "      <td>NaN</td>\n",
       "      <td>NaN</td>\n",
       "      <td>NaN</td>\n",
       "      <td>NaN</td>\n",
       "      <td>Â£5,000 to Â£9,999 per year|£5,000 to £9,999 p...</td>\n",
       "      <td>Â£5,000 to Â£9,999 per year|£5,000 to £9,999 p...</td>\n",
       "      <td>NaN</td>\n",
       "      <td>NaN</td>\n",
       "      <td>NaN</td>\n",
       "      <td>20+|d</td>\n",
       "    </tr>\n",
       "    <tr>\n",
       "      <th>4</th>\n",
       "      <td>NaN</td>\n",
       "      <td>NaN</td>\n",
       "      <td>NaN</td>\n",
       "      <td>NaN</td>\n",
       "      <td>NaN</td>\n",
       "      <td>NaN</td>\n",
       "      <td>NaN</td>\n",
       "      <td>NaN</td>\n",
       "      <td>NaN</td>\n",
       "      <td>NaN</td>\n",
       "    </tr>\n",
       "    <tr>\n",
       "      <th>5</th>\n",
       "      <td>NaN</td>\n",
       "      <td>NaN</td>\n",
       "      <td>NaN</td>\n",
       "      <td>NaN</td>\n",
       "      <td>NaN</td>\n",
       "      <td>NaN</td>\n",
       "      <td>NaN</td>\n",
       "      <td>NaN</td>\n",
       "      <td>NaN</td>\n",
       "      <td>NaN</td>\n",
       "    </tr>\n",
       "    <tr>\n",
       "      <th>...</th>\n",
       "      <td>...</td>\n",
       "      <td>...</td>\n",
       "      <td>...</td>\n",
       "      <td>...</td>\n",
       "      <td>...</td>\n",
       "      <td>...</td>\n",
       "      <td>...</td>\n",
       "      <td>...</td>\n",
       "      <td>...</td>\n",
       "      <td>...</td>\n",
       "    </tr>\n",
       "    <tr>\n",
       "      <th>98447</th>\n",
       "      <td>NaN</td>\n",
       "      <td>NaN</td>\n",
       "      <td>NaN</td>\n",
       "      <td>NaN</td>\n",
       "      <td>NaN</td>\n",
       "      <td>NaN</td>\n",
       "      <td>NaN</td>\n",
       "      <td>NaN</td>\n",
       "      <td>NaN</td>\n",
       "      <td>NaN</td>\n",
       "    </tr>\n",
       "    <tr>\n",
       "      <th>98448</th>\n",
       "      <td>NaN</td>\n",
       "      <td>NaN</td>\n",
       "      <td>NaN</td>\n",
       "      <td>NaN</td>\n",
       "      <td>NaN</td>\n",
       "      <td>NaN</td>\n",
       "      <td>NaN</td>\n",
       "      <td>NaN</td>\n",
       "      <td>NaN</td>\n",
       "      <td>NaN</td>\n",
       "    </tr>\n",
       "    <tr>\n",
       "      <th>98449</th>\n",
       "      <td>NaN</td>\n",
       "      <td>NaN</td>\n",
       "      <td>NaN</td>\n",
       "      <td>NaN</td>\n",
       "      <td>NaN</td>\n",
       "      <td>NaN</td>\n",
       "      <td>NaN</td>\n",
       "      <td>NaN</td>\n",
       "      <td>NaN</td>\n",
       "      <td>NaN</td>\n",
       "    </tr>\n",
       "    <tr>\n",
       "      <th>98450</th>\n",
       "      <td>NaN</td>\n",
       "      <td>NaN</td>\n",
       "      <td>NaN</td>\n",
       "      <td>NaN</td>\n",
       "      <td>NaN</td>\n",
       "      <td>NaN</td>\n",
       "      <td>NaN</td>\n",
       "      <td>NaN</td>\n",
       "      <td>NaN</td>\n",
       "      <td>NaN</td>\n",
       "    </tr>\n",
       "    <tr>\n",
       "      <th>98451</th>\n",
       "      <td>NaN</td>\n",
       "      <td>NaN</td>\n",
       "      <td>NaN</td>\n",
       "      <td>NaN</td>\n",
       "      <td>NaN</td>\n",
       "      <td>NaN</td>\n",
       "      <td>NaN</td>\n",
       "      <td>NaN</td>\n",
       "      <td>NaN</td>\n",
       "      <td>NaN</td>\n",
       "    </tr>\n",
       "  </tbody>\n",
       "</table>\n",
       "<p>97158 rows × 10 columns</p>\n",
       "</div>"
      ],
      "text/plain": [
       "      discrep_profile_past_vote_2005 discrep_profile_past_vote_2010  \\\n",
       "1                                NaN                            NaN   \n",
       "2                                NaN                            NaN   \n",
       "3                                NaN                            NaN   \n",
       "4                                NaN                            NaN   \n",
       "5                                NaN                            NaN   \n",
       "...                              ...                            ...   \n",
       "98447                            NaN                            NaN   \n",
       "98448                            NaN                            NaN   \n",
       "98449                            NaN                            NaN   \n",
       "98450                            NaN                            NaN   \n",
       "98451                            NaN                            NaN   \n",
       "\n",
       "            discrep_profile_newspaper discrep_profile_turnout_2015  \\\n",
       "1      The Mirror / Daily Record|None                          NaN   \n",
       "2                                 NaN                          NaN   \n",
       "3                                 NaN                          NaN   \n",
       "4                                 NaN                          NaN   \n",
       "5                                 NaN                          NaN   \n",
       "...                               ...                          ...   \n",
       "98447                             NaN                          NaN   \n",
       "98448                             NaN                          NaN   \n",
       "98449                             NaN                          NaN   \n",
       "98450                             NaN                          NaN   \n",
       "98451                             NaN                          NaN   \n",
       "\n",
       "                         discrep_profile_gross_household  \\\n",
       "1      Â£10,000 to Â£14,999 per year|Â£25,000 to Â£29...   \n",
       "2      Â£50,000 to Â£59,999 per year|£60,000 to £69,9...   \n",
       "3      Â£5,000 to Â£9,999 per year|£5,000 to £9,999 p...   \n",
       "4                                                    NaN   \n",
       "5                                                    NaN   \n",
       "...                                                  ...   \n",
       "98447                                                NaN   \n",
       "98448                                                NaN   \n",
       "98449                                                NaN   \n",
       "98450                                                NaN   \n",
       "98451                                                NaN   \n",
       "\n",
       "                          discrep_profile_gross_personal  \\\n",
       "1                                                    NaN   \n",
       "2      Â£50,000 to Â£59,999 per year|£10,000 to £14,9...   \n",
       "3      Â£5,000 to Â£9,999 per year|£5,000 to £9,999 p...   \n",
       "4                                                    NaN   \n",
       "5                                                    NaN   \n",
       "...                                                  ...   \n",
       "98447                                                NaN   \n",
       "98448                                                NaN   \n",
       "98449                                                NaN   \n",
       "98450                                                NaN   \n",
       "98451                                                NaN   \n",
       "\n",
       "             discrep_disability discrep_profile_household_children  \\\n",
       "1      Yes, limited a little|No                                NaN   \n",
       "2                           NaN                                NaN   \n",
       "3                           NaN                                NaN   \n",
       "4                           NaN                                NaN   \n",
       "5                           NaN                                NaN   \n",
       "...                         ...                                ...   \n",
       "98447                       NaN                                NaN   \n",
       "98448                       NaN                                NaN   \n",
       "98449                       NaN                                NaN   \n",
       "98450                       NaN                                NaN   \n",
       "98451                       NaN                                NaN   \n",
       "\n",
       "      discrep_gender                      discrep_profile_education_age  \n",
       "1                NaN                                                NaN  \n",
       "2                NaN  20+|d|Foreman or Supervisor of Other Workers (...  \n",
       "3                NaN                                              20+|d  \n",
       "4                NaN                                                NaN  \n",
       "5                NaN                                                NaN  \n",
       "...              ...                                                ...  \n",
       "98447            NaN                                                NaN  \n",
       "98448            NaN                                                NaN  \n",
       "98449            NaN                                                NaN  \n",
       "98450            NaN                                                NaN  \n",
       "98451            NaN                                                NaN  \n",
       "\n",
       "[97158 rows x 10 columns]"
      ]
     },
     "execution_count": 347,
     "metadata": {},
     "output_type": "execute_result"
    }
   ],
   "source": [
    "df[[x for x in df.columns if \"discrep\" in x]].dropna(how='all',axis=1)"
   ]
  },
  {
   "cell_type": "code",
   "execution_count": 349,
   "metadata": {},
   "outputs": [
    {
     "data": {
      "text/plain": [
       "Female|Male    7\n",
       "Male|Female    1\n",
       "Name: discrep_gender, dtype: int64"
      ]
     },
     "execution_count": 349,
     "metadata": {},
     "output_type": "execute_result"
    }
   ],
   "source": [
    "df[\"discrep_gender\"].value_counts()"
   ]
  },
  {
   "cell_type": "code",
   "execution_count": 352,
   "metadata": {},
   "outputs": [
    {
     "data": {
      "text/plain": [
       "Int64Index([30929, 35852, 38388, 39244, 76846, 77218, 77875, 89977], dtype='int64')"
      ]
     },
     "execution_count": 352,
     "metadata": {},
     "output_type": "execute_result"
    }
   ],
   "source": [
    "BES_Panel.loc[df[df[\"discrep_gender\"].notnull()].index,]"
   ]
  },
  {
   "cell_type": "code",
   "execution_count": 353,
   "metadata": {},
   "outputs": [
    {
     "data": {
      "text/plain": [
       "Series([], dtype: float64)"
      ]
     },
     "execution_count": 353,
     "metadata": {},
     "output_type": "execute_result"
    }
   ],
   "source": [
    "search(BES_Panel,\"sexuality\")"
   ]
  },
  {
   "cell_type": "code",
   "execution_count": null,
   "metadata": {},
   "outputs": [],
   "source": []
  },
  {
   "cell_type": "code",
   "execution_count": 360,
   "metadata": {},
   "outputs": [
    {
     "data": {
      "text/plain": [
       "No, did not vote|Yes, voted    33\n",
       "Yes, voted|No, did not vote    21\n",
       "Yes, voted|Don't know          20\n",
       "No, did not vote|Don't know    19\n",
       "Don't know|Yes, voted          13\n",
       "Don't know|No, did not vote    11\n",
       "Name: discrep_profile_turnout_2015, dtype: int64"
      ]
     },
     "execution_count": 360,
     "metadata": {},
     "output_type": "execute_result"
    }
   ],
   "source": [
    "df[df[[x for x in df.columns if \"discrep\" in x]].dropna(how='all',axis=1).columns[3]].value_counts()"
   ]
  },
  {
   "cell_type": "code",
   "execution_count": 368,
   "metadata": {},
   "outputs": [
    {
     "data": {
      "text/plain": [
       "Female|Male    7\n",
       "Male|Female    1\n",
       "Name: discrep_gender, dtype: int64"
      ]
     },
     "execution_count": 368,
     "metadata": {},
     "output_type": "execute_result"
    }
   ],
   "source": [
    "df[df[[x for x in df.columns if \"discrep\" in x]].dropna(how='all',axis=1).columns[8]].value_counts().head(20)"
   ]
  },
  {
   "cell_type": "code",
   "execution_count": null,
   "metadata": {},
   "outputs": [],
   "source": []
  },
  {
   "cell_type": "code",
   "execution_count": 391,
   "metadata": {},
   "outputs": [
    {
     "name": "stdout",
     "output_type": "stream",
     "text": [
      "Wall time: 30.4 s\n"
     ]
    }
   ],
   "source": [
    "%%time\n",
    "(BES_code_folder, BES_small_data_files, BES_data_folder,\n",
    " BES_output_folder, BES_file_manifest, BES_R_data_files) = setup_directories()\n",
    "\n",
    "global BES_Panel, BES_numeric, BES_reduced, BES_reduced_with_na, BES_non_numeric\n",
    "\n",
    "df = pd.DataFrame()\n",
    "var_list = [\"profile_eurefturnout\", \"profile_ethnicity\", \"profile_religion\", \"countryOfBirth\", \"profile_past_vote_2015\"]\n",
    "\n",
    "for dataset_name in present_in_datasets:\n",
    "    \n",
    "    data_subfolder = BES_data_folder + dataset_name + os.sep\n",
    "\n",
    "    (manifest, dataset_filename, dataset_description, dataset_citation,\n",
    "     dataset_start, dataset_stop, dataset_wave) = get_manifest(dataset_name, BES_file_manifest)    \n",
    "    BES_Panel = pd.read_pickle(data_subfolder + dataset_filename.replace('.dta','.zip'),compression='zip')\n",
    "    pres_var_list = [x for x in var_list if x in BES_Panel.columns]\n",
    "    if \"id\" in BES_Panel.columns:\n",
    "        temp = BES_Panel[pres_var_list+[\"id\"]].set_index(\"id\").sort_index()\n",
    "    else:\n",
    "        temp = BES_Panel[pres_var_list]\n",
    "    temp.columns = [dataset_name+\"_\"+x for x in temp.columns]\n",
    "    df = pd.concat([df,temp],axis=1)\n",
    "    \n",
    "df.index = df.index.astype('int')\n",
    "# note - no extra rows over W19    "
   ]
  },
  {
   "cell_type": "code",
   "execution_count": 392,
   "metadata": {},
   "outputs": [
    {
     "name": "stdout",
     "output_type": "stream",
     "text": [
      "Wall time: 4min 56s\n"
     ]
    }
   ],
   "source": [
    "%%time\n",
    "\n",
    "number_of_unique_responses_per_row = {}\n",
    "\n",
    "for focal_var in var_list:\n",
    "    var_cols = [x for x in df.columns if focal_var in x]\n",
    "\n",
    "    number_of_unique_responses_per_row[focal_var] = df[var_cols].apply(lambda x: len((x.dropna()).unique()),axis=1)\n",
    "    number_of_unique_responses_per_row[focal_var].value_counts()"
   ]
  },
  {
   "cell_type": "code",
   "execution_count": 393,
   "metadata": {},
   "outputs": [
    {
     "name": "stdout",
     "output_type": "stream",
     "text": [
      "Wall time: 6.39 s\n"
     ]
    }
   ],
   "source": [
    "%%time\n",
    "\n",
    "for focal_var in var_list:\n",
    "    var_cols = [x for x in df.columns if focal_var in x]\n",
    "    df[\"nuniq_\"+focal_var] = number_of_unique_responses_per_row[focal_var]\n",
    "    df[\"discrep_\"+focal_var] = df[var_cols].loc[  df[\"nuniq_\"+focal_var]>=2 ].dropna(how='all',axis=1).apply(lambda x: \"|\".join([str(x) for x in x.dropna().unique()]),axis=1)\n",
    "    "
   ]
  },
  {
   "cell_type": "code",
   "execution_count": 397,
   "metadata": {},
   "outputs": [
    {
     "data": {
      "text/plain": [
       "Index(['discrep_profile_ethnicity', 'discrep_profile_religion',\n",
       "       'discrep_countryOfBirth'],\n",
       "      dtype='object')"
      ]
     },
     "execution_count": 397,
     "metadata": {},
     "output_type": "execute_result"
    }
   ],
   "source": [
    "df[[x for x in df.columns if \"discrep\" in x]].dropna(how='all',axis=1).columns"
   ]
  },
  {
   "cell_type": "code",
   "execution_count": 406,
   "metadata": {},
   "outputs": [
    {
     "data": {
      "text/plain": [
       "Other: Rest of world|Other: Commonwealth member country    27\n",
       "Other: Commonwealth member country|Other: Rest of world    27\n",
       "England|Other: Rest of world                               25\n",
       "Prefer not to answer|England                               15\n",
       "England|Wales                                              10\n",
       "Name: discrep_countryOfBirth, dtype: int64"
      ]
     },
     "execution_count": 406,
     "metadata": {},
     "output_type": "execute_result"
    }
   ],
   "source": [
    "df[['discrep_profile_ethnicity', 'discrep_profile_religion',\n",
    "       'discrep_countryOfBirth'][2]].value_counts().head(5)"
   ]
  },
  {
   "cell_type": "code",
   "execution_count": 404,
   "metadata": {},
   "outputs": [
    {
     "data": {
      "text/plain": [
       "Yes - Church of England/Anglican/Episcopal|No, I do not regard myself as belonging to any particular religion.    1615\n",
       "No, I do not regard myself as belonging to any particular religion.|Yes - Church of England/Anglican/Episcopal    1434\n",
       "No, I do not regard myself as belonging to any particular religion.|Prefer not to say                              705\n",
       "Yes - Other|No, I do not regard myself as belonging to any particular religion.                                    300\n",
       "Yes - Roman Catholic|No, I do not regard myself as belonging to any particular religion.                           294\n",
       "Name: discrep_profile_religion, dtype: int64"
      ]
     },
     "execution_count": 404,
     "metadata": {},
     "output_type": "execute_result"
    }
   ],
   "source": [
    "df[['discrep_profile_ethnicity', 'discrep_profile_religion',\n",
    "       'discrep_countryOfBirth'][1]].value_counts().head(5)"
   ]
  },
  {
   "cell_type": "code",
   "execution_count": 407,
   "metadata": {},
   "outputs": [
    {
     "data": {
      "text/plain": [
       "Any other white background|White British        6\n",
       "White British|Any other white background        4\n",
       "Any other mixed background|White British        3\n",
       "Prefer not to say|White British                 2\n",
       "Any other Asian background|Prefer not to say    1\n",
       "Name: discrep_profile_ethnicity, dtype: int64"
      ]
     },
     "execution_count": 407,
     "metadata": {},
     "output_type": "execute_result"
    }
   ],
   "source": [
    "df[['discrep_profile_ethnicity', 'discrep_profile_religion',\n",
    "       'discrep_countryOfBirth'][0]].value_counts().head(5)"
   ]
  },
  {
   "cell_type": "code",
   "execution_count": null,
   "metadata": {},
   "outputs": [],
   "source": []
  },
  {
   "cell_type": "code",
   "execution_count": null,
   "metadata": {},
   "outputs": [],
   "source": [
    "##############################################################################\n",
    "\n",
    "# comparing W19_comb\n",
    "# BES_Panel,BES_Panelv02\n",
    "\n"
   ]
  },
  {
   "cell_type": "code",
   "execution_count": 3,
   "metadata": {},
   "outputs": [],
   "source": [
    "BES_Panelv02 = pd.read_pickle(\"..\\\\BES_analysis_data\\\\\"+\"W19_comb\"+os.sep+\"BES_Panelv02\",compression='zip')"
   ]
  },
  {
   "cell_type": "code",
   "execution_count": 4,
   "metadata": {},
   "outputs": [
    {
     "data": {
      "text/plain": [
       "((97158, 7911), (97006, 8080))"
      ]
     },
     "execution_count": 4,
     "metadata": {},
     "output_type": "execute_result"
    }
   ],
   "source": [
    "BES_Panel.shape, BES_Panelv02.shape"
   ]
  },
  {
   "cell_type": "code",
   "execution_count": 72,
   "metadata": {},
   "outputs": [
    {
     "data": {
      "text/html": [
       "['likeBorisW19', 'likeBorisW13', 'profile_work_industryW14', 'lr4W10W11W12', 'al4W10W11W12', 'profile_education_ageW13', 'fatherVoteW17', 'pastvote_eup_2019W19', 'countryOfBirth', 'likeBorisW9', 'profile_oslaua', 'euRefpastVoteW17', 'profile_lea', 'educationW13', 'profile_education_ageW19', 'motherVoteW17', 'profile_mpnameW2', 'lr_scaleW7W8W9', 'profile_household_sizeW18', 'al1W7W8W9', 'profile_eurefturnout', 'headHouseholdPastW4', 'educationW18', 'voted2017W19', 'lr2W7W8W9', 'profile_gross_household', 'educationW15', 'sexualityW17', 'currentUnionMemberW2_W12_W14W15', 'gayEqualityW1W2W3W4W5', 'educationW6', 'motherNumEmployeesW13', 'educationW12', 'scotReferendumRetroW15', 'educationW1_W6', 'lr3W10W11W12', 'profile_work_organisationW18', 'motherNumEmployeesW10', 'profile_house_tenureW10', 'profile_household_childrenW18', 'profile_turnout_2017', 'al2W10W11W12', 'profile_marital_statW14', 'educationW3', 'lr5W10W11W12', 'al5W7W8W9', 'marital', 'profile_scotRefW18', 'profile_gross_householdW16', 'al3W1W2W3W4W5', 'voted2015', 'countryOfBirthW17', 'lr1W10W11W12', 'disability', 'profile_past_vote_2015', 'sickElderlyInHouseW1W2W3W4W5', 'profile_gross_householdW15', 'profile_socgradeW14', 'lr4W1W2W3W4W5', 'scotReferendumVoteW11', 'profile_ethnicity2W17', 'headHouseholdPastW9', 'profile_house_tenureW14', 'schoolKidsInHouseW1W2W3W4W5', 'profile_work_statW14', 'edlevelW8W9W10', 'profile_scotRefW19', 'scotReferendumVoteW15', 'likeBorisW8', 'al3W10W11W12', 'fatherNumEmployeesW11', 'euRefpastVoteW14', 'educationW2', 'everUnionMemberW17', 'profile_gross_householdW12', 'profile_religionW17', 'al5W10W11W12', 'profile_gross_personalW18', 'profile_work_typeW7W10', 'everUnionMemberW16', 'profile_socgradeW12', 'lr1W1W2W3W4W5', 'headHouseholdPastW10', 'profile_work_organisationW19', 'polKnowBercowW1W2W3', 'profile_religion', 'al2W7W8W9', 'ethnicity2W15', 'profile_religionW14', 'profile_religionW10', 'profile_turnout_2015', 'profile_socialgrade_cieW18', 'noDependentsInHouseW1W2W3W4W5', 'al3W7W8W9', 'al4W7W8W9', 'profile_marital_statW18', 'al2W1W2W3W4W5', 'profile_past_vote_2010', 'profile_work_typeW2_W4', 'profile_marital_statW16', 'blackEqualityW1W2W3W4W5', 'profile_house_tenureW12', 'profile_gross_personalW7', 'likeBorisW17', 'profile_gross_householdW18', 'profile_ethnicity2W19', 'profile_religionW13', 'polKnowMilibandW1W2W3', 'edlevelW7', 'educationW7', 'polKnowPutinW2W3W4', 'euRefLA', 'profile_house_tenureW17', 'edlevelW14', 'profile_gross_householdW13', 'motherNumEmployees', 'profile_household_sizeW19', 'profile_work_industryW19', 'edlevelW1_W6', 'al_scaleW7W8W9', 'educationW9', 'profile_work_statW7', 'profile_newspaperW11', 'profile_household_sizeW10', 'profile_house_tenure', 'profile_work_statW13', 'lr3W1W2W3W4W5', 'motherNumEmployeesW11', 'polKnowOsborneW1W2W3', 'polKnowNetanyahuW2W3W4W7W9', 'profile_work_responsibilityW18', 'profile_mpnameW3', 'profile_religionW11', 'educationW14', 'likeBorisW7', 'lr_scaleW10W11W12', 'headHouseholdPastW11', 'profile_socialgrade_cieW17', 'currentUnionMemberW17', 'profile_work_statW19', 'al1W10W11W12', 'profile_household_children', 'profile_work_responsibilityW19', 'fatherNumEmployeesW10', 'ethnicity2W16', 'profile_gross_householdW17', 'profile_gross_householdW7', 'profile_work_industryW17', 'profile_scotref_vote', 'polKnowMerkelW2W3W4', 'profile_work_typeW17', 'profile_socgradeW7', 'profile_work_typeW14', 'subjectHECurrentW1W2W3', 'profile_work_statW18', 'headHouseholdPastW3', 'profile_scotRefW17', 'profile_work_responsibilityW17', 'everUnionMemberW2_W12_W14W15', 'profile_newspaper2W12', 'educationW19', 'profile_ethnicity', 'profile_work_statW11', 'profile_socgradeW15', 'lr2W10W11W12', 'fatherNumEmployeesW13', 'profile_household_childrenW19', 'profile_religionW16', 'motherVoteW14W15W16', 'al5W1W2W3W4W5', 'profile_work_statW12', 'profile_work_statW17', 'motherNumEmployeesW9', 'al4W1W2W3W4W5', 'housing', 'profile_gross_householdW11', 'headHouseholdPastW7', 'edlevelW12', 'edlevelW13', 'profile_work_statW1_W10', 'lr1W7W8W9', 'al_scaleW1W2W3W4W5', 'riskTakingW1W2W3W4W5', 'profile_scotref_turnout', 'profile_work_typeW11', 'profile_marital_statW17', 'headHouseholdPastW13', 'profile_gross_personal', 'profile_work_industryW18', 'profile_past_vote_2017', 'edlevelW18', 'educationW11', 'profile_education_age', 'profile_socialgrade_cieW19', 'lr2W1W2W3W4W5', 'edlevelW11', 'currentUnionMemberW16', 'profile_religionW15', 'scotRefVoteW3_W14', 'edlevelW19', 'profile_eurefvote', 'pastvote_eup_2019W18', 'profile_education_ageW7', 'profile_socgradeW16', 'educationW17', 'profile_work_typeW19', 'educationW4', 'lr3W7W8W9', 'femaleEqualityW1W2W3W4W5', 'headHouseholdPastW2', 'profile_house_tenureW11', 'profile_newspaperW10', 'polKnowKerryW2W3W4W7W9', 'likeBorisW15', 'profile_marital_statW11', 'profile_house_tenureW15', 'scotRefTurnoutW3_W14', 'profile_ethnicityW7', 'profile_ethnicity2W18', 'profile_gross_householdW10', 'profile_household_size', 'profile_house_tenureW16', 'polKnowMayW1W2W3', 'headHouseholdPastW1', 'motherNumEmployeesW1', 'profile_socgradeW8', 'motherNumEmployeesW7', 'fatherNumEmployees', 'fatherNumEmployeesW1', 'fatherNumEmployeesW9', 'likeBorisW14', 'profile_work_organisationW14', 'profile_marital_statW15', 'al1W1W2W3W4W5', 'lr5W1W2W3W4W5', 'profile_past_vote_2005', 'pastvote_EURefW17', 'lr_scaleW1W2W3W4W5', 'profile_gross_householdW19', 'educationW16', 'profile_socgradeW13', 'lr5W7W8W9', 'edlevelW15', 'profile_sexualityW10', 'profile_household_sizeW7', 'likeBorisW18', 'sexualityW14', 'profile_work_organisationW1_W3', 'polKnowHollandeW2W3W4W7W9', 'lr4W7W8W9', 'profile_house_tenureW13', 'profile_religionW12', 'profile_work_organisationW17', 'profile_gross_householdW14', 'profile_work_responsibilityW14', 'profile_gross_personalW19', 'al_scaleW10W11W12', 'fatherVoteW14W15W16', 'edlevelW17', 'subjectHEW1W2W3', 'fatherNumEmployeesW7', 'profile_education_ageW18', 'scotReferendumRetroW11', 'profile_newspaper', 'profile_marital_statW13', 'polKnowCleggW1W2W3', 'educationW8W9W10', 'profile_work_typeW18', 'preschoolKidsInHouseW1W2W3W4W5', 'polKnowAssadW2W3W4', 'edlevelW16', 'profile_leaW7', 'profile_newspaperW13', 'pastvote_ge_2019W19']"
      ],
      "text/plain": [
       "['likeBorisW19',\n",
       " 'likeBorisW13',\n",
       " 'profile_work_industryW14',\n",
       " 'lr4W10W11W12',\n",
       " 'al4W10W11W12',\n",
       " 'profile_education_ageW13',\n",
       " 'fatherVoteW17',\n",
       " 'pastvote_eup_2019W19',\n",
       " 'countryOfBirth',\n",
       " 'likeBorisW9',\n",
       " 'profile_oslaua',\n",
       " 'euRefpastVoteW17',\n",
       " 'profile_lea',\n",
       " 'educationW13',\n",
       " 'profile_education_ageW19',\n",
       " 'motherVoteW17',\n",
       " 'profile_mpnameW2',\n",
       " 'lr_scaleW7W8W9',\n",
       " 'profile_household_sizeW18',\n",
       " 'al1W7W8W9',\n",
       " 'profile_eurefturnout',\n",
       " 'headHouseholdPastW4',\n",
       " 'educationW18',\n",
       " 'voted2017W19',\n",
       " 'lr2W7W8W9',\n",
       " 'profile_gross_household',\n",
       " 'educationW15',\n",
       " 'sexualityW17',\n",
       " 'currentUnionMemberW2_W12_W14W15',\n",
       " 'gayEqualityW1W2W3W4W5',\n",
       " 'educationW6',\n",
       " 'motherNumEmployeesW13',\n",
       " 'educationW12',\n",
       " 'scotReferendumRetroW15',\n",
       " 'educationW1_W6',\n",
       " 'lr3W10W11W12',\n",
       " 'profile_work_organisationW18',\n",
       " 'motherNumEmployeesW10',\n",
       " 'profile_house_tenureW10',\n",
       " 'profile_household_childrenW18',\n",
       " 'profile_turnout_2017',\n",
       " 'al2W10W11W12',\n",
       " 'profile_marital_statW14',\n",
       " 'educationW3',\n",
       " 'lr5W10W11W12',\n",
       " 'al5W7W8W9',\n",
       " 'marital',\n",
       " 'profile_scotRefW18',\n",
       " 'profile_gross_householdW16',\n",
       " 'al3W1W2W3W4W5',\n",
       " 'voted2015',\n",
       " 'countryOfBirthW17',\n",
       " 'lr1W10W11W12',\n",
       " 'disability',\n",
       " 'profile_past_vote_2015',\n",
       " 'sickElderlyInHouseW1W2W3W4W5',\n",
       " 'profile_gross_householdW15',\n",
       " 'profile_socgradeW14',\n",
       " 'lr4W1W2W3W4W5',\n",
       " 'scotReferendumVoteW11',\n",
       " 'profile_ethnicity2W17',\n",
       " 'headHouseholdPastW9',\n",
       " 'profile_house_tenureW14',\n",
       " 'schoolKidsInHouseW1W2W3W4W5',\n",
       " 'profile_work_statW14',\n",
       " 'edlevelW8W9W10',\n",
       " 'profile_scotRefW19',\n",
       " 'scotReferendumVoteW15',\n",
       " 'likeBorisW8',\n",
       " 'al3W10W11W12',\n",
       " 'fatherNumEmployeesW11',\n",
       " 'euRefpastVoteW14',\n",
       " 'educationW2',\n",
       " 'everUnionMemberW17',\n",
       " 'profile_gross_householdW12',\n",
       " 'profile_religionW17',\n",
       " 'al5W10W11W12',\n",
       " 'profile_gross_personalW18',\n",
       " 'profile_work_typeW7W10',\n",
       " 'everUnionMemberW16',\n",
       " 'profile_socgradeW12',\n",
       " 'lr1W1W2W3W4W5',\n",
       " 'headHouseholdPastW10',\n",
       " 'profile_work_organisationW19',\n",
       " 'polKnowBercowW1W2W3',\n",
       " 'profile_religion',\n",
       " 'al2W7W8W9',\n",
       " 'ethnicity2W15',\n",
       " 'profile_religionW14',\n",
       " 'profile_religionW10',\n",
       " 'profile_turnout_2015',\n",
       " 'profile_socialgrade_cieW18',\n",
       " 'noDependentsInHouseW1W2W3W4W5',\n",
       " 'al3W7W8W9',\n",
       " 'al4W7W8W9',\n",
       " 'profile_marital_statW18',\n",
       " 'al2W1W2W3W4W5',\n",
       " 'profile_past_vote_2010',\n",
       " 'profile_work_typeW2_W4',\n",
       " 'profile_marital_statW16',\n",
       " 'blackEqualityW1W2W3W4W5',\n",
       " 'profile_house_tenureW12',\n",
       " 'profile_gross_personalW7',\n",
       " 'likeBorisW17',\n",
       " 'profile_gross_householdW18',\n",
       " 'profile_ethnicity2W19',\n",
       " 'profile_religionW13',\n",
       " 'polKnowMilibandW1W2W3',\n",
       " 'edlevelW7',\n",
       " 'educationW7',\n",
       " 'polKnowPutinW2W3W4',\n",
       " 'euRefLA',\n",
       " 'profile_house_tenureW17',\n",
       " 'edlevelW14',\n",
       " 'profile_gross_householdW13',\n",
       " 'motherNumEmployees',\n",
       " 'profile_household_sizeW19',\n",
       " 'profile_work_industryW19',\n",
       " 'edlevelW1_W6',\n",
       " 'al_scaleW7W8W9',\n",
       " 'educationW9',\n",
       " 'profile_work_statW7',\n",
       " 'profile_newspaperW11',\n",
       " 'profile_household_sizeW10',\n",
       " 'profile_house_tenure',\n",
       " 'profile_work_statW13',\n",
       " 'lr3W1W2W3W4W5',\n",
       " 'motherNumEmployeesW11',\n",
       " 'polKnowOsborneW1W2W3',\n",
       " 'polKnowNetanyahuW2W3W4W7W9',\n",
       " 'profile_work_responsibilityW18',\n",
       " 'profile_mpnameW3',\n",
       " 'profile_religionW11',\n",
       " 'educationW14',\n",
       " 'likeBorisW7',\n",
       " 'lr_scaleW10W11W12',\n",
       " 'headHouseholdPastW11',\n",
       " 'profile_socialgrade_cieW17',\n",
       " 'currentUnionMemberW17',\n",
       " 'profile_work_statW19',\n",
       " 'al1W10W11W12',\n",
       " 'profile_household_children',\n",
       " 'profile_work_responsibilityW19',\n",
       " 'fatherNumEmployeesW10',\n",
       " 'ethnicity2W16',\n",
       " 'profile_gross_householdW17',\n",
       " 'profile_gross_householdW7',\n",
       " 'profile_work_industryW17',\n",
       " 'profile_scotref_vote',\n",
       " 'polKnowMerkelW2W3W4',\n",
       " 'profile_work_typeW17',\n",
       " 'profile_socgradeW7',\n",
       " 'profile_work_typeW14',\n",
       " 'subjectHECurrentW1W2W3',\n",
       " 'profile_work_statW18',\n",
       " 'headHouseholdPastW3',\n",
       " 'profile_scotRefW17',\n",
       " 'profile_work_responsibilityW17',\n",
       " 'everUnionMemberW2_W12_W14W15',\n",
       " 'profile_newspaper2W12',\n",
       " 'educationW19',\n",
       " 'profile_ethnicity',\n",
       " 'profile_work_statW11',\n",
       " 'profile_socgradeW15',\n",
       " 'lr2W10W11W12',\n",
       " 'fatherNumEmployeesW13',\n",
       " 'profile_household_childrenW19',\n",
       " 'profile_religionW16',\n",
       " 'motherVoteW14W15W16',\n",
       " 'al5W1W2W3W4W5',\n",
       " 'profile_work_statW12',\n",
       " 'profile_work_statW17',\n",
       " 'motherNumEmployeesW9',\n",
       " 'al4W1W2W3W4W5',\n",
       " 'housing',\n",
       " 'profile_gross_householdW11',\n",
       " 'headHouseholdPastW7',\n",
       " 'edlevelW12',\n",
       " 'edlevelW13',\n",
       " 'profile_work_statW1_W10',\n",
       " 'lr1W7W8W9',\n",
       " 'al_scaleW1W2W3W4W5',\n",
       " 'riskTakingW1W2W3W4W5',\n",
       " 'profile_scotref_turnout',\n",
       " 'profile_work_typeW11',\n",
       " 'profile_marital_statW17',\n",
       " 'headHouseholdPastW13',\n",
       " 'profile_gross_personal',\n",
       " 'profile_work_industryW18',\n",
       " 'profile_past_vote_2017',\n",
       " 'edlevelW18',\n",
       " 'educationW11',\n",
       " 'profile_education_age',\n",
       " 'profile_socialgrade_cieW19',\n",
       " 'lr2W1W2W3W4W5',\n",
       " 'edlevelW11',\n",
       " 'currentUnionMemberW16',\n",
       " 'profile_religionW15',\n",
       " 'scotRefVoteW3_W14',\n",
       " 'edlevelW19',\n",
       " 'profile_eurefvote',\n",
       " 'pastvote_eup_2019W18',\n",
       " 'profile_education_ageW7',\n",
       " 'profile_socgradeW16',\n",
       " 'educationW17',\n",
       " 'profile_work_typeW19',\n",
       " 'educationW4',\n",
       " 'lr3W7W8W9',\n",
       " 'femaleEqualityW1W2W3W4W5',\n",
       " 'headHouseholdPastW2',\n",
       " 'profile_house_tenureW11',\n",
       " 'profile_newspaperW10',\n",
       " 'polKnowKerryW2W3W4W7W9',\n",
       " 'likeBorisW15',\n",
       " 'profile_marital_statW11',\n",
       " 'profile_house_tenureW15',\n",
       " 'scotRefTurnoutW3_W14',\n",
       " 'profile_ethnicityW7',\n",
       " 'profile_ethnicity2W18',\n",
       " 'profile_gross_householdW10',\n",
       " 'profile_household_size',\n",
       " 'profile_house_tenureW16',\n",
       " 'polKnowMayW1W2W3',\n",
       " 'headHouseholdPastW1',\n",
       " 'motherNumEmployeesW1',\n",
       " 'profile_socgradeW8',\n",
       " 'motherNumEmployeesW7',\n",
       " 'fatherNumEmployees',\n",
       " 'fatherNumEmployeesW1',\n",
       " 'fatherNumEmployeesW9',\n",
       " 'likeBorisW14',\n",
       " 'profile_work_organisationW14',\n",
       " 'profile_marital_statW15',\n",
       " 'al1W1W2W3W4W5',\n",
       " 'lr5W1W2W3W4W5',\n",
       " 'profile_past_vote_2005',\n",
       " 'pastvote_EURefW17',\n",
       " 'lr_scaleW1W2W3W4W5',\n",
       " 'profile_gross_householdW19',\n",
       " 'educationW16',\n",
       " 'profile_socgradeW13',\n",
       " 'lr5W7W8W9',\n",
       " 'edlevelW15',\n",
       " 'profile_sexualityW10',\n",
       " 'profile_household_sizeW7',\n",
       " 'likeBorisW18',\n",
       " 'sexualityW14',\n",
       " 'profile_work_organisationW1_W3',\n",
       " 'polKnowHollandeW2W3W4W7W9',\n",
       " 'lr4W7W8W9',\n",
       " 'profile_house_tenureW13',\n",
       " 'profile_religionW12',\n",
       " 'profile_work_organisationW17',\n",
       " 'profile_gross_householdW14',\n",
       " 'profile_work_responsibilityW14',\n",
       " 'profile_gross_personalW19',\n",
       " 'al_scaleW10W11W12',\n",
       " 'fatherVoteW14W15W16',\n",
       " 'edlevelW17',\n",
       " 'subjectHEW1W2W3',\n",
       " 'fatherNumEmployeesW7',\n",
       " 'profile_education_ageW18',\n",
       " 'scotReferendumRetroW11',\n",
       " 'profile_newspaper',\n",
       " 'profile_marital_statW13',\n",
       " 'polKnowCleggW1W2W3',\n",
       " 'educationW8W9W10',\n",
       " 'profile_work_typeW18',\n",
       " 'preschoolKidsInHouseW1W2W3W4W5',\n",
       " 'polKnowAssadW2W3W4',\n",
       " 'edlevelW16',\n",
       " 'profile_leaW7',\n",
       " 'profile_newspaperW13',\n",
       " 'pastvote_ge_2019W19']"
      ]
     },
     "execution_count": 72,
     "metadata": {},
     "output_type": "execute_result"
    }
   ],
   "source": [
    "gone_vars = list(set(BES_Panel.columns) - set(BES_Panelv02.columns))\n",
    "old_stubs = {re.match(\"(.*?W\\d+)\",x).groups()[0]:x for x in gone_vars if re.match(\".*W\\d+W\\d+\",x)}\n",
    "gone_vars"
   ]
  },
  {
   "cell_type": "code",
   "execution_count": 66,
   "metadata": {},
   "outputs": [],
   "source": [
    "new_vars= list(set(BES_Panelv02.columns) - set(BES_Panel.columns))\n",
    "# [x for x in new_vars if \n",
    "new_stubs = {x:re.match(\"(.*?W\\d+)\",x).groups()[0] for x in new_vars if re.match(\".*W\\d+_\",x)}\n",
    "# [x for x in new_vars if not re.match(\"(age|pano|pcon|country|gor)|(p_)|(.*W\\d+_W\\d+)|(likeJohnson|enviroGrowth|oslaua|parentNumEmployees)\",x)]\n",
    "\n",
    "# new columns\n",
    "# profile style columns for waves that weren't included before (age/pano/pcon/country/gor/)\n",
    "# enviroGrowth has reappeared???\n",
    "# variables where the formatting for multiple waves has been made more consistent\n",
    "# likeBoris -> likeJohnson"
   ]
  },
  {
   "cell_type": "code",
   "execution_count": 70,
   "metadata": {},
   "outputs": [
    {
     "name": "stdout",
     "output_type": "stream",
     "text": [
      "doesn't appear to have older analogue motherVoteW3W14_W17\n",
      "doesn't appear to have older analogue fatherVoteW3W14_W17\n"
     ]
    }
   ],
   "source": [
    "# al2W10_W12\n",
    "old_to_new_dict = {}\n",
    "for new_key in new_stubs.keys():\n",
    "    if new_stubs[new_key] in old_stubs.keys():\n",
    "        old_to_new_dict[old_stubs[new_stubs[new_key]]] = new_key\n",
    "    else:\n",
    "        print(\"doesn't appear to have older analogue\",new_key)\n"
   ]
  },
  {
   "cell_type": "code",
   "execution_count": 101,
   "metadata": {},
   "outputs": [],
   "source": [
    "for new_var in new_vars:\n",
    "    if \"likeJohnson\" in new_var:\n",
    "        old_to_new_dict[new_var.replace(\"likeJohnson\",\"likeBoris\")] = new_var\n",
    "    elif \"parentNumEmployees\" in new_var:\n",
    "        old_to_new_dict[new_var.replace(\"parentNumEmployees\",\"fatherNumEmployees\")] = new_var\n",
    "        old_to_new_dict[new_var.replace(\"parentNumEmployees\",\"motherNumEmployees\")] = new_var\n",
    "#     else:\n",
    "#         print(\"doesn't appear to have older analogue\",new_key)"
   ]
  },
  {
   "cell_type": "code",
   "execution_count": 133,
   "metadata": {},
   "outputs": [],
   "source": [
    "old_to_new_dict[\"profile_sexualityW10\"] = \"xsexualityW10\"\n",
    "\n",
    "old_to_new_dict[\"profile_scotref_vote\"] = \"p_vote_scot_ref\"\n",
    "old_to_new_dict[\"profile_scotref_turnout\"] = \"p_turnout_scot_ref\"\n",
    "\n",
    "old_to_new_dict[\"newspaperReadW15\"] = \"p_paper_readW15\"\n",
    "old_to_new_dict[\"profile_newspaper2W12\"] = \"p_paper_readW12\"\n",
    "old_to_new_dict[\"profiles_newspaper2W16\"] = \"p_paper_readW16\"\n",
    "old_to_new_dict[\"profiles_newspaper2W17\"] = \"p_paper_readW17\"\n",
    "\n",
    "old_to_new_dict[\"ethnicity2W15\"] = \"p_ethnicityW15\"\n",
    "old_to_new_dict[\"ethnicity2W16\"] = \"p_ethnicityW16\"\n",
    "old_to_new_dict[\"profile_ethnicity2W17\"] = \"p_ethnicityW17\"\n",
    "old_to_new_dict[\"profile_ethnicity2W18\"] = \"p_ethnicityW18\"\n",
    "old_to_new_dict[\"profile_ethnicity2W19\"] = \"p_ethnicityW19\"\n",
    "\n"
   ]
  },
  {
   "cell_type": "code",
   "execution_count": 136,
   "metadata": {},
   "outputs": [
    {
     "name": "stdout",
     "output_type": "stream",
     "text": [
      "profile_household_childrenW18  not in new vars\n",
      "profile_scotRefW18  not in new vars\n",
      "profile_scotRefW19  not in new vars\n",
      "profile_scotRefW17  not in new vars\n",
      "profile_household_childrenW19  not in new vars\n",
      "profile_work_statW1_W10  not in new vars\n"
     ]
    }
   ],
   "source": [
    "\n",
    "drop_vars = [\"work_type\",\"work_organisation\",\"work_responsibility\",\"work_industry\",\"profile_lea\",\"profile_oslaua\",\"profile_mpname\"]\n",
    "\n",
    "for x in [x for x in gone_vars if \"profile\" in x and x not in old_to_new_dict.keys()]:\n",
    "    \n",
    "    if x.replace(\"profile\",\"p\") in new_vars:\n",
    "        old_to_new_dict[x] = x.replace(\"profile\",\"p\")\n",
    "    elif x.replace(\"profile_household_size\",\"p_hh_size\") in new_vars:\n",
    "        old_to_new_dict[x] = x.replace(\"profile_household_size\",\"p_hh_size\")\n",
    "    elif x.replace(\"profile_marital_stat\",\"p_marital\") in new_vars:\n",
    "        old_to_new_dict[x] = x.replace(\"profile_marital_stat\",\"p_marital\")\n",
    "    elif x.replace(\"profile_house_tenure\",\"p_housing\") in new_vars:\n",
    "        old_to_new_dict[x] = x.replace(\"profile_house_tenure\",\"p_housing\")\n",
    "    elif x.replace(\"profile_socialgrade_cie\",\"p_socgrade\") in new_vars:\n",
    "        old_to_new_dict[x] = x.replace(\"profile_socialgrade_cie\",\"p_socgrade\")\n",
    "    elif x.replace(\"profile_newspaper\",\"p_paper_read\") in new_vars:\n",
    "        old_to_new_dict[x] = x.replace(\"profile_newspaper\",\"p_paper_read\")\n",
    "        \n",
    "        \n",
    "        \n",
    "        \n",
    "        \n",
    "    elif not np.any([y in x for y in drop_vars]) and re.match(\"\\d\",x[-1]):\n",
    "        print(x, \" not in new vars\")\n",
    "        \n",
    "        \n",
    "        \n",
    "# many of the \"amalgamated waveless\" variables have disappeared\n",
    "# work_type|organisation|responsibility|industry\n",
    "# profile_lea,profile_leaW17,profile_oslaua\n",
    "# profile_mpnameW2,profile_mpnameW3\n",
    "\n",
    "\n",
    "# profile_scotRefW17,profile_scotRefW18,profile_scotRefW19\n",
    "# profile_household_childrenW18,profile_household_childrenW19\n",
    "# profile_work_statW1_W10\n"
   ]
  },
  {
   "cell_type": "code",
   "execution_count": 137,
   "metadata": {},
   "outputs": [
    {
     "data": {
      "text/html": [
       "['p_sexualityW13', 'p_sexualityW9', 'p_religionW6', 'p_disabilityW13', 'p_paper_readW4', 'p_sexualityW17', 'p_gross_personalW17', 'p_edlevelUniW8', 'p_religionW1', 'p_gross_householdW1', 'p_edlevelW16', 'p_edlevelW5', 'p_maritalW6', 'p_parentW10', 'p_sexualityW15', 'p_parentW15', 'p_edlevelW9', 'p_gross_personalW1', 'p_maritalW12', 'p_hh_sizeW17', 'p_hh_sizeW11', 'p_parentW11', 'p_gross_personalW2', 'p_parentW9', 'p_educationW11', 'p_edlevelW4', 'p_education_ageW8', 'p_ethnicityW6', 'p_disabilityW4', 'p_ethnicityW1', 'p_maritalW3', 'p_sexualityW18', 'p_hh_sizeW14', 'p_socgradeW11', 'p_turnout_2010', 'p_disabilityW14', 'p_gross_personalW13', 'p_parentW16', 'p_sexualityW2', 'p_disabilityW2', 'p_work_statW9', 'p_past_vote_2019', 'p_religionW2', 'p_parentW8', 'p_turnout_2005', 'p_educationW15', 'p_educationW3', 'p_gross_personalW4', 'p_scot_list_vote_2011', 'p_edlevelUniW19', 'p_housingW3', 'p_paper_readW6', 'p_maritalW7', 'p_edlevelW7', 'p_disabilityW12', 'p_ethnicityW13', 'p_edlevelW8', 'p_educationW8', 'p_hh_sizeW9', 'p_sexualityW8', 'p_edlevelUniW9', 'p_housingW5', 'p_education_ageW12', 'p_gross_personalW16', 'p_disabilityW16', 'p_paper_readW14', 'p_educationW17', 'p_educationW19', 'p_edlevelUniW17', 'p_educationW7', 'p_maritalW9', 'p_edlevelW11', 'p_gross_householdW3', 'p_hh_sizeW13', 'p_disabilityW18', 'p_disabilityW15', 'p_edlevelUniW7', 'p_maritalW1', 'p_paper_readW8', 'p_scot_const_vote_2016', 'p_sexualityW3', 'p_maritalW4', 'p_educationW14', 'p_hh_sizeW16', 'p_sexualityW6', 'p_education_ageW1', 'p_maritalW8', 'p_educationW16', 'p_scot_const_vote_2011', 'p_educationW6', 'p_ethnicityW4', 'p_hh_sizeW3', 'p_sexualityW11', 'p_ethnicityW10', 'p_sexualityW4', 'p_disabilityW1', 'p_ethnicityW3', 'p_hh_sizeW6', 'p_work_statW15', 'p_paper_readW3', 'p_work_statW2', 'p_welsh_const_vote_2016', 'p_gross_householdW4', 'p_socgradeW2', 'p_housingW2', 'p_educationW9', 'p_hh_sizeW12', 'p_sexualityW7', 'p_paper_readW19', 'p_hh_sizeW2', 'p_gross_householdW9', 'p_parentW13', 'p_parentW17', 'p_sexualityW19', 'p_housingW19', 'p_disabilityW11', 'p_education_ageW15', 'p_edlevelUniW10', 'p_religionW7', 'p_educationW10', 'p_education_ageW17', 'p_parentW14', 'p_sexualityW10', 'p_disabilityW17', 'p_edlevelW14', 'p_disabilityW3', 'p_welsh_list_vote_2016', 'p_hh_sizeW4', 'p_socgradeW9', 'p_gross_householdW5', 'p_paper_readW9', 'p_work_statW6', 'p_hh_sizeW8', 'p_religionW18', 'p_gross_personalW3', 'p_gross_personalW15', 'p_educationW18', 'p_work_statW1', 'p_education_ageW3', 'p_edlevelW2', 'p_work_statW10', 'p_edlevelUniW18', 'p_scot_list_vote_2016', 'p_paper_readW7', 'p_educationW12', 'p_ethnicityW14', 'p_ethnicityW9', 'p_work_statW5', 'p_sexualityW14', 'p_edlevelW3', 'p_education_ageW10', 'p_work_statW8', 'p_religionW4', 'p_gross_personalW11', 'p_housingW7', 'p_housingW8', 'p_maritalW5', 'p_edlevelUniW12', 'p_gross_personalW10', 'p_edlevelW15', 'p_edlevelW17', 'p_education_ageW16', 'p_ethnicityW11', 'p_educationW4', 'p_hh_sizeW5', 'p_gross_personalW8', 'p_housingW18', 'p_ethnicityW2', 'p_edlevelUniW14', 'p_edlevelW1', 'p_educationW5', 'p_edlevelW6', 'p_sexualityW16', 'p_gross_householdW8', 'p_edlevelUniW11', 'p_parentW12', 'p_education_ageW14', 'p_paper_readW1', 'p_disabilityW10', 'p_maritalW19', 'p_gross_householdW6', 'p_socgradeW6', 'p_turnout_2019', 'p_maritalW2', 'p_religionW3', 'p_gross_personalW12', 'p_gross_personalW14', 'p_housingW9', 'p_edlevelW10', 'p_hh_sizeW15', 'p_educationW2', 'p_gross_householdW2', 'p_disabilityW7', 'p_ethnicityW5', 'p_education_ageW11', 'p_religionW5', 'p_education_ageW5', 'p_gross_personalW6', 'p_edlevelW19', 'p_disabilityW5', 'p_gross_personalW9', 'p_paper_readW5', 'p_sexualityW12', 'p_education_ageW6', 'p_edlevelUniW15', 'p_work_statW3', 'p_housingW4', 'p_ethnicityW8', 'p_housingW1', 'p_parentW19', 'p_ethnicityW12', 'p_gross_personalW5', 'p_education_ageW2', 'p_parentW18', 'p_maritalW10', 'p_edlevelUniW16', 'p_disabilityW6', 'p_housingW6', 'p_religionW19', 'p_socgradeW1', 'p_socgradeW10', 'p_edlevelUniW13', 'p_sexualityW5', 'p_disabilityW8', 'p_socgradeW4', 'p_edlevelW13', 'p_hh_sizeW1', 'p_work_statW16', 'p_education_ageW9', 'p_education_ageW4', 'p_paper_readW18', 'p_socgradeW5', 'p_educationW1', 'p_disabilityW19', 'p_paper_readW2', 'p_socgradeW3', 'p_religionW9', 'p_work_statW4', 'p_religionW8', 'p_sexualityW1', 'p_educationW13', 'p_edlevelW18', 'p_disabilityW9', 'p_edlevelW12']"
      ],
      "text/plain": [
       "['p_sexualityW13',\n",
       " 'p_sexualityW9',\n",
       " 'p_religionW6',\n",
       " 'p_disabilityW13',\n",
       " 'p_paper_readW4',\n",
       " 'p_sexualityW17',\n",
       " 'p_gross_personalW17',\n",
       " 'p_edlevelUniW8',\n",
       " 'p_religionW1',\n",
       " 'p_gross_householdW1',\n",
       " 'p_edlevelW16',\n",
       " 'p_edlevelW5',\n",
       " 'p_maritalW6',\n",
       " 'p_parentW10',\n",
       " 'p_sexualityW15',\n",
       " 'p_parentW15',\n",
       " 'p_edlevelW9',\n",
       " 'p_gross_personalW1',\n",
       " 'p_maritalW12',\n",
       " 'p_hh_sizeW17',\n",
       " 'p_hh_sizeW11',\n",
       " 'p_parentW11',\n",
       " 'p_gross_personalW2',\n",
       " 'p_parentW9',\n",
       " 'p_educationW11',\n",
       " 'p_edlevelW4',\n",
       " 'p_education_ageW8',\n",
       " 'p_ethnicityW6',\n",
       " 'p_disabilityW4',\n",
       " 'p_ethnicityW1',\n",
       " 'p_maritalW3',\n",
       " 'p_sexualityW18',\n",
       " 'p_hh_sizeW14',\n",
       " 'p_socgradeW11',\n",
       " 'p_turnout_2010',\n",
       " 'p_disabilityW14',\n",
       " 'p_gross_personalW13',\n",
       " 'p_parentW16',\n",
       " 'p_sexualityW2',\n",
       " 'p_disabilityW2',\n",
       " 'p_work_statW9',\n",
       " 'p_past_vote_2019',\n",
       " 'p_religionW2',\n",
       " 'p_parentW8',\n",
       " 'p_turnout_2005',\n",
       " 'p_educationW15',\n",
       " 'p_educationW3',\n",
       " 'p_gross_personalW4',\n",
       " 'p_scot_list_vote_2011',\n",
       " 'p_edlevelUniW19',\n",
       " 'p_housingW3',\n",
       " 'p_paper_readW6',\n",
       " 'p_maritalW7',\n",
       " 'p_edlevelW7',\n",
       " 'p_disabilityW12',\n",
       " 'p_ethnicityW13',\n",
       " 'p_edlevelW8',\n",
       " 'p_educationW8',\n",
       " 'p_hh_sizeW9',\n",
       " 'p_sexualityW8',\n",
       " 'p_edlevelUniW9',\n",
       " 'p_housingW5',\n",
       " 'p_education_ageW12',\n",
       " 'p_gross_personalW16',\n",
       " 'p_disabilityW16',\n",
       " 'p_paper_readW14',\n",
       " 'p_educationW17',\n",
       " 'p_educationW19',\n",
       " 'p_edlevelUniW17',\n",
       " 'p_educationW7',\n",
       " 'p_maritalW9',\n",
       " 'p_edlevelW11',\n",
       " 'p_gross_householdW3',\n",
       " 'p_hh_sizeW13',\n",
       " 'p_disabilityW18',\n",
       " 'p_disabilityW15',\n",
       " 'p_edlevelUniW7',\n",
       " 'p_maritalW1',\n",
       " 'p_paper_readW8',\n",
       " 'p_scot_const_vote_2016',\n",
       " 'p_sexualityW3',\n",
       " 'p_maritalW4',\n",
       " 'p_educationW14',\n",
       " 'p_hh_sizeW16',\n",
       " 'p_sexualityW6',\n",
       " 'p_education_ageW1',\n",
       " 'p_maritalW8',\n",
       " 'p_educationW16',\n",
       " 'p_scot_const_vote_2011',\n",
       " 'p_educationW6',\n",
       " 'p_ethnicityW4',\n",
       " 'p_hh_sizeW3',\n",
       " 'p_sexualityW11',\n",
       " 'p_ethnicityW10',\n",
       " 'p_sexualityW4',\n",
       " 'p_disabilityW1',\n",
       " 'p_ethnicityW3',\n",
       " 'p_hh_sizeW6',\n",
       " 'p_work_statW15',\n",
       " 'p_paper_readW3',\n",
       " 'p_work_statW2',\n",
       " 'p_welsh_const_vote_2016',\n",
       " 'p_gross_householdW4',\n",
       " 'p_socgradeW2',\n",
       " 'p_housingW2',\n",
       " 'p_educationW9',\n",
       " 'p_hh_sizeW12',\n",
       " 'p_sexualityW7',\n",
       " 'p_paper_readW19',\n",
       " 'p_hh_sizeW2',\n",
       " 'p_gross_householdW9',\n",
       " 'p_parentW13',\n",
       " 'p_parentW17',\n",
       " 'p_sexualityW19',\n",
       " 'p_housingW19',\n",
       " 'p_disabilityW11',\n",
       " 'p_education_ageW15',\n",
       " 'p_edlevelUniW10',\n",
       " 'p_religionW7',\n",
       " 'p_educationW10',\n",
       " 'p_education_ageW17',\n",
       " 'p_parentW14',\n",
       " 'p_sexualityW10',\n",
       " 'p_disabilityW17',\n",
       " 'p_edlevelW14',\n",
       " 'p_disabilityW3',\n",
       " 'p_welsh_list_vote_2016',\n",
       " 'p_hh_sizeW4',\n",
       " 'p_socgradeW9',\n",
       " 'p_gross_householdW5',\n",
       " 'p_paper_readW9',\n",
       " 'p_work_statW6',\n",
       " 'p_hh_sizeW8',\n",
       " 'p_religionW18',\n",
       " 'p_gross_personalW3',\n",
       " 'p_gross_personalW15',\n",
       " 'p_educationW18',\n",
       " 'p_work_statW1',\n",
       " 'p_education_ageW3',\n",
       " 'p_edlevelW2',\n",
       " 'p_work_statW10',\n",
       " 'p_edlevelUniW18',\n",
       " 'p_scot_list_vote_2016',\n",
       " 'p_paper_readW7',\n",
       " 'p_educationW12',\n",
       " 'p_ethnicityW14',\n",
       " 'p_ethnicityW9',\n",
       " 'p_work_statW5',\n",
       " 'p_sexualityW14',\n",
       " 'p_edlevelW3',\n",
       " 'p_education_ageW10',\n",
       " 'p_work_statW8',\n",
       " 'p_religionW4',\n",
       " 'p_gross_personalW11',\n",
       " 'p_housingW7',\n",
       " 'p_housingW8',\n",
       " 'p_maritalW5',\n",
       " 'p_edlevelUniW12',\n",
       " 'p_gross_personalW10',\n",
       " 'p_edlevelW15',\n",
       " 'p_edlevelW17',\n",
       " 'p_education_ageW16',\n",
       " 'p_ethnicityW11',\n",
       " 'p_educationW4',\n",
       " 'p_hh_sizeW5',\n",
       " 'p_gross_personalW8',\n",
       " 'p_housingW18',\n",
       " 'p_ethnicityW2',\n",
       " 'p_edlevelUniW14',\n",
       " 'p_edlevelW1',\n",
       " 'p_educationW5',\n",
       " 'p_edlevelW6',\n",
       " 'p_sexualityW16',\n",
       " 'p_gross_householdW8',\n",
       " 'p_edlevelUniW11',\n",
       " 'p_parentW12',\n",
       " 'p_education_ageW14',\n",
       " 'p_paper_readW1',\n",
       " 'p_disabilityW10',\n",
       " 'p_maritalW19',\n",
       " 'p_gross_householdW6',\n",
       " 'p_socgradeW6',\n",
       " 'p_turnout_2019',\n",
       " 'p_maritalW2',\n",
       " 'p_religionW3',\n",
       " 'p_gross_personalW12',\n",
       " 'p_gross_personalW14',\n",
       " 'p_housingW9',\n",
       " 'p_edlevelW10',\n",
       " 'p_hh_sizeW15',\n",
       " 'p_educationW2',\n",
       " 'p_gross_householdW2',\n",
       " 'p_disabilityW7',\n",
       " 'p_ethnicityW5',\n",
       " 'p_education_ageW11',\n",
       " 'p_religionW5',\n",
       " 'p_education_ageW5',\n",
       " 'p_gross_personalW6',\n",
       " 'p_edlevelW19',\n",
       " 'p_disabilityW5',\n",
       " 'p_gross_personalW9',\n",
       " 'p_paper_readW5',\n",
       " 'p_sexualityW12',\n",
       " 'p_education_ageW6',\n",
       " 'p_edlevelUniW15',\n",
       " 'p_work_statW3',\n",
       " 'p_housingW4',\n",
       " 'p_ethnicityW8',\n",
       " 'p_housingW1',\n",
       " 'p_parentW19',\n",
       " 'p_ethnicityW12',\n",
       " 'p_gross_personalW5',\n",
       " 'p_education_ageW2',\n",
       " 'p_parentW18',\n",
       " 'p_maritalW10',\n",
       " 'p_edlevelUniW16',\n",
       " 'p_disabilityW6',\n",
       " 'p_housingW6',\n",
       " 'p_religionW19',\n",
       " 'p_socgradeW1',\n",
       " 'p_socgradeW10',\n",
       " 'p_edlevelUniW13',\n",
       " 'p_sexualityW5',\n",
       " 'p_disabilityW8',\n",
       " 'p_socgradeW4',\n",
       " 'p_edlevelW13',\n",
       " 'p_hh_sizeW1',\n",
       " 'p_work_statW16',\n",
       " 'p_education_ageW9',\n",
       " 'p_education_ageW4',\n",
       " 'p_paper_readW18',\n",
       " 'p_socgradeW5',\n",
       " 'p_educationW1',\n",
       " 'p_disabilityW19',\n",
       " 'p_paper_readW2',\n",
       " 'p_socgradeW3',\n",
       " 'p_religionW9',\n",
       " 'p_work_statW4',\n",
       " 'p_religionW8',\n",
       " 'p_sexualityW1',\n",
       " 'p_educationW13',\n",
       " 'p_edlevelW18',\n",
       " 'p_disabilityW9',\n",
       " 'p_edlevelW12']"
      ]
     },
     "execution_count": 137,
     "metadata": {},
     "output_type": "execute_result"
    }
   ],
   "source": [
    "[x for x in new_vars if \"p_\" in x and x not in old_to_new_dict.values()]\n",
    "\n",
    "# disability and sexuality largely new\n",
    "\n",
    "# \n",
    "\n"
   ]
  },
  {
   "cell_type": "code",
   "execution_count": 130,
   "metadata": {},
   "outputs": [
    {
     "data": {
      "text/html": [
       "['p_sexualityW13', 'p_sexualityW9', 'p_religionW6', 'p_disabilityW13', 'oslauaW9', 'p_paper_readW4', 'p_sexualityW17', 'p_gross_personalW17', 'p_edlevelUniW8', 'p_religionW1', 'p_gross_householdW1', 'p_edlevelW16', 'p_edlevelW5', 'p_maritalW6', 'p_parentW10', 'p_sexualityW15', 'countryW18', 'p_parentW15', 'p_edlevelW9', 'p_gross_personalW1', 'p_maritalW12', 'oslauaW19', 'p_hh_sizeW17', 'oslauaW14', 'p_hh_sizeW11', 'gorW20', 'p_parentW11', 'p_gross_personalW2', 'p_parentW9', 'p_educationW11', 'p_edlevelW4', 'p_education_ageW8', 'p_ethnicityW6', 'p_disabilityW4', 'oslauaW2', 'p_ethnicityW1', 'p_maritalW3', 'p_sexualityW18', 'p_hh_sizeW14', 'p_socgradeW11', 'p_turnout_2010', 'p_disabilityW14', 'p_gross_personalW13', 'p_ethnicityW19', 'p_parentW16', 'p_sexualityW2', 'oslauaW16', 'p_disabilityW2', 'p_work_statW9', 'oslauaW15', 'p_past_vote_2019', 'p_religionW2', 'enviroGrowthW17', 'p_parentW8', 'p_turnout_2005', 'ageW3', 'enviroGrowthW7', 'p_educationW15', 'p_educationW3', 'p_gross_personalW4', 'p_scot_list_vote_2011', 'oslauaW3', 'p_edlevelUniW19', 'p_ethnicityW17', 'gorW18', 'p_housingW3', 'p_paper_readW6', 'p_maritalW7', 'p_edlevelW7', 'p_disabilityW12', 'xsexualityW10', 'p_ethnicityW13', 'p_edlevelW8', 'p_educationW8', 'p_hh_sizeW9', 'p_sexualityW8', 'oslauaW10', 'p_edlevelUniW9', 'p_housingW5', 'p_education_ageW12', 'p_gross_personalW16', 'p_disabilityW16', 'p_paper_readW14', 'p_ethnicityW18', 'p_educationW17', 'p_educationW19', 'p_edlevelUniW17', 'p_educationW7', 'p_maritalW9', 'p_edlevelW11', 'p_gross_householdW3', 'oslauaW11', 'p_hh_sizeW13', 'p_disabilityW18', 'p_disabilityW15', 'motherVoteW3W14_W17', 'p_edlevelUniW7', 'p_maritalW1', 'p_paper_readW8', 'p_scot_const_vote_2016', 'p_sexualityW3', 'p_maritalW4', 'p_educationW14', 'p_hh_sizeW16', 'p_sexualityW6', 'p_education_ageW1', 'p_maritalW8', 'p_educationW16', 'p_scot_const_vote_2011', 'p_educationW6', 'p_turnout_scot_ref', 'p_ethnicityW4', 'p_hh_sizeW3', 'p_sexualityW11', 'p_ethnicityW10', 'p_sexualityW4', 'p_disabilityW1', 'p_ethnicityW3', 'p_hh_sizeW6', 'p_ethnicityW15', 'p_work_statW15', 'p_paper_readW3', 'p_work_statW2', 'countryW4', 'p_welsh_const_vote_2016', 'p_gross_householdW4', 'panoW18', 'p_socgradeW2', 'p_housingW2', 'p_educationW9', 'p_hh_sizeW12', 'p_sexualityW7', 'oslauaW1', 'p_paper_readW19', 'p_hh_sizeW2', 'oslauaW18', 'p_gross_householdW9', 'p_parentW13', 'p_parentW17', 'p_sexualityW19', 'p_housingW19', 'oslauaW13', 'p_disabilityW11', 'p_education_ageW15', 'p_edlevelUniW10', 'panoW4', 'p_religionW7', 'p_educationW10', 'p_education_ageW17', 'oslauaW17', 'p_parentW14', 'oslauaW5', 'p_disabilityW17', 'p_edlevelW14', 'p_disabilityW3', 'p_welsh_list_vote_2016', 'p_hh_sizeW4', 'p_socgradeW9', 'p_gross_householdW5', 'oslauaW8', 'p_paper_readW9', 'oslauaW6', 'p_work_statW6', 'p_hh_sizeW8', 'p_religionW18', 'p_gross_personalW3', 'p_gross_personalW15', 'p_educationW18', 'p_work_statW1', 'p_education_ageW3', 'p_edlevelW2', 'p_work_statW10', 'p_edlevelUniW18', 'p_scot_list_vote_2016', 'p_paper_readW7', 'enviroGrowthW16', 'p_educationW12', 'p_ethnicityW14', 'p_ethnicityW9', 'p_work_statW5', 'p_sexualityW14', 'p_edlevelW3', 'p_education_ageW10', 'p_work_statW8', 'p_religionW4', 'genElecTurnoutRetroW7', 'p_gross_personalW11', 'p_housingW7', 'pconW18', 'p_housingW8', 'fatherVoteW3W14_W17', 'p_maritalW5', 'p_edlevelUniW12', 'p_gross_personalW10', 'pconW4', 'p_edlevelW15', 'p_edlevelW17', 'p_education_ageW16', 'p_ethnicityW11', 'p_educationW4', 'p_hh_sizeW5', 'p_gross_personalW8', 'p_housingW18', 'p_ethnicityW2', 'p_edlevelUniW14', 'p_edlevelW1', 'p_educationW5', 'p_edlevelW6', 'p_sexualityW16', 'p_gross_householdW8', 'p_edlevelUniW11', 'p_parentW12', 'p_education_ageW14', 'p_paper_readW1', 'p_disabilityW10', 'p_maritalW19', 'p_gross_householdW6', 'p_socgradeW6', 'p_turnout_2019', 'p_maritalW2', 'p_religionW3', 'p_gross_personalW12', 'p_gross_personalW14', 'p_housingW9', 'p_edlevelW10', 'p_ethnicityW16', 'p_hh_sizeW15', 'p_educationW2', 'oslauaW4', 'ageW2', 'p_gross_householdW2', 'p_disabilityW7', 'p_ethnicityW5', 'p_education_ageW11', 'p_religionW5', 'oslauaW12', 'p_education_ageW5', 'p_gross_personalW6', 'p_edlevelW19', 'p_disabilityW5', 'p_gross_personalW9', 'p_paper_readW5', 'p_sexualityW12', 'p_education_ageW6', 'enviroGrowthW4', 'ageW6', 'gorW4', 'p_edlevelUniW15', 'ageW10', 'ageW5', 'p_work_statW3', 'p_housingW4', 'p_ethnicityW8', 'p_housingW1', 'p_parentW19', 'p_ethnicityW12', 'p_gross_personalW5', 'p_education_ageW2', 'oslauaW7', 'p_parentW18', 'p_maritalW10', 'p_edlevelUniW16', 'ageW4', 'p_disabilityW6', 'p_housingW6', 'p_religionW19', 'p_socgradeW1', 'p_socgradeW10', 'p_edlevelUniW13', 'p_sexualityW5', 'p_disabilityW8', 'p_socgradeW4', 'p_edlevelW13', 'p_hh_sizeW1', 'p_work_statW16', 'countryW20', 'p_education_ageW9', 'p_education_ageW4', 'p_paper_readW18', 'p_socgradeW5', 'voted2015newwordingW15', 'p_educationW1', 'p_disabilityW19', 'p_paper_readW2', 'p_socgradeW3', 'p_religionW9', 'p_work_statW4', 'p_religionW8', 'p_sexualityW1', 'p_educationW13', 'p_edlevelW18', 'p_disabilityW9', 'p_edlevelW12']"
      ],
      "text/plain": [
       "['p_sexualityW13',\n",
       " 'p_sexualityW9',\n",
       " 'p_religionW6',\n",
       " 'p_disabilityW13',\n",
       " 'oslauaW9',\n",
       " 'p_paper_readW4',\n",
       " 'p_sexualityW17',\n",
       " 'p_gross_personalW17',\n",
       " 'p_edlevelUniW8',\n",
       " 'p_religionW1',\n",
       " 'p_gross_householdW1',\n",
       " 'p_edlevelW16',\n",
       " 'p_edlevelW5',\n",
       " 'p_maritalW6',\n",
       " 'p_parentW10',\n",
       " 'p_sexualityW15',\n",
       " 'countryW18',\n",
       " 'p_parentW15',\n",
       " 'p_edlevelW9',\n",
       " 'p_gross_personalW1',\n",
       " 'p_maritalW12',\n",
       " 'oslauaW19',\n",
       " 'p_hh_sizeW17',\n",
       " 'oslauaW14',\n",
       " 'p_hh_sizeW11',\n",
       " 'gorW20',\n",
       " 'p_parentW11',\n",
       " 'p_gross_personalW2',\n",
       " 'p_parentW9',\n",
       " 'p_educationW11',\n",
       " 'p_edlevelW4',\n",
       " 'p_education_ageW8',\n",
       " 'p_ethnicityW6',\n",
       " 'p_disabilityW4',\n",
       " 'oslauaW2',\n",
       " 'p_ethnicityW1',\n",
       " 'p_maritalW3',\n",
       " 'p_sexualityW18',\n",
       " 'p_hh_sizeW14',\n",
       " 'p_socgradeW11',\n",
       " 'p_turnout_2010',\n",
       " 'p_disabilityW14',\n",
       " 'p_gross_personalW13',\n",
       " 'p_ethnicityW19',\n",
       " 'p_parentW16',\n",
       " 'p_sexualityW2',\n",
       " 'oslauaW16',\n",
       " 'p_disabilityW2',\n",
       " 'p_work_statW9',\n",
       " 'oslauaW15',\n",
       " 'p_past_vote_2019',\n",
       " 'p_religionW2',\n",
       " 'enviroGrowthW17',\n",
       " 'p_parentW8',\n",
       " 'p_turnout_2005',\n",
       " 'ageW3',\n",
       " 'enviroGrowthW7',\n",
       " 'p_educationW15',\n",
       " 'p_educationW3',\n",
       " 'p_gross_personalW4',\n",
       " 'p_scot_list_vote_2011',\n",
       " 'oslauaW3',\n",
       " 'p_edlevelUniW19',\n",
       " 'p_ethnicityW17',\n",
       " 'gorW18',\n",
       " 'p_housingW3',\n",
       " 'p_paper_readW6',\n",
       " 'p_maritalW7',\n",
       " 'p_edlevelW7',\n",
       " 'p_disabilityW12',\n",
       " 'xsexualityW10',\n",
       " 'p_ethnicityW13',\n",
       " 'p_edlevelW8',\n",
       " 'p_educationW8',\n",
       " 'p_hh_sizeW9',\n",
       " 'p_sexualityW8',\n",
       " 'oslauaW10',\n",
       " 'p_edlevelUniW9',\n",
       " 'p_housingW5',\n",
       " 'p_education_ageW12',\n",
       " 'p_gross_personalW16',\n",
       " 'p_disabilityW16',\n",
       " 'p_paper_readW14',\n",
       " 'p_ethnicityW18',\n",
       " 'p_educationW17',\n",
       " 'p_educationW19',\n",
       " 'p_edlevelUniW17',\n",
       " 'p_educationW7',\n",
       " 'p_maritalW9',\n",
       " 'p_edlevelW11',\n",
       " 'p_gross_householdW3',\n",
       " 'oslauaW11',\n",
       " 'p_hh_sizeW13',\n",
       " 'p_disabilityW18',\n",
       " 'p_disabilityW15',\n",
       " 'motherVoteW3W14_W17',\n",
       " 'p_edlevelUniW7',\n",
       " 'p_maritalW1',\n",
       " 'p_paper_readW8',\n",
       " 'p_scot_const_vote_2016',\n",
       " 'p_sexualityW3',\n",
       " 'p_maritalW4',\n",
       " 'p_educationW14',\n",
       " 'p_hh_sizeW16',\n",
       " 'p_sexualityW6',\n",
       " 'p_education_ageW1',\n",
       " 'p_maritalW8',\n",
       " 'p_educationW16',\n",
       " 'p_scot_const_vote_2011',\n",
       " 'p_educationW6',\n",
       " 'p_turnout_scot_ref',\n",
       " 'p_ethnicityW4',\n",
       " 'p_hh_sizeW3',\n",
       " 'p_sexualityW11',\n",
       " 'p_ethnicityW10',\n",
       " 'p_sexualityW4',\n",
       " 'p_disabilityW1',\n",
       " 'p_ethnicityW3',\n",
       " 'p_hh_sizeW6',\n",
       " 'p_ethnicityW15',\n",
       " 'p_work_statW15',\n",
       " 'p_paper_readW3',\n",
       " 'p_work_statW2',\n",
       " 'countryW4',\n",
       " 'p_welsh_const_vote_2016',\n",
       " 'p_gross_householdW4',\n",
       " 'panoW18',\n",
       " 'p_socgradeW2',\n",
       " 'p_housingW2',\n",
       " 'p_educationW9',\n",
       " 'p_hh_sizeW12',\n",
       " 'p_sexualityW7',\n",
       " 'oslauaW1',\n",
       " 'p_paper_readW19',\n",
       " 'p_hh_sizeW2',\n",
       " 'oslauaW18',\n",
       " 'p_gross_householdW9',\n",
       " 'p_parentW13',\n",
       " 'p_parentW17',\n",
       " 'p_sexualityW19',\n",
       " 'p_housingW19',\n",
       " 'oslauaW13',\n",
       " 'p_disabilityW11',\n",
       " 'p_education_ageW15',\n",
       " 'p_edlevelUniW10',\n",
       " 'panoW4',\n",
       " 'p_religionW7',\n",
       " 'p_educationW10',\n",
       " 'p_education_ageW17',\n",
       " 'oslauaW17',\n",
       " 'p_parentW14',\n",
       " 'oslauaW5',\n",
       " 'p_disabilityW17',\n",
       " 'p_edlevelW14',\n",
       " 'p_disabilityW3',\n",
       " 'p_welsh_list_vote_2016',\n",
       " 'p_hh_sizeW4',\n",
       " 'p_socgradeW9',\n",
       " 'p_gross_householdW5',\n",
       " 'oslauaW8',\n",
       " 'p_paper_readW9',\n",
       " 'oslauaW6',\n",
       " 'p_work_statW6',\n",
       " 'p_hh_sizeW8',\n",
       " 'p_religionW18',\n",
       " 'p_gross_personalW3',\n",
       " 'p_gross_personalW15',\n",
       " 'p_educationW18',\n",
       " 'p_work_statW1',\n",
       " 'p_education_ageW3',\n",
       " 'p_edlevelW2',\n",
       " 'p_work_statW10',\n",
       " 'p_edlevelUniW18',\n",
       " 'p_scot_list_vote_2016',\n",
       " 'p_paper_readW7',\n",
       " 'enviroGrowthW16',\n",
       " 'p_educationW12',\n",
       " 'p_ethnicityW14',\n",
       " 'p_ethnicityW9',\n",
       " 'p_work_statW5',\n",
       " 'p_sexualityW14',\n",
       " 'p_edlevelW3',\n",
       " 'p_education_ageW10',\n",
       " 'p_work_statW8',\n",
       " 'p_religionW4',\n",
       " 'genElecTurnoutRetroW7',\n",
       " 'p_gross_personalW11',\n",
       " 'p_housingW7',\n",
       " 'pconW18',\n",
       " 'p_housingW8',\n",
       " 'fatherVoteW3W14_W17',\n",
       " 'p_maritalW5',\n",
       " 'p_edlevelUniW12',\n",
       " 'p_gross_personalW10',\n",
       " 'pconW4',\n",
       " 'p_edlevelW15',\n",
       " 'p_edlevelW17',\n",
       " 'p_education_ageW16',\n",
       " 'p_ethnicityW11',\n",
       " 'p_educationW4',\n",
       " 'p_hh_sizeW5',\n",
       " 'p_gross_personalW8',\n",
       " 'p_housingW18',\n",
       " 'p_ethnicityW2',\n",
       " 'p_edlevelUniW14',\n",
       " 'p_edlevelW1',\n",
       " 'p_educationW5',\n",
       " 'p_edlevelW6',\n",
       " 'p_sexualityW16',\n",
       " 'p_gross_householdW8',\n",
       " 'p_edlevelUniW11',\n",
       " 'p_parentW12',\n",
       " 'p_education_ageW14',\n",
       " 'p_paper_readW1',\n",
       " 'p_disabilityW10',\n",
       " 'p_maritalW19',\n",
       " 'p_gross_householdW6',\n",
       " 'p_socgradeW6',\n",
       " 'p_turnout_2019',\n",
       " 'p_maritalW2',\n",
       " 'p_religionW3',\n",
       " 'p_gross_personalW12',\n",
       " 'p_gross_personalW14',\n",
       " 'p_housingW9',\n",
       " 'p_edlevelW10',\n",
       " 'p_ethnicityW16',\n",
       " 'p_hh_sizeW15',\n",
       " 'p_educationW2',\n",
       " 'oslauaW4',\n",
       " 'ageW2',\n",
       " 'p_gross_householdW2',\n",
       " 'p_disabilityW7',\n",
       " 'p_ethnicityW5',\n",
       " 'p_education_ageW11',\n",
       " 'p_religionW5',\n",
       " 'oslauaW12',\n",
       " 'p_education_ageW5',\n",
       " 'p_gross_personalW6',\n",
       " 'p_edlevelW19',\n",
       " 'p_disabilityW5',\n",
       " 'p_gross_personalW9',\n",
       " 'p_paper_readW5',\n",
       " 'p_sexualityW12',\n",
       " 'p_education_ageW6',\n",
       " 'enviroGrowthW4',\n",
       " 'ageW6',\n",
       " 'gorW4',\n",
       " 'p_edlevelUniW15',\n",
       " 'ageW10',\n",
       " 'ageW5',\n",
       " 'p_work_statW3',\n",
       " 'p_housingW4',\n",
       " 'p_ethnicityW8',\n",
       " 'p_housingW1',\n",
       " 'p_parentW19',\n",
       " 'p_ethnicityW12',\n",
       " 'p_gross_personalW5',\n",
       " 'p_education_ageW2',\n",
       " 'oslauaW7',\n",
       " 'p_parentW18',\n",
       " 'p_maritalW10',\n",
       " 'p_edlevelUniW16',\n",
       " 'ageW4',\n",
       " 'p_disabilityW6',\n",
       " 'p_housingW6',\n",
       " 'p_religionW19',\n",
       " 'p_socgradeW1',\n",
       " 'p_socgradeW10',\n",
       " 'p_edlevelUniW13',\n",
       " 'p_sexualityW5',\n",
       " 'p_disabilityW8',\n",
       " 'p_socgradeW4',\n",
       " 'p_edlevelW13',\n",
       " 'p_hh_sizeW1',\n",
       " 'p_work_statW16',\n",
       " 'countryW20',\n",
       " 'p_education_ageW9',\n",
       " 'p_education_ageW4',\n",
       " 'p_paper_readW18',\n",
       " 'p_socgradeW5',\n",
       " 'voted2015newwordingW15',\n",
       " 'p_educationW1',\n",
       " 'p_disabilityW19',\n",
       " 'p_paper_readW2',\n",
       " 'p_socgradeW3',\n",
       " 'p_religionW9',\n",
       " 'p_work_statW4',\n",
       " 'p_religionW8',\n",
       " 'p_sexualityW1',\n",
       " 'p_educationW13',\n",
       " 'p_edlevelW18',\n",
       " 'p_disabilityW9',\n",
       " 'p_edlevelW12']"
      ]
     },
     "execution_count": 130,
     "metadata": {},
     "output_type": "execute_result"
    }
   ],
   "source": [
    "[x for x in new_vars if x not in old_to_new_dict.values()]"
   ]
  },
  {
   "cell_type": "code",
   "execution_count": 128,
   "metadata": {},
   "outputs": [
    {
     "data": {
      "text/plain": [
       "Own - outright                                                                          11908\n",
       "Own - with a mortgage                                                                    8136\n",
       "Rent - from a private landlord                                                           3826\n",
       "Rent - from a housing association                                                        1941\n",
       "Rent - from my local authority                                                           1618\n",
       "Neither - I live rent-free with my parents, family or friends                            1075\n",
       "Neither - I live with my parents, family or friends but pay some rent to them            1036\n",
       "Other                                                                                     492\n",
       "Own (part-own) - through shared ownership scheme (i.e. pay part mortgage, part rent)      206\n",
       "Name: profile_house_tenureW14, dtype: int64"
      ]
     },
     "execution_count": 128,
     "metadata": {},
     "output_type": "execute_result"
    }
   ],
   "source": [
    "BES_Panel[\"profile_house_tenureW14\"].value_counts()"
   ]
  },
  {
   "cell_type": "code",
   "execution_count": 121,
   "metadata": {},
   "outputs": [
    {
     "data": {
      "text/plain": [
       "Own â outright                                                                          11938\n",
       "Own â with a mortgage                                                                    8165\n",
       "Rent â from a private landlord                                                           3893\n",
       "Rent â from a housing association                                                        1950\n",
       "Rent â from my local authority                                                           1643\n",
       "Neither â I live rent-free with my parents, family or friends                            1098\n",
       "Neither â I live with my parents, family or friends but pay some rent to them            1063\n",
       "Other                                                                                       482\n",
       "Own (part-own) â through shared ownership scheme (i.e. pay part mortgage, part rent)      214\n",
       "Name: p_housingW14, dtype: int64"
      ]
     },
     "execution_count": 121,
     "metadata": {},
     "output_type": "execute_result"
    }
   ],
   "source": [
    "BES_Panelv02[\"p_housingW14\"].value_counts()"
   ]
  },
  {
   "cell_type": "code",
   "execution_count": 13,
   "metadata": {},
   "outputs": [
    {
     "data": {
      "text/html": [
       "<div>\n",
       "<style scoped>\n",
       "    .dataframe tbody tr th:only-of-type {\n",
       "        vertical-align: middle;\n",
       "    }\n",
       "\n",
       "    .dataframe tbody tr th {\n",
       "        vertical-align: top;\n",
       "    }\n",
       "\n",
       "    .dataframe thead th {\n",
       "        text-align: right;\n",
       "    }\n",
       "</style>\n",
       "<table border=\"1\" class=\"dataframe\">\n",
       "  <thead>\n",
       "    <tr style=\"text-align: right;\">\n",
       "      <th></th>\n",
       "      <th>xsexualityW10</th>\n",
       "      <th>genElecTurnoutRetroW7</th>\n",
       "      <th>voted2015newwordingW15</th>\n",
       "    </tr>\n",
       "  </thead>\n",
       "  <tbody>\n",
       "    <tr>\n",
       "      <th>0</th>\n",
       "      <td>NaN</td>\n",
       "      <td>NaN</td>\n",
       "      <td>NaN</td>\n",
       "    </tr>\n",
       "    <tr>\n",
       "      <th>1</th>\n",
       "      <td>NaN</td>\n",
       "      <td>NaN</td>\n",
       "      <td>NaN</td>\n",
       "    </tr>\n",
       "    <tr>\n",
       "      <th>2</th>\n",
       "      <td>NaN</td>\n",
       "      <td>NaN</td>\n",
       "      <td>NaN</td>\n",
       "    </tr>\n",
       "    <tr>\n",
       "      <th>3</th>\n",
       "      <td>Heterosexual</td>\n",
       "      <td>Yes, voted</td>\n",
       "      <td>NaN</td>\n",
       "    </tr>\n",
       "    <tr>\n",
       "      <th>4</th>\n",
       "      <td>NaN</td>\n",
       "      <td>NaN</td>\n",
       "      <td>NaN</td>\n",
       "    </tr>\n",
       "    <tr>\n",
       "      <th>...</th>\n",
       "      <td>...</td>\n",
       "      <td>...</td>\n",
       "      <td>...</td>\n",
       "    </tr>\n",
       "    <tr>\n",
       "      <th>97001</th>\n",
       "      <td>NaN</td>\n",
       "      <td>NaN</td>\n",
       "      <td>NaN</td>\n",
       "    </tr>\n",
       "    <tr>\n",
       "      <th>97002</th>\n",
       "      <td>NaN</td>\n",
       "      <td>NaN</td>\n",
       "      <td>NaN</td>\n",
       "    </tr>\n",
       "    <tr>\n",
       "      <th>97003</th>\n",
       "      <td>NaN</td>\n",
       "      <td>Yes, voted</td>\n",
       "      <td>NaN</td>\n",
       "    </tr>\n",
       "    <tr>\n",
       "      <th>97004</th>\n",
       "      <td>Heterosexual</td>\n",
       "      <td>Don't know</td>\n",
       "      <td>NaN</td>\n",
       "    </tr>\n",
       "    <tr>\n",
       "      <th>97005</th>\n",
       "      <td>NaN</td>\n",
       "      <td>Yes, voted</td>\n",
       "      <td>NaN</td>\n",
       "    </tr>\n",
       "  </tbody>\n",
       "</table>\n",
       "<p>97006 rows × 3 columns</p>\n",
       "</div>"
      ],
      "text/plain": [
       "      xsexualityW10 genElecTurnoutRetroW7 voted2015newwordingW15\n",
       "0               NaN                   NaN                    NaN\n",
       "1               NaN                   NaN                    NaN\n",
       "2               NaN                   NaN                    NaN\n",
       "3      Heterosexual            Yes, voted                    NaN\n",
       "4               NaN                   NaN                    NaN\n",
       "...             ...                   ...                    ...\n",
       "97001           NaN                   NaN                    NaN\n",
       "97002           NaN                   NaN                    NaN\n",
       "97003           NaN            Yes, voted                    NaN\n",
       "97004  Heterosexual            Don't know                    NaN\n",
       "97005           NaN            Yes, voted                    NaN\n",
       "\n",
       "[97006 rows x 3 columns]"
      ]
     },
     "execution_count": 13,
     "metadata": {},
     "output_type": "execute_result"
    }
   ],
   "source": [
    "BES_Panelv02[['xsexualityW10', 'genElecTurnoutRetroW7', 'voted2015newwordingW15']]"
   ]
  },
  {
   "cell_type": "code",
   "execution_count": 38,
   "metadata": {},
   "outputs": [
    {
     "data": {
      "text/plain": [
       "Yes, voted          1374\n",
       "No, did not vote     519\n",
       "Don't know           181\n",
       "Name: voted2015newwordingW15, dtype: int64"
      ]
     },
     "execution_count": 38,
     "metadata": {},
     "output_type": "execute_result"
    }
   ],
   "source": [
    "BES_Panelv02['voted2015newwordingW15'].value_counts()"
   ]
  },
  {
   "cell_type": "code",
   "execution_count": 37,
   "metadata": {},
   "outputs": [
    {
     "data": {
      "text/plain": [
       "Yes, voted          27307\n",
       "No, did not vote     2791\n",
       "Don't know            797\n",
       "Name: genElecTurnoutRetroW7, dtype: int64"
      ]
     },
     "execution_count": 37,
     "metadata": {},
     "output_type": "execute_result"
    }
   ],
   "source": [
    "BES_Panelv02['genElecTurnoutRetroW7'].value_counts()"
   ]
  },
  {
   "cell_type": "code",
   "execution_count": 39,
   "metadata": {},
   "outputs": [
    {
     "data": {
      "text/plain": [
       "0"
      ]
     },
     "execution_count": 39,
     "metadata": {},
     "output_type": "execute_result"
    }
   ],
   "source": [
    "(BES_Panelv02['voted2015newwordingW15']==BES_Panelv02['genElecTurnoutRetroW7']).sum()\n",
    "# no overlap ... assume the w15 is supplemental?"
   ]
  },
  {
   "cell_type": "code",
   "execution_count": 14,
   "metadata": {},
   "outputs": [
    {
     "data": {
      "text/plain": [
       "Heterosexual         26801\n",
       "Prefer not to say     1144\n",
       "Gay or lesbian        1104\n",
       "Bisexual               911\n",
       "Other                  277\n",
       "Name: xsexualityW10, dtype: int64"
      ]
     },
     "execution_count": 14,
     "metadata": {},
     "output_type": "execute_result"
    }
   ],
   "source": [
    "BES_Panelv02[\"xsexualityW10\"].value_counts()"
   ]
  },
  {
   "cell_type": "code",
   "execution_count": 30,
   "metadata": {},
   "outputs": [
    {
     "data": {
      "text/plain": [
       "Heterosexual         26805\n",
       "Prefer not to say     1139\n",
       "Gay or lesbian        1105\n",
       "Bisexual               912\n",
       "Other                  275\n",
       "Name: p_sexualityW10, dtype: int64"
      ]
     },
     "execution_count": 30,
     "metadata": {},
     "output_type": "execute_result"
    }
   ],
   "source": [
    "BES_Panelv02[\"p_sexualityW10\"].value_counts()"
   ]
  },
  {
   "cell_type": "code",
   "execution_count": 31,
   "metadata": {},
   "outputs": [
    {
     "data": {
      "text/plain": [
       "(30237, 30236)"
      ]
     },
     "execution_count": 31,
     "metadata": {},
     "output_type": "execute_result"
    }
   ],
   "source": [
    "BES_Panelv02[\"xsexualityW10\"].notnull().sum(),BES_Panelv02[\"p_sexualityW10\"].notnull().sum()"
   ]
  },
  {
   "cell_type": "code",
   "execution_count": 32,
   "metadata": {},
   "outputs": [
    {
     "data": {
      "text/plain": [
       "{67489}"
      ]
     },
     "execution_count": 32,
     "metadata": {},
     "output_type": "execute_result"
    }
   ],
   "source": [
    "set(BES_Panelv02[\"xsexualityW10\"][BES_Panelv02[\"xsexualityW10\"].notnull()].index)\\\n",
    "    -set(BES_Panelv02[\"p_sexualityW10\"][BES_Panelv02[\"p_sexualityW10\"].notnull()].index)\n",
    "    "
   ]
  },
  {
   "cell_type": "code",
   "execution_count": 33,
   "metadata": {},
   "outputs": [
    {
     "data": {
      "text/plain": [
       "23"
      ]
     },
     "execution_count": 33,
     "metadata": {},
     "output_type": "execute_result"
    }
   ],
   "source": [
    "(BES_Panelv02[\"xsexualityW10\"] != BES_Panelv02[\"p_sexualityW10\"]).sum()"
   ]
  },
  {
   "cell_type": "code",
   "execution_count": 35,
   "metadata": {},
   "outputs": [
    {
     "data": {
      "text/html": [
       "<div>\n",
       "<style scoped>\n",
       "    .dataframe tbody tr th:only-of-type {\n",
       "        vertical-align: middle;\n",
       "    }\n",
       "\n",
       "    .dataframe tbody tr th {\n",
       "        vertical-align: top;\n",
       "    }\n",
       "\n",
       "    .dataframe thead th {\n",
       "        text-align: right;\n",
       "    }\n",
       "</style>\n",
       "<table border=\"1\" class=\"dataframe\">\n",
       "  <thead>\n",
       "    <tr style=\"text-align: right;\">\n",
       "      <th></th>\n",
       "      <th>xsexualityW10</th>\n",
       "      <th>p_sexualityW10</th>\n",
       "    </tr>\n",
       "  </thead>\n",
       "  <tbody>\n",
       "    <tr>\n",
       "      <th>2311</th>\n",
       "      <td>Prefer not to say</td>\n",
       "      <td>Heterosexual</td>\n",
       "    </tr>\n",
       "    <tr>\n",
       "      <th>5382</th>\n",
       "      <td>Prefer not to say</td>\n",
       "      <td>Heterosexual</td>\n",
       "    </tr>\n",
       "    <tr>\n",
       "      <th>5841</th>\n",
       "      <td>Prefer not to say</td>\n",
       "      <td>Heterosexual</td>\n",
       "    </tr>\n",
       "    <tr>\n",
       "      <th>7928</th>\n",
       "      <td>Other</td>\n",
       "      <td>Prefer not to say</td>\n",
       "    </tr>\n",
       "    <tr>\n",
       "      <th>8071</th>\n",
       "      <td>Heterosexual</td>\n",
       "      <td>Gay or lesbian</td>\n",
       "    </tr>\n",
       "    <tr>\n",
       "      <th>16664</th>\n",
       "      <td>Prefer not to say</td>\n",
       "      <td>Bisexual</td>\n",
       "    </tr>\n",
       "    <tr>\n",
       "      <th>16812</th>\n",
       "      <td>Heterosexual</td>\n",
       "      <td>Prefer not to say</td>\n",
       "    </tr>\n",
       "    <tr>\n",
       "      <th>19758</th>\n",
       "      <td>Heterosexual</td>\n",
       "      <td>Prefer not to say</td>\n",
       "    </tr>\n",
       "    <tr>\n",
       "      <th>20053</th>\n",
       "      <td>Prefer not to say</td>\n",
       "      <td>Heterosexual</td>\n",
       "    </tr>\n",
       "    <tr>\n",
       "      <th>30290</th>\n",
       "      <td>Prefer not to say</td>\n",
       "      <td>Heterosexual</td>\n",
       "    </tr>\n",
       "    <tr>\n",
       "      <th>32289</th>\n",
       "      <td>Heterosexual</td>\n",
       "      <td>Prefer not to say</td>\n",
       "    </tr>\n",
       "    <tr>\n",
       "      <th>41320</th>\n",
       "      <td>Heterosexual</td>\n",
       "      <td>Bisexual</td>\n",
       "    </tr>\n",
       "    <tr>\n",
       "      <th>43856</th>\n",
       "      <td>Prefer not to say</td>\n",
       "      <td>Heterosexual</td>\n",
       "    </tr>\n",
       "    <tr>\n",
       "      <th>51358</th>\n",
       "      <td>Prefer not to say</td>\n",
       "      <td>Heterosexual</td>\n",
       "    </tr>\n",
       "    <tr>\n",
       "      <th>52622</th>\n",
       "      <td>Bisexual</td>\n",
       "      <td>Heterosexual</td>\n",
       "    </tr>\n",
       "    <tr>\n",
       "      <th>52825</th>\n",
       "      <td>Prefer not to say</td>\n",
       "      <td>Heterosexual</td>\n",
       "    </tr>\n",
       "    <tr>\n",
       "      <th>57213</th>\n",
       "      <td>Heterosexual</td>\n",
       "      <td>Prefer not to say</td>\n",
       "    </tr>\n",
       "    <tr>\n",
       "      <th>64165</th>\n",
       "      <td>Heterosexual</td>\n",
       "      <td>Prefer not to say</td>\n",
       "    </tr>\n",
       "    <tr>\n",
       "      <th>75636</th>\n",
       "      <td>Prefer not to say</td>\n",
       "      <td>Heterosexual</td>\n",
       "    </tr>\n",
       "    <tr>\n",
       "      <th>85385</th>\n",
       "      <td>Prefer not to say</td>\n",
       "      <td>Heterosexual</td>\n",
       "    </tr>\n",
       "    <tr>\n",
       "      <th>86247</th>\n",
       "      <td>Heterosexual</td>\n",
       "      <td>Prefer not to say</td>\n",
       "    </tr>\n",
       "    <tr>\n",
       "      <th>89445</th>\n",
       "      <td>Prefer not to say</td>\n",
       "      <td>Heterosexual</td>\n",
       "    </tr>\n",
       "    <tr>\n",
       "      <th>95545</th>\n",
       "      <td>Other</td>\n",
       "      <td>Heterosexual</td>\n",
       "    </tr>\n",
       "  </tbody>\n",
       "</table>\n",
       "</div>"
      ],
      "text/plain": [
       "           xsexualityW10     p_sexualityW10\n",
       "2311   Prefer not to say       Heterosexual\n",
       "5382   Prefer not to say       Heterosexual\n",
       "5841   Prefer not to say       Heterosexual\n",
       "7928               Other  Prefer not to say\n",
       "8071        Heterosexual     Gay or lesbian\n",
       "16664  Prefer not to say           Bisexual\n",
       "16812       Heterosexual  Prefer not to say\n",
       "19758       Heterosexual  Prefer not to say\n",
       "20053  Prefer not to say       Heterosexual\n",
       "30290  Prefer not to say       Heterosexual\n",
       "32289       Heterosexual  Prefer not to say\n",
       "41320       Heterosexual           Bisexual\n",
       "43856  Prefer not to say       Heterosexual\n",
       "51358  Prefer not to say       Heterosexual\n",
       "52622           Bisexual       Heterosexual\n",
       "52825  Prefer not to say       Heterosexual\n",
       "57213       Heterosexual  Prefer not to say\n",
       "64165       Heterosexual  Prefer not to say\n",
       "75636  Prefer not to say       Heterosexual\n",
       "85385  Prefer not to say       Heterosexual\n",
       "86247       Heterosexual  Prefer not to say\n",
       "89445  Prefer not to say       Heterosexual\n",
       "95545              Other       Heterosexual"
      ]
     },
     "execution_count": 35,
     "metadata": {},
     "output_type": "execute_result"
    }
   ],
   "source": [
    "BES_Panelv02[[\"xsexualityW10\",\"p_sexualityW10\"]][(BES_Panelv02[\"xsexualityW10\"] != BES_Panelv02[\"p_sexualityW10\"])]\n",
    "\n"
   ]
  },
  {
   "cell_type": "code",
   "execution_count": null,
   "metadata": {},
   "outputs": [],
   "source": []
  },
  {
   "cell_type": "code",
   "execution_count": 42,
   "metadata": {},
   "outputs": [
    {
     "data": {
      "text/plain": [
       "Labour                                      23742\n",
       "Conservative                                23741\n",
       "Liberal Democrat                             5258\n",
       "Scottish National Party (SNP)                2523\n",
       "United Kingdom Independence Party (UKIP)     1498\n",
       "Green Party                                  1289\n",
       "Don't know                                   1204\n",
       "Other                                         726\n",
       "Plaid Cymru                                   395\n",
       "British National Party (BNP)                    1\n",
       "Name: p_past_vote_2017, dtype: int64"
      ]
     },
     "execution_count": 42,
     "metadata": {},
     "output_type": "execute_result"
    }
   ],
   "source": [
    "BES_Panelv02[\"p_past_vote_2017\"].value_counts()"
   ]
  },
  {
   "cell_type": "code",
   "execution_count": 109,
   "metadata": {},
   "outputs": [
    {
     "data": {
      "text/plain": [
       "Yes    29976\n",
       "No      1317\n",
       "5.0     1316\n",
       "3.0     1057\n",
       "4.0      359\n",
       "Name: sexualityW17, dtype: int64"
      ]
     },
     "execution_count": 109,
     "metadata": {},
     "output_type": "execute_result"
    }
   ],
   "source": [
    "BES_Panel[\"sexualityW17\"].value_counts()"
   ]
  },
  {
   "cell_type": "code",
   "execution_count": 111,
   "metadata": {},
   "outputs": [
    {
     "data": {
      "text/plain": [
       "Heterosexual         29993\n",
       "Gay or lesbian        1321\n",
       "Prefer not to say     1319\n",
       "Bisexual              1062\n",
       "Other                  360\n",
       "Name: p_sexualityW17, dtype: int64"
      ]
     },
     "execution_count": 111,
     "metadata": {},
     "output_type": "execute_result"
    }
   ],
   "source": [
    "BES_Panelv02[\"p_sexualityW17\"].value_counts()"
   ]
  },
  {
   "cell_type": "code",
   "execution_count": 112,
   "metadata": {},
   "outputs": [
    {
     "data": {
      "text/plain": [
       "No                   7014\n",
       "Yes                   539\n",
       "Prefer not to say     248\n",
       "Name: sexualityW14, dtype: int64"
      ]
     },
     "execution_count": 112,
     "metadata": {},
     "output_type": "execute_result"
    }
   ],
   "source": [
    "BES_Panel[\"sexualityW14\"].value_counts()"
   ]
  },
  {
   "cell_type": "code",
   "execution_count": 114,
   "metadata": {},
   "outputs": [
    {
     "data": {
      "text/plain": [
       "Heterosexual         27422\n",
       "Prefer not to say     1304\n",
       "Gay or lesbian        1082\n",
       "Bisexual               851\n",
       "Other                  284\n",
       "Name: p_sexualityW14, dtype: int64"
      ]
     },
     "execution_count": 114,
     "metadata": {},
     "output_type": "execute_result"
    }
   ],
   "source": [
    "BES_Panelv02[\"p_sexualityW14\"].value_counts()"
   ]
  },
  {
   "cell_type": "code",
   "execution_count": 131,
   "metadata": {},
   "outputs": [
    {
     "data": {
      "text/plain": [
       "discussantEthnicity1W2    24933\n",
       "discussantEthnicity2W2    18238\n",
       "discussantEthnicity3W2    13210\n",
       "ethnicity2W15             30842\n",
       "ethnicity2W16             37958\n",
       "profile_ethnicityW7       30833\n",
       "profile_ethnicity2W17     34364\n",
       "profile_ethnicity2W18     37825\n",
       "profile_ethnicity2W19     32177\n",
       "profile_ethnicity         70290\n",
       "dtype: int64"
      ]
     },
     "execution_count": 131,
     "metadata": {},
     "output_type": "execute_result"
    }
   ],
   "source": [
    "search(BES_Panel,\"ethnicity\")"
   ]
  },
  {
   "cell_type": "code",
   "execution_count": null,
   "metadata": {},
   "outputs": [],
   "source": []
  },
  {
   "cell_type": "code",
   "execution_count": null,
   "metadata": {},
   "outputs": [],
   "source": []
  },
  {
   "cell_type": "code",
   "execution_count": null,
   "metadata": {},
   "outputs": [],
   "source": []
  },
  {
   "cell_type": "code",
   "execution_count": null,
   "metadata": {},
   "outputs": [],
   "source": []
  }
 ],
 "metadata": {
  "kernelspec": {
   "display_name": "Python [conda env:BES_analysis] *",
   "language": "python",
   "name": "conda-env-BES_analysis-py"
  },
  "language_info": {
   "codemirror_mode": {
    "name": "ipython",
    "version": 3
   },
   "file_extension": ".py",
   "mimetype": "text/x-python",
   "name": "python",
   "nbconvert_exporter": "python",
   "pygments_lexer": "ipython3",
   "version": "3.7.6"
  }
 },
 "nbformat": 4,
 "nbformat_minor": 4
}
