{
 "cells": [
  {
   "cell_type": "code",
   "execution_count": null,
   "metadata": {},
   "outputs": [],
   "source": [
    "# motivated by \n",
    "# https://twitter.com/MariosRichards/status/1258726923318018048"
   ]
  },
  {
   "cell_type": "code",
   "execution_count": 301,
   "metadata": {},
   "outputs": [],
   "source": [
    "dataset_name = \"W19_comb\"\n",
    "df_list = [ \"BES_Panel\" ]"
   ]
  },
  {
   "cell_type": "code",
   "execution_count": 302,
   "metadata": {},
   "outputs": [
    {
     "data": {
      "text/html": [
       "<script>jQuery(function() {if (jQuery(\"body.notebook_app\").length == 0) { jQuery(\".input_area\").toggle(); jQuery(\".prompt\").toggle();}});</script>"
      ]
     },
     "metadata": {},
     "output_type": "display_data"
    },
    {
     "data": {
      "text/html": [
       "<button onclick=\"jQuery('.input_area').toggle(); jQuery('.prompt').toggle();\">Toggle code</button>"
      ]
     },
     "metadata": {},
     "output_type": "display_data"
    },
    {
     "name": "stdout",
     "output_type": "stream",
     "text": [
      "var_type (7911, 14)\n"
     ]
    }
   ],
   "source": [
    "import warnings\n",
    "warnings.filterwarnings('ignore')\n",
    "\n",
    "from IPython.display import display\n",
    "from IPython.display import HTML\n",
    "import IPython.core.display as di # Example: di.display_html('<h3>%s:</h3>' % str, raw=True)\n",
    "\n",
    "# This line will hide code by default when the notebook is exported as HTML\n",
    "di.display_html('<script>jQuery(function() {if (jQuery(\"body.notebook_app\").length == 0) { jQuery(\".input_area\").toggle(); jQuery(\".prompt\").toggle();}});</script>', raw=True)\n",
    "\n",
    "# This line will add a button to toggle visibility of code blocks, for use with the HTML export version\n",
    "di.display_html('''<button onclick=\"jQuery('.input_area').toggle(); jQuery('.prompt').toggle();\">Toggle code</button>''', raw=True)\n",
    "\n",
    "%matplotlib inline\n",
    "\n",
    "import numpy as np, pandas as pd, matplotlib.pyplot as plt, seaborn as sns\n",
    "import pickle, os, gc, re\n",
    "\n",
    "sns.set();\n",
    "sns.set_palette(\"colorblind\")\n",
    "\n",
    "from IPython.display import display, display_html, HTML\n",
    "from IPython.core.debugger import set_trace\n",
    "# plt.rcParams[\"axes.grid\"] = False\n",
    "\n",
    "import Jupyter_module_loader\n",
    "from utility import *\n",
    "import gaussian_kde\n",
    "\n",
    "import warnings\n",
    "warnings.filterwarnings('ignore')\n",
    "\n",
    "import holoviews as hv\n",
    "from holoviews import opts\n",
    "\n",
    "encoding = \"ISO-8859-1\"\n",
    "\n",
    "# you should clone this git to a subdirectory called 'BES_analysis_code' (in some directory - I call it BES_analysis - doesn't matter though)\n",
    "# %matplotlib inline\n",
    "(BES_code_folder, BES_small_data_files, BES_data_folder,\n",
    " BES_output_folder, BES_file_manifest, BES_R_data_files) = setup_directories()\n",
    "\n",
    "global BES_Panel, BES_numeric, BES_reduced, BES_reduced_with_na, BES_non_numeric\n",
    "data_subfolder = BES_data_folder + dataset_name + os.sep\n",
    "\n",
    "(manifest, dataset_filename, dataset_description, dataset_citation,\n",
    " dataset_start, dataset_stop, dataset_wave) = get_manifest(dataset_name, BES_file_manifest)\n",
    "\n",
    "for df in df_list:\n",
    "    if df==\"BES_Panel\":\n",
    "        globals()[df]  = pd.read_pickle(data_subfolder + dataset_filename.replace('.dta','.zip'),compression='zip')\n",
    "    else:\n",
    "        globals()[df]  = pd.read_pickle(data_subfolder + df + '.zip',compression='zip' )\n",
    "        globals()[df].replace(-1,np.nan,inplace=True)\n",
    "  \n",
    "(var_type, cat_dictionary, new_old_col_names, old_new_col_names) = get_small_files(data_subfolder, encoding)\n",
    "\n",
    "# get full set of inferred \"cross wave\" auth-lib/left-right values and ages\n",
    "# pan_dataset_allr_values = pd.read_csv(BES_small_data_files + \"pan_dataset_allr_values\"+\".csv\")\n",
    "# pan_dataset_ages = pd.read_pickle(BES_small_data_files + \"pan_dataset_ages\"+\".zip\", compression='zip')"
   ]
  },
  {
   "cell_type": "code",
   "execution_count": 3,
   "metadata": {},
   "outputs": [],
   "source": [
    "BESW19 = BES_Panel.copy()"
   ]
  },
  {
   "cell_type": "code",
   "execution_count": 6,
   "metadata": {},
   "outputs": [],
   "source": [
    "BESW16 = BES_Panel.copy()"
   ]
  },
  {
   "cell_type": "code",
   "execution_count": 7,
   "metadata": {},
   "outputs": [
    {
     "data": {
      "text/plain": [
       "profile_past_vote_2010    63248\n",
       "dtype: int64"
      ]
     },
     "execution_count": 7,
     "metadata": {},
     "output_type": "execute_result"
    }
   ],
   "source": [
    "search(BESW16,\"profile_past_vote_2010\")"
   ]
  },
  {
   "cell_type": "code",
   "execution_count": 8,
   "metadata": {},
   "outputs": [
    {
     "data": {
      "text/plain": [
       "profile_past_vote_2010    65581\n",
       "dtype: int64"
      ]
     },
     "execution_count": 8,
     "metadata": {},
     "output_type": "execute_result"
    }
   ],
   "source": [
    "search(BESW19,\"profile_past_vote_2010\")"
   ]
  },
  {
   "cell_type": "code",
   "execution_count": 9,
   "metadata": {},
   "outputs": [
    {
     "name": "stdout",
     "output_type": "stream",
     "text": [
      "                        BESW19: 799.9MiB\n",
      "                     BES_Panel: 695.0MiB\n",
      "                        BESW16: 695.0MiB\n",
      "                      var_type:   5.2MiB\n",
      "                cat_dictionary: 288.1KiB\n",
      "             new_old_col_names: 288.1KiB\n",
      "             old_new_col_names: 144.1KiB\n",
      "             BES_file_manifest:  58.5KiB\n",
      "                           _i2:   2.5KiB\n",
      "                           _i5:   2.5KiB\n"
     ]
    }
   ],
   "source": [
    "memory_use(locs = locals().items())"
   ]
  },
  {
   "cell_type": "code",
   "execution_count": 10,
   "metadata": {},
   "outputs": [
    {
     "data": {
      "text/plain": [
       "((97158, 7911), (92587, 6516))"
      ]
     },
     "execution_count": 10,
     "metadata": {},
     "output_type": "execute_result"
    }
   ],
   "source": [
    "BESW19.shape,BESW16.shape"
   ]
  },
  {
   "cell_type": "code",
   "execution_count": 13,
   "metadata": {},
   "outputs": [],
   "source": [
    "BESW16 = BESW16.set_index(\"id\").sort_index()\n",
    "BESW19 = BESW19.set_index(\"id\").sort_index()"
   ]
  },
  {
   "cell_type": "code",
   "execution_count": 15,
   "metadata": {},
   "outputs": [
    {
     "data": {
      "text/plain": [
       "Conservative                                18121\n",
       "Labour                                      14335\n",
       "Liberal Democrat                            12307\n",
       "I would not vote                             9655\n",
       "Scottish National Party (SNP)                2290\n",
       "Don't know                                   2018\n",
       "United Kingdom Independence Party (UKIP)     1873\n",
       "Green Party                                   993\n",
       "Other                                         562\n",
       "Plaid Cymru                                   550\n",
       "British National Party (BNP)                  544\n",
       "Name: profile_past_vote_2010, dtype: int64"
      ]
     },
     "execution_count": 15,
     "metadata": {},
     "output_type": "execute_result"
    }
   ],
   "source": [
    "BESW16[\"profile_past_vote_2010\"].value_counts()"
   ]
  },
  {
   "cell_type": "code",
   "execution_count": 16,
   "metadata": {},
   "outputs": [
    {
     "data": {
      "text/plain": [
       "Conservative                                17934\n",
       "Labour                                      16643\n",
       "Liberal Democrat                            12853\n",
       "Scottish National Party (SNP)                6158\n",
       "I would not vote                             5001\n",
       "United Kingdom Independence Party (UKIP)     1220\n",
       "Brexit Party                                 1126\n",
       "Don't know                                    952\n",
       "British National Party (BNP)                  868\n",
       "Plaid Cymru                                   829\n",
       "10.0                                          741\n",
       "Green Party                                   686\n",
       "Other                                         371\n",
       "Change UK- The Independent Group              199\n",
       "Name: profile_past_vote_2010, dtype: int64"
      ]
     },
     "execution_count": 16,
     "metadata": {},
     "output_type": "execute_result"
    }
   ],
   "source": [
    "BESW19[\"profile_past_vote_2010\"].value_counts()"
   ]
  },
  {
   "cell_type": "code",
   "execution_count": null,
   "metadata": {},
   "outputs": [],
   "source": []
  },
  {
   "cell_type": "code",
   "execution_count": 263,
   "metadata": {},
   "outputs": [],
   "source": [
    "(BES_code_folder, BES_small_data_files, BES_data_folder,\n",
    " BES_output_folder, BES_file_manifest, BES_R_data_files) = setup_directories()\n",
    "\n",
    "global BES_Panel, BES_numeric, BES_reduced, BES_reduced_with_na, BES_non_numeric\n",
    "\n",
    "var_dict = {}\n",
    "\n",
    "for dataset_name in BES_file_manifest[BES_file_manifest[\"Base_or_Strings\"]==\"Base\"][\"Name\"]:\n",
    "    \n",
    "    data_subfolder = BES_data_folder + dataset_name + os.sep\n",
    "\n",
    "    (manifest, dataset_filename, dataset_description, dataset_citation,\n",
    "     dataset_start, dataset_stop, dataset_wave) = get_manifest(dataset_name, BES_file_manifest)    \n",
    "    try:\n",
    "        df = pd.read_pickle(data_subfolder + dataset_filename.replace('.dta','.zip'),compression='zip')\n",
    "        var_dict[dataset_name] = df.columns\n",
    "    except:\n",
    "        try:\n",
    "            df = pd.read_stata(data_subfolder + dataset_filename).set_index(\"id\").sort_index()\n",
    "            var_dict[dataset_name] = df.columns\n",
    "            df.to_pickle(data_subfolder + dataset_filename.replace('.dta','.zip'),compression='zip')\n",
    "        except:\n",
    "            var_dict[dataset_name] = \"dta not present either\"\n"
   ]
  },
  {
   "cell_type": "code",
   "execution_count": 264,
   "metadata": {},
   "outputs": [
    {
     "data": {
      "text/html": [
       "[]"
      ],
      "text/plain": [
       "[]"
      ]
     },
     "execution_count": 264,
     "metadata": {},
     "output_type": "execute_result"
    }
   ],
   "source": [
    "[x for x in var_dict.keys() if isinstance(var_dict[x],str)]"
   ]
  },
  {
   "cell_type": "code",
   "execution_count": 265,
   "metadata": {},
   "outputs": [],
   "source": [
    "# ['W13_only', 'W11_only', 'W10_only', 'W9_only', 'W7_only']\n",
    "# need updating!\n",
    "# Also updated: W15_only, W14_only,W12_only, ... all the way down, but 'only' files ... only\n",
    "\n",
    "\n",
    "\n",
    "# bug W5_only appears twice"
   ]
  },
  {
   "cell_type": "code",
   "execution_count": 266,
   "metadata": {},
   "outputs": [
    {
     "data": {
      "text/html": [
       "['W19_only', 'W19_comb', 'W18_only', 'W17_only', 'W16_only', 'W16_comb', 'W15_only', 'W15_comb', 'W14_comb', 'W13_comb', 'W11_only', 'W10_comb', 'W10_only', 'W9_comb', 'W9_only', 'W8_only', 'W8_comb', 'W7_only', 'W7_comb', 'W6_only', 'W6_comb', 'W5_comb', 'W5_only', 'W4_only', 'W4_comb', 'W3_only', 'W3_comb', 'W2_only', 'W1_only']"
      ],
      "text/plain": [
       "['W19_only',\n",
       " 'W19_comb',\n",
       " 'W18_only',\n",
       " 'W17_only',\n",
       " 'W16_only',\n",
       " 'W16_comb',\n",
       " 'W15_only',\n",
       " 'W15_comb',\n",
       " 'W14_comb',\n",
       " 'W13_comb',\n",
       " 'W11_only',\n",
       " 'W10_comb',\n",
       " 'W10_only',\n",
       " 'W9_comb',\n",
       " 'W9_only',\n",
       " 'W8_only',\n",
       " 'W8_comb',\n",
       " 'W7_only',\n",
       " 'W7_comb',\n",
       " 'W6_only',\n",
       " 'W6_comb',\n",
       " 'W5_comb',\n",
       " 'W5_only',\n",
       " 'W4_only',\n",
       " 'W4_comb',\n",
       " 'W3_only',\n",
       " 'W3_comb',\n",
       " 'W2_only',\n",
       " 'W1_only']"
      ]
     },
     "execution_count": 266,
     "metadata": {},
     "output_type": "execute_result"
    }
   ],
   "source": [
    "[x for x in var_dict.keys() if not isinstance(var_dict[x],str) and \"profile_past_vote_2010\" in var_dict[x]]"
   ]
  },
  {
   "cell_type": "code",
   "execution_count": 267,
   "metadata": {},
   "outputs": [
    {
     "data": {
      "text/html": [
       "['W19_only', 'W19_comb', 'W18_only', 'W17_only', 'W16_only', 'W16_comb', 'W15_only', 'W15_comb', 'W14_comb', 'W13_comb', 'W12_only', 'W11_only', 'W10_comb', 'W10_only', 'W9_comb', 'W9_only', 'W8_only', 'W8_comb', 'W7_only', 'W7_comb', 'W6_only', 'W6_comb', 'W5_comb', 'W5_only', 'W4_only', 'W4_comb', 'W3_only', 'W3_comb', 'W2_only', 'W1_only']"
      ],
      "text/plain": [
       "['W19_only',\n",
       " 'W19_comb',\n",
       " 'W18_only',\n",
       " 'W17_only',\n",
       " 'W16_only',\n",
       " 'W16_comb',\n",
       " 'W15_only',\n",
       " 'W15_comb',\n",
       " 'W14_comb',\n",
       " 'W13_comb',\n",
       " 'W12_only',\n",
       " 'W11_only',\n",
       " 'W10_comb',\n",
       " 'W10_only',\n",
       " 'W9_comb',\n",
       " 'W9_only',\n",
       " 'W8_only',\n",
       " 'W8_comb',\n",
       " 'W7_only',\n",
       " 'W7_comb',\n",
       " 'W6_only',\n",
       " 'W6_comb',\n",
       " 'W5_comb',\n",
       " 'W5_only',\n",
       " 'W4_only',\n",
       " 'W4_comb',\n",
       " 'W3_only',\n",
       " 'W3_comb',\n",
       " 'W2_only',\n",
       " 'W1_only']"
      ]
     },
     "execution_count": 267,
     "metadata": {},
     "output_type": "execute_result"
    }
   ],
   "source": [
    "[x for x in var_dict.keys() if not isinstance(var_dict[x],str) and \"profile_past_vote_2005\" in var_dict[x]]\n",
    "\n",
    "# W12_only!"
   ]
  },
  {
   "cell_type": "code",
   "execution_count": 268,
   "metadata": {},
   "outputs": [
    {
     "data": {
      "text/html": [
       "['profile_newspaper2', 'profile_gross_household', 'profile_socgrade', 'profile_work_stat', 'profile_house_tenure', 'profile_religion', 'profile_education_age', 'profile_lea', 'profile_oslaua', 'profile_gross_personal', 'profile_household_children', 'profile_past_vote_2005', 'profile_past_vote_2017', 'profile_turnout_2017', 'profile_past_vote_2015', 'profile_turnout_2015', 'profile_eurefvote', 'profile_eurefturnout', 'profile_scotref_turnout', 'profile_scotref_vote']"
      ],
      "text/plain": [
       "['profile_newspaper2',\n",
       " 'profile_gross_household',\n",
       " 'profile_socgrade',\n",
       " 'profile_work_stat',\n",
       " 'profile_house_tenure',\n",
       " 'profile_religion',\n",
       " 'profile_education_age',\n",
       " 'profile_lea',\n",
       " 'profile_oslaua',\n",
       " 'profile_gross_personal',\n",
       " 'profile_household_children',\n",
       " 'profile_past_vote_2005',\n",
       " 'profile_past_vote_2017',\n",
       " 'profile_turnout_2017',\n",
       " 'profile_past_vote_2015',\n",
       " 'profile_turnout_2015',\n",
       " 'profile_eurefvote',\n",
       " 'profile_eurefturnout',\n",
       " 'profile_scotref_turnout',\n",
       " 'profile_scotref_vote']"
      ]
     },
     "execution_count": 268,
     "metadata": {},
     "output_type": "execute_result"
    }
   ],
   "source": [
    "[x for x in var_dict[\"W12_only\"] if \"profile\" in x]\n",
    "# W12_only really missing profile_past_vote_2010!"
   ]
  },
  {
   "cell_type": "code",
   "execution_count": 269,
   "metadata": {},
   "outputs": [
    {
     "data": {
      "text/html": [
       "['W19_comb', 'W19_only', 'W18_only', 'W17_only', 'W16_only', 'W16_comb', 'W15_only', 'W15_comb', 'W14_comb', 'W13_comb', 'W11_only', 'W10_comb', 'W10_only', 'W9_comb', 'W9_only', 'W8_only', 'W8_comb', 'W7_only', 'W7_comb', 'W6_only', 'W6_comb', 'W5_comb', 'W5_only', 'W4_only', 'W4_comb', 'W3_only', 'W3_comb', 'W2_only', 'W1_only']"
      ],
      "text/plain": [
       "['W19_comb',\n",
       " 'W19_only',\n",
       " 'W18_only',\n",
       " 'W17_only',\n",
       " 'W16_only',\n",
       " 'W16_comb',\n",
       " 'W15_only',\n",
       " 'W15_comb',\n",
       " 'W14_comb',\n",
       " 'W13_comb',\n",
       " 'W11_only',\n",
       " 'W10_comb',\n",
       " 'W10_only',\n",
       " 'W9_comb',\n",
       " 'W9_only',\n",
       " 'W8_only',\n",
       " 'W8_comb',\n",
       " 'W7_only',\n",
       " 'W7_comb',\n",
       " 'W6_only',\n",
       " 'W6_comb',\n",
       " 'W5_comb',\n",
       " 'W5_only',\n",
       " 'W4_only',\n",
       " 'W4_comb',\n",
       " 'W3_only',\n",
       " 'W3_comb',\n",
       " 'W2_only',\n",
       " 'W1_only']"
      ]
     },
     "execution_count": 269,
     "metadata": {},
     "output_type": "execute_result"
    }
   ],
   "source": [
    "present_in_datasets = [x for x in var_dict.keys() if not isinstance(var_dict[x],str) and \"profile_past_vote_2010\" in var_dict[x]]\n",
    "present_in_datasets.remove(\"W19_comb\")\n",
    "present_in_datasets.insert(0,\"W19_comb\")\n",
    "present_in_datasets\n",
    "# need W19_comb first to set all indices!\n",
    "\n",
    "# Assumes no indices are lost ..."
   ]
  },
  {
   "cell_type": "code",
   "execution_count": 270,
   "metadata": {},
   "outputs": [
    {
     "data": {
      "text/html": [
       "['W19_comb', 'W19_only', 'W18_only', 'W17_only', 'W16_only', 'W15_only', 'W11_only', 'W10_only', 'W9_only', 'W8_only', 'W7_only', 'W6_only', 'W5_only', 'W4_only', 'W3_only', 'W2_only', 'W1_only']"
      ],
      "text/plain": [
       "['W19_comb',\n",
       " 'W19_only',\n",
       " 'W18_only',\n",
       " 'W17_only',\n",
       " 'W16_only',\n",
       " 'W15_only',\n",
       " 'W11_only',\n",
       " 'W10_only',\n",
       " 'W9_only',\n",
       " 'W8_only',\n",
       " 'W7_only',\n",
       " 'W6_only',\n",
       " 'W5_only',\n",
       " 'W4_only',\n",
       " 'W3_only',\n",
       " 'W2_only',\n",
       " 'W1_only']"
      ]
     },
     "execution_count": 270,
     "metadata": {},
     "output_type": "execute_result"
    }
   ],
   "source": [
    "present_in_datasets = [x for x in present_in_datasets if \"only\" in x]\n",
    "present_in_datasets.insert(0,\"W19_comb\")\n",
    "present_in_datasets"
   ]
  },
  {
   "cell_type": "code",
   "execution_count": 271,
   "metadata": {},
   "outputs": [],
   "source": [
    "# df = pd.DataFrame()\n",
    "# temp = BESW16[[\"profile_past_vote_2005\",\"profile_past_vote_2005\"]]\n",
    "# temp.columns = [\"W16_\"+x for x in temp.columns]\n",
    "# df = pd.concat([df,temp],axis=1)\n",
    "# temp = BESW19[[\"profile_past_vote_2005\",\"profile_past_vote_2005\"]]\n",
    "# temp.columns = [\"W19_\"+x for x in temp.columns]\n",
    "# df = pd.concat([df,temp],axis=1)\n",
    "\n",
    "# df"
   ]
  },
  {
   "cell_type": "code",
   "execution_count": 272,
   "metadata": {},
   "outputs": [
    {
     "name": "stdout",
     "output_type": "stream",
     "text": [
      "Wall time: 34.1 s\n"
     ]
    }
   ],
   "source": [
    "%%time\n",
    "(BES_code_folder, BES_small_data_files, BES_data_folder,\n",
    " BES_output_folder, BES_file_manifest, BES_R_data_files) = setup_directories()\n",
    "\n",
    "global BES_Panel, BES_numeric, BES_reduced, BES_reduced_with_na, BES_non_numeric\n",
    "\n",
    "df = pd.DataFrame()\n",
    "var_list = [\"profile_past_vote_2005\",\"profile_past_vote_2010\"]\n",
    "\n",
    "for dataset_name in present_in_datasets:\n",
    "    \n",
    "    data_subfolder = BES_data_folder + dataset_name + os.sep\n",
    "\n",
    "    (manifest, dataset_filename, dataset_description, dataset_citation,\n",
    "     dataset_start, dataset_stop, dataset_wave) = get_manifest(dataset_name, BES_file_manifest)    \n",
    "    BES_Panel = pd.read_pickle(data_subfolder + dataset_filename.replace('.dta','.zip'),compression='zip')\n",
    "    if \"id\" in BES_Panel.columns:\n",
    "        temp = BES_Panel[var_list+[\"id\"]].set_index(\"id\").sort_index()\n",
    "    else:\n",
    "        temp = BES_Panel[var_list]\n",
    "    temp.columns = [dataset_name+\"_\"+x for x in temp.columns]\n",
    "    df = pd.concat([df,temp],axis=1)\n",
    "    \n",
    "df.index = df.index.astype('int')\n",
    "# note - no extra rows over W19    "
   ]
  },
  {
   "cell_type": "code",
   "execution_count": 273,
   "metadata": {},
   "outputs": [],
   "source": [
    "# vote2005_categories = list( df[[x for x in df.columns if \"profile_past_vote_2005\"]].stack().value_counts().index )"
   ]
  },
  {
   "cell_type": "code",
   "execution_count": 274,
   "metadata": {},
   "outputs": [],
   "source": [
    "# vote2010_categories = list( df[[x for x in df.columns if \"profile_past_vote_2010\"]].stack().value_counts().index )"
   ]
  },
  {
   "cell_type": "code",
   "execution_count": 275,
   "metadata": {},
   "outputs": [
    {
     "data": {
      "text/html": [
       "['Conservative', 'Labour', 'Liberal Democrat', 'Did not vote', 'Scottish National Party', \"Don't know\", 'An independent candidate', 'United Kingdom Independence Party (UKIP)', 'Green Party', 'Plaid Cymru', 'British National Party (BNP)', 'Other', 10.0, 'Brexit Party', 'Change UK- The Independent Group']"
      ],
      "text/plain": [
       "['Conservative',\n",
       " 'Labour',\n",
       " 'Liberal Democrat',\n",
       " 'Did not vote',\n",
       " 'Scottish National Party',\n",
       " \"Don't know\",\n",
       " 'An independent candidate',\n",
       " 'United Kingdom Independence Party (UKIP)',\n",
       " 'Green Party',\n",
       " 'Plaid Cymru',\n",
       " 'British National Party (BNP)',\n",
       " 'Other',\n",
       " 10.0,\n",
       " 'Brexit Party',\n",
       " 'Change UK- The Independent Group']"
      ]
     },
     "execution_count": 275,
     "metadata": {},
     "output_type": "execute_result"
    }
   ],
   "source": [
    "replace_dict = {'I would not vote':'Did not vote',\n",
    "                'Conservative Party':'Conservative',\n",
    "                'Labour Party':'Labour',\n",
    "                'Liberal Democrats':'Liberal Democrat',\n",
    "                'Scottish National Party (SNP)':'Scottish National Party',\n",
    "                'Some other party':'Other',\n",
    "               }\n",
    "ppv2005 = [x for x in df.columns if \"profile_past_vote_2005\" in x]\n",
    "df.loc[:,ppv2005] = df.loc[:,ppv2005].replace(replace_dict)\n",
    "vote2005_categories = list( df[ppv2005].stack().value_counts().index )\n",
    "vote2005_categories"
   ]
  },
  {
   "cell_type": "code",
   "execution_count": 276,
   "metadata": {},
   "outputs": [
    {
     "data": {
      "text/html": [
       "['Conservative', 'Labour', 'Liberal Democrat', 'Did not vote', 'Scottish National Party', 'United Kingdom Independence Party (UKIP)', \"Don't know\", 'British National Party (BNP)', 'Plaid Cymru', 'Green Party', 'Brexit Party', 10.0, 'Other', 'Change UK- The Independent Group']"
      ],
      "text/plain": [
       "['Conservative',\n",
       " 'Labour',\n",
       " 'Liberal Democrat',\n",
       " 'Did not vote',\n",
       " 'Scottish National Party',\n",
       " 'United Kingdom Independence Party (UKIP)',\n",
       " \"Don't know\",\n",
       " 'British National Party (BNP)',\n",
       " 'Plaid Cymru',\n",
       " 'Green Party',\n",
       " 'Brexit Party',\n",
       " 10.0,\n",
       " 'Other',\n",
       " 'Change UK- The Independent Group']"
      ]
     },
     "execution_count": 276,
     "metadata": {},
     "output_type": "execute_result"
    }
   ],
   "source": [
    "replace_dict = {'I would not vote':'Did not vote',\n",
    "                'Conservative Party':'Conservative',\n",
    "                'Labour Party':'Labour',\n",
    "                'Liberal Democrats':'Liberal Democrat',\n",
    "                'Scottish National Party (SNP)':'Scottish National Party',\n",
    "                'Some other party':'Other',\n",
    "               }\n",
    "ppv2010 = [x for x in df.columns if \"profile_past_vote_2010\" in x]\n",
    "df.loc[:,ppv2010] = df.loc[:,ppv2010].replace(replace_dict)\n",
    "vote2010_categories = list( df[ppv2010].stack().value_counts().index )\n",
    "vote2010_categories"
   ]
  },
  {
   "cell_type": "code",
   "execution_count": null,
   "metadata": {},
   "outputs": [],
   "source": []
  },
  {
   "cell_type": "code",
   "execution_count": 277,
   "metadata": {},
   "outputs": [
    {
     "name": "stdout",
     "output_type": "stream",
     "text": [
      "Wall time: 44.9 s\n"
     ]
    },
    {
     "data": {
      "text/plain": [
       "1    50268\n",
       "0    40149\n",
       "2     6741\n",
       "dtype: int64"
      ]
     },
     "execution_count": 277,
     "metadata": {},
     "output_type": "execute_result"
    }
   ],
   "source": [
    "%%time\n",
    "number_of_unique_responses_per_row_2005 = df[ppv2005].apply(lambda x: len((x.dropna()).unique()),axis=1)\n",
    "number_of_unique_responses_per_row_2005.value_counts()"
   ]
  },
  {
   "cell_type": "code",
   "execution_count": 278,
   "metadata": {},
   "outputs": [
    {
     "name": "stdout",
     "output_type": "stream",
     "text": [
      "Wall time: 44.8 s\n"
     ]
    },
    {
     "data": {
      "text/plain": [
       "1    56419\n",
       "0    31577\n",
       "2     9162\n",
       "dtype: int64"
      ]
     },
     "execution_count": 278,
     "metadata": {},
     "output_type": "execute_result"
    }
   ],
   "source": [
    "%%time\n",
    "number_of_unique_responses_per_row_2010 = df[ppv2010].apply(lambda x: len((x.dropna()).unique()),axis=1)\n",
    "number_of_unique_responses_per_row_2010.value_counts()"
   ]
  },
  {
   "cell_type": "code",
   "execution_count": 329,
   "metadata": {},
   "outputs": [],
   "source": [
    "# df[ppv2005].loc[  number_of_unique_responses_per_row_2005>=3 ].dropna(how='all',axis=1)"
   ]
  },
  {
   "cell_type": "code",
   "execution_count": null,
   "metadata": {},
   "outputs": [],
   "source": []
  },
  {
   "cell_type": "code",
   "execution_count": 280,
   "metadata": {},
   "outputs": [],
   "source": [
    "discrepancy_pairs_2005 = df[ppv2005].loc[  number_of_unique_responses_per_row_2005==2 ].dropna(how='all',axis=1).apply(lambda x: \"|\".join([str(x) for x in x.dropna().unique()]),axis=1)"
   ]
  },
  {
   "cell_type": "code",
   "execution_count": 281,
   "metadata": {},
   "outputs": [],
   "source": [
    "discrepancy_pairs_2010 = df[ppv2010].loc[  number_of_unique_responses_per_row_2010==2 ].dropna(how='all',axis=1).apply(lambda x: \"|\".join([str(x) for x in x.dropna().unique()]),axis=1)"
   ]
  },
  {
   "cell_type": "code",
   "execution_count": 282,
   "metadata": {},
   "outputs": [
    {
     "data": {
      "text/plain": [
       "Labour|Conservative                                     2946\n",
       "Liberal Democrat|Labour                                 1680\n",
       "Conservative|Did not vote                               1652\n",
       "Scottish National Party|Liberal Democrat                1634\n",
       "Brexit Party|Don't know                                  454\n",
       "10.0|United Kingdom Independence Party (UKIP)            322\n",
       "British National Party (BNP)|Green Party                 185\n",
       "Plaid Cymru|Scottish National Party                      113\n",
       "Change UK- The Independent Group|Other                    82\n",
       "Green Party|British National Party (BNP)                  65\n",
       "United Kingdom Independence Party (UKIP)|Plaid Cymru      29\n",
       "dtype: int64"
      ]
     },
     "execution_count": 282,
     "metadata": {},
     "output_type": "execute_result"
    }
   ],
   "source": [
    "discrepancy_pairs_2010.value_counts()"
   ]
  },
  {
   "cell_type": "code",
   "execution_count": 283,
   "metadata": {},
   "outputs": [
    {
     "data": {
      "text/plain": [
       "Labour|Conservative                                     1896\n",
       "Liberal Democrat|Labour                                 1593\n",
       "Conservative|Did not vote                               1287\n",
       "Scottish National Party|Liberal Democrat                 904\n",
       "An independent candidate|Don't know                      662\n",
       "British National Party (BNP)|Green Party                 130\n",
       "10.0|United Kingdom Independence Party (UKIP)            118\n",
       "Plaid Cymru|Scottish National Party                       57\n",
       "Brexit Party|Other                                        47\n",
       "Green Party|British National Party (BNP)                  25\n",
       "United Kingdom Independence Party (UKIP)|Plaid Cymru      20\n",
       "Change UK- The Independent Group|Other                     2\n",
       "dtype: int64"
      ]
     },
     "execution_count": 283,
     "metadata": {},
     "output_type": "execute_result"
    }
   ],
   "source": [
    "discrepancy_pairs_2005.value_counts()"
   ]
  },
  {
   "cell_type": "code",
   "execution_count": 284,
   "metadata": {},
   "outputs": [],
   "source": [
    "df[\"discrepancy_pairs_2005\"] = discrepancy_pairs_2005\n",
    "df[\"discrepancy_pairs_2010\"] = discrepancy_pairs_2010"
   ]
  },
  {
   "cell_type": "code",
   "execution_count": 285,
   "metadata": {},
   "outputs": [],
   "source": [
    "# df[df[\"discrepancy_pairs_2005\"]==\"10.0|United Kingdom Independence Party (UKIP)\"][\"discr_2005_change_dataset\"].value_counts()"
   ]
  },
  {
   "cell_type": "code",
   "execution_count": null,
   "metadata": {},
   "outputs": [],
   "source": []
  },
  {
   "cell_type": "code",
   "execution_count": 286,
   "metadata": {},
   "outputs": [
    {
     "data": {
      "text/plain": [
       "discr_2005_change_dataset        discrepancy_pairs_2005                              \n",
       "W10_only_profile_past_vote_2005  Labour|Conservative                                     454\n",
       "                                 Conservative|Did not vote                               409\n",
       "                                 Liberal Democrat|Labour                                 398\n",
       "                                 Scottish National Party|Liberal Democrat                240\n",
       "                                 An independent candidate|Don't know                     210\n",
       "                                                                                        ... \n",
       "W8_only_profile_past_vote_2005   Plaid Cymru|Scottish National Party                      25\n",
       "                                 Green Party|British National Party (BNP)                 11\n",
       "                                 Brexit Party|Other                                        8\n",
       "                                 United Kingdom Independence Party (UKIP)|Plaid Cymru      8\n",
       "                                 Change UK- The Independent Group|Other                    1\n",
       "Name: discrepancy_pairs_2005, Length: 74, dtype: int64"
      ]
     },
     "execution_count": 286,
     "metadata": {},
     "output_type": "execute_result"
    }
   ],
   "source": [
    "df[\"discr_2005_change_dataset\"] = np.nan\n",
    "# discrep_pair = \"Other|Veritas\"\n",
    "for discrep_pair in discrepancy_pairs_2005.value_counts().index:\n",
    "    pair_first_part = discrep_pair.split(\"|\")[0]\n",
    "    if pair_first_part==\"10.0\":\n",
    "        pair_first_part=10.0\n",
    "    temp_ser = (df.loc[discrepancy_pairs_2005[discrepancy_pairs_2005==discrep_pair].index,ppv2005]==pair_first_part).replace(False,np.nan).cumsum(axis=1).replace(True,1.0).idxmax(axis=1)\n",
    "    df.loc[temp_ser.index,\"discr_2005_change_dataset\"] = temp_ser\n",
    "df.groupby(\"discr_2005_change_dataset\")[\"discrepancy_pairs_2005\"].value_counts()    "
   ]
  },
  {
   "cell_type": "code",
   "execution_count": null,
   "metadata": {},
   "outputs": [],
   "source": []
  },
  {
   "cell_type": "code",
   "execution_count": null,
   "metadata": {},
   "outputs": [],
   "source": []
  },
  {
   "cell_type": "code",
   "execution_count": 287,
   "metadata": {},
   "outputs": [
    {
     "data": {
      "text/plain": [
       "discr_2010_change_dataset        discrepancy_pairs_2010                              \n",
       "W10_only_profile_past_vote_2010  Labour|Conservative                                     674\n",
       "                                 Conservative|Did not vote                               479\n",
       "                                 Scottish National Party|Liberal Democrat                410\n",
       "                                 Liberal Democrat|Labour                                 377\n",
       "                                 Brexit Party|Don't know                                 123\n",
       "                                                                                        ... \n",
       "W8_only_profile_past_vote_2010   British National Party (BNP)|Green Party                 29\n",
       "                                 Plaid Cymru|Scottish National Party                      27\n",
       "                                 Green Party|British National Party (BNP)                 20\n",
       "                                 Change UK- The Independent Group|Other                   18\n",
       "                                 United Kingdom Independence Party (UKIP)|Plaid Cymru      8\n",
       "Name: discrepancy_pairs_2010, Length: 83, dtype: int64"
      ]
     },
     "execution_count": 287,
     "metadata": {},
     "output_type": "execute_result"
    }
   ],
   "source": [
    "df[\"discr_2010_change_dataset\"] = np.nan\n",
    "# discrep_pair = \"Other|Veritas\"\n",
    "for discrep_pair in discrepancy_pairs_2010.value_counts().index:\n",
    "    pair_first_part = discrep_pair.split(\"|\")[0]\n",
    "    if pair_first_part==\"10.0\":\n",
    "        pair_first_part=10.0    \n",
    "    temp_ser = (df.loc[discrepancy_pairs_2010[discrepancy_pairs_2010==discrep_pair].index,ppv2010]==pair_first_part).replace(False,np.nan).cumsum(axis=1).replace(True,1.0).idxmax(axis=1)\n",
    "  \n",
    "    df.loc[temp_ser.index,\"discr_2010_change_dataset\"] = temp_ser\n",
    "df.groupby(\"discr_2010_change_dataset\")[\"discrepancy_pairs_2010\"].value_counts()"
   ]
  },
  {
   "cell_type": "code",
   "execution_count": 288,
   "metadata": {},
   "outputs": [
    {
     "data": {
      "text/plain": [
       "W10_only_profile_past_vote_2010    2259\n",
       "W11_only_profile_past_vote_2010     891\n",
       "W15_only_profile_past_vote_2010    1633\n",
       "W17_only_profile_past_vote_2010     132\n",
       "W18_only_profile_past_vote_2010      62\n",
       "W19_comb_profile_past_vote_2010      81\n",
       "W19_only_profile_past_vote_2010       6\n",
       "W7_only_profile_past_vote_2010     2062\n",
       "W8_only_profile_past_vote_2010     2036\n",
       "Name: discr_2010_change_dataset, dtype: int64"
      ]
     },
     "execution_count": 288,
     "metadata": {},
     "output_type": "execute_result"
    }
   ],
   "source": [
    "df[\"discr_2010_change_dataset\"].value_counts().sort_index()"
   ]
  },
  {
   "cell_type": "code",
   "execution_count": 289,
   "metadata": {},
   "outputs": [
    {
     "data": {
      "text/plain": [
       "W10_only_profile_past_vote_2005    1830\n",
       "W11_only_profile_past_vote_2005     725\n",
       "W15_only_profile_past_vote_2005     339\n",
       "W17_only_profile_past_vote_2005      34\n",
       "W18_only_profile_past_vote_2005      12\n",
       "W19_comb_profile_past_vote_2005      24\n",
       "W4_only_profile_past_vote_2005        2\n",
       "W7_only_profile_past_vote_2005     1835\n",
       "W8_only_profile_past_vote_2005     1940\n",
       "Name: discr_2005_change_dataset, dtype: int64"
      ]
     },
     "execution_count": 289,
     "metadata": {},
     "output_type": "execute_result"
    }
   ],
   "source": [
    "df[\"discr_2005_change_dataset\"].value_counts().sort_index()"
   ]
  },
  {
   "cell_type": "code",
   "execution_count": 290,
   "metadata": {},
   "outputs": [
    {
     "data": {
      "text/plain": [
       "Labour|Conservative                                     1896\n",
       "Liberal Democrat|Labour                                 1593\n",
       "Conservative|Did not vote                               1287\n",
       "Scottish National Party|Liberal Democrat                 904\n",
       "An independent candidate|Don't know                      662\n",
       "British National Party (BNP)|Green Party                 130\n",
       "10.0|United Kingdom Independence Party (UKIP)            118\n",
       "Plaid Cymru|Scottish National Party                       57\n",
       "Brexit Party|Other                                        47\n",
       "Green Party|British National Party (BNP)                  25\n",
       "United Kingdom Independence Party (UKIP)|Plaid Cymru      20\n",
       "Change UK- The Independent Group|Other                     2\n",
       "Name: discrepancy_pairs_2005, dtype: int64"
      ]
     },
     "execution_count": 290,
     "metadata": {},
     "output_type": "execute_result"
    }
   ],
   "source": [
    "df[\"discrepancy_pairs_2005\"].value_counts()"
   ]
  },
  {
   "cell_type": "code",
   "execution_count": 291,
   "metadata": {},
   "outputs": [
    {
     "data": {
      "text/plain": [
       "Labour|Conservative                                     2946\n",
       "Liberal Democrat|Labour                                 1680\n",
       "Conservative|Did not vote                               1652\n",
       "Scottish National Party|Liberal Democrat                1634\n",
       "Brexit Party|Don't know                                  454\n",
       "10.0|United Kingdom Independence Party (UKIP)            322\n",
       "British National Party (BNP)|Green Party                 185\n",
       "Plaid Cymru|Scottish National Party                      113\n",
       "Change UK- The Independent Group|Other                    82\n",
       "Green Party|British National Party (BNP)                  65\n",
       "United Kingdom Independence Party (UKIP)|Plaid Cymru      29\n",
       "Name: discrepancy_pairs_2010, dtype: int64"
      ]
     },
     "execution_count": 291,
     "metadata": {},
     "output_type": "execute_result"
    }
   ],
   "source": [
    "df[\"discrepancy_pairs_2010\"].value_counts()"
   ]
  },
  {
   "cell_type": "code",
   "execution_count": null,
   "metadata": {},
   "outputs": [],
   "source": []
  },
  {
   "cell_type": "code",
   "execution_count": 292,
   "metadata": {},
   "outputs": [
    {
     "data": {
      "text/plain": [
       "Conservative                                8919\n",
       "Labour                                      7793\n",
       "Liberal Democrat                            4585\n",
       "Did not vote                                2657\n",
       "Scottish National Party                     1474\n",
       "Don't know                                   883\n",
       "An independent candidate                     430\n",
       "United Kingdom Independence Party (UKIP)     408\n",
       "Green Party                                  348\n",
       "Plaid Cymru                                  303\n",
       "Other                                        199\n",
       "British National Party (BNP)                 198\n",
       "10.0                                          83\n",
       "Brexit Party                                  32\n",
       "Change UK- The Independent Group               1\n",
       "Name: W7_only_profile_past_vote_2005, dtype: int64"
      ]
     },
     "execution_count": 292,
     "metadata": {},
     "output_type": "execute_result"
    }
   ],
   "source": [
    "df[\"W7_only_profile_past_vote_2005\"].value_counts()"
   ]
  },
  {
   "cell_type": "code",
   "execution_count": 308,
   "metadata": {},
   "outputs": [
    {
     "data": {
      "text/html": [
       "<div>\n",
       "<style scoped>\n",
       "    .dataframe tbody tr th:only-of-type {\n",
       "        vertical-align: middle;\n",
       "    }\n",
       "\n",
       "    .dataframe tbody tr th {\n",
       "        vertical-align: top;\n",
       "    }\n",
       "\n",
       "    .dataframe thead th {\n",
       "        text-align: right;\n",
       "    }\n",
       "</style>\n",
       "<table border=\"1\" class=\"dataframe\">\n",
       "  <thead>\n",
       "    <tr style=\"text-align: right;\">\n",
       "      <th></th>\n",
       "      <th>W19_comb_profile_past_vote_2005</th>\n",
       "      <th>W19_comb_profile_past_vote_2010</th>\n",
       "      <th>W19_only_profile_past_vote_2005</th>\n",
       "      <th>W19_only_profile_past_vote_2010</th>\n",
       "      <th>W18_only_profile_past_vote_2005</th>\n",
       "      <th>W18_only_profile_past_vote_2010</th>\n",
       "      <th>W17_only_profile_past_vote_2005</th>\n",
       "      <th>W17_only_profile_past_vote_2010</th>\n",
       "      <th>W16_only_profile_past_vote_2005</th>\n",
       "      <th>W16_only_profile_past_vote_2010</th>\n",
       "      <th>...</th>\n",
       "      <th>W3_only_profile_past_vote_2005</th>\n",
       "      <th>W3_only_profile_past_vote_2010</th>\n",
       "      <th>W2_only_profile_past_vote_2005</th>\n",
       "      <th>W2_only_profile_past_vote_2010</th>\n",
       "      <th>W1_only_profile_past_vote_2005</th>\n",
       "      <th>W1_only_profile_past_vote_2010</th>\n",
       "      <th>discrepancy_pairs_2005</th>\n",
       "      <th>discrepancy_pairs_2010</th>\n",
       "      <th>discr_2005_change_dataset</th>\n",
       "      <th>discr_2010_change_dataset</th>\n",
       "    </tr>\n",
       "  </thead>\n",
       "  <tbody>\n",
       "    <tr>\n",
       "      <th>1</th>\n",
       "      <td>Labour</td>\n",
       "      <td>United Kingdom Independence Party (UKIP)</td>\n",
       "      <td>NaN</td>\n",
       "      <td>NaN</td>\n",
       "      <td>NaN</td>\n",
       "      <td>NaN</td>\n",
       "      <td>NaN</td>\n",
       "      <td>NaN</td>\n",
       "      <td>NaN</td>\n",
       "      <td>NaN</td>\n",
       "      <td>...</td>\n",
       "      <td>NaN</td>\n",
       "      <td>NaN</td>\n",
       "      <td>Labour</td>\n",
       "      <td>United Kingdom Independence Party (UKIP)</td>\n",
       "      <td>Labour</td>\n",
       "      <td>United Kingdom Independence Party (UKIP)</td>\n",
       "      <td>NaN</td>\n",
       "      <td>NaN</td>\n",
       "      <td>NaN</td>\n",
       "      <td>NaN</td>\n",
       "    </tr>\n",
       "    <tr>\n",
       "      <th>2</th>\n",
       "      <td>Conservative</td>\n",
       "      <td>Conservative</td>\n",
       "      <td>Conservative</td>\n",
       "      <td>Conservative</td>\n",
       "      <td>Conservative</td>\n",
       "      <td>Conservative</td>\n",
       "      <td>Conservative</td>\n",
       "      <td>Conservative</td>\n",
       "      <td>NaN</td>\n",
       "      <td>NaN</td>\n",
       "      <td>...</td>\n",
       "      <td>Conservative</td>\n",
       "      <td>Conservative</td>\n",
       "      <td>NaN</td>\n",
       "      <td>NaN</td>\n",
       "      <td>Conservative</td>\n",
       "      <td>Conservative</td>\n",
       "      <td>NaN</td>\n",
       "      <td>NaN</td>\n",
       "      <td>NaN</td>\n",
       "      <td>NaN</td>\n",
       "    </tr>\n",
       "    <tr>\n",
       "      <th>3</th>\n",
       "      <td>Labour</td>\n",
       "      <td>Liberal Democrat</td>\n",
       "      <td>Labour</td>\n",
       "      <td>Liberal Democrat</td>\n",
       "      <td>NaN</td>\n",
       "      <td>NaN</td>\n",
       "      <td>NaN</td>\n",
       "      <td>NaN</td>\n",
       "      <td>Labour</td>\n",
       "      <td>Liberal Democrat</td>\n",
       "      <td>...</td>\n",
       "      <td>Labour</td>\n",
       "      <td>Liberal Democrat</td>\n",
       "      <td>Labour</td>\n",
       "      <td>Liberal Democrat</td>\n",
       "      <td>Labour</td>\n",
       "      <td>Liberal Democrat</td>\n",
       "      <td>NaN</td>\n",
       "      <td>NaN</td>\n",
       "      <td>NaN</td>\n",
       "      <td>NaN</td>\n",
       "    </tr>\n",
       "    <tr>\n",
       "      <th>4</th>\n",
       "      <td>Conservative</td>\n",
       "      <td>Conservative</td>\n",
       "      <td>NaN</td>\n",
       "      <td>NaN</td>\n",
       "      <td>NaN</td>\n",
       "      <td>NaN</td>\n",
       "      <td>NaN</td>\n",
       "      <td>NaN</td>\n",
       "      <td>NaN</td>\n",
       "      <td>NaN</td>\n",
       "      <td>...</td>\n",
       "      <td>NaN</td>\n",
       "      <td>NaN</td>\n",
       "      <td>Conservative</td>\n",
       "      <td>Conservative</td>\n",
       "      <td>Conservative</td>\n",
       "      <td>Conservative</td>\n",
       "      <td>NaN</td>\n",
       "      <td>NaN</td>\n",
       "      <td>NaN</td>\n",
       "      <td>NaN</td>\n",
       "    </tr>\n",
       "    <tr>\n",
       "      <th>5</th>\n",
       "      <td>Did not vote</td>\n",
       "      <td>Liberal Democrat</td>\n",
       "      <td>NaN</td>\n",
       "      <td>NaN</td>\n",
       "      <td>NaN</td>\n",
       "      <td>NaN</td>\n",
       "      <td>NaN</td>\n",
       "      <td>NaN</td>\n",
       "      <td>NaN</td>\n",
       "      <td>NaN</td>\n",
       "      <td>...</td>\n",
       "      <td>NaN</td>\n",
       "      <td>NaN</td>\n",
       "      <td>Did not vote</td>\n",
       "      <td>Liberal Democrat</td>\n",
       "      <td>Did not vote</td>\n",
       "      <td>Liberal Democrat</td>\n",
       "      <td>NaN</td>\n",
       "      <td>NaN</td>\n",
       "      <td>NaN</td>\n",
       "      <td>NaN</td>\n",
       "    </tr>\n",
       "    <tr>\n",
       "      <th>...</th>\n",
       "      <td>...</td>\n",
       "      <td>...</td>\n",
       "      <td>...</td>\n",
       "      <td>...</td>\n",
       "      <td>...</td>\n",
       "      <td>...</td>\n",
       "      <td>...</td>\n",
       "      <td>...</td>\n",
       "      <td>...</td>\n",
       "      <td>...</td>\n",
       "      <td>...</td>\n",
       "      <td>...</td>\n",
       "      <td>...</td>\n",
       "      <td>...</td>\n",
       "      <td>...</td>\n",
       "      <td>...</td>\n",
       "      <td>...</td>\n",
       "      <td>...</td>\n",
       "      <td>...</td>\n",
       "      <td>...</td>\n",
       "      <td>...</td>\n",
       "    </tr>\n",
       "    <tr>\n",
       "      <th>98447</th>\n",
       "      <td>NaN</td>\n",
       "      <td>NaN</td>\n",
       "      <td>NaN</td>\n",
       "      <td>NaN</td>\n",
       "      <td>NaN</td>\n",
       "      <td>NaN</td>\n",
       "      <td>NaN</td>\n",
       "      <td>NaN</td>\n",
       "      <td>NaN</td>\n",
       "      <td>NaN</td>\n",
       "      <td>...</td>\n",
       "      <td>NaN</td>\n",
       "      <td>NaN</td>\n",
       "      <td>NaN</td>\n",
       "      <td>NaN</td>\n",
       "      <td>NaN</td>\n",
       "      <td>NaN</td>\n",
       "      <td>NaN</td>\n",
       "      <td>NaN</td>\n",
       "      <td>NaN</td>\n",
       "      <td>NaN</td>\n",
       "    </tr>\n",
       "    <tr>\n",
       "      <th>98448</th>\n",
       "      <td>NaN</td>\n",
       "      <td>NaN</td>\n",
       "      <td>NaN</td>\n",
       "      <td>NaN</td>\n",
       "      <td>NaN</td>\n",
       "      <td>NaN</td>\n",
       "      <td>NaN</td>\n",
       "      <td>NaN</td>\n",
       "      <td>NaN</td>\n",
       "      <td>NaN</td>\n",
       "      <td>...</td>\n",
       "      <td>NaN</td>\n",
       "      <td>NaN</td>\n",
       "      <td>NaN</td>\n",
       "      <td>NaN</td>\n",
       "      <td>NaN</td>\n",
       "      <td>NaN</td>\n",
       "      <td>NaN</td>\n",
       "      <td>NaN</td>\n",
       "      <td>NaN</td>\n",
       "      <td>NaN</td>\n",
       "    </tr>\n",
       "    <tr>\n",
       "      <th>98449</th>\n",
       "      <td>NaN</td>\n",
       "      <td>NaN</td>\n",
       "      <td>NaN</td>\n",
       "      <td>NaN</td>\n",
       "      <td>NaN</td>\n",
       "      <td>NaN</td>\n",
       "      <td>NaN</td>\n",
       "      <td>NaN</td>\n",
       "      <td>NaN</td>\n",
       "      <td>NaN</td>\n",
       "      <td>...</td>\n",
       "      <td>NaN</td>\n",
       "      <td>NaN</td>\n",
       "      <td>NaN</td>\n",
       "      <td>NaN</td>\n",
       "      <td>NaN</td>\n",
       "      <td>NaN</td>\n",
       "      <td>NaN</td>\n",
       "      <td>NaN</td>\n",
       "      <td>NaN</td>\n",
       "      <td>NaN</td>\n",
       "    </tr>\n",
       "    <tr>\n",
       "      <th>98450</th>\n",
       "      <td>NaN</td>\n",
       "      <td>NaN</td>\n",
       "      <td>NaN</td>\n",
       "      <td>NaN</td>\n",
       "      <td>NaN</td>\n",
       "      <td>NaN</td>\n",
       "      <td>NaN</td>\n",
       "      <td>NaN</td>\n",
       "      <td>NaN</td>\n",
       "      <td>NaN</td>\n",
       "      <td>...</td>\n",
       "      <td>NaN</td>\n",
       "      <td>NaN</td>\n",
       "      <td>NaN</td>\n",
       "      <td>NaN</td>\n",
       "      <td>NaN</td>\n",
       "      <td>NaN</td>\n",
       "      <td>NaN</td>\n",
       "      <td>NaN</td>\n",
       "      <td>NaN</td>\n",
       "      <td>NaN</td>\n",
       "    </tr>\n",
       "    <tr>\n",
       "      <th>98451</th>\n",
       "      <td>NaN</td>\n",
       "      <td>NaN</td>\n",
       "      <td>NaN</td>\n",
       "      <td>NaN</td>\n",
       "      <td>NaN</td>\n",
       "      <td>NaN</td>\n",
       "      <td>NaN</td>\n",
       "      <td>NaN</td>\n",
       "      <td>NaN</td>\n",
       "      <td>NaN</td>\n",
       "      <td>...</td>\n",
       "      <td>NaN</td>\n",
       "      <td>NaN</td>\n",
       "      <td>NaN</td>\n",
       "      <td>NaN</td>\n",
       "      <td>NaN</td>\n",
       "      <td>NaN</td>\n",
       "      <td>NaN</td>\n",
       "      <td>NaN</td>\n",
       "      <td>NaN</td>\n",
       "      <td>NaN</td>\n",
       "    </tr>\n",
       "  </tbody>\n",
       "</table>\n",
       "<p>97158 rows × 38 columns</p>\n",
       "</div>"
      ],
      "text/plain": [
       "      W19_comb_profile_past_vote_2005  \\\n",
       "1                              Labour   \n",
       "2                        Conservative   \n",
       "3                              Labour   \n",
       "4                        Conservative   \n",
       "5                        Did not vote   \n",
       "...                               ...   \n",
       "98447                             NaN   \n",
       "98448                             NaN   \n",
       "98449                             NaN   \n",
       "98450                             NaN   \n",
       "98451                             NaN   \n",
       "\n",
       "                W19_comb_profile_past_vote_2010  \\\n",
       "1      United Kingdom Independence Party (UKIP)   \n",
       "2                                  Conservative   \n",
       "3                              Liberal Democrat   \n",
       "4                                  Conservative   \n",
       "5                              Liberal Democrat   \n",
       "...                                         ...   \n",
       "98447                                       NaN   \n",
       "98448                                       NaN   \n",
       "98449                                       NaN   \n",
       "98450                                       NaN   \n",
       "98451                                       NaN   \n",
       "\n",
       "      W19_only_profile_past_vote_2005 W19_only_profile_past_vote_2010  \\\n",
       "1                                 NaN                             NaN   \n",
       "2                        Conservative                    Conservative   \n",
       "3                              Labour                Liberal Democrat   \n",
       "4                                 NaN                             NaN   \n",
       "5                                 NaN                             NaN   \n",
       "...                               ...                             ...   \n",
       "98447                             NaN                             NaN   \n",
       "98448                             NaN                             NaN   \n",
       "98449                             NaN                             NaN   \n",
       "98450                             NaN                             NaN   \n",
       "98451                             NaN                             NaN   \n",
       "\n",
       "      W18_only_profile_past_vote_2005 W18_only_profile_past_vote_2010  \\\n",
       "1                                 NaN                             NaN   \n",
       "2                        Conservative                    Conservative   \n",
       "3                                 NaN                             NaN   \n",
       "4                                 NaN                             NaN   \n",
       "5                                 NaN                             NaN   \n",
       "...                               ...                             ...   \n",
       "98447                             NaN                             NaN   \n",
       "98448                             NaN                             NaN   \n",
       "98449                             NaN                             NaN   \n",
       "98450                             NaN                             NaN   \n",
       "98451                             NaN                             NaN   \n",
       "\n",
       "      W17_only_profile_past_vote_2005 W17_only_profile_past_vote_2010  \\\n",
       "1                                 NaN                             NaN   \n",
       "2                        Conservative                    Conservative   \n",
       "3                                 NaN                             NaN   \n",
       "4                                 NaN                             NaN   \n",
       "5                                 NaN                             NaN   \n",
       "...                               ...                             ...   \n",
       "98447                             NaN                             NaN   \n",
       "98448                             NaN                             NaN   \n",
       "98449                             NaN                             NaN   \n",
       "98450                             NaN                             NaN   \n",
       "98451                             NaN                             NaN   \n",
       "\n",
       "      W16_only_profile_past_vote_2005 W16_only_profile_past_vote_2010  ...  \\\n",
       "1                                 NaN                             NaN  ...   \n",
       "2                                 NaN                             NaN  ...   \n",
       "3                              Labour                Liberal Democrat  ...   \n",
       "4                                 NaN                             NaN  ...   \n",
       "5                                 NaN                             NaN  ...   \n",
       "...                               ...                             ...  ...   \n",
       "98447                             NaN                             NaN  ...   \n",
       "98448                             NaN                             NaN  ...   \n",
       "98449                             NaN                             NaN  ...   \n",
       "98450                             NaN                             NaN  ...   \n",
       "98451                             NaN                             NaN  ...   \n",
       "\n",
       "      W3_only_profile_past_vote_2005 W3_only_profile_past_vote_2010  \\\n",
       "1                                NaN                            NaN   \n",
       "2                       Conservative                   Conservative   \n",
       "3                             Labour               Liberal Democrat   \n",
       "4                                NaN                            NaN   \n",
       "5                                NaN                            NaN   \n",
       "...                              ...                            ...   \n",
       "98447                            NaN                            NaN   \n",
       "98448                            NaN                            NaN   \n",
       "98449                            NaN                            NaN   \n",
       "98450                            NaN                            NaN   \n",
       "98451                            NaN                            NaN   \n",
       "\n",
       "      W2_only_profile_past_vote_2005  \\\n",
       "1                             Labour   \n",
       "2                                NaN   \n",
       "3                             Labour   \n",
       "4                       Conservative   \n",
       "5                       Did not vote   \n",
       "...                              ...   \n",
       "98447                            NaN   \n",
       "98448                            NaN   \n",
       "98449                            NaN   \n",
       "98450                            NaN   \n",
       "98451                            NaN   \n",
       "\n",
       "                 W2_only_profile_past_vote_2010  \\\n",
       "1      United Kingdom Independence Party (UKIP)   \n",
       "2                                           NaN   \n",
       "3                              Liberal Democrat   \n",
       "4                                  Conservative   \n",
       "5                              Liberal Democrat   \n",
       "...                                         ...   \n",
       "98447                                       NaN   \n",
       "98448                                       NaN   \n",
       "98449                                       NaN   \n",
       "98450                                       NaN   \n",
       "98451                                       NaN   \n",
       "\n",
       "      W1_only_profile_past_vote_2005  \\\n",
       "1                             Labour   \n",
       "2                       Conservative   \n",
       "3                             Labour   \n",
       "4                       Conservative   \n",
       "5                       Did not vote   \n",
       "...                              ...   \n",
       "98447                            NaN   \n",
       "98448                            NaN   \n",
       "98449                            NaN   \n",
       "98450                            NaN   \n",
       "98451                            NaN   \n",
       "\n",
       "                 W1_only_profile_past_vote_2010 discrepancy_pairs_2005  \\\n",
       "1      United Kingdom Independence Party (UKIP)                    NaN   \n",
       "2                                  Conservative                    NaN   \n",
       "3                              Liberal Democrat                    NaN   \n",
       "4                                  Conservative                    NaN   \n",
       "5                              Liberal Democrat                    NaN   \n",
       "...                                         ...                    ...   \n",
       "98447                                       NaN                    NaN   \n",
       "98448                                       NaN                    NaN   \n",
       "98449                                       NaN                    NaN   \n",
       "98450                                       NaN                    NaN   \n",
       "98451                                       NaN                    NaN   \n",
       "\n",
       "      discrepancy_pairs_2010 discr_2005_change_dataset  \\\n",
       "1                        NaN                       NaN   \n",
       "2                        NaN                       NaN   \n",
       "3                        NaN                       NaN   \n",
       "4                        NaN                       NaN   \n",
       "5                        NaN                       NaN   \n",
       "...                      ...                       ...   \n",
       "98447                    NaN                       NaN   \n",
       "98448                    NaN                       NaN   \n",
       "98449                    NaN                       NaN   \n",
       "98450                    NaN                       NaN   \n",
       "98451                    NaN                       NaN   \n",
       "\n",
       "      discr_2010_change_dataset  \n",
       "1                           NaN  \n",
       "2                           NaN  \n",
       "3                           NaN  \n",
       "4                           NaN  \n",
       "5                           NaN  \n",
       "...                         ...  \n",
       "98447                       NaN  \n",
       "98448                       NaN  \n",
       "98449                       NaN  \n",
       "98450                       NaN  \n",
       "98451                       NaN  \n",
       "\n",
       "[97158 rows x 38 columns]"
      ]
     },
     "execution_count": 308,
     "metadata": {},
     "output_type": "execute_result"
    }
   ],
   "source": [
    "df"
   ]
  },
  {
   "cell_type": "code",
   "execution_count": 293,
   "metadata": {},
   "outputs": [],
   "source": [
    "DNV2005 = (df[\"W7_only_profile_past_vote_2005\"]==\"Did not vote\")\n",
    "DNV2010 = (df[\"W7_only_profile_past_vote_2010\"]==\"Did not vote\")"
   ]
  },
  {
   "cell_type": "code",
   "execution_count": 310,
   "metadata": {},
   "outputs": [],
   "source": [
    "BES_Panel = BES_Panel.set_index(\"id\").sort_index()"
   ]
  },
  {
   "cell_type": "code",
   "execution_count": 311,
   "metadata": {},
   "outputs": [],
   "source": [
    "first_wave_joined_panel = BES_Panel[search(BES_Panel,\"wave\\d+\").index].replace(False,np.nan).fillna(method='ffill',axis=1).replace(np.nan,False).astype('bool')\n",
    "first_wave_joined_panel.columns = [int(x.replace(\"wave\",\"\")) for x in first_wave_joined_panel.columns]"
   ]
  },
  {
   "cell_type": "code",
   "execution_count": 313,
   "metadata": {},
   "outputs": [
    {
     "name": "stdout",
     "output_type": "stream",
     "text": [
      "1 1661 714 1990 667\n",
      "2 1836 539 2180 477\n",
      "3 2028 347 2298 359\n",
      "4 2374 1 2657 0\n",
      "5 2375 0 2657 0\n",
      "6 2375 0 2657 0\n",
      "7 2375 0 2657 0\n",
      "8 2375 0 2657 0\n",
      "9 2375 0 2657 0\n",
      "10 2375 0 2657 0\n",
      "11 2375 0 2657 0\n",
      "12 2375 0 2657 0\n",
      "13 2375 0 2657 0\n",
      "14 2375 0 2657 0\n",
      "15 2375 0 2657 0\n",
      "16 2375 0 2657 0\n",
      "17 2375 0 2657 0\n",
      "18 2375 0 2657 0\n",
      "19 2375 0 2657 0\n"
     ]
    }
   ],
   "source": [
    "for wave in range(1,20):\n",
    "    mask  = list(set(first_wave_joined_panel[first_wave_joined_panel[wave]].index).union()  )\n",
    "    print( wave,\n",
    "          DNV2010.loc[first_wave_joined_panel[first_wave_joined_panel[wave]].index].sum(),\n",
    "          DNV2010.loc[first_wave_joined_panel[~first_wave_joined_panel[wave]].index].sum(),\n",
    "          DNV2005.loc[first_wave_joined_panel[first_wave_joined_panel[wave]].index].sum(),\n",
    "          DNV2005.loc[first_wave_joined_panel[~first_wave_joined_panel[wave]].index].sum(),\n",
    "         )"
   ]
  },
  {
   "cell_type": "code",
   "execution_count": 309,
   "metadata": {},
   "outputs": [
    {
     "data": {
      "text/plain": [
       "((97158, 38), (97158, 7911))"
      ]
     },
     "execution_count": 309,
     "metadata": {},
     "output_type": "execute_result"
    }
   ],
   "source": [
    "df.shape, BES_Panel.shape"
   ]
  },
  {
   "cell_type": "markdown",
   "metadata": {},
   "source": []
  },
  {
   "cell_type": "code",
   "execution_count": 300,
   "metadata": {},
   "outputs": [],
   "source": [
    "temp_df = df.copy()"
   ]
  },
  {
   "cell_type": "code",
   "execution_count": 303,
   "metadata": {},
   "outputs": [],
   "source": [
    "df = temp_df.copy()"
   ]
  },
  {
   "cell_type": "code",
   "execution_count": null,
   "metadata": {},
   "outputs": [],
   "source": []
  },
  {
   "cell_type": "code",
   "execution_count": 322,
   "metadata": {},
   "outputs": [],
   "source": [
    "var_counts = pd.DataFrame.from_dict( {k:v for k,v in var_dict.items() if k in present_in_datasets} , orient='index').stack().value_counts()"
   ]
  },
  {
   "cell_type": "code",
   "execution_count": 327,
   "metadata": {},
   "outputs": [
    {
     "data": {
      "text/plain": [
       "Index(['housing', 'profile_past_vote_2005', 'profile_turnout_2017',\n",
       "       'profile_past_vote_2017', 'euRefLA', 'profile_past_vote_2010',\n",
       "       'profile_newspaper', 'profile_scotref_turnout', 'profile_turnout_2015',\n",
       "       'profile_gross_household', 'profile_lea', 'profile_eurefvote',\n",
       "       'profile_past_vote_2015', 'profile_gross_personal', 'disability',\n",
       "       'profile_household_children', 'gender', 'profile_scotref_vote',\n",
       "       'profile_education_age', 'marital', 'ageGroup'],\n",
       "      dtype='object')"
      ]
     },
     "execution_count": 327,
     "metadata": {},
     "output_type": "execute_result"
    }
   ],
   "source": [
    "var_counts[var_counts==17].index"
   ]
  },
  {
   "cell_type": "code",
   "execution_count": 388,
   "metadata": {},
   "outputs": [
    {
     "data": {
      "text/plain": [
       "Index(['natSecurityGrn', 'profile_work_type', 'responsibleDebtEU',\n",
       "       'responsibleImmigLibDems', 'happyEULeave', 'scotRefID4', 'respdate',\n",
       "       'responsibleDebtDontKnow', 'approveEU', 'responsibleCostLiveLab',\n",
       "       ...\n",
       "       'responsibleEducationWelshGovt', 'responsibleImmigConservatives',\n",
       "       'responsibleImmigLabour', 'partyContactBrexit_4',\n",
       "       'responsibleNHSScottishGovt', 'partyContactBrexit_7', 'refAreGood',\n",
       "       'responsibleCostLiveNone', 'beliefTradeoff',\n",
       "       'responsibleEducationScotGovt'],\n",
       "      dtype='object', length=116)"
      ]
     },
     "execution_count": 388,
     "metadata": {},
     "output_type": "execute_result"
    }
   ],
   "source": [
    "var_counts[var_counts==4].index"
   ]
  },
  {
   "cell_type": "code",
   "execution_count": null,
   "metadata": {},
   "outputs": [],
   "source": [
    "# profile_eurefturnout, profile_ethnicity, profile_religion, countryOfBirth, profile_past_vote_2015"
   ]
  },
  {
   "cell_type": "code",
   "execution_count": 373,
   "metadata": {},
   "outputs": [
    {
     "data": {
      "text/plain": [
       "1     8383\n",
       "2      913\n",
       "3      127\n",
       "4      116\n",
       "5       97\n",
       "6       55\n",
       "7       57\n",
       "8       22\n",
       "9       39\n",
       "10      34\n",
       "11      21\n",
       "12      13\n",
       "13      69\n",
       "14      25\n",
       "15      25\n",
       "16      18\n",
       "17      21\n",
       "dtype: int64"
      ]
     },
     "execution_count": 373,
     "metadata": {},
     "output_type": "execute_result"
    }
   ],
   "source": [
    "var_counts.value_counts().sort_index()"
   ]
  },
  {
   "cell_type": "code",
   "execution_count": 330,
   "metadata": {},
   "outputs": [
    {
     "data": {
      "text/html": [
       "['W19_comb', 'W19_only', 'W18_only', 'W17_only', 'W16_only', 'W15_only', 'W11_only', 'W10_only', 'W9_only', 'W8_only', 'W7_only', 'W6_only', 'W5_only', 'W4_only', 'W3_only', 'W2_only', 'W1_only']"
      ],
      "text/plain": [
       "['W19_comb',\n",
       " 'W19_only',\n",
       " 'W18_only',\n",
       " 'W17_only',\n",
       " 'W16_only',\n",
       " 'W15_only',\n",
       " 'W11_only',\n",
       " 'W10_only',\n",
       " 'W9_only',\n",
       " 'W8_only',\n",
       " 'W7_only',\n",
       " 'W6_only',\n",
       " 'W5_only',\n",
       " 'W4_only',\n",
       " 'W3_only',\n",
       " 'W2_only',\n",
       " 'W1_only']"
      ]
     },
     "execution_count": 330,
     "metadata": {},
     "output_type": "execute_result"
    }
   ],
   "source": [
    "present_in_datasets"
   ]
  },
  {
   "cell_type": "code",
   "execution_count": 333,
   "metadata": {},
   "outputs": [
    {
     "name": "stdout",
     "output_type": "stream",
     "text": [
      "Wall time: 51.7 s\n"
     ]
    }
   ],
   "source": [
    "%%time\n",
    "(BES_code_folder, BES_small_data_files, BES_data_folder,\n",
    " BES_output_folder, BES_file_manifest, BES_R_data_files) = setup_directories()\n",
    "\n",
    "global BES_Panel, BES_numeric, BES_reduced, BES_reduced_with_na, BES_non_numeric\n",
    "\n",
    "df = pd.DataFrame()\n",
    "var_list = list(var_counts[var_counts==17].index)\n",
    "\n",
    "for dataset_name in present_in_datasets:\n",
    "    \n",
    "    data_subfolder = BES_data_folder + dataset_name + os.sep\n",
    "\n",
    "    (manifest, dataset_filename, dataset_description, dataset_citation,\n",
    "     dataset_start, dataset_stop, dataset_wave) = get_manifest(dataset_name, BES_file_manifest)    \n",
    "    BES_Panel = pd.read_pickle(data_subfolder + dataset_filename.replace('.dta','.zip'),compression='zip')\n",
    "    if \"id\" in BES_Panel.columns:\n",
    "        temp = BES_Panel[var_list+[\"id\"]].set_index(\"id\").sort_index()\n",
    "    else:\n",
    "        temp = BES_Panel[var_list]\n",
    "    temp.columns = [dataset_name+\"_\"+x for x in temp.columns]\n",
    "    df = pd.concat([df,temp],axis=1)\n",
    "    \n",
    "df.index = df.index.astype('int')\n",
    "# note - no extra rows over W19    "
   ]
  },
  {
   "cell_type": "code",
   "execution_count": 334,
   "metadata": {},
   "outputs": [
    {
     "name": "stdout",
     "output_type": "stream",
     "text": [
      "Wall time: 20min 46s\n"
     ]
    }
   ],
   "source": [
    "%%time\n",
    "\n",
    "number_of_unique_responses_per_row = {}\n",
    "\n",
    "for focal_var in var_list:\n",
    "    var_cols = [x for x in df.columns if focal_var in x]\n",
    "\n",
    "    number_of_unique_responses_per_row[focal_var] = df[var_cols].apply(lambda x: len((x.dropna()).unique()),axis=1)\n",
    "    number_of_unique_responses_per_row[focal_var].value_counts()"
   ]
  },
  {
   "cell_type": "code",
   "execution_count": 338,
   "metadata": {},
   "outputs": [
    {
     "name": "stdout",
     "output_type": "stream",
     "text": [
      "housing\n"
     ]
    },
    {
     "data": {
      "text/plain": [
       "0    65301\n",
       "1    31857\n",
       "dtype: int64"
      ]
     },
     "metadata": {},
     "output_type": "display_data"
    },
    {
     "name": "stdout",
     "output_type": "stream",
     "text": [
      "profile_past_vote_2005\n"
     ]
    },
    {
     "data": {
      "text/plain": [
       "1    50268\n",
       "0    40149\n",
       "2     6741\n",
       "dtype: int64"
      ]
     },
     "metadata": {},
     "output_type": "display_data"
    },
    {
     "name": "stdout",
     "output_type": "stream",
     "text": [
      "profile_turnout_2017\n"
     ]
    },
    {
     "data": {
      "text/plain": [
       "1    70322\n",
       "0    26836\n",
       "dtype: int64"
      ]
     },
     "metadata": {},
     "output_type": "display_data"
    },
    {
     "name": "stdout",
     "output_type": "stream",
     "text": [
      "profile_past_vote_2017\n"
     ]
    },
    {
     "data": {
      "text/plain": [
       "1    60451\n",
       "0    36707\n",
       "dtype: int64"
      ]
     },
     "metadata": {},
     "output_type": "display_data"
    },
    {
     "name": "stdout",
     "output_type": "stream",
     "text": [
      "euRefLA\n"
     ]
    },
    {
     "data": {
      "text/plain": [
       "1    93773\n",
       "0     3385\n",
       "dtype: int64"
      ]
     },
     "metadata": {},
     "output_type": "display_data"
    },
    {
     "name": "stdout",
     "output_type": "stream",
     "text": [
      "profile_past_vote_2010\n"
     ]
    },
    {
     "data": {
      "text/plain": [
       "1    56419\n",
       "0    31577\n",
       "2     9162\n",
       "dtype: int64"
      ]
     },
     "metadata": {},
     "output_type": "display_data"
    },
    {
     "name": "stdout",
     "output_type": "stream",
     "text": [
      "profile_newspaper\n"
     ]
    },
    {
     "data": {
      "text/plain": [
       "1    56739\n",
       "0    30228\n",
       "2     9731\n",
       "3      460\n",
       "dtype: int64"
      ]
     },
     "metadata": {},
     "output_type": "display_data"
    },
    {
     "name": "stdout",
     "output_type": "stream",
     "text": [
      "profile_scotref_turnout\n"
     ]
    },
    {
     "data": {
      "text/plain": [
       "0    87199\n",
       "1     9959\n",
       "dtype: int64"
      ]
     },
     "metadata": {},
     "output_type": "display_data"
    },
    {
     "name": "stdout",
     "output_type": "stream",
     "text": [
      "profile_turnout_2015\n"
     ]
    },
    {
     "data": {
      "text/plain": [
       "1    77713\n",
       "0    19328\n",
       "2      117\n",
       "dtype: int64"
      ]
     },
     "metadata": {},
     "output_type": "display_data"
    },
    {
     "name": "stdout",
     "output_type": "stream",
     "text": [
      "profile_gross_household\n"
     ]
    },
    {
     "data": {
      "text/plain": [
       "1    39499\n",
       "2    27572\n",
       "3    14400\n",
       "0     9005\n",
       "4     5190\n",
       "5     1325\n",
       "6      161\n",
       "7        6\n",
       "dtype: int64"
      ]
     },
     "metadata": {},
     "output_type": "display_data"
    },
    {
     "name": "stdout",
     "output_type": "stream",
     "text": [
      "profile_lea\n"
     ]
    },
    {
     "data": {
      "text/plain": [
       "1    54633\n",
       "0    42525\n",
       "dtype: int64"
      ]
     },
     "metadata": {},
     "output_type": "display_data"
    },
    {
     "name": "stdout",
     "output_type": "stream",
     "text": [
      "profile_eurefvote\n"
     ]
    },
    {
     "data": {
      "text/plain": [
       "1    68514\n",
       "0    28644\n",
       "dtype: int64"
      ]
     },
     "metadata": {},
     "output_type": "display_data"
    },
    {
     "name": "stdout",
     "output_type": "stream",
     "text": [
      "profile_past_vote_2015\n"
     ]
    },
    {
     "data": {
      "text/plain": [
       "1    71125\n",
       "0    26033\n",
       "dtype: int64"
      ]
     },
     "metadata": {},
     "output_type": "display_data"
    },
    {
     "name": "stdout",
     "output_type": "stream",
     "text": [
      "profile_gross_personal\n"
     ]
    },
    {
     "data": {
      "text/plain": [
       "1    55276\n",
       "0    22902\n",
       "2    18460\n",
       "3      520\n",
       "dtype: int64"
      ]
     },
     "metadata": {},
     "output_type": "display_data"
    },
    {
     "name": "stdout",
     "output_type": "stream",
     "text": [
      "disability\n"
     ]
    },
    {
     "data": {
      "text/plain": [
       "1    51225\n",
       "0    33356\n",
       "2    11798\n",
       "3      779\n",
       "dtype: int64"
      ]
     },
     "metadata": {},
     "output_type": "display_data"
    },
    {
     "name": "stdout",
     "output_type": "stream",
     "text": [
      "profile_household_children\n"
     ]
    },
    {
     "data": {
      "text/plain": [
       "1    73757\n",
       "0    19313\n",
       "2     4080\n",
       "3        8\n",
       "dtype: int64"
      ]
     },
     "metadata": {},
     "output_type": "display_data"
    },
    {
     "name": "stdout",
     "output_type": "stream",
     "text": [
      "gender\n"
     ]
    },
    {
     "data": {
      "text/plain": [
       "1    96521\n",
       "0      629\n",
       "2        8\n",
       "dtype: int64"
      ]
     },
     "metadata": {},
     "output_type": "display_data"
    },
    {
     "name": "stdout",
     "output_type": "stream",
     "text": [
      "profile_scotref_vote\n"
     ]
    },
    {
     "data": {
      "text/plain": [
       "0    88359\n",
       "1     8799\n",
       "dtype: int64"
      ]
     },
     "metadata": {},
     "output_type": "display_data"
    },
    {
     "name": "stdout",
     "output_type": "stream",
     "text": [
      "profile_education_age\n"
     ]
    },
    {
     "data": {
      "text/plain": [
       "1    39216\n",
       "0    23432\n",
       "2    21590\n",
       "3    12920\n",
       "dtype: int64"
      ]
     },
     "metadata": {},
     "output_type": "display_data"
    },
    {
     "name": "stdout",
     "output_type": "stream",
     "text": [
      "marital\n"
     ]
    },
    {
     "data": {
      "text/plain": [
       "1    64090\n",
       "0    33068\n",
       "dtype: int64"
      ]
     },
     "metadata": {},
     "output_type": "display_data"
    },
    {
     "name": "stdout",
     "output_type": "stream",
     "text": [
      "ageGroup\n"
     ]
    },
    {
     "data": {
      "text/plain": [
       "1    66930\n",
       "0    30228\n",
       "dtype: int64"
      ]
     },
     "metadata": {},
     "output_type": "display_data"
    }
   ],
   "source": [
    "for key in number_of_unique_responses_per_row.keys():\n",
    "    print(key)\n",
    "    display(number_of_unique_responses_per_row[key].value_counts())"
   ]
  },
  {
   "cell_type": "code",
   "execution_count": null,
   "metadata": {},
   "outputs": [],
   "source": [
    "# discrepancy_pairs_2005 = df[ppv2005].loc[  number_of_unique_responses_per_row_2005==2 ].dropna(how='all',axis=1).apply(lambda x: \"|\".join([str(x) for x in x.dropna().unique()]),axis=1)"
   ]
  },
  {
   "cell_type": "code",
   "execution_count": 339,
   "metadata": {},
   "outputs": [
    {
     "name": "stdout",
     "output_type": "stream",
     "text": [
      "Wall time: 1min 35s\n"
     ]
    }
   ],
   "source": [
    "%%time\n",
    "\n",
    "for focal_var in var_list:\n",
    "    var_cols = [x for x in df.columns if focal_var in x]\n",
    "    df[\"nuniq_\"+focal_var] = number_of_unique_responses_per_row[focal_var]\n",
    "    df[\"discrep_\"+focal_var] = df[var_cols].loc[  df[\"nuniq_\"+focal_var]>=2 ].dropna(how='all',axis=1).apply(lambda x: \"|\".join([str(x) for x in x.dropna().unique()]),axis=1)\n",
    "    "
   ]
  },
  {
   "cell_type": "code",
   "execution_count": 342,
   "metadata": {},
   "outputs": [
    {
     "data": {
      "text/html": [
       "<div>\n",
       "<style scoped>\n",
       "    .dataframe tbody tr th:only-of-type {\n",
       "        vertical-align: middle;\n",
       "    }\n",
       "\n",
       "    .dataframe tbody tr th {\n",
       "        vertical-align: top;\n",
       "    }\n",
       "\n",
       "    .dataframe thead th {\n",
       "        text-align: right;\n",
       "    }\n",
       "</style>\n",
       "<table border=\"1\" class=\"dataframe\">\n",
       "  <thead>\n",
       "    <tr style=\"text-align: right;\">\n",
       "      <th></th>\n",
       "      <th>W19_comb_housing</th>\n",
       "      <th>W19_comb_profile_past_vote_2005</th>\n",
       "      <th>W19_comb_profile_turnout_2017</th>\n",
       "      <th>W19_comb_profile_past_vote_2017</th>\n",
       "      <th>W19_comb_euRefLA</th>\n",
       "      <th>W19_comb_profile_past_vote_2010</th>\n",
       "      <th>W19_comb_profile_newspaper</th>\n",
       "      <th>W19_comb_profile_scotref_turnout</th>\n",
       "      <th>W19_comb_profile_turnout_2015</th>\n",
       "      <th>W19_comb_profile_gross_household</th>\n",
       "      <th>...</th>\n",
       "      <th>nuniq_gender</th>\n",
       "      <th>discrep_gender</th>\n",
       "      <th>nuniq_profile_scotref_vote</th>\n",
       "      <th>discrep_profile_scotref_vote</th>\n",
       "      <th>nuniq_profile_education_age</th>\n",
       "      <th>discrep_profile_education_age</th>\n",
       "      <th>nuniq_marital</th>\n",
       "      <th>discrep_marital</th>\n",
       "      <th>nuniq_ageGroup</th>\n",
       "      <th>discrep_ageGroup</th>\n",
       "    </tr>\n",
       "  </thead>\n",
       "  <tbody>\n",
       "    <tr>\n",
       "      <th>1</th>\n",
       "      <td>Own the leasehold/freehold outright</td>\n",
       "      <td>Labour</td>\n",
       "      <td>NaN</td>\n",
       "      <td>NaN</td>\n",
       "      <td>E06000050</td>\n",
       "      <td>United Kingdom Independence Party (UKIP)</td>\n",
       "      <td>The Mirror / Daily Record</td>\n",
       "      <td>NaN</td>\n",
       "      <td>Yes, voted</td>\n",
       "      <td>Â£10,000 to Â£14,999 per year</td>\n",
       "      <td>...</td>\n",
       "      <td>1</td>\n",
       "      <td>NaN</td>\n",
       "      <td>0</td>\n",
       "      <td>NaN</td>\n",
       "      <td>1</td>\n",
       "      <td>NaN</td>\n",
       "      <td>1</td>\n",
       "      <td>NaN</td>\n",
       "      <td>1</td>\n",
       "      <td>NaN</td>\n",
       "    </tr>\n",
       "    <tr>\n",
       "      <th>2</th>\n",
       "      <td>Own the leasehold/freehold outright</td>\n",
       "      <td>Conservative</td>\n",
       "      <td>Yes, voted</td>\n",
       "      <td>Conservative</td>\n",
       "      <td>E07000215</td>\n",
       "      <td>Conservative</td>\n",
       "      <td>The Daily Telegraph</td>\n",
       "      <td>NaN</td>\n",
       "      <td>Yes, voted</td>\n",
       "      <td>Â£50,000 to Â£59,999 per year</td>\n",
       "      <td>...</td>\n",
       "      <td>1</td>\n",
       "      <td>NaN</td>\n",
       "      <td>0</td>\n",
       "      <td>NaN</td>\n",
       "      <td>3</td>\n",
       "      <td>20+|d|Foreman or Supervisor of Other Workers (...</td>\n",
       "      <td>1</td>\n",
       "      <td>NaN</td>\n",
       "      <td>1</td>\n",
       "      <td>NaN</td>\n",
       "    </tr>\n",
       "    <tr>\n",
       "      <th>3</th>\n",
       "      <td>Own the leasehold/freehold outright</td>\n",
       "      <td>Labour</td>\n",
       "      <td>Yes, voted</td>\n",
       "      <td>Labour</td>\n",
       "      <td>E07000136</td>\n",
       "      <td>Liberal Democrat</td>\n",
       "      <td>The Mirror / Daily Record</td>\n",
       "      <td>NaN</td>\n",
       "      <td>Yes, voted</td>\n",
       "      <td>Â£5,000 to Â£9,999 per year</td>\n",
       "      <td>...</td>\n",
       "      <td>1</td>\n",
       "      <td>NaN</td>\n",
       "      <td>0</td>\n",
       "      <td>NaN</td>\n",
       "      <td>2</td>\n",
       "      <td>20+|d</td>\n",
       "      <td>1</td>\n",
       "      <td>NaN</td>\n",
       "      <td>1</td>\n",
       "      <td>NaN</td>\n",
       "    </tr>\n",
       "    <tr>\n",
       "      <th>4</th>\n",
       "      <td>Buying leasehold/freehold on a mortgage</td>\n",
       "      <td>Conservative</td>\n",
       "      <td>NaN</td>\n",
       "      <td>NaN</td>\n",
       "      <td>NaN</td>\n",
       "      <td>Conservative</td>\n",
       "      <td>The Sun</td>\n",
       "      <td>NaN</td>\n",
       "      <td>NaN</td>\n",
       "      <td>Â£25,000 to Â£29,999 per year</td>\n",
       "      <td>...</td>\n",
       "      <td>1</td>\n",
       "      <td>NaN</td>\n",
       "      <td>0</td>\n",
       "      <td>NaN</td>\n",
       "      <td>1</td>\n",
       "      <td>NaN</td>\n",
       "      <td>1</td>\n",
       "      <td>NaN</td>\n",
       "      <td>1</td>\n",
       "      <td>NaN</td>\n",
       "    </tr>\n",
       "    <tr>\n",
       "      <th>5</th>\n",
       "      <td>Own the leasehold/freehold outright</td>\n",
       "      <td>I would not vote</td>\n",
       "      <td>NaN</td>\n",
       "      <td>NaN</td>\n",
       "      <td>NaN</td>\n",
       "      <td>Liberal Democrat</td>\n",
       "      <td>The Daily Telegraph</td>\n",
       "      <td>NaN</td>\n",
       "      <td>NaN</td>\n",
       "      <td>Â£25,000 to Â£29,999 per year</td>\n",
       "      <td>...</td>\n",
       "      <td>1</td>\n",
       "      <td>NaN</td>\n",
       "      <td>0</td>\n",
       "      <td>NaN</td>\n",
       "      <td>1</td>\n",
       "      <td>NaN</td>\n",
       "      <td>1</td>\n",
       "      <td>NaN</td>\n",
       "      <td>1</td>\n",
       "      <td>NaN</td>\n",
       "    </tr>\n",
       "    <tr>\n",
       "      <th>...</th>\n",
       "      <td>...</td>\n",
       "      <td>...</td>\n",
       "      <td>...</td>\n",
       "      <td>...</td>\n",
       "      <td>...</td>\n",
       "      <td>...</td>\n",
       "      <td>...</td>\n",
       "      <td>...</td>\n",
       "      <td>...</td>\n",
       "      <td>...</td>\n",
       "      <td>...</td>\n",
       "      <td>...</td>\n",
       "      <td>...</td>\n",
       "      <td>...</td>\n",
       "      <td>...</td>\n",
       "      <td>...</td>\n",
       "      <td>...</td>\n",
       "      <td>...</td>\n",
       "      <td>...</td>\n",
       "      <td>...</td>\n",
       "      <td>...</td>\n",
       "    </tr>\n",
       "    <tr>\n",
       "      <th>98447</th>\n",
       "      <td>NaN</td>\n",
       "      <td>NaN</td>\n",
       "      <td>No, did not vote</td>\n",
       "      <td>NaN</td>\n",
       "      <td>NaN</td>\n",
       "      <td>NaN</td>\n",
       "      <td>NaN</td>\n",
       "      <td>NaN</td>\n",
       "      <td>No, did not vote</td>\n",
       "      <td>NaN</td>\n",
       "      <td>...</td>\n",
       "      <td>1</td>\n",
       "      <td>NaN</td>\n",
       "      <td>0</td>\n",
       "      <td>NaN</td>\n",
       "      <td>0</td>\n",
       "      <td>NaN</td>\n",
       "      <td>0</td>\n",
       "      <td>NaN</td>\n",
       "      <td>0</td>\n",
       "      <td>NaN</td>\n",
       "    </tr>\n",
       "    <tr>\n",
       "      <th>98448</th>\n",
       "      <td>NaN</td>\n",
       "      <td>NaN</td>\n",
       "      <td>No, did not vote</td>\n",
       "      <td>NaN</td>\n",
       "      <td>NaN</td>\n",
       "      <td>NaN</td>\n",
       "      <td>NaN</td>\n",
       "      <td>NaN</td>\n",
       "      <td>No, did not vote</td>\n",
       "      <td>NaN</td>\n",
       "      <td>...</td>\n",
       "      <td>1</td>\n",
       "      <td>NaN</td>\n",
       "      <td>0</td>\n",
       "      <td>NaN</td>\n",
       "      <td>0</td>\n",
       "      <td>NaN</td>\n",
       "      <td>0</td>\n",
       "      <td>NaN</td>\n",
       "      <td>0</td>\n",
       "      <td>NaN</td>\n",
       "    </tr>\n",
       "    <tr>\n",
       "      <th>98449</th>\n",
       "      <td>NaN</td>\n",
       "      <td>NaN</td>\n",
       "      <td>Yes, voted</td>\n",
       "      <td>Don't know</td>\n",
       "      <td>NaN</td>\n",
       "      <td>NaN</td>\n",
       "      <td>NaN</td>\n",
       "      <td>NaN</td>\n",
       "      <td>Yes, voted</td>\n",
       "      <td>NaN</td>\n",
       "      <td>...</td>\n",
       "      <td>1</td>\n",
       "      <td>NaN</td>\n",
       "      <td>0</td>\n",
       "      <td>NaN</td>\n",
       "      <td>1</td>\n",
       "      <td>NaN</td>\n",
       "      <td>0</td>\n",
       "      <td>NaN</td>\n",
       "      <td>0</td>\n",
       "      <td>NaN</td>\n",
       "    </tr>\n",
       "    <tr>\n",
       "      <th>98450</th>\n",
       "      <td>NaN</td>\n",
       "      <td>NaN</td>\n",
       "      <td>No, did not vote</td>\n",
       "      <td>NaN</td>\n",
       "      <td>NaN</td>\n",
       "      <td>NaN</td>\n",
       "      <td>NaN</td>\n",
       "      <td>NaN</td>\n",
       "      <td>Don't know</td>\n",
       "      <td>NaN</td>\n",
       "      <td>...</td>\n",
       "      <td>1</td>\n",
       "      <td>NaN</td>\n",
       "      <td>0</td>\n",
       "      <td>NaN</td>\n",
       "      <td>0</td>\n",
       "      <td>NaN</td>\n",
       "      <td>0</td>\n",
       "      <td>NaN</td>\n",
       "      <td>0</td>\n",
       "      <td>NaN</td>\n",
       "    </tr>\n",
       "    <tr>\n",
       "      <th>98451</th>\n",
       "      <td>NaN</td>\n",
       "      <td>NaN</td>\n",
       "      <td>Don't know</td>\n",
       "      <td>NaN</td>\n",
       "      <td>NaN</td>\n",
       "      <td>NaN</td>\n",
       "      <td>NaN</td>\n",
       "      <td>NaN</td>\n",
       "      <td>Yes, voted</td>\n",
       "      <td>NaN</td>\n",
       "      <td>...</td>\n",
       "      <td>1</td>\n",
       "      <td>NaN</td>\n",
       "      <td>0</td>\n",
       "      <td>NaN</td>\n",
       "      <td>0</td>\n",
       "      <td>NaN</td>\n",
       "      <td>0</td>\n",
       "      <td>NaN</td>\n",
       "      <td>0</td>\n",
       "      <td>NaN</td>\n",
       "    </tr>\n",
       "  </tbody>\n",
       "</table>\n",
       "<p>97158 rows × 399 columns</p>\n",
       "</div>"
      ],
      "text/plain": [
       "                              W19_comb_housing  \\\n",
       "1          Own the leasehold/freehold outright   \n",
       "2          Own the leasehold/freehold outright   \n",
       "3          Own the leasehold/freehold outright   \n",
       "4      Buying leasehold/freehold on a mortgage   \n",
       "5          Own the leasehold/freehold outright   \n",
       "...                                        ...   \n",
       "98447                                      NaN   \n",
       "98448                                      NaN   \n",
       "98449                                      NaN   \n",
       "98450                                      NaN   \n",
       "98451                                      NaN   \n",
       "\n",
       "      W19_comb_profile_past_vote_2005 W19_comb_profile_turnout_2017  \\\n",
       "1                              Labour                           NaN   \n",
       "2                        Conservative                    Yes, voted   \n",
       "3                              Labour                    Yes, voted   \n",
       "4                        Conservative                           NaN   \n",
       "5                    I would not vote                           NaN   \n",
       "...                               ...                           ...   \n",
       "98447                             NaN              No, did not vote   \n",
       "98448                             NaN              No, did not vote   \n",
       "98449                             NaN                    Yes, voted   \n",
       "98450                             NaN              No, did not vote   \n",
       "98451                             NaN                    Don't know   \n",
       "\n",
       "      W19_comb_profile_past_vote_2017 W19_comb_euRefLA  \\\n",
       "1                                 NaN        E06000050   \n",
       "2                        Conservative        E07000215   \n",
       "3                              Labour        E07000136   \n",
       "4                                 NaN              NaN   \n",
       "5                                 NaN              NaN   \n",
       "...                               ...              ...   \n",
       "98447                             NaN              NaN   \n",
       "98448                             NaN              NaN   \n",
       "98449                      Don't know              NaN   \n",
       "98450                             NaN              NaN   \n",
       "98451                             NaN              NaN   \n",
       "\n",
       "                W19_comb_profile_past_vote_2010 W19_comb_profile_newspaper  \\\n",
       "1      United Kingdom Independence Party (UKIP)  The Mirror / Daily Record   \n",
       "2                                  Conservative        The Daily Telegraph   \n",
       "3                              Liberal Democrat  The Mirror / Daily Record   \n",
       "4                                  Conservative                    The Sun   \n",
       "5                              Liberal Democrat        The Daily Telegraph   \n",
       "...                                         ...                        ...   \n",
       "98447                                       NaN                        NaN   \n",
       "98448                                       NaN                        NaN   \n",
       "98449                                       NaN                        NaN   \n",
       "98450                                       NaN                        NaN   \n",
       "98451                                       NaN                        NaN   \n",
       "\n",
       "      W19_comb_profile_scotref_turnout W19_comb_profile_turnout_2015  \\\n",
       "1                                  NaN                    Yes, voted   \n",
       "2                                  NaN                    Yes, voted   \n",
       "3                                  NaN                    Yes, voted   \n",
       "4                                  NaN                           NaN   \n",
       "5                                  NaN                           NaN   \n",
       "...                                ...                           ...   \n",
       "98447                              NaN              No, did not vote   \n",
       "98448                              NaN              No, did not vote   \n",
       "98449                              NaN                    Yes, voted   \n",
       "98450                              NaN                    Don't know   \n",
       "98451                              NaN                    Yes, voted   \n",
       "\n",
       "      W19_comb_profile_gross_household  ... nuniq_gender discrep_gender  \\\n",
       "1        Â£10,000 to Â£14,999 per year  ...            1            NaN   \n",
       "2        Â£50,000 to Â£59,999 per year  ...            1            NaN   \n",
       "3          Â£5,000 to Â£9,999 per year  ...            1            NaN   \n",
       "4        Â£25,000 to Â£29,999 per year  ...            1            NaN   \n",
       "5        Â£25,000 to Â£29,999 per year  ...            1            NaN   \n",
       "...                                ...  ...          ...            ...   \n",
       "98447                              NaN  ...            1            NaN   \n",
       "98448                              NaN  ...            1            NaN   \n",
       "98449                              NaN  ...            1            NaN   \n",
       "98450                              NaN  ...            1            NaN   \n",
       "98451                              NaN  ...            1            NaN   \n",
       "\n",
       "      nuniq_profile_scotref_vote discrep_profile_scotref_vote  \\\n",
       "1                              0                          NaN   \n",
       "2                              0                          NaN   \n",
       "3                              0                          NaN   \n",
       "4                              0                          NaN   \n",
       "5                              0                          NaN   \n",
       "...                          ...                          ...   \n",
       "98447                          0                          NaN   \n",
       "98448                          0                          NaN   \n",
       "98449                          0                          NaN   \n",
       "98450                          0                          NaN   \n",
       "98451                          0                          NaN   \n",
       "\n",
       "      nuniq_profile_education_age  \\\n",
       "1                               1   \n",
       "2                               3   \n",
       "3                               2   \n",
       "4                               1   \n",
       "5                               1   \n",
       "...                           ...   \n",
       "98447                           0   \n",
       "98448                           0   \n",
       "98449                           1   \n",
       "98450                           0   \n",
       "98451                           0   \n",
       "\n",
       "                           discrep_profile_education_age nuniq_marital  \\\n",
       "1                                                    NaN             1   \n",
       "2      20+|d|Foreman or Supervisor of Other Workers (...             1   \n",
       "3                                                  20+|d             1   \n",
       "4                                                    NaN             1   \n",
       "5                                                    NaN             1   \n",
       "...                                                  ...           ...   \n",
       "98447                                                NaN             0   \n",
       "98448                                                NaN             0   \n",
       "98449                                                NaN             0   \n",
       "98450                                                NaN             0   \n",
       "98451                                                NaN             0   \n",
       "\n",
       "      discrep_marital nuniq_ageGroup discrep_ageGroup  \n",
       "1                 NaN              1              NaN  \n",
       "2                 NaN              1              NaN  \n",
       "3                 NaN              1              NaN  \n",
       "4                 NaN              1              NaN  \n",
       "5                 NaN              1              NaN  \n",
       "...               ...            ...              ...  \n",
       "98447             NaN              0              NaN  \n",
       "98448             NaN              0              NaN  \n",
       "98449             NaN              0              NaN  \n",
       "98450             NaN              0              NaN  \n",
       "98451             NaN              0              NaN  \n",
       "\n",
       "[97158 rows x 399 columns]"
      ]
     },
     "execution_count": 342,
     "metadata": {},
     "output_type": "execute_result"
    }
   ],
   "source": [
    "df"
   ]
  },
  {
   "cell_type": "code",
   "execution_count": 347,
   "metadata": {},
   "outputs": [
    {
     "data": {
      "text/html": [
       "<div>\n",
       "<style scoped>\n",
       "    .dataframe tbody tr th:only-of-type {\n",
       "        vertical-align: middle;\n",
       "    }\n",
       "\n",
       "    .dataframe tbody tr th {\n",
       "        vertical-align: top;\n",
       "    }\n",
       "\n",
       "    .dataframe thead th {\n",
       "        text-align: right;\n",
       "    }\n",
       "</style>\n",
       "<table border=\"1\" class=\"dataframe\">\n",
       "  <thead>\n",
       "    <tr style=\"text-align: right;\">\n",
       "      <th></th>\n",
       "      <th>discrep_profile_past_vote_2005</th>\n",
       "      <th>discrep_profile_past_vote_2010</th>\n",
       "      <th>discrep_profile_newspaper</th>\n",
       "      <th>discrep_profile_turnout_2015</th>\n",
       "      <th>discrep_profile_gross_household</th>\n",
       "      <th>discrep_profile_gross_personal</th>\n",
       "      <th>discrep_disability</th>\n",
       "      <th>discrep_profile_household_children</th>\n",
       "      <th>discrep_gender</th>\n",
       "      <th>discrep_profile_education_age</th>\n",
       "    </tr>\n",
       "  </thead>\n",
       "  <tbody>\n",
       "    <tr>\n",
       "      <th>1</th>\n",
       "      <td>NaN</td>\n",
       "      <td>NaN</td>\n",
       "      <td>The Mirror / Daily Record|None</td>\n",
       "      <td>NaN</td>\n",
       "      <td>Â£10,000 to Â£14,999 per year|Â£25,000 to Â£29...</td>\n",
       "      <td>NaN</td>\n",
       "      <td>Yes, limited a little|No</td>\n",
       "      <td>NaN</td>\n",
       "      <td>NaN</td>\n",
       "      <td>NaN</td>\n",
       "    </tr>\n",
       "    <tr>\n",
       "      <th>2</th>\n",
       "      <td>NaN</td>\n",
       "      <td>NaN</td>\n",
       "      <td>NaN</td>\n",
       "      <td>NaN</td>\n",
       "      <td>Â£50,000 to Â£59,999 per year|£60,000 to £69,9...</td>\n",
       "      <td>Â£50,000 to Â£59,999 per year|£10,000 to £14,9...</td>\n",
       "      <td>NaN</td>\n",
       "      <td>NaN</td>\n",
       "      <td>NaN</td>\n",
       "      <td>20+|d|Foreman or Supervisor of Other Workers (...</td>\n",
       "    </tr>\n",
       "    <tr>\n",
       "      <th>3</th>\n",
       "      <td>NaN</td>\n",
       "      <td>NaN</td>\n",
       "      <td>NaN</td>\n",
       "      <td>NaN</td>\n",
       "      <td>Â£5,000 to Â£9,999 per year|£5,000 to £9,999 p...</td>\n",
       "      <td>Â£5,000 to Â£9,999 per year|£5,000 to £9,999 p...</td>\n",
       "      <td>NaN</td>\n",
       "      <td>NaN</td>\n",
       "      <td>NaN</td>\n",
       "      <td>20+|d</td>\n",
       "    </tr>\n",
       "    <tr>\n",
       "      <th>4</th>\n",
       "      <td>NaN</td>\n",
       "      <td>NaN</td>\n",
       "      <td>NaN</td>\n",
       "      <td>NaN</td>\n",
       "      <td>NaN</td>\n",
       "      <td>NaN</td>\n",
       "      <td>NaN</td>\n",
       "      <td>NaN</td>\n",
       "      <td>NaN</td>\n",
       "      <td>NaN</td>\n",
       "    </tr>\n",
       "    <tr>\n",
       "      <th>5</th>\n",
       "      <td>NaN</td>\n",
       "      <td>NaN</td>\n",
       "      <td>NaN</td>\n",
       "      <td>NaN</td>\n",
       "      <td>NaN</td>\n",
       "      <td>NaN</td>\n",
       "      <td>NaN</td>\n",
       "      <td>NaN</td>\n",
       "      <td>NaN</td>\n",
       "      <td>NaN</td>\n",
       "    </tr>\n",
       "    <tr>\n",
       "      <th>...</th>\n",
       "      <td>...</td>\n",
       "      <td>...</td>\n",
       "      <td>...</td>\n",
       "      <td>...</td>\n",
       "      <td>...</td>\n",
       "      <td>...</td>\n",
       "      <td>...</td>\n",
       "      <td>...</td>\n",
       "      <td>...</td>\n",
       "      <td>...</td>\n",
       "    </tr>\n",
       "    <tr>\n",
       "      <th>98447</th>\n",
       "      <td>NaN</td>\n",
       "      <td>NaN</td>\n",
       "      <td>NaN</td>\n",
       "      <td>NaN</td>\n",
       "      <td>NaN</td>\n",
       "      <td>NaN</td>\n",
       "      <td>NaN</td>\n",
       "      <td>NaN</td>\n",
       "      <td>NaN</td>\n",
       "      <td>NaN</td>\n",
       "    </tr>\n",
       "    <tr>\n",
       "      <th>98448</th>\n",
       "      <td>NaN</td>\n",
       "      <td>NaN</td>\n",
       "      <td>NaN</td>\n",
       "      <td>NaN</td>\n",
       "      <td>NaN</td>\n",
       "      <td>NaN</td>\n",
       "      <td>NaN</td>\n",
       "      <td>NaN</td>\n",
       "      <td>NaN</td>\n",
       "      <td>NaN</td>\n",
       "    </tr>\n",
       "    <tr>\n",
       "      <th>98449</th>\n",
       "      <td>NaN</td>\n",
       "      <td>NaN</td>\n",
       "      <td>NaN</td>\n",
       "      <td>NaN</td>\n",
       "      <td>NaN</td>\n",
       "      <td>NaN</td>\n",
       "      <td>NaN</td>\n",
       "      <td>NaN</td>\n",
       "      <td>NaN</td>\n",
       "      <td>NaN</td>\n",
       "    </tr>\n",
       "    <tr>\n",
       "      <th>98450</th>\n",
       "      <td>NaN</td>\n",
       "      <td>NaN</td>\n",
       "      <td>NaN</td>\n",
       "      <td>NaN</td>\n",
       "      <td>NaN</td>\n",
       "      <td>NaN</td>\n",
       "      <td>NaN</td>\n",
       "      <td>NaN</td>\n",
       "      <td>NaN</td>\n",
       "      <td>NaN</td>\n",
       "    </tr>\n",
       "    <tr>\n",
       "      <th>98451</th>\n",
       "      <td>NaN</td>\n",
       "      <td>NaN</td>\n",
       "      <td>NaN</td>\n",
       "      <td>NaN</td>\n",
       "      <td>NaN</td>\n",
       "      <td>NaN</td>\n",
       "      <td>NaN</td>\n",
       "      <td>NaN</td>\n",
       "      <td>NaN</td>\n",
       "      <td>NaN</td>\n",
       "    </tr>\n",
       "  </tbody>\n",
       "</table>\n",
       "<p>97158 rows × 10 columns</p>\n",
       "</div>"
      ],
      "text/plain": [
       "      discrep_profile_past_vote_2005 discrep_profile_past_vote_2010  \\\n",
       "1                                NaN                            NaN   \n",
       "2                                NaN                            NaN   \n",
       "3                                NaN                            NaN   \n",
       "4                                NaN                            NaN   \n",
       "5                                NaN                            NaN   \n",
       "...                              ...                            ...   \n",
       "98447                            NaN                            NaN   \n",
       "98448                            NaN                            NaN   \n",
       "98449                            NaN                            NaN   \n",
       "98450                            NaN                            NaN   \n",
       "98451                            NaN                            NaN   \n",
       "\n",
       "            discrep_profile_newspaper discrep_profile_turnout_2015  \\\n",
       "1      The Mirror / Daily Record|None                          NaN   \n",
       "2                                 NaN                          NaN   \n",
       "3                                 NaN                          NaN   \n",
       "4                                 NaN                          NaN   \n",
       "5                                 NaN                          NaN   \n",
       "...                               ...                          ...   \n",
       "98447                             NaN                          NaN   \n",
       "98448                             NaN                          NaN   \n",
       "98449                             NaN                          NaN   \n",
       "98450                             NaN                          NaN   \n",
       "98451                             NaN                          NaN   \n",
       "\n",
       "                         discrep_profile_gross_household  \\\n",
       "1      Â£10,000 to Â£14,999 per year|Â£25,000 to Â£29...   \n",
       "2      Â£50,000 to Â£59,999 per year|£60,000 to £69,9...   \n",
       "3      Â£5,000 to Â£9,999 per year|£5,000 to £9,999 p...   \n",
       "4                                                    NaN   \n",
       "5                                                    NaN   \n",
       "...                                                  ...   \n",
       "98447                                                NaN   \n",
       "98448                                                NaN   \n",
       "98449                                                NaN   \n",
       "98450                                                NaN   \n",
       "98451                                                NaN   \n",
       "\n",
       "                          discrep_profile_gross_personal  \\\n",
       "1                                                    NaN   \n",
       "2      Â£50,000 to Â£59,999 per year|£10,000 to £14,9...   \n",
       "3      Â£5,000 to Â£9,999 per year|£5,000 to £9,999 p...   \n",
       "4                                                    NaN   \n",
       "5                                                    NaN   \n",
       "...                                                  ...   \n",
       "98447                                                NaN   \n",
       "98448                                                NaN   \n",
       "98449                                                NaN   \n",
       "98450                                                NaN   \n",
       "98451                                                NaN   \n",
       "\n",
       "             discrep_disability discrep_profile_household_children  \\\n",
       "1      Yes, limited a little|No                                NaN   \n",
       "2                           NaN                                NaN   \n",
       "3                           NaN                                NaN   \n",
       "4                           NaN                                NaN   \n",
       "5                           NaN                                NaN   \n",
       "...                         ...                                ...   \n",
       "98447                       NaN                                NaN   \n",
       "98448                       NaN                                NaN   \n",
       "98449                       NaN                                NaN   \n",
       "98450                       NaN                                NaN   \n",
       "98451                       NaN                                NaN   \n",
       "\n",
       "      discrep_gender                      discrep_profile_education_age  \n",
       "1                NaN                                                NaN  \n",
       "2                NaN  20+|d|Foreman or Supervisor of Other Workers (...  \n",
       "3                NaN                                              20+|d  \n",
       "4                NaN                                                NaN  \n",
       "5                NaN                                                NaN  \n",
       "...              ...                                                ...  \n",
       "98447            NaN                                                NaN  \n",
       "98448            NaN                                                NaN  \n",
       "98449            NaN                                                NaN  \n",
       "98450            NaN                                                NaN  \n",
       "98451            NaN                                                NaN  \n",
       "\n",
       "[97158 rows x 10 columns]"
      ]
     },
     "execution_count": 347,
     "metadata": {},
     "output_type": "execute_result"
    }
   ],
   "source": [
    "df[[x for x in df.columns if \"discrep\" in x]].dropna(how='all',axis=1)"
   ]
  },
  {
   "cell_type": "code",
   "execution_count": 349,
   "metadata": {},
   "outputs": [
    {
     "data": {
      "text/plain": [
       "Female|Male    7\n",
       "Male|Female    1\n",
       "Name: discrep_gender, dtype: int64"
      ]
     },
     "execution_count": 349,
     "metadata": {},
     "output_type": "execute_result"
    }
   ],
   "source": [
    "df[\"discrep_gender\"].value_counts()"
   ]
  },
  {
   "cell_type": "code",
   "execution_count": 352,
   "metadata": {},
   "outputs": [
    {
     "data": {
      "text/plain": [
       "Int64Index([30929, 35852, 38388, 39244, 76846, 77218, 77875, 89977], dtype='int64')"
      ]
     },
     "execution_count": 352,
     "metadata": {},
     "output_type": "execute_result"
    }
   ],
   "source": [
    "BES_Panel.loc[df[df[\"discrep_gender\"].notnull()].index,]"
   ]
  },
  {
   "cell_type": "code",
   "execution_count": 353,
   "metadata": {},
   "outputs": [
    {
     "data": {
      "text/plain": [
       "Series([], dtype: float64)"
      ]
     },
     "execution_count": 353,
     "metadata": {},
     "output_type": "execute_result"
    }
   ],
   "source": [
    "search(BES_Panel,\"sexuality\")"
   ]
  },
  {
   "cell_type": "code",
   "execution_count": null,
   "metadata": {},
   "outputs": [],
   "source": []
  },
  {
   "cell_type": "code",
   "execution_count": 360,
   "metadata": {},
   "outputs": [
    {
     "data": {
      "text/plain": [
       "No, did not vote|Yes, voted    33\n",
       "Yes, voted|No, did not vote    21\n",
       "Yes, voted|Don't know          20\n",
       "No, did not vote|Don't know    19\n",
       "Don't know|Yes, voted          13\n",
       "Don't know|No, did not vote    11\n",
       "Name: discrep_profile_turnout_2015, dtype: int64"
      ]
     },
     "execution_count": 360,
     "metadata": {},
     "output_type": "execute_result"
    }
   ],
   "source": [
    "df[df[[x for x in df.columns if \"discrep\" in x]].dropna(how='all',axis=1).columns[3]].value_counts()"
   ]
  },
  {
   "cell_type": "code",
   "execution_count": 368,
   "metadata": {},
   "outputs": [
    {
     "data": {
      "text/plain": [
       "Female|Male    7\n",
       "Male|Female    1\n",
       "Name: discrep_gender, dtype: int64"
      ]
     },
     "execution_count": 368,
     "metadata": {},
     "output_type": "execute_result"
    }
   ],
   "source": [
    "df[df[[x for x in df.columns if \"discrep\" in x]].dropna(how='all',axis=1).columns[8]].value_counts().head(20)"
   ]
  },
  {
   "cell_type": "code",
   "execution_count": null,
   "metadata": {},
   "outputs": [],
   "source": []
  },
  {
   "cell_type": "code",
   "execution_count": 391,
   "metadata": {},
   "outputs": [
    {
     "name": "stdout",
     "output_type": "stream",
     "text": [
      "Wall time: 30.4 s\n"
     ]
    }
   ],
   "source": [
    "%%time\n",
    "(BES_code_folder, BES_small_data_files, BES_data_folder,\n",
    " BES_output_folder, BES_file_manifest, BES_R_data_files) = setup_directories()\n",
    "\n",
    "global BES_Panel, BES_numeric, BES_reduced, BES_reduced_with_na, BES_non_numeric\n",
    "\n",
    "df = pd.DataFrame()\n",
    "var_list = [\"profile_eurefturnout\", \"profile_ethnicity\", \"profile_religion\", \"countryOfBirth\", \"profile_past_vote_2015\"]\n",
    "\n",
    "for dataset_name in present_in_datasets:\n",
    "    \n",
    "    data_subfolder = BES_data_folder + dataset_name + os.sep\n",
    "\n",
    "    (manifest, dataset_filename, dataset_description, dataset_citation,\n",
    "     dataset_start, dataset_stop, dataset_wave) = get_manifest(dataset_name, BES_file_manifest)    \n",
    "    BES_Panel = pd.read_pickle(data_subfolder + dataset_filename.replace('.dta','.zip'),compression='zip')\n",
    "    pres_var_list = [x for x in var_list if x in BES_Panel.columns]\n",
    "    if \"id\" in BES_Panel.columns:\n",
    "        temp = BES_Panel[pres_var_list+[\"id\"]].set_index(\"id\").sort_index()\n",
    "    else:\n",
    "        temp = BES_Panel[pres_var_list]\n",
    "    temp.columns = [dataset_name+\"_\"+x for x in temp.columns]\n",
    "    df = pd.concat([df,temp],axis=1)\n",
    "    \n",
    "df.index = df.index.astype('int')\n",
    "# note - no extra rows over W19    "
   ]
  },
  {
   "cell_type": "code",
   "execution_count": 392,
   "metadata": {},
   "outputs": [
    {
     "name": "stdout",
     "output_type": "stream",
     "text": [
      "Wall time: 4min 56s\n"
     ]
    }
   ],
   "source": [
    "%%time\n",
    "\n",
    "number_of_unique_responses_per_row = {}\n",
    "\n",
    "for focal_var in var_list:\n",
    "    var_cols = [x for x in df.columns if focal_var in x]\n",
    "\n",
    "    number_of_unique_responses_per_row[focal_var] = df[var_cols].apply(lambda x: len((x.dropna()).unique()),axis=1)\n",
    "    number_of_unique_responses_per_row[focal_var].value_counts()"
   ]
  },
  {
   "cell_type": "code",
   "execution_count": 393,
   "metadata": {},
   "outputs": [
    {
     "name": "stdout",
     "output_type": "stream",
     "text": [
      "Wall time: 6.39 s\n"
     ]
    }
   ],
   "source": [
    "%%time\n",
    "\n",
    "for focal_var in var_list:\n",
    "    var_cols = [x for x in df.columns if focal_var in x]\n",
    "    df[\"nuniq_\"+focal_var] = number_of_unique_responses_per_row[focal_var]\n",
    "    df[\"discrep_\"+focal_var] = df[var_cols].loc[  df[\"nuniq_\"+focal_var]>=2 ].dropna(how='all',axis=1).apply(lambda x: \"|\".join([str(x) for x in x.dropna().unique()]),axis=1)\n",
    "    "
   ]
  },
  {
   "cell_type": "code",
   "execution_count": 397,
   "metadata": {},
   "outputs": [
    {
     "data": {
      "text/plain": [
       "Index(['discrep_profile_ethnicity', 'discrep_profile_religion',\n",
       "       'discrep_countryOfBirth'],\n",
       "      dtype='object')"
      ]
     },
     "execution_count": 397,
     "metadata": {},
     "output_type": "execute_result"
    }
   ],
   "source": [
    "df[[x for x in df.columns if \"discrep\" in x]].dropna(how='all',axis=1).columns"
   ]
  },
  {
   "cell_type": "code",
   "execution_count": 406,
   "metadata": {},
   "outputs": [
    {
     "data": {
      "text/plain": [
       "Other: Rest of world|Other: Commonwealth member country    27\n",
       "Other: Commonwealth member country|Other: Rest of world    27\n",
       "England|Other: Rest of world                               25\n",
       "Prefer not to answer|England                               15\n",
       "England|Wales                                              10\n",
       "Name: discrep_countryOfBirth, dtype: int64"
      ]
     },
     "execution_count": 406,
     "metadata": {},
     "output_type": "execute_result"
    }
   ],
   "source": [
    "df[['discrep_profile_ethnicity', 'discrep_profile_religion',\n",
    "       'discrep_countryOfBirth'][2]].value_counts().head(5)"
   ]
  },
  {
   "cell_type": "code",
   "execution_count": 404,
   "metadata": {},
   "outputs": [
    {
     "data": {
      "text/plain": [
       "Yes - Church of England/Anglican/Episcopal|No, I do not regard myself as belonging to any particular religion.    1615\n",
       "No, I do not regard myself as belonging to any particular religion.|Yes - Church of England/Anglican/Episcopal    1434\n",
       "No, I do not regard myself as belonging to any particular religion.|Prefer not to say                              705\n",
       "Yes - Other|No, I do not regard myself as belonging to any particular religion.                                    300\n",
       "Yes - Roman Catholic|No, I do not regard myself as belonging to any particular religion.                           294\n",
       "Name: discrep_profile_religion, dtype: int64"
      ]
     },
     "execution_count": 404,
     "metadata": {},
     "output_type": "execute_result"
    }
   ],
   "source": [
    "df[['discrep_profile_ethnicity', 'discrep_profile_religion',\n",
    "       'discrep_countryOfBirth'][1]].value_counts().head(5)"
   ]
  },
  {
   "cell_type": "code",
   "execution_count": 407,
   "metadata": {},
   "outputs": [
    {
     "data": {
      "text/plain": [
       "Any other white background|White British        6\n",
       "White British|Any other white background        4\n",
       "Any other mixed background|White British        3\n",
       "Prefer not to say|White British                 2\n",
       "Any other Asian background|Prefer not to say    1\n",
       "Name: discrep_profile_ethnicity, dtype: int64"
      ]
     },
     "execution_count": 407,
     "metadata": {},
     "output_type": "execute_result"
    }
   ],
   "source": [
    "df[['discrep_profile_ethnicity', 'discrep_profile_religion',\n",
    "       'discrep_countryOfBirth'][0]].value_counts().head(5)"
   ]
  },
  {
   "cell_type": "code",
   "execution_count": null,
   "metadata": {},
   "outputs": [],
   "source": []
  }
 ],
 "metadata": {
  "kernelspec": {
   "display_name": "Python [conda env:BES_analysis] *",
   "language": "python",
   "name": "conda-env-BES_analysis-py"
  },
  "language_info": {
   "codemirror_mode": {
    "name": "ipython",
    "version": 3
   },
   "file_extension": ".py",
   "mimetype": "text/x-python",
   "name": "python",
   "nbconvert_exporter": "python",
   "pygments_lexer": "ipython3",
   "version": "3.7.6"
  }
 },
 "nbformat": 4,
 "nbformat_minor": 4
}
