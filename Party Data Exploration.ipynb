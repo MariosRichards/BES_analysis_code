{
 "cells": [
  {
   "cell_type": "code",
   "execution_count": 2,
   "metadata": {},
   "outputs": [
    {
     "data": {
      "text/html": [
       "<script>jQuery(function() {if (jQuery(\"body.notebook_app\").length == 0) { jQuery(\".input_area\").toggle(); jQuery(\".prompt\").toggle();}});</script>"
      ]
     },
     "metadata": {},
     "output_type": "display_data"
    },
    {
     "data": {
      "text/html": [
       "<button onclick=\"jQuery('.input_area').toggle(); jQuery('.prompt').toggle();\">Toggle code</button>"
      ]
     },
     "metadata": {},
     "output_type": "display_data"
    },
    {
     "name": "stdout",
     "output_type": "stream",
     "text": [
      "Wall time: 8 ms\n"
     ]
    }
   ],
   "source": [
    "%%time\n",
    "%matplotlib inline\n",
    "%run Prosser_header.py\n",
    "\n",
    "dataset_folder = \"C:\\\\Users\\\\Marios\\\\Documents\\\\GitHub\\\\Thomas Prosser project\\\\datasets\\\\\"\n",
    "output_folder  = \"C:\\\\Users\\\\Marios\\\\Documents\\\\GitHub\\\\Thomas Prosser project\\\\output\\\\\""
   ]
  },
  {
   "cell_type": "code",
   "execution_count": 3,
   "metadata": {},
   "outputs": [
    {
     "data": {
      "text/html": [
       "\n",
       "    <div class=\"bk-root\">\n",
       "        <a href=\"https://bokeh.org\" target=\"_blank\" class=\"bk-logo bk-logo-small bk-logo-notebook\"></a>\n",
       "        <span id=\"1001\">Loading BokehJS ...</span>\n",
       "    </div>"
      ]
     },
     "metadata": {},
     "output_type": "display_data"
    },
    {
     "data": {
      "application/javascript": [
       "\n",
       "(function(root) {\n",
       "  function now() {\n",
       "    return new Date();\n",
       "  }\n",
       "\n",
       "  var force = true;\n",
       "\n",
       "  if (typeof root._bokeh_onload_callbacks === \"undefined\" || force === true) {\n",
       "    root._bokeh_onload_callbacks = [];\n",
       "    root._bokeh_is_loading = undefined;\n",
       "  }\n",
       "\n",
       "  var JS_MIME_TYPE = 'application/javascript';\n",
       "  var HTML_MIME_TYPE = 'text/html';\n",
       "  var EXEC_MIME_TYPE = 'application/vnd.bokehjs_exec.v0+json';\n",
       "  var CLASS_NAME = 'output_bokeh rendered_html';\n",
       "\n",
       "  /**\n",
       "   * Render data to the DOM node\n",
       "   */\n",
       "  function render(props, node) {\n",
       "    var script = document.createElement(\"script\");\n",
       "    node.appendChild(script);\n",
       "  }\n",
       "\n",
       "  /**\n",
       "   * Handle when an output is cleared or removed\n",
       "   */\n",
       "  function handleClearOutput(event, handle) {\n",
       "    var cell = handle.cell;\n",
       "\n",
       "    var id = cell.output_area._bokeh_element_id;\n",
       "    var server_id = cell.output_area._bokeh_server_id;\n",
       "    // Clean up Bokeh references\n",
       "    if (id != null && id in Bokeh.index) {\n",
       "      Bokeh.index[id].model.document.clear();\n",
       "      delete Bokeh.index[id];\n",
       "    }\n",
       "\n",
       "    if (server_id !== undefined) {\n",
       "      // Clean up Bokeh references\n",
       "      var cmd = \"from bokeh.io.state import curstate; print(curstate().uuid_to_server['\" + server_id + \"'].get_sessions()[0].document.roots[0]._id)\";\n",
       "      cell.notebook.kernel.execute(cmd, {\n",
       "        iopub: {\n",
       "          output: function(msg) {\n",
       "            var id = msg.content.text.trim();\n",
       "            if (id in Bokeh.index) {\n",
       "              Bokeh.index[id].model.document.clear();\n",
       "              delete Bokeh.index[id];\n",
       "            }\n",
       "          }\n",
       "        }\n",
       "      });\n",
       "      // Destroy server and session\n",
       "      var cmd = \"import bokeh.io.notebook as ion; ion.destroy_server('\" + server_id + \"')\";\n",
       "      cell.notebook.kernel.execute(cmd);\n",
       "    }\n",
       "  }\n",
       "\n",
       "  /**\n",
       "   * Handle when a new output is added\n",
       "   */\n",
       "  function handleAddOutput(event, handle) {\n",
       "    var output_area = handle.output_area;\n",
       "    var output = handle.output;\n",
       "\n",
       "    // limit handleAddOutput to display_data with EXEC_MIME_TYPE content only\n",
       "    if ((output.output_type != \"display_data\") || (!output.data.hasOwnProperty(EXEC_MIME_TYPE))) {\n",
       "      return\n",
       "    }\n",
       "\n",
       "    var toinsert = output_area.element.find(\".\" + CLASS_NAME.split(' ')[0]);\n",
       "\n",
       "    if (output.metadata[EXEC_MIME_TYPE][\"id\"] !== undefined) {\n",
       "      toinsert[toinsert.length - 1].firstChild.textContent = output.data[JS_MIME_TYPE];\n",
       "      // store reference to embed id on output_area\n",
       "      output_area._bokeh_element_id = output.metadata[EXEC_MIME_TYPE][\"id\"];\n",
       "    }\n",
       "    if (output.metadata[EXEC_MIME_TYPE][\"server_id\"] !== undefined) {\n",
       "      var bk_div = document.createElement(\"div\");\n",
       "      bk_div.innerHTML = output.data[HTML_MIME_TYPE];\n",
       "      var script_attrs = bk_div.children[0].attributes;\n",
       "      for (var i = 0; i < script_attrs.length; i++) {\n",
       "        toinsert[toinsert.length - 1].firstChild.setAttribute(script_attrs[i].name, script_attrs[i].value);\n",
       "      }\n",
       "      // store reference to server id on output_area\n",
       "      output_area._bokeh_server_id = output.metadata[EXEC_MIME_TYPE][\"server_id\"];\n",
       "    }\n",
       "  }\n",
       "\n",
       "  function register_renderer(events, OutputArea) {\n",
       "\n",
       "    function append_mime(data, metadata, element) {\n",
       "      // create a DOM node to render to\n",
       "      var toinsert = this.create_output_subarea(\n",
       "        metadata,\n",
       "        CLASS_NAME,\n",
       "        EXEC_MIME_TYPE\n",
       "      );\n",
       "      this.keyboard_manager.register_events(toinsert);\n",
       "      // Render to node\n",
       "      var props = {data: data, metadata: metadata[EXEC_MIME_TYPE]};\n",
       "      render(props, toinsert[toinsert.length - 1]);\n",
       "      element.append(toinsert);\n",
       "      return toinsert\n",
       "    }\n",
       "\n",
       "    /* Handle when an output is cleared or removed */\n",
       "    events.on('clear_output.CodeCell', handleClearOutput);\n",
       "    events.on('delete.Cell', handleClearOutput);\n",
       "\n",
       "    /* Handle when a new output is added */\n",
       "    events.on('output_added.OutputArea', handleAddOutput);\n",
       "\n",
       "    /**\n",
       "     * Register the mime type and append_mime function with output_area\n",
       "     */\n",
       "    OutputArea.prototype.register_mime_type(EXEC_MIME_TYPE, append_mime, {\n",
       "      /* Is output safe? */\n",
       "      safe: true,\n",
       "      /* Index of renderer in `output_area.display_order` */\n",
       "      index: 0\n",
       "    });\n",
       "  }\n",
       "\n",
       "  // register the mime type if in Jupyter Notebook environment and previously unregistered\n",
       "  if (root.Jupyter !== undefined) {\n",
       "    var events = require('base/js/events');\n",
       "    var OutputArea = require('notebook/js/outputarea').OutputArea;\n",
       "\n",
       "    if (OutputArea.prototype.mime_types().indexOf(EXEC_MIME_TYPE) == -1) {\n",
       "      register_renderer(events, OutputArea);\n",
       "    }\n",
       "  }\n",
       "\n",
       "  \n",
       "  if (typeof (root._bokeh_timeout) === \"undefined\" || force === true) {\n",
       "    root._bokeh_timeout = Date.now() + 5000;\n",
       "    root._bokeh_failed_load = false;\n",
       "  }\n",
       "\n",
       "  var NB_LOAD_WARNING = {'data': {'text/html':\n",
       "     \"<div style='background-color: #fdd'>\\n\"+\n",
       "     \"<p>\\n\"+\n",
       "     \"BokehJS does not appear to have successfully loaded. If loading BokehJS from CDN, this \\n\"+\n",
       "     \"may be due to a slow or bad network connection. Possible fixes:\\n\"+\n",
       "     \"</p>\\n\"+\n",
       "     \"<ul>\\n\"+\n",
       "     \"<li>re-rerun `output_notebook()` to attempt to load from CDN again, or</li>\\n\"+\n",
       "     \"<li>use INLINE resources instead, as so:</li>\\n\"+\n",
       "     \"</ul>\\n\"+\n",
       "     \"<code>\\n\"+\n",
       "     \"from bokeh.resources import INLINE\\n\"+\n",
       "     \"output_notebook(resources=INLINE)\\n\"+\n",
       "     \"</code>\\n\"+\n",
       "     \"</div>\"}};\n",
       "\n",
       "  function display_loaded() {\n",
       "    var el = document.getElementById(\"1001\");\n",
       "    if (el != null) {\n",
       "      el.textContent = \"BokehJS is loading...\";\n",
       "    }\n",
       "    if (root.Bokeh !== undefined) {\n",
       "      if (el != null) {\n",
       "        el.textContent = \"BokehJS \" + root.Bokeh.version + \" successfully loaded.\";\n",
       "      }\n",
       "    } else if (Date.now() < root._bokeh_timeout) {\n",
       "      setTimeout(display_loaded, 100)\n",
       "    }\n",
       "  }\n",
       "\n",
       "\n",
       "  function run_callbacks() {\n",
       "    try {\n",
       "      root._bokeh_onload_callbacks.forEach(function(callback) {\n",
       "        if (callback != null)\n",
       "          callback();\n",
       "      });\n",
       "    } finally {\n",
       "      delete root._bokeh_onload_callbacks\n",
       "    }\n",
       "    console.debug(\"Bokeh: all callbacks have finished\");\n",
       "  }\n",
       "\n",
       "  function load_libs(css_urls, js_urls, callback) {\n",
       "    if (css_urls == null) css_urls = [];\n",
       "    if (js_urls == null) js_urls = [];\n",
       "\n",
       "    root._bokeh_onload_callbacks.push(callback);\n",
       "    if (root._bokeh_is_loading > 0) {\n",
       "      console.debug(\"Bokeh: BokehJS is being loaded, scheduling callback at\", now());\n",
       "      return null;\n",
       "    }\n",
       "    if (js_urls == null || js_urls.length === 0) {\n",
       "      run_callbacks();\n",
       "      return null;\n",
       "    }\n",
       "    console.debug(\"Bokeh: BokehJS not loaded, scheduling load and callback at\", now());\n",
       "    root._bokeh_is_loading = css_urls.length + js_urls.length;\n",
       "\n",
       "    function on_load() {\n",
       "      root._bokeh_is_loading--;\n",
       "      if (root._bokeh_is_loading === 0) {\n",
       "        console.debug(\"Bokeh: all BokehJS libraries/stylesheets loaded\");\n",
       "        run_callbacks()\n",
       "      }\n",
       "    }\n",
       "\n",
       "    function on_error() {\n",
       "      console.error(\"failed to load \" + url);\n",
       "    }\n",
       "\n",
       "    for (var i = 0; i < css_urls.length; i++) {\n",
       "      var url = css_urls[i];\n",
       "      const element = document.createElement(\"link\");\n",
       "      element.onload = on_load;\n",
       "      element.onerror = on_error;\n",
       "      element.rel = \"stylesheet\";\n",
       "      element.type = \"text/css\";\n",
       "      element.href = url;\n",
       "      console.debug(\"Bokeh: injecting link tag for BokehJS stylesheet: \", url);\n",
       "      document.body.appendChild(element);\n",
       "    }\n",
       "\n",
       "    for (var i = 0; i < js_urls.length; i++) {\n",
       "      var url = js_urls[i];\n",
       "      var element = document.createElement('script');\n",
       "      element.onload = on_load;\n",
       "      element.onerror = on_error;\n",
       "      element.async = false;\n",
       "      element.src = url;\n",
       "      console.debug(\"Bokeh: injecting script tag for BokehJS library: \", url);\n",
       "      document.head.appendChild(element);\n",
       "    }\n",
       "  };var element = document.getElementById(\"1001\");\n",
       "  if (element == null) {\n",
       "    console.error(\"Bokeh: ERROR: autoload.js configured with elementid '1001' but no matching script tag was found. \")\n",
       "    return false;\n",
       "  }\n",
       "\n",
       "  function inject_raw_css(css) {\n",
       "    const element = document.createElement(\"style\");\n",
       "    element.appendChild(document.createTextNode(css));\n",
       "    document.body.appendChild(element);\n",
       "  }\n",
       "\n",
       "  \n",
       "  var js_urls = [\"https://cdn.pydata.org/bokeh/release/bokeh-1.4.0.min.js\", \"https://cdn.pydata.org/bokeh/release/bokeh-widgets-1.4.0.min.js\", \"https://cdn.pydata.org/bokeh/release/bokeh-tables-1.4.0.min.js\", \"https://cdn.pydata.org/bokeh/release/bokeh-gl-1.4.0.min.js\"];\n",
       "  var css_urls = [];\n",
       "  \n",
       "\n",
       "  var inline_js = [\n",
       "    function(Bokeh) {\n",
       "      Bokeh.set_log_level(\"info\");\n",
       "    },\n",
       "    function(Bokeh) {\n",
       "    \n",
       "    \n",
       "    }\n",
       "  ];\n",
       "\n",
       "  function run_inline_js() {\n",
       "    \n",
       "    if (root.Bokeh !== undefined || force === true) {\n",
       "      \n",
       "    for (var i = 0; i < inline_js.length; i++) {\n",
       "      inline_js[i].call(root, root.Bokeh);\n",
       "    }\n",
       "    if (force === true) {\n",
       "        display_loaded();\n",
       "      }} else if (Date.now() < root._bokeh_timeout) {\n",
       "      setTimeout(run_inline_js, 100);\n",
       "    } else if (!root._bokeh_failed_load) {\n",
       "      console.log(\"Bokeh: BokehJS failed to load within specified timeout.\");\n",
       "      root._bokeh_failed_load = true;\n",
       "    } else if (force !== true) {\n",
       "      var cell = $(document.getElementById(\"1001\")).parents('.cell').data().cell;\n",
       "      cell.output_area.append_execute_result(NB_LOAD_WARNING)\n",
       "    }\n",
       "\n",
       "  }\n",
       "\n",
       "  if (root._bokeh_is_loading === 0) {\n",
       "    console.debug(\"Bokeh: BokehJS loaded, going straight to plotting\");\n",
       "    run_inline_js();\n",
       "  } else {\n",
       "    load_libs(css_urls, js_urls, function() {\n",
       "      console.debug(\"Bokeh: BokehJS plotting callback run at\", now());\n",
       "      run_inline_js();\n",
       "    });\n",
       "  }\n",
       "}(window));"
      ],
      "application/vnd.bokehjs_load.v0+json": "\n(function(root) {\n  function now() {\n    return new Date();\n  }\n\n  var force = true;\n\n  if (typeof root._bokeh_onload_callbacks === \"undefined\" || force === true) {\n    root._bokeh_onload_callbacks = [];\n    root._bokeh_is_loading = undefined;\n  }\n\n  \n\n  \n  if (typeof (root._bokeh_timeout) === \"undefined\" || force === true) {\n    root._bokeh_timeout = Date.now() + 5000;\n    root._bokeh_failed_load = false;\n  }\n\n  var NB_LOAD_WARNING = {'data': {'text/html':\n     \"<div style='background-color: #fdd'>\\n\"+\n     \"<p>\\n\"+\n     \"BokehJS does not appear to have successfully loaded. If loading BokehJS from CDN, this \\n\"+\n     \"may be due to a slow or bad network connection. Possible fixes:\\n\"+\n     \"</p>\\n\"+\n     \"<ul>\\n\"+\n     \"<li>re-rerun `output_notebook()` to attempt to load from CDN again, or</li>\\n\"+\n     \"<li>use INLINE resources instead, as so:</li>\\n\"+\n     \"</ul>\\n\"+\n     \"<code>\\n\"+\n     \"from bokeh.resources import INLINE\\n\"+\n     \"output_notebook(resources=INLINE)\\n\"+\n     \"</code>\\n\"+\n     \"</div>\"}};\n\n  function display_loaded() {\n    var el = document.getElementById(\"1001\");\n    if (el != null) {\n      el.textContent = \"BokehJS is loading...\";\n    }\n    if (root.Bokeh !== undefined) {\n      if (el != null) {\n        el.textContent = \"BokehJS \" + root.Bokeh.version + \" successfully loaded.\";\n      }\n    } else if (Date.now() < root._bokeh_timeout) {\n      setTimeout(display_loaded, 100)\n    }\n  }\n\n\n  function run_callbacks() {\n    try {\n      root._bokeh_onload_callbacks.forEach(function(callback) {\n        if (callback != null)\n          callback();\n      });\n    } finally {\n      delete root._bokeh_onload_callbacks\n    }\n    console.debug(\"Bokeh: all callbacks have finished\");\n  }\n\n  function load_libs(css_urls, js_urls, callback) {\n    if (css_urls == null) css_urls = [];\n    if (js_urls == null) js_urls = [];\n\n    root._bokeh_onload_callbacks.push(callback);\n    if (root._bokeh_is_loading > 0) {\n      console.debug(\"Bokeh: BokehJS is being loaded, scheduling callback at\", now());\n      return null;\n    }\n    if (js_urls == null || js_urls.length === 0) {\n      run_callbacks();\n      return null;\n    }\n    console.debug(\"Bokeh: BokehJS not loaded, scheduling load and callback at\", now());\n    root._bokeh_is_loading = css_urls.length + js_urls.length;\n\n    function on_load() {\n      root._bokeh_is_loading--;\n      if (root._bokeh_is_loading === 0) {\n        console.debug(\"Bokeh: all BokehJS libraries/stylesheets loaded\");\n        run_callbacks()\n      }\n    }\n\n    function on_error() {\n      console.error(\"failed to load \" + url);\n    }\n\n    for (var i = 0; i < css_urls.length; i++) {\n      var url = css_urls[i];\n      const element = document.createElement(\"link\");\n      element.onload = on_load;\n      element.onerror = on_error;\n      element.rel = \"stylesheet\";\n      element.type = \"text/css\";\n      element.href = url;\n      console.debug(\"Bokeh: injecting link tag for BokehJS stylesheet: \", url);\n      document.body.appendChild(element);\n    }\n\n    for (var i = 0; i < js_urls.length; i++) {\n      var url = js_urls[i];\n      var element = document.createElement('script');\n      element.onload = on_load;\n      element.onerror = on_error;\n      element.async = false;\n      element.src = url;\n      console.debug(\"Bokeh: injecting script tag for BokehJS library: \", url);\n      document.head.appendChild(element);\n    }\n  };var element = document.getElementById(\"1001\");\n  if (element == null) {\n    console.error(\"Bokeh: ERROR: autoload.js configured with elementid '1001' but no matching script tag was found. \")\n    return false;\n  }\n\n  function inject_raw_css(css) {\n    const element = document.createElement(\"style\");\n    element.appendChild(document.createTextNode(css));\n    document.body.appendChild(element);\n  }\n\n  \n  var js_urls = [\"https://cdn.pydata.org/bokeh/release/bokeh-1.4.0.min.js\", \"https://cdn.pydata.org/bokeh/release/bokeh-widgets-1.4.0.min.js\", \"https://cdn.pydata.org/bokeh/release/bokeh-tables-1.4.0.min.js\", \"https://cdn.pydata.org/bokeh/release/bokeh-gl-1.4.0.min.js\"];\n  var css_urls = [];\n  \n\n  var inline_js = [\n    function(Bokeh) {\n      Bokeh.set_log_level(\"info\");\n    },\n    function(Bokeh) {\n    \n    \n    }\n  ];\n\n  function run_inline_js() {\n    \n    if (root.Bokeh !== undefined || force === true) {\n      \n    for (var i = 0; i < inline_js.length; i++) {\n      inline_js[i].call(root, root.Bokeh);\n    }\n    if (force === true) {\n        display_loaded();\n      }} else if (Date.now() < root._bokeh_timeout) {\n      setTimeout(run_inline_js, 100);\n    } else if (!root._bokeh_failed_load) {\n      console.log(\"Bokeh: BokehJS failed to load within specified timeout.\");\n      root._bokeh_failed_load = true;\n    } else if (force !== true) {\n      var cell = $(document.getElementById(\"1001\")).parents('.cell').data().cell;\n      cell.output_area.append_execute_result(NB_LOAD_WARNING)\n    }\n\n  }\n\n  if (root._bokeh_is_loading === 0) {\n    console.debug(\"Bokeh: BokehJS loaded, going straight to plotting\");\n    run_inline_js();\n  } else {\n    load_libs(css_urls, js_urls, function() {\n      console.debug(\"Bokeh: BokehJS plotting callback run at\", now());\n      run_inline_js();\n    });\n  }\n}(window));"
     },
     "metadata": {},
     "output_type": "display_data"
    }
   ],
   "source": [
    "import pandas as pd\n",
    "import numpy as np\n",
    "import seaborn as sns\n",
    "import matplotlib.pyplot as plt\n",
    "import re, os\n",
    "import pickle\n",
    "\n",
    "from bokeh.models import ColumnDataSource\n",
    "from bokeh.plotting import figure, show,  output_notebook\n",
    "from bokeh.layouts import column, row\n",
    "from bokeh.embed import components\n",
    "from bokeh.transform import factor_cmap\n",
    "from bokeh.models import HoverTool\n",
    "from bokeh.models import Span, Label\n",
    "from bokeh.models import BoxAnnotation\n",
    "\n",
    "\n",
    "output_notebook()"
   ]
  },
  {
   "cell_type": "code",
   "execution_count": 4,
   "metadata": {},
   "outputs": [],
   "source": [
    "def weighted_mean(x, **kws):\n",
    "    val, weight = map(np.asarray, zip(*x))\n",
    "    val, weight = val[~np.isnan(val)],weight[~np.isnan(val)]\n",
    "    return (val * weight).sum() / weight.sum()\n",
    "\n",
    "flatten = lambda l: [item for sublist in l for item in sublist]"
   ]
  },
  {
   "cell_type": "code",
   "execution_count": 24,
   "metadata": {},
   "outputs": [],
   "source": [
    "x_axis = \"Support Base Affluence\"\n",
    "y_axis = \"Support For Redistribution\""
   ]
  },
  {
   "cell_type": "code",
   "execution_count": 26,
   "metadata": {},
   "outputs": [],
   "source": [
    "partyfacts_core_parties_newest = pd.read_csv(dataset_folder+\"PartyFacts\"+os.sep+\"Newest version\"+os.sep+\"partyfacts-core-parties.csv\")\n",
    "partyfacts_external_parties_newest = pd.read_csv(dataset_folder+\"PartyFacts\"+os.sep+\"Newest version\"+os.sep+ \"partyfacts-external-parties.csv\")\n",
    "partyfacts_countries = pd.read_csv(dataset_folder+\"PartyFacts\"+os.sep+ \"partyfacts-countries.csv\")\n",
    "partyfacts_datasets = pd.read_csv(dataset_folder+\"PartyFacts\"+os.sep+ \"partyfacts-datasets.csv\")\n",
    "\n",
    "# partyfacts_core_parties_newest[partyfacts_core_parties_newest[\"name_short\"].isnull()]\n",
    "## \n",
    "\n",
    "# 5307: Kokumin Kyōkai: no abbreviation - but \"KK\" seems to be free!\n",
    "# 7619: National Alliance : \"NA\"\n",
    "# 8081: National Union: \"NU\"??? (could be NA, but more distinct from National Alliance)\n",
    "# 8454: Nauru First: No abbreviation ... because only party in Nauru I guess should be \"NA\" because name in Nauru?\n",
    "\n",
    "partyfacts_core_parties_newest.loc[partyfacts_core_parties_newest[\"partyfacts_id\"]==5307,\"name_short\"] = \"KK\"\n",
    "partyfacts_core_parties_newest.loc[partyfacts_core_parties_newest[\"partyfacts_id\"]==7619,\"name_short\"] = \"NA\"\n",
    "partyfacts_core_parties_newest.loc[partyfacts_core_parties_newest[\"partyfacts_id\"]==8081,\"name_short\"] = \"NU\"\n",
    "partyfacts_core_parties_newest.loc[partyfacts_core_parties_newest[\"partyfacts_id\"]==8454,\"name_short\"] = \"NA\"\n",
    "\n",
    "\n",
    "\n",
    "abbreviation = partyfacts_core_parties_newest.set_index(\"partyfacts_id\")[\"name_short\"]"
   ]
  },
  {
   "cell_type": "code",
   "execution_count": 8,
   "metadata": {},
   "outputs": [],
   "source": [
    "df_merged = pd.read_pickle(dataset_folder+\"Party Level\"+os.sep+ \"df_merged.zip\",compression='zip')\n",
    "df_merged = df_merged.reset_index().groupby(\"partyfacts_id\").first()\n",
    "manifesto_redist = df_merged[[\"(manifesto)per\"+x for x in [\"404\",\"405\",\"409\",\"413\",\"504\",\"701\"]]].sum(axis=1)\n",
    "\n",
    "## some duplicates partyfacts_id here, but the manifesto data is identical in each case, so just just drop duplicates\n",
    "manifesto_redist = manifesto_redist.reset_index().drop_duplicates().set_index(\"partyfacts_id\")[0]\n",
    "party_family = df_merged[search(df_merged,\"\\(manifesto\\)family\").index].idxmax(axis=1).apply(lambda x: x.replace(\"(manifesto)family__\",\"\") if pd.notnull(x) else np.nan)\n",
    "party_family = party_family.reset_index().drop_duplicates().set_index(\"partyfacts_id\")[0]"
   ]
  },
  {
   "cell_type": "code",
   "execution_count": null,
   "metadata": {},
   "outputs": [],
   "source": []
  },
  {
   "cell_type": "code",
   "execution_count": 9,
   "metadata": {},
   "outputs": [],
   "source": [
    "resp_df = pd.read_pickle(dataset_folder + \"CSES\"+os.sep+\"Integration\"+os.sep+\"resp_df.pkl\")"
   ]
  },
  {
   "cell_type": "code",
   "execution_count": 10,
   "metadata": {},
   "outputs": [],
   "source": [
    "mask = resp_df[\"IMD2006_ORD\"].notnull()\\\n",
    "        &resp_df[\"highest_freq_party_ref\"].notnull()\\\n",
    "        &resp_df[\"highest_freq_party_ref\"].apply(lambda x: x in list(party_family.index))\n",
    "\n",
    "respondent_favoured_party = resp_df[\"highest_freq_party_ref\"][mask]\n",
    "respondent_income_quintile = resp_df[\"IMD2006_ORD\"][mask]\n"
   ]
  },
  {
   "cell_type": "code",
   "execution_count": 11,
   "metadata": {},
   "outputs": [],
   "source": [
    "respondent_inc_quin_by_party_family = pd.concat([respondent_favoured_party,respondent_income_quintile],axis=1)\n",
    "respondent_inc_quin_by_party_family[\"highest_freq_party_ref\"] = respondent_inc_quin_by_party_family[\"highest_freq_party_ref\"].apply(lambda x:party_family.loc[x])"
   ]
  },
  {
   "cell_type": "code",
   "execution_count": 12,
   "metadata": {},
   "outputs": [],
   "source": [
    "resp_inc_label=\"income quintile (1-5)\"\n",
    "resp_party_label = \"party family\"\n",
    "respondent_inc_quin_by_party_family = respondent_inc_quin_by_party_family\\\n",
    "                                .rename(columns ={\"highest_freq_party_ref\":resp_party_label,\"IMD2006_ORD\":resp_inc_label})\n",
    "respondent_inc_quin_by_party_family[\"weights\"] = resp_df[\"IMD1010_1_MET\"][mask]\n",
    "respondent_inc_quin_by_party_family[resp_inc_label] = respondent_inc_quin_by_party_family[resp_inc_label].astype(int)+1"
   ]
  },
  {
   "cell_type": "code",
   "execution_count": null,
   "metadata": {},
   "outputs": [],
   "source": [
    "## raw count - no weighting!\n",
    "# what's the laziest way to add semi-reasonable weights here?\n",
    "\n",
    "# sns.countplot(data=respondent_inc_quin_by_party_family,hue=resp_inc_label,x=resp_party_label)\n",
    "# plt.xticks(rotation=45);"
   ]
  },
  {
   "cell_type": "code",
   "execution_count": 13,
   "metadata": {},
   "outputs": [],
   "source": [
    "ct = pd.crosstab(respondent_inc_quin_by_party_family[resp_inc_label],\n",
    "            respondent_inc_quin_by_party_family[resp_party_label],\n",
    "            aggfunc=sum,values=respondent_inc_quin_by_party_family[\"weights\"],\n",
    "            normalize='columns'\n",
    "           )*100"
   ]
  },
  {
   "cell_type": "code",
   "execution_count": 14,
   "metadata": {},
   "outputs": [
    {
     "data": {
      "image/png": "[encoded data removed]",
      "text/plain": [
       "<Figure size 864x576 with 1 Axes>"
      ]
     },
     "metadata": {},
     "output_type": "display_data"
    }
   ],
   "source": [
    "plt.figure(figsize = (12,8));\n",
    "sns.barplot(data=ct.reset_index().melt(id_vars = resp_inc_label,value_name=\"%\"),\n",
    "            x = resp_party_label,\n",
    "            hue = resp_inc_label,\n",
    "            y=\"%\");\n",
    "plt.xticks(rotation=45);"
   ]
  },
  {
   "cell_type": "code",
   "execution_count": null,
   "metadata": {},
   "outputs": [],
   "source": [
    "## Not sure what the takehome is here\n",
    "# maybe means aren't the best summary for support base affluence\n",
    "# maybe they are, but you still want to think about the broader distribution?\n",
    "\n",
    "# very rough stuff - goodness knows what sort of weird effects you get from jamming parties together like this are\n",
    "\n",
    "# also, always important to remember that income != wealth"
   ]
  },
  {
   "cell_type": "code",
   "execution_count": null,
   "metadata": {},
   "outputs": [],
   "source": []
  },
  {
   "cell_type": "code",
   "execution_count": 15,
   "metadata": {},
   "outputs": [],
   "source": [
    "resp_df_count_partyear = pd.read_pickle(dataset_folder + \"CSES\"+os.sep+\"Integration\"+os.sep+\\\n",
    "                                        \"respond_sample_broad_count_ptryr.pkl\").drop(\"index\",axis=1)"
   ]
  },
  {
   "cell_type": "code",
   "execution_count": 16,
   "metadata": {},
   "outputs": [],
   "source": [
    "resp_df_mean_partyear = pd.read_pickle(dataset_folder + \"CSES\"+os.sep+\"Integration\"+os.sep+\\\n",
    "                                        \"respond_sample_broad_mean_ptryr.pkl\").drop(\"index\",axis=1)"
   ]
  },
  {
   "cell_type": "code",
   "execution_count": 17,
   "metadata": {},
   "outputs": [],
   "source": [
    "resp_df_mean_partyear = resp_df_mean_partyear.set_index([\"partyfacts_id\",\"year\"])\n",
    "\n",
    "# messy extra index"
   ]
  },
  {
   "cell_type": "code",
   "execution_count": 18,
   "metadata": {},
   "outputs": [],
   "source": [
    "party_level = pd.read_pickle(dataset_folder+\"Party Level\"+os.sep+ \"df.zip\",compression='zip')\n",
    "party_level = party_level.set_index([\"partyfacts_id\",\"year\"])\n",
    "party_year_overlap = list( set(resp_df_mean_partyear.index).intersection(party_level.index) )"
   ]
  },
  {
   "cell_type": "code",
   "execution_count": 19,
   "metadata": {},
   "outputs": [],
   "source": [
    "manifesto_redist = party_level[[\"(manifesto)per\"+x for x in [\"404\",\"405\",\"409\",\"413\",\"504\",\"701\"]]].sum(axis=1)\n",
    "manifesto_redist[party_level[[\"(manifesto)per\"+x for x in [\"404\",\"405\",\"409\",\"413\",\"504\",\"701\"]]].isnull().all(axis=1)]=np.nan\n",
    "\n",
    "## some duplicates partyfacts_id here, but the manifesto data is identical in each case, so just just drop duplicates\n",
    "manifesto_redist = manifesto_redist.reset_index().drop_duplicates().set_index([\"partyfacts_id\",\"year\"])[0]\n",
    "party_family = party_level[\"(manifesto)family\"].dropna()\n",
    "# party_level[search(party_level,\"\\(manifesto\\)family\").index].dropna().idxmax(axis=1).apply(lambda x: x.replace(\"(manifesto)family__\",\"\") if pd.notnull(x) else np.nan)\n",
    "# party_family = party_family.reset_index().drop_duplicates().set_index(\"partyfacts_id\")[0]\n",
    "\n",
    "party_year_overlap = manifesto_redist.loc[party_year_overlap][manifesto_redist.loc[party_year_overlap].notnull()].index\n",
    "# manifesto_redist.loc[party_year_overlap].isnull().sum()"
   ]
  },
  {
   "cell_type": "code",
   "execution_count": 20,
   "metadata": {},
   "outputs": [],
   "source": [
    "# search(resp_df_mean_partyear,\"IMD2006\")\n",
    "\n",
    "party_year_overlap = resp_df_mean_partyear.loc[party_year_overlap][resp_df_mean_partyear.loc[party_year_overlap,\"IMD2006_ORD\"].notnull()].index\n"
   ]
  },
  {
   "cell_type": "code",
   "execution_count": 21,
   "metadata": {},
   "outputs": [],
   "source": [
    "parties_with_5_plus_refs = resp_df_mean_partyear.loc[ party_year_overlap ].reset_index()[\"partyfacts_id\"].value_counts()[ resp_df_mean_partyear.loc[ party_year_overlap ].reset_index()[\"partyfacts_id\"].value_counts()>=5 ].index"
   ]
  },
  {
   "cell_type": "code",
   "execution_count": 22,
   "metadata": {},
   "outputs": [],
   "source": [
    "party_year_overlap_small = manifesto_redist.loc[ party_year_overlap ].dropna().loc[parties_with_5_plus_refs,:].index"
   ]
  },
  {
   "cell_type": "code",
   "execution_count": 27,
   "metadata": {},
   "outputs": [],
   "source": [
    "income_by_party_redist_year_party = manifesto_redist.loc[ party_year_overlap_small ].dropna().reset_index().merge(resp_df_mean_partyear.loc[ party_year_overlap_small ,\"IMD2006_ORD\"].reset_index(),on=[\"partyfacts_id\",\"year\"],how='left')\n",
    "income_by_party_redist_year_party = income_by_party_redist_year_party.rename(columns = {\"IMD2006_ORD\":x_axis,0:y_axis})\n",
    "income_by_party_redist_year_party[\"partyfacts_id\"] = income_by_party_redist_year_party[\"partyfacts_id\"].astype(int)\n",
    "income_by_party_redist_year_party[\"Abbreviation\"] = income_by_party_redist_year_party[\"partyfacts_id\"].apply(lambda x: abbreviation.loc[x])"
   ]
  },
  {
   "cell_type": "code",
   "execution_count": 28,
   "metadata": {},
   "outputs": [],
   "source": [
    "party_family = party_family.reset_index().drop_duplicates().set_index([\"partyfacts_id\",\"year\"])"
   ]
  },
  {
   "cell_type": "code",
   "execution_count": 29,
   "metadata": {},
   "outputs": [],
   "source": [
    "income_by_party_redist_year_party[\"Party Family\"] = party_family.loc[ income_by_party_redist_year_party.set_index([\"partyfacts_id\",\"year\"]).index ].values\n",
    "income_by_party_redist_year_party[\"Party Family\"] = income_by_party_redist_year_party[\"Party Family\"].astype('category')\n",
    "income_by_party_redist_year_party[\"year\"] = income_by_party_redist_year_party[\"year\"].astype('category')"
   ]
  },
  {
   "cell_type": "code",
   "execution_count": null,
   "metadata": {},
   "outputs": [],
   "source": []
  },
  {
   "cell_type": "code",
   "execution_count": 30,
   "metadata": {},
   "outputs": [
    {
     "ename": "NameError",
     "evalue": "name 'party_colour_dict' is not defined",
     "output_type": "error",
     "traceback": [
      "\u001b[1;31m---------------------------------------------------------------------------\u001b[0m",
      "\u001b[1;31mNameError\u001b[0m                                 Traceback (most recent call last)",
      "\u001b[1;32m<ipython-input-30-766b6387655e>\u001b[0m in \u001b[0;36m<module>\u001b[1;34m\u001b[0m\n\u001b[1;32m----> 1\u001b[1;33m \u001b[0mparty_colour_dict\u001b[0m \u001b[1;33m=\u001b[0m \u001b[1;33m{\u001b[0m\u001b[0mk\u001b[0m\u001b[1;33m.\u001b[0m\u001b[0msplit\u001b[0m\u001b[1;33m(\u001b[0m\u001b[1;34m\" (\"\u001b[0m\u001b[1;33m)\u001b[0m\u001b[1;33m[\u001b[0m\u001b[1;36m0\u001b[0m\u001b[1;33m]\u001b[0m\u001b[1;33m:\u001b[0m\u001b[0mv\u001b[0m \u001b[1;32mfor\u001b[0m \u001b[0mk\u001b[0m\u001b[1;33m,\u001b[0m\u001b[0mv\u001b[0m \u001b[1;32min\u001b[0m \u001b[0mparty_colour_dict\u001b[0m\u001b[1;33m.\u001b[0m\u001b[0mitems\u001b[0m\u001b[1;33m(\u001b[0m\u001b[1;33m)\u001b[0m\u001b[1;33m}\u001b[0m\u001b[1;33m\u001b[0m\u001b[1;33m\u001b[0m\u001b[0m\n\u001b[0m",
      "\u001b[1;31mNameError\u001b[0m: name 'party_colour_dict' is not defined"
     ]
    }
   ],
   "source": [
    "party_colour_dict = {k.split(\" (\")[0]:v for k,v in party_colour_dict.items()}"
   ]
  },
  {
   "cell_type": "code",
   "execution_count": null,
   "metadata": {},
   "outputs": [],
   "source": [
    "plt.figure(figsize=(12,8))\n",
    "sns.scatterplot(data = income_by_party_redist_year_party,x=x_axis,y=y_axis,\n",
    "                hue=\"Party Family\",palette=party_colour_dict);\n",
    "# ,palette=party_colour_dict\n",
    "# make size = percentage of the vote? \"pervote\"\n",
    "\n",
    "def label_point(x, y, val, ax):\n",
    "    a = pd.concat({'x': x, 'y': y, 'val': val}, axis=1)\n",
    "    for i, point in a.iterrows():\n",
    "        ax.text(point['x']+.02, point['y'], str(point['val']), fontsize=8)\n",
    "\n",
    "label_point(income_by_party_redist_year_party[x_axis],\n",
    "            income_by_party_redist_year_party[y_axis],\n",
    "            income_by_party_redist_year_party[\"Abbreviation\"], plt.gca())\n",
    "\n",
    "# plt.xlabel(\"Support Base Affluence\");\n",
    "# plt.ylabel(\"Support For Redistribution\");\n",
    "# plt.gca().legend(title='Party Family');"
   ]
  },
  {
   "cell_type": "code",
   "execution_count": null,
   "metadata": {},
   "outputs": [],
   "source": []
  },
  {
   "cell_type": "code",
   "execution_count": null,
   "metadata": {},
   "outputs": [],
   "source": [
    "income_by_party_redist_year_party[\"year\"] = income_by_party_redist_year_party[\"year\"].astype(str).astype('category')\n",
    "income_by_party_redist_year_party[\"partyname\"] = partyfacts_core_parties_newest.set_index(\"partyfacts_id\")[\"name_english\"].loc[income_by_party_redist_year_party[\"partyfacts_id\"]].values\n",
    "income_by_party_redist_year_party[\"partyname\"] = income_by_party_redist_year_party[\"partyname\"].astype('category')\n",
    "spec_party_colour_dict = dict( zip( income_by_party_redist_year_party[\"country_abbrev\"].cat.categories, cycle(list(party_colour_dict.values())) ) )"
   ]
  },
  {
   "cell_type": "code",
   "execution_count": null,
   "metadata": {},
   "outputs": [],
   "source": [
    "from bokeh.models import ColumnDataSource, Label, LabelSet, Range1d\n",
    "# colours = mps[\"party\"].replace(party_colour_dict).values\n",
    "# colors = factor_cmap('year', palette=list(party_colour_dict.values()), factors=list(party_colour_dict.keys()))\n",
    "colors = factor_cmap('year', palette=list(spec_party_colour_dict.values()), factors=list(spec_party_colour_dict.keys()))\n",
    "\n",
    "hover = HoverTool(tooltips = [('name','@partyname'),\n",
    "                              ('abbrev','@abbrev'),\n",
    "                              ('year','@year'),\n",
    "                              ('party family','@{Party Family}'),\n",
    "#                             ('country','@country'),\n",
    "#                               ('abbrev','@Abbreviation'),\n",
    "                              ('N = ','@{sample size}'),\n",
    "#                               ('right-left','@rile'),\n",
    "#                               ('planned economy','@planeco'),\n",
    "#                               ('market economy','@markeco'),\n",
    "#                               ('welfare','@welfare'),\n",
    "#                               ('intpeace','@intpeace')\n",
    "                             ])\n",
    "\n",
    "p1 = figure(plot_width=950, plot_height=800, title=\"Party Manifesto 'Redistributiveness' by Mean Electorate Income Decile\",\n",
    "            tools='box_select,pan,wheel_zoom,box_zoom,reset', active_drag=\"box_select\",\n",
    "            x_axis_label = \"Support Base Affluence\",y_axis_label=\"Support For Redistribution\",)\n",
    "for family in income_by_party_redist_year_party[\"country_abbrev\"].cat.categories:\n",
    "    if family[0:3]!=\"DEU\":\n",
    "        continue\n",
    "    mask = income_by_party_redist_year_party[\"country_abbrev\"]==family\n",
    "    source = ColumnDataSource(income_by_party_redist_year_party[mask])\n",
    "    p1.scatter('Support Base Affluence', 'Support For Redistribution',source=source,\n",
    "                alpha=0.7,line_color = spec_party_colour_dict[family], fill_color=spec_party_colour_dict[family],\n",
    "               legend_label=family)\n",
    "\n",
    "    labels = LabelSet(x=x_axis, y=y_axis, text='year', level='glyph',\n",
    "             x_offset=0, y_offset=0, source=source)\n",
    "\n",
    "    p1.add_layout(labels)\n",
    "# source = ColumnDataSource(income_by_party_redist_year_party)\n",
    "# p1.scatter('Support Base Affluence', 'Support For Redistribution',source=source,\n",
    "#             alpha=0.7\n",
    "# #            ,line_color = year_colour_dict[family], fill_color=year_colour_dict[family],\n",
    "# #            legend_label=family\n",
    "#           )\n",
    "#     #,size='pervote_smaller')\n",
    "    #\n",
    "#     \n",
    "    \n",
    "#     p1.scatter('weighted_income_deciles', 'manifesto_redist', source=source, fill_color=colors, line_color = colors, alpha=0.7,\n",
    "#               legend_group='parfam',size='pervote_smaller',)\n",
    "\n",
    "p1.add_tools(hover)\n",
    "p1.legend.location = \"top_left\"\n",
    "p1.legend.click_policy=\"hide\"\n",
    "show(p1)"
   ]
  },
  {
   "cell_type": "code",
   "execution_count": null,
   "metadata": {},
   "outputs": [],
   "source": []
  },
  {
   "cell_type": "code",
   "execution_count": null,
   "metadata": {},
   "outputs": [],
   "source": []
  },
  {
   "cell_type": "code",
   "execution_count": null,
   "metadata": {},
   "outputs": [],
   "source": []
  },
  {
   "cell_type": "code",
   "execution_count": null,
   "metadata": {},
   "outputs": [],
   "source": []
  },
  {
   "cell_type": "code",
   "execution_count": null,
   "metadata": {},
   "outputs": [],
   "source": []
  },
  {
   "cell_type": "code",
   "execution_count": null,
   "metadata": {},
   "outputs": [],
   "source": []
  }
 ],
 "metadata": {
  "kernelspec": {
   "display_name": "Python [conda env:BES_analysis] *",
   "language": "python",
   "name": "conda-env-BES_analysis-py"
  },
  "language_info": {
   "codemirror_mode": {
    "name": "ipython",
    "version": 3
   },
   "file_extension": ".py",
   "mimetype": "text/x-python",
   "name": "python",
   "nbconvert_exporter": "python",
   "pygments_lexer": "ipython3",
   "version": "3.7.8"
  }
 },
 "nbformat": 4,
 "nbformat_minor": 4
}
