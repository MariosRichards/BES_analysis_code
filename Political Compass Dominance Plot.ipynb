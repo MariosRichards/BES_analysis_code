{
 "cells": [
  {
   "cell_type": "code",
   "execution_count": null,
   "metadata": {},
   "outputs": [],
   "source": []
  },
  {
   "cell_type": "code",
   "execution_count": 98,
   "metadata": {},
   "outputs": [],
   "source": [
    "dataset_name = \"W16_comb\"\n",
    "df_list = [\n",
    "           \"BES_Panel\",\n",
    "#            \"BES_reduced_with_na\",\n",
    "#            \"BESnumeric\"\n",
    "#            \"BES_reduced\",\n",
    "#            \"BESnumeric\"\n",
    "          ]"
   ]
  },
  {
   "cell_type": "code",
   "execution_count": 99,
   "metadata": {},
   "outputs": [
    {
     "data": {
      "image/png": "[encoded data removed]",
      "text/plain": [
       "<Figure size 720x72 with 1 Axes>"
      ]
     },
     "metadata": {},
     "output_type": "display_data"
    }
   ],
   "source": [
    "%matplotlib inline\n",
    "import numpy as np, pandas as pd, matplotlib.pyplot as plt, seaborn as sns\n",
    "import pickle, os, gc, re\n",
    "sns.set()\n",
    "sns.palplot(sns.color_palette(\"colorblind\"))\n",
    "from IPython.display import display, display_html, HTML\n",
    "plt.rcParams[\"axes.grid\"] = False\n",
    "\n",
    "import Jupyter_module_loader\n",
    "from utility import *\n",
    "import gaussian_kde\n"
   ]
  },
  {
   "cell_type": "code",
   "execution_count": 100,
   "metadata": {},
   "outputs": [],
   "source": [
    "# you should clone this git to a subdirectory called 'BES_analysis_code' (in some directory - I call it BES_analysis - doesn't matter though)\n",
    "# %matplotlib inline\n",
    "encoding = \"ISO-8859-1\"\n",
    "\n",
    "(BES_code_folder, BES_small_data_files, BES_data_folder,\n",
    " BES_output_folder, BES_file_manifest, BES_R_data_files) = setup_directories()\n",
    "\n"
   ]
  },
  {
   "cell_type": "code",
   "execution_count": 101,
   "metadata": {},
   "outputs": [
    {
     "name": "stderr",
     "output_type": "stream",
     "text": [
      "C:\\ProgramData\\Anaconda3\\envs\\BES_analysis\\lib\\site-packages\\IPython\\core\\interactiveshell.py:3326: FutureWarning: The read_msgpack is deprecated and will be removed in a future version.\n",
      "It is recommended to use pyarrow for on-the-wire transmission of pandas objects.\n",
      "  exec(code_obj, self.user_global_ns, self.user_ns)\n"
     ]
    }
   ],
   "source": [
    "global BES_Panel, BES_numeric, BES_reduced, BES_reduced_with_na, BES_non_numeric\n",
    "data_subfolder = BES_data_folder + dataset_name + os.sep\n",
    "\n",
    "(manifest, dataset_filename, dataset_description, dataset_citation,\n",
    " dataset_start, dataset_stop, dataset_wave) = get_manifest(dataset_name, BES_file_manifest)\n",
    "\n",
    "for df in df_list:\n",
    "    if df==\"BES_Panel\":\n",
    "        globals()[df]  = pd.read_msgpack(data_subfolder + dataset_filename.replace('.dta','.msgpack'))\n",
    "    else:\n",
    "        globals()[df]  = pd.read_msgpack(data_subfolder + df + '.msgpack' )\n",
    "        globals()[df].replace(-1,np.nan,inplace=True)\n",
    "  \n",
    "# (var_type, cat_dictionary, new_old_col_names, old_new_col_names) = get_small_files(data_subfolder, encoding)"
   ]
  },
  {
   "cell_type": "code",
   "execution_count": 102,
   "metadata": {},
   "outputs": [],
   "source": [
    "pan_dataset_allr_values = pd.read_csv(BES_small_data_files + \"pan_dataset_allr_values\"+\".csv\")"
   ]
  },
  {
   "cell_type": "code",
   "execution_count": 103,
   "metadata": {},
   "outputs": [],
   "source": [
    "global best_weight_series\n",
    "def weighted_mean(series):\n",
    "    return (series*best_weight_series.loc[series.index]).sum()/(best_weight_series.loc[series.index]).sum()\n"
   ]
  },
  {
   "cell_type": "code",
   "execution_count": 104,
   "metadata": {},
   "outputs": [],
   "source": [
    "replace_dict = {'Labour Party':\"LAB\", \n",
    " 'United Kingdom Independence Party (UKIP)':\"UKIP\",\n",
    " 'Labour':\"LAB\",\n",
    " 'Conservative Party':\"CON\",\n",
    " 'Conservative':\"CON\",\n",
    " 'Liberal Democrats':\"LD\",\n",
    " 'Did not vote':\"DNV\",\n",
    " 'Scottish National Party':\"SNP\",\n",
    " 'Scottish National Party (SNP)':\"SNP\",\n",
    " 'British National Party (BNP)':\"BNP\",\n",
    " 'Green Party':\"GRN\",\n",
    " 'Liberal Democrat':\"LD\",\n",
    " \"Don't know\":\"DK\",\n",
    " 'Some other party':\"OTH\",\n",
    " 'Veritas':\"VER\",\n",
    " 'Plaid Cymru':\"PC\",\n",
    " 'Other':\"OTH\",\n",
    " 'Respect':\"RES\",\n",
    " 'I would not vote':\"DNV\",\n",
    " 'No - none':\"NON\",\n",
    " \"Brexit Party\":\"BXP\",\n",
    " 'Change UK- The Independent Group':\"CUK\",\n",
    " \"Leave the EU\":\"LEAVE\",\n",
    " \"Stay/remain in the EU\":\"REMAIN\",}"
   ]
  },
  {
   "cell_type": "code",
   "execution_count": 105,
   "metadata": {},
   "outputs": [],
   "source": [
    "party_colour_dict = {\"Lab\":\"red\",\"LAB\":\"red\",\n",
    "                     \"Con\":'blue',\"CON\":'blue',\"UKIP\":\"purple\",\"LD\":\"orange\",\n",
    "                     \"Grn\":'green',\"GRN\":'green',\n",
    "                     \"BrexitParty\":\"cyan\",\"BXP\":'cyan',\n",
    "                     \"TIG\":\"pink\",\"BNP\":\"magenta\",\n",
    "                     \"SNP\":'yellow',\"PC\":'olive',\n",
    "                     \"Remain\":\"yellow\",\"REMAIN\":'yellow',\"Leave\":\"blue\",\"LEAVE\":'blue',\n",
    "                     \"Don't know\":\"grey\",\"DK\":'grey',\n",
    "                     \"Won't vote\":\"black\",\"DNV\":'black',\"NON\":'black',\n",
    "                     \"Cameron\":'navy',\"May\":'blue',\n",
    "                     \"Osborne\":\"darkblue\",\"Davidson\":\"darkblue\",\n",
    "                     \"Boris\":'cyan',\"Gove\":\"darkviolet\",\"Rudd\":'teal',\"Mogg\":\"black\" ,\"Hunt\":\"grey\" , \"Javid\":\"dodgerblue\", \n",
    "                     \"Davis\":\"lightblue\",\"Mogg\":'lightblue',\n",
    "                     \"Salmond\":'goldenrod',\"Sturgeon\":'yellow',\n",
    "                     \"Miliband\":'red',\"Corbyn\":'red',\"Blair\":\"indianred\",\n",
    "                     \"AlanJohnson\":'pink',\"Watson\":\"chocolate\",\"McDonnell\":\"darkred\",\"Jarvis\":'tomato',\"Leonard\":'pink',\n",
    "                     \"Wood\":'olive',\"Price\":'olive',\n",
    "                     \"Umunna\":\"lightslategrey\",\"Berger\":'darkslategrey',\"Soubry\":'mediumspringgreen',\"Allen\":\"darkslategrey\",\n",
    "                     \"Clegg\":'orange',\"Farron\":'orange',\"Cable\":'orange',\"Rennie\":'darkorange',\n",
    "                     \"Farage\":'purple',\"SEvans\":\"fuchsia\",\"Nuttall\":'indigo',\"Batten\":'indigo',\n",
    "                     \"Bennett\":'green',\"Lucas\":'limegreen',\"Harvie\":\"green\",\"Berry\":'darkgreen',\"Bartley\":'limegreen',\n",
    "                     \"Allow many fewer\":\"blue\",\n",
    "                     \"1\":'cyan',\"Bad for economy\":'cyan',\"Undermines cultural life\":'cyan','Strongly disagree':'cyan','It is completely necessary':'cyan',\n",
    "                     \"2\":'yellow','Disagree':'yellow','It is important but not absolutely  necessary':'yellow',\n",
    "                     \"3\":'olive','Neither agree nor disagree':'olive','It is not necessary but it would be desirable':'olive',\n",
    "                     \"4\":'green', 'Agree':'green','It is completely unnecessary':'green',\n",
    "                     \"5\":\"limegreen\",'Strongly agree':'limegreen',\n",
    "                     \"6\":\"orange\",\n",
    "                     \"7\":'brown',\"Good for economy\":'brown',\"Enriches cultural life\":'brown',\n",
    "                     \"8\":'pink',\n",
    "                     \"9\":'purple',\n",
    "                     \"Allow many more\":'red',\n",
    "                     }\n",
    "\n",
    "# ['It is completely necessary','It is important but not absolutely  necessary','It is not necessary but it would be desirable','It is completely unnecessary',\"Don't know\"]"
   ]
  },
  {
   "cell_type": "code",
   "execution_count": 106,
   "metadata": {},
   "outputs": [],
   "source": [
    "linear_colour_list = ['blue','cyan','yellow','olive','green','limegreen','orange','brown','pink','purple','red']\n",
    "howToReduceDeficit_cats = ['Only by increasing taxes','Mainly by increasing taxes, but also by cutting spending','An equal balance of spending cuts and tax increases', \n",
    "'Mainly by cutting spending, but with some tax increases','Only by cutting spending',\"Don't know\"   ]\n",
    "party_colour_dict.update( {x:k for x,k in zip(howToReduceDeficit_cats,linear_colour_list[0:len(howToReduceDeficit_cats)+1]) if x != \"Don't know\"} )\n",
    "\n",
    "leftRight_cats = ['Left', '1', '2', '3', '4', '5', '6', '7', '8', '9', 'Right',\n",
    "       \"Don't know\"]\n",
    "party_colour_dict.update( {x:k for x,k in zip(leftRight_cats,linear_colour_list[0:len(leftRight_cats)+1]) if x != \"Don't know\"} )"
   ]
  },
  {
   "cell_type": "code",
   "execution_count": null,
   "metadata": {},
   "outputs": [],
   "source": []
  },
  {
   "cell_type": "code",
   "execution_count": 12,
   "metadata": {},
   "outputs": [],
   "source": [
    "min_sample_size = 100"
   ]
  },
  {
   "cell_type": "code",
   "execution_count": 79,
   "metadata": {},
   "outputs": [
    {
     "data": {
      "text/plain": [
       "leftRightW1     30336\n",
       "leftRightW2     30240\n",
       "leftRightW3     27828\n",
       "leftRightW4     31442\n",
       "leftRightW5     30833\n",
       "leftRightW6     30151\n",
       "leftRightW7     30895\n",
       "leftRightW8      6053\n",
       "leftRightW9      7442\n",
       "leftRightW10    30237\n",
       "leftRightW11    30956\n",
       "leftRightW12    34394\n",
       "leftRightW13    31136\n",
       "leftRightW14    31063\n",
       "leftRightW15    30842\n",
       "leftRightW16    37959\n",
       "dtype: int64"
      ]
     },
     "execution_count": 79,
     "metadata": {},
     "output_type": "execute_result"
    }
   ],
   "source": [
    "search(BES_Panel,\"leftRight\")"
   ]
  },
  {
   "cell_type": "code",
   "execution_count": 80,
   "metadata": {},
   "outputs": [
    {
     "data": {
      "text/html": [
       "[1, 2, 3, 4, 5, 6, 7, 8, 9, 10, 11, 12, 13, 14, 15, 16]"
      ],
      "text/plain": [
       "[1, 2, 3, 4, 5, 6, 7, 8, 9, 10, 11, 12, 13, 14, 15, 16]"
      ]
     },
     "execution_count": 80,
     "metadata": {},
     "output_type": "execute_result"
    }
   ],
   "source": [
    "[int(x.split(\"W\")[1]) for x in search(BES_Panel,\"leftRight\").index]"
   ]
  },
  {
   "cell_type": "code",
   "execution_count": 92,
   "metadata": {},
   "outputs": [
    {
     "data": {
      "text/plain": [
       "Index(['1', '2', '3', '4', '5', '6', '7', '8', '9', 'Don't know', 'Left',\n",
       "       'Right'],\n",
       "      dtype='object')"
      ]
     },
     "execution_count": 92,
     "metadata": {},
     "output_type": "execute_result"
    }
   ],
   "source": [
    "BES_Panel[\"leftRightW1\"].cat.categories"
   ]
  },
  {
   "cell_type": "code",
   "execution_count": 108,
   "metadata": {},
   "outputs": [
    {
     "data": {
      "text/html": [
       "<div>\n",
       "<style scoped>\n",
       "    .dataframe tbody tr th:only-of-type {\n",
       "        vertical-align: middle;\n",
       "    }\n",
       "\n",
       "    .dataframe tbody tr th {\n",
       "        vertical-align: top;\n",
       "    }\n",
       "\n",
       "    .dataframe thead th {\n",
       "        text-align: right;\n",
       "    }\n",
       "</style>\n",
       "<table border=\"1\" class=\"dataframe\">\n",
       "  <thead>\n",
       "    <tr style=\"text-align: right;\">\n",
       "      <th>leftRightW1</th>\n",
       "      <th>1</th>\n",
       "      <th>2</th>\n",
       "      <th>3</th>\n",
       "      <th>4</th>\n",
       "      <th>6</th>\n",
       "      <th>7</th>\n",
       "      <th>8</th>\n",
       "      <th>9</th>\n",
       "      <th>Left</th>\n",
       "      <th>Right</th>\n",
       "    </tr>\n",
       "  </thead>\n",
       "  <tbody>\n",
       "    <tr>\n",
       "      <th>0</th>\n",
       "      <td>0</td>\n",
       "      <td>0</td>\n",
       "      <td>0</td>\n",
       "      <td>0</td>\n",
       "      <td>0</td>\n",
       "      <td>0</td>\n",
       "      <td>1</td>\n",
       "      <td>0</td>\n",
       "      <td>0</td>\n",
       "      <td>0</td>\n",
       "    </tr>\n",
       "    <tr>\n",
       "      <th>1</th>\n",
       "      <td>0</td>\n",
       "      <td>0</td>\n",
       "      <td>0</td>\n",
       "      <td>0</td>\n",
       "      <td>0</td>\n",
       "      <td>0</td>\n",
       "      <td>1</td>\n",
       "      <td>0</td>\n",
       "      <td>0</td>\n",
       "      <td>0</td>\n",
       "    </tr>\n",
       "    <tr>\n",
       "      <th>2</th>\n",
       "      <td>0</td>\n",
       "      <td>0</td>\n",
       "      <td>0</td>\n",
       "      <td>1</td>\n",
       "      <td>0</td>\n",
       "      <td>0</td>\n",
       "      <td>0</td>\n",
       "      <td>0</td>\n",
       "      <td>0</td>\n",
       "      <td>0</td>\n",
       "    </tr>\n",
       "    <tr>\n",
       "      <th>3</th>\n",
       "      <td>0</td>\n",
       "      <td>0</td>\n",
       "      <td>0</td>\n",
       "      <td>0</td>\n",
       "      <td>0</td>\n",
       "      <td>0</td>\n",
       "      <td>0</td>\n",
       "      <td>1</td>\n",
       "      <td>0</td>\n",
       "      <td>0</td>\n",
       "    </tr>\n",
       "    <tr>\n",
       "      <th>4</th>\n",
       "      <td>0</td>\n",
       "      <td>0</td>\n",
       "      <td>0</td>\n",
       "      <td>0</td>\n",
       "      <td>1</td>\n",
       "      <td>0</td>\n",
       "      <td>0</td>\n",
       "      <td>0</td>\n",
       "      <td>0</td>\n",
       "      <td>0</td>\n",
       "    </tr>\n",
       "    <tr>\n",
       "      <th>...</th>\n",
       "      <td>...</td>\n",
       "      <td>...</td>\n",
       "      <td>...</td>\n",
       "      <td>...</td>\n",
       "      <td>...</td>\n",
       "      <td>...</td>\n",
       "      <td>...</td>\n",
       "      <td>...</td>\n",
       "      <td>...</td>\n",
       "      <td>...</td>\n",
       "    </tr>\n",
       "    <tr>\n",
       "      <th>92582</th>\n",
       "      <td>0</td>\n",
       "      <td>0</td>\n",
       "      <td>0</td>\n",
       "      <td>0</td>\n",
       "      <td>0</td>\n",
       "      <td>0</td>\n",
       "      <td>0</td>\n",
       "      <td>0</td>\n",
       "      <td>0</td>\n",
       "      <td>0</td>\n",
       "    </tr>\n",
       "    <tr>\n",
       "      <th>92583</th>\n",
       "      <td>0</td>\n",
       "      <td>0</td>\n",
       "      <td>0</td>\n",
       "      <td>0</td>\n",
       "      <td>0</td>\n",
       "      <td>0</td>\n",
       "      <td>0</td>\n",
       "      <td>0</td>\n",
       "      <td>0</td>\n",
       "      <td>0</td>\n",
       "    </tr>\n",
       "    <tr>\n",
       "      <th>92584</th>\n",
       "      <td>0</td>\n",
       "      <td>0</td>\n",
       "      <td>0</td>\n",
       "      <td>0</td>\n",
       "      <td>0</td>\n",
       "      <td>0</td>\n",
       "      <td>0</td>\n",
       "      <td>0</td>\n",
       "      <td>0</td>\n",
       "      <td>0</td>\n",
       "    </tr>\n",
       "    <tr>\n",
       "      <th>92585</th>\n",
       "      <td>0</td>\n",
       "      <td>0</td>\n",
       "      <td>0</td>\n",
       "      <td>0</td>\n",
       "      <td>0</td>\n",
       "      <td>0</td>\n",
       "      <td>0</td>\n",
       "      <td>0</td>\n",
       "      <td>0</td>\n",
       "      <td>0</td>\n",
       "    </tr>\n",
       "    <tr>\n",
       "      <th>92586</th>\n",
       "      <td>0</td>\n",
       "      <td>0</td>\n",
       "      <td>0</td>\n",
       "      <td>0</td>\n",
       "      <td>0</td>\n",
       "      <td>0</td>\n",
       "      <td>0</td>\n",
       "      <td>0</td>\n",
       "      <td>0</td>\n",
       "      <td>0</td>\n",
       "    </tr>\n",
       "  </tbody>\n",
       "</table>\n",
       "<p>92587 rows × 10 columns</p>\n",
       "</div>"
      ],
      "text/plain": [
       "leftRightW1  1  2  3  4  6  7  8  9  Left  Right\n",
       "0            0  0  0  0  0  0  1  0     0      0\n",
       "1            0  0  0  0  0  0  1  0     0      0\n",
       "2            0  0  0  1  0  0  0  0     0      0\n",
       "3            0  0  0  0  0  0  0  1     0      0\n",
       "4            0  0  0  0  1  0  0  0     0      0\n",
       "...         .. .. .. .. .. .. .. ..   ...    ...\n",
       "92582        0  0  0  0  0  0  0  0     0      0\n",
       "92583        0  0  0  0  0  0  0  0     0      0\n",
       "92584        0  0  0  0  0  0  0  0     0      0\n",
       "92585        0  0  0  0  0  0  0  0     0      0\n",
       "92586        0  0  0  0  0  0  0  0     0      0\n",
       "\n",
       "[92587 rows x 10 columns]"
      ]
     },
     "execution_count": 108,
     "metadata": {},
     "output_type": "execute_result"
    }
   ],
   "source": [
    "df1"
   ]
  },
  {
   "cell_type": "code",
   "execution_count": 9,
   "metadata": {},
   "outputs": [],
   "source": [
    "from scipy import interpolate"
   ]
  },
  {
   "cell_type": "code",
   "execution_count": 109,
   "metadata": {},
   "outputs": [
    {
     "name": "stdout",
     "output_type": "stream",
     "text": [
      "1\n",
      "There are 0 nulls\n",
      "2\n",
      "There are 0 nulls\n",
      "3\n",
      "There are 0 nulls\n",
      "4\n",
      "There are 0 nulls\n",
      "6\n",
      "There are 0 nulls\n",
      "7\n",
      "There are 0 nulls\n",
      "8\n",
      "There are 0 nulls\n",
      "9\n",
      "There are 0 nulls\n",
      "Left\n",
      "There are 0 nulls\n",
      "Right\n",
      "There are 0 nulls\n"
     ]
    },
    {
     "data": {
      "text/plain": [
       "3    276453\n",
       "7    201479\n",
       "8     80660\n",
       "2     44278\n",
       "6     32806\n",
       "4      4324\n",
       "Name: leading_party, dtype: int64"
      ]
     },
     "metadata": {},
     "output_type": "display_data"
    },
    {
     "name": "stdout",
     "output_type": "stream",
     "text": [
      "0.06551769618517746 5.182998665394278 6\n",
      "1\n",
      "There are 0 nulls\n",
      "2\n",
      "There are 0 nulls\n",
      "3\n",
      "There are 0 nulls\n",
      "4\n",
      "There are 0 nulls\n",
      "6\n",
      "There are 0 nulls\n",
      "7\n",
      "There are 0 nulls\n",
      "8\n",
      "There are 0 nulls\n",
      "9\n",
      "There are 0 nulls\n",
      "Left\n",
      "There are 0 nulls\n",
      "Right\n",
      "There are 0 nulls\n"
     ]
    },
    {
     "data": {
      "text/plain": [
       "3    315395\n",
       "7    246009\n",
       "8     60917\n",
       "2     17679\n",
       "Name: leading_party, dtype: int64"
      ]
     },
     "metadata": {},
     "output_type": "display_data"
    },
    {
     "name": "stdout",
     "output_type": "stream",
     "text": [
      "0.0767113104472602 3.269769968719362 4\n",
      "1\n",
      "There are 0 nulls\n",
      "2\n",
      "There are 0 nulls\n",
      "3\n",
      "There are 0 nulls\n",
      "4\n",
      "There are 0 nulls\n",
      "6\n",
      "There are 0 nulls\n",
      "7\n",
      "There are 0 nulls\n",
      "8\n",
      "There are 0 nulls\n",
      "9\n",
      "There are 0 nulls\n",
      "Left\n",
      "There are 0 nulls\n",
      "Right\n",
      "There are 0 nulls\n"
     ]
    },
    {
     "data": {
      "text/plain": [
       "3    308018\n",
       "7    214763\n",
       "8     60290\n",
       "6     37771\n",
       "2     19158\n",
       "Name: leading_party, dtype: int64"
      ]
     },
     "metadata": {},
     "output_type": "display_data"
    },
    {
     "name": "stdout",
     "output_type": "stream",
     "text": [
      "0.07319548433701159 4.2851271260016 5\n",
      "1\n",
      "There are 0 nulls\n",
      "2\n",
      "There are 0 nulls\n",
      "3\n",
      "There are 0 nulls\n",
      "4\n",
      "There are 0 nulls\n",
      "6\n",
      "There are 0 nulls\n",
      "7\n",
      "There are 0 nulls\n",
      "8\n",
      "There are 0 nulls\n",
      "9\n",
      "There are 0 nulls\n",
      "Left\n",
      "There are 0 nulls\n",
      "Right\n",
      "There are 0 nulls\n"
     ]
    },
    {
     "data": {
      "text/plain": [
       "3    312722\n",
       "7    202194\n",
       "8    110546\n",
       "2     11949\n",
       "6      2589\n",
       "Name: leading_party, dtype: int64"
      ]
     },
     "metadata": {},
     "output_type": "display_data"
    },
    {
     "name": "stdout",
     "output_type": "stream",
     "text": [
      "0.07211455026297507 4.136219811392436 5\n",
      "1\n",
      "There are 0 nulls\n",
      "2\n",
      "There are 0 nulls\n",
      "3\n",
      "There are 0 nulls\n",
      "4\n",
      "There are 0 nulls\n",
      "6\n",
      "There are 0 nulls\n",
      "7\n",
      "There are 0 nulls\n",
      "8\n",
      "There are 0 nulls\n",
      "9\n",
      "There are 0 nulls\n",
      "Left\n",
      "There are 0 nulls\n",
      "Right\n",
      "There are 0 nulls\n"
     ]
    },
    {
     "data": {
      "text/plain": [
       "3    287479\n",
       "7    155557\n",
       "8     96233\n",
       "6     77740\n",
       "2     22991\n",
       "Name: leading_party, dtype: int64"
      ]
     },
     "metadata": {},
     "output_type": "display_data"
    },
    {
     "name": "stdout",
     "output_type": "stream",
     "text": [
      "0.06966158992054577 4.281533291026666 5\n",
      "1\n",
      "There are 0 nulls\n",
      "2\n",
      "There are 0 nulls\n",
      "3\n",
      "There are 0 nulls\n",
      "4\n",
      "There are 0 nulls\n",
      "6\n",
      "There are 0 nulls\n",
      "7\n",
      "There are 0 nulls\n",
      "8\n",
      "There are 0 nulls\n",
      "9\n",
      "There are 0 nulls\n",
      "Left\n",
      "There are 0 nulls\n",
      "Right\n",
      "There are 0 nulls\n"
     ]
    },
    {
     "data": {
      "text/plain": [
       "3    300885\n",
       "7    247076\n",
       "8     46218\n",
       "6     25584\n",
       "2     10391\n",
       "4      9846\n",
       "Name: leading_party, dtype: int64"
      ]
     },
     "metadata": {},
     "output_type": "display_data"
    },
    {
     "name": "stdout",
     "output_type": "stream",
     "text": [
      "0.06526101023301767 5.174847987228194 6\n",
      "1\n",
      "There are 0 nulls\n",
      "2\n",
      "There are 0 nulls\n",
      "3\n",
      "There are 0 nulls\n",
      "4\n",
      "There are 0 nulls\n",
      "6\n",
      "There are 0 nulls\n",
      "7\n",
      "There are 0 nulls\n",
      "8\n",
      "There are 0 nulls\n",
      "9\n",
      "There are 0 nulls\n",
      "Left\n",
      "There are 0 nulls\n",
      "Right\n",
      "There are 0 nulls\n"
     ]
    },
    {
     "data": {
      "text/plain": [
       "3    326958\n",
       "7    177037\n",
       "6     69688\n",
       "8     62836\n",
       "2      3481\n",
       "Name: leading_party, dtype: int64"
      ]
     },
     "metadata": {},
     "output_type": "display_data"
    },
    {
     "name": "stdout",
     "output_type": "stream",
     "text": [
      "0.07746072750973357 4.285004329464439 5\n",
      "1\n",
      "There are 0 nulls\n",
      "2\n",
      "There are 0 nulls\n",
      "3\n",
      "There are 0 nulls\n",
      "4\n",
      "There are 0 nulls\n",
      "6\n",
      "There are 0 nulls\n",
      "7\n",
      "There are 0 nulls\n",
      "8\n",
      "There are 0 nulls\n",
      "9\n",
      "There are 0 nulls\n",
      "Left\n",
      "There are 0 nulls\n",
      "Right\n",
      "There are 0 nulls\n"
     ]
    },
    {
     "data": {
      "text/plain": [
       "3    297935\n",
       "7    187205\n",
       "8     75873\n",
       "4     45458\n",
       "6     28034\n",
       "2      5495\n",
       "Name: leading_party, dtype: int64"
      ]
     },
     "metadata": {},
     "output_type": "display_data"
    },
    {
     "name": "stdout",
     "output_type": "stream",
     "text": [
      "0.07892870443179922 5.298345913886788 6\n",
      "1\n",
      "There are 0 nulls\n",
      "2\n",
      "There are 0 nulls\n",
      "3\n",
      "There are 0 nulls\n",
      "4\n",
      "There are 0 nulls\n",
      "6\n",
      "There are 0 nulls\n",
      "7\n",
      "There are 0 nulls\n",
      "8\n",
      "There are 0 nulls\n",
      "9\n",
      "There are 0 nulls\n",
      "Left\n",
      "There are 0 nulls\n",
      "Right\n",
      "There are 0 nulls\n"
     ]
    },
    {
     "data": {
      "text/plain": [
       "3    254503\n",
       "7    140514\n",
       "8    101886\n",
       "4     80337\n",
       "6     60679\n",
       "2      2081\n",
       "Name: leading_party, dtype: int64"
      ]
     },
     "metadata": {},
     "output_type": "display_data"
    },
    {
     "name": "stdout",
     "output_type": "stream",
     "text": [
      "0.07236987563495886 5.209104620297082 6\n",
      "1\n",
      "There are 0 nulls\n",
      "2\n",
      "There are 0 nulls\n",
      "3\n",
      "There are 0 nulls\n",
      "4\n",
      "There are 0 nulls\n",
      "6\n",
      "There are 0 nulls\n",
      "7\n",
      "There are 0 nulls\n",
      "8\n",
      "There are 0 nulls\n",
      "9\n",
      "There are 0 nulls\n",
      "Left\n",
      "There are 0 nulls\n",
      "Right\n",
      "There are 0 nulls\n"
     ]
    },
    {
     "data": {
      "text/plain": [
       "3    288730\n",
       "7    231252\n",
       "6     63129\n",
       "8     48656\n",
       "2      4928\n",
       "4      3305\n",
       "Name: leading_party, dtype: int64"
      ]
     },
     "metadata": {},
     "output_type": "display_data"
    },
    {
     "name": "stdout",
     "output_type": "stream",
     "text": [
      "0.06266294599430425 5.0860786263906395 6\n",
      "1\n",
      "There are 0 nulls\n",
      "2\n",
      "There are 0 nulls\n",
      "3\n",
      "There are 0 nulls\n",
      "4\n",
      "There are 0 nulls\n",
      "6\n",
      "There are 0 nulls\n",
      "7\n",
      "There are 0 nulls\n",
      "8\n",
      "There are 0 nulls\n",
      "9\n",
      "There are 0 nulls\n",
      "Left\n",
      "There are 0 nulls\n",
      "Right\n",
      "There are 0 nulls\n"
     ]
    },
    {
     "data": {
      "text/plain": [
       "3    288234\n",
       "7    224811\n",
       "8     69915\n",
       "6     25603\n",
       "4     19813\n",
       "2     11624\n",
       "Name: leading_party, dtype: int64"
      ]
     },
     "metadata": {},
     "output_type": "display_data"
    },
    {
     "name": "stdout",
     "output_type": "stream",
     "text": [
      "0.06690297884240405 5.273204950007628 6\n",
      "1\n",
      "There are 0 nulls\n",
      "2\n",
      "There are 0 nulls\n",
      "3\n",
      "There are 0 nulls\n",
      "4\n",
      "There are 0 nulls\n",
      "6\n",
      "There are 0 nulls\n",
      "7\n",
      "There are 0 nulls\n",
      "8\n",
      "There are 0 nulls\n",
      "9\n",
      "There are 0 nulls\n",
      "Left\n",
      "There are 0 nulls\n",
      "Right\n",
      "There are 0 nulls\n"
     ]
    },
    {
     "data": {
      "text/plain": [
       "3    289047\n",
       "7    198760\n",
       "6     82173\n",
       "8     47565\n",
       "2     13943\n",
       "4      8512\n",
       "Name: leading_party, dtype: int64"
      ]
     },
     "metadata": {},
     "output_type": "display_data"
    },
    {
     "name": "stdout",
     "output_type": "stream",
     "text": [
      "0.05844325961029276 5.1442246279306865 6\n",
      "1\n",
      "There are 0 nulls\n",
      "2\n",
      "There are 0 nulls\n",
      "3\n",
      "There are 0 nulls\n",
      "4\n",
      "There are 0 nulls\n",
      "6\n",
      "There are 0 nulls\n",
      "7\n",
      "There are 0 nulls\n",
      "8\n",
      "There are 0 nulls\n",
      "9\n",
      "There are 0 nulls\n",
      "Left\n",
      "There are 0 nulls\n",
      "Right\n",
      "There are 0 nulls\n"
     ]
    },
    {
     "data": {
      "text/plain": [
       "3    290091\n",
       "7    197578\n",
       "6     76835\n",
       "8     28820\n",
       "4     28357\n",
       "2     18319\n",
       "Name: leading_party, dtype: int64"
      ]
     },
     "metadata": {},
     "output_type": "display_data"
    },
    {
     "name": "stdout",
     "output_type": "stream",
     "text": [
      "0.06388018496922909 5.301284358399536 6\n",
      "1\n",
      "There are 0 nulls\n",
      "2\n",
      "There are 0 nulls\n",
      "3\n",
      "There are 0 nulls\n",
      "4\n",
      "There are 0 nulls\n",
      "6\n",
      "There are 0 nulls\n",
      "7\n",
      "There are 0 nulls\n",
      "8\n",
      "There are 0 nulls\n",
      "9\n",
      "There are 0 nulls\n",
      "Left\n",
      "There are 0 nulls\n",
      "Right\n",
      "There are 0 nulls\n"
     ]
    },
    {
     "data": {
      "text/plain": [
       "3    320515\n",
       "7    193658\n",
       "6     97189\n",
       "8     26447\n",
       "4      2191\n",
       "Name: leading_party, dtype: int64"
      ]
     },
     "metadata": {},
     "output_type": "display_data"
    },
    {
     "name": "stdout",
     "output_type": "stream",
     "text": [
      "0.06737971044724025 4.153436682238892 5\n",
      "1\n",
      "There are 0 nulls\n",
      "2\n",
      "There are 0 nulls\n",
      "3\n",
      "There are 0 nulls\n",
      "4\n",
      "There are 0 nulls\n",
      "6\n",
      "There are 0 nulls\n",
      "7\n",
      "There are 0 nulls\n",
      "8\n",
      "There are 0 nulls\n",
      "9\n",
      "There are 0 nulls\n",
      "Left\n",
      "There are 0 nulls\n",
      "Right\n",
      "There are 0 nulls\n"
     ]
    },
    {
     "data": {
      "text/plain": [
       "3    300666\n",
       "7    206382\n",
       "6     93013\n",
       "8     28816\n",
       "2      9393\n",
       "4      1730\n",
       "Name: leading_party, dtype: int64"
      ]
     },
     "metadata": {},
     "output_type": "display_data"
    },
    {
     "name": "stdout",
     "output_type": "stream",
     "text": [
      "0.06495091663242292 5.070804618017984 6\n",
      "Left\n",
      "There are 0 nulls\n",
      "1\n",
      "There are 0 nulls\n",
      "2\n",
      "There are 0 nulls\n",
      "3\n",
      "There are 0 nulls\n",
      "4\n",
      "There are 0 nulls\n",
      "6\n",
      "There are 0 nulls\n",
      "7\n",
      "There are 0 nulls\n",
      "8\n",
      "There are 0 nulls\n",
      "9\n",
      "There are 0 nulls\n",
      "Right\n",
      "There are 0 nulls\n"
     ]
    },
    {
     "data": {
      "text/plain": [
       "3    295341\n",
       "7    252315\n",
       "6     92344\n",
       "Name: leading_party, dtype: int64"
      ]
     },
     "metadata": {},
     "output_type": "display_data"
    },
    {
     "name": "stdout",
     "output_type": "stream",
     "text": [
      "0.06772896618839147 2.1762143124818847 3\n"
     ]
    },
    {
     "data": {
      "text/plain": [
       "0"
      ]
     },
     "execution_count": 109,
     "metadata": {},
     "output_type": "execute_result"
    }
   ],
   "source": [
    "# %%time\n",
    "from matplotlib.ticker import LinearLocator, FormatStrFormatter\n",
    "from matplotlib import colors\n",
    "import matplotlib.patches as mpatches\n",
    "\n",
    "sns.set(font_scale=2.5)\n",
    "\n",
    "wave_descriptions = BES_file_manifest[BES_file_manifest[\"Only_or_Combined\"]==\"Only\"][[\"Wave No\",\"Friendlier_Description\"]].set_index(\"Wave No\")\n",
    "\n",
    "granularity = 21\n",
    "x_axis = pan_dataset_allr_values.columns[0].replace(\"200\",str(granularity-1)).replace(\"{uniform}\",\"\")\n",
    "y_axis = pan_dataset_allr_values.columns[1].replace(\"200\",str(granularity-1)).replace(\"{uniform}\",\"\")\n",
    "pan_dataset_allr_values[x_axis] = pd.qcut( pan_dataset_allr_values[pan_dataset_allr_values.columns[2]], q=granularity, labels=range(0,granularity))\n",
    "pan_dataset_allr_values[y_axis] = pd.qcut( pan_dataset_allr_values[pan_dataset_allr_values.columns[3]], q=granularity, labels=range(0,granularity))\n",
    "# pan_dataset_allr_values[x_axis] = pd.qcut( pan_dataset_allr_values[\"original_lr_scale\"], q=granularity, labels=range(0,granularity))\n",
    "# pan_dataset_allr_values[y_axis] = pd.qcut( pan_dataset_allr_values[\"original_al_scale\"], q=granularity, labels=range(0,granularity))\n",
    "\n",
    "output_granularity=800\n",
    "min_sample_size =100    \n",
    "smoothing = 50.0\n",
    "pop_gridlines = False\n",
    "max_z_size = 1.0\n",
    "normalize_heights = False\n",
    "use_bes_weights = True\n",
    "bes_wave_based = True\n",
    "break_single_variable = True\n",
    "abbreviate_variables = False\n",
    "drop_cats = [\"Don't know\",\"5\"]\n",
    "\n",
    "# stub_var = \"partyId\"\n",
    "stub_var = \"leftRight\"\n",
    "title_base = \"In politics people sometimes talk of left and right.\\nWhere would you place yourself on the following scale?\\n(0-Left...10-Right)\"\n",
    "scale_text = 'Probability to choose option'\n",
    "cbar_text = \"Dominant Option (in territory size order)\"\n",
    "\n",
    "#['Bad for economy', '2', '3', '4', '5', '6', 'Good for economy',\n",
    "#        \"Don't know\"]\n",
    "# search(BES_Panel,\"partyMemberNow\")\n",
    "# [1,2,3,4,5, 7, 9, 13]\n",
    "if use_bes_weights:\n",
    "    aggfunc = weighted_mean\n",
    "else:\n",
    "    aggfunc = np.mean\n",
    "\n",
    "# region = \"England\"\n",
    "region = None\n",
    "if region is not None:\n",
    "    specific_mask = (BES_Panel[\"country\"]==region)# & (BES_Panel[\"profile_eurefvote\"]==\"Leave the EU\")\n",
    "else:\n",
    "    specific_mask = BES_Panel[\"id\"].notnull()\n",
    "# [\"W2\",\"W6\",\"W8\",\"W12\",\"W14\",\"W16\"]\n",
    "max_wave = 17\n",
    "skip_waves = [5]\n",
    "skip_waves = [ 1, 2, 3, 4, 5, 6, 7, 8, 9, 10,11,13,15 ]\n",
    "skip_waves = [1,2,3,4,5, 7, 9, 13]\n",
    "skip_waves = [5,6,9,12]\n",
    "# [1, 2, 3, 4, 7, 8, 10, 11][4, 6, 10, 11, 15]\n",
    "skip_waves = [1,2,3, 5, 7,8, 9, 12,13,14,16 ]\n",
    "skip_waves = []\n",
    "wave_list = [\"W\"+str(x) for x in list(range(1,max_wave)) if x not in skip_waves]\n",
    "# wave_list = [str(x) for x in [2005,2010,2015,2017]]\n",
    "for wave in wave_list:\n",
    "    if bes_wave_based:\n",
    "        wave_no = int(wave.replace(\"W\",\"\"))\n",
    "        title_extra = \"\\n\"+wave_descriptions.loc[wave_no].values[0]#+\"; \"+region#+\"&Leave-2016\"\n",
    "    else:\n",
    "        title_extra = \"\\n\"+wave#+\"; \"+region#+\"&Leave-2016\"\n",
    "\n",
    "# treatment = \"brexitself_surface\"\n",
    "#     treatment = \"ptv_surface\"+wave+\"_\" + region# + \"_LEAVE2016\"\n",
    "    treatment = stub_var+\"_minusDKs\"+\"_surface\"+wave#+\"originalPC\"#+\"_\"\n",
    "    \n",
    "    if region is not None:\n",
    "            treatment = treatment+\"_\"+region\n",
    "            title_extra = title_extra+\"; \"+region\n",
    "    output_subfolder = create_subdir(BES_output_folder, treatment)\n",
    "\n",
    "# party_list = [\"Lab\",\"Con\",\"LD\",\"Grn\",\"UKIP\",\"TIG\",\"BrexitParty\"]\n",
    "# party_list = [\"ptv\"+x for x in party_list]\n",
    "# party_list = [\"brexitSelf\"]\n",
    "    if break_single_variable:\n",
    "        \n",
    "        if drop_cats:\n",
    "            df1 = pd.get_dummies(BES_Panel[stub_var+wave].cat.remove_categories(drop_cats))\n",
    "        else:\n",
    "            df1 = pd.get_dummies(BES_Panel[stub_var+wave])\n",
    "        mask = BES_Panel[stub_var+wave].notnull() & specific_mask\n",
    "#     eurevote_col_replace_dict = {\"Don't know\":\"Don't know\", \"I would/will not vote\":\"Won't vote\", \"Leave the EU\":\"Leave\",\n",
    "#                   \"Stay/remain in the EU\":\"Remain\"}\n",
    "        if abbreviate_variables:\n",
    "            df1.columns = [replace_dict[x] for x in df1.columns]\n",
    "        party_list = df1.columns\n",
    "    else:\n",
    "    ## sample size!\n",
    "#         temp = match(BES_Panel,\"like(.*)\"+wave+\"$\", mask = specific_mask)\n",
    "#         party_list = list(temp[temp>min_sample_size].index)\n",
    "#         party_list = [x for x in party_list if re.match(\"like(.*)W\\d+\",x).groups()[0] in [\"Con\",\"Lab\",\"SNP\",\"PC\",\"UKIP\",\"Grn\",\"BNP\",\"LD\",\"BrexitParty\",\"TIG\"]]\n",
    "        \n",
    "        temp = match(BES_Panel,\"like(.*)\"+wave+\"$\", mask = specific_mask)\n",
    "        party_list = list(temp[temp>min_sample_size].index)\n",
    "        party_list = [x for x in party_list if re.match(\"like(.*)W\\d+\",x).groups()[0] not in [\"CandA\",\"CandB\",\"SNPExtra\",\"Con\",\"Lab\",\"SNP\",\"PC\",\"UKIP\",\"Grn\",\"BNP\",\"LD\",\"BrexitParty\",\"TIG\",\"DUP\"]]        \n",
    "        \n",
    "        print(party_list)\n",
    "#     temp = match(BES_Panel,\"ptv.*\"+wave+\"$\", mask = specific_mask)\n",
    "#     party_list = list(temp[temp>min_sample_size].index)\n",
    "    \n",
    "    \n",
    "\n",
    "    \n",
    "    # specific_mask = 1\n",
    "\n",
    "    interp_dict = {}\n",
    "\n",
    "    largestN = 0\n",
    "\n",
    "\n",
    "    for party in party_list:\n",
    "        print(party)\n",
    "    #     like_var = \"ptv\"+party\n",
    "        like_var = party\n",
    "\n",
    "        like_name = \"probability to vote \"+party\n",
    "#         scale_text = ' 0-Very Unlikely, 10-Very Likely'\n",
    "        title_text = title_base+like_var+title_extra\n",
    "#         title_text = \"Which party do you feel closest to: \"+like_var+\"?\"+title_extra\n",
    "        \n",
    "\n",
    "    #     like_name = \"Some people want to leave the European Union immediately without a deal.\\nOther people would like to cancel Brexit and remain in the EU.\\nWhere would you place yourself and the political parties on this scale?\"\n",
    "    #     scale_text = ' 0-Leave the EU without a deal, 10-Remain in the EU'    \n",
    "    #     title_text = like_name\n",
    "\n",
    "        # fix disordered categories!\n",
    "        if \"ptv\" in like_var:\n",
    "            BES_Panel[[x for x in BES_Panel.columns if like_var in x]] = \\\n",
    "                BES_Panel[[x for x in BES_Panel.columns if like_var in x]]\\\n",
    "                    .apply(lambda x: x.cat.reorder_categories(['Very unlikely','1', '2', '3', '4', '5', '6', '7', '8', '9',\n",
    "                       'Very likely', \"Don't know\" ]))    \n",
    "        elif \"like\" in like_var:\n",
    "            BES_Panel[[x for x in BES_Panel.columns if like_var in x]] = \\\n",
    "                BES_Panel[[x for x in BES_Panel.columns if like_var in x]]\\\n",
    "                    .apply(lambda x: x.cat.reorder_categories(['Strongly dislike','1', '2', '3', '4', '5', '6', '7', '8', '9', \"Don't know\",\n",
    "        'Strongly like']))                \n",
    "        elif \"immigEcon\" in like_var:\n",
    "            BES_Panel[[x for x in BES_Panel.columns if like_var in x]] = \\\n",
    "                BES_Panel[[x for x in BES_Panel.columns if like_var in x]]\\\n",
    "                    .apply(lambda x: x.cat.reorder_categories(['Bad for economy', '2', '3', '4', '5', '6', 'Good for economy',\n",
    "       \"Don't know\"]))  \n",
    "        elif \"immigCultural\" in like_var:\n",
    "            BES_Panel[[x for x in BES_Panel.columns if like_var in x]] = \\\n",
    "                BES_Panel[[x for x in BES_Panel.columns if like_var in x]]\\\n",
    "                    .apply(lambda x: x.cat.reorder_categories(['Undermines cultural life', '2', '3', '4', '5', '6',\n",
    "       'Enriches cultural life', \"Don't know\"]))     \n",
    "        elif \"immigrantsWelfareState\" in like_var:\n",
    "            BES_Panel[[x for x in BES_Panel.columns if like_var in x]] = \\\n",
    "                BES_Panel[[x for x in BES_Panel.columns if like_var in x]]\\\n",
    "                    .apply(lambda x: x.cat.reorder_categories(['Strongly disagree', 'Disagree', 'Neither agree nor disagree',\n",
    "       'Agree','Strongly agree',  \"Don't know\"]))  \n",
    "        elif \"deficitReduce\" in like_var:\n",
    "            BES_Panel[[x for x in BES_Panel.columns if like_var in x]] = \\\n",
    "                BES_Panel[[x for x in BES_Panel.columns if like_var in x]]\\\n",
    "                    .apply(lambda x: x.cat.reorder_categories(['It is completely necessary','It is important but not absolutely  necessary','It is not necessary but it would be desirable','It is completely unnecessary',\"Don't know\"]))  \n",
    "        elif \"howToReduceDeficit\" in like_var:\n",
    "            BES_Panel[[x for x in BES_Panel.columns if like_var in x]] = \\\n",
    "                BES_Panel[[x for x in BES_Panel.columns if like_var in x]]\\\n",
    "                    .apply(lambda x: x.cat.reorder_categories(howToReduceDeficit_cats))  \n",
    "        elif \"leftRight\" in like_var:\n",
    "            BES_Panel[[x for x in BES_Panel.columns if like_var in x]] = \\\n",
    "                BES_Panel[[x for x in BES_Panel.columns if like_var in x]]\\\n",
    "                    .apply(lambda x: x.cat.reorder_categories(leftRight_cats))\n",
    "            \n",
    "   \n",
    "\n",
    "\n",
    "        # mean across all waves\n",
    "    #     mean_like_Corbyn = BES_Panel[[x for x in BES_Panel.columns if like_var in x]]\\\n",
    "    #     .replace(\"Don't know\",np.nan).apply(lambda x:x.cat.codes).replace(-1,np.nan).mean(axis=1)\n",
    "\n",
    "#         mean_like_Corbyn = BES_Panel[[like_var]]\\\n",
    "#         .replace(\"Don't know\",np.nan).apply(lambda x:x.cat.codes).replace(-1,np.nan).mean(axis=1)\n",
    "        if break_single_variable:\n",
    "            mean_like_Corbyn = df1[like_var]\n",
    "        else:\n",
    "            mean_like_Corbyn = BES_Panel[[like_var]]\\\n",
    "            .replace(\"Don't know\",np.nan).apply(lambda x:x.cat.codes).replace(-1,np.nan).mean(axis=1)          \n",
    "            mask = mean_like_Corbyn.notnull() & specific_mask\n",
    "\n",
    "#         \n",
    "        N_equal_text = \" (N=\"+str(mask.sum())+\")\"\n",
    "        \n",
    "        global best_weight_series\n",
    "        best_weight_variable = search(BES_Panel,\"wt_\",mask=mask).sort_values(ascending=False).index[0]\n",
    "        best_weight_series = BES_Panel[best_weight_variable]\n",
    "\n",
    "        likeCorbyn_heatmap = pd.crosstab(index = pan_dataset_allr_values[y_axis][mask],\n",
    "                    columns = pan_dataset_allr_values[x_axis][mask],\n",
    "                    values = mean_like_Corbyn[mask],\n",
    "                    aggfunc = aggfunc)\n",
    "\n",
    "        plt.figure(figsize = (16,10))\n",
    "        ax = sns.heatmap(data = likeCorbyn_heatmap.replace(np.nan,-1),\n",
    "                    cbar_kws={'label': like_var+ scale_text})\n",
    "        ax.invert_yaxis()\n",
    "\n",
    "        plt.xlim([0,granularity])\n",
    "        plt.ylim([0,granularity])\n",
    "        plt.xlabel(x_axis);\n",
    "        plt.ylabel(y_axis);\n",
    "        plt.title(title_text+N_equal_text)\n",
    "        plt.savefig(BES_output_folder + treatment + os.sep + like_var +\"_by_PC_heatmap\" + \".png\",\n",
    "                   bbox_inches='tight')\n",
    "        plt.close()\n",
    "\n",
    "        #### INTERPOLATE\n",
    "\n",
    "        size = likeCorbyn_heatmap.columns.max()\n",
    "        x,y = np.mgrid[ 0:size:granularity*1j, 0:size:granularity*1j ]\n",
    "        z =  likeCorbyn_heatmap.values.flatten()\n",
    "        non_null_mask = ~np.isnan(z)\n",
    "        x = x.flatten()[non_null_mask]\n",
    "        y = y.flatten()[non_null_mask]\n",
    "        z = z[non_null_mask]\n",
    "        print(\"There are \" + str(np.sum(~non_null_mask)) + \" nulls\") \n",
    "        interp_dict[party]=interpolate.Rbf(x,y,z,function='linear',smooth=smoothing)\n",
    "\n",
    "\n",
    "        grid=np.mgrid[0:size:1j*output_granularity,\n",
    "                       0:size:1j*output_granularity]\n",
    "        result=interp_dict[party](grid[0,:,:],grid[1,:,:]);\n",
    "        plt.figure(figsize=(14,14));\n",
    "        img = plt.imshow(result,interpolation = 'none',origin ='lower',\n",
    "                  extent = (0,granularity-1,0,granularity-1)); #Apparently nice smooth linear-ish interpolation\n",
    "        plt.grid(None)\n",
    "        plt.locator_params(nbins=5)\n",
    "        cbar = plt.colorbar(img,shrink=0.5, aspect=5, label =  like_var+ scale_text );#, title = \"\\n\".join(scale_text.split(\",\")) );\n",
    "        plt.xlabel(x_axis);\n",
    "        plt.ylabel(y_axis);\n",
    "        plt.title(title_text+N_equal_text)\n",
    "        plt.savefig(BES_output_folder + treatment + os.sep + like_var +\"_by_PC_interpolated\" + \".png\",\n",
    "                   bbox_inches='tight')\n",
    "        plt.close()\n",
    "\n",
    "\n",
    "\n",
    "        ### 3D Surface\n",
    "\n",
    "        X,Y = grid\n",
    "        Z = result.reshape(X.shape)\n",
    "        # this seems to flip the axes!\n",
    "        # Plot the surface.\n",
    "        fig = plt.figure(figsize=(14,14));\n",
    "\n",
    "        ax = fig.add_subplot(111, projection='3d')\n",
    "        surf = ax.plot_surface(X, Y, Z, cmap=cm.coolwarm,\n",
    "                               linewidth=0, antialiased=False)\n",
    "\n",
    "        ax.set_title(title_text+N_equal_text, fontsize=18)\n",
    "        # Customize the z axis.\n",
    "        ax.set_zlim(0, max_z_size);\n",
    "#         ax.zaxis.set_major_locator(LinearLocator(10));\n",
    "        plt.xlabel(y_axis, fontsize=14);\n",
    "        plt.ylabel(x_axis, fontsize=14);\n",
    "        ax.set_zlabel(like_var+ scale_text, fontsize=14);\n",
    "        plt.locator_params(nbins=5)\n",
    "        ax.tick_params(axis='both', which='major', labelsize=14)\n",
    "        ax.tick_params(axis='both', which='minor', labelsize=14)\n",
    "\n",
    "\n",
    "        # Add a color bar which maps values to colors.\n",
    "        fig.colorbar(surf, shrink=0.5, aspect=5);\n",
    "\n",
    "    #     fig.show();\n",
    "        fig.savefig(BES_output_folder + treatment + os.sep + like_var +\"_by_PC_3D\" + \".png\",\n",
    "                   bbox_inches='tight')\n",
    "        plt.close()\n",
    "        \n",
    "        if mask.sum()>largestN:\n",
    "            largestN = mask.sum()\n",
    "        \n",
    "\n",
    "    ###################\n",
    "\n",
    "    \n",
    "    overall_N_equal_text = \" (N=\"+str(largestN)+\")\"\n",
    "\n",
    "#     output_granularity=500\n",
    "    grid=np.mgrid[0:size:1j*output_granularity,\n",
    "                   0:size:1j*output_granularity]\n",
    "\n",
    "    df = pd.DataFrame()\n",
    "    for party in party_list:\n",
    "        df[party]=interp_dict[party](grid[0,:,:],grid[1,:,:]).flatten()\n",
    "\n",
    "    #df[\"max\"] = df.max(axis=1)\n",
    "    # df[\"leading_party\"] = df.apply(lambda x: x.index[x[df.columns]==x[\"max\"]][0],axis=1) # slow ~ 30s\n",
    "\n",
    "\n",
    "    df[\"leading_party\"] = df.idxmax(axis=1)\n",
    "    df[\"max\"] = df.max(axis=1)/max_z_size\n",
    "    surf_min = df[\"max\"].min()\n",
    "    surf_max = df[\"max\"].max()\n",
    "    if normalize_heights:       \n",
    "        df[\"max\"] = ( df[\"max\"]-surf_min ) / (surf_max-surf_min )\n",
    "\n",
    "    ######################\n",
    "\n",
    "    dominant_parties = list(df[\"leading_party\"].value_counts().index)\n",
    "    display(df[\"leading_party\"].value_counts())\n",
    "\n",
    "# \"Remain\":\"yellow\",\"Leave\":\"blue\",\n",
    "\n",
    "    legend_patch_list = []\n",
    "\n",
    "    count = 0\n",
    "    colour_list = []\n",
    "    repl_dict = {}\n",
    "    for party in dominant_parties:\n",
    "        repl_dict[party] = count\n",
    "\n",
    "        party_name = party.replace(\"ptv\",\"\").split(\"W\")[0]\n",
    "        if abbreviate_variables:\n",
    "            party_name = re.match(stub_var+\"(.*)W\\d+\",party).groups()[0]\n",
    "#         party.replace(\"like\",\"\").split(\"W\")[0]\n",
    "        colour = party_colour_dict[ party_name ]\n",
    "        colour_list.append( colour )\n",
    "        legend_patch_list.append( mpatches.Patch(color=colour, label=party_name) )\n",
    "        count=count+1\n",
    "\n",
    "    #######################\n",
    "\n",
    "\n",
    "#     cmap = colors.ListedColormap(colour_list)\n",
    "#     bounds=list(range(0,np.max(list(repl_dict.values()))+2))\n",
    "\n",
    "#     norm = colors.BoundaryNorm(bounds, cmap.N)\n",
    "#     colour_list = [\"yellow\",\"blue\"]\n",
    "    \n",
    "\n",
    "    from matplotlib import colors as mcolors\n",
    "    color_dict = dict(mcolors.BASE_COLORS, **mcolors.CSS4_COLORS)\n",
    "\n",
    "\n",
    "#     colour_list = ['yellow','blue']\n",
    "    eta = .001\n",
    "    cdict = {'red':[],'green':[],'blue':[],'alpha':[]}\n",
    "\n",
    "    n = len(colour_list)\n",
    "    anchor_pts = np.linspace(0.0,1.0,n+1)\n",
    "\n",
    "    for col_no in range(0,n):\n",
    "        x = anchor_pts[col_no]\n",
    "        col = mcolors.to_rgba( color_dict[ colour_list[col_no] ] )\n",
    "        cdict['red'].append(   (x,col[0],col[0]) )\n",
    "        cdict['green'].append( (x,col[1],col[1]) )\n",
    "        cdict['blue'].append(  (x,col[2],col[2]) )\n",
    "        cdict['alpha'].append(  (x,0.0,0.0 ) )\n",
    "\n",
    "        x = anchor_pts[col_no+1]-eta\n",
    "        if col_no ==(n-1):\n",
    "            x = x+eta\n",
    "        col = mcolors.to_rgba( color_dict[ colour_list[col_no] ] )\n",
    "        cdict['red'].append(   (x,col[0],col[0]) )\n",
    "        cdict['green'].append( (x,col[1],col[1]) )\n",
    "        cdict['blue'].append(  (x,col[2],col[2]) )\n",
    "        cdict['alpha'].append(  (x,1.0,1.0 ) )\n",
    "\n",
    "    plt.register_cmap(name='test', data=cdict)\n",
    "\n",
    "    df[\"leading_party\"] = df[\"leading_party\"].replace(repl_dict).astype('float')\n",
    "#     df[\"leading_party\"] = 1.0-df[\"leading_party\"]\n",
    "\n",
    "    res = df[\"leading_party\"].values.reshape((output_granularity,output_granularity))\n",
    "    res = (df[\"leading_party\"]+df[\"max\"]).values.reshape((output_granularity,output_granularity))\n",
    "\n",
    "    ######################\n",
    "#     plt.rcParams[\"axes.grid\"] = False\n",
    "#     title_text = \"Which parties have the highest Probability To Ever Vote\\nat any given Political Compass position?\"+title_extra\n",
    "#     title_text = \"How would/did/would you vote (again) in an EU referendum?\"+title_extra\n",
    "#     title_text = \"How would you vote in the next General Election?\"+title_extra\n",
    "    patchwork_title_text = title_base+title_extra\n",
    "    \n",
    "\n",
    "    # make a color map of fixed colors\n",
    "    plt.figure(figsize=(14,14));\n",
    "    # tell imshow about color map so that only set colors are used\n",
    "    print(np.min(res),np.max(res),len(colour_list))\n",
    "    img = plt.imshow(res/len(colour_list), origin='lower',\n",
    "                  cmap='test',interpolation='none',norm=None,vmin=0.0, vmax=1.0,\n",
    "                  extent = (0,granularity-1,0,granularity-1) )\n",
    "#                         cmap=cmap, norm=norm,\n",
    "    from matplotlib import cm\n",
    "    import matplotlib.ticker as ticker\n",
    "    def truncate_colormap(cmap, minval=0.0, maxval=1.0, n=100):\n",
    "        new_cmap = colors.LinearSegmentedColormap.from_list(\n",
    "            'trunc({n},{a:.2f},{b:.2f})'.format(n=cmap.name, a=minval, b=maxval),\n",
    "            cmap(np.linspace(minval, maxval, n)))\n",
    "        return new_cmap\n",
    "\n",
    "    cmap = plt.get_cmap('test')\n",
    "    new_cmap = truncate_colormap(cmap, 0.0, 1.0/n, 1000)    \n",
    "    \n",
    "    plt.colorbar(cm.ScalarMappable(norm=cm.colors.Normalize(vmax=surf_min*max_z_size, vmin=surf_max*max_z_size),\n",
    "                                   cmap=new_cmap),shrink=0.5, label = scale_text, format=ticker.FormatStrFormatter('%.1g'))\n",
    "    \n",
    "    plt.xlabel(x_axis);\n",
    "    plt.ylabel(y_axis);\n",
    "#     plt.rcParams[\"axes.grid\"] = False\n",
    "    plt.title(patchwork_title_text+overall_N_equal_text)\n",
    "    plt.locator_params(nbins=5)\n",
    "    plt.grid(None)\n",
    "\n",
    "    if pop_gridlines==True:\n",
    "\n",
    "        hmax = sns.kdeplot(pan_dataset_allr_values[x_axis][specific_mask],pan_dataset_allr_values[y_axis][specific_mask],\n",
    "                           cut=0, alpha=.2)\n",
    "        hmax.collections[0].set_alpha(0)\n",
    "\n",
    "\n",
    "    plt.legend(handles=legend_patch_list, bbox_to_anchor=(0.5, -0.095),loc=\"upper center\",\n",
    "               fancybox=True, shadow=True, title=cbar_text, ncol=5, fontsize=14)\n",
    "    plt.annotate(dataset_citation, (0,0), (0, -170),\n",
    "                     xycoords='axes fraction', textcoords='offset points', va='top', fontsize = 7) ;     \n",
    "\n",
    "\n",
    "    plt.savefig(BES_output_folder + treatment + os.sep + \"all_ptv_surfaces\"+\"_by_PC_territory\" + \".png\",\n",
    "                bbox_inches='tight')\n",
    "    plt.close()\n",
    "\n",
    "    ######################################\n",
    "\n",
    "    X,Y = grid\n",
    "    Z = df[\"max\"].values.reshape(X.shape)\n",
    "    # this seems to flip the axes!\n",
    "    # Plot the surface.\n",
    "    fig = plt.figure(figsize=(14,14));\n",
    "\n",
    "    ax = fig.add_subplot(111, projection='3d')\n",
    "    surf = ax.plot_surface(X, Y, Z, cmap=cm.coolwarm,\n",
    "                           linewidth=0, antialiased=False)\n",
    "\n",
    "    ax.set_title(title_text+overall_N_equal_text, fontsize=18)\n",
    "\n",
    "    # Customize the z axis.\n",
    "    ax.set_zlim(0, max_z_size);\n",
    "#     ax.zaxis.set_major_locator(LinearLocator(10));\n",
    "    plt.xlabel(y_axis, fontsize=14);\n",
    "    plt.ylabel(x_axis, fontsize=14);\n",
    "    plt.locator_params(nbins=5)\n",
    "    ax.tick_params(axis='both', which='major', labelsize=14)\n",
    "    ax.tick_params(axis='both', which='minor', labelsize=14)\n",
    "    ax.set_zlabel(patchwork_title_text+overall_N_equal_text, fontsize=14);\n",
    "    \n",
    "    fig.savefig(BES_output_folder + treatment + os.sep + \"all_ptv_surfaces\" +\"_by_PC_3D\" + \".png\",\n",
    "               bbox_inches='tight')\n",
    "    plt.close()\n",
    "    ################\n",
    "\n",
    "    plt.figure(figsize=(14,14));\n",
    "    img = plt.imshow(Z,interpolation = 'none',origin ='lower',\n",
    "              extent = (0,granularity-1,0,granularity-1)); #Apparently nice smooth linear-ish interpolation\n",
    "    plt.grid(None)\n",
    "    plt.locator_params(nbins=5)\n",
    "    cbar = plt.colorbar(img,shrink=0.5, aspect=5, label = scale_text);\n",
    "    plt.xlabel(x_axis);\n",
    "    plt.ylabel(y_axis);\n",
    "    plt.title(patchwork_title_text+overall_N_equal_text)\n",
    "    plt.savefig(BES_output_folder + treatment + os.sep + \"all_ptv_surfaces\" +\"_by_PC_interpolated\" + \".png\",\n",
    "                bbox_inches='tight')\n",
    "    plt.close()\n",
    "gc.collect()\n",
    "\n",
    "# plt.xticks(fontsize=14, rotation=90)"
   ]
  },
  {
   "cell_type": "code",
   "execution_count": 30,
   "metadata": {},
   "outputs": [
    {
     "data": {
      "text/plain": [
       "17"
      ]
     },
     "execution_count": 30,
     "metadata": {},
     "output_type": "execute_result"
    }
   ],
   "source": [
    "max_wave\n",
    "# list(range(1,max_wave))"
   ]
  },
  {
   "cell_type": "code",
   "execution_count": 31,
   "metadata": {},
   "outputs": [],
   "source": [
    "skip_waves = [5, 6,  9, 12]\n",
    "wave_list = [\"W\"+str(x) for x in list(range(1,max_wave)) if x not in skip_waves]"
   ]
  },
  {
   "cell_type": "code",
   "execution_count": 25,
   "metadata": {},
   "outputs": [
    {
     "data": {
      "text/plain": [
       "immigEconW1     30335\n",
       "immigEconW2     30240\n",
       "immigEconW3     28114\n",
       "immigEconW4     31444\n",
       "immigEconW7     30895\n",
       "immigEconW8     33502\n",
       "immigEconW10    30237\n",
       "immigEconW11    30956\n",
       "immigEconW13    31136\n",
       "immigEconW14    31063\n",
       "immigEconW15    30842\n",
       "immigEconW16    37959\n",
       "dtype: int64"
      ]
     },
     "execution_count": 25,
     "metadata": {},
     "output_type": "execute_result"
    }
   ],
   "source": [
    "search(BES_Panel,\"immigEcon\")"
   ]
  },
  {
   "cell_type": "code",
   "execution_count": 111,
   "metadata": {},
   "outputs": [],
   "source": [
    "### build animated gif\n",
    "\n",
    "\n",
    "filename_list = []\n",
    "sorted_wavelist = []\n",
    "# skip_waves = [ 1, 3, 4, 5, 7, 9, 10,11,13,15 ]\n",
    "for wave in wave_list:\n",
    "    \n",
    "    wave_no = int(wave.replace(\"W\",\"\"))\n",
    "    sorted_wavelist.append(wave_no)\n",
    "#     treatment = \"ptv_surface\"+wave+\"_\" + region + \"_LEAVE2016\"\n",
    "    treatment = stub_var+\"_surface\"+wave#+\"originalPC\"#+\"_\"\n",
    "    treatment = stub_var+\"_minusDKs\"+\"_surface\"+wave\n",
    "    if region is not None:\n",
    "            treatment = treatment+\"_\"+region\n",
    "#     treatment = \"eurefvote_surface\"+wave+\"originalPC\"\n",
    "#     C:\\Users\\Marios\\Documents\\GitHub\\BES_analysis\\BES_analysis_output\\leftRight_minusDKs_surfaceW16\n",
    "    filename_list.append( BES_output_folder + treatment + os.sep + \"all_ptv_surfaces\"+\"_by_PC_territory\" + \".png\" )\n",
    "\n",
    "\n",
    "\n",
    "import imageio\n",
    "\n",
    "\n",
    "images = []\n",
    "for filename in filename_list:\n",
    "    images.append(imageio.imread(filename))\n",
    "images.append(imageio.imread(filename)) # last slide delay doesn't seem to be being respected on twitter - so add the last one twice\n",
    "sorted_wavelist.append(wave_no)\n",
    "imageio.mimsave(BES_output_folder + treatment + os.sep +'animated_ptv_surfaces.gif', images,'GIF',\n",
    "                duration=[6.0 if x==np.min( sorted_wavelist ) or x==np.max( sorted_wavelist ) else 3.0 for x in sorted_wavelist])  "
   ]
  },
  {
   "cell_type": "code",
   "execution_count": 29,
   "metadata": {},
   "outputs": [
    {
     "data": {
      "text/html": [
       "['../BES_analysis_output/immigEcon_surfaceW1\\\\all_ptv_surfaces_by_PC_territory.png', '../BES_analysis_output/immigEcon_surfaceW2\\\\all_ptv_surfaces_by_PC_territory.png', '../BES_analysis_output/immigEcon_surfaceW3\\\\all_ptv_surfaces_by_PC_territory.png', '../BES_analysis_output/immigEcon_surfaceW4\\\\all_ptv_surfaces_by_PC_territory.png', '../BES_analysis_output/immigEcon_surfaceW7\\\\all_ptv_surfaces_by_PC_territory.png', '../BES_analysis_output/immigEcon_surfaceW8\\\\all_ptv_surfaces_by_PC_territory.png', '../BES_analysis_output/immigEcon_surfaceW10\\\\all_ptv_surfaces_by_PC_territory.png', '../BES_analysis_output/immigEcon_surfaceW11\\\\all_ptv_surfaces_by_PC_territory.png']"
      ],
      "text/plain": [
       "['../BES_analysis_output/immigEcon_surfaceW1\\\\all_ptv_surfaces_by_PC_territory.png',\n",
       " '../BES_analysis_output/immigEcon_surfaceW2\\\\all_ptv_surfaces_by_PC_territory.png',\n",
       " '../BES_analysis_output/immigEcon_surfaceW3\\\\all_ptv_surfaces_by_PC_territory.png',\n",
       " '../BES_analysis_output/immigEcon_surfaceW4\\\\all_ptv_surfaces_by_PC_territory.png',\n",
       " '../BES_analysis_output/immigEcon_surfaceW7\\\\all_ptv_surfaces_by_PC_territory.png',\n",
       " '../BES_analysis_output/immigEcon_surfaceW8\\\\all_ptv_surfaces_by_PC_territory.png',\n",
       " '../BES_analysis_output/immigEcon_surfaceW10\\\\all_ptv_surfaces_by_PC_territory.png',\n",
       " '../BES_analysis_output/immigEcon_surfaceW11\\\\all_ptv_surfaces_by_PC_territory.png']"
      ]
     },
     "execution_count": 29,
     "metadata": {},
     "output_type": "execute_result"
    }
   ],
   "source": [
    "filename_list"
   ]
  },
  {
   "cell_type": "code",
   "execution_count": 105,
   "metadata": {},
   "outputs": [
    {
     "data": {
      "text/html": [
       "<div>\n",
       "<style scoped>\n",
       "    .dataframe tbody tr th:only-of-type {\n",
       "        vertical-align: middle;\n",
       "    }\n",
       "\n",
       "    .dataframe tbody tr th {\n",
       "        vertical-align: top;\n",
       "    }\n",
       "\n",
       "    .dataframe thead th {\n",
       "        text-align: right;\n",
       "    }\n",
       "</style>\n",
       "<table border=\"1\" class=\"dataframe\">\n",
       "  <thead>\n",
       "    <tr style=\"text-align: right;\">\n",
       "      <th>euRefVoteW8</th>\n",
       "      <th>Don't know</th>\n",
       "      <th>I would/will not vote</th>\n",
       "      <th>Leave the EU</th>\n",
       "      <th>Stay/remain in the EU</th>\n",
       "    </tr>\n",
       "  </thead>\n",
       "  <tbody>\n",
       "    <tr>\n",
       "      <th>0</th>\n",
       "      <td>0</td>\n",
       "      <td>0</td>\n",
       "      <td>1</td>\n",
       "      <td>0</td>\n",
       "    </tr>\n",
       "    <tr>\n",
       "      <th>1</th>\n",
       "      <td>0</td>\n",
       "      <td>0</td>\n",
       "      <td>1</td>\n",
       "      <td>0</td>\n",
       "    </tr>\n",
       "    <tr>\n",
       "      <th>2</th>\n",
       "      <td>0</td>\n",
       "      <td>0</td>\n",
       "      <td>0</td>\n",
       "      <td>0</td>\n",
       "    </tr>\n",
       "    <tr>\n",
       "      <th>3</th>\n",
       "      <td>0</td>\n",
       "      <td>0</td>\n",
       "      <td>0</td>\n",
       "      <td>0</td>\n",
       "    </tr>\n",
       "    <tr>\n",
       "      <th>4</th>\n",
       "      <td>0</td>\n",
       "      <td>0</td>\n",
       "      <td>0</td>\n",
       "      <td>0</td>\n",
       "    </tr>\n",
       "    <tr>\n",
       "      <th>...</th>\n",
       "      <td>...</td>\n",
       "      <td>...</td>\n",
       "      <td>...</td>\n",
       "      <td>...</td>\n",
       "    </tr>\n",
       "    <tr>\n",
       "      <th>92582</th>\n",
       "      <td>0</td>\n",
       "      <td>0</td>\n",
       "      <td>0</td>\n",
       "      <td>0</td>\n",
       "    </tr>\n",
       "    <tr>\n",
       "      <th>92583</th>\n",
       "      <td>0</td>\n",
       "      <td>0</td>\n",
       "      <td>0</td>\n",
       "      <td>0</td>\n",
       "    </tr>\n",
       "    <tr>\n",
       "      <th>92584</th>\n",
       "      <td>0</td>\n",
       "      <td>0</td>\n",
       "      <td>0</td>\n",
       "      <td>0</td>\n",
       "    </tr>\n",
       "    <tr>\n",
       "      <th>92585</th>\n",
       "      <td>0</td>\n",
       "      <td>0</td>\n",
       "      <td>0</td>\n",
       "      <td>0</td>\n",
       "    </tr>\n",
       "    <tr>\n",
       "      <th>92586</th>\n",
       "      <td>0</td>\n",
       "      <td>0</td>\n",
       "      <td>0</td>\n",
       "      <td>0</td>\n",
       "    </tr>\n",
       "  </tbody>\n",
       "</table>\n",
       "<p>92587 rows × 4 columns</p>\n",
       "</div>"
      ],
      "text/plain": [
       "euRefVoteW8  Don't know  I would/will not vote  Leave the EU  \\\n",
       "0                     0                      0             1   \n",
       "1                     0                      0             1   \n",
       "2                     0                      0             0   \n",
       "3                     0                      0             0   \n",
       "4                     0                      0             0   \n",
       "...                 ...                    ...           ...   \n",
       "92582                 0                      0             0   \n",
       "92583                 0                      0             0   \n",
       "92584                 0                      0             0   \n",
       "92585                 0                      0             0   \n",
       "92586                 0                      0             0   \n",
       "\n",
       "euRefVoteW8  Stay/remain in the EU  \n",
       "0                                0  \n",
       "1                                0  \n",
       "2                                0  \n",
       "3                                0  \n",
       "4                                0  \n",
       "...                            ...  \n",
       "92582                            0  \n",
       "92583                            0  \n",
       "92584                            0  \n",
       "92585                            0  \n",
       "92586                            0  \n",
       "\n",
       "[92587 rows x 4 columns]"
      ]
     },
     "execution_count": 105,
     "metadata": {},
     "output_type": "execute_result"
    }
   ],
   "source": [
    "pd.get_dummies(BES_Panel[\"monarchW8\"])\n",
    "pd.get_dummies(BES_Panel[\"euRefVoteW8\"])"
   ]
  },
  {
   "cell_type": "code",
   "execution_count": null,
   "metadata": {},
   "outputs": [],
   "source": [
    "mask= BES_Panel[\"country\"]==\"England\""
   ]
  },
  {
   "cell_type": "code",
   "execution_count": 109,
   "metadata": {},
   "outputs": [
    {
     "data": {
      "text/plain": [
       "monarchW8\n",
       "Agree                         0.032702\n",
       "Disagree                     -0.107967\n",
       "Don't know                   -0.033315\n",
       "Neither agree nor disagree   -0.064289\n",
       "Strongly agree                0.296925\n",
       "Strongly disagree            -0.106666\n",
       "dtype: float64"
      ]
     },
     "execution_count": 109,
     "metadata": {},
     "output_type": "execute_result"
    }
   ],
   "source": [
    "pd.get_dummies(BES_Panel[\"monarchW8\"][mask]).corrwith(pd.get_dummies(BES_Panel[\"euRefVoteW8\"])[\"Leave the EU\"][mask])"
   ]
  },
  {
   "cell_type": "code",
   "execution_count": 110,
   "metadata": {},
   "outputs": [
    {
     "data": {
      "text/plain": [
       "monarchW8\n",
       "Agree                         0.043244\n",
       "Disagree                      0.165848\n",
       "Don't know                    0.006728\n",
       "Neither agree nor disagree    0.115872\n",
       "Strongly agree               -0.171165\n",
       "Strongly disagree             0.161606\n",
       "dtype: float64"
      ]
     },
     "execution_count": 110,
     "metadata": {},
     "output_type": "execute_result"
    }
   ],
   "source": [
    "pd.get_dummies(BES_Panel[\"monarchW8\"][mask]).corrwith(pd.get_dummies(BES_Panel[\"euRefVoteW8\"])[\"Stay/remain in the EU\"][mask])"
   ]
  },
  {
   "cell_type": "code",
   "execution_count": 118,
   "metadata": {},
   "outputs": [
    {
     "data": {
      "text/plain": [
       "0         True\n",
       "1        False\n",
       "2        False\n",
       "3        False\n",
       "4        False\n",
       "         ...  \n",
       "92582    False\n",
       "92583    False\n",
       "92584    False\n",
       "92585    False\n",
       "92586    False\n",
       "Name: monarchW8, Length: 92587, dtype: bool"
      ]
     },
     "execution_count": 118,
     "metadata": {},
     "output_type": "execute_result"
    }
   ],
   "source": [
    "Monarch_super_fans"
   ]
  },
  {
   "cell_type": "code",
   "execution_count": 83,
   "metadata": {},
   "outputs": [
    {
     "data": {
      "text/plain": [
       "monarchW8    33502\n",
       "dtype: int64"
      ]
     },
     "execution_count": 83,
     "metadata": {},
     "output_type": "execute_result"
    }
   ],
   "source": [
    "search(BES_Panel,\"monarch\")"
   ]
  },
  {
   "cell_type": "code",
   "execution_count": 75,
   "metadata": {},
   "outputs": [],
   "source": [
    "monarch = BES_Panel[\"monarchW8\"].cat.reorder_categories([\"Strongly disagree\",\"Disagree\", \"Neither agree nor disagree\", \"Agree\",   \"Strongly agree\", \"Don't know\", ]).replace(\"Don't know\",np.nan).cat.codes.replace(-1,np.nan)\n",
    "\n"
   ]
  },
  {
   "cell_type": "code",
   "execution_count": 71,
   "metadata": {},
   "outputs": [],
   "source": [
    "Monarch_super_fans = BES_Panel[\"monarchW8\"]==\"Strongly agree\"\n",
    "Monarch_super_fans[BES_Panel[\"monarchW8\"].isnull()] = np.nan\n"
   ]
  },
  {
   "cell_type": "code",
   "execution_count": 121,
   "metadata": {},
   "outputs": [
    {
     "data": {
      "text/plain": [
       "0.2095482701802033"
      ]
     },
     "execution_count": 121,
     "metadata": {},
     "output_type": "execute_result"
    }
   ],
   "source": [
    "Monarch_super_fans[mask].corr(voting_leave[mask])\n",
    "# Monarch_super_fans[mask].sum()"
   ]
  },
  {
   "cell_type": "code",
   "execution_count": null,
   "metadata": {},
   "outputs": [],
   "source": [
    "Monarch_super_fans[mask].corr(voting_leave[mask])"
   ]
  },
  {
   "cell_type": "code",
   "execution_count": 78,
   "metadata": {},
   "outputs": [
    {
     "data": {
      "text/plain": [
       "0.3108862625988299"
      ]
     },
     "execution_count": 78,
     "metadata": {},
     "output_type": "execute_result"
    }
   ],
   "source": [
    "Monarch_super_fans[mask].corr(pan_dataset_allr_values[pan_dataset_allr_values.columns[1]][mask])\n",
    "monarch[mask].corr(pan_dataset_allr_values[pan_dataset_allr_values.columns[1]][mask])"
   ]
  },
  {
   "cell_type": "code",
   "execution_count": 88,
   "metadata": {},
   "outputs": [
    {
     "data": {
      "text/plain": [
       "euRefVoteW8                32652\n",
       "profile_eurefvote          29168\n",
       "euRefVote2W8               28399\n",
       "euRefVoteUnsqueezeW8       28399\n",
       "euRefVoteW9                25477\n",
       "euRefVoteUnsqueezeW7       23789\n",
       "euRefVoteW7                23789\n",
       "euRefVoteW12               21878\n",
       "euRefVoteW13               20394\n",
       "euRefVoteW11               20365\n",
       "euRefVoteW10               19630\n",
       "euRefVoteW6                19210\n",
       "euRefVoteW4                19146\n",
       "euRefVoteW14               17286\n",
       "euRefVoteW3                16610\n",
       "euRefVoteW1                15745\n",
       "euRefVoteW15               15101\n",
       "euRefVoteW2                14180\n",
       "euRefVoteW16               12135\n",
       "euRefVotePostW8             4253\n",
       "euRefVoteSqueezeW8          3469\n",
       "euRefVoteSqueezeW7          3359\n",
       "euRefVoteHypotheticalW9     1422\n",
       "dtype: int64"
      ]
     },
     "execution_count": 88,
     "metadata": {},
     "output_type": "execute_result"
    }
   ],
   "source": [
    "search(BES_Panel,\"eurefvote\", mask = monarch.notnull()).sort_values(ascending=False)"
   ]
  },
  {
   "cell_type": "code",
   "execution_count": 96,
   "metadata": {},
   "outputs": [],
   "source": [
    "voting_leave = 1-BES_Panel[\"euRefVoteW8\"].cat.remove_categories([\"Don't know\", \"I would/will not vote\"]).cat.codes.replace(-1,np.nan)"
   ]
  },
  {
   "cell_type": "code",
   "execution_count": 111,
   "metadata": {},
   "outputs": [
    {
     "data": {
      "text/plain": [
       "0.24549800782357153"
      ]
     },
     "execution_count": 111,
     "metadata": {},
     "output_type": "execute_result"
    }
   ],
   "source": [
    "monarch[mask].corr(voting_leave[mask])"
   ]
  },
  {
   "cell_type": "code",
   "execution_count": 101,
   "metadata": {},
   "outputs": [
    {
     "data": {
      "text/plain": [
       "0.0    15793\n",
       "1.0    15215\n",
       "dtype: int64"
      ]
     },
     "execution_count": 101,
     "metadata": {},
     "output_type": "execute_result"
    }
   ],
   "source": [
    "BES_Panel[\"euRefVoteW8\"].cat.remove_categories([\"Don't know\", \"I would/will not vote\"]).cat.codes.replace(-1,np.nan).value_counts()"
   ]
  },
  {
   "cell_type": "code",
   "execution_count": 122,
   "metadata": {},
   "outputs": [
    {
     "data": {
      "text/plain": [
       "embesExpectationsGapW4    1369\n",
       "embesDiscriminationW4     1369\n",
       "embeshelpW4               1369\n",
       "dtype: int64"
      ]
     },
     "execution_count": 122,
     "metadata": {},
     "output_type": "execute_result"
    }
   ],
   "source": [
    "search(BES_Panel, \"embes\")"
   ]
  },
  {
   "cell_type": "code",
   "execution_count": 123,
   "metadata": {},
   "outputs": [
    {
     "data": {
      "text/plain": [
       "No, this would not make them more likely to help    627\n",
       "Don't know                                          403\n",
       "Yes, this would make them more likely to help       339\n",
       "Name: embeshelpW4, dtype: int64"
      ]
     },
     "execution_count": 123,
     "metadata": {},
     "output_type": "execute_result"
    }
   ],
   "source": [
    "BES_Panel[\"embeshelpW4\"].value_counts()"
   ]
  },
  {
   "cell_type": "code",
   "execution_count": 132,
   "metadata": {},
   "outputs": [
    {
     "data": {
      "text/plain": [
       "moreParl_1W14      4086\n",
       "moreParl_2W14      2910\n",
       "moreParl_3W14       925\n",
       "moreParl_4W14       645\n",
       "moreParl_5W14       646\n",
       "moreParl_6W14       338\n",
       "moreParl_7W14       447\n",
       "moreParl_8W14       276\n",
       "moreParl_9W14        71\n",
       "moreParl_10W14      341\n",
       "moreParl_111W14     517\n",
       "dtype: int64"
      ]
     },
     "execution_count": 132,
     "metadata": {},
     "output_type": "execute_result"
    }
   ],
   "source": [
    "(BES_Panel[search(BES_Panel, \"moreParl\").index]==\"Yes\").sum()"
   ]
  },
  {
   "cell_type": "code",
   "execution_count": null,
   "metadata": {},
   "outputs": [],
   "source": []
  },
  {
   "cell_type": "code",
   "execution_count": null,
   "metadata": {},
   "outputs": [],
   "source": []
  }
 ],
 "metadata": {
  "kernelspec": {
   "display_name": "Python [conda env:BES_analysis] *",
   "language": "python",
   "name": "conda-env-BES_analysis-py"
  },
  "language_info": {
   "codemirror_mode": {
    "name": "ipython",
    "version": 3
   },
   "file_extension": ".py",
   "mimetype": "text/x-python",
   "name": "python",
   "nbconvert_exporter": "python",
   "pygments_lexer": "ipython3",
   "version": "3.6.7"
  }
 },
 "nbformat": 4,
 "nbformat_minor": 2
}
