{
 "cells": [
  {
   "cell_type": "code",
   "execution_count": null,
   "metadata": {},
   "outputs": [],
   "source": []
  },
  {
   "cell_type": "code",
   "execution_count": 1,
   "metadata": {},
   "outputs": [],
   "source": [
    "dataset_name = \"W16_comb\"\n",
    "df_list = [\n",
    "           \"BES_Panel\",\n",
    "#            \"BES_reduced_with_na\",\n",
    "#            \"BESnumeric\"\n",
    "#            \"BES_reduced\",\n",
    "#            \"BESnumeric\"\n",
    "          ]"
   ]
  },
  {
   "cell_type": "code",
   "execution_count": 2,
   "metadata": {},
   "outputs": [
    {
     "data": {
      "image/png": "[encoded data removed]",
      "text/plain": [
       "<Figure size 720x72 with 1 Axes>"
      ]
     },
     "metadata": {},
     "output_type": "display_data"
    }
   ],
   "source": [
    "%matplotlib inline\n",
    "import numpy as np, pandas as pd, matplotlib.pyplot as plt, seaborn as sns\n",
    "import pickle, os, gc, re\n",
    "sns.set()\n",
    "sns.palplot(sns.color_palette(\"colorblind\"))\n",
    "from IPython.display import display, display_html, HTML\n",
    "plt.rcParams[\"axes.grid\"] = False\n",
    "\n",
    "import Jupyter_module_loader\n",
    "from utility import *\n",
    "import gaussian_kde\n"
   ]
  },
  {
   "cell_type": "code",
   "execution_count": 3,
   "metadata": {},
   "outputs": [],
   "source": [
    "# you should clone this git to a subdirectory called 'BES_analysis_code' (in some directory - I call it BES_analysis - doesn't matter though)\n",
    "# %matplotlib inline\n",
    "encoding = \"ISO-8859-1\"\n",
    "\n",
    "(BES_code_folder, BES_small_data_files, BES_data_folder,\n",
    " BES_output_folder, BES_file_manifest, BES_R_data_files) = setup_directories()\n",
    "\n"
   ]
  },
  {
   "cell_type": "code",
   "execution_count": 4,
   "metadata": {},
   "outputs": [
    {
     "name": "stderr",
     "output_type": "stream",
     "text": [
      "C:\\ProgramData\\Anaconda3\\envs\\BES_analysis\\lib\\site-packages\\IPython\\core\\interactiveshell.py:3326: FutureWarning: The read_msgpack is deprecated and will be removed in a future version.\n",
      "It is recommended to use pyarrow for on-the-wire transmission of pandas objects.\n",
      "  exec(code_obj, self.user_global_ns, self.user_ns)\n"
     ]
    }
   ],
   "source": [
    "global BES_Panel, BES_numeric, BES_reduced, BES_reduced_with_na, BES_non_numeric\n",
    "data_subfolder = BES_data_folder + dataset_name + os.sep\n",
    "\n",
    "(manifest, dataset_filename, dataset_description, dataset_citation,\n",
    " dataset_start, dataset_stop, dataset_wave) = get_manifest(dataset_name, BES_file_manifest)\n",
    "\n",
    "for df in df_list:\n",
    "    if df==\"BES_Panel\":\n",
    "        globals()[df]  = pd.read_msgpack(data_subfolder + dataset_filename.replace('.dta','.msgpack'))\n",
    "    else:\n",
    "        globals()[df]  = pd.read_msgpack(data_subfolder + df + '.msgpack' )\n",
    "        globals()[df].replace(-1,np.nan,inplace=True)\n",
    "  \n",
    "# (var_type, cat_dictionary, new_old_col_names, old_new_col_names) = get_small_files(data_subfolder, encoding)"
   ]
  },
  {
   "cell_type": "code",
   "execution_count": 5,
   "metadata": {},
   "outputs": [],
   "source": [
    "pan_dataset_allr_values = pd.read_csv(BES_small_data_files + \"pan_dataset_allr_values\"+\".csv\")"
   ]
  },
  {
   "cell_type": "code",
   "execution_count": 6,
   "metadata": {},
   "outputs": [],
   "source": [
    "global best_weight_series\n",
    "def weighted_mean(series):\n",
    "    return (series*best_weight_series.loc[series.index]).sum()/(best_weight_series.loc[series.index]).sum()\n"
   ]
  },
  {
   "cell_type": "code",
   "execution_count": 7,
   "metadata": {},
   "outputs": [],
   "source": [
    "replace_dict = {'Labour Party':\"LAB\", \n",
    " 'United Kingdom Independence Party (UKIP)':\"UKIP\",\n",
    " 'Labour':\"LAB\",\n",
    " 'Conservative Party':\"CON\",\n",
    " 'Conservative':\"CON\",\n",
    " 'Liberal Democrats':\"LD\",\n",
    " 'Did not vote':\"DNV\",\n",
    " 'Scottish National Party':\"SNP\",\n",
    " 'Scottish National Party (SNP)':\"SNP\",\n",
    " 'British National Party (BNP)':\"BNP\",\n",
    " 'Green Party':\"GRN\",\n",
    " 'Liberal Democrat':\"LD\",\n",
    " \"Don't know\":\"DK\",\n",
    " 'Some other party':\"OTH\",\n",
    " 'Veritas':\"VER\",\n",
    " 'Plaid Cymru':\"PC\",\n",
    " 'Other':\"OTH\",\n",
    " 'Respect':\"RES\",\n",
    " 'I would not vote':\"DNV\",\n",
    " 'No - none':\"NON\",\n",
    " \"Brexit Party\":\"BXP\",\n",
    " 'Change UK- The Independent Group':\"CUK\",\n",
    " \"Leave the EU\":\"LEAVE\",\n",
    " \"Stay/remain in the EU\":\"REMAIN\",}"
   ]
  },
  {
   "cell_type": "code",
   "execution_count": 44,
   "metadata": {},
   "outputs": [
    {
     "data": {
      "text/plain": [
       "{'black',\n",
       " 'blue',\n",
       " 'brown',\n",
       " 'chocolate',\n",
       " 'cyan',\n",
       " 'darkblue',\n",
       " 'darkgreen',\n",
       " 'darkorange',\n",
       " 'darkred',\n",
       " 'darkslategrey',\n",
       " 'darkviolet',\n",
       " 'dodgerblue',\n",
       " 'fuchsia',\n",
       " 'goldenrod',\n",
       " 'green',\n",
       " 'grey',\n",
       " 'indianred',\n",
       " 'indigo',\n",
       " 'lightblue',\n",
       " 'lightslategrey',\n",
       " 'limegreen',\n",
       " 'magenta',\n",
       " 'mediumspringgreen',\n",
       " 'navy',\n",
       " 'olive',\n",
       " 'orange',\n",
       " 'pink',\n",
       " 'purple',\n",
       " 'red',\n",
       " 'teal',\n",
       " 'tomato',\n",
       " 'yellow'}"
      ]
     },
     "execution_count": 44,
     "metadata": {},
     "output_type": "execute_result"
    }
   ],
   "source": []
  },
  {
   "cell_type": "code",
   "execution_count": 9,
   "metadata": {},
   "outputs": [
    {
     "ename": "KeyError",
     "evalue": "'ageGroup_equalised'",
     "output_type": "error",
     "traceback": [
      "\u001b[1;31m---------------------------------------------------------------------------\u001b[0m",
      "\u001b[1;31mKeyError\u001b[0m                                  Traceback (most recent call last)",
      "\u001b[1;32mC:\\ProgramData\\Anaconda3\\envs\\BES_analysis\\lib\\site-packages\\pandas\\core\\indexes\\base.py\u001b[0m in \u001b[0;36mget_loc\u001b[1;34m(self, key, method, tolerance)\u001b[0m\n\u001b[0;32m   2896\u001b[0m             \u001b[1;32mtry\u001b[0m\u001b[1;33m:\u001b[0m\u001b[1;33m\u001b[0m\u001b[1;33m\u001b[0m\u001b[0m\n\u001b[1;32m-> 2897\u001b[1;33m                 \u001b[1;32mreturn\u001b[0m \u001b[0mself\u001b[0m\u001b[1;33m.\u001b[0m\u001b[0m_engine\u001b[0m\u001b[1;33m.\u001b[0m\u001b[0mget_loc\u001b[0m\u001b[1;33m(\u001b[0m\u001b[0mkey\u001b[0m\u001b[1;33m)\u001b[0m\u001b[1;33m\u001b[0m\u001b[1;33m\u001b[0m\u001b[0m\n\u001b[0m\u001b[0;32m   2898\u001b[0m             \u001b[1;32mexcept\u001b[0m \u001b[0mKeyError\u001b[0m\u001b[1;33m:\u001b[0m\u001b[1;33m\u001b[0m\u001b[1;33m\u001b[0m\u001b[0m\n",
      "\u001b[1;32mpandas/_libs/index.pyx\u001b[0m in \u001b[0;36mpandas._libs.index.IndexEngine.get_loc\u001b[1;34m()\u001b[0m\n",
      "\u001b[1;32mpandas/_libs/index.pyx\u001b[0m in \u001b[0;36mpandas._libs.index.IndexEngine.get_loc\u001b[1;34m()\u001b[0m\n",
      "\u001b[1;32mpandas/_libs/hashtable_class_helper.pxi\u001b[0m in \u001b[0;36mpandas._libs.hashtable.PyObjectHashTable.get_item\u001b[1;34m()\u001b[0m\n",
      "\u001b[1;32mpandas/_libs/hashtable_class_helper.pxi\u001b[0m in \u001b[0;36mpandas._libs.hashtable.PyObjectHashTable.get_item\u001b[1;34m()\u001b[0m\n",
      "\u001b[1;31mKeyError\u001b[0m: 'ageGroup_equalised'",
      "\nDuring handling of the above exception, another exception occurred:\n",
      "\u001b[1;31mKeyError\u001b[0m                                  Traceback (most recent call last)",
      "\u001b[1;32m<ipython-input-9-12bd16db111a>\u001b[0m in \u001b[0;36m<module>\u001b[1;34m\u001b[0m\n\u001b[0;32m     22\u001b[0m \u001b[0mparty_colour_dict\u001b[0m\u001b[1;33m.\u001b[0m\u001b[0mupdate\u001b[0m\u001b[1;33m(\u001b[0m \u001b[1;33m{\u001b[0m\u001b[0mx\u001b[0m\u001b[1;33m:\u001b[0m\u001b[0mk\u001b[0m \u001b[1;32mfor\u001b[0m \u001b[0mx\u001b[0m\u001b[1;33m,\u001b[0m\u001b[0mk\u001b[0m \u001b[1;32min\u001b[0m \u001b[0mzip\u001b[0m\u001b[1;33m(\u001b[0m\u001b[0mageGroup_cats\u001b[0m\u001b[1;33m,\u001b[0m\u001b[0mlinear_colour_list\u001b[0m\u001b[1;33m[\u001b[0m\u001b[1;36m0\u001b[0m\u001b[1;33m:\u001b[0m\u001b[0mlen\u001b[0m\u001b[1;33m(\u001b[0m\u001b[0mageGroup_cats\u001b[0m\u001b[1;33m)\u001b[0m\u001b[1;33m+\u001b[0m\u001b[1;36m1\u001b[0m\u001b[1;33m]\u001b[0m\u001b[1;33m)\u001b[0m \u001b[1;32mif\u001b[0m \u001b[0mx\u001b[0m \u001b[1;33m!=\u001b[0m \u001b[1;34m\"Don't know\"\u001b[0m\u001b[1;33m}\u001b[0m \u001b[1;33m)\u001b[0m\u001b[1;33m\u001b[0m\u001b[1;33m\u001b[0m\u001b[0m\n\u001b[0;32m     23\u001b[0m \u001b[1;33m\u001b[0m\u001b[0m\n\u001b[1;32m---> 24\u001b[1;33m \u001b[0mageGroup_equalised_cats\u001b[0m \u001b[1;33m=\u001b[0m \u001b[0mBES_Panel\u001b[0m\u001b[1;33m[\u001b[0m\u001b[1;34m\"ageGroup_equalised\"\u001b[0m\u001b[1;33m]\u001b[0m\u001b[1;33m.\u001b[0m\u001b[0mastype\u001b[0m\u001b[1;33m(\u001b[0m\u001b[0mstr\u001b[0m\u001b[1;33m)\u001b[0m\u001b[1;33m.\u001b[0m\u001b[0mastype\u001b[0m\u001b[1;33m(\u001b[0m\u001b[1;34m'category'\u001b[0m\u001b[1;33m)\u001b[0m\u001b[1;33m.\u001b[0m\u001b[0mcat\u001b[0m\u001b[1;33m.\u001b[0m\u001b[0mcategories\u001b[0m\u001b[1;33m\u001b[0m\u001b[1;33m\u001b[0m\u001b[0m\n\u001b[0m\u001b[0;32m     25\u001b[0m \u001b[0mparty_colour_dict\u001b[0m\u001b[1;33m.\u001b[0m\u001b[0mupdate\u001b[0m\u001b[1;33m(\u001b[0m \u001b[1;33m{\u001b[0m\u001b[0mx\u001b[0m\u001b[1;33m:\u001b[0m\u001b[0mk\u001b[0m \u001b[1;32mfor\u001b[0m \u001b[0mx\u001b[0m\u001b[1;33m,\u001b[0m\u001b[0mk\u001b[0m \u001b[1;32min\u001b[0m \u001b[0mzip\u001b[0m\u001b[1;33m(\u001b[0m\u001b[0mageGroup_equalised_cats\u001b[0m\u001b[1;33m,\u001b[0m\u001b[0mlinear_colour_list\u001b[0m\u001b[1;33m[\u001b[0m\u001b[1;36m0\u001b[0m\u001b[1;33m:\u001b[0m\u001b[0mlen\u001b[0m\u001b[1;33m(\u001b[0m\u001b[0mageGroup_equalised_cats\u001b[0m\u001b[1;33m)\u001b[0m\u001b[1;33m+\u001b[0m\u001b[1;36m1\u001b[0m\u001b[1;33m]\u001b[0m\u001b[1;33m)\u001b[0m \u001b[1;32mif\u001b[0m \u001b[0mx\u001b[0m \u001b[1;33m!=\u001b[0m \u001b[1;34m\"Don't know\"\u001b[0m\u001b[1;33m}\u001b[0m \u001b[1;33m)\u001b[0m\u001b[1;33m\u001b[0m\u001b[1;33m\u001b[0m\u001b[0m\n",
      "\u001b[1;32mC:\\ProgramData\\Anaconda3\\envs\\BES_analysis\\lib\\site-packages\\pandas\\core\\frame.py\u001b[0m in \u001b[0;36m__getitem__\u001b[1;34m(self, key)\u001b[0m\n\u001b[0;32m   2993\u001b[0m             \u001b[1;32mif\u001b[0m \u001b[0mself\u001b[0m\u001b[1;33m.\u001b[0m\u001b[0mcolumns\u001b[0m\u001b[1;33m.\u001b[0m\u001b[0mnlevels\u001b[0m \u001b[1;33m>\u001b[0m \u001b[1;36m1\u001b[0m\u001b[1;33m:\u001b[0m\u001b[1;33m\u001b[0m\u001b[1;33m\u001b[0m\u001b[0m\n\u001b[0;32m   2994\u001b[0m                 \u001b[1;32mreturn\u001b[0m \u001b[0mself\u001b[0m\u001b[1;33m.\u001b[0m\u001b[0m_getitem_multilevel\u001b[0m\u001b[1;33m(\u001b[0m\u001b[0mkey\u001b[0m\u001b[1;33m)\u001b[0m\u001b[1;33m\u001b[0m\u001b[1;33m\u001b[0m\u001b[0m\n\u001b[1;32m-> 2995\u001b[1;33m             \u001b[0mindexer\u001b[0m \u001b[1;33m=\u001b[0m \u001b[0mself\u001b[0m\u001b[1;33m.\u001b[0m\u001b[0mcolumns\u001b[0m\u001b[1;33m.\u001b[0m\u001b[0mget_loc\u001b[0m\u001b[1;33m(\u001b[0m\u001b[0mkey\u001b[0m\u001b[1;33m)\u001b[0m\u001b[1;33m\u001b[0m\u001b[1;33m\u001b[0m\u001b[0m\n\u001b[0m\u001b[0;32m   2996\u001b[0m             \u001b[1;32mif\u001b[0m \u001b[0mis_integer\u001b[0m\u001b[1;33m(\u001b[0m\u001b[0mindexer\u001b[0m\u001b[1;33m)\u001b[0m\u001b[1;33m:\u001b[0m\u001b[1;33m\u001b[0m\u001b[1;33m\u001b[0m\u001b[0m\n\u001b[0;32m   2997\u001b[0m                 \u001b[0mindexer\u001b[0m \u001b[1;33m=\u001b[0m \u001b[1;33m[\u001b[0m\u001b[0mindexer\u001b[0m\u001b[1;33m]\u001b[0m\u001b[1;33m\u001b[0m\u001b[1;33m\u001b[0m\u001b[0m\n",
      "\u001b[1;32mC:\\ProgramData\\Anaconda3\\envs\\BES_analysis\\lib\\site-packages\\pandas\\core\\indexes\\base.py\u001b[0m in \u001b[0;36mget_loc\u001b[1;34m(self, key, method, tolerance)\u001b[0m\n\u001b[0;32m   2897\u001b[0m                 \u001b[1;32mreturn\u001b[0m \u001b[0mself\u001b[0m\u001b[1;33m.\u001b[0m\u001b[0m_engine\u001b[0m\u001b[1;33m.\u001b[0m\u001b[0mget_loc\u001b[0m\u001b[1;33m(\u001b[0m\u001b[0mkey\u001b[0m\u001b[1;33m)\u001b[0m\u001b[1;33m\u001b[0m\u001b[1;33m\u001b[0m\u001b[0m\n\u001b[0;32m   2898\u001b[0m             \u001b[1;32mexcept\u001b[0m \u001b[0mKeyError\u001b[0m\u001b[1;33m:\u001b[0m\u001b[1;33m\u001b[0m\u001b[1;33m\u001b[0m\u001b[0m\n\u001b[1;32m-> 2899\u001b[1;33m                 \u001b[1;32mreturn\u001b[0m \u001b[0mself\u001b[0m\u001b[1;33m.\u001b[0m\u001b[0m_engine\u001b[0m\u001b[1;33m.\u001b[0m\u001b[0mget_loc\u001b[0m\u001b[1;33m(\u001b[0m\u001b[0mself\u001b[0m\u001b[1;33m.\u001b[0m\u001b[0m_maybe_cast_indexer\u001b[0m\u001b[1;33m(\u001b[0m\u001b[0mkey\u001b[0m\u001b[1;33m)\u001b[0m\u001b[1;33m)\u001b[0m\u001b[1;33m\u001b[0m\u001b[1;33m\u001b[0m\u001b[0m\n\u001b[0m\u001b[0;32m   2900\u001b[0m         \u001b[0mindexer\u001b[0m \u001b[1;33m=\u001b[0m \u001b[0mself\u001b[0m\u001b[1;33m.\u001b[0m\u001b[0mget_indexer\u001b[0m\u001b[1;33m(\u001b[0m\u001b[1;33m[\u001b[0m\u001b[0mkey\u001b[0m\u001b[1;33m]\u001b[0m\u001b[1;33m,\u001b[0m \u001b[0mmethod\u001b[0m\u001b[1;33m=\u001b[0m\u001b[0mmethod\u001b[0m\u001b[1;33m,\u001b[0m \u001b[0mtolerance\u001b[0m\u001b[1;33m=\u001b[0m\u001b[0mtolerance\u001b[0m\u001b[1;33m)\u001b[0m\u001b[1;33m\u001b[0m\u001b[1;33m\u001b[0m\u001b[0m\n\u001b[0;32m   2901\u001b[0m         \u001b[1;32mif\u001b[0m \u001b[0mindexer\u001b[0m\u001b[1;33m.\u001b[0m\u001b[0mndim\u001b[0m \u001b[1;33m>\u001b[0m \u001b[1;36m1\u001b[0m \u001b[1;32mor\u001b[0m \u001b[0mindexer\u001b[0m\u001b[1;33m.\u001b[0m\u001b[0msize\u001b[0m \u001b[1;33m>\u001b[0m \u001b[1;36m1\u001b[0m\u001b[1;33m:\u001b[0m\u001b[1;33m\u001b[0m\u001b[1;33m\u001b[0m\u001b[0m\n",
      "\u001b[1;32mpandas/_libs/index.pyx\u001b[0m in \u001b[0;36mpandas._libs.index.IndexEngine.get_loc\u001b[1;34m()\u001b[0m\n",
      "\u001b[1;32mpandas/_libs/index.pyx\u001b[0m in \u001b[0;36mpandas._libs.index.IndexEngine.get_loc\u001b[1;34m()\u001b[0m\n",
      "\u001b[1;32mpandas/_libs/hashtable_class_helper.pxi\u001b[0m in \u001b[0;36mpandas._libs.hashtable.PyObjectHashTable.get_item\u001b[1;34m()\u001b[0m\n",
      "\u001b[1;32mpandas/_libs/hashtable_class_helper.pxi\u001b[0m in \u001b[0;36mpandas._libs.hashtable.PyObjectHashTable.get_item\u001b[1;34m()\u001b[0m\n",
      "\u001b[1;31mKeyError\u001b[0m: 'ageGroup_equalised'"
     ]
    }
   ],
   "source": [
    "linear_colour_list = ['blue','cyan','yellow','olive','green','limegreen','orange','brown','pink','purple','red']\n",
    "howToReduceDeficit_cats = ['Only by increasing taxes','Mainly by increasing taxes, but also by cutting spending','An equal balance of spending cuts and tax increases', \n",
    "'Mainly by cutting spending, but with some tax increases','Only by cutting spending',\"Don't know\"   ]\n",
    "party_colour_dict.update( {x:k for x,k in zip(howToReduceDeficit_cats,linear_colour_list[0:len(howToReduceDeficit_cats)+1]) if x != \"Don't know\"} )\n",
    "\n",
    "leftRight_cats = ['Left', '1', '2', '3', '4', '5', '6', '7', '8', '9', 'Right',\n",
    "       \"Don't know\"]\n",
    "party_colour_dict.update( {x:k for x,k in zip(leftRight_cats,linear_colour_list[0:len(leftRight_cats)+1]) if x != \"Don't know\"} )\n",
    "\n",
    "cutsTooFarNational_cats = ['Not gone nearly far enough', 'Not gone far enough', 'About right', 'Gone too far','Gone much too far', \"Don't know\"]\n",
    "party_colour_dict.update( {x:k for x,k in zip(cutsTooFarNational_cats,linear_colour_list[0:len(cutsTooFarNational_cats)+1]) if x != \"Don't know\"} )\n",
    "\n",
    "taxSpendSelf_cats = ['Government should cut taxes a lot and spend much less on health and social services','1', '2', '3', '4', '5', '6', '7', '8', '9',       \n",
    "       'Government should increase taxes a lot and spend much more on health and social services', \"Don't know\"]\n",
    "party_colour_dict.update( {x:k for x,k in zip(taxSpendSelf_cats,linear_colour_list[0:len(taxSpendSelf_cats)+1]) if x != \"Don't know\"} )\n",
    "\n",
    "\n",
    "spend_cats = [ 'Spend much less','Spend less', 'Spend the same as now', 'Spend more','Spend much more',\"Don't know\"]\n",
    "party_colour_dict.update( {x:k for x,k in zip(spend_cats,linear_colour_list[0:len(spend_cats)+1]) if x != \"Don't know\"} )\n",
    "\n",
    "ageGroup_cats = ['Under 18', '18-25', '26-35', '36-45', '46-55', '56-65', '66+']\n",
    "party_colour_dict.update( {x:k for x,k in zip(ageGroup_cats,linear_colour_list[0:len(ageGroup_cats)+1]) if x != \"Don't know\"} )\n",
    "\n",
    "ageGroup_equalised_cats = BES_Panel[\"ageGroup_equalised\"].astype(str).astype('category').cat.categories\n",
    "party_colour_dict.update( {x:k for x,k in zip(ageGroup_equalised_cats,linear_colour_list[0:len(ageGroup_equalised_cats)+1]) if x != \"Don't know\"} )"
   ]
  },
  {
   "cell_type": "code",
   "execution_count": 71,
   "metadata": {},
   "outputs": [
    {
     "data": {
      "text/plain": [
       "{'Lab': 'red',\n",
       " 'LAB': 'red',\n",
       " 'Con': 'blue',\n",
       " 'CON': 'blue',\n",
       " 'UKIP': 'purple',\n",
       " 'LD': 'orange',\n",
       " 'Grn': 'green',\n",
       " 'GRN': 'green',\n",
       " 'BrexitParty': 'cyan',\n",
       " 'BXP': 'cyan',\n",
       " 'TIG': 'pink',\n",
       " 'BNP': 'magenta',\n",
       " 'SNP': 'yellow',\n",
       " 'PC': 'olive',\n",
       " 'Remain': 'yellow',\n",
       " 'REMAIN': 'yellow',\n",
       " 'Leave': 'blue',\n",
       " 'LEAVE': 'blue',\n",
       " \"Don't know\": 'grey',\n",
       " 'DK': 'grey',\n",
       " \"Won't vote\": 'black',\n",
       " 'DNV': 'black',\n",
       " 'NON': 'black',\n",
       " 'Cameron': 'navy',\n",
       " 'May': 'blue',\n",
       " 'Osborne': 'darkblue',\n",
       " 'Davidson': 'darkblue',\n",
       " 'Boris': 'cyan',\n",
       " 'Gove': 'darkviolet',\n",
       " 'Rudd': 'teal',\n",
       " 'Mogg': 'lightblue',\n",
       " 'Hunt': 'grey',\n",
       " 'Javid': 'dodgerblue',\n",
       " 'Davis': 'lightblue',\n",
       " 'Salmond': 'goldenrod',\n",
       " 'Sturgeon': 'yellow',\n",
       " 'Miliband': 'red',\n",
       " 'Corbyn': 'red',\n",
       " 'Blair': 'indianred',\n",
       " 'AlanJohnson': 'pink',\n",
       " 'Watson': 'chocolate',\n",
       " 'McDonnell': 'darkred',\n",
       " 'Jarvis': 'tomato',\n",
       " 'Leonard': 'pink',\n",
       " 'Wood': 'olive',\n",
       " 'Price': 'olive',\n",
       " 'Umunna': 'lightslategrey',\n",
       " 'Berger': 'darkslategrey',\n",
       " 'Soubry': 'mediumspringgreen',\n",
       " 'Allen': 'darkslategrey',\n",
       " 'Clegg': 'orange',\n",
       " 'Farron': 'orange',\n",
       " 'Cable': 'orange',\n",
       " 'Rennie': 'darkorange',\n",
       " 'Farage': 'purple',\n",
       " 'SEvans': 'fuchsia',\n",
       " 'Nuttall': 'indigo',\n",
       " 'Batten': 'indigo',\n",
       " 'Bennett': 'green',\n",
       " 'Lucas': 'limegreen',\n",
       " 'Harvie': 'green',\n",
       " 'Berry': 'darkgreen',\n",
       " 'Bartley': 'limegreen',\n",
       " 'Allow many fewer': 'blue',\n",
       " '1': 'cyan',\n",
       " 'Bad for economy': 'cyan',\n",
       " 'Undermines cultural life': 'cyan',\n",
       " 'Strongly disagree': 'cyan',\n",
       " 'It is completely necessary': 'cyan',\n",
       " '2': 'yellow',\n",
       " 'Disagree': 'yellow',\n",
       " 'It is important but not absolutely  necessary': 'yellow',\n",
       " '3': 'olive',\n",
       " 'Neither agree nor disagree': 'olive',\n",
       " 'It is not necessary but it would be desirable': 'olive',\n",
       " '4': 'green',\n",
       " 'Agree': 'green',\n",
       " 'It is completely unnecessary': 'green',\n",
       " '5': 'limegreen',\n",
       " 'Strongly agree': 'limegreen',\n",
       " '6': 'orange',\n",
       " '7': 'brown',\n",
       " 'Good for economy': 'brown',\n",
       " 'Enriches cultural life': 'brown',\n",
       " '8': 'pink',\n",
       " '9': 'purple',\n",
       " 'Allow many more': 'red',\n",
       " 'The Sun': 'cyan',\n",
       " 'The Guardian': 'green',\n",
       " 'The Mirror / Daily Record': 'red',\n",
       " 'The Daily Mail / The Scottish Daily Mail': 'blue',\n",
       " 'The Times': 'yellow',\n",
       " 'Â£10,000 to Â£14,999 per year': 'purple',\n",
       " 'Â£100,000 to Â£149,999 per year': 'orange',\n",
       " 'Â£150,000 and over': 'red',\n",
       " 'Â£5,000 to Â£9,999 per year': 'green',\n",
       " 'Â£25,000 to Â£29,999 per year': 'indigo',\n",
       " 'Â£15,000 to Â£19,999 per year': 'indianred',\n",
       " 'under Â£5,000 per year': 'lightblue',\n",
       " 'Â£45,000 to Â£49,999 per year': 'black',\n",
       " 'Â£40,000 to Â£44,999 per year': 'cyan',\n",
       " 'Â£30,000 to Â£34,999 per year': 'brown',\n",
       " 'Â£60,000 to Â£69,999 per year': 'fuchsia',\n",
       " 'Â£35,000 to Â£39,999 per year': 'limegreen',\n",
       " 'Â£70,000 to Â£99,999 per year': 'darkred',\n",
       " 'Â£50,000 to Â£59,999 per year': 'darkviolet',\n",
       " 'Prefer not to answer': 'indigo',\n",
       " 'Â£100,000 and over': 'purple',\n",
       " 'Â£20,000 to Â£24,999 per year': 'fuchsia'}"
      ]
     },
     "execution_count": 71,
     "metadata": {},
     "output_type": "execute_result"
    }
   ],
   "source": [
    "party_colour_dict"
   ]
  },
  {
   "cell_type": "code",
   "execution_count": 61,
   "metadata": {},
   "outputs": [
    {
     "data": {
      "text/html": [
       "['grey', 'orange', 'red', 'green', 'purple', 'indigo', 'indigo', 'indianred', 'lightblue', 'black', 'fuchsia', 'limegreen', 'darkred', 'darkviolet', 'cyan']"
      ],
      "text/plain": [
       "['grey',\n",
       " 'orange',\n",
       " 'red',\n",
       " 'green',\n",
       " 'purple',\n",
       " 'indigo',\n",
       " 'indigo',\n",
       " 'indianred',\n",
       " 'lightblue',\n",
       " 'black',\n",
       " 'fuchsia',\n",
       " 'limegreen',\n",
       " 'darkred',\n",
       " 'darkviolet',\n",
       " 'cyan']"
      ]
     },
     "execution_count": 61,
     "metadata": {},
     "output_type": "execute_result"
    }
   ],
   "source": [
    "colour_list"
   ]
  },
  {
   "cell_type": "code",
   "execution_count": 55,
   "metadata": {},
   "outputs": [
    {
     "data": {
      "text/plain": [
       "ageW1       30386\n",
       "ageW7       30895\n",
       "ageW8       33502\n",
       "ageW9       30036\n",
       "ageW11      30956\n",
       "ageW12      34394\n",
       "ageW13      31136\n",
       "ageW14      31063\n",
       "ageW16      37959\n",
       "ageW15      30831\n",
       "ageGroup    66552\n",
       "Age         66552\n",
       "dtype: int64"
      ]
     },
     "execution_count": 55,
     "metadata": {},
     "output_type": "execute_result"
    }
   ],
   "source": [
    "search(BES_Panel,\"^age($|W|Group)\")"
   ]
  },
  {
   "cell_type": "code",
   "execution_count": 64,
   "metadata": {},
   "outputs": [
    {
     "data": {
      "text/html": [
       "['olive', 'purple', 'orange', 'red', 'green', 'indigo', 'indianred', 'lightblue', 'black', 'cyan', 'brown', 'fuchsia', 'limegreen', 'darkred', 'darkviolet', 'navy', 'blue', 'chocolate', 'darkblue', 'pink', 'darkgreen', 'yellow', 'dodgerblue', 'magenta', 'mediumspringgreen', 'tomato', 'teal', 'goldenrod', 'darkorange']"
      ],
      "text/plain": [
       "['olive',\n",
       " 'purple',\n",
       " 'orange',\n",
       " 'red',\n",
       " 'green',\n",
       " 'indigo',\n",
       " 'indianred',\n",
       " 'lightblue',\n",
       " 'black',\n",
       " 'cyan',\n",
       " 'brown',\n",
       " 'fuchsia',\n",
       " 'limegreen',\n",
       " 'darkred',\n",
       " 'darkviolet',\n",
       " 'navy',\n",
       " 'blue',\n",
       " 'chocolate',\n",
       " 'darkblue',\n",
       " 'pink',\n",
       " 'darkgreen',\n",
       " 'yellow',\n",
       " 'dodgerblue',\n",
       " 'magenta',\n",
       " 'mediumspringgreen',\n",
       " 'tomato',\n",
       " 'teal',\n",
       " 'goldenrod',\n",
       " 'darkorange']"
      ]
     },
     "execution_count": 64,
     "metadata": {},
     "output_type": "execute_result"
    }
   ],
   "source": [
    "big_set_of_colours"
   ]
  },
  {
   "cell_type": "code",
   "execution_count": 45,
   "metadata": {},
   "outputs": [
    {
     "ename": "NameError",
     "evalue": "name 'Age_at_W1' is not defined",
     "output_type": "error",
     "traceback": [
      "\u001b[1;31m---------------------------------------------------------------------------\u001b[0m",
      "\u001b[1;31mNameError\u001b[0m                                 Traceback (most recent call last)",
      "\u001b[1;32m<ipython-input-45-f12d71dee67f>\u001b[0m in \u001b[0;36m<module>\u001b[1;34m\u001b[0m\n\u001b[1;32m----> 1\u001b[1;33m \u001b[0mequalisedAgeGroup_at_W1\u001b[0m \u001b[1;33m=\u001b[0m \u001b[0mpd\u001b[0m\u001b[1;33m.\u001b[0m\u001b[0mqcut\u001b[0m\u001b[1;33m(\u001b[0m\u001b[0mAge_at_W1\u001b[0m\u001b[1;33m,\u001b[0m\u001b[0mq\u001b[0m\u001b[1;33m=\u001b[0m\u001b[1;36m8\u001b[0m\u001b[1;33m,\u001b[0m \u001b[0mprecision\u001b[0m\u001b[1;33m=\u001b[0m\u001b[1;36m0\u001b[0m\u001b[1;33m)\u001b[0m\u001b[1;33m\u001b[0m\u001b[1;33m\u001b[0m\u001b[0m\n\u001b[0m\u001b[0;32m      2\u001b[0m \u001b[1;31m# equalisedAgeGroup_at_W1.value_counts().sort_index()\u001b[0m\u001b[1;33m\u001b[0m\u001b[1;33m\u001b[0m\u001b[1;33m\u001b[0m\u001b[0m\n\u001b[0;32m      3\u001b[0m \u001b[0mBES_Panel\u001b[0m\u001b[1;33m[\u001b[0m\u001b[1;34m\"ageGroup_full\"\u001b[0m\u001b[1;33m]\u001b[0m \u001b[1;33m=\u001b[0m \u001b[0mpan_dataset_ages\u001b[0m\u001b[1;33m[\u001b[0m\u001b[1;34m\"standardAgeGroup_at_W1\"\u001b[0m\u001b[1;33m]\u001b[0m\u001b[1;33m\u001b[0m\u001b[1;33m\u001b[0m\u001b[0m\n\u001b[0;32m      4\u001b[0m \u001b[0mBES_Panel\u001b[0m\u001b[1;33m[\u001b[0m\u001b[1;34m\"ageGroup_equalised\"\u001b[0m\u001b[1;33m]\u001b[0m \u001b[1;33m=\u001b[0m \u001b[0mequalisedAgeGroup_at_W1\u001b[0m\u001b[1;33m\u001b[0m\u001b[1;33m\u001b[0m\u001b[0m\n\u001b[0;32m      5\u001b[0m \u001b[1;33m\u001b[0m\u001b[0m\n",
      "\u001b[1;31mNameError\u001b[0m: name 'Age_at_W1' is not defined"
     ]
    }
   ],
   "source": [
    "equalisedAgeGroup_at_W1 = pd.qcut(Age_at_W1,q=8, precision=0)\n",
    "# equalisedAgeGroup_at_W1.value_counts().sort_index()\n",
    "BES_Panel[\"ageGroup_full\"] = pan_dataset_ages[\"standardAgeGroup_at_W1\"]\n",
    "BES_Panel[\"ageGroup_equalised\"] = equalisedAgeGroup_at_W1\n",
    "\n",
    "BES_Panel[\"ageGroup_equalised\"] = BES_Panel[\"ageGroup_equalised\"].astype(str).astype('category')#.cat.categories\n",
    "nicer_age_group_labels = [x.replace(\"(\",\"\").replace(\"]\",\"\").replace(\".0\",\"\").replace(\" \",\"\").replace(\",\",\"-\") for x in BES_Panel[\"ageGroup_equalised\"].cat.categories]\n",
    "BES_Panel[\"ageGroup_equalised\"].cat.rename_categories(nicer_age_group_labels, inplace=True)"
   ]
  },
  {
   "cell_type": "code",
   "execution_count": 83,
   "metadata": {},
   "outputs": [],
   "source": [
    "BES_Panel[\"housing\"] = BES_Panel[\"housing\"].replace(9999,\"Don't know\").cat.remove_unused_categories()\n",
    "\n",
    "cats = BES_Panel[\"profile_gross_household\"].cat.categories\n",
    "BES_Panel[\"profile_gross_household\"].cat.rename_categories( [x.replace(\"Â\",\"\") for x in cats],inplace=True)\n",
    "party_colour_dict.update( {x:k for x,k in zip(cats,linear_colour_list[0:len(cats)+1]) if x != \"Don't know\"} )"
   ]
  },
  {
   "cell_type": "code",
   "execution_count": 198,
   "metadata": {},
   "outputs": [
    {
     "data": {
      "text/plain": [
       "(30.0, 38.0]    11688\n",
       "(38.0, 46.0]    11603\n",
       "(60.0, 66.0]    11583\n",
       "(12.0, 22.0]    11583\n",
       "(53.0, 60.0]    11573\n",
       "(22.0, 30.0]    11564\n",
       "(66.0, 95.0]    11563\n",
       "(46.0, 53.0]    11427\n",
       "Name: equalisedAgeGroup_at_W1, dtype: int64"
      ]
     },
     "execution_count": 198,
     "metadata": {},
     "output_type": "execute_result"
    }
   ],
   "source": [
    "pan_dataset_ages = pd.read_csv( BES_small_data_files + \"pan_dataset_ages\"+\".csv\" )\n",
    "pan_dataset_ages[\"equalisedAgeGroup_at_W1\"].value_counts()"
   ]
  },
  {
   "cell_type": "code",
   "execution_count": 199,
   "metadata": {},
   "outputs": [],
   "source": [
    "BES_Panel[\"ageGroup_full\"] = pan_dataset_ages[\"standardAgeGroup_at_W1\"]\n",
    "\n",
    "BES_Panel[\"ageGroup_equalised\"] = pan_dataset_ages[\"equalisedAgeGroup_at_W1\"].astype(str).astype('category')#.cat.categories\n",
    "nicer_age_group_labels = [x.replace(\"(\",\"\").replace(\"]\",\"\").replace(\".0\",\"\").replace(\" \",\"\").replace(\",\",\"-\") for x in BES_Panel[\"ageGroup_equalised\"].cat.categories]\n",
    "BES_Panel[\"ageGroup_equalised\"].cat.rename_categories(nicer_age_group_labels, inplace=True)"
   ]
  },
  {
   "cell_type": "code",
   "execution_count": 185,
   "metadata": {},
   "outputs": [
    {
     "data": {
      "text/plain": [
       "0             66+\n",
       "1             66+\n",
       "2        Under 18\n",
       "3           56-65\n",
       "4        Under 18\n",
       "           ...   \n",
       "92582       46-55\n",
       "92583       36-45\n",
       "92584         66+\n",
       "92585       36-45\n",
       "92586       36-45\n",
       "Name: standardAgeGroup_at_W1, Length: 92587, dtype: object"
      ]
     },
     "execution_count": 185,
     "metadata": {},
     "output_type": "execute_result"
    }
   ],
   "source": [
    "pan_dataset_ages[\"standardAgeGroup_at_W1\"]"
   ]
  },
  {
   "cell_type": "code",
   "execution_count": 191,
   "metadata": {},
   "outputs": [
    {
     "data": {
      "text/plain": [
       "Index(['edlevelW1_W6', 'edlevelW7', 'edlevelW8W9W10', 'edlevelW11',\n",
       "       'edlevelW12', 'edlevelW13', 'edlevelW14', 'edlevelW15', 'edlevelW16'],\n",
       "      dtype='object')"
      ]
     },
     "execution_count": 191,
     "metadata": {},
     "output_type": "execute_result"
    }
   ],
   "source": [
    "search(BES_Panel,\"edlevel\").index"
   ]
  },
  {
   "cell_type": "code",
   "execution_count": 195,
   "metadata": {},
   "outputs": [
    {
     "data": {
      "text/plain": [
       "Undergraduate        13196\n",
       "A-level               7595\n",
       "GCSE                  7156\n",
       "Postgrad              3208\n",
       "No qualifications     2292\n",
       "Below GCSE            1457\n",
       "Name: edlevelW16, dtype: int64"
      ]
     },
     "execution_count": 195,
     "metadata": {},
     "output_type": "execute_result"
    }
   ],
   "source": [
    "BES_Panel[\"edlevelW16\"].value_counts()"
   ]
  },
  {
   "cell_type": "code",
   "execution_count": 207,
   "metadata": {},
   "outputs": [
    {
     "data": {
      "text/plain": [
       "0        53-60\n",
       "1        60-66\n",
       "2        66-95\n",
       "3        46-53\n",
       "4        66-95\n",
       "         ...  \n",
       "92582    30-38\n",
       "92583    22-30\n",
       "92584    53-60\n",
       "92585    30-38\n",
       "92586    22-30\n",
       "Name: ageGroup_equalised, Length: 92587, dtype: category\n",
       "Categories (8, object): [12-22, 22-30, 30-38, 38-46, 46-53, 53-60, 60-66, 66-95]"
      ]
     },
     "execution_count": 207,
     "metadata": {},
     "output_type": "execute_result"
    }
   ],
   "source": [
    "BES_Panel[\"ageGroup_equalised\"].cat.remove_categories(\"nan\")"
   ]
  },
  {
   "cell_type": "code",
   "execution_count": 352,
   "metadata": {},
   "outputs": [],
   "source": [
    "BES_Panel[\"ethnicity\"] = BES_Panel[\"profile_ethnicity\"]==\"White British\"\n",
    "BES_Panel[\"ethnicity\"] = BES_Panel[\"ethnicity\"].replace(True,\"White British\").replace(False,\"Not White British\")\n",
    "BES_Panel.loc[BES_Panel[\"profile_ethnicity\"].isnull(),\"ethnicity\"] = np.nan\n",
    "BES_Panel[\"ethnicity\"] = BES_Panel[\"ethnicity\"].astype('category')"
   ]
  },
  {
   "cell_type": "code",
   "execution_count": 11,
   "metadata": {},
   "outputs": [
    {
     "data": {
      "text/plain": [
       "Prefer not to answer               10720\n",
       "Â£10,000 to Â£14,999 per year       4559\n",
       "Â£20,000 to Â£24,999 per year       4543\n",
       "Â£15,000 to Â£19,999 per year       4482\n",
       "Don't know                          4301\n",
       "Â£25,000 to Â£29,999 per year       4232\n",
       "Â£30,000 to Â£34,999 per year       3745\n",
       "Â£35,000 to Â£39,999 per year       3103\n",
       "Â£5,000 to Â£9,999 per year         3027\n",
       "Â£50,000 to Â£59,999 per year       2794\n",
       "Â£40,000 to Â£44,999 per year       2678\n",
       "Â£70,000 to Â£99,999 per year       2405\n",
       "Â£45,000 to Â£49,999 per year       2186\n",
       "Â£60,000 to Â£69,999 per year       1905\n",
       "under Â£5,000 per year              1556\n",
       "Â£100,000 to Â£149,999 per year      912\n",
       "Â£150,000 and over                   403\n",
       "Name: profile_gross_household, dtype: int64"
      ]
     },
     "execution_count": 11,
     "metadata": {},
     "output_type": "execute_result"
    }
   ],
   "source": [
    "BES_Panel[\"profile_gross_household\"].value_counts()"
   ]
  },
  {
   "cell_type": "code",
   "execution_count": 10,
   "metadata": {},
   "outputs": [
    {
     "data": {
      "text/plain": [
       "Prefer not to answer             10499\n",
       "Â£10,000 to Â£14,999 per year     6550\n",
       "Â£15,000 to Â£19,999 per year     6096\n",
       "Â£5,000 to Â£9,999 per year       6011\n",
       "Â£20,000 to Â£24,999 per year     5380\n",
       "under Â£5,000 per year            5336\n",
       "Â£25,000 to Â£29,999 per year     4216\n",
       "Â£30,000 to Â£34,999 per year     3192\n",
       "Don't know                        2510\n",
       "Â£35,000 to Â£39,999 per year     2132\n",
       "Â£40,000 to Â£44,999 per year     1578\n",
       "Â£50,000 to Â£59,999 per year     1131\n",
       "Â£45,000 to Â£49,999 per year     1020\n",
       "Â£70,000 to Â£99,999 per year      735\n",
       "Â£60,000 to Â£69,999 per year      572\n",
       "Â£100,000 and over                 446\n",
       "Name: profile_gross_personal, dtype: int64"
      ]
     },
     "execution_count": 10,
     "metadata": {},
     "output_type": "execute_result"
    }
   ],
   "source": [
    "BES_Panel[\"profile_gross_personal\"].value_counts()"
   ]
  },
  {
   "cell_type": "code",
   "execution_count": null,
   "metadata": {},
   "outputs": [],
   "source": [
    "BES_Panel[\"profile_gross_personal_eq\"] = BES_Panel[\"profile_gross_personal\"]"
   ]
  },
  {
   "cell_type": "code",
   "execution_count": 372,
   "metadata": {},
   "outputs": [
    {
     "data": {
      "text/html": [
       "[\"Don't know\", 'Prefer not to answer', 'under £5,000 per year', '£10,000 to £14,999 per year', '£100,000 and over', '£15,000 to £19,999 per year', '£20,000 to £24,999 per year', '£25,000 to £29,999 per year', '£30,000 to £34,999 per year', '£35,000 to £39,999 per year', '£40,000 to £44,999 per year', '£45,000 to £49,999 per year', '£5,000 to £9,999 per year', '£50,000 to £59,999 per year', '£60,000 to £69,999 per year', '£70,000 to £99,999 per year']"
      ],
      "text/plain": [
       "[\"Don't know\",\n",
       " 'Prefer not to answer',\n",
       " 'under £5,000 per year',\n",
       " '£10,000 to £14,999 per year',\n",
       " '£100,000 and over',\n",
       " '£15,000 to £19,999 per year',\n",
       " '£20,000 to £24,999 per year',\n",
       " '£25,000 to £29,999 per year',\n",
       " '£30,000 to £34,999 per year',\n",
       " '£35,000 to £39,999 per year',\n",
       " '£40,000 to £44,999 per year',\n",
       " '£45,000 to £49,999 per year',\n",
       " '£5,000 to £9,999 per year',\n",
       " '£50,000 to £59,999 per year',\n",
       " '£60,000 to £69,999 per year',\n",
       " '£70,000 to £99,999 per year']"
      ]
     },
     "execution_count": 372,
     "metadata": {},
     "output_type": "execute_result"
    }
   ],
   "source": []
  },
  {
   "cell_type": "code",
   "execution_count": 202,
   "metadata": {},
   "outputs": [],
   "source": [
    "party_colour_dict = {\"Lab\":\"red\",\"LAB\":\"red\",\n",
    "                     \"Con\":'blue',\"CON\":'blue',\"UKIP\":\"purple\",\"LD\":\"orange\",\n",
    "                     \"Grn\":'green',\"GRN\":'green',\n",
    "                     \"BrexitParty\":\"cyan\",\"BXP\":'cyan',\n",
    "                     \"TIG\":\"pink\",\"BNP\":\"magenta\",\n",
    "                     \"SNP\":'yellow',\"PC\":'olive',\n",
    "                     \"Remain\":\"yellow\",\"REMAIN\":'yellow',\"Leave\":\"blue\",\"LEAVE\":'blue',\n",
    "                     \"Don't know\":\"grey\",\"DK\":'grey',\n",
    "                     \"Won't vote\":\"black\",\"DNV\":'black',\"NON\":'black',\n",
    "                     \"Cameron\":'navy',\"May\":'blue',\n",
    "                     \"Osborne\":\"darkblue\",\"Davidson\":\"darkblue\",\n",
    "                     \"Boris\":'cyan',\"Gove\":\"darkviolet\",\"Rudd\":'teal',\"Mogg\":\"black\" ,\"Hunt\":\"grey\" , \"Javid\":\"dodgerblue\", \n",
    "                     \"Davis\":\"lightblue\",\"Mogg\":'lightblue',\n",
    "                     \"Salmond\":'goldenrod',\"Sturgeon\":'yellow',\n",
    "                     \"Miliband\":'red',\"Corbyn\":'red',\"Blair\":\"indianred\",\n",
    "                     \"AlanJohnson\":'pink',\"Watson\":\"chocolate\",\"McDonnell\":\"darkred\",\"Jarvis\":'tomato',\"Leonard\":'pink',\n",
    "                     \"Wood\":'olive',\"Price\":'olive',\n",
    "                     \"Umunna\":\"lightslategrey\",\"Berger\":'darkslategrey',\"Soubry\":'mediumspringgreen',\"Allen\":\"darkslategrey\",\n",
    "                     \"Clegg\":'orange',\"Farron\":'orange',\"Cable\":'orange',\"Rennie\":'darkorange',\n",
    "                     \"Farage\":'purple',\"SEvans\":\"fuchsia\",\"Nuttall\":'indigo',\"Batten\":'indigo',\n",
    "                     \"Bennett\":'green',\"Lucas\":'limegreen',\"Harvie\":\"green\",\"Berry\":'darkgreen',\"Bartley\":'limegreen',\n",
    "                     \"Allow many fewer\":\"blue\",\n",
    "                     \"1\":'cyan',\"Bad for economy\":'cyan',\"Undermines cultural life\":'cyan','Strongly disagree':'cyan','It is completely necessary':'cyan',\n",
    "                     \"2\":'yellow','Disagree':'yellow','It is important but not absolutely  necessary':'yellow',\n",
    "                     \"3\":'olive','Neither agree nor disagree':'olive','It is not necessary but it would be desirable':'olive',\n",
    "                     \"4\":'green', 'Agree':'green','It is completely unnecessary':'green',\n",
    "                     \"5\":\"limegreen\",'Strongly agree':'limegreen',\n",
    "                     \"6\":\"orange\",\n",
    "                     \"7\":'brown',\"Good for economy\":'brown',\"Enriches cultural life\":'brown',\n",
    "                     \"8\":'pink',\n",
    "                     \"9\":'purple',\n",
    "                     \"Allow many more\":'red',\n",
    "#                      \"The Sun\": 'cyan',\n",
    "#                      \"The Guardian\": 'green',\n",
    "#                      \"The Mirror / Daily Record\":'red',\n",
    "#                      \"The Daily Mail / The Scottish Daily Mail\":'blue',\n",
    "#                      \"The Times\":'yellow',\n",
    "                    }\n",
    "\n",
    "big_set_of_colours = list(set(party_colour_dict.values()))\n",
    "big_set_of_colours = [x for x in big_set_of_colours if x not in ['grey','lightslategrey','darkslategrey']]\n",
    "big_set_of_colours = ['olive', 'purple', 'orange', 'red', 'cyan',\n",
    "                      'limegreen', 'darkred', 'blue', 'chocolate',\n",
    "                      'pink', 'darkgreen', 'yellow', 'darkorange','magenta', 'mediumspringgreen', 'tomato', 'teal',\n",
    "                      'goldenrod',  'indianred']"
   ]
  },
  {
   "cell_type": "code",
   "execution_count": null,
   "metadata": {},
   "outputs": [],
   "source": []
  },
  {
   "cell_type": "code",
   "execution_count": 185,
   "metadata": {},
   "outputs": [
    {
     "data": {
      "text/plain": [
       "No            21152\n",
       "Yes            3143\n",
       "Don't know      241\n",
       "Name: parentsForeignW8, dtype: int64"
      ]
     },
     "execution_count": 185,
     "metadata": {},
     "output_type": "execute_result"
    }
   ],
   "source": [
    "BES_Panel[\"parentsForeignW8\"].value_counts()"
   ]
  },
  {
   "cell_type": "code",
   "execution_count": 14,
   "metadata": {},
   "outputs": [],
   "source": [
    "from scipy import interpolate"
   ]
  },
  {
   "cell_type": "code",
   "execution_count": 208,
   "metadata": {},
   "outputs": [
    {
     "name": "stdout",
     "output_type": "stream",
     "text": [
      "12-22\n",
      "There are 0 nulls\n",
      "22-30\n",
      "There are 0 nulls\n",
      "30-38\n",
      "There are 0 nulls\n",
      "38-46\n",
      "There are 0 nulls\n",
      "46-53\n",
      "There are 0 nulls\n",
      "53-60\n",
      "There are 0 nulls\n",
      "60-66\n",
      "There are 0 nulls\n",
      "66-95\n",
      "There are 0 nulls\n"
     ]
    },
    {
     "data": {
      "text/plain": [
       "12-22    245362\n",
       "66-95    180606\n",
       "53-60     71644\n",
       "30-38     58453\n",
       "38-46     45659\n",
       "46-53     18340\n",
       "22-30     17002\n",
       "60-66      2934\n",
       "Name: leading_party, dtype: int64"
      ]
     },
     "metadata": {},
     "output_type": "display_data"
    },
    {
     "name": "stdout",
     "output_type": "stream",
     "text": [
      "0.0005253489035184881 7.424388220020157 8\n"
     ]
    },
    {
     "data": {
      "text/plain": [
       "5"
      ]
     },
     "execution_count": 208,
     "metadata": {},
     "output_type": "execute_result"
    }
   ],
   "source": [
    "# %%time\n",
    "from matplotlib.ticker import LinearLocator, FormatStrFormatter\n",
    "from matplotlib import colors\n",
    "import matplotlib.patches as mpatches\n",
    "\n",
    "sns.set(font_scale=2.5)\n",
    "\n",
    "wave_descriptions = BES_file_manifest[BES_file_manifest[\"Only_or_Combined\"]==\"Only\"][[\"Wave No\",\"Friendlier_Description\"]].set_index(\"Wave No\")\n",
    "\n",
    "granularity = 21\n",
    "x_axis = pan_dataset_allr_values.columns[0].replace(\"200\",str(granularity-1)).replace(\"{uniform}\",\"\")\n",
    "y_axis = pan_dataset_allr_values.columns[1].replace(\"200\",str(granularity-1)).replace(\"{uniform}\",\"\")\n",
    "pan_dataset_allr_values[x_axis] = pd.qcut( pan_dataset_allr_values[pan_dataset_allr_values.columns[2]], q=granularity, labels=range(0,granularity))\n",
    "pan_dataset_allr_values[y_axis] = pd.qcut( pan_dataset_allr_values[pan_dataset_allr_values.columns[3]], q=granularity, labels=range(0,granularity))\n",
    "# pan_dataset_allr_values[x_axis] = pd.qcut( pan_dataset_allr_values[\"original_lr_scale\"], q=granularity, labels=range(0,granularity))\n",
    "# pan_dataset_allr_values[y_axis] = pd.qcut( pan_dataset_allr_values[\"original_al_scale\"], q=granularity, labels=range(0,granularity))\n",
    "\n",
    "output_granularity=800\n",
    "min_sample_size =100    \n",
    "smoothing = 50.0\n",
    "pop_gridlines = False\n",
    "max_z_size = 1.0\n",
    "num_legend_columns = 3\n",
    "normalize_heights = True\n",
    "use_bes_weights = False\n",
    "bes_wave_based = False\n",
    "break_single_variable = True\n",
    "abbreviate_variables = False\n",
    "normalise_to_category_size = True\n",
    "auto_update_colour_list = True\n",
    "use_dist_cols = False\n",
    "drop_cats = [\"nan\"]\n",
    "# ['Any other Asian background', 'Prefer not to say', 'Other ethnic group','White British','Black African']\n",
    "# [\"Other local daily morning newspaper\",\"The Western Mail\",\"The Independent\",\"Other Newspaper\",\"None\"]#[\"Don't know\",\"5\"]\n",
    "\n",
    "# stub_var = \"partyId\"\n",
    "stub_var = \"ageGroup_equalised\"\n",
    "title_base = \"Age Group (equal sized age groups)\"\n",
    "scale_text = 'Overrepresentation factor'\n",
    "#\"Probability of choosing option\"\n",
    "#\n",
    "cbar_text = \"Dominant Option (in territory size order)\"\n",
    "\n",
    "#['Bad for economy', '2', '3', '4', '5', '6', 'Good for economy',\n",
    "#        \"Don't know\"]\n",
    "# search(BES_Panel,\"partyMemberNow\")\n",
    "# [1,2,3,4,5, 7, 9, 13] \n",
    "if use_bes_weights:\n",
    "    aggfunc = weighted_mean\n",
    "else:\n",
    "    aggfunc = np.mean\n",
    "\n",
    "# region = \"England\"\n",
    "region = None\n",
    "if region is not None:\n",
    "    specific_mask = (BES_Panel[\"country\"]==region)# & (BES_Panel[\"profile_eurefvote\"]==\"Leave the EU\")\n",
    "else:\n",
    "    specific_mask = BES_Panel[\"id\"].notnull()\n",
    "# [\"W2\",\"W6\",\"W8\",\"W12\",\"W14\",\"W16\"]\n",
    "max_wave = 17\n",
    "skip_waves = [5]\n",
    "skip_waves = [ 1, 2, 3, 4, 5, 6, 7, 8, 9, 10,11,13,15 ]\n",
    "skip_waves = [1,2,3,4,5, 7, 9, 13]\n",
    "skip_waves = [5,6,9,12]\n",
    "# [1, 2, 3, 4, 7, 8, 10, 11][4, 6, 10, 11, 15] [1, 2, 3, 4, 6, 7, 12, 14]\n",
    "skip_waves = [1,2,3,4,5,6,7,8,9,10,11,12,13,14,16 ]\n",
    "# skip_waves = []\n",
    "wave_list = [\"W\"+str(x) for x in list(range(1,max_wave)) if x not in skip_waves]\n",
    "# wave_list = [str(x) for x in [2005,2010,2015,2017]]\n",
    "wave_list=  [\"\"]\n",
    "for wave in wave_list:\n",
    "    if bes_wave_based:\n",
    "        wave_no = int(wave.replace(\"W\",\"\"))\n",
    "        title_extra = \"\\n\"+wave_descriptions.loc[wave_no].values[0]#+\"; \"+region#+\"&Leave-2016\"\n",
    "    else:\n",
    "        title_extra = \"\\n\"+wave#+\"; \"+region#+\"&Leave-2016\"\n",
    "\n",
    "# treatment = \"brexitself_surface\"\n",
    "#     treatment = \"ptv_surface\"+wave+\"_\" + region# + \"_LEAVE2016\"\n",
    "    treatment = stub_var+\"_surface\"+wave#+\"originalPC\"#+\"_\"\n",
    "    \n",
    "    if region is not None:\n",
    "            treatment = treatment+\"_\"+region\n",
    "            title_extra = title_extra+\"; \"+region\n",
    "    output_subfolder = create_subdir(BES_output_folder, treatment)\n",
    "\n",
    "# party_list = [\"Lab\",\"Con\",\"LD\",\"Grn\",\"UKIP\",\"TIG\",\"BrexitParty\"]\n",
    "# party_list = [\"ptv\"+x for x in party_list]\n",
    "# party_list = [\"brexitSelf\"]\n",
    "    if break_single_variable:\n",
    "        \n",
    "        if drop_cats:\n",
    "            df1 = pd.get_dummies(BES_Panel[stub_var+wave].cat.remove_categories(drop_cats))\n",
    "            df1.loc[BES_Panel[stub_var+wave].apply(lambda x: x in drop_cats or pd.isnull(x)).replace(np.nan,False),:]=np.nan\n",
    "        else:\n",
    "            df1 = pd.get_dummies(BES_Panel[stub_var+wave])\n",
    "        mask = BES_Panel[stub_var+wave].notnull() & df1[df1.columns[0]].notnull() & specific_mask\n",
    "#     eurevote_col_replace_dict = {\"Don't know\":\"Don't know\", \"I would/will not vote\":\"Won't vote\", \"Leave the EU\":\"Leave\",\n",
    "#                   \"Stay/remain in the EU\":\"Remain\"}\n",
    "        if abbreviate_variables:\n",
    "            df1.columns = [replace_dict[x] for x in df1.columns]\n",
    "        party_list = df1.columns\n",
    "    else:\n",
    "    ## sample size!\n",
    "#         temp = match(BES_Panel,\"like(.*)\"+wave+\"$\", mask = specific_mask)\n",
    "#         party_list = list(temp[temp>min_sample_size].index)\n",
    "#         party_list = [x for x in party_list if re.match(\"like(.*)W\\d+\",x).groups()[0] in [\"Con\",\"Lab\",\"SNP\",\"PC\",\"UKIP\",\"Grn\",\"BNP\",\"LD\",\"BrexitParty\",\"TIG\"]]\n",
    "        \n",
    "        temp = match(BES_Panel,\"like(.*)\"+wave+\"$\", mask = specific_mask)\n",
    "        party_list = list(temp[temp>min_sample_size].index)\n",
    "        party_list = [x for x in party_list if re.match(\"like(.*)W\\d+\",x).groups()[0] not in [\"CandA\",\"CandB\",\"SNPExtra\",\"Con\",\"Lab\",\"SNP\",\"PC\",\"UKIP\",\"Grn\",\"BNP\",\"LD\",\"BrexitParty\",\"TIG\",\"DUP\"]]        \n",
    "        \n",
    "        print(party_list)\n",
    "#     temp = match(BES_Panel,\"ptv.*\"+wave+\"$\", mask = specific_mask)\n",
    "#     party_list = list(temp[temp>min_sample_size].index)\n",
    "    \n",
    "    \n",
    "\n",
    "    \n",
    "    # specific_mask = 1\n",
    "\n",
    "    interp_dict = {}\n",
    "\n",
    "    largestN = 0\n",
    "\n",
    "\n",
    "    for party in party_list:\n",
    "        print(party)\n",
    "    #     like_var = \"ptv\"+party\n",
    "        like_var = party\n",
    "\n",
    "        like_name = \"probability to vote \"+party\n",
    "#         scale_text = ' 0-Very Unlikely, 10-Very Likely'\n",
    "        title_text = title_base+like_var+title_extra\n",
    "#         title_text = \"Which party do you feel closest to: \"+like_var+\"?\"+title_extra\n",
    "        \n",
    "\n",
    "    #     like_name = \"Some people want to leave the European Union immediately without a deal.\\nOther people would like to cancel Brexit and remain in the EU.\\nWhere would you place yourself and the political parties on this scale?\"\n",
    "    #     scale_text = ' 0-Leave the EU without a deal, 10-Remain in the EU'    \n",
    "    #     title_text = like_name\n",
    "\n",
    "        # fix disordered categories!\n",
    "        if \"ptv\" in like_var:\n",
    "            BES_Panel[[x for x in BES_Panel.columns if like_var in x]] = \\\n",
    "                BES_Panel[[x for x in BES_Panel.columns if like_var in x]]\\\n",
    "                    .apply(lambda x: x.cat.reorder_categories(['Very unlikely','1', '2', '3', '4', '5', '6', '7', '8', '9',\n",
    "                       'Very likely', \"Don't know\" ]))    \n",
    "        elif \"like\" in like_var:\n",
    "            BES_Panel[[x for x in BES_Panel.columns if like_var in x]] = \\\n",
    "                BES_Panel[[x for x in BES_Panel.columns if like_var in x]]\\\n",
    "                    .apply(lambda x: x.cat.reorder_categories(['Strongly dislike','1', '2', '3', '4', '5', '6', '7', '8', '9', \"Don't know\",\n",
    "        'Strongly like']))                \n",
    "        elif \"immigEcon\" in like_var:\n",
    "            BES_Panel[[x for x in BES_Panel.columns if like_var in x]] = \\\n",
    "                BES_Panel[[x for x in BES_Panel.columns if like_var in x]]\\\n",
    "                    .apply(lambda x: x.cat.reorder_categories(['Bad for economy', '2', '3', '4', '5', '6', 'Good for economy',\n",
    "       \"Don't know\"]))  \n",
    "        elif \"immigCultural\" in like_var:\n",
    "            BES_Panel[[x for x in BES_Panel.columns if like_var in x]] = \\\n",
    "                BES_Panel[[x for x in BES_Panel.columns if like_var in x]]\\\n",
    "                    .apply(lambda x: x.cat.reorder_categories(['Undermines cultural life', '2', '3', '4', '5', '6',\n",
    "       'Enriches cultural life', \"Don't know\"]))     \n",
    "        elif \"immigrantsWelfareState\" in like_var:\n",
    "            BES_Panel[[x for x in BES_Panel.columns if like_var in x]] = \\\n",
    "                BES_Panel[[x for x in BES_Panel.columns if like_var in x]]\\\n",
    "                    .apply(lambda x: x.cat.reorder_categories(['Strongly disagree', 'Disagree', 'Neither agree nor disagree',\n",
    "       'Agree','Strongly agree',  \"Don't know\"]))  \n",
    "        elif \"deficitReduce\" in like_var:\n",
    "            BES_Panel[[x for x in BES_Panel.columns if like_var in x]] = \\\n",
    "                BES_Panel[[x for x in BES_Panel.columns if like_var in x]]\\\n",
    "                    .apply(lambda x: x.cat.reorder_categories(['It is completely necessary','It is important but not absolutely  necessary','It is not necessary but it would be desirable','It is completely unnecessary',\"Don't know\"]))  \n",
    "        elif \"howToReduceDeficit\" in like_var:\n",
    "            BES_Panel[[x for x in BES_Panel.columns if like_var in x]] = \\\n",
    "                BES_Panel[[x for x in BES_Panel.columns if like_var in x]]\\\n",
    "                    .apply(lambda x: x.cat.reorder_categories(howToReduceDeficit_cats))  \n",
    "        elif \"leftRight\" in like_var:\n",
    "            BES_Panel[[x for x in BES_Panel.columns if like_var in x]] = \\\n",
    "                BES_Panel[[x for x in BES_Panel.columns if like_var in x]]\\\n",
    "                    .apply(lambda x: x.cat.reorder_categories(leftRight_cats))\n",
    "        elif \"taxSpendSelf\" in like_var:\n",
    "            BES_Panel[[x for x in BES_Panel.columns if like_var in x]] = \\\n",
    "                BES_Panel[[x for x in BES_Panel.columns if like_var in x]]\\\n",
    "                    .apply(lambda x: x.cat.reorder_categories(taxSpendSelf_cats))            \n",
    "   \n",
    "\n",
    "\n",
    "        # mean across all waves\n",
    "    #     mean_like_Corbyn = BES_Panel[[x for x in BES_Panel.columns if like_var in x]]\\\n",
    "    #     .replace(\"Don't know\",np.nan).apply(lambda x:x.cat.codes).replace(-1,np.nan).mean(axis=1)\n",
    "\n",
    "#         mean_like_Corbyn = BES_Panel[[like_var]]\\\n",
    "#         .replace(\"Don't know\",np.nan).apply(lambda x:x.cat.codes).replace(-1,np.nan).mean(axis=1)\n",
    "        if break_single_variable:\n",
    "            mean_like_Corbyn = df1[like_var]\n",
    "        else:\n",
    "            mean_like_Corbyn = BES_Panel[[like_var]]\\\n",
    "            .replace(\"Don't know\",np.nan).apply(lambda x:x.cat.codes).replace(-1,np.nan).mean(axis=1)          \n",
    "            mask = mean_like_Corbyn.notnull() & specific_mask\n",
    "\n",
    "#         \n",
    "        N_equal_text = \" (N=\"+str(mask.sum())+\")\"\n",
    "        \n",
    "        global best_weight_series\n",
    "        best_weight_variable = search(BES_Panel,\"wt_\",mask=mask).sort_values(ascending=False).index[0]\n",
    "        best_weight_series = BES_Panel[best_weight_variable]\n",
    "\n",
    "        likeCorbyn_heatmap = pd.crosstab(index = pan_dataset_allr_values[y_axis][mask],\n",
    "                    columns = pan_dataset_allr_values[x_axis][mask],\n",
    "                    values = mean_like_Corbyn[mask],\n",
    "                    aggfunc = aggfunc)\n",
    "\n",
    "        plt.figure(figsize = (16,10))\n",
    "        ax = sns.heatmap(data = likeCorbyn_heatmap.replace(np.nan,-1),\n",
    "                    cbar_kws={'label': like_var+ scale_text})\n",
    "        ax.invert_yaxis()\n",
    "\n",
    "        plt.xlim([0,granularity])\n",
    "        plt.ylim([0,granularity])\n",
    "        plt.xlabel(x_axis);\n",
    "        plt.ylabel(y_axis);\n",
    "        plt.title(title_text+N_equal_text)\n",
    "        plt.savefig(BES_output_folder + treatment + os.sep + clean_filename(like_var) +\"_by_PC_heatmap\" + \".png\",\n",
    "                   bbox_inches='tight')\n",
    "        plt.close()\n",
    "\n",
    "        #### INTERPOLATE\n",
    "\n",
    "        size = likeCorbyn_heatmap.columns.max()\n",
    "        x,y = np.mgrid[ 0:size:granularity*1j, 0:size:granularity*1j ]\n",
    "        z =  likeCorbyn_heatmap.values.flatten()\n",
    "        non_null_mask = ~np.isnan(z)\n",
    "        x = x.flatten()[non_null_mask]\n",
    "        y = y.flatten()[non_null_mask]\n",
    "        z = z[non_null_mask]\n",
    "        print(\"There are \" + str(np.sum(~non_null_mask)) + \" nulls\") \n",
    "        interp_dict[party]=interpolate.Rbf(x,y,z,function='linear',smooth=smoothing)\n",
    "\n",
    "\n",
    "        grid=np.mgrid[0:size:1j*output_granularity,\n",
    "                       0:size:1j*output_granularity]\n",
    "        result=interp_dict[party](grid[0,:,:],grid[1,:,:]);\n",
    "        plt.figure(figsize=(14,14));\n",
    "        img = plt.imshow(result,interpolation = 'none',origin ='lower',\n",
    "                  extent = (0,granularity-1,0,granularity-1)); #Apparently nice smooth linear-ish interpolation\n",
    "        plt.grid(None)\n",
    "        plt.locator_params(nbins=5)\n",
    "        cbar = plt.colorbar(img,shrink=0.5, aspect=5, label =  like_var+ scale_text );#, title = \"\\n\".join(scale_text.split(\",\")) );\n",
    "        plt.xlabel(x_axis);\n",
    "        plt.ylabel(y_axis);\n",
    "        plt.title(title_text+N_equal_text)\n",
    "        plt.savefig(BES_output_folder + treatment + os.sep + clean_filename(like_var) +\"_by_PC_interpolated\" + \".png\",\n",
    "                   bbox_inches='tight')\n",
    "        plt.close()\n",
    "\n",
    "\n",
    "\n",
    "        ### 3D Surface\n",
    "\n",
    "        X,Y = grid\n",
    "        Z = result.reshape(X.shape)\n",
    "        # this seems to flip the axes!\n",
    "        # Plot the surface.\n",
    "        fig = plt.figure(figsize=(14,14));\n",
    "\n",
    "        ax = fig.add_subplot(111, projection='3d')\n",
    "        surf = ax.plot_surface(X, Y, Z, cmap=cm.coolwarm,\n",
    "                               linewidth=0, antialiased=False)\n",
    "\n",
    "        ax.set_title(title_text+N_equal_text, fontsize=18)\n",
    "        # Customize the z axis.\n",
    "        ax.set_zlim(0, max_z_size);\n",
    "#         ax.zaxis.set_major_locator(LinearLocator(10));\n",
    "        plt.xlabel(y_axis, fontsize=14);\n",
    "        plt.ylabel(x_axis, fontsize=14);\n",
    "        ax.set_zlabel(like_var+ scale_text, fontsize=14);\n",
    "        plt.locator_params(nbins=5)\n",
    "        ax.tick_params(axis='both', which='major', labelsize=14)\n",
    "        ax.tick_params(axis='both', which='minor', labelsize=14)\n",
    "\n",
    "\n",
    "        # Add a color bar which maps values to colors.\n",
    "        fig.colorbar(surf, shrink=0.5, aspect=5);\n",
    "\n",
    "    #     fig.show();\n",
    "        fig.savefig(BES_output_folder + treatment + os.sep + clean_filename(like_var) +\"_by_PC_3D\" + \".png\",\n",
    "                   bbox_inches='tight')\n",
    "        plt.close()\n",
    "        \n",
    "        if mask.sum()>largestN:\n",
    "            largestN = mask.sum()\n",
    "        \n",
    "\n",
    "    ###################\n",
    "\n",
    "    \n",
    "    overall_N_equal_text = \" (N=\"+str(largestN)+\")\"\n",
    "\n",
    "#     output_granularity=500\n",
    "    grid=np.mgrid[0:size:1j*output_granularity,\n",
    "                   0:size:1j*output_granularity]\n",
    "\n",
    "    df = pd.DataFrame()\n",
    "    for party in party_list:\n",
    "        df[party]=interp_dict[party](grid[0,:,:],grid[1,:,:]).flatten()\n",
    "\n",
    "    #df[\"max\"] = df.max(axis=1)\n",
    "    # df[\"leading_party\"] = df.apply(lambda x: x.index[x[df.columns]==x[\"max\"]][0],axis=1) # slow ~ 30s\n",
    "    if normalise_to_category_size:\n",
    "        temp = BES_Panel[stub_var+wave].cat.remove_categories(drop_cats).value_counts()\n",
    "        temp = pd.Series(temp/temp.sum()).loc[df.columns]\n",
    "        df = df.divide(temp,axis=1)\n",
    "    \n",
    "\n",
    "    df[\"leading_party\"] = df.idxmax(axis=1)\n",
    "    df[\"max\"] = df.max(axis=1)/max_z_size\n",
    "    surf_min = df[\"max\"].min()\n",
    "    surf_max = df[\"max\"].max()\n",
    "    if normalize_heights:       \n",
    "        df[\"max\"] = ( df[\"max\"]-surf_min ) / (surf_max-surf_min )\n",
    "\n",
    "    ######################\n",
    "\n",
    "    dominant_parties = list(df[\"leading_party\"].value_counts().index)\n",
    "    display(df[\"leading_party\"].value_counts())\n",
    "\n",
    "# \"Remain\":\"yellow\",\"Leave\":\"blue\",\n",
    "\n",
    "    \n",
    "#     ageGroup_cats = ['Under 18', '18-25', '26-35', '36-45', '46-55', '56-65', '66+']\n",
    "    if auto_update_colour_list:\n",
    "        party_colour_dict.update( {x:k for x,k in zip(dominant_parties,big_set_of_colours[0:len(dominant_parties)+1]) if x not in party_colour_dict.keys()} )\n",
    "\n",
    "\n",
    "\n",
    "    legend_patch_list = []\n",
    "\n",
    "    count = 0\n",
    "    colour_list = []\n",
    "    repl_dict = {}\n",
    "    for party in dominant_parties:\n",
    "        repl_dict[party] = count\n",
    "\n",
    "        party_name = party#.replace(\"ptv\",\"\").split(\"W\")[0]\n",
    "        if abbreviate_variables:\n",
    "            party_name = re.match(stub_var+\"(.*)W\\d+\",party).groups()[0]\n",
    "#         party.replace(\"like\",\"\").split(\"W\")[0]\n",
    "        colour = party_colour_dict[ party_name ]\n",
    "        colour_list.append( colour )\n",
    "        legend_patch_list.append( mpatches.Patch(color=colour, label=party_name) )\n",
    "        count=count+1\n",
    "\n",
    "    #######################\n",
    "\n",
    "\n",
    "#     cmap = colors.ListedColormap(colour_list)\n",
    "#     bounds=list(range(0,np.max(list(repl_dict.values()))+2))\n",
    "\n",
    "#     norm = colors.BoundaryNorm(bounds, cmap.N)\n",
    "#     colour_list = [\"yellow\",\"blue\"]\n",
    "    \n",
    "\n",
    "    from matplotlib import colors as mcolors\n",
    "    color_dict = dict(mcolors.BASE_COLORS, **mcolors.CSS4_COLORS)\n",
    "\n",
    "\n",
    "#     colour_list = ['yellow','blue']\n",
    "    eta = .001\n",
    "    cdict = {'red':[],'green':[],'blue':[],'alpha':[]}\n",
    "\n",
    "    n = len(colour_list)\n",
    "    anchor_pts = np.linspace(0.0,1.0,n+1)\n",
    "    \n",
    "    if use_dist_cols:\n",
    "        dist_col_list = distinct_colors(n)    \n",
    "    \n",
    "\n",
    "    for col_no in range(0,n):\n",
    "        x = anchor_pts[col_no]\n",
    "        col = mcolors.to_rgba( color_dict[ colour_list[col_no] ] )\n",
    "        if use_dist_cols:\n",
    "            col = dist_col_list[col_no]\n",
    "        cdict['red'].append(   (x,col[0],col[0]) )\n",
    "        cdict['green'].append( (x,col[1],col[1]) )\n",
    "        cdict['blue'].append(  (x,col[2],col[2]) )\n",
    "        cdict['alpha'].append(  (x,0.0,0.0 ) )\n",
    "\n",
    "        x = anchor_pts[col_no+1]-eta\n",
    "        if col_no ==(n-1):\n",
    "            x = x+eta\n",
    "        col = mcolors.to_rgba( color_dict[ colour_list[col_no] ] )\n",
    "        if use_dist_cols:\n",
    "            col = dist_col_list[col_no]        \n",
    "        cdict['red'].append(   (x,col[0],col[0]) )\n",
    "        cdict['green'].append( (x,col[1],col[1]) )\n",
    "        cdict['blue'].append(  (x,col[2],col[2]) )\n",
    "        cdict['alpha'].append(  (x,1.0,1.0 ) )\n",
    "\n",
    "    plt.register_cmap(name='test', data=cdict)\n",
    "\n",
    "    df[\"leading_party\"] = df[\"leading_party\"].replace(repl_dict).astype('float')\n",
    "#     df[\"leading_party\"] = 1.0-df[\"leading_party\"]\n",
    "\n",
    "    res = df[\"leading_party\"].values.reshape((output_granularity,output_granularity))\n",
    "    res = (df[\"leading_party\"]+df[\"max\"]).values.reshape((output_granularity,output_granularity))\n",
    "\n",
    "    ######################\n",
    "#     plt.rcParams[\"axes.grid\"] = False\n",
    "#     title_text = \"Which parties have the highest Probability To Ever Vote\\nat any given Political Compass position?\"+title_extra\n",
    "#     title_text = \"How would/did/would you vote (again) in an EU referendum?\"+title_extra\n",
    "#     title_text = \"How would you vote in the next General Election?\"+title_extra\n",
    "    patchwork_title_text = title_base+title_extra\n",
    "    \n",
    "\n",
    "    # make a color map of fixed colors\n",
    "    plt.figure(figsize=(15,14));\n",
    "    # tell imshow about color map so that only set colors are used\n",
    "    print(np.min(res),np.max(res),len(colour_list))\n",
    "    img = plt.imshow(res/len(colour_list), origin='lower',\n",
    "                  cmap='test',interpolation='none',norm=None,vmin=0.0, vmax=1.0,\n",
    "                  extent = (0,granularity-1,0,granularity-1) )\n",
    "#                         cmap=cmap, norm=norm,\n",
    "    from matplotlib import cm\n",
    "    import matplotlib.ticker as ticker\n",
    "    def truncate_colormap(cmap, minval=0.0, maxval=1.0, n=100):\n",
    "        new_cmap = colors.LinearSegmentedColormap.from_list(\n",
    "            'trunc({n},{a:.2f},{b:.2f})'.format(n=cmap.name, a=minval, b=maxval),\n",
    "            cmap(np.linspace(minval, maxval, n)))\n",
    "        return new_cmap\n",
    "\n",
    "    cmap = plt.get_cmap('test')\n",
    "    new_cmap = truncate_colormap(cmap, 0.0, 1.0/n, 1000)    \n",
    "    \n",
    "    plt.colorbar(cm.ScalarMappable(norm=cm.colors.Normalize(vmax=surf_min*max_z_size, vmin=surf_max*max_z_size),\n",
    "                                   cmap=new_cmap),shrink=0.5, label = scale_text, format=ticker.FormatStrFormatter('%.2g'))\n",
    "    \n",
    "    plt.xlabel(x_axis);\n",
    "    plt.ylabel(y_axis);\n",
    "#     plt.rcParams[\"axes.grid\"] = False\n",
    "    plt.title(patchwork_title_text+overall_N_equal_text)\n",
    "    plt.locator_params(nbins=5)\n",
    "    plt.grid(None)\n",
    "\n",
    "    if pop_gridlines==True:\n",
    "\n",
    "        hmax = sns.kdeplot(pan_dataset_allr_values[x_axis][specific_mask],pan_dataset_allr_values[y_axis][specific_mask],\n",
    "                           cut=0, alpha=.2)\n",
    "        hmax.collections[0].set_alpha(0)\n",
    "\n",
    "\n",
    "    plt.legend(handles=legend_patch_list, bbox_to_anchor=(0.5, -0.095),loc=\"upper center\",\n",
    "               fancybox=True, shadow=True, title=cbar_text, ncol=num_legend_columns, fontsize=14)\n",
    "    plt.annotate(dataset_citation, (0,0), (0, -170-10*np.ceil(n/num_legend_columns)),\n",
    "                     xycoords='axes fraction', textcoords='offset points', va='top', fontsize = 7) ;     \n",
    "\n",
    "\n",
    "    plt.savefig(BES_output_folder + treatment + os.sep + \"all_ptv_surfaces\"+\"_by_PC_territory\" + \".png\",\n",
    "                bbox_inches='tight')\n",
    "    plt.close()\n",
    "\n",
    "    ######################################\n",
    "\n",
    "    X,Y = grid\n",
    "    Z = df[\"max\"].values.reshape(X.shape)\n",
    "    # this seems to flip the axes!\n",
    "    # Plot the surface.\n",
    "    fig = plt.figure(figsize=(14,14));\n",
    "\n",
    "    ax = fig.add_subplot(111, projection='3d')\n",
    "    surf = ax.plot_surface(X, Y, Z, cmap=cm.coolwarm,\n",
    "                           linewidth=0, antialiased=False)\n",
    "\n",
    "    ax.set_title(title_text+overall_N_equal_text, fontsize=18)\n",
    "\n",
    "    # Customize the z axis.\n",
    "    ax.set_zlim(0, max_z_size);\n",
    "#     ax.zaxis.set_major_locator(LinearLocator(10));\n",
    "    plt.xlabel(y_axis, fontsize=14);\n",
    "    plt.ylabel(x_axis, fontsize=14);\n",
    "    plt.locator_params(nbins=5)\n",
    "    ax.tick_params(axis='both', which='major', labelsize=14)\n",
    "    ax.tick_params(axis='both', which='minor', labelsize=14)\n",
    "    ax.set_zlabel(patchwork_title_text+overall_N_equal_text, fontsize=14);\n",
    "    \n",
    "    fig.savefig(BES_output_folder + treatment + os.sep + \"all_ptv_surfaces\" +\"_by_PC_3D\" + \".png\",\n",
    "               bbox_inches='tight')\n",
    "    plt.close()\n",
    "    ################\n",
    "\n",
    "    plt.figure(figsize=(14,14));\n",
    "    img = plt.imshow(Z,interpolation = 'none',origin ='lower',\n",
    "              extent = (0,granularity-1,0,granularity-1)); #Apparently nice smooth linear-ish interpolation\n",
    "    plt.grid(None)\n",
    "    plt.locator_params(nbins=5)\n",
    "    cbar = plt.colorbar(img,shrink=0.5, aspect=5, label = scale_text);\n",
    "    plt.xlabel(x_axis);\n",
    "    plt.ylabel(y_axis);\n",
    "    plt.title(patchwork_title_text+overall_N_equal_text)\n",
    "    plt.savefig(BES_output_folder + treatment + os.sep + \"all_ptv_surfaces\" +\"_by_PC_interpolated\" + \".png\",\n",
    "                bbox_inches='tight')\n",
    "    plt.close()\n",
    "gc.collect()\n",
    "\n",
    "# plt.xticks(fontsize=14, rotation=90)"
   ]
  },
  {
   "cell_type": "code",
   "execution_count": 157,
   "metadata": {},
   "outputs": [
    {
     "data": {
      "text/html": [
       "['Any other Asian background', 'Prefer not to say']"
      ],
      "text/plain": [
       "['Any other Asian background', 'Prefer not to say']"
      ]
     },
     "execution_count": 157,
     "metadata": {},
     "output_type": "execute_result"
    }
   ],
   "source": [
    "[x for x in BES_Panel[\"profile_ethnicity\"].cat.categories if x not in dominant_parties]"
   ]
  },
  {
   "cell_type": "code",
   "execution_count": 176,
   "metadata": {},
   "outputs": [
    {
     "data": {
      "text/plain": [
       "4.0"
      ]
     },
     "execution_count": 176,
     "metadata": {},
     "output_type": "execute_result"
    }
   ],
   "source": []
  },
  {
   "cell_type": "code",
   "execution_count": 124,
   "metadata": {},
   "outputs": [],
   "source": [
    "import random\n",
    " \n",
    "def distinct_colors(n):\n",
    "  ret = []\n",
    "  r = 128+int(random.random() * 128)\n",
    "  g = 128+int(random.random() * 128)\n",
    "  b = 128+int(random.random() * 128)\n",
    "  step = 128 / n\n",
    "  for i in range(n):\n",
    "    r += step\n",
    "    g += step\n",
    "    b += step\n",
    "    r = 128+ (int(r) % 128)\n",
    "    g = 128+ (int(g) % 128)\n",
    "    b = 128+ (int(b) % 128)\n",
    "    ret.append((r/255,g/255,b/255)) \n",
    "  return ret"
   ]
  },
  {
   "cell_type": "code",
   "execution_count": 145,
   "metadata": {},
   "outputs": [
    {
     "data": {
      "text/plain": [
       "0.0     109408\n",
       "1.0      99741\n",
       "2.0      91975\n",
       "3.0      74315\n",
       "4.0      49878\n",
       "5.0      44786\n",
       "6.0      43159\n",
       "7.0      39074\n",
       "8.0      33202\n",
       "9.0      32045\n",
       "10.0     15769\n",
       "11.0      3782\n",
       "12.0      2866\n",
       "Name: leading_party, dtype: int64"
      ]
     },
     "metadata": {},
     "output_type": "display_data"
    }
   ],
   "source": [
    "display(df[\"leading_party\"].value_counts())"
   ]
  },
  {
   "cell_type": "code",
   "execution_count": 173,
   "metadata": {},
   "outputs": [
    {
     "data": {
      "text/plain": [
       "{'Black Caribbean': 'purple',\n",
       " 'Chinese': 'cyan',\n",
       " 'Pakistani': 'olive',\n",
       " 'White and Asian': 'orange',\n",
       " 'Any other black background': 'red',\n",
       " 'Bangladeshi': 'limegreen',\n",
       " 'Indian': 'chocolate',\n",
       " 'Any other mixed background': 'pink',\n",
       " 'White and Black African': 'blue',\n",
       " 'Any other white background': 'darkgreen',\n",
       " 'Black African': 'yellow'}"
      ]
     },
     "execution_count": 173,
     "metadata": {},
     "output_type": "execute_result"
    }
   ],
   "source": [
    "dict(zip(dominant_parties,colour_list))"
   ]
  },
  {
   "cell_type": "code",
   "execution_count": 137,
   "metadata": {},
   "outputs": [
    {
     "data": {
      "text/html": [
       "['Pakistani', 'Black Caribbean', 'White and Asian', 'Any other black background', 'Chinese', 'Bangladeshi', 'White British', 'Indian', 'White and Black African', 'Any other mixed background', 'Any other white background', 'Black African', 'White and Black Caribbean', 'Other ethnic group']"
      ],
      "text/plain": [
       "['Pakistani',\n",
       " 'Black Caribbean',\n",
       " 'White and Asian',\n",
       " 'Any other black background',\n",
       " 'Chinese',\n",
       " 'Bangladeshi',\n",
       " 'White British',\n",
       " 'Indian',\n",
       " 'White and Black African',\n",
       " 'Any other mixed background',\n",
       " 'Any other white background',\n",
       " 'Black African',\n",
       " 'White and Black Caribbean',\n",
       " 'Other ethnic group']"
      ]
     },
     "execution_count": 137,
     "metadata": {},
     "output_type": "execute_result"
    }
   ],
   "source": [
    "dominant_parties"
   ]
  },
  {
   "cell_type": "code",
   "execution_count": 147,
   "metadata": {},
   "outputs": [
    {
     "data": {
      "text/html": [
       "['olive', 'purple', 'orange', 'red', 'green', 'darkblue', 'lightblue', 'cyan', 'limegreen', 'darkred', 'darkviolet', 'blue', 'chocolate']"
      ],
      "text/plain": [
       "['olive',\n",
       " 'purple',\n",
       " 'orange',\n",
       " 'red',\n",
       " 'green',\n",
       " 'darkblue',\n",
       " 'lightblue',\n",
       " 'cyan',\n",
       " 'limegreen',\n",
       " 'darkred',\n",
       " 'darkviolet',\n",
       " 'blue',\n",
       " 'chocolate']"
      ]
     },
     "execution_count": 147,
     "metadata": {},
     "output_type": "execute_result"
    }
   ],
   "source": [
    "colour_list"
   ]
  },
  {
   "cell_type": "code",
   "execution_count": 28,
   "metadata": {},
   "outputs": [],
   "source": [
    "skip_waves = [5,8,9,10,11,13,15,16 ]\n",
    "wave_list = [\"W\"+str(x) for x in list(range(1,max_wave)) if x not in skip_waves]"
   ]
  },
  {
   "cell_type": "code",
   "execution_count": 25,
   "metadata": {},
   "outputs": [
    {
     "data": {
      "text/plain": [
       "immigEconW1     30335\n",
       "immigEconW2     30240\n",
       "immigEconW3     28114\n",
       "immigEconW4     31444\n",
       "immigEconW7     30895\n",
       "immigEconW8     33502\n",
       "immigEconW10    30237\n",
       "immigEconW11    30956\n",
       "immigEconW13    31136\n",
       "immigEconW14    31063\n",
       "immigEconW15    30842\n",
       "immigEconW16    37959\n",
       "dtype: int64"
      ]
     },
     "execution_count": 25,
     "metadata": {},
     "output_type": "execute_result"
    }
   ],
   "source": [
    "search(BES_Panel,\"immigEcon\")"
   ]
  },
  {
   "cell_type": "code",
   "execution_count": 32,
   "metadata": {},
   "outputs": [],
   "source": [
    "### build animated gif\n",
    "\n",
    "\n",
    "filename_list = []\n",
    "sorted_wavelist = []\n",
    "# skip_waves = [ 1, 3, 4, 5, 7, 9, 10,11,13,15 ]\n",
    "for wave in wave_list:\n",
    "    \n",
    "    wave_no = int(wave.replace(\"W\",\"\"))\n",
    "    sorted_wavelist.append(wave_no)\n",
    "#     treatment = \"ptv_surface\"+wave+\"_\" + region + \"_LEAVE2016\"\n",
    "    treatment = stub_var+\"_surface\"+wave#+\"originalPC\"#+\"_\"\n",
    "    treatment = stub_var+\"_surface\"+wave\n",
    "    if region is not None:\n",
    "            treatment = treatment+\"_\"+region\n",
    "#     treatment = \"eurefvote_surface\"+wave+\"originalPC\"\n",
    "#     C:\\Users\\Marios\\Documents\\GitHub\\BES_analysis\\BES_analysis_output\\leftRight_minusDKs_surfaceW16\n",
    "    filename_list.append( BES_output_folder + treatment + os.sep + \"all_ptv_surfaces\"+\"_by_PC_territory\" + \".png\" )\n",
    "\n",
    "\n",
    "\n",
    "import imageio\n",
    "\n",
    "\n",
    "images = []\n",
    "for filename in filename_list:\n",
    "    images.append(imageio.imread(filename))\n",
    "images.append(imageio.imread(filename)) # last slide delay doesn't seem to be being respected on twitter - so add the last one twice\n",
    "sorted_wavelist.append(wave_no)\n",
    "imageio.mimsave(BES_output_folder + treatment + os.sep +'animated_ptv_surfaces.gif', images,'GIF',\n",
    "                duration=[6.0 if x==np.min( sorted_wavelist ) or x==np.max( sorted_wavelist ) else 3.0 for x in sorted_wavelist])  "
   ]
  },
  {
   "cell_type": "code",
   "execution_count": 29,
   "metadata": {},
   "outputs": [
    {
     "data": {
      "text/html": [
       "['../BES_analysis_output/immigEcon_surfaceW1\\\\all_ptv_surfaces_by_PC_territory.png', '../BES_analysis_output/immigEcon_surfaceW2\\\\all_ptv_surfaces_by_PC_territory.png', '../BES_analysis_output/immigEcon_surfaceW3\\\\all_ptv_surfaces_by_PC_territory.png', '../BES_analysis_output/immigEcon_surfaceW4\\\\all_ptv_surfaces_by_PC_territory.png', '../BES_analysis_output/immigEcon_surfaceW7\\\\all_ptv_surfaces_by_PC_territory.png', '../BES_analysis_output/immigEcon_surfaceW8\\\\all_ptv_surfaces_by_PC_territory.png', '../BES_analysis_output/immigEcon_surfaceW10\\\\all_ptv_surfaces_by_PC_territory.png', '../BES_analysis_output/immigEcon_surfaceW11\\\\all_ptv_surfaces_by_PC_territory.png']"
      ],
      "text/plain": [
       "['../BES_analysis_output/immigEcon_surfaceW1\\\\all_ptv_surfaces_by_PC_territory.png',\n",
       " '../BES_analysis_output/immigEcon_surfaceW2\\\\all_ptv_surfaces_by_PC_territory.png',\n",
       " '../BES_analysis_output/immigEcon_surfaceW3\\\\all_ptv_surfaces_by_PC_territory.png',\n",
       " '../BES_analysis_output/immigEcon_surfaceW4\\\\all_ptv_surfaces_by_PC_territory.png',\n",
       " '../BES_analysis_output/immigEcon_surfaceW7\\\\all_ptv_surfaces_by_PC_territory.png',\n",
       " '../BES_analysis_output/immigEcon_surfaceW8\\\\all_ptv_surfaces_by_PC_territory.png',\n",
       " '../BES_analysis_output/immigEcon_surfaceW10\\\\all_ptv_surfaces_by_PC_territory.png',\n",
       " '../BES_analysis_output/immigEcon_surfaceW11\\\\all_ptv_surfaces_by_PC_territory.png']"
      ]
     },
     "execution_count": 29,
     "metadata": {},
     "output_type": "execute_result"
    }
   ],
   "source": [
    "filename_list"
   ]
  },
  {
   "cell_type": "code",
   "execution_count": null,
   "metadata": {},
   "outputs": [],
   "source": []
  },
  {
   "cell_type": "code",
   "execution_count": 56,
   "metadata": {},
   "outputs": [
    {
     "data": {
      "text/plain": [
       "ageW1       30386\n",
       "ageW7       30895\n",
       "ageW8       33502\n",
       "ageW9       30036\n",
       "ageW11      30956\n",
       "ageW12      34394\n",
       "ageW13      31136\n",
       "ageW14      31063\n",
       "ageW16      37959\n",
       "ageW15      30831\n",
       "ageGroup    66552\n",
       "Age         66552\n",
       "dtype: int64"
      ]
     },
     "execution_count": 56,
     "metadata": {},
     "output_type": "execute_result"
    }
   ],
   "source": [
    "######\n",
    "search(BES_Panel,\"^age($|W|Group)\")"
   ]
  },
  {
   "cell_type": "code",
   "execution_count": 59,
   "metadata": {},
   "outputs": [
    {
     "data": {
      "text/html": [
       "<div>\n",
       "<style scoped>\n",
       "    .dataframe tbody tr th:only-of-type {\n",
       "        vertical-align: middle;\n",
       "    }\n",
       "\n",
       "    .dataframe tbody tr th {\n",
       "        vertical-align: top;\n",
       "    }\n",
       "\n",
       "    .dataframe thead th {\n",
       "        text-align: right;\n",
       "    }\n",
       "</style>\n",
       "<table border=\"1\" class=\"dataframe\">\n",
       "  <thead>\n",
       "    <tr style=\"text-align: right;\">\n",
       "      <th></th>\n",
       "      <th>ageW1</th>\n",
       "      <th>ageW7</th>\n",
       "      <th>ageW8</th>\n",
       "      <th>ageW9</th>\n",
       "      <th>ageW11</th>\n",
       "      <th>ageW12</th>\n",
       "      <th>ageW13</th>\n",
       "      <th>ageW14</th>\n",
       "      <th>ageW16</th>\n",
       "      <th>ageW15</th>\n",
       "      <th>Age</th>\n",
       "    </tr>\n",
       "  </thead>\n",
       "  <tbody>\n",
       "    <tr>\n",
       "      <th>0</th>\n",
       "      <td>58.0</td>\n",
       "      <td>60.0</td>\n",
       "      <td>60.0</td>\n",
       "      <td>60.0</td>\n",
       "      <td>NaN</td>\n",
       "      <td>NaN</td>\n",
       "      <td>NaN</td>\n",
       "      <td>NaN</td>\n",
       "      <td>NaN</td>\n",
       "      <td>NaN</td>\n",
       "      <td>58.0</td>\n",
       "    </tr>\n",
       "    <tr>\n",
       "      <th>1</th>\n",
       "      <td>62.0</td>\n",
       "      <td>64.0</td>\n",
       "      <td>64.0</td>\n",
       "      <td>64.0</td>\n",
       "      <td>65.0</td>\n",
       "      <td>65.0</td>\n",
       "      <td>65.0</td>\n",
       "      <td>66.0</td>\n",
       "      <td>NaN</td>\n",
       "      <td>NaN</td>\n",
       "      <td>62.0</td>\n",
       "    </tr>\n",
       "    <tr>\n",
       "      <th>2</th>\n",
       "      <td>76.0</td>\n",
       "      <td>78.0</td>\n",
       "      <td>NaN</td>\n",
       "      <td>NaN</td>\n",
       "      <td>79.0</td>\n",
       "      <td>79.0</td>\n",
       "      <td>79.0</td>\n",
       "      <td>80.0</td>\n",
       "      <td>81.0</td>\n",
       "      <td>81.0</td>\n",
       "      <td>76.0</td>\n",
       "    </tr>\n",
       "    <tr>\n",
       "      <th>3</th>\n",
       "      <td>51.0</td>\n",
       "      <td>NaN</td>\n",
       "      <td>NaN</td>\n",
       "      <td>NaN</td>\n",
       "      <td>NaN</td>\n",
       "      <td>NaN</td>\n",
       "      <td>NaN</td>\n",
       "      <td>NaN</td>\n",
       "      <td>NaN</td>\n",
       "      <td>NaN</td>\n",
       "      <td>51.0</td>\n",
       "    </tr>\n",
       "    <tr>\n",
       "      <th>4</th>\n",
       "      <td>68.0</td>\n",
       "      <td>NaN</td>\n",
       "      <td>NaN</td>\n",
       "      <td>NaN</td>\n",
       "      <td>NaN</td>\n",
       "      <td>NaN</td>\n",
       "      <td>NaN</td>\n",
       "      <td>NaN</td>\n",
       "      <td>NaN</td>\n",
       "      <td>NaN</td>\n",
       "      <td>68.0</td>\n",
       "    </tr>\n",
       "    <tr>\n",
       "      <th>...</th>\n",
       "      <td>...</td>\n",
       "      <td>...</td>\n",
       "      <td>...</td>\n",
       "      <td>...</td>\n",
       "      <td>...</td>\n",
       "      <td>...</td>\n",
       "      <td>...</td>\n",
       "      <td>...</td>\n",
       "      <td>...</td>\n",
       "      <td>...</td>\n",
       "      <td>...</td>\n",
       "    </tr>\n",
       "    <tr>\n",
       "      <th>92582</th>\n",
       "      <td>NaN</td>\n",
       "      <td>NaN</td>\n",
       "      <td>NaN</td>\n",
       "      <td>NaN</td>\n",
       "      <td>NaN</td>\n",
       "      <td>NaN</td>\n",
       "      <td>NaN</td>\n",
       "      <td>NaN</td>\n",
       "      <td>42.0</td>\n",
       "      <td>NaN</td>\n",
       "      <td>NaN</td>\n",
       "    </tr>\n",
       "    <tr>\n",
       "      <th>92583</th>\n",
       "      <td>NaN</td>\n",
       "      <td>NaN</td>\n",
       "      <td>NaN</td>\n",
       "      <td>NaN</td>\n",
       "      <td>NaN</td>\n",
       "      <td>NaN</td>\n",
       "      <td>NaN</td>\n",
       "      <td>NaN</td>\n",
       "      <td>34.0</td>\n",
       "      <td>NaN</td>\n",
       "      <td>NaN</td>\n",
       "    </tr>\n",
       "    <tr>\n",
       "      <th>92584</th>\n",
       "      <td>NaN</td>\n",
       "      <td>NaN</td>\n",
       "      <td>NaN</td>\n",
       "      <td>NaN</td>\n",
       "      <td>NaN</td>\n",
       "      <td>NaN</td>\n",
       "      <td>NaN</td>\n",
       "      <td>NaN</td>\n",
       "      <td>63.0</td>\n",
       "      <td>NaN</td>\n",
       "      <td>NaN</td>\n",
       "    </tr>\n",
       "    <tr>\n",
       "      <th>92585</th>\n",
       "      <td>NaN</td>\n",
       "      <td>NaN</td>\n",
       "      <td>NaN</td>\n",
       "      <td>NaN</td>\n",
       "      <td>NaN</td>\n",
       "      <td>NaN</td>\n",
       "      <td>NaN</td>\n",
       "      <td>NaN</td>\n",
       "      <td>38.0</td>\n",
       "      <td>NaN</td>\n",
       "      <td>NaN</td>\n",
       "    </tr>\n",
       "    <tr>\n",
       "      <th>92586</th>\n",
       "      <td>NaN</td>\n",
       "      <td>NaN</td>\n",
       "      <td>NaN</td>\n",
       "      <td>NaN</td>\n",
       "      <td>NaN</td>\n",
       "      <td>NaN</td>\n",
       "      <td>NaN</td>\n",
       "      <td>NaN</td>\n",
       "      <td>30.0</td>\n",
       "      <td>NaN</td>\n",
       "      <td>NaN</td>\n",
       "    </tr>\n",
       "  </tbody>\n",
       "</table>\n",
       "<p>92587 rows × 11 columns</p>\n",
       "</div>"
      ],
      "text/plain": [
       "       ageW1  ageW7  ageW8  ageW9  ageW11  ageW12  ageW13  ageW14  ageW16  \\\n",
       "0       58.0   60.0   60.0   60.0     NaN     NaN     NaN     NaN     NaN   \n",
       "1       62.0   64.0   64.0   64.0    65.0    65.0    65.0    66.0     NaN   \n",
       "2       76.0   78.0    NaN    NaN    79.0    79.0    79.0    80.0    81.0   \n",
       "3       51.0    NaN    NaN    NaN     NaN     NaN     NaN     NaN     NaN   \n",
       "4       68.0    NaN    NaN    NaN     NaN     NaN     NaN     NaN     NaN   \n",
       "...      ...    ...    ...    ...     ...     ...     ...     ...     ...   \n",
       "92582    NaN    NaN    NaN    NaN     NaN     NaN     NaN     NaN    42.0   \n",
       "92583    NaN    NaN    NaN    NaN     NaN     NaN     NaN     NaN    34.0   \n",
       "92584    NaN    NaN    NaN    NaN     NaN     NaN     NaN     NaN    63.0   \n",
       "92585    NaN    NaN    NaN    NaN     NaN     NaN     NaN     NaN    38.0   \n",
       "92586    NaN    NaN    NaN    NaN     NaN     NaN     NaN     NaN    30.0   \n",
       "\n",
       "       ageW15   Age  \n",
       "0         NaN  58.0  \n",
       "1         NaN  62.0  \n",
       "2        81.0  76.0  \n",
       "3         NaN  51.0  \n",
       "4         NaN  68.0  \n",
       "...       ...   ...  \n",
       "92582     NaN   NaN  \n",
       "92583     NaN   NaN  \n",
       "92584     NaN   NaN  \n",
       "92585     NaN   NaN  \n",
       "92586     NaN   NaN  \n",
       "\n",
       "[92587 rows x 11 columns]"
      ]
     },
     "execution_count": 59,
     "metadata": {},
     "output_type": "execute_result"
    }
   ],
   "source": [
    "BES_Panel[ search(BES_Panel,\"^ageW\\d+|^age$|^Age$\").index ].copy().astype('float32')"
   ]
  },
  {
   "cell_type": "code",
   "execution_count": 102,
   "metadata": {},
   "outputs": [
    {
     "data": {
      "text/plain": [
       "0         3\n",
       "1     24574\n",
       "2     17238\n",
       "3      8195\n",
       "4      6494\n",
       "5      5915\n",
       "6      5461\n",
       "7      6372\n",
       "8      5002\n",
       "9      5341\n",
       "10     4853\n",
       "11     3139\n",
       "dtype: int64"
      ]
     },
     "execution_count": 102,
     "metadata": {},
     "output_type": "execute_result"
    }
   ],
   "source": [
    "# just ageWX variables\n",
    "\n",
    "ageW_vars = BES_Panel[ search(BES_Panel,\"^ageW\\d+|^age$|^Age$\").index ].copy().astype('float32')\n",
    "ageW_vars[ageW_vars<15] = np.nan\n",
    "ageW_vars[ageW_vars>105] = np.nan\n",
    "ageW_vars.loc[33553,\"ageW8\"] = np.nan\n",
    "ageW_vars.loc[739,\"ageW1\"] = np.nan\n",
    "ageW_vars.loc[739,\"Age\"] = np.nan\n",
    "ageW_vars.loc[2944,\"ageW1\"] = np.nan\n",
    "ageW_vars.loc[2944,\"Age\"] = np.nan\n",
    "ageW_vars.loc[6819,\"ageW14\"] = np.nan\n",
    "ageW_vars.notnull().sum(axis=1).value_counts().sort_index()"
   ]
  },
  {
   "cell_type": "code",
   "execution_count": 95,
   "metadata": {},
   "outputs": [
    {
     "data": {
      "text/plain": [
       "2     5\n",
       "3    10\n",
       "4     6\n",
       "5     8\n",
       "6     1\n",
       "7     2\n",
       "9     1\n",
       "dtype: int64"
      ]
     },
     "execution_count": 95,
     "metadata": {},
     "output_type": "execute_result"
    }
   ],
   "source": [
    "age_var_num = ageW_vars.notnull().sum(axis=1)\n",
    "obvious_disparities = (ageW_vars.max(axis=1)-ageW_vars.min(axis=1))>=9\n",
    "obvious_disparities.sum()\n",
    "\n",
    "age_var_num[obvious_disparities].value_counts().sort_index()\n",
    "# not much to be done about those 7!"
   ]
  },
  {
   "cell_type": "code",
   "execution_count": 99,
   "metadata": {},
   "outputs": [
    {
     "data": {
      "text/plain": [
       "4"
      ]
     },
     "execution_count": 99,
     "metadata": {},
     "output_type": "execute_result"
    }
   ],
   "source": [
    "easy_filterable = ((obvious_disparities) &  (age_var_num>5))\n",
    "len( easy_filterable[easy_filterable].index )"
   ]
  },
  {
   "cell_type": "code",
   "execution_count": 104,
   "metadata": {},
   "outputs": [
    {
     "data": {
      "text/plain": [
       "{2681: ('ageW15', 10.36364),\n",
       " 6819: ('Age', 11.5),\n",
       " 7848: ('Age', 10.0),\n",
       " 47339: ('ageW15', 5.4444427)}"
      ]
     },
     "execution_count": 104,
     "metadata": {},
     "output_type": "execute_result"
    }
   ],
   "source": [
    "dict_of_bad_variables = {}\n",
    "for ind in easy_filterable[easy_filterable].index:\n",
    "#     first = easy_filterable[easy_filterable].index[0]\n",
    "    mean_age = ageW_vars.loc[ind].mean()\n",
    "    age_abs_dev = np.abs(ageW_vars.loc[ind] - mean_age)\n",
    "\n",
    "    bad_variable = age_abs_dev.dropna().sort_values(ascending=False).index[0]\n",
    "    bad_deviation = age_abs_dev.dropna().sort_values(ascending=False).values[0]\n",
    "    dict_of_bad_variables[ind] = (bad_variable,bad_deviation)\n",
    "    \n",
    "    ageW_vars.loc[ind,bad_variable] = np.nan\n",
    "dict_of_bad_variables    "
   ]
  },
  {
   "cell_type": "code",
   "execution_count": 113,
   "metadata": {},
   "outputs": [],
   "source": [
    "from scipy.optimize import curve_fit\n",
    "\n",
    "def match_age(x, ageW7c, ageW8c, ageW9c,ageW11c,ageW12c,ageW13c,ageW14c,ageW15c,ageW16c):\n",
    "    x = pd.DataFrame(x, columns = ['ageW1', 'ageW7', 'ageW8', 'ageW9', 'ageW11', 'ageW12', 'ageW13',\n",
    "       'ageW14', 'ageW15', 'ageW16', 'Age']).replace(0, np.nan)\n",
    "    x[\"ageW7\"]  -= ageW7c\n",
    "    x[\"ageW8\"]  -= ageW8c\n",
    "    x[\"ageW9\"]  -= ageW9c    \n",
    "    x[\"ageW11\"] -= ageW11c\n",
    "    x[\"ageW12\"] -= ageW12c\n",
    "    x[\"ageW13\"] -= ageW13c\n",
    "    x[\"ageW14\"] -= ageW14c\n",
    "    x[\"ageW15\"] -= ageW15c\n",
    "    x[\"ageW16\"] -= ageW16c     \n",
    "    return x.std(axis=1)\n",
    "    \n",
    "    "
   ]
  },
  {
   "cell_type": "code",
   "execution_count": 115,
   "metadata": {},
   "outputs": [],
   "source": [
    "comparisons_possible = ageW_vars.notnull().sum(axis=1)>=2\n",
    "ydata = np.zeros(sum(comparisons_possible))\n",
    "\n",
    "\n",
    "\n",
    "popt, pcov = curve_fit(match_age, ageW_vars[comparisons_possible].replace(np.nan,0).values, ydata, p0=[2,2,2, 3,3,3, 4,2,0])"
   ]
  },
  {
   "cell_type": "code",
   "execution_count": 116,
   "metadata": {},
   "outputs": [
    {
     "data": {
      "text/plain": [
       "array([1.81368497, 1.89961546, 1.96295385, 2.33039763, 2.55873121,\n",
       "       2.64188457, 3.58166956, 4.64035894, 4.45193276])"
      ]
     },
     "execution_count": 116,
     "metadata": {},
     "output_type": "execute_result"
    }
   ],
   "source": [
    "popt"
   ]
  },
  {
   "cell_type": "code",
   "execution_count": 117,
   "metadata": {},
   "outputs": [],
   "source": [
    "ageW_vars_matched = ageW_vars.copy()\n",
    "ageW_vars_matched[\"ageW7\"]  -= popt[0]\n",
    "ageW_vars_matched[\"ageW8\"]  -= popt[1]\n",
    "ageW_vars_matched[\"ageW9\"]  -= popt[2]    \n",
    "ageW_vars_matched[\"ageW11\"] -= popt[3]\n",
    "ageW_vars_matched[\"ageW12\"] -= popt[4]\n",
    "ageW_vars_matched[\"ageW13\"] -= popt[5]\n",
    "ageW_vars_matched[\"ageW14\"] -= popt[6]\n",
    "ageW_vars_matched[\"ageW15\"] -= popt[7]\n",
    "ageW_vars_matched[\"ageW16\"] -= popt[8]\n",
    "\n",
    "# ageW_vars_matched[\"age\"] -= 2    \n",
    "# ageW_vars_matched[\"Age\"] -= 0"
   ]
  },
  {
   "cell_type": "code",
   "execution_count": 118,
   "metadata": {},
   "outputs": [
    {
     "data": {
      "text/plain": [
       "2     15\n",
       "3     16\n",
       "4     16\n",
       "5     10\n",
       "6     14\n",
       "7     16\n",
       "8     21\n",
       "9     23\n",
       "10    23\n",
       "11    14\n",
       "dtype: int64"
      ]
     },
     "execution_count": 118,
     "metadata": {},
     "output_type": "execute_result"
    }
   ],
   "source": [
    "# max_minus_min = ageW_vars_matched.max(axis=1) - ageW_vars_matched.min(axis=1)\n",
    "# max_minus_min[max_minus_min>4].value_counts().sum()\n",
    "\n",
    "age_var_num = ageW_vars_matched.notnull().sum(axis=1)\n",
    "obvious_disparities = (ageW_vars_matched.max(axis=1)-ageW_vars_matched.min(axis=1))>=4\n",
    "obvious_disparities.sum()\n",
    "\n",
    "age_var_num[obvious_disparities].value_counts().sort_index()\n",
    "# not much to be done about those 7!\n"
   ]
  },
  {
   "cell_type": "code",
   "execution_count": 119,
   "metadata": {},
   "outputs": [
    {
     "data": {
      "text/plain": [
       "153"
      ]
     },
     "execution_count": 119,
     "metadata": {},
     "output_type": "execute_result"
    }
   ],
   "source": [
    "easy_filterable = ((obvious_disparities) &  (age_var_num>=3))\n",
    "len( easy_filterable[easy_filterable].index )"
   ]
  },
  {
   "cell_type": "code",
   "execution_count": 121,
   "metadata": {},
   "outputs": [
    {
     "data": {
      "text/plain": [
       "{1434: ('ageW1', 7.113247473877806),\n",
       " 1492: ('ageW1', 8.603255131703023),\n",
       " 1623: ('ageW1', 11.853055807656219),\n",
       " 1743: ('ageW1', 25.492144020591915),\n",
       " 2191: ('ageW1', 5.743895383265055),\n",
       " 2681: ('ageW14', 9.950434574723836),\n",
       " 2709: ('ageW1', 4.541818902449229),\n",
       " 2891: ('ageW1', 7.927435955169038),\n",
       " 3576: ('ageW1', 13.458181097550764),\n",
       " 3687: ('ageW1', 15.669063568320354),\n",
       " 4142: ('ageW11', 0.4329984764509618),\n",
       " 4816: ('ageW1', 3.8881228942974815),\n",
       " 4946: ('ageW11', 0.3733692166983076),\n",
       " 5105: ('ageW1', 3.3676996018458),\n",
       " 5167: ('ageW1', 5.111877105702511),\n",
       " 5381: ('Age', 0.857070381467274),\n",
       " 5559: ('ageW15', 8.924294685048878),\n",
       " 5634: ('ageW1', 15.62253659467332),\n",
       " 6611: ('ageW1', 3.2975002521006616),\n",
       " 6682: ('ageW12', 10.960845858746119),\n",
       " 6819: ('ageW15', 8.365298003994909),\n",
       " 7081: ('ageW1', 4.032886576395313),\n",
       " 7236: ('ageW1', 4.019046672308171),\n",
       " 7370: ('Age', 1.7759084603569235),\n",
       " 7394: ('ageW1', 25.8867525261222),\n",
       " 7823: ('ageW11', 0.38808484994719805),\n",
       " 7848: ('ageW16', 8.216044778520732),\n",
       " 7980: ('ageW1', 5.999012512423036),\n",
       " 8979: ('ageW9', 3.3086359002764567),\n",
       " 9075: ('ageW12', 0.23003529407667145),\n",
       " 9278: ('ageW1', 4.788122894297487),\n",
       " 9932: ('ageW1', 2.830936431679646),\n",
       " 10060: ('ageW1', 25.952300423852535),\n",
       " 10510: ('ageW1', 3.9118771057025157),\n",
       " 10522: ('ageW1', 21.125947694593215),\n",
       " 10566: ('ageW1', 3.7690466723081713),\n",
       " 10748: ('ageW1', 6.611877105702511),\n",
       " 11024: ('ageW1', 8.315323954693625),\n",
       " 11577: ('ageW14', 3.3828987586094996),\n",
       " 12094: ('ageW14', 0.261160208072738),\n",
       " 12289: ('ageW13', 0.8010450525493269),\n",
       " 12356: ('ageW1', 5.292093796118721),\n",
       " 12569: ('ageW1', 7.608820621680806),\n",
       " 12728: ('ageW1', 6.264706759905053),\n",
       " 13192: ('ageW1', 7.537741202281367),\n",
       " 13498: ('ageW1', 8.473617155831),\n",
       " 14034: ('ageW1', 34.6273324543979),\n",
       " 14107: ('ageW1', 8.187362982868834),\n",
       " 14112: ('ageW1', 6.239995941737412),\n",
       " 14419: ('ageW1', 6.522271180090861),\n",
       " 14492: ('ageW1', 9.174522646074749),\n",
       " 15111: ('ageW1', 4.080936431679646),\n",
       " 15352: ('ageW1', 5.088122894297481),\n",
       " 16009: ('ageW1', 9.311877105702514),\n",
       " 16309: ('ageW1', 8.558577254837573),\n",
       " 17711: ('ageW12', 0.2808216525685481),\n",
       " 17737: ('Age', 0.7240915396430765),\n",
       " 17993: ('ageW1', 4.811877105702514),\n",
       " 18939: ('ageW1', 22.473426452417982),\n",
       " 18947: ('ageW1', 40.1132474738778),\n",
       " 19070: ('ageW12', 0.23136715043923317),\n",
       " 19463: ('ageW1', 23.711877105702513),\n",
       " 19795: ('ageW1', 20.830936431679646),\n",
       " 20035: ('ageW1', 23.957924308904055),\n",
       " 20525: ('ageW1', 11.388122894297489),\n",
       " 20648: ('ageW1', 13.915652222699514),\n",
       " 20962: ('ageW1', 3.6861257733901738),\n",
       " 21204: ('ageW14', 0.2254731297997239),\n",
       " 21467: ('ageW1', 4.605463187637213),\n",
       " 21541: ('ageW1', 4.776382844169003),\n",
       " 21797: ('ageW1', 3.684676045306375),\n",
       " 21902: ('Age', 0.0),\n",
       " 22348: ('ageW1', 26.992495113612776),\n",
       " 22762: ('ageW1', 38.970717904329504),\n",
       " 23175: ('ageW1', 4.2834257012516765),\n",
       " 23665: ('ageW1', 9.618967090519206),\n",
       " 23805: ('ageW13', 3.572076956011074),\n",
       " 24411: ('ageW14', 0.22383756182535564),\n",
       " 24652: ('ageW11', 0.41253198682296954),\n",
       " 24699: ('Age', 0.0),\n",
       " 25035: ('ageW1', 6.611877105702511),\n",
       " 25274: ('ageW1', 8.473617155831),\n",
       " 25713: ('ageW14', 3.6122202908049275),\n",
       " 25911: ('ageW1', 4.02960966897934),\n",
       " 30724: ('ageW16', 0.29003856129669714),\n",
       " 31037: ('ageW11', 0.34826439145615495),\n",
       " 31074: ('ageW15', 0.09421309051580096),\n",
       " 31560: ('ageW11', 0.3528951601543113),\n",
       " 33605: ('ageW7', 0.07839979227065541),\n",
       " 33842: ('ageW15', 0.7168362321896424),\n",
       " 37497: ('Age', 0.09556652571109225),\n",
       " 38390: ('ageW12', 6.631549527929154),\n",
       " 40230: ('ageW11', 0.38396861110438607),\n",
       " 40684: ('Age', 0.17982053066038617),\n",
       " 40825: ('Age', 0.25932383250938784),\n",
       " 43314: ('ageW11', 0.36081245928404115),\n",
       " 43535: ('ageW11', 0.3839686111043932),\n",
       " 44102: ('ageW11', 0.4048956083851962),\n",
       " 44129: ('ageW11', 0.38396861110438607),\n",
       " 44694: ('ageW14', 0.23471089883293672),\n",
       " 44975: ('ageW11', 0.38396861110438607),\n",
       " 45547: ('Age', 1.558789909006208),\n",
       " 45633: ('ageW11', 0.3588106209944186),\n",
       " 46367: ('Age', 1.141179378319201),\n",
       " 47105: ('ageW11', 0.3930288207082313),\n",
       " 47339: ('ageW14', 4.483836095484293),\n",
       " 47886: ('ageW7', 24.227510371723866),\n",
       " 48120: ('ageW11', 0.444358446786012),\n",
       " 48404: ('ageW11', 0.3839686111043932),\n",
       " 48641: ('Age', 0.7300782016303131),\n",
       " 48999: ('ageW11', 0.37155377076992124),\n",
       " 49717: ('ageW11', 0.347809794727965),\n",
       " 50161: ('Age', 0.0955665257110958),\n",
       " 50995: ('ageW11', 0.40186615451784746),\n",
       " 51871: ('Age', 0.050192271311551906),\n",
       " 51968: ('ageW11', 0.40568921316980777),\n",
       " 53344: ('Age', 0.050192271311551906),\n",
       " 53377: ('Age', 1.6010695471057375),\n",
       " 54164: ('ageW11', 0.37155377076992835),\n",
       " 55689: ('ageW11', 0.38035269416999284),\n",
       " 56152: ('Age', 1.2892496741202564),\n",
       " 56532: ('Age', 1.1730485975203209),\n",
       " 57204: ('Age', 1.2222314692124883),\n",
       " 59198: ('ageW14', 7.640867030880713),\n",
       " 59631: ('Age', 2.1255069853409694),\n",
       " 60112: ('Age', 1.6255069853409694),\n",
       " 60420: ('Age', 2.1255069853409694),\n",
       " 60854: ('Age', 1.2793656059404128),\n",
       " 61151: ('ageW15', 1.689750556270063),\n",
       " 62043: ('ageW15', 4.381872530533258),\n",
       " 62157: ('Age', 13.804428664585792),\n",
       " 62796: ('ageW13', 0.5351199038746017),\n",
       " 62914: ('ageW11', 0.19426338947041444),\n",
       " 63241: ('ageW14', 1.3209077832403295),\n",
       " 63259: ('ageW16', 30.055343524203312),\n",
       " 63287: ('ageW13', 0.5427660211785224),\n",
       " 63883: ('Age', 1.6297096145301921),\n",
       " 63968: ('Age', 1.6297096145301921),\n",
       " 64923: ('ageW15', 1.4361452265551016),\n",
       " 65223: ('ageW15', 1.6897505562700665),\n",
       " 65240: ('ageW16', 1.5844369793653854),\n",
       " 65560: ('Age', 1.5926571658427235),\n",
       " 66114: ('Age', 1.6297096145301992),\n",
       " 66383: ('Age', 1.165198815854879),\n",
       " 67297: ('ageW13', 0.04157667705128176),\n",
       " 67730: ('ageW12', 11.000558093880755),\n",
       " 68770: ('ageW15', 0.09421309051580096),\n",
       " 68842: ('ageW15', 0.529344687443313),\n",
       " 69304: ('ageW15', 0.029344687443312978),\n",
       " 69664: ('ageW15', 0.029344687443312978),\n",
       " 70338: ('ageW16', 0.09421309051580096),\n",
       " 72583: ('ageW15', 0.594213090515801),\n",
       " 73445: ('ageW15', 0.09421309051580096)}"
      ]
     },
     "execution_count": 121,
     "metadata": {},
     "output_type": "execute_result"
    }
   ],
   "source": [
    "dict_of_bad_variables = {}\n",
    "for ind in easy_filterable[easy_filterable].index:\n",
    "#     first = easy_filterable[easy_filterable].index[0]\n",
    "    mean_age = ageW_vars_matched.loc[ind].mean()\n",
    "    age_abs_dev = np.abs(ageW_vars_matched.loc[ind] - mean_age)\n",
    "\n",
    "    bad_variable = age_abs_dev.dropna().sort_values(ascending=False).index[0]\n",
    "    bad_deviation = age_abs_dev.dropna().sort_values(ascending=False).values[0]\n",
    "    dict_of_bad_variables[ind] = (bad_variable,bad_deviation)\n",
    "    \n",
    "    ageW_vars.loc[ind,bad_variable] = np.nan\n",
    "    ageW_vars_matched.loc[ind,bad_variable] = np.nan\n",
    "dict_of_bad_variables    "
   ]
  },
  {
   "cell_type": "code",
   "execution_count": 122,
   "metadata": {},
   "outputs": [
    {
     "name": "stderr",
     "output_type": "stream",
     "text": [
      "C:\\ProgramData\\Anaconda3\\envs\\BES_analysis\\lib\\site-packages\\ipykernel_launcher.py:2: FutureWarning: to_msgpack is deprecated and will be removed in a future version.\n",
      "It is recommended to use pyarrow for on-the-wire transmission of pandas objects.\n",
      "  \n"
     ]
    }
   ],
   "source": [
    "cleaned_ages = ageW_vars_matched.mean(axis=1)\n",
    "cleaned_ages.to_msgpack(BES_small_data_files+\"cleaned_ages\")"
   ]
  },
  {
   "cell_type": "code",
   "execution_count": 123,
   "metadata": {},
   "outputs": [],
   "source": [
    "pred_ages = pd.read_msgpack(BES_small_data_files+\"pred_ages\" )"
   ]
  },
  {
   "cell_type": "code",
   "execution_count": 124,
   "metadata": {},
   "outputs": [
    {
     "data": {
      "text/plain": [
       "array([[<matplotlib.axes._subplots.AxesSubplot object at 0x000000004FC0B208>]],\n",
       "      dtype=object)"
      ]
     },
     "execution_count": 124,
     "metadata": {},
     "output_type": "execute_result"
    },
    {
     "data": {
      "image/png": "[encoded data removed]",
      "text/plain": [
       "<Figure size 432x288 with 1 Axes>"
      ]
     },
     "metadata": {},
     "output_type": "display_data"
    }
   ],
   "source": [
    "pred_ages.hist(bins=200)"
   ]
  },
  {
   "cell_type": "code",
   "execution_count": 125,
   "metadata": {},
   "outputs": [
    {
     "name": "stderr",
     "output_type": "stream",
     "text": [
      "C:\\ProgramData\\Anaconda3\\envs\\BES_analysis\\lib\\site-packages\\statsmodels\\nonparametric\\kde.py:447: RuntimeWarning: invalid value encountered in greater\n",
      "  X = X[np.logical_and(X > clip[0], X < clip[1])] # won't work for two columns.\n",
      "C:\\ProgramData\\Anaconda3\\envs\\BES_analysis\\lib\\site-packages\\statsmodels\\nonparametric\\kde.py:447: RuntimeWarning: invalid value encountered in less\n",
      "  X = X[np.logical_and(X > clip[0], X < clip[1])] # won't work for two columns.\n"
     ]
    },
    {
     "data": {
      "image/png": "[encoded data removed]",
      "text/plain": [
       "<Figure size 432x288 with 1 Axes>"
      ]
     },
     "metadata": {},
     "output_type": "display_data"
    }
   ],
   "source": [
    "sns.kdeplot(cleaned_ages);\n",
    "sns.kdeplot(pred_ages[\"pred_ages\"]);\n",
    "\n",
    "## doesn't look amazing ... but pseudo-R^2 ~80%"
   ]
  },
  {
   "cell_type": "code",
   "execution_count": 127,
   "metadata": {},
   "outputs": [],
   "source": [
    "# BES_Panel.loc[67676,top_age_correlates_bespanel].dropna()\n",
    "\n",
    "ageW_vars.loc[63078,\"ageW13\"] = np.nan\n",
    "ageW_vars_matched.loc[63078,\"ageW13\"] = np.nan\n",
    "\n",
    "ageW_vars.loc[63211,\"age\"] = np.nan\n",
    "ageW_vars_matched.loc[63211,\"age\"] = np.nan"
   ]
  },
  {
   "cell_type": "code",
   "execution_count": 128,
   "metadata": {},
   "outputs": [
    {
     "data": {
      "text/plain": [
       "<matplotlib.axes._subplots.AxesSubplot at 0x9e505a58>"
      ]
     },
     "execution_count": 128,
     "metadata": {},
     "output_type": "execute_result"
    },
    {
     "data": {
      "image/png": "[encoded data removed]",
      "text/plain": [
       "<Figure size 432x288 with 1 Axes>"
      ]
     },
     "metadata": {},
     "output_type": "display_data"
    }
   ],
   "source": [
    "# disparities between single age variable and pred_ages\n",
    "# not great, but at least reasonably normal looking\n",
    "(ageW_vars.loc[(age_var_num==1)].sum(axis=1)-pred_ages.loc[(age_var_num==1)][\"pred_ages\"]).hist(bins=100)"
   ]
  },
  {
   "cell_type": "code",
   "execution_count": 129,
   "metadata": {},
   "outputs": [],
   "source": [
    "# respondents that post cleaning have *no* age variables?\n",
    "# substitute in pred_ages (better than obvious gibberish/nothing!)\n",
    "ageW_vars.loc[(age_var_num==0)]\n",
    "pred_ages.loc[(age_var_num==0)]\n",
    "ageW_vars_matched.loc[12229,\"Age\"] = 41.688381\n",
    "ageW_vars_matched.loc[62207,\"Age\"] = 27.849688"
   ]
  },
  {
   "cell_type": "code",
   "execution_count": 278,
   "metadata": {},
   "outputs": [],
   "source": [
    "Age_at_W1 = ageW_vars_matched.mean(axis=1)\n",
    "Age_at_W1_rounded = Age_at_W1.round()\n",
    "# fill in the last 3 gaps with averages\n",
    "Age_at_W1_rounded.loc[62208] = 71\n",
    "Age_at_W1_rounded.loc[75417] = 45\n",
    "Age_at_W1_rounded.loc[78141] = 45\n",
    "Age_at_W1.loc[62208] = 71\n",
    "Age_at_W1.loc[75417] = 45\n",
    "Age_at_W1.loc[78141] = 45"
   ]
  },
  {
   "cell_type": "code",
   "execution_count": 223,
   "metadata": {},
   "outputs": [
    {
     "data": {
      "text/plain": [
       "Index(['18-25', '26-35', '36-45', '46-55', '56-65', '66+', 'Under 18'], dtype='object')"
      ]
     },
     "execution_count": 223,
     "metadata": {},
     "output_type": "execute_result"
    }
   ],
   "source": [
    "BES_Panel[\"ageGroup\"].cat.categories\n"
   ]
  },
  {
   "cell_type": "code",
   "execution_count": 225,
   "metadata": {},
   "outputs": [
    {
     "data": {
      "text/plain": [
       "Under 18     3571\n",
       "18-25       13186\n",
       "26-35       14684\n",
       "36-45       14823\n",
       "46-55       14913\n",
       "56-65       18126\n",
       "66+         13284\n",
       "dtype: int64"
      ]
     },
     "execution_count": 225,
     "metadata": {},
     "output_type": "execute_result"
    }
   ],
   "source": [
    "# pd.cut(Age_at_W1, bins = [ 18, 25,35,45,55,65])\n",
    "age_group_cats =  ['Under 18', '18-25', '26-35', '36-45', '46-55', '56-65', '66+']\n",
    "standard_age_groups = pd.IntervalIndex.from_arrays([0, 18, 26,36,46,56,66], [17, 25, 35, 45, 55, 65, 120], closed = 'both')\n",
    "standardAgeGroup_at_W1 = pd.cut(Age_at_W1_rounded, standard_age_groups, labels = age_group_cats)\n",
    "standardAgeGroup_at_W1.cat.rename_categories(age_group_cats, inplace=True)\n",
    "standardAgeGroup_at_W1.value_counts().sort_index()"
   ]
  },
  {
   "cell_type": "code",
   "execution_count": 226,
   "metadata": {},
   "outputs": [
    {
     "data": {
      "text/plain": [
       "(10, 15]    1171\n",
       "(15, 20]    7424\n",
       "(20, 25]    8162\n",
       "(25, 30]    6853\n",
       "(30, 35]    7831\n",
       "(35, 40]    6901\n",
       "(40, 45]    7922\n",
       "(45, 50]    7156\n",
       "(50, 55]    7757\n",
       "(55, 60]    8912\n",
       "(60, 65]    9214\n",
       "(65, 70]    8079\n",
       "(70, 75]    3447\n",
       "(75, 80]    1298\n",
       "(80, 85]     421\n",
       "(85, 90]      33\n",
       "(90, 95]       6\n",
       "dtype: int64"
      ]
     },
     "execution_count": 226,
     "metadata": {},
     "output_type": "execute_result"
    }
   ],
   "source": [
    "# equal_length_age_groups = pd.IntervalIndex.from_arrays([13, 18, 26,36,46,56,66], [17, 25, 35, 45, 55, 65, 120], closed = 'both')\n",
    "equalLengthAgeGroup_at_W1 = pd.cut(Age_at_W1_rounded, range(10,96,5) )\n",
    "# standardAgeGroup_at_W1.cat.rename_categories(BES_Panel[\"ageGroup\"].cat.categories, inplace=True)\n",
    "equalLengthAgeGroup_at_W1.value_counts().sort_index()"
   ]
  },
  {
   "cell_type": "code",
   "execution_count": 227,
   "metadata": {},
   "outputs": [
    {
     "data": {
      "image/png": "[encoded data removed]",
      "text/plain": [
       "<Figure size 432x288 with 1 Axes>"
      ]
     },
     "metadata": {},
     "output_type": "display_data"
    }
   ],
   "source": [
    "frac_diff_between_emptiest_fullest_bin = []\n",
    "q_values = range(1,20)\n",
    "for q in q_values:\n",
    "    x = pd.qcut(Age_at_W1,q=q, precision=0).value_counts().sort_index()\n",
    "    (x/x.mean()).max(),(x/x.mean()).min()\n",
    "    frac_diff_between_emptiest_fullest_bin.append( (x/x.mean()).max() - (x/x.mean()).min() )\n",
    "\n",
    "plt.plot(q_values,frac_diff_between_emptiest_fullest_bin);\n",
    "plt.xticks(q_values);\n",
    "# frac_diff_between_emptiest_fullest_bin\n",
    "\n",
    "# 8 split is best balance between number of categories and flatness of categories\n"
   ]
  },
  {
   "cell_type": "code",
   "execution_count": 228,
   "metadata": {},
   "outputs": [
    {
     "data": {
      "text/plain": [
       "(12.0, 22.0]    11583\n",
       "(22.0, 30.0]    11564\n",
       "(30.0, 38.0]    11688\n",
       "(38.0, 46.0]    11603\n",
       "(46.0, 53.0]    11427\n",
       "(53.0, 60.0]    11573\n",
       "(60.0, 66.0]    11583\n",
       "(66.0, 95.0]    11563\n",
       "dtype: int64"
      ]
     },
     "execution_count": 228,
     "metadata": {},
     "output_type": "execute_result"
    }
   ],
   "source": [
    "equalisedAgeGroup_at_W1 = pd.qcut(Age_at_W1,q=8, precision=0)\n",
    "equalisedAgeGroup_at_W1.value_counts().sort_index()\n"
   ]
  },
  {
   "cell_type": "code",
   "execution_count": 229,
   "metadata": {},
   "outputs": [
    {
     "name": "stderr",
     "output_type": "stream",
     "text": [
      "C:\\ProgramData\\Anaconda3\\envs\\BES_analysis\\lib\\site-packages\\ipykernel_launcher.py:38: FutureWarning: to_msgpack is deprecated and will be removed in a future version.\n",
      "It is recommended to use pyarrow for on-the-wire transmission of pandas objects.\n"
     ]
    }
   ],
   "source": [
    "# Age_at_W1 = ageW_vars_matched.mean(axis=1)\n",
    "# Age_at_W1_rounded = Age_at_W1.round()\n",
    "Age_at_W7 = Age_at_W1 + popt[0]\n",
    "Age_at_W8 = Age_at_W1 + popt[1]\n",
    "Age_at_W9 = Age_at_W1 + popt[2]\n",
    "Age_at_W11 = Age_at_W1 + popt[3]\n",
    "Age_at_W12 = Age_at_W1 + popt[4]\n",
    "Age_at_W13 = Age_at_W1 + popt[5]\n",
    "Age_at_W14 = Age_at_W1 + popt[6]\n",
    "\n",
    "standardAgeGroup_at_W1\n",
    "equalisedAgeGroup_at_W1\n",
    "\n",
    "pan_dataset_ages = pd.concat([BES_Panel[\"id\"].astype('int'),\n",
    "                              Age_at_W1,\n",
    "                              Age_at_W1_rounded,\n",
    "                              Age_at_W7,\n",
    "                              Age_at_W8,\n",
    "                              Age_at_W9,\n",
    "                              Age_at_W11,\n",
    "                              Age_at_W12,\n",
    "                              Age_at_W13,\n",
    "                              Age_at_W14,\n",
    "                              standardAgeGroup_at_W1,\n",
    "                              equalisedAgeGroup_at_W1,\n",
    "                              equalLengthAgeGroup_at_W1]\n",
    "                              ,axis=1)\n",
    "\n",
    "pan_dataset_ages.columns = [\"id\",\n",
    "                            \"Age_at_W1\",\"Age_at_W1_rounded\",\"Age_at_W7\",\"Age_at_W8\",\"Age_at_W9\",\n",
    "                            \"Age_at_W11\",\"Age_at_W12\",\"Age_at_W13\",\"Age_at_W14\",\n",
    "                            \"standardAgeGroup_at_W1\",\"equalisedAgeGroup_at_W1\",\"equalLengthAgeGroup_at_W1\"]\n",
    "pan_dataset_ages[\"Age_at_W1_rounded\"] = pan_dataset_ages[\"Age_at_W1_rounded\"].astype('int8')\n",
    "\n",
    "# pan_dataset_ages[\"id\"] = BES_Panel[\"id\"].astype('int')\n",
    "\n",
    "pan_dataset_ages.to_csv(    BES_small_data_files + \"pan_dataset_ages\"+\".csv\", index=False)\n",
    "pan_dataset_ages.to_msgpack(BES_small_data_files + \"pan_dataset_ages\"+\".msgpack\")"
   ]
  },
  {
   "cell_type": "code",
   "execution_count": null,
   "metadata": {},
   "outputs": [],
   "source": []
  },
  {
   "cell_type": "code",
   "execution_count": 177,
   "metadata": {},
   "outputs": [
    {
     "data": {
      "text/plain": [
       "(60, 65]    9214\n",
       "(55, 60]    8912\n",
       "(20, 25]    8162\n",
       "(65, 70]    8079\n",
       "(40, 45]    7922\n",
       "(30, 35]    7831\n",
       "(50, 55]    7757\n",
       "(15, 20]    7424\n",
       "(45, 50]    7156\n",
       "(35, 40]    6901\n",
       "(25, 30]    6853\n",
       "(70, 75]    3447\n",
       "(75, 80]    1298\n",
       "(10, 15]    1171\n",
       "(80, 85]     421\n",
       "(85, 90]      33\n",
       "(90, 95]       6\n",
       "Name: equalLengthAgeGroup_at_W1, dtype: int64"
      ]
     },
     "execution_count": 177,
     "metadata": {},
     "output_type": "execute_result"
    }
   ],
   "source": [
    "pan_dataset_ages[\"equalLengthAgeGroup_at_W1\"].value_counts()"
   ]
  },
  {
   "cell_type": "code",
   "execution_count": 179,
   "metadata": {},
   "outputs": [
    {
     "data": {
      "text/plain": [
       "(30.0, 38.0]    11688\n",
       "(38.0, 46.0]    11603\n",
       "(60.0, 66.0]    11583\n",
       "(12.0, 22.0]    11583\n",
       "(53.0, 60.0]    11573\n",
       "(22.0, 30.0]    11564\n",
       "(66.0, 95.0]    11563\n",
       "(46.0, 53.0]    11427\n",
       "Name: equalisedAgeGroup_at_W1, dtype: int64"
      ]
     },
     "execution_count": 179,
     "metadata": {},
     "output_type": "execute_result"
    }
   ],
   "source": [
    "pan_dataset_ages[\"equalisedAgeGroup_at_W1\"].value_counts()"
   ]
  },
  {
   "cell_type": "code",
   "execution_count": 184,
   "metadata": {},
   "outputs": [
    {
     "data": {
      "text/plain": [
       "66+         18126\n",
       "56-65       14913\n",
       "46-55       14823\n",
       "36-45       14684\n",
       "Under 18    13284\n",
       "26-35       13186\n",
       "18-25        3571\n",
       "Name: standardAgeGroup_at_W1, dtype: int64"
      ]
     },
     "execution_count": 184,
     "metadata": {},
     "output_type": "execute_result"
    }
   ],
   "source": []
  },
  {
   "cell_type": "code",
   "execution_count": null,
   "metadata": {},
   "outputs": [],
   "source": []
  },
  {
   "cell_type": "code",
   "execution_count": 230,
   "metadata": {},
   "outputs": [
    {
     "data": {
      "text/html": [
       "<div>\n",
       "<style scoped>\n",
       "    .dataframe tbody tr th:only-of-type {\n",
       "        vertical-align: middle;\n",
       "    }\n",
       "\n",
       "    .dataframe tbody tr th {\n",
       "        vertical-align: top;\n",
       "    }\n",
       "\n",
       "    .dataframe thead th {\n",
       "        text-align: right;\n",
       "    }\n",
       "</style>\n",
       "<table border=\"1\" class=\"dataframe\">\n",
       "  <thead>\n",
       "    <tr style=\"text-align: right;\">\n",
       "      <th></th>\n",
       "      <th>id</th>\n",
       "      <th>Age_at_W1</th>\n",
       "      <th>Age_at_W1_rounded</th>\n",
       "      <th>Age_at_W7</th>\n",
       "      <th>Age_at_W8</th>\n",
       "      <th>Age_at_W9</th>\n",
       "      <th>Age_at_W11</th>\n",
       "      <th>Age_at_W12</th>\n",
       "      <th>Age_at_W13</th>\n",
       "      <th>Age_at_W14</th>\n",
       "      <th>standardAgeGroup_at_W1</th>\n",
       "      <th>equalisedAgeGroup_at_W1</th>\n",
       "      <th>equalLengthAgeGroup_at_W1</th>\n",
       "    </tr>\n",
       "  </thead>\n",
       "  <tbody>\n",
       "    <tr>\n",
       "      <th>0</th>\n",
       "      <td>1</td>\n",
       "      <td>58.064749</td>\n",
       "      <td>58</td>\n",
       "      <td>59.878434</td>\n",
       "      <td>59.964365</td>\n",
       "      <td>60.027703</td>\n",
       "      <td>60.395147</td>\n",
       "      <td>60.623480</td>\n",
       "      <td>60.706634</td>\n",
       "      <td>61.646419</td>\n",
       "      <td>56-65</td>\n",
       "      <td>(53.0, 60.0]</td>\n",
       "      <td>(55, 60]</td>\n",
       "    </tr>\n",
       "    <tr>\n",
       "      <th>1</th>\n",
       "      <td>2</td>\n",
       "      <td>62.245674</td>\n",
       "      <td>62</td>\n",
       "      <td>64.059359</td>\n",
       "      <td>64.145289</td>\n",
       "      <td>64.208627</td>\n",
       "      <td>64.576071</td>\n",
       "      <td>64.804405</td>\n",
       "      <td>64.887558</td>\n",
       "      <td>65.827343</td>\n",
       "      <td>56-65</td>\n",
       "      <td>(60.0, 66.0]</td>\n",
       "      <td>(60, 65]</td>\n",
       "    </tr>\n",
       "    <tr>\n",
       "      <th>2</th>\n",
       "      <td>3</td>\n",
       "      <td>76.331260</td>\n",
       "      <td>76</td>\n",
       "      <td>78.144945</td>\n",
       "      <td>78.230875</td>\n",
       "      <td>78.294214</td>\n",
       "      <td>78.661658</td>\n",
       "      <td>78.889991</td>\n",
       "      <td>78.973145</td>\n",
       "      <td>79.912930</td>\n",
       "      <td>66+</td>\n",
       "      <td>(66.0, 95.0]</td>\n",
       "      <td>(75, 80]</td>\n",
       "    </tr>\n",
       "    <tr>\n",
       "      <th>3</th>\n",
       "      <td>4</td>\n",
       "      <td>51.000000</td>\n",
       "      <td>51</td>\n",
       "      <td>52.813685</td>\n",
       "      <td>52.899615</td>\n",
       "      <td>52.962954</td>\n",
       "      <td>53.330398</td>\n",
       "      <td>53.558731</td>\n",
       "      <td>53.641885</td>\n",
       "      <td>54.581670</td>\n",
       "      <td>46-55</td>\n",
       "      <td>(46.0, 53.0]</td>\n",
       "      <td>(50, 55]</td>\n",
       "    </tr>\n",
       "    <tr>\n",
       "      <th>4</th>\n",
       "      <td>5</td>\n",
       "      <td>68.000000</td>\n",
       "      <td>68</td>\n",
       "      <td>69.813685</td>\n",
       "      <td>69.899615</td>\n",
       "      <td>69.962954</td>\n",
       "      <td>70.330398</td>\n",
       "      <td>70.558731</td>\n",
       "      <td>70.641885</td>\n",
       "      <td>71.581670</td>\n",
       "      <td>66+</td>\n",
       "      <td>(66.0, 95.0]</td>\n",
       "      <td>(65, 70]</td>\n",
       "    </tr>\n",
       "    <tr>\n",
       "      <th>...</th>\n",
       "      <td>...</td>\n",
       "      <td>...</td>\n",
       "      <td>...</td>\n",
       "      <td>...</td>\n",
       "      <td>...</td>\n",
       "      <td>...</td>\n",
       "      <td>...</td>\n",
       "      <td>...</td>\n",
       "      <td>...</td>\n",
       "      <td>...</td>\n",
       "      <td>...</td>\n",
       "      <td>...</td>\n",
       "      <td>...</td>\n",
       "    </tr>\n",
       "    <tr>\n",
       "      <th>92582</th>\n",
       "      <td>94883</td>\n",
       "      <td>37.548067</td>\n",
       "      <td>38</td>\n",
       "      <td>39.361752</td>\n",
       "      <td>39.447683</td>\n",
       "      <td>39.511021</td>\n",
       "      <td>39.878465</td>\n",
       "      <td>40.106798</td>\n",
       "      <td>40.189952</td>\n",
       "      <td>41.129737</td>\n",
       "      <td>36-45</td>\n",
       "      <td>(30.0, 38.0]</td>\n",
       "      <td>(35, 40]</td>\n",
       "    </tr>\n",
       "    <tr>\n",
       "      <th>92583</th>\n",
       "      <td>94884</td>\n",
       "      <td>29.548067</td>\n",
       "      <td>30</td>\n",
       "      <td>31.361752</td>\n",
       "      <td>31.447683</td>\n",
       "      <td>31.511021</td>\n",
       "      <td>31.878465</td>\n",
       "      <td>32.106798</td>\n",
       "      <td>32.189952</td>\n",
       "      <td>33.129737</td>\n",
       "      <td>26-35</td>\n",
       "      <td>(22.0, 30.0]</td>\n",
       "      <td>(25, 30]</td>\n",
       "    </tr>\n",
       "    <tr>\n",
       "      <th>92584</th>\n",
       "      <td>94885</td>\n",
       "      <td>58.548067</td>\n",
       "      <td>59</td>\n",
       "      <td>60.361752</td>\n",
       "      <td>60.447683</td>\n",
       "      <td>60.511021</td>\n",
       "      <td>60.878465</td>\n",
       "      <td>61.106798</td>\n",
       "      <td>61.189952</td>\n",
       "      <td>62.129737</td>\n",
       "      <td>56-65</td>\n",
       "      <td>(53.0, 60.0]</td>\n",
       "      <td>(55, 60]</td>\n",
       "    </tr>\n",
       "    <tr>\n",
       "      <th>92585</th>\n",
       "      <td>94886</td>\n",
       "      <td>33.548067</td>\n",
       "      <td>34</td>\n",
       "      <td>35.361752</td>\n",
       "      <td>35.447683</td>\n",
       "      <td>35.511021</td>\n",
       "      <td>35.878465</td>\n",
       "      <td>36.106798</td>\n",
       "      <td>36.189952</td>\n",
       "      <td>37.129737</td>\n",
       "      <td>26-35</td>\n",
       "      <td>(30.0, 38.0]</td>\n",
       "      <td>(30, 35]</td>\n",
       "    </tr>\n",
       "    <tr>\n",
       "      <th>92586</th>\n",
       "      <td>94887</td>\n",
       "      <td>25.548067</td>\n",
       "      <td>26</td>\n",
       "      <td>27.361752</td>\n",
       "      <td>27.447683</td>\n",
       "      <td>27.511021</td>\n",
       "      <td>27.878465</td>\n",
       "      <td>28.106798</td>\n",
       "      <td>28.189952</td>\n",
       "      <td>29.129737</td>\n",
       "      <td>26-35</td>\n",
       "      <td>(22.0, 30.0]</td>\n",
       "      <td>(25, 30]</td>\n",
       "    </tr>\n",
       "  </tbody>\n",
       "</table>\n",
       "<p>92587 rows × 13 columns</p>\n",
       "</div>"
      ],
      "text/plain": [
       "          id  Age_at_W1  Age_at_W1_rounded  Age_at_W7  Age_at_W8  Age_at_W9  \\\n",
       "0          1  58.064749                 58  59.878434  59.964365  60.027703   \n",
       "1          2  62.245674                 62  64.059359  64.145289  64.208627   \n",
       "2          3  76.331260                 76  78.144945  78.230875  78.294214   \n",
       "3          4  51.000000                 51  52.813685  52.899615  52.962954   \n",
       "4          5  68.000000                 68  69.813685  69.899615  69.962954   \n",
       "...      ...        ...                ...        ...        ...        ...   \n",
       "92582  94883  37.548067                 38  39.361752  39.447683  39.511021   \n",
       "92583  94884  29.548067                 30  31.361752  31.447683  31.511021   \n",
       "92584  94885  58.548067                 59  60.361752  60.447683  60.511021   \n",
       "92585  94886  33.548067                 34  35.361752  35.447683  35.511021   \n",
       "92586  94887  25.548067                 26  27.361752  27.447683  27.511021   \n",
       "\n",
       "       Age_at_W11  Age_at_W12  Age_at_W13  Age_at_W14 standardAgeGroup_at_W1  \\\n",
       "0       60.395147   60.623480   60.706634   61.646419                  56-65   \n",
       "1       64.576071   64.804405   64.887558   65.827343                  56-65   \n",
       "2       78.661658   78.889991   78.973145   79.912930                    66+   \n",
       "3       53.330398   53.558731   53.641885   54.581670                  46-55   \n",
       "4       70.330398   70.558731   70.641885   71.581670                    66+   \n",
       "...           ...         ...         ...         ...                    ...   \n",
       "92582   39.878465   40.106798   40.189952   41.129737                  36-45   \n",
       "92583   31.878465   32.106798   32.189952   33.129737                  26-35   \n",
       "92584   60.878465   61.106798   61.189952   62.129737                  56-65   \n",
       "92585   35.878465   36.106798   36.189952   37.129737                  26-35   \n",
       "92586   27.878465   28.106798   28.189952   29.129737                  26-35   \n",
       "\n",
       "      equalisedAgeGroup_at_W1 equalLengthAgeGroup_at_W1  \n",
       "0                (53.0, 60.0]                  (55, 60]  \n",
       "1                (60.0, 66.0]                  (60, 65]  \n",
       "2                (66.0, 95.0]                  (75, 80]  \n",
       "3                (46.0, 53.0]                  (50, 55]  \n",
       "4                (66.0, 95.0]                  (65, 70]  \n",
       "...                       ...                       ...  \n",
       "92582            (30.0, 38.0]                  (35, 40]  \n",
       "92583            (22.0, 30.0]                  (25, 30]  \n",
       "92584            (53.0, 60.0]                  (55, 60]  \n",
       "92585            (30.0, 38.0]                  (30, 35]  \n",
       "92586            (22.0, 30.0]                  (25, 30]  \n",
       "\n",
       "[92587 rows x 13 columns]"
      ]
     },
     "execution_count": 230,
     "metadata": {},
     "output_type": "execute_result"
    }
   ],
   "source": [
    "pan_dataset_ages"
   ]
  },
  {
   "cell_type": "code",
   "execution_count": null,
   "metadata": {},
   "outputs": [],
   "source": []
  },
  {
   "cell_type": "code",
   "execution_count": null,
   "metadata": {},
   "outputs": [],
   "source": []
  },
  {
   "cell_type": "code",
   "execution_count": null,
   "metadata": {},
   "outputs": [],
   "source": []
  },
  {
   "cell_type": "code",
   "execution_count": null,
   "metadata": {},
   "outputs": [],
   "source": []
  },
  {
   "cell_type": "code",
   "execution_count": null,
   "metadata": {},
   "outputs": [],
   "source": []
  },
  {
   "cell_type": "code",
   "execution_count": null,
   "metadata": {},
   "outputs": [],
   "source": []
  }
 ],
 "metadata": {
  "kernelspec": {
   "display_name": "Python [conda env:BES_analysis] *",
   "language": "python",
   "name": "conda-env-BES_analysis-py"
  },
  "language_info": {
   "codemirror_mode": {
    "name": "ipython",
    "version": 3
   },
   "file_extension": ".py",
   "mimetype": "text/x-python",
   "name": "python",
   "nbconvert_exporter": "python",
   "pygments_lexer": "ipython3",
   "version": "3.6.7"
  }
 },
 "nbformat": 4,
 "nbformat_minor": 2
}
