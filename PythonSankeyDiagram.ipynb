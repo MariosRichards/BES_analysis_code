{
 "cells": [
  {
   "cell_type": "markdown",
   "metadata": {},
   "source": [
    "# Migrant Flows - Sankey Diagram Demo\n",
    "\n",
    "A demonstration of how to use the `ipysankeywidget` package to generate a Sankey diagram from a `pandas` dataframe.\n",
    "\n",
    "This notebook also demonstrates how widget libraries can also be thought of as *code generators* capable of generating reusable code that can be used directly elsewhere, or can be treated as an automatically generated \"first draft\" of the code for interactive chart that can be further enhanced and edited by hand to produce a more polished production quality output.\n",
    "\n",
    "Originally motivated by Oli Hawkins' [Internal migration flows in the UK](http://olihawkins.com/visualisation/8) [[about](http://olihawkins.com/2017/03/1)]."
   ]
  },
  {
   "cell_type": "code",
   "execution_count": 1,
   "metadata": {},
   "outputs": [
    {
     "name": "stderr",
     "output_type": "stream",
     "text": [
      "Enabling notebook extension jupyter-sankey-widget/extension...\n",
      "      - Validating: ok\n"
     ]
    }
   ],
   "source": [
    "#!pip3 install ipysankeywidget\n",
    "!jupyter nbextension enable --py --sys-prefix ipysankeywidget"
   ]
  },
  {
   "cell_type": "code",
   "execution_count": 2,
   "metadata": {},
   "outputs": [
    {
     "data": {
      "text/html": [
       "<div>\n",
       "<table border=\"1\" class=\"dataframe\">\n",
       "  <thead>\n",
       "    <tr style=\"text-align: right;\">\n",
       "      <th></th>\n",
       "      <th>DESTINATION</th>\n",
       "      <th>Region</th>\n",
       "      <th>E12000001</th>\n",
       "      <th>E12000002</th>\n",
       "      <th>E12000003</th>\n",
       "      <th>E12000004</th>\n",
       "      <th>E12000005</th>\n",
       "      <th>E12000006</th>\n",
       "      <th>E12000007</th>\n",
       "      <th>E12000008</th>\n",
       "      <th>E12000009</th>\n",
       "      <th>W92000004</th>\n",
       "      <th>S92000003</th>\n",
       "      <th>N92000002</th>\n",
       "    </tr>\n",
       "  </thead>\n",
       "  <tbody>\n",
       "    <tr>\n",
       "      <th>0</th>\n",
       "      <td>North East</td>\n",
       "      <td>E12000001</td>\n",
       "      <td>NaN</td>\n",
       "      <td>6870.0</td>\n",
       "      <td>10820.0</td>\n",
       "      <td>3580.0</td>\n",
       "      <td>2360.0</td>\n",
       "      <td>3560.0</td>\n",
       "      <td>4400.0</td>\n",
       "      <td>4580.0</td>\n",
       "      <td>2250.0</td>\n",
       "      <td>1010.0</td>\n",
       "      <td>3350.0</td>\n",
       "      <td>630.0</td>\n",
       "    </tr>\n",
       "    <tr>\n",
       "      <th>1</th>\n",
       "      <td>North West</td>\n",
       "      <td>E12000002</td>\n",
       "      <td>6670.0</td>\n",
       "      <td>NaN</td>\n",
       "      <td>22930.0</td>\n",
       "      <td>11130.0</td>\n",
       "      <td>15000.0</td>\n",
       "      <td>8020.0</td>\n",
       "      <td>14870.0</td>\n",
       "      <td>12240.0</td>\n",
       "      <td>7570.0</td>\n",
       "      <td>10190.0</td>\n",
       "      <td>6000.0</td>\n",
       "      <td>2150.0</td>\n",
       "    </tr>\n",
       "    <tr>\n",
       "      <th>2</th>\n",
       "      <td>Yorkshire and The Humber</td>\n",
       "      <td>E12000003</td>\n",
       "      <td>10830.0</td>\n",
       "      <td>22050.0</td>\n",
       "      <td>NaN</td>\n",
       "      <td>19280.0</td>\n",
       "      <td>8470.0</td>\n",
       "      <td>9530.0</td>\n",
       "      <td>11230.0</td>\n",
       "      <td>10680.0</td>\n",
       "      <td>5710.0</td>\n",
       "      <td>2910.0</td>\n",
       "      <td>3690.0</td>\n",
       "      <td>620.0</td>\n",
       "    </tr>\n",
       "    <tr>\n",
       "      <th>3</th>\n",
       "      <td>East Midlands</td>\n",
       "      <td>E12000004</td>\n",
       "      <td>3030.0</td>\n",
       "      <td>10300.0</td>\n",
       "      <td>19520.0</td>\n",
       "      <td>NaN</td>\n",
       "      <td>19180.0</td>\n",
       "      <td>20820.0</td>\n",
       "      <td>16010.0</td>\n",
       "      <td>19050.0</td>\n",
       "      <td>6980.0</td>\n",
       "      <td>3140.0</td>\n",
       "      <td>2310.0</td>\n",
       "      <td>540.0</td>\n",
       "    </tr>\n",
       "    <tr>\n",
       "      <th>4</th>\n",
       "      <td>West Midlands</td>\n",
       "      <td>E12000005</td>\n",
       "      <td>2260.0</td>\n",
       "      <td>13440.0</td>\n",
       "      <td>8220.0</td>\n",
       "      <td>17110.0</td>\n",
       "      <td>NaN</td>\n",
       "      <td>9390.0</td>\n",
       "      <td>17760.0</td>\n",
       "      <td>16540.0</td>\n",
       "      <td>13250.0</td>\n",
       "      <td>8260.0</td>\n",
       "      <td>2230.0</td>\n",
       "      <td>540.0</td>\n",
       "    </tr>\n",
       "  </tbody>\n",
       "</table>\n",
       "</div>"
      ],
      "text/plain": [
       "                DESTINATION     Region  E12000001  E12000002  E12000003  \\\n",
       "0                North East  E12000001        NaN     6870.0    10820.0   \n",
       "1                North West  E12000002     6670.0        NaN    22930.0   \n",
       "2  Yorkshire and The Humber  E12000003    10830.0    22050.0        NaN   \n",
       "3             East Midlands  E12000004     3030.0    10300.0    19520.0   \n",
       "4             West Midlands  E12000005     2260.0    13440.0     8220.0   \n",
       "\n",
       "   E12000004  E12000005  E12000006  E12000007  E12000008  E12000009  \\\n",
       "0     3580.0     2360.0     3560.0     4400.0     4580.0     2250.0   \n",
       "1    11130.0    15000.0     8020.0    14870.0    12240.0     7570.0   \n",
       "2    19280.0     8470.0     9530.0    11230.0    10680.0     5710.0   \n",
       "3        NaN    19180.0    20820.0    16010.0    19050.0     6980.0   \n",
       "4    17110.0        NaN     9390.0    17760.0    16540.0    13250.0   \n",
       "\n",
       "   W92000004  S92000003  N92000002  \n",
       "0     1010.0     3350.0      630.0  \n",
       "1    10190.0     6000.0     2150.0  \n",
       "2     2910.0     3690.0      620.0  \n",
       "3     3140.0     2310.0      540.0  \n",
       "4     8260.0     2230.0      540.0  "
      ]
     },
     "execution_count": 2,
     "metadata": {},
     "output_type": "execute_result"
    }
   ],
   "source": [
    "import pandas as pd\n",
    "\n",
    "#Data from ONS: https://www.ons.gov.uk/peoplepopulationandcommunity/populationandmigration/migrationwithintheuk/datasets/matricesofinternalmigrationmovesbetweenlocalauthoritiesandregionsincludingthecountriesofwalesscotlandandnorthernireland\n",
    "\n",
    "#Read in the CSV file\n",
    "#If we specify the null character and thousands separator, the flows whould be read in as numerics not strings\n",
    "#../data/laandregionsquarematrices2015/\n",
    "df=pd.read_csv(\"regionsquarematrix2015.csv\",skiprows = 8,thousands=',',na_values='-')\n",
    "df.head()"
   ]
  },
  {
   "cell_type": "code",
   "execution_count": 3,
   "metadata": {
    "collapsed": true
   },
   "outputs": [],
   "source": [
    "from ipysankeywidget import SankeyWidget"
   ]
  },
  {
   "cell_type": "code",
   "execution_count": 4,
   "metadata": {},
   "outputs": [
    {
     "data": {
      "text/html": [
       "<div>\n",
       "<table border=\"1\" class=\"dataframe\">\n",
       "  <thead>\n",
       "    <tr style=\"text-align: right;\">\n",
       "      <th></th>\n",
       "      <th>DESTINATION</th>\n",
       "      <th>target</th>\n",
       "      <th>source</th>\n",
       "      <th>value</th>\n",
       "    </tr>\n",
       "  </thead>\n",
       "  <tbody>\n",
       "    <tr>\n",
       "      <th>0</th>\n",
       "      <td>North East</td>\n",
       "      <td>E12000001_</td>\n",
       "      <td>E12000001</td>\n",
       "      <td>NaN</td>\n",
       "    </tr>\n",
       "    <tr>\n",
       "      <th>1</th>\n",
       "      <td>North West</td>\n",
       "      <td>E12000002_</td>\n",
       "      <td>E12000001</td>\n",
       "      <td>6670.0</td>\n",
       "    </tr>\n",
       "    <tr>\n",
       "      <th>2</th>\n",
       "      <td>Yorkshire and The Humber</td>\n",
       "      <td>E12000003_</td>\n",
       "      <td>E12000001</td>\n",
       "      <td>10830.0</td>\n",
       "    </tr>\n",
       "    <tr>\n",
       "      <th>3</th>\n",
       "      <td>East Midlands</td>\n",
       "      <td>E12000004_</td>\n",
       "      <td>E12000001</td>\n",
       "      <td>3030.0</td>\n",
       "    </tr>\n",
       "    <tr>\n",
       "      <th>4</th>\n",
       "      <td>West Midlands</td>\n",
       "      <td>E12000005_</td>\n",
       "      <td>E12000001</td>\n",
       "      <td>2260.0</td>\n",
       "    </tr>\n",
       "  </tbody>\n",
       "</table>\n",
       "</div>"
      ],
      "text/plain": [
       "                DESTINATION      target     source    value\n",
       "0                North East  E12000001_  E12000001      NaN\n",
       "1                North West  E12000002_  E12000001   6670.0\n",
       "2  Yorkshire and The Humber  E12000003_  E12000001  10830.0\n",
       "3             East Midlands  E12000004_  E12000001   3030.0\n",
       "4             West Midlands  E12000005_  E12000001   2260.0"
      ]
     },
     "execution_count": 4,
     "metadata": {},
     "output_type": "execute_result"
    }
   ],
   "source": [
    "#The widget requires an edgelist with source, target and value columns\n",
    "dfm=pd.melt(df,id_vars=['DESTINATION','Region'], var_name='source', value_name='value')\n",
    "dfm.columns=['DESTINATION','target','source','value']\n",
    "dfm['target']=dfm['target']+'_'\n",
    "dfm.head()"
   ]
  },
  {
   "cell_type": "code",
   "execution_count": 5,
   "metadata": {},
   "outputs": [
    {
     "data": {
      "text/plain": [
       "[{'source': 'E12000001', 'target': 'E12000002_', 'value': 6670.0},\n",
       " {'source': 'E12000001', 'target': 'E12000003_', 'value': 10830.0},\n",
       " {'source': 'E12000001', 'target': 'E12000004_', 'value': 3030.0}]"
      ]
     },
     "execution_count": 5,
     "metadata": {},
     "output_type": "execute_result"
    }
   ],
   "source": [
    "#The SankeyWidget function expects a list of dicts, each dict specifying an edge\n",
    "#Also check how to drop rows where the weight is NA\n",
    "links=dfm.dropna()[['source','target','value']].to_dict(orient='records')\n",
    "links[:3]"
   ]
  },
  {
   "cell_type": "code",
   "execution_count": 6,
   "metadata": {},
   "outputs": [
    {
     "data": {
      "application/vnd.jupyter.widget-view+json": {
       "model_id": "b07abb7f0034457ba8662709009cf5bc"
      }
     },
     "metadata": {},
     "output_type": "display_data"
    }
   ],
   "source": [
    "#Generate and display default styled Sankey diagram\n",
    "SankeyWidget(value={'links': links},\n",
    "             width=800, height=800,margins=dict(top=0, bottom=0))"
   ]
  },
  {
   "cell_type": "markdown",
   "metadata": {},
   "source": [
    "### Adding Colour\n",
    "\n",
    "We can also add a colour mapping to the chart - provide the mapping based on the first letter of the area code:"
   ]
  },
  {
   "cell_type": "code",
   "execution_count": 7,
   "metadata": {},
   "outputs": [
    {
     "data": {
      "application/vnd.jupyter.widget-view+json": {
       "model_id": "078e8875108a4f9daeeb4c0b7bf58d7c"
      }
     },
     "metadata": {},
     "output_type": "display_data"
    }
   ],
   "source": [
    "colormap={'E':'#ffcc00','N':'green','S':'blue','W':'red'}\n",
    "dfm['color']=dfm['source'].apply(lambda x: colormap[x[0]])\n",
    "\n",
    "links = dfm.dropna()[['source','target','value','color']].to_dict(orient='records')\n",
    "SankeyWidget(value={'links': links},\n",
    "             width=800, height=800,margins=dict(top=0, bottom=0))"
   ]
  },
  {
   "cell_type": "markdown",
   "metadata": {},
   "source": [
    "### Dropping Migration Flows Between Regions of the Same Country\n",
    "\n",
    "The original diagram just showed flows between nations, and did not include intra-nation flows.\n",
    "\n",
    "So let's drop flows between regions of the same country - that is, flows where the leading country code is the same for both the source and the target:"
   ]
  },
  {
   "cell_type": "code",
   "execution_count": 8,
   "metadata": {},
   "outputs": [
    {
     "data": {
      "application/vnd.jupyter.widget-view+json": {
       "model_id": "b294672e38d54a7cb0263ff637429680"
      }
     },
     "metadata": {},
     "output_type": "display_data"
    }
   ],
   "source": [
    "#Create a data frame with dropped flow between countries\n",
    "#That is, ignore rows where the country code indication is the same between source and target\n",
    "#Again, drop the rows with unspecificed flows\n",
    "dfmb = dfm[dfm['source'].str[0]!=dfm['target'].str[0]].dropna()\n",
    "\n",
    "links= dfmb[['source','target','value','color']].to_dict(orient='records')\n",
    "SankeyWidget(value={'links': links}, width=800, height=800,margins=dict(top=0, bottom=0))"
   ]
  },
  {
   "cell_type": "markdown",
   "metadata": {},
   "source": [
    "### Aggregating Counts For Regions in the Same Country\n",
    "\n",
    "The original diagram aggregated counts for regions within a particular country. So let's do the same...\n",
    "\n",
    "Start by defining a country mapping - we can also use this to label the country nodes rather more meaningfully.\n",
    "\n",
    "Note that to prevent circularity, we distinguish between the source and target nodes by naming them slightly differently: the target node label identifiers have whitespace to distinguish them from the source node label identifiers."
   ]
  },
  {
   "cell_type": "code",
   "execution_count": 9,
   "metadata": {
    "collapsed": true
   },
   "outputs": [],
   "source": [
    "countrymap={'E':'England','N':'Northern Ireland','S':'Scotland','W':'Wales'}\n",
    "dfmb['countrysource']=dfmb['source'].apply(lambda x: countrymap[x[0]])\n",
    "dfmb['countrytarget']=dfmb['target'].apply(lambda x: countrymap[x[0]]+' ')"
   ]
  },
  {
   "cell_type": "markdown",
   "metadata": {},
   "source": [
    "Aggregate (sum) the counts on a country-country flow basis, as well as colouring by source country:"
   ]
  },
  {
   "cell_type": "code",
   "execution_count": 10,
   "metadata": {},
   "outputs": [
    {
     "data": {
      "text/html": [
       "<div>\n",
       "<table border=\"1\" class=\"dataframe\">\n",
       "  <thead>\n",
       "    <tr style=\"text-align: right;\">\n",
       "      <th></th>\n",
       "      <th>source</th>\n",
       "      <th>target</th>\n",
       "      <th>value</th>\n",
       "      <th>color</th>\n",
       "    </tr>\n",
       "  </thead>\n",
       "  <tbody>\n",
       "    <tr>\n",
       "      <th>0</th>\n",
       "      <td>England</td>\n",
       "      <td>Northern Ireland</td>\n",
       "      <td>8120.0</td>\n",
       "      <td>#ffcc00</td>\n",
       "    </tr>\n",
       "    <tr>\n",
       "      <th>1</th>\n",
       "      <td>England</td>\n",
       "      <td>Scotland</td>\n",
       "      <td>42990.0</td>\n",
       "      <td>#ffcc00</td>\n",
       "    </tr>\n",
       "    <tr>\n",
       "      <th>2</th>\n",
       "      <td>England</td>\n",
       "      <td>Wales</td>\n",
       "      <td>55800.0</td>\n",
       "      <td>#ffcc00</td>\n",
       "    </tr>\n",
       "    <tr>\n",
       "      <th>3</th>\n",
       "      <td>Northern Ireland</td>\n",
       "      <td>England</td>\n",
       "      <td>8350.0</td>\n",
       "      <td>green</td>\n",
       "    </tr>\n",
       "    <tr>\n",
       "      <th>4</th>\n",
       "      <td>Northern Ireland</td>\n",
       "      <td>Scotland</td>\n",
       "      <td>2420.0</td>\n",
       "      <td>green</td>\n",
       "    </tr>\n",
       "    <tr>\n",
       "      <th>5</th>\n",
       "      <td>Northern Ireland</td>\n",
       "      <td>Wales</td>\n",
       "      <td>410.0</td>\n",
       "      <td>green</td>\n",
       "    </tr>\n",
       "    <tr>\n",
       "      <th>6</th>\n",
       "      <td>Scotland</td>\n",
       "      <td>England</td>\n",
       "      <td>35540.0</td>\n",
       "      <td>blue</td>\n",
       "    </tr>\n",
       "    <tr>\n",
       "      <th>7</th>\n",
       "      <td>Scotland</td>\n",
       "      <td>Northern Ireland</td>\n",
       "      <td>1930.0</td>\n",
       "      <td>blue</td>\n",
       "    </tr>\n",
       "    <tr>\n",
       "      <th>8</th>\n",
       "      <td>Scotland</td>\n",
       "      <td>Wales</td>\n",
       "      <td>1320.0</td>\n",
       "      <td>blue</td>\n",
       "    </tr>\n",
       "    <tr>\n",
       "      <th>9</th>\n",
       "      <td>Wales</td>\n",
       "      <td>England</td>\n",
       "      <td>54570.0</td>\n",
       "      <td>red</td>\n",
       "    </tr>\n",
       "    <tr>\n",
       "      <th>10</th>\n",
       "      <td>Wales</td>\n",
       "      <td>Northern Ireland</td>\n",
       "      <td>370.0</td>\n",
       "      <td>red</td>\n",
       "    </tr>\n",
       "    <tr>\n",
       "      <th>11</th>\n",
       "      <td>Wales</td>\n",
       "      <td>Scotland</td>\n",
       "      <td>1740.0</td>\n",
       "      <td>red</td>\n",
       "    </tr>\n",
       "  </tbody>\n",
       "</table>\n",
       "</div>"
      ],
      "text/plain": [
       "              source             target    value    color\n",
       "0            England  Northern Ireland    8120.0  #ffcc00\n",
       "1            England          Scotland   42990.0  #ffcc00\n",
       "2            England             Wales   55800.0  #ffcc00\n",
       "3   Northern Ireland           England    8350.0    green\n",
       "4   Northern Ireland          Scotland    2420.0    green\n",
       "5   Northern Ireland             Wales     410.0    green\n",
       "6           Scotland           England   35540.0     blue\n",
       "7           Scotland  Northern Ireland    1930.0     blue\n",
       "8           Scotland             Wales    1320.0     blue\n",
       "9              Wales           England   54570.0      red\n",
       "10             Wales  Northern Ireland     370.0      red\n",
       "11             Wales          Scotland    1740.0      red"
      ]
     },
     "execution_count": 10,
     "metadata": {},
     "output_type": "execute_result"
    }
   ],
   "source": [
    "#Group the (regional) country-country rows and sum the flows, resetting the table to flat columns\n",
    "dfmg = dfmb.groupby(['countrysource','countrytarget']).aggregate(sum).reset_index()\n",
    "\n",
    "#Rename the columns as required by the Sankey plotter\n",
    "dfmg.columns=['source','target','value']\n",
    "\n",
    "#And apply colour\n",
    "dfmg['color']=dfmg['source'].apply(lambda x: colormap[x[0]])\n",
    "dfmg"
   ]
  },
  {
   "cell_type": "markdown",
   "metadata": {},
   "source": [
    "Now we can render this table to give a country-country migrant flow Sankey diagram:"
   ]
  },
  {
   "cell_type": "code",
   "execution_count": 11,
   "metadata": {},
   "outputs": [
    {
     "data": {
      "application/vnd.jupyter.widget-view+json": {
       "model_id": "5266107337aa41ac9fe3884213cd2439"
      }
     },
     "metadata": {},
     "output_type": "display_data"
    }
   ],
   "source": [
    "links=dfmg.to_dict(orient='records')\n",
    "\n",
    "s=SankeyWidget(value={'links': links},\n",
    "             width=800, height=800,margins=dict(top=0, bottom=0,left=150,right=120))\n",
    "s"
   ]
  },
  {
   "cell_type": "markdown",
   "metadata": {},
   "source": [
    "### Generating Outputs\n",
    "\n",
    "One of the under-appreciated benefits that arises from using widget libraries to generate rich interactive outputs for use in live documents is that the generated code can also be reused elsewhere.\n",
    "\n",
    "For example, it's not hard to see the benefits that might arise from being able to generate a flat image rendering of a generated chart such that that image can be reused elsewhere: "
   ]
  },
  {
   "cell_type": "code",
   "execution_count": 12,
   "metadata": {},
   "outputs": [
    {
     "name": "stderr",
     "output_type": "stream",
     "text": [
      "C:\\ANACON~1\\envs\\BES_analysis\\lib\\site-packages\\ipysankeywidget\\sankey_widget.py:94: UserWarning: No png image available! Try auto_save_png() instead?\n",
      "  warnings.warn('No png image available! Try auto_save_png() instead?')\n"
     ]
    }
   ],
   "source": [
    "#!mkdir -p images\n",
    "#Save a png version\n",
    "s.save_png('images/mySankey.png')"
   ]
  },
  {
   "cell_type": "markdown",
   "metadata": {},
   "source": [
    "*Render the saved png as an image in a markdown cell:*\n",
    "\n",
    "![](images/mySankey.png)"
   ]
  },
  {
   "cell_type": "markdown",
   "metadata": {},
   "source": [
    "But in many cases we can also render output code.\n",
    "\n",
    "Some widget libraries generate HTML output files (or HTML fragments) from code templates, enriched with suitably formatted data when the output widget is generated.\n",
    "\n",
    "In this case, the widget that is produced is an SVG file - which we can export as such, and then reuse directly elsewhere, or use as a first draft of our own customised version of the output chart:"
   ]
  },
  {
   "cell_type": "code",
   "execution_count": 13,
   "metadata": {},
   "outputs": [
    {
     "name": "stderr",
     "output_type": "stream",
     "text": [
      "C:\\ANACON~1\\envs\\BES_analysis\\lib\\site-packages\\ipysankeywidget\\sankey_widget.py:132: UserWarning: No svg image available! Try auto_save_svg() instead?\n",
      "  warnings.warn('No svg image available! Try auto_save_svg() instead?')\n"
     ]
    },
    {
     "ename": "ExpatError",
     "evalue": "not well-formed (invalid token): line 1, column 6",
     "output_type": "error",
     "traceback": [
      "\u001b[0;31m---------------------------------------------------------------------------\u001b[0m",
      "\u001b[0;31mExpatError\u001b[0m                                Traceback (most recent call last)",
      "\u001b[0;32m<ipython-input-13-1113ff4e3d34>\u001b[0m in \u001b[0;36m<module>\u001b[0;34m()\u001b[0m\n\u001b[1;32m      3\u001b[0m \u001b[0;34m\u001b[0m\u001b[0m\n\u001b[1;32m      4\u001b[0m \u001b[0;32mfrom\u001b[0m \u001b[0mIPython\u001b[0m\u001b[0;34m.\u001b[0m\u001b[0mdisplay\u001b[0m \u001b[0;32mimport\u001b[0m \u001b[0mSVG\u001b[0m\u001b[0;34m,\u001b[0m \u001b[0mdisplay\u001b[0m\u001b[0;34m\u001b[0m\u001b[0m\n\u001b[0;32m----> 5\u001b[0;31m \u001b[0mdisplay\u001b[0m\u001b[0;34m(\u001b[0m\u001b[0mSVG\u001b[0m\u001b[0;34m(\u001b[0m\u001b[0;34m'images/mySankey.svg'\u001b[0m\u001b[0;34m)\u001b[0m\u001b[0;34m)\u001b[0m\u001b[0;34m\u001b[0m\u001b[0m\n\u001b[0m",
      "\u001b[0;32mC:\\ANACON~1\\envs\\BES_analysis\\lib\\site-packages\\IPython\\core\\display.py\u001b[0m in \u001b[0;36m__init__\u001b[0;34m(self, data, url, filename)\u001b[0m\n\u001b[1;32m    388\u001b[0m                 \u001b[0mdata\u001b[0m \u001b[0;34m=\u001b[0m \u001b[0;32mNone\u001b[0m\u001b[0;34m\u001b[0m\u001b[0m\n\u001b[1;32m    389\u001b[0m \u001b[0;34m\u001b[0m\u001b[0m\n\u001b[0;32m--> 390\u001b[0;31m         \u001b[0mself\u001b[0m\u001b[0;34m.\u001b[0m\u001b[0mdata\u001b[0m \u001b[0;34m=\u001b[0m \u001b[0mdata\u001b[0m\u001b[0;34m\u001b[0m\u001b[0m\n\u001b[0m\u001b[1;32m    391\u001b[0m         \u001b[0mself\u001b[0m\u001b[0;34m.\u001b[0m\u001b[0murl\u001b[0m \u001b[0;34m=\u001b[0m \u001b[0murl\u001b[0m\u001b[0;34m\u001b[0m\u001b[0m\n\u001b[1;32m    392\u001b[0m         \u001b[0mself\u001b[0m\u001b[0;34m.\u001b[0m\u001b[0mfilename\u001b[0m \u001b[0;34m=\u001b[0m \u001b[0;32mNone\u001b[0m \u001b[0;32mif\u001b[0m \u001b[0mfilename\u001b[0m \u001b[0;32mis\u001b[0m \u001b[0;32mNone\u001b[0m \u001b[0;32melse\u001b[0m \u001b[0municode_type\u001b[0m\u001b[0;34m(\u001b[0m\u001b[0mfilename\u001b[0m\u001b[0;34m)\u001b[0m\u001b[0;34m\u001b[0m\u001b[0m\n",
      "\u001b[0;32mC:\\ANACON~1\\envs\\BES_analysis\\lib\\site-packages\\IPython\\core\\display.py\u001b[0m in \u001b[0;36mdata\u001b[0;34m(self, svg)\u001b[0m\n\u001b[1;32m    496\u001b[0m         \u001b[0;32mfrom\u001b[0m \u001b[0mxml\u001b[0m\u001b[0;34m.\u001b[0m\u001b[0mdom\u001b[0m \u001b[0;32mimport\u001b[0m \u001b[0mminidom\u001b[0m\u001b[0;34m\u001b[0m\u001b[0m\n\u001b[1;32m    497\u001b[0m         \u001b[0msvg\u001b[0m \u001b[0;34m=\u001b[0m \u001b[0mcast_bytes_py2\u001b[0m\u001b[0;34m(\u001b[0m\u001b[0msvg\u001b[0m\u001b[0;34m)\u001b[0m\u001b[0;34m\u001b[0m\u001b[0m\n\u001b[0;32m--> 498\u001b[0;31m         \u001b[0mx\u001b[0m \u001b[0;34m=\u001b[0m \u001b[0mminidom\u001b[0m\u001b[0;34m.\u001b[0m\u001b[0mparseString\u001b[0m\u001b[0;34m(\u001b[0m\u001b[0msvg\u001b[0m\u001b[0;34m)\u001b[0m\u001b[0;34m\u001b[0m\u001b[0m\n\u001b[0m\u001b[1;32m    499\u001b[0m         \u001b[0;31m# get svg tag (should be 1)\u001b[0m\u001b[0;34m\u001b[0m\u001b[0;34m\u001b[0m\u001b[0m\n\u001b[1;32m    500\u001b[0m         \u001b[0mfound_svg\u001b[0m \u001b[0;34m=\u001b[0m \u001b[0mx\u001b[0m\u001b[0;34m.\u001b[0m\u001b[0mgetElementsByTagName\u001b[0m\u001b[0;34m(\u001b[0m\u001b[0;34m'svg'\u001b[0m\u001b[0;34m)\u001b[0m\u001b[0;34m\u001b[0m\u001b[0m\n",
      "\u001b[0;32mC:\\ANACON~1\\envs\\BES_analysis\\lib\\xml\\dom\\minidom.py\u001b[0m in \u001b[0;36mparseString\u001b[0;34m(string, parser)\u001b[0m\n\u001b[1;32m   1966\u001b[0m     \u001b[0;32mif\u001b[0m \u001b[0mparser\u001b[0m \u001b[0;32mis\u001b[0m \u001b[0;32mNone\u001b[0m\u001b[0;34m:\u001b[0m\u001b[0;34m\u001b[0m\u001b[0m\n\u001b[1;32m   1967\u001b[0m         \u001b[0;32mfrom\u001b[0m \u001b[0mxml\u001b[0m\u001b[0;34m.\u001b[0m\u001b[0mdom\u001b[0m \u001b[0;32mimport\u001b[0m \u001b[0mexpatbuilder\u001b[0m\u001b[0;34m\u001b[0m\u001b[0m\n\u001b[0;32m-> 1968\u001b[0;31m         \u001b[0;32mreturn\u001b[0m \u001b[0mexpatbuilder\u001b[0m\u001b[0;34m.\u001b[0m\u001b[0mparseString\u001b[0m\u001b[0;34m(\u001b[0m\u001b[0mstring\u001b[0m\u001b[0;34m)\u001b[0m\u001b[0;34m\u001b[0m\u001b[0m\n\u001b[0m\u001b[1;32m   1969\u001b[0m     \u001b[0;32melse\u001b[0m\u001b[0;34m:\u001b[0m\u001b[0;34m\u001b[0m\u001b[0m\n\u001b[1;32m   1970\u001b[0m         \u001b[0;32mfrom\u001b[0m \u001b[0mxml\u001b[0m\u001b[0;34m.\u001b[0m\u001b[0mdom\u001b[0m \u001b[0;32mimport\u001b[0m \u001b[0mpulldom\u001b[0m\u001b[0;34m\u001b[0m\u001b[0m\n",
      "\u001b[0;32mC:\\ANACON~1\\envs\\BES_analysis\\lib\\xml\\dom\\expatbuilder.py\u001b[0m in \u001b[0;36mparseString\u001b[0;34m(string, namespaces)\u001b[0m\n\u001b[1;32m    923\u001b[0m     \u001b[0;32melse\u001b[0m\u001b[0;34m:\u001b[0m\u001b[0;34m\u001b[0m\u001b[0m\n\u001b[1;32m    924\u001b[0m         \u001b[0mbuilder\u001b[0m \u001b[0;34m=\u001b[0m \u001b[0mExpatBuilder\u001b[0m\u001b[0;34m(\u001b[0m\u001b[0;34m)\u001b[0m\u001b[0;34m\u001b[0m\u001b[0m\n\u001b[0;32m--> 925\u001b[0;31m     \u001b[0;32mreturn\u001b[0m \u001b[0mbuilder\u001b[0m\u001b[0;34m.\u001b[0m\u001b[0mparseString\u001b[0m\u001b[0;34m(\u001b[0m\u001b[0mstring\u001b[0m\u001b[0;34m)\u001b[0m\u001b[0;34m\u001b[0m\u001b[0m\n\u001b[0m\u001b[1;32m    926\u001b[0m \u001b[0;34m\u001b[0m\u001b[0m\n\u001b[1;32m    927\u001b[0m \u001b[0;34m\u001b[0m\u001b[0m\n",
      "\u001b[0;32mC:\\ANACON~1\\envs\\BES_analysis\\lib\\xml\\dom\\expatbuilder.py\u001b[0m in \u001b[0;36mparseString\u001b[0;34m(self, string)\u001b[0m\n\u001b[1;32m    221\u001b[0m         \u001b[0mparser\u001b[0m \u001b[0;34m=\u001b[0m \u001b[0mself\u001b[0m\u001b[0;34m.\u001b[0m\u001b[0mgetParser\u001b[0m\u001b[0;34m(\u001b[0m\u001b[0;34m)\u001b[0m\u001b[0;34m\u001b[0m\u001b[0m\n\u001b[1;32m    222\u001b[0m         \u001b[0;32mtry\u001b[0m\u001b[0;34m:\u001b[0m\u001b[0;34m\u001b[0m\u001b[0m\n\u001b[0;32m--> 223\u001b[0;31m             \u001b[0mparser\u001b[0m\u001b[0;34m.\u001b[0m\u001b[0mParse\u001b[0m\u001b[0;34m(\u001b[0m\u001b[0mstring\u001b[0m\u001b[0;34m,\u001b[0m \u001b[0;32mTrue\u001b[0m\u001b[0;34m)\u001b[0m\u001b[0;34m\u001b[0m\u001b[0m\n\u001b[0m\u001b[1;32m    224\u001b[0m             \u001b[0mself\u001b[0m\u001b[0;34m.\u001b[0m\u001b[0m_setup_subset\u001b[0m\u001b[0;34m(\u001b[0m\u001b[0mstring\u001b[0m\u001b[0;34m)\u001b[0m\u001b[0;34m\u001b[0m\u001b[0m\n\u001b[1;32m    225\u001b[0m         \u001b[0;32mexcept\u001b[0m \u001b[0mParseEscape\u001b[0m\u001b[0;34m:\u001b[0m\u001b[0;34m\u001b[0m\u001b[0m\n",
      "\u001b[0;31mExpatError\u001b[0m: not well-formed (invalid token): line 1, column 6"
     ]
    }
   ],
   "source": [
    "#save svg\n",
    "s.save_svg('images/mySankey.svg')\n",
    "\n",
    "from IPython.display import SVG, display\n",
    "display(SVG('images/mySankey.svg'))"
   ]
  },
  {
   "cell_type": "code",
   "execution_count": null,
   "metadata": {
    "collapsed": true
   },
   "outputs": [],
   "source": []
  }
 ],
 "metadata": {
  "kernelspec": {
   "display_name": "Python [conda env:BES_analysis]",
   "language": "python",
   "name": "conda-env-BES_analysis-py"
  },
  "language_info": {
   "codemirror_mode": {
    "name": "ipython",
    "version": 3
   },
   "file_extension": ".py",
   "mimetype": "text/x-python",
   "name": "python",
   "nbconvert_exporter": "python",
   "pygments_lexer": "ipython3",
   "version": "3.5.2"
  },
  "widgets": {
   "state": {
    "4b8211bcdced410ea404cd260ce81d73": {
     "views": [
      {
       "cell_index": 10
      }
     ]
    },
    "5f5d79707c234f1fa2d6aeab4fbcc591": {
     "views": [
      {
       "cell_index": 6
      }
     ]
    },
    "62c3a5e4cdf4404b9a049f300f8a5138": {
     "views": [
      {
       "cell_index": 16
      }
     ]
    },
    "bc17f1c74bdf4079ab9e49c341a3e969": {
     "views": [
      {
       "cell_index": 8
      }
     ]
    }
   },
   "version": "1.2.0"
  }
 },
 "nbformat": 4,
 "nbformat_minor": 2
}
