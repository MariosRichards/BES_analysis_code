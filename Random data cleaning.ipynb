{
 "cells": [
  {
   "cell_type": "code",
   "execution_count": 1,
   "metadata": {},
   "outputs": [],
   "source": [
    "import numpy as np\n",
    "import pandas as pd\n",
    "%matplotlib inline\n",
    "import matplotlib.pyplot as plt\n",
    "import gc\n",
    "import re\n",
    "\n",
    "from itertools import cycle\n",
    "from IPython.display import display\n",
    "import pickle, os\n",
    "\n",
    "import seaborn as sns\n"
   ]
  },
  {
   "cell_type": "code",
   "execution_count": 2,
   "metadata": {},
   "outputs": [],
   "source": [
    "# you should clone this git to this subdirectory (in some directory - I call it BES_analysis - doesn't matter though)\n",
    "\n",
    "if os.getcwd().split(os.sep)[-1] != 'BES_analysis_code':\n",
    "    raise Exception(\"Stop! You're in the wrong directory - should be in 'BES_analysis_code'\")\n",
    "\n",
    "BES_code_folder   = \"../BES_analysis_code/\" # we should be here!\n",
    "BES_small_data_files = BES_code_folder + \"small data files\" + os.sep\n",
    "if not os.path.exists( BES_small_data_files ):\n",
    "    os.makedirs( BES_small_data_files )\n",
    "\n",
    "# we should create these if they don't already exist\n",
    "BES_data_folder   = \"../BES_analysis_data/\"\n",
    "if not os.path.exists( BES_data_folder ):\n",
    "    os.makedirs( BES_data_folder )\n",
    "\n",
    "BES_output_folder = \"../BES_analysis_output/\"\n",
    "if not os.path.exists( BES_output_folder ):\n",
    "    os.makedirs( BES_output_folder )"
   ]
  },
  {
   "cell_type": "code",
   "execution_count": 3,
   "metadata": {
    "collapsed": true
   },
   "outputs": [],
   "source": [
    "import Jupyter_module_loader"
   ]
  },
  {
   "cell_type": "code",
   "execution_count": 4,
   "metadata": {
    "collapsed": true
   },
   "outputs": [],
   "source": [
    "BES_file_manifest = pd.read_csv( BES_small_data_files + \"BES_file_manifest.csv\" )"
   ]
  },
  {
   "cell_type": "code",
   "execution_count": 74,
   "metadata": {},
   "outputs": [],
   "source": [
    "encoding = \"ISO-8859-1\""
   ]
  },
  {
   "cell_type": "code",
   "execution_count": 5,
   "metadata": {},
   "outputs": [
    {
     "name": "stdout",
     "output_type": "stream",
     "text": [
      "importing Jupyter notebook from Untitled5.ipynb\n"
     ]
    }
   ],
   "source": [
    "import Untitled5\n",
    "from Untitled5 import process_dataset"
   ]
  },
  {
   "cell_type": "code",
   "execution_count": 19,
   "metadata": {},
   "outputs": [
    {
     "name": "stdout",
     "output_type": "stream",
     "text": [
      "W13_comb\n"
     ]
    }
   ],
   "source": [
    "for dataset_name in [\"W13_comb\"]:\n",
    "# [x for x in BES_file_manifest[\"Name\"] if not ( (\"strings\" in x) or (\"comb\" in x) )]:\n",
    "# [x for x in BES_file_manifest[\"Name\"] if not (\"strings\" in x)]: #  and not (\"strings\" in x)]:\n",
    "    if dataset_name in BES_file_manifest[\"Name\"].values:\n",
    "        print(dataset_name)\n",
    "        process_dataset(dataset_name)"
   ]
  },
  {
   "cell_type": "code",
   "execution_count": null,
   "metadata": {},
   "outputs": [],
   "source": []
  },
  {
   "cell_type": "code",
   "execution_count": 7,
   "metadata": {},
   "outputs": [],
   "source": [
    "# %run Untitled5"
   ]
  },
  {
   "cell_type": "code",
   "execution_count": 8,
   "metadata": {},
   "outputs": [],
   "source": [
    "# W4_comb KeyError: 'likeSalmonW1'\n"
   ]
  },
  {
   "cell_type": "code",
   "execution_count": 9,
   "metadata": {},
   "outputs": [],
   "source": [
    "# BES_file_manifest[\"Name\"].sort_values()"
   ]
  },
  {
   "cell_type": "code",
   "execution_count": 10,
   "metadata": {},
   "outputs": [],
   "source": [
    "# [\"W\"+str(x)+\"_comb\" for x in range(1,13)]"
   ]
  },
  {
   "cell_type": "code",
   "execution_count": 11,
   "metadata": {},
   "outputs": [],
   "source": [
    "# BES_file_manifest[\"Name\"].values"
   ]
  },
  {
   "cell_type": "code",
   "execution_count": null,
   "metadata": {
    "collapsed": true
   },
   "outputs": [],
   "source": []
  },
  {
   "cell_type": "code",
   "execution_count": 12,
   "metadata": {
    "collapsed": true
   },
   "outputs": [],
   "source": [
    "# a = ['cciW1W2W3W4W5','ccinoITW1W2W3W4W5','justITW1W2W3W4W5','cciW6W7W8W9','ccinoITW6W7W8W9','justITW6W7W8W9']"
   ]
  },
  {
   "cell_type": "code",
   "execution_count": null,
   "metadata": {
    "collapsed": true
   },
   "outputs": [],
   "source": []
  },
  {
   "cell_type": "code",
   "execution_count": 13,
   "metadata": {},
   "outputs": [],
   "source": [
    "# dataset_name = 'W4_comb'"
   ]
  },
  {
   "cell_type": "code",
   "execution_count": 14,
   "metadata": {
    "collapsed": true
   },
   "outputs": [],
   "source": [
    "# BES_file_manifest = pd.read_csv( BES_small_data_files + \"BES_file_manifest.csv\" )\n",
    "# manifest = BES_file_manifest[ BES_file_manifest[\"Name\"] == dataset_name ]\n",
    "\n",
    "# data_subfolder = BES_data_folder + dataset_name + os.sep\n",
    "\n",
    "# filename = manifest[\"Stata_Filename\"].values[0]\n",
    "\n",
    "# global BES_Panel\n",
    "# BES_Panel = pd.read_stata( data_subfolder + filename)"
   ]
  },
  {
   "cell_type": "code",
   "execution_count": null,
   "metadata": {},
   "outputs": [],
   "source": []
  },
  {
   "cell_type": "code",
   "execution_count": 15,
   "metadata": {
    "collapsed": true
   },
   "outputs": [],
   "source": [
    "# likeSalmond_list = \"Strongly dislike|1.0|2.0|3.0|4.0|5.0|6.0|7.0|8.0|9.0|Strongly like|9999.0\"\n",
    "#     if ( dataset_name in [ \"W4_comb\",\"W5_comb\" ] ):\n",
    "#         hardcoded_fix(\"likeSalmondW1\",\n",
    "#                       likeSalmond_list ) "
   ]
  },
  {
   "cell_type": "code",
   "execution_count": 16,
   "metadata": {
    "collapsed": true
   },
   "outputs": [],
   "source": [
    "# def hardcoded_fix(col,cat_list):\n",
    "    \n",
    "#     var_type.loc[ col , \"dtype\" ]           = BES_Panel[col].dtype.name\n",
    "#     if (var_type.loc[ col , \"dtype\" ] == 'category'):\n",
    "#         var_type.loc[ col , \"cat_all_strings\" ] = np.all([isinstance(x,str) for x in BES_Panel[ col ].cat.categories])\n",
    "        \n",
    "#     BES_Panel[col] = \\\n",
    "#         BES_Panel[col].astype(\"category\").cat.rename_categories( cat_list.split(\"|\") )\n",
    "        \n",
    "#     var_type.loc[ col , \"dataset_specific_hardcoded_fix\" ] = \"|\".join( BES_Panel[col].cat.categories.values )"
   ]
  },
  {
   "cell_type": "code",
   "execution_count": 17,
   "metadata": {},
   "outputs": [],
   "source": [
    "# BES_Panel[\"likeSalmondW1\"].astype(\"category\").cat.rename_categories( likeSalmond_list.split(\"|\") )"
   ]
  },
  {
   "cell_type": "code",
   "execution_count": 18,
   "metadata": {},
   "outputs": [],
   "source": [
    "# np.all([isinstance(x,str) for x in BES_Panel[ \"likeSalmondW1\" ].cat.categories])"
   ]
  },
  {
   "cell_type": "code",
   "execution_count": 224,
   "metadata": {
    "collapsed": true
   },
   "outputs": [],
   "source": [
    "def fix_a_hat_chars(cat_string):\n",
    "    cat_array = cat_string.split(\"|\")\n",
    "    a_hat_present = False\n",
    "    for el_no in range( 0, len(cat_array) ):\n",
    "        el = cat_array[el_no]\n",
    "        el = re.sub( \"SiÃƒÂ¢n C. Jame|SiÃ¢n C. James|SiÃ¢n C. Jame|Siân C. James\", \"Sian C. James\", el)\n",
    "        el = re.sub( \"ThÃ©rÃ¨se  Coff|Thérèse  Coffey\", \"Therese  Coffey\", el)\n",
    "        el = re.sub( \"RA©union|RÃ©union|RAÂ©union|RÃƒÂ©union\", \"Reunion\", el)\n",
    "        el = re.sub( \"\\xa0Lower supervisory occupations\", \"Lower supervisory occupations\", el)\n",
    "        el = re.sub( \"Don‘t know|Don?t know|Dona??t know|Dona€™t know|Donâ€™t know|Don’t know|Don‘t know|Don\\x91t know|Don\\x92t know|Dona\\x80\\x99t know|Do\\x92t know\",\"Don't know\", el  )\n",
    "        el = re.sub( \"Â–|\\x96|–\", \"-\", el )\n",
    "        el = re.sub( \"Â£|\\xc2£\", \"£\", el )\n",
    "        el = re.sub( \"\\xa0|\\sâ€“\\s|\\s\\xe2\\x80\\x93\\s|\\sÂ‘|Â’\\s\" , \" \", el )\n",
    "        el = re.sub( \"Â‘|Â’|Â€Â™|â\\?\\?|\\x80\\x99|â€™|\\xe2\\x80\\x99|â|â\\x80\\x99|\\?\\?|\\x92|‘|\\x91|’\", \"'\", el )\n",
    "        \n",
    "        if el != cat_array[el_no]:\n",
    "            a_hat_present = True\n",
    "            cat_array[el_no] = el\n",
    "            \n",
    "    if a_hat_present:\n",
    "        return cat_array\n",
    "    else:\n",
    "        return None\n",
    "    \n",
    "def careful_fix_a_hat_chars(cat_string):\n",
    "    if not isinstance(cat_string,str):\n",
    "        return None\n",
    "    cat_array = cat_string.split(\"|\")\n",
    "    a_hat_present = False\n",
    "    for el_no in range( 0, len(cat_array) ):\n",
    "        el = cat_array[el_no]\n",
    "        el = re.sub( \"SiÃƒÂ¢n C. Jame|SiÃ¢n C. James|SiÃ¢n C. Jame|Siân C. James\", \"Sian C. James\", el)\n",
    "        el = re.sub( \"ThÃ©rÃ¨se  Coff|Thérèse  Coffey\", \"Therese  Coffey\", el)\n",
    "        el = re.sub( \"RA©union|RÃ©union|RAÂ©union|RÃƒÂ©union\", \"Reunion\", el)\n",
    "        el = re.sub( \"\\xa0Lower supervisory occupations\", \"Lower supervisory occupations\", el)\n",
    "        el = re.sub( \"Don‘t know|Don?t know|Dona??t know|Dona€™t know|Donâ€™t know|Don’t know|Don‘t know|Don\\x91t know|Don\\x92t know|Dona\\x80\\x99t know|Do\\x92t know\",\"Don't know\", el  )\n",
    "        el = re.sub( \"Â–|\\x96|–\", \"-\", el )\n",
    "        el = re.sub( \"Â£|\\xc2£\", \"£\", el )\n",
    "        el = re.sub( \"\\xa0|\\sâ€“\\s|\\s\\xe2\\x80\\x93\\s|\\sÂ‘|Â’\\s\" , \" \", el )\n",
    "        el = re.sub( \"Â‘|Â’|Â€Â™|â\\?\\?|\\x80\\x99|â€™|\\xe2\\x80\\x99|â|â\\x80\\x99|\\?\\?|\\x92|‘|\\x91|’\", \"'\", el )\n",
    "\n",
    "        if el != cat_array[el_no]:\n",
    "            a_hat_present = True\n",
    "            cat_array[el_no] = el\n",
    "            \n",
    "    if a_hat_present:\n",
    "        return \"|\".join( cat_array )\n",
    "    else:\n",
    "        return None"
   ]
  },
  {
   "cell_type": "code",
   "execution_count": 223,
   "metadata": {},
   "outputs": [],
   "source": [
    "vtad = pd.read_csv( BES_data_folder + \"var_type_all_datasets.csv\", encoding=encoding)"
   ]
  },
  {
   "cell_type": "code",
   "execution_count": 202,
   "metadata": {},
   "outputs": [
    {
     "data": {
      "text/plain": [
       "['Employers in large establishments',\n",
       " 'Higher managerial and administrative occupations',\n",
       " \"L3.1 'Traditional' employees\",\n",
       " \"L3.2 'New' employees\",\n",
       " \"L3.3 'Traditional' self-employed\",\n",
       " \"L3.4 'New' self-employed\",\n",
       " \"L4.1 'Traditional' employees\",\n",
       " \"L4.2 'New' employees\",\n",
       " \"L4.3 'Traditional' self-employed\",\n",
       " \"L4.4 'New' self-employed\",\n",
       " 'Lower managerial and administrative occupations',\n",
       " 'Higher supervisory occupations',\n",
       " 'L7.1 Intermediate clerical and administrative occupations',\n",
       " 'L7.2 Intermediate sales and service occupations',\n",
       " 'L7.3 Intermediate technical and auxiliary occupations',\n",
       " 'L7.4 Intermediate engineering occupations',\n",
       " 'L8.1 Employers in small establishments in industry, commerce, services etc.',\n",
       " 'L8.2 Employers in small establishments in agriculture',\n",
       " 'L9.1 Own account workers (non-professional)',\n",
       " 'L9.2 Own account workers (agriculture)',\n",
       " 'Lower supervisory occupations',\n",
       " 'L11.1 Lower technical craft occupations',\n",
       " 'L11.2 Lower technical process operative occupations',\n",
       " 'L12.1 Semi-routine sales occupations',\n",
       " 'L12.2 Semi-routine service occupations',\n",
       " 'L12.3 Semi-routine technical occupations',\n",
       " 'L12.4 Semi-routine operative occupations',\n",
       " 'L12.5 Semi-routine agricultural occupations',\n",
       " 'L12.6 Semi-routine clerical occupations',\n",
       " 'L12.7 Semi routine childcare occupations',\n",
       " 'L13.1 Routine sales and service occupations',\n",
       " 'L13.2 Routine production occupations',\n",
       " 'L13.3 Routine technical occupations',\n",
       " 'L13.4 Routine operative occupations',\n",
       " 'L13.5 Routine agricultural occupations']"
      ]
     },
     "execution_count": 202,
     "metadata": {},
     "output_type": "execute_result"
    }
   ],
   "source": [
    "test = \"Employers in large establishments|Higher managerial and administrative occupations|L3.1 ‘Traditional’ employees|L3.2 ‘New’ employees|L3.3 ‘Traditional’ self-employed|L3.4 ‘New’ self-employed|L4.1 ‘Traditional’ employees|L4.2 ‘New’ employees|L4.3 ‘Traditional’ self-employed|L4.4 ‘New’ self-employed|Lower managerial and administrative occupations|Higher supervisory occupations|L7.1 Intermediate clerical and administrative occupations|L7.2 Intermediate sales and service occupations|L7.3 Intermediate technical and auxiliary occupations|L7.4 Intermediate engineering occupations|L8.1 Employers in small establishments in industry, commerce, services etc.|L8.2 Employers in small establishments in agriculture|L9.1 Own account workers (non-professional)|L9.2 Own account workers (agriculture)| Lower supervisory occupations|L11.1 Lower technical craft occupations|L11.2 Lower technical process operative occupations|L12.1 Semi-routine sales occupations|L12.2 Semi-routine service occupations|L12.3 Semi-routine technical occupations|L12.4 Semi-routine operative occupations|L12.5 Semi-routine agricultural occupations|L12.6 Semi-routine clerical occupations|L12.7 Semi routine childcare occupations|L13.1 Routine sales and service occupations|L13.2 Routine production occupations|L13.3 Routine technical occupations|L13.4 Routine operative occupations|L13.5 Routine agricultural occupations\"\n",
    "fix_a_hat_chars(test)"
   ]
  },
  {
   "cell_type": "code",
   "execution_count": 225,
   "metadata": {},
   "outputs": [],
   "source": [
    "a = vtad[\"original_cat_list\"].copy()\n",
    "b = a.apply(careful_fix_a_hat_chars)\n",
    "a[b.notnull()] = b[b.notnull()]"
   ]
  },
  {
   "cell_type": "code",
   "execution_count": 207,
   "metadata": {},
   "outputs": [
    {
     "data": {
      "text/plain": [
       "Series([], Name: original_cat_list, dtype: object)"
      ]
     },
     "execution_count": 207,
     "metadata": {},
     "output_type": "execute_result"
    }
   ],
   "source": [
    "vtad[\"original_cat_list\"][vtad[\"original_cat_list\"] == test]"
   ]
  },
  {
   "cell_type": "code",
   "execution_count": 227,
   "metadata": {},
   "outputs": [],
   "source": [
    "long_string  = \"\".join(a.dropna().tolist())"
   ]
  },
  {
   "cell_type": "code",
   "execution_count": 212,
   "metadata": {},
   "outputs": [
    {
     "data": {
      "text/plain": [
       "Series([], Name: original_cat_list, dtype: object)"
      ]
     },
     "execution_count": 212,
     "metadata": {},
     "output_type": "execute_result"
    }
   ],
   "source": [
    "test = \"Employers in large establishments|Higher managerial and administrative occupations|L3.1 ‘Traditional’ employees|L3.2 ‘New’ employees|L3.3 ‘Traditional’ self-employed|L3.4 ‘New’ self-employed|L4.1 ‘Traditional’ employees|L4.2 ‘New’ employees|L4.3 ‘Traditional’ self-employed|L4.4 ‘New’ self-employed|Lower managerial and administrative occupations|Higher supervisory occupations|L7.1 Intermediate clerical and administrative occupations|L7.2 Intermediate sales and service occupations|L7.3 Intermediate technical and auxiliary occupations|L7.4 Intermediate engineering occupations|L8.1 Employers in small establishments in industry, commerce, services etc.|L8.2 Employers in small establishments in agriculture|L9.1 Own account workers (non-professional)|L9.2 Own account workers (agriculture)| Lower supervisory occupations|L11.1 Lower technical craft occupations|L11.2 Lower technical process operative occupations|L12.1 Semi-routine sales occupations|L12.2 Semi-routine service occupations|L12.3 Semi-routine technical occupations|L12.4 Semi-routine operative occupations|L12.5 Semi-routine agricultural occupations|L12.6 Semi-routine clerical occupations|L12.7 Semi routine childcare occupations|L13.1 Routine sales and service occupations|L13.2 Routine production occupations|L13.3 Routine technical occupations|L13.4 Routine operative occupations|L13.5 Routine agricultural occupations\"\n",
    "vtad[\"original_cat_list\"][ vtad[\"original_cat_list\"].values == test ]"
   ]
  },
  {
   "cell_type": "code",
   "execution_count": 228,
   "metadata": {},
   "outputs": [],
   "source": [
    "long_string = long_string.replace(\"|\",\"\")"
   ]
  },
  {
   "cell_type": "code",
   "execution_count": 229,
   "metadata": {
    "collapsed": true
   },
   "outputs": [],
   "source": [
    "long_string_list = list(long_string)"
   ]
  },
  {
   "cell_type": "code",
   "execution_count": 230,
   "metadata": {},
   "outputs": [],
   "source": [
    "long_string_series = pd.Series(data = long_string_list)"
   ]
  },
  {
   "cell_type": "code",
   "execution_count": 232,
   "metadata": {},
   "outputs": [
    {
     "data": {
      "text/plain": [
       "     227728\n",
       "\"        16\n",
       "$        59\n",
       "%        18\n",
       "&       148\n",
       "'     30591\n",
       "(      2612\n",
       ")      2560\n",
       "*       193\n",
       "+        45\n",
       ",      5085\n",
       "-      3210\n",
       ".     32886\n",
       "/      1200\n",
       "0     68817\n",
       "1     22517\n",
       "2     23247\n",
       "3     18794\n",
       "4     18883\n",
       "5     23105\n",
       "6     17840\n",
       "7     16551\n",
       "8     16756\n",
       "9     18309\n",
       ":       186\n",
       "[        28\n",
       "]        28\n",
       "_        51\n",
       "a    132403\n",
       "b     25249\n",
       "c     41024\n",
       "d     96715\n",
       "e    226079\n",
       "f     24972\n",
       "g     52970\n",
       "h     61540\n",
       "i    118499\n",
       "j      3855\n",
       "k     50151\n",
       "l    100805\n",
       "m     39179\n",
       "n    196777\n",
       "o    190702\n",
       "p     31273\n",
       "q      1625\n",
       "r    141462\n",
       "s    107145\n",
       "t    160160\n",
       "u     42389\n",
       "v     23254\n",
       "w     55788\n",
       "x      1343\n",
       "y     67854\n",
       "z       693\n",
       "£      1449\n",
       "dtype: int64"
      ]
     },
     "execution_count": 232,
     "metadata": {},
     "output_type": "execute_result"
    }
   ],
   "source": [
    "long_string_series.apply(str.lower).value_counts().sort_index()"
   ]
  },
  {
   "cell_type": "code",
   "execution_count": 189,
   "metadata": {},
   "outputs": [
    {
     "data": {
      "text/plain": [
       "Index(['©', 'ã'], dtype='object')"
      ]
     },
     "execution_count": 189,
     "metadata": {},
     "output_type": "execute_result"
    }
   ],
   "source": [
    "long_string_series.apply(str.lower)[ ~ long_string_series.apply(is_ascii) ].value_counts().index"
   ]
  },
  {
   "cell_type": "code",
   "execution_count": 169,
   "metadata": {},
   "outputs": [],
   "source": [
    "def is_ascii(s): # ascii or £\n",
    "    return all( ( (ord(c) < 128) or (ord(c)==163))   for c in s)\n",
    "\n",
    "def careful_not_ascii(s): # ascii or £\n",
    "    if not isinstance(s,str):\n",
    "        return False\n",
    "    return not all( ( (ord(c) < 128) or (ord(c)==163))   for c in s)\n",
    "\n",
    "def return_not_ascii(s): # ascii or £\n",
    "    if not isinstance(s,str):\n",
    "        return None\n",
    "    return \"|\".join([ c for c in s if not ((ord(c) < 128) or (ord(c)==163)) ])\n",
    "\n",
    "def return_specific_not_ascii(s,x):\n",
    "    if not isinstance(s,str):\n",
    "        return None\n",
    "    if any([ord(c)==x for c in s]):\n",
    "        return s\n",
    "    else:\n",
    "        return None"
   ]
  },
  {
   "cell_type": "code",
   "execution_count": 113,
   "metadata": {},
   "outputs": [
    {
     "data": {
      "text/plain": [
       "['â', '\\x80', '\\x93', 'â', '\\x80', '\\x93']"
      ]
     },
     "execution_count": 113,
     "metadata": {},
     "output_type": "execute_result"
    }
   ],
   "source": [
    "s = \"Own â outright|Own â with a mortgage\"\n",
    "[ c for c in s if not ((ord(c) < 128) or (ord(c)==163)) ]"
   ]
  },
  {
   "cell_type": "code",
   "execution_count": 170,
   "metadata": {},
   "outputs": [
    {
     "data": {
      "text/plain": [
       "'Own â\\x80\\x93 outright|Own â\\x80\\x93 with a mortgage'"
      ]
     },
     "execution_count": 170,
     "metadata": {},
     "output_type": "execute_result"
    }
   ],
   "source": [
    "return_specific_not_ascii(\"Own â outright|Own â with a mortgage\",147)\n"
   ]
  },
  {
   "cell_type": "code",
   "execution_count": null,
   "metadata": {
    "collapsed": true
   },
   "outputs": [],
   "source": [
    "return_specific_not_ascii(\"Own â outright|Own â with a mortgage\",147)"
   ]
  },
  {
   "cell_type": "code",
   "execution_count": 165,
   "metadata": {},
   "outputs": [
    {
     "data": {
      "text/plain": [
       "147"
      ]
     },
     "execution_count": 165,
     "metadata": {},
     "output_type": "execute_result"
    }
   ],
   "source": [
    "ord( \"\" )"
   ]
  },
  {
   "cell_type": "code",
   "execution_count": 156,
   "metadata": {},
   "outputs": [
    {
     "data": {
      "text/plain": [
       "0                                               b'\\xa9'\n",
       "1                                          b'\\xc3|\\xa9'\n",
       "2       b'\\x91|\\x91|\\x91|\\x91|\\x91|\\x91|\\x91|\\x91|\\xa0'\n",
       "3                      b'\\xc3|\\xa9|\\xc3|\\xa8|\\xc3|\\xa2'\n",
       "4                      b'\\xc3|\\xa9|\\xc3|\\xa8|\\xc3|\\xa2'\n",
       "5                                     b'\\xe9|\\xe8|\\xe2'\n",
       "6                                     b'\\xe9|\\xe8|\\xe2'\n",
       "7                                          b'\\x96|\\x96'\n",
       "8                      b'\\xe2|\\x80|\\x93|\\xe2|\\x80|\\x93'\n",
       "9                 b'\\x96|\\x96|\\x96|\\x96|\\x96|\\x96|\\x96'\n",
       "10           b'\\x96|\\x96|\\x96|\\x96|\\x96|\\x96|\\x96|\\x96'\n",
       "11    b'\\xe2|\\x80|\\x93|\\xe2|\\x80|\\x93|\\xe2|\\x80|\\x93...\n",
       "Name: 0, dtype: object"
      ]
     },
     "execution_count": 156,
     "metadata": {},
     "output_type": "execute_result"
    }
   ],
   "source": [
    "# df[0].apply( return_not_ascii ).loc[0].encode(encoding)\n",
    "df[0].apply( return_not_ascii ).apply( lambda x: x.encode(encoding) )"
   ]
  },
  {
   "cell_type": "code",
   "execution_count": 226,
   "metadata": {},
   "outputs": [
    {
     "data": {
      "text/html": [
       "<div>\n",
       "<style>\n",
       "    .dataframe thead tr:only-child th {\n",
       "        text-align: right;\n",
       "    }\n",
       "\n",
       "    .dataframe thead th {\n",
       "        text-align: left;\n",
       "    }\n",
       "\n",
       "    .dataframe tbody tr th {\n",
       "        vertical-align: top;\n",
       "    }\n",
       "</style>\n",
       "<table border=\"1\" class=\"dataframe\">\n",
       "  <thead>\n",
       "    <tr style=\"text-align: right;\">\n",
       "      <th></th>\n",
       "      <th>0</th>\n",
       "      <th>weirdchars</th>\n",
       "      <th>weirdbytestrings</th>\n",
       "    </tr>\n",
       "  </thead>\n",
       "  <tbody>\n",
       "  </tbody>\n",
       "</table>\n",
       "</div>"
      ],
      "text/plain": [
       "Empty DataFrame\n",
       "Columns: [0, weirdchars, weirdbytestrings]\n",
       "Index: []"
      ]
     },
     "execution_count": 226,
     "metadata": {},
     "output_type": "execute_result"
    }
   ],
   "source": [
    "# [ vtad[\"final_cat_list\"].notnull() ]\n",
    "\n",
    "# ser = pd.Series( vtad[\"final_cat_list\"][ vtad[\"final_cat_list\"].apply(careful_not_ascii) ].sort_values().unique() )\n",
    "\n",
    "ser = pd.Series( a[ a.apply(careful_not_ascii) ].sort_values().unique() )\n",
    "\n",
    "df = pd.DataFrame(ser)\n",
    "df[\"weirdchars\"] = df[0].apply( return_not_ascii )\n",
    "df[\"weirdbytestrings\"] = df[\"weirdchars\"].apply( lambda x: x.encode(encoding) )\n",
    "df.to_csv( BES_data_folder + \"final_cat_list_weird_chars.csv\", encoding = encoding )\n",
    "df"
   ]
  },
  {
   "cell_type": "code",
   "execution_count": 213,
   "metadata": {},
   "outputs": [
    {
     "ename": "TypeError",
     "evalue": "sort_values() missing 1 required positional argument: 'by'",
     "output_type": "error",
     "traceback": [
      "\u001b[1;31m---------------------------------------------------------------------------\u001b[0m",
      "\u001b[1;31mTypeError\u001b[0m                                 Traceback (most recent call last)",
      "\u001b[1;32m<ipython-input-213-f8f31f95b11b>\u001b[0m in \u001b[0;36m<module>\u001b[1;34m()\u001b[0m\n\u001b[0;32m      1\u001b[0m \u001b[0mcol\u001b[0m \u001b[1;33m=\u001b[0m \u001b[1;34m\"original_cat_list\"\u001b[0m\u001b[1;33m\u001b[0m\u001b[0m\n\u001b[0;32m      2\u001b[0m \u001b[1;33m\u001b[0m\u001b[0m\n\u001b[1;32m----> 3\u001b[1;33m \u001b[0mser\u001b[0m \u001b[1;33m=\u001b[0m \u001b[0mpd\u001b[0m\u001b[1;33m.\u001b[0m\u001b[0mSeries\u001b[0m\u001b[1;33m(\u001b[0m \u001b[0mvtad\u001b[0m\u001b[1;33m[\u001b[0m \u001b[0mvtad\u001b[0m\u001b[1;33m[\u001b[0m \u001b[0mcol\u001b[0m \u001b[1;33m]\u001b[0m\u001b[1;33m.\u001b[0m\u001b[0mapply\u001b[0m\u001b[1;33m(\u001b[0m\u001b[0mcareful_not_ascii\u001b[0m\u001b[1;33m)\u001b[0m \u001b[1;33m]\u001b[0m\u001b[1;33m.\u001b[0m\u001b[0msort_values\u001b[0m\u001b[1;33m(\u001b[0m\u001b[1;33m)\u001b[0m\u001b[1;33m.\u001b[0m\u001b[0munique\u001b[0m\u001b[1;33m(\u001b[0m\u001b[1;33m)\u001b[0m \u001b[1;33m)\u001b[0m\u001b[1;33m\u001b[0m\u001b[0m\n\u001b[0m\u001b[0;32m      4\u001b[0m \u001b[1;33m\u001b[0m\u001b[0m\n\u001b[0;32m      5\u001b[0m \u001b[0mdf\u001b[0m \u001b[1;33m=\u001b[0m \u001b[0mpd\u001b[0m\u001b[1;33m.\u001b[0m\u001b[0mDataFrame\u001b[0m\u001b[1;33m(\u001b[0m\u001b[0mser\u001b[0m\u001b[1;33m)\u001b[0m\u001b[1;33m\u001b[0m\u001b[0m\n",
      "\u001b[1;31mTypeError\u001b[0m: sort_values() missing 1 required positional argument: 'by'"
     ]
    }
   ],
   "source": [
    "col = \"original_cat_list\"\n",
    "\n",
    "ser = pd.Series( vtad[ vtad[ col ].apply(careful_not_ascii) ].sort_values().unique() )\n",
    "\n",
    "df = pd.DataFrame(ser)\n",
    "df[\"weirdchars\"] = df[0].apply( return_not_ascii )\n",
    "df[\"weirdbytestrings\"] = df[\"weirdchars\"].apply( lambda x: x.encode(encoding) )\n",
    "df.to_csv( BES_data_folder + col + \"_weird_chars.csv\", encoding = encoding )\n",
    "df"
   ]
  },
  {
   "cell_type": "code",
   "execution_count": 221,
   "metadata": {},
   "outputs": [
    {
     "data": {
      "text/plain": [
       "'Employers in large establishments|Higher managerial and administrative occupations|L3.1 \\x91Traditional\\x92 employees|L3.2 \\x91New\\x92 employees|L3.3 \\x91Traditional\\x92 self-employed|L3.4 \\x91New\\x92 self-employed|L4.1 \\x91Traditional\\x92 employees|L4.2 \\x91New\\x92 employees|L4.3 \\x91Traditional\\x92 self-employed|L4.4 \\x91New\\x92 self-employed|Lower managerial and administrative occupations|Higher supervisory occupations|L7.1 Intermediate clerical and administrative occupations|L7.2 Intermediate sales and service occupations|L7.3 Intermediate technical and auxiliary occupations|L7.4 Intermediate engineering occupations|L8.1 Employers in small establishments in industry, commerce, services etc.|L8.2 Employers in small establishments in agriculture|L9.1 Own account workers (non-professional)|L9.2 Own account workers (agriculture)|\\xa0Lower supervisory occupations|L11.1 Lower technical craft occupations|L11.2 Lower technical process operative occupations|L12.1 Semi-routine sales occupations|L12.2 Semi-routine service occupations|L12.3 Semi-routine technical occupations|L12.4 Semi-routine operative occupations|L12.5 Semi-routine agricultural occupations|L12.6 Semi-routine clerical occupations|L12.7 Semi routine childcare occupations|L13.1 Routine sales and service occupations|L13.2 Routine production occupations|L13.3 Routine technical occupations|L13.4 Routine operative occupations|L13.5 Routine agricultural occupations'"
      ]
     },
     "execution_count": 221,
     "metadata": {},
     "output_type": "execute_result"
    }
   ],
   "source": [
    "vtad[ vtad[ col ].apply(careful_not_ascii) ].sort_values(by=col)[\"original_cat_list\"][29065]"
   ]
  },
  {
   "cell_type": "code",
   "execution_count": 109,
   "metadata": {},
   "outputs": [
    {
     "data": {
      "text/plain": [
       "0     Afghanistan|Albania|Algeria|American Samoa|Ang...\n",
       "1     Afghanistan|Albania|Algeria|American Samoa|Ang...\n",
       "2     An individual share in a company|A portfolio o...\n",
       "3     Conservative|Labour|Liberal Democrat|ukip|Gree...\n",
       "4     Employers in large establishments|Higher manag...\n",
       "5     Gerald Howarth|Richard Shepherd|Graham Brady|N...\n",
       "6     Gerald Howarth|Richard Shepherd|Graham Brady|N...\n",
       "7     Gerald Howarth|Richard Shepherd|Graham Brady|N...\n",
       "8     Gerald Howarth|Richard Shepherd|Graham Brady|N...\n",
       "9     Leave the European Union|Stay in EU and reduce...\n",
       "10    More than today|Exactly the same as today|Less...\n",
       "11    More than £102|Exactly £102|Less than £102|Don...\n",
       "12    Most people can be trusted|Canât be too care...\n",
       "13    Much worse|Worse|About the same|Better|Much be...\n",
       "14    No limit at all|Â£7,500|Â£20,000|Â£50,000|Â£10...\n",
       "15    No, I do not regard myself as belonging to any...\n",
       "16    No, I do not regard myself as belonging to any...\n",
       "17    No, I have never attended higher education|Yes...\n",
       "18    No, I havent received any letter|Yes, I was t...\n",
       "19    No, didnt vote|Yes, they voted|They were not ...\n",
       "20    Not at all confident|Not very confident|Fairly...\n",
       "21    Own  outright|Own  with a mortgage|Own (part...\n",
       "22    Own  outright|Own  with a mortgage|Own (part...\n",
       "23    Own â outright|Own â with a mortgage|Own (...\n",
       "24    The Conservative candidate|The Labour candidat...\n",
       "25    To remain a member of the European Union|To le...\n",
       "26    Very aware|Fairly aware|Not very aware|Not awa...\n",
       "27             Yes, voted|No, did not vote|Donat know\n",
       "28               Yes, voted|No, did not vote|Dont know\n",
       "29             Yes, voted|No, did not vote|Donât know\n",
       "30    under Â£5,000 per year|Â£5,000 to Â£9,999 per ...\n",
       "31    under Â£5,000 per year|Â£5,000 to Â£9,999 per ...\n",
       "32    under Â£5,000 per year|Â£5,000 to Â£9,999 per ...\n",
       "dtype: object"
      ]
     },
     "execution_count": 109,
     "metadata": {},
     "output_type": "execute_result"
    }
   ],
   "source": [
    "pd.Series( vtad[\"original_cat_list\"][ vtad[\"original_cat_list\"].apply(careful_not_ascii) ].sort_values().unique() )"
   ]
  },
  {
   "cell_type": "code",
   "execution_count": 50,
   "metadata": {
    "collapsed": true
   },
   "outputs": [],
   "source": [
    "a = \"conPriorities2_natsecW4|labPriorities2_natsecW4|ldPriorities2_natsecW4|ukipPriorities2_natsecW4|EUContactRemainConW7|EUContactRemainLabW7|EUContactRemainLDW7|EUContactRemainSNPW7|EUContactRemainPCW7|EUContactRemainUKIPW7|EUContactRemainGreenW7|EUContactRemainOthW7|EUContactRemainNoneW7|EUContactRemainDKW7|EUContactLeaveConW7|EUContactLeaveLabW7|EUContactLeaveLDW7|EUContactLeaveSNPW7|EUContactLeavePCW7|EUContactLeaveUKIPW7|EUContactLeaveGreenW7|EUContactLeaveOthW7|EUContactLeaveNoneW7|EUContactLeaveDKW7|resourceAccess1_99W7|resourceAccess2_99W7|resourceAccess3_99W7|belongGroup_99W11|discussantsSameAddress_99W12|voteMethodEurope_dkW2|discussantsAskedYouToVote_DKW2|discussantsAccompaniedVote_dkW2|referendumContact_dkW2|referendumContact_dkW3\"\n",
    "b= a.split(\"|\")"
   ]
  },
  {
   "cell_type": "code",
   "execution_count": 69,
   "metadata": {},
   "outputs": [
    {
     "data": {
      "text/plain": [
       "'resourceAccess1_99W7|resourceAccess2_99W7|resourceAccess3_99W7|belongGroup_99W11|discussantsSameAddress_99W12|voteMethodEurope_dkW2|discussantsAskedYouToVote_DKW2|discussantsAccompaniedVote_dkW2|referendumContact_dkW2|referendumContact_dkW3'"
      ]
     },
     "execution_count": 69,
     "metadata": {},
     "output_type": "execute_result"
    }
   ],
   "source": [
    "d = [x for x in b if re.search(\"_99|_111|_dk|_DK\",x) is not None]\n",
    "\"|\".join( d )"
   ]
  },
  {
   "cell_type": "code",
   "execution_count": 235,
   "metadata": {},
   "outputs": [
    {
     "data": {
      "text/plain": [
       "['Get a lot worse',\n",
       " 'Get a little worse',\n",
       " 'Stay the same',\n",
       " 'Get a little better',\n",
       " 'Get a lot better',\n",
       " \"Don't know\"]"
      ]
     },
     "execution_count": 235,
     "metadata": {},
     "output_type": "execute_result"
    }
   ],
   "source": [
    "\"Get a lot worse|Get a little worse|Stay the same|Get a little better|Get a lot better|Don't know\".split(\"|\")"
   ]
  },
  {
   "cell_type": "code",
   "execution_count": null,
   "metadata": {},
   "outputs": [],
   "source": []
  },
  {
   "cell_type": "code",
   "execution_count": null,
   "metadata": {},
   "outputs": [],
   "source": []
  },
  {
   "cell_type": "code",
   "execution_count": null,
   "metadata": {
    "collapsed": true
   },
   "outputs": [],
   "source": []
  }
 ],
 "metadata": {
  "kernelspec": {
   "display_name": "Python 3",
   "language": "python",
   "name": "python3"
  },
  "language_info": {
   "codemirror_mode": {
    "name": "ipython",
    "version": 3
   },
   "file_extension": ".py",
   "mimetype": "text/x-python",
   "name": "python",
   "nbconvert_exporter": "python",
   "pygments_lexer": "ipython3",
   "version": "3.6.7"
  }
 },
 "nbformat": 4,
 "nbformat_minor": 2
}
