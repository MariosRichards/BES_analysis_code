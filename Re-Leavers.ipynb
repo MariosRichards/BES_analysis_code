{
 "cells": [
  {
   "cell_type": "code",
   "execution_count": 156,
   "metadata": {
    "collapsed": true
   },
   "outputs": [],
   "source": [
    "import numpy as np\n",
    "import pandas as pd\n",
    "\n",
    "import matplotlib.pyplot as plt\n",
    "%matplotlib inline\n",
    "import pickle, os\n"
   ]
  },
  {
   "cell_type": "code",
   "execution_count": 2,
   "metadata": {},
   "outputs": [
    {
     "data": {
      "text/html": [
       "\n",
       "<script src=\"https://code.jquery.com/ui/1.10.4/jquery-ui.min.js\" type=\"text/javascript\"></script>\n",
       "<script type=\"text/javascript\">function HoloViewsWidget(){\n",
       "}\n",
       "\n",
       "HoloViewsWidget.comms = {};\n",
       "HoloViewsWidget.comm_state = {};\n",
       "\n",
       "HoloViewsWidget.prototype.init_slider = function(init_val){\n",
       "\tif(this.load_json) {\n",
       "\t\tthis.from_json()\n",
       "\t} else {\n",
       "\t\tthis.update_cache();\n",
       "\t}\n",
       "}\n",
       "\n",
       "HoloViewsWidget.prototype.populate_cache = function(idx){\n",
       "    this.cache[idx].html(this.frames[idx]);\n",
       "    if (this.embed) {\n",
       "        delete this.frames[idx];\n",
       "    }\n",
       "}\n",
       "\n",
       "HoloViewsWidget.prototype.process_error = function(msg){\n",
       "\n",
       "}\n",
       "\n",
       "HoloViewsWidget.prototype.from_json = function() {\n",
       "\tvar data_url = this.json_path + this.id + '.json';\n",
       "\t$.getJSON(data_url, $.proxy(function(json_data) {\n",
       "\t\tthis.frames = json_data;\n",
       "\t\tthis.update_cache();\n",
       "\t\tthis.update(0);\n",
       "\t}, this));\n",
       "}\n",
       "\n",
       "HoloViewsWidget.prototype.dynamic_update = function(current){\n",
       "\tif (current === undefined) {\n",
       "\t\treturn\n",
       "\t}\n",
       "\tif(this.dynamic) {\n",
       "\t\tcurrent = JSON.stringify(current);\n",
       "\t}\n",
       "\tfunction callback(initialized, msg){\n",
       "\t\t/* This callback receives data from Python as a string\n",
       "\t\t   in order to parse it correctly quotes are sliced off*/\n",
       "\t\tif (msg.content.ename != undefined) {\n",
       "\t\t\tthis.process_error(msg);\n",
       "\t\t}\n",
       "\t\tif (msg.msg_type != \"execute_result\") {\n",
       "\t\t\tconsole.log(\"Warning: HoloViews callback returned unexpected data for key: (\", current, \") with the following content:\", msg.content)\n",
       "\t\t\tthis.time = undefined;\n",
       "\t\t\tthis.wait = false;\n",
       "\t\t\treturn\n",
       "\t\t}\n",
       "\t\tthis.timed = (Date.now() - this.time) * 1.1;\n",
       "\t\tif (msg.msg_type == \"execute_result\") {\n",
       "\t\t\tif (msg.content.data['text/plain'].includes('Complete')) {\n",
       "\t\t\t\tthis.wait = false;\n",
       "\t\t\t\tif (this.queue.length > 0) {\n",
       "\t\t\t\t\tthis.time = Date.now();\n",
       "\t\t\t\t\tthis.dynamic_update(this.queue[this.queue.length-1]);\n",
       "\t\t\t\t\tthis.queue = [];\n",
       "\t\t\t\t}\n",
       "\t\t\t\treturn\n",
       "\t\t\t}\n",
       "\t\t}\n",
       "\t}\n",
       "\tthis.current = current;\n",
       "\tvar kernel = IPython.notebook.kernel;\n",
       "\tcallbacks = {iopub: {output: $.proxy(callback, this, this.initialized)}};\n",
       "\tvar cmd = \"holoviews.plotting.widgets.NdWidget.widgets['\" + this.id + \"'].update(\" + current + \")\";\n",
       "\tkernel.execute(\"import holoviews;\" + cmd, callbacks, {silent : false});\n",
       "}\n",
       "\n",
       "HoloViewsWidget.prototype.update_cache = function(force){\n",
       "    var frame_len = Object.keys(this.frames).length;\n",
       "    for (var i=0; i<frame_len; i++) {\n",
       "        if(!this.load_json || this.dynamic)  {\n",
       "            frame = Object.keys(this.frames)[i];\n",
       "        } else {\n",
       "            frame = i;\n",
       "        }\n",
       "        if(!(frame in this.cache) || force) {\n",
       "\t\t\tif ((frame in this.cache) && force) { this.cache[frame].remove() }\n",
       "\t\t\tthis.cache[frame] = $('<div />').appendTo(\"#\"+\"_anim_img\"+this.id).hide();\n",
       "\t\t\tvar cache_id = \"_anim_img\"+this.id+\"_\"+frame;\n",
       "\t\t\tthis.cache[frame].attr(\"id\", cache_id);\n",
       "\t\t\tthis.populate_cache(frame);\n",
       "        }\n",
       "    }\n",
       "}\n",
       "\n",
       "HoloViewsWidget.prototype.update = function(current){\n",
       "    if(current in this.cache) {\n",
       "        $.each(this.cache, function(index, value) {\n",
       "            value.hide();\n",
       "        });\n",
       "        this.cache[current].show();\n",
       "\t\tthis.wait = false;\n",
       "    }\n",
       "}\n",
       "\n",
       "HoloViewsWidget.prototype.init_comms = function() {\n",
       "\tif ((window.Jupyter !== undefined) && (Jupyter.notebook.kernel !== undefined)) {\n",
       "\t\tvar widget = this;\n",
       "\t\tcomm_manager = Jupyter.notebook.kernel.comm_manager;\n",
       "        comm_manager.register_target(this.id, function (comm) {\n",
       "\t\t\tcomm.on_msg(function (msg) { widget.process_msg(msg) });\n",
       "\t\t});\n",
       "\t}\n",
       "}\n",
       "\n",
       "HoloViewsWidget.prototype.process_msg = function(msg) {\n",
       "}\n",
       "\n",
       "function SelectionWidget(frames, id, slider_ids, keyMap, dim_vals, notFound, load_json, mode, cached, json_path, dynamic){\n",
       "    this.frames = frames;\n",
       "    this.id = id;\n",
       "    this.slider_ids = slider_ids;\n",
       "    this.keyMap = keyMap\n",
       "    this.current_frame = 0;\n",
       "    this.current_vals = dim_vals;\n",
       "    this.load_json = load_json;\n",
       "    this.mode = mode;\n",
       "    this.notFound = notFound;\n",
       "    this.cached = cached;\n",
       "    this.dynamic = dynamic;\n",
       "    this.cache = {};\n",
       "\tthis.json_path = json_path;\n",
       "    this.init_slider(this.current_vals[0]);\n",
       "\tthis.queue = [];\n",
       "\tthis.wait = false;\n",
       "\tif (!this.cached || this.dynamic) {\n",
       "\t\tthis.init_comms()\n",
       "\t}\n",
       "}\n",
       "\n",
       "SelectionWidget.prototype = new HoloViewsWidget;\n",
       "\n",
       "\n",
       "SelectionWidget.prototype.get_key = function(current_vals) {\n",
       "\tvar key = \"(\";\n",
       "    for (var i=0; i<this.slider_ids.length; i++)\n",
       "    {\n",
       "        val = this.current_vals[i];\n",
       "        if (!(typeof val === 'string')) {\n",
       "            if (val % 1 === 0) { val = val.toFixed(1); }\n",
       "            else { val = val.toFixed(10); val = val.slice(0, val.length-1);}\n",
       "        }\n",
       "        key += \"'\" + val + \"'\";\n",
       "        if(i != this.slider_ids.length-1) { key += ', ';}\n",
       "        else if(this.slider_ids.length == 1) { key += ',';}\n",
       "    }\n",
       "    key += \")\";\n",
       "\treturn this.keyMap[key];\n",
       "}\n",
       "\n",
       "SelectionWidget.prototype.set_frame = function(dim_val, dim_idx){\n",
       "\tthis.current_vals[dim_idx] = dim_val;\n",
       "    var current = this.get_key(this.current_vals);\n",
       "    if(current === undefined && !this.dynamic) {\n",
       "        return\n",
       "    }\n",
       "\tif (this.dynamic || !this.cached) {\n",
       "\t\tif (this.time === undefined) {\n",
       "\t\t\t// Do nothing the first time\n",
       "\t\t} else if ((this.timed === undefined) || ((this.time + this.timed) > Date.now())) {\n",
       "\t\t\tvar key = this.current_vals;\n",
       "\t\t\tif (!this.dynamic) {\n",
       "\t\t\t\tkey = this.get_key(key);\n",
       "\t\t\t}\n",
       "\t\t\tthis.queue.push(key);\n",
       "\t\t\treturn\n",
       "\t\t}\n",
       "\t}\n",
       "\tthis.queue = [];\n",
       "\tthis.time = Date.now();\n",
       "\tthis.current_frame = current;\n",
       "    if(this.dynamic) {\n",
       "        this.dynamic_update(this.current_vals)\n",
       "    } else if(this.cached) {\n",
       "        this.update(current)\n",
       "    } else {\n",
       "        this.dynamic_update(current)\n",
       "    }\n",
       "}\n",
       "\n",
       "\n",
       "/* Define the ScrubberWidget class */\n",
       "function ScrubberWidget(frames, num_frames, id, interval, load_json, mode, cached, json_path, dynamic){\n",
       "    this.slider_id = \"_anim_slider\" + id;\n",
       "    this.loop_select_id = \"_anim_loop_select\" + id;\n",
       "    this.id = id;\n",
       "    this.interval = interval;\n",
       "    this.current_frame = 0;\n",
       "    this.direction = 0;\n",
       "    this.dynamic = dynamic;\n",
       "    this.timer = null;\n",
       "    this.load_json = load_json;\n",
       "    this.mode = mode;\n",
       "    this.cached = cached;\n",
       "    this.frames = frames;\n",
       "    this.cache = {};\n",
       "    this.length = num_frames;\n",
       "\tthis.json_path = json_path;\n",
       "    document.getElementById(this.slider_id).max = this.length - 1;\n",
       "    this.init_slider(0);\n",
       "\tthis.wait = false;\n",
       "\tthis.queue = [];\n",
       "\tif (!this.cached || this.dynamic) {\n",
       "\t\tthis.init_comms()\n",
       "\t}\n",
       "}\n",
       "\n",
       "ScrubberWidget.prototype = new HoloViewsWidget;\n",
       "\n",
       "ScrubberWidget.prototype.set_frame = function(frame){\n",
       "\tthis.current_frame = frame;\n",
       "\twidget = document.getElementById(this.slider_id);\n",
       "    if (widget === null) {\n",
       "        this.pause_animation();\n",
       "        return\n",
       "    }\n",
       "    widget.value = this.current_frame;\n",
       "    if(this.cached) {\n",
       "        this.update(frame)\n",
       "    } else {\n",
       "        this.dynamic_update(frame)\n",
       "    }\n",
       "}\n",
       "\n",
       "\n",
       "ScrubberWidget.prototype.process_error = function(msg){\n",
       "\tif (msg.content.ename === 'StopIteration') {\n",
       "\t\tthis.pause_animation();\n",
       "\t\tthis.stopped = true;\n",
       "\t\tvar keys = Object.keys(this.frames)\n",
       "\t\tthis.length = keys.length;\n",
       "\t\tdocument.getElementById(this.slider_id).max = this.length-1;\n",
       "\t\tdocument.getElementById(this.slider_id).value = this.length-1;\n",
       "\t\tthis.current_frame = this.length-1;\n",
       "\t}\n",
       "}\n",
       "\n",
       "\n",
       "ScrubberWidget.prototype.get_loop_state = function(){\n",
       "    var button_group = document[this.loop_select_id].state;\n",
       "    for (var i = 0; i < button_group.length; i++) {\n",
       "        var button = button_group[i];\n",
       "        if (button.checked) {\n",
       "            return button.value;\n",
       "        }\n",
       "    }\n",
       "    return undefined;\n",
       "}\n",
       "\n",
       "\n",
       "ScrubberWidget.prototype.next_frame = function() {\n",
       "\tif (this.dynamic || !this.cached) {\n",
       "\t\tif (this.wait) {\n",
       "\t\t\treturn\n",
       "\t\t}\n",
       "\t\tthis.wait = true;\n",
       "\t}\n",
       "\tif (this.dynamic && this.current_frame + 1 >= this.length) {\n",
       "\t\tthis.length += 1;\n",
       "        document.getElementById(this.slider_id).max = this.length-1;\n",
       "\t}\n",
       "    this.set_frame(Math.min(this.length - 1, this.current_frame + 1));\n",
       "}\n",
       "\n",
       "ScrubberWidget.prototype.previous_frame = function() {\n",
       "    this.set_frame(Math.max(0, this.current_frame - 1));\n",
       "}\n",
       "\n",
       "ScrubberWidget.prototype.first_frame = function() {\n",
       "    this.set_frame(0);\n",
       "}\n",
       "\n",
       "ScrubberWidget.prototype.last_frame = function() {\n",
       "    this.set_frame(this.length - 1);\n",
       "}\n",
       "\n",
       "ScrubberWidget.prototype.slower = function() {\n",
       "    this.interval /= 0.7;\n",
       "    if(this.direction > 0){this.play_animation();}\n",
       "    else if(this.direction < 0){this.reverse_animation();}\n",
       "}\n",
       "\n",
       "ScrubberWidget.prototype.faster = function() {\n",
       "    this.interval *= 0.7;\n",
       "    if(this.direction > 0){this.play_animation();}\n",
       "    else if(this.direction < 0){this.reverse_animation();}\n",
       "}\n",
       "\n",
       "ScrubberWidget.prototype.anim_step_forward = function() {\n",
       "    if(this.current_frame < this.length || (this.dynamic && !this.stopped)){\n",
       "        this.next_frame();\n",
       "    }else{\n",
       "        var loop_state = this.get_loop_state();\n",
       "        if(loop_state == \"loop\"){\n",
       "            this.first_frame();\n",
       "        }else if(loop_state == \"reflect\"){\n",
       "            this.last_frame();\n",
       "            this.reverse_animation();\n",
       "        }else{\n",
       "            this.pause_animation();\n",
       "            this.last_frame();\n",
       "        }\n",
       "    }\n",
       "}\n",
       "\n",
       "ScrubberWidget.prototype.anim_step_reverse = function() {\n",
       "    this.current_frame -= 1;\n",
       "    if(this.current_frame >= 0){\n",
       "        this.set_frame(this.current_frame);\n",
       "    } else {\n",
       "        var loop_state = this.get_loop_state();\n",
       "        if(loop_state == \"loop\"){\n",
       "            this.last_frame();\n",
       "        }else if(loop_state == \"reflect\"){\n",
       "            this.first_frame();\n",
       "            this.play_animation();\n",
       "        }else{\n",
       "            this.pause_animation();\n",
       "            this.first_frame();\n",
       "        }\n",
       "    }\n",
       "}\n",
       "\n",
       "ScrubberWidget.prototype.pause_animation = function() {\n",
       "    this.direction = 0;\n",
       "    if (this.timer){\n",
       "        clearInterval(this.timer);\n",
       "        this.timer = null;\n",
       "    }\n",
       "}\n",
       "\n",
       "ScrubberWidget.prototype.play_animation = function() {\n",
       "    this.pause_animation();\n",
       "    this.direction = 1;\n",
       "    var t = this;\n",
       "    if (!this.timer) this.timer = setInterval(function(){t.anim_step_forward();}, this.interval);\n",
       "}\n",
       "\n",
       "ScrubberWidget.prototype.reverse_animation = function() {\n",
       "    this.pause_animation();\n",
       "    this.direction = -1;\n",
       "    var t = this;\n",
       "    if (!this.timer) this.timer = setInterval(function(){t.anim_step_reverse();}, this.interval);\n",
       "}\n",
       "\n",
       "function extend(destination, source) {\n",
       "    for (var k in source) {\n",
       "        if (source.hasOwnProperty(k)) {\n",
       "            destination[k] = source[k];\n",
       "        }\n",
       "    }\n",
       "    return destination;\n",
       "}\n",
       "\n",
       "function update_widget(widget, values) {\n",
       "\tif (widget.hasClass(\"ui-slider\")) {\n",
       "\t\twidget.slider('option',\n",
       "\t\t\t\t\t  {'min': 0, 'max': values.length-1,\n",
       "\t\t\t\t\t   'dim_vals': values, 'value': 0,\n",
       "\t\t\t\t\t   'dim_labels': values})\n",
       "\t\twidget.slider('option', 'slide').call(widget, event, {'value': 0})\n",
       "\t} else {\n",
       "\t\twidget.empty();\n",
       "\t\tfor (var i=0; i<values.length; i++){\n",
       "\t\t\twidget.append($(\"<option>\", {\n",
       "\t\t\t\tvalue: i,\n",
       "\t\t\t\ttext: values[i]\n",
       "\t\t\t}))};\n",
       "\t\twidget.data('values', values);\n",
       "\t\twidget.data('value', 0);\n",
       "\t\twidget.trigger(\"change\");\n",
       "\t};\n",
       "}\n",
       "\n",
       "// Define MPL specific subclasses\n",
       "function MPLSelectionWidget() {\n",
       "\tSelectionWidget.apply(this, arguments);\n",
       "}\n",
       "\n",
       "function MPLScrubberWidget() {\n",
       "\tScrubberWidget.apply(this, arguments);\n",
       "}\n",
       "\n",
       "// Let them inherit from the baseclasses\n",
       "MPLSelectionWidget.prototype = Object.create(SelectionWidget.prototype);\n",
       "MPLScrubberWidget.prototype = Object.create(ScrubberWidget.prototype);\n",
       "\n",
       "// Define methods to override on widgets\n",
       "var MPLMethods = {\n",
       "\tinit_slider : function(init_val){\n",
       "\t\tif(this.load_json) {\n",
       "\t\t\tthis.from_json()\n",
       "\t\t} else {\n",
       "\t\t\tthis.update_cache();\n",
       "\t\t}\n",
       "\t\tthis.update(0);\n",
       "\t\tif(this.mode == 'nbagg') {\n",
       "\t\t\tthis.set_frame(init_val, 0);\n",
       "\t\t}\n",
       "\t},\n",
       "\tpopulate_cache : function(idx){\n",
       "\t\tvar cache_id = \"_anim_img\"+this.id+\"_\"+idx;\n",
       "\t\tif(this.mode == 'mpld3') {\n",
       "\t\t\tmpld3.draw_figure(cache_id, this.frames[idx]);\n",
       "\t\t} else {\n",
       "\t\t\tthis.cache[idx].html(this.frames[idx]);\n",
       "\t\t}\n",
       "\t\tif (this.embed) {\n",
       "\t\t\tdelete this.frames[idx];\n",
       "\t\t}\n",
       "\t},\n",
       "\tprocess_msg : function(msg) {\n",
       "\t\tif (!(this.mode == 'nbagg')) {\n",
       "\t\t\tvar data = msg.content.data;\n",
       "\t\t\tthis.frames[this.current] = data;\n",
       "\t\t\tthis.update_cache(true);\n",
       "\t\t\tthis.update(this.current);\n",
       "\t\t}\n",
       "\t}\n",
       "}\n",
       "// Extend MPL widgets with backend specific methods\n",
       "extend(MPLSelectionWidget.prototype, MPLMethods);\n",
       "extend(MPLScrubberWidget.prototype, MPLMethods);\n",
       "</script>\n",
       "\n",
       "\n",
       "<link rel=\"stylesheet\" href=\"https://code.jquery.com/ui/1.10.4/themes/smoothness/jquery-ui.css\">\n",
       "<style>div.hololayout {\n",
       "    display: flex;\n",
       "    align-items: center;\n",
       "    margin: 0;\n",
       "}\n",
       "\n",
       "div.holoframe {\n",
       "\twidth: 75%;\n",
       "}\n",
       "\n",
       "div.holowell {\n",
       "    display: flex;\n",
       "    align-items: center;\n",
       "    margin: 0;\n",
       "}\n",
       "\n",
       "form.holoform {\n",
       "    background-color: #fafafa;\n",
       "    border-radius: 5px;\n",
       "    overflow: hidden;\n",
       "\tpadding-left: 0.8em;\n",
       "    padding-right: 0.8em;\n",
       "    padding-top: 0.4em;\n",
       "    padding-bottom: 0.4em;\n",
       "}\n",
       "\n",
       "div.holowidgets {\n",
       "    padding-right: 0;\n",
       "\twidth: 25%;\n",
       "}\n",
       "\n",
       "div.holoslider {\n",
       "    min-height: 0 !important;\n",
       "    height: 0.8em;\n",
       "    width: 60%;\n",
       "}\n",
       "\n",
       "div.holoformgroup {\n",
       "    padding-top: 0.5em;\n",
       "    margin-bottom: 0.5em;\n",
       "}\n",
       "\n",
       "div.hologroup {\n",
       "    padding-left: 0;\n",
       "    padding-right: 0.8em;\n",
       "    width: 50%;\n",
       "}\n",
       "\n",
       ".holoselect {\n",
       "    width: 92%;\n",
       "    margin-left: 0;\n",
       "    margin-right: 0;\n",
       "}\n",
       "\n",
       ".holotext {\n",
       "    width: 100%;\n",
       "    padding-left:  0.5em;\n",
       "    padding-right: 0;\n",
       "}\n",
       "\n",
       ".holowidgets .ui-resizable-se {\n",
       "\tvisibility: hidden\n",
       "}\n",
       "\n",
       ".holoframe > .ui-resizable-se {\n",
       "\tvisibility: hidden\n",
       "}\n",
       "\n",
       ".holowidgets .ui-resizable-s {\n",
       "\tvisibility: hidden\n",
       "}\n",
       "</style>\n",
       "\n",
       "\n",
       "<div>\n",
       "<img src='data:image/png;base64,iVBORw0KGgoAAAANSUhEUgAAABkAAAAZCAIAAABLixI0AAAACXBIWXMAAAsTAAALEwEAmpwYAAAAB3RJTUUH3wkCDDIOi3cusgAABT1JREFUOMtVlclvG2UYh3/fMovHe53FThySNHZomrRJl6QR0AJdpVblQBEHJC4ciipxAgmO3PgPEP8BQkIsRUJUSF1oqGih0JY2CtnjOLGz2Em8xPbMeL6Pw9RJOprLjPT+5tH7Pu83JE7pqeHh8wMD2evfyXMXf/nxB2FZo6dPNzVHvvr6GxMQeOEigARswNzzUgK6x8NagPzS0nqxODQ62nLn1xMnX99/eLC3sGVROj2/IBxHABKgANlzM4ACTuMRAOecNREiAWtzc0NIEu/M37zVMTWeqlrpUDg1M7NTVgdkowwvxqGRRV1CE8jOznq7uhYAi2CpXtdVVQE4QAAdCAAGwAAJyEa9Amh7PsAihBBAABrg1XUfpe3bxTXb8XR0WJa1VSzWGyAcUAEVoIAARIMOQH2HC4AA6lKW8/n9Pm/Ahl4zV8fGTg0PtzQ3K3tA3GId8AO+BqZLt8sFQKE0GouRSkWtFM63KV0Vy1rJhN44k56cFFI6exJ3MBWANACVHS63aw5QtutVVT/4xWfHv/0ylytmHvx56sIFLxACfIABGIAf8ANRn++9y5evXrkS0XWXd5dLJWRfOHwspA1tr4iFtP3gD8/apjCtSDiyQYhZKNA94wOQTCQPhfzm9FTJH8jn84Tz3SyPlEQ4vf0Dt5/MPE5vpVObzQbxqvaDdL731MnWnh5pmsxxdE3rTCZfO3u2FbL6+2+hzpcKwXA2ldrNUgAVII7TMXhkZnzcAQTgAWI6sgV7YmKivLra1tFxMJk4Ho/r5fLy3btsYS7JHL1YoeHQKldKhcLzLNcdlRDOWDgczuVyOtDt4yN9gRYVmc161TTLmYw9P9e8OHcU5dG2fa3EmhNyKjGwROmzZ8+YqlIAKsDd9jtOenIy1t8vgDJQtuvYrjRT0kMQBRIUQxqSXkSDUIO0YAulvdfxGk/u33eVZs2EeBvu6gCjtKW7Oz81xQBhI73mtATQn/BuZ6wTrezsYX+1Jn+aNR8sl9Zb47l4/O+HD2u27QDgnHUQwhvKuFmRaLS2tkZsmwJSQpqIUzHYyynndx5t/1Vy5gXyhMhorEJIKpViQB0QnFNlZzkbdExRhBAckIAFbFXFetkpg94er004WK6jCniamrRAYHlmxhXFtWTXVfW50SQYDjvVKm+YHVMR10G5VAGrcWAohkEVpbC1RRo7QN2mS0BzuQiJHziwMTurAwrgBTo95NVjnshb3XaF9q1MTM7VeWNv6kJQgAISYAAHuARUQAHA2NCZM35KJ27c6KA4YiBXJlpVro5bkaGN2mStsCy8gAXobpyU7iFhAgxQAB40jMHh4WhnJ6nVpsfGVjOZUQMhi40k9K1FqQZI4ogffd3k33GPobTb5kCIFmriEYjgnABao60KwD68eCnz5PH0vXsr4+OsVIpRvNmpnLvQEozRpm5vxAP107dx+RMlvGTcmw7Xle6DwZlsdbZY05qbAq2ta9msCkhAcM4+yv+3uFZWAA+gA5pEaUOUnpaMohb+/BK7+j76r4IliFoyAv9EjsZ4ZbMmyOKqmdvciiWTL4+OUsY8mkY554d7okGyciuHqgQFVIABlkJ9fV44FLFrz8ecuIZ3u6offzD1fSnFmJSgle35mzcdVQ1Eo23B4Eh7lJdWNgZGohM/r5QAjZEoaDzi0TfKPlFDV/KF35mqs0NN1v3iRrqqAT7Xbdti6UXPImKZaf5SQiUBtAIG0OVXXnmnDUJWb9nET7D8VPba7pAJTKRnxPUpI+v0BXlApZPrlgDaCTke1VqaaLZC/wesjSVVF5Ac7QAAAABJRU5ErkJggg=='\n",
       "     style='width:25px;height:25px; border-radius:12px;'/>\n",
       "\n",
       "\n",
       "</div>\n"
      ],
      "text/plain": [
       "<IPython.core.display.HTML object>"
      ]
     },
     "metadata": {},
     "output_type": "display_data"
    }
   ],
   "source": [
    "import holoviews as hv\n",
    "hv.notebook_extension()\n"
   ]
  },
  {
   "cell_type": "code",
   "execution_count": 3,
   "metadata": {
    "collapsed": true
   },
   "outputs": [],
   "source": [
    "BES_data_folder = \"../BES_analysis_data/\"\n",
    "BES_code_folder = \"../BES_analysis_code/\"\n",
    "BES_Panel = pd.read_stata(BES_data_folder+\"BES2015_W10_Panel_v0.3.dta\")"
   ]
  },
  {
   "cell_type": "code",
   "execution_count": 29,
   "metadata": {},
   "outputs": [
    {
     "name": "stderr",
     "output_type": "stream",
     "text": [
      "C:\\ANACON~1\\envs\\BES_analysis\\lib\\site-packages\\ipykernel\\__main__.py:3: SettingWithCopyWarning: \n",
      "A value is trying to be set on a copy of a slice from a DataFrame\n",
      "\n",
      "See the caveats in the documentation: http://pandas.pydata.org/pandas-docs/stable/indexing.html#indexing-view-versus-copy\n",
      "  app.launch_new_instance()\n",
      "C:\\ANACON~1\\envs\\BES_analysis\\lib\\site-packages\\ipykernel\\__main__.py:5: SettingWithCopyWarning: \n",
      "A value is trying to be set on a copy of a slice from a DataFrame\n",
      "\n",
      "See the caveats in the documentation: http://pandas.pydata.org/pandas-docs/stable/indexing.html#indexing-view-versus-copy\n",
      "C:\\ANACON~1\\envs\\BES_analysis\\lib\\site-packages\\ipykernel\\__main__.py:7: SettingWithCopyWarning: \n",
      "A value is trying to be set on a copy of a slice from a DataFrame\n",
      "\n",
      "See the caveats in the documentation: http://pandas.pydata.org/pandas-docs/stable/indexing.html#indexing-view-versus-copy\n",
      "C:\\ANACON~1\\envs\\BES_analysis\\lib\\site-packages\\ipykernel\\__main__.py:9: SettingWithCopyWarning: \n",
      "A value is trying to be set on a copy of a slice from a DataFrame\n",
      "\n",
      "See the caveats in the documentation: http://pandas.pydata.org/pandas-docs/stable/indexing.html#indexing-view-versus-copy\n"
     ]
    }
   ],
   "source": [
    "BES_Panel[\"new_eu_split\"] = BES_Panel['euRefVoteW10'].astype('object')\n",
    "BES_Panel[\"new_eu_split\"][ (BES_Panel['euRefDoOverW10']==\"Yes\")\n",
    "                         & (BES_Panel['euRefVoteW10']=='Stay/remain in the EU') ]  = \"Hard Remain\"\n",
    "BES_Panel[\"new_eu_split\"][ (BES_Panel['euRefDoOverW10']!=\"Yes\")\n",
    "                         & (BES_Panel['euRefVoteW10']=='Stay/remain in the EU') ]  = \"Re-Leave\"\n",
    "BES_Panel[\"new_eu_split\"][ (BES_Panel['euRefDoOverW10']==\"No\")\n",
    "                         & (BES_Panel['euRefVoteW10']=='Leave the EU') ]  = \"Hard Leave\"\n",
    "BES_Panel[\"new_eu_split\"][ (BES_Panel['euRefDoOverW10']!=\"No\")\n",
    "                         & (BES_Panel['euRefVoteW10']=='Leave the EU') ]  = \"Leave but favour sec. ref\"\n",
    "BES_Panel[\"new_eu_split\"] = BES_Panel[\"new_eu_split\"].astype('category')"
   ]
  },
  {
   "cell_type": "code",
   "execution_count": 28,
   "metadata": {},
   "outputs": [
    {
     "data": {
      "text/plain": [
       "Hard Leave                   12127\n",
       "Hard Remain                  10667\n",
       "Re-Leave                      4349\n",
       "Don't know                    1450\n",
       "I would/will not vote         1118\n",
       "Leave but favour sec. ref      351\n",
       "Leave the EU                   257\n",
       "Name: new_eu_split, dtype: int64"
      ]
     },
     "execution_count": 28,
     "metadata": {},
     "output_type": "execute_result"
    }
   ],
   "source": [
    "BES_Panel[\"new_eu_split\"].value_counts()"
   ]
  },
  {
   "cell_type": "code",
   "execution_count": 16,
   "metadata": {},
   "outputs": [],
   "source": [
    "crosstab = pd.crosstab(index   = BES_Panel[ 'euRefVoteW10' ],\n",
    "                       columns = BES_Panel[ 'euRefDoOverW10' ],\n",
    "                       values  = BES_Panel[ \"wt_full_W10\" ],\n",
    "                       aggfunc = sum,\n",
    "                       normalize=True)\n",
    "crosstab"
   ]
  },
  {
   "cell_type": "code",
   "execution_count": 17,
   "metadata": {},
   "outputs": [
    {
     "data": {
      "text/html": [
       "<div>\n",
       "<table border=\"1\" class=\"dataframe\">\n",
       "  <thead>\n",
       "    <tr style=\"text-align: right;\">\n",
       "      <th>euRefDoOverW10</th>\n",
       "      <th>No</th>\n",
       "      <th>Yes</th>\n",
       "      <th>Don't know</th>\n",
       "    </tr>\n",
       "    <tr>\n",
       "      <th>euRefVoteW10</th>\n",
       "      <th></th>\n",
       "      <th></th>\n",
       "      <th></th>\n",
       "    </tr>\n",
       "  </thead>\n",
       "  <tbody>\n",
       "    <tr>\n",
       "      <th>Stay/remain in the EU</th>\n",
       "      <td>0.092438</td>\n",
       "      <td>0.345167</td>\n",
       "      <td>0.048612</td>\n",
       "    </tr>\n",
       "    <tr>\n",
       "      <th>Leave the EU</th>\n",
       "      <td>0.402135</td>\n",
       "      <td>0.014854</td>\n",
       "      <td>0.010252</td>\n",
       "    </tr>\n",
       "    <tr>\n",
       "      <th>I would/will not vote</th>\n",
       "      <td>0.021888</td>\n",
       "      <td>0.004621</td>\n",
       "      <td>0.009942</td>\n",
       "    </tr>\n",
       "    <tr>\n",
       "      <th>Don't know</th>\n",
       "      <td>0.020790</td>\n",
       "      <td>0.007445</td>\n",
       "      <td>0.021855</td>\n",
       "    </tr>\n",
       "  </tbody>\n",
       "</table>\n",
       "</div>"
      ],
      "text/plain": [
       "euRefDoOverW10               No       Yes  Don't know\n",
       "euRefVoteW10                                         \n",
       "Stay/remain in the EU  0.092438  0.345167    0.048612\n",
       "Leave the EU           0.402135  0.014854    0.010252\n",
       "I would/will not vote  0.021888  0.004621    0.009942\n",
       "Don't know             0.020790  0.007445    0.021855"
      ]
     },
     "execution_count": 17,
     "metadata": {},
     "output_type": "execute_result"
    }
   ],
   "source": []
  },
  {
   "cell_type": "code",
   "execution_count": 22,
   "metadata": {},
   "outputs": [
    {
     "data": {
      "text/plain": [
       "The decision will be final            15760\n",
       "There might be a second referendum    11318\n",
       "Don't know                             6424\n",
       "Name: euRefFinalW8, dtype: int64"
      ]
     },
     "execution_count": 22,
     "metadata": {},
     "output_type": "execute_result"
    }
   ],
   "source": [
    "BES_Panel['euRefFinalW8'].value_counts()"
   ]
  },
  {
   "cell_type": "code",
   "execution_count": 30,
   "metadata": {},
   "outputs": [
    {
     "data": {
      "text/html": [
       "<div>\n",
       "<table border=\"1\" class=\"dataframe\">\n",
       "  <thead>\n",
       "    <tr style=\"text-align: right;\">\n",
       "      <th>euRefFinalW8</th>\n",
       "      <th>The decision will be final</th>\n",
       "      <th>There might be a second referendum</th>\n",
       "      <th>Don't know</th>\n",
       "    </tr>\n",
       "    <tr>\n",
       "      <th>euRefVoteW8</th>\n",
       "      <th></th>\n",
       "      <th></th>\n",
       "      <th></th>\n",
       "    </tr>\n",
       "  </thead>\n",
       "  <tbody>\n",
       "    <tr>\n",
       "      <th>Stay/remain in the EU</th>\n",
       "      <td>21.081095</td>\n",
       "      <td>15.017625</td>\n",
       "      <td>9.339418</td>\n",
       "    </tr>\n",
       "    <tr>\n",
       "      <th>Leave the EU</th>\n",
       "      <td>22.991982</td>\n",
       "      <td>17.076721</td>\n",
       "      <td>6.383714</td>\n",
       "    </tr>\n",
       "    <tr>\n",
       "      <th>I would/will not vote</th>\n",
       "      <td>0.202659</td>\n",
       "      <td>0.244076</td>\n",
       "      <td>1.076633</td>\n",
       "    </tr>\n",
       "    <tr>\n",
       "      <th>Don't know</th>\n",
       "      <td>1.969379</td>\n",
       "      <td>2.010493</td>\n",
       "      <td>2.606205</td>\n",
       "    </tr>\n",
       "  </tbody>\n",
       "</table>\n",
       "</div>"
      ],
      "text/plain": [
       "euRefFinalW8           The decision will be final  \\\n",
       "euRefVoteW8                                         \n",
       "Stay/remain in the EU                   21.081095   \n",
       "Leave the EU                            22.991982   \n",
       "I would/will not vote                    0.202659   \n",
       "Don't know                               1.969379   \n",
       "\n",
       "euRefFinalW8           There might be a second referendum  Don't know  \n",
       "euRefVoteW8                                                            \n",
       "Stay/remain in the EU                           15.017625    9.339418  \n",
       "Leave the EU                                    17.076721    6.383714  \n",
       "I would/will not vote                            0.244076    1.076633  \n",
       "Don't know                                       2.010493    2.606205  "
      ]
     },
     "execution_count": 30,
     "metadata": {},
     "output_type": "execute_result"
    }
   ],
   "source": [
    "crosstab = pd.crosstab(index   = BES_Panel[ 'euRefVoteW8' ],\n",
    "                       columns = BES_Panel[ 'euRefFinalW8' ],\n",
    "                       values  = BES_Panel[ \"wt_full_W8\" ],\n",
    "                       aggfunc = sum,\n",
    "                       normalize=True)\n",
    "100*crosstab"
   ]
  },
  {
   "cell_type": "code",
   "execution_count": 34,
   "metadata": {},
   "outputs": [],
   "source": [
    "BES_Remain = BES_Panel[ BES_Panel['euRefVoteW10']== 'Stay/remain in the EU' ]"
   ]
  },
  {
   "cell_type": "code",
   "execution_count": 46,
   "metadata": {},
   "outputs": [],
   "source": [
    "BES_W10_do_over = BES_Remain['euRefDoOverW10'].cat.reorder_categories(['No', 'Don\\'t know', 'Yes' ]).cat.codes\n",
    "\n",
    "BES_W10_do_over.replace(-1,np.nan,inplace=True)"
   ]
  },
  {
   "cell_type": "code",
   "execution_count": 45,
   "metadata": {},
   "outputs": [],
   "source": [
    "BES_W8_do_over = BES_Remain['euRefFinalW8'].cat.reorder_categories(['The decision will be final',\n",
    "                                                   'Don\\'t know',\n",
    "                                                   'There might be a second referendum']).cat.codes\n",
    "BES_W8_do_over.replace(-1,np.nan,inplace=True)"
   ]
  },
  {
   "cell_type": "code",
   "execution_count": 55,
   "metadata": {},
   "outputs": [
    {
     "data": {
      "text/plain": [
       "0.086376495043205895"
      ]
     },
     "execution_count": 55,
     "metadata": {},
     "output_type": "execute_result"
    }
   ],
   "source": [
    "non_nulls = BES_W8_do_over.notnull() & BES_W10_do_over.notnull()\n",
    "# nans\n",
    "BES_W10_do_over[non_nulls].corr(BES_W8_do_over)"
   ]
  },
  {
   "cell_type": "code",
   "execution_count": 51,
   "metadata": {},
   "outputs": [
    {
     "data": {
      "text/html": [
       "<div>\n",
       "<table border=\"1\" class=\"dataframe\">\n",
       "  <thead>\n",
       "    <tr style=\"text-align: right;\">\n",
       "      <th></th>\n",
       "      <th>euRefDoOverW10</th>\n",
       "      <th>euRefFinalW8</th>\n",
       "    </tr>\n",
       "  </thead>\n",
       "  <tbody>\n",
       "    <tr>\n",
       "      <th>6</th>\n",
       "      <td>Yes</td>\n",
       "      <td>There might be a second referendum</td>\n",
       "    </tr>\n",
       "    <tr>\n",
       "      <th>8</th>\n",
       "      <td>Yes</td>\n",
       "      <td>The decision will be final</td>\n",
       "    </tr>\n",
       "    <tr>\n",
       "      <th>17</th>\n",
       "      <td>Yes</td>\n",
       "      <td>There might be a second referendum</td>\n",
       "    </tr>\n",
       "    <tr>\n",
       "      <th>40</th>\n",
       "      <td>Yes</td>\n",
       "      <td>Don't know</td>\n",
       "    </tr>\n",
       "    <tr>\n",
       "      <th>45</th>\n",
       "      <td>Yes</td>\n",
       "      <td>There might be a second referendum</td>\n",
       "    </tr>\n",
       "    <tr>\n",
       "      <th>48</th>\n",
       "      <td>No</td>\n",
       "      <td>The decision will be final</td>\n",
       "    </tr>\n",
       "    <tr>\n",
       "      <th>55</th>\n",
       "      <td>Don't know</td>\n",
       "      <td>The decision will be final</td>\n",
       "    </tr>\n",
       "    <tr>\n",
       "      <th>56</th>\n",
       "      <td>Yes</td>\n",
       "      <td>The decision will be final</td>\n",
       "    </tr>\n",
       "    <tr>\n",
       "      <th>60</th>\n",
       "      <td>No</td>\n",
       "      <td>The decision will be final</td>\n",
       "    </tr>\n",
       "    <tr>\n",
       "      <th>62</th>\n",
       "      <td>Yes</td>\n",
       "      <td>The decision will be final</td>\n",
       "    </tr>\n",
       "    <tr>\n",
       "      <th>65</th>\n",
       "      <td>Yes</td>\n",
       "      <td>The decision will be final</td>\n",
       "    </tr>\n",
       "    <tr>\n",
       "      <th>76</th>\n",
       "      <td>Yes</td>\n",
       "      <td>NaN</td>\n",
       "    </tr>\n",
       "    <tr>\n",
       "      <th>77</th>\n",
       "      <td>Yes</td>\n",
       "      <td>There might be a second referendum</td>\n",
       "    </tr>\n",
       "    <tr>\n",
       "      <th>80</th>\n",
       "      <td>Yes</td>\n",
       "      <td>The decision will be final</td>\n",
       "    </tr>\n",
       "    <tr>\n",
       "      <th>93</th>\n",
       "      <td>No</td>\n",
       "      <td>The decision will be final</td>\n",
       "    </tr>\n",
       "    <tr>\n",
       "      <th>95</th>\n",
       "      <td>No</td>\n",
       "      <td>There might be a second referendum</td>\n",
       "    </tr>\n",
       "    <tr>\n",
       "      <th>100</th>\n",
       "      <td>Don't know</td>\n",
       "      <td>The decision will be final</td>\n",
       "    </tr>\n",
       "    <tr>\n",
       "      <th>103</th>\n",
       "      <td>Yes</td>\n",
       "      <td>NaN</td>\n",
       "    </tr>\n",
       "    <tr>\n",
       "      <th>107</th>\n",
       "      <td>Yes</td>\n",
       "      <td>Don't know</td>\n",
       "    </tr>\n",
       "    <tr>\n",
       "      <th>117</th>\n",
       "      <td>Yes</td>\n",
       "      <td>The decision will be final</td>\n",
       "    </tr>\n",
       "    <tr>\n",
       "      <th>118</th>\n",
       "      <td>Yes</td>\n",
       "      <td>Don't know</td>\n",
       "    </tr>\n",
       "    <tr>\n",
       "      <th>119</th>\n",
       "      <td>Yes</td>\n",
       "      <td>The decision will be final</td>\n",
       "    </tr>\n",
       "    <tr>\n",
       "      <th>120</th>\n",
       "      <td>Yes</td>\n",
       "      <td>Don't know</td>\n",
       "    </tr>\n",
       "    <tr>\n",
       "      <th>126</th>\n",
       "      <td>Yes</td>\n",
       "      <td>The decision will be final</td>\n",
       "    </tr>\n",
       "    <tr>\n",
       "      <th>127</th>\n",
       "      <td>Yes</td>\n",
       "      <td>There might be a second referendum</td>\n",
       "    </tr>\n",
       "    <tr>\n",
       "      <th>139</th>\n",
       "      <td>Don't know</td>\n",
       "      <td>The decision will be final</td>\n",
       "    </tr>\n",
       "    <tr>\n",
       "      <th>143</th>\n",
       "      <td>Yes</td>\n",
       "      <td>The decision will be final</td>\n",
       "    </tr>\n",
       "    <tr>\n",
       "      <th>145</th>\n",
       "      <td>Yes</td>\n",
       "      <td>There might be a second referendum</td>\n",
       "    </tr>\n",
       "    <tr>\n",
       "      <th>161</th>\n",
       "      <td>No</td>\n",
       "      <td>There might be a second referendum</td>\n",
       "    </tr>\n",
       "    <tr>\n",
       "      <th>164</th>\n",
       "      <td>No</td>\n",
       "      <td>The decision will be final</td>\n",
       "    </tr>\n",
       "    <tr>\n",
       "      <th>...</th>\n",
       "      <td>...</td>\n",
       "      <td>...</td>\n",
       "    </tr>\n",
       "    <tr>\n",
       "      <th>63758</th>\n",
       "      <td>Yes</td>\n",
       "      <td>NaN</td>\n",
       "    </tr>\n",
       "    <tr>\n",
       "      <th>63759</th>\n",
       "      <td>Yes</td>\n",
       "      <td>NaN</td>\n",
       "    </tr>\n",
       "    <tr>\n",
       "      <th>63760</th>\n",
       "      <td>Yes</td>\n",
       "      <td>NaN</td>\n",
       "    </tr>\n",
       "    <tr>\n",
       "      <th>63761</th>\n",
       "      <td>Yes</td>\n",
       "      <td>NaN</td>\n",
       "    </tr>\n",
       "    <tr>\n",
       "      <th>63764</th>\n",
       "      <td>No</td>\n",
       "      <td>NaN</td>\n",
       "    </tr>\n",
       "    <tr>\n",
       "      <th>63765</th>\n",
       "      <td>No</td>\n",
       "      <td>NaN</td>\n",
       "    </tr>\n",
       "    <tr>\n",
       "      <th>63766</th>\n",
       "      <td>Yes</td>\n",
       "      <td>NaN</td>\n",
       "    </tr>\n",
       "    <tr>\n",
       "      <th>63767</th>\n",
       "      <td>No</td>\n",
       "      <td>NaN</td>\n",
       "    </tr>\n",
       "    <tr>\n",
       "      <th>63768</th>\n",
       "      <td>Yes</td>\n",
       "      <td>NaN</td>\n",
       "    </tr>\n",
       "    <tr>\n",
       "      <th>63770</th>\n",
       "      <td>Yes</td>\n",
       "      <td>NaN</td>\n",
       "    </tr>\n",
       "    <tr>\n",
       "      <th>63771</th>\n",
       "      <td>Don't know</td>\n",
       "      <td>NaN</td>\n",
       "    </tr>\n",
       "    <tr>\n",
       "      <th>63773</th>\n",
       "      <td>Yes</td>\n",
       "      <td>NaN</td>\n",
       "    </tr>\n",
       "    <tr>\n",
       "      <th>63775</th>\n",
       "      <td>Yes</td>\n",
       "      <td>NaN</td>\n",
       "    </tr>\n",
       "    <tr>\n",
       "      <th>63776</th>\n",
       "      <td>No</td>\n",
       "      <td>NaN</td>\n",
       "    </tr>\n",
       "    <tr>\n",
       "      <th>63778</th>\n",
       "      <td>Don't know</td>\n",
       "      <td>NaN</td>\n",
       "    </tr>\n",
       "    <tr>\n",
       "      <th>63780</th>\n",
       "      <td>Yes</td>\n",
       "      <td>NaN</td>\n",
       "    </tr>\n",
       "    <tr>\n",
       "      <th>63781</th>\n",
       "      <td>Yes</td>\n",
       "      <td>NaN</td>\n",
       "    </tr>\n",
       "    <tr>\n",
       "      <th>63782</th>\n",
       "      <td>Yes</td>\n",
       "      <td>NaN</td>\n",
       "    </tr>\n",
       "    <tr>\n",
       "      <th>63783</th>\n",
       "      <td>Don't know</td>\n",
       "      <td>NaN</td>\n",
       "    </tr>\n",
       "    <tr>\n",
       "      <th>63784</th>\n",
       "      <td>Yes</td>\n",
       "      <td>NaN</td>\n",
       "    </tr>\n",
       "    <tr>\n",
       "      <th>63786</th>\n",
       "      <td>Yes</td>\n",
       "      <td>NaN</td>\n",
       "    </tr>\n",
       "    <tr>\n",
       "      <th>63787</th>\n",
       "      <td>No</td>\n",
       "      <td>NaN</td>\n",
       "    </tr>\n",
       "    <tr>\n",
       "      <th>63792</th>\n",
       "      <td>Yes</td>\n",
       "      <td>NaN</td>\n",
       "    </tr>\n",
       "    <tr>\n",
       "      <th>63794</th>\n",
       "      <td>Yes</td>\n",
       "      <td>NaN</td>\n",
       "    </tr>\n",
       "    <tr>\n",
       "      <th>63796</th>\n",
       "      <td>Don't know</td>\n",
       "      <td>NaN</td>\n",
       "    </tr>\n",
       "    <tr>\n",
       "      <th>63797</th>\n",
       "      <td>Yes</td>\n",
       "      <td>NaN</td>\n",
       "    </tr>\n",
       "    <tr>\n",
       "      <th>63798</th>\n",
       "      <td>Yes</td>\n",
       "      <td>NaN</td>\n",
       "    </tr>\n",
       "    <tr>\n",
       "      <th>63799</th>\n",
       "      <td>Yes</td>\n",
       "      <td>NaN</td>\n",
       "    </tr>\n",
       "    <tr>\n",
       "      <th>63802</th>\n",
       "      <td>Yes</td>\n",
       "      <td>NaN</td>\n",
       "    </tr>\n",
       "    <tr>\n",
       "      <th>63803</th>\n",
       "      <td>Yes</td>\n",
       "      <td>NaN</td>\n",
       "    </tr>\n",
       "  </tbody>\n",
       "</table>\n",
       "<p>15016 rows × 2 columns</p>\n",
       "</div>"
      ],
      "text/plain": [
       "      euRefDoOverW10                        euRefFinalW8\n",
       "6                Yes  There might be a second referendum\n",
       "8                Yes          The decision will be final\n",
       "17               Yes  There might be a second referendum\n",
       "40               Yes                          Don't know\n",
       "45               Yes  There might be a second referendum\n",
       "48                No          The decision will be final\n",
       "55        Don't know          The decision will be final\n",
       "56               Yes          The decision will be final\n",
       "60                No          The decision will be final\n",
       "62               Yes          The decision will be final\n",
       "65               Yes          The decision will be final\n",
       "76               Yes                                 NaN\n",
       "77               Yes  There might be a second referendum\n",
       "80               Yes          The decision will be final\n",
       "93                No          The decision will be final\n",
       "95                No  There might be a second referendum\n",
       "100       Don't know          The decision will be final\n",
       "103              Yes                                 NaN\n",
       "107              Yes                          Don't know\n",
       "117              Yes          The decision will be final\n",
       "118              Yes                          Don't know\n",
       "119              Yes          The decision will be final\n",
       "120              Yes                          Don't know\n",
       "126              Yes          The decision will be final\n",
       "127              Yes  There might be a second referendum\n",
       "139       Don't know          The decision will be final\n",
       "143              Yes          The decision will be final\n",
       "145              Yes  There might be a second referendum\n",
       "161               No  There might be a second referendum\n",
       "164               No          The decision will be final\n",
       "...              ...                                 ...\n",
       "63758            Yes                                 NaN\n",
       "63759            Yes                                 NaN\n",
       "63760            Yes                                 NaN\n",
       "63761            Yes                                 NaN\n",
       "63764             No                                 NaN\n",
       "63765             No                                 NaN\n",
       "63766            Yes                                 NaN\n",
       "63767             No                                 NaN\n",
       "63768            Yes                                 NaN\n",
       "63770            Yes                                 NaN\n",
       "63771     Don't know                                 NaN\n",
       "63773            Yes                                 NaN\n",
       "63775            Yes                                 NaN\n",
       "63776             No                                 NaN\n",
       "63778     Don't know                                 NaN\n",
       "63780            Yes                                 NaN\n",
       "63781            Yes                                 NaN\n",
       "63782            Yes                                 NaN\n",
       "63783     Don't know                                 NaN\n",
       "63784            Yes                                 NaN\n",
       "63786            Yes                                 NaN\n",
       "63787             No                                 NaN\n",
       "63792            Yes                                 NaN\n",
       "63794            Yes                                 NaN\n",
       "63796     Don't know                                 NaN\n",
       "63797            Yes                                 NaN\n",
       "63798            Yes                                 NaN\n",
       "63799            Yes                                 NaN\n",
       "63802            Yes                                 NaN\n",
       "63803            Yes                                 NaN\n",
       "\n",
       "[15016 rows x 2 columns]"
      ]
     },
     "execution_count": 51,
     "metadata": {},
     "output_type": "execute_result"
    }
   ],
   "source": [
    "BES_Remain[ [ 'euRefDoOverW10', 'euRefFinalW8' ]]"
   ]
  },
  {
   "cell_type": "code",
   "execution_count": null,
   "metadata": {
    "collapsed": true
   },
   "outputs": [],
   "source": [
    "# weird -> look correlations!"
   ]
  },
  {
   "cell_type": "code",
   "execution_count": 56,
   "metadata": {},
   "outputs": [
    {
     "name": "stdout",
     "output_type": "stream",
     "text": [
      "BES_numeric (31409, 659)\n"
     ]
    }
   ],
   "source": [
    "BES_numeric = pd.read_hdf( BES_data_folder+\"BESW8numeric.hdf\", \"BESW8numeric\" )\n",
    "print(\"BES_numeric\",  BES_numeric.shape )"
   ]
  },
  {
   "cell_type": "code",
   "execution_count": 57,
   "metadata": {},
   "outputs": [
    {
     "name": "stdout",
     "output_type": "stream",
     "text": [
      "cat_dictionary 650\n"
     ]
    }
   ],
   "source": [
    "fname = BES_data_folder+\"cat_dictionary\"+\".pkl\"\n",
    "with open(fname, \"rb\") as f:\n",
    "    cat_dictionary = pickle.load( f )\n",
    "print(\"cat_dictionary\", len( cat_dictionary ) )"
   ]
  },
  {
   "cell_type": "code",
   "execution_count": 58,
   "metadata": {},
   "outputs": [
    {
     "name": "stdout",
     "output_type": "stream",
     "text": [
      "BES_reduced_with_na (31409, 454)\n"
     ]
    }
   ],
   "source": [
    "BES_reduced_with_na = pd.read_hdf(BES_data_folder+\"BES_reduced_with_na.hdf\",\"BES_reduced_with_na\")\n",
    "print(\"BES_reduced_with_na\",  BES_reduced_with_na.shape )"
   ]
  },
  {
   "cell_type": "code",
   "execution_count": 76,
   "metadata": {},
   "outputs": [
    {
     "data": {
      "text/plain": [
       "(27075,)"
      ]
     },
     "execution_count": 76,
     "metadata": {},
     "output_type": "execute_result"
    }
   ],
   "source": [
    "BES_Panel[BES_Panel.wave8==1].country.dropna().shape"
   ]
  },
  {
   "cell_type": "code",
   "execution_count": 77,
   "metadata": {},
   "outputs": [
    {
     "data": {
      "text/plain": [
       "(25376,)"
      ]
     },
     "execution_count": 77,
     "metadata": {},
     "output_type": "execute_result"
    }
   ],
   "source": [
    "BES_numeric.country.dropna().shape"
   ]
  },
  {
   "cell_type": "code",
   "execution_count": null,
   "metadata": {
    "collapsed": true
   },
   "outputs": [],
   "source": []
  },
  {
   "cell_type": "code",
   "execution_count": null,
   "metadata": {
    "collapsed": true
   },
   "outputs": [],
   "source": []
  },
  {
   "cell_type": "code",
   "execution_count": null,
   "metadata": {
    "collapsed": true
   },
   "outputs": [],
   "source": []
  },
  {
   "cell_type": "code",
   "execution_count": 87,
   "metadata": {},
   "outputs": [
    {
     "data": {
      "text/plain": [
       "(4349, 4248)"
      ]
     },
     "execution_count": 87,
     "metadata": {},
     "output_type": "execute_result"
    }
   ],
   "source": [
    "BES_Panel[BES_Panel[\"new_eu_split\"]=='Re-Leave'].shape"
   ]
  },
  {
   "cell_type": "code",
   "execution_count": 95,
   "metadata": {},
   "outputs": [],
   "source": [
    "Re_leave_by_con = BES_Panel[BES_Panel[\"new_eu_split\"]=='Re-Leave'].pcon.replace(\"\",np.nan).value_counts()"
   ]
  },
  {
   "cell_type": "code",
   "execution_count": null,
   "metadata": {
    "collapsed": true
   },
   "outputs": [],
   "source": [
    "# 1089 - blank!\n",
    "# 3260 - not blank!"
   ]
  },
  {
   "cell_type": "code",
   "execution_count": 96,
   "metadata": {
    "collapsed": true
   },
   "outputs": [],
   "source": [
    "Not_Re_leave_by_con = BES_Panel[BES_Panel[\"new_eu_split\"]!='Re-Leave'].pcon.replace(\"\",np.nan).value_counts()"
   ]
  },
  {
   "cell_type": "code",
   "execution_count": 97,
   "metadata": {},
   "outputs": [
    {
     "data": {
      "text/plain": [
       "(626,)"
      ]
     },
     "execution_count": 97,
     "metadata": {},
     "output_type": "execute_result"
    }
   ],
   "source": [
    "Re_leave_by_con.shape"
   ]
  },
  {
   "cell_type": "code",
   "execution_count": 98,
   "metadata": {},
   "outputs": [
    {
     "data": {
      "text/plain": [
       "(634,)"
      ]
     },
     "execution_count": 98,
     "metadata": {},
     "output_type": "execute_result"
    }
   ],
   "source": [
    "Not_Re_leave_by_con.shape"
   ]
  },
  {
   "cell_type": "code",
   "execution_count": 110,
   "metadata": {},
   "outputs": [
    {
     "data": {
      "text/plain": [
       "{'Ratio': 0.053846153846153849, 'Seat': 'Edinburgh North and Leith'}"
      ]
     },
     "execution_count": 110,
     "metadata": {},
     "output_type": "execute_result"
    }
   ],
   "source": [
    "dict({\"Ratio\":rat,\"Seat\":con})"
   ]
  },
  {
   "cell_type": "code",
   "execution_count": 127,
   "metadata": {
    "collapsed": true
   },
   "outputs": [],
   "source": [
    "ratio_by_seat = pd.DataFrame(columns = [\"Ratio\",\"Seat\"])"
   ]
  },
  {
   "cell_type": "code",
   "execution_count": 129,
   "metadata": {},
   "outputs": [],
   "source": [
    "counter = 0\n",
    "for con in Not_Re_leave_by_con.index:\n",
    "    \n",
    "    if (con in Re_leave_by_con.index):\n",
    "        rat = Re_leave_by_con[con]/Not_Re_leave_by_con[con]\n",
    "    else:\n",
    "        rat = 0\n",
    "    ratio_by_seat.loc[counter] = [rat,con]\n",
    "    counter = counter + 1\n"
   ]
  },
  {
   "cell_type": "code",
   "execution_count": 133,
   "metadata": {},
   "outputs": [],
   "source": [
    "ratio_by_seat.Ratio = ratio_by_seat.Ratio / ratio_by_seat.Ratio.mean()"
   ]
  },
  {
   "cell_type": "code",
   "execution_count": 157,
   "metadata": {},
   "outputs": [
    {
     "data": {
      "text/plain": [
       "<matplotlib.axes._subplots.AxesSubplot at 0x1cef64e0>"
      ]
     },
     "execution_count": 157,
     "metadata": {},
     "output_type": "execute_result"
    },
    {
     "data": {
      "image/png": "[encoded data removed]",
      "text/plain": [
       "<matplotlib.figure.Figure at 0xb1404a8>"
      ]
     },
     "metadata": {},
     "output_type": "display_data"
    }
   ],
   "source": [
    "ratio_by_seat[\"Ratio\"].hist()\n"
   ]
  },
  {
   "cell_type": "code",
   "execution_count": 162,
   "metadata": {},
   "outputs": [
    {
     "data": {
      "text/plain": [
       "array([ 0.        ,  0.61128913,  0.84224666,  1.07994413,  1.38710369,\n",
       "        2.91584915])"
      ]
     },
     "execution_count": 162,
     "metadata": {},
     "output_type": "execute_result"
    }
   ],
   "source": [
    "ratio_by_seat[\"Ratio\"].quantile([0,.2,.4,.6,.8,1.0]).values"
   ]
  },
  {
   "cell_type": "code",
   "execution_count": 161,
   "metadata": {},
   "outputs": [],
   "source": [
    "import folium\n",
    "from IPython.display import HTML"
   ]
  },
  {
   "cell_type": "code",
   "execution_count": 167,
   "metadata": {},
   "outputs": [],
   "source": [
    "# map = folium.Map(location=[53, 0],zoom_start=6)\n",
    "# map.choropleth(geo_path='wpc.json', data=ratio_by_seat, columns=['Seat', 'Ratio'],\n",
    "#              key_on='feature.properties.PCON13NM',threshold_scale=[ 0.0        ,  0.6,  0.84,  1.08,  1.39,\n",
    "#         3.0],\n",
    "#              fill_color='OrRd')\n",
    "# map # embed_map(map)"
   ]
  },
  {
   "cell_type": "code",
   "execution_count": null,
   "metadata": {
    "collapsed": true
   },
   "outputs": [],
   "source": []
  },
  {
   "cell_type": "code",
   "execution_count": null,
   "metadata": {
    "collapsed": true
   },
   "outputs": [],
   "source": []
  },
  {
   "cell_type": "code",
   "execution_count": 164,
   "metadata": {},
   "outputs": [
    {
     "data": {
      "text/plain": [
       "['miiW1',\n",
       " 'miiW2',\n",
       " 'miiW3',\n",
       " 'miiW4',\n",
       " 'miiW5',\n",
       " 'miiW6',\n",
       " 'miiW7',\n",
       " 'miieuW7',\n",
       " 'miiW8',\n",
       " 'miieuW8',\n",
       " 'miiW9',\n",
       " 'miiW10',\n",
       " 'miilabelcertaintyW1',\n",
       " 'miilabelcertaintyW4',\n",
       " 'miilabelcertaintyW3',\n",
       " 'miilabelcertaintyW2',\n",
       " 'miilabelcertaintyW5',\n",
       " 'miilabelcertaintyW6',\n",
       " 'miilabelW1',\n",
       " 'miilabelW2',\n",
       " 'miilabelW3',\n",
       " 'miilabelW4',\n",
       " 'miilabelW5',\n",
       " 'miilabelW6']"
      ]
     },
     "execution_count": 164,
     "metadata": {},
     "output_type": "execute_result"
    }
   ],
   "source": [
    "[x for x in BES_Panel.columns if 'mii' in x]"
   ]
  },
  {
   "cell_type": "code",
   "execution_count": 165,
   "metadata": {},
   "outputs": [
    {
     "data": {
      "text/plain": [
       "0                    nhs\n",
       "1        economy general\n",
       "2             Don't know\n",
       "3                    NaN\n",
       "4                    NaN\n",
       "5                    NaN\n",
       "6              terrorism\n",
       "7               taxation\n",
       "8           unemployment\n",
       "9        economy general\n",
       "10       economy general\n",
       "11                   NaN\n",
       "12                   NaN\n",
       "13       economy general\n",
       "14       economy general\n",
       "15             education\n",
       "16       economy general\n",
       "17                   NaN\n",
       "18                   NaN\n",
       "19                   NaN\n",
       "20                   NaN\n",
       "21                   NaN\n",
       "22                europe\n",
       "23       economy general\n",
       "24                   NaN\n",
       "25                   NaN\n",
       "26           immigration\n",
       "27           immigration\n",
       "28       economy general\n",
       "29           immigration\n",
       "              ...       \n",
       "64659                NaN\n",
       "64660                NaN\n",
       "64661                NaN\n",
       "64662                NaN\n",
       "64663                NaN\n",
       "64664                NaN\n",
       "64665                NaN\n",
       "64666                NaN\n",
       "64667                NaN\n",
       "64668                NaN\n",
       "64669                NaN\n",
       "64670                NaN\n",
       "64671                NaN\n",
       "64672                NaN\n",
       "64673                NaN\n",
       "64674                NaN\n",
       "64675                NaN\n",
       "64676                NaN\n",
       "64677                NaN\n",
       "64678                NaN\n",
       "64679                NaN\n",
       "64680                NaN\n",
       "64681                NaN\n",
       "64682                NaN\n",
       "64683                NaN\n",
       "64684                NaN\n",
       "64685                NaN\n",
       "64686                NaN\n",
       "64687                NaN\n",
       "64688                NaN\n",
       "Name: miilabelW5, dtype: category\n",
       "Categories (32, object): [No problem < unemployment < nhs < immigration ... flooding < iraq war < constitutional < Don't know]"
      ]
     },
     "execution_count": 165,
     "metadata": {},
     "output_type": "execute_result"
    }
   ],
   "source": [
    "BES_Panel['miilabelW5']"
   ]
  },
  {
   "cell_type": "code",
   "execution_count": 170,
   "metadata": {},
   "outputs": [],
   "source": [
    "Re_leave_by_gor = BES_Panel[BES_Panel[\"new_eu_split\"]=='Re-Leave'].gor.replace(\"\",np.nan).value_counts()"
   ]
  },
  {
   "cell_type": "code",
   "execution_count": 183,
   "metadata": {},
   "outputs": [
    {
     "data": {
      "text/plain": [
       "Scotland                    503\n",
       "South East                  363\n",
       "London                      349\n",
       "North West                  250\n",
       "Wales                       218\n",
       "Yorkshire and the Humber    215\n",
       "East of England             210\n",
       "South West                  207\n",
       "East Midlands               183\n",
       "West Midlands               179\n",
       "North East                  104\n",
       "Northern Ireland              0\n",
       "Name: gor, dtype: int64"
      ]
     },
     "execution_count": 183,
     "metadata": {},
     "output_type": "execute_result"
    }
   ],
   "source": [
    "Re_leave_by_gor"
   ]
  },
  {
   "cell_type": "code",
   "execution_count": 173,
   "metadata": {
    "collapsed": true
   },
   "outputs": [],
   "source": [
    "Not_Re_leave_by_gor = BES_Panel[BES_Panel[\"new_eu_split\"]!='Re-Leave'].gor.replace(\"\",np.nan).value_counts()"
   ]
  },
  {
   "cell_type": "code",
   "execution_count": 180,
   "metadata": {},
   "outputs": [
    {
     "data": {
      "text/plain": [
       "Scotland                    7787\n",
       "London                      5904\n",
       "South East                  5749\n",
       "Wales                       4499\n",
       "North West                  4307\n",
       "East of England             3946\n",
       "Yorkshire and the Humber    3556\n",
       "South West                  3548\n",
       "West Midlands               3273\n",
       "East Midlands               2998\n",
       "North East                  1832\n",
       "Name: gor, dtype: int64"
      ]
     },
     "execution_count": 180,
     "metadata": {},
     "output_type": "execute_result"
    }
   ],
   "source": [
    "Not_Re_leave_by_gor.drop(\"Northern Ireland\")"
   ]
  },
  {
   "cell_type": "code",
   "execution_count": 181,
   "metadata": {},
   "outputs": [
    {
     "data": {
      "text/html": [
       "<div>\n",
       "<table border=\"1\" class=\"dataframe\">\n",
       "  <thead>\n",
       "    <tr style=\"text-align: right;\">\n",
       "      <th></th>\n",
       "      <th>0</th>\n",
       "    </tr>\n",
       "  </thead>\n",
       "  <tbody>\n",
       "    <tr>\n",
       "      <th>Scotland</th>\n",
       "      <td>1.115035</td>\n",
       "    </tr>\n",
       "    <tr>\n",
       "      <th>London</th>\n",
       "      <td>1.061331</td>\n",
       "    </tr>\n",
       "    <tr>\n",
       "      <th>South East</th>\n",
       "      <td>1.047910</td>\n",
       "    </tr>\n",
       "    <tr>\n",
       "      <th>Wales</th>\n",
       "      <td>0.959212</td>\n",
       "    </tr>\n",
       "    <tr>\n",
       "      <th>North West</th>\n",
       "      <td>0.873720</td>\n",
       "    </tr>\n",
       "    <tr>\n",
       "      <th>East of England</th>\n",
       "      <td>0.940529</td>\n",
       "    </tr>\n",
       "    <tr>\n",
       "      <th>Yorkshire and the Humber</th>\n",
       "      <td>1.019409</td>\n",
       "    </tr>\n",
       "    <tr>\n",
       "      <th>South West</th>\n",
       "      <td>1.007111</td>\n",
       "    </tr>\n",
       "    <tr>\n",
       "      <th>West Midlands</th>\n",
       "      <td>0.965152</td>\n",
       "    </tr>\n",
       "    <tr>\n",
       "      <th>East Midlands</th>\n",
       "      <td>1.030652</td>\n",
       "    </tr>\n",
       "    <tr>\n",
       "      <th>North East</th>\n",
       "      <td>0.979938</td>\n",
       "    </tr>\n",
       "  </tbody>\n",
       "</table>\n",
       "</div>"
      ],
      "text/plain": [
       "                                 0\n",
       "Scotland                  1.115035\n",
       "London                    1.061331\n",
       "South East                1.047910\n",
       "Wales                     0.959212\n",
       "North West                0.873720\n",
       "East of England           0.940529\n",
       "Yorkshire and the Humber  1.019409\n",
       "South West                1.007111\n",
       "West Midlands             0.965152\n",
       "East Midlands             1.030652\n",
       "North East                0.979938"
      ]
     },
     "execution_count": 181,
     "metadata": {},
     "output_type": "execute_result"
    }
   ],
   "source": [
    "ratio = Re_leave_by_gor.drop(\"Northern Ireland\").values/Not_Re_leave_by_gor.drop(\"Northern Ireland\").values\n",
    "ratio = ratio/ratio.mean()\n",
    "pd.DataFrame(index = Not_Re_leave_by_gor.drop(\"Northern Ireland\").index,data=ratio)"
   ]
  },
  {
   "cell_type": "code",
   "execution_count": 191,
   "metadata": {},
   "outputs": [
    {
     "data": {
      "text/html": [
       "<div>\n",
       "<table border=\"1\" class=\"dataframe\">\n",
       "  <thead>\n",
       "    <tr style=\"text-align: right;\">\n",
       "      <th></th>\n",
       "      <th>Re_Leave/HardRemain by region</th>\n",
       "    </tr>\n",
       "  </thead>\n",
       "  <tbody>\n",
       "    <tr>\n",
       "      <th>Scotland</th>\n",
       "      <td>0.954035</td>\n",
       "    </tr>\n",
       "    <tr>\n",
       "      <th>London</th>\n",
       "      <td>0.924960</td>\n",
       "    </tr>\n",
       "    <tr>\n",
       "      <th>South East</th>\n",
       "      <td>1.049631</td>\n",
       "    </tr>\n",
       "    <tr>\n",
       "      <th>North West</th>\n",
       "      <td>0.934775</td>\n",
       "    </tr>\n",
       "    <tr>\n",
       "      <th>Wales</th>\n",
       "      <td>0.851683</td>\n",
       "    </tr>\n",
       "    <tr>\n",
       "      <th>Yorkshire and the Humber</th>\n",
       "      <td>0.966840</td>\n",
       "    </tr>\n",
       "    <tr>\n",
       "      <th>South West</th>\n",
       "      <td>1.037601</td>\n",
       "    </tr>\n",
       "    <tr>\n",
       "      <th>East of England</th>\n",
       "      <td>1.035834</td>\n",
       "    </tr>\n",
       "    <tr>\n",
       "      <th>West Midlands</th>\n",
       "      <td>1.039606</td>\n",
       "    </tr>\n",
       "    <tr>\n",
       "      <th>East Midlands</th>\n",
       "      <td>1.159750</td>\n",
       "    </tr>\n",
       "    <tr>\n",
       "      <th>North East</th>\n",
       "      <td>1.045287</td>\n",
       "    </tr>\n",
       "  </tbody>\n",
       "</table>\n",
       "</div>"
      ],
      "text/plain": [
       "                          Re_Leave/HardRemain by region\n",
       "Scotland                                       0.954035\n",
       "London                                         0.924960\n",
       "South East                                     1.049631\n",
       "North West                                     0.934775\n",
       "Wales                                          0.851683\n",
       "Yorkshire and the Humber                       0.966840\n",
       "South West                                     1.037601\n",
       "East of England                                1.035834\n",
       "West Midlands                                  1.039606\n",
       "East Midlands                                  1.159750\n",
       "North East                                     1.045287"
      ]
     },
     "execution_count": 191,
     "metadata": {},
     "output_type": "execute_result"
    }
   ],
   "source": [
    "Hard_Remain_by_gor = BES_Panel[BES_Panel[\"new_eu_split\"]=='Hard Remain'].gor.replace(\"\",np.nan).value_counts()\n",
    "\n",
    "ratio = Re_leave_by_gor.drop(\"Northern Ireland\").values/Hard_Remain_by_gor.drop(\"Northern Ireland\").values\n",
    "ratio = ratio/ratio.mean()\n",
    "pd.DataFrame(index = Hard_Remain_by_gor.drop(\"Northern Ireland\").index,columns = [\"Re_Leave/HardRemain by region\"],data=ratio)"
   ]
  },
  {
   "cell_type": "code",
   "execution_count": null,
   "metadata": {
    "collapsed": true
   },
   "outputs": [],
   "source": []
  },
  {
   "cell_type": "code",
   "execution_count": 187,
   "metadata": {},
   "outputs": [
    {
     "data": {
      "text/plain": [
       "Hard Leave                   12127\n",
       "Hard Remain                  10667\n",
       "Re-Leave                      4349\n",
       "Don't know                    1450\n",
       "I would/will not vote         1118\n",
       "Leave but favour sec. ref      608\n",
       "Name: new_eu_split, dtype: int64"
      ]
     },
     "execution_count": 187,
     "metadata": {},
     "output_type": "execute_result"
    }
   ],
   "source": [
    "BES_Panel[\"new_eu_split\"].value_counts()"
   ]
  },
  {
   "cell_type": "code",
   "execution_count": 192,
   "metadata": {},
   "outputs": [
    {
     "data": {
      "text/plain": [
       "                                             1089\n",
       "Edinburgh West                                 17\n",
       "Argyll and Bute                                17\n",
       "Edinburgh East                                 17\n",
       "Berwickshire, Roxburgh and Selkirk             17\n",
       "Dumfries and Galloway                          16\n",
       "Chipping Barnet                                15\n",
       "Edinburgh South West                           15\n",
       "Edinburgh North and Leith                      14\n",
       "North Ayrshire and Arran                       14\n",
       "Gordon                                         14\n",
       "Ross, Skye and Lochaber                        13\n",
       "Paisley and Renfrewshire South                 13\n",
       "Kirkcaldy and Cowdenbeath                      13\n",
       "Falkirk                                        13\n",
       "Perth and North Perthshire                     12\n",
       "Glenrothes                                     12\n",
       "Warwick and Leamington                         12\n",
       "Streatham                                      12\n",
       "Inverness, Nairn, Badenoch and Strathspey      11\n",
       "Cardiff South and Penarth                      11\n",
       "Hertsmere                                      11\n",
       "Moray                                          11\n",
       "Wealden                                        11\n",
       "Taunton Deane                                  11\n",
       "Glasgow North West                             11\n",
       "Angus                                          11\n",
       "Holborn and St Pancras                         11\n",
       "South Leicestershire                           11\n",
       "Rutherglen and Hamilton West                   11\n",
       "                                             ... \n",
       "Wolverhampton North East                        1\n",
       "Wolverhampton South West                        1\n",
       "Newcastle upon Tyne Central                     1\n",
       "Luton North                                     1\n",
       "Keighley                                        1\n",
       "Cynon Valley                                    1\n",
       "Coventry South                                  1\n",
       "North Thanet                                    1\n",
       "Camberwell and Peckham                          1\n",
       "Shrewsbury and Atcham                           1\n",
       "Bury North                                      1\n",
       "Arfon                                           1\n",
       "Chelsea and Fulham                              1\n",
       "Stockton North                                  1\n",
       "Glasgow East                                    1\n",
       "Christchurch                                    1\n",
       "Luton South                                     1\n",
       "North Cornwall                                  1\n",
       "Ludlow                                          1\n",
       "Birmingham, Hodge Hill                          1\n",
       "Sefton Central                                  1\n",
       "Walsall South                                   1\n",
       "Old Bexley and Sidcup                           1\n",
       "Staffordshire Moorlands                         1\n",
       "Poole                                           1\n",
       "Stoke-on-Trent Central                          1\n",
       "Bury St Edmunds                                 1\n",
       "Hayes and Harlington                            1\n",
       "Bradford South                                  1\n",
       "Blackburn                                       1\n",
       "Name: pcon, dtype: int64"
      ]
     },
     "execution_count": 192,
     "metadata": {},
     "output_type": "execute_result"
    }
   ],
   "source": [
    "BES_Panel[BES_Panel[\"new_eu_split\"]=='Re-Leave'].pcon.value_counts()"
   ]
  },
  {
   "cell_type": "code",
   "execution_count": null,
   "metadata": {
    "collapsed": true
   },
   "outputs": [],
   "source": []
  },
  {
   "cell_type": "code",
   "execution_count": null,
   "metadata": {
    "collapsed": true
   },
   "outputs": [],
   "source": []
  },
  {
   "cell_type": "code",
   "execution_count": null,
   "metadata": {
    "collapsed": true
   },
   "outputs": [],
   "source": []
  },
  {
   "cell_type": "code",
   "execution_count": null,
   "metadata": {
    "collapsed": true
   },
   "outputs": [],
   "source": []
  },
  {
   "cell_type": "code",
   "execution_count": null,
   "metadata": {
    "collapsed": true
   },
   "outputs": [],
   "source": []
  },
  {
   "cell_type": "code",
   "execution_count": null,
   "metadata": {
    "collapsed": true
   },
   "outputs": [],
   "source": []
  },
  {
   "cell_type": "code",
   "execution_count": null,
   "metadata": {
    "collapsed": true
   },
   "outputs": [],
   "source": []
  },
  {
   "cell_type": "code",
   "execution_count": null,
   "metadata": {
    "collapsed": true
   },
   "outputs": [],
   "source": [
    "#### MOST IMPORTANT ISSUES BY CAMPAIGN DAY ####"
   ]
  },
  {
   "cell_type": "code",
   "execution_count": null,
   "metadata": {
    "collapsed": true
   },
   "outputs": [],
   "source": [
    "BESCampaignDayW5"
   ]
  },
  {
   "cell_type": "code",
   "execution_count": null,
   "metadata": {
    "collapsed": true
   },
   "outputs": [],
   "source": []
  },
  {
   "cell_type": "code",
   "execution_count": null,
   "metadata": {
    "collapsed": true
   },
   "outputs": [],
   "source": []
  },
  {
   "cell_type": "code",
   "execution_count": null,
   "metadata": {
    "collapsed": true
   },
   "outputs": [],
   "source": []
  },
  {
   "cell_type": "code",
   "execution_count": null,
   "metadata": {
    "collapsed": true
   },
   "outputs": [],
   "source": []
  },
  {
   "cell_type": "code",
   "execution_count": null,
   "metadata": {
    "collapsed": true
   },
   "outputs": [],
   "source": []
  },
  {
   "cell_type": "code",
   "execution_count": null,
   "metadata": {
    "collapsed": true
   },
   "outputs": [],
   "source": []
  }
 ],
 "metadata": {
  "kernelspec": {
   "display_name": "Python [conda env:BES_analysis]",
   "language": "python",
   "name": "conda-env-BES_analysis-py"
  },
  "language_info": {
   "codemirror_mode": {
    "name": "ipython",
    "version": 3
   },
   "file_extension": ".py",
   "mimetype": "text/x-python",
   "name": "python",
   "nbconvert_exporter": "python",
   "pygments_lexer": "ipython3",
   "version": "3.5.2"
  }
 },
 "nbformat": 4,
 "nbformat_minor": 2
}
