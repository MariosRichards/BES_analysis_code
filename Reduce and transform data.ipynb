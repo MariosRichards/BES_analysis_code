{
 "cells": [
  {
   "cell_type": "code",
   "execution_count": 61,
   "metadata": {
    "collapsed": true
   },
   "outputs": [],
   "source": [
    "# Drop variables that don't seem to be contributing much of have problems\n",
    "# (Wave 9 variables, high (anti-/)correlation variables, mostly not filled out, very low variance, too many categories)\n",
    "# Transform variables (making some more easily readable\n",
    "# and dummying non-ordinal categorical variables to create lots of new variables)\n",
    "# rechecking if those new variables suffer from excessive levels of correlation\n",
    "\n",
    "# Output: \n",
    "# BES_reduced - imputed dataset post-transformation\n",
    "# BES_reduced_with_na - non-imputed dataset post-transformation\n"
   ]
  },
  {
   "cell_type": "code",
   "execution_count": 1,
   "metadata": {},
   "outputs": [],
   "source": [
    "import numpy as np\n",
    "import pandas as pd\n",
    "%matplotlib inline\n",
    "import matplotlib.pyplot as plt\n",
    "import gc\n",
    "import re\n",
    "\n",
    "from sklearn import datasets\n",
    "from sklearn.decomposition import PCA\n",
    "from sklearn.discriminant_analysis import LinearDiscriminantAnalysis\n",
    "from itertools import cycle\n",
    "from IPython.display import display\n",
    "import pickle, os\n",
    "\n",
    "import seaborn as sns\n",
    "\n",
    "BES_data_folder = \"../BES_analysis_data/\"\n",
    "BES_code_folder = \"../BES_analysis_code/\"\n",
    "\n",
    "# from fancyimpute import BiScaler, KNN, NuclearNormMinimization, SoftImpute, MICE"
   ]
  },
  {
   "cell_type": "code",
   "execution_count": 2,
   "metadata": {},
   "outputs": [
    {
     "name": "stdout",
     "output_type": "stream",
     "text": [
      "BES_Panel (30319, 393)\n",
      "BES_numeric (30319, 374)\n",
      "var_type (393, 1)\n",
      "Wall time: 4.07 s\n"
     ]
    }
   ],
   "source": [
    "%%time\n",
    "# BES_Panel   = pd.read_stata( BES_data_folder+\"BES2015_W8_v1.3.dta\") # 130Mb\n",
    "# print(\"BES_Panel\", BES_Panel.shape )\n",
    "BES_Panel   = pd.read_stata( BES_data_folder+\"BES2015_W10_v0.3.dta\") # 130Mb\n",
    "print(\"BES_Panel\", BES_Panel.shape )\n",
    "\n",
    "wave = \"W10_only\"\n",
    "\n",
    "BES_numeric = pd.read_hdf( BES_data_folder+\"BESnumeric\"+wave+\".hdf\", \"BESnumeric\"+wave )\n",
    "print(\"BES_numeric\",  BES_numeric.shape )\n",
    "var_type    = pd.read_hdf( BES_data_folder+\"var_type\"+wave+\".hdf\", \"var_type\" )\n",
    "print(\"var_type\",  var_type.shape )"
   ]
  },
  {
   "cell_type": "code",
   "execution_count": 3,
   "metadata": {
    "collapsed": true
   },
   "outputs": [],
   "source": [
    "fname = BES_data_folder+\"cat_dictionary\"+wave+\".pkl\"\n",
    "with open(fname, \"rb\") as f:\n",
    "    cat_dictionary = pickle.load( f )"
   ]
  },
  {
   "cell_type": "code",
   "execution_count": 4,
   "metadata": {},
   "outputs": [
    {
     "name": "stdout",
     "output_type": "stream",
     "text": [
      "BES_imputed (30319, 374)\n"
     ]
    }
   ],
   "source": [
    "imputation_method = \"mice\" # \"mice\", \"softimpute\", \"median\", ???\n",
    "imputed_file_name = \"BES\" + imputation_method + wave\n",
    "\n",
    "imputation_method = \"median\" # \"mice\", \"softimpute\", \"median\", ???\n",
    "imputed_file_name = \"BES\" + imputation_method + wave\n",
    "\n",
    "BES_imputed = pd.read_hdf( BES_data_folder + imputed_file_name  + \".hdf\", imputed_file_name )\n",
    "print(\"BES_imputed\",  BES_imputed.shape )"
   ]
  },
  {
   "cell_type": "code",
   "execution_count": 5,
   "metadata": {},
   "outputs": [
    {
     "name": "stdout",
     "output_type": "stream",
     "text": [
      "respondents not from England:  15148\n",
      "respondents not Remain/Leave:  2568\n"
     ]
    }
   ],
   "source": [
    "England_inds = BES_Panel[BES_Panel[\"country\"]==\"England\"].index\n",
    "print ( \"respondents not from England: \", len(BES_Panel) - len(England_inds) )\n",
    "Remain_inds  = BES_Panel[ BES_Panel[\"euRefVote\"].cat.codes==0 ].index\n",
    "Leave_inds   = BES_Panel[ BES_Panel[\"euRefVote\"].cat.codes==1 ].index\n",
    "Notvoters_inds  = BES_Panel[ BES_Panel[\"euRefVote\"].cat.codes==2 ].index\n",
    "Dontknow_inds   = BES_Panel[ BES_Panel[\"euRefVote\"].cat.codes==3 ].index\n",
    "print ( \"respondents not Remain/Leave: \", len(BES_Panel) - len(Remain_inds) - len(Leave_inds) )\n",
    "Leave_Remain_inds = pd.Index( np.concatenate( (Leave_inds, Remain_inds), axis=0 ) )\n",
    "EngRemLea_inds = pd.Index( np.intersect1d( England_inds, Leave_Remain_inds ) )"
   ]
  },
  {
   "cell_type": "code",
   "execution_count": 67,
   "metadata": {},
   "outputs": [],
   "source": [
    "# W9_vars = pd.Index([x for x in BES_numeric.columns if \"W9\" in x])\n",
    "# print ( \"W9 columns: \", W9_vars )"
   ]
  },
  {
   "cell_type": "code",
   "execution_count": 6,
   "metadata": {
    "collapsed": true
   },
   "outputs": [],
   "source": [
    "W9_vars = []"
   ]
  },
  {
   "cell_type": "code",
   "execution_count": 7,
   "metadata": {},
   "outputs": [
    {
     "name": "stdout",
     "output_type": "stream",
     "text": [
      "many_cat_drop_list ['profile_lea', 'profile_oslaua', 'pano']\n"
     ]
    }
   ],
   "source": [
    "opts_per_cat = BES_numeric.apply(lambda x: len(pd.unique(x.dropna()))).sort_values()\n",
    "many_cat_drop_list = opts_per_cat[opts_per_cat>30].index\n",
    "# added to make sure we're only dropping *categorical* variables with lots of categories!\n",
    "many_cat_drop_list = [x for x in var_type.loc[many_cat_drop_list].index\n",
    "                      if var_type.loc[many_cat_drop_list].loc[x][\"type\"] in [3,7]]\n",
    "print(\"many_cat_drop_list\", many_cat_drop_list )"
   ]
  },
  {
   "cell_type": "code",
   "execution_count": null,
   "metadata": {},
   "outputs": [],
   "source": []
  },
  {
   "cell_type": "code",
   "execution_count": null,
   "metadata": {},
   "outputs": [],
   "source": []
  },
  {
   "cell_type": "code",
   "execution_count": null,
   "metadata": {
    "collapsed": true
   },
   "outputs": [],
   "source": []
  },
  {
   "cell_type": "code",
   "execution_count": 17,
   "metadata": {
    "collapsed": true
   },
   "outputs": [],
   "source": [
    "# %%time\n",
    "# counts = BES_numerics_only[BES_num_and_cat[\"wave9\"]==1 ].count()\n",
    "# counts_by_individuals = BES_numerics_only[BES_num_and_cat[\"wave9\"]==1 ].count(axis=1) # lets see\n",
    "# f, axarr = plt.subplots( 2 ,figsize=(5, 5) )\n",
    "# axarr[0].hist(counts,bins=50)\n",
    "# axarr[1].hist(counts_by_individuals,bins=50)"
   ]
  },
  {
   "cell_type": "code",
   "execution_count": 18,
   "metadata": {
    "collapsed": true
   },
   "outputs": [],
   "source": [
    "# drop people who are coverage outliers\n",
    "# say top and bottom 5%\n",
    "# BES_red = BES_numerics_only.loc[BES_reduced[\"wave9\"]==1 ].copy()"
   ]
  },
  {
   "cell_type": "code",
   "execution_count": 19,
   "metadata": {
    "collapsed": true
   },
   "outputs": [],
   "source": [
    "# thresh = .00\n",
    "# BES_red = BES_numeric.copy()\n",
    "# BES_red[\"coverage\"] = BES_numeric.count(axis=1)/BES_numeric.shape[1]\n",
    "\n",
    "# outlier_people = BES_red[( BES_red[\"coverage\"]>BES_red[\"coverage\"].quantile(1-thresh) ) | \n",
    "#                          ( BES_red[\"coverage\"]<BES_red[\"coverage\"].quantile(  thresh) ) ].index\n",
    "# inlier_people  = BES_red[( BES_red[\"coverage\"]<BES_red[\"coverage\"].quantile(1-thresh) ) & \n",
    "#                          ( BES_red[\"coverage\"]>BES_red[\"coverage\"].quantile(  thresh) ) ].index"
   ]
  },
  {
   "cell_type": "code",
   "execution_count": 8,
   "metadata": {},
   "outputs": [
    {
     "name": "stdout",
     "output_type": "stream",
     "text": [
      "Wall time: 288 ms\n"
     ]
    },
    {
     "data": {
      "image/png": "[encoded data removed]",
      "text/plain": [
       "<matplotlib.figure.Figure at 0xad28fd0>"
      ]
     },
     "metadata": {},
     "output_type": "display_data"
    }
   ],
   "source": [
    "%%time\n",
    "# columns histogrammed by %non-missing values\n",
    "# rows histogrammed by %non-missing values\n",
    "\n",
    "counts = BES_numeric.count()/BES_numeric.shape[0]\n",
    "counts_by_individuals = BES_numeric.count(axis=1)/BES_numeric.shape[1] # lets see\n",
    "f, axarr = plt.subplots( 2 ,figsize=(5, 5) )\n",
    "ax = axarr[0].hist(counts,bins=50)\n",
    "ax = axarr[1].hist(counts_by_individuals,bins=50)"
   ]
  },
  {
   "cell_type": "code",
   "execution_count": 9,
   "metadata": {
    "collapsed": true
   },
   "outputs": [],
   "source": [
    "# In theory, this is picked on the basis of looking at the above two diagrams (really, the top one!)\n",
    "# thresh = 0.33\n",
    "thresh = 0.33\n",
    "\n",
    "mostly_not_filled_out = counts[counts<= (counts.max()*thresh)].index\n",
    "mostly_filled_out     = counts[counts>  (counts.max()*thresh)].index"
   ]
  },
  {
   "cell_type": "code",
   "execution_count": 10,
   "metadata": {},
   "outputs": [
    {
     "name": "stdout",
     "output_type": "stream",
     "text": [
      "(30319, 247)\n",
      "0.16559290662727624\n"
     ]
    }
   ],
   "source": [
    "\n",
    "print(BES_numeric[mostly_filled_out].shape)\n",
    "missing_fraction = BES_numeric[mostly_filled_out].isnull().sum().sum() / \\\n",
    "    (BES_numeric[mostly_filled_out].shape[0]*BES_numeric[mostly_filled_out].shape[1])\n",
    "print(missing_fraction)"
   ]
  },
  {
   "cell_type": "code",
   "execution_count": 11,
   "metadata": {},
   "outputs": [
    {
     "name": "stdout",
     "output_type": "stream",
     "text": [
      "Wall time: 1min 56s\n"
     ]
    },
    {
     "data": {
      "image/png": "[encoded data removed]",
      "text/plain": [
       "<matplotlib.figure.Figure at 0xc4b6a20>"
      ]
     },
     "metadata": {},
     "output_type": "display_data"
    }
   ],
   "source": [
    "%%time\n",
    "## 5 minutes!\n",
    "## 8h 41min 19s on full W10 panel!\n",
    "\n",
    "data = BES_numeric\n",
    "corr_mat = data.corr()\n",
    "# create lower triangle - diag mask\n",
    "col_vars = len( corr_mat )\n",
    "df = pd.DataFrame( np.arange(col_vars*col_vars).reshape(col_vars,col_vars) )\n",
    "mask = np.ones(df.shape,dtype='bool')\n",
    "mask[np.triu_indices(len(df))] = False\n",
    "corr_mat.mask(~mask).stack().hist(bins=100)"
   ]
  },
  {
   "cell_type": "code",
   "execution_count": 38,
   "metadata": {},
   "outputs": [
    {
     "data": {
      "text/html": [
       "<div>\n",
       "<table border=\"1\" class=\"dataframe\">\n",
       "  <thead>\n",
       "    <tr style=\"text-align: right;\">\n",
       "      <th></th>\n",
       "      <th>var1</th>\n",
       "      <th>var2</th>\n",
       "      <th>corr</th>\n",
       "      <th>var1%</th>\n",
       "      <th>var2%</th>\n",
       "      <th>min var%</th>\n",
       "    </tr>\n",
       "  </thead>\n",
       "  <tbody>\n",
       "  </tbody>\n",
       "</table>\n",
       "</div>"
      ],
      "text/plain": [
       "Empty DataFrame\n",
       "Columns: [var1, var2, corr, var1%, var2%, min var%]\n",
       "Index: []"
      ]
     },
     "execution_count": 38,
     "metadata": {},
     "output_type": "execute_result"
    }
   ],
   "source": [
    "# build a data frame of pairs of highly corr/anti-corr variables\n",
    "# score on correlation, %non-missing values for each\n",
    "# Building the high_corr_list is still **manual** (not much reason to automate)\n",
    "\n",
    "\n",
    "corr_df = pd.DataFrame(columns = [\"var1\",\"var2\",\"corr\",\"var1%\",\"var2%\",\"min var%\"])\n",
    "\n",
    "id_num = 0\n",
    "\n",
    "# min_filled_out = 0.02\n",
    "min_filled_out = 0.02\n",
    "\n",
    "thresh = .05\n",
    "x = ( ( corr_mat>(1-thresh) ) &mask ).values.nonzero()\n",
    "\n",
    "for i in range( 0,len(x[0]) ):\n",
    "    a = corr_mat.columns[ x[0][i] ]\n",
    "    b = corr_mat.columns[ x[1][i] ]\n",
    "    c = data[a].notnull().mean()\n",
    "    d = data[b].notnull().mean()\n",
    "    mincd = min(c,d)\n",
    "    if mincd > min_filled_out and (a not in W9_vars) and (b not in W9_vars):\n",
    "        corr_df.loc[id_num] = [ a,b,corr_mat[a][b], c, d, mincd ]\n",
    "        id_num = id_num + 1\n",
    "\n",
    "\n",
    "x = ( ( corr_mat<(thresh-1) ) &mask ).values.nonzero()\n",
    "\n",
    "for i in range( 0,len(x[0]) ):\n",
    "    a = corr_mat.columns[ x[0][i] ]\n",
    "    b = corr_mat.columns[ x[1][i] ]\n",
    "    c = data[a].notnull().mean()\n",
    "    d = data[b].notnull().mean()\n",
    "    mincd = min(c,d)\n",
    "    if (mincd > min_filled_out) and (a not in W9_vars) and (b not in W9_vars):\n",
    "        corr_df.loc[id_num] = [ a,b,corr_mat[a][b], c, d, mincd ]\n",
    "        id_num = id_num + 1\n",
    "\n",
    "corr_df"
   ]
  },
  {
   "cell_type": "code",
   "execution_count": 19,
   "metadata": {
    "collapsed": true
   },
   "outputs": [],
   "source": [
    "# corr_df.to_hdf(BES_data_folder+\"corr_dfW10Panel.hdf\",\"corr_dfW10Panel\")"
   ]
  },
  {
   "cell_type": "code",
   "execution_count": 10,
   "metadata": {
    "collapsed": true
   },
   "outputs": [],
   "source": [
    "# corr_df = pd.read_hdf(BES_data_folder+\"corr_dfW10Panel.hdf\",\"corr_dfW10Panel\")"
   ]
  },
  {
   "cell_type": "code",
   "execution_count": 13,
   "metadata": {},
   "outputs": [
    {
     "data": {
      "text/html": [
       "<div>\n",
       "<table border=\"1\" class=\"dataframe\">\n",
       "  <thead>\n",
       "    <tr style=\"text-align: right;\">\n",
       "      <th></th>\n",
       "      <th>var1</th>\n",
       "      <th>var2</th>\n",
       "      <th>corr</th>\n",
       "      <th>var1%</th>\n",
       "      <th>var2%</th>\n",
       "      <th>min var%</th>\n",
       "    </tr>\n",
       "  </thead>\n",
       "  <tbody>\n",
       "  </tbody>\n",
       "</table>\n",
       "</div>"
      ],
      "text/plain": [
       "Empty DataFrame\n",
       "Columns: [var1, var2, corr, var1%, var2%, min var%]\n",
       "Index: []"
      ]
     },
     "execution_count": 13,
     "metadata": {},
     "output_type": "execute_result"
    }
   ],
   "source": [
    "corr_df.sort_values(by=\"min var%\",ascending=False).head(70)"
   ]
  },
  {
   "cell_type": "code",
   "execution_count": 14,
   "metadata": {},
   "outputs": [
    {
     "data": {
      "text/html": [
       "<div>\n",
       "<table border=\"1\" class=\"dataframe\">\n",
       "  <thead>\n",
       "    <tr style=\"text-align: right;\">\n",
       "      <th></th>\n",
       "      <th>var1</th>\n",
       "      <th>var2</th>\n",
       "      <th>corr</th>\n",
       "      <th>var1%</th>\n",
       "      <th>var2%</th>\n",
       "      <th>min var%</th>\n",
       "    </tr>\n",
       "  </thead>\n",
       "  <tbody>\n",
       "  </tbody>\n",
       "</table>\n",
       "</div>"
      ],
      "text/plain": [
       "Empty DataFrame\n",
       "Columns: [var1, var2, corr, var1%, var2%, min var%]\n",
       "Index: []"
      ]
     },
     "execution_count": 14,
     "metadata": {},
     "output_type": "execute_result"
    }
   ],
   "source": [
    "corr_df[corr_df[\"min var%\"]>.33]"
   ]
  },
  {
   "cell_type": "code",
   "execution_count": null,
   "metadata": {},
   "outputs": [],
   "source": []
  },
  {
   "cell_type": "code",
   "execution_count": 39,
   "metadata": {},
   "outputs": [
    {
     "data": {
      "text/plain": [
       "374"
      ]
     },
     "execution_count": 39,
     "metadata": {},
     "output_type": "execute_result"
    }
   ],
   "source": [
    "np.linalg.matrix_rank(BES_imputed.values)\n"
   ]
  },
  {
   "cell_type": "code",
   "execution_count": 40,
   "metadata": {
    "collapsed": true
   },
   "outputs": [],
   "source": [
    "# high_corr_drop_list = ['euRefVoteUnsqueeze', 'euRefVote2', 'euRefVotePost',\n",
    "#                        'ageGroup', 'Age', 'voted2015', \"ns_sec\" , 'recallVote15']\n",
    "\n",
    "high_corr_drop_list = ['euRefVoteUnsqueeze', 'euRefVote2', 'euRefVotePost',\n",
    "                       'ageGroup', 'Age', 'profile_turnout_2015', \"ns_sec\" , 'profile_past_vote_2015',\"euIDW9\"]\n",
    "\n",
    "high_corr_drop_list = []"
   ]
  },
  {
   "cell_type": "code",
   "execution_count": 15,
   "metadata": {},
   "outputs": [
    {
     "name": "stdout",
     "output_type": "stream",
     "text": [
      "Wall time: 394 ms\n"
     ]
    },
    {
     "data": {
      "image/png": "[encoded data removed]",
      "text/plain": [
       "<matplotlib.figure.Figure at 0xf4a8fd0>"
      ]
     },
     "metadata": {},
     "output_type": "display_data"
    }
   ],
   "source": [
    "%%time\n",
    "## TEST VARIANCES\n",
    "a = BES_imputed.var()\n",
    "b = a<a.quantile(.05)\n",
    "a[b].hist(bins=100)\n",
    "very_low_var = BES_imputed.columns[b]\n",
    "# a.quantile(.01)"
   ]
  },
  {
   "cell_type": "code",
   "execution_count": null,
   "metadata": {
    "collapsed": true
   },
   "outputs": [],
   "source": [
    "# drop columns below certain % filled out (2%)\n",
    "# drop columns which are identical (drop least filled in) or directly derived\n",
    "# make a list of derived columns??? -> scales\n",
    "\n",
    "# WHAT TO REMOVE?\n",
    "# W9_vars\n",
    "# two_opt_cats\n",
    "# many_cat_drop_list\n",
    "# high_corr_drop_list\n",
    "# mostly_not_filled_out\n",
    "# mostly_filled_out"
   ]
  },
  {
   "cell_type": "code",
   "execution_count": 16,
   "metadata": {},
   "outputs": [
    {
     "data": {
      "text/plain": [
       "Index(['achieveReduceImmigLD', 'achieveReduceImmigSNP', 'achieveReduceImmigPC',\n",
       "       'achieveReduceImmigGrn', 'devoResponsibleScotSchools',\n",
       "       'scotReferendumRetro', 'scotReferendumVote', 'polKnowMerkel',\n",
       "       'sickElderlyInHouse', 'prevJob', 'selfOccStatus', 'selfOccEmployees',\n",
       "       'selfNumEmployees', 'selfOccStatusLast', 'selfOccEmployeesLast',\n",
       "       'selfNumEmployeesLast', 'fatherNumEmployees', 'motherNumEmployees',\n",
       "       'RPrivSchnew_dkW1W2W3W4W7W9'],\n",
       "      dtype='object')"
      ]
     },
     "execution_count": 16,
     "metadata": {},
     "output_type": "execute_result"
    }
   ],
   "source": [
    "very_low_var"
   ]
  },
  {
   "cell_type": "code",
   "execution_count": 41,
   "metadata": {},
   "outputs": [
    {
     "data": {
      "text/plain": [
       "338"
      ]
     },
     "execution_count": 41,
     "metadata": {},
     "output_type": "execute_result"
    }
   ],
   "source": [
    "gc.collect()"
   ]
  },
  {
   "cell_type": "code",
   "execution_count": 143,
   "metadata": {},
   "outputs": [
    {
     "name": "stdout",
     "output_type": "stream",
     "text": [
      "(30319, 374)\n",
      "many_cat_drop_list (30319, 371)\n",
      "Index(['pano', 'profile_lea', 'profile_oslaua'], dtype='object')\n",
      "high_corr_drop_list (30319, 371)\n",
      "mostly_not_filled_out (30319, 244)\n",
      "very_low_var (30319, 241)\n",
      "Index(['RPrivSchnew_dkW1W2W3W4W7W9', 'achieveReduceImmigGrn',\n",
      "       'achieveReduceImmigLD'],\n",
      "      dtype='object')\n"
     ]
    }
   ],
   "source": [
    "# Time to dump some variables!\n",
    "# (The results of this may have been exported back to the Imputation script\n",
    "# if it looks like nothing is happening, that's why!)\n",
    "\n",
    "\n",
    "BES_reduced = BES_imputed.copy()\n",
    "cols = BES_reduced.columns\n",
    "print(BES_reduced.shape)\n",
    "\n",
    "# # Wave 9 stuff\n",
    "# BES_reduced.drop(W9_vars,axis=1,errors='ignore',inplace=True)\n",
    "# print(\"W9_vars\", BES_reduced.shape)\n",
    "# drop_cols = cols.difference(BES_reduced.columns)\n",
    "# if ( (len(drop_cols) >0) and (len(drop_cols) <= 10) ): print(drop_cols) \n",
    "# cols = BES_reduced.columns\n",
    "\n",
    "# Categorical variables with a huge number of categories\n",
    "BES_reduced.drop(many_cat_drop_list,axis=1,errors='ignore',inplace=True)\n",
    "print(\"many_cat_drop_list\", BES_reduced.shape)\n",
    "drop_cols = cols.difference(BES_reduced.columns)\n",
    "if ( (len(drop_cols) >0) and (len(drop_cols) <= 10) ): print(drop_cols) \n",
    "cols = BES_reduced.columns\n",
    "\n",
    "# Variables which are redundant through very high correlation with other variables\n",
    "BES_reduced.drop(high_corr_drop_list,axis=1,errors='ignore',inplace=True)\n",
    "print(\"high_corr_drop_list\", BES_reduced.shape)\n",
    "drop_cols = cols.difference(BES_reduced.columns)\n",
    "if ( (len(drop_cols) >0) and (len(drop_cols) <= 10) ): print(drop_cols) \n",
    "cols = BES_reduced.columns\n",
    "\n",
    "# Variables with 'too many' missing values\n",
    "BES_reduced.drop(mostly_not_filled_out,axis=1,errors='ignore',inplace=True)\n",
    "print(\"mostly_not_filled_out\", BES_reduced.shape)\n",
    "drop_cols = cols.difference(BES_reduced.columns)\n",
    "if ( (len(drop_cols) >0) and (len(drop_cols) <= 10) ): print(drop_cols) \n",
    "cols = BES_reduced.columns\n",
    "\n",
    "# Variables with 'too low' variance\n",
    "BES_reduced.drop(very_low_var,axis=1,errors='ignore',inplace=True) \n",
    "print(\"very_low_var\", BES_reduced.shape)\n",
    "drop_cols = cols.difference(BES_reduced.columns)\n",
    "if ( (len(drop_cols) >0) and (len(drop_cols) <= 10) ): print(drop_cols) \n",
    "cols = BES_reduced.columns"
   ]
  },
  {
   "cell_type": "code",
   "execution_count": 144,
   "metadata": {
    "collapsed": true
   },
   "outputs": [],
   "source": [
    "# necessary because some imputation types impute values outside of range of available values\n",
    "# kind of suggests ... maybe not such good imputation methods??\n",
    "def float_2_categorical(series,cat_dict):\n",
    "    ser = series.astype('int')\n",
    "    ser = ser.apply( lambda x : min( x , len( cat_dict ) - 1) )\n",
    "    ser = ser.apply( lambda x : max( x , 0 ) )\n",
    "    ser = ser.apply( lambda x: cat_dict[x] )  \n",
    "    return ser"
   ]
  },
  {
   "cell_type": "code",
   "execution_count": null,
   "metadata": {
    "collapsed": true
   },
   "outputs": [],
   "source": [
    "# problem\n",
    "#  'xprofile_house_tenure': 'Own â\\x80\\x93 outright',"
   ]
  },
  {
   "cell_type": "code",
   "execution_count": 145,
   "metadata": {},
   "outputs": [],
   "source": [
    "# reorder categories in a categorical variable so that the most numerous subcategory goes first\n",
    "# so it can be dropped automatically when dummying\n",
    "# also, return name of reference subcategory\n",
    "def select_reference_subcategory(non_ordinal):\n",
    "    order = BES_numeric[non_ordinal]\\\n",
    "        .dropna().astype('int').apply( lambda x: cat_dictionary[non_ordinal][x] ).value_counts().index\n",
    "    return BES_reduced[non_ordinal].astype('category').cat.reorder_categories( order ), order[0]"
   ]
  },
  {
   "cell_type": "code",
   "execution_count": 146,
   "metadata": {
    "collapsed": true
   },
   "outputs": [],
   "source": [
    "# Recreate and rename categorical non_ordinal and ordinal variables:\n",
    "# ordinal two categories -> one single dummy binary variable labelled with positive category name (e.g gender_female)\n",
    "# ordinal 3+ category variables just renamed to append \"__top_value\" to variable name\n",
    "# non-ordinal 3+ categories -> split to individual dummy binary variables \"category_subcateory\"\n",
    "\n",
    "# need to create a dict of new_variable_names with old col names\n",
    "# to allow reinsertion of missing values, say\n",
    "new_old_col_names = dict()\n",
    "# we need to drop one sub-category for each categorical variable we dummy\n",
    "# advice supports obvious guess - always choose most numerous subcategory to the reference subcategory\n",
    "non_ordinal_base_subcat = dict()"
   ]
  },
  {
   "cell_type": "code",
   "execution_count": 147,
   "metadata": {},
   "outputs": [],
   "source": [
    "# NON-ORDINAL CATEGORICAL VARIABLES\n",
    "# get split into one variable for each category\n",
    "# NOTE: Dummy variable/multicollinearity trap\n",
    "# we need to choose a base variable for each category and drop it!\n",
    "\n",
    "non_ordinal_list = var_type[ var_type[\"type\"]==3 ].index.intersection(BES_reduced.columns)\n",
    "for non_ordinal in non_ordinal_list:\n",
    "    # return to text categories!\n",
    "    BES_reduced[non_ordinal] = float_2_categorical(BES_reduced[non_ordinal],\n",
    "                                                   cat_dictionary[non_ordinal])\n",
    "    # reorder to place most numerous subcategory first\n",
    "    BES_reduced[non_ordinal], non_ordinal_base_subcat[non_ordinal] = \\\n",
    "        select_reference_subcategory( non_ordinal  )\n",
    "    \n",
    "    # create dictionary so we have a record of which variable all newly generated ones come from!\n",
    "    for subcat in cat_dictionary[non_ordinal]:\n",
    "        new_col_name = non_ordinal + \"_\" + subcat\n",
    "        new_old_col_names[new_col_name] = non_ordinal\n",
    "        \n",
    "BES_reduced = pd.get_dummies( BES_reduced, columns=non_ordinal_list, drop_first=True )    "
   ]
  },
  {
   "cell_type": "code",
   "execution_count": 148,
   "metadata": {
    "collapsed": true
   },
   "outputs": [],
   "source": [
    "# BINARY CATEGORICAL VARIABLES\n",
    "# get renamed with 'top' value separated by single underscore\n",
    "# (this is the same as with non-ordinal variables - maybe use a different convention - like ___)\n",
    "# i.e. haveDependents -> haveDependents_No\n",
    "\n",
    "two_opt_cats = opts_per_cat[opts_per_cat==2].index.intersection(BES_reduced.columns)\n",
    "for col in two_opt_cats:\n",
    "    BES_reduced[col] = BES_reduced[col]\\\n",
    "    .astype('int').apply( lambda x: cat_dictionary[col][x] )\\\n",
    "    .astype('category').cat.reorder_categories(cat_dictionary[col])\n",
    "    \n",
    "    new_col_name = col + \"_\" + cat_dictionary[col][1]\n",
    "    new_old_col_names[new_col_name] = col\n",
    "    \n",
    "BES_reduced = pd.get_dummies( BES_reduced, columns=two_opt_cats, drop_first=True )"
   ]
  },
  {
   "cell_type": "code",
   "execution_count": 149,
   "metadata": {},
   "outputs": [
    {
     "name": "stdout",
     "output_type": "stream",
     "text": [
      "BES_reduced (30319, 428)\n"
     ]
    }
   ],
   "source": [
    "# ORDINAL CATEGORICAL VARIABLES\n",
    "# get renamed with 'top' value separated by double underscore\n",
    "# i.e. likeBoris -> likeBoris__Strongly Agree\n",
    "\n",
    "ordinal_list = var_type[ var_type[\"type\"].apply(lambda x: x in [1,2,5]) ].index.intersection(BES_reduced.columns)\n",
    "for ordinal in ordinal_list:\n",
    "    new_col_name = ordinal + \"__\" + (cat_dictionary[ordinal])[-1:][0]\n",
    "    BES_reduced.rename(columns={ordinal:new_col_name}, inplace=True)\n",
    "    new_old_col_names[new_col_name] = ordinal\n",
    "    \n",
    "print(\"BES_reduced\",BES_reduced.shape)"
   ]
  },
  {
   "cell_type": "code",
   "execution_count": 150,
   "metadata": {},
   "outputs": [
    {
     "data": {
      "text/plain": [
       "412"
      ]
     },
     "execution_count": 150,
     "metadata": {},
     "output_type": "execute_result"
    }
   ],
   "source": [
    "gc.collect()"
   ]
  },
  {
   "cell_type": "code",
   "execution_count": 151,
   "metadata": {
    "collapsed": true
   },
   "outputs": [],
   "source": [
    "## We should do correlation testing on a version with missing values\n",
    "## and may also wish an output with missing values (e.g. to run weightedPCA on)\n",
    "## Which means reinserting missing values\n",
    "\n",
    "BES_reduced_with_na = BES_reduced.copy()\n",
    "\n",
    "for col in BES_reduced_with_na:\n",
    "    if col in new_old_col_names.keys():\n",
    "        old_col = new_old_col_names[col]\n",
    "        null_series = BES_numeric[old_col].isnull()\n",
    "    else:\n",
    "        null_series = BES_numeric[col].isnull()\n",
    "        \n",
    "    BES_reduced_with_na[col][null_series] = np.nan\n",
    "    \n",
    "    # 2 option ordinal (name change)\n",
    "    # 3+ option ordinal (name change)\n",
    "    # categorical (split into lots of variables)\n",
    "    # other (no name change)"
   ]
  },
  {
   "cell_type": "code",
   "execution_count": 94,
   "metadata": {
    "collapsed": true
   },
   "outputs": [],
   "source": [
    "# BES_reduced_with_na[col][~null_series]"
   ]
  },
  {
   "cell_type": "code",
   "execution_count": 95,
   "metadata": {
    "collapsed": true
   },
   "outputs": [],
   "source": [
    "## TEST CORRELATIONS\n",
    "# we want to avoid having columns which are basically the same data\n",
    "# through very high correlation/anti-correlation\n",
    "# and when we find them, we want to keep the column with less missing values"
   ]
  },
  {
   "cell_type": "code",
   "execution_count": 161,
   "metadata": {
    "scrolled": true
   },
   "outputs": [
    {
     "data": {
      "text/plain": [
       "<matplotlib.axes._subplots.AxesSubplot at 0xc2fbe10>"
      ]
     },
     "execution_count": 161,
     "metadata": {},
     "output_type": "execute_result"
    },
    {
     "data": {
      "image/png": "[encoded data removed]",
      "text/plain": [
       "<matplotlib.figure.Figure at 0xc2c8908>"
      ]
     },
     "metadata": {},
     "output_type": "display_data"
    }
   ],
   "source": [
    "data = BES_reduced_with_na\n",
    "corr_mat = data.corr()\n",
    "# create lower triangle - diag mask\n",
    "col_vars = len( corr_mat )\n",
    "df = pd.DataFrame( np.arange(col_vars*col_vars).reshape(col_vars,col_vars) )\n",
    "mask = np.ones(df.shape,dtype='bool')\n",
    "mask[np.triu_indices(len(df))] = False\n",
    "corr_mat.mask(~mask).stack().hist(bins=100)"
   ]
  },
  {
   "cell_type": "code",
   "execution_count": 162,
   "metadata": {},
   "outputs": [],
   "source": [
    "thresh = .05\n",
    "x = ( ( corr_mat>(1-thresh) ) & mask ).values.nonzero()\n",
    "\n",
    "for i in range( 0,len(x[0]) ):\n",
    "    a = corr_mat.columns[ x[0][i] ]\n",
    "    b = corr_mat.columns[ x[1][i] ]\n",
    "    print( ( a,b,corr_mat[a][b], data[a].notnull().mean(), data[b].notnull().mean() ) )\n",
    "\n",
    "x = ( ( corr_mat<(thresh-1) ) & mask ).values.nonzero()\n",
    "\n",
    "for i in range( 0,len(x[0]) ):\n",
    "    a = corr_mat.columns[ x[0][i] ]\n",
    "    b = corr_mat.columns[ x[1][i] ]\n",
    "    print( ( a,b,corr_mat[a][b], data[a].notnull().mean(), data[b].notnull().mean() ) )    "
   ]
  },
  {
   "cell_type": "code",
   "execution_count": 221,
   "metadata": {},
   "outputs": [
    {
     "name": "stdout",
     "output_type": "stream",
     "text": [
      "dummy_cat_high_corr_drop_list (30319, 422)\n",
      "['country_Scotland', 'country_Wales', 'BESwave10_Samplesurvey_taken a BES wave', 'profile_ethnicity_Chinese', 'profile_ethnicity_Indian', 'profile_ethnicity_Pakistani', 'profile_religion_Yes - Islam', 'housing_Own outright']\n"
     ]
    }
   ],
   "source": [
    "# high_corr_drop_list = ['country_Scotland', 'country_Wales', 'polKnowMay_Leader of the Labour Party',\n",
    "                      # 'polKnowBercow_Home secretary', 'polKnowMiliband_Deputy Prime Minister']\n",
    "\n",
    "dummy_cat_high_corr_drop_list = ['country_Scotland', 'country_Wales','BESwave10_Samplesurvey_taken a BES wave',\n",
    "                                'profile_ethnicity_Chinese','profile_ethnicity_Indian','profile_ethnicity_Pakistani',\n",
    "                                'profile_religion_Yes - Islam','housing_Own outright']\n",
    "\n",
    "# dummy_cat_high_corr_drop_list = ['country_Wales', 'profile_ethnicity_Chinese','profile_ethnicity_Indian','profile_ethnicity_Pakistani',\n",
    "#                                 'profile_religion_Yes - Islam']\n",
    "\n",
    "BES_reduced.drop( dummy_cat_high_corr_drop_list,axis=1, inplace=True, errors='ignore')\n",
    "BES_reduced_with_na.drop( dummy_cat_high_corr_drop_list,axis=1, inplace=True, errors='ignore')\n",
    "print(\"dummy_cat_high_corr_drop_list\", BES_reduced.shape)\n",
    "print(dummy_cat_high_corr_drop_list)"
   ]
  },
  {
   "cell_type": "code",
   "execution_count": null,
   "metadata": {
    "collapsed": true
   },
   "outputs": [],
   "source": [
    "# very_low_var\n",
    "# NoiseVariance.loc[very_low_var].sort_values(by='noise_variance_')fc\n",
    "\n",
    "# upshot - get rid of "
   ]
  },
  {
   "cell_type": "code",
   "execution_count": 54,
   "metadata": {
    "collapsed": true
   },
   "outputs": [],
   "source": [
    "# del BES_imputed, counts_by_individuals, corr_df"
   ]
  },
  {
   "cell_type": "code",
   "execution_count": 46,
   "metadata": {},
   "outputs": [
    {
     "name": "stdout",
     "output_type": "stream",
     "text": [
      "BES_reduced_with_na 1415912856\n",
      "BES_reduced 1415912856\n"
     ]
    }
   ],
   "source": [
    "# import sys\n",
    "# for var, obj in locals().items():\n",
    "#     if ( sys.getsizeof(obj)> 1000000):\n",
    "#         print(var, sys.getsizeof(obj))"
   ]
  },
  {
   "cell_type": "code",
   "execution_count": 222,
   "metadata": {
    "collapsed": true
   },
   "outputs": [],
   "source": [
    "wave = \"W10_only\"\n",
    "\n",
    "# BES_numeric = pd.read_hdf( BES_data_folder+\"BESnumeric\"+wave+\".hdf\", \"BESnumeric\"+wave )\n",
    "\n",
    "BES_reduced.to_hdf(BES_data_folder+\"BES_reduced\"+wave+\".hdf\",\"BES_reduced\"+wave)"
   ]
  },
  {
   "cell_type": "code",
   "execution_count": 223,
   "metadata": {},
   "outputs": [
    {
     "data": {
      "text/plain": [
       "719"
      ]
     },
     "execution_count": 223,
     "metadata": {},
     "output_type": "execute_result"
    }
   ],
   "source": [
    "gc.collect()"
   ]
  },
  {
   "cell_type": "code",
   "execution_count": 224,
   "metadata": {
    "collapsed": true
   },
   "outputs": [],
   "source": [
    "# (BES_data_folder+\"BES_reduced_with_na\"+wave+\".hdf\",\"BES_reduced_with_na\"+wave)\n",
    "BES_reduced_with_na.to_hdf(BES_data_folder+\"BES_reduced_with_na\"+wave+\".hdf\",\"BES_reduced_with_na\"+wave)"
   ]
  },
  {
   "cell_type": "code",
   "execution_count": 228,
   "metadata": {
    "collapsed": true
   },
   "outputs": [],
   "source": [
    "# save decomp object    \n",
    "fname = BES_data_folder+\"new_old_col_names\"+wave+\".pkl\"\n",
    "\n",
    "with open(fname, \"wb\") as f:\n",
    "    pickle.dump( new_old_col_names, f )"
   ]
  },
  {
   "cell_type": "code",
   "execution_count": 226,
   "metadata": {},
   "outputs": [
    {
     "data": {
      "text/plain": [
       "422"
      ]
     },
     "execution_count": 226,
     "metadata": {},
     "output_type": "execute_result"
    }
   ],
   "source": [
    "np.linalg.matrix_rank(BES_reduced.drop(dummy_cat_high_corr_drop_list,axis=1,errors=\"ignore\").values)"
   ]
  },
  {
   "cell_type": "code",
   "execution_count": 227,
   "metadata": {},
   "outputs": [
    {
     "data": {
      "text/plain": [
       "(30319, 422)"
      ]
     },
     "execution_count": 227,
     "metadata": {},
     "output_type": "execute_result"
    }
   ],
   "source": [
    "BES_reduced.drop(dummy_cat_high_corr_drop_list,axis=1,errors=\"ignore\").shape"
   ]
  },
  {
   "cell_type": "code",
   "execution_count": 220,
   "metadata": {},
   "outputs": [],
   "source": [
    "qr = np.linalg.qr(BES_reduced.drop(dummy_cat_high_corr_drop_list,axis=1,errors=\"ignore\").values)[1]"
   ]
  },
  {
   "cell_type": "code",
   "execution_count": 214,
   "metadata": {},
   "outputs": [
    {
     "data": {
      "text/plain": [
       "(422, 422)"
      ]
     },
     "execution_count": 214,
     "metadata": {},
     "output_type": "execute_result"
    }
   ],
   "source": [
    "qr.shape"
   ]
  },
  {
   "cell_type": "code",
   "execution_count": 215,
   "metadata": {},
   "outputs": [
    {
     "data": {
      "text/plain": [
       "Index(['country_Scotland'], dtype='object')"
      ]
     },
     "execution_count": 215,
     "metadata": {},
     "output_type": "execute_result"
    }
   ],
   "source": [
    "BES_reduced.drop(dummy_cat_high_corr_drop_list,axis=1,errors=\"ignore\").columns[np.abs(np.sum(qr,axis=1))<.3 ]"
   ]
  },
  {
   "cell_type": "code",
   "execution_count": 210,
   "metadata": {
    "collapsed": true
   },
   "outputs": [],
   "source": [
    "dummy_cat_high_corr_drop_list.append('xprofile_ethnicity_Pakistani')"
   ]
  },
  {
   "cell_type": "code",
   "execution_count": 216,
   "metadata": {},
   "outputs": [
    {
     "data": {
      "text/plain": [
       "['country_Wales',\n",
       " 'profile_ethnicity_Chinese',\n",
       " 'profile_ethnicity_Indian',\n",
       " 'profile_ethnicity_Pakistani',\n",
       " 'profile_religion_Yes - Islam',\n",
       " 'xprofile_ethnicity_Pakistani']"
      ]
     },
     "execution_count": 216,
     "metadata": {},
     "output_type": "execute_result"
    }
   ],
   "source": [
    "dummy_cat_high_corr_drop_list"
   ]
  },
  {
   "cell_type": "code",
   "execution_count": 217,
   "metadata": {
    "collapsed": true
   },
   "outputs": [],
   "source": [
    "dummy_cat_high_corr_drop_list = ['country_Scotland', 'country_Wales','BESwave10_Samplesurvey_taken a BES wave',\n",
    "                                'profile_ethnicity_Chinese','profile_ethnicity_Indian','profile_ethnicity_Pakistani',\n",
    "                                'profile_religion_Yes - Islam','housing_Own outright']"
   ]
  },
  {
   "cell_type": "code",
   "execution_count": null,
   "metadata": {
    "collapsed": true
   },
   "outputs": [],
   "source": []
  }
 ],
 "metadata": {
  "kernelspec": {
   "display_name": "Python [conda env:BES_analysis]",
   "language": "python",
   "name": "conda-env-BES_analysis-py"
  },
  "language_info": {
   "codemirror_mode": {
    "name": "ipython",
    "version": 3
   },
   "file_extension": ".py",
   "mimetype": "text/x-python",
   "name": "python",
   "nbconvert_exporter": "python",
   "pygments_lexer": "ipython3",
   "version": "3.5.2"
  }
 },
 "nbformat": 4,
 "nbformat_minor": 1
}
