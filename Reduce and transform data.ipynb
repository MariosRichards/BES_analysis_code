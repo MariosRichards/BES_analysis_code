{
 "cells": [
  {
   "cell_type": "code",
   "execution_count": null,
   "metadata": {
    "collapsed": true
   },
   "outputs": [],
   "source": []
  },
  {
   "cell_type": "code",
   "execution_count": 73,
   "metadata": {
    "collapsed": false
   },
   "outputs": [],
   "source": [
    "import numpy as np\n",
    "import pandas as pd\n",
    "%matplotlib inline\n",
    "import matplotlib.pyplot as plt\n",
    "import gc\n",
    "import re\n",
    "\n",
    "from sklearn import datasets\n",
    "from sklearn.decomposition import PCA\n",
    "from sklearn.discriminant_analysis import LinearDiscriminantAnalysis\n",
    "from itertools import cycle\n",
    "from IPython.display import display\n",
    "import pickle, os\n",
    "\n",
    "import seaborn as sns\n",
    "\n",
    "BES_data_folder = \"../BES_analysis_data/\"\n",
    "BES_code_folder = \"../BES_analysis_code/\"\n",
    "\n",
    "from fancyimpute import BiScaler, KNN, NuclearNormMinimization, SoftImpute, MICE"
   ]
  },
  {
   "cell_type": "code",
   "execution_count": 74,
   "metadata": {
    "collapsed": false
   },
   "outputs": [
    {
     "name": "stdout",
     "output_type": "stream",
     "text": [
      "BES_Panel (31409, 733)\n",
      "BES_numeric (31409, 659)\n",
      "var_type (733, 1)\n",
      "Wall time: 12.8 s\n"
     ]
    }
   ],
   "source": [
    "%%time\n",
    "BES_Panel   = pd.read_stata( BES_data_folder+\"BES2015_W8_v1.3.dta\") # 130Mb\n",
    "print(\"BES_Panel\", BES_Panel.shape )\n",
    "BES_numeric = pd.read_hdf( BES_data_folder+\"BESW8numeric.hdf\", \"BESW8numeric\" )\n",
    "print(\"BES_numeric\",  BES_numeric.shape )\n",
    "var_type    = pd.read_hdf( BES_data_folder+\"var_type.hdf\", \"var_type\" )\n",
    "print(\"var_type\",  var_type.shape )"
   ]
  },
  {
   "cell_type": "code",
   "execution_count": 75,
   "metadata": {
    "collapsed": true
   },
   "outputs": [],
   "source": [
    "fname = BES_data_folder+\"cat_dictionary\"+\".pkl\"\n",
    "with open(fname, \"rb\") as f:\n",
    "    cat_dictionary = pickle.load( f )"
   ]
  },
  {
   "cell_type": "code",
   "execution_count": 76,
   "metadata": {
    "collapsed": false
   },
   "outputs": [
    {
     "name": "stdout",
     "output_type": "stream",
     "text": [
      "BES_imputed (31409, 378)\n"
     ]
    }
   ],
   "source": [
    "# BES_imputed = pd.read_hdf( BES_data_folder+\"BESW8median.hdf\", \"BESW8median\")\n",
    "# BES_imputed = pd.read_hdf(BES_data_folder+\"BESW8softimpute.hdf\",\"BESW8softimpute\")\n",
    "BES_imputed = pd.read_hdf( BES_data_folder+\"BESW8mice.hdf\", \"BESW8mice\" )\n",
    "print(\"BES_imputed\",  BES_imputed.shape )"
   ]
  },
  {
   "cell_type": "code",
   "execution_count": 77,
   "metadata": {
    "collapsed": false
   },
   "outputs": [
    {
     "name": "stdout",
     "output_type": "stream",
     "text": [
      "respondents not from England:  11944\n",
      "respondents not Remain/Leave:  2344\n"
     ]
    }
   ],
   "source": [
    "England_inds = BES_Panel[BES_Panel[\"country\"]==\"England\"].index\n",
    "print ( \"respondents not from England: \", len(BES_Panel) - len(England_inds) )\n",
    "Remain_inds  = BES_Panel[ BES_Panel[\"euRefVote\"].cat.codes==0 ].index\n",
    "Leave_inds   = BES_Panel[ BES_Panel[\"euRefVote\"].cat.codes==1 ].index\n",
    "Notvoters_inds  = BES_Panel[ BES_Panel[\"euRefVote\"].cat.codes==2 ].index\n",
    "Dontknow_inds   = BES_Panel[ BES_Panel[\"euRefVote\"].cat.codes==3 ].index\n",
    "print ( \"respondents not Remain/Leave: \", len(BES_Panel) - len(Remain_inds) - len(Leave_inds) )\n",
    "Leave_Remain_inds = pd.Index( np.concatenate( (Leave_inds, Remain_inds), axis=0 ) )\n",
    "EngRemLea_inds = pd.Index( np.intersect1d( England_inds, Leave_Remain_inds ) )\n"
   ]
  },
  {
   "cell_type": "code",
   "execution_count": 78,
   "metadata": {
    "collapsed": false
   },
   "outputs": [
    {
     "name": "stdout",
     "output_type": "stream",
     "text": [
      "W9 columns:  Index(['generalElectionVoteW9', 'partyIdW9', 'partyIdSqueezeW9',\n",
      "       'partyIdEUretroW9', 'BESwave9_SamplesurveyW9', 'bestOnMIIW9',\n",
      "       'euRefTurnoutRetroW9', 'euRefVoteHypotheticalW9', 'euRefVoteW9',\n",
      "       'voteMethodW9',\n",
      "       ...\n",
      "       'polKnowPutinW9', 'polKnowMerkelW9', 'polKnowAssadW9',\n",
      "       'selfOccSuperviseW9', 'selfOccOrgSizeW9', 'selfOccEmployeesW9',\n",
      "       'selfOccSuperviseLastW9', 'selfOccOrgSizeLastW9',\n",
      "       'selfOccEmployeesLastW9', 'anyUniW9'],\n",
      "      dtype='object', length=209)\n",
      "many_cat_drop_list Index(['ns_sec', 'EUMIICategory', 'age', 'Age', 'euRefExpectation',\n",
      "       'country_of_residence2', 'country_of_residence1', 'profile_lea',\n",
      "       'profile_oslaua', 'pano'],\n",
      "      dtype='object')\n"
     ]
    }
   ],
   "source": [
    "W9_vars = pd.Index([x for x in BES_numeric.columns if \"W9\" in x])\n",
    "print ( \"W9 columns: \", W9_vars )\n",
    "\n",
    "opts_per_cat = BES_numeric.apply(lambda x: len(pd.unique(x.dropna()))).sort_values()\n",
    "\n",
    "many_cat_drop_list = opts_per_cat[opts_per_cat>30].index\n",
    "# many_cat_drop_list = ['profile_lea', 'profile_oslaua', 'EUMIICategory']\n",
    "print(\"many_cat_drop_list\", many_cat_drop_list )"
   ]
  },
  {
   "cell_type": "code",
   "execution_count": null,
   "metadata": {
    "collapsed": false
   },
   "outputs": [],
   "source": [
    "\n"
   ]
  },
  {
   "cell_type": "code",
   "execution_count": 12,
   "metadata": {
    "collapsed": true
   },
   "outputs": [],
   "source": [
    "# %%time\n",
    "# counts = BES_numerics_only[BES_num_and_cat[\"wave9\"]==1 ].count()\n",
    "# counts_by_individuals = BES_numerics_only[BES_num_and_cat[\"wave9\"]==1 ].count(axis=1) # lets see\n",
    "# f, axarr = plt.subplots( 2 ,figsize=(5, 5) )\n",
    "# axarr[0].hist(counts,bins=50)\n",
    "# axarr[1].hist(counts_by_individuals,bins=50)"
   ]
  },
  {
   "cell_type": "code",
   "execution_count": 13,
   "metadata": {
    "collapsed": true
   },
   "outputs": [],
   "source": [
    "# drop people who are coverage outliers\n",
    "# say top and bottom 5%\n",
    "# BES_red = BES_numerics_only.loc[BES_reduced[\"wave9\"]==1 ].copy()\n"
   ]
  },
  {
   "cell_type": "code",
   "execution_count": 14,
   "metadata": {
    "collapsed": true
   },
   "outputs": [],
   "source": [
    "# thresh = .00\n",
    "# BES_red = BES_numeric.copy()\n",
    "# BES_red[\"coverage\"] = BES_numeric.count(axis=1)/BES_numeric.shape[1]\n",
    "\n",
    "# outlier_people = BES_red[( BES_red[\"coverage\"]>BES_red[\"coverage\"].quantile(1-thresh) ) | \n",
    "#                          ( BES_red[\"coverage\"]<BES_red[\"coverage\"].quantile(  thresh) ) ].index\n",
    "# inlier_people  = BES_red[( BES_red[\"coverage\"]<BES_red[\"coverage\"].quantile(1-thresh) ) & \n",
    "#                          ( BES_red[\"coverage\"]>BES_red[\"coverage\"].quantile(  thresh) ) ].index"
   ]
  },
  {
   "cell_type": "code",
   "execution_count": 80,
   "metadata": {
    "collapsed": false
   },
   "outputs": [
    {
     "data": {
      "text/plain": [
       "(array([  5.00000000e+00,   2.00000000e+01,   2.00000000e+01,\n",
       "          2.50000000e+01,   2.40000000e+01,   3.70000000e+01,\n",
       "          5.70000000e+01,   4.80000000e+01,   4.30000000e+01,\n",
       "          6.20000000e+01,   9.20000000e+01,   7.70000000e+01,\n",
       "          1.13000000e+02,   1.33000000e+02,   1.49000000e+02,\n",
       "          1.95000000e+02,   2.38000000e+02,   2.81000000e+02,\n",
       "          5.05000000e+02,   6.67000000e+02,   6.06000000e+02,\n",
       "          6.34000000e+02,   7.45000000e+02,   8.85000000e+02,\n",
       "          8.66000000e+02,   8.76000000e+02,   6.01000000e+02,\n",
       "          5.77000000e+02,   6.99000000e+02,   7.70000000e+02,\n",
       "          1.02200000e+03,   1.51100000e+03,   1.83100000e+03,\n",
       "          2.29500000e+03,   2.64400000e+03,   2.79200000e+03,\n",
       "          2.58700000e+03,   2.30400000e+03,   1.52100000e+03,\n",
       "          1.19100000e+03,   6.49000000e+02,   4.72000000e+02,\n",
       "          2.51000000e+02,   1.42000000e+02,   6.80000000e+01,\n",
       "          3.60000000e+01,   2.10000000e+01,   1.70000000e+01,\n",
       "          2.00000000e+00,   3.00000000e+00]),\n",
       " array([ 0.03641882,  0.05031866,  0.06421851,  0.07811836,  0.09201821,\n",
       "         0.10591806,  0.11981791,  0.13371775,  0.1476176 ,  0.16151745,\n",
       "         0.1754173 ,  0.18931715,  0.203217  ,  0.21711684,  0.23101669,\n",
       "         0.24491654,  0.25881639,  0.27271624,  0.28661608,  0.30051593,\n",
       "         0.31441578,  0.32831563,  0.34221548,  0.35611533,  0.37001517,\n",
       "         0.38391502,  0.39781487,  0.41171472,  0.42561457,  0.43951442,\n",
       "         0.45341426,  0.46731411,  0.48121396,  0.49511381,  0.50901366,\n",
       "         0.52291351,  0.53681335,  0.5507132 ,  0.56461305,  0.5785129 ,\n",
       "         0.59241275,  0.60631259,  0.62021244,  0.63411229,  0.64801214,\n",
       "         0.66191199,  0.67581184,  0.68971168,  0.70361153,  0.71751138,\n",
       "         0.73141123]),\n",
       " <a list of 50 Patch objects>)"
      ]
     },
     "execution_count": 80,
     "metadata": {},
     "output_type": "execute_result"
    },
    {
     "data": {
      "image/png": "[encoded data removed]",
      "text/plain": [
       "<matplotlib.figure.Figure at 0x10b6d8d0>"
      ]
     },
     "metadata": {},
     "output_type": "display_data"
    }
   ],
   "source": [
    "counts = BES_numeric.count()/BES_numeric.shape[0] # super slow!\n",
    "counts_by_individuals = BES_numeric.count(axis=1)/BES_numeric.shape[1] # lets see\n",
    "f, axarr = plt.subplots( 2 ,figsize=(5, 5) )\n",
    "axarr[0].hist(counts,bins=50)\n",
    "axarr[1].hist(counts_by_individuals,bins=50)"
   ]
  },
  {
   "cell_type": "code",
   "execution_count": 81,
   "metadata": {
    "collapsed": true
   },
   "outputs": [],
   "source": [
    "thresh = 0.33\n",
    "\n",
    "mostly_not_filled_out = counts[counts<= (counts.max()*thresh)].index\n",
    "mostly_filled_out     = counts[counts>  (counts.max()*thresh)].index"
   ]
  },
  {
   "cell_type": "code",
   "execution_count": null,
   "metadata": {
    "collapsed": false
   },
   "outputs": [],
   "source": []
  },
  {
   "cell_type": "code",
   "execution_count": 82,
   "metadata": {
    "collapsed": false
   },
   "outputs": [
    {
     "name": "stdout",
     "output_type": "stream",
     "text": [
      "(31409, 362)\n",
      "0.2223548024117379\n"
     ]
    }
   ],
   "source": [
    "BES_min = BES_numeric[mostly_filled_out]\n",
    "print(BES_min.shape)\n",
    "missing_fraction = BES_min.isnull().sum().sum()/(BES_min.shape[0]*BES_min.shape[1])\n",
    "print(missing_fraction)"
   ]
  },
  {
   "cell_type": "code",
   "execution_count": 83,
   "metadata": {
    "collapsed": false
   },
   "outputs": [
    {
     "name": "stdout",
     "output_type": "stream",
     "text": [
      "Wall time: 6min 5s\n"
     ]
    },
    {
     "data": {
      "image/png": "[encoded data removed]",
      "text/plain": [
       "<matplotlib.figure.Figure at 0x1f0854e0>"
      ]
     },
     "metadata": {},
     "output_type": "display_data"
    }
   ],
   "source": [
    "%%time\n",
    "data = BES_numeric\n",
    "corr_mat = data.corr()\n",
    "# create lower triangle - diag mask\n",
    "col_vars = len( corr_mat )\n",
    "df = pd.DataFrame( np.arange(col_vars*col_vars).reshape(col_vars,col_vars) )\n",
    "mask = np.ones(df.shape,dtype='bool')\n",
    "mask[np.triu_indices(len(df))] = False\n",
    "corr_mat.mask(~mask).stack().hist(bins=100)"
   ]
  },
  {
   "cell_type": "code",
   "execution_count": 84,
   "metadata": {
    "collapsed": false
   },
   "outputs": [
    {
     "data": {
      "text/html": [
       "<div>\n",
       "<table border=\"1\" class=\"dataframe\">\n",
       "  <thead>\n",
       "    <tr style=\"text-align: right;\">\n",
       "      <th></th>\n",
       "      <th>var1</th>\n",
       "      <th>var2</th>\n",
       "      <th>corr</th>\n",
       "      <th>var1%</th>\n",
       "      <th>var2%</th>\n",
       "      <th>min var%</th>\n",
       "    </tr>\n",
       "  </thead>\n",
       "  <tbody>\n",
       "    <tr>\n",
       "      <th>0</th>\n",
       "      <td>euRefVote</td>\n",
       "      <td>euRefVotePost</td>\n",
       "      <td>1.000000</td>\n",
       "      <td>0.925372</td>\n",
       "      <td>0.125092</td>\n",
       "      <td>0.125092</td>\n",
       "    </tr>\n",
       "    <tr>\n",
       "      <th>1</th>\n",
       "      <td>partyContactUKIP_3</td>\n",
       "      <td>partyContactLD_3</td>\n",
       "      <td>1.000000</td>\n",
       "      <td>0.025439</td>\n",
       "      <td>0.024070</td>\n",
       "      <td>0.024070</td>\n",
       "    </tr>\n",
       "    <tr>\n",
       "      <th>2</th>\n",
       "      <td>euID</td>\n",
       "      <td>euRefVote</td>\n",
       "      <td>0.957034</td>\n",
       "      <td>0.159254</td>\n",
       "      <td>0.925372</td>\n",
       "      <td>0.159254</td>\n",
       "    </tr>\n",
       "    <tr>\n",
       "      <th>3</th>\n",
       "      <td>euRefVoteUnsqueeze</td>\n",
       "      <td>euRefVote</td>\n",
       "      <td>1.000000</td>\n",
       "      <td>0.756025</td>\n",
       "      <td>0.925372</td>\n",
       "      <td>0.756025</td>\n",
       "    </tr>\n",
       "    <tr>\n",
       "      <th>4</th>\n",
       "      <td>euRefVoteUnsqueeze</td>\n",
       "      <td>euID</td>\n",
       "      <td>0.965933</td>\n",
       "      <td>0.756025</td>\n",
       "      <td>0.159254</td>\n",
       "      <td>0.159254</td>\n",
       "    </tr>\n",
       "    <tr>\n",
       "      <th>5</th>\n",
       "      <td>euRefVote2</td>\n",
       "      <td>euRefVote</td>\n",
       "      <td>1.000000</td>\n",
       "      <td>0.800280</td>\n",
       "      <td>0.925372</td>\n",
       "      <td>0.800280</td>\n",
       "    </tr>\n",
       "    <tr>\n",
       "      <th>6</th>\n",
       "      <td>euRefVote2</td>\n",
       "      <td>euID</td>\n",
       "      <td>0.960398</td>\n",
       "      <td>0.800280</td>\n",
       "      <td>0.159254</td>\n",
       "      <td>0.159254</td>\n",
       "    </tr>\n",
       "    <tr>\n",
       "      <th>7</th>\n",
       "      <td>euRefVote2</td>\n",
       "      <td>euRefVoteUnsqueeze</td>\n",
       "      <td>1.000000</td>\n",
       "      <td>0.800280</td>\n",
       "      <td>0.756025</td>\n",
       "      <td>0.756025</td>\n",
       "    </tr>\n",
       "    <tr>\n",
       "      <th>8</th>\n",
       "      <td>ageGroup</td>\n",
       "      <td>age</td>\n",
       "      <td>0.975992</td>\n",
       "      <td>0.628896</td>\n",
       "      <td>1.000000</td>\n",
       "      <td>0.628896</td>\n",
       "    </tr>\n",
       "    <tr>\n",
       "      <th>9</th>\n",
       "      <td>Age</td>\n",
       "      <td>age</td>\n",
       "      <td>0.998577</td>\n",
       "      <td>0.807921</td>\n",
       "      <td>1.000000</td>\n",
       "      <td>0.807921</td>\n",
       "    </tr>\n",
       "    <tr>\n",
       "      <th>10</th>\n",
       "      <td>Age</td>\n",
       "      <td>ageGroup</td>\n",
       "      <td>0.977766</td>\n",
       "      <td>0.807921</td>\n",
       "      <td>0.628896</td>\n",
       "      <td>0.628896</td>\n",
       "    </tr>\n",
       "    <tr>\n",
       "      <th>11</th>\n",
       "      <td>ns_sec_analytic</td>\n",
       "      <td>ns_sec</td>\n",
       "      <td>0.977766</td>\n",
       "      <td>0.432456</td>\n",
       "      <td>0.429176</td>\n",
       "      <td>0.429176</td>\n",
       "    </tr>\n",
       "    <tr>\n",
       "      <th>12</th>\n",
       "      <td>profile_turnout_2015</td>\n",
       "      <td>voted2015</td>\n",
       "      <td>0.998926</td>\n",
       "      <td>0.802827</td>\n",
       "      <td>0.927378</td>\n",
       "      <td>0.802827</td>\n",
       "    </tr>\n",
       "    <tr>\n",
       "      <th>13</th>\n",
       "      <td>profile_past_vote_2015</td>\n",
       "      <td>recallVote15</td>\n",
       "      <td>1.000000</td>\n",
       "      <td>0.715305</td>\n",
       "      <td>0.822949</td>\n",
       "      <td>0.715305</td>\n",
       "    </tr>\n",
       "  </tbody>\n",
       "</table>\n",
       "</div>"
      ],
      "text/plain": [
       "                      var1                var2      corr     var1%     var2%  \\\n",
       "0                euRefVote       euRefVotePost  1.000000  0.925372  0.125092   \n",
       "1       partyContactUKIP_3    partyContactLD_3  1.000000  0.025439  0.024070   \n",
       "2                     euID           euRefVote  0.957034  0.159254  0.925372   \n",
       "3       euRefVoteUnsqueeze           euRefVote  1.000000  0.756025  0.925372   \n",
       "4       euRefVoteUnsqueeze                euID  0.965933  0.756025  0.159254   \n",
       "5               euRefVote2           euRefVote  1.000000  0.800280  0.925372   \n",
       "6               euRefVote2                euID  0.960398  0.800280  0.159254   \n",
       "7               euRefVote2  euRefVoteUnsqueeze  1.000000  0.800280  0.756025   \n",
       "8                 ageGroup                 age  0.975992  0.628896  1.000000   \n",
       "9                      Age                 age  0.998577  0.807921  1.000000   \n",
       "10                     Age            ageGroup  0.977766  0.807921  0.628896   \n",
       "11         ns_sec_analytic              ns_sec  0.977766  0.432456  0.429176   \n",
       "12    profile_turnout_2015           voted2015  0.998926  0.802827  0.927378   \n",
       "13  profile_past_vote_2015        recallVote15  1.000000  0.715305  0.822949   \n",
       "\n",
       "    min var%  \n",
       "0   0.125092  \n",
       "1   0.024070  \n",
       "2   0.159254  \n",
       "3   0.756025  \n",
       "4   0.159254  \n",
       "5   0.800280  \n",
       "6   0.159254  \n",
       "7   0.756025  \n",
       "8   0.628896  \n",
       "9   0.807921  \n",
       "10  0.628896  \n",
       "11  0.429176  \n",
       "12  0.802827  \n",
       "13  0.715305  "
      ]
     },
     "execution_count": 84,
     "metadata": {},
     "output_type": "execute_result"
    }
   ],
   "source": [
    "corr_df = pd.DataFrame(columns = [\"var1\",\"var2\",\"corr\",\"var1%\",\"var2%\",\"min var%\"])\n",
    "# min_corr = []\n",
    "id_num = 0\n",
    "\n",
    "min_filled_out = 0.02\n",
    "\n",
    "thresh = .05\n",
    "x = ( ( corr_mat>(1-thresh) ) &mask ).values.nonzero()\n",
    "# z = list( zip(corr_mat.columns[x[0]],corr_mat.columns[x[1]]) )\n",
    "# z\n",
    "for i in range( 0,len(x[0]) ):\n",
    "    a = corr_mat.columns[ x[0][i] ]\n",
    "    b = corr_mat.columns[ x[1][i] ]\n",
    "    c = data[a].notnull().mean()\n",
    "    d = data[b].notnull().mean()\n",
    "    mincd = min(c,d)\n",
    "    if mincd > min_filled_out and (a not in W9_vars) and (b not in W9_vars):\n",
    "        corr_df.loc[id_num] = [ a,b,corr_mat[a][b], c, d, mincd ]\n",
    "        id_num = id_num + 1\n",
    "\n",
    "\n",
    "x = ( ( corr_mat<(thresh-1) ) &mask ).values.nonzero()\n",
    "# z = list( zip(corr_mat.columns[x[0]],corr_mat.columns[x[1]]) )\n",
    "# z\n",
    "for i in range( 0,len(x[0]) ):\n",
    "    a = corr_mat.columns[ x[0][i] ]\n",
    "    b = corr_mat.columns[ x[1][i] ]\n",
    "    c = data[a].notnull().mean()\n",
    "    d = data[b].notnull().mean()\n",
    "    mincd = min(c,d)\n",
    "    if (mincd > min_filled_out) and (a not in W9_vars) and (b not in W9_vars):\n",
    "        corr_df.loc[id_num] = [ a,b,corr_mat[a][b], c, d, mincd ]\n",
    "        id_num = id_num + 1\n",
    "#     print( ( a,b,corr_mat[a][b], c, d, min(c,d) ) )\n",
    "#     min_corr.append( min(c,d) )\n",
    "corr_df"
   ]
  },
  {
   "cell_type": "code",
   "execution_count": 85,
   "metadata": {
    "collapsed": false
   },
   "outputs": [],
   "source": [
    "# corr_df.loc[~w9_rows,\"min var%\"][corr_df[\"min var%\"]>.02].hist(bins=200)"
   ]
  },
  {
   "cell_type": "code",
   "execution_count": 86,
   "metadata": {
    "collapsed": false
   },
   "outputs": [],
   "source": [
    "# w9_rows = corr_df[\"var1\"].apply(lambda x: x in W9_vars) | corr_df[\"var2\"].apply(lambda x: x in W9_vars)\n",
    "# corr_df.loc[~w9_rows][corr_df[\"min var%\"]>.02]"
   ]
  },
  {
   "cell_type": "code",
   "execution_count": 87,
   "metadata": {
    "collapsed": false
   },
   "outputs": [
    {
     "data": {
      "image/png": "[encoded data removed]",
      "text/plain": [
       "<matplotlib.figure.Figure at 0x10e53908>"
      ]
     },
     "metadata": {},
     "output_type": "display_data"
    }
   ],
   "source": [
    "## TEST VARIANCES\n",
    "a = BES_imputed.var()\n",
    "b = a<a.quantile(.05)\n",
    "a[b].hist(bins=100)\n",
    "very_low_var = BES_imputed.columns[b]\n",
    "# a.quantile(.01)"
   ]
  },
  {
   "cell_type": "code",
   "execution_count": 88,
   "metadata": {
    "collapsed": false
   },
   "outputs": [],
   "source": [
    "# drop columns below certain % filled out (2%)\n",
    "# drop columns which are identical (drop least filled in) or directly derived\n",
    "# make a list of derived columns??? -> scales\n",
    "\n",
    "# WHAT TO REMOVE?\n",
    "# W9_vars\n",
    "\n",
    "# two_opt_cats\n",
    "\n",
    "# many_cat_drop_list\n",
    "# high_corr_drop_list\n",
    "\n",
    "# mostly_not_filled_out\n",
    "# mostly_filled_out"
   ]
  },
  {
   "cell_type": "code",
   "execution_count": 89,
   "metadata": {
    "collapsed": false
   },
   "outputs": [],
   "source": [
    "high_corr_drop_list = ['euRefVoteUnsqueeze', 'euRefVote2', 'euRefVotePost',\n",
    "                       'ageGroup', 'Age', 'voted2015', \"ns_sec\" , 'recallVote15']"
   ]
  },
  {
   "cell_type": "code",
   "execution_count": null,
   "metadata": {
    "collapsed": false
   },
   "outputs": [],
   "source": []
  },
  {
   "cell_type": "code",
   "execution_count": 90,
   "metadata": {
    "collapsed": false
   },
   "outputs": [
    {
     "name": "stdout",
     "output_type": "stream",
     "text": [
      "(31409, 378)\n",
      "W9_vars (31409, 378)\n",
      "many_cat_drop_list (31409, 378)\n",
      "high_corr_drop_list (31409, 378)\n",
      "mostly_not_filled_out (31409, 239)\n",
      "very_low_var (31409, 239)\n"
     ]
    }
   ],
   "source": [
    "BES_reduced = BES_imputed.copy()\n",
    "cols = BES_reduced.columns\n",
    "print(BES_reduced.shape)\n",
    "\n",
    "BES_reduced.drop(W9_vars,axis=1,errors='ignore',inplace=True)\n",
    "print(\"W9_vars\", BES_reduced.shape)\n",
    "drop_cols = cols.difference(BES_reduced.columns)\n",
    "if ( (len(drop_cols) >0) and (len(drop_cols) <= 10) ): print(drop_cols) \n",
    "cols = BES_reduced.columns\n",
    "\n",
    "BES_reduced.drop(many_cat_drop_list,axis=1,errors='ignore',inplace=True)\n",
    "print(\"many_cat_drop_list\", BES_reduced.shape)\n",
    "drop_cols = cols.difference(BES_reduced.columns)\n",
    "if ( (len(drop_cols) >0) and (len(drop_cols) <= 10) ): print(drop_cols) \n",
    "cols = BES_reduced.columns\n",
    "\n",
    "BES_reduced.drop(high_corr_drop_list,axis=1,errors='ignore',inplace=True)\n",
    "print(\"high_corr_drop_list\", BES_reduced.shape)\n",
    "drop_cols = cols.difference(BES_reduced.columns)\n",
    "if ( (len(drop_cols) >0) and (len(drop_cols) <= 10) ): print(drop_cols) \n",
    "cols = BES_reduced.columns\n",
    "\n",
    "BES_reduced.drop(mostly_not_filled_out,axis=1,errors='ignore',inplace=True)\n",
    "print(\"mostly_not_filled_out\", BES_reduced.shape)\n",
    "drop_cols = cols.difference(BES_reduced.columns)\n",
    "if ( (len(drop_cols) >0) and (len(drop_cols) <= 10) ): print(drop_cols) \n",
    "cols = BES_reduced.columns\n",
    "\n",
    "BES_reduced.drop(very_low_var,axis=1,errors='ignore',inplace=True) \n",
    "print(\"very_low_var\", BES_reduced.shape)\n",
    "drop_cols = cols.difference(BES_reduced.columns)\n",
    "if ( (len(drop_cols) >0) and (len(drop_cols) <= 10) ): print(drop_cols) \n",
    "cols = BES_reduced.columns"
   ]
  },
  {
   "cell_type": "code",
   "execution_count": 91,
   "metadata": {
    "collapsed": true
   },
   "outputs": [],
   "source": [
    "def float_2_categorical(series,cat_dict):\n",
    "    ser = series.astype('int')\n",
    "    ser = ser.apply( lambda x : min( x , len( cat_dict ) - 1) )\n",
    "    ser = ser.apply( lambda x : max( x , 0 ) )\n",
    "    ser = ser.apply( lambda x: cat_dict[x] )  \n",
    "    return ser\n"
   ]
  },
  {
   "cell_type": "code",
   "execution_count": 92,
   "metadata": {
    "collapsed": false
   },
   "outputs": [],
   "source": [
    "non_ordinal_list = var_type[ var_type[\"type\"]==3 ].index.intersection(BES_reduced.columns)\n",
    "for non_ordinal in non_ordinal_list:\n",
    "    BES_reduced[non_ordinal] = float_2_categorical(BES_reduced[non_ordinal],\n",
    "                                                   cat_dictionary[non_ordinal])\n",
    "    \n",
    "BES_reduced = pd.get_dummies( BES_reduced, columns=non_ordinal_list )    "
   ]
  },
  {
   "cell_type": "code",
   "execution_count": 93,
   "metadata": {
    "collapsed": false
   },
   "outputs": [],
   "source": [
    "# non_ordinal\n",
    "# cat_dictionary[non_ordinal]\n",
    "# BES_numeric[non_ordinal].value_counts()\n",
    "# a = round(BES_reduced[non_ordinal])\\\n",
    "#     .astype('int')\n",
    "# a.value_counts()\n",
    "# BES_reduced"
   ]
  },
  {
   "cell_type": "code",
   "execution_count": 94,
   "metadata": {
    "collapsed": false
   },
   "outputs": [],
   "source": [
    "two_opt_cats = opts_per_cat[opts_per_cat==2].index.intersection(BES_reduced.columns)\n",
    "for col in two_opt_cats:\n",
    "    BES_reduced[col] = BES_reduced[col]\\\n",
    "    .astype('int').apply( lambda x: cat_dictionary[col][x] )\\\n",
    "    .astype('category').cat.reorder_categories(cat_dictionary[col])\n",
    "    \n",
    "BES_reduced = pd.get_dummies( BES_reduced, columns=two_opt_cats, drop_first=True )        "
   ]
  },
  {
   "cell_type": "code",
   "execution_count": 95,
   "metadata": {
    "collapsed": false
   },
   "outputs": [
    {
     "name": "stdout",
     "output_type": "stream",
     "text": [
      "BES_reduced (31409, 456)\n"
     ]
    }
   ],
   "source": [
    "ordinal_list = var_type[ var_type[\"type\"].apply(lambda x: x in [1,2,5]) ].index.intersection(BES_reduced.columns)\n",
    "for ordinal in ordinal_list:\n",
    "    new_col_name = ordinal + \"__\" + (cat_dictionary[ordinal])[-1:][0]\n",
    "    BES_reduced.rename(columns={ordinal:new_col_name}, inplace=True)\n",
    "    \n",
    "print(\"BES_reduced\",BES_reduced.shape)"
   ]
  },
  {
   "cell_type": "code",
   "execution_count": 96,
   "metadata": {
    "collapsed": false,
    "scrolled": true
   },
   "outputs": [
    {
     "data": {
      "text/plain": [
       "<matplotlib.axes._subplots.AxesSubplot at 0x1f8a3b70>"
      ]
     },
     "execution_count": 96,
     "metadata": {},
     "output_type": "execute_result"
    },
    {
     "data": {
      "image/png": "[encoded data removed]",
      "text/plain": [
       "<matplotlib.figure.Figure at 0x1f824358>"
      ]
     },
     "metadata": {},
     "output_type": "display_data"
    }
   ],
   "source": [
    "## TEST CORRELATIONS\n",
    "data = BES_reduced\n",
    "corr_mat = data.corr()\n",
    "# create lower triangle - diag mask\n",
    "col_vars = len( corr_mat )\n",
    "df = pd.DataFrame( np.arange(col_vars*col_vars).reshape(col_vars,col_vars) )\n",
    "mask = np.ones(df.shape,dtype='bool')\n",
    "mask[np.triu_indices(len(df))] = False\n",
    "corr_mat.mask(~mask).stack().hist(bins=100)"
   ]
  },
  {
   "cell_type": "code",
   "execution_count": 97,
   "metadata": {
    "collapsed": false
   },
   "outputs": [
    {
     "name": "stdout",
     "output_type": "stream",
     "text": [
      "('gor_Scotland', 'country_Scotland', 0.99954644599186537, 1.0, 1.0)\n",
      "('gor_Wales', 'country_Wales', 0.99900576345247805, 1.0, 1.0)\n",
      "('polKnowMiliband_Leader of the Labour Party', 'polKnowMiliband_Deputy Prime Minister', -0.98958109200004518, 1.0, 1.0)\n",
      "('polKnowMay_Leader of the Labour Party', 'polKnowMay_Home secretary', -0.96769362990241359, 1.0, 1.0)\n",
      "('polKnowBercow_Speaker of the House of Commons', 'polKnowBercow_Home secretary', -0.98728882747788815, 1.0, 1.0)\n"
     ]
    }
   ],
   "source": [
    "thresh = .05\n",
    "x = ( ( corr_mat>(1-thresh) ) & mask ).values.nonzero()\n",
    "# z = list( zip(corr_mat.columns[x[0]],corr_mat.columns[x[1]]) )\n",
    "# z\n",
    "for i in range( 0,len(x[0]) ):\n",
    "    a = corr_mat.columns[ x[0][i] ]\n",
    "    b = corr_mat.columns[ x[1][i] ]\n",
    "    print( ( a,b,corr_mat[a][b], data[a].notnull().mean(), data[b].notnull().mean() ) )\n",
    "\n",
    "x = ( ( corr_mat<(thresh-1) ) & mask ).values.nonzero()\n",
    "# z = list( zip(corr_mat.columns[x[0]],corr_mat.columns[x[1]]) )\n",
    "# z\n",
    "for i in range( 0,len(x[0]) ):\n",
    "    a = corr_mat.columns[ x[0][i] ]\n",
    "    b = corr_mat.columns[ x[1][i] ]\n",
    "    print( ( a,b,corr_mat[a][b], data[a].notnull().mean(), data[b].notnull().mean() ) )    "
   ]
  },
  {
   "cell_type": "code",
   "execution_count": 98,
   "metadata": {
    "collapsed": false
   },
   "outputs": [
    {
     "name": "stdout",
     "output_type": "stream",
     "text": [
      "dummy_cat_high_corr_drop_list (31409, 454)\n",
      "['country_Scotland', 'country_Wales']\n"
     ]
    }
   ],
   "source": [
    "# high_corr_drop_list = ['country_Scotland', 'country_Wales', 'polKnowMay_Leader of the Labour Party',\n",
    "                      # 'polKnowBercow_Home secretary', 'polKnowMiliband_Deputy Prime Minister']\n",
    "\n",
    "dummy_cat_high_corr_drop_list = ['country_Scotland', 'country_Wales']\n",
    "BES_reduced.drop( dummy_cat_high_corr_drop_list,axis=1, inplace=True, errors='ignore')\n",
    "print(\"dummy_cat_high_corr_drop_list\", BES_reduced.shape)\n",
    "print(dummy_cat_high_corr_drop_list)"
   ]
  },
  {
   "cell_type": "code",
   "execution_count": null,
   "metadata": {
    "collapsed": false
   },
   "outputs": [],
   "source": []
  },
  {
   "cell_type": "code",
   "execution_count": 99,
   "metadata": {
    "collapsed": true
   },
   "outputs": [],
   "source": [
    "# very_low_var\n",
    "# NoiseVariance.loc[very_low_var].sort_values(by='noise_variance_')fc\n",
    "\n",
    "# upshot - get rid of "
   ]
  },
  {
   "cell_type": "code",
   "execution_count": 100,
   "metadata": {
    "collapsed": false
   },
   "outputs": [],
   "source": [
    "BES_reduced.to_hdf(BES_data_folder+\"BES_reduced.hdf\",\"BES_reduced\")"
   ]
  },
  {
   "cell_type": "code",
   "execution_count": null,
   "metadata": {
    "collapsed": false
   },
   "outputs": [],
   "source": []
  },
  {
   "cell_type": "code",
   "execution_count": null,
   "metadata": {
    "collapsed": false
   },
   "outputs": [],
   "source": []
  },
  {
   "cell_type": "code",
   "execution_count": null,
   "metadata": {
    "collapsed": false
   },
   "outputs": [],
   "source": []
  },
  {
   "cell_type": "code",
   "execution_count": null,
   "metadata": {
    "collapsed": false
   },
   "outputs": [],
   "source": []
  },
  {
   "cell_type": "code",
   "execution_count": null,
   "metadata": {
    "collapsed": true
   },
   "outputs": [],
   "source": []
  },
  {
   "cell_type": "code",
   "execution_count": null,
   "metadata": {
    "collapsed": true
   },
   "outputs": [],
   "source": []
  },
  {
   "cell_type": "code",
   "execution_count": null,
   "metadata": {
    "collapsed": true
   },
   "outputs": [],
   "source": []
  },
  {
   "cell_type": "code",
   "execution_count": null,
   "metadata": {
    "collapsed": true
   },
   "outputs": [],
   "source": [
    "# You need to standardise the data first!\n",
    "\n",
    "# http://yeolab.github.io/flotilla/docs-stable/_modules/flotilla/compute/infotheory.html\n",
    "\n",
    "def binify(df, bins):\n",
    "    \"\"\"Makes a histogram of each column the provided binsize\n",
    "\n",
    "    Parameters\n",
    "    ----------\n",
    "    data : pandas.DataFrame\n",
    "        A samples x features dataframe. Each feature (column) will be binned\n",
    "        into the provided bins\n",
    "    bins : iterable\n",
    "        Bins you would like to use for this data. Must include the final bin\n",
    "        value, e.g. (0, 0.5, 1) for the two bins (0, 0.5) and (0.5, 1).\n",
    "        nbins = len(bins) - 1\n",
    "\n",
    "    Returns\n",
    "    -------\n",
    "    binned : pandas.DataFrame\n",
    "        An nbins x features DataFrame of each column binned across rows\n",
    "    \"\"\"\n",
    "    if bins is None:\n",
    "        raise ValueError('Must specify \"bins\"')\n",
    "    binned = df.apply(lambda x: pd.Series(np.histogram(x, bins=bins)[0]))\n",
    "    binned.index = bin_range_strings(bins)\n",
    "\n",
    "    # Normalize so each column sums to 1\n",
    "    binned = binned / binned.sum().astype(float)\n",
    "    return binned\n",
    "\n",
    "\n",
    "def entropy(binned, base=2):\n",
    "    \"\"\"Find the entropy of each column of a dataframe\n",
    "\n",
    "    Parameters\n",
    "    ----------\n",
    "    binned : pandas.DataFrame\n",
    "        A nbins x features DataFrame of probability distributions, where each\n",
    "        column sums to 1\n",
    "    base : numeric\n",
    "        The log-base of the entropy. Default is 2, so the resulting entropy\n",
    "        is in bits.\n",
    "\n",
    "    Returns\n",
    "    -------\n",
    "    entropy : pandas.Seires\n",
    "        Entropy values for each column of the dataframe.\n",
    "    \"\"\"\n",
    "    return -((np.log(binned) / np.log(base)) * binned).sum(axis=0)"
   ]
  },
  {
   "cell_type": "code",
   "execution_count": null,
   "metadata": {
    "collapsed": true
   },
   "outputs": [],
   "source": []
  }
 ],
 "metadata": {
  "kernelspec": {
   "display_name": "Python [conda env:BES_analysis]",
   "language": "python",
   "name": "conda-env-BES_analysis-py"
  },
  "language_info": {
   "codemirror_mode": {
    "name": "ipython",
    "version": 3
   },
   "file_extension": ".py",
   "mimetype": "text/x-python",
   "name": "python",
   "nbconvert_exporter": "python",
   "pygments_lexer": "ipython3",
   "version": "3.5.2"
  }
 },
 "nbformat": 4,
 "nbformat_minor": 0
}
