{
 "cells": [
  {
   "cell_type": "code",
   "execution_count": 151,
   "metadata": {},
   "outputs": [],
   "source": [
    "# Drop variables that don't seem to be contributing *or* much of them have problems\n",
    "# (Wave 9 variables, high (anti-/)correlation variables, mostly not filled out, very low variance, too many categories)\n",
    "# Transform variables (making some more easily readable\n",
    "# and dummying non-ordinal categorical variables to create lots of new variables)\n",
    "# rechecking if those new variables suffer from excessive levels of correlation\n",
    "\n",
    "# Output: \n",
    "# BES_reduced - imputed dataset post-transformation\n",
    "# BES_reduced_with_na - non-imputed dataset post-transformation\n"
   ]
  },
  {
   "cell_type": "code",
   "execution_count": 152,
   "metadata": {},
   "outputs": [],
   "source": [
    "# import numpy as np\n",
    "# import pandas as pd\n",
    "# %matplotlib inline\n",
    "# import matplotlib.pyplot as plt\n",
    "# import gc\n",
    "# import re\n",
    "\n",
    "# from itertools import cycle\n",
    "# from IPython.display import display\n",
    "# import pickle, os\n",
    "\n",
    "# import seaborn as sns\n",
    "\n",
    "# encoding = \"ISO-8859-1\"\n",
    "\n",
    "# import Jupyter_module_loader\n",
    "\n",
    "# from utility import *"
   ]
  },
  {
   "cell_type": "code",
   "execution_count": 153,
   "metadata": {},
   "outputs": [],
   "source": [
    "# # you should clone this git to this subdirectory (in some directory - I call it BES_analysis - doesn't matter though)\n",
    "\n",
    "# if os.getcwd().split(os.sep)[-1] != 'BES_analysis_code':\n",
    "#     raise Exception(\"Stop! You're in the wrong directory - should be in 'BES_analysis_code'\")\n",
    "\n",
    "# BES_code_folder   = \"../BES_analysis_code/\" # we should be here!\n",
    "# BES_small_data_files = BES_code_folder + \"small data files\" + os.sep\n",
    "# if not os.path.exists( BES_small_data_files ):\n",
    "#     os.makedirs( BES_small_data_files )\n",
    "\n",
    "# # we should create these if they don't already exist\n",
    "# BES_data_folder   = \"../BES_analysis_data/\"\n",
    "# if not os.path.exists( BES_data_folder ):\n",
    "#     os.makedirs( BES_data_folder )\n",
    "\n",
    "# BES_output_folder = \"../BES_analysis_output/\"\n",
    "# if not os.path.exists( BES_output_folder ):\n",
    "#     os.makedirs( BES_output_folder )\n",
    "    \n",
    "# BES_file_manifest = pd.read_csv( BES_small_data_files + \"BES_file_manifest.csv\" )"
   ]
  },
  {
   "cell_type": "code",
   "execution_count": 154,
   "metadata": {},
   "outputs": [],
   "source": [
    "# dataset_name = \"W19_comb\""
   ]
  },
  {
   "cell_type": "code",
   "execution_count": 155,
   "metadata": {},
   "outputs": [],
   "source": [
    "# # %%time\n",
    "\n",
    "# manifest = BES_file_manifest[ BES_file_manifest[\"Name\"] == dataset_name ]\n",
    "\n",
    "# data_subfolder = BES_data_folder + dataset_name + os.sep\n",
    "\n",
    "# filename = manifest[\"Stata_Filename\"].values[0]\n",
    "\n",
    "# BES_Panel  = pd.read_pickle(data_subfolder + filename.replace('.dta','.zip'),compression='zip')\n",
    "# print(\"BES_Panel\", BES_Panel.shape )\n",
    "\n",
    "\n",
    "# # BES_numeric = pd.read_msgpack( data_subfolder + \"BESnumeric.msgpack\" )\n",
    "# BES_numeric = pd.read_pickle( data_subfolder + \"BESnumeric.zip\", compression='zip' )\n",
    "# print(\"BES_numeric\",  BES_numeric.shape )\n",
    "\n",
    "# try:\n",
    "#     var_type    = pd.read_csv( data_subfolder + \"var_type.csv\", encoding=encoding)\n",
    "#     var_type.set_index(\"Unnamed: 0\", inplace=True)\n",
    "# except:\n",
    "#     var_type    = pd.read_hdf( data_subfolder + \"var_type.hdf\", encoding=encoding)\n",
    "# print(\"var_type\",  var_type.shape )\n",
    "\n",
    "# fname = data_subfolder + \"cat_dictionary.pkl\"\n",
    "# with open(fname, \"rb\") as f:\n",
    "#     cat_dictionary = pickle.load( f )"
   ]
  },
  {
   "cell_type": "code",
   "execution_count": null,
   "metadata": {},
   "outputs": [],
   "source": []
  },
  {
   "cell_type": "code",
   "execution_count": 156,
   "metadata": {},
   "outputs": [],
   "source": [
    "# BES_Panel = pd.read_stata('..\\\\BES_analysis_data\\\\W25_only\\\\BES2019_W25_v25.0.dta')\n",
    "# BES_Panel.to_pickle('..\\\\BES_analysis_data\\\\W25_only\\\\BES2019_W25_v25.0.zip',compression='zip')"
   ]
  },
  {
   "cell_type": "code",
   "execution_count": null,
   "metadata": {},
   "outputs": [],
   "source": []
  },
  {
   "cell_type": "code",
   "execution_count": 157,
   "metadata": {},
   "outputs": [
    {
     "data": {
      "text/html": [
       "<script>jQuery(function() {if (jQuery(\"body.notebook_app\").length == 0) { jQuery(\".input_area\").toggle(); jQuery(\".prompt\").toggle();}});</script>"
      ]
     },
     "metadata": {},
     "output_type": "display_data"
    },
    {
     "data": {
      "text/html": [
       "<button onclick=\"jQuery('.input_area').toggle(); jQuery('.prompt').toggle();\">Toggle code</button>"
      ]
     },
     "metadata": {},
     "output_type": "display_data"
    },
    {
     "name": "stdout",
     "output_type": "stream",
     "text": [
      "var_type (474, 13)\n",
      "old_new_col_names not loaded\n",
      "var_type (474, 13)\n"
     ]
    },
    {
     "data": {
      "text/plain": [
       "<Figure size 640x480 with 0 Axes>"
      ]
     },
     "metadata": {},
     "output_type": "display_data"
    }
   ],
   "source": [
    "# %%time\n",
    "dataset_name = \"W29_only\"\n",
    "df_list = 'BES_Panel|BESnumeric'\n",
    "%matplotlib inline\n",
    "%run BES_header.py {dataset_name} {df_list}\n",
    "# (var_type, cat_dictionary, new_old_col_names, old_new_col_names) = get_small_files(data_subfolder, encoding)  \n",
    "try:\n",
    "    var_type    = pd.read_msgpack( data_subfolder + \"var_type.msgpack\")\n",
    "except:\n",
    "    var_type    = pd.read_csv( data_subfolder + \"var_type.csv\", encoding=encoding)\n",
    "    var_type.set_index(\"Unnamed: 0\", inplace=True)\n",
    "print(\"var_type\",  var_type.shape )\n",
    "\n",
    "fname = data_subfolder + \"cat_dictionary.pkl\"\n",
    "with open(fname, \"rb\") as f:\n",
    "    cat_dictionary = pickle.load( f )"
   ]
  },
  {
   "cell_type": "code",
   "execution_count": null,
   "metadata": {},
   "outputs": [],
   "source": []
  },
  {
   "cell_type": "code",
   "execution_count": 158,
   "metadata": {},
   "outputs": [],
   "source": [
    "from sklearn import datasets\n",
    "from sklearn.decomposition import PCA\n",
    "from sklearn.discriminant_analysis import LinearDiscriminantAnalysis"
   ]
  },
  {
   "cell_type": "code",
   "execution_count": null,
   "metadata": {},
   "outputs": [],
   "source": []
  },
  {
   "cell_type": "code",
   "execution_count": 159,
   "metadata": {},
   "outputs": [],
   "source": [
    "# ## somewhere better for this\n",
    "\n",
    "###################################################\n",
    "\n",
    "\n",
    "# reader = pd.io.stata.StataReader(BES_data_folder+\"W19_comb//\"+\"BES2019_W19_Panel_v0.2.dta\")\n",
    "\n",
    "# header = reader.variable_labels()\n",
    "# labels = reader.value_labels()\n",
    "\n",
    "# pd.Series(header).to_pickle(BES_data_folder+\"W19_comb//\"+\"column_description.zip\",compression='zip')\n",
    "# import pickle\n",
    "# with open(BES_data_folder+\"W19_comb//\"+\"variable_labels.zip\", 'wb') as handle:\n",
    "#     pickle.dump(labels, handle, protocol=pickle.HIGHEST_PROTOCOL)"
   ]
  },
  {
   "cell_type": "code",
   "execution_count": null,
   "metadata": {},
   "outputs": [],
   "source": []
  },
  {
   "cell_type": "code",
   "execution_count": 160,
   "metadata": {},
   "outputs": [],
   "source": [
    "BES_numeric=BESnumeric\n",
    "del BESnumeric\n",
    "\n",
    "# BES_Panel = BES_Panel_clean\n",
    "# del BES_Panel_clean\n"
   ]
  },
  {
   "cell_type": "code",
   "execution_count": 161,
   "metadata": {},
   "outputs": [],
   "source": [
    "# BES_numeric.dtypes.value_counts()"
   ]
  },
  {
   "cell_type": "code",
   "execution_count": 162,
   "metadata": {},
   "outputs": [],
   "source": [
    "# BES_numeric.shape"
   ]
  },
  {
   "cell_type": "code",
   "execution_count": 163,
   "metadata": {},
   "outputs": [
    {
     "name": "stdout",
     "output_type": "stream",
     "text": [
      "CPU times: total: 31.2 ms\n",
      "Wall time: 147 ms\n"
     ]
    }
   ],
   "source": [
    "%%time\n",
    "medians = BES_numeric.astype('float32').median()"
   ]
  },
  {
   "cell_type": "code",
   "execution_count": 164,
   "metadata": {},
   "outputs": [],
   "source": [
    "# BES_numeric.dtypes.apply(lambda x: str(x.name)).to_dict()"
   ]
  },
  {
   "cell_type": "code",
   "execution_count": 165,
   "metadata": {},
   "outputs": [
    {
     "name": "stdout",
     "output_type": "stream",
     "text": [
      "CPU times: total: 78.1 ms\n",
      "Wall time: 231 ms\n"
     ]
    },
    {
     "data": {
      "text/plain": [
       "4"
      ]
     },
     "execution_count": 165,
     "metadata": {},
     "output_type": "execute_result"
    }
   ],
   "source": [
    "%%time\n",
    "BES_imputed = BES_numeric.astype( 'float32' ).fillna(medians)\n",
    "gc.collect()"
   ]
  },
  {
   "cell_type": "code",
   "execution_count": 166,
   "metadata": {},
   "outputs": [],
   "source": [
    "BES_imputed = BES_imputed.apply(lambda x: pd.to_numeric( x , downcast='unsigned' ) )"
   ]
  },
  {
   "cell_type": "code",
   "execution_count": 167,
   "metadata": {},
   "outputs": [
    {
     "data": {
      "text/plain": [
       "uint8      449\n",
       "float32      6\n",
       "uint16       2\n",
       "Name: count, dtype: int64"
      ]
     },
     "execution_count": 167,
     "metadata": {},
     "output_type": "execute_result"
    }
   ],
   "source": [
    "BES_imputed.dtypes.value_counts()"
   ]
  },
  {
   "cell_type": "code",
   "execution_count": null,
   "metadata": {},
   "outputs": [],
   "source": []
  },
  {
   "cell_type": "code",
   "execution_count": 168,
   "metadata": {},
   "outputs": [],
   "source": [
    "# BES_imputed = BES_numeric.fillna(medians)\n",
    "# print(\"BES_imputed\",  BES_imputed.shape )"
   ]
  },
  {
   "cell_type": "code",
   "execution_count": 169,
   "metadata": {},
   "outputs": [],
   "source": [
    "# %%time\n",
    "# imputation_method = \"mice\" # \"mice\", \"softimpute\", \"median\", ???\n",
    "# imputed_file_name = \"BES\" + imputation_method + wave\n",
    "\n",
    "# imputation_method = \"median\" # \"mice\", \"softimpute\", \"median\", ???\n",
    "# imputed_file_name = \"BES\" + imputation_method + wave\n",
    "\n",
    "\n",
    "# BES_imputed = pd.read_hdf( BES_data_folder + imputed_file_name  + \".hdf\", imputed_file_name )\n",
    "# BES_numeric.replace(-1,np.nan,inplace=True)\n",
    "# BES_imputed = BES_numeric.fillna(BES_numeric.median())\n"
   ]
  },
  {
   "cell_type": "code",
   "execution_count": 170,
   "metadata": {},
   "outputs": [],
   "source": [
    "# bool_vars = BES_numeric.columns[BES_numeric.dtypes==\"boolean\"]\n",
    "# BES_numeric[bool_vars] = BES_numeric[bool_vars].astype('Int8')"
   ]
  },
  {
   "cell_type": "code",
   "execution_count": 171,
   "metadata": {},
   "outputs": [],
   "source": [
    "# England_inds = BES_Panel[BES_Panel[\"country\"]==\"England\"].index\n",
    "# print ( \"respondents not from England: \", len(BES_Panel) - len(England_inds) )\n",
    "# Remain_inds  = BES_Panel[ BES_Panel[\"euRefVote\"].cat.codes==0 ].index\n",
    "# Leave_inds   = BES_Panel[ BES_Panel[\"euRefVote\"].cat.codes==1 ].index\n",
    "# Notvoters_inds  = BES_Panel[ BES_Panel[\"euRefVote\"].cat.codes==2 ].index\n",
    "# Dontknow_inds   = BES_Panel[ BES_Panel[\"euRefVote\"].cat.codes==3 ].index\n",
    "# print ( \"respondents not Remain/Leave: \", len(BES_Panel) - len(Remain_inds) - len(Leave_inds) )\n",
    "# Leave_Remain_inds = pd.Index( np.concatenate( (Leave_inds, Remain_inds), axis=0 ) )\n",
    "# EngRemLea_inds = pd.Index( np.intersect1d( England_inds, Leave_Remain_inds ) )"
   ]
  },
  {
   "cell_type": "code",
   "execution_count": 172,
   "metadata": {},
   "outputs": [],
   "source": [
    "# W9_vars = pd.Index([x for x in BES_numeric.columns if \"W9\" in x])\n",
    "# print ( \"W9 columns: \", W9_vars )"
   ]
  },
  {
   "cell_type": "code",
   "execution_count": 173,
   "metadata": {},
   "outputs": [],
   "source": [
    "# W9_vars = []"
   ]
  },
  {
   "cell_type": "code",
   "execution_count": 174,
   "metadata": {},
   "outputs": [
    {
     "name": "stdout",
     "output_type": "stream",
     "text": [
      "many_cat_drop_list ['new_pcon', 'pcon']\n"
     ]
    }
   ],
   "source": [
    "opts_per_cat = BES_numeric.apply(lambda x: len(pd.unique(x.dropna()))).sort_values()\n",
    "many_cat_drop_list = opts_per_cat[opts_per_cat>60].index\n",
    "# added to make sure we're only dropping *categorical* variables with lots of categories!\n",
    "many_cat_drop_list = [x for x in var_type.loc[many_cat_drop_list].index\n",
    "                      if var_type.loc[many_cat_drop_list].loc[x][\"type\"] in [3,7]]\n",
    "print(\"many_cat_drop_list\", many_cat_drop_list )"
   ]
  },
  {
   "cell_type": "code",
   "execution_count": 175,
   "metadata": {},
   "outputs": [
    {
     "data": {
      "text/plain": [
       "['new_pcon', 'pcon']"
      ]
     },
     "execution_count": 175,
     "metadata": {},
     "output_type": "execute_result"
    }
   ],
   "source": [
    "many_cat_drop_list"
   ]
  },
  {
   "cell_type": "code",
   "execution_count": null,
   "metadata": {},
   "outputs": [],
   "source": []
  },
  {
   "cell_type": "code",
   "execution_count": null,
   "metadata": {},
   "outputs": [],
   "source": []
  },
  {
   "cell_type": "code",
   "execution_count": 176,
   "metadata": {},
   "outputs": [],
   "source": [
    "# %%time\n",
    "# counts = BES_numerics_only[BES_num_and_cat[\"wave9\"]==1 ].count()\n",
    "# counts_by_individuals = BES_numerics_only[BES_num_and_cat[\"wave9\"]==1 ].count(axis=1) # lets see\n",
    "# f, axarr = plt.subplots( 2 ,figsize=(5, 5) )\n",
    "# axarr[0].hist(counts,bins=50)\n",
    "# axarr[1].hist(counts_by_individuals,bins=50)"
   ]
  },
  {
   "cell_type": "code",
   "execution_count": 177,
   "metadata": {},
   "outputs": [],
   "source": [
    "# drop people who are coverage outliers\n",
    "# say top and bottom 5%\n",
    "# BES_red = BES_numerics_only.loc[BES_reduced[\"wave9\"]==1 ].copy()"
   ]
  },
  {
   "cell_type": "code",
   "execution_count": 178,
   "metadata": {},
   "outputs": [],
   "source": [
    "# thresh = .00\n",
    "# BES_red = BES_numeric.copy()\n",
    "# BES_red[\"coverage\"] = BES_numeric.count(axis=1)/BES_numeric.shape[1]\n",
    "\n",
    "# outlier_people = BES_red[( BES_red[\"coverage\"]>BES_red[\"coverage\"].quantile(1-thresh) ) | \n",
    "#                          ( BES_red[\"coverage\"]<BES_red[\"coverage\"].quantile(  thresh) ) ].index\n",
    "# inlier_people  = BES_red[( BES_red[\"coverage\"]<BES_red[\"coverage\"].quantile(1-thresh) ) & \n",
    "#                          ( BES_red[\"coverage\"]>BES_red[\"coverage\"].quantile(  thresh) ) ].index"
   ]
  },
  {
   "cell_type": "code",
   "execution_count": null,
   "metadata": {},
   "outputs": [],
   "source": []
  },
  {
   "cell_type": "code",
   "execution_count": 179,
   "metadata": {},
   "outputs": [
    {
     "name": "stdout",
     "output_type": "stream",
     "text": [
      "CPU times: total: 62.5 ms\n",
      "Wall time: 96.1 ms\n"
     ]
    },
    {
     "data": {
      "image/png": "[encoded data removed]",
      "text/plain": [
       "<Figure size 500x500 with 2 Axes>"
      ]
     },
     "metadata": {},
     "output_type": "display_data"
    }
   ],
   "source": [
    "%%time\n",
    "# columns histogrammed by %non-missing values\n",
    "# rows histogrammed by %non-missing values\n",
    "\n",
    "counts = BES_numeric.count()/BES_numeric.shape[0]\n",
    "counts_by_individuals = BES_numeric.count(axis=1)/BES_numeric.shape[1] # lets see\n",
    "f, axarr = plt.subplots( 2 ,figsize=(5, 5) )\n",
    "ax = axarr[0].hist(counts,bins=50)\n",
    "ax = axarr[1].hist(counts_by_individuals,bins=50)"
   ]
  },
  {
   "cell_type": "code",
   "execution_count": 180,
   "metadata": {},
   "outputs": [],
   "source": [
    "# In theory, this is picked on the basis of looking at the above two diagrams (really, the top one!)\n",
    "# thresh = 0.33\n",
    "# missing_value_thresh = 0.33\n",
    "missing_value_thresh = 0.05\n",
    "\n",
    "mostly_not_filled_out = counts[counts<= (counts.max()*missing_value_thresh)].index\n",
    "mostly_filled_out     = counts[counts>  (counts.max()*missing_value_thresh)].index"
   ]
  },
  {
   "cell_type": "code",
   "execution_count": 181,
   "metadata": {},
   "outputs": [],
   "source": [
    "# missing_value_thresh = 0.8\n",
    "\n",
    "# mostly_not_filled_out = counts[counts<= (counts.max()*missing_value_thresh)].index\n",
    "# mostly_filled_out     = counts[counts>  (counts.max()*missing_value_thresh)].index"
   ]
  },
  {
   "cell_type": "code",
   "execution_count": 182,
   "metadata": {},
   "outputs": [
    {
     "name": "stdout",
     "output_type": "stream",
     "text": [
      "(31098, 326)\n",
      "0.5137167797664774\n"
     ]
    }
   ],
   "source": [
    "print(BES_numeric[mostly_filled_out].shape)\n",
    "missing_fraction = BES_numeric[mostly_filled_out].isnull().sum().sum() / \\\n",
    "    (BES_numeric[mostly_filled_out].shape[0]*BES_numeric[mostly_filled_out].shape[1])\n",
    "print(missing_fraction)"
   ]
  },
  {
   "cell_type": "code",
   "execution_count": 183,
   "metadata": {},
   "outputs": [],
   "source": [
    "# %%time\n",
    "# frac=.2\n",
    "# BES_numeric.sample(frac=frac).sample(frac=frac, axis=1).shape\n",
    "# np.corrcoef( BES_numeric.sample(frac=frac).sample(frac=frac, axis=1) )\n",
    "# BES_numeric.sample(frac=frac).sample(frac=frac, axis=1).corr(min_periods=100, method='pearson')\n",
    "\n"
   ]
  },
  {
   "cell_type": "code",
   "execution_count": 184,
   "metadata": {},
   "outputs": [],
   "source": [
    "def memory_cheap_corrcoef(x):\n",
    "    rowvar=True\n",
    "    m = np.asarray(x)\n",
    "    dtype = np.result_type(m, np.float32)\n",
    "    X = np.array(m, ndmin=2, dtype=dtype).T\n",
    "    fact = X.shape[1]\n",
    "    avg = np.average(X, axis=1, returned=True)\n",
    "    X-= avg[0][:,None]\n",
    "    c = np.dot(X, X.T.conj())/fact\n",
    "    # c *= np.true_divide(1, fact)\n",
    "    c= c.squeeze()    \n",
    "    \n",
    "    try:\n",
    "        d = np.diag(c)\n",
    "    except ValueError:\n",
    "        # scalar covariance\n",
    "        # nan if incorrect value (nan, inf, 0), 1 otherwise\n",
    "        return c / c\n",
    "    stddev = np.sqrt(d.real)\n",
    "    c /= stddev[:, None]\n",
    "    c /= stddev[None, :]\n",
    "\n",
    "    # Clip real and imaginary parts to [-1, 1].  This does not guarantee\n",
    "    # abs(a[i,j]) <= 1 for complex arrays, but is the best we can do without\n",
    "    # excessive work.\n",
    "    np.clip(c.real, -1, 1, out=c.real)\n",
    "    if np.iscomplexobj(c):\n",
    "        np.clip(c.imag, -1, 1, out=c.imag)\n",
    "\n",
    "    return c\n",
    "\n"
   ]
  },
  {
   "cell_type": "code",
   "execution_count": 185,
   "metadata": {},
   "outputs": [],
   "source": [
    "# np.array(m, ndmin=2, dtype=dtype)"
   ]
  },
  {
   "cell_type": "code",
   "execution_count": 186,
   "metadata": {},
   "outputs": [
    {
     "name": "stdout",
     "output_type": "stream",
     "text": [
      "           BES_reduced_with_na: 180.0MiB\n",
      "                   BES_numeric: 108.4MiB\n",
      "                     BES_Panel:  23.0MiB\n",
      "                   BES_reduced:  22.5MiB\n",
      "                   BES_imputed:  14.1MiB\n",
      "                      corr_mat:   2.2MiB\n",
      "                         corrs:   2.1MiB\n",
      "                          mask: 548.0KiB\n",
      "                      var_type: 414.9KiB\n",
      "         counts_by_individuals: 243.1KiB\n"
     ]
    }
   ],
   "source": [
    "memory_use(locs = locals().items())"
   ]
  },
  {
   "cell_type": "code",
   "execution_count": 187,
   "metadata": {},
   "outputs": [],
   "source": [
    "# BES_imputed.loc[BES_imputed.index[::2]]"
   ]
  },
  {
   "cell_type": "code",
   "execution_count": 188,
   "metadata": {},
   "outputs": [
    {
     "name": "stdout",
     "output_type": "stream",
     "text": [
      "CPU times: total: 250 ms\n",
      "Wall time: 135 ms\n"
     ]
    }
   ],
   "source": [
    "%%time\n",
    "corrs = memory_cheap_corrcoef(BES_imputed.astype('float32'))\n",
    "corr_mat = pd.DataFrame(corrs,index=BES_imputed.columns, columns=BES_imputed.columns)\n",
    "corr_mat.to_pickle(BES_data_folder+dataset_name+os.sep+\"corr_df.zip\",compression='zip')\n",
    "# .loc[BES_imputed.index[::4]]"
   ]
  },
  {
   "cell_type": "code",
   "execution_count": 189,
   "metadata": {},
   "outputs": [],
   "source": [
    "# corrs.shape\n",
    "# corr_mat = pd.DataFrame(corrs,index=BES_imputed.columns, columns=BES_imputed.columns)\n",
    "# corr_mat.to_pickle(BES_data_folder+dataset_name+os.sep+\"corr_df.zip\",compression='zip')"
   ]
  },
  {
   "cell_type": "code",
   "execution_count": 190,
   "metadata": {},
   "outputs": [],
   "source": [
    "# pd.DataFrame(corrs,"
   ]
  },
  {
   "cell_type": "code",
   "execution_count": null,
   "metadata": {},
   "outputs": [],
   "source": []
  },
  {
   "cell_type": "code",
   "execution_count": 191,
   "metadata": {},
   "outputs": [],
   "source": [
    "# %%time\n",
    "# # 0.05, 0.0025: 2.34\n",
    "# # 0.10, 0.01: 10.7s\n",
    "# # 0.10, spearman: 27s\n",
    "# # 0.10, kendall: 56s\n",
    "# # 0.15, 0.0225, pearson: 29s\n",
    "# # 0.20, 0.04, pearson: 65s\n",
    "# # 30 mins?\n",
    "# # W14_only: 55s\n",
    "# try:\n",
    "#     corr_mat = pd.read_pickle(BES_data_folder+dataset_name+os.sep+\"corr_df.zip\",compression='zip')\n",
    "# except:\n",
    "#     corr_mat = BES_numeric.corr()\n",
    "#     corr_mat.to_pickle(BES_data_folder+dataset_name+os.sep+\"corr_df.zip\",compression='zip')"
   ]
  },
  {
   "cell_type": "code",
   "execution_count": null,
   "metadata": {},
   "outputs": [],
   "source": []
  },
  {
   "cell_type": "code",
   "execution_count": 192,
   "metadata": {},
   "outputs": [
    {
     "name": "stdout",
     "output_type": "stream",
     "text": [
      "CPU times: total: 0 ns\n",
      "Wall time: 41.1 ms\n"
     ]
    },
    {
     "data": {
      "text/plain": [
       "<Axes: >"
      ]
     },
     "execution_count": 192,
     "metadata": {},
     "output_type": "execute_result"
    },
    {
     "data": {
      "image/png": "[encoded data removed]",
      "text/plain": [
       "<Figure size 640x480 with 1 Axes>"
      ]
     },
     "metadata": {},
     "output_type": "display_data"
    }
   ],
   "source": [
    "%%time\n",
    "## 5 minutes!\n",
    "## 8h 41min 19s on W10_comb panel!\n",
    "\n",
    "# data = BES_numeric\n",
    "# corr_mat = BES_numeric.corr()\n",
    "\n",
    "# create lower triangle - diag mask\n",
    "col_vars = len( corr_mat )\n",
    "df = pd.DataFrame( np.arange(col_vars*col_vars).reshape(col_vars,col_vars) )\n",
    "mask = np.ones(df.shape,dtype='bool')\n",
    "mask[np.triu_indices(len(df))] = False\n",
    "corr_mat.mask(~mask).stack().hist(bins=100)"
   ]
  },
  {
   "cell_type": "code",
   "execution_count": 193,
   "metadata": {},
   "outputs": [
    {
     "data": {
      "text/html": [
       "<div>\n",
       "<style scoped>\n",
       "    .dataframe tbody tr th:only-of-type {\n",
       "        vertical-align: middle;\n",
       "    }\n",
       "\n",
       "    .dataframe tbody tr th {\n",
       "        vertical-align: top;\n",
       "    }\n",
       "\n",
       "    .dataframe thead th {\n",
       "        text-align: right;\n",
       "    }\n",
       "</style>\n",
       "<table border=\"1\" class=\"dataframe\">\n",
       "  <thead>\n",
       "    <tr style=\"text-align: right;\">\n",
       "      <th></th>\n",
       "      <th>var1</th>\n",
       "      <th>var2</th>\n",
       "      <th>corr</th>\n",
       "      <th>var1%</th>\n",
       "      <th>var2%</th>\n",
       "      <th>min var%</th>\n",
       "    </tr>\n",
       "  </thead>\n",
       "  <tbody>\n",
       "    <tr>\n",
       "      <th>0</th>\n",
       "      <td>voted_ge_2024</td>\n",
       "      <td>genElecTurnoutRetro</td>\n",
       "      <td>0.967328</td>\n",
       "      <td>0.994115</td>\n",
       "      <td>0.997331</td>\n",
       "      <td>0.994115</td>\n",
       "    </tr>\n",
       "    <tr>\n",
       "      <th>1</th>\n",
       "      <td>ns_sec_analytic_parent</td>\n",
       "      <td>ns_sec_parent</td>\n",
       "      <td>0.984495</td>\n",
       "      <td>0.474146</td>\n",
       "      <td>0.474146</td>\n",
       "      <td>0.474146</td>\n",
       "    </tr>\n",
       "    <tr>\n",
       "      <th>2</th>\n",
       "      <td>ns_secW26W27</td>\n",
       "      <td>ns_sec_analyticW26W27</td>\n",
       "      <td>0.981074</td>\n",
       "      <td>0.631230</td>\n",
       "      <td>0.631230</td>\n",
       "      <td>0.631230</td>\n",
       "    </tr>\n",
       "    <tr>\n",
       "      <th>3</th>\n",
       "      <td>ageGroup</td>\n",
       "      <td>age</td>\n",
       "      <td>0.974586</td>\n",
       "      <td>1.000000</td>\n",
       "      <td>1.000000</td>\n",
       "      <td>1.000000</td>\n",
       "    </tr>\n",
       "    <tr>\n",
       "      <th>4</th>\n",
       "      <td>p_edlevelUni</td>\n",
       "      <td>p_edlevel</td>\n",
       "      <td>0.999454</td>\n",
       "      <td>0.870345</td>\n",
       "      <td>0.867869</td>\n",
       "      <td>0.867869</td>\n",
       "    </tr>\n",
       "  </tbody>\n",
       "</table>\n",
       "</div>"
      ],
      "text/plain": [
       "                     var1                   var2      corr     var1%  \\\n",
       "0           voted_ge_2024    genElecTurnoutRetro  0.967328  0.994115   \n",
       "1  ns_sec_analytic_parent          ns_sec_parent  0.984495  0.474146   \n",
       "2            ns_secW26W27  ns_sec_analyticW26W27  0.981074  0.631230   \n",
       "3                ageGroup                    age  0.974586  1.000000   \n",
       "4            p_edlevelUni              p_edlevel  0.999454  0.870345   \n",
       "\n",
       "      var2%  min var%  \n",
       "0  0.997331  0.994115  \n",
       "1  0.474146  0.474146  \n",
       "2  0.631230  0.631230  \n",
       "3  1.000000  1.000000  \n",
       "4  0.867869  0.867869  "
      ]
     },
     "execution_count": 193,
     "metadata": {},
     "output_type": "execute_result"
    }
   ],
   "source": [
    "# build a data frame of pairs of highly corr/anti-corr variables\n",
    "# score on correlation, %non-missing values for each\n",
    "# Building the high_corr_list is still **manual** (not much reason to automate)\n",
    "\n",
    "\n",
    "corr_df = pd.DataFrame(columns = [\"var1\",\"var2\",\"corr\",\"var1%\",\"var2%\",\"min var%\"])\n",
    "\n",
    "id_num = 0\n",
    "\n",
    "# min_filled_out = 0.02\n",
    "min_filled_out = 0.02\n",
    "\n",
    "thresh = .05\n",
    "x = ( ( corr_mat>(1-thresh) ) &mask ).values.nonzero()\n",
    "\n",
    "for i in range( 0,len(x[0]) ):\n",
    "    a = corr_mat.columns[ x[0][i] ]\n",
    "    b = corr_mat.columns[ x[1][i] ]\n",
    "    c = BES_numeric[a].notnull().mean()\n",
    "    d = BES_numeric[b].notnull().mean()\n",
    "    mincd = min(c,d)\n",
    "    if mincd > min_filled_out:\n",
    "        corr_df.loc[id_num] = [ a,b,corr_mat[a][b], c, d, mincd ]\n",
    "        id_num = id_num + 1\n",
    "\n",
    "\n",
    "x = ( ( corr_mat<(thresh-1) ) &mask ).values.nonzero()\n",
    "\n",
    "for i in range( 0,len(x[0]) ):\n",
    "    a = corr_mat.columns[ x[0][i] ]\n",
    "    b = corr_mat.columns[ x[1][i] ]\n",
    "    c = BES_numeric[a].notnull().mean()\n",
    "    d = BES_numeric[b].notnull().mean()\n",
    "    mincd = min(c,d)\n",
    "    if (mincd > min_filled_out):\n",
    "        corr_df.loc[id_num] = [ a,b,corr_mat[a][b], c, d, mincd ]\n",
    "        id_num = id_num + 1\n",
    "\n",
    "corr_df"
   ]
  },
  {
   "cell_type": "code",
   "execution_count": 194,
   "metadata": {},
   "outputs": [],
   "source": [
    "# corr_df.to_hdf(BES_data_folder+\"corr_dfW10Panel.hdf\",\"corr_dfW10Panel\")\n"
   ]
  },
  {
   "cell_type": "code",
   "execution_count": 195,
   "metadata": {},
   "outputs": [
    {
     "data": {
      "text/html": [
       "<div>\n",
       "<style scoped>\n",
       "    .dataframe tbody tr th:only-of-type {\n",
       "        vertical-align: middle;\n",
       "    }\n",
       "\n",
       "    .dataframe tbody tr th {\n",
       "        vertical-align: top;\n",
       "    }\n",
       "\n",
       "    .dataframe thead th {\n",
       "        text-align: right;\n",
       "    }\n",
       "</style>\n",
       "<table border=\"1\" class=\"dataframe\">\n",
       "  <thead>\n",
       "    <tr style=\"text-align: right;\">\n",
       "      <th></th>\n",
       "      <th>var1</th>\n",
       "      <th>var2</th>\n",
       "      <th>corr</th>\n",
       "      <th>var1%</th>\n",
       "      <th>var2%</th>\n",
       "      <th>min var%</th>\n",
       "    </tr>\n",
       "  </thead>\n",
       "  <tbody>\n",
       "    <tr>\n",
       "      <th>0</th>\n",
       "      <td>voted_ge_2024</td>\n",
       "      <td>genElecTurnoutRetro</td>\n",
       "      <td>0.967328</td>\n",
       "      <td>0.994115</td>\n",
       "      <td>0.997331</td>\n",
       "      <td>0.994115</td>\n",
       "    </tr>\n",
       "    <tr>\n",
       "      <th>1</th>\n",
       "      <td>ns_sec_analytic_parent</td>\n",
       "      <td>ns_sec_parent</td>\n",
       "      <td>0.984495</td>\n",
       "      <td>0.474146</td>\n",
       "      <td>0.474146</td>\n",
       "      <td>0.474146</td>\n",
       "    </tr>\n",
       "    <tr>\n",
       "      <th>2</th>\n",
       "      <td>ns_secW26W27</td>\n",
       "      <td>ns_sec_analyticW26W27</td>\n",
       "      <td>0.981074</td>\n",
       "      <td>0.631230</td>\n",
       "      <td>0.631230</td>\n",
       "      <td>0.631230</td>\n",
       "    </tr>\n",
       "    <tr>\n",
       "      <th>3</th>\n",
       "      <td>ageGroup</td>\n",
       "      <td>age</td>\n",
       "      <td>0.974586</td>\n",
       "      <td>1.000000</td>\n",
       "      <td>1.000000</td>\n",
       "      <td>1.000000</td>\n",
       "    </tr>\n",
       "    <tr>\n",
       "      <th>4</th>\n",
       "      <td>p_edlevelUni</td>\n",
       "      <td>p_edlevel</td>\n",
       "      <td>0.999454</td>\n",
       "      <td>0.870345</td>\n",
       "      <td>0.867869</td>\n",
       "      <td>0.867869</td>\n",
       "    </tr>\n",
       "  </tbody>\n",
       "</table>\n",
       "</div>"
      ],
      "text/plain": [
       "                     var1                   var2      corr     var1%  \\\n",
       "0           voted_ge_2024    genElecTurnoutRetro  0.967328  0.994115   \n",
       "1  ns_sec_analytic_parent          ns_sec_parent  0.984495  0.474146   \n",
       "2            ns_secW26W27  ns_sec_analyticW26W27  0.981074  0.631230   \n",
       "3                ageGroup                    age  0.974586  1.000000   \n",
       "4            p_edlevelUni              p_edlevel  0.999454  0.870345   \n",
       "\n",
       "      var2%  min var%  \n",
       "0  0.997331  0.994115  \n",
       "1  0.474146  0.474146  \n",
       "2  0.631230  0.631230  \n",
       "3  1.000000  1.000000  \n",
       "4  0.867869  0.867869  "
      ]
     },
     "execution_count": 195,
     "metadata": {},
     "output_type": "execute_result"
    }
   ],
   "source": [
    "corr_df"
   ]
  },
  {
   "cell_type": "code",
   "execution_count": null,
   "metadata": {},
   "outputs": [],
   "source": []
  },
  {
   "cell_type": "code",
   "execution_count": 196,
   "metadata": {},
   "outputs": [],
   "source": [
    "# corr_df = pd.read_hdf(BES_data_folder+\"corr_dfW10Panel.hdf\",\"corr_dfW10Panel\")"
   ]
  },
  {
   "cell_type": "code",
   "execution_count": 197,
   "metadata": {},
   "outputs": [
    {
     "data": {
      "text/html": [
       "<div>\n",
       "<style scoped>\n",
       "    .dataframe tbody tr th:only-of-type {\n",
       "        vertical-align: middle;\n",
       "    }\n",
       "\n",
       "    .dataframe tbody tr th {\n",
       "        vertical-align: top;\n",
       "    }\n",
       "\n",
       "    .dataframe thead th {\n",
       "        text-align: right;\n",
       "    }\n",
       "</style>\n",
       "<table border=\"1\" class=\"dataframe\">\n",
       "  <thead>\n",
       "    <tr style=\"text-align: right;\">\n",
       "      <th></th>\n",
       "      <th>var1</th>\n",
       "      <th>var2</th>\n",
       "      <th>corr</th>\n",
       "      <th>var1%</th>\n",
       "      <th>var2%</th>\n",
       "      <th>min var%</th>\n",
       "    </tr>\n",
       "  </thead>\n",
       "  <tbody>\n",
       "    <tr>\n",
       "      <th>3</th>\n",
       "      <td>ageGroup</td>\n",
       "      <td>age</td>\n",
       "      <td>0.974586</td>\n",
       "      <td>1.000000</td>\n",
       "      <td>1.000000</td>\n",
       "      <td>1.000000</td>\n",
       "    </tr>\n",
       "    <tr>\n",
       "      <th>0</th>\n",
       "      <td>voted_ge_2024</td>\n",
       "      <td>genElecTurnoutRetro</td>\n",
       "      <td>0.967328</td>\n",
       "      <td>0.994115</td>\n",
       "      <td>0.997331</td>\n",
       "      <td>0.994115</td>\n",
       "    </tr>\n",
       "    <tr>\n",
       "      <th>4</th>\n",
       "      <td>p_edlevelUni</td>\n",
       "      <td>p_edlevel</td>\n",
       "      <td>0.999454</td>\n",
       "      <td>0.870345</td>\n",
       "      <td>0.867869</td>\n",
       "      <td>0.867869</td>\n",
       "    </tr>\n",
       "    <tr>\n",
       "      <th>2</th>\n",
       "      <td>ns_secW26W27</td>\n",
       "      <td>ns_sec_analyticW26W27</td>\n",
       "      <td>0.981074</td>\n",
       "      <td>0.631230</td>\n",
       "      <td>0.631230</td>\n",
       "      <td>0.631230</td>\n",
       "    </tr>\n",
       "    <tr>\n",
       "      <th>1</th>\n",
       "      <td>ns_sec_analytic_parent</td>\n",
       "      <td>ns_sec_parent</td>\n",
       "      <td>0.984495</td>\n",
       "      <td>0.474146</td>\n",
       "      <td>0.474146</td>\n",
       "      <td>0.474146</td>\n",
       "    </tr>\n",
       "  </tbody>\n",
       "</table>\n",
       "</div>"
      ],
      "text/plain": [
       "                     var1                   var2      corr     var1%  \\\n",
       "3                ageGroup                    age  0.974586  1.000000   \n",
       "0           voted_ge_2024    genElecTurnoutRetro  0.967328  0.994115   \n",
       "4            p_edlevelUni              p_edlevel  0.999454  0.870345   \n",
       "2            ns_secW26W27  ns_sec_analyticW26W27  0.981074  0.631230   \n",
       "1  ns_sec_analytic_parent          ns_sec_parent  0.984495  0.474146   \n",
       "\n",
       "      var2%  min var%  \n",
       "3  1.000000  1.000000  \n",
       "0  0.997331  0.994115  \n",
       "4  0.867869  0.867869  \n",
       "2  0.631230  0.631230  \n",
       "1  0.474146  0.474146  "
      ]
     },
     "execution_count": 197,
     "metadata": {},
     "output_type": "execute_result"
    }
   ],
   "source": [
    "corr_df.sort_values(by=\"min var%\",ascending=False).head(70)"
   ]
  },
  {
   "cell_type": "code",
   "execution_count": 198,
   "metadata": {},
   "outputs": [
    {
     "data": {
      "text/html": [
       "<div>\n",
       "<style scoped>\n",
       "    .dataframe tbody tr th:only-of-type {\n",
       "        vertical-align: middle;\n",
       "    }\n",
       "\n",
       "    .dataframe tbody tr th {\n",
       "        vertical-align: top;\n",
       "    }\n",
       "\n",
       "    .dataframe thead th {\n",
       "        text-align: right;\n",
       "    }\n",
       "</style>\n",
       "<table border=\"1\" class=\"dataframe\">\n",
       "  <thead>\n",
       "    <tr style=\"text-align: right;\">\n",
       "      <th></th>\n",
       "      <th>var1</th>\n",
       "      <th>var2</th>\n",
       "      <th>corr</th>\n",
       "      <th>var1%</th>\n",
       "      <th>var2%</th>\n",
       "      <th>min var%</th>\n",
       "    </tr>\n",
       "  </thead>\n",
       "  <tbody>\n",
       "    <tr>\n",
       "      <th>0</th>\n",
       "      <td>voted_ge_2024</td>\n",
       "      <td>genElecTurnoutRetro</td>\n",
       "      <td>0.967328</td>\n",
       "      <td>0.994115</td>\n",
       "      <td>0.997331</td>\n",
       "      <td>0.994115</td>\n",
       "    </tr>\n",
       "    <tr>\n",
       "      <th>1</th>\n",
       "      <td>ns_sec_analytic_parent</td>\n",
       "      <td>ns_sec_parent</td>\n",
       "      <td>0.984495</td>\n",
       "      <td>0.474146</td>\n",
       "      <td>0.474146</td>\n",
       "      <td>0.474146</td>\n",
       "    </tr>\n",
       "    <tr>\n",
       "      <th>2</th>\n",
       "      <td>ns_secW26W27</td>\n",
       "      <td>ns_sec_analyticW26W27</td>\n",
       "      <td>0.981074</td>\n",
       "      <td>0.631230</td>\n",
       "      <td>0.631230</td>\n",
       "      <td>0.631230</td>\n",
       "    </tr>\n",
       "    <tr>\n",
       "      <th>3</th>\n",
       "      <td>ageGroup</td>\n",
       "      <td>age</td>\n",
       "      <td>0.974586</td>\n",
       "      <td>1.000000</td>\n",
       "      <td>1.000000</td>\n",
       "      <td>1.000000</td>\n",
       "    </tr>\n",
       "    <tr>\n",
       "      <th>4</th>\n",
       "      <td>p_edlevelUni</td>\n",
       "      <td>p_edlevel</td>\n",
       "      <td>0.999454</td>\n",
       "      <td>0.870345</td>\n",
       "      <td>0.867869</td>\n",
       "      <td>0.867869</td>\n",
       "    </tr>\n",
       "  </tbody>\n",
       "</table>\n",
       "</div>"
      ],
      "text/plain": [
       "                     var1                   var2      corr     var1%  \\\n",
       "0           voted_ge_2024    genElecTurnoutRetro  0.967328  0.994115   \n",
       "1  ns_sec_analytic_parent          ns_sec_parent  0.984495  0.474146   \n",
       "2            ns_secW26W27  ns_sec_analyticW26W27  0.981074  0.631230   \n",
       "3                ageGroup                    age  0.974586  1.000000   \n",
       "4            p_edlevelUni              p_edlevel  0.999454  0.870345   \n",
       "\n",
       "      var2%  min var%  \n",
       "0  0.997331  0.994115  \n",
       "1  0.474146  0.474146  \n",
       "2  0.631230  0.631230  \n",
       "3  1.000000  1.000000  \n",
       "4  0.867869  0.867869  "
      ]
     },
     "execution_count": 198,
     "metadata": {},
     "output_type": "execute_result"
    }
   ],
   "source": [
    "corr_df[corr_df[\"min var%\"]>missing_value_thresh]"
   ]
  },
  {
   "cell_type": "code",
   "execution_count": null,
   "metadata": {},
   "outputs": [],
   "source": []
  },
  {
   "cell_type": "code",
   "execution_count": 199,
   "metadata": {},
   "outputs": [],
   "source": [
    "# np.linalg.matrix_rank(BES_imputed.values),BES_imputed.shape"
   ]
  },
  {
   "cell_type": "code",
   "execution_count": 200,
   "metadata": {},
   "outputs": [],
   "source": [
    "# BES_imputed.columns[ BES_imputed.isnull().all() ]"
   ]
  },
  {
   "cell_type": "code",
   "execution_count": 201,
   "metadata": {},
   "outputs": [],
   "source": [
    "# BES_Panel[\"JACS_subjectW19\"].value_counts()\n"
   ]
  },
  {
   "cell_type": "code",
   "execution_count": 202,
   "metadata": {},
   "outputs": [],
   "source": [
    "# list( search(BES_Panel,\"p_edlevelW\\d+\").index )"
   ]
  },
  {
   "cell_type": "code",
   "execution_count": 203,
   "metadata": {},
   "outputs": [
    {
     "data": {
      "text/plain": [
       "['p_edlevel', 'voted_ge_2024', 'ageGroup']"
      ]
     },
     "execution_count": 203,
     "metadata": {},
     "output_type": "execute_result"
    }
   ],
   "source": [
    "high_corr_drop_list = []\n",
    "\n",
    "for ind in corr_df.index:\n",
    "    if corr_df.loc[ind][\"var1%\"] == corr_df.loc[ind][\"var2%\"]: # prefer age over ageGroup\n",
    "        options = set(corr_df.loc[ind][[\"var1\" , \"var2\"]].values)\n",
    "        if 'age' in options:\n",
    "#             print(ind, list(options.difference(['age']))[0] )\n",
    "            high_corr_drop_list.append( list(options.difference(['age']))[0] )\n",
    "    elif corr_df.loc[ind][\"var1%\"] < corr_df.loc[ind][\"var2%\"]:\n",
    "#         print(ind, corr_df.loc[ind][\"var1\"])\n",
    "        high_corr_drop_list.append( corr_df.loc[ind][\"var1\"] )\n",
    "    else:\n",
    "#         print(ind, corr_df.loc[ind][\"var2\"])\n",
    "        high_corr_drop_list.append( corr_df.loc[ind][\"var2\"] )\n",
    "    \n",
    "high_corr_drop_list = list( set(high_corr_drop_list) ) # make unique\n",
    "high_corr_drop_list"
   ]
  },
  {
   "cell_type": "code",
   "execution_count": 204,
   "metadata": {},
   "outputs": [],
   "source": [
    "# high_corr_drop_list = ['euRefVoteUnsqueeze', 'euRefVote2', 'euRefVotePost',\n",
    "#                        'ageGroup', 'Age','xsexualityW10','JACS_subjectW19']\n",
    "# high_corr_drop_list.extend(['p_edlevelW1', 'p_edlevelW2', 'p_edlevelW3', 'p_edlevelW4', 'p_edlevelW5', 'p_edlevelW6', 'p_edlevelW7', 'p_edlevelW8', 'p_edlevelW9', 'p_edlevelW10', 'p_edlevelW11', 'p_edlevelW12', 'p_edlevelW13', 'p_edlevelW14', 'p_edlevelW15', 'p_edlevelW16', 'p_edlevelW17', 'p_edlevelW18', 'p_edlevelW19'])\n",
    "high_corr_drop_list = []"
   ]
  },
  {
   "cell_type": "code",
   "execution_count": 205,
   "metadata": {},
   "outputs": [],
   "source": [
    "# pref_list ['age','euRefVote',]\n",
    "\n",
    "\n",
    "# high_corr_drop_list = []\n",
    "\n",
    "# if ('age' in BES_numeric.columns) and ('Age' in BES_numeric.columns):\n",
    "#     high_corr_drop_list.extend('Age')\n",
    "    \n",
    "# if ('ageGroup' in BES_numeric.columns) and ('age' in BES_numeric.columns):\n",
    "#     high_corr_drop_list.extend('ageGroup')\n",
    "    \n",
    "# if ('euRefVote' in BES_numeric.columns) and ('age' in BES_numeric.columns):\n",
    "#     high_corr_drop_list.extend('ageGroup')    \n",
    "\n",
    "# high_corr_drop_list.extend(['euRefVoteUnsqueeze', 'euRefVote2', 'euRefVotePost',\n",
    "#                        'ageGroup', 'voted2015', \"ns_sec\" , 'recallVote15'])\n",
    "# # # \n",
    "# # high_corr_drop_list = ['euRefVoteUnsqueeze', 'euRefVote2', 'euRefVotePost',\n",
    "# #                        'ageGroup', 'Age', 'profile_turnout_2015', \"ns_sec\" , 'profile_past_vote_2015',\"euIDW9\"]\n",
    "\n",
    "# # high_corr_drop_list = [\"euID\",\"ageGroup\",\"euRefpastVote\",\"voted2015\"]"
   ]
  },
  {
   "cell_type": "code",
   "execution_count": 206,
   "metadata": {},
   "outputs": [],
   "source": [
    "### HIGH CORR DROP LIST OVERRIDE\n",
    "# high_corr_drop_list = []"
   ]
  },
  {
   "cell_type": "code",
   "execution_count": 207,
   "metadata": {},
   "outputs": [
    {
     "name": "stdout",
     "output_type": "stream",
     "text": [
      "CPU times: total: 31.2 ms\n",
      "Wall time: 78.9 ms\n"
     ]
    }
   ],
   "source": [
    "%%time\n",
    "## TEST VARIANCES\n",
    "a = BES_imputed.var()\n",
    "b = a<a.quantile(.05)\n",
    "# a[b].hist(bins=100)\n",
    "very_low_var = BES_imputed.columns[b]\n",
    "# a.quantile(.01)"
   ]
  },
  {
   "cell_type": "code",
   "execution_count": 208,
   "metadata": {},
   "outputs": [],
   "source": [
    "# drop columns below certain % filled out (2%)\n",
    "# drop columns which are identical (drop least filled in) or directly derived\n",
    "# make a list of derived columns??? -> scales\n",
    "\n",
    "# WHAT TO REMOVE?\n",
    "# W9_vars\n",
    "# two_opt_cats\n",
    "# many_cat_drop_list\n",
    "# high_corr_drop_list\n",
    "# mostly_not_filled_out\n",
    "# mostly_filled_out"
   ]
  },
  {
   "cell_type": "code",
   "execution_count": 209,
   "metadata": {},
   "outputs": [
    {
     "data": {
      "text/plain": [
       "0"
      ]
     },
     "execution_count": 209,
     "metadata": {},
     "output_type": "execute_result"
    }
   ],
   "source": [
    "gc.collect()\n",
    "# BES_numeric[BES_numeric.columns[0:1000]].var()"
   ]
  },
  {
   "cell_type": "code",
   "execution_count": 210,
   "metadata": {},
   "outputs": [],
   "source": [
    "gc.collect()\n",
    "a = BES_numeric.var()\n",
    "# a[b].hist(bins=100)\n",
    "very_low_var = BES_imputed.columns[a<a.quantile(.05)]"
   ]
  },
  {
   "cell_type": "code",
   "execution_count": 211,
   "metadata": {},
   "outputs": [],
   "source": [
    "very_low_var = []"
   ]
  },
  {
   "cell_type": "code",
   "execution_count": 212,
   "metadata": {},
   "outputs": [],
   "source": [
    "# mostly_not_filled_out =[]"
   ]
  },
  {
   "cell_type": "code",
   "execution_count": 213,
   "metadata": {},
   "outputs": [],
   "source": [
    "# many_cat_drop_list =[]"
   ]
  },
  {
   "cell_type": "code",
   "execution_count": 214,
   "metadata": {},
   "outputs": [
    {
     "data": {
      "text/plain": [
       "0"
      ]
     },
     "execution_count": 214,
     "metadata": {},
     "output_type": "execute_result"
    }
   ],
   "source": [
    "gc.collect()"
   ]
  },
  {
   "cell_type": "code",
   "execution_count": 215,
   "metadata": {},
   "outputs": [],
   "source": [
    "# high_corr_drop_list = []"
   ]
  },
  {
   "cell_type": "code",
   "execution_count": 216,
   "metadata": {},
   "outputs": [],
   "source": [
    "# high_corr_drop_list"
   ]
  },
  {
   "cell_type": "code",
   "execution_count": 217,
   "metadata": {},
   "outputs": [],
   "source": [
    "high_corr_drop_list = []"
   ]
  },
  {
   "cell_type": "code",
   "execution_count": 218,
   "metadata": {},
   "outputs": [
    {
     "name": "stdout",
     "output_type": "stream",
     "text": [
      "(31098, 457)\n",
      "many_cat_drop_list (31098, 455)\n",
      "Index(['new_pcon', 'pcon'], dtype='object')\n",
      "high_corr_drop_list (31098, 455)\n",
      "mostly_not_filled_out (31098, 324)\n",
      "very_low_var (31098, 324)\n"
     ]
    }
   ],
   "source": [
    "# Time to dump some variables!\n",
    "# (The results of this may have been exported back to the Imputation script\n",
    "# if it looks like nothing is happening, that's why!)\n",
    "\n",
    "\n",
    "BES_reduced = BES_imputed.copy()\n",
    "cols = BES_reduced.columns\n",
    "print(BES_reduced.shape)\n",
    "\n",
    "# # Wave 9 stuff\n",
    "# BES_reduced.drop(W9_vars,axis=1,errors='ignore',inplace=True)\n",
    "# print(\"W9_vars\", BES_reduced.shape)\n",
    "# drop_cols = cols.difference(BES_reduced.columns)\n",
    "# if ( (len(drop_cols) >0) and (len(drop_cols) <= 10) ): print(drop_cols) \n",
    "# cols = BES_reduced.columns\n",
    "\n",
    "# Categorical variables with a huge number of categories\n",
    "BES_reduced.drop(many_cat_drop_list,axis=1,errors='ignore',inplace=True)\n",
    "print(\"many_cat_drop_list\", BES_reduced.shape)\n",
    "drop_cols = cols.difference(BES_reduced.columns)\n",
    "if ( (len(drop_cols) >0) and (len(drop_cols) <= 10) ): print(drop_cols) \n",
    "cols = BES_reduced.columns\n",
    "\n",
    "# Variables which are redundant through very high correlation with other variables\n",
    "BES_reduced.drop(high_corr_drop_list,axis=1,errors='ignore',inplace=True)\n",
    "print(\"high_corr_drop_list\", BES_reduced.shape)\n",
    "drop_cols = cols.difference(BES_reduced.columns)\n",
    "if ( (len(drop_cols) >0) and (len(drop_cols) <= 10) ): print(drop_cols) \n",
    "cols = BES_reduced.columns\n",
    "\n",
    "# Variables with 'too many' missing values\n",
    "BES_reduced.drop(mostly_not_filled_out,axis=1,errors='ignore',inplace=True)\n",
    "print(\"mostly_not_filled_out\", BES_reduced.shape)\n",
    "drop_cols = cols.difference(BES_reduced.columns)\n",
    "if ( (len(drop_cols) >0) and (len(drop_cols) <= 10) ): print(drop_cols) \n",
    "cols = BES_reduced.columns\n",
    "\n",
    "# Variables with 'too low' variance\n",
    "BES_reduced.drop(very_low_var,axis=1,errors='ignore',inplace=True) \n",
    "print(\"very_low_var\", BES_reduced.shape)\n",
    "drop_cols = cols.difference(BES_reduced.columns)\n",
    "if ( (len(drop_cols) >0) and (len(drop_cols) <= 10) ): print(drop_cols) \n",
    "cols = BES_reduced.columns"
   ]
  },
  {
   "cell_type": "code",
   "execution_count": 219,
   "metadata": {},
   "outputs": [],
   "source": [
    "# necessary because some imputation types impute values outside of range of available values\n",
    "# kind of suggests ... maybe not such good imputation methods??\n",
    "def float_2_categorical(series,cat_dict):\n",
    "    ser = series.astype('int')\n",
    "    ser = ser.apply( lambda x : min( x , len( cat_dict ) - 1) )\n",
    "    ser = ser.apply( lambda x : max( x , 0 ) )\n",
    "    ser = ser.apply( lambda x: cat_dict[x] )  \n",
    "    return ser"
   ]
  },
  {
   "cell_type": "code",
   "execution_count": 220,
   "metadata": {},
   "outputs": [],
   "source": [
    "# problem\n",
    "#  'xprofile_house_tenure': 'Own â\\x80\\x93 outright',"
   ]
  },
  {
   "cell_type": "code",
   "execution_count": 221,
   "metadata": {},
   "outputs": [],
   "source": [
    "# reorder categories in a categorical variable so that the most numerous subcategory goes first\n",
    "# so it can be dropped automatically when dummying\n",
    "# also, return name of reference subcategory\n",
    "def select_reference_subcategory(non_ordinal):\n",
    "    order = BES_numeric[non_ordinal]\\\n",
    "        .dropna().astype('int').apply( lambda x: cat_dictionary[non_ordinal][x] ).value_counts().index\n",
    "    return BES_reduced[non_ordinal].astype('category').cat.reorder_categories( order ), order[0]"
   ]
  },
  {
   "cell_type": "code",
   "execution_count": 222,
   "metadata": {},
   "outputs": [],
   "source": [
    "# Recreate and rename categorical non_ordinal and ordinal variables:\n",
    "# ordinal two categories -> one single dummy binary variable labelled with positive category name (e.g gender_female)\n",
    "# ordinal 3+ category variables just renamed to append \"__top_value\" to variable name\n",
    "# non-ordinal 3+ categories -> split to individual dummy binary variables \"category_subcateory\"\n",
    "\n",
    "# need to create a dict of new_variable_names with old col names\n",
    "# to allow reinsertion of missing values, say\n",
    "new_old_col_names = dict()\n",
    "# we need to drop one sub-category for each categorical variable we dummy\n",
    "# advice supports obvious guess - always choose most numerous subcategory to the reference subcategory\n",
    "non_ordinal_base_subcat = dict()\n"
   ]
  },
  {
   "cell_type": "code",
   "execution_count": 223,
   "metadata": {},
   "outputs": [],
   "source": [
    "# NON-ORDINAL CATEGORICAL VARIABLES\n",
    "# get split into one variable for each category\n",
    "# NOTE: Dummy variable/multicollinearity trap\n",
    "# we need to choose a base variable for each category and drop it!\n",
    "drop_reference = False\n",
    "\n",
    "non_ordinal_list = var_type[ var_type[\"type\"]==3 ].index.intersection(BES_reduced.columns)\n",
    "for non_ordinal in non_ordinal_list:\n",
    "    # return to text categories!\n",
    "    BES_reduced[non_ordinal] = float_2_categorical(BES_reduced[non_ordinal],\n",
    "                                                   cat_dictionary[non_ordinal])\n",
    "    # reorder to place most numerous subcategory first\n",
    "    BES_reduced[non_ordinal], non_ordinal_base_subcat[non_ordinal] = \\\n",
    "        select_reference_subcategory( non_ordinal  )\n",
    "    \n",
    "    # create dictionary so we have a record of which variable all newly generated ones come from!\n",
    "    for subcat in cat_dictionary[non_ordinal]:\n",
    "        new_col_name = non_ordinal + \"_\" + subcat\n",
    "        new_old_col_names[new_col_name] = non_ordinal\n",
    "\n",
    "if drop_reference == True:\n",
    "    BES_reduced = pd.get_dummies( BES_reduced, columns=non_ordinal_list, drop_first=True ) \n",
    "else:\n",
    "    BES_reduced = pd.get_dummies( BES_reduced, columns=non_ordinal_list, drop_first=False )\n",
    "    "
   ]
  },
  {
   "cell_type": "code",
   "execution_count": null,
   "metadata": {},
   "outputs": [],
   "source": []
  },
  {
   "cell_type": "code",
   "execution_count": 224,
   "metadata": {},
   "outputs": [],
   "source": [
    "# BINARY CATEGORICAL VARIABLES\n",
    "# get renamed with 'top' value separated by single underscore\n",
    "# (this is the same as with non-ordinal variables - maybe use a different convention - like ___)\n",
    "# i.e. haveDependents -> haveDependents_No\n",
    "\n",
    "two_opt_cats = opts_per_cat[opts_per_cat==2].index.intersection(BES_reduced.columns)\n",
    "for col in two_opt_cats:\n",
    "    BES_reduced[col] = BES_reduced[col]\\\n",
    "    .astype('int').apply( lambda x: cat_dictionary[col][x] )\\\n",
    "    .astype('category').cat.reorder_categories(cat_dictionary[col])\n",
    "    \n",
    "    new_col_name = col + \"_\" + cat_dictionary[col][1]\n",
    "    new_old_col_names[new_col_name] = col\n",
    "    \n",
    "BES_reduced = pd.get_dummies( BES_reduced, columns=two_opt_cats, drop_first=True )"
   ]
  },
  {
   "cell_type": "code",
   "execution_count": null,
   "metadata": {},
   "outputs": [],
   "source": []
  },
  {
   "cell_type": "code",
   "execution_count": null,
   "metadata": {},
   "outputs": [],
   "source": []
  },
  {
   "cell_type": "code",
   "execution_count": null,
   "metadata": {},
   "outputs": [],
   "source": []
  },
  {
   "cell_type": "code",
   "execution_count": null,
   "metadata": {},
   "outputs": [],
   "source": []
  },
  {
   "cell_type": "code",
   "execution_count": 225,
   "metadata": {},
   "outputs": [
    {
     "name": "stdout",
     "output_type": "stream",
     "text": [
      "BES_reduced (31098, 749)\n"
     ]
    }
   ],
   "source": [
    "# ORDINAL CATEGORICAL VARIABLES\n",
    "# get renamed with 'top' value separated by double underscore\n",
    "# i.e. likeBoris -> likeBoris__Strongly Agree\n",
    "\n",
    "ordinal_list = var_type[ var_type[\"type\"].apply(lambda x: x in [1,2,5]) ].index.intersection(BES_reduced.columns)\n",
    "for ordinal in ordinal_list:\n",
    "    new_col_name = ordinal + \"__\" + (cat_dictionary[ordinal])[-1:][0]\n",
    "    BES_reduced.rename(columns={ordinal:new_col_name}, inplace=True)\n",
    "    new_old_col_names[new_col_name] = ordinal\n",
    "    \n",
    "print(\"BES_reduced\",BES_reduced.shape)"
   ]
  },
  {
   "cell_type": "code",
   "execution_count": 226,
   "metadata": {},
   "outputs": [],
   "source": [
    "# save decomp object    \n",
    "fname = data_subfolder + \"new_old_col_names.pkl\"\n",
    "\n",
    "with open(fname, \"wb\") as f:\n",
    "    pickle.dump( new_old_col_names, f )"
   ]
  },
  {
   "cell_type": "code",
   "execution_count": 227,
   "metadata": {},
   "outputs": [
    {
     "name": "stdout",
     "output_type": "stream",
     "text": [
      "           BES_reduced_with_na: 180.0MiB\n",
      "                   BES_numeric: 108.4MiB\n",
      "                     BES_Panel:  23.0MiB\n",
      "                   BES_reduced:  22.2MiB\n",
      "                   BES_imputed:  14.1MiB\n",
      "                      corr_mat: 864.5KiB\n",
      "                            df: 816.0KiB\n",
      "                         corrs: 815.9KiB\n",
      "                      var_type: 414.9KiB\n",
      "         counts_by_individuals: 243.1KiB\n"
     ]
    }
   ],
   "source": [
    "memory_use(locs = locals().items())"
   ]
  },
  {
   "cell_type": "code",
   "execution_count": 228,
   "metadata": {},
   "outputs": [
    {
     "name": "stdout",
     "output_type": "stream",
     "text": [
      "           BES_reduced_with_na: 180.0MiB\n",
      "                   BES_numeric: 108.4MiB\n",
      "                     BES_Panel:  23.0MiB\n",
      "                   BES_reduced:  22.2MiB\n",
      "                   BES_imputed:  14.1MiB\n",
      "                      corr_mat: 864.5KiB\n",
      "                            df: 816.0KiB\n",
      "                         corrs: 815.9KiB\n",
      "                      var_type: 414.9KiB\n",
      "         counts_by_individuals: 243.1KiB\n"
     ]
    }
   ],
   "source": [
    "memory_use(locs = locals().items())"
   ]
  },
  {
   "cell_type": "code",
   "execution_count": 229,
   "metadata": {},
   "outputs": [
    {
     "data": {
      "text/plain": [
       "bool     597\n",
       "uint8    152\n",
       "Name: count, dtype: int64"
      ]
     },
     "execution_count": 229,
     "metadata": {},
     "output_type": "execute_result"
    }
   ],
   "source": [
    "BES_reduced.dtypes.value_counts()"
   ]
  },
  {
   "cell_type": "code",
   "execution_count": 230,
   "metadata": {},
   "outputs": [],
   "source": [
    "# BES_reduced_with_na.dtypes.value_counts()"
   ]
  },
  {
   "cell_type": "code",
   "execution_count": 231,
   "metadata": {},
   "outputs": [
    {
     "name": "stdout",
     "output_type": "stream",
     "text": [
      "CPU times: total: 141 ms\n",
      "Wall time: 313 ms\n"
     ]
    }
   ],
   "source": [
    "%%time\n",
    "## slow! 2h 47min 41s\n",
    "\n",
    "# 4h 19min 35s!!!?\n",
    "\n",
    "\n",
    "## We should do correlation testing on a version with missing values\n",
    "## and may also wish an output with missing values (e.g. to run weightedPCA on)\n",
    "## Which means reinserting missing values\n",
    "\n",
    "BES_reduced_with_na = BES_reduced.copy()\n",
    "BES_reduced_with_na.index = BES_Panel.index\n",
    "\n",
    "col_list = []\n",
    "\n",
    "for col in BES_reduced_with_na:\n",
    "    if col in new_old_col_names.keys():\n",
    "        old_col = new_old_col_names[col]\n",
    "        col_list.append(old_col)\n",
    "#         null_series = BES_numeric[old_col].isnull()\n",
    "    else:\n",
    "        col_list.append(col)\n",
    "#         null_series = BES_numeric[col].isnull()\n",
    "\n",
    "\n",
    "# BES_reduced_with_na.loc[null_series,col] = np.nan\n",
    "BES_reduced_with_na.where( BES_numeric[col_list].notnull().values,other =np.nan, inplace=True )\n",
    "\n",
    "    \n",
    "    # 2 option ordinal (name change)\n",
    "    # 3+ option ordinal (name change)\n",
    "    # categorical (split into lots of variables)\n",
    "    # other (no name change)"
   ]
  },
  {
   "cell_type": "code",
   "execution_count": null,
   "metadata": {},
   "outputs": [],
   "source": []
  },
  {
   "cell_type": "code",
   "execution_count": 232,
   "metadata": {},
   "outputs": [
    {
     "data": {
      "text/plain": [
       "((31098, 749), 749)"
      ]
     },
     "execution_count": 232,
     "metadata": {},
     "output_type": "execute_result"
    }
   ],
   "source": [
    "BES_reduced_with_na.shape, len(col_list)"
   ]
  },
  {
   "cell_type": "code",
   "execution_count": 233,
   "metadata": {},
   "outputs": [
    {
     "data": {
      "text/plain": [
       "generalElectionVote             4926\n",
       "generalElectionVoteNonVoter    28905\n",
       "partyId                         1752\n",
       "partyIdSqueeze                 22740\n",
       "partyIdStrength                 6607\n",
       "                               ...  \n",
       "p_turnout_2005                 10489\n",
       "p_turnout_scot_ref             21007\n",
       "p_edlevel                       4109\n",
       "p_edlevelUni                    4032\n",
       "p_eurefturnout                   387\n",
       "Length: 457, dtype: int64"
      ]
     },
     "execution_count": 233,
     "metadata": {},
     "output_type": "execute_result"
    }
   ],
   "source": [
    "BES_numeric.isnull().sum()"
   ]
  },
  {
   "cell_type": "code",
   "execution_count": 234,
   "metadata": {},
   "outputs": [
    {
     "data": {
      "text/plain": [
       "mii_cat_llm_12.0                                       0\n",
       "mii_cat_llm_17.0                                       0\n",
       "mii_cat_llm_48.0                                       0\n",
       "mii_cat_llm_27.0                                       0\n",
       "mii_cat_llm_28.0                                       0\n",
       "                                                   ...  \n",
       "welshElectionVoteNew_Abolish the Assembly Party    29541\n",
       "welshElectionVoteNew_Reform UK                     29541\n",
       "welshElectionVoteNew_Labour                        29541\n",
       "welshElectionVoteNew_Liberal Democrat              29541\n",
       "welshElectionVoteNew_Plaid Cymru                   29541\n",
       "Length: 749, dtype: int64"
      ]
     },
     "execution_count": 234,
     "metadata": {},
     "output_type": "execute_result"
    }
   ],
   "source": [
    "BES_reduced_with_na.isnull().sum().sort_values()"
   ]
  },
  {
   "cell_type": "code",
   "execution_count": 235,
   "metadata": {},
   "outputs": [
    {
     "data": {
      "text/plain": [
       "partyIdStrength__Not very strong                                                  0\n",
       "p_marital_In a relationship, but not living together                              0\n",
       "p_marital_Separated but still legally married or in a civil partnership           0\n",
       "p_marital_In a civil partnership                                                  0\n",
       "p_religion_No, I do not regard myself as belonging to any particular religion.    0\n",
       "                                                                                 ..\n",
       "mii_cat_llm_15.0                                                                  0\n",
       "mii_cat_llm_33.0                                                                  0\n",
       "mii_cat_llm_23.0                                                                  0\n",
       "mii_cat_llm_46.0                                                                  0\n",
       "preschoolKidsInHouseW26_Yes                                                       0\n",
       "Length: 749, dtype: int64"
      ]
     },
     "execution_count": 235,
     "metadata": {},
     "output_type": "execute_result"
    }
   ],
   "source": [
    "BES_reduced.isnull().sum().sort_values()"
   ]
  },
  {
   "cell_type": "code",
   "execution_count": 236,
   "metadata": {},
   "outputs": [
    {
     "data": {
      "text/plain": [
       "['partyIdStrength',\n",
       " 'anyUniW26W27',\n",
       " 'voteMethoda',\n",
       " 'polAttention',\n",
       " 'pidWeThey',\n",
       " 'pidInterestedOthers',\n",
       " 'pidCriticiseParty',\n",
       " 'pidCommonParty',\n",
       " 'pidConnected',\n",
       " 'pidPraiseGood',\n",
       " 'pidWeTheyb',\n",
       " 'pidInterestedOthersb',\n",
       " 'pidCriticisePartyb',\n",
       " 'pidCommonPartyb',\n",
       " 'pidConnectedb',\n",
       " 'pidPraiseGoodb',\n",
       " 'likeSunak',\n",
       " 'likeStarmer',\n",
       " 'likeDavey',\n",
       " 'likeSwinney',\n",
       " 'likeFarage',\n",
       " 'likeRamsay',\n",
       " 'likeDenyer',\n",
       " 'likeCon',\n",
       " 'likeLab',\n",
       " 'likeLD',\n",
       " 'likeSNP',\n",
       " 'likePC',\n",
       " 'likeBrexitParty',\n",
       " 'likeGrn',\n",
       " 'econPersonalProsp',\n",
       " 'econGenProsp',\n",
       " 'econPersonalRetro',\n",
       " 'econGenRetro',\n",
       " 'EUIntegrationSelf',\n",
       " 'EUIntegrationCon',\n",
       " 'EUIntegrationLab',\n",
       " 'EUIntegrationLD',\n",
       " 'EUIntegrationSNP',\n",
       " 'EUIntegrationGreen',\n",
       " 'EUIntegrationBrexit',\n",
       " 'leftRight',\n",
       " 'satDemUK',\n",
       " 'satDemScot',\n",
       " 'satDemWales',\n",
       " 'satDemEng',\n",
       " 'redistSelf',\n",
       " 'redistCon',\n",
       " 'redistLab',\n",
       " 'redistLD',\n",
       " 'redistSNP',\n",
       " 'redistBrexit',\n",
       " 'redistGreen',\n",
       " 'immigSelf',\n",
       " 'immigCon',\n",
       " 'immigLab',\n",
       " 'immigLD',\n",
       " 'immigSNP',\n",
       " 'immigBrexit',\n",
       " 'immigGreen',\n",
       " 'expectGoodConductGeneral',\n",
       " 'scotReferendumIntention',\n",
       " 'sovereignty1',\n",
       " 'sovereignty2',\n",
       " 'partyContactConFreq2',\n",
       " 'partyContactLabFreq2',\n",
       " 'partyContactLabFreq3',\n",
       " 'partyContactLDFreq2',\n",
       " 'partyContactGreenFreq2',\n",
       " 'partyContactBrexitFreq2',\n",
       " 'infoSourceTV',\n",
       " 'infoSourcePaper',\n",
       " 'infoSourceRadio',\n",
       " 'infoSourceInternet',\n",
       " 'infoSourcePeople',\n",
       " 'voterIDSupport',\n",
       " 'trustMPs',\n",
       " 'britishness',\n",
       " 'scottishness',\n",
       " 'welshness',\n",
       " 'englishness',\n",
       " 'europeanness',\n",
       " 'conLookAfterBA',\n",
       " 'conLookAfterMC',\n",
       " 'conLookAfterWC',\n",
       " 'conLookAfterYoung',\n",
       " 'conLookAfterRetired',\n",
       " 'labLookAfterBA',\n",
       " 'labLookAfterMC',\n",
       " 'labLookAfterWC',\n",
       " 'labLookAfterYoung',\n",
       " 'labLookAfterRetired',\n",
       " 'brexitLookAfterBA',\n",
       " 'brexitLookAfterMC',\n",
       " 'brexitLookAfterWC',\n",
       " 'brexitLookAfterYoung',\n",
       " 'brexitLookAfterRetired',\n",
       " 'ldLookAfterBA',\n",
       " 'ldLookAfterMC',\n",
       " 'ldLookAfterWC',\n",
       " 'ldLookAfterYoung',\n",
       " 'ldLookAfterRetired',\n",
       " 'grnLookAfterBA',\n",
       " 'grnLookAfterMC',\n",
       " 'grnLookAfterWC',\n",
       " 'grnLookAfterYoung',\n",
       " 'grnLookAfterRetired',\n",
       " 'con_Ideas',\n",
       " 'lab_Ideas',\n",
       " 'ld_Ideas',\n",
       " 'brexit_Ideas',\n",
       " 'grn_Ideas',\n",
       " 'conTrust',\n",
       " 'labTrust',\n",
       " 'ldTrust',\n",
       " 'brexitTrust',\n",
       " 'grnTrust',\n",
       " 'conCompetent',\n",
       " 'labCompetent',\n",
       " 'ldCompetent',\n",
       " 'brexitCompetent',\n",
       " 'grnCompetent',\n",
       " 'lr1W27',\n",
       " 'lr2W27',\n",
       " 'lr3W27',\n",
       " 'lr4W27',\n",
       " 'lr5W27',\n",
       " 'al1W27',\n",
       " 'al2W27',\n",
       " 'al3W27',\n",
       " 'al4W27',\n",
       " 'al5W27',\n",
       " 'lr_scaleW27',\n",
       " 'al_scaleW27',\n",
       " 'parentOccOrgSize',\n",
       " 'parentNumEmployees',\n",
       " 'edlevelParent',\n",
       " 'selfOccOrgSizeW26W27',\n",
       " 'selfOccOrgSizeLastW26W27',\n",
       " 'occCheckW26W27',\n",
       " 'age',\n",
       " 'ageGroup',\n",
       " 'p_hh_children',\n",
       " 'p_gross_household',\n",
       " 'p_gross_personal',\n",
       " 'p_hh_size',\n",
       " 'p_socgrade',\n",
       " 'p_education_age',\n",
       " 'p_disability',\n",
       " 'p_turnout_scot_ref',\n",
       " 'p_edlevel',\n",
       " 'p_edlevelUni',\n",
       " 'generalElectionVote',\n",
       " 'generalElectionVote',\n",
       " 'generalElectionVote',\n",
       " 'generalElectionVote',\n",
       " 'generalElectionVote',\n",
       " 'generalElectionVote',\n",
       " 'generalElectionVote',\n",
       " 'generalElectionVote',\n",
       " 'generalElectionVoteNonVoter',\n",
       " 'generalElectionVoteNonVoter',\n",
       " 'generalElectionVoteNonVoter',\n",
       " 'generalElectionVoteNonVoter',\n",
       " 'generalElectionVoteNonVoter',\n",
       " 'generalElectionVoteNonVoter',\n",
       " 'generalElectionVoteNonVoter',\n",
       " 'generalElectionVoteNonVoter',\n",
       " 'partyId',\n",
       " 'partyId',\n",
       " 'partyId',\n",
       " 'partyId',\n",
       " 'partyId',\n",
       " 'partyId',\n",
       " 'partyId',\n",
       " 'partyId',\n",
       " 'partyIdSqueeze',\n",
       " 'partyIdSqueeze',\n",
       " 'partyIdSqueeze',\n",
       " 'partyIdSqueeze',\n",
       " 'partyIdSqueeze',\n",
       " 'partyIdSqueeze',\n",
       " 'partyIdSqueeze',\n",
       " 'partyIdSqueeze',\n",
       " 'bestOnMII',\n",
       " 'bestOnMII',\n",
       " 'bestOnMII',\n",
       " 'bestOnMII',\n",
       " 'bestOnMII',\n",
       " 'bestOnMII',\n",
       " 'bestOnMII',\n",
       " 'bestOnMII',\n",
       " 'bestOnMII',\n",
       " 'sectorW26W27',\n",
       " 'sectorW26W27',\n",
       " 'sectorW26W27',\n",
       " 'sectorW26W27',\n",
       " 'sectorW26W27',\n",
       " 'sectorW26W27',\n",
       " 'reasonForVote',\n",
       " 'reasonForVote',\n",
       " 'reasonForVote',\n",
       " 'reasonForVote',\n",
       " 'reasonForVote',\n",
       " 'partyPreferred',\n",
       " 'partyPreferred',\n",
       " 'partyPreferred',\n",
       " 'partyPreferred',\n",
       " 'partyPreferred',\n",
       " 'partyPreferred',\n",
       " 'partyPreferred',\n",
       " 'scotElectionVoteConst',\n",
       " 'scotElectionVoteConst',\n",
       " 'scotElectionVoteConst',\n",
       " 'scotElectionVoteConst',\n",
       " 'scotElectionVoteConst',\n",
       " 'scotElectionVoteConst',\n",
       " 'scotElectionVoteList',\n",
       " 'scotElectionVoteList',\n",
       " 'scotElectionVoteList',\n",
       " 'scotElectionVoteList',\n",
       " 'scotElectionVoteList',\n",
       " 'scotElectionVoteList',\n",
       " 'welshElectionVoteNew',\n",
       " 'welshElectionVoteNew',\n",
       " 'welshElectionVoteNew',\n",
       " 'welshElectionVoteNew',\n",
       " 'welshElectionVoteNew',\n",
       " 'welshElectionVoteNew',\n",
       " 'welshElectionVoteNew',\n",
       " 'welshElectionVoteNew',\n",
       " 'registered',\n",
       " 'registered',\n",
       " 'registered',\n",
       " 'disapprovalVote',\n",
       " 'disapprovalVote',\n",
       " 'disapprovalVote',\n",
       " 'disapprovalVote',\n",
       " 'disapprovalVote',\n",
       " 'disapprovalVote',\n",
       " 'disapprovalVote',\n",
       " 'mii_cat_llm',\n",
       " 'mii_cat_llm',\n",
       " 'mii_cat_llm',\n",
       " 'mii_cat_llm',\n",
       " 'mii_cat_llm',\n",
       " 'mii_cat_llm',\n",
       " 'mii_cat_llm',\n",
       " 'mii_cat_llm',\n",
       " 'mii_cat_llm',\n",
       " 'mii_cat_llm',\n",
       " 'mii_cat_llm',\n",
       " 'mii_cat_llm',\n",
       " 'mii_cat_llm',\n",
       " 'mii_cat_llm',\n",
       " 'mii_cat_llm',\n",
       " 'mii_cat_llm',\n",
       " 'mii_cat_llm',\n",
       " 'mii_cat_llm',\n",
       " 'mii_cat_llm',\n",
       " 'mii_cat_llm',\n",
       " 'mii_cat_llm',\n",
       " 'mii_cat_llm',\n",
       " 'mii_cat_llm',\n",
       " 'mii_cat_llm',\n",
       " 'mii_cat_llm',\n",
       " 'mii_cat_llm',\n",
       " 'mii_cat_llm',\n",
       " 'mii_cat_llm',\n",
       " 'mii_cat_llm',\n",
       " 'mii_cat_llm',\n",
       " 'mii_cat_llm',\n",
       " 'mii_cat_llm',\n",
       " 'mii_cat_llm',\n",
       " 'mii_cat_llm',\n",
       " 'mii_cat_llm',\n",
       " 'mii_cat_llm',\n",
       " 'mii_cat_llm',\n",
       " 'mii_cat_llm',\n",
       " 'mii_cat_llm',\n",
       " 'mii_cat_llm',\n",
       " 'mii_cat_llm',\n",
       " 'mii_cat_llm',\n",
       " 'mii_cat_llm',\n",
       " 'mii_cat_llm',\n",
       " 'mii_cat_llm',\n",
       " 'mii_cat_llm',\n",
       " 'mii_cat_llm',\n",
       " 'mii_cat_llm',\n",
       " 'subjClassW27',\n",
       " 'subjClassW27',\n",
       " 'subjClassW27',\n",
       " 'small_mii_cat_llm',\n",
       " 'small_mii_cat_llm',\n",
       " 'small_mii_cat_llm',\n",
       " 'small_mii_cat_llm',\n",
       " 'small_mii_cat_llm',\n",
       " 'small_mii_cat_llm',\n",
       " 'small_mii_cat_llm',\n",
       " 'small_mii_cat_llm',\n",
       " 'small_mii_cat_llm',\n",
       " 'small_mii_cat_llm',\n",
       " 'small_mii_cat_llm',\n",
       " 'LRAL_mii_cat_llm',\n",
       " 'LRAL_mii_cat_llm',\n",
       " 'LRAL_mii_cat_llm',\n",
       " 'headHouseholdPast',\n",
       " 'headHouseholdPast',\n",
       " 'headHouseholdPast',\n",
       " 'headHouseholdPast',\n",
       " 'parentEducation',\n",
       " 'parentEducation',\n",
       " 'parentEducation',\n",
       " 'parentEducation',\n",
       " 'parentEducation',\n",
       " 'parentEducation',\n",
       " 'parentEducation',\n",
       " 'parentEducation',\n",
       " 'parentEducation',\n",
       " 'parentEducation',\n",
       " 'parentEducation',\n",
       " 'parentEducation',\n",
       " 'parentEducation',\n",
       " 'parentEducation',\n",
       " 'parentEducation',\n",
       " 'parentEducation',\n",
       " 'parentEducation',\n",
       " 'parentEducation',\n",
       " 'ns_sec_parent',\n",
       " 'ns_sec_parent',\n",
       " 'ns_sec_parent',\n",
       " 'ns_sec_parent',\n",
       " 'ns_sec_parent',\n",
       " 'ns_sec_parent',\n",
       " 'ns_sec_parent',\n",
       " 'ns_sec_parent',\n",
       " 'ns_sec_parent',\n",
       " 'ns_sec_parent',\n",
       " 'ns_sec_parent',\n",
       " 'ns_sec_parent',\n",
       " 'ns_sec_parent',\n",
       " 'ns_sec_parent',\n",
       " 'ns_sec_parent',\n",
       " 'ns_sec_parent',\n",
       " 'ns_sec_parent',\n",
       " 'ns_sec_parent',\n",
       " 'ns_sec_parent',\n",
       " 'ns_sec_parent',\n",
       " 'ns_sec_parent',\n",
       " 'ns_sec_parent',\n",
       " 'ns_sec_parent',\n",
       " 'ns_sec_parent',\n",
       " 'ns_sec_parent',\n",
       " 'ns_sec_parent',\n",
       " 'ns_sec_parent',\n",
       " 'ns_sec_parent',\n",
       " 'ns_sec_parent',\n",
       " 'ns_sec_parent',\n",
       " 'ns_sec_parent',\n",
       " 'ns_sec_parent',\n",
       " 'ns_sec_parent',\n",
       " 'ns_sec_parent',\n",
       " 'ns_sec_parent',\n",
       " 'ns_sec_analytic_parent',\n",
       " 'ns_sec_analytic_parent',\n",
       " 'ns_sec_analytic_parent',\n",
       " 'ns_sec_analytic_parent',\n",
       " 'ns_sec_analytic_parent',\n",
       " 'ns_sec_analytic_parent',\n",
       " 'ns_sec_analytic_parent',\n",
       " 'ns_sec_analytic_parent',\n",
       " 'workingStatusW26W27',\n",
       " 'workingStatusW26W27',\n",
       " 'workingStatusW26W27',\n",
       " 'workingStatusW26W27',\n",
       " 'workingStatusW26W27',\n",
       " 'workingStatusW26W27',\n",
       " 'workingStatusW26W27',\n",
       " 'workingStatusW26W27',\n",
       " 'ns_sec_analyticW26W27',\n",
       " 'ns_sec_analyticW26W27',\n",
       " 'ns_sec_analyticW26W27',\n",
       " 'ns_sec_analyticW26W27',\n",
       " 'ns_sec_analyticW26W27',\n",
       " 'ns_sec_analyticW26W27',\n",
       " 'ns_sec_analyticW26W27',\n",
       " 'ns_sec_analyticW26W27',\n",
       " 'ns_secW26W27',\n",
       " 'ns_secW26W27',\n",
       " 'ns_secW26W27',\n",
       " 'ns_secW26W27',\n",
       " 'ns_secW26W27',\n",
       " 'ns_secW26W27',\n",
       " 'ns_secW26W27',\n",
       " 'ns_secW26W27',\n",
       " 'ns_secW26W27',\n",
       " 'ns_secW26W27',\n",
       " 'ns_secW26W27',\n",
       " 'ns_secW26W27',\n",
       " 'ns_secW26W27',\n",
       " 'ns_secW26W27',\n",
       " 'ns_secW26W27',\n",
       " 'ns_secW26W27',\n",
       " 'ns_secW26W27',\n",
       " 'ns_secW26W27',\n",
       " 'ns_secW26W27',\n",
       " 'ns_secW26W27',\n",
       " 'ns_secW26W27',\n",
       " 'ns_secW26W27',\n",
       " 'ns_secW26W27',\n",
       " 'ns_secW26W27',\n",
       " 'ns_secW26W27',\n",
       " 'ns_secW26W27',\n",
       " 'ns_secW26W27',\n",
       " 'ns_secW26W27',\n",
       " 'ns_secW26W27',\n",
       " 'ns_secW26W27',\n",
       " 'ns_secW26W27',\n",
       " 'ns_secW26W27',\n",
       " 'ns_secW26W27',\n",
       " 'ns_secW26W27',\n",
       " 'ns_secW26W27',\n",
       " 'country',\n",
       " 'country',\n",
       " 'country',\n",
       " 'gor',\n",
       " 'gor',\n",
       " 'gor',\n",
       " 'gor',\n",
       " 'gor',\n",
       " 'gor',\n",
       " 'gor',\n",
       " 'gor',\n",
       " 'gor',\n",
       " 'gor',\n",
       " 'gor',\n",
       " 'p_education',\n",
       " 'p_education',\n",
       " 'p_education',\n",
       " 'p_education',\n",
       " 'p_education',\n",
       " 'p_education',\n",
       " 'p_education',\n",
       " 'p_education',\n",
       " 'p_education',\n",
       " 'p_education',\n",
       " 'p_education',\n",
       " 'p_education',\n",
       " 'p_education',\n",
       " 'p_education',\n",
       " 'p_education',\n",
       " 'p_education',\n",
       " 'p_education',\n",
       " 'p_education',\n",
       " 'p_work_stat',\n",
       " 'p_work_stat',\n",
       " 'p_work_stat',\n",
       " 'p_work_stat',\n",
       " 'p_work_stat',\n",
       " 'p_work_stat',\n",
       " 'p_work_stat',\n",
       " 'p_housing',\n",
       " 'p_housing',\n",
       " 'p_housing',\n",
       " 'p_housing',\n",
       " 'p_housing',\n",
       " 'p_housing',\n",
       " 'p_housing',\n",
       " 'p_housing',\n",
       " 'p_sexuality',\n",
       " 'p_sexuality',\n",
       " 'p_sexuality',\n",
       " 'p_paper_read',\n",
       " 'p_paper_read',\n",
       " 'p_paper_read',\n",
       " 'p_paper_read',\n",
       " 'p_paper_read',\n",
       " 'p_paper_read',\n",
       " 'p_paper_read',\n",
       " 'p_paper_read',\n",
       " 'p_paper_read',\n",
       " 'p_paper_read',\n",
       " 'p_paper_read',\n",
       " 'p_paper_read',\n",
       " 'p_paper_read',\n",
       " 'p_paper_read',\n",
       " 'p_paper_read',\n",
       " 'p_paper_read',\n",
       " 'p_marital',\n",
       " 'p_marital',\n",
       " 'p_marital',\n",
       " 'p_marital',\n",
       " 'p_marital',\n",
       " 'p_marital',\n",
       " 'p_marital',\n",
       " 'p_marital',\n",
       " 'p_religion',\n",
       " 'p_religion',\n",
       " 'p_religion',\n",
       " 'p_religion',\n",
       " 'p_religion',\n",
       " 'p_religion',\n",
       " 'p_religion',\n",
       " 'p_religion',\n",
       " 'p_religion',\n",
       " 'p_religion',\n",
       " 'p_religion',\n",
       " 'p_religion',\n",
       " 'p_religion',\n",
       " 'p_religion',\n",
       " 'p_religion',\n",
       " 'p_religion',\n",
       " 'p_religion',\n",
       " 'p_religion',\n",
       " 'p_job_sector',\n",
       " 'p_job_sector',\n",
       " 'p_job_sector',\n",
       " 'p_job_sector',\n",
       " 'p_country_birth',\n",
       " 'p_country_birth',\n",
       " 'p_country_birth',\n",
       " 'p_country_birth',\n",
       " 'p_country_birth',\n",
       " 'p_country_birth',\n",
       " 'p_country_birth',\n",
       " 'p_country_birth',\n",
       " 'p_country_birth',\n",
       " 'p_country_birth',\n",
       " 'p_country_birth',\n",
       " 'p_country_birth',\n",
       " 'p_country_birth',\n",
       " 'p_country_birth',\n",
       " 'p_country_birth',\n",
       " 'p_ethnicity',\n",
       " 'p_ethnicity',\n",
       " 'p_ethnicity',\n",
       " 'p_ethnicity',\n",
       " 'p_ethnicity',\n",
       " 'p_ethnicity',\n",
       " 'p_ethnicity',\n",
       " 'p_ethnicity',\n",
       " 'p_ethnicity',\n",
       " 'p_ethnicity',\n",
       " 'p_ethnicity',\n",
       " 'p_ethnicity',\n",
       " 'p_ethnicity',\n",
       " 'p_ethnicity',\n",
       " 'p_ethnicity',\n",
       " 'p_past_vote_2010',\n",
       " 'p_past_vote_2010',\n",
       " 'p_past_vote_2010',\n",
       " 'p_past_vote_2010',\n",
       " 'p_past_vote_2010',\n",
       " 'p_past_vote_2010',\n",
       " 'p_past_vote_2010',\n",
       " 'p_past_vote_2010',\n",
       " 'p_past_vote_2005',\n",
       " 'p_past_vote_2005',\n",
       " 'p_past_vote_2005',\n",
       " 'p_past_vote_2005',\n",
       " 'p_past_vote_2005',\n",
       " 'p_past_vote_2005',\n",
       " 'p_past_vote_2005',\n",
       " 'p_past_vote_2005',\n",
       " 'p_past_vote_2015',\n",
       " 'p_past_vote_2015',\n",
       " 'p_past_vote_2015',\n",
       " 'p_past_vote_2015',\n",
       " 'p_past_vote_2015',\n",
       " 'p_past_vote_2015',\n",
       " 'p_past_vote_2015',\n",
       " 'p_past_vote_2015',\n",
       " 'p_past_vote_2017',\n",
       " 'p_past_vote_2017',\n",
       " 'p_past_vote_2017',\n",
       " 'p_past_vote_2017',\n",
       " 'p_past_vote_2017',\n",
       " 'p_past_vote_2017',\n",
       " 'p_past_vote_2017',\n",
       " 'p_past_vote_2019',\n",
       " 'p_past_vote_2019',\n",
       " 'p_past_vote_2019',\n",
       " 'p_past_vote_2019',\n",
       " 'p_past_vote_2019',\n",
       " 'p_past_vote_2019',\n",
       " 'p_past_vote_2019',\n",
       " 'p_past_vote_2019',\n",
       " 'p_past_vote_2019',\n",
       " 'p_scot_const_vote_2011',\n",
       " 'p_scot_const_vote_2011',\n",
       " 'p_scot_const_vote_2011',\n",
       " 'p_scot_const_vote_2011',\n",
       " 'p_scot_const_vote_2011',\n",
       " 'p_scot_list_vote_2011',\n",
       " 'p_scot_list_vote_2011',\n",
       " 'p_scot_list_vote_2011',\n",
       " 'p_scot_list_vote_2011',\n",
       " 'p_scot_list_vote_2011',\n",
       " 'p_scot_list_vote_2011',\n",
       " 'p_scot_const_vote_2016',\n",
       " 'p_scot_const_vote_2016',\n",
       " 'p_scot_const_vote_2016',\n",
       " 'p_scot_const_vote_2016',\n",
       " 'p_scot_const_vote_2016',\n",
       " 'p_scot_list_vote_2016',\n",
       " 'p_scot_list_vote_2016',\n",
       " 'p_scot_list_vote_2016',\n",
       " 'p_scot_list_vote_2016',\n",
       " 'p_scot_list_vote_2016',\n",
       " 'p_scot_list_vote_2016',\n",
       " 'p_scot_list_vote_2016',\n",
       " 'p_welsh_const_vote_2016',\n",
       " 'p_welsh_const_vote_2016',\n",
       " 'p_welsh_const_vote_2016',\n",
       " 'p_welsh_const_vote_2016',\n",
       " 'p_welsh_const_vote_2016',\n",
       " 'p_welsh_const_vote_2016',\n",
       " 'p_welsh_list_vote_2016',\n",
       " 'p_welsh_list_vote_2016',\n",
       " 'p_welsh_list_vote_2016',\n",
       " 'p_welsh_list_vote_2016',\n",
       " 'p_welsh_list_vote_2016',\n",
       " 'p_welsh_list_vote_2016',\n",
       " 'p_welsh_list_vote_2016',\n",
       " 'p_eurefturnout',\n",
       " 'partyContactLab_6',\n",
       " 'partyContactLab_7',\n",
       " 'partyContactLD_1',\n",
       " 'partyContactLD_2',\n",
       " 'partyContactLD_3',\n",
       " 'partyContactLD_4',\n",
       " 'partyContactLD_5',\n",
       " 'partyContactLD_6',\n",
       " 'partyContactLD_7',\n",
       " 'partyContactLab_5',\n",
       " 'partyContactLab_4',\n",
       " 'partyContactLab_3',\n",
       " 'partyContactLab_2',\n",
       " 'partyContact1',\n",
       " 'partyContactCon',\n",
       " 'partyContactLab',\n",
       " 'partyContactLD',\n",
       " 'partyContactBrexit',\n",
       " 'partyContactGrn',\n",
       " 'partyContact2new_13',\n",
       " 'partyContactNone',\n",
       " 'partyContactCon_1',\n",
       " 'partyContactCon_2',\n",
       " 'partyContactCon_3',\n",
       " 'partyContactCon_4',\n",
       " 'partyContactCon_5',\n",
       " 'changeView',\n",
       " 'partyContactCon_7',\n",
       " 'partyContactLab_1',\n",
       " 'partyContactOtherParty',\n",
       " 'achieveReduceNHSNone',\n",
       " 'achieveReduceNHSBrexit',\n",
       " 'achieveReduceNHSGrn',\n",
       " 'achieveReduceNHSLD',\n",
       " 'achieveReduceNHSLab',\n",
       " 'achieveReduceNHSCon',\n",
       " 'achieveReduceImmigNone',\n",
       " 'achieveReduceInflaCon',\n",
       " 'achieveReduceImmigBrexit',\n",
       " 'achieveReduceImmigLD',\n",
       " 'achieveReduceImmigLab',\n",
       " 'achieveReduceImmigCon',\n",
       " 'euRefVoteAfter',\n",
       " 'euRefDoOver',\n",
       " 'achieveReduceImmigGrn',\n",
       " 'achieveReduceInflaLab',\n",
       " 'partyContactGreen_1',\n",
       " 'partyContactGreen_2',\n",
       " 'partyContactGreen_3',\n",
       " 'partyContactGreen_4',\n",
       " 'partyContactGreen_5',\n",
       " 'partyContactGreen_6',\n",
       " 'partyContactGreen_7',\n",
       " 'partyContactBrexit_1',\n",
       " 'partyContactBrexit_2',\n",
       " 'achieveReduceInflaLD',\n",
       " 'partyContactBrexit_3',\n",
       " 'partyContactBrexit_5',\n",
       " 'partyContactBrexit_6',\n",
       " 'partyContactBrexit_7',\n",
       " 'partyContactBrexit_4',\n",
       " 'achieveReduceInflaGrn',\n",
       " 'partyContactCon_6',\n",
       " 'achieveReduceInflaNone',\n",
       " 'p_eurefvote',\n",
       " 'p_vote_scot_ref',\n",
       " 'selfOccSuperviseLastW26W27',\n",
       " 'selfOccStatusLastW26W27',\n",
       " 'selfOccStatusW26W27',\n",
       " 'prevJobW26W27',\n",
       " 'p_turnout_2010',\n",
       " 'p_turnout_2005',\n",
       " 'parentOccEmployees',\n",
       " 'parentOccSupervise',\n",
       " 'parentOccStatus',\n",
       " 'selfOccSuperviseW26W27',\n",
       " 'regretsIHaveAFew',\n",
       " 'p_turnout_2019',\n",
       " 'genElecTurnoutRetro',\n",
       " 'p_parent',\n",
       " 'p_turnout_2017',\n",
       " 'askedForID',\n",
       " 'attemptTurnout',\n",
       " 'gender',\n",
       " 'participation_1',\n",
       " 'participation_2',\n",
       " 'participation_3',\n",
       " 'participation_4',\n",
       " 'participation_5',\n",
       " 'achieveReduceInflaBrexit',\n",
       " 'currentUnionMemberW19_W26',\n",
       " 'everUnionMemberW19_W26',\n",
       " 'achieveIncGrowthLD',\n",
       " 'achieveIncGrowthCon',\n",
       " 'achieveReducePovNone',\n",
       " 'achieveReducePovBrexit',\n",
       " 'achieveReducePovGrn',\n",
       " 'achieveReducePovLD',\n",
       " 'achieveReducePovLab',\n",
       " 'achieveIncGrowthLab',\n",
       " 'achieveReducePovCon',\n",
       " 'achieveReduceCarbBrexit',\n",
       " 'achieveReduceCarbGrn',\n",
       " 'achieveReduceCarbLD',\n",
       " 'achieveReduceCarbLab',\n",
       " 'achieveReduceCarbCon',\n",
       " 'referendumSettled',\n",
       " 'achieveReduceCarbNone',\n",
       " 'subjClassSqueezeW27',\n",
       " 'p_turnout_2015',\n",
       " 'careAdult_disabledW26',\n",
       " 'prPreference',\n",
       " 'careAdult_elderlyW26',\n",
       " 'careAdult_sickW26',\n",
       " 'disabilityChildW26',\n",
       " 'noDependentsInHouseW26',\n",
       " 'schoolKidsInHouseW26',\n",
       " 'sickElderlyInHouseW26',\n",
       " 'disabilityCensusW26',\n",
       " 'voted_ge_2024',\n",
       " 'achieveIncGrowthNone',\n",
       " 'achieveIncGrowthBrexit',\n",
       " 'achieveIncGrowthGrn',\n",
       " 'preschoolKidsInHouseW26']"
      ]
     },
     "execution_count": 236,
     "metadata": {},
     "output_type": "execute_result"
    }
   ],
   "source": [
    "col_list"
   ]
  },
  {
   "cell_type": "code",
   "execution_count": 237,
   "metadata": {},
   "outputs": [
    {
     "name": "stdout",
     "output_type": "stream",
     "text": [
      "CPU times: total: 141 ms\n",
      "Wall time: 286 ms\n"
     ]
    }
   ],
   "source": [
    "%%time\n",
    "BES_reduced_with_na = BES_reduced_with_na.where( BES_numeric[col_list].notnull().values,other =np.nan )\n"
   ]
  },
  {
   "cell_type": "code",
   "execution_count": 238,
   "metadata": {},
   "outputs": [
    {
     "data": {
      "text/plain": [
       "partyIdStrength__Not very strong                          6607\n",
       "anyUniW26W27__Yes, I graduated from higher education      6411\n",
       "voteMethoda__Someone else voted for me (proxy voting)     4122\n",
       "polAttention__Pay a great deal of attention                185\n",
       "pidWeThey__Strongly agree                                19547\n",
       "                                                         ...  \n",
       "voted_ge_2024_Yes                                          183\n",
       "achieveIncGrowthNone_Yes                                 25716\n",
       "achieveIncGrowthBrexit_Yes                               25716\n",
       "achieveIncGrowthGrn_Yes                                  25716\n",
       "preschoolKidsInHouseW26_Yes                               5952\n",
       "Length: 749, dtype: int64"
      ]
     },
     "execution_count": 238,
     "metadata": {},
     "output_type": "execute_result"
    }
   ],
   "source": [
    "BES_reduced_with_na.isnull().sum()"
   ]
  },
  {
   "cell_type": "code",
   "execution_count": 239,
   "metadata": {},
   "outputs": [
    {
     "data": {
      "text/plain": [
       "((31098, 749), (31098, 749))"
      ]
     },
     "execution_count": 239,
     "metadata": {},
     "output_type": "execute_result"
    }
   ],
   "source": [
    "BES_numeric[col_list].shape,BES_reduced_with_na.shape"
   ]
  },
  {
   "cell_type": "code",
   "execution_count": 240,
   "metadata": {},
   "outputs": [
    {
     "data": {
      "text/plain": [
       "((31098, 2), (31098, 2))"
      ]
     },
     "execution_count": 240,
     "metadata": {},
     "output_type": "execute_result"
    }
   ],
   "source": [
    "BES_reduced_with_na[BES_reduced_with_na.columns[0:2]].shape,BES_numeric[col_list[0:2]].shape"
   ]
  },
  {
   "cell_type": "code",
   "execution_count": 241,
   "metadata": {},
   "outputs": [
    {
     "data": {
      "text/plain": [
       "partyIdStrength__Not very strong                        31098\n",
       "anyUniW26W27__Yes, I graduated from higher education    31098\n",
       "dtype: int64"
      ]
     },
     "execution_count": 241,
     "metadata": {},
     "output_type": "execute_result"
    }
   ],
   "source": [
    "BES_reduced_with_na[BES_reduced_with_na.columns[0:2]].where( BES_numeric[col_list[0:2]].notnull(), other =np.nan ).isnull().sum()"
   ]
  },
  {
   "cell_type": "code",
   "execution_count": 242,
   "metadata": {},
   "outputs": [
    {
     "data": {
      "text/plain": [
       "partyIdStrength    6607\n",
       "anyUniW26W27       6411\n",
       "dtype: int64"
      ]
     },
     "execution_count": 242,
     "metadata": {},
     "output_type": "execute_result"
    }
   ],
   "source": [
    "BES_numeric[col_list[0:2]].isnull().sum()"
   ]
  },
  {
   "cell_type": "code",
   "execution_count": 243,
   "metadata": {},
   "outputs": [
    {
     "data": {
      "text/plain": [
       "partyIdStrength__Not very strong                        6607\n",
       "anyUniW26W27__Yes, I graduated from higher education    6411\n",
       "dtype: int64"
      ]
     },
     "execution_count": 243,
     "metadata": {},
     "output_type": "execute_result"
    }
   ],
   "source": [
    "BES_reduced_with_na[BES_reduced_with_na.columns[0:2]].where( cond=BES_numeric[col_list[0:2]].notnull().values, other =np.nan ).isnull().sum()"
   ]
  },
  {
   "cell_type": "code",
   "execution_count": 244,
   "metadata": {},
   "outputs": [
    {
     "data": {
      "text/html": [
       "<div>\n",
       "<style scoped>\n",
       "    .dataframe tbody tr th:only-of-type {\n",
       "        vertical-align: middle;\n",
       "    }\n",
       "\n",
       "    .dataframe tbody tr th {\n",
       "        vertical-align: top;\n",
       "    }\n",
       "\n",
       "    .dataframe thead th {\n",
       "        text-align: right;\n",
       "    }\n",
       "</style>\n",
       "<table border=\"1\" class=\"dataframe\">\n",
       "  <thead>\n",
       "    <tr style=\"text-align: right;\">\n",
       "      <th></th>\n",
       "      <th>partyIdStrength</th>\n",
       "      <th>anyUniW26W27</th>\n",
       "    </tr>\n",
       "  </thead>\n",
       "  <tbody>\n",
       "    <tr>\n",
       "      <th>0</th>\n",
       "      <td>True</td>\n",
       "      <td>True</td>\n",
       "    </tr>\n",
       "    <tr>\n",
       "      <th>1</th>\n",
       "      <td>True</td>\n",
       "      <td>True</td>\n",
       "    </tr>\n",
       "    <tr>\n",
       "      <th>2</th>\n",
       "      <td>True</td>\n",
       "      <td>True</td>\n",
       "    </tr>\n",
       "    <tr>\n",
       "      <th>3</th>\n",
       "      <td>True</td>\n",
       "      <td>True</td>\n",
       "    </tr>\n",
       "    <tr>\n",
       "      <th>4</th>\n",
       "      <td>True</td>\n",
       "      <td>False</td>\n",
       "    </tr>\n",
       "    <tr>\n",
       "      <th>...</th>\n",
       "      <td>...</td>\n",
       "      <td>...</td>\n",
       "    </tr>\n",
       "    <tr>\n",
       "      <th>31093</th>\n",
       "      <td>True</td>\n",
       "      <td>True</td>\n",
       "    </tr>\n",
       "    <tr>\n",
       "      <th>31094</th>\n",
       "      <td>False</td>\n",
       "      <td>True</td>\n",
       "    </tr>\n",
       "    <tr>\n",
       "      <th>31095</th>\n",
       "      <td>False</td>\n",
       "      <td>True</td>\n",
       "    </tr>\n",
       "    <tr>\n",
       "      <th>31096</th>\n",
       "      <td>False</td>\n",
       "      <td>True</td>\n",
       "    </tr>\n",
       "    <tr>\n",
       "      <th>31097</th>\n",
       "      <td>True</td>\n",
       "      <td>True</td>\n",
       "    </tr>\n",
       "  </tbody>\n",
       "</table>\n",
       "<p>31098 rows × 2 columns</p>\n",
       "</div>"
      ],
      "text/plain": [
       "       partyIdStrength  anyUniW26W27\n",
       "0                 True          True\n",
       "1                 True          True\n",
       "2                 True          True\n",
       "3                 True          True\n",
       "4                 True         False\n",
       "...                ...           ...\n",
       "31093             True          True\n",
       "31094            False          True\n",
       "31095            False          True\n",
       "31096            False          True\n",
       "31097             True          True\n",
       "\n",
       "[31098 rows x 2 columns]"
      ]
     },
     "execution_count": 244,
     "metadata": {},
     "output_type": "execute_result"
    }
   ],
   "source": [
    "BES_numeric[col_list[0:2]].notnull()"
   ]
  },
  {
   "cell_type": "code",
   "execution_count": 245,
   "metadata": {},
   "outputs": [
    {
     "data": {
      "text/plain": [
       "object     534\n",
       "float64    150\n",
       "bool        63\n",
       "uint8        2\n",
       "Name: count, dtype: int64"
      ]
     },
     "execution_count": 245,
     "metadata": {},
     "output_type": "execute_result"
    }
   ],
   "source": [
    "BES_reduced_with_na.dtypes.value_counts()"
   ]
  },
  {
   "cell_type": "code",
   "execution_count": 246,
   "metadata": {},
   "outputs": [
    {
     "data": {
      "text/plain": [
       "bool     597\n",
       "uint8    152\n",
       "Name: count, dtype: int64"
      ]
     },
     "execution_count": 246,
     "metadata": {},
     "output_type": "execute_result"
    }
   ],
   "source": [
    "BES_reduced.dtypes.value_counts()"
   ]
  },
  {
   "cell_type": "code",
   "execution_count": null,
   "metadata": {},
   "outputs": [],
   "source": []
  },
  {
   "cell_type": "code",
   "execution_count": null,
   "metadata": {},
   "outputs": [],
   "source": []
  },
  {
   "cell_type": "code",
   "execution_count": null,
   "metadata": {},
   "outputs": [],
   "source": []
  },
  {
   "cell_type": "code",
   "execution_count": 247,
   "metadata": {},
   "outputs": [],
   "source": [
    "float64_vars = BES_reduced_with_na.columns[BES_reduced_with_na.dtypes=='float64']"
   ]
  },
  {
   "cell_type": "code",
   "execution_count": 248,
   "metadata": {},
   "outputs": [],
   "source": [
    "BES_reduced_with_na[float64_vars] = BES_reduced_with_na[float64_vars].astype('float32')"
   ]
  },
  {
   "cell_type": "code",
   "execution_count": null,
   "metadata": {},
   "outputs": [],
   "source": []
  },
  {
   "cell_type": "code",
   "execution_count": 249,
   "metadata": {},
   "outputs": [],
   "source": [
    "# BES_numeric.dtypes"
   ]
  },
  {
   "cell_type": "code",
   "execution_count": 250,
   "metadata": {},
   "outputs": [],
   "source": [
    "dtypes = pd.Series([BES_numeric[new_old_col_names[x]].dtype.name  if x in new_old_col_names.keys() else BES_numeric[x].dtype.name for x in BES_reduced_with_na.columns])"
   ]
  },
  {
   "cell_type": "code",
   "execution_count": 251,
   "metadata": {},
   "outputs": [],
   "source": [
    "dtypes.index = BES_reduced_with_na.columns"
   ]
  },
  {
   "cell_type": "code",
   "execution_count": 252,
   "metadata": {},
   "outputs": [],
   "source": [
    "dtypes[BES_reduced_with_na.columns[[(x in new_old_col_names.keys()) and (\"__\" not in x) for x in BES_reduced_with_na.columns]]]='boolean'"
   ]
  },
  {
   "cell_type": "code",
   "execution_count": 253,
   "metadata": {},
   "outputs": [],
   "source": [
    "dtypes_dict = dtypes.to_dict()"
   ]
  },
  {
   "cell_type": "code",
   "execution_count": 254,
   "metadata": {},
   "outputs": [
    {
     "data": {
      "text/plain": [
       "{'partyIdStrength__Not very strong': 'float64',\n",
       " 'anyUniW26W27__Yes, I graduated from higher education': 'float64',\n",
       " 'voteMethoda__Someone else voted for me (proxy voting)': 'float64',\n",
       " 'polAttention__Pay a great deal of attention': 'float64',\n",
       " 'pidWeThey__Strongly agree': 'float64',\n",
       " 'pidInterestedOthers__Strongly agree': 'float64',\n",
       " 'pidCriticiseParty__Strongly agree': 'float64',\n",
       " 'pidCommonParty__Strongly agree': 'float64',\n",
       " 'pidConnected__Strongly agree': 'float64',\n",
       " 'pidPraiseGood__Strongly agree': 'float64',\n",
       " 'pidWeTheyb__Strongly agree': 'float64',\n",
       " 'pidInterestedOthersb__Strongly agree': 'float64',\n",
       " 'pidCriticisePartyb__Strongly agree': 'float64',\n",
       " 'pidCommonPartyb__Strongly agree': 'float64',\n",
       " 'pidConnectedb__Strongly agree': 'float64',\n",
       " 'pidPraiseGoodb__Strongly agree': 'float64',\n",
       " 'likeSunak__Strongly like': 'float64',\n",
       " 'likeStarmer__Strongly like': 'float64',\n",
       " 'likeDavey__Strongly like': 'float64',\n",
       " 'likeSwinney__Strongly like': 'float64',\n",
       " 'likeFarage__Strongly like': 'float64',\n",
       " 'likeRamsay__Strongly like': 'float64',\n",
       " 'likeDenyer__Strongly like': 'float64',\n",
       " 'likeCon__Strongly like': 'float64',\n",
       " 'likeLab__Strongly like': 'float64',\n",
       " 'likeLD__Strongly like': 'float64',\n",
       " 'likeSNP__Strongly like': 'float64',\n",
       " 'likePC__Strongly like': 'float64',\n",
       " 'likeBrexitParty__Strongly like': 'float64',\n",
       " 'likeGrn__Strongly like': 'float64',\n",
       " 'econPersonalProsp__Get a lot better': 'float64',\n",
       " 'econGenProsp__Get a lot better': 'float64',\n",
       " 'econPersonalRetro__Got a lot better': 'float64',\n",
       " 'econGenRetro__Got a lot better': 'float64',\n",
       " 'EUIntegrationSelf__Protect our independence': 'float64',\n",
       " 'EUIntegrationCon__Protect our independence': 'float64',\n",
       " 'EUIntegrationLab__Protect our independence': 'float64',\n",
       " 'EUIntegrationLD__Protect our independence': 'float64',\n",
       " 'EUIntegrationSNP__Protect our independence': 'float64',\n",
       " 'EUIntegrationGreen__Protect our independence': 'float64',\n",
       " 'EUIntegrationBrexit__Protect our independence': 'float64',\n",
       " 'leftRight__Right': 'float64',\n",
       " 'satDemUK__Very satisfied': 'float64',\n",
       " 'satDemScot__Very satisfied': 'float64',\n",
       " 'satDemWales__Very satisfied': 'float64',\n",
       " 'satDemEng__Very satisfied': 'float64',\n",
       " 'redistSelf__Government should be less concerned about equal incomes': 'float64',\n",
       " 'redistCon__Government should be less concerned about equal incomes': 'float64',\n",
       " 'redistLab__Government should be less concerned about equal incomes': 'float64',\n",
       " 'redistLD__Government should be less concerned about equal incomes': 'float64',\n",
       " 'redistSNP__Government should be less concerned about equal incomes': 'float64',\n",
       " 'redistBrexit__Government should be less concerned about equal incomes': 'float64',\n",
       " 'redistGreen__Government should be less concerned about equal incomes': 'float64',\n",
       " 'immigSelf__Allow many more': 'float64',\n",
       " 'immigCon__Allow many more': 'float64',\n",
       " 'immigLab__Allow many more': 'float64',\n",
       " 'immigLD__Allow many more': 'float64',\n",
       " 'immigSNP__Allow many more': 'float64',\n",
       " 'immigBrexit__Allow many more': 'float64',\n",
       " 'immigGreen__Allow many more': 'float64',\n",
       " 'expectGoodConductGeneral__Conducted unfairly': 'float64',\n",
       " 'scotReferendumIntention__Would not vote': 'float64',\n",
       " 'sovereignty1__Strongly agree': 'float64',\n",
       " 'sovereignty2__Strongly agree': 'float64',\n",
       " 'partyContactConFreq2__10 or more times': 'float64',\n",
       " 'partyContactLabFreq2__10 or more times': 'float64',\n",
       " 'partyContactLabFreq3__10 or more times': 'float64',\n",
       " 'partyContactLDFreq2__10 or more times': 'float64',\n",
       " 'partyContactGreenFreq2__10 or more times': 'float64',\n",
       " 'partyContactBrexitFreq2__10 or more times': 'float64',\n",
       " 'infoSourceTV__More than 2 hours': 'float64',\n",
       " 'infoSourcePaper__More than 2 hours': 'float64',\n",
       " 'infoSourceRadio__More than 2 hours': 'float64',\n",
       " 'infoSourceInternet__More than 2 hours': 'float64',\n",
       " 'infoSourcePeople__More than 2 hours': 'float64',\n",
       " 'voterIDSupport__Strongly support': 'float64',\n",
       " 'trustMPs__A great deal of trust': 'float64',\n",
       " 'britishness__Very strongly British': 'float64',\n",
       " 'scottishness__Very strongly Scottish': 'float64',\n",
       " 'welshness__Very strongly Welsh': 'float64',\n",
       " 'englishness__Very strongly English': 'float64',\n",
       " 'europeanness__Very strongly European': 'float64',\n",
       " 'conLookAfterBA__Very closely': 'float64',\n",
       " 'conLookAfterMC__Very closely': 'float64',\n",
       " 'conLookAfterWC__Very closely': 'float64',\n",
       " 'conLookAfterYoung__Very closely': 'float64',\n",
       " 'conLookAfterRetired__Very closely': 'float64',\n",
       " 'labLookAfterBA__Very closely': 'float64',\n",
       " 'labLookAfterMC__Very closely': 'float64',\n",
       " 'labLookAfterWC__Very closely': 'float64',\n",
       " 'labLookAfterYoung__Very closely': 'float64',\n",
       " 'labLookAfterRetired__Very closely': 'float64',\n",
       " 'brexitLookAfterBA__Very closely': 'float64',\n",
       " 'brexitLookAfterMC__Very closely': 'float64',\n",
       " 'brexitLookAfterWC__Very closely': 'float64',\n",
       " 'brexitLookAfterYoung__Very closely': 'float64',\n",
       " 'brexitLookAfterRetired__Very closely': 'float64',\n",
       " 'ldLookAfterBA__Very closely': 'float64',\n",
       " 'ldLookAfterMC__Very closely': 'float64',\n",
       " 'ldLookAfterWC__Very closely': 'float64',\n",
       " 'ldLookAfterYoung__Very closely': 'float64',\n",
       " 'ldLookAfterRetired__Very closely': 'float64',\n",
       " 'grnLookAfterBA__Very closely': 'float64',\n",
       " 'grnLookAfterMC__Very closely': 'float64',\n",
       " 'grnLookAfterWC__Very closely': 'float64',\n",
       " 'grnLookAfterYoung__Very closely': 'float64',\n",
       " 'grnLookAfterRetired__Very closely': 'float64',\n",
       " 'con_Ideas__Full of ideas': 'float64',\n",
       " 'lab_Ideas__Full of ideas': 'float64',\n",
       " 'ld_Ideas__Full of ideas': 'float64',\n",
       " 'brexit_Ideas__Full of ideas': 'float64',\n",
       " 'grn_Ideas__Full of ideas': 'float64',\n",
       " 'conTrust__Almost *all* are trustworthy': 'float64',\n",
       " 'labTrust__Almost *all* are trustworthy': 'float64',\n",
       " 'ldTrust__Almost *all* are trustworthy': 'float64',\n",
       " 'brexitTrust__Almost *all* are trustworthy': 'float64',\n",
       " 'grnTrust__Almost *all* are trustworthy': 'float64',\n",
       " 'conCompetent__Almost *all* are competent': 'float64',\n",
       " 'labCompetent__Almost *all* are competent': 'float64',\n",
       " 'ldCompetent__Almost *all* are competent': 'float64',\n",
       " 'brexitCompetent__Almost *all* are competent': 'float64',\n",
       " 'grnCompetent__Almost *all* are competent': 'float64',\n",
       " 'lr1W27__Strongly agree': 'float64',\n",
       " 'lr2W27__Strongly agree': 'float64',\n",
       " 'lr3W27__Strongly agree': 'float64',\n",
       " 'lr4W27__Strongly agree': 'float64',\n",
       " 'lr5W27__Strongly agree': 'float64',\n",
       " 'al1W27__Strongly agree': 'float64',\n",
       " 'al2W27__Strongly agree': 'float64',\n",
       " 'al3W27__Strongly agree': 'float64',\n",
       " 'al4W27__Strongly agree': 'float64',\n",
       " 'al5W27__Strongly agree': 'float64',\n",
       " 'lr_scaleW27__Right': 'float64',\n",
       " 'al_scaleW27__Authoritarian': 'float64',\n",
       " 'parentOccOrgSize__500 or more employees': 'float64',\n",
       " 'parentNumEmployees__500 or more employees': 'float64',\n",
       " 'edlevelParent__Postgrad': 'float64',\n",
       " 'selfOccOrgSizeW26W27__500 or more employees': 'float64',\n",
       " 'selfOccOrgSizeLastW26W27__500 or more employees': 'float64',\n",
       " 'occCheckW26W27__Strongly agree': 'float64',\n",
       " 'age': 'float64',\n",
       " 'ageGroup__66+': 'float64',\n",
       " 'p_hh_children__5 or more': 'float64',\n",
       " 'p_gross_household__£150,000 and over': 'float64',\n",
       " 'p_gross_personal__Â Prefer not to answer': 'float64',\n",
       " 'p_hh_size__8 or more': 'float64',\n",
       " 'p_socgrade__E': 'float64',\n",
       " 'p_education_age__Still at school/Full time student': 'float64',\n",
       " 'p_disability__No': 'float64',\n",
       " 'p_turnout_scot_ref__No, I was not eligible to vote': 'float64',\n",
       " 'p_edlevel__Postgrad': 'float64',\n",
       " 'p_edlevelUni__Postgrad': 'float64',\n",
       " 'generalElectionVote_Labour': 'boolean',\n",
       " 'generalElectionVote_Conservative': 'boolean',\n",
       " 'generalElectionVote_Brexit Party/Reform UK': 'boolean',\n",
       " 'generalElectionVote_Liberal Democrat': 'boolean',\n",
       " 'generalElectionVote_Green Party': 'boolean',\n",
       " 'generalElectionVote_Scottish National Party (SNP)': 'boolean',\n",
       " 'generalElectionVote_An independent candidate': 'boolean',\n",
       " 'generalElectionVote_Plaid Cymru': 'boolean',\n",
       " 'generalElectionVoteNonVoter_Labour': 'boolean',\n",
       " 'generalElectionVoteNonVoter_Brexit Party/Reform UK': 'boolean',\n",
       " 'generalElectionVoteNonVoter_Conservative': 'boolean',\n",
       " 'generalElectionVoteNonVoter_Green Party': 'boolean',\n",
       " 'generalElectionVoteNonVoter_Liberal Democrat': 'boolean',\n",
       " 'generalElectionVoteNonVoter_Scottish National Party (SNP)': 'boolean',\n",
       " 'generalElectionVoteNonVoter_An independent candidate': 'boolean',\n",
       " 'generalElectionVoteNonVoter_Plaid Cymru': 'boolean',\n",
       " 'partyId_No - none': 'boolean',\n",
       " 'partyId_Labour': 'boolean',\n",
       " 'partyId_Conservative': 'boolean',\n",
       " 'partyId_Liberal Democrat': 'boolean',\n",
       " 'partyId_Brexit Party/Reform UK': 'boolean',\n",
       " 'partyId_Green Party': 'boolean',\n",
       " 'partyId_Scottish National Party (SNP)': 'boolean',\n",
       " 'partyId_Plaid Cymru': 'boolean',\n",
       " 'partyIdSqueeze_No - none': 'boolean',\n",
       " 'partyIdSqueeze_Labour': 'boolean',\n",
       " 'partyIdSqueeze_Conservative': 'boolean',\n",
       " 'partyIdSqueeze_Green Party': 'boolean',\n",
       " 'partyIdSqueeze_Liberal Democrat': 'boolean',\n",
       " 'partyIdSqueeze_Brexit Party/Reform UK': 'boolean',\n",
       " 'partyIdSqueeze_Scottish National Party (SNP)': 'boolean',\n",
       " 'partyIdSqueeze_Plaid Cymru': 'boolean',\n",
       " 'bestOnMII_Labour': 'boolean',\n",
       " 'bestOnMII_No party is best able to handle this issue': 'boolean',\n",
       " 'bestOnMII_Brexit Party/Reform UK': 'boolean',\n",
       " 'bestOnMII_Conservative': 'boolean',\n",
       " 'bestOnMII_Green Party': 'boolean',\n",
       " 'bestOnMII_Liberal Democrat': 'boolean',\n",
       " 'bestOnMII_Other party': 'boolean',\n",
       " 'bestOnMII_Scottish National Party (SNP)': 'boolean',\n",
       " 'bestOnMII_Plaid Cymru': 'boolean',\n",
       " 'sectorW26W27_Private sector firm of company Including, for example, limited companies and PLCs': 'boolean',\n",
       " 'sectorW26W27_Other public sector employer Incl eg: - Central govt/ Civil Service/ Govt Agency - Local authority/ Local Educ Auth/sch': 'boolean',\n",
       " 'sectorW26W27_Self-employed': 'boolean',\n",
       " 'sectorW26W27_Charity/voluntary sector Including, for example, charitable companies, churches, trade unions:': 'boolean',\n",
       " 'sectorW26W27_Nationalised industry or public corporation *Including, for example, the Post Office and the BBC': 'boolean',\n",
       " 'sectorW26W27_Own your own business / company': 'boolean',\n",
       " 'reasonForVote_I thought it was the best party': 'boolean',\n",
       " 'reasonForVote_I always vote that way': 'boolean',\n",
       " 'reasonForVote_I thought that party had the best candidate': 'boolean',\n",
       " 'reasonForVote_I really preferred another party but it had no chance of winning in this constituency': 'boolean',\n",
       " 'reasonForVote_None of these': 'boolean',\n",
       " 'partyPreferred_Green Party': 'boolean',\n",
       " 'partyPreferred_Liberal Democrat': 'boolean',\n",
       " 'partyPreferred_Labour': 'boolean',\n",
       " 'partyPreferred_Brexit Party/Reform UK': 'boolean',\n",
       " 'partyPreferred_Conservative': 'boolean',\n",
       " 'partyPreferred_Plaid Cymru': 'boolean',\n",
       " 'partyPreferred_Scottish National Party (SNP)': 'boolean',\n",
       " 'scotElectionVoteConst_Scottish Labour': 'boolean',\n",
       " 'scotElectionVoteConst_Scottish National Party (SNP)': 'boolean',\n",
       " 'scotElectionVoteConst_Scottish Conservative': 'boolean',\n",
       " 'scotElectionVoteConst_Scottish Liberal Democrat': 'boolean',\n",
       " 'scotElectionVoteConst_Scottish Green Party': 'boolean',\n",
       " 'scotElectionVoteConst_Brexit Party/Reform UK': 'boolean',\n",
       " 'scotElectionVoteList_Scottish Labour': 'boolean',\n",
       " 'scotElectionVoteList_Scottish National Party (SNP)': 'boolean',\n",
       " 'scotElectionVoteList_Scottish Conservative': 'boolean',\n",
       " 'scotElectionVoteList_Scottish Green Party': 'boolean',\n",
       " 'scotElectionVoteList_Scottish Liberal Democrat': 'boolean',\n",
       " 'scotElectionVoteList_Brexit Party/Reform UK': 'boolean',\n",
       " 'welshElectionVoteNew_Labour': 'boolean',\n",
       " 'welshElectionVoteNew_Plaid Cymru': 'boolean',\n",
       " 'welshElectionVoteNew_Conservative': 'boolean',\n",
       " 'welshElectionVoteNew_Reform UK': 'boolean',\n",
       " 'welshElectionVoteNew_Abolish the Assembly Party': 'boolean',\n",
       " 'welshElectionVoteNew_Liberal Democrat': 'boolean',\n",
       " 'welshElectionVoteNew_Green Party': 'boolean',\n",
       " 'welshElectionVoteNew_Other party': 'boolean',\n",
       " 'registered_Yes - at $postcode_hidden': 'boolean',\n",
       " 'registered_Yes - another address': 'boolean',\n",
       " 'registered_No': 'boolean',\n",
       " 'disapprovalVote_Conservative': 'boolean',\n",
       " 'disapprovalVote_Reform UK': 'boolean',\n",
       " 'disapprovalVote_Labour': 'boolean',\n",
       " 'disapprovalVote_Green Party': 'boolean',\n",
       " 'disapprovalVote_Liberal Democrat': 'boolean',\n",
       " 'disapprovalVote_Scottish National Party (SNP)': 'boolean',\n",
       " 'disapprovalVote_Plaid Cymru': 'boolean',\n",
       " 'mii_cat_llm_12.0': 'boolean',\n",
       " 'mii_cat_llm_32.0': 'boolean',\n",
       " 'mii_cat_llm_26.0': 'boolean',\n",
       " 'mii_cat_llm_1.0': 'boolean',\n",
       " 'mii_cat_llm_46.0': 'boolean',\n",
       " 'mii_cat_llm_40.0': 'boolean',\n",
       " 'mii_cat_llm_5.0': 'boolean',\n",
       " 'mii_cat_llm_36.0': 'boolean',\n",
       " 'mii_cat_llm_4.0': 'boolean',\n",
       " 'mii_cat_llm_14.0': 'boolean',\n",
       " 'mii_cat_llm_35.0': 'boolean',\n",
       " 'mii_cat_llm_15.0': 'boolean',\n",
       " 'mii_cat_llm_33.0': 'boolean',\n",
       " 'mii_cat_llm_23.0': 'boolean',\n",
       " 'mii_cat_llm_22.0': 'boolean',\n",
       " 'mii_cat_llm_3.0': 'boolean',\n",
       " 'mii_cat_llm_34.0': 'boolean',\n",
       " 'mii_cat_llm_21.0': 'boolean',\n",
       " 'mii_cat_llm_31.0': 'boolean',\n",
       " 'mii_cat_llm_29.0': 'boolean',\n",
       " 'mii_cat_llm_2.0': 'boolean',\n",
       " 'mii_cat_llm_37.0': 'boolean',\n",
       " 'mii_cat_llm_42.0': 'boolean',\n",
       " 'mii_cat_llm_6.0': 'boolean',\n",
       " 'mii_cat_llm_10.0': 'boolean',\n",
       " 'mii_cat_llm_30.0': 'boolean',\n",
       " 'mii_cat_llm_7.0': 'boolean',\n",
       " 'mii_cat_llm_8.0': 'boolean',\n",
       " 'mii_cat_llm_45.0': 'boolean',\n",
       " 'mii_cat_llm_19.0': 'boolean',\n",
       " 'mii_cat_llm_13.0': 'boolean',\n",
       " 'mii_cat_llm_44.0': 'boolean',\n",
       " 'mii_cat_llm_11.0': 'boolean',\n",
       " 'mii_cat_llm_39.0': 'boolean',\n",
       " 'mii_cat_llm_9.0': 'boolean',\n",
       " 'mii_cat_llm_38.0': 'boolean',\n",
       " 'mii_cat_llm_50.0': 'boolean',\n",
       " 'mii_cat_llm_16.0': 'boolean',\n",
       " 'mii_cat_llm_41.0': 'boolean',\n",
       " 'mii_cat_llm_28.0': 'boolean',\n",
       " 'mii_cat_llm_27.0': 'boolean',\n",
       " 'mii_cat_llm_43.0': 'boolean',\n",
       " 'mii_cat_llm_48.0': 'boolean',\n",
       " 'mii_cat_llm_17.0': 'boolean',\n",
       " 'mii_cat_llm_25.0': 'boolean',\n",
       " 'mii_cat_llm_18.0': 'boolean',\n",
       " 'mii_cat_llm_24.0': 'boolean',\n",
       " 'mii_cat_llm_47.0': 'boolean',\n",
       " 'subjClassW27_Yes, working class': 'boolean',\n",
       " 'subjClassW27_Yes, middle class': 'boolean',\n",
       " 'subjClassW27_No': 'boolean',\n",
       " 'small_mii_cat_llm_Economy': 'boolean',\n",
       " 'small_mii_cat_llm_Immigration': 'boolean',\n",
       " 'small_mii_cat_llm_Health': 'boolean',\n",
       " 'small_mii_cat_llm_Environment': 'boolean',\n",
       " 'small_mii_cat_llm_Other lib-auth': 'boolean',\n",
       " 'small_mii_cat_llm_Negativity': 'boolean',\n",
       " 'small_mii_cat_llm_Inequality': 'boolean',\n",
       " 'small_mii_cat_llm_Austerity/spending': 'boolean',\n",
       " 'small_mii_cat_llm_Europe': 'boolean',\n",
       " 'small_mii_cat_llm_Other left-right': 'boolean',\n",
       " 'small_mii_cat_llm_Terrorism': 'boolean',\n",
       " 'LRAL_mii_cat_llm_Left-right': 'boolean',\n",
       " 'LRAL_mii_cat_llm_Lib-auth': 'boolean',\n",
       " 'LRAL_mii_cat_llm_General-negativity': 'boolean',\n",
       " 'headHouseholdPast_My father': 'boolean',\n",
       " 'headHouseholdPast_My mother': 'boolean',\n",
       " 'headHouseholdPast_No one in my house worked': 'boolean',\n",
       " 'headHouseholdPast_Someone else': 'boolean',\n",
       " 'parentEducation_No formal qualifications': 'boolean',\n",
       " 'parentEducation_University or CNAA first degree (e.g. BA, B.Sc, B.Ed)': 'boolean',\n",
       " 'parentEducation_Other technical, professional or higher qualification': 'boolean',\n",
       " 'parentEducation_Recognised trade apprenticeship completed': 'boolean',\n",
       " 'parentEducation_CSE grade 1, GCE O level, GCSE, School Certificate': 'boolean',\n",
       " 'parentEducation_GCE A level or Higher Certificate': 'boolean',\n",
       " 'parentEducation_University or CNAA higher degree (e.g. M.Sc, Ph.D)': 'boolean',\n",
       " 'parentEducation_City & Guilds certificate': 'boolean',\n",
       " 'parentEducation_University diploma': 'boolean',\n",
       " 'parentEducation_Teaching qualification (not degree)': 'boolean',\n",
       " 'parentEducation_City & Guilds certificate - advanced': 'boolean',\n",
       " 'parentEducation_Clerical and commercial': 'boolean',\n",
       " 'parentEducation_CSE grades 2-5': 'boolean',\n",
       " 'parentEducation_Nursing qualification (e.g. SEN, SRN, SCM, RGN)': 'boolean',\n",
       " 'parentEducation_Scottish Higher Certificate': 'boolean',\n",
       " 'parentEducation_Scottish Ordinary/ Lower Certificate': 'boolean',\n",
       " 'parentEducation_Youth training certificate/skillseekers': 'boolean',\n",
       " 'parentEducation_onc': 'boolean',\n",
       " 'ns_sec_parent_L4.1 Traditional employees': 'boolean',\n",
       " 'ns_sec_parent_L11.1 Lower technical craft occupations': 'boolean',\n",
       " 'ns_sec_parent_L13.3 Routine technical occupations': 'boolean',\n",
       " 'ns_sec_parent_L3.1 Traditional employees': 'boolean',\n",
       " 'ns_sec_parent_L8.1 Employers in small establishments in industry, commerce, services etc.': 'boolean',\n",
       " 'ns_sec_parent_Lower managerial and administrative occupations': 'boolean',\n",
       " 'ns_sec_parent_L13.4 Routine operative occupations': 'boolean',\n",
       " 'ns_sec_parent_L7.1 Intermediate clerical and administrative occupations': 'boolean',\n",
       " 'ns_sec_parent_Higher managerial and administrative occupations': 'boolean',\n",
       " 'ns_sec_parent_Lower supervisory occupations': 'boolean',\n",
       " 'ns_sec_parent_Higher supervisory occupations': 'boolean',\n",
       " 'ns_sec_parent_L3.2 New employees': 'boolean',\n",
       " 'ns_sec_parent_L12.2 Semi-routine service occupations': 'boolean',\n",
       " 'ns_sec_parent_L9.1 Own account workers (non-professional)': 'boolean',\n",
       " 'ns_sec_parent_L12.3 Semi-routine technical occupations': 'boolean',\n",
       " 'ns_sec_parent_L7.2 Intermediate sales and service occupations': 'boolean',\n",
       " 'ns_sec_parent_L12.4 Semi-routine operative occupations': 'boolean',\n",
       " 'ns_sec_parent_L4.2 New employees': 'boolean',\n",
       " 'ns_sec_parent_L7.4 Intermediate engineering occupations': 'boolean',\n",
       " 'ns_sec_parent_L12.1 Semi-routine sales occupations': 'boolean',\n",
       " 'ns_sec_parent_L7.3 Intermediate technical and auxiliary occupations': 'boolean',\n",
       " 'ns_sec_parent_L3.3 Traditional self-employed': 'boolean',\n",
       " 'ns_sec_parent_L11.2 Lower technical process operative occupations': 'boolean',\n",
       " 'ns_sec_parent_L13.2 Routine production occupations': 'boolean',\n",
       " 'ns_sec_parent_L9.2 Own account workers (agriculture)': 'boolean',\n",
       " 'ns_sec_parent_Employers in large establishments': 'boolean',\n",
       " 'ns_sec_parent_L13.1 Routine sales and service occupations': 'boolean',\n",
       " 'ns_sec_parent_L12.5 Semi-routine agricultural occupations': 'boolean',\n",
       " 'ns_sec_parent_L4.3 Traditional self-employed': 'boolean',\n",
       " 'ns_sec_parent_L12.6 Semi-routine clerical occupations': 'boolean',\n",
       " 'ns_sec_parent_L8.2 Employers in small establishments in agriculture': 'boolean',\n",
       " 'ns_sec_parent_L4.4 New self-employed': 'boolean',\n",
       " 'ns_sec_parent_L3.4 New self-employed': 'boolean',\n",
       " 'ns_sec_parent_L12.7 Semi routine childcare occupations': 'boolean',\n",
       " 'ns_sec_parent_L13.5 Routine agricultural occupations': 'boolean',\n",
       " 'ns_sec_analytic_parent_Lower professional and managerial and higher supervisory': 'boolean',\n",
       " 'ns_sec_analytic_parent_Routine occupations': 'boolean',\n",
       " 'ns_sec_analytic_parent_Lower supervisory and technical occupations': 'boolean',\n",
       " 'ns_sec_analytic_parent_Higher professional occupations': 'boolean',\n",
       " 'ns_sec_analytic_parent_Employers in small organisations and own account workers': 'boolean',\n",
       " 'ns_sec_analytic_parent_Semi-routine occupations': 'boolean',\n",
       " 'ns_sec_analytic_parent_Intermediate occupations': 'boolean',\n",
       " 'ns_sec_analytic_parent_Employers in large organisations and higher managerial': 'boolean',\n",
       " 'workingStatusW26W27_Working full time (30 or more hours per week)': 'boolean',\n",
       " 'workingStatusW26W27_Retired': 'boolean',\n",
       " 'workingStatusW26W27_Working part time (8-29 hours a week)': 'boolean',\n",
       " 'workingStatusW26W27_Not in paid work for any other reason': 'boolean',\n",
       " 'workingStatusW26W27_Full time university student': 'boolean',\n",
       " 'workingStatusW26W27_Unemployed and looking for work': 'boolean',\n",
       " 'workingStatusW26W27_Working part time (Less than 8 hours a week)': 'boolean',\n",
       " 'workingStatusW26W27_Other full time student': 'boolean',\n",
       " 'ns_sec_analyticW26W27_Lower professional and managerial and higher supervisory': 'boolean',\n",
       " 'ns_sec_analyticW26W27_Intermediate occupations': 'boolean',\n",
       " 'ns_sec_analyticW26W27_Higher professional occupations': 'boolean',\n",
       " 'ns_sec_analyticW26W27_Semi-routine occupations': 'boolean',\n",
       " 'ns_sec_analyticW26W27_Routine occupations': 'boolean',\n",
       " 'ns_sec_analyticW26W27_Lower supervisory and technical occupations': 'boolean',\n",
       " 'ns_sec_analyticW26W27_Employers in small organisations and own account workers': 'boolean',\n",
       " 'ns_sec_analyticW26W27_Employers in large organisations and higher managerial': 'boolean',\n",
       " 'ns_secW26W27_L4.1 Traditional employees': 'boolean',\n",
       " 'ns_secW26W27_L7.1 Intermediate clerical and administrative occupations': 'boolean',\n",
       " 'ns_secW26W27_L3.2 New employees': 'boolean',\n",
       " 'ns_secW26W27_L3.1 Traditional employees': 'boolean',\n",
       " 'ns_secW26W27_L7.2 Intermediate sales and service occupations': 'boolean',\n",
       " 'ns_secW26W27_Higher supervisory occupations': 'boolean',\n",
       " 'ns_secW26W27_Lower managerial and administrative occupations': 'boolean',\n",
       " 'ns_secW26W27_L9.1 Own account workers (non-professional)': 'boolean',\n",
       " 'ns_secW26W27_L12.2 Semi-routine service occupations': 'boolean',\n",
       " 'ns_secW26W27_Lower supervisory occupations': 'boolean',\n",
       " 'ns_secW26W27_L12.1 Semi-routine sales occupations': 'boolean',\n",
       " 'ns_secW26W27_Higher managerial and administrative occupations': 'boolean',\n",
       " 'ns_secW26W27_L13.4 Routine operative occupations': 'boolean',\n",
       " 'ns_secW26W27_L4.2 New employees': 'boolean',\n",
       " 'ns_secW26W27_L4.3 Traditional self-employed': 'boolean',\n",
       " 'ns_secW26W27_L11.1 Lower technical craft occupations': 'boolean',\n",
       " 'ns_secW26W27_L13.3 Routine technical occupations': 'boolean',\n",
       " 'ns_secW26W27_L7.3 Intermediate technical and auxiliary occupations': 'boolean',\n",
       " 'ns_secW26W27_L13.1 Routine sales and service occupations': 'boolean',\n",
       " 'ns_secW26W27_L12.6 Semi-routine clerical occupations': 'boolean',\n",
       " 'ns_secW26W27_L3.3 Traditional self-employed': 'boolean',\n",
       " 'ns_secW26W27_L8.1 Employers in small establishments in industry, commerce, services etc.': 'boolean',\n",
       " 'ns_secW26W27_L7.4 Intermediate engineering occupations': 'boolean',\n",
       " 'ns_secW26W27_L12.3 Semi-routine technical occupations': 'boolean',\n",
       " 'ns_secW26W27_L4.4 New self-employed': 'boolean',\n",
       " 'ns_secW26W27_L3.4 New self-employed': 'boolean',\n",
       " 'ns_secW26W27_L12.4 Semi-routine operative occupations': 'boolean',\n",
       " 'ns_secW26W27_L12.7 Semi routine childcare occupations': 'boolean',\n",
       " 'ns_secW26W27_L13.2 Routine production occupations': 'boolean',\n",
       " 'ns_secW26W27_L11.2 Lower technical process operative occupations': 'boolean',\n",
       " 'ns_secW26W27_L9.2 Own account workers (agriculture)': 'boolean',\n",
       " 'ns_secW26W27_Employers in large establishments': 'boolean',\n",
       " 'ns_secW26W27_L13.5 Routine agricultural occupations': 'boolean',\n",
       " 'ns_secW26W27_L12.5 Semi-routine agricultural occupations': 'boolean',\n",
       " 'ns_secW26W27_L8.2 Employers in small establishments in agriculture': 'boolean',\n",
       " 'country_England': 'boolean',\n",
       " 'country_Scotland': 'boolean',\n",
       " 'country_Wales': 'boolean',\n",
       " 'gor_South East': 'boolean',\n",
       " 'gor_North West': 'boolean',\n",
       " 'gor_East of England': 'boolean',\n",
       " 'gor_South West': 'boolean',\n",
       " 'gor_London': 'boolean',\n",
       " 'gor_Scotland': 'boolean',\n",
       " 'gor_Yorkshire and the Humber': 'boolean',\n",
       " 'gor_West Midlands': 'boolean',\n",
       " 'gor_East Midlands': 'boolean',\n",
       " 'gor_Wales': 'boolean',\n",
       " 'gor_North East': 'boolean',\n",
       " 'p_education_University or CNAA first degree (e.g. BA, B.Sc, B.Ed)': 'boolean',\n",
       " 'p_education_GCE A level or Higher Certificate': 'boolean',\n",
       " 'p_education_CSE grade 1, GCE O level, GCSE, School Certificate': 'boolean',\n",
       " 'p_education_University or CNAA higher degree (e.g. M.Sc, Ph.D)': 'boolean',\n",
       " 'p_education_Other technical, professional or higher qualification': 'boolean',\n",
       " 'p_education_No formal qualifications': 'boolean',\n",
       " 'p_education_University diploma': 'boolean',\n",
       " 'p_education_City & Guilds certificate': 'boolean',\n",
       " 'p_education_Teaching qualification (not degree)': 'boolean',\n",
       " 'p_education_City & Guilds certificate - advanced': 'boolean',\n",
       " 'p_education_CSE grades 2-5': 'boolean',\n",
       " 'p_education_Clerical and commercial': 'boolean',\n",
       " 'p_education_Nursing qualification (e.g. SEN, SRN, SCM, RGN)': 'boolean',\n",
       " 'p_education_Scottish Higher Certificate': 'boolean',\n",
       " 'p_education_Recognised trade apprenticeship completed': 'boolean',\n",
       " 'p_education_onc': 'boolean',\n",
       " 'p_education_Scottish Ordinary/ Lower Certificate': 'boolean',\n",
       " 'p_education_Youth training certificate/skillseekers': 'boolean',\n",
       " 'p_work_stat_Retired': 'boolean',\n",
       " 'p_work_stat_Working full time (30 or more hours per week)': 'boolean',\n",
       " 'p_work_stat_Working part time (8-29 hours a week)': 'boolean',\n",
       " 'p_work_stat_Not working': 'boolean',\n",
       " 'p_work_stat_Full time student': 'boolean',\n",
       " 'p_work_stat_Unemployed': 'boolean',\n",
       " 'p_work_stat_Working part time (Less than 8 hours a week)': 'boolean',\n",
       " 'p_housing_Own outright': 'boolean',\n",
       " 'p_housing_Own with a mortgage': 'boolean',\n",
       " 'p_housing_Rent from a private landlord': 'boolean',\n",
       " 'p_housing_Rent from a housing association': 'boolean',\n",
       " 'p_housing_Neither I live rent-free with my parents, family or friends': 'boolean',\n",
       " 'p_housing_Rent from my local authority': 'boolean',\n",
       " 'p_housing_Neither I live with my parents, family or friends but pay some rent to them': 'boolean',\n",
       " 'p_housing_Own (part-own) through shared ownership scheme (i.e. pay part mortgage, part rent)': 'boolean',\n",
       " 'p_sexuality_Heterosexual': 'boolean',\n",
       " 'p_sexuality_Gay or lesbian': 'boolean',\n",
       " 'p_sexuality_Bisexual': 'boolean',\n",
       " 'p_paper_read_None': 'boolean',\n",
       " 'p_paper_read_The Guardian': 'boolean',\n",
       " 'p_paper_read_The Daily Mail / The Scottish Daily Mail': 'boolean',\n",
       " 'p_paper_read_The Times': 'boolean',\n",
       " 'p_paper_read_The Daily Telegraph': 'boolean',\n",
       " 'p_paper_read_The Sun': 'boolean',\n",
       " 'p_paper_read_Other Newspaper': 'boolean',\n",
       " 'p_paper_read_Other local daily morning newspaper': 'boolean',\n",
       " 'p_paper_read_The Mirror / Daily Record': 'boolean',\n",
       " 'p_paper_read_The Independent': 'boolean',\n",
       " 'p_paper_read_The Express': 'boolean',\n",
       " 'p_paper_read_The Financial Times': 'boolean',\n",
       " 'p_paper_read_The Herald (Glasgow)': 'boolean',\n",
       " 'p_paper_read_The Daily Star / The Daily Star of Scotland': 'boolean',\n",
       " 'p_paper_read_The Scotsman': 'boolean',\n",
       " 'p_paper_read_The Western Mail': 'boolean',\n",
       " 'p_marital_Married': 'boolean',\n",
       " 'p_marital_Single': 'boolean',\n",
       " 'p_marital_Living with a partner but neither married nor in a civil partnership': 'boolean',\n",
       " 'p_marital_Divorced': 'boolean',\n",
       " 'p_marital_Widowed': 'boolean',\n",
       " 'p_marital_In a relationship, but not living together': 'boolean',\n",
       " 'p_marital_Separated but still legally married or in a civil partnership': 'boolean',\n",
       " 'p_marital_In a civil partnership': 'boolean',\n",
       " 'p_religion_No, I do not regard myself as belonging to any particular religion.': 'boolean',\n",
       " 'p_religion_Yes - Church of England/Anglican/Episcopal': 'boolean',\n",
       " 'p_religion_Yes - Roman Catholic': 'boolean',\n",
       " 'p_religion_Yes - Presbyterian/Church of Scotland': 'boolean',\n",
       " 'p_religion_Yes - Other': 'boolean',\n",
       " 'p_religion_Yes - Methodist': 'boolean',\n",
       " 'p_religion_Yes - Islam': 'boolean',\n",
       " 'p_religion_Yes - Evangelical independent/non-denominational (e.g. FIEC, Pioneer, Vineyard, Newfrontiers)': 'boolean',\n",
       " 'p_religion_Yes - Baptist': 'boolean',\n",
       " 'p_religion_Yes - Judaism': 'boolean',\n",
       " 'p_religion_Yes - Pentecostal (e.g. Assemblies of God, Elim Pentecostal Church, New Testament Church of God, Redeemed Christian Church of God)': 'boolean',\n",
       " 'p_religion_Yes - Hinduism': 'boolean',\n",
       " 'p_religion_Yes Orthodox Christian': 'boolean',\n",
       " 'p_religion_Yes - Buddhism': 'boolean',\n",
       " 'p_religion_Yes - United Reformed Church': 'boolean',\n",
       " 'p_religion_Yes - Sikhism': 'boolean',\n",
       " 'p_religion_Yes - Brethren': 'boolean',\n",
       " 'p_religion_Yes - Free Presbyterian': 'boolean',\n",
       " 'p_job_sector_Not applicable': 'boolean',\n",
       " 'p_job_sector_Private sector profit-seeking (e.g. public limited company, partnership)': 'boolean',\n",
       " 'p_job_sector_Public sector government owned or funded (e.g. civil service, local government, NHS, university)': 'boolean',\n",
       " 'p_job_sector_Third sector non-profit, non-governmental (e.g. charity, social enterprise)': 'boolean',\n",
       " 'p_country_birth_UK': 'boolean',\n",
       " 'p_country_birth_EU: pre-2004': 'boolean',\n",
       " 'p_country_birth_Africa': 'boolean',\n",
       " 'p_country_birth_Not coded': 'boolean',\n",
       " 'p_country_birth_South Asia': 'boolean',\n",
       " 'p_country_birth_EU: post-2004': 'boolean',\n",
       " 'p_country_birth_North America': 'boolean',\n",
       " 'p_country_birth_Ireland': 'boolean',\n",
       " 'p_country_birth_Oceania & Antarctica': 'boolean',\n",
       " 'p_country_birth_South-East/Central Asia': 'boolean',\n",
       " 'p_country_birth_East Asia': 'boolean',\n",
       " 'p_country_birth_European outside EU': 'boolean',\n",
       " 'p_country_birth_South America': 'boolean',\n",
       " 'p_country_birth_Caribbean/Central America': 'boolean',\n",
       " 'p_country_birth_Middle East': 'boolean',\n",
       " 'p_ethnicity_White British': 'boolean',\n",
       " 'p_ethnicity_Any other white background': 'boolean',\n",
       " 'p_ethnicity_Indian': 'boolean',\n",
       " 'p_ethnicity_Black African': 'boolean',\n",
       " 'p_ethnicity_Other ethnic group': 'boolean',\n",
       " 'p_ethnicity_Pakistani': 'boolean',\n",
       " 'p_ethnicity_White and Black Caribbean': 'boolean',\n",
       " 'p_ethnicity_Any other mixed background': 'boolean',\n",
       " 'p_ethnicity_White and Asian': 'boolean',\n",
       " 'p_ethnicity_Black Caribbean': 'boolean',\n",
       " 'p_ethnicity_Chinese': 'boolean',\n",
       " 'p_ethnicity_Bangladeshi': 'boolean',\n",
       " 'p_ethnicity_Any other Asian background': 'boolean',\n",
       " 'p_ethnicity_White and Black African': 'boolean',\n",
       " 'p_ethnicity_Any other black background': 'boolean',\n",
       " 'p_past_vote_2010_Conservative': 'boolean',\n",
       " 'p_past_vote_2010_Labour': 'boolean',\n",
       " 'p_past_vote_2010_Liberal Democrat': 'boolean',\n",
       " 'p_past_vote_2010_United Kingdom Independence Party (UKIP)': 'boolean',\n",
       " 'p_past_vote_2010_Scottish National Party (SNP)': 'boolean',\n",
       " 'p_past_vote_2010_Green Party': 'boolean',\n",
       " 'p_past_vote_2010_British National Party (BNP)': 'boolean',\n",
       " 'p_past_vote_2010_Plaid Cymru': 'boolean',\n",
       " 'p_past_vote_2005_Conservative': 'boolean',\n",
       " 'p_past_vote_2005_Labour': 'boolean',\n",
       " 'p_past_vote_2005_Liberal Democrat': 'boolean',\n",
       " 'p_past_vote_2005_Scottish National Party (SNP)': 'boolean',\n",
       " 'p_past_vote_2005_Green Party': 'boolean',\n",
       " 'p_past_vote_2005_United Kingdom Independence Party (UKIP)': 'boolean',\n",
       " 'p_past_vote_2005_Plaid Cymru': 'boolean',\n",
       " 'p_past_vote_2005_British National Party (BNP)': 'boolean',\n",
       " 'p_past_vote_2015_Conservative': 'boolean',\n",
       " 'p_past_vote_2015_Labour': 'boolean',\n",
       " 'p_past_vote_2015_United Kingdom Independence Party (UKIP)': 'boolean',\n",
       " 'p_past_vote_2015_Liberal Democrat': 'boolean',\n",
       " 'p_past_vote_2015_Green Party': 'boolean',\n",
       " 'p_past_vote_2015_Scottish National Party (SNP)': 'boolean',\n",
       " 'p_past_vote_2015_Plaid Cymru': 'boolean',\n",
       " 'p_past_vote_2015_British National Party (BNP)': 'boolean',\n",
       " 'p_past_vote_2017_Conservative': 'boolean',\n",
       " 'p_past_vote_2017_Labour': 'boolean',\n",
       " 'p_past_vote_2017_Liberal Democrat': 'boolean',\n",
       " 'p_past_vote_2017_Scottish National Party (SNP)': 'boolean',\n",
       " 'p_past_vote_2017_United Kingdom Independence Party (UKIP)': 'boolean',\n",
       " 'p_past_vote_2017_Green Party': 'boolean',\n",
       " 'p_past_vote_2017_Plaid Cymru': 'boolean',\n",
       " 'p_past_vote_2019_Conservative': 'boolean',\n",
       " 'p_past_vote_2019_Labour': 'boolean',\n",
       " 'p_past_vote_2019_Liberal Democrat': 'boolean',\n",
       " 'p_past_vote_2019_Scottish National Party (SNP)': 'boolean',\n",
       " 'p_past_vote_2019_Green Party': 'boolean',\n",
       " 'p_past_vote_2019_Brexit Party/Reform UK': 'boolean',\n",
       " 'p_past_vote_2019_Plaid Cymru': 'boolean',\n",
       " 'p_past_vote_2019_An independent candidate': 'boolean',\n",
       " 'p_past_vote_2019_United Kingdom Independence Party (UKIP)': 'boolean',\n",
       " 'p_scot_const_vote_2011_Scottish National Party (SNP)': 'boolean',\n",
       " 'p_scot_const_vote_2011_Labour': 'boolean',\n",
       " 'p_scot_const_vote_2011_I would/did not vote': 'boolean',\n",
       " 'p_scot_const_vote_2011_Conservative': 'boolean',\n",
       " 'p_scot_const_vote_2011_Liberal Democrat': 'boolean',\n",
       " 'p_scot_list_vote_2011_Scottish National Party (SNP)': 'boolean',\n",
       " 'p_scot_list_vote_2011_Labour': 'boolean',\n",
       " 'p_scot_list_vote_2011_I would/did not vote': 'boolean',\n",
       " 'p_scot_list_vote_2011_Conservative': 'boolean',\n",
       " 'p_scot_list_vote_2011_Liberal Democrat': 'boolean',\n",
       " 'p_scot_list_vote_2011_Green Party': 'boolean',\n",
       " 'p_scot_const_vote_2016_I would/did not vote': 'boolean',\n",
       " 'p_scot_const_vote_2016_Scottish National Party (SNP)': 'boolean',\n",
       " 'p_scot_const_vote_2016_Conservative': 'boolean',\n",
       " 'p_scot_const_vote_2016_Labour': 'boolean',\n",
       " 'p_scot_const_vote_2016_Liberal Democrat': 'boolean',\n",
       " 'p_scot_list_vote_2016_I would/did not vote': 'boolean',\n",
       " 'p_scot_list_vote_2016_Scottish National Party (SNP)': 'boolean',\n",
       " 'p_scot_list_vote_2016_Conservative': 'boolean',\n",
       " 'p_scot_list_vote_2016_Labour': 'boolean',\n",
       " 'p_scot_list_vote_2016_Green Party': 'boolean',\n",
       " 'p_scot_list_vote_2016_Liberal Democrat': 'boolean',\n",
       " 'p_scot_list_vote_2016_United Kingdom Independence Party (UKIP)': 'boolean',\n",
       " 'p_welsh_const_vote_2016_I would/did not vote': 'boolean',\n",
       " 'p_welsh_const_vote_2016_Labour': 'boolean',\n",
       " 'p_welsh_const_vote_2016_Conservative': 'boolean',\n",
       " 'p_welsh_const_vote_2016_Plaid Cymru': 'boolean',\n",
       " 'p_welsh_const_vote_2016_United Kingdom Independence Party (UKIP)': 'boolean',\n",
       " 'p_welsh_const_vote_2016_Liberal Democrat': 'boolean',\n",
       " 'p_welsh_list_vote_2016_I would/did not vote': 'boolean',\n",
       " 'p_welsh_list_vote_2016_Labour': 'boolean',\n",
       " 'p_welsh_list_vote_2016_Conservative': 'boolean',\n",
       " 'p_welsh_list_vote_2016_Plaid Cymru': 'boolean',\n",
       " 'p_welsh_list_vote_2016_United Kingdom Independence Party (UKIP)': 'boolean',\n",
       " 'p_welsh_list_vote_2016_Liberal Democrat': 'boolean',\n",
       " 'p_welsh_list_vote_2016_Green Party': 'boolean',\n",
       " 'p_eurefturnout_Yes': 'boolean',\n",
       " 'partyContactLab_6_Yes': 'boolean',\n",
       " 'partyContactLab_7_Yes': 'boolean',\n",
       " 'partyContactLD_1_Yes': 'boolean',\n",
       " 'partyContactLD_2_Yes': 'boolean',\n",
       " 'partyContactLD_3_Yes': 'boolean',\n",
       " 'partyContactLD_4_Yes': 'boolean',\n",
       " 'partyContactLD_5_Yes': 'boolean',\n",
       " 'partyContactLD_6_Yes': 'boolean',\n",
       " 'partyContactLD_7_Yes': 'boolean',\n",
       " 'partyContactLab_5_Yes': 'boolean',\n",
       " 'partyContactLab_4_Yes': 'boolean',\n",
       " 'partyContactLab_3_Yes': 'boolean',\n",
       " 'partyContactLab_2_Yes': 'boolean',\n",
       " 'partyContact1_Yes': 'boolean',\n",
       " 'partyContactCon_Yes': 'boolean',\n",
       " 'partyContactLab_Yes': 'boolean',\n",
       " 'partyContactLD_Yes': 'boolean',\n",
       " 'partyContactBrexit_Yes': 'boolean',\n",
       " 'partyContactGrn_Yes': 'boolean',\n",
       " 'partyContact2new_13_Yes': 'boolean',\n",
       " 'partyContactNone_Yes': 'boolean',\n",
       " 'partyContactCon_1_Yes': 'boolean',\n",
       " 'partyContactCon_2_Yes': 'boolean',\n",
       " 'partyContactCon_3_Yes': 'boolean',\n",
       " 'partyContactCon_4_Yes': 'boolean',\n",
       " 'partyContactCon_5_Yes': 'boolean',\n",
       " 'changeView_Yes': 'boolean',\n",
       " 'partyContactCon_7_Yes': 'boolean',\n",
       " 'partyContactLab_1_Yes': 'boolean',\n",
       " 'partyContactOtherParty_Yes': 'boolean',\n",
       " 'achieveReduceNHSNone_Yes': 'boolean',\n",
       " 'achieveReduceNHSBrexit_Yes': 'boolean',\n",
       " 'achieveReduceNHSGrn_Yes': 'boolean',\n",
       " 'achieveReduceNHSLD_Yes': 'boolean',\n",
       " 'achieveReduceNHSLab_Yes': 'boolean',\n",
       " 'achieveReduceNHSCon_Yes': 'boolean',\n",
       " 'achieveReduceImmigNone_Yes': 'boolean',\n",
       " 'achieveReduceInflaCon_Yes': 'boolean',\n",
       " 'achieveReduceImmigBrexit_Yes': 'boolean',\n",
       " 'achieveReduceImmigLD_Yes': 'boolean',\n",
       " 'achieveReduceImmigLab_Yes': 'boolean',\n",
       " 'achieveReduceImmigCon_Yes': 'boolean',\n",
       " 'euRefVoteAfter_Stay out of the EU': 'boolean',\n",
       " 'euRefDoOver_Yes': 'boolean',\n",
       " 'achieveReduceImmigGrn_Yes': 'boolean',\n",
       " 'achieveReduceInflaLab_Yes': 'boolean',\n",
       " 'partyContactGreen_1_Yes': 'boolean',\n",
       " 'partyContactGreen_2_Yes': 'boolean',\n",
       " 'partyContactGreen_3_Yes': 'boolean',\n",
       " 'partyContactGreen_4_Yes': 'boolean',\n",
       " 'partyContactGreen_5_Yes': 'boolean',\n",
       " 'partyContactGreen_6_Yes': 'boolean',\n",
       " 'partyContactGreen_7_Yes': 'boolean',\n",
       " 'partyContactBrexit_1_Yes': 'boolean',\n",
       " 'partyContactBrexit_2_Yes': 'boolean',\n",
       " 'achieveReduceInflaLD_Yes': 'boolean',\n",
       " 'partyContactBrexit_3_Yes': 'boolean',\n",
       " 'partyContactBrexit_5_Yes': 'boolean',\n",
       " 'partyContactBrexit_6_Yes': 'boolean',\n",
       " 'partyContactBrexit_7_Yes': 'boolean',\n",
       " 'partyContactBrexit_4_Yes': 'boolean',\n",
       " 'achieveReduceInflaGrn_Yes': 'boolean',\n",
       " 'partyContactCon_6_Yes': 'boolean',\n",
       " 'achieveReduceInflaNone_Yes': 'boolean',\n",
       " 'p_eurefvote_I voted to leave': 'boolean',\n",
       " 'p_vote_scot_ref_Voted yes': 'boolean',\n",
       " 'selfOccSuperviseLastW26W27_Yes': 'boolean',\n",
       " 'selfOccStatusLastW26W27_An employee': 'boolean',\n",
       " 'selfOccStatusW26W27_An employee': 'boolean',\n",
       " 'prevJobW26W27_Yes': 'boolean',\n",
       " 'p_turnout_2010_Yes, I voted': 'boolean',\n",
       " 'p_turnout_2005_Yes, I voted': 'boolean',\n",
       " 'parentOccEmployees_Yes': 'boolean',\n",
       " 'parentOccSupervise_Yes': 'boolean',\n",
       " 'parentOccStatus_An employee': 'boolean',\n",
       " 'selfOccSuperviseW26W27_Yes': 'boolean',\n",
       " 'regretsIHaveAFew_Yes': 'boolean',\n",
       " 'p_turnout_2019_Yes, I voted': 'boolean',\n",
       " 'genElecTurnoutRetro_Yes': 'boolean',\n",
       " 'p_parent_Yes': 'boolean',\n",
       " 'p_turnout_2017_Yes, I voted': 'boolean',\n",
       " 'askedForID_Yes': 'boolean',\n",
       " 'attemptTurnout_Yes': 'boolean',\n",
       " 'gender_Female': 'boolean',\n",
       " 'participation_1_Yes': 'boolean',\n",
       " 'participation_2_Yes': 'boolean',\n",
       " 'participation_3_Yes': 'boolean',\n",
       " 'participation_4_Yes': 'boolean',\n",
       " 'participation_5_Yes': 'boolean',\n",
       " 'achieveReduceInflaBrexit_Yes': 'boolean',\n",
       " 'currentUnionMemberW19_W26_Yes': 'boolean',\n",
       " 'everUnionMemberW19_W26_Yes': 'boolean',\n",
       " 'achieveIncGrowthLD_Yes': 'boolean',\n",
       " 'achieveIncGrowthCon_Yes': 'boolean',\n",
       " 'achieveReducePovNone_Yes': 'boolean',\n",
       " 'achieveReducePovBrexit_Yes': 'boolean',\n",
       " 'achieveReducePovGrn_Yes': 'boolean',\n",
       " 'achieveReducePovLD_Yes': 'boolean',\n",
       " 'achieveReducePovLab_Yes': 'boolean',\n",
       " 'achieveIncGrowthLab_Yes': 'boolean',\n",
       " 'achieveReducePovCon_Yes': 'boolean',\n",
       " 'achieveReduceCarbBrexit_Yes': 'boolean',\n",
       " 'achieveReduceCarbGrn_Yes': 'boolean',\n",
       " 'achieveReduceCarbLD_Yes': 'boolean',\n",
       " 'achieveReduceCarbLab_Yes': 'boolean',\n",
       " 'achieveReduceCarbCon_Yes': 'boolean',\n",
       " 'referendumSettled_Yes': 'boolean',\n",
       " 'achieveReduceCarbNone_Yes': 'boolean',\n",
       " 'subjClassSqueezeW27_Working class': 'boolean',\n",
       " 'p_turnout_2015_Yes, I voted': 'boolean',\n",
       " 'careAdult_disabledW26_Yes': 'boolean',\n",
       " \"prPreference_That every party's percentage of seats in parliament is the same as their percentage of the vote\": 'boolean',\n",
       " 'careAdult_elderlyW26_Yes': 'boolean',\n",
       " 'careAdult_sickW26_Yes': 'boolean',\n",
       " 'disabilityChildW26_Yes': 'boolean',\n",
       " 'noDependentsInHouseW26_Yes': 'boolean',\n",
       " 'schoolKidsInHouseW26_Yes': 'boolean',\n",
       " 'sickElderlyInHouseW26_Yes': 'boolean',\n",
       " 'disabilityCensusW26_Yes': 'boolean',\n",
       " 'voted_ge_2024_Yes': 'boolean',\n",
       " 'achieveIncGrowthNone_Yes': 'boolean',\n",
       " 'achieveIncGrowthBrexit_Yes': 'boolean',\n",
       " 'achieveIncGrowthGrn_Yes': 'boolean',\n",
       " 'preschoolKidsInHouseW26_Yes': 'boolean'}"
      ]
     },
     "execution_count": 254,
     "metadata": {},
     "output_type": "execute_result"
    }
   ],
   "source": [
    "dtypes_dict"
   ]
  },
  {
   "cell_type": "code",
   "execution_count": 255,
   "metadata": {},
   "outputs": [],
   "source": [
    "BES_reduced_with_na = BES_reduced_with_na.astype( dtypes_dict )"
   ]
  },
  {
   "cell_type": "code",
   "execution_count": 256,
   "metadata": {},
   "outputs": [
    {
     "data": {
      "text/plain": [
       "mii_cat_llm_12.0                                       0\n",
       "mii_cat_llm_17.0                                       0\n",
       "mii_cat_llm_48.0                                       0\n",
       "mii_cat_llm_27.0                                       0\n",
       "mii_cat_llm_28.0                                       0\n",
       "                                                   ...  \n",
       "welshElectionVoteNew_Abolish the Assembly Party    29541\n",
       "welshElectionVoteNew_Reform UK                     29541\n",
       "welshElectionVoteNew_Labour                        29541\n",
       "welshElectionVoteNew_Liberal Democrat              29541\n",
       "welshElectionVoteNew_Plaid Cymru                   29541\n",
       "Length: 749, dtype: int64"
      ]
     },
     "execution_count": 256,
     "metadata": {},
     "output_type": "execute_result"
    }
   ],
   "source": [
    "BES_reduced_with_na.isnull().sum().sort_values()"
   ]
  },
  {
   "cell_type": "code",
   "execution_count": 257,
   "metadata": {},
   "outputs": [],
   "source": [
    "# BES_reduced_with_na[col][~null_series]"
   ]
  },
  {
   "cell_type": "code",
   "execution_count": 258,
   "metadata": {},
   "outputs": [],
   "source": [
    "## TEST CORRELATIONS\n",
    "# we want to avoid having columns which are basically the same data\n",
    "# through very high correlation/anti-correlation\n",
    "# and when we find them, we want to keep the column with less missing values"
   ]
  },
  {
   "cell_type": "code",
   "execution_count": 259,
   "metadata": {
    "scrolled": true
   },
   "outputs": [
    {
     "data": {
      "text/plain": [
       "<Axes: >"
      ]
     },
     "execution_count": 259,
     "metadata": {},
     "output_type": "execute_result"
    },
    {
     "data": {
      "image/png": "[encoded data removed]",
      "text/plain": [
       "<Figure size 640x480 with 1 Axes>"
      ]
     },
     "metadata": {},
     "output_type": "display_data"
    }
   ],
   "source": [
    "# %%time\n",
    "# data = BES_reduced_with_na\n",
    "# corr_mat = BES_reduced_with_na.corr()\n",
    "\n",
    "corrs = memory_cheap_corrcoef(BES_reduced_with_na.astype('float32'))\n",
    "corr_mat = pd.DataFrame(corrs,index=BES_reduced_with_na.columns, columns=BES_reduced_with_na.columns)\n",
    "corr_mat.to_pickle(BES_data_folder+dataset_name+os.sep+\"corr_df2.zip\",compression='zip')\n",
    "# .loc[BES_imputed.index[::4]]\n",
    "# create lower triangle - diag mask\n",
    "col_vars = len( corr_mat )\n",
    "df = pd.DataFrame( np.arange(col_vars*col_vars).reshape(col_vars,col_vars) )\n",
    "mask = np.ones(df.shape,dtype='bool')\n",
    "mask[np.triu_indices(len(df))] = False\n",
    "corr_mat.mask(~mask).stack().hist(bins=100)"
   ]
  },
  {
   "cell_type": "code",
   "execution_count": null,
   "metadata": {},
   "outputs": [],
   "source": []
  },
  {
   "cell_type": "code",
   "execution_count": null,
   "metadata": {},
   "outputs": [],
   "source": []
  },
  {
   "cell_type": "code",
   "execution_count": null,
   "metadata": {},
   "outputs": [],
   "source": []
  },
  {
   "cell_type": "code",
   "execution_count": 260,
   "metadata": {},
   "outputs": [
    {
     "name": "stdout",
     "output_type": "stream",
     "text": [
      "('ageGroup__66+', 'age', 0.9745859, 1.0, 1.0)\n",
      "('gor_Scotland', 'country_Scotland', 0.9999999, 1.0, 1.0)\n",
      "('gor_Wales', 'country_Wales', 1.0, 1.0, 1.0)\n"
     ]
    }
   ],
   "source": [
    "thresh = .05\n",
    "x = ( ( corr_mat>(1-thresh) ) & mask ).values.nonzero()\n",
    "\n",
    "for i in range( 0,len(x[0]) ):\n",
    "    a = corr_mat.columns[ x[0][i] ]\n",
    "    b = corr_mat.columns[ x[1][i] ]\n",
    "    print( ( a,b,corr_mat[a][b], BES_reduced_with_na[a].notnull().mean(), BES_reduced_with_na[b].notnull().mean() ) )\n",
    "\n",
    "x = ( ( corr_mat<(thresh-1) ) & mask ).values.nonzero()\n",
    "\n",
    "for i in range( 0,len(x[0]) ):\n",
    "    a = corr_mat.columns[ x[0][i] ]\n",
    "    b = corr_mat.columns[ x[1][i] ]\n",
    "    print( ( a,b,corr_mat[a][b], BES_reduced_with_na[a].notnull().mean(), BES_reduced_with_na[b].notnull().mean() ) )    "
   ]
  },
  {
   "cell_type": "code",
   "execution_count": null,
   "metadata": {},
   "outputs": [],
   "source": []
  },
  {
   "cell_type": "code",
   "execution_count": 261,
   "metadata": {},
   "outputs": [
    {
     "name": "stdout",
     "output_type": "stream",
     "text": [
      "dummy_cat_high_corr_drop_list (31098, 747)\n",
      "['country_Scotland', 'country_Wales']\n"
     ]
    }
   ],
   "source": [
    "# high_corr_drop_list = ['country_Scotland', 'country_Wales', 'polKnowMay_Leader of the Labour Party',\n",
    "                      # 'polKnowBercow_Home secretary', 'polKnowMiliband_Deputy Prime Minister']\n",
    "\n",
    "# dummy_cat_high_corr_drop_list = ['country_Scotland', 'country_Wales','BESwave10_Samplesurvey_taken a BES wave',\n",
    "#                                 'profile_ethnicity_Chinese','profile_ethnicity_Indian','profile_ethnicity_Pakistani',\n",
    "#                                 'profile_religion_Yes - Islam','housing_Own outright']\n",
    "\n",
    "dummy_cat_high_corr_drop_list = ['country_Scotland', 'country_Wales']\n",
    "\n",
    "# dummy_cat_high_corr_drop_list = ['country_Wales', 'profile_ethnicity_Chinese','profile_ethnicity_Indian','profile_ethnicity_Pakistani',\n",
    "#                                 'profile_religion_Yes - Islam']\n",
    "\n",
    "BES_reduced.drop( dummy_cat_high_corr_drop_list,axis=1, inplace=True, errors='ignore')\n",
    "BES_reduced_with_na.drop( dummy_cat_high_corr_drop_list,axis=1, inplace=True, errors='ignore')\n",
    "print(\"dummy_cat_high_corr_drop_list\", BES_reduced.shape)\n",
    "print(dummy_cat_high_corr_drop_list)"
   ]
  },
  {
   "cell_type": "code",
   "execution_count": 262,
   "metadata": {},
   "outputs": [],
   "source": [
    "# %%time\n",
    "# nans = BES_numeric[[new_old_col_names[col] if col in new_old_col_names.keys() else col for col in BES_reduced.columns ]].isnull()\n",
    "# nans.to_msgpack( data_subfolder + \"nans.msgpack\")\n",
    "# del nans"
   ]
  },
  {
   "cell_type": "code",
   "execution_count": 263,
   "metadata": {},
   "outputs": [],
   "source": [
    "# very_low_var\n",
    "# NoiseVariance.loc[very_low_var].sort_values(by='noise_variance_')fc\n",
    "\n",
    "# upshot - get rid of "
   ]
  },
  {
   "cell_type": "code",
   "execution_count": 264,
   "metadata": {},
   "outputs": [],
   "source": [
    "# del BES_imputed, counts_by_individuals, corr_df"
   ]
  },
  {
   "cell_type": "code",
   "execution_count": 265,
   "metadata": {},
   "outputs": [],
   "source": [
    "# import sys\n",
    "# for var, obj in locals().items():\n",
    "#     if ( sys.getsizeof(obj)> 1000000):\n",
    "#         print(var, sys.getsizeof(obj))"
   ]
  },
  {
   "cell_type": "code",
   "execution_count": 266,
   "metadata": {},
   "outputs": [],
   "source": [
    "# BES_reduced_with_na_2 = BES_reduced_with_na.apply(pd.to_numeric,downcast='float')\n",
    "# BES_reduced_with_na_2.dtypes.value_counts()"
   ]
  },
  {
   "cell_type": "code",
   "execution_count": null,
   "metadata": {},
   "outputs": [],
   "source": []
  },
  {
   "cell_type": "code",
   "execution_count": 267,
   "metadata": {},
   "outputs": [],
   "source": [
    "########################################\n",
    "########################################\n",
    "## Pandas is trialling a new NAtype called pd.NA specifically just for missing values\n",
    "## However, still experimental, so I'm going to replace it"
   ]
  },
  {
   "cell_type": "code",
   "execution_count": 268,
   "metadata": {},
   "outputs": [],
   "source": [
    "BES_reduced_with_na = BES_reduced_with_na.astype('float').replace(pd.NA,np.nan)"
   ]
  },
  {
   "cell_type": "code",
   "execution_count": null,
   "metadata": {},
   "outputs": [],
   "source": []
  },
  {
   "cell_type": "code",
   "execution_count": 269,
   "metadata": {},
   "outputs": [
    {
     "data": {
      "text/plain": [
       "15"
      ]
     },
     "execution_count": 269,
     "metadata": {},
     "output_type": "execute_result"
    }
   ],
   "source": [
    "gc.collect()"
   ]
  },
  {
   "cell_type": "code",
   "execution_count": 270,
   "metadata": {},
   "outputs": [],
   "source": [
    "# BES_reduced_with_na.to_pickle( data_subfolder + \"BES_reduced_with_na.zip\",compression='zip')\n",
    "BES_reduced.to_pickle( data_subfolder + \"BES_reduced.zip\",compression='zip')"
   ]
  },
  {
   "cell_type": "code",
   "execution_count": 271,
   "metadata": {},
   "outputs": [],
   "source": [
    "gc.collect()\n",
    "BES_reduced_with_na.to_pickle( data_subfolder + \"BES_reduced_with_na.zip\",compression='zip')"
   ]
  },
  {
   "cell_type": "code",
   "execution_count": 272,
   "metadata": {},
   "outputs": [],
   "source": [
    "# BES_reduced_with_na = BES_reduced_with_na.apply(pd.to_numeric,downcast='float')\n",
    "# BES_reduced_with_na.to_msgpack( data_subfolder + \"BES_reduced_with_na2.msgpack\")"
   ]
  },
  {
   "cell_type": "code",
   "execution_count": 273,
   "metadata": {},
   "outputs": [],
   "source": [
    "# assert (BES_reduced==-1).sum().sum()==0\n",
    "# BES_reduced = BES_reduced.apply(pd.to_numeric,downcast='integer')\n",
    "# BES_reduced.to_msgpack( data_subfolder + \"BES_reduced.msgpack\")"
   ]
  },
  {
   "cell_type": "code",
   "execution_count": 274,
   "metadata": {},
   "outputs": [],
   "source": [
    "# assert (BES_reduced_with_na==-1).sum().sum()==0\n",
    "# # BES_reduced_with_na.fillna(-1,inplace=True)\n",
    "# BES_reduced_with_na = BES_reduced_with_na.apply(pd.to_numeric,downcast='integer')\n",
    "# BES_reduced_with_na.to_msgpack( data_subfolder + \"BES_reduced_with_na.msgpack\")"
   ]
  },
  {
   "cell_type": "code",
   "execution_count": 275,
   "metadata": {},
   "outputs": [],
   "source": [
    "# save decomp object    \n",
    "fname = data_subfolder + \"new_old_col_names.pkl\"\n",
    "\n",
    "with open(fname, \"wb\") as f:\n",
    "    pickle.dump( new_old_col_names, f )"
   ]
  },
  {
   "cell_type": "code",
   "execution_count": 276,
   "metadata": {},
   "outputs": [],
   "source": [
    "# (BES_data_folder+\"BES_reduced_with_na\"+wave+\".hdf\",\"BES_reduced_with_na\"+wave)\n"
   ]
  },
  {
   "cell_type": "code",
   "execution_count": 277,
   "metadata": {},
   "outputs": [],
   "source": [
    "# del BES_numeric,BES_imputed,BES_reduced,BES_Panel,corr_mat,df,mask"
   ]
  },
  {
   "cell_type": "code",
   "execution_count": 278,
   "metadata": {},
   "outputs": [],
   "source": [
    "\n",
    "# assert (BES_numeric==-1).sum().sum()==0\n",
    "# BES_numeric.fillna(-1,inplace=True)\n",
    "# BES_numeric = BES_numeric.apply(pd.to_numeric,downcast='integer')\n",
    "# BES_numeric.to_msgpack( data_subfolder + \"BESnumeric.msgpack\")"
   ]
  },
  {
   "cell_type": "code",
   "execution_count": 279,
   "metadata": {},
   "outputs": [],
   "source": [
    "# BES_reduced_with_na.stack().value_counts()"
   ]
  },
  {
   "cell_type": "code",
   "execution_count": 280,
   "metadata": {},
   "outputs": [],
   "source": [
    "# var_type.loc['age']"
   ]
  },
  {
   "cell_type": "code",
   "execution_count": null,
   "metadata": {},
   "outputs": [],
   "source": []
  },
  {
   "cell_type": "code",
   "execution_count": 281,
   "metadata": {},
   "outputs": [
    {
     "data": {
      "text/plain": [
       "0"
      ]
     },
     "execution_count": 281,
     "metadata": {},
     "output_type": "execute_result"
    }
   ],
   "source": [
    "gc.collect()"
   ]
  },
  {
   "cell_type": "code",
   "execution_count": 282,
   "metadata": {},
   "outputs": [],
   "source": [
    "# np.linalg.matrix_rank( BES_reduced.drop(dummy_cat_high_corr_drop_list, axis=1, errors=\"ignore\").values )"
   ]
  },
  {
   "cell_type": "code",
   "execution_count": 283,
   "metadata": {},
   "outputs": [],
   "source": [
    "# BES_reduced.drop(dummy_cat_high_corr_drop_list,axis=1,errors=\"ignore\").shape"
   ]
  },
  {
   "cell_type": "code",
   "execution_count": 284,
   "metadata": {},
   "outputs": [],
   "source": [
    "# qr = np.linalg.qr(BES_reduced.drop(dummy_cat_high_corr_drop_list,axis=1,errors=\"ignore\").values)[1]"
   ]
  },
  {
   "cell_type": "code",
   "execution_count": 285,
   "metadata": {},
   "outputs": [],
   "source": [
    "# qr.shape"
   ]
  },
  {
   "cell_type": "code",
   "execution_count": 286,
   "metadata": {},
   "outputs": [],
   "source": [
    "# BES_reduced.drop(dummy_cat_high_corr_drop_list,axis=1,errors=\"ignore\").columns[np.abs(np.sum(qr,axis=1))<.3 ]"
   ]
  },
  {
   "cell_type": "code",
   "execution_count": 287,
   "metadata": {},
   "outputs": [],
   "source": [
    "# dummy_cat_high_corr_drop_list.append('xprofile_ethnicity_Pakistani')"
   ]
  },
  {
   "cell_type": "code",
   "execution_count": 288,
   "metadata": {},
   "outputs": [],
   "source": [
    "# dummy_cat_high_corr_drop_list"
   ]
  },
  {
   "cell_type": "code",
   "execution_count": 289,
   "metadata": {},
   "outputs": [],
   "source": [
    "# dummy_cat_high_corr_drop_list = ['country_Scotland', 'country_Wales','BESwave10_Samplesurvey_taken a BES wave',\n",
    "#                                 'profile_ethnicity_Chinese','profile_ethnicity_Indian','profile_ethnicity_Pakistani',\n",
    "#                                 'profile_religion_Yes - Islam','housing_Own outright']"
   ]
  },
  {
   "cell_type": "code",
   "execution_count": 290,
   "metadata": {},
   "outputs": [],
   "source": [
    "# [x for x in BES_Panel.columns if 'age' in x.lower()]"
   ]
  },
  {
   "cell_type": "code",
   "execution_count": 291,
   "metadata": {},
   "outputs": [],
   "source": [
    "# BES_Panel.shape[0]*.02"
   ]
  },
  {
   "cell_type": "code",
   "execution_count": 292,
   "metadata": {},
   "outputs": [],
   "source": [
    "# BES_numeric[\"likeWoodW1\"].notnull().sum()"
   ]
  },
  {
   "cell_type": "code",
   "execution_count": 293,
   "metadata": {},
   "outputs": [],
   "source": [
    "# mostly_not_filled_out"
   ]
  },
  {
   "cell_type": "code",
   "execution_count": 294,
   "metadata": {},
   "outputs": [],
   "source": [
    "# # a list of dropped variables!\n",
    "# l = [many_cat_drop_list,\n",
    "# high_corr_drop_list,\n",
    "# mostly_not_filled_out,\n",
    "# very_low_var]\n",
    "\n",
    "# flat_list = [item for sublist in l for item in sublist]\n",
    "\n",
    "# fname = data_subfolder + \"red_dropped_var\"\n",
    "# with open(fname+\".pkl\", \"wb\") as f: pickle.dump( flat_list, f )"
   ]
  },
  {
   "cell_type": "code",
   "execution_count": null,
   "metadata": {},
   "outputs": [],
   "source": []
  },
  {
   "cell_type": "code",
   "execution_count": null,
   "metadata": {},
   "outputs": [],
   "source": []
  },
  {
   "cell_type": "code",
   "execution_count": 295,
   "metadata": {},
   "outputs": [],
   "source": [
    "\n",
    "# BES_reduced_with_na = BES_reduced_with_na.apply(pd.to_numeric,downcast='float')\n"
   ]
  },
  {
   "cell_type": "code",
   "execution_count": 296,
   "metadata": {},
   "outputs": [
    {
     "data": {
      "text/plain": [
       "float64    747\n",
       "Name: count, dtype: int64"
      ]
     },
     "execution_count": 296,
     "metadata": {},
     "output_type": "execute_result"
    }
   ],
   "source": [
    "BES_reduced_with_na.dtypes.value_counts()"
   ]
  },
  {
   "cell_type": "code",
   "execution_count": 297,
   "metadata": {},
   "outputs": [
    {
     "name": "stdout",
     "output_type": "stream",
     "text": [
      "           BES_reduced_with_na: 177.2MiB\n",
      "                   BES_numeric: 108.4MiB\n",
      "                     BES_Panel:  23.0MiB\n",
      "                   BES_reduced:  22.2MiB\n",
      "                   BES_imputed:  14.1MiB\n",
      "                      corr_mat:   2.2MiB\n",
      "                            df:   2.1MiB\n",
      "                         corrs:   2.1MiB\n",
      "                          mask: 548.0KiB\n",
      "                      var_type: 414.9KiB\n"
     ]
    }
   ],
   "source": [
    "memory_use(locs = locals().items())"
   ]
  },
  {
   "cell_type": "code",
   "execution_count": 298,
   "metadata": {},
   "outputs": [],
   "source": [
    "# BES_reduced_with_na.to_msgpack( data_subfolder + \"BES_reduced_with_na.msgpack\")"
   ]
  },
  {
   "cell_type": "code",
   "execution_count": 299,
   "metadata": {},
   "outputs": [],
   "source": [
    "# del corr_mat, df\n",
    "\n"
   ]
  },
  {
   "cell_type": "code",
   "execution_count": 300,
   "metadata": {},
   "outputs": [],
   "source": [
    "# BES_reduced_with_na"
   ]
  },
  {
   "cell_type": "code",
   "execution_count": null,
   "metadata": {},
   "outputs": [],
   "source": []
  }
 ],
 "metadata": {
  "anaconda-cloud": {},
  "kernelspec": {
   "display_name": "Python 3 (ipykernel)",
   "language": "python",
   "name": "python3"
  },
  "language_info": {
   "codemirror_mode": {
    "name": "ipython",
    "version": 3
   },
   "file_extension": ".py",
   "mimetype": "text/x-python",
   "name": "python",
   "nbconvert_exporter": "python",
   "pygments_lexer": "ipython3",
   "version": "3.9.19"
  }
 },
 "nbformat": 4,
 "nbformat_minor": 1
}
