{
 "cells": [
  {
   "cell_type": "code",
   "execution_count": 26,
   "id": "21973b34",
   "metadata": {},
   "outputs": [
    {
     "data": {
      "text/html": [
       "<script>jQuery(function() {if (jQuery(\"body.notebook_app\").length == 0) { jQuery(\".input_area\").toggle(); jQuery(\".prompt\").toggle();}});</script>"
      ]
     },
     "metadata": {},
     "output_type": "display_data"
    },
    {
     "data": {
      "text/html": [
       "<button onclick=\"jQuery('.input_area').toggle(); jQuery('.prompt').toggle();\">Toggle code</button>"
      ]
     },
     "metadata": {},
     "output_type": "display_data"
    },
    {
     "name": "stdout",
     "output_type": "stream",
     "text": [
      "var_type (354, 13)\n",
      "Wall time: 254 ms\n"
     ]
    }
   ],
   "source": [
    "%%time\n",
    "dataset_name = \"W10_only\"\n",
    "df_list = \"BES_Panel\"\n",
    "\n",
    "%matplotlib inline \n",
    "%run BES_header.py {dataset_name} {df_list}\n",
    "(var_type, cat_dictionary, new_old_col_names, old_new_col_names) = get_small_files(data_subfolder, encoding)    "
   ]
  },
  {
   "cell_type": "code",
   "execution_count": null,
   "id": "194f32bc",
   "metadata": {},
   "outputs": [],
   "source": []
  },
  {
   "cell_type": "code",
   "execution_count": null,
   "id": "12427c25",
   "metadata": {},
   "outputs": [],
   "source": []
  },
  {
   "cell_type": "code",
   "execution_count": null,
   "id": "3485b267",
   "metadata": {},
   "outputs": [],
   "source": [
    "df = pd.read_stata(\"E:\\\\Users\\\\Gamer\\\\Documents\\\\GitHub\\\\BES_analysis\\\\BES_analysis_data\\\\W10_only\\\\BES2015_W10_v23.0.dta\")\n",
    "df.to_pickle(\"E:\\\\Users\\\\Gamer\\\\Documents\\\\GitHub\\\\BES_analysis\\\\BES_analysis_data\\\\W10_only\\\\BES2015_W10_v23.0.zip\",compression='zip')\n",
    "\n",
    "df = pd.read_stata(\"E:\\\\Users\\\\Gamer\\\\Documents\\\\GitHub\\\\BES_analysis\\\\BES_analysis_data\\\\W22_only\\\\BES2019_W22_v23.0.dta\")\n",
    "df.to_pickle(\"E:\\\\Users\\\\Gamer\\\\Documents\\\\GitHub\\\\BES_analysis\\\\BES_analysis_data\\\\W22_only\\\\BES2019_W22_v23.0.zip\",compression='zip')\n",
    "\n",
    "df = pd.read_stata(\"E:\\\\Users\\\\Gamer\\\\Documents\\\\GitHub\\\\BES_analysis\\\\BES_analysis_data\\\\W23_only\\\\BES2019_W23_v23.0.dta\")\n",
    "df.to_pickle(\"E:\\\\Users\\\\Gamer\\\\Documents\\\\GitHub\\\\BES_analysis\\\\BES_analysis_data\\\\W23_only\\\\BES2019_W23_v23.0.zip\",compression='zip')"
   ]
  },
  {
   "cell_type": "code",
   "execution_count": 14,
   "id": "71f55946",
   "metadata": {},
   "outputs": [
    {
     "ename": "MemoryError",
     "evalue": "Unable to allocate 7.87 GiB for an array with shape (9802, 107796) and data type float64",
     "output_type": "error",
     "traceback": [
      "\u001b[1;31m---------------------------------------------------------------------------\u001b[0m",
      "\u001b[1;31mMemoryError\u001b[0m                               Traceback (most recent call last)",
      "\u001b[1;32m<ipython-input-14-91c7f34729b3>\u001b[0m in \u001b[0;36m<module>\u001b[1;34m\u001b[0m\n\u001b[0;32m      8\u001b[0m \u001b[0mdf\u001b[0m\u001b[1;33m.\u001b[0m\u001b[0mto_pickle\u001b[0m\u001b[1;33m(\u001b[0m\u001b[1;34m\"E:\\\\Users\\\\Gamer\\\\Documents\\\\GitHub\\\\BES_analysis\\\\BES_analysis_data\\\\W23_only\\\\BES2019_W23_v23.0.zip\"\u001b[0m\u001b[1;33m,\u001b[0m\u001b[0mcompression\u001b[0m\u001b[1;33m=\u001b[0m\u001b[1;34m'zip'\u001b[0m\u001b[1;33m)\u001b[0m\u001b[1;33m\u001b[0m\u001b[1;33m\u001b[0m\u001b[0m\n\u001b[0;32m      9\u001b[0m \u001b[1;33m\u001b[0m\u001b[0m\n\u001b[1;32m---> 10\u001b[1;33m \u001b[0mdf\u001b[0m \u001b[1;33m=\u001b[0m \u001b[0mpd\u001b[0m\u001b[1;33m.\u001b[0m\u001b[0mread_stata\u001b[0m\u001b[1;33m(\u001b[0m\u001b[1;34m\"E:\\\\Users\\\\Gamer\\\\Documents\\\\GitHub\\\\BES_analysis\\\\BES_analysis_data\\\\W23_comb\\\\BES2019_W23_Panel_v23.0.dta\"\u001b[0m\u001b[1;33m)\u001b[0m\u001b[1;33m\u001b[0m\u001b[1;33m\u001b[0m\u001b[0m\n\u001b[0m\u001b[0;32m     11\u001b[0m \u001b[0mdf\u001b[0m\u001b[1;33m.\u001b[0m\u001b[0mto_pickle\u001b[0m\u001b[1;33m(\u001b[0m\u001b[1;34m\"E:\\\\Users\\\\Gamer\\\\Documents\\\\GitHub\\\\BES_analysis\\\\BES_analysis_data\\\\W23_comb\\\\BES2019_W23_Panel_v23.0.zip\"\u001b[0m\u001b[1;33m,\u001b[0m\u001b[0mcompression\u001b[0m\u001b[1;33m=\u001b[0m\u001b[1;34m'zip'\u001b[0m\u001b[1;33m)\u001b[0m\u001b[1;33m\u001b[0m\u001b[1;33m\u001b[0m\u001b[0m\n",
      "\u001b[1;32mE:\\Users\\Gamer\\anaconda3\\envs\\test_tensorflow_install\\lib\\site-packages\\pandas\\io\\stata.py\u001b[0m in \u001b[0;36mread_stata\u001b[1;34m(filepath_or_buffer, convert_dates, convert_categoricals, index_col, convert_missing, preserve_dtypes, columns, order_categoricals, chunksize, iterator, storage_options)\u001b[0m\n\u001b[0;32m   1913\u001b[0m \u001b[1;33m\u001b[0m\u001b[0m\n\u001b[0;32m   1914\u001b[0m     \u001b[1;32mtry\u001b[0m\u001b[1;33m:\u001b[0m\u001b[1;33m\u001b[0m\u001b[1;33m\u001b[0m\u001b[0m\n\u001b[1;32m-> 1915\u001b[1;33m         \u001b[0mdata\u001b[0m \u001b[1;33m=\u001b[0m \u001b[0mreader\u001b[0m\u001b[1;33m.\u001b[0m\u001b[0mread\u001b[0m\u001b[1;33m(\u001b[0m\u001b[1;33m)\u001b[0m\u001b[1;33m\u001b[0m\u001b[1;33m\u001b[0m\u001b[0m\n\u001b[0m\u001b[0;32m   1916\u001b[0m     \u001b[1;32mfinally\u001b[0m\u001b[1;33m:\u001b[0m\u001b[1;33m\u001b[0m\u001b[1;33m\u001b[0m\u001b[0m\n\u001b[0;32m   1917\u001b[0m         \u001b[0mreader\u001b[0m\u001b[1;33m.\u001b[0m\u001b[0mclose\u001b[0m\u001b[1;33m(\u001b[0m\u001b[1;33m)\u001b[0m\u001b[1;33m\u001b[0m\u001b[1;33m\u001b[0m\u001b[0m\n",
      "\u001b[1;32mE:\\Users\\Gamer\\anaconda3\\envs\\test_tensorflow_install\\lib\\site-packages\\pandas\\io\\stata.py\u001b[0m in \u001b[0;36mread\u001b[1;34m(self, nrows, convert_dates, convert_categoricals, index_col, convert_missing, preserve_dtypes, columns, order_categoricals)\u001b[0m\n\u001b[0;32m   1645\u001b[0m         \u001b[1;32mdel\u001b[0m \u001b[0mdata_formatted\u001b[0m\u001b[1;33m\u001b[0m\u001b[1;33m\u001b[0m\u001b[0m\n\u001b[0;32m   1646\u001b[0m \u001b[1;33m\u001b[0m\u001b[0m\n\u001b[1;32m-> 1647\u001b[1;33m         \u001b[0mdata\u001b[0m \u001b[1;33m=\u001b[0m \u001b[0mself\u001b[0m\u001b[1;33m.\u001b[0m\u001b[0m_do_convert_missing\u001b[0m\u001b[1;33m(\u001b[0m\u001b[0mdata\u001b[0m\u001b[1;33m,\u001b[0m \u001b[0mconvert_missing\u001b[0m\u001b[1;33m)\u001b[0m\u001b[1;33m\u001b[0m\u001b[1;33m\u001b[0m\u001b[0m\n\u001b[0m\u001b[0;32m   1648\u001b[0m \u001b[1;33m\u001b[0m\u001b[0m\n\u001b[0;32m   1649\u001b[0m         \u001b[1;32mif\u001b[0m \u001b[0mconvert_dates\u001b[0m\u001b[1;33m:\u001b[0m\u001b[1;33m\u001b[0m\u001b[1;33m\u001b[0m\u001b[0m\n",
      "\u001b[1;32mE:\\Users\\Gamer\\anaconda3\\envs\\test_tensorflow_install\\lib\\site-packages\\pandas\\io\\stata.py\u001b[0m in \u001b[0;36m_do_convert_missing\u001b[1;34m(self, data, convert_missing)\u001b[0m\n\u001b[0;32m   1726\u001b[0m         \u001b[1;32mif\u001b[0m \u001b[0mreplacements\u001b[0m\u001b[1;33m:\u001b[0m\u001b[1;33m\u001b[0m\u001b[1;33m\u001b[0m\u001b[0m\n\u001b[0;32m   1727\u001b[0m             \u001b[0mcolumns\u001b[0m \u001b[1;33m=\u001b[0m \u001b[0mdata\u001b[0m\u001b[1;33m.\u001b[0m\u001b[0mcolumns\u001b[0m\u001b[1;33m\u001b[0m\u001b[1;33m\u001b[0m\u001b[0m\n\u001b[1;32m-> 1728\u001b[1;33m             \u001b[0mreplacement_df\u001b[0m \u001b[1;33m=\u001b[0m \u001b[0mDataFrame\u001b[0m\u001b[1;33m(\u001b[0m\u001b[0mreplacements\u001b[0m\u001b[1;33m)\u001b[0m\u001b[1;33m\u001b[0m\u001b[1;33m\u001b[0m\u001b[0m\n\u001b[0m\u001b[0;32m   1729\u001b[0m             \u001b[0mreplaced\u001b[0m \u001b[1;33m=\u001b[0m \u001b[0mconcat\u001b[0m\u001b[1;33m(\u001b[0m\u001b[1;33m[\u001b[0m\u001b[0mdata\u001b[0m\u001b[1;33m.\u001b[0m\u001b[0mdrop\u001b[0m\u001b[1;33m(\u001b[0m\u001b[0mreplacement_df\u001b[0m\u001b[1;33m.\u001b[0m\u001b[0mcolumns\u001b[0m\u001b[1;33m,\u001b[0m \u001b[1;36m1\u001b[0m\u001b[1;33m)\u001b[0m\u001b[1;33m,\u001b[0m \u001b[0mreplacement_df\u001b[0m\u001b[1;33m]\u001b[0m\u001b[1;33m,\u001b[0m \u001b[1;36m1\u001b[0m\u001b[1;33m)\u001b[0m\u001b[1;33m\u001b[0m\u001b[1;33m\u001b[0m\u001b[0m\n\u001b[0;32m   1730\u001b[0m             \u001b[0mdata\u001b[0m \u001b[1;33m=\u001b[0m \u001b[0mreplaced\u001b[0m\u001b[1;33m[\u001b[0m\u001b[0mcolumns\u001b[0m\u001b[1;33m]\u001b[0m\u001b[1;33m\u001b[0m\u001b[1;33m\u001b[0m\u001b[0m\n",
      "\u001b[1;32mE:\\Users\\Gamer\\anaconda3\\envs\\test_tensorflow_install\\lib\\site-packages\\pandas\\core\\frame.py\u001b[0m in \u001b[0;36m__init__\u001b[1;34m(self, data, index, columns, dtype, copy)\u001b[0m\n\u001b[0;32m    527\u001b[0m \u001b[1;33m\u001b[0m\u001b[0m\n\u001b[0;32m    528\u001b[0m         \u001b[1;32melif\u001b[0m \u001b[0misinstance\u001b[0m\u001b[1;33m(\u001b[0m\u001b[0mdata\u001b[0m\u001b[1;33m,\u001b[0m \u001b[0mdict\u001b[0m\u001b[1;33m)\u001b[0m\u001b[1;33m:\u001b[0m\u001b[1;33m\u001b[0m\u001b[1;33m\u001b[0m\u001b[0m\n\u001b[1;32m--> 529\u001b[1;33m             \u001b[0mmgr\u001b[0m \u001b[1;33m=\u001b[0m \u001b[0minit_dict\u001b[0m\u001b[1;33m(\u001b[0m\u001b[0mdata\u001b[0m\u001b[1;33m,\u001b[0m \u001b[0mindex\u001b[0m\u001b[1;33m,\u001b[0m \u001b[0mcolumns\u001b[0m\u001b[1;33m,\u001b[0m \u001b[0mdtype\u001b[0m\u001b[1;33m=\u001b[0m\u001b[0mdtype\u001b[0m\u001b[1;33m)\u001b[0m\u001b[1;33m\u001b[0m\u001b[1;33m\u001b[0m\u001b[0m\n\u001b[0m\u001b[0;32m    530\u001b[0m         \u001b[1;32melif\u001b[0m \u001b[0misinstance\u001b[0m\u001b[1;33m(\u001b[0m\u001b[0mdata\u001b[0m\u001b[1;33m,\u001b[0m \u001b[0mma\u001b[0m\u001b[1;33m.\u001b[0m\u001b[0mMaskedArray\u001b[0m\u001b[1;33m)\u001b[0m\u001b[1;33m:\u001b[0m\u001b[1;33m\u001b[0m\u001b[1;33m\u001b[0m\u001b[0m\n\u001b[0;32m    531\u001b[0m             \u001b[1;32mimport\u001b[0m \u001b[0mnumpy\u001b[0m\u001b[1;33m.\u001b[0m\u001b[0mma\u001b[0m\u001b[1;33m.\u001b[0m\u001b[0mmrecords\u001b[0m \u001b[1;32mas\u001b[0m \u001b[0mmrecords\u001b[0m\u001b[1;33m\u001b[0m\u001b[1;33m\u001b[0m\u001b[0m\n",
      "\u001b[1;32mE:\\Users\\Gamer\\anaconda3\\envs\\test_tensorflow_install\\lib\\site-packages\\pandas\\core\\internals\\construction.py\u001b[0m in \u001b[0;36minit_dict\u001b[1;34m(data, index, columns, dtype)\u001b[0m\n\u001b[0;32m    285\u001b[0m             \u001b[0marr\u001b[0m \u001b[1;32mif\u001b[0m \u001b[1;32mnot\u001b[0m \u001b[0mis_datetime64tz_dtype\u001b[0m\u001b[1;33m(\u001b[0m\u001b[0marr\u001b[0m\u001b[1;33m)\u001b[0m \u001b[1;32melse\u001b[0m \u001b[0marr\u001b[0m\u001b[1;33m.\u001b[0m\u001b[0mcopy\u001b[0m\u001b[1;33m(\u001b[0m\u001b[1;33m)\u001b[0m \u001b[1;32mfor\u001b[0m \u001b[0marr\u001b[0m \u001b[1;32min\u001b[0m \u001b[0marrays\u001b[0m\u001b[1;33m\u001b[0m\u001b[1;33m\u001b[0m\u001b[0m\n\u001b[0;32m    286\u001b[0m         ]\n\u001b[1;32m--> 287\u001b[1;33m     \u001b[1;32mreturn\u001b[0m \u001b[0marrays_to_mgr\u001b[0m\u001b[1;33m(\u001b[0m\u001b[0marrays\u001b[0m\u001b[1;33m,\u001b[0m \u001b[0mdata_names\u001b[0m\u001b[1;33m,\u001b[0m \u001b[0mindex\u001b[0m\u001b[1;33m,\u001b[0m \u001b[0mcolumns\u001b[0m\u001b[1;33m,\u001b[0m \u001b[0mdtype\u001b[0m\u001b[1;33m=\u001b[0m\u001b[0mdtype\u001b[0m\u001b[1;33m)\u001b[0m\u001b[1;33m\u001b[0m\u001b[1;33m\u001b[0m\u001b[0m\n\u001b[0m\u001b[0;32m    288\u001b[0m \u001b[1;33m\u001b[0m\u001b[0m\n\u001b[0;32m    289\u001b[0m \u001b[1;33m\u001b[0m\u001b[0m\n",
      "\u001b[1;32mE:\\Users\\Gamer\\anaconda3\\envs\\test_tensorflow_install\\lib\\site-packages\\pandas\\core\\internals\\construction.py\u001b[0m in \u001b[0;36marrays_to_mgr\u001b[1;34m(arrays, arr_names, index, columns, dtype, verify_integrity)\u001b[0m\n\u001b[0;32m     93\u001b[0m     \u001b[0maxes\u001b[0m \u001b[1;33m=\u001b[0m \u001b[1;33m[\u001b[0m\u001b[0mcolumns\u001b[0m\u001b[1;33m,\u001b[0m \u001b[0mindex\u001b[0m\u001b[1;33m]\u001b[0m\u001b[1;33m\u001b[0m\u001b[1;33m\u001b[0m\u001b[0m\n\u001b[0;32m     94\u001b[0m \u001b[1;33m\u001b[0m\u001b[0m\n\u001b[1;32m---> 95\u001b[1;33m     \u001b[1;32mreturn\u001b[0m \u001b[0mcreate_block_manager_from_arrays\u001b[0m\u001b[1;33m(\u001b[0m\u001b[0marrays\u001b[0m\u001b[1;33m,\u001b[0m \u001b[0marr_names\u001b[0m\u001b[1;33m,\u001b[0m \u001b[0maxes\u001b[0m\u001b[1;33m)\u001b[0m\u001b[1;33m\u001b[0m\u001b[1;33m\u001b[0m\u001b[0m\n\u001b[0m\u001b[0;32m     96\u001b[0m \u001b[1;33m\u001b[0m\u001b[0m\n\u001b[0;32m     97\u001b[0m \u001b[1;33m\u001b[0m\u001b[0m\n",
      "\u001b[1;32mE:\\Users\\Gamer\\anaconda3\\envs\\test_tensorflow_install\\lib\\site-packages\\pandas\\core\\internals\\managers.py\u001b[0m in \u001b[0;36mcreate_block_manager_from_arrays\u001b[1;34m(arrays, names, axes)\u001b[0m\n\u001b[0;32m   1701\u001b[0m         \u001b[0mblocks\u001b[0m \u001b[1;33m=\u001b[0m \u001b[0m_form_blocks\u001b[0m\u001b[1;33m(\u001b[0m\u001b[0marrays\u001b[0m\u001b[1;33m,\u001b[0m \u001b[0mnames\u001b[0m\u001b[1;33m,\u001b[0m \u001b[0maxes\u001b[0m\u001b[1;33m)\u001b[0m\u001b[1;33m\u001b[0m\u001b[1;33m\u001b[0m\u001b[0m\n\u001b[0;32m   1702\u001b[0m         \u001b[0mmgr\u001b[0m \u001b[1;33m=\u001b[0m \u001b[0mBlockManager\u001b[0m\u001b[1;33m(\u001b[0m\u001b[0mblocks\u001b[0m\u001b[1;33m,\u001b[0m \u001b[0maxes\u001b[0m\u001b[1;33m)\u001b[0m\u001b[1;33m\u001b[0m\u001b[1;33m\u001b[0m\u001b[0m\n\u001b[1;32m-> 1703\u001b[1;33m         \u001b[0mmgr\u001b[0m\u001b[1;33m.\u001b[0m\u001b[0m_consolidate_inplace\u001b[0m\u001b[1;33m(\u001b[0m\u001b[1;33m)\u001b[0m\u001b[1;33m\u001b[0m\u001b[1;33m\u001b[0m\u001b[0m\n\u001b[0m\u001b[0;32m   1704\u001b[0m         \u001b[1;32mreturn\u001b[0m \u001b[0mmgr\u001b[0m\u001b[1;33m\u001b[0m\u001b[1;33m\u001b[0m\u001b[0m\n\u001b[0;32m   1705\u001b[0m     \u001b[1;32mexcept\u001b[0m \u001b[0mValueError\u001b[0m \u001b[1;32mas\u001b[0m \u001b[0me\u001b[0m\u001b[1;33m:\u001b[0m\u001b[1;33m\u001b[0m\u001b[1;33m\u001b[0m\u001b[0m\n",
      "\u001b[1;32mE:\\Users\\Gamer\\anaconda3\\envs\\test_tensorflow_install\\lib\\site-packages\\pandas\\core\\internals\\managers.py\u001b[0m in \u001b[0;36m_consolidate_inplace\u001b[1;34m(self)\u001b[0m\n\u001b[0;32m    991\u001b[0m     \u001b[1;32mdef\u001b[0m \u001b[0m_consolidate_inplace\u001b[0m\u001b[1;33m(\u001b[0m\u001b[0mself\u001b[0m\u001b[1;33m)\u001b[0m \u001b[1;33m->\u001b[0m \u001b[1;32mNone\u001b[0m\u001b[1;33m:\u001b[0m\u001b[1;33m\u001b[0m\u001b[1;33m\u001b[0m\u001b[0m\n\u001b[0;32m    992\u001b[0m         \u001b[1;32mif\u001b[0m \u001b[1;32mnot\u001b[0m \u001b[0mself\u001b[0m\u001b[1;33m.\u001b[0m\u001b[0mis_consolidated\u001b[0m\u001b[1;33m(\u001b[0m\u001b[1;33m)\u001b[0m\u001b[1;33m:\u001b[0m\u001b[1;33m\u001b[0m\u001b[1;33m\u001b[0m\u001b[0m\n\u001b[1;32m--> 993\u001b[1;33m             \u001b[0mself\u001b[0m\u001b[1;33m.\u001b[0m\u001b[0mblocks\u001b[0m \u001b[1;33m=\u001b[0m \u001b[0mtuple\u001b[0m\u001b[1;33m(\u001b[0m\u001b[0m_consolidate\u001b[0m\u001b[1;33m(\u001b[0m\u001b[0mself\u001b[0m\u001b[1;33m.\u001b[0m\u001b[0mblocks\u001b[0m\u001b[1;33m)\u001b[0m\u001b[1;33m)\u001b[0m\u001b[1;33m\u001b[0m\u001b[1;33m\u001b[0m\u001b[0m\n\u001b[0m\u001b[0;32m    994\u001b[0m             \u001b[0mself\u001b[0m\u001b[1;33m.\u001b[0m\u001b[0m_is_consolidated\u001b[0m \u001b[1;33m=\u001b[0m \u001b[1;32mTrue\u001b[0m\u001b[1;33m\u001b[0m\u001b[1;33m\u001b[0m\u001b[0m\n\u001b[0;32m    995\u001b[0m             \u001b[0mself\u001b[0m\u001b[1;33m.\u001b[0m\u001b[0m_known_consolidated\u001b[0m \u001b[1;33m=\u001b[0m \u001b[1;32mTrue\u001b[0m\u001b[1;33m\u001b[0m\u001b[1;33m\u001b[0m\u001b[0m\n",
      "\u001b[1;32mE:\\Users\\Gamer\\anaconda3\\envs\\test_tensorflow_install\\lib\\site-packages\\pandas\\core\\internals\\managers.py\u001b[0m in \u001b[0;36m_consolidate\u001b[1;34m(blocks)\u001b[0m\n\u001b[0;32m   1915\u001b[0m     \u001b[1;32mfor\u001b[0m \u001b[1;33m(\u001b[0m\u001b[0m_can_consolidate\u001b[0m\u001b[1;33m,\u001b[0m \u001b[0mdtype\u001b[0m\u001b[1;33m)\u001b[0m\u001b[1;33m,\u001b[0m \u001b[0mgroup_blocks\u001b[0m \u001b[1;32min\u001b[0m \u001b[0mgrouper\u001b[0m\u001b[1;33m:\u001b[0m\u001b[1;33m\u001b[0m\u001b[1;33m\u001b[0m\u001b[0m\n\u001b[0;32m   1916\u001b[0m         merged_blocks = _merge_blocks(\n\u001b[1;32m-> 1917\u001b[1;33m             \u001b[0mlist\u001b[0m\u001b[1;33m(\u001b[0m\u001b[0mgroup_blocks\u001b[0m\u001b[1;33m)\u001b[0m\u001b[1;33m,\u001b[0m \u001b[0mdtype\u001b[0m\u001b[1;33m=\u001b[0m\u001b[0mdtype\u001b[0m\u001b[1;33m,\u001b[0m \u001b[0mcan_consolidate\u001b[0m\u001b[1;33m=\u001b[0m\u001b[0m_can_consolidate\u001b[0m\u001b[1;33m\u001b[0m\u001b[1;33m\u001b[0m\u001b[0m\n\u001b[0m\u001b[0;32m   1918\u001b[0m         )\n\u001b[0;32m   1919\u001b[0m         \u001b[0mnew_blocks\u001b[0m \u001b[1;33m=\u001b[0m \u001b[0mextend_blocks\u001b[0m\u001b[1;33m(\u001b[0m\u001b[0mmerged_blocks\u001b[0m\u001b[1;33m,\u001b[0m \u001b[0mnew_blocks\u001b[0m\u001b[1;33m)\u001b[0m\u001b[1;33m\u001b[0m\u001b[1;33m\u001b[0m\u001b[0m\n",
      "\u001b[1;32mE:\\Users\\Gamer\\anaconda3\\envs\\test_tensorflow_install\\lib\\site-packages\\pandas\\core\\internals\\managers.py\u001b[0m in \u001b[0;36m_merge_blocks\u001b[1;34m(blocks, dtype, can_consolidate)\u001b[0m\n\u001b[0;32m   1940\u001b[0m \u001b[1;33m\u001b[0m\u001b[0m\n\u001b[0;32m   1941\u001b[0m         \u001b[0margsort\u001b[0m \u001b[1;33m=\u001b[0m \u001b[0mnp\u001b[0m\u001b[1;33m.\u001b[0m\u001b[0margsort\u001b[0m\u001b[1;33m(\u001b[0m\u001b[0mnew_mgr_locs\u001b[0m\u001b[1;33m)\u001b[0m\u001b[1;33m\u001b[0m\u001b[1;33m\u001b[0m\u001b[0m\n\u001b[1;32m-> 1942\u001b[1;33m         \u001b[0mnew_values\u001b[0m \u001b[1;33m=\u001b[0m \u001b[0mnew_values\u001b[0m\u001b[1;33m[\u001b[0m\u001b[0margsort\u001b[0m\u001b[1;33m]\u001b[0m\u001b[1;33m\u001b[0m\u001b[1;33m\u001b[0m\u001b[0m\n\u001b[0m\u001b[0;32m   1943\u001b[0m         \u001b[0mnew_mgr_locs\u001b[0m \u001b[1;33m=\u001b[0m \u001b[0mnew_mgr_locs\u001b[0m\u001b[1;33m[\u001b[0m\u001b[0margsort\u001b[0m\u001b[1;33m]\u001b[0m\u001b[1;33m\u001b[0m\u001b[1;33m\u001b[0m\u001b[0m\n\u001b[0;32m   1944\u001b[0m \u001b[1;33m\u001b[0m\u001b[0m\n",
      "\u001b[1;31mMemoryError\u001b[0m: Unable to allocate 7.87 GiB for an array with shape (9802, 107796) and data type float64"
     ]
    }
   ],
   "source": [
    "df = pd.read_stata(\"E:\\\\Users\\\\Gamer\\\\Documents\\\\GitHub\\\\BES_analysis\\\\BES_analysis_data\\\\W23_comb\\\\BES2019_W23_Panel_v23.0.dta\")\n",
    "df.to_pickle(\"E:\\\\Users\\\\Gamer\\\\Documents\\\\GitHub\\\\BES_analysis\\\\BES_analysis_data\\\\W23_comb\\\\BES2019_W23_Panel_v23.0.zip\",compression='zip')"
   ]
  },
  {
   "cell_type": "code",
   "execution_count": 29,
   "id": "6125b5f7",
   "metadata": {},
   "outputs": [
    {
     "ename": "MemoryError",
     "evalue": "Unable to allocate 49.8 MiB for an array with shape (242, 107796) and data type int16",
     "output_type": "error",
     "traceback": [
      "\u001b[1;31m---------------------------------------------------------------------------\u001b[0m",
      "\u001b[1;31mMemoryError\u001b[0m                               Traceback (most recent call last)",
      "\u001b[1;32m<ipython-input-29-ea558f6c6cb1>\u001b[0m in \u001b[0;36m<module>\u001b[1;34m\u001b[0m\n\u001b[1;32m----> 1\u001b[1;33m \u001b[0mdf\u001b[0m \u001b[1;33m=\u001b[0m \u001b[0mpd\u001b[0m\u001b[1;33m.\u001b[0m\u001b[0mread_stata\u001b[0m\u001b[1;33m(\u001b[0m\u001b[1;34m\"E:\\\\Users\\\\Gamer\\\\Documents\\\\GitHub\\\\BES_analysis\\\\BES_analysis_data\\\\W23_comb\\\\BES2019_W23_Panel_v23.0.dta\"\u001b[0m\u001b[1;33m)\u001b[0m\u001b[1;33m\u001b[0m\u001b[1;33m\u001b[0m\u001b[0m\n\u001b[0m",
      "\u001b[1;32mE:\\Users\\Gamer\\anaconda3\\envs\\test_tensorflow_install\\lib\\site-packages\\pandas\\io\\stata.py\u001b[0m in \u001b[0;36mread_stata\u001b[1;34m(filepath_or_buffer, convert_dates, convert_categoricals, index_col, convert_missing, preserve_dtypes, columns, order_categoricals, chunksize, iterator, storage_options)\u001b[0m\n\u001b[0;32m   1913\u001b[0m \u001b[1;33m\u001b[0m\u001b[0m\n\u001b[0;32m   1914\u001b[0m     \u001b[1;32mtry\u001b[0m\u001b[1;33m:\u001b[0m\u001b[1;33m\u001b[0m\u001b[1;33m\u001b[0m\u001b[0m\n\u001b[1;32m-> 1915\u001b[1;33m         \u001b[0mdata\u001b[0m \u001b[1;33m=\u001b[0m \u001b[0mreader\u001b[0m\u001b[1;33m.\u001b[0m\u001b[0mread\u001b[0m\u001b[1;33m(\u001b[0m\u001b[1;33m)\u001b[0m\u001b[1;33m\u001b[0m\u001b[1;33m\u001b[0m\u001b[0m\n\u001b[0m\u001b[0;32m   1916\u001b[0m     \u001b[1;32mfinally\u001b[0m\u001b[1;33m:\u001b[0m\u001b[1;33m\u001b[0m\u001b[1;33m\u001b[0m\u001b[0m\n\u001b[0;32m   1917\u001b[0m         \u001b[0mreader\u001b[0m\u001b[1;33m.\u001b[0m\u001b[0mclose\u001b[0m\u001b[1;33m(\u001b[0m\u001b[1;33m)\u001b[0m\u001b[1;33m\u001b[0m\u001b[1;33m\u001b[0m\u001b[0m\n",
      "\u001b[1;32mE:\\Users\\Gamer\\anaconda3\\envs\\test_tensorflow_install\\lib\\site-packages\\pandas\\io\\stata.py\u001b[0m in \u001b[0;36mread\u001b[1;34m(self, nrows, convert_dates, convert_categoricals, index_col, convert_missing, preserve_dtypes, columns, order_categoricals)\u001b[0m\n\u001b[0;32m   1602\u001b[0m             \u001b[0mdata\u001b[0m \u001b[1;33m=\u001b[0m \u001b[0mDataFrame\u001b[0m\u001b[1;33m(\u001b[0m\u001b[0mcolumns\u001b[0m\u001b[1;33m=\u001b[0m\u001b[0mself\u001b[0m\u001b[1;33m.\u001b[0m\u001b[0mvarlist\u001b[0m\u001b[1;33m)\u001b[0m\u001b[1;33m\u001b[0m\u001b[1;33m\u001b[0m\u001b[0m\n\u001b[0;32m   1603\u001b[0m         \u001b[1;32melse\u001b[0m\u001b[1;33m:\u001b[0m\u001b[1;33m\u001b[0m\u001b[1;33m\u001b[0m\u001b[0m\n\u001b[1;32m-> 1604\u001b[1;33m             \u001b[0mdata\u001b[0m \u001b[1;33m=\u001b[0m \u001b[0mDataFrame\u001b[0m\u001b[1;33m.\u001b[0m\u001b[0mfrom_records\u001b[0m\u001b[1;33m(\u001b[0m\u001b[0mdata\u001b[0m\u001b[1;33m)\u001b[0m\u001b[1;33m\u001b[0m\u001b[1;33m\u001b[0m\u001b[0m\n\u001b[0m\u001b[0;32m   1605\u001b[0m             \u001b[0mdata\u001b[0m\u001b[1;33m.\u001b[0m\u001b[0mcolumns\u001b[0m \u001b[1;33m=\u001b[0m \u001b[0mself\u001b[0m\u001b[1;33m.\u001b[0m\u001b[0mvarlist\u001b[0m\u001b[1;33m\u001b[0m\u001b[1;33m\u001b[0m\u001b[0m\n\u001b[0;32m   1606\u001b[0m \u001b[1;33m\u001b[0m\u001b[0m\n",
      "\u001b[1;32mE:\\Users\\Gamer\\anaconda3\\envs\\test_tensorflow_install\\lib\\site-packages\\pandas\\core\\frame.py\u001b[0m in \u001b[0;36mfrom_records\u001b[1;34m(cls, data, index, exclude, columns, coerce_float, nrows)\u001b[0m\n\u001b[0;32m   1893\u001b[0m             \u001b[0mcolumns\u001b[0m \u001b[1;33m=\u001b[0m \u001b[0mcolumns\u001b[0m\u001b[1;33m.\u001b[0m\u001b[0mdrop\u001b[0m\u001b[1;33m(\u001b[0m\u001b[0mexclude\u001b[0m\u001b[1;33m)\u001b[0m\u001b[1;33m\u001b[0m\u001b[1;33m\u001b[0m\u001b[0m\n\u001b[0;32m   1894\u001b[0m \u001b[1;33m\u001b[0m\u001b[0m\n\u001b[1;32m-> 1895\u001b[1;33m         \u001b[0mmgr\u001b[0m \u001b[1;33m=\u001b[0m \u001b[0marrays_to_mgr\u001b[0m\u001b[1;33m(\u001b[0m\u001b[0marrays\u001b[0m\u001b[1;33m,\u001b[0m \u001b[0marr_columns\u001b[0m\u001b[1;33m,\u001b[0m \u001b[0mresult_index\u001b[0m\u001b[1;33m,\u001b[0m \u001b[0mcolumns\u001b[0m\u001b[1;33m)\u001b[0m\u001b[1;33m\u001b[0m\u001b[1;33m\u001b[0m\u001b[0m\n\u001b[0m\u001b[0;32m   1896\u001b[0m \u001b[1;33m\u001b[0m\u001b[0m\n\u001b[0;32m   1897\u001b[0m         \u001b[1;32mreturn\u001b[0m \u001b[0mcls\u001b[0m\u001b[1;33m(\u001b[0m\u001b[0mmgr\u001b[0m\u001b[1;33m)\u001b[0m\u001b[1;33m\u001b[0m\u001b[1;33m\u001b[0m\u001b[0m\n",
      "\u001b[1;32mE:\\Users\\Gamer\\anaconda3\\envs\\test_tensorflow_install\\lib\\site-packages\\pandas\\core\\internals\\construction.py\u001b[0m in \u001b[0;36marrays_to_mgr\u001b[1;34m(arrays, arr_names, index, columns, dtype, verify_integrity)\u001b[0m\n\u001b[0;32m     93\u001b[0m     \u001b[0maxes\u001b[0m \u001b[1;33m=\u001b[0m \u001b[1;33m[\u001b[0m\u001b[0mcolumns\u001b[0m\u001b[1;33m,\u001b[0m \u001b[0mindex\u001b[0m\u001b[1;33m]\u001b[0m\u001b[1;33m\u001b[0m\u001b[1;33m\u001b[0m\u001b[0m\n\u001b[0;32m     94\u001b[0m \u001b[1;33m\u001b[0m\u001b[0m\n\u001b[1;32m---> 95\u001b[1;33m     \u001b[1;32mreturn\u001b[0m \u001b[0mcreate_block_manager_from_arrays\u001b[0m\u001b[1;33m(\u001b[0m\u001b[0marrays\u001b[0m\u001b[1;33m,\u001b[0m \u001b[0marr_names\u001b[0m\u001b[1;33m,\u001b[0m \u001b[0maxes\u001b[0m\u001b[1;33m)\u001b[0m\u001b[1;33m\u001b[0m\u001b[1;33m\u001b[0m\u001b[0m\n\u001b[0m\u001b[0;32m     96\u001b[0m \u001b[1;33m\u001b[0m\u001b[0m\n\u001b[0;32m     97\u001b[0m \u001b[1;33m\u001b[0m\u001b[0m\n",
      "\u001b[1;32mE:\\Users\\Gamer\\anaconda3\\envs\\test_tensorflow_install\\lib\\site-packages\\pandas\\core\\internals\\managers.py\u001b[0m in \u001b[0;36mcreate_block_manager_from_arrays\u001b[1;34m(arrays, names, axes)\u001b[0m\n\u001b[0;32m   1699\u001b[0m     \u001b[0marrays\u001b[0m \u001b[1;33m=\u001b[0m \u001b[1;33m[\u001b[0m\u001b[0mx\u001b[0m \u001b[1;32mif\u001b[0m \u001b[1;32mnot\u001b[0m \u001b[0misinstance\u001b[0m\u001b[1;33m(\u001b[0m\u001b[0mx\u001b[0m\u001b[1;33m,\u001b[0m \u001b[0mABCPandasArray\u001b[0m\u001b[1;33m)\u001b[0m \u001b[1;32melse\u001b[0m \u001b[0mx\u001b[0m\u001b[1;33m.\u001b[0m\u001b[0mto_numpy\u001b[0m\u001b[1;33m(\u001b[0m\u001b[1;33m)\u001b[0m \u001b[1;32mfor\u001b[0m \u001b[0mx\u001b[0m \u001b[1;32min\u001b[0m \u001b[0marrays\u001b[0m\u001b[1;33m]\u001b[0m\u001b[1;33m\u001b[0m\u001b[1;33m\u001b[0m\u001b[0m\n\u001b[0;32m   1700\u001b[0m     \u001b[1;32mtry\u001b[0m\u001b[1;33m:\u001b[0m\u001b[1;33m\u001b[0m\u001b[1;33m\u001b[0m\u001b[0m\n\u001b[1;32m-> 1701\u001b[1;33m         \u001b[0mblocks\u001b[0m \u001b[1;33m=\u001b[0m \u001b[0m_form_blocks\u001b[0m\u001b[1;33m(\u001b[0m\u001b[0marrays\u001b[0m\u001b[1;33m,\u001b[0m \u001b[0mnames\u001b[0m\u001b[1;33m,\u001b[0m \u001b[0maxes\u001b[0m\u001b[1;33m)\u001b[0m\u001b[1;33m\u001b[0m\u001b[1;33m\u001b[0m\u001b[0m\n\u001b[0m\u001b[0;32m   1702\u001b[0m         \u001b[0mmgr\u001b[0m \u001b[1;33m=\u001b[0m \u001b[0mBlockManager\u001b[0m\u001b[1;33m(\u001b[0m\u001b[0mblocks\u001b[0m\u001b[1;33m,\u001b[0m \u001b[0maxes\u001b[0m\u001b[1;33m)\u001b[0m\u001b[1;33m\u001b[0m\u001b[1;33m\u001b[0m\u001b[0m\n\u001b[0;32m   1703\u001b[0m         \u001b[0mmgr\u001b[0m\u001b[1;33m.\u001b[0m\u001b[0m_consolidate_inplace\u001b[0m\u001b[1;33m(\u001b[0m\u001b[1;33m)\u001b[0m\u001b[1;33m\u001b[0m\u001b[1;33m\u001b[0m\u001b[0m\n",
      "\u001b[1;32mE:\\Users\\Gamer\\anaconda3\\envs\\test_tensorflow_install\\lib\\site-packages\\pandas\\core\\internals\\managers.py\u001b[0m in \u001b[0;36m_form_blocks\u001b[1;34m(arrays, names, axes)\u001b[0m\n\u001b[0;32m   1769\u001b[0m \u001b[1;33m\u001b[0m\u001b[0m\n\u001b[0;32m   1770\u001b[0m     \u001b[1;32mif\u001b[0m \u001b[0mlen\u001b[0m\u001b[1;33m(\u001b[0m\u001b[0mitems_dict\u001b[0m\u001b[1;33m[\u001b[0m\u001b[1;34m\"IntBlock\"\u001b[0m\u001b[1;33m]\u001b[0m\u001b[1;33m)\u001b[0m\u001b[1;33m:\u001b[0m\u001b[1;33m\u001b[0m\u001b[1;33m\u001b[0m\u001b[0m\n\u001b[1;32m-> 1771\u001b[1;33m         \u001b[0mint_blocks\u001b[0m \u001b[1;33m=\u001b[0m \u001b[0m_multi_blockify\u001b[0m\u001b[1;33m(\u001b[0m\u001b[0mitems_dict\u001b[0m\u001b[1;33m[\u001b[0m\u001b[1;34m\"IntBlock\"\u001b[0m\u001b[1;33m]\u001b[0m\u001b[1;33m)\u001b[0m\u001b[1;33m\u001b[0m\u001b[1;33m\u001b[0m\u001b[0m\n\u001b[0m\u001b[0;32m   1772\u001b[0m         \u001b[0mblocks\u001b[0m\u001b[1;33m.\u001b[0m\u001b[0mextend\u001b[0m\u001b[1;33m(\u001b[0m\u001b[0mint_blocks\u001b[0m\u001b[1;33m)\u001b[0m\u001b[1;33m\u001b[0m\u001b[1;33m\u001b[0m\u001b[0m\n\u001b[0;32m   1773\u001b[0m \u001b[1;33m\u001b[0m\u001b[0m\n",
      "\u001b[1;32mE:\\Users\\Gamer\\anaconda3\\envs\\test_tensorflow_install\\lib\\site-packages\\pandas\\core\\internals\\managers.py\u001b[0m in \u001b[0;36m_multi_blockify\u001b[1;34m(tuples, dtype)\u001b[0m\n\u001b[0;32m   1850\u001b[0m     \u001b[1;32mfor\u001b[0m \u001b[0mdtype\u001b[0m\u001b[1;33m,\u001b[0m \u001b[0mtup_block\u001b[0m \u001b[1;32min\u001b[0m \u001b[0mgrouper\u001b[0m\u001b[1;33m:\u001b[0m\u001b[1;33m\u001b[0m\u001b[1;33m\u001b[0m\u001b[0m\n\u001b[0;32m   1851\u001b[0m \u001b[1;33m\u001b[0m\u001b[0m\n\u001b[1;32m-> 1852\u001b[1;33m         \u001b[0mvalues\u001b[0m\u001b[1;33m,\u001b[0m \u001b[0mplacement\u001b[0m \u001b[1;33m=\u001b[0m \u001b[0m_stack_arrays\u001b[0m\u001b[1;33m(\u001b[0m\u001b[0mlist\u001b[0m\u001b[1;33m(\u001b[0m\u001b[0mtup_block\u001b[0m\u001b[1;33m)\u001b[0m\u001b[1;33m,\u001b[0m \u001b[0mdtype\u001b[0m\u001b[1;33m)\u001b[0m\u001b[1;33m\u001b[0m\u001b[1;33m\u001b[0m\u001b[0m\n\u001b[0m\u001b[0;32m   1853\u001b[0m \u001b[1;33m\u001b[0m\u001b[0m\n\u001b[0;32m   1854\u001b[0m         \u001b[0mblock\u001b[0m \u001b[1;33m=\u001b[0m \u001b[0mmake_block\u001b[0m\u001b[1;33m(\u001b[0m\u001b[0mvalues\u001b[0m\u001b[1;33m,\u001b[0m \u001b[0mplacement\u001b[0m\u001b[1;33m=\u001b[0m\u001b[0mplacement\u001b[0m\u001b[1;33m,\u001b[0m \u001b[0mndim\u001b[0m\u001b[1;33m=\u001b[0m\u001b[1;36m2\u001b[0m\u001b[1;33m)\u001b[0m\u001b[1;33m\u001b[0m\u001b[1;33m\u001b[0m\u001b[0m\n",
      "\u001b[1;32mE:\\Users\\Gamer\\anaconda3\\envs\\test_tensorflow_install\\lib\\site-packages\\pandas\\core\\internals\\managers.py\u001b[0m in \u001b[0;36m_stack_arrays\u001b[1;34m(tuples, dtype)\u001b[0m\n\u001b[0;32m   1878\u001b[0m     \u001b[0mshape\u001b[0m \u001b[1;33m=\u001b[0m \u001b[1;33m(\u001b[0m\u001b[0mlen\u001b[0m\u001b[1;33m(\u001b[0m\u001b[0marrays\u001b[0m\u001b[1;33m)\u001b[0m\u001b[1;33m,\u001b[0m\u001b[1;33m)\u001b[0m \u001b[1;33m+\u001b[0m \u001b[0m_shape_compat\u001b[0m\u001b[1;33m(\u001b[0m\u001b[0mfirst\u001b[0m\u001b[1;33m)\u001b[0m\u001b[1;33m\u001b[0m\u001b[1;33m\u001b[0m\u001b[0m\n\u001b[0;32m   1879\u001b[0m \u001b[1;33m\u001b[0m\u001b[0m\n\u001b[1;32m-> 1880\u001b[1;33m     \u001b[0mstacked\u001b[0m \u001b[1;33m=\u001b[0m \u001b[0mnp\u001b[0m\u001b[1;33m.\u001b[0m\u001b[0mempty\u001b[0m\u001b[1;33m(\u001b[0m\u001b[0mshape\u001b[0m\u001b[1;33m,\u001b[0m \u001b[0mdtype\u001b[0m\u001b[1;33m=\u001b[0m\u001b[0mdtype\u001b[0m\u001b[1;33m)\u001b[0m\u001b[1;33m\u001b[0m\u001b[1;33m\u001b[0m\u001b[0m\n\u001b[0m\u001b[0;32m   1881\u001b[0m     \u001b[1;32mfor\u001b[0m \u001b[0mi\u001b[0m\u001b[1;33m,\u001b[0m \u001b[0marr\u001b[0m \u001b[1;32min\u001b[0m \u001b[0menumerate\u001b[0m\u001b[1;33m(\u001b[0m\u001b[0marrays\u001b[0m\u001b[1;33m)\u001b[0m\u001b[1;33m:\u001b[0m\u001b[1;33m\u001b[0m\u001b[1;33m\u001b[0m\u001b[0m\n\u001b[0;32m   1882\u001b[0m         \u001b[0mstacked\u001b[0m\u001b[1;33m[\u001b[0m\u001b[0mi\u001b[0m\u001b[1;33m]\u001b[0m \u001b[1;33m=\u001b[0m \u001b[0m_asarray_compat\u001b[0m\u001b[1;33m(\u001b[0m\u001b[0marr\u001b[0m\u001b[1;33m)\u001b[0m\u001b[1;33m\u001b[0m\u001b[1;33m\u001b[0m\u001b[0m\n",
      "\u001b[1;31mMemoryError\u001b[0m: Unable to allocate 49.8 MiB for an array with shape (242, 107796) and data type int16"
     ]
    }
   ],
   "source": [
    "df = pd.read_stata(\"E:\\\\Users\\\\Gamer\\\\Documents\\\\GitHub\\\\BES_analysis\\\\BES_analysis_data\\\\W23_comb\\\\BES2019_W23_Panel_v23.0.dta\")"
   ]
  },
  {
   "cell_type": "code",
   "execution_count": null,
   "id": "d4d0786b",
   "metadata": {},
   "outputs": [],
   "source": []
  },
  {
   "cell_type": "code",
   "execution_count": 3,
   "id": "7111429e",
   "metadata": {},
   "outputs": [],
   "source": [
    "## W10_only contains W17 columns!!!"
   ]
  },
  {
   "cell_type": "code",
   "execution_count": null,
   "id": "f5d4237b",
   "metadata": {},
   "outputs": [],
   "source": []
  },
  {
   "cell_type": "code",
   "execution_count": null,
   "id": "13ca65ea",
   "metadata": {},
   "outputs": [],
   "source": []
  },
  {
   "cell_type": "code",
   "execution_count": 27,
   "id": "dd140fca",
   "metadata": {},
   "outputs": [
    {
     "data": {
      "text/plain": [
       "'BES2019_W23_Panel_v23.0.dta'"
      ]
     },
     "execution_count": 27,
     "metadata": {},
     "output_type": "execute_result"
    }
   ],
   "source": [
    "BES_file_manifest[BES_file_manifest[\"Name\"]==\"W23_comb\"][\"Stata_Filename\"][0]#.replace(\".dta\",\".zip\")"
   ]
  },
  {
   "cell_type": "code",
   "execution_count": 70,
   "id": "704b19e1",
   "metadata": {},
   "outputs": [],
   "source": [
    "df=pd.read_stata(BES_data_folder + \"W15_only\" + os.sep+\"BES2019_W15_v23.0.dta\")\n",
    "df.to_pickle(BES_data_folder + \"W15_only\" + os.sep+\"BES2019_W15_v23.0.zip\",compression='zip')"
   ]
  },
  {
   "cell_type": "code",
   "execution_count": 84,
   "id": "161ed5e9",
   "metadata": {},
   "outputs": [],
   "source": [
    "df=pd.read_stata(BES_data_folder + \"W14_only\" + os.sep+\"BES2017_W14_v23.0.dta\")\n",
    "df.to_pickle(BES_data_folder + \"W14_only\" + os.sep+\"BES2017_W14_v23.0.zip\",compression='zip')"
   ]
  },
  {
   "cell_type": "code",
   "execution_count": 72,
   "id": "ae888e87",
   "metadata": {},
   "outputs": [
    {
     "data": {
      "text/plain": [
       "sdoantiegal1     6982\n",
       "al1W14          25238\n",
       "dtype: int64"
      ]
     },
     "execution_count": 72,
     "metadata": {},
     "output_type": "execute_result"
    }
   ],
   "source": [
    "search(df,\"al1\")"
   ]
  },
  {
   "cell_type": "code",
   "execution_count": 37,
   "id": "0be0b42c",
   "metadata": {},
   "outputs": [
    {
     "data": {
      "text/html": [
       "<script>jQuery(function() {if (jQuery(\"body.notebook_app\").length == 0) { jQuery(\".input_area\").toggle(); jQuery(\".prompt\").toggle();}});</script>"
      ]
     },
     "metadata": {},
     "output_type": "display_data"
    },
    {
     "data": {
      "text/html": [
       "<button onclick=\"jQuery('.input_area').toggle(); jQuery('.prompt').toggle();\">Toggle code</button>"
      ]
     },
     "metadata": {},
     "output_type": "display_data"
    },
    {
     "data": {
      "text/html": [
       "<script>jQuery(function() {if (jQuery(\"body.notebook_app\").length == 0) { jQuery(\".input_area\").toggle(); jQuery(\".prompt\").toggle();}});</script>"
      ]
     },
     "metadata": {},
     "output_type": "display_data"
    },
    {
     "data": {
      "text/html": [
       "<button onclick=\"jQuery('.input_area').toggle(); jQuery('.prompt').toggle();\">Toggle code</button>"
      ]
     },
     "metadata": {},
     "output_type": "display_data"
    },
    {
     "data": {
      "text/html": [
       "<script>jQuery(function() {if (jQuery(\"body.notebook_app\").length == 0) { jQuery(\".input_area\").toggle(); jQuery(\".prompt\").toggle();}});</script>"
      ]
     },
     "metadata": {},
     "output_type": "display_data"
    },
    {
     "data": {
      "text/html": [
       "<button onclick=\"jQuery('.input_area').toggle(); jQuery('.prompt').toggle();\">Toggle code</button>"
      ]
     },
     "metadata": {},
     "output_type": "display_data"
    },
    {
     "data": {
      "text/html": [
       "<script>jQuery(function() {if (jQuery(\"body.notebook_app\").length == 0) { jQuery(\".input_area\").toggle(); jQuery(\".prompt\").toggle();}});</script>"
      ]
     },
     "metadata": {},
     "output_type": "display_data"
    },
    {
     "data": {
      "text/html": [
       "<button onclick=\"jQuery('.input_area').toggle(); jQuery('.prompt').toggle();\">Toggle code</button>"
      ]
     },
     "metadata": {},
     "output_type": "display_data"
    },
    {
     "data": {
      "text/html": [
       "<script>jQuery(function() {if (jQuery(\"body.notebook_app\").length == 0) { jQuery(\".input_area\").toggle(); jQuery(\".prompt\").toggle();}});</script>"
      ]
     },
     "metadata": {},
     "output_type": "display_data"
    },
    {
     "data": {
      "text/html": [
       "<button onclick=\"jQuery('.input_area').toggle(); jQuery('.prompt').toggle();\">Toggle code</button>"
      ]
     },
     "metadata": {},
     "output_type": "display_data"
    },
    {
     "data": {
      "text/html": [
       "<script>jQuery(function() {if (jQuery(\"body.notebook_app\").length == 0) { jQuery(\".input_area\").toggle(); jQuery(\".prompt\").toggle();}});</script>"
      ]
     },
     "metadata": {},
     "output_type": "display_data"
    },
    {
     "data": {
      "text/html": [
       "<button onclick=\"jQuery('.input_area').toggle(); jQuery('.prompt').toggle();\">Toggle code</button>"
      ]
     },
     "metadata": {},
     "output_type": "display_data"
    },
    {
     "data": {
      "text/html": [
       "<script>jQuery(function() {if (jQuery(\"body.notebook_app\").length == 0) { jQuery(\".input_area\").toggle(); jQuery(\".prompt\").toggle();}});</script>"
      ]
     },
     "metadata": {},
     "output_type": "display_data"
    },
    {
     "data": {
      "text/html": [
       "<button onclick=\"jQuery('.input_area').toggle(); jQuery('.prompt').toggle();\">Toggle code</button>"
      ]
     },
     "metadata": {},
     "output_type": "display_data"
    },
    {
     "data": {
      "text/html": [
       "<script>jQuery(function() {if (jQuery(\"body.notebook_app\").length == 0) { jQuery(\".input_area\").toggle(); jQuery(\".prompt\").toggle();}});</script>"
      ]
     },
     "metadata": {},
     "output_type": "display_data"
    },
    {
     "data": {
      "text/html": [
       "<button onclick=\"jQuery('.input_area').toggle(); jQuery('.prompt').toggle();\">Toggle code</button>"
      ]
     },
     "metadata": {},
     "output_type": "display_data"
    },
    {
     "data": {
      "text/html": [
       "<script>jQuery(function() {if (jQuery(\"body.notebook_app\").length == 0) { jQuery(\".input_area\").toggle(); jQuery(\".prompt\").toggle();}});</script>"
      ]
     },
     "metadata": {},
     "output_type": "display_data"
    },
    {
     "data": {
      "text/html": [
       "<button onclick=\"jQuery('.input_area').toggle(); jQuery('.prompt').toggle();\">Toggle code</button>"
      ]
     },
     "metadata": {},
     "output_type": "display_data"
    },
    {
     "data": {
      "text/html": [
       "<script>jQuery(function() {if (jQuery(\"body.notebook_app\").length == 0) { jQuery(\".input_area\").toggle(); jQuery(\".prompt\").toggle();}});</script>"
      ]
     },
     "metadata": {},
     "output_type": "display_data"
    },
    {
     "data": {
      "text/html": [
       "<button onclick=\"jQuery('.input_area').toggle(); jQuery('.prompt').toggle();\">Toggle code</button>"
      ]
     },
     "metadata": {},
     "output_type": "display_data"
    },
    {
     "data": {
      "text/html": [
       "<script>jQuery(function() {if (jQuery(\"body.notebook_app\").length == 0) { jQuery(\".input_area\").toggle(); jQuery(\".prompt\").toggle();}});</script>"
      ]
     },
     "metadata": {},
     "output_type": "display_data"
    },
    {
     "data": {
      "text/html": [
       "<button onclick=\"jQuery('.input_area').toggle(); jQuery('.prompt').toggle();\">Toggle code</button>"
      ]
     },
     "metadata": {},
     "output_type": "display_data"
    },
    {
     "data": {
      "text/html": [
       "<script>jQuery(function() {if (jQuery(\"body.notebook_app\").length == 0) { jQuery(\".input_area\").toggle(); jQuery(\".prompt\").toggle();}});</script>"
      ]
     },
     "metadata": {},
     "output_type": "display_data"
    },
    {
     "data": {
      "text/html": [
       "<button onclick=\"jQuery('.input_area').toggle(); jQuery('.prompt').toggle();\">Toggle code</button>"
      ]
     },
     "metadata": {},
     "output_type": "display_data"
    },
    {
     "data": {
      "text/html": [
       "<script>jQuery(function() {if (jQuery(\"body.notebook_app\").length == 0) { jQuery(\".input_area\").toggle(); jQuery(\".prompt\").toggle();}});</script>"
      ]
     },
     "metadata": {},
     "output_type": "display_data"
    },
    {
     "data": {
      "text/html": [
       "<button onclick=\"jQuery('.input_area').toggle(); jQuery('.prompt').toggle();\">Toggle code</button>"
      ]
     },
     "metadata": {},
     "output_type": "display_data"
    },
    {
     "data": {
      "text/html": [
       "<script>jQuery(function() {if (jQuery(\"body.notebook_app\").length == 0) { jQuery(\".input_area\").toggle(); jQuery(\".prompt\").toggle();}});</script>"
      ]
     },
     "metadata": {},
     "output_type": "display_data"
    },
    {
     "data": {
      "text/html": [
       "<button onclick=\"jQuery('.input_area').toggle(); jQuery('.prompt').toggle();\">Toggle code</button>"
      ]
     },
     "metadata": {},
     "output_type": "display_data"
    },
    {
     "data": {
      "text/html": [
       "<script>jQuery(function() {if (jQuery(\"body.notebook_app\").length == 0) { jQuery(\".input_area\").toggle(); jQuery(\".prompt\").toggle();}});</script>"
      ]
     },
     "metadata": {},
     "output_type": "display_data"
    },
    {
     "data": {
      "text/html": [
       "<button onclick=\"jQuery('.input_area').toggle(); jQuery('.prompt').toggle();\">Toggle code</button>"
      ]
     },
     "metadata": {},
     "output_type": "display_data"
    },
    {
     "data": {
      "text/html": [
       "<script>jQuery(function() {if (jQuery(\"body.notebook_app\").length == 0) { jQuery(\".input_area\").toggle(); jQuery(\".prompt\").toggle();}});</script>"
      ]
     },
     "metadata": {},
     "output_type": "display_data"
    },
    {
     "data": {
      "text/html": [
       "<button onclick=\"jQuery('.input_area').toggle(); jQuery('.prompt').toggle();\">Toggle code</button>"
      ]
     },
     "metadata": {},
     "output_type": "display_data"
    },
    {
     "data": {
      "text/html": [
       "<script>jQuery(function() {if (jQuery(\"body.notebook_app\").length == 0) { jQuery(\".input_area\").toggle(); jQuery(\".prompt\").toggle();}});</script>"
      ]
     },
     "metadata": {},
     "output_type": "display_data"
    },
    {
     "data": {
      "text/html": [
       "<button onclick=\"jQuery('.input_area').toggle(); jQuery('.prompt').toggle();\">Toggle code</button>"
      ]
     },
     "metadata": {},
     "output_type": "display_data"
    },
    {
     "data": {
      "text/html": [
       "<script>jQuery(function() {if (jQuery(\"body.notebook_app\").length == 0) { jQuery(\".input_area\").toggle(); jQuery(\".prompt\").toggle();}});</script>"
      ]
     },
     "metadata": {},
     "output_type": "display_data"
    },
    {
     "data": {
      "text/html": [
       "<button onclick=\"jQuery('.input_area').toggle(); jQuery('.prompt').toggle();\">Toggle code</button>"
      ]
     },
     "metadata": {},
     "output_type": "display_data"
    },
    {
     "data": {
      "text/html": [
       "<script>jQuery(function() {if (jQuery(\"body.notebook_app\").length == 0) { jQuery(\".input_area\").toggle(); jQuery(\".prompt\").toggle();}});</script>"
      ]
     },
     "metadata": {},
     "output_type": "display_data"
    },
    {
     "data": {
      "text/html": [
       "<button onclick=\"jQuery('.input_area').toggle(); jQuery('.prompt').toggle();\">Toggle code</button>"
      ]
     },
     "metadata": {},
     "output_type": "display_data"
    },
    {
     "data": {
      "text/html": [
       "<script>jQuery(function() {if (jQuery(\"body.notebook_app\").length == 0) { jQuery(\".input_area\").toggle(); jQuery(\".prompt\").toggle();}});</script>"
      ]
     },
     "metadata": {},
     "output_type": "display_data"
    },
    {
     "data": {
      "text/html": [
       "<button onclick=\"jQuery('.input_area').toggle(); jQuery('.prompt').toggle();\">Toggle code</button>"
      ]
     },
     "metadata": {},
     "output_type": "display_data"
    },
    {
     "data": {
      "text/html": [
       "<script>jQuery(function() {if (jQuery(\"body.notebook_app\").length == 0) { jQuery(\".input_area\").toggle(); jQuery(\".prompt\").toggle();}});</script>"
      ]
     },
     "metadata": {},
     "output_type": "display_data"
    },
    {
     "data": {
      "text/html": [
       "<button onclick=\"jQuery('.input_area').toggle(); jQuery('.prompt').toggle();\">Toggle code</button>"
      ]
     },
     "metadata": {},
     "output_type": "display_data"
    },
    {
     "data": {
      "text/html": [
       "<script>jQuery(function() {if (jQuery(\"body.notebook_app\").length == 0) { jQuery(\".input_area\").toggle(); jQuery(\".prompt\").toggle();}});</script>"
      ]
     },
     "metadata": {},
     "output_type": "display_data"
    },
    {
     "data": {
      "text/html": [
       "<button onclick=\"jQuery('.input_area').toggle(); jQuery('.prompt').toggle();\">Toggle code</button>"
      ]
     },
     "metadata": {},
     "output_type": "display_data"
    },
    {
     "data": {
      "text/html": [
       "<script>jQuery(function() {if (jQuery(\"body.notebook_app\").length == 0) { jQuery(\".input_area\").toggle(); jQuery(\".prompt\").toggle();}});</script>"
      ]
     },
     "metadata": {},
     "output_type": "display_data"
    },
    {
     "data": {
      "text/html": [
       "<button onclick=\"jQuery('.input_area').toggle(); jQuery('.prompt').toggle();\">Toggle code</button>"
      ]
     },
     "metadata": {},
     "output_type": "display_data"
    }
   ],
   "source": [
    "list_of_dfs = {}\n",
    "\n",
    "for wave in BES_file_manifest[BES_file_manifest[\"Only_or_Combined\"]==\"Only\"][\"Name\"]:\n",
    "    \n",
    "    dataset_name = wave\n",
    "    df_list = \"BES_Panel\"\n",
    "\n",
    "    %matplotlib inline \n",
    "    %run BES_header.py {dataset_name} {df_list}    \n",
    "    \n",
    "    list_of_dfs[wave] = BES_Panel\n",
    "    "
   ]
  },
  {
   "cell_type": "code",
   "execution_count": 171,
   "id": "4c0f4750",
   "metadata": {},
   "outputs": [],
   "source": [
    "BES_Panel_full = pd.DataFrame(index=set(flatten([list_of_dfs[x].index.astype('int') for x in list_of_dfs.keys()])))\n",
    "\n",
    "wave = \"W23_only\"\n",
    "var_list = match(list_of_dfs[wave],\"al\\d|lr\\d|al_scale|lr_scale\").index\n",
    "BES_Panel_full[[x+\"(\"+str(wave.split(\"_\")[0])+\")\" for x in var_list]] = list_of_dfs[wave][var_list]\n",
    "\n",
    "wave = \"W22_only\"\n",
    "var_list = match(list_of_dfs[wave],\"al\\d|lr\\d|al_scale|lr_scale\").index\n",
    "BES_Panel_full[[x+\"(\"+str(wave.split(\"_\")[0])+\")\" for x in var_list]] = list_of_dfs[wave][var_list]\n",
    "\n",
    "wave = \"W21_only\"\n",
    "var_list = match(list_of_dfs[wave],\"al\\d|lr\\d|al_scale|lr_scale\").index\n",
    "BES_Panel_full[[x+\"(\"+str(wave.split(\"_\")[0])+\")\" for x in var_list]] = list_of_dfs[wave][var_list]\n",
    "\n",
    "wave = \"W20_only\"\n",
    "var_list = match(list_of_dfs[wave],\"al\\d|lr\\d|al_scale|lr_scale\").index\n",
    "BES_Panel_full[[x+\"(\"+str(wave.split(\"_\")[0])+\")\" for x in var_list]] = list_of_dfs[wave][var_list]\n",
    "\n",
    "wave = \"W17_only\"\n",
    "var_list = match(list_of_dfs[wave],\"al\\d|lr\\d|al_scale|lr_scale\").index\n",
    "BES_Panel_full[[x+\"(\"+str(wave.split(\"_\")[0])+\")\" for x in var_list]] = list_of_dfs[wave][var_list]\n",
    "\n",
    "wave = \"W16_only\"\n",
    "var_list = match(list_of_dfs[wave],\"al\\d|lr\\d|al_scale|lr_scale\").index\n",
    "BES_Panel_full[[x+\"(\"+str(wave.split(\"_\")[0])+\")\" for x in var_list]] = list_of_dfs[wave][var_list]\n",
    "\n",
    "wave = \"W15_only\"\n",
    "var_list = match(list_of_dfs[wave],\"al\\d|lr\\d|al_scale|lr_scale\").index\n",
    "BES_Panel_full[[x.replace(\"W14\",\"\")+\"(W14)\" for x in var_list]] = list_of_dfs[wave][var_list]\n",
    "# lr1W14!!!\n",
    "\n",
    "wave = \"W13_only\"\n",
    "var_list = match(list_of_dfs[wave],\"al\\d|lr\\d|al_scale|lr_scale\").index\n",
    "BES_Panel_full[[x+\"(\"+str(wave.split(\"_\")[0])+\")\" for x in var_list]] = list_of_dfs[wave][var_list]\n",
    "\n",
    "wave = \"W10_only\"\n",
    "var_list = match(list_of_dfs[wave],\"al\\d|lr\\d|al_scale|lr_scale\").index\n",
    "BES_Panel_full[[x+\"(\"+str(wave.split(\"_\")[0])+\")\" for x in var_list]] = list_of_dfs[wave][var_list]\n",
    "replace_dict = {1:\"Strongly Disagree\",2:\"Disagree\",3:\"Neither agree nor disagree\",4:\"Agree\",5:\"Strongly agree\",9999:\"Don't know\"}\n",
    "value_varsW10 = ['lr1(W10)', 'lr2(W10)', 'lr3(W10)', 'lr4(W10)', 'lr5(W10)', 'al1(W10)', 'al2(W10)', 'al3(W10)', 'al4(W10)', 'al5(W10)']\n",
    "BES_Panel_full[value_varsW10]= BES_Panel_full[value_varsW10].replace(replace_dict).astype('category').apply(lambda x: x.cat.reorder_categories(replace_dict.values(),ordered=True))\n",
    "# BES_Panel_full[['lr1(W10)', 'lr2(W10)', 'lr3(W10)', 'lr4(W10)', 'lr5(W10)', 'al1(W10)', 'al2(W10)', 'al3(W10)', 'al4(W10)', 'al5(W10)']].replace(9999,np.nan)-1.0\n",
    "\n",
    "wave = \"W9_only\"\n",
    "var_list = match(list_of_dfs[wave],\"al\\d|lr\\d|al_scale|lr_scale\").index\n",
    "BES_Panel_full[[x.replace(\"W7W8W9\",\"\")+\"(\"+str(wave.split(\"_\")[0])+\")\" for x in var_list]] = list_of_dfs[wave][var_list]\n",
    "# lr1W7W8W9\n",
    "\n",
    "wave = \"W8_only\"\n",
    "var_list = match(list_of_dfs[wave],\"al\\d|lr\\d|al_scale|lr_scale\").index\n",
    "BES_Panel_full[[x+\"(\"+str(wave.split(\"_\")[0])+\")\" for x in var_list]] = list_of_dfs[wave][var_list]\n",
    "\n",
    "wave = \"W8_only\"\n",
    "var_list = match(list_of_dfs[wave],\"al\\d|lr\\d|al_scale|lr_scale\").index\n",
    "\n",
    "for val_var in var_list:\n",
    "    BES_Panel_full[val_var+\"(W789)\"] = BES_Panel_full[val_var+\"(W9)\"]\n",
    "    BES_Panel_full.loc[BES_Panel_full[val_var+\"(W789)\"].isnull(),val_var+\"(W789)\"] = BES_Panel_full.loc[BES_Panel_full[val_var+\"(W789)\"].isnull(),val_var+\"(W8)\"]\n",
    "\n",
    "wave = \"W6_only\"\n",
    "var_list = match(list_of_dfs[wave],\"al\\d|lr\\d|al_scale|lr_scale\").index\n",
    "BES_Panel_full[[x+\"(\"+str(wave.split(\"_\")[0])+\")\" for x in var_list]] = list_of_dfs[wave][var_list]\n",
    "\n",
    "wave = \"W5_only\"\n",
    "var_list = match(list_of_dfs[wave],\"al\\d|lr\\d|al_scale|lr_scale\").index\n",
    "BES_Panel_full[[x+\"(\"+str(wave.split(\"_\")[0])+\")\" for x in var_list]] = list_of_dfs[wave][var_list]\n",
    "\n",
    "wave = \"W4_only\"\n",
    "var_list = match(list_of_dfs[wave],\"al\\d|lr\\d|al_scale|lr_scale\").index\n",
    "BES_Panel_full[[x+\"(\"+str(wave.split(\"_\")[0])+\")\" for x in var_list]] = list_of_dfs[wave][var_list]\n",
    "\n",
    "wave = \"W3_only\"\n",
    "var_list = match(list_of_dfs[wave],\"al\\d|lr\\d|al_scale|lr_scale\").index\n",
    "BES_Panel_full[[x+\"(\"+str(wave.split(\"_\")[0])+\")\" for x in var_list]] = list_of_dfs[wave][var_list]\n",
    "\n",
    "wave = \"W2_only\"\n",
    "var_list = match(list_of_dfs[wave],\"al\\d|lr\\d|al_scale|lr_scale\").index\n",
    "BES_Panel_full[[x+\"(\"+str(wave.split(\"_\")[0])+\")\" for x in var_list]] = list_of_dfs[wave][var_list]\n",
    "\n",
    "wave = \"W1_only\"\n",
    "var_list = match(list_of_dfs[wave],\"al\\d|lr\\d|al_scale|lr_scale\").index\n",
    "BES_Panel_full[[x+\"(\"+str(wave.split(\"_\")[0])+\")\" for x in var_list]] = list_of_dfs[wave][var_list]\n",
    "\n",
    "wave = \"W8_only\"\n",
    "var_list = match(list_of_dfs[wave],\"al\\d|lr\\d|al_scale|lr_scale\").index\n",
    "\n",
    "for val_var in var_list:\n",
    "    BES_Panel_full[val_var+\"(W12345)\"] = BES_Panel_full[val_var+\"(W1)\"]\n",
    "    BES_Panel_full.loc[BES_Panel_full[val_var+\"(W12345)\"].isnull(),val_var+\"(W12345)\"] = BES_Panel_full.loc[BES_Panel_full[val_var+\"(W12345)\"].isnull(),val_var+\"(W2)\"]\n",
    "    BES_Panel_full.loc[BES_Panel_full[val_var+\"(W12345)\"].isnull(),val_var+\"(W12345)\"] = BES_Panel_full.loc[BES_Panel_full[val_var+\"(W12345)\"].isnull(),val_var+\"(W3)\"]\n",
    "    BES_Panel_full.loc[BES_Panel_full[val_var+\"(W12345)\"].isnull(),val_var+\"(W12345)\"] = BES_Panel_full.loc[BES_Panel_full[val_var+\"(W12345)\"].isnull(),val_var+\"(W4)\"]    \n",
    "    BES_Panel_full.loc[BES_Panel_full[val_var+\"(W12345)\"].isnull(),val_var+\"(W12345)\"] = BES_Panel_full.loc[BES_Panel_full[val_var+\"(W12345)\"].isnull(),val_var+\"(W5)\"]\n",
    "    "
   ]
  },
  {
   "cell_type": "code",
   "execution_count": 156,
   "id": "a1ccd276",
   "metadata": {},
   "outputs": [],
   "source": []
  },
  {
   "cell_type": "code",
   "execution_count": 144,
   "id": "c4fa1db2",
   "metadata": {},
   "outputs": [
    {
     "data": {
      "text/plain": [
       "Agree                         10111\n",
       "Strongly agree                 7118\n",
       "Neither agree nor disagree     5364\n",
       "Disagree                       2738\n",
       "NaN                            2481\n",
       "Don't know                     1266\n",
       "Strongly disagree               864\n",
       "Name: al1(W8), dtype: int64"
      ]
     },
     "execution_count": 144,
     "metadata": {},
     "output_type": "execute_result"
    }
   ],
   "source": [
    "# BES_Panel_full[\"lr1(W23)\"]\n",
    "\n",
    "BES_Panel_full[\"al1(W8)\"][BES_Panel_full[\"al1(W9)\"].notnull()].value_counts(dropna=False)\n"
   ]
  },
  {
   "cell_type": "code",
   "execution_count": 145,
   "id": "46631783",
   "metadata": {},
   "outputs": [
    {
     "data": {
      "text/plain": [
       "Agree                         10111\n",
       "Strongly agree                 7118\n",
       "NaN                            5933\n",
       "Neither agree nor disagree     5364\n",
       "Disagree                       2738\n",
       "Don't know                     1266\n",
       "Strongly disagree               864\n",
       "Name: al1(W9), dtype: int64"
      ]
     },
     "execution_count": 145,
     "metadata": {},
     "output_type": "execute_result"
    }
   ],
   "source": [
    "BES_Panel_full[\"al1(W9)\"][BES_Panel_full[\"al1(W8)\"].notnull()].value_counts(dropna=False)"
   ]
  },
  {
   "cell_type": "code",
   "execution_count": 155,
   "id": "21efd011",
   "metadata": {},
   "outputs": [],
   "source": []
  },
  {
   "cell_type": "code",
   "execution_count": 154,
   "id": "0b7db420",
   "metadata": {},
   "outputs": [],
   "source": []
  },
  {
   "cell_type": "code",
   "execution_count": 148,
   "id": "e9850db4",
   "metadata": {},
   "outputs": [
    {
     "data": {
      "text/plain": [
       "False"
      ]
     },
     "execution_count": 148,
     "metadata": {},
     "output_type": "execute_result"
    }
   ],
   "source": [
    "mask = BES_Panel_full[\"al1(W9)\"].notnull()&BES_Panel_full[\"al1(W8)\"].notnull()\n",
    "(BES_Panel_full[\"al1(W9)\"][mask]!=BES_Panel_full[\"al1(W8)\"][mask]).any()"
   ]
  },
  {
   "cell_type": "code",
   "execution_count": 150,
   "id": "0cc005ec",
   "metadata": {},
   "outputs": [
    {
     "data": {
      "text/plain": [
       "1                     Strongly agree\n",
       "2         Neither agree nor disagree\n",
       "3                                NaN\n",
       "4                                NaN\n",
       "5                                NaN\n",
       "                     ...            \n",
       "109215                           NaN\n",
       "109216                           NaN\n",
       "109217                           NaN\n",
       "109218                           NaN\n",
       "109219                           NaN\n",
       "Name: al1(W9), Length: 107297, dtype: category\n",
       "Categories (6, object): ['Strongly disagree' < 'Disagree' < 'Neither agree nor disagree' < 'Agree' < 'Strongly agree' < 'Don't know']"
      ]
     },
     "execution_count": 150,
     "metadata": {},
     "output_type": "execute_result"
    }
   ],
   "source": [
    "BES_Panel_full[\"al1(W9)\"]"
   ]
  },
  {
   "cell_type": "code",
   "execution_count": null,
   "id": "a8eacc16",
   "metadata": {},
   "outputs": [],
   "source": []
  },
  {
   "cell_type": "code",
   "execution_count": 135,
   "id": "af073113",
   "metadata": {},
   "outputs": [
    {
     "data": {
      "text/plain": [
       "1         Neither agree nor disagree\n",
       "2                           Disagree\n",
       "3         Neither agree nor disagree\n",
       "4                                NaN\n",
       "5                                NaN\n",
       "                     ...            \n",
       "109215                           NaN\n",
       "109216                           NaN\n",
       "109217                           NaN\n",
       "109218                           NaN\n",
       "109219                           NaN\n",
       "Name: lr1(W10), Length: 107297, dtype: category\n",
       "Categories (6, object): ['Strongly Disagree' < 'Disagree' < 'Neither agree nor disagree' < 'Agree' < 'Strongly agree' < 'Don't know']"
      ]
     },
     "execution_count": 135,
     "metadata": {},
     "output_type": "execute_result"
    }
   ],
   "source": [
    "BES_Panel_full[\"lr1(W10)\"]"
   ]
  },
  {
   "cell_type": "code",
   "execution_count": 178,
   "id": "bfca0faa",
   "metadata": {},
   "outputs": [],
   "source": [
    "BES_Panel_full_num = BES_Panel_full.apply(lambda x: x.replace(\"Don't know\",np.nan).cat.codes.replace(-1,np.nan))"
   ]
  },
  {
   "cell_type": "code",
   "execution_count": 179,
   "id": "05c79eeb",
   "metadata": {},
   "outputs": [
    {
     "data": {
      "text/html": [
       "<div>\n",
       "<style scoped>\n",
       "    .dataframe tbody tr th:only-of-type {\n",
       "        vertical-align: middle;\n",
       "    }\n",
       "\n",
       "    .dataframe tbody tr th {\n",
       "        vertical-align: top;\n",
       "    }\n",
       "\n",
       "    .dataframe thead th {\n",
       "        text-align: right;\n",
       "    }\n",
       "</style>\n",
       "<table border=\"1\" class=\"dataframe\">\n",
       "  <thead>\n",
       "    <tr style=\"text-align: right;\">\n",
       "      <th></th>\n",
       "      <th>lr1(W23)</th>\n",
       "      <th>lr1(W22)</th>\n",
       "      <th>lr1(W21)</th>\n",
       "      <th>lr1(W20)</th>\n",
       "      <th>lr1(W17)</th>\n",
       "      <th>lr1(W16)</th>\n",
       "      <th>lr1(W14)</th>\n",
       "      <th>lr1(W13)</th>\n",
       "      <th>lr1(W10)</th>\n",
       "      <th>lr1(W9)</th>\n",
       "      <th>lr1(W8)</th>\n",
       "      <th>lr1(W789)</th>\n",
       "      <th>lr1(W6)</th>\n",
       "      <th>lr1(W5)</th>\n",
       "      <th>lr1(W4)</th>\n",
       "      <th>lr1(W3)</th>\n",
       "      <th>lr1(W2)</th>\n",
       "      <th>lr1(W1)</th>\n",
       "      <th>lr1(W12345)</th>\n",
       "    </tr>\n",
       "  </thead>\n",
       "  <tbody>\n",
       "    <tr>\n",
       "      <th>lr1(W23)</th>\n",
       "      <td>1.000000</td>\n",
       "      <td>0.766111</td>\n",
       "      <td>0.738047</td>\n",
       "      <td>0.725820</td>\n",
       "      <td>0.717482</td>\n",
       "      <td>0.704480</td>\n",
       "      <td>0.679629</td>\n",
       "      <td>0.699774</td>\n",
       "      <td>0.655247</td>\n",
       "      <td>0.649012</td>\n",
       "      <td>0.646999</td>\n",
       "      <td>0.648117</td>\n",
       "      <td>0.671117</td>\n",
       "      <td>0.612397</td>\n",
       "      <td>0.609099</td>\n",
       "      <td>0.614524</td>\n",
       "      <td>0.619576</td>\n",
       "      <td>0.615430</td>\n",
       "      <td>0.610528</td>\n",
       "    </tr>\n",
       "    <tr>\n",
       "      <th>lr1(W22)</th>\n",
       "      <td>0.766111</td>\n",
       "      <td>1.000000</td>\n",
       "      <td>0.744621</td>\n",
       "      <td>0.727035</td>\n",
       "      <td>0.722416</td>\n",
       "      <td>0.701250</td>\n",
       "      <td>0.681359</td>\n",
       "      <td>0.695836</td>\n",
       "      <td>0.649678</td>\n",
       "      <td>0.636312</td>\n",
       "      <td>0.632628</td>\n",
       "      <td>0.632839</td>\n",
       "      <td>0.655210</td>\n",
       "      <td>0.596784</td>\n",
       "      <td>0.592506</td>\n",
       "      <td>0.595555</td>\n",
       "      <td>0.599320</td>\n",
       "      <td>0.593055</td>\n",
       "      <td>0.590586</td>\n",
       "    </tr>\n",
       "    <tr>\n",
       "      <th>lr1(W21)</th>\n",
       "      <td>0.738047</td>\n",
       "      <td>0.744621</td>\n",
       "      <td>1.000000</td>\n",
       "      <td>0.740822</td>\n",
       "      <td>0.721264</td>\n",
       "      <td>0.702468</td>\n",
       "      <td>0.686758</td>\n",
       "      <td>0.706070</td>\n",
       "      <td>0.659340</td>\n",
       "      <td>0.650451</td>\n",
       "      <td>0.646798</td>\n",
       "      <td>0.646982</td>\n",
       "      <td>0.660818</td>\n",
       "      <td>0.606081</td>\n",
       "      <td>0.607421</td>\n",
       "      <td>0.609965</td>\n",
       "      <td>0.609589</td>\n",
       "      <td>0.602645</td>\n",
       "      <td>0.602502</td>\n",
       "    </tr>\n",
       "    <tr>\n",
       "      <th>lr1(W20)</th>\n",
       "      <td>0.725820</td>\n",
       "      <td>0.727035</td>\n",
       "      <td>0.740822</td>\n",
       "      <td>1.000000</td>\n",
       "      <td>0.730195</td>\n",
       "      <td>0.723478</td>\n",
       "      <td>0.700863</td>\n",
       "      <td>0.709740</td>\n",
       "      <td>0.658714</td>\n",
       "      <td>0.647088</td>\n",
       "      <td>0.644907</td>\n",
       "      <td>0.643461</td>\n",
       "      <td>0.656465</td>\n",
       "      <td>0.594653</td>\n",
       "      <td>0.596413</td>\n",
       "      <td>0.594500</td>\n",
       "      <td>0.598089</td>\n",
       "      <td>0.592513</td>\n",
       "      <td>0.592427</td>\n",
       "    </tr>\n",
       "    <tr>\n",
       "      <th>lr1(W17)</th>\n",
       "      <td>0.717482</td>\n",
       "      <td>0.722416</td>\n",
       "      <td>0.721264</td>\n",
       "      <td>0.730195</td>\n",
       "      <td>1.000000</td>\n",
       "      <td>0.727157</td>\n",
       "      <td>0.710407</td>\n",
       "      <td>0.727037</td>\n",
       "      <td>0.677351</td>\n",
       "      <td>0.665503</td>\n",
       "      <td>0.664755</td>\n",
       "      <td>0.664731</td>\n",
       "      <td>0.678559</td>\n",
       "      <td>0.620193</td>\n",
       "      <td>0.619194</td>\n",
       "      <td>0.618611</td>\n",
       "      <td>0.618687</td>\n",
       "      <td>0.615497</td>\n",
       "      <td>0.617115</td>\n",
       "    </tr>\n",
       "    <tr>\n",
       "      <th>lr1(W16)</th>\n",
       "      <td>0.704480</td>\n",
       "      <td>0.701250</td>\n",
       "      <td>0.702468</td>\n",
       "      <td>0.723478</td>\n",
       "      <td>0.727157</td>\n",
       "      <td>1.000000</td>\n",
       "      <td>0.715177</td>\n",
       "      <td>0.736011</td>\n",
       "      <td>0.698008</td>\n",
       "      <td>0.683215</td>\n",
       "      <td>0.678601</td>\n",
       "      <td>0.678540</td>\n",
       "      <td>0.688860</td>\n",
       "      <td>0.627978</td>\n",
       "      <td>0.625793</td>\n",
       "      <td>0.629732</td>\n",
       "      <td>0.626318</td>\n",
       "      <td>0.625582</td>\n",
       "      <td>0.624251</td>\n",
       "    </tr>\n",
       "    <tr>\n",
       "      <th>lr1(W14)</th>\n",
       "      <td>0.679629</td>\n",
       "      <td>0.681359</td>\n",
       "      <td>0.686758</td>\n",
       "      <td>0.700863</td>\n",
       "      <td>0.710407</td>\n",
       "      <td>0.715177</td>\n",
       "      <td>1.000000</td>\n",
       "      <td>0.732865</td>\n",
       "      <td>0.700357</td>\n",
       "      <td>0.680821</td>\n",
       "      <td>0.677526</td>\n",
       "      <td>0.677499</td>\n",
       "      <td>0.692472</td>\n",
       "      <td>0.627279</td>\n",
       "      <td>0.628309</td>\n",
       "      <td>0.629185</td>\n",
       "      <td>0.629646</td>\n",
       "      <td>0.627069</td>\n",
       "      <td>0.627482</td>\n",
       "    </tr>\n",
       "    <tr>\n",
       "      <th>lr1(W13)</th>\n",
       "      <td>0.699774</td>\n",
       "      <td>0.695836</td>\n",
       "      <td>0.706070</td>\n",
       "      <td>0.709740</td>\n",
       "      <td>0.727037</td>\n",
       "      <td>0.736011</td>\n",
       "      <td>0.732865</td>\n",
       "      <td>1.000000</td>\n",
       "      <td>0.720109</td>\n",
       "      <td>0.708380</td>\n",
       "      <td>0.707043</td>\n",
       "      <td>0.706975</td>\n",
       "      <td>0.722916</td>\n",
       "      <td>0.657662</td>\n",
       "      <td>0.655142</td>\n",
       "      <td>0.659905</td>\n",
       "      <td>0.660096</td>\n",
       "      <td>0.657050</td>\n",
       "      <td>0.655884</td>\n",
       "    </tr>\n",
       "    <tr>\n",
       "      <th>lr1(W10)</th>\n",
       "      <td>0.655247</td>\n",
       "      <td>0.649678</td>\n",
       "      <td>0.659340</td>\n",
       "      <td>0.658714</td>\n",
       "      <td>0.677351</td>\n",
       "      <td>0.698008</td>\n",
       "      <td>0.700357</td>\n",
       "      <td>0.720109</td>\n",
       "      <td>1.000000</td>\n",
       "      <td>0.709404</td>\n",
       "      <td>0.705152</td>\n",
       "      <td>0.705967</td>\n",
       "      <td>0.707239</td>\n",
       "      <td>0.653268</td>\n",
       "      <td>0.655151</td>\n",
       "      <td>0.655285</td>\n",
       "      <td>0.656843</td>\n",
       "      <td>0.650310</td>\n",
       "      <td>0.653990</td>\n",
       "    </tr>\n",
       "    <tr>\n",
       "      <th>lr1(W9)</th>\n",
       "      <td>0.649012</td>\n",
       "      <td>0.636312</td>\n",
       "      <td>0.650451</td>\n",
       "      <td>0.647088</td>\n",
       "      <td>0.665503</td>\n",
       "      <td>0.683215</td>\n",
       "      <td>0.680821</td>\n",
       "      <td>0.708380</td>\n",
       "      <td>0.709404</td>\n",
       "      <td>1.000000</td>\n",
       "      <td>1.000000</td>\n",
       "      <td>1.000000</td>\n",
       "      <td>0.713968</td>\n",
       "      <td>0.673644</td>\n",
       "      <td>0.675044</td>\n",
       "      <td>0.676789</td>\n",
       "      <td>0.676958</td>\n",
       "      <td>0.673683</td>\n",
       "      <td>0.673668</td>\n",
       "    </tr>\n",
       "    <tr>\n",
       "      <th>lr1(W8)</th>\n",
       "      <td>0.646999</td>\n",
       "      <td>0.632628</td>\n",
       "      <td>0.646798</td>\n",
       "      <td>0.644907</td>\n",
       "      <td>0.664755</td>\n",
       "      <td>0.678601</td>\n",
       "      <td>0.677526</td>\n",
       "      <td>0.707043</td>\n",
       "      <td>0.705152</td>\n",
       "      <td>1.000000</td>\n",
       "      <td>1.000000</td>\n",
       "      <td>1.000000</td>\n",
       "      <td>0.713399</td>\n",
       "      <td>0.671685</td>\n",
       "      <td>0.673028</td>\n",
       "      <td>0.672713</td>\n",
       "      <td>0.673364</td>\n",
       "      <td>0.669696</td>\n",
       "      <td>0.669953</td>\n",
       "    </tr>\n",
       "    <tr>\n",
       "      <th>lr1(W789)</th>\n",
       "      <td>0.648117</td>\n",
       "      <td>0.632839</td>\n",
       "      <td>0.646982</td>\n",
       "      <td>0.643461</td>\n",
       "      <td>0.664731</td>\n",
       "      <td>0.678540</td>\n",
       "      <td>0.677499</td>\n",
       "      <td>0.706975</td>\n",
       "      <td>0.705967</td>\n",
       "      <td>1.000000</td>\n",
       "      <td>1.000000</td>\n",
       "      <td>1.000000</td>\n",
       "      <td>0.712810</td>\n",
       "      <td>0.669553</td>\n",
       "      <td>0.671104</td>\n",
       "      <td>0.672261</td>\n",
       "      <td>0.672357</td>\n",
       "      <td>0.669064</td>\n",
       "      <td>0.668349</td>\n",
       "    </tr>\n",
       "    <tr>\n",
       "      <th>lr1(W6)</th>\n",
       "      <td>0.671117</td>\n",
       "      <td>0.655210</td>\n",
       "      <td>0.660818</td>\n",
       "      <td>0.656465</td>\n",
       "      <td>0.678559</td>\n",
       "      <td>0.688860</td>\n",
       "      <td>0.692472</td>\n",
       "      <td>0.722916</td>\n",
       "      <td>0.707239</td>\n",
       "      <td>0.713968</td>\n",
       "      <td>0.713399</td>\n",
       "      <td>0.712810</td>\n",
       "      <td>1.000000</td>\n",
       "      <td>0.691131</td>\n",
       "      <td>0.692749</td>\n",
       "      <td>0.688696</td>\n",
       "      <td>0.689821</td>\n",
       "      <td>0.685960</td>\n",
       "      <td>0.689004</td>\n",
       "    </tr>\n",
       "    <tr>\n",
       "      <th>lr1(W5)</th>\n",
       "      <td>0.612397</td>\n",
       "      <td>0.596784</td>\n",
       "      <td>0.606081</td>\n",
       "      <td>0.594653</td>\n",
       "      <td>0.620193</td>\n",
       "      <td>0.627978</td>\n",
       "      <td>0.627279</td>\n",
       "      <td>0.657662</td>\n",
       "      <td>0.653268</td>\n",
       "      <td>0.673644</td>\n",
       "      <td>0.671685</td>\n",
       "      <td>0.669553</td>\n",
       "      <td>0.691131</td>\n",
       "      <td>1.000000</td>\n",
       "      <td>1.000000</td>\n",
       "      <td>1.000000</td>\n",
       "      <td>1.000000</td>\n",
       "      <td>1.000000</td>\n",
       "      <td>1.000000</td>\n",
       "    </tr>\n",
       "    <tr>\n",
       "      <th>lr1(W4)</th>\n",
       "      <td>0.609099</td>\n",
       "      <td>0.592506</td>\n",
       "      <td>0.607421</td>\n",
       "      <td>0.596413</td>\n",
       "      <td>0.619194</td>\n",
       "      <td>0.625793</td>\n",
       "      <td>0.628309</td>\n",
       "      <td>0.655142</td>\n",
       "      <td>0.655151</td>\n",
       "      <td>0.675044</td>\n",
       "      <td>0.673028</td>\n",
       "      <td>0.671104</td>\n",
       "      <td>0.692749</td>\n",
       "      <td>1.000000</td>\n",
       "      <td>1.000000</td>\n",
       "      <td>1.000000</td>\n",
       "      <td>1.000000</td>\n",
       "      <td>1.000000</td>\n",
       "      <td>1.000000</td>\n",
       "    </tr>\n",
       "    <tr>\n",
       "      <th>lr1(W3)</th>\n",
       "      <td>0.614524</td>\n",
       "      <td>0.595555</td>\n",
       "      <td>0.609965</td>\n",
       "      <td>0.594500</td>\n",
       "      <td>0.618611</td>\n",
       "      <td>0.629732</td>\n",
       "      <td>0.629185</td>\n",
       "      <td>0.659905</td>\n",
       "      <td>0.655285</td>\n",
       "      <td>0.676789</td>\n",
       "      <td>0.672713</td>\n",
       "      <td>0.672261</td>\n",
       "      <td>0.688696</td>\n",
       "      <td>1.000000</td>\n",
       "      <td>1.000000</td>\n",
       "      <td>1.000000</td>\n",
       "      <td>1.000000</td>\n",
       "      <td>1.000000</td>\n",
       "      <td>1.000000</td>\n",
       "    </tr>\n",
       "    <tr>\n",
       "      <th>lr1(W2)</th>\n",
       "      <td>0.619576</td>\n",
       "      <td>0.599320</td>\n",
       "      <td>0.609589</td>\n",
       "      <td>0.598089</td>\n",
       "      <td>0.618687</td>\n",
       "      <td>0.626318</td>\n",
       "      <td>0.629646</td>\n",
       "      <td>0.660096</td>\n",
       "      <td>0.656843</td>\n",
       "      <td>0.676958</td>\n",
       "      <td>0.673364</td>\n",
       "      <td>0.672357</td>\n",
       "      <td>0.689821</td>\n",
       "      <td>1.000000</td>\n",
       "      <td>1.000000</td>\n",
       "      <td>1.000000</td>\n",
       "      <td>1.000000</td>\n",
       "      <td>1.000000</td>\n",
       "      <td>1.000000</td>\n",
       "    </tr>\n",
       "    <tr>\n",
       "      <th>lr1(W1)</th>\n",
       "      <td>0.615430</td>\n",
       "      <td>0.593055</td>\n",
       "      <td>0.602645</td>\n",
       "      <td>0.592513</td>\n",
       "      <td>0.615497</td>\n",
       "      <td>0.625582</td>\n",
       "      <td>0.627069</td>\n",
       "      <td>0.657050</td>\n",
       "      <td>0.650310</td>\n",
       "      <td>0.673683</td>\n",
       "      <td>0.669696</td>\n",
       "      <td>0.669064</td>\n",
       "      <td>0.685960</td>\n",
       "      <td>1.000000</td>\n",
       "      <td>1.000000</td>\n",
       "      <td>1.000000</td>\n",
       "      <td>1.000000</td>\n",
       "      <td>1.000000</td>\n",
       "      <td>1.000000</td>\n",
       "    </tr>\n",
       "    <tr>\n",
       "      <th>lr1(W12345)</th>\n",
       "      <td>0.610528</td>\n",
       "      <td>0.590586</td>\n",
       "      <td>0.602502</td>\n",
       "      <td>0.592427</td>\n",
       "      <td>0.617115</td>\n",
       "      <td>0.624251</td>\n",
       "      <td>0.627482</td>\n",
       "      <td>0.655884</td>\n",
       "      <td>0.653990</td>\n",
       "      <td>0.673668</td>\n",
       "      <td>0.669953</td>\n",
       "      <td>0.668349</td>\n",
       "      <td>0.689004</td>\n",
       "      <td>1.000000</td>\n",
       "      <td>1.000000</td>\n",
       "      <td>1.000000</td>\n",
       "      <td>1.000000</td>\n",
       "      <td>1.000000</td>\n",
       "      <td>1.000000</td>\n",
       "    </tr>\n",
       "  </tbody>\n",
       "</table>\n",
       "</div>"
      ],
      "text/plain": [
       "             lr1(W23)  lr1(W22)  lr1(W21)  lr1(W20)  lr1(W17)  lr1(W16)  \\\n",
       "lr1(W23)     1.000000  0.766111  0.738047  0.725820  0.717482  0.704480   \n",
       "lr1(W22)     0.766111  1.000000  0.744621  0.727035  0.722416  0.701250   \n",
       "lr1(W21)     0.738047  0.744621  1.000000  0.740822  0.721264  0.702468   \n",
       "lr1(W20)     0.725820  0.727035  0.740822  1.000000  0.730195  0.723478   \n",
       "lr1(W17)     0.717482  0.722416  0.721264  0.730195  1.000000  0.727157   \n",
       "lr1(W16)     0.704480  0.701250  0.702468  0.723478  0.727157  1.000000   \n",
       "lr1(W14)     0.679629  0.681359  0.686758  0.700863  0.710407  0.715177   \n",
       "lr1(W13)     0.699774  0.695836  0.706070  0.709740  0.727037  0.736011   \n",
       "lr1(W10)     0.655247  0.649678  0.659340  0.658714  0.677351  0.698008   \n",
       "lr1(W9)      0.649012  0.636312  0.650451  0.647088  0.665503  0.683215   \n",
       "lr1(W8)      0.646999  0.632628  0.646798  0.644907  0.664755  0.678601   \n",
       "lr1(W789)    0.648117  0.632839  0.646982  0.643461  0.664731  0.678540   \n",
       "lr1(W6)      0.671117  0.655210  0.660818  0.656465  0.678559  0.688860   \n",
       "lr1(W5)      0.612397  0.596784  0.606081  0.594653  0.620193  0.627978   \n",
       "lr1(W4)      0.609099  0.592506  0.607421  0.596413  0.619194  0.625793   \n",
       "lr1(W3)      0.614524  0.595555  0.609965  0.594500  0.618611  0.629732   \n",
       "lr1(W2)      0.619576  0.599320  0.609589  0.598089  0.618687  0.626318   \n",
       "lr1(W1)      0.615430  0.593055  0.602645  0.592513  0.615497  0.625582   \n",
       "lr1(W12345)  0.610528  0.590586  0.602502  0.592427  0.617115  0.624251   \n",
       "\n",
       "             lr1(W14)  lr1(W13)  lr1(W10)   lr1(W9)   lr1(W8)  lr1(W789)  \\\n",
       "lr1(W23)     0.679629  0.699774  0.655247  0.649012  0.646999   0.648117   \n",
       "lr1(W22)     0.681359  0.695836  0.649678  0.636312  0.632628   0.632839   \n",
       "lr1(W21)     0.686758  0.706070  0.659340  0.650451  0.646798   0.646982   \n",
       "lr1(W20)     0.700863  0.709740  0.658714  0.647088  0.644907   0.643461   \n",
       "lr1(W17)     0.710407  0.727037  0.677351  0.665503  0.664755   0.664731   \n",
       "lr1(W16)     0.715177  0.736011  0.698008  0.683215  0.678601   0.678540   \n",
       "lr1(W14)     1.000000  0.732865  0.700357  0.680821  0.677526   0.677499   \n",
       "lr1(W13)     0.732865  1.000000  0.720109  0.708380  0.707043   0.706975   \n",
       "lr1(W10)     0.700357  0.720109  1.000000  0.709404  0.705152   0.705967   \n",
       "lr1(W9)      0.680821  0.708380  0.709404  1.000000  1.000000   1.000000   \n",
       "lr1(W8)      0.677526  0.707043  0.705152  1.000000  1.000000   1.000000   \n",
       "lr1(W789)    0.677499  0.706975  0.705967  1.000000  1.000000   1.000000   \n",
       "lr1(W6)      0.692472  0.722916  0.707239  0.713968  0.713399   0.712810   \n",
       "lr1(W5)      0.627279  0.657662  0.653268  0.673644  0.671685   0.669553   \n",
       "lr1(W4)      0.628309  0.655142  0.655151  0.675044  0.673028   0.671104   \n",
       "lr1(W3)      0.629185  0.659905  0.655285  0.676789  0.672713   0.672261   \n",
       "lr1(W2)      0.629646  0.660096  0.656843  0.676958  0.673364   0.672357   \n",
       "lr1(W1)      0.627069  0.657050  0.650310  0.673683  0.669696   0.669064   \n",
       "lr1(W12345)  0.627482  0.655884  0.653990  0.673668  0.669953   0.668349   \n",
       "\n",
       "              lr1(W6)   lr1(W5)   lr1(W4)   lr1(W3)   lr1(W2)   lr1(W1)  \\\n",
       "lr1(W23)     0.671117  0.612397  0.609099  0.614524  0.619576  0.615430   \n",
       "lr1(W22)     0.655210  0.596784  0.592506  0.595555  0.599320  0.593055   \n",
       "lr1(W21)     0.660818  0.606081  0.607421  0.609965  0.609589  0.602645   \n",
       "lr1(W20)     0.656465  0.594653  0.596413  0.594500  0.598089  0.592513   \n",
       "lr1(W17)     0.678559  0.620193  0.619194  0.618611  0.618687  0.615497   \n",
       "lr1(W16)     0.688860  0.627978  0.625793  0.629732  0.626318  0.625582   \n",
       "lr1(W14)     0.692472  0.627279  0.628309  0.629185  0.629646  0.627069   \n",
       "lr1(W13)     0.722916  0.657662  0.655142  0.659905  0.660096  0.657050   \n",
       "lr1(W10)     0.707239  0.653268  0.655151  0.655285  0.656843  0.650310   \n",
       "lr1(W9)      0.713968  0.673644  0.675044  0.676789  0.676958  0.673683   \n",
       "lr1(W8)      0.713399  0.671685  0.673028  0.672713  0.673364  0.669696   \n",
       "lr1(W789)    0.712810  0.669553  0.671104  0.672261  0.672357  0.669064   \n",
       "lr1(W6)      1.000000  0.691131  0.692749  0.688696  0.689821  0.685960   \n",
       "lr1(W5)      0.691131  1.000000  1.000000  1.000000  1.000000  1.000000   \n",
       "lr1(W4)      0.692749  1.000000  1.000000  1.000000  1.000000  1.000000   \n",
       "lr1(W3)      0.688696  1.000000  1.000000  1.000000  1.000000  1.000000   \n",
       "lr1(W2)      0.689821  1.000000  1.000000  1.000000  1.000000  1.000000   \n",
       "lr1(W1)      0.685960  1.000000  1.000000  1.000000  1.000000  1.000000   \n",
       "lr1(W12345)  0.689004  1.000000  1.000000  1.000000  1.000000  1.000000   \n",
       "\n",
       "             lr1(W12345)  \n",
       "lr1(W23)        0.610528  \n",
       "lr1(W22)        0.590586  \n",
       "lr1(W21)        0.602502  \n",
       "lr1(W20)        0.592427  \n",
       "lr1(W17)        0.617115  \n",
       "lr1(W16)        0.624251  \n",
       "lr1(W14)        0.627482  \n",
       "lr1(W13)        0.655884  \n",
       "lr1(W10)        0.653990  \n",
       "lr1(W9)         0.673668  \n",
       "lr1(W8)         0.669953  \n",
       "lr1(W789)       0.668349  \n",
       "lr1(W6)         0.689004  \n",
       "lr1(W5)         1.000000  \n",
       "lr1(W4)         1.000000  \n",
       "lr1(W3)         1.000000  \n",
       "lr1(W2)         1.000000  \n",
       "lr1(W1)         1.000000  \n",
       "lr1(W12345)     1.000000  "
      ]
     },
     "execution_count": 179,
     "metadata": {},
     "output_type": "execute_result"
    }
   ],
   "source": [
    "BES_Panel_full_num[search(BES_Panel_full_num,\"lr1\").index].corr()"
   ]
  },
  {
   "cell_type": "code",
   "execution_count": 180,
   "id": "f7242a03",
   "metadata": {},
   "outputs": [],
   "source": [
    "BES_Panel_full_num = BES_Panel_full_num.drop(search(BES_Panel_full_num,\"\\(W8\\)|\\(W9\\)|\\(W1\\)|\\(W2\\)|\\(W3\\)|\\(W4\\)|\\(W5\\)\").index,axis=1)"
   ]
  },
  {
   "cell_type": "code",
   "execution_count": 181,
   "id": "7493bae7",
   "metadata": {},
   "outputs": [
    {
     "data": {
      "text/html": [
       "<div>\n",
       "<style scoped>\n",
       "    .dataframe tbody tr th:only-of-type {\n",
       "        vertical-align: middle;\n",
       "    }\n",
       "\n",
       "    .dataframe tbody tr th {\n",
       "        vertical-align: top;\n",
       "    }\n",
       "\n",
       "    .dataframe thead th {\n",
       "        text-align: right;\n",
       "    }\n",
       "</style>\n",
       "<table border=\"1\" class=\"dataframe\">\n",
       "  <thead>\n",
       "    <tr style=\"text-align: right;\">\n",
       "      <th></th>\n",
       "      <th>lr1(W23)</th>\n",
       "      <th>lr1(W22)</th>\n",
       "      <th>lr1(W21)</th>\n",
       "      <th>lr1(W20)</th>\n",
       "      <th>lr1(W17)</th>\n",
       "      <th>lr1(W16)</th>\n",
       "      <th>lr1(W14)</th>\n",
       "      <th>lr1(W13)</th>\n",
       "      <th>lr1(W10)</th>\n",
       "      <th>lr1(W789)</th>\n",
       "      <th>lr1(W6)</th>\n",
       "      <th>lr1(W12345)</th>\n",
       "    </tr>\n",
       "  </thead>\n",
       "  <tbody>\n",
       "    <tr>\n",
       "      <th>lr1(W23)</th>\n",
       "      <td>1.000000</td>\n",
       "      <td>0.766111</td>\n",
       "      <td>0.738047</td>\n",
       "      <td>0.725820</td>\n",
       "      <td>0.717482</td>\n",
       "      <td>0.704480</td>\n",
       "      <td>0.679629</td>\n",
       "      <td>0.699774</td>\n",
       "      <td>0.655247</td>\n",
       "      <td>0.648117</td>\n",
       "      <td>0.671117</td>\n",
       "      <td>0.610528</td>\n",
       "    </tr>\n",
       "    <tr>\n",
       "      <th>lr1(W22)</th>\n",
       "      <td>0.766111</td>\n",
       "      <td>1.000000</td>\n",
       "      <td>0.744621</td>\n",
       "      <td>0.727035</td>\n",
       "      <td>0.722416</td>\n",
       "      <td>0.701250</td>\n",
       "      <td>0.681359</td>\n",
       "      <td>0.695836</td>\n",
       "      <td>0.649678</td>\n",
       "      <td>0.632839</td>\n",
       "      <td>0.655210</td>\n",
       "      <td>0.590586</td>\n",
       "    </tr>\n",
       "    <tr>\n",
       "      <th>lr1(W21)</th>\n",
       "      <td>0.738047</td>\n",
       "      <td>0.744621</td>\n",
       "      <td>1.000000</td>\n",
       "      <td>0.740822</td>\n",
       "      <td>0.721264</td>\n",
       "      <td>0.702468</td>\n",
       "      <td>0.686758</td>\n",
       "      <td>0.706070</td>\n",
       "      <td>0.659340</td>\n",
       "      <td>0.646982</td>\n",
       "      <td>0.660818</td>\n",
       "      <td>0.602502</td>\n",
       "    </tr>\n",
       "    <tr>\n",
       "      <th>lr1(W20)</th>\n",
       "      <td>0.725820</td>\n",
       "      <td>0.727035</td>\n",
       "      <td>0.740822</td>\n",
       "      <td>1.000000</td>\n",
       "      <td>0.730195</td>\n",
       "      <td>0.723478</td>\n",
       "      <td>0.700863</td>\n",
       "      <td>0.709740</td>\n",
       "      <td>0.658714</td>\n",
       "      <td>0.643461</td>\n",
       "      <td>0.656465</td>\n",
       "      <td>0.592427</td>\n",
       "    </tr>\n",
       "    <tr>\n",
       "      <th>lr1(W17)</th>\n",
       "      <td>0.717482</td>\n",
       "      <td>0.722416</td>\n",
       "      <td>0.721264</td>\n",
       "      <td>0.730195</td>\n",
       "      <td>1.000000</td>\n",
       "      <td>0.727157</td>\n",
       "      <td>0.710407</td>\n",
       "      <td>0.727037</td>\n",
       "      <td>0.677351</td>\n",
       "      <td>0.664731</td>\n",
       "      <td>0.678559</td>\n",
       "      <td>0.617115</td>\n",
       "    </tr>\n",
       "    <tr>\n",
       "      <th>lr1(W16)</th>\n",
       "      <td>0.704480</td>\n",
       "      <td>0.701250</td>\n",
       "      <td>0.702468</td>\n",
       "      <td>0.723478</td>\n",
       "      <td>0.727157</td>\n",
       "      <td>1.000000</td>\n",
       "      <td>0.715177</td>\n",
       "      <td>0.736011</td>\n",
       "      <td>0.698008</td>\n",
       "      <td>0.678540</td>\n",
       "      <td>0.688860</td>\n",
       "      <td>0.624251</td>\n",
       "    </tr>\n",
       "    <tr>\n",
       "      <th>lr1(W14)</th>\n",
       "      <td>0.679629</td>\n",
       "      <td>0.681359</td>\n",
       "      <td>0.686758</td>\n",
       "      <td>0.700863</td>\n",
       "      <td>0.710407</td>\n",
       "      <td>0.715177</td>\n",
       "      <td>1.000000</td>\n",
       "      <td>0.732865</td>\n",
       "      <td>0.700357</td>\n",
       "      <td>0.677499</td>\n",
       "      <td>0.692472</td>\n",
       "      <td>0.627482</td>\n",
       "    </tr>\n",
       "    <tr>\n",
       "      <th>lr1(W13)</th>\n",
       "      <td>0.699774</td>\n",
       "      <td>0.695836</td>\n",
       "      <td>0.706070</td>\n",
       "      <td>0.709740</td>\n",
       "      <td>0.727037</td>\n",
       "      <td>0.736011</td>\n",
       "      <td>0.732865</td>\n",
       "      <td>1.000000</td>\n",
       "      <td>0.720109</td>\n",
       "      <td>0.706975</td>\n",
       "      <td>0.722916</td>\n",
       "      <td>0.655884</td>\n",
       "    </tr>\n",
       "    <tr>\n",
       "      <th>lr1(W10)</th>\n",
       "      <td>0.655247</td>\n",
       "      <td>0.649678</td>\n",
       "      <td>0.659340</td>\n",
       "      <td>0.658714</td>\n",
       "      <td>0.677351</td>\n",
       "      <td>0.698008</td>\n",
       "      <td>0.700357</td>\n",
       "      <td>0.720109</td>\n",
       "      <td>1.000000</td>\n",
       "      <td>0.705967</td>\n",
       "      <td>0.707239</td>\n",
       "      <td>0.653990</td>\n",
       "    </tr>\n",
       "    <tr>\n",
       "      <th>lr1(W789)</th>\n",
       "      <td>0.648117</td>\n",
       "      <td>0.632839</td>\n",
       "      <td>0.646982</td>\n",
       "      <td>0.643461</td>\n",
       "      <td>0.664731</td>\n",
       "      <td>0.678540</td>\n",
       "      <td>0.677499</td>\n",
       "      <td>0.706975</td>\n",
       "      <td>0.705967</td>\n",
       "      <td>1.000000</td>\n",
       "      <td>0.712810</td>\n",
       "      <td>0.668349</td>\n",
       "    </tr>\n",
       "    <tr>\n",
       "      <th>lr1(W6)</th>\n",
       "      <td>0.671117</td>\n",
       "      <td>0.655210</td>\n",
       "      <td>0.660818</td>\n",
       "      <td>0.656465</td>\n",
       "      <td>0.678559</td>\n",
       "      <td>0.688860</td>\n",
       "      <td>0.692472</td>\n",
       "      <td>0.722916</td>\n",
       "      <td>0.707239</td>\n",
       "      <td>0.712810</td>\n",
       "      <td>1.000000</td>\n",
       "      <td>0.689004</td>\n",
       "    </tr>\n",
       "    <tr>\n",
       "      <th>lr1(W12345)</th>\n",
       "      <td>0.610528</td>\n",
       "      <td>0.590586</td>\n",
       "      <td>0.602502</td>\n",
       "      <td>0.592427</td>\n",
       "      <td>0.617115</td>\n",
       "      <td>0.624251</td>\n",
       "      <td>0.627482</td>\n",
       "      <td>0.655884</td>\n",
       "      <td>0.653990</td>\n",
       "      <td>0.668349</td>\n",
       "      <td>0.689004</td>\n",
       "      <td>1.000000</td>\n",
       "    </tr>\n",
       "  </tbody>\n",
       "</table>\n",
       "</div>"
      ],
      "text/plain": [
       "             lr1(W23)  lr1(W22)  lr1(W21)  lr1(W20)  lr1(W17)  lr1(W16)  \\\n",
       "lr1(W23)     1.000000  0.766111  0.738047  0.725820  0.717482  0.704480   \n",
       "lr1(W22)     0.766111  1.000000  0.744621  0.727035  0.722416  0.701250   \n",
       "lr1(W21)     0.738047  0.744621  1.000000  0.740822  0.721264  0.702468   \n",
       "lr1(W20)     0.725820  0.727035  0.740822  1.000000  0.730195  0.723478   \n",
       "lr1(W17)     0.717482  0.722416  0.721264  0.730195  1.000000  0.727157   \n",
       "lr1(W16)     0.704480  0.701250  0.702468  0.723478  0.727157  1.000000   \n",
       "lr1(W14)     0.679629  0.681359  0.686758  0.700863  0.710407  0.715177   \n",
       "lr1(W13)     0.699774  0.695836  0.706070  0.709740  0.727037  0.736011   \n",
       "lr1(W10)     0.655247  0.649678  0.659340  0.658714  0.677351  0.698008   \n",
       "lr1(W789)    0.648117  0.632839  0.646982  0.643461  0.664731  0.678540   \n",
       "lr1(W6)      0.671117  0.655210  0.660818  0.656465  0.678559  0.688860   \n",
       "lr1(W12345)  0.610528  0.590586  0.602502  0.592427  0.617115  0.624251   \n",
       "\n",
       "             lr1(W14)  lr1(W13)  lr1(W10)  lr1(W789)   lr1(W6)  lr1(W12345)  \n",
       "lr1(W23)     0.679629  0.699774  0.655247   0.648117  0.671117     0.610528  \n",
       "lr1(W22)     0.681359  0.695836  0.649678   0.632839  0.655210     0.590586  \n",
       "lr1(W21)     0.686758  0.706070  0.659340   0.646982  0.660818     0.602502  \n",
       "lr1(W20)     0.700863  0.709740  0.658714   0.643461  0.656465     0.592427  \n",
       "lr1(W17)     0.710407  0.727037  0.677351   0.664731  0.678559     0.617115  \n",
       "lr1(W16)     0.715177  0.736011  0.698008   0.678540  0.688860     0.624251  \n",
       "lr1(W14)     1.000000  0.732865  0.700357   0.677499  0.692472     0.627482  \n",
       "lr1(W13)     0.732865  1.000000  0.720109   0.706975  0.722916     0.655884  \n",
       "lr1(W10)     0.700357  0.720109  1.000000   0.705967  0.707239     0.653990  \n",
       "lr1(W789)    0.677499  0.706975  0.705967   1.000000  0.712810     0.668349  \n",
       "lr1(W6)      0.692472  0.722916  0.707239   0.712810  1.000000     0.689004  \n",
       "lr1(W12345)  0.627482  0.655884  0.653990   0.668349  0.689004     1.000000  "
      ]
     },
     "execution_count": 181,
     "metadata": {},
     "output_type": "execute_result"
    }
   ],
   "source": [
    "BES_Panel_full_num[search(BES_Panel_full_num,\"lr1\").index].corr()"
   ]
  },
  {
   "cell_type": "code",
   "execution_count": 182,
   "id": "cf67de37",
   "metadata": {},
   "outputs": [
    {
     "data": {
      "text/html": [
       "<div>\n",
       "<style scoped>\n",
       "    .dataframe tbody tr th:only-of-type {\n",
       "        vertical-align: middle;\n",
       "    }\n",
       "\n",
       "    .dataframe tbody tr th {\n",
       "        vertical-align: top;\n",
       "    }\n",
       "\n",
       "    .dataframe thead th {\n",
       "        text-align: right;\n",
       "    }\n",
       "</style>\n",
       "<table border=\"1\" class=\"dataframe\">\n",
       "  <thead>\n",
       "    <tr style=\"text-align: right;\">\n",
       "      <th></th>\n",
       "      <th>lr_scale(W23)</th>\n",
       "      <th>lr_scale(W22)</th>\n",
       "      <th>lr_scale(W21)</th>\n",
       "      <th>lr_scale(W20)</th>\n",
       "      <th>lr_scale(W17)</th>\n",
       "      <th>lr_scale(W16)</th>\n",
       "      <th>lr_scale(W14)</th>\n",
       "      <th>lr_scale(W13)</th>\n",
       "      <th>lr_scale(W10)</th>\n",
       "      <th>lr_scale(W789)</th>\n",
       "      <th>lr_scale(W6)</th>\n",
       "      <th>lr_scale(W12345)</th>\n",
       "    </tr>\n",
       "  </thead>\n",
       "  <tbody>\n",
       "    <tr>\n",
       "      <th>lr_scale(W23)</th>\n",
       "      <td>1.000000</td>\n",
       "      <td>0.825293</td>\n",
       "      <td>0.809033</td>\n",
       "      <td>0.790221</td>\n",
       "      <td>0.784388</td>\n",
       "      <td>0.758853</td>\n",
       "      <td>0.746070</td>\n",
       "      <td>0.757578</td>\n",
       "      <td>0.714943</td>\n",
       "      <td>0.717055</td>\n",
       "      <td>0.725008</td>\n",
       "      <td>0.669264</td>\n",
       "    </tr>\n",
       "    <tr>\n",
       "      <th>lr_scale(W22)</th>\n",
       "      <td>0.825293</td>\n",
       "      <td>1.000000</td>\n",
       "      <td>0.816551</td>\n",
       "      <td>0.787560</td>\n",
       "      <td>0.780980</td>\n",
       "      <td>0.754022</td>\n",
       "      <td>0.746805</td>\n",
       "      <td>0.757021</td>\n",
       "      <td>0.714756</td>\n",
       "      <td>0.709241</td>\n",
       "      <td>0.709277</td>\n",
       "      <td>0.661749</td>\n",
       "    </tr>\n",
       "    <tr>\n",
       "      <th>lr_scale(W21)</th>\n",
       "      <td>0.809033</td>\n",
       "      <td>0.816551</td>\n",
       "      <td>1.000000</td>\n",
       "      <td>0.814785</td>\n",
       "      <td>0.794399</td>\n",
       "      <td>0.760193</td>\n",
       "      <td>0.751567</td>\n",
       "      <td>0.769080</td>\n",
       "      <td>0.721881</td>\n",
       "      <td>0.715371</td>\n",
       "      <td>0.735392</td>\n",
       "      <td>0.670682</td>\n",
       "    </tr>\n",
       "    <tr>\n",
       "      <th>lr_scale(W20)</th>\n",
       "      <td>0.790221</td>\n",
       "      <td>0.787560</td>\n",
       "      <td>0.814785</td>\n",
       "      <td>1.000000</td>\n",
       "      <td>0.794747</td>\n",
       "      <td>0.767185</td>\n",
       "      <td>0.764975</td>\n",
       "      <td>0.772409</td>\n",
       "      <td>0.723854</td>\n",
       "      <td>0.715254</td>\n",
       "      <td>0.736029</td>\n",
       "      <td>0.664392</td>\n",
       "    </tr>\n",
       "    <tr>\n",
       "      <th>lr_scale(W17)</th>\n",
       "      <td>0.784388</td>\n",
       "      <td>0.780980</td>\n",
       "      <td>0.794399</td>\n",
       "      <td>0.794747</td>\n",
       "      <td>1.000000</td>\n",
       "      <td>0.791720</td>\n",
       "      <td>0.776659</td>\n",
       "      <td>0.793032</td>\n",
       "      <td>0.741072</td>\n",
       "      <td>0.739890</td>\n",
       "      <td>0.747647</td>\n",
       "      <td>0.701558</td>\n",
       "    </tr>\n",
       "    <tr>\n",
       "      <th>lr_scale(W16)</th>\n",
       "      <td>0.758853</td>\n",
       "      <td>0.754022</td>\n",
       "      <td>0.760193</td>\n",
       "      <td>0.767185</td>\n",
       "      <td>0.791720</td>\n",
       "      <td>1.000000</td>\n",
       "      <td>0.781509</td>\n",
       "      <td>0.791682</td>\n",
       "      <td>0.761894</td>\n",
       "      <td>0.757940</td>\n",
       "      <td>0.750861</td>\n",
       "      <td>0.704352</td>\n",
       "    </tr>\n",
       "    <tr>\n",
       "      <th>lr_scale(W14)</th>\n",
       "      <td>0.746070</td>\n",
       "      <td>0.746805</td>\n",
       "      <td>0.751567</td>\n",
       "      <td>0.764975</td>\n",
       "      <td>0.776659</td>\n",
       "      <td>0.781509</td>\n",
       "      <td>1.000000</td>\n",
       "      <td>0.803144</td>\n",
       "      <td>0.769384</td>\n",
       "      <td>0.760548</td>\n",
       "      <td>0.778206</td>\n",
       "      <td>0.724492</td>\n",
       "    </tr>\n",
       "    <tr>\n",
       "      <th>lr_scale(W13)</th>\n",
       "      <td>0.757578</td>\n",
       "      <td>0.757021</td>\n",
       "      <td>0.769080</td>\n",
       "      <td>0.772409</td>\n",
       "      <td>0.793032</td>\n",
       "      <td>0.791682</td>\n",
       "      <td>0.803144</td>\n",
       "      <td>1.000000</td>\n",
       "      <td>0.782786</td>\n",
       "      <td>0.783510</td>\n",
       "      <td>0.794769</td>\n",
       "      <td>0.731399</td>\n",
       "    </tr>\n",
       "    <tr>\n",
       "      <th>lr_scale(W10)</th>\n",
       "      <td>0.714943</td>\n",
       "      <td>0.714756</td>\n",
       "      <td>0.721881</td>\n",
       "      <td>0.723854</td>\n",
       "      <td>0.741072</td>\n",
       "      <td>0.761894</td>\n",
       "      <td>0.769384</td>\n",
       "      <td>0.782786</td>\n",
       "      <td>1.000000</td>\n",
       "      <td>0.790755</td>\n",
       "      <td>0.776629</td>\n",
       "      <td>0.731438</td>\n",
       "    </tr>\n",
       "    <tr>\n",
       "      <th>lr_scale(W789)</th>\n",
       "      <td>0.717055</td>\n",
       "      <td>0.709241</td>\n",
       "      <td>0.715371</td>\n",
       "      <td>0.715254</td>\n",
       "      <td>0.739890</td>\n",
       "      <td>0.757940</td>\n",
       "      <td>0.760548</td>\n",
       "      <td>0.783510</td>\n",
       "      <td>0.790755</td>\n",
       "      <td>1.000000</td>\n",
       "      <td>0.799926</td>\n",
       "      <td>0.754797</td>\n",
       "    </tr>\n",
       "    <tr>\n",
       "      <th>lr_scale(W6)</th>\n",
       "      <td>0.725008</td>\n",
       "      <td>0.709277</td>\n",
       "      <td>0.735392</td>\n",
       "      <td>0.736029</td>\n",
       "      <td>0.747647</td>\n",
       "      <td>0.750861</td>\n",
       "      <td>0.778206</td>\n",
       "      <td>0.794769</td>\n",
       "      <td>0.776629</td>\n",
       "      <td>0.799926</td>\n",
       "      <td>1.000000</td>\n",
       "      <td>0.778228</td>\n",
       "    </tr>\n",
       "    <tr>\n",
       "      <th>lr_scale(W12345)</th>\n",
       "      <td>0.669264</td>\n",
       "      <td>0.661749</td>\n",
       "      <td>0.670682</td>\n",
       "      <td>0.664392</td>\n",
       "      <td>0.701558</td>\n",
       "      <td>0.704352</td>\n",
       "      <td>0.724492</td>\n",
       "      <td>0.731399</td>\n",
       "      <td>0.731438</td>\n",
       "      <td>0.754797</td>\n",
       "      <td>0.778228</td>\n",
       "      <td>1.000000</td>\n",
       "    </tr>\n",
       "  </tbody>\n",
       "</table>\n",
       "</div>"
      ],
      "text/plain": [
       "                  lr_scale(W23)  lr_scale(W22)  lr_scale(W21)  lr_scale(W20)  \\\n",
       "lr_scale(W23)          1.000000       0.825293       0.809033       0.790221   \n",
       "lr_scale(W22)          0.825293       1.000000       0.816551       0.787560   \n",
       "lr_scale(W21)          0.809033       0.816551       1.000000       0.814785   \n",
       "lr_scale(W20)          0.790221       0.787560       0.814785       1.000000   \n",
       "lr_scale(W17)          0.784388       0.780980       0.794399       0.794747   \n",
       "lr_scale(W16)          0.758853       0.754022       0.760193       0.767185   \n",
       "lr_scale(W14)          0.746070       0.746805       0.751567       0.764975   \n",
       "lr_scale(W13)          0.757578       0.757021       0.769080       0.772409   \n",
       "lr_scale(W10)          0.714943       0.714756       0.721881       0.723854   \n",
       "lr_scale(W789)         0.717055       0.709241       0.715371       0.715254   \n",
       "lr_scale(W6)           0.725008       0.709277       0.735392       0.736029   \n",
       "lr_scale(W12345)       0.669264       0.661749       0.670682       0.664392   \n",
       "\n",
       "                  lr_scale(W17)  lr_scale(W16)  lr_scale(W14)  lr_scale(W13)  \\\n",
       "lr_scale(W23)          0.784388       0.758853       0.746070       0.757578   \n",
       "lr_scale(W22)          0.780980       0.754022       0.746805       0.757021   \n",
       "lr_scale(W21)          0.794399       0.760193       0.751567       0.769080   \n",
       "lr_scale(W20)          0.794747       0.767185       0.764975       0.772409   \n",
       "lr_scale(W17)          1.000000       0.791720       0.776659       0.793032   \n",
       "lr_scale(W16)          0.791720       1.000000       0.781509       0.791682   \n",
       "lr_scale(W14)          0.776659       0.781509       1.000000       0.803144   \n",
       "lr_scale(W13)          0.793032       0.791682       0.803144       1.000000   \n",
       "lr_scale(W10)          0.741072       0.761894       0.769384       0.782786   \n",
       "lr_scale(W789)         0.739890       0.757940       0.760548       0.783510   \n",
       "lr_scale(W6)           0.747647       0.750861       0.778206       0.794769   \n",
       "lr_scale(W12345)       0.701558       0.704352       0.724492       0.731399   \n",
       "\n",
       "                  lr_scale(W10)  lr_scale(W789)  lr_scale(W6)  \\\n",
       "lr_scale(W23)          0.714943        0.717055      0.725008   \n",
       "lr_scale(W22)          0.714756        0.709241      0.709277   \n",
       "lr_scale(W21)          0.721881        0.715371      0.735392   \n",
       "lr_scale(W20)          0.723854        0.715254      0.736029   \n",
       "lr_scale(W17)          0.741072        0.739890      0.747647   \n",
       "lr_scale(W16)          0.761894        0.757940      0.750861   \n",
       "lr_scale(W14)          0.769384        0.760548      0.778206   \n",
       "lr_scale(W13)          0.782786        0.783510      0.794769   \n",
       "lr_scale(W10)          1.000000        0.790755      0.776629   \n",
       "lr_scale(W789)         0.790755        1.000000      0.799926   \n",
       "lr_scale(W6)           0.776629        0.799926      1.000000   \n",
       "lr_scale(W12345)       0.731438        0.754797      0.778228   \n",
       "\n",
       "                  lr_scale(W12345)  \n",
       "lr_scale(W23)             0.669264  \n",
       "lr_scale(W22)             0.661749  \n",
       "lr_scale(W21)             0.670682  \n",
       "lr_scale(W20)             0.664392  \n",
       "lr_scale(W17)             0.701558  \n",
       "lr_scale(W16)             0.704352  \n",
       "lr_scale(W14)             0.724492  \n",
       "lr_scale(W13)             0.731399  \n",
       "lr_scale(W10)             0.731438  \n",
       "lr_scale(W789)            0.754797  \n",
       "lr_scale(W6)              0.778228  \n",
       "lr_scale(W12345)          1.000000  "
      ]
     },
     "execution_count": 182,
     "metadata": {},
     "output_type": "execute_result"
    }
   ],
   "source": [
    "BES_Panel_full_num[search(BES_Panel_full_num,\"lr_scale\").index].corr()"
   ]
  },
  {
   "cell_type": "code",
   "execution_count": 183,
   "id": "c2121f85",
   "metadata": {},
   "outputs": [
    {
     "data": {
      "text/html": [
       "<div>\n",
       "<style scoped>\n",
       "    .dataframe tbody tr th:only-of-type {\n",
       "        vertical-align: middle;\n",
       "    }\n",
       "\n",
       "    .dataframe tbody tr th {\n",
       "        vertical-align: top;\n",
       "    }\n",
       "\n",
       "    .dataframe thead th {\n",
       "        text-align: right;\n",
       "    }\n",
       "</style>\n",
       "<table border=\"1\" class=\"dataframe\">\n",
       "  <thead>\n",
       "    <tr style=\"text-align: right;\">\n",
       "      <th></th>\n",
       "      <th>al_scale(W23)</th>\n",
       "      <th>al_scale(W22)</th>\n",
       "      <th>al_scale(W21)</th>\n",
       "      <th>al_scale(W20)</th>\n",
       "      <th>al_scale(W17)</th>\n",
       "      <th>al_scale(W16)</th>\n",
       "      <th>al_scale(W14)</th>\n",
       "      <th>al_scale(W13)</th>\n",
       "      <th>al_scale(W10)</th>\n",
       "      <th>al_scale(W789)</th>\n",
       "      <th>al_scale(W6)</th>\n",
       "      <th>al_scale(W12345)</th>\n",
       "    </tr>\n",
       "  </thead>\n",
       "  <tbody>\n",
       "    <tr>\n",
       "      <th>al_scale(W23)</th>\n",
       "      <td>1.000000</td>\n",
       "      <td>0.893298</td>\n",
       "      <td>0.893016</td>\n",
       "      <td>0.875279</td>\n",
       "      <td>0.869733</td>\n",
       "      <td>0.860508</td>\n",
       "      <td>0.853216</td>\n",
       "      <td>0.860139</td>\n",
       "      <td>0.847575</td>\n",
       "      <td>0.837866</td>\n",
       "      <td>0.832050</td>\n",
       "      <td>0.799947</td>\n",
       "    </tr>\n",
       "    <tr>\n",
       "      <th>al_scale(W22)</th>\n",
       "      <td>0.893298</td>\n",
       "      <td>1.000000</td>\n",
       "      <td>0.886958</td>\n",
       "      <td>0.869101</td>\n",
       "      <td>0.861534</td>\n",
       "      <td>0.851230</td>\n",
       "      <td>0.843764</td>\n",
       "      <td>0.854621</td>\n",
       "      <td>0.841551</td>\n",
       "      <td>0.833964</td>\n",
       "      <td>0.823239</td>\n",
       "      <td>0.795125</td>\n",
       "    </tr>\n",
       "    <tr>\n",
       "      <th>al_scale(W21)</th>\n",
       "      <td>0.893016</td>\n",
       "      <td>0.886958</td>\n",
       "      <td>1.000000</td>\n",
       "      <td>0.885726</td>\n",
       "      <td>0.876656</td>\n",
       "      <td>0.864324</td>\n",
       "      <td>0.853544</td>\n",
       "      <td>0.869139</td>\n",
       "      <td>0.852287</td>\n",
       "      <td>0.842825</td>\n",
       "      <td>0.836005</td>\n",
       "      <td>0.809563</td>\n",
       "    </tr>\n",
       "    <tr>\n",
       "      <th>al_scale(W20)</th>\n",
       "      <td>0.875279</td>\n",
       "      <td>0.869101</td>\n",
       "      <td>0.885726</td>\n",
       "      <td>1.000000</td>\n",
       "      <td>0.878754</td>\n",
       "      <td>0.870729</td>\n",
       "      <td>0.855615</td>\n",
       "      <td>0.864849</td>\n",
       "      <td>0.856425</td>\n",
       "      <td>0.843998</td>\n",
       "      <td>0.836977</td>\n",
       "      <td>0.806637</td>\n",
       "    </tr>\n",
       "    <tr>\n",
       "      <th>al_scale(W17)</th>\n",
       "      <td>0.869733</td>\n",
       "      <td>0.861534</td>\n",
       "      <td>0.876656</td>\n",
       "      <td>0.878754</td>\n",
       "      <td>1.000000</td>\n",
       "      <td>0.880484</td>\n",
       "      <td>0.864870</td>\n",
       "      <td>0.872719</td>\n",
       "      <td>0.859989</td>\n",
       "      <td>0.849736</td>\n",
       "      <td>0.839908</td>\n",
       "      <td>0.821543</td>\n",
       "    </tr>\n",
       "    <tr>\n",
       "      <th>al_scale(W16)</th>\n",
       "      <td>0.860508</td>\n",
       "      <td>0.851230</td>\n",
       "      <td>0.864324</td>\n",
       "      <td>0.870729</td>\n",
       "      <td>0.880484</td>\n",
       "      <td>1.000000</td>\n",
       "      <td>0.866649</td>\n",
       "      <td>0.870441</td>\n",
       "      <td>0.861448</td>\n",
       "      <td>0.850781</td>\n",
       "      <td>0.840273</td>\n",
       "      <td>0.814475</td>\n",
       "    </tr>\n",
       "    <tr>\n",
       "      <th>al_scale(W14)</th>\n",
       "      <td>0.853216</td>\n",
       "      <td>0.843764</td>\n",
       "      <td>0.853544</td>\n",
       "      <td>0.855615</td>\n",
       "      <td>0.864870</td>\n",
       "      <td>0.866649</td>\n",
       "      <td>1.000000</td>\n",
       "      <td>0.871824</td>\n",
       "      <td>0.866850</td>\n",
       "      <td>0.851769</td>\n",
       "      <td>0.845515</td>\n",
       "      <td>0.820528</td>\n",
       "    </tr>\n",
       "    <tr>\n",
       "      <th>al_scale(W13)</th>\n",
       "      <td>0.860139</td>\n",
       "      <td>0.854621</td>\n",
       "      <td>0.869139</td>\n",
       "      <td>0.864849</td>\n",
       "      <td>0.872719</td>\n",
       "      <td>0.870441</td>\n",
       "      <td>0.871824</td>\n",
       "      <td>1.000000</td>\n",
       "      <td>0.880106</td>\n",
       "      <td>0.873091</td>\n",
       "      <td>0.863761</td>\n",
       "      <td>0.839827</td>\n",
       "    </tr>\n",
       "    <tr>\n",
       "      <th>al_scale(W10)</th>\n",
       "      <td>0.847575</td>\n",
       "      <td>0.841551</td>\n",
       "      <td>0.852287</td>\n",
       "      <td>0.856425</td>\n",
       "      <td>0.859989</td>\n",
       "      <td>0.861448</td>\n",
       "      <td>0.866850</td>\n",
       "      <td>0.880106</td>\n",
       "      <td>1.000000</td>\n",
       "      <td>0.874008</td>\n",
       "      <td>0.859267</td>\n",
       "      <td>0.842863</td>\n",
       "    </tr>\n",
       "    <tr>\n",
       "      <th>al_scale(W789)</th>\n",
       "      <td>0.837866</td>\n",
       "      <td>0.833964</td>\n",
       "      <td>0.842825</td>\n",
       "      <td>0.843998</td>\n",
       "      <td>0.849736</td>\n",
       "      <td>0.850781</td>\n",
       "      <td>0.851769</td>\n",
       "      <td>0.873091</td>\n",
       "      <td>0.874008</td>\n",
       "      <td>1.000000</td>\n",
       "      <td>0.873018</td>\n",
       "      <td>0.849762</td>\n",
       "    </tr>\n",
       "    <tr>\n",
       "      <th>al_scale(W6)</th>\n",
       "      <td>0.832050</td>\n",
       "      <td>0.823239</td>\n",
       "      <td>0.836005</td>\n",
       "      <td>0.836977</td>\n",
       "      <td>0.839908</td>\n",
       "      <td>0.840273</td>\n",
       "      <td>0.845515</td>\n",
       "      <td>0.863761</td>\n",
       "      <td>0.859267</td>\n",
       "      <td>0.873018</td>\n",
       "      <td>1.000000</td>\n",
       "      <td>0.859022</td>\n",
       "    </tr>\n",
       "    <tr>\n",
       "      <th>al_scale(W12345)</th>\n",
       "      <td>0.799947</td>\n",
       "      <td>0.795125</td>\n",
       "      <td>0.809563</td>\n",
       "      <td>0.806637</td>\n",
       "      <td>0.821543</td>\n",
       "      <td>0.814475</td>\n",
       "      <td>0.820528</td>\n",
       "      <td>0.839827</td>\n",
       "      <td>0.842863</td>\n",
       "      <td>0.849762</td>\n",
       "      <td>0.859022</td>\n",
       "      <td>1.000000</td>\n",
       "    </tr>\n",
       "  </tbody>\n",
       "</table>\n",
       "</div>"
      ],
      "text/plain": [
       "                  al_scale(W23)  al_scale(W22)  al_scale(W21)  al_scale(W20)  \\\n",
       "al_scale(W23)          1.000000       0.893298       0.893016       0.875279   \n",
       "al_scale(W22)          0.893298       1.000000       0.886958       0.869101   \n",
       "al_scale(W21)          0.893016       0.886958       1.000000       0.885726   \n",
       "al_scale(W20)          0.875279       0.869101       0.885726       1.000000   \n",
       "al_scale(W17)          0.869733       0.861534       0.876656       0.878754   \n",
       "al_scale(W16)          0.860508       0.851230       0.864324       0.870729   \n",
       "al_scale(W14)          0.853216       0.843764       0.853544       0.855615   \n",
       "al_scale(W13)          0.860139       0.854621       0.869139       0.864849   \n",
       "al_scale(W10)          0.847575       0.841551       0.852287       0.856425   \n",
       "al_scale(W789)         0.837866       0.833964       0.842825       0.843998   \n",
       "al_scale(W6)           0.832050       0.823239       0.836005       0.836977   \n",
       "al_scale(W12345)       0.799947       0.795125       0.809563       0.806637   \n",
       "\n",
       "                  al_scale(W17)  al_scale(W16)  al_scale(W14)  al_scale(W13)  \\\n",
       "al_scale(W23)          0.869733       0.860508       0.853216       0.860139   \n",
       "al_scale(W22)          0.861534       0.851230       0.843764       0.854621   \n",
       "al_scale(W21)          0.876656       0.864324       0.853544       0.869139   \n",
       "al_scale(W20)          0.878754       0.870729       0.855615       0.864849   \n",
       "al_scale(W17)          1.000000       0.880484       0.864870       0.872719   \n",
       "al_scale(W16)          0.880484       1.000000       0.866649       0.870441   \n",
       "al_scale(W14)          0.864870       0.866649       1.000000       0.871824   \n",
       "al_scale(W13)          0.872719       0.870441       0.871824       1.000000   \n",
       "al_scale(W10)          0.859989       0.861448       0.866850       0.880106   \n",
       "al_scale(W789)         0.849736       0.850781       0.851769       0.873091   \n",
       "al_scale(W6)           0.839908       0.840273       0.845515       0.863761   \n",
       "al_scale(W12345)       0.821543       0.814475       0.820528       0.839827   \n",
       "\n",
       "                  al_scale(W10)  al_scale(W789)  al_scale(W6)  \\\n",
       "al_scale(W23)          0.847575        0.837866      0.832050   \n",
       "al_scale(W22)          0.841551        0.833964      0.823239   \n",
       "al_scale(W21)          0.852287        0.842825      0.836005   \n",
       "al_scale(W20)          0.856425        0.843998      0.836977   \n",
       "al_scale(W17)          0.859989        0.849736      0.839908   \n",
       "al_scale(W16)          0.861448        0.850781      0.840273   \n",
       "al_scale(W14)          0.866850        0.851769      0.845515   \n",
       "al_scale(W13)          0.880106        0.873091      0.863761   \n",
       "al_scale(W10)          1.000000        0.874008      0.859267   \n",
       "al_scale(W789)         0.874008        1.000000      0.873018   \n",
       "al_scale(W6)           0.859267        0.873018      1.000000   \n",
       "al_scale(W12345)       0.842863        0.849762      0.859022   \n",
       "\n",
       "                  al_scale(W12345)  \n",
       "al_scale(W23)             0.799947  \n",
       "al_scale(W22)             0.795125  \n",
       "al_scale(W21)             0.809563  \n",
       "al_scale(W20)             0.806637  \n",
       "al_scale(W17)             0.821543  \n",
       "al_scale(W16)             0.814475  \n",
       "al_scale(W14)             0.820528  \n",
       "al_scale(W13)             0.839827  \n",
       "al_scale(W10)             0.842863  \n",
       "al_scale(W789)            0.849762  \n",
       "al_scale(W6)              0.859022  \n",
       "al_scale(W12345)          1.000000  "
      ]
     },
     "execution_count": 183,
     "metadata": {},
     "output_type": "execute_result"
    }
   ],
   "source": [
    "BES_Panel_full_num[search(BES_Panel_full_num,\"al_scale\").index].corr()"
   ]
  },
  {
   "cell_type": "code",
   "execution_count": null,
   "id": "c66829f1",
   "metadata": {},
   "outputs": [],
   "source": [
    "### okay, significant difference in al/lr correlation between waves\n",
    "\n",
    "## I think I'd like to know how that breaks down by mean/std for al/lr tranches"
   ]
  },
  {
   "cell_type": "code",
   "execution_count": null,
   "id": "3bda12aa",
   "metadata": {},
   "outputs": [],
   "source": []
  },
  {
   "cell_type": "code",
   "execution_count": 194,
   "id": "c39c4dfb",
   "metadata": {},
   "outputs": [],
   "source": [
    "al_scale_decs = pd.qcut(BES_Panel_full_num[search(BES_Panel_full_num,\"al_scale\").index].mean(axis=1),q=10)\n",
    "lr_scale_decs = pd.qcut(BES_Panel_full_num[search(BES_Panel_full_num,\"lr_scale\").index].mean(axis=1),q=10)\n",
    "\n",
    "#.value_counts(dropna=False)"
   ]
  },
  {
   "cell_type": "code",
   "execution_count": 210,
   "id": "4633782b",
   "metadata": {},
   "outputs": [
    {
     "data": {
      "text/plain": [
       "<matplotlib.axes._subplots.AxesSubplot at 0x1db9ece5748>"
      ]
     },
     "execution_count": 210,
     "metadata": {},
     "output_type": "execute_result"
    },
    {
     "data": {
      "image/png": "[encoded data removed]",
      "text/plain": [
       "<Figure size 640x480 with 1 Axes>"
      ]
     },
     "metadata": {},
     "output_type": "display_data"
    }
   ],
   "source": [
    "# standard deviation over each individual, grouped by al_scale_decile, mean per group\n",
    "BES_Panel_full_num[search(BES_Panel_full_num,\"al_scale\").index].std(axis=1).groupby(al_scale_decs).mean().plot()"
   ]
  },
  {
   "cell_type": "code",
   "execution_count": 209,
   "id": "7cf2ee87",
   "metadata": {},
   "outputs": [
    {
     "data": {
      "text/plain": [
       "<matplotlib.axes._subplots.AxesSubplot at 0x1db9ecf8e08>"
      ]
     },
     "execution_count": 209,
     "metadata": {},
     "output_type": "execute_result"
    },
    {
     "data": {
      "image/png": "[encoded data removed]",
      "text/plain": [
       "<Figure size 640x480 with 1 Axes>"
      ]
     },
     "metadata": {},
     "output_type": "display_data"
    }
   ],
   "source": [
    "BES_Panel_full_num[search(BES_Panel_full_num,\"lr_scale\").index].std(axis=1).groupby(al_scale_decs).mean().plot()"
   ]
  },
  {
   "cell_type": "code",
   "execution_count": 208,
   "id": "b1d9e1a5",
   "metadata": {},
   "outputs": [
    {
     "data": {
      "text/plain": [
       "<matplotlib.axes._subplots.AxesSubplot at 0x1db9ed18908>"
      ]
     },
     "execution_count": 208,
     "metadata": {},
     "output_type": "execute_result"
    },
    {
     "data": {
      "image/png": "[encoded data removed]",
      "text/plain": [
       "<Figure size 640x480 with 1 Axes>"
      ]
     },
     "metadata": {},
     "output_type": "display_data"
    }
   ],
   "source": [
    "BES_Panel_full_num[search(BES_Panel_full_num,\"al_scale\").index].std(axis=1).groupby(lr_scale_decs).mean().plot()"
   ]
  },
  {
   "cell_type": "code",
   "execution_count": 207,
   "id": "24cfa6c2",
   "metadata": {},
   "outputs": [
    {
     "data": {
      "text/plain": [
       "<matplotlib.axes._subplots.AxesSubplot at 0x1dbaf962248>"
      ]
     },
     "execution_count": 207,
     "metadata": {},
     "output_type": "execute_result"
    },
    {
     "data": {
      "image/png": "[encoded data removed]",
      "text/plain": [
       "<Figure size 640x480 with 1 Axes>"
      ]
     },
     "metadata": {},
     "output_type": "display_data"
    }
   ],
   "source": [
    "BES_Panel_full_num[search(BES_Panel_full_num,\"lr_scale\").index].std(axis=1).groupby(lr_scale_decs).mean().plot()"
   ]
  },
  {
   "cell_type": "code",
   "execution_count": null,
   "id": "7bcf638c",
   "metadata": {},
   "outputs": [],
   "source": [
    "## look at the means"
   ]
  },
  {
   "cell_type": "code",
   "execution_count": 213,
   "id": "71da1cdb",
   "metadata": {},
   "outputs": [
    {
     "data": {
      "text/plain": [
       "(-0.001, 6.0]   -0.758730\n",
       "(6.0, 8.0]      -0.457600\n",
       "(8.0, 10.0]     -0.377468\n",
       "(10.0, 11.5]    -0.234375\n",
       "(11.5, 13.0]     0.240196\n",
       "(13.0, 14.0]     0.192152\n",
       "(14.0, 15.0]     0.250000\n",
       "(15.0, 16.0]     0.329975\n",
       "(16.0, 17.5]     0.367232\n",
       "(17.5, 20.0]     0.454906\n",
       "dtype: float64"
      ]
     },
     "execution_count": 213,
     "metadata": {},
     "output_type": "execute_result"
    }
   ],
   "source": [
    "(BES_Panel_full_num[\"lr_scale(W23)\"]-BES_Panel_full_num[\"lr_scale(W12345)\"]).groupby(al_scale_decs).mean()"
   ]
  },
  {
   "cell_type": "code",
   "execution_count": 214,
   "id": "be85bb58",
   "metadata": {},
   "outputs": [
    {
     "data": {
      "text/plain": [
       "(-0.001, 1.222]   -0.091371\n",
       "(1.222, 2.8]      -0.039423\n",
       "(2.8, 4.0]         0.035642\n",
       "(4.0, 5.0]         0.010193\n",
       "(5.0, 6.0]        -0.140592\n",
       "(6.0, 6.857]       0.105644\n",
       "(6.857, 8.0]      -0.043529\n",
       "(8.0, 9.222]       0.064205\n",
       "(9.222, 11.143]    0.164083\n",
       "(11.143, 20.0]     0.541763\n",
       "dtype: float64"
      ]
     },
     "execution_count": 214,
     "metadata": {},
     "output_type": "execute_result"
    }
   ],
   "source": [
    "(BES_Panel_full_num[\"lr_scale(W23)\"]-BES_Panel_full_num[\"lr_scale(W12345)\"]).groupby(lr_scale_decs).mean()"
   ]
  },
  {
   "cell_type": "code",
   "execution_count": 215,
   "id": "28d17bf8",
   "metadata": {},
   "outputs": [
    {
     "data": {
      "text/plain": [
       "(-0.001, 1.222]   -1.526773\n",
       "(1.222, 2.8]      -1.198930\n",
       "(2.8, 4.0]        -0.983589\n",
       "(4.0, 5.0]        -1.127404\n",
       "(5.0, 6.0]        -0.923414\n",
       "(6.0, 6.857]      -0.974852\n",
       "(6.857, 8.0]      -0.869565\n",
       "(8.0, 9.222]      -0.623987\n",
       "(9.222, 11.143]   -0.721717\n",
       "(11.143, 20.0]    -0.913253\n",
       "dtype: float64"
      ]
     },
     "execution_count": 215,
     "metadata": {},
     "output_type": "execute_result"
    }
   ],
   "source": [
    "(BES_Panel_full_num[\"al_scale(W23)\"]-BES_Panel_full_num[\"al_scale(W12345)\"]).groupby(lr_scale_decs).mean()"
   ]
  },
  {
   "cell_type": "code",
   "execution_count": 217,
   "id": "2de64d7e",
   "metadata": {},
   "outputs": [
    {
     "data": {
      "text/plain": [
       "(-0.001, 6.0]   -1.583480\n",
       "(6.0, 8.0]      -1.838182\n",
       "(8.0, 10.0]     -1.845222\n",
       "(10.0, 11.5]    -1.712389\n",
       "(11.5, 13.0]    -1.400000\n",
       "(13.0, 14.0]    -0.831131\n",
       "(14.0, 15.0]    -0.865491\n",
       "(15.0, 16.0]    -0.482077\n",
       "(16.0, 17.5]    -0.344322\n",
       "(17.5, 20.0]    -0.078799\n",
       "dtype: float64"
      ]
     },
     "execution_count": 217,
     "metadata": {},
     "output_type": "execute_result"
    }
   ],
   "source": [
    "(BES_Panel_full_num[\"al_scale(W23)\"]-BES_Panel_full_num[\"al_scale(W12345)\"]).groupby(al_scale_decs).mean()"
   ]
  },
  {
   "cell_type": "code",
   "execution_count": null,
   "id": "26f01a93",
   "metadata": {},
   "outputs": [],
   "source": [
    "# everyone is liberalising, max left fastest\n",
    "# but economic ideology has been realigning with lib-auth values\n",
    "# accelerating profile for liberalisation\n",
    "# on economics, only right-wingers consistently move right"
   ]
  },
  {
   "cell_type": "code",
   "execution_count": null,
   "id": "df6c92a9",
   "metadata": {},
   "outputs": [],
   "source": []
  },
  {
   "cell_type": "code",
   "execution_count": null,
   "id": "166eb236",
   "metadata": {},
   "outputs": [],
   "source": []
  }
 ],
 "metadata": {
  "kernelspec": {
   "display_name": "Python 3",
   "language": "python",
   "name": "python3"
  },
  "language_info": {
   "codemirror_mode": {
    "name": "ipython",
    "version": 3
   },
   "file_extension": ".py",
   "mimetype": "text/x-python",
   "name": "python",
   "nbconvert_exporter": "python",
   "pygments_lexer": "ipython3",
   "version": "3.7.12"
  }
 },
 "nbformat": 4,
 "nbformat_minor": 5
}
