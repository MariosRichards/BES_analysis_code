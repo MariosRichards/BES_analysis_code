{
 "cells": [
  {
   "cell_type": "code",
   "execution_count": 1,
   "metadata": {},
   "outputs": [],
   "source": [
    "import numpy as np\n",
    "import pandas as pd\n",
    "%matplotlib inline\n",
    "import matplotlib.pyplot as plt\n",
    "import gc\n",
    "import re\n",
    "\n",
    "from itertools import cycle\n",
    "from IPython.display import display\n",
    "import pickle, os\n",
    "\n",
    "import seaborn as sns\n",
    "\n",
    "encoding = \"ISO-8859-1\"\n",
    "\n",
    "import Jupyter_module_loader"
   ]
  },
  {
   "cell_type": "code",
   "execution_count": 2,
   "metadata": {},
   "outputs": [],
   "source": [
    "# # you should clone this git to this subdirectory (in some directory - I call it BES_analysis - doesn't matter though)\n",
    "\n",
    "# if os.getcwd().split(os.sep)[-1] != 'BES_analysis_code':\n",
    "#     raise Exception(\"Stop! You're in the wrong directory - should be in 'BES_analysis_code'\")\n",
    "\n",
    "# BES_code_folder   = \"../BES_analysis_code/\" # we should be here!\n",
    "# BES_small_data_files = BES_code_folder + \"small data files\" + os.sep\n",
    "# if not os.path.exists( BES_small_data_files ):\n",
    "#     os.makedirs( BES_small_data_files )\n",
    "\n",
    "# # we should create these if they don't already exist\n",
    "# BES_data_folder   = \"../BES_analysis_data/\"\n",
    "# if not os.path.exists( BES_data_folder ):\n",
    "#     os.makedirs( BES_data_folder )\n",
    "\n",
    "# BES_output_folder = \"../BES_analysis_output/\"\n",
    "# if not os.path.exists( BES_output_folder ):\n",
    "#     os.makedirs( BES_output_folder )\n",
    "    \n",
    "# BES_file_manifest = pd.read_csv( BES_small_data_files + \"BES_file_manifest.csv\" )\n",
    "\n",
    "# BES_R_data_files = BES_data_folder + \"R_data\" + os.sep\n",
    "# if not os.path.exists( BES_R_data_files ):\n",
    "#     os.makedirs( BES_R_data_files )\n"
   ]
  },
  {
   "cell_type": "code",
   "execution_count": 3,
   "metadata": {},
   "outputs": [],
   "source": [
    "from sklearn import datasets\n",
    "from sklearn.decomposition import PCA, IncrementalPCA, NMF, TruncatedSVD, FastICA, FactorAnalysis, SparsePCA\n",
    "from sklearn.preprocessing import StandardScaler\n",
    "from sklearn.discriminant_analysis import LinearDiscriminantAnalysis\n",
    "\n",
    "from gaussian_kde import gaussian_kde\n",
    "from utility import display_components, display_pca_data, weighted_kde"
   ]
  },
  {
   "cell_type": "code",
   "execution_count": 4,
   "metadata": {},
   "outputs": [],
   "source": [
    "# dataset_name = \"W13_comb\""
   ]
  },
  {
   "cell_type": "code",
   "execution_count": 5,
   "metadata": {},
   "outputs": [],
   "source": [
    "# %%time\n",
    "\n",
    "# manifest = BES_file_manifest[ BES_file_manifest[\"Name\"] == dataset_name ]\n",
    "\n",
    "# data_subfolder = BES_data_folder + dataset_name + os.sep\n",
    "\n",
    "# dataset_filename = manifest[\"Stata_Filename\"].values[0]\n",
    "# # dataset_description = manifest[\"Friendlier_Description\"].values[0]\n",
    "# # dataset_citation = manifest[\"Citation\"].values[0]\n",
    "# # dataset_start = manifest[\"Date_Start\"].values[0]\n",
    "# # dataset_stop = manifest[\"Date_Stop\"].values[0]\n",
    "# # dataset_wave = manifest[\"Wave No\"].values[0]\n",
    "\n",
    "# BES_Panel = pd.read_stata( data_subfolder + dataset_filename )\n",
    "# print(\"BES_Panel\", BES_Panel.shape )\n",
    "\n",
    "# ####\n",
    "\n",
    "# BES_numeric = pd.read_hdf( data_subfolder + \"BESnumeric.hdf\", \"BESnumeric\" )\n",
    "# print(\"BES_numeric\",  BES_numeric.shape )\n",
    "\n",
    "# var_type    = pd.read_csv( data_subfolder + \"var_type.csv\", encoding=encoding)\n",
    "# var_type.set_index(\"Unnamed: 0\", inplace=True)\n",
    "# print(\"var_type\",  var_type.shape )\n",
    "\n",
    "# fname = data_subfolder + \"cat_dictionary.pkl\"\n",
    "# with open(fname, \"rb\") as f:\n",
    "#     cat_dictionary = pickle.load( f )\n",
    "    \n",
    "# ####\n",
    "\n",
    "# BES_non_numeric = pd.read_hdf( data_subfolder + \"BESnon_numeric.hdf\", \"BESnon_numeric\" )\n",
    "# print(\"BES_non_numeric\",  BES_non_numeric.shape )\n",
    "\n",
    "# BES_reduced = pd.read_hdf( data_subfolder + \"BES_reduced.hdf\", \"BES_reduced\" )\n",
    "# print(\"BES_reduced\",  BES_reduced.shape )\n",
    "\n",
    "# BES_reduced_with_na = pd.read_hdf( data_subfolder + \"BES_reduced_with_na.hdf\", \"BES_reduced_with_na\")\n",
    "# print(\"BES_reduced_with_na\", BES_reduced_with_na.shape )\n",
    "\n",
    "# fname = data_subfolder + \"new_old_col_names.pkl\"\n",
    "# with open(fname, \"rb\") as f:\n",
    "#     new_old_col_names = pickle.load(f) "
   ]
  },
  {
   "cell_type": "code",
   "execution_count": 6,
   "metadata": {},
   "outputs": [],
   "source": [
    "%matplotlib inline\n",
    "import numpy as np, pandas as pd, matplotlib.pyplot as plt, seaborn as sns\n",
    "import pickle, os, gc, re\n",
    "sns.set();\n",
    "sns.set_palette(\"colorblind\")\n",
    "from IPython.display import display, display_html, HTML\n",
    "plt.rcParams[\"axes.grid\"] = False\n",
    "\n",
    "import Jupyter_module_loader\n",
    "from utility import *\n",
    "import gaussian_kde\n"
   ]
  },
  {
   "cell_type": "code",
   "execution_count": 7,
   "metadata": {},
   "outputs": [],
   "source": [
    "dataset_name = \"W13_comb\"\n",
    "df_list = [\n",
    "           \"BES_Panel\",\n",
    "           \"BES_reduced_with_na\",\n",
    "           \"BESnumeric\",\n",
    "           \"BES_reduced\",\n",
    "#            \"BESnumeric\"\n",
    "          ]"
   ]
  },
  {
   "cell_type": "code",
   "execution_count": 8,
   "metadata": {},
   "outputs": [],
   "source": [
    "# # you should clone this git to a subdirectory called 'BES_analysis_code' (in some directory - I call it BES_analysis - doesn't matter though)\n",
    "# # %matplotlib inline\n",
    "# encoding = \"ISO-8859-1\"\n",
    "\n",
    "# (BES_code_folder, BES_small_data_files, BES_data_folder,\n",
    "#  BES_output_folder, BES_file_manifest, BES_R_data_files) = setup_directories()\n",
    "\n"
   ]
  },
  {
   "cell_type": "code",
   "execution_count": 9,
   "metadata": {},
   "outputs": [
    {
     "ename": "AttributeError",
     "evalue": "module 'pandas' has no attribute 'read_msgpack'",
     "output_type": "error",
     "traceback": [
      "\u001b[1;31m---------------------------------------------------------------------------\u001b[0m",
      "\u001b[1;31mAttributeError\u001b[0m                            Traceback (most recent call last)",
      "\u001b[1;32m~\\AppData\\Local\\Temp\\ipykernel_7984\\3609396068.py\u001b[0m in \u001b[0;36m<module>\u001b[1;34m\u001b[0m\n\u001b[0;32m      7\u001b[0m \u001b[1;32mfor\u001b[0m \u001b[0mdf\u001b[0m \u001b[1;32min\u001b[0m \u001b[0mdf_list\u001b[0m\u001b[1;33m:\u001b[0m\u001b[1;33m\u001b[0m\u001b[1;33m\u001b[0m\u001b[0m\n\u001b[0;32m      8\u001b[0m     \u001b[1;32mif\u001b[0m \u001b[0mdf\u001b[0m\u001b[1;33m==\u001b[0m\u001b[1;34m\"BES_Panel\"\u001b[0m\u001b[1;33m:\u001b[0m\u001b[1;33m\u001b[0m\u001b[1;33m\u001b[0m\u001b[0m\n\u001b[1;32m----> 9\u001b[1;33m         \u001b[0mglobals\u001b[0m\u001b[1;33m(\u001b[0m\u001b[1;33m)\u001b[0m\u001b[1;33m[\u001b[0m\u001b[0mdf\u001b[0m\u001b[1;33m]\u001b[0m  \u001b[1;33m=\u001b[0m \u001b[0mpd\u001b[0m\u001b[1;33m.\u001b[0m\u001b[0mread_msgpack\u001b[0m\u001b[1;33m(\u001b[0m\u001b[0mdata_subfolder\u001b[0m \u001b[1;33m+\u001b[0m \u001b[0mdataset_filename\u001b[0m\u001b[1;33m.\u001b[0m\u001b[0mreplace\u001b[0m\u001b[1;33m(\u001b[0m\u001b[1;34m'.dta'\u001b[0m\u001b[1;33m,\u001b[0m\u001b[1;34m'.msgpack'\u001b[0m\u001b[1;33m)\u001b[0m\u001b[1;33m)\u001b[0m\u001b[1;33m\u001b[0m\u001b[1;33m\u001b[0m\u001b[0m\n\u001b[0m\u001b[0;32m     10\u001b[0m     \u001b[1;32melse\u001b[0m\u001b[1;33m:\u001b[0m\u001b[1;33m\u001b[0m\u001b[1;33m\u001b[0m\u001b[0m\n\u001b[0;32m     11\u001b[0m         \u001b[0mglobals\u001b[0m\u001b[1;33m(\u001b[0m\u001b[1;33m)\u001b[0m\u001b[1;33m[\u001b[0m\u001b[0mdf\u001b[0m\u001b[1;33m]\u001b[0m  \u001b[1;33m=\u001b[0m \u001b[0mpd\u001b[0m\u001b[1;33m.\u001b[0m\u001b[0mread_msgpack\u001b[0m\u001b[1;33m(\u001b[0m\u001b[0mdata_subfolder\u001b[0m \u001b[1;33m+\u001b[0m \u001b[0mdf\u001b[0m \u001b[1;33m+\u001b[0m \u001b[1;34m'.msgpack'\u001b[0m \u001b[1;33m)\u001b[0m\u001b[1;33m\u001b[0m\u001b[1;33m\u001b[0m\u001b[0m\n",
      "\u001b[1;32mE:\\Users\\Gamer\\anaconda3\\envs\\test_tensorflow_install\\lib\\site-packages\\pandas\\__init__.py\u001b[0m in \u001b[0;36m__getattr__\u001b[1;34m(name)\u001b[0m\n\u001b[0;32m    242\u001b[0m         \u001b[1;32mreturn\u001b[0m \u001b[0m_SparseArray\u001b[0m\u001b[1;33m\u001b[0m\u001b[1;33m\u001b[0m\u001b[0m\n\u001b[0;32m    243\u001b[0m \u001b[1;33m\u001b[0m\u001b[0m\n\u001b[1;32m--> 244\u001b[1;33m     \u001b[1;32mraise\u001b[0m \u001b[0mAttributeError\u001b[0m\u001b[1;33m(\u001b[0m\u001b[1;34mf\"module 'pandas' has no attribute '{name}'\"\u001b[0m\u001b[1;33m)\u001b[0m\u001b[1;33m\u001b[0m\u001b[1;33m\u001b[0m\u001b[0m\n\u001b[0m\u001b[0;32m    245\u001b[0m \u001b[1;33m\u001b[0m\u001b[0m\n\u001b[0;32m    246\u001b[0m \u001b[1;33m\u001b[0m\u001b[0m\n",
      "\u001b[1;31mAttributeError\u001b[0m: module 'pandas' has no attribute 'read_msgpack'"
     ]
    }
   ],
   "source": [
    "# global BES_Panel, BES_numeric, BES_reduced, BES_reduced_with_na, BES_non_numeric\n",
    "# data_subfolder = BES_data_folder + dataset_name + os.sep\n",
    "\n",
    "# (manifest, dataset_filename, dataset_description, dataset_citation,\n",
    "#  dataset_start, dataset_stop, dataset_wave) = get_manifest(dataset_name, BES_file_manifest)\n",
    "\n",
    "# for df in df_list:\n",
    "#     if df==\"BES_Panel\":\n",
    "#         globals()[df]  = pd.read_msgpack(data_subfolder + dataset_filename.replace('.dta','.msgpack'))\n",
    "#     else:\n",
    "#         globals()[df]  = pd.read_msgpack(data_subfolder + df + '.msgpack' )\n",
    "#         globals()[df].replace(-1,np.nan,inplace=True)\n",
    "  \n",
    "# (var_type, cat_dictionary, new_old_col_names, old_new_col_names) = get_small_files(data_subfolder, encoding)"
   ]
  },
  {
   "cell_type": "code",
   "execution_count": 11,
   "metadata": {},
   "outputs": [
    {
     "data": {
      "text/html": [
       "<script>jQuery(function() {if (jQuery(\"body.notebook_app\").length == 0) { jQuery(\".input_area\").toggle(); jQuery(\".prompt\").toggle();}});</script>"
      ]
     },
     "metadata": {},
     "output_type": "display_data"
    },
    {
     "data": {
      "text/html": [
       "<button onclick=\"jQuery('.input_area').toggle(); jQuery('.prompt').toggle();\">Toggle code</button>"
      ]
     },
     "metadata": {},
     "output_type": "display_data"
    },
    {
     "name": "stdout",
     "output_type": "stream",
     "text": [
      "var_type (5150, 13)\n"
     ]
    }
   ],
   "source": [
    "# %%time\n",
    "dataset_name = \"W13_comb\"\n",
    "df_list = \"|\".join(df_list)\n",
    "\n",
    "%matplotlib inline \n",
    "%run BES_header.py {dataset_name} {df_list}\n",
    "\n",
    "global BES_label_list, BES_df_list"
   ]
  },
  {
   "cell_type": "code",
   "execution_count": 12,
   "metadata": {},
   "outputs": [],
   "source": [
    "## Support for different types of immigration by wave"
   ]
  },
  {
   "cell_type": "code",
   "execution_count": 13,
   "metadata": {},
   "outputs": [],
   "source": [
    "wave_dates = BES_file_manifest[ BES_file_manifest[\"Only_or_Combined\"] == \"Only\" ][[\"Wave No\",\"Date_Start\"]]\n",
    "wave_dates[\"Wave No\"] = wave_dates[\"Wave No\"].apply(lambda x: \"W\"+str(x))\n",
    "wave_dates = wave_dates.set_index(\"Wave No\")\n",
    "# Corbyn_over_time_sns[\"likeCorbyn\"] = Corbyn_over_time_sns[\"likeCorbyn\"].apply(lambda x: wave_dates.loc[x].values[0])"
   ]
  },
  {
   "cell_type": "code",
   "execution_count": 14,
   "metadata": {},
   "outputs": [],
   "source": [
    "stacked = BES_reduced_with_na[[x for x in BES_reduced.columns if re.search(\"[^_]More\", x)]].stack()\n",
    "stacked = stacked.reset_index().drop(\"level_0\",axis=1)\n",
    "stacked[\"wave\"] = [re.search(\"More(W\\d+)__\"   ,x).groups(0)[0] for x in stacked[\"level_1\"]]\n",
    "stacked[\"type\"] = [re.search(\"([a-zA-Z]+)More\"   ,x).groups(0)[0] for x in stacked[\"level_1\"]]\n",
    "stacked = stacked.drop(\"level_1\",axis=1)\n",
    "stacked.columns = ['preference', 'wave', 'type']\n",
    "\n",
    "stacked[\"wave\"] = stacked[\"wave\"].apply(lambda x: wave_dates.loc[x].values[0])"
   ]
  },
  {
   "cell_type": "code",
   "execution_count": 15,
   "metadata": {},
   "outputs": [
    {
     "data": {
      "image/png": "[encoded data removed]",
      "text/plain": [
       "<Figure size 1000x600 with 1 Axes>"
      ]
     },
     "metadata": {},
     "output_type": "display_data"
    }
   ],
   "source": [
    "plt.figure(figsize=(10,6))\n",
    "sns.pointplot(data=stacked, x= 'wave', y='preference', hue='type');\n",
    "plt.title(\"Do you think that Britain should allow more or fewer of the following kinds of people to come and live in Britain?\"\\\n",
    "         +\"\\n0 = Many fewer, 10 = Many more\")\n",
    "plt.xlabel(\"waves\");\n",
    "plt.savefig(BES_output_folder + \"W13_comb_imm_corr\" + os.sep + \"immigMoreLessPrefByType\" + \".png\");"
   ]
  },
  {
   "cell_type": "code",
   "execution_count": 16,
   "metadata": {},
   "outputs": [],
   "source": [
    "###########################################"
   ]
  },
  {
   "cell_type": "code",
   "execution_count": 17,
   "metadata": {},
   "outputs": [],
   "source": [
    "BES_genImmSentiment = pd.read_csv(BES_small_data_files + \"pan_dataset_values\"+\".csv\")"
   ]
  },
  {
   "cell_type": "code",
   "execution_count": 18,
   "metadata": {},
   "outputs": [],
   "source": [
    "genImmigSentiment = BES_genImmSentiment[\"genImmigSentiment\"]"
   ]
  },
  {
   "cell_type": "code",
   "execution_count": 19,
   "metadata": {},
   "outputs": [
    {
     "ename": "IndexingError",
     "evalue": "Unalignable boolean Series provided as indexer (index of the boolean Series and of the indexed object do not match).",
     "output_type": "error",
     "traceback": [
      "\u001b[1;31m---------------------------------------------------------------------------\u001b[0m",
      "\u001b[1;31mIndexingError\u001b[0m                             Traceback (most recent call last)",
      "\u001b[1;32m~\\AppData\\Local\\Temp\\ipykernel_7984\\4087622650.py\u001b[0m in \u001b[0;36m<module>\u001b[1;34m\u001b[0m\n\u001b[0;32m      8\u001b[0m \u001b[0mChangedMind\u001b[0m \u001b[1;33m=\u001b[0m \u001b[0mBES_Panel\u001b[0m\u001b[1;33m[\u001b[0m\u001b[0mImmBadW8\u001b[0m\u001b[1;33m]\u001b[0m\u001b[1;33m[\u001b[0m\u001b[0msecond_im_var\u001b[0m\u001b[1;33m]\u001b[0m \u001b[1;33m!=\u001b[0m \u001b[0mimm_skeptic_option\u001b[0m\u001b[1;33m\u001b[0m\u001b[1;33m\u001b[0m\u001b[0m\n\u001b[0;32m      9\u001b[0m \u001b[0mChangedMind\u001b[0m\u001b[1;33m.\u001b[0m\u001b[0mvalue_counts\u001b[0m\u001b[1;33m(\u001b[0m\u001b[1;33m)\u001b[0m\u001b[1;33m\u001b[0m\u001b[1;33m\u001b[0m\u001b[0m\n\u001b[1;32m---> 10\u001b[1;33m \u001b[0mBES_imm\u001b[0m \u001b[1;33m=\u001b[0m \u001b[0mBES_reduced\u001b[0m\u001b[1;33m[\u001b[0m\u001b[0mImmBadW8\u001b[0m\u001b[1;33m]\u001b[0m\u001b[1;33m.\u001b[0m\u001b[0mcopy\u001b[0m\u001b[1;33m(\u001b[0m\u001b[1;33m)\u001b[0m\u001b[1;33m\u001b[0m\u001b[1;33m\u001b[0m\u001b[0m\n\u001b[0m\u001b[0;32m     11\u001b[0m \u001b[0mBES_imm\u001b[0m\u001b[1;33m[\u001b[0m\u001b[1;34m\"ChangedMind_on_immigEcon\"\u001b[0m\u001b[1;33m]\u001b[0m \u001b[1;33m=\u001b[0m \u001b[0mChangedMind\u001b[0m\u001b[1;33m.\u001b[0m\u001b[0mvalues\u001b[0m\u001b[1;33m.\u001b[0m\u001b[0mastype\u001b[0m\u001b[1;33m(\u001b[0m\u001b[1;34m'float'\u001b[0m\u001b[1;33m)\u001b[0m\u001b[1;33m\u001b[0m\u001b[1;33m\u001b[0m\u001b[0m\n\u001b[0;32m     12\u001b[0m \u001b[0mBES_imm\u001b[0m\u001b[1;33m[\u001b[0m\u001b[1;34m\"genImmigSentiment\"\u001b[0m\u001b[1;33m]\u001b[0m \u001b[1;33m=\u001b[0m \u001b[0mgenImmigSentiment\u001b[0m\u001b[1;33m[\u001b[0m\u001b[0mImmBadW8\u001b[0m\u001b[1;33m]\u001b[0m\u001b[1;33m.\u001b[0m\u001b[0mvalues\u001b[0m\u001b[1;33m\u001b[0m\u001b[1;33m\u001b[0m\u001b[0m\n",
      "\u001b[1;32mE:\\Users\\Gamer\\anaconda3\\envs\\test_tensorflow_install\\lib\\site-packages\\pandas\\core\\frame.py\u001b[0m in \u001b[0;36m__getitem__\u001b[1;34m(self, key)\u001b[0m\n\u001b[0;32m   3013\u001b[0m         \u001b[1;31m# Do we have a (boolean) 1d indexer?\u001b[0m\u001b[1;33m\u001b[0m\u001b[1;33m\u001b[0m\u001b[1;33m\u001b[0m\u001b[0m\n\u001b[0;32m   3014\u001b[0m         \u001b[1;32mif\u001b[0m \u001b[0mcom\u001b[0m\u001b[1;33m.\u001b[0m\u001b[0mis_bool_indexer\u001b[0m\u001b[1;33m(\u001b[0m\u001b[0mkey\u001b[0m\u001b[1;33m)\u001b[0m\u001b[1;33m:\u001b[0m\u001b[1;33m\u001b[0m\u001b[1;33m\u001b[0m\u001b[0m\n\u001b[1;32m-> 3015\u001b[1;33m             \u001b[1;32mreturn\u001b[0m \u001b[0mself\u001b[0m\u001b[1;33m.\u001b[0m\u001b[0m_getitem_bool_array\u001b[0m\u001b[1;33m(\u001b[0m\u001b[0mkey\u001b[0m\u001b[1;33m)\u001b[0m\u001b[1;33m\u001b[0m\u001b[1;33m\u001b[0m\u001b[0m\n\u001b[0m\u001b[0;32m   3016\u001b[0m \u001b[1;33m\u001b[0m\u001b[0m\n\u001b[0;32m   3017\u001b[0m         \u001b[1;31m# We are left with two options: a single key, and a collection of keys,\u001b[0m\u001b[1;33m\u001b[0m\u001b[1;33m\u001b[0m\u001b[1;33m\u001b[0m\u001b[0m\n",
      "\u001b[1;32mE:\\Users\\Gamer\\anaconda3\\envs\\test_tensorflow_install\\lib\\site-packages\\pandas\\core\\frame.py\u001b[0m in \u001b[0;36m_getitem_bool_array\u001b[1;34m(self, key)\u001b[0m\n\u001b[0;32m   3066\u001b[0m         \u001b[1;31m# check_bool_indexer will throw exception if Series key cannot\u001b[0m\u001b[1;33m\u001b[0m\u001b[1;33m\u001b[0m\u001b[1;33m\u001b[0m\u001b[0m\n\u001b[0;32m   3067\u001b[0m         \u001b[1;31m# be reindexed to match DataFrame rows\u001b[0m\u001b[1;33m\u001b[0m\u001b[1;33m\u001b[0m\u001b[1;33m\u001b[0m\u001b[0m\n\u001b[1;32m-> 3068\u001b[1;33m         \u001b[0mkey\u001b[0m \u001b[1;33m=\u001b[0m \u001b[0mcheck_bool_indexer\u001b[0m\u001b[1;33m(\u001b[0m\u001b[0mself\u001b[0m\u001b[1;33m.\u001b[0m\u001b[0mindex\u001b[0m\u001b[1;33m,\u001b[0m \u001b[0mkey\u001b[0m\u001b[1;33m)\u001b[0m\u001b[1;33m\u001b[0m\u001b[1;33m\u001b[0m\u001b[0m\n\u001b[0m\u001b[0;32m   3069\u001b[0m         \u001b[0mindexer\u001b[0m \u001b[1;33m=\u001b[0m \u001b[0mkey\u001b[0m\u001b[1;33m.\u001b[0m\u001b[0mnonzero\u001b[0m\u001b[1;33m(\u001b[0m\u001b[1;33m)\u001b[0m\u001b[1;33m[\u001b[0m\u001b[1;36m0\u001b[0m\u001b[1;33m]\u001b[0m\u001b[1;33m\u001b[0m\u001b[1;33m\u001b[0m\u001b[0m\n\u001b[0;32m   3070\u001b[0m         \u001b[1;32mreturn\u001b[0m \u001b[0mself\u001b[0m\u001b[1;33m.\u001b[0m\u001b[0m_take_with_is_copy\u001b[0m\u001b[1;33m(\u001b[0m\u001b[0mindexer\u001b[0m\u001b[1;33m,\u001b[0m \u001b[0maxis\u001b[0m\u001b[1;33m=\u001b[0m\u001b[1;36m0\u001b[0m\u001b[1;33m)\u001b[0m\u001b[1;33m\u001b[0m\u001b[1;33m\u001b[0m\u001b[0m\n",
      "\u001b[1;32mE:\\Users\\Gamer\\anaconda3\\envs\\test_tensorflow_install\\lib\\site-packages\\pandas\\core\\indexing.py\u001b[0m in \u001b[0;36mcheck_bool_indexer\u001b[1;34m(index, key)\u001b[0m\n\u001b[0;32m   2268\u001b[0m         \u001b[1;32mif\u001b[0m \u001b[0mmask\u001b[0m\u001b[1;33m.\u001b[0m\u001b[0many\u001b[0m\u001b[1;33m(\u001b[0m\u001b[1;33m)\u001b[0m\u001b[1;33m:\u001b[0m\u001b[1;33m\u001b[0m\u001b[1;33m\u001b[0m\u001b[0m\n\u001b[0;32m   2269\u001b[0m             raise IndexingError(\n\u001b[1;32m-> 2270\u001b[1;33m                 \u001b[1;34m\"Unalignable boolean Series provided as \"\u001b[0m\u001b[1;33m\u001b[0m\u001b[1;33m\u001b[0m\u001b[0m\n\u001b[0m\u001b[0;32m   2271\u001b[0m                 \u001b[1;34m\"indexer (index of the boolean Series and of \"\u001b[0m\u001b[1;33m\u001b[0m\u001b[1;33m\u001b[0m\u001b[0m\n\u001b[0;32m   2272\u001b[0m                 \u001b[1;34m\"the indexed object do not match).\"\u001b[0m\u001b[1;33m\u001b[0m\u001b[1;33m\u001b[0m\u001b[0m\n",
      "\u001b[1;31mIndexingError\u001b[0m: Unalignable boolean Series provided as indexer (index of the boolean Series and of the indexed object do not match)."
     ]
    }
   ],
   "source": [
    "first_im_var = \"immigEconW8\"\n",
    "second_im_var = \"immigEconW10\"\n",
    "\n",
    "imm_skeptic_option = BES_Panel[first_im_var].cat.categories[0]\n",
    "# imm_skeptic_option = BES_Panel[first_im_var].cat.categories[4] # for changeImmig, immigrantsWelfareState\n",
    "\n",
    "ImmBadW8 = (BES_Panel[first_im_var]==imm_skeptic_option) & (BES_Panel[second_im_var].notnull())\n",
    "ChangedMind = BES_Panel[ImmBadW8][second_im_var] != imm_skeptic_option\n",
    "ChangedMind.value_counts()\n",
    "BES_imm = BES_reduced[ImmBadW8].copy()\n",
    "BES_imm[\"ChangedMind_on_immigEcon\"] = ChangedMind.values.astype('float')\n",
    "BES_imm[\"genImmigSentiment\"] = genImmigSentiment[ImmBadW8].values\n",
    "imm_corr = BES_imm.corrwith(ChangedMind).sort_values().dropna()"
   ]
  },
  {
   "cell_type": "code",
   "execution_count": null,
   "metadata": {},
   "outputs": [],
   "source": []
  },
  {
   "cell_type": "code",
   "execution_count": null,
   "metadata": {},
   "outputs": [],
   "source": [
    "rows = 20\n",
    "reasonable_table = pd.DataFrame([imm_corr.head(rows).index,\n",
    "                                 imm_corr.head(rows).values,\n",
    "                                 reversed(imm_corr.tail(rows).index),\n",
    "                                 reversed(imm_corr.tail(rows).values)]).T\n",
    "reasonable_table.columns = [\"top30 negative\",\"correlation\",\"top30 positive\",\"correlation\"]\n",
    "\n",
    "print(first_im_var +\"_\"+imm_skeptic_option +\" -> not \" + second_im_var+\"_\"+imm_skeptic_option)\n",
    "display(reasonable_table)\n",
    "# from pandas.tools.plotting import table\n",
    "# # plt.figure(figsize=(10,10))\n",
    "# ax = plt.subplot(111, frame_on=False) # no visible frame\n",
    "# ax.xaxis.set_visible(False)  # hide the x axis\n",
    "# ax.yaxis.set_visible(False)  # hide the y axis\n",
    "\n",
    "# table(ax, reasonable_table)  # where df is your data frame\n",
    "# # plt.title(first_im_var + \" -> \" + second_im_var)\n",
    "# plt.savefig('mytable.png')"
   ]
  },
  {
   "cell_type": "code",
   "execution_count": null,
   "metadata": {},
   "outputs": [],
   "source": [
    "imm_corr.loc[[x for x in BES_reduced if re.match(\"controlImmigW\\d\",x)]]"
   ]
  },
  {
   "cell_type": "code",
   "execution_count": null,
   "metadata": {},
   "outputs": [],
   "source": [
    "imm_corr.loc[[x for x in BES_reduced if re.match(\"changeImmigW\\d\",x)]]"
   ]
  },
  {
   "cell_type": "code",
   "execution_count": null,
   "metadata": {},
   "outputs": [],
   "source": [
    "imm_corr.loc[[x for x in BES_reduced if \"euRef\" in x]].sort_index()"
   ]
  },
  {
   "cell_type": "code",
   "execution_count": null,
   "metadata": {},
   "outputs": [],
   "source": [
    "Treatment = \"AntiImmigrantThaw\"\n",
    "output_subfolder = BES_output_folder + Treatment + os.sep\n",
    "if not os.path.exists( output_subfolder ):\n",
    "    os.makedirs( output_subfolder )"
   ]
  },
  {
   "cell_type": "code",
   "execution_count": null,
   "metadata": {},
   "outputs": [],
   "source": [
    "%%time\n",
    "clean_feature_set_std = StandardScaler().fit_transform(BES_imm.values )\n",
    "BES_std = pd.DataFrame(      clean_feature_set_std,\n",
    "                             columns = BES_imm.columns,\n",
    "                             index   = BES_imm.index      )\n",
    "\n",
    "\n",
    "n_components = BES_std.shape[1]\n",
    "n_components = 4\n",
    "\n",
    "# decomp = LinearDiscriminantAnalysis() ## ~10s ,n_components=30 -> 1.5 hrs\n",
    "decomp = FactorAnalysis(svd_method = 'lapack',n_components = n_components) ## ~10s ,n_components=30 -> 1.5 hrs\n",
    "decomp_method = str(decomp).split(\"(\")[0] \n",
    "\n",
    "X_r = decomp.fit_transform(BES_std, ChangedMind)\n",
    "\n",
    "BES_decomp = pd.DataFrame(   X_r,\n",
    "                             columns = range(0,n_components),\n",
    "                             index   = BES_std.index)\n",
    "\n",
    "load_suff = \"Factor Analysis\"\n",
    "save = True # False => Load\n",
    "\n",
    "if save & ( 'decomp' in globals() ): # SAVE    ##( 'decomp' not in globals() )\n",
    "    decomp_method = str(decomp).split(\"(\")[0] \n",
    "    subdir = output_subfolder + decomp_method\n",
    "    fname = subdir+ os.sep + decomp_method\n",
    "    # create dir, save decomp object, BES_decomp, BES_std    \n",
    "    if not os.path.exists(subdir): os.makedirs(subdir)\n",
    "    with open(fname+\".pkl\", \"wb\") as f: pickle.dump( decomp, f )\n",
    "    BES_decomp.to_hdf(fname+\".hdf\"        , decomp_method)\n",
    "    BES_std.to_hdf(   fname+\"_std\"+\".hdf\" , decomp_method)\n",
    "    \n",
    "else: # LOAD decomp results (default is SAVE)\n",
    "    decomp_method = load_suff\n",
    "    subdir = output_subfolder + os.sep + decomp_method    \n",
    "    fname = subdir + os.sep + decomp_method\n",
    "    if not os.path.exists(subdir): raise Exception(subdir + ' does not exist!')\n",
    "    # load decomp object, BES_decomp, BES_std, n_components\n",
    "    with open(fname+\".pkl\", \"rb\") as f: decomp = pickle.load(f) \n",
    "    BES_decomp = pd.read_hdf(fname+\".hdf\")\n",
    "    BES_std    = pd.read_hdf(fname+\"_std\"+\".hdf\")\n",
    "    n_components = decomp.components_.shape[0] \n",
    "    \n",
    "(BES_decomp, comp_labels, comp_dict) = display_components(n_components, decomp,\n",
    "                                                          BES_std.columns, BES_decomp, manifest, \n",
    "                                                          save_folder = subdir,  \n",
    "                                                          show_first_x_comps= 14, show_histogram = False)    "
   ]
  },
  {
   "cell_type": "code",
   "execution_count": null,
   "metadata": {},
   "outputs": [],
   "source": [
    "# bleh - boring!"
   ]
  },
  {
   "cell_type": "code",
   "execution_count": null,
   "metadata": {},
   "outputs": [],
   "source": [
    "# BayesNet on ImmBad people?"
   ]
  },
  {
   "cell_type": "code",
   "execution_count": null,
   "metadata": {},
   "outputs": [],
   "source": [
    "BES_imm[\"genImmigSentiment\"] = pd.qcut(BES_imm[\"genImmigSentiment\"],10,range(0,10))"
   ]
  },
  {
   "cell_type": "code",
   "execution_count": null,
   "metadata": {},
   "outputs": [],
   "source": [
    "# BES_export_to_R = BES_imm.apply(lambda x: x.astype('category'))\n",
    "# BES_export_to_R = BES_export_to_R.apply(lambda x: x.cat.remove_unused_categories())\n",
    "# BES_export_to_R = BES_export_to_R.apply(lambda x: x.cat.codes)\n",
    "# BES_export_to_R = BES_export_to_R.replace(-1,np.nan)\n",
    "# levels = BES_export_to_R.apply(lambda x: len(x.value_counts()))\n",
    "# BES_export_to_R.drop(levels[levels==1].index,axis=1,inplace=True)\n",
    "\n",
    "# filename = Treatment+\"_export_to_R\"\n",
    "\n",
    "# BES_export_to_R.to_stata(BES_R_data_files + filename + \".dta\");\n",
    "# display(filename)"
   ]
  },
  {
   "cell_type": "code",
   "execution_count": null,
   "metadata": {},
   "outputs": [],
   "source": [
    "# v slow with this many variables - maybe try some regression models to reduce them?\n",
    "# Regression!"
   ]
  },
  {
   "cell_type": "code",
   "execution_count": null,
   "metadata": {},
   "outputs": [],
   "source": [
    "from sklearn import preprocessing\n",
    "from sklearn.linear_model import LogisticRegression\n",
    "from sklearn.feature_selection import RFE\n",
    "import statsmodels.api as sm\n",
    "from sklearn.preprocessing import StandardScaler\n",
    "from sklearn import datasets\n",
    "from statsmodels.stats.outliers_influence import variance_inflation_factor  \n",
    "def calculate_vif_(X):\n",
    "    variables = list(X.columns)\n",
    "    vif = {variable:variance_inflation_factor(exog=X.values, exog_idx=ix) for ix,variable in enumerate(list(X.columns))}\n",
    "    return vif\n",
    "from scipy import stats\n",
    "stats.chisqprob = lambda chisq, df: stats.chi2.sf(chisq, df)"
   ]
  },
  {
   "cell_type": "code",
   "execution_count": null,
   "metadata": {},
   "outputs": [],
   "source": [
    "# try with just top 500 correlations!"
   ]
  },
  {
   "cell_type": "code",
   "execution_count": null,
   "metadata": {},
   "outputs": [],
   "source": [
    "BES_imm = BES_reduced[ImmBadW8].copy()\n",
    "BES_imm[\"ChangedMind_on_immigEcon\"] = ChangedMind.values.astype('float')\n",
    "BES_imm[\"genImmigSentiment\"] = genImmigSentiment[ImmBadW8].values\n",
    "y = BES_imm[\"ChangedMind_on_immigEcon\"]\n",
    "X = BES_imm[imm_corr.abs().sort_values(ascending=False).index[0:2572]].drop(\"ChangedMind_on_immigEcon\",axis=1)\n",
    "X = pd.DataFrame( preprocessing.normalize(X, norm='l2'), columns = X.columns, index = X.index)"
   ]
  },
  {
   "cell_type": "code",
   "execution_count": null,
   "metadata": {},
   "outputs": [],
   "source": [
    "%%time\n",
    "logreg = LogisticRegression()\n",
    "rfe = RFE(logreg) # , n_features_to_select = 50 # default is 'half'\n",
    "rfe = rfe.fit(X, y )\n",
    "print(rfe.support_)\n",
    "print(rfe.ranking_)"
   ]
  },
  {
   "cell_type": "code",
   "execution_count": null,
   "metadata": {},
   "outputs": [],
   "source": [
    "# 100 : 2s\n",
    "# 200 : 10s\n",
    "# 300 : 25s\n",
    "# 400 : 40s\n",
    "# 500: 73s\n",
    "# 600: 101s\n",
    "# 800: 204s\n",
    "# 1000: 315s\n",
    "# 2572: 1420s"
   ]
  },
  {
   "cell_type": "code",
   "execution_count": null,
   "metadata": {},
   "outputs": [],
   "source": [
    "plt.plot([100,200,300,400,500,600,800,1000],[2,10,25,40,73,101,204,315])"
   ]
  },
  {
   "cell_type": "code",
   "execution_count": null,
   "metadata": {},
   "outputs": [],
   "source": [
    "oldref = rfe\n",
    "old_columns = X.columns[rfe.support_]"
   ]
  },
  {
   "cell_type": "code",
   "execution_count": null,
   "metadata": {},
   "outputs": [],
   "source": [
    "BES_imm = BES_reduced[ImmBadW8].copy()\n",
    "BES_imm[\"ChangedMind_on_immigEcon\"] = ChangedMind.values.astype('float')\n",
    "BES_imm[\"genImmigSentiment\"] = genImmigSentiment[ImmBadW8].values\n",
    "y = BES_imm[\"ChangedMind_on_immigEcon\"]\n",
    "X = BES_imm[old_columns]\n",
    "X = pd.DataFrame( preprocessing.normalize(X, norm='l2'), columns = X.columns, index = X.index)"
   ]
  },
  {
   "cell_type": "code",
   "execution_count": null,
   "metadata": {},
   "outputs": [],
   "source": [
    "%%time\n",
    "logreg = LogisticRegression()\n",
    "rfe = RFE(logreg,n_features_to_select =20) # , n_features_to_select = 50 # default is 'half'\n",
    "rfe = rfe.fit(X, y )\n",
    "print(rfe.support_)\n",
    "print(rfe.ranking_)"
   ]
  },
  {
   "cell_type": "code",
   "execution_count": null,
   "metadata": {},
   "outputs": [],
   "source": []
  },
  {
   "cell_type": "code",
   "execution_count": null,
   "metadata": {},
   "outputs": [],
   "source": [
    "[x for x in X.columns if \"genImmigSentiment\" in x]\n",
    "#X.columns[rfe.ranking_<=100]\n"
   ]
  },
  {
   "cell_type": "code",
   "execution_count": null,
   "metadata": {},
   "outputs": [],
   "source": [
    "last_set = X.columns[rfe.ranking_<=160]\n"
   ]
  },
  {
   "cell_type": "code",
   "execution_count": null,
   "metadata": {},
   "outputs": [],
   "source": [
    "minus_immig_vars = [x for x in last_set if not re.search(\"immigEcon|immigCultural|immigSelf|immigrants|euPriorityBalance|More\",x)]"
   ]
  },
  {
   "cell_type": "code",
   "execution_count": null,
   "metadata": {},
   "outputs": [],
   "source": [
    "X_sm = X[minus_immig_vars]\n",
    "X_sm['genImmigSentiment'] = (genImmigSentiment[ImmBadW8].values - genImmigSentiment[ImmBadW8].values.mean())/genImmigSentiment[ImmBadW8].values.std()\n",
    "# X_sm[\"intercept\"] = 1.0\n",
    "logit_model=sm.Logit(y,X_sm)\n",
    "result=logit_model.fit()\n",
    "print(result.summary())"
   ]
  },
  {
   "cell_type": "code",
   "execution_count": null,
   "metadata": {},
   "outputs": [],
   "source": [
    "%%time\n",
    "vif_df = pd.DataFrame.from_dict( calculate_vif_(X_sm), orient='index' ).sort_values(by=0, ascending=False)\n",
    "display(vif_df)"
   ]
  },
  {
   "cell_type": "code",
   "execution_count": null,
   "metadata": {},
   "outputs": [],
   "source": [
    "list( result.pvalues[result.pvalues<.1].index)"
   ]
  },
  {
   "cell_type": "code",
   "execution_count": null,
   "metadata": {},
   "outputs": [],
   "source": [
    "X_sm['genImmigSentiment'] = (genImmigSentiment[ImmBadW8].values - genImmigSentiment[ImmBadW8].values.mean())/genImmigSentiment[ImmBadW8].values.std()"
   ]
  },
  {
   "cell_type": "code",
   "execution_count": null,
   "metadata": {},
   "outputs": [],
   "source": [
    "sig_p_value_list = list( result.pvalues[result.pvalues<.1].index)\n",
    "sig_p_value_list = [x for x in sig_p_value_list if x not in [\"intercept\"]]"
   ]
  },
  {
   "cell_type": "code",
   "execution_count": null,
   "metadata": {},
   "outputs": [],
   "source": [
    "X_sm = X_sm[sig_p_value_list].copy()\n",
    "# X_sm[\"intercept\"] = 1.0\n",
    "logit_model=sm.Logit(y,X_sm)\n",
    "result=logit_model.fit(maxiter=100)\n",
    "print(result.summary())"
   ]
  },
  {
   "cell_type": "code",
   "execution_count": null,
   "metadata": {},
   "outputs": [],
   "source": [
    "X = sm.add_constant(X)\n",
    "model = sm.OLS(y, X)\n",
    "results = model.fit()\n",
    "print(results.summary())"
   ]
  },
  {
   "cell_type": "code",
   "execution_count": null,
   "metadata": {},
   "outputs": [],
   "source": [
    "###### "
   ]
  },
  {
   "cell_type": "code",
   "execution_count": null,
   "metadata": {},
   "outputs": [],
   "source": [
    "imvar_list = [\"immigEcon\",\"immigCultural\", \"immigSelf\",\n",
    "             \"immigrationLevel\", \"immigContributeTake\",\n",
    "             \"immigrantsWelfareState\", \"controlImmig\",\n",
    "             \"effectsEUImmigration\", \"euPriorityBalance\",\n",
    "             \"changeImmig\", \"changeImmigLab\",\n",
    "             \"govtHandleImmig\", \"labHandleImmig\",\n",
    "             \"asylumMore\", \"euMore\", \"noneuMore\", \"studentsMore\", \"familiesMore\"]"
   ]
  },
  {
   "cell_type": "code",
   "execution_count": null,
   "metadata": {},
   "outputs": [],
   "source": [
    "number_of_waves = 13\n",
    "imvars_by_waves = pd.DataFrame(np.full( ( len(imvar_list),number_of_waves), np.nan),\n",
    "                  columns = [\"W\"+str(x) for x in range(1,number_of_waves+1)],\n",
    "                  index = imvar_list ).T"
   ]
  },
  {
   "cell_type": "code",
   "execution_count": null,
   "metadata": {},
   "outputs": [],
   "source": [
    "for im_var in imvar_list:\n",
    "    immig_vars = [x for x in BES_Panel.columns if re.match(im_var+\"W\\d\",  x)]\n",
    "    wave_list = [x.split(im_var)[1] for x in immig_vars]\n",
    "\n",
    "    BES_immig = BES_Panel[immig_vars].replace(\"Don't know\",np.nan).apply(lambda x: x.cat.codes).replace(-1,np.nan)\n",
    "#     print(immig_vars, wave_list)\n",
    "    max_range = len(BES_Panel[immig_vars[0]].cat.categories.drop(\"Don't know\",errors='ignore'))-1\n",
    "    print(immig_vars[0], max_range)\n",
    "    for wave in wave_list:\n",
    "        wt_new = \"wt_new_\"+wave\n",
    "        wt_old = \"wt_full_\"+wave\n",
    "        if wt_new in BES_Panel.columns:\n",
    "            wt = BES_Panel[wt_new]\n",
    "        else:\n",
    "            wt = BES_Panel[wt_old]\n",
    "        imvars_by_waves.loc[wave,im_var] = (BES_immig[im_var+wave].multiply(wt).mean())/max_range\n",
    "        \n",
    "    top_cat = BES_Panel[immig_vars[0]].cat.categories.drop(\"Don't know\",errors='ignore')[-1]\n",
    "    imvars_by_waves.rename(index=str, columns={im_var: im_var + \"_\" + top_cat}, inplace=True)\n",
    "\n",
    "imvars_by_waves"
   ]
  },
  {
   "cell_type": "code",
   "execution_count": null,
   "metadata": {},
   "outputs": [],
   "source": []
  },
  {
   "cell_type": "code",
   "execution_count": null,
   "metadata": {},
   "outputs": [],
   "source": [
    "cmap = ['red','purple','blue','yellow','black','orange','grey','cyan','brown','green','pink','olive','peru',\n",
    "        'fuchsia', 'chartreuse']"
   ]
  },
  {
   "cell_type": "code",
   "execution_count": null,
   "metadata": {},
   "outputs": [],
   "source": [
    "wave_dates = BES_file_manifest[BES_file_manifest[\"Only_or_Combined\"]==\"Only\"][[\"Wave No\",\"Date_Start\"]].set_index(\"Wave No\")\n",
    "wave_dates = wave_dates.sort_index()\n",
    "wave_dates = wave_dates[\"Date_Start\"].apply(lambda x: pd.to_datetime(x, format = \"%b-%y\"))"
   ]
  },
  {
   "cell_type": "code",
   "execution_count": null,
   "metadata": {},
   "outputs": [],
   "source": [
    "# date = pd.date_range(\"2017-03\", freq=\"M\", periods=15)\n",
    "# count = np.random.rand(15,4)\n",
    "# df1 = pd.DataFrame({\"date\":date, \"count\" : count[:,0]})\n",
    "# df2 = pd.DataFrame({\"date\":date, \"count\" : count[:,1]+0.7})\n",
    "# df3 = pd.DataFrame({\"date\":date, \"count\" : count[:,2]+2})\n",
    "\n",
    "f, ax = plt.subplots(1, 1, figsize=(10,10))\n",
    "# x_col='date'\n",
    "# y_col = 'count'\n",
    "num=1\n",
    "for imvar in imvars_by_waves.columns:\n",
    "    notnull_vals = imvars_by_waves[imvar].notnull()\n",
    "    if num<=10:\n",
    "        marker = 'o'\n",
    "    else:\n",
    "        marker = 'v'\n",
    "    \n",
    "    ax.plot_date(wave_dates.values[notnull_vals],\n",
    "                 imvars_by_waves[imvar][notnull_vals],\n",
    "                 color=cmap[num%len(cmap)],\n",
    "                 label=imvar,\n",
    "                 linestyle=\"-\",\n",
    "                 marker = marker)\n",
    "    num = num +1\n",
    "# ax.plot_date(wave_dates, df2[\"count\"], color=\"red\", label=\"B\", linestyle=\"-\")\n",
    "# ax.plot_date(wave_dates, df3[\"count\"], color=\"green\", label=\"C\", linestyle=\"-\")\n",
    "\n",
    "ax.legend(loc=\"upper left\", bbox_to_anchor=(1,1))\n",
    "# legend(loc=\"upper left\", bbox_to_anchor=(1,1))\n",
    "\n",
    "plt.gcf().autofmt_xdate()\n",
    "plt.axvline(x=wave_dates.loc[3], alpha=.9)\n",
    "plt.text(wave_dates.loc[3],.8,'Peak UKIP (post EU elec.)',rotation=45)\n",
    "plt.axvline(x=wave_dates.loc[8], alpha=.9)\n",
    "plt.text(wave_dates.loc[8],.8,'2016 EU referendum',rotation=45)\n",
    "\n",
    "dataset_citation = \"Source: \" + manifest[\"Citation\"].values[0]\n",
    "plt.annotate(dataset_citation, (0,0), (0, -40),\n",
    "                             xycoords='axes fraction', textcoords='offset points', va='top', fontsize = 7)  \n",
    "\n",
    "Treatment = \"W13_comb_imm_corr\"\n",
    "plt.savefig(BES_output_folder+ Treatment + os.sep + \"Immigration_variables_by_waves.png\",bbox_inches='tight');\n",
    "plt.show()"
   ]
  },
  {
   "cell_type": "code",
   "execution_count": null,
   "metadata": {},
   "outputs": [],
   "source": [
    "# Waves!\n",
    "# immigEcon, immigCultural\n",
    "# changeImmig, immigrantsWelfareState (same minus W13)\n",
    "# XMore, immigSelf (+W12)\n",
    "# euPriorityBalance\n",
    "# "
   ]
  },
  {
   "cell_type": "code",
   "execution_count": null,
   "metadata": {},
   "outputs": [],
   "source": [
    "# What do we want to do?\n",
    "# Want to track *change* in variables\n",
    "# Same people all the way through? ~13,000 for immigEcon"
   ]
  },
  {
   "cell_type": "code",
   "execution_count": null,
   "metadata": {},
   "outputs": [],
   "source": [
    "BES_Panel.columns"
   ]
  },
  {
   "cell_type": "code",
   "execution_count": null,
   "metadata": {},
   "outputs": [],
   "source": [
    "[x for x in BES_Panel.columns if \"immigControl\" in x]"
   ]
  },
  {
   "cell_type": "code",
   "execution_count": null,
   "metadata": {},
   "outputs": [],
   "source": [
    "[x for x in immigDiff.columns if \"controlImmig\" in x]"
   ]
  },
  {
   "cell_type": "code",
   "execution_count": null,
   "metadata": {},
   "outputs": [],
   "source": [
    "# get_base(\"controlImmig\")"
   ]
  },
  {
   "cell_type": "code",
   "execution_count": null,
   "metadata": {},
   "outputs": [],
   "source": [
    "def get_base(im_var, waves=None, noNans = False):\n",
    "\n",
    "    if waves:\n",
    "        wave_list = waves\n",
    "    else:\n",
    "        wave_list = [x.replace(im_var,\"\") for x in BES_Panel.columns if re.match(im_var+\"W\\d\",  x)]\n",
    "        \n",
    "    immig_vars = [im_var+x for x in wave_list]\n",
    "    if noNans:\n",
    "        all_in_dataset = BES_Panel[immig_vars].notnull().all(axis=1)\n",
    "\n",
    "        max_range = len(BES_Panel[immig_vars[0]].cat.categories.drop(\"Don't know\",errors='ignore'))-1\n",
    "        BES_immig = BES_Panel[immig_vars][all_in_dataset]\\\n",
    "        .replace(\"Don't know\",np.nan)\\\n",
    "        .apply(lambda x: x.cat.codes)\\\n",
    "        .replace(-1,np.nan)\\\n",
    "        .apply(lambda x: x.fillna(x.median())) / max_range\n",
    "    else:\n",
    "        all_in_dataset = BES_Panel[immig_vars].isnull()\n",
    "        \n",
    "        max_range = len(BES_Panel[immig_vars[0]].cat.categories.drop(\"Don't know\",errors='ignore'))-1\n",
    "        BES_immig = BES_Panel[immig_vars]\\\n",
    "        .replace(\"Don't know\",np.nan)\\\n",
    "        .apply(lambda x: x.cat.codes)\\\n",
    "        .replace(-1,np.nan)\\\n",
    "        .apply(lambda x: x.fillna(x.median())) / max_range\n",
    "        \n",
    "        BES_immig[all_in_dataset] = np.nan\n",
    "        all_in_dataset = ~all_in_dataset\n",
    "        \n",
    "        \n",
    "    return BES_immig, all_in_dataset"
   ]
  },
  {
   "cell_type": "code",
   "execution_count": null,
   "metadata": {},
   "outputs": [],
   "source": [
    "# def get_changes(im_var):\n",
    "#     immig_vars = [x for x in BES_Panel.columns if re.match(im_var+\"W\\d\",  x)]\n",
    "#     all_in_dataset = BES_Panel[immig_vars].notnull().all(axis=1)\n",
    "#     wave_list = [x.split(im_var)[1] for x in immig_vars]\n",
    "#     max_range = len(BES_Panel[immig_vars[0]].cat.categories.drop(\"Don't know\",errors='ignore'))-1\n",
    "#     BES_immig = BES_Panel[immig_vars][all_in_dataset]\\\n",
    "#     .replace(\"Don't know\",np.nan)\\\n",
    "#     .apply(lambda x: x.cat.codes)\\\n",
    "#     .replace(-1,np.nan)\\\n",
    "#     .apply(lambda x: x.fillna(x.median())) / max_range\n",
    "#     return BES_immig"
   ]
  },
  {
   "cell_type": "code",
   "execution_count": null,
   "metadata": {},
   "outputs": [],
   "source": [
    "# im_var = \"immigCultural\"\n",
    "num = 0\n",
    "for im_var in imvar_list:\n",
    "    immig, mask = get_base(im_var,noNans = False)\n",
    "    immig.columns = [\"Delta_\"+x for x in immig.columns]\n",
    "    if num ==0:\n",
    "        immigDiff = immig.diff(axis=1).drop(immig.columns[0],axis=1)\n",
    "    else:\n",
    "        immigDiff = pd.concat( [immigDiff, immig.diff(axis=1).drop(immig.columns[0],axis=1)], axis=1)\n",
    "    num = num + 1"
   ]
  },
  {
   "cell_type": "code",
   "execution_count": null,
   "metadata": {},
   "outputs": [],
   "source": []
  },
  {
   "cell_type": "code",
   "execution_count": null,
   "metadata": {},
   "outputs": [],
   "source": [
    "diff_corr = immigDiff.corr()\n",
    "#diff_corr = diff_corr.where(np.triu(np.ones(diff_corr.shape), k=-2).astype(np.bool))\n",
    "\n",
    "diff_corr_stacked = diff_corr.stack().sort_values()"
   ]
  },
  {
   "cell_type": "code",
   "execution_count": null,
   "metadata": {},
   "outputs": [],
   "source": [
    "diff_corr_stacked.loc[[x for x in diff_corr_stacked.index.get_level_values(0) if 'Delta_controlImmig' in x]]"
   ]
  },
  {
   "cell_type": "code",
   "execution_count": null,
   "metadata": {},
   "outputs": [],
   "source": [
    "Delta_changeImmigW10 = diff_corr_stacked.loc[[x for x in diff_corr_stacked.index.get_level_values(0) if re.match('Delta_changeImmigW10', x)]]\n",
    "Delta_changeImmigW10.loc[:,[x for x in Delta_changeImmigW10.index.get_level_values(1) if re.search('W10', x)]]"
   ]
  },
  {
   "cell_type": "code",
   "execution_count": null,
   "metadata": {},
   "outputs": [],
   "source": [
    "Delta_changeImmigW10 = diff_corr_stacked.loc[[x for x in diff_corr_stacked.index.get_level_values(0) if re.match('Delta_immigEconW10', x)]]\n",
    "Delta_changeImmigW10.loc[:,[x for x in Delta_changeImmigW10.index.get_level_values(1) if re.search('W10', x)]]"
   ]
  },
  {
   "cell_type": "code",
   "execution_count": null,
   "metadata": {},
   "outputs": [],
   "source": [
    "Delta_changeImmigW10 = diff_corr_stacked.loc[[x for x in diff_corr_stacked.index.get_level_values(0) if re.match('Delta_immigCulturalW10', x)]]\n",
    "Delta_changeImmigW10.loc[:,[x for x in Delta_changeImmigW10.index.get_level_values(1) if re.search('W10', x)]]"
   ]
  },
  {
   "cell_type": "code",
   "execution_count": null,
   "metadata": {},
   "outputs": [],
   "source": [
    "immig_econ,mask = get_base(\"immigEcon\",waves=[\"W8\"],noNans = False)\n",
    "mask = (immig_econ < immig_econ.median())[\"immigEconW8\"]\n",
    "mask = (mask & immigDiff[\"Delta_controlImmigW10\"].notnull()  )"
   ]
  },
  {
   "cell_type": "code",
   "execution_count": null,
   "metadata": {},
   "outputs": [],
   "source": [
    "mask.sum()"
   ]
  },
  {
   "cell_type": "code",
   "execution_count": null,
   "metadata": {},
   "outputs": [],
   "source": [
    "\n",
    "BES_reduced[[x for x in BES_reduced.columns if re.search('W10', x)]][mask].corrwith( immigDiff[\"Delta_immigEconW10\"][mask] ).sort_values().dropna()"
   ]
  },
  {
   "cell_type": "code",
   "execution_count": null,
   "metadata": {},
   "outputs": [],
   "source": [
    "# [[x for x in BES_reduced.columns if \"W10\" in x]]\n",
    "BES_immigEcon = pd.concat( [BES_reduced[mask],immigDiff[[x for x in immigDiff.columns if \"W10\" in x]][mask]], axis=1)\n",
    "BES_immigEcon = BES_immigEcon.drop([\"immigEconW10__Good for economy\",\n",
    "                                    \"immigEconW8__Good for economy\",\n",
    "                                    \"Delta_immigEconW10\",\n",
    "                                    \"Delta_changeImmigLabW10\"],axis=1, errors='ignore')"
   ]
  },
  {
   "cell_type": "code",
   "execution_count": null,
   "metadata": {},
   "outputs": [],
   "source": [
    "target = immigDiff[\"Delta_immigEconW10\"][mask]"
   ]
  },
  {
   "cell_type": "code",
   "execution_count": null,
   "metadata": {},
   "outputs": [],
   "source": []
  },
  {
   "cell_type": "code",
   "execution_count": null,
   "metadata": {},
   "outputs": [],
   "source": [
    "## now try RFE for linear regression on "
   ]
  },
  {
   "cell_type": "code",
   "execution_count": null,
   "metadata": {},
   "outputs": [],
   "source": [
    "corr_short_list = BES_immigEcon.corrwith(target).abs().sort_values(ascending=False).index[0:500]"
   ]
  },
  {
   "cell_type": "code",
   "execution_count": null,
   "metadata": {},
   "outputs": [],
   "source": [
    "%%time\n",
    "from sklearn import linear_model\n",
    "lr = linear_model.LinearRegression()\n",
    "rfe = RFE(lr, n_features_to_select = 50)\n",
    "rfe = rfe.fit(BES_immigEcon[corr_short_list], target )\n",
    "print(rfe.support_)\n",
    "print(rfe.ranking_)"
   ]
  },
  {
   "cell_type": "code",
   "execution_count": null,
   "metadata": {},
   "outputs": [],
   "source": [
    "best_50 = BES_immigEcon[corr_short_list].columns[rfe.support_]\n",
    "best_50"
   ]
  },
  {
   "cell_type": "code",
   "execution_count": null,
   "metadata": {},
   "outputs": [],
   "source": []
  },
  {
   "cell_type": "code",
   "execution_count": null,
   "metadata": {},
   "outputs": [],
   "source": []
  },
  {
   "cell_type": "code",
   "execution_count": null,
   "metadata": {},
   "outputs": [],
   "source": []
  },
  {
   "cell_type": "code",
   "execution_count": null,
   "metadata": {},
   "outputs": [],
   "source": [
    "%%time\n",
    "# X = BES_immigEcon[best_50].copy()\n",
    "X = BES_immigEcon.copy()\n",
    "clean_feature_set_std = StandardScaler().fit_transform(X.values )\n",
    "X = pd.DataFrame(clean_feature_set_std,\n",
    "                 columns = X.columns,\n",
    "                 index   = X.index      )\n",
    "\n",
    "X = sm.add_constant(X)\n",
    "y = (target-target.mean())/target.std()\n",
    "# target\n",
    "#StandardScaler().fit_transform(target.values)\n",
    "model = sm.OLS(y, X)\n",
    "results = model.fit_regularized(alpha=0.005,L1_wt=1.0, profile_scale=False)\n",
    "# print(results.summary())\n",
    "print(results.params.sort_values())"
   ]
  },
  {
   "cell_type": "code",
   "execution_count": null,
   "metadata": {},
   "outputs": [],
   "source": [
    "# pd.DataFrame([model.fit_regularized(alpha=0.005,L1_wt=1.0, refit=True).params, X.columns]).T.sort_values(by=0)"
   ]
  },
  {
   "cell_type": "code",
   "execution_count": null,
   "metadata": {},
   "outputs": [],
   "source": [
    "# 859\t0.0111792\timmigSelfW10__Allow many more\n",
    "# 1186\t0.0120508\timmigEconW13__Good for economy\n",
    "# 1003\t0.0265213\timmigEconW11__Good for economy\n",
    "# 858\t0.0286602\timmigCulturalW10__Enriches cultural life\n",
    "# 2571\t0.0622114\tDelta_immigCulturalW10\n",
    "# 0\t0.157719\tconst\n",
    "\n",
    "# 841\t-0.0233076\tukCoopMovementW10__Bad for Britain\n",
    "# 903\t-0.00727658\timmigrantsWelfareStateW10__Strongly agree\n",
    "# 2573\t-0.0064224\tDelta_immigrantsWelfareStateW10\n",
    "# 852\t-0.00504212\teffectsEUNHSW10__Much better\n",
    "# 707\t-0.00488077\teuMoreW8__Many more"
   ]
  },
  {
   "cell_type": "code",
   "execution_count": null,
   "metadata": {},
   "outputs": [],
   "source": []
  },
  {
   "cell_type": "code",
   "execution_count": null,
   "metadata": {},
   "outputs": [],
   "source": [
    "im_var = \"immigEcon\"\n",
    "immig_econ,mask = get_base(im_var,waves=[\"W8\"],noNans = False)\n",
    "mask = (immig_econ < immig_econ.median())[im_var+\"W8\"]\n",
    "mask = (mask & immigDiff[\"Delta_controlImmigW10\"].notnull())\n",
    "\n",
    "BES_immigEcon = pd.concat( [BES_reduced[mask],immigDiff[[x for x in immigDiff.columns if \"W10\" in x]][mask]], axis=1)\n",
    "BES_immigEcon = BES_immigEcon.drop([\"Delta_changeImmigLabW10\"],axis=1, errors='ignore')\n",
    "BES_immigEcon = BES_immigEcon.drop([x for x in BES_immigEcon.columns if im_var in x], axis=1)\n",
    "\n",
    "\n",
    "target = immigDiff[\"Delta_immigEconW10\"][mask]"
   ]
  },
  {
   "cell_type": "code",
   "execution_count": null,
   "metadata": {},
   "outputs": [],
   "source": [
    "%%time\n",
    "X = BES_immigEcon.copy()\n",
    "clean_feature_set_std = StandardScaler().fit_transform(X.values )\n",
    "X = pd.DataFrame(clean_feature_set_std,\n",
    "                 columns = X.columns,\n",
    "                 index   = X.index      )\n",
    "\n",
    "X = sm.add_constant(X)\n",
    "y = (target-target.mean())/target.std()\n",
    "# target\n",
    "model = sm.OLS(y, X)\n",
    "results = model.fit_regularized(alpha=0.005,L1_wt=1.0, profile_scale=False)\n",
    "# print(results.summary())\n",
    "print(results.params.sort_values())"
   ]
  },
  {
   "cell_type": "code",
   "execution_count": null,
   "metadata": {},
   "outputs": [],
   "source": []
  },
  {
   "cell_type": "code",
   "execution_count": null,
   "metadata": {},
   "outputs": [],
   "source": [
    "im_var = \"immigCultural\"\n",
    "immig_econ,mask = get_base(im_var,waves=[\"W8\"],noNans = False)\n",
    "mask = (immig_econ < immig_econ.median())[im_var+\"W8\"]\n",
    "mask = (mask & immigDiff[\"Delta_controlImmigW10\"].notnull())\n",
    "\n",
    "BES_immigEcon = pd.concat( [BES_reduced[mask],immigDiff[[x for x in immigDiff.columns if \"W10\" in x]][mask]], axis=1)\n",
    "BES_immigEcon = BES_immigEcon.drop([\"Delta_changeImmigLabW10\"],axis=1, errors='ignore')\n",
    "BES_immigEcon = BES_immigEcon.drop([x for x in BES_immigEcon.columns if im_var in x], axis=1)\n",
    "\n",
    "\n",
    "target = immigDiff[\"Delta_immigEconW10\"][mask]"
   ]
  },
  {
   "cell_type": "code",
   "execution_count": null,
   "metadata": {},
   "outputs": [],
   "source": [
    "%%time\n",
    "X = BES_immigEcon.copy()\n",
    "clean_feature_set_std = StandardScaler().fit_transform(X.values )\n",
    "X = pd.DataFrame(clean_feature_set_std,\n",
    "                 columns = X.columns,\n",
    "                 index   = X.index      )\n",
    "\n",
    "X = sm.add_constant(X)\n",
    "y = (target-target.mean())/target.std()\n",
    "# target\n",
    "model = sm.OLS(y, X)\n",
    "results = model.fit_regularized(alpha=0.0005,L1_wt=1.0, profile_scale=False)\n",
    "# print(results.summary())\n",
    "print(results.params.sort_values())"
   ]
  },
  {
   "cell_type": "code",
   "execution_count": null,
   "metadata": {},
   "outputs": [],
   "source": [
    "# immigCultural\n",
    "\n",
    "# immigEconW8__Good for economy                                                                            -0.559886\n",
    "# immigSelfW10__Allow many more                                                                            -0.107296\n",
    "# Delta_effectsEUImmigrationW10                                                                            -0.012423\n",
    "# effectsEUImmigrationW8__Much higher                                                                      -0.011964\n",
    "\n",
    "# effectsEUImmigrationW10__Much higher                                                                      0.010308\n",
    "# Delta_immigSelfW10                                                                                        0.099758\n",
    "# immigSelfW9__Allow many more                                                                              0.110251\n",
    "# Delta_immigEconW10                                                                                        0.444343\n",
    "# immigEconW10__Good for economy                                                                            0.618473"
   ]
  },
  {
   "cell_type": "code",
   "execution_count": null,
   "metadata": {},
   "outputs": [],
   "source": [
    "# add both together\n",
    "im_var = \"immigEcon\"\n",
    "immig_econ,mask = get_base(im_var,waves=[\"W8\"],noNans = False)\n",
    "mask = (immig_econ < immig_econ.median())[im_var+\"W8\"]\n",
    "mask = (mask & immigDiff[\"Delta_controlImmigW10\"].notnull())\n",
    "\n",
    "BES_immigEcon = pd.concat( [BES_reduced[mask][[x for x in BES_reduced.columns if \"W1\" in x]],immigDiff[[x for x in immigDiff.columns if \"W10\" in x]][mask]], axis=1)\n",
    "BES_immigEcon = BES_immigEcon.drop([\"Delta_changeImmigLabW10\"],axis=1, errors='ignore')\n",
    "BES_immigEcon = BES_immigEcon.drop([x for x in BES_immigEcon.columns if im_var in x], axis=1)\n",
    "BES_immigEcon = BES_immigEcon.drop([x for x in BES_immigEcon.columns if \"immigCultural\" in x], axis=1)\n",
    "\n",
    "target = immigDiff[\"Delta_immigEconW10\"][mask] + immigDiff[\"Delta_immigCulturalW10\"][mask]"
   ]
  },
  {
   "cell_type": "code",
   "execution_count": null,
   "metadata": {},
   "outputs": [],
   "source": [
    "%%time\n",
    "X = BES_immigEcon.copy()\n",
    "clean_feature_set_std = StandardScaler().fit_transform(X.values )\n",
    "X = pd.DataFrame(clean_feature_set_std,\n",
    "                 columns = X.columns,\n",
    "                 index   = X.index      )\n",
    "\n",
    "X = sm.add_constant(X)\n",
    "y = (target-target.mean())/target.std()\n",
    "# target\n",
    "model = sm.OLS(y, X)\n",
    "results = model.fit_regularized(alpha=0.03,L1_wt=1.0, profile_scale=False)\n",
    "# print(results.summary())\n",
    "print(results.params.sort_values())"
   ]
  },
  {
   "cell_type": "code",
   "execution_count": null,
   "metadata": {},
   "outputs": [],
   "source": []
  },
  {
   "cell_type": "code",
   "execution_count": null,
   "metadata": {},
   "outputs": [],
   "source": [
    "# ukCoopMovementW10__Bad for Britain                                       -0.135519\n",
    "# Delta_immigrantsWelfareStateW10                                          -0.054008\n",
    "# immigrantsWelfareStateW10__Strongly agree                                -0.046781\n",
    "# euPriorityBalanceW10__Control immigration                                -0.028344\n",
    "# changeImmigW10__Getting a lot higher                                     -0.027771\n",
    "# effectsEUNHSW10__Much better                                             -0.016308\n",
    "# EUIntegrationUKIPW10__Protect our independence                           -0.007207\n",
    "# educationW8W9W10_University or CNAA higher degree (eg M.Sc, Ph.D)         0.000000\n",
    "# lr_scaleW10W11W12__Right                                                  0.000000\n",
    "# al_scaleW10W11W12__Authoritarian                                          0.000000\n",
    "\n",
    "\n",
    "# Delta_changeImmigW10                                                      0.000000\n",
    "# immigConW10__Allow many more                                              0.000000\n",
    "# satDemUKW10__Very satisfied                                               0.000260\n",
    "# profile_religionW10_Yes - Free Presbyterian                               0.000493\n",
    "# immigUKIPW10__Allow many more                                             0.005274\n",
    "# euID2W10__Strongly agree                                                  0.010450\n",
    "# trustMPsW10__A great deal of trust                                        0.012016\n",
    "# leaveImpactSelfW10__A very large impact                                   0.014410\n",
    "# effectsEUTerrorW10__Much higher                                           0.014756\n",
    "# discrimBMEW10__A lot of discrimination against                            0.018373\n",
    "# leaveImpactBritainW10__A very large impact                                0.020762\n",
    "# Delta_immigSelfW10                                                        0.021021\n",
    "# regretsIHaveAFewEUW10_Yes                                                 0.027450\n",
    "# immigSelfW10__Allow many more                                             0.145033"
   ]
  },
  {
   "cell_type": "code",
   "execution_count": null,
   "metadata": {},
   "outputs": [],
   "source": [
    "[x for x in BES_reduced.columns if \"days\" in x]"
   ]
  },
  {
   "cell_type": "code",
   "execution_count": null,
   "metadata": {},
   "outputs": [],
   "source": [
    "\n",
    "# [x for x in X.columns if \"Delta\" in x]\n",
    "var_list = ['Delta_immigSelfW10',\n",
    "'Delta_immigrantsWelfareStateW10',\n",
    "# 'Delta_controlImmigW10',\n",
    "'Delta_controlImmigW9',\n",
    "#'Delta_effectsEUImmigrationW10',\n",
    "#'Delta_changeImmigW10',\n",
    "\"Delta_ukCoopMovementW10\",\n",
    "\"lr_scaleW10W11W12__Right\",\n",
    "#\"al_scaleW10W11W12__Authoritarian\",\n",
    "\"effectsEUNHSW10__Much better\",\n",
    "# \"effectsEUTerrorW10__Much higher\",\n",
    "\"euPriorityBalanceW10__Control immigration\",\n",
    "#\"euID2W10__Strongly agree\",\n",
    "\"trustMPsW10__A great deal of trust\",\n",
    "\"leaveImpactSelfW10__A very large impact\",\"leaveImpactBritainW10__A very large impact\",\n",
    "\"discrimBMEW10__A lot of discrimination against\",\n",
    "\"regretsIHaveAFewEUW10_Yes\",\n",
    "\"immigrantsWelfareStateW10__Strongly agree\",\"immigSelfW10__Allow many more\",\n",
    "\"controlImmigW9__Complete control\",\n",
    "# \"controlImmigW10__Complete control\",\n",
    "\"changeImmigW10__Getting a lot higher\",\n",
    "\"effectsEUImmigrationW10__Much higher\",\n",
    "\"ukCoopMovementW10__Bad for Britain\",\n",
    "#\"euMoreW13__Many more\", \"tripleLockW12__Strongly agree\",\"warmAsianW11__Very warm\",\n",
    "#\"euID1W11__Strongly agree\",\"euID7W13__Strongly agree\",\n",
    "\"populism5W10__Strongly agree\",\n",
    "# \"polAttentionW10__Pay a great deal of attention\",\"discussPolDaysW11__7 days\",\n",
    "]\n",
    "\n",
    "# euMoreW13__Many more                                                 0.023097\n",
    "# tripleLockW12__Strongly agree                                        0.016146\n",
    "# warmAsianW11__Very warm                                              0.009441\n",
    "# euID7W13__Strongly agree                                             0.004742\n",
    "# euID1W11__Strongly agree                                             0.005772\n",
    "# euID2W10__Strongly agree                                             0.008043\n",
    "# populism5W10__Strongly agree                                        -0.006852\n",
    "# polAttention"
   ]
  },
  {
   "cell_type": "code",
   "execution_count": null,
   "metadata": {},
   "outputs": [],
   "source": [
    "# BES_reduced[mask].corrwith(target).sort_values().dropna()"
   ]
  },
  {
   "cell_type": "code",
   "execution_count": null,
   "metadata": {},
   "outputs": [],
   "source": [
    "imvar_list.append(\"ukCoopMovement\")"
   ]
  },
  {
   "cell_type": "code",
   "execution_count": null,
   "metadata": {},
   "outputs": [],
   "source": [
    "# im_var = \"immigCultural\"\n",
    "\n",
    "num = 0\n",
    "for im_var in imvar_list:\n",
    "    immig, mask = get_base(im_var,noNans = False)\n",
    "    immig.columns = [\"Delta_\"+x for x in immig.columns]\n",
    "    if num ==0:\n",
    "        immigDiff = immig.diff(axis=1).drop(immig.columns[0],axis=1)\n",
    "    else:\n",
    "        immigDiff = pd.concat( [immigDiff, immig.diff(axis=1).drop(immig.columns[0],axis=1)], axis=1)\n",
    "    num = num + 1\n"
   ]
  },
  {
   "cell_type": "code",
   "execution_count": null,
   "metadata": {},
   "outputs": [],
   "source": [
    "imvar_list"
   ]
  },
  {
   "cell_type": "code",
   "execution_count": null,
   "metadata": {},
   "outputs": [],
   "source": [
    "# add both together\n",
    "im_var = \"immigEcon\"\n",
    "immig_econ,mask = get_base(im_var,waves=[\"W8\"],noNans = False)\n",
    "mask = (immig_econ < immig_econ.median())[im_var+\"W8\"]\n",
    "mask = (mask & immigDiff[\"Delta_immigSelfW10\"].notnull() & immigDiff[\"Delta_controlImmigW9\"].notnull())\n",
    "\n",
    "BES_immigEcon = pd.concat( [BES_reduced[mask],immigDiff[[x for x in immigDiff.columns if \"W10\" in x]][mask]], axis=1)\n",
    "BES_immigEcon = BES_immigEcon.drop([\"Delta_changeImmigLabW10\"],axis=1, errors='ignore')\n",
    "BES_immigEcon = BES_immigEcon.drop([x for x in BES_immigEcon.columns if \"immigEcon\" in x], axis=1)\n",
    "BES_immigEcon = BES_immigEcon.drop([x for x in BES_immigEcon.columns if \"immigCultural\" in x], axis=1)\n",
    "BES_immigEcon[\"Delta_controlImmigW9\"] = immigDiff[\"Delta_controlImmigW9\"][mask]\n",
    "BES_immigEcon = BES_immigEcon[var_list]\n",
    "\n",
    "\n",
    "target = immigDiff[\"Delta_immigEconW10\"][mask] + immigDiff[\"Delta_immigCulturalW10\"][mask]"
   ]
  },
  {
   "cell_type": "code",
   "execution_count": null,
   "metadata": {},
   "outputs": [],
   "source": [
    "BES_immigEcon.isnull().sum()"
   ]
  },
  {
   "cell_type": "code",
   "execution_count": null,
   "metadata": {},
   "outputs": [],
   "source": [
    "mask.sum()"
   ]
  },
  {
   "cell_type": "code",
   "execution_count": null,
   "metadata": {},
   "outputs": [],
   "source": [
    "%%time\n",
    "X = BES_immigEcon.copy()\n",
    "clean_feature_set_std = StandardScaler().fit_transform(X.values )\n",
    "X = pd.DataFrame(clean_feature_set_std,\n",
    "                 columns = X.columns,\n",
    "                 index   = X.index      )\n",
    "\n",
    "X = sm.add_constant(X)\n",
    "#y = (target-target.mean())/target.std()\n",
    "y=  target\n",
    "model = sm.OLS(y, X)\n",
    "results = model.fit_regularized(alpha=0.001,L1_wt=1.0, profile_scale=False)\n",
    "#alpha=0.03\n",
    "# print(results.summary())\n",
    "print(results.params.sort_values())"
   ]
  },
  {
   "cell_type": "code",
   "execution_count": null,
   "metadata": {},
   "outputs": [],
   "source": [
    "%%time\n",
    "X = BES_immigEcon.copy()\n",
    "clean_feature_set_std = StandardScaler().fit_transform(X.values )\n",
    "X = pd.DataFrame(clean_feature_set_std,\n",
    "                 columns = X.columns,\n",
    "                 index   = X.index      )\n",
    "\n",
    "X = sm.add_constant(X)\n",
    "# y = (target-target.mean())/target.std()\n",
    "y = target\n",
    "model = sm.OLS(y, X)\n",
    "results = model.fit()\n",
    "# results = model.fit_regularized(alpha=0.03,L1_wt=1.0, profile_scale=False)\n",
    "print(results.summary())\n",
    "# print(results.params.sort_values())"
   ]
  },
  {
   "cell_type": "code",
   "execution_count": null,
   "metadata": {},
   "outputs": [],
   "source": [
    "vif_df = pd.DataFrame.from_dict( calculate_vif_(X), orient='index' ).sort_values(by=0, ascending=False)\n",
    "display(vif_df)"
   ]
  },
  {
   "cell_type": "code",
   "execution_count": null,
   "metadata": {},
   "outputs": [],
   "source": [
    "%%time\n",
    "X = BES_immigEcon[results.pvalues[results.pvalues<0.15].index.drop('const')].copy()\n",
    "clean_feature_set_std = StandardScaler().fit_transform(X.values )\n",
    "X = pd.DataFrame(clean_feature_set_std,\n",
    "                 columns = X.columns,\n",
    "                 index   = X.index      )\n",
    "\n",
    "X = sm.add_constant(X)\n",
    "# y = (target-target.mean())/target.std()\n",
    "y = target\n",
    "model = sm.OLS(y, X)\n",
    "results_second = model.fit()\n",
    "# results = model.fit_regularized(alpha=0.03,L1_wt=1.0, profile_scale=False)\n",
    "print(results_second.summary())\n",
    "# print(results.params.sort_values())\n",
    "\n"
   ]
  },
  {
   "cell_type": "code",
   "execution_count": null,
   "metadata": {},
   "outputs": [],
   "source": [
    "BES_Panel[[x for x in BES_Panel.columns if \"control\" in x]].notnull().sum()"
   ]
  },
  {
   "cell_type": "code",
   "execution_count": null,
   "metadata": {},
   "outputs": [],
   "source": [
    "results.pvalues[results.pvalues<0.15].index"
   ]
  },
  {
   "cell_type": "code",
   "execution_count": null,
   "metadata": {},
   "outputs": [],
   "source": [
    "results.pvalues"
   ]
  },
  {
   "cell_type": "code",
   "execution_count": null,
   "metadata": {},
   "outputs": [],
   "source": []
  },
  {
   "cell_type": "code",
   "execution_count": null,
   "metadata": {},
   "outputs": [],
   "source": []
  },
  {
   "cell_type": "code",
   "execution_count": null,
   "metadata": {},
   "outputs": [],
   "source": []
  },
  {
   "cell_type": "code",
   "execution_count": null,
   "metadata": {},
   "outputs": [],
   "source": []
  },
  {
   "cell_type": "code",
   "execution_count": null,
   "metadata": {},
   "outputs": [],
   "source": []
  },
  {
   "cell_type": "code",
   "execution_count": null,
   "metadata": {},
   "outputs": [],
   "source": []
  },
  {
   "cell_type": "code",
   "execution_count": null,
   "metadata": {},
   "outputs": [],
   "source": [
    "X = BES_immigEcon[best_10].copy()\n",
    "X = sm.add_constant(X)\n",
    "reg = linear_model.Lasso(alpha = 0.01)\n",
    "reg.fit(X, target)\n",
    "reg.coef_"
   ]
  },
  {
   "cell_type": "code",
   "execution_count": null,
   "metadata": {},
   "outputs": [],
   "source": [
    "pd.DataFrame([reg.coef_,X.columns]).T"
   ]
  },
  {
   "cell_type": "code",
   "execution_count": null,
   "metadata": {},
   "outputs": [],
   "source": []
  },
  {
   "cell_type": "code",
   "execution_count": null,
   "metadata": {},
   "outputs": [],
   "source": []
  },
  {
   "cell_type": "code",
   "execution_count": null,
   "metadata": {},
   "outputs": [],
   "source": []
  },
  {
   "cell_type": "code",
   "execution_count": null,
   "metadata": {},
   "outputs": [],
   "source": []
  },
  {
   "cell_type": "code",
   "execution_count": null,
   "metadata": {},
   "outputs": [],
   "source": []
  },
  {
   "cell_type": "code",
   "execution_count": null,
   "metadata": {},
   "outputs": [],
   "source": []
  },
  {
   "cell_type": "code",
   "execution_count": null,
   "metadata": {},
   "outputs": [],
   "source": []
  },
  {
   "cell_type": "code",
   "execution_count": null,
   "metadata": {},
   "outputs": [],
   "source": [
    "im_var = \"immigEcon\"\n",
    "immig_vars = [x for x in BES_Panel.columns if re.match(im_var+\"W\\d\",  x)]\n",
    "all_in_dataset = BES_Panel[immig_vars].notnull().all(axis=1)\n",
    "wave_list = [x.split(im_var)[1] for x in immig_vars]\n",
    "max_range = len(BES_Panel[immig_vars[0]].cat.categories.drop(\"Don't know\",errors='ignore'))-1\n",
    "BES_immig = BES_Panel[immig_vars][all_in_dataset]\\\n",
    ".replace(\"Don't know\",np.nan)\\\n",
    ".apply(lambda x: x.cat.codes)\\\n",
    ".replace(-1,np.nan)\\\n",
    ".apply(lambda x: x.fillna(x.median())) / max_range\n",
    "\n",
    "sns.pointplot(data=BES_immig);\n",
    "plt.xticks(rotation=45)"
   ]
  },
  {
   "cell_type": "code",
   "execution_count": null,
   "metadata": {},
   "outputs": [],
   "source": [
    "im_var = \"immigCultural\"\n",
    "immig_vars = [x for x in BES_Panel.columns if re.match(im_var+\"W\\d\",  x)]\n",
    "all_in_dataset = BES_Panel[immig_vars].notnull().all(axis=1)\n",
    "wave_list = [x.split(im_var)[1] for x in immig_vars]\n",
    "max_range = len(BES_Panel[immig_vars[0]].cat.categories.drop(\"Don't know\",errors='ignore'))-1\n",
    "BES_immig = BES_Panel[immig_vars][all_in_dataset]\\\n",
    ".replace(\"Don't know\",np.nan)\\\n",
    ".apply(lambda x: x.cat.codes)\\\n",
    ".replace(-1,np.nan)\\\n",
    ".apply(lambda x: x.fillna(x.median())) / max_range\n",
    "\n",
    "sns.pointplot(data=BES_immig);\n",
    "plt.xticks(rotation=45)"
   ]
  },
  {
   "cell_type": "code",
   "execution_count": null,
   "metadata": {},
   "outputs": [],
   "source": [
    "sns.pointplot(data=get_base(\"immigCultural\").diff(axis=1));\n",
    "plt.xticks(rotation=45)\n"
   ]
  },
  {
   "cell_type": "code",
   "execution_count": null,
   "metadata": {},
   "outputs": [],
   "source": [
    "immigCultural, mask = get_base(\"immigCultural\")\n",
    "immigCulturalChange = immigCultural.diff(axis=1)\n",
    "immigCulturalChangeW10 = immigCulturalChange[\"immigCulturalW10\"]"
   ]
  },
  {
   "cell_type": "code",
   "execution_count": null,
   "metadata": {},
   "outputs": [],
   "source": [
    "immigCulturalChangeW10.hist(bins=10)"
   ]
  },
  {
   "cell_type": "code",
   "execution_count": null,
   "metadata": {},
   "outputs": [],
   "source": [
    "corr = BES_reduced[mask].corrwith(immigCulturalChangeW10)"
   ]
  },
  {
   "cell_type": "code",
   "execution_count": null,
   "metadata": {},
   "outputs": [],
   "source": [
    "corr.sort_values().dropna()"
   ]
  },
  {
   "cell_type": "code",
   "execution_count": null,
   "metadata": {},
   "outputs": [],
   "source": [
    "corr.loc[[x for x in corr.index if \"control\" in x]]"
   ]
  },
  {
   "cell_type": "code",
   "execution_count": null,
   "metadata": {},
   "outputs": [],
   "source": [
    "corr.loc[[x for x in corr.index if \"changeImmig\" in x]]"
   ]
  },
  {
   "cell_type": "code",
   "execution_count": null,
   "metadata": {},
   "outputs": [],
   "source": [
    "im_var = \"immigCultural\"\n",
    "immigCultural, mask = get_base(im_var)\n",
    "immigCulturalChange = immigCultural.diff(axis=1)\n",
    "immigCulturalChangeW10 = immigCulturalChange[im_var+\"W10\"]\n",
    "corr = BES_reduced[mask].corrwith(immigCulturalChangeW10)\n",
    "print(\"N=\",mask.sum())\n",
    "corr.sort_values().dropna()"
   ]
  },
  {
   "cell_type": "code",
   "execution_count": null,
   "metadata": {},
   "outputs": [],
   "source": [
    "im_var = \"immigCultural\"\n",
    "immigCultural, mask = get_base(im_var,[\"W8\",\"W10\"])\n",
    "immigCulturalChange = immigCultural.diff(axis=1)\n",
    "immigCulturalChangeW10 = immigCulturalChange[im_var+\"W10\"]\n",
    "corr = BES_reduced[mask].corrwith(immigCulturalChangeW10)\n",
    "print(\"N=\",mask.sum())\n",
    "corr.sort_values().dropna()"
   ]
  },
  {
   "cell_type": "code",
   "execution_count": null,
   "metadata": {},
   "outputs": [],
   "source": []
  },
  {
   "cell_type": "code",
   "execution_count": null,
   "metadata": {},
   "outputs": [],
   "source": [
    "im_var = \"changeImmig\"\n",
    "immig, mask = get_base(im_var,[\"W8\",\"W10\"])\n",
    "mask = mask# & (immig[im_var+\"W8\"]<=immig[im_var+\"W8\"].median())\n",
    "# immig = immig[mask]\n",
    "immigChange = immig.loc[mask].diff(axis=1)\n",
    "immigChangeW10 = immigChange[im_var+\"W10\"]\n",
    "corr = BES_reduced[mask].corrwith(immigChangeW10)\n",
    "print(\"N=\",mask.sum())\n",
    "corr.sort_values().dropna()\n",
    "\n",
    "changeImmig10_df = immigChangeW10\n",
    "changeImmig10_mask = mask"
   ]
  },
  {
   "cell_type": "code",
   "execution_count": null,
   "metadata": {},
   "outputs": [],
   "source": [
    "im_var = \"controlImmig\"\n",
    "immig, mask = get_base(im_var,[\"W8\",\"W9\"])\n",
    "mask = mask# & (immig[im_var+\"W8\"]<=immig[im_var+\"W8\"].median())\n",
    "# immig = immig[mask]\n",
    "immigChange = immig.loc[mask].diff(axis=1)\n",
    "immigChangeW9 = immigChange[im_var+\"W9\"]\n",
    "corr = BES_reduced[mask].corrwith(immigChangeW9)\n",
    "print(\"N=\",mask.sum())\n",
    "corr.sort_values().dropna()\n",
    "\n",
    "controlImmig9_df = immigChangeW9\n",
    "controlImmig9_mask = mask"
   ]
  },
  {
   "cell_type": "code",
   "execution_count": null,
   "metadata": {},
   "outputs": [],
   "source": [
    "im_var = \"immigCultural\"\n",
    "immig, mask = get_base(im_var,[\"W8\",\"W10\"])\n",
    "mask = mask# & (immig[im_var+\"W8\"]<=immig[im_var+\"W8\"].median())\n",
    "# immig = immig[mask]\n",
    "immigChange = immig.loc[mask].diff(axis=1)\n",
    "immigChangeW10 = immigChange[im_var+\"W10\"]\n",
    "corr = BES_reduced[mask].corrwith(immigChangeW10)\n",
    "print(\"N=\",mask.sum())\n",
    "corr.sort_values().dropna()\n",
    "\n",
    "immigCulturalW10_df = immigChangeW10\n",
    "immigCulturalW10_mask = mask"
   ]
  },
  {
   "cell_type": "code",
   "execution_count": null,
   "metadata": {},
   "outputs": [],
   "source": [
    "im_var = \"immigEcon\"\n",
    "immig, mask = get_base(im_var)#,[\"W8\",\"W10\"])\n",
    "mask = mask & (immig[im_var+\"W8\"]<=immig[im_var+\"W8\"].median())\n",
    "# immig = immig[mask]\n",
    "immigChange = immig.loc[mask].diff(axis=1)\n",
    "immigChangeW10 = immigChange[im_var+\"W10\"]\n",
    "corr = BES_reduced[mask].corrwith(immigChangeW10)\n",
    "print(\"N=\",mask.sum())\n",
    "\n",
    "\n",
    "immigEconW10_df = immigChangeW10\n",
    "immigEconW10_mask = mask\n",
    "corr.sort_values().dropna()"
   ]
  },
  {
   "cell_type": "code",
   "execution_count": null,
   "metadata": {},
   "outputs": [],
   "source": [
    "joint_mask  = immigCulturalW10_mask&changeImmig10_mask\n",
    "print(\"N=\",joint_mask.sum())\n",
    "immigCulturalW10_df[joint_mask].corr(changeImmig10_df[joint_mask])"
   ]
  },
  {
   "cell_type": "code",
   "execution_count": null,
   "metadata": {},
   "outputs": [],
   "source": [
    "joint_mask  = immigCulturalW10_mask&controlImmig9_mask\n",
    "print(\"N=\",joint_mask.sum())\n",
    "immigCulturalW10_df[joint_mask].corr(controlImmig9_df[joint_mask])"
   ]
  },
  {
   "cell_type": "code",
   "execution_count": null,
   "metadata": {},
   "outputs": [],
   "source": [
    "joint_mask  = immigEconW10_mask&changeImmig10_mask\n",
    "print(\"N=\",joint_mask.sum())\n",
    "immigEconW10_df[joint_mask].corr(changeImmig10_df[joint_mask])"
   ]
  },
  {
   "cell_type": "code",
   "execution_count": null,
   "metadata": {},
   "outputs": [],
   "source": [
    "joint_mask  = immigEconW10_mask&controlImmig9_mask\n",
    "print(\"N=\",joint_mask.sum())\n",
    "immigEconW10_df[joint_mask].corr(controlImmig9_df[joint_mask])"
   ]
  },
  {
   "cell_type": "code",
   "execution_count": null,
   "metadata": {},
   "outputs": [],
   "source": []
  },
  {
   "cell_type": "code",
   "execution_count": null,
   "metadata": {},
   "outputs": [],
   "source": [
    "im_var = \"immigCultural\"\n",
    "immig, mask = get_base(im_var)#,[\"W8\",\"W10\"])\n",
    "mask = mask & (immig[im_var+\"W8\"]<=immig[im_var+\"W8\"].median())\n",
    "# immig = immig[mask]\n",
    "immigChange = immig.loc[mask].diff(axis=1)\n",
    "immigChangeW10 = immigChange[im_var+\"W10\"]\n",
    "corr = BES_reduced[mask].corrwith(immigChangeW10)\n",
    "print(\"N=\",mask.sum())\n",
    "corr.sort_values().dropna()"
   ]
  },
  {
   "cell_type": "code",
   "execution_count": null,
   "metadata": {},
   "outputs": [],
   "source": [
    "im_var = \"immigrantsWelfareState\"\n",
    "immig, mask = get_base(im_var,[\"W8\",\"W10\"])\n",
    "mask = mask & (immig[\"immigrantsWelfareStateW8\"]>=immig[\"immigrantsWelfareStateW8\"].median())\n",
    "immig = immig[mask]\n",
    "immigChange = immig.diff(axis=1)\n",
    "immigChangeW10 = immigChange[im_var+\"W10\"]\n",
    "corr = BES_reduced[mask].corrwith(immigChangeW10)\n",
    "print(\"N=\",mask.sum())\n",
    "corr.sort_values().dropna()"
   ]
  },
  {
   "cell_type": "code",
   "execution_count": null,
   "metadata": {},
   "outputs": [],
   "source": [
    "mask = mask & (immig[\"immigrantsWelfareStateW8\"]>=immig[\"immigrantsWelfareStateW8\"].median())"
   ]
  },
  {
   "cell_type": "code",
   "execution_count": null,
   "metadata": {},
   "outputs": [],
   "source": []
  },
  {
   "cell_type": "code",
   "execution_count": null,
   "metadata": {},
   "outputs": [],
   "source": []
  },
  {
   "cell_type": "code",
   "execution_count": null,
   "metadata": {},
   "outputs": [],
   "source": []
  },
  {
   "cell_type": "code",
   "execution_count": null,
   "metadata": {},
   "outputs": [],
   "source": []
  },
  {
   "cell_type": "code",
   "execution_count": null,
   "metadata": {},
   "outputs": [],
   "source": []
  },
  {
   "cell_type": "code",
   "execution_count": null,
   "metadata": {},
   "outputs": [],
   "source": []
  },
  {
   "cell_type": "code",
   "execution_count": null,
   "metadata": {},
   "outputs": [],
   "source": []
  },
  {
   "cell_type": "code",
   "execution_count": null,
   "metadata": {},
   "outputs": [],
   "source": []
  },
  {
   "cell_type": "code",
   "execution_count": null,
   "metadata": {},
   "outputs": [],
   "source": []
  },
  {
   "cell_type": "code",
   "execution_count": null,
   "metadata": {},
   "outputs": [],
   "source": []
  },
  {
   "cell_type": "code",
   "execution_count": null,
   "metadata": {},
   "outputs": [],
   "source": []
  },
  {
   "cell_type": "code",
   "execution_count": null,
   "metadata": {},
   "outputs": [],
   "source": []
  },
  {
   "cell_type": "code",
   "execution_count": null,
   "metadata": {},
   "outputs": [],
   "source": []
  },
  {
   "cell_type": "code",
   "execution_count": null,
   "metadata": {},
   "outputs": [],
   "source": []
  },
  {
   "cell_type": "code",
   "execution_count": null,
   "metadata": {},
   "outputs": [],
   "source": [
    "# Linear/Logistic Regression"
   ]
  },
  {
   "cell_type": "code",
   "execution_count": null,
   "metadata": {},
   "outputs": [],
   "source": []
  },
  {
   "cell_type": "code",
   "execution_count": null,
   "metadata": {},
   "outputs": [],
   "source": [
    "BES_logit = BES_eng_lab[[y_var]].apply(lambda x: x.astype('int'))\n",
    "BES_eng_lab[\"headHouseholdPast\"] = BES_eng_lab[\"headHouseholdPast\"].astype('category') # fix float -> category\n",
    "\n",
    "for var in var_list:\n",
    "#     print(var)\n",
    "    vtype = var_type.loc[ var ][\"type\"]\n",
    "    if vtype==3 or var == \"euRefVote\": # non-ordinal categorical\n",
    "        sorted_categories = list( BES_eng_lab[var].value_counts().index )\n",
    "        relative_to = \"(\" + str(sorted_categories[0])[0:10] + \")\"\n",
    "        dummies = pd.get_dummies( BES_eng_lab[var].cat.remove_unused_categories() , dummy_na = BES_eng_lab[var].isnull().any(), prefix = var + relative_to )\n",
    "        dummies.drop( var + relative_to + \"_\" + str(sorted_categories[0]), axis=1, inplace=True )\n",
    "        BES_logit = pd.concat( [ BES_logit, dummies ] , axis=1)\n",
    "        \n",
    "    elif vtype==1: # ordinal categorical\n",
    "        BES_logit[var] = BES_eng_lab[var]\n",
    "   \n",
    "        # if any nans, create var_nan\n",
    "#         if BES_eng_lab[var].isnull().any():\n",
    "#             BES_logit[var+\"_nan\"] = BES_eng_lab[var].isnull().astype('int')\n",
    "\n",
    "        # if any don't knows, create a don't know\n",
    "        if BES_eng_lab[var].apply(lambda x: x in Weasel_answers).any():\n",
    "#             BES_logit[var+\"_dk\"] = BES_eng_lab[var].apply(lambda x: x in [\"Don't know\"]).astype('int')\n",
    "            weasel_cats = [x for x in Weasel_answers if x in BES_logit[var].cat.categories]\n",
    "            BES_logit[var] = BES_logit[var].cat.remove_categories(weasel_cats)\n",
    "            \n",
    "        BES_logit[var] = BES_logit[var].cat.codes\n",
    "        BES_logit[var] = BES_logit[var].replace(-1,0)\n",
    "#         BES_logit[var] = BES_logit[var].replace(np.nan,BES_logit[var].dropna().mean())\n",
    "        \n",
    "        # should the baseline be 0 or mean?\n",
    "        # this stuff is going to be normalised\n",
    "            \n",
    "          \n",
    "            \n",
    "        \n",
    "        \n",
    "\n",
    "# BES_logit\n",
    "# BES_eng_lab[var_list]\n",
    "\n",
    "x_vars = list(BES_logit.columns)\n",
    "x_vars.remove(y_var)\n",
    "\n",
    "X = BES_logit[x_vars]\n",
    "y = BES_logit[y_var]\n",
    "\n",
    "# X_normalized = \n",
    "X = pd.DataFrame( preprocessing.normalize(X, norm='l2'), columns = X.columns, index = X.index)"
   ]
  },
  {
   "cell_type": "code",
   "execution_count": null,
   "metadata": {},
   "outputs": [],
   "source": [
    "\n",
    "\n",
    "vif_df = pd.DataFrame.from_dict( calculate_vif_(X), orient='index' ).sort_values(by=0, ascending=False)\n",
    "vif_df"
   ]
  },
  {
   "cell_type": "code",
   "execution_count": null,
   "metadata": {},
   "outputs": [],
   "source": [
    "\n",
    "logreg = LogisticRegression(C=1e5)\n",
    "# we create an instance of Neighbours Classifier and fit the data.\n",
    "logreg.fit(X, y, sample_weight=sample_weight)\n",
    "# logreg.coef_\n",
    "print(logreg.intercept_)\n",
    "pd.DataFrame.from_dict({k: v for (k, v) in zip( X.columns , logreg.coef_[0])},orient='index').sort_values(by=0)"
   ]
  },
  {
   "cell_type": "code",
   "execution_count": null,
   "metadata": {},
   "outputs": [],
   "source": [
    "\n",
    "X_sm = X.copy()\n",
    "X_sm[\"intercept\"] = 1.0\n",
    "logit_model=sm.Logit(y,X_sm)\n",
    "result=logit_model.fit()\n",
    "print(result.summary())"
   ]
  },
  {
   "cell_type": "code",
   "execution_count": null,
   "metadata": {},
   "outputs": [],
   "source": [
    "\n",
    "lr = LinearRegression()\n",
    "rfe = RFE(lr, n_features_to_select = 50)\n",
    "rfe = rfe.fit(X, y )\n",
    "print(rfe.support_)\n",
    "print(rfe.ranking_)"
   ]
  },
  {
   "cell_type": "code",
   "execution_count": null,
   "metadata": {},
   "outputs": [],
   "source": [
    "\n",
    "X_sm = X[X.columns[rfe.support_]]\n",
    "# X_sm[\"intercept\"] = 1.0\n",
    "logit_model=sm.Logit(y,X_sm)\n",
    "result=logit_model.fit()\n",
    "print(result.summary())"
   ]
  },
  {
   "cell_type": "code",
   "execution_count": null,
   "metadata": {},
   "outputs": [],
   "source": [
    "\n",
    "sig_p_value_list = list( result.pvalues[result.pvalues<.1].index)\n",
    "sig_p_value_list = [x for x in sig_p_value_list if x not in [\"intercept\"]]\n",
    "# ,\"bestOnMII_Conservative\",\"regretsIHaveAFew\",\n",
    "#                                                              \"reasonForVote_I always vote that way\",\"profile_newspaper_The Mirror / Daily Record\",\n",
    "#                                                              \"partyContactLD\",\"voteMethoda\"] ]\n",
    "X_sm = X[sig_p_value_list].copy()\n",
    "X_sm[\"intercept\"] = 1.0\n",
    "logit_model=sm.Logit(y,X_sm)\n",
    "result=logit_model.fit(maxiter=100)\n",
    "print(result.summary())"
   ]
  },
  {
   "cell_type": "code",
   "execution_count": null,
   "metadata": {},
   "outputs": [],
   "source": []
  },
  {
   "cell_type": "code",
   "execution_count": null,
   "metadata": {},
   "outputs": [],
   "source": [
    "\n",
    "scaler = StandardScaler(copy=True, with_mean=True, with_std=True)\n",
    "X_and_y_filled_scaled = pd.DataFrame( scaler.fit_transform(X_and_y_filled), columns = X_and_y_filled.columns, index = X_and_y_filled.index)\n"
   ]
  },
  {
   "cell_type": "code",
   "execution_count": null,
   "metadata": {},
   "outputs": [],
   "source": [
    "X = sm.add_constant(X)\n",
    "model = sm.OLS(y, X)\n",
    "results = model.fit()\n",
    "print(results.summary())"
   ]
  },
  {
   "cell_type": "code",
   "execution_count": null,
   "metadata": {},
   "outputs": [],
   "source": []
  },
  {
   "cell_type": "code",
   "execution_count": null,
   "metadata": {},
   "outputs": [],
   "source": [
    "### Sankey Diagrams"
   ]
  },
  {
   "cell_type": "code",
   "execution_count": null,
   "metadata": {},
   "outputs": [],
   "source": [
    "from ipysankeywidget import SankeyWidget\n",
    "from ipywidgets import Layout\n",
    "from ipywidgets import Button, VBox, HBox, Output\n",
    "from IPython.display import display, clear_output\n",
    "\n",
    "cmap = ['red','purple','blue','yellow','black','orange','grey','cyan','brown','green','pink','olive','peru',\n",
    "        'fuchsia', 'chartreuse']\n",
    "\n",
    "def flatten(A):\n",
    "    rt = []\n",
    "    for i in A:\n",
    "        if isinstance(i,list): rt.extend(flatten(i))\n",
    "        else: rt.append(i)\n",
    "    return rt\n",
    "\n",
    "def make_sankey(BES, links, order, first_year, second_year, first_col, second_col,\n",
    "                replace_dict, threshold, colour, fixed_order, scale, nodes, wt_col, groups, group_index):\n",
    "    \n",
    "    crosstab = pd.crosstab(index   = BES[ first_col  ],\n",
    "                           columns = BES[ second_col ],\n",
    "                           values  = BES[ wt_col ],\n",
    "                           aggfunc = sum, dropna = False,\n",
    "                           normalize=True)*scale\n",
    "\n",
    "    if order == []: # initialise\n",
    "        order = [ [[x+first_year]  for x in fixed_order] ]\n",
    "    order.append( [[x+second_year] for x in fixed_order] ) # add new layer\n",
    "    \n",
    "\n",
    "    for col in crosstab.columns:\n",
    "        if col not in replace_dict.keys():\n",
    "            continue        \n",
    "        second_party = replace_dict[ col ]\n",
    "        for ind in crosstab[col].index:\n",
    "            if ind not in replace_dict.keys():\n",
    "                continue\n",
    "            first_party = replace_dict[ ind ]\n",
    "            \n",
    "            if crosstab[col][ind]>threshold:\n",
    "                if colour == []:\n",
    "                    col_to_use = colourmap[first_party]\n",
    "                else:\n",
    "                    col_to_use = cmap[colour]\n",
    "                \n",
    "                node_id_first = first_party+first_year\n",
    "                \n",
    "                # add group if not already present\n",
    "                if first_year not in group_index.keys():\n",
    "                    group_index[first_year] = len(groups)\n",
    "                    groups.append( {'id': first_year, 'title': first_year, 'nodes': []} )\n",
    "                    \n",
    "                if node_id_first not in [x['id'] for x in nodes]:\n",
    "                    nodes.append({'id':node_id_first, 'direction':'l'})\n",
    "                    groups[group_index[first_year]]['nodes'].append(node_id_first)                    \n",
    "                    \n",
    "                node_id_second = second_party+second_year\n",
    "                \n",
    "                # add group if not already present\n",
    "                if second_year not in group_index.keys():\n",
    "                    group_index[second_year] = len(groups)\n",
    "                    groups.append( {'id': second_year, 'title': second_year, 'nodes': []} )                \n",
    "                \n",
    "                if node_id_second not in [x['id'] for x in nodes]:\n",
    "                    nodes.append({'id':node_id_second, 'direction':'l'})\n",
    "                    groups[group_index[second_year]]['nodes'].append(node_id_second)\n",
    "\n",
    "                if colour ==[]:\n",
    "                    d = {'source': node_id_first,\n",
    "                         'target': node_id_second,\n",
    "                         'value': crosstab[col][ind],\n",
    "                         'color': col_to_use}\n",
    "                else:\n",
    "                    d = {'source': node_id_first,\n",
    "                         'target': node_id_second,\n",
    "                         'value': crosstab[col][ind],\n",
    "                         'color': col_to_use,'type' : str(colour)}                    \n",
    "                links.append(d)\n",
    "\n",
    "    return links, order, nodes, groups, group_index\n",
    "\n",
    "def sankify():\n",
    "    colour = []\n",
    "    order  = []\n",
    "    links  = []\n",
    "    # [\"W7\",\"W8\",\"W9\",\"W10\",\"W11\",\"W12\",\"W13\"]\n",
    "    pairs = [(x,im_var+x) for x in wave_list]\n",
    "    scale = 100\n",
    "    nodes = []\n",
    "    wt_col = 'wt_new_W13'\n",
    "    groups = []\n",
    "    group_index = {}\n",
    "    for pair_no in range(0,len(pairs)-1):\n",
    "\n",
    "\n",
    "        (links, order, nodes, groups, group_index) = make_sankey(BES_Panel, links, order,\n",
    "                            pairs[pair_no][0], pairs[pair_no+1][0],\n",
    "                            pairs[pair_no][1], pairs[pair_no+1][1],\n",
    "                            replace_dict, threshold, colour, fixed_order = base_order, scale=scale, nodes=nodes, wt_col = wt_col, groups=groups, group_index=group_index)    \n",
    "\n",
    "    sankey = SankeyWidget(links=links, order=order, nodes=[], groups=groups, margins = margins, scale=diagram_scale, layout=layout)\n",
    "    return sankey\n",
    "\n",
    "def sankify_init_col(): \n",
    "    # sankify with colour sets by initial choice\n",
    "\n",
    "    colour = []\n",
    "    order  = []\n",
    "    links  = []\n",
    "\n",
    "    pairs = [(x,im_var+x) for x in wave_list]\n",
    "    scale = 100\n",
    "    nodes = []\n",
    "    wt_col = 'wt_new_W13'\n",
    "    groups = []\n",
    "    group_index = {}\n",
    "\n",
    "    for party in base_order:\n",
    "        order  = []\n",
    "        BES = BES_immig.loc[ BES_immig[immig_vars[0]]==party ]\n",
    "        scale = 100 * BES.shape[0]/BES_immig.shape[0]\n",
    "        colour = list(colourmap.values()).index( colourmap[replace_dict[party]] )    \n",
    "\n",
    "        for pair_no in range(0,len(pairs)-1):\n",
    "\n",
    "            (links, order, nodes, groups, group_index) = make_sankey(BES, links, order,\n",
    "                                pairs[pair_no][0], pairs[pair_no+1][0],\n",
    "                                pairs[pair_no][1], pairs[pair_no+1][1],\n",
    "                                replace_dict, threshold, colour, fixed_order = base_order,\n",
    "                                scale=scale, nodes=nodes, wt_col = wt_col, groups=groups, group_index=group_index)    \n",
    "\n",
    "    sankey = SankeyWidget(layout=layout,links=links, order=order, nodes=[], groups=groups, margins = margins, scale=diagram_scale)\n",
    "    return sankey"
   ]
  },
  {
   "cell_type": "code",
   "execution_count": null,
   "metadata": {},
   "outputs": [],
   "source": [
    "# immigSelf W7W8W9W10W11W12W13\n",
    "im_var = \"immigSelf\"\n",
    "\n",
    "immig_vars = [x for x in BES_Panel.columns if im_var in x]\n",
    "wave_list = [x.split(im_var)[1] for x in immig_vars]\n",
    "immig_vars.append('wt_new_W13')\n",
    "BES_immig = BES_Panel[immig_vars]\n",
    "replace_dict = {x:x for x in BES_immig[immig_vars[0]].cat.categories}\n",
    "colourmap = {BES_immig[immig_vars[0]].cat.categories[x]:cmap[x] for x in range(0, len( BES_immig[immig_vars[0]].cat.categories)) } \n",
    "base_order = BES_immig[immig_vars[0]].cat.categories\n",
    "\n",
    "# specific problem with the last two waves not overlapping the prior data!\n",
    "wave_list = ['W7', 'W8', 'W9', 'W10', 'W11',]"
   ]
  },
  {
   "cell_type": "code",
   "execution_count": null,
   "metadata": {},
   "outputs": [],
   "source": [
    "threshold = 0.5\n",
    "margins=dict(top=30, bottom=10, left=150, right=150)\n",
    "layout = Layout(width=\"1000\", height=\"650\")\n",
    "diagram_scale=2\n",
    "sankey = sankify()\n",
    "sankey.auto_save_png(BES_output_folder+os.sep+\"SankeyDiagrams\"+os.sep+\"immigSelf_sankey.png\")"
   ]
  }
 ],
 "metadata": {
  "anaconda-cloud": {},
  "kernelspec": {
   "display_name": "Python 3 (ipykernel)",
   "language": "python",
   "name": "python3"
  },
  "language_info": {
   "codemirror_mode": {
    "name": "ipython",
    "version": 3
   },
   "file_extension": ".py",
   "mimetype": "text/x-python",
   "name": "python",
   "nbconvert_exporter": "python",
   "pygments_lexer": "ipython3",
   "version": "3.9.19"
  }
 },
 "nbformat": 4,
 "nbformat_minor": 2
}
