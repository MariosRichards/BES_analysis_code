{
 "cells": [
  {
   "cell_type": "code",
   "execution_count": 202,
   "metadata": {},
   "outputs": [],
   "source": [
    "import numpy as np\n",
    "import pandas as pd\n",
    "%matplotlib inline\n",
    "import matplotlib.pyplot as plt\n",
    "import gc\n",
    "import re\n",
    "\n",
    "from itertools import cycle\n",
    "from IPython.display import display\n",
    "import pickle, os\n",
    "\n",
    "import seaborn as sns\n",
    "\n",
    "encoding = \"ISO-8859-1\"\n",
    "\n",
    "import Jupyter_module_loader"
   ]
  },
  {
   "cell_type": "code",
   "execution_count": 203,
   "metadata": {},
   "outputs": [],
   "source": [
    "# you should clone this git to this subdirectory (in some directory - I call it BES_analysis - doesn't matter though)\n",
    "\n",
    "if os.getcwd().split(os.sep)[-1] != 'BES_analysis_code':\n",
    "    raise Exception(\"Stop! You're in the wrong directory - should be in 'BES_analysis_code'\")\n",
    "\n",
    "BES_code_folder   = \"../BES_analysis_code/\" # we should be here!\n",
    "BES_small_data_files = BES_code_folder + \"small data files\" + os.sep\n",
    "if not os.path.exists( BES_small_data_files ):\n",
    "    os.makedirs( BES_small_data_files )\n",
    "\n",
    "# we should create these if they don't already exist\n",
    "BES_data_folder   = \"../BES_analysis_data/\"\n",
    "if not os.path.exists( BES_data_folder ):\n",
    "    os.makedirs( BES_data_folder )\n",
    "\n",
    "BES_output_folder = \"../BES_analysis_output/\"\n",
    "if not os.path.exists( BES_output_folder ):\n",
    "    os.makedirs( BES_output_folder )\n",
    "    \n",
    "BES_file_manifest = pd.read_csv( BES_small_data_files + \"BES_file_manifest.csv\" )\n",
    "\n",
    "BES_R_data_files = BES_data_folder + \"R_data\" + os.sep\n",
    "if not os.path.exists( BES_R_data_files ):\n",
    "    os.makedirs( BES_R_data_files )\n"
   ]
  },
  {
   "cell_type": "code",
   "execution_count": 204,
   "metadata": {},
   "outputs": [],
   "source": [
    "from sklearn import datasets\n",
    "from sklearn.decomposition import PCA, IncrementalPCA, NMF, TruncatedSVD, FastICA, FactorAnalysis, SparsePCA\n",
    "from sklearn.preprocessing import StandardScaler\n",
    "from sklearn.discriminant_analysis import LinearDiscriminantAnalysis\n",
    "\n",
    "from gaussian_kde import gaussian_kde\n",
    "from utility import display_components, display_pca_data, weighted_kde"
   ]
  },
  {
   "cell_type": "code",
   "execution_count": 205,
   "metadata": {},
   "outputs": [],
   "source": [
    "dataset_name = \"W13_comb\""
   ]
  },
  {
   "cell_type": "code",
   "execution_count": 206,
   "metadata": {},
   "outputs": [
    {
     "name": "stdout",
     "output_type": "stream",
     "text": [
      "BES_Panel (68625, 5150)\n",
      "BES_numeric (68625, 4969)\n",
      "var_type (5150, 13)\n",
      "BES_non_numeric (68625, 126)\n",
      "BES_reduced (68625, 2572)\n",
      "BES_reduced_with_na (68625, 2572)\n",
      "Wall time: 17min 33s\n"
     ]
    }
   ],
   "source": [
    "%%time\n",
    "\n",
    "manifest = BES_file_manifest[ BES_file_manifest[\"Name\"] == dataset_name ]\n",
    "\n",
    "data_subfolder = BES_data_folder + dataset_name + os.sep\n",
    "\n",
    "dataset_filename = manifest[\"Stata_Filename\"].values[0]\n",
    "# dataset_description = manifest[\"Friendlier_Description\"].values[0]\n",
    "# dataset_citation = manifest[\"Citation\"].values[0]\n",
    "# dataset_start = manifest[\"Date_Start\"].values[0]\n",
    "# dataset_stop = manifest[\"Date_Stop\"].values[0]\n",
    "# dataset_wave = manifest[\"Wave No\"].values[0]\n",
    "\n",
    "BES_Panel = pd.read_stata( data_subfolder + dataset_filename )\n",
    "print(\"BES_Panel\", BES_Panel.shape )\n",
    "\n",
    "####\n",
    "\n",
    "BES_numeric = pd.read_hdf( data_subfolder + \"BESnumeric.hdf\", \"BESnumeric\" )\n",
    "print(\"BES_numeric\",  BES_numeric.shape )\n",
    "\n",
    "var_type    = pd.read_csv( data_subfolder + \"var_type.csv\", encoding=encoding)\n",
    "var_type.set_index(\"Unnamed: 0\", inplace=True)\n",
    "print(\"var_type\",  var_type.shape )\n",
    "\n",
    "fname = data_subfolder + \"cat_dictionary.pkl\"\n",
    "with open(fname, \"rb\") as f:\n",
    "    cat_dictionary = pickle.load( f )\n",
    "    \n",
    "####\n",
    "\n",
    "BES_non_numeric = pd.read_hdf( data_subfolder + \"BESnon_numeric.hdf\", \"BESnon_numeric\" )\n",
    "print(\"BES_non_numeric\",  BES_non_numeric.shape )\n",
    "\n",
    "BES_reduced = pd.read_hdf( data_subfolder + \"BES_reduced.hdf\", \"BES_reduced\" )\n",
    "print(\"BES_reduced\",  BES_reduced.shape )\n",
    "\n",
    "BES_reduced_with_na = pd.read_hdf( data_subfolder + \"BES_reduced_with_na.hdf\", \"BES_reduced_with_na\")\n",
    "print(\"BES_reduced_with_na\", BES_reduced_with_na.shape )\n",
    "\n",
    "fname = data_subfolder + \"new_old_col_names.pkl\"\n",
    "with open(fname, \"rb\") as f:\n",
    "    new_old_col_names = pickle.load(f) "
   ]
  },
  {
   "cell_type": "code",
   "execution_count": null,
   "metadata": {},
   "outputs": [],
   "source": [
    "## Support for different types of immigration by wave"
   ]
  },
  {
   "cell_type": "code",
   "execution_count": null,
   "metadata": {},
   "outputs": [],
   "source": [
    "wave_dates = BES_file_manifest[ BES_file_manifest[\"Only_or_Combined\"] == \"Only\" ][[\"Wave No\",\"Date_Start\"]]\n",
    "wave_dates[\"Wave No\"] = wave_dates[\"Wave No\"].apply(lambda x: \"W\"+str(x))\n",
    "wave_dates = wave_dates.set_index(\"Wave No\")\n",
    "# Corbyn_over_time_sns[\"likeCorbyn\"] = Corbyn_over_time_sns[\"likeCorbyn\"].apply(lambda x: wave_dates.loc[x].values[0])"
   ]
  },
  {
   "cell_type": "code",
   "execution_count": null,
   "metadata": {},
   "outputs": [],
   "source": [
    "stacked = BES_reduced_with_na[[x for x in BES_reduced.columns if re.search(\"[^_]More\", x)]].stack()\n",
    "stacked = stacked.reset_index().drop(\"level_0\",axis=1)\n",
    "stacked[\"wave\"] = [re.search(\"More(W\\d+)__\"   ,x).groups(0)[0] for x in stacked[\"level_1\"]]\n",
    "stacked[\"type\"] = [re.search(\"([a-zA-Z]+)More\"   ,x).groups(0)[0] for x in stacked[\"level_1\"]]\n",
    "stacked = stacked.drop(\"level_1\",axis=1)\n",
    "stacked.columns = ['preference', 'wave', 'type']\n",
    "\n",
    "stacked[\"wave\"] = stacked[\"wave\"].apply(lambda x: wave_dates.loc[x].values[0])"
   ]
  },
  {
   "cell_type": "code",
   "execution_count": null,
   "metadata": {},
   "outputs": [],
   "source": [
    "plt.figure(figsize=(10,6))\n",
    "sns.pointplot(data=stacked, x= 'wave', y='preference', hue='type');\n",
    "plt.title(\"Do you think that Britain should allow more or fewer of the following kinds of people to come and live in Britain?\"\\\n",
    "         +\"\\n0 = Many fewer, 10 = Many more\")\n",
    "plt.xlabel(\"waves\");\n",
    "plt.savefig(BES_output_folder + \"W13_comb_imm_corr\" + os.sep + \"immigMoreLessPrefByType\" + \".png\");"
   ]
  },
  {
   "cell_type": "code",
   "execution_count": null,
   "metadata": {},
   "outputs": [],
   "source": [
    "###########################################"
   ]
  },
  {
   "cell_type": "code",
   "execution_count": null,
   "metadata": {},
   "outputs": [],
   "source": []
  },
  {
   "cell_type": "code",
   "execution_count": null,
   "metadata": {},
   "outputs": [],
   "source": []
  },
  {
   "cell_type": "code",
   "execution_count": 227,
   "metadata": {},
   "outputs": [],
   "source": [
    "first_im_var = \"immigEconW8\"\n",
    "second_im_var = \"immigEconW10\"\n",
    "\n",
    "imm_skeptic_option = BES_Panel[first_im_var].cat.categories[0]\n",
    "# imm_skeptic_option = BES_Panel[first_im_var].cat.categories[4] # for changeImmig, immigrantsWelfareState\n",
    "\n",
    "ImmBadW8 = (BES_Panel[first_im_var]==imm_skeptic_option) & (BES_Panel[second_im_var].notnull())\n",
    "ChangedMind = BES_Panel[ImmBadW8][second_im_var] != imm_skeptic_option\n",
    "ChangedMind.value_counts()\n",
    "BES_imm = BES_reduced[ImmBadW8].copy()\n",
    "BES_imm[\"ChangedMind_on_immigEcon\"] = ChangedMind.values.astype('float')\n",
    "BES_imm[\"genImmigSentiment\"] = genImmigSentiment[ImmBadW8].values\n",
    "imm_corr = BES_imm.corrwith(ChangedMind).sort_values().dropna()"
   ]
  },
  {
   "cell_type": "code",
   "execution_count": null,
   "metadata": {},
   "outputs": [],
   "source": []
  },
  {
   "cell_type": "code",
   "execution_count": 228,
   "metadata": {},
   "outputs": [
    {
     "name": "stdout",
     "output_type": "stream",
     "text": [
      "immigEconW8_Bad for economy -> not immigEconW10_Bad for economy\n"
     ]
    },
    {
     "data": {
      "text/html": [
       "<div>\n",
       "<style scoped>\n",
       "    .dataframe tbody tr th:only-of-type {\n",
       "        vertical-align: middle;\n",
       "    }\n",
       "\n",
       "    .dataframe tbody tr th {\n",
       "        vertical-align: top;\n",
       "    }\n",
       "\n",
       "    .dataframe thead th {\n",
       "        text-align: right;\n",
       "    }\n",
       "</style>\n",
       "<table border=\"1\" class=\"dataframe\">\n",
       "  <thead>\n",
       "    <tr style=\"text-align: right;\">\n",
       "      <th></th>\n",
       "      <th>top30 negative</th>\n",
       "      <th>correlation</th>\n",
       "      <th>top30 positive</th>\n",
       "      <th>correlation</th>\n",
       "    </tr>\n",
       "  </thead>\n",
       "  <tbody>\n",
       "    <tr>\n",
       "      <th>0</th>\n",
       "      <td>immigrantsWelfareStateW10__Strongly agree</td>\n",
       "      <td>-0.257794</td>\n",
       "      <td>ChangedMind_on_immigEcon</td>\n",
       "      <td>1</td>\n",
       "    </tr>\n",
       "    <tr>\n",
       "      <th>1</th>\n",
       "      <td>euPriorityBalanceW10__Control immigration</td>\n",
       "      <td>-0.247943</td>\n",
       "      <td>immigEconW10__Good for economy</td>\n",
       "      <td>0.793556</td>\n",
       "    </tr>\n",
       "    <tr>\n",
       "      <th>2</th>\n",
       "      <td>euPriorityBalanceW13__Control immigration</td>\n",
       "      <td>-0.225594</td>\n",
       "      <td>immigCulturalW10__Enriches cultural life</td>\n",
       "      <td>0.460466</td>\n",
       "    </tr>\n",
       "    <tr>\n",
       "      <th>3</th>\n",
       "      <td>overseasAidW10__Strongly agree</td>\n",
       "      <td>-0.211205</td>\n",
       "      <td>genImmigSentiment</td>\n",
       "      <td>0.42032</td>\n",
       "    </tr>\n",
       "    <tr>\n",
       "      <th>4</th>\n",
       "      <td>euPriorityBalanceW11__Control immigration</td>\n",
       "      <td>-0.205929</td>\n",
       "      <td>immigEconW11__Good for economy</td>\n",
       "      <td>0.333705</td>\n",
       "    </tr>\n",
       "    <tr>\n",
       "      <th>5</th>\n",
       "      <td>immigrantsWelfareStateW11__Strongly agree</td>\n",
       "      <td>-0.203338</td>\n",
       "      <td>immigEconW13__Good for economy</td>\n",
       "      <td>0.303069</td>\n",
       "    </tr>\n",
       "    <tr>\n",
       "      <th>6</th>\n",
       "      <td>ukCoopMovementW10__Bad for Britain</td>\n",
       "      <td>-0.198209</td>\n",
       "      <td>immigCulturalW11__Enriches cultural life</td>\n",
       "      <td>0.256869</td>\n",
       "    </tr>\n",
       "    <tr>\n",
       "      <th>7</th>\n",
       "      <td>euPriorityBalanceW12__Control immigration</td>\n",
       "      <td>-0.192086</td>\n",
       "      <td>euMoreW13__Many more</td>\n",
       "      <td>0.239954</td>\n",
       "    </tr>\n",
       "    <tr>\n",
       "      <th>8</th>\n",
       "      <td>blackEqualityW6_W12__Gone much too far</td>\n",
       "      <td>-0.182259</td>\n",
       "      <td>immigCulturalW13__Enriches cultural life</td>\n",
       "      <td>0.239284</td>\n",
       "    </tr>\n",
       "    <tr>\n",
       "      <th>9</th>\n",
       "      <td>immigrantsWelfareStateW7__Strongly agree</td>\n",
       "      <td>-0.180171</td>\n",
       "      <td>immigSelfW10__Allow many more</td>\n",
       "      <td>0.237754</td>\n",
       "    </tr>\n",
       "    <tr>\n",
       "      <th>10</th>\n",
       "      <td>harkBackW10__Strongly agree</td>\n",
       "      <td>-0.176348</td>\n",
       "      <td>asylumMoreW13__Many more</td>\n",
       "      <td>0.222985</td>\n",
       "    </tr>\n",
       "    <tr>\n",
       "      <th>11</th>\n",
       "      <td>populism1W10__Strongly agree</td>\n",
       "      <td>-0.176029</td>\n",
       "      <td>studentsMoreW13__Many more</td>\n",
       "      <td>0.210493</td>\n",
       "    </tr>\n",
       "    <tr>\n",
       "      <th>12</th>\n",
       "      <td>ptvUKIPW10__Very likely</td>\n",
       "      <td>-0.175586</td>\n",
       "      <td>familiesMoreW13__Many more</td>\n",
       "      <td>0.207655</td>\n",
       "    </tr>\n",
       "    <tr>\n",
       "      <th>13</th>\n",
       "      <td>benefitsToMigrantsW7__Never</td>\n",
       "      <td>-0.172209</td>\n",
       "      <td>immigEconW7__Good for economy</td>\n",
       "      <td>0.204136</td>\n",
       "    </tr>\n",
       "    <tr>\n",
       "      <th>14</th>\n",
       "      <td>populism2W10__Strongly agree</td>\n",
       "      <td>-0.169828</td>\n",
       "      <td>noneuMoreW13__Many more</td>\n",
       "      <td>0.195535</td>\n",
       "    </tr>\n",
       "    <tr>\n",
       "      <th>15</th>\n",
       "      <td>harkBackW7__Strongly agree</td>\n",
       "      <td>-0.169618</td>\n",
       "      <td>immigSelfW11__Allow many more</td>\n",
       "      <td>0.195305</td>\n",
       "    </tr>\n",
       "    <tr>\n",
       "      <th>16</th>\n",
       "      <td>likeUKIPW10__Strongly like</td>\n",
       "      <td>-0.168392</td>\n",
       "      <td>warmAsianW11__Very warm</td>\n",
       "      <td>0.184964</td>\n",
       "    </tr>\n",
       "    <tr>\n",
       "      <th>17</th>\n",
       "      <td>bestOnMIIW11_United Kingdom Independence Party...</td>\n",
       "      <td>-0.168316</td>\n",
       "      <td>euMoreW7__Many more</td>\n",
       "      <td>0.171593</td>\n",
       "    </tr>\n",
       "    <tr>\n",
       "      <th>18</th>\n",
       "      <td>changeImmigW11__Getting a lot higher</td>\n",
       "      <td>-0.165728</td>\n",
       "      <td>familiesMoreW7__Many more</td>\n",
       "      <td>0.171544</td>\n",
       "    </tr>\n",
       "    <tr>\n",
       "      <th>19</th>\n",
       "      <td>overseasAidW11__Strongly agree</td>\n",
       "      <td>-0.163181</td>\n",
       "      <td>immigCulturalW7__Enriches cultural life</td>\n",
       "      <td>0.169324</td>\n",
       "    </tr>\n",
       "  </tbody>\n",
       "</table>\n",
       "</div>"
      ],
      "text/plain": [
       "                                       top30 negative correlation  \\\n",
       "0           immigrantsWelfareStateW10__Strongly agree   -0.257794   \n",
       "1           euPriorityBalanceW10__Control immigration   -0.247943   \n",
       "2           euPriorityBalanceW13__Control immigration   -0.225594   \n",
       "3                      overseasAidW10__Strongly agree   -0.211205   \n",
       "4           euPriorityBalanceW11__Control immigration   -0.205929   \n",
       "5           immigrantsWelfareStateW11__Strongly agree   -0.203338   \n",
       "6                  ukCoopMovementW10__Bad for Britain   -0.198209   \n",
       "7           euPriorityBalanceW12__Control immigration   -0.192086   \n",
       "8              blackEqualityW6_W12__Gone much too far   -0.182259   \n",
       "9            immigrantsWelfareStateW7__Strongly agree   -0.180171   \n",
       "10                        harkBackW10__Strongly agree   -0.176348   \n",
       "11                       populism1W10__Strongly agree   -0.176029   \n",
       "12                            ptvUKIPW10__Very likely   -0.175586   \n",
       "13                        benefitsToMigrantsW7__Never   -0.172209   \n",
       "14                       populism2W10__Strongly agree   -0.169828   \n",
       "15                         harkBackW7__Strongly agree   -0.169618   \n",
       "16                         likeUKIPW10__Strongly like   -0.168392   \n",
       "17  bestOnMIIW11_United Kingdom Independence Party...   -0.168316   \n",
       "18               changeImmigW11__Getting a lot higher   -0.165728   \n",
       "19                     overseasAidW11__Strongly agree   -0.163181   \n",
       "\n",
       "                              top30 positive correlation  \n",
       "0                   ChangedMind_on_immigEcon           1  \n",
       "1             immigEconW10__Good for economy    0.793556  \n",
       "2   immigCulturalW10__Enriches cultural life    0.460466  \n",
       "3                          genImmigSentiment     0.42032  \n",
       "4             immigEconW11__Good for economy    0.333705  \n",
       "5             immigEconW13__Good for economy    0.303069  \n",
       "6   immigCulturalW11__Enriches cultural life    0.256869  \n",
       "7                       euMoreW13__Many more    0.239954  \n",
       "8   immigCulturalW13__Enriches cultural life    0.239284  \n",
       "9              immigSelfW10__Allow many more    0.237754  \n",
       "10                  asylumMoreW13__Many more    0.222985  \n",
       "11                studentsMoreW13__Many more    0.210493  \n",
       "12                familiesMoreW13__Many more    0.207655  \n",
       "13             immigEconW7__Good for economy    0.204136  \n",
       "14                   noneuMoreW13__Many more    0.195535  \n",
       "15             immigSelfW11__Allow many more    0.195305  \n",
       "16                   warmAsianW11__Very warm    0.184964  \n",
       "17                       euMoreW7__Many more    0.171593  \n",
       "18                 familiesMoreW7__Many more    0.171544  \n",
       "19   immigCulturalW7__Enriches cultural life    0.169324  "
      ]
     },
     "metadata": {},
     "output_type": "display_data"
    }
   ],
   "source": [
    "rows = 20\n",
    "reasonable_table = pd.DataFrame([imm_corr.head(rows).index,\n",
    "                                 imm_corr.head(rows).values,\n",
    "                                 reversed(imm_corr.tail(rows).index),\n",
    "                                 reversed(imm_corr.tail(rows).values)]).T\n",
    "reasonable_table.columns = [\"top30 negative\",\"correlation\",\"top30 positive\",\"correlation\"]\n",
    "\n",
    "print(first_im_var +\"_\"+imm_skeptic_option +\" -> not \" + second_im_var+\"_\"+imm_skeptic_option)\n",
    "display(reasonable_table)\n",
    "# from pandas.tools.plotting import table\n",
    "# # plt.figure(figsize=(10,10))\n",
    "# ax = plt.subplot(111, frame_on=False) # no visible frame\n",
    "# ax.xaxis.set_visible(False)  # hide the x axis\n",
    "# ax.yaxis.set_visible(False)  # hide the y axis\n",
    "\n",
    "# table(ax, reasonable_table)  # where df is your data frame\n",
    "# # plt.title(first_im_var + \" -> \" + second_im_var)\n",
    "# plt.savefig('mytable.png')"
   ]
  },
  {
   "cell_type": "code",
   "execution_count": 231,
   "metadata": {},
   "outputs": [
    {
     "data": {
      "text/plain": [
       "controlImmigW9__Complete control    -0.132558\n",
       "controlImmigW10__Complete control   -0.067708\n",
       "controlImmigW11__Complete control   -0.070223\n",
       "controlImmigW13__Complete control   -0.089831\n",
       "dtype: float64"
      ]
     },
     "execution_count": 231,
     "metadata": {},
     "output_type": "execute_result"
    }
   ],
   "source": [
    "imm_corr.loc[[x for x in BES_reduced if re.match(\"controlImmigW\\d\",x)]]"
   ]
  },
  {
   "cell_type": "code",
   "execution_count": 229,
   "metadata": {},
   "outputs": [
    {
     "data": {
      "text/plain": [
       "changeImmigW1__Getting a lot higher    -0.062428\n",
       "changeImmigW2__Getting a lot higher    -0.064341\n",
       "changeImmigW3__Getting a lot higher    -0.066230\n",
       "changeImmigW4__Getting a lot higher    -0.085566\n",
       "changeImmigW7__Getting a lot higher    -0.091137\n",
       "changeImmigW8__Getting a lot higher    -0.063702\n",
       "changeImmigW10__Getting a lot higher   -0.144731\n",
       "changeImmigW11__Getting a lot higher   -0.165728\n",
       "dtype: float64"
      ]
     },
     "execution_count": 229,
     "metadata": {},
     "output_type": "execute_result"
    }
   ],
   "source": [
    "imm_corr.loc[[x for x in BES_reduced if re.match(\"changeImmigW\\d\",x)]]"
   ]
  },
  {
   "cell_type": "code",
   "execution_count": 230,
   "metadata": {},
   "outputs": [
    {
     "data": {
      "text/plain": [
       "euRefCertaintyW8__Completely certain                                -0.071148\n",
       "euRefDoOverW10_Yes                                                   0.113155\n",
       "euRefDoOverW11_Yes                                                   0.087049\n",
       "euRefDoOverW13_Yes                                                   0.065975\n",
       "euRefExpectationW7__100 - UK will definitely vote to leave the EU   -0.064467\n",
       "euRefExpectationW8__100 - UK will definitely vote to leave the EU   -0.080740\n",
       "euRefFinalPostW9_Yes                                                 0.149112\n",
       "euRefFinalW7_There might be a second referendum                      0.001334\n",
       "euRefFinalW8_There might be a second referendum                      0.017362\n",
       "euRefInterestW7__Very interested                                    -0.006822\n",
       "euRefInterestW8__Very interested                                    -0.034831\n",
       "euRefTurnoutRetroW11_Yes                                            -0.003252\n",
       "euRefTurnoutRetroW12_Yes                                             0.005896\n",
       "euRefTurnoutRetroW13_Yes                                             0.016777\n",
       "euRefTurnoutW7__Very likely that I will vote                        -0.002435\n",
       "euRefTurnoutW8__Very likely that I will vote                         0.002038\n",
       "euRefVoteW10_Leave the EU                                           -0.122308\n",
       "euRefVoteW12_Leave the EU                                           -0.077713\n",
       "euRefVoteW1_Leave the EU                                            -0.017438\n",
       "euRefVoteW3_Leave the EU                                            -0.042740\n",
       "euRefVoteW4_Leave the EU                                            -0.046440\n",
       "euRefVoteW6_Leave the EU                                            -0.067209\n",
       "euRefVoteW7_Leave the EU                                            -0.093827\n",
       "euRefVoteW8_Leave the EU                                            -0.052109\n",
       "dtype: float64"
      ]
     },
     "execution_count": 230,
     "metadata": {},
     "output_type": "execute_result"
    }
   ],
   "source": [
    "imm_corr.loc[[x for x in BES_reduced if \"euRef\" in x]].sort_index()"
   ]
  },
  {
   "cell_type": "code",
   "execution_count": 232,
   "metadata": {},
   "outputs": [],
   "source": [
    "Treatment = \"AntiImmigrantThaw\"\n",
    "output_subfolder = BES_output_folder + Treatment + os.sep\n",
    "if not os.path.exists( output_subfolder ):\n",
    "    os.makedirs( output_subfolder )"
   ]
  },
  {
   "cell_type": "code",
   "execution_count": 233,
   "metadata": {},
   "outputs": [
    {
     "name": "stdout",
     "output_type": "stream",
     "text": [
      "Wall time: 3min 1s\n"
     ]
    },
    {
     "data": {
      "image/png": "[encoded data removed]",
      "text/plain": [
       "<Figure size 720x432 with 1 Axes>"
      ]
     },
     "metadata": {},
     "output_type": "display_data"
    },
    {
     "data": {
      "image/png": "[encoded data removed]",
      "text/plain": [
       "<Figure size 720x432 with 1 Axes>"
      ]
     },
     "metadata": {},
     "output_type": "display_data"
    },
    {
     "data": {
      "image/png": "[encoded data removed]",
      "text/plain": [
       "<Figure size 720x432 with 1 Axes>"
      ]
     },
     "metadata": {},
     "output_type": "display_data"
    },
    {
     "data": {
      "image/png": "[encoded data removed]",
      "text/plain": [
       "<Figure size 720x432 with 1 Axes>"
      ]
     },
     "metadata": {},
     "output_type": "display_data"
    }
   ],
   "source": [
    "%%time\n",
    "clean_feature_set_std = StandardScaler().fit_transform(BES_imm.values )\n",
    "BES_std = pd.DataFrame(      clean_feature_set_std,\n",
    "                             columns = BES_imm.columns,\n",
    "                             index   = BES_imm.index      )\n",
    "\n",
    "\n",
    "n_components = BES_std.shape[1]\n",
    "n_components = 4\n",
    "\n",
    "# decomp = LinearDiscriminantAnalysis() ## ~10s ,n_components=30 -> 1.5 hrs\n",
    "decomp = FactorAnalysis(svd_method = 'lapack',n_components = n_components) ## ~10s ,n_components=30 -> 1.5 hrs\n",
    "decomp_method = str(decomp).split(\"(\")[0] \n",
    "\n",
    "X_r = decomp.fit_transform(BES_std, ChangedMind)\n",
    "\n",
    "BES_decomp = pd.DataFrame(   X_r,\n",
    "                             columns = range(0,n_components),\n",
    "                             index   = BES_std.index)\n",
    "\n",
    "load_suff = \"Factor Analysis\"\n",
    "save = True # False => Load\n",
    "\n",
    "if save & ( 'decomp' in globals() ): # SAVE    ##( 'decomp' not in globals() )\n",
    "    decomp_method = str(decomp).split(\"(\")[0] \n",
    "    subdir = output_subfolder + decomp_method\n",
    "    fname = subdir+ os.sep + decomp_method\n",
    "    # create dir, save decomp object, BES_decomp, BES_std    \n",
    "    if not os.path.exists(subdir): os.makedirs(subdir)\n",
    "    with open(fname+\".pkl\", \"wb\") as f: pickle.dump( decomp, f )\n",
    "    BES_decomp.to_hdf(fname+\".hdf\"        , decomp_method)\n",
    "    BES_std.to_hdf(   fname+\"_std\"+\".hdf\" , decomp_method)\n",
    "    \n",
    "else: # LOAD decomp results (default is SAVE)\n",
    "    decomp_method = load_suff\n",
    "    subdir = output_subfolder + os.sep + decomp_method    \n",
    "    fname = subdir + os.sep + decomp_method\n",
    "    if not os.path.exists(subdir): raise Exception(subdir + ' does not exist!')\n",
    "    # load decomp object, BES_decomp, BES_std, n_components\n",
    "    with open(fname+\".pkl\", \"rb\") as f: decomp = pickle.load(f) \n",
    "    BES_decomp = pd.read_hdf(fname+\".hdf\")\n",
    "    BES_std    = pd.read_hdf(fname+\"_std\"+\".hdf\")\n",
    "    n_components = decomp.components_.shape[0] \n",
    "    \n",
    "(BES_decomp, comp_labels, comp_dict) = display_components(n_components, decomp,\n",
    "                                                          BES_std.columns, BES_decomp, manifest, \n",
    "                                                          save_folder = subdir,  \n",
    "                                                          show_first_x_comps= 14, show_histogram = False)    "
   ]
  },
  {
   "cell_type": "code",
   "execution_count": null,
   "metadata": {},
   "outputs": [],
   "source": [
    "# bleh - boring!"
   ]
  },
  {
   "cell_type": "code",
   "execution_count": null,
   "metadata": {},
   "outputs": [],
   "source": [
    "# BayesNet on ImmBad people?"
   ]
  },
  {
   "cell_type": "code",
   "execution_count": 252,
   "metadata": {},
   "outputs": [],
   "source": [
    "BES_imm[\"genImmigSentiment\"] = pd.qcut(BES_imm[\"genImmigSentiment\"],10,range(0,10))"
   ]
  },
  {
   "cell_type": "code",
   "execution_count": 3,
   "metadata": {},
   "outputs": [],
   "source": [
    "# BES_export_to_R = BES_imm.apply(lambda x: x.astype('category'))\n",
    "# BES_export_to_R = BES_export_to_R.apply(lambda x: x.cat.remove_unused_categories())\n",
    "# BES_export_to_R = BES_export_to_R.apply(lambda x: x.cat.codes)\n",
    "# BES_export_to_R = BES_export_to_R.replace(-1,np.nan)\n",
    "# levels = BES_export_to_R.apply(lambda x: len(x.value_counts()))\n",
    "# BES_export_to_R.drop(levels[levels==1].index,axis=1,inplace=True)\n",
    "\n",
    "# filename = Treatment+\"_export_to_R\"\n",
    "\n",
    "# BES_export_to_R.to_stata(BES_R_data_files + filename + \".dta\");\n",
    "# display(filename)"
   ]
  },
  {
   "cell_type": "code",
   "execution_count": 260,
   "metadata": {},
   "outputs": [
    {
     "data": {
      "text/plain": [
       "7"
      ]
     },
     "execution_count": 260,
     "metadata": {},
     "output_type": "execute_result"
    }
   ],
   "source": [
    "# v slow with this many variables - maybe try some regression models to reduce them?\n",
    "# Regression!"
   ]
  },
  {
   "cell_type": "code",
   "execution_count": 352,
   "metadata": {},
   "outputs": [],
   "source": [
    "from sklearn import preprocessing\n",
    "from sklearn.linear_model import LogisticRegression\n",
    "from sklearn.feature_selection import RFE\n",
    "import statsmodels.api as sm\n",
    "from sklearn.preprocessing import StandardScaler\n",
    "from sklearn import datasets\n",
    "from statsmodels.stats.outliers_influence import variance_inflation_factor  \n",
    "def calculate_vif_(X):\n",
    "    variables = list(X.columns)\n",
    "    vif = {variable:variance_inflation_factor(exog=X.values, exog_idx=ix) for ix,variable in enumerate(list(X.columns))}\n",
    "    return vif\n",
    "from scipy import stats\n",
    "stats.chisqprob = lambda chisq, df: stats.chi2.sf(chisq, df)"
   ]
  },
  {
   "cell_type": "code",
   "execution_count": null,
   "metadata": {},
   "outputs": [],
   "source": [
    "# try with just top 500 correlations!"
   ]
  },
  {
   "cell_type": "code",
   "execution_count": 307,
   "metadata": {},
   "outputs": [],
   "source": [
    "BES_imm = BES_reduced[ImmBadW8].copy()\n",
    "BES_imm[\"ChangedMind_on_immigEcon\"] = ChangedMind.values.astype('float')\n",
    "BES_imm[\"genImmigSentiment\"] = genImmigSentiment[ImmBadW8].values\n",
    "y = BES_imm[\"ChangedMind_on_immigEcon\"]\n",
    "X = BES_imm[imm_corr.abs().sort_values(ascending=False).index[0:2572]].drop(\"ChangedMind_on_immigEcon\",axis=1)\n",
    "X = pd.DataFrame( preprocessing.normalize(X, norm='l2'), columns = X.columns, index = X.index)"
   ]
  },
  {
   "cell_type": "code",
   "execution_count": 308,
   "metadata": {},
   "outputs": [
    {
     "name": "stdout",
     "output_type": "stream",
     "text": [
      "[ True  True False ... False  True  True]\n",
      "[  1   1 941 ... 416   1   1]\n",
      "Wall time: 23min 40s\n"
     ]
    }
   ],
   "source": [
    "%%time\n",
    "logreg = LogisticRegression()\n",
    "rfe = RFE(logreg) # , n_features_to_select = 50 # default is 'half'\n",
    "rfe = rfe.fit(X, y )\n",
    "print(rfe.support_)\n",
    "print(rfe.ranking_)"
   ]
  },
  {
   "cell_type": "code",
   "execution_count": 329,
   "metadata": {},
   "outputs": [],
   "source": [
    "# 100 : 2s\n",
    "# 200 : 10s\n",
    "# 300 : 25s\n",
    "# 400 : 40s\n",
    "# 500: 73s\n",
    "# 600: 101s\n",
    "# 800: 204s\n",
    "# 1000: 315s\n",
    "# 2572: 1420s"
   ]
  },
  {
   "cell_type": "code",
   "execution_count": 301,
   "metadata": {},
   "outputs": [
    {
     "data": {
      "text/plain": [
       "[<matplotlib.lines.Line2D at 0x2162ab70>]"
      ]
     },
     "execution_count": 301,
     "metadata": {},
     "output_type": "execute_result"
    },
    {
     "data": {
      "image/png": "[encoded data removed]",
      "text/plain": [
       "<Figure size 432x288 with 1 Axes>"
      ]
     },
     "metadata": {},
     "output_type": "display_data"
    }
   ],
   "source": [
    "plt.plot([100,200,300,400,500,600,800,1000],[2,10,25,40,73,101,204,315])"
   ]
  },
  {
   "cell_type": "code",
   "execution_count": 340,
   "metadata": {},
   "outputs": [],
   "source": [
    "oldref = rfe\n",
    "old_columns = X.columns[rfe.support_]"
   ]
  },
  {
   "cell_type": "code",
   "execution_count": 372,
   "metadata": {},
   "outputs": [],
   "source": [
    "BES_imm = BES_reduced[ImmBadW8].copy()\n",
    "BES_imm[\"ChangedMind_on_immigEcon\"] = ChangedMind.values.astype('float')\n",
    "BES_imm[\"genImmigSentiment\"] = genImmigSentiment[ImmBadW8].values\n",
    "y = BES_imm[\"ChangedMind_on_immigEcon\"]\n",
    "X = BES_imm[old_columns]\n",
    "X = pd.DataFrame( preprocessing.normalize(X, norm='l2'), columns = X.columns, index = X.index)"
   ]
  },
  {
   "cell_type": "code",
   "execution_count": 346,
   "metadata": {},
   "outputs": [
    {
     "name": "stdout",
     "output_type": "stream",
     "text": [
      "[ True  True  True  True False  True  True  True False  True  True False\n",
      " False  True  True False False False False False False  True False False\n",
      " False False False  True False False  True False False False  True False\n",
      " False False False False False False  True False False False  True False\n",
      " False  True False False False False False False False False False False\n",
      " False False False False False False False False False False False False\n",
      " False False False False False False False False False False False False\n",
      "  True False False False False False False False False False False False\n",
      " False False False False False False False False False False False False\n",
      " False False False False False False False False False  True False False\n",
      " False False False False False False False False False False False False\n",
      " False False False False False False False False False False False False\n",
      " False False False False False False False False False False False False\n",
      " False False False False]\n",
      "[  1   1   1   1  11   1   1   1  24   1   1   2  41   1   1  13   4  82\n",
      " 107  10  39   1   8  40 123  36 117   1  72   3   1  64  76  42   1  16\n",
      "  19  97  29  54 116   9   1  53  33  51   1  50 130   1  15  38 101  12\n",
      "  99  60  32  61  62 103  56 139  48  98  23 114  22  26  79 140  77 134\n",
      "  43  37 113  80  35  88  91  28 119  31  46 135   1 129  20 125  90  55\n",
      "  18  68  85 109  58  25   6  71  78   5  81 133  57  52  67  47 110 128\n",
      "  89  65 121 102   7  30  14 118 127   1  84  75 115 126 136  70 132  93\n",
      "  94 141 112  17  96 122  69  44 131  59 104 100  83 111 124  86  21 105\n",
      "  63  92  45 138  49 108  73 137  95 106 120  74  27  87  66  34]\n",
      "Wall time: 6.96 s\n"
     ]
    }
   ],
   "source": [
    "%%time\n",
    "logreg = LogisticRegression()\n",
    "rfe = RFE(logreg,n_features_to_select =20) # , n_features_to_select = 50 # default is 'half'\n",
    "rfe = rfe.fit(X, y )\n",
    "print(rfe.support_)\n",
    "print(rfe.ranking_)"
   ]
  },
  {
   "cell_type": "code",
   "execution_count": 302,
   "metadata": {},
   "outputs": [
    {
     "data": {
      "text/plain": [
       "(3498, 2572)"
      ]
     },
     "execution_count": 302,
     "metadata": {},
     "output_type": "execute_result"
    }
   ],
   "source": [
    "BES_reduced[ImmBadW8].shape"
   ]
  },
  {
   "cell_type": "code",
   "execution_count": 361,
   "metadata": {},
   "outputs": [
    {
     "data": {
      "text/plain": [
       "[]"
      ]
     },
     "execution_count": 361,
     "metadata": {},
     "output_type": "execute_result"
    }
   ],
   "source": [
    "[x for x in X.columns if \"genImmigSentiment\" in x]\n",
    "#X.columns[rfe.ranking_<=100]\n"
   ]
  },
  {
   "cell_type": "code",
   "execution_count": 381,
   "metadata": {},
   "outputs": [],
   "source": [
    "minus_immig_vars = [x for x in last_set if not re.search(\"immigEcon|immigCultural|immigSelf|immigrants|euPriorityBalance|More\",x)]"
   ]
  },
  {
   "cell_type": "code",
   "execution_count": 373,
   "metadata": {},
   "outputs": [],
   "source": [
    "last_set = X.columns[rfe.ranking_<=160]\n"
   ]
  },
  {
   "cell_type": "code",
   "execution_count": 382,
   "metadata": {},
   "outputs": [
    {
     "name": "stderr",
     "output_type": "stream",
     "text": [
      "C:\\Users\\Marios\\AppData\\Local\\conda\\conda\\envs\\BES_analysis\\lib\\site-packages\\ipykernel\\__main__.py:2: SettingWithCopyWarning: \n",
      "A value is trying to be set on a copy of a slice from a DataFrame.\n",
      "Try using .loc[row_indexer,col_indexer] = value instead\n",
      "\n",
      "See the caveats in the documentation: http://pandas.pydata.org/pandas-docs/stable/indexing.html#indexing-view-versus-copy\n",
      "  from ipykernel import kernelapp as app\n"
     ]
    },
    {
     "name": "stdout",
     "output_type": "stream",
     "text": [
      "Optimization terminated successfully.\n",
      "         Current function value: 0.524428\n",
      "         Iterations 7\n",
      "                              Logit Regression Results                              \n",
      "====================================================================================\n",
      "Dep. Variable:     ChangedMind_on_immigEcon   No. Observations:                 3498\n",
      "Model:                                Logit   Df Residuals:                     3380\n",
      "Method:                                 MLE   Df Model:                          117\n",
      "Date:                      Sun, 03 Jun 2018   Pseudo R-squ.:                  0.2433\n",
      "Time:                              18:02:47   Log-Likelihood:                -1834.5\n",
      "converged:                             True   LL-Null:                       -2424.3\n",
      "                                              LLR p-value:                5.076e-175\n",
      "==========================================================================================================================================\n",
      "                                                                             coef    std err          z      P>|z|      [0.025      0.975]\n",
      "------------------------------------------------------------------------------------------------------------------------------------------\n",
      "overseasAidW10__Strongly agree                                           -10.2691      7.463     -1.376      0.169     -24.897       4.359\n",
      "ukCoopMovementW10__Bad for Britain                                       -30.7362     11.672     -2.633      0.008     -53.612      -7.860\n",
      "warmAsianW11__Very warm                                                    1.1473      0.358      3.204      0.001       0.445       1.849\n",
      "blackEqualityW6_W12__Gone much too far                                   -23.9184      7.099     -3.369      0.001     -37.832     -10.005\n",
      "harkBackW10__Strongly agree                                              -13.7507      7.287     -1.887      0.059     -28.033       0.532\n",
      "populism1W10__Strongly agree                                             -10.9685     11.035     -0.994      0.320     -32.597      10.660\n",
      "ptvUKIPW10__Very likely                                                    1.3579      3.117      0.436      0.663      -4.752       7.468\n",
      "benefitsToMigrantsW7__Never                                               -8.4803      7.982     -1.062      0.288     -24.125       7.165\n",
      "populism2W10__Strongly agree                                               2.8840      7.493      0.385      0.700     -11.802      17.570\n",
      "harkBackW7__Strongly agree                                                -0.9842      8.001     -0.123      0.902     -16.665      14.697\n",
      "socialIdentityGlobalRemainW9__A great deal in common                       7.4357      2.696      2.758      0.006       2.151      12.720\n",
      "likeUKIPW10__Strongly like                                                -5.1998      4.258     -1.221      0.222     -13.546       3.146\n",
      "changeImmigW11__Getting a lot higher                                      21.8645      7.260      3.012      0.003       7.635      36.094\n",
      "europeannessW10__Very strongly European                                    5.2256      5.274      0.991      0.322      -5.111      15.562\n",
      "euUKRichW8__Strongly agree                                               -14.0556      8.724     -1.611      0.107     -31.153       3.042\n",
      "socialIdentityGlobalRemainW10__A great deal in common                     -0.3444      2.453     -0.140      0.888      -5.152       4.464\n",
      "al2W10W11W12__Strongly agree                                              -7.7162      9.621     -0.802      0.423     -26.573      11.140\n",
      "ptvUKIPW9__Very likely                                                     2.9026      3.288      0.883      0.377      -3.541       9.347\n",
      "satDemUKW10__Very satisfied                                               17.7344      9.351      1.897      0.058      -0.593      36.062\n",
      "discrimWhiteW10__A lot of discrimination against                          -6.0759      2.709     -2.243      0.025     -11.385      -0.767\n",
      "EUIntegrationSelfW10__Protect our independence                             3.5979      4.227      0.851      0.395      -4.688      11.884\n",
      "happyEULeaveW10__Extremely happy                                           7.8258      3.962      1.975      0.048       0.060      15.591\n",
      "al_scaleW10W11W12__Authoritarian                                          -0.2263      4.111     -0.055      0.956      -8.285       7.832\n",
      "trustMPsW10__A great deal of trust                                         9.6563      5.840      1.653      0.098      -1.791      21.103\n",
      "happyEULeaveW9__Extremely happy                                           -2.5385      4.116     -0.617      0.537     -10.605       5.528\n",
      "benefitsToMigrantsW8__Never                                              -10.6646      7.633     -1.397      0.162     -25.625       4.295\n",
      "likeUKIPW9__Strongly like                                                  1.4119      4.079      0.346      0.729      -6.583       9.406\n",
      "warmBlackW11__Very warm                                                    1.1058      0.399      2.769      0.006       0.323       1.889\n",
      "radicalW10__Strongly agree                                               -12.1725      8.254     -1.475      0.140     -28.350       4.005\n",
      "europeannessW9__Very strongly European                                     4.2314      5.306      0.797      0.425      -6.169      14.631\n",
      "euCloserW8__Strongly agree                                                 2.0237      7.654      0.264      0.791     -12.979      17.026\n",
      "likeLDW13__Strongly like                                                  -6.3180      3.994     -1.582      0.114     -14.146       1.510\n",
      "changeImmigW10__Getting a lot higher                                     -10.5896      7.810     -1.356      0.175     -25.897       4.718\n",
      "satDemUKW8__Very satisfied                                                 8.9536      9.125      0.981      0.327      -8.932      26.839\n",
      "al5W10W11W12__Strongly agree                                             -13.0966     12.007     -1.091      0.275     -36.630      10.437\n",
      "likeLDW10__Strongly like                                                   0.4027      4.580      0.088      0.930      -8.575       9.380\n",
      "al2W7W8W9__Strongly agree                                                 -9.2707      9.427     -0.983      0.325     -27.747       9.206\n",
      "EUIntegrationSelfW9__Protect our independence                              5.5860      4.489      1.244      0.213      -3.212      14.384\n",
      "effectsEUNHSW10__Much better                                             -13.5983      8.132     -1.672      0.094     -29.537       2.340\n",
      "likeFarageW10__Strongly like                                               0.8745      3.391      0.258      0.797      -5.772       7.521\n",
      "likeLDW9__Strongly like                                                    2.2638      4.895      0.462      0.644      -7.331      11.858\n",
      "controlImmigW9__Complete control                                           5.5236      7.133      0.774      0.439      -8.457      19.504\n",
      "ptvLDW10__Very likely                                                     -1.5297      3.863     -0.396      0.692      -9.101       6.042\n",
      "happyTrumpW10__Extremely happy                                             3.0646      2.268      1.351      0.177      -1.381       7.510\n",
      "likeLDW8__Strongly like                                                    1.7711      4.242      0.417      0.676      -6.543      10.086\n",
      "al_scaleW13__Authoritarian                                                 8.0245      2.839      2.827      0.005       2.461      13.588\n",
      "lr_scaleW10W11W12__Right                                                  -2.9216      2.734     -1.069      0.285      -8.280       2.437\n",
      "trustMPsW7__A great deal of trust                                         -9.8058      6.260     -1.567      0.117     -22.074       2.463\n",
      "al_scaleW7W8W9__Authoritarian                                              0.0100      3.589      0.003      0.998      -7.024       7.044\n",
      "socialIdentityGlobalRemainW8__A great deal in common                      -4.1759      2.781     -1.501      0.133      -9.627       1.276\n",
      "changeCrimeW10__Getting a lot higher                                      -3.6626      8.046     -0.455      0.649     -19.433      12.108\n",
      "strongLeaderW10__Strongly agree                                          -12.0302      5.367     -2.241      0.025     -22.550      -1.510\n",
      "discrimBMEW10__A lot of discrimination against                             1.2427      4.818      0.258      0.796      -8.201      10.686\n",
      "likeNuttallW13__Strongly like                                             -0.4290      3.464     -0.124      0.901      -7.219       6.361\n",
      "ptvLDW9__Very likely                                                       4.2312      3.897      1.086      0.278      -3.406      11.869\n",
      "immigContributeTakeW8__Get more than they pay                             -6.4329      4.132     -1.557      0.120     -14.532       1.666\n",
      "likeAlanJohnsonW8__Strongly like                                           4.7538      3.057      1.555      0.120      -1.238      10.746\n",
      "likeNuttallW12__Strongly like                                             -2.6504      3.445     -0.769      0.442      -9.403       4.102\n",
      "changeEconomyW8__Getting a lot better                                     18.7461      7.384      2.539      0.011       4.274      33.218\n",
      "profile_gross_household__£150,000 and over                                15.5424      3.987      3.899      0.000       7.729      23.356\n",
      "immigConW9__Allow many more                                                5.8327      2.564      2.275      0.023       0.807      10.858\n",
      "ethno3W10__Strongly agree                                                -15.0774      5.968     -2.526      0.012     -26.775      -3.380\n",
      "discrimMuslimsW10__A lot of discrimination against                        -2.2603      4.369     -0.517      0.605     -10.823       6.302\n",
      "trustMPsW9__A great deal of trust                                         -2.0504      6.151     -0.333      0.739     -14.106      10.005\n",
      "handleMIIUKIPW5__Very well                                                -1.5943      2.292     -0.695      0.487      -6.087       2.899\n",
      "labLookAfterUnempW10__Very closely                                        23.7408      7.719      3.076      0.002       8.612      38.870\n",
      "changeNHSLabW10__Getting a lot better                                     13.5501      6.778      1.999      0.046       0.266      26.834\n",
      "lr_scaleW7W8W9__Right                                                     -4.6588      2.643     -1.763      0.078      -9.838       0.521\n",
      "immigContributeTakeW7__Get more than they pay                              4.8046      4.953      0.970      0.332      -4.902      14.511\n",
      "likeConW10__Strongly like                                                  0.8696      4.333      0.201      0.841      -7.622       9.362\n",
      "handleMIIConW5__Very well                                                  3.7556      3.833      0.980      0.327      -3.757      11.268\n",
      "natSecuritySelfW10__Protect civil liberties                                4.7452      2.252      2.107      0.035       0.331       9.159\n",
      "profile_socialgrade_cieW7__E                                              10.0333      8.112      1.237      0.216      -5.866      25.933\n",
      "likeMayW9__Strongly like                                                  -5.3789      2.878     -1.869      0.062     -11.020       0.262\n",
      "ptvConW10__Very likely                                                     2.3347      3.260      0.716      0.474      -4.055       8.724\n",
      "likeSturgeonW13__Strongly like                                             7.1948      4.512      1.594      0.111      -1.649      16.039\n",
      "profile_socialgrade_cieW8__E                                             -10.4080      7.219     -1.442      0.149     -24.556       3.740\n",
      "likeSturgeonW11__Strongly like                                            -0.8029      4.088     -0.196      0.844      -8.815       7.210\n",
      "ptvConW9__Very likely                                                     -1.8358      2.877     -0.638      0.523      -7.475       3.803\n",
      "euRefExpectationW8__100 - UK will definitely vote to leave the EU          0.4006      0.336      1.192      0.233      -0.258       1.059\n",
      "lr_scaleW13__Right                                                        -0.4612      2.462     -0.187      0.851      -5.286       4.364\n",
      "happyScotIndepResultW11__Extremely happy                                  -0.6177      2.062     -0.300      0.765      -4.660       3.424\n",
      "likeCameronW5__Strongly like                                              -2.9126      3.847     -0.757      0.449     -10.453       4.627\n",
      "likeLabW9__Strongly like                                                  -3.0020      3.976     -0.755      0.450     -10.795       4.791\n",
      "winConstituencyUKIPW12__100 - Very likely to win                           0.6382      0.381      1.675      0.094      -0.109       1.385\n",
      "likeLabW13__Strongly like                                                 -0.5094      4.765     -0.107      0.915      -9.848       8.830\n",
      "redistSelfW10__Government should be less concerned about equal incomes     5.7248      2.595      2.206      0.027       0.638      10.811\n",
      "redistConW11__Government should be less concerned about equal incomes      0.4678      2.497      0.187      0.851      -4.425       5.361\n",
      "likeLabW10__Strongly like                                                 -0.2762      3.835     -0.072      0.943      -7.794       7.241\n",
      "ptvLabW13__Very likely                                                     4.7175      3.809      1.239      0.216      -2.748      12.183\n",
      "redistSelfW2__Government should be less concerned about equal incomes      3.5510      3.184      1.115      0.265      -2.690       9.792\n",
      "likeMayW10__Strongly like                                                 -7.3266      3.671     -1.996      0.046     -14.522      -0.132\n",
      "profile_gross_householdW12__£150,000 and over                             -4.7728      3.395     -1.406      0.160     -11.426       1.880\n",
      "profile_gross_personal__£100,000 and over                                 -5.5394      4.137     -1.339      0.181     -13.648       2.569\n",
      "britishnessW7__Very strongly British                                       5.6729      4.311      1.316      0.188      -2.776      14.122\n",
      "redistSelfW6__Government should be less concerned about equal incomes      0.8254      3.323      0.248      0.804      -5.687       7.338\n",
      "redistSelfW4__Government should be less concerned about equal incomes     -1.2975      3.267     -0.397      0.691      -7.700       5.105\n",
      "likeConW12__Strongly like                                                 -5.3088      4.712     -1.127      0.260     -14.545       3.927\n",
      "EUIntegrationConW12__Protect our independence                              2.3808      3.206      0.743      0.458      -3.902       8.663\n",
      "ptvConW11__Very likely                                                     3.7419      3.077      1.216      0.224      -2.289       9.773\n",
      "lrgreensW5__Right                                                          8.1054      4.458      1.818      0.069      -0.632      16.842\n",
      "likeMayW12__Strongly like                                                  3.5617      4.564      0.780      0.435      -5.383      12.506\n",
      "majorityPartyConW11__Very likely                                          -7.3689      3.334     -2.210      0.027     -13.904      -0.834\n",
      "polAttentionW13__Pay a great deal of attention                             5.4815      2.712      2.021      0.043       0.166      10.797\n",
      "warmWhiteW11__Very warm                                                    1.0363      0.374      2.771      0.006       0.303       1.769\n",
      "riskScaleW8                                                                1.8560      1.888      0.983      0.326      -1.845       5.557\n",
      "likeFarageW1__Strongly like                                                5.6707      3.169      1.789      0.074      -0.541      11.882\n",
      "personality_agreeableness                                                 -9.6453      3.504     -2.752      0.006     -16.514      -2.777\n",
      "winConstituencyGreenW5__100 - Very likely to win                          -0.3834      0.502     -0.763      0.445      -1.368       0.601\n",
      "likeCorbynW12__Strongly like                                             -10.0211      3.172     -3.159      0.002     -16.238      -3.804\n",
      "likeMayW11__Strongly like                                                  7.4890      4.028      1.859      0.063      -0.406      15.384\n",
      "winConstituencyGreenW11__98.0                                              0.7472      0.524      1.427      0.154      -0.279       1.774\n",
      "immigLabW11__Allow many more                                              12.5989      2.959      4.257      0.000       6.798      18.399\n",
      "Age                                                                        2.2941      0.533      4.307      0.000       1.250       3.338\n",
      "enviroGrowthW7__Protecting the environment should have priority           -5.6438      2.632     -2.144      0.032     -10.803      -0.485\n",
      "likeGoveW8__Strongly like                                                  3.2030      3.093      1.036      0.300      -2.859       9.265\n",
      "likeGoveW9__Strongly like                                                 10.1626      3.218      3.158      0.002       3.855      16.470\n",
      "genImmigSentiment                                                        402.0166     24.192     16.618      0.000     354.602     449.432\n",
      "==========================================================================================================================================\n"
     ]
    }
   ],
   "source": [
    "X_sm = X[minus_immig_vars]\n",
    "X_sm['genImmigSentiment'] = (genImmigSentiment[ImmBadW8].values - genImmigSentiment[ImmBadW8].values.mean())/genImmigSentiment[ImmBadW8].values.std()\n",
    "# X_sm[\"intercept\"] = 1.0\n",
    "logit_model=sm.Logit(y,X_sm)\n",
    "result=logit_model.fit()\n",
    "print(result.summary())"
   ]
  },
  {
   "cell_type": "code",
   "execution_count": 383,
   "metadata": {},
   "outputs": [
    {
     "data": {
      "text/html": [
       "<div>\n",
       "<style scoped>\n",
       "    .dataframe tbody tr th:only-of-type {\n",
       "        vertical-align: middle;\n",
       "    }\n",
       "\n",
       "    .dataframe tbody tr th {\n",
       "        vertical-align: top;\n",
       "    }\n",
       "\n",
       "    .dataframe thead th {\n",
       "        text-align: right;\n",
       "    }\n",
       "</style>\n",
       "<table border=\"1\" class=\"dataframe\">\n",
       "  <thead>\n",
       "    <tr style=\"text-align: right;\">\n",
       "      <th></th>\n",
       "      <th>0</th>\n",
       "    </tr>\n",
       "  </thead>\n",
       "  <tbody>\n",
       "    <tr>\n",
       "      <th>al_scaleW10W11W12__Authoritarian</th>\n",
       "      <td>115.489606</td>\n",
       "    </tr>\n",
       "    <tr>\n",
       "      <th>al_scaleW7W8W9__Authoritarian</th>\n",
       "      <td>86.366600</td>\n",
       "    </tr>\n",
       "    <tr>\n",
       "      <th>al_scaleW13__Authoritarian</th>\n",
       "      <td>51.210169</td>\n",
       "    </tr>\n",
       "    <tr>\n",
       "      <th>al5W10W11W12__Strongly agree</th>\n",
       "      <td>46.657894</td>\n",
       "    </tr>\n",
       "    <tr>\n",
       "      <th>EUIntegrationSelfW9__Protect our independence</th>\n",
       "      <td>38.971418</td>\n",
       "    </tr>\n",
       "    <tr>\n",
       "      <th>populism1W10__Strongly agree</th>\n",
       "      <td>37.887948</td>\n",
       "    </tr>\n",
       "    <tr>\n",
       "      <th>EUIntegrationSelfW10__Protect our independence</th>\n",
       "      <td>37.402863</td>\n",
       "    </tr>\n",
       "    <tr>\n",
       "      <th>happyEULeaveW10__Extremely happy</th>\n",
       "      <td>32.561887</td>\n",
       "    </tr>\n",
       "    <tr>\n",
       "      <th>happyEULeaveW9__Extremely happy</th>\n",
       "      <td>31.442514</td>\n",
       "    </tr>\n",
       "    <tr>\n",
       "      <th>al2W10W11W12__Strongly agree</th>\n",
       "      <td>27.704803</td>\n",
       "    </tr>\n",
       "    <tr>\n",
       "      <th>al2W7W8W9__Strongly agree</th>\n",
       "      <td>26.974196</td>\n",
       "    </tr>\n",
       "    <tr>\n",
       "      <th>likeMayW12__Strongly like</th>\n",
       "      <td>22.883768</td>\n",
       "    </tr>\n",
       "    <tr>\n",
       "      <th>Age</th>\n",
       "      <td>22.242137</td>\n",
       "    </tr>\n",
       "    <tr>\n",
       "      <th>likeConW12__Strongly like</th>\n",
       "      <td>22.036511</td>\n",
       "    </tr>\n",
       "    <tr>\n",
       "      <th>warmWhiteW11__Very warm</th>\n",
       "      <td>19.554569</td>\n",
       "    </tr>\n",
       "    <tr>\n",
       "      <th>majorityPartyConW11__Very likely</th>\n",
       "      <td>19.538906</td>\n",
       "    </tr>\n",
       "    <tr>\n",
       "      <th>changeImmigW10__Getting a lot higher</th>\n",
       "      <td>19.399101</td>\n",
       "    </tr>\n",
       "    <tr>\n",
       "      <th>likeUKIPW10__Strongly like</th>\n",
       "      <td>18.886467</td>\n",
       "    </tr>\n",
       "    <tr>\n",
       "      <th>radicalW10__Strongly agree</th>\n",
       "      <td>18.672620</td>\n",
       "    </tr>\n",
       "    <tr>\n",
       "      <th>likeMayW11__Strongly like</th>\n",
       "      <td>18.601828</td>\n",
       "    </tr>\n",
       "    <tr>\n",
       "      <th>discrimBMEW10__A lot of discrimination against</th>\n",
       "      <td>18.317893</td>\n",
       "    </tr>\n",
       "    <tr>\n",
       "      <th>immigContributeTakeW7__Get more than they pay</th>\n",
       "      <td>18.192195</td>\n",
       "    </tr>\n",
       "    <tr>\n",
       "      <th>overseasAidW10__Strongly agree</th>\n",
       "      <td>17.769302</td>\n",
       "    </tr>\n",
       "    <tr>\n",
       "      <th>likeConW10__Strongly like</th>\n",
       "      <td>17.520645</td>\n",
       "    </tr>\n",
       "    <tr>\n",
       "      <th>genImmigSentiment</th>\n",
       "      <td>17.043906</td>\n",
       "    </tr>\n",
       "    <tr>\n",
       "      <th>benefitsToMigrantsW8__Never</th>\n",
       "      <td>16.295258</td>\n",
       "    </tr>\n",
       "    <tr>\n",
       "      <th>harkBackW7__Strongly agree</th>\n",
       "      <td>16.204268</td>\n",
       "    </tr>\n",
       "    <tr>\n",
       "      <th>discrimMuslimsW10__A lot of discrimination against</th>\n",
       "      <td>16.106893</td>\n",
       "    </tr>\n",
       "    <tr>\n",
       "      <th>likeUKIPW9__Strongly like</th>\n",
       "      <td>15.661185</td>\n",
       "    </tr>\n",
       "    <tr>\n",
       "      <th>profile_socialgrade_cieW7__E</th>\n",
       "      <td>15.641364</td>\n",
       "    </tr>\n",
       "    <tr>\n",
       "      <th>...</th>\n",
       "      <td>...</td>\n",
       "    </tr>\n",
       "    <tr>\n",
       "      <th>likeFarageW1__Strongly like</th>\n",
       "      <td>4.887287</td>\n",
       "    </tr>\n",
       "    <tr>\n",
       "      <th>enviroGrowthW7__Protecting the environment should have priority</th>\n",
       "      <td>4.849472</td>\n",
       "    </tr>\n",
       "    <tr>\n",
       "      <th>likeLDW13__Strongly like</th>\n",
       "      <td>4.825771</td>\n",
       "    </tr>\n",
       "    <tr>\n",
       "      <th>strongLeaderW10__Strongly agree</th>\n",
       "      <td>4.685154</td>\n",
       "    </tr>\n",
       "    <tr>\n",
       "      <th>trustMPsW9__A great deal of trust</th>\n",
       "      <td>4.576240</td>\n",
       "    </tr>\n",
       "    <tr>\n",
       "      <th>changeEconomyW8__Getting a lot better</th>\n",
       "      <td>4.573788</td>\n",
       "    </tr>\n",
       "    <tr>\n",
       "      <th>satDemUKW8__Very satisfied</th>\n",
       "      <td>4.431820</td>\n",
       "    </tr>\n",
       "    <tr>\n",
       "      <th>euUKRichW8__Strongly agree</th>\n",
       "      <td>4.242465</td>\n",
       "    </tr>\n",
       "    <tr>\n",
       "      <th>trustMPsW7__A great deal of trust</th>\n",
       "      <td>4.066956</td>\n",
       "    </tr>\n",
       "    <tr>\n",
       "      <th>happyTrumpW10__Extremely happy</th>\n",
       "      <td>4.057187</td>\n",
       "    </tr>\n",
       "    <tr>\n",
       "      <th>socialIdentityGlobalRemainW8__A great deal in common</th>\n",
       "      <td>4.033685</td>\n",
       "    </tr>\n",
       "    <tr>\n",
       "      <th>likeCorbynW12__Strongly like</th>\n",
       "      <td>3.994110</td>\n",
       "    </tr>\n",
       "    <tr>\n",
       "      <th>euCloserW8__Strongly agree</th>\n",
       "      <td>3.978250</td>\n",
       "    </tr>\n",
       "    <tr>\n",
       "      <th>changeNHSLabW10__Getting a lot better</th>\n",
       "      <td>3.927066</td>\n",
       "    </tr>\n",
       "    <tr>\n",
       "      <th>socialIdentityGlobalRemainW10__A great deal in common</th>\n",
       "      <td>3.882202</td>\n",
       "    </tr>\n",
       "    <tr>\n",
       "      <th>happyScotIndepResultW11__Extremely happy</th>\n",
       "      <td>3.871136</td>\n",
       "    </tr>\n",
       "    <tr>\n",
       "      <th>handleMIIUKIPW5__Very well</th>\n",
       "      <td>3.694167</td>\n",
       "    </tr>\n",
       "    <tr>\n",
       "      <th>likeSturgeonW13__Strongly like</th>\n",
       "      <td>3.459647</td>\n",
       "    </tr>\n",
       "    <tr>\n",
       "      <th>likeNuttallW12__Strongly like</th>\n",
       "      <td>3.413932</td>\n",
       "    </tr>\n",
       "    <tr>\n",
       "      <th>europeannessW9__Very strongly European</th>\n",
       "      <td>3.368047</td>\n",
       "    </tr>\n",
       "    <tr>\n",
       "      <th>ptvLDW9__Very likely</th>\n",
       "      <td>3.330065</td>\n",
       "    </tr>\n",
       "    <tr>\n",
       "      <th>likeNuttallW13__Strongly like</th>\n",
       "      <td>3.318955</td>\n",
       "    </tr>\n",
       "    <tr>\n",
       "      <th>riskScaleW8</th>\n",
       "      <td>3.314358</td>\n",
       "    </tr>\n",
       "    <tr>\n",
       "      <th>ptvLDW10__Very likely</th>\n",
       "      <td>3.226712</td>\n",
       "    </tr>\n",
       "    <tr>\n",
       "      <th>likeSturgeonW11__Strongly like</th>\n",
       "      <td>3.125996</td>\n",
       "    </tr>\n",
       "    <tr>\n",
       "      <th>europeannessW10__Very strongly European</th>\n",
       "      <td>2.880260</td>\n",
       "    </tr>\n",
       "    <tr>\n",
       "      <th>natSecuritySelfW10__Protect civil liberties</th>\n",
       "      <td>2.269689</td>\n",
       "    </tr>\n",
       "    <tr>\n",
       "      <th>winConstituencyUKIPW12__100 - Very likely to win</th>\n",
       "      <td>1.781325</td>\n",
       "    </tr>\n",
       "    <tr>\n",
       "      <th>winConstituencyGreenW5__100 - Very likely to win</th>\n",
       "      <td>1.608761</td>\n",
       "    </tr>\n",
       "    <tr>\n",
       "      <th>winConstituencyGreenW11__98.0</th>\n",
       "      <td>1.498147</td>\n",
       "    </tr>\n",
       "  </tbody>\n",
       "</table>\n",
       "<p>118 rows × 1 columns</p>\n",
       "</div>"
      ],
      "text/plain": [
       "                                                             0\n",
       "al_scaleW10W11W12__Authoritarian                    115.489606\n",
       "al_scaleW7W8W9__Authoritarian                        86.366600\n",
       "al_scaleW13__Authoritarian                           51.210169\n",
       "al5W10W11W12__Strongly agree                         46.657894\n",
       "EUIntegrationSelfW9__Protect our independence        38.971418\n",
       "populism1W10__Strongly agree                         37.887948\n",
       "EUIntegrationSelfW10__Protect our independence       37.402863\n",
       "happyEULeaveW10__Extremely happy                     32.561887\n",
       "happyEULeaveW9__Extremely happy                      31.442514\n",
       "al2W10W11W12__Strongly agree                         27.704803\n",
       "al2W7W8W9__Strongly agree                            26.974196\n",
       "likeMayW12__Strongly like                            22.883768\n",
       "Age                                                  22.242137\n",
       "likeConW12__Strongly like                            22.036511\n",
       "warmWhiteW11__Very warm                              19.554569\n",
       "majorityPartyConW11__Very likely                     19.538906\n",
       "changeImmigW10__Getting a lot higher                 19.399101\n",
       "likeUKIPW10__Strongly like                           18.886467\n",
       "radicalW10__Strongly agree                           18.672620\n",
       "likeMayW11__Strongly like                            18.601828\n",
       "discrimBMEW10__A lot of discrimination against       18.317893\n",
       "immigContributeTakeW7__Get more than they pay        18.192195\n",
       "overseasAidW10__Strongly agree                       17.769302\n",
       "likeConW10__Strongly like                            17.520645\n",
       "genImmigSentiment                                    17.043906\n",
       "benefitsToMigrantsW8__Never                          16.295258\n",
       "harkBackW7__Strongly agree                           16.204268\n",
       "discrimMuslimsW10__A lot of discrimination against   16.106893\n",
       "likeUKIPW9__Strongly like                            15.661185\n",
       "profile_socialgrade_cieW7__E                         15.641364\n",
       "...                                                        ...\n",
       "likeFarageW1__Strongly like                           4.887287\n",
       "enviroGrowthW7__Protecting the environment shou...    4.849472\n",
       "likeLDW13__Strongly like                              4.825771\n",
       "strongLeaderW10__Strongly agree                       4.685154\n",
       "trustMPsW9__A great deal of trust                     4.576240\n",
       "changeEconomyW8__Getting a lot better                 4.573788\n",
       "satDemUKW8__Very satisfied                            4.431820\n",
       "euUKRichW8__Strongly agree                            4.242465\n",
       "trustMPsW7__A great deal of trust                     4.066956\n",
       "happyTrumpW10__Extremely happy                        4.057187\n",
       "socialIdentityGlobalRemainW8__A great deal in c...    4.033685\n",
       "likeCorbynW12__Strongly like                          3.994110\n",
       "euCloserW8__Strongly agree                            3.978250\n",
       "changeNHSLabW10__Getting a lot better                 3.927066\n",
       "socialIdentityGlobalRemainW10__A great deal in ...    3.882202\n",
       "happyScotIndepResultW11__Extremely happy              3.871136\n",
       "handleMIIUKIPW5__Very well                            3.694167\n",
       "likeSturgeonW13__Strongly like                        3.459647\n",
       "likeNuttallW12__Strongly like                         3.413932\n",
       "europeannessW9__Very strongly European                3.368047\n",
       "ptvLDW9__Very likely                                  3.330065\n",
       "likeNuttallW13__Strongly like                         3.318955\n",
       "riskScaleW8                                           3.314358\n",
       "ptvLDW10__Very likely                                 3.226712\n",
       "likeSturgeonW11__Strongly like                        3.125996\n",
       "europeannessW10__Very strongly European               2.880260\n",
       "natSecuritySelfW10__Protect civil liberties           2.269689\n",
       "winConstituencyUKIPW12__100 - Very likely to win      1.781325\n",
       "winConstituencyGreenW5__100 - Very likely to win      1.608761\n",
       "winConstituencyGreenW11__98.0                         1.498147\n",
       "\n",
       "[118 rows x 1 columns]"
      ]
     },
     "metadata": {},
     "output_type": "display_data"
    },
    {
     "name": "stdout",
     "output_type": "stream",
     "text": [
      "Wall time: 20.6 s\n"
     ]
    }
   ],
   "source": [
    "%%time\n",
    "vif_df = pd.DataFrame.from_dict( calculate_vif_(X_sm), orient='index' ).sort_values(by=0, ascending=False)\n",
    "display(vif_df)"
   ]
  },
  {
   "cell_type": "code",
   "execution_count": 384,
   "metadata": {},
   "outputs": [
    {
     "data": {
      "text/plain": [
       "['ukCoopMovementW10__Bad for Britain',\n",
       " 'warmAsianW11__Very warm',\n",
       " 'blackEqualityW6_W12__Gone much too far',\n",
       " 'harkBackW10__Strongly agree',\n",
       " 'socialIdentityGlobalRemainW9__A great deal in common',\n",
       " 'changeImmigW11__Getting a lot higher',\n",
       " 'satDemUKW10__Very satisfied',\n",
       " 'discrimWhiteW10__A lot of discrimination against',\n",
       " 'happyEULeaveW10__Extremely happy',\n",
       " 'trustMPsW10__A great deal of trust',\n",
       " 'warmBlackW11__Very warm',\n",
       " 'effectsEUNHSW10__Much better',\n",
       " 'al_scaleW13__Authoritarian',\n",
       " 'strongLeaderW10__Strongly agree',\n",
       " 'changeEconomyW8__Getting a lot better',\n",
       " 'profile_gross_household__£150,000 and over',\n",
       " 'immigConW9__Allow many more',\n",
       " 'ethno3W10__Strongly agree',\n",
       " 'labLookAfterUnempW10__Very closely',\n",
       " 'changeNHSLabW10__Getting a lot better',\n",
       " 'lr_scaleW7W8W9__Right',\n",
       " 'natSecuritySelfW10__Protect civil liberties',\n",
       " 'likeMayW9__Strongly like',\n",
       " 'winConstituencyUKIPW12__100 - Very likely to win',\n",
       " 'redistSelfW10__Government should be less concerned about equal incomes',\n",
       " 'likeMayW10__Strongly like',\n",
       " 'lrgreensW5__Right',\n",
       " 'majorityPartyConW11__Very likely',\n",
       " 'polAttentionW13__Pay a great deal of attention',\n",
       " 'warmWhiteW11__Very warm',\n",
       " 'likeFarageW1__Strongly like',\n",
       " 'personality_agreeableness',\n",
       " 'likeCorbynW12__Strongly like',\n",
       " 'likeMayW11__Strongly like',\n",
       " 'immigLabW11__Allow many more',\n",
       " 'Age',\n",
       " 'enviroGrowthW7__Protecting the environment should have priority',\n",
       " 'likeGoveW9__Strongly like',\n",
       " 'genImmigSentiment']"
      ]
     },
     "execution_count": 384,
     "metadata": {},
     "output_type": "execute_result"
    }
   ],
   "source": [
    "list( result.pvalues[result.pvalues<.1].index)"
   ]
  },
  {
   "cell_type": "code",
   "execution_count": 367,
   "metadata": {},
   "outputs": [],
   "source": [
    "X_sm['genImmigSentiment'] = (genImmigSentiment[ImmBadW8].values - genImmigSentiment[ImmBadW8].values.mean())/genImmigSentiment[ImmBadW8].values.std()"
   ]
  },
  {
   "cell_type": "code",
   "execution_count": 385,
   "metadata": {},
   "outputs": [],
   "source": [
    "sig_p_value_list = list( result.pvalues[result.pvalues<.1].index)\n",
    "sig_p_value_list = [x for x in sig_p_value_list if x not in [\"intercept\"]]"
   ]
  },
  {
   "cell_type": "code",
   "execution_count": 387,
   "metadata": {},
   "outputs": [
    {
     "name": "stdout",
     "output_type": "stream",
     "text": [
      "Optimization terminated successfully.\n",
      "         Current function value: 0.537134\n",
      "         Iterations 7\n",
      "                              Logit Regression Results                              \n",
      "====================================================================================\n",
      "Dep. Variable:     ChangedMind_on_immigEcon   No. Observations:                 3498\n",
      "Model:                                Logit   Df Residuals:                     3459\n",
      "Method:                                 MLE   Df Model:                           38\n",
      "Date:                      Sun, 03 Jun 2018   Pseudo R-squ.:                  0.2250\n",
      "Time:                              18:05:00   Log-Likelihood:                -1878.9\n",
      "converged:                             True   LL-Null:                       -2424.3\n",
      "                                              LLR p-value:                4.007e-204\n",
      "==========================================================================================================================================\n",
      "                                                                             coef    std err          z      P>|z|      [0.025      0.975]\n",
      "------------------------------------------------------------------------------------------------------------------------------------------\n",
      "ukCoopMovementW10__Bad for Britain                                       -35.6665     11.017     -3.238      0.001     -57.259     -14.074\n",
      "warmAsianW11__Very warm                                                    1.0644      0.345      3.088      0.002       0.389       1.740\n",
      "blackEqualityW6_W12__Gone much too far                                   -29.1071      6.631     -4.390      0.000     -42.103     -16.111\n",
      "harkBackW10__Strongly agree                                              -18.9580      6.515     -2.910      0.004     -31.727      -6.189\n",
      "socialIdentityGlobalRemainW9__A great deal in common                       6.2813      2.288      2.745      0.006       1.796      10.766\n",
      "changeImmigW11__Getting a lot higher                                      14.9229      6.710      2.224      0.026       1.772      28.074\n",
      "satDemUKW10__Very satisfied                                               24.8865      8.513      2.923      0.003       8.201      41.572\n",
      "discrimWhiteW10__A lot of discrimination against                          -5.9260      2.471     -2.399      0.016     -10.768      -1.084\n",
      "happyEULeaveW10__Extremely happy                                           9.2294      2.562      3.603      0.000       4.209      14.250\n",
      "trustMPsW10__A great deal of trust                                         8.1918      4.795      1.708      0.088      -1.206      17.589\n",
      "warmBlackW11__Very warm                                                    1.2017      0.385      3.124      0.002       0.448       1.956\n",
      "effectsEUNHSW10__Much better                                             -14.6146      7.759     -1.884      0.060     -29.821       0.592\n",
      "al_scaleW13__Authoritarian                                                 2.5587      2.120      1.207      0.227      -1.596       6.713\n",
      "strongLeaderW10__Strongly agree                                          -14.9139      4.976     -2.997      0.003     -24.667      -5.161\n",
      "changeEconomyW8__Getting a lot better                                     16.5884      6.883      2.410      0.016       3.097      30.080\n",
      "profile_gross_household__£150,000 and over                                 8.9550      2.609      3.433      0.001       3.842      14.068\n",
      "immigConW9__Allow many more                                                5.8406      2.357      2.478      0.013       1.221      10.460\n",
      "ethno3W10__Strongly agree                                                -19.5521      5.623     -3.477      0.001     -30.573      -8.531\n",
      "labLookAfterUnempW10__Very closely                                        22.0147      7.261      3.032      0.002       7.784      36.245\n",
      "changeNHSLabW10__Getting a lot better                                     12.9031      5.994      2.153      0.031       1.156      24.650\n",
      "lr_scaleW7W8W9__Right                                                     -5.5691      1.969     -2.829      0.005      -9.428      -1.710\n",
      "natSecuritySelfW10__Protect civil liberties                                5.5669      2.132      2.611      0.009       1.388       9.745\n",
      "likeMayW9__Strongly like                                                  -5.4940      2.699     -2.036      0.042     -10.784      -0.204\n",
      "winConstituencyUKIPW12__100 - Very likely to win                           0.5994      0.353      1.697      0.090      -0.093       1.292\n",
      "redistSelfW10__Government should be less concerned about equal incomes     5.1015      2.294      2.224      0.026       0.605       9.598\n",
      "likeMayW10__Strongly like                                                 -4.6196      3.080     -1.500      0.134     -10.656       1.417\n",
      "lrgreensW5__Right                                                          7.3751      4.173      1.767      0.077      -0.803      15.554\n",
      "majorityPartyConW11__Very likely                                          -7.9940      3.076     -2.599      0.009     -14.023      -1.966\n",
      "polAttentionW13__Pay a great deal of attention                             5.0147      2.472      2.028      0.043       0.169       9.860\n",
      "warmWhiteW11__Very warm                                                    0.7260      0.350      2.077      0.038       0.041       1.411\n",
      "likeFarageW1__Strongly like                                                5.0171      2.785      1.802      0.072      -0.441      10.475\n",
      "personality_agreeableness                                                 -9.3440      3.351     -2.788      0.005     -15.912      -2.776\n",
      "likeCorbynW12__Strongly like                                              -7.3375      2.577     -2.847      0.004     -12.388      -2.287\n",
      "likeMayW11__Strongly like                                                  9.9675      3.140      3.174      0.002       3.813      16.122\n",
      "immigLabW11__Allow many more                                              11.8928      2.750      4.324      0.000       6.503      17.283\n",
      "Age                                                                        2.0906      0.479      4.362      0.000       1.151       3.030\n",
      "enviroGrowthW7__Protecting the environment should have priority           -5.9762      2.493     -2.398      0.017     -10.862      -1.091\n",
      "likeGoveW9__Strongly like                                                 13.6713      2.677      5.107      0.000       8.424      18.918\n",
      "genImmigSentiment                                                        378.7798     20.365     18.600      0.000     338.865     418.694\n",
      "==========================================================================================================================================\n"
     ]
    }
   ],
   "source": [
    "X_sm = X_sm[sig_p_value_list].copy()\n",
    "# X_sm[\"intercept\"] = 1.0\n",
    "logit_model=sm.Logit(y,X_sm)\n",
    "result=logit_model.fit(maxiter=100)\n",
    "print(result.summary())"
   ]
  },
  {
   "cell_type": "code",
   "execution_count": 388,
   "metadata": {},
   "outputs": [
    {
     "name": "stdout",
     "output_type": "stream",
     "text": [
      "                               OLS Regression Results                               \n",
      "====================================================================================\n",
      "Dep. Variable:     ChangedMind_on_immigEcon   R-squared:                       0.672\n",
      "Model:                                  OLS   Adj. R-squared:                  0.656\n",
      "Method:                       Least Squares   F-statistic:                     42.73\n",
      "Date:                      Sun, 03 Jun 2018   Prob (F-statistic):               0.00\n",
      "Time:                              18:07:36   Log-Likelihood:                -588.76\n",
      "No. Observations:                      3498   AIC:                             1500.\n",
      "Df Residuals:                          3337   BIC:                             2491.\n",
      "Df Model:                               160                                         \n",
      "Covariance Type:                  nonrobust                                         \n",
      "==========================================================================================================================================\n",
      "                                                                             coef    std err          t      P>|t|      [0.025      0.975]\n",
      "------------------------------------------------------------------------------------------------------------------------------------------\n",
      "const                                                                     -0.0611      0.142     -0.429      0.668      -0.340       0.218\n",
      "immigEconW10__Good for economy                                            39.1359      0.712     54.943      0.000      37.739      40.533\n",
      "immigCulturalW10__Enriches cultural life                                  -1.5614      0.793     -1.968      0.049      -3.117      -0.006\n",
      "immigEconW11__Good for economy                                             1.1159      0.691      1.614      0.107      -0.239       2.471\n",
      "immigEconW13__Good for economy                                             1.3017      0.813      1.601      0.109      -0.292       2.896\n",
      "immigrantsWelfareStateW10__Strongly agree                                 -0.7092      0.956     -0.742      0.458      -2.583       1.165\n",
      "immigCulturalW11__Enriches cultural life                                  -0.7651      0.829     -0.923      0.356      -2.390       0.860\n",
      "euPriorityBalanceW10__Control immigration                                 -0.9163      0.382     -2.397      0.017      -1.666      -0.167\n",
      "euMoreW13__Many more                                                       0.1844      0.552      0.334      0.738      -0.897       1.266\n",
      "immigCulturalW13__Enriches cultural life                                  -2.1886      0.969     -2.260      0.024      -4.088      -0.290\n",
      "immigSelfW10__Allow many more                                             -1.5563      0.616     -2.526      0.012      -2.764      -0.348\n",
      "euPriorityBalanceW13__Control immigration                                  0.0461      0.440      0.105      0.917      -0.817       0.910\n",
      "asylumMoreW13__Many more                                                   0.9542      0.627      1.522      0.128      -0.275       2.183\n",
      "overseasAidW10__Strongly agree                                             0.9134      0.943      0.969      0.333      -0.935       2.762\n",
      "studentsMoreW13__Many more                                                 0.5953      0.478      1.245      0.213      -0.342       1.532\n",
      "familiesMoreW13__Many more                                                 0.1754      0.483      0.363      0.716      -0.771       1.122\n",
      "euPriorityBalanceW11__Control immigration                                 -0.0608      0.421     -0.144      0.885      -0.887       0.765\n",
      "immigEconW7__Good for economy                                             -0.7972      0.985     -0.809      0.419      -2.729       1.135\n",
      "immigrantsWelfareStateW11__Strongly agree                                  1.5688      1.013      1.549      0.122      -0.417       3.555\n",
      "ukCoopMovementW10__Bad for Britain                                         4.4540      1.463      3.045      0.002       1.586       7.322\n",
      "noneuMoreW13__Many more                                                   -0.0462      0.556     -0.083      0.934      -1.137       1.045\n",
      "immigSelfW11__Allow many more                                             -0.2175      0.630     -0.345      0.730      -1.453       1.018\n",
      "euPriorityBalanceW12__Control immigration                                 -0.2978      0.397     -0.751      0.453      -1.076       0.480\n",
      "warmAsianW11__Very warm                                                    0.1729      0.059      2.946      0.003       0.058       0.288\n",
      "blackEqualityW6_W12__Gone much too far                                    -2.3998      0.882     -2.722      0.007      -4.128      -0.671\n",
      "immigrantsWelfareStateW7__Strongly agree                                  -1.2504      1.456     -0.859      0.390      -4.104       1.604\n",
      "harkBackW10__Strongly agree                                               -1.0609      0.910     -1.166      0.244      -2.845       0.723\n",
      "populism1W10__Strongly agree                                              -0.6945      1.355     -0.513      0.608      -3.351       1.962\n",
      "ptvUKIPW10__Very likely                                                    0.1980      0.377      0.526      0.599      -0.540       0.936\n",
      "benefitsToMigrantsW7__Never                                               -0.9204      1.047     -0.879      0.380      -2.974       1.133\n",
      "euMoreW7__Many more                                                       -0.1011      0.687     -0.147      0.883      -1.449       1.247\n",
      "familiesMoreW7__Many more                                                 -0.3853      0.526     -0.732      0.464      -1.417       0.646\n",
      "populism2W10__Strongly agree                                              -0.3316      0.933     -0.355      0.722      -2.161       1.497\n",
      "harkBackW7__Strongly agree                                                -1.6463      1.025     -1.606      0.108      -3.656       0.363\n",
      "immigCulturalW7__Enriches cultural life                                   -1.0321      0.958     -1.078      0.281      -2.910       0.845\n",
      "socialIdentityGlobalRemainW9__A great deal in common                       0.4497      0.335      1.343      0.179      -0.207       1.106\n",
      "likeUKIPW10__Strongly like                                                -0.5341      0.523     -1.021      0.307      -1.560       0.492\n",
      "immigEconW4__Good for economy                                              1.0222      1.006      1.016      0.310      -0.950       2.995\n",
      "changeImmigW11__Getting a lot higher                                       0.4815      0.923      0.521      0.602      -1.329       2.292\n",
      "europeannessW10__Very strongly European                                   -0.2611      0.642     -0.406      0.684      -1.521       0.998\n",
      "immigCulturalW8__Enriches cultural life                                    4.3161      1.006      4.292      0.000       2.345       6.288\n",
      "euUKRichW8__Strongly agree                                                -1.1493      1.070     -1.074      0.283      -3.247       0.949\n",
      "familiesMoreW8__Many more                                                  0.1870      0.519      0.361      0.718      -0.830       1.204\n",
      "socialIdentityGlobalRemainW10__A great deal in common                      0.1148      0.305      0.376      0.707      -0.484       0.713\n",
      "al2W10W11W12__Strongly agree                                               0.1225      1.190      0.103      0.918      -2.212       2.457\n",
      "ptvUKIPW9__Very likely                                                     0.2950      0.409      0.721      0.471      -0.507       1.097\n",
      "satDemUKW10__Very satisfied                                               -0.7108      1.154     -0.616      0.538      -2.973       1.551\n",
      "discrimWhiteW10__A lot of discrimination against                          -1.0825      0.334     -3.242      0.001      -1.737      -0.428\n",
      "EUIntegrationSelfW10__Protect our independence                            -0.1931      0.524     -0.369      0.712      -1.220       0.834\n",
      "happyEULeaveW10__Extremely happy                                           1.4701      0.490      3.001      0.003       0.510       2.430\n",
      "al_scaleW10W11W12__Authoritarian                                          -0.2541      0.500     -0.508      0.611      -1.235       0.727\n",
      "trustMPsW10__A great deal of trust                                        -0.3427      0.713     -0.480      0.631      -1.742       1.056\n",
      "happyEULeaveW9__Extremely happy                                           -0.8498      0.502     -1.692      0.091      -1.835       0.135\n",
      "benefitsToMigrantsW8__Never                                               -0.5062      0.962     -0.526      0.599      -2.393       1.381\n",
      "studentsMoreW7__Many more                                                 -0.1532      0.514     -0.298      0.766      -1.161       0.854\n",
      "likeUKIPW9__Strongly like                                                 -0.2998      0.507     -0.592      0.554      -1.293       0.693\n",
      "warmBlackW11__Very warm                                                    0.2003      0.062      3.212      0.001       0.078       0.323\n",
      "asylumMoreW7__Many more                                                    0.6433      0.694      0.926      0.354      -0.718       2.005\n",
      "radicalW10__Strongly agree                                                -1.8214      1.033     -1.764      0.078      -3.846       0.204\n",
      "europeannessW9__Very strongly European                                     0.6822      0.665      1.026      0.305      -0.621       1.986\n",
      "euCloserW8__Strongly agree                                                 1.4599      0.929      1.571      0.116      -0.362       3.281\n",
      "immigSelfW9__Allow many more                                              -1.7117      0.608     -2.818      0.005      -2.903      -0.521\n",
      "likeLDW13__Strongly like                                                   0.4057      0.509      0.796      0.426      -0.593       1.405\n",
      "changeImmigW10__Getting a lot higher                                      -0.7014      0.973     -0.721      0.471      -2.610       1.207\n",
      "satDemUKW8__Very satisfied                                                 0.3824      1.120      0.341      0.733      -1.814       2.579\n",
      "euMoreW8__Many more                                                        1.2774      0.619      2.064      0.039       0.064       2.491\n",
      "al5W10W11W12__Strongly agree                                              -0.0258      1.462     -0.018      0.986      -2.892       2.841\n",
      "likeLDW10__Strongly like                                                   0.0966      0.567      0.170      0.865      -1.016       1.209\n",
      "noneuMoreW7__Many more                                                     1.4215      0.673      2.112      0.035       0.102       2.741\n",
      "al2W7W8W9__Strongly agree                                                  0.1689      1.161      0.145      0.884      -2.108       2.446\n",
      "EUIntegrationSelfW9__Protect our independence                              0.3811      0.546      0.699      0.485      -0.689       1.451\n",
      "effectsEUNHSW10__Much better                                              -0.4997      0.983     -0.508      0.611      -2.428       1.428\n",
      "likeFarageW10__Strongly like                                              -0.0779      0.423     -0.184      0.854      -0.908       0.752\n",
      "likeLDW9__Strongly like                                                    0.0188      0.596      0.032      0.975      -1.150       1.188\n",
      "asylumMoreW8__Many more                                                    0.4615      0.628      0.735      0.462      -0.770       1.693\n",
      "immigrantsWelfareStateW8__Strongly agree                                  -0.2105      1.156     -0.182      0.856      -2.477       2.056\n",
      "controlImmigW9__Complete control                                          -1.1697      0.851     -1.375      0.169      -2.838       0.499\n",
      "ptvLDW10__Very likely                                                     -1.2885      0.472     -2.731      0.006      -2.214      -0.363\n",
      "happyTrumpW10__Extremely happy                                             0.2498      0.278      0.897      0.370      -0.296       0.796\n",
      "immigCulturalW4__Enriches cultural life                                    0.0702      1.003      0.070      0.944      -1.897       2.037\n",
      "likeLDW8__Strongly like                                                    0.0498      0.519      0.096      0.924      -0.968       1.067\n",
      "immigCulturalW3__Enriches cultural life                                    0.5619      1.361      0.413      0.680      -2.106       3.230\n",
      "studentsMoreW8__Many more                                                  0.2635      0.449      0.587      0.557      -0.616       1.143\n",
      "immigEconW2__Good for economy                                              0.2824      1.201      0.235      0.814      -2.073       2.638\n",
      "al_scaleW13__Authoritarian                                                 0.2812      0.369      0.761      0.447      -0.443       1.005\n",
      "lr_scaleW10W11W12__Right                                                   0.1796      0.334      0.538      0.590      -0.475       0.834\n",
      "trustMPsW7__A great deal of trust                                         -0.6900      0.792     -0.871      0.384      -2.243       0.863\n",
      "al_scaleW7W8W9__Authoritarian                                              0.3301      0.438      0.753      0.451      -0.529       1.189\n",
      "socialIdentityGlobalRemainW8__A great deal in common                      -0.4515      0.338     -1.335      0.182      -1.114       0.211\n",
      "changeCrimeW10__Getting a lot higher                                       0.1232      0.985      0.125      0.900      -1.807       2.054\n",
      "strongLeaderW10__Strongly agree                                           -1.0130      0.659     -1.537      0.124      -2.305       0.279\n",
      "discrimBMEW10__A lot of discrimination against                            -0.3287      0.584     -0.563      0.574      -1.473       0.816\n",
      "immigEconW3__Good for economy                                             -1.6625      1.069     -1.555      0.120      -3.759       0.434\n",
      "immigCulturalW2__Enriches cultural life                                    0.0040      1.149      0.003      0.997      -2.248       2.256\n",
      "likeNuttallW13__Strongly like                                             -0.2329      0.424     -0.550      0.583      -1.064       0.598\n",
      "ptvLDW9__Very likely                                                       0.7604      0.471      1.614      0.107      -0.164       1.684\n",
      "immigContributeTakeW8__Get more than they pay                             -0.9290      0.520     -1.785      0.074      -1.949       0.091\n",
      "likeAlanJohnsonW8__Strongly like                                           0.7446      0.371      2.005      0.045       0.017       1.473\n",
      "likeNuttallW12__Strongly like                                             -0.3389      0.423     -0.801      0.423      -1.169       0.491\n",
      "changeEconomyW8__Getting a lot better                                      1.8895      0.905      2.087      0.037       0.114       3.665\n",
      "profile_gross_household__£150,000 and over                                 1.4623      0.485      3.015      0.003       0.511       2.413\n",
      "immigEconW1__Good for economy                                              0.3484      0.850      0.410      0.682      -1.318       2.015\n",
      "immigSelfW7__Allow many more                                              -0.7594      0.553     -1.372      0.170      -1.844       0.325\n",
      "immigConW9__Allow many more                                                0.0483      0.309      0.156      0.876      -0.558       0.655\n",
      "noneuMoreW8__Many more                                                    -0.6909      0.548     -1.260      0.208      -1.766       0.384\n",
      "ethno3W10__Strongly agree                                                 -1.1698      0.735     -1.592      0.112      -2.611       0.271\n",
      "discrimMuslimsW10__A lot of discrimination against                         0.2856      0.529      0.539      0.590      -0.752       1.324\n",
      "trustMPsW9__A great deal of trust                                          0.7800      0.762      1.024      0.306      -0.713       2.273\n",
      "handleMIIUKIPW5__Very well                                                 0.0267      0.310      0.086      0.931      -0.581       0.634\n",
      "labLookAfterUnempW10__Very closely                                         1.5796      0.938      1.684      0.092      -0.259       3.419\n",
      "changeNHSLabW10__Getting a lot better                                      1.1848      0.840      1.410      0.159      -0.463       2.832\n",
      "lr_scaleW7W8W9__Right                                                     -0.6299      0.323     -1.953      0.051      -1.262       0.003\n",
      "immigContributeTakeW7__Get more than they pay                             -1.3520      0.633     -2.137      0.033      -2.592      -0.112\n",
      "likeConW10__Strongly like                                                 -0.4219      0.536     -0.787      0.432      -1.473       0.630\n",
      "handleMIIConW5__Very well                                                  0.0949      0.474      0.200      0.841      -0.834       1.024\n",
      "natSecuritySelfW10__Protect civil liberties                                0.7159      0.279      2.563      0.010       0.168       1.263\n",
      "profile_socialgrade_cieW7__E                                               0.1701      1.007      0.169      0.866      -1.805       2.145\n",
      "likeMayW9__Strongly like                                                  -0.6247      0.356     -1.754      0.080      -1.323       0.074\n",
      "ptvConW10__Very likely                                                     0.4951      0.401      1.236      0.217      -0.290       1.281\n",
      "likeSturgeonW13__Strongly like                                             0.8805      0.555      1.588      0.112      -0.207       1.968\n",
      "profile_socialgrade_cieW8__E                                              -0.1332      0.893     -0.149      0.881      -1.884       1.618\n",
      "likeSturgeonW11__Strongly like                                            -0.1863      0.503     -0.370      0.711      -1.173       0.800\n",
      "ptvConW9__Very likely                                                     -0.1865      0.352     -0.529      0.597      -0.877       0.504\n",
      "euRefExpectationW8__100 - UK will definitely vote to leave the EU          0.0555      0.068      0.821      0.412      -0.077       0.188\n",
      "lr_scaleW13__Right                                                         0.2826      0.302      0.937      0.349      -0.309       0.874\n",
      "happyScotIndepResultW11__Extremely happy                                  -0.2702      0.254     -1.062      0.288      -0.769       0.229\n",
      "likeCameronW5__Strongly like                                               0.2807      0.476      0.590      0.555      -0.652       1.213\n",
      "likeLabW9__Strongly like                                                  -0.2086      0.484     -0.431      0.666      -1.157       0.740\n",
      "winConstituencyUKIPW12__100 - Very likely to win                           0.1241      0.054      2.297      0.022       0.018       0.230\n",
      "likeLabW13__Strongly like                                                 -0.0653      0.593     -0.110      0.912      -1.228       1.098\n",
      "redistSelfW10__Government should be less concerned about equal incomes     0.6383      0.319      1.998      0.046       0.012       1.265\n",
      "redistConW11__Government should be less concerned about equal incomes      0.3636      0.301      1.208      0.227      -0.227       0.954\n",
      "likeLabW10__Strongly like                                                  0.0590      0.472      0.125      0.900      -0.866       0.984\n",
      "ptvLabW13__Very likely                                                     0.2022      0.477      0.424      0.672      -0.734       1.138\n",
      "redistSelfW2__Government should be less concerned about equal incomes      0.2874      0.393      0.731      0.465      -0.483       1.058\n",
      "likeMayW10__Strongly like                                                 -0.1496      0.449     -0.333      0.739      -1.030       0.731\n",
      "profile_gross_householdW12__£150,000 and over                             -0.2224      0.419     -0.531      0.595      -1.043       0.599\n",
      "profile_gross_personal__£100,000 and over                                 -0.8482      0.503     -1.685      0.092      -1.835       0.139\n",
      "britishnessW7__Very strongly British                                       0.2832      0.520      0.545      0.586      -0.736       1.303\n",
      "redistSelfW6__Government should be less concerned about equal incomes      0.0927      0.407      0.227      0.820      -0.706       0.891\n",
      "redistSelfW4__Government should be less concerned about equal incomes      0.2799      0.397      0.705      0.481      -0.498       1.058\n",
      "likeConW12__Strongly like                                                 -0.4213      0.572     -0.736      0.462      -1.544       0.701\n",
      "EUIntegrationConW12__Protect our independence                              0.3494      0.384      0.909      0.363      -0.404       1.103\n",
      "ptvConW11__Very likely                                                     0.0829      0.373      0.222      0.824      -0.648       0.814\n",
      "lrgreensW5__Right                                                          0.7482      0.542      1.380      0.168      -0.315       1.811\n",
      "likeMayW12__Strongly like                                                  0.6986      0.561      1.246      0.213      -0.401       1.798\n",
      "majorityPartyConW11__Very likely                                          -0.7382      0.401     -1.839      0.066      -1.525       0.049\n",
      "polAttentionW13__Pay a great deal of attention                            -0.1005      0.338     -0.297      0.766      -0.763       0.562\n",
      "warmWhiteW11__Very warm                                                    0.2131      0.089      2.405      0.016       0.039       0.387\n",
      "riskScaleW8                                                                0.1192      0.229      0.521      0.603      -0.330       0.568\n",
      "likeFarageW1__Strongly like                                                0.3952      0.394      1.002      0.316      -0.378       1.168\n",
      "personality_agreeableness                                                 -0.3550      0.430     -0.825      0.410      -1.199       0.489\n",
      "winConstituencyGreenW5__100 - Very likely to win                           0.1073      0.069      1.560      0.119      -0.028       0.242\n",
      "likeCorbynW12__Strongly like                                              -0.2932      0.393     -0.747      0.455      -1.063       0.477\n",
      "likeMayW11__Strongly like                                                 -0.3544      0.490     -0.723      0.470      -1.315       0.606\n",
      "winConstituencyGreenW11__98.0                                              0.0831      0.071      1.179      0.239      -0.055       0.221\n",
      "immigLabW11__Allow many more                                               0.7275      0.354      2.052      0.040       0.032       1.422\n",
      "Age                                                                        0.2590      0.083      3.112      0.002       0.096       0.422\n",
      "enviroGrowthW7__Protecting the environment should have priority           -0.1766      0.320     -0.552      0.581      -0.803       0.450\n",
      "likeGoveW8__Strongly like                                                  0.2972      0.384      0.773      0.439      -0.456       1.050\n",
      "likeGoveW9__Strongly like                                                  0.6159      0.396      1.555      0.120      -0.161       1.393\n",
      "==============================================================================\n",
      "Omnibus:                      130.379   Durbin-Watson:                   2.022\n",
      "Prob(Omnibus):                  0.000   Jarque-Bera (JB):              141.734\n",
      "Skew:                           0.482   Prob(JB):                     1.67e-31\n",
      "Kurtosis:                       2.789   Cond. No.                         468.\n",
      "==============================================================================\n",
      "\n",
      "Warnings:\n",
      "[1] Standard Errors assume that the covariance matrix of the errors is correctly specified.\n"
     ]
    }
   ],
   "source": [
    "X = sm.add_constant(X)\n",
    "model = sm.OLS(y, X)\n",
    "results = model.fit()\n",
    "print(results.summary())"
   ]
  },
  {
   "cell_type": "code",
   "execution_count": null,
   "metadata": {},
   "outputs": [],
   "source": [
    "###### "
   ]
  },
  {
   "cell_type": "code",
   "execution_count": 389,
   "metadata": {},
   "outputs": [],
   "source": [
    "imvar_list = [\"immigEcon\",\"immigCultural\", \"immigSelf\",\n",
    "             \"immigrationLevel\", \"immigContributeTake\",\n",
    "             \"immigrantsWelfareState\", \"controlImmig\",\n",
    "             \"effectsEUImmigration\", \"euPriorityBalance\",\n",
    "             \"changeImmig\", \"changeImmigLab\",\n",
    "             \"govtHandleImmig\", \"labHandleImmig\",\n",
    "             \"asylumMore\", \"euMore\", \"noneuMore\", \"studentsMore\", \"familiesMore\"]"
   ]
  },
  {
   "cell_type": "code",
   "execution_count": 390,
   "metadata": {},
   "outputs": [],
   "source": [
    "number_of_waves = 13\n",
    "imvars_by_waves = pd.DataFrame(np.full( ( len(imvar_list),number_of_waves), np.nan),\n",
    "                  columns = [\"W\"+str(x) for x in range(1,number_of_waves+1)],\n",
    "                  index = imvar_list ).T"
   ]
  },
  {
   "cell_type": "code",
   "execution_count": 391,
   "metadata": {},
   "outputs": [
    {
     "name": "stdout",
     "output_type": "stream",
     "text": [
      "immigEconW1 6\n",
      "immigCulturalW1 6\n",
      "immigSelfW7 10\n",
      "immigrationLevelW4 4\n",
      "immigContributeTakeW7 6\n",
      "immigrantsWelfareStateW1 4\n",
      "controlImmigW8 4\n",
      "effectsEUImmigrationW7 4\n",
      "euPriorityBalanceW10 10\n",
      "changeImmigW1 4\n",
      "changeImmigLabW1 4\n",
      "govtHandleImmigW1 4\n",
      "labHandleImmigW1 4\n",
      "asylumMoreW7 10\n",
      "euMoreW7 10\n",
      "noneuMoreW7 10\n",
      "studentsMoreW7 10\n",
      "familiesMoreW7 10\n"
     ]
    },
    {
     "data": {
      "text/html": [
       "<div>\n",
       "<style scoped>\n",
       "    .dataframe tbody tr th:only-of-type {\n",
       "        vertical-align: middle;\n",
       "    }\n",
       "\n",
       "    .dataframe tbody tr th {\n",
       "        vertical-align: top;\n",
       "    }\n",
       "\n",
       "    .dataframe thead th {\n",
       "        text-align: right;\n",
       "    }\n",
       "</style>\n",
       "<table border=\"1\" class=\"dataframe\">\n",
       "  <thead>\n",
       "    <tr style=\"text-align: right;\">\n",
       "      <th></th>\n",
       "      <th>immigEcon_Good for economy</th>\n",
       "      <th>immigCultural_Enriches cultural life</th>\n",
       "      <th>immigSelf_Allow many more</th>\n",
       "      <th>immigrationLevel_Increased a lot</th>\n",
       "      <th>immigContributeTake_Get more than they pay</th>\n",
       "      <th>immigrantsWelfareState_Strongly agree</th>\n",
       "      <th>controlImmig_Complete control</th>\n",
       "      <th>effectsEUImmigration_Much higher</th>\n",
       "      <th>euPriorityBalance_Control immigration</th>\n",
       "      <th>changeImmig_Getting a lot higher</th>\n",
       "      <th>changeImmigLab_Getting a lot higher</th>\n",
       "      <th>govtHandleImmig_Very well</th>\n",
       "      <th>labHandleImmig_Very well</th>\n",
       "      <th>asylumMore_Many more</th>\n",
       "      <th>euMore_Many more</th>\n",
       "      <th>noneuMore_Many more</th>\n",
       "      <th>studentsMore_Many more</th>\n",
       "      <th>familiesMore_Many more</th>\n",
       "    </tr>\n",
       "  </thead>\n",
       "  <tbody>\n",
       "    <tr>\n",
       "      <th>W1</th>\n",
       "      <td>0.422969</td>\n",
       "      <td>0.405089</td>\n",
       "      <td>NaN</td>\n",
       "      <td>NaN</td>\n",
       "      <td>NaN</td>\n",
       "      <td>0.619937</td>\n",
       "      <td>NaN</td>\n",
       "      <td>NaN</td>\n",
       "      <td>NaN</td>\n",
       "      <td>0.744253</td>\n",
       "      <td>0.644485</td>\n",
       "      <td>0.380639</td>\n",
       "      <td>0.414651</td>\n",
       "      <td>NaN</td>\n",
       "      <td>NaN</td>\n",
       "      <td>NaN</td>\n",
       "      <td>NaN</td>\n",
       "      <td>NaN</td>\n",
       "    </tr>\n",
       "    <tr>\n",
       "      <th>W2</th>\n",
       "      <td>0.424609</td>\n",
       "      <td>0.409209</td>\n",
       "      <td>NaN</td>\n",
       "      <td>NaN</td>\n",
       "      <td>NaN</td>\n",
       "      <td>0.643482</td>\n",
       "      <td>NaN</td>\n",
       "      <td>NaN</td>\n",
       "      <td>NaN</td>\n",
       "      <td>0.731656</td>\n",
       "      <td>0.630306</td>\n",
       "      <td>0.342947</td>\n",
       "      <td>0.403055</td>\n",
       "      <td>NaN</td>\n",
       "      <td>NaN</td>\n",
       "      <td>NaN</td>\n",
       "      <td>NaN</td>\n",
       "      <td>NaN</td>\n",
       "    </tr>\n",
       "    <tr>\n",
       "      <th>W3</th>\n",
       "      <td>0.401930</td>\n",
       "      <td>0.393543</td>\n",
       "      <td>NaN</td>\n",
       "      <td>NaN</td>\n",
       "      <td>NaN</td>\n",
       "      <td>0.669404</td>\n",
       "      <td>NaN</td>\n",
       "      <td>NaN</td>\n",
       "      <td>NaN</td>\n",
       "      <td>0.762521</td>\n",
       "      <td>0.652189</td>\n",
       "      <td>0.273102</td>\n",
       "      <td>0.325407</td>\n",
       "      <td>NaN</td>\n",
       "      <td>NaN</td>\n",
       "      <td>NaN</td>\n",
       "      <td>NaN</td>\n",
       "      <td>NaN</td>\n",
       "    </tr>\n",
       "    <tr>\n",
       "      <th>W4</th>\n",
       "      <td>0.457556</td>\n",
       "      <td>0.432202</td>\n",
       "      <td>NaN</td>\n",
       "      <td>0.217151</td>\n",
       "      <td>NaN</td>\n",
       "      <td>0.620283</td>\n",
       "      <td>NaN</td>\n",
       "      <td>NaN</td>\n",
       "      <td>NaN</td>\n",
       "      <td>0.773037</td>\n",
       "      <td>0.643577</td>\n",
       "      <td>0.271421</td>\n",
       "      <td>0.348061</td>\n",
       "      <td>NaN</td>\n",
       "      <td>NaN</td>\n",
       "      <td>NaN</td>\n",
       "      <td>NaN</td>\n",
       "      <td>NaN</td>\n",
       "    </tr>\n",
       "    <tr>\n",
       "      <th>W5</th>\n",
       "      <td>NaN</td>\n",
       "      <td>NaN</td>\n",
       "      <td>NaN</td>\n",
       "      <td>NaN</td>\n",
       "      <td>NaN</td>\n",
       "      <td>NaN</td>\n",
       "      <td>NaN</td>\n",
       "      <td>NaN</td>\n",
       "      <td>NaN</td>\n",
       "      <td>NaN</td>\n",
       "      <td>NaN</td>\n",
       "      <td>NaN</td>\n",
       "      <td>NaN</td>\n",
       "      <td>NaN</td>\n",
       "      <td>NaN</td>\n",
       "      <td>NaN</td>\n",
       "      <td>NaN</td>\n",
       "      <td>NaN</td>\n",
       "    </tr>\n",
       "    <tr>\n",
       "      <th>W6</th>\n",
       "      <td>NaN</td>\n",
       "      <td>NaN</td>\n",
       "      <td>NaN</td>\n",
       "      <td>0.235075</td>\n",
       "      <td>NaN</td>\n",
       "      <td>NaN</td>\n",
       "      <td>NaN</td>\n",
       "      <td>NaN</td>\n",
       "      <td>NaN</td>\n",
       "      <td>NaN</td>\n",
       "      <td>NaN</td>\n",
       "      <td>NaN</td>\n",
       "      <td>NaN</td>\n",
       "      <td>NaN</td>\n",
       "      <td>NaN</td>\n",
       "      <td>NaN</td>\n",
       "      <td>NaN</td>\n",
       "      <td>NaN</td>\n",
       "    </tr>\n",
       "    <tr>\n",
       "      <th>W7</th>\n",
       "      <td>0.450405</td>\n",
       "      <td>0.414961</td>\n",
       "      <td>0.294593</td>\n",
       "      <td>NaN</td>\n",
       "      <td>0.655993</td>\n",
       "      <td>0.631499</td>\n",
       "      <td>NaN</td>\n",
       "      <td>0.344286</td>\n",
       "      <td>NaN</td>\n",
       "      <td>0.793386</td>\n",
       "      <td>0.686475</td>\n",
       "      <td>0.239651</td>\n",
       "      <td>0.337831</td>\n",
       "      <td>0.312620</td>\n",
       "      <td>0.364955</td>\n",
       "      <td>0.316704</td>\n",
       "      <td>0.428538</td>\n",
       "      <td>0.372131</td>\n",
       "    </tr>\n",
       "    <tr>\n",
       "      <th>W8</th>\n",
       "      <td>0.461082</td>\n",
       "      <td>0.428667</td>\n",
       "      <td>0.297304</td>\n",
       "      <td>NaN</td>\n",
       "      <td>0.615500</td>\n",
       "      <td>0.624870</td>\n",
       "      <td>0.316654</td>\n",
       "      <td>0.338188</td>\n",
       "      <td>NaN</td>\n",
       "      <td>0.792248</td>\n",
       "      <td>NaN</td>\n",
       "      <td>NaN</td>\n",
       "      <td>NaN</td>\n",
       "      <td>0.318247</td>\n",
       "      <td>0.366504</td>\n",
       "      <td>0.338750</td>\n",
       "      <td>0.438382</td>\n",
       "      <td>0.362413</td>\n",
       "    </tr>\n",
       "    <tr>\n",
       "      <th>W9</th>\n",
       "      <td>NaN</td>\n",
       "      <td>NaN</td>\n",
       "      <td>0.314482</td>\n",
       "      <td>NaN</td>\n",
       "      <td>NaN</td>\n",
       "      <td>NaN</td>\n",
       "      <td>0.508021</td>\n",
       "      <td>NaN</td>\n",
       "      <td>NaN</td>\n",
       "      <td>NaN</td>\n",
       "      <td>NaN</td>\n",
       "      <td>NaN</td>\n",
       "      <td>NaN</td>\n",
       "      <td>NaN</td>\n",
       "      <td>NaN</td>\n",
       "      <td>NaN</td>\n",
       "      <td>NaN</td>\n",
       "      <td>NaN</td>\n",
       "    </tr>\n",
       "    <tr>\n",
       "      <th>W10</th>\n",
       "      <td>0.510847</td>\n",
       "      <td>0.458711</td>\n",
       "      <td>0.296479</td>\n",
       "      <td>NaN</td>\n",
       "      <td>NaN</td>\n",
       "      <td>0.550885</td>\n",
       "      <td>0.494319</td>\n",
       "      <td>0.365133</td>\n",
       "      <td>0.524150</td>\n",
       "      <td>0.656667</td>\n",
       "      <td>0.632893</td>\n",
       "      <td>NaN</td>\n",
       "      <td>NaN</td>\n",
       "      <td>NaN</td>\n",
       "      <td>NaN</td>\n",
       "      <td>NaN</td>\n",
       "      <td>NaN</td>\n",
       "      <td>NaN</td>\n",
       "    </tr>\n",
       "    <tr>\n",
       "      <th>W11</th>\n",
       "      <td>0.537817</td>\n",
       "      <td>0.474287</td>\n",
       "      <td>0.306642</td>\n",
       "      <td>NaN</td>\n",
       "      <td>NaN</td>\n",
       "      <td>0.536697</td>\n",
       "      <td>0.522855</td>\n",
       "      <td>0.363980</td>\n",
       "      <td>0.507932</td>\n",
       "      <td>0.605033</td>\n",
       "      <td>NaN</td>\n",
       "      <td>NaN</td>\n",
       "      <td>NaN</td>\n",
       "      <td>NaN</td>\n",
       "      <td>NaN</td>\n",
       "      <td>NaN</td>\n",
       "      <td>NaN</td>\n",
       "      <td>NaN</td>\n",
       "    </tr>\n",
       "    <tr>\n",
       "      <th>W12</th>\n",
       "      <td>NaN</td>\n",
       "      <td>NaN</td>\n",
       "      <td>0.323433</td>\n",
       "      <td>NaN</td>\n",
       "      <td>NaN</td>\n",
       "      <td>NaN</td>\n",
       "      <td>NaN</td>\n",
       "      <td>NaN</td>\n",
       "      <td>0.526275</td>\n",
       "      <td>NaN</td>\n",
       "      <td>NaN</td>\n",
       "      <td>NaN</td>\n",
       "      <td>NaN</td>\n",
       "      <td>NaN</td>\n",
       "      <td>NaN</td>\n",
       "      <td>NaN</td>\n",
       "      <td>NaN</td>\n",
       "      <td>NaN</td>\n",
       "    </tr>\n",
       "    <tr>\n",
       "      <th>W13</th>\n",
       "      <td>0.519733</td>\n",
       "      <td>0.452213</td>\n",
       "      <td>0.277810</td>\n",
       "      <td>NaN</td>\n",
       "      <td>NaN</td>\n",
       "      <td>NaN</td>\n",
       "      <td>0.509571</td>\n",
       "      <td>0.360474</td>\n",
       "      <td>0.494464</td>\n",
       "      <td>NaN</td>\n",
       "      <td>NaN</td>\n",
       "      <td>NaN</td>\n",
       "      <td>NaN</td>\n",
       "      <td>0.314533</td>\n",
       "      <td>0.406980</td>\n",
       "      <td>0.371492</td>\n",
       "      <td>0.442802</td>\n",
       "      <td>0.393313</td>\n",
       "    </tr>\n",
       "  </tbody>\n",
       "</table>\n",
       "</div>"
      ],
      "text/plain": [
       "     immigEcon_Good for economy  immigCultural_Enriches cultural life  \\\n",
       "W1                     0.422969                              0.405089   \n",
       "W2                     0.424609                              0.409209   \n",
       "W3                     0.401930                              0.393543   \n",
       "W4                     0.457556                              0.432202   \n",
       "W5                          NaN                                   NaN   \n",
       "W6                          NaN                                   NaN   \n",
       "W7                     0.450405                              0.414961   \n",
       "W8                     0.461082                              0.428667   \n",
       "W9                          NaN                                   NaN   \n",
       "W10                    0.510847                              0.458711   \n",
       "W11                    0.537817                              0.474287   \n",
       "W12                         NaN                                   NaN   \n",
       "W13                    0.519733                              0.452213   \n",
       "\n",
       "     immigSelf_Allow many more  immigrationLevel_Increased a lot  \\\n",
       "W1                         NaN                               NaN   \n",
       "W2                         NaN                               NaN   \n",
       "W3                         NaN                               NaN   \n",
       "W4                         NaN                          0.217151   \n",
       "W5                         NaN                               NaN   \n",
       "W6                         NaN                          0.235075   \n",
       "W7                    0.294593                               NaN   \n",
       "W8                    0.297304                               NaN   \n",
       "W9                    0.314482                               NaN   \n",
       "W10                   0.296479                               NaN   \n",
       "W11                   0.306642                               NaN   \n",
       "W12                   0.323433                               NaN   \n",
       "W13                   0.277810                               NaN   \n",
       "\n",
       "     immigContributeTake_Get more than they pay  \\\n",
       "W1                                          NaN   \n",
       "W2                                          NaN   \n",
       "W3                                          NaN   \n",
       "W4                                          NaN   \n",
       "W5                                          NaN   \n",
       "W6                                          NaN   \n",
       "W7                                     0.655993   \n",
       "W8                                     0.615500   \n",
       "W9                                          NaN   \n",
       "W10                                         NaN   \n",
       "W11                                         NaN   \n",
       "W12                                         NaN   \n",
       "W13                                         NaN   \n",
       "\n",
       "     immigrantsWelfareState_Strongly agree  controlImmig_Complete control  \\\n",
       "W1                                0.619937                            NaN   \n",
       "W2                                0.643482                            NaN   \n",
       "W3                                0.669404                            NaN   \n",
       "W4                                0.620283                            NaN   \n",
       "W5                                     NaN                            NaN   \n",
       "W6                                     NaN                            NaN   \n",
       "W7                                0.631499                            NaN   \n",
       "W8                                0.624870                       0.316654   \n",
       "W9                                     NaN                       0.508021   \n",
       "W10                               0.550885                       0.494319   \n",
       "W11                               0.536697                       0.522855   \n",
       "W12                                    NaN                            NaN   \n",
       "W13                                    NaN                       0.509571   \n",
       "\n",
       "     effectsEUImmigration_Much higher  euPriorityBalance_Control immigration  \\\n",
       "W1                                NaN                                    NaN   \n",
       "W2                                NaN                                    NaN   \n",
       "W3                                NaN                                    NaN   \n",
       "W4                                NaN                                    NaN   \n",
       "W5                                NaN                                    NaN   \n",
       "W6                                NaN                                    NaN   \n",
       "W7                           0.344286                                    NaN   \n",
       "W8                           0.338188                                    NaN   \n",
       "W9                                NaN                                    NaN   \n",
       "W10                          0.365133                               0.524150   \n",
       "W11                          0.363980                               0.507932   \n",
       "W12                               NaN                               0.526275   \n",
       "W13                          0.360474                               0.494464   \n",
       "\n",
       "     changeImmig_Getting a lot higher  changeImmigLab_Getting a lot higher  \\\n",
       "W1                           0.744253                             0.644485   \n",
       "W2                           0.731656                             0.630306   \n",
       "W3                           0.762521                             0.652189   \n",
       "W4                           0.773037                             0.643577   \n",
       "W5                                NaN                                  NaN   \n",
       "W6                                NaN                                  NaN   \n",
       "W7                           0.793386                             0.686475   \n",
       "W8                           0.792248                                  NaN   \n",
       "W9                                NaN                                  NaN   \n",
       "W10                          0.656667                             0.632893   \n",
       "W11                          0.605033                                  NaN   \n",
       "W12                               NaN                                  NaN   \n",
       "W13                               NaN                                  NaN   \n",
       "\n",
       "     govtHandleImmig_Very well  labHandleImmig_Very well  \\\n",
       "W1                    0.380639                  0.414651   \n",
       "W2                    0.342947                  0.403055   \n",
       "W3                    0.273102                  0.325407   \n",
       "W4                    0.271421                  0.348061   \n",
       "W5                         NaN                       NaN   \n",
       "W6                         NaN                       NaN   \n",
       "W7                    0.239651                  0.337831   \n",
       "W8                         NaN                       NaN   \n",
       "W9                         NaN                       NaN   \n",
       "W10                        NaN                       NaN   \n",
       "W11                        NaN                       NaN   \n",
       "W12                        NaN                       NaN   \n",
       "W13                        NaN                       NaN   \n",
       "\n",
       "     asylumMore_Many more  euMore_Many more  noneuMore_Many more  \\\n",
       "W1                    NaN               NaN                  NaN   \n",
       "W2                    NaN               NaN                  NaN   \n",
       "W3                    NaN               NaN                  NaN   \n",
       "W4                    NaN               NaN                  NaN   \n",
       "W5                    NaN               NaN                  NaN   \n",
       "W6                    NaN               NaN                  NaN   \n",
       "W7               0.312620          0.364955             0.316704   \n",
       "W8               0.318247          0.366504             0.338750   \n",
       "W9                    NaN               NaN                  NaN   \n",
       "W10                   NaN               NaN                  NaN   \n",
       "W11                   NaN               NaN                  NaN   \n",
       "W12                   NaN               NaN                  NaN   \n",
       "W13              0.314533          0.406980             0.371492   \n",
       "\n",
       "     studentsMore_Many more  familiesMore_Many more  \n",
       "W1                      NaN                     NaN  \n",
       "W2                      NaN                     NaN  \n",
       "W3                      NaN                     NaN  \n",
       "W4                      NaN                     NaN  \n",
       "W5                      NaN                     NaN  \n",
       "W6                      NaN                     NaN  \n",
       "W7                 0.428538                0.372131  \n",
       "W8                 0.438382                0.362413  \n",
       "W9                      NaN                     NaN  \n",
       "W10                     NaN                     NaN  \n",
       "W11                     NaN                     NaN  \n",
       "W12                     NaN                     NaN  \n",
       "W13                0.442802                0.393313  "
      ]
     },
     "execution_count": 391,
     "metadata": {},
     "output_type": "execute_result"
    }
   ],
   "source": [
    "for im_var in imvar_list:\n",
    "    immig_vars = [x for x in BES_Panel.columns if re.match(im_var+\"W\\d\",  x)]\n",
    "    wave_list = [x.split(im_var)[1] for x in immig_vars]\n",
    "\n",
    "    BES_immig = BES_Panel[immig_vars].replace(\"Don't know\",np.nan).apply(lambda x: x.cat.codes).replace(-1,np.nan)\n",
    "#     print(immig_vars, wave_list)\n",
    "    max_range = len(BES_Panel[immig_vars[0]].cat.categories.drop(\"Don't know\",errors='ignore'))-1\n",
    "    print(immig_vars[0], max_range)\n",
    "    for wave in wave_list:\n",
    "        wt_new = \"wt_new_\"+wave\n",
    "        wt_old = \"wt_full_\"+wave\n",
    "        if wt_new in BES_Panel.columns:\n",
    "            wt = BES_Panel[wt_new]\n",
    "        else:\n",
    "            wt = BES_Panel[wt_old]\n",
    "        imvars_by_waves.loc[wave,im_var] = (BES_immig[im_var+wave].multiply(wt).mean())/max_range\n",
    "        \n",
    "    top_cat = BES_Panel[immig_vars[0]].cat.categories.drop(\"Don't know\",errors='ignore')[-1]\n",
    "    imvars_by_waves.rename(index=str, columns={im_var: im_var + \"_\" + top_cat}, inplace=True)\n",
    "\n",
    "imvars_by_waves"
   ]
  },
  {
   "cell_type": "code",
   "execution_count": null,
   "metadata": {},
   "outputs": [],
   "source": []
  },
  {
   "cell_type": "code",
   "execution_count": 421,
   "metadata": {},
   "outputs": [],
   "source": [
    "cmap = ['red','purple','blue','yellow','black','orange','grey','cyan','brown','green','pink','olive','peru',\n",
    "        'fuchsia', 'chartreuse']"
   ]
  },
  {
   "cell_type": "code",
   "execution_count": 418,
   "metadata": {},
   "outputs": [],
   "source": [
    "wave_dates = BES_file_manifest[BES_file_manifest[\"Only_or_Combined\"]==\"Only\"][[\"Wave No\",\"Date_Start\"]].set_index(\"Wave No\")\n",
    "wave_dates = wave_dates.sort_index()\n",
    "wave_dates = wave_dates[\"Date_Start\"].apply(lambda x: pd.to_datetime(x, format = \"%b-%y\"))"
   ]
  },
  {
   "cell_type": "code",
   "execution_count": 422,
   "metadata": {},
   "outputs": [
    {
     "data": {
      "image/png": "[encoded data removed]",
      "text/plain": [
       "<Figure size 720x720 with 1 Axes>"
      ]
     },
     "metadata": {},
     "output_type": "display_data"
    }
   ],
   "source": [
    "# date = pd.date_range(\"2017-03\", freq=\"M\", periods=15)\n",
    "# count = np.random.rand(15,4)\n",
    "# df1 = pd.DataFrame({\"date\":date, \"count\" : count[:,0]})\n",
    "# df2 = pd.DataFrame({\"date\":date, \"count\" : count[:,1]+0.7})\n",
    "# df3 = pd.DataFrame({\"date\":date, \"count\" : count[:,2]+2})\n",
    "\n",
    "f, ax = plt.subplots(1, 1, figsize=(10,10))\n",
    "# x_col='date'\n",
    "# y_col = 'count'\n",
    "num=1\n",
    "for imvar in imvars_by_waves.columns:\n",
    "    notnull_vals = imvars_by_waves[imvar].notnull()\n",
    "    if num<=10:\n",
    "        marker = 'o'\n",
    "    else:\n",
    "        marker = 'v'\n",
    "    \n",
    "    ax.plot_date(wave_dates.values[notnull_vals],\n",
    "                 imvars_by_waves[imvar][notnull_vals],\n",
    "                 color=cmap[num%len(cmap)],\n",
    "                 label=imvar,\n",
    "                 linestyle=\"-\",\n",
    "                 marker = marker)\n",
    "    num = num +1\n",
    "# ax.plot_date(wave_dates, df2[\"count\"], color=\"red\", label=\"B\", linestyle=\"-\")\n",
    "# ax.plot_date(wave_dates, df3[\"count\"], color=\"green\", label=\"C\", linestyle=\"-\")\n",
    "\n",
    "ax.legend(loc=\"upper left\", bbox_to_anchor=(1,1))\n",
    "# legend(loc=\"upper left\", bbox_to_anchor=(1,1))\n",
    "\n",
    "plt.gcf().autofmt_xdate()\n",
    "plt.axvline(x=wave_dates.loc[3], alpha=.9)\n",
    "plt.text(wave_dates.loc[3],.8,'Peak UKIP (post EU elec.)',rotation=45)\n",
    "plt.axvline(x=wave_dates.loc[8], alpha=.9)\n",
    "plt.text(wave_dates.loc[8],.8,'2016 EU referendum',rotation=45)\n",
    "\n",
    "dataset_citation = \"Source: \" + manifest[\"Citation\"].values[0]\n",
    "plt.annotate(dataset_citation, (0,0), (0, -40),\n",
    "                             xycoords='axes fraction', textcoords='offset points', va='top', fontsize = 7)  \n",
    "\n",
    "Treatment = \"W13_comb_imm_corr\"\n",
    "plt.savefig(BES_output_folder+ Treatment + os.sep + \"Immigration_variables_by_waves.png\",bbox_inches='tight');\n",
    "plt.show()"
   ]
  },
  {
   "cell_type": "code",
   "execution_count": null,
   "metadata": {},
   "outputs": [],
   "source": [
    "# Waves!\n",
    "# immigEcon, immigCultural\n",
    "# changeImmig, immigrantsWelfareState (same minus W13)\n",
    "# XMore, immigSelf (+W12)\n",
    "# euPriorityBalance\n",
    "# "
   ]
  },
  {
   "cell_type": "code",
   "execution_count": null,
   "metadata": {},
   "outputs": [],
   "source": [
    "# What do we want to do?\n",
    "# Want to track *change* in variables\n",
    "# Same people all the way through? ~13,000 for immigEcon"
   ]
  },
  {
   "cell_type": "code",
   "execution_count": 992,
   "metadata": {},
   "outputs": [
    {
     "data": {
      "text/plain": [
       "Index(['id', 'wt_core_W3', 'wt_core_W4', 'wt_core_W5', 'wt_core_W6',\n",
       "       'wt_core_W7', 'wt_core_W8', 'wt_core_W9', 'wt_core_W1', 'wt_core_W2',\n",
       "       ...\n",
       "       'lr_scaleW1W2W3W4W5', 'al_scaleW1W2W3W4W5', 'lr_scaleW10W11W12',\n",
       "       'al_scaleW10W11W12', 'lr_scaleW13', 'al_scaleW13', 'CampaignDayW8',\n",
       "       'CampaignDayW12', 'scotRefTurnoutW4_W13', 'scotRefVoteW4_W13'],\n",
       "      dtype='object', length=5150)"
      ]
     },
     "execution_count": 992,
     "metadata": {},
     "output_type": "execute_result"
    }
   ],
   "source": [
    "BES_Panel.columns"
   ]
  },
  {
   "cell_type": "code",
   "execution_count": 991,
   "metadata": {},
   "outputs": [
    {
     "data": {
      "text/plain": [
       "[]"
      ]
     },
     "execution_count": 991,
     "metadata": {},
     "output_type": "execute_result"
    }
   ],
   "source": [
    "[x for x in BES_Panel.columns if \"immigControl\" in x]"
   ]
  },
  {
   "cell_type": "code",
   "execution_count": 996,
   "metadata": {},
   "outputs": [
    {
     "data": {
      "text/plain": [
       "['Delta_controlImmigW9',\n",
       " 'Delta_controlImmigW10',\n",
       " 'Delta_controlImmigW11',\n",
       " 'Delta_controlImmigW13']"
      ]
     },
     "execution_count": 996,
     "metadata": {},
     "output_type": "execute_result"
    }
   ],
   "source": [
    "[x for x in immigDiff.columns if \"controlImmig\" in x]"
   ]
  },
  {
   "cell_type": "code",
   "execution_count": 2,
   "metadata": {},
   "outputs": [],
   "source": [
    "# get_base(\"controlImmig\")"
   ]
  },
  {
   "cell_type": "code",
   "execution_count": 602,
   "metadata": {},
   "outputs": [],
   "source": [
    "def get_base(im_var, waves=None, noNans = False):\n",
    "\n",
    "    if waves:\n",
    "        wave_list = waves\n",
    "    else:\n",
    "        wave_list = [x.replace(im_var,\"\") for x in BES_Panel.columns if re.match(im_var+\"W\\d\",  x)]\n",
    "        \n",
    "    immig_vars = [im_var+x for x in wave_list]\n",
    "    if noNans:\n",
    "        all_in_dataset = BES_Panel[immig_vars].notnull().all(axis=1)\n",
    "\n",
    "        max_range = len(BES_Panel[immig_vars[0]].cat.categories.drop(\"Don't know\",errors='ignore'))-1\n",
    "        BES_immig = BES_Panel[immig_vars][all_in_dataset]\\\n",
    "        .replace(\"Don't know\",np.nan)\\\n",
    "        .apply(lambda x: x.cat.codes)\\\n",
    "        .replace(-1,np.nan)\\\n",
    "        .apply(lambda x: x.fillna(x.median())) / max_range\n",
    "    else:\n",
    "        all_in_dataset = BES_Panel[immig_vars].isnull()\n",
    "        \n",
    "        max_range = len(BES_Panel[immig_vars[0]].cat.categories.drop(\"Don't know\",errors='ignore'))-1\n",
    "        BES_immig = BES_Panel[immig_vars]\\\n",
    "        .replace(\"Don't know\",np.nan)\\\n",
    "        .apply(lambda x: x.cat.codes)\\\n",
    "        .replace(-1,np.nan)\\\n",
    "        .apply(lambda x: x.fillna(x.median())) / max_range\n",
    "        \n",
    "        BES_immig[all_in_dataset] = np.nan\n",
    "        all_in_dataset = ~all_in_dataset\n",
    "        \n",
    "        \n",
    "    return BES_immig, all_in_dataset"
   ]
  },
  {
   "cell_type": "code",
   "execution_count": 499,
   "metadata": {},
   "outputs": [],
   "source": [
    "# def get_changes(im_var):\n",
    "#     immig_vars = [x for x in BES_Panel.columns if re.match(im_var+\"W\\d\",  x)]\n",
    "#     all_in_dataset = BES_Panel[immig_vars].notnull().all(axis=1)\n",
    "#     wave_list = [x.split(im_var)[1] for x in immig_vars]\n",
    "#     max_range = len(BES_Panel[immig_vars[0]].cat.categories.drop(\"Don't know\",errors='ignore'))-1\n",
    "#     BES_immig = BES_Panel[immig_vars][all_in_dataset]\\\n",
    "#     .replace(\"Don't know\",np.nan)\\\n",
    "#     .apply(lambda x: x.cat.codes)\\\n",
    "#     .replace(-1,np.nan)\\\n",
    "#     .apply(lambda x: x.fillna(x.median())) / max_range\n",
    "#     return BES_immig"
   ]
  },
  {
   "cell_type": "code",
   "execution_count": 629,
   "metadata": {},
   "outputs": [],
   "source": [
    "# im_var = \"immigCultural\"\n",
    "num = 0\n",
    "for im_var in imvar_list:\n",
    "    immig, mask = get_base(im_var,noNans = False)\n",
    "    immig.columns = [\"Delta_\"+x for x in immig.columns]\n",
    "    if num ==0:\n",
    "        immigDiff = immig.diff(axis=1).drop(immig.columns[0],axis=1)\n",
    "    else:\n",
    "        immigDiff = pd.concat( [immigDiff, immig.diff(axis=1).drop(immig.columns[0],axis=1)], axis=1)\n",
    "    num = num + 1"
   ]
  },
  {
   "cell_type": "code",
   "execution_count": 637,
   "metadata": {},
   "outputs": [],
   "source": []
  },
  {
   "cell_type": "code",
   "execution_count": 661,
   "metadata": {},
   "outputs": [],
   "source": [
    "diff_corr = immigDiff.corr()\n",
    "#diff_corr = diff_corr.where(np.triu(np.ones(diff_corr.shape), k=-2).astype(np.bool))\n",
    "\n",
    "diff_corr_stacked = diff_corr.stack().sort_values()"
   ]
  },
  {
   "cell_type": "code",
   "execution_count": 647,
   "metadata": {},
   "outputs": [
    {
     "data": {
      "text/plain": [
       "Delta_controlImmigW9   Delta_labHandleImmigW2          -0.755929\n",
       "                       Delta_govtHandleImmigW2         -0.668153\n",
       "                       Delta_labHandleImmigW3          -0.522233\n",
       "                       Delta_govtHandleImmigW3         -0.484200\n",
       "                       Delta_changeImmigW10            -0.161140\n",
       "Delta_controlImmigW11  Delta_effectsEUImmigrationW11   -0.161080\n",
       "Delta_controlImmigW13  Delta_effectsEUImmigrationW13   -0.140730\n",
       "Delta_controlImmigW10  Delta_effectsEUImmigrationW10   -0.120300\n",
       "                       Delta_labHandleImmigW3          -0.062868\n",
       "Delta_controlImmigW9   Delta_effectsEUImmigrationW8    -0.059015\n",
       "                       Delta_euPriorityBalanceW11      -0.052377\n",
       "                       Delta_changeImmigW4             -0.048331\n",
       "                       Delta_euPriorityBalanceW13      -0.047292\n",
       "                       Delta_changeImmigW3             -0.030022\n",
       "                       Delta_euMoreW8                  -0.029231\n",
       "Delta_controlImmigW10  Delta_govtHandleImmigW4         -0.026779\n",
       "Delta_controlImmigW11  Delta_changeImmigLabW2          -0.026562\n",
       "                       Delta_labHandleImmigW2          -0.025992\n",
       "Delta_controlImmigW10  Delta_govtHandleImmigW7         -0.022940\n",
       "Delta_controlImmigW11  Delta_changeImmigW2             -0.022386\n",
       "Delta_controlImmigW9   Delta_noneuMoreW13              -0.022053\n",
       "Delta_controlImmigW13  Delta_euPriorityBalanceW11      -0.021698\n",
       "Delta_controlImmigW10  Delta_euMoreW13                 -0.021693\n",
       "Delta_controlImmigW9   Delta_controlImmigW13           -0.021557\n",
       "                       Delta_changeImmigW11            -0.020047\n",
       "Delta_controlImmigW10  Delta_euPriorityBalanceW11      -0.018947\n",
       "Delta_controlImmigW9   Delta_asylumMoreW13             -0.018895\n",
       "                       Delta_familiesMoreW8            -0.018662\n",
       "Delta_controlImmigW10  Delta_changeImmigLabW3          -0.018495\n",
       "Delta_controlImmigW13  Delta_changeImmigW8             -0.018429\n",
       "                                                          ...   \n",
       "Delta_controlImmigW10  Delta_changeImmigLabW4           0.013406\n",
       "Delta_controlImmigW13  Delta_labHandleImmigW4           0.015973\n",
       "                       Delta_changeImmigLabW2           0.016184\n",
       "Delta_controlImmigW10  Delta_euPriorityBalanceW13       0.016267\n",
       "                       Delta_govtHandleImmigW2          0.016635\n",
       "Delta_controlImmigW13  Delta_labHandleImmigW7           0.022589\n",
       "                       Delta_euPriorityBalanceW12       0.022838\n",
       "Delta_controlImmigW10  Delta_effectsEUImmigrationW8     0.023072\n",
       "Delta_controlImmigW11  Delta_changeImmigLabW3           0.023742\n",
       "Delta_controlImmigW13  Delta_govtHandleImmigW3          0.024412\n",
       "Delta_controlImmigW9   Delta_changeImmigLabW10          0.024579\n",
       "Delta_controlImmigW13  Delta_euPriorityBalanceW13       0.026995\n",
       "Delta_controlImmigW9   Delta_effectsEUImmigrationW11    0.033155\n",
       "                       Delta_changeImmigLabW4           0.033424\n",
       "                       Delta_effectsEUImmigrationW13    0.034261\n",
       "Delta_controlImmigW11  Delta_govtHandleImmigW4          0.034341\n",
       "Delta_controlImmigW10  Delta_labHandleImmigW2           0.034569\n",
       "Delta_controlImmigW9   Delta_noneuMoreW8                0.037533\n",
       "                       Delta_effectsEUImmigrationW10    0.037570\n",
       "Delta_controlImmigW10  Delta_govtHandleImmigW3          0.040763\n",
       "Delta_controlImmigW11  Delta_labHandleImmigW3           0.042360\n",
       "Delta_controlImmigW9   Delta_changeImmigW2              0.043054\n",
       "Delta_controlImmigW11  Delta_effectsEUImmigrationW13    0.050649\n",
       "                       Delta_euPriorityBalanceW11       0.056076\n",
       "Delta_controlImmigW13  Delta_effectsEUImmigrationW11    0.061695\n",
       "Delta_controlImmigW9   Delta_euPriorityBalanceW12       0.062733\n",
       "Delta_controlImmigW11  Delta_effectsEUImmigrationW10    0.074024\n",
       "Delta_controlImmigW10  Delta_effectsEUImmigrationW11    0.076699\n",
       "Delta_controlImmigW9   Delta_changeImmigW7              0.105698\n",
       "                       Delta_euMoreW13                  0.109953\n",
       "Length: 146, dtype: float64"
      ]
     },
     "execution_count": 647,
     "metadata": {},
     "output_type": "execute_result"
    }
   ],
   "source": [
    "diff_corr_stacked.loc[[x for x in diff_corr_stacked.index.get_level_values(0) if 'Delta_controlImmig' in x]]"
   ]
  },
  {
   "cell_type": "code",
   "execution_count": 659,
   "metadata": {},
   "outputs": [
    {
     "data": {
      "text/plain": [
       "Delta_changeImmigW10  Delta_immigEconW10                -0.085779\n",
       "                      Delta_immigSelfW10                -0.052767\n",
       "                      Delta_immigCulturalW10            -0.051541\n",
       "                      Delta_controlImmigW10              0.006513\n",
       "                      Delta_effectsEUImmigrationW10      0.007298\n",
       "                      Delta_immigrantsWelfareStateW10    0.080358\n",
       "                      Delta_changeImmigLabW10            0.090823\n",
       "                      Delta_changeImmigW10               1.000000\n",
       "dtype: float64"
      ]
     },
     "execution_count": 659,
     "metadata": {},
     "output_type": "execute_result"
    }
   ],
   "source": [
    "Delta_changeImmigW10 = diff_corr_stacked.loc[[x for x in diff_corr_stacked.index.get_level_values(0) if re.match('Delta_changeImmigW10', x)]]\n",
    "Delta_changeImmigW10.loc[:,[x for x in Delta_changeImmigW10.index.get_level_values(1) if re.search('W10', x)]]"
   ]
  },
  {
   "cell_type": "code",
   "execution_count": 662,
   "metadata": {},
   "outputs": [
    {
     "data": {
      "text/plain": [
       "Delta_immigEconW10  Delta_immigrantsWelfareStateW10   -0.156583\n",
       "                    Delta_changeImmigW10              -0.085779\n",
       "                    Delta_changeImmigLabW10           -0.015744\n",
       "                    Delta_controlImmigW10             -0.014497\n",
       "                    Delta_effectsEUImmigrationW10      0.058771\n",
       "                    Delta_immigSelfW10                 0.098801\n",
       "                    Delta_immigCulturalW10             0.410370\n",
       "                    Delta_immigEconW10                 1.000000\n",
       "dtype: float64"
      ]
     },
     "execution_count": 662,
     "metadata": {},
     "output_type": "execute_result"
    }
   ],
   "source": [
    "Delta_changeImmigW10 = diff_corr_stacked.loc[[x for x in diff_corr_stacked.index.get_level_values(0) if re.match('Delta_immigEconW10', x)]]\n",
    "Delta_changeImmigW10.loc[:,[x for x in Delta_changeImmigW10.index.get_level_values(1) if re.search('W10', x)]]"
   ]
  },
  {
   "cell_type": "code",
   "execution_count": 663,
   "metadata": {},
   "outputs": [
    {
     "data": {
      "text/plain": [
       "Delta_immigCulturalW10  Delta_immigrantsWelfareStateW10   -0.110314\n",
       "                        Delta_changeImmigW10              -0.051541\n",
       "                        Delta_changeImmigLabW10           -0.009246\n",
       "                        Delta_controlImmigW10              0.009076\n",
       "                        Delta_effectsEUImmigrationW10      0.035973\n",
       "                        Delta_immigSelfW10                 0.101438\n",
       "                        Delta_immigEconW10                 0.410370\n",
       "                        Delta_immigCulturalW10             1.000000\n",
       "dtype: float64"
      ]
     },
     "execution_count": 663,
     "metadata": {},
     "output_type": "execute_result"
    }
   ],
   "source": [
    "Delta_changeImmigW10 = diff_corr_stacked.loc[[x for x in diff_corr_stacked.index.get_level_values(0) if re.match('Delta_immigCulturalW10', x)]]\n",
    "Delta_changeImmigW10.loc[:,[x for x in Delta_changeImmigW10.index.get_level_values(1) if re.search('W10', x)]]"
   ]
  },
  {
   "cell_type": "code",
   "execution_count": 997,
   "metadata": {},
   "outputs": [],
   "source": [
    "immig_econ,mask = get_base(\"immigEcon\",waves=[\"W8\"],noNans = False)\n",
    "mask = (immig_econ < immig_econ.median())[\"immigEconW8\"]\n",
    "mask = (mask & immigDiff[\"Delta_controlImmigW10\"].notnull()  )"
   ]
  },
  {
   "cell_type": "code",
   "execution_count": 998,
   "metadata": {},
   "outputs": [
    {
     "data": {
      "text/plain": [
       "1721"
      ]
     },
     "execution_count": 998,
     "metadata": {},
     "output_type": "execute_result"
    }
   ],
   "source": [
    "mask.sum()"
   ]
  },
  {
   "cell_type": "code",
   "execution_count": 770,
   "metadata": {},
   "outputs": [
    {
     "data": {
      "text/plain": [
       "ukCoopMovementW10__Bad for Britain                                -0.272734\n",
       "immigrantsWelfareStateW10__Strongly agree                         -0.238344\n",
       "euPriorityBalanceW10__Control immigration                         -0.220632\n",
       "EUIntegrationSelfW10__Protect our independence                    -0.166993\n",
       "likeUKIPW10__Strongly like                                        -0.158331\n",
       "ptvUKIPW10__Very likely                                           -0.156485\n",
       "effectsEUNHSW10__Much better                                      -0.149129\n",
       "overseasAidW10__Strongly agree                                    -0.147403\n",
       "happyEULeaveW10__Extremely happy                                  -0.143540\n",
       "changeImmigW10__Getting a lot higher                              -0.139928\n",
       "likeFarageW10__Strongly like                                      -0.139547\n",
       "euIDW10_The leave side                                            -0.138337\n",
       "populism1W10__Strongly agree                                      -0.129461\n",
       "euRefVoteW10_Leave the EU                                         -0.129345\n",
       "effectsEUEconW10__Much better                                     -0.127100\n",
       "generalElectionVoteW10_United Kingdom Independence Party (UKIP)   -0.125066\n",
       "happyTrumpW10__Extremely happy                                    -0.122844\n",
       "effectsEUWorkersW10__Much better                                  -0.121542\n",
       "refAreGoodW10__Strongly agree                                     -0.116123\n",
       "euLeaveVoiceW10__Much higher                                      -0.112511\n",
       "populism5W10__Strongly agree                                      -0.108118\n",
       "discrimWhiteW10__A lot of discrimination against                  -0.107063\n",
       "UKsovereigntyPostW10__Strongly agree                              -0.106856\n",
       "effectsEUTradeW10__Much higher                                    -0.105807\n",
       "al2W10W11W12__Strongly agree                                      -0.103952\n",
       "socialIdentityGlobalLeaveW10__A great deal in common              -0.098530\n",
       "al1W10W11W12__Strongly agree                                      -0.095068\n",
       "al_scaleW10W11W12__Authoritarian                                  -0.094223\n",
       "populism2W10__Strongly agree                                      -0.090987\n",
       "al5W10W11W12__Strongly agree                                      -0.090658\n",
       "                                                                     ...   \n",
       "changeNHSLabW10__Getting a lot better                              0.063170\n",
       "changeEconomyLabW10__Getting a lot better                          0.066650\n",
       "expectGoodConductEURefW10__Conducted unfairly                      0.067556\n",
       "likeCorbynW10__Strongly like                                       0.068768\n",
       "changeEducationLabW10__Getting a lot better                        0.069653\n",
       "regretsIHaveAFewEUW10_Yes                                          0.070245\n",
       "ptvLabW10__Very likely                                             0.073127\n",
       "leaveImpactSelfW10__A very large impact                            0.075648\n",
       "satDemUKW10__Very satisfied                                        0.077806\n",
       "likeLabW10__Strongly like                                          0.078239\n",
       "natSecuritySelfW10__Protect civil liberties                        0.082415\n",
       "likeGrnW10__Strongly like                                          0.082940\n",
       "leaveImpactBritainW10__A very large impact                         0.088855\n",
       "trustMPsW10__A great deal of trust                                 0.092158\n",
       "satDemEUW10__Very satisfied                                        0.105643\n",
       "discrimMuslimsW10__A lot of discrimination against                 0.107717\n",
       "discrimBMEW10__A lot of discrimination against                     0.111059\n",
       "euLeaveBigBusinessW10__Much more likely                            0.113172\n",
       "effectsEUTerrorW10__Much higher                                    0.117035\n",
       "effectsEUUnemploymentW10__Much higher                              0.121128\n",
       "ptvLDW10__Very likely                                              0.121254\n",
       "likeLDW10__Strongly like                                           0.123458\n",
       "socialIdentityGlobalRemainW10__A great deal in common              0.124763\n",
       "effectsEUImmigrationW10__Much higher                               0.126036\n",
       "euRefDoOverW10_Yes                                                 0.126601\n",
       "approveEUW10__Strongly approve                                     0.135203\n",
       "europeannessW10__Very strongly European                            0.145651\n",
       "immigSelfW10__Allow many more                                      0.281288\n",
       "immigCulturalW10__Enriches cultural life                           0.445805\n",
       "immigEconW10__Good for economy                                     0.828766\n",
       "Length: 222, dtype: float64"
      ]
     },
     "execution_count": 770,
     "metadata": {},
     "output_type": "execute_result"
    }
   ],
   "source": [
    "\n",
    "BES_reduced[[x for x in BES_reduced.columns if re.search('W10', x)]][mask].corrwith( immigDiff[\"Delta_immigEconW10\"][mask] ).sort_values().dropna()"
   ]
  },
  {
   "cell_type": "code",
   "execution_count": 777,
   "metadata": {},
   "outputs": [],
   "source": [
    "# [[x for x in BES_reduced.columns if \"W10\" in x]]\n",
    "BES_immigEcon = pd.concat( [BES_reduced[mask],immigDiff[[x for x in immigDiff.columns if \"W10\" in x]][mask]], axis=1)\n",
    "BES_immigEcon = BES_immigEcon.drop([\"immigEconW10__Good for economy\",\n",
    "                                    \"immigEconW8__Good for economy\",\n",
    "                                    \"Delta_immigEconW10\",\n",
    "                                    \"Delta_changeImmigLabW10\"],axis=1, errors='ignore')"
   ]
  },
  {
   "cell_type": "code",
   "execution_count": 778,
   "metadata": {},
   "outputs": [],
   "source": [
    "target = immigDiff[\"Delta_immigEconW10\"][mask]"
   ]
  },
  {
   "cell_type": "code",
   "execution_count": null,
   "metadata": {},
   "outputs": [],
   "source": []
  },
  {
   "cell_type": "code",
   "execution_count": 773,
   "metadata": {},
   "outputs": [],
   "source": [
    "## now try RFE for linear regression on "
   ]
  },
  {
   "cell_type": "code",
   "execution_count": 774,
   "metadata": {},
   "outputs": [],
   "source": [
    "corr_short_list = BES_immigEcon.corrwith(target).abs().sort_values(ascending=False).index[0:500]"
   ]
  },
  {
   "cell_type": "code",
   "execution_count": 759,
   "metadata": {},
   "outputs": [
    {
     "name": "stdout",
     "output_type": "stream",
     "text": [
      "[ True  True  True False  True False False  True False  True False False\n",
      " False  True False False False False False False False  True False False\n",
      " False False False False False False False False False False False  True\n",
      " False False False  True False False  True  True  True False False False\n",
      " False False False False False False False False False False False  True\n",
      " False  True False False False  True False False False False False False\n",
      " False False False False False  True False False False False False False\n",
      " False False False False False False False False False False False False\n",
      "  True False False False False False False False False False False False\n",
      " False False False False  True  True False False False False False  True\n",
      " False  True False  True False  True False False  True  True False False\n",
      " False False  True False  True False  True False False False False False\n",
      " False False False  True False False False False False  True  True False\n",
      "  True False False False False  True False False False False  True  True\n",
      " False False False False  True False  True  True False False  True False\n",
      " False False False False False False False False False  True False False\n",
      " False False False False  True  True False False False False False False\n",
      "  True False  True False False  True  True  True False False False False\n",
      "  True  True False False False False False False False False False]\n",
      "[  1   1   1  24   1  23  99   1 110   1  77 160  19   1 176 116  55  54\n",
      "  41  14 109   1 165 150  32 135 153  21  67 122 118 174 131  82 123   1\n",
      " 144 163 139   1  81  33   1   1   1 171 178  90 175  44 117 107  40 146\n",
      " 115  15  79  86  10   1 149   1  92 130 138   1   5  85 168 172  46  74\n",
      "  30  26 169 148  52   1  87  43  56  80 145  39 111 103  75 158  28 155\n",
      " 147 164 166  16 112 140   1  53 108 159  20 137 143  27  50  98  89 173\n",
      " 101  91  84 167   1   1  76 113  61  42 133   1  18   1  60   1  12   1\n",
      " 104  63   1   1  58  97 121  51   1 119   1   7   1  95 170  29 151  78\n",
      "  31  88 157   1  34 152  35 105 120   1   1 114   1 100 106 154  38   1\n",
      " 134 141  96  73   1   1  22  59  11  83   1 125   1   1  68   6   1  66\n",
      "   2  25 156  70 136  49 102   8 142   1  65  36 124  93  69  45   1   1\n",
      "  64  47  94 162   4  37   1 128   1   9 127   1   1   1  62 132 126 129\n",
      "   1   1 177 161  48   3  72  71  13  57  17]\n",
      "Wall time: 33.3 s\n"
     ]
    }
   ],
   "source": [
    "%%time\n",
    "from sklearn import linear_model\n",
    "lr = linear_model.LinearRegression()\n",
    "rfe = RFE(lr, n_features_to_select = 50)\n",
    "rfe = rfe.fit(BES_immigEcon[corr_short_list], target )\n",
    "print(rfe.support_)\n",
    "print(rfe.ranking_)"
   ]
  },
  {
   "cell_type": "code",
   "execution_count": 760,
   "metadata": {},
   "outputs": [
    {
     "data": {
      "text/plain": [
       "Index(['Delta_immigCulturalW10', 'immigCulturalW10__Enriches cultural life',\n",
       "       'ukCoopMovementW10__Bad for Britain', 'Delta_immigrantsWelfareStateW10',\n",
       "       'Delta_immigSelfW10', 'effectsEUNHSW10__Much better',\n",
       "       'euRefDoOverW10_Yes',\n",
       "       'generalElectionVoteW10_United Kingdom Independence Party (UKIP)',\n",
       "       'Delta_changeImmigW10', 'satDemEUW10__Very satisfied',\n",
       "       'euIDW10_The leave side', 'euRefVoteW10_Leave the EU',\n",
       "       'satDemUKW10__Very satisfied', 'Delta_effectsEUImmigrationW10',\n",
       "       'regretsIHaveAFewEUW10_Yes', 'subjClassW10_No',\n",
       "       'partyIdW10_Scottish National Party (SNP)',\n",
       "       'profile_newspaperW10_The Guardian',\n",
       "       'goodTimePurchaseW10__Good time to buy',\n",
       "       'profile_religionW10_Yes - Islam', 'profile_newspaperW10_The Times',\n",
       "       'profile_newspaperW10_The Independent',\n",
       "       'subjClassW10_Yes, middle class',\n",
       "       'educationW8W9W10_University or CNAA higher degree (eg M.Sc, Ph.D)',\n",
       "       'profile_newspaperW10_The Daily Telegraph',\n",
       "       'headHouseholdPastW10_Someone else',\n",
       "       'profile_newspaperW10_The Daily Star / The Daily Star of Scotland',\n",
       "       'profile_sexualityW10_Gay or lesbian',\n",
       "       'educationW8W9W10_No formal qualifications',\n",
       "       'educationW8W9W10_University diploma',\n",
       "       'educationW8W9W10_Teaching qualification (not degree)',\n",
       "       'profile_religionW10_Yes - Methodist', 'achieveReduceImmigDKW10_Yes',\n",
       "       'profile_newspaperW10_The Scotsman', 'partyIdW10_Plaid Cymru',\n",
       "       'profile_religionW10_Yes - Sikhism',\n",
       "       'profile_religionW10_Yes - Orthodox Christian',\n",
       "       'educationW8W9W10_City and Guild certificate - advanced',\n",
       "       'profile_newspaperW10_The Western Mail',\n",
       "       'generalElectionVoteW10_Labour',\n",
       "       'profile_religionW10_Yes - Pentecostal',\n",
       "       'educationW8W9W10_CSE grades 2-5', 'profile_religionW10_Yes - Brethren',\n",
       "       'profile_religionW10_Yes - Judaism',\n",
       "       'educationW8W9W10_Scottish Ordinary/ Lower Certificate',\n",
       "       'al3W10W11W12__Strongly agree',\n",
       "       'profile_newspaperW10_The Herald (Glasgow)',\n",
       "       'profile_religionW10_Yes - Hinduism',\n",
       "       'educationW8W9W10_Youth training certificate/skillseekers',\n",
       "       'climateChangeW10__Climate not changing'],\n",
       "      dtype='object')"
      ]
     },
     "execution_count": 760,
     "metadata": {},
     "output_type": "execute_result"
    }
   ],
   "source": [
    "best_50 = BES_immigEcon[corr_short_list].columns[rfe.support_]\n",
    "best_50"
   ]
  },
  {
   "cell_type": "code",
   "execution_count": null,
   "metadata": {},
   "outputs": [],
   "source": []
  },
  {
   "cell_type": "code",
   "execution_count": null,
   "metadata": {},
   "outputs": [],
   "source": []
  },
  {
   "cell_type": "code",
   "execution_count": null,
   "metadata": {},
   "outputs": [],
   "source": []
  },
  {
   "cell_type": "code",
   "execution_count": 795,
   "metadata": {},
   "outputs": [
    {
     "name": "stdout",
     "output_type": "stream",
     "text": [
      "ukCoopMovementW10__Bad for Britain                                     -0.113842\n",
      "immigrantsWelfareStateW10__Strongly agree                              -0.043812\n",
      "euMoreW8__Many more                                                    -0.038013\n",
      "euPriorityBalanceW10__Control immigration                              -0.035176\n",
      "effectsEUNHSW10__Much better                                           -0.034883\n",
      "likeUKIPW10__Strongly like                                             -0.033582\n",
      "achieveReduceImmigUKIPW12_Yes                                          -0.032367\n",
      "immigSelfW8__Allow many more                                           -0.028825\n",
      "businessSupportW7__Mainly leave                                        -0.026311\n",
      "immigCulturalW1__Enriches cultural life                                -0.025880\n",
      "Delta_immigrantsWelfareStateW10                                        -0.025447\n",
      "ldUnitedW8__Very united                                                -0.024369\n",
      "neverPrivSchoolW1_W4W7W9_W12_Yes                                       -0.023619\n",
      "pidCriticisePartyW13__Strongly agree                                   -0.023334\n",
      "responsibleCostLiveDontKnowW3_Yes                                      -0.023078\n",
      "profile_newspaperW10_The Sun                                           -0.021571\n",
      "trustYourMPW4__A great deal of trust                                   -0.021242\n",
      "noChanceCoalitionPCW12_Yes                                             -0.021140\n",
      "al2W6__Strongly agree                                                  -0.020868\n",
      "crimeLocalW7__Getting a lot higher                                     -0.020582\n",
      "effectsEUImmigrationW7__Much higher                                    -0.020573\n",
      "winConstituencyConW5__100 - Very likely to win                         -0.020569\n",
      "euroTurnoutRetroW2_Yes, I voted                                        -0.019967\n",
      "al2W13__Strongly agree                                                 -0.019653\n",
      "allSourceIncome_5W11_Yes                                               -0.019592\n",
      "noChanceCoalitionPCW11_Yes                                             -0.019336\n",
      "ldFearW4_Yes                                                           -0.019150\n",
      "UKsovereigntyW7__Strongly agree                                        -0.019118\n",
      "effectsEUFinanceW7__Much better                                        -0.019116\n",
      "redistLabW2__Government should be less concerned about equal incomes   -0.019091\n",
      "                                                                          ...   \n",
      "lrgreensW5__Right                                                       0.020868\n",
      "euRefVoteW12_Leave the EU                                               0.021275\n",
      "profile_past_vote_2015_British National Party (BNP)                     0.021287\n",
      "conFearW4_Yes                                                           0.021443\n",
      "profile_gross_household__£150,000 and over                              0.021846\n",
      "euPriorityBalanceW11__Control immigration                               0.021902\n",
      "euMoreW13__Many more                                                    0.022225\n",
      "efficacyUnderstandW8__Strongly agree                                    0.022911\n",
      "efficacyNoMatterW6__Strongly agree                                      0.024045\n",
      "EUIntegrationLabW7__Protect our independence                            0.024549\n",
      "euRefDoOverW11_Yes                                                      0.025466\n",
      "satDemUKW10__Very satisfied                                             0.025587\n",
      "likeUKIPW13__Strongly like                                              0.025710\n",
      "ldPrideW6_Yes                                                           0.025769\n",
      "immigEconW2__Good for economy                                           0.025797\n",
      "ptvLabW13__Very likely                                                  0.026498\n",
      "immigEconW3__Good for economy                                           0.026669\n",
      "immigrantsWelfareStateW1__Strongly agree                                0.027713\n",
      "immigEconW4__Good for economy                                           0.028136\n",
      "likeFarageW4__Strongly like                                             0.028614\n",
      "certaintyEULabW8__Very certain                                          0.029063\n",
      "goodTimePurchaseW11__Good time to buy                                   0.029735\n",
      "likeConW10__Strongly like                                               0.030129\n",
      "allSourceIncome_9W11_Yes                                                0.040611\n",
      "cutsTooFarNationalW6__Gone much too far                                 0.046915\n",
      "immigSelfW10__Allow many more                                           0.060599\n",
      "immigEconW13__Good for economy                                          0.067915\n",
      "immigCulturalW10__Enriches cultural life                                0.144244\n",
      "immigEconW11__Good for economy                                          0.144384\n",
      "Delta_immigCulturalW10                                                  0.249978\n",
      "Length: 2577, dtype: float64\n"
     ]
    }
   ],
   "source": [
    "%%time\n",
    "# X = BES_immigEcon[best_50].copy()\n",
    "X = BES_immigEcon.copy()\n",
    "clean_feature_set_std = StandardScaler().fit_transform(X.values )\n",
    "X = pd.DataFrame(clean_feature_set_std,\n",
    "                 columns = X.columns,\n",
    "                 index   = X.index      )\n",
    "\n",
    "X = sm.add_constant(X)\n",
    "y = (target-target.mean())/target.std()\n",
    "# target\n",
    "#StandardScaler().fit_transform(target.values)\n",
    "model = sm.OLS(y, X)\n",
    "results = model.fit_regularized(alpha=0.005,L1_wt=1.0, profile_scale=False)\n",
    "# print(results.summary())\n",
    "print(results.params.sort_values())"
   ]
  },
  {
   "cell_type": "code",
   "execution_count": 792,
   "metadata": {},
   "outputs": [],
   "source": [
    "# pd.DataFrame([model.fit_regularized(alpha=0.005,L1_wt=1.0, refit=True).params, X.columns]).T.sort_values(by=0)"
   ]
  },
  {
   "cell_type": "code",
   "execution_count": null,
   "metadata": {},
   "outputs": [],
   "source": [
    "# 859\t0.0111792\timmigSelfW10__Allow many more\n",
    "# 1186\t0.0120508\timmigEconW13__Good for economy\n",
    "# 1003\t0.0265213\timmigEconW11__Good for economy\n",
    "# 858\t0.0286602\timmigCulturalW10__Enriches cultural life\n",
    "# 2571\t0.0622114\tDelta_immigCulturalW10\n",
    "# 0\t0.157719\tconst\n",
    "\n",
    "# 841\t-0.0233076\tukCoopMovementW10__Bad for Britain\n",
    "# 903\t-0.00727658\timmigrantsWelfareStateW10__Strongly agree\n",
    "# 2573\t-0.0064224\tDelta_immigrantsWelfareStateW10\n",
    "# 852\t-0.00504212\teffectsEUNHSW10__Much better\n",
    "# 707\t-0.00488077\teuMoreW8__Many more"
   ]
  },
  {
   "cell_type": "code",
   "execution_count": null,
   "metadata": {},
   "outputs": [],
   "source": []
  },
  {
   "cell_type": "code",
   "execution_count": 796,
   "metadata": {},
   "outputs": [],
   "source": [
    "im_var = \"immigEcon\"\n",
    "immig_econ,mask = get_base(im_var,waves=[\"W8\"],noNans = False)\n",
    "mask = (immig_econ < immig_econ.median())[im_var+\"W8\"]\n",
    "mask = (mask & immigDiff[\"Delta_controlImmigW10\"].notnull())\n",
    "\n",
    "BES_immigEcon = pd.concat( [BES_reduced[mask],immigDiff[[x for x in immigDiff.columns if \"W10\" in x]][mask]], axis=1)\n",
    "BES_immigEcon = BES_immigEcon.drop([\"Delta_changeImmigLabW10\"],axis=1, errors='ignore')\n",
    "BES_immigEcon = BES_immigEcon.drop([x for x in BES_immigEcon.columns if im_var in x], axis=1)\n",
    "\n",
    "\n",
    "target = immigDiff[\"Delta_immigEconW10\"][mask]"
   ]
  },
  {
   "cell_type": "code",
   "execution_count": 797,
   "metadata": {},
   "outputs": [
    {
     "name": "stdout",
     "output_type": "stream",
     "text": [
      "ukCoopMovementW10__Bad for Britain                        -0.121319\n",
      "immigrantsWelfareStateW10__Strongly agree                 -0.060012\n",
      "euMoreW8__Many more                                       -0.036643\n",
      "euPriorityBalanceW10__Control immigration                 -0.035710\n",
      "achieveReduceImmigUKIPW12_Yes                             -0.035344\n",
      "effectsEUNHSW10__Much better                              -0.033488\n",
      "immigSelfW8__Allow many more                              -0.029728\n",
      "likeUKIPW10__Strongly like                                -0.027194\n",
      "trustYourMPW4__A great deal of trust                      -0.025171\n",
      "businessSupportW7__Mainly leave                           -0.024969\n",
      "ldUnitedW8__Very united                                   -0.024903\n",
      "allSourceIncome_5W11_Yes                                  -0.024826\n",
      "neverPrivSchoolW1_W4W7W9_W12_Yes                          -0.024243\n",
      "changeEducationW4__Getting a lot better                   -0.023814\n",
      "responsibleCostLiveDontKnowW3_Yes                         -0.023158\n",
      "pidCriticisePartyW13__Strongly agree                      -0.022538\n",
      "profile_newspaperW10_The Sun                              -0.022330\n",
      "al2W6__Strongly agree                                     -0.022119\n",
      "bestOnMIIW11_No party is best able to handle this issue   -0.022103\n",
      "effectsEUFinanceW7__Much better                           -0.021753\n",
      "immigrantsWelfareStateW11__Strongly agree                 -0.021539\n",
      "generalElectionVoteW5_British National Party (BNP)        -0.021322\n",
      "partyIdW10_Labour                                         -0.020842\n",
      "profile_newspaper_The Scotsman                            -0.020822\n",
      "infoSourcePeopleW5__More than 2 hours                     -0.020685\n",
      "al2W13__Strongly agree                                    -0.020455\n",
      "responsibleCrimeLabourW2_Yes                              -0.020360\n",
      "Delta_immigrantsWelfareStateW10                           -0.020175\n",
      "gender_Female                                             -0.020169\n",
      "deficitReduceW4__It is completely necessary               -0.020010\n",
      "                                                             ...   \n",
      "profile_religion_Yes - Sikhism                             0.020332\n",
      "efficacyNoMatterW6__Strongly agree                         0.020433\n",
      "euRefVoteW12_Leave the EU                                  0.020555\n",
      "al5W1W2W3W4W5__Strongly agree                              0.020634\n",
      "euMoreW7__Many more                                        0.020781\n",
      "normEUW7__Strongly agree                                   0.021081\n",
      "bestOnMIIW5_Scottish National Party (SNP)                  0.021498\n",
      "EUIntegrationLabW7__Protect our independence               0.021874\n",
      "euUKRichW7__Strongly agree                                 0.021914\n",
      "efficacyUnderstandW8__Strongly agree                       0.022543\n",
      "likeFarageW4__Strongly like                                0.022591\n",
      "conFearW4_Yes                                              0.022633\n",
      "euRefDoOverW11_Yes                                         0.022642\n",
      "profile_gross_household__£150,000 and over                 0.022860\n",
      "labGovTrustW5__ Would do a good job                        0.022966\n",
      "EUIntegrationSelfW7__Protect our independence              0.023760\n",
      "lrgreensW5__Right                                          0.023831\n",
      "ptvLabW13__Very likely                                     0.024838\n",
      "satDemUKW10__Very satisfied                                0.025047\n",
      "ldPrideW6_Yes                                              0.025889\n",
      "immigCulturalW11__Enriches cultural life                   0.026156\n",
      "certaintyEULabW8__Very certain                             0.028277\n",
      "goodTimePurchaseW11__Good time to buy                      0.029067\n",
      "euMoreW13__Many more                                       0.039049\n",
      "allSourceIncome_9W11_Yes                                   0.040491\n",
      "cutsTooFarNationalW6__Gone much too far                    0.040595\n",
      "immigSelfW9__Allow many more                               0.057443\n",
      "Delta_immigSelfW10                                         0.064168\n",
      "immigCulturalW10__Enriches cultural life                   0.162295\n",
      "Delta_immigCulturalW10                                     0.251900\n",
      "Length: 2570, dtype: float64\n",
      "Wall time: 9min 8s\n"
     ]
    }
   ],
   "source": [
    "%%time\n",
    "X = BES_immigEcon.copy()\n",
    "clean_feature_set_std = StandardScaler().fit_transform(X.values )\n",
    "X = pd.DataFrame(clean_feature_set_std,\n",
    "                 columns = X.columns,\n",
    "                 index   = X.index      )\n",
    "\n",
    "X = sm.add_constant(X)\n",
    "y = (target-target.mean())/target.std()\n",
    "# target\n",
    "model = sm.OLS(y, X)\n",
    "results = model.fit_regularized(alpha=0.005,L1_wt=1.0, profile_scale=False)\n",
    "# print(results.summary())\n",
    "print(results.params.sort_values())"
   ]
  },
  {
   "cell_type": "code",
   "execution_count": null,
   "metadata": {},
   "outputs": [],
   "source": []
  },
  {
   "cell_type": "code",
   "execution_count": 806,
   "metadata": {},
   "outputs": [],
   "source": [
    "im_var = \"immigCultural\"\n",
    "immig_econ,mask = get_base(im_var,waves=[\"W8\"],noNans = False)\n",
    "mask = (immig_econ < immig_econ.median())[im_var+\"W8\"]\n",
    "mask = (mask & immigDiff[\"Delta_controlImmigW10\"].notnull())\n",
    "\n",
    "BES_immigEcon = pd.concat( [BES_reduced[mask],immigDiff[[x for x in immigDiff.columns if \"W10\" in x]][mask]], axis=1)\n",
    "BES_immigEcon = BES_immigEcon.drop([\"Delta_changeImmigLabW10\"],axis=1, errors='ignore')\n",
    "BES_immigEcon = BES_immigEcon.drop([x for x in BES_immigEcon.columns if im_var in x], axis=1)\n",
    "\n",
    "\n",
    "target = immigDiff[\"Delta_immigEconW10\"][mask]"
   ]
  },
  {
   "cell_type": "code",
   "execution_count": 807,
   "metadata": {},
   "outputs": [
    {
     "name": "stdout",
     "output_type": "stream",
     "text": [
      "immigEconW8__Good for economy                                                                            -0.559886\n",
      "immigSelfW10__Allow many more                                                                            -0.107296\n",
      "Delta_effectsEUImmigrationW10                                                                            -0.012423\n",
      "effectsEUImmigrationW8__Much higher                                                                      -0.011964\n",
      "bestOnMIIW13_Labour                                                                                       0.000000\n",
      "bestOnMIIW13_No party is best able to handle this issue                                                   0.000000\n",
      "bestOnMIIW13_United Kingdom Independence Party (UKIP)                                                     0.000000\n",
      "bestOnMIIW13_Liberal Democrat                                                                             0.000000\n",
      "bestOnMIIW13_Scottish National Party (SNP)                                                                0.000000\n",
      "bestOnMIIW13_Green Party                                                                                  0.000000\n",
      "bestOnMIIW13_Other party                                                                                  0.000000\n",
      "bestOnMIIW13_Plaid Cymru                                                                                  0.000000\n",
      "reasonForVoteW13_I always vote that way                                                                   0.000000\n",
      "reasonForVoteW13_I thought that party had the best candidate                                              0.000000\n",
      "reasonForVoteW13_I really preferred another party but it had no chance of winning in this constituency    0.000000\n",
      "reasonForVoteW13_None of these                                                                            0.000000\n",
      "registeredW13_Yes - another address                                                                       0.000000\n",
      "registeredW13_No                                                                                          0.000000\n",
      "profile_work_statW12_Working part time (Less than 8 hours a week)                                         0.000000\n",
      "profile_work_statW12_Unemployed                                                                           0.000000\n",
      "profile_work_statW12_Full time student                                                                    0.000000\n",
      "profile_work_statW12_Not working                                                                          0.000000\n",
      "educationW12_University or CNAA higher degree (eg M.Sc, Ph.D)                                             0.000000\n",
      "educationW12_No formal qualifications                                                                     0.000000\n",
      "educationW12_City and Guild certificate                                                                   0.000000\n",
      "educationW12_University diploma                                                                           0.000000\n",
      "educationW12_City and Guild certificate - advanced                                                        0.000000\n",
      "educationW12_Teaching qualification (not degree)                                                          0.000000\n",
      "educationW12_Scottish Higher Certificate                                                                  0.000000\n",
      "headHouseholdPastW13_My mother                                                                            0.000000\n",
      "                                                                                                            ...   \n",
      "lrConW10__Right                                                                                           0.000000\n",
      "prefTradeoffW10__Strongly agree                                                                           0.000000\n",
      "beliefTradeoffW10__Strongly agree                                                                         0.000000\n",
      "strongLeaderW10__Strongly agree                                                                           0.000000\n",
      "refAreGoodW10__Strongly agree                                                                             0.000000\n",
      "changeImmigLabW10__Getting a lot higher                                                                   0.000000\n",
      "euLeaveVoiceW10__Much higher                                                                              0.000000\n",
      "changeEconomyW10__Getting a lot better                                                                    0.000000\n",
      "ptvUKIPW10__Very likely                                                                                   0.000000\n",
      "effectsEUEconW10__Much better                                                                             0.000000\n",
      "effectsEUFinanceW10__Much better                                                                          0.000000\n",
      "effectsEUNHSW10__Much better                                                                              0.000000\n",
      "euLeaveBigBusinessW10__Much more likely                                                                   0.000000\n",
      "euLeaveScotIndepW10__Much more likely                                                                     0.000000\n",
      "UKsovereigntyPostW10__Strongly agree                                                                      0.000000\n",
      "ptvGrnW10__Very likely                                                                                    0.000000\n",
      "euID3W10__Strongly agree                                                                                  0.000000\n",
      "euID2W10__Strongly agree                                                                                  0.000000\n",
      "immigConW10__Allow many more                                                                              0.000000\n",
      "immigUKIPW10__Allow many more                                                                             0.000000\n",
      "leaveImpactSelfW10__A very large impact                                                                   0.000000\n",
      "leaveImpactBritainW10__A very large impact                                                                0.000000\n",
      "ptvConW10__Very likely                                                                                    0.000000\n",
      "ptvLabW10__Very likely                                                                                    0.000000\n",
      "ptvLDW10__Very likely                                                                                     0.000000\n",
      "effectsEUImmigrationW10__Much higher                                                                      0.010308\n",
      "Delta_immigSelfW10                                                                                        0.099758\n",
      "immigSelfW9__Allow many more                                                                              0.110251\n",
      "Delta_immigEconW10                                                                                        0.444343\n",
      "immigEconW10__Good for economy                                                                            0.618473\n",
      "Length: 2570, dtype: float64\n",
      "Wall time: 5min 40s\n"
     ]
    }
   ],
   "source": [
    "%%time\n",
    "X = BES_immigEcon.copy()\n",
    "clean_feature_set_std = StandardScaler().fit_transform(X.values )\n",
    "X = pd.DataFrame(clean_feature_set_std,\n",
    "                 columns = X.columns,\n",
    "                 index   = X.index      )\n",
    "\n",
    "X = sm.add_constant(X)\n",
    "y = (target-target.mean())/target.std()\n",
    "# target\n",
    "model = sm.OLS(y, X)\n",
    "results = model.fit_regularized(alpha=0.0005,L1_wt=1.0, profile_scale=False)\n",
    "# print(results.summary())\n",
    "print(results.params.sort_values())"
   ]
  },
  {
   "cell_type": "code",
   "execution_count": null,
   "metadata": {},
   "outputs": [],
   "source": [
    "# immigCultural\n",
    "\n",
    "# immigEconW8__Good for economy                                                                            -0.559886\n",
    "# immigSelfW10__Allow many more                                                                            -0.107296\n",
    "# Delta_effectsEUImmigrationW10                                                                            -0.012423\n",
    "# effectsEUImmigrationW8__Much higher                                                                      -0.011964\n",
    "\n",
    "# effectsEUImmigrationW10__Much higher                                                                      0.010308\n",
    "# Delta_immigSelfW10                                                                                        0.099758\n",
    "# immigSelfW9__Allow many more                                                                              0.110251\n",
    "# Delta_immigEconW10                                                                                        0.444343\n",
    "# immigEconW10__Good for economy                                                                            0.618473"
   ]
  },
  {
   "cell_type": "code",
   "execution_count": 849,
   "metadata": {},
   "outputs": [],
   "source": [
    "# add both together\n",
    "im_var = \"immigEcon\"\n",
    "immig_econ,mask = get_base(im_var,waves=[\"W8\"],noNans = False)\n",
    "mask = (immig_econ < immig_econ.median())[im_var+\"W8\"]\n",
    "mask = (mask & immigDiff[\"Delta_controlImmigW10\"].notnull())\n",
    "\n",
    "BES_immigEcon = pd.concat( [BES_reduced[mask][[x for x in BES_reduced.columns if \"W1\" in x]],immigDiff[[x for x in immigDiff.columns if \"W10\" in x]][mask]], axis=1)\n",
    "BES_immigEcon = BES_immigEcon.drop([\"Delta_changeImmigLabW10\"],axis=1, errors='ignore')\n",
    "BES_immigEcon = BES_immigEcon.drop([x for x in BES_immigEcon.columns if im_var in x], axis=1)\n",
    "BES_immigEcon = BES_immigEcon.drop([x for x in BES_immigEcon.columns if \"immigCultural\" in x], axis=1)\n",
    "\n",
    "target = immigDiff[\"Delta_immigEconW10\"][mask] + immigDiff[\"Delta_immigCulturalW10\"][mask]"
   ]
  },
  {
   "cell_type": "code",
   "execution_count": 850,
   "metadata": {},
   "outputs": [
    {
     "name": "stdout",
     "output_type": "stream",
     "text": [
      "ukCoopMovementW10__Bad for Britain                                  -0.126179\n",
      "Delta_immigrantsWelfareStateW10                                     -0.054472\n",
      "achieveReduceImmigUKIPW12_Yes                                       -0.042818\n",
      "immigrantsWelfareStateW10__Strongly agree                           -0.042082\n",
      "changeImmigW10__Getting a lot higher                                -0.025048\n",
      "euPriorityBalanceW10__Control immigration                           -0.024273\n",
      "effectsEUNHSW10__Much better                                        -0.013147\n",
      "emEconW11__Got a lot better                                         -0.012398\n",
      "populism5W10__Strongly agree                                        -0.006852\n",
      "responsibleCrimeDontKnowW1_Yes                                      -0.005870\n",
      "changeImmigW11__Getting a lot higher                                -0.004448\n",
      "EUIntegrationUKIPW10__Protect our independence                      -0.003797\n",
      "partyContact1W13_Yes                                                -0.001317\n",
      "responsibleImmigDontKnowW1_Yes                                      -0.000253\n",
      "profile_work_statW12_Unemployed                                      0.000000\n",
      "profile_work_statW12_Full time student                               0.000000\n",
      "educationW12_onc                                                     0.000000\n",
      "educationW12_Recognised trade apprenticeship completed               0.000000\n",
      "profile_work_statW12_Working part time (Less than 8 hours a week)    0.000000\n",
      "profile_work_statW12_Retired                                         0.000000\n",
      "educationW12_Youth training certificate/skillseekers                 0.000000\n",
      "educationW12_Scottish Ordinary/ Lower Certificate                    0.000000\n",
      "profile_work_statW12_Not working                                     0.000000\n",
      "profile_work_statW12_Working part time (8-29 hours a week)           0.000000\n",
      "registeredW13_No                                                     0.000000\n",
      "headHouseholdPastW13_My mother                                       0.000000\n",
      "bestOnMIIW13_No party is best able to handle this issue              0.000000\n",
      "educationW12_Nursing qualification (eg SEN, SRN, SCM, RGN)           0.000000\n",
      "bestOnMIIW13_United Kingdom Independence Party (UKIP)                0.000000\n",
      "bestOnMIIW13_Liberal Democrat                                        0.000000\n",
      "                                                                       ...   \n",
      "likeSNPW12__Strongly like                                            0.000000\n",
      "labUnitedW12__Very united                                            0.000000\n",
      "ukipUnitedW12__Very united                                           0.000000\n",
      "grnUnitedW12__Very united                                            0.000000\n",
      "EUIntegrationSelfW12__Protect our independence                       0.000000\n",
      "EUIntegrationLabW12__Protect our independence                        0.000000\n",
      "EUIntegrationLDW12__Protect our independence                         0.000000\n",
      "houseBuildW12__Strongly support                                      0.000000\n",
      "EUIntegrationUKIPW12__Protect our independence                       0.000000\n",
      "handleEUNegotiateW12__Very well                                      0.000000\n",
      "ldUnitedW12__Very united                                             0.000000\n",
      "likeLDW12__Strongly like                                             0.000000\n",
      "immigUKIPW10__Allow many more                                        0.004006\n",
      "euID7W13__Strongly agree                                             0.004742\n",
      "trustMPsW10__A great deal of trust                                   0.005720\n",
      "euID1W11__Strongly agree                                             0.005772\n",
      "bestOnMIIW13_Scottish National Party (SNP)                           0.006637\n",
      "euID2W10__Strongly agree                                             0.008043\n",
      "warmAsianW11__Very warm                                              0.009441\n",
      "regretsIHaveAFewEUW11_Yes                                            0.009853\n",
      "EUIntegrationConW12__Protect our independence                        0.010408\n",
      "effectsEUTerrorW10__Much higher                                      0.011093\n",
      "leaveImpactSelfW10__A very large impact                              0.012496\n",
      "tripleLockW12__Strongly agree                                        0.016146\n",
      "leaveImpactBritainW10__A very large impact                           0.019437\n",
      "immigSelfW11__Allow many more                                        0.020059\n",
      "euMoreW13__Many more                                                 0.023097\n",
      "regretsIHaveAFewEUW10_Yes                                            0.024277\n",
      "Delta_immigSelfW10                                                   0.027581\n",
      "immigSelfW10__Allow many more                                        0.126975\n",
      "Length: 1094, dtype: float64\n",
      "Wall time: 18.6 s\n"
     ]
    }
   ],
   "source": [
    "%%time\n",
    "X = BES_immigEcon.copy()\n",
    "clean_feature_set_std = StandardScaler().fit_transform(X.values )\n",
    "X = pd.DataFrame(clean_feature_set_std,\n",
    "                 columns = X.columns,\n",
    "                 index   = X.index      )\n",
    "\n",
    "X = sm.add_constant(X)\n",
    "y = (target-target.mean())/target.std()\n",
    "# target\n",
    "model = sm.OLS(y, X)\n",
    "results = model.fit_regularized(alpha=0.03,L1_wt=1.0, profile_scale=False)\n",
    "# print(results.summary())\n",
    "print(results.params.sort_values())"
   ]
  },
  {
   "cell_type": "code",
   "execution_count": null,
   "metadata": {},
   "outputs": [],
   "source": []
  },
  {
   "cell_type": "code",
   "execution_count": null,
   "metadata": {},
   "outputs": [],
   "source": [
    "# ukCoopMovementW10__Bad for Britain                                       -0.135519\n",
    "# Delta_immigrantsWelfareStateW10                                          -0.054008\n",
    "# immigrantsWelfareStateW10__Strongly agree                                -0.046781\n",
    "# euPriorityBalanceW10__Control immigration                                -0.028344\n",
    "# changeImmigW10__Getting a lot higher                                     -0.027771\n",
    "# effectsEUNHSW10__Much better                                             -0.016308\n",
    "# EUIntegrationUKIPW10__Protect our independence                           -0.007207\n",
    "# educationW8W9W10_University or CNAA higher degree (eg M.Sc, Ph.D)         0.000000\n",
    "# lr_scaleW10W11W12__Right                                                  0.000000\n",
    "# al_scaleW10W11W12__Authoritarian                                          0.000000\n",
    "\n",
    "\n",
    "# Delta_changeImmigW10                                                      0.000000\n",
    "# immigConW10__Allow many more                                              0.000000\n",
    "# satDemUKW10__Very satisfied                                               0.000260\n",
    "# profile_religionW10_Yes - Free Presbyterian                               0.000493\n",
    "# immigUKIPW10__Allow many more                                             0.005274\n",
    "# euID2W10__Strongly agree                                                  0.010450\n",
    "# trustMPsW10__A great deal of trust                                        0.012016\n",
    "# leaveImpactSelfW10__A very large impact                                   0.014410\n",
    "# effectsEUTerrorW10__Much higher                                           0.014756\n",
    "# discrimBMEW10__A lot of discrimination against                            0.018373\n",
    "# leaveImpactBritainW10__A very large impact                                0.020762\n",
    "# Delta_immigSelfW10                                                        0.021021\n",
    "# regretsIHaveAFewEUW10_Yes                                                 0.027450\n",
    "# immigSelfW10__Allow many more                                             0.145033"
   ]
  },
  {
   "cell_type": "code",
   "execution_count": 855,
   "metadata": {},
   "outputs": [
    {
     "data": {
      "text/plain": [
       "['discussPolDaysW2__7 days',\n",
       " 'discussPolDaysD1W2__7 days',\n",
       " 'discussPolDaysW4__7 days',\n",
       " 'discussPolDaysW5__7 days',\n",
       " 'discussPolDaysW6__7 days',\n",
       " 'discussPolDaysW8__7 days',\n",
       " 'discussPolDaysW11__7 days',\n",
       " 'discussPolDaysW12__7 days']"
      ]
     },
     "execution_count": 855,
     "metadata": {},
     "output_type": "execute_result"
    }
   ],
   "source": [
    "[x for x in BES_reduced.columns if \"days\" in x]"
   ]
  },
  {
   "cell_type": "code",
   "execution_count": 1024,
   "metadata": {},
   "outputs": [],
   "source": [
    "\n",
    "# [x for x in X.columns if \"Delta\" in x]\n",
    "var_list = ['Delta_immigSelfW10',\n",
    "'Delta_immigrantsWelfareStateW10',\n",
    "# 'Delta_controlImmigW10',\n",
    "'Delta_controlImmigW9',\n",
    "#'Delta_effectsEUImmigrationW10',\n",
    "#'Delta_changeImmigW10',\n",
    "\"Delta_ukCoopMovementW10\",\n",
    "\"lr_scaleW10W11W12__Right\",\n",
    "#\"al_scaleW10W11W12__Authoritarian\",\n",
    "\"effectsEUNHSW10__Much better\",\n",
    "# \"effectsEUTerrorW10__Much higher\",\n",
    "\"euPriorityBalanceW10__Control immigration\",\n",
    "#\"euID2W10__Strongly agree\",\n",
    "\"trustMPsW10__A great deal of trust\",\n",
    "\"leaveImpactSelfW10__A very large impact\",\"leaveImpactBritainW10__A very large impact\",\n",
    "\"discrimBMEW10__A lot of discrimination against\",\n",
    "\"regretsIHaveAFewEUW10_Yes\",\n",
    "\"immigrantsWelfareStateW10__Strongly agree\",\"immigSelfW10__Allow many more\",\n",
    "\"controlImmigW9__Complete control\",\n",
    "# \"controlImmigW10__Complete control\",\n",
    "\"changeImmigW10__Getting a lot higher\",\n",
    "\"effectsEUImmigrationW10__Much higher\",\n",
    "\"ukCoopMovementW10__Bad for Britain\",\n",
    "#\"euMoreW13__Many more\", \"tripleLockW12__Strongly agree\",\"warmAsianW11__Very warm\",\n",
    "#\"euID1W11__Strongly agree\",\"euID7W13__Strongly agree\",\n",
    "\"populism5W10__Strongly agree\",\n",
    "# \"polAttentionW10__Pay a great deal of attention\",\"discussPolDaysW11__7 days\",\n",
    "]\n",
    "\n",
    "# euMoreW13__Many more                                                 0.023097\n",
    "# tripleLockW12__Strongly agree                                        0.016146\n",
    "# warmAsianW11__Very warm                                              0.009441\n",
    "# euID7W13__Strongly agree                                             0.004742\n",
    "# euID1W11__Strongly agree                                             0.005772\n",
    "# euID2W10__Strongly agree                                             0.008043\n",
    "# populism5W10__Strongly agree                                        -0.006852\n",
    "# polAttention"
   ]
  },
  {
   "cell_type": "code",
   "execution_count": 1,
   "metadata": {},
   "outputs": [],
   "source": [
    "# BES_reduced[mask].corrwith(target).sort_values().dropna()"
   ]
  },
  {
   "cell_type": "code",
   "execution_count": 976,
   "metadata": {},
   "outputs": [],
   "source": [
    "imvar_list.append(\"ukCoopMovement\")"
   ]
  },
  {
   "cell_type": "code",
   "execution_count": 1025,
   "metadata": {},
   "outputs": [],
   "source": [
    "# im_var = \"immigCultural\"\n",
    "\n",
    "num = 0\n",
    "for im_var in imvar_list:\n",
    "    immig, mask = get_base(im_var,noNans = False)\n",
    "    immig.columns = [\"Delta_\"+x for x in immig.columns]\n",
    "    if num ==0:\n",
    "        immigDiff = immig.diff(axis=1).drop(immig.columns[0],axis=1)\n",
    "    else:\n",
    "        immigDiff = pd.concat( [immigDiff, immig.diff(axis=1).drop(immig.columns[0],axis=1)], axis=1)\n",
    "    num = num + 1\n"
   ]
  },
  {
   "cell_type": "code",
   "execution_count": 1026,
   "metadata": {},
   "outputs": [
    {
     "data": {
      "text/plain": [
       "['immigEcon',\n",
       " 'immigCultural',\n",
       " 'immigSelf',\n",
       " 'immigrationLevel',\n",
       " 'immigContributeTake',\n",
       " 'immigrantsWelfareState',\n",
       " 'controlImmig',\n",
       " 'effectsEUImmigration',\n",
       " 'euPriorityBalance',\n",
       " 'changeImmig',\n",
       " 'changeImmigLab',\n",
       " 'govtHandleImmig',\n",
       " 'labHandleImmig',\n",
       " 'asylumMore',\n",
       " 'euMore',\n",
       " 'noneuMore',\n",
       " 'studentsMore',\n",
       " 'familiesMore',\n",
       " 'ukCoopMovement']"
      ]
     },
     "execution_count": 1026,
     "metadata": {},
     "output_type": "execute_result"
    }
   ],
   "source": [
    "imvar_list"
   ]
  },
  {
   "cell_type": "code",
   "execution_count": 1027,
   "metadata": {},
   "outputs": [],
   "source": [
    "# add both together\n",
    "im_var = \"immigEcon\"\n",
    "immig_econ,mask = get_base(im_var,waves=[\"W8\"],noNans = False)\n",
    "mask = (immig_econ < immig_econ.median())[im_var+\"W8\"]\n",
    "mask = (mask & immigDiff[\"Delta_immigSelfW10\"].notnull() & immigDiff[\"Delta_controlImmigW9\"].notnull())\n",
    "\n",
    "BES_immigEcon = pd.concat( [BES_reduced[mask],immigDiff[[x for x in immigDiff.columns if \"W10\" in x]][mask]], axis=1)\n",
    "BES_immigEcon = BES_immigEcon.drop([\"Delta_changeImmigLabW10\"],axis=1, errors='ignore')\n",
    "BES_immigEcon = BES_immigEcon.drop([x for x in BES_immigEcon.columns if \"immigEcon\" in x], axis=1)\n",
    "BES_immigEcon = BES_immigEcon.drop([x for x in BES_immigEcon.columns if \"immigCultural\" in x], axis=1)\n",
    "BES_immigEcon[\"Delta_controlImmigW9\"] = immigDiff[\"Delta_controlImmigW9\"][mask]\n",
    "BES_immigEcon = BES_immigEcon[var_list]\n",
    "\n",
    "\n",
    "target = immigDiff[\"Delta_immigEconW10\"][mask] + immigDiff[\"Delta_immigCulturalW10\"][mask]"
   ]
  },
  {
   "cell_type": "code",
   "execution_count": 1028,
   "metadata": {},
   "outputs": [
    {
     "data": {
      "text/plain": [
       "Delta_immigSelfW10                                0\n",
       "Delta_immigrantsWelfareStateW10                   0\n",
       "Delta_controlImmigW9                              0\n",
       "Delta_ukCoopMovementW10                           0\n",
       "lr_scaleW10W11W12__Right                          0\n",
       "effectsEUNHSW10__Much better                      0\n",
       "euPriorityBalanceW10__Control immigration         0\n",
       "trustMPsW10__A great deal of trust                0\n",
       "leaveImpactSelfW10__A very large impact           0\n",
       "leaveImpactBritainW10__A very large impact        0\n",
       "discrimBMEW10__A lot of discrimination against    0\n",
       "regretsIHaveAFewEUW10_Yes                         0\n",
       "immigrantsWelfareStateW10__Strongly agree         0\n",
       "immigSelfW10__Allow many more                     0\n",
       "controlImmigW9__Complete control                  0\n",
       "changeImmigW10__Getting a lot higher              0\n",
       "effectsEUImmigrationW10__Much higher              0\n",
       "ukCoopMovementW10__Bad for Britain                0\n",
       "populism5W10__Strongly agree                      0\n",
       "dtype: int64"
      ]
     },
     "execution_count": 1028,
     "metadata": {},
     "output_type": "execute_result"
    }
   ],
   "source": [
    "BES_immigEcon.isnull().sum()"
   ]
  },
  {
   "cell_type": "code",
   "execution_count": 1029,
   "metadata": {},
   "outputs": [
    {
     "data": {
      "text/plain": [
       "1721"
      ]
     },
     "execution_count": 1029,
     "metadata": {},
     "output_type": "execute_result"
    }
   ],
   "source": [
    "mask.sum()"
   ]
  },
  {
   "cell_type": "code",
   "execution_count": 1030,
   "metadata": {},
   "outputs": [
    {
     "name": "stdout",
     "output_type": "stream",
     "text": [
      "ukCoopMovementW10__Bad for Britain               -0.045475\n",
      "changeImmigW10__Getting a lot higher             -0.032095\n",
      "Delta_immigrantsWelfareStateW10                  -0.031760\n",
      "lr_scaleW10W11W12__Right                         -0.021404\n",
      "Delta_ukCoopMovementW10                          -0.019877\n",
      "populism5W10__Strongly agree                     -0.015212\n",
      "euPriorityBalanceW10__Control immigration        -0.014877\n",
      "controlImmigW9__Complete control                 -0.013852\n",
      "effectsEUNHSW10__Much better                     -0.008573\n",
      "immigrantsWelfareStateW10__Strongly agree        -0.001068\n",
      "Delta_immigSelfW10                                0.000000\n",
      "discrimBMEW10__A lot of discrimination against    0.004001\n",
      "leaveImpactBritainW10__A very large impact        0.007732\n",
      "trustMPsW10__A great deal of trust                0.010110\n",
      "regretsIHaveAFewEUW10_Yes                         0.014165\n",
      "leaveImpactSelfW10__A very large impact           0.015972\n",
      "effectsEUImmigrationW10__Much higher              0.034136\n",
      "Delta_controlImmigW9                              0.038310\n",
      "immigSelfW10__Allow many more                     0.072951\n",
      "const                                             0.228227\n",
      "dtype: float64\n",
      "Wall time: 311 ms\n"
     ]
    }
   ],
   "source": [
    "%%time\n",
    "X = BES_immigEcon.copy()\n",
    "clean_feature_set_std = StandardScaler().fit_transform(X.values )\n",
    "X = pd.DataFrame(clean_feature_set_std,\n",
    "                 columns = X.columns,\n",
    "                 index   = X.index      )\n",
    "\n",
    "X = sm.add_constant(X)\n",
    "#y = (target-target.mean())/target.std()\n",
    "y=  target\n",
    "model = sm.OLS(y, X)\n",
    "results = model.fit_regularized(alpha=0.001,L1_wt=1.0, profile_scale=False)\n",
    "#alpha=0.03\n",
    "# print(results.summary())\n",
    "print(results.params.sort_values())"
   ]
  },
  {
   "cell_type": "code",
   "execution_count": 1040,
   "metadata": {},
   "outputs": [
    {
     "name": "stdout",
     "output_type": "stream",
     "text": [
      "                            OLS Regression Results                            \n",
      "==============================================================================\n",
      "Dep. Variable:                      y   R-squared:                       0.160\n",
      "Model:                            OLS   Adj. R-squared:                  0.150\n",
      "Method:                 Least Squares   F-statistic:                     17.00\n",
      "Date:                Fri, 08 Jun 2018   Prob (F-statistic):           7.26e-52\n",
      "Time:                        00:42:35   Log-Likelihood:                -697.57\n",
      "No. Observations:                1721   AIC:                             1435.\n",
      "Df Residuals:                    1701   BIC:                             1544.\n",
      "Df Model:                          19                                         \n",
      "Covariance Type:            nonrobust                                         \n",
      "==================================================================================================================\n",
      "                                                     coef    std err          t      P>|t|      [0.025      0.975]\n",
      "------------------------------------------------------------------------------------------------------------------\n",
      "const                                              0.2292      0.009     26.051      0.000       0.212       0.246\n",
      "Delta_immigSelfW10                                 0.0024      0.011      0.218      0.828      -0.019       0.024\n",
      "Delta_immigrantsWelfareStateW10                   -0.0321      0.012     -2.657      0.008      -0.056      -0.008\n",
      "Delta_controlImmigW9                               0.0449      0.016      2.848      0.004       0.014       0.076\n",
      "Delta_ukCoopMovementW10                           -0.0201      0.012     -1.620      0.105      -0.044       0.004\n",
      "lr_scaleW10W11W12__Right                          -0.0231      0.010     -2.318      0.021      -0.043      -0.004\n",
      "effectsEUNHSW10__Much better                      -0.0090      0.010     -0.873      0.383      -0.029       0.011\n",
      "euPriorityBalanceW10__Control immigration         -0.0158      0.011     -1.441      0.150      -0.037       0.006\n",
      "trustMPsW10__A great deal of trust                 0.0116      0.010      1.142      0.254      -0.008       0.032\n",
      "leaveImpactSelfW10__A very large impact            0.0163      0.011      1.528      0.127      -0.005       0.037\n",
      "leaveImpactBritainW10__A very large impact         0.0084      0.011      0.791      0.429      -0.012       0.029\n",
      "discrimBMEW10__A lot of discrimination against     0.0048      0.009      0.527      0.599      -0.013       0.023\n",
      "regretsIHaveAFewEUW10_Yes                          0.0152      0.009      1.694      0.091      -0.002       0.033\n",
      "immigrantsWelfareStateW10__Strongly agree         -0.0022      0.013     -0.164      0.870      -0.028       0.024\n",
      "immigSelfW10__Allow many more                      0.0717      0.013      5.562      0.000       0.046       0.097\n",
      "controlImmigW9__Complete control                  -0.0194      0.015     -1.280      0.201      -0.049       0.010\n",
      "changeImmigW10__Getting a lot higher              -0.0331      0.010     -3.467      0.001      -0.052      -0.014\n",
      "effectsEUImmigrationW10__Much higher               0.0346      0.010      3.357      0.001       0.014       0.055\n",
      "ukCoopMovementW10__Bad for Britain                -0.0455      0.014     -3.317      0.001      -0.072      -0.019\n",
      "populism5W10__Strongly agree                      -0.0162      0.010     -1.577      0.115      -0.036       0.004\n",
      "==============================================================================\n",
      "Omnibus:                      156.631   Durbin-Watson:                   1.974\n",
      "Prob(Omnibus):                  0.000   Jarque-Bera (JB):              279.470\n",
      "Skew:                           0.624   Prob(JB):                     2.06e-61\n",
      "Kurtosis:                       4.530   Cond. No.                         4.52\n",
      "==============================================================================\n",
      "\n",
      "Warnings:\n",
      "[1] Standard Errors assume that the covariance matrix of the errors is correctly specified.\n",
      "Wall time: 41 ms\n"
     ]
    }
   ],
   "source": [
    "%%time\n",
    "X = BES_immigEcon.copy()\n",
    "clean_feature_set_std = StandardScaler().fit_transform(X.values )\n",
    "X = pd.DataFrame(clean_feature_set_std,\n",
    "                 columns = X.columns,\n",
    "                 index   = X.index      )\n",
    "\n",
    "X = sm.add_constant(X)\n",
    "# y = (target-target.mean())/target.std()\n",
    "y = target\n",
    "model = sm.OLS(y, X)\n",
    "results = model.fit()\n",
    "# results = model.fit_regularized(alpha=0.03,L1_wt=1.0, profile_scale=False)\n",
    "print(results.summary())\n",
    "# print(results.params.sort_values())"
   ]
  },
  {
   "cell_type": "code",
   "execution_count": 1041,
   "metadata": {},
   "outputs": [
    {
     "data": {
      "text/html": [
       "<div>\n",
       "<style scoped>\n",
       "    .dataframe tbody tr th:only-of-type {\n",
       "        vertical-align: middle;\n",
       "    }\n",
       "\n",
       "    .dataframe tbody tr th {\n",
       "        vertical-align: top;\n",
       "    }\n",
       "\n",
       "    .dataframe thead th {\n",
       "        text-align: right;\n",
       "    }\n",
       "</style>\n",
       "<table border=\"1\" class=\"dataframe\">\n",
       "  <thead>\n",
       "    <tr style=\"text-align: right;\">\n",
       "      <th></th>\n",
       "      <th>0</th>\n",
       "    </tr>\n",
       "  </thead>\n",
       "  <tbody>\n",
       "    <tr>\n",
       "      <th>Delta_controlImmigW9</th>\n",
       "      <td>3.216554</td>\n",
       "    </tr>\n",
       "    <tr>\n",
       "      <th>controlImmigW9__Complete control</th>\n",
       "      <td>2.953248</td>\n",
       "    </tr>\n",
       "    <tr>\n",
       "      <th>ukCoopMovementW10__Bad for Britain</th>\n",
       "      <td>2.429006</td>\n",
       "    </tr>\n",
       "    <tr>\n",
       "      <th>immigrantsWelfareStateW10__Strongly agree</th>\n",
       "      <td>2.263306</td>\n",
       "    </tr>\n",
       "    <tr>\n",
       "      <th>immigSelfW10__Allow many more</th>\n",
       "      <td>2.143333</td>\n",
       "    </tr>\n",
       "    <tr>\n",
       "      <th>Delta_ukCoopMovementW10</th>\n",
       "      <td>1.987399</td>\n",
       "    </tr>\n",
       "    <tr>\n",
       "      <th>Delta_immigrantsWelfareStateW10</th>\n",
       "      <td>1.879518</td>\n",
       "    </tr>\n",
       "    <tr>\n",
       "      <th>euPriorityBalanceW10__Control immigration</th>\n",
       "      <td>1.552173</td>\n",
       "    </tr>\n",
       "    <tr>\n",
       "      <th>Delta_immigSelfW10</th>\n",
       "      <td>1.511396</td>\n",
       "    </tr>\n",
       "    <tr>\n",
       "      <th>leaveImpactSelfW10__A very large impact</th>\n",
       "      <td>1.465701</td>\n",
       "    </tr>\n",
       "    <tr>\n",
       "      <th>leaveImpactBritainW10__A very large impact</th>\n",
       "      <td>1.457002</td>\n",
       "    </tr>\n",
       "    <tr>\n",
       "      <th>effectsEUImmigrationW10__Much higher</th>\n",
       "      <td>1.373855</td>\n",
       "    </tr>\n",
       "    <tr>\n",
       "      <th>effectsEUNHSW10__Much better</th>\n",
       "      <td>1.368486</td>\n",
       "    </tr>\n",
       "    <tr>\n",
       "      <th>populism5W10__Strongly agree</th>\n",
       "      <td>1.362546</td>\n",
       "    </tr>\n",
       "    <tr>\n",
       "      <th>trustMPsW10__A great deal of trust</th>\n",
       "      <td>1.338017</td>\n",
       "    </tr>\n",
       "    <tr>\n",
       "      <th>lr_scaleW10W11W12__Right</th>\n",
       "      <td>1.288520</td>\n",
       "    </tr>\n",
       "    <tr>\n",
       "      <th>changeImmigW10__Getting a lot higher</th>\n",
       "      <td>1.177676</td>\n",
       "    </tr>\n",
       "    <tr>\n",
       "      <th>discrimBMEW10__A lot of discrimination against</th>\n",
       "      <td>1.086288</td>\n",
       "    </tr>\n",
       "    <tr>\n",
       "      <th>regretsIHaveAFewEUW10_Yes</th>\n",
       "      <td>1.035226</td>\n",
       "    </tr>\n",
       "    <tr>\n",
       "      <th>const</th>\n",
       "      <td>1.000000</td>\n",
       "    </tr>\n",
       "  </tbody>\n",
       "</table>\n",
       "</div>"
      ],
      "text/plain": [
       "                                                       0\n",
       "Delta_controlImmigW9                            3.216554\n",
       "controlImmigW9__Complete control                2.953248\n",
       "ukCoopMovementW10__Bad for Britain              2.429006\n",
       "immigrantsWelfareStateW10__Strongly agree       2.263306\n",
       "immigSelfW10__Allow many more                   2.143333\n",
       "Delta_ukCoopMovementW10                         1.987399\n",
       "Delta_immigrantsWelfareStateW10                 1.879518\n",
       "euPriorityBalanceW10__Control immigration       1.552173\n",
       "Delta_immigSelfW10                              1.511396\n",
       "leaveImpactSelfW10__A very large impact         1.465701\n",
       "leaveImpactBritainW10__A very large impact      1.457002\n",
       "effectsEUImmigrationW10__Much higher            1.373855\n",
       "effectsEUNHSW10__Much better                    1.368486\n",
       "populism5W10__Strongly agree                    1.362546\n",
       "trustMPsW10__A great deal of trust              1.338017\n",
       "lr_scaleW10W11W12__Right                        1.288520\n",
       "changeImmigW10__Getting a lot higher            1.177676\n",
       "discrimBMEW10__A lot of discrimination against  1.086288\n",
       "regretsIHaveAFewEUW10_Yes                       1.035226\n",
       "const                                           1.000000"
      ]
     },
     "metadata": {},
     "output_type": "display_data"
    }
   ],
   "source": [
    "vif_df = pd.DataFrame.from_dict( calculate_vif_(X), orient='index' ).sort_values(by=0, ascending=False)\n",
    "display(vif_df)"
   ]
  },
  {
   "cell_type": "code",
   "execution_count": 1038,
   "metadata": {},
   "outputs": [
    {
     "name": "stdout",
     "output_type": "stream",
     "text": [
      "                            OLS Regression Results                            \n",
      "==============================================================================\n",
      "Dep. Variable:                      y   R-squared:                       0.157\n",
      "Model:                            OLS   Adj. R-squared:                  0.151\n",
      "Method:                 Least Squares   F-statistic:                     26.57\n",
      "Date:                Fri, 08 Jun 2018   Prob (F-statistic):           1.25e-55\n",
      "Time:                        00:36:26   Log-Likelihood:                -699.92\n",
      "No. Observations:                1721   AIC:                             1426.\n",
      "Df Residuals:                    1708   BIC:                             1497.\n",
      "Df Model:                          12                                         \n",
      "Covariance Type:            nonrobust                                         \n",
      "=============================================================================================================\n",
      "                                                coef    std err          t      P>|t|      [0.025      0.975]\n",
      "-------------------------------------------------------------------------------------------------------------\n",
      "const                                         0.2292      0.009     26.069      0.000       0.212       0.246\n",
      "Delta_immigrantsWelfareStateW10              -0.0334      0.009     -3.743      0.000      -0.051      -0.016\n",
      "Delta_controlImmigW9                          0.0273      0.010      2.654      0.008       0.007       0.047\n",
      "Delta_ukCoopMovementW10                      -0.0196      0.012     -1.608      0.108      -0.044       0.004\n",
      "lr_scaleW10W11W12__Right                     -0.0213      0.010     -2.233      0.026      -0.040      -0.003\n",
      "euPriorityBalanceW10__Control immigration    -0.0172      0.011     -1.600      0.110      -0.038       0.004\n",
      "leaveImpactSelfW10__A very large impact       0.0214      0.009      2.364      0.018       0.004       0.039\n",
      "regretsIHaveAFewEUW10_Yes                     0.0147      0.009      1.650      0.099      -0.003       0.032\n",
      "immigSelfW10__Allow many more                 0.0736      0.010      7.120      0.000       0.053       0.094\n",
      "changeImmigW10__Getting a lot higher         -0.0329      0.009     -3.498      0.000      -0.051      -0.014\n",
      "effectsEUImmigrationW10__Much higher          0.0387      0.010      3.916      0.000       0.019       0.058\n",
      "ukCoopMovementW10__Bad for Britain           -0.0476      0.014     -3.526      0.000      -0.074      -0.021\n",
      "populism5W10__Strongly agree                 -0.0197      0.010     -2.032      0.042      -0.039      -0.001\n",
      "==============================================================================\n",
      "Omnibus:                      156.564   Durbin-Watson:                   1.973\n",
      "Prob(Omnibus):                  0.000   Jarque-Bera (JB):              276.244\n",
      "Skew:                           0.628   Prob(JB):                     1.03e-60\n",
      "Kurtosis:                       4.509   Cond. No.                         3.21\n",
      "==============================================================================\n",
      "\n",
      "Warnings:\n",
      "[1] Standard Errors assume that the covariance matrix of the errors is correctly specified.\n",
      "Wall time: 37 ms\n"
     ]
    }
   ],
   "source": [
    "%%time\n",
    "X = BES_immigEcon[results.pvalues[results.pvalues<0.15].index.drop('const')].copy()\n",
    "clean_feature_set_std = StandardScaler().fit_transform(X.values )\n",
    "X = pd.DataFrame(clean_feature_set_std,\n",
    "                 columns = X.columns,\n",
    "                 index   = X.index      )\n",
    "\n",
    "X = sm.add_constant(X)\n",
    "# y = (target-target.mean())/target.std()\n",
    "y = target\n",
    "model = sm.OLS(y, X)\n",
    "results_second = model.fit()\n",
    "# results = model.fit_regularized(alpha=0.03,L1_wt=1.0, profile_scale=False)\n",
    "print(results_second.summary())\n",
    "# print(results.params.sort_values())\n",
    "\n"
   ]
  },
  {
   "cell_type": "code",
   "execution_count": 988,
   "metadata": {},
   "outputs": [
    {
     "data": {
      "text/plain": [
       "controlImmigW8      8405\n",
       "controlImmigW9     30036\n",
       "controlImmigW10    30319\n",
       "controlImmigW11    31014\n",
       "controlImmigW13    31197\n",
       "dtype: int64"
      ]
     },
     "execution_count": 988,
     "metadata": {},
     "output_type": "execute_result"
    }
   ],
   "source": [
    "BES_Panel[[x for x in BES_Panel.columns if \"control\" in x]].notnull().sum()"
   ]
  },
  {
   "cell_type": "code",
   "execution_count": 1032,
   "metadata": {},
   "outputs": [
    {
     "data": {
      "text/plain": [
       "Index(['const', 'Delta_immigrantsWelfareStateW10', 'Delta_controlImmigW9',\n",
       "       'Delta_ukCoopMovementW10', 'lr_scaleW10W11W12__Right',\n",
       "       'euPriorityBalanceW10__Control immigration',\n",
       "       'leaveImpactSelfW10__A very large impact', 'regretsIHaveAFewEUW10_Yes',\n",
       "       'immigSelfW10__Allow many more', 'changeImmigW10__Getting a lot higher',\n",
       "       'effectsEUImmigrationW10__Much higher',\n",
       "       'ukCoopMovementW10__Bad for Britain', 'populism5W10__Strongly agree'],\n",
       "      dtype='object')"
      ]
     },
     "execution_count": 1032,
     "metadata": {},
     "output_type": "execute_result"
    }
   ],
   "source": [
    "results.pvalues[results.pvalues<0.15].index"
   ]
  },
  {
   "cell_type": "code",
   "execution_count": 1023,
   "metadata": {},
   "outputs": [
    {
     "data": {
      "text/plain": [
       "const                                             5.955202e-126\n",
       "Delta_immigSelfW10                                 8.368357e-01\n",
       "Delta_immigrantsWelfareStateW10                    9.548947e-03\n",
       "Delta_controlImmigW9                               4.862057e-03\n",
       "Delta_effectsEUImmigrationW10                      5.286631e-01\n",
       "Delta_changeImmigW10                               5.875245e-01\n",
       "Delta_ukCoopMovementW10                            1.129790e-01\n",
       "lr_scaleW10W11W12__Right                           2.776709e-02\n",
       "al_scaleW10W11W12__Authoritarian                   8.688428e-01\n",
       "effectsEUNHSW10__Much better                       3.752898e-01\n",
       "euPriorityBalanceW10__Control immigration          1.429676e-01\n",
       "euID2W10__Strongly agree                           5.697357e-01\n",
       "trustMPsW10__A great deal of trust                 2.823810e-01\n",
       "leaveImpactSelfW10__A very large impact            1.446710e-01\n",
       "leaveImpactBritainW10__A very large impact         4.253295e-01\n",
       "discrimBMEW10__A lot of discrimination against     6.091639e-01\n",
       "regretsIHaveAFewEUW10_Yes                          8.954716e-02\n",
       "immigrantsWelfareStateW10__Strongly agree          8.490822e-01\n",
       "immigSelfW10__Allow many more                      4.302856e-08\n",
       "controlImmigW9__Complete control                   2.241300e-01\n",
       "changeImmigW10__Getting a lot higher               7.688396e-02\n",
       "effectsEUImmigrationW10__Much higher               1.583858e-03\n",
       "ukCoopMovementW10__Bad for Britain                 1.104885e-03\n",
       "populism5W10__Strongly agree                       1.171054e-01\n",
       "dtype: float64"
      ]
     },
     "execution_count": 1023,
     "metadata": {},
     "output_type": "execute_result"
    }
   ],
   "source": [
    "results.pvalues"
   ]
  },
  {
   "cell_type": "code",
   "execution_count": null,
   "metadata": {},
   "outputs": [],
   "source": []
  },
  {
   "cell_type": "code",
   "execution_count": null,
   "metadata": {},
   "outputs": [],
   "source": []
  },
  {
   "cell_type": "code",
   "execution_count": null,
   "metadata": {},
   "outputs": [],
   "source": []
  },
  {
   "cell_type": "code",
   "execution_count": null,
   "metadata": {},
   "outputs": [],
   "source": []
  },
  {
   "cell_type": "code",
   "execution_count": null,
   "metadata": {},
   "outputs": [],
   "source": []
  },
  {
   "cell_type": "code",
   "execution_count": null,
   "metadata": {},
   "outputs": [],
   "source": []
  },
  {
   "cell_type": "code",
   "execution_count": 748,
   "metadata": {},
   "outputs": [
    {
     "data": {
      "text/plain": [
       "array([ 0.        ,  0.        ,  0.05925236, -0.00840178,  0.00400301,\n",
       "       -0.        ,  0.        , -0.        , -0.        , -0.        ,\n",
       "       -0.04853817,  0.        , -0.        ,  0.        , -0.        ,\n",
       "       -0.        ,  0.        , -0.        , -0.        ,  0.        ,\n",
       "       -0.        ])"
      ]
     },
     "execution_count": 748,
     "metadata": {},
     "output_type": "execute_result"
    }
   ],
   "source": [
    "X = BES_immigEcon[best_10].copy()\n",
    "X = sm.add_constant(X)\n",
    "reg = linear_model.Lasso(alpha = 0.01)\n",
    "reg.fit(X, target)\n",
    "reg.coef_"
   ]
  },
  {
   "cell_type": "code",
   "execution_count": 750,
   "metadata": {},
   "outputs": [
    {
     "data": {
      "text/html": [
       "<div>\n",
       "<style scoped>\n",
       "    .dataframe tbody tr th:only-of-type {\n",
       "        vertical-align: middle;\n",
       "    }\n",
       "\n",
       "    .dataframe tbody tr th {\n",
       "        vertical-align: top;\n",
       "    }\n",
       "\n",
       "    .dataframe thead th {\n",
       "        text-align: right;\n",
       "    }\n",
       "</style>\n",
       "<table border=\"1\" class=\"dataframe\">\n",
       "  <thead>\n",
       "    <tr style=\"text-align: right;\">\n",
       "      <th></th>\n",
       "      <th>0</th>\n",
       "      <th>1</th>\n",
       "    </tr>\n",
       "  </thead>\n",
       "  <tbody>\n",
       "    <tr>\n",
       "      <th>0</th>\n",
       "      <td>0</td>\n",
       "      <td>const</td>\n",
       "    </tr>\n",
       "    <tr>\n",
       "      <th>1</th>\n",
       "      <td>0</td>\n",
       "      <td>Delta_immigCulturalW10</td>\n",
       "    </tr>\n",
       "    <tr>\n",
       "      <th>2</th>\n",
       "      <td>0.0592524</td>\n",
       "      <td>immigCulturalW10__Enriches cultural life</td>\n",
       "    </tr>\n",
       "    <tr>\n",
       "      <th>3</th>\n",
       "      <td>-0.00840178</td>\n",
       "      <td>ukCoopMovementW10__Bad for Britain</td>\n",
       "    </tr>\n",
       "    <tr>\n",
       "      <th>4</th>\n",
       "      <td>0.00400301</td>\n",
       "      <td>immigSelfW10__Allow many more</td>\n",
       "    </tr>\n",
       "    <tr>\n",
       "      <th>5</th>\n",
       "      <td>-0</td>\n",
       "      <td>Delta_immigrantsWelfareStateW10</td>\n",
       "    </tr>\n",
       "    <tr>\n",
       "      <th>6</th>\n",
       "      <td>0</td>\n",
       "      <td>Delta_immigSelfW10</td>\n",
       "    </tr>\n",
       "    <tr>\n",
       "      <th>7</th>\n",
       "      <td>-0</td>\n",
       "      <td>immigSelfW9__Allow many more</td>\n",
       "    </tr>\n",
       "    <tr>\n",
       "      <th>8</th>\n",
       "      <td>-0</td>\n",
       "      <td>Delta_changeImmigW10</td>\n",
       "    </tr>\n",
       "    <tr>\n",
       "      <th>9</th>\n",
       "      <td>-0</td>\n",
       "      <td>ashcroftW5_United Kingdom Independence Party (...</td>\n",
       "    </tr>\n",
       "    <tr>\n",
       "      <th>10</th>\n",
       "      <td>-0.0485382</td>\n",
       "      <td>immigCulturalW8__Enriches cultural life</td>\n",
       "    </tr>\n",
       "    <tr>\n",
       "      <th>11</th>\n",
       "      <td>0</td>\n",
       "      <td>Delta_effectsEUImmigrationW10</td>\n",
       "    </tr>\n",
       "    <tr>\n",
       "      <th>12</th>\n",
       "      <td>-0</td>\n",
       "      <td>euKnow6W8_False</td>\n",
       "    </tr>\n",
       "    <tr>\n",
       "      <th>13</th>\n",
       "      <td>0</td>\n",
       "      <td>euIDW11_The leave side</td>\n",
       "    </tr>\n",
       "    <tr>\n",
       "      <th>14</th>\n",
       "      <td>-0</td>\n",
       "      <td>profile_past_vote_2010_British National Party ...</td>\n",
       "    </tr>\n",
       "    <tr>\n",
       "      <th>15</th>\n",
       "      <td>-0</td>\n",
       "      <td>socialDes_dkW1W2W3W4W5_Yes</td>\n",
       "    </tr>\n",
       "    <tr>\n",
       "      <th>16</th>\n",
       "      <td>0</td>\n",
       "      <td>bestOnMIIW9_Liberal Democrat</td>\n",
       "    </tr>\n",
       "    <tr>\n",
       "      <th>17</th>\n",
       "      <td>-0</td>\n",
       "      <td>generalElectionVoteW5_United Kingdom Independe...</td>\n",
       "    </tr>\n",
       "    <tr>\n",
       "      <th>18</th>\n",
       "      <td>-0</td>\n",
       "      <td>subjClassW10_No</td>\n",
       "    </tr>\n",
       "    <tr>\n",
       "      <th>19</th>\n",
       "      <td>0</td>\n",
       "      <td>genElecTurnoutRetroW13_Yes</td>\n",
       "    </tr>\n",
       "    <tr>\n",
       "      <th>20</th>\n",
       "      <td>-0</td>\n",
       "      <td>bestOnMIIW2_British National Party (BNP)</td>\n",
       "    </tr>\n",
       "  </tbody>\n",
       "</table>\n",
       "</div>"
      ],
      "text/plain": [
       "             0                                                  1\n",
       "0            0                                              const\n",
       "1            0                             Delta_immigCulturalW10\n",
       "2    0.0592524           immigCulturalW10__Enriches cultural life\n",
       "3  -0.00840178                 ukCoopMovementW10__Bad for Britain\n",
       "4   0.00400301                      immigSelfW10__Allow many more\n",
       "5           -0                    Delta_immigrantsWelfareStateW10\n",
       "6            0                                 Delta_immigSelfW10\n",
       "7           -0                       immigSelfW9__Allow many more\n",
       "8           -0                               Delta_changeImmigW10\n",
       "9           -0  ashcroftW5_United Kingdom Independence Party (...\n",
       "10  -0.0485382            immigCulturalW8__Enriches cultural life\n",
       "11           0                      Delta_effectsEUImmigrationW10\n",
       "12          -0                                    euKnow6W8_False\n",
       "13           0                             euIDW11_The leave side\n",
       "14          -0  profile_past_vote_2010_British National Party ...\n",
       "15          -0                         socialDes_dkW1W2W3W4W5_Yes\n",
       "16           0                       bestOnMIIW9_Liberal Democrat\n",
       "17          -0  generalElectionVoteW5_United Kingdom Independe...\n",
       "18          -0                                    subjClassW10_No\n",
       "19           0                         genElecTurnoutRetroW13_Yes\n",
       "20          -0           bestOnMIIW2_British National Party (BNP)"
      ]
     },
     "execution_count": 750,
     "metadata": {},
     "output_type": "execute_result"
    }
   ],
   "source": [
    "pd.DataFrame([reg.coef_,X.columns]).T"
   ]
  },
  {
   "cell_type": "code",
   "execution_count": null,
   "metadata": {},
   "outputs": [],
   "source": []
  },
  {
   "cell_type": "code",
   "execution_count": null,
   "metadata": {},
   "outputs": [],
   "source": []
  },
  {
   "cell_type": "code",
   "execution_count": null,
   "metadata": {},
   "outputs": [],
   "source": []
  },
  {
   "cell_type": "code",
   "execution_count": null,
   "metadata": {},
   "outputs": [],
   "source": []
  },
  {
   "cell_type": "code",
   "execution_count": null,
   "metadata": {},
   "outputs": [],
   "source": []
  },
  {
   "cell_type": "code",
   "execution_count": null,
   "metadata": {},
   "outputs": [],
   "source": []
  },
  {
   "cell_type": "code",
   "execution_count": null,
   "metadata": {},
   "outputs": [],
   "source": []
  },
  {
   "cell_type": "code",
   "execution_count": 495,
   "metadata": {},
   "outputs": [
    {
     "data": {
      "text/plain": [
       "(array([0, 1, 2, 3, 4, 5, 6, 7, 8]), <a list of 9 Text xticklabel objects>)"
      ]
     },
     "execution_count": 495,
     "metadata": {},
     "output_type": "execute_result"
    },
    {
     "data": {
      "image/png": "[encoded data removed]",
      "text/plain": [
       "<Figure size 432x288 with 1 Axes>"
      ]
     },
     "metadata": {},
     "output_type": "display_data"
    }
   ],
   "source": [
    "im_var = \"immigEcon\"\n",
    "immig_vars = [x for x in BES_Panel.columns if re.match(im_var+\"W\\d\",  x)]\n",
    "all_in_dataset = BES_Panel[immig_vars].notnull().all(axis=1)\n",
    "wave_list = [x.split(im_var)[1] for x in immig_vars]\n",
    "max_range = len(BES_Panel[immig_vars[0]].cat.categories.drop(\"Don't know\",errors='ignore'))-1\n",
    "BES_immig = BES_Panel[immig_vars][all_in_dataset]\\\n",
    ".replace(\"Don't know\",np.nan)\\\n",
    ".apply(lambda x: x.cat.codes)\\\n",
    ".replace(-1,np.nan)\\\n",
    ".apply(lambda x: x.fillna(x.median())) / max_range\n",
    "\n",
    "sns.pointplot(data=BES_immig);\n",
    "plt.xticks(rotation=45)"
   ]
  },
  {
   "cell_type": "code",
   "execution_count": 496,
   "metadata": {},
   "outputs": [
    {
     "data": {
      "text/plain": [
       "(array([0, 1, 2, 3, 4, 5, 6, 7, 8]), <a list of 9 Text xticklabel objects>)"
      ]
     },
     "execution_count": 496,
     "metadata": {},
     "output_type": "execute_result"
    },
    {
     "data": {
      "image/png": "[encoded data removed]",
      "text/plain": [
       "<Figure size 432x288 with 1 Axes>"
      ]
     },
     "metadata": {},
     "output_type": "display_data"
    }
   ],
   "source": [
    "im_var = \"immigCultural\"\n",
    "immig_vars = [x for x in BES_Panel.columns if re.match(im_var+\"W\\d\",  x)]\n",
    "all_in_dataset = BES_Panel[immig_vars].notnull().all(axis=1)\n",
    "wave_list = [x.split(im_var)[1] for x in immig_vars]\n",
    "max_range = len(BES_Panel[immig_vars[0]].cat.categories.drop(\"Don't know\",errors='ignore'))-1\n",
    "BES_immig = BES_Panel[immig_vars][all_in_dataset]\\\n",
    ".replace(\"Don't know\",np.nan)\\\n",
    ".apply(lambda x: x.cat.codes)\\\n",
    ".replace(-1,np.nan)\\\n",
    ".apply(lambda x: x.fillna(x.median())) / max_range\n",
    "\n",
    "sns.pointplot(data=BES_immig);\n",
    "plt.xticks(rotation=45)"
   ]
  },
  {
   "cell_type": "code",
   "execution_count": 502,
   "metadata": {},
   "outputs": [
    {
     "data": {
      "text/plain": [
       "(array([0, 1, 2, 3, 4, 5, 6, 7, 8]), <a list of 9 Text xticklabel objects>)"
      ]
     },
     "execution_count": 502,
     "metadata": {},
     "output_type": "execute_result"
    },
    {
     "data": {
      "image/png": "[encoded data removed]",
      "text/plain": [
       "<Figure size 432x288 with 1 Axes>"
      ]
     },
     "metadata": {},
     "output_type": "display_data"
    }
   ],
   "source": [
    "sns.pointplot(data=get_base(\"immigCultural\").diff(axis=1));\n",
    "plt.xticks(rotation=45)\n"
   ]
  },
  {
   "cell_type": "code",
   "execution_count": 532,
   "metadata": {},
   "outputs": [],
   "source": [
    "immigCultural, mask = get_base(\"immigCultural\")\n",
    "immigCulturalChange = immigCultural.diff(axis=1)\n",
    "immigCulturalChangeW10 = immigCulturalChange[\"immigCulturalW10\"]"
   ]
  },
  {
   "cell_type": "code",
   "execution_count": 540,
   "metadata": {},
   "outputs": [
    {
     "data": {
      "text/plain": [
       "<matplotlib.axes._subplots.AxesSubplot at 0x6a7622e8>"
      ]
     },
     "execution_count": 540,
     "metadata": {},
     "output_type": "execute_result"
    },
    {
     "data": {
      "image/png": "[encoded data removed]",
      "text/plain": [
       "<Figure size 432x288 with 1 Axes>"
      ]
     },
     "metadata": {},
     "output_type": "display_data"
    }
   ],
   "source": [
    "immigCulturalChangeW10.hist(bins=10)"
   ]
  },
  {
   "cell_type": "code",
   "execution_count": 533,
   "metadata": {},
   "outputs": [],
   "source": [
    "corr = BES_reduced[mask].corrwith(immigCulturalChangeW10)"
   ]
  },
  {
   "cell_type": "code",
   "execution_count": 535,
   "metadata": {},
   "outputs": [
    {
     "data": {
      "text/plain": [
       "immigCulturalW8__Enriches cultural life                 -0.264046\n",
       "ukCoopMovementW10__Bad for Britain                      -0.104932\n",
       "immigEconW8__Good for economy                           -0.097349\n",
       "happyTrumpW10__Extremely happy                          -0.072676\n",
       "discussPolDaysW8__7 days                                -0.071373\n",
       "achieveReduceImmigUKIPW11_Yes                           -0.071165\n",
       "ptvUKIPW10__Very likely                                 -0.070305\n",
       "immigLabW8__Allow many more                             -0.068039\n",
       "noneuMoreW8__Many more                                  -0.066774\n",
       "euPriorityBalanceW10__Control immigration               -0.066409\n",
       "polAttentionW3__Pay a great deal of attention           -0.065984\n",
       "UKsovereigntyPostW10__Strongly agree                    -0.064785\n",
       "econGenRetroW10__Got a lot better                       -0.064114\n",
       "responsibleImmigLabourW4_Yes                            -0.064053\n",
       "ptvUKIPW11__Very likely                                 -0.063519\n",
       "changeImmigW10__Getting a lot higher                    -0.062968\n",
       "partyContact1W2_Yes                                     -0.062597\n",
       "polAttentionW1__Pay a great deal of attention           -0.062034\n",
       "immigLabW9__Allow many more                             -0.061369\n",
       "EUIntegrationSelfW10__Protect our independence          -0.060740\n",
       "polAttentionW2__Pay a great deal of attention           -0.060467\n",
       "euPriorityBalanceW12__Control immigration               -0.060360\n",
       "achieveReduceImmigUKIPW9_Yes                            -0.060020\n",
       "polAttentionW6__Pay a great deal of attention           -0.059984\n",
       "likeUKIPW10__Strongly like                              -0.059849\n",
       "likeUKIPW9__Strongly like                               -0.059838\n",
       "immigLabW11__Allow many more                            -0.059789\n",
       "likeFarageW10__Strongly like                            -0.059549\n",
       "achieveReduceImmigUKIPW12_Yes                           -0.059443\n",
       "polAttentionW7__Pay a great deal of attention           -0.059204\n",
       "                                                           ...   \n",
       "socialIdentityGlobalRemainW10__A great deal in common    0.051713\n",
       "expectGoodConductEURefW10__Conducted unfairly            0.052124\n",
       "immigSelfW11__Allow many more                            0.052237\n",
       "responsibleCostLiveDontKnowW4_Yes                        0.052246\n",
       "regretsIHaveAFewEUW10_Yes                                0.052399\n",
       "efficacyNotUnderstandW2__Strongly agree                  0.052442\n",
       "responsibleDebtDontKnowW3_Yes                            0.054095\n",
       "bestOnMIIW2_Labour                                       0.054684\n",
       "europeannessW10__Very strongly European                  0.054828\n",
       "responsibleNHSDontKnowW4_Yes                             0.054851\n",
       "effectsEUImmigrationW10__Much higher                     0.056860\n",
       "likeLDW12__Strongly like                                 0.056899\n",
       "approveEUW10__Strongly approve                           0.057543\n",
       "responsibleDebtDontKnowW1_Yes                            0.057591\n",
       "cabinetSupportW8__Mainly leave                           0.057923\n",
       "effectsEUTerrorW10__Much higher                          0.060714\n",
       "efficacyVoteEffortW2__Strongly agree                     0.061993\n",
       "satDemEUW10__Very satisfied                              0.062714\n",
       "responsibleEconDontKnowW4_Yes                            0.063430\n",
       "leaveImpactSelfW10__A very large impact                  0.063737\n",
       "immigEconW13__Good for economy                           0.063755\n",
       "immigCulturalW13__Enriches cultural life                 0.067396\n",
       "effectsEUImmigrationW11__Much higher                     0.068429\n",
       "effectsEUImmigrationW13__Much higher                     0.071822\n",
       "tryReduceImmigDKW4_Yes                                   0.071833\n",
       "immigEconW11__Good for economy                           0.079694\n",
       "immigCulturalW11__Enriches cultural life                 0.080786\n",
       "immigSelfW10__Allow many more                            0.088942\n",
       "immigEconW10__Good for economy                           0.159819\n",
       "immigCulturalW10__Enriches cultural life                 0.354664\n",
       "Length: 2564, dtype: float64"
      ]
     },
     "execution_count": 535,
     "metadata": {},
     "output_type": "execute_result"
    }
   ],
   "source": [
    "corr.sort_values().dropna()"
   ]
  },
  {
   "cell_type": "code",
   "execution_count": 543,
   "metadata": {},
   "outputs": [
    {
     "data": {
      "text/plain": [
       "controlImmigW9__Complete control    -0.035858\n",
       "controlImmigW10__Complete control   -0.036309\n",
       "controlImmigW11__Complete control   -0.036222\n",
       "controlImmigW13__Complete control   -0.023119\n",
       "dtype: float64"
      ]
     },
     "execution_count": 543,
     "metadata": {},
     "output_type": "execute_result"
    }
   ],
   "source": [
    "corr.loc[[x for x in corr.index if \"control\" in x]]"
   ]
  },
  {
   "cell_type": "code",
   "execution_count": 545,
   "metadata": {},
   "outputs": [
    {
     "data": {
      "text/plain": [
       "changeImmigW1__Getting a lot higher        0.005661\n",
       "changeImmigLabW1__Getting a lot higher    -0.036745\n",
       "changeImmigW2__Getting a lot higher       -0.019388\n",
       "changeImmigLabW2__Getting a lot higher    -0.043170\n",
       "changeImmigW3__Getting a lot higher        0.014279\n",
       "changeImmigLabW3__Getting a lot higher    -0.013646\n",
       "changeImmigW4__Getting a lot higher       -0.012071\n",
       "changeImmigLabW4__Getting a lot higher    -0.034941\n",
       "changeImmigW7__Getting a lot higher       -0.023453\n",
       "changeImmigLabW7__Getting a lot higher    -0.031592\n",
       "changeImmigW8__Getting a lot higher       -0.022139\n",
       "changeImmigW10__Getting a lot higher      -0.062968\n",
       "changeImmigLabW10__Getting a lot higher   -0.048689\n",
       "changeImmigW11__Getting a lot higher      -0.036761\n",
       "dtype: float64"
      ]
     },
     "execution_count": 545,
     "metadata": {},
     "output_type": "execute_result"
    }
   ],
   "source": [
    "corr.loc[[x for x in corr.index if \"changeImmig\" in x]]"
   ]
  },
  {
   "cell_type": "code",
   "execution_count": 550,
   "metadata": {},
   "outputs": [
    {
     "name": "stdout",
     "output_type": "stream",
     "text": [
      "N= 6337\n"
     ]
    },
    {
     "data": {
      "text/plain": [
       "immigCulturalW8__Enriches cultural life                 -0.264046\n",
       "ukCoopMovementW10__Bad for Britain                      -0.104932\n",
       "immigEconW8__Good for economy                           -0.097349\n",
       "happyTrumpW10__Extremely happy                          -0.072676\n",
       "discussPolDaysW8__7 days                                -0.071373\n",
       "achieveReduceImmigUKIPW11_Yes                           -0.071165\n",
       "ptvUKIPW10__Very likely                                 -0.070305\n",
       "immigLabW8__Allow many more                             -0.068039\n",
       "noneuMoreW8__Many more                                  -0.066774\n",
       "euPriorityBalanceW10__Control immigration               -0.066409\n",
       "polAttentionW3__Pay a great deal of attention           -0.065984\n",
       "UKsovereigntyPostW10__Strongly agree                    -0.064785\n",
       "econGenRetroW10__Got a lot better                       -0.064114\n",
       "responsibleImmigLabourW4_Yes                            -0.064053\n",
       "ptvUKIPW11__Very likely                                 -0.063519\n",
       "changeImmigW10__Getting a lot higher                    -0.062968\n",
       "partyContact1W2_Yes                                     -0.062597\n",
       "polAttentionW1__Pay a great deal of attention           -0.062034\n",
       "immigLabW9__Allow many more                             -0.061369\n",
       "EUIntegrationSelfW10__Protect our independence          -0.060740\n",
       "polAttentionW2__Pay a great deal of attention           -0.060467\n",
       "euPriorityBalanceW12__Control immigration               -0.060360\n",
       "achieveReduceImmigUKIPW9_Yes                            -0.060020\n",
       "polAttentionW6__Pay a great deal of attention           -0.059984\n",
       "likeUKIPW10__Strongly like                              -0.059849\n",
       "likeUKIPW9__Strongly like                               -0.059838\n",
       "immigLabW11__Allow many more                            -0.059789\n",
       "likeFarageW10__Strongly like                            -0.059549\n",
       "achieveReduceImmigUKIPW12_Yes                           -0.059443\n",
       "polAttentionW7__Pay a great deal of attention           -0.059204\n",
       "                                                           ...   \n",
       "socialIdentityGlobalRemainW10__A great deal in common    0.051713\n",
       "expectGoodConductEURefW10__Conducted unfairly            0.052124\n",
       "immigSelfW11__Allow many more                            0.052237\n",
       "responsibleCostLiveDontKnowW4_Yes                        0.052246\n",
       "regretsIHaveAFewEUW10_Yes                                0.052399\n",
       "efficacyNotUnderstandW2__Strongly agree                  0.052442\n",
       "responsibleDebtDontKnowW3_Yes                            0.054095\n",
       "bestOnMIIW2_Labour                                       0.054684\n",
       "europeannessW10__Very strongly European                  0.054828\n",
       "responsibleNHSDontKnowW4_Yes                             0.054851\n",
       "effectsEUImmigrationW10__Much higher                     0.056860\n",
       "likeLDW12__Strongly like                                 0.056899\n",
       "approveEUW10__Strongly approve                           0.057543\n",
       "responsibleDebtDontKnowW1_Yes                            0.057591\n",
       "cabinetSupportW8__Mainly leave                           0.057923\n",
       "effectsEUTerrorW10__Much higher                          0.060714\n",
       "efficacyVoteEffortW2__Strongly agree                     0.061993\n",
       "satDemEUW10__Very satisfied                              0.062714\n",
       "responsibleEconDontKnowW4_Yes                            0.063430\n",
       "leaveImpactSelfW10__A very large impact                  0.063737\n",
       "immigEconW13__Good for economy                           0.063755\n",
       "immigCulturalW13__Enriches cultural life                 0.067396\n",
       "effectsEUImmigrationW11__Much higher                     0.068429\n",
       "effectsEUImmigrationW13__Much higher                     0.071822\n",
       "tryReduceImmigDKW4_Yes                                   0.071833\n",
       "immigEconW11__Good for economy                           0.079694\n",
       "immigCulturalW11__Enriches cultural life                 0.080786\n",
       "immigSelfW10__Allow many more                            0.088942\n",
       "immigEconW10__Good for economy                           0.159819\n",
       "immigCulturalW10__Enriches cultural life                 0.354664\n",
       "Length: 2564, dtype: float64"
      ]
     },
     "execution_count": 550,
     "metadata": {},
     "output_type": "execute_result"
    }
   ],
   "source": [
    "im_var = \"immigCultural\"\n",
    "immigCultural, mask = get_base(im_var)\n",
    "immigCulturalChange = immigCultural.diff(axis=1)\n",
    "immigCulturalChangeW10 = immigCulturalChange[im_var+\"W10\"]\n",
    "corr = BES_reduced[mask].corrwith(immigCulturalChangeW10)\n",
    "print(\"N=\",mask.sum())\n",
    "corr.sort_values().dropna()"
   ]
  },
  {
   "cell_type": "code",
   "execution_count": 549,
   "metadata": {},
   "outputs": [
    {
     "name": "stdout",
     "output_type": "stream",
     "text": [
      "N= 20151\n"
     ]
    },
    {
     "data": {
      "text/plain": [
       "immigCulturalW8__Enriches cultural life                 -0.302100\n",
       "immigEconW8__Good for economy                           -0.127893\n",
       "ukCoopMovementW10__Bad for Britain                      -0.086925\n",
       "noneuMoreW8__Many more                                  -0.070308\n",
       "euPriorityBalanceW10__Control immigration               -0.069396\n",
       "EUIntegrationSelfW10__Protect our independence          -0.064243\n",
       "effectsEUTradeW10__Much higher                          -0.063850\n",
       "econGenRetroW10__Got a lot better                       -0.061775\n",
       "ptvUKIPW10__Very likely                                 -0.060928\n",
       "econGenRetroW11__Got a lot better                       -0.059015\n",
       "happyTrumpW10__Extremely happy                          -0.057882\n",
       "immigLDW8__Allow many more                              -0.057667\n",
       "euMoreW8__Many more                                     -0.056098\n",
       "likeUKIPW10__Strongly like                              -0.055391\n",
       "changeImmigW10__Getting a lot higher                    -0.054702\n",
       "likeFarageW10__Strongly like                            -0.054658\n",
       "euPriorityBalanceW12__Control immigration               -0.053852\n",
       "UKsovereigntyPostW10__Strongly agree                    -0.053270\n",
       "immigLabW8__Allow many more                             -0.053202\n",
       "immigrantsWelfareStateW10__Strongly agree               -0.052667\n",
       "changeEconomyW10__Getting a lot better                  -0.052543\n",
       "euPriorityBalanceW13__Control immigration               -0.051370\n",
       "effectsEUEconW10__Much better                           -0.050492\n",
       "euPriorityBalanceW11__Control immigration               -0.050298\n",
       "likeGoveW9__Strongly like                               -0.049798\n",
       "likeUKIPW11__Strongly like                              -0.049557\n",
       "achieveReduceImmigUKIPW11_Yes                           -0.049462\n",
       "euIDW10_The leave side                                  -0.049425\n",
       "effectsEUTradeW13__Much higher                          -0.049424\n",
       "studentsMoreW8__Many more                               -0.049162\n",
       "                                                           ...   \n",
       "likeLDW10__Strongly like                                 0.039646\n",
       "socialIdentityGlobalRemainW10__A great deal in common    0.040194\n",
       "effectsEUImmigrationW13__Much higher                     0.041011\n",
       "EUIntegrationLDW11__Protect our independence             0.041078\n",
       "likeFarronW11__Strongly like                             0.041781\n",
       "EUIntegrationLabW13__Protect our independence            0.042232\n",
       "expectGoodConductEURefW10__Conducted unfairly            0.042572\n",
       "euRefDoOverW11_Yes                                       0.044699\n",
       "likeLDW11__Strongly like                                 0.046188\n",
       "effectsEUTerrorW11__Much higher                          0.046600\n",
       "likeLDW12__Strongly like                                 0.046987\n",
       "discrimMuslimsW10__A lot of discrimination against       0.048454\n",
       "euLeaveBigBusinessW10__Much more likely                  0.048876\n",
       "immigSelfW11__Allow many more                            0.048928\n",
       "leaveImpactSelfW10__A very large impact                  0.049040\n",
       "immigEconW13__Good for economy                           0.050789\n",
       "discrimBMEW10__A lot of discrimination against           0.051912\n",
       "leaveImpactBritainW10__A very large impact               0.052234\n",
       "europeannessW10__Very strongly European                  0.052467\n",
       "effectsEUImmigrationW10__Much higher                     0.053235\n",
       "approveEUW10__Strongly approve                           0.057479\n",
       "euRefDoOverW10_Yes                                       0.057650\n",
       "effectsEUTerrorW10__Much higher                          0.058749\n",
       "satDemEUW10__Very satisfied                              0.060258\n",
       "immigEconW11__Good for economy                           0.062289\n",
       "immigCulturalW13__Enriches cultural life                 0.064518\n",
       "immigCulturalW11__Enriches cultural life                 0.069238\n",
       "immigSelfW10__Allow many more                            0.078887\n",
       "immigEconW10__Good for economy                           0.169379\n",
       "immigCulturalW10__Enriches cultural life                 0.369408\n",
       "Length: 2569, dtype: float64"
      ]
     },
     "execution_count": 549,
     "metadata": {},
     "output_type": "execute_result"
    }
   ],
   "source": [
    "im_var = \"immigCultural\"\n",
    "immigCultural, mask = get_base(im_var,[\"W8\",\"W10\"])\n",
    "immigCulturalChange = immigCultural.diff(axis=1)\n",
    "immigCulturalChangeW10 = immigCulturalChange[im_var+\"W10\"]\n",
    "corr = BES_reduced[mask].corrwith(immigCulturalChangeW10)\n",
    "print(\"N=\",mask.sum())\n",
    "corr.sort_values().dropna()"
   ]
  },
  {
   "cell_type": "code",
   "execution_count": null,
   "metadata": {},
   "outputs": [],
   "source": []
  },
  {
   "cell_type": "code",
   "execution_count": 584,
   "metadata": {},
   "outputs": [
    {
     "name": "stdout",
     "output_type": "stream",
     "text": [
      "N= 20151\n"
     ]
    }
   ],
   "source": [
    "im_var = \"changeImmig\"\n",
    "immig, mask = get_base(im_var,[\"W8\",\"W10\"])\n",
    "mask = mask# & (immig[im_var+\"W8\"]<=immig[im_var+\"W8\"].median())\n",
    "# immig = immig[mask]\n",
    "immigChange = immig.loc[mask].diff(axis=1)\n",
    "immigChangeW10 = immigChange[im_var+\"W10\"]\n",
    "corr = BES_reduced[mask].corrwith(immigChangeW10)\n",
    "print(\"N=\",mask.sum())\n",
    "corr.sort_values().dropna()\n",
    "\n",
    "changeImmig10_df = immigChangeW10\n",
    "changeImmig10_mask = mask"
   ]
  },
  {
   "cell_type": "code",
   "execution_count": 585,
   "metadata": {},
   "outputs": [
    {
     "name": "stdout",
     "output_type": "stream",
     "text": [
      "N= 6912\n"
     ]
    }
   ],
   "source": [
    "im_var = \"controlImmig\"\n",
    "immig, mask = get_base(im_var,[\"W8\",\"W9\"])\n",
    "mask = mask# & (immig[im_var+\"W8\"]<=immig[im_var+\"W8\"].median())\n",
    "# immig = immig[mask]\n",
    "immigChange = immig.loc[mask].diff(axis=1)\n",
    "immigChangeW9 = immigChange[im_var+\"W9\"]\n",
    "corr = BES_reduced[mask].corrwith(immigChangeW9)\n",
    "print(\"N=\",mask.sum())\n",
    "corr.sort_values().dropna()\n",
    "\n",
    "controlImmig9_df = immigChangeW9\n",
    "controlImmig9_mask = mask"
   ]
  },
  {
   "cell_type": "code",
   "execution_count": 587,
   "metadata": {},
   "outputs": [
    {
     "name": "stdout",
     "output_type": "stream",
     "text": [
      "N= 20151\n"
     ]
    }
   ],
   "source": [
    "im_var = \"immigCultural\"\n",
    "immig, mask = get_base(im_var,[\"W8\",\"W10\"])\n",
    "mask = mask# & (immig[im_var+\"W8\"]<=immig[im_var+\"W8\"].median())\n",
    "# immig = immig[mask]\n",
    "immigChange = immig.loc[mask].diff(axis=1)\n",
    "immigChangeW10 = immigChange[im_var+\"W10\"]\n",
    "corr = BES_reduced[mask].corrwith(immigChangeW10)\n",
    "print(\"N=\",mask.sum())\n",
    "corr.sort_values().dropna()\n",
    "\n",
    "immigCulturalW10_df = immigChangeW10\n",
    "immigCulturalW10_mask = mask"
   ]
  },
  {
   "cell_type": "code",
   "execution_count": 599,
   "metadata": {},
   "outputs": [
    {
     "name": "stdout",
     "output_type": "stream",
     "text": [
      "N= 4042\n"
     ]
    },
    {
     "data": {
      "text/plain": [
       "immigEconW8__Good for economy                                     -0.283912\n",
       "ukCoopMovementW10__Bad for Britain                                -0.188537\n",
       "immigrantsWelfareStateW10__Strongly agree                         -0.134701\n",
       "euPriorityBalanceW10__Control immigration                         -0.110770\n",
       "euPriorityBalanceW13__Control immigration                         -0.101549\n",
       "immigrantsWelfareStateW11__Strongly agree                         -0.096365\n",
       "euPriorityBalanceW11__Control immigration                         -0.091160\n",
       "euPriorityBalanceW12__Control immigration                         -0.086233\n",
       "effectsEUNHSW10__Much better                                      -0.084886\n",
       "EUIntegrationSelfW10__Protect our independence                    -0.083015\n",
       "achieveReduceImmigUKIPW12_Yes                                     -0.081990\n",
       "effectsEUNHSW11__Much better                                      -0.081147\n",
       "EUIntegrationSelfW11__Protect our independence                    -0.081085\n",
       "changeImmigW10__Getting a lot higher                              -0.080881\n",
       "ptvUKIPW11__Very likely                                           -0.075504\n",
       "EUIntegrationSelfW13__Protect our independence                    -0.073317\n",
       "populism1W10__Strongly agree                                      -0.073031\n",
       "euLeaveVoiceW11__Much higher                                      -0.073028\n",
       "achieveReduceImmigUKIPW11_Yes                                     -0.072942\n",
       "euLeaveVoiceW13__Much higher                                      -0.070464\n",
       "effectsEUNHSW13__Much better                                      -0.068654\n",
       "bestOnMIIW7_United Kingdom Independence Party (UKIP)              -0.067687\n",
       "happyTrumpW10__Extremely happy                                    -0.067681\n",
       "refAreGoodW10__Strongly agree                                     -0.067524\n",
       "generalElectionVoteW10_United Kingdom Independence Party (UKIP)   -0.066337\n",
       "likeUKIPW11__Strongly like                                        -0.066280\n",
       "happyEULeaveW10__Extremely happy                                  -0.066051\n",
       "effectsEUWorkersW13__Much better                                  -0.065599\n",
       "ptvUKIPW10__Very likely                                           -0.065412\n",
       "effectsEUWorkersW11__Much better                                  -0.064576\n",
       "                                                                     ...   \n",
       "effectsEUUnemploymentW11__Much higher                              0.068807\n",
       "immigEconW2__Good for economy                                      0.069017\n",
       "euRefDoOverW11_Yes                                                 0.069240\n",
       "satDemEUW10__Very satisfied                                        0.069392\n",
       "europeannessW11__Very strongly European                            0.069431\n",
       "immigSelfW9__Allow many more                                       0.069971\n",
       "familiesMoreW13__Many more                                         0.070080\n",
       "euRefDoOverW10_Yes                                                 0.070846\n",
       "immigEconW7__Good for economy                                      0.071263\n",
       "effectsEUUnemploymentW13__Much higher                              0.071396\n",
       "effectsEUTerrorW11__Much higher                                    0.075166\n",
       "effectsEUImmigrationW13__Much higher                               0.078471\n",
       "effectsEUImmigrationW10__Much higher                               0.078660\n",
       "europeannessW10__Very strongly European                            0.079564\n",
       "euLeaveBigBusinessW11__Much more likely                            0.080828\n",
       "studentsMoreW13__Many more                                         0.083604\n",
       "immigEconW4__Good for economy                                      0.084265\n",
       "approveEUW10__Strongly approve                                     0.085370\n",
       "socialIdentityGlobalRemainW10__A great deal in common              0.087725\n",
       "effectsEUImmigrationW11__Much higher                               0.088278\n",
       "noneuMoreW13__Many more                                            0.094690\n",
       "immigSelfW11__Allow many more                                      0.113382\n",
       "euMoreW13__Many more                                               0.130816\n",
       "immigCulturalW13__Enriches cultural life                           0.139951\n",
       "immigCulturalW11__Enriches cultural life                           0.154746\n",
       "immigSelfW10__Allow many more                                      0.156010\n",
       "immigEconW13__Good for economy                                     0.168522\n",
       "immigEconW11__Good for economy                                     0.219691\n",
       "immigCulturalW10__Enriches cultural life                           0.262872\n",
       "immigEconW10__Good for economy                                     0.611813\n",
       "Length: 2562, dtype: float64"
      ]
     },
     "execution_count": 599,
     "metadata": {},
     "output_type": "execute_result"
    }
   ],
   "source": [
    "im_var = \"immigEcon\"\n",
    "immig, mask = get_base(im_var)#,[\"W8\",\"W10\"])\n",
    "mask = mask & (immig[im_var+\"W8\"]<=immig[im_var+\"W8\"].median())\n",
    "# immig = immig[mask]\n",
    "immigChange = immig.loc[mask].diff(axis=1)\n",
    "immigChangeW10 = immigChange[im_var+\"W10\"]\n",
    "corr = BES_reduced[mask].corrwith(immigChangeW10)\n",
    "print(\"N=\",mask.sum())\n",
    "\n",
    "\n",
    "immigEconW10_df = immigChangeW10\n",
    "immigEconW10_mask = mask\n",
    "corr.sort_values().dropna()"
   ]
  },
  {
   "cell_type": "code",
   "execution_count": 588,
   "metadata": {},
   "outputs": [
    {
     "name": "stdout",
     "output_type": "stream",
     "text": [
      "N= 20151\n"
     ]
    },
    {
     "data": {
      "text/plain": [
       "-0.051540754658588026"
      ]
     },
     "execution_count": 588,
     "metadata": {},
     "output_type": "execute_result"
    }
   ],
   "source": [
    "joint_mask  = immigCulturalW10_mask&changeImmig10_mask\n",
    "print(\"N=\",joint_mask.sum())\n",
    "immigCulturalW10_df[joint_mask].corr(changeImmig10_df[joint_mask])"
   ]
  },
  {
   "cell_type": "code",
   "execution_count": 598,
   "metadata": {},
   "outputs": [
    {
     "name": "stdout",
     "output_type": "stream",
     "text": [
      "N= 4500\n"
     ]
    },
    {
     "data": {
      "text/plain": [
       "-0.03132694167986967"
      ]
     },
     "execution_count": 598,
     "metadata": {},
     "output_type": "execute_result"
    }
   ],
   "source": [
    "joint_mask  = immigCulturalW10_mask&controlImmig9_mask\n",
    "print(\"N=\",joint_mask.sum())\n",
    "immigCulturalW10_df[joint_mask].corr(controlImmig9_df[joint_mask])"
   ]
  },
  {
   "cell_type": "code",
   "execution_count": 600,
   "metadata": {},
   "outputs": [
    {
     "name": "stdout",
     "output_type": "stream",
     "text": [
      "N= 4042\n"
     ]
    },
    {
     "data": {
      "text/plain": [
       "-0.04798177160090034"
      ]
     },
     "execution_count": 600,
     "metadata": {},
     "output_type": "execute_result"
    }
   ],
   "source": [
    "joint_mask  = immigEconW10_mask&changeImmig10_mask\n",
    "print(\"N=\",joint_mask.sum())\n",
    "immigEconW10_df[joint_mask].corr(changeImmig10_df[joint_mask])"
   ]
  },
  {
   "cell_type": "code",
   "execution_count": 601,
   "metadata": {},
   "outputs": [
    {
     "name": "stdout",
     "output_type": "stream",
     "text": [
      "N= 944\n"
     ]
    },
    {
     "data": {
      "text/plain": [
       "-0.018945458816460863"
      ]
     },
     "execution_count": 601,
     "metadata": {},
     "output_type": "execute_result"
    }
   ],
   "source": [
    "joint_mask  = immigEconW10_mask&controlImmig9_mask\n",
    "print(\"N=\",joint_mask.sum())\n",
    "immigEconW10_df[joint_mask].corr(controlImmig9_df[joint_mask])"
   ]
  },
  {
   "cell_type": "code",
   "execution_count": null,
   "metadata": {},
   "outputs": [],
   "source": []
  },
  {
   "cell_type": "code",
   "execution_count": 577,
   "metadata": {},
   "outputs": [
    {
     "name": "stdout",
     "output_type": "stream",
     "text": [
      "N= 6337\n"
     ]
    },
    {
     "data": {
      "text/plain": [
       "immigCulturalW8__Enriches cultural life                 -0.264046\n",
       "ukCoopMovementW10__Bad for Britain                      -0.104932\n",
       "immigEconW8__Good for economy                           -0.097349\n",
       "happyTrumpW10__Extremely happy                          -0.072676\n",
       "discussPolDaysW8__7 days                                -0.071373\n",
       "achieveReduceImmigUKIPW11_Yes                           -0.071165\n",
       "ptvUKIPW10__Very likely                                 -0.070305\n",
       "immigLabW8__Allow many more                             -0.068039\n",
       "noneuMoreW8__Many more                                  -0.066774\n",
       "euPriorityBalanceW10__Control immigration               -0.066409\n",
       "polAttentionW3__Pay a great deal of attention           -0.065984\n",
       "UKsovereigntyPostW10__Strongly agree                    -0.064785\n",
       "econGenRetroW10__Got a lot better                       -0.064114\n",
       "responsibleImmigLabourW4_Yes                            -0.064053\n",
       "ptvUKIPW11__Very likely                                 -0.063519\n",
       "changeImmigW10__Getting a lot higher                    -0.062968\n",
       "partyContact1W2_Yes                                     -0.062597\n",
       "polAttentionW1__Pay a great deal of attention           -0.062034\n",
       "immigLabW9__Allow many more                             -0.061369\n",
       "EUIntegrationSelfW10__Protect our independence          -0.060740\n",
       "polAttentionW2__Pay a great deal of attention           -0.060467\n",
       "euPriorityBalanceW12__Control immigration               -0.060360\n",
       "achieveReduceImmigUKIPW9_Yes                            -0.060020\n",
       "polAttentionW6__Pay a great deal of attention           -0.059984\n",
       "likeUKIPW10__Strongly like                              -0.059849\n",
       "likeUKIPW9__Strongly like                               -0.059838\n",
       "immigLabW11__Allow many more                            -0.059789\n",
       "likeFarageW10__Strongly like                            -0.059549\n",
       "achieveReduceImmigUKIPW12_Yes                           -0.059443\n",
       "polAttentionW7__Pay a great deal of attention           -0.059204\n",
       "                                                           ...   \n",
       "socialIdentityGlobalRemainW10__A great deal in common    0.051713\n",
       "expectGoodConductEURefW10__Conducted unfairly            0.052124\n",
       "immigSelfW11__Allow many more                            0.052237\n",
       "responsibleCostLiveDontKnowW4_Yes                        0.052246\n",
       "regretsIHaveAFewEUW10_Yes                                0.052399\n",
       "efficacyNotUnderstandW2__Strongly agree                  0.052442\n",
       "responsibleDebtDontKnowW3_Yes                            0.054095\n",
       "bestOnMIIW2_Labour                                       0.054684\n",
       "europeannessW10__Very strongly European                  0.054828\n",
       "responsibleNHSDontKnowW4_Yes                             0.054851\n",
       "effectsEUImmigrationW10__Much higher                     0.056860\n",
       "likeLDW12__Strongly like                                 0.056899\n",
       "approveEUW10__Strongly approve                           0.057543\n",
       "responsibleDebtDontKnowW1_Yes                            0.057591\n",
       "cabinetSupportW8__Mainly leave                           0.057923\n",
       "effectsEUTerrorW10__Much higher                          0.060714\n",
       "efficacyVoteEffortW2__Strongly agree                     0.061993\n",
       "satDemEUW10__Very satisfied                              0.062714\n",
       "responsibleEconDontKnowW4_Yes                            0.063430\n",
       "leaveImpactSelfW10__A very large impact                  0.063737\n",
       "immigEconW13__Good for economy                           0.063755\n",
       "immigCulturalW13__Enriches cultural life                 0.067396\n",
       "effectsEUImmigrationW11__Much higher                     0.068429\n",
       "effectsEUImmigrationW13__Much higher                     0.071822\n",
       "tryReduceImmigDKW4_Yes                                   0.071833\n",
       "immigEconW11__Good for economy                           0.079694\n",
       "immigCulturalW11__Enriches cultural life                 0.080786\n",
       "immigSelfW10__Allow many more                            0.088942\n",
       "immigEconW10__Good for economy                           0.159819\n",
       "immigCulturalW10__Enriches cultural life                 0.354664\n",
       "Length: 2564, dtype: float64"
      ]
     },
     "execution_count": 577,
     "metadata": {},
     "output_type": "execute_result"
    }
   ],
   "source": [
    "im_var = \"immigCultural\"\n",
    "immig, mask = get_base(im_var)#,[\"W8\",\"W10\"])\n",
    "mask = mask & (immig[im_var+\"W8\"]<=immig[im_var+\"W8\"].median())\n",
    "# immig = immig[mask]\n",
    "immigChange = immig.loc[mask].diff(axis=1)\n",
    "immigChangeW10 = immigChange[im_var+\"W10\"]\n",
    "corr = BES_reduced[mask].corrwith(immigChangeW10)\n",
    "print(\"N=\",mask.sum())\n",
    "corr.sort_values().dropna()"
   ]
  },
  {
   "cell_type": "code",
   "execution_count": 562,
   "metadata": {},
   "outputs": [
    {
     "name": "stderr",
     "output_type": "stream",
     "text": [
      "C:\\Users\\Marios\\AppData\\Local\\conda\\conda\\envs\\BES_analysis\\lib\\site-packages\\ipykernel\\__main__.py:4: UserWarning: Boolean Series key will be reindexed to match DataFrame index.\n"
     ]
    },
    {
     "name": "stdout",
     "output_type": "stream",
     "text": [
      "N= 11742\n"
     ]
    },
    {
     "data": {
      "text/plain": [
       "immigEconW10__Good for economy                          -0.303279\n",
       "immigCulturalW10__Enriches cultural life                -0.287832\n",
       "immigSelfW10__Allow many more                           -0.251754\n",
       "immigEconW11__Good for economy                          -0.229358\n",
       "immigCulturalW11__Enriches cultural life                -0.227004\n",
       "immigEconW13__Good for economy                          -0.223332\n",
       "immigCulturalW13__Enriches cultural life                -0.221077\n",
       "immigSelfW11__Allow many more                           -0.212808\n",
       "immigSelfW9__Allow many more                            -0.207049\n",
       "immigEconW7__Good for economy                           -0.204967\n",
       "immigCulturalW8__Enriches cultural life                 -0.201094\n",
       "immigEconW8__Good for economy                           -0.197083\n",
       "asylumMoreW13__Many more                                -0.188101\n",
       "immigCulturalW7__Enriches cultural life                 -0.187666\n",
       "immigSelfW8__Allow many more                            -0.178496\n",
       "asylumMoreW8__Many more                                 -0.172533\n",
       "immigEconW4__Good for economy                           -0.171548\n",
       "socialIdentityGlobalRemainW10__A great deal in common   -0.161107\n",
       "asylumMoreW7__Many more                                 -0.160946\n",
       "immigSelfW7__Allow many more                            -0.160782\n",
       "familiesMoreW7__Many more                               -0.157836\n",
       "familiesMoreW13__Many more                              -0.157663\n",
       "europeannessW10__Very strongly European                 -0.156114\n",
       "euMoreW13__Many more                                    -0.156104\n",
       "immigCulturalW4__Enriches cultural life                 -0.154344\n",
       "euMoreW7__Many more                                     -0.153967\n",
       "immigEconW3__Good for economy                           -0.152581\n",
       "europeannessW9__Very strongly European                  -0.149533\n",
       "immigCulturalW3__Enriches cultural life                 -0.149519\n",
       "familiesMoreW8__Many more                               -0.147148\n",
       "                                                           ...   \n",
       "immigrantsWelfareStateW1__Strongly agree                 0.155729\n",
       "happyEULeaveW9__Extremely happy                          0.158091\n",
       "euIDW10_The leave side                                   0.159402\n",
       "likeFarageW10__Strongly like                             0.159971\n",
       "ptvUKIPW9__Very likely                                   0.161955\n",
       "immigrantsWelfareStateW2__Strongly agree                 0.163272\n",
       "likeUKIPW9__Strongly like                                0.165048\n",
       "likeUKIPW8__Strongly like                                0.165672\n",
       "socialIdentityGlobalLeaveW10__A great deal in common     0.166374\n",
       "ptvUKIPW10__Very likely                                  0.168082\n",
       "EUIntegrationSelfW10__Protect our independence           0.168134\n",
       "euPriorityBalanceW12__Control immigration                0.169329\n",
       "britLiveHereW11__Very important                          0.171498\n",
       "blackEqualityW6_W12__Gone much too far                   0.172062\n",
       "immigrantsWelfareStateW3__Strongly agree                 0.172303\n",
       "al2W10W11W12__Strongly agree                             0.172707\n",
       "euPriorityBalanceW11__Control immigration                0.175267\n",
       "happyEULeaveW10__Extremely happy                         0.178163\n",
       "likeUKIPW10__Strongly like                               0.179222\n",
       "euPriorityBalanceW13__Control immigration                0.180379\n",
       "britBornHereW11__Very important                          0.182022\n",
       "al_scaleW10W11W12__Authoritarian                         0.186048\n",
       "overseasAidW11__Strongly agree                           0.190775\n",
       "immigrantsWelfareStateW4__Strongly agree                 0.206425\n",
       "ukCoopMovementW10__Bad for Britain                       0.209724\n",
       "euPriorityBalanceW10__Control immigration                0.219591\n",
       "overseasAidW10__Strongly agree                           0.221389\n",
       "immigrantsWelfareStateW7__Strongly agree                 0.226087\n",
       "immigrantsWelfareStateW11__Strongly agree                0.302125\n",
       "immigrantsWelfareStateW10__Strongly agree                0.858580\n",
       "Length: 2568, dtype: float64"
      ]
     },
     "execution_count": 562,
     "metadata": {},
     "output_type": "execute_result"
    }
   ],
   "source": [
    "im_var = \"immigrantsWelfareState\"\n",
    "immig, mask = get_base(im_var,[\"W8\",\"W10\"])\n",
    "mask = mask & (immig[\"immigrantsWelfareStateW8\"]>=immig[\"immigrantsWelfareStateW8\"].median())\n",
    "immig = immig[mask]\n",
    "immigChange = immig.diff(axis=1)\n",
    "immigChangeW10 = immigChange[im_var+\"W10\"]\n",
    "corr = BES_reduced[mask].corrwith(immigChangeW10)\n",
    "print(\"N=\",mask.sum())\n",
    "corr.sort_values().dropna()"
   ]
  },
  {
   "cell_type": "code",
   "execution_count": 561,
   "metadata": {},
   "outputs": [],
   "source": [
    "mask = mask & (immig[\"immigrantsWelfareStateW8\"]>=immig[\"immigrantsWelfareStateW8\"].median())"
   ]
  },
  {
   "cell_type": "code",
   "execution_count": null,
   "metadata": {},
   "outputs": [],
   "source": []
  },
  {
   "cell_type": "code",
   "execution_count": null,
   "metadata": {},
   "outputs": [],
   "source": []
  },
  {
   "cell_type": "code",
   "execution_count": null,
   "metadata": {},
   "outputs": [],
   "source": []
  },
  {
   "cell_type": "code",
   "execution_count": null,
   "metadata": {},
   "outputs": [],
   "source": []
  },
  {
   "cell_type": "code",
   "execution_count": null,
   "metadata": {},
   "outputs": [],
   "source": []
  },
  {
   "cell_type": "code",
   "execution_count": null,
   "metadata": {},
   "outputs": [],
   "source": []
  },
  {
   "cell_type": "code",
   "execution_count": null,
   "metadata": {},
   "outputs": [],
   "source": []
  },
  {
   "cell_type": "code",
   "execution_count": null,
   "metadata": {},
   "outputs": [],
   "source": []
  },
  {
   "cell_type": "code",
   "execution_count": null,
   "metadata": {},
   "outputs": [],
   "source": []
  },
  {
   "cell_type": "code",
   "execution_count": null,
   "metadata": {},
   "outputs": [],
   "source": []
  },
  {
   "cell_type": "code",
   "execution_count": null,
   "metadata": {},
   "outputs": [],
   "source": []
  },
  {
   "cell_type": "code",
   "execution_count": null,
   "metadata": {},
   "outputs": [],
   "source": []
  },
  {
   "cell_type": "code",
   "execution_count": null,
   "metadata": {},
   "outputs": [],
   "source": []
  },
  {
   "cell_type": "code",
   "execution_count": null,
   "metadata": {},
   "outputs": [],
   "source": []
  },
  {
   "cell_type": "code",
   "execution_count": null,
   "metadata": {},
   "outputs": [],
   "source": [
    "# Linear/Logistic Regression"
   ]
  },
  {
   "cell_type": "code",
   "execution_count": null,
   "metadata": {},
   "outputs": [],
   "source": []
  },
  {
   "cell_type": "code",
   "execution_count": null,
   "metadata": {},
   "outputs": [],
   "source": [
    "BES_logit = BES_eng_lab[[y_var]].apply(lambda x: x.astype('int'))\n",
    "BES_eng_lab[\"headHouseholdPast\"] = BES_eng_lab[\"headHouseholdPast\"].astype('category') # fix float -> category\n",
    "\n",
    "for var in var_list:\n",
    "#     print(var)\n",
    "    vtype = var_type.loc[ var ][\"type\"]\n",
    "    if vtype==3 or var == \"euRefVote\": # non-ordinal categorical\n",
    "        sorted_categories = list( BES_eng_lab[var].value_counts().index )\n",
    "        relative_to = \"(\" + str(sorted_categories[0])[0:10] + \")\"\n",
    "        dummies = pd.get_dummies( BES_eng_lab[var].cat.remove_unused_categories() , dummy_na = BES_eng_lab[var].isnull().any(), prefix = var + relative_to )\n",
    "        dummies.drop( var + relative_to + \"_\" + str(sorted_categories[0]), axis=1, inplace=True )\n",
    "        BES_logit = pd.concat( [ BES_logit, dummies ] , axis=1)\n",
    "        \n",
    "    elif vtype==1: # ordinal categorical\n",
    "        BES_logit[var] = BES_eng_lab[var]\n",
    "   \n",
    "        # if any nans, create var_nan\n",
    "#         if BES_eng_lab[var].isnull().any():\n",
    "#             BES_logit[var+\"_nan\"] = BES_eng_lab[var].isnull().astype('int')\n",
    "\n",
    "        # if any don't knows, create a don't know\n",
    "        if BES_eng_lab[var].apply(lambda x: x in Weasel_answers).any():\n",
    "#             BES_logit[var+\"_dk\"] = BES_eng_lab[var].apply(lambda x: x in [\"Don't know\"]).astype('int')\n",
    "            weasel_cats = [x for x in Weasel_answers if x in BES_logit[var].cat.categories]\n",
    "            BES_logit[var] = BES_logit[var].cat.remove_categories(weasel_cats)\n",
    "            \n",
    "        BES_logit[var] = BES_logit[var].cat.codes\n",
    "        BES_logit[var] = BES_logit[var].replace(-1,0)\n",
    "#         BES_logit[var] = BES_logit[var].replace(np.nan,BES_logit[var].dropna().mean())\n",
    "        \n",
    "        # should the baseline be 0 or mean?\n",
    "        # this stuff is going to be normalised\n",
    "            \n",
    "          \n",
    "            \n",
    "        \n",
    "        \n",
    "\n",
    "# BES_logit\n",
    "# BES_eng_lab[var_list]\n",
    "\n",
    "x_vars = list(BES_logit.columns)\n",
    "x_vars.remove(y_var)\n",
    "\n",
    "X = BES_logit[x_vars]\n",
    "y = BES_logit[y_var]\n",
    "\n",
    "# X_normalized = \n",
    "X = pd.DataFrame( preprocessing.normalize(X, norm='l2'), columns = X.columns, index = X.index)"
   ]
  },
  {
   "cell_type": "code",
   "execution_count": null,
   "metadata": {},
   "outputs": [],
   "source": [
    "\n",
    "\n",
    "vif_df = pd.DataFrame.from_dict( calculate_vif_(X), orient='index' ).sort_values(by=0, ascending=False)\n",
    "vif_df"
   ]
  },
  {
   "cell_type": "code",
   "execution_count": null,
   "metadata": {},
   "outputs": [],
   "source": [
    "\n",
    "logreg = LogisticRegression(C=1e5)\n",
    "# we create an instance of Neighbours Classifier and fit the data.\n",
    "logreg.fit(X, y, sample_weight=sample_weight)\n",
    "# logreg.coef_\n",
    "print(logreg.intercept_)\n",
    "pd.DataFrame.from_dict({k: v for (k, v) in zip( X.columns , logreg.coef_[0])},orient='index').sort_values(by=0)"
   ]
  },
  {
   "cell_type": "code",
   "execution_count": null,
   "metadata": {},
   "outputs": [],
   "source": [
    "\n",
    "X_sm = X.copy()\n",
    "X_sm[\"intercept\"] = 1.0\n",
    "logit_model=sm.Logit(y,X_sm)\n",
    "result=logit_model.fit()\n",
    "print(result.summary())"
   ]
  },
  {
   "cell_type": "code",
   "execution_count": null,
   "metadata": {},
   "outputs": [],
   "source": [
    "\n",
    "lr = LinearRegression()\n",
    "rfe = RFE(lr, n_features_to_select = 50)\n",
    "rfe = rfe.fit(X, y )\n",
    "print(rfe.support_)\n",
    "print(rfe.ranking_)"
   ]
  },
  {
   "cell_type": "code",
   "execution_count": null,
   "metadata": {},
   "outputs": [],
   "source": [
    "\n",
    "X_sm = X[X.columns[rfe.support_]]\n",
    "# X_sm[\"intercept\"] = 1.0\n",
    "logit_model=sm.Logit(y,X_sm)\n",
    "result=logit_model.fit()\n",
    "print(result.summary())"
   ]
  },
  {
   "cell_type": "code",
   "execution_count": null,
   "metadata": {},
   "outputs": [],
   "source": [
    "\n",
    "sig_p_value_list = list( result.pvalues[result.pvalues<.1].index)\n",
    "sig_p_value_list = [x for x in sig_p_value_list if x not in [\"intercept\"]]\n",
    "# ,\"bestOnMII_Conservative\",\"regretsIHaveAFew\",\n",
    "#                                                              \"reasonForVote_I always vote that way\",\"profile_newspaper_The Mirror / Daily Record\",\n",
    "#                                                              \"partyContactLD\",\"voteMethoda\"] ]\n",
    "X_sm = X[sig_p_value_list].copy()\n",
    "X_sm[\"intercept\"] = 1.0\n",
    "logit_model=sm.Logit(y,X_sm)\n",
    "result=logit_model.fit(maxiter=100)\n",
    "print(result.summary())"
   ]
  },
  {
   "cell_type": "code",
   "execution_count": null,
   "metadata": {},
   "outputs": [],
   "source": []
  },
  {
   "cell_type": "code",
   "execution_count": null,
   "metadata": {},
   "outputs": [],
   "source": [
    "\n",
    "scaler = StandardScaler(copy=True, with_mean=True, with_std=True)\n",
    "X_and_y_filled_scaled = pd.DataFrame( scaler.fit_transform(X_and_y_filled), columns = X_and_y_filled.columns, index = X_and_y_filled.index)\n"
   ]
  },
  {
   "cell_type": "code",
   "execution_count": null,
   "metadata": {},
   "outputs": [],
   "source": [
    "X = sm.add_constant(X)\n",
    "model = sm.OLS(y, X)\n",
    "results = model.fit()\n",
    "print(results.summary())"
   ]
  },
  {
   "cell_type": "code",
   "execution_count": null,
   "metadata": {},
   "outputs": [],
   "source": []
  },
  {
   "cell_type": "code",
   "execution_count": null,
   "metadata": {},
   "outputs": [],
   "source": [
    "### Sankey Diagrams"
   ]
  },
  {
   "cell_type": "code",
   "execution_count": 439,
   "metadata": {},
   "outputs": [],
   "source": [
    "from ipysankeywidget import SankeyWidget\n",
    "from ipywidgets import Layout\n",
    "from ipywidgets import Button, VBox, HBox, Output\n",
    "from IPython.display import display, clear_output\n",
    "\n",
    "cmap = ['red','purple','blue','yellow','black','orange','grey','cyan','brown','green','pink','olive','peru',\n",
    "        'fuchsia', 'chartreuse']\n",
    "\n",
    "def flatten(A):\n",
    "    rt = []\n",
    "    for i in A:\n",
    "        if isinstance(i,list): rt.extend(flatten(i))\n",
    "        else: rt.append(i)\n",
    "    return rt\n",
    "\n",
    "def make_sankey(BES, links, order, first_year, second_year, first_col, second_col,\n",
    "                replace_dict, threshold, colour, fixed_order, scale, nodes, wt_col, groups, group_index):\n",
    "    \n",
    "    crosstab = pd.crosstab(index   = BES[ first_col  ],\n",
    "                           columns = BES[ second_col ],\n",
    "                           values  = BES[ wt_col ],\n",
    "                           aggfunc = sum, dropna = False,\n",
    "                           normalize=True)*scale\n",
    "\n",
    "    if order == []: # initialise\n",
    "        order = [ [[x+first_year]  for x in fixed_order] ]\n",
    "    order.append( [[x+second_year] for x in fixed_order] ) # add new layer\n",
    "    \n",
    "\n",
    "    for col in crosstab.columns:\n",
    "        if col not in replace_dict.keys():\n",
    "            continue        \n",
    "        second_party = replace_dict[ col ]\n",
    "        for ind in crosstab[col].index:\n",
    "            if ind not in replace_dict.keys():\n",
    "                continue\n",
    "            first_party = replace_dict[ ind ]\n",
    "            \n",
    "            if crosstab[col][ind]>threshold:\n",
    "                if colour == []:\n",
    "                    col_to_use = colourmap[first_party]\n",
    "                else:\n",
    "                    col_to_use = cmap[colour]\n",
    "                \n",
    "                node_id_first = first_party+first_year\n",
    "                \n",
    "                # add group if not already present\n",
    "                if first_year not in group_index.keys():\n",
    "                    group_index[first_year] = len(groups)\n",
    "                    groups.append( {'id': first_year, 'title': first_year, 'nodes': []} )\n",
    "                    \n",
    "                if node_id_first not in [x['id'] for x in nodes]:\n",
    "                    nodes.append({'id':node_id_first, 'direction':'l'})\n",
    "                    groups[group_index[first_year]]['nodes'].append(node_id_first)                    \n",
    "                    \n",
    "                node_id_second = second_party+second_year\n",
    "                \n",
    "                # add group if not already present\n",
    "                if second_year not in group_index.keys():\n",
    "                    group_index[second_year] = len(groups)\n",
    "                    groups.append( {'id': second_year, 'title': second_year, 'nodes': []} )                \n",
    "                \n",
    "                if node_id_second not in [x['id'] for x in nodes]:\n",
    "                    nodes.append({'id':node_id_second, 'direction':'l'})\n",
    "                    groups[group_index[second_year]]['nodes'].append(node_id_second)\n",
    "\n",
    "                if colour ==[]:\n",
    "                    d = {'source': node_id_first,\n",
    "                         'target': node_id_second,\n",
    "                         'value': crosstab[col][ind],\n",
    "                         'color': col_to_use}\n",
    "                else:\n",
    "                    d = {'source': node_id_first,\n",
    "                         'target': node_id_second,\n",
    "                         'value': crosstab[col][ind],\n",
    "                         'color': col_to_use,'type' : str(colour)}                    \n",
    "                links.append(d)\n",
    "\n",
    "    return links, order, nodes, groups, group_index\n",
    "\n",
    "def sankify():\n",
    "    colour = []\n",
    "    order  = []\n",
    "    links  = []\n",
    "    # [\"W7\",\"W8\",\"W9\",\"W10\",\"W11\",\"W12\",\"W13\"]\n",
    "    pairs = [(x,im_var+x) for x in wave_list]\n",
    "    scale = 100\n",
    "    nodes = []\n",
    "    wt_col = 'wt_new_W13'\n",
    "    groups = []\n",
    "    group_index = {}\n",
    "    for pair_no in range(0,len(pairs)-1):\n",
    "\n",
    "\n",
    "        (links, order, nodes, groups, group_index) = make_sankey(BES_Panel, links, order,\n",
    "                            pairs[pair_no][0], pairs[pair_no+1][0],\n",
    "                            pairs[pair_no][1], pairs[pair_no+1][1],\n",
    "                            replace_dict, threshold, colour, fixed_order = base_order, scale=scale, nodes=nodes, wt_col = wt_col, groups=groups, group_index=group_index)    \n",
    "\n",
    "    sankey = SankeyWidget(links=links, order=order, nodes=[], groups=groups, margins = margins, scale=diagram_scale, layout=layout)\n",
    "    return sankey\n",
    "\n",
    "def sankify_init_col(): \n",
    "    # sankify with colour sets by initial choice\n",
    "\n",
    "    colour = []\n",
    "    order  = []\n",
    "    links  = []\n",
    "\n",
    "    pairs = [(x,im_var+x) for x in wave_list]\n",
    "    scale = 100\n",
    "    nodes = []\n",
    "    wt_col = 'wt_new_W13'\n",
    "    groups = []\n",
    "    group_index = {}\n",
    "\n",
    "    for party in base_order:\n",
    "        order  = []\n",
    "        BES = BES_immig.loc[ BES_immig[immig_vars[0]]==party ]\n",
    "        scale = 100 * BES.shape[0]/BES_immig.shape[0]\n",
    "        colour = list(colourmap.values()).index( colourmap[replace_dict[party]] )    \n",
    "\n",
    "        for pair_no in range(0,len(pairs)-1):\n",
    "\n",
    "            (links, order, nodes, groups, group_index) = make_sankey(BES, links, order,\n",
    "                                pairs[pair_no][0], pairs[pair_no+1][0],\n",
    "                                pairs[pair_no][1], pairs[pair_no+1][1],\n",
    "                                replace_dict, threshold, colour, fixed_order = base_order,\n",
    "                                scale=scale, nodes=nodes, wt_col = wt_col, groups=groups, group_index=group_index)    \n",
    "\n",
    "    sankey = SankeyWidget(layout=layout,links=links, order=order, nodes=[], groups=groups, margins = margins, scale=diagram_scale)\n",
    "    return sankey"
   ]
  },
  {
   "cell_type": "code",
   "execution_count": 444,
   "metadata": {},
   "outputs": [],
   "source": [
    "# immigSelf W7W8W9W10W11W12W13\n",
    "im_var = \"immigSelf\"\n",
    "\n",
    "immig_vars = [x for x in BES_Panel.columns if im_var in x]\n",
    "wave_list = [x.split(im_var)[1] for x in immig_vars]\n",
    "immig_vars.append('wt_new_W13')\n",
    "BES_immig = BES_Panel[immig_vars]\n",
    "replace_dict = {x:x for x in BES_immig[immig_vars[0]].cat.categories}\n",
    "colourmap = {BES_immig[immig_vars[0]].cat.categories[x]:cmap[x] for x in range(0, len( BES_immig[immig_vars[0]].cat.categories)) } \n",
    "base_order = BES_immig[immig_vars[0]].cat.categories\n",
    "\n",
    "# specific problem with the last two waves not overlapping the prior data!\n",
    "wave_list = ['W7', 'W8', 'W9', 'W10', 'W11',]"
   ]
  },
  {
   "cell_type": "code",
   "execution_count": 449,
   "metadata": {},
   "outputs": [
    {
     "data": {
      "application/vnd.jupyter.widget-view+json": {
       "model_id": "3d3bd317c881452fb69f743b05137012",
       "version_major": 2,
       "version_minor": 0
      },
      "text/plain": [
       "SankeyWidget(groups=[{'id': 'W7', 'title': 'W7', 'nodes': ['Allow many fewerW7', '1W7', '2W7', '3W7', \"Don't k…"
      ]
     },
     "metadata": {},
     "output_type": "display_data"
    }
   ],
   "source": [
    "threshold = 0.5\n",
    "margins=dict(top=30, bottom=10, left=150, right=150)\n",
    "layout = Layout(width=\"1000\", height=\"650\")\n",
    "diagram_scale=2\n",
    "sankey = sankify()\n",
    "sankey.auto_save_png(BES_output_folder+os.sep+\"SankeyDiagrams\"+os.sep+\"immigSelf_sankey.png\")"
   ]
  }
 ],
 "metadata": {
  "anaconda-cloud": {},
  "kernelspec": {
   "display_name": "Python [conda env:BES_analysis]",
   "language": "python",
   "name": "conda-env-BES_analysis-py"
  },
  "language_info": {
   "codemirror_mode": {
    "name": "ipython",
    "version": 3
   },
   "file_extension": ".py",
   "mimetype": "text/x-python",
   "name": "python",
   "nbconvert_exporter": "python",
   "pygments_lexer": "ipython3",
   "version": "3.6.5"
  }
 },
 "nbformat": 4,
 "nbformat_minor": 2
}
