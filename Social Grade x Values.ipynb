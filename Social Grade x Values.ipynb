{
 "cells": [
  {
   "cell_type": "code",
   "execution_count": 1,
   "metadata": {
    "collapsed": true
   },
   "outputs": [],
   "source": [
    "# https://twitter.com/p_surridge/status/902548587674042368\n",
    "\n",
    "# want to replicate this and look at distributions\n",
    "\n",
    "# violinplots with kdes by social grade"
   ]
  },
  {
   "cell_type": "code",
   "execution_count": 1,
   "metadata": {
    "collapsed": true
   },
   "outputs": [],
   "source": [
    "import numpy as np\n",
    "import pandas as pd\n",
    "np.random.seed(0)\n",
    "\n",
    "import matplotlib.pyplot as plt\n",
    "import gc\n",
    "import re\n",
    "\n",
    "from sklearn import datasets\n",
    "from sklearn.decomposition import PCA, IncrementalPCA, NMF, TruncatedSVD, FastICA, FactorAnalysis, SparsePCA\n",
    "from sklearn.preprocessing import StandardScaler\n",
    "from sklearn.discriminant_analysis import LinearDiscriminantAnalysis\n",
    "from itertools import cycle\n",
    "from IPython.display import display\n",
    "import pickle, os\n",
    "\n",
    "import seaborn as sns\n",
    "\n",
    "BES_data_folder = \"../BES_analysis_data/\"\n",
    "BES_code_folder = \"../BES_analysis_code/\"\n",
    "\n",
    "# from fancyimpute import BiScaler, KNN, NuclearNormMinimization, SoftImpute, MICE\n",
    "from gaussian_kde import gaussian_kde\n",
    "from utility import display_components,display_pca_data\n",
    "\n",
    "\n",
    "import time\n",
    "import warnings\n",
    "\n",
    "import numpy as np\n",
    "import matplotlib.pyplot as plt\n",
    "\n",
    "from sklearn import cluster, datasets, mixture\n",
    "from sklearn.neighbors import kneighbors_graph\n",
    "from sklearn.preprocessing import StandardScaler\n",
    "from itertools import cycle, islice\n",
    "\n",
    "%matplotlib inline"
   ]
  },
  {
   "cell_type": "code",
   "execution_count": 2,
   "metadata": {
    "collapsed": true
   },
   "outputs": [],
   "source": [
    "from sklearn import datasets, cluster\n",
    "import numpy as np\n",
    "import matplotlib.pyplot as plt\n",
    "from mpl_toolkits.mplot3d import Axes3D\n",
    "\n",
    "from sklearn import cluster"
   ]
  },
  {
   "cell_type": "code",
   "execution_count": 35,
   "metadata": {
    "collapsed": true
   },
   "outputs": [],
   "source": [
    "Treatment = \"W13_only\" \n",
    "if not os.path.exists(BES_data_folder+Treatment):\n",
    "    os.makedirs(BES_data_folder+Treatment)"
   ]
  },
  {
   "cell_type": "code",
   "execution_count": 5,
   "metadata": {
    "collapsed": true
   },
   "outputs": [],
   "source": [
    "dataset = \"BES2017_W13_v1.0.dta\"\n",
    "wave = \"W13_only\"\n",
    "\n",
    "BES_Panel = pd.read_stata(BES_data_folder+dataset)\n"
   ]
  },
  {
   "cell_type": "code",
   "execution_count": 6,
   "metadata": {
    "collapsed": true
   },
   "outputs": [],
   "source": [
    "England = (BES_Panel[\"country\"]==\"England\")\n",
    "Wave13 = (BES_Panel.wave13==1.0)\n",
    "area = England\n",
    "\n",
    "constraints = England & Wave13"
   ]
  },
  {
   "cell_type": "code",
   "execution_count": 7,
   "metadata": {
    "collapsed": true
   },
   "outputs": [],
   "source": [
    "interest_var = \"profile_socialgrade_cie\""
   ]
  },
  {
   "cell_type": "code",
   "execution_count": 8,
   "metadata": {},
   "outputs": [
    {
     "data": {
      "text/plain": [
       "C1         8508\n",
       "B          5823\n",
       "C2         5097\n",
       "A          4179\n",
       "E          3930\n",
       "D          3116\n",
       "Unknown     543\n",
       "Refused       1\n",
       "Name: profile_socialgrade_cie, dtype: int64"
      ]
     },
     "execution_count": 8,
     "metadata": {},
     "output_type": "execute_result"
    }
   ],
   "source": [
    "BES_Panel.profile_socialgrade_cie.value_counts()"
   ]
  },
  {
   "cell_type": "code",
   "execution_count": 9,
   "metadata": {
    "collapsed": true
   },
   "outputs": [],
   "source": [
    "df = pd.DataFrame([ BES_Panel[interest_var]]).T\n",
    "df.columns = [interest_var]\n",
    "df[interest_var] = df[interest_var].astype('category')\n"
   ]
  },
  {
   "cell_type": "code",
   "execution_count": 10,
   "metadata": {
    "collapsed": true
   },
   "outputs": [],
   "source": [
    "# numbers = df[interest_var][constraints].value_counts()    \n",
    "# new2oldvp = {}\n",
    "# for ind in numbers.index:\n",
    "#     newvp = ind + \"(N = \" + str(numbers.loc[ind]) + \")\"\n",
    "#     new2oldvp[ind] = newvp\n",
    "#     df.loc[df[interest_var]==ind,interest_var] = newvp\n",
    "        "
   ]
  },
  {
   "cell_type": "code",
   "execution_count": 11,
   "metadata": {
    "collapsed": true
   },
   "outputs": [],
   "source": [
    "try:\n",
    "    df[interest_var].cat.remove_categories(\"Refused\",inplace=True)\n",
    "except:\n",
    "    pass\n",
    "# df.loc[df[interest_var]==\"Refused\",interest_var]\n",
    "order = df[interest_var].cat.categories"
   ]
  },
  {
   "cell_type": "code",
   "execution_count": 12,
   "metadata": {
    "collapsed": true
   },
   "outputs": [],
   "source": [
    "# BES_Panel.loc[LAB2OTH[0], \"al_scaleW13\"].cat.codes.value_counts()\n",
    "wave = \"\"\n",
    "\n",
    "df[\"al_scale\"] = BES_Panel[\"al_scale\"+wave].cat.codes\n",
    "df[\"al_scale\"].replace(-1, np.nan, inplace=True)\n",
    "\n",
    "df[\"lr_scale\"] = BES_Panel[\"lr_scale\"+wave].cat.codes\n",
    "df[\"lr_scale\"].replace(-1, np.nan, inplace=True)\n",
    "\n",
    "df[\"weights\"] = BES_Panel['wt_new_W13']\n",
    "\n",
    "# drop everything that's nan in voting_path\n",
    "df = df[df[interest_var].notnull()]\n",
    "\n"
   ]
  },
  {
   "cell_type": "code",
   "execution_count": 13,
   "metadata": {},
   "outputs": [
    {
     "data": {
      "image/png": "[encoded data removed]",
      "text/plain": [
       "<matplotlib.figure.Figure at 0xaa7a358>"
      ]
     },
     "metadata": {},
     "output_type": "display_data"
    }
   ],
   "source": [
    "\n",
    "g = sns.barplot(x=interest_var, y=\"al_scale\", data=df, palette=\"Greens_d\");\n",
    "g.set_xticklabels(labels = order, rotation=30);"
   ]
  },
  {
   "cell_type": "code",
   "execution_count": 14,
   "metadata": {},
   "outputs": [
    {
     "data": {
      "image/png": "[encoded data removed]",
      "text/plain": [
       "<matplotlib.figure.Figure at 0xc0dbf60>"
      ]
     },
     "metadata": {},
     "output_type": "display_data"
    }
   ],
   "source": [
    "\n",
    "g = sns.barplot(x=interest_var, y=\"lr_scale\", data=df, palette=\"Greens_d\");\n",
    "g.set_xticklabels(labels = order, rotation=30);"
   ]
  },
  {
   "cell_type": "code",
   "execution_count": 15,
   "metadata": {
    "collapsed": true
   },
   "outputs": [],
   "source": [
    "df_stacked = df[[interest_var,\"al_scale\",\"weights\"]].dropna().copy()\n",
    "df_stacked[\"scale\"] = \"al_scale\"\n",
    "df_stacked.columns = [interest_var,\"values\",\"weights\",\"scale\"]\n",
    "\n",
    "df2_stacked = df[[interest_var,\"lr_scale\",\"weights\"]].dropna().copy()\n",
    "df2_stacked[\"scale\"] = \"lr_scale\"\n",
    "df2_stacked.columns = [interest_var,\"values\",\"weights\",\"scale\"]\n",
    "\n",
    "normalise = False\n",
    "if normalise:\n",
    "    scaler = StandardScaler()\n",
    "    df_stacked[\"values\"] = scaler.fit_transform(df_stacked[\"values\"].values.reshape(-1,1)).reshape(1,-1)[0]\n",
    "    df2_stacked[\"values\"] = scaler.fit_transform(df2_stacked[\"values\"].values.reshape(-1,1)).reshape(1,-1)[0]\n",
    "    \n",
    "df3 = df_stacked.append(df2_stacked)"
   ]
  },
  {
   "cell_type": "code",
   "execution_count": 16,
   "metadata": {},
   "outputs": [
    {
     "data": {
      "image/png": "[encoded data removed]",
      "text/plain": [
       "<matplotlib.figure.Figure at 0xc121cf8>"
      ]
     },
     "metadata": {},
     "output_type": "display_data"
    }
   ],
   "source": [
    "\n",
    "g = sns.barplot(x=interest_var, y=\"values\", hue = \"scale\", data=df3, palette=\"Greens_d\", order=order);\n",
    "g.set_xticklabels(labels = order, rotation=30);"
   ]
  },
  {
   "cell_type": "code",
   "execution_count": 30,
   "metadata": {
    "collapsed": true
   },
   "outputs": [],
   "source": [
    "# from gaussian_kde import gaussian_kde\n",
    "# import matplotlib as mpl\n",
    "\n",
    "\n",
    "# def fit_kde(self, x, bw):\n",
    "#     \"\"\"Estimate a KDE for a vector of data with flexible bandwidth.\"\"\"\n",
    "#     # Allow for the use of old scipy where `bw` is fixed\n",
    "#     #raise ValueError('A very specific bad thing happened')\n",
    "#   #  self.weights = None\n",
    "# #CHANGED: ADD **kwargs and this if if clause\n",
    "\n",
    "# #     self.weights = None\n",
    "#     if self.weights is not None:\n",
    "# #         print(x.shape[0], self.weights[x.shape[0]])\n",
    "#         # use Tilla Hoffman's weighted gaussian kde\n",
    "#         kde = gaussian_kde(x, bw, weights=self.weights[x.shape[0]])\n",
    "#     else:\n",
    "# #         raise ValueError('A very specific bad thing happened')\n",
    "#         try:\n",
    "#             kde = stats.gaussian_kde(x, bw)\n",
    "#         except TypeError:\n",
    "#             kde = stats.gaussian_kde(x)\n",
    "#             if bw != \"scott\":  # scipy default\n",
    "#                 msg = (\"Ignoring bandwidth choice, \"\n",
    "#                        \"please upgrade scipy to use a different bandwidth.\")\n",
    "#                 warnings.warn(msg, UserWarning)\n",
    "\n",
    "#     # Extract the numeric bandwidth from the KDE object\n",
    "#     bw_used = kde.factor\n",
    "\n",
    "#     # At this point, bw will be a numeric scale factor.\n",
    "#     # To get the actual bandwidth of the kernel, we multiple by the\n",
    "#     # unbiased standard deviation of the data, which we will use\n",
    "#     # elsewhere to compute the range of the support.\n",
    "#     bw_used = bw_used * x.std(ddof=1)\n",
    "\n",
    "#     return kde, bw_used\n",
    "    \n",
    "# sns.categorical._ViolinPlotter.fit_kde = fit_kde\n",
    "# #################################################\n",
    "\n",
    "# def __init__(self, x, y, hue, data, order, hue_order,\n",
    "#              bw, cut, scale, scale_hue, gridsize,\n",
    "#              width, inner, split, orient, linewidth,\n",
    "#              color, palette, saturation, **kwargs):\n",
    "\n",
    "#   #  raise ValueError('A very specific bad thing happened')\n",
    "#     if \"weights\" in kwargs.keys():\n",
    "#         self.weights = kwargs[\"weights\"]\n",
    "# #         raise ValueError('A very specific bad thing happened')\n",
    "#     else:\n",
    "#         self.weights = None    \n",
    "    \n",
    "#     self.establish_variables(x, y, hue, data, orient, order, hue_order)\n",
    "#     self.establish_colors(color, palette, saturation)\n",
    "#     self.estimate_densities(bw, cut, scale, scale_hue, gridsize)\n",
    "\n",
    "#     self.gridsize = gridsize\n",
    "#     self.width = width\n",
    "\n",
    "#     if inner is not None:\n",
    "#         if not any([inner.startswith(\"quart\"),\n",
    "#                     inner.startswith(\"box\"),\n",
    "#                     inner.startswith(\"stick\"),\n",
    "#                     inner.startswith(\"point\")]):\n",
    "#             err = \"Inner style '{}' not recognized\".format(inner)\n",
    "#             raise ValueError(err)\n",
    "#     self.inner = inner\n",
    "\n",
    "#     if split and self.hue_names is not None and len(self.hue_names) != 2:\n",
    "#         raise ValueError(\"Cannot use `split` with more than 2 hue levels.\")\n",
    "#     self.split = split\n",
    "\n",
    "#     if linewidth is None:\n",
    "#         linewidth = mpl.rcParams[\"lines.linewidth\"]\n",
    "#     self.linewidth = linewidth\n",
    "    \n",
    "    \n",
    "# sns.categorical._ViolinPlotter.__init__ = __init__\n",
    "\n",
    "\n",
    "# ############################################################\n",
    "\n",
    "\n",
    "# def violinplot(x=None, y=None, hue=None, data=None, order=None, hue_order=None,\n",
    "#                bw=\"scott\", cut=2, scale=\"area\", scale_hue=True, gridsize=100,\n",
    "#                width=.8, inner=\"box\", split=False, orient=None, linewidth=None,\n",
    "#                color=None, palette=None, saturation=.75, ax=None, **kwargs):\n",
    "\n",
    "#     kw_string = ', '.join(['{}={!r}'.format(k, v) for k, v in kwargs.items()])    \n",
    "    \n",
    "#  #   raise ValueError(\"dfdfdf\", kw_string)\n",
    "# #     raise ValueError('A very specific bad thing happened')\n",
    "    \n",
    "#     # Try to handle broken backwards-compatability\n",
    "#     # This should help with the lack of a smooth deprecation,\n",
    "#     # but won't catch everything\n",
    "#     warn = False\n",
    "#     if isinstance(x, pd.DataFrame):\n",
    "#         data = x\n",
    "#         x = None\n",
    "#         warn = True\n",
    "\n",
    "#     if \"vals\" in kwargs:\n",
    "#         x = kwargs.pop(\"vals\")\n",
    "#         warn = True\n",
    "\n",
    "#     if \"groupby\" in kwargs:\n",
    "#         y = x\n",
    "#         x = kwargs.pop(\"groupby\")\n",
    "#         warn = True\n",
    "\n",
    "#     if \"vert\" in kwargs:\n",
    "#         vert = kwargs.pop(\"vert\", True)\n",
    "#         if not vert:\n",
    "#             x, y = y, x\n",
    "#         orient = \"v\" if vert else \"h\"\n",
    "#         warn = True\n",
    "\n",
    "#     msg = (\"The violinplot API has been changed. Attempting to adjust your \"\n",
    "#            \"arguments for the new API (which might not work). Please update \"\n",
    "#            \"your code. See the version 0.6 release notes for more info.\")\n",
    "#     if warn:\n",
    "#         warnings.warn(msg, UserWarning)\n",
    "#     # CHANGE: ADD ,**kwargs\n",
    "#     plotter = sns.categorical._ViolinPlotter(x, y, hue, data, order, hue_order,\n",
    "#                              bw, cut, scale, scale_hue, gridsize,\n",
    "#                              width, inner, split, orient, linewidth,\n",
    "#                              color, palette, saturation, **kwargs)\n",
    "\n",
    "#     if ax is None:\n",
    "#         ax = plt.gca()\n",
    "\n",
    "#     plotter.plot(ax)\n",
    "#     return ax\n",
    "\n",
    "# sns.categorical.violinplot = violinplot\n",
    "\n"
   ]
  },
  {
   "cell_type": "code",
   "execution_count": 36,
   "metadata": {
    "collapsed": true
   },
   "outputs": [],
   "source": [
    "weights = {}\n",
    "for scale in df3[\"scale\"].unique():\n",
    "    for voting_path in df3[interest_var].unique():\n",
    "        wgts = df3[ (df3[\"scale\"]==scale) & (df3[interest_var]==voting_path) ][\"weights\"].values\n",
    "        wgts_len = wgts.shape[0]\n",
    "        \n",
    "        if np.isnan(wgts).any():\n",
    "            raise ValueError(\"nan in the weights!\")\n",
    "        \n",
    "        if wgts_len not in weights.keys():\n",
    "            weights[wgts_len] = wgts\n",
    "        else:\n",
    "            raise ValueError(\"This hack only works if the size of each group is different!\")\n",
    "            \n",
    "            # non-lazy way of doing same thing - create a hash!\n",
    "            "
   ]
  },
  {
   "cell_type": "code",
   "execution_count": 37,
   "metadata": {},
   "outputs": [
    {
     "data": {
      "text/plain": [
       "19042"
      ]
     },
     "execution_count": 37,
     "metadata": {},
     "output_type": "execute_result"
    }
   ],
   "source": [
    "gc.collect()"
   ]
  },
  {
   "cell_type": "code",
   "execution_count": 40,
   "metadata": {},
   "outputs": [
    {
     "ename": "TypeError",
     "evalue": "__init__() takes 20 positional arguments but 21 were given",
     "output_type": "error",
     "traceback": [
      "\u001b[1;31m---------------------------------------------------------------------------\u001b[0m",
      "\u001b[1;31mTypeError\u001b[0m                                 Traceback (most recent call last)",
      "\u001b[1;32m<ipython-input-40-992c13f35e53>\u001b[0m in \u001b[0;36m<module>\u001b[1;34m()\u001b[0m\n\u001b[0;32m     11\u001b[0m g = sns.violinplot(x=interest_var, y=\"values\", hue = \"scale\", data=df3,\n\u001b[0;32m     12\u001b[0m                    \u001b[0mpalette\u001b[0m\u001b[1;33m=\u001b[0m\u001b[1;34m\"Greens_d\"\u001b[0m\u001b[1;33m,\u001b[0m \u001b[0msplit\u001b[0m\u001b[1;33m=\u001b[0m\u001b[1;32mTrue\u001b[0m\u001b[1;33m,\u001b[0m  \u001b[0minner\u001b[0m\u001b[1;33m=\u001b[0m\u001b[1;32mNone\u001b[0m\u001b[1;33m,\u001b[0m \u001b[0morder\u001b[0m\u001b[1;33m=\u001b[0m\u001b[0morder\u001b[0m\u001b[1;33m,\u001b[0m\u001b[1;33m\u001b[0m\u001b[0m\n\u001b[1;32m---> 13\u001b[1;33m                    ax=ax, **kwargs);\n\u001b[0m\u001b[0;32m     14\u001b[0m \u001b[1;31m#                    weights=weights, ax=ax, **kwargs);\u001b[0m\u001b[1;33m\u001b[0m\u001b[1;33m\u001b[0m\u001b[0m\n\u001b[0;32m     15\u001b[0m \u001b[0mg\u001b[0m\u001b[1;33m.\u001b[0m\u001b[0mset_xticklabels\u001b[0m\u001b[1;33m(\u001b[0m\u001b[0mlabels\u001b[0m \u001b[1;33m=\u001b[0m \u001b[0morder\u001b[0m\u001b[1;33m,\u001b[0m \u001b[0mrotation\u001b[0m\u001b[1;33m=\u001b[0m\u001b[1;36m10\u001b[0m\u001b[1;33m)\u001b[0m\u001b[1;33m;\u001b[0m\u001b[1;33m\u001b[0m\u001b[0m\n",
      "\u001b[1;32m~\\AppData\\Local\\conda\\conda\\envs\\BES_analysis\\lib\\site-packages\\seaborn\\categorical.py\u001b[0m in \u001b[0;36mviolinplot\u001b[1;34m(x, y, hue, data, order, hue_order, bw, cut, scale, scale_hue, gridsize, width, inner, split, dodge, orient, linewidth, color, palette, saturation, ax, **kwargs)\u001b[0m\n\u001b[0;32m   2343\u001b[0m                              \u001b[0mbw\u001b[0m\u001b[1;33m,\u001b[0m \u001b[0mcut\u001b[0m\u001b[1;33m,\u001b[0m \u001b[0mscale\u001b[0m\u001b[1;33m,\u001b[0m \u001b[0mscale_hue\u001b[0m\u001b[1;33m,\u001b[0m \u001b[0mgridsize\u001b[0m\u001b[1;33m,\u001b[0m\u001b[1;33m\u001b[0m\u001b[0m\n\u001b[0;32m   2344\u001b[0m                              \u001b[0mwidth\u001b[0m\u001b[1;33m,\u001b[0m \u001b[0minner\u001b[0m\u001b[1;33m,\u001b[0m \u001b[0msplit\u001b[0m\u001b[1;33m,\u001b[0m \u001b[0mdodge\u001b[0m\u001b[1;33m,\u001b[0m \u001b[0morient\u001b[0m\u001b[1;33m,\u001b[0m \u001b[0mlinewidth\u001b[0m\u001b[1;33m,\u001b[0m\u001b[1;33m\u001b[0m\u001b[0m\n\u001b[1;32m-> 2345\u001b[1;33m                              color, palette, saturation)\n\u001b[0m\u001b[0;32m   2346\u001b[0m \u001b[1;33m\u001b[0m\u001b[0m\n\u001b[0;32m   2347\u001b[0m     \u001b[1;32mif\u001b[0m \u001b[0max\u001b[0m \u001b[1;32mis\u001b[0m \u001b[1;32mNone\u001b[0m\u001b[1;33m:\u001b[0m\u001b[1;33m\u001b[0m\u001b[0m\n",
      "\u001b[1;31mTypeError\u001b[0m: __init__() takes 20 positional arguments but 21 were given"
     ]
    },
    {
     "data": {
      "image/png": "[encoded data removed]",
      "text/plain": [
       "<matplotlib.figure.Figure at 0xc0cd2e8>"
      ]
     },
     "metadata": {},
     "output_type": "display_data"
    }
   ],
   "source": [
    "graph_name = 'SocialGrade_by_values_weighted'\n",
    "\n",
    "fig, ax = plt.subplots(figsize=(9,5))\n",
    "#cut=0,\n",
    "if normalise:\n",
    "    kwargs = {}\n",
    "    graph_name = graph_name + '_normalised'\n",
    "else:\n",
    "    kwargs = {\"cut\":0}\n",
    "df3 = df_stacked.append(df2_stacked)\n",
    "g = sns.violinplot(x=interest_var, y=\"values\", hue = \"scale\", data=df3,\n",
    "                   palette=\"Greens_d\", split=True,  inner=None, order=order, \n",
    "                   ax=ax, **kwargs);\n",
    "#                    weights=weights, ax=ax, **kwargs);\n",
    "g.set_xticklabels(labels = order, rotation=10);\n",
    "\n",
    "fig.savefig(BES_data_folder+graph_name+'.png')"
   ]
  },
  {
   "cell_type": "code",
   "execution_count": 26,
   "metadata": {},
   "outputs": [
    {
     "ename": "TypeError",
     "evalue": "__init__() takes 20 positional arguments but 21 were given",
     "output_type": "error",
     "traceback": [
      "\u001b[1;31m---------------------------------------------------------------------------\u001b[0m",
      "\u001b[1;31mTypeError\u001b[0m                                 Traceback (most recent call last)",
      "\u001b[1;32m<ipython-input-26-47a0a30326b3>\u001b[0m in \u001b[0;36m<module>\u001b[1;34m()\u001b[0m\n\u001b[0;32m     12\u001b[0m g = sns.violinplot(x=interest_var, y=\"values\", hue = \"scale\", data=df3,\n\u001b[0;32m     13\u001b[0m                    \u001b[0mpalette\u001b[0m\u001b[1;33m=\u001b[0m\u001b[1;34m\"Greens_d\"\u001b[0m\u001b[1;33m,\u001b[0m  \u001b[0morder\u001b[0m\u001b[1;33m=\u001b[0m\u001b[0morder\u001b[0m\u001b[1;33m,\u001b[0m\u001b[1;33m\u001b[0m\u001b[0m\n\u001b[1;32m---> 14\u001b[1;33m                     ax=ax, **kwargs);\n\u001b[0m\u001b[0;32m     15\u001b[0m \u001b[0mg\u001b[0m\u001b[1;33m.\u001b[0m\u001b[0mset_xticklabels\u001b[0m\u001b[1;33m(\u001b[0m\u001b[0mlabels\u001b[0m \u001b[1;33m=\u001b[0m \u001b[0morder\u001b[0m\u001b[1;33m,\u001b[0m \u001b[0mrotation\u001b[0m\u001b[1;33m=\u001b[0m\u001b[1;36m10\u001b[0m\u001b[1;33m)\u001b[0m\u001b[1;33m;\u001b[0m\u001b[1;33m\u001b[0m\u001b[0m\n",
      "\u001b[1;32m~\\AppData\\Local\\conda\\conda\\envs\\BES_analysis\\lib\\site-packages\\seaborn\\categorical.py\u001b[0m in \u001b[0;36mviolinplot\u001b[1;34m(x, y, hue, data, order, hue_order, bw, cut, scale, scale_hue, gridsize, width, inner, split, dodge, orient, linewidth, color, palette, saturation, ax, **kwargs)\u001b[0m\n\u001b[0;32m   2343\u001b[0m                              \u001b[0mbw\u001b[0m\u001b[1;33m,\u001b[0m \u001b[0mcut\u001b[0m\u001b[1;33m,\u001b[0m \u001b[0mscale\u001b[0m\u001b[1;33m,\u001b[0m \u001b[0mscale_hue\u001b[0m\u001b[1;33m,\u001b[0m \u001b[0mgridsize\u001b[0m\u001b[1;33m,\u001b[0m\u001b[1;33m\u001b[0m\u001b[0m\n\u001b[0;32m   2344\u001b[0m                              \u001b[0mwidth\u001b[0m\u001b[1;33m,\u001b[0m \u001b[0minner\u001b[0m\u001b[1;33m,\u001b[0m \u001b[0msplit\u001b[0m\u001b[1;33m,\u001b[0m \u001b[0mdodge\u001b[0m\u001b[1;33m,\u001b[0m \u001b[0morient\u001b[0m\u001b[1;33m,\u001b[0m \u001b[0mlinewidth\u001b[0m\u001b[1;33m,\u001b[0m\u001b[1;33m\u001b[0m\u001b[0m\n\u001b[1;32m-> 2345\u001b[1;33m                              color, palette, saturation)\n\u001b[0m\u001b[0;32m   2346\u001b[0m \u001b[1;33m\u001b[0m\u001b[0m\n\u001b[0;32m   2347\u001b[0m     \u001b[1;32mif\u001b[0m \u001b[0max\u001b[0m \u001b[1;32mis\u001b[0m \u001b[1;32mNone\u001b[0m\u001b[1;33m:\u001b[0m\u001b[1;33m\u001b[0m\u001b[0m\n",
      "\u001b[1;31mTypeError\u001b[0m: __init__() takes 20 positional arguments but 21 were given"
     ]
    },
    {
     "data": {
      "image/png": "[encoded data removed]",
      "text/plain": [
       "<matplotlib.figure.Figure at 0xccd9d68>"
      ]
     },
     "metadata": {},
     "output_type": "display_data"
    }
   ],
   "source": [
    "import seaborn as sns\n",
    "graph_name = 'SocialGrade_by_values_not_weighted'\n",
    "\n",
    "fig, ax = plt.subplots(figsize=(9,5))\n",
    "#cut=0,\n",
    "if normalise:\n",
    "    kwargs = {}\n",
    "    graph_name = graph_name + '_normalised'\n",
    "else:\n",
    "    kwargs = {\"cut\":0}\n",
    "df3 = df_stacked.append(df2_stacked)\n",
    "g = sns.violinplot(x=interest_var, y=\"values\", hue = \"scale\", data=df3,\n",
    "                   palette=\"Greens_d\",  order=order, \n",
    "                    ax=ax, **kwargs);\n",
    "g.set_xticklabels(labels = order, rotation=10);\n"
   ]
  },
  {
   "cell_type": "code",
   "execution_count": 27,
   "metadata": {},
   "outputs": [
    {
     "ename": "AttributeError",
     "evalue": "'DataFrame' object has no attribute 'cat'",
     "output_type": "error",
     "traceback": [
      "\u001b[1;31m---------------------------------------------------------------------------\u001b[0m",
      "\u001b[1;31mAttributeError\u001b[0m                            Traceback (most recent call last)",
      "\u001b[1;32m<ipython-input-27-ebe504b950da>\u001b[0m in \u001b[0;36m<module>\u001b[1;34m()\u001b[0m\n\u001b[0;32m      1\u001b[0m \u001b[1;33m\u001b[0m\u001b[0m\n\u001b[1;32m----> 2\u001b[1;33m \u001b[0mg\u001b[0m \u001b[1;33m=\u001b[0m \u001b[0msns\u001b[0m\u001b[1;33m.\u001b[0m\u001b[0mbarplot\u001b[0m\u001b[1;33m(\u001b[0m\u001b[0mx\u001b[0m\u001b[1;33m=\u001b[0m\u001b[0minterest_var\u001b[0m\u001b[1;33m,\u001b[0m \u001b[0my\u001b[0m\u001b[1;33m=\u001b[0m\u001b[0mBES_Panel\u001b[0m\u001b[1;33m.\u001b[0m\u001b[0mcat\u001b[0m\u001b[1;33m.\u001b[0m\u001b[0mcodes\u001b[0m\u001b[1;33m,\u001b[0m \u001b[0mdata\u001b[0m\u001b[1;33m=\u001b[0m\u001b[0mBES_Panel\u001b[0m\u001b[1;33m,\u001b[0m \u001b[0mpalette\u001b[0m\u001b[1;33m=\u001b[0m\u001b[1;34m\"Greens_d\"\u001b[0m\u001b[1;33m)\u001b[0m\u001b[1;33m;\u001b[0m\u001b[1;33m\u001b[0m\u001b[0m\n\u001b[0m\u001b[0;32m      3\u001b[0m \u001b[0mg\u001b[0m\u001b[1;33m.\u001b[0m\u001b[0mset_xticklabels\u001b[0m\u001b[1;33m(\u001b[0m\u001b[0mlabels\u001b[0m \u001b[1;33m=\u001b[0m \u001b[0morder\u001b[0m\u001b[1;33m,\u001b[0m \u001b[0mrotation\u001b[0m\u001b[1;33m=\u001b[0m\u001b[1;36m30\u001b[0m\u001b[1;33m)\u001b[0m\u001b[1;33m;\u001b[0m\u001b[1;33m\u001b[0m\u001b[0m\n",
      "\u001b[1;32m~\\AppData\\Local\\conda\\conda\\envs\\BES_analysis\\lib\\site-packages\\pandas\\core\\generic.py\u001b[0m in \u001b[0;36m__getattr__\u001b[1;34m(self, name)\u001b[0m\n\u001b[0;32m   3079\u001b[0m             \u001b[1;32mif\u001b[0m \u001b[0mname\u001b[0m \u001b[1;32min\u001b[0m \u001b[0mself\u001b[0m\u001b[1;33m.\u001b[0m\u001b[0m_info_axis\u001b[0m\u001b[1;33m:\u001b[0m\u001b[1;33m\u001b[0m\u001b[0m\n\u001b[0;32m   3080\u001b[0m                 \u001b[1;32mreturn\u001b[0m \u001b[0mself\u001b[0m\u001b[1;33m[\u001b[0m\u001b[0mname\u001b[0m\u001b[1;33m]\u001b[0m\u001b[1;33m\u001b[0m\u001b[0m\n\u001b[1;32m-> 3081\u001b[1;33m             \u001b[1;32mreturn\u001b[0m \u001b[0mobject\u001b[0m\u001b[1;33m.\u001b[0m\u001b[0m__getattribute__\u001b[0m\u001b[1;33m(\u001b[0m\u001b[0mself\u001b[0m\u001b[1;33m,\u001b[0m \u001b[0mname\u001b[0m\u001b[1;33m)\u001b[0m\u001b[1;33m\u001b[0m\u001b[0m\n\u001b[0m\u001b[0;32m   3082\u001b[0m \u001b[1;33m\u001b[0m\u001b[0m\n\u001b[0;32m   3083\u001b[0m     \u001b[1;32mdef\u001b[0m \u001b[0m__setattr__\u001b[0m\u001b[1;33m(\u001b[0m\u001b[0mself\u001b[0m\u001b[1;33m,\u001b[0m \u001b[0mname\u001b[0m\u001b[1;33m,\u001b[0m \u001b[0mvalue\u001b[0m\u001b[1;33m)\u001b[0m\u001b[1;33m:\u001b[0m\u001b[1;33m\u001b[0m\u001b[0m\n",
      "\u001b[1;31mAttributeError\u001b[0m: 'DataFrame' object has no attribute 'cat'"
     ]
    }
   ],
   "source": [
    "\n",
    "g = sns.barplot(x=interest_var, y=BES_Panel.cat.codes, data=BES_Panel, palette=\"Greens_d\");\n",
    "g.set_xticklabels(labels = order, rotation=30);"
   ]
  },
  {
   "cell_type": "code",
   "execution_count": null,
   "metadata": {
    "collapsed": true
   },
   "outputs": [],
   "source": [
    "def cat2num(x):\n",
    "    return BES_Panel[x].cat.codes.replace(-1, np.nan)\n"
   ]
  },
  {
   "cell_type": "code",
   "execution_count": null,
   "metadata": {
    "collapsed": true
   },
   "outputs": [],
   "source": [
    "cat2num(\"lr1\")"
   ]
  },
  {
   "cell_type": "code",
   "execution_count": null,
   "metadata": {
    "collapsed": true
   },
   "outputs": [],
   "source": [
    "BES_Panel[\"lr1\"].cat.codes.value_counts()"
   ]
  },
  {
   "cell_type": "code",
   "execution_count": null,
   "metadata": {
    "collapsed": true
   },
   "outputs": [],
   "source": []
  }
 ],
 "metadata": {
  "anaconda-cloud": {},
  "kernelspec": {
   "display_name": "Python [conda env:BES_analysis] *",
   "language": "python",
   "name": "conda-env-BES_analysis-py"
  },
  "language_info": {
   "codemirror_mode": {
    "name": "ipython",
    "version": 3
   },
   "file_extension": ".py",
   "mimetype": "text/x-python",
   "name": "python",
   "nbconvert_exporter": "python",
   "pygments_lexer": "ipython3",
   "version": "3.7.6"
  }
 },
 "nbformat": 4,
 "nbformat_minor": 1
}
