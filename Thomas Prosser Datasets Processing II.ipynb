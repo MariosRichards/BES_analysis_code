{
 "cells": [
  {
   "cell_type": "code",
   "execution_count": null,
   "metadata": {},
   "outputs": [],
   "source": []
  },
  {
   "cell_type": "code",
   "execution_count": 41,
   "metadata": {},
   "outputs": [
    {
     "data": {
      "text/html": [
       "<script>jQuery(function() {if (jQuery(\"body.notebook_app\").length == 0) { jQuery(\".input_area\").toggle(); jQuery(\".prompt\").toggle();}});</script>"
      ]
     },
     "metadata": {},
     "output_type": "display_data"
    },
    {
     "data": {
      "text/html": [
       "<button onclick=\"jQuery('.input_area').toggle(); jQuery('.prompt').toggle();\">Toggle code</button>"
      ]
     },
     "metadata": {},
     "output_type": "display_data"
    }
   ],
   "source": [
    "import IPython.core.display as di # Example: di.display_html('<h3>%s:</h3>' % str, raw=True)\n",
    "# This line will hide code by default when the notebook is exported as HTML\n",
    "di.display_html('<script>jQuery(function() {if (jQuery(\"body.notebook_app\").length == 0) { jQuery(\".input_area\").toggle(); jQuery(\".prompt\").toggle();}});</script>', raw=True)\n",
    "# This line will add a button to toggle visibility of code blocks, for use with the HTML export version\n",
    "di.display_html('''<button onclick=\"jQuery('.input_area').toggle(); jQuery('.prompt').toggle();\">Toggle code</button>''', raw=True)\n",
    "\n",
    "import numpy as np, pandas as pd, matplotlib.pyplot as plt, seaborn as sns\n",
    "import pickle, os, gc, re, sys\n",
    "\n",
    "sns.set();\n",
    "sns.set_palette(\"colorblind\")\n",
    "\n",
    "from IPython.display import display, display_html, HTML\n",
    "from IPython.core.debugger import set_trace\n",
    "# plt.rcParams[\"axes.grid\"] = False\n",
    "\n",
    "import Jupyter_module_loader\n",
    "# sys.path.insert(1, '/path/to/application/app/folder')\n",
    "from utility import *\n",
    "# import gaussian_kde\n",
    "\n",
    "# import warnings\n",
    "# warnings.filterwarnings('ignore')\n",
    "\n",
    "import holoviews as hv\n",
    "from holoviews import opts\n",
    "\n",
    "encoding = \"ISO-8859-1\"\n",
    "\n",
    "# you should clone this git to a subdirectory called 'BES_analysis_code' (in some directory - I call it BES_analysis - doesn't matter though)\n",
    "# %matplotlib inline\n",
    "\n"
   ]
  },
  {
   "cell_type": "code",
   "execution_count": 42,
   "metadata": {},
   "outputs": [],
   "source": [
    "dataset_folder = \"C:\\\\Users\\\\Marios\\\\Documents\\\\GitHub\\\\Thomas Prosser project\\\\datasets\\\\\"\n",
    "output_folder = \"C:\\\\Users\\\\Marios\\\\Documents\\\\GitHub\\\\Thomas Prosser project\\\\output\\\\\""
   ]
  },
  {
   "cell_type": "code",
   "execution_count": 43,
   "metadata": {},
   "outputs": [],
   "source": [
    "df_corrs_ni_nm = pd.read_pickle(dataset_folder+\"Party Level\"+os.sep+ \"df_corrs_ni_nm.zip\",compression='zip')\n",
    "df = pd.read_pickle(dataset_folder+\"Party Level\"+os.sep+ \"df.zip\",compression='zip')\n",
    "df_merged = pd.read_pickle(dataset_folder+\"Party Level\"+os.sep+ \"df_merged.zip\",compression='zip')"
   ]
  },
  {
   "cell_type": "code",
   "execution_count": null,
   "metadata": {},
   "outputs": [],
   "source": []
  },
  {
   "cell_type": "code",
   "execution_count": 44,
   "metadata": {},
   "outputs": [],
   "source": [
    "pvds_elections = pd.read_stata(dataset_folder + \"pvds_elections.dta\")\n",
    "# pvds_elections\n",
    "\n",
    "# selfrile_pol not in handbook ... but appears to be just \"max-min\"\n",
    "\n",
    "pvds_parties = pd.read_stata(dataset_folder + \"pvds_parties.dta\", columns = ['country', 'edate', 'marpor_year', 'rile', 'selfrile_min',\n",
    "       'selfrile_max', 'selfrile_med', 'selfrile_pol', 'N_voter'])\n",
    "\n",
    "pvds_parties[\"party\"] = pd.read_stata(dataset_folder + \"pvds_parties.dta\",\n",
    "                                      convert_categoricals=False, columns = ['party'])[\"party\"]\n",
    "                             \n",
    "pvds_parties = pvds_parties[['country', 'edate', 'marpor_year', 'party', 'rile', 'selfrile_min',\n",
    "       'selfrile_max', 'selfrile_med', 'selfrile_pol', 'N_voter']]\n",
    "# pvds_parties\n",
    "\n",
    "# non-unique category\n",
    "# cze: kds christian democratic party\n",
    "\n",
    "pvds_mikro = pd.read_stata(dataset_folder + \"pvds_mikro.dta\",\n",
    "                           columns=['country', 'edate', 'marpor_year', 'rile', 'dataset_id',\n",
    "       'survey_country', 'survey_year', 'fieldwork_in', 'fieldwork_out',\n",
    "       'fieldwork_diff', 'current_vote_type', 'selfrile_survey_type',\n",
    "       'selfrile', 'observation_origin', 'missing_type',\n",
    "       'survey_partypref_missing', 'party_na', 'selfrile_na', 'A1005', 'B1005',\n",
    "       'C1005', 's007', 'id'])\n",
    "\n",
    "pvds_mikro['party'] = pd.read_stata(dataset_folder + \"pvds_mikro.dta\",\n",
    "                                      convert_categoricals=False, columns = ['party'])[\"party\"]\n",
    "pvds_mikro = pvds_mikro[['country', 'edate', 'marpor_year', 'party', 'rile', 'dataset_id',\n",
    "       'survey_country', 'survey_year', 'fieldwork_in', 'fieldwork_out',\n",
    "       'fieldwork_diff', 'current_vote_type', 'selfrile_survey_type',\n",
    "       'selfrile', 'observation_origin', 'missing_type',\n",
    "       'survey_partypref_missing', 'party_na', 'selfrile_na', 'A1005', 'B1005',\n",
    "       'C1005', 's007', 'id']]\n",
    "# pvds_mikro"
   ]
  },
  {
   "cell_type": "code",
   "execution_count": 45,
   "metadata": {},
   "outputs": [
    {
     "data": {
      "text/html": [
       "<div>\n",
       "<style scoped>\n",
       "    .dataframe tbody tr th:only-of-type {\n",
       "        vertical-align: middle;\n",
       "    }\n",
       "\n",
       "    .dataframe tbody tr th {\n",
       "        vertical-align: top;\n",
       "    }\n",
       "\n",
       "    .dataframe thead th {\n",
       "        text-align: right;\n",
       "    }\n",
       "</style>\n",
       "<table border=\"1\" class=\"dataframe\">\n",
       "  <thead>\n",
       "    <tr style=\"text-align: right;\">\n",
       "      <th></th>\n",
       "      <th>B1005</th>\n",
       "      <th>C1005</th>\n",
       "      <th>s007</th>\n",
       "      <th>id</th>\n",
       "    </tr>\n",
       "  </thead>\n",
       "  <tbody>\n",
       "    <tr>\n",
       "      <th>count</th>\n",
       "      <td>1707994</td>\n",
       "      <td>1707994</td>\n",
       "      <td>335814.0</td>\n",
       "      <td>9.761760e+05</td>\n",
       "    </tr>\n",
       "    <tr>\n",
       "      <th>unique</th>\n",
       "      <td>43211</td>\n",
       "      <td>33138</td>\n",
       "      <td>109926.0</td>\n",
       "      <td>NaN</td>\n",
       "    </tr>\n",
       "    <tr>\n",
       "      <th>top</th>\n",
       "      <td></td>\n",
       "      <td></td>\n",
       "      <td>294720.0</td>\n",
       "      <td>NaN</td>\n",
       "    </tr>\n",
       "    <tr>\n",
       "      <th>freq</th>\n",
       "      <td>1541827</td>\n",
       "      <td>1574403</td>\n",
       "      <td>6.0</td>\n",
       "      <td>NaN</td>\n",
       "    </tr>\n",
       "    <tr>\n",
       "      <th>first</th>\n",
       "      <td>NaN</td>\n",
       "      <td>NaN</td>\n",
       "      <td>NaN</td>\n",
       "      <td>NaN</td>\n",
       "    </tr>\n",
       "    <tr>\n",
       "      <th>last</th>\n",
       "      <td>NaN</td>\n",
       "      <td>NaN</td>\n",
       "      <td>NaN</td>\n",
       "      <td>NaN</td>\n",
       "    </tr>\n",
       "    <tr>\n",
       "      <th>mean</th>\n",
       "      <td>NaN</td>\n",
       "      <td>NaN</td>\n",
       "      <td>NaN</td>\n",
       "      <td>4.849953e+05</td>\n",
       "    </tr>\n",
       "    <tr>\n",
       "      <th>std</th>\n",
       "      <td>NaN</td>\n",
       "      <td>NaN</td>\n",
       "      <td>NaN</td>\n",
       "      <td>3.149291e+05</td>\n",
       "    </tr>\n",
       "    <tr>\n",
       "      <th>min</th>\n",
       "      <td>NaN</td>\n",
       "      <td>NaN</td>\n",
       "      <td>NaN</td>\n",
       "      <td>1.000000e+00</td>\n",
       "    </tr>\n",
       "    <tr>\n",
       "      <th>25%</th>\n",
       "      <td>NaN</td>\n",
       "      <td>NaN</td>\n",
       "      <td>NaN</td>\n",
       "      <td>2.071738e+05</td>\n",
       "    </tr>\n",
       "    <tr>\n",
       "      <th>50%</th>\n",
       "      <td>NaN</td>\n",
       "      <td>NaN</td>\n",
       "      <td>NaN</td>\n",
       "      <td>4.459210e+05</td>\n",
       "    </tr>\n",
       "    <tr>\n",
       "      <th>75%</th>\n",
       "      <td>NaN</td>\n",
       "      <td>NaN</td>\n",
       "      <td>NaN</td>\n",
       "      <td>7.413022e+05</td>\n",
       "    </tr>\n",
       "    <tr>\n",
       "      <th>max</th>\n",
       "      <td>NaN</td>\n",
       "      <td>NaN</td>\n",
       "      <td>NaN</td>\n",
       "      <td>1.130345e+06</td>\n",
       "    </tr>\n",
       "  </tbody>\n",
       "</table>\n",
       "</div>"
      ],
      "text/plain": [
       "          B1005    C1005      s007            id\n",
       "count   1707994  1707994  335814.0  9.761760e+05\n",
       "unique    43211    33138  109926.0           NaN\n",
       "top                       294720.0           NaN\n",
       "freq    1541827  1574403       6.0           NaN\n",
       "first       NaN      NaN       NaN           NaN\n",
       "last        NaN      NaN       NaN           NaN\n",
       "mean        NaN      NaN       NaN  4.849953e+05\n",
       "std         NaN      NaN       NaN  3.149291e+05\n",
       "min         NaN      NaN       NaN  1.000000e+00\n",
       "25%         NaN      NaN       NaN  2.071738e+05\n",
       "50%         NaN      NaN       NaN  4.459210e+05\n",
       "75%         NaN      NaN       NaN  7.413022e+05\n",
       "max         NaN      NaN       NaN  1.130345e+06"
      ]
     },
     "execution_count": 45,
     "metadata": {},
     "output_type": "execute_result"
    }
   ],
   "source": [
    "pvds_mikro.describe(include='all')[pvds_mikro.columns[20:]]\n",
    "\n",
    "# rile: party rile from CMP\n",
    "# datasety_id: [11,12,13,21,31]\n",
    "# survey_country: Woah - mixes country numbers (CMP??) and ISO-3 char strings!\n",
    "# survey_year: 1970-2009 (all years, coverage not perfectly even, but not very far off)\n",
    "# fieldwork_in, fieldwork_out: fieldwork dates\n",
    "# fieldwork_diff: days relative to the marpor anchored election\n",
    "# current_vote_type: most common two categories \"lastvote\" and \"voteint\" are obvious, rest are pretty opaque\n",
    "#     survey variables we used to capture the respondents’ expressed party preference with regard to the current, next or last election, respectively\n",
    "# selfrile_survey_type: ['lrs', 'e033', 'B3045', 'C3013', 'A3031'] - opaque references specific to source!\n",
    "# selfrile: 1-9 (recoded from differing scales!), includes all DK/won't answer/wasn't asked ... options\n",
    "# observation_origin: ['survey', 'cmp+survey']\n",
    "#     a general overview from which data set the information for an observation is taken\n",
    "# missing_type: ['mapping variable is missing value (.)',\n",
    "#                'MATCH! cmp and survey entry successfully mapped',\n",
    "#                'cmp party missing']\n",
    "#     when a respondent did not name a party to which he could be matched or if this\n",
    "#     party is not included in the Manifesto Data Collection\n",
    "# survey_partypref_missing: lots of categories - all \n",
    "#     unifies the missing codes for repondents’ party vote choice as reported in\n",
    "#     the surveys\n",
    "#     whether or not in the surveys linked to the election data the\n",
    "#     questions about party preference in different vote choice questions and/or selfplacement of the respondents on the left-right scales were posed at all\n",
    "#     (party_na and selfrile_na).\n",
    "# party_na, selfrile_na both dummies\n",
    "    # To allow users to distinguish between respondents from the survey data\n",
    "    # sets as objects of the analysis with several possible observations for expressed vote\n",
    "    # choices in the Party-Voter Data Set we included the unique identifier variables for\n",
    "    # survey respondents from the original data sources (A1005, B1005, C1005, id, s007).\n",
    "# B1005,C1005,s007,id: id variables\n"
   ]
  },
  {
   "cell_type": "code",
   "execution_count": 46,
   "metadata": {},
   "outputs": [
    {
     "data": {
      "text/plain": [
       "0.0    1630110\n",
       "1.0      77884\n",
       "Name: selfrile_na, dtype: int64"
      ]
     },
     "execution_count": 46,
     "metadata": {},
     "output_type": "execute_result"
    }
   ],
   "source": [
    "pvds_mikro[\"selfrile_na\"].value_counts()\n",
    "#.value_counts().sort_index()"
   ]
  },
  {
   "cell_type": "code",
   "execution_count": null,
   "metadata": {},
   "outputs": [],
   "source": []
  },
  {
   "cell_type": "code",
   "execution_count": 47,
   "metadata": {},
   "outputs": [],
   "source": [
    "# already there as marpor_year\n",
    "\n",
    "# cmp_party_voter[\"year\"] = cmp_party_voter[\"edate\"].dt.year\n",
    "# cmp_party_voter[\"year\"].value_counts()"
   ]
  },
  {
   "cell_type": "code",
   "execution_count": 48,
   "metadata": {},
   "outputs": [],
   "source": [
    "# cmp_party_voter.describe()"
   ]
  },
  {
   "cell_type": "code",
   "execution_count": 49,
   "metadata": {},
   "outputs": [],
   "source": [
    "# cmp_party_voter[\"party_na\"].value_counts()\n",
    "# cmp_party_voter[\"fieldwork_diff\"].value_counts()"
   ]
  },
  {
   "cell_type": "code",
   "execution_count": 50,
   "metadata": {},
   "outputs": [
    {
     "data": {
      "text/plain": [
       "5    208666\n",
       "3     68953\n",
       "6     66359\n",
       "4     65891\n",
       "7     59841\n",
       "9     27178\n",
       "2     21980\n",
       "8     21909\n",
       "1     20566\n",
       "Name: selfrile, dtype: int64"
      ]
     },
     "execution_count": 50,
     "metadata": {},
     "output_type": "execute_result"
    }
   ],
   "source": [
    "# just the rows for which we know party pref\n",
    "# \n",
    "pvds_mikro[\"party\"] = pvds_mikro[\"party\"].replace(-99,np.nan)\n",
    "cmp_party_voter = pvds_mikro[pvds_mikro[\"party\"].notnull()].copy()\n",
    "\n",
    "\n",
    "\n",
    "non_answers = [\"don't know\", 'refused to answer', 'question not asked in survey',\n",
    "                  'missing / no answer', 'no understanding of left-right']\n",
    "\n",
    "replace_dict = dict(zip(non_answers,[np.nan]*len(non_answers)))\n",
    "\n",
    "cmp_party_voter['selfrile'] = cmp_party_voter['selfrile'].replace(replace_dict)#.astype(int)\n",
    "\n",
    "cmp_party_voter = cmp_party_voter[cmp_party_voter['selfrile'].notnull()].copy()\n",
    "\n",
    "cmp_party_voter['selfrile'] = cmp_party_voter['selfrile'].astype(int)\n",
    "\n",
    "cmp_party_voter['selfrile'].value_counts()"
   ]
  },
  {
   "cell_type": "code",
   "execution_count": null,
   "metadata": {},
   "outputs": [],
   "source": []
  },
  {
   "cell_type": "code",
   "execution_count": 51,
   "metadata": {},
   "outputs": [],
   "source": [
    "cmp_party_voter = cmp_party_voter[[\"survey_year\",\"party\",\"selfrile\"]].astype(int)"
   ]
  },
  {
   "cell_type": "code",
   "execution_count": 52,
   "metadata": {},
   "outputs": [],
   "source": [
    "partyfacts_core_parties = pd.read_csv(dataset_folder+\"PartyFacts\"+os.sep+ \"partyfacts-core-parties.csv\")\n",
    "partyfacts_external_parties = pd.read_csv(dataset_folder+\"PartyFacts\"+os.sep+ \"partyfacts-external-parties.csv\")\n",
    "partyfacts_countries = pd.read_csv(dataset_folder+\"PartyFacts\"+os.sep+ \"partyfacts-countries.csv\")\n",
    "partyfacts_datasets = pd.read_csv(dataset_folder+\"PartyFacts\"+os.sep+ \"partyfacts-datasets.csv\")\n",
    "\n",
    "pf_country_to_code = partyfacts_countries[[\"country\",\"name\"]].set_index(\"name\")[\"country\"].apply(lambda x: x.lower())"
   ]
  },
  {
   "cell_type": "code",
   "execution_count": 53,
   "metadata": {},
   "outputs": [],
   "source": [
    "cmp_ids_to_pf = partyfacts_external_parties[partyfacts_external_parties[\"dataset_key\"]==\"manifesto\"].set_index(\"dataset_party_id\")[\"partyfacts_id\"]\n",
    "cmp_ids_to_pf.index = [int(x) for x in cmp_ids_to_pf.index]\n"
   ]
  },
  {
   "cell_type": "code",
   "execution_count": 54,
   "metadata": {},
   "outputs": [],
   "source": [
    "# [x for x in cmp_party_voter[\"party\"].unique() if x not in cmp_ids_to_pf.index]"
   ]
  },
  {
   "cell_type": "code",
   "execution_count": 55,
   "metadata": {},
   "outputs": [],
   "source": [
    "# cmp_party_voter_parties = pvds_parties.set_index(\"party\")\n",
    "# cmp_party_voter_parties.index = [int(x) for x in cmp_party_voter_parties.index]"
   ]
  },
  {
   "cell_type": "code",
   "execution_count": 56,
   "metadata": {},
   "outputs": [],
   "source": [
    "# cmp_party_voter_parties.loc[[21051, 21092, 21031, 53051, 51041, 31061]]\n",
    "\n",
    "# confusingly, theses do not appear in partyfacts or the cmp codebook - or even their previous versions!"
   ]
  },
  {
   "cell_type": "code",
   "execution_count": 57,
   "metadata": {},
   "outputs": [],
   "source": [
    "parties_not_in_cmp = [21051, 21092, 21031, 53051, 51041, 31061]\n",
    "\n",
    "cmp_party_voter = cmp_party_voter[cmp_party_voter[\"party\"].apply(lambda x: x not in parties_not_in_cmp)].copy()"
   ]
  },
  {
   "cell_type": "code",
   "execution_count": 58,
   "metadata": {},
   "outputs": [
    {
     "data": {
      "text/plain": [
       "<matplotlib.axes._subplots.AxesSubplot at 0x13480888>"
      ]
     },
     "execution_count": 58,
     "metadata": {},
     "output_type": "execute_result"
    },
    {
     "data": {
      "image/png": "[encoded data removed]",
      "text/plain": [
       "<Figure size 432x288 with 1 Axes>"
      ]
     },
     "metadata": {},
     "output_type": "display_data"
    }
   ],
   "source": [
    "cmp_party_voter[\"selfrile\"].hist(bins=8)\n",
    "\n",
    "# not a terribly convincing distribution!"
   ]
  },
  {
   "cell_type": "code",
   "execution_count": 59,
   "metadata": {},
   "outputs": [],
   "source": [
    "cmp_party_voter[\"selfrile\"] = (cmp_party_voter[\"selfrile\"]-1)/8"
   ]
  },
  {
   "cell_type": "code",
   "execution_count": 60,
   "metadata": {},
   "outputs": [],
   "source": [
    "cmp_party_voter[\"partyfacts_id\"] = cmp_ids_to_pf.loc[cmp_party_voter[\"party\"]].values"
   ]
  },
  {
   "cell_type": "code",
   "execution_count": 61,
   "metadata": {},
   "outputs": [
    {
     "data": {
      "text/plain": [
       "((15956, 4), (560663, 4))"
      ]
     },
     "execution_count": 61,
     "metadata": {},
     "output_type": "execute_result"
    }
   ],
   "source": [
    "cmp_party_voter.drop_duplicates().shape,cmp_party_voter.shape,"
   ]
  },
  {
   "cell_type": "code",
   "execution_count": 62,
   "metadata": {},
   "outputs": [
    {
     "data": {
      "text/plain": [
       "560663"
      ]
     },
     "execution_count": 62,
     "metadata": {},
     "output_type": "execute_result"
    }
   ],
   "source": [
    "cmp_party_voter[\"partyfacts_id\"].apply(lambda x: x in df_merged.index).sum()"
   ]
  },
  {
   "cell_type": "code",
   "execution_count": 63,
   "metadata": {},
   "outputs": [
    {
     "data": {
      "text/plain": [
       "count    560663.000000\n",
       "mean          0.501832\n",
       "std           0.224272\n",
       "min           0.000000\n",
       "25%           0.375000\n",
       "50%           0.500000\n",
       "75%           0.625000\n",
       "max           1.000000\n",
       "Name: selfrile, dtype: float64"
      ]
     },
     "execution_count": 63,
     "metadata": {},
     "output_type": "execute_result"
    }
   ],
   "source": [
    "cmp_party_voter[\"selfrile\"].describe()"
   ]
  },
  {
   "cell_type": "code",
   "execution_count": 64,
   "metadata": {},
   "outputs": [
    {
     "data": {
      "text/plain": [
       "survey_year      0.000000\n",
       "party            0.000000\n",
       "selfrile         0.036671\n",
       "partyfacts_id    0.000000\n",
       "dtype: float64"
      ]
     },
     "execution_count": 64,
     "metadata": {},
     "output_type": "execute_result"
    }
   ],
   "source": [
    "len( cmp_party_voter[\"partyfacts_id\"].unique() )\n",
    "\n",
    "# only 387 parties - all in our dataset\n",
    "\n",
    "cmp_party_voter.groupby(\"partyfacts_id\").apply(lambda x: x==.5).mean()\n",
    "cmp_party_voter.groupby(\"partyfacts_id\").apply(lambda x: x==1).mean()\n",
    "cmp_party_voter.groupby(\"partyfacts_id\").apply(lambda x: x==0).mean()"
   ]
  },
  {
   "cell_type": "code",
   "execution_count": 65,
   "metadata": {},
   "outputs": [],
   "source": [
    "selfrile_count = cmp_party_voter.groupby(\"partyfacts_id\").count()[\"selfrile\"]\n",
    "selfrile_mean = cmp_party_voter.groupby(\"partyfacts_id\").mean()[\"selfrile\"]\n",
    "selfrile_median = cmp_party_voter.groupby(\"partyfacts_id\").median()[\"selfrile\"]\n",
    "selfrile_std = cmp_party_voter.groupby(\"partyfacts_id\").std()[\"selfrile\"]\n",
    "selfrile_skew = cmp_party_voter.groupby(\"partyfacts_id\").skew()[\"selfrile\"]\n",
    "selfrile_kurtosis = cmp_party_voter.groupby(\"partyfacts_id\").apply(pd.Series.kurt)[\"selfrile\"]\n",
    "\n",
    "selfrile_centre_frac = cmp_party_voter.groupby(\"partyfacts_id\").apply(lambda x: np.mean(x==.5))[\"selfrile\"]\n",
    "selfrile_farleft_frac = cmp_party_voter.groupby(\"partyfacts_id\").apply(lambda x: np.mean(x==0.0))[\"selfrile\"]\n",
    "selfrile_farright_frac = cmp_party_voter.groupby(\"partyfacts_id\").apply(lambda x: np.mean(x==1.0))[\"selfrile\"]\n"
   ]
  },
  {
   "cell_type": "code",
   "execution_count": 66,
   "metadata": {},
   "outputs": [
    {
     "data": {
      "text/html": [
       "<div>\n",
       "<style scoped>\n",
       "    .dataframe tbody tr th:only-of-type {\n",
       "        vertical-align: middle;\n",
       "    }\n",
       "\n",
       "    .dataframe tbody tr th {\n",
       "        vertical-align: top;\n",
       "    }\n",
       "\n",
       "    .dataframe thead th {\n",
       "        text-align: right;\n",
       "    }\n",
       "</style>\n",
       "<table border=\"1\" class=\"dataframe\">\n",
       "  <thead>\n",
       "    <tr style=\"text-align: right;\">\n",
       "      <th></th>\n",
       "      <th>N</th>\n",
       "      <th>mean</th>\n",
       "      <th>median</th>\n",
       "      <th>std</th>\n",
       "      <th>skew</th>\n",
       "      <th>kurtosis</th>\n",
       "      <th>centre_frac</th>\n",
       "      <th>farleft_frac</th>\n",
       "      <th>farright_frac</th>\n",
       "    </tr>\n",
       "    <tr>\n",
       "      <th>partyfacts_id</th>\n",
       "      <th></th>\n",
       "      <th></th>\n",
       "      <th></th>\n",
       "      <th></th>\n",
       "      <th></th>\n",
       "      <th></th>\n",
       "      <th></th>\n",
       "      <th></th>\n",
       "      <th></th>\n",
       "    </tr>\n",
       "  </thead>\n",
       "  <tbody>\n",
       "    <tr>\n",
       "      <th>3</th>\n",
       "      <td>32.0</td>\n",
       "      <td>0.460938</td>\n",
       "      <td>0.5000</td>\n",
       "      <td>0.136331</td>\n",
       "      <td>-0.118107</td>\n",
       "      <td>0.685435</td>\n",
       "      <td>0.468750</td>\n",
       "      <td>0.000000</td>\n",
       "      <td>0.000000</td>\n",
       "    </tr>\n",
       "    <tr>\n",
       "      <th>4</th>\n",
       "      <td>258.0</td>\n",
       "      <td>0.402132</td>\n",
       "      <td>0.5000</td>\n",
       "      <td>0.235969</td>\n",
       "      <td>0.341010</td>\n",
       "      <td>0.281894</td>\n",
       "      <td>0.360465</td>\n",
       "      <td>0.100775</td>\n",
       "      <td>0.042636</td>\n",
       "    </tr>\n",
       "    <tr>\n",
       "      <th>5</th>\n",
       "      <td>206.0</td>\n",
       "      <td>0.568568</td>\n",
       "      <td>0.5000</td>\n",
       "      <td>0.214742</td>\n",
       "      <td>0.222842</td>\n",
       "      <td>0.485314</td>\n",
       "      <td>0.466019</td>\n",
       "      <td>0.019417</td>\n",
       "      <td>0.097087</td>\n",
       "    </tr>\n",
       "    <tr>\n",
       "      <th>9</th>\n",
       "      <td>142.0</td>\n",
       "      <td>0.484155</td>\n",
       "      <td>0.5000</td>\n",
       "      <td>0.204590</td>\n",
       "      <td>-0.177308</td>\n",
       "      <td>0.784503</td>\n",
       "      <td>0.478873</td>\n",
       "      <td>0.049296</td>\n",
       "      <td>0.028169</td>\n",
       "    </tr>\n",
       "    <tr>\n",
       "      <th>10</th>\n",
       "      <td>622.0</td>\n",
       "      <td>0.339228</td>\n",
       "      <td>0.3750</td>\n",
       "      <td>0.164773</td>\n",
       "      <td>0.296914</td>\n",
       "      <td>0.286261</td>\n",
       "      <td>0.242765</td>\n",
       "      <td>0.040193</td>\n",
       "      <td>0.001608</td>\n",
       "    </tr>\n",
       "    <tr>\n",
       "      <th>...</th>\n",
       "      <td>...</td>\n",
       "      <td>...</td>\n",
       "      <td>...</td>\n",
       "      <td>...</td>\n",
       "      <td>...</td>\n",
       "      <td>...</td>\n",
       "      <td>...</td>\n",
       "      <td>...</td>\n",
       "      <td>...</td>\n",
       "    </tr>\n",
       "    <tr>\n",
       "      <th>6183</th>\n",
       "      <td>385.0</td>\n",
       "      <td>0.246753</td>\n",
       "      <td>0.2500</td>\n",
       "      <td>0.194293</td>\n",
       "      <td>0.591339</td>\n",
       "      <td>0.268442</td>\n",
       "      <td>0.171429</td>\n",
       "      <td>0.225974</td>\n",
       "      <td>0.005195</td>\n",
       "    </tr>\n",
       "    <tr>\n",
       "      <th>6202</th>\n",
       "      <td>108.0</td>\n",
       "      <td>0.559028</td>\n",
       "      <td>0.5000</td>\n",
       "      <td>0.183631</td>\n",
       "      <td>0.109614</td>\n",
       "      <td>1.480872</td>\n",
       "      <td>0.490741</td>\n",
       "      <td>0.018519</td>\n",
       "      <td>0.037037</td>\n",
       "    </tr>\n",
       "    <tr>\n",
       "      <th>6241</th>\n",
       "      <td>811.0</td>\n",
       "      <td>0.702990</td>\n",
       "      <td>0.7500</td>\n",
       "      <td>0.179070</td>\n",
       "      <td>0.088236</td>\n",
       "      <td>-0.787588</td>\n",
       "      <td>0.256473</td>\n",
       "      <td>0.000000</td>\n",
       "      <td>0.135635</td>\n",
       "    </tr>\n",
       "    <tr>\n",
       "      <th>6804</th>\n",
       "      <td>28.0</td>\n",
       "      <td>0.772321</td>\n",
       "      <td>0.8125</td>\n",
       "      <td>0.189583</td>\n",
       "      <td>-0.530840</td>\n",
       "      <td>-0.844047</td>\n",
       "      <td>0.178571</td>\n",
       "      <td>0.000000</td>\n",
       "      <td>0.214286</td>\n",
       "    </tr>\n",
       "    <tr>\n",
       "      <th>8268</th>\n",
       "      <td>276.0</td>\n",
       "      <td>0.552536</td>\n",
       "      <td>0.5000</td>\n",
       "      <td>0.191176</td>\n",
       "      <td>0.268733</td>\n",
       "      <td>0.687043</td>\n",
       "      <td>0.445652</td>\n",
       "      <td>0.010870</td>\n",
       "      <td>0.054348</td>\n",
       "    </tr>\n",
       "  </tbody>\n",
       "</table>\n",
       "<p>387 rows × 9 columns</p>\n",
       "</div>"
      ],
      "text/plain": [
       "                   N      mean  median       std      skew  kurtosis  \\\n",
       "partyfacts_id                                                          \n",
       "3               32.0  0.460938  0.5000  0.136331 -0.118107  0.685435   \n",
       "4              258.0  0.402132  0.5000  0.235969  0.341010  0.281894   \n",
       "5              206.0  0.568568  0.5000  0.214742  0.222842  0.485314   \n",
       "9              142.0  0.484155  0.5000  0.204590 -0.177308  0.784503   \n",
       "10             622.0  0.339228  0.3750  0.164773  0.296914  0.286261   \n",
       "...              ...       ...     ...       ...       ...       ...   \n",
       "6183           385.0  0.246753  0.2500  0.194293  0.591339  0.268442   \n",
       "6202           108.0  0.559028  0.5000  0.183631  0.109614  1.480872   \n",
       "6241           811.0  0.702990  0.7500  0.179070  0.088236 -0.787588   \n",
       "6804            28.0  0.772321  0.8125  0.189583 -0.530840 -0.844047   \n",
       "8268           276.0  0.552536  0.5000  0.191176  0.268733  0.687043   \n",
       "\n",
       "               centre_frac  farleft_frac  farright_frac  \n",
       "partyfacts_id                                            \n",
       "3                 0.468750      0.000000       0.000000  \n",
       "4                 0.360465      0.100775       0.042636  \n",
       "5                 0.466019      0.019417       0.097087  \n",
       "9                 0.478873      0.049296       0.028169  \n",
       "10                0.242765      0.040193       0.001608  \n",
       "...                    ...           ...            ...  \n",
       "6183              0.171429      0.225974       0.005195  \n",
       "6202              0.490741      0.018519       0.037037  \n",
       "6241              0.256473      0.000000       0.135635  \n",
       "6804              0.178571      0.000000       0.214286  \n",
       "8268              0.445652      0.010870       0.054348  \n",
       "\n",
       "[387 rows x 9 columns]"
      ]
     },
     "execution_count": 66,
     "metadata": {},
     "output_type": "execute_result"
    }
   ],
   "source": [
    "# cmp_party_voter[[\"selfrile\",\"partyfacts_id\"]][cmp_party_voter[\"survey_year\"]==1990][\"partyfacts_id\"].kurtosis()\n",
    "selfrile_df = pd.DataFrame([selfrile_count,selfrile_mean,selfrile_median,selfrile_std,selfrile_skew,selfrile_kurtosis,\n",
    "              selfrile_centre_frac,selfrile_farleft_frac,selfrile_farright_frac]).T\n",
    "selfrile_df.columns = [\"N\",\"mean\",\"median\",\"std\",\"skew\",\"kurtosis\",\"centre_frac\",\"farleft_frac\",\"farright_frac\"]\n",
    "selfrile_df\n",
    "# cmp_party_voter.groupby(\"partyfacts_id\").apply(lambda x: np.mean(x==.5))#.groupby(\"partyfacts_id\").mean()"
   ]
  },
  {
   "cell_type": "code",
   "execution_count": 67,
   "metadata": {},
   "outputs": [],
   "source": [
    "# selfrile_df[\"N\"].hist(bins=100)"
   ]
  },
  {
   "cell_type": "code",
   "execution_count": 79,
   "metadata": {},
   "outputs": [
    {
     "name": "stderr",
     "output_type": "stream",
     "text": [
      "Degrees of freedom <= 0 for slice\n",
      "divide by zero encountered in true_divide\n"
     ]
    },
    {
     "data": {
      "text/plain": [
       "(parlgov)family__cons                                                   0.452590\n",
       "(ees14)immigration                                                      0.455615\n",
       "(ches)intgroup__international democrat union                            0.461442\n",
       "(ees14)markeco                                                          0.462041\n",
       "(manifesto)per401                                                       0.480391\n",
       "(pip)Index Jahn: LR Core Importance                                     0.495767\n",
       "(manifesto)markeco                                                      0.517295\n",
       "(pip)Index Budge et al.: Market Economy                                 0.520009\n",
       "(ees14)multicult                                                        0.525994\n",
       "(ches)cosmo                                                             0.537059\n",
       "(ches)membership_sd                                                     0.545444\n",
       "(ches)epgroup__European People’s Party – European Democrats (EPP-ED)    0.549125\n",
       "(ees14)rile_mrg                                                         0.574142\n",
       "(ches)lifestyle                                                         0.582485\n",
       "(ees14)lifestyle                                                        0.591175\n",
       "(ees14)environ                                                          0.606518\n",
       "(pip)Index Franzmann/Kaiser: Economic Dimension                         0.614193\n",
       "(ches)galtan                                                            0.627274\n",
       "(parlgov)liberty_authority                                              0.627574\n",
       "(ches)enviro                                                            0.633418\n",
       "(manifesto)rile                                                         0.646158\n",
       "(ees14)state                                                            0.653829\n",
       "(pip)Index Jahn: LR Plus                                                0.659841\n",
       "(ches)minor                                                             0.672972\n",
       "(ches)galtan_new                                                        0.677460\n",
       "(ches)multicult                                                         0.679046\n",
       "(pip)Index Jahn: LR Plus (Unstandardized)                               0.686119\n",
       "(pip)Index Jahn: LR Core (Unstandardized)                               0.688862\n",
       "(pip)Index Jahn: LR Core                                                0.688862\n",
       "(ches)immig                                                             0.691203\n",
       "(pip)Index Budge et al.: RILE                                           0.705424\n",
       "(pip)Index Franzmann/Kaiser: Non-Economic Dimension                     0.711150\n",
       "(ches)civlib                                                            0.713466\n",
       "(ches)religion                                                          0.715666\n",
       "(manifesto)presvote                                                     0.719595\n",
       "(ches)us                                                                0.725106\n",
       "(pip)Index Franzmann/Kaiser: Left-Right                                 0.728088\n",
       "(ches)dereg                                                             0.731896\n",
       "(ees14)pubservice                                                       0.744163\n",
       "(pip)Index Jahn: LR                                                     0.749241\n",
       "(ees14)redistribut                                                      0.754310\n",
       "(parlgov)state_market                                                   0.757200\n",
       "(pip)Index Jahn: LR (Unstandardized)                                    0.759582\n",
       "(ches)lrecon                                                            0.766172\n",
       "(ches)econ_interven                                                     0.768957\n",
       "(ches)redist                                                            0.778595\n",
       "(ches)pubserv                                                           0.779154\n",
       "(ees14)left                                                             0.824885\n",
       "(parlgov)left_right                                                     0.871832\n",
       "(ches)lrgen                                                             0.909644\n",
       "dtype: float64"
      ]
     },
     "execution_count": 79,
     "metadata": {},
     "output_type": "execute_result"
    }
   ],
   "source": [
    "mask = selfrile_df[\"N\"]>100\n",
    "\n",
    "df_merged.loc[selfrile_df.index[mask]].corrwith(selfrile_df[\"mean\"][mask]).dropna().sort_values().tail(50)\n"
   ]
  },
  {
   "cell_type": "code",
   "execution_count": null,
   "metadata": {},
   "outputs": [],
   "source": []
  },
  {
   "cell_type": "code",
   "execution_count": 69,
   "metadata": {},
   "outputs": [
    {
     "data": {
      "text/plain": [
       "(ees14)per_v1_4082b                                     0.236039\n",
       "(ees14)per_v2_5012b                                     0.236317\n",
       "(manifesto)per601                                       0.239889\n",
       "(ees14)per_v3_603a                                      0.240041\n",
       "(parlgov)liberty_authority                              0.240544\n",
       "(ees14)per_v1_504a                                      0.240845\n",
       "(ches)urban_salience                                    0.242475\n",
       "(ches)family__rad right                                 0.244131\n",
       "(ees14)per_v1_606a                                      0.245673\n",
       "(manifesto)per6013                                      0.248052\n",
       "(ches)eu_agri                                           0.255137\n",
       "(ches)immig                                             0.255606\n",
       "(ches)civlib                                            0.258578\n",
       "(ches)enviro                                            0.260245\n",
       "(ches)eumember__Other                                   0.263987\n",
       "(manifesto)per1011                                      0.264258\n",
       "(ches)intgroup__no affiliation                          0.265706\n",
       "(ches)mip_one__urban vs rural                           0.271245\n",
       "(ees14)per_v2_6021b                                     0.272519\n",
       "(ches)anti_islam_rhetoric                               0.278245\n",
       "(ees14)per_v2_4011a                                     0.278999\n",
       "(ees14)per_v1_7031a                                     0.284228\n",
       "(ches)mip_three__decentralization                       0.284408\n",
       "(ees14)per_v1_601a                                      0.290901\n",
       "(ees14)liberta                                          0.291797\n",
       "(ches)russian_interference                              0.293879\n",
       "(ees14)mfamily__rad right                               0.300210\n",
       "(ees14)multicult                                        0.300648\n",
       "(ches)members_vs_leadership                             0.308810\n",
       "(manifesto)per703                                       0.313240\n",
       "(ees14)member                                           0.314092\n",
       "(ches)epgroup__Union for Europe of the Nations (UEN)    0.314515\n",
       "(manifesto)per4013                                      0.316647\n",
       "(ees14)ofamily__rad right                               0.318691\n",
       "(ees14)pfamily__rad right                               0.319113\n",
       "(ches)galtan                                            0.319446\n",
       "(ees14)per_v2_6011b                                     0.319933\n",
       "(ches)antielite_salience                                0.329008\n",
       "(ees14)per_v1_4011a                                     0.329361\n",
       "(ches)lrecon_blur                                       0.334904\n",
       "(ees14)immigration                                      0.343860\n",
       "(ees14)per_v2_60113b                                    0.349876\n",
       "(ches)protectionism                                     0.355508\n",
       "(ches)lifestyle                                         0.383487\n",
       "(ches)lrecon_sd                                         0.386752\n",
       "(ees14)lifestyle                                        0.389226\n",
       "(ches)galtan_new                                        0.401599\n",
       "(ees14)eep                                              0.407975\n",
       "(ches)corrupt_salience                                  0.422147\n",
       "(ches)mip_two__environment                              0.426965\n",
       "dtype: float64"
      ]
     },
     "execution_count": 69,
     "metadata": {},
     "output_type": "execute_result"
    }
   ],
   "source": [
    "df_merged.loc[selfrile_df.index].corrwith(selfrile_df[\"std\"]).dropna().sort_values().tail(50)\n",
    "\n",
    "### looks reasonable!"
   ]
  },
  {
   "cell_type": "code",
   "execution_count": 70,
   "metadata": {},
   "outputs": [
    {
     "data": {
      "text/plain": [
       "partyfacts_id\n",
       "3       0.000000\n",
       "4       0.042636\n",
       "5       0.097087\n",
       "9       0.028169\n",
       "10      0.001608\n",
       "          ...   \n",
       "6183    0.005195\n",
       "6202    0.037037\n",
       "6241    0.135635\n",
       "6804    0.214286\n",
       "8268    0.054348\n",
       "Name: selfrile, Length: 387, dtype: float64"
      ]
     },
     "execution_count": 70,
     "metadata": {},
     "output_type": "execute_result"
    }
   ],
   "source": [
    "selfrile_farright_frac\n",
    "# lazy version, use the year-meaned merged dataset -> TOO BIG!\n",
    "\n",
    "# df_merged.loc[cmp_party_voter[\"partyfacts_id\"]]"
   ]
  },
  {
   "cell_type": "code",
   "execution_count": 71,
   "metadata": {},
   "outputs": [
    {
     "data": {
      "text/plain": [
       "1990    40545\n",
       "1995    40205\n",
       "1989    35304\n",
       "2002    28130\n",
       "1993    25331\n",
       "1999    23818\n",
       "1996    22423\n",
       "1997    21528\n",
       "1994    21338\n",
       "1991    21313\n",
       "1992    18402\n",
       "1988    18396\n",
       "1979    17685\n",
       "2000    17559\n",
       "1986    16030\n",
       "2007    15676\n",
       "1978    15069\n",
       "2005    13909\n",
       "1998    12728\n",
       "1987    12656\n",
       "1981    12326\n",
       "1985    12177\n",
       "2001    11408\n",
       "2004    10493\n",
       "1980     9029\n",
       "2006     8902\n",
       "2009     8729\n",
       "2003     8017\n",
       "1976     8005\n",
       "1977     7880\n",
       "1982     6786\n",
       "2008     5983\n",
       "1983     4933\n",
       "1984     4579\n",
       "1973     3371\n",
       "Name: survey_year, dtype: int64"
      ]
     },
     "execution_count": 71,
     "metadata": {},
     "output_type": "execute_result"
    }
   ],
   "source": [
    "cmp_party_voter[\"survey_year\"].value_counts()"
   ]
  },
  {
   "cell_type": "code",
   "execution_count": null,
   "metadata": {},
   "outputs": [],
   "source": []
  },
  {
   "cell_type": "code",
   "execution_count": 72,
   "metadata": {},
   "outputs": [
    {
     "data": {
      "text/plain": [
       "2014    689\n",
       "1999    440\n",
       "2016    417\n",
       "2006    413\n",
       "2010    405\n",
       "2002    378\n",
       "1992    373\n",
       "1996    368\n",
       "2009    337\n",
       "2004    331\n",
       "2019    328\n",
       "2011    299\n",
       "1994    287\n",
       "2007    280\n",
       "2015    242\n",
       "1984    240\n",
       "2017    227\n",
       "1990    221\n",
       "1979    210\n",
       "1995    204\n",
       "1988    203\n",
       "1998    189\n",
       "2003    180\n",
       "1987    179\n",
       "1991    175\n",
       "2012    173\n",
       "2008    170\n",
       "1993    169\n",
       "1989    165\n",
       "2000    157\n",
       "2013    157\n",
       "2005    149\n",
       "2001    140\n",
       "1977    130\n",
       "1983    126\n",
       "1981    121\n",
       "1997    121\n",
       "1953     95\n",
       "1968     93\n",
       "1972     89\n",
       "1971     85\n",
       "1975     84\n",
       "1973     84\n",
       "1949     80\n",
       "1958     79\n",
       "1985     78\n",
       "1986     76\n",
       "1948     74\n",
       "1951     74\n",
       "1974     72\n",
       "Name: year, dtype: int64"
      ]
     },
     "execution_count": 72,
     "metadata": {},
     "output_type": "execute_result"
    }
   ],
   "source": [
    "df[\"year\"].value_counts().head(50)"
   ]
  },
  {
   "cell_type": "code",
   "execution_count": 73,
   "metadata": {},
   "outputs": [],
   "source": [
    "####\n",
    "## COVERAGE\n",
    "## PARTY-YEAR level data, looking at ... parties / COUNTRY X YEAR?"
   ]
  },
  {
   "cell_type": "code",
   "execution_count": 74,
   "metadata": {},
   "outputs": [
    {
     "data": {
      "text/plain": [
       "58"
      ]
     },
     "execution_count": 74,
     "metadata": {},
     "output_type": "execute_result"
    }
   ],
   "source": [
    "len( df.groupby([\"country\",\"year\"])[\"partyfacts_id\"].count().reset_index()[\"country\"].unique() )\n",
    "\n",
    "# only 58 countries!"
   ]
  },
  {
   "cell_type": "code",
   "execution_count": 75,
   "metadata": {},
   "outputs": [
    {
     "data": {
      "text/plain": [
       "array([1991, 1992, 1996, 1997, 2001, 2014, 1995, 1999, 2003, 2007, 2012,\n",
       "       1946, 1949, 1951, 1954, 1955, 1958, 1961, 1963, 1966, 1969, 1972,\n",
       "       1974, 1975, 1977, 1980, 1983, 1984, 1987, 1990, 1993, 1998, 2004,\n",
       "       2010, 2013, 2016, 1953, 1956, 1959, 1962, 1970, 1971, 1979, 1986,\n",
       "       1988, 1994, 2002, 2006, 2008, 2009, 2017, 2019, 2000, 1950, 1965,\n",
       "       1968, 1978, 1981, 1985, 1989, 2005, 2018, 1945, 1957, 2011, 2015,\n",
       "       1947, 1967, 1976, 1960, 1964, 1973, 1982, 1948, 1952, 1921, 1925,\n",
       "       1929, 1933, 1938, 1944, 1920, 1924, 1928, 1932, 1936, 1940],\n",
       "      dtype=int64)"
      ]
     },
     "execution_count": 75,
     "metadata": {},
     "output_type": "execute_result"
    }
   ],
   "source": [
    "df.groupby([\"country\",\"year\"])[\"partyfacts_id\"].count().reset_index()[\"year\"].unique()"
   ]
  },
  {
   "cell_type": "code",
   "execution_count": 76,
   "metadata": {},
   "outputs": [
    {
     "data": {
      "text/html": [
       "<div>\n",
       "<style scoped>\n",
       "    .dataframe tbody tr th:only-of-type {\n",
       "        vertical-align: middle;\n",
       "    }\n",
       "\n",
       "    .dataframe tbody tr th {\n",
       "        vertical-align: top;\n",
       "    }\n",
       "\n",
       "    .dataframe thead th {\n",
       "        text-align: right;\n",
       "    }\n",
       "</style>\n",
       "<table border=\"1\" class=\"dataframe\">\n",
       "  <thead>\n",
       "    <tr style=\"text-align: right;\">\n",
       "      <th></th>\n",
       "      <th>country</th>\n",
       "      <th>year</th>\n",
       "      <th>partyfacts_id</th>\n",
       "    </tr>\n",
       "  </thead>\n",
       "  <tbody>\n",
       "    <tr>\n",
       "      <th>0</th>\n",
       "      <td>alb</td>\n",
       "      <td>1991</td>\n",
       "      <td>8</td>\n",
       "    </tr>\n",
       "    <tr>\n",
       "      <th>1</th>\n",
       "      <td>alb</td>\n",
       "      <td>1992</td>\n",
       "      <td>7</td>\n",
       "    </tr>\n",
       "    <tr>\n",
       "      <th>2</th>\n",
       "      <td>alb</td>\n",
       "      <td>1996</td>\n",
       "      <td>9</td>\n",
       "    </tr>\n",
       "    <tr>\n",
       "      <th>3</th>\n",
       "      <td>alb</td>\n",
       "      <td>1997</td>\n",
       "      <td>9</td>\n",
       "    </tr>\n",
       "    <tr>\n",
       "      <th>4</th>\n",
       "      <td>alb</td>\n",
       "      <td>2001</td>\n",
       "      <td>5</td>\n",
       "    </tr>\n",
       "    <tr>\n",
       "      <th>...</th>\n",
       "      <td>...</td>\n",
       "      <td>...</td>\n",
       "      <td>...</td>\n",
       "    </tr>\n",
       "    <tr>\n",
       "      <th>1006</th>\n",
       "      <td>zaf</td>\n",
       "      <td>1994</td>\n",
       "      <td>2</td>\n",
       "    </tr>\n",
       "    <tr>\n",
       "      <th>1007</th>\n",
       "      <td>zaf</td>\n",
       "      <td>1999</td>\n",
       "      <td>3</td>\n",
       "    </tr>\n",
       "    <tr>\n",
       "      <th>1008</th>\n",
       "      <td>zaf</td>\n",
       "      <td>2004</td>\n",
       "      <td>3</td>\n",
       "    </tr>\n",
       "    <tr>\n",
       "      <th>1009</th>\n",
       "      <td>zaf</td>\n",
       "      <td>2009</td>\n",
       "      <td>4</td>\n",
       "    </tr>\n",
       "    <tr>\n",
       "      <th>1010</th>\n",
       "      <td>zaf</td>\n",
       "      <td>2014</td>\n",
       "      <td>5</td>\n",
       "    </tr>\n",
       "  </tbody>\n",
       "</table>\n",
       "<p>1011 rows × 3 columns</p>\n",
       "</div>"
      ],
      "text/plain": [
       "     country  year  partyfacts_id\n",
       "0        alb  1991              8\n",
       "1        alb  1992              7\n",
       "2        alb  1996              9\n",
       "3        alb  1997              9\n",
       "4        alb  2001              5\n",
       "...      ...   ...            ...\n",
       "1006     zaf  1994              2\n",
       "1007     zaf  1999              3\n",
       "1008     zaf  2004              3\n",
       "1009     zaf  2009              4\n",
       "1010     zaf  2014              5\n",
       "\n",
       "[1011 rows x 3 columns]"
      ]
     },
     "execution_count": 76,
     "metadata": {},
     "output_type": "execute_result"
    }
   ],
   "source": [
    "df.groupby([\"country\",\"year\"])[\"partyfacts_id\"].count().reset_index()"
   ]
  },
  {
   "cell_type": "code",
   "execution_count": 77,
   "metadata": {},
   "outputs": [],
   "source": [
    "df_2d = pd.pivot_table(df.groupby([\"country\",\"year\"])[\"partyfacts_id\"].count().reset_index(),\n",
    "               values = 'partyfacts_id',columns='year',index='country')\n",
    "ordered_countries = df_2d.sum(axis=1).sort_values(ascending=False)[df_2d.sum(axis=1).sort_values(ascending=False)>0]\n",
    "\n",
    "\n",
    "df_2d=df_2d.loc[ordered_countries.index]\n",
    "#### EUN!!!???\n",
    "#### NIR - why separate only for some?"
   ]
  },
  {
   "cell_type": "code",
   "execution_count": 78,
   "metadata": {},
   "outputs": [
    {
     "data": {
      "image/png": "[encoded data removed]",
      "text/plain": [
       "<Figure size 1152x864 with 2 Axes>"
      ]
     },
     "metadata": {},
     "output_type": "display_data"
    }
   ],
   "source": [
    "plt.figure(figsize=(16,12))\n",
    "sns.heatmap(df_2d);"
   ]
  },
  {
   "cell_type": "code",
   "execution_count": null,
   "metadata": {},
   "outputs": [],
   "source": []
  },
  {
   "cell_type": "code",
   "execution_count": null,
   "metadata": {},
   "outputs": [],
   "source": []
  },
  {
   "cell_type": "code",
   "execution_count": null,
   "metadata": {},
   "outputs": [],
   "source": []
  },
  {
   "cell_type": "code",
   "execution_count": null,
   "metadata": {},
   "outputs": [],
   "source": []
  },
  {
   "cell_type": "code",
   "execution_count": null,
   "metadata": {},
   "outputs": [],
   "source": []
  },
  {
   "cell_type": "code",
   "execution_count": null,
   "metadata": {},
   "outputs": [],
   "source": []
  },
  {
   "cell_type": "code",
   "execution_count": null,
   "metadata": {},
   "outputs": [],
   "source": []
  },
  {
   "cell_type": "code",
   "execution_count": null,
   "metadata": {},
   "outputs": [],
   "source": []
  },
  {
   "cell_type": "code",
   "execution_count": null,
   "metadata": {},
   "outputs": [],
   "source": []
  },
  {
   "cell_type": "code",
   "execution_count": null,
   "metadata": {},
   "outputs": [],
   "source": []
  }
 ],
 "metadata": {
  "kernelspec": {
   "display_name": "Python 3",
   "language": "python",
   "name": "python3"
  },
  "language_info": {
   "codemirror_mode": {
    "name": "ipython",
    "version": 3
   },
   "file_extension": ".py",
   "mimetype": "text/x-python",
   "name": "python",
   "nbconvert_exporter": "python",
   "pygments_lexer": "ipython3",
   "version": "3.7.12"
  }
 },
 "nbformat": 4,
 "nbformat_minor": 4
}
