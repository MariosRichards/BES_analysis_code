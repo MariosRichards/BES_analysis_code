{
 "cells": [
  {
   "cell_type": "code",
   "execution_count": null,
   "metadata": {},
   "outputs": [],
   "source": [
    "## Step one - open up basic datasets"
   ]
  },
  {
   "cell_type": "code",
   "execution_count": 1,
   "metadata": {},
   "outputs": [],
   "source": [
    "import pandas as pd\n",
    "import numpy as np\n",
    "import seaborn as sns\n",
    "import matplotlib.pyplot as plt\n",
    "import re, os"
   ]
  },
  {
   "cell_type": "code",
   "execution_count": 2,
   "metadata": {},
   "outputs": [],
   "source": [
    "dataset_folder = \"C:\\\\Users\\\\Marios\\\\Documents\\\\GitHub\\\\Thomas Prosser project\\\\datasets\\\\\"\n",
    "output_folder = \"C:\\\\Users\\\\Marios\\\\Documents\\\\GitHub\\\\Thomas Prosser project\\\\output\\\\\""
   ]
  },
  {
   "cell_type": "code",
   "execution_count": 3,
   "metadata": {},
   "outputs": [],
   "source": [
    "Manifesto_Project_Dataset_version_2019b = \"MPDataset_MPDS2019b_stata14.dta\""
   ]
  },
  {
   "cell_type": "code",
   "execution_count": 4,
   "metadata": {},
   "outputs": [],
   "source": [
    "df = pd.read_stata(dataset_folder+Manifesto_Project_Dataset_version_2019b,convert_categoricals=False)\n",
    "\n",
    "## Bug - hassle them about it?\n",
    "\n",
    "# ValueError: \n",
    "# Value labels for column party are not unique. These cannot be converted to\n",
    "# pandas categoricals.\n",
    "\n",
    "# Either read the file with `convert_categoricals` set to False or use the\n",
    "# low level interface in `StataReader` to separately read the values and the\n",
    "# value_labels.\n",
    "\n",
    "# The repeated labels are:\n",
    "# --------------------------------------------------------------------------------\n",
    "# kor: Democratic Party\n",
    "# grc: Coalition of the Radical Left\n",
    "\n",
    "# Understood\n",
    "    #34020: 'grc: Coalition of the Radical Left',2004-2012 SYRIZA\n",
    "    #34212: 'grc: Coalition of the Radical Left',2012-2015 SYRIZA-EKN\n",
    "    \n",
    "original_column_order = df.columns\n",
    "\n",
    "column_list_minus_party = [x for x in original_column_order if x != 'party']\n",
    "\n",
    "df = pd.read_stata(dataset_folder+Manifesto_Project_Dataset_version_2019b,columns = column_list_minus_party)\n",
    "\n",
    "reader = pd.io.stata.StataReader(dataset_folder+Manifesto_Project_Dataset_version_2019b)\n",
    "\n",
    "header = reader.variable_labels()\n",
    "labels = reader.value_labels()\n",
    "party_code = labelling = labels[\"party\"]\n",
    "\n",
    "df[\"party\"] = pd.read_stata(dataset_folder+Manifesto_Project_Dataset_version_2019b,columns = [\"party\"],\n",
    "                            convert_categoricals=False)[\"party\"]\n",
    "df = df[original_column_order]\n",
    "df = df.set_index(\"id_perm\")\n",
    "df[ df.columns[df.dtypes=='object'] ] = df[ df.columns[df.dtypes=='object'] ].astype('category')\n",
    "df[[\"coderyear\",\"absseat\",\"totseats\",\"total\"]] = df[[\"coderyear\",\"absseat\",\"totseats\",\"total\"]].astype('float32')"
   ]
  },
  {
   "cell_type": "code",
   "execution_count": null,
   "metadata": {},
   "outputs": [],
   "source": []
  },
  {
   "cell_type": "code",
   "execution_count": 95,
   "metadata": {},
   "outputs": [
    {
     "data": {
      "text/plain": [
       "float64           152\n",
       "float32             4\n",
       "int32               2\n",
       "category            1\n",
       "category            1\n",
       "category            1\n",
       "category            1\n",
       "category            1\n",
       "category            1\n",
       "category            1\n",
       "category            1\n",
       "category            1\n",
       "datetime64[ns]      1\n",
       "category            1\n",
       "category            1\n",
       "category            1\n",
       "category            1\n",
       "category            1\n",
       "dtype: int64"
      ]
     },
     "execution_count": 95,
     "metadata": {},
     "output_type": "execute_result"
    }
   ],
   "source": [
    "df.dtypes.value_counts()"
   ]
  },
  {
   "cell_type": "code",
   "execution_count": 45,
   "metadata": {},
   "outputs": [
    {
     "data": {
      "text/html": [
       "<div>\n",
       "<style scoped>\n",
       "    .dataframe tbody tr th:only-of-type {\n",
       "        vertical-align: middle;\n",
       "    }\n",
       "\n",
       "    .dataframe tbody tr th {\n",
       "        vertical-align: top;\n",
       "    }\n",
       "\n",
       "    .dataframe thead th {\n",
       "        text-align: right;\n",
       "    }\n",
       "</style>\n",
       "<table border=\"1\" class=\"dataframe\">\n",
       "  <thead>\n",
       "    <tr style=\"text-align: right;\">\n",
       "      <th></th>\n",
       "      <th>date</th>\n",
       "      <th>edate</th>\n",
       "    </tr>\n",
       "  </thead>\n",
       "  <tbody>\n",
       "    <tr>\n",
       "      <th>0</th>\n",
       "      <td>194409</td>\n",
       "      <td>1944-09-17</td>\n",
       "    </tr>\n",
       "    <tr>\n",
       "      <th>1</th>\n",
       "      <td>194409</td>\n",
       "      <td>1944-09-17</td>\n",
       "    </tr>\n",
       "    <tr>\n",
       "      <th>2</th>\n",
       "      <td>194409</td>\n",
       "      <td>1944-09-17</td>\n",
       "    </tr>\n",
       "    <tr>\n",
       "      <th>3</th>\n",
       "      <td>194409</td>\n",
       "      <td>1944-09-17</td>\n",
       "    </tr>\n",
       "    <tr>\n",
       "      <th>4</th>\n",
       "      <td>194409</td>\n",
       "      <td>1944-09-17</td>\n",
       "    </tr>\n",
       "    <tr>\n",
       "      <th>...</th>\n",
       "      <td>...</td>\n",
       "      <td>...</td>\n",
       "    </tr>\n",
       "    <tr>\n",
       "      <th>4487</th>\n",
       "      <td>201405</td>\n",
       "      <td>2014-05-07</td>\n",
       "    </tr>\n",
       "    <tr>\n",
       "      <th>4488</th>\n",
       "      <td>201405</td>\n",
       "      <td>2014-05-07</td>\n",
       "    </tr>\n",
       "    <tr>\n",
       "      <th>4489</th>\n",
       "      <td>201405</td>\n",
       "      <td>2014-05-07</td>\n",
       "    </tr>\n",
       "    <tr>\n",
       "      <th>4490</th>\n",
       "      <td>201405</td>\n",
       "      <td>2014-05-07</td>\n",
       "    </tr>\n",
       "    <tr>\n",
       "      <th>4491</th>\n",
       "      <td>201405</td>\n",
       "      <td>2014-05-07</td>\n",
       "    </tr>\n",
       "  </tbody>\n",
       "</table>\n",
       "<p>4492 rows × 2 columns</p>\n",
       "</div>"
      ],
      "text/plain": [
       "        date      edate\n",
       "0     194409 1944-09-17\n",
       "1     194409 1944-09-17\n",
       "2     194409 1944-09-17\n",
       "3     194409 1944-09-17\n",
       "4     194409 1944-09-17\n",
       "...      ...        ...\n",
       "4487  201405 2014-05-07\n",
       "4488  201405 2014-05-07\n",
       "4489  201405 2014-05-07\n",
       "4490  201405 2014-05-07\n",
       "4491  201405 2014-05-07\n",
       "\n",
       "[4492 rows x 2 columns]"
      ]
     },
     "execution_count": 45,
     "metadata": {},
     "output_type": "execute_result"
    }
   ],
   "source": [
    "df[[\"date\",\"edate\"]]"
   ]
  },
  {
   "cell_type": "code",
   "execution_count": 63,
   "metadata": {},
   "outputs": [],
   "source": [
    "# df[ df.columns[df.dtypes=='object'] ].describe()\n",
    "\n",
    "# id_perm is the permanent unique id\n",
    "# datasetversion (only one value!) and corpusversion (two values!)\n",
    "# partyname and partyabbrev not identical (fewer partyabbrev variants!)\n",
    "# countryname also categorical\n",
    "\n",
    "# \"coderyear\",\"absseat\",\"totseats\",\"total\" all integers, but contain some missing values so have to stored as float\n",
    "# but changed to float32\n",
    "# per1025 also fits in float32, but feel it should stay with the same dtype as the other per variables\n",
    "\n"
   ]
  },
  {
   "cell_type": "code",
   "execution_count": 91,
   "metadata": {},
   "outputs": [],
   "source": []
  },
  {
   "cell_type": "code",
   "execution_count": 97,
   "metadata": {},
   "outputs": [],
   "source": [
    "df.to_pickle(dataset_folder+Manifesto_Project_Dataset_version_2019b.replace(\"dta\",\"zip\"),compression='zip')"
   ]
  },
  {
   "cell_type": "code",
   "execution_count": 98,
   "metadata": {},
   "outputs": [
    {
     "data": {
      "text/html": [
       "<div>\n",
       "<style scoped>\n",
       "    .dataframe tbody tr th:only-of-type {\n",
       "        vertical-align: middle;\n",
       "    }\n",
       "\n",
       "    .dataframe tbody tr th {\n",
       "        vertical-align: top;\n",
       "    }\n",
       "\n",
       "    .dataframe thead th {\n",
       "        text-align: right;\n",
       "    }\n",
       "</style>\n",
       "<table border=\"1\" class=\"dataframe\">\n",
       "  <thead>\n",
       "    <tr style=\"text-align: right;\">\n",
       "      <th></th>\n",
       "      <th>country</th>\n",
       "      <th>countryname</th>\n",
       "      <th>oecdmember</th>\n",
       "      <th>eumember</th>\n",
       "      <th>edate</th>\n",
       "      <th>date</th>\n",
       "      <th>party</th>\n",
       "      <th>partyname</th>\n",
       "      <th>partyabbrev</th>\n",
       "      <th>parfam</th>\n",
       "      <th>...</th>\n",
       "      <th>per608_2</th>\n",
       "      <th>per608_3</th>\n",
       "      <th>per703_1</th>\n",
       "      <th>per703_2</th>\n",
       "      <th>rile</th>\n",
       "      <th>planeco</th>\n",
       "      <th>markeco</th>\n",
       "      <th>welfare</th>\n",
       "      <th>intpeace</th>\n",
       "      <th>datasetversion</th>\n",
       "    </tr>\n",
       "    <tr>\n",
       "      <th>id_perm</th>\n",
       "      <th></th>\n",
       "      <th></th>\n",
       "      <th></th>\n",
       "      <th></th>\n",
       "      <th></th>\n",
       "      <th></th>\n",
       "      <th></th>\n",
       "      <th></th>\n",
       "      <th></th>\n",
       "      <th></th>\n",
       "      <th></th>\n",
       "      <th></th>\n",
       "      <th></th>\n",
       "      <th></th>\n",
       "      <th></th>\n",
       "      <th></th>\n",
       "      <th></th>\n",
       "      <th></th>\n",
       "      <th></th>\n",
       "      <th></th>\n",
       "      <th></th>\n",
       "    </tr>\n",
       "  </thead>\n",
       "  <tbody>\n",
       "    <tr>\n",
       "      <th>JN1LZH</th>\n",
       "      <td>sweden</td>\n",
       "      <td>Sweden</td>\n",
       "      <td>no oecd member</td>\n",
       "      <td>no eu membership</td>\n",
       "      <td>1944-09-17</td>\n",
       "      <td>194409</td>\n",
       "      <td>11220</td>\n",
       "      <td>Communist Party of Sweden</td>\n",
       "      <td>SKP</td>\n",
       "      <td>lef socialist or other left</td>\n",
       "      <td>...</td>\n",
       "      <td>NaN</td>\n",
       "      <td>NaN</td>\n",
       "      <td>NaN</td>\n",
       "      <td>NaN</td>\n",
       "      <td>9.600</td>\n",
       "      <td>1.900</td>\n",
       "      <td>1.900</td>\n",
       "      <td>0.000</td>\n",
       "      <td>1.900</td>\n",
       "      <td>2019b</td>\n",
       "    </tr>\n",
       "    <tr>\n",
       "      <th>CMR7F6</th>\n",
       "      <td>sweden</td>\n",
       "      <td>Sweden</td>\n",
       "      <td>no oecd member</td>\n",
       "      <td>no eu membership</td>\n",
       "      <td>1944-09-17</td>\n",
       "      <td>194409</td>\n",
       "      <td>11320</td>\n",
       "      <td>Social Democratic Labour Party</td>\n",
       "      <td>SAP</td>\n",
       "      <td>soc social democratic</td>\n",
       "      <td>...</td>\n",
       "      <td>NaN</td>\n",
       "      <td>NaN</td>\n",
       "      <td>NaN</td>\n",
       "      <td>NaN</td>\n",
       "      <td>-37.800</td>\n",
       "      <td>3.300</td>\n",
       "      <td>2.200</td>\n",
       "      <td>33.400</td>\n",
       "      <td>5.600</td>\n",
       "      <td>2019b</td>\n",
       "    </tr>\n",
       "    <tr>\n",
       "      <th>Z6OL6C</th>\n",
       "      <td>sweden</td>\n",
       "      <td>Sweden</td>\n",
       "      <td>no oecd member</td>\n",
       "      <td>no eu membership</td>\n",
       "      <td>1944-09-17</td>\n",
       "      <td>194409</td>\n",
       "      <td>11420</td>\n",
       "      <td>People’s Party</td>\n",
       "      <td>FP</td>\n",
       "      <td>lib liberal</td>\n",
       "      <td>...</td>\n",
       "      <td>NaN</td>\n",
       "      <td>NaN</td>\n",
       "      <td>NaN</td>\n",
       "      <td>NaN</td>\n",
       "      <td>9.500</td>\n",
       "      <td>3.200</td>\n",
       "      <td>6.400</td>\n",
       "      <td>14.300</td>\n",
       "      <td>1.600</td>\n",
       "      <td>2019b</td>\n",
       "    </tr>\n",
       "    <tr>\n",
       "      <th>YMKVN2</th>\n",
       "      <td>sweden</td>\n",
       "      <td>Sweden</td>\n",
       "      <td>no oecd member</td>\n",
       "      <td>no eu membership</td>\n",
       "      <td>1944-09-17</td>\n",
       "      <td>194409</td>\n",
       "      <td>11620</td>\n",
       "      <td>Right Party</td>\n",
       "      <td></td>\n",
       "      <td>con conservative</td>\n",
       "      <td>...</td>\n",
       "      <td>NaN</td>\n",
       "      <td>NaN</td>\n",
       "      <td>NaN</td>\n",
       "      <td>NaN</td>\n",
       "      <td>28.000</td>\n",
       "      <td>1.800</td>\n",
       "      <td>22.800</td>\n",
       "      <td>10.600</td>\n",
       "      <td>0.000</td>\n",
       "      <td>2019b</td>\n",
       "    </tr>\n",
       "    <tr>\n",
       "      <th>U4SCRD</th>\n",
       "      <td>sweden</td>\n",
       "      <td>Sweden</td>\n",
       "      <td>no oecd member</td>\n",
       "      <td>no eu membership</td>\n",
       "      <td>1944-09-17</td>\n",
       "      <td>194409</td>\n",
       "      <td>11810</td>\n",
       "      <td>Agrarian Party</td>\n",
       "      <td></td>\n",
       "      <td>agr agrarian</td>\n",
       "      <td>...</td>\n",
       "      <td>NaN</td>\n",
       "      <td>NaN</td>\n",
       "      <td>NaN</td>\n",
       "      <td>NaN</td>\n",
       "      <td>23.810</td>\n",
       "      <td>0.000</td>\n",
       "      <td>19.048</td>\n",
       "      <td>0.000</td>\n",
       "      <td>4.762</td>\n",
       "      <td>2019b</td>\n",
       "    </tr>\n",
       "    <tr>\n",
       "      <th>...</th>\n",
       "      <td>...</td>\n",
       "      <td>...</td>\n",
       "      <td>...</td>\n",
       "      <td>...</td>\n",
       "      <td>...</td>\n",
       "      <td>...</td>\n",
       "      <td>...</td>\n",
       "      <td>...</td>\n",
       "      <td>...</td>\n",
       "      <td>...</td>\n",
       "      <td>...</td>\n",
       "      <td>...</td>\n",
       "      <td>...</td>\n",
       "      <td>...</td>\n",
       "      <td>...</td>\n",
       "      <td>...</td>\n",
       "      <td>...</td>\n",
       "      <td>...</td>\n",
       "      <td>...</td>\n",
       "      <td>...</td>\n",
       "      <td>...</td>\n",
       "    </tr>\n",
       "    <tr>\n",
       "      <th>FYLAK1</th>\n",
       "      <td>south africa</td>\n",
       "      <td>South Africa</td>\n",
       "      <td>no oecd member</td>\n",
       "      <td>no eu membership</td>\n",
       "      <td>2014-05-07</td>\n",
       "      <td>201405</td>\n",
       "      <td>181210</td>\n",
       "      <td>Economic Freedom Fighters</td>\n",
       "      <td>EEF</td>\n",
       "      <td>lef socialist or other left</td>\n",
       "      <td>...</td>\n",
       "      <td>NaN</td>\n",
       "      <td>NaN</td>\n",
       "      <td>NaN</td>\n",
       "      <td>NaN</td>\n",
       "      <td>-27.799</td>\n",
       "      <td>3.918</td>\n",
       "      <td>0.000</td>\n",
       "      <td>18.843</td>\n",
       "      <td>0.187</td>\n",
       "      <td>2019b</td>\n",
       "    </tr>\n",
       "    <tr>\n",
       "      <th>SES5XV</th>\n",
       "      <td>south africa</td>\n",
       "      <td>South Africa</td>\n",
       "      <td>no oecd member</td>\n",
       "      <td>no eu membership</td>\n",
       "      <td>2014-05-07</td>\n",
       "      <td>201405</td>\n",
       "      <td>181310</td>\n",
       "      <td>African National Congress</td>\n",
       "      <td>ANC</td>\n",
       "      <td>soc social democratic</td>\n",
       "      <td>...</td>\n",
       "      <td>NaN</td>\n",
       "      <td>NaN</td>\n",
       "      <td>NaN</td>\n",
       "      <td>NaN</td>\n",
       "      <td>-31.926</td>\n",
       "      <td>3.885</td>\n",
       "      <td>0.000</td>\n",
       "      <td>18.412</td>\n",
       "      <td>0.169</td>\n",
       "      <td>2019b</td>\n",
       "    </tr>\n",
       "    <tr>\n",
       "      <th>MEH5KV</th>\n",
       "      <td>south africa</td>\n",
       "      <td>South Africa</td>\n",
       "      <td>no oecd member</td>\n",
       "      <td>no eu membership</td>\n",
       "      <td>2014-05-07</td>\n",
       "      <td>201405</td>\n",
       "      <td>181411</td>\n",
       "      <td>Democratic Alliance</td>\n",
       "      <td>DA</td>\n",
       "      <td>lib liberal</td>\n",
       "      <td>...</td>\n",
       "      <td>NaN</td>\n",
       "      <td>NaN</td>\n",
       "      <td>NaN</td>\n",
       "      <td>NaN</td>\n",
       "      <td>-8.120</td>\n",
       "      <td>3.134</td>\n",
       "      <td>0.427</td>\n",
       "      <td>13.675</td>\n",
       "      <td>0.142</td>\n",
       "      <td>2019b</td>\n",
       "    </tr>\n",
       "    <tr>\n",
       "      <th>NU5PXG</th>\n",
       "      <td>south africa</td>\n",
       "      <td>South Africa</td>\n",
       "      <td>no oecd member</td>\n",
       "      <td>no eu membership</td>\n",
       "      <td>2014-05-07</td>\n",
       "      <td>201405</td>\n",
       "      <td>181420</td>\n",
       "      <td>Congress of the People</td>\n",
       "      <td>COPE</td>\n",
       "      <td>lib liberal</td>\n",
       "      <td>...</td>\n",
       "      <td>NaN</td>\n",
       "      <td>NaN</td>\n",
       "      <td>NaN</td>\n",
       "      <td>NaN</td>\n",
       "      <td>-32.812</td>\n",
       "      <td>1.042</td>\n",
       "      <td>0.000</td>\n",
       "      <td>10.938</td>\n",
       "      <td>2.083</td>\n",
       "      <td>2019b</td>\n",
       "    </tr>\n",
       "    <tr>\n",
       "      <th>VKSFXI</th>\n",
       "      <td>south africa</td>\n",
       "      <td>South Africa</td>\n",
       "      <td>no oecd member</td>\n",
       "      <td>no eu membership</td>\n",
       "      <td>2014-05-07</td>\n",
       "      <td>201405</td>\n",
       "      <td>181910</td>\n",
       "      <td>Inkatha Freedom Party</td>\n",
       "      <td>IFP</td>\n",
       "      <td>eth ethnic-regional</td>\n",
       "      <td>...</td>\n",
       "      <td>NaN</td>\n",
       "      <td>NaN</td>\n",
       "      <td>NaN</td>\n",
       "      <td>NaN</td>\n",
       "      <td>-7.724</td>\n",
       "      <td>0.813</td>\n",
       "      <td>0.000</td>\n",
       "      <td>6.098</td>\n",
       "      <td>0.000</td>\n",
       "      <td>2019b</td>\n",
       "    </tr>\n",
       "  </tbody>\n",
       "</table>\n",
       "<p>4492 rows × 173 columns</p>\n",
       "</div>"
      ],
      "text/plain": [
       "              country   countryname      oecdmember          eumember  \\\n",
       "id_perm                                                                 \n",
       "JN1LZH         sweden        Sweden  no oecd member  no eu membership   \n",
       "CMR7F6         sweden        Sweden  no oecd member  no eu membership   \n",
       "Z6OL6C         sweden        Sweden  no oecd member  no eu membership   \n",
       "YMKVN2         sweden        Sweden  no oecd member  no eu membership   \n",
       "U4SCRD         sweden        Sweden  no oecd member  no eu membership   \n",
       "...               ...           ...             ...               ...   \n",
       "FYLAK1   south africa  South Africa  no oecd member  no eu membership   \n",
       "SES5XV   south africa  South Africa  no oecd member  no eu membership   \n",
       "MEH5KV   south africa  South Africa  no oecd member  no eu membership   \n",
       "NU5PXG   south africa  South Africa  no oecd member  no eu membership   \n",
       "VKSFXI   south africa  South Africa  no oecd member  no eu membership   \n",
       "\n",
       "             edate    date   party                       partyname  \\\n",
       "id_perm                                                              \n",
       "JN1LZH  1944-09-17  194409   11220       Communist Party of Sweden   \n",
       "CMR7F6  1944-09-17  194409   11320  Social Democratic Labour Party   \n",
       "Z6OL6C  1944-09-17  194409   11420                  People’s Party   \n",
       "YMKVN2  1944-09-17  194409   11620                     Right Party   \n",
       "U4SCRD  1944-09-17  194409   11810                  Agrarian Party   \n",
       "...            ...     ...     ...                             ...   \n",
       "FYLAK1  2014-05-07  201405  181210       Economic Freedom Fighters   \n",
       "SES5XV  2014-05-07  201405  181310       African National Congress   \n",
       "MEH5KV  2014-05-07  201405  181411             Democratic Alliance   \n",
       "NU5PXG  2014-05-07  201405  181420          Congress of the People   \n",
       "VKSFXI  2014-05-07  201405  181910           Inkatha Freedom Party   \n",
       "\n",
       "        partyabbrev                       parfam  ... per608_2 per608_3  \\\n",
       "id_perm                                           ...                     \n",
       "JN1LZH          SKP  lef socialist or other left  ...      NaN      NaN   \n",
       "CMR7F6          SAP        soc social democratic  ...      NaN      NaN   \n",
       "Z6OL6C           FP                  lib liberal  ...      NaN      NaN   \n",
       "YMKVN2                          con conservative  ...      NaN      NaN   \n",
       "U4SCRD                              agr agrarian  ...      NaN      NaN   \n",
       "...             ...                          ...  ...      ...      ...   \n",
       "FYLAK1          EEF  lef socialist or other left  ...      NaN      NaN   \n",
       "SES5XV          ANC        soc social democratic  ...      NaN      NaN   \n",
       "MEH5KV           DA                  lib liberal  ...      NaN      NaN   \n",
       "NU5PXG         COPE                  lib liberal  ...      NaN      NaN   \n",
       "VKSFXI          IFP          eth ethnic-regional  ...      NaN      NaN   \n",
       "\n",
       "         per703_1  per703_2    rile  planeco markeco  welfare  intpeace  \\\n",
       "id_perm                                                                   \n",
       "JN1LZH        NaN       NaN   9.600    1.900   1.900    0.000     1.900   \n",
       "CMR7F6        NaN       NaN -37.800    3.300   2.200   33.400     5.600   \n",
       "Z6OL6C        NaN       NaN   9.500    3.200   6.400   14.300     1.600   \n",
       "YMKVN2        NaN       NaN  28.000    1.800  22.800   10.600     0.000   \n",
       "U4SCRD        NaN       NaN  23.810    0.000  19.048    0.000     4.762   \n",
       "...           ...       ...     ...      ...     ...      ...       ...   \n",
       "FYLAK1        NaN       NaN -27.799    3.918   0.000   18.843     0.187   \n",
       "SES5XV        NaN       NaN -31.926    3.885   0.000   18.412     0.169   \n",
       "MEH5KV        NaN       NaN  -8.120    3.134   0.427   13.675     0.142   \n",
       "NU5PXG        NaN       NaN -32.812    1.042   0.000   10.938     2.083   \n",
       "VKSFXI        NaN       NaN  -7.724    0.813   0.000    6.098     0.000   \n",
       "\n",
       "         datasetversion  \n",
       "id_perm                  \n",
       "JN1LZH            2019b  \n",
       "CMR7F6            2019b  \n",
       "Z6OL6C            2019b  \n",
       "YMKVN2            2019b  \n",
       "U4SCRD            2019b  \n",
       "...                 ...  \n",
       "FYLAK1            2019b  \n",
       "SES5XV            2019b  \n",
       "MEH5KV            2019b  \n",
       "NU5PXG            2019b  \n",
       "VKSFXI            2019b  \n",
       "\n",
       "[4492 rows x 173 columns]"
      ]
     },
     "execution_count": 98,
     "metadata": {},
     "output_type": "execute_result"
    }
   ],
   "source": [
    "df"
   ]
  },
  {
   "cell_type": "code",
   "execution_count": null,
   "metadata": {},
   "outputs": [],
   "source": [
    "economic planning (404), corporatism/mixed economy (405), Keynesian demand management (409), nationalization (413), welfare state expansion (504) and labour groups: positive (701)"
   ]
  },
  {
   "cell_type": "code",
   "execution_count": 99,
   "metadata": {},
   "outputs": [
    {
     "data": {
      "text/plain": [
       "['per404',\n",
       " 'per405',\n",
       " 'per409',\n",
       " 'per413',\n",
       " 'per504',\n",
       " 'per701',\n",
       " 'per4131',\n",
       " 'per4132',\n",
       " 'per5041']"
      ]
     },
     "execution_count": 99,
     "metadata": {},
     "output_type": "execute_result"
    }
   ],
   "source": [
    "[x for x in df.columns if any([y in x for y in [\"404\",\"405\",\"409\",\"413\",\"504\",\"701\"]])]"
   ]
  },
  {
   "cell_type": "code",
   "execution_count": null,
   "metadata": {},
   "outputs": [],
   "source": [
    "## reasonable to ask whether this is a 'natural component'\n",
    "## would also create some automatic weightings"
   ]
  },
  {
   "cell_type": "code",
   "execution_count": 224,
   "metadata": {},
   "outputs": [
    {
     "data": {
      "text/plain": [
       "id_perm\n",
       "JN1LZH     0.000\n",
       "CMR7F6    31.100\n",
       "Z6OL6C    14.300\n",
       "YMKVN2     5.300\n",
       "U4SCRD     0.000\n",
       "           ...  \n",
       "FYLAK1    23.135\n",
       "SES5XV    23.986\n",
       "MEH5KV    19.088\n",
       "NU5PXG    13.022\n",
       "VKSFXI    10.569\n",
       "Length: 4492, dtype: float64"
      ]
     },
     "execution_count": 224,
     "metadata": {},
     "output_type": "execute_result"
    }
   ],
   "source": [
    "df[[\"per\"+x for x in [\"404\",\"405\",\"409\",\"413\",\"504\",\"701\"]]].sum(axis=1)"
   ]
  },
  {
   "cell_type": "code",
   "execution_count": 226,
   "metadata": {},
   "outputs": [],
   "source": [
    "manifest_project = df.copy()"
   ]
  },
  {
   "cell_type": "code",
   "execution_count": null,
   "metadata": {},
   "outputs": [],
   "source": [
    "#### European Social Survey\n",
    "\n",
    "# https://www.europeansocialsurvey.org/data/download.html?r=9"
   ]
  },
  {
   "cell_type": "code",
   "execution_count": 227,
   "metadata": {},
   "outputs": [],
   "source": [
    "EuropeanSocialSurvey9_2018_v2_integrated = \"ESS9e02.dta\""
   ]
  },
  {
   "cell_type": "code",
   "execution_count": 228,
   "metadata": {},
   "outputs": [],
   "source": [
    "df = pd.read_stata(dataset_folder+EuropeanSocialSurvey9_2018_v2_integrated,convert_categoricals=False)\n",
    "original_column_order = df.columns\n",
    "\n",
    "columns_with_non_unique_category_labels = [\"edlvdlt\",\"edlvpdlt\",\"isco08\",\"isco08p\", \"edlvfdlt\",\"edlvmdlt\",]\n",
    "\n",
    "df = pd.read_stata(dataset_folder+EuropeanSocialSurvey9_2018_v2_integrated,\n",
    "                   columns=[x for x in original_column_order if x not in columns_with_non_unique_category_labels])\n",
    "\n",
    "object_cols = [\"cntry\",\"ctzshipd\",\"cntbrthd\",\"lnghom1\",\"lnghom2\",\"fbrncntc\",\"mbrncntc\",\"region\",\n",
    "              \"name\",\"edition\",\"proddate\"]\n",
    "\n",
    "df[object_cols] = df[object_cols].astype('category')"
   ]
  },
  {
   "cell_type": "code",
   "execution_count": 229,
   "metadata": {},
   "outputs": [],
   "source": [
    "df[columns_with_non_unique_category_labels] = pd.read_stata(dataset_folder+EuropeanSocialSurvey9_2018_v2_integrated,convert_categoricals=False,\n",
    "              columns=columns_with_non_unique_category_labels)\n",
    "df = df[original_column_order]"
   ]
  },
  {
   "cell_type": "code",
   "execution_count": 230,
   "metadata": {},
   "outputs": [
    {
     "data": {
      "text/plain": [
       "float64    12\n",
       "int16       2\n",
       "int8        1\n",
       "int32       1\n",
       "dtype: int64"
      ]
     },
     "execution_count": 230,
     "metadata": {},
     "output_type": "execute_result"
    }
   ],
   "source": [
    "df.dtypes[df.dtypes!='category'].value_counts()"
   ]
  },
  {
   "cell_type": "code",
   "execution_count": 231,
   "metadata": {},
   "outputs": [],
   "source": [
    "reader = pd.io.stata.StataReader(dataset_folder+EuropeanSocialSurvey9_2018_v2_integrated)\n",
    "\n",
    "header = reader.variable_labels()\n",
    "labels = reader.value_labels()\n",
    "# labelling = labels[\"edlvdlt\"]"
   ]
  },
  {
   "cell_type": "code",
   "execution_count": 232,
   "metadata": {},
   "outputs": [],
   "source": [
    "## For now, I'll assume that the categories are *supposed* to be merged\n",
    "\n",
    "df[columns_with_non_unique_category_labels] = df[columns_with_non_unique_category_labels]\\\n",
    "    .apply(lambda x: x.map(labels[x.name]).astype('category').cat.set_categories(pd.Series(labels[x.name]).unique())  )"
   ]
  },
  {
   "cell_type": "code",
   "execution_count": 201,
   "metadata": {},
   "outputs": [],
   "source": [
    "# [ header[x] for x in columns_with_non_unique_category_labels ]"
   ]
  },
  {
   "cell_type": "code",
   "execution_count": 199,
   "metadata": {
    "scrolled": true
   },
   "outputs": [],
   "source": [
    "#\n",
    "# pd.Series(labels[columns_with_non_unique_category_labels[3]]).value_counts().head(10)"
   ]
  },
  {
   "cell_type": "code",
   "execution_count": 200,
   "metadata": {},
   "outputs": [],
   "source": [
    "# labels[\"edlvdlt\"]"
   ]
  },
  {
   "cell_type": "code",
   "execution_count": 173,
   "metadata": {},
   "outputs": [],
   "source": [
    "# \"edlvdlt\",\"edlvpdlt\",\"edlvfdlt\",\"edlvmdlt\",\n",
    "\n",
    "# Lithuanian higher education variables\n",
    "\n",
    "# level 5 and 6 have the same description\n",
    "\n",
    "# looks like a screwup?\n",
    "# https://www.europeansocialsurvey.org/docs/round9/survey/ESS9_appendix_a1_e02_0.pdf\n",
    "\n",
    "#  5: 'Profesinis, Ä¯gytas po pagrindinio iÅ¡silavinimo baigimo (kai profesinio mokymo',\n",
    "#  6: 'Profesinis, Ä¯gytas po pagrindinio iÅ¡silavinimo baigimo (kai profesinio mokymo',\n",
    "\n",
    "\n",
    "# \"isco08\",\"isco08p\",\n",
    "# Occupation lists - both have these same 9 non-unique strings\n",
    "\n",
    "# Commissioned armed forces officers              2\n",
    "# Agricultural, forestry and fishery labourers    2\n",
    "# Assemblers                                      2\n",
    "# Food preparation assistants                     2\n",
    "# Armed forces occupations, other ranks           2\n",
    "# Police inspectors and detectives                2\n",
    "# Non-commissioned armed forces officers          2\n",
    "# Other clerical support workers                  2\n",
    "# Protective services workers                     2"
   ]
  },
  {
   "cell_type": "code",
   "execution_count": 196,
   "metadata": {},
   "outputs": [],
   "source": []
  },
  {
   "cell_type": "code",
   "execution_count": null,
   "metadata": {},
   "outputs": [],
   "source": []
  },
  {
   "cell_type": "code",
   "execution_count": null,
   "metadata": {},
   "outputs": [],
   "source": []
  },
  {
   "cell_type": "code",
   "execution_count": 133,
   "metadata": {},
   "outputs": [
    {
     "data": {
      "text/html": [
       "<div>\n",
       "<style scoped>\n",
       "    .dataframe tbody tr th:only-of-type {\n",
       "        vertical-align: middle;\n",
       "    }\n",
       "\n",
       "    .dataframe tbody tr th {\n",
       "        vertical-align: top;\n",
       "    }\n",
       "\n",
       "    .dataframe thead th {\n",
       "        text-align: right;\n",
       "    }\n",
       "</style>\n",
       "<table border=\"1\" class=\"dataframe\">\n",
       "  <thead>\n",
       "    <tr style=\"text-align: right;\">\n",
       "      <th></th>\n",
       "      <th>name</th>\n",
       "      <th>edition</th>\n",
       "      <th>proddate</th>\n",
       "      <th>cntry</th>\n",
       "      <th>ctzshipd</th>\n",
       "      <th>cntbrthd</th>\n",
       "      <th>lnghom1</th>\n",
       "      <th>lnghom2</th>\n",
       "      <th>fbrncntc</th>\n",
       "      <th>mbrncntc</th>\n",
       "      <th>region</th>\n",
       "    </tr>\n",
       "  </thead>\n",
       "  <tbody>\n",
       "    <tr>\n",
       "      <th>count</th>\n",
       "      <td>47086</td>\n",
       "      <td>47086</td>\n",
       "      <td>47086</td>\n",
       "      <td>47086</td>\n",
       "      <td>47086</td>\n",
       "      <td>47086</td>\n",
       "      <td>47086</td>\n",
       "      <td>47086</td>\n",
       "      <td>47086</td>\n",
       "      <td>47086</td>\n",
       "      <td>47086</td>\n",
       "    </tr>\n",
       "    <tr>\n",
       "      <th>unique</th>\n",
       "      <td>1</td>\n",
       "      <td>1</td>\n",
       "      <td>1</td>\n",
       "      <td>27</td>\n",
       "      <td>144</td>\n",
       "      <td>182</td>\n",
       "      <td>120</td>\n",
       "      <td>143</td>\n",
       "      <td>181</td>\n",
       "      <td>181</td>\n",
       "      <td>306</td>\n",
       "    </tr>\n",
       "    <tr>\n",
       "      <th>top</th>\n",
       "      <td>ESS9e02</td>\n",
       "      <td>2</td>\n",
       "      <td>15.06.2020</td>\n",
       "      <td>IT</td>\n",
       "      <td>6666</td>\n",
       "      <td>6666</td>\n",
       "      <td>GER</td>\n",
       "      <td>000</td>\n",
       "      <td>6666</td>\n",
       "      <td>6666</td>\n",
       "      <td>ME0</td>\n",
       "    </tr>\n",
       "    <tr>\n",
       "      <th>freq</th>\n",
       "      <td>47086</td>\n",
       "      <td>47086</td>\n",
       "      <td>47086</td>\n",
       "      <td>2745</td>\n",
       "      <td>44802</td>\n",
       "      <td>42419</td>\n",
       "      <td>4694</td>\n",
       "      <td>37138</td>\n",
       "      <td>40609</td>\n",
       "      <td>40776</td>\n",
       "      <td>1200</td>\n",
       "    </tr>\n",
       "  </tbody>\n",
       "</table>\n",
       "</div>"
      ],
      "text/plain": [
       "           name edition    proddate  cntry ctzshipd cntbrthd lnghom1 lnghom2  \\\n",
       "count     47086   47086       47086  47086    47086    47086   47086   47086   \n",
       "unique        1       1           1     27      144      182     120     143   \n",
       "top     ESS9e02       2  15.06.2020     IT     6666     6666     GER     000   \n",
       "freq      47086   47086       47086   2745    44802    42419    4694   37138   \n",
       "\n",
       "       fbrncntc mbrncntc region  \n",
       "count     47086    47086  47086  \n",
       "unique      181      181    306  \n",
       "top        6666     6666    ME0  \n",
       "freq      40609    40776   1200  "
      ]
     },
     "execution_count": 133,
     "metadata": {},
     "output_type": "execute_result"
    }
   ],
   "source": [
    "df[df.columns[df.dtypes=='object']].describe()\n",
    "# dweight\tpspwght\tpweight\tanweight\tprob - look like weights\n",
    "\n",
    "# inwtm - integer with missing value\n",
    "\n",
    "# essround - all == 9\n",
    "# objects - name, edition, proddate - also one unique value\n",
    "# stratum, psu - integers (medium)\n",
    "# idno - unique id? - nope - not unique!"
   ]
  },
  {
   "cell_type": "code",
   "execution_count": 135,
   "metadata": {},
   "outputs": [
    {
     "data": {
      "text/html": [
       "<div>\n",
       "<style scoped>\n",
       "    .dataframe tbody tr th:only-of-type {\n",
       "        vertical-align: middle;\n",
       "    }\n",
       "\n",
       "    .dataframe tbody tr th {\n",
       "        vertical-align: top;\n",
       "    }\n",
       "\n",
       "    .dataframe thead th {\n",
       "        text-align: right;\n",
       "    }\n",
       "</style>\n",
       "<table border=\"1\" class=\"dataframe\">\n",
       "  <thead>\n",
       "    <tr style=\"text-align: right;\">\n",
       "      <th></th>\n",
       "      <th>cntry</th>\n",
       "      <th>ctzshipd</th>\n",
       "      <th>cntbrthd</th>\n",
       "      <th>lnghom1</th>\n",
       "      <th>lnghom2</th>\n",
       "      <th>fbrncntc</th>\n",
       "      <th>mbrncntc</th>\n",
       "      <th>region</th>\n",
       "    </tr>\n",
       "  </thead>\n",
       "  <tbody>\n",
       "    <tr>\n",
       "      <th>count</th>\n",
       "      <td>47086</td>\n",
       "      <td>47086</td>\n",
       "      <td>47086</td>\n",
       "      <td>47086</td>\n",
       "      <td>47086</td>\n",
       "      <td>47086</td>\n",
       "      <td>47086</td>\n",
       "      <td>47086</td>\n",
       "    </tr>\n",
       "    <tr>\n",
       "      <th>unique</th>\n",
       "      <td>27</td>\n",
       "      <td>144</td>\n",
       "      <td>182</td>\n",
       "      <td>120</td>\n",
       "      <td>143</td>\n",
       "      <td>181</td>\n",
       "      <td>181</td>\n",
       "      <td>306</td>\n",
       "    </tr>\n",
       "    <tr>\n",
       "      <th>top</th>\n",
       "      <td>IT</td>\n",
       "      <td>6666</td>\n",
       "      <td>6666</td>\n",
       "      <td>GER</td>\n",
       "      <td>000</td>\n",
       "      <td>6666</td>\n",
       "      <td>6666</td>\n",
       "      <td>ME0</td>\n",
       "    </tr>\n",
       "    <tr>\n",
       "      <th>freq</th>\n",
       "      <td>2745</td>\n",
       "      <td>44802</td>\n",
       "      <td>42419</td>\n",
       "      <td>4694</td>\n",
       "      <td>37138</td>\n",
       "      <td>40609</td>\n",
       "      <td>40776</td>\n",
       "      <td>1200</td>\n",
       "    </tr>\n",
       "  </tbody>\n",
       "</table>\n",
       "</div>"
      ],
      "text/plain": [
       "        cntry ctzshipd cntbrthd lnghom1 lnghom2 fbrncntc mbrncntc region\n",
       "count   47086    47086    47086   47086   47086    47086    47086  47086\n",
       "unique     27      144      182     120     143      181      181    306\n",
       "top        IT     6666     6666     GER     000     6666     6666    ME0\n",
       "freq     2745    44802    42419    4694   37138    40609    40776   1200"
      ]
     },
     "execution_count": 135,
     "metadata": {},
     "output_type": "execute_result"
    }
   ],
   "source": [
    "df[[\"cntry\",\"ctzshipd\",\"cntbrthd\",\"lnghom1\",\"lnghom2\",\"fbrncntc\",\"mbrncntc\",\"region\"]].describe()\n",
    "\n",
    "## all look like country ids/within country regions"
   ]
  },
  {
   "cell_type": "code",
   "execution_count": 142,
   "metadata": {},
   "outputs": [],
   "source": []
  },
  {
   "cell_type": "code",
   "execution_count": null,
   "metadata": {},
   "outputs": [],
   "source": [
    "## income variables\n",
    "\n",
    "# https://www.europeansocialsurvey.org/docs/round9/survey/ESS9_appendix_a2_e02_0.pdf"
   ]
  },
  {
   "cell_type": "code",
   "execution_count": 218,
   "metadata": {},
   "outputs": [
    {
     "data": {
      "text/plain": [
       "[('netusoft', 'Internet use, how often'),\n",
       " ('netustm', 'Internet use, how much time on typical day, in minutes'),\n",
       " ('hinctnta', \"Household's total net income, all sources\"),\n",
       " ('netinum',\n",
       "  'Your usual [weekly/monthly/annual] net [pay/pensions/social benefits]'),\n",
       " ('netilet', 'Which letter describes your net [pay/pensions/social benefits]'),\n",
       " ('netifr',\n",
       "  'Your net [pay/pensions/social benefits] is unfairly low, fair, or unfairly high'),\n",
       " ('frlneti',\n",
       "  'Fair level of [weekly/monthly/annual] net [pay/pensions/social benefits] for yo')]"
      ]
     },
     "execution_count": 218,
     "metadata": {},
     "output_type": "execute_result"
    }
   ],
   "source": [
    "[(x,header[x]) for x in header.keys() if \"net\" in header[x]]"
   ]
  },
  {
   "cell_type": "code",
   "execution_count": 208,
   "metadata": {},
   "outputs": [
    {
     "data": {
      "text/plain": [
       "[('hincsrca', 'Main source of household income'),\n",
       " ('hinctnta', \"Household's total net income, all sources\"),\n",
       " ('hincfel', \"Feeling about household's income nowadays\")]"
      ]
     },
     "execution_count": 208,
     "metadata": {},
     "output_type": "execute_result"
    }
   ],
   "source": [
    "[(x,header[x]) for x in header.keys() if \"hinc\" in x]"
   ]
  },
  {
   "cell_type": "code",
   "execution_count": 210,
   "metadata": {},
   "outputs": [
    {
     "data": {
      "text/plain": [
       "R - 2nd decile     4285\n",
       "M - 4th decile     4227\n",
       "C - 3rd decile     4216\n",
       "F - 5th decile     4022\n",
       "J - 1st decile     3839\n",
       "S - 6th decile     3831\n",
       "K - 7th decile     3777\n",
       "P - 8th decile     3602\n",
       "D - 9th decile     3041\n",
       "H - 10th decile    2873\n",
       "Name: hinctnta, dtype: int64"
      ]
     },
     "execution_count": 210,
     "metadata": {},
     "output_type": "execute_result"
    }
   ],
   "source": [
    "df['hinctnta'].value_counts()"
   ]
  },
  {
   "cell_type": "code",
   "execution_count": 217,
   "metadata": {},
   "outputs": [
    {
     "data": {
      "text/plain": [
       "Wages or salaries                                  26145\n",
       "Pensions                                           13973\n",
       "Income from self-employment (excluding farming)     2515\n",
       "Any other social benefits or grants                 1316\n",
       "Income from other sources                            799\n",
       "Income from farming                                  678\n",
       "Unemployment/redundancy benefit                      668\n",
       "Income from investments, savings etc.                261\n",
       "Name: hincsrca, dtype: int64"
      ]
     },
     "execution_count": 217,
     "metadata": {},
     "output_type": "execute_result"
    }
   ],
   "source": [
    "df['hincsrca'].value_counts()"
   ]
  },
  {
   "cell_type": "code",
   "execution_count": 216,
   "metadata": {},
   "outputs": [
    {
     "data": {
      "text/plain": [
       "Wages or salaries                                  18458\n",
       "Pensions                                            8676\n",
       "No personal income                                  3332\n",
       "Income from self-employment (excluding farming)     1938\n",
       "Any other social benefits or grants                 1354\n",
       "Income from other sources                            739\n",
       "Unemployment/redundancy benefit                      584\n",
       "Income from farming                                  437\n",
       "Income from investments, savings etc.                210\n",
       "Name: iincsrc, dtype: int64"
      ]
     },
     "execution_count": 216,
     "metadata": {},
     "output_type": "execute_result"
    }
   ],
   "source": [
    "df['iincsrc'].value_counts()"
   ]
  },
  {
   "cell_type": "code",
   "execution_count": 219,
   "metadata": {},
   "outputs": [
    {
     "data": {
      "text/plain": [
       "20000.0    789\n",
       "1200.0     737\n",
       "1500.0     725\n",
       "1000.0     701\n",
       "2000.0     668\n",
       "          ... \n",
       "1986.0       1\n",
       "1987.0       1\n",
       "1997.0       1\n",
       "2004.0       1\n",
       "1627.0       1\n",
       "Name: netinum, Length: 2027, dtype: int64"
      ]
     },
     "execution_count": 219,
     "metadata": {},
     "output_type": "execute_result"
    }
   ],
   "source": [
    "df['netinum'].value_counts()"
   ]
  },
  {
   "cell_type": "code",
   "execution_count": 211,
   "metadata": {},
   "outputs": [
    {
     "data": {
      "text/plain": [
       "[('prtvblt1',\n",
       "  'Party voted for in last national election 1, Lithuania (first vote, party)'),\n",
       " ('prtvblt2',\n",
       "  'Party voted for in last national election 2, Lithuania (second vote, party)'),\n",
       " ('prtvblt3',\n",
       "  'Party voted for in last national election 3, Lithuania (third vote, party)'),\n",
       " ('wrkprty', 'Worked in political party or action group last 12 months'),\n",
       " ('clsprty', 'Feel closer to a particular party than all other parties'),\n",
       " ('prtcldat', 'Which party feel closer to, Austria'),\n",
       " ('prtcldbe', 'Which party feel closer to, Belgium'),\n",
       " ('prtcldbg', 'Which party feel closer to, Bulgaria'),\n",
       " ('prtclgch', 'Which party feel closer to, Switzerland'),\n",
       " ('prtclbcy', 'Which party feel closer to, Cyprus'),\n",
       " ('prtclecz', 'Which party feel closer to, Czechia'),\n",
       " ('prtclede', 'Which party feel closer to, Germany'),\n",
       " ('prtclgee', 'Which party feel closer to, Estonia'),\n",
       " ('prtclfes', 'Which party feel closer to, Spain'),\n",
       " ('prtclefi', 'Which party feel closer to, Finland'),\n",
       " ('prtclffr', 'Which party feel closer to, France'),\n",
       " ('prtclcgb', 'Which party feel closer to, United Kingdom'),\n",
       " ('prtclahr', 'Which party feel closer to, Croatia'),\n",
       " ('prtclghu', 'Which party feel closer to, Hungary'),\n",
       " ('prtcleie', 'Which party feel closer to, Ireland'),\n",
       " ('prtcldit', 'Which party feel closer to, Italy'),\n",
       " ('prtclblt', 'Which party feel closer to, Lithuania'),\n",
       " ('prtclalv', 'Which party feel closer to, Latvia'),\n",
       " ('prtclme', 'Which party feel closer to, Montenegro'),\n",
       " ('prtclfnl', 'Which party feel closer to, Netherlands'),\n",
       " ('prtclbno', 'Which party feel closer to, Norway'),\n",
       " ('prtclhpl', 'Which party feel closer to, Poland'),\n",
       " ('prtclept', 'Which party feel closer to, Portugal'),\n",
       " ('prtclrs', 'Which party feel closer to, Serbia'),\n",
       " ('prtclcse', 'Which party feel closer to, Sweden'),\n",
       " ('prtclfsi', 'Which party feel closer to, Slovenia'),\n",
       " ('prtcldsk', 'Which party feel closer to, Slovakia'),\n",
       " ('prtdgcl', 'How close to party')]"
      ]
     },
     "execution_count": 211,
     "metadata": {},
     "output_type": "execute_result"
    }
   ],
   "source": [
    "[(x,header[x]) for x in header.keys() if \"party\" in header[x]]"
   ]
  },
  {
   "cell_type": "code",
   "execution_count": 213,
   "metadata": {},
   "outputs": [
    {
     "data": {
      "text/plain": [
       "[('trstprt', 'Trust in political parties'),\n",
       " ('prtvtcat', 'Party voted for in last national election, Austria'),\n",
       " ('prtvtdbe', 'Party voted for in last national election, Belgium'),\n",
       " ('prtvtdbg', 'Party voted for in last national election, Bulgaria'),\n",
       " ('prtvtgch', 'Party voted for in last national election, Switzerland'),\n",
       " ('prtvtbcy', 'Party voted for in last national election, Cyprus'),\n",
       " ('prtvtecz', 'Party voted for in last national election, Czechia'),\n",
       " ('prtvede1', 'Party voted for in last national election 1, Germany'),\n",
       " ('prtvede2', 'Party voted for in last national election 2, Germany'),\n",
       " ('prtvtgee', 'Party voted for in last national election, Estonia'),\n",
       " ('prtvtees', 'Party voted for in last national election, Spain'),\n",
       " ('prtvtdfi', 'Party voted for in last national election, Finland'),\n",
       " ('prtvtdfr', 'Party voted for in last national election, France (ballot 1)'),\n",
       " ('prtvtcgb', 'Party voted for in last national election, United Kingdom'),\n",
       " ('prtvtahr', 'Party voted for in last national election, Croatia'),\n",
       " ('prtvtfhu', 'Party voted for in last national election, Hungary'),\n",
       " ('prtvtcie',\n",
       "  'Party voted for in last national election, Ireland (derived from 1st preference'),\n",
       " ('prtvtcit', 'Party voted for in last national election, Italy'),\n",
       " ('prtvblt1',\n",
       "  'Party voted for in last national election 1, Lithuania (first vote, party)'),\n",
       " ('prtvblt2',\n",
       "  'Party voted for in last national election 2, Lithuania (second vote, party)'),\n",
       " ('prtvblt3',\n",
       "  'Party voted for in last national election 3, Lithuania (third vote, party)'),\n",
       " ('prtvtalv', 'Party voted for in last national election, Latvia'),\n",
       " ('prtvtme', 'Party voted for in last national election, Montenegro'),\n",
       " ('prtvtgnl', 'Party voted for in last national election, Netherlands'),\n",
       " ('prtvtbno', 'Party voted for in last national election, Norway'),\n",
       " ('prtvtdpl', 'Party voted for in last national election, Poland'),\n",
       " ('prtvtcpt', 'Party voted for in last national election, Portugal'),\n",
       " ('prtvtrs', 'Party voted for in last national election, Serbia'),\n",
       " ('prtvtcse', 'Party voted for in last national election, Sweden'),\n",
       " ('prtvtfsi', 'Party voted for in last national election, Slovenia'),\n",
       " ('prtvtdsk', 'Party voted for in last national election, Slovakia'),\n",
       " ('wrkprty', 'Worked in political party or action group last 12 months'),\n",
       " ('clsprty', 'Feel closer to a particular party than all other parties'),\n",
       " ('prtcldat', 'Which party feel closer to, Austria'),\n",
       " ('prtcldbe', 'Which party feel closer to, Belgium'),\n",
       " ('prtcldbg', 'Which party feel closer to, Bulgaria'),\n",
       " ('prtclgch', 'Which party feel closer to, Switzerland'),\n",
       " ('prtclbcy', 'Which party feel closer to, Cyprus'),\n",
       " ('prtclecz', 'Which party feel closer to, Czechia'),\n",
       " ('prtclede', 'Which party feel closer to, Germany'),\n",
       " ('prtclgee', 'Which party feel closer to, Estonia'),\n",
       " ('prtclfes', 'Which party feel closer to, Spain'),\n",
       " ('prtclefi', 'Which party feel closer to, Finland'),\n",
       " ('prtclffr', 'Which party feel closer to, France'),\n",
       " ('prtclcgb', 'Which party feel closer to, United Kingdom'),\n",
       " ('prtclahr', 'Which party feel closer to, Croatia'),\n",
       " ('prtclghu', 'Which party feel closer to, Hungary'),\n",
       " ('prtcleie', 'Which party feel closer to, Ireland'),\n",
       " ('prtcldit', 'Which party feel closer to, Italy'),\n",
       " ('prtclblt', 'Which party feel closer to, Lithuania'),\n",
       " ('prtclalv', 'Which party feel closer to, Latvia'),\n",
       " ('prtclme', 'Which party feel closer to, Montenegro'),\n",
       " ('prtclfnl', 'Which party feel closer to, Netherlands'),\n",
       " ('prtclbno', 'Which party feel closer to, Norway'),\n",
       " ('prtclhpl', 'Which party feel closer to, Poland'),\n",
       " ('prtclept', 'Which party feel closer to, Portugal'),\n",
       " ('prtclrs', 'Which party feel closer to, Serbia'),\n",
       " ('prtclcse', 'Which party feel closer to, Sweden'),\n",
       " ('prtclfsi', 'Which party feel closer to, Slovenia'),\n",
       " ('prtcldsk', 'Which party feel closer to, Slovakia'),\n",
       " ('prtdgcl', 'How close to party'),\n",
       " ('frprtpl',\n",
       "  'Political system in country ensures everyone fair chance to participate in poli')]"
      ]
     },
     "execution_count": 213,
     "metadata": {},
     "output_type": "execute_result"
    }
   ],
   "source": [
    "[(x,header[x]) for x in header.keys() if \"prt\" in x]\n",
    "\n",
    "# prtv - party voted for\n",
    "# prtcl"
   ]
  },
  {
   "cell_type": "code",
   "execution_count": 236,
   "metadata": {},
   "outputs": [
    {
     "data": {
      "text/plain": [
       "Index(['J - 1st decile', 'R - 2nd decile', 'C - 3rd decile', 'M - 4th decile',\n",
       "       'F - 5th decile', 'S - 6th decile', 'K - 7th decile', 'P - 8th decile',\n",
       "       'D - 9th decile', 'H - 10th decile'],\n",
       "      dtype='object')"
      ]
     },
     "execution_count": 236,
     "metadata": {},
     "output_type": "execute_result"
    }
   ],
   "source": [
    "df['hinctnta'].cat.categories\n",
    "\n",
    "# income deciles *going up*  - J is poorest 10%, H is richest 10%"
   ]
  },
  {
   "cell_type": "code",
   "execution_count": 237,
   "metadata": {},
   "outputs": [],
   "source": [
    "deciles = df['hinctnta'].cat.codes.replace(-1,np.nan)"
   ]
  },
  {
   "cell_type": "code",
   "execution_count": null,
   "metadata": {},
   "outputs": [],
   "source": []
  },
  {
   "cell_type": "code",
   "execution_count": 238,
   "metadata": {},
   "outputs": [],
   "source": [
    "ESS = df.copy()"
   ]
  },
  {
   "cell_type": "code",
   "execution_count": null,
   "metadata": {},
   "outputs": [],
   "source": []
  },
  {
   "cell_type": "code",
   "execution_count": null,
   "metadata": {},
   "outputs": [],
   "source": [
    "### quick, simple version?\n",
    "\n",
    "## use <income decile> x <\n"
   ]
  },
  {
   "cell_type": "code",
   "execution_count": 241,
   "metadata": {},
   "outputs": [
    {
     "data": {
      "text/plain": [
       "[('prtvtcat', 'Party voted for in last national election, Austria'),\n",
       " ('prtvtdbe', 'Party voted for in last national election, Belgium'),\n",
       " ('prtvtdbg', 'Party voted for in last national election, Bulgaria'),\n",
       " ('prtvtgch', 'Party voted for in last national election, Switzerland'),\n",
       " ('prtvtbcy', 'Party voted for in last national election, Cyprus'),\n",
       " ('prtvtecz', 'Party voted for in last national election, Czechia'),\n",
       " ('prtvede1', 'Party voted for in last national election 1, Germany'),\n",
       " ('prtvede2', 'Party voted for in last national election 2, Germany'),\n",
       " ('prtvtgee', 'Party voted for in last national election, Estonia'),\n",
       " ('prtvtees', 'Party voted for in last national election, Spain'),\n",
       " ('prtvtdfi', 'Party voted for in last national election, Finland'),\n",
       " ('prtvtdfr', 'Party voted for in last national election, France (ballot 1)'),\n",
       " ('prtvtcgb', 'Party voted for in last national election, United Kingdom'),\n",
       " ('prtvtahr', 'Party voted for in last national election, Croatia'),\n",
       " ('prtvtfhu', 'Party voted for in last national election, Hungary'),\n",
       " ('prtvtcie',\n",
       "  'Party voted for in last national election, Ireland (derived from 1st preference'),\n",
       " ('prtvtcit', 'Party voted for in last national election, Italy'),\n",
       " ('prtvblt1',\n",
       "  'Party voted for in last national election 1, Lithuania (first vote, party)'),\n",
       " ('prtvblt2',\n",
       "  'Party voted for in last national election 2, Lithuania (second vote, party)'),\n",
       " ('prtvblt3',\n",
       "  'Party voted for in last national election 3, Lithuania (third vote, party)'),\n",
       " ('prtvtalv', 'Party voted for in last national election, Latvia'),\n",
       " ('prtvtme', 'Party voted for in last national election, Montenegro'),\n",
       " ('prtvtgnl', 'Party voted for in last national election, Netherlands'),\n",
       " ('prtvtbno', 'Party voted for in last national election, Norway'),\n",
       " ('prtvtdpl', 'Party voted for in last national election, Poland'),\n",
       " ('prtvtcpt', 'Party voted for in last national election, Portugal'),\n",
       " ('prtvtrs', 'Party voted for in last national election, Serbia'),\n",
       " ('prtvtcse', 'Party voted for in last national election, Sweden'),\n",
       " ('prtvtfsi', 'Party voted for in last national election, Slovenia'),\n",
       " ('prtvtdsk', 'Party voted for in last national election, Slovakia')]"
      ]
     },
     "execution_count": 241,
     "metadata": {},
     "output_type": "execute_result"
    }
   ],
   "source": [
    "[(x,header[x]) for x in header.keys() if \"prtv\" in x]"
   ]
  },
  {
   "cell_type": "code",
   "execution_count": 250,
   "metadata": {},
   "outputs": [],
   "source": [
    "vote_vars = ['prtvtcat',\n",
    " 'prtvtdbe',\n",
    " 'prtvtdbg',\n",
    " 'prtvtgch',\n",
    " 'prtvtbcy',\n",
    " 'prtvtecz',\n",
    "#  'prtvede1',\n",
    " 'prtvede2',\n",
    " 'prtvtgee',\n",
    " 'prtvtees',\n",
    " 'prtvtdfi',\n",
    " 'prtvtdfr',\n",
    " 'prtvtcgb',\n",
    " 'prtvtahr',\n",
    " 'prtvtfhu',\n",
    " 'prtvtcie',\n",
    " 'prtvtcit',\n",
    " 'prtvblt1',\n",
    "#  'prtvblt2',\n",
    "#  'prtvblt3',\n",
    " 'prtvtalv',\n",
    " 'prtvtme',\n",
    " 'prtvtgnl',\n",
    " 'prtvtbno',\n",
    " 'prtvtdpl',\n",
    " 'prtvtcpt',\n",
    " 'prtvtrs',\n",
    " 'prtvtcse',\n",
    " 'prtvtfsi',\n",
    " 'prtvtdsk']"
   ]
  },
  {
   "cell_type": "code",
   "execution_count": 255,
   "metadata": {},
   "outputs": [],
   "source": [
    "\n",
    "votes_country_dict = {x:re.sub(\"Party voted for in last national election\\s?\\d?, \",\"\",header[x])\\\n",
    "                      .replace('France (ballot 1)',\"France\")\\\n",
    "                      .replace('Ireland (derived from 1st preference','Ireland')\\\n",
    "                      .replace('Lithuania (first vote, party)','Lithuania')\n",
    "                      for x in vote_vars}\n"
   ]
  },
  {
   "cell_type": "code",
   "execution_count": 256,
   "metadata": {},
   "outputs": [
    {
     "data": {
      "text/plain": [
       "{'prtvtcat': 'Austria',\n",
       " 'prtvtdbe': 'Belgium',\n",
       " 'prtvtdbg': 'Bulgaria',\n",
       " 'prtvtgch': 'Switzerland',\n",
       " 'prtvtbcy': 'Cyprus',\n",
       " 'prtvtecz': 'Czechia',\n",
       " 'prtvede2': 'Germany',\n",
       " 'prtvtgee': 'Estonia',\n",
       " 'prtvtees': 'Spain',\n",
       " 'prtvtdfi': 'Finland',\n",
       " 'prtvtdfr': 'France',\n",
       " 'prtvtcgb': 'United Kingdom',\n",
       " 'prtvtahr': 'Croatia',\n",
       " 'prtvtfhu': 'Hungary',\n",
       " 'prtvtcie': 'Ireland',\n",
       " 'prtvtcit': 'Italy',\n",
       " 'prtvblt1': 'Lithuania',\n",
       " 'prtvtalv': 'Latvia',\n",
       " 'prtvtme': 'Montenegro',\n",
       " 'prtvtgnl': 'Netherlands',\n",
       " 'prtvtbno': 'Norway',\n",
       " 'prtvtdpl': 'Poland',\n",
       " 'prtvtcpt': 'Portugal',\n",
       " 'prtvtrs': 'Serbia',\n",
       " 'prtvtcse': 'Sweden',\n",
       " 'prtvtfsi': 'Slovenia',\n",
       " 'prtvtdsk': 'Slovakia'}"
      ]
     },
     "execution_count": 256,
     "metadata": {},
     "output_type": "execute_result"
    }
   ],
   "source": [
    "votes_country_dict"
   ]
  },
  {
   "cell_type": "code",
   "execution_count": 258,
   "metadata": {},
   "outputs": [
    {
     "data": {
      "text/plain": [
       "Movimento 5 Stelle          503\n",
       "Partido Democratico (PD)    296\n",
       "Lega Nord                   265\n",
       "Forza Italia                 91\n",
       "Fratelli d'Italia            38\n",
       "Liberi e Uguali              33\n",
       "Altro                        20\n",
       "+ Europa                     13\n",
       "Potere al popolo              9\n",
       "Casapound Italia              5\n",
       "Civia Popolare Lorenzin       5\n",
       "Noi con l'Italia - UDC        2\n",
       "SVP-PATT                      1\n",
       "Italia Europa Insieme         1\n",
       "Name: prtvtcit, dtype: int64"
      ]
     },
     "execution_count": 258,
     "metadata": {},
     "output_type": "execute_result"
    }
   ],
   "source": [
    "ESS['prtvtcit'].value_counts()"
   ]
  },
  {
   "cell_type": "code",
   "execution_count": 266,
   "metadata": {},
   "outputs": [
    {
     "data": {
      "text/plain": [
       "{1: 'Partido Democratico (PD)',\n",
       " 2: '+ Europa',\n",
       " 3: 'Italia Europa Insieme',\n",
       " 4: 'Civia Popolare Lorenzin',\n",
       " 5: 'SVP-PATT',\n",
       " 6: 'Liberi e Uguali',\n",
       " 7: 'Movimento 5 Stelle',\n",
       " 8: 'Forza Italia',\n",
       " 9: 'Lega Nord',\n",
       " 10: \"Fratelli d'Italia\",\n",
       " 11: \"Noi con l'Italia - UDC\",\n",
       " 12: 'Potere al popolo',\n",
       " 13: 'Casapound Italia',\n",
       " 14: 'Altro',\n",
       " 2147483622: 'Not applicable',\n",
       " 2147483623: 'Refusal',\n",
       " 2147483624: \"Don't know\",\n",
       " 2147483625: 'No answer'}"
      ]
     },
     "execution_count": 266,
     "metadata": {},
     "output_type": "execute_result"
    }
   ],
   "source": [
    "labels['prtvtcit']"
   ]
  },
  {
   "cell_type": "code",
   "execution_count": 264,
   "metadata": {},
   "outputs": [
    {
     "data": {
      "text/html": [
       "<div>\n",
       "<style scoped>\n",
       "    .dataframe tbody tr th:only-of-type {\n",
       "        vertical-align: middle;\n",
       "    }\n",
       "\n",
       "    .dataframe tbody tr th {\n",
       "        vertical-align: top;\n",
       "    }\n",
       "\n",
       "    .dataframe thead th {\n",
       "        text-align: right;\n",
       "    }\n",
       "</style>\n",
       "<table border=\"1\" class=\"dataframe\">\n",
       "  <thead>\n",
       "    <tr style=\"text-align: right;\">\n",
       "      <th></th>\n",
       "      <th>edate</th>\n",
       "      <th>party</th>\n",
       "      <th>partyname</th>\n",
       "      <th>partyabbrev</th>\n",
       "      <th>parfam</th>\n",
       "    </tr>\n",
       "    <tr>\n",
       "      <th>id_perm</th>\n",
       "      <th></th>\n",
       "      <th></th>\n",
       "      <th></th>\n",
       "      <th></th>\n",
       "      <th></th>\n",
       "    </tr>\n",
       "  </thead>\n",
       "  <tbody>\n",
       "    <tr>\n",
       "      <th>ZV25YX</th>\n",
       "      <td>2001-05-13</td>\n",
       "      <td>32629</td>\n",
       "      <td>House of Freedom</td>\n",
       "      <td></td>\n",
       "      <td>con conservative</td>\n",
       "    </tr>\n",
       "    <tr>\n",
       "      <th>1GXOM7</th>\n",
       "      <td>2001-05-13</td>\n",
       "      <td>32710</td>\n",
       "      <td>National Alliance</td>\n",
       "      <td>AN</td>\n",
       "      <td>nat nationalist</td>\n",
       "    </tr>\n",
       "    <tr>\n",
       "      <th>IJI9T3</th>\n",
       "      <td>2001-05-13</td>\n",
       "      <td>32720</td>\n",
       "      <td>Northern League</td>\n",
       "      <td>LN</td>\n",
       "      <td>nat nationalist</td>\n",
       "    </tr>\n",
       "    <tr>\n",
       "      <th>TZUW2A</th>\n",
       "      <td>2001-05-13</td>\n",
       "      <td>32901</td>\n",
       "      <td>European Democracy</td>\n",
       "      <td>DE</td>\n",
       "      <td>sip special issue</td>\n",
       "    </tr>\n",
       "    <tr>\n",
       "      <th>23POG9</th>\n",
       "      <td>2001-05-13</td>\n",
       "      <td>32902</td>\n",
       "      <td>List Di Pietro - Italy of Values</td>\n",
       "      <td>IdV</td>\n",
       "      <td>lib liberal</td>\n",
       "    </tr>\n",
       "    <tr>\n",
       "      <th>2OWUUW</th>\n",
       "      <td>2006-04-10</td>\n",
       "      <td>32110</td>\n",
       "      <td>Green Federation</td>\n",
       "      <td>FdV</td>\n",
       "      <td>eco ecologist</td>\n",
       "    </tr>\n",
       "    <tr>\n",
       "      <th>G9G5IU</th>\n",
       "      <td>2006-04-10</td>\n",
       "      <td>32212</td>\n",
       "      <td>Communist Refoundation Party</td>\n",
       "      <td>PRC</td>\n",
       "      <td>lef socialist or other left</td>\n",
       "    </tr>\n",
       "    <tr>\n",
       "      <th>G7MW3V</th>\n",
       "      <td>2006-04-10</td>\n",
       "      <td>32213</td>\n",
       "      <td>Party of Italian Communists</td>\n",
       "      <td>PdCI</td>\n",
       "      <td>lef socialist or other left</td>\n",
       "    </tr>\n",
       "    <tr>\n",
       "      <th>OUX4F8</th>\n",
       "      <td>2006-04-10</td>\n",
       "      <td>32221</td>\n",
       "      <td>Rose in the Fist</td>\n",
       "      <td>RnP</td>\n",
       "      <td>lef socialist or other left</td>\n",
       "    </tr>\n",
       "    <tr>\n",
       "      <th>JH9UUP</th>\n",
       "      <td>2006-04-10</td>\n",
       "      <td>32329</td>\n",
       "      <td>Olive Tree</td>\n",
       "      <td></td>\n",
       "      <td>soc social democratic</td>\n",
       "    </tr>\n",
       "    <tr>\n",
       "      <th>MXCLB6</th>\n",
       "      <td>2006-04-10</td>\n",
       "      <td>32530</td>\n",
       "      <td>Union for Christian and Center Democrats</td>\n",
       "      <td>UDC</td>\n",
       "      <td>chr christian democrat</td>\n",
       "    </tr>\n",
       "    <tr>\n",
       "      <th>91N296</th>\n",
       "      <td>2006-04-10</td>\n",
       "      <td>32610</td>\n",
       "      <td>Go Italy</td>\n",
       "      <td>FI</td>\n",
       "      <td>con conservative</td>\n",
       "    </tr>\n",
       "    <tr>\n",
       "      <th>S1W9C5</th>\n",
       "      <td>2006-04-10</td>\n",
       "      <td>32611</td>\n",
       "      <td>New Italian Socialist Party</td>\n",
       "      <td>NPSI</td>\n",
       "      <td>con conservative</td>\n",
       "    </tr>\n",
       "    <tr>\n",
       "      <th>H82487</th>\n",
       "      <td>2006-04-10</td>\n",
       "      <td>32710</td>\n",
       "      <td>National Alliance</td>\n",
       "      <td>AN</td>\n",
       "      <td>nat nationalist</td>\n",
       "    </tr>\n",
       "    <tr>\n",
       "      <th>B9QUU3</th>\n",
       "      <td>2006-04-10</td>\n",
       "      <td>32720</td>\n",
       "      <td>Northern League</td>\n",
       "      <td>LN</td>\n",
       "      <td>nat nationalist</td>\n",
       "    </tr>\n",
       "    <tr>\n",
       "      <th>1TJ8E8</th>\n",
       "      <td>2006-04-10</td>\n",
       "      <td>32902</td>\n",
       "      <td>List Di Pietro - Italy of Values</td>\n",
       "      <td>IdV</td>\n",
       "      <td>lib liberal</td>\n",
       "    </tr>\n",
       "    <tr>\n",
       "      <th>PX9V18</th>\n",
       "      <td>2006-04-10</td>\n",
       "      <td>32903</td>\n",
       "      <td>Autonomy Liberty Democracy (Aosta Valley)</td>\n",
       "      <td>ALD</td>\n",
       "      <td>eth ethnic-regional</td>\n",
       "    </tr>\n",
       "    <tr>\n",
       "      <th>2AXZ12</th>\n",
       "      <td>2006-04-10</td>\n",
       "      <td>32904</td>\n",
       "      <td>South Tyrolean People’s Party</td>\n",
       "      <td>SVP</td>\n",
       "      <td>eth ethnic-regional</td>\n",
       "    </tr>\n",
       "    <tr>\n",
       "      <th>8TFBK2</th>\n",
       "      <td>2006-04-10</td>\n",
       "      <td>32952</td>\n",
       "      <td>Italy in the World</td>\n",
       "      <td>InM</td>\n",
       "      <td>sip special issue</td>\n",
       "    </tr>\n",
       "    <tr>\n",
       "      <th>BBI3LC</th>\n",
       "      <td>2006-04-10</td>\n",
       "      <td>32953</td>\n",
       "      <td>Popular Democratic Union for Europe</td>\n",
       "      <td>P-UDEUR</td>\n",
       "      <td>sip special issue</td>\n",
       "    </tr>\n",
       "    <tr>\n",
       "      <th>YPAM95</th>\n",
       "      <td>2006-04-10</td>\n",
       "      <td>32955</td>\n",
       "      <td>The Union – Prodi</td>\n",
       "      <td></td>\n",
       "      <td>sip special issue</td>\n",
       "    </tr>\n",
       "    <tr>\n",
       "      <th>X9HJ8O</th>\n",
       "      <td>2008-04-13</td>\n",
       "      <td>32061</td>\n",
       "      <td>People of Freedom</td>\n",
       "      <td>PdL</td>\n",
       "      <td>con conservative</td>\n",
       "    </tr>\n",
       "    <tr>\n",
       "      <th>QGDUVC</th>\n",
       "      <td>2008-04-13</td>\n",
       "      <td>32440</td>\n",
       "      <td>Democratic Party</td>\n",
       "      <td>PD</td>\n",
       "      <td>soc social democratic</td>\n",
       "    </tr>\n",
       "    <tr>\n",
       "      <th>RLU1F2</th>\n",
       "      <td>2008-04-13</td>\n",
       "      <td>32530</td>\n",
       "      <td>Union of the Center</td>\n",
       "      <td>UdC</td>\n",
       "      <td>chr christian democrat</td>\n",
       "    </tr>\n",
       "    <tr>\n",
       "      <th>P6SR2K</th>\n",
       "      <td>2008-04-13</td>\n",
       "      <td>32720</td>\n",
       "      <td>Northern League</td>\n",
       "      <td>LN</td>\n",
       "      <td>nat nationalist</td>\n",
       "    </tr>\n",
       "    <tr>\n",
       "      <th>ZFH6R5</th>\n",
       "      <td>2008-04-13</td>\n",
       "      <td>32902</td>\n",
       "      <td>List Di Pietro - Italy of Values</td>\n",
       "      <td>IdV</td>\n",
       "      <td>lib liberal</td>\n",
       "    </tr>\n",
       "    <tr>\n",
       "      <th>U6ZCLP</th>\n",
       "      <td>2013-02-24</td>\n",
       "      <td>32021</td>\n",
       "      <td>Civil Revolution</td>\n",
       "      <td>RC</td>\n",
       "      <td>lef socialist or other left</td>\n",
       "    </tr>\n",
       "    <tr>\n",
       "      <th>P5HEGQ</th>\n",
       "      <td>2013-02-24</td>\n",
       "      <td>32061</td>\n",
       "      <td>People of Freedom</td>\n",
       "      <td>PdL</td>\n",
       "      <td>con conservative</td>\n",
       "    </tr>\n",
       "    <tr>\n",
       "      <th>A7W1OL</th>\n",
       "      <td>2013-02-24</td>\n",
       "      <td>32230</td>\n",
       "      <td>Left Ecology Freedom</td>\n",
       "      <td>SEL</td>\n",
       "      <td>lef socialist or other left</td>\n",
       "    </tr>\n",
       "    <tr>\n",
       "      <th>NPK2B4</th>\n",
       "      <td>2013-02-24</td>\n",
       "      <td>32440</td>\n",
       "      <td>Democratic Party</td>\n",
       "      <td>PD</td>\n",
       "      <td>soc social democratic</td>\n",
       "    </tr>\n",
       "    <tr>\n",
       "      <th>LCGE5Y</th>\n",
       "      <td>2013-02-24</td>\n",
       "      <td>32450</td>\n",
       "      <td>Democratic Centre</td>\n",
       "      <td>CD</td>\n",
       "      <td>lib liberal</td>\n",
       "    </tr>\n",
       "    <tr>\n",
       "      <th>PAUBGH</th>\n",
       "      <td>2013-02-24</td>\n",
       "      <td>32460</td>\n",
       "      <td>Civic Choice</td>\n",
       "      <td>SC</td>\n",
       "      <td>lib liberal</td>\n",
       "    </tr>\n",
       "    <tr>\n",
       "      <th>WG5O5N</th>\n",
       "      <td>2013-02-24</td>\n",
       "      <td>32530</td>\n",
       "      <td>Union of the Center</td>\n",
       "      <td>UdC</td>\n",
       "      <td>chr christian democrat</td>\n",
       "    </tr>\n",
       "    <tr>\n",
       "      <th>TAY457</th>\n",
       "      <td>2013-02-24</td>\n",
       "      <td>32630</td>\n",
       "      <td>Brothers of Italy - National Centre-right</td>\n",
       "      <td>FDI-CDN</td>\n",
       "      <td>con conservative</td>\n",
       "    </tr>\n",
       "    <tr>\n",
       "      <th>3EQQON</th>\n",
       "      <td>2013-02-24</td>\n",
       "      <td>32640</td>\n",
       "      <td>Labour and Freedom List</td>\n",
       "      <td>3L</td>\n",
       "      <td>con conservative</td>\n",
       "    </tr>\n",
       "    <tr>\n",
       "      <th>U144SO</th>\n",
       "      <td>2013-02-24</td>\n",
       "      <td>32720</td>\n",
       "      <td>Northern League</td>\n",
       "      <td>LN</td>\n",
       "      <td>nat nationalist</td>\n",
       "    </tr>\n",
       "    <tr>\n",
       "      <th>TFZ9QC</th>\n",
       "      <td>2013-02-24</td>\n",
       "      <td>32904</td>\n",
       "      <td>South Tyrolean People’s Party</td>\n",
       "      <td>SVP</td>\n",
       "      <td>eth ethnic-regional</td>\n",
       "    </tr>\n",
       "    <tr>\n",
       "      <th>O5U7T5</th>\n",
       "      <td>2013-02-24</td>\n",
       "      <td>32906</td>\n",
       "      <td>Autonomy Progress Federalism Aosta Valley</td>\n",
       "      <td></td>\n",
       "      <td>eth ethnic-regional</td>\n",
       "    </tr>\n",
       "    <tr>\n",
       "      <th>RIYL35</th>\n",
       "      <td>2013-02-24</td>\n",
       "      <td>32956</td>\n",
       "      <td>Five Star Movement</td>\n",
       "      <td>M5S</td>\n",
       "      <td>sip special issue</td>\n",
       "    </tr>\n",
       "    <tr>\n",
       "      <th>NM99DB</th>\n",
       "      <td>2018-03-04</td>\n",
       "      <td>32022</td>\n",
       "      <td>Italy Europe Together</td>\n",
       "      <td>I</td>\n",
       "      <td>lef socialist or other left</td>\n",
       "    </tr>\n",
       "    <tr>\n",
       "      <th>R8HU9H</th>\n",
       "      <td>2018-03-04</td>\n",
       "      <td>32031</td>\n",
       "      <td>Free and Equal</td>\n",
       "      <td>LeU</td>\n",
       "      <td>soc social democratic</td>\n",
       "    </tr>\n",
       "    <tr>\n",
       "      <th>UCIS7Z</th>\n",
       "      <td>2018-03-04</td>\n",
       "      <td>32051</td>\n",
       "      <td>Popular Civic List</td>\n",
       "      <td>CP</td>\n",
       "      <td>chr christian democrat</td>\n",
       "    </tr>\n",
       "    <tr>\n",
       "      <th>YJ5K2Y</th>\n",
       "      <td>2018-03-04</td>\n",
       "      <td>32055</td>\n",
       "      <td>Us with Italy</td>\n",
       "      <td>NcL</td>\n",
       "      <td>chr christian democrat</td>\n",
       "    </tr>\n",
       "    <tr>\n",
       "      <th>1LQ7BG</th>\n",
       "      <td>2018-03-04</td>\n",
       "      <td>32090</td>\n",
       "      <td>Coalition of South Tyrolean People’s Party and...</td>\n",
       "      <td>SVP-PATT</td>\n",
       "      <td>eth ethnic-regional</td>\n",
       "    </tr>\n",
       "    <tr>\n",
       "      <th>ENMQC6</th>\n",
       "      <td>2018-03-04</td>\n",
       "      <td>32440</td>\n",
       "      <td>Democratic Party</td>\n",
       "      <td>PD</td>\n",
       "      <td>soc social democratic</td>\n",
       "    </tr>\n",
       "    <tr>\n",
       "      <th>2Y1XDP</th>\n",
       "      <td>2018-03-04</td>\n",
       "      <td>32451</td>\n",
       "      <td>More Europe</td>\n",
       "      <td>E</td>\n",
       "      <td>lib liberal</td>\n",
       "    </tr>\n",
       "    <tr>\n",
       "      <th>KA1FM1</th>\n",
       "      <td>2018-03-04</td>\n",
       "      <td>32610</td>\n",
       "      <td>Go Italy</td>\n",
       "      <td>FI</td>\n",
       "      <td>con conservative</td>\n",
       "    </tr>\n",
       "    <tr>\n",
       "      <th>O5W4K9</th>\n",
       "      <td>2018-03-04</td>\n",
       "      <td>32630</td>\n",
       "      <td>Brothers of Italy</td>\n",
       "      <td>FDI</td>\n",
       "      <td>con conservative</td>\n",
       "    </tr>\n",
       "    <tr>\n",
       "      <th>LYQFIO</th>\n",
       "      <td>2018-03-04</td>\n",
       "      <td>32720</td>\n",
       "      <td>League</td>\n",
       "      <td>L</td>\n",
       "      <td>nat nationalist</td>\n",
       "    </tr>\n",
       "    <tr>\n",
       "      <th>HBKQST</th>\n",
       "      <td>2018-03-04</td>\n",
       "      <td>32956</td>\n",
       "      <td>Five Star Movement</td>\n",
       "      <td>M5S</td>\n",
       "      <td>sip special issue</td>\n",
       "    </tr>\n",
       "  </tbody>\n",
       "</table>\n",
       "</div>"
      ],
      "text/plain": [
       "             edate  party                                          partyname  \\\n",
       "id_perm                                                                        \n",
       "ZV25YX  2001-05-13  32629                                   House of Freedom   \n",
       "1GXOM7  2001-05-13  32710                                  National Alliance   \n",
       "IJI9T3  2001-05-13  32720                                    Northern League   \n",
       "TZUW2A  2001-05-13  32901                                 European Democracy   \n",
       "23POG9  2001-05-13  32902                   List Di Pietro - Italy of Values   \n",
       "2OWUUW  2006-04-10  32110                                   Green Federation   \n",
       "G9G5IU  2006-04-10  32212                       Communist Refoundation Party   \n",
       "G7MW3V  2006-04-10  32213                        Party of Italian Communists   \n",
       "OUX4F8  2006-04-10  32221                                   Rose in the Fist   \n",
       "JH9UUP  2006-04-10  32329                                         Olive Tree   \n",
       "MXCLB6  2006-04-10  32530           Union for Christian and Center Democrats   \n",
       "91N296  2006-04-10  32610                                           Go Italy   \n",
       "S1W9C5  2006-04-10  32611                        New Italian Socialist Party   \n",
       "H82487  2006-04-10  32710                                  National Alliance   \n",
       "B9QUU3  2006-04-10  32720                                    Northern League   \n",
       "1TJ8E8  2006-04-10  32902                   List Di Pietro - Italy of Values   \n",
       "PX9V18  2006-04-10  32903          Autonomy Liberty Democracy (Aosta Valley)   \n",
       "2AXZ12  2006-04-10  32904                      South Tyrolean People’s Party   \n",
       "8TFBK2  2006-04-10  32952                                 Italy in the World   \n",
       "BBI3LC  2006-04-10  32953                Popular Democratic Union for Europe   \n",
       "YPAM95  2006-04-10  32955                                  The Union – Prodi   \n",
       "X9HJ8O  2008-04-13  32061                                  People of Freedom   \n",
       "QGDUVC  2008-04-13  32440                                   Democratic Party   \n",
       "RLU1F2  2008-04-13  32530                                Union of the Center   \n",
       "P6SR2K  2008-04-13  32720                                    Northern League   \n",
       "ZFH6R5  2008-04-13  32902                   List Di Pietro - Italy of Values   \n",
       "U6ZCLP  2013-02-24  32021                                   Civil Revolution   \n",
       "P5HEGQ  2013-02-24  32061                                  People of Freedom   \n",
       "A7W1OL  2013-02-24  32230                               Left Ecology Freedom   \n",
       "NPK2B4  2013-02-24  32440                                   Democratic Party   \n",
       "LCGE5Y  2013-02-24  32450                                  Democratic Centre   \n",
       "PAUBGH  2013-02-24  32460                                       Civic Choice   \n",
       "WG5O5N  2013-02-24  32530                                Union of the Center   \n",
       "TAY457  2013-02-24  32630          Brothers of Italy - National Centre-right   \n",
       "3EQQON  2013-02-24  32640                            Labour and Freedom List   \n",
       "U144SO  2013-02-24  32720                                    Northern League   \n",
       "TFZ9QC  2013-02-24  32904                      South Tyrolean People’s Party   \n",
       "O5U7T5  2013-02-24  32906          Autonomy Progress Federalism Aosta Valley   \n",
       "RIYL35  2013-02-24  32956                                 Five Star Movement   \n",
       "NM99DB  2018-03-04  32022                              Italy Europe Together   \n",
       "R8HU9H  2018-03-04  32031                                     Free and Equal   \n",
       "UCIS7Z  2018-03-04  32051                                 Popular Civic List   \n",
       "YJ5K2Y  2018-03-04  32055                                      Us with Italy   \n",
       "1LQ7BG  2018-03-04  32090  Coalition of South Tyrolean People’s Party and...   \n",
       "ENMQC6  2018-03-04  32440                                   Democratic Party   \n",
       "2Y1XDP  2018-03-04  32451                                        More Europe   \n",
       "KA1FM1  2018-03-04  32610                                           Go Italy   \n",
       "O5W4K9  2018-03-04  32630                                  Brothers of Italy   \n",
       "LYQFIO  2018-03-04  32720                                             League   \n",
       "HBKQST  2018-03-04  32956                                 Five Star Movement   \n",
       "\n",
       "        partyabbrev                       parfam  \n",
       "id_perm                                           \n",
       "ZV25YX                          con conservative  \n",
       "1GXOM7           AN              nat nationalist  \n",
       "IJI9T3           LN              nat nationalist  \n",
       "TZUW2A           DE            sip special issue  \n",
       "23POG9          IdV                  lib liberal  \n",
       "2OWUUW          FdV                eco ecologist  \n",
       "G9G5IU          PRC  lef socialist or other left  \n",
       "G7MW3V         PdCI  lef socialist or other left  \n",
       "OUX4F8          RnP  lef socialist or other left  \n",
       "JH9UUP                     soc social democratic  \n",
       "MXCLB6          UDC       chr christian democrat  \n",
       "91N296           FI             con conservative  \n",
       "S1W9C5         NPSI             con conservative  \n",
       "H82487           AN              nat nationalist  \n",
       "B9QUU3           LN              nat nationalist  \n",
       "1TJ8E8          IdV                  lib liberal  \n",
       "PX9V18          ALD          eth ethnic-regional  \n",
       "2AXZ12          SVP          eth ethnic-regional  \n",
       "8TFBK2          InM            sip special issue  \n",
       "BBI3LC      P-UDEUR            sip special issue  \n",
       "YPAM95                         sip special issue  \n",
       "X9HJ8O          PdL             con conservative  \n",
       "QGDUVC           PD        soc social democratic  \n",
       "RLU1F2          UdC       chr christian democrat  \n",
       "P6SR2K           LN              nat nationalist  \n",
       "ZFH6R5          IdV                  lib liberal  \n",
       "U6ZCLP           RC  lef socialist or other left  \n",
       "P5HEGQ          PdL             con conservative  \n",
       "A7W1OL          SEL  lef socialist or other left  \n",
       "NPK2B4           PD        soc social democratic  \n",
       "LCGE5Y           CD                  lib liberal  \n",
       "PAUBGH           SC                  lib liberal  \n",
       "WG5O5N          UdC       chr christian democrat  \n",
       "TAY457      FDI-CDN             con conservative  \n",
       "3EQQON           3L             con conservative  \n",
       "U144SO           LN              nat nationalist  \n",
       "TFZ9QC          SVP          eth ethnic-regional  \n",
       "O5U7T5                       eth ethnic-regional  \n",
       "RIYL35          M5S            sip special issue  \n",
       "NM99DB            I  lef socialist or other left  \n",
       "R8HU9H          LeU        soc social democratic  \n",
       "UCIS7Z           CP       chr christian democrat  \n",
       "YJ5K2Y          NcL       chr christian democrat  \n",
       "1LQ7BG     SVP-PATT          eth ethnic-regional  \n",
       "ENMQC6           PD        soc social democratic  \n",
       "2Y1XDP            E                  lib liberal  \n",
       "KA1FM1           FI             con conservative  \n",
       "O5W4K9          FDI             con conservative  \n",
       "LYQFIO            L              nat nationalist  \n",
       "HBKQST          M5S            sip special issue  "
      ]
     },
     "execution_count": 264,
     "metadata": {},
     "output_type": "execute_result"
    }
   ],
   "source": [
    "manifest_project[ manifest_project[\"countryname\"]==\"Italy\" ][[\"edate\",\"party\",\"partyname\",\"partyabbrev\",\"parfam\"]].drop_duplicates().tail(50)"
   ]
  },
  {
   "cell_type": "code",
   "execution_count": 272,
   "metadata": {},
   "outputs": [
    {
     "data": {
      "text/plain": [
       "{'Austria': ['Ã\\x96VP', 'SPÃ\\x96', 'FPÃ\\x96', 'GrÃ¼ne'],\n",
       " 'Belgium': ['N-VA', 'PS', 'CD&V', 'MR'],\n",
       " 'Bulgaria': ['Grazhdani za evropeiÌ\\x86sko razvitie na Bulgariya (GERB)',\n",
       "  'Balgarska sotsialisticheska partiya (BSP)',\n",
       "  'Dvizhenie za prava i svobodi (DPS)'],\n",
       " 'Switzerland': ['Social Democratic Party / Socialist Party',\n",
       "  'FDP. The Liberals',\n",
       "  \"Swiss People's Party\"],\n",
       " 'Cyprus': ['Democratic Rally (DISY)'],\n",
       " 'Czechia': ['ANO 2011',\n",
       "  'ODS',\n",
       "  'Ä\\x8cSSD',\n",
       "  'Ä\\x8ceskÃ¡ pirÃ¡tskÃ¡ strana',\n",
       "  'KSÄ\\x8cM'],\n",
       " 'Germany': ['Christian Democratic Union/Christian Social Union (CDU/CSU)',\n",
       "  'Social Democratic Party (SPD)',\n",
       "  'Alliance 90/The Greens (BÃ¼ndnis 90/Die GrÃ¼nen)',\n",
       "  'Free Democratic Party (FDP)',\n",
       "  'The Left (Die Linke)',\n",
       "  'Alternative for Germany (AFD)'],\n",
       " 'Estonia': ['Eesti Reformierakond',\n",
       "  'Eesti Keskerakond',\n",
       "  'Sotsiaaldemokraatlik Erakond',\n",
       "  'Erakond Isamaa ja Res Publica Liit'],\n",
       " 'Spain': ['PSOE', 'PP', 'Unidas Podemos', 'VOX'],\n",
       " 'Finland': ['The National Coalition Party',\n",
       "  'The Centre Party',\n",
       "  'Social Democratic Party',\n",
       "  'Green League',\n",
       "  'True Finns'],\n",
       " 'France': ['LREM (LA RÃ\\x89PUBLIQUE EN MARCHE)',\n",
       "  'LR (LES RÃ\\x89PUBLICAINS)',\n",
       "  'PS (Parti Socialiste)',\n",
       "  'FN (Front National)'],\n",
       " 'United Kingdom': ['Conservative', 'Labour', 'Liberal Democrat'],\n",
       " 'Croatia': ['Narodna koalicija - SDP, HNS, HSU, HSS',\n",
       "  'Hrvatska demokratska zajednica (HDZ)'],\n",
       " 'Hungary': ['Fidesz (Fidesz Magyar PolgÃ¡ri PÃ¡rt)',\n",
       "  'Jobbik (Jobbik MagyarorszÃ¡gÃ©rt Mozgalom)',\n",
       "  'MSZP (Magyar Szocialista PÃ¡rt)'],\n",
       " 'Ireland': ['Fine Gael', 'Fianna FÃ¡il', 'Independent', 'Sinn FÃ©in'],\n",
       " 'Italy': ['Movimento 5 Stelle', 'Partido Democratico (PD)', 'Lega Nord'],\n",
       " 'Lithuania': ['Lithuanian Peasant and Greens Union (LVZS)',\n",
       "  'Homeland Union - Lithuanian Christian Democrats (TS-LKD)',\n",
       "  'Lithuanian Social Democratic Party (LSDP)'],\n",
       " 'Latvia': [],\n",
       " 'Montenegro': ['DPS - Milo Ä\\x90ukanoviÄ\\x87'],\n",
       " 'Netherlands': [\"People's Party for Freedom and Democracy\",\n",
       "  \"Democrats '66\",\n",
       "  'Green Left',\n",
       "  'Christian Democratic Appeal'],\n",
       " 'Norway': ['HÃ¸yre', 'Arbeiderpartiet', 'Fremskrittspartiet'],\n",
       " 'Poland': ['Prawo i SprawiedliwoÅ\\x9bÄ\\x87', 'Platforma Obywatelska'],\n",
       " 'Portugal': ['PS - Partido Socialista',\n",
       "  'PPD-PSD/CDS-PP - Portugal Ã\\xa0 Frente'],\n",
       " 'Serbia': ['Aleksandar VuÄ\\x8diÄ\\x87-Srbija pobeÄ\\x91uje'],\n",
       " 'Sweden': ['Socialdemokraterna',\n",
       "  'Moderata samlingspartiet',\n",
       "  'Centern',\n",
       "  'Sverigedemokraterna',\n",
       "  'VÃ¤nsterpartiet'],\n",
       " 'Slovenia': ['SDS - Slovenska demokratska stranka',\n",
       "  'LMÅ\\xa0 - Lista Marjana Å\\xa0arca'],\n",
       " 'Slovakia': ['Smer â\\x80\\x93 SD']}"
      ]
     },
     "execution_count": 272,
     "metadata": {},
     "output_type": "execute_result"
    }
   ],
   "source": [
    "big_parties_by_country_dict = {}\n",
    "for vote_var in votes_country_dict.keys():\n",
    "    big_parties_by_country_dict[ votes_country_dict[vote_var] ] = list(ESS[vote_var].value_counts()[ESS[vote_var].value_counts()>=100].index)\n",
    "big_parties_by_country_dict"
   ]
  },
  {
   "cell_type": "code",
   "execution_count": 291,
   "metadata": {},
   "outputs": [],
   "source": [
    "\n",
    "\n",
    "# pd.Series(flatten([x for x in big_parties_by_country_dict.values()])).values"
   ]
  },
  {
   "cell_type": "code",
   "execution_count": 305,
   "metadata": {},
   "outputs": [],
   "source": [
    "ESS_big_parties_to_CMP_parties = {'Ã\\x96VP':42520, 'SPÃ\\x96':42320, 'FPÃ\\x96':42420, 'GrÃ¼ne':42110,#Austria\n",
    " 'N-VA':21916, 'PS':21322, 'CD&V':21521,  'MR':21426,#Belgium\n",
    " 'Grazhdani za evropeiÌ\\x86sko razvitie na Bulgariya (GERB)':80510,\n",
    "       'Balgarska sotsialisticheska partiya (BSP)':80220,\n",
    "       'Dvizhenie za prava i svobodi (DPS)':80951,#Bulgaria \n",
    "       'Social Democratic Party / Socialist Party':43320, 'FDP. The Liberals':43420,\n",
    "           \"Swiss People's Party\":43810,#Swizterland\n",
    "       'Democratic Rally (DISY)':55711,#Cyprus\n",
    "       'ANO 2011':82430,'ODS':82413, 'Ä\\x8cSSD':82320,\n",
    "         'Ä\\x8ceskÃ¡ pirÃ¡tskÃ¡ strana':82953, 'KSÄ\\x8cM':82220,#Czechia\n",
    "       'Christian Democratic Union/Christian Social Union (CDU/CSU)':41521,\n",
    "           'Social Democratic Party (SPD)':41320,\n",
    "           'Alliance 90/The Greens (BÃ¼ndnis 90/Die GrÃ¼nen)':41113,\n",
    "           'Free Democratic Party (FDP)':41420, 'The Left (Die Linke)':41223,\n",
    "           'Alternative for Germany (AFD)':41953,#Germany\n",
    "       'Eesti Reformierakond':83430,\n",
    "       'Eesti Keskerakond':83411, 'Sotsiaaldemokraatlik Erakond':83410,\n",
    "       'Erakond Isamaa ja Res Publica Liit':83611,#Estonia\n",
    "       'PSOE':33320, 'PP':33610,'Unidas Podemos':33210, 'VOX':np.nan,#Spain\n",
    "       'The National Coalition Party':14620,\n",
    "           'The Centre Party':14810, 'Social Democratic Party':14320, 'Green League':14110,\n",
    "           'True Finns':14820,#Finland\n",
    "     'LREM (LA RÃ\\x89PUBLIQUE EN MARCHE)':31425,\n",
    "       'LR (LES RÃ\\x89PUBLICAINS)':31626, 'PS (Parti Socialiste)':31320,\n",
    "       'FN (Front National)':31720,#France\n",
    "         'Conservative':51620, 'Labour':51320, 'Liberal Democrat':51421,#United Kingdom\n",
    " 'Narodna koalicija - SDP, HNS, HSU, HSS':81032,  'Hrvatska demokratska zajednica (HDZ)':81711,#Croatia\n",
    "       'Fidesz (Fidesz Magyar PolgÃ¡ri PÃ¡rt)':86421,\n",
    "       'Jobbik (Jobbik MagyarorszÃ¡gÃ©rt Mozgalom)':86710,\n",
    "       'MSZP (Magyar Szocialista PÃ¡rt)':86320,#Hungary\n",
    " 'Fine Gael':53520, 'Fianna FÃ¡il':53620,\n",
    "       'Independent':53981, 'Sinn FÃ©in':53951,#Ireland\n",
    " 'Movimento 5 Stelle':32956,\n",
    "       'Partido Democratico (PD)':32440, 'Lega Nord':32720,#Italy\n",
    "       'Lithuanian Peasant and Greens Union (LVZS)':88820,\n",
    "       'Homeland Union - Lithuanian Christian Democrats (TS-LKD)':88621,\n",
    "       'Lithuanian Social Democratic Party (LSDP)':88320,#Lithuania\n",
    " \n",
    "       'DPS - Milo Ä\\x90ukanoviÄ\\x87':91220,#Montenegro\n",
    " \n",
    "       \"People's Party for Freedom and Democracy\":22955, \"Democrats '66\":22330,\n",
    "       'Green Left':22110, 'Christian Democratic Appeal':22521,#Netherlands\n",
    " 'HÃ¸yre':12620,\n",
    "       'Arbeiderpartiet':12320, 'Fremskrittspartiet':12951,#Norway\n",
    "       'Prawo i SprawiedliwoÅ\\x9bÄ\\x87':92436, 'Platforma Obywatelska':92435,#Poland\n",
    "       'PS - Partido Socialista':35311,\n",
    "       'PPD-PSD/CDS-PP - Portugal Ã\\xa0 Frente':35313,#Portugal\n",
    "       'Aleksandar VuÄ\\x8diÄ\\x87-Srbija pobeÄ\\x91uje':95071,#Serbia\n",
    "       'Socialdemokraterna':11320, 'Moderata samlingspartiet':11620, 'Centern':11810,\n",
    "       'Sverigedemokraterna':11710, 'VÃ¤nsterpartiet':11220,#Sweden\n",
    "       'SDS - Slovenska demokratska stranka':97330,\n",
    "       'LMÅ\\xa0 - Lista Marjana Å\\xa0arca':np.nan,#Slovenia\n",
    " 'Smer â\\x80\\x93 SD':96423#Slovakia]\n",
    "}"
   ]
  },
  {
   "cell_type": "code",
   "execution_count": null,
   "metadata": {},
   "outputs": [],
   "source": []
  },
  {
   "cell_type": "code",
   "execution_count": 290,
   "metadata": {},
   "outputs": [
    {
     "data": {
      "text/html": [
       "<div>\n",
       "<style scoped>\n",
       "    .dataframe tbody tr th:only-of-type {\n",
       "        vertical-align: middle;\n",
       "    }\n",
       "\n",
       "    .dataframe tbody tr th {\n",
       "        vertical-align: top;\n",
       "    }\n",
       "\n",
       "    .dataframe thead th {\n",
       "        text-align: right;\n",
       "    }\n",
       "</style>\n",
       "<table border=\"1\" class=\"dataframe\">\n",
       "  <thead>\n",
       "    <tr style=\"text-align: right;\">\n",
       "      <th></th>\n",
       "      <th>edate</th>\n",
       "      <th>party</th>\n",
       "      <th>partyname</th>\n",
       "      <th>partyabbrev</th>\n",
       "      <th>parfam</th>\n",
       "    </tr>\n",
       "  </thead>\n",
       "  <tbody>\n",
       "    <tr>\n",
       "      <th>count</th>\n",
       "      <td>178</td>\n",
       "      <td>178.000000</td>\n",
       "      <td>178</td>\n",
       "      <td>178</td>\n",
       "      <td>178</td>\n",
       "    </tr>\n",
       "    <tr>\n",
       "      <th>unique</th>\n",
       "      <td>19</td>\n",
       "      <td>NaN</td>\n",
       "      <td>64</td>\n",
       "      <td>57</td>\n",
       "      <td>9</td>\n",
       "    </tr>\n",
       "    <tr>\n",
       "      <th>top</th>\n",
       "      <td>2006-04-10 00:00:00</td>\n",
       "      <td>NaN</td>\n",
       "      <td>Christian Democrats</td>\n",
       "      <td>PSI</td>\n",
       "      <td>soc social democratic</td>\n",
       "    </tr>\n",
       "    <tr>\n",
       "      <th>freq</th>\n",
       "      <td>16</td>\n",
       "      <td>NaN</td>\n",
       "      <td>12</td>\n",
       "      <td>12</td>\n",
       "      <td>37</td>\n",
       "    </tr>\n",
       "    <tr>\n",
       "      <th>first</th>\n",
       "      <td>1946-06-02 00:00:00</td>\n",
       "      <td>NaN</td>\n",
       "      <td>NaN</td>\n",
       "      <td>NaN</td>\n",
       "      <td>NaN</td>\n",
       "    </tr>\n",
       "    <tr>\n",
       "      <th>last</th>\n",
       "      <td>2018-03-04 00:00:00</td>\n",
       "      <td>NaN</td>\n",
       "      <td>NaN</td>\n",
       "      <td>NaN</td>\n",
       "      <td>NaN</td>\n",
       "    </tr>\n",
       "    <tr>\n",
       "      <th>mean</th>\n",
       "      <td>NaN</td>\n",
       "      <td>32447.320225</td>\n",
       "      <td>NaN</td>\n",
       "      <td>NaN</td>\n",
       "      <td>NaN</td>\n",
       "    </tr>\n",
       "    <tr>\n",
       "      <th>std</th>\n",
       "      <td>NaN</td>\n",
       "      <td>232.631261</td>\n",
       "      <td>NaN</td>\n",
       "      <td>NaN</td>\n",
       "      <td>NaN</td>\n",
       "    </tr>\n",
       "    <tr>\n",
       "      <th>min</th>\n",
       "      <td>NaN</td>\n",
       "      <td>32021.000000</td>\n",
       "      <td>NaN</td>\n",
       "      <td>NaN</td>\n",
       "      <td>NaN</td>\n",
       "    </tr>\n",
       "    <tr>\n",
       "      <th>25%</th>\n",
       "      <td>NaN</td>\n",
       "      <td>32310.000000</td>\n",
       "      <td>NaN</td>\n",
       "      <td>NaN</td>\n",
       "      <td>NaN</td>\n",
       "    </tr>\n",
       "    <tr>\n",
       "      <th>50%</th>\n",
       "      <td>NaN</td>\n",
       "      <td>32420.000000</td>\n",
       "      <td>NaN</td>\n",
       "      <td>NaN</td>\n",
       "      <td>NaN</td>\n",
       "    </tr>\n",
       "    <tr>\n",
       "      <th>75%</th>\n",
       "      <td>NaN</td>\n",
       "      <td>32610.000000</td>\n",
       "      <td>NaN</td>\n",
       "      <td>NaN</td>\n",
       "      <td>NaN</td>\n",
       "    </tr>\n",
       "    <tr>\n",
       "      <th>max</th>\n",
       "      <td>NaN</td>\n",
       "      <td>32956.000000</td>\n",
       "      <td>NaN</td>\n",
       "      <td>NaN</td>\n",
       "      <td>NaN</td>\n",
       "    </tr>\n",
       "  </tbody>\n",
       "</table>\n",
       "</div>"
      ],
      "text/plain": [
       "                      edate         party            partyname partyabbrev  \\\n",
       "count                   178    178.000000                  178         178   \n",
       "unique                   19           NaN                   64          57   \n",
       "top     2006-04-10 00:00:00           NaN  Christian Democrats         PSI   \n",
       "freq                     16           NaN                   12          12   \n",
       "first   1946-06-02 00:00:00           NaN                  NaN         NaN   \n",
       "last    2018-03-04 00:00:00           NaN                  NaN         NaN   \n",
       "mean                    NaN  32447.320225                  NaN         NaN   \n",
       "std                     NaN    232.631261                  NaN         NaN   \n",
       "min                     NaN  32021.000000                  NaN         NaN   \n",
       "25%                     NaN  32310.000000                  NaN         NaN   \n",
       "50%                     NaN  32420.000000                  NaN         NaN   \n",
       "75%                     NaN  32610.000000                  NaN         NaN   \n",
       "max                     NaN  32956.000000                  NaN         NaN   \n",
       "\n",
       "                       parfam  \n",
       "count                     178  \n",
       "unique                      9  \n",
       "top     soc social democratic  \n",
       "freq                       37  \n",
       "first                     NaN  \n",
       "last                      NaN  \n",
       "mean                      NaN  \n",
       "std                       NaN  \n",
       "min                       NaN  \n",
       "25%                       NaN  \n",
       "50%                       NaN  \n",
       "75%                       NaN  \n",
       "max                       NaN  "
      ]
     },
     "execution_count": 290,
     "metadata": {},
     "output_type": "execute_result"
    }
   ],
   "source": [
    "manifest_project[ manifest_project[\"countryname\"]==\"Italy\" ][[\"edate\",\"party\",\"partyname\",\"partyabbrev\",\"parfam\"]].drop_duplicates().describe(include='all')"
   ]
  },
  {
   "cell_type": "code",
   "execution_count": 295,
   "metadata": {},
   "outputs": [
    {
     "data": {
      "text/plain": [
       "0        0.218111\n",
       "1        0.413473\n",
       "2        2.270293\n",
       "3        0.386483\n",
       "4        1.032102\n",
       "           ...   \n",
       "47081    0.654094\n",
       "47082    0.730359\n",
       "47083    0.363919\n",
       "47084    0.632651\n",
       "47085    0.708603\n",
       "Name: pspwght, Length: 47086, dtype: float64"
      ]
     },
     "execution_count": 295,
     "metadata": {},
     "output_type": "execute_result"
    }
   ],
   "source": [
    "ESS[\"pspwght\"]"
   ]
  },
  {
   "cell_type": "code",
   "execution_count": 296,
   "metadata": {},
   "outputs": [
    {
     "data": {
      "text/plain": [
       "0        2.0\n",
       "1        4.0\n",
       "2        8.0\n",
       "3        5.0\n",
       "4        0.0\n",
       "        ... \n",
       "47081    4.0\n",
       "47082    0.0\n",
       "47083    NaN\n",
       "47084    0.0\n",
       "47085    NaN\n",
       "Length: 47086, dtype: float64"
      ]
     },
     "execution_count": 296,
     "metadata": {},
     "output_type": "execute_result"
    }
   ],
   "source": [
    "deciles"
   ]
  },
  {
   "cell_type": "code",
   "execution_count": 334,
   "metadata": {},
   "outputs": [],
   "source": [
    "def weighted_mean(x, **kws):\n",
    "    val, weight = map(np.asarray, zip(*x))\n",
    "    val, weight = val[~np.isnan(val)],weight[~np.isnan(val)]\n",
    "    return (val * weight).sum() / weight.sum()\n",
    "\n",
    "flatten = lambda l: [item for sublist in l for item in sublist]"
   ]
  },
  {
   "cell_type": "code",
   "execution_count": 298,
   "metadata": {},
   "outputs": [],
   "source": [
    "ESS[\"income_deciles_wts\"] = list(zip(deciles,ESS[\"pspwght\"]))"
   ]
  },
  {
   "cell_type": "code",
   "execution_count": 304,
   "metadata": {},
   "outputs": [
    {
     "data": {
      "text/plain": [
       "47085    0\n",
       "18400    0\n",
       "18399    0\n",
       "18398    0\n",
       "18396    0\n",
       "        ..\n",
       "20181    1\n",
       "20172    1\n",
       "20171    1\n",
       "20209    1\n",
       "23542    1\n",
       "Length: 47086, dtype: int64"
      ]
     },
     "execution_count": 304,
     "metadata": {},
     "output_type": "execute_result"
    }
   ],
   "source": [
    "ESS[list(votes_country_dict.keys())].notnull().sum(axis=1).sort_values()\n",
    "\n",
    "# no overlap between different elections!"
   ]
  },
  {
   "cell_type": "code",
   "execution_count": 308,
   "metadata": {},
   "outputs": [],
   "source": [
    "ESS_big_party_list_overlap = [x for x in ESS_big_parties_to_CMP_parties.keys() if pd.notnull(ESS_big_parties_to_CMP_parties[x])]"
   ]
  },
  {
   "cell_type": "code",
   "execution_count": 317,
   "metadata": {},
   "outputs": [],
   "source": [
    "party_voted_in_last_nat_election = ESS[list(votes_country_dict.keys())].fillna(axis=1,method ='ffill')[list(votes_country_dict.keys())[-1]]"
   ]
  },
  {
   "cell_type": "code",
   "execution_count": 320,
   "metadata": {},
   "outputs": [],
   "source": [
    "party_voted_in_last_nat_election.loc[party_voted_in_last_nat_election.apply(lambda x: x not in ESS_big_party_list_overlap)] = np.nan"
   ]
  },
  {
   "cell_type": "code",
   "execution_count": 321,
   "metadata": {},
   "outputs": [
    {
     "data": {
      "text/plain": [
       "Aleksandar VuÄiÄ-Srbija pobeÄuje    666\n",
       "Labour                                 656\n",
       "Conservative                           638\n",
       "ÃVP                                   604\n",
       "SPÃ                                   573\n",
       "                                      ... \n",
       "Alternative for Germany (AFD)          111\n",
       "KSÄM                                  108\n",
       "MSZP (Magyar Szocialista PÃ¡rt)        105\n",
       "FN (Front National)                    103\n",
       "Fremskrittspartiet                     102\n",
       "Name: prtvtdsk, Length: 80, dtype: int64"
      ]
     },
     "execution_count": 321,
     "metadata": {},
     "output_type": "execute_result"
    }
   ],
   "source": [
    "party_voted_in_last_nat_election.value_counts()"
   ]
  },
  {
   "cell_type": "code",
   "execution_count": 326,
   "metadata": {},
   "outputs": [],
   "source": [
    "ESS[list(votes_country_dict.keys())].notnull().idxmax(axis=1).map(votes_country_dict).loc[party_voted_in_last_nat_election.apply(lambda x: x not in ESS_big_party_list_overlap)] = np.nan"
   ]
  },
  {
   "cell_type": "code",
   "execution_count": 331,
   "metadata": {},
   "outputs": [],
   "source": [
    "voting_country = ESS[list(votes_country_dict.keys())].notnull().idxmax(axis=1).map(votes_country_dict)\n",
    "voting_country.loc[party_voted_in_last_nat_election.apply(lambda x: x not in ESS_big_party_list_overlap)] = np.nan"
   ]
  },
  {
   "cell_type": "code",
   "execution_count": 329,
   "metadata": {},
   "outputs": [
    {
     "data": {
      "text/plain": [
       "1611"
      ]
     },
     "execution_count": 329,
     "metadata": {},
     "output_type": "execute_result"
    }
   ],
   "source": [
    "party_voted_in_last_nat_election.apply(lambda x: x in ['Ã\\x96VP', 'SPÃ\\x96', 'FPÃ\\x96', 'GrÃ¼ne']).sum()"
   ]
  },
  {
   "cell_type": "code",
   "execution_count": 333,
   "metadata": {},
   "outputs": [
    {
     "data": {
      "text/plain": [
       "(26,)"
      ]
     },
     "execution_count": 333,
     "metadata": {},
     "output_type": "execute_result"
    }
   ],
   "source": [
    "voting_country.value_counts().shape"
   ]
  },
  {
   "cell_type": "code",
   "execution_count": 340,
   "metadata": {},
   "outputs": [
    {
     "data": {
      "text/html": [
       "<div>\n",
       "<style scoped>\n",
       "    .dataframe tbody tr th:only-of-type {\n",
       "        vertical-align: middle;\n",
       "    }\n",
       "\n",
       "    .dataframe tbody tr th {\n",
       "        vertical-align: top;\n",
       "    }\n",
       "\n",
       "    .dataframe thead th {\n",
       "        text-align: right;\n",
       "    }\n",
       "</style>\n",
       "<table border=\"1\" class=\"dataframe\">\n",
       "  <thead>\n",
       "    <tr style=\"text-align: right;\">\n",
       "      <th></th>\n",
       "      <th>party</th>\n",
       "      <th>mean_inc_decile</th>\n",
       "    </tr>\n",
       "  </thead>\n",
       "  <tbody>\n",
       "    <tr>\n",
       "      <th>0</th>\n",
       "      <td>Balgarska sotsialisticheska partiya (BSP)</td>\n",
       "      <td>2.875343</td>\n",
       "    </tr>\n",
       "    <tr>\n",
       "      <th>1</th>\n",
       "      <td>KSÄM</td>\n",
       "      <td>2.950687</td>\n",
       "    </tr>\n",
       "    <tr>\n",
       "      <th>2</th>\n",
       "      <td>Dvizhenie za prava i svobodi (DPS)</td>\n",
       "      <td>3.060407</td>\n",
       "    </tr>\n",
       "    <tr>\n",
       "      <th>3</th>\n",
       "      <td>Sinn FÃ©in</td>\n",
       "      <td>3.438265</td>\n",
       "    </tr>\n",
       "    <tr>\n",
       "      <th>4</th>\n",
       "      <td>Lithuanian Peasant and Greens Union (LVZS)</td>\n",
       "      <td>3.541466</td>\n",
       "    </tr>\n",
       "    <tr>\n",
       "      <th>...</th>\n",
       "      <td>...</td>\n",
       "      <td>...</td>\n",
       "    </tr>\n",
       "    <tr>\n",
       "      <th>75</th>\n",
       "      <td>Alliance 90/The Greens (BÃ¼ndnis 90/Die GrÃ¼nen)</td>\n",
       "      <td>5.942228</td>\n",
       "    </tr>\n",
       "    <tr>\n",
       "      <th>76</th>\n",
       "      <td>Democrats '66</td>\n",
       "      <td>5.950335</td>\n",
       "    </tr>\n",
       "    <tr>\n",
       "      <th>77</th>\n",
       "      <td>Moderata samlingspartiet</td>\n",
       "      <td>5.993134</td>\n",
       "    </tr>\n",
       "    <tr>\n",
       "      <th>78</th>\n",
       "      <td>The National Coalition Party</td>\n",
       "      <td>6.267964</td>\n",
       "    </tr>\n",
       "    <tr>\n",
       "      <th>79</th>\n",
       "      <td>People's Party for Freedom and Democracy</td>\n",
       "      <td>6.720337</td>\n",
       "    </tr>\n",
       "  </tbody>\n",
       "</table>\n",
       "<p>80 rows × 2 columns</p>\n",
       "</div>"
      ],
      "text/plain": [
       "                                               party  mean_inc_decile\n",
       "0          Balgarska sotsialisticheska partiya (BSP)         2.875343\n",
       "1                                              KSÄM         2.950687\n",
       "2                 Dvizhenie za prava i svobodi (DPS)         3.060407\n",
       "3                                         Sinn FÃ©in         3.438265\n",
       "4         Lithuanian Peasant and Greens Union (LVZS)         3.541466\n",
       "..                                               ...              ...\n",
       "75  Alliance 90/The Greens (BÃ¼ndnis 90/Die GrÃ¼nen)         5.942228\n",
       "76                                     Democrats '66         5.950335\n",
       "77                          Moderata samlingspartiet         5.993134\n",
       "78                      The National Coalition Party         6.267964\n",
       "79          People's Party for Freedom and Democracy         6.720337\n",
       "\n",
       "[80 rows x 2 columns]"
      ]
     },
     "execution_count": 340,
     "metadata": {},
     "output_type": "execute_result"
    }
   ],
   "source": [
    "weighted_income_deciles_by_party = ESS[\"income_deciles_wts\"].groupby(party_voted_in_last_nat_election).agg(weighted_mean).sort_values().reset_index()\n",
    "weighted_income_deciles_by_party.columns = [\"party\",\"mean_inc_decile\"]\n",
    "weighted_income_deciles_by_party"
   ]
  },
  {
   "cell_type": "code",
   "execution_count": 343,
   "metadata": {},
   "outputs": [
    {
     "data": {
      "text/plain": [
       "0     80220.0\n",
       "1     82220.0\n",
       "2     80951.0\n",
       "3     53951.0\n",
       "4     88820.0\n",
       "       ...   \n",
       "75    41113.0\n",
       "76    22330.0\n",
       "77    11620.0\n",
       "78    14620.0\n",
       "79    22955.0\n",
       "Name: party, Length: 80, dtype: float64"
      ]
     },
     "execution_count": 343,
     "metadata": {},
     "output_type": "execute_result"
    }
   ],
   "source": [
    "weighted_income_deciles_by_party[\"party\"].map(ESS_big_parties_to_CMP_parties)"
   ]
  },
  {
   "cell_type": "code",
   "execution_count": 352,
   "metadata": {},
   "outputs": [
    {
     "data": {
      "text/plain": [
       "Conservative Party                                                                              39\n",
       "Centre Party                                                                                    26\n",
       "Socialist Party                                                                                 26\n",
       "Social Democratic Labour Party                                                                  23\n",
       "Labour Party                                                                                    22\n",
       "                                                                                                ..\n",
       "Popular Democratic Party                                                                         2\n",
       "ANO 2011                                                                                         2\n",
       "Federation of Young Democrats                                                                    2\n",
       "Federation of Young Democrats - Hungarian Civic Party - Hungarian Democratic Forum- Alliance     2\n",
       "Lithuanian Peasant and Green Union                                                               2\n",
       "Name: partyname, Length: 86, dtype: int64"
      ]
     },
     "execution_count": 352,
     "metadata": {},
     "output_type": "execute_result"
    }
   ],
   "source": [
    "manifest_project.set_index(\"party\").loc[ weighted_income_deciles_by_party[\"party\"].map(ESS_big_parties_to_CMP_parties) ][\"partyname\"].value_counts().head(86)"
   ]
  },
  {
   "cell_type": "code",
   "execution_count": 355,
   "metadata": {},
   "outputs": [
    {
     "data": {
      "text/html": [
       "<div>\n",
       "<style scoped>\n",
       "    .dataframe tbody tr th:only-of-type {\n",
       "        vertical-align: middle;\n",
       "    }\n",
       "\n",
       "    .dataframe tbody tr th {\n",
       "        vertical-align: top;\n",
       "    }\n",
       "\n",
       "    .dataframe thead th {\n",
       "        text-align: right;\n",
       "    }\n",
       "</style>\n",
       "<table border=\"1\" class=\"dataframe\">\n",
       "  <thead>\n",
       "    <tr style=\"text-align: right;\">\n",
       "      <th></th>\n",
       "      <th>country</th>\n",
       "      <th>countryname</th>\n",
       "      <th>oecdmember</th>\n",
       "      <th>eumember</th>\n",
       "      <th>edate</th>\n",
       "      <th>date</th>\n",
       "      <th>partyname</th>\n",
       "      <th>partyabbrev</th>\n",
       "      <th>parfam</th>\n",
       "      <th>coderid</th>\n",
       "      <th>...</th>\n",
       "      <th>per608_2</th>\n",
       "      <th>per608_3</th>\n",
       "      <th>per703_1</th>\n",
       "      <th>per703_2</th>\n",
       "      <th>rile</th>\n",
       "      <th>planeco</th>\n",
       "      <th>markeco</th>\n",
       "      <th>welfare</th>\n",
       "      <th>intpeace</th>\n",
       "      <th>datasetversion</th>\n",
       "    </tr>\n",
       "    <tr>\n",
       "      <th>party</th>\n",
       "      <th></th>\n",
       "      <th></th>\n",
       "      <th></th>\n",
       "      <th></th>\n",
       "      <th></th>\n",
       "      <th></th>\n",
       "      <th></th>\n",
       "      <th></th>\n",
       "      <th></th>\n",
       "      <th></th>\n",
       "      <th></th>\n",
       "      <th></th>\n",
       "      <th></th>\n",
       "      <th></th>\n",
       "      <th></th>\n",
       "      <th></th>\n",
       "      <th></th>\n",
       "      <th></th>\n",
       "      <th></th>\n",
       "      <th></th>\n",
       "      <th></th>\n",
       "    </tr>\n",
       "  </thead>\n",
       "  <tbody>\n",
       "    <tr>\n",
       "      <th>11110</th>\n",
       "      <td>sweden</td>\n",
       "      <td>Sweden</td>\n",
       "      <td>oecd member</td>\n",
       "      <td>no eu membership</td>\n",
       "      <td>1988-09-18</td>\n",
       "      <td>198809</td>\n",
       "      <td>Green Ecology Party</td>\n",
       "      <td>MP</td>\n",
       "      <td>eco ecologist</td>\n",
       "      <td>228</td>\n",
       "      <td>...</td>\n",
       "      <td>0.000</td>\n",
       "      <td>0.0</td>\n",
       "      <td>1.207</td>\n",
       "      <td>0.000</td>\n",
       "      <td>-18.400</td>\n",
       "      <td>1.400</td>\n",
       "      <td>0.000</td>\n",
       "      <td>11.300</td>\n",
       "      <td>0.000</td>\n",
       "      <td>2019b</td>\n",
       "    </tr>\n",
       "    <tr>\n",
       "      <th>11220</th>\n",
       "      <td>sweden</td>\n",
       "      <td>Sweden</td>\n",
       "      <td>no oecd member</td>\n",
       "      <td>no eu membership</td>\n",
       "      <td>1944-09-17</td>\n",
       "      <td>194409</td>\n",
       "      <td>Communist Party of Sweden</td>\n",
       "      <td>SKP</td>\n",
       "      <td>lef socialist or other left</td>\n",
       "      <td>117</td>\n",
       "      <td>...</td>\n",
       "      <td>0.000</td>\n",
       "      <td>0.0</td>\n",
       "      <td>2.778</td>\n",
       "      <td>0.278</td>\n",
       "      <td>9.600</td>\n",
       "      <td>1.900</td>\n",
       "      <td>1.900</td>\n",
       "      <td>0.000</td>\n",
       "      <td>1.900</td>\n",
       "      <td>2019b</td>\n",
       "    </tr>\n",
       "    <tr>\n",
       "      <th>11320</th>\n",
       "      <td>sweden</td>\n",
       "      <td>Sweden</td>\n",
       "      <td>no oecd member</td>\n",
       "      <td>no eu membership</td>\n",
       "      <td>1944-09-17</td>\n",
       "      <td>194409</td>\n",
       "      <td>Social Democratic Labour Party</td>\n",
       "      <td>SAP</td>\n",
       "      <td>soc social democratic</td>\n",
       "      <td>117</td>\n",
       "      <td>...</td>\n",
       "      <td>0.000</td>\n",
       "      <td>0.0</td>\n",
       "      <td>0.184</td>\n",
       "      <td>0.000</td>\n",
       "      <td>-37.800</td>\n",
       "      <td>3.300</td>\n",
       "      <td>2.200</td>\n",
       "      <td>33.400</td>\n",
       "      <td>5.600</td>\n",
       "      <td>2019b</td>\n",
       "    </tr>\n",
       "    <tr>\n",
       "      <th>11420</th>\n",
       "      <td>sweden</td>\n",
       "      <td>Sweden</td>\n",
       "      <td>no oecd member</td>\n",
       "      <td>no eu membership</td>\n",
       "      <td>1944-09-17</td>\n",
       "      <td>194409</td>\n",
       "      <td>People’s Party</td>\n",
       "      <td>FP</td>\n",
       "      <td>lib liberal</td>\n",
       "      <td>117</td>\n",
       "      <td>...</td>\n",
       "      <td>0.688</td>\n",
       "      <td>0.0</td>\n",
       "      <td>0.000</td>\n",
       "      <td>0.000</td>\n",
       "      <td>9.500</td>\n",
       "      <td>3.200</td>\n",
       "      <td>6.400</td>\n",
       "      <td>14.300</td>\n",
       "      <td>1.600</td>\n",
       "      <td>2019b</td>\n",
       "    </tr>\n",
       "    <tr>\n",
       "      <th>11520</th>\n",
       "      <td>sweden</td>\n",
       "      <td>Sweden</td>\n",
       "      <td>oecd member</td>\n",
       "      <td>no eu membership</td>\n",
       "      <td>1985-09-15</td>\n",
       "      <td>198509</td>\n",
       "      <td>Christian Democratic Coalition</td>\n",
       "      <td>KDS</td>\n",
       "      <td>chr christian democrat</td>\n",
       "      <td>not applicable</td>\n",
       "      <td>...</td>\n",
       "      <td>0.000</td>\n",
       "      <td>0.0</td>\n",
       "      <td>0.000</td>\n",
       "      <td>0.000</td>\n",
       "      <td>-4.545</td>\n",
       "      <td>0.000</td>\n",
       "      <td>9.091</td>\n",
       "      <td>20.455</td>\n",
       "      <td>2.273</td>\n",
       "      <td>2019b</td>\n",
       "    </tr>\n",
       "    <tr>\n",
       "      <th>...</th>\n",
       "      <td>...</td>\n",
       "      <td>...</td>\n",
       "      <td>...</td>\n",
       "      <td>...</td>\n",
       "      <td>...</td>\n",
       "      <td>...</td>\n",
       "      <td>...</td>\n",
       "      <td>...</td>\n",
       "      <td>...</td>\n",
       "      <td>...</td>\n",
       "      <td>...</td>\n",
       "      <td>...</td>\n",
       "      <td>...</td>\n",
       "      <td>...</td>\n",
       "      <td>...</td>\n",
       "      <td>...</td>\n",
       "      <td>...</td>\n",
       "      <td>...</td>\n",
       "      <td>...</td>\n",
       "      <td>...</td>\n",
       "      <td>...</td>\n",
       "    </tr>\n",
       "    <tr>\n",
       "      <th>181310</th>\n",
       "      <td>south africa</td>\n",
       "      <td>South Africa</td>\n",
       "      <td>no oecd member</td>\n",
       "      <td>no eu membership</td>\n",
       "      <td>1994-04-29</td>\n",
       "      <td>199404</td>\n",
       "      <td>African National Congress</td>\n",
       "      <td>ANC</td>\n",
       "      <td>soc social democratic</td>\n",
       "      <td>310</td>\n",
       "      <td>...</td>\n",
       "      <td>NaN</td>\n",
       "      <td>NaN</td>\n",
       "      <td>NaN</td>\n",
       "      <td>NaN</td>\n",
       "      <td>-11.374</td>\n",
       "      <td>4.265</td>\n",
       "      <td>0.474</td>\n",
       "      <td>13.744</td>\n",
       "      <td>0.474</td>\n",
       "      <td>2019b</td>\n",
       "    </tr>\n",
       "    <tr>\n",
       "      <th>181410</th>\n",
       "      <td>south africa</td>\n",
       "      <td>South Africa</td>\n",
       "      <td>no oecd member</td>\n",
       "      <td>no eu membership</td>\n",
       "      <td>1994-04-29</td>\n",
       "      <td>199404</td>\n",
       "      <td>Democratic Party</td>\n",
       "      <td>DP</td>\n",
       "      <td>lib liberal</td>\n",
       "      <td>310</td>\n",
       "      <td>...</td>\n",
       "      <td>NaN</td>\n",
       "      <td>NaN</td>\n",
       "      <td>NaN</td>\n",
       "      <td>NaN</td>\n",
       "      <td>11.069</td>\n",
       "      <td>1.145</td>\n",
       "      <td>5.344</td>\n",
       "      <td>6.107</td>\n",
       "      <td>1.527</td>\n",
       "      <td>2019b</td>\n",
       "    </tr>\n",
       "    <tr>\n",
       "      <th>181411</th>\n",
       "      <td>south africa</td>\n",
       "      <td>South Africa</td>\n",
       "      <td>no oecd member</td>\n",
       "      <td>no eu membership</td>\n",
       "      <td>2004-04-14</td>\n",
       "      <td>200404</td>\n",
       "      <td>Democratic Alliance</td>\n",
       "      <td>DA</td>\n",
       "      <td>lib liberal</td>\n",
       "      <td>310</td>\n",
       "      <td>...</td>\n",
       "      <td>NaN</td>\n",
       "      <td>NaN</td>\n",
       "      <td>NaN</td>\n",
       "      <td>NaN</td>\n",
       "      <td>-18.466</td>\n",
       "      <td>0.313</td>\n",
       "      <td>1.565</td>\n",
       "      <td>26.135</td>\n",
       "      <td>0.000</td>\n",
       "      <td>2019b</td>\n",
       "    </tr>\n",
       "    <tr>\n",
       "      <th>181420</th>\n",
       "      <td>south africa</td>\n",
       "      <td>South Africa</td>\n",
       "      <td>no oecd member</td>\n",
       "      <td>no eu membership</td>\n",
       "      <td>2009-04-22</td>\n",
       "      <td>200904</td>\n",
       "      <td>Congress of the People</td>\n",
       "      <td>COPE</td>\n",
       "      <td>lib liberal</td>\n",
       "      <td>310</td>\n",
       "      <td>...</td>\n",
       "      <td>NaN</td>\n",
       "      <td>NaN</td>\n",
       "      <td>NaN</td>\n",
       "      <td>NaN</td>\n",
       "      <td>-11.574</td>\n",
       "      <td>0.926</td>\n",
       "      <td>0.000</td>\n",
       "      <td>14.352</td>\n",
       "      <td>0.463</td>\n",
       "      <td>2019b</td>\n",
       "    </tr>\n",
       "    <tr>\n",
       "      <th>181910</th>\n",
       "      <td>south africa</td>\n",
       "      <td>South Africa</td>\n",
       "      <td>no oecd member</td>\n",
       "      <td>no eu membership</td>\n",
       "      <td>1999-06-02</td>\n",
       "      <td>199906</td>\n",
       "      <td>Inkatha Freedom Party</td>\n",
       "      <td>IFP</td>\n",
       "      <td>eth ethnic-regional</td>\n",
       "      <td>310</td>\n",
       "      <td>...</td>\n",
       "      <td>NaN</td>\n",
       "      <td>NaN</td>\n",
       "      <td>NaN</td>\n",
       "      <td>NaN</td>\n",
       "      <td>35.000</td>\n",
       "      <td>0.000</td>\n",
       "      <td>0.000</td>\n",
       "      <td>7.000</td>\n",
       "      <td>0.000</td>\n",
       "      <td>2019b</td>\n",
       "    </tr>\n",
       "  </tbody>\n",
       "</table>\n",
       "<p>1136 rows × 172 columns</p>\n",
       "</div>"
      ],
      "text/plain": [
       "             country   countryname      oecdmember          eumember  \\\n",
       "party                                                                  \n",
       "11110         sweden        Sweden     oecd member  no eu membership   \n",
       "11220         sweden        Sweden  no oecd member  no eu membership   \n",
       "11320         sweden        Sweden  no oecd member  no eu membership   \n",
       "11420         sweden        Sweden  no oecd member  no eu membership   \n",
       "11520         sweden        Sweden     oecd member  no eu membership   \n",
       "...              ...           ...             ...               ...   \n",
       "181310  south africa  South Africa  no oecd member  no eu membership   \n",
       "181410  south africa  South Africa  no oecd member  no eu membership   \n",
       "181411  south africa  South Africa  no oecd member  no eu membership   \n",
       "181420  south africa  South Africa  no oecd member  no eu membership   \n",
       "181910  south africa  South Africa  no oecd member  no eu membership   \n",
       "\n",
       "            edate    date                       partyname partyabbrev  \\\n",
       "party                                                                   \n",
       "11110  1988-09-18  198809             Green Ecology Party          MP   \n",
       "11220  1944-09-17  194409       Communist Party of Sweden         SKP   \n",
       "11320  1944-09-17  194409  Social Democratic Labour Party         SAP   \n",
       "11420  1944-09-17  194409                  People’s Party          FP   \n",
       "11520  1985-09-15  198509  Christian Democratic Coalition         KDS   \n",
       "...           ...     ...                             ...         ...   \n",
       "181310 1994-04-29  199404       African National Congress         ANC   \n",
       "181410 1994-04-29  199404                Democratic Party          DP   \n",
       "181411 2004-04-14  200404             Democratic Alliance          DA   \n",
       "181420 2009-04-22  200904          Congress of the People        COPE   \n",
       "181910 1999-06-02  199906           Inkatha Freedom Party         IFP   \n",
       "\n",
       "                             parfam         coderid  ... per608_2  per608_3  \\\n",
       "party                                                ...                      \n",
       "11110                 eco ecologist             228  ...    0.000       0.0   \n",
       "11220   lef socialist or other left             117  ...    0.000       0.0   \n",
       "11320         soc social democratic             117  ...    0.000       0.0   \n",
       "11420                   lib liberal             117  ...    0.688       0.0   \n",
       "11520        chr christian democrat  not applicable  ...    0.000       0.0   \n",
       "...                             ...             ...  ...      ...       ...   \n",
       "181310        soc social democratic             310  ...      NaN       NaN   \n",
       "181410                  lib liberal             310  ...      NaN       NaN   \n",
       "181411                  lib liberal             310  ...      NaN       NaN   \n",
       "181420                  lib liberal             310  ...      NaN       NaN   \n",
       "181910          eth ethnic-regional             310  ...      NaN       NaN   \n",
       "\n",
       "        per703_1  per703_2    rile planeco  markeco  welfare  intpeace  \\\n",
       "party                                                                    \n",
       "11110      1.207     0.000 -18.400   1.400    0.000   11.300     0.000   \n",
       "11220      2.778     0.278   9.600   1.900    1.900    0.000     1.900   \n",
       "11320      0.184     0.000 -37.800   3.300    2.200   33.400     5.600   \n",
       "11420      0.000     0.000   9.500   3.200    6.400   14.300     1.600   \n",
       "11520      0.000     0.000  -4.545   0.000    9.091   20.455     2.273   \n",
       "...          ...       ...     ...     ...      ...      ...       ...   \n",
       "181310       NaN       NaN -11.374   4.265    0.474   13.744     0.474   \n",
       "181410       NaN       NaN  11.069   1.145    5.344    6.107     1.527   \n",
       "181411       NaN       NaN -18.466   0.313    1.565   26.135     0.000   \n",
       "181420       NaN       NaN -11.574   0.926    0.000   14.352     0.463   \n",
       "181910       NaN       NaN  35.000   0.000    0.000    7.000     0.000   \n",
       "\n",
       "       datasetversion  \n",
       "party                  \n",
       "11110           2019b  \n",
       "11220           2019b  \n",
       "11320           2019b  \n",
       "11420           2019b  \n",
       "11520           2019b  \n",
       "...               ...  \n",
       "181310          2019b  \n",
       "181410          2019b  \n",
       "181411          2019b  \n",
       "181420          2019b  \n",
       "181910          2019b  \n",
       "\n",
       "[1136 rows x 172 columns]"
      ]
     },
     "execution_count": 355,
     "metadata": {},
     "output_type": "execute_result"
    }
   ],
   "source": [
    "manifest_project.sort_values(by=\"edate\").groupby(\"party\").first()"
   ]
  },
  {
   "cell_type": "code",
   "execution_count": null,
   "metadata": {},
   "outputs": [],
   "source": [
    "#### FILTER BY PROGRAMME TYPE!"
   ]
  },
  {
   "cell_type": "code",
   "execution_count": 361,
   "metadata": {},
   "outputs": [],
   "source": [
    "cmp_overlap_df = manifest_project[manifest_project[\"party\"].apply(lambda x: x in ESS_big_parties_to_CMP_parties.values())].sort_values(by=\"edate\").groupby(\"party\").last()"
   ]
  },
  {
   "cell_type": "code",
   "execution_count": null,
   "metadata": {},
   "outputs": [],
   "source": []
  },
  {
   "cell_type": "code",
   "execution_count": 409,
   "metadata": {},
   "outputs": [
    {
     "data": {
      "text/plain": [
       "party\n",
       "22955   1994-05-03\n",
       "86320   2010-04-11\n",
       "21322   2010-06-13\n",
       "21426   2010-06-13\n",
       "35313   2011-06-05\n",
       "           ...    \n",
       "11810   2018-09-09\n",
       "11710   2018-09-09\n",
       "11620   2018-09-09\n",
       "11320   2018-09-09\n",
       "11220   2018-09-09\n",
       "Name: edate, Length: 80, dtype: datetime64[ns]"
      ]
     },
     "execution_count": 409,
     "metadata": {},
     "output_type": "execute_result"
    }
   ],
   "source": [
    "cmp_overlap_df[\"edate\"].sort_values()"
   ]
  },
  {
   "cell_type": "code",
   "execution_count": 364,
   "metadata": {},
   "outputs": [
    {
     "data": {
      "text/plain": [
       "array(['netherlands', 'Netherlands', 'oecd member', 'eu member',\n",
       "       Timestamp('1994-05-03 00:00:00'), 199405, 'Union 55+', 'Unie 55+',\n",
       "       'sip special issue', 326, 'version 4', 2016.0, 0.94, 0.471, 0.9,\n",
       "       'original vote figure', nan, 1.0, 150.0, 'regular programme',\n",
       "       'Update 2016a', '2019-2', 229.0, 0.0, 0.0, 0.0, 0.0, 2.183, 0.0,\n",
       "       0.0, 4.803, 0.0, 0.0, 0.0, 0.437, 1.747, 0.0, 0.0, 0.0, 0.873,\n",
       "       2.62, 0.0, 8.734, 1.31, 3.057, 0.873, 0.437, 0.0, 0.0, 0.0, 0.873,\n",
       "       0.873, 1.31, 2.183, 0.0, 0.0, 1.747, 0.0, 0.873, 2.62, 0.0, 8.734,\n",
       "       16.594, 0.437, 4.803, 0.0, 1.747, 0.0, 0.0, 0.0, 13.974, 1.747,\n",
       "       0.437, 4.803, 0.873, 0.0, 0.0, 0.0, 0.0, 8.297, 0.0, 0.0, 0.0, 0.0,\n",
       "       0.0, 0.0, 0.0, 0.0, 0.0, 0.0, 0.0, 0.0, 0.0, 0.0, 0.0, 0.0, 0.0,\n",
       "       0.0, 0.0, 0.0, 0.0, 0.0, 0.0, 0.0, 0.0, 0.0, 0.0, 0.0, 0.0, 0.0,\n",
       "       0.0, 0.0, 0.0, 0.0, 0.0, 0.0, 0.0, 0.0, 0.0, 0.0, 0.0, 0.0, 0.0,\n",
       "       0.0, 0.0, 0.0, 0.0, 0.0, 0.0, 0.0, 0.0, 0.0, 0.0, 0.0, nan, nan,\n",
       "       nan, nan, nan, nan, nan, nan, nan, nan, nan, nan, nan, nan, nan,\n",
       "       nan, nan, nan, nan, nan, nan, nan, nan, nan, nan, nan, nan, nan,\n",
       "       nan, nan, nan, nan, 5.24, 1.31, 3.057, 25.328, 0.0, '2019b'],\n",
       "      dtype=object)"
      ]
     },
     "execution_count": 364,
     "metadata": {},
     "output_type": "execute_result"
    }
   ],
   "source": [
    "cmp_overlap_df.loc[22955].values"
   ]
  },
  {
   "cell_type": "code",
   "execution_count": 374,
   "metadata": {},
   "outputs": [],
   "source": [
    "cmp_overlap_df = cmp_overlap_df.sort_index()"
   ]
  },
  {
   "cell_type": "code",
   "execution_count": 375,
   "metadata": {},
   "outputs": [],
   "source": [
    "manifesto_redist = cmp_overlap_df[[\"per\"+x for x in [\"404\",\"405\",\"409\",\"413\",\"504\",\"701\"]]].sum(axis=1)"
   ]
  },
  {
   "cell_type": "code",
   "execution_count": 370,
   "metadata": {},
   "outputs": [],
   "source": [
    "weighted_income_deciles_by_party[\"party\"] = weighted_income_deciles_by_party[\"party\"].map(ESS_big_parties_to_CMP_parties)\n",
    "weighted_income_deciles_by_party = weighted_income_deciles_by_party.set_index(\"party\")"
   ]
  },
  {
   "cell_type": "code",
   "execution_count": 377,
   "metadata": {},
   "outputs": [],
   "source": [
    "weighted_income_deciles_by_party = weighted_income_deciles_by_party[\"mean_inc_decile\"].sort_index()"
   ]
  },
  {
   "cell_type": "code",
   "execution_count": 379,
   "metadata": {},
   "outputs": [],
   "source": [
    "cmp_overlap_df[\"weighted_income_deciles\"] = weighted_income_deciles_by_party\n",
    "cmp_overlap_df[\"manifesto_redist\"] = manifesto_redist"
   ]
  },
  {
   "cell_type": "code",
   "execution_count": 407,
   "metadata": {},
   "outputs": [
    {
     "data": {
      "image/png": "[encoded data removed]",
      "text/plain": [
       "<Figure size 864x576 with 1 Axes>"
      ]
     },
     "metadata": {
      "needs_background": "light"
     },
     "output_type": "display_data"
    }
   ],
   "source": [
    "plt.figure(figsize=(12,8))\n",
    "sns.scatterplot(data = cmp_overlap_df,x=\"weighted_income_deciles\",y=\"manifesto_redist\",\n",
    "                hue=\"parfam\");\n",
    "\n",
    "# make size = percentage of the vote? \"pervote\"\n",
    "\n",
    "def label_point(x, y, val, ax):\n",
    "    a = pd.concat({'x': x, 'y': y, 'val': val}, axis=1)\n",
    "    for i, point in a.iterrows():\n",
    "        ax.text(point['x']+.02, point['y'], str(point['val']), fontsize=8)\n",
    "\n",
    "label_point(cmp_overlap_df[\"weighted_income_deciles\"],\n",
    "            cmp_overlap_df[\"manifesto_redist\"],\n",
    "            cmp_overlap_df[\"partyabbrev_filled\"], plt.gca())  "
   ]
  },
  {
   "cell_type": "code",
   "execution_count": 383,
   "metadata": {},
   "outputs": [
    {
     "data": {
      "text/plain": [
       "soc social democratic          19\n",
       "con conservative               14\n",
       "nat nationalist                11\n",
       "lib liberal                    10\n",
       "chr christian democrat          6\n",
       "sip special issue               5\n",
       "lef socialist or other left     5\n",
       "agr agrarian                    4\n",
       "eco ecologist                   4\n",
       "eth ethnic-regional             2\n",
       "mi missing information          0\n",
       "div divers alliance             0\n",
       "Name: parfam, dtype: int64"
      ]
     },
     "execution_count": 383,
     "metadata": {},
     "output_type": "execute_result"
    }
   ],
   "source": [
    "cmp_overlap_df[\"parfam\"].value_counts()"
   ]
  },
  {
   "cell_type": "code",
   "execution_count": 393,
   "metadata": {},
   "outputs": [
    {
     "data": {
      "text/plain": [
       "                    8\n",
       "PS                  4\n",
       "FiDeSz-MPSz-KDNP    1\n",
       "Piráti              1\n",
       "FPÖ                 1\n",
       "FN                  1\n",
       "FDP/PLR             1\n",
       "FDP                 1\n",
       "SAP                 1\n",
       "SD                  1\n",
       "SDE                 1\n",
       "D’66                1\n",
       "SDS                 1\n",
       "SF                  1\n",
       "SK                  1\n",
       "DPS CG              1\n",
       "DPS                 1\n",
       "DISY                1\n",
       "SPD                 1\n",
       "SPS/PSS             1\n",
       "Conservatives       1\n",
       "SPÖ                 1\n",
       "SSDP                1\n",
       "CP                  1\n",
       "CDU/CSU             1\n",
       "SVP/UDC             1\n",
       "CDA                 1\n",
       "CD&V                1\n",
       "Smer                1\n",
       "PiS                 1\n",
       "FrP                 1\n",
       "BSP                 1\n",
       "KSČM                1\n",
       "M5S                 1\n",
       "MR                  1\n",
       "LibDems             1\n",
       "MSP                 1\n",
       "MSzDP               1\n",
       "Labour              1\n",
       "LVŽS                1\n",
       "N-VA                1\n",
       "LSDP                1\n",
       "LINKE               1\n",
       "ODS                 1\n",
       "L                   1\n",
       "PD                  1\n",
       "GERB                1\n",
       "KK                  1\n",
       "K                   1\n",
       "Jobbik              1\n",
       "IRL                 1\n",
       "PO                  1\n",
       "PP                  1\n",
       "HDZ                 1\n",
       "PSD                 1\n",
       "H                   1\n",
       "PSOE                1\n",
       "GRÜNE               1\n",
       "GL                  1\n",
       "TS-LKD              1\n",
       "Name: partyabbrev, dtype: int64"
      ]
     },
     "execution_count": 393,
     "metadata": {},
     "output_type": "execute_result"
    }
   ],
   "source": [
    "cmp_overlap_df[\"partyabbrev\"].value_counts().head(60)"
   ]
  },
  {
   "cell_type": "code",
   "execution_count": 404,
   "metadata": {
    "scrolled": false
   },
   "outputs": [],
   "source": [
    "# cmp_overlap_df.loc[cmp_overlap_df[\"partyabbrev\"]==\"\",\"partyabbrev\"] = cmp_overlap_df[cmp_overlap_df[\"partyabbrev\"]==\"\"][\"partyname\"]\n",
    "\n",
    "cmp_overlap_df[\"partyabbrev_filled\"] = cmp_overlap_df[\"partyabbrev\"].astype('object')\n",
    "cmp_overlap_df.loc[cmp_overlap_df[\"partyabbrev\"]==\"\",\"partyabbrev_filled\"] = cmp_overlap_df[cmp_overlap_df[\"partyabbrev\"]==\"\"][\"partyname\"].astype('object')"
   ]
  },
  {
   "cell_type": "code",
   "execution_count": 408,
   "metadata": {},
   "outputs": [],
   "source": [
    "# cmp_overlap_df.loc[cmp_overlap_df[\"partyabbrev\"]==\"\",\"partyabbrev_filled\"]"
   ]
  },
  {
   "cell_type": "code",
   "execution_count": null,
   "metadata": {},
   "outputs": [],
   "source": []
  },
  {
   "cell_type": "code",
   "execution_count": 11,
   "metadata": {},
   "outputs": [
    {
     "data": {
      "text/plain": [
       "Index(['per608_2', 'per608_3', 'per703_1', 'per703_2', 'rile', 'planeco',\n",
       "       'markeco', 'welfare', 'intpeace', 'datasetversion'],\n",
       "      dtype='object')"
      ]
     },
     "execution_count": 11,
     "metadata": {},
     "output_type": "execute_result"
    }
   ],
   "source": [
    "df.columns[-10:]"
   ]
  },
  {
   "cell_type": "code",
   "execution_count": 26,
   "metadata": {},
   "outputs": [
    {
     "data": {
      "text/plain": [
       "(4492, 173)"
      ]
     },
     "execution_count": 26,
     "metadata": {},
     "output_type": "execute_result"
    }
   ],
   "source": [
    "## Factor Analysis on the manifesto project variables\n",
    "# df.shape"
   ]
  },
  {
   "cell_type": "code",
   "execution_count": 114,
   "metadata": {},
   "outputs": [],
   "source": [
    "value_vars = [x for x in df.columns if re.match(\"per(\\d+|uncod)|rile|planeco|markeco|welfare|intpeace\",x)]\n",
    "# rile, planeco, markeco, welfare, intpeace\n",
    "MCP_vals = df[value_vars]\n",
    "MCP_vals = MCP_vals.fillna(MCP_vals.mean())\n"
   ]
  },
  {
   "cell_type": "code",
   "execution_count": 115,
   "metadata": {},
   "outputs": [
    {
     "data": {
      "text/plain": [
       "Index(['percent of uncoded quasi-sentences (000)(uncod)',\n",
       "       'foreign special +(101)', 'foreign special -(102)',\n",
       "       'anti-imperalism(103)', 'military +(104)', 'military -(105)',\n",
       "       'peace(106)', 'internationalism +(107)', 'europe +(108)',\n",
       "       'internationalism -(109)',\n",
       "       ...\n",
       "       'sub2: multiculturalism: general -(608_1)',\n",
       "       'sub2: multiculturalism: immigrants assimilation(608_2)',\n",
       "       'sub2: multiculturalism: indigenous rights -(608_3)',\n",
       "       'sub2: agriculture and farmers +(703_1)',\n",
       "       'sub2: agriculture and farmers -(703_2)',\n",
       "       'right-left ideological index(rile)', 'planned economic index(planeco)',\n",
       "       'market economic index(markeco)',\n",
       "       'party policy positioning on welfare(welfare)',\n",
       "       'international peace index(intpeace)'],\n",
       "      dtype='object', length=148)"
      ]
     },
     "execution_count": 115,
     "metadata": {},
     "output_type": "execute_result"
    }
   ],
   "source": [
    "# df[\"peruncod\"]\n",
    "# percentage uncoded\n",
    "MCP_vals.columns = [header[x]+\"(\"+x.replace(\"per\",\"\")+\")\" for x in MCP_vals.columns]\n",
    "MCP_vals.columns"
   ]
  },
  {
   "cell_type": "code",
   "execution_count": 116,
   "metadata": {},
   "outputs": [],
   "source": [
    "Treatment = \"Manifesto Project Decomposition\""
   ]
  },
  {
   "cell_type": "code",
   "execution_count": 117,
   "metadata": {},
   "outputs": [],
   "source": [
    "output_subfolder = output_folder + Treatment + os.sep\n",
    "if not os.path.exists( output_subfolder ):\n",
    "    os.makedirs( output_subfolder )"
   ]
  },
  {
   "cell_type": "code",
   "execution_count": 118,
   "metadata": {},
   "outputs": [],
   "source": [
    "from sklearn import datasets\n",
    "from sklearn.decomposition import PCA, IncrementalPCA, NMF, TruncatedSVD, FastICA, FactorAnalysis, SparsePCA\n",
    "from sklearn.preprocessing import StandardScaler\n",
    "from sklearn.discriminant_analysis import LinearDiscriminantAnalysis\n",
    "# normalise data (subtract out the mean, divide through by standard deviation)\n",
    "\n",
    "decomp_index = MCP_vals.index\n",
    "decomp_columns = MCP_vals.columns\n",
    "clean_feature_set_std = StandardScaler().fit_transform(MCP_vals.values )\n",
    "decomp_std = pd.DataFrame(   clean_feature_set_std,\n",
    "                             columns = MCP_vals.columns,\n",
    "                             index   = MCP_vals.index      )"
   ]
  },
  {
   "cell_type": "code",
   "execution_count": 119,
   "metadata": {},
   "outputs": [],
   "source": [
    "import unicodedata\n",
    "import string\n",
    "valid_filename_chars = \"-_.() %s%s\" % (string.ascii_letters, string.digits)\n",
    "def clean_filename(filename, whitelist=valid_filename_chars, replace=' ', char_limit = 30):\n",
    "    import warnings\n",
    "    # replace spaces\n",
    "    for r in replace:\n",
    "        filename = filename.replace(r,'_')\n",
    "    \n",
    "    # keep only valid ascii chars\n",
    "    cleaned_filename = unicodedata.normalize('NFKD', filename).encode('ASCII', 'ignore').decode()\n",
    "    \n",
    "    # keep only whitelisted chars\n",
    "    cleaned_filename = ''.join(c for c in cleaned_filename if c in whitelist)\n",
    "    if len(cleaned_filename)>char_limit:\n",
    "\n",
    "        warnings.warn(\"Warning, filename truncated because it was over {}. Filenames may no longer be unique\".format(char_limit))\n",
    "        # print(\"Warning, filename truncated because it was over {}. Filenames may no longer be unique\".format(char_limit))\n",
    "    return cleaned_filename[:char_limit]    \n",
    "\n",
    "def create_subdir(base_dir, subdir, char_limit=50):\n",
    "    output_subfolder = base_dir + os.sep + clean_filename(subdir, char_limit=char_limit) + os.sep\n",
    "    if not os.path.exists( output_subfolder ):\n",
    "        os.makedirs( output_subfolder )\n",
    "    return output_subfolder\n",
    "\n",
    "def display_components(n_components, decomp, cols, BES_decomp, manifest=None, \n",
    "                       save_folder = False, show_first_x_comps=4,\n",
    "                       show_histogram=True, flip_axes=True, max_comp=20, max_var_per_comp = 30):\n",
    "    \n",
    "    if hasattr(decomp, 'coef_'):\n",
    "        decomp_components = decomp.coef_\n",
    "    elif hasattr(decomp, 'components_'):\n",
    "        decomp_components = decomp.components_\n",
    "    else:\n",
    "        raise ValueError('no component attribute in decomp')    \n",
    "\n",
    "    # hardcoded at 20?    \n",
    "    n_comps = min(n_components,max_comp)\n",
    "    comp_labels = {}\n",
    "    comp_dict = {}\n",
    "\n",
    "    for comp_no in range(0,n_comps):\n",
    "\n",
    "        fig, axes = plt.subplots(ncols=1+show_histogram)\n",
    "        \n",
    "        comp = pd.DataFrame( decomp_components[comp_no], index = cols, columns = [\"components_\"] )\n",
    "        comp[\"comp_absmag\"] = comp[\"components_\"].abs()\n",
    "        comp = comp.sort_values(by=\"comp_absmag\",ascending=True)        \n",
    "        \n",
    "        if show_histogram:\n",
    "            comp_ax = axes[0]\n",
    "            \n",
    "            hist_ax = axes[1]\n",
    "            hist_ax.set_xlabel(\"abs. variable coeffs\")\n",
    "            hist_ax.set_title(\"Histogram of abs. variable coeffs\")\n",
    "            comp[\"comp_absmag\"].hist( bins=30, ax=hist_ax, figsize=(10,6) )\n",
    "            \n",
    "        else:\n",
    "            comp_ax = axes\n",
    "            \n",
    "        # set top abs_mag variable to label\n",
    "        comp_labels[comp_no] = comp.index[-1:][0] # last label (= highest magnitude)\n",
    "        # if top abs_mag variable is negative\n",
    "     \n",
    "        if flip_axes & (comp[-1:][\"components_\"].values[0] < 0):\n",
    "\n",
    "            comp[\"components_\"]         = -comp[\"components_\"]\n",
    "            decomp_components[comp_no]  = -decomp_components[comp_no]\n",
    "            BES_decomp[comp_no]         = -BES_decomp[comp_no]\n",
    "\n",
    "        title = \"Comp. \"+str(comp_no)+\" (\" + comp.index[-1:][0] + \")\"\n",
    "        comp_labels[comp_no] = title            \n",
    "        if manifest is not None:\n",
    "            dataset_description = manifest[\"Friendlier_Description\"].values[0]\n",
    "            comp_ax.set_title( dataset_description + \"\\n\" + title )\n",
    "        else:\n",
    "            comp_ax.set_title( title )\n",
    "        comp_ax.set_xlabel(\"variable coeffs\")\n",
    "        xlim = (min(comp[\"components_\"].min(),-1) , max(comp[\"components_\"].max(),1) )\n",
    "        comp[\"components_\"].tail(max_var_per_comp).plot( kind='barh', ax=comp_ax, figsize=(10,6), xlim=xlim )\n",
    "        if manifest is not None:\n",
    "            dataset_citation = \"Source: \" + manifest[\"Citation\"].values[0]\n",
    "            comp_ax.annotate(dataset_citation, (0,0), (0, -40),\n",
    "                             xycoords='axes fraction', textcoords='offset points', va='top', fontsize = 7)            \n",
    "\n",
    "        if (save_folder != False):\n",
    "            fname = save_folder + clean_filename(title) + \".png\"\n",
    "            fig.savefig( fname, bbox_inches='tight' )\n",
    "\n",
    "        comp_dict[comp_no] = comp\n",
    "        # show first x components\n",
    "        if (comp_no >= min(show_first_x_comps,n_components)):\n",
    "            plt.close()\n",
    "\n",
    "        \n",
    "    return (BES_decomp, comp_labels, comp_dict)\n",
    "    \n",
    "\n",
    "def display_pca_data(n_components, decomp, BES_std, y=[]):    \n",
    "    \n",
    "    figsz = (16,3)\n",
    "    \n",
    "    f, axs = plt.subplots( 1, 4, figsize=figsz )\n",
    "\n",
    "    axno = 0\n",
    "    \n",
    "    if hasattr(decomp, 'explained_variance_ratio_'):\n",
    "        print('explained variance ratio (first 30): %s'\n",
    "              % str(decomp.explained_variance_ratio_[0:30]) )\n",
    "        \n",
    "    if hasattr(decomp, 'explained_variance_'):\n",
    "        print('explained variance (first 30): %s'\n",
    "              % str(decomp.explained_variance_[0:30]) )\n",
    "\n",
    "        axs[axno].plot( range(1,n_components+1), decomp.explained_variance_, linewidth=2)\n",
    "        # ,figsize = figsz)\n",
    "        axs[axno].set_xlabel('n_components')\n",
    "        axs[axno].set_ylabel('explained_variance_')\n",
    "        axs[axno].set_title('explained variance by n_components')\n",
    "        axno = axno + 1\n",
    "        \n",
    "    if hasattr(decomp, 'noise_variance_'): \n",
    "        if isinstance(decomp.noise_variance_, float):\n",
    "            print('noise variance: %s'\n",
    "                  % str(decomp.noise_variance_) )\n",
    "        \n",
    "    if hasattr(decomp, 'score'):\n",
    "        if len(y)==0:\n",
    "            print('average log-likelihood of all samples: %s'\n",
    "                  % str(decomp.score(BES_std)) )\n",
    "        else:\n",
    "            print('mean classification accuracy (harsh if many cats.): %s'\n",
    "                  % str(decomp.score(BES_std, y)) )\n",
    "        \n",
    "    if hasattr(decomp, 'score_samples') and not np.isinf( decomp.score(BES_std) ):\n",
    "        pd.DataFrame( decomp.score_samples(BES_std) ).hist(bins=100,figsize = figsz, ax=axs[axno])\n",
    "        axs[axno].set_xlabel('log likelihood')\n",
    "        axs[axno].set_ylabel('frequency')\n",
    "        axs[axno].set_title('LL of samples')\n",
    "        axno = axno + 1\n",
    "\n",
    "    if hasattr(decomp, 'n_iter_'):\n",
    "        print('number of iterations: %s'\n",
    "              % str(decomp.n_iter_) )\n",
    "        \n",
    "    if hasattr(decomp, 'loglike_'):\n",
    "        axs[axno].plot( decomp.loglike_, linewidth=2) # ,figsize = figsz)\n",
    "        axs[axno].set_xlabel('n_iter')\n",
    "        axs[axno].set_ylabel('log likelihood')\n",
    "        axs[axno].set_title('LL by iter')\n",
    "        axno = axno + 1\n",
    "\n",
    "    if hasattr(decomp, 'error_'):\n",
    "\n",
    "        axs[axno].plot( decomp.error_, linewidth=2, figsize = figsz)\n",
    "        axs[axno].set_xlabel('n_iter')\n",
    "        axs[axno].set_ylabel('error')\n",
    "        axs[axno].set_title('LL by iter')\n",
    "        axno = axno + 1"
   ]
  },
  {
   "cell_type": "code",
   "execution_count": 120,
   "metadata": {},
   "outputs": [
    {
     "name": "stdout",
     "output_type": "stream",
     "text": [
      "[dict_learning] ."
     ]
    },
    {
     "name": "stderr",
     "output_type": "stream",
     "text": [
      "[Parallel(n_jobs=4)]: Using backend LokyBackend with 4 concurrent workers.\n",
      "[Parallel(n_jobs=4)]: Done   2 out of   4 | elapsed:    0.0s remaining:    0.0s\n",
      "[Parallel(n_jobs=4)]: Done   4 out of   4 | elapsed:    0.1s finished\n"
     ]
    },
    {
     "name": "stdout",
     "output_type": "stream",
     "text": [
      "."
     ]
    },
    {
     "name": "stderr",
     "output_type": "stream",
     "text": [
      "[Parallel(n_jobs=4)]: Using backend LokyBackend with 4 concurrent workers.\n",
      "[Parallel(n_jobs=4)]: Done   2 out of   4 | elapsed:    0.0s remaining:    0.0s\n",
      "[Parallel(n_jobs=4)]: Done   4 out of   4 | elapsed:    0.0s finished\n"
     ]
    },
    {
     "name": "stdout",
     "output_type": "stream",
     "text": [
      "."
     ]
    },
    {
     "name": "stderr",
     "output_type": "stream",
     "text": [
      "[Parallel(n_jobs=4)]: Using backend LokyBackend with 4 concurrent workers.\n",
      "[Parallel(n_jobs=4)]: Done   2 out of   4 | elapsed:    0.0s remaining:    0.0s\n",
      "[Parallel(n_jobs=4)]: Done   4 out of   4 | elapsed:    0.1s finished\n"
     ]
    },
    {
     "name": "stdout",
     "output_type": "stream",
     "text": [
      "."
     ]
    },
    {
     "name": "stderr",
     "output_type": "stream",
     "text": [
      "[Parallel(n_jobs=4)]: Using backend LokyBackend with 4 concurrent workers.\n",
      "[Parallel(n_jobs=4)]: Done   2 out of   4 | elapsed:    0.0s remaining:    0.0s\n",
      "[Parallel(n_jobs=4)]: Done   4 out of   4 | elapsed:    0.1s finished\n"
     ]
    },
    {
     "name": "stdout",
     "output_type": "stream",
     "text": [
      "."
     ]
    },
    {
     "name": "stderr",
     "output_type": "stream",
     "text": [
      "[Parallel(n_jobs=4)]: Using backend LokyBackend with 4 concurrent workers.\n",
      "[Parallel(n_jobs=4)]: Done   2 out of   4 | elapsed:    0.0s remaining:    0.0s\n",
      "[Parallel(n_jobs=4)]: Done   4 out of   4 | elapsed:    0.1s finished\n"
     ]
    },
    {
     "name": "stdout",
     "output_type": "stream",
     "text": [
      "."
     ]
    },
    {
     "name": "stderr",
     "output_type": "stream",
     "text": [
      "[Parallel(n_jobs=4)]: Using backend LokyBackend with 4 concurrent workers.\n",
      "[Parallel(n_jobs=4)]: Done   2 out of   4 | elapsed:    0.0s remaining:    0.0s\n",
      "[Parallel(n_jobs=4)]: Done   4 out of   4 | elapsed:    0.0s finished\n"
     ]
    },
    {
     "name": "stdout",
     "output_type": "stream",
     "text": [
      "."
     ]
    },
    {
     "name": "stderr",
     "output_type": "stream",
     "text": [
      "[Parallel(n_jobs=4)]: Using backend LokyBackend with 4 concurrent workers.\n",
      "[Parallel(n_jobs=4)]: Done   2 out of   4 | elapsed:    0.0s remaining:    0.0s\n",
      "[Parallel(n_jobs=4)]: Done   4 out of   4 | elapsed:    0.0s finished\n"
     ]
    },
    {
     "name": "stdout",
     "output_type": "stream",
     "text": [
      "."
     ]
    },
    {
     "name": "stderr",
     "output_type": "stream",
     "text": [
      "[Parallel(n_jobs=4)]: Using backend LokyBackend with 4 concurrent workers.\n",
      "[Parallel(n_jobs=4)]: Done   2 out of   4 | elapsed:    0.0s remaining:    0.0s\n",
      "[Parallel(n_jobs=4)]: Done   4 out of   4 | elapsed:    0.0s finished\n"
     ]
    },
    {
     "name": "stdout",
     "output_type": "stream",
     "text": [
      "."
     ]
    },
    {
     "name": "stderr",
     "output_type": "stream",
     "text": [
      "[Parallel(n_jobs=4)]: Using backend LokyBackend with 4 concurrent workers.\n",
      "[Parallel(n_jobs=4)]: Done   2 out of   4 | elapsed:    0.0s remaining:    0.0s\n",
      "[Parallel(n_jobs=4)]: Done   4 out of   4 | elapsed:    0.0s finished\n"
     ]
    },
    {
     "name": "stdout",
     "output_type": "stream",
     "text": [
      "."
     ]
    },
    {
     "name": "stderr",
     "output_type": "stream",
     "text": [
      "[Parallel(n_jobs=4)]: Using backend LokyBackend with 4 concurrent workers.\n",
      "[Parallel(n_jobs=4)]: Done   2 out of   4 | elapsed:    0.0s remaining:    0.0s\n",
      "[Parallel(n_jobs=4)]: Done   4 out of   4 | elapsed:    0.0s finished\n"
     ]
    },
    {
     "name": "stdout",
     "output_type": "stream",
     "text": [
      ".."
     ]
    },
    {
     "name": "stderr",
     "output_type": "stream",
     "text": [
      "[Parallel(n_jobs=4)]: Using backend LokyBackend with 4 concurrent workers.\n",
      "[Parallel(n_jobs=4)]: Done   2 out of   4 | elapsed:    0.0s remaining:    0.0s\n",
      "[Parallel(n_jobs=4)]: Done   4 out of   4 | elapsed:    0.0s finished\n",
      "[Parallel(n_jobs=4)]: Using backend LokyBackend with 4 concurrent workers.\n",
      "[Parallel(n_jobs=4)]: Done   2 out of   4 | elapsed:    0.0s remaining:    0.0s\n",
      "[Parallel(n_jobs=4)]: Done   4 out of   4 | elapsed:    0.0s finished\n"
     ]
    },
    {
     "name": "stdout",
     "output_type": "stream",
     "text": [
      "."
     ]
    },
    {
     "name": "stderr",
     "output_type": "stream",
     "text": [
      "[Parallel(n_jobs=4)]: Using backend LokyBackend with 4 concurrent workers.\n",
      "[Parallel(n_jobs=4)]: Done   2 out of   4 | elapsed:    0.0s remaining:    0.0s\n",
      "[Parallel(n_jobs=4)]: Done   4 out of   4 | elapsed:    0.0s finished\n"
     ]
    },
    {
     "name": "stdout",
     "output_type": "stream",
     "text": [
      "."
     ]
    },
    {
     "name": "stderr",
     "output_type": "stream",
     "text": [
      "[Parallel(n_jobs=4)]: Using backend LokyBackend with 4 concurrent workers.\n",
      "[Parallel(n_jobs=4)]: Done   2 out of   4 | elapsed:    0.0s remaining:    0.0s\n",
      "[Parallel(n_jobs=4)]: Done   4 out of   4 | elapsed:    0.0s finished\n"
     ]
    },
    {
     "name": "stdout",
     "output_type": "stream",
     "text": [
      "."
     ]
    },
    {
     "name": "stderr",
     "output_type": "stream",
     "text": [
      "[Parallel(n_jobs=4)]: Using backend LokyBackend with 4 concurrent workers.\n",
      "[Parallel(n_jobs=4)]: Done   2 out of   4 | elapsed:    0.0s remaining:    0.0s\n",
      "[Parallel(n_jobs=4)]: Done   4 out of   4 | elapsed:    0.0s finished\n"
     ]
    },
    {
     "name": "stdout",
     "output_type": "stream",
     "text": [
      "."
     ]
    },
    {
     "name": "stderr",
     "output_type": "stream",
     "text": [
      "[Parallel(n_jobs=4)]: Using backend LokyBackend with 4 concurrent workers.\n",
      "[Parallel(n_jobs=4)]: Done   2 out of   4 | elapsed:    0.0s remaining:    0.0s\n",
      "[Parallel(n_jobs=4)]: Done   4 out of   4 | elapsed:    0.0s finished\n"
     ]
    },
    {
     "name": "stdout",
     "output_type": "stream",
     "text": [
      "."
     ]
    },
    {
     "name": "stderr",
     "output_type": "stream",
     "text": [
      "[Parallel(n_jobs=4)]: Using backend LokyBackend with 4 concurrent workers.\n",
      "[Parallel(n_jobs=4)]: Done   2 out of   4 | elapsed:    0.0s remaining:    0.0s\n",
      "[Parallel(n_jobs=4)]: Done   4 out of   4 | elapsed:    0.0s finished\n"
     ]
    },
    {
     "name": "stdout",
     "output_type": "stream",
     "text": [
      "."
     ]
    },
    {
     "name": "stderr",
     "output_type": "stream",
     "text": [
      "[Parallel(n_jobs=4)]: Using backend LokyBackend with 4 concurrent workers.\n",
      "[Parallel(n_jobs=4)]: Done   2 out of   4 | elapsed:    0.0s remaining:    0.0s\n",
      "[Parallel(n_jobs=4)]: Done   4 out of   4 | elapsed:    0.0s finished\n"
     ]
    },
    {
     "name": "stdout",
     "output_type": "stream",
     "text": [
      "."
     ]
    },
    {
     "name": "stderr",
     "output_type": "stream",
     "text": [
      "[Parallel(n_jobs=4)]: Using backend LokyBackend with 4 concurrent workers.\n",
      "[Parallel(n_jobs=4)]: Done   2 out of   4 | elapsed:    0.0s remaining:    0.0s\n",
      "[Parallel(n_jobs=4)]: Done   4 out of   4 | elapsed:    0.0s finished\n"
     ]
    },
    {
     "name": "stdout",
     "output_type": "stream",
     "text": [
      "."
     ]
    },
    {
     "name": "stderr",
     "output_type": "stream",
     "text": [
      "[Parallel(n_jobs=4)]: Using backend LokyBackend with 4 concurrent workers.\n",
      "[Parallel(n_jobs=4)]: Done   2 out of   4 | elapsed:    0.0s remaining:    0.0s\n",
      "[Parallel(n_jobs=4)]: Done   4 out of   4 | elapsed:    0.0s finished\n"
     ]
    },
    {
     "name": "stdout",
     "output_type": "stream",
     "text": [
      ".."
     ]
    },
    {
     "name": "stderr",
     "output_type": "stream",
     "text": [
      "[Parallel(n_jobs=4)]: Using backend LokyBackend with 4 concurrent workers.\n",
      "[Parallel(n_jobs=4)]: Done   2 out of   4 | elapsed:    0.0s remaining:    0.0s\n",
      "[Parallel(n_jobs=4)]: Done   4 out of   4 | elapsed:    0.0s finished\n",
      "[Parallel(n_jobs=4)]: Using backend LokyBackend with 4 concurrent workers.\n",
      "[Parallel(n_jobs=4)]: Done   2 out of   4 | elapsed:    0.0s remaining:    0.0s\n",
      "[Parallel(n_jobs=4)]: Done   4 out of   4 | elapsed:    0.1s finished\n"
     ]
    },
    {
     "name": "stdout",
     "output_type": "stream",
     "text": [
      "."
     ]
    },
    {
     "name": "stderr",
     "output_type": "stream",
     "text": [
      "[Parallel(n_jobs=4)]: Using backend LokyBackend with 4 concurrent workers.\n",
      "[Parallel(n_jobs=4)]: Done   2 out of   4 | elapsed:    0.0s remaining:    0.0s\n",
      "[Parallel(n_jobs=4)]: Done   4 out of   4 | elapsed:    0.0s finished\n"
     ]
    },
    {
     "name": "stdout",
     "output_type": "stream",
     "text": [
      "."
     ]
    },
    {
     "name": "stderr",
     "output_type": "stream",
     "text": [
      "[Parallel(n_jobs=4)]: Using backend LokyBackend with 4 concurrent workers.\n",
      "[Parallel(n_jobs=4)]: Done   2 out of   4 | elapsed:    0.0s remaining:    0.0s\n",
      "[Parallel(n_jobs=4)]: Done   4 out of   4 | elapsed:    0.0s finished\n"
     ]
    },
    {
     "name": "stdout",
     "output_type": "stream",
     "text": [
      "."
     ]
    },
    {
     "name": "stderr",
     "output_type": "stream",
     "text": [
      "[Parallel(n_jobs=4)]: Using backend LokyBackend with 4 concurrent workers.\n",
      "[Parallel(n_jobs=4)]: Done   2 out of   4 | elapsed:    0.0s remaining:    0.0s\n",
      "[Parallel(n_jobs=4)]: Done   4 out of   4 | elapsed:    0.0s finished\n"
     ]
    },
    {
     "name": "stdout",
     "output_type": "stream",
     "text": [
      "."
     ]
    },
    {
     "name": "stderr",
     "output_type": "stream",
     "text": [
      "[Parallel(n_jobs=4)]: Using backend LokyBackend with 4 concurrent workers.\n",
      "[Parallel(n_jobs=4)]: Done   2 out of   4 | elapsed:    0.0s remaining:    0.0s\n",
      "[Parallel(n_jobs=4)]: Done   4 out of   4 | elapsed:    0.0s finished\n"
     ]
    },
    {
     "name": "stdout",
     "output_type": "stream",
     "text": [
      ".."
     ]
    },
    {
     "name": "stderr",
     "output_type": "stream",
     "text": [
      "[Parallel(n_jobs=4)]: Using backend LokyBackend with 4 concurrent workers.\n",
      "[Parallel(n_jobs=4)]: Done   2 out of   4 | elapsed:    0.0s remaining:    0.0s\n",
      "[Parallel(n_jobs=4)]: Done   4 out of   4 | elapsed:    0.0s finished\n",
      "[Parallel(n_jobs=4)]: Using backend LokyBackend with 4 concurrent workers.\n",
      "[Parallel(n_jobs=4)]: Done   2 out of   4 | elapsed:    0.0s remaining:    0.0s\n",
      "[Parallel(n_jobs=4)]: Done   4 out of   4 | elapsed:    0.0s finished\n"
     ]
    },
    {
     "name": "stdout",
     "output_type": "stream",
     "text": [
      "."
     ]
    },
    {
     "name": "stderr",
     "output_type": "stream",
     "text": [
      "[Parallel(n_jobs=4)]: Using backend LokyBackend with 4 concurrent workers.\n",
      "[Parallel(n_jobs=4)]: Done   2 out of   4 | elapsed:    0.0s remaining:    0.0s\n",
      "[Parallel(n_jobs=4)]: Done   4 out of   4 | elapsed:    0.0s finished\n"
     ]
    },
    {
     "name": "stdout",
     "output_type": "stream",
     "text": [
      ".."
     ]
    },
    {
     "name": "stderr",
     "output_type": "stream",
     "text": [
      "[Parallel(n_jobs=4)]: Using backend LokyBackend with 4 concurrent workers.\n",
      "[Parallel(n_jobs=4)]: Done   2 out of   4 | elapsed:    0.0s remaining:    0.0s\n",
      "[Parallel(n_jobs=4)]: Done   4 out of   4 | elapsed:    0.0s finished\n",
      "[Parallel(n_jobs=4)]: Using backend LokyBackend with 4 concurrent workers.\n",
      "[Parallel(n_jobs=4)]: Done   2 out of   4 | elapsed:    0.0s remaining:    0.0s\n",
      "[Parallel(n_jobs=4)]: Done   4 out of   4 | elapsed:    0.0s finished\n"
     ]
    },
    {
     "name": "stdout",
     "output_type": "stream",
     "text": [
      "."
     ]
    },
    {
     "name": "stderr",
     "output_type": "stream",
     "text": [
      "[Parallel(n_jobs=4)]: Using backend LokyBackend with 4 concurrent workers.\n",
      "[Parallel(n_jobs=4)]: Done   2 out of   4 | elapsed:    0.0s remaining:    0.0s\n",
      "[Parallel(n_jobs=4)]: Done   4 out of   4 | elapsed:    0.0s finished\n"
     ]
    },
    {
     "name": "stdout",
     "output_type": "stream",
     "text": [
      "."
     ]
    },
    {
     "name": "stderr",
     "output_type": "stream",
     "text": [
      "[Parallel(n_jobs=4)]: Using backend LokyBackend with 4 concurrent workers.\n",
      "[Parallel(n_jobs=4)]: Done   2 out of   4 | elapsed:    0.0s remaining:    0.0s\n",
      "[Parallel(n_jobs=4)]: Done   4 out of   4 | elapsed:    0.0s finished\n"
     ]
    },
    {
     "name": "stdout",
     "output_type": "stream",
     "text": [
      "."
     ]
    },
    {
     "name": "stderr",
     "output_type": "stream",
     "text": [
      "[Parallel(n_jobs=4)]: Using backend LokyBackend with 4 concurrent workers.\n",
      "[Parallel(n_jobs=4)]: Done   2 out of   4 | elapsed:    0.0s remaining:    0.0s\n",
      "[Parallel(n_jobs=4)]: Done   4 out of   4 | elapsed:    0.0s finished\n"
     ]
    },
    {
     "name": "stdout",
     "output_type": "stream",
     "text": [
      "."
     ]
    },
    {
     "name": "stderr",
     "output_type": "stream",
     "text": [
      "[Parallel(n_jobs=4)]: Using backend LokyBackend with 4 concurrent workers.\n",
      "[Parallel(n_jobs=4)]: Done   2 out of   4 | elapsed:    0.0s remaining:    0.0s\n",
      "[Parallel(n_jobs=4)]: Done   4 out of   4 | elapsed:    0.0s finished\n"
     ]
    },
    {
     "name": "stdout",
     "output_type": "stream",
     "text": [
      "."
     ]
    },
    {
     "name": "stderr",
     "output_type": "stream",
     "text": [
      "[Parallel(n_jobs=4)]: Using backend LokyBackend with 4 concurrent workers.\n",
      "[Parallel(n_jobs=4)]: Done   2 out of   4 | elapsed:    0.0s remaining:    0.0s\n",
      "[Parallel(n_jobs=4)]: Done   4 out of   4 | elapsed:    0.0s finished\n"
     ]
    },
    {
     "name": "stdout",
     "output_type": "stream",
     "text": [
      ".."
     ]
    },
    {
     "name": "stderr",
     "output_type": "stream",
     "text": [
      "[Parallel(n_jobs=4)]: Using backend LokyBackend with 4 concurrent workers.\n",
      "[Parallel(n_jobs=4)]: Done   2 out of   4 | elapsed:    0.0s remaining:    0.0s\n",
      "[Parallel(n_jobs=4)]: Done   4 out of   4 | elapsed:    0.0s finished\n",
      "[Parallel(n_jobs=4)]: Using backend LokyBackend with 4 concurrent workers.\n",
      "[Parallel(n_jobs=4)]: Done   2 out of   4 | elapsed:    0.0s remaining:    0.0s\n",
      "[Parallel(n_jobs=4)]: Done   4 out of   4 | elapsed:    0.0s finished\n"
     ]
    },
    {
     "name": "stdout",
     "output_type": "stream",
     "text": [
      "."
     ]
    },
    {
     "name": "stderr",
     "output_type": "stream",
     "text": [
      "[Parallel(n_jobs=4)]: Using backend LokyBackend with 4 concurrent workers.\n",
      "[Parallel(n_jobs=4)]: Done   2 out of   4 | elapsed:    0.0s remaining:    0.0s\n",
      "[Parallel(n_jobs=4)]: Done   4 out of   4 | elapsed:    0.0s finished\n"
     ]
    },
    {
     "name": "stdout",
     "output_type": "stream",
     "text": [
      "."
     ]
    },
    {
     "name": "stderr",
     "output_type": "stream",
     "text": [
      "[Parallel(n_jobs=4)]: Using backend LokyBackend with 4 concurrent workers.\n",
      "[Parallel(n_jobs=4)]: Done   2 out of   4 | elapsed:    0.0s remaining:    0.0s\n",
      "[Parallel(n_jobs=4)]: Done   4 out of   4 | elapsed:    0.0s finished\n"
     ]
    },
    {
     "name": "stdout",
     "output_type": "stream",
     "text": [
      "."
     ]
    },
    {
     "name": "stderr",
     "output_type": "stream",
     "text": [
      "[Parallel(n_jobs=4)]: Using backend LokyBackend with 4 concurrent workers.\n",
      "[Parallel(n_jobs=4)]: Done   2 out of   4 | elapsed:    0.0s remaining:    0.0s\n",
      "[Parallel(n_jobs=4)]: Done   4 out of   4 | elapsed:    0.0s finished\n"
     ]
    },
    {
     "name": "stdout",
     "output_type": "stream",
     "text": [
      "."
     ]
    },
    {
     "name": "stderr",
     "output_type": "stream",
     "text": [
      "[Parallel(n_jobs=4)]: Using backend LokyBackend with 4 concurrent workers.\n",
      "[Parallel(n_jobs=4)]: Done   2 out of   4 | elapsed:    0.0s remaining:    0.0s\n",
      "[Parallel(n_jobs=4)]: Done   4 out of   4 | elapsed:    0.0s finished\n"
     ]
    },
    {
     "name": "stdout",
     "output_type": "stream",
     "text": [
      "."
     ]
    },
    {
     "name": "stderr",
     "output_type": "stream",
     "text": [
      "[Parallel(n_jobs=4)]: Using backend LokyBackend with 4 concurrent workers.\n",
      "[Parallel(n_jobs=4)]: Done   2 out of   4 | elapsed:    0.0s remaining:    0.0s\n",
      "[Parallel(n_jobs=4)]: Done   4 out of   4 | elapsed:    0.0s finished\n"
     ]
    },
    {
     "name": "stdout",
     "output_type": "stream",
     "text": [
      "."
     ]
    },
    {
     "name": "stderr",
     "output_type": "stream",
     "text": [
      "[Parallel(n_jobs=4)]: Using backend LokyBackend with 4 concurrent workers.\n",
      "[Parallel(n_jobs=4)]: Done   2 out of   4 | elapsed:    0.0s remaining:    0.0s\n",
      "[Parallel(n_jobs=4)]: Done   4 out of   4 | elapsed:    0.0s finished\n"
     ]
    },
    {
     "name": "stdout",
     "output_type": "stream",
     "text": [
      "."
     ]
    },
    {
     "name": "stderr",
     "output_type": "stream",
     "text": [
      "[Parallel(n_jobs=4)]: Using backend LokyBackend with 4 concurrent workers.\n",
      "[Parallel(n_jobs=4)]: Done   2 out of   4 | elapsed:    0.0s remaining:    0.0s\n",
      "[Parallel(n_jobs=4)]: Done   4 out of   4 | elapsed:    0.0s finished\n"
     ]
    },
    {
     "name": "stdout",
     "output_type": "stream",
     "text": [
      "."
     ]
    },
    {
     "name": "stderr",
     "output_type": "stream",
     "text": [
      "[Parallel(n_jobs=4)]: Using backend LokyBackend with 4 concurrent workers.\n",
      "[Parallel(n_jobs=4)]: Done   2 out of   4 | elapsed:    0.0s remaining:    0.0s\n",
      "[Parallel(n_jobs=4)]: Done   4 out of   4 | elapsed:    0.0s finished\n"
     ]
    },
    {
     "name": "stdout",
     "output_type": "stream",
     "text": [
      "."
     ]
    },
    {
     "name": "stderr",
     "output_type": "stream",
     "text": [
      "[Parallel(n_jobs=4)]: Using backend LokyBackend with 4 concurrent workers.\n",
      "[Parallel(n_jobs=4)]: Done   2 out of   4 | elapsed:    0.0s remaining:    0.0s\n",
      "[Parallel(n_jobs=4)]: Done   4 out of   4 | elapsed:    0.0s finished\n"
     ]
    },
    {
     "name": "stdout",
     "output_type": "stream",
     "text": [
      "."
     ]
    },
    {
     "name": "stderr",
     "output_type": "stream",
     "text": [
      "[Parallel(n_jobs=4)]: Using backend LokyBackend with 4 concurrent workers.\n",
      "[Parallel(n_jobs=4)]: Done   2 out of   4 | elapsed:    0.0s remaining:    0.0s\n",
      "[Parallel(n_jobs=4)]: Done   4 out of   4 | elapsed:    0.0s finished\n"
     ]
    },
    {
     "name": "stdout",
     "output_type": "stream",
     "text": [
      "."
     ]
    },
    {
     "name": "stderr",
     "output_type": "stream",
     "text": [
      "[Parallel(n_jobs=4)]: Using backend LokyBackend with 4 concurrent workers.\n",
      "[Parallel(n_jobs=4)]: Done   2 out of   4 | elapsed:    0.0s remaining:    0.0s\n",
      "[Parallel(n_jobs=4)]: Done   4 out of   4 | elapsed:    0.0s finished\n"
     ]
    },
    {
     "name": "stdout",
     "output_type": "stream",
     "text": [
      "."
     ]
    },
    {
     "name": "stderr",
     "output_type": "stream",
     "text": [
      "[Parallel(n_jobs=4)]: Using backend LokyBackend with 4 concurrent workers.\n",
      "[Parallel(n_jobs=4)]: Done   2 out of   4 | elapsed:    0.0s remaining:    0.0s\n",
      "[Parallel(n_jobs=4)]: Done   4 out of   4 | elapsed:    0.0s finished\n"
     ]
    },
    {
     "name": "stdout",
     "output_type": "stream",
     "text": [
      ".."
     ]
    },
    {
     "name": "stderr",
     "output_type": "stream",
     "text": [
      "[Parallel(n_jobs=4)]: Using backend LokyBackend with 4 concurrent workers.\n",
      "[Parallel(n_jobs=4)]: Done   2 out of   4 | elapsed:    0.0s remaining:    0.0s\n",
      "[Parallel(n_jobs=4)]: Done   4 out of   4 | elapsed:    0.0s finished\n",
      "[Parallel(n_jobs=4)]: Using backend LokyBackend with 4 concurrent workers.\n",
      "[Parallel(n_jobs=4)]: Done   2 out of   4 | elapsed:    0.0s remaining:    0.0s\n",
      "[Parallel(n_jobs=4)]: Done   4 out of   4 | elapsed:    0.0s finished\n"
     ]
    },
    {
     "name": "stdout",
     "output_type": "stream",
     "text": [
      "."
     ]
    },
    {
     "name": "stderr",
     "output_type": "stream",
     "text": [
      "[Parallel(n_jobs=4)]: Using backend LokyBackend with 4 concurrent workers.\n",
      "[Parallel(n_jobs=4)]: Done   2 out of   4 | elapsed:    0.0s remaining:    0.0s\n",
      "[Parallel(n_jobs=4)]: Done   4 out of   4 | elapsed:    0.0s finished\n"
     ]
    },
    {
     "name": "stdout",
     "output_type": "stream",
     "text": [
      ".."
     ]
    },
    {
     "name": "stderr",
     "output_type": "stream",
     "text": [
      "[Parallel(n_jobs=4)]: Using backend LokyBackend with 4 concurrent workers.\n",
      "[Parallel(n_jobs=4)]: Done   2 out of   4 | elapsed:    0.0s remaining:    0.0s\n",
      "[Parallel(n_jobs=4)]: Done   4 out of   4 | elapsed:    0.0s finished\n",
      "[Parallel(n_jobs=4)]: Using backend LokyBackend with 4 concurrent workers.\n",
      "[Parallel(n_jobs=4)]: Done   2 out of   4 | elapsed:    0.0s remaining:    0.0s\n",
      "[Parallel(n_jobs=4)]: Done   4 out of   4 | elapsed:    0.0s finished\n"
     ]
    },
    {
     "name": "stdout",
     "output_type": "stream",
     "text": [
      "."
     ]
    },
    {
     "name": "stderr",
     "output_type": "stream",
     "text": [
      "[Parallel(n_jobs=4)]: Using backend LokyBackend with 4 concurrent workers.\n",
      "[Parallel(n_jobs=4)]: Done   2 out of   4 | elapsed:    0.0s remaining:    0.0s\n",
      "[Parallel(n_jobs=4)]: Done   4 out of   4 | elapsed:    0.0s finished\n"
     ]
    },
    {
     "name": "stdout",
     "output_type": "stream",
     "text": [
      "."
     ]
    },
    {
     "name": "stderr",
     "output_type": "stream",
     "text": [
      "[Parallel(n_jobs=4)]: Using backend LokyBackend with 4 concurrent workers.\n",
      "[Parallel(n_jobs=4)]: Done   2 out of   4 | elapsed:    0.0s remaining:    0.0s\n",
      "[Parallel(n_jobs=4)]: Done   4 out of   4 | elapsed:    0.0s finished\n"
     ]
    },
    {
     "name": "stdout",
     "output_type": "stream",
     "text": [
      "."
     ]
    },
    {
     "name": "stderr",
     "output_type": "stream",
     "text": [
      "[Parallel(n_jobs=4)]: Using backend LokyBackend with 4 concurrent workers.\n",
      "[Parallel(n_jobs=4)]: Done   2 out of   4 | elapsed:    0.0s remaining:    0.0s\n",
      "[Parallel(n_jobs=4)]: Done   4 out of   4 | elapsed:    0.0s finished\n"
     ]
    },
    {
     "name": "stdout",
     "output_type": "stream",
     "text": [
      "."
     ]
    },
    {
     "name": "stderr",
     "output_type": "stream",
     "text": [
      "[Parallel(n_jobs=4)]: Using backend LokyBackend with 4 concurrent workers.\n",
      "[Parallel(n_jobs=4)]: Done   2 out of   4 | elapsed:    0.0s remaining:    0.0s\n",
      "[Parallel(n_jobs=4)]: Done   4 out of   4 | elapsed:    0.0s finished\n"
     ]
    },
    {
     "name": "stdout",
     "output_type": "stream",
     "text": [
      "."
     ]
    },
    {
     "name": "stderr",
     "output_type": "stream",
     "text": [
      "[Parallel(n_jobs=4)]: Using backend LokyBackend with 4 concurrent workers.\n",
      "[Parallel(n_jobs=4)]: Done   2 out of   4 | elapsed:    0.0s remaining:    0.0s\n",
      "[Parallel(n_jobs=4)]: Done   4 out of   4 | elapsed:    0.0s finished\n"
     ]
    },
    {
     "name": "stdout",
     "output_type": "stream",
     "text": [
      "."
     ]
    },
    {
     "name": "stderr",
     "output_type": "stream",
     "text": [
      "[Parallel(n_jobs=4)]: Using backend LokyBackend with 4 concurrent workers.\n",
      "[Parallel(n_jobs=4)]: Done   2 out of   4 | elapsed:    0.0s remaining:    0.0s\n",
      "[Parallel(n_jobs=4)]: Done   4 out of   4 | elapsed:    0.0s finished\n"
     ]
    },
    {
     "name": "stdout",
     "output_type": "stream",
     "text": [
      "."
     ]
    },
    {
     "name": "stderr",
     "output_type": "stream",
     "text": [
      "[Parallel(n_jobs=4)]: Using backend LokyBackend with 4 concurrent workers.\n",
      "[Parallel(n_jobs=4)]: Done   2 out of   4 | elapsed:    0.0s remaining:    0.0s\n",
      "[Parallel(n_jobs=4)]: Done   4 out of   4 | elapsed:    0.0s finished\n"
     ]
    },
    {
     "name": "stdout",
     "output_type": "stream",
     "text": [
      "."
     ]
    },
    {
     "name": "stderr",
     "output_type": "stream",
     "text": [
      "[Parallel(n_jobs=4)]: Using backend LokyBackend with 4 concurrent workers.\n",
      "[Parallel(n_jobs=4)]: Done   2 out of   4 | elapsed:    0.0s remaining:    0.0s\n",
      "[Parallel(n_jobs=4)]: Done   4 out of   4 | elapsed:    0.0s finished\n"
     ]
    },
    {
     "name": "stdout",
     "output_type": "stream",
     "text": [
      ".."
     ]
    },
    {
     "name": "stderr",
     "output_type": "stream",
     "text": [
      "[Parallel(n_jobs=4)]: Using backend LokyBackend with 4 concurrent workers.\n",
      "[Parallel(n_jobs=4)]: Done   2 out of   4 | elapsed:    0.0s remaining:    0.0s\n",
      "[Parallel(n_jobs=4)]: Done   4 out of   4 | elapsed:    0.0s finished\n",
      "[Parallel(n_jobs=4)]: Using backend LokyBackend with 4 concurrent workers.\n"
     ]
    },
    {
     "name": "stdout",
     "output_type": "stream",
     "text": [
      "."
     ]
    },
    {
     "name": "stderr",
     "output_type": "stream",
     "text": [
      "[Parallel(n_jobs=4)]: Done   2 out of   4 | elapsed:    0.0s remaining:    0.0s\n",
      "[Parallel(n_jobs=4)]: Done   4 out of   4 | elapsed:    0.0s finished\n",
      "[Parallel(n_jobs=4)]: Using backend LokyBackend with 4 concurrent workers.\n"
     ]
    },
    {
     "name": "stdout",
     "output_type": "stream",
     "text": [
      "."
     ]
    },
    {
     "name": "stderr",
     "output_type": "stream",
     "text": [
      "[Parallel(n_jobs=4)]: Done   2 out of   4 | elapsed:    0.0s remaining:    0.0s\n",
      "[Parallel(n_jobs=4)]: Done   4 out of   4 | elapsed:    0.0s finished\n",
      "[Parallel(n_jobs=4)]: Using backend LokyBackend with 4 concurrent workers.\n"
     ]
    },
    {
     "name": "stdout",
     "output_type": "stream",
     "text": [
      "."
     ]
    },
    {
     "name": "stderr",
     "output_type": "stream",
     "text": [
      "[Parallel(n_jobs=4)]: Done   2 out of   4 | elapsed:    0.0s remaining:    0.0s\n",
      "[Parallel(n_jobs=4)]: Done   4 out of   4 | elapsed:    0.0s finished\n",
      "[Parallel(n_jobs=4)]: Using backend LokyBackend with 4 concurrent workers.\n"
     ]
    },
    {
     "name": "stdout",
     "output_type": "stream",
     "text": [
      "."
     ]
    },
    {
     "name": "stderr",
     "output_type": "stream",
     "text": [
      "[Parallel(n_jobs=4)]: Done   2 out of   4 | elapsed:    0.0s remaining:    0.0s\n",
      "[Parallel(n_jobs=4)]: Done   4 out of   4 | elapsed:    0.0s finished\n",
      "[Parallel(n_jobs=4)]: Using backend LokyBackend with 4 concurrent workers.\n"
     ]
    },
    {
     "name": "stdout",
     "output_type": "stream",
     "text": [
      "."
     ]
    },
    {
     "name": "stderr",
     "output_type": "stream",
     "text": [
      "[Parallel(n_jobs=4)]: Done   2 out of   4 | elapsed:    0.0s remaining:    0.0s\n",
      "[Parallel(n_jobs=4)]: Done   4 out of   4 | elapsed:    0.0s finished\n",
      "[Parallel(n_jobs=4)]: Using backend LokyBackend with 4 concurrent workers.\n"
     ]
    },
    {
     "name": "stdout",
     "output_type": "stream",
     "text": [
      "."
     ]
    },
    {
     "name": "stderr",
     "output_type": "stream",
     "text": [
      "[Parallel(n_jobs=4)]: Done   2 out of   4 | elapsed:    0.0s remaining:    0.0s\n",
      "[Parallel(n_jobs=4)]: Done   4 out of   4 | elapsed:    0.0s finished\n",
      "[Parallel(n_jobs=4)]: Using backend LokyBackend with 4 concurrent workers.\n",
      "[Parallel(n_jobs=4)]: Done   2 out of   4 | elapsed:    0.0s remaining:    0.0s\n"
     ]
    },
    {
     "name": "stdout",
     "output_type": "stream",
     "text": [
      "."
     ]
    },
    {
     "name": "stderr",
     "output_type": "stream",
     "text": [
      "[Parallel(n_jobs=4)]: Done   4 out of   4 | elapsed:    0.0s finished\n",
      "[Parallel(n_jobs=4)]: Using backend LokyBackend with 4 concurrent workers.\n"
     ]
    },
    {
     "name": "stdout",
     "output_type": "stream",
     "text": [
      "."
     ]
    },
    {
     "name": "stderr",
     "output_type": "stream",
     "text": [
      "[Parallel(n_jobs=4)]: Done   2 out of   4 | elapsed:    0.0s remaining:    0.0s\n",
      "[Parallel(n_jobs=4)]: Done   4 out of   4 | elapsed:    0.0s finished\n",
      "[Parallel(n_jobs=4)]: Using backend LokyBackend with 4 concurrent workers.\n",
      "[Parallel(n_jobs=4)]: Done   2 out of   4 | elapsed:    0.0s remaining:    0.0s\n",
      "[Parallel(n_jobs=4)]: Done   4 out of   4 | elapsed:    0.0s finished\n"
     ]
    },
    {
     "name": "stdout",
     "output_type": "stream",
     "text": [
      ".."
     ]
    },
    {
     "name": "stderr",
     "output_type": "stream",
     "text": [
      "[Parallel(n_jobs=4)]: Using backend LokyBackend with 4 concurrent workers.\n",
      "[Parallel(n_jobs=4)]: Done   2 out of   4 | elapsed:    0.0s remaining:    0.0s\n",
      "[Parallel(n_jobs=4)]: Done   4 out of   4 | elapsed:    0.0s finished\n"
     ]
    },
    {
     "name": "stdout",
     "output_type": "stream",
     "text": [
      "."
     ]
    },
    {
     "name": "stderr",
     "output_type": "stream",
     "text": [
      "[Parallel(n_jobs=4)]: Using backend LokyBackend with 4 concurrent workers.\n",
      "[Parallel(n_jobs=4)]: Done   2 out of   4 | elapsed:    0.0s remaining:    0.0s\n",
      "[Parallel(n_jobs=4)]: Done   4 out of   4 | elapsed:    0.0s finished\n",
      "[Parallel(n_jobs=4)]: Using backend LokyBackend with 4 concurrent workers.\n",
      "[Parallel(n_jobs=4)]: Done   2 out of   4 | elapsed:    0.0s remaining:    0.0s\n",
      "[Parallel(n_jobs=4)]: Done   4 out of   4 | elapsed:    0.0s finished\n"
     ]
    },
    {
     "name": "stdout",
     "output_type": "stream",
     "text": [
      ".."
     ]
    },
    {
     "name": "stderr",
     "output_type": "stream",
     "text": [
      "[Parallel(n_jobs=4)]: Using backend LokyBackend with 4 concurrent workers.\n",
      "[Parallel(n_jobs=4)]: Done   2 out of   4 | elapsed:    0.0s remaining:    0.0s\n",
      "[Parallel(n_jobs=4)]: Done   4 out of   4 | elapsed:    0.0s finished\n",
      "[Parallel(n_jobs=4)]: Using backend LokyBackend with 4 concurrent workers.\n",
      "[Parallel(n_jobs=4)]: Done   2 out of   4 | elapsed:    0.0s remaining:    0.0s\n"
     ]
    },
    {
     "name": "stdout",
     "output_type": "stream",
     "text": [
      "."
     ]
    },
    {
     "name": "stderr",
     "output_type": "stream",
     "text": [
      "[Parallel(n_jobs=4)]: Done   4 out of   4 | elapsed:    0.0s finished\n",
      "[Parallel(n_jobs=4)]: Using backend LokyBackend with 4 concurrent workers.\n"
     ]
    },
    {
     "name": "stdout",
     "output_type": "stream",
     "text": [
      "."
     ]
    },
    {
     "name": "stderr",
     "output_type": "stream",
     "text": [
      "[Parallel(n_jobs=4)]: Done   2 out of   4 | elapsed:    0.0s remaining:    0.0s\n",
      "[Parallel(n_jobs=4)]: Done   4 out of   4 | elapsed:    0.0s finished\n",
      "[Parallel(n_jobs=4)]: Using backend LokyBackend with 4 concurrent workers.\n",
      "[Parallel(n_jobs=4)]: Done   2 out of   4 | elapsed:    0.0s remaining:    0.0s\n"
     ]
    },
    {
     "name": "stdout",
     "output_type": "stream",
     "text": [
      "."
     ]
    },
    {
     "name": "stderr",
     "output_type": "stream",
     "text": [
      "[Parallel(n_jobs=4)]: Done   4 out of   4 | elapsed:    0.0s finished\n",
      "[Parallel(n_jobs=4)]: Using backend LokyBackend with 4 concurrent workers.\n"
     ]
    },
    {
     "name": "stdout",
     "output_type": "stream",
     "text": [
      "."
     ]
    },
    {
     "name": "stderr",
     "output_type": "stream",
     "text": [
      "[Parallel(n_jobs=4)]: Done   2 out of   4 | elapsed:    0.0s remaining:    0.0s\n",
      "[Parallel(n_jobs=4)]: Done   4 out of   4 | elapsed:    0.0s finished\n",
      "[Parallel(n_jobs=4)]: Using backend LokyBackend with 4 concurrent workers.\n",
      "[Parallel(n_jobs=4)]: Done   2 out of   4 | elapsed:    0.0s remaining:    0.0s\n"
     ]
    },
    {
     "name": "stdout",
     "output_type": "stream",
     "text": [
      "."
     ]
    },
    {
     "name": "stderr",
     "output_type": "stream",
     "text": [
      "[Parallel(n_jobs=4)]: Done   4 out of   4 | elapsed:    0.0s finished\n",
      "[Parallel(n_jobs=4)]: Using backend LokyBackend with 4 concurrent workers.\n",
      "[Parallel(n_jobs=4)]: Done   2 out of   4 | elapsed:    0.0s remaining:    0.0s\n",
      "[Parallel(n_jobs=4)]: Done   4 out of   4 | elapsed:    0.0s finished\n"
     ]
    },
    {
     "name": "stdout",
     "output_type": "stream",
     "text": [
      ".."
     ]
    },
    {
     "name": "stderr",
     "output_type": "stream",
     "text": [
      "[Parallel(n_jobs=4)]: Using backend LokyBackend with 4 concurrent workers.\n",
      "[Parallel(n_jobs=4)]: Done   2 out of   4 | elapsed:    0.0s remaining:    0.0s\n",
      "[Parallel(n_jobs=4)]: Done   4 out of   4 | elapsed:    0.0s finished\n",
      "[Parallel(n_jobs=4)]: Using backend LokyBackend with 4 concurrent workers.\n",
      "[Parallel(n_jobs=4)]: Done   2 out of   4 | elapsed:    0.0s remaining:    0.0s\n",
      "[Parallel(n_jobs=4)]: Done   4 out of   4 | elapsed:    0.0s finished\n"
     ]
    },
    {
     "name": "stdout",
     "output_type": "stream",
     "text": [
      "."
     ]
    },
    {
     "name": "stderr",
     "output_type": "stream",
     "text": [
      "[Parallel(n_jobs=4)]: Using backend LokyBackend with 4 concurrent workers.\n",
      "[Parallel(n_jobs=4)]: Done   2 out of   4 | elapsed:    0.0s remaining:    0.0s\n",
      "[Parallel(n_jobs=4)]: Done   4 out of   4 | elapsed:    0.0s finished\n"
     ]
    },
    {
     "name": "stdout",
     "output_type": "stream",
     "text": [
      "."
     ]
    },
    {
     "name": "stderr",
     "output_type": "stream",
     "text": [
      "[Parallel(n_jobs=4)]: Using backend LokyBackend with 4 concurrent workers.\n",
      "[Parallel(n_jobs=4)]: Done   2 out of   4 | elapsed:    0.0s remaining:    0.0s\n",
      "[Parallel(n_jobs=4)]: Done   4 out of   4 | elapsed:    0.0s finished\n"
     ]
    },
    {
     "name": "stdout",
     "output_type": "stream",
     "text": [
      "."
     ]
    },
    {
     "name": "stderr",
     "output_type": "stream",
     "text": [
      "[Parallel(n_jobs=4)]: Using backend LokyBackend with 4 concurrent workers.\n",
      "[Parallel(n_jobs=4)]: Done   2 out of   4 | elapsed:    0.0s remaining:    0.0s\n",
      "[Parallel(n_jobs=4)]: Done   4 out of   4 | elapsed:    0.0s finished\n"
     ]
    },
    {
     "name": "stdout",
     "output_type": "stream",
     "text": [
      "."
     ]
    },
    {
     "name": "stderr",
     "output_type": "stream",
     "text": [
      "[Parallel(n_jobs=4)]: Using backend LokyBackend with 4 concurrent workers.\n",
      "[Parallel(n_jobs=4)]: Done   2 out of   4 | elapsed:    0.0s remaining:    0.0s\n",
      "[Parallel(n_jobs=4)]: Done   4 out of   4 | elapsed:    0.0s finished\n"
     ]
    },
    {
     "name": "stdout",
     "output_type": "stream",
     "text": [
      "."
     ]
    },
    {
     "name": "stderr",
     "output_type": "stream",
     "text": [
      "[Parallel(n_jobs=4)]: Using backend LokyBackend with 4 concurrent workers.\n",
      "[Parallel(n_jobs=4)]: Done   2 out of   4 | elapsed:    0.0s remaining:    0.0s\n",
      "[Parallel(n_jobs=4)]: Done   4 out of   4 | elapsed:    0.0s finished\n"
     ]
    },
    {
     "name": "stdout",
     "output_type": "stream",
     "text": [
      "."
     ]
    },
    {
     "name": "stderr",
     "output_type": "stream",
     "text": [
      "[Parallel(n_jobs=4)]: Using backend LokyBackend with 4 concurrent workers.\n",
      "[Parallel(n_jobs=4)]: Done   2 out of   4 | elapsed:    0.0s remaining:    0.0s\n",
      "[Parallel(n_jobs=4)]: Done   4 out of   4 | elapsed:    0.0s finished\n"
     ]
    },
    {
     "name": "stdout",
     "output_type": "stream",
     "text": [
      ".."
     ]
    },
    {
     "name": "stderr",
     "output_type": "stream",
     "text": [
      "[Parallel(n_jobs=4)]: Using backend LokyBackend with 4 concurrent workers.\n",
      "[Parallel(n_jobs=4)]: Done   2 out of   4 | elapsed:    0.0s remaining:    0.0s\n",
      "[Parallel(n_jobs=4)]: Done   4 out of   4 | elapsed:    0.0s finished\n",
      "[Parallel(n_jobs=4)]: Using backend LokyBackend with 4 concurrent workers.\n",
      "[Parallel(n_jobs=4)]: Done   2 out of   4 | elapsed:    0.0s remaining:    0.0s\n",
      "[Parallel(n_jobs=4)]: Done   4 out of   4 | elapsed:    0.0s finished\n"
     ]
    },
    {
     "name": "stdout",
     "output_type": "stream",
     "text": [
      "."
     ]
    },
    {
     "name": "stderr",
     "output_type": "stream",
     "text": [
      "[Parallel(n_jobs=4)]: Using backend LokyBackend with 4 concurrent workers.\n",
      "[Parallel(n_jobs=4)]: Done   2 out of   4 | elapsed:    0.0s remaining:    0.0s\n",
      "[Parallel(n_jobs=4)]: Done   4 out of   4 | elapsed:    0.0s finished\n"
     ]
    },
    {
     "name": "stdout",
     "output_type": "stream",
     "text": [
      "."
     ]
    },
    {
     "name": "stderr",
     "output_type": "stream",
     "text": [
      "[Parallel(n_jobs=4)]: Using backend LokyBackend with 4 concurrent workers.\n",
      "[Parallel(n_jobs=4)]: Done   2 out of   4 | elapsed:    0.0s remaining:    0.0s\n",
      "[Parallel(n_jobs=4)]: Done   4 out of   4 | elapsed:    0.0s finished\n"
     ]
    },
    {
     "name": "stdout",
     "output_type": "stream",
     "text": [
      "."
     ]
    },
    {
     "name": "stderr",
     "output_type": "stream",
     "text": [
      "[Parallel(n_jobs=4)]: Using backend LokyBackend with 4 concurrent workers.\n",
      "[Parallel(n_jobs=4)]: Done   2 out of   4 | elapsed:    0.0s remaining:    0.0s\n",
      "[Parallel(n_jobs=4)]: Done   4 out of   4 | elapsed:    0.0s finished\n"
     ]
    },
    {
     "name": "stdout",
     "output_type": "stream",
     "text": [
      "."
     ]
    },
    {
     "name": "stderr",
     "output_type": "stream",
     "text": [
      "[Parallel(n_jobs=4)]: Using backend LokyBackend with 4 concurrent workers.\n",
      "[Parallel(n_jobs=4)]: Done   2 out of   4 | elapsed:    0.0s remaining:    0.0s\n",
      "[Parallel(n_jobs=4)]: Done   4 out of   4 | elapsed:    0.0s finished\n"
     ]
    },
    {
     "name": "stdout",
     "output_type": "stream",
     "text": [
      ".."
     ]
    },
    {
     "name": "stderr",
     "output_type": "stream",
     "text": [
      "[Parallel(n_jobs=4)]: Using backend LokyBackend with 4 concurrent workers.\n",
      "[Parallel(n_jobs=4)]: Done   2 out of   4 | elapsed:    0.0s remaining:    0.0s\n",
      "[Parallel(n_jobs=4)]: Done   4 out of   4 | elapsed:    0.0s finished\n",
      "[Parallel(n_jobs=4)]: Using backend LokyBackend with 4 concurrent workers.\n",
      "[Parallel(n_jobs=4)]: Done   2 out of   4 | elapsed:    0.0s remaining:    0.0s\n",
      "[Parallel(n_jobs=4)]: Done   4 out of   4 | elapsed:    0.0s finished\n"
     ]
    },
    {
     "name": "stdout",
     "output_type": "stream",
     "text": [
      "."
     ]
    },
    {
     "name": "stderr",
     "output_type": "stream",
     "text": [
      "[Parallel(n_jobs=4)]: Using backend LokyBackend with 4 concurrent workers.\n",
      "[Parallel(n_jobs=4)]: Done   2 out of   4 | elapsed:    0.0s remaining:    0.0s\n",
      "[Parallel(n_jobs=4)]: Done   4 out of   4 | elapsed:    0.0s finished\n"
     ]
    },
    {
     "name": "stdout",
     "output_type": "stream",
     "text": [
      "."
     ]
    },
    {
     "name": "stderr",
     "output_type": "stream",
     "text": [
      "[Parallel(n_jobs=4)]: Using backend LokyBackend with 4 concurrent workers.\n",
      "[Parallel(n_jobs=4)]: Done   2 out of   4 | elapsed:    0.0s remaining:    0.0s\n",
      "[Parallel(n_jobs=4)]: Done   4 out of   4 | elapsed:    0.0s finished\n"
     ]
    },
    {
     "name": "stdout",
     "output_type": "stream",
     "text": [
      ".."
     ]
    },
    {
     "name": "stderr",
     "output_type": "stream",
     "text": [
      "[Parallel(n_jobs=4)]: Using backend LokyBackend with 4 concurrent workers.\n",
      "[Parallel(n_jobs=4)]: Done   2 out of   4 | elapsed:    0.0s remaining:    0.0s\n",
      "[Parallel(n_jobs=4)]: Done   4 out of   4 | elapsed:    0.0s finished\n",
      "[Parallel(n_jobs=4)]: Using backend LokyBackend with 4 concurrent workers.\n",
      "[Parallel(n_jobs=4)]: Done   2 out of   4 | elapsed:    0.0s remaining:    0.0s\n",
      "[Parallel(n_jobs=4)]: Done   4 out of   4 | elapsed:    0.0s finished\n"
     ]
    },
    {
     "name": "stdout",
     "output_type": "stream",
     "text": [
      "."
     ]
    },
    {
     "name": "stderr",
     "output_type": "stream",
     "text": [
      "[Parallel(n_jobs=4)]: Using backend LokyBackend with 4 concurrent workers.\n",
      "[Parallel(n_jobs=4)]: Done   2 out of   4 | elapsed:    0.0s remaining:    0.0s\n",
      "[Parallel(n_jobs=4)]: Done   4 out of   4 | elapsed:    0.0s finished\n"
     ]
    },
    {
     "name": "stdout",
     "output_type": "stream",
     "text": [
      "."
     ]
    },
    {
     "name": "stderr",
     "output_type": "stream",
     "text": [
      "[Parallel(n_jobs=4)]: Using backend LokyBackend with 4 concurrent workers.\n",
      "[Parallel(n_jobs=4)]: Done   2 out of   4 | elapsed:    0.0s remaining:    0.0s\n",
      "[Parallel(n_jobs=4)]: Done   4 out of   4 | elapsed:    0.0s finished\n"
     ]
    },
    {
     "name": "stdout",
     "output_type": "stream",
     "text": [
      ".."
     ]
    },
    {
     "name": "stderr",
     "output_type": "stream",
     "text": [
      "[Parallel(n_jobs=4)]: Using backend LokyBackend with 4 concurrent workers.\n",
      "[Parallel(n_jobs=4)]: Done   2 out of   4 | elapsed:    0.0s remaining:    0.0s\n",
      "[Parallel(n_jobs=4)]: Done   4 out of   4 | elapsed:    0.0s finished\n",
      "[Parallel(n_jobs=4)]: Using backend LokyBackend with 4 concurrent workers.\n"
     ]
    },
    {
     "name": "stdout",
     "output_type": "stream",
     "text": [
      "."
     ]
    },
    {
     "name": "stderr",
     "output_type": "stream",
     "text": [
      "[Parallel(n_jobs=4)]: Done   2 out of   4 | elapsed:    0.0s remaining:    0.0s\n",
      "[Parallel(n_jobs=4)]: Done   4 out of   4 | elapsed:    0.0s finished\n",
      "[Parallel(n_jobs=4)]: Using backend LokyBackend with 4 concurrent workers.\n",
      "[Parallel(n_jobs=4)]: Done   2 out of   4 | elapsed:    0.0s remaining:    0.0s\n"
     ]
    },
    {
     "name": "stdout",
     "output_type": "stream",
     "text": [
      "."
     ]
    },
    {
     "name": "stderr",
     "output_type": "stream",
     "text": [
      "[Parallel(n_jobs=4)]: Done   4 out of   4 | elapsed:    0.0s finished\n",
      "[Parallel(n_jobs=4)]: Using backend LokyBackend with 4 concurrent workers.\n",
      "[Parallel(n_jobs=4)]: Done   2 out of   4 | elapsed:    0.0s remaining:    0.0s\n"
     ]
    },
    {
     "name": "stdout",
     "output_type": "stream",
     "text": [
      "."
     ]
    },
    {
     "name": "stderr",
     "output_type": "stream",
     "text": [
      "[Parallel(n_jobs=4)]: Done   4 out of   4 | elapsed:    0.0s finished\n",
      "[Parallel(n_jobs=4)]: Using backend LokyBackend with 4 concurrent workers.\n",
      "[Parallel(n_jobs=4)]: Done   2 out of   4 | elapsed:    0.0s remaining:    0.0s\n"
     ]
    },
    {
     "name": "stdout",
     "output_type": "stream",
     "text": [
      "."
     ]
    },
    {
     "name": "stderr",
     "output_type": "stream",
     "text": [
      "[Parallel(n_jobs=4)]: Done   4 out of   4 | elapsed:    0.0s finished\n",
      "[Parallel(n_jobs=4)]: Using backend LokyBackend with 4 concurrent workers.\n",
      "[Parallel(n_jobs=4)]: Done   2 out of   4 | elapsed:    0.0s remaining:    0.0s\n"
     ]
    },
    {
     "name": "stdout",
     "output_type": "stream",
     "text": [
      "."
     ]
    },
    {
     "name": "stderr",
     "output_type": "stream",
     "text": [
      "[Parallel(n_jobs=4)]: Done   4 out of   4 | elapsed:    0.0s finished\n",
      "[Parallel(n_jobs=4)]: Using backend LokyBackend with 4 concurrent workers.\n",
      "[Parallel(n_jobs=4)]: Done   2 out of   4 | elapsed:    0.0s remaining:    0.0s\n",
      "[Parallel(n_jobs=4)]: Done   4 out of   4 | elapsed:    0.0s finished\n"
     ]
    },
    {
     "name": "stdout",
     "output_type": "stream",
     "text": [
      "."
     ]
    },
    {
     "name": "stderr",
     "output_type": "stream",
     "text": [
      "[Parallel(n_jobs=4)]: Using backend LokyBackend with 4 concurrent workers.\n",
      "[Parallel(n_jobs=4)]: Done   2 out of   4 | elapsed:    0.0s remaining:    0.0s\n"
     ]
    },
    {
     "name": "stdout",
     "output_type": "stream",
     "text": [
      "."
     ]
    },
    {
     "name": "stderr",
     "output_type": "stream",
     "text": [
      "[Parallel(n_jobs=4)]: Done   4 out of   4 | elapsed:    0.0s finished\n",
      "[Parallel(n_jobs=4)]: Using backend LokyBackend with 4 concurrent workers.\n",
      "[Parallel(n_jobs=4)]: Done   2 out of   4 | elapsed:    0.0s remaining:    0.0s\n"
     ]
    },
    {
     "name": "stdout",
     "output_type": "stream",
     "text": [
      "."
     ]
    },
    {
     "name": "stderr",
     "output_type": "stream",
     "text": [
      "[Parallel(n_jobs=4)]: Done   4 out of   4 | elapsed:    0.0s finished\n",
      "[Parallel(n_jobs=4)]: Using backend LokyBackend with 4 concurrent workers.\n"
     ]
    },
    {
     "name": "stdout",
     "output_type": "stream",
     "text": [
      "."
     ]
    },
    {
     "name": "stderr",
     "output_type": "stream",
     "text": [
      "[Parallel(n_jobs=4)]: Done   2 out of   4 | elapsed:    0.0s remaining:    0.0s\n",
      "[Parallel(n_jobs=4)]: Done   4 out of   4 | elapsed:    0.0s finished\n",
      "[Parallel(n_jobs=4)]: Using backend LokyBackend with 4 concurrent workers.\n"
     ]
    },
    {
     "name": "stdout",
     "output_type": "stream",
     "text": [
      "."
     ]
    },
    {
     "name": "stderr",
     "output_type": "stream",
     "text": [
      "[Parallel(n_jobs=4)]: Done   2 out of   4 | elapsed:    0.0s remaining:    0.0s\n",
      "[Parallel(n_jobs=4)]: Done   4 out of   4 | elapsed:    0.0s finished\n",
      "[Parallel(n_jobs=4)]: Using backend LokyBackend with 4 concurrent workers.\n",
      "[Parallel(n_jobs=4)]: Done   2 out of   4 | elapsed:    0.0s remaining:    0.0s\n"
     ]
    },
    {
     "name": "stdout",
     "output_type": "stream",
     "text": [
      "."
     ]
    },
    {
     "name": "stderr",
     "output_type": "stream",
     "text": [
      "[Parallel(n_jobs=4)]: Done   4 out of   4 | elapsed:    0.0s finished\n",
      "[Parallel(n_jobs=4)]: Using backend LokyBackend with 4 concurrent workers.\n"
     ]
    },
    {
     "name": "stdout",
     "output_type": "stream",
     "text": [
      "."
     ]
    },
    {
     "name": "stderr",
     "output_type": "stream",
     "text": [
      "[Parallel(n_jobs=4)]: Done   2 out of   4 | elapsed:    0.0s remaining:    0.0s\n",
      "[Parallel(n_jobs=4)]: Done   4 out of   4 | elapsed:    0.0s finished\n",
      "[Parallel(n_jobs=4)]: Using backend LokyBackend with 4 concurrent workers.\n",
      "[Parallel(n_jobs=4)]: Done   2 out of   4 | elapsed:    0.0s remaining:    0.0s\n"
     ]
    },
    {
     "name": "stdout",
     "output_type": "stream",
     "text": [
      "."
     ]
    },
    {
     "name": "stderr",
     "output_type": "stream",
     "text": [
      "[Parallel(n_jobs=4)]: Done   4 out of   4 | elapsed:    0.0s finished\n",
      "[Parallel(n_jobs=4)]: Using backend LokyBackend with 4 concurrent workers.\n",
      "[Parallel(n_jobs=4)]: Done   2 out of   4 | elapsed:    0.0s remaining:    0.0s\n"
     ]
    },
    {
     "name": "stdout",
     "output_type": "stream",
     "text": [
      "."
     ]
    },
    {
     "name": "stderr",
     "output_type": "stream",
     "text": [
      "[Parallel(n_jobs=4)]: Done   4 out of   4 | elapsed:    0.0s finished\n",
      "[Parallel(n_jobs=4)]: Using backend LokyBackend with 4 concurrent workers.\n",
      "[Parallel(n_jobs=4)]: Done   2 out of   4 | elapsed:    0.0s remaining:    0.0s\n"
     ]
    },
    {
     "name": "stdout",
     "output_type": "stream",
     "text": [
      "."
     ]
    },
    {
     "name": "stderr",
     "output_type": "stream",
     "text": [
      "[Parallel(n_jobs=4)]: Done   4 out of   4 | elapsed:    0.0s finished\n",
      "[Parallel(n_jobs=4)]: Using backend LokyBackend with 4 concurrent workers.\n",
      "[Parallel(n_jobs=4)]: Done   2 out of   4 | elapsed:    0.0s remaining:    0.0s\n"
     ]
    },
    {
     "name": "stdout",
     "output_type": "stream",
     "text": [
      "."
     ]
    },
    {
     "name": "stderr",
     "output_type": "stream",
     "text": [
      "[Parallel(n_jobs=4)]: Done   4 out of   4 | elapsed:    0.0s finished\n",
      "[Parallel(n_jobs=4)]: Using backend LokyBackend with 4 concurrent workers.\n"
     ]
    },
    {
     "name": "stdout",
     "output_type": "stream",
     "text": [
      "."
     ]
    },
    {
     "name": "stderr",
     "output_type": "stream",
     "text": [
      "[Parallel(n_jobs=4)]: Done   2 out of   4 | elapsed:    0.0s remaining:    0.0s\n",
      "[Parallel(n_jobs=4)]: Done   4 out of   4 | elapsed:    0.0s finished\n",
      "[Parallel(n_jobs=4)]: Using backend LokyBackend with 4 concurrent workers.\n",
      "[Parallel(n_jobs=4)]: Done   2 out of   4 | elapsed:    0.0s remaining:    0.0s\n"
     ]
    },
    {
     "name": "stdout",
     "output_type": "stream",
     "text": [
      "."
     ]
    },
    {
     "name": "stderr",
     "output_type": "stream",
     "text": [
      "[Parallel(n_jobs=4)]: Done   4 out of   4 | elapsed:    0.0s finished\n",
      "[Parallel(n_jobs=4)]: Using backend LokyBackend with 4 concurrent workers.\n",
      "[Parallel(n_jobs=4)]: Done   2 out of   4 | elapsed:    0.0s remaining:    0.0s\n"
     ]
    },
    {
     "name": "stdout",
     "output_type": "stream",
     "text": [
      "."
     ]
    },
    {
     "name": "stderr",
     "output_type": "stream",
     "text": [
      "[Parallel(n_jobs=4)]: Done   4 out of   4 | elapsed:    0.0s finished\n",
      "[Parallel(n_jobs=4)]: Using backend LokyBackend with 4 concurrent workers.\n",
      "[Parallel(n_jobs=4)]: Done   2 out of   4 | elapsed:    0.0s remaining:    0.0s\n"
     ]
    },
    {
     "name": "stdout",
     "output_type": "stream",
     "text": [
      "."
     ]
    },
    {
     "name": "stderr",
     "output_type": "stream",
     "text": [
      "[Parallel(n_jobs=4)]: Done   4 out of   4 | elapsed:    0.0s finished\n",
      "[Parallel(n_jobs=4)]: Using backend LokyBackend with 4 concurrent workers.\n",
      "[Parallel(n_jobs=4)]: Done   2 out of   4 | elapsed:    0.0s remaining:    0.0s\n",
      "[Parallel(n_jobs=4)]: Done   4 out of   4 | elapsed:    0.0s finished\n"
     ]
    },
    {
     "name": "stdout",
     "output_type": "stream",
     "text": [
      "."
     ]
    },
    {
     "name": "stderr",
     "output_type": "stream",
     "text": [
      "[Parallel(n_jobs=4)]: Using backend LokyBackend with 4 concurrent workers.\n",
      "[Parallel(n_jobs=4)]: Done   2 out of   4 | elapsed:    0.0s remaining:    0.0s\n",
      "[Parallel(n_jobs=4)]: Done   4 out of   4 | elapsed:    0.0s finished\n"
     ]
    },
    {
     "name": "stdout",
     "output_type": "stream",
     "text": [
      ".."
     ]
    },
    {
     "name": "stderr",
     "output_type": "stream",
     "text": [
      "[Parallel(n_jobs=4)]: Using backend LokyBackend with 4 concurrent workers.\n",
      "[Parallel(n_jobs=4)]: Done   2 out of   4 | elapsed:    0.0s remaining:    0.0s\n",
      "[Parallel(n_jobs=4)]: Done   4 out of   4 | elapsed:    0.0s finished\n",
      "[Parallel(n_jobs=4)]: Using backend LokyBackend with 4 concurrent workers.\n",
      "[Parallel(n_jobs=4)]: Done   2 out of   4 | elapsed:    0.0s remaining:    0.0s\n",
      "[Parallel(n_jobs=4)]: Done   4 out of   4 | elapsed:    0.0s finished\n"
     ]
    },
    {
     "name": "stdout",
     "output_type": "stream",
     "text": [
      ".."
     ]
    },
    {
     "name": "stderr",
     "output_type": "stream",
     "text": [
      "[Parallel(n_jobs=4)]: Using backend LokyBackend with 4 concurrent workers.\n",
      "[Parallel(n_jobs=4)]: Done   2 out of   4 | elapsed:    0.0s remaining:    0.0s\n",
      "[Parallel(n_jobs=4)]: Done   4 out of   4 | elapsed:    0.0s finished\n",
      "[Parallel(n_jobs=4)]: Using backend LokyBackend with 4 concurrent workers.\n"
     ]
    },
    {
     "name": "stdout",
     "output_type": "stream",
     "text": [
      "."
     ]
    },
    {
     "name": "stderr",
     "output_type": "stream",
     "text": [
      "[Parallel(n_jobs=4)]: Done   2 out of   4 | elapsed:    0.0s remaining:    0.0s\n",
      "[Parallel(n_jobs=4)]: Done   4 out of   4 | elapsed:    0.0s finished\n",
      "[Parallel(n_jobs=4)]: Using backend LokyBackend with 4 concurrent workers.\n"
     ]
    },
    {
     "name": "stdout",
     "output_type": "stream",
     "text": [
      "."
     ]
    },
    {
     "name": "stderr",
     "output_type": "stream",
     "text": [
      "[Parallel(n_jobs=4)]: Done   2 out of   4 | elapsed:    0.0s remaining:    0.0s\n",
      "[Parallel(n_jobs=4)]: Done   4 out of   4 | elapsed:    0.0s finished\n",
      "[Parallel(n_jobs=4)]: Using backend LokyBackend with 4 concurrent workers.\n"
     ]
    },
    {
     "name": "stdout",
     "output_type": "stream",
     "text": [
      "."
     ]
    },
    {
     "name": "stderr",
     "output_type": "stream",
     "text": [
      "[Parallel(n_jobs=4)]: Done   2 out of   4 | elapsed:    0.0s remaining:    0.0s\n",
      "[Parallel(n_jobs=4)]: Done   4 out of   4 | elapsed:    0.0s finished\n",
      "[Parallel(n_jobs=4)]: Using backend LokyBackend with 4 concurrent workers.\n"
     ]
    },
    {
     "name": "stdout",
     "output_type": "stream",
     "text": [
      "."
     ]
    },
    {
     "name": "stderr",
     "output_type": "stream",
     "text": [
      "[Parallel(n_jobs=4)]: Done   2 out of   4 | elapsed:    0.0s remaining:    0.0s\n",
      "[Parallel(n_jobs=4)]: Done   4 out of   4 | elapsed:    0.0s finished\n",
      "[Parallel(n_jobs=4)]: Using backend LokyBackend with 4 concurrent workers.\n",
      "[Parallel(n_jobs=4)]: Done   2 out of   4 | elapsed:    0.0s remaining:    0.0s\n"
     ]
    },
    {
     "name": "stdout",
     "output_type": "stream",
     "text": [
      ".."
     ]
    },
    {
     "name": "stderr",
     "output_type": "stream",
     "text": [
      "[Parallel(n_jobs=4)]: Done   4 out of   4 | elapsed:    0.0s finished\n",
      "[Parallel(n_jobs=4)]: Using backend LokyBackend with 4 concurrent workers.\n",
      "[Parallel(n_jobs=4)]: Done   2 out of   4 | elapsed:    0.0s remaining:    0.0s\n",
      "[Parallel(n_jobs=4)]: Done   4 out of   4 | elapsed:    0.0s finished\n",
      "[Parallel(n_jobs=4)]: Using backend LokyBackend with 4 concurrent workers.\n",
      "[Parallel(n_jobs=4)]: Done   2 out of   4 | elapsed:    0.0s remaining:    0.0s\n",
      "[Parallel(n_jobs=4)]: Done   4 out of   4 | elapsed:    0.0s finished\n"
     ]
    },
    {
     "name": "stdout",
     "output_type": "stream",
     "text": [
      "."
     ]
    },
    {
     "name": "stderr",
     "output_type": "stream",
     "text": [
      "[Parallel(n_jobs=4)]: Using backend LokyBackend with 4 concurrent workers.\n",
      "[Parallel(n_jobs=4)]: Done   2 out of   4 | elapsed:    0.0s remaining:    0.0s\n",
      "[Parallel(n_jobs=4)]: Done   4 out of   4 | elapsed:    0.0s finished\n"
     ]
    },
    {
     "name": "stdout",
     "output_type": "stream",
     "text": [
      "."
     ]
    },
    {
     "name": "stderr",
     "output_type": "stream",
     "text": [
      "[Parallel(n_jobs=4)]: Using backend LokyBackend with 4 concurrent workers.\n",
      "[Parallel(n_jobs=4)]: Done   2 out of   4 | elapsed:    0.0s remaining:    0.0s\n",
      "[Parallel(n_jobs=4)]: Done   4 out of   4 | elapsed:    0.0s finished\n"
     ]
    },
    {
     "name": "stdout",
     "output_type": "stream",
     "text": [
      "."
     ]
    },
    {
     "name": "stderr",
     "output_type": "stream",
     "text": [
      "[Parallel(n_jobs=4)]: Using backend LokyBackend with 4 concurrent workers.\n",
      "[Parallel(n_jobs=4)]: Done   2 out of   4 | elapsed:    0.0s remaining:    0.0s\n",
      "[Parallel(n_jobs=4)]: Done   4 out of   4 | elapsed:    0.0s finished\n"
     ]
    },
    {
     "name": "stdout",
     "output_type": "stream",
     "text": [
      "."
     ]
    },
    {
     "name": "stderr",
     "output_type": "stream",
     "text": [
      "[Parallel(n_jobs=4)]: Using backend LokyBackend with 4 concurrent workers.\n",
      "[Parallel(n_jobs=4)]: Done   2 out of   4 | elapsed:    0.0s remaining:    0.0s\n",
      "[Parallel(n_jobs=4)]: Done   4 out of   4 | elapsed:    0.0s finished\n"
     ]
    },
    {
     "name": "stdout",
     "output_type": "stream",
     "text": [
      "."
     ]
    },
    {
     "name": "stderr",
     "output_type": "stream",
     "text": [
      "[Parallel(n_jobs=4)]: Using backend LokyBackend with 4 concurrent workers.\n",
      "[Parallel(n_jobs=4)]: Done   2 out of   4 | elapsed:    0.0s remaining:    0.0s\n",
      "[Parallel(n_jobs=4)]: Done   4 out of   4 | elapsed:    0.0s finished\n"
     ]
    },
    {
     "name": "stdout",
     "output_type": "stream",
     "text": [
      "."
     ]
    },
    {
     "name": "stderr",
     "output_type": "stream",
     "text": [
      "[Parallel(n_jobs=4)]: Using backend LokyBackend with 4 concurrent workers.\n",
      "[Parallel(n_jobs=4)]: Done   2 out of   4 | elapsed:    0.0s remaining:    0.0s\n",
      "[Parallel(n_jobs=4)]: Done   4 out of   4 | elapsed:    0.0s finished\n"
     ]
    },
    {
     "name": "stdout",
     "output_type": "stream",
     "text": [
      "."
     ]
    },
    {
     "name": "stderr",
     "output_type": "stream",
     "text": [
      "[Parallel(n_jobs=4)]: Using backend LokyBackend with 4 concurrent workers.\n",
      "[Parallel(n_jobs=4)]: Done   2 out of   4 | elapsed:    0.0s remaining:    0.0s\n",
      "[Parallel(n_jobs=4)]: Done   4 out of   4 | elapsed:    0.0s finished\n"
     ]
    },
    {
     "name": "stdout",
     "output_type": "stream",
     "text": [
      "."
     ]
    },
    {
     "name": "stderr",
     "output_type": "stream",
     "text": [
      "[Parallel(n_jobs=4)]: Using backend LokyBackend with 4 concurrent workers.\n",
      "[Parallel(n_jobs=4)]: Done   2 out of   4 | elapsed:    0.0s remaining:    0.0s\n",
      "[Parallel(n_jobs=4)]: Done   4 out of   4 | elapsed:    0.0s finished\n"
     ]
    },
    {
     "name": "stdout",
     "output_type": "stream",
     "text": [
      "."
     ]
    },
    {
     "name": "stderr",
     "output_type": "stream",
     "text": [
      "[Parallel(n_jobs=4)]: Using backend LokyBackend with 4 concurrent workers.\n",
      "[Parallel(n_jobs=4)]: Done   2 out of   4 | elapsed:    0.0s remaining:    0.0s\n",
      "[Parallel(n_jobs=4)]: Done   4 out of   4 | elapsed:    0.0s finished\n"
     ]
    },
    {
     "name": "stdout",
     "output_type": "stream",
     "text": [
      "."
     ]
    },
    {
     "name": "stderr",
     "output_type": "stream",
     "text": [
      "[Parallel(n_jobs=4)]: Using backend LokyBackend with 4 concurrent workers.\n",
      "[Parallel(n_jobs=4)]: Done   2 out of   4 | elapsed:    0.0s remaining:    0.0s\n",
      "[Parallel(n_jobs=4)]: Done   4 out of   4 | elapsed:    0.0s finished\n"
     ]
    },
    {
     "name": "stdout",
     "output_type": "stream",
     "text": [
      ".."
     ]
    },
    {
     "name": "stderr",
     "output_type": "stream",
     "text": [
      "[Parallel(n_jobs=4)]: Using backend LokyBackend with 4 concurrent workers.\n",
      "[Parallel(n_jobs=4)]: Done   2 out of   4 | elapsed:    0.0s remaining:    0.0s\n",
      "[Parallel(n_jobs=4)]: Done   4 out of   4 | elapsed:    0.0s finished\n",
      "[Parallel(n_jobs=4)]: Using backend LokyBackend with 4 concurrent workers.\n",
      "[Parallel(n_jobs=4)]: Done   2 out of   4 | elapsed:    0.0s remaining:    0.0s\n",
      "[Parallel(n_jobs=4)]: Done   4 out of   4 | elapsed:    0.0s finished\n"
     ]
    },
    {
     "name": "stdout",
     "output_type": "stream",
     "text": [
      ".."
     ]
    },
    {
     "name": "stderr",
     "output_type": "stream",
     "text": [
      "[Parallel(n_jobs=4)]: Using backend LokyBackend with 4 concurrent workers.\n",
      "[Parallel(n_jobs=4)]: Done   2 out of   4 | elapsed:    0.0s remaining:    0.0s\n",
      "[Parallel(n_jobs=4)]: Done   4 out of   4 | elapsed:    0.0s finished\n",
      "[Parallel(n_jobs=4)]: Using backend LokyBackend with 4 concurrent workers.\n",
      "[Parallel(n_jobs=4)]: Done   2 out of   4 | elapsed:    0.0s remaining:    0.0s\n",
      "[Parallel(n_jobs=4)]: Done   4 out of   4 | elapsed:    0.0s finished\n"
     ]
    },
    {
     "name": "stdout",
     "output_type": "stream",
     "text": [
      "."
     ]
    },
    {
     "name": "stderr",
     "output_type": "stream",
     "text": [
      "[Parallel(n_jobs=4)]: Using backend LokyBackend with 4 concurrent workers.\n",
      "[Parallel(n_jobs=4)]: Done   2 out of   4 | elapsed:    0.0s remaining:    0.0s\n",
      "[Parallel(n_jobs=4)]: Done   4 out of   4 | elapsed:    0.0s finished\n"
     ]
    },
    {
     "name": "stdout",
     "output_type": "stream",
     "text": [
      "."
     ]
    },
    {
     "name": "stderr",
     "output_type": "stream",
     "text": [
      "[Parallel(n_jobs=4)]: Using backend LokyBackend with 4 concurrent workers.\n",
      "[Parallel(n_jobs=4)]: Done   2 out of   4 | elapsed:    0.0s remaining:    0.0s\n",
      "[Parallel(n_jobs=4)]: Done   4 out of   4 | elapsed:    0.0s finished\n"
     ]
    },
    {
     "name": "stdout",
     "output_type": "stream",
     "text": [
      "."
     ]
    },
    {
     "name": "stderr",
     "output_type": "stream",
     "text": [
      "[Parallel(n_jobs=4)]: Using backend LokyBackend with 4 concurrent workers.\n",
      "[Parallel(n_jobs=4)]: Done   2 out of   4 | elapsed:    0.0s remaining:    0.0s\n",
      "[Parallel(n_jobs=4)]: Done   4 out of   4 | elapsed:    0.0s finished\n"
     ]
    },
    {
     "name": "stdout",
     "output_type": "stream",
     "text": [
      "."
     ]
    },
    {
     "name": "stderr",
     "output_type": "stream",
     "text": [
      "[Parallel(n_jobs=4)]: Using backend LokyBackend with 4 concurrent workers.\n",
      "[Parallel(n_jobs=4)]: Done   2 out of   4 | elapsed:    0.0s remaining:    0.0s\n",
      "[Parallel(n_jobs=4)]: Done   4 out of   4 | elapsed:    0.0s finished\n"
     ]
    },
    {
     "name": "stdout",
     "output_type": "stream",
     "text": [
      "."
     ]
    },
    {
     "name": "stderr",
     "output_type": "stream",
     "text": [
      "[Parallel(n_jobs=4)]: Using backend LokyBackend with 4 concurrent workers.\n",
      "[Parallel(n_jobs=4)]: Done   2 out of   4 | elapsed:    0.0s remaining:    0.0s\n",
      "[Parallel(n_jobs=4)]: Done   4 out of   4 | elapsed:    0.0s finished\n"
     ]
    },
    {
     "name": "stdout",
     "output_type": "stream",
     "text": [
      ".."
     ]
    },
    {
     "name": "stderr",
     "output_type": "stream",
     "text": [
      "[Parallel(n_jobs=4)]: Using backend LokyBackend with 4 concurrent workers.\n",
      "[Parallel(n_jobs=4)]: Done   2 out of   4 | elapsed:    0.0s remaining:    0.0s\n",
      "[Parallel(n_jobs=4)]: Done   4 out of   4 | elapsed:    0.0s finished\n",
      "[Parallel(n_jobs=4)]: Using backend LokyBackend with 4 concurrent workers.\n",
      "[Parallel(n_jobs=4)]: Done   2 out of   4 | elapsed:    0.0s remaining:    0.0s\n",
      "[Parallel(n_jobs=4)]: Done   4 out of   4 | elapsed:    0.0s finished\n"
     ]
    },
    {
     "name": "stdout",
     "output_type": "stream",
     "text": [
      "."
     ]
    },
    {
     "name": "stderr",
     "output_type": "stream",
     "text": [
      "[Parallel(n_jobs=4)]: Using backend LokyBackend with 4 concurrent workers.\n",
      "[Parallel(n_jobs=4)]: Done   2 out of   4 | elapsed:    0.0s remaining:    0.0s\n",
      "[Parallel(n_jobs=4)]: Done   4 out of   4 | elapsed:    0.0s finished\n"
     ]
    },
    {
     "name": "stdout",
     "output_type": "stream",
     "text": [
      "."
     ]
    },
    {
     "name": "stderr",
     "output_type": "stream",
     "text": [
      "[Parallel(n_jobs=4)]: Using backend LokyBackend with 4 concurrent workers.\n",
      "[Parallel(n_jobs=4)]: Done   2 out of   4 | elapsed:    0.0s remaining:    0.0s\n",
      "[Parallel(n_jobs=4)]: Done   4 out of   4 | elapsed:    0.0s finished\n"
     ]
    },
    {
     "name": "stdout",
     "output_type": "stream",
     "text": [
      "."
     ]
    },
    {
     "name": "stderr",
     "output_type": "stream",
     "text": [
      "[Parallel(n_jobs=4)]: Using backend LokyBackend with 4 concurrent workers.\n",
      "[Parallel(n_jobs=4)]: Done   2 out of   4 | elapsed:    0.0s remaining:    0.0s\n",
      "[Parallel(n_jobs=4)]: Done   4 out of   4 | elapsed:    0.0s finished\n"
     ]
    },
    {
     "name": "stdout",
     "output_type": "stream",
     "text": [
      "."
     ]
    },
    {
     "name": "stderr",
     "output_type": "stream",
     "text": [
      "[Parallel(n_jobs=4)]: Using backend LokyBackend with 4 concurrent workers.\n",
      "[Parallel(n_jobs=4)]: Done   2 out of   4 | elapsed:    0.0s remaining:    0.0s\n",
      "[Parallel(n_jobs=4)]: Done   4 out of   4 | elapsed:    0.0s finished\n"
     ]
    },
    {
     "name": "stdout",
     "output_type": "stream",
     "text": [
      "."
     ]
    },
    {
     "name": "stderr",
     "output_type": "stream",
     "text": [
      "[Parallel(n_jobs=4)]: Using backend LokyBackend with 4 concurrent workers.\n",
      "[Parallel(n_jobs=4)]: Done   2 out of   4 | elapsed:    0.0s remaining:    0.0s\n",
      "[Parallel(n_jobs=4)]: Done   4 out of   4 | elapsed:    0.0s finished\n"
     ]
    },
    {
     "name": "stdout",
     "output_type": "stream",
     "text": [
      ".."
     ]
    },
    {
     "name": "stderr",
     "output_type": "stream",
     "text": [
      "[Parallel(n_jobs=4)]: Using backend LokyBackend with 4 concurrent workers.\n",
      "[Parallel(n_jobs=4)]: Done   2 out of   4 | elapsed:    0.0s remaining:    0.0s\n",
      "[Parallel(n_jobs=4)]: Done   4 out of   4 | elapsed:    0.0s finished\n"
     ]
    },
    {
     "name": "stdout",
     "output_type": "stream",
     "text": [
      "."
     ]
    },
    {
     "name": "stderr",
     "output_type": "stream",
     "text": [
      "[Parallel(n_jobs=4)]: Using backend LokyBackend with 4 concurrent workers.\n",
      "[Parallel(n_jobs=4)]: Done   2 out of   4 | elapsed:    0.0s remaining:    0.0s\n",
      "[Parallel(n_jobs=4)]: Done   4 out of   4 | elapsed:    0.0s finished\n",
      "[Parallel(n_jobs=4)]: Using backend LokyBackend with 4 concurrent workers.\n",
      "[Parallel(n_jobs=4)]: Done   2 out of   4 | elapsed:    0.0s remaining:    0.0s\n",
      "[Parallel(n_jobs=4)]: Done   4 out of   4 | elapsed:    0.0s finished\n"
     ]
    },
    {
     "name": "stdout",
     "output_type": "stream",
     "text": [
      ".."
     ]
    },
    {
     "name": "stderr",
     "output_type": "stream",
     "text": [
      "[Parallel(n_jobs=4)]: Using backend LokyBackend with 4 concurrent workers.\n",
      "[Parallel(n_jobs=4)]: Done   2 out of   4 | elapsed:    0.0s remaining:    0.0s\n",
      "[Parallel(n_jobs=4)]: Done   4 out of   4 | elapsed:    0.0s finished\n",
      "[Parallel(n_jobs=4)]: Using backend LokyBackend with 4 concurrent workers.\n",
      "[Parallel(n_jobs=4)]: Done   2 out of   4 | elapsed:    0.0s remaining:    0.0s\n",
      "[Parallel(n_jobs=4)]: Done   4 out of   4 | elapsed:    0.0s finished\n"
     ]
    },
    {
     "name": "stdout",
     "output_type": "stream",
     "text": [
      "."
     ]
    },
    {
     "name": "stderr",
     "output_type": "stream",
     "text": [
      "[Parallel(n_jobs=4)]: Using backend LokyBackend with 4 concurrent workers.\n",
      "[Parallel(n_jobs=4)]: Done   2 out of   4 | elapsed:    0.0s remaining:    0.0s\n",
      "[Parallel(n_jobs=4)]: Done   4 out of   4 | elapsed:    0.0s finished\n"
     ]
    },
    {
     "name": "stdout",
     "output_type": "stream",
     "text": [
      "."
     ]
    },
    {
     "name": "stderr",
     "output_type": "stream",
     "text": [
      "[Parallel(n_jobs=4)]: Using backend LokyBackend with 4 concurrent workers.\n",
      "[Parallel(n_jobs=4)]: Done   2 out of   4 | elapsed:    0.0s remaining:    0.0s\n",
      "[Parallel(n_jobs=4)]: Done   4 out of   4 | elapsed:    0.0s finished\n"
     ]
    },
    {
     "name": "stdout",
     "output_type": "stream",
     "text": [
      "."
     ]
    },
    {
     "name": "stderr",
     "output_type": "stream",
     "text": [
      "[Parallel(n_jobs=4)]: Using backend LokyBackend with 4 concurrent workers.\n",
      "[Parallel(n_jobs=4)]: Done   2 out of   4 | elapsed:    0.0s remaining:    0.0s\n",
      "[Parallel(n_jobs=4)]: Done   4 out of   4 | elapsed:    0.0s finished\n"
     ]
    },
    {
     "name": "stdout",
     "output_type": "stream",
     "text": [
      ".."
     ]
    },
    {
     "name": "stderr",
     "output_type": "stream",
     "text": [
      "[Parallel(n_jobs=4)]: Using backend LokyBackend with 4 concurrent workers.\n",
      "[Parallel(n_jobs=4)]: Done   2 out of   4 | elapsed:    0.0s remaining:    0.0s\n",
      "[Parallel(n_jobs=4)]: Done   4 out of   4 | elapsed:    0.0s finished\n",
      "[Parallel(n_jobs=4)]: Using backend LokyBackend with 4 concurrent workers.\n",
      "[Parallel(n_jobs=4)]: Done   2 out of   4 | elapsed:    0.0s remaining:    0.0s\n",
      "[Parallel(n_jobs=4)]: Done   4 out of   4 | elapsed:    0.0s finished\n"
     ]
    },
    {
     "name": "stdout",
     "output_type": "stream",
     "text": [
      "."
     ]
    },
    {
     "name": "stderr",
     "output_type": "stream",
     "text": [
      "[Parallel(n_jobs=4)]: Using backend LokyBackend with 4 concurrent workers.\n",
      "[Parallel(n_jobs=4)]: Done   2 out of   4 | elapsed:    0.0s remaining:    0.0s\n",
      "[Parallel(n_jobs=4)]: Done   4 out of   4 | elapsed:    0.0s finished\n"
     ]
    },
    {
     "name": "stdout",
     "output_type": "stream",
     "text": [
      ".."
     ]
    },
    {
     "name": "stderr",
     "output_type": "stream",
     "text": [
      "[Parallel(n_jobs=4)]: Using backend LokyBackend with 4 concurrent workers.\n",
      "[Parallel(n_jobs=4)]: Done   2 out of   4 | elapsed:    0.0s remaining:    0.0s\n",
      "[Parallel(n_jobs=4)]: Done   4 out of   4 | elapsed:    0.0s finished\n",
      "[Parallel(n_jobs=4)]: Using backend LokyBackend with 4 concurrent workers.\n",
      "[Parallel(n_jobs=4)]: Done   2 out of   4 | elapsed:    0.0s remaining:    0.0s\n",
      "[Parallel(n_jobs=4)]: Done   4 out of   4 | elapsed:    0.0s finished\n"
     ]
    },
    {
     "name": "stdout",
     "output_type": "stream",
     "text": [
      "."
     ]
    },
    {
     "name": "stderr",
     "output_type": "stream",
     "text": [
      "[Parallel(n_jobs=4)]: Using backend LokyBackend with 4 concurrent workers.\n",
      "[Parallel(n_jobs=4)]: Done   2 out of   4 | elapsed:    0.0s remaining:    0.0s\n",
      "[Parallel(n_jobs=4)]: Done   4 out of   4 | elapsed:    0.0s finished\n"
     ]
    },
    {
     "name": "stdout",
     "output_type": "stream",
     "text": [
      ".."
     ]
    },
    {
     "name": "stderr",
     "output_type": "stream",
     "text": [
      "[Parallel(n_jobs=4)]: Using backend LokyBackend with 4 concurrent workers.\n",
      "[Parallel(n_jobs=4)]: Done   2 out of   4 | elapsed:    0.0s remaining:    0.0s\n",
      "[Parallel(n_jobs=4)]: Done   4 out of   4 | elapsed:    0.0s finished\n",
      "[Parallel(n_jobs=4)]: Using backend LokyBackend with 4 concurrent workers.\n",
      "[Parallel(n_jobs=4)]: Done   2 out of   4 | elapsed:    0.0s remaining:    0.0s\n",
      "[Parallel(n_jobs=4)]: Done   4 out of   4 | elapsed:    0.0s finished\n"
     ]
    },
    {
     "name": "stdout",
     "output_type": "stream",
     "text": [
      "."
     ]
    },
    {
     "name": "stderr",
     "output_type": "stream",
     "text": [
      "[Parallel(n_jobs=4)]: Using backend LokyBackend with 4 concurrent workers.\n",
      "[Parallel(n_jobs=4)]: Done   2 out of   4 | elapsed:    0.0s remaining:    0.0s\n",
      "[Parallel(n_jobs=4)]: Done   4 out of   4 | elapsed:    0.0s finished\n"
     ]
    },
    {
     "name": "stdout",
     "output_type": "stream",
     "text": [
      "."
     ]
    },
    {
     "name": "stderr",
     "output_type": "stream",
     "text": [
      "[Parallel(n_jobs=4)]: Using backend LokyBackend with 4 concurrent workers.\n",
      "[Parallel(n_jobs=4)]: Done   2 out of   4 | elapsed:    0.0s remaining:    0.0s\n",
      "[Parallel(n_jobs=4)]: Done   4 out of   4 | elapsed:    0.0s finished\n"
     ]
    },
    {
     "name": "stdout",
     "output_type": "stream",
     "text": [
      ".."
     ]
    },
    {
     "name": "stderr",
     "output_type": "stream",
     "text": [
      "[Parallel(n_jobs=4)]: Using backend LokyBackend with 4 concurrent workers.\n",
      "[Parallel(n_jobs=4)]: Done   2 out of   4 | elapsed:    0.0s remaining:    0.0s\n",
      "[Parallel(n_jobs=4)]: Done   4 out of   4 | elapsed:    0.0s finished\n",
      "[Parallel(n_jobs=4)]: Using backend LokyBackend with 4 concurrent workers.\n",
      "[Parallel(n_jobs=4)]: Done   2 out of   4 | elapsed:    0.0s remaining:    0.0s\n",
      "[Parallel(n_jobs=4)]: Done   4 out of   4 | elapsed:    0.0s finished\n"
     ]
    },
    {
     "name": "stdout",
     "output_type": "stream",
     "text": [
      "."
     ]
    },
    {
     "name": "stderr",
     "output_type": "stream",
     "text": [
      "[Parallel(n_jobs=4)]: Using backend LokyBackend with 4 concurrent workers.\n",
      "[Parallel(n_jobs=4)]: Done   2 out of   4 | elapsed:    0.0s remaining:    0.0s\n",
      "[Parallel(n_jobs=4)]: Done   4 out of   4 | elapsed:    0.0s finished\n"
     ]
    },
    {
     "name": "stdout",
     "output_type": "stream",
     "text": [
      ".."
     ]
    },
    {
     "name": "stderr",
     "output_type": "stream",
     "text": [
      "[Parallel(n_jobs=4)]: Using backend LokyBackend with 4 concurrent workers.\n",
      "[Parallel(n_jobs=4)]: Done   2 out of   4 | elapsed:    0.0s remaining:    0.0s\n",
      "[Parallel(n_jobs=4)]: Done   4 out of   4 | elapsed:    0.0s finished\n"
     ]
    },
    {
     "name": "stdout",
     "output_type": "stream",
     "text": [
      "."
     ]
    },
    {
     "name": "stderr",
     "output_type": "stream",
     "text": [
      "[Parallel(n_jobs=4)]: Using backend LokyBackend with 4 concurrent workers.\n",
      "[Parallel(n_jobs=4)]: Done   2 out of   4 | elapsed:    0.0s remaining:    0.0s\n",
      "[Parallel(n_jobs=4)]: Done   4 out of   4 | elapsed:    0.0s finished\n",
      "[Parallel(n_jobs=4)]: Using backend LokyBackend with 4 concurrent workers.\n",
      "[Parallel(n_jobs=4)]: Done   2 out of   4 | elapsed:    0.0s remaining:    0.0s\n",
      "[Parallel(n_jobs=4)]: Done   4 out of   4 | elapsed:    0.0s finished\n"
     ]
    },
    {
     "name": "stdout",
     "output_type": "stream",
     "text": [
      "."
     ]
    },
    {
     "name": "stderr",
     "output_type": "stream",
     "text": [
      "[Parallel(n_jobs=4)]: Using backend LokyBackend with 4 concurrent workers.\n",
      "[Parallel(n_jobs=4)]: Done   2 out of   4 | elapsed:    0.0s remaining:    0.0s\n",
      "[Parallel(n_jobs=4)]: Done   4 out of   4 | elapsed:    0.0s finished\n"
     ]
    },
    {
     "name": "stdout",
     "output_type": "stream",
     "text": [
      "."
     ]
    },
    {
     "name": "stderr",
     "output_type": "stream",
     "text": [
      "[Parallel(n_jobs=4)]: Using backend LokyBackend with 4 concurrent workers.\n",
      "[Parallel(n_jobs=4)]: Done   2 out of   4 | elapsed:    0.0s remaining:    0.0s\n",
      "[Parallel(n_jobs=4)]: Done   4 out of   4 | elapsed:    0.0s finished\n"
     ]
    },
    {
     "name": "stdout",
     "output_type": "stream",
     "text": [
      "."
     ]
    },
    {
     "name": "stderr",
     "output_type": "stream",
     "text": [
      "[Parallel(n_jobs=4)]: Using backend LokyBackend with 4 concurrent workers.\n",
      "[Parallel(n_jobs=4)]: Done   2 out of   4 | elapsed:    0.0s remaining:    0.0s\n",
      "[Parallel(n_jobs=4)]: Done   4 out of   4 | elapsed:    0.0s finished\n"
     ]
    },
    {
     "name": "stdout",
     "output_type": "stream",
     "text": [
      "."
     ]
    },
    {
     "name": "stderr",
     "output_type": "stream",
     "text": [
      "[Parallel(n_jobs=4)]: Using backend LokyBackend with 4 concurrent workers.\n",
      "[Parallel(n_jobs=4)]: Done   2 out of   4 | elapsed:    0.0s remaining:    0.0s\n",
      "[Parallel(n_jobs=4)]: Done   4 out of   4 | elapsed:    0.0s finished\n"
     ]
    },
    {
     "name": "stdout",
     "output_type": "stream",
     "text": [
      "."
     ]
    },
    {
     "name": "stderr",
     "output_type": "stream",
     "text": [
      "[Parallel(n_jobs=4)]: Using backend LokyBackend with 4 concurrent workers.\n",
      "[Parallel(n_jobs=4)]: Done   2 out of   4 | elapsed:    0.0s remaining:    0.0s\n",
      "[Parallel(n_jobs=4)]: Done   4 out of   4 | elapsed:    0.0s finished\n"
     ]
    },
    {
     "name": "stdout",
     "output_type": "stream",
     "text": [
      ".."
     ]
    },
    {
     "name": "stderr",
     "output_type": "stream",
     "text": [
      "[Parallel(n_jobs=4)]: Using backend LokyBackend with 4 concurrent workers.\n",
      "[Parallel(n_jobs=4)]: Done   2 out of   4 | elapsed:    0.0s remaining:    0.0s\n",
      "[Parallel(n_jobs=4)]: Done   4 out of   4 | elapsed:    0.0s finished\n",
      "[Parallel(n_jobs=4)]: Using backend LokyBackend with 4 concurrent workers.\n"
     ]
    },
    {
     "name": "stdout",
     "output_type": "stream",
     "text": [
      "."
     ]
    },
    {
     "name": "stderr",
     "output_type": "stream",
     "text": [
      "[Parallel(n_jobs=4)]: Done   2 out of   4 | elapsed:    0.0s remaining:    0.0s\n",
      "[Parallel(n_jobs=4)]: Done   4 out of   4 | elapsed:    0.0s finished\n",
      "[Parallel(n_jobs=4)]: Using backend LokyBackend with 4 concurrent workers.\n"
     ]
    },
    {
     "name": "stdout",
     "output_type": "stream",
     "text": [
      "."
     ]
    },
    {
     "name": "stderr",
     "output_type": "stream",
     "text": [
      "[Parallel(n_jobs=4)]: Done   2 out of   4 | elapsed:    0.0s remaining:    0.0s\n",
      "[Parallel(n_jobs=4)]: Done   4 out of   4 | elapsed:    0.0s finished\n",
      "[Parallel(n_jobs=4)]: Using backend LokyBackend with 4 concurrent workers.\n",
      "[Parallel(n_jobs=4)]: Done   2 out of   4 | elapsed:    0.0s remaining:    0.0s\n",
      "[Parallel(n_jobs=4)]: Done   4 out of   4 | elapsed:    0.0s finished\n"
     ]
    },
    {
     "name": "stdout",
     "output_type": "stream",
     "text": [
      ".."
     ]
    },
    {
     "name": "stderr",
     "output_type": "stream",
     "text": [
      "[Parallel(n_jobs=4)]: Using backend LokyBackend with 4 concurrent workers.\n",
      "[Parallel(n_jobs=4)]: Done   2 out of   4 | elapsed:    0.0s remaining:    0.0s\n",
      "[Parallel(n_jobs=4)]: Done   4 out of   4 | elapsed:    0.0s finished\n",
      "[Parallel(n_jobs=4)]: Using backend LokyBackend with 4 concurrent workers.\n",
      "[Parallel(n_jobs=4)]: Done   2 out of   4 | elapsed:    0.0s remaining:    0.0s\n",
      "[Parallel(n_jobs=4)]: Done   4 out of   4 | elapsed:    0.0s finished\n"
     ]
    },
    {
     "name": "stdout",
     "output_type": "stream",
     "text": [
      "."
     ]
    },
    {
     "name": "stderr",
     "output_type": "stream",
     "text": [
      "[Parallel(n_jobs=4)]: Using backend LokyBackend with 4 concurrent workers.\n",
      "[Parallel(n_jobs=4)]: Done   2 out of   4 | elapsed:    0.0s remaining:    0.0s\n",
      "[Parallel(n_jobs=4)]: Done   4 out of   4 | elapsed:    0.0s finished\n"
     ]
    },
    {
     "name": "stdout",
     "output_type": "stream",
     "text": [
      ".."
     ]
    },
    {
     "name": "stderr",
     "output_type": "stream",
     "text": [
      "[Parallel(n_jobs=4)]: Using backend LokyBackend with 4 concurrent workers.\n",
      "[Parallel(n_jobs=4)]: Done   2 out of   4 | elapsed:    0.0s remaining:    0.0s\n",
      "[Parallel(n_jobs=4)]: Done   4 out of   4 | elapsed:    0.0s finished\n",
      "[Parallel(n_jobs=4)]: Using backend LokyBackend with 4 concurrent workers.\n",
      "[Parallel(n_jobs=4)]: Done   2 out of   4 | elapsed:    0.0s remaining:    0.0s\n",
      "[Parallel(n_jobs=4)]: Done   4 out of   4 | elapsed:    0.0s finished\n"
     ]
    },
    {
     "name": "stdout",
     "output_type": "stream",
     "text": [
      ".."
     ]
    },
    {
     "name": "stderr",
     "output_type": "stream",
     "text": [
      "[Parallel(n_jobs=4)]: Using backend LokyBackend with 4 concurrent workers.\n",
      "[Parallel(n_jobs=4)]: Done   2 out of   4 | elapsed:    0.0s remaining:    0.0s\n",
      "[Parallel(n_jobs=4)]: Done   4 out of   4 | elapsed:    0.0s finished\n",
      "[Parallel(n_jobs=4)]: Using backend LokyBackend with 4 concurrent workers.\n",
      "[Parallel(n_jobs=4)]: Done   2 out of   4 | elapsed:    0.0s remaining:    0.0s\n",
      "[Parallel(n_jobs=4)]: Done   4 out of   4 | elapsed:    0.0s finished\n"
     ]
    },
    {
     "name": "stdout",
     "output_type": "stream",
     "text": [
      ".."
     ]
    },
    {
     "name": "stderr",
     "output_type": "stream",
     "text": [
      "[Parallel(n_jobs=4)]: Using backend LokyBackend with 4 concurrent workers.\n",
      "[Parallel(n_jobs=4)]: Done   2 out of   4 | elapsed:    0.0s remaining:    0.0s\n",
      "[Parallel(n_jobs=4)]: Done   4 out of   4 | elapsed:    0.0s finished\n",
      "[Parallel(n_jobs=4)]: Using backend LokyBackend with 4 concurrent workers.\n"
     ]
    },
    {
     "name": "stdout",
     "output_type": "stream",
     "text": [
      "."
     ]
    },
    {
     "name": "stderr",
     "output_type": "stream",
     "text": [
      "[Parallel(n_jobs=4)]: Done   2 out of   4 | elapsed:    0.0s remaining:    0.0s\n",
      "[Parallel(n_jobs=4)]: Done   4 out of   4 | elapsed:    0.0s finished\n",
      "[Parallel(n_jobs=4)]: Using backend LokyBackend with 4 concurrent workers.\n"
     ]
    },
    {
     "name": "stdout",
     "output_type": "stream",
     "text": [
      "."
     ]
    },
    {
     "name": "stderr",
     "output_type": "stream",
     "text": [
      "[Parallel(n_jobs=4)]: Done   2 out of   4 | elapsed:    0.0s remaining:    0.0s\n",
      "[Parallel(n_jobs=4)]: Done   4 out of   4 | elapsed:    0.0s finished\n",
      "[Parallel(n_jobs=4)]: Using backend LokyBackend with 4 concurrent workers.\n"
     ]
    },
    {
     "name": "stdout",
     "output_type": "stream",
     "text": [
      "."
     ]
    },
    {
     "name": "stderr",
     "output_type": "stream",
     "text": [
      "[Parallel(n_jobs=4)]: Done   2 out of   4 | elapsed:    0.0s remaining:    0.0s\n",
      "[Parallel(n_jobs=4)]: Done   4 out of   4 | elapsed:    0.0s finished\n",
      "[Parallel(n_jobs=4)]: Using backend LokyBackend with 4 concurrent workers.\n",
      "[Parallel(n_jobs=4)]: Done   2 out of   4 | elapsed:    0.0s remaining:    0.0s\n"
     ]
    },
    {
     "name": "stdout",
     "output_type": "stream",
     "text": [
      "."
     ]
    },
    {
     "name": "stderr",
     "output_type": "stream",
     "text": [
      "[Parallel(n_jobs=4)]: Done   4 out of   4 | elapsed:    0.0s finished\n",
      "[Parallel(n_jobs=4)]: Using backend LokyBackend with 4 concurrent workers.\n",
      "[Parallel(n_jobs=4)]: Done   2 out of   4 | elapsed:    0.0s remaining:    0.0s\n",
      "[Parallel(n_jobs=4)]: Done   4 out of   4 | elapsed:    0.0s finished\n"
     ]
    },
    {
     "name": "stdout",
     "output_type": "stream",
     "text": [
      ".."
     ]
    },
    {
     "name": "stderr",
     "output_type": "stream",
     "text": [
      "[Parallel(n_jobs=4)]: Using backend LokyBackend with 4 concurrent workers.\n",
      "[Parallel(n_jobs=4)]: Done   2 out of   4 | elapsed:    0.0s remaining:    0.0s\n",
      "[Parallel(n_jobs=4)]: Done   4 out of   4 | elapsed:    0.0s finished\n"
     ]
    },
    {
     "name": "stdout",
     "output_type": "stream",
     "text": [
      "."
     ]
    },
    {
     "name": "stderr",
     "output_type": "stream",
     "text": [
      "[Parallel(n_jobs=4)]: Using backend LokyBackend with 4 concurrent workers.\n",
      "[Parallel(n_jobs=4)]: Done   2 out of   4 | elapsed:    0.0s remaining:    0.0s\n",
      "[Parallel(n_jobs=4)]: Done   4 out of   4 | elapsed:    0.0s finished\n",
      "[Parallel(n_jobs=4)]: Using backend LokyBackend with 4 concurrent workers.\n",
      "[Parallel(n_jobs=4)]: Done   2 out of   4 | elapsed:    0.0s remaining:    0.0s\n",
      "[Parallel(n_jobs=4)]: Done   4 out of   4 | elapsed:    0.0s finished\n"
     ]
    },
    {
     "name": "stdout",
     "output_type": "stream",
     "text": [
      "."
     ]
    },
    {
     "name": "stderr",
     "output_type": "stream",
     "text": [
      "[Parallel(n_jobs=4)]: Using backend LokyBackend with 4 concurrent workers.\n",
      "[Parallel(n_jobs=4)]: Done   2 out of   4 | elapsed:    0.0s remaining:    0.0s\n",
      "[Parallel(n_jobs=4)]: Done   4 out of   4 | elapsed:    0.0s finished\n"
     ]
    },
    {
     "name": "stdout",
     "output_type": "stream",
     "text": [
      ".."
     ]
    },
    {
     "name": "stderr",
     "output_type": "stream",
     "text": [
      "[Parallel(n_jobs=4)]: Using backend LokyBackend with 4 concurrent workers.\n",
      "[Parallel(n_jobs=4)]: Done   2 out of   4 | elapsed:    0.0s remaining:    0.0s\n",
      "[Parallel(n_jobs=4)]: Done   4 out of   4 | elapsed:    0.0s finished\n",
      "[Parallel(n_jobs=4)]: Using backend LokyBackend with 4 concurrent workers.\n",
      "[Parallel(n_jobs=4)]: Done   2 out of   4 | elapsed:    0.0s remaining:    0.0s\n",
      "[Parallel(n_jobs=4)]: Done   4 out of   4 | elapsed:    0.0s finished\n"
     ]
    },
    {
     "name": "stdout",
     "output_type": "stream",
     "text": [
      "."
     ]
    },
    {
     "name": "stderr",
     "output_type": "stream",
     "text": [
      "[Parallel(n_jobs=4)]: Using backend LokyBackend with 4 concurrent workers.\n",
      "[Parallel(n_jobs=4)]: Done   2 out of   4 | elapsed:    0.0s remaining:    0.0s\n",
      "[Parallel(n_jobs=4)]: Done   4 out of   4 | elapsed:    0.0s finished\n"
     ]
    },
    {
     "name": "stdout",
     "output_type": "stream",
     "text": [
      "."
     ]
    },
    {
     "name": "stderr",
     "output_type": "stream",
     "text": [
      "[Parallel(n_jobs=4)]: Using backend LokyBackend with 4 concurrent workers.\n",
      "[Parallel(n_jobs=4)]: Done   2 out of   4 | elapsed:    0.0s remaining:    0.0s\n",
      "[Parallel(n_jobs=4)]: Done   4 out of   4 | elapsed:    0.0s finished\n"
     ]
    },
    {
     "name": "stdout",
     "output_type": "stream",
     "text": [
      "."
     ]
    },
    {
     "name": "stderr",
     "output_type": "stream",
     "text": [
      "[Parallel(n_jobs=4)]: Using backend LokyBackend with 4 concurrent workers.\n",
      "[Parallel(n_jobs=4)]: Done   2 out of   4 | elapsed:    0.0s remaining:    0.0s\n",
      "[Parallel(n_jobs=4)]: Done   4 out of   4 | elapsed:    0.0s finished\n"
     ]
    },
    {
     "name": "stdout",
     "output_type": "stream",
     "text": [
      ".."
     ]
    },
    {
     "name": "stderr",
     "output_type": "stream",
     "text": [
      "[Parallel(n_jobs=4)]: Using backend LokyBackend with 4 concurrent workers.\n",
      "[Parallel(n_jobs=4)]: Done   2 out of   4 | elapsed:    0.0s remaining:    0.0s\n",
      "[Parallel(n_jobs=4)]: Done   4 out of   4 | elapsed:    0.0s finished\n"
     ]
    },
    {
     "name": "stdout",
     "output_type": "stream",
     "text": [
      "."
     ]
    },
    {
     "name": "stderr",
     "output_type": "stream",
     "text": [
      "[Parallel(n_jobs=4)]: Using backend LokyBackend with 4 concurrent workers.\n",
      "[Parallel(n_jobs=4)]: Done   2 out of   4 | elapsed:    0.0s remaining:    0.0s\n",
      "[Parallel(n_jobs=4)]: Done   4 out of   4 | elapsed:    0.0s finished\n",
      "[Parallel(n_jobs=4)]: Using backend LokyBackend with 4 concurrent workers.\n",
      "[Parallel(n_jobs=4)]: Done   2 out of   4 | elapsed:    0.0s remaining:    0.0s\n"
     ]
    },
    {
     "name": "stdout",
     "output_type": "stream",
     "text": [
      "."
     ]
    },
    {
     "name": "stderr",
     "output_type": "stream",
     "text": [
      "[Parallel(n_jobs=4)]: Done   4 out of   4 | elapsed:    0.0s finished\n",
      "[Parallel(n_jobs=4)]: Using backend LokyBackend with 4 concurrent workers.\n"
     ]
    },
    {
     "name": "stdout",
     "output_type": "stream",
     "text": [
      "."
     ]
    },
    {
     "name": "stderr",
     "output_type": "stream",
     "text": [
      "[Parallel(n_jobs=4)]: Done   2 out of   4 | elapsed:    0.0s remaining:    0.0s\n",
      "[Parallel(n_jobs=4)]: Done   4 out of   4 | elapsed:    0.0s finished\n",
      "[Parallel(n_jobs=4)]: Using backend LokyBackend with 4 concurrent workers.\n"
     ]
    },
    {
     "name": "stdout",
     "output_type": "stream",
     "text": [
      "."
     ]
    },
    {
     "name": "stderr",
     "output_type": "stream",
     "text": [
      "[Parallel(n_jobs=4)]: Done   2 out of   4 | elapsed:    0.0s remaining:    0.0s\n",
      "[Parallel(n_jobs=4)]: Done   4 out of   4 | elapsed:    0.0s finished\n",
      "[Parallel(n_jobs=4)]: Using backend LokyBackend with 4 concurrent workers.\n"
     ]
    },
    {
     "name": "stdout",
     "output_type": "stream",
     "text": [
      "."
     ]
    },
    {
     "name": "stderr",
     "output_type": "stream",
     "text": [
      "[Parallel(n_jobs=4)]: Done   2 out of   4 | elapsed:    0.0s remaining:    0.0s\n",
      "[Parallel(n_jobs=4)]: Done   4 out of   4 | elapsed:    0.0s finished\n",
      "[Parallel(n_jobs=4)]: Using backend LokyBackend with 4 concurrent workers.\n",
      "[Parallel(n_jobs=4)]: Done   2 out of   4 | elapsed:    0.0s remaining:    0.0s\n"
     ]
    },
    {
     "name": "stdout",
     "output_type": "stream",
     "text": [
      "."
     ]
    },
    {
     "name": "stderr",
     "output_type": "stream",
     "text": [
      "[Parallel(n_jobs=4)]: Done   4 out of   4 | elapsed:    0.0s finished\n",
      "[Parallel(n_jobs=4)]: Using backend LokyBackend with 4 concurrent workers.\n",
      "[Parallel(n_jobs=4)]: Done   2 out of   4 | elapsed:    0.0s remaining:    0.0s\n",
      "[Parallel(n_jobs=4)]: Done   4 out of   4 | elapsed:    0.0s finished\n"
     ]
    },
    {
     "name": "stdout",
     "output_type": "stream",
     "text": [
      "."
     ]
    },
    {
     "name": "stderr",
     "output_type": "stream",
     "text": [
      "[Parallel(n_jobs=4)]: Using backend LokyBackend with 4 concurrent workers.\n",
      "[Parallel(n_jobs=4)]: Done   2 out of   4 | elapsed:    0.0s remaining:    0.0s\n",
      "[Parallel(n_jobs=4)]: Done   4 out of   4 | elapsed:    0.0s finished\n"
     ]
    },
    {
     "name": "stdout",
     "output_type": "stream",
     "text": [
      ".."
     ]
    },
    {
     "name": "stderr",
     "output_type": "stream",
     "text": [
      "[Parallel(n_jobs=4)]: Using backend LokyBackend with 4 concurrent workers.\n",
      "[Parallel(n_jobs=4)]: Done   2 out of   4 | elapsed:    0.0s remaining:    0.0s\n",
      "[Parallel(n_jobs=4)]: Done   4 out of   4 | elapsed:    0.0s finished\n",
      "[Parallel(n_jobs=4)]: Using backend LokyBackend with 4 concurrent workers.\n",
      "[Parallel(n_jobs=4)]: Done   2 out of   4 | elapsed:    0.0s remaining:    0.0s\n",
      "[Parallel(n_jobs=4)]: Done   4 out of   4 | elapsed:    0.0s finished\n"
     ]
    },
    {
     "name": "stdout",
     "output_type": "stream",
     "text": [
      "."
     ]
    },
    {
     "name": "stderr",
     "output_type": "stream",
     "text": [
      "[Parallel(n_jobs=4)]: Using backend LokyBackend with 4 concurrent workers.\n",
      "[Parallel(n_jobs=4)]: Done   2 out of   4 | elapsed:    0.0s remaining:    0.0s\n",
      "[Parallel(n_jobs=4)]: Done   4 out of   4 | elapsed:    0.0s finished\n"
     ]
    },
    {
     "name": "stdout",
     "output_type": "stream",
     "text": [
      "."
     ]
    },
    {
     "name": "stderr",
     "output_type": "stream",
     "text": [
      "[Parallel(n_jobs=4)]: Using backend LokyBackend with 4 concurrent workers.\n",
      "[Parallel(n_jobs=4)]: Done   2 out of   4 | elapsed:    0.0s remaining:    0.0s\n",
      "[Parallel(n_jobs=4)]: Done   4 out of   4 | elapsed:    0.0s finished\n"
     ]
    },
    {
     "name": "stdout",
     "output_type": "stream",
     "text": [
      "."
     ]
    },
    {
     "name": "stderr",
     "output_type": "stream",
     "text": [
      "[Parallel(n_jobs=4)]: Using backend LokyBackend with 4 concurrent workers.\n",
      "[Parallel(n_jobs=4)]: Done   2 out of   4 | elapsed:    0.0s remaining:    0.0s\n",
      "[Parallel(n_jobs=4)]: Done   4 out of   4 | elapsed:    0.0s finished\n"
     ]
    },
    {
     "name": "stdout",
     "output_type": "stream",
     "text": [
      "."
     ]
    },
    {
     "name": "stderr",
     "output_type": "stream",
     "text": [
      "[Parallel(n_jobs=4)]: Using backend LokyBackend with 4 concurrent workers.\n",
      "[Parallel(n_jobs=4)]: Done   2 out of   4 | elapsed:    0.0s remaining:    0.0s\n",
      "[Parallel(n_jobs=4)]: Done   4 out of   4 | elapsed:    0.0s finished\n"
     ]
    },
    {
     "name": "stdout",
     "output_type": "stream",
     "text": [
      "."
     ]
    },
    {
     "name": "stderr",
     "output_type": "stream",
     "text": [
      "[Parallel(n_jobs=4)]: Using backend LokyBackend with 4 concurrent workers.\n",
      "[Parallel(n_jobs=4)]: Done   2 out of   4 | elapsed:    0.0s remaining:    0.0s\n",
      "[Parallel(n_jobs=4)]: Done   4 out of   4 | elapsed:    0.0s finished\n"
     ]
    },
    {
     "name": "stdout",
     "output_type": "stream",
     "text": [
      "."
     ]
    },
    {
     "name": "stderr",
     "output_type": "stream",
     "text": [
      "[Parallel(n_jobs=4)]: Using backend LokyBackend with 4 concurrent workers.\n",
      "[Parallel(n_jobs=4)]: Done   2 out of   4 | elapsed:    0.0s remaining:    0.0s\n",
      "[Parallel(n_jobs=4)]: Done   4 out of   4 | elapsed:    0.0s finished\n"
     ]
    },
    {
     "name": "stdout",
     "output_type": "stream",
     "text": [
      "."
     ]
    },
    {
     "name": "stderr",
     "output_type": "stream",
     "text": [
      "[Parallel(n_jobs=4)]: Using backend LokyBackend with 4 concurrent workers.\n",
      "[Parallel(n_jobs=4)]: Done   2 out of   4 | elapsed:    0.0s remaining:    0.0s\n",
      "[Parallel(n_jobs=4)]: Done   4 out of   4 | elapsed:    0.0s finished\n"
     ]
    },
    {
     "name": "stdout",
     "output_type": "stream",
     "text": [
      "."
     ]
    },
    {
     "name": "stderr",
     "output_type": "stream",
     "text": [
      "[Parallel(n_jobs=4)]: Using backend LokyBackend with 4 concurrent workers.\n",
      "[Parallel(n_jobs=4)]: Done   2 out of   4 | elapsed:    0.0s remaining:    0.0s\n",
      "[Parallel(n_jobs=4)]: Done   4 out of   4 | elapsed:    0.0s finished\n"
     ]
    },
    {
     "name": "stdout",
     "output_type": "stream",
     "text": [
      ".."
     ]
    },
    {
     "name": "stderr",
     "output_type": "stream",
     "text": [
      "[Parallel(n_jobs=4)]: Using backend LokyBackend with 4 concurrent workers.\n",
      "[Parallel(n_jobs=4)]: Done   2 out of   4 | elapsed:    0.0s remaining:    0.0s\n",
      "[Parallel(n_jobs=4)]: Done   4 out of   4 | elapsed:    0.0s finished\n",
      "[Parallel(n_jobs=4)]: Using backend LokyBackend with 4 concurrent workers.\n",
      "[Parallel(n_jobs=4)]: Done   2 out of   4 | elapsed:    0.0s remaining:    0.0s\n",
      "[Parallel(n_jobs=4)]: Done   4 out of   4 | elapsed:    0.0s finished\n"
     ]
    },
    {
     "name": "stdout",
     "output_type": "stream",
     "text": [
      "."
     ]
    },
    {
     "name": "stderr",
     "output_type": "stream",
     "text": [
      "[Parallel(n_jobs=4)]: Using backend LokyBackend with 4 concurrent workers.\n",
      "[Parallel(n_jobs=4)]: Done   2 out of   4 | elapsed:    0.0s remaining:    0.0s\n",
      "[Parallel(n_jobs=4)]: Done   4 out of   4 | elapsed:    0.0s finished\n"
     ]
    },
    {
     "name": "stdout",
     "output_type": "stream",
     "text": [
      ".."
     ]
    },
    {
     "name": "stderr",
     "output_type": "stream",
     "text": [
      "[Parallel(n_jobs=4)]: Using backend LokyBackend with 4 concurrent workers.\n",
      "[Parallel(n_jobs=4)]: Done   2 out of   4 | elapsed:    0.0s remaining:    0.0s\n",
      "[Parallel(n_jobs=4)]: Done   4 out of   4 | elapsed:    0.0s finished\n",
      "[Parallel(n_jobs=4)]: Using backend LokyBackend with 4 concurrent workers.\n",
      "[Parallel(n_jobs=4)]: Done   2 out of   4 | elapsed:    0.0s remaining:    0.0s\n",
      "[Parallel(n_jobs=4)]: Done   4 out of   4 | elapsed:    0.0s finished\n"
     ]
    },
    {
     "name": "stdout",
     "output_type": "stream",
     "text": [
      ".."
     ]
    },
    {
     "name": "stderr",
     "output_type": "stream",
     "text": [
      "[Parallel(n_jobs=4)]: Using backend LokyBackend with 4 concurrent workers.\n",
      "[Parallel(n_jobs=4)]: Done   2 out of   4 | elapsed:    0.0s remaining:    0.0s\n",
      "[Parallel(n_jobs=4)]: Done   4 out of   4 | elapsed:    0.0s finished\n",
      "[Parallel(n_jobs=4)]: Using backend LokyBackend with 4 concurrent workers.\n",
      "[Parallel(n_jobs=4)]: Done   2 out of   4 | elapsed:    0.0s remaining:    0.0s\n",
      "[Parallel(n_jobs=4)]: Done   4 out of   4 | elapsed:    0.0s finished\n"
     ]
    },
    {
     "name": "stdout",
     "output_type": "stream",
     "text": [
      "."
     ]
    },
    {
     "name": "stderr",
     "output_type": "stream",
     "text": [
      "[Parallel(n_jobs=4)]: Using backend LokyBackend with 4 concurrent workers.\n",
      "[Parallel(n_jobs=4)]: Done   2 out of   4 | elapsed:    0.0s remaining:    0.0s\n",
      "[Parallel(n_jobs=4)]: Done   4 out of   4 | elapsed:    0.0s finished\n"
     ]
    },
    {
     "name": "stdout",
     "output_type": "stream",
     "text": [
      "."
     ]
    },
    {
     "name": "stderr",
     "output_type": "stream",
     "text": [
      "[Parallel(n_jobs=4)]: Using backend LokyBackend with 4 concurrent workers.\n",
      "[Parallel(n_jobs=4)]: Done   2 out of   4 | elapsed:    0.0s remaining:    0.0s\n",
      "[Parallel(n_jobs=4)]: Done   4 out of   4 | elapsed:    0.0s finished\n"
     ]
    },
    {
     "name": "stdout",
     "output_type": "stream",
     "text": [
      "."
     ]
    },
    {
     "name": "stderr",
     "output_type": "stream",
     "text": [
      "[Parallel(n_jobs=4)]: Using backend LokyBackend with 4 concurrent workers.\n",
      "[Parallel(n_jobs=4)]: Done   2 out of   4 | elapsed:    0.0s remaining:    0.0s\n",
      "[Parallel(n_jobs=4)]: Done   4 out of   4 | elapsed:    0.0s finished\n"
     ]
    },
    {
     "name": "stdout",
     "output_type": "stream",
     "text": [
      "."
     ]
    },
    {
     "name": "stderr",
     "output_type": "stream",
     "text": [
      "[Parallel(n_jobs=4)]: Using backend LokyBackend with 4 concurrent workers.\n",
      "[Parallel(n_jobs=4)]: Done   2 out of   4 | elapsed:    0.0s remaining:    0.0s\n",
      "[Parallel(n_jobs=4)]: Done   4 out of   4 | elapsed:    0.0s finished\n"
     ]
    },
    {
     "name": "stdout",
     "output_type": "stream",
     "text": [
      "."
     ]
    },
    {
     "name": "stderr",
     "output_type": "stream",
     "text": [
      "[Parallel(n_jobs=4)]: Using backend LokyBackend with 4 concurrent workers.\n",
      "[Parallel(n_jobs=4)]: Done   2 out of   4 | elapsed:    0.0s remaining:    0.0s\n",
      "[Parallel(n_jobs=4)]: Done   4 out of   4 | elapsed:    0.0s finished\n"
     ]
    },
    {
     "name": "stdout",
     "output_type": "stream",
     "text": [
      "."
     ]
    },
    {
     "name": "stderr",
     "output_type": "stream",
     "text": [
      "[Parallel(n_jobs=4)]: Using backend LokyBackend with 4 concurrent workers.\n",
      "[Parallel(n_jobs=4)]: Done   2 out of   4 | elapsed:    0.0s remaining:    0.0s\n",
      "[Parallel(n_jobs=4)]: Done   4 out of   4 | elapsed:    0.0s finished\n"
     ]
    },
    {
     "name": "stdout",
     "output_type": "stream",
     "text": [
      "."
     ]
    },
    {
     "name": "stderr",
     "output_type": "stream",
     "text": [
      "[Parallel(n_jobs=4)]: Using backend LokyBackend with 4 concurrent workers.\n",
      "[Parallel(n_jobs=4)]: Done   2 out of   4 | elapsed:    0.0s remaining:    0.0s\n",
      "[Parallel(n_jobs=4)]: Done   4 out of   4 | elapsed:    0.0s finished\n"
     ]
    },
    {
     "name": "stdout",
     "output_type": "stream",
     "text": [
      "."
     ]
    },
    {
     "name": "stderr",
     "output_type": "stream",
     "text": [
      "[Parallel(n_jobs=4)]: Using backend LokyBackend with 4 concurrent workers.\n",
      "[Parallel(n_jobs=4)]: Done   2 out of   4 | elapsed:    0.0s remaining:    0.0s\n",
      "[Parallel(n_jobs=4)]: Done   4 out of   4 | elapsed:    0.0s finished\n"
     ]
    },
    {
     "name": "stdout",
     "output_type": "stream",
     "text": [
      "."
     ]
    },
    {
     "name": "stderr",
     "output_type": "stream",
     "text": [
      "[Parallel(n_jobs=4)]: Using backend LokyBackend with 4 concurrent workers.\n",
      "[Parallel(n_jobs=4)]: Done   2 out of   4 | elapsed:    0.0s remaining:    0.0s\n",
      "[Parallel(n_jobs=4)]: Done   4 out of   4 | elapsed:    0.0s finished\n"
     ]
    },
    {
     "name": "stdout",
     "output_type": "stream",
     "text": [
      "."
     ]
    },
    {
     "name": "stderr",
     "output_type": "stream",
     "text": [
      "[Parallel(n_jobs=4)]: Using backend LokyBackend with 4 concurrent workers.\n",
      "[Parallel(n_jobs=4)]: Done   2 out of   4 | elapsed:    0.0s remaining:    0.0s\n",
      "[Parallel(n_jobs=4)]: Done   4 out of   4 | elapsed:    0.0s finished\n"
     ]
    },
    {
     "name": "stdout",
     "output_type": "stream",
     "text": [
      "."
     ]
    },
    {
     "name": "stderr",
     "output_type": "stream",
     "text": [
      "[Parallel(n_jobs=4)]: Using backend LokyBackend with 4 concurrent workers.\n",
      "[Parallel(n_jobs=4)]: Done   2 out of   4 | elapsed:    0.0s remaining:    0.0s\n",
      "[Parallel(n_jobs=4)]: Done   4 out of   4 | elapsed:    0.0s finished\n"
     ]
    },
    {
     "name": "stdout",
     "output_type": "stream",
     "text": [
      "."
     ]
    },
    {
     "name": "stderr",
     "output_type": "stream",
     "text": [
      "[Parallel(n_jobs=4)]: Using backend LokyBackend with 4 concurrent workers.\n",
      "[Parallel(n_jobs=4)]: Done   2 out of   4 | elapsed:    0.0s remaining:    0.0s\n",
      "[Parallel(n_jobs=4)]: Done   4 out of   4 | elapsed:    0.0s finished\n"
     ]
    },
    {
     "name": "stdout",
     "output_type": "stream",
     "text": [
      "."
     ]
    },
    {
     "name": "stderr",
     "output_type": "stream",
     "text": [
      "[Parallel(n_jobs=4)]: Using backend LokyBackend with 4 concurrent workers.\n",
      "[Parallel(n_jobs=4)]: Done   2 out of   4 | elapsed:    0.0s remaining:    0.0s\n",
      "[Parallel(n_jobs=4)]: Done   4 out of   4 | elapsed:    0.0s finished\n"
     ]
    },
    {
     "name": "stdout",
     "output_type": "stream",
     "text": [
      ".."
     ]
    },
    {
     "name": "stderr",
     "output_type": "stream",
     "text": [
      "[Parallel(n_jobs=4)]: Using backend LokyBackend with 4 concurrent workers.\n",
      "[Parallel(n_jobs=4)]: Done   2 out of   4 | elapsed:    0.0s remaining:    0.0s\n",
      "[Parallel(n_jobs=4)]: Done   4 out of   4 | elapsed:    0.0s finished\n",
      "[Parallel(n_jobs=4)]: Using backend LokyBackend with 4 concurrent workers.\n",
      "[Parallel(n_jobs=4)]: Done   2 out of   4 | elapsed:    0.0s remaining:    0.0s\n",
      "[Parallel(n_jobs=4)]: Done   4 out of   4 | elapsed:    0.0s finished\n"
     ]
    },
    {
     "name": "stdout",
     "output_type": "stream",
     "text": [
      ".."
     ]
    },
    {
     "name": "stderr",
     "output_type": "stream",
     "text": [
      "[Parallel(n_jobs=4)]: Using backend LokyBackend with 4 concurrent workers.\n",
      "[Parallel(n_jobs=4)]: Done   2 out of   4 | elapsed:    0.0s remaining:    0.0s\n",
      "[Parallel(n_jobs=4)]: Done   4 out of   4 | elapsed:    0.0s finished\n",
      "[Parallel(n_jobs=4)]: Using backend LokyBackend with 4 concurrent workers.\n",
      "[Parallel(n_jobs=4)]: Done   2 out of   4 | elapsed:    0.0s remaining:    0.0s\n",
      "[Parallel(n_jobs=4)]: Done   4 out of   4 | elapsed:    0.0s finished\n"
     ]
    },
    {
     "name": "stdout",
     "output_type": "stream",
     "text": [
      "."
     ]
    },
    {
     "name": "stderr",
     "output_type": "stream",
     "text": [
      "[Parallel(n_jobs=4)]: Using backend LokyBackend with 4 concurrent workers.\n"
     ]
    },
    {
     "name": "stdout",
     "output_type": "stream",
     "text": [
      "."
     ]
    },
    {
     "name": "stderr",
     "output_type": "stream",
     "text": [
      "[Parallel(n_jobs=4)]: Done   2 out of   4 | elapsed:    0.0s remaining:    0.0s\n",
      "[Parallel(n_jobs=4)]: Done   4 out of   4 | elapsed:    0.0s finished\n",
      "[Parallel(n_jobs=4)]: Using backend LokyBackend with 4 concurrent workers.\n"
     ]
    },
    {
     "name": "stdout",
     "output_type": "stream",
     "text": [
      "."
     ]
    },
    {
     "name": "stderr",
     "output_type": "stream",
     "text": [
      "[Parallel(n_jobs=4)]: Done   2 out of   4 | elapsed:    0.0s remaining:    0.0s\n",
      "[Parallel(n_jobs=4)]: Done   4 out of   4 | elapsed:    0.0s finished\n",
      "[Parallel(n_jobs=4)]: Using backend LokyBackend with 4 concurrent workers.\n",
      "[Parallel(n_jobs=4)]: Done   2 out of   4 | elapsed:    0.0s remaining:    0.0s\n"
     ]
    },
    {
     "name": "stdout",
     "output_type": "stream",
     "text": [
      "."
     ]
    },
    {
     "name": "stderr",
     "output_type": "stream",
     "text": [
      "[Parallel(n_jobs=4)]: Done   4 out of   4 | elapsed:    0.0s finished\n",
      "[Parallel(n_jobs=4)]: Using backend LokyBackend with 4 concurrent workers.\n",
      "[Parallel(n_jobs=4)]: Done   2 out of   4 | elapsed:    0.0s remaining:    0.0s\n"
     ]
    },
    {
     "name": "stdout",
     "output_type": "stream",
     "text": [
      "."
     ]
    },
    {
     "name": "stderr",
     "output_type": "stream",
     "text": [
      "[Parallel(n_jobs=4)]: Done   4 out of   4 | elapsed:    0.0s finished\n",
      "[Parallel(n_jobs=4)]: Using backend LokyBackend with 4 concurrent workers.\n",
      "[Parallel(n_jobs=4)]: Done   2 out of   4 | elapsed:    0.0s remaining:    0.0s\n"
     ]
    },
    {
     "name": "stdout",
     "output_type": "stream",
     "text": [
      "."
     ]
    },
    {
     "name": "stderr",
     "output_type": "stream",
     "text": [
      "[Parallel(n_jobs=4)]: Done   4 out of   4 | elapsed:    0.0s finished\n",
      "[Parallel(n_jobs=4)]: Using backend LokyBackend with 4 concurrent workers.\n",
      "[Parallel(n_jobs=4)]: Done   2 out of   4 | elapsed:    0.0s remaining:    0.0s\n",
      "[Parallel(n_jobs=4)]: Done   4 out of   4 | elapsed:    0.0s finished\n"
     ]
    },
    {
     "name": "stdout",
     "output_type": "stream",
     "text": [
      ".."
     ]
    },
    {
     "name": "stderr",
     "output_type": "stream",
     "text": [
      "[Parallel(n_jobs=4)]: Using backend LokyBackend with 4 concurrent workers.\n",
      "[Parallel(n_jobs=4)]: Done   2 out of   4 | elapsed:    0.0s remaining:    0.0s\n",
      "[Parallel(n_jobs=4)]: Done   4 out of   4 | elapsed:    0.0s finished\n"
     ]
    },
    {
     "name": "stdout",
     "output_type": "stream",
     "text": [
      "."
     ]
    },
    {
     "name": "stderr",
     "output_type": "stream",
     "text": [
      "[Parallel(n_jobs=4)]: Using backend LokyBackend with 4 concurrent workers.\n",
      "[Parallel(n_jobs=4)]: Done   2 out of   4 | elapsed:    0.0s remaining:    0.0s\n",
      "[Parallel(n_jobs=4)]: Done   4 out of   4 | elapsed:    0.0s finished\n"
     ]
    },
    {
     "name": "stdout",
     "output_type": "stream",
     "text": [
      "."
     ]
    },
    {
     "name": "stderr",
     "output_type": "stream",
     "text": [
      "[Parallel(n_jobs=4)]: Using backend LokyBackend with 4 concurrent workers.\n",
      "[Parallel(n_jobs=4)]: Done   2 out of   4 | elapsed:    0.0s remaining:    0.0s\n",
      "[Parallel(n_jobs=4)]: Done   4 out of   4 | elapsed:    0.0s finished\n"
     ]
    },
    {
     "name": "stdout",
     "output_type": "stream",
     "text": [
      "."
     ]
    },
    {
     "name": "stderr",
     "output_type": "stream",
     "text": [
      "[Parallel(n_jobs=4)]: Using backend LokyBackend with 4 concurrent workers.\n",
      "[Parallel(n_jobs=4)]: Done   2 out of   4 | elapsed:    0.0s remaining:    0.0s\n",
      "[Parallel(n_jobs=4)]: Done   4 out of   4 | elapsed:    0.0s finished\n"
     ]
    },
    {
     "name": "stdout",
     "output_type": "stream",
     "text": [
      "."
     ]
    },
    {
     "name": "stderr",
     "output_type": "stream",
     "text": [
      "[Parallel(n_jobs=4)]: Using backend LokyBackend with 4 concurrent workers.\n",
      "[Parallel(n_jobs=4)]: Done   2 out of   4 | elapsed:    0.0s remaining:    0.0s\n",
      "[Parallel(n_jobs=4)]: Done   4 out of   4 | elapsed:    0.0s finished\n",
      "[Parallel(n_jobs=4)]: Using backend LokyBackend with 4 concurrent workers.\n",
      "[Parallel(n_jobs=4)]: Done   2 out of   4 | elapsed:    0.0s remaining:    0.0s\n"
     ]
    },
    {
     "name": "stdout",
     "output_type": "stream",
     "text": [
      "."
     ]
    },
    {
     "name": "stderr",
     "output_type": "stream",
     "text": [
      "[Parallel(n_jobs=4)]: Done   4 out of   4 | elapsed:    0.0s finished\n",
      "[Parallel(n_jobs=4)]: Using backend LokyBackend with 4 concurrent workers.\n",
      "[Parallel(n_jobs=4)]: Done   2 out of   4 | elapsed:    0.0s remaining:    0.0s\n"
     ]
    },
    {
     "name": "stdout",
     "output_type": "stream",
     "text": [
      "."
     ]
    },
    {
     "name": "stderr",
     "output_type": "stream",
     "text": [
      "[Parallel(n_jobs=4)]: Done   4 out of   4 | elapsed:    0.0s finished\n",
      "[Parallel(n_jobs=4)]: Using backend LokyBackend with 4 concurrent workers.\n",
      "[Parallel(n_jobs=4)]: Done   2 out of   4 | elapsed:    0.0s remaining:    0.0s\n",
      "[Parallel(n_jobs=4)]: Done   4 out of   4 | elapsed:    0.0s finished\n"
     ]
    },
    {
     "name": "stdout",
     "output_type": "stream",
     "text": [
      "."
     ]
    },
    {
     "name": "stderr",
     "output_type": "stream",
     "text": [
      "[Parallel(n_jobs=4)]: Using backend LokyBackend with 4 concurrent workers.\n",
      "[Parallel(n_jobs=4)]: Done   2 out of   4 | elapsed:    0.0s remaining:    0.0s\n"
     ]
    },
    {
     "name": "stdout",
     "output_type": "stream",
     "text": [
      "."
     ]
    },
    {
     "name": "stderr",
     "output_type": "stream",
     "text": [
      "[Parallel(n_jobs=4)]: Done   4 out of   4 | elapsed:    0.0s finished\n",
      "[Parallel(n_jobs=4)]: Using backend LokyBackend with 4 concurrent workers.\n"
     ]
    },
    {
     "name": "stdout",
     "output_type": "stream",
     "text": [
      "."
     ]
    },
    {
     "name": "stderr",
     "output_type": "stream",
     "text": [
      "[Parallel(n_jobs=4)]: Done   2 out of   4 | elapsed:    0.0s remaining:    0.0s\n",
      "[Parallel(n_jobs=4)]: Done   4 out of   4 | elapsed:    0.0s finished\n",
      "[Parallel(n_jobs=4)]: Using backend LokyBackend with 4 concurrent workers.\n",
      "[Parallel(n_jobs=4)]: Done   2 out of   4 | elapsed:    0.0s remaining:    0.0s\n",
      "[Parallel(n_jobs=4)]: Done   4 out of   4 | elapsed:    0.0s finished\n"
     ]
    },
    {
     "name": "stdout",
     "output_type": "stream",
     "text": [
      "."
     ]
    },
    {
     "name": "stderr",
     "output_type": "stream",
     "text": [
      "[Parallel(n_jobs=4)]: Using backend LokyBackend with 4 concurrent workers.\n",
      "[Parallel(n_jobs=4)]: Done   2 out of   4 | elapsed:    0.0s remaining:    0.0s\n",
      "[Parallel(n_jobs=4)]: Done   4 out of   4 | elapsed:    0.0s finished\n"
     ]
    },
    {
     "name": "stdout",
     "output_type": "stream",
     "text": [
      "."
     ]
    },
    {
     "name": "stderr",
     "output_type": "stream",
     "text": [
      "[Parallel(n_jobs=4)]: Using backend LokyBackend with 4 concurrent workers.\n",
      "[Parallel(n_jobs=4)]: Done   2 out of   4 | elapsed:    0.0s remaining:    0.0s\n",
      "[Parallel(n_jobs=4)]: Done   4 out of   4 | elapsed:    0.0s finished\n"
     ]
    },
    {
     "name": "stdout",
     "output_type": "stream",
     "text": [
      "."
     ]
    },
    {
     "name": "stderr",
     "output_type": "stream",
     "text": [
      "[Parallel(n_jobs=4)]: Using backend LokyBackend with 4 concurrent workers.\n",
      "[Parallel(n_jobs=4)]: Done   2 out of   4 | elapsed:    0.0s remaining:    0.0s\n",
      "[Parallel(n_jobs=4)]: Done   4 out of   4 | elapsed:    0.0s finished\n"
     ]
    },
    {
     "name": "stdout",
     "output_type": "stream",
     "text": [
      "."
     ]
    },
    {
     "name": "stderr",
     "output_type": "stream",
     "text": [
      "[Parallel(n_jobs=4)]: Using backend LokyBackend with 4 concurrent workers.\n",
      "[Parallel(n_jobs=4)]: Done   2 out of   4 | elapsed:    0.0s remaining:    0.0s\n",
      "[Parallel(n_jobs=4)]: Done   4 out of   4 | elapsed:    0.0s finished\n"
     ]
    },
    {
     "name": "stdout",
     "output_type": "stream",
     "text": [
      "."
     ]
    },
    {
     "name": "stderr",
     "output_type": "stream",
     "text": [
      "[Parallel(n_jobs=4)]: Using backend LokyBackend with 4 concurrent workers.\n",
      "[Parallel(n_jobs=4)]: Done   2 out of   4 | elapsed:    0.0s remaining:    0.0s\n",
      "[Parallel(n_jobs=4)]: Done   4 out of   4 | elapsed:    0.0s finished\n"
     ]
    },
    {
     "name": "stdout",
     "output_type": "stream",
     "text": [
      "."
     ]
    },
    {
     "name": "stderr",
     "output_type": "stream",
     "text": [
      "[Parallel(n_jobs=4)]: Using backend LokyBackend with 4 concurrent workers.\n",
      "[Parallel(n_jobs=4)]: Done   2 out of   4 | elapsed:    0.0s remaining:    0.0s\n",
      "[Parallel(n_jobs=4)]: Done   4 out of   4 | elapsed:    0.0s finished\n"
     ]
    },
    {
     "name": "stdout",
     "output_type": "stream",
     "text": [
      "."
     ]
    },
    {
     "name": "stderr",
     "output_type": "stream",
     "text": [
      "[Parallel(n_jobs=4)]: Using backend LokyBackend with 4 concurrent workers.\n",
      "[Parallel(n_jobs=4)]: Done   2 out of   4 | elapsed:    0.0s remaining:    0.0s\n",
      "[Parallel(n_jobs=4)]: Done   4 out of   4 | elapsed:    0.0s finished\n"
     ]
    },
    {
     "name": "stdout",
     "output_type": "stream",
     "text": [
      "."
     ]
    },
    {
     "name": "stderr",
     "output_type": "stream",
     "text": [
      "[Parallel(n_jobs=4)]: Using backend LokyBackend with 4 concurrent workers.\n",
      "[Parallel(n_jobs=4)]: Done   2 out of   4 | elapsed:    0.0s remaining:    0.0s\n",
      "[Parallel(n_jobs=4)]: Done   4 out of   4 | elapsed:    0.0s finished\n"
     ]
    },
    {
     "name": "stdout",
     "output_type": "stream",
     "text": [
      ".."
     ]
    },
    {
     "name": "stderr",
     "output_type": "stream",
     "text": [
      "[Parallel(n_jobs=4)]: Using backend LokyBackend with 4 concurrent workers.\n",
      "[Parallel(n_jobs=4)]: Done   2 out of   4 | elapsed:    0.0s remaining:    0.0s\n",
      "[Parallel(n_jobs=4)]: Done   4 out of   4 | elapsed:    0.0s finished\n",
      "[Parallel(n_jobs=4)]: Using backend LokyBackend with 4 concurrent workers.\n"
     ]
    },
    {
     "name": "stdout",
     "output_type": "stream",
     "text": [
      "."
     ]
    },
    {
     "name": "stderr",
     "output_type": "stream",
     "text": [
      "[Parallel(n_jobs=4)]: Done   2 out of   4 | elapsed:    0.0s remaining:    0.0s\n",
      "[Parallel(n_jobs=4)]: Done   4 out of   4 | elapsed:    0.0s finished\n",
      "[Parallel(n_jobs=4)]: Using backend LokyBackend with 4 concurrent workers.\n"
     ]
    },
    {
     "name": "stdout",
     "output_type": "stream",
     "text": [
      "."
     ]
    },
    {
     "name": "stderr",
     "output_type": "stream",
     "text": [
      "[Parallel(n_jobs=4)]: Done   2 out of   4 | elapsed:    0.0s remaining:    0.0s\n",
      "[Parallel(n_jobs=4)]: Done   4 out of   4 | elapsed:    0.0s finished\n",
      "[Parallel(n_jobs=4)]: Using backend LokyBackend with 4 concurrent workers.\n"
     ]
    },
    {
     "name": "stdout",
     "output_type": "stream",
     "text": [
      "."
     ]
    },
    {
     "name": "stderr",
     "output_type": "stream",
     "text": [
      "[Parallel(n_jobs=4)]: Done   2 out of   4 | elapsed:    0.0s remaining:    0.0s\n",
      "[Parallel(n_jobs=4)]: Done   4 out of   4 | elapsed:    0.0s finished\n",
      "[Parallel(n_jobs=4)]: Using backend LokyBackend with 4 concurrent workers.\n",
      "[Parallel(n_jobs=4)]: Done   2 out of   4 | elapsed:    0.0s remaining:    0.0s\n"
     ]
    },
    {
     "name": "stdout",
     "output_type": "stream",
     "text": [
      "."
     ]
    },
    {
     "name": "stderr",
     "output_type": "stream",
     "text": [
      "[Parallel(n_jobs=4)]: Done   4 out of   4 | elapsed:    0.0s finished\n",
      "[Parallel(n_jobs=4)]: Using backend LokyBackend with 4 concurrent workers.\n"
     ]
    },
    {
     "name": "stdout",
     "output_type": "stream",
     "text": [
      "."
     ]
    },
    {
     "name": "stderr",
     "output_type": "stream",
     "text": [
      "[Parallel(n_jobs=4)]: Done   2 out of   4 | elapsed:    0.0s remaining:    0.0s\n",
      "[Parallel(n_jobs=4)]: Done   4 out of   4 | elapsed:    0.0s finished\n",
      "[Parallel(n_jobs=4)]: Using backend LokyBackend with 4 concurrent workers.\n"
     ]
    },
    {
     "name": "stdout",
     "output_type": "stream",
     "text": [
      "."
     ]
    },
    {
     "name": "stderr",
     "output_type": "stream",
     "text": [
      "[Parallel(n_jobs=4)]: Done   2 out of   4 | elapsed:    0.0s remaining:    0.0s\n",
      "[Parallel(n_jobs=4)]: Done   4 out of   4 | elapsed:    0.0s finished\n",
      "[Parallel(n_jobs=4)]: Using backend LokyBackend with 4 concurrent workers.\n",
      "[Parallel(n_jobs=4)]: Done   2 out of   4 | elapsed:    0.0s remaining:    0.0s\n",
      "[Parallel(n_jobs=4)]: Done   4 out of   4 | elapsed:    0.0s finished\n"
     ]
    },
    {
     "name": "stdout",
     "output_type": "stream",
     "text": [
      "."
     ]
    },
    {
     "name": "stderr",
     "output_type": "stream",
     "text": [
      "[Parallel(n_jobs=4)]: Using backend LokyBackend with 4 concurrent workers.\n",
      "[Parallel(n_jobs=4)]: Done   2 out of   4 | elapsed:    0.0s remaining:    0.0s\n",
      "[Parallel(n_jobs=4)]: Done   4 out of   4 | elapsed:    0.0s finished\n"
     ]
    },
    {
     "name": "stdout",
     "output_type": "stream",
     "text": [
      ".."
     ]
    },
    {
     "name": "stderr",
     "output_type": "stream",
     "text": [
      "[Parallel(n_jobs=4)]: Using backend LokyBackend with 4 concurrent workers.\n",
      "[Parallel(n_jobs=4)]: Done   2 out of   4 | elapsed:    0.0s remaining:    0.0s\n",
      "[Parallel(n_jobs=4)]: Done   4 out of   4 | elapsed:    0.0s finished\n"
     ]
    },
    {
     "name": "stdout",
     "output_type": "stream",
     "text": [
      "."
     ]
    },
    {
     "name": "stderr",
     "output_type": "stream",
     "text": [
      "[Parallel(n_jobs=4)]: Using backend LokyBackend with 4 concurrent workers.\n",
      "[Parallel(n_jobs=4)]: Done   2 out of   4 | elapsed:    0.0s remaining:    0.0s\n",
      "[Parallel(n_jobs=4)]: Done   4 out of   4 | elapsed:    0.0s finished\n",
      "[Parallel(n_jobs=4)]: Using backend LokyBackend with 4 concurrent workers.\n"
     ]
    },
    {
     "name": "stdout",
     "output_type": "stream",
     "text": [
      "."
     ]
    },
    {
     "name": "stderr",
     "output_type": "stream",
     "text": [
      "[Parallel(n_jobs=4)]: Done   2 out of   4 | elapsed:    0.0s remaining:    0.0s\n",
      "[Parallel(n_jobs=4)]: Done   4 out of   4 | elapsed:    0.0s finished\n",
      "[Parallel(n_jobs=4)]: Using backend LokyBackend with 4 concurrent workers.\n"
     ]
    },
    {
     "name": "stdout",
     "output_type": "stream",
     "text": [
      "."
     ]
    },
    {
     "name": "stderr",
     "output_type": "stream",
     "text": [
      "[Parallel(n_jobs=4)]: Done   2 out of   4 | elapsed:    0.0s remaining:    0.0s\n",
      "[Parallel(n_jobs=4)]: Done   4 out of   4 | elapsed:    0.0s finished\n",
      "[Parallel(n_jobs=4)]: Using backend LokyBackend with 4 concurrent workers.\n",
      "[Parallel(n_jobs=4)]: Done   2 out of   4 | elapsed:    0.0s remaining:    0.0s\n",
      "[Parallel(n_jobs=4)]: Done   4 out of   4 | elapsed:    0.0s finished\n"
     ]
    },
    {
     "name": "stdout",
     "output_type": "stream",
     "text": [
      "."
     ]
    },
    {
     "name": "stderr",
     "output_type": "stream",
     "text": [
      "[Parallel(n_jobs=4)]: Using backend LokyBackend with 4 concurrent workers.\n",
      "[Parallel(n_jobs=4)]: Done   2 out of   4 | elapsed:    0.0s remaining:    0.0s\n",
      "[Parallel(n_jobs=4)]: Done   4 out of   4 | elapsed:    0.0s finished\n"
     ]
    },
    {
     "name": "stdout",
     "output_type": "stream",
     "text": [
      ".."
     ]
    },
    {
     "name": "stderr",
     "output_type": "stream",
     "text": [
      "[Parallel(n_jobs=4)]: Using backend LokyBackend with 4 concurrent workers.\n",
      "[Parallel(n_jobs=4)]: Done   2 out of   4 | elapsed:    0.0s remaining:    0.0s\n",
      "[Parallel(n_jobs=4)]: Done   4 out of   4 | elapsed:    0.0s finished\n",
      "[Parallel(n_jobs=4)]: Using backend LokyBackend with 4 concurrent workers.\n",
      "[Parallel(n_jobs=4)]: Done   2 out of   4 | elapsed:    0.0s remaining:    0.0s\n",
      "[Parallel(n_jobs=4)]: Done   4 out of   4 | elapsed:    0.0s finished\n"
     ]
    },
    {
     "name": "stdout",
     "output_type": "stream",
     "text": [
      "."
     ]
    },
    {
     "name": "stderr",
     "output_type": "stream",
     "text": [
      "[Parallel(n_jobs=4)]: Using backend LokyBackend with 4 concurrent workers.\n",
      "[Parallel(n_jobs=4)]: Done   2 out of   4 | elapsed:    0.0s remaining:    0.0s\n",
      "[Parallel(n_jobs=4)]: Done   4 out of   4 | elapsed:    0.0s finished\n"
     ]
    },
    {
     "name": "stdout",
     "output_type": "stream",
     "text": [
      ".."
     ]
    },
    {
     "name": "stderr",
     "output_type": "stream",
     "text": [
      "[Parallel(n_jobs=4)]: Using backend LokyBackend with 4 concurrent workers.\n",
      "[Parallel(n_jobs=4)]: Done   2 out of   4 | elapsed:    0.0s remaining:    0.0s\n",
      "[Parallel(n_jobs=4)]: Done   4 out of   4 | elapsed:    0.0s finished\n"
     ]
    },
    {
     "name": "stdout",
     "output_type": "stream",
     "text": [
      "."
     ]
    },
    {
     "name": "stderr",
     "output_type": "stream",
     "text": [
      "[Parallel(n_jobs=4)]: Using backend LokyBackend with 4 concurrent workers.\n",
      "[Parallel(n_jobs=4)]: Done   2 out of   4 | elapsed:    0.0s remaining:    0.0s\n",
      "[Parallel(n_jobs=4)]: Done   4 out of   4 | elapsed:    0.0s finished\n",
      "[Parallel(n_jobs=4)]: Using backend LokyBackend with 4 concurrent workers.\n",
      "[Parallel(n_jobs=4)]: Done   2 out of   4 | elapsed:    0.0s remaining:    0.0s\n",
      "[Parallel(n_jobs=4)]: Done   4 out of   4 | elapsed:    0.0s finished\n"
     ]
    },
    {
     "name": "stdout",
     "output_type": "stream",
     "text": [
      "."
     ]
    },
    {
     "name": "stderr",
     "output_type": "stream",
     "text": [
      "[Parallel(n_jobs=4)]: Using backend LokyBackend with 4 concurrent workers.\n",
      "[Parallel(n_jobs=4)]: Done   2 out of   4 | elapsed:    0.0s remaining:    0.0s\n",
      "[Parallel(n_jobs=4)]: Done   4 out of   4 | elapsed:    0.0s finished\n"
     ]
    },
    {
     "name": "stdout",
     "output_type": "stream",
     "text": [
      "."
     ]
    },
    {
     "name": "stderr",
     "output_type": "stream",
     "text": [
      "[Parallel(n_jobs=4)]: Using backend LokyBackend with 4 concurrent workers.\n",
      "[Parallel(n_jobs=4)]: Done   2 out of   4 | elapsed:    0.0s remaining:    0.0s\n",
      "[Parallel(n_jobs=4)]: Done   4 out of   4 | elapsed:    0.0s finished\n"
     ]
    },
    {
     "name": "stdout",
     "output_type": "stream",
     "text": [
      "."
     ]
    },
    {
     "name": "stderr",
     "output_type": "stream",
     "text": [
      "[Parallel(n_jobs=4)]: Using backend LokyBackend with 4 concurrent workers.\n",
      "[Parallel(n_jobs=4)]: Done   2 out of   4 | elapsed:    0.0s remaining:    0.0s\n",
      "[Parallel(n_jobs=4)]: Done   4 out of   4 | elapsed:    0.0s finished\n"
     ]
    },
    {
     "name": "stdout",
     "output_type": "stream",
     "text": [
      "."
     ]
    },
    {
     "name": "stderr",
     "output_type": "stream",
     "text": [
      "[Parallel(n_jobs=4)]: Using backend LokyBackend with 4 concurrent workers.\n",
      "[Parallel(n_jobs=4)]: Done   2 out of   4 | elapsed:    0.0s remaining:    0.0s\n",
      "[Parallel(n_jobs=4)]: Done   4 out of   4 | elapsed:    0.0s finished\n"
     ]
    },
    {
     "name": "stdout",
     "output_type": "stream",
     "text": [
      "."
     ]
    },
    {
     "name": "stderr",
     "output_type": "stream",
     "text": [
      "[Parallel(n_jobs=4)]: Using backend LokyBackend with 4 concurrent workers.\n",
      "[Parallel(n_jobs=4)]: Done   2 out of   4 | elapsed:    0.0s remaining:    0.0s\n",
      "[Parallel(n_jobs=4)]: Done   4 out of   4 | elapsed:    0.0s finished\n"
     ]
    },
    {
     "name": "stdout",
     "output_type": "stream",
     "text": [
      "."
     ]
    },
    {
     "name": "stderr",
     "output_type": "stream",
     "text": [
      "[Parallel(n_jobs=4)]: Using backend LokyBackend with 4 concurrent workers.\n",
      "[Parallel(n_jobs=4)]: Done   2 out of   4 | elapsed:    0.0s remaining:    0.0s\n",
      "[Parallel(n_jobs=4)]: Done   4 out of   4 | elapsed:    0.0s finished\n"
     ]
    },
    {
     "name": "stdout",
     "output_type": "stream",
     "text": [
      "."
     ]
    },
    {
     "name": "stderr",
     "output_type": "stream",
     "text": [
      "[Parallel(n_jobs=4)]: Using backend LokyBackend with 4 concurrent workers.\n",
      "[Parallel(n_jobs=4)]: Done   2 out of   4 | elapsed:    0.0s remaining:    0.0s\n",
      "[Parallel(n_jobs=4)]: Done   4 out of   4 | elapsed:    0.0s finished\n"
     ]
    },
    {
     "name": "stdout",
     "output_type": "stream",
     "text": [
      "."
     ]
    },
    {
     "name": "stderr",
     "output_type": "stream",
     "text": [
      "[Parallel(n_jobs=4)]: Using backend LokyBackend with 4 concurrent workers.\n",
      "[Parallel(n_jobs=4)]: Done   2 out of   4 | elapsed:    0.0s remaining:    0.0s\n",
      "[Parallel(n_jobs=4)]: Done   4 out of   4 | elapsed:    0.0s finished\n"
     ]
    },
    {
     "name": "stdout",
     "output_type": "stream",
     "text": [
      "."
     ]
    },
    {
     "name": "stderr",
     "output_type": "stream",
     "text": [
      "[Parallel(n_jobs=4)]: Using backend LokyBackend with 4 concurrent workers.\n",
      "[Parallel(n_jobs=4)]: Done   2 out of   4 | elapsed:    0.0s remaining:    0.0s\n",
      "[Parallel(n_jobs=4)]: Done   4 out of   4 | elapsed:    0.0s finished\n"
     ]
    },
    {
     "name": "stdout",
     "output_type": "stream",
     "text": [
      "."
     ]
    },
    {
     "name": "stderr",
     "output_type": "stream",
     "text": [
      "[Parallel(n_jobs=4)]: Using backend LokyBackend with 4 concurrent workers.\n",
      "[Parallel(n_jobs=4)]: Done   2 out of   4 | elapsed:    0.0s remaining:    0.0s\n",
      "[Parallel(n_jobs=4)]: Done   4 out of   4 | elapsed:    0.0s finished\n"
     ]
    },
    {
     "name": "stdout",
     "output_type": "stream",
     "text": [
      "."
     ]
    },
    {
     "name": "stderr",
     "output_type": "stream",
     "text": [
      "[Parallel(n_jobs=4)]: Using backend LokyBackend with 4 concurrent workers.\n",
      "[Parallel(n_jobs=4)]: Done   2 out of   4 | elapsed:    0.0s remaining:    0.0s\n",
      "[Parallel(n_jobs=4)]: Done   4 out of   4 | elapsed:    0.0s finished\n"
     ]
    },
    {
     "name": "stdout",
     "output_type": "stream",
     "text": [
      "."
     ]
    },
    {
     "name": "stderr",
     "output_type": "stream",
     "text": [
      "[Parallel(n_jobs=4)]: Using backend LokyBackend with 4 concurrent workers.\n",
      "[Parallel(n_jobs=4)]: Done   2 out of   4 | elapsed:    0.0s remaining:    0.0s\n",
      "[Parallel(n_jobs=4)]: Done   4 out of   4 | elapsed:    0.0s finished\n"
     ]
    },
    {
     "name": "stdout",
     "output_type": "stream",
     "text": [
      "."
     ]
    },
    {
     "name": "stderr",
     "output_type": "stream",
     "text": [
      "[Parallel(n_jobs=4)]: Using backend LokyBackend with 4 concurrent workers.\n",
      "[Parallel(n_jobs=4)]: Done   2 out of   4 | elapsed:    0.0s remaining:    0.0s\n",
      "[Parallel(n_jobs=4)]: Done   4 out of   4 | elapsed:    0.0s finished\n"
     ]
    },
    {
     "name": "stdout",
     "output_type": "stream",
     "text": [
      "."
     ]
    },
    {
     "name": "stderr",
     "output_type": "stream",
     "text": [
      "[Parallel(n_jobs=4)]: Using backend LokyBackend with 4 concurrent workers.\n",
      "[Parallel(n_jobs=4)]: Done   2 out of   4 | elapsed:    0.0s remaining:    0.0s\n",
      "[Parallel(n_jobs=4)]: Done   4 out of   4 | elapsed:    0.0s finished\n"
     ]
    },
    {
     "name": "stdout",
     "output_type": "stream",
     "text": [
      "."
     ]
    },
    {
     "name": "stderr",
     "output_type": "stream",
     "text": [
      "[Parallel(n_jobs=4)]: Using backend LokyBackend with 4 concurrent workers.\n",
      "[Parallel(n_jobs=4)]: Done   2 out of   4 | elapsed:    0.0s remaining:    0.0s\n",
      "[Parallel(n_jobs=4)]: Done   4 out of   4 | elapsed:    0.0s finished\n"
     ]
    },
    {
     "name": "stdout",
     "output_type": "stream",
     "text": [
      "."
     ]
    },
    {
     "name": "stderr",
     "output_type": "stream",
     "text": [
      "[Parallel(n_jobs=4)]: Using backend LokyBackend with 4 concurrent workers.\n",
      "[Parallel(n_jobs=4)]: Done   2 out of   4 | elapsed:    0.0s remaining:    0.0s\n",
      "[Parallel(n_jobs=4)]: Done   4 out of   4 | elapsed:    0.0s finished\n"
     ]
    },
    {
     "name": "stdout",
     "output_type": "stream",
     "text": [
      "."
     ]
    },
    {
     "name": "stderr",
     "output_type": "stream",
     "text": [
      "[Parallel(n_jobs=4)]: Using backend LokyBackend with 4 concurrent workers.\n",
      "[Parallel(n_jobs=4)]: Done   2 out of   4 | elapsed:    0.0s remaining:    0.0s\n",
      "[Parallel(n_jobs=4)]: Done   4 out of   4 | elapsed:    0.0s finished\n"
     ]
    },
    {
     "name": "stdout",
     "output_type": "stream",
     "text": [
      "."
     ]
    },
    {
     "name": "stderr",
     "output_type": "stream",
     "text": [
      "[Parallel(n_jobs=4)]: Using backend LokyBackend with 4 concurrent workers.\n",
      "[Parallel(n_jobs=4)]: Done   2 out of   4 | elapsed:    0.0s remaining:    0.0s\n",
      "[Parallel(n_jobs=4)]: Done   4 out of   4 | elapsed:    0.0s finished\n"
     ]
    },
    {
     "name": "stdout",
     "output_type": "stream",
     "text": [
      "."
     ]
    },
    {
     "name": "stderr",
     "output_type": "stream",
     "text": [
      "[Parallel(n_jobs=4)]: Using backend LokyBackend with 4 concurrent workers.\n",
      "[Parallel(n_jobs=4)]: Done   2 out of   4 | elapsed:    0.0s remaining:    0.0s\n",
      "[Parallel(n_jobs=4)]: Done   4 out of   4 | elapsed:    0.0s finished\n"
     ]
    },
    {
     "name": "stdout",
     "output_type": "stream",
     "text": [
      "."
     ]
    },
    {
     "name": "stderr",
     "output_type": "stream",
     "text": [
      "[Parallel(n_jobs=4)]: Using backend LokyBackend with 4 concurrent workers.\n",
      "[Parallel(n_jobs=4)]: Done   2 out of   4 | elapsed:    0.0s remaining:    0.0s\n",
      "[Parallel(n_jobs=4)]: Done   4 out of   4 | elapsed:    0.0s finished\n"
     ]
    },
    {
     "name": "stdout",
     "output_type": "stream",
     "text": [
      "."
     ]
    },
    {
     "name": "stderr",
     "output_type": "stream",
     "text": [
      "[Parallel(n_jobs=4)]: Using backend LokyBackend with 4 concurrent workers.\n",
      "[Parallel(n_jobs=4)]: Done   2 out of   4 | elapsed:    0.0s remaining:    0.0s\n",
      "[Parallel(n_jobs=4)]: Done   4 out of   4 | elapsed:    0.0s finished\n"
     ]
    },
    {
     "name": "stdout",
     "output_type": "stream",
     "text": [
      "."
     ]
    },
    {
     "name": "stderr",
     "output_type": "stream",
     "text": [
      "[Parallel(n_jobs=4)]: Using backend LokyBackend with 4 concurrent workers.\n",
      "[Parallel(n_jobs=4)]: Done   2 out of   4 | elapsed:    0.0s remaining:    0.0s\n",
      "[Parallel(n_jobs=4)]: Done   4 out of   4 | elapsed:    0.0s finished\n"
     ]
    },
    {
     "name": "stdout",
     "output_type": "stream",
     "text": [
      ".."
     ]
    },
    {
     "name": "stderr",
     "output_type": "stream",
     "text": [
      "[Parallel(n_jobs=4)]: Using backend LokyBackend with 4 concurrent workers.\n",
      "[Parallel(n_jobs=4)]: Done   2 out of   4 | elapsed:    0.0s remaining:    0.0s\n",
      "[Parallel(n_jobs=4)]: Done   4 out of   4 | elapsed:    0.0s finished\n"
     ]
    },
    {
     "name": "stdout",
     "output_type": "stream",
     "text": [
      "."
     ]
    },
    {
     "name": "stderr",
     "output_type": "stream",
     "text": [
      "[Parallel(n_jobs=4)]: Using backend LokyBackend with 4 concurrent workers.\n",
      "[Parallel(n_jobs=4)]: Done   2 out of   4 | elapsed:    0.0s remaining:    0.0s\n",
      "[Parallel(n_jobs=4)]: Done   4 out of   4 | elapsed:    0.0s finished\n",
      "[Parallel(n_jobs=4)]: Using backend LokyBackend with 4 concurrent workers.\n"
     ]
    },
    {
     "name": "stdout",
     "output_type": "stream",
     "text": [
      "."
     ]
    },
    {
     "name": "stderr",
     "output_type": "stream",
     "text": [
      "[Parallel(n_jobs=4)]: Done   2 out of   4 | elapsed:    0.0s remaining:    0.0s\n",
      "[Parallel(n_jobs=4)]: Done   4 out of   4 | elapsed:    0.0s finished\n",
      "[Parallel(n_jobs=4)]: Using backend LokyBackend with 4 concurrent workers.\n",
      "[Parallel(n_jobs=4)]: Done   2 out of   4 | elapsed:    0.0s remaining:    0.0s\n",
      "[Parallel(n_jobs=4)]: Done   4 out of   4 | elapsed:    0.0s finished\n"
     ]
    },
    {
     "name": "stdout",
     "output_type": "stream",
     "text": [
      "."
     ]
    },
    {
     "name": "stderr",
     "output_type": "stream",
     "text": [
      "[Parallel(n_jobs=4)]: Using backend LokyBackend with 4 concurrent workers.\n",
      "[Parallel(n_jobs=4)]: Done   2 out of   4 | elapsed:    0.0s remaining:    0.0s\n",
      "[Parallel(n_jobs=4)]: Done   4 out of   4 | elapsed:    0.0s finished\n"
     ]
    },
    {
     "name": "stdout",
     "output_type": "stream",
     "text": [
      "."
     ]
    },
    {
     "name": "stderr",
     "output_type": "stream",
     "text": [
      "[Parallel(n_jobs=4)]: Using backend LokyBackend with 4 concurrent workers.\n",
      "[Parallel(n_jobs=4)]: Done   2 out of   4 | elapsed:    0.0s remaining:    0.0s\n",
      "[Parallel(n_jobs=4)]: Done   4 out of   4 | elapsed:    0.0s finished\n"
     ]
    },
    {
     "name": "stdout",
     "output_type": "stream",
     "text": [
      ".."
     ]
    },
    {
     "name": "stderr",
     "output_type": "stream",
     "text": [
      "[Parallel(n_jobs=4)]: Using backend LokyBackend with 4 concurrent workers.\n",
      "[Parallel(n_jobs=4)]: Done   2 out of   4 | elapsed:    0.0s remaining:    0.0s\n",
      "[Parallel(n_jobs=4)]: Done   4 out of   4 | elapsed:    0.0s finished\n",
      "[Parallel(n_jobs=4)]: Using backend LokyBackend with 4 concurrent workers.\n"
     ]
    },
    {
     "name": "stdout",
     "output_type": "stream",
     "text": [
      "."
     ]
    },
    {
     "name": "stderr",
     "output_type": "stream",
     "text": [
      "[Parallel(n_jobs=4)]: Done   2 out of   4 | elapsed:    0.0s remaining:    0.0s\n",
      "[Parallel(n_jobs=4)]: Done   4 out of   4 | elapsed:    0.0s finished\n",
      "[Parallel(n_jobs=4)]: Using backend LokyBackend with 4 concurrent workers.\n"
     ]
    },
    {
     "name": "stdout",
     "output_type": "stream",
     "text": [
      "."
     ]
    },
    {
     "name": "stderr",
     "output_type": "stream",
     "text": [
      "[Parallel(n_jobs=4)]: Done   2 out of   4 | elapsed:    0.0s remaining:    0.0s\n",
      "[Parallel(n_jobs=4)]: Done   4 out of   4 | elapsed:    0.0s finished\n",
      "[Parallel(n_jobs=4)]: Using backend LokyBackend with 4 concurrent workers.\n",
      "[Parallel(n_jobs=4)]: Done   2 out of   4 | elapsed:    0.0s remaining:    0.0s\n",
      "[Parallel(n_jobs=4)]: Done   4 out of   4 | elapsed:    0.0s finished\n"
     ]
    },
    {
     "name": "stdout",
     "output_type": "stream",
     "text": [
      "."
     ]
    },
    {
     "name": "stderr",
     "output_type": "stream",
     "text": [
      "[Parallel(n_jobs=4)]: Using backend LokyBackend with 4 concurrent workers.\n",
      "[Parallel(n_jobs=4)]: Done   2 out of   4 | elapsed:    0.0s remaining:    0.0s\n",
      "[Parallel(n_jobs=4)]: Done   4 out of   4 | elapsed:    0.0s finished\n"
     ]
    },
    {
     "name": "stdout",
     "output_type": "stream",
     "text": [
      "."
     ]
    },
    {
     "name": "stderr",
     "output_type": "stream",
     "text": [
      "[Parallel(n_jobs=4)]: Using backend LokyBackend with 4 concurrent workers.\n",
      "[Parallel(n_jobs=4)]: Done   2 out of   4 | elapsed:    0.0s remaining:    0.0s\n",
      "[Parallel(n_jobs=4)]: Done   4 out of   4 | elapsed:    0.0s finished\n"
     ]
    },
    {
     "name": "stdout",
     "output_type": "stream",
     "text": [
      "."
     ]
    },
    {
     "name": "stderr",
     "output_type": "stream",
     "text": [
      "[Parallel(n_jobs=4)]: Using backend LokyBackend with 4 concurrent workers.\n",
      "[Parallel(n_jobs=4)]: Done   2 out of   4 | elapsed:    0.0s remaining:    0.0s\n",
      "[Parallel(n_jobs=4)]: Done   4 out of   4 | elapsed:    0.0s finished\n"
     ]
    },
    {
     "name": "stdout",
     "output_type": "stream",
     "text": [
      "."
     ]
    },
    {
     "name": "stderr",
     "output_type": "stream",
     "text": [
      "[Parallel(n_jobs=4)]: Using backend LokyBackend with 4 concurrent workers.\n",
      "[Parallel(n_jobs=4)]: Done   2 out of   4 | elapsed:    0.0s remaining:    0.0s\n",
      "[Parallel(n_jobs=4)]: Done   4 out of   4 | elapsed:    0.0s finished\n"
     ]
    },
    {
     "name": "stdout",
     "output_type": "stream",
     "text": [
      "."
     ]
    },
    {
     "name": "stderr",
     "output_type": "stream",
     "text": [
      "[Parallel(n_jobs=4)]: Using backend LokyBackend with 4 concurrent workers.\n",
      "[Parallel(n_jobs=4)]: Done   2 out of   4 | elapsed:    0.0s remaining:    0.0s\n",
      "[Parallel(n_jobs=4)]: Done   4 out of   4 | elapsed:    0.0s finished\n"
     ]
    },
    {
     "name": "stdout",
     "output_type": "stream",
     "text": [
      "."
     ]
    },
    {
     "name": "stderr",
     "output_type": "stream",
     "text": [
      "[Parallel(n_jobs=4)]: Using backend LokyBackend with 4 concurrent workers.\n",
      "[Parallel(n_jobs=4)]: Done   2 out of   4 | elapsed:    0.0s remaining:    0.0s\n",
      "[Parallel(n_jobs=4)]: Done   4 out of   4 | elapsed:    0.0s finished\n"
     ]
    },
    {
     "name": "stdout",
     "output_type": "stream",
     "text": [
      "."
     ]
    },
    {
     "name": "stderr",
     "output_type": "stream",
     "text": [
      "[Parallel(n_jobs=4)]: Using backend LokyBackend with 4 concurrent workers.\n",
      "[Parallel(n_jobs=4)]: Done   2 out of   4 | elapsed:    0.0s remaining:    0.0s\n",
      "[Parallel(n_jobs=4)]: Done   4 out of   4 | elapsed:    0.0s finished\n"
     ]
    },
    {
     "name": "stdout",
     "output_type": "stream",
     "text": [
      "."
     ]
    },
    {
     "name": "stderr",
     "output_type": "stream",
     "text": [
      "[Parallel(n_jobs=4)]: Using backend LokyBackend with 4 concurrent workers.\n",
      "[Parallel(n_jobs=4)]: Done   2 out of   4 | elapsed:    0.0s remaining:    0.0s\n",
      "[Parallel(n_jobs=4)]: Done   4 out of   4 | elapsed:    0.0s finished\n"
     ]
    },
    {
     "name": "stdout",
     "output_type": "stream",
     "text": [
      "."
     ]
    },
    {
     "name": "stderr",
     "output_type": "stream",
     "text": [
      "[Parallel(n_jobs=4)]: Using backend LokyBackend with 4 concurrent workers.\n",
      "[Parallel(n_jobs=4)]: Done   2 out of   4 | elapsed:    0.0s remaining:    0.0s\n",
      "[Parallel(n_jobs=4)]: Done   4 out of   4 | elapsed:    0.0s finished\n"
     ]
    },
    {
     "name": "stdout",
     "output_type": "stream",
     "text": [
      "."
     ]
    },
    {
     "name": "stderr",
     "output_type": "stream",
     "text": [
      "[Parallel(n_jobs=4)]: Using backend LokyBackend with 4 concurrent workers.\n",
      "[Parallel(n_jobs=4)]: Done   2 out of   4 | elapsed:    0.0s remaining:    0.0s\n",
      "[Parallel(n_jobs=4)]: Done   4 out of   4 | elapsed:    0.0s finished\n"
     ]
    },
    {
     "name": "stdout",
     "output_type": "stream",
     "text": [
      ".."
     ]
    },
    {
     "name": "stderr",
     "output_type": "stream",
     "text": [
      "[Parallel(n_jobs=4)]: Using backend LokyBackend with 4 concurrent workers.\n",
      "[Parallel(n_jobs=4)]: Done   2 out of   4 | elapsed:    0.0s remaining:    0.0s\n",
      "[Parallel(n_jobs=4)]: Done   4 out of   4 | elapsed:    0.0s finished\n"
     ]
    },
    {
     "name": "stdout",
     "output_type": "stream",
     "text": [
      "."
     ]
    },
    {
     "name": "stderr",
     "output_type": "stream",
     "text": [
      "[Parallel(n_jobs=4)]: Using backend LokyBackend with 4 concurrent workers.\n",
      "[Parallel(n_jobs=4)]: Done   2 out of   4 | elapsed:    0.0s remaining:    0.0s\n",
      "[Parallel(n_jobs=4)]: Done   4 out of   4 | elapsed:    0.0s finished\n",
      "[Parallel(n_jobs=4)]: Using backend LokyBackend with 4 concurrent workers.\n",
      "[Parallel(n_jobs=4)]: Done   2 out of   4 | elapsed:    0.0s remaining:    0.0s\n",
      "[Parallel(n_jobs=4)]: Done   4 out of   4 | elapsed:    0.0s finished\n"
     ]
    },
    {
     "name": "stdout",
     "output_type": "stream",
     "text": [
      "."
     ]
    },
    {
     "name": "stderr",
     "output_type": "stream",
     "text": [
      "[Parallel(n_jobs=4)]: Using backend LokyBackend with 4 concurrent workers.\n",
      "[Parallel(n_jobs=4)]: Done   2 out of   4 | elapsed:    0.0s remaining:    0.0s\n",
      "[Parallel(n_jobs=4)]: Done   4 out of   4 | elapsed:    0.0s finished\n"
     ]
    },
    {
     "name": "stdout",
     "output_type": "stream",
     "text": [
      "."
     ]
    },
    {
     "name": "stderr",
     "output_type": "stream",
     "text": [
      "[Parallel(n_jobs=4)]: Using backend LokyBackend with 4 concurrent workers.\n",
      "[Parallel(n_jobs=4)]: Done   2 out of   4 | elapsed:    0.0s remaining:    0.0s\n",
      "[Parallel(n_jobs=4)]: Done   4 out of   4 | elapsed:    0.0s finished\n"
     ]
    },
    {
     "name": "stdout",
     "output_type": "stream",
     "text": [
      "."
     ]
    },
    {
     "name": "stderr",
     "output_type": "stream",
     "text": [
      "[Parallel(n_jobs=4)]: Using backend LokyBackend with 4 concurrent workers.\n",
      "[Parallel(n_jobs=4)]: Done   2 out of   4 | elapsed:    0.0s remaining:    0.0s\n",
      "[Parallel(n_jobs=4)]: Done   4 out of   4 | elapsed:    0.0s finished\n"
     ]
    },
    {
     "name": "stdout",
     "output_type": "stream",
     "text": [
      "."
     ]
    },
    {
     "name": "stderr",
     "output_type": "stream",
     "text": [
      "[Parallel(n_jobs=4)]: Using backend LokyBackend with 4 concurrent workers.\n",
      "[Parallel(n_jobs=4)]: Done   2 out of   4 | elapsed:    0.0s remaining:    0.0s\n",
      "[Parallel(n_jobs=4)]: Done   4 out of   4 | elapsed:    0.0s finished\n"
     ]
    },
    {
     "name": "stdout",
     "output_type": "stream",
     "text": [
      "."
     ]
    },
    {
     "name": "stderr",
     "output_type": "stream",
     "text": [
      "[Parallel(n_jobs=4)]: Using backend LokyBackend with 4 concurrent workers.\n",
      "[Parallel(n_jobs=4)]: Done   2 out of   4 | elapsed:    0.0s remaining:    0.0s\n",
      "[Parallel(n_jobs=4)]: Done   4 out of   4 | elapsed:    0.0s finished\n"
     ]
    },
    {
     "name": "stdout",
     "output_type": "stream",
     "text": [
      "."
     ]
    },
    {
     "name": "stderr",
     "output_type": "stream",
     "text": [
      "[Parallel(n_jobs=4)]: Using backend LokyBackend with 4 concurrent workers.\n",
      "[Parallel(n_jobs=4)]: Done   2 out of   4 | elapsed:    0.0s remaining:    0.0s\n",
      "[Parallel(n_jobs=4)]: Done   4 out of   4 | elapsed:    0.0s finished\n"
     ]
    },
    {
     "name": "stdout",
     "output_type": "stream",
     "text": [
      "."
     ]
    },
    {
     "name": "stderr",
     "output_type": "stream",
     "text": [
      "[Parallel(n_jobs=4)]: Using backend LokyBackend with 4 concurrent workers.\n",
      "[Parallel(n_jobs=4)]: Done   2 out of   4 | elapsed:    0.0s remaining:    0.0s\n",
      "[Parallel(n_jobs=4)]: Done   4 out of   4 | elapsed:    0.0s finished\n"
     ]
    },
    {
     "name": "stdout",
     "output_type": "stream",
     "text": [
      "."
     ]
    },
    {
     "name": "stderr",
     "output_type": "stream",
     "text": [
      "[Parallel(n_jobs=4)]: Using backend LokyBackend with 4 concurrent workers.\n",
      "[Parallel(n_jobs=4)]: Done   2 out of   4 | elapsed:    0.0s remaining:    0.0s\n",
      "[Parallel(n_jobs=4)]: Done   4 out of   4 | elapsed:    0.0s finished\n"
     ]
    },
    {
     "name": "stdout",
     "output_type": "stream",
     "text": [
      "."
     ]
    },
    {
     "name": "stderr",
     "output_type": "stream",
     "text": [
      "[Parallel(n_jobs=4)]: Using backend LokyBackend with 4 concurrent workers.\n",
      "[Parallel(n_jobs=4)]: Done   2 out of   4 | elapsed:    0.0s remaining:    0.0s\n",
      "[Parallel(n_jobs=4)]: Done   4 out of   4 | elapsed:    0.0s finished\n"
     ]
    },
    {
     "name": "stdout",
     "output_type": "stream",
     "text": [
      "."
     ]
    },
    {
     "name": "stderr",
     "output_type": "stream",
     "text": [
      "[Parallel(n_jobs=4)]: Using backend LokyBackend with 4 concurrent workers.\n",
      "[Parallel(n_jobs=4)]: Done   2 out of   4 | elapsed:    0.0s remaining:    0.0s\n",
      "[Parallel(n_jobs=4)]: Done   4 out of   4 | elapsed:    0.0s finished\n"
     ]
    },
    {
     "name": "stdout",
     "output_type": "stream",
     "text": [
      "."
     ]
    },
    {
     "name": "stderr",
     "output_type": "stream",
     "text": [
      "[Parallel(n_jobs=4)]: Using backend LokyBackend with 4 concurrent workers.\n",
      "[Parallel(n_jobs=4)]: Done   2 out of   4 | elapsed:    0.0s remaining:    0.0s\n",
      "[Parallel(n_jobs=4)]: Done   4 out of   4 | elapsed:    0.0s finished\n"
     ]
    },
    {
     "name": "stdout",
     "output_type": "stream",
     "text": [
      "."
     ]
    },
    {
     "name": "stderr",
     "output_type": "stream",
     "text": [
      "[Parallel(n_jobs=4)]: Using backend LokyBackend with 4 concurrent workers.\n",
      "[Parallel(n_jobs=4)]: Done   2 out of   4 | elapsed:    0.0s remaining:    0.0s\n",
      "[Parallel(n_jobs=4)]: Done   4 out of   4 | elapsed:    0.0s finished\n"
     ]
    },
    {
     "name": "stdout",
     "output_type": "stream",
     "text": [
      "."
     ]
    },
    {
     "name": "stderr",
     "output_type": "stream",
     "text": [
      "[Parallel(n_jobs=4)]: Using backend LokyBackend with 4 concurrent workers.\n",
      "[Parallel(n_jobs=4)]: Done   2 out of   4 | elapsed:    0.0s remaining:    0.0s\n",
      "[Parallel(n_jobs=4)]: Done   4 out of   4 | elapsed:    0.0s finished\n"
     ]
    },
    {
     "name": "stdout",
     "output_type": "stream",
     "text": [
      "."
     ]
    },
    {
     "name": "stderr",
     "output_type": "stream",
     "text": [
      "[Parallel(n_jobs=4)]: Using backend LokyBackend with 4 concurrent workers.\n",
      "[Parallel(n_jobs=4)]: Done   2 out of   4 | elapsed:    0.0s remaining:    0.0s\n",
      "[Parallel(n_jobs=4)]: Done   4 out of   4 | elapsed:    0.0s finished\n"
     ]
    },
    {
     "name": "stdout",
     "output_type": "stream",
     "text": [
      "."
     ]
    },
    {
     "name": "stderr",
     "output_type": "stream",
     "text": [
      "[Parallel(n_jobs=4)]: Using backend LokyBackend with 4 concurrent workers.\n",
      "[Parallel(n_jobs=4)]: Done   2 out of   4 | elapsed:    0.0s remaining:    0.0s\n",
      "[Parallel(n_jobs=4)]: Done   4 out of   4 | elapsed:    0.0s finished\n"
     ]
    },
    {
     "name": "stdout",
     "output_type": "stream",
     "text": [
      "."
     ]
    },
    {
     "name": "stderr",
     "output_type": "stream",
     "text": [
      "[Parallel(n_jobs=4)]: Using backend LokyBackend with 4 concurrent workers.\n",
      "[Parallel(n_jobs=4)]: Done   2 out of   4 | elapsed:    0.0s remaining:    0.0s\n",
      "[Parallel(n_jobs=4)]: Done   4 out of   4 | elapsed:    0.0s finished\n"
     ]
    },
    {
     "name": "stdout",
     "output_type": "stream",
     "text": [
      "."
     ]
    },
    {
     "name": "stderr",
     "output_type": "stream",
     "text": [
      "[Parallel(n_jobs=4)]: Using backend LokyBackend with 4 concurrent workers.\n",
      "[Parallel(n_jobs=4)]: Done   2 out of   4 | elapsed:    0.0s remaining:    0.0s\n",
      "[Parallel(n_jobs=4)]: Done   4 out of   4 | elapsed:    0.0s finished\n"
     ]
    },
    {
     "name": "stdout",
     "output_type": "stream",
     "text": [
      "."
     ]
    },
    {
     "name": "stderr",
     "output_type": "stream",
     "text": [
      "[Parallel(n_jobs=4)]: Using backend LokyBackend with 4 concurrent workers.\n",
      "[Parallel(n_jobs=4)]: Done   2 out of   4 | elapsed:    0.0s remaining:    0.0s\n",
      "[Parallel(n_jobs=4)]: Done   4 out of   4 | elapsed:    0.0s finished\n"
     ]
    },
    {
     "name": "stdout",
     "output_type": "stream",
     "text": [
      "."
     ]
    },
    {
     "name": "stderr",
     "output_type": "stream",
     "text": [
      "[Parallel(n_jobs=4)]: Using backend LokyBackend with 4 concurrent workers.\n",
      "[Parallel(n_jobs=4)]: Done   2 out of   4 | elapsed:    0.0s remaining:    0.0s\n",
      "[Parallel(n_jobs=4)]: Done   4 out of   4 | elapsed:    0.0s finished\n"
     ]
    },
    {
     "name": "stdout",
     "output_type": "stream",
     "text": [
      "."
     ]
    },
    {
     "name": "stderr",
     "output_type": "stream",
     "text": [
      "[Parallel(n_jobs=4)]: Using backend LokyBackend with 4 concurrent workers.\n",
      "[Parallel(n_jobs=4)]: Done   2 out of   4 | elapsed:    0.0s remaining:    0.0s\n",
      "[Parallel(n_jobs=4)]: Done   4 out of   4 | elapsed:    0.0s finished\n"
     ]
    },
    {
     "name": "stdout",
     "output_type": "stream",
     "text": [
      "."
     ]
    },
    {
     "name": "stderr",
     "output_type": "stream",
     "text": [
      "[Parallel(n_jobs=4)]: Using backend LokyBackend with 4 concurrent workers.\n",
      "[Parallel(n_jobs=4)]: Done   2 out of   4 | elapsed:    0.0s remaining:    0.0s\n",
      "[Parallel(n_jobs=4)]: Done   4 out of   4 | elapsed:    0.0s finished\n"
     ]
    },
    {
     "name": "stdout",
     "output_type": "stream",
     "text": [
      "."
     ]
    },
    {
     "name": "stderr",
     "output_type": "stream",
     "text": [
      "[Parallel(n_jobs=4)]: Using backend LokyBackend with 4 concurrent workers.\n",
      "[Parallel(n_jobs=4)]: Done   2 out of   4 | elapsed:    0.0s remaining:    0.0s\n",
      "[Parallel(n_jobs=4)]: Done   4 out of   4 | elapsed:    0.0s finished\n"
     ]
    },
    {
     "name": "stdout",
     "output_type": "stream",
     "text": [
      "."
     ]
    },
    {
     "name": "stderr",
     "output_type": "stream",
     "text": [
      "[Parallel(n_jobs=4)]: Using backend LokyBackend with 4 concurrent workers.\n",
      "[Parallel(n_jobs=4)]: Done   2 out of   4 | elapsed:    0.0s remaining:    0.0s\n",
      "[Parallel(n_jobs=4)]: Done   4 out of   4 | elapsed:    0.0s finished\n"
     ]
    },
    {
     "name": "stdout",
     "output_type": "stream",
     "text": [
      ".."
     ]
    },
    {
     "name": "stderr",
     "output_type": "stream",
     "text": [
      "[Parallel(n_jobs=4)]: Using backend LokyBackend with 4 concurrent workers.\n",
      "[Parallel(n_jobs=4)]: Done   2 out of   4 | elapsed:    0.0s remaining:    0.0s\n",
      "[Parallel(n_jobs=4)]: Done   4 out of   4 | elapsed:    0.0s finished\n",
      "[Parallel(n_jobs=4)]: Using backend LokyBackend with 4 concurrent workers.\n",
      "[Parallel(n_jobs=4)]: Done   2 out of   4 | elapsed:    0.0s remaining:    0.0s\n",
      "[Parallel(n_jobs=4)]: Done   4 out of   4 | elapsed:    0.0s finished\n"
     ]
    },
    {
     "name": "stdout",
     "output_type": "stream",
     "text": [
      "."
     ]
    },
    {
     "name": "stderr",
     "output_type": "stream",
     "text": [
      "[Parallel(n_jobs=4)]: Using backend LokyBackend with 4 concurrent workers.\n",
      "[Parallel(n_jobs=4)]: Done   2 out of   4 | elapsed:    0.0s remaining:    0.0s\n"
     ]
    },
    {
     "name": "stdout",
     "output_type": "stream",
     "text": [
      "."
     ]
    },
    {
     "name": "stderr",
     "output_type": "stream",
     "text": [
      "[Parallel(n_jobs=4)]: Done   4 out of   4 | elapsed:    0.0s finished\n",
      "[Parallel(n_jobs=4)]: Using backend LokyBackend with 4 concurrent workers.\n"
     ]
    },
    {
     "name": "stdout",
     "output_type": "stream",
     "text": [
      "."
     ]
    },
    {
     "name": "stderr",
     "output_type": "stream",
     "text": [
      "[Parallel(n_jobs=4)]: Done   2 out of   4 | elapsed:    0.0s remaining:    0.0s\n",
      "[Parallel(n_jobs=4)]: Done   4 out of   4 | elapsed:    0.0s finished\n",
      "[Parallel(n_jobs=4)]: Using backend LokyBackend with 4 concurrent workers.\n"
     ]
    },
    {
     "name": "stdout",
     "output_type": "stream",
     "text": [
      "."
     ]
    },
    {
     "name": "stderr",
     "output_type": "stream",
     "text": [
      "[Parallel(n_jobs=4)]: Done   2 out of   4 | elapsed:    0.0s remaining:    0.0s\n",
      "[Parallel(n_jobs=4)]: Done   4 out of   4 | elapsed:    0.0s finished\n",
      "[Parallel(n_jobs=4)]: Using backend LokyBackend with 4 concurrent workers.\n"
     ]
    },
    {
     "name": "stdout",
     "output_type": "stream",
     "text": [
      "."
     ]
    },
    {
     "name": "stderr",
     "output_type": "stream",
     "text": [
      "[Parallel(n_jobs=4)]: Done   2 out of   4 | elapsed:    0.0s remaining:    0.0s\n",
      "[Parallel(n_jobs=4)]: Done   4 out of   4 | elapsed:    0.0s finished\n",
      "[Parallel(n_jobs=4)]: Using backend LokyBackend with 4 concurrent workers.\n"
     ]
    },
    {
     "name": "stdout",
     "output_type": "stream",
     "text": [
      "."
     ]
    },
    {
     "name": "stderr",
     "output_type": "stream",
     "text": [
      "[Parallel(n_jobs=4)]: Done   2 out of   4 | elapsed:    0.0s remaining:    0.0s\n",
      "[Parallel(n_jobs=4)]: Done   4 out of   4 | elapsed:    0.0s finished\n",
      "[Parallel(n_jobs=4)]: Using backend LokyBackend with 4 concurrent workers.\n",
      "[Parallel(n_jobs=4)]: Done   2 out of   4 | elapsed:    0.0s remaining:    0.0s\n"
     ]
    },
    {
     "name": "stdout",
     "output_type": "stream",
     "text": [
      "."
     ]
    },
    {
     "name": "stderr",
     "output_type": "stream",
     "text": [
      "[Parallel(n_jobs=4)]: Done   4 out of   4 | elapsed:    0.0s finished\n",
      "[Parallel(n_jobs=4)]: Using backend LokyBackend with 4 concurrent workers.\n",
      "[Parallel(n_jobs=4)]: Done   2 out of   4 | elapsed:    0.0s remaining:    0.0s\n"
     ]
    },
    {
     "name": "stdout",
     "output_type": "stream",
     "text": [
      "."
     ]
    },
    {
     "name": "stderr",
     "output_type": "stream",
     "text": [
      "[Parallel(n_jobs=4)]: Done   4 out of   4 | elapsed:    0.0s finished\n",
      "[Parallel(n_jobs=4)]: Using backend LokyBackend with 4 concurrent workers.\n"
     ]
    },
    {
     "name": "stdout",
     "output_type": "stream",
     "text": [
      "."
     ]
    },
    {
     "name": "stderr",
     "output_type": "stream",
     "text": [
      "[Parallel(n_jobs=4)]: Done   2 out of   4 | elapsed:    0.0s remaining:    0.0s\n",
      "[Parallel(n_jobs=4)]: Done   4 out of   4 | elapsed:    0.0s finished\n",
      "[Parallel(n_jobs=4)]: Using backend LokyBackend with 4 concurrent workers.\n"
     ]
    },
    {
     "name": "stdout",
     "output_type": "stream",
     "text": [
      "."
     ]
    },
    {
     "name": "stderr",
     "output_type": "stream",
     "text": [
      "[Parallel(n_jobs=4)]: Done   2 out of   4 | elapsed:    0.0s remaining:    0.0s\n",
      "[Parallel(n_jobs=4)]: Done   4 out of   4 | elapsed:    0.0s finished\n",
      "[Parallel(n_jobs=4)]: Using backend LokyBackend with 4 concurrent workers.\n",
      "[Parallel(n_jobs=4)]: Done   2 out of   4 | elapsed:    0.0s remaining:    0.0s\n"
     ]
    },
    {
     "name": "stdout",
     "output_type": "stream",
     "text": [
      "."
     ]
    },
    {
     "name": "stderr",
     "output_type": "stream",
     "text": [
      "[Parallel(n_jobs=4)]: Done   4 out of   4 | elapsed:    0.0s finished\n",
      "[Parallel(n_jobs=4)]: Using backend LokyBackend with 4 concurrent workers.\n"
     ]
    },
    {
     "name": "stdout",
     "output_type": "stream",
     "text": [
      "."
     ]
    },
    {
     "name": "stderr",
     "output_type": "stream",
     "text": [
      "[Parallel(n_jobs=4)]: Done   2 out of   4 | elapsed:    0.0s remaining:    0.0s\n",
      "[Parallel(n_jobs=4)]: Done   4 out of   4 | elapsed:    0.0s finished\n",
      "[Parallel(n_jobs=4)]: Using backend LokyBackend with 4 concurrent workers.\n",
      "[Parallel(n_jobs=4)]: Done   2 out of   4 | elapsed:    0.0s remaining:    0.0s\n",
      "[Parallel(n_jobs=4)]: Done   4 out of   4 | elapsed:    0.0s finished\n"
     ]
    },
    {
     "name": "stdout",
     "output_type": "stream",
     "text": [
      "."
     ]
    },
    {
     "name": "stderr",
     "output_type": "stream",
     "text": [
      "[Parallel(n_jobs=4)]: Using backend LokyBackend with 4 concurrent workers.\n",
      "[Parallel(n_jobs=4)]: Done   2 out of   4 | elapsed:    0.0s remaining:    0.0s\n",
      "[Parallel(n_jobs=4)]: Done   4 out of   4 | elapsed:    0.0s finished\n"
     ]
    },
    {
     "name": "stdout",
     "output_type": "stream",
     "text": [
      "."
     ]
    },
    {
     "name": "stderr",
     "output_type": "stream",
     "text": [
      "[Parallel(n_jobs=4)]: Using backend LokyBackend with 4 concurrent workers.\n",
      "[Parallel(n_jobs=4)]: Done   2 out of   4 | elapsed:    0.0s remaining:    0.0s\n",
      "[Parallel(n_jobs=4)]: Done   4 out of   4 | elapsed:    0.0s finished\n"
     ]
    },
    {
     "name": "stdout",
     "output_type": "stream",
     "text": [
      "."
     ]
    },
    {
     "name": "stderr",
     "output_type": "stream",
     "text": [
      "[Parallel(n_jobs=4)]: Using backend LokyBackend with 4 concurrent workers.\n",
      "[Parallel(n_jobs=4)]: Done   2 out of   4 | elapsed:    0.0s remaining:    0.0s\n",
      "[Parallel(n_jobs=4)]: Done   4 out of   4 | elapsed:    0.0s finished\n"
     ]
    },
    {
     "name": "stdout",
     "output_type": "stream",
     "text": [
      "."
     ]
    },
    {
     "name": "stderr",
     "output_type": "stream",
     "text": [
      "[Parallel(n_jobs=4)]: Using backend LokyBackend with 4 concurrent workers.\n",
      "[Parallel(n_jobs=4)]: Done   2 out of   4 | elapsed:    0.0s remaining:    0.0s\n",
      "[Parallel(n_jobs=4)]: Done   4 out of   4 | elapsed:    0.0s finished\n"
     ]
    },
    {
     "name": "stdout",
     "output_type": "stream",
     "text": [
      ".."
     ]
    },
    {
     "name": "stderr",
     "output_type": "stream",
     "text": [
      "[Parallel(n_jobs=4)]: Using backend LokyBackend with 4 concurrent workers.\n",
      "[Parallel(n_jobs=4)]: Done   2 out of   4 | elapsed:    0.0s remaining:    0.0s\n",
      "[Parallel(n_jobs=4)]: Done   4 out of   4 | elapsed:    0.0s finished\n"
     ]
    },
    {
     "name": "stdout",
     "output_type": "stream",
     "text": [
      "."
     ]
    },
    {
     "name": "stderr",
     "output_type": "stream",
     "text": [
      "[Parallel(n_jobs=4)]: Using backend LokyBackend with 4 concurrent workers.\n",
      "[Parallel(n_jobs=4)]: Done   2 out of   4 | elapsed:    0.0s remaining:    0.0s\n",
      "[Parallel(n_jobs=4)]: Done   4 out of   4 | elapsed:    0.0s finished\n"
     ]
    },
    {
     "name": "stdout",
     "output_type": "stream",
     "text": [
      "."
     ]
    },
    {
     "name": "stderr",
     "output_type": "stream",
     "text": [
      "[Parallel(n_jobs=4)]: Using backend LokyBackend with 4 concurrent workers.\n",
      "[Parallel(n_jobs=4)]: Done   2 out of   4 | elapsed:    0.0s remaining:    0.0s\n",
      "[Parallel(n_jobs=4)]: Done   4 out of   4 | elapsed:    0.0s finished\n",
      "[Parallel(n_jobs=4)]: Using backend LokyBackend with 4 concurrent workers.\n",
      "[Parallel(n_jobs=4)]: Done   2 out of   4 | elapsed:    0.0s remaining:    0.0s\n",
      "[Parallel(n_jobs=4)]: Done   4 out of   4 | elapsed:    0.0s finished\n"
     ]
    },
    {
     "name": "stdout",
     "output_type": "stream",
     "text": [
      "."
     ]
    },
    {
     "name": "stderr",
     "output_type": "stream",
     "text": [
      "[Parallel(n_jobs=4)]: Using backend LokyBackend with 4 concurrent workers.\n",
      "[Parallel(n_jobs=4)]: Done   2 out of   4 | elapsed:    0.0s remaining:    0.0s\n",
      "[Parallel(n_jobs=4)]: Done   4 out of   4 | elapsed:    0.0s finished\n"
     ]
    },
    {
     "name": "stdout",
     "output_type": "stream",
     "text": [
      "."
     ]
    },
    {
     "name": "stderr",
     "output_type": "stream",
     "text": [
      "[Parallel(n_jobs=4)]: Using backend LokyBackend with 4 concurrent workers.\n",
      "[Parallel(n_jobs=4)]: Done   2 out of   4 | elapsed:    0.0s remaining:    0.0s\n",
      "[Parallel(n_jobs=4)]: Done   4 out of   4 | elapsed:    0.0s finished\n"
     ]
    },
    {
     "name": "stdout",
     "output_type": "stream",
     "text": [
      "."
     ]
    },
    {
     "name": "stderr",
     "output_type": "stream",
     "text": [
      "[Parallel(n_jobs=4)]: Using backend LokyBackend with 4 concurrent workers.\n",
      "[Parallel(n_jobs=4)]: Done   2 out of   4 | elapsed:    0.0s remaining:    0.0s\n",
      "[Parallel(n_jobs=4)]: Done   4 out of   4 | elapsed:    0.0s finished\n"
     ]
    },
    {
     "name": "stdout",
     "output_type": "stream",
     "text": [
      "."
     ]
    },
    {
     "name": "stderr",
     "output_type": "stream",
     "text": [
      "[Parallel(n_jobs=4)]: Using backend LokyBackend with 4 concurrent workers.\n",
      "[Parallel(n_jobs=4)]: Done   2 out of   4 | elapsed:    0.0s remaining:    0.0s\n",
      "[Parallel(n_jobs=4)]: Done   4 out of   4 | elapsed:    0.0s finished\n"
     ]
    },
    {
     "name": "stdout",
     "output_type": "stream",
     "text": [
      ".."
     ]
    },
    {
     "name": "stderr",
     "output_type": "stream",
     "text": [
      "[Parallel(n_jobs=4)]: Using backend LokyBackend with 4 concurrent workers.\n",
      "[Parallel(n_jobs=4)]: Done   2 out of   4 | elapsed:    0.0s remaining:    0.0s\n",
      "[Parallel(n_jobs=4)]: Done   4 out of   4 | elapsed:    0.0s finished\n",
      "[Parallel(n_jobs=4)]: Using backend LokyBackend with 4 concurrent workers.\n",
      "[Parallel(n_jobs=4)]: Done   2 out of   4 | elapsed:    0.0s remaining:    0.0s\n",
      "[Parallel(n_jobs=4)]: Done   4 out of   4 | elapsed:    0.0s finished\n"
     ]
    },
    {
     "name": "stdout",
     "output_type": "stream",
     "text": [
      "."
     ]
    },
    {
     "name": "stderr",
     "output_type": "stream",
     "text": [
      "[Parallel(n_jobs=4)]: Using backend LokyBackend with 4 concurrent workers.\n",
      "[Parallel(n_jobs=4)]: Done   2 out of   4 | elapsed:    0.0s remaining:    0.0s\n",
      "[Parallel(n_jobs=4)]: Done   4 out of   4 | elapsed:    0.0s finished\n"
     ]
    },
    {
     "name": "stdout",
     "output_type": "stream",
     "text": [
      "."
     ]
    },
    {
     "name": "stderr",
     "output_type": "stream",
     "text": [
      "[Parallel(n_jobs=4)]: Using backend LokyBackend with 4 concurrent workers.\n",
      "[Parallel(n_jobs=4)]: Done   2 out of   4 | elapsed:    0.0s remaining:    0.0s\n",
      "[Parallel(n_jobs=4)]: Done   4 out of   4 | elapsed:    0.0s finished\n"
     ]
    },
    {
     "name": "stdout",
     "output_type": "stream",
     "text": [
      ".."
     ]
    },
    {
     "name": "stderr",
     "output_type": "stream",
     "text": [
      "[Parallel(n_jobs=4)]: Using backend LokyBackend with 4 concurrent workers.\n",
      "[Parallel(n_jobs=4)]: Done   2 out of   4 | elapsed:    0.0s remaining:    0.0s\n",
      "[Parallel(n_jobs=4)]: Done   4 out of   4 | elapsed:    0.0s finished\n",
      "[Parallel(n_jobs=4)]: Using backend LokyBackend with 4 concurrent workers.\n"
     ]
    },
    {
     "name": "stdout",
     "output_type": "stream",
     "text": [
      "."
     ]
    },
    {
     "name": "stderr",
     "output_type": "stream",
     "text": [
      "[Parallel(n_jobs=4)]: Done   2 out of   4 | elapsed:    0.0s remaining:    0.0s\n",
      "[Parallel(n_jobs=4)]: Done   4 out of   4 | elapsed:    0.0s finished\n",
      "[Parallel(n_jobs=4)]: Using backend LokyBackend with 4 concurrent workers.\n",
      "[Parallel(n_jobs=4)]: Done   2 out of   4 | elapsed:    0.0s remaining:    0.0s\n"
     ]
    },
    {
     "name": "stdout",
     "output_type": "stream",
     "text": [
      "."
     ]
    },
    {
     "name": "stderr",
     "output_type": "stream",
     "text": [
      "[Parallel(n_jobs=4)]: Done   4 out of   4 | elapsed:    0.0s finished\n",
      "[Parallel(n_jobs=4)]: Using backend LokyBackend with 4 concurrent workers.\n",
      "[Parallel(n_jobs=4)]: Done   2 out of   4 | elapsed:    0.0s remaining:    0.0s\n"
     ]
    },
    {
     "name": "stdout",
     "output_type": "stream",
     "text": [
      "."
     ]
    },
    {
     "name": "stderr",
     "output_type": "stream",
     "text": [
      "[Parallel(n_jobs=4)]: Done   4 out of   4 | elapsed:    0.0s finished\n",
      "[Parallel(n_jobs=4)]: Using backend LokyBackend with 4 concurrent workers.\n"
     ]
    },
    {
     "name": "stdout",
     "output_type": "stream",
     "text": [
      "."
     ]
    },
    {
     "name": "stderr",
     "output_type": "stream",
     "text": [
      "[Parallel(n_jobs=4)]: Done   4 out of   4 | elapsed:    0.0s finished\n",
      "[Parallel(n_jobs=4)]: Using backend LokyBackend with 4 concurrent workers.\n",
      "[Parallel(n_jobs=4)]: Done   2 out of   4 | elapsed:    0.0s remaining:    0.0s\n",
      "[Parallel(n_jobs=4)]: Done   4 out of   4 | elapsed:    0.0s finished\n"
     ]
    },
    {
     "name": "stdout",
     "output_type": "stream",
     "text": [
      "."
     ]
    },
    {
     "name": "stderr",
     "output_type": "stream",
     "text": [
      "[Parallel(n_jobs=4)]: Using backend LokyBackend with 4 concurrent workers.\n",
      "[Parallel(n_jobs=4)]: Done   2 out of   4 | elapsed:    0.0s remaining:    0.0s\n",
      "[Parallel(n_jobs=4)]: Done   4 out of   4 | elapsed:    0.0s finished\n"
     ]
    },
    {
     "name": "stdout",
     "output_type": "stream",
     "text": [
      "."
     ]
    },
    {
     "name": "stderr",
     "output_type": "stream",
     "text": [
      "[Parallel(n_jobs=4)]: Using backend LokyBackend with 4 concurrent workers.\n",
      "[Parallel(n_jobs=4)]: Done   2 out of   4 | elapsed:    0.0s remaining:    0.0s\n",
      "[Parallel(n_jobs=4)]: Done   4 out of   4 | elapsed:    0.0s finished\n"
     ]
    },
    {
     "name": "stdout",
     "output_type": "stream",
     "text": [
      "."
     ]
    },
    {
     "name": "stderr",
     "output_type": "stream",
     "text": [
      "[Parallel(n_jobs=4)]: Using backend LokyBackend with 4 concurrent workers.\n",
      "[Parallel(n_jobs=4)]: Done   2 out of   4 | elapsed:    0.0s remaining:    0.0s\n",
      "[Parallel(n_jobs=4)]: Done   4 out of   4 | elapsed:    0.0s finished\n"
     ]
    },
    {
     "name": "stdout",
     "output_type": "stream",
     "text": [
      "."
     ]
    },
    {
     "name": "stderr",
     "output_type": "stream",
     "text": [
      "[Parallel(n_jobs=4)]: Using backend LokyBackend with 4 concurrent workers.\n",
      "[Parallel(n_jobs=4)]: Done   2 out of   4 | elapsed:    0.0s remaining:    0.0s\n",
      "[Parallel(n_jobs=4)]: Done   4 out of   4 | elapsed:    0.0s finished\n"
     ]
    },
    {
     "name": "stdout",
     "output_type": "stream",
     "text": [
      "."
     ]
    },
    {
     "name": "stderr",
     "output_type": "stream",
     "text": [
      "[Parallel(n_jobs=4)]: Using backend LokyBackend with 4 concurrent workers.\n",
      "[Parallel(n_jobs=4)]: Done   2 out of   4 | elapsed:    0.0s remaining:    0.0s\n",
      "[Parallel(n_jobs=4)]: Done   4 out of   4 | elapsed:    0.0s finished\n"
     ]
    },
    {
     "name": "stdout",
     "output_type": "stream",
     "text": [
      ".."
     ]
    },
    {
     "name": "stderr",
     "output_type": "stream",
     "text": [
      "[Parallel(n_jobs=4)]: Using backend LokyBackend with 4 concurrent workers.\n",
      "[Parallel(n_jobs=4)]: Done   2 out of   4 | elapsed:    0.0s remaining:    0.0s\n",
      "[Parallel(n_jobs=4)]: Done   4 out of   4 | elapsed:    0.0s finished\n",
      "[Parallel(n_jobs=4)]: Using backend LokyBackend with 4 concurrent workers.\n",
      "[Parallel(n_jobs=4)]: Done   2 out of   4 | elapsed:    0.0s remaining:    0.0s\n",
      "[Parallel(n_jobs=4)]: Done   4 out of   4 | elapsed:    0.0s finished\n"
     ]
    },
    {
     "name": "stdout",
     "output_type": "stream",
     "text": [
      "."
     ]
    },
    {
     "name": "stderr",
     "output_type": "stream",
     "text": [
      "[Parallel(n_jobs=4)]: Using backend LokyBackend with 4 concurrent workers.\n",
      "[Parallel(n_jobs=4)]: Done   2 out of   4 | elapsed:    0.0s remaining:    0.0s\n",
      "[Parallel(n_jobs=4)]: Done   4 out of   4 | elapsed:    0.0s finished\n"
     ]
    },
    {
     "name": "stdout",
     "output_type": "stream",
     "text": [
      ".."
     ]
    },
    {
     "name": "stderr",
     "output_type": "stream",
     "text": [
      "[Parallel(n_jobs=4)]: Using backend LokyBackend with 4 concurrent workers.\n",
      "[Parallel(n_jobs=4)]: Done   2 out of   4 | elapsed:    0.0s remaining:    0.0s\n",
      "[Parallel(n_jobs=4)]: Done   4 out of   4 | elapsed:    0.0s finished\n",
      "[Parallel(n_jobs=4)]: Using backend LokyBackend with 4 concurrent workers.\n",
      "[Parallel(n_jobs=4)]: Done   2 out of   4 | elapsed:    0.0s remaining:    0.0s\n",
      "[Parallel(n_jobs=4)]: Done   4 out of   4 | elapsed:    0.0s finished\n"
     ]
    },
    {
     "name": "stdout",
     "output_type": "stream",
     "text": [
      ".."
     ]
    },
    {
     "name": "stderr",
     "output_type": "stream",
     "text": [
      "[Parallel(n_jobs=4)]: Using backend LokyBackend with 4 concurrent workers.\n",
      "[Parallel(n_jobs=4)]: Done   2 out of   4 | elapsed:    0.0s remaining:    0.0s\n",
      "[Parallel(n_jobs=4)]: Done   4 out of   4 | elapsed:    0.0s finished\n",
      "[Parallel(n_jobs=4)]: Using backend LokyBackend with 4 concurrent workers.\n",
      "[Parallel(n_jobs=4)]: Done   2 out of   4 | elapsed:    0.0s remaining:    0.0s\n",
      "[Parallel(n_jobs=4)]: Done   4 out of   4 | elapsed:    0.0s finished\n"
     ]
    },
    {
     "name": "stdout",
     "output_type": "stream",
     "text": [
      "."
     ]
    },
    {
     "name": "stderr",
     "output_type": "stream",
     "text": [
      "[Parallel(n_jobs=4)]: Using backend LokyBackend with 4 concurrent workers.\n",
      "[Parallel(n_jobs=4)]: Done   2 out of   4 | elapsed:    0.0s remaining:    0.0s\n",
      "[Parallel(n_jobs=4)]: Done   4 out of   4 | elapsed:    0.0s finished\n"
     ]
    },
    {
     "name": "stdout",
     "output_type": "stream",
     "text": [
      "."
     ]
    },
    {
     "name": "stderr",
     "output_type": "stream",
     "text": [
      "[Parallel(n_jobs=4)]: Using backend LokyBackend with 4 concurrent workers.\n",
      "[Parallel(n_jobs=4)]: Done   2 out of   4 | elapsed:    0.0s remaining:    0.0s\n",
      "[Parallel(n_jobs=4)]: Done   4 out of   4 | elapsed:    0.0s finished\n"
     ]
    },
    {
     "name": "stdout",
     "output_type": "stream",
     "text": [
      "."
     ]
    },
    {
     "name": "stderr",
     "output_type": "stream",
     "text": [
      "[Parallel(n_jobs=4)]: Using backend LokyBackend with 4 concurrent workers.\n",
      "[Parallel(n_jobs=4)]: Done   2 out of   4 | elapsed:    0.0s remaining:    0.0s\n",
      "[Parallel(n_jobs=4)]: Done   4 out of   4 | elapsed:    0.0s finished\n"
     ]
    },
    {
     "name": "stdout",
     "output_type": "stream",
     "text": [
      "."
     ]
    },
    {
     "name": "stderr",
     "output_type": "stream",
     "text": [
      "[Parallel(n_jobs=4)]: Using backend LokyBackend with 4 concurrent workers.\n",
      "[Parallel(n_jobs=4)]: Done   2 out of   4 | elapsed:    0.0s remaining:    0.0s\n",
      "[Parallel(n_jobs=4)]: Done   4 out of   4 | elapsed:    0.0s finished\n"
     ]
    },
    {
     "name": "stdout",
     "output_type": "stream",
     "text": [
      "."
     ]
    },
    {
     "name": "stderr",
     "output_type": "stream",
     "text": [
      "[Parallel(n_jobs=4)]: Using backend LokyBackend with 4 concurrent workers.\n",
      "[Parallel(n_jobs=4)]: Done   2 out of   4 | elapsed:    0.0s remaining:    0.0s\n",
      "[Parallel(n_jobs=4)]: Done   4 out of   4 | elapsed:    0.0s finished\n"
     ]
    },
    {
     "name": "stdout",
     "output_type": "stream",
     "text": [
      "."
     ]
    },
    {
     "name": "stderr",
     "output_type": "stream",
     "text": [
      "[Parallel(n_jobs=4)]: Using backend LokyBackend with 4 concurrent workers.\n",
      "[Parallel(n_jobs=4)]: Done   2 out of   4 | elapsed:    0.0s remaining:    0.0s\n",
      "[Parallel(n_jobs=4)]: Done   4 out of   4 | elapsed:    0.0s finished\n"
     ]
    },
    {
     "name": "stdout",
     "output_type": "stream",
     "text": [
      "."
     ]
    },
    {
     "name": "stderr",
     "output_type": "stream",
     "text": [
      "[Parallel(n_jobs=4)]: Using backend LokyBackend with 4 concurrent workers.\n",
      "[Parallel(n_jobs=4)]: Done   2 out of   4 | elapsed:    0.0s remaining:    0.0s\n",
      "[Parallel(n_jobs=4)]: Done   4 out of   4 | elapsed:    0.0s finished\n"
     ]
    },
    {
     "name": "stdout",
     "output_type": "stream",
     "text": [
      "."
     ]
    },
    {
     "name": "stderr",
     "output_type": "stream",
     "text": [
      "[Parallel(n_jobs=4)]: Using backend LokyBackend with 4 concurrent workers.\n",
      "[Parallel(n_jobs=4)]: Done   2 out of   4 | elapsed:    0.0s remaining:    0.0s\n",
      "[Parallel(n_jobs=4)]: Done   4 out of   4 | elapsed:    0.0s finished\n"
     ]
    },
    {
     "name": "stdout",
     "output_type": "stream",
     "text": [
      ".."
     ]
    },
    {
     "name": "stderr",
     "output_type": "stream",
     "text": [
      "[Parallel(n_jobs=4)]: Using backend LokyBackend with 4 concurrent workers.\n",
      "[Parallel(n_jobs=4)]: Done   2 out of   4 | elapsed:    0.0s remaining:    0.0s\n",
      "[Parallel(n_jobs=4)]: Done   4 out of   4 | elapsed:    0.0s finished\n",
      "[Parallel(n_jobs=4)]: Using backend LokyBackend with 4 concurrent workers.\n"
     ]
    },
    {
     "name": "stdout",
     "output_type": "stream",
     "text": [
      "."
     ]
    },
    {
     "name": "stderr",
     "output_type": "stream",
     "text": [
      "[Parallel(n_jobs=4)]: Done   2 out of   4 | elapsed:    0.0s remaining:    0.0s\n",
      "[Parallel(n_jobs=4)]: Done   4 out of   4 | elapsed:    0.0s finished\n",
      "[Parallel(n_jobs=4)]: Using backend LokyBackend with 4 concurrent workers.\n",
      "[Parallel(n_jobs=4)]: Done   2 out of   4 | elapsed:    0.0s remaining:    0.0s\n"
     ]
    },
    {
     "name": "stdout",
     "output_type": "stream",
     "text": [
      "."
     ]
    },
    {
     "name": "stderr",
     "output_type": "stream",
     "text": [
      "[Parallel(n_jobs=4)]: Done   4 out of   4 | elapsed:    0.0s finished\n",
      "[Parallel(n_jobs=4)]: Using backend LokyBackend with 4 concurrent workers.\n",
      "[Parallel(n_jobs=4)]: Done   2 out of   4 | elapsed:    0.0s remaining:    0.0s\n",
      "[Parallel(n_jobs=4)]: Done   4 out of   4 | elapsed:    0.0s finished\n"
     ]
    },
    {
     "name": "stdout",
     "output_type": "stream",
     "text": [
      ".."
     ]
    },
    {
     "name": "stderr",
     "output_type": "stream",
     "text": [
      "[Parallel(n_jobs=4)]: Using backend LokyBackend with 4 concurrent workers.\n",
      "[Parallel(n_jobs=4)]: Done   2 out of   4 | elapsed:    0.0s remaining:    0.0s\n",
      "[Parallel(n_jobs=4)]: Done   4 out of   4 | elapsed:    0.0s finished\n",
      "[Parallel(n_jobs=4)]: Using backend LokyBackend with 4 concurrent workers.\n",
      "[Parallel(n_jobs=4)]: Done   2 out of   4 | elapsed:    0.0s remaining:    0.0s\n",
      "[Parallel(n_jobs=4)]: Done   4 out of   4 | elapsed:    0.0s finished\n"
     ]
    },
    {
     "name": "stdout",
     "output_type": "stream",
     "text": [
      "."
     ]
    },
    {
     "name": "stderr",
     "output_type": "stream",
     "text": [
      "[Parallel(n_jobs=4)]: Using backend LokyBackend with 4 concurrent workers.\n",
      "[Parallel(n_jobs=4)]: Done   2 out of   4 | elapsed:    0.0s remaining:    0.0s\n",
      "[Parallel(n_jobs=4)]: Done   4 out of   4 | elapsed:    0.0s finished\n"
     ]
    },
    {
     "name": "stdout",
     "output_type": "stream",
     "text": [
      "."
     ]
    },
    {
     "name": "stderr",
     "output_type": "stream",
     "text": [
      "[Parallel(n_jobs=4)]: Using backend LokyBackend with 4 concurrent workers.\n",
      "[Parallel(n_jobs=4)]: Done   2 out of   4 | elapsed:    0.0s remaining:    0.0s\n",
      "[Parallel(n_jobs=4)]: Done   4 out of   4 | elapsed:    0.0s finished\n"
     ]
    },
    {
     "name": "stdout",
     "output_type": "stream",
     "text": [
      ".."
     ]
    },
    {
     "name": "stderr",
     "output_type": "stream",
     "text": [
      "[Parallel(n_jobs=4)]: Using backend LokyBackend with 4 concurrent workers.\n",
      "[Parallel(n_jobs=4)]: Done   2 out of   4 | elapsed:    0.0s remaining:    0.0s\n",
      "[Parallel(n_jobs=4)]: Done   4 out of   4 | elapsed:    0.0s finished\n",
      "[Parallel(n_jobs=4)]: Using backend LokyBackend with 4 concurrent workers.\n",
      "[Parallel(n_jobs=4)]: Done   2 out of   4 | elapsed:    0.0s remaining:    0.0s\n",
      "[Parallel(n_jobs=4)]: Done   4 out of   4 | elapsed:    0.0s finished\n"
     ]
    },
    {
     "name": "stdout",
     "output_type": "stream",
     "text": [
      "."
     ]
    },
    {
     "name": "stderr",
     "output_type": "stream",
     "text": [
      "[Parallel(n_jobs=4)]: Using backend LokyBackend with 4 concurrent workers.\n",
      "[Parallel(n_jobs=4)]: Done   2 out of   4 | elapsed:    0.0s remaining:    0.0s\n",
      "[Parallel(n_jobs=4)]: Done   4 out of   4 | elapsed:    0.0s finished\n"
     ]
    },
    {
     "name": "stdout",
     "output_type": "stream",
     "text": [
      "."
     ]
    },
    {
     "name": "stderr",
     "output_type": "stream",
     "text": [
      "[Parallel(n_jobs=4)]: Using backend LokyBackend with 4 concurrent workers.\n",
      "[Parallel(n_jobs=4)]: Done   2 out of   4 | elapsed:    0.0s remaining:    0.0s\n",
      "[Parallel(n_jobs=4)]: Done   4 out of   4 | elapsed:    0.0s finished\n"
     ]
    },
    {
     "name": "stdout",
     "output_type": "stream",
     "text": [
      "."
     ]
    },
    {
     "name": "stderr",
     "output_type": "stream",
     "text": [
      "[Parallel(n_jobs=4)]: Using backend LokyBackend with 4 concurrent workers.\n",
      "[Parallel(n_jobs=4)]: Done   2 out of   4 | elapsed:    0.0s remaining:    0.0s\n",
      "[Parallel(n_jobs=4)]: Done   4 out of   4 | elapsed:    0.0s finished\n"
     ]
    },
    {
     "name": "stdout",
     "output_type": "stream",
     "text": [
      "."
     ]
    },
    {
     "name": "stderr",
     "output_type": "stream",
     "text": [
      "[Parallel(n_jobs=4)]: Using backend LokyBackend with 4 concurrent workers.\n",
      "[Parallel(n_jobs=4)]: Done   2 out of   4 | elapsed:    0.0s remaining:    0.0s\n",
      "[Parallel(n_jobs=4)]: Done   4 out of   4 | elapsed:    0.0s finished\n"
     ]
    },
    {
     "name": "stdout",
     "output_type": "stream",
     "text": [
      "."
     ]
    },
    {
     "name": "stderr",
     "output_type": "stream",
     "text": [
      "[Parallel(n_jobs=4)]: Using backend LokyBackend with 4 concurrent workers.\n",
      "[Parallel(n_jobs=4)]: Done   2 out of   4 | elapsed:    0.0s remaining:    0.0s\n",
      "[Parallel(n_jobs=4)]: Done   4 out of   4 | elapsed:    0.0s finished\n"
     ]
    },
    {
     "name": "stdout",
     "output_type": "stream",
     "text": [
      "."
     ]
    },
    {
     "name": "stderr",
     "output_type": "stream",
     "text": [
      "[Parallel(n_jobs=4)]: Using backend LokyBackend with 4 concurrent workers.\n",
      "[Parallel(n_jobs=4)]: Done   2 out of   4 | elapsed:    0.0s remaining:    0.0s\n",
      "[Parallel(n_jobs=4)]: Done   4 out of   4 | elapsed:    0.0s finished\n"
     ]
    },
    {
     "name": "stdout",
     "output_type": "stream",
     "text": [
      "."
     ]
    },
    {
     "name": "stderr",
     "output_type": "stream",
     "text": [
      "[Parallel(n_jobs=4)]: Using backend LokyBackend with 4 concurrent workers.\n",
      "[Parallel(n_jobs=4)]: Done   2 out of   4 | elapsed:    0.0s remaining:    0.0s\n",
      "[Parallel(n_jobs=4)]: Done   4 out of   4 | elapsed:    0.0s finished\n"
     ]
    },
    {
     "name": "stdout",
     "output_type": "stream",
     "text": [
      "."
     ]
    },
    {
     "name": "stderr",
     "output_type": "stream",
     "text": [
      "[Parallel(n_jobs=4)]: Using backend LokyBackend with 4 concurrent workers.\n",
      "[Parallel(n_jobs=4)]: Done   2 out of   4 | elapsed:    0.0s remaining:    0.0s\n",
      "[Parallel(n_jobs=4)]: Done   4 out of   4 | elapsed:    0.0s finished\n"
     ]
    },
    {
     "name": "stdout",
     "output_type": "stream",
     "text": [
      "\n",
      "Wall time: 1min 41s\n"
     ]
    }
   ],
   "source": [
    "%%time\n",
    "# 5 mins\n",
    "## RUN (some variant of) PCA (potentially v slow!)\n",
    "n_components = decomp_std.shape[1]\n",
    "n_components = 10\n",
    "# (svd_solver='full', n_components='mle',whiten=True)\n",
    "# decomp = PCA(n_components = n_components,svd_solver='full')\n",
    "# decomp = FastICA(algorithm='deflation', fun='exp', fun_args=None, max_iter=1000,\n",
    "#     n_components=None, random_state=None, tol=0.07, w_init=None, whiten=False) # 2h 1min 4s \"fast\"\n",
    "decomp = SparsePCA(n_components=n_components, alpha=2,max_iter=1000,n_jobs=4,tol=1e-10, verbose=True) # 5min\n",
    "#\n",
    "# alpha=2 -> 1hr\n",
    "\n",
    "# decomp = FactorAnalysis(svd_method = 'lapack',n_components = n_components) ## ~10s ,n_components=30 -> 1.5 hrs\n",
    "decomp_method = str(decomp).split(\"(\")[0] \n",
    "# ,n_components=30\n",
    "\n",
    "X_r = decomp.fit_transform(decomp_std)\n",
    "\n",
    "BES_decomp = pd.DataFrame(   X_r,\n",
    "                             columns = range(0,n_components),\n",
    "                             index   = decomp_index)\n"
   ]
  },
  {
   "cell_type": "code",
   "execution_count": 121,
   "metadata": {},
   "outputs": [],
   "source": [
    "import pickle\n",
    "# treatdir = BES_data_folder+Treatment\n",
    "# subdir = BES_data_folder+Treatment+decomp_method\n",
    "load_suff = \"FactorAnalysis\"\n",
    "save = True # False => Load\n",
    "\n",
    "if save & ( 'decomp' in globals() ): # SAVE    ##( 'decomp' not in globals() )\n",
    "    decomp_method = str(decomp).split(\"(\")[0] \n",
    "    subdir = output_subfolder + decomp_method\n",
    "    fname = subdir+ os.sep + decomp_method\n",
    "    # create dir, save decomp object, BES_decomp, BES_std    \n",
    "    if not os.path.exists(subdir): os.makedirs(subdir)\n",
    "    with open(fname+\".pkl\", \"wb\") as f: pickle.dump( decomp, f )\n",
    "    BES_decomp.to_hdf(fname+\".hdf\"        , decomp_method)\n",
    "    decomp_std.to_hdf(   fname+\"_std\"+\".hdf\" , decomp_method)\n",
    "    \n",
    "else: # LOAD decomp results (default is SAVE)\n",
    "    decomp_method = load_suff\n",
    "    subdir = output_subfolder + os.sep + decomp_method    \n",
    "    fname = subdir + os.sep + decomp_method\n",
    "    if not os.path.exists(subdir): raise Exception(subdir + ' does not exist!')\n",
    "    # load decomp object, BES_decomp, BES_std, n_components\n",
    "    with open(fname+\".pkl\", \"rb\") as f: decomp = pickle.load(f) \n",
    "    BES_decomp = pd.read_hdf(fname+\".hdf\")\n",
    "    decomp_std    = pd.read_hdf(fname+\"_std\"+\".hdf\")\n",
    "    n_components = decomp.components_.shape[0] "
   ]
  },
  {
   "cell_type": "code",
   "execution_count": 122,
   "metadata": {},
   "outputs": [],
   "source": [
    "# display_pca_data(n_components, decomp, decomp_std)"
   ]
  },
  {
   "cell_type": "code",
   "execution_count": 123,
   "metadata": {},
   "outputs": [
    {
     "name": "stderr",
     "output_type": "stream",
     "text": [
      "C:\\ProgramData\\Anaconda3\\envs\\BES_analysis\\lib\\site-packages\\ipykernel_launcher.py:17: UserWarning: Warning, filename truncated because it was over 30. Filenames may no longer be unique\n"
     ]
    },
    {
     "data": {
      "image/png": "[encoded data removed]",
      "text/plain": [
       "<Figure size 720x432 with 1 Axes>"
      ]
     },
     "metadata": {
      "needs_background": "light"
     },
     "output_type": "display_data"
    },
    {
     "data": {
      "image/png": "[encoded data removed]",
      "text/plain": [
       "<Figure size 720x432 with 1 Axes>"
      ]
     },
     "metadata": {
      "needs_background": "light"
     },
     "output_type": "display_data"
    },
    {
     "data": {
      "image/png": "[encoded data removed]",
      "text/plain": [
       "<Figure size 720x432 with 1 Axes>"
      ]
     },
     "metadata": {
      "needs_background": "light"
     },
     "output_type": "display_data"
    },
    {
     "data": {
      "image/png": "[encoded data removed]",
      "text/plain": [
       "<Figure size 720x432 with 1 Axes>"
      ]
     },
     "metadata": {
      "needs_background": "light"
     },
     "output_type": "display_data"
    }
   ],
   "source": [
    "(BES_decomp, comp_labels, comp_dict) = display_components(n_components, decomp,\n",
    "                                                          decomp_columns, BES_decomp, manifest=None, \n",
    "                                                          save_folder = subdir,  \n",
    "                                                          show_first_x_comps= 4, show_histogram = False)"
   ]
  },
  {
   "cell_type": "code",
   "execution_count": 87,
   "metadata": {},
   "outputs": [
    {
     "data": {
      "text/plain": [
       "{'country': 'country code',\n",
       " 'countryname': 'English country name',\n",
       " 'oecdmember': 'OECD Membership status',\n",
       " 'eumember': 'EU Membership status',\n",
       " 'edate': 'election date',\n",
       " 'date': 'election date (YYYYMM)',\n",
       " 'party': 'CMP party code',\n",
       " 'partyname': 'Name of party (english)',\n",
       " 'partyabbrev': 'party abbreviation',\n",
       " 'parfam': 'party family membership',\n",
       " 'coderid': 'unique coder identification number',\n",
       " 'manual': 'version of coder manual used in training',\n",
       " 'coderyear': 'year of last coder training',\n",
       " 'testresult': \"coder reliability (Krippendorf's Alpha)\",\n",
       " 'testeditsim': 'coder reliability (edit similarity)',\n",
       " 'pervote': 'percent of vote',\n",
       " 'voteest': 'orig or estimated figure',\n",
       " 'presvote': 'percent of vote in presidential election',\n",
       " 'absseat': 'absolute number of seats',\n",
       " 'totseats': 'total number of seats',\n",
       " 'progtype': 'manifesto document type',\n",
       " 'datasetorigin': 'dataset (version) in which the datapoint appeared',\n",
       " 'corpusversion': 'manifesto corpus version used to generate the content analytical variables',\n",
       " 'total': 'total number of allocated codes',\n",
       " 'peruncod': 'percent of uncoded quasi-sentences (000)',\n",
       " 'per101': 'foreign special +',\n",
       " 'per102': 'foreign special -',\n",
       " 'per103': 'anti-imperalism',\n",
       " 'per104': 'military +',\n",
       " 'per105': 'military -',\n",
       " 'per106': 'peace',\n",
       " 'per107': 'internationalism +',\n",
       " 'per108': 'europe +',\n",
       " 'per109': 'internationalism -',\n",
       " 'per110': 'europe -',\n",
       " 'per201': 'freedom & human rights',\n",
       " 'per202': 'democracy',\n",
       " 'per203': 'constitution +',\n",
       " 'per204': 'constitution -',\n",
       " 'per301': 'decentralisation',\n",
       " 'per302': 'centralisation',\n",
       " 'per303': 'gov-admin efficiency',\n",
       " 'per304': 'political corruption',\n",
       " 'per305': 'political authority',\n",
       " 'per401': 'free market economy',\n",
       " 'per402': 'incentives',\n",
       " 'per403': 'market regulation',\n",
       " 'per404': 'economic planning',\n",
       " 'per405': 'corporatism/mixed economy',\n",
       " 'per406': 'protectionism +',\n",
       " 'per407': 'protectionism -',\n",
       " 'per408': 'economic goals',\n",
       " 'per409': 'keynesian demand management',\n",
       " 'per410': 'economic growth +',\n",
       " 'per411': 'technology & infrastructure',\n",
       " 'per412': 'controlled economy',\n",
       " 'per413': 'nationalisation',\n",
       " 'per414': 'economic orthodoxy',\n",
       " 'per415': 'marxist analysis +',\n",
       " 'per416': 'anti-growth economy +',\n",
       " 'per501': 'environmentalism +',\n",
       " 'per502': 'culture +',\n",
       " 'per503': 'equality +',\n",
       " 'per504': 'welfare +',\n",
       " 'per505': 'welfare -',\n",
       " 'per506': 'education +',\n",
       " 'per507': 'education -',\n",
       " 'per601': 'national way of life +',\n",
       " 'per602': 'national way of life -',\n",
       " 'per603': 'traditional morality +',\n",
       " 'per604': 'traditional morality -',\n",
       " 'per605': 'law and order +',\n",
       " 'per606': 'civic mindedness +',\n",
       " 'per607': 'multiculturalism +',\n",
       " 'per608': 'multiculturalism -',\n",
       " 'per701': 'labour groups +',\n",
       " 'per702': 'labour groups -',\n",
       " 'per703': 'agriculture +',\n",
       " 'per704': 'middle class and prof. groups',\n",
       " 'per705': 'minority groups',\n",
       " 'per706': 'non-economic demographic groups',\n",
       " 'per1011': 'sub1: russia +',\n",
       " 'per1012': 'sub1: western states +',\n",
       " 'per1013': 'sub1: eastern europe +',\n",
       " 'per1014': 'sub1: baltic states +',\n",
       " 'per1015': 'sub1: nordic council +',\n",
       " 'per1016': 'sub1: yugoslavia +',\n",
       " 'per1021': 'sub1: russia -',\n",
       " 'per1022': 'sub1: western states -',\n",
       " 'per1023': 'sub1: eastern europe -',\n",
       " 'per1024': 'sub1: baltic states -',\n",
       " 'per1025': 'sub1: nordic council -',\n",
       " 'per1026': 'sub1: yugoslavia -',\n",
       " 'per1031': 'sub1: russian army -',\n",
       " 'per1032': 'sub1: independence +',\n",
       " 'per1033': 'sub1: rights of nations +',\n",
       " 'per2021': 'sub1: transition to democracy',\n",
       " 'per2022': 'sub1: restrict citizenship +',\n",
       " 'per2023': 'sub1: lax citizenship +',\n",
       " 'per2031': 'sub1: presidential regime +',\n",
       " 'per2032': 'sub1: republic +',\n",
       " 'per2033': 'sub1: checks and balances +',\n",
       " 'per2041': 'sub1: monarchy +',\n",
       " 'per3011': 'sub1: republican powers +',\n",
       " 'per3051': 'sub1: public situation -',\n",
       " 'per3052': 'sub1: communist +',\n",
       " 'per3053': 'sub1: communist -',\n",
       " 'per3054': 'sub1: rehabilitation +',\n",
       " 'per3055': 'sub1: coalitions +',\n",
       " 'per4011': 'sub1: privatization +',\n",
       " 'per4012': 'sub1: control economy -',\n",
       " 'per4013': 'sub1: restitution +',\n",
       " 'per4014': 'sub1: private vouchers +',\n",
       " 'per4121': 'sub1: social ownership +',\n",
       " 'per4122': 'sub1: mixed economy +',\n",
       " 'per4123': 'sub1: publicly owned industry +',\n",
       " 'per4124': 'sub1: socialist property +',\n",
       " 'per4131': 'sub1: property restitution -',\n",
       " 'per4132': 'sub1: privatization -',\n",
       " 'per5021': 'sub1: priv-pub mix culture +',\n",
       " 'per5031': 'sub1: priv-pub mix social justice +',\n",
       " 'per5041': 'sub1: priv-pub mix welfare +',\n",
       " 'per5061': 'sub1: priv-pub mix education +',\n",
       " 'per6011': 'sub1: karabakh issue +',\n",
       " 'per6012': 'sub1: rebuilding USSR +',\n",
       " 'per6013': 'sub1: national security +',\n",
       " 'per6014': 'sub1: cyprus issue',\n",
       " 'per6061': 'sub1: general crisis',\n",
       " 'per6071': 'sub1: cultural autonomy +',\n",
       " 'per6072': 'sub1: multiculturalism roma +',\n",
       " 'per6081': 'sub1: multiculturalism roma -',\n",
       " 'per7051': 'sub1: minorities inland +',\n",
       " 'per7052': 'sub1: minorities abroad -',\n",
       " 'per7061': 'sub1: war participants +',\n",
       " 'per7062': 'sub1: refugees +',\n",
       " 'per103_1': 'sub2: state centred anti-imperalism',\n",
       " 'per103_2': 'sub2: foreign financial influence -',\n",
       " 'per201_1': 'sub2: freedom',\n",
       " 'per201_2': 'sub2: human rights',\n",
       " 'per202_1': 'sub2: democracy: general +',\n",
       " 'per202_2': 'sub2: democracy: general -',\n",
       " 'per202_3': 'sub2: representative democracy +',\n",
       " 'per202_4': 'sub2: direct democracy +',\n",
       " 'per305_1': 'sub2: political authority: party competence',\n",
       " 'per305_2': 'sub2: political authority: personal competence',\n",
       " 'per305_3': 'sub2: political authority: strong government',\n",
       " 'per305_4': 'sub2: transition: pre-democratic elites +',\n",
       " 'per305_5': 'sub2: transition: pre-democratic elites -',\n",
       " 'per305_6': 'sub2: transition: rehabilitation and compensation',\n",
       " 'per416_1': 'sub2: anti-growth economy +',\n",
       " 'per416_2': 'sub2: sustainability +',\n",
       " 'per601_1': 'sub2: national way of life: general +',\n",
       " 'per601_2': 'sub2: national way of life: immigration -',\n",
       " 'per602_1': 'sub2: national way of life: general -',\n",
       " 'per602_2': 'sub2: national way of life: immigration +',\n",
       " 'per605_1': 'sub2: law and order +',\n",
       " 'per605_2': 'sub2: law and order -',\n",
       " 'per606_1': 'sub2: civic mindedness: general +',\n",
       " 'per606_2': 'sub2: bottom-up activism',\n",
       " 'per607_1': 'sub2: multiculturalism: general +',\n",
       " 'per607_2': 'sub2: multiculturalism: immigrants diversity',\n",
       " 'per607_3': 'sub2: multiculturalism: indigenous rights +',\n",
       " 'per608_1': 'sub2: multiculturalism: general -',\n",
       " 'per608_2': 'sub2: multiculturalism: immigrants assimilation',\n",
       " 'per608_3': 'sub2: multiculturalism: indigenous rights -',\n",
       " 'per703_1': 'sub2: agriculture and farmers +',\n",
       " 'per703_2': 'sub2: agriculture and farmers -',\n",
       " 'rile': 'right-left ideological index',\n",
       " 'planeco': 'planned economic index',\n",
       " 'markeco': 'market economic index',\n",
       " 'welfare': 'party policy positioning on welfare',\n",
       " 'intpeace': 'international peace index',\n",
       " 'datasetversion': 'version of the dataset',\n",
       " 'id_perm': 'permanent row identifier (across dataset versions)'}"
      ]
     },
     "execution_count": 87,
     "metadata": {},
     "output_type": "execute_result"
    }
   ],
   "source": [
    "header"
   ]
  },
  {
   "cell_type": "code",
   "execution_count": 74,
   "metadata": {},
   "outputs": [
    {
     "data": {
      "text/plain": [
       "'C:\\\\Users\\\\Marios\\\\Documents\\\\GitHub\\\\Thomas Prosser project\\\\output\\\\Manifesto Project Decomposition\\\\PCA'"
      ]
     },
     "execution_count": 74,
     "metadata": {},
     "output_type": "execute_result"
    }
   ],
   "source": [
    "subdir"
   ]
  },
  {
   "cell_type": "code",
   "execution_count": null,
   "metadata": {},
   "outputs": [],
   "source": [
    "### Party Voter Dataset\n",
    "\n",
    "# Party Voter Dataset\n",
    "\n",
    "# Description\n",
    "# MARPOR compiled a combined data set which merges data from the Manife sto Data Collection with survey data. With this combined Party - Voter Data Set, we provide new possibilities for the study of the quality of representation. For the first time it is possible to address the question of how well voters (party supporters or un aligned citizens) are represented by parties on a broad empirical basis. This is possible as the combined data set provides information on the relationship between voters and parties on the individual level. The data is available cross - nationally and over - time. Using survey and election data, MARPOR therefore provides the relevant information to assess questions of representation and of the functioning of the delegation mechanisms from the represented voters to the representing parties in a broad comparative perspective.\n",
    "\n",
    "# Update 05.09.2018: We have added the unaligned voters to the Party Voter Dataset. The previous versions published here did not include them.\n",
    "\n",
    "\n",
    "\n",
    "# https://manifestoproject.wzb.eu/datasets/pvds"
   ]
  },
  {
   "cell_type": "code",
   "execution_count": 8,
   "metadata": {},
   "outputs": [
    {
     "data": {
      "text/html": [
       "<div>\n",
       "<style scoped>\n",
       "    .dataframe tbody tr th:only-of-type {\n",
       "        vertical-align: middle;\n",
       "    }\n",
       "\n",
       "    .dataframe tbody tr th {\n",
       "        vertical-align: top;\n",
       "    }\n",
       "\n",
       "    .dataframe thead th {\n",
       "        text-align: right;\n",
       "    }\n",
       "</style>\n",
       "<table border=\"1\" class=\"dataframe\">\n",
       "  <thead>\n",
       "    <tr style=\"text-align: right;\">\n",
       "      <th></th>\n",
       "      <th>country</th>\n",
       "      <th>edate</th>\n",
       "      <th>marpor_year</th>\n",
       "      <th>N_parties</th>\n",
       "      <th>rile_min</th>\n",
       "      <th>rile_max</th>\n",
       "      <th>rile_med</th>\n",
       "      <th>rile_pol</th>\n",
       "      <th>N_voter</th>\n",
       "      <th>selfrile_min</th>\n",
       "      <th>selfrile_max</th>\n",
       "      <th>selfrile_med</th>\n",
       "      <th>selfrile_pol</th>\n",
       "    </tr>\n",
       "  </thead>\n",
       "  <tbody>\n",
       "    <tr>\n",
       "      <th>0</th>\n",
       "      <td>sweden</td>\n",
       "      <td>1998-09-21</td>\n",
       "      <td>1998.0</td>\n",
       "      <td>7.0</td>\n",
       "      <td>-36.111111</td>\n",
       "      <td>37.425148</td>\n",
       "      <td>4.790419</td>\n",
       "      <td>73.536255</td>\n",
       "      <td>1952.0</td>\n",
       "      <td>1.0</td>\n",
       "      <td>9.0</td>\n",
       "      <td>5.0</td>\n",
       "      <td>8.0</td>\n",
       "    </tr>\n",
       "    <tr>\n",
       "      <th>1</th>\n",
       "      <td>norway</td>\n",
       "      <td>1997-09-16</td>\n",
       "      <td>1997.0</td>\n",
       "      <td>7.0</td>\n",
       "      <td>-25.362534</td>\n",
       "      <td>23.478260</td>\n",
       "      <td>-7.896528</td>\n",
       "      <td>48.840794</td>\n",
       "      <td>4020.0</td>\n",
       "      <td>1.0</td>\n",
       "      <td>9.0</td>\n",
       "      <td>5.0</td>\n",
       "      <td>8.0</td>\n",
       "    </tr>\n",
       "    <tr>\n",
       "      <th>2</th>\n",
       "      <td>denmark</td>\n",
       "      <td>1998-03-11</td>\n",
       "      <td>1998.0</td>\n",
       "      <td>10.0</td>\n",
       "      <td>-38.834949</td>\n",
       "      <td>41.975307</td>\n",
       "      <td>6.602664</td>\n",
       "      <td>80.810257</td>\n",
       "      <td>0.0</td>\n",
       "      <td>NaN</td>\n",
       "      <td>NaN</td>\n",
       "      <td>NaN</td>\n",
       "      <td>NaN</td>\n",
       "    </tr>\n",
       "    <tr>\n",
       "      <th>3</th>\n",
       "      <td>iceland</td>\n",
       "      <td>1999-05-08</td>\n",
       "      <td>1999.0</td>\n",
       "      <td>5.0</td>\n",
       "      <td>-32.500000</td>\n",
       "      <td>18.181818</td>\n",
       "      <td>-9.767442</td>\n",
       "      <td>50.681816</td>\n",
       "      <td>2968.0</td>\n",
       "      <td>1.0</td>\n",
       "      <td>9.0</td>\n",
       "      <td>5.0</td>\n",
       "      <td>8.0</td>\n",
       "    </tr>\n",
       "    <tr>\n",
       "      <th>4</th>\n",
       "      <td>belgium</td>\n",
       "      <td>1999-06-13</td>\n",
       "      <td>1999.0</td>\n",
       "      <td>10.0</td>\n",
       "      <td>-19.762846</td>\n",
       "      <td>5.555555</td>\n",
       "      <td>-7.208835</td>\n",
       "      <td>25.318401</td>\n",
       "      <td>7350.0</td>\n",
       "      <td>1.0</td>\n",
       "      <td>9.0</td>\n",
       "      <td>5.0</td>\n",
       "      <td>8.0</td>\n",
       "    </tr>\n",
       "    <tr>\n",
       "      <th>...</th>\n",
       "      <td>...</td>\n",
       "      <td>...</td>\n",
       "      <td>...</td>\n",
       "      <td>...</td>\n",
       "      <td>...</td>\n",
       "      <td>...</td>\n",
       "      <td>...</td>\n",
       "      <td>...</td>\n",
       "      <td>...</td>\n",
       "      <td>...</td>\n",
       "      <td>...</td>\n",
       "      <td>...</td>\n",
       "      <td>...</td>\n",
       "    </tr>\n",
       "    <tr>\n",
       "      <th>268</th>\n",
       "      <td>ireland</td>\n",
       "      <td>1987-02-17</td>\n",
       "      <td>1987.0</td>\n",
       "      <td>5.0</td>\n",
       "      <td>-28.011204</td>\n",
       "      <td>7.885304</td>\n",
       "      <td>-12.750000</td>\n",
       "      <td>35.896507</td>\n",
       "      <td>7077.0</td>\n",
       "      <td>1.0</td>\n",
       "      <td>9.0</td>\n",
       "      <td>5.0</td>\n",
       "      <td>8.0</td>\n",
       "    </tr>\n",
       "    <tr>\n",
       "      <th>269</th>\n",
       "      <td>ireland</td>\n",
       "      <td>1989-06-15</td>\n",
       "      <td>1989.0</td>\n",
       "      <td>6.0</td>\n",
       "      <td>-32.357246</td>\n",
       "      <td>-2.916667</td>\n",
       "      <td>-10.850211</td>\n",
       "      <td>29.440580</td>\n",
       "      <td>10751.0</td>\n",
       "      <td>1.0</td>\n",
       "      <td>9.0</td>\n",
       "      <td>5.0</td>\n",
       "      <td>8.0</td>\n",
       "    </tr>\n",
       "    <tr>\n",
       "      <th>270</th>\n",
       "      <td>ireland</td>\n",
       "      <td>1992-11-25</td>\n",
       "      <td>1992.0</td>\n",
       "      <td>6.0</td>\n",
       "      <td>-26.712328</td>\n",
       "      <td>19.277109</td>\n",
       "      <td>-7.177182</td>\n",
       "      <td>45.989437</td>\n",
       "      <td>10890.0</td>\n",
       "      <td>1.0</td>\n",
       "      <td>9.0</td>\n",
       "      <td>5.0</td>\n",
       "      <td>8.0</td>\n",
       "    </tr>\n",
       "    <tr>\n",
       "      <th>271</th>\n",
       "      <td>ireland</td>\n",
       "      <td>1997-06-06</td>\n",
       "      <td>1997.0</td>\n",
       "      <td>7.0</td>\n",
       "      <td>-26.137304</td>\n",
       "      <td>19.615911</td>\n",
       "      <td>-5.948718</td>\n",
       "      <td>45.753216</td>\n",
       "      <td>6783.0</td>\n",
       "      <td>1.0</td>\n",
       "      <td>9.0</td>\n",
       "      <td>5.0</td>\n",
       "      <td>8.0</td>\n",
       "    </tr>\n",
       "    <tr>\n",
       "      <th>272</th>\n",
       "      <td>ireland</td>\n",
       "      <td>2002-05-17</td>\n",
       "      <td>2002.0</td>\n",
       "      <td>6.0</td>\n",
       "      <td>-30.485437</td>\n",
       "      <td>-6.246135</td>\n",
       "      <td>-16.136072</td>\n",
       "      <td>24.239304</td>\n",
       "      <td>4422.0</td>\n",
       "      <td>1.0</td>\n",
       "      <td>9.0</td>\n",
       "      <td>5.0</td>\n",
       "      <td>8.0</td>\n",
       "    </tr>\n",
       "  </tbody>\n",
       "</table>\n",
       "<p>273 rows × 13 columns</p>\n",
       "</div>"
      ],
      "text/plain": [
       "     country      edate  marpor_year  N_parties   rile_min   rile_max  \\\n",
       "0     sweden 1998-09-21       1998.0        7.0 -36.111111  37.425148   \n",
       "1     norway 1997-09-16       1997.0        7.0 -25.362534  23.478260   \n",
       "2    denmark 1998-03-11       1998.0       10.0 -38.834949  41.975307   \n",
       "3    iceland 1999-05-08       1999.0        5.0 -32.500000  18.181818   \n",
       "4    belgium 1999-06-13       1999.0       10.0 -19.762846   5.555555   \n",
       "..       ...        ...          ...        ...        ...        ...   \n",
       "268  ireland 1987-02-17       1987.0        5.0 -28.011204   7.885304   \n",
       "269  ireland 1989-06-15       1989.0        6.0 -32.357246  -2.916667   \n",
       "270  ireland 1992-11-25       1992.0        6.0 -26.712328  19.277109   \n",
       "271  ireland 1997-06-06       1997.0        7.0 -26.137304  19.615911   \n",
       "272  ireland 2002-05-17       2002.0        6.0 -30.485437  -6.246135   \n",
       "\n",
       "      rile_med   rile_pol  N_voter  selfrile_min  selfrile_max  selfrile_med  \\\n",
       "0     4.790419  73.536255   1952.0           1.0           9.0           5.0   \n",
       "1    -7.896528  48.840794   4020.0           1.0           9.0           5.0   \n",
       "2     6.602664  80.810257      0.0           NaN           NaN           NaN   \n",
       "3    -9.767442  50.681816   2968.0           1.0           9.0           5.0   \n",
       "4    -7.208835  25.318401   7350.0           1.0           9.0           5.0   \n",
       "..         ...        ...      ...           ...           ...           ...   \n",
       "268 -12.750000  35.896507   7077.0           1.0           9.0           5.0   \n",
       "269 -10.850211  29.440580  10751.0           1.0           9.0           5.0   \n",
       "270  -7.177182  45.989437  10890.0           1.0           9.0           5.0   \n",
       "271  -5.948718  45.753216   6783.0           1.0           9.0           5.0   \n",
       "272 -16.136072  24.239304   4422.0           1.0           9.0           5.0   \n",
       "\n",
       "     selfrile_pol  \n",
       "0             8.0  \n",
       "1             8.0  \n",
       "2             NaN  \n",
       "3             8.0  \n",
       "4             8.0  \n",
       "..            ...  \n",
       "268           8.0  \n",
       "269           8.0  \n",
       "270           8.0  \n",
       "271           8.0  \n",
       "272           8.0  \n",
       "\n",
       "[273 rows x 13 columns]"
      ]
     },
     "execution_count": 8,
     "metadata": {},
     "output_type": "execute_result"
    }
   ],
   "source": [
    "pvds_elections = pd.read_stata(dataset_folder + \"pvds_elections.dta\")\n",
    "pvds_elections"
   ]
  },
  {
   "cell_type": "code",
   "execution_count": 15,
   "metadata": {},
   "outputs": [
    {
     "data": {
      "text/html": [
       "<div>\n",
       "<style scoped>\n",
       "    .dataframe tbody tr th:only-of-type {\n",
       "        vertical-align: middle;\n",
       "    }\n",
       "\n",
       "    .dataframe tbody tr th {\n",
       "        vertical-align: top;\n",
       "    }\n",
       "\n",
       "    .dataframe thead th {\n",
       "        text-align: right;\n",
       "    }\n",
       "</style>\n",
       "<table border=\"1\" class=\"dataframe\">\n",
       "  <thead>\n",
       "    <tr style=\"text-align: right;\">\n",
       "      <th></th>\n",
       "      <th>country</th>\n",
       "      <th>edate</th>\n",
       "      <th>marpor_year</th>\n",
       "      <th>party</th>\n",
       "      <th>rile</th>\n",
       "      <th>selfrile_min</th>\n",
       "      <th>selfrile_max</th>\n",
       "      <th>selfrile_med</th>\n",
       "      <th>selfrile_pol</th>\n",
       "      <th>N_voter</th>\n",
       "    </tr>\n",
       "  </thead>\n",
       "  <tbody>\n",
       "    <tr>\n",
       "      <th>0</th>\n",
       "      <td>sweden</td>\n",
       "      <td>1998-09-21</td>\n",
       "      <td>1998.0</td>\n",
       "      <td>-99.0</td>\n",
       "      <td>NaN</td>\n",
       "      <td>NaN</td>\n",
       "      <td>NaN</td>\n",
       "      <td>NaN</td>\n",
       "      <td>NaN</td>\n",
       "      <td>1107.0</td>\n",
       "    </tr>\n",
       "    <tr>\n",
       "      <th>1</th>\n",
       "      <td>sweden</td>\n",
       "      <td>1998-09-21</td>\n",
       "      <td>1998.0</td>\n",
       "      <td>11110.0</td>\n",
       "      <td>-36.111111</td>\n",
       "      <td>1.0</td>\n",
       "      <td>6.0</td>\n",
       "      <td>3.0</td>\n",
       "      <td>5.0</td>\n",
       "      <td>40.0</td>\n",
       "    </tr>\n",
       "    <tr>\n",
       "      <th>2</th>\n",
       "      <td>sweden</td>\n",
       "      <td>1998-09-21</td>\n",
       "      <td>1998.0</td>\n",
       "      <td>11220.0</td>\n",
       "      <td>-35.951660</td>\n",
       "      <td>1.0</td>\n",
       "      <td>7.0</td>\n",
       "      <td>3.0</td>\n",
       "      <td>6.0</td>\n",
       "      <td>107.0</td>\n",
       "    </tr>\n",
       "    <tr>\n",
       "      <th>3</th>\n",
       "      <td>sweden</td>\n",
       "      <td>1998-09-21</td>\n",
       "      <td>1998.0</td>\n",
       "      <td>11320.0</td>\n",
       "      <td>-3.515625</td>\n",
       "      <td>1.0</td>\n",
       "      <td>9.0</td>\n",
       "      <td>3.0</td>\n",
       "      <td>8.0</td>\n",
       "      <td>326.0</td>\n",
       "    </tr>\n",
       "    <tr>\n",
       "      <th>4</th>\n",
       "      <td>sweden</td>\n",
       "      <td>1998-09-21</td>\n",
       "      <td>1998.0</td>\n",
       "      <td>11420.0</td>\n",
       "      <td>14.285714</td>\n",
       "      <td>3.0</td>\n",
       "      <td>8.0</td>\n",
       "      <td>6.0</td>\n",
       "      <td>5.0</td>\n",
       "      <td>44.0</td>\n",
       "    </tr>\n",
       "    <tr>\n",
       "      <th>...</th>\n",
       "      <td>...</td>\n",
       "      <td>...</td>\n",
       "      <td>...</td>\n",
       "      <td>...</td>\n",
       "      <td>...</td>\n",
       "      <td>...</td>\n",
       "      <td>...</td>\n",
       "      <td>...</td>\n",
       "      <td>...</td>\n",
       "      <td>...</td>\n",
       "    </tr>\n",
       "    <tr>\n",
       "      <th>1797</th>\n",
       "      <td>ireland</td>\n",
       "      <td>2002-05-17</td>\n",
       "      <td>2002.0</td>\n",
       "      <td>53320.0</td>\n",
       "      <td>-22.290077</td>\n",
       "      <td>1.0</td>\n",
       "      <td>7.0</td>\n",
       "      <td>5.0</td>\n",
       "      <td>6.0</td>\n",
       "      <td>176.0</td>\n",
       "    </tr>\n",
       "    <tr>\n",
       "      <th>1798</th>\n",
       "      <td>ireland</td>\n",
       "      <td>2002-05-17</td>\n",
       "      <td>2002.0</td>\n",
       "      <td>53420.0</td>\n",
       "      <td>-9.982068</td>\n",
       "      <td>3.0</td>\n",
       "      <td>9.0</td>\n",
       "      <td>5.0</td>\n",
       "      <td>6.0</td>\n",
       "      <td>52.0</td>\n",
       "    </tr>\n",
       "    <tr>\n",
       "      <th>1799</th>\n",
       "      <td>ireland</td>\n",
       "      <td>2002-05-17</td>\n",
       "      <td>2002.0</td>\n",
       "      <td>53520.0</td>\n",
       "      <td>-9.316771</td>\n",
       "      <td>1.0</td>\n",
       "      <td>9.0</td>\n",
       "      <td>5.0</td>\n",
       "      <td>8.0</td>\n",
       "      <td>321.0</td>\n",
       "    </tr>\n",
       "    <tr>\n",
       "      <th>1800</th>\n",
       "      <td>ireland</td>\n",
       "      <td>2002-05-17</td>\n",
       "      <td>2002.0</td>\n",
       "      <td>53620.0</td>\n",
       "      <td>-6.246135</td>\n",
       "      <td>1.0</td>\n",
       "      <td>9.0</td>\n",
       "      <td>5.0</td>\n",
       "      <td>8.0</td>\n",
       "      <td>736.0</td>\n",
       "    </tr>\n",
       "    <tr>\n",
       "      <th>1801</th>\n",
       "      <td>ireland</td>\n",
       "      <td>2002-05-17</td>\n",
       "      <td>2002.0</td>\n",
       "      <td>53951.0</td>\n",
       "      <td>-26.137304</td>\n",
       "      <td>1.0</td>\n",
       "      <td>9.0</td>\n",
       "      <td>4.0</td>\n",
       "      <td>8.0</td>\n",
       "      <td>78.0</td>\n",
       "    </tr>\n",
       "  </tbody>\n",
       "</table>\n",
       "<p>1802 rows × 10 columns</p>\n",
       "</div>"
      ],
      "text/plain": [
       "      country      edate  marpor_year    party       rile  selfrile_min  \\\n",
       "0      sweden 1998-09-21       1998.0    -99.0        NaN           NaN   \n",
       "1      sweden 1998-09-21       1998.0  11110.0 -36.111111           1.0   \n",
       "2      sweden 1998-09-21       1998.0  11220.0 -35.951660           1.0   \n",
       "3      sweden 1998-09-21       1998.0  11320.0  -3.515625           1.0   \n",
       "4      sweden 1998-09-21       1998.0  11420.0  14.285714           3.0   \n",
       "...       ...        ...          ...      ...        ...           ...   \n",
       "1797  ireland 2002-05-17       2002.0  53320.0 -22.290077           1.0   \n",
       "1798  ireland 2002-05-17       2002.0  53420.0  -9.982068           3.0   \n",
       "1799  ireland 2002-05-17       2002.0  53520.0  -9.316771           1.0   \n",
       "1800  ireland 2002-05-17       2002.0  53620.0  -6.246135           1.0   \n",
       "1801  ireland 2002-05-17       2002.0  53951.0 -26.137304           1.0   \n",
       "\n",
       "      selfrile_max  selfrile_med  selfrile_pol  N_voter  \n",
       "0              NaN           NaN           NaN   1107.0  \n",
       "1              6.0           3.0           5.0     40.0  \n",
       "2              7.0           3.0           6.0    107.0  \n",
       "3              9.0           3.0           8.0    326.0  \n",
       "4              8.0           6.0           5.0     44.0  \n",
       "...            ...           ...           ...      ...  \n",
       "1797           7.0           5.0           6.0    176.0  \n",
       "1798           9.0           5.0           6.0     52.0  \n",
       "1799           9.0           5.0           8.0    321.0  \n",
       "1800           9.0           5.0           8.0    736.0  \n",
       "1801           9.0           4.0           8.0     78.0  \n",
       "\n",
       "[1802 rows x 10 columns]"
      ]
     },
     "execution_count": 15,
     "metadata": {},
     "output_type": "execute_result"
    }
   ],
   "source": [
    "pvds_parties = pd.read_stata(dataset_folder + \"pvds_parties.dta\", columns = ['country', 'edate', 'marpor_year', 'rile', 'selfrile_min',\n",
    "       'selfrile_max', 'selfrile_med', 'selfrile_pol', 'N_voter'])\n",
    "\n",
    "pvds_parties[\"party\"] = pd.read_stata(dataset_folder + \"pvds_parties.dta\",\n",
    "                                      convert_categoricals=False, columns = ['party'])[\"party\"]\n",
    "                             \n",
    "                             \n",
    "                             #)\n",
    "pvds_parties = pvds_parties[['country', 'edate', 'marpor_year', 'party', 'rile', 'selfrile_min',\n",
    "       'selfrile_max', 'selfrile_med', 'selfrile_pol', 'N_voter']]\n",
    "pvds_parties\n",
    "\n",
    "# non-unique category\n",
    "# cze: kds christian democratic party"
   ]
  },
  {
   "cell_type": "code",
   "execution_count": 19,
   "metadata": {},
   "outputs": [
    {
     "data": {
      "text/html": [
       "<div>\n",
       "<style scoped>\n",
       "    .dataframe tbody tr th:only-of-type {\n",
       "        vertical-align: middle;\n",
       "    }\n",
       "\n",
       "    .dataframe tbody tr th {\n",
       "        vertical-align: top;\n",
       "    }\n",
       "\n",
       "    .dataframe thead th {\n",
       "        text-align: right;\n",
       "    }\n",
       "</style>\n",
       "<table border=\"1\" class=\"dataframe\">\n",
       "  <thead>\n",
       "    <tr style=\"text-align: right;\">\n",
       "      <th></th>\n",
       "      <th>country</th>\n",
       "      <th>edate</th>\n",
       "      <th>marpor_year</th>\n",
       "      <th>party</th>\n",
       "      <th>rile</th>\n",
       "      <th>dataset_id</th>\n",
       "      <th>survey_country</th>\n",
       "      <th>survey_year</th>\n",
       "      <th>fieldwork_in</th>\n",
       "      <th>fieldwork_out</th>\n",
       "      <th>...</th>\n",
       "      <th>observation_origin</th>\n",
       "      <th>missing_type</th>\n",
       "      <th>survey_partypref_missing</th>\n",
       "      <th>party_na</th>\n",
       "      <th>selfrile_na</th>\n",
       "      <th>A1005</th>\n",
       "      <th>B1005</th>\n",
       "      <th>C1005</th>\n",
       "      <th>s007</th>\n",
       "      <th>id</th>\n",
       "    </tr>\n",
       "  </thead>\n",
       "  <tbody>\n",
       "    <tr>\n",
       "      <th>0</th>\n",
       "      <td>denmark</td>\n",
       "      <td>1998-03-11</td>\n",
       "      <td>1998.0</td>\n",
       "      <td>13229.0</td>\n",
       "      <td>-32.520325</td>\n",
       "      <td>11.0</td>\n",
       "      <td>DNK</td>\n",
       "      <td>1998.0</td>\n",
       "      <td>1998-06-01</td>\n",
       "      <td>1998-06-30</td>\n",
       "      <td>...</td>\n",
       "      <td>cmp+survey</td>\n",
       "      <td>MATCH! cmp and survey entry successfully mapped</td>\n",
       "      <td>unspecified missing-type in survey</td>\n",
       "      <td>0.0</td>\n",
       "      <td>1.0</td>\n",
       "      <td></td>\n",
       "      <td></td>\n",
       "      <td></td>\n",
       "      <td>NaN</td>\n",
       "      <td>NaN</td>\n",
       "    </tr>\n",
       "    <tr>\n",
       "      <th>1</th>\n",
       "      <td>denmark</td>\n",
       "      <td>1998-03-11</td>\n",
       "      <td>1998.0</td>\n",
       "      <td>13951.0</td>\n",
       "      <td>34.000000</td>\n",
       "      <td>11.0</td>\n",
       "      <td>DNK</td>\n",
       "      <td>1998.0</td>\n",
       "      <td>1998-06-01</td>\n",
       "      <td>1998-06-30</td>\n",
       "      <td>...</td>\n",
       "      <td>cmp+survey</td>\n",
       "      <td>MATCH! cmp and survey entry successfully mapped</td>\n",
       "      <td>unspecified missing-type in survey</td>\n",
       "      <td>0.0</td>\n",
       "      <td>1.0</td>\n",
       "      <td></td>\n",
       "      <td></td>\n",
       "      <td></td>\n",
       "      <td>NaN</td>\n",
       "      <td>NaN</td>\n",
       "    </tr>\n",
       "    <tr>\n",
       "      <th>2</th>\n",
       "      <td>denmark</td>\n",
       "      <td>1998-03-11</td>\n",
       "      <td>1998.0</td>\n",
       "      <td>13720.0</td>\n",
       "      <td>8.219178</td>\n",
       "      <td>11.0</td>\n",
       "      <td>DNK</td>\n",
       "      <td>1998.0</td>\n",
       "      <td>1998-06-01</td>\n",
       "      <td>1998-06-30</td>\n",
       "      <td>...</td>\n",
       "      <td>cmp+survey</td>\n",
       "      <td>MATCH! cmp and survey entry successfully mapped</td>\n",
       "      <td>unspecified missing-type in survey</td>\n",
       "      <td>0.0</td>\n",
       "      <td>1.0</td>\n",
       "      <td></td>\n",
       "      <td></td>\n",
       "      <td></td>\n",
       "      <td>NaN</td>\n",
       "      <td>NaN</td>\n",
       "    </tr>\n",
       "    <tr>\n",
       "      <th>3</th>\n",
       "      <td>portugal</td>\n",
       "      <td>2002-03-17</td>\n",
       "      <td>2002.0</td>\n",
       "      <td>-99.0</td>\n",
       "      <td>NaN</td>\n",
       "      <td>11.0</td>\n",
       "      <td>PRT</td>\n",
       "      <td>2002.0</td>\n",
       "      <td>2002-06-01</td>\n",
       "      <td>2002-06-30</td>\n",
       "      <td>...</td>\n",
       "      <td>survey</td>\n",
       "      <td>mapping variable is missing value (.)</td>\n",
       "      <td>unspecified missing-type in survey</td>\n",
       "      <td>1.0</td>\n",
       "      <td>1.0</td>\n",
       "      <td></td>\n",
       "      <td></td>\n",
       "      <td></td>\n",
       "      <td>NaN</td>\n",
       "      <td>NaN</td>\n",
       "    </tr>\n",
       "    <tr>\n",
       "      <th>4</th>\n",
       "      <td>denmark</td>\n",
       "      <td>1998-03-11</td>\n",
       "      <td>1998.0</td>\n",
       "      <td>-99.0</td>\n",
       "      <td>NaN</td>\n",
       "      <td>11.0</td>\n",
       "      <td>DNK</td>\n",
       "      <td>1998.0</td>\n",
       "      <td>1998-06-01</td>\n",
       "      <td>1998-06-30</td>\n",
       "      <td>...</td>\n",
       "      <td>survey</td>\n",
       "      <td>mapping variable is missing value (.)</td>\n",
       "      <td>unspecified missing-type in survey</td>\n",
       "      <td>1.0</td>\n",
       "      <td>1.0</td>\n",
       "      <td></td>\n",
       "      <td></td>\n",
       "      <td></td>\n",
       "      <td>NaN</td>\n",
       "      <td>NaN</td>\n",
       "    </tr>\n",
       "    <tr>\n",
       "      <th>...</th>\n",
       "      <td>...</td>\n",
       "      <td>...</td>\n",
       "      <td>...</td>\n",
       "      <td>...</td>\n",
       "      <td>...</td>\n",
       "      <td>...</td>\n",
       "      <td>...</td>\n",
       "      <td>...</td>\n",
       "      <td>...</td>\n",
       "      <td>...</td>\n",
       "      <td>...</td>\n",
       "      <td>...</td>\n",
       "      <td>...</td>\n",
       "      <td>...</td>\n",
       "      <td>...</td>\n",
       "      <td>...</td>\n",
       "      <td>...</td>\n",
       "      <td>...</td>\n",
       "      <td>...</td>\n",
       "      <td>...</td>\n",
       "      <td>...</td>\n",
       "    </tr>\n",
       "    <tr>\n",
       "      <th>1707989</th>\n",
       "      <td>great britain</td>\n",
       "      <td>2001-06-07</td>\n",
       "      <td>2001.0</td>\n",
       "      <td>-99.0</td>\n",
       "      <td>NaN</td>\n",
       "      <td>21.0</td>\n",
       "      <td>9</td>\n",
       "      <td>2002.0</td>\n",
       "      <td>2002-05-30</td>\n",
       "      <td>2002-05-30</td>\n",
       "      <td>...</td>\n",
       "      <td>survey</td>\n",
       "      <td>mapping variable is missing value (.)</td>\n",
       "      <td>unspecified missing-type in survey</td>\n",
       "      <td>1.0</td>\n",
       "      <td>0.0</td>\n",
       "      <td></td>\n",
       "      <td></td>\n",
       "      <td></td>\n",
       "      <td>NaN</td>\n",
       "      <td>1130341.0</td>\n",
       "    </tr>\n",
       "    <tr>\n",
       "      <th>1707990</th>\n",
       "      <td>great britain</td>\n",
       "      <td>2001-06-07</td>\n",
       "      <td>2001.0</td>\n",
       "      <td>-99.0</td>\n",
       "      <td>NaN</td>\n",
       "      <td>21.0</td>\n",
       "      <td>9</td>\n",
       "      <td>2002.0</td>\n",
       "      <td>2002-05-30</td>\n",
       "      <td>2002-05-30</td>\n",
       "      <td>...</td>\n",
       "      <td>survey</td>\n",
       "      <td>mapping variable is missing value (.)</td>\n",
       "      <td>unspecified missing-type in survey</td>\n",
       "      <td>1.0</td>\n",
       "      <td>0.0</td>\n",
       "      <td></td>\n",
       "      <td></td>\n",
       "      <td></td>\n",
       "      <td>NaN</td>\n",
       "      <td>1130342.0</td>\n",
       "    </tr>\n",
       "    <tr>\n",
       "      <th>1707991</th>\n",
       "      <td>great britain</td>\n",
       "      <td>2001-06-07</td>\n",
       "      <td>2001.0</td>\n",
       "      <td>-99.0</td>\n",
       "      <td>NaN</td>\n",
       "      <td>21.0</td>\n",
       "      <td>9</td>\n",
       "      <td>2002.0</td>\n",
       "      <td>2002-05-30</td>\n",
       "      <td>2002-05-30</td>\n",
       "      <td>...</td>\n",
       "      <td>survey</td>\n",
       "      <td>mapping variable is missing value (.)</td>\n",
       "      <td>unspecified missing-type in survey</td>\n",
       "      <td>1.0</td>\n",
       "      <td>0.0</td>\n",
       "      <td></td>\n",
       "      <td></td>\n",
       "      <td></td>\n",
       "      <td>NaN</td>\n",
       "      <td>1130343.0</td>\n",
       "    </tr>\n",
       "    <tr>\n",
       "      <th>1707992</th>\n",
       "      <td>great britain</td>\n",
       "      <td>2001-06-07</td>\n",
       "      <td>2001.0</td>\n",
       "      <td>-99.0</td>\n",
       "      <td>NaN</td>\n",
       "      <td>21.0</td>\n",
       "      <td>9</td>\n",
       "      <td>2002.0</td>\n",
       "      <td>2002-05-30</td>\n",
       "      <td>2002-05-30</td>\n",
       "      <td>...</td>\n",
       "      <td>survey</td>\n",
       "      <td>mapping variable is missing value (.)</td>\n",
       "      <td>unspecified missing-type in survey</td>\n",
       "      <td>1.0</td>\n",
       "      <td>0.0</td>\n",
       "      <td></td>\n",
       "      <td></td>\n",
       "      <td></td>\n",
       "      <td>NaN</td>\n",
       "      <td>1130344.0</td>\n",
       "    </tr>\n",
       "    <tr>\n",
       "      <th>1707993</th>\n",
       "      <td>great britain</td>\n",
       "      <td>2001-06-07</td>\n",
       "      <td>2001.0</td>\n",
       "      <td>-99.0</td>\n",
       "      <td>NaN</td>\n",
       "      <td>21.0</td>\n",
       "      <td>9</td>\n",
       "      <td>2002.0</td>\n",
       "      <td>2002-05-30</td>\n",
       "      <td>2002-05-30</td>\n",
       "      <td>...</td>\n",
       "      <td>survey</td>\n",
       "      <td>mapping variable is missing value (.)</td>\n",
       "      <td>unspecified missing-type in survey</td>\n",
       "      <td>1.0</td>\n",
       "      <td>0.0</td>\n",
       "      <td></td>\n",
       "      <td></td>\n",
       "      <td></td>\n",
       "      <td>NaN</td>\n",
       "      <td>1130345.0</td>\n",
       "    </tr>\n",
       "  </tbody>\n",
       "</table>\n",
       "<p>1707994 rows × 24 columns</p>\n",
       "</div>"
      ],
      "text/plain": [
       "               country      edate  marpor_year    party       rile  \\\n",
       "0              denmark 1998-03-11       1998.0  13229.0 -32.520325   \n",
       "1              denmark 1998-03-11       1998.0  13951.0  34.000000   \n",
       "2              denmark 1998-03-11       1998.0  13720.0   8.219178   \n",
       "3             portugal 2002-03-17       2002.0    -99.0        NaN   \n",
       "4              denmark 1998-03-11       1998.0    -99.0        NaN   \n",
       "...                ...        ...          ...      ...        ...   \n",
       "1707989  great britain 2001-06-07       2001.0    -99.0        NaN   \n",
       "1707990  great britain 2001-06-07       2001.0    -99.0        NaN   \n",
       "1707991  great britain 2001-06-07       2001.0    -99.0        NaN   \n",
       "1707992  great britain 2001-06-07       2001.0    -99.0        NaN   \n",
       "1707993  great britain 2001-06-07       2001.0    -99.0        NaN   \n",
       "\n",
       "         dataset_id survey_country  survey_year fieldwork_in fieldwork_out  \\\n",
       "0              11.0            DNK       1998.0   1998-06-01    1998-06-30   \n",
       "1              11.0            DNK       1998.0   1998-06-01    1998-06-30   \n",
       "2              11.0            DNK       1998.0   1998-06-01    1998-06-30   \n",
       "3              11.0            PRT       2002.0   2002-06-01    2002-06-30   \n",
       "4              11.0            DNK       1998.0   1998-06-01    1998-06-30   \n",
       "...             ...            ...          ...          ...           ...   \n",
       "1707989        21.0              9       2002.0   2002-05-30    2002-05-30   \n",
       "1707990        21.0              9       2002.0   2002-05-30    2002-05-30   \n",
       "1707991        21.0              9       2002.0   2002-05-30    2002-05-30   \n",
       "1707992        21.0              9       2002.0   2002-05-30    2002-05-30   \n",
       "1707993        21.0              9       2002.0   2002-05-30    2002-05-30   \n",
       "\n",
       "         ...  observation_origin  \\\n",
       "0        ...          cmp+survey   \n",
       "1        ...          cmp+survey   \n",
       "2        ...          cmp+survey   \n",
       "3        ...              survey   \n",
       "4        ...              survey   \n",
       "...      ...                 ...   \n",
       "1707989  ...              survey   \n",
       "1707990  ...              survey   \n",
       "1707991  ...              survey   \n",
       "1707992  ...              survey   \n",
       "1707993  ...              survey   \n",
       "\n",
       "                                            missing_type  \\\n",
       "0        MATCH! cmp and survey entry successfully mapped   \n",
       "1        MATCH! cmp and survey entry successfully mapped   \n",
       "2        MATCH! cmp and survey entry successfully mapped   \n",
       "3                  mapping variable is missing value (.)   \n",
       "4                  mapping variable is missing value (.)   \n",
       "...                                                  ...   \n",
       "1707989            mapping variable is missing value (.)   \n",
       "1707990            mapping variable is missing value (.)   \n",
       "1707991            mapping variable is missing value (.)   \n",
       "1707992            mapping variable is missing value (.)   \n",
       "1707993            mapping variable is missing value (.)   \n",
       "\n",
       "                   survey_partypref_missing party_na selfrile_na A1005 B1005  \\\n",
       "0        unspecified missing-type in survey      0.0         1.0               \n",
       "1        unspecified missing-type in survey      0.0         1.0               \n",
       "2        unspecified missing-type in survey      0.0         1.0               \n",
       "3        unspecified missing-type in survey      1.0         1.0               \n",
       "4        unspecified missing-type in survey      1.0         1.0               \n",
       "...                                     ...      ...         ...   ...   ...   \n",
       "1707989  unspecified missing-type in survey      1.0         0.0               \n",
       "1707990  unspecified missing-type in survey      1.0         0.0               \n",
       "1707991  unspecified missing-type in survey      1.0         0.0               \n",
       "1707992  unspecified missing-type in survey      1.0         0.0               \n",
       "1707993  unspecified missing-type in survey      1.0         0.0               \n",
       "\n",
       "         C1005  s007         id  \n",
       "0                NaN        NaN  \n",
       "1                NaN        NaN  \n",
       "2                NaN        NaN  \n",
       "3                NaN        NaN  \n",
       "4                NaN        NaN  \n",
       "...        ...   ...        ...  \n",
       "1707989          NaN  1130341.0  \n",
       "1707990          NaN  1130342.0  \n",
       "1707991          NaN  1130343.0  \n",
       "1707992          NaN  1130344.0  \n",
       "1707993          NaN  1130345.0  \n",
       "\n",
       "[1707994 rows x 24 columns]"
      ]
     },
     "execution_count": 19,
     "metadata": {},
     "output_type": "execute_result"
    }
   ],
   "source": [
    "pvds_mikro = pd.read_stata(dataset_folder + \"pvds_mikro.dta\",\n",
    "                           columns=['country', 'edate', 'marpor_year', 'rile', 'dataset_id',\n",
    "       'survey_country', 'survey_year', 'fieldwork_in', 'fieldwork_out',\n",
    "       'fieldwork_diff', 'current_vote_type', 'selfrile_survey_type',\n",
    "       'selfrile', 'observation_origin', 'missing_type',\n",
    "       'survey_partypref_missing', 'party_na', 'selfrile_na', 'A1005', 'B1005',\n",
    "       'C1005', 's007', 'id'])\n",
    "\n",
    "pvds_mikro['party'] = pd.read_stata(dataset_folder + \"pvds_mikro.dta\",\n",
    "                                      convert_categoricals=False, columns = ['party'])[\"party\"]\n",
    "pvds_mikro = pvds_mikro[['country', 'edate', 'marpor_year', 'party', 'rile', 'dataset_id',\n",
    "       'survey_country', 'survey_year', 'fieldwork_in', 'fieldwork_out',\n",
    "       'fieldwork_diff', 'current_vote_type', 'selfrile_survey_type',\n",
    "       'selfrile', 'observation_origin', 'missing_type',\n",
    "       'survey_partypref_missing', 'party_na', 'selfrile_na', 'A1005', 'B1005',\n",
    "       'C1005', 's007', 'id']]\n",
    "pvds_mikro"
   ]
  },
  {
   "cell_type": "code",
   "execution_count": null,
   "metadata": {},
   "outputs": [],
   "source": []
  },
  {
   "cell_type": "code",
   "execution_count": null,
   "metadata": {},
   "outputs": [],
   "source": [
    "### Euromanifesto"
   ]
  },
  {
   "cell_type": "code",
   "execution_count": 20,
   "metadata": {},
   "outputs": [
    {
     "data": {
      "text/html": [
       "<div>\n",
       "<style scoped>\n",
       "    .dataframe tbody tr th:only-of-type {\n",
       "        vertical-align: middle;\n",
       "    }\n",
       "\n",
       "    .dataframe tbody tr th {\n",
       "        vertical-align: top;\n",
       "    }\n",
       "\n",
       "    .dataframe thead th {\n",
       "        text-align: right;\n",
       "    }\n",
       "</style>\n",
       "<table border=\"1\" class=\"dataframe\">\n",
       "  <thead>\n",
       "    <tr style=\"text-align: right;\">\n",
       "      <th></th>\n",
       "      <th>za_nr</th>\n",
       "      <th>version</th>\n",
       "      <th>doi</th>\n",
       "      <th>partyname</th>\n",
       "      <th>initials</th>\n",
       "      <th>year</th>\n",
       "      <th>EPseats</th>\n",
       "      <th>country</th>\n",
       "      <th>region</th>\n",
       "      <th>country_year</th>\n",
       "      <th>...</th>\n",
       "      <th>per_v3_7063b</th>\n",
       "      <th>per_v1_7063a</th>\n",
       "      <th>per_v2_7063a</th>\n",
       "      <th>per_v3_7063a</th>\n",
       "      <th>per_v1_7064b</th>\n",
       "      <th>per_v2_7064b</th>\n",
       "      <th>per_v3_7064b</th>\n",
       "      <th>per_v1_7064a</th>\n",
       "      <th>per_v2_7064a</th>\n",
       "      <th>per_v3_7064a</th>\n",
       "    </tr>\n",
       "  </thead>\n",
       "  <tbody>\n",
       "    <tr>\n",
       "      <th>0</th>\n",
       "      <td>5102.0</td>\n",
       "      <td>2.0.0 (2018-01-02)</td>\n",
       "      <td>doi:10.4232/1.12830</td>\n",
       "      <td>Party of European Socialists</td>\n",
       "      <td>PES</td>\n",
       "      <td>1979.0</td>\n",
       "      <td>Inapplicable</td>\n",
       "      <td>Europe</td>\n",
       "      <td>Europe</td>\n",
       "      <td>10_79</td>\n",
       "      <td>...</td>\n",
       "      <td>Unavailable</td>\n",
       "      <td>0.000000</td>\n",
       "      <td>0.625000</td>\n",
       "      <td>0.625000</td>\n",
       "      <td>Unavailable</td>\n",
       "      <td>Unavailable</td>\n",
       "      <td>Unavailable</td>\n",
       "      <td>0.0</td>\n",
       "      <td>Unavailable</td>\n",
       "      <td>Unavailable</td>\n",
       "    </tr>\n",
       "    <tr>\n",
       "      <th>1</th>\n",
       "      <td>5102.0</td>\n",
       "      <td>2.0.0 (2018-01-02)</td>\n",
       "      <td>doi:10.4232/1.12830</td>\n",
       "      <td>Group of the Alliance of Liberals and Democrat...</td>\n",
       "      <td>ALDE</td>\n",
       "      <td>1979.0</td>\n",
       "      <td>Inapplicable</td>\n",
       "      <td>Europe</td>\n",
       "      <td>Europe</td>\n",
       "      <td>19_79</td>\n",
       "      <td>...</td>\n",
       "      <td>Unavailable</td>\n",
       "      <td>0.000000</td>\n",
       "      <td>0.540958</td>\n",
       "      <td>0.000000</td>\n",
       "      <td>Unavailable</td>\n",
       "      <td>Unavailable</td>\n",
       "      <td>Unavailable</td>\n",
       "      <td>0.0</td>\n",
       "      <td>Unavailable</td>\n",
       "      <td>Unavailable</td>\n",
       "    </tr>\n",
       "    <tr>\n",
       "      <th>2</th>\n",
       "      <td>5102.0</td>\n",
       "      <td>2.0.0 (2018-01-02)</td>\n",
       "      <td>doi:10.4232/1.12830</td>\n",
       "      <td>European People's Party</td>\n",
       "      <td>EPP</td>\n",
       "      <td>1979.0</td>\n",
       "      <td>Inapplicable</td>\n",
       "      <td>Europe</td>\n",
       "      <td>Europe</td>\n",
       "      <td>10_79</td>\n",
       "      <td>...</td>\n",
       "      <td>Unavailable</td>\n",
       "      <td>0.000000</td>\n",
       "      <td>1.428571</td>\n",
       "      <td>0.000000</td>\n",
       "      <td>Unavailable</td>\n",
       "      <td>Unavailable</td>\n",
       "      <td>Unavailable</td>\n",
       "      <td>0.0</td>\n",
       "      <td>Unavailable</td>\n",
       "      <td>Unavailable</td>\n",
       "    </tr>\n",
       "    <tr>\n",
       "      <th>3</th>\n",
       "      <td>5102.0</td>\n",
       "      <td>2.0.0 (2018-01-02)</td>\n",
       "      <td>doi:10.4232/1.12830</td>\n",
       "      <td>Socialistisk Folkeparti</td>\n",
       "      <td>SF</td>\n",
       "      <td>1979.0</td>\n",
       "      <td>1</td>\n",
       "      <td>Denmark</td>\n",
       "      <td>Denmark</td>\n",
       "      <td>13_79</td>\n",
       "      <td>...</td>\n",
       "      <td>Unavailable</td>\n",
       "      <td>0.000000</td>\n",
       "      <td>0.000000</td>\n",
       "      <td>0.000000</td>\n",
       "      <td>Unavailable</td>\n",
       "      <td>Unavailable</td>\n",
       "      <td>Unavailable</td>\n",
       "      <td>0.0</td>\n",
       "      <td>Unavailable</td>\n",
       "      <td>Unavailable</td>\n",
       "    </tr>\n",
       "    <tr>\n",
       "      <th>4</th>\n",
       "      <td>5102.0</td>\n",
       "      <td>2.0.0 (2018-01-02)</td>\n",
       "      <td>doi:10.4232/1.12830</td>\n",
       "      <td>Socialdemokraterne</td>\n",
       "      <td>S</td>\n",
       "      <td>1979.0</td>\n",
       "      <td>3</td>\n",
       "      <td>Denmark</td>\n",
       "      <td>Denmark</td>\n",
       "      <td>13_79</td>\n",
       "      <td>...</td>\n",
       "      <td>Unavailable</td>\n",
       "      <td>0.000000</td>\n",
       "      <td>0.000000</td>\n",
       "      <td>0.877193</td>\n",
       "      <td>Unavailable</td>\n",
       "      <td>Unavailable</td>\n",
       "      <td>Unavailable</td>\n",
       "      <td>0.0</td>\n",
       "      <td>Unavailable</td>\n",
       "      <td>Unavailable</td>\n",
       "    </tr>\n",
       "    <tr>\n",
       "      <th>...</th>\n",
       "      <td>...</td>\n",
       "      <td>...</td>\n",
       "      <td>...</td>\n",
       "      <td>...</td>\n",
       "      <td>...</td>\n",
       "      <td>...</td>\n",
       "      <td>...</td>\n",
       "      <td>...</td>\n",
       "      <td>...</td>\n",
       "      <td>...</td>\n",
       "      <td>...</td>\n",
       "      <td>...</td>\n",
       "      <td>...</td>\n",
       "      <td>...</td>\n",
       "      <td>...</td>\n",
       "      <td>...</td>\n",
       "      <td>...</td>\n",
       "      <td>...</td>\n",
       "      <td>...</td>\n",
       "      <td>...</td>\n",
       "      <td>...</td>\n",
       "    </tr>\n",
       "    <tr>\n",
       "      <th>972</th>\n",
       "      <td>5102.0</td>\n",
       "      <td>2.0.0 (2018-01-02)</td>\n",
       "      <td>doi:10.4232/1.12830</td>\n",
       "      <td>Socialni Demokrati</td>\n",
       "      <td>SD</td>\n",
       "      <td>2014.0</td>\n",
       "      <td>1</td>\n",
       "      <td>Slovenia</td>\n",
       "      <td>Slovenia</td>\n",
       "      <td>97_14</td>\n",
       "      <td>...</td>\n",
       "      <td>0</td>\n",
       "      <td>0.653595</td>\n",
       "      <td>0.653595</td>\n",
       "      <td>1.307190</td>\n",
       "      <td>0</td>\n",
       "      <td>0</td>\n",
       "      <td>0</td>\n",
       "      <td>0.0</td>\n",
       "      <td>0</td>\n",
       "      <td>0</td>\n",
       "    </tr>\n",
       "    <tr>\n",
       "      <th>973</th>\n",
       "      <td>5102.0</td>\n",
       "      <td>2.0.0 (2018-01-02)</td>\n",
       "      <td>doi:10.4232/1.12830</td>\n",
       "      <td>Verjamem</td>\n",
       "      <td>Verjamem</td>\n",
       "      <td>2014.0</td>\n",
       "      <td>1</td>\n",
       "      <td>Slovenia</td>\n",
       "      <td>Slovenia</td>\n",
       "      <td>97_14</td>\n",
       "      <td>...</td>\n",
       "      <td>0</td>\n",
       "      <td>0.000000</td>\n",
       "      <td>0.000000</td>\n",
       "      <td>0.000000</td>\n",
       "      <td>0</td>\n",
       "      <td>0</td>\n",
       "      <td>0</td>\n",
       "      <td>0.0</td>\n",
       "      <td>0</td>\n",
       "      <td>0</td>\n",
       "    </tr>\n",
       "    <tr>\n",
       "      <th>974</th>\n",
       "      <td>5102.0</td>\n",
       "      <td>2.0.0 (2018-01-02)</td>\n",
       "      <td>doi:10.4232/1.12830</td>\n",
       "      <td>Zares</td>\n",
       "      <td>Zares</td>\n",
       "      <td>2014.0</td>\n",
       "      <td>0</td>\n",
       "      <td>Slovenia</td>\n",
       "      <td>Slovenia</td>\n",
       "      <td>97_14</td>\n",
       "      <td>...</td>\n",
       "      <td>0</td>\n",
       "      <td>0.000000</td>\n",
       "      <td>0.000000</td>\n",
       "      <td>0.000000</td>\n",
       "      <td>0</td>\n",
       "      <td>0</td>\n",
       "      <td>0</td>\n",
       "      <td>0.0</td>\n",
       "      <td>0</td>\n",
       "      <td>0</td>\n",
       "    </tr>\n",
       "    <tr>\n",
       "      <th>975</th>\n",
       "      <td>5102.0</td>\n",
       "      <td>2.0.0 (2018-01-02)</td>\n",
       "      <td>doi:10.4232/1.12830</td>\n",
       "      <td>Nova Slovenija - Slovenska Ljudska Stranka</td>\n",
       "      <td>NSi-SLS</td>\n",
       "      <td>2014.0</td>\n",
       "      <td>2</td>\n",
       "      <td>Slovenia</td>\n",
       "      <td>Slovenia</td>\n",
       "      <td>97_14</td>\n",
       "      <td>...</td>\n",
       "      <td>0</td>\n",
       "      <td>0.000000</td>\n",
       "      <td>0.000000</td>\n",
       "      <td>0.000000</td>\n",
       "      <td>0</td>\n",
       "      <td>0</td>\n",
       "      <td>0</td>\n",
       "      <td>0.0</td>\n",
       "      <td>0</td>\n",
       "      <td>0</td>\n",
       "    </tr>\n",
       "    <tr>\n",
       "      <th>976</th>\n",
       "      <td>5102.0</td>\n",
       "      <td>2.0.0 (2018-01-02)</td>\n",
       "      <td>doi:10.4232/1.12830</td>\n",
       "      <td>DemokratiÄ_na Stranka Upokojencev Slovenije</td>\n",
       "      <td>DeSUS</td>\n",
       "      <td>2014.0</td>\n",
       "      <td>1</td>\n",
       "      <td>Slovenia</td>\n",
       "      <td>Slovenia</td>\n",
       "      <td>97_14</td>\n",
       "      <td>...</td>\n",
       "      <td>0</td>\n",
       "      <td>1.102941</td>\n",
       "      <td>4.044117</td>\n",
       "      <td>2.205882</td>\n",
       "      <td>0</td>\n",
       "      <td>0</td>\n",
       "      <td>0</td>\n",
       "      <td>0.0</td>\n",
       "      <td>0</td>\n",
       "      <td>0</td>\n",
       "    </tr>\n",
       "  </tbody>\n",
       "</table>\n",
       "<p>977 rows × 763 columns</p>\n",
       "</div>"
      ],
      "text/plain": [
       "      za_nr             version                  doi  \\\n",
       "0    5102.0  2.0.0 (2018-01-02)  doi:10.4232/1.12830   \n",
       "1    5102.0  2.0.0 (2018-01-02)  doi:10.4232/1.12830   \n",
       "2    5102.0  2.0.0 (2018-01-02)  doi:10.4232/1.12830   \n",
       "3    5102.0  2.0.0 (2018-01-02)  doi:10.4232/1.12830   \n",
       "4    5102.0  2.0.0 (2018-01-02)  doi:10.4232/1.12830   \n",
       "..      ...                 ...                  ...   \n",
       "972  5102.0  2.0.0 (2018-01-02)  doi:10.4232/1.12830   \n",
       "973  5102.0  2.0.0 (2018-01-02)  doi:10.4232/1.12830   \n",
       "974  5102.0  2.0.0 (2018-01-02)  doi:10.4232/1.12830   \n",
       "975  5102.0  2.0.0 (2018-01-02)  doi:10.4232/1.12830   \n",
       "976  5102.0  2.0.0 (2018-01-02)  doi:10.4232/1.12830   \n",
       "\n",
       "                                             partyname  initials    year  \\\n",
       "0                         Party of European Socialists       PES  1979.0   \n",
       "1    Group of the Alliance of Liberals and Democrat...      ALDE  1979.0   \n",
       "2                              European People's Party       EPP  1979.0   \n",
       "3                              Socialistisk Folkeparti        SF  1979.0   \n",
       "4                                   Socialdemokraterne         S  1979.0   \n",
       "..                                                 ...       ...     ...   \n",
       "972                                 Socialni Demokrati        SD  2014.0   \n",
       "973                                           Verjamem  Verjamem  2014.0   \n",
       "974                                              Zares     Zares  2014.0   \n",
       "975         Nova Slovenija - Slovenska Ljudska Stranka   NSi-SLS  2014.0   \n",
       "976        DemokratiÄ_na Stranka Upokojencev Slovenije     DeSUS  2014.0   \n",
       "\n",
       "          EPseats   country    region country_year  ... per_v3_7063b  \\\n",
       "0    Inapplicable    Europe    Europe        10_79  ...  Unavailable   \n",
       "1    Inapplicable    Europe    Europe        19_79  ...  Unavailable   \n",
       "2    Inapplicable    Europe    Europe        10_79  ...  Unavailable   \n",
       "3               1   Denmark   Denmark        13_79  ...  Unavailable   \n",
       "4               3   Denmark   Denmark        13_79  ...  Unavailable   \n",
       "..            ...       ...       ...          ...  ...          ...   \n",
       "972             1  Slovenia  Slovenia        97_14  ...            0   \n",
       "973             1  Slovenia  Slovenia        97_14  ...            0   \n",
       "974             0  Slovenia  Slovenia        97_14  ...            0   \n",
       "975             2  Slovenia  Slovenia        97_14  ...            0   \n",
       "976             1  Slovenia  Slovenia        97_14  ...            0   \n",
       "\n",
       "    per_v1_7063a per_v2_7063a per_v3_7063a per_v1_7064b per_v2_7064b  \\\n",
       "0       0.000000     0.625000     0.625000  Unavailable  Unavailable   \n",
       "1       0.000000     0.540958     0.000000  Unavailable  Unavailable   \n",
       "2       0.000000     1.428571     0.000000  Unavailable  Unavailable   \n",
       "3       0.000000     0.000000     0.000000  Unavailable  Unavailable   \n",
       "4       0.000000     0.000000     0.877193  Unavailable  Unavailable   \n",
       "..           ...          ...          ...          ...          ...   \n",
       "972     0.653595     0.653595     1.307190            0            0   \n",
       "973     0.000000     0.000000     0.000000            0            0   \n",
       "974     0.000000     0.000000     0.000000            0            0   \n",
       "975     0.000000     0.000000     0.000000            0            0   \n",
       "976     1.102941     4.044117     2.205882            0            0   \n",
       "\n",
       "    per_v3_7064b per_v1_7064a per_v2_7064a per_v3_7064a  \n",
       "0    Unavailable          0.0  Unavailable  Unavailable  \n",
       "1    Unavailable          0.0  Unavailable  Unavailable  \n",
       "2    Unavailable          0.0  Unavailable  Unavailable  \n",
       "3    Unavailable          0.0  Unavailable  Unavailable  \n",
       "4    Unavailable          0.0  Unavailable  Unavailable  \n",
       "..           ...          ...          ...          ...  \n",
       "972            0          0.0            0            0  \n",
       "973            0          0.0            0            0  \n",
       "974            0          0.0            0            0  \n",
       "975            0          0.0            0            0  \n",
       "976            0          0.0            0            0  \n",
       "\n",
       "[977 rows x 763 columns]"
      ]
     },
     "execution_count": 20,
     "metadata": {},
     "output_type": "execute_result"
    }
   ],
   "source": [
    "\n",
    "euromanifesto = pd.read_stata(dataset_folder + \"ZA5102_v2-0-0.dta\")\n",
    "euromanifesto"
   ]
  },
  {
   "cell_type": "code",
   "execution_count": 21,
   "metadata": {},
   "outputs": [
    {
     "data": {
      "text/html": [
       "<div>\n",
       "<style scoped>\n",
       "    .dataframe tbody tr th:only-of-type {\n",
       "        vertical-align: middle;\n",
       "    }\n",
       "\n",
       "    .dataframe tbody tr th {\n",
       "        vertical-align: top;\n",
       "    }\n",
       "\n",
       "    .dataframe thead th {\n",
       "        text-align: right;\n",
       "    }\n",
       "</style>\n",
       "<table border=\"1\" class=\"dataframe\">\n",
       "  <thead>\n",
       "    <tr style=\"text-align: right;\">\n",
       "      <th></th>\n",
       "      <th>Unnamed: 0</th>\n",
       "      <th>emp_2014</th>\n",
       "      <th>value</th>\n",
       "      <th>mp_hb4</th>\n",
       "      <th>mp_hb5</th>\n",
       "    </tr>\n",
       "  </thead>\n",
       "  <tbody>\n",
       "    <tr>\n",
       "      <th>0</th>\n",
       "      <td>1</td>\n",
       "      <td>per101b</td>\n",
       "      <td>FSR General - Neg</td>\n",
       "      <td>per102</td>\n",
       "      <td>per102</td>\n",
       "    </tr>\n",
       "    <tr>\n",
       "      <th>1</th>\n",
       "      <td>2</td>\n",
       "      <td>per101a</td>\n",
       "      <td>FSR General - Pos</td>\n",
       "      <td>per101</td>\n",
       "      <td>per101</td>\n",
       "    </tr>\n",
       "    <tr>\n",
       "      <th>2</th>\n",
       "      <td>3</td>\n",
       "      <td>per1011b</td>\n",
       "      <td>FSR to Eastern European Countries (EECs) of th...</td>\n",
       "      <td>per102</td>\n",
       "      <td>per102</td>\n",
       "    </tr>\n",
       "    <tr>\n",
       "      <th>3</th>\n",
       "      <td>4</td>\n",
       "      <td>per1011a</td>\n",
       "      <td>FSR to Eastern European Countries (EECs) of th...</td>\n",
       "      <td>per101</td>\n",
       "      <td>per101</td>\n",
       "    </tr>\n",
       "    <tr>\n",
       "      <th>4</th>\n",
       "      <td>5</td>\n",
       "      <td>per10111b</td>\n",
       "      <td>FSR to EECs not in the EU (No Ukraine) - Neg</td>\n",
       "      <td>per102</td>\n",
       "      <td>per102</td>\n",
       "    </tr>\n",
       "    <tr>\n",
       "      <th>...</th>\n",
       "      <td>...</td>\n",
       "      <td>...</td>\n",
       "      <td>...</td>\n",
       "      <td>...</td>\n",
       "      <td>...</td>\n",
       "    </tr>\n",
       "    <tr>\n",
       "      <th>234</th>\n",
       "      <td>235</td>\n",
       "      <td>per7063b</td>\n",
       "      <td>NEDG: Young People - Neg</td>\n",
       "      <td>0</td>\n",
       "      <td>0</td>\n",
       "    </tr>\n",
       "    <tr>\n",
       "      <th>235</th>\n",
       "      <td>236</td>\n",
       "      <td>per7063a</td>\n",
       "      <td>NEDG: Young People - Pos</td>\n",
       "      <td>per706</td>\n",
       "      <td>per706</td>\n",
       "    </tr>\n",
       "    <tr>\n",
       "      <th>236</th>\n",
       "      <td>237</td>\n",
       "      <td>per7064b</td>\n",
       "      <td>NEDG: Linguistic Groups - Neg</td>\n",
       "      <td>0</td>\n",
       "      <td>0</td>\n",
       "    </tr>\n",
       "    <tr>\n",
       "      <th>237</th>\n",
       "      <td>238</td>\n",
       "      <td>per7064a</td>\n",
       "      <td>NEDG: Linguistic Groups - Pos</td>\n",
       "      <td>per706</td>\n",
       "      <td>per706</td>\n",
       "    </tr>\n",
       "    <tr>\n",
       "      <th>238</th>\n",
       "      <td>239</td>\n",
       "      <td>per_v_6012</td>\n",
       "      <td>Cyprus Issue (Cyprus only)</td>\n",
       "      <td>0</td>\n",
       "      <td>0</td>\n",
       "    </tr>\n",
       "  </tbody>\n",
       "</table>\n",
       "<p>239 rows × 5 columns</p>\n",
       "</div>"
      ],
      "text/plain": [
       "     Unnamed: 0    emp_2014  \\\n",
       "0             1     per101b   \n",
       "1             2     per101a   \n",
       "2             3    per1011b   \n",
       "3             4    per1011a   \n",
       "4             5   per10111b   \n",
       "..          ...         ...   \n",
       "234         235    per7063b   \n",
       "235         236    per7063a   \n",
       "236         237    per7064b   \n",
       "237         238    per7064a   \n",
       "238         239  per_v_6012   \n",
       "\n",
       "                                                 value  mp_hb4  mp_hb5  \n",
       "0                                   FSR General - Neg   per102  per102  \n",
       "1                                   FSR General - Pos   per101  per101  \n",
       "2    FSR to Eastern European Countries (EECs) of th...  per102  per102  \n",
       "3    FSR to Eastern European Countries (EECs) of th...  per101  per101  \n",
       "4        FSR to EECs not in the EU (No Ukraine) - Neg   per102  per102  \n",
       "..                                                 ...     ...     ...  \n",
       "234                          NEDG: Young People - Neg        0       0  \n",
       "235                          NEDG: Young People - Pos   per706  per706  \n",
       "236                     NEDG: Linguistic Groups - Neg        0       0  \n",
       "237                     NEDG: Linguistic Groups - Pos   per706  per706  \n",
       "238                         Cyprus Issue (Cyprus only)       0       0  \n",
       "\n",
       "[239 rows x 5 columns]"
      ]
     },
     "execution_count": 21,
     "metadata": {},
     "output_type": "execute_result"
    }
   ],
   "source": [
    "euro_mcp = pd.read_excel(dataset_folder + \"emp_mpds_mapping.xlsx\")\n",
    "euro_mcp#"
   ]
  },
  {
   "cell_type": "code",
   "execution_count": null,
   "metadata": {},
   "outputs": [],
   "source": []
  },
  {
   "cell_type": "code",
   "execution_count": null,
   "metadata": {},
   "outputs": [],
   "source": []
  },
  {
   "cell_type": "code",
   "execution_count": null,
   "metadata": {},
   "outputs": [],
   "source": []
  },
  {
   "cell_type": "code",
   "execution_count": null,
   "metadata": {},
   "outputs": [],
   "source": []
  }
 ],
 "metadata": {
  "kernelspec": {
   "display_name": "Python [conda env:BES_analysis] *",
   "language": "python",
   "name": "conda-env-BES_analysis-py"
  },
  "language_info": {
   "codemirror_mode": {
    "name": "ipython",
    "version": 3
   },
   "file_extension": ".py",
   "mimetype": "text/x-python",
   "name": "python",
   "nbconvert_exporter": "python",
   "pygments_lexer": "ipython3",
   "version": "3.7.6"
  }
 },
 "nbformat": 4,
 "nbformat_minor": 4
}
