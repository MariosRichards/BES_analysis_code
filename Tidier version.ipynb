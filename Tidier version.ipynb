{
 "cells": [
  {
   "cell_type": "raw",
   "metadata": {},
   "source": [
    "# British Election Study dataset\n",
    "\n",
    "# Very big (30,000+), multiple waves (we're up to 9 now) tracking some of the same people\n",
    "#\n",
    "\n",
    "\n",
    "\n"
   ]
  },
  {
   "cell_type": "code",
   "execution_count": 1,
   "metadata": {
    "collapsed": true
   },
   "outputs": [],
   "source": [
    "import numpy as np\n",
    "import pandas as pd\n",
    "%matplotlib inline\n",
    "import matplotlib.pyplot as plt\n",
    "import gc\n",
    "import re\n",
    "\n",
    "from sklearn import datasets\n",
    "from sklearn.decomposition import PCA\n",
    "from sklearn.discriminant_analysis import LinearDiscriminantAnalysis"
   ]
  },
  {
   "cell_type": "code",
   "execution_count": 2,
   "metadata": {
    "collapsed": false
   },
   "outputs": [
    {
     "name": "stdout",
     "output_type": "stream",
     "text": [
      "(31409, 733)\n",
      "Wall time: 13.3 s\n"
     ]
    }
   ],
   "source": [
    "%%time\n",
    "# Load BES Panel for Wave 8\n",
    "BES_Panel = pd.read_stata(\"../BES_analysis_data/BES2015_W8_v1.3.dta\")\n",
    "#(31409, 733)\n",
    "\n",
    "# BES_Panel = pd.read_stata(\"../BES_analysis_data/BES2015_W8_v1.6.dta\")\n",
    "\n",
    "print( BES_Panel.shape )"
   ]
  },
  {
   "cell_type": "code",
   "execution_count": 3,
   "metadata": {
    "collapsed": false
   },
   "outputs": [
    {
     "name": "stdout",
     "output_type": "stream",
     "text": [
      "respondents not from England:  11944\n",
      "respondents not Remain/Leave:  2344\n",
      "(17979, 733)\n"
     ]
    }
   ],
   "source": [
    "# Select only respondents from England who answer Stay/Remain to euVote\n",
    "England = (BES_Panel[\"country\"]==\"England\").values\n",
    "print ( \"respondents not from England: \", sum(BES_Panel[\"country\"]!=\"England\") )\n",
    "Remain  = (BES_Panel[\"euRefVote\"].cat.codes==0).values\n",
    "Leave   = (BES_Panel[\"euRefVote\"].cat.codes==1).values\n",
    "print ( \"respondents not Remain/Leave: \", len(BES_Panel[~(Remain | Leave)]) )\n",
    "BES_reduced = BES_Panel[England & (Remain | Leave)]\n",
    "print( BES_reduced.shape )"
   ]
  },
  {
   "cell_type": "code",
   "execution_count": 4,
   "metadata": {
    "collapsed": false
   },
   "outputs": [],
   "source": [
    "BES_reduced = BES_Panel"
   ]
  },
  {
   "cell_type": "code",
   "execution_count": null,
   "metadata": {
    "collapsed": false
   },
   "outputs": [],
   "source": []
  },
  {
   "cell_type": "code",
   "execution_count": null,
   "metadata": {
    "collapsed": false
   },
   "outputs": [],
   "source": []
  },
  {
   "cell_type": "code",
   "execution_count": 5,
   "metadata": {
    "collapsed": false
   },
   "outputs": [],
   "source": [
    "# null_corr = BES_null.corr()\n",
    "# a = null_corr.sum()\n",
    "# full_list = a[a.isnull()].index\n",
    "# null_list = a[a.notnull()].index\n",
    "# null_corr = BES_null[null_list].corr()\n",
    "# null_corr.stack().value_counts()\n",
    "# BES_Panel[\"coverage\"] = BES_Panel.isnull().mean(axis=1)\n",
    "# BES_Panel.corr()[\"coverage\"].sort_values()\n",
    "# BES_cats = BES_Panel[ BES_Panel.columns[ BES_Panel.dtypes==\"category\" ] ].apply(lambda x: x.cat.codes)\n",
    "# BES_cats[\"coverage\"] = BES_Panel[\"coverage\"]\n",
    "# BES_cats.corr()[\"coverage\"].sort_values()"
   ]
  },
  {
   "cell_type": "code",
   "execution_count": null,
   "metadata": {
    "collapsed": false
   },
   "outputs": [],
   "source": []
  },
  {
   "cell_type": "code",
   "execution_count": null,
   "metadata": {
    "collapsed": true
   },
   "outputs": [],
   "source": []
  },
  {
   "cell_type": "code",
   "execution_count": null,
   "metadata": {
    "collapsed": false
   },
   "outputs": [],
   "source": []
  },
  {
   "cell_type": "code",
   "execution_count": null,
   "metadata": {
    "collapsed": false
   },
   "outputs": [],
   "source": []
  },
  {
   "cell_type": "code",
   "execution_count": null,
   "metadata": {
    "collapsed": false
   },
   "outputs": [],
   "source": []
  },
  {
   "cell_type": "code",
   "execution_count": null,
   "metadata": {
    "collapsed": false
   },
   "outputs": [],
   "source": []
  },
  {
   "cell_type": "code",
   "execution_count": null,
   "metadata": {
    "collapsed": false
   },
   "outputs": [],
   "source": []
  },
  {
   "cell_type": "code",
   "execution_count": null,
   "metadata": {
    "collapsed": false
   },
   "outputs": [],
   "source": []
  },
  {
   "cell_type": "code",
   "execution_count": null,
   "metadata": {
    "collapsed": false
   },
   "outputs": [],
   "source": []
  },
  {
   "cell_type": "code",
   "execution_count": null,
   "metadata": {
    "collapsed": false
   },
   "outputs": [],
   "source": []
  },
  {
   "cell_type": "code",
   "execution_count": null,
   "metadata": {
    "collapsed": false
   },
   "outputs": [],
   "source": []
  },
  {
   "cell_type": "code",
   "execution_count": null,
   "metadata": {
    "collapsed": false
   },
   "outputs": [],
   "source": []
  },
  {
   "cell_type": "code",
   "execution_count": null,
   "metadata": {
    "collapsed": false
   },
   "outputs": [],
   "source": []
  },
  {
   "cell_type": "code",
   "execution_count": null,
   "metadata": {
    "collapsed": false
   },
   "outputs": [],
   "source": []
  },
  {
   "cell_type": "code",
   "execution_count": null,
   "metadata": {
    "collapsed": false
   },
   "outputs": [],
   "source": []
  },
  {
   "cell_type": "code",
   "execution_count": 6,
   "metadata": {
    "collapsed": false
   },
   "outputs": [
    {
     "name": "stdout",
     "output_type": "stream",
     "text": [
      "Wall time: 0 ns\n"
     ]
    }
   ],
   "source": [
    "%%time\n",
    "# changing the order of some sets of categories\n",
    "change_cat_dict = {\"Bad time to buy|Good time to buy|Neither good nor bad time to buy|Don't know\": [\"Bad time to buy\",\n",
    "                                                                                                    \"Neither good nor bad time to buy\",\n",
    "                                                                                                    \"Good time to buy\",\n",
    "                                                                                                    \"Don't know\"],\n",
    "                   \"Larger|Smaller|About the same|Don't know\": [\"Larger\", \"About the same\", \"Smaller\"],\n",
    "                   \"Yes|No|99.0\":       ['No', 'Yes', '99.0'],\n",
    "                   \"Yes|No|Don't know\": ['No', 'Yes', \"Don't know\"],\n",
    "                   \"Yes|No\" :           ['No', 'Yes'],\n",
    "                   \"Yes, voted|No, did not vote|Donâ??t know\" : ['No, did not vote', 'Yes, voted', 'Donâ??t know'],\n",
    "                   \"Yes, voted|No, did not vote|Don?t know\"   : ['No, did not vote', 'Yes, voted', 'Don?t know'],                   \n",
    "                   \"I would/will not vote|Leave the EU|Stay/remain in the EU|Don't know\": ['Stay/remain in the EU',\n",
    "                                                                                           'Leave the EU', 'I would/will not vote', \"Don't know\"],\n",
    "                   \"Mainly leave|Mainly remain|Fairly evenly divided|Don't know\": [\"Mainly remain\",\n",
    "                                                                                   \"Fairly evenly divided\", \"Mainly leave\", \"Don't know\"],\n",
    "                   'An individual share in a company|A portfolio of different company shares|The risk is the same|Don\\x92t know|Prefer not to say':\n",
    "                       ['An individual share in a company', 'The risk is the same', 'A portfolio of different company shares'],\n",
    "                   \"No, I have never been a member|Yes, I am a member of a party|I am not a member now but I used to be|Don't know\":\n",
    "                       ['No, I have never been a member', 'I am not a member now but I used to be', 'Yes, I am a member of a party', \"Don't know\"],\n",
    "                   \"Never or practically never|Less often than once a year|Less often but at least once a year|Less often but at least twice a year|Less often but at least once a month|Less often but at least once in two weeks|Once a week or more|Varies too much to say|I am not religious|Don't know\": ['I am not religious', 'Never or practically never', 'Less often than once a year', 'Less often but at least once a year', 'Less often but at least twice a year', 'Less often but at least once a month', 'Less often but at least once in two weeks', 'Once a week or more']\n",
    "                  }\n",
    "\n",
    "                   \n",
    "Weasel_answers = [\"Don't know\", 'Do\\x92t know', 'Dont know', 'Donât know', 'Don??t know',\n",
    "                  \"Prefer not to say\", \"Prefer not to answer\", \"Refused\", \"Unknown\",\n",
    "                  \"Neither\", \"Other\", \"I would/will not vote\", \"Will not vote\",\n",
    "                  \"I would not vote\", \"It depends\", \"Other\",\n",
    "                  \"Don’t follow politics on Facebook\", \"Don't follow politics on twitter\",\n",
    "                  \"Yes, other\", \"Haven't thought about it\",\n",
    "                  \"There wasn't a local election in my area\", \"No, haven't received it\",\n",
    "                  \"I don't know what was negotiated\", \"I never received a response\",\n",
    "                  \"There are not local elections in my area\", \"Can't remember\",\n",
    "                  \"Varies too much to say\", \"Will not state a choice\",\n",
    "                  \"All leaders equally good\", \"They are not eligible to vote\",\n",
    "                  \"There are not local elections in my area\"]\n",
    "\n",
    "Weasel_number_answers = [ \"9999.0\", \"997.0\", \"222.0\", \"99.0\", \"0.0\" ]\n",
    "\n",
    "# ADD\n",
    "# 9999.0\n",
    "# 99.0 - unfortunately, it also appears in some numerical answers\n",
    "# Probably need to have a separate check - e.g. is the preceding category \"98.0\"/\"98\"\n",
    "\n",
    "# non-answer answers\n",
    "Weasel_set = set(Weasel_answers) # gets rid of duplicates!\n",
    "\n",
    "\n",
    "## define 'de_Weasel' function to remove Weasel Words from lists of options\n",
    "## ie. \"Yes|No|Don't know\" -> \"Yes|No\"\n",
    "\n",
    "Weasel_answers = [\"Don't know\", 'Don?t know', 'Donâ??t know', 'Do\\x92t know', 'Dont know', 'Donât know', \"Prefer not to say\", \"Prefer not to answer\", \"Refused\", \"Unknown\", \"Neither\", \"Other\", \"I would/will not vote\", \"Will not vote\", \"No - not decided\", \"I would not vote\", \"It depends\", \"Other\", \"Don’t follow politics on Facebook\", \"Don't follow politics on twitter\", \"9999.0\", \"997.0\", \"222.0\", \"Yes, other\", \"Haven't thought about it\", \"There wasn't a local election in my area\", \"No, haven't received it\", \"I don't know what was negotiated\", \"I never received a response\", \"There are not local elections in my area\", \"Can't remember\", \"Varies too much to say\" ]\n",
    "\n",
    "# non-answer answers\n",
    "Weasel_set = set(Weasel_answers) # gets rid of duplicates!\n",
    "\n",
    "# remove weasel phrases\n",
    "def de_weasel(ques): \n",
    "\n",
    "    return \"|\".join( [x for x in ques.split(\"|\") if x not in Weasel_answers] )\n",
    "\n",
    "# reorder categories\n",
    "def re_order(ques):\n",
    "    if ques in change_cat_dict.keys():\n",
    "        return \"|\".join( change_cat_dict[ques] )\n",
    "    else:\n",
    "        return ques\n",
    "\n",
    "def de_num_el(el):\n",
    "    if el.isdigit():\n",
    "        el = \"%.1f\" % int( el )\n",
    "    return el\n",
    "\n",
    "def de_number(ques):\n",
    "    return \"|\".join( [de_num_el(x) for x in ques.split(\"|\")] )\n",
    "\n",
    "def de_num(ques):\n",
    "    return [de_num_el(x) for x in ques]\n",
    "\n",
    "def floatable(flt):\n",
    "    try:\n",
    "        float(flt)\n",
    "        return True\n",
    "    except:\n",
    "        return False\n",
    "\n",
    "# Weasel_number_answers\n",
    "# Remove 'weasel' numbers\n",
    "# but only if they are the last element\n",
    "# or not the last element, but the next is not a number\n",
    "# to avoid catching parts of sequential numerical categories\n",
    "def de_weasel_numbers(ques):\n",
    "    el_list = ques.split(\"|\")\n",
    "    el_list_len = len(el_list)\n",
    "    remove_list = []\n",
    "    for el_pos in range( 0, el_list_len ):\n",
    "        if el_list[el_pos] in Weasel_number_answers:\n",
    "            # last element, or not last element but next element is a not a number\n",
    "            if el_pos==(el_list_len-1) or not floatable(el_list[el_pos+1]):\n",
    "                remove_list.append(el_list[el_pos])\n",
    "\n",
    "    return \"|\".join( [x for x in el_list if x not in remove_list] )\n",
    "\n",
    "\n",
    "# version to act directly on cat.categories array\n",
    "def de_weasel_nums(el_list):\n",
    "\n",
    "    el_list_len = len(el_list)\n",
    "    remove_list = []\n",
    "    for el_pos in range( 0, el_list_len ):\n",
    "        if el_list[el_pos] in Weasel_number_answers:\n",
    "            # last element, or not last element but next element is a not a number\n",
    "            if el_pos==(el_list_len-1) or not floatable(el_list[el_pos+1]):\n",
    "                remove_list.append(el_list[el_pos])\n",
    "\n",
    "    return remove_list\n",
    "\n",
    "# s.cat.rename_categories([1,2,3])\n",
    "# EUContactRemainConW8|EUContactRemainLabW8|EUContactRemainLDW8|\n",
    "# EUContactRemainSNPW8|EUContactRemainPCW8|EUContactRemainUKIPW8|\n",
    "# EUContactRemainGreenW8|EUContactRemainOthW8|EUContactRemainNoneW8|\n",
    "# EUContactRemainDKW8|EUContactLeaveConW8|EUContactLeaveLabW8|\n",
    "# EUContactLeaveLDW8|EUContactLeaveSNPW8|EUContactLeavePCW8|\n",
    "# EUContactLeaveUKIPW8|EUContactLeaveGreenW8|EUContactLeaveOthW8|\n",
    "# EUContactLeaveNoneW8|EUContactLeaveDKW8\n",
    "\n",
    "# pattern match \"EUContact*****W8\"\n",
    "# debateOneWatchW8|debateTwoWatchW8\n",
    "\n",
    "# \"1.0|2.0|99.0\" -> \n",
    "\n",
    "# euRefVoteSqueezeW7 \"Will not vote|Yes - Leave|Yes - Remain|No - not decided\"\n",
    "#    -> Stay/remain in the EU|Leave the EU|I would/will not vote|Don't know\n",
    "#    HMM - RENAME AND REORDER!\n",
    "\n",
    "# miieuW7\n",
    "# \"Issue stated|Nothing|Don't know\" -> \"Issue stated|None|Don't know\"\n",
    "# MIIEUW8\n",
    "# \"1.0|Nothing|Don't know\" -> \"Issue stated|None|Don't know\"\n",
    "# partyIdEUW7|partyIdEUW8\n",
    "# \"Mainly leave|Mainly remain|Fairly evenly split|Don't know\" -> \"Mainly remain|Fairly evenly divided|Mainly leave|Don't know\"\n",
    "#    HMM - RENAME AND REORDER!\n",
    "\n",
    "# 1. campaignVisionYesW3|campaignVisionNoW3, govtNatSecuritySuccessW4\n",
    "# Very unsuccessful|Fairly unsuccessful|Neither successful nor unsuccessful|Fairly successful|Very successful|Don't know\n",
    "# Very unsuccessful|Somewhat unsuccessful|Neither successful or unsuccessful|Somewhat successful|Very successful|Don't know\n",
    "\n",
    "# Fairly <-> Somewhat\n",
    "\n",
    "# 2. euroTurnoutW1, scotReferendumTurnoutW1|scotReferendumTurnoutW2|welshTurnoutW7|scotTurnoutW7, turnoutUKGeneralW1|turnoutUKGeneralW2|turnoutUKGeneralW3|turnoutUKGeneralW4|turnoutUKGeneralW5|euRefTurnoutW7|euRefTurnoutW8\n",
    "# Very unlikely that I vote|Fairly unlikely|Neither likely nor unlikely|Fairly likely|Very likely that I vote|Don't know\n",
    "# Very unlikely that I would vote|Fairly unlikely|Neither likely nor unlikely|Fairly likely|Very likely that I would vote|Don't know\n",
    "# There are not local elections in my area\n",
    "    #|Very unlikely that I will vote|Fairly unlikely|Neither likely nor unlikely|Fairly likely|Very likely that I will vote|Don't know\n",
    "# Very unlikely that I will vote|Fairly unlikely|Neither likely nor unlikely|Fairly likely|Very likely that I will vote|Don't know\n",
    "\n",
    "# \"Very unlikely that I vote\", \"Very unlikely that I would vote\" ->  \"Very unlikely that I will vote\" \n",
    "\n",
    "rename_cat_dict = {\"North East|North West\": [ \"No\", \"Yes\" ],\n",
    "                   \"1.0|2.0|99.0\": [\"No\", \"Yes\", \"99.0\"],\n",
    "                   \"Will not vote|Yes - Leave|Yes - Remain|No - not decided\": ['I would/will not vote', 'Leave the EU',\n",
    "                                                                               'Stay/remain in the EU', \"Don't know\"],\n",
    "                   \"Issue stated|Nothing|Don't know\":  ['Issue stated', 'None', \"Don't know\"],\n",
    "                   \"1.0|Nothing|Don't know\":           ['Issue stated', 'None', \"Don't know\"],\n",
    "                   \"a|b|C1|C2|d|e|Refused|Unknown\" : ['A', 'B', 'C1', 'C2', 'D', 'E', 'Refused', 'Unknown'],\n",
    "                   \"Mainly leave|Mainly remain|Fairly evenly split|Don't know\": ['Mainly leave',\n",
    "                                                                                 'Mainly remain', 'Fairly evenly divided', \"Don't know\"],\n",
    "                   \"Very unsuccessful|Somewhat unsuccessful|Neither successful or unsuccessful|Somewhat successful|Very successful|Don't know\": ['Very unsuccessful',\n",
    "                        'Fairly unsuccessful', 'Neither successful nor unsuccessful', 'Fairly successful', 'Very successful', \"Don't know\"],\n",
    "                   \"Very unlikely that I vote|Fairly unlikely|Neither likely nor unlikely|Fairly likely|Very likely that I vote|Don't know\": ['Very unlikely that I will vote',\n",
    "                     'Fairly unlikely', 'Neither likely nor unlikely', 'Fairly likely', 'Very likely that I will vote', \"Don't know\"],\n",
    "                   \"Very unlikely that I would vote|Fairly unlikely|Neither likely nor unlikely|Fairly likely|Very likely that I would vote|Don't know\": ['Very unlikely that I will vote',\n",
    "                     'Fairly unlikely', 'Neither likely nor unlikely', 'Fairly likely', 'Very likely that I will vote', \"Don't know\"],\n",
    "                   }\n",
    "\n",
    "\n",
    "def re_name(ques):\n",
    "    if ques in rename_cat_dict.keys():\n",
    "        return \"|\".join( rename_cat_dict[ques] )\n",
    "    else:\n",
    "        return ques\n",
    "\n",
    "\n",
    "ignore_list = ['approveEUW2',\n",
    "               'whichPartiesHelped_99W6',\n",
    "               'partyContactGrnW1',\n",
    "               'partyContactGrnW2',\n",
    "               'reasonNotRegistered_noneW2',\n",
    "               'partyContactGrnW3',\n",
    "               'reasonNotRegistered_noneW3',\n",
    "               'reasonNotRegistered_noneW4',\n",
    "               'reasonNotRegistered_noneW6',\n",
    "               'reasonNotRegistered_noneW7',\n",
    "               'reasonNotRegistered_noneW8',\n",
    "               'partyContactSNPW1',\n",
    "               'partyContactSNPW2',\n",
    "               'changeIssue1W9',\n",
    "               'conLeaderLikeW9'\n",
    "              ]\n",
    "\n",
    "#- approveEUW2 'Strongly disapprove|Disapprove|Don't know' - should be \"approve|disapprove|don't know\"??? NOT SURE (distribution weird)\n",
    "#- whichPartiesHelped_99W6 - answer set = [\"No\"]\n",
    "#- partyContactGrnW1 ... reasonNotRegistered_noneW8 answer set = [\"No\", \"Don't know\"]\n",
    "# -partyContactSNPW1, partyContactSNPW2 - answer set = [\"Don't know\"]\n",
    "# -changeIssue1W9|conLeaderLikeW9 - answer set = [\"No formal qualifications\"]\n",
    "\n",
    "## define 'prune' function to prune wave indicators and return question stubs\n",
    "## ie. \"ptvConW1|ptvLabW1\" -> \"ptvCon|ptvLab\"\n",
    "\n",
    "def prune(x):\n",
    "    \n",
    "    y= []\n",
    "    for el in x.split(\"|\"):\n",
    "        match_attempt = re.match('(\\w*?)_?(W[0-9]+)+' , el )   \n",
    "        if match_attempt:\n",
    "            el = match_attempt.groups()[0]\n",
    "        y.append(el)\n",
    "    # should we ditch identical repeats?\n",
    "    # return \"|\".join(set(y)) NEEDS TO BE TESTED\n",
    "    return \"|\".join(y)\n",
    "\n",
    "               \n",
    "def prune2(x):\n",
    "    \n",
    "    y= []\n",
    "    for el in x.split(\"|\"):\n",
    "        match_attempt = re.match('(\\w*?)_?[0-9]+' , el )   \n",
    "        if match_attempt:\n",
    "            el = match_attempt.groups()[0]\n",
    "        y.append(el)\n",
    "    # should we ditch identical repeats?\n",
    "    # return \"|\".join(set(y)) NEEDS TO BE TESTED\n",
    "    return \"|\".join(y)\n",
    "#variable_categories"
   ]
  },
  {
   "cell_type": "code",
   "execution_count": 7,
   "metadata": {
    "collapsed": false
   },
   "outputs": [],
   "source": [
    "variable_categories = pd.read_csv(\"question_categories_correct.csv\", encoding = \"ISO-8859-1\")\n",
    "\n",
    "# flipping list\n",
    "var_cat_dict = dict()\n",
    "for typ in [1,2,3,4,5,6]:\n",
    "    e = variable_categories[variable_categories.type==typ][\"column_name\"].values\n",
    "    var_cat_dict[typ] = [item for sublist in [i.split(\"|\") for i in e] for item in sublist]\n",
    "    \n",
    "# dictionary comprehension to prune column-names to wave non-specific stubs\n",
    "# list(set()) gets rid of repetitions\n",
    "var_cat_dict_pruned   = {k: list(set([prune(x)  for x in v])) for k, v in var_cat_dict.items()}\n",
    "var_cat_dict_pruned_2 = {k: list(set([prune2(x) for x in v])) for k, v in var_cat_dict_pruned.items()}"
   ]
  },
  {
   "cell_type": "code",
   "execution_count": 8,
   "metadata": {
    "collapsed": false,
    "scrolled": false
   },
   "outputs": [
    {
     "data": {
      "text/plain": [
       "[]"
      ]
     },
     "execution_count": 8,
     "metadata": {},
     "output_type": "execute_result"
    }
   ],
   "source": [
    "var_type = pd.DataFrame(columns = ['type'] )\n",
    "# df = DataFrame(columns=('lib', 'qty1', 'qty2'))\n",
    "\n",
    "missing_col_names = []\n",
    "\n",
    "for col in BES_reduced.columns:\n",
    "    dt =  BES_reduced[col].dtype.name # data type\n",
    "    not_found = False\n",
    "    if ( dt!='category' ) and ( dt!='float64' ):\n",
    "        var_type.loc[col] = -1\n",
    "    \n",
    "    elif ( dt=='float64' ) and (col in ['personality_agreeableness',\n",
    "                                        'personality_conscientiousness',\n",
    "                                        'personality_extraversion',\n",
    "                                        'personality_neuroticism',\n",
    "                                        'personality_openness',\n",
    "                                        'mapNamesW3',\n",
    "                                        'riskScaleW8']):\n",
    "        var_type.loc[col] = 0\n",
    "\n",
    "    elif ( dt=='float64' ):\n",
    "        var_type.loc[col] = -1\n",
    "\n",
    "    elif ( dt=='category' ):\n",
    "        not_found = True\n",
    "        for typ in [1,2,3,4,5,6]:\n",
    "            if prune2( prune(col) ) in var_cat_dict_pruned_2[typ]:\n",
    "                var_type.loc[col] = typ\n",
    "                not_found = False\n",
    "\n",
    "    if not_found == True:\n",
    "  #      print(\"what's up with this? \" + col, prune2( prune(col) ) )\n",
    "        missing_col_names.append(col)\n",
    "var_type[\"type\"] = var_type[\"type\"].astype(\"int8\")\n",
    "missing_col_names"
   ]
  },
  {
   "cell_type": "code",
   "execution_count": null,
   "metadata": {
    "collapsed": false
   },
   "outputs": [],
   "source": []
  },
  {
   "cell_type": "code",
   "execution_count": 9,
   "metadata": {
    "collapsed": false
   },
   "outputs": [],
   "source": [
    "if missing_col_names:\n",
    "\n",
    "    updated_variable_categories = variable_categories.copy()\n",
    "\n",
    "    # question\tfrequency\tquestion_length\tquestion_options\tcolumn_name\ttype\n",
    "\n",
    "    for i in missing_col_names:\n",
    "        str_list = [ str(cat) for cat in BES_reduced[i].cat.categories ]\n",
    "        joined_list = \"|\".join(str_list)\n",
    "        match  = (joined_list == updated_variable_categories[\"question\"])\n",
    "        # print(i, \" : \" , \"|\".join(str_list ), \" : \", len(str_list) )\n",
    "        if match.any(): # answer set already in records\n",
    "            index = updated_variable_categories[match].index\n",
    "            if len(index)>1: # answer set (\"question\") index should be unique!\n",
    "                raise ValueError('answer set (\"question\") index should be unique!')\n",
    "\n",
    "            # add column name and increase frequency\n",
    "            updated_variable_categories.loc[index,\"frequency\"] = updated_variable_categories.loc[index,\"frequency\"]+1\n",
    "            current_list_col_names = updated_variable_categories.loc[index,\"column_name\"].values[0].split(\"|\")\n",
    "            current_list_col_names.append(i)\n",
    "            updated_variable_categories.loc[index,\"column_name\"] = \"|\".join( current_list_col_names )\n",
    "        else: # answer set not already in records - add new line to dataframe\n",
    "            df = pd.DataFrame([],  columns = updated_variable_categories.columns )\n",
    "\n",
    "            df.loc[0] = [updated_variable_categories.shape[0],\n",
    "                         joined_list,\n",
    "                         1,\n",
    "                         len(joined_list),\n",
    "                         len(str_list),\n",
    "                         i,-1]\n",
    "            updated_variable_categories = updated_variable_categories.append(df, ignore_index=True)\n",
    "\n",
    "    variable_categories = updated_variable_categories\n",
    "    updated_variable_categories.to_csv(\"question_categories_correct_updatesneeded!.csv\", encoding = \"ISO-8859-1\")\n",
    "    \n",
    "    # rerun after updating list!\n",
    "    \n",
    "    #variable_categories = pd.read_csv(\"question_categories_correct.csv\", encoding = \"ISO-8859-1\")\n",
    "\n",
    "    # flipping list\n",
    "    var_cat_dict = dict()\n",
    "    for typ in [1,2,3,4,5,6]:\n",
    "        e = variable_categories[variable_categories.type==typ][\"column_name\"].values\n",
    "        var_cat_dict[typ] = [item for sublist in [i.split(\"|\") for i in e] for item in sublist]\n",
    "\n",
    "    # dictionary comprehension to prune column-names to wave non-specific stubs\n",
    "    # list(set()) gets rid of repetitions\n",
    "    var_cat_dict_pruned   = {k: list(set([prune(x)  for x in v])) for k, v in var_cat_dict.items()}\n",
    "    var_cat_dict_pruned_2 = {k: list(set([prune2(x) for x in v])) for k, v in var_cat_dict_pruned.items()}        \n",
    "        \n",
    "    var_type = pd.DataFrame(columns = ['type'] )\n",
    "    missing_col_names = []\n",
    "\n",
    "    for col in BES_reduced.columns:\n",
    "        dt =  BES_reduced[col].dtype.name # data type\n",
    "        not_found = False\n",
    "        if ( dt!='category' ) and ( dt!='float64' ):\n",
    "            var_type.loc[col] = -1\n",
    "\n",
    "        elif ( dt=='float64' ) and (col in ['personality_agreeableness',\n",
    "                                            'personality_conscientiousness',\n",
    "                                            'personality_extraversion',\n",
    "                                            'personality_neuroticism',\n",
    "                                            'personality_openness',\n",
    "                                            'mapNamesW3',\n",
    "                                            'riskScaleW8']):\n",
    "            var_type.loc[col] = 0\n",
    "\n",
    "        elif ( dt=='float64' ):\n",
    "            var_type.loc[col] = -1\n",
    "\n",
    "        elif ( dt=='category' ):\n",
    "            not_found = True\n",
    "            for typ in [1,2,3,4,5,6]:\n",
    "                if prune2( prune(col) ) in var_cat_dict_pruned_2[typ]:\n",
    "                    var_type.loc[col] = typ\n",
    "                    not_found = False\n",
    "\n",
    "        if not_found == True:\n",
    "            raise ValueError('Values still missing second time around! ', col)\n",
    "    var_type[\"type\"] = var_type[\"type\"].astype(\"int8\")"
   ]
  },
  {
   "cell_type": "code",
   "execution_count": null,
   "metadata": {
    "collapsed": false
   },
   "outputs": [],
   "source": []
  },
  {
   "cell_type": "code",
   "execution_count": null,
   "metadata": {
    "collapsed": false
   },
   "outputs": [],
   "source": []
  },
  {
   "cell_type": "code",
   "execution_count": null,
   "metadata": {
    "collapsed": false
   },
   "outputs": [],
   "source": []
  },
  {
   "cell_type": "code",
   "execution_count": null,
   "metadata": {
    "collapsed": false
   },
   "outputs": [],
   "source": []
  },
  {
   "cell_type": "code",
   "execution_count": null,
   "metadata": {
    "collapsed": false
   },
   "outputs": [],
   "source": []
  },
  {
   "cell_type": "code",
   "execution_count": null,
   "metadata": {
    "collapsed": false
   },
   "outputs": [],
   "source": []
  },
  {
   "cell_type": "code",
   "execution_count": null,
   "metadata": {
    "collapsed": false
   },
   "outputs": [],
   "source": []
  },
  {
   "cell_type": "code",
   "execution_count": null,
   "metadata": {
    "collapsed": false
   },
   "outputs": [],
   "source": []
  },
  {
   "cell_type": "code",
   "execution_count": 10,
   "metadata": {
    "collapsed": false
   },
   "outputs": [],
   "source": [
    "# BES_Panel['personality_agreeableness'].value_counts()\n",
    "\n",
    "# variable_categories[\"de_weaseled_questions\"] = variable_categories[\"de_weaseled_questions\"].apply(re_name)\n",
    "# variable_categories[\"de_weaseled_questions\"] = variable_categories[\"de_weaseled_questions\"].apply(re_order)\n",
    "# variable_categories[\"de_weaseled_questions\"] = variable_categories[\"de_weaseled_questions\"].apply(de_weasel_numbers)\n",
    "# variable_categories[\"de_weaseled_questions\"] = variable_categories[\"de_weaseled_questions\"].apply(de_number)\n",
    "# variable_categories[\"de_weaseled_questions\"] = variable_categories[\"de_weaseled_questions\"].apply(de_weasel)"
   ]
  },
  {
   "cell_type": "code",
   "execution_count": 11,
   "metadata": {
    "collapsed": false
   },
   "outputs": [
    {
     "name": "stdout",
     "output_type": "stream",
     "text": [
      "0.0\n",
      "0.1364256480218281\n",
      "0.2728512960436562\n",
      "0.4092769440654843\n",
      "0.5457025920873124\n",
      "0.6821282401091405\n",
      "0.8185538881309686\n",
      "0.9549795361527967\n",
      "1.0914051841746248\n",
      "1.2278308321964528\n",
      "1.364256480218281\n",
      "1.500682128240109\n",
      "1.6371077762619373\n",
      "1.7735334242837653\n",
      "1.9099590723055935\n",
      "2.0463847203274215\n",
      "2.1828103683492497\n",
      "2.319236016371078\n",
      "2.4556616643929057\n",
      "2.592087312414734\n",
      "2.728512960436562\n",
      "2.8649386084583903\n",
      "3.001364256480218\n",
      "3.1377899045020463\n",
      "3.2742155525238745\n",
      "3.4106412005457027\n",
      "3.5470668485675305\n",
      "3.6834924965893587\n",
      "3.819918144611187\n",
      "3.956343792633015\n",
      "4.092769440654843\n",
      "4.229195088676671\n",
      "4.365620736698499\n",
      "4.502046384720328\n",
      "4.638472032742156\n",
      "4.774897680763984\n",
      "4.911323328785811\n",
      "5.04774897680764\n",
      "5.184174624829468\n",
      "5.320600272851296\n",
      "5.457025920873124\n",
      "5.593451568894952\n",
      "5.729877216916781\n",
      "5.866302864938609\n",
      "6.002728512960436\n",
      "6.139154160982264\n",
      "6.275579809004093\n",
      "6.412005457025921\n",
      "6.548431105047749\n",
      "6.684856753069577\n",
      "6.8212824010914055\n",
      "6.957708049113234\n",
      "7.094133697135061\n",
      "7.230559345156889\n",
      "7.3669849931787175\n",
      "7.503410641200546\n",
      "7.639836289222374\n",
      "7.776261937244202\n",
      "7.91268758526603\n",
      "8.049113233287859\n",
      "8.185538881309686\n",
      "8.321964529331515\n",
      "8.458390177353342\n",
      "8.594815825375171\n",
      "8.731241473396999\n",
      "8.867667121418826\n",
      "9.004092769440655\n",
      "9.140518417462483\n",
      "9.276944065484312\n",
      "9.413369713506139\n",
      "9.549795361527968\n",
      "9.686221009549795\n",
      "9.822646657571623\n",
      "9.959072305593452\n",
      "10.09549795361528\n",
      "10.231923601637108\n",
      "10.368349249658936\n",
      "10.504774897680765\n",
      "10.641200545702592\n",
      "10.77762619372442\n",
      "10.914051841746248\n",
      "11.050477489768076\n",
      "11.186903137789905\n",
      "11.323328785811732\n",
      "11.459754433833561\n",
      "11.596180081855389\n",
      "11.732605729877218\n",
      "11.869031377899045\n",
      "12.005457025920872\n",
      "12.141882673942701\n",
      "12.278308321964529\n",
      "12.414733969986358\n",
      "12.551159618008185\n",
      "12.687585266030014\n",
      "12.824010914051842\n",
      "12.960436562073669\n",
      "13.096862210095498\n",
      "13.233287858117325\n",
      "13.369713506139155\n",
      "13.506139154160982\n",
      "13.642564802182811\n",
      "13.778990450204638\n",
      "13.915416098226467\n",
      "14.051841746248295\n",
      "14.188267394270122\n",
      "14.324693042291951\n",
      "14.461118690313779\n",
      "14.597544338335608\n",
      "14.733969986357435\n",
      "14.870395634379264\n",
      "15.006821282401091\n",
      "15.143246930422919\n",
      "15.279672578444748\n",
      "15.416098226466575\n",
      "15.552523874488404\n",
      "15.688949522510232\n",
      "15.82537517053206\n",
      "15.961800818553888\n",
      "16.098226466575717\n",
      "16.234652114597544\n",
      "16.37107776261937\n",
      "16.5075034106412\n",
      "16.64392905866303\n",
      "16.780354706684857\n",
      "16.916780354706685\n",
      "17.053206002728512\n",
      "17.189631650750343\n",
      "17.32605729877217\n",
      "17.462482946793997\n",
      "17.598908594815825\n",
      "17.735334242837652\n",
      "17.871759890859483\n",
      "18.00818553888131\n",
      "18.144611186903138\n",
      "18.281036834924965\n",
      "18.417462482946792\n",
      "18.553888130968623\n",
      "18.69031377899045\n",
      "18.826739427012278\n",
      "18.963165075034105\n",
      "19.099590723055936\n",
      "19.236016371077763\n",
      "19.37244201909959\n",
      "19.508867667121418\n",
      "19.645293315143245\n",
      "19.781718963165076\n",
      "19.918144611186904\n",
      "20.05457025920873\n",
      "20.19099590723056\n",
      "20.32742155525239\n",
      "20.463847203274216\n",
      "20.600272851296044\n",
      "20.73669849931787\n",
      "20.8731241473397\n",
      "21.00954979536153\n",
      "21.145975443383357\n",
      "21.282401091405184\n",
      "21.41882673942701\n",
      "21.55525238744884\n",
      "21.69167803547067\n",
      "21.828103683492497\n",
      "21.964529331514324\n",
      "22.10095497953615\n",
      "22.237380627557982\n",
      "22.37380627557981\n",
      "22.510231923601637\n",
      "22.646657571623464\n",
      "22.78308321964529\n",
      "22.919508867667123\n",
      "23.05593451568895\n",
      "23.192360163710777\n",
      "23.328785811732605\n",
      "23.465211459754435\n",
      "23.601637107776263\n",
      "23.73806275579809\n",
      "23.874488403819917\n",
      "24.010914051841745\n",
      "24.147339699863576\n",
      "24.283765347885403\n",
      "24.42019099590723\n",
      "24.556616643929058\n",
      "24.69304229195089\n",
      "24.829467939972716\n",
      "24.965893587994543\n",
      "25.10231923601637\n",
      "25.238744884038198\n",
      "25.37517053206003\n",
      "25.511596180081856\n",
      "25.648021828103683\n",
      "25.78444747612551\n",
      "25.920873124147338\n",
      "26.05729877216917\n",
      "26.193724420190996\n",
      "26.330150068212824\n",
      "26.46657571623465\n",
      "26.60300136425648\n",
      "26.73942701227831\n",
      "26.875852660300136\n",
      "27.012278308321964\n",
      "27.14870395634379\n",
      "27.285129604365622\n",
      "27.42155525238745\n",
      "27.557980900409277\n",
      "27.694406548431104\n",
      "27.830832196452935\n",
      "27.967257844474762\n",
      "28.10368349249659\n",
      "28.240109140518417\n",
      "28.376534788540244\n",
      "28.512960436562075\n",
      "28.649386084583902\n",
      "28.78581173260573\n",
      "28.922237380627557\n",
      "29.058663028649384\n",
      "29.195088676671215\n",
      "29.331514324693043\n",
      "29.46793997271487\n",
      "29.604365620736697\n",
      "29.740791268758528\n",
      "29.877216916780355\n",
      "30.013642564802183\n",
      "30.15006821282401\n",
      "30.286493860845837\n",
      "30.42291950886767\n",
      "30.559345156889496\n",
      "30.695770804911323\n",
      "30.83219645293315\n",
      "30.96862210095498\n",
      "31.10504774897681\n",
      "31.241473396998636\n",
      "31.377899045020463\n",
      "31.51432469304229\n",
      "31.65075034106412\n",
      "31.78717598908595\n",
      "31.923601637107776\n",
      "32.06002728512961\n",
      "32.196452933151434\n",
      "32.33287858117326\n",
      "32.46930422919509\n",
      "32.605729877216916\n",
      "32.74215552523874\n",
      "32.87858117326057\n",
      "33.0150068212824\n",
      "33.15143246930423\n",
      "33.28785811732606\n",
      "33.42428376534789\n",
      "33.560709413369715\n",
      "33.69713506139154\n",
      "33.83356070941337\n",
      "33.9699863574352\n",
      "34.106412005457024\n",
      "34.24283765347885\n",
      "34.379263301500686\n",
      "34.51568894952251\n",
      "34.65211459754434\n",
      "34.78854024556617\n",
      "34.924965893587995\n",
      "35.06139154160982\n",
      "35.19781718963165\n",
      "35.33424283765348\n",
      "35.470668485675304\n",
      "35.60709413369713\n",
      "35.743519781718966\n",
      "35.87994542974079\n",
      "36.01637107776262\n",
      "36.15279672578445\n",
      "36.289222373806275\n",
      "36.4256480218281\n",
      "36.56207366984993\n",
      "36.69849931787176\n",
      "36.834924965893585\n",
      "36.97135061391542\n",
      "37.107776261937246\n",
      "37.244201909959074\n",
      "37.3806275579809\n",
      "37.51705320600273\n",
      "37.653478854024556\n",
      "37.78990450204638\n",
      "37.92633015006821\n",
      "38.06275579809004\n",
      "38.19918144611187\n",
      "38.3356070941337\n",
      "38.47203274215553\n",
      "38.608458390177354\n",
      "38.74488403819918\n",
      "38.88130968622101\n",
      "39.017735334242836\n",
      "39.15416098226466\n",
      "39.29058663028649\n",
      "39.427012278308325\n",
      "39.56343792633015\n",
      "39.69986357435198\n",
      "39.83628922237381\n",
      "39.972714870395635\n",
      "40.10914051841746\n",
      "40.24556616643929\n",
      "40.38199181446112\n",
      "40.518417462482944\n",
      "40.65484311050478\n",
      "40.791268758526606\n",
      "40.92769440654843\n",
      "41.06412005457026\n",
      "41.20054570259209\n",
      "41.336971350613915\n",
      "41.47339699863574\n",
      "41.60982264665757\n",
      "41.7462482946794\n",
      "41.88267394270123\n",
      "42.01909959072306\n",
      "42.155525238744886\n",
      "42.29195088676671\n",
      "42.42837653478854\n",
      "42.56480218281037\n",
      "42.701227830832195\n",
      "42.83765347885402\n",
      "42.97407912687585\n",
      "43.11050477489768\n",
      "43.24693042291951\n",
      "43.38335607094134\n",
      "43.519781718963166\n",
      "43.656207366984994\n",
      "43.79263301500682\n",
      "43.92905866302865\n",
      "44.065484311050476\n",
      "44.2019099590723\n",
      "44.33833560709413\n",
      "44.474761255115965\n",
      "44.61118690313779\n",
      "44.74761255115962\n",
      "44.88403819918145\n",
      "45.020463847203274\n",
      "45.1568894952251\n",
      "45.29331514324693\n",
      "45.429740791268756\n",
      "45.56616643929058\n",
      "45.70259208731242\n",
      "45.839017735334245\n",
      "45.97544338335607\n",
      "46.1118690313779\n",
      "46.24829467939973\n",
      "46.384720327421554\n",
      "46.52114597544338\n",
      "46.65757162346521\n",
      "46.79399727148704\n",
      "46.93042291950887\n",
      "47.0668485675307\n",
      "47.203274215552526\n",
      "47.33969986357435\n",
      "47.47612551159618\n",
      "47.61255115961801\n",
      "47.748976807639835\n",
      "47.88540245566166\n",
      "48.02182810368349\n",
      "48.158253751705324\n",
      "48.29467939972715\n",
      "48.43110504774898\n",
      "48.567530695770806\n",
      "48.70395634379263\n",
      "48.84038199181446\n",
      "48.97680763983629\n",
      "49.113233287858115\n",
      "49.24965893587994\n",
      "49.38608458390178\n",
      "49.522510231923604\n",
      "49.65893587994543\n",
      "49.79536152796726\n",
      "49.931787175989086\n",
      "50.068212824010914\n",
      "50.20463847203274\n",
      "50.34106412005457\n",
      "50.477489768076396\n",
      "50.61391541609822\n",
      "50.75034106412006\n",
      "50.886766712141885\n",
      "51.02319236016371\n",
      "51.15961800818554\n",
      "51.29604365620737\n",
      "51.432469304229194\n",
      "51.56889495225102\n",
      "51.70532060027285\n",
      "51.841746248294676\n",
      "51.97817189631651\n",
      "52.11459754433834\n",
      "52.251023192360165\n",
      "52.38744884038199\n",
      "52.52387448840382\n",
      "52.66030013642565\n",
      "52.796725784447474\n",
      "52.9331514324693\n",
      "53.06957708049113\n",
      "53.20600272851296\n",
      "53.34242837653479\n",
      "53.47885402455662\n",
      "53.615279672578446\n",
      "53.75170532060027\n",
      "53.8881309686221\n",
      "54.02455661664393\n",
      "54.160982264665755\n",
      "54.29740791268758\n",
      "54.43383356070942\n",
      "54.570259208731244\n",
      "54.70668485675307\n",
      "54.8431105047749\n",
      "54.979536152796726\n",
      "55.11596180081855\n",
      "55.25238744884038\n",
      "55.38881309686221\n",
      "55.525238744884035\n",
      "55.66166439290587\n",
      "55.7980900409277\n",
      "55.934515688949524\n",
      "56.07094133697135\n",
      "56.20736698499318\n",
      "56.343792633015006\n",
      "56.480218281036834\n",
      "56.61664392905866\n",
      "56.75306957708049\n",
      "56.88949522510232\n",
      "57.02592087312415\n",
      "57.16234652114598\n",
      "57.298772169167805\n",
      "57.43519781718963\n",
      "57.57162346521146\n",
      "57.70804911323329\n",
      "57.844474761255114\n",
      "57.98090040927694\n",
      "58.11732605729877\n",
      "58.2537517053206\n",
      "58.39017735334243\n",
      "58.52660300136426\n",
      "58.663028649386085\n",
      "58.79945429740791\n",
      "58.93587994542974\n",
      "59.07230559345157\n",
      "59.208731241473394\n",
      "59.34515688949522\n",
      "59.481582537517056\n",
      "59.61800818553888\n",
      "59.75443383356071\n",
      "59.89085948158254\n",
      "60.027285129604365\n",
      "60.16371077762619\n",
      "60.30013642564802\n",
      "60.43656207366985\n",
      "60.572987721691675\n",
      "60.70941336971351\n",
      "60.84583901773534\n",
      "60.982264665757164\n",
      "61.11869031377899\n",
      "61.25511596180082\n",
      "61.391541609822646\n",
      "61.52796725784447\n",
      "61.6643929058663\n",
      "61.80081855388813\n",
      "61.93724420190996\n",
      "62.07366984993179\n",
      "62.21009549795362\n",
      "62.346521145975444\n",
      "62.48294679399727\n",
      "62.6193724420191\n",
      "62.755798090040926\n",
      "62.892223738062754\n",
      "63.02864938608458\n",
      "63.165075034106415\n",
      "63.30150068212824\n",
      "63.43792633015007\n",
      "63.5743519781719\n",
      "63.710777626193725\n",
      "63.84720327421555\n",
      "63.98362892223738\n",
      "64.12005457025921\n",
      "64.25648021828104\n",
      "64.39290586630287\n",
      "64.5293315143247\n",
      "64.66575716234652\n",
      "64.80218281036835\n",
      "64.93860845839018\n",
      "65.075034106412\n",
      "65.21145975443383\n",
      "65.34788540245566\n",
      "65.48431105047749\n",
      "65.62073669849931\n",
      "65.75716234652114\n",
      "65.89358799454297\n",
      "66.0300136425648\n",
      "66.16643929058662\n",
      "66.30286493860847\n",
      "66.43929058663029\n",
      "66.57571623465212\n",
      "66.71214188267395\n",
      "66.84856753069577\n",
      "66.9849931787176\n",
      "67.12141882673943\n",
      "67.25784447476126\n",
      "67.39427012278308\n",
      "67.53069577080491\n",
      "67.66712141882674\n",
      "67.80354706684857\n",
      "67.9399727148704\n",
      "68.07639836289222\n",
      "68.21282401091405\n",
      "68.34924965893588\n",
      "68.4856753069577\n",
      "68.62210095497953\n",
      "68.75852660300137\n",
      "68.8949522510232\n",
      "69.03137789904503\n",
      "69.16780354706685\n",
      "69.30422919508868\n",
      "69.44065484311051\n",
      "69.57708049113234\n",
      "69.71350613915416\n",
      "69.84993178717599\n",
      "69.98635743519782\n",
      "70.12278308321964\n",
      "70.25920873124147\n",
      "70.3956343792633\n",
      "70.53206002728513\n",
      "70.66848567530695\n",
      "70.80491132332878\n",
      "70.94133697135061\n",
      "71.07776261937244\n",
      "71.21418826739426\n",
      "71.3506139154161\n",
      "71.48703956343793\n",
      "71.62346521145976\n",
      "71.75989085948159\n",
      "71.89631650750341\n",
      "72.03274215552524\n",
      "72.16916780354707\n",
      "72.3055934515689\n",
      "72.44201909959072\n",
      "72.57844474761255\n",
      "72.71487039563438\n",
      "72.8512960436562\n",
      "72.98772169167803\n",
      "73.12414733969986\n",
      "73.26057298772169\n",
      "73.39699863574351\n",
      "73.53342428376534\n",
      "73.66984993178717\n",
      "73.80627557980901\n",
      "73.94270122783084\n",
      "74.07912687585267\n",
      "74.21555252387449\n",
      "74.35197817189632\n",
      "74.48840381991815\n",
      "74.62482946793997\n",
      "74.7612551159618\n",
      "74.89768076398363\n",
      "75.03410641200546\n",
      "75.17053206002728\n",
      "75.30695770804911\n",
      "75.44338335607094\n",
      "75.57980900409277\n",
      "75.7162346521146\n",
      "75.85266030013642\n",
      "75.98908594815825\n",
      "76.12551159618008\n",
      "76.26193724420192\n",
      "76.39836289222374\n",
      "76.53478854024557\n",
      "76.6712141882674\n",
      "76.80763983628923\n",
      "76.94406548431105\n",
      "77.08049113233288\n",
      "77.21691678035471\n",
      "77.35334242837654\n",
      "77.48976807639836\n",
      "77.62619372442019\n",
      "77.76261937244202\n",
      "77.89904502046384\n",
      "78.03547066848567\n",
      "78.1718963165075\n",
      "78.30832196452933\n",
      "78.44474761255115\n",
      "78.58117326057298\n",
      "78.71759890859481\n",
      "78.85402455661665\n",
      "78.99045020463848\n",
      "79.1268758526603\n",
      "79.26330150068213\n",
      "79.39972714870396\n",
      "79.53615279672579\n",
      "79.67257844474761\n",
      "79.80900409276944\n",
      "79.94542974079127\n",
      "80.0818553888131\n",
      "80.21828103683492\n",
      "80.35470668485675\n",
      "80.49113233287858\n",
      "80.6275579809004\n",
      "80.76398362892223\n",
      "80.90040927694406\n",
      "81.03683492496589\n",
      "81.17326057298772\n",
      "81.30968622100956\n",
      "81.44611186903138\n",
      "81.58253751705321\n",
      "81.71896316507504\n",
      "81.85538881309687\n",
      "81.9918144611187\n",
      "82.12824010914052\n",
      "82.26466575716235\n",
      "82.40109140518418\n",
      "82.537517053206\n",
      "82.67394270122783\n",
      "82.81036834924966\n",
      "82.94679399727148\n",
      "83.08321964529331\n",
      "83.21964529331514\n",
      "83.35607094133697\n",
      "83.4924965893588\n",
      "83.62892223738062\n",
      "83.76534788540246\n",
      "83.90177353342429\n",
      "84.03819918144612\n",
      "84.17462482946794\n",
      "84.31105047748977\n",
      "84.4474761255116\n",
      "84.58390177353343\n",
      "84.72032742155525\n",
      "84.85675306957708\n",
      "84.99317871759891\n",
      "85.12960436562074\n",
      "85.26603001364256\n",
      "85.40245566166439\n",
      "85.53888130968622\n",
      "85.67530695770805\n",
      "85.81173260572987\n",
      "85.9481582537517\n",
      "86.08458390177353\n",
      "86.22100954979535\n",
      "86.3574351978172\n",
      "86.49386084583902\n",
      "86.63028649386085\n",
      "86.76671214188268\n",
      "86.9031377899045\n",
      "87.03956343792633\n",
      "87.17598908594816\n",
      "87.31241473396999\n",
      "87.44884038199181\n",
      "87.58526603001364\n",
      "87.72169167803547\n",
      "87.8581173260573\n",
      "87.99454297407912\n",
      "88.13096862210095\n",
      "88.26739427012278\n",
      "88.4038199181446\n",
      "88.54024556616643\n",
      "88.67667121418826\n",
      "88.8130968622101\n",
      "88.94952251023193\n",
      "89.08594815825376\n",
      "89.22237380627558\n",
      "89.35879945429741\n",
      "89.49522510231924\n",
      "89.63165075034107\n",
      "89.7680763983629\n",
      "89.90450204638472\n",
      "90.04092769440655\n",
      "90.17735334242838\n",
      "90.3137789904502\n",
      "90.45020463847203\n",
      "90.58663028649386\n",
      "90.72305593451568\n",
      "90.85948158253751\n",
      "90.99590723055934\n",
      "91.13233287858117\n",
      "91.26875852660301\n",
      "91.40518417462484\n",
      "91.54160982264666\n",
      "91.67803547066849\n",
      "91.81446111869032\n",
      "91.95088676671215\n",
      "92.08731241473397\n",
      "92.2237380627558\n",
      "92.36016371077763\n",
      "92.49658935879945\n",
      "92.63301500682128\n",
      "92.76944065484311\n",
      "92.90586630286494\n",
      "93.04229195088676\n",
      "93.17871759890859\n",
      "93.31514324693042\n",
      "93.45156889495225\n",
      "93.58799454297407\n",
      "93.7244201909959\n",
      "93.86084583901774\n",
      "93.99727148703957\n",
      "94.1336971350614\n",
      "94.27012278308322\n",
      "94.40654843110505\n",
      "94.54297407912688\n",
      "94.6793997271487\n",
      "94.81582537517053\n",
      "94.95225102319236\n",
      "95.08867667121419\n",
      "95.22510231923602\n",
      "95.36152796725784\n",
      "95.49795361527967\n",
      "95.6343792633015\n",
      "95.77080491132332\n",
      "95.90723055934515\n",
      "96.04365620736698\n",
      "96.1800818553888\n",
      "96.31650750341065\n",
      "96.45293315143248\n",
      "96.5893587994543\n",
      "96.72578444747613\n",
      "96.86221009549796\n",
      "96.99863574351978\n",
      "97.13506139154161\n",
      "97.27148703956344\n",
      "97.40791268758527\n",
      "97.5443383356071\n",
      "97.68076398362892\n",
      "97.81718963165075\n",
      "97.95361527967258\n",
      "98.0900409276944\n",
      "98.22646657571623\n",
      "98.36289222373806\n",
      "98.49931787175989\n",
      "98.63574351978171\n",
      "98.77216916780355\n",
      "98.90859481582538\n",
      "99.04502046384721\n",
      "99.18144611186904\n",
      "99.31787175989086\n",
      "99.45429740791269\n",
      "99.59072305593452\n",
      "99.72714870395635\n",
      "99.86357435197817\n",
      "Wall time: 5.69 s\n"
     ]
    }
   ],
   "source": [
    "%%time\n",
    "BES_numeric = BES_reduced.copy()\n",
    "pos = 0\n",
    "for col in BES_numeric:\n",
    "    print(100*pos/len(BES_numeric.columns))\n",
    "    pos = pos + 1\n",
    "    \n",
    "    if col not in var_type[\"type\"].index:\n",
    "        print(col, \" not in var_type\")\n",
    "        continue\n",
    "    typ = var_type[\"type\"][col]\n",
    "    if (typ == -1) | (typ == 4) | (col ==\"id\") | (typ==0) | (col in ignore_list): # skip\n",
    "        continue\n",
    "        #BES_numeric.drop(col,axis=1,inplace=True)\n",
    "        \n",
    "    #print(col)\n",
    "         \n",
    "    \n",
    "    # force all category elements into strings\n",
    "    BES_numeric[col].cat.rename_categories( BES_numeric[col].cat.categories.map(str), inplace=True )\n",
    "    \n",
    "    # rename categories\n",
    "    \n",
    "    join_list = \"|\".join( BES_numeric[col].cat.categories )\n",
    "    if join_list in rename_cat_dict.keys():\n",
    "        BES_numeric[col].cat.rename_categories(  rename_cat_dict[join_list], inplace=True )\n",
    "    # update join_list!\n",
    "    \n",
    "    # reorder categories\n",
    "    join_list = \"|\".join( BES_numeric[col].cat.categories )\n",
    "    if join_list in change_cat_dict.keys():\n",
    "#         print(col)\n",
    "#         print(join_list)\n",
    "#         print(change_cat_dict[join_list])\n",
    "        BES_numeric[col].cat.reorder_categories( change_cat_dict[join_list], inplace=True )    \n",
    "    \n",
    "    # de_weasel numbers\n",
    "    BES_numeric[col].cat.remove_categories( de_weasel_nums( BES_numeric[col].cat.categories ), inplace=True )\n",
    "    \n",
    "    # set all digits to floating point format, one decimal place\n",
    "    BES_numeric[col].cat.rename_categories( de_num( BES_numeric[col].cat.categories ), inplace=True )\n",
    "                                          \n",
    "    # de_weasel                                   \n",
    "    BES_numeric[col].cat.remove_categories( BES_numeric[col].cat.categories.intersection(Weasel_set), inplace=True )\n",
    "\n",
    "    \n",
    "    if (typ==1) | (typ==2) | (typ==5): # more or less ordinal, replace string categories with \n",
    "        BES_numeric[col] = BES_numeric[col].cat.codes\n",
    "        BES_numeric[col] = BES_numeric[col].astype('float64')\n",
    "     \n",
    "    elif (typ==3): # categporical not ordinal\n",
    "        BES_numeric[col] = BES_numeric[col].cat.codes\n",
    "        BES_numeric[col] = BES_numeric[col].astype('float64')\n",
    "        \n",
    "    elif (typ==6):\n",
    "        BES_numeric[col] = BES_numeric[col].astype('float64')\n",
    "      \n",
    "        \n",
    "#     elif (typ == 2):\n",
    "#         new_cat_order = change_cat_dict[\"|\".join(BES_numeric[col].cat.categories)]\n",
    "#         BES_numeric[col].cat.remove_categories( BES_numeric[col].cat.categories.intersection(Weasel_set), inplace=True )\n",
    "#         BES_numeric[col].cat.reorder_categories( new_cat_order, inplace=True )\n",
    "\n",
    "#         BES_numeric[col] = BES_numeric[col].cat.codes\n",
    "# #        BES_numeric.loc[ BES_numeric[col]==-1, col ] = np.nan  \n",
    "    \n",
    "#     elif (typ == 5) | (typ == 1): # (typ == 1) | \n",
    "#         # remove weasel categories\n",
    "#         BES_numeric[col].cat.remove_categories( BES_numeric[col].cat.categories.intersection(Weasel_set), inplace=True )\n",
    "#         # change to numbers!\n",
    "#         BES_numeric[col] = BES_numeric[col].cat.codes\n",
    "# #        BES_numeric.loc[ BES_numeric[col]==-1, col ] = np.nan\n",
    "        \n",
    "\n",
    "#     elif (typ == 6):\n",
    "\n",
    "#         BES_numeric[col].cat.remove_categories( BES_numeric[col].cat.categories.intersection(Weasel_set), inplace=True )\n",
    "#         BES_numeric[col] = BES_numeric[col].astype('float64')\n",
    "\n",
    "# types\n",
    "# -1 - anything not a category or one of the below floats\n",
    "# 0 - personality measures (in steps of .5?),'mapNamesW3','riskScaleW8'\n",
    "# 1 - linear category, just use  (some made linear by dropping \"Weasel_answers\")\n",
    "# 2 - categories need to be modified - order changed\n",
    "# 3 - set of non-ordered options\n",
    "# 4 - indirect variables - did someone fill something in in the free text box or not?\n",
    "# 5 - categories need to modified - things removed\n",
    "# 6 - categories are integers - should maybe be transformed directly into numbers (mostly \"how much money do people need minimum/well off\"?)\n",
    "\n",
    "\n",
    "# load question_categories_correct.csv\n",
    "# sanity check by type!\n",
    "# turn into list of variables by type\n",
    "# 1, 5 handled the same way -> cat.codes\n",
    "# 6 -> int()\n",
    "# 4 ignored\n",
    "# 3 ignored for now (-> vectorized?)\n",
    "# 2 direct modification\n",
    "\n",
    "\n"
   ]
  },
  {
   "cell_type": "code",
   "execution_count": 12,
   "metadata": {
    "collapsed": false
   },
   "outputs": [],
   "source": [
    "BES_numerics_only = BES_numeric.drop( BES_numeric.columns[~( (var_type[\"type\"]==0) |\n",
    "                                                             (var_type[\"type\"]==1) |\n",
    "                                                             (var_type[\"type\"]==2) |\n",
    "                                                             (var_type[\"type\"]==5) |\n",
    "                                                             (var_type[\"type\"]==6) ) ], axis=1 )\n",
    "\n",
    "BES_numerics_only.replace(-1,np.nan, inplace=True)\n",
    "# gender only column that has no nan -> still an int"
   ]
  },
  {
   "cell_type": "code",
   "execution_count": 13,
   "metadata": {
    "collapsed": false
   },
   "outputs": [],
   "source": [
    "BES_all_categories = BES_numeric.drop( BES_numeric.columns[~( (var_type[\"type\"]==0) |\n",
    "                                                             (var_type[\"type\"]==1) |\n",
    "                                                             (var_type[\"type\"]==2) |\n",
    "                                                             (var_type[\"type\"]==3) |\n",
    "                                                             (var_type[\"type\"]==5) |\n",
    "                                                             (var_type[\"type\"]==6) ) ], axis=1 )\n",
    "\n",
    "BES_all_categories.replace(-1,np.nan, inplace=True)\n",
    "# gender only column that has no nan -> still an int"
   ]
  },
  {
   "cell_type": "code",
   "execution_count": 14,
   "metadata": {
    "collapsed": false
   },
   "outputs": [
    {
     "data": {
      "text/plain": [
       "(31409, 622)"
      ]
     },
     "execution_count": 14,
     "metadata": {},
     "output_type": "execute_result"
    }
   ],
   "source": [
    "BES_all_categories.shape"
   ]
  },
  {
   "cell_type": "code",
   "execution_count": 15,
   "metadata": {
    "collapsed": false
   },
   "outputs": [],
   "source": [
    "# BES_all_categories.dtypes"
   ]
  },
  {
   "cell_type": "code",
   "execution_count": null,
   "metadata": {
    "collapsed": false
   },
   "outputs": [],
   "source": []
  },
  {
   "cell_type": "code",
   "execution_count": 16,
   "metadata": {
    "collapsed": false
   },
   "outputs": [],
   "source": [
    "# variable_categories = pd.read_csv(\"question_categories_correct.csv\", encoding = \"ISO-8859-1\")\n",
    "\n",
    "# # flipping list\n",
    "# var_cat_dict = dict()\n",
    "# for typ in [1,2,3,4,5,6]:\n",
    "\n",
    "#     e = variable_categories[variable_categories.type==typ][\"column_name\"].values\n",
    "\n",
    "#     var_cat_dict[typ] = [item for sublist in [i.split(\"|\") for i in e] for item in sublist]\n",
    "    \n",
    "# var_cat_dict"
   ]
  },
  {
   "cell_type": "code",
   "execution_count": null,
   "metadata": {
    "collapsed": false
   },
   "outputs": [],
   "source": []
  },
  {
   "cell_type": "code",
   "execution_count": 17,
   "metadata": {
    "collapsed": false
   },
   "outputs": [],
   "source": [
    "# # try to create list of variable 'stubs' without wave signifier\n",
    "# import re\n",
    "# # pattern\n",
    "# # \\w*? (non-greedy match all alphanumerics)\n",
    "# # (\\w*?)_?W[0-9]\n",
    "# # re.match('(\\w*?)_?W[0-9]' , 'partyHelpMethod_5_W6' ).groups()[0]\n",
    "\n",
    "# new_list = []\n",
    "# for ques in var_cat_dict[1]:\n",
    "#     question = ques\n",
    "#     match_attempt = re.match('(\\w*?)_?W[0-9]' , ques )   \n",
    "#     if match_attempt:\n",
    "#         question = match_attempt.groups()[0]\n",
    "#     if question not in new_list:\n",
    "#         new_list.append(question )\n",
    "\n",
    "# new_list"
   ]
  },
  {
   "cell_type": "code",
   "execution_count": 18,
   "metadata": {
    "collapsed": true
   },
   "outputs": [],
   "source": [
    "# pattern 2\n",
    "# what about \n",
    "# 'fbInfo_1',\n",
    "# 'fbInfo_2',\n",
    "# 'fbInfo_3',\n",
    "\n",
    "# and\n",
    "#  'euKnow6',\n",
    "#  'euKnow2',\n",
    "#  'euKnow1',\n",
    "#  'euKnow3',\n",
    "#  'euKnow4',\n",
    "#  'euKnow5',\n"
   ]
  },
  {
   "cell_type": "code",
   "execution_count": null,
   "metadata": {
    "collapsed": false
   },
   "outputs": [],
   "source": []
  },
  {
   "cell_type": "code",
   "execution_count": 19,
   "metadata": {
    "collapsed": false
   },
   "outputs": [],
   "source": [
    "# variable_categories[\"pruned_column_name\"] = variable_categories[\"column_name\"].apply(prune)"
   ]
  },
  {
   "cell_type": "code",
   "execution_count": 20,
   "metadata": {
    "collapsed": false
   },
   "outputs": [],
   "source": [
    "# variable_categories.to_csv(\"temp_name.csv\")"
   ]
  },
  {
   "cell_type": "code",
   "execution_count": 21,
   "metadata": {
    "collapsed": false
   },
   "outputs": [],
   "source": [
    "# test_df = pd.read_csv(\"temp_name.csv\", encoding = \"ISO-8859-1\")"
   ]
  },
  {
   "cell_type": "code",
   "execution_count": null,
   "metadata": {
    "collapsed": false
   },
   "outputs": [],
   "source": []
  },
  {
   "cell_type": "code",
   "execution_count": null,
   "metadata": {
    "collapsed": false
   },
   "outputs": [],
   "source": []
  },
  {
   "cell_type": "code",
   "execution_count": null,
   "metadata": {
    "collapsed": false
   },
   "outputs": [],
   "source": []
  },
  {
   "cell_type": "code",
   "execution_count": null,
   "metadata": {
    "collapsed": false
   },
   "outputs": [],
   "source": []
  },
  {
   "cell_type": "code",
   "execution_count": 22,
   "metadata": {
    "collapsed": false
   },
   "outputs": [],
   "source": [
    "# variable_categories[\"de_weaseled_questions\"] = variable_categories[\"question\"]\n",
    "# variable_categories[\"de_weaseled_questions\"] = variable_categories[\"de_weaseled_questions\"].apply(re_name)\n",
    "# variable_categories[\"de_weaseled_questions\"] = variable_categories[\"de_weaseled_questions\"].apply(re_order)\n",
    "# variable_categories[\"de_weaseled_questions\"] = variable_categories[\"de_weaseled_questions\"].apply(de_weasel_numbers)\n",
    "# variable_categories[\"de_weaseled_questions\"] = variable_categories[\"de_weaseled_questions\"].apply(de_number)\n",
    "# variable_categories[\"de_weaseled_questions\"] = variable_categories[\"de_weaseled_questions\"].apply(de_weasel)\n",
    "# variable_categories[\"de_weaseled_questions\"]"
   ]
  },
  {
   "cell_type": "code",
   "execution_count": null,
   "metadata": {
    "collapsed": false
   },
   "outputs": [],
   "source": []
  },
  {
   "cell_type": "code",
   "execution_count": null,
   "metadata": {
    "collapsed": false
   },
   "outputs": [],
   "source": []
  },
  {
   "cell_type": "code",
   "execution_count": null,
   "metadata": {
    "collapsed": false
   },
   "outputs": [],
   "source": []
  },
  {
   "cell_type": "code",
   "execution_count": null,
   "metadata": {
    "collapsed": false
   },
   "outputs": [],
   "source": []
  },
  {
   "cell_type": "code",
   "execution_count": 23,
   "metadata": {
    "collapsed": false
   },
   "outputs": [],
   "source": [
    "# ## So, I'd like to go through the entire list of *de_weaseled categories*\n",
    "# ## and enumerate the unique lists\n",
    "# ## On the basis that some will be the same post de_weaseling\n",
    "# ## and some will be the same when you ignore ordering\n",
    "\n",
    "# unique_count = 0\n",
    "# unique_list = []\n",
    "\n",
    "# unique_df = pd.DataFrame( columns = ( \"orig_question\", \"tran_question\", \"coding\", \"coding_of_matches\" ) ) #to store the semantic coding (/s) of question asssociated with a unique ans set\n",
    "\n",
    "# for ind_1 in range(0, len(variable_categories[\"de_weaseled_questions\"].index)):\n",
    "    \n",
    "#     ques_1 = variable_categories[\"de_weaseled_questions\"][ind_1].encode(\"ascii\", \"ignore\").decode(\"utf-8\").split(\"|\")\n",
    "#     ques_orig = ques_1\n",
    "#     ques_1 = [x.lower() for x in ques_1]\n",
    "    \n",
    "#     unique_flag = True\n",
    "    \n",
    "#     coding_of_matches = []\n",
    "    \n",
    "#     for ind_2 in range(ind_1+1, len(variable_categories[\"de_weaseled_questions\"].index)):\n",
    "    \n",
    "#         ques_2 = variable_categories[\"de_weaseled_questions\"][ind_2].encode(\"ascii\", \"ignore\").decode(\"utf-8\").split(\"|\")\n",
    "#         ques_2 = [x.lower() for x in ques_2]\n",
    "#         if ques_1 == ques_2:\n",
    "# #             print(\"Same options: \", ind_1, ind_2, ques_1, ques_2)\n",
    "#             unique_flag = False\n",
    "#             num_type = variable_categories[\"type\"][ind_2]\n",
    "#             if num_type not in coding_of_matches:\n",
    "#                 coding_of_matches.append( num_type )\n",
    "#         elif set(ques_1) == set(ques_2):\n",
    "# #             print(\"Same options, diff order: \\n ***********************************\\n\", ind_1, ind_2, ques_1, ques_2)\n",
    "#             unique_flag = False\n",
    "#             num_type = variable_categories[\"type\"][ind_2]\n",
    "#             if num_type not in coding_of_matches:\n",
    "#                 coding_of_matches.append( num_type )\n",
    "            \n",
    "#     if unique_flag == True:\n",
    "#         unique_count = unique_count + 1\n",
    "#         unique_list.append(ques_orig)\n",
    "        \n",
    "#     unique_df.loc[ind_1] = [variable_categories[\"question\"][ind_1],\n",
    "#                             variable_categories[\"de_weaseled_questions\"][ind_1],\n",
    "#                             variable_categories[\"type\"][ind_1],\n",
    "#                             coding_of_matches\n",
    "#                            ]\n",
    "#     if len( coding_of_matches ) >1:\n",
    "#         print( [variable_categories[\"question\"][ind_1],\n",
    "#                             variable_categories[\"de_weaseled_questions\"][ind_1],\n",
    "#                             variable_categories[\"type\"][ind_1],\n",
    "#                             coding_of_matches\n",
    "#                            ] )\n",
    "        \n",
    "# print(\"unique_count: \", unique_count)"
   ]
  },
  {
   "cell_type": "code",
   "execution_count": null,
   "metadata": {
    "collapsed": false
   },
   "outputs": [],
   "source": []
  },
  {
   "cell_type": "code",
   "execution_count": null,
   "metadata": {
    "collapsed": false
   },
   "outputs": [],
   "source": []
  },
  {
   "cell_type": "code",
   "execution_count": null,
   "metadata": {
    "collapsed": false
   },
   "outputs": [],
   "source": []
  },
  {
   "cell_type": "code",
   "execution_count": null,
   "metadata": {
    "collapsed": false
   },
   "outputs": [],
   "source": []
  },
  {
   "cell_type": "code",
   "execution_count": null,
   "metadata": {
    "collapsed": false
   },
   "outputs": [],
   "source": []
  },
  {
   "cell_type": "code",
   "execution_count": 24,
   "metadata": {
    "collapsed": false
   },
   "outputs": [],
   "source": [
    "# unique_list.sort()\n",
    "\n",
    "# unique_df = pd.DataFrame( [list(map(\"|\".join, unique_list)), list(map(len, unique_list))] ).transpose()\n",
    "# unique_df.columns = [ 'answer_set', 'num_answers']\n",
    "# unique_df[\"answer_set_size\"] = unique_df['answer_set'].apply(len)\n",
    "# unique_df.to_csv(\"unique_answer_set_list.csv\")\n",
    "# #list(map(\"|\".join, unique_list))\n",
    "# #list(map(len, unique_list))\n",
    "\n",
    "# #unique_list.to_csv(\"unique_answer_set_list.csv\")"
   ]
  },
  {
   "cell_type": "code",
   "execution_count": null,
   "metadata": {
    "collapsed": false
   },
   "outputs": [],
   "source": []
  },
  {
   "cell_type": "code",
   "execution_count": 25,
   "metadata": {
    "collapsed": false
   },
   "outputs": [],
   "source": [
    "# # diff ans sets based on original\n",
    "\n",
    "# list_of_all_col_stubs = []\n",
    "# for ind in variable_categories[\"pruned_column_name\"].index:\n",
    "#     list_of_all_col_stubs.append ( variable_categories[\"pruned_column_name\"][ind].split(\"|\") )\n",
    "# list_of_all_col_stubs"
   ]
  },
  {
   "cell_type": "code",
   "execution_count": null,
   "metadata": {
    "collapsed": false
   },
   "outputs": [],
   "source": []
  },
  {
   "cell_type": "code",
   "execution_count": 26,
   "metadata": {
    "collapsed": false
   },
   "outputs": [],
   "source": [
    "# #pos1 = 0\n",
    "# stubs_with_diff_ans_sets = []\n",
    "# for list_pos_1 in range(0,len(list_of_all_col_stubs)):\n",
    "# #var_list in list_of_all_col_stubs: # for each list of questions by sets of shared answer categories\n",
    "#     var_list = list_of_all_col_stubs[list_pos_1]\n",
    "#     for var in set(var_list): # for each *unique* question_stub in those lists\n",
    "#         #pos2 = 0\n",
    "#         for list_pos_2 in range(list_pos_1+1,len(list_of_all_col_stubs)):\n",
    "#         # comp_var_list in list_of_all_col_stubs: # see if it is in other lists\n",
    "# #             if comp_var_list == var_list: # excepting its original list\n",
    "# #                 continue\n",
    "#             if var in list_of_all_col_stubs[list_pos_2]:\n",
    "#                 print (list_pos_1, var, list_pos_2)\n",
    "#                 if var not in stubs_with_diff_ans_sets:\n",
    "#                     stubs_with_diff_ans_sets.append(var)\n",
    "                \n",
    "# #             pos2 = pos2 + 1\n",
    "# #     pos1 = pos1+1"
   ]
  },
  {
   "cell_type": "code",
   "execution_count": 27,
   "metadata": {
    "collapsed": false
   },
   "outputs": [],
   "source": [
    "# stubs_with_diff_ans_sets\n",
    "# temp = stubs_with_diff_ans_sets\n",
    "# #difficult = ['partyContact', 'EUContact']\n",
    "# [x for x in temp if x.find(\"partyContact\") and x.find('EUContact') ]\n",
    "# # partyContact\n",
    "# # EUContact"
   ]
  },
  {
   "cell_type": "code",
   "execution_count": 28,
   "metadata": {
    "collapsed": true
   },
   "outputs": [],
   "source": [
    "# SOME WEIRDNESS NEEDS FIXING\n",
    "\n",
    "# 161\tDon't know\t2\t10\t1\tpartyContactSNPW1|partyContactSNPW2\t4\n",
    "# 185\t1\t1\t3\t1\tlocusControlW8\t4\n",
    "# 265\tNo\t1\t2\t1\twhichPartiesHelped_99W6\t4\n",
    "\n",
    "# These questions show up as having *only one answer option* \n",
    "\n"
   ]
  },
  {
   "cell_type": "code",
   "execution_count": 29,
   "metadata": {
    "collapsed": false
   },
   "outputs": [],
   "source": [
    "#################################### MISSING VALUES ###################################"
   ]
  },
  {
   "cell_type": "code",
   "execution_count": 30,
   "metadata": {
    "collapsed": false
   },
   "outputs": [],
   "source": [
    "# counts = BES_numerics_only.count() # super slow!\n",
    "# counts_by_individuals = BES_numerics_only.count(axis=1) # lets see\n",
    "# f, axarr = plt.subplots( 2 ,figsize=(5, 5) )\n",
    "# axarr[0].hist(counts,bins=50)\n",
    "# axarr[1].hist(counts_by_individuals,bins=50)"
   ]
  },
  {
   "cell_type": "code",
   "execution_count": 31,
   "metadata": {
    "collapsed": false
   },
   "outputs": [
    {
     "data": {
      "text/plain": [
       "(31409, 563)"
      ]
     },
     "execution_count": 31,
     "metadata": {},
     "output_type": "execute_result"
    }
   ],
   "source": [
    "BES_numerics_only.shape"
   ]
  },
  {
   "cell_type": "code",
   "execution_count": 32,
   "metadata": {
    "collapsed": false
   },
   "outputs": [],
   "source": [
    "# BES_Panel[\"coverage\"] = BES_Panel.count(axis=1)\n",
    "# BES_Panel"
   ]
  },
  {
   "cell_type": "code",
   "execution_count": 33,
   "metadata": {
    "collapsed": false
   },
   "outputs": [],
   "source": [
    "corr_mat = BES_Panel.corr()"
   ]
  },
  {
   "cell_type": "code",
   "execution_count": 34,
   "metadata": {
    "collapsed": false
   },
   "outputs": [],
   "source": [
    "# BES_Panel[\"coverage\"][  BES_Panel[\"wave9\"]==1 ].mean()"
   ]
  },
  {
   "cell_type": "code",
   "execution_count": 35,
   "metadata": {
    "collapsed": false
   },
   "outputs": [],
   "source": [
    "# BES_Panel[\"wave9\"].sum()"
   ]
  },
  {
   "cell_type": "code",
   "execution_count": 36,
   "metadata": {
    "collapsed": false
   },
   "outputs": [
    {
     "data": {
      "text/plain": [
       "(31409, 622)"
      ]
     },
     "execution_count": 36,
     "metadata": {},
     "output_type": "execute_result"
    }
   ],
   "source": [
    "BES_all_categories.shape"
   ]
  },
  {
   "cell_type": "code",
   "execution_count": 37,
   "metadata": {
    "collapsed": false
   },
   "outputs": [
    {
     "data": {
      "text/plain": [
       "(31409, 622)"
      ]
     },
     "execution_count": 37,
     "metadata": {},
     "output_type": "execute_result"
    }
   ],
   "source": [
    "BES_numerics_only = BES_all_categories\n",
    "BES_numerics_only.shape"
   ]
  },
  {
   "cell_type": "code",
   "execution_count": null,
   "metadata": {
    "collapsed": true
   },
   "outputs": [],
   "source": []
  },
  {
   "cell_type": "code",
   "execution_count": 38,
   "metadata": {
    "collapsed": false
   },
   "outputs": [
    {
     "data": {
      "text/plain": [
       "(array([  1.10000000e+01,   8.00000000e+00,   1.60000000e+01,\n",
       "          2.20000000e+01,   2.00000000e+01,   1.80000000e+01,\n",
       "          3.90000000e+01,   1.70000000e+01,   4.10000000e+01,\n",
       "          5.20000000e+01,   3.30000000e+01,   4.40000000e+01,\n",
       "          6.40000000e+01,   5.70000000e+01,   1.07000000e+02,\n",
       "          7.20000000e+01,   8.90000000e+01,   1.22000000e+02,\n",
       "          1.20000000e+02,   1.49000000e+02,   1.88000000e+02,\n",
       "          1.62000000e+02,   2.19000000e+02,   2.15000000e+02,\n",
       "          3.28000000e+02,   3.96000000e+02,   4.11000000e+02,\n",
       "          6.02000000e+02,   6.71000000e+02,   1.03500000e+03,\n",
       "          1.33800000e+03,   1.57900000e+03,   2.31500000e+03,\n",
       "          2.62300000e+03,   2.53200000e+03,   2.76100000e+03,\n",
       "          2.10400000e+03,   1.75100000e+03,   1.40800000e+03,\n",
       "          8.33000000e+02,   5.55000000e+02,   3.59000000e+02,\n",
       "          1.44000000e+02,   9.40000000e+01,   5.00000000e+01,\n",
       "          3.00000000e+01,   1.50000000e+01,   8.00000000e+00,\n",
       "          3.00000000e+00,   2.00000000e+00]),\n",
       " array([  31.  ,   39.62,   48.24,   56.86,   65.48,   74.1 ,   82.72,\n",
       "          91.34,   99.96,  108.58,  117.2 ,  125.82,  134.44,  143.06,\n",
       "         151.68,  160.3 ,  168.92,  177.54,  186.16,  194.78,  203.4 ,\n",
       "         212.02,  220.64,  229.26,  237.88,  246.5 ,  255.12,  263.74,\n",
       "         272.36,  280.98,  289.6 ,  298.22,  306.84,  315.46,  324.08,\n",
       "         332.7 ,  341.32,  349.94,  358.56,  367.18,  375.8 ,  384.42,\n",
       "         393.04,  401.66,  410.28,  418.9 ,  427.52,  436.14,  444.76,\n",
       "         453.38,  462.  ]),\n",
       " <a list of 50 Patch objects>)"
      ]
     },
     "execution_count": 38,
     "metadata": {},
     "output_type": "execute_result"
    },
    {
     "data": {
      "image/png": "[encoded data removed]",
      "text/plain": [
       "<matplotlib.figure.Figure at 0xafd5160>"
      ]
     },
     "metadata": {},
     "output_type": "display_data"
    }
   ],
   "source": [
    "counts = BES_numerics_only[BES_reduced[\"wave9\"]==1 ].count() # super slow!\n",
    "counts_by_individuals = BES_numerics_only[BES_reduced[\"wave9\"]==1 ].count(axis=1) # lets see\n",
    "f, axarr = plt.subplots( 2 ,figsize=(5, 5) )\n",
    "axarr[0].hist(counts,bins=50)\n",
    "axarr[1].hist(counts_by_individuals,bins=50)"
   ]
  },
  {
   "cell_type": "code",
   "execution_count": 39,
   "metadata": {
    "collapsed": false
   },
   "outputs": [],
   "source": [
    "# Suspicious answer coverage patterns\n",
    "# (1) people who don't answer much (hence positive correlation with people answering 'polAttention               0.485386')\n",
    "# (2) people who answer *too much* (hence positive correlation with 'EUContactLeaveSNP')\n",
    "\n",
    "# suggests a strategy to try to fish out those people by including dumb questions to find people who've stopped paying attention"
   ]
  },
  {
   "cell_type": "code",
   "execution_count": 40,
   "metadata": {
    "collapsed": false
   },
   "outputs": [
    {
     "name": "stderr",
     "output_type": "stream",
     "text": [
      "C:\\ANACON~1\\envs\\BES_analysis\\lib\\site-packages\\ipykernel\\__main__.py:4: SettingWithCopyWarning: \n",
      "A value is trying to be set on a copy of a slice from a DataFrame.\n",
      "Try using .loc[row_indexer,col_indexer] = value instead\n",
      "\n",
      "See the caveats in the documentation: http://pandas.pydata.org/pandas-docs/stable/indexing.html#indexing-view-versus-copy\n"
     ]
    }
   ],
   "source": [
    "# drop people who are coverage outliers\n",
    "# say top and bottom 5%\n",
    "BES_red = BES_numerics_only.loc[BES_reduced[\"wave9\"]==1 ]\n",
    "BES_red[\"coverage\"] = BES_numerics_only.count(axis=1)/BES_numerics_only.shape[1]"
   ]
  },
  {
   "cell_type": "code",
   "execution_count": 41,
   "metadata": {
    "collapsed": false
   },
   "outputs": [],
   "source": [
    "# BES_red[\"coverage\"].loc[inlier_people].hist()"
   ]
  },
  {
   "cell_type": "code",
   "execution_count": 42,
   "metadata": {
    "collapsed": false
   },
   "outputs": [],
   "source": [
    "# BES_red[\"coverage\"].quantile(1-thresh)\n",
    "# BES_red[\"coverage\"].quantile(  thresh)"
   ]
  },
  {
   "cell_type": "code",
   "execution_count": 43,
   "metadata": {
    "collapsed": false
   },
   "outputs": [],
   "source": [
    "thresh = .05\n",
    "outlier_people = BES_red[( BES_red[\"coverage\"]>BES_red[\"coverage\"].quantile(1-thresh) ) | \n",
    "                         ( BES_red[\"coverage\"]<BES_red[\"coverage\"].quantile(  thresh) ) ].index\n",
    "inlier_people  = BES_red[( BES_red[\"coverage\"]<BES_red[\"coverage\"].quantile(1-thresh) ) & \n",
    "                         ( BES_red[\"coverage\"]>BES_red[\"coverage\"].quantile(  thresh) ) ].index"
   ]
  },
  {
   "cell_type": "code",
   "execution_count": 44,
   "metadata": {
    "collapsed": false
   },
   "outputs": [
    {
     "data": {
      "text/plain": [
       "(array([   96.,    51.,    71.,    77.,    71.,    91.,    86.,   115.,\n",
       "          114.,    96.,   166.,   122.,   149.,   152.,   154.,   207.,\n",
       "          183.,   223.,   258.,   254.,   337.,   356.,   332.,   399.,\n",
       "          415.,   610.,   528.,   593.,   635.,   699.,  1034.,   870.,\n",
       "          840.,   903.,   921.,  1202.,  1001.,   948.,   923.,   890.,\n",
       "         1100.,   749.,   687.,   636.,   519.,   643.,   496.,   433.,\n",
       "          348.,   418.]),\n",
       " array([ 214. ,  217.2,  220.4,  223.6,  226.8,  230. ,  233.2,  236.4,\n",
       "         239.6,  242.8,  246. ,  249.2,  252.4,  255.6,  258.8,  262. ,\n",
       "         265.2,  268.4,  271.6,  274.8,  278. ,  281.2,  284.4,  287.6,\n",
       "         290.8,  294. ,  297.2,  300.4,  303.6,  306.8,  310. ,  313.2,\n",
       "         316.4,  319.6,  322.8,  326. ,  329.2,  332.4,  335.6,  338.8,\n",
       "         342. ,  345.2,  348.4,  351.6,  354.8,  358. ,  361.2,  364.4,\n",
       "         367.6,  370.8,  374. ]),\n",
       " <a list of 50 Patch objects>)"
      ]
     },
     "execution_count": 44,
     "metadata": {},
     "output_type": "execute_result"
    },
    {
     "data": {
      "image/png": "[encoded data removed]",
      "text/plain": [
       "<matplotlib.figure.Figure at 0xafd5b00>"
      ]
     },
     "metadata": {},
     "output_type": "display_data"
    }
   ],
   "source": [
    "counts = BES_numerics_only[BES_reduced[\"wave9\"]==1 ].loc[inlier_people].count() # super slow!\n",
    "counts_by_individuals = BES_numerics_only[BES_reduced[\"wave9\"]==1 ].loc[inlier_people].count(axis=1) # lets see\n",
    "f, axarr = plt.subplots( 2 ,figsize=(5, 5) )\n",
    "axarr[0].hist(counts,bins=50)\n",
    "axarr[1].hist(counts_by_individuals,bins=50)"
   ]
  },
  {
   "cell_type": "code",
   "execution_count": 45,
   "metadata": {
    "collapsed": false
   },
   "outputs": [],
   "source": [
    "\n",
    "mostly_filled_out = counts[counts> (counts.max()/3)].index"
   ]
  },
  {
   "cell_type": "code",
   "execution_count": 46,
   "metadata": {
    "collapsed": false
   },
   "outputs": [
    {
     "data": {
      "text/plain": [
       "(array([  1.00000000e+00,   4.00000000e+00,   9.00000000e+00,\n",
       "          2.40000000e+01,   7.40000000e+01,   1.81000000e+02,\n",
       "          2.73000000e+02,   3.39000000e+02,   4.49000000e+02,\n",
       "          5.59000000e+02,   7.41000000e+02,   1.07000000e+03,\n",
       "          1.56800000e+03,   2.13900000e+03,   2.77900000e+03,\n",
       "          2.41800000e+03,   3.08600000e+03,   3.40200000e+03,\n",
       "          3.18700000e+03,   8.98000000e+02]),\n",
       " array([ 153.  ,  161.95,  170.9 ,  179.85,  188.8 ,  197.75,  206.7 ,\n",
       "         215.65,  224.6 ,  233.55,  242.5 ,  251.45,  260.4 ,  269.35,\n",
       "         278.3 ,  287.25,  296.2 ,  305.15,  314.1 ,  323.05,  332.  ]),\n",
       " <a list of 20 Patch objects>)"
      ]
     },
     "execution_count": 46,
     "metadata": {},
     "output_type": "execute_result"
    },
    {
     "data": {
      "image/png": "[encoded data removed]",
      "text/plain": [
       "<matplotlib.figure.Figure at 0xb005ac8>"
      ]
     },
     "metadata": {},
     "output_type": "display_data"
    }
   ],
   "source": [
    "counts = BES_numerics_only[BES_reduced[\"wave9\"]==1 ].loc[inlier_people][mostly_filled_out].count() # super slow!\n",
    "counts_by_individuals = BES_numerics_only[BES_reduced[\"wave9\"]==1 ].loc[inlier_people][mostly_filled_out].count(axis=1) # lets see\n",
    "f, axarr = plt.subplots( 2 ,figsize=(5, 5) )\n",
    "axarr[0].hist(counts,bins=20)\n",
    "axarr[1].hist(counts_by_individuals,bins=20)"
   ]
  },
  {
   "cell_type": "code",
   "execution_count": 47,
   "metadata": {
    "collapsed": false
   },
   "outputs": [],
   "source": [
    "BES_min = BES_numerics_only[BES_reduced[\"wave9\"]==1 ].loc[inlier_people][mostly_filled_out]"
   ]
  },
  {
   "cell_type": "code",
   "execution_count": 48,
   "metadata": {
    "collapsed": false
   },
   "outputs": [],
   "source": [
    "counts_by_individuals = BES_numerics_only[BES_reduced[\"wave9\"]==1 ].loc[inlier_people][mostly_filled_out].count(axis=1)\n"
   ]
  },
  {
   "cell_type": "code",
   "execution_count": 49,
   "metadata": {
    "collapsed": false
   },
   "outputs": [
    {
     "data": {
      "text/plain": [
       "0.13909154235815255"
      ]
     },
     "execution_count": 49,
     "metadata": {},
     "output_type": "execute_result"
    }
   ],
   "source": [
    "BES_min.isnull().sum().sum()/(BES_min.shape[0]*BES_min.shape[1])"
   ]
  },
  {
   "cell_type": "code",
   "execution_count": null,
   "metadata": {
    "collapsed": false
   },
   "outputs": [],
   "source": []
  },
  {
   "cell_type": "code",
   "execution_count": 50,
   "metadata": {
    "collapsed": false
   },
   "outputs": [],
   "source": [
    "corr_mat = BES_min.corr()"
   ]
  },
  {
   "cell_type": "code",
   "execution_count": null,
   "metadata": {
    "collapsed": false
   },
   "outputs": [],
   "source": []
  },
  {
   "cell_type": "code",
   "execution_count": 51,
   "metadata": {
    "collapsed": false
   },
   "outputs": [],
   "source": [
    "# BES_latest = pd.read_stata(\"../BES_analysis_data/BES2015_W8_v1.6.dta\") "
   ]
  },
  {
   "cell_type": "code",
   "execution_count": 52,
   "metadata": {
    "collapsed": false
   },
   "outputs": [],
   "source": [
    "# create lower triangle - diag mask\n",
    "col_vars = len( corr_mat )\n",
    "df = pd.DataFrame( np.arange(col_vars*col_vars).reshape(col_vars,col_vars) )\n",
    "mask = np.ones(df.shape,dtype='bool')\n",
    "mask[np.triu_indices(len(df))] = False"
   ]
  },
  {
   "cell_type": "code",
   "execution_count": null,
   "metadata": {
    "collapsed": false
   },
   "outputs": [],
   "source": []
  },
  {
   "cell_type": "code",
   "execution_count": null,
   "metadata": {
    "collapsed": false
   },
   "outputs": [],
   "source": []
  },
  {
   "cell_type": "code",
   "execution_count": 53,
   "metadata": {
    "collapsed": false
   },
   "outputs": [
    {
     "data": {
      "text/plain": [
       "<matplotlib.axes._subplots.AxesSubplot at 0x111d92e8>"
      ]
     },
     "execution_count": 53,
     "metadata": {},
     "output_type": "execute_result"
    },
    {
     "data": {
      "image/png": "[encoded data removed]",
      "text/plain": [
       "<matplotlib.figure.Figure at 0xb028358>"
      ]
     },
     "metadata": {},
     "output_type": "display_data"
    }
   ],
   "source": [
    "corr_mat.mask(~mask).stack().hist(bins=100)"
   ]
  },
  {
   "cell_type": "code",
   "execution_count": 54,
   "metadata": {
    "collapsed": false
   },
   "outputs": [
    {
     "name": "stdout",
     "output_type": "stream",
     "text": [
      "('euRefVoteUnsqueeze', 'euRefVote', 1.0, 0.77388905650618511, 0.94534718331106415)\n",
      "('euRefVote2', 'euRefVote', 1.0, 0.81802508512564109, 0.94534718331106415)\n",
      "('euRefVote2', 'euRefVoteUnsqueeze', 1.0, 0.81802508512564109, 0.77388905650618511)\n",
      "('euIDW9', 'euRefVoteW9', 0.96472423446564703, 0.94323520537907846, 0.94888151372785656)\n",
      "('ageGroup', 'age', 0.97371385050326142, 0.62824878238006987, 1.0)\n",
      "('Age', 'age', 0.99860616889103337, 0.80832722727468642, 1.0)\n",
      "('Age', 'ageGroup', 0.97537141058803767, 0.80832722727468642, 0.62824878238006987)\n",
      "('ns_sec_analytic', 'ns_sec', 0.97778177130482335, 0.44170509891815007, 0.43864488599629325)\n",
      "('profile_turnout_2015', 'voted2015', 0.99913942428774694, 0.80591353820955991, 0.92995991552088275)\n",
      "('profile_past_vote_2015', 'recallVote15', 1.0, 0.73095987241929228, 0.84082582647299686)\n"
     ]
    }
   ],
   "source": [
    "thresh = .05\n",
    "x = ( ( corr_mat>(1-thresh) ) &mask ).values.nonzero()\n",
    "# z = list( zip(corr_mat.columns[x[0]],corr_mat.columns[x[1]]) )\n",
    "# z\n",
    "for i in range( 0,len(x[0]) ):\n",
    "    a = corr_mat.columns[ x[0][i] ]\n",
    "    b = corr_mat.columns[ x[1][i] ]\n",
    "    print( ( a,b,corr_mat[a][b], BES_min[a].notnull().mean(), BES_min[b].notnull().mean() ) )\n",
    "\n",
    "x = ( ( corr_mat<(thresh-1) ) &mask ).values.nonzero()\n",
    "# z = list( zip(corr_mat.columns[x[0]],corr_mat.columns[x[1]]) )\n",
    "# z\n",
    "for i in range( 0,len(x[0]) ):\n",
    "    a = corr_mat.columns[ x[0][i] ]\n",
    "    b = corr_mat.columns[ x[1][i] ]\n",
    "    print( ( a,b,corr_mat[a][b], BES_min[a].notnull().mean(), BES_min[b].notnull().mean() ) )    "
   ]
  },
  {
   "cell_type": "code",
   "execution_count": 55,
   "metadata": {
    "collapsed": false
   },
   "outputs": [],
   "source": [
    "# without categories\n",
    "# high_corr_drop_list = ['euRefVoteUnsqueeze', 'euRefVote2', 'ageGroup', 'age', 'voted2015' ]\n",
    "\n",
    "# with categories\n",
    "high_corr_drop_list = ['euRefVoteUnsqueeze', 'euRefVote2', 'ageGroup', 'age', 'voted2015', \"ns_sec\" , 'recallVote15']\n",
    "\n",
    "\n",
    "# ns_sec/ns_sec_analytic ... hard to choose between"
   ]
  },
  {
   "cell_type": "code",
   "execution_count": null,
   "metadata": {
    "collapsed": false
   },
   "outputs": [],
   "source": []
  },
  {
   "cell_type": "code",
   "execution_count": null,
   "metadata": {
    "collapsed": true
   },
   "outputs": [],
   "source": []
  },
  {
   "cell_type": "code",
   "execution_count": 56,
   "metadata": {
    "collapsed": false
   },
   "outputs": [],
   "source": [
    "# Age - age as of January 2014\n"
   ]
  },
  {
   "cell_type": "code",
   "execution_count": 57,
   "metadata": {
    "collapsed": true
   },
   "outputs": [],
   "source": [
    "# skip!\n",
    "# BES_min = BES_numerics_only[BES_reduced[\"wave9\"]==1 ]"
   ]
  },
  {
   "cell_type": "code",
   "execution_count": 58,
   "metadata": {
    "collapsed": false
   },
   "outputs": [],
   "source": [
    "BES_min.drop(high_corr_drop_list,axis=1, inplace=True)"
   ]
  },
  {
   "cell_type": "code",
   "execution_count": 59,
   "metadata": {
    "collapsed": false
   },
   "outputs": [
    {
     "data": {
      "text/plain": [
       "(23201, 327)"
      ]
     },
     "execution_count": 59,
     "metadata": {},
     "output_type": "execute_result"
    }
   ],
   "source": [
    "BES_min.shape"
   ]
  },
  {
   "cell_type": "code",
   "execution_count": 60,
   "metadata": {
    "collapsed": false
   },
   "outputs": [
    {
     "data": {
      "text/plain": [
       "achieveReduceImmigDKW9                2\n",
       "BESwave9_SamplesurveyW9               2\n",
       "gender                                2\n",
       "achieveReduceImmigLDW9                3\n",
       "socialDes_1                           3\n",
       "languageSkills                        3\n",
       "euRefTurnoutRetroW9                   3\n",
       "partyContact1                         3\n",
       "euGovtLeaflet                         3\n",
       "euRefVoteW9                           3\n",
       "euSources_99                          3\n",
       "localTurnoutRetro                     3\n",
       "pccTurnout                            3\n",
       "euSources_111                         3\n",
       "euSources_5                           3\n",
       "euSources_4                           3\n",
       "euSources_3                           3\n",
       "euSources_2                           3\n",
       "euSources_1                           3\n",
       "regretsIHaveAFewW9                    3\n",
       "euRefFinalPostW9                      3\n",
       "travelEUW9                            3\n",
       "achieveReduceImmigConW9               3\n",
       "achieveReduceImmigLabW9               3\n",
       "achieveReduceImmigUKIPW9              3\n",
       "achieveReduceImmigGrnW9               3\n",
       "achieveReduceImmigNoneW9              3\n",
       "socialDes_2                           3\n",
       "socialDes_3                           3\n",
       "euIDW9                                3\n",
       "                                   ... \n",
       "EUIntegrationGreen                   12\n",
       "immigLabW9                           12\n",
       "immigLD                              12\n",
       "likeMcDonnellW9                      12\n",
       "likeWatsonW9                         12\n",
       "immigSelf                            12\n",
       "likeMayW9                            12\n",
       "ptvGrnW9                             12\n",
       "ptvUKIPW9                            12\n",
       "ptvLabW9                             12\n",
       "ptvConW9                             12\n",
       "immigUKIPW9                          12\n",
       "immigGreenW9                         12\n",
       "likeGoveW9                           12\n",
       "profile_past_vote_2005               13\n",
       "profile_gross_personal               15\n",
       "profile_religion_denom               15\n",
       "euMIISmall                           15\n",
       "profile_newspaper_readership_201     16\n",
       "profile_gross_household              16\n",
       "profile_ethnicity                    16\n",
       "profile_religion                     19\n",
       "education                            19\n",
       "al_scale                             22\n",
       "lr_scale                             22\n",
       "EUMIICategory                        53\n",
       "Age                                  75\n",
       "euRefExpectation                    102\n",
       "profile_lea                         206\n",
       "profile_oslaua                      380\n",
       "dtype: int64"
      ]
     },
     "execution_count": 60,
     "metadata": {},
     "output_type": "execute_result"
    }
   ],
   "source": [
    "BES_min.apply(lambda x: len(pd.unique(x))).sort_values()"
   ]
  },
  {
   "cell_type": "code",
   "execution_count": 61,
   "metadata": {
    "collapsed": true
   },
   "outputs": [],
   "source": [
    "many_cat_drop_list = ['profile_lea', 'profile_oslaua']"
   ]
  },
  {
   "cell_type": "code",
   "execution_count": 62,
   "metadata": {
    "collapsed": false
   },
   "outputs": [],
   "source": [
    "BES_min.drop(many_cat_drop_list,axis=1, inplace=True)"
   ]
  },
  {
   "cell_type": "code",
   "execution_count": 63,
   "metadata": {
    "collapsed": false
   },
   "outputs": [],
   "source": [
    "BES_min.to_hdf(\"../BES_analysis_data/BESW8min.hdf\", \"BESW8min\")"
   ]
  },
  {
   "cell_type": "code",
   "execution_count": 64,
   "metadata": {
    "collapsed": false
   },
   "outputs": [
    {
     "data": {
      "text/plain": [
       "(23201, 325)"
      ]
     },
     "execution_count": 64,
     "metadata": {},
     "output_type": "execute_result"
    }
   ],
   "source": [
    "BES_min.shape"
   ]
  },
  {
   "cell_type": "code",
   "execution_count": 65,
   "metadata": {
    "collapsed": false
   },
   "outputs": [],
   "source": [
    "# ../BES_analysis_data/"
   ]
  },
  {
   "cell_type": "code",
   "execution_count": null,
   "metadata": {
    "collapsed": false
   },
   "outputs": [],
   "source": []
  },
  {
   "cell_type": "code",
   "execution_count": null,
   "metadata": {
    "collapsed": false
   },
   "outputs": [],
   "source": []
  },
  {
   "cell_type": "code",
   "execution_count": 66,
   "metadata": {
    "collapsed": false
   },
   "outputs": [
    {
     "data": {
      "text/plain": [
       "14"
      ]
     },
     "execution_count": 66,
     "metadata": {},
     "output_type": "execute_result"
    }
   ],
   "source": [
    "BES_new = pd.read_hdf(\"../BES_analysis_data/BESW8min.hdf\")\n",
    "import gc\n",
    "gc.collect()"
   ]
  },
  {
   "cell_type": "code",
   "execution_count": 67,
   "metadata": {
    "collapsed": false,
    "scrolled": true
   },
   "outputs": [
    {
     "name": "stderr",
     "output_type": "stream",
     "text": [
      "Using Theano backend.\n"
     ]
    }
   ],
   "source": [
    "from fancyimpute import BiScaler, KNN, NuclearNormMinimization, SoftImpute"
   ]
  },
  {
   "cell_type": "code",
   "execution_count": 68,
   "metadata": {
    "collapsed": true
   },
   "outputs": [],
   "source": [
    "from fancyimpute import MICE"
   ]
  },
  {
   "cell_type": "code",
   "execution_count": 69,
   "metadata": {
    "collapsed": false
   },
   "outputs": [
    {
     "name": "stdout",
     "output_type": "stream",
     "text": [
      "Computing pairwise distances between 23201 samples\n",
      "Computing distances for sample #1/23201, elapsed time: 197.426\n",
      "Computing distances for sample #101/23201, elapsed time: 207.196\n",
      "Computing distances for sample #201/23201, elapsed time: 216.558\n",
      "Computing distances for sample #301/23201, elapsed time: 225.763\n",
      "Computing distances for sample #401/23201, elapsed time: 234.844\n",
      "Computing distances for sample #501/23201, elapsed time: 245.094\n",
      "Computing distances for sample #601/23201, elapsed time: 254.204\n",
      "Computing distances for sample #701/23201, elapsed time: 263.340\n",
      "Computing distances for sample #801/23201, elapsed time: 272.501\n",
      "Computing distances for sample #901/23201, elapsed time: 281.684\n",
      "Computing distances for sample #1001/23201, elapsed time: 290.823\n",
      "Computing distances for sample #1101/23201, elapsed time: 299.988\n",
      "Computing distances for sample #1201/23201, elapsed time: 309.366\n",
      "Computing distances for sample #1301/23201, elapsed time: 318.616\n",
      "Computing distances for sample #1401/23201, elapsed time: 328.062\n",
      "Computing distances for sample #1501/23201, elapsed time: 337.541\n",
      "Computing distances for sample #1601/23201, elapsed time: 347.618\n",
      "Computing distances for sample #1701/23201, elapsed time: 356.877\n",
      "Computing distances for sample #1801/23201, elapsed time: 366.103\n",
      "Computing distances for sample #1901/23201, elapsed time: 375.288\n",
      "Computing distances for sample #2001/23201, elapsed time: 384.721\n",
      "Computing distances for sample #2101/23201, elapsed time: 394.126\n",
      "Computing distances for sample #2201/23201, elapsed time: 403.329\n",
      "Computing distances for sample #2301/23201, elapsed time: 412.537\n",
      "Computing distances for sample #2401/23201, elapsed time: 421.692\n",
      "Computing distances for sample #2501/23201, elapsed time: 430.835\n",
      "Computing distances for sample #2601/23201, elapsed time: 440.174\n",
      "Computing distances for sample #2701/23201, elapsed time: 449.673\n",
      "Computing distances for sample #2801/23201, elapsed time: 459.534\n",
      "Computing distances for sample #2901/23201, elapsed time: 468.901\n",
      "Computing distances for sample #3001/23201, elapsed time: 478.260\n",
      "Computing distances for sample #3101/23201, elapsed time: 487.629\n",
      "Computing distances for sample #3201/23201, elapsed time: 496.925\n",
      "Computing distances for sample #3301/23201, elapsed time: 506.166\n",
      "Computing distances for sample #3401/23201, elapsed time: 515.389\n",
      "Computing distances for sample #3501/23201, elapsed time: 524.665\n",
      "Computing distances for sample #3601/23201, elapsed time: 534.051\n",
      "Computing distances for sample #3701/23201, elapsed time: 543.698\n",
      "Computing distances for sample #3801/23201, elapsed time: 553.119\n",
      "Computing distances for sample #3901/23201, elapsed time: 563.018\n",
      "Computing distances for sample #4001/23201, elapsed time: 572.807\n",
      "Computing distances for sample #4101/23201, elapsed time: 582.115\n",
      "Computing distances for sample #4201/23201, elapsed time: 591.381\n",
      "Computing distances for sample #4301/23201, elapsed time: 600.598\n",
      "Computing distances for sample #4401/23201, elapsed time: 609.748\n",
      "Computing distances for sample #4501/23201, elapsed time: 618.979\n",
      "Computing distances for sample #4601/23201, elapsed time: 628.256\n",
      "Computing distances for sample #4701/23201, elapsed time: 637.456\n",
      "Computing distances for sample #4801/23201, elapsed time: 646.682\n",
      "Computing distances for sample #4901/23201, elapsed time: 655.984\n",
      "Computing distances for sample #5001/23201, elapsed time: 665.414\n",
      "Computing distances for sample #5101/23201, elapsed time: 674.707\n",
      "Computing distances for sample #5201/23201, elapsed time: 683.992\n",
      "Computing distances for sample #5301/23201, elapsed time: 693.699\n",
      "Computing distances for sample #5401/23201, elapsed time: 703.121\n",
      "Computing distances for sample #5501/23201, elapsed time: 712.679\n",
      "Computing distances for sample #5601/23201, elapsed time: 721.999\n",
      "Computing distances for sample #5701/23201, elapsed time: 731.227\n",
      "Computing distances for sample #5801/23201, elapsed time: 740.678\n",
      "Computing distances for sample #5901/23201, elapsed time: 750.072\n",
      "Computing distances for sample #6001/23201, elapsed time: 759.489\n",
      "Computing distances for sample #6101/23201, elapsed time: 768.967\n",
      "Computing distances for sample #6201/23201, elapsed time: 778.297\n",
      "Computing distances for sample #6301/23201, elapsed time: 787.705\n",
      "Computing distances for sample #6401/23201, elapsed time: 796.963\n",
      "Computing distances for sample #6501/23201, elapsed time: 806.107\n",
      "Computing distances for sample #6601/23201, elapsed time: 816.020\n",
      "Computing distances for sample #6701/23201, elapsed time: 825.476\n",
      "Computing distances for sample #6801/23201, elapsed time: 834.747\n",
      "Computing distances for sample #6901/23201, elapsed time: 844.008\n",
      "Computing distances for sample #7001/23201, elapsed time: 853.316\n",
      "Computing distances for sample #7101/23201, elapsed time: 862.918\n",
      "Computing distances for sample #7201/23201, elapsed time: 872.212\n",
      "Computing distances for sample #7301/23201, elapsed time: 881.564\n",
      "Computing distances for sample #7401/23201, elapsed time: 891.208\n",
      "Computing distances for sample #7501/23201, elapsed time: 900.650\n",
      "Computing distances for sample #7601/23201, elapsed time: 909.853\n",
      "Computing distances for sample #7701/23201, elapsed time: 919.049\n",
      "Computing distances for sample #7801/23201, elapsed time: 928.253\n",
      "Computing distances for sample #7901/23201, elapsed time: 937.664\n",
      "Computing distances for sample #8001/23201, elapsed time: 947.107\n",
      "Computing distances for sample #8101/23201, elapsed time: 956.506\n",
      "Computing distances for sample #8201/23201, elapsed time: 965.822\n",
      "Computing distances for sample #8301/23201, elapsed time: 975.157\n",
      "Computing distances for sample #8401/23201, elapsed time: 984.796\n",
      "Computing distances for sample #8501/23201, elapsed time: 994.055\n",
      "Computing distances for sample #8601/23201, elapsed time: 1003.226\n",
      "Computing distances for sample #8701/23201, elapsed time: 1012.408\n",
      "Computing distances for sample #8801/23201, elapsed time: 1021.585\n",
      "Computing distances for sample #8901/23201, elapsed time: 1030.720\n",
      "Computing distances for sample #9001/23201, elapsed time: 1039.893\n",
      "Computing distances for sample #9101/23201, elapsed time: 1049.074\n",
      "Computing distances for sample #9201/23201, elapsed time: 1058.214\n",
      "Computing distances for sample #9301/23201, elapsed time: 1067.434\n",
      "Computing distances for sample #9401/23201, elapsed time: 1076.622\n",
      "Computing distances for sample #9501/23201, elapsed time: 1086.184\n",
      "Computing distances for sample #9601/23201, elapsed time: 1095.521\n",
      "Computing distances for sample #9701/23201, elapsed time: 1104.788\n",
      "Computing distances for sample #9801/23201, elapsed time: 1114.305\n",
      "Computing distances for sample #9901/23201, elapsed time: 1123.751\n",
      "Computing distances for sample #10001/23201, elapsed time: 1132.903\n",
      "Computing distances for sample #10101/23201, elapsed time: 1142.075\n",
      "Computing distances for sample #10201/23201, elapsed time: 1151.281\n",
      "Computing distances for sample #10301/23201, elapsed time: 1161.044\n"
     ]
    },
    {
     "ename": "KeyboardInterrupt",
     "evalue": "",
     "output_type": "error",
     "traceback": [
      "\u001b[0;31m---------------------------------------------------------------------------\u001b[0m",
      "\u001b[0;31mKeyboardInterrupt\u001b[0m                         Traceback (most recent call last)",
      "\u001b[0;32m<ipython-input-69-d3ddaf5b348c>\u001b[0m in \u001b[0;36m<module>\u001b[0;34m()\u001b[0m\n\u001b[0;32m----> 1\u001b[0;31m \u001b[0mX_filled_knn\u001b[0m \u001b[0;34m=\u001b[0m \u001b[0mKNN\u001b[0m\u001b[0;34m(\u001b[0m\u001b[0mk\u001b[0m\u001b[0;34m=\u001b[0m\u001b[0;36m3\u001b[0m\u001b[0;34m)\u001b[0m\u001b[0;34m.\u001b[0m\u001b[0mcomplete\u001b[0m\u001b[0;34m(\u001b[0m\u001b[0mBES_new\u001b[0m\u001b[0;34m)\u001b[0m\u001b[0;34m\u001b[0m\u001b[0m\n\u001b[0m",
      "\u001b[0;32mC:\\ANACON~1\\envs\\BES_analysis\\lib\\site-packages\\fancyimpute\\solver.py\u001b[0m in \u001b[0;36mcomplete\u001b[0;34m(self, X)\u001b[0m\n\u001b[1;32m    205\u001b[0m         \u001b[0mReturns\u001b[0m \u001b[0mcompleted\u001b[0m \u001b[0mmatrix\u001b[0m \u001b[0mwithout\u001b[0m \u001b[0many\u001b[0m \u001b[0mNaNs\u001b[0m\u001b[0;34m.\u001b[0m\u001b[0;34m\u001b[0m\u001b[0m\n\u001b[1;32m    206\u001b[0m         \"\"\"\n\u001b[0;32m--> 207\u001b[0;31m         \u001b[0mimputations\u001b[0m \u001b[0;34m=\u001b[0m \u001b[0mself\u001b[0m\u001b[0;34m.\u001b[0m\u001b[0mmultiple_imputations\u001b[0m\u001b[0;34m(\u001b[0m\u001b[0mX\u001b[0m\u001b[0;34m)\u001b[0m\u001b[0;34m\u001b[0m\u001b[0m\n\u001b[0m\u001b[1;32m    208\u001b[0m         \u001b[0;32mif\u001b[0m \u001b[0mlen\u001b[0m\u001b[0;34m(\u001b[0m\u001b[0mimputations\u001b[0m\u001b[0;34m)\u001b[0m \u001b[0;34m==\u001b[0m \u001b[0;36m1\u001b[0m\u001b[0;34m:\u001b[0m\u001b[0;34m\u001b[0m\u001b[0m\n\u001b[1;32m    209\u001b[0m             \u001b[0;32mreturn\u001b[0m \u001b[0mimputations\u001b[0m\u001b[0;34m[\u001b[0m\u001b[0;36m0\u001b[0m\u001b[0;34m]\u001b[0m\u001b[0;34m\u001b[0m\u001b[0m\n",
      "\u001b[0;32mC:\\ANACON~1\\envs\\BES_analysis\\lib\\site-packages\\fancyimpute\\solver.py\u001b[0m in \u001b[0;36mmultiple_imputations\u001b[0;34m(self, X)\u001b[0m\n\u001b[1;32m    197\u001b[0m         \u001b[0mGenerate\u001b[0m \u001b[0mmultiple\u001b[0m \u001b[0mimputations\u001b[0m \u001b[0mof\u001b[0m \u001b[0mthe\u001b[0m \u001b[0msame\u001b[0m \u001b[0mincomplete\u001b[0m \u001b[0mmatrix\u001b[0m\u001b[0;34m\u001b[0m\u001b[0m\n\u001b[1;32m    198\u001b[0m         \"\"\"\n\u001b[0;32m--> 199\u001b[0;31m         \u001b[0;32mreturn\u001b[0m \u001b[0;34m[\u001b[0m\u001b[0mself\u001b[0m\u001b[0;34m.\u001b[0m\u001b[0msingle_imputation\u001b[0m\u001b[0;34m(\u001b[0m\u001b[0mX\u001b[0m\u001b[0;34m)\u001b[0m \u001b[0;32mfor\u001b[0m \u001b[0m_\u001b[0m \u001b[0;32min\u001b[0m \u001b[0mrange\u001b[0m\u001b[0;34m(\u001b[0m\u001b[0mself\u001b[0m\u001b[0;34m.\u001b[0m\u001b[0mn_imputations\u001b[0m\u001b[0;34m)\u001b[0m\u001b[0;34m]\u001b[0m\u001b[0;34m\u001b[0m\u001b[0m\n\u001b[0m\u001b[1;32m    200\u001b[0m \u001b[0;34m\u001b[0m\u001b[0m\n\u001b[1;32m    201\u001b[0m     \u001b[0;32mdef\u001b[0m \u001b[0mcomplete\u001b[0m\u001b[0;34m(\u001b[0m\u001b[0mself\u001b[0m\u001b[0;34m,\u001b[0m \u001b[0mX\u001b[0m\u001b[0;34m)\u001b[0m\u001b[0;34m:\u001b[0m\u001b[0;34m\u001b[0m\u001b[0m\n",
      "\u001b[0;32mC:\\ANACON~1\\envs\\BES_analysis\\lib\\site-packages\\fancyimpute\\solver.py\u001b[0m in \u001b[0;36m<listcomp>\u001b[0;34m(.0)\u001b[0m\n\u001b[1;32m    197\u001b[0m         \u001b[0mGenerate\u001b[0m \u001b[0mmultiple\u001b[0m \u001b[0mimputations\u001b[0m \u001b[0mof\u001b[0m \u001b[0mthe\u001b[0m \u001b[0msame\u001b[0m \u001b[0mincomplete\u001b[0m \u001b[0mmatrix\u001b[0m\u001b[0;34m\u001b[0m\u001b[0m\n\u001b[1;32m    198\u001b[0m         \"\"\"\n\u001b[0;32m--> 199\u001b[0;31m         \u001b[0;32mreturn\u001b[0m \u001b[0;34m[\u001b[0m\u001b[0mself\u001b[0m\u001b[0;34m.\u001b[0m\u001b[0msingle_imputation\u001b[0m\u001b[0;34m(\u001b[0m\u001b[0mX\u001b[0m\u001b[0;34m)\u001b[0m \u001b[0;32mfor\u001b[0m \u001b[0m_\u001b[0m \u001b[0;32min\u001b[0m \u001b[0mrange\u001b[0m\u001b[0;34m(\u001b[0m\u001b[0mself\u001b[0m\u001b[0;34m.\u001b[0m\u001b[0mn_imputations\u001b[0m\u001b[0;34m)\u001b[0m\u001b[0;34m]\u001b[0m\u001b[0;34m\u001b[0m\u001b[0m\n\u001b[0m\u001b[1;32m    200\u001b[0m \u001b[0;34m\u001b[0m\u001b[0m\n\u001b[1;32m    201\u001b[0m     \u001b[0;32mdef\u001b[0m \u001b[0mcomplete\u001b[0m\u001b[0;34m(\u001b[0m\u001b[0mself\u001b[0m\u001b[0;34m,\u001b[0m \u001b[0mX\u001b[0m\u001b[0;34m)\u001b[0m\u001b[0;34m:\u001b[0m\u001b[0;34m\u001b[0m\u001b[0m\n",
      "\u001b[0;32mC:\\ANACON~1\\envs\\BES_analysis\\lib\\site-packages\\fancyimpute\\solver.py\u001b[0m in \u001b[0;36msingle_imputation\u001b[0;34m(self, X)\u001b[0m\n\u001b[1;32m    182\u001b[0m                     type(X_filled)))\n\u001b[1;32m    183\u001b[0m \u001b[0;34m\u001b[0m\u001b[0m\n\u001b[0;32m--> 184\u001b[0;31m         \u001b[0mX_result\u001b[0m \u001b[0;34m=\u001b[0m \u001b[0mself\u001b[0m\u001b[0;34m.\u001b[0m\u001b[0msolve\u001b[0m\u001b[0;34m(\u001b[0m\u001b[0mX_filled\u001b[0m\u001b[0;34m,\u001b[0m \u001b[0mmissing_mask\u001b[0m\u001b[0;34m)\u001b[0m\u001b[0;34m\u001b[0m\u001b[0m\n\u001b[0m\u001b[1;32m    185\u001b[0m         \u001b[0;32mif\u001b[0m \u001b[0;32mnot\u001b[0m \u001b[0misinstance\u001b[0m\u001b[0;34m(\u001b[0m\u001b[0mX_result\u001b[0m\u001b[0;34m,\u001b[0m \u001b[0mnp\u001b[0m\u001b[0;34m.\u001b[0m\u001b[0mndarray\u001b[0m\u001b[0;34m)\u001b[0m\u001b[0;34m:\u001b[0m\u001b[0;34m\u001b[0m\u001b[0m\n\u001b[1;32m    186\u001b[0m             raise TypeError(\n",
      "\u001b[0;32mC:\\ANACON~1\\envs\\BES_analysis\\lib\\site-packages\\fancyimpute\\knn.py\u001b[0m in \u001b[0;36msolve\u001b[0;34m(self, X, missing_mask)\u001b[0m\n\u001b[1;32m     93\u001b[0m             \u001b[0mk\u001b[0m\u001b[0;34m=\u001b[0m\u001b[0mself\u001b[0m\u001b[0;34m.\u001b[0m\u001b[0mk\u001b[0m\u001b[0;34m,\u001b[0m\u001b[0;34m\u001b[0m\u001b[0m\n\u001b[1;32m     94\u001b[0m             \u001b[0mverbose\u001b[0m\u001b[0;34m=\u001b[0m\u001b[0mself\u001b[0m\u001b[0;34m.\u001b[0m\u001b[0mverbose\u001b[0m\u001b[0;34m,\u001b[0m\u001b[0;34m\u001b[0m\u001b[0m\n\u001b[0;32m---> 95\u001b[0;31m             print_interval=self.print_interval)\n\u001b[0m\u001b[1;32m     96\u001b[0m \u001b[0;34m\u001b[0m\u001b[0m\n\u001b[1;32m     97\u001b[0m         \u001b[0mfailed_to_impute\u001b[0m \u001b[0;34m=\u001b[0m \u001b[0mnp\u001b[0m\u001b[0;34m.\u001b[0m\u001b[0misnan\u001b[0m\u001b[0;34m(\u001b[0m\u001b[0mX_imputed\u001b[0m\u001b[0;34m)\u001b[0m\u001b[0;34m\u001b[0m\u001b[0m\n",
      "\u001b[0;32mC:\\ANACON~1\\envs\\BES_analysis\\lib\\site-packages\\knnimpute\\few_observed_entries.py\u001b[0m in \u001b[0;36mknn_impute_few_observed\u001b[0;34m(X, missing_mask, k, verbose, print_interval)\u001b[0m\n\u001b[1;32m     48\u001b[0m     \u001b[0mobserved_mask_column_major\u001b[0m \u001b[0;34m=\u001b[0m \u001b[0;34m~\u001b[0m\u001b[0mmissing_mask_column_major\u001b[0m\u001b[0;34m\u001b[0m\u001b[0m\n\u001b[1;32m     49\u001b[0m     \u001b[0mX_column_major\u001b[0m \u001b[0;34m=\u001b[0m \u001b[0mX\u001b[0m\u001b[0;34m.\u001b[0m\u001b[0mcopy\u001b[0m\u001b[0;34m(\u001b[0m\u001b[0morder\u001b[0m\u001b[0;34m=\u001b[0m\u001b[0;34m\"F\"\u001b[0m\u001b[0;34m)\u001b[0m\u001b[0;34m\u001b[0m\u001b[0m\n\u001b[0;32m---> 50\u001b[0;31m     \u001b[0mX_row_major\u001b[0m\u001b[0;34m,\u001b[0m \u001b[0mD\u001b[0m \u001b[0;34m=\u001b[0m \u001b[0mknn_initialize\u001b[0m\u001b[0;34m(\u001b[0m\u001b[0mX\u001b[0m\u001b[0;34m,\u001b[0m \u001b[0mmissing_mask\u001b[0m\u001b[0;34m,\u001b[0m \u001b[0mverbose\u001b[0m\u001b[0;34m=\u001b[0m\u001b[0mverbose\u001b[0m\u001b[0;34m)\u001b[0m\u001b[0;34m\u001b[0m\u001b[0m\n\u001b[0m\u001b[1;32m     51\u001b[0m     \u001b[0;31m# get rid of infinities, replace them with a very large number\u001b[0m\u001b[0;34m\u001b[0m\u001b[0;34m\u001b[0m\u001b[0m\n\u001b[1;32m     52\u001b[0m     \u001b[0mfinite_distance_distance_mask\u001b[0m \u001b[0;34m=\u001b[0m \u001b[0mnp\u001b[0m\u001b[0;34m.\u001b[0m\u001b[0misfinite\u001b[0m\u001b[0;34m(\u001b[0m\u001b[0mD\u001b[0m\u001b[0;34m)\u001b[0m\u001b[0;34m\u001b[0m\u001b[0m\n",
      "\u001b[0;32mC:\\ANACON~1\\envs\\BES_analysis\\lib\\site-packages\\knnimpute\\common.py\u001b[0m in \u001b[0;36mknn_initialize\u001b[0;34m(X, missing_mask, verbose)\u001b[0m\n\u001b[1;32m     30\u001b[0m         \u001b[0;31m# to put NaN's back in the data matrix for the distances function\u001b[0m\u001b[0;34m\u001b[0m\u001b[0;34m\u001b[0m\u001b[0m\n\u001b[1;32m     31\u001b[0m         \u001b[0mX_row_major\u001b[0m\u001b[0;34m[\u001b[0m\u001b[0mmissing_mask\u001b[0m\u001b[0;34m]\u001b[0m \u001b[0;34m=\u001b[0m \u001b[0mnp\u001b[0m\u001b[0;34m.\u001b[0m\u001b[0mnan\u001b[0m\u001b[0;34m\u001b[0m\u001b[0m\n\u001b[0;32m---> 32\u001b[0;31m     \u001b[0mD\u001b[0m \u001b[0;34m=\u001b[0m \u001b[0mall_pairs_normalized_distances\u001b[0m\u001b[0;34m(\u001b[0m\u001b[0mX_row_major\u001b[0m\u001b[0;34m,\u001b[0m \u001b[0mverbose\u001b[0m\u001b[0;34m=\u001b[0m\u001b[0mverbose\u001b[0m\u001b[0;34m)\u001b[0m\u001b[0;34m\u001b[0m\u001b[0m\n\u001b[0m\u001b[1;32m     33\u001b[0m     \u001b[0;31m# set diagonal of distance matrix to infinity since we don't want\u001b[0m\u001b[0;34m\u001b[0m\u001b[0;34m\u001b[0m\u001b[0m\n\u001b[1;32m     34\u001b[0m     \u001b[0;31m# points considering themselves as neighbors\u001b[0m\u001b[0;34m\u001b[0m\u001b[0;34m\u001b[0m\u001b[0m\n",
      "\u001b[0;32mC:\\ANACON~1\\envs\\BES_analysis\\lib\\site-packages\\knnimpute\\normalized_distance.py\u001b[0m in \u001b[0;36mall_pairs_normalized_distances\u001b[0;34m(X, verbose)\u001b[0m\n\u001b[1;32m     85\u001b[0m         \u001b[0;32mif\u001b[0m \u001b[0mrow_overlaps_every_other_row\u001b[0m\u001b[0;34m[\u001b[0m\u001b[0mi\u001b[0m\u001b[0;34m]\u001b[0m\u001b[0;34m:\u001b[0m\u001b[0;34m\u001b[0m\u001b[0m\n\u001b[1;32m     86\u001b[0m             \u001b[0;31m# add up all the non-missing squared differences\u001b[0m\u001b[0;34m\u001b[0m\u001b[0;34m\u001b[0m\u001b[0m\n\u001b[0;32m---> 87\u001b[0;31m             \u001b[0mdiffs\u001b[0m\u001b[0;34m.\u001b[0m\u001b[0msum\u001b[0m\u001b[0;34m(\u001b[0m\u001b[0maxis\u001b[0m\u001b[0;34m=\u001b[0m\u001b[0;36m1\u001b[0m\u001b[0;34m,\u001b[0m \u001b[0mout\u001b[0m\u001b[0;34m=\u001b[0m\u001b[0mD\u001b[0m\u001b[0;34m[\u001b[0m\u001b[0mi\u001b[0m\u001b[0;34m,\u001b[0m \u001b[0;34m:\u001b[0m\u001b[0;34m]\u001b[0m\u001b[0;34m)\u001b[0m\u001b[0;34m\u001b[0m\u001b[0m\n\u001b[0m\u001b[1;32m     88\u001b[0m             \u001b[0mD\u001b[0m\u001b[0;34m[\u001b[0m\u001b[0mi\u001b[0m\u001b[0;34m,\u001b[0m \u001b[0;34m:\u001b[0m\u001b[0;34m]\u001b[0m \u001b[0;34m/=\u001b[0m \u001b[0mobserved_counts_per_row\u001b[0m\u001b[0;34m\u001b[0m\u001b[0m\n\u001b[1;32m     89\u001b[0m         \u001b[0;32melse\u001b[0m\u001b[0;34m:\u001b[0m\u001b[0;34m\u001b[0m\u001b[0m\n",
      "\u001b[0;32mC:\\ANACON~1\\envs\\BES_analysis\\lib\\site-packages\\numpy\\core\\_methods.py\u001b[0m in \u001b[0;36m_sum\u001b[0;34m(a, axis, dtype, out, keepdims)\u001b[0m\n\u001b[1;32m     30\u001b[0m \u001b[0;34m\u001b[0m\u001b[0m\n\u001b[1;32m     31\u001b[0m \u001b[0;32mdef\u001b[0m \u001b[0m_sum\u001b[0m\u001b[0;34m(\u001b[0m\u001b[0ma\u001b[0m\u001b[0;34m,\u001b[0m \u001b[0maxis\u001b[0m\u001b[0;34m=\u001b[0m\u001b[0;32mNone\u001b[0m\u001b[0;34m,\u001b[0m \u001b[0mdtype\u001b[0m\u001b[0;34m=\u001b[0m\u001b[0;32mNone\u001b[0m\u001b[0;34m,\u001b[0m \u001b[0mout\u001b[0m\u001b[0;34m=\u001b[0m\u001b[0;32mNone\u001b[0m\u001b[0;34m,\u001b[0m \u001b[0mkeepdims\u001b[0m\u001b[0;34m=\u001b[0m\u001b[0;32mFalse\u001b[0m\u001b[0;34m)\u001b[0m\u001b[0;34m:\u001b[0m\u001b[0;34m\u001b[0m\u001b[0m\n\u001b[0;32m---> 32\u001b[0;31m     \u001b[0;32mreturn\u001b[0m \u001b[0mumr_sum\u001b[0m\u001b[0;34m(\u001b[0m\u001b[0ma\u001b[0m\u001b[0;34m,\u001b[0m \u001b[0maxis\u001b[0m\u001b[0;34m,\u001b[0m \u001b[0mdtype\u001b[0m\u001b[0;34m,\u001b[0m \u001b[0mout\u001b[0m\u001b[0;34m,\u001b[0m \u001b[0mkeepdims\u001b[0m\u001b[0;34m)\u001b[0m\u001b[0;34m\u001b[0m\u001b[0m\n\u001b[0m\u001b[1;32m     33\u001b[0m \u001b[0;34m\u001b[0m\u001b[0m\n\u001b[1;32m     34\u001b[0m \u001b[0;32mdef\u001b[0m \u001b[0m_prod\u001b[0m\u001b[0;34m(\u001b[0m\u001b[0ma\u001b[0m\u001b[0;34m,\u001b[0m \u001b[0maxis\u001b[0m\u001b[0;34m=\u001b[0m\u001b[0;32mNone\u001b[0m\u001b[0;34m,\u001b[0m \u001b[0mdtype\u001b[0m\u001b[0;34m=\u001b[0m\u001b[0;32mNone\u001b[0m\u001b[0;34m,\u001b[0m \u001b[0mout\u001b[0m\u001b[0;34m=\u001b[0m\u001b[0;32mNone\u001b[0m\u001b[0;34m,\u001b[0m \u001b[0mkeepdims\u001b[0m\u001b[0;34m=\u001b[0m\u001b[0;32mFalse\u001b[0m\u001b[0;34m)\u001b[0m\u001b[0;34m:\u001b[0m\u001b[0;34m\u001b[0m\u001b[0m\n",
      "\u001b[0;31mKeyboardInterrupt\u001b[0m: "
     ]
    }
   ],
   "source": [
    "X_filled_knn = KNN(k=3).complete(BES_new)"
   ]
  },
  {
   "cell_type": "code",
   "execution_count": null,
   "metadata": {
    "collapsed": false
   },
   "outputs": [],
   "source": [
    "# X_filled_knn.to_hdf(\"../BES_analysis_data/BESW8knn.hdf\", \"BESW8knn\")"
   ]
  },
  {
   "cell_type": "code",
   "execution_count": null,
   "metadata": {
    "collapsed": false
   },
   "outputs": [],
   "source": [
    "pd.DataFrame( X_filled_knn, columns = BES_new.columns).to_hdf(\"../BES_analysis_data/BESW8knn.hdf\", \"BESW8knn\")"
   ]
  },
  {
   "cell_type": "code",
   "execution_count": null,
   "metadata": {
    "collapsed": true
   },
   "outputs": [],
   "source": [
    "# fancyimput MICE\n",
    "# This version assumes all of the columns are ordinal,\n",
    "#     and uses ridge regression"
   ]
  },
  {
   "cell_type": "code",
   "execution_count": null,
   "metadata": {
    "collapsed": true
   },
   "outputs": [],
   "source": [
    "# mice = MICE(n_imputations=3, impute_type='col')\n",
    "# mice = MICE(n_imputations=1, n_burn_in=1, impute_type='pmm')\n",
    "#XY_completed = mice.complete(XY_incomplete)"
   ]
  },
  {
   "cell_type": "code",
   "execution_count": null,
   "metadata": {
    "collapsed": false
   },
   "outputs": [],
   "source": [
    "#X_filled_MICE= mice.complete(BES_new)\n",
    "# shape mismatch: value array of shape (381845,) could not be broadcast to indexing result of shape (381845,290)"
   ]
  },
  {
   "cell_type": "code",
   "execution_count": null,
   "metadata": {
    "collapsed": false
   },
   "outputs": [],
   "source": [
    "# %%time\n",
    "# from fancyimpute import NuclearNormMinimization\n",
    "# X_filled_nnm = NuclearNormMinimization().complete(BES_new)\n",
    "# ran out of memory"
   ]
  },
  {
   "cell_type": "code",
   "execution_count": null,
   "metadata": {
    "collapsed": false
   },
   "outputs": [],
   "source": [
    "# %%time\n",
    "# from fancyimpute import SimilarityWeightedAveraging\n",
    "# solver = SimilarityWeightedAveraging()\n",
    "# X_filled_simwa = solver.complete(BES_new)\n",
    "# TypeError: ufunc 'isfinite' not supported for the input types,\n",
    "# and the inputs could not be safely coerced to any supported types\n",
    "# according to the casting rule ''safe''"
   ]
  },
  {
   "cell_type": "code",
   "execution_count": null,
   "metadata": {
    "collapsed": false
   },
   "outputs": [],
   "source": [
    "# %%time\n",
    "# from fancyimpute import MatrixFactorization\n",
    "# solver = MatrixFactorization(\n",
    "#     rank=3,\n",
    "#     l1_penalty=0,\n",
    "#     l2_penalty=0)\n",
    "# XY_completed = solver.complete(BES_new)\n",
    "# Took about an hour, websocket crashed"
   ]
  },
  {
   "cell_type": "code",
   "execution_count": null,
   "metadata": {
    "collapsed": true
   },
   "outputs": [],
   "source": []
  },
  {
   "cell_type": "code",
   "execution_count": null,
   "metadata": {
    "collapsed": true
   },
   "outputs": [],
   "source": []
  },
  {
   "cell_type": "code",
   "execution_count": null,
   "metadata": {
    "collapsed": true
   },
   "outputs": [],
   "source": []
  },
  {
   "cell_type": "code",
   "execution_count": 70,
   "metadata": {
    "collapsed": false
   },
   "outputs": [
    {
     "name": "stdout",
     "output_type": "stream",
     "text": [
      "[SoftImpute] Max Singular Value of X_init = 12319.066821\n",
      "[SoftImpute] Iter 1: observed MAE=0.753680 rank=74\n",
      "[SoftImpute] Iter 2: observed MAE=0.746957 rank=60\n",
      "[SoftImpute] Iter 3: observed MAE=0.744539 rank=55\n",
      "[SoftImpute] Iter 4: observed MAE=0.743890 rank=54\n",
      "[SoftImpute] Iter 5: observed MAE=0.743639 rank=54\n",
      "[SoftImpute] Iter 6: observed MAE=0.743491 rank=53\n",
      "[SoftImpute] Iter 7: observed MAE=0.743396 rank=53\n",
      "[SoftImpute] Iter 8: observed MAE=0.743327 rank=53\n",
      "[SoftImpute] Iter 9: observed MAE=0.743272 rank=53\n",
      "[SoftImpute] Iter 10: observed MAE=0.743229 rank=53\n",
      "[SoftImpute] Iter 11: observed MAE=0.743197 rank=53\n",
      "[SoftImpute] Iter 12: observed MAE=0.743173 rank=53\n",
      "[SoftImpute] Iter 13: observed MAE=0.743156 rank=53\n",
      "[SoftImpute] Iter 14: observed MAE=0.743145 rank=53\n",
      "[SoftImpute] Iter 15: observed MAE=0.743137 rank=53\n",
      "[SoftImpute] Iter 16: observed MAE=0.743133 rank=53\n",
      "[SoftImpute] Iter 17: observed MAE=0.743130 rank=53\n",
      "[SoftImpute] Iter 18: observed MAE=0.743128 rank=53\n",
      "[SoftImpute] Iter 19: observed MAE=0.743127 rank=53\n",
      "[SoftImpute] Iter 20: observed MAE=0.743126 rank=53\n",
      "[SoftImpute] Iter 21: observed MAE=0.743125 rank=53\n",
      "[SoftImpute] Iter 22: observed MAE=0.743124 rank=53\n",
      "[SoftImpute] Iter 23: observed MAE=0.743123 rank=53\n",
      "[SoftImpute] Iter 24: observed MAE=0.743121 rank=53\n",
      "[SoftImpute] Iter 25: observed MAE=0.743119 rank=53\n",
      "[SoftImpute] Iter 26: observed MAE=0.743116 rank=53\n",
      "[SoftImpute] Iter 27: observed MAE=0.743113 rank=53\n",
      "[SoftImpute] Iter 28: observed MAE=0.743109 rank=53\n",
      "[SoftImpute] Iter 29: observed MAE=0.743106 rank=53\n",
      "[SoftImpute] Iter 30: observed MAE=0.743101 rank=53\n",
      "[SoftImpute] Iter 31: observed MAE=0.743097 rank=53\n",
      "[SoftImpute] Iter 32: observed MAE=0.743092 rank=53\n",
      "[SoftImpute] Iter 33: observed MAE=0.743087 rank=53\n",
      "[SoftImpute] Iter 34: observed MAE=0.743082 rank=53\n",
      "[SoftImpute] Iter 35: observed MAE=0.743076 rank=53\n",
      "[SoftImpute] Iter 36: observed MAE=0.743071 rank=53\n",
      "[SoftImpute] Iter 37: observed MAE=0.743066 rank=53\n",
      "[SoftImpute] Iter 38: observed MAE=0.743060 rank=53\n",
      "[SoftImpute] Iter 39: observed MAE=0.743055 rank=53\n",
      "[SoftImpute] Iter 40: observed MAE=0.743050 rank=53\n",
      "[SoftImpute] Iter 41: observed MAE=0.743045 rank=53\n",
      "[SoftImpute] Iter 42: observed MAE=0.743040 rank=53\n",
      "[SoftImpute] Iter 43: observed MAE=0.743035 rank=53\n",
      "[SoftImpute] Iter 44: observed MAE=0.743030 rank=53\n",
      "[SoftImpute] Iter 45: observed MAE=0.743026 rank=53\n",
      "[SoftImpute] Iter 46: observed MAE=0.743021 rank=53\n",
      "[SoftImpute] Iter 47: observed MAE=0.743017 rank=53\n",
      "[SoftImpute] Iter 48: observed MAE=0.743013 rank=53\n",
      "[SoftImpute] Iter 49: observed MAE=0.743009 rank=53\n",
      "[SoftImpute] Iter 50: observed MAE=0.743006 rank=53\n",
      "[SoftImpute] Iter 51: observed MAE=0.743002 rank=53\n",
      "[SoftImpute] Iter 52: observed MAE=0.742999 rank=53\n",
      "[SoftImpute] Iter 53: observed MAE=0.742996 rank=53\n",
      "[SoftImpute] Iter 54: observed MAE=0.742993 rank=53\n",
      "[SoftImpute] Iter 55: observed MAE=0.742990 rank=53\n",
      "[SoftImpute] Iter 56: observed MAE=0.742988 rank=53\n",
      "[SoftImpute] Iter 57: observed MAE=0.742985 rank=53\n",
      "[SoftImpute] Iter 58: observed MAE=0.742983 rank=53\n",
      "[SoftImpute] Iter 59: observed MAE=0.742981 rank=53\n",
      "[SoftImpute] Iter 60: observed MAE=0.742979 rank=53\n",
      "[SoftImpute] Iter 61: observed MAE=0.742977 rank=53\n",
      "[SoftImpute] Iter 62: observed MAE=0.742975 rank=53\n",
      "[SoftImpute] Iter 63: observed MAE=0.742973 rank=53\n",
      "[SoftImpute] Iter 64: observed MAE=0.742971 rank=53\n",
      "[SoftImpute] Iter 65: observed MAE=0.742970 rank=53\n",
      "[SoftImpute] Iter 66: observed MAE=0.742968 rank=53\n",
      "[SoftImpute] Iter 67: observed MAE=0.742967 rank=53\n",
      "[SoftImpute] Iter 68: observed MAE=0.742966 rank=53\n",
      "[SoftImpute] Stopped after iteration 68 for lambda=246.381336\n",
      "Wall time: 1min 26s\n"
     ]
    }
   ],
   "source": [
    "%%time\n",
    "X_filled_softimpute = SoftImpute().complete(BES_new)"
   ]
  },
  {
   "cell_type": "code",
   "execution_count": 71,
   "metadata": {
    "collapsed": false
   },
   "outputs": [],
   "source": [
    "BES_si_filled = pd.DataFrame(X_filled_softimpute,\n",
    "                             columns = BES_new.columns,\n",
    "                             index   = BES_new.index)"
   ]
  },
  {
   "cell_type": "code",
   "execution_count": 72,
   "metadata": {
    "collapsed": false
   },
   "outputs": [],
   "source": [
    "from sklearn.preprocessing import StandardScaler\n",
    "import matplotlib.pyplot as plt\n",
    "\n",
    "from sklearn import datasets\n",
    "from sklearn.decomposition import PCA\n",
    "from sklearn.discriminant_analysis import LinearDiscriminantAnalysis"
   ]
  },
  {
   "cell_type": "code",
   "execution_count": null,
   "metadata": {
    "collapsed": false
   },
   "outputs": [],
   "source": []
  },
  {
   "cell_type": "code",
   "execution_count": 73,
   "metadata": {
    "collapsed": false
   },
   "outputs": [],
   "source": [
    "clean_feature_set_std = StandardScaler().fit_transform(BES_si_filled)\n",
    "BES_std = pd.DataFrame(clean_feature_set_std,\n",
    "                       columns = BES_si_filled.columns,\n",
    "                       index   = BES_si_filled.index)\n"
   ]
  },
  {
   "cell_type": "code",
   "execution_count": null,
   "metadata": {
    "collapsed": true
   },
   "outputs": [],
   "source": [
    "# actually - do standard scaling first!"
   ]
  },
  {
   "cell_type": "code",
   "execution_count": null,
   "metadata": {
    "collapsed": true
   },
   "outputs": [],
   "source": []
  },
  {
   "cell_type": "code",
   "execution_count": null,
   "metadata": {
    "collapsed": true
   },
   "outputs": [],
   "source": []
  },
  {
   "cell_type": "code",
   "execution_count": null,
   "metadata": {
    "collapsed": true
   },
   "outputs": [],
   "source": []
  },
  {
   "cell_type": "code",
   "execution_count": null,
   "metadata": {
    "collapsed": true
   },
   "outputs": [],
   "source": []
  },
  {
   "cell_type": "code",
   "execution_count": null,
   "metadata": {
    "collapsed": true
   },
   "outputs": [],
   "source": []
  },
  {
   "cell_type": "code",
   "execution_count": 83,
   "metadata": {
    "collapsed": false
   },
   "outputs": [
    {
     "name": "stdout",
     "output_type": "stream",
     "text": [
      "(23201, 2)\n",
      "explained variance ratio (first two components): [ 0.15974231  0.05376423]\n"
     ]
    },
    {
     "data": {
      "text/plain": [
       "<matplotlib.text.Text at 0x16b1a320>"
      ]
     },
     "execution_count": 83,
     "metadata": {},
     "output_type": "execute_result"
    },
    {
     "data": {
      "image/png": "[encoded data removed]",
      "text/plain": [
       "<matplotlib.figure.Figure at 0xd870978>"
      ]
     },
     "metadata": {},
     "output_type": "display_data"
    }
   ],
   "source": [
    "Leave = BES_std[\"euRefVote\"]>0\n",
    "Stay =  BES_std[\"euRefVote\"]<0\n",
    "\n",
    "pca = PCA(n_components=2)\n",
    "X_r = pca.fit(BES_std).transform(BES_std)\n",
    "\n",
    "print( X_r.shape )\n",
    "\n",
    "print('explained variance ratio (first two components): %s'\n",
    "      % str(pca.explained_variance_ratio_) )\n",
    "\n",
    "plt.figure(figsize=(20,20))\n",
    "\n",
    "plt.scatter( X_r[ np.ix_(Leave, [0]) ] , X_r[ np.ix_(Leave, [1]) ], c='r', label=\"Leave\" )\n",
    "plt.scatter( X_r[ np.ix_(Stay , [0]) ] , X_r[ np.ix_(Stay , [1]) ], c='b', label=\"Stay\"  )\n",
    "\n",
    "plt.legend()\n",
    "plt.title('PCA of BES dataset')"
   ]
  },
  {
   "cell_type": "code",
   "execution_count": null,
   "metadata": {
    "collapsed": false
   },
   "outputs": [],
   "source": [
    "comp_0 = pd.DataFrame(pca.components_[0])\n",
    "comp_0.abs().hist(bins=30)\n",
    "comp_0_vars = comp_0[comp_0[0].abs()>.06].sort_values(by=0).index\n",
    "BES_std.columns[comp_0_vars]"
   ]
  },
  {
   "cell_type": "code",
   "execution_count": null,
   "metadata": {
    "collapsed": false
   },
   "outputs": [],
   "source": [
    "comp_1 = pd.DataFrame(pca.components_[1])\n",
    "comp_1.abs().hist(bins=30)\n",
    "comp_1_vars = comp_1[comp_1[0].abs()>.10].sort_values(by=0).index\n",
    "BES_std.columns[comp_1_vars]"
   ]
  },
  {
   "cell_type": "code",
   "execution_count": null,
   "metadata": {
    "collapsed": false
   },
   "outputs": [],
   "source": [
    "comp_2 = pd.DataFrame(pca.components_[2])\n",
    "comp_2.abs().hist(bins=30)\n",
    "comp_2_vars = comp_2[comp_2[0].abs()>.10].sort_values(by=0).index\n",
    "BES_std.columns[comp_2_vars]"
   ]
  },
  {
   "cell_type": "code",
   "execution_count": 84,
   "metadata": {
    "collapsed": false
   },
   "outputs": [
    {
     "name": "stdout",
     "output_type": "stream",
     "text": [
      "number of estimated clusters : 2\n"
     ]
    },
    {
     "data": {
      "image/png": "[encoded data removed]",
      "text/plain": [
       "<matplotlib.figure.Figure at 0x11295940>"
      ]
     },
     "metadata": {},
     "output_type": "display_data"
    }
   ],
   "source": [
    "import numpy as np\n",
    "from sklearn.cluster import MeanShift, estimate_bandwidth\n",
    "from sklearn.datasets.samples_generator import make_blobs\n",
    "\n",
    "\n",
    "X = X_r\n",
    "\n",
    "\n",
    "# The following bandwidth can be automatically detected using\n",
    "bandwidth = estimate_bandwidth(X, quantile=0.2, n_samples=500)\n",
    "\n",
    "ms = MeanShift(bandwidth=bandwidth, bin_seeding=True)\n",
    "ms.fit(X)\n",
    "labels = ms.labels_\n",
    "cluster_centers = ms.cluster_centers_\n",
    "\n",
    "labels_unique = np.unique(labels)\n",
    "n_clusters_ = len(labels_unique)\n",
    "\n",
    "print(\"number of estimated clusters : %d\" % n_clusters_)\n",
    "\n",
    "\n",
    "import matplotlib.pyplot as plt\n",
    "from itertools import cycle\n",
    "\n",
    "plt.figure(1)\n",
    "plt.clf()\n",
    "\n",
    "colors = cycle('bgrcmykbgrcmykbgrcmykbgrcmyk')\n",
    "for k, col in zip(range(n_clusters_), colors):\n",
    "    my_members = labels == k\n",
    "    cluster_center = cluster_centers[k]\n",
    "    plt.plot(X[my_members, 0], X[my_members, 1], col + '.')\n",
    "    plt.plot(cluster_center[0], cluster_center[1], 'o', markerfacecolor=col,\n",
    "             markeredgecolor='k', markersize=14)\n",
    "plt.title('Estimated number of clusters: %d' % n_clusters_)\n",
    "plt.show()"
   ]
  },
  {
   "cell_type": "code",
   "execution_count": null,
   "metadata": {
    "collapsed": true
   },
   "outputs": [],
   "source": []
  },
  {
   "cell_type": "code",
   "execution_count": 82,
   "metadata": {
    "collapsed": false
   },
   "outputs": [
    {
     "data": {
      "text/plain": [
       "(23201, 325)"
      ]
     },
     "execution_count": 82,
     "metadata": {},
     "output_type": "execute_result"
    }
   ],
   "source": []
  },
  {
   "cell_type": "code",
   "execution_count": null,
   "metadata": {
    "collapsed": false
   },
   "outputs": [],
   "source": []
  },
  {
   "cell_type": "code",
   "execution_count": null,
   "metadata": {
    "collapsed": false
   },
   "outputs": [],
   "source": []
  },
  {
   "cell_type": "code",
   "execution_count": null,
   "metadata": {
    "collapsed": false
   },
   "outputs": [],
   "source": []
  },
  {
   "cell_type": "code",
   "execution_count": null,
   "metadata": {
    "collapsed": false
   },
   "outputs": [],
   "source": []
  },
  {
   "cell_type": "code",
   "execution_count": null,
   "metadata": {
    "collapsed": false
   },
   "outputs": [],
   "source": []
  },
  {
   "cell_type": "code",
   "execution_count": null,
   "metadata": {
    "collapsed": false
   },
   "outputs": [],
   "source": []
  },
  {
   "cell_type": "code",
   "execution_count": null,
   "metadata": {
    "collapsed": true
   },
   "outputs": [],
   "source": []
  },
  {
   "cell_type": "code",
   "execution_count": null,
   "metadata": {
    "collapsed": true
   },
   "outputs": [],
   "source": []
  },
  {
   "cell_type": "code",
   "execution_count": null,
   "metadata": {
    "collapsed": false
   },
   "outputs": [],
   "source": [
    "BES_new = pd.read_hdf(\"../BES_analysis_data/BESW8min.hdf\")\n",
    "import gc\n",
    "gc.collect()"
   ]
  },
  {
   "cell_type": "code",
   "execution_count": null,
   "metadata": {
    "collapsed": false
   },
   "outputs": [],
   "source": []
  },
  {
   "cell_type": "code",
   "execution_count": null,
   "metadata": {
    "collapsed": false
   },
   "outputs": [],
   "source": [
    "len( BES_new.columns[ BES_new.notnull().sum()<13000 ] )"
   ]
  },
  {
   "cell_type": "code",
   "execution_count": null,
   "metadata": {
    "collapsed": false
   },
   "outputs": [],
   "source": [
    "len( BES_new.columns )"
   ]
  },
  {
   "cell_type": "code",
   "execution_count": null,
   "metadata": {
    "collapsed": false
   },
   "outputs": [],
   "source": [
    "BES_new.columns[ BES_new.isnull().sum()<1000 ]"
   ]
  },
  {
   "cell_type": "code",
   "execution_count": null,
   "metadata": {
    "collapsed": false
   },
   "outputs": [],
   "source": [
    "BES_new.columns[ BES_new.isnull().sum()==0 ]"
   ]
  },
  {
   "cell_type": "code",
   "execution_count": null,
   "metadata": {
    "collapsed": false
   },
   "outputs": [],
   "source": [
    "# 10 interesting variables\n",
    "\n",
    "\n",
    "# euRefVote, riskTaking, gender, Age\n",
    "# al2, turkey, subjClass, profile_gross_household, profile_education_age"
   ]
  },
  {
   "cell_type": "code",
   "execution_count": null,
   "metadata": {
    "collapsed": false
   },
   "outputs": [],
   "source": [
    "BES_new[ [\"euRefVote\",\"riskTaking\",\"gender\",\"Age\",\"al2\",\"turkey\",\n",
    "          \"profile_gross_household\",\n",
    "          \"profile_education_age\"   ]  ].fillna(-1).to_stata(\"../BES_analysis_data/BES_W8_just8.dta\")"
   ]
  },
  {
   "cell_type": "code",
   "execution_count": null,
   "metadata": {
    "collapsed": true
   },
   "outputs": [],
   "source": [
    "BES_new[ [\"euRefVote\",\"riskTaking\",\"gender\",\"Age\",\"al2\",\"turkey\",\n",
    "          \"profile_gross_household\", \"lr_scale\", \"al_scale\",\n",
    "          \"profile_education_age\"   ]  ].fillna(-1).to_stata(\"../BES_analysis_data/BES_W8_just8.dta\")"
   ]
  },
  {
   "cell_type": "code",
   "execution_count": null,
   "metadata": {
    "collapsed": false
   },
   "outputs": [],
   "source": []
  },
  {
   "cell_type": "code",
   "execution_count": null,
   "metadata": {
    "collapsed": false
   },
   "outputs": [],
   "source": [
    "BES_corr = BES_no_nan.corr()"
   ]
  },
  {
   "cell_type": "code",
   "execution_count": null,
   "metadata": {
    "collapsed": false
   },
   "outputs": [],
   "source": [
    "BES_corr[\"euRefVote\"].sort_values(ascending=False).head(45)"
   ]
  },
  {
   "cell_type": "code",
   "execution_count": null,
   "metadata": {
    "collapsed": true
   },
   "outputs": [],
   "source": []
  },
  {
   "cell_type": "code",
   "execution_count": null,
   "metadata": {
    "collapsed": false
   },
   "outputs": [],
   "source": [
    "BES_no_nan = pd.read_hdf(\"../BES_analysis_data/BESW8knn.hdf\")\n",
    "import gc\n",
    "gc.collect()"
   ]
  },
  {
   "cell_type": "code",
   "execution_count": null,
   "metadata": {
    "collapsed": false
   },
   "outputs": [],
   "source": [
    "# create a regression friendly dataframe using patsy's dmatrices function\n",
    "#y,x = dmatrices(formula, data=BES_no_nan, return_type='dataframe')\n",
    "\n",
    "y = BES_no_nan[\"euRefVote\"]\n",
    "x = BES_no_nan.drop(\"euRefVote\",axis=1).drop(\"euRefVoteW9\",axis=1)"
   ]
  },
  {
   "cell_type": "code",
   "execution_count": null,
   "metadata": {
    "collapsed": false
   },
   "outputs": [],
   "source": [
    "# import the machine learning library that holds the randomforest\n",
    "import sklearn.ensemble as ske"
   ]
  },
  {
   "cell_type": "code",
   "execution_count": null,
   "metadata": {
    "collapsed": false
   },
   "outputs": [],
   "source": [
    "\n",
    "# RandomForestClassifier expects a 1 demensional NumPy array, so we convert\n",
    "y = np.asarray(y).ravel()\n",
    "\n"
   ]
  },
  {
   "cell_type": "code",
   "execution_count": null,
   "metadata": {
    "collapsed": false
   },
   "outputs": [],
   "source": [
    "# Random forest\n",
    "#instantiate and fit our model\n",
    "results_rf = ske.RandomForestClassifier(n_estimators=100).fit(x, y)\n",
    "\n",
    "# Score the results\n",
    "score = results_rf.score(x, y)\n",
    "print( \"Mean accuracy of Random Forest Predictions on the data was: {0}\".format(score) )"
   ]
  },
  {
   "cell_type": "code",
   "execution_count": null,
   "metadata": {
    "collapsed": false
   },
   "outputs": [],
   "source": [
    "pd.concat( [pd.Series ( x.columns),  pd.Series (results_rf.feature_importances_ )], axis=1).sort_values(by=1)"
   ]
  },
  {
   "cell_type": "code",
   "execution_count": null,
   "metadata": {
    "collapsed": false
   },
   "outputs": [],
   "source": [
    "# Logistic Regression\n",
    "#instantiate and fit our model\n",
    "from sklearn.linear_model import LogisticRegression\n",
    "results_rf = LogisticRegression().fit(x, y)\n",
    "\n",
    "# Score the results\n",
    "score = results_rf.score(x, y)\n",
    "print( \"Mean accuracy of Logistic Regression on the data was: {0}\".format(score) )\n"
   ]
  },
  {
   "cell_type": "code",
   "execution_count": null,
   "metadata": {
    "collapsed": false
   },
   "outputs": [],
   "source": [
    "pd.concat( [pd.Series ( x.columns),  pd.Series (results_rf.coef_[0] )], axis=1).sort_values(by=1)"
   ]
  },
  {
   "cell_type": "code",
   "execution_count": null,
   "metadata": {
    "collapsed": false
   },
   "outputs": [],
   "source": []
  },
  {
   "cell_type": "code",
   "execution_count": null,
   "metadata": {
    "collapsed": false
   },
   "outputs": [],
   "source": [
    "BES_no_nan[\"preschoolChildrenInHousehold\"].corr(BES_no_nan[\"euRefVote\"] )"
   ]
  },
  {
   "cell_type": "code",
   "execution_count": null,
   "metadata": {
    "collapsed": false
   },
   "outputs": [],
   "source": []
  },
  {
   "cell_type": "code",
   "execution_count": null,
   "metadata": {
    "collapsed": true
   },
   "outputs": [],
   "source": [
    "BES_Panel = pd.read_stata(\"../BES_analysis_data/BES2015_W8_v1.3.dta\")"
   ]
  },
  {
   "cell_type": "code",
   "execution_count": null,
   "metadata": {
    "collapsed": false
   },
   "outputs": [],
   "source": [
    "BES_Panel[\"turkey\"].cat.codes.hist()"
   ]
  },
  {
   "cell_type": "code",
   "execution_count": null,
   "metadata": {
    "collapsed": false
   },
   "outputs": [],
   "source": [
    "BES_Panel[\"turkey\"].cat.categories"
   ]
  },
  {
   "cell_type": "code",
   "execution_count": null,
   "metadata": {
    "collapsed": false
   },
   "outputs": [],
   "source": [
    "BES_Panel[\"EUMIICategory\"][euRefVote==1].value_counts()"
   ]
  },
  {
   "cell_type": "code",
   "execution_count": null,
   "metadata": {
    "collapsed": false
   },
   "outputs": [],
   "source": [
    "BES_Panel[\"turkey\"].cat.codes.corr( BES_Panel[\"euRefVote\"].cat.codes )"
   ]
  },
  {
   "cell_type": "code",
   "execution_count": null,
   "metadata": {
    "collapsed": false
   },
   "outputs": [],
   "source": [
    "BES_Panel[\"turkey\"].cat.codes.value_counts()"
   ]
  },
  {
   "cell_type": "code",
   "execution_count": null,
   "metadata": {
    "collapsed": true
   },
   "outputs": [],
   "source": [
    "turkey = BES_Panel[\"turkey\"].cat.codes\n",
    "turkey[ turkey==5 ] = np.nan"
   ]
  },
  {
   "cell_type": "code",
   "execution_count": null,
   "metadata": {
    "collapsed": false
   },
   "outputs": [],
   "source": [
    "euRefVote = BES_Panel[\"euRefVote\"].cat.codes\n",
    "euRefVote[ (euRefVote==3) | (euRefVote==3) ] = np.nan"
   ]
  },
  {
   "cell_type": "code",
   "execution_count": null,
   "metadata": {
    "collapsed": false
   },
   "outputs": [],
   "source": [
    "turkey.corr(euRefVote)"
   ]
  },
  {
   "cell_type": "code",
   "execution_count": null,
   "metadata": {
    "collapsed": true
   },
   "outputs": [],
   "source": [
    "death = BES_Panel[\"al2\"].cat.codes\n",
    "death[ death==5 ] = np.nan"
   ]
  },
  {
   "cell_type": "code",
   "execution_count": null,
   "metadata": {
    "collapsed": false
   },
   "outputs": [],
   "source": [
    "euRefVote.corr(death)"
   ]
  },
  {
   "cell_type": "code",
   "execution_count": null,
   "metadata": {
    "collapsed": false
   },
   "outputs": [],
   "source": []
  },
  {
   "cell_type": "code",
   "execution_count": null,
   "metadata": {
    "collapsed": false
   },
   "outputs": [],
   "source": [
    "BES_Panel[\"turkey\"].value_counts().plot(kind='bar')"
   ]
  },
  {
   "cell_type": "code",
   "execution_count": null,
   "metadata": {
    "collapsed": false
   },
   "outputs": [],
   "source": [
    "BES_Panel[\"turkey\"].value_counts()"
   ]
  },
  {
   "cell_type": "code",
   "execution_count": null,
   "metadata": {
    "collapsed": false
   },
   "outputs": [],
   "source": [
    "BES_Panel.groupby('turkey').size().plot(kind='bar')"
   ]
  },
  {
   "cell_type": "code",
   "execution_count": null,
   "metadata": {
    "collapsed": false
   },
   "outputs": [],
   "source": [
    "BES_Panel[euRefVote==1].groupby('turkey').size().plot(kind='bar')"
   ]
  },
  {
   "cell_type": "code",
   "execution_count": null,
   "metadata": {
    "collapsed": false
   },
   "outputs": [],
   "source": [
    "BES_Panel[euRefVote==0].groupby('turkey').size().plot(kind='bar')"
   ]
  },
  {
   "cell_type": "code",
   "execution_count": null,
   "metadata": {
    "collapsed": false
   },
   "outputs": [],
   "source": [
    "BES_Panel[\"euRefVote\"].cat.categories\n"
   ]
  },
  {
   "cell_type": "code",
   "execution_count": null,
   "metadata": {
    "collapsed": false
   },
   "outputs": [],
   "source": [
    "BES_Panel[\"turkey\"].cat.codes.hist(by=BES_Panel[\"euRefVote\"],figsize=(30,30))"
   ]
  },
  {
   "cell_type": "code",
   "execution_count": null,
   "metadata": {
    "collapsed": true
   },
   "outputs": [],
   "source": [
    "import seaborn as sns\n",
    "sns.set(style=\"whitegrid\", color_codes=True)\n",
    "titanic = sns.load_dataset(\"titanic\")"
   ]
  },
  {
   "cell_type": "code",
   "execution_count": null,
   "metadata": {
    "collapsed": false
   },
   "outputs": [],
   "source": [
    "sns.countplot(x=\"euRefVote\", hue=\"turkey\", data=BES_Panel, palette=\"Greens_d\");"
   ]
  },
  {
   "cell_type": "code",
   "execution_count": null,
   "metadata": {
    "collapsed": false
   },
   "outputs": [],
   "source": [
    "sns.countplot(x=\"euRefVoteW9\", hue=\"turkey\", data=BES_Panel, palette=\"Greens_d\");"
   ]
  },
  {
   "cell_type": "code",
   "execution_count": null,
   "metadata": {
    "collapsed": false
   },
   "outputs": [],
   "source": [
    "sns.countplot(x=\"immigrantsWelfareState\", hue=\"euRefVoteW9\", data=BES_Panel, palette=\"Greens_d\");"
   ]
  },
  {
   "cell_type": "code",
   "execution_count": null,
   "metadata": {
    "collapsed": false
   },
   "outputs": [],
   "source": [
    "sns.countplot(x=\"immigContributeTake\", hue=\"euRefVoteW9\", data=BES_Panel, palette=\"Greens_d\");"
   ]
  },
  {
   "cell_type": "code",
   "execution_count": null,
   "metadata": {
    "collapsed": true
   },
   "outputs": [],
   "source": []
  },
  {
   "cell_type": "code",
   "execution_count": null,
   "metadata": {
    "collapsed": true
   },
   "outputs": [],
   "source": [
    "# immigrantsWelfareState\n",
    "# antiIntellectualW9\n",
    "# immigContributeTake"
   ]
  },
  {
   "cell_type": "code",
   "execution_count": null,
   "metadata": {
    "collapsed": false
   },
   "outputs": [],
   "source": []
  },
  {
   "cell_type": "code",
   "execution_count": null,
   "metadata": {
    "collapsed": true
   },
   "outputs": [],
   "source": []
  },
  {
   "cell_type": "code",
   "execution_count": null,
   "metadata": {
    "collapsed": false
   },
   "outputs": [],
   "source": [
    "BES_min.var().sort_values()"
   ]
  },
  {
   "cell_type": "code",
   "execution_count": null,
   "metadata": {
    "collapsed": true
   },
   "outputs": [],
   "source": []
  },
  {
   "cell_type": "code",
   "execution_count": null,
   "metadata": {
    "collapsed": true
   },
   "outputs": [],
   "source": [
    "W9_vars = [x for x in BES_min.columns if \"W9\" in x]"
   ]
  },
  {
   "cell_type": "code",
   "execution_count": null,
   "metadata": {
    "collapsed": true
   },
   "outputs": [],
   "source": [
    "BES_min.drop(W9_vars, axis=1, inplace=True)"
   ]
  },
  {
   "cell_type": "code",
   "execution_count": null,
   "metadata": {
    "collapsed": true
   },
   "outputs": [],
   "source": [
    "# BES_min.drop(\"country\",axis=1,inplace=True)"
   ]
  },
  {
   "cell_type": "code",
   "execution_count": null,
   "metadata": {
    "collapsed": true
   },
   "outputs": [],
   "source": [
    "BES_min.fillna(-1).to_stata(\"../BES_analysis_data/BES2015_W8_v1.3_nan_minus1_allcat_allBrit.dta\")"
   ]
  },
  {
   "cell_type": "code",
   "execution_count": null,
   "metadata": {
    "collapsed": false
   },
   "outputs": [],
   "source": [
    "BES_min.shape"
   ]
  },
  {
   "cell_type": "code",
   "execution_count": null,
   "metadata": {
    "collapsed": true
   },
   "outputs": [],
   "source": [
    "# BES_new.fillna(-1).to_stata(\"../BES_analysis_data/BES2015_W8_v1.3_nan_minus1.dta\")"
   ]
  },
  {
   "cell_type": "code",
   "execution_count": null,
   "metadata": {
    "collapsed": false
   },
   "outputs": [],
   "source": [
    "cat_vars_30 = list( set(BES_min.columns).intersection(set(cat_vars))  )"
   ]
  },
  {
   "cell_type": "code",
   "execution_count": null,
   "metadata": {
    "collapsed": false
   },
   "outputs": [],
   "source": [
    "BES_min[cat_vars_30].fillna(-1).to_stata(\"../BES_analysis_data/BES2015_W8_30_cats.dta\")"
   ]
  },
  {
   "cell_type": "code",
   "execution_count": null,
   "metadata": {
    "collapsed": false
   },
   "outputs": [],
   "source": []
  },
  {
   "cell_type": "code",
   "execution_count": null,
   "metadata": {
    "collapsed": false
   },
   "outputs": [],
   "source": [
    "a = np.sqrt( [1,10,25,60,130,210,345] )\n",
    "b = [10,20,30,40,50,60,70]\n",
    "z = a[3] + ((a[6]-a[3])/(b[6]-b[3])) * (290-b[3])\n",
    "z*z/3600"
   ]
  },
  {
   "cell_type": "code",
   "execution_count": null,
   "metadata": {
    "collapsed": false
   },
   "outputs": [],
   "source": [
    "cat_vars = BES_Panel.columns[(var_type[\"type\"]==3)]"
   ]
  },
  {
   "cell_type": "code",
   "execution_count": null,
   "metadata": {
    "collapsed": false
   },
   "outputs": [],
   "source": [
    "set( str_df[\"to\"].values ).intersection( set(cat_vars))"
   ]
  },
  {
   "cell_type": "code",
   "execution_count": null,
   "metadata": {
    "collapsed": false
   },
   "outputs": [],
   "source": [
    "cat_vars"
   ]
  },
  {
   "cell_type": "code",
   "execution_count": null,
   "metadata": {
    "collapsed": false
   },
   "outputs": [],
   "source": [
    "strengths = pd.read_csv(\"../../Bayesian Networks/bayes_net_data/strengths_allcats_allBrit.csv\")\n",
    "\n",
    "\n",
    "# strengths = pd.read_csv(\"../../Bayesian Networks/bayes_net_data/strengths_allcats.csv\")"
   ]
  },
  {
   "cell_type": "code",
   "execution_count": null,
   "metadata": {
    "collapsed": false
   },
   "outputs": [],
   "source": [
    "str_df = strengths.drop('Unnamed: 0',axis=1).sort_values(by=\"strength\")"
   ]
  },
  {
   "cell_type": "code",
   "execution_count": null,
   "metadata": {
    "collapsed": false
   },
   "outputs": [],
   "source": [
    "import plotly.plotly as py\n",
    "from plotly.graph_objs import *\n",
    "import networkx as nx"
   ]
  },
  {
   "cell_type": "code",
   "execution_count": null,
   "metadata": {
    "collapsed": false
   },
   "outputs": [],
   "source": []
  },
  {
   "cell_type": "code",
   "execution_count": null,
   "metadata": {
    "collapsed": false
   },
   "outputs": [],
   "source": [
    "log_positive_str = np.log(np.abs(str_df[\"strength\"]))\n",
    "log_positive_str = log_positive_str - min(log_positive_str) +1\n",
    "log_positive_str.hist(bins=20)"
   ]
  },
  {
   "cell_type": "code",
   "execution_count": null,
   "metadata": {
    "collapsed": false
   },
   "outputs": [],
   "source": []
  },
  {
   "cell_type": "code",
   "execution_count": null,
   "metadata": {
    "collapsed": false
   },
   "outputs": [],
   "source": []
  },
  {
   "cell_type": "code",
   "execution_count": null,
   "metadata": {
    "collapsed": true
   },
   "outputs": [],
   "source": []
  },
  {
   "cell_type": "code",
   "execution_count": null,
   "metadata": {
    "collapsed": false
   },
   "outputs": [],
   "source": [
    "G = nx.DiGraph( )\n",
    "for i in str_df.index:\n",
    "    if log_positive_str.loc[i] > 14: # filter weak links\n",
    "        G.add_node( str_df.loc[i][\"from\"] )\n",
    "        G.add_node( str_df.loc[i][\"to\"]   )\n",
    "        G.add_edge( str_df.loc[i][\"from\"] , str_df.loc[i][\"to\"] , weight=log_positive_str.loc[i] )\n"
   ]
  },
  {
   "cell_type": "code",
   "execution_count": null,
   "metadata": {
    "collapsed": false
   },
   "outputs": [],
   "source": [
    "plt.figure(figsize=(20,20));\n",
    "pos=nx.spring_layout(G,weight='weight')\n",
    "nx.draw(G,pos, with_labels=True)"
   ]
  },
  {
   "cell_type": "code",
   "execution_count": null,
   "metadata": {
    "collapsed": false
   },
   "outputs": [],
   "source": [
    "import json\n",
    "from networkx.readwrite import json_graph\n",
    "\n",
    "for n in G:\n",
    "    G.node[n]['name'] = n\n",
    "\n",
    "d = json_graph.node_link_data(G)\n",
    "json.dump(d, open('force/force.json','w'))"
   ]
  },
  {
   "cell_type": "code",
   "execution_count": null,
   "metadata": {
    "collapsed": false
   },
   "outputs": [],
   "source": [
    "len( G.node )"
   ]
  },
  {
   "cell_type": "code",
   "execution_count": null,
   "metadata": {
    "collapsed": false,
    "scrolled": true
   },
   "outputs": [],
   "source": [
    "load_url('force/force.html')\n"
   ]
  },
  {
   "cell_type": "code",
   "execution_count": null,
   "metadata": {
    "collapsed": false
   },
   "outputs": [],
   "source": [
    "# helper to load url\n",
    "# runs webserver and loads url with webbrowswer module\n",
    "import sys\n",
    "\n",
    "def load_url(path):\n",
    "    PORT = 8000\n",
    "    httpd = StoppableHTTPServer((\"127.0.0.1\",PORT), handler)\n",
    "    thread.start_new_thread(httpd.serve, ())\n",
    "    webbrowser.open_new('http://localhost:%s/%s'%(PORT,path))\n",
    "    input(\"Press <RETURN> to stop server\\n\")\n",
    "    httpd.stop()\n",
    "    print(\"To restart server run: \\n%s\"%server)\n",
    "\n",
    "\n",
    "if sys.version_info[0] == 2:\n",
    "    import SimpleHTTPServer, BaseHTTPServer\n",
    "    import socket\n",
    "    import thread\n",
    "    import webbrowser\n",
    "    handler = SimpleHTTPServer.SimpleHTTPRequestHandler\n",
    "    input = raw_input\n",
    "    server = \"python -m SimpleHTTPServer 8000\"\n",
    "\n",
    "    class StoppableHTTPServer(BaseHTTPServer.HTTPServer):\n",
    "\n",
    "        def server_bind(self):\n",
    "            BaseHTTPServer.HTTPServer.server_bind(self)\n",
    "            self.socket.settimeout(1)\n",
    "            self.run = True\n",
    "\n",
    "        def get_request(self):\n",
    "            while self.run:\n",
    "                try:\n",
    "                    sock, addr = self.socket.accept()\n",
    "                    sock.settimeout(None)\n",
    "                    return (sock, addr)\n",
    "                except socket.timeout:\n",
    "                    pass\n",
    "\n",
    "        def stop(self):\n",
    "            self.run = False\n",
    "\n",
    "        def serve(self):\n",
    "            while self.run:\n",
    "                self.handle_request()\n",
    "\n",
    "\n",
    "else:\n",
    "    import http.server, http.server\n",
    "    import socket\n",
    "    import _thread as thread\n",
    "    import webbrowser\n",
    "    handler = http.server.SimpleHTTPRequestHandler\n",
    "    server = \"python -m http.server 8000\"\n",
    "\n",
    "    class StoppableHTTPServer(http.server.HTTPServer):\n",
    "\n",
    "        def server_bind(self):\n",
    "            http.server.HTTPServer.server_bind(self)\n",
    "            self.socket.settimeout(1)\n",
    "            self.run = True\n",
    "\n",
    "        def get_request(self):\n",
    "            while self.run:\n",
    "                try:\n",
    "                    sock, addr = self.socket.accept()\n",
    "                    sock.settimeout(None)\n",
    "                    return (sock, addr)\n",
    "                except socket.timeout:\n",
    "                    pass\n",
    "\n",
    "        def stop(self):\n",
    "            self.run = False\n",
    "\n",
    "        def serve(self):\n",
    "            while self.run:\n",
    "                self.handle_request()"
   ]
  },
  {
   "cell_type": "code",
   "execution_count": null,
   "metadata": {
    "collapsed": false
   },
   "outputs": [],
   "source": []
  },
  {
   "cell_type": "code",
   "execution_count": null,
   "metadata": {
    "collapsed": false
   },
   "outputs": [],
   "source": []
  },
  {
   "cell_type": "code",
   "execution_count": null,
   "metadata": {
    "collapsed": false
   },
   "outputs": [],
   "source": []
  },
  {
   "cell_type": "code",
   "execution_count": null,
   "metadata": {
    "collapsed": false
   },
   "outputs": [],
   "source": [
    "test = pd.read_stata(\"../BES_analysis_data/BES2015_W8_v1.3_nan_minus1_allcat.dta\")"
   ]
  },
  {
   "cell_type": "code",
   "execution_count": null,
   "metadata": {
    "collapsed": false,
    "scrolled": true
   },
   "outputs": [],
   "source": [
    "test"
   ]
  },
  {
   "cell_type": "code",
   "execution_count": null,
   "metadata": {
    "collapsed": false
   },
   "outputs": [],
   "source": []
  },
  {
   "cell_type": "code",
   "execution_count": null,
   "metadata": {
    "collapsed": false
   },
   "outputs": [],
   "source": [
    "BES_numerics_only[BES_reduced[\"wave9\"]==1 ].loc[inlier_people][mostly_filled_out].shape"
   ]
  },
  {
   "cell_type": "code",
   "execution_count": null,
   "metadata": {
    "collapsed": false
   },
   "outputs": [],
   "source": []
  },
  {
   "cell_type": "code",
   "execution_count": null,
   "metadata": {
    "collapsed": true
   },
   "outputs": [],
   "source": []
  },
  {
   "cell_type": "code",
   "execution_count": null,
   "metadata": {
    "collapsed": false
   },
   "outputs": [],
   "source": []
  },
  {
   "cell_type": "code",
   "execution_count": null,
   "metadata": {
    "collapsed": true
   },
   "outputs": [],
   "source": []
  }
 ],
 "metadata": {
  "anaconda-cloud": {},
  "kernelspec": {
   "display_name": "Python [default]",
   "language": "python",
   "name": "python3"
  },
  "language_info": {
   "codemirror_mode": {
    "name": "ipython",
    "version": 3
   },
   "file_extension": ".py",
   "mimetype": "text/x-python",
   "name": "python",
   "nbconvert_exporter": "python",
   "pygments_lexer": "ipython3",
   "version": "3.5.2"
  }
 },
 "nbformat": 4,
 "nbformat_minor": 1
}
