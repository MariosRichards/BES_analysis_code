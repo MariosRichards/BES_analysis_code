{
 "cells": [
  {
   "cell_type": "code",
   "execution_count": null,
   "metadata": {},
   "outputs": [],
   "source": []
  },
  {
   "cell_type": "code",
   "execution_count": 1,
   "metadata": {},
   "outputs": [],
   "source": [
    "dataset_name = \"W16_comb\"\n",
    "df_list = [\n",
    "           \"BES_Panel\",\n",
    "#            \"BES_reduced_with_na\",\n",
    "#            \"BESnumeric\"\n",
    "#            \"BES_reduced\",\n",
    "#            \"BESnumeric\"\n",
    "          ]"
   ]
  },
  {
   "cell_type": "code",
   "execution_count": 2,
   "metadata": {},
   "outputs": [
    {
     "data": {
      "image/png": "[encoded data removed]",
      "text/plain": [
       "<Figure size 720x72 with 1 Axes>"
      ]
     },
     "metadata": {},
     "output_type": "display_data"
    }
   ],
   "source": [
    "%matplotlib inline\n",
    "import numpy as np, pandas as pd, matplotlib.pyplot as plt, seaborn as sns\n",
    "import pickle, os, gc, re\n",
    "sns.set()\n",
    "sns.palplot(sns.color_palette(\"colorblind\"))\n",
    "from IPython.display import display, display_html, HTML\n",
    "plt.rcParams[\"axes.grid\"] = False\n",
    "\n",
    "import Jupyter_module_loader\n",
    "from utility import *\n",
    "import gaussian_kde\n"
   ]
  },
  {
   "cell_type": "code",
   "execution_count": 3,
   "metadata": {},
   "outputs": [],
   "source": [
    "# you should clone this git to a subdirectory called 'BES_analysis_code' (in some directory - I call it BES_analysis - doesn't matter though)\n",
    "# %matplotlib inline\n",
    "encoding = \"ISO-8859-1\"\n",
    "\n",
    "(BES_code_folder, BES_small_data_files, BES_data_folder,\n",
    " BES_output_folder, BES_file_manifest, BES_R_data_files) = setup_directories()\n",
    "\n"
   ]
  },
  {
   "cell_type": "code",
   "execution_count": 4,
   "metadata": {},
   "outputs": [
    {
     "name": "stderr",
     "output_type": "stream",
     "text": [
      "C:\\ProgramData\\Anaconda3\\envs\\BES_analysis\\lib\\site-packages\\IPython\\core\\interactiveshell.py:3326: FutureWarning: The read_msgpack is deprecated and will be removed in a future version.\n",
      "It is recommended to use pyarrow for on-the-wire transmission of pandas objects.\n",
      "  exec(code_obj, self.user_global_ns, self.user_ns)\n"
     ]
    }
   ],
   "source": [
    "global BES_Panel, BES_numeric, BES_reduced, BES_reduced_with_na, BES_non_numeric\n",
    "data_subfolder = BES_data_folder + dataset_name + os.sep\n",
    "\n",
    "(manifest, dataset_filename, dataset_description, dataset_citation,\n",
    " dataset_start, dataset_stop, dataset_wave) = get_manifest(dataset_name, BES_file_manifest)\n",
    "\n",
    "for df in df_list:\n",
    "    if df==\"BES_Panel\":\n",
    "        globals()[df]  = pd.read_msgpack(data_subfolder + dataset_filename.replace('.dta','.msgpack'))\n",
    "    else:\n",
    "        globals()[df]  = pd.read_msgpack(data_subfolder + df + '.msgpack' )\n",
    "        globals()[df].replace(-1,np.nan,inplace=True)\n",
    "  \n",
    "# (var_type, cat_dictionary, new_old_col_names, old_new_col_names) = get_small_files(data_subfolder, encoding)"
   ]
  },
  {
   "cell_type": "code",
   "execution_count": 5,
   "metadata": {},
   "outputs": [],
   "source": [
    "pan_dataset_allr_values = pd.read_csv(BES_small_data_files + \"pan_dataset_allr_values\"+\".csv\")"
   ]
  },
  {
   "cell_type": "code",
   "execution_count": 6,
   "metadata": {},
   "outputs": [],
   "source": [
    "global best_weight_series\n",
    "def weighted_mean(series):\n",
    "    return (series*best_weight_series.loc[series.index]).sum()/(best_weight_series.loc[series.index]).sum()\n"
   ]
  },
  {
   "cell_type": "code",
   "execution_count": 7,
   "metadata": {},
   "outputs": [
    {
     "name": "stderr",
     "output_type": "stream",
     "text": [
      "C:\\ProgramData\\Anaconda3\\envs\\BES_analysis\\lib\\site-packages\\pandas\\io\\stata.py:1453: UnicodeWarning: \n",
      "One or more strings in the dta file could not be decoded using utf-8, and\n",
      "so the fallback encoding of latin-1 is being used.  This can happen when a file\n",
      "has been incorrectly encoded by Stata or some other software. You should verify\n",
      "the string values returned are correct.\n",
      "  warnings.warn(msg.format(encoding=self._encoding), UnicodeWarning)\n"
     ]
    },
    {
     "name": "stdout",
     "output_type": "stream",
     "text": [
      "BES_census_data (632, 308)\n"
     ]
    }
   ],
   "source": [
    "BES_census_data = pd.read_stata( BES_small_data_files + \"BES-2017-General-Election-results-file-v1.0.dta\" )\n",
    "print(\"BES_census_data\", BES_census_data.shape )"
   ]
  },
  {
   "cell_type": "code",
   "execution_count": null,
   "metadata": {},
   "outputs": [],
   "source": []
  },
  {
   "cell_type": "code",
   "execution_count": 9,
   "metadata": {},
   "outputs": [
    {
     "data": {
      "text/plain": [
       "Index(['pano', 'ONSConstID', 'ConstituencyName', 'Country', 'Region',\n",
       "       'ConstituencyType', 'Winner17', 'Con17', 'Lab17', 'LD17',\n",
       "       ...\n",
       "       'c11HealthBad', 'c11HealthVeryBad', 'c11NoAdultsEmployed',\n",
       "       'c11NoAdultsEmployedChildren', 'c11NoAdultsEmployedNoChildren',\n",
       "       'c11DeprivedNone', 'c11Deprived1', 'c11Deprived2', 'c11Deprived3',\n",
       "       'c11Deprived4'],\n",
       "      dtype='object', length=308)"
      ]
     },
     "execution_count": 9,
     "metadata": {},
     "output_type": "execute_result"
    }
   ],
   "source": [
    "BES_census_data.columns"
   ]
  },
  {
   "cell_type": "code",
   "execution_count": 10,
   "metadata": {},
   "outputs": [
    {
     "data": {
      "text/plain": [
       "float64     250\n",
       "object       18\n",
       "category     14\n",
       "int32        10\n",
       "category      7\n",
       "int16         3\n",
       "category      2\n",
       "category      1\n",
       "category      1\n",
       "category      1\n",
       "category      1\n",
       "dtype: int64"
      ]
     },
     "execution_count": 10,
     "metadata": {},
     "output_type": "execute_result"
    }
   ],
   "source": [
    "BES_census_data.dtypes.value_counts()"
   ]
  },
  {
   "cell_type": "code",
   "execution_count": 11,
   "metadata": {},
   "outputs": [
    {
     "data": {
      "text/plain": [
       "Index(['Country', 'Region', 'ConstituencyType', 'Winner17', 'Winner15',\n",
       "       'Winner10', 'ConPPCsex17', 'LabPPCsex17', 'LDPPCsex17', 'SNPPPCsex17',\n",
       "       'PCPPCsex17', 'UKIPPPCsex17', 'GreenPPCsex17', 'ConPPCsex15',\n",
       "       'ConPPCrace15', 'LabPPCsex15', 'LabPPCrace15', 'LDPPCsex15',\n",
       "       'LDPPCrace15', 'SNPPPCsex15', 'SNPPPCrace15', 'PCPPCsex15',\n",
       "       'PCPPCrace15', 'UKIPPPCsex15', 'UKIPPPCrace15', 'GreenPPCsex15',\n",
       "       'GreenPPCrace15'],\n",
       "      dtype='object')"
      ]
     },
     "execution_count": 11,
     "metadata": {},
     "output_type": "execute_result"
    }
   ],
   "source": [
    "BES_census_data.columns[BES_census_data.dtypes=='category']\n",
    "# Country: category (England/Scotland/Wales)\n",
    "# Region: category (gor)\n",
    "# ConstituencyType: category County|Borough\n",
    "# <party categories>: 'Winner17', 'Winner15', 'Winner10',\n",
    "# Male|Female <party>PPCsex<15|17>\n",
    "# White|BME <party>PPCrace<15|17>\n"
   ]
  },
  {
   "cell_type": "code",
   "execution_count": 35,
   "metadata": {},
   "outputs": [
    {
     "data": {
      "text/plain": [
       "White    569\n",
       "BME       62\n",
       "Name: ConPPCrace15, dtype: int64"
      ]
     },
     "execution_count": 35,
     "metadata": {},
     "output_type": "execute_result"
    }
   ],
   "source": []
  },
  {
   "cell_type": "code",
   "execution_count": 112,
   "metadata": {},
   "outputs": [],
   "source": [
    "# BES_census_data.columns[BES_census_data.dtypes=='int16']\n",
    "# 'RejectedVote17', 'RejectedVote15'\n",
    "# pano = constId\n",
    "\n",
    "c11_vars = [x for x in BES_census_data.columns[BES_census_data.dtypes=='float'] if \"c11\" in x]\n",
    "nonc11vars = [x for x in BES_census_data.columns[BES_census_data.dtypes=='float'] if \"c11\" not in x]\n",
    "\n",
    "num_non_perc_vars = ['RejectedVote17', 'RejectedVote15']\n",
    "num_non_perc_vars.extend(list(BES_census_data.columns[BES_census_data.dtypes=='int32']))\n",
    "num_non_perc_vars.append('c11PopulationDensity')\n",
    "\n",
    "percentage_vars = c11_vars\n",
    "percentage_vars.remove('c11PopulationDensity')\n",
    "\n",
    "percentage_vars.extend( list(BES_census_data[nonc11vars].columns[ BES_census_data[nonc11vars].max()<=100 ]) )\n",
    "\n",
    "num_non_perc_vars.extend( list(BES_census_data[nonc11vars].columns[ BES_census_data[nonc11vars].max()>100 ]) )\n",
    "\n",
    "id_vars = [\"pano\",\"ONSConstID\",\"ConstituencyName\"]\n",
    "name_vars = [x for x in BES_census_data.columns if re.search(\"PPC(17|15)\",x)]"
   ]
  },
  {
   "cell_type": "code",
   "execution_count": 113,
   "metadata": {},
   "outputs": [],
   "source": [
    "BES_census_data[[\"SeatChange1517\",\"SeatChange1015\"]] = BES_census_data[[\"SeatChange1517\",\"SeatChange1015\"]].replace(\" \",np.nan).astype('category')\n",
    "\n",
    "categorical_vars = list( BES_census_data.columns[BES_census_data.dtypes=='category'] )\n",
    "categorical_vars.extend([\"SeatChange1517\",\"SeatChange1015\"])\n",
    "\n",
    "\n",
    "df = pd.concat([ pd.get_dummies(BES_census_data[categorical_vars]),\n",
    "                 BES_census_data[ percentage_vars+num_non_perc_vars ] ], axis=1).astype('float')"
   ]
  },
  {
   "cell_type": "code",
   "execution_count": 114,
   "metadata": {},
   "outputs": [
    {
     "data": {
      "text/html": [
       "<div>\n",
       "<style scoped>\n",
       "    .dataframe tbody tr th:only-of-type {\n",
       "        vertical-align: middle;\n",
       "    }\n",
       "\n",
       "    .dataframe tbody tr th {\n",
       "        vertical-align: top;\n",
       "    }\n",
       "\n",
       "    .dataframe thead th {\n",
       "        text-align: right;\n",
       "    }\n",
       "</style>\n",
       "<table border=\"1\" class=\"dataframe\">\n",
       "  <thead>\n",
       "    <tr style=\"text-align: right;\">\n",
       "      <th></th>\n",
       "      <th>Country_England</th>\n",
       "      <th>Country_Scotland</th>\n",
       "      <th>Country_Wales</th>\n",
       "      <th>Region_North East</th>\n",
       "      <th>Region_North West</th>\n",
       "      <th>Region_Yorkshire and The Humber</th>\n",
       "      <th>Region_East Midlands</th>\n",
       "      <th>Region_West Midlands</th>\n",
       "      <th>Region_East of England</th>\n",
       "      <th>Region_London</th>\n",
       "      <th>...</th>\n",
       "      <th>UKIPVote15</th>\n",
       "      <th>GreenVote15</th>\n",
       "      <th>BNPVote15</th>\n",
       "      <th>LabVote10</th>\n",
       "      <th>LDVote10</th>\n",
       "      <th>SNPVote10</th>\n",
       "      <th>PCVote10</th>\n",
       "      <th>UKIPVote10</th>\n",
       "      <th>GreenVote10</th>\n",
       "      <th>BNPVote10</th>\n",
       "    </tr>\n",
       "  </thead>\n",
       "  <tbody>\n",
       "    <tr>\n",
       "      <th>0</th>\n",
       "      <td>0.0</td>\n",
       "      <td>0.0</td>\n",
       "      <td>1.0</td>\n",
       "      <td>0.0</td>\n",
       "      <td>0.0</td>\n",
       "      <td>0.0</td>\n",
       "      <td>0.0</td>\n",
       "      <td>0.0</td>\n",
       "      <td>0.0</td>\n",
       "      <td>0.0</td>\n",
       "      <td>...</td>\n",
       "      <td>4971.0</td>\n",
       "      <td>711.0</td>\n",
       "      <td>NaN</td>\n",
       "      <td>16073.0</td>\n",
       "      <td>5034.0</td>\n",
       "      <td>NaN</td>\n",
       "      <td>2198.0</td>\n",
       "      <td>489.0</td>\n",
       "      <td>NaN</td>\n",
       "      <td>1276.0</td>\n",
       "    </tr>\n",
       "    <tr>\n",
       "      <th>1</th>\n",
       "      <td>0.0</td>\n",
       "      <td>0.0</td>\n",
       "      <td>1.0</td>\n",
       "      <td>0.0</td>\n",
       "      <td>0.0</td>\n",
       "      <td>0.0</td>\n",
       "      <td>0.0</td>\n",
       "      <td>0.0</td>\n",
       "      <td>0.0</td>\n",
       "      <td>0.0</td>\n",
       "      <td>...</td>\n",
       "      <td>3467.0</td>\n",
       "      <td>727.0</td>\n",
       "      <td>NaN</td>\n",
       "      <td>7336.0</td>\n",
       "      <td>5786.0</td>\n",
       "      <td>NaN</td>\n",
       "      <td>5341.0</td>\n",
       "      <td>632.0</td>\n",
       "      <td>NaN</td>\n",
       "      <td>NaN</td>\n",
       "    </tr>\n",
       "    <tr>\n",
       "      <th>2</th>\n",
       "      <td>0.0</td>\n",
       "      <td>1.0</td>\n",
       "      <td>0.0</td>\n",
       "      <td>0.0</td>\n",
       "      <td>0.0</td>\n",
       "      <td>0.0</td>\n",
       "      <td>0.0</td>\n",
       "      <td>0.0</td>\n",
       "      <td>0.0</td>\n",
       "      <td>0.0</td>\n",
       "      <td>...</td>\n",
       "      <td>NaN</td>\n",
       "      <td>NaN</td>\n",
       "      <td>NaN</td>\n",
       "      <td>16746.0</td>\n",
       "      <td>7001.0</td>\n",
       "      <td>8385.0</td>\n",
       "      <td>NaN</td>\n",
       "      <td>NaN</td>\n",
       "      <td>NaN</td>\n",
       "      <td>635.0</td>\n",
       "    </tr>\n",
       "    <tr>\n",
       "      <th>3</th>\n",
       "      <td>0.0</td>\n",
       "      <td>1.0</td>\n",
       "      <td>0.0</td>\n",
       "      <td>0.0</td>\n",
       "      <td>0.0</td>\n",
       "      <td>0.0</td>\n",
       "      <td>0.0</td>\n",
       "      <td>0.0</td>\n",
       "      <td>0.0</td>\n",
       "      <td>0.0</td>\n",
       "      <td>...</td>\n",
       "      <td>897.0</td>\n",
       "      <td>964.0</td>\n",
       "      <td>NaN</td>\n",
       "      <td>15722.0</td>\n",
       "      <td>12216.0</td>\n",
       "      <td>5102.0</td>\n",
       "      <td>NaN</td>\n",
       "      <td>NaN</td>\n",
       "      <td>413.0</td>\n",
       "      <td>529.0</td>\n",
       "    </tr>\n",
       "    <tr>\n",
       "      <th>4</th>\n",
       "      <td>0.0</td>\n",
       "      <td>1.0</td>\n",
       "      <td>0.0</td>\n",
       "      <td>0.0</td>\n",
       "      <td>0.0</td>\n",
       "      <td>0.0</td>\n",
       "      <td>0.0</td>\n",
       "      <td>0.0</td>\n",
       "      <td>0.0</td>\n",
       "      <td>0.0</td>\n",
       "      <td>...</td>\n",
       "      <td>1006.0</td>\n",
       "      <td>885.0</td>\n",
       "      <td>NaN</td>\n",
       "      <td>6159.0</td>\n",
       "      <td>17362.0</td>\n",
       "      <td>7086.0</td>\n",
       "      <td>NaN</td>\n",
       "      <td>397.0</td>\n",
       "      <td>NaN</td>\n",
       "      <td>513.0</td>\n",
       "    </tr>\n",
       "    <tr>\n",
       "      <th>...</th>\n",
       "      <td>...</td>\n",
       "      <td>...</td>\n",
       "      <td>...</td>\n",
       "      <td>...</td>\n",
       "      <td>...</td>\n",
       "      <td>...</td>\n",
       "      <td>...</td>\n",
       "      <td>...</td>\n",
       "      <td>...</td>\n",
       "      <td>...</td>\n",
       "      <td>...</td>\n",
       "      <td>...</td>\n",
       "      <td>...</td>\n",
       "      <td>...</td>\n",
       "      <td>...</td>\n",
       "      <td>...</td>\n",
       "      <td>...</td>\n",
       "      <td>...</td>\n",
       "      <td>...</td>\n",
       "      <td>...</td>\n",
       "      <td>...</td>\n",
       "    </tr>\n",
       "    <tr>\n",
       "      <th>627</th>\n",
       "      <td>1.0</td>\n",
       "      <td>0.0</td>\n",
       "      <td>0.0</td>\n",
       "      <td>0.0</td>\n",
       "      <td>0.0</td>\n",
       "      <td>0.0</td>\n",
       "      <td>0.0</td>\n",
       "      <td>0.0</td>\n",
       "      <td>0.0</td>\n",
       "      <td>0.0</td>\n",
       "      <td>...</td>\n",
       "      <td>7646.0</td>\n",
       "      <td>2191.0</td>\n",
       "      <td>NaN</td>\n",
       "      <td>2991.0</td>\n",
       "      <td>31843.0</td>\n",
       "      <td>NaN</td>\n",
       "      <td>NaN</td>\n",
       "      <td>2357.0</td>\n",
       "      <td>NaN</td>\n",
       "      <td>1162.0</td>\n",
       "    </tr>\n",
       "    <tr>\n",
       "      <th>628</th>\n",
       "      <td>0.0</td>\n",
       "      <td>0.0</td>\n",
       "      <td>1.0</td>\n",
       "      <td>0.0</td>\n",
       "      <td>0.0</td>\n",
       "      <td>0.0</td>\n",
       "      <td>0.0</td>\n",
       "      <td>0.0</td>\n",
       "      <td>0.0</td>\n",
       "      <td>0.0</td>\n",
       "      <td>...</td>\n",
       "      <td>5121.0</td>\n",
       "      <td>NaN</td>\n",
       "      <td>NaN</td>\n",
       "      <td>11490.0</td>\n",
       "      <td>2592.0</td>\n",
       "      <td>NaN</td>\n",
       "      <td>9029.0</td>\n",
       "      <td>1201.0</td>\n",
       "      <td>NaN</td>\n",
       "      <td>NaN</td>\n",
       "    </tr>\n",
       "    <tr>\n",
       "      <th>629</th>\n",
       "      <td>1.0</td>\n",
       "      <td>0.0</td>\n",
       "      <td>0.0</td>\n",
       "      <td>0.0</td>\n",
       "      <td>0.0</td>\n",
       "      <td>1.0</td>\n",
       "      <td>0.0</td>\n",
       "      <td>0.0</td>\n",
       "      <td>0.0</td>\n",
       "      <td>0.0</td>\n",
       "      <td>...</td>\n",
       "      <td>4795.0</td>\n",
       "      <td>4791.0</td>\n",
       "      <td>NaN</td>\n",
       "      <td>18573.0</td>\n",
       "      <td>11694.0</td>\n",
       "      <td>NaN</td>\n",
       "      <td>NaN</td>\n",
       "      <td>1100.0</td>\n",
       "      <td>1669.0</td>\n",
       "      <td>1171.0</td>\n",
       "    </tr>\n",
       "    <tr>\n",
       "      <th>630</th>\n",
       "      <td>1.0</td>\n",
       "      <td>0.0</td>\n",
       "      <td>0.0</td>\n",
       "      <td>0.0</td>\n",
       "      <td>0.0</td>\n",
       "      <td>1.0</td>\n",
       "      <td>0.0</td>\n",
       "      <td>0.0</td>\n",
       "      <td>0.0</td>\n",
       "      <td>0.0</td>\n",
       "      <td>...</td>\n",
       "      <td>5251.0</td>\n",
       "      <td>2558.0</td>\n",
       "      <td>NaN</td>\n",
       "      <td>9108.0</td>\n",
       "      <td>19224.0</td>\n",
       "      <td>NaN</td>\n",
       "      <td>NaN</td>\n",
       "      <td>1100.0</td>\n",
       "      <td>NaN</td>\n",
       "      <td>956.0</td>\n",
       "    </tr>\n",
       "    <tr>\n",
       "      <th>631</th>\n",
       "      <td>1.0</td>\n",
       "      <td>0.0</td>\n",
       "      <td>0.0</td>\n",
       "      <td>0.0</td>\n",
       "      <td>0.0</td>\n",
       "      <td>1.0</td>\n",
       "      <td>0.0</td>\n",
       "      <td>0.0</td>\n",
       "      <td>0.0</td>\n",
       "      <td>0.0</td>\n",
       "      <td>...</td>\n",
       "      <td>8955.0</td>\n",
       "      <td>1731.0</td>\n",
       "      <td>NaN</td>\n",
       "      <td>10401.0</td>\n",
       "      <td>10842.0</td>\n",
       "      <td>NaN</td>\n",
       "      <td>NaN</td>\n",
       "      <td>2142.0</td>\n",
       "      <td>762.0</td>\n",
       "      <td>1865.0</td>\n",
       "    </tr>\n",
       "  </tbody>\n",
       "</table>\n",
       "<p>632 rows × 376 columns</p>\n",
       "</div>"
      ],
      "text/plain": [
       "     Country_England  Country_Scotland  Country_Wales  Region_North East  \\\n",
       "0                0.0               0.0            1.0                0.0   \n",
       "1                0.0               0.0            1.0                0.0   \n",
       "2                0.0               1.0            0.0                0.0   \n",
       "3                0.0               1.0            0.0                0.0   \n",
       "4                0.0               1.0            0.0                0.0   \n",
       "..               ...               ...            ...                ...   \n",
       "627              1.0               0.0            0.0                0.0   \n",
       "628              0.0               0.0            1.0                0.0   \n",
       "629              1.0               0.0            0.0                0.0   \n",
       "630              1.0               0.0            0.0                0.0   \n",
       "631              1.0               0.0            0.0                0.0   \n",
       "\n",
       "     Region_North West  Region_Yorkshire and The Humber  Region_East Midlands  \\\n",
       "0                  0.0                              0.0                   0.0   \n",
       "1                  0.0                              0.0                   0.0   \n",
       "2                  0.0                              0.0                   0.0   \n",
       "3                  0.0                              0.0                   0.0   \n",
       "4                  0.0                              0.0                   0.0   \n",
       "..                 ...                              ...                   ...   \n",
       "627                0.0                              0.0                   0.0   \n",
       "628                0.0                              0.0                   0.0   \n",
       "629                0.0                              1.0                   0.0   \n",
       "630                0.0                              1.0                   0.0   \n",
       "631                0.0                              1.0                   0.0   \n",
       "\n",
       "     Region_West Midlands  Region_East of England  Region_London  ...  \\\n",
       "0                     0.0                     0.0            0.0  ...   \n",
       "1                     0.0                     0.0            0.0  ...   \n",
       "2                     0.0                     0.0            0.0  ...   \n",
       "3                     0.0                     0.0            0.0  ...   \n",
       "4                     0.0                     0.0            0.0  ...   \n",
       "..                    ...                     ...            ...  ...   \n",
       "627                   0.0                     0.0            0.0  ...   \n",
       "628                   0.0                     0.0            0.0  ...   \n",
       "629                   0.0                     0.0            0.0  ...   \n",
       "630                   0.0                     0.0            0.0  ...   \n",
       "631                   0.0                     0.0            0.0  ...   \n",
       "\n",
       "     UKIPVote15  GreenVote15  BNPVote15  LabVote10  LDVote10  SNPVote10  \\\n",
       "0        4971.0        711.0        NaN    16073.0    5034.0        NaN   \n",
       "1        3467.0        727.0        NaN     7336.0    5786.0        NaN   \n",
       "2           NaN          NaN        NaN    16746.0    7001.0     8385.0   \n",
       "3         897.0        964.0        NaN    15722.0   12216.0     5102.0   \n",
       "4        1006.0        885.0        NaN     6159.0   17362.0     7086.0   \n",
       "..          ...          ...        ...        ...       ...        ...   \n",
       "627      7646.0       2191.0        NaN     2991.0   31843.0        NaN   \n",
       "628      5121.0          NaN        NaN    11490.0    2592.0        NaN   \n",
       "629      4795.0       4791.0        NaN    18573.0   11694.0        NaN   \n",
       "630      5251.0       2558.0        NaN     9108.0   19224.0        NaN   \n",
       "631      8955.0       1731.0        NaN    10401.0   10842.0        NaN   \n",
       "\n",
       "     PCVote10  UKIPVote10  GreenVote10  BNPVote10  \n",
       "0      2198.0       489.0          NaN     1276.0  \n",
       "1      5341.0       632.0          NaN        NaN  \n",
       "2         NaN         NaN          NaN      635.0  \n",
       "3         NaN         NaN        413.0      529.0  \n",
       "4         NaN       397.0          NaN      513.0  \n",
       "..        ...         ...          ...        ...  \n",
       "627       NaN      2357.0          NaN     1162.0  \n",
       "628    9029.0      1201.0          NaN        NaN  \n",
       "629       NaN      1100.0       1669.0     1171.0  \n",
       "630       NaN      1100.0          NaN      956.0  \n",
       "631       NaN      2142.0        762.0     1865.0  \n",
       "\n",
       "[632 rows x 376 columns]"
      ]
     },
     "execution_count": 114,
     "metadata": {},
     "output_type": "execute_result"
    }
   ],
   "source": [
    "df"
   ]
  },
  {
   "cell_type": "code",
   "execution_count": 14,
   "metadata": {},
   "outputs": [
    {
     "data": {
      "text/plain": [
       "Index(['ONSConstID', 'ConstituencyName', 'SeatChange1517', 'SeatChange1015',\n",
       "       'ConPPC17', 'LabPPC17', 'LDPPC17', 'SNPPPC17', 'PCPPC17', 'UKIPPPC17',\n",
       "       'GreenPPC17', 'ConPPC15', 'LabPPC15', 'LDPPC15', 'SNPPPC15', 'PCPPC15',\n",
       "       'UKIPPPC15', 'GreenPPC15'],\n",
       "      dtype='object')"
      ]
     },
     "execution_count": 14,
     "metadata": {},
     "output_type": "execute_result"
    }
   ],
   "source": [
    "BES_census_data.columns[BES_census_data.dtypes=='object']\n",
    "# ONSConstID: ONS area code\n",
    "# ConstituencyName: ... Const name\n",
    "# SeatChange1517,SeatChange1015: categorical!\n",
    "# Names:\n",
    "#        'ConPPC17', 'LabPPC17', 'LDPPC17', 'SNPPPC17', 'PCPPC17', 'UKIPPPC17',\n",
    "#        'GreenPPC17', 'ConPPC15', 'LabPPC15', 'LDPPC15', 'SNPPPC15', 'PCPPC15',\n",
    "#        'UKIPPPC15', 'GreenPPC15'"
   ]
  },
  {
   "cell_type": "code",
   "execution_count": 98,
   "metadata": {},
   "outputs": [],
   "source": [
    "\n",
    "\n",
    "# all aggregate %s\n",
    "\n",
    "# c11PassportAny ... goes up to 103%!\n",
    "# c11PopulationDensity ... absolute value, not %\n"
   ]
  },
  {
   "cell_type": "code",
   "execution_count": 103,
   "metadata": {},
   "outputs": [
    {
     "data": {
      "text/plain": [
       "Index(['Con17', 'Lab17', 'LD17', 'SNP17', 'PC17', 'UKIP17', 'Green17',\n",
       "       'Other17', 'Majority17', 'Turnout17', 'Con1517', 'Lab1517', 'LD1517',\n",
       "       'SNP1517', 'PC1517', 'UKIP1517', 'Green1517', 'Con15', 'Lab15', 'LD15',\n",
       "       'SNP15', 'PC15', 'UKIP15', 'Green15', 'Other15', 'Majority15',\n",
       "       'Turnout15', 'Con1015', 'Lab1015', 'LD1015', 'SNP1015', 'PC1015',\n",
       "       'UKIP1015', 'Green1015', 'Con10', 'Lab10', 'LD10', 'SNP10', 'PC10',\n",
       "       'UKIP10', 'Green10', 'BNP10', 'Majority10', 'Turn10', 'leaveHanretty',\n",
       "       'remainHanretty'],\n",
       "      dtype='object')"
      ]
     },
     "execution_count": 103,
     "metadata": {},
     "output_type": "execute_result"
    }
   ],
   "source": [
    "BES_census_data[nonc11vars].columns[ BES_census_data[nonc11vars].max()<=100 ]"
   ]
  },
  {
   "cell_type": "code",
   "execution_count": 105,
   "metadata": {},
   "outputs": [
    {
     "data": {
      "text/plain": [
       "Index(['LabVote17', 'LDVote17', 'SNPVote17', 'PCVote17', 'UKIPVote17',\n",
       "       'GreenVote17', 'LabVote15', 'LDVote15', 'SNPVote15', 'PCVote15',\n",
       "       'UKIPVote15', 'GreenVote15', 'BNPVote15', 'LabVote10', 'LDVote10',\n",
       "       'SNPVote10', 'PCVote10', 'UKIPVote10', 'GreenVote10', 'BNPVote10'],\n",
       "      dtype='object')"
      ]
     },
     "execution_count": 105,
     "metadata": {},
     "output_type": "execute_result"
    }
   ],
   "source": [
    "BES_census_data[nonc11vars].columns[ BES_census_data[nonc11vars].max()>100 ]"
   ]
  },
  {
   "cell_type": "code",
   "execution_count": 102,
   "metadata": {},
   "outputs": [
    {
     "data": {
      "text/plain": [
       "0      17.737766\n",
       "1      44.594090\n",
       "2      22.692276\n",
       "3      42.132470\n",
       "4      47.852785\n",
       "         ...    \n",
       "627    54.489597\n",
       "628    27.789226\n",
       "629    30.174427\n",
       "630    51.118812\n",
       "631    58.273408\n",
       "Name: Con17, Length: 632, dtype: float64"
      ]
     },
     "execution_count": 102,
     "metadata": {},
     "output_type": "execute_result"
    }
   ],
   "source": [
    "BES_census_data['Con17']"
   ]
  },
  {
   "cell_type": "code",
   "execution_count": null,
   "metadata": {},
   "outputs": [],
   "source": [
    "# pano"
   ]
  },
  {
   "cell_type": "code",
   "execution_count": 128,
   "metadata": {},
   "outputs": [
    {
     "data": {
      "text/plain": [
       "BNPVote15              624\n",
       "PC1517                 592\n",
       "PC17                   592\n",
       "PC15                   592\n",
       "PC1015                 592\n",
       "                      ... \n",
       "GreenPPCsex15_Woman      0\n",
       "GreenPPCsex15_Man        0\n",
       "UKIPPPCrace15_BME        0\n",
       "UKIPPPCrace15_White      0\n",
       "UKIPPPCsex15_Woman       0\n",
       "Length: 100, dtype: int64"
      ]
     },
     "execution_count": 128,
     "metadata": {},
     "output_type": "execute_result"
    }
   ],
   "source": [
    "df.isnull().sum(axis=0).sort_values(ascending=False).head(100)"
   ]
  },
  {
   "cell_type": "code",
   "execution_count": 155,
   "metadata": {},
   "outputs": [
    {
     "data": {
      "text/plain": [
       "Index(['Country_England', 'Country_Scotland', 'Country_Wales',\n",
       "       'Region_North East', 'Region_North West',\n",
       "       'Region_Yorkshire and The Humber', 'Region_East Midlands',\n",
       "       'Region_West Midlands', 'Region_East of England', 'Region_London',\n",
       "       ...\n",
       "       'UKIPVote15', 'GreenVote15', 'BNPVote15', 'LabVote10', 'LDVote10',\n",
       "       'SNPVote10', 'PCVote10', 'UKIPVote10', 'GreenVote10', 'BNPVote10'],\n",
       "      dtype='object', length=376)"
      ]
     },
     "execution_count": 155,
     "metadata": {},
     "output_type": "execute_result"
    }
   ],
   "source": [
    "df.mean().index"
   ]
  },
  {
   "cell_type": "code",
   "execution_count": 165,
   "metadata": {},
   "outputs": [
    {
     "data": {
      "text/plain": [
       "Index(['LD1517', 'SNP1517', 'PC1517', 'UKIP1517', 'Green1517', 'LD1015'], dtype='object')"
      ]
     },
     "execution_count": 165,
     "metadata": {},
     "output_type": "execute_result"
    }
   ],
   "source": [
    "df.columns[df.mean()<0]"
   ]
  },
  {
   "cell_type": "code",
   "execution_count": 169,
   "metadata": {},
   "outputs": [],
   "source": [
    "df = df.apply(lambda x: x.fillna(x.mean()))"
   ]
  },
  {
   "cell_type": "code",
   "execution_count": null,
   "metadata": {},
   "outputs": [],
   "source": []
  },
  {
   "cell_type": "code",
   "execution_count": 173,
   "metadata": {},
   "outputs": [],
   "source": [
    "## Lets try some PCA!\n",
    "\n",
    "\n",
    "Treatment = \"census_PCA\"\n",
    "\n",
    "output_subfolder = BES_output_folder + Treatment + os.sep\n",
    "if not os.path.exists( output_subfolder ):\n",
    "    os.makedirs( output_subfolder )"
   ]
  },
  {
   "cell_type": "code",
   "execution_count": 174,
   "metadata": {},
   "outputs": [],
   "source": [
    "df_cols = df.columns\n",
    "df_ind = df.index\n",
    "\n",
    "# normalise data (subtract out the mean, divide through by standard deviation)\n",
    "clean_feature_set_std = StandardScaler().fit_transform(df.values )\n",
    "BES_std = pd.DataFrame(      clean_feature_set_std,\n",
    "                             columns = df_cols,\n",
    "                             index   = df_ind      )"
   ]
  },
  {
   "cell_type": "code",
   "execution_count": 175,
   "metadata": {},
   "outputs": [
    {
     "name": "stdout",
     "output_type": "stream",
     "text": [
      "Wall time: 867 ms\n"
     ]
    }
   ],
   "source": [
    "%%time\n",
    "# 5 mins\n",
    "## RUN (some variant of) PCA (potentially v slow!)\n",
    "n_components = BES_std.shape[1]\n",
    "n_components = 2\n",
    "# (svd_solver='full', n_components='mle',whiten=True)\n",
    "# decomp = PCA(n_components = n_components,svd_solver='full')\n",
    "# decomp = FastICA(algorithm='deflation', fun='exp', fun_args=None, max_iter=1000,\n",
    "#     n_components=None, random_state=None, tol=0.07, w_init=None, whiten=False) # 2h 1min 4s \"fast\"\n",
    "# decomp = SparsePCA(n_components=n_components, alpha=2,max_iter=1000,n_jobs=4,tol=1e-10, verbose=True) # 5min\n",
    "#\n",
    "# alpha=2 -> 1hr\n",
    "\n",
    "decomp = FactorAnalysis(svd_method = 'lapack',n_components = n_components) ## ~10s ,n_components=30 -> 1.5 hrs\n",
    "decomp_method = str(decomp).split(\"(\")[0] \n",
    "# ,n_components=30\n",
    "\n",
    "X_r = decomp.fit_transform(BES_std)\n",
    "\n",
    "BES_decomp = pd.DataFrame(   X_r,\n",
    "                             columns = range(0,n_components),\n",
    "                             index   = df_ind)"
   ]
  },
  {
   "cell_type": "code",
   "execution_count": 179,
   "metadata": {},
   "outputs": [
    {
     "name": "stderr",
     "output_type": "stream",
     "text": [
      "C:\\ProgramData\\Anaconda3\\envs\\BES_analysis\\lib\\site-packages\\ipykernel_launcher.py:13: FutureWarning: to_msgpack is deprecated and will be removed in a future version.\n",
      "It is recommended to use pyarrow for on-the-wire transmission of pandas objects.\n",
      "  del sys.path[0]\n",
      "C:\\ProgramData\\Anaconda3\\envs\\BES_analysis\\lib\\site-packages\\ipykernel_launcher.py:14: FutureWarning: to_msgpack is deprecated and will be removed in a future version.\n",
      "It is recommended to use pyarrow for on-the-wire transmission of pandas objects.\n",
      "  \n"
     ]
    }
   ],
   "source": [
    "# treatdir = BES_data_folder+Treatment\n",
    "# subdir = BES_data_folder+Treatment+decomp_method\n",
    "load_suff = \"FactorAnalysis\"\n",
    "save = True # False => Load\n",
    "\n",
    "if save & ( 'decomp' in globals() ): # SAVE    ##( 'decomp' not in globals() )\n",
    "    decomp_method = str(decomp).split(\"(\")[0] \n",
    "    subdir = output_subfolder + decomp_method\n",
    "    fname = subdir+ os.sep + decomp_method\n",
    "    # create dir, save decomp object, BES_decomp, BES_std    \n",
    "    if not os.path.exists(subdir): os.makedirs(subdir)\n",
    "    with open(fname+\".pkl\", \"wb\") as f: pickle.dump( decomp, f )\n",
    "    BES_decomp.to_msgpack(fname+\".msgpack\"     )\n",
    "    BES_std.to_msgpack(   fname+\"_std\"+\".msgpack\" )\n",
    "    \n",
    "else: # LOAD decomp results (default is SAVE)\n",
    "    decomp_method = load_suff\n",
    "    subdir = output_subfolder + os.sep + decomp_method    \n",
    "    fname = subdir + os.sep + decomp_method\n",
    "    if not os.path.exists(subdir): raise Exception(subdir + ' does not exist!')\n",
    "    # load decomp object, BES_decomp, BES_std, n_components\n",
    "    with open(fname+\".pkl\", \"rb\") as f: decomp = pickle.load(f) \n",
    "    BES_decomp = pd.read_hdf(fname+\".hdf\")\n",
    "    BES_std    = pd.read_hdf(fname+\"_std\"+\".hdf\")\n",
    "    n_components = decomp.components_.shape[0] "
   ]
  },
  {
   "cell_type": "code",
   "execution_count": 180,
   "metadata": {},
   "outputs": [
    {
     "name": "stdout",
     "output_type": "stream",
     "text": [
      "average log-likelihood of all samples: -438.58861250805046\n",
      "number of iterations: 10\n"
     ]
    },
    {
     "data": {
      "image/png": "[encoded data removed]",
      "text/plain": [
       "<Figure size 1152x216 with 4 Axes>"
      ]
     },
     "metadata": {
      "needs_background": "light"
     },
     "output_type": "display_data"
    }
   ],
   "source": [
    "display_pca_data(n_components, decomp, BES_std)"
   ]
  },
  {
   "cell_type": "code",
   "execution_count": 181,
   "metadata": {},
   "outputs": [
    {
     "name": "stdout",
     "output_type": "stream",
     "text": [
      "Warning, filename truncated because it was over 30. Filenames may no longer be unique\n"
     ]
    },
    {
     "data": {
      "image/png": "[encoded data removed]",
      "text/plain": [
       "<Figure size 720x432 with 1 Axes>"
      ]
     },
     "metadata": {
      "needs_background": "light"
     },
     "output_type": "display_data"
    },
    {
     "data": {
      "image/png": "[encoded data removed]",
      "text/plain": [
       "<Figure size 720x432 with 1 Axes>"
      ]
     },
     "metadata": {
      "needs_background": "light"
     },
     "output_type": "display_data"
    }
   ],
   "source": [
    "(BES_decomp, comp_labels, comp_dict) = display_components(n_components, decomp,\n",
    "                                                          df_cols, BES_decomp, manifest, \n",
    "                                                          save_folder = subdir,  \n",
    "                                                          show_first_x_comps= 4, show_histogram = False)"
   ]
  },
  {
   "cell_type": "code",
   "execution_count": null,
   "metadata": {},
   "outputs": [],
   "source": []
  },
  {
   "cell_type": "code",
   "execution_count": null,
   "metadata": {},
   "outputs": [],
   "source": []
  },
  {
   "cell_type": "code",
   "execution_count": null,
   "metadata": {},
   "outputs": [],
   "source": []
  },
  {
   "cell_type": "code",
   "execution_count": null,
   "metadata": {},
   "outputs": [],
   "source": []
  },
  {
   "cell_type": "code",
   "execution_count": null,
   "metadata": {},
   "outputs": [],
   "source": []
  },
  {
   "cell_type": "code",
   "execution_count": null,
   "metadata": {},
   "outputs": [],
   "source": []
  },
  {
   "cell_type": "code",
   "execution_count": null,
   "metadata": {},
   "outputs": [],
   "source": []
  },
  {
   "cell_type": "code",
   "execution_count": null,
   "metadata": {},
   "outputs": [],
   "source": []
  },
  {
   "cell_type": "code",
   "execution_count": null,
   "metadata": {},
   "outputs": [],
   "source": []
  },
  {
   "cell_type": "code",
   "execution_count": null,
   "metadata": {},
   "outputs": [],
   "source": []
  },
  {
   "cell_type": "code",
   "execution_count": null,
   "metadata": {},
   "outputs": [],
   "source": []
  },
  {
   "cell_type": "code",
   "execution_count": null,
   "metadata": {},
   "outputs": [],
   "source": []
  },
  {
   "cell_type": "code",
   "execution_count": null,
   "metadata": {},
   "outputs": [],
   "source": []
  },
  {
   "cell_type": "code",
   "execution_count": null,
   "metadata": {},
   "outputs": [],
   "source": []
  },
  {
   "cell_type": "code",
   "execution_count": null,
   "metadata": {},
   "outputs": [],
   "source": []
  }
 ],
 "metadata": {
  "kernelspec": {
   "display_name": "Python [conda env:BES_analysis] *",
   "language": "python",
   "name": "conda-env-BES_analysis-py"
  },
  "language_info": {
   "codemirror_mode": {
    "name": "ipython",
    "version": 3
   },
   "file_extension": ".py",
   "mimetype": "text/x-python",
   "name": "python",
   "nbconvert_exporter": "python",
   "pygments_lexer": "ipython3",
   "version": "3.6.7"
  }
 },
 "nbformat": 4,
 "nbformat_minor": 2
}
