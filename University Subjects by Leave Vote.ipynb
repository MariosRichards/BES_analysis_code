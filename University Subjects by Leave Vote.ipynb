{
 "cells": [
  {
   "cell_type": "code",
   "execution_count": null,
   "metadata": {},
   "outputs": [],
   "source": []
  },
  {
   "cell_type": "code",
   "execution_count": 1,
   "metadata": {},
   "outputs": [
    {
     "data": {
      "text/html": [
       "<script>jQuery(function() {if (jQuery(\"body.notebook_app\").length == 0) { jQuery(\".input_area\").toggle(); jQuery(\".prompt\").toggle();}});</script>"
      ]
     },
     "metadata": {},
     "output_type": "display_data"
    },
    {
     "data": {
      "text/html": [
       "<button onclick=\"jQuery('.input_area').toggle(); jQuery('.prompt').toggle();\">Toggle code</button>"
      ]
     },
     "metadata": {},
     "output_type": "display_data"
    },
    {
     "name": "stdout",
     "output_type": "stream",
     "text": [
      "var_type (7911, 14)\n",
      "Wall time: 35.4 s\n"
     ]
    }
   ],
   "source": [
    "%%time\n",
    "dataset_name = \"W19_comb\"\n",
    "df_list = [ \"BES_Panel\" ]\n",
    "\n",
    "%matplotlib inline \n",
    "%run BES_header.py {dataset_name} {df_list}\n",
    "\n",
    "if \"id\" in BES_Panel.columns:\n",
    "    BES_Panel = BES_Panel.set_index(\"id\").sort_index()\n",
    "\n",
    "(var_type, cat_dictionary, new_old_col_names, old_new_col_names) = get_small_files(data_subfolder, encoding)    \n",
    "    \n",
    "# get full set of inferred \"cross wave\" auth-lib/left-right values and ages\n",
    "pan_dataset_allr_values = pd.read_pickle(BES_small_data_files + \"pan_dataset_allr_valuesW19\"+\".zip\",compression='zip')\n",
    "pan_dataset_ages = pd.read_pickle(BES_small_data_files + \"pan_dataset_ages\"+\".zip\", compression='zip')\n",
    "pan_dataset_votes = pd.read_pickle(BES_small_data_files+\"pan_dataset_votes\"+\".zip\",compression='zip')"
   ]
  },
  {
   "cell_type": "code",
   "execution_count": 2,
   "metadata": {},
   "outputs": [],
   "source": [
    "BES_Panel = pd.read_pickle(\"..\\\\BES_analysis_data\\\\\"+\"W19_comb\"+os.sep+\"BES_Panelv02\",compression='zip')\n",
    "BES_Panel = BES_Panel.set_index(\"id\")\n",
    "BES_Panel = BES_Panel.sort_index()"
   ]
  },
  {
   "cell_type": "code",
   "execution_count": 26,
   "metadata": {},
   "outputs": [
    {
     "data": {
      "text/plain": [
       "p_eurefvote       70220\n",
       "p_eurefturnout    80131\n",
       "dtype: int64"
      ]
     },
     "execution_count": 26,
     "metadata": {},
     "output_type": "execute_result"
    }
   ],
   "source": [
    "search(BES_Panel,\"p_euref\")\n"
   ]
  },
  {
   "cell_type": "code",
   "execution_count": 27,
   "metadata": {},
   "outputs": [
    {
     "data": {
      "text/plain": [
       "2016EUVote             79960\n",
       "2016EUVote_complete    97006\n",
       "2016EUVote_simple      96529\n",
       "dtype: int64"
      ]
     },
     "execution_count": 27,
     "metadata": {},
     "output_type": "execute_result"
    }
   ],
   "source": [
    "search(pan_dataset_votes,\"EU\")\n"
   ]
  },
  {
   "cell_type": "code",
   "execution_count": 8,
   "metadata": {},
   "outputs": [
    {
     "data": {
      "text/plain": [
       "Humanities, social sciences, psychology or education    11623\n",
       "Other                                                    7145\n",
       "Engineering, Mathematics or Natural sciences             7110\n",
       "Economics or business                                    4017\n",
       "I never attended higher education (university etc)       2097\n",
       "Law                                                      1210\n",
       "Medicine                                                 1207\n",
       "Don't know                                                439\n",
       "dtype: int64"
      ]
     },
     "execution_count": 8,
     "metadata": {},
     "output_type": "execute_result"
    }
   ],
   "source": [
    "BES_Panel[search(BES_Panel,\"subjectHE\").index].stack().value_counts()"
   ]
  },
  {
   "cell_type": "code",
   "execution_count": 71,
   "metadata": {},
   "outputs": [],
   "source": [
    "subject_cols = ['subjectHEW1_W3', 'subjectHECurrentW1_W3',\n",
    "                'subjectHEW15', 'subjectHECurrentW15',\n",
    "                'subjectHEW16', 'subjectHECurrentW16',]\n",
    "\n",
    "subjects = BES_Panel[subject_cols].fillna(axis=1,method='ffill')[subject_cols[-1]]"
   ]
  },
  {
   "cell_type": "code",
   "execution_count": 18,
   "metadata": {},
   "outputs": [
    {
     "data": {
      "text/plain": [
       "Humanities, social sciences, psychology or education    11373\n",
       "Other                                                    7022\n",
       "Engineering, Mathematics or Natural sciences             6982\n",
       "Economics or business                                    3926\n",
       "I never attended higher education (university etc)       2081\n",
       "Law                                                      1197\n",
       "Medicine                                                 1194\n",
       "Don't know                                                433\n",
       "Name: subjectHECurrentW16, dtype: int64"
      ]
     },
     "execution_count": 18,
     "metadata": {},
     "output_type": "execute_result"
    }
   ],
   "source": [
    "subjects.value_counts()"
   ]
  },
  {
   "cell_type": "code",
   "execution_count": 23,
   "metadata": {},
   "outputs": [
    {
     "data": {
      "text/plain": [
       "Don't know                                          0\n",
       "Yes, I graduated from higher education              0\n",
       "Yes, but I didn't complete higher education         0\n",
       "Yes, I am currently enrolled in higher education    0\n",
       "No, I have never attended higher education          0\n",
       "Name: anyUniW19, dtype: int64"
      ]
     },
     "execution_count": 23,
     "metadata": {},
     "output_type": "execute_result"
    }
   ],
   "source": [
    "BES_Panel[\"anyUniW19\"][subjects.isnull()].value_counts()"
   ]
  },
  {
   "cell_type": "code",
   "execution_count": 72,
   "metadata": {},
   "outputs": [],
   "source": [
    "subjects[subjects.isnull()] = BES_Panel[\"anyUniW19\"][subjects.isnull()]"
   ]
  },
  {
   "cell_type": "code",
   "execution_count": 49,
   "metadata": {},
   "outputs": [],
   "source": [
    "\n",
    "\n",
    "\n",
    "#.value_counts()"
   ]
  },
  {
   "cell_type": "code",
   "execution_count": 73,
   "metadata": {},
   "outputs": [],
   "source": [
    "wts = BES_Panel[\"wt_new_W19_result\"]\n",
    "eurefvote = pan_dataset_votes[\"2016EUVote_simple\"].replace(\"DK\",np.nan).replace(\"TYTV\",np.nan).replace(\"UNK\",np.nan)\n",
    "subjects = subjects.replace(\"Yes, I am currently enrolled in higher education\",np.nan).replace(\"Yes, I graduated from higher education\",np.nan)\n",
    "subjects = subjects.replace(\"Yes, but I didn't complete higher education\",\"Attended uni, but didn't complete course\")\n",
    "subjects = subjects.replace(\"I never attended higher education (university etc)\",\"No, I have never attended higher education\")\n",
    "subjects = subjects.replace(\"No, I have never attended higher education\",\"I have never attended higher education\")\n",
    "\n",
    "\n",
    "mask = wts.notnull()&eurefvote.notnull()&subjects.notnull()"
   ]
  },
  {
   "cell_type": "code",
   "execution_count": 74,
   "metadata": {},
   "outputs": [],
   "source": [
    "subjects = subjects.astype('category').cat.rename_categories([\"Attended higher\\neducation, but\\ndidn't finish\", \"Don't know\",\n",
    "       'Economics or\\nbusiness', 'Engineering,\\nMathematics or\\nNatural sciences',\n",
    "       'Humanities,\\nsocial sciences,\\npsychology\\nor education',\n",
    "       'Never attended\\nhigher education', 'Law', 'Medicine', 'Other'])"
   ]
  },
  {
   "cell_type": "code",
   "execution_count": 75,
   "metadata": {},
   "outputs": [],
   "source": [
    "subjects = subjects.cat.reorder_categories(['Never attended\\nhigher education',\n",
    "        \"Attended higher\\neducation, but\\ndidn't finish\",\n",
    "        \"Don't know\",\n",
    "       'Economics or\\nbusiness',\n",
    "       'Engineering,\\nMathematics or\\nNatural sciences',\n",
    "       'Humanities,\\nsocial sciences,\\npsychology\\nor education',\n",
    "        'Law', 'Medicine', 'Other'])"
   ]
  },
  {
   "cell_type": "code",
   "execution_count": 76,
   "metadata": {},
   "outputs": [
    {
     "data": {
      "image/png": "[encoded data removed]",
      "text/plain": [
       "<Figure size 1008x576 with 1 Axes>"
      ]
     },
     "metadata": {},
     "output_type": "display_data"
    }
   ],
   "source": [
    "ct = pd.crosstab(index=subjects[mask],\n",
    "            columns=eurefvote[mask],\n",
    "            values=wts,aggfunc=sum,normalize='index')*100\n",
    "\n",
    "df = ct.round(2).stack().reset_index()\n",
    "df.columns = [\"University Subject\",\"EUREF vote\",\"Percentage\"]\n",
    "plt.figure(figsize=(14,8));\n",
    "sns.barplot(data=df,x=\"University Subject\",y=\"Percentage\",hue=\"EUREF vote\");\n"
   ]
  },
  {
   "cell_type": "code",
   "execution_count": null,
   "metadata": {},
   "outputs": [],
   "source": []
  }
 ],
 "metadata": {
  "kernelspec": {
   "display_name": "Python [conda env:BES_analysis] *",
   "language": "python",
   "name": "conda-env-BES_analysis-py"
  },
  "language_info": {
   "codemirror_mode": {
    "name": "ipython",
    "version": 3
   },
   "file_extension": ".py",
   "mimetype": "text/x-python",
   "name": "python",
   "nbconvert_exporter": "python",
   "pygments_lexer": "ipython3",
   "version": "3.7.6"
  }
 },
 "nbformat": 4,
 "nbformat_minor": 4
}
