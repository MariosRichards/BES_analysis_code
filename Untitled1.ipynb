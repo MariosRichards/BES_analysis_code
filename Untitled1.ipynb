{
 "cells": [
  {
   "cell_type": "code",
   "execution_count": 3,
   "metadata": {},
   "outputs": [
    {
     "data": {
      "text/html": [
       "<script>jQuery(function() {if (jQuery(\"body.notebook_app\").length == 0) { jQuery(\".input_area\").toggle(); jQuery(\".prompt\").toggle();}});</script>"
      ]
     },
     "metadata": {},
     "output_type": "display_data"
    },
    {
     "data": {
      "text/html": [
       "<button onclick=\"jQuery('.input_area').toggle(); jQuery('.prompt').toggle();\">Toggle code</button>"
      ]
     },
     "metadata": {},
     "output_type": "display_data"
    }
   ],
   "source": [
    "import warnings\n",
    "warnings.filterwarnings('ignore')\n",
    "\n",
    "from IPython.display import display\n",
    "from IPython.display import HTML\n",
    "import IPython.core.display as di # Example: di.display_html('<h3>%s:</h3>' % str, raw=True)\n",
    "\n",
    "# This line will hide code by default when the notebook is exported as HTML\n",
    "di.display_html('<script>jQuery(function() {if (jQuery(\"body.notebook_app\").length == 0) { jQuery(\".input_area\").toggle(); jQuery(\".prompt\").toggle();}});</script>', raw=True)\n",
    "\n",
    "# This line will add a button to toggle visibility of code blocks, for use with the HTML export version\n",
    "di.display_html('''<button onclick=\"jQuery('.input_area').toggle(); jQuery('.prompt').toggle();\">Toggle code</button>''', raw=True)"
   ]
  },
  {
   "cell_type": "code",
   "execution_count": 4,
   "metadata": {},
   "outputs": [],
   "source": [
    "%matplotlib inline\n",
    "\n",
    "import numpy as np, pandas as pd, matplotlib.pyplot as plt, seaborn as sns\n",
    "import pickle, os, gc, re\n",
    "\n",
    "sns.set();\n",
    "sns.set_palette(\"colorblind\")\n",
    "\n",
    "from IPython.display import display, display_html, HTML\n",
    "from IPython.core.debugger import set_trace\n",
    "# plt.rcParams[\"axes.grid\"] = False\n",
    "\n",
    "import Jupyter_module_loader\n",
    "from utility import *\n",
    "import gaussian_kde\n",
    "\n",
    "import warnings\n",
    "warnings.filterwarnings('ignore')\n",
    "\n",
    "import holoviews as hv\n",
    "from holoviews import opts\n",
    "\n",
    "encoding = \"ISO-8859-1\""
   ]
  },
  {
   "cell_type": "code",
   "execution_count": 6,
   "metadata": {},
   "outputs": [],
   "source": [
    "(BES_code_folder, BES_small_data_files, BES_data_folder,\n",
    " BES_output_folder, BES_file_manifest, BES_R_data_files) = setup_directories()"
   ]
  },
  {
   "cell_type": "code",
   "execution_count": 11,
   "metadata": {},
   "outputs": [
    {
     "data": {
      "text/plain": [
       "Wave No\n",
       "19     BES2019_W19_v0.1.dta\n",
       "18     BES2019_W18_v0.1.dta\n",
       "17     BES2019_W17_v0.1.dta\n",
       "16     BES2019_W16_v0.2.dta\n",
       "15     BES2019_W15_v0.2.dta\n",
       "14     BES2017_W14_v0.3.dta\n",
       "13     BES2017_W13_v1.5.dta\n",
       "12     BES2015_W12_v1.2.dta\n",
       "11     BES2015_W11_v1.5.dta\n",
       "10     BES2015_W10_v0.8.dta\n",
       "9       BES2015_W9_v1.7.dta\n",
       "8       BES2015_W8_v2.3.dta\n",
       "7     BES2015_W7_v2.2-1.dta\n",
       "6       BES2015_W6_v3.6.dta\n",
       "5       BES2015_W5_v1.0.dta\n",
       "4       BES2015_W4_v3.7.dta\n",
       "3       BES2015_W3_v4.7.dta\n",
       "2       BES2015_W2_v6.7.dta\n",
       "1       BES2015_W1_v7.7.dta\n",
       "Name: Stata_Filename, dtype: object"
      ]
     },
     "execution_count": 11,
     "metadata": {},
     "output_type": "execute_result"
    }
   ],
   "source": [
    "BES_file_manifest[ BES_file_manifest[\"Only_or_Combined\"]==\"Only\" ].set_index(\"Wave No\")[\"Stata_Filename\"]"
   ]
  },
  {
   "cell_type": "code",
   "execution_count": null,
   "metadata": {},
   "outputs": [],
   "source": [
    "for df in df_list:\n",
    "    if df==\"BES_Panel\":\n",
    "#         globals()[df]  = pd.read_msgpack(data_subfolder + dataset_filename.replace('.dta','.msgpack'))\n",
    "        globals()[df]  = pd.read_pickle(data_subfolder + dataset_filename.replace('.dta','.zip'),compression='zip')\n",
    "    else:\n",
    "        globals()[df]  = pd.read_pickle(data_subfolder + df + '.zip' )\n",
    "        globals()[df].replace(-1,np.nan,inplace=True)\n",
    "        \n",
    "        "
   ]
  },
  {
   "cell_type": "code",
   "execution_count": 32,
   "metadata": {},
   "outputs": [
    {
     "data": {
      "text/plain": [
       "BES_Title                 2015 British Election Study Combined Wave 1, 2...\n",
       "BES_Url                   http://www.britishelectionstudy.com/data-objec...\n",
       "Wave No                                                                   3\n",
       "Only_or_Combined                                                   Combined\n",
       "Base_or_Strings                                                        Base\n",
       "Mode                                                          Online Survey\n",
       "Version                                                                 1.2\n",
       "Stata_Filename                                    BES2015_W3_Panel_v1.2.dta\n",
       "Stata_Url                 http://www.britishelectionstudy.com/custom/upl...\n",
       "SPSS_Url                  http://www.britishelectionstudy.com/custom/upl...\n",
       "Ques_Url                  http://www.britishelectionstudy.com/custom/upl...\n",
       "N                                                                     21489\n",
       "Date_Start                                                           Feb-14\n",
       "Date_Stop                                                            Oct-14\n",
       "Description               The combined data set for the 2015 British Ele...\n",
       "Citation                  Fieldhouse, E., J. Green., G. Evans., H. Schmi...\n",
       "Friendlier_Description                                         2014: Autumn\n",
       "Name: W3_comb, dtype: object"
      ]
     },
     "execution_count": 32,
     "metadata": {},
     "output_type": "execute_result"
    }
   ],
   "source": [
    "BES_file_manifest.set_index(\"Name\").loc[\"W3_comb\"]"
   ]
  },
  {
   "cell_type": "code",
   "execution_count": 42,
   "metadata": {},
   "outputs": [],
   "source": [
    "dataset_name = \"W19_comb\"\n",
    "dataset_filename = BES_file_manifest.set_index(\"Name\").loc[dataset_name][\"Stata_Filename\"]\n",
    "data_subfolder = BES_data_folder + dataset_name + os.sep\n",
    "BES_Panel = pd.read_pickle(data_subfolder + dataset_filename.replace('.dta','.zip'),compression='zip')"
   ]
  },
  {
   "cell_type": "code",
   "execution_count": 44,
   "metadata": {},
   "outputs": [
    {
     "data": {
      "text/plain": [
       "al1W6                 30258\n",
       "al2W6                 30258\n",
       "al3W6                 30258\n",
       "al4W6                 30258\n",
       "al5W6                 30258\n",
       "al1W13                31136\n",
       "al2W13                31136\n",
       "al3W13                31136\n",
       "al4W13                31136\n",
       "al5W13                31136\n",
       "al1W16                37959\n",
       "al2W16                37959\n",
       "al3W16                37959\n",
       "al4W16                37959\n",
       "al5W16                37959\n",
       "al1W17                34366\n",
       "al2W17                34366\n",
       "al3W17                34366\n",
       "al4W17                34366\n",
       "al5W17                34366\n",
       "al1W1W2W3W4W5         41874\n",
       "al2W1W2W3W4W5         41874\n",
       "al3W1W2W3W4W5         41874\n",
       "al4W1W2W3W4W5         41874\n",
       "al5W1W2W3W4W5         41874\n",
       "al1W14W15             36172\n",
       "al2W14W15             36172\n",
       "al3W14W15             36172\n",
       "al4W14W15             36172\n",
       "al5W14W15             36172\n",
       "al1W7W8W9             39857\n",
       "al2W7W8W9             39857\n",
       "al3W7W8W9             39857\n",
       "al4W7W8W9             39857\n",
       "al5W7W8W9             39857\n",
       "al1W10W11W12          34991\n",
       "al2W10W11W12          34991\n",
       "al3W10W11W12          34991\n",
       "al4W10W11W12          34991\n",
       "al5W10W11W12          34991\n",
       "al_scaleW1W2W3W4W5    37890\n",
       "al_scaleW6            27288\n",
       "al_scaleW7W8W9        35873\n",
       "al_scaleW10W11W12     30088\n",
       "al_scaleW13           27253\n",
       "al_scaleW14W15        31629\n",
       "al_scaleW16           32671\n",
       "al_scaleW17           29773\n",
       "dtype: int64"
      ]
     },
     "execution_count": 44,
     "metadata": {},
     "output_type": "execute_result"
    }
   ],
   "source": [
    "match(BES_Panel,\"al\\d+|al_scale\")"
   ]
  },
  {
   "cell_type": "code",
   "execution_count": 46,
   "metadata": {},
   "outputs": [],
   "source": [
    "wave_list = [\"W1W2W3W4W5\",\"W6\",\"W7W8W9\",\"W10W11W12\",\"W13\",\"W14W15\",\"W16\",\"W17\"]\n",
    "\n",
    "# al1,al2,al3,al4,al5,al_scale"
   ]
  },
  {
   "cell_type": "code",
   "execution_count": 62,
   "metadata": {},
   "outputs": [
    {
     "data": {
      "text/plain": [
       "al1W1W2W3W4W5         NaN\n",
       "al1W6           -0.093565\n",
       "al1W7W8W9        0.002401\n",
       "al1W10W11W12     0.000839\n",
       "al1W13          -0.085016\n",
       "al1W14W15        0.085513\n",
       "al1W16          -0.032174\n",
       "al1W17           0.017846\n",
       "dtype: float64"
      ]
     },
     "metadata": {},
     "output_type": "display_data"
    },
    {
     "data": {
      "text/plain": [
       "-0.1041564871136835"
      ]
     },
     "metadata": {},
     "output_type": "display_data"
    }
   ],
   "source": [
    "var = \"al1\"\n",
    "display(BES_Panel[[var + x for x in wave_list]].replace(\"Don't know\",np.nan).apply(lambda x: x.cat.codes).replace(-1,np.nan).diff(axis=1).mean())\n",
    "display(BES_Panel[[var + x for x in wave_list]].replace(\"Don't know\",np.nan).apply(lambda x: x.cat.codes).replace(-1,np.nan).diff(axis=1).mean().sum())"
   ]
  },
  {
   "cell_type": "code",
   "execution_count": 61,
   "metadata": {},
   "outputs": [
    {
     "data": {
      "text/plain": [
       "al2W1W2W3W4W5         NaN\n",
       "al2W6           -0.141647\n",
       "al2W7W8W9        0.005357\n",
       "al2W10W11W12    -0.011976\n",
       "al2W13           0.034821\n",
       "al2W14W15       -0.034010\n",
       "al2W16          -0.058672\n",
       "al2W17           0.009794\n",
       "dtype: float64"
      ]
     },
     "metadata": {},
     "output_type": "display_data"
    },
    {
     "data": {
      "text/plain": [
       "-0.19633341616847128"
      ]
     },
     "metadata": {},
     "output_type": "display_data"
    }
   ],
   "source": [
    "var = \"al2\"\n",
    "display(BES_Panel[[var + x for x in wave_list]].replace(\"Don't know\",np.nan).apply(lambda x: x.cat.codes).replace(-1,np.nan).diff(axis=1).mean())\n",
    "display(BES_Panel[[var + x for x in wave_list]].replace(\"Don't know\",np.nan).apply(lambda x: x.cat.codes).replace(-1,np.nan).diff(axis=1).mean().sum())"
   ]
  },
  {
   "cell_type": "code",
   "execution_count": 63,
   "metadata": {},
   "outputs": [
    {
     "data": {
      "text/plain": [
       "al3W1W2W3W4W5         NaN\n",
       "al3W6           -0.093807\n",
       "al3W7W8W9       -0.052302\n",
       "al3W10W11W12     0.013224\n",
       "al3W13          -0.018657\n",
       "al3W14W15        0.023698\n",
       "al3W16          -0.055365\n",
       "al3W17           0.019716\n",
       "dtype: float64"
      ]
     },
     "metadata": {},
     "output_type": "display_data"
    },
    {
     "data": {
      "text/plain": [
       "-0.16349250974423873"
      ]
     },
     "metadata": {},
     "output_type": "display_data"
    }
   ],
   "source": [
    "var = \"al3\"\n",
    "display(BES_Panel[[var + x for x in wave_list]].replace(\"Don't know\",np.nan).apply(lambda x: x.cat.codes).replace(-1,np.nan).diff(axis=1).mean())\n",
    "display(BES_Panel[[var + x for x in wave_list]].replace(\"Don't know\",np.nan).apply(lambda x: x.cat.codes).replace(-1,np.nan).diff(axis=1).mean().sum())"
   ]
  },
  {
   "cell_type": "code",
   "execution_count": 64,
   "metadata": {},
   "outputs": [
    {
     "data": {
      "text/plain": [
       "al4W1W2W3W4W5         NaN\n",
       "al4W6           -0.079805\n",
       "al4W7W8W9       -0.020380\n",
       "al4W10W11W12     0.014928\n",
       "al4W13          -0.007260\n",
       "al4W14W15       -0.006826\n",
       "al4W16           0.020551\n",
       "al4W17           0.052410\n",
       "dtype: float64"
      ]
     },
     "metadata": {},
     "output_type": "display_data"
    },
    {
     "data": {
      "text/plain": [
       "-0.026382664186365375"
      ]
     },
     "metadata": {},
     "output_type": "display_data"
    }
   ],
   "source": [
    "var = \"al4\"\n",
    "display(BES_Panel[[var + x for x in wave_list]].replace(\"Don't know\",np.nan).apply(lambda x: x.cat.codes).replace(-1,np.nan).diff(axis=1).mean())\n",
    "display(BES_Panel[[var + x for x in wave_list]].replace(\"Don't know\",np.nan).apply(lambda x: x.cat.codes).replace(-1,np.nan).diff(axis=1).mean().sum())"
   ]
  },
  {
   "cell_type": "code",
   "execution_count": 65,
   "metadata": {},
   "outputs": [
    {
     "data": {
      "text/plain": [
       "al5W1W2W3W4W5         NaN\n",
       "al5W6           -0.094276\n",
       "al5W7W8W9       -0.052588\n",
       "al5W10W11W12    -0.009142\n",
       "al5W13          -0.002365\n",
       "al5W14W15        0.033981\n",
       "al5W16          -0.042267\n",
       "al5W17           0.014226\n",
       "dtype: float64"
      ]
     },
     "metadata": {},
     "output_type": "display_data"
    },
    {
     "data": {
      "text/plain": [
       "-0.15243280028541364"
      ]
     },
     "metadata": {},
     "output_type": "display_data"
    }
   ],
   "source": [
    "var = \"al5\"\n",
    "display(BES_Panel[[var + x for x in wave_list]].replace(\"Don't know\",np.nan).apply(lambda x: x.cat.codes).replace(-1,np.nan).diff(axis=1).mean())\n",
    "display(BES_Panel[[var + x for x in wave_list]].replace(\"Don't know\",np.nan).apply(lambda x: x.cat.codes).replace(-1,np.nan).diff(axis=1).mean().sum())"
   ]
  },
  {
   "cell_type": "code",
   "execution_count": 66,
   "metadata": {},
   "outputs": [
    {
     "data": {
      "text/plain": [
       "al_scaleW1W2W3W4W5         NaN\n",
       "al_scaleW6           -0.505268\n",
       "al_scaleW7W8W9       -0.119917\n",
       "al_scaleW10W11W12     0.000384\n",
       "al_scaleW13          -0.067352\n",
       "al_scaleW14W15        0.101930\n",
       "al_scaleW16          -0.167244\n",
       "al_scaleW17           0.108037\n",
       "dtype: float64"
      ]
     },
     "metadata": {},
     "output_type": "display_data"
    },
    {
     "data": {
      "text/plain": [
       "-0.6494295067428879"
      ]
     },
     "metadata": {},
     "output_type": "display_data"
    }
   ],
   "source": [
    "var = \"al_scale\"\n",
    "display(BES_Panel[[var + x for x in wave_list]].replace(\"Don't know\",np.nan).apply(lambda x: x.cat.codes).replace(-1,np.nan).diff(axis=1).mean())\n",
    "display(BES_Panel[[var + x for x in wave_list]].replace(\"Don't know\",np.nan).apply(lambda x: x.cat.codes).replace(-1,np.nan).diff(axis=1).mean().sum())"
   ]
  },
  {
   "cell_type": "code",
   "execution_count": null,
   "metadata": {},
   "outputs": [],
   "source": [
    "# W1... -> W6 looks weird!"
   ]
  },
  {
   "cell_type": "code",
   "execution_count": 75,
   "metadata": {},
   "outputs": [
    {
     "data": {
      "text/plain": [
       "0            Don't know\n",
       "1        Strongly agree\n",
       "2            Don't know\n",
       "3                 Agree\n",
       "4                   NaN\n",
       "              ...      \n",
       "97153               NaN\n",
       "97154               NaN\n",
       "97155               NaN\n",
       "97156               NaN\n",
       "97157          Disagree\n",
       "Name: lr1W13, Length: 97158, dtype: category\n",
       "Categories (6, object): [Strongly disagree < Disagree < Neither agree nor disagree < Agree < Strongly agree < Don't know]"
      ]
     },
     "execution_count": 75,
     "metadata": {},
     "output_type": "execute_result"
    }
   ],
   "source": [
    "BES_Panel[\"lr1W13\"]"
   ]
  },
  {
   "cell_type": "code",
   "execution_count": 67,
   "metadata": {},
   "outputs": [
    {
     "data": {
      "text/plain": [
       "lr1W1W2W3W4W5         NaN\n",
       "lr1W6           -0.094984\n",
       "lr1W7W8W9        0.097052\n",
       "lr1W10W11W12    -0.089638\n",
       "lr1W13          -0.019428\n",
       "lr1W14W15       -0.067639\n",
       "lr1W16          -0.004393\n",
       "lr1W17          -0.016765\n",
       "dtype: float64"
      ]
     },
     "metadata": {},
     "output_type": "display_data"
    },
    {
     "data": {
      "text/plain": [
       "-0.19579554248539788"
      ]
     },
     "metadata": {},
     "output_type": "display_data"
    }
   ],
   "source": [
    "var = \"lr1\"\n",
    "display(BES_Panel[[var + x for x in wave_list]].replace(\"Don't know\",np.nan).apply(lambda x: x.cat.codes).replace(-1,np.nan).diff(axis=1).mean())\n",
    "display(BES_Panel[[var + x for x in wave_list]].replace(\"Don't know\",np.nan).apply(lambda x: x.cat.codes).replace(-1,np.nan).diff(axis=1).mean().sum())"
   ]
  },
  {
   "cell_type": "code",
   "execution_count": 68,
   "metadata": {},
   "outputs": [
    {
     "data": {
      "text/plain": [
       "lr2W1W2W3W4W5         NaN\n",
       "lr2W6           -0.047743\n",
       "lr2W7W8W9       -0.001234\n",
       "lr2W10W11W12     0.029722\n",
       "lr2W13          -0.098907\n",
       "lr2W14W15        0.051227\n",
       "lr2W16          -0.007689\n",
       "lr2W17          -0.023801\n",
       "dtype: float64"
      ]
     },
     "metadata": {},
     "output_type": "display_data"
    },
    {
     "data": {
      "text/plain": [
       "-0.09842482452817997"
      ]
     },
     "metadata": {},
     "output_type": "display_data"
    }
   ],
   "source": [
    "var = \"lr2\"\n",
    "display(BES_Panel[[var + x for x in wave_list]].replace(\"Don't know\",np.nan).apply(lambda x: x.cat.codes).replace(-1,np.nan).diff(axis=1).mean())\n",
    "display(BES_Panel[[var + x for x in wave_list]].replace(\"Don't know\",np.nan).apply(lambda x: x.cat.codes).replace(-1,np.nan).diff(axis=1).mean().sum())"
   ]
  },
  {
   "cell_type": "code",
   "execution_count": 69,
   "metadata": {},
   "outputs": [
    {
     "data": {
      "text/plain": [
       "lr3W1W2W3W4W5         NaN\n",
       "lr3W6           -0.065878\n",
       "lr3W7W8W9        0.064453\n",
       "lr3W10W11W12    -0.020173\n",
       "lr3W13          -0.085926\n",
       "lr3W14W15        0.044418\n",
       "lr3W16           0.000109\n",
       "lr3W17          -0.039154\n",
       "dtype: float64"
      ]
     },
     "metadata": {},
     "output_type": "display_data"
    },
    {
     "data": {
      "text/plain": [
       "-0.10215179811735328"
      ]
     },
     "metadata": {},
     "output_type": "display_data"
    }
   ],
   "source": [
    "var = \"lr3\"\n",
    "display(BES_Panel[[var + x for x in wave_list]].replace(\"Don't know\",np.nan).apply(lambda x: x.cat.codes).replace(-1,np.nan).diff(axis=1).mean())\n",
    "display(BES_Panel[[var + x for x in wave_list]].replace(\"Don't know\",np.nan).apply(lambda x: x.cat.codes).replace(-1,np.nan).diff(axis=1).mean().sum())"
   ]
  },
  {
   "cell_type": "code",
   "execution_count": 70,
   "metadata": {},
   "outputs": [
    {
     "data": {
      "text/plain": [
       "lr4W1W2W3W4W5         NaN\n",
       "lr4W6           -0.018692\n",
       "lr4W7W8W9        0.096287\n",
       "lr4W10W11W12     0.021296\n",
       "lr4W13          -0.137445\n",
       "lr4W14W15        0.084092\n",
       "lr4W16           0.015601\n",
       "lr4W17           0.004277\n",
       "dtype: float64"
      ]
     },
     "metadata": {},
     "output_type": "display_data"
    },
    {
     "data": {
      "text/plain": [
       "0.0654160523213624"
      ]
     },
     "metadata": {},
     "output_type": "display_data"
    }
   ],
   "source": [
    "var = \"lr4\"\n",
    "display(BES_Panel[[var + x for x in wave_list]].replace(\"Don't know\",np.nan).apply(lambda x: x.cat.codes).replace(-1,np.nan).diff(axis=1).mean())\n",
    "display(BES_Panel[[var + x for x in wave_list]].replace(\"Don't know\",np.nan).apply(lambda x: x.cat.codes).replace(-1,np.nan).diff(axis=1).mean().sum())"
   ]
  },
  {
   "cell_type": "code",
   "execution_count": 71,
   "metadata": {},
   "outputs": [
    {
     "data": {
      "text/plain": [
       "lr5W1W2W3W4W5         NaN\n",
       "lr5W6           -0.014625\n",
       "lr5W7W8W9        0.027575\n",
       "lr5W10W11W12     0.016433\n",
       "lr5W13          -0.060249\n",
       "lr5W14W15        0.040086\n",
       "lr5W16          -0.008632\n",
       "lr5W17          -0.006166\n",
       "dtype: float64"
      ]
     },
     "metadata": {},
     "output_type": "display_data"
    },
    {
     "data": {
      "text/plain": [
       "-0.005577291366750732"
      ]
     },
     "metadata": {},
     "output_type": "display_data"
    }
   ],
   "source": [
    "var = \"lr5\"\n",
    "display(BES_Panel[[var + x for x in wave_list]].replace(\"Don't know\",np.nan).apply(lambda x: x.cat.codes).replace(-1,np.nan).diff(axis=1).mean())\n",
    "display(BES_Panel[[var + x for x in wave_list]].replace(\"Don't know\",np.nan).apply(lambda x: x.cat.codes).replace(-1,np.nan).diff(axis=1).mean().sum())"
   ]
  },
  {
   "cell_type": "code",
   "execution_count": 72,
   "metadata": {},
   "outputs": [
    {
     "data": {
      "text/plain": [
       "lr_scaleW1W2W3W4W5         NaN\n",
       "lr_scaleW6            0.262403\n",
       "lr_scaleW7W8W9       -0.290589\n",
       "lr_scaleW10W11W12     0.036068\n",
       "lr_scaleW13           0.401401\n",
       "lr_scaleW14W15       -0.149069\n",
       "lr_scaleW16          -0.006153\n",
       "lr_scaleW17           0.095275\n",
       "dtype: float64"
      ]
     },
     "metadata": {},
     "output_type": "display_data"
    },
    {
     "data": {
      "text/plain": [
       "0.34933527409138715"
      ]
     },
     "metadata": {},
     "output_type": "display_data"
    }
   ],
   "source": [
    "var = \"lr_scale\"\n",
    "display(BES_Panel[[var + x for x in wave_list]].replace(\"Don't know\",np.nan).apply(lambda x: x.cat.codes).replace(-1,np.nan).diff(axis=1).mean())\n",
    "display(BES_Panel[[var + x for x in wave_list]].replace(\"Don't know\",np.nan).apply(lambda x: x.cat.codes).replace(-1,np.nan).diff(axis=1).mean().sum())"
   ]
  },
  {
   "cell_type": "code",
   "execution_count": 78,
   "metadata": {},
   "outputs": [
    {
     "data": {
      "text/plain": [
       "lr1W1W2W3W4W5         NaN\n",
       "lr1W6           -0.087670\n",
       "lr1W7W8W9        0.061423\n",
       "lr1W10W11W12    -0.087290\n",
       "lr1W13          -0.029412\n",
       "lr1W14W15       -0.071629\n",
       "lr1W16           0.002823\n",
       "lr1W17          -0.020621\n",
       "dtype: float64"
      ]
     },
     "metadata": {},
     "output_type": "display_data"
    },
    {
     "data": {
      "text/plain": [
       "-0.23237694523346936"
      ]
     },
     "metadata": {},
     "output_type": "display_data"
    }
   ],
   "source": [
    "var = \"lr1\"\n",
    "mask = BES_Panel[[var + x for x in wave_list]].notnull().all(axis=1)\n",
    "display(BES_Panel[[var + x for x in wave_list]][mask].replace(\"Don't know\",np.nan).apply(lambda x: x.cat.codes).replace(-1,np.nan).diff(axis=1).mean())\n",
    "display(BES_Panel[[var + x for x in wave_list]][mask].replace(\"Don't know\",np.nan).apply(lambda x: x.cat.codes).replace(-1,np.nan).diff(axis=1).mean().sum())"
   ]
  },
  {
   "cell_type": "code",
   "execution_count": 79,
   "metadata": {},
   "outputs": [
    {
     "data": {
      "text/plain": [
       "lr2W1W2W3W4W5         NaN\n",
       "lr2W6           -0.035522\n",
       "lr2W7W8W9       -0.018786\n",
       "lr2W10W11W12     0.023783\n",
       "lr2W13          -0.108630\n",
       "lr2W14W15        0.047967\n",
       "lr2W16          -0.001088\n",
       "lr2W17          -0.025928\n",
       "dtype: float64"
      ]
     },
     "metadata": {},
     "output_type": "display_data"
    },
    {
     "data": {
      "text/plain": [
       "-0.11820235166697457"
      ]
     },
     "metadata": {},
     "output_type": "display_data"
    }
   ],
   "source": [
    "var = \"lr2\"\n",
    "mask = BES_Panel[[var + x for x in wave_list]].notnull().all(axis=1)\n",
    "display(BES_Panel[[var + x for x in wave_list]][mask].replace(\"Don't know\",np.nan).apply(lambda x: x.cat.codes).replace(-1,np.nan).diff(axis=1).mean())\n",
    "display(BES_Panel[[var + x for x in wave_list]][mask].replace(\"Don't know\",np.nan).apply(lambda x: x.cat.codes).replace(-1,np.nan).diff(axis=1).mean().sum())"
   ]
  },
  {
   "cell_type": "code",
   "execution_count": 80,
   "metadata": {},
   "outputs": [
    {
     "data": {
      "text/plain": [
       "lr3W1W2W3W4W5         NaN\n",
       "lr3W6           -0.089809\n",
       "lr3W7W8W9        0.056583\n",
       "lr3W10W11W12    -0.048632\n",
       "lr3W13          -0.074043\n",
       "lr3W14W15        0.026681\n",
       "lr3W16           0.012022\n",
       "lr3W17          -0.050796\n",
       "dtype: float64"
      ]
     },
     "metadata": {},
     "output_type": "display_data"
    },
    {
     "data": {
      "text/plain": [
       "-0.1679947757069923"
      ]
     },
     "metadata": {},
     "output_type": "display_data"
    }
   ],
   "source": [
    "var = \"lr3\"\n",
    "mask = BES_Panel[[var + x for x in wave_list]].notnull().all(axis=1)\n",
    "display(BES_Panel[[var + x for x in wave_list]][mask].replace(\"Don't know\",np.nan).apply(lambda x: x.cat.codes).replace(-1,np.nan).diff(axis=1).mean())\n",
    "display(BES_Panel[[var + x for x in wave_list]][mask].replace(\"Don't know\",np.nan).apply(lambda x: x.cat.codes).replace(-1,np.nan).diff(axis=1).mean().sum())"
   ]
  },
  {
   "cell_type": "code",
   "execution_count": 81,
   "metadata": {},
   "outputs": [
    {
     "data": {
      "text/plain": [
       "lr4W1W2W3W4W5         NaN\n",
       "lr4W6           -0.052771\n",
       "lr4W7W8W9        0.116907\n",
       "lr4W10W11W12     0.008693\n",
       "lr4W13          -0.169014\n",
       "lr4W14W15        0.078431\n",
       "lr4W16           0.027339\n",
       "lr4W17          -0.004290\n",
       "dtype: float64"
      ]
     },
     "metadata": {},
     "output_type": "display_data"
    },
    {
     "data": {
      "text/plain": [
       "0.005295837711943835"
      ]
     },
     "metadata": {},
     "output_type": "display_data"
    }
   ],
   "source": [
    "var = \"lr4\"\n",
    "mask = BES_Panel[[var + x for x in wave_list]].notnull().all(axis=1)\n",
    "display(BES_Panel[[var + x for x in wave_list]][mask].replace(\"Don't know\",np.nan).apply(lambda x: x.cat.codes).replace(-1,np.nan).diff(axis=1).mean())\n",
    "display(BES_Panel[[var + x for x in wave_list]][mask].replace(\"Don't know\",np.nan).apply(lambda x: x.cat.codes).replace(-1,np.nan).diff(axis=1).mean().sum())"
   ]
  },
  {
   "cell_type": "code",
   "execution_count": 82,
   "metadata": {},
   "outputs": [
    {
     "data": {
      "text/plain": [
       "lr5W1W2W3W4W5         NaN\n",
       "lr5W6           -0.013784\n",
       "lr5W7W8W9        0.007642\n",
       "lr5W10W11W12     0.011558\n",
       "lr5W13          -0.077536\n",
       "lr5W14W15        0.054135\n",
       "lr5W16          -0.033161\n",
       "lr5W17          -0.003812\n",
       "dtype: float64"
      ]
     },
     "metadata": {},
     "output_type": "display_data"
    },
    {
     "data": {
      "text/plain": [
       "-0.05495863511026174"
      ]
     },
     "metadata": {},
     "output_type": "display_data"
    }
   ],
   "source": [
    "var = \"lr5\"\n",
    "mask = BES_Panel[[var + x for x in wave_list]].notnull().all(axis=1)\n",
    "display(BES_Panel[[var + x for x in wave_list]][mask].replace(\"Don't know\",np.nan).apply(lambda x: x.cat.codes).replace(-1,np.nan).diff(axis=1).mean())\n",
    "display(BES_Panel[[var + x for x in wave_list]][mask].replace(\"Don't know\",np.nan).apply(lambda x: x.cat.codes).replace(-1,np.nan).diff(axis=1).mean().sum())"
   ]
  },
  {
   "cell_type": "code",
   "execution_count": 96,
   "metadata": {},
   "outputs": [
    {
     "data": {
      "text/plain": [
       "lr_scaleW1W2W3W4W5         NaN\n",
       "lr_scaleW6            0.293077\n",
       "lr_scaleW7W8W9       -0.215576\n",
       "lr_scaleW10W11W12     0.048157\n",
       "lr_scaleW13           0.501505\n",
       "lr_scaleW14W15       -0.112491\n",
       "lr_scaleW16          -0.007901\n",
       "lr_scaleW17           0.098947\n",
       "dtype: float32"
      ]
     },
     "metadata": {},
     "output_type": "display_data"
    },
    {
     "data": {
      "text/plain": [
       "0.6057186"
      ]
     },
     "metadata": {},
     "output_type": "display_data"
    }
   ],
   "source": [
    "var = \"lr_scale\"\n",
    "mask = BES_Panel[[var + x for x in wave_list]].notnull().all(axis=1)\n",
    "display(BES_Panel[[var + x for x in wave_list]][mask].replace(\"Don't know\",np.nan).apply(lambda x: x.cat.codes).replace(-1,np.nan).astype('float32').diff(axis=1).mean())\n",
    "display(BES_Panel[[var + x for x in wave_list]][mask].replace(\"Don't know\",np.nan).apply(lambda x: x.cat.codes).replace(-1,np.nan).astype('float32').diff(axis=1).mean().sum())"
   ]
  },
  {
   "cell_type": "code",
   "execution_count": 98,
   "metadata": {},
   "outputs": [
    {
     "data": {
      "text/plain": [
       "al_scaleW1W2W3W4W5         NaN\n",
       "al_scaleW6           -0.440374\n",
       "al_scaleW7W8W9       -0.047619\n",
       "al_scaleW10W11W12     0.041514\n",
       "al_scaleW13          -0.046398\n",
       "al_scaleW14W15        0.092389\n",
       "al_scaleW16          -0.144892\n",
       "al_scaleW17           0.072446\n",
       "dtype: float32"
      ]
     },
     "metadata": {},
     "output_type": "display_data"
    },
    {
     "data": {
      "text/plain": [
       "-0.47293445"
      ]
     },
     "metadata": {},
     "output_type": "display_data"
    }
   ],
   "source": [
    "var = \"al_scale\"\n",
    "mask = BES_Panel[[var + x for x in wave_list]].notnull().all(axis=1)\n",
    "display(BES_Panel[[var + x for x in wave_list]][mask].replace(\"Don't know\",np.nan).apply(lambda x: x.cat.codes).replace(-1,np.nan).astype('float32').diff(axis=1).mean())\n",
    "display(BES_Panel[[var + x for x in wave_list]][mask].replace(\"Don't know\",np.nan).apply(lambda x: x.cat.codes).replace(-1,np.nan).astype('float32').diff(axis=1).mean().sum())"
   ]
  },
  {
   "cell_type": "code",
   "execution_count": 99,
   "metadata": {},
   "outputs": [
    {
     "data": {
      "text/plain": [
       "al1W1W2W3W4W5         NaN\n",
       "al1W6           -0.083220\n",
       "al1W7W8W9        0.028681\n",
       "al1W10W11W12     0.021041\n",
       "al1W13          -0.086920\n",
       "al1W14W15        0.082804\n",
       "al1W16          -0.044044\n",
       "al1W17           0.034531\n",
       "dtype: float32"
      ]
     },
     "metadata": {},
     "output_type": "display_data"
    },
    {
     "data": {
      "text/plain": [
       "-0.0471279"
      ]
     },
     "metadata": {},
     "output_type": "display_data"
    }
   ],
   "source": [
    "var = \"al1\"\n",
    "mask = BES_Panel[[var + x for x in wave_list]].notnull().all(axis=1)\n",
    "display(BES_Panel[[var + x for x in wave_list]][mask].replace(\"Don't know\",np.nan).apply(lambda x: x.cat.codes).replace(-1,np.nan).astype('float32').diff(axis=1).mean())\n",
    "display(BES_Panel[[var + x for x in wave_list]][mask].replace(\"Don't know\",np.nan).apply(lambda x: x.cat.codes).replace(-1,np.nan).astype('float32').diff(axis=1).mean().sum())"
   ]
  },
  {
   "cell_type": "code",
   "execution_count": 100,
   "metadata": {},
   "outputs": [
    {
     "data": {
      "text/plain": [
       "al2W1W2W3W4W5         NaN\n",
       "al2W6           -0.143923\n",
       "al2W7W8W9        0.017304\n",
       "al2W10W11W12    -0.005076\n",
       "al2W13           0.032075\n",
       "al2W14W15       -0.044313\n",
       "al2W16          -0.060180\n",
       "al2W17          -0.012708\n",
       "dtype: float32"
      ]
     },
     "metadata": {},
     "output_type": "display_data"
    },
    {
     "data": {
      "text/plain": [
       "-0.21682093"
      ]
     },
     "metadata": {},
     "output_type": "display_data"
    }
   ],
   "source": [
    "var = \"al2\"\n",
    "mask = BES_Panel[[var + x for x in wave_list]].notnull().all(axis=1)\n",
    "display(BES_Panel[[var + x for x in wave_list]][mask].replace(\"Don't know\",np.nan).apply(lambda x: x.cat.codes).replace(-1,np.nan).astype('float32').diff(axis=1).mean())\n",
    "display(BES_Panel[[var + x for x in wave_list]][mask].replace(\"Don't know\",np.nan).apply(lambda x: x.cat.codes).replace(-1,np.nan).astype('float32').diff(axis=1).mean().sum())"
   ]
  },
  {
   "cell_type": "code",
   "execution_count": 101,
   "metadata": {},
   "outputs": [
    {
     "data": {
      "text/plain": [
       "al3W1W2W3W4W5         NaN\n",
       "al3W6           -0.080371\n",
       "al3W7W8W9       -0.043246\n",
       "al3W10W11W12     0.001612\n",
       "al3W13          -0.005630\n",
       "al3W14W15        0.017671\n",
       "al3W16          -0.064723\n",
       "al3W17           0.014765\n",
       "dtype: float32"
      ]
     },
     "metadata": {},
     "output_type": "display_data"
    },
    {
     "data": {
      "text/plain": [
       "-0.15992287"
      ]
     },
     "metadata": {},
     "output_type": "display_data"
    }
   ],
   "source": [
    "var = \"al3\"\n",
    "mask = BES_Panel[[var + x for x in wave_list]].notnull().all(axis=1)\n",
    "display(BES_Panel[[var + x for x in wave_list]][mask].replace(\"Don't know\",np.nan).apply(lambda x: x.cat.codes).replace(-1,np.nan).astype('float32').diff(axis=1).mean())\n",
    "display(BES_Panel[[var + x for x in wave_list]][mask].replace(\"Don't know\",np.nan).apply(lambda x: x.cat.codes).replace(-1,np.nan).astype('float32').diff(axis=1).mean().sum())"
   ]
  },
  {
   "cell_type": "code",
   "execution_count": 102,
   "metadata": {},
   "outputs": [
    {
     "data": {
      "text/plain": [
       "al4W1W2W3W4W5         NaN\n",
       "al4W6           -0.071641\n",
       "al4W7W8W9       -0.015263\n",
       "al4W10W11W12     0.045355\n",
       "al4W13          -0.007703\n",
       "al4W14W15       -0.008179\n",
       "al4W16           0.049413\n",
       "al4W17           0.028822\n",
       "dtype: float32"
      ]
     },
     "metadata": {},
     "output_type": "display_data"
    },
    {
     "data": {
      "text/plain": [
       "0.020804308"
      ]
     },
     "metadata": {},
     "output_type": "display_data"
    }
   ],
   "source": [
    "var = \"al4\"\n",
    "mask = BES_Panel[[var + x for x in wave_list]].notnull().all(axis=1)\n",
    "display(BES_Panel[[var + x for x in wave_list]][mask].replace(\"Don't know\",np.nan).apply(lambda x: x.cat.codes).replace(-1,np.nan).astype('float32').diff(axis=1).mean())\n",
    "display(BES_Panel[[var + x for x in wave_list]][mask].replace(\"Don't know\",np.nan).apply(lambda x: x.cat.codes).replace(-1,np.nan).astype('float32').diff(axis=1).mean().sum())"
   ]
  },
  {
   "cell_type": "code",
   "execution_count": 103,
   "metadata": {},
   "outputs": [
    {
     "data": {
      "text/plain": [
       "al5W1W2W3W4W5         NaN\n",
       "al5W6           -0.087856\n",
       "al5W7W8W9       -0.026323\n",
       "al5W10W11W12    -0.004385\n",
       "al5W13          -0.005224\n",
       "al5W14W15        0.039891\n",
       "al5W16          -0.049100\n",
       "al5W17           0.033060\n",
       "dtype: float32"
      ]
     },
     "metadata": {},
     "output_type": "display_data"
    },
    {
     "data": {
      "text/plain": [
       "-0.09993679"
      ]
     },
     "metadata": {},
     "output_type": "display_data"
    }
   ],
   "source": [
    "var = \"al5\"\n",
    "mask = BES_Panel[[var + x for x in wave_list]].notnull().all(axis=1)\n",
    "display(BES_Panel[[var + x for x in wave_list]][mask].replace(\"Don't know\",np.nan).apply(lambda x: x.cat.codes).replace(-1,np.nan).astype('float32').diff(axis=1).mean())\n",
    "display(BES_Panel[[var + x for x in wave_list]][mask].replace(\"Don't know\",np.nan).apply(lambda x: x.cat.codes).replace(-1,np.nan).astype('float32').diff(axis=1).mean().sum())"
   ]
  },
  {
   "cell_type": "code",
   "execution_count": null,
   "metadata": {},
   "outputs": [],
   "source": []
  },
  {
   "cell_type": "code",
   "execution_count": 27,
   "metadata": {},
   "outputs": [],
   "source": [
    "dataset_name = \"W3_comb\"\n",
    "data_subfolder = BES_data_folder + dataset_name + os.sep\n",
    "BES_Panel = pd.read_pickle(data_subfolder + \"BES2015_W3_Panel_v1.2.zip\",compression='zip')\n"
   ]
  },
  {
   "cell_type": "code",
   "execution_count": 28,
   "metadata": {},
   "outputs": [
    {
     "data": {
      "text/plain": [
       "al1    36473\n",
       "dtype: int64"
      ]
     },
     "execution_count": 28,
     "metadata": {},
     "output_type": "execute_result"
    }
   ],
   "source": [
    "search(BES_Panel,\"al1\")"
   ]
  },
  {
   "cell_type": "code",
   "execution_count": null,
   "metadata": {},
   "outputs": [],
   "source": []
  },
  {
   "cell_type": "code",
   "execution_count": null,
   "metadata": {},
   "outputs": [],
   "source": []
  },
  {
   "cell_type": "code",
   "execution_count": null,
   "metadata": {},
   "outputs": [],
   "source": []
  },
  {
   "cell_type": "code",
   "execution_count": null,
   "metadata": {},
   "outputs": [],
   "source": []
  },
  {
   "cell_type": "code",
   "execution_count": null,
   "metadata": {},
   "outputs": [],
   "source": []
  },
  {
   "cell_type": "code",
   "execution_count": null,
   "metadata": {},
   "outputs": [],
   "source": []
  },
  {
   "cell_type": "code",
   "execution_count": null,
   "metadata": {},
   "outputs": [],
   "source": []
  },
  {
   "cell_type": "code",
   "execution_count": null,
   "metadata": {},
   "outputs": [],
   "source": []
  },
  {
   "cell_type": "code",
   "execution_count": null,
   "metadata": {},
   "outputs": [],
   "source": []
  }
 ],
 "metadata": {
  "kernelspec": {
   "display_name": "Python [conda env:BES_analysis] *",
   "language": "python",
   "name": "conda-env-BES_analysis-py"
  },
  "language_info": {
   "codemirror_mode": {
    "name": "ipython",
    "version": 3
   },
   "file_extension": ".py",
   "mimetype": "text/x-python",
   "name": "python",
   "nbconvert_exporter": "python",
   "pygments_lexer": "ipython3",
   "version": "3.7.6"
  }
 },
 "nbformat": 4,
 "nbformat_minor": 4
}
