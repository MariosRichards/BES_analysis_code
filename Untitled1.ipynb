{
 "cells": [
  {
   "cell_type": "code",
   "execution_count": 1,
   "id": "c0728464",
   "metadata": {},
   "outputs": [
    {
     "data": {
      "text/html": [
       "<script>jQuery(function() {if (jQuery(\"body.notebook_app\").length == 0) { jQuery(\".input_area\").toggle(); jQuery(\".prompt\").toggle();}});</script>"
      ]
     },
     "metadata": {},
     "output_type": "display_data"
    },
    {
     "data": {
      "text/html": [
       "<button onclick=\"jQuery('.input_area').toggle(); jQuery('.prompt').toggle();\">Toggle code</button>"
      ]
     },
     "metadata": {},
     "output_type": "display_data"
    },
    {
     "name": "stdout",
     "output_type": "stream",
     "text": [
      "Wall time: 49.7 s\n"
     ]
    }
   ],
   "source": [
    "%%time\n",
    "dataset_name = \"W20_only\"\n",
    "df_list = \"BES_Panel\"\n",
    "\n",
    "%matplotlib inline\n",
    "%run BES_header.py {dataset_name} {df_list}"
   ]
  },
  {
   "cell_type": "code",
   "execution_count": null,
   "id": "4f9197cd",
   "metadata": {},
   "outputs": [],
   "source": [
    "## Looking at whether radical right parties/politicians get significantly, sharply unpopular after euref vote\n",
    "# (as a means of inferring a shift in norms on immigration/racism)\n",
    "\n",
    "# Don't really see a sharp move - but significant wander."
   ]
  },
  {
   "cell_type": "code",
   "execution_count": 3,
   "id": "760393a2",
   "metadata": {},
   "outputs": [],
   "source": [
    "df = pd.read_stata( \"E:\\\\Users\\\\Gamer\\\\Documents\\\\GitHub\\\\BES_analysis\\\\BES_analysis_data\\\\W23_only\\\\BES2019_W23_v23.0.dta\" )\n",
    "import pandas as pd\n",
    "itr = pd.read_stata(\"E:\\\\Users\\\\Gamer\\\\Documents\\\\GitHub\\\\BES_analysis\\\\BES_analysis_data\\\\W23_only\\\\BES2019_W23_v23.0.dta\", iterator=True)\n",
    "labels = itr.variable_labels()"
   ]
  },
  {
   "cell_type": "code",
   "execution_count": 4,
   "id": "9c0061c8",
   "metadata": {},
   "outputs": [
    {
     "data": {
      "text/plain": [
       "likeJohnson        30949\n",
       "likeStarmer        30949\n",
       "likeDavey          30949\n",
       "likeSturgeon        3035\n",
       "likePrice           1861\n",
       "likeTice           30949\n",
       "likeRamsay         14026\n",
       "likeDenyer         13888\n",
       "likeHarvie          1537\n",
       "likeSlater          1498\n",
       "likeCon            30949\n",
       "likeLab            30949\n",
       "likeLD             30949\n",
       "likeSNP             3035\n",
       "likePC              1861\n",
       "likeBrexitParty    30949\n",
       "likeGrn            30949\n",
       "dtype: int64"
      ]
     },
     "execution_count": 4,
     "metadata": {},
     "output_type": "execute_result"
    }
   ],
   "source": [
    "search(df, \"like\")"
   ]
  },
  {
   "cell_type": "code",
   "execution_count": 7,
   "id": "2f1719f2",
   "metadata": {},
   "outputs": [
    {
     "data": {
      "text/plain": [
       "Strongly dislike    0.278458\n",
       "1                   0.051536\n",
       "2                   0.050050\n",
       "3                   0.043232\n",
       "4                   0.033604\n",
       "5                   0.068984\n",
       "6                   0.024427\n",
       "7                   0.020841\n",
       "8                   0.014669\n",
       "9                   0.006753\n",
       "Strongly like       0.012052\n",
       "Don't know          0.395392\n",
       "Name: likeBrexitParty, dtype: float64"
      ]
     },
     "execution_count": 7,
     "metadata": {},
     "output_type": "execute_result"
    }
   ],
   "source": [
    "df[\"likeBrexitParty\"].value_counts(normalize=True).sort_index()"
   ]
  },
  {
   "cell_type": "code",
   "execution_count": 8,
   "id": "ae9021b5",
   "metadata": {},
   "outputs": [
    {
     "data": {
      "text/plain": [
       "Strongly dislike    0.093509\n",
       "1                   0.021616\n",
       "2                   0.021487\n",
       "3                   0.025138\n",
       "4                   0.025784\n",
       "5                   0.071182\n",
       "6                   0.017836\n",
       "7                   0.012989\n",
       "8                   0.009629\n",
       "9                   0.005041\n",
       "Strongly like       0.006979\n",
       "Don't know          0.688811\n",
       "Name: likeTice, dtype: float64"
      ]
     },
     "execution_count": 8,
     "metadata": {},
     "output_type": "execute_result"
    }
   ],
   "source": [
    "df[\"likeTice\"].value_counts(normalize=True).sort_index()"
   ]
  },
  {
   "cell_type": "code",
   "execution_count": null,
   "id": "e5a17c7a",
   "metadata": {},
   "outputs": [],
   "source": []
  },
  {
   "cell_type": "code",
   "execution_count": 9,
   "id": "ac5b049d",
   "metadata": {},
   "outputs": [],
   "source": [
    "df = pd.read_stata( \"E:\\\\Users\\\\Gamer\\\\Documents\\\\GitHub\\\\BES_analysis\\\\BES_analysis_data\\\\W23_comb\\\\BES2019_W23_Panel_v23.0.dta\" )"
   ]
  },
  {
   "cell_type": "code",
   "execution_count": 18,
   "id": "75260dbe",
   "metadata": {},
   "outputs": [
    {
     "data": {
      "text/plain": [
       "likeFarageW1          30554\n",
       "likeUKIPW1            15332\n",
       "likeFarageW2          30236\n",
       "likeUKIPW2            15043\n",
       "likeFarageW3          27829\n",
       "likeUKIPW3            13854\n",
       "likeFarageW4          31549\n",
       "likeUKIPW4            15695\n",
       "likeFarageW5          30963\n",
       "likeUKIPW5            15443\n",
       "likeFarageW6          30258\n",
       "likeUKIPW6            15008\n",
       "likeFarageW7          30895\n",
       "likeUKIPW7            30895\n",
       "likeFarageW8          33502\n",
       "likeUKIPW8            33502\n",
       "likeFarageW9          30036\n",
       "likeUKIPW9            30036\n",
       "likeFarageW10         30237\n",
       "likeUKIPW10           30237\n",
       "likeFarageW11         30956\n",
       "likeUKIPW11           30956\n",
       "likeUKIPW12           34394\n",
       "likeUKIPW13           31135\n",
       "likeUKIPW14           31063\n",
       "likeFarageW15         30842\n",
       "likeUKIPW15           30842\n",
       "likeBrexitPartyW15    30842\n",
       "likeFarageW16         37959\n",
       "likeUKIPW16           37959\n",
       "likeBrexitPartyW16    37959\n",
       "likeFarageW17         34366\n",
       "likeBrexitPartyW17    34366\n",
       "likeUKIPW17           34366\n",
       "likeFarageW18         37825\n",
       "likeBrexitPartyW18    37825\n",
       "likeUKIPW18           37825\n",
       "likeFarageW19         32177\n",
       "likeBrexitPartyW19    32177\n",
       "likeFarageW20         31468\n",
       "likeBrexitPartyW20    31468\n",
       "likeFarageW21         30281\n",
       "likeBrexitPartyW21    30281\n",
       "likeBrexitPartyW22    28113\n",
       "likeBrexitPartyW23    30949\n",
       "dtype: int64"
      ]
     },
     "execution_count": 18,
     "metadata": {},
     "output_type": "execute_result"
    }
   ],
   "source": [
    "search(df,\"like(UKIP|Brexit|Reform|Farage)\")"
   ]
  },
  {
   "cell_type": "code",
   "execution_count": 44,
   "id": "ee3ff92e",
   "metadata": {},
   "outputs": [],
   "source": [
    "# quietly drops row with np.nan weights!    \n",
    "def weighted_mean(x, **kws):\n",
    "    val, weight = map(np.asarray, zip(*x))\n",
    "    mask = (~np.isnan(val))&(~np.isnan(weight))\n",
    "    val, weight = val[mask],weight[mask]\n",
    "    return (val * weight).sum() / weight.sum()\n",
    "\n",
    "global num_to_weight\n",
    "def get_weights(dataset_name, BES_Panel):\n",
    "    max_wave = int(re.match(\"W(\\d+)_\",dataset_name).groups()[0])\n",
    "    num_to_wave = {x:\"W\"+str(x) for x in range(1,max_wave+1)}\n",
    "    ## problem here if it's *not* a combined panel!\n",
    "    num_to_weight = { y:[x for x in BES_Panel.columns.sort_values(ascending=False) if re.match(\"wt_(new|full)_W\"+str(y)+\"($|_result$)\",x)][0] for y in range(1,max_wave+1) }\n",
    "    weights = BES_Panel[list(num_to_weight.values())].copy()\n",
    "    return max_wave, num_to_wave, num_to_weight, weights"
   ]
  },
  {
   "cell_type": "code",
   "execution_count": null,
   "id": "bbdac634",
   "metadata": {},
   "outputs": [],
   "source": [
    "## need wave to weight list"
   ]
  },
  {
   "cell_type": "code",
   "execution_count": 45,
   "id": "9547b870",
   "metadata": {},
   "outputs": [],
   "source": [
    "dataset_name = \"W23_comb\"\n",
    "max_wave = 23\n",
    "max_wave, num_to_wave, num_to_weight, weights = get_weights(dataset_name, df)"
   ]
  },
  {
   "cell_type": "code",
   "execution_count": 128,
   "id": "f0b94dfa",
   "metadata": {},
   "outputs": [],
   "source": [
    "var_list = search(df,\"like(BNP|UKIP|Brexit|Farage|Evans|Nuttall|Batten|Johnson|Tice)\").index\n",
    "\n",
    "# Tice, Nuttall, Mogg, Johnson, BNP, Batten\n",
    "# |Mogg"
   ]
  },
  {
   "cell_type": "code",
   "execution_count": 129,
   "id": "c469495e",
   "metadata": {},
   "outputs": [],
   "source": [
    "like_df = pd.DataFrame()\n",
    "like_df[\"like\"]=np.nan\n",
    "like_df[\"wave\"]=np.nan\n",
    "like_df[\"mean\"]=np.nan"
   ]
  },
  {
   "cell_type": "code",
   "execution_count": 130,
   "id": "4d5ea0bb",
   "metadata": {},
   "outputs": [
    {
     "name": "stdout",
     "output_type": "stream",
     "text": [
      "likeFarageW1\n",
      "likeUKIPW1\n",
      "likeBNPW1\n",
      "likeFarageW2\n",
      "likeUKIPW2\n",
      "likeBNPW2\n",
      "likeFarageW3\n",
      "likeUKIPW3\n",
      "likeBNPW3\n",
      "likeFarageW4\n",
      "likeUKIPW4\n",
      "likeBNPW4\n",
      "likeFarageW5\n",
      "likeUKIPW5\n",
      "likeBNPW5\n",
      "likeFarageW6\n",
      "likeUKIPW6\n",
      "likeBNPW6\n",
      "likeFarageW7\n",
      "likeJohnsonW7\n",
      "likeUKIPW7\n",
      "likeFarageW8\n",
      "likeJohnsonW8\n",
      "likeUKIPW8\n",
      "likeFarageW9\n",
      "likeJohnsonW9\n",
      "likeUKIPW9\n",
      "likeFarageW10\n",
      "likeNuttallW10\n",
      "likeUKIPW10\n",
      "likeNuttallW11\n",
      "likeFarageW11\n",
      "likeUKIPW11\n",
      "likeNuttallW12\n",
      "likeUKIPW12\n",
      "likeNuttallW13\n",
      "likeUKIPW13\n",
      "likeJohnsonW13\n",
      "likeBattenW14\n",
      "likeUKIPW14\n",
      "likeJohnsonW14\n",
      "likeBattenW15\n",
      "likeFarageW15\n",
      "likeJohnsonW15\n",
      "likeUKIPW15\n",
      "likeBrexitPartyW15\n",
      "likeBattenW16\n",
      "likeFarageW16\n",
      "likeUKIPW16\n",
      "likeBrexitPartyW16\n",
      "likeJohnsonW17\n",
      "likeFarageW17\n",
      "likeBrexitPartyW17\n",
      "likeUKIPW17\n",
      "likeJohnsonW18\n",
      "likeFarageW18\n",
      "likeBrexitPartyW18\n",
      "likeUKIPW18\n",
      "likeJohnsonW19\n",
      "likeFarageW19\n",
      "likeBrexitPartyW19\n",
      "likeJohnsonW20\n",
      "likeFarageW20\n",
      "likeBrexitPartyW20\n",
      "likeJohnsonW21\n",
      "likeTiceW21\n",
      "likeFarageW21\n",
      "likeBrexitPartyW21\n",
      "likeJohnsonW22\n",
      "likeTiceW22\n",
      "likeBrexitPartyW22\n",
      "likeJohnsonW23\n",
      "likeTiceW23\n",
      "likeBrexitPartyW23\n"
     ]
    }
   ],
   "source": [
    "ind=0\n",
    "for x in var_list:\n",
    "    print(x)\n",
    "    wave = int(x.split(\"W\")[1])\n",
    "    like = x.split(\"W\")[0]\n",
    "    non_nulls = df[x].replace(\"Don't know\",np.nan).notnull()&df[num_to_weight[wave]].notnull()\n",
    "    like_mean= weighted_mean( list(zip(df[x][non_nulls].replace(\"Don't know\",np.nan).cat.codes.replace(-1,np.nan),\n",
    "                            df[num_to_weight[wave]][non_nulls])) )\n",
    "    like_df.loc[ind] = [ like, wave, like_mean ] \n",
    "    ind = ind+1"
   ]
  },
  {
   "cell_type": "code",
   "execution_count": 132,
   "id": "47ea3816",
   "metadata": {
    "scrolled": false
   },
   "outputs": [
    {
     "data": {
      "text/plain": [
       "Text(0.5, 0, 'BES Wave')"
      ]
     },
     "execution_count": 132,
     "metadata": {},
     "output_type": "execute_result"
    },
    {
     "data": {
      "image/png": "[encoded data removed]",
      "text/plain": [
       "<Figure size 864x576 with 1 Axes>"
      ]
     },
     "metadata": {},
     "output_type": "display_data"
    }
   ],
   "source": [
    "plt.figure(figsize= (12,8))\n",
    "sns.lineplot(data=like_df,x='wave', hue='like',y='mean');\n",
    "plt.ylim([0,10]);\n",
    "plt.title(\"Mean Like Rating For Party/Politician\\nStrongly Dislike(0)-Strongly Like(10) DKs excluded\", fontsize=20);\n",
    "plt.xlabel(\"BES Wave\")"
   ]
  },
  {
   "cell_type": "code",
   "execution_count": 114,
   "id": "f970ffb8",
   "metadata": {},
   "outputs": [
    {
     "data": {
      "text/plain": [
       "0.29360685897736394"
      ]
     },
     "execution_count": 114,
     "metadata": {},
     "output_type": "execute_result"
    }
   ],
   "source": [
    "weighted_mean( list(zip(df[\"likeUKIPW6\"].replace(\"Don't know\",np.nan).cat.codes.replace(-1,np.nan)<5,\n",
    "                            df[num_to_weight[6]])) )"
   ]
  },
  {
   "cell_type": "code",
   "execution_count": 120,
   "id": "7b3c49c3",
   "metadata": {},
   "outputs": [
    {
     "data": {
      "text/plain": [
       "0         NaN\n",
       "1         4.0\n",
       "2         0.0\n",
       "3         NaN\n",
       "4         NaN\n",
       "         ... \n",
       "107791    NaN\n",
       "107792    NaN\n",
       "107793    NaN\n",
       "107794    NaN\n",
       "107795    NaN\n",
       "Length: 107796, dtype: float64"
      ]
     },
     "execution_count": 120,
     "metadata": {},
     "output_type": "execute_result"
    }
   ],
   "source": [
    "df[\"likeUKIPW6\"].replace(\"Don't know\",np.nan).cat.codes.replace(-1,np.nan)"
   ]
  },
  {
   "cell_type": "code",
   "execution_count": 116,
   "id": "0ae13d3a",
   "metadata": {},
   "outputs": [
    {
     "data": {
      "text/plain": [
       "Strongly dislike    0.388593\n",
       "1                   0.075626\n",
       "2                   0.063899\n",
       "3                   0.057303\n",
       "4                   0.050906\n",
       "5                   0.079691\n",
       "6                   0.058969\n",
       "7                   0.063499\n",
       "8                   0.048841\n",
       "9                   0.028651\n",
       "Strongly like       0.055171\n",
       "Don't know          0.028851\n",
       "Name: likeUKIPW6, dtype: float64"
      ]
     },
     "execution_count": 116,
     "metadata": {},
     "output_type": "execute_result"
    }
   ],
   "source": [
    "df[\"likeUKIPW6\"].value_counts(normalize=True).sort_index()"
   ]
  },
  {
   "cell_type": "code",
   "execution_count": 117,
   "id": "e4888e77",
   "metadata": {},
   "outputs": [
    {
     "data": {
      "text/plain": [
       "Strongly dislike    0.376987\n",
       "1                   0.068069\n",
       "2                   0.062664\n",
       "3                   0.059265\n",
       "4                   0.052759\n",
       "5                   0.082505\n",
       "6                   0.063376\n",
       "7                   0.064832\n",
       "8                   0.050235\n",
       "9                   0.024373\n",
       "Strongly like       0.047548\n",
       "Don't know          0.047386\n",
       "Name: likeUKIPW7, dtype: float64"
      ]
     },
     "execution_count": 117,
     "metadata": {},
     "output_type": "execute_result"
    }
   ],
   "source": [
    "df[\"likeUKIPW7\"].value_counts(normalize=True).sort_index()"
   ]
  },
  {
   "cell_type": "code",
   "execution_count": 84,
   "id": "69702696",
   "metadata": {},
   "outputs": [
    {
     "data": {
      "text/plain": [
       "set()"
      ]
     },
     "execution_count": 84,
     "metadata": {},
     "output_type": "execute_result"
    }
   ],
   "source": [
    "set([re.match(x,\"(.*)W\\d\").groups()[0] for x in search(df,\"like\").index if re.match(x,\"(.*)W\\d\")])"
   ]
  },
  {
   "cell_type": "code",
   "execution_count": 76,
   "id": "c8ec99e9",
   "metadata": {},
   "outputs": [
    {
     "data": {
      "text/plain": [
       "count    27806.000000\n",
       "mean         3.164821\n",
       "std          3.017396\n",
       "min          0.000000\n",
       "25%          0.000000\n",
       "50%          3.000000\n",
       "75%          5.000000\n",
       "max         10.000000\n",
       "dtype: float64"
      ]
     },
     "execution_count": 76,
     "metadata": {},
     "output_type": "execute_result"
    }
   ],
   "source": [
    "df['likeFarageW1'].replace(\"Don't know\",np.nan).cat.codes.replace(-1,np.nan).describe()"
   ]
  },
  {
   "cell_type": "code",
   "execution_count": 91,
   "id": "5da07323",
   "metadata": {},
   "outputs": [
    {
     "data": {
      "text/plain": [
       "{'AlanJohnson',\n",
       " 'Allen',\n",
       " 'BNP',\n",
       " 'Bartley',\n",
       " 'Batten',\n",
       " 'Bennett',\n",
       " 'Berger',\n",
       " 'Berry',\n",
       " 'Blair',\n",
       " 'BrexitParty',\n",
       " 'Cable',\n",
       " 'Cameron',\n",
       " 'Clegg',\n",
       " 'Con',\n",
       " 'Corbyn',\n",
       " 'DUP',\n",
       " 'Davey',\n",
       " 'Davidson',\n",
       " 'Davis',\n",
       " 'Denyer',\n",
       " 'Farage',\n",
       " 'Farron',\n",
       " 'Gove',\n",
       " 'Grn',\n",
       " 'Harvie',\n",
       " 'Hunt',\n",
       " 'Jarvis',\n",
       " 'Javid',\n",
       " 'Johnson',\n",
       " 'LD',\n",
       " 'Lab',\n",
       " 'Leonard',\n",
       " 'LongBailey',\n",
       " 'Lucas',\n",
       " 'May',\n",
       " 'McDonnell',\n",
       " 'Miliband',\n",
       " 'Mogg',\n",
       " 'Moran',\n",
       " 'Nuttall',\n",
       " 'Osborne',\n",
       " 'PC',\n",
       " 'Phillips',\n",
       " 'Price',\n",
       " 'Ramsay',\n",
       " 'Rayner',\n",
       " 'Rennie',\n",
       " 'Rudd',\n",
       " 'SEvans',\n",
       " 'SNP',\n",
       " 'SNPExtra',\n",
       " 'Salmond',\n",
       " 'Slater',\n",
       " 'Soubry',\n",
       " 'Starmer',\n",
       " 'Sturgeon',\n",
       " 'Swinson',\n",
       " 'TIG',\n",
       " 'Tice',\n",
       " 'UKIP',\n",
       " 'Umunna',\n",
       " 'Watson',\n",
       " 'Wood'}"
      ]
     },
     "execution_count": 91,
     "metadata": {},
     "output_type": "execute_result"
    }
   ],
   "source": [
    "set( [re.match(\"like([A-Z].*)W\\d\",x).groups()[0] for x in search(df,\"like\").index if re.match(\"like([A-Z].*)W\\d\",x)] )"
   ]
  },
  {
   "cell_type": "code",
   "execution_count": null,
   "id": "05cb60c7",
   "metadata": {},
   "outputs": [],
   "source": [
    "# Tice, Nuttall, Mogg, Johnson, BNP, Batten"
   ]
  },
  {
   "cell_type": "code",
   "execution_count": null,
   "id": "7dfac755",
   "metadata": {},
   "outputs": [],
   "source": []
  },
  {
   "cell_type": "code",
   "execution_count": 147,
   "id": "a9c434bb",
   "metadata": {},
   "outputs": [
    {
     "data": {
      "text/plain": [
       "likeUKIPW1            15332\n",
       "ptvGrnW1              15193\n",
       "likeUKIPW2            15043\n",
       "ptvGrnW2              15208\n",
       "likeUKIPW3            13854\n",
       "ptvGrnW3              13972\n",
       "likeUKIPW4            15695\n",
       "ptvGrnW4              15855\n",
       "likeUKIPW5            15443\n",
       "ptvGrnW5              15527\n",
       "likeUKIPW6            15008\n",
       "ptvGrnW6              15249\n",
       "likeUKIPW7            30895\n",
       "ptvGrnW7              30895\n",
       "likeUKIPW8            33502\n",
       "ptvGrnW8               8966\n",
       "likeUKIPW9            30036\n",
       "ptvGrnW9              30036\n",
       "likeUKIPW10           30237\n",
       "ptvGrnW10             30237\n",
       "likeUKIPW11           30956\n",
       "ptvGrnW11             30956\n",
       "likeUKIPW12           34394\n",
       "ptvGrnW12              8515\n",
       "likeUKIPW13           31135\n",
       "ptvGrnW13             31135\n",
       "likeUKIPW14           31063\n",
       "likeUKIPW15           30842\n",
       "likeBrexitPartyW15    30842\n",
       "ptvGrnW15             30842\n",
       "likeUKIPW16           37959\n",
       "likeBrexitPartyW16    37959\n",
       "ptvGrnW16             18756\n",
       "likeBrexitPartyW17    34366\n",
       "likeUKIPW17           34366\n",
       "ptvGrnW17             34366\n",
       "likeBrexitPartyW18    37825\n",
       "likeUKIPW18           37825\n",
       "ptvGrnW18              9439\n",
       "likeBrexitPartyW19    32177\n",
       "likeBrexitPartyW20    31468\n",
       "ptvGrnW20             31468\n",
       "likeBrexitPartyW21    30281\n",
       "ptvGrnW21             30281\n",
       "likeBrexitPartyW22    28113\n",
       "ptvGrnW22             28113\n",
       "likeBrexitPartyW23    30949\n",
       "ptvGrnW23             30949\n",
       "dtype: int64"
      ]
     },
     "execution_count": 147,
     "metadata": {},
     "output_type": "execute_result"
    }
   ],
   "source": [
    "search(df,\"likeBrexit|likeUKIP|ptvGrn\")"
   ]
  },
  {
   "cell_type": "code",
   "execution_count": 138,
   "id": "2de4dc60",
   "metadata": {},
   "outputs": [
    {
     "data": {
      "text/plain": [
       "Strongly dislike    0.278458\n",
       "1                   0.051536\n",
       "2                   0.050050\n",
       "3                   0.043232\n",
       "4                   0.033604\n",
       "5                   0.068984\n",
       "6                   0.024427\n",
       "7                   0.020841\n",
       "8                   0.014669\n",
       "9                   0.006753\n",
       "Strongly like       0.012052\n",
       "Don't know          0.395392\n",
       "Name: likeBrexitPartyW23, dtype: float64"
      ]
     },
     "execution_count": 138,
     "metadata": {},
     "output_type": "execute_result"
    }
   ],
   "source": [
    "df[\"likeBrexitPartyW23\"].value_counts(normalize=True).sort_index()"
   ]
  },
  {
   "cell_type": "code",
   "execution_count": 137,
   "id": "99ac51a0",
   "metadata": {},
   "outputs": [
    {
     "data": {
      "text/plain": [
       "Very unlikely    0.553394\n",
       "1                0.038547\n",
       "2                0.029048\n",
       "3                0.024395\n",
       "4                0.017868\n",
       "5                0.038321\n",
       "6                0.018611\n",
       "7                0.019645\n",
       "8                0.015929\n",
       "9                0.008336\n",
       "Very likely      0.025526\n",
       "Don't know       0.210378\n",
       "Name: ptvBrexitPartyW23, dtype: float64"
      ]
     },
     "execution_count": 137,
     "metadata": {},
     "output_type": "execute_result"
    }
   ],
   "source": [
    "df[\"ptvBrexitPartyW23\"].value_counts(normalize=True).sort_index()"
   ]
  },
  {
   "cell_type": "code",
   "execution_count": 142,
   "id": "d6a9c989",
   "metadata": {},
   "outputs": [
    {
     "data": {
      "text/plain": [
       "Very unlikely    0.553394\n",
       "1                0.591942\n",
       "2                0.620989\n",
       "3                0.645384\n",
       "4                0.663252\n",
       "5                0.701574\n",
       "6                0.720185\n",
       "7                0.739830\n",
       "8                0.755759\n",
       "9                0.764096\n",
       "Very likely      0.789622\n",
       "Don't know       1.000000\n",
       "Name: ptvBrexitPartyW23, dtype: float64"
      ]
     },
     "execution_count": 142,
     "metadata": {},
     "output_type": "execute_result"
    }
   ],
   "source": [
    "df[\"ptvBrexitPartyW23\"].value_counts(normalize=True).sort_index().cumsum()"
   ]
  },
  {
   "cell_type": "code",
   "execution_count": 153,
   "id": "92b7316d",
   "metadata": {},
   "outputs": [
    {
     "data": {
      "text/html": [
       "<div>\n",
       "<style scoped>\n",
       "    .dataframe tbody tr th:only-of-type {\n",
       "        vertical-align: middle;\n",
       "    }\n",
       "\n",
       "    .dataframe tbody tr th {\n",
       "        vertical-align: top;\n",
       "    }\n",
       "\n",
       "    .dataframe thead th {\n",
       "        text-align: right;\n",
       "    }\n",
       "</style>\n",
       "<table border=\"1\" class=\"dataframe\">\n",
       "  <thead>\n",
       "    <tr style=\"text-align: right;\">\n",
       "      <th></th>\n",
       "      <th>weighted_sample_fraction</th>\n",
       "      <th>raw_sample_size</th>\n",
       "    </tr>\n",
       "    <tr>\n",
       "      <th>ptvBrexitPartyW23</th>\n",
       "      <th></th>\n",
       "      <th></th>\n",
       "    </tr>\n",
       "  </thead>\n",
       "  <tbody>\n",
       "    <tr>\n",
       "      <th>Very unlikely</th>\n",
       "      <td>0.52</td>\n",
       "      <td>17127.0</td>\n",
       "    </tr>\n",
       "    <tr>\n",
       "      <th>1</th>\n",
       "      <td>0.04</td>\n",
       "      <td>1193.0</td>\n",
       "    </tr>\n",
       "    <tr>\n",
       "      <th>2</th>\n",
       "      <td>0.03</td>\n",
       "      <td>899.0</td>\n",
       "    </tr>\n",
       "    <tr>\n",
       "      <th>3</th>\n",
       "      <td>0.03</td>\n",
       "      <td>755.0</td>\n",
       "    </tr>\n",
       "    <tr>\n",
       "      <th>4</th>\n",
       "      <td>0.02</td>\n",
       "      <td>553.0</td>\n",
       "    </tr>\n",
       "    <tr>\n",
       "      <th>5</th>\n",
       "      <td>0.04</td>\n",
       "      <td>1186.0</td>\n",
       "    </tr>\n",
       "    <tr>\n",
       "      <th>6</th>\n",
       "      <td>0.02</td>\n",
       "      <td>576.0</td>\n",
       "    </tr>\n",
       "    <tr>\n",
       "      <th>7</th>\n",
       "      <td>0.02</td>\n",
       "      <td>608.0</td>\n",
       "    </tr>\n",
       "    <tr>\n",
       "      <th>8</th>\n",
       "      <td>0.01</td>\n",
       "      <td>493.0</td>\n",
       "    </tr>\n",
       "    <tr>\n",
       "      <th>9</th>\n",
       "      <td>0.01</td>\n",
       "      <td>258.0</td>\n",
       "    </tr>\n",
       "    <tr>\n",
       "      <th>Very likely</th>\n",
       "      <td>0.02</td>\n",
       "      <td>790.0</td>\n",
       "    </tr>\n",
       "    <tr>\n",
       "      <th>Don't know</th>\n",
       "      <td>0.24</td>\n",
       "      <td>6511.0</td>\n",
       "    </tr>\n",
       "  </tbody>\n",
       "</table>\n",
       "</div>"
      ],
      "text/plain": [
       "                   weighted_sample_fraction  raw_sample_size\n",
       "ptvBrexitPartyW23                                           \n",
       "Very unlikely                          0.52          17127.0\n",
       "1                                      0.04           1193.0\n",
       "2                                      0.03            899.0\n",
       "3                                      0.03            755.0\n",
       "4                                      0.02            553.0\n",
       "5                                      0.04           1186.0\n",
       "6                                      0.02            576.0\n",
       "7                                      0.02            608.0\n",
       "8                                      0.01            493.0\n",
       "9                                      0.01            258.0\n",
       "Very likely                            0.02            790.0\n",
       "Don't know                             0.24           6511.0"
      ]
     },
     "execution_count": 153,
     "metadata": {},
     "output_type": "execute_result"
    }
   ],
   "source": [
    "weighted_value_counts(df[\"ptvBrexitPartyW23\"], df[\"wt_new_W23\"], normalize=True).sort_index()"
   ]
  },
  {
   "cell_type": "code",
   "execution_count": 158,
   "id": "48e9f876",
   "metadata": {},
   "outputs": [
    {
     "data": {
      "text/html": [
       "<div>\n",
       "<style scoped>\n",
       "    .dataframe tbody tr th:only-of-type {\n",
       "        vertical-align: middle;\n",
       "    }\n",
       "\n",
       "    .dataframe tbody tr th {\n",
       "        vertical-align: top;\n",
       "    }\n",
       "\n",
       "    .dataframe thead th {\n",
       "        text-align: right;\n",
       "    }\n",
       "</style>\n",
       "<table border=\"1\" class=\"dataframe\">\n",
       "  <thead>\n",
       "    <tr style=\"text-align: right;\">\n",
       "      <th></th>\n",
       "      <th>weighted_sample_fraction</th>\n",
       "      <th>raw_sample_size</th>\n",
       "    </tr>\n",
       "    <tr>\n",
       "      <th>ptvUKIPW3</th>\n",
       "      <th></th>\n",
       "      <th></th>\n",
       "    </tr>\n",
       "  </thead>\n",
       "  <tbody>\n",
       "    <tr>\n",
       "      <th>Very unlikely</th>\n",
       "      <td>0.41</td>\n",
       "      <td>6273.0</td>\n",
       "    </tr>\n",
       "    <tr>\n",
       "      <th>1</th>\n",
       "      <td>0.47</td>\n",
       "      <td>7023.0</td>\n",
       "    </tr>\n",
       "    <tr>\n",
       "      <th>2</th>\n",
       "      <td>0.52</td>\n",
       "      <td>7667.0</td>\n",
       "    </tr>\n",
       "    <tr>\n",
       "      <th>3</th>\n",
       "      <td>0.57</td>\n",
       "      <td>8243.0</td>\n",
       "    </tr>\n",
       "    <tr>\n",
       "      <th>4</th>\n",
       "      <td>0.61</td>\n",
       "      <td>8738.0</td>\n",
       "    </tr>\n",
       "    <tr>\n",
       "      <th>5</th>\n",
       "      <td>0.68</td>\n",
       "      <td>9628.0</td>\n",
       "    </tr>\n",
       "    <tr>\n",
       "      <th>6</th>\n",
       "      <td>0.74</td>\n",
       "      <td>10319.0</td>\n",
       "    </tr>\n",
       "    <tr>\n",
       "      <th>7</th>\n",
       "      <td>0.81</td>\n",
       "      <td>11160.0</td>\n",
       "    </tr>\n",
       "    <tr>\n",
       "      <th>8</th>\n",
       "      <td>0.86</td>\n",
       "      <td>11849.0</td>\n",
       "    </tr>\n",
       "    <tr>\n",
       "      <th>9</th>\n",
       "      <td>0.89</td>\n",
       "      <td>12302.0</td>\n",
       "    </tr>\n",
       "    <tr>\n",
       "      <th>Very likely</th>\n",
       "      <td>0.95</td>\n",
       "      <td>13323.0</td>\n",
       "    </tr>\n",
       "    <tr>\n",
       "      <th>Don't know</th>\n",
       "      <td>1.01</td>\n",
       "      <td>13972.0</td>\n",
       "    </tr>\n",
       "  </tbody>\n",
       "</table>\n",
       "</div>"
      ],
      "text/plain": [
       "               weighted_sample_fraction  raw_sample_size\n",
       "ptvUKIPW3                                               \n",
       "Very unlikely                      0.41           6273.0\n",
       "1                                  0.47           7023.0\n",
       "2                                  0.52           7667.0\n",
       "3                                  0.57           8243.0\n",
       "4                                  0.61           8738.0\n",
       "5                                  0.68           9628.0\n",
       "6                                  0.74          10319.0\n",
       "7                                  0.81          11160.0\n",
       "8                                  0.86          11849.0\n",
       "9                                  0.89          12302.0\n",
       "Very likely                        0.95          13323.0\n",
       "Don't know                         1.01          13972.0"
      ]
     },
     "execution_count": 158,
     "metadata": {},
     "output_type": "execute_result"
    }
   ],
   "source": [
    "non_null = df[\"ptvUKIPW3\"].notnull()&df[\"wt_full_W3\"].notnull()\n",
    "weighted_value_counts(df[\"ptvUKIPW3\"][non_null], df[\"wt_full_W3\"][non_null], normalize=True).sort_index().cumsum()"
   ]
  },
  {
   "cell_type": "code",
   "execution_count": 148,
   "id": "9cfe34eb",
   "metadata": {},
   "outputs": [
    {
     "data": {
      "text/html": [
       "<div>\n",
       "<style scoped>\n",
       "    .dataframe tbody tr th:only-of-type {\n",
       "        vertical-align: middle;\n",
       "    }\n",
       "\n",
       "    .dataframe tbody tr th {\n",
       "        vertical-align: top;\n",
       "    }\n",
       "\n",
       "    .dataframe thead th {\n",
       "        text-align: right;\n",
       "    }\n",
       "</style>\n",
       "<table border=\"1\" class=\"dataframe\">\n",
       "  <thead>\n",
       "    <tr style=\"text-align: right;\">\n",
       "      <th></th>\n",
       "      <th>weighted_sample_fraction</th>\n",
       "      <th>raw_sample_size</th>\n",
       "    </tr>\n",
       "    <tr>\n",
       "      <th>ptvGrnW23</th>\n",
       "      <th></th>\n",
       "      <th></th>\n",
       "    </tr>\n",
       "  </thead>\n",
       "  <tbody>\n",
       "    <tr>\n",
       "      <th>Very unlikely</th>\n",
       "      <td>0.33</td>\n",
       "      <td>10636.0</td>\n",
       "    </tr>\n",
       "    <tr>\n",
       "      <th>1</th>\n",
       "      <td>0.04</td>\n",
       "      <td>1287.0</td>\n",
       "    </tr>\n",
       "    <tr>\n",
       "      <th>2</th>\n",
       "      <td>0.04</td>\n",
       "      <td>1420.0</td>\n",
       "    </tr>\n",
       "    <tr>\n",
       "      <th>3</th>\n",
       "      <td>0.05</td>\n",
       "      <td>1618.0</td>\n",
       "    </tr>\n",
       "    <tr>\n",
       "      <th>4</th>\n",
       "      <td>0.05</td>\n",
       "      <td>1423.0</td>\n",
       "    </tr>\n",
       "    <tr>\n",
       "      <th>5</th>\n",
       "      <td>0.09</td>\n",
       "      <td>2838.0</td>\n",
       "    </tr>\n",
       "    <tr>\n",
       "      <th>6</th>\n",
       "      <td>0.06</td>\n",
       "      <td>1988.0</td>\n",
       "    </tr>\n",
       "    <tr>\n",
       "      <th>7</th>\n",
       "      <td>0.06</td>\n",
       "      <td>2071.0</td>\n",
       "    </tr>\n",
       "    <tr>\n",
       "      <th>8</th>\n",
       "      <td>0.05</td>\n",
       "      <td>1528.0</td>\n",
       "    </tr>\n",
       "    <tr>\n",
       "      <th>9</th>\n",
       "      <td>0.02</td>\n",
       "      <td>800.0</td>\n",
       "    </tr>\n",
       "    <tr>\n",
       "      <th>Very likely</th>\n",
       "      <td>0.05</td>\n",
       "      <td>1669.0</td>\n",
       "    </tr>\n",
       "    <tr>\n",
       "      <th>Don't know</th>\n",
       "      <td>0.15</td>\n",
       "      <td>3671.0</td>\n",
       "    </tr>\n",
       "  </tbody>\n",
       "</table>\n",
       "</div>"
      ],
      "text/plain": [
       "               weighted_sample_fraction  raw_sample_size\n",
       "ptvGrnW23                                               \n",
       "Very unlikely                      0.33          10636.0\n",
       "1                                  0.04           1287.0\n",
       "2                                  0.04           1420.0\n",
       "3                                  0.05           1618.0\n",
       "4                                  0.05           1423.0\n",
       "5                                  0.09           2838.0\n",
       "6                                  0.06           1988.0\n",
       "7                                  0.06           2071.0\n",
       "8                                  0.05           1528.0\n",
       "9                                  0.02            800.0\n",
       "Very likely                        0.05           1669.0\n",
       "Don't know                         0.15           3671.0"
      ]
     },
     "execution_count": 148,
     "metadata": {},
     "output_type": "execute_result"
    }
   ],
   "source": [
    "weighted_value_counts(df[\"ptvGrnW23\"], df[\"wt_new_W23\"], normalize=True).sort_index()"
   ]
  },
  {
   "cell_type": "code",
   "execution_count": null,
   "id": "e1e4bdb7",
   "metadata": {},
   "outputs": [],
   "source": []
  },
  {
   "cell_type": "code",
   "execution_count": null,
   "id": "d34aa17c",
   "metadata": {},
   "outputs": [],
   "source": []
  },
  {
   "cell_type": "code",
   "execution_count": null,
   "id": "93f47c73",
   "metadata": {},
   "outputs": [],
   "source": []
  },
  {
   "cell_type": "code",
   "execution_count": null,
   "id": "f89c5d14",
   "metadata": {},
   "outputs": [],
   "source": []
  },
  {
   "cell_type": "code",
   "execution_count": null,
   "id": "d1ce1ea7",
   "metadata": {},
   "outputs": [],
   "source": []
  },
  {
   "cell_type": "code",
   "execution_count": null,
   "id": "d9fbdc72",
   "metadata": {},
   "outputs": [],
   "source": []
  },
  {
   "cell_type": "code",
   "execution_count": null,
   "id": "3f3eaf50",
   "metadata": {},
   "outputs": [],
   "source": [
    "######################################################"
   ]
  },
  {
   "cell_type": "code",
   "execution_count": null,
   "id": "671a7924",
   "metadata": {},
   "outputs": [],
   "source": [
    "# immigration sentiment shifts\n",
    "\n",
    "# do we have any new correlates?\n",
    "# has the pattern changed?\n",
    "# is there a cleverer way to do analysis\n",
    "    # what if we look at correlates for next wave sentiment *for each different current wave sentiment level*?\n",
    "    # what if we do funky imputation to get a full sentiment dataset?"
   ]
  },
  {
   "cell_type": "code",
   "execution_count": 165,
   "id": "b60490c3",
   "metadata": {},
   "outputs": [
    {
     "data": {
      "text/plain": [
       "immigrantsWelfareStateW1     30538\n",
       "immigrantsWelfareStateW2     30262\n",
       "immigrantsWelfareStateW3     27832\n",
       "immigrantsWelfareStateW4     31551\n",
       "immigrantsWelfareStateW7     30895\n",
       "immigrantsWelfareStateW8     33502\n",
       "immigrantsWelfareStateW10    30237\n",
       "immigrantsWelfareStateW11    30956\n",
       "immigrantsWelfareStateW20    31468\n",
       "dtype: int64"
      ]
     },
     "execution_count": 165,
     "metadata": {},
     "output_type": "execute_result"
    }
   ],
   "source": [
    "search(df,\"Immigrants\")"
   ]
  },
  {
   "cell_type": "code",
   "execution_count": 161,
   "id": "867e065a",
   "metadata": {},
   "outputs": [
    {
     "data": {
      "text/plain": [
       "immigEconW1         30538\n",
       "immigCulturalW1     30538\n",
       "immigEconW2         30261\n",
       "immigCulturalW2     30261\n",
       "immigEconW3         28299\n",
       "immigCulturalW3     28299\n",
       "immigEconW4         31551\n",
       "immigCulturalW4     31551\n",
       "immigEconW7         30895\n",
       "immigCulturalW7     30895\n",
       "immigSelfW7         30895\n",
       "immigEconW8         33502\n",
       "immigCulturalW8     33502\n",
       "immigSelfW8         33502\n",
       "immigSelfW9         30036\n",
       "immigEconW10        30237\n",
       "immigCulturalW10    30237\n",
       "immigSelfW10        30237\n",
       "immigEconW11        30956\n",
       "immigCulturalW11    30956\n",
       "immigSelfW11        30956\n",
       "immigSelfW12         8984\n",
       "immigEconW13        31135\n",
       "immigCulturalW13    31135\n",
       "immigSelfW13         1289\n",
       "immigEconW14        31063\n",
       "immigCulturalW14    31063\n",
       "immigSelfW14        31063\n",
       "immigEconW15        30842\n",
       "immigCulturalW15    30842\n",
       "immigSelfW15        30842\n",
       "immigEconW16        37959\n",
       "immigCulturalW16    37959\n",
       "immigSelfW16        37959\n",
       "immigEconW17        34366\n",
       "immigCulturalW17    34366\n",
       "immigSelfW17        34366\n",
       "immigEconW20        31468\n",
       "immigCulturalW20    31468\n",
       "immigSelfW20        31468\n",
       "immigSelfW21        30281\n",
       "immigEconW22        28113\n",
       "immigSelfW22        28113\n",
       "immigEconW23        30949\n",
       "immigSelfW23        30949\n",
       "dtype: int64"
      ]
     },
     "execution_count": 161,
     "metadata": {},
     "output_type": "execute_result"
    }
   ],
   "source": [
    "search(df,\"immigEcon|immigCult|immigSelf\")"
   ]
  },
  {
   "cell_type": "code",
   "execution_count": 162,
   "id": "0458809d",
   "metadata": {},
   "outputs": [
    {
     "data": {
      "text/plain": [
       "{'Brexit',\n",
       " 'Con',\n",
       " 'ContributeTake',\n",
       " 'Cultural',\n",
       " 'Econ',\n",
       " 'ExpDV',\n",
       " 'ExpManipCheck',\n",
       " 'ExpManipCheck2',\n",
       " 'Green',\n",
       " 'LD',\n",
       " 'Lab',\n",
       " 'ManipCheck',\n",
       " 'ManipCheck2',\n",
       " 'PC',\n",
       " 'SNP',\n",
       " 'Self',\n",
       " 'TIG',\n",
       " 'UKIP'}"
      ]
     },
     "execution_count": 162,
     "metadata": {},
     "output_type": "execute_result"
    }
   ],
   "source": [
    "set( [re.match(\"immig([A-Z].*)W\\d\",x).groups()[0] for x in search(df,\"immig\").index if re.match(\"immig([A-Z].*)W\\d\",x)] )"
   ]
  },
  {
   "cell_type": "code",
   "execution_count": null,
   "id": "7b07fded",
   "metadata": {},
   "outputs": [],
   "source": [
    "# ContributeTake, Cultural, Econ, Self\n",
    "# immigrantsWelfareState"
   ]
  },
  {
   "cell_type": "code",
   "execution_count": 168,
   "id": "494a46bb",
   "metadata": {},
   "outputs": [],
   "source": [
    "# df[search(df,\"immigContributeTake|immigCultural|immigEcon|immigSelf|immigrantsWelfareState\").index].stack().value_counts()"
   ]
  },
  {
   "cell_type": "code",
   "execution_count": 169,
   "id": "e0042e67",
   "metadata": {},
   "outputs": [],
   "source": [
    "immig_df = pd.DataFrame()\n",
    "immig_df[\"immig\"]=np.nan\n",
    "immig_df[\"wave\"]=np.nan\n",
    "immig_df[\"mean\"]=np.nan"
   ]
  },
  {
   "cell_type": "code",
   "execution_count": 170,
   "id": "daccf5ae",
   "metadata": {},
   "outputs": [],
   "source": [
    "var_list = search(df,\"immigContributeTake|immigCultural|immigEcon|immigSelf|immigrantsWelfareState\").index"
   ]
  },
  {
   "cell_type": "code",
   "execution_count": 172,
   "id": "6a2f67e1",
   "metadata": {},
   "outputs": [
    {
     "name": "stdout",
     "output_type": "stream",
     "text": [
      "immigEconW1\n",
      "immigCulturalW1\n",
      "immigrantsWelfareStateW1\n",
      "immigrantsWelfareStateW2\n",
      "immigEconW2\n",
      "immigCulturalW2\n",
      "immigrantsWelfareStateW3\n",
      "immigEconW3\n",
      "immigCulturalW3\n",
      "immigrantsWelfareStateW4\n",
      "immigEconW4\n",
      "immigCulturalW4\n",
      "immigContributeTakeW7\n",
      "immigrantsWelfareStateW7\n",
      "immigEconW7\n",
      "immigCulturalW7\n",
      "immigSelfW7\n",
      "immigContributeTakeW8\n",
      "immigrantsWelfareStateW8\n",
      "immigEconW8\n",
      "immigCulturalW8\n",
      "immigSelfW8\n",
      "immigSelfW9\n",
      "immigEconW10\n",
      "immigCulturalW10\n",
      "immigSelfW10\n",
      "immigrantsWelfareStateW10\n",
      "immigEconW11\n",
      "immigCulturalW11\n",
      "immigSelfW11\n",
      "immigrantsWelfareStateW11\n",
      "immigSelfW12\n",
      "immigEconW13\n",
      "immigCulturalW13\n",
      "immigSelfW13\n",
      "immigEconW14\n",
      "immigCulturalW14\n",
      "immigSelfW14\n",
      "immigEconW15\n",
      "immigCulturalW15\n",
      "immigSelfW15\n",
      "immigEconW16\n",
      "immigCulturalW16\n",
      "immigSelfW16\n",
      "immigEconW17\n",
      "immigCulturalW17\n",
      "immigSelfW17\n",
      "immigEconW20\n",
      "immigCulturalW20\n",
      "immigrantsWelfareStateW20\n",
      "immigSelfW20\n",
      "immigSelfW21\n",
      "immigEconW22\n",
      "immigSelfW22\n",
      "immigEconW23\n",
      "immigSelfW23\n"
     ]
    }
   ],
   "source": [
    "ind=0\n",
    "for x in var_list:\n",
    "    print(x)\n",
    "    wave = int(x.split(\"W\")[-1])\n",
    "    like = \"W\".join(x.split(\"W\")[:-1])\n",
    "    non_nulls = df[x].replace(\"Don't know\",np.nan).notnull()&df[num_to_weight[wave]].notnull()\n",
    "    like_mean= weighted_mean( list(zip(df[x][non_nulls].replace(\"Don't know\",np.nan).cat.codes.replace(-1,np.nan),\n",
    "                            df[num_to_weight[wave]][non_nulls])) )\n",
    "    immig_df.loc[ind] = [ like, wave, like_mean ] \n",
    "    ind = ind+1"
   ]
  },
  {
   "cell_type": "code",
   "execution_count": 173,
   "id": "059801d2",
   "metadata": {},
   "outputs": [
    {
     "data": {
      "text/plain": [
       "Text(0.5, 0, 'BES Wave')"
      ]
     },
     "execution_count": 173,
     "metadata": {},
     "output_type": "execute_result"
    },
    {
     "data": {
      "image/png": "[encoded data removed]",
      "text/plain": [
       "<Figure size 864x576 with 1 Axes>"
      ]
     },
     "metadata": {},
     "output_type": "display_data"
    }
   ],
   "source": [
    "plt.figure(figsize= (12,8))\n",
    "sns.lineplot(data=immig_df,x='wave', hue='immig',y='mean');\n",
    "plt.ylim([0,10]);\n",
    "plt.title(\"Mean Like Rating For Party/Politician\\nStrongly Dislike(0)-Strongly Like(10) DKs excluded\", fontsize=20);\n",
    "plt.xlabel(\"BES Wave\")"
   ]
  },
  {
   "cell_type": "code",
   "execution_count": 174,
   "id": "f8968f65",
   "metadata": {},
   "outputs": [
    {
     "data": {
      "text/plain": [
       "0         NaN\n",
       "1           5\n",
       "2           6\n",
       "3         NaN\n",
       "4         NaN\n",
       "         ... \n",
       "107791    NaN\n",
       "107792    NaN\n",
       "107793    NaN\n",
       "107794    NaN\n",
       "107795    NaN\n",
       "Name: immigEconW23, Length: 107796, dtype: category\n",
       "Categories (8, object): ['Bad for economy' < '2' < '3' < '4' < '5' < '6' < 'Good for economy' < 'Don't know']"
      ]
     },
     "execution_count": 174,
     "metadata": {},
     "output_type": "execute_result"
    }
   ],
   "source": [
    "df[\"immigEconW23\"]"
   ]
  },
  {
   "cell_type": "code",
   "execution_count": 179,
   "id": "5a7ed4a1",
   "metadata": {},
   "outputs": [
    {
     "data": {
      "text/plain": [
       "Bad for economy     0.072836\n",
       "2                   0.050782\n",
       "3                   0.069022\n",
       "4                   0.167662\n",
       "5                   0.199758\n",
       "6                   0.194166\n",
       "Good for economy    0.180088\n",
       "Don't know          0.065686\n",
       "Name: immigEconW20, dtype: float64"
      ]
     },
     "execution_count": 179,
     "metadata": {},
     "output_type": "execute_result"
    }
   ],
   "source": [
    "df[\"immigEconW20\"].value_counts(normalize=True).sort_index()"
   ]
  },
  {
   "cell_type": "code",
   "execution_count": 180,
   "id": "b8780d98",
   "metadata": {},
   "outputs": [
    {
     "data": {
      "text/plain": [
       "Bad for economy     0.106239\n",
       "2                   0.076933\n",
       "3                   0.082555\n",
       "4                   0.181266\n",
       "5                   0.190313\n",
       "6                   0.165918\n",
       "Good for economy    0.112798\n",
       "Don't know          0.083977\n",
       "Name: immigEconW23, dtype: float64"
      ]
     },
     "execution_count": 180,
     "metadata": {},
     "output_type": "execute_result"
    }
   ],
   "source": [
    "df[\"immigEconW23\"].value_counts(normalize=True).sort_index()"
   ]
  },
  {
   "cell_type": "code",
   "execution_count": 181,
   "id": "e8e0eea1",
   "metadata": {},
   "outputs": [
    {
     "data": {
      "text/plain": [
       "Allow many fewer    0.175734\n",
       "1                   0.038198\n",
       "2                   0.063843\n",
       "3                   0.085229\n",
       "4                   0.072073\n",
       "5                   0.218921\n",
       "6                   0.077062\n",
       "7                   0.079414\n",
       "8                   0.046523\n",
       "9                   0.012044\n",
       "Allow many more     0.036958\n",
       "Don't know          0.094000\n",
       "Name: immigSelfW20, dtype: float64"
      ]
     },
     "execution_count": 181,
     "metadata": {},
     "output_type": "execute_result"
    }
   ],
   "source": [
    "df[\"immigSelfW20\"].value_counts(normalize=True).sort_index()"
   ]
  },
  {
   "cell_type": "code",
   "execution_count": 182,
   "id": "40c208c3",
   "metadata": {},
   "outputs": [
    {
     "data": {
      "text/plain": [
       "Allow many fewer    0.186823\n",
       "1                   0.038677\n",
       "2                   0.059226\n",
       "3                   0.077321\n",
       "4                   0.060584\n",
       "5                   0.172445\n",
       "6                   0.080358\n",
       "7                   0.102620\n",
       "8                   0.063492\n",
       "9                   0.016285\n",
       "Allow many more     0.056415\n",
       "Don't know          0.085754\n",
       "Name: immigSelfW23, dtype: float64"
      ]
     },
     "execution_count": 182,
     "metadata": {},
     "output_type": "execute_result"
    }
   ],
   "source": [
    "df[\"immigSelfW23\"].value_counts(normalize=True).sort_index()"
   ]
  },
  {
   "cell_type": "code",
   "execution_count": 183,
   "id": "5c194767",
   "metadata": {},
   "outputs": [],
   "source": [
    "W23_only = pd.read_stata( \"E:\\\\Users\\\\Gamer\\\\Documents\\\\GitHub\\\\BES_analysis\\\\BES_analysis_data\\\\W23_only\\\\BES2019_W23_v23.0.dta\" )"
   ]
  },
  {
   "cell_type": "code",
   "execution_count": 186,
   "id": "72856e18",
   "metadata": {},
   "outputs": [
    {
     "data": {
      "text/plain": [
       "immigEcon      30949\n",
       "immigSelf      30949\n",
       "immigCon       30949\n",
       "immigLab       30949\n",
       "immigLD        30949\n",
       "immigSNP        3035\n",
       "immigPC         1861\n",
       "immigBrexit    30949\n",
       "immigGreen     30949\n",
       "dtype: int64"
      ]
     },
     "execution_count": 186,
     "metadata": {},
     "output_type": "execute_result"
    }
   ],
   "source": [
    "search(W23_only,\"immig\")"
   ]
  },
  {
   "cell_type": "code",
   "execution_count": 188,
   "id": "2315a8f6",
   "metadata": {},
   "outputs": [],
   "source": [
    "immigSelf = W23_only[\"immigSelf\"].replace(\"Don't know\",np.nan).cat.codes.replace(-1,np.nan)"
   ]
  },
  {
   "cell_type": "code",
   "execution_count": 189,
   "id": "6ccebbe7",
   "metadata": {},
   "outputs": [],
   "source": [
    "corrs = pd.get_dummies(W23_only).corrwith(immigSelf)"
   ]
  },
  {
   "cell_type": "code",
   "execution_count": 194,
   "id": "ecdbf2ad",
   "metadata": {},
   "outputs": [
    {
     "data": {
      "text/plain": [
       "leftRight_2                                                             0.243086\n",
       "immigCon_Allow many fewer                                               0.243889\n",
       "p_past_vote_2017_Labour                                                 0.244641\n",
       "al5_Disagree                                                            0.245338\n",
       "partyId_Labour                                                          0.245790\n",
       "ptvBrexitParty_Very unlikely                                            0.249004\n",
       "ptvLab_Very likely                                                      0.252800\n",
       "redistBrexit_Government should be less concerned about equal incomes    0.254056\n",
       "handleCorona_Very badly                                                 0.257982\n",
       "gayEquality_Not gone far enough                                         0.262062\n",
       "partygateAnger_Strongly agree                                           0.264810\n",
       "antiIntellectual_Strongly disagree                                      0.266649\n",
       "al1_Disagree                                                            0.269829\n",
       "femaleEquality_Not gone nearly far enough                               0.270018\n",
       "europeanness_Very strongly European                                     0.270320\n",
       "cvEconCon_Save the economy even if it increases infections              0.272288\n",
       "labLookAfterRetired_Fairly closely                                      0.273048\n",
       "labLookAfterMC_Fairly closely                                           0.274859\n",
       "conLookAfterYoung_Not at all closely                                    0.276285\n",
       "labLookAfterWhite_Fairly closely                                        0.278836\n",
       "bestOnMII_Labour                                                        0.281064\n",
       "p_education_age_20+                                                     0.282119\n",
       "al1_Strongly disagree                                                   0.283770\n",
       "p_paper_read_The Guardian                                               0.290478\n",
       "gayEquality_Not gone nearly far enough                                  0.293423\n",
       "effectsRemainEcon_Better                                                0.298012\n",
       "generalElectionVote_Labour                                              0.299147\n",
       "effectsRemainFinance_Better                                             0.299552\n",
       "likeBrexitParty_Strongly dislike                                        0.299821\n",
       "blackEquality_Not gone far enough                                       0.308769\n",
       "partygateCare_Strongly disagree                                         0.310377\n",
       "immigSelf_7                                                             0.318133\n",
       "redistCon_Government should be less concerned about equal incomes       0.320790\n",
       "p_past_vote_2019_Labour                                                 0.329834\n",
       "effectsRemainEcon_Much better                                           0.330498\n",
       "immigSelf_8                                                             0.334265\n",
       "conLookAfterUnemp_Not at all closely                                    0.341294\n",
       "likeCon_Strongly dislike                                                0.342921\n",
       "immigEcon_6                                                             0.347495\n",
       "blackEquality_Not gone nearly far enough                                0.350650\n",
       "ptvCon_Very unlikely                                                    0.352906\n",
       "likeJohnson_Strongly dislike                                            0.372490\n",
       "conLookAfterBA_Not at all closely                                       0.374012\n",
       "EUIntegrationSelf_Unite fully with the European Union                   0.401772\n",
       "al2_Strongly disagree                                                   0.407964\n",
       "p_eurefvote_I voted to remain                                           0.465995\n",
       "immigEcon_Good for economy                                              0.470040\n",
       "immigSelf_Allow many more                                               0.482479\n",
       "euRefVote_Stay/remain in the EU                                         0.543653\n",
       "euID_The remain side                                                    0.557461\n",
       "dtype: float64"
      ]
     },
     "execution_count": 194,
     "metadata": {},
     "output_type": "execute_result"
    }
   ],
   "source": [
    "corrs.dropna().sort_values().tail(50)"
   ]
  },
  {
   "cell_type": "code",
   "execution_count": 195,
   "id": "2fce37df",
   "metadata": {},
   "outputs": [],
   "source": [
    "immigEcon = W23_only[\"immigEcon\"].replace(\"Don't know\",np.nan).cat.codes.replace(-1,np.nan)"
   ]
  },
  {
   "cell_type": "code",
   "execution_count": 196,
   "id": "35781be3",
   "metadata": {},
   "outputs": [
    {
     "data": {
      "text/plain": [
       "handleCoronaLab_Quite well                                              0.222966\n",
       "p_past_vote_2017_Labour                                                 0.226901\n",
       "partyId_Labour                                                          0.228693\n",
       "immigCon_Allow many fewer                                               0.230154\n",
       "al5_Disagree                                                            0.230317\n",
       "labLookAfterBA_Fairly closely                                           0.234417\n",
       "partygateAnger_Strongly agree                                           0.239326\n",
       "femaleEquality_Not gone nearly far enough                               0.240811\n",
       "redistBrexit_Government should be less concerned about equal incomes    0.241529\n",
       "ptvLab_Very likely                                                      0.241568\n",
       "conLookAfterYoung_Not at all closely                                    0.247362\n",
       "ptvBrexitParty_Very unlikely                                            0.250650\n",
       "gayEquality_Not gone far enough                                         0.251750\n",
       "al1_Strongly disagree                                                   0.252397\n",
       "europeanness_Very strongly European                                     0.254853\n",
       "gayEquality_Not gone nearly far enough                                  0.255206\n",
       "al1_Disagree                                                            0.258293\n",
       "immigSelf_8                                                             0.260476\n",
       "cvEconCon_Save the economy even if it increases infections              0.260776\n",
       "antiIntellectual_Strongly disagree                                      0.263620\n",
       "labLookAfterRetired_Fairly closely                                      0.265081\n",
       "bestOnMII_Labour                                                        0.265265\n",
       "labLookAfterMC_Fairly closely                                           0.265282\n",
       "immigSelf_7                                                             0.269814\n",
       "p_paper_read_The Guardian                                               0.270612\n",
       "labLookAfterWhite_Fairly closely                                        0.275757\n",
       "effectsRemainFinance_Better                                             0.279531\n",
       "partygateCare_Strongly disagree                                         0.282542\n",
       "p_education_age_20+                                                     0.283101\n",
       "likeBrexitParty_Strongly dislike                                        0.283109\n",
       "effectsRemainEcon_Better                                                0.283419\n",
       "generalElectionVote_Labour                                              0.283893\n",
       "likeCon_Strongly dislike                                                0.305325\n",
       "blackEquality_Not gone far enough                                       0.305608\n",
       "p_past_vote_2019_Labour                                                 0.307508\n",
       "ptvCon_Very unlikely                                                    0.307579\n",
       "redistCon_Government should be less concerned about equal incomes       0.309882\n",
       "effectsRemainEcon_Much better                                           0.309997\n",
       "blackEquality_Not gone nearly far enough                                0.310503\n",
       "conLookAfterUnemp_Not at all closely                                    0.312019\n",
       "immigSelf_Allow many more                                               0.325683\n",
       "likeJohnson_Strongly dislike                                            0.334792\n",
       "conLookAfterBA_Not at all closely                                       0.343601\n",
       "EUIntegrationSelf_Unite fully with the European Union                   0.369610\n",
       "al2_Strongly disagree                                                   0.379398\n",
       "immigEcon_6                                                             0.425133\n",
       "p_eurefvote_I voted to remain                                           0.452154\n",
       "euRefVote_Stay/remain in the EU                                         0.512264\n",
       "euID_The remain side                                                    0.526981\n",
       "immigEcon_Good for economy                                              0.542000\n",
       "dtype: float64"
      ]
     },
     "execution_count": 196,
     "metadata": {},
     "output_type": "execute_result"
    }
   ],
   "source": [
    "corrs = pd.get_dummies(W23_only).corrwith(immigEcon)\n",
    "corrs.dropna().sort_values().tail(50)"
   ]
  },
  {
   "cell_type": "code",
   "execution_count": 197,
   "id": "30e81610",
   "metadata": {},
   "outputs": [
    {
     "data": {
      "text/plain": [
       "immigEcon_Bad for economy                                   -0.654869\n",
       "immigSelf_Allow many fewer                                  -0.620059\n",
       "euID_The leave side                                         -0.494484\n",
       "euRefVote_Leave the EU                                      -0.489976\n",
       "p_eurefvote_I voted to leave                                -0.486550\n",
       "EUIntegrationSelf_Protect our independence                  -0.448053\n",
       "al1_Strongly agree                                          -0.388085\n",
       "immigEcon_2                                                 -0.383222\n",
       "europeanness_Not at all European                            -0.379296\n",
       "p_past_vote_2019_Conservative                               -0.379125\n",
       "al2_Strongly agree                                          -0.367358\n",
       "blackEquality_Gone much too far                             -0.364538\n",
       "englishness_Very strongly English                           -0.351307\n",
       "al5_Strongly agree                                          -0.341459\n",
       "likeLab_Strongly dislike                                    -0.340374\n",
       "ptvLab_Very unlikely                                        -0.339578\n",
       "ptvGrn_Very unlikely                                        -0.337039\n",
       "handleCoronaLab_Very badly                                  -0.326501\n",
       "likeStarmer_Strongly dislike                                -0.326092\n",
       "likeGrn_Strongly dislike                                    -0.307524\n",
       "labLookAfterWhite_Not at all closely                        -0.306430\n",
       "ptvLD_Very unlikely                                         -0.305071\n",
       "gayEquality_Gone much too far                               -0.298514\n",
       "al3_Strongly agree                                          -0.297389\n",
       "likeLD_Strongly dislike                                     -0.294337\n",
       "immigLab_Allow many more                                    -0.290980\n",
       "p_past_vote_2015_United Kingdom Independence Party (UKIP)   -0.285066\n",
       "p_past_vote_2017_Conservative                               -0.284888\n",
       "partyId_Conservative                                        -0.274195\n",
       "handleUkraineLab_Very badly                                 -0.269853\n",
       "labLookAfterRetired_Not at all closely                      -0.265855\n",
       "immigLD_Allow many more                                     -0.264860\n",
       "keepNukes_Strongly agree                                    -0.262977\n",
       "generalElectionVote_Conservative                            -0.262145\n",
       "britishness_Very strongly British                           -0.243228\n",
       "labLookAfterBA_Very closely                                 -0.240842\n",
       "labLookAfterMC_Not at all closely                           -0.239625\n",
       "conLookAfterBA_Very closely                                 -0.239507\n",
       "effectsRemainEcon_Much worse                                -0.236153\n",
       "partygateCare_Strongly agree                                -0.236079\n",
       "EUIntegrationLab_Unite fully with the European Union        -0.231520\n",
       "ptvCon_Very likely                                          -0.230769\n",
       "immigEcon_3                                                 -0.227613\n",
       "effectsRemainEcon_Worse                                     -0.227487\n",
       "likeDavey_Strongly dislike                                  -0.221810\n",
       "blackEquality_Gone too far                                  -0.219457\n",
       "genTrust_Can't be too careful                               -0.215988\n",
       "enviroGrowth_Economic growth should have priority           -0.211484\n",
       "conLookAfterBA_Fairly closely                               -0.209257\n",
       "labLookAfterWC_Not at all closely                           -0.208073\n",
       "dtype: float64"
      ]
     },
     "execution_count": 197,
     "metadata": {},
     "output_type": "execute_result"
    }
   ],
   "source": [
    "corrs.dropna().sort_values().head(50)"
   ]
  },
  {
   "cell_type": "code",
   "execution_count": null,
   "id": "49545028",
   "metadata": {},
   "outputs": [],
   "source": [
    "# benefitsToMigrants\n",
    "# negotiationSpecifics(ContinuePayingMoney|AcceptingFoM|AcceptingEUReg|Nothing)\n",
    "# dealPriority(MarketAccess|NIUKBorder|NIEireBorder|TradeDeal|RedTape|Immig)\n",
    "# (conPriorities_immig|labPriorities_immig|ldPriorities_immig|ukipPriorities_immig)\n",
    "# low sample size even at peak bump around 2015 GE\n",
    "# achieveReduceImmig(Brexit|Con|Grn|LD|Lab|None|PC|SNP|TIG|UKIP)\n",
    "# responsibleImmig(Conservatives|LibDems|Labour|ScottishGovt|WelshGovt|None|DontKnow)\n",
    "# (immigrantsWelfareState|effectsEUImmigration|euPriorityBalance)\n",
    "# (changeImmig|changeImmigLab|controlImmig)\n",
    "# (immigrationLevel|immigContributeTake)\n",
    "# (labHandleImmig|govtHandleImmig)\n",
    "# studentsMore|euMore|asylumMore|familiesMore|noneuMore\n",
    "# immgSelf|Con|Lab|TIG|Brexit|Green|UKIP|PC|SNP|LD\n",
    "# immgEcon, immigCultural"
   ]
  },
  {
   "cell_type": "code",
   "execution_count": 201,
   "id": "2e5212e1",
   "metadata": {},
   "outputs": [
    {
     "data": {
      "text/plain": [
       "immigGreenW16                37959\n",
       "immigTIGW16                  37959\n",
       "immigBrexitW16               37959\n",
       "immigEconW17                 34366\n",
       "immigCulturalW17             34366\n",
       "immigSelfW17                 34366\n",
       "immigConW17                  34366\n",
       "immigLabW17                  34366\n",
       "immigLDW17                   34366\n",
       "immigSNPW17                   3388\n",
       "immigPCW17                    2084\n",
       "immigBrexitW17               34366\n",
       "immigGreenW17                34366\n",
       "immigEconW20                 31468\n",
       "immigCulturalW20             31468\n",
       "immigrantsWelfareStateW20    31468\n",
       "immigSelfW20                 31468\n",
       "immigConW20                  31468\n",
       "immigLabW20                  31468\n",
       "immigLDW20                   31468\n",
       "immigSNPW20                   2730\n",
       "immigPCW20                    1804\n",
       "immigBrexitW20               31468\n",
       "immigGreenW20                31468\n",
       "immigSelfW21                 30281\n",
       "immigConW21                  30281\n",
       "immigLabW21                  30281\n",
       "immigLDW21                   30281\n",
       "immigSNPW21                   2837\n",
       "immigPCW21                    1562\n",
       "immigBrexitW21               30281\n",
       "immigGreenW21                30281\n",
       "immigEconW22                 28113\n",
       "immigSelfW22                 28113\n",
       "immigConW22                  28113\n",
       "immigLabW22                  28113\n",
       "immigLDW22                   28113\n",
       "immigSNPW22                   2580\n",
       "immigPCW22                    1524\n",
       "immigBrexitW22               28113\n",
       "immigGreenW22                28113\n",
       "immigEconW23                 30949\n",
       "immigSelfW23                 30949\n",
       "immigConW23                  30949\n",
       "immigLabW23                  30949\n",
       "immigLDW23                   30949\n",
       "immigSNPW23                   3035\n",
       "immigPCW23                    1861\n",
       "immigBrexitW23               30949\n",
       "immigGreenW23                30949\n",
       "dtype: int64"
      ]
     },
     "execution_count": 201,
     "metadata": {},
     "output_type": "execute_result"
    }
   ],
   "source": [
    "match(df,\"immig|studentsMore|euMore|asylumMore|familiesMore|noneuMore|changeImmig|controlImmig\")"
   ]
  },
  {
   "cell_type": "code",
   "execution_count": 241,
   "id": "2b1358b2",
   "metadata": {},
   "outputs": [],
   "source": [
    "immig_df = pd.DataFrame()\n",
    "immig_df[\"immig\"]=np.nan\n",
    "immig_df[\"wave\"]=np.nan\n",
    "immig_df[\"mean\"]=np.nan\n",
    "\n",
    "var_list = match( df,\"immigSelf|immigEcon|immigCultural|studentsMore|euMore|asylumMore|familiesMore|noneuMore|changeImmig$|controlImmig\"+\\\n",
    "                 \"|immigrationLevel|immigContributeTake|immigrantsWelfareState\" ).index"
   ]
  },
  {
   "cell_type": "code",
   "execution_count": 212,
   "id": "0d042296",
   "metadata": {},
   "outputs": [
    {
     "data": {
      "text/plain": [
       "Text(0.5, 0, 'BES Wave')"
      ]
     },
     "execution_count": 212,
     "metadata": {},
     "output_type": "execute_result"
    },
    {
     "data": {
      "image/png": "[encoded data removed]",
      "text/plain": [
       "<Figure size 864x576 with 1 Axes>"
      ]
     },
     "metadata": {},
     "output_type": "display_data"
    }
   ],
   "source": [
    "ind=0\n",
    "for x in var_list:\n",
    "#     print(x)\n",
    "    wave = int(x.split(\"W\")[-1])\n",
    "    like = \"W\".join(x.split(\"W\")[:-1])\n",
    "    non_nulls = df[x].replace(\"Don't know\",np.nan).notnull()&df[num_to_weight[wave]].notnull()\n",
    "    like_mean= weighted_mean( list(zip(df[x][non_nulls].replace(\"Don't know\",np.nan).cat.codes.replace(-1,np.nan),\n",
    "                            df[num_to_weight[wave]][non_nulls])) )\n",
    "    immig_df.loc[ind] = [ like, wave, like_mean ] \n",
    "    ind = ind+1\n",
    "    \n",
    "plt.figure(figsize= (12,8))\n",
    "sns.lineplot(data=immig_df,x='wave', hue='immig',y='mean', style='immig',markers=True,dashes=False);\n",
    "plt.ylim([0,10]);\n",
    "plt.title(\"Mean Like Rating For Party/Politician\\nStrongly Dislike(0)-Strongly Like(10) DKs excluded\", fontsize=20);\n",
    "plt.xlabel(\"BES Wave\");"
   ]
  },
  {
   "cell_type": "code",
   "execution_count": 222,
   "id": "6fea24dd",
   "metadata": {},
   "outputs": [],
   "source": [
    "BES_file_manifest = pd.read_csv( BES_small_data_files + \"BES_file_manifest.csv\" )"
   ]
  },
  {
   "cell_type": "code",
   "execution_count": 232,
   "id": "9f7b5d9a",
   "metadata": {},
   "outputs": [],
   "source": [
    "wave_to_date = BES_file_manifest[BES_file_manifest[\"Only_or_Combined\"]==\"Only\"].set_index(\"Wave No\")[\"Date_Start\"].to_dict()"
   ]
  },
  {
   "cell_type": "code",
   "execution_count": 233,
   "id": "fb1dcf22",
   "metadata": {},
   "outputs": [],
   "source": [
    "wave_to_date[22] = 'Nov-21'\n",
    "wave_to_date[23] = 'May-22'\n"
   ]
  },
  {
   "cell_type": "code",
   "execution_count": 321,
   "id": "9a0202ca",
   "metadata": {},
   "outputs": [
    {
     "data": {
      "text/plain": [
       "changeImmigW1        30538\n",
       "changeImmigLabW1     30543\n",
       "changeImmigW2        30258\n",
       "changeImmigLabW2     30258\n",
       "changeImmigW3        27830\n",
       "changeImmigLabW3     27831\n",
       "changeImmigW4        31551\n",
       "changeImmigLabW4     31551\n",
       "changeImmigW7        30895\n",
       "changeImmigLabW7     30895\n",
       "changeImmigW8        33502\n",
       "changeImmigW10       30237\n",
       "changeImmigLabW10    30237\n",
       "changeImmigW11       30956\n",
       "changeImmigW14       31063\n",
       "changeImmigW15       30842\n",
       "changeImmigW16       37959\n",
       "changeImmigW17       34366\n",
       "dtype: int64"
      ]
     },
     "execution_count": 321,
     "metadata": {},
     "output_type": "execute_result"
    }
   ],
   "source": [
    "search(df,\"changeImmig\")"
   ]
  },
  {
   "cell_type": "code",
   "execution_count": 322,
   "id": "f9ca43ea",
   "metadata": {},
   "outputs": [],
   "source": [
    "immig_df = pd.DataFrame()\n",
    "immig_df[\"immig\"]=np.nan\n",
    "immig_df[\"wave\"]=np.nan\n",
    "immig_df[\"mean\"]=np.nan\n",
    "\n",
    "var_list = match( df,\"immigSelf|immigEcon|immigCultural|studentsMore|euMore|asylumMore|familiesMore|noneuMore|changeImmigW\\d+$|controlImmig\"+\\\n",
    "                 \"|immigrantsWelfareState\" ).index"
   ]
  },
  {
   "cell_type": "code",
   "execution_count": 333,
   "id": "28193c48",
   "metadata": {},
   "outputs": [
    {
     "data": {
      "image/png": "[encoded data removed]",
      "text/plain": [
       "<Figure size 864x576 with 1 Axes>"
      ]
     },
     "metadata": {},
     "output_type": "display_data"
    }
   ],
   "source": [
    "immig_df = pd.DataFrame()\n",
    "immig_df[\"immig\"]=np.nan\n",
    "immig_df[\"wave\"]=np.nan\n",
    "immig_df[\"mean\"]=np.nan\n",
    "\n",
    "max_dict = {}\n",
    "\n",
    "ind=0\n",
    "for x in var_list:\n",
    "#     print(x)\n",
    "    wave = int(x.split(\"W\")[-1])\n",
    "    like = \"W\".join(x.split(\"W\")[:-1])\n",
    "    non_nulls = df[x].replace(\"Don't know\",np.nan).notnull()&df[num_to_weight[wave]].notnull()\n",
    "    like_mean= weighted_mean( list(zip(df[x][non_nulls].replace(\"Don't know\",np.nan).cat.codes.replace(-1,np.nan),\n",
    "                            df[num_to_weight[wave]][non_nulls])) )\n",
    "    df_max = df[x].replace(\"Don't know\",np.nan).cat.codes.replace(-1,np.nan).max()\n",
    "    if like not in max_dict.keys():\n",
    "        max_dict[like] = df_max\n",
    "    elif df_max > max_dict[like]:\n",
    "        max_dict[like] = df_max\n",
    "        \n",
    "    immig_df.loc[ind] = [ like, wave, like_mean ] \n",
    "    ind = ind+1\n",
    "    \n",
    "immig_df[\"date\"] = immig_df[\"wave\"].apply(lambda x: pd.to_datetime( wave_to_date[int(x)],format=\"%b-%y\" ))\n",
    "immig_df[\"mean\"] = immig_df[\"mean\"]/immig_df[\"immig\"].apply(lambda x: max_dict[x])\n",
    "    \n",
    "plt.figure(figsize= (12,8))\n",
    "sns.lineplot(data=immig_df,x='date', hue='immig',y='mean', style='immig',markers=True,dashes=False);\n",
    "plt.ylim([0,1]);\n",
    "plt.title(\"Mean Like Rating For Party/Politician\\nStrongly Dislike(0)-Strongly Like(10) DKs excluded\", fontsize=20);\n",
    "plt.xlabel(\"BES Wave\");"
   ]
  },
  {
   "cell_type": "code",
   "execution_count": null,
   "id": "39e47c8d",
   "metadata": {},
   "outputs": [],
   "source": []
  },
  {
   "cell_type": "code",
   "execution_count": null,
   "id": "374dbba8",
   "metadata": {},
   "outputs": [],
   "source": [
    "#########\n",
    "# * get maxes for each dataset to scale DONE\n",
    "# * better labels = ques \n",
    "# * add event lines / 50% line \n",
    "\n",
    "# * look at shifts DONE\n",
    "# * try again with wave 22!\n"
   ]
  },
  {
   "cell_type": "code",
   "execution_count": 249,
   "id": "9b8a9784",
   "metadata": {},
   "outputs": [],
   "source": [
    "immigEconShift20_22 = df[\"immigEconW22\"].replace(\"Don't know\",np.nan).cat.codes.replace(-1,np.nan) - df[\"immigEconW20\"].replace(\"Don't know\",np.nan).cat.codes.replace(-1,np.nan)\n",
    "immigSelfShift22_23 = df[\"immigSelfW23\"].replace(\"Don't know\",np.nan).cat.codes.replace(-1,np.nan) - df[\"immigSelfW22\"].replace(\"Don't know\",np.nan).cat.codes.replace(-1,np.nan)"
   ]
  },
  {
   "cell_type": "code",
   "execution_count": 334,
   "id": "971a7c34",
   "metadata": {},
   "outputs": [],
   "source": [
    "# pd.get_dummies(W23_only)"
   ]
  },
  {
   "cell_type": "code",
   "execution_count": 285,
   "id": "5dd25b70",
   "metadata": {},
   "outputs": [],
   "source": [
    "W23_only = W23_only.set_index(\"id\")"
   ]
  },
  {
   "cell_type": "code",
   "execution_count": 284,
   "id": "4f13e00a",
   "metadata": {},
   "outputs": [],
   "source": [
    "immigSelfShift22_23_W23 = (immigSelfShift22_23[ df[\"id\"].isin(W23_only[\"id\"]) ])\n",
    "immigSelfShift22_23_W23.index = (W23_only[\"id\"])\n",
    "\n",
    "immigEconShift20_22_W23 = (immigEconShift20_22[ df[\"id\"].isin(W23_only[\"id\"]) ])\n",
    "immigEconShift20_22_W23.index = (W23_only[\"id\"])"
   ]
  },
  {
   "cell_type": "code",
   "execution_count": null,
   "id": "21369f99",
   "metadata": {},
   "outputs": [],
   "source": []
  },
  {
   "cell_type": "code",
   "execution_count": null,
   "id": "89e64cac",
   "metadata": {},
   "outputs": [],
   "source": []
  },
  {
   "cell_type": "code",
   "execution_count": 289,
   "id": "3e6009f7",
   "metadata": {},
   "outputs": [
    {
     "data": {
      "text/plain": [
       "p_education_Prefer not to say          0.026084\n",
       "immigEcon_Good for economy             0.026526\n",
       "p_welsh_const_vote_2016_Labour         0.026582\n",
       "oslaua_Blackpool                       0.026582\n",
       "immigEcon_4                            0.027887\n",
       "immigCon_7                             0.028303\n",
       "ukraineEconImpact_69                   0.028419\n",
       "likeStarmer_Strongly like              0.028477\n",
       "immigCon_5                             0.029464\n",
       "immigCon_8                             0.029910\n",
       "labLookAfterNoEducated_Very closely    0.030116\n",
       "al1_Agree                              0.030884\n",
       "immigSelf_5                            0.031203\n",
       "al5_Agree                              0.033096\n",
       "immigCon_6                             0.037028\n",
       "immigSelf_6                            0.038975\n",
       "immigSelf_9                            0.056311\n",
       "immigSelf_7                            0.073715\n",
       "immigSelf_8                            0.080926\n",
       "immigSelf_Allow many more              0.128515\n",
       "dtype: float64"
      ]
     },
     "execution_count": 289,
     "metadata": {},
     "output_type": "execute_result"
    }
   ],
   "source": [
    "corrs = pd.get_dummies(W23_only).corrwith(immigSelfShift22_23_W23)\n",
    "corrs.dropna().sort_values().tail(20)"
   ]
  },
  {
   "cell_type": "code",
   "execution_count": 288,
   "id": "3c1d191f",
   "metadata": {},
   "outputs": [
    {
     "data": {
      "text/plain": [
       "p_work_stat_Working full time (30 or more hours per week)    0.058573\n",
       "lr1_Strongly agree                                           0.059422\n",
       "keepNukes_Strongly disagree                                  0.060006\n",
       "EUIntegrationSelf_Unite fully with the European Union        0.061567\n",
       "effectsRemainEcon_Much better                                0.063148\n",
       "handleUkraine_Very badly                                     0.064051\n",
       "immigSelf_Allow many more                                    0.064798\n",
       "conLookAfterWC_Not at all closely                            0.064828\n",
       "conLookAfterUnemp_Not at all closely                         0.066850\n",
       "immigEcon_6                                                  0.066855\n",
       "partygateCare_Strongly disagree                              0.068505\n",
       "conLookAfterBA_Not at all closely                            0.069886\n",
       "handleCorona_Very badly                                      0.073485\n",
       "partygateAnger_Strongly agree                                0.073545\n",
       "ptvCon_Very unlikely                                         0.074901\n",
       "euID_The remain side                                         0.078988\n",
       "likeJohnson_Strongly dislike                                 0.079519\n",
       "likeCon_Strongly dislike                                     0.083221\n",
       "immigEcon_Good for economy                                   0.089354\n",
       "euRefVote_Stay/remain in the EU                              0.093988\n",
       "dtype: float64"
      ]
     },
     "execution_count": 288,
     "metadata": {},
     "output_type": "execute_result"
    }
   ],
   "source": [
    "corrs = pd.get_dummies(W23_only).corrwith(immigEconShift20_22_W23)\n",
    "corrs.dropna().sort_values().tail(20)"
   ]
  },
  {
   "cell_type": "code",
   "execution_count": 302,
   "id": "bba46d2d",
   "metadata": {},
   "outputs": [
    {
     "data": {
      "text/plain": [
       "<matplotlib.axes._subplots.AxesSubplot at 0x212b50e28c8>"
      ]
     },
     "execution_count": 302,
     "metadata": {},
     "output_type": "execute_result"
    },
    {
     "data": {
      "image/png": "[encoded data removed]",
      "text/plain": [
       "<Figure size 432x288 with 1 Axes>"
      ]
     },
     "metadata": {},
     "output_type": "display_data"
    }
   ],
   "source": [
    "sns.barplot( data= immigEconShift20_22_W23.value_counts(dropna=True).reset_index(),x='index',y=0 )"
   ]
  },
  {
   "cell_type": "code",
   "execution_count": 316,
   "id": "5b764f01",
   "metadata": {},
   "outputs": [
    {
     "data": {
      "text/plain": [
       "<matplotlib.axes._subplots.AxesSubplot at 0x212b1999a08>"
      ]
     },
     "execution_count": 316,
     "metadata": {},
     "output_type": "execute_result"
    },
    {
     "data": {
      "image/png": "[encoded data removed]",
      "text/plain": [
       "<Figure size 432x288 with 1 Axes>"
      ]
     },
     "metadata": {},
     "output_type": "display_data"
    }
   ],
   "source": [
    "sns.barplot( data= immigSelfShift22_23_W23.value_counts(dropna=True).reset_index(),x='index',y=0 )"
   ]
  },
  {
   "cell_type": "code",
   "execution_count": 304,
   "id": "19c93690",
   "metadata": {},
   "outputs": [],
   "source": [
    "W23_only[\"immigEconShift20_22_W23\"] = immigEconShift20_22_W23\n",
    "W23_only[\"immigSelfShift22_23_W23\"] = immigSelfShift22_23_W23"
   ]
  },
  {
   "cell_type": "code",
   "execution_count": 315,
   "id": "204368ae",
   "metadata": {},
   "outputs": [
    {
     "data": {
      "text/html": [
       "<style  type=\"text/css\" >\n",
       "</style><table id=\"T_4a1a1_\" style='display:inline'><caption>Top 20 positive (spearman) correlations for immigEconShift20_22_W23</caption><thead>    <tr>        <th class=\"blank level0\" ></th>        <th class=\"col_heading level0 col0\" >r</th>        <th class=\"col_heading level0 col1\" >p</th>        <th class=\"col_heading level0 col2\" >N</th>    </tr></thead><tbody>\n",
       "                <tr>\n",
       "                        <th id=\"T_4a1a1_level0_row0\" class=\"row_heading level0 row0\" >euRefVote_Stay/remain in the EU</th>\n",
       "                        <td id=\"T_4a1a1_row0_col0\" class=\"data row0 col0\" >0.100000</td>\n",
       "                        <td id=\"T_4a1a1_row0_col1\" class=\"data row0 col1\" >0.00</td>\n",
       "                        <td id=\"T_4a1a1_row0_col2\" class=\"data row0 col2\" >10610</td>\n",
       "            </tr>\n",
       "            <tr>\n",
       "                        <th id=\"T_4a1a1_level0_row1\" class=\"row_heading level0 row1\" >likeCon_Strongly dislike</th>\n",
       "                        <td id=\"T_4a1a1_row1_col0\" class=\"data row1 col0\" >0.090000</td>\n",
       "                        <td id=\"T_4a1a1_row1_col1\" class=\"data row1 col1\" >0.00</td>\n",
       "                        <td id=\"T_4a1a1_row1_col2\" class=\"data row1 col2\" >10610</td>\n",
       "            </tr>\n",
       "            <tr>\n",
       "                        <th id=\"T_4a1a1_level0_row2\" class=\"row_heading level0 row2\" >euID_The remain side</th>\n",
       "                        <td id=\"T_4a1a1_row2_col0\" class=\"data row2 col0\" >0.080000</td>\n",
       "                        <td id=\"T_4a1a1_row2_col1\" class=\"data row2 col1\" >0.00</td>\n",
       "                        <td id=\"T_4a1a1_row2_col2\" class=\"data row2 col2\" >10610</td>\n",
       "            </tr>\n",
       "            <tr>\n",
       "                        <th id=\"T_4a1a1_level0_row3\" class=\"row_heading level0 row3\" >ptvCon_Very unlikely</th>\n",
       "                        <td id=\"T_4a1a1_row3_col0\" class=\"data row3 col0\" >0.080000</td>\n",
       "                        <td id=\"T_4a1a1_row3_col1\" class=\"data row3 col1\" >0.00</td>\n",
       "                        <td id=\"T_4a1a1_row3_col2\" class=\"data row3 col2\" >10610</td>\n",
       "            </tr>\n",
       "            <tr>\n",
       "                        <th id=\"T_4a1a1_level0_row4\" class=\"row_heading level0 row4\" >likeJohnson_Strongly dislike</th>\n",
       "                        <td id=\"T_4a1a1_row4_col0\" class=\"data row4 col0\" >0.080000</td>\n",
       "                        <td id=\"T_4a1a1_row4_col1\" class=\"data row4 col1\" >0.00</td>\n",
       "                        <td id=\"T_4a1a1_row4_col2\" class=\"data row4 col2\" >10610</td>\n",
       "            </tr>\n",
       "            <tr>\n",
       "                        <th id=\"T_4a1a1_level0_row5\" class=\"row_heading level0 row5\" >partygateAnger_Strongly agree</th>\n",
       "                        <td id=\"T_4a1a1_row5_col0\" class=\"data row5 col0\" >0.080000</td>\n",
       "                        <td id=\"T_4a1a1_row5_col1\" class=\"data row5 col1\" >0.00</td>\n",
       "                        <td id=\"T_4a1a1_row5_col2\" class=\"data row5 col2\" >10610</td>\n",
       "            </tr>\n",
       "            <tr>\n",
       "                        <th id=\"T_4a1a1_level0_row6\" class=\"row_heading level0 row6\" >handleCorona_Very badly</th>\n",
       "                        <td id=\"T_4a1a1_row6_col0\" class=\"data row6 col0\" >0.080000</td>\n",
       "                        <td id=\"T_4a1a1_row6_col1\" class=\"data row6 col1\" >0.00</td>\n",
       "                        <td id=\"T_4a1a1_row6_col2\" class=\"data row6 col2\" >10610</td>\n",
       "            </tr>\n",
       "            <tr>\n",
       "                        <th id=\"T_4a1a1_level0_row7\" class=\"row_heading level0 row7\" >conLookAfterBA_Not at all closely</th>\n",
       "                        <td id=\"T_4a1a1_row7_col0\" class=\"data row7 col0\" >0.080000</td>\n",
       "                        <td id=\"T_4a1a1_row7_col1\" class=\"data row7 col1\" >0.00</td>\n",
       "                        <td id=\"T_4a1a1_row7_col2\" class=\"data row7 col2\" >10610</td>\n",
       "            </tr>\n",
       "            <tr>\n",
       "                        <th id=\"T_4a1a1_level0_row8\" class=\"row_heading level0 row8\" >immigSelf_Allow many more</th>\n",
       "                        <td id=\"T_4a1a1_row8_col0\" class=\"data row8 col0\" >0.080000</td>\n",
       "                        <td id=\"T_4a1a1_row8_col1\" class=\"data row8 col1\" >0.00</td>\n",
       "                        <td id=\"T_4a1a1_row8_col2\" class=\"data row8 col2\" >10610</td>\n",
       "            </tr>\n",
       "            <tr>\n",
       "                        <th id=\"T_4a1a1_level0_row9\" class=\"row_heading level0 row9\" >partygateCare_Strongly disagree</th>\n",
       "                        <td id=\"T_4a1a1_row9_col0\" class=\"data row9 col0\" >0.080000</td>\n",
       "                        <td id=\"T_4a1a1_row9_col1\" class=\"data row9 col1\" >0.00</td>\n",
       "                        <td id=\"T_4a1a1_row9_col2\" class=\"data row9 col2\" >10610</td>\n",
       "            </tr>\n",
       "            <tr>\n",
       "                        <th id=\"T_4a1a1_level0_row10\" class=\"row_heading level0 row10\" >EUIntegrationSelf_Unite fully with the European[...]</th>\n",
       "                        <td id=\"T_4a1a1_row10_col0\" class=\"data row10 col0\" >0.070000</td>\n",
       "                        <td id=\"T_4a1a1_row10_col1\" class=\"data row10 col1\" >0.00</td>\n",
       "                        <td id=\"T_4a1a1_row10_col2\" class=\"data row10 col2\" >10610</td>\n",
       "            </tr>\n",
       "            <tr>\n",
       "                        <th id=\"T_4a1a1_level0_row11\" class=\"row_heading level0 row11\" >conLookAfterWC_Not at all closely</th>\n",
       "                        <td id=\"T_4a1a1_row11_col0\" class=\"data row11 col0\" >0.070000</td>\n",
       "                        <td id=\"T_4a1a1_row11_col1\" class=\"data row11 col1\" >0.00</td>\n",
       "                        <td id=\"T_4a1a1_row11_col2\" class=\"data row11 col2\" >10610</td>\n",
       "            </tr>\n",
       "            <tr>\n",
       "                        <th id=\"T_4a1a1_level0_row12\" class=\"row_heading level0 row12\" >brexitEconImpact_Large negative impact</th>\n",
       "                        <td id=\"T_4a1a1_row12_col0\" class=\"data row12 col0\" >0.070000</td>\n",
       "                        <td id=\"T_4a1a1_row12_col1\" class=\"data row12 col1\" >0.00</td>\n",
       "                        <td id=\"T_4a1a1_row12_col2\" class=\"data row12 col2\" >10610</td>\n",
       "            </tr>\n",
       "            <tr>\n",
       "                        <th id=\"T_4a1a1_level0_row13\" class=\"row_heading level0 row13\" >effectsRemainEcon_Much better</th>\n",
       "                        <td id=\"T_4a1a1_row13_col0\" class=\"data row13 col0\" >0.070000</td>\n",
       "                        <td id=\"T_4a1a1_row13_col1\" class=\"data row13 col1\" >0.00</td>\n",
       "                        <td id=\"T_4a1a1_row13_col2\" class=\"data row13 col2\" >10610</td>\n",
       "            </tr>\n",
       "            <tr>\n",
       "                        <th id=\"T_4a1a1_level0_row14\" class=\"row_heading level0 row14\" >conLookAfterUnemp_Not at all closely</th>\n",
       "                        <td id=\"T_4a1a1_row14_col0\" class=\"data row14 col0\" >0.070000</td>\n",
       "                        <td id=\"T_4a1a1_row14_col1\" class=\"data row14 col1\" >0.00</td>\n",
       "                        <td id=\"T_4a1a1_row14_col2\" class=\"data row14 col2\" >10610</td>\n",
       "            </tr>\n",
       "            <tr>\n",
       "                        <th id=\"T_4a1a1_level0_row15\" class=\"row_heading level0 row15\" >lr1_Strongly agree</th>\n",
       "                        <td id=\"T_4a1a1_row15_col0\" class=\"data row15 col0\" >0.070000</td>\n",
       "                        <td id=\"T_4a1a1_row15_col1\" class=\"data row15 col1\" >0.00</td>\n",
       "                        <td id=\"T_4a1a1_row15_col2\" class=\"data row15 col2\" >10610</td>\n",
       "            </tr>\n",
       "            <tr>\n",
       "                        <th id=\"T_4a1a1_level0_row16\" class=\"row_heading level0 row16\" >selfOccStatus_An employee</th>\n",
       "                        <td id=\"T_4a1a1_row16_col0\" class=\"data row16 col0\" >0.060000</td>\n",
       "                        <td id=\"T_4a1a1_row16_col1\" class=\"data row16 col1\" >0.00</td>\n",
       "                        <td id=\"T_4a1a1_row16_col2\" class=\"data row16 col2\" >10610</td>\n",
       "            </tr>\n",
       "            <tr>\n",
       "                        <th id=\"T_4a1a1_level0_row17\" class=\"row_heading level0 row17\" >al1_Disagree</th>\n",
       "                        <td id=\"T_4a1a1_row17_col0\" class=\"data row17 col0\" >0.060000</td>\n",
       "                        <td id=\"T_4a1a1_row17_col1\" class=\"data row17 col1\" >0.00</td>\n",
       "                        <td id=\"T_4a1a1_row17_col2\" class=\"data row17 col2\" >10610</td>\n",
       "            </tr>\n",
       "            <tr>\n",
       "                        <th id=\"T_4a1a1_level0_row18\" class=\"row_heading level0 row18\" >enviroGrowth_Protecting the environment should[...]</th>\n",
       "                        <td id=\"T_4a1a1_row18_col0\" class=\"data row18 col0\" >0.060000</td>\n",
       "                        <td id=\"T_4a1a1_row18_col1\" class=\"data row18 col1\" >0.00</td>\n",
       "                        <td id=\"T_4a1a1_row18_col2\" class=\"data row18 col2\" >10610</td>\n",
       "            </tr>\n",
       "            <tr>\n",
       "                        <th id=\"T_4a1a1_level0_row19\" class=\"row_heading level0 row19\" >redistCon_Government should be less concerned[...]</th>\n",
       "                        <td id=\"T_4a1a1_row19_col0\" class=\"data row19 col0\" >0.060000</td>\n",
       "                        <td id=\"T_4a1a1_row19_col1\" class=\"data row19 col1\" >0.00</td>\n",
       "                        <td id=\"T_4a1a1_row19_col2\" class=\"data row19 col2\" >10610</td>\n",
       "            </tr>\n",
       "    </tbody></table><style  type=\"text/css\" >\n",
       "</style><table id=\"T_a70e0_\" style='display:inline'><caption>Top 20 negative (spearman) correlations for immigEconShift20_22_W23</caption><thead>    <tr>        <th class=\"blank level0\" ></th>        <th class=\"col_heading level0 col0\" >r</th>        <th class=\"col_heading level0 col1\" >p</th>        <th class=\"col_heading level0 col2\" >N</th>    </tr></thead><tbody>\n",
       "                <tr>\n",
       "                        <th id=\"T_a70e0_level0_row0\" class=\"row_heading level0 row0\" >p_past_vote_2019_Conservative</th>\n",
       "                        <td id=\"T_a70e0_row0_col0\" class=\"data row0 col0\" >-0.110000</td>\n",
       "                        <td id=\"T_a70e0_row0_col1\" class=\"data row0 col1\" >0.00</td>\n",
       "                        <td id=\"T_a70e0_row0_col2\" class=\"data row0 col2\" >10610</td>\n",
       "            </tr>\n",
       "            <tr>\n",
       "                        <th id=\"T_a70e0_level0_row1\" class=\"row_heading level0 row1\" >euRefVote_Leave the EU</th>\n",
       "                        <td id=\"T_a70e0_row1_col0\" class=\"data row1 col0\" >-0.100000</td>\n",
       "                        <td id=\"T_a70e0_row1_col1\" class=\"data row1 col1\" >0.00</td>\n",
       "                        <td id=\"T_a70e0_row1_col2\" class=\"data row1 col2\" >10610</td>\n",
       "            </tr>\n",
       "            <tr>\n",
       "                        <th id=\"T_a70e0_level0_row2\" class=\"row_heading level0 row2\" >EUIntegrationSelf_Protect our independence</th>\n",
       "                        <td id=\"T_a70e0_row2_col0\" class=\"data row2 col0\" >-0.100000</td>\n",
       "                        <td id=\"T_a70e0_row2_col1\" class=\"data row2 col1\" >0.00</td>\n",
       "                        <td id=\"T_a70e0_row2_col2\" class=\"data row2 col2\" >10610</td>\n",
       "            </tr>\n",
       "            <tr>\n",
       "                        <th id=\"T_a70e0_level0_row3\" class=\"row_heading level0 row3\" >euID_The leave side</th>\n",
       "                        <td id=\"T_a70e0_row3_col0\" class=\"data row3 col0\" >-0.100000</td>\n",
       "                        <td id=\"T_a70e0_row3_col1\" class=\"data row3 col1\" >0.00</td>\n",
       "                        <td id=\"T_a70e0_row3_col2\" class=\"data row3 col2\" >10610</td>\n",
       "            </tr>\n",
       "            <tr>\n",
       "                        <th id=\"T_a70e0_level0_row4\" class=\"row_heading level0 row4\" >generalElectionVote_Conservative</th>\n",
       "                        <td id=\"T_a70e0_row4_col0\" class=\"data row4 col0\" >-0.090000</td>\n",
       "                        <td id=\"T_a70e0_row4_col1\" class=\"data row4 col1\" >0.00</td>\n",
       "                        <td id=\"T_a70e0_row4_col2\" class=\"data row4 col2\" >10610</td>\n",
       "            </tr>\n",
       "            <tr>\n",
       "                        <th id=\"T_a70e0_level0_row5\" class=\"row_heading level0 row5\" >keepNukes_Strongly agree</th>\n",
       "                        <td id=\"T_a70e0_row5_col0\" class=\"data row5 col0\" >-0.090000</td>\n",
       "                        <td id=\"T_a70e0_row5_col1\" class=\"data row5 col1\" >0.00</td>\n",
       "                        <td id=\"T_a70e0_row5_col2\" class=\"data row5 col2\" >10610</td>\n",
       "            </tr>\n",
       "            <tr>\n",
       "                        <th id=\"T_a70e0_level0_row6\" class=\"row_heading level0 row6\" >ptvGrn_Very unlikely</th>\n",
       "                        <td id=\"T_a70e0_row6_col0\" class=\"data row6 col0\" >-0.090000</td>\n",
       "                        <td id=\"T_a70e0_row6_col1\" class=\"data row6 col1\" >0.00</td>\n",
       "                        <td id=\"T_a70e0_row6_col2\" class=\"data row6 col2\" >10610</td>\n",
       "            </tr>\n",
       "            <tr>\n",
       "                        <th id=\"T_a70e0_level0_row7\" class=\"row_heading level0 row7\" >partyId_Conservative</th>\n",
       "                        <td id=\"T_a70e0_row7_col0\" class=\"data row7 col0\" >-0.090000</td>\n",
       "                        <td id=\"T_a70e0_row7_col1\" class=\"data row7 col1\" >0.00</td>\n",
       "                        <td id=\"T_a70e0_row7_col2\" class=\"data row7 col2\" >10610</td>\n",
       "            </tr>\n",
       "            <tr>\n",
       "                        <th id=\"T_a70e0_level0_row8\" class=\"row_heading level0 row8\" >workingStatus_Retired</th>\n",
       "                        <td id=\"T_a70e0_row8_col0\" class=\"data row8 col0\" >-0.080000</td>\n",
       "                        <td id=\"T_a70e0_row8_col1\" class=\"data row8 col1\" >0.00</td>\n",
       "                        <td id=\"T_a70e0_row8_col2\" class=\"data row8 col2\" >10610</td>\n",
       "            </tr>\n",
       "            <tr>\n",
       "                        <th id=\"T_a70e0_level0_row9\" class=\"row_heading level0 row9\" >ageGroup_66+</th>\n",
       "                        <td id=\"T_a70e0_row9_col0\" class=\"data row9 col0\" >-0.080000</td>\n",
       "                        <td id=\"T_a70e0_row9_col1\" class=\"data row9 col1\" >0.00</td>\n",
       "                        <td id=\"T_a70e0_row9_col2\" class=\"data row9 col2\" >10610</td>\n",
       "            </tr>\n",
       "            <tr>\n",
       "                        <th id=\"T_a70e0_level0_row10\" class=\"row_heading level0 row10\" >p_work_stat_Retired</th>\n",
       "                        <td id=\"T_a70e0_row10_col0\" class=\"data row10 col0\" >-0.080000</td>\n",
       "                        <td id=\"T_a70e0_row10_col1\" class=\"data row10 col1\" >0.00</td>\n",
       "                        <td id=\"T_a70e0_row10_col2\" class=\"data row10 col2\" >10610</td>\n",
       "            </tr>\n",
       "            <tr>\n",
       "                        <th id=\"T_a70e0_level0_row11\" class=\"row_heading level0 row11\" >p_eurefvote_I voted to leave</th>\n",
       "                        <td id=\"T_a70e0_row11_col0\" class=\"data row11 col0\" >-0.080000</td>\n",
       "                        <td id=\"T_a70e0_row11_col1\" class=\"data row11 col1\" >0.00</td>\n",
       "                        <td id=\"T_a70e0_row11_col2\" class=\"data row11 col2\" >10610</td>\n",
       "            </tr>\n",
       "            <tr>\n",
       "                        <th id=\"T_a70e0_level0_row12\" class=\"row_heading level0 row12\" >p_past_vote_2017_Conservative</th>\n",
       "                        <td id=\"T_a70e0_row12_col0\" class=\"data row12 col0\" >-0.080000</td>\n",
       "                        <td id=\"T_a70e0_row12_col1\" class=\"data row12 col1\" >0.00</td>\n",
       "                        <td id=\"T_a70e0_row12_col2\" class=\"data row12 col2\" >10610</td>\n",
       "            </tr>\n",
       "            <tr>\n",
       "                        <th id=\"T_a70e0_level0_row13\" class=\"row_heading level0 row13\" >britishness_Very strongly British</th>\n",
       "                        <td id=\"T_a70e0_row13_col0\" class=\"data row13 col0\" >-0.080000</td>\n",
       "                        <td id=\"T_a70e0_row13_col1\" class=\"data row13 col1\" >0.00</td>\n",
       "                        <td id=\"T_a70e0_row13_col2\" class=\"data row13 col2\" >10610</td>\n",
       "            </tr>\n",
       "            <tr>\n",
       "                        <th id=\"T_a70e0_level0_row14\" class=\"row_heading level0 row14\" >immigSelfShift22_23_W23</th>\n",
       "                        <td id=\"T_a70e0_row14_col0\" class=\"data row14 col0\" >-0.080000</td>\n",
       "                        <td id=\"T_a70e0_row14_col1\" class=\"data row14 col1\" >0.00</td>\n",
       "                        <td id=\"T_a70e0_row14_col2\" class=\"data row14 col2\" >9657</td>\n",
       "            </tr>\n",
       "            <tr>\n",
       "                        <th id=\"T_a70e0_level0_row15\" class=\"row_heading level0 row15\" >handleUkraine_Very well</th>\n",
       "                        <td id=\"T_a70e0_row15_col0\" class=\"data row15 col0\" >-0.070000</td>\n",
       "                        <td id=\"T_a70e0_row15_col1\" class=\"data row15 col1\" >0.00</td>\n",
       "                        <td id=\"T_a70e0_row15_col2\" class=\"data row15 col2\" >10610</td>\n",
       "            </tr>\n",
       "            <tr>\n",
       "                        <th id=\"T_a70e0_level0_row16\" class=\"row_heading level0 row16\" >immigSelf_Allow many fewer</th>\n",
       "                        <td id=\"T_a70e0_row16_col0\" class=\"data row16 col0\" >-0.070000</td>\n",
       "                        <td id=\"T_a70e0_row16_col1\" class=\"data row16 col1\" >0.00</td>\n",
       "                        <td id=\"T_a70e0_row16_col2\" class=\"data row16 col2\" >10610</td>\n",
       "            </tr>\n",
       "            <tr>\n",
       "                        <th id=\"T_a70e0_level0_row17\" class=\"row_heading level0 row17\" >conLookAfterBA_Fairly closely</th>\n",
       "                        <td id=\"T_a70e0_row17_col0\" class=\"data row17 col0\" >-0.070000</td>\n",
       "                        <td id=\"T_a70e0_row17_col1\" class=\"data row17 col1\" >0.00</td>\n",
       "                        <td id=\"T_a70e0_row17_col2\" class=\"data row17 col2\" >10610</td>\n",
       "            </tr>\n",
       "            <tr>\n",
       "                        <th id=\"T_a70e0_level0_row18\" class=\"row_heading level0 row18\" >conLookAfterUnemp_Fairly closely</th>\n",
       "                        <td id=\"T_a70e0_row18_col0\" class=\"data row18 col0\" >-0.070000</td>\n",
       "                        <td id=\"T_a70e0_row18_col1\" class=\"data row18 col1\" >0.00</td>\n",
       "                        <td id=\"T_a70e0_row18_col2\" class=\"data row18 col2\" >10610</td>\n",
       "            </tr>\n",
       "            <tr>\n",
       "                        <th id=\"T_a70e0_level0_row19\" class=\"row_heading level0 row19\" >p_past_vote_2015_Conservative</th>\n",
       "                        <td id=\"T_a70e0_row19_col0\" class=\"data row19 col0\" >-0.070000</td>\n",
       "                        <td id=\"T_a70e0_row19_col1\" class=\"data row19 col1\" >0.00</td>\n",
       "                        <td id=\"T_a70e0_row19_col2\" class=\"data row19 col2\" >10610</td>\n",
       "            </tr>\n",
       "    </tbody></table>"
      ]
     },
     "metadata": {},
     "output_type": "display_data"
    }
   ],
   "source": [
    "input_df = pd.get_dummies(W23_only).select_dtypes('number')\n",
    "name = \"immigEconShift20_22_W23\"\n",
    "pattern = \"immigEcon\"\n",
    "corr_df, corr_type = make_corr_summary(input_df, name,  corr_type = \"spearman\", pattern=pattern, sample_size_text = \"N\",\n",
    "                      correlation_text = \"r\",\n",
    "                      abs_correlation_text = \"abs_r\", p_value_text = \"p\",\n",
    "                      min_p_value = 0.01, min_variance = 0.0, min_sample_size = 500)\n",
    "\n",
    "display_corr(corr_df, name, corr_type, top_num = 20, round_places = 2,\n",
    "                 correlation_text = \"r\", p_value_text = \"p\", sample_size_text = \"N\",\n",
    "                 text_wrap_length=50)"
   ]
  },
  {
   "cell_type": "code",
   "execution_count": 314,
   "id": "5ff4d922",
   "metadata": {},
   "outputs": [
    {
     "data": {
      "text/html": [
       "<style  type=\"text/css\" >\n",
       "</style><table id=\"T_e928b_\" style='display:inline'><caption>Top 20 positive (spearman) correlations for immigSelfShift22_23_W23</caption><thead>    <tr>        <th class=\"blank level0\" ></th>        <th class=\"col_heading level0 col0\" >r</th>        <th class=\"col_heading level0 col1\" >p</th>        <th class=\"col_heading level0 col2\" >N</th>    </tr></thead><tbody>\n",
       "                <tr>\n",
       "                        <th id=\"T_e928b_level0_row0\" class=\"row_heading level0 row0\" >al1_Agree</th>\n",
       "                        <td id=\"T_e928b_row0_col0\" class=\"data row0 col0\" >0.040000</td>\n",
       "                        <td id=\"T_e928b_row0_col1\" class=\"data row0 col1\" >0.00</td>\n",
       "                        <td id=\"T_e928b_row0_col2\" class=\"data row0 col2\" >17549</td>\n",
       "            </tr>\n",
       "            <tr>\n",
       "                        <th id=\"T_e928b_level0_row1\" class=\"row_heading level0 row1\" >immigCon_6</th>\n",
       "                        <td id=\"T_e928b_row1_col0\" class=\"data row1 col0\" >0.040000</td>\n",
       "                        <td id=\"T_e928b_row1_col1\" class=\"data row1 col1\" >0.00</td>\n",
       "                        <td id=\"T_e928b_row1_col2\" class=\"data row1 col2\" >17549</td>\n",
       "            </tr>\n",
       "            <tr>\n",
       "                        <th id=\"T_e928b_level0_row2\" class=\"row_heading level0 row2\" >taxSpendSelf_7</th>\n",
       "                        <td id=\"T_e928b_row2_col0\" class=\"data row2 col0\" >0.030000</td>\n",
       "                        <td id=\"T_e928b_row2_col1\" class=\"data row2 col1\" >0.00</td>\n",
       "                        <td id=\"T_e928b_row2_col2\" class=\"data row2 col2\" >17549</td>\n",
       "            </tr>\n",
       "            <tr>\n",
       "                        <th id=\"T_e928b_level0_row3\" class=\"row_heading level0 row3\" >al5_Agree</th>\n",
       "                        <td id=\"T_e928b_row3_col0\" class=\"data row3 col0\" >0.030000</td>\n",
       "                        <td id=\"T_e928b_row3_col1\" class=\"data row3 col1\" >0.00</td>\n",
       "                        <td id=\"T_e928b_row3_col2\" class=\"data row3 col2\" >17549</td>\n",
       "            </tr>\n",
       "            <tr>\n",
       "                        <th id=\"T_e928b_level0_row4\" class=\"row_heading level0 row4\" >efficacyNotUnderstand_Agree</th>\n",
       "                        <td id=\"T_e928b_row4_col0\" class=\"data row4 col0\" >0.030000</td>\n",
       "                        <td id=\"T_e928b_row4_col1\" class=\"data row4 col1\" >0.00</td>\n",
       "                        <td id=\"T_e928b_row4_col2\" class=\"data row4 col2\" >17549</td>\n",
       "            </tr>\n",
       "            <tr>\n",
       "                        <th id=\"T_e928b_level0_row5\" class=\"row_heading level0 row5\" >smallEmergency2_6_Yes</th>\n",
       "                        <td id=\"T_e928b_row5_col0\" class=\"data row5 col0\" >0.030000</td>\n",
       "                        <td id=\"T_e928b_row5_col1\" class=\"data row5 col1\" >0.00</td>\n",
       "                        <td id=\"T_e928b_row5_col2\" class=\"data row5 col2\" >17549</td>\n",
       "            </tr>\n",
       "            <tr>\n",
       "                        <th id=\"T_e928b_level0_row6\" class=\"row_heading level0 row6\" >immigCon_7</th>\n",
       "                        <td id=\"T_e928b_row6_col0\" class=\"data row6 col0\" >0.030000</td>\n",
       "                        <td id=\"T_e928b_row6_col1\" class=\"data row6 col1\" >0.00</td>\n",
       "                        <td id=\"T_e928b_row6_col2\" class=\"data row6 col2\" >17549</td>\n",
       "            </tr>\n",
       "            <tr>\n",
       "                        <th id=\"T_e928b_level0_row7\" class=\"row_heading level0 row7\" >al4_Agree</th>\n",
       "                        <td id=\"T_e928b_row7_col0\" class=\"data row7 col0\" >0.030000</td>\n",
       "                        <td id=\"T_e928b_row7_col1\" class=\"data row7 col1\" >0.00</td>\n",
       "                        <td id=\"T_e928b_row7_col2\" class=\"data row7 col2\" >17549</td>\n",
       "            </tr>\n",
       "            <tr>\n",
       "                        <th id=\"T_e928b_level0_row8\" class=\"row_heading level0 row8\" >immigLab_8</th>\n",
       "                        <td id=\"T_e928b_row8_col0\" class=\"data row8 col0\" >0.030000</td>\n",
       "                        <td id=\"T_e928b_row8_col1\" class=\"data row8 col1\" >0.00</td>\n",
       "                        <td id=\"T_e928b_row8_col2\" class=\"data row8 col2\" >17549</td>\n",
       "            </tr>\n",
       "            <tr>\n",
       "                        <th id=\"T_e928b_level0_row9\" class=\"row_heading level0 row9\" >immigLab_9</th>\n",
       "                        <td id=\"T_e928b_row9_col0\" class=\"data row9 col0\" >0.030000</td>\n",
       "                        <td id=\"T_e928b_row9_col1\" class=\"data row9 col1\" >0.00</td>\n",
       "                        <td id=\"T_e928b_row9_col2\" class=\"data row9 col2\" >17549</td>\n",
       "            </tr>\n",
       "            <tr>\n",
       "                        <th id=\"T_e928b_level0_row10\" class=\"row_heading level0 row10\" >immigCon_5</th>\n",
       "                        <td id=\"T_e928b_row10_col0\" class=\"data row10 col0\" >0.030000</td>\n",
       "                        <td id=\"T_e928b_row10_col1\" class=\"data row10 col1\" >0.00</td>\n",
       "                        <td id=\"T_e928b_row10_col2\" class=\"data row10 col2\" >17549</td>\n",
       "            </tr>\n",
       "            <tr>\n",
       "                        <th id=\"T_e928b_level0_row11\" class=\"row_heading level0 row11\" >immigEcon_4</th>\n",
       "                        <td id=\"T_e928b_row11_col0\" class=\"data row11 col0\" >0.030000</td>\n",
       "                        <td id=\"T_e928b_row11_col1\" class=\"data row11 col1\" >0.00</td>\n",
       "                        <td id=\"T_e928b_row11_col2\" class=\"data row11 col2\" >17549</td>\n",
       "            </tr>\n",
       "            <tr>\n",
       "                        <th id=\"T_e928b_level0_row12\" class=\"row_heading level0 row12\" >immigLD_8</th>\n",
       "                        <td id=\"T_e928b_row12_col0\" class=\"data row12 col0\" >0.030000</td>\n",
       "                        <td id=\"T_e928b_row12_col1\" class=\"data row12 col1\" >0.00</td>\n",
       "                        <td id=\"T_e928b_row12_col2\" class=\"data row12 col2\" >17549</td>\n",
       "            </tr>\n",
       "            <tr>\n",
       "                        <th id=\"T_e928b_level0_row13\" class=\"row_heading level0 row13\" >p_welsh_const_vote_2016_Labour</th>\n",
       "                        <td id=\"T_e928b_row13_col0\" class=\"data row13 col0\" >0.030000</td>\n",
       "                        <td id=\"T_e928b_row13_col1\" class=\"data row13 col1\" >0.00</td>\n",
       "                        <td id=\"T_e928b_row13_col2\" class=\"data row13 col2\" >17549</td>\n",
       "            </tr>\n",
       "            <tr>\n",
       "                        <th id=\"T_e928b_level0_row14\" class=\"row_heading level0 row14\" >gayEquality_About right</th>\n",
       "                        <td id=\"T_e928b_row14_col0\" class=\"data row14 col0\" >0.020000</td>\n",
       "                        <td id=\"T_e928b_row14_col1\" class=\"data row14 col1\" >0.01</td>\n",
       "                        <td id=\"T_e928b_row14_col2\" class=\"data row14 col2\" >17549</td>\n",
       "            </tr>\n",
       "            <tr>\n",
       "                        <th id=\"T_e928b_level0_row15\" class=\"row_heading level0 row15\" >likeTice_Don't know</th>\n",
       "                        <td id=\"T_e928b_row15_col0\" class=\"data row15 col0\" >0.020000</td>\n",
       "                        <td id=\"T_e928b_row15_col1\" class=\"data row15 col1\" >0.00</td>\n",
       "                        <td id=\"T_e928b_row15_col2\" class=\"data row15 col2\" >17549</td>\n",
       "            </tr>\n",
       "            <tr>\n",
       "                        <th id=\"T_e928b_level0_row16\" class=\"row_heading level0 row16\" >likeCon_6</th>\n",
       "                        <td id=\"T_e928b_row16_col0\" class=\"data row16 col0\" >0.020000</td>\n",
       "                        <td id=\"T_e928b_row16_col1\" class=\"data row16 col1\" >0.01</td>\n",
       "                        <td id=\"T_e928b_row16_col2\" class=\"data row16 col2\" >17549</td>\n",
       "            </tr>\n",
       "            <tr>\n",
       "                        <th id=\"T_e928b_level0_row17\" class=\"row_heading level0 row17\" >partyContactPC_3_No</th>\n",
       "                        <td id=\"T_e928b_row17_col0\" class=\"data row17 col0\" >0.020000</td>\n",
       "                        <td id=\"T_e928b_row17_col1\" class=\"data row17 col1\" >0.01</td>\n",
       "                        <td id=\"T_e928b_row17_col2\" class=\"data row17 col2\" >17549</td>\n",
       "            </tr>\n",
       "            <tr>\n",
       "                        <th id=\"T_e928b_level0_row18\" class=\"row_heading level0 row18\" >EUIntegrationLD_Don't know</th>\n",
       "                        <td id=\"T_e928b_row18_col0\" class=\"data row18 col0\" >0.020000</td>\n",
       "                        <td id=\"T_e928b_row18_col1\" class=\"data row18 col1\" >0.00</td>\n",
       "                        <td id=\"T_e928b_row18_col2\" class=\"data row18 col2\" >17549</td>\n",
       "            </tr>\n",
       "            <tr>\n",
       "                        <th id=\"T_e928b_level0_row19\" class=\"row_heading level0 row19\" >smallEmergency2_1_No</th>\n",
       "                        <td id=\"T_e928b_row19_col0\" class=\"data row19 col0\" >0.020000</td>\n",
       "                        <td id=\"T_e928b_row19_col1\" class=\"data row19 col1\" >0.01</td>\n",
       "                        <td id=\"T_e928b_row19_col2\" class=\"data row19 col2\" >17549</td>\n",
       "            </tr>\n",
       "    </tbody></table><style  type=\"text/css\" >\n",
       "</style><table id=\"T_35bb4_\" style='display:inline'><caption>Top 20 negative (spearman) correlations for immigSelfShift22_23_W23</caption><thead>    <tr>        <th class=\"blank level0\" ></th>        <th class=\"col_heading level0 col0\" >r</th>        <th class=\"col_heading level0 col1\" >p</th>        <th class=\"col_heading level0 col2\" >N</th>    </tr></thead><tbody>\n",
       "                <tr>\n",
       "                        <th id=\"T_35bb4_level0_row0\" class=\"row_heading level0 row0\" >immigEconShift20_22_W23</th>\n",
       "                        <td id=\"T_35bb4_row0_col0\" class=\"data row0 col0\" >-0.080000</td>\n",
       "                        <td id=\"T_35bb4_row0_col1\" class=\"data row0 col1\" >0.00</td>\n",
       "                        <td id=\"T_35bb4_row0_col2\" class=\"data row0 col2\" >9657</td>\n",
       "            </tr>\n",
       "            <tr>\n",
       "                        <th id=\"T_35bb4_level0_row1\" class=\"row_heading level0 row1\" >immigEcon_Bad for economy</th>\n",
       "                        <td id=\"T_35bb4_row1_col0\" class=\"data row1 col0\" >-0.060000</td>\n",
       "                        <td id=\"T_35bb4_row1_col1\" class=\"data row1 col1\" >0.00</td>\n",
       "                        <td id=\"T_35bb4_row1_col2\" class=\"data row1 col2\" >17549</td>\n",
       "            </tr>\n",
       "            <tr>\n",
       "                        <th id=\"T_35bb4_level0_row2\" class=\"row_heading level0 row2\" >immigCon_Allow many fewer</th>\n",
       "                        <td id=\"T_35bb4_row2_col0\" class=\"data row2 col0\" >-0.050000</td>\n",
       "                        <td id=\"T_35bb4_row2_col1\" class=\"data row2 col1\" >0.00</td>\n",
       "                        <td id=\"T_35bb4_row2_col2\" class=\"data row2 col2\" >17549</td>\n",
       "            </tr>\n",
       "            <tr>\n",
       "                        <th id=\"T_35bb4_level0_row3\" class=\"row_heading level0 row3\" >immigLD_Allow many fewer</th>\n",
       "                        <td id=\"T_35bb4_row3_col0\" class=\"data row3 col0\" >-0.050000</td>\n",
       "                        <td id=\"T_35bb4_row3_col1\" class=\"data row3 col1\" >0.00</td>\n",
       "                        <td id=\"T_35bb4_row3_col2\" class=\"data row3 col2\" >17549</td>\n",
       "            </tr>\n",
       "            <tr>\n",
       "                        <th id=\"T_35bb4_level0_row4\" class=\"row_heading level0 row4\" >enviroGrowth_Economic growth should have priority</th>\n",
       "                        <td id=\"T_35bb4_row4_col0\" class=\"data row4 col0\" >-0.040000</td>\n",
       "                        <td id=\"T_35bb4_row4_col1\" class=\"data row4 col1\" >0.00</td>\n",
       "                        <td id=\"T_35bb4_row4_col2\" class=\"data row4 col2\" >17549</td>\n",
       "            </tr>\n",
       "            <tr>\n",
       "                        <th id=\"T_35bb4_level0_row5\" class=\"row_heading level0 row5\" >labLookAfterLocal_Not at all closely</th>\n",
       "                        <td id=\"T_35bb4_row5_col0\" class=\"data row5 col0\" >-0.040000</td>\n",
       "                        <td id=\"T_35bb4_row5_col1\" class=\"data row5 col1\" >0.00</td>\n",
       "                        <td id=\"T_35bb4_row5_col2\" class=\"data row5 col2\" >17549</td>\n",
       "            </tr>\n",
       "            <tr>\n",
       "                        <th id=\"T_35bb4_level0_row6\" class=\"row_heading level0 row6\" >immigBrexit_Allow many fewer</th>\n",
       "                        <td id=\"T_35bb4_row6_col0\" class=\"data row6 col0\" >-0.040000</td>\n",
       "                        <td id=\"T_35bb4_row6_col1\" class=\"data row6 col1\" >0.00</td>\n",
       "                        <td id=\"T_35bb4_row6_col2\" class=\"data row6 col2\" >17549</td>\n",
       "            </tr>\n",
       "            <tr>\n",
       "                        <th id=\"T_35bb4_level0_row7\" class=\"row_heading level0 row7\" >immigGreen_Allow many fewer</th>\n",
       "                        <td id=\"T_35bb4_row7_col0\" class=\"data row7 col0\" >-0.040000</td>\n",
       "                        <td id=\"T_35bb4_row7_col1\" class=\"data row7 col1\" >0.00</td>\n",
       "                        <td id=\"T_35bb4_row7_col2\" class=\"data row7 col2\" >17549</td>\n",
       "            </tr>\n",
       "            <tr>\n",
       "                        <th id=\"T_35bb4_level0_row8\" class=\"row_heading level0 row8\" >immigLab_Allow many fewer</th>\n",
       "                        <td id=\"T_35bb4_row8_col0\" class=\"data row8 col0\" >-0.040000</td>\n",
       "                        <td id=\"T_35bb4_row8_col1\" class=\"data row8 col1\" >0.00</td>\n",
       "                        <td id=\"T_35bb4_row8_col2\" class=\"data row8 col2\" >17549</td>\n",
       "            </tr>\n",
       "            <tr>\n",
       "                        <th id=\"T_35bb4_level0_row9\" class=\"row_heading level0 row9\" >al5_Strongly disagree</th>\n",
       "                        <td id=\"T_35bb4_row9_col0\" class=\"data row9 col0\" >-0.030000</td>\n",
       "                        <td id=\"T_35bb4_row9_col1\" class=\"data row9 col1\" >0.00</td>\n",
       "                        <td id=\"T_35bb4_row9_col2\" class=\"data row9 col2\" >17549</td>\n",
       "            </tr>\n",
       "            <tr>\n",
       "                        <th id=\"T_35bb4_level0_row10\" class=\"row_heading level0 row10\" >handleCoronaLab_Very badly</th>\n",
       "                        <td id=\"T_35bb4_row10_col0\" class=\"data row10 col0\" >-0.030000</td>\n",
       "                        <td id=\"T_35bb4_row10_col1\" class=\"data row10 col1\" >0.00</td>\n",
       "                        <td id=\"T_35bb4_row10_col2\" class=\"data row10 col2\" >17549</td>\n",
       "            </tr>\n",
       "            <tr>\n",
       "                        <th id=\"T_35bb4_level0_row11\" class=\"row_heading level0 row11\" >handleUkraineLab_Very badly</th>\n",
       "                        <td id=\"T_35bb4_row11_col0\" class=\"data row11 col0\" >-0.030000</td>\n",
       "                        <td id=\"T_35bb4_row11_col1\" class=\"data row11 col1\" >0.00</td>\n",
       "                        <td id=\"T_35bb4_row11_col2\" class=\"data row11 col2\" >17549</td>\n",
       "            </tr>\n",
       "            <tr>\n",
       "                        <th id=\"T_35bb4_level0_row12\" class=\"row_heading level0 row12\" >efficacyNotUnderstand_Disagree</th>\n",
       "                        <td id=\"T_35bb4_row12_col0\" class=\"data row12 col0\" >-0.030000</td>\n",
       "                        <td id=\"T_35bb4_row12_col1\" class=\"data row12 col1\" >0.00</td>\n",
       "                        <td id=\"T_35bb4_row12_col2\" class=\"data row12 col2\" >17549</td>\n",
       "            </tr>\n",
       "            <tr>\n",
       "                        <th id=\"T_35bb4_level0_row13\" class=\"row_heading level0 row13\" >smallEmergency2_6_No</th>\n",
       "                        <td id=\"T_35bb4_row13_col0\" class=\"data row13 col0\" >-0.030000</td>\n",
       "                        <td id=\"T_35bb4_row13_col1\" class=\"data row13 col1\" >0.00</td>\n",
       "                        <td id=\"T_35bb4_row13_col2\" class=\"data row13 col2\" >17549</td>\n",
       "            </tr>\n",
       "            <tr>\n",
       "                        <th id=\"T_35bb4_level0_row14\" class=\"row_heading level0 row14\" >al3_Strongly disagree</th>\n",
       "                        <td id=\"T_35bb4_row14_col0\" class=\"data row14 col0\" >-0.030000</td>\n",
       "                        <td id=\"T_35bb4_row14_col1\" class=\"data row14 col1\" >0.00</td>\n",
       "                        <td id=\"T_35bb4_row14_col2\" class=\"data row14 col2\" >17549</td>\n",
       "            </tr>\n",
       "            <tr>\n",
       "                        <th id=\"T_35bb4_level0_row15\" class=\"row_heading level0 row15\" >al3_Disagree</th>\n",
       "                        <td id=\"T_35bb4_row15_col0\" class=\"data row15 col0\" >-0.030000</td>\n",
       "                        <td id=\"T_35bb4_row15_col1\" class=\"data row15 col1\" >0.00</td>\n",
       "                        <td id=\"T_35bb4_row15_col2\" class=\"data row15 col2\" >17549</td>\n",
       "            </tr>\n",
       "            <tr>\n",
       "                        <th id=\"T_35bb4_level0_row16\" class=\"row_heading level0 row16\" >al5_Neither agree nor disagree</th>\n",
       "                        <td id=\"T_35bb4_row16_col0\" class=\"data row16 col0\" >-0.030000</td>\n",
       "                        <td id=\"T_35bb4_row16_col1\" class=\"data row16 col1\" >0.00</td>\n",
       "                        <td id=\"T_35bb4_row16_col2\" class=\"data row16 col2\" >17549</td>\n",
       "            </tr>\n",
       "            <tr>\n",
       "                        <th id=\"T_35bb4_level0_row17\" class=\"row_heading level0 row17\" >effectsRemainEcon_Much better</th>\n",
       "                        <td id=\"T_35bb4_row17_col0\" class=\"data row17 col0\" >-0.030000</td>\n",
       "                        <td id=\"T_35bb4_row17_col1\" class=\"data row17 col1\" >0.00</td>\n",
       "                        <td id=\"T_35bb4_row17_col2\" class=\"data row17 col2\" >17549</td>\n",
       "            </tr>\n",
       "            <tr>\n",
       "                        <th id=\"T_35bb4_level0_row18\" class=\"row_heading level0 row18\" >conLookAfterMC_Not at all closely</th>\n",
       "                        <td id=\"T_35bb4_row18_col0\" class=\"data row18 col0\" >-0.030000</td>\n",
       "                        <td id=\"T_35bb4_row18_col1\" class=\"data row18 col1\" >0.00</td>\n",
       "                        <td id=\"T_35bb4_row18_col2\" class=\"data row18 col2\" >17549</td>\n",
       "            </tr>\n",
       "            <tr>\n",
       "                        <th id=\"T_35bb4_level0_row19\" class=\"row_heading level0 row19\" >likeLD_Strongly dislike</th>\n",
       "                        <td id=\"T_35bb4_row19_col0\" class=\"data row19 col0\" >-0.030000</td>\n",
       "                        <td id=\"T_35bb4_row19_col1\" class=\"data row19 col1\" >0.00</td>\n",
       "                        <td id=\"T_35bb4_row19_col2\" class=\"data row19 col2\" >17549</td>\n",
       "            </tr>\n",
       "    </tbody></table>"
      ]
     },
     "metadata": {},
     "output_type": "display_data"
    }
   ],
   "source": [
    "input_df = pd.get_dummies(W23_only).select_dtypes('number')\n",
    "name = \"immigSelfShift22_23_W23\"\n",
    "pattern = \"immigSelf\"\n",
    "\n",
    "corr_df, corr_type = make_corr_summary(input_df, name,  corr_type = \"spearman\", pattern=pattern, sample_size_text = \"N\",\n",
    "                      correlation_text = \"r\",\n",
    "                      abs_correlation_text = \"abs_r\", p_value_text = \"p\",\n",
    "                      min_p_value = 0.01, min_variance = 0.0, min_sample_size = 500)\n",
    "\n",
    "display_corr(corr_df, name, corr_type, top_num = 20, round_places = 2,\n",
    "                 correlation_text = \"r\", p_value_text = \"p\", sample_size_text = \"N\",\n",
    "                 text_wrap_length=50)"
   ]
  },
  {
   "cell_type": "code",
   "execution_count": 335,
   "id": "e42adf3d",
   "metadata": {},
   "outputs": [
    {
     "data": {
      "text/plain": [
       "al_scaleW1_W5      37890\n",
       "al_scaleW6         27288\n",
       "al_scaleW7_W9      35873\n",
       "al_scaleW10_W12    30088\n",
       "al_scaleW13        27252\n",
       "al_scaleW14W15     31629\n",
       "al_scaleW16        32671\n",
       "al_scaleW17_W19    29773\n",
       "al_scaleW20        26914\n",
       "al_scaleW21        25692\n",
       "al_scaleW22        23617\n",
       "al_scaleW23        26399\n",
       "dtype: int64"
      ]
     },
     "execution_count": 335,
     "metadata": {},
     "output_type": "execute_result"
    }
   ],
   "source": [
    "search(df,\"al_scale\")"
   ]
  },
  {
   "cell_type": "code",
   "execution_count": 339,
   "id": "d901f5cd",
   "metadata": {},
   "outputs": [
    {
     "data": {
      "text/plain": [
       "0.03410092198702593"
      ]
     },
     "execution_count": 339,
     "metadata": {},
     "output_type": "execute_result"
    }
   ],
   "source": [
    "W23_only[\"al_scale\"].replace(\"Don't know\",np.nan).cat.codes.replace(-1,np.nan).corr(immigSelfShift22_23_W23)"
   ]
  },
  {
   "cell_type": "code",
   "execution_count": 340,
   "id": "886bcadc",
   "metadata": {},
   "outputs": [
    {
     "data": {
      "text/plain": [
       "-0.08149409730738291"
      ]
     },
     "execution_count": 340,
     "metadata": {},
     "output_type": "execute_result"
    }
   ],
   "source": [
    "W23_only[\"al_scale\"].replace(\"Don't know\",np.nan).cat.codes.replace(-1,np.nan).corr(immigEconShift20_22_W23)"
   ]
  },
  {
   "cell_type": "code",
   "execution_count": 341,
   "id": "d092df64",
   "metadata": {},
   "outputs": [
    {
     "data": {
      "text/plain": [
       "-0.005809950976021262"
      ]
     },
     "execution_count": 341,
     "metadata": {},
     "output_type": "execute_result"
    }
   ],
   "source": [
    "W23_only[\"lr_scale\"].replace(\"Don't know\",np.nan).cat.codes.replace(-1,np.nan).corr(immigSelfShift22_23_W23)"
   ]
  },
  {
   "cell_type": "code",
   "execution_count": 342,
   "id": "5afa060e",
   "metadata": {},
   "outputs": [
    {
     "data": {
      "text/plain": [
       "-0.05919581032561958"
      ]
     },
     "execution_count": 342,
     "metadata": {},
     "output_type": "execute_result"
    }
   ],
   "source": [
    "W23_only[\"lr_scale\"].replace(\"Don't know\",np.nan).cat.codes.replace(-1,np.nan).corr(immigEconShift20_22_W23)"
   ]
  },
  {
   "cell_type": "code",
   "execution_count": 300,
   "id": "83d0d606",
   "metadata": {},
   "outputs": [
    {
     "data": {
      "text/html": [
       "<div>\n",
       "<style scoped>\n",
       "    .dataframe tbody tr th:only-of-type {\n",
       "        vertical-align: middle;\n",
       "    }\n",
       "\n",
       "    .dataframe tbody tr th {\n",
       "        vertical-align: top;\n",
       "    }\n",
       "\n",
       "    .dataframe thead th {\n",
       "        text-align: right;\n",
       "    }\n",
       "</style>\n",
       "<table border=\"1\" class=\"dataframe\">\n",
       "  <thead>\n",
       "    <tr style=\"text-align: right;\">\n",
       "      <th></th>\n",
       "      <th>index</th>\n",
       "      <th>0</th>\n",
       "    </tr>\n",
       "  </thead>\n",
       "  <tbody>\n",
       "    <tr>\n",
       "      <th>0</th>\n",
       "      <td>0.0</td>\n",
       "      <td>4862</td>\n",
       "    </tr>\n",
       "    <tr>\n",
       "      <th>1</th>\n",
       "      <td>-1.0</td>\n",
       "      <td>2640</td>\n",
       "    </tr>\n",
       "    <tr>\n",
       "      <th>2</th>\n",
       "      <td>1.0</td>\n",
       "      <td>1152</td>\n",
       "    </tr>\n",
       "    <tr>\n",
       "      <th>3</th>\n",
       "      <td>-2.0</td>\n",
       "      <td>1005</td>\n",
       "    </tr>\n",
       "    <tr>\n",
       "      <th>4</th>\n",
       "      <td>-3.0</td>\n",
       "      <td>383</td>\n",
       "    </tr>\n",
       "    <tr>\n",
       "      <th>5</th>\n",
       "      <td>2.0</td>\n",
       "      <td>283</td>\n",
       "    </tr>\n",
       "    <tr>\n",
       "      <th>6</th>\n",
       "      <td>-4.0</td>\n",
       "      <td>98</td>\n",
       "    </tr>\n",
       "    <tr>\n",
       "      <th>7</th>\n",
       "      <td>3.0</td>\n",
       "      <td>84</td>\n",
       "    </tr>\n",
       "    <tr>\n",
       "      <th>8</th>\n",
       "      <td>-5.0</td>\n",
       "      <td>39</td>\n",
       "    </tr>\n",
       "    <tr>\n",
       "      <th>9</th>\n",
       "      <td>4.0</td>\n",
       "      <td>31</td>\n",
       "    </tr>\n",
       "    <tr>\n",
       "      <th>10</th>\n",
       "      <td>5.0</td>\n",
       "      <td>13</td>\n",
       "    </tr>\n",
       "    <tr>\n",
       "      <th>11</th>\n",
       "      <td>6.0</td>\n",
       "      <td>10</td>\n",
       "    </tr>\n",
       "    <tr>\n",
       "      <th>12</th>\n",
       "      <td>-6.0</td>\n",
       "      <td>10</td>\n",
       "    </tr>\n",
       "  </tbody>\n",
       "</table>\n",
       "</div>"
      ],
      "text/plain": [
       "    index     0\n",
       "0     0.0  4862\n",
       "1    -1.0  2640\n",
       "2     1.0  1152\n",
       "3    -2.0  1005\n",
       "4    -3.0   383\n",
       "5     2.0   283\n",
       "6    -4.0    98\n",
       "7     3.0    84\n",
       "8    -5.0    39\n",
       "9     4.0    31\n",
       "10    5.0    13\n",
       "11    6.0    10\n",
       "12   -6.0    10"
      ]
     },
     "execution_count": 300,
     "metadata": {},
     "output_type": "execute_result"
    }
   ],
   "source": [
    "immigEconShift20_22_W23.value_counts(dropna=True).reset_index()"
   ]
  },
  {
   "cell_type": "code",
   "execution_count": null,
   "id": "5dc34bdd",
   "metadata": {},
   "outputs": [],
   "source": []
  },
  {
   "cell_type": "code",
   "execution_count": 268,
   "id": "7df58e67",
   "metadata": {},
   "outputs": [
    {
     "data": {
      "text/html": [
       "<div>\n",
       "<style scoped>\n",
       "    .dataframe tbody tr th:only-of-type {\n",
       "        vertical-align: middle;\n",
       "    }\n",
       "\n",
       "    .dataframe tbody tr th {\n",
       "        vertical-align: top;\n",
       "    }\n",
       "\n",
       "    .dataframe thead th {\n",
       "        text-align: right;\n",
       "    }\n",
       "</style>\n",
       "<table border=\"1\" class=\"dataframe\">\n",
       "  <thead>\n",
       "    <tr style=\"text-align: right;\">\n",
       "      <th></th>\n",
       "      <th>id</th>\n",
       "      <th>starttime</th>\n",
       "      <th>endtime</th>\n",
       "      <th>wt</th>\n",
       "      <th>turnoutUKGeneral</th>\n",
       "      <th>generalElectionVote</th>\n",
       "      <th>partyIdStrength</th>\n",
       "      <th>partyId</th>\n",
       "      <th>partyIdSqueeze</th>\n",
       "      <th>anyUniW21W22</th>\n",
       "      <th>...</th>\n",
       "      <th>p_scot_list_vote_2016</th>\n",
       "      <th>p_welsh_const_vote_2016</th>\n",
       "      <th>p_welsh_list_vote_2016</th>\n",
       "      <th>p_eurefvote</th>\n",
       "      <th>p_vote_scot_ref</th>\n",
       "      <th>p_turnout_2010</th>\n",
       "      <th>p_turnout_2005</th>\n",
       "      <th>p_turnout_scot_ref</th>\n",
       "      <th>p_edlevel</th>\n",
       "      <th>p_eurefturnout</th>\n",
       "    </tr>\n",
       "  </thead>\n",
       "  <tbody>\n",
       "    <tr>\n",
       "      <th>0</th>\n",
       "      <td>2</td>\n",
       "      <td>2022-05-18 22:45:36.093</td>\n",
       "      <td>2022-05-18 23:10:23.123</td>\n",
       "      <td>0.547746</td>\n",
       "      <td>Fairly likely</td>\n",
       "      <td>Don't know</td>\n",
       "      <td>Fairly strong</td>\n",
       "      <td>Conservative</td>\n",
       "      <td>NaN</td>\n",
       "      <td>Yes, I graduated from higher education</td>\n",
       "      <td>...</td>\n",
       "      <td>NaN</td>\n",
       "      <td>NaN</td>\n",
       "      <td>NaN</td>\n",
       "      <td>I voted to leave</td>\n",
       "      <td>NaN</td>\n",
       "      <td>Yes, I voted</td>\n",
       "      <td>Yes, I voted</td>\n",
       "      <td>NaN</td>\n",
       "      <td>Undergraduate</td>\n",
       "      <td>Yes, voted</td>\n",
       "    </tr>\n",
       "    <tr>\n",
       "      <th>1</th>\n",
       "      <td>3</td>\n",
       "      <td>2022-05-13 08:17:57.260</td>\n",
       "      <td>2022-05-13 08:44:23.873</td>\n",
       "      <td>0.571612</td>\n",
       "      <td>Neither likely nor unlikely</td>\n",
       "      <td>Labour</td>\n",
       "      <td>Not very strong</td>\n",
       "      <td>Liberal Democrat</td>\n",
       "      <td>NaN</td>\n",
       "      <td>NaN</td>\n",
       "      <td>...</td>\n",
       "      <td>NaN</td>\n",
       "      <td>NaN</td>\n",
       "      <td>NaN</td>\n",
       "      <td>I voted to leave</td>\n",
       "      <td>NaN</td>\n",
       "      <td>Yes, I voted</td>\n",
       "      <td>Yes, I voted</td>\n",
       "      <td>NaN</td>\n",
       "      <td>A-level</td>\n",
       "      <td>Yes, voted</td>\n",
       "    </tr>\n",
       "    <tr>\n",
       "      <th>2</th>\n",
       "      <td>7</td>\n",
       "      <td>2022-05-10 18:46:54.150</td>\n",
       "      <td>2022-05-10 19:29:48.656</td>\n",
       "      <td>0.406625</td>\n",
       "      <td>Very likely that I would vote</td>\n",
       "      <td>Scottish National Party (SNP)</td>\n",
       "      <td>Very strong</td>\n",
       "      <td>Scottish National Party (SNP)</td>\n",
       "      <td>NaN</td>\n",
       "      <td>No, I have never attended higher education</td>\n",
       "      <td>...</td>\n",
       "      <td>Scottish National Party (SNP)</td>\n",
       "      <td>NaN</td>\n",
       "      <td>NaN</td>\n",
       "      <td>I voted to remain</td>\n",
       "      <td>Voted no</td>\n",
       "      <td>Yes, I voted</td>\n",
       "      <td>Yes, I voted</td>\n",
       "      <td>Yes, I voted</td>\n",
       "      <td>A-level</td>\n",
       "      <td>Yes, voted</td>\n",
       "    </tr>\n",
       "    <tr>\n",
       "      <th>3</th>\n",
       "      <td>11</td>\n",
       "      <td>2022-05-20 12:24:33.089</td>\n",
       "      <td>2022-05-20 13:08:46.504</td>\n",
       "      <td>0.912995</td>\n",
       "      <td>Very likely that I would vote</td>\n",
       "      <td>Conservative</td>\n",
       "      <td>Not very strong</td>\n",
       "      <td>Conservative</td>\n",
       "      <td>NaN</td>\n",
       "      <td>NaN</td>\n",
       "      <td>...</td>\n",
       "      <td>NaN</td>\n",
       "      <td>NaN</td>\n",
       "      <td>NaN</td>\n",
       "      <td>I voted to leave</td>\n",
       "      <td>NaN</td>\n",
       "      <td>Yes, I voted</td>\n",
       "      <td>Yes, I voted</td>\n",
       "      <td>NaN</td>\n",
       "      <td>Undergraduate</td>\n",
       "      <td>Yes, voted</td>\n",
       "    </tr>\n",
       "    <tr>\n",
       "      <th>4</th>\n",
       "      <td>14</td>\n",
       "      <td>2022-05-15 09:00:24.733</td>\n",
       "      <td>2022-05-15 09:18:57.988</td>\n",
       "      <td>0.580910</td>\n",
       "      <td>Very likely that I would vote</td>\n",
       "      <td>Conservative</td>\n",
       "      <td>Very strong</td>\n",
       "      <td>Conservative</td>\n",
       "      <td>NaN</td>\n",
       "      <td>No, I have never attended higher education</td>\n",
       "      <td>...</td>\n",
       "      <td>NaN</td>\n",
       "      <td>NaN</td>\n",
       "      <td>NaN</td>\n",
       "      <td>I voted to leave</td>\n",
       "      <td>NaN</td>\n",
       "      <td>Yes, I voted</td>\n",
       "      <td>Yes, I voted</td>\n",
       "      <td>NaN</td>\n",
       "      <td>No qualifications</td>\n",
       "      <td>Yes, voted</td>\n",
       "    </tr>\n",
       "    <tr>\n",
       "      <th>...</th>\n",
       "      <td>...</td>\n",
       "      <td>...</td>\n",
       "      <td>...</td>\n",
       "      <td>...</td>\n",
       "      <td>...</td>\n",
       "      <td>...</td>\n",
       "      <td>...</td>\n",
       "      <td>...</td>\n",
       "      <td>...</td>\n",
       "      <td>...</td>\n",
       "      <td>...</td>\n",
       "      <td>...</td>\n",
       "      <td>...</td>\n",
       "      <td>...</td>\n",
       "      <td>...</td>\n",
       "      <td>...</td>\n",
       "      <td>...</td>\n",
       "      <td>...</td>\n",
       "      <td>...</td>\n",
       "      <td>...</td>\n",
       "      <td>...</td>\n",
       "    </tr>\n",
       "    <tr>\n",
       "      <th>30944</th>\n",
       "      <td>109215</td>\n",
       "      <td>2022-05-20 12:24:49.909</td>\n",
       "      <td>2022-05-20 12:56:18.504</td>\n",
       "      <td>0.465997</td>\n",
       "      <td>Very likely that I would vote</td>\n",
       "      <td>Liberal Democrat</td>\n",
       "      <td>Not very strong</td>\n",
       "      <td>Conservative</td>\n",
       "      <td>NaN</td>\n",
       "      <td>Yes, I am currently enrolled in higher education</td>\n",
       "      <td>...</td>\n",
       "      <td>NaN</td>\n",
       "      <td>NaN</td>\n",
       "      <td>NaN</td>\n",
       "      <td>NaN</td>\n",
       "      <td>NaN</td>\n",
       "      <td>NaN</td>\n",
       "      <td>NaN</td>\n",
       "      <td>NaN</td>\n",
       "      <td>A-level</td>\n",
       "      <td>No, did not vote</td>\n",
       "    </tr>\n",
       "    <tr>\n",
       "      <th>30945</th>\n",
       "      <td>109216</td>\n",
       "      <td>2022-05-20 09:55:49.827</td>\n",
       "      <td>2022-05-20 10:37:06.788</td>\n",
       "      <td>3.207675</td>\n",
       "      <td>Fairly likely</td>\n",
       "      <td>Liberal Democrat</td>\n",
       "      <td>Not very strong</td>\n",
       "      <td>Liberal Democrat</td>\n",
       "      <td>NaN</td>\n",
       "      <td>No, I have never attended higher education</td>\n",
       "      <td>...</td>\n",
       "      <td>NaN</td>\n",
       "      <td>NaN</td>\n",
       "      <td>NaN</td>\n",
       "      <td>NaN</td>\n",
       "      <td>NaN</td>\n",
       "      <td>NaN</td>\n",
       "      <td>NaN</td>\n",
       "      <td>NaN</td>\n",
       "      <td>A-level</td>\n",
       "      <td>No, did not vote</td>\n",
       "    </tr>\n",
       "    <tr>\n",
       "      <th>30946</th>\n",
       "      <td>109217</td>\n",
       "      <td>2022-05-20 15:58:35.565</td>\n",
       "      <td>2022-05-20 16:38:37.467</td>\n",
       "      <td>1.641358</td>\n",
       "      <td>Very likely that I would vote</td>\n",
       "      <td>Labour</td>\n",
       "      <td>Fairly strong</td>\n",
       "      <td>Labour</td>\n",
       "      <td>NaN</td>\n",
       "      <td>No, I have never attended higher education</td>\n",
       "      <td>...</td>\n",
       "      <td>NaN</td>\n",
       "      <td>NaN</td>\n",
       "      <td>NaN</td>\n",
       "      <td>NaN</td>\n",
       "      <td>NaN</td>\n",
       "      <td>NaN</td>\n",
       "      <td>NaN</td>\n",
       "      <td>NaN</td>\n",
       "      <td>No qualifications</td>\n",
       "      <td>No, did not vote</td>\n",
       "    </tr>\n",
       "    <tr>\n",
       "      <th>30947</th>\n",
       "      <td>109218</td>\n",
       "      <td>2022-05-22 09:15:20.594</td>\n",
       "      <td>2022-05-22 09:34:33.404</td>\n",
       "      <td>1.058578</td>\n",
       "      <td>Fairly likely</td>\n",
       "      <td>Don't know</td>\n",
       "      <td>Not very strong</td>\n",
       "      <td>Conservative</td>\n",
       "      <td>NaN</td>\n",
       "      <td>Yes, I am currently enrolled in higher education</td>\n",
       "      <td>...</td>\n",
       "      <td>NaN</td>\n",
       "      <td>NaN</td>\n",
       "      <td>NaN</td>\n",
       "      <td>I voted to leave</td>\n",
       "      <td>NaN</td>\n",
       "      <td>NaN</td>\n",
       "      <td>NaN</td>\n",
       "      <td>NaN</td>\n",
       "      <td>Undergraduate</td>\n",
       "      <td>Yes, voted</td>\n",
       "    </tr>\n",
       "    <tr>\n",
       "      <th>30948</th>\n",
       "      <td>109219</td>\n",
       "      <td>2022-05-21 01:15:47.082</td>\n",
       "      <td>2022-05-21 01:56:54.408</td>\n",
       "      <td>1.630763</td>\n",
       "      <td>Don't know</td>\n",
       "      <td>Don't know</td>\n",
       "      <td>NaN</td>\n",
       "      <td>No - none</td>\n",
       "      <td>No - none</td>\n",
       "      <td>No, I have never attended higher education</td>\n",
       "      <td>...</td>\n",
       "      <td>NaN</td>\n",
       "      <td>NaN</td>\n",
       "      <td>NaN</td>\n",
       "      <td>NaN</td>\n",
       "      <td>NaN</td>\n",
       "      <td>NaN</td>\n",
       "      <td>NaN</td>\n",
       "      <td>NaN</td>\n",
       "      <td>NaN</td>\n",
       "      <td>No, did not vote</td>\n",
       "    </tr>\n",
       "  </tbody>\n",
       "</table>\n",
       "<p>30949 rows × 457 columns</p>\n",
       "</div>"
      ],
      "text/plain": [
       "           id               starttime                 endtime        wt  \\\n",
       "0           2 2022-05-18 22:45:36.093 2022-05-18 23:10:23.123  0.547746   \n",
       "1           3 2022-05-13 08:17:57.260 2022-05-13 08:44:23.873  0.571612   \n",
       "2           7 2022-05-10 18:46:54.150 2022-05-10 19:29:48.656  0.406625   \n",
       "3          11 2022-05-20 12:24:33.089 2022-05-20 13:08:46.504  0.912995   \n",
       "4          14 2022-05-15 09:00:24.733 2022-05-15 09:18:57.988  0.580910   \n",
       "...       ...                     ...                     ...       ...   \n",
       "30944  109215 2022-05-20 12:24:49.909 2022-05-20 12:56:18.504  0.465997   \n",
       "30945  109216 2022-05-20 09:55:49.827 2022-05-20 10:37:06.788  3.207675   \n",
       "30946  109217 2022-05-20 15:58:35.565 2022-05-20 16:38:37.467  1.641358   \n",
       "30947  109218 2022-05-22 09:15:20.594 2022-05-22 09:34:33.404  1.058578   \n",
       "30948  109219 2022-05-21 01:15:47.082 2022-05-21 01:56:54.408  1.630763   \n",
       "\n",
       "                    turnoutUKGeneral            generalElectionVote  \\\n",
       "0                      Fairly likely                     Don't know   \n",
       "1        Neither likely nor unlikely                         Labour   \n",
       "2      Very likely that I would vote  Scottish National Party (SNP)   \n",
       "3      Very likely that I would vote                   Conservative   \n",
       "4      Very likely that I would vote                   Conservative   \n",
       "...                              ...                            ...   \n",
       "30944  Very likely that I would vote               Liberal Democrat   \n",
       "30945                  Fairly likely               Liberal Democrat   \n",
       "30946  Very likely that I would vote                         Labour   \n",
       "30947                  Fairly likely                     Don't know   \n",
       "30948                     Don't know                     Don't know   \n",
       "\n",
       "       partyIdStrength                        partyId partyIdSqueeze  \\\n",
       "0        Fairly strong                   Conservative            NaN   \n",
       "1      Not very strong               Liberal Democrat            NaN   \n",
       "2          Very strong  Scottish National Party (SNP)            NaN   \n",
       "3      Not very strong                   Conservative            NaN   \n",
       "4          Very strong                   Conservative            NaN   \n",
       "...                ...                            ...            ...   \n",
       "30944  Not very strong                   Conservative            NaN   \n",
       "30945  Not very strong               Liberal Democrat            NaN   \n",
       "30946    Fairly strong                         Labour            NaN   \n",
       "30947  Not very strong                   Conservative            NaN   \n",
       "30948              NaN                      No - none      No - none   \n",
       "\n",
       "                                           anyUniW21W22  ...  \\\n",
       "0                Yes, I graduated from higher education  ...   \n",
       "1                                                   NaN  ...   \n",
       "2            No, I have never attended higher education  ...   \n",
       "3                                                   NaN  ...   \n",
       "4            No, I have never attended higher education  ...   \n",
       "...                                                 ...  ...   \n",
       "30944  Yes, I am currently enrolled in higher education  ...   \n",
       "30945        No, I have never attended higher education  ...   \n",
       "30946        No, I have never attended higher education  ...   \n",
       "30947  Yes, I am currently enrolled in higher education  ...   \n",
       "30948        No, I have never attended higher education  ...   \n",
       "\n",
       "               p_scot_list_vote_2016 p_welsh_const_vote_2016  \\\n",
       "0                                NaN                     NaN   \n",
       "1                                NaN                     NaN   \n",
       "2      Scottish National Party (SNP)                     NaN   \n",
       "3                                NaN                     NaN   \n",
       "4                                NaN                     NaN   \n",
       "...                              ...                     ...   \n",
       "30944                            NaN                     NaN   \n",
       "30945                            NaN                     NaN   \n",
       "30946                            NaN                     NaN   \n",
       "30947                            NaN                     NaN   \n",
       "30948                            NaN                     NaN   \n",
       "\n",
       "      p_welsh_list_vote_2016        p_eurefvote p_vote_scot_ref  \\\n",
       "0                        NaN   I voted to leave             NaN   \n",
       "1                        NaN   I voted to leave             NaN   \n",
       "2                        NaN  I voted to remain        Voted no   \n",
       "3                        NaN   I voted to leave             NaN   \n",
       "4                        NaN   I voted to leave             NaN   \n",
       "...                      ...                ...             ...   \n",
       "30944                    NaN                NaN             NaN   \n",
       "30945                    NaN                NaN             NaN   \n",
       "30946                    NaN                NaN             NaN   \n",
       "30947                    NaN   I voted to leave             NaN   \n",
       "30948                    NaN                NaN             NaN   \n",
       "\n",
       "      p_turnout_2010 p_turnout_2005 p_turnout_scot_ref          p_edlevel  \\\n",
       "0       Yes, I voted   Yes, I voted                NaN      Undergraduate   \n",
       "1       Yes, I voted   Yes, I voted                NaN            A-level   \n",
       "2       Yes, I voted   Yes, I voted       Yes, I voted            A-level   \n",
       "3       Yes, I voted   Yes, I voted                NaN      Undergraduate   \n",
       "4       Yes, I voted   Yes, I voted                NaN  No qualifications   \n",
       "...              ...            ...                ...                ...   \n",
       "30944            NaN            NaN                NaN            A-level   \n",
       "30945            NaN            NaN                NaN            A-level   \n",
       "30946            NaN            NaN                NaN  No qualifications   \n",
       "30947            NaN            NaN                NaN      Undergraduate   \n",
       "30948            NaN            NaN                NaN                NaN   \n",
       "\n",
       "         p_eurefturnout  \n",
       "0            Yes, voted  \n",
       "1            Yes, voted  \n",
       "2            Yes, voted  \n",
       "3            Yes, voted  \n",
       "4            Yes, voted  \n",
       "...                 ...  \n",
       "30944  No, did not vote  \n",
       "30945  No, did not vote  \n",
       "30946  No, did not vote  \n",
       "30947        Yes, voted  \n",
       "30948  No, did not vote  \n",
       "\n",
       "[30949 rows x 457 columns]"
      ]
     },
     "execution_count": 268,
     "metadata": {},
     "output_type": "execute_result"
    }
   ],
   "source": []
  },
  {
   "cell_type": "code",
   "execution_count": null,
   "id": "11045a1e",
   "metadata": {},
   "outputs": [],
   "source": []
  },
  {
   "cell_type": "code",
   "execution_count": null,
   "id": "ee2dc623",
   "metadata": {},
   "outputs": [],
   "source": []
  },
  {
   "cell_type": "code",
   "execution_count": null,
   "id": "0673359c",
   "metadata": {},
   "outputs": [],
   "source": []
  },
  {
   "cell_type": "code",
   "execution_count": null,
   "id": "74594c56",
   "metadata": {},
   "outputs": [],
   "source": []
  },
  {
   "cell_type": "code",
   "execution_count": null,
   "id": "1728aa26",
   "metadata": {},
   "outputs": [],
   "source": []
  },
  {
   "cell_type": "code",
   "execution_count": null,
   "id": "0535de61",
   "metadata": {},
   "outputs": [],
   "source": []
  },
  {
   "cell_type": "code",
   "execution_count": null,
   "id": "63b2167e",
   "metadata": {},
   "outputs": [],
   "source": []
  }
 ],
 "metadata": {
  "kernelspec": {
   "display_name": "Python 3",
   "language": "python",
   "name": "python3"
  },
  "language_info": {
   "codemirror_mode": {
    "name": "ipython",
    "version": 3
   },
   "file_extension": ".py",
   "mimetype": "text/x-python",
   "name": "python",
   "nbconvert_exporter": "python",
   "pygments_lexer": "ipython3",
   "version": "3.7.12"
  }
 },
 "nbformat": 4,
 "nbformat_minor": 5
}
