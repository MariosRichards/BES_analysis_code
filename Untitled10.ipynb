{
 "cells": [
  {
   "cell_type": "code",
   "execution_count": null,
   "metadata": {},
   "outputs": [],
   "source": []
  },
  {
   "cell_type": "code",
   "execution_count": 1,
   "metadata": {},
   "outputs": [
    {
     "data": {
      "text/html": [
       "<script>jQuery(function() {if (jQuery(\"body.notebook_app\").length == 0) { jQuery(\".input_area\").toggle(); jQuery(\".prompt\").toggle();}});</script>"
      ]
     },
     "metadata": {},
     "output_type": "display_data"
    },
    {
     "data": {
      "text/html": [
       "<button onclick=\"jQuery('.input_area').toggle(); jQuery('.prompt').toggle();\">Toggle code</button>"
      ]
     },
     "metadata": {},
     "output_type": "display_data"
    },
    {
     "name": "stdout",
     "output_type": "stream",
     "text": [
      "var_type (8079, 14)\n",
      "Wall time: 10.6 s\n"
     ]
    }
   ],
   "source": [
    "%%time\n",
    "dataset_name = \"W19_comb\"\n",
    "df_list = 'BES_reduced'\n",
    "%matplotlib inline\n",
    "%run BES_header.py {dataset_name} {df_list}\n",
    "(var_type, cat_dictionary, new_old_col_names, old_new_col_names) = get_small_files(data_subfolder, encoding)    "
   ]
  },
  {
   "cell_type": "code",
   "execution_count": 2,
   "metadata": {},
   "outputs": [],
   "source": [
    "pan_dataset_allr_values = pd.read_pickle(BES_small_data_files + \"pan_dataset_allr_valuesW19\"+\".zip\",compression='zip')\n",
    "pan_dataset_ages = pd.read_pickle(BES_small_data_files + \"pan_dataset_ages\"+\".zip\", compression='zip')\n",
    "pan_dataset_votes = pd.read_pickle(BES_small_data_files+\"pan_dataset_votes\"+\".zip\",compression='zip')"
   ]
  },
  {
   "cell_type": "code",
   "execution_count": 3,
   "metadata": {},
   "outputs": [],
   "source": [
    "GE2019 = pan_dataset_votes[\"2019GEVote_simple\"].replace(\"UNK\",np.nan)\n",
    "mask = GE2019.notnull()\n",
    "GE2019 = GE2019[mask]"
   ]
  },
  {
   "cell_type": "code",
   "execution_count": null,
   "metadata": {},
   "outputs": [],
   "source": []
  },
  {
   "cell_type": "code",
   "execution_count": 4,
   "metadata": {},
   "outputs": [],
   "source": [
    "decomp_index = BES_reduced[mask].index\n",
    "decomp_columns = BES_reduced.columns\n",
    "clean_feature_set_std = StandardScaler().fit_transform(BES_reduced[mask].values )\n",
    "decomp_std = pd.DataFrame(   clean_feature_set_std,\n",
    "                             columns = decomp_columns,\n",
    "                             index   = decomp_index      )"
   ]
  },
  {
   "cell_type": "code",
   "execution_count": 5,
   "metadata": {},
   "outputs": [],
   "source": [
    "# # from collections import OrderedDict\n",
    "# from functools import partial\n",
    "from time import time\n",
    "\n",
    "# import matplotlib.pyplot as plt\n",
    "# from mpl_toolkits.mplot3d import Axes3D\n",
    "from matplotlib.ticker import NullFormatter\n",
    "\n",
    "from sklearn import manifold, datasets"
   ]
  },
  {
   "cell_type": "code",
   "execution_count": null,
   "metadata": {},
   "outputs": [],
   "source": [
    "X = decomp_std[::10].values#MCP_vals.values\n",
    "# color = MCP_vals[\"right-left ideological index(rile)\"]\n",
    "# parfam = manifesto_project.loc[MCP_vals.index,\"parfam\"]\n",
    "# parfam = parfam.replace(\"div divers alliance\",np.nan).replace(\"mi missing information\",np.nan).cat.remove_unused_categories()\n",
    "color = GE2019[::10]\n",
    "n_components = 2\n",
    "\n",
    "# Create figure\n",
    "fig = plt.figure(figsize=(18, 8))\n",
    "# fig.suptitle(\"Manifold Learning with %i points, %i neighbors\"\n",
    "#              % (1000, n_neighbors), fontsize=14)\n",
    "\n",
    "man = manifold.TSNE(n_components=n_components, init='pca',\n",
    "                                 random_state=0, perplexity=30)\n",
    "sns.set();\n",
    "sns.set_palette(\"colorblind\")\n",
    "\n",
    "t0 = time()\n",
    "Y = man.fit_transform(X)\n",
    "t1 = time()\n",
    "print(\"%s: %.2g sec\" % (label, t1 - t0))\n",
    "ax = plt.gca()\n",
    "filled_markers = ('o', 'v', '^', '<', '>', '8', 's', 'p', '*', 'h', 'H', 'D', 'd', 'P', 'X')\n",
    "scat = sns.scatterplot(Y[:, 0], Y[:, 1], hue=color, style=color, s=50, markers=filled_markers)\n",
    "# cmap=plt.cm.Spectral\n",
    "# fig.colorbar(scat)\n",
    "ax.set_title(\"%s (%.2g sec)\" % (label, t1 - t0));\n",
    "ax.xaxis.set_major_formatter(NullFormatter());\n",
    "ax.yaxis.set_major_formatter(NullFormatter());\n",
    "ax.axis('tight');"
   ]
  },
  {
   "cell_type": "code",
   "execution_count": null,
   "metadata": {},
   "outputs": [],
   "source": []
  },
  {
   "cell_type": "code",
   "execution_count": null,
   "metadata": {},
   "outputs": [],
   "source": []
  },
  {
   "cell_type": "code",
   "execution_count": null,
   "metadata": {},
   "outputs": [],
   "source": []
  },
  {
   "cell_type": "code",
   "execution_count": null,
   "metadata": {},
   "outputs": [],
   "source": []
  }
 ],
 "metadata": {
  "kernelspec": {
   "display_name": "Python [conda env:BES_analysis] *",
   "language": "python",
   "name": "conda-env-BES_analysis-py"
  },
  "language_info": {
   "codemirror_mode": {
    "name": "ipython",
    "version": 3
   },
   "file_extension": ".py",
   "mimetype": "text/x-python",
   "name": "python",
   "nbconvert_exporter": "python",
   "pygments_lexer": "ipython3",
   "version": "3.7.6"
  }
 },
 "nbformat": 4,
 "nbformat_minor": 4
}
