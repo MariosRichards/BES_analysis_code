{
 "cells": [
  {
   "cell_type": "code",
   "execution_count": 1,
   "metadata": {},
   "outputs": [],
   "source": [
    "# Try to buid a nice looking network diagram of the Labour Leave/Remain like/ptv split\n",
    "\n",
    "\n",
    "\n",
    "\n",
    "# but what about \"getting voters back?\"\n",
    "# marginal seats double-weight LAB -> CON\n",
    "# what about non-voting?\n"
   ]
  },
  {
   "cell_type": "code",
   "execution_count": 2,
   "metadata": {},
   "outputs": [
    {
     "name": "stdout",
     "output_type": "stream",
     "text": [
      "var_type (5692, 13)\n"
     ]
    }
   ],
   "source": [
    "dataset_name = \"W14_comb\"\n",
    "df_list = [\n",
    "           \"BES_Panel\",\n",
    "           \"BES_reduced_with_na\",\n",
    "#            \"BESnumeric\"\n",
    "#            \"BES_reduced\",\n",
    "#            \"BESnumeric\"\n",
    "          ]\n",
    "\n",
    "import numpy as np, pandas as pd, matplotlib.pyplot as plt, seaborn as sns\n",
    "import pickle, os, gc, re\n",
    "\n",
    "from IPython.display import display, display_html, HTML\n",
    "\n",
    "import Jupyter_module_loader\n",
    "from utility import *\n",
    "import gaussian_kde\n",
    "# you should clone this git to a subdirectory called 'BES_analysis_code' (in some directory - I call it BES_analysis - doesn't matter though)\n",
    "%matplotlib inline\n",
    "encoding = \"ISO-8859-1\"\n",
    "\n",
    "(BES_code_folder, BES_small_data_files, BES_data_folder,\n",
    " BES_output_folder, BES_file_manifest, BES_R_data_files) = setup_directories()\n",
    "\n",
    "\n",
    "global BES_Panel, BES_numeric, BES_reduced, BES_reduced_with_na, BES_non_numeric\n",
    "data_subfolder = BES_data_folder + dataset_name + os.sep\n",
    "\n",
    "(manifest, dataset_filename, dataset_description, dataset_citation,\n",
    " dataset_start, dataset_stop, dataset_wave) = get_manifest(dataset_name, BES_file_manifest)\n",
    "\n",
    "for df in df_list:\n",
    "    if df==\"BES_Panel\":\n",
    "        globals()[df]  = pd.read_msgpack(data_subfolder + dataset_filename.replace('.dta','.msgpack'))\n",
    "    else:\n",
    "        globals()[df]  = pd.read_msgpack(data_subfolder + df + '.msgpack' )\n",
    "        globals()[df].replace(-1,np.nan,inplace=True)\n",
    "  \n",
    "(var_type, cat_dictionary, new_old_col_names, old_new_col_names) = get_small_files(data_subfolder, encoding)\n"
   ]
  },
  {
   "cell_type": "code",
   "execution_count": 3,
   "metadata": {},
   "outputs": [],
   "source": [
    "def sort_by_wave(lst):\n",
    "    dict_by_wave = {int(x.split(\"W\")[-1]):x for x in lst}\n",
    "    return [dict_by_wave[x] for x in sorted(dict_by_wave.keys())]\n",
    "    \n",
    "max_wave, num_to_wave, num_to_weight, weights = get_weights(dataset_name,BES_Panel)"
   ]
  },
  {
   "cell_type": "code",
   "execution_count": 4,
   "metadata": {},
   "outputs": [],
   "source": [
    "def BES_weighted_mean(data, wave=None):\n",
    "#   lets say wave is a wave no!\n",
    "    if wave is None:\n",
    "        wts = get_all_weights(None,BES_Panel).loc[data.index]\n",
    "        mask = data.notnull()&wts.notnull()\n",
    "        total_weight = wts[mask].sum()\n",
    "        if mask.sum() ==0:\n",
    "            return np.nan\n",
    "        else:\n",
    "            return((data[mask]*wts[mask]).sum()/total_weight)\n",
    "    else:\n",
    "        wts = weights[num_to_weight[wave]]\n",
    "        mask = data.notnull()&wts.notnull()\n",
    "        total_weight = wts[mask].sum()\n",
    "        if mask.sum() ==0:\n",
    "            return np.nan\n",
    "        else:\n",
    "            return((data[mask]*wts[mask]).sum()/total_weight)\n",
    "#     raise Exception"
   ]
  },
  {
   "cell_type": "code",
   "execution_count": 5,
   "metadata": {},
   "outputs": [],
   "source": [
    "BES_Panel = pd.read_msgpack(\"E:\\\\Downloads\\\\BES2017_W14_Panel_v0.4.msgpack\")"
   ]
  },
  {
   "cell_type": "code",
   "execution_count": 11,
   "metadata": {},
   "outputs": [
    {
     "data": {
      "text/plain": [
       "profile_past_vote_2005    53351\n",
       "profile_past_vote_2010    63248\n",
       "profile_past_vote_2017    37245\n",
       "profile_past_vote_2015    57064\n",
       "dtype: int64"
      ]
     },
     "execution_count": 11,
     "metadata": {},
     "output_type": "execute_result"
    }
   ],
   "source": [
    "search(BES_Panel,\"profile_past\")"
   ]
  },
  {
   "cell_type": "code",
   "execution_count": 12,
   "metadata": {},
   "outputs": [
    {
     "data": {
      "text/plain": [
       "Conservative                                14821\n",
       "Labour                                      14532\n",
       "Liberal Democrat                             3311\n",
       "Scottish National Party (SNP)                1674\n",
       "United Kingdom Independence Party (UKIP)      934\n",
       "Green Party                                   783\n",
       "Other                                         491\n",
       "Don't know                                    444\n",
       "Plaid Cymru                                   255\n",
       "Name: profile_past_vote_2017, dtype: int64"
      ]
     },
     "execution_count": 12,
     "metadata": {},
     "output_type": "execute_result"
    }
   ],
   "source": [
    "BES_Panel[\"profile_past_vote_2017\"].value_counts()"
   ]
  },
  {
   "cell_type": "code",
   "execution_count": 13,
   "metadata": {},
   "outputs": [],
   "source": [
    "Labour2017 = BES_Panel[\"profile_past_vote_2017\"] == \"Labour\""
   ]
  },
  {
   "cell_type": "code",
   "execution_count": 14,
   "metadata": {},
   "outputs": [
    {
     "data": {
      "text/plain": [
       "euRefVoteW1                30327\n",
       "euRefVoteW2                25798\n",
       "euRefVoteW3                27830\n",
       "euRefVoteW4                31442\n",
       "euRefVoteW6                30150\n",
       "euRefVoteW7                30895\n",
       "euRefVoteSqueezeW7          4717\n",
       "euRefVoteUnsqueezeW7       30895\n",
       "euRefVotePostW8             4326\n",
       "euRefVoteW8                33501\n",
       "euRefVoteSqueezeW8          3818\n",
       "euRefVoteUnsqueezeW8       29175\n",
       "euRefVote2W8               29175\n",
       "euRefVoteHypotheticalW9     1788\n",
       "euRefVoteW9                28248\n",
       "euRefVoteW10               30237\n",
       "euRefVoteW11               30956\n",
       "euRefVoteW12               34394\n",
       "euRefVoteW13               31136\n",
       "euRefVoteW14               31063\n",
       "profile_eurefvote          49745\n",
       "dtype: int64"
      ]
     },
     "execution_count": 14,
     "metadata": {},
     "output_type": "execute_result"
    }
   ],
   "source": [
    "search(BES_Panel,\"eurefVote\")"
   ]
  },
  {
   "cell_type": "code",
   "execution_count": 15,
   "metadata": {},
   "outputs": [
    {
     "data": {
      "text/plain": [
       "ptvLabW1        15107\n",
       "ptvLabW2        15199\n",
       "ptvLabW3        13971\n",
       "ptvLabW4        15801\n",
       "ptvLabW5        15458\n",
       "ptvLabW6        15191\n",
       "ptvLabW7        30895\n",
       "ptvLabW8         8966\n",
       "ptvLabW9        30036\n",
       "ptvLabW10       30237\n",
       "ptvLabW11       30956\n",
       "ptvLabW12        8515\n",
       "ptvLabW13       31136\n",
       "ptvLabExpW14     7939\n",
       "dtype: int64"
      ]
     },
     "execution_count": 15,
     "metadata": {},
     "output_type": "execute_result"
    }
   ],
   "source": [
    "search(BES_Panel,\"ptvLab\")\n",
    "# amalgamating mandatory!"
   ]
  },
  {
   "cell_type": "code",
   "execution_count": 16,
   "metadata": {},
   "outputs": [
    {
     "data": {
      "text/plain": [
       "likeLabW1     15225\n",
       "likeLabW2     15041\n",
       "likeLabW3     13854\n",
       "likeLabW4     15641\n",
       "likeLabW5     15374\n",
       "likeLabW6     14959\n",
       "likeLabW7     30895\n",
       "likeLabW8     33502\n",
       "likeLabW9     30036\n",
       "likeLabW10    30237\n",
       "likeLabW11    30956\n",
       "likeLabW12    34394\n",
       "likeLabW13    31136\n",
       "likeLabW14    31063\n",
       "dtype: int64"
      ]
     },
     "execution_count": 16,
     "metadata": {},
     "output_type": "execute_result"
    }
   ],
   "source": [
    "search(BES_Panel,\"likeLab\")"
   ]
  },
  {
   "cell_type": "code",
   "execution_count": 17,
   "metadata": {},
   "outputs": [
    {
     "data": {
      "text/plain": [
       "likeMayW14         31063\n",
       "likeCorbynW14      31063\n",
       "likeCableW14       31063\n",
       "likeSturgeonW14     3408\n",
       "likeWoodW14         2028\n",
       "likeBattenW14      31063\n",
       "likeLucasW14       31063\n",
       "likeDavidsonW14     3408\n",
       "likeLeonardW14      3408\n",
       "likeHarvieW14       3408\n",
       "likeRennieW14       3408\n",
       "likeConW14         31063\n",
       "likeLabW14         31063\n",
       "likeLDW14          31063\n",
       "likeSNPW14          3408\n",
       "likePCW14           2028\n",
       "likeUKIPW14        31063\n",
       "likeGrnW14         31063\n",
       "likeBorisW14        7691\n",
       "likeGoveW14         7691\n",
       "likeMoggW14         7691\n",
       "likeRuddW14         7691\n",
       "likeHuntW14         7691\n",
       "likeJavidW14        7691\n",
       "dtype: int64"
      ]
     },
     "execution_count": 17,
     "metadata": {},
     "output_type": "execute_result"
    }
   ],
   "source": [
    "search(BES_Panel,\"like.*W14\")\n",
    "# Lab/Con/LD/SNP/PC/UKIP/Grn/"
   ]
  },
  {
   "cell_type": "code",
   "execution_count": 18,
   "metadata": {},
   "outputs": [
    {
     "data": {
      "text/plain": [
       "ptvexpgrpW14     7939\n",
       "ptvConExpW14     7939\n",
       "ptvLabExpW14     7939\n",
       "ptvLDExpW14      7939\n",
       "ptvSNPExpW14      896\n",
       "ptvPCExpW14       521\n",
       "ptvUKIPExpW14    7939\n",
       "ptvGrnExpW14     7939\n",
       "dtype: int64"
      ]
     },
     "execution_count": 18,
     "metadata": {},
     "output_type": "execute_result"
    }
   ],
   "source": [
    "search(BES_Panel,\"ptv.*W14\")\n",
    "# amalgamating mandatory!"
   ]
  },
  {
   "cell_type": "code",
   "execution_count": 19,
   "metadata": {},
   "outputs": [
    {
     "data": {
      "text/plain": [
       "2.0    1185\n",
       "3.0    1157\n",
       "7.0    1148\n",
       "5.0    1119\n",
       "1.0    1117\n",
       "4.0    1112\n",
       "6.0    1101\n",
       "Name: ptvexpgrpW14, dtype: int64"
      ]
     },
     "execution_count": 19,
     "metadata": {},
     "output_type": "execute_result"
    }
   ],
   "source": [
    "BES_Panel[\"ptvexpgrpW14\"].value_counts()"
   ]
  },
  {
   "cell_type": "code",
   "execution_count": 20,
   "metadata": {},
   "outputs": [
    {
     "data": {
      "text/plain": [
       "likeSNPW1          2915\n",
       "likeSNPW2          2941\n",
       "likeSNPW3          2559\n",
       "likeSNPW4          2654\n",
       "likeSNPW5          2723\n",
       "likeSNPExtraW5     3543\n",
       "likeSNPW6         14959\n",
       "likeSNPW7          4215\n",
       "likeSNPW8          4278\n",
       "likeSNPW9          3892\n",
       "likeSNPW10         3397\n",
       "likeSNPW11        30956\n",
       "likeSNPW12        34394\n",
       "likeSNPW13        31136\n",
       "likeSNPW14         3408\n",
       "dtype: int64"
      ]
     },
     "execution_count": 20,
     "metadata": {},
     "output_type": "execute_result"
    }
   ],
   "source": [
    "search(BES_Panel,\"likeSNP\")"
   ]
  },
  {
   "cell_type": "code",
   "execution_count": 21,
   "metadata": {},
   "outputs": [
    {
     "name": "stdout",
     "output_type": "stream",
     "text": [
      "Amalgamating variables: \n",
      "{1: 'euRefVoteW1', 2: 'euRefVoteW2', 3: 'euRefVoteW3', 4: 'euRefVoteW4', 6: 'euRefVoteW6', 7: 'euRefVoteW7', 8: 'euRefVoteW8', 9: 'euRefVoteW9', 10: 'euRefVoteW10', 11: 'euRefVoteW11', 12: 'euRefVoteW12', 13: 'euRefVoteW13', 14: 'euRefVoteW14'}\n"
     ]
    },
    {
     "data": {
      "text/plain": [
       "0                 Leave the EU\n",
       "1                 Leave the EU\n",
       "2                 Leave the EU\n",
       "3                 Leave the EU\n",
       "4                 Leave the EU\n",
       "5                 Leave the EU\n",
       "6        Stay/remain in the EU\n",
       "7                 Leave the EU\n",
       "8        Stay/remain in the EU\n",
       "9        Stay/remain in the EU\n",
       "10                Leave the EU\n",
       "11                Leave the EU\n",
       "12       Stay/remain in the EU\n",
       "13                Leave the EU\n",
       "14                Leave the EU\n",
       "15       Stay/remain in the EU\n",
       "16                Leave the EU\n",
       "17       Stay/remain in the EU\n",
       "18       Stay/remain in the EU\n",
       "19                Leave the EU\n",
       "20                Leave the EU\n",
       "21       Stay/remain in the EU\n",
       "22                Leave the EU\n",
       "23       Stay/remain in the EU\n",
       "24                Leave the EU\n",
       "25                Leave the EU\n",
       "26                Leave the EU\n",
       "27       Stay/remain in the EU\n",
       "28                Leave the EU\n",
       "29                Leave the EU\n",
       "                 ...          \n",
       "73673    Stay/remain in the EU\n",
       "73674    I would/will not vote\n",
       "73675    Stay/remain in the EU\n",
       "73676    Stay/remain in the EU\n",
       "73677    Stay/remain in the EU\n",
       "73678             Leave the EU\n",
       "73679    Stay/remain in the EU\n",
       "73680    Stay/remain in the EU\n",
       "73681    Stay/remain in the EU\n",
       "73682    Stay/remain in the EU\n",
       "73683             Leave the EU\n",
       "73684    Stay/remain in the EU\n",
       "73685    Stay/remain in the EU\n",
       "73686    Stay/remain in the EU\n",
       "73687               Don't know\n",
       "73688    Stay/remain in the EU\n",
       "73689               Don't know\n",
       "73690    Stay/remain in the EU\n",
       "73691    Stay/remain in the EU\n",
       "73692    Stay/remain in the EU\n",
       "73693             Leave the EU\n",
       "73694    Stay/remain in the EU\n",
       "73695               Don't know\n",
       "73696    Stay/remain in the EU\n",
       "73697               Don't know\n",
       "73698             Leave the EU\n",
       "73699             Leave the EU\n",
       "73700             Leave the EU\n",
       "73701    Stay/remain in the EU\n",
       "73702    Stay/remain in the EU\n",
       "Name: euRefVoteW1&2&3&4&6&7&8&9&10&11&12&13&14, Length: 73703, dtype: category\n",
       "Categories (4, object): [Stay/remain in the EU, Leave the EU, I would/will not vote, Don't know]"
      ]
     },
     "execution_count": 21,
     "metadata": {},
     "output_type": "execute_result"
    }
   ],
   "source": [
    "euref_amalgamated = amalgamate_waves(BES_Panel, \"euRefVoteW\\d+\")\n",
    "euref_amalgamated"
   ]
  },
  {
   "cell_type": "code",
   "execution_count": 22,
   "metadata": {},
   "outputs": [
    {
     "data": {
      "text/plain": [
       "Stay/remain in the EU    36756\n",
       "Leave the EU             29040\n",
       "Name: euRefVoteW1&2&3&4&6&7&8&9&10&11&12&13&14, dtype: int64"
      ]
     },
     "execution_count": 22,
     "metadata": {},
     "output_type": "execute_result"
    }
   ],
   "source": [
    "# euref_amalgamated.replace(\"I would/will not vote\",np.nan).replace(\"Don't know\",np.nan).value_counts()\n",
    "euref_amalgamated.cat.remove_categories([\"I would/will not vote\", \"Don't know\"]).value_counts()"
   ]
  },
  {
   "cell_type": "code",
   "execution_count": 23,
   "metadata": {},
   "outputs": [],
   "source": [
    "def like_by_party_by_euref(like_type, mask,\n",
    "                           party_list, cat_list,\n",
    "                           wave, split_var,\n",
    "                           maximise_euref=False):\n",
    "    df = pd.DataFrame(columns = [\"Remain%\",\"Leave%\",\"Remain_N\",\"Leave_N\",\"Remain_frac\",\"Leave_frac\",\"Weighted_average\"])\n",
    "    \n",
    "    \n",
    "    for like_var in party_list:\n",
    "        like_amalgamated = amalgamate_waves(BES_Panel,like_type+like_var)\n",
    "        # amalgamate\n",
    "        \n",
    "        \n",
    "\n",
    "        if maximise_euref:\n",
    "            euRefSer = amalgamate_waves(BES_Panel, \"euRefVoteW\\d+\")\n",
    "            euRefSer = euRefSer.cat.remove_categories([\"I would/will not vote\", \"Don't know\"])\n",
    "        else:\n",
    "            euRefSer = BES_Panel[split_var]\n",
    "            euRefSer = euRefSer.cat.remove_categories([\"I would/will not vote\", \"Don't know\"])            \n",
    "            \n",
    "            \n",
    "            \n",
    "        ct = pd.crosstab(euRefSer[mask],\n",
    "                    like_amalgamated[mask],\n",
    "                    values = weights[num_to_weight[wave]][mask], aggfunc=sum, normalize='index')*100\n",
    "\n",
    "        ct_N = pd.crosstab(euRefSer[mask],\n",
    "                    like_amalgamated[mask])  \n",
    "\n",
    "        ct_Leave_Remain = pd.crosstab(euRefSer[mask],\n",
    "                    like_amalgamated[mask],\n",
    "                    values = weights[num_to_weight[wave]][mask], aggfunc=sum, normalize='all')*100            \n",
    "            \n",
    "        Remainer_like_frac = ct[cat_list].sum(axis=1).loc[\"Stay/remain in the EU\"  ]\n",
    "        Leaver_like_frac   = ct[cat_list].sum(axis=1).loc[\"Leave the EU\"]\n",
    "        Leave_frac = ct_Leave_Remain.sum(axis=1).loc[\"Leave the EU\"]\n",
    "        Remain_frac = ct_Leave_Remain.sum(axis=1).loc[\"Stay/remain in the EU\"]        \n",
    "        \n",
    "        Weighted_average = ((Remainer_like_frac*Remain_frac/100) + (Leaver_like_frac*Leave_frac/100))\n",
    "        \n",
    "\n",
    "        df.loc[like_var] = [  Remainer_like_frac,\n",
    "                              Leaver_like_frac,\n",
    "                              ct_N[cat_list].sum(axis=1).loc[\"Stay/remain in the EU\"],\n",
    "                              ct_N[cat_list].sum(axis=1).loc[\"Leave the EU\"],\n",
    "                              Remain_frac,\n",
    "                              Leave_frac,\n",
    "                              Weighted_average\n",
    "                           ]   \n",
    "    return df"
   ]
  },
  {
   "cell_type": "code",
   "execution_count": null,
   "metadata": {},
   "outputs": [],
   "source": []
  },
  {
   "cell_type": "code",
   "execution_count": 24,
   "metadata": {},
   "outputs": [
    {
     "name": "stdout",
     "output_type": "stream",
     "text": [
      "Amalgamating variables: \n",
      "{1: 'likeLabW1', 2: 'likeLabW2', 3: 'likeLabW3', 4: 'likeLabW4', 5: 'likeLabW5', 6: 'likeLabW6', 7: 'likeLabW7', 8: 'likeLabW8', 9: 'likeLabW9', 10: 'likeLabW10', 11: 'likeLabW11', 12: 'likeLabW12', 13: 'likeLabW13', 14: 'likeLabW14'}\n",
      "Amalgamating variables: \n",
      "{1: 'euRefVoteW1', 2: 'euRefVoteW2', 3: 'euRefVoteW3', 4: 'euRefVoteW4', 6: 'euRefVoteW6', 7: 'euRefVoteW7', 8: 'euRefVoteW8', 9: 'euRefVoteW9', 10: 'euRefVoteW10', 11: 'euRefVoteW11', 12: 'euRefVoteW12', 13: 'euRefVoteW13', 14: 'euRefVoteW14'}\n",
      "Amalgamating variables: \n",
      "{1: 'likeConW1', 2: 'likeConW2', 3: 'likeConW3', 4: 'likeConW4', 5: 'likeConW5', 6: 'likeConW6', 7: 'likeConW7', 8: 'likeConW8', 9: 'likeConW9', 10: 'likeConW10', 11: 'likeConW11', 12: 'likeConW12', 13: 'likeConW13', 14: 'likeConW14'}\n",
      "Amalgamating variables: \n",
      "{1: 'euRefVoteW1', 2: 'euRefVoteW2', 3: 'euRefVoteW3', 4: 'euRefVoteW4', 6: 'euRefVoteW6', 7: 'euRefVoteW7', 8: 'euRefVoteW8', 9: 'euRefVoteW9', 10: 'euRefVoteW10', 11: 'euRefVoteW11', 12: 'euRefVoteW12', 13: 'euRefVoteW13', 14: 'euRefVoteW14'}\n",
      "Amalgamating variables: \n",
      "{1: 'likeLDW1', 2: 'likeLDW2', 3: 'likeLDW3', 4: 'likeLDW4', 5: 'likeLDW5', 6: 'likeLDW6', 7: 'likeLDW7', 8: 'likeLDW8', 9: 'likeLDW9', 10: 'likeLDW10', 11: 'likeLDW11', 12: 'likeLDW12', 13: 'likeLDW13', 14: 'likeLDW14'}\n",
      "Amalgamating variables: \n",
      "{1: 'euRefVoteW1', 2: 'euRefVoteW2', 3: 'euRefVoteW3', 4: 'euRefVoteW4', 6: 'euRefVoteW6', 7: 'euRefVoteW7', 8: 'euRefVoteW8', 9: 'euRefVoteW9', 10: 'euRefVoteW10', 11: 'euRefVoteW11', 12: 'euRefVoteW12', 13: 'euRefVoteW13', 14: 'euRefVoteW14'}\n",
      "Amalgamating variables: \n",
      "{1: 'likeSNPW1', 2: 'likeSNPW2', 3: 'likeSNPW3', 4: 'likeSNPW4', 5: 'likeSNPExtraW5', 6: 'likeSNPW6', 7: 'likeSNPW7', 8: 'likeSNPW8', 9: 'likeSNPW9', 10: 'likeSNPW10', 11: 'likeSNPW11', 12: 'likeSNPW12', 13: 'likeSNPW13', 14: 'likeSNPW14'}\n",
      "Amalgamating variables: \n",
      "{1: 'euRefVoteW1', 2: 'euRefVoteW2', 3: 'euRefVoteW3', 4: 'euRefVoteW4', 6: 'euRefVoteW6', 7: 'euRefVoteW7', 8: 'euRefVoteW8', 9: 'euRefVoteW9', 10: 'euRefVoteW10', 11: 'euRefVoteW11', 12: 'euRefVoteW12', 13: 'euRefVoteW13', 14: 'euRefVoteW14'}\n",
      "Amalgamating variables: \n",
      "{1: 'likePCW1', 2: 'likePCW2', 3: 'likePCW3', 4: 'likePCW4', 5: 'likePCW5', 6: 'likePCW6', 7: 'likePCW7', 8: 'likePCW8', 9: 'likePCW9', 10: 'likePCW10', 11: 'likePCW11', 12: 'likePCW12', 13: 'likePCW13', 14: 'likePCW14'}\n",
      "Amalgamating variables: \n",
      "{1: 'euRefVoteW1', 2: 'euRefVoteW2', 3: 'euRefVoteW3', 4: 'euRefVoteW4', 6: 'euRefVoteW6', 7: 'euRefVoteW7', 8: 'euRefVoteW8', 9: 'euRefVoteW9', 10: 'euRefVoteW10', 11: 'euRefVoteW11', 12: 'euRefVoteW12', 13: 'euRefVoteW13', 14: 'euRefVoteW14'}\n",
      "Amalgamating variables: \n",
      "{1: 'likeUKIPW1', 2: 'likeUKIPW2', 3: 'likeUKIPW3', 4: 'likeUKIPW4', 5: 'likeUKIPW5', 6: 'likeUKIPW6', 7: 'likeUKIPW7', 8: 'likeUKIPW8', 9: 'likeUKIPW9', 10: 'likeUKIPW10', 11: 'likeUKIPW11', 12: 'likeUKIPW12', 13: 'likeUKIPW13', 14: 'likeUKIPW14'}\n",
      "Amalgamating variables: \n",
      "{1: 'euRefVoteW1', 2: 'euRefVoteW2', 3: 'euRefVoteW3', 4: 'euRefVoteW4', 6: 'euRefVoteW6', 7: 'euRefVoteW7', 8: 'euRefVoteW8', 9: 'euRefVoteW9', 10: 'euRefVoteW10', 11: 'euRefVoteW11', 12: 'euRefVoteW12', 13: 'euRefVoteW13', 14: 'euRefVoteW14'}\n",
      "Amalgamating variables: \n",
      "{1: 'likeGrnW1', 2: 'likeGrnW2', 3: 'likeGrnW3', 4: 'likeGrnW4', 5: 'likeGrnW5', 6: 'likeGrnW6', 7: 'likeGrnW7', 8: 'likeGrnW8', 9: 'likeGrnW9', 10: 'likeGrnW10', 11: 'likeGrnW11', 12: 'likeGrnW12', 13: 'likeGrnW13', 14: 'likeGrnW14'}\n",
      "Amalgamating variables: \n",
      "{1: 'euRefVoteW1', 2: 'euRefVoteW2', 3: 'euRefVoteW3', 4: 'euRefVoteW4', 6: 'euRefVoteW6', 7: 'euRefVoteW7', 8: 'euRefVoteW8', 9: 'euRefVoteW9', 10: 'euRefVoteW10', 11: 'euRefVoteW11', 12: 'euRefVoteW12', 13: 'euRefVoteW13', 14: 'euRefVoteW14'}\n"
     ]
    },
    {
     "data": {
      "text/html": [
       "<div>\n",
       "<style scoped>\n",
       "    .dataframe tbody tr th:only-of-type {\n",
       "        vertical-align: middle;\n",
       "    }\n",
       "\n",
       "    .dataframe tbody tr th {\n",
       "        vertical-align: top;\n",
       "    }\n",
       "\n",
       "    .dataframe thead th {\n",
       "        text-align: right;\n",
       "    }\n",
       "</style>\n",
       "<table border=\"1\" class=\"dataframe\">\n",
       "  <thead>\n",
       "    <tr style=\"text-align: right;\">\n",
       "      <th></th>\n",
       "      <th>Remain%</th>\n",
       "      <th>Leave%</th>\n",
       "      <th>Remain_N</th>\n",
       "      <th>Leave_N</th>\n",
       "      <th>Remain_frac</th>\n",
       "      <th>Leave_frac</th>\n",
       "      <th>Weighted_average</th>\n",
       "    </tr>\n",
       "  </thead>\n",
       "  <tbody>\n",
       "    <tr>\n",
       "      <th>Lab</th>\n",
       "      <td>76.611199</td>\n",
       "      <td>59.342025</td>\n",
       "      <td>8489.0</td>\n",
       "      <td>2141.0</td>\n",
       "      <td>75.203796</td>\n",
       "      <td>24.796204</td>\n",
       "      <td>72.329099</td>\n",
       "    </tr>\n",
       "    <tr>\n",
       "      <th>Con</th>\n",
       "      <td>4.698311</td>\n",
       "      <td>10.761543</td>\n",
       "      <td>442.0</td>\n",
       "      <td>348.0</td>\n",
       "      <td>75.203796</td>\n",
       "      <td>24.796204</td>\n",
       "      <td>6.201762</td>\n",
       "    </tr>\n",
       "    <tr>\n",
       "      <th>LD</th>\n",
       "      <td>32.046178</td>\n",
       "      <td>13.620827</td>\n",
       "      <td>3650.0</td>\n",
       "      <td>432.0</td>\n",
       "      <td>75.203796</td>\n",
       "      <td>24.796204</td>\n",
       "      <td>27.477390</td>\n",
       "    </tr>\n",
       "    <tr>\n",
       "      <th>SNP</th>\n",
       "      <td>21.521226</td>\n",
       "      <td>7.203319</td>\n",
       "      <td>2152.0</td>\n",
       "      <td>240.0</td>\n",
       "      <td>73.170020</td>\n",
       "      <td>26.829980</td>\n",
       "      <td>17.679734</td>\n",
       "    </tr>\n",
       "    <tr>\n",
       "      <th>PC</th>\n",
       "      <td>45.743704</td>\n",
       "      <td>27.105810</td>\n",
       "      <td>416.0</td>\n",
       "      <td>72.0</td>\n",
       "      <td>72.641025</td>\n",
       "      <td>27.358975</td>\n",
       "      <td>40.644567</td>\n",
       "    </tr>\n",
       "    <tr>\n",
       "      <th>UKIP</th>\n",
       "      <td>1.554797</td>\n",
       "      <td>16.838918</td>\n",
       "      <td>142.0</td>\n",
       "      <td>610.0</td>\n",
       "      <td>75.203796</td>\n",
       "      <td>24.796204</td>\n",
       "      <td>5.344679</td>\n",
       "    </tr>\n",
       "    <tr>\n",
       "      <th>Grn</th>\n",
       "      <td>53.088412</td>\n",
       "      <td>25.738780</td>\n",
       "      <td>6020.0</td>\n",
       "      <td>912.0</td>\n",
       "      <td>75.203796</td>\n",
       "      <td>24.796204</td>\n",
       "      <td>46.306741</td>\n",
       "    </tr>\n",
       "  </tbody>\n",
       "</table>\n",
       "</div>"
      ],
      "text/plain": [
       "        Remain%     Leave%  Remain_N  Leave_N  Remain_frac  Leave_frac  \\\n",
       "Lab   76.611199  59.342025    8489.0   2141.0    75.203796   24.796204   \n",
       "Con    4.698311  10.761543     442.0    348.0    75.203796   24.796204   \n",
       "LD    32.046178  13.620827    3650.0    432.0    75.203796   24.796204   \n",
       "SNP   21.521226   7.203319    2152.0    240.0    73.170020   26.829980   \n",
       "PC    45.743704  27.105810     416.0     72.0    72.641025   27.358975   \n",
       "UKIP   1.554797  16.838918     142.0    610.0    75.203796   24.796204   \n",
       "Grn   53.088412  25.738780    6020.0    912.0    75.203796   24.796204   \n",
       "\n",
       "      Weighted_average  \n",
       "Lab          72.329099  \n",
       "Con           6.201762  \n",
       "LD           27.477390  \n",
       "SNP          17.679734  \n",
       "PC           40.644567  \n",
       "UKIP          5.344679  \n",
       "Grn          46.306741  "
      ]
     },
     "execution_count": 24,
     "metadata": {},
     "output_type": "execute_result"
    }
   ],
   "source": [
    "# %%time\n",
    "# ~1 min\n",
    "\n",
    "split_var = \"euRefVoteW14\"\n",
    "wave = 14\n",
    "cat_list = [\"6\",\"7\",\"8\",\"9\",\"Strongly like\"]\n",
    "party_list = \"Lab/Con/LD/SNP/PC/UKIP/Grn\".split(\"/\")\n",
    "like_type = \"like\"\n",
    "mask = Labour2017\n",
    "\n",
    "df2 = like_by_party_by_euref(like_type=like_type, mask=mask,\n",
    "                           party_list=party_list, cat_list=cat_list,\n",
    "                           wave=wave, split_var=split_var,\n",
    "                           maximise_euref=True)\n",
    "\n",
    "df2"
   ]
  },
  {
   "cell_type": "code",
   "execution_count": 25,
   "metadata": {},
   "outputs": [
    {
     "data": {
      "text/plain": [
       "euRefVoteW1     30327\n",
       "euRefVoteW2     25798\n",
       "euRefVoteW3     27830\n",
       "euRefVoteW4     31442\n",
       "euRefVoteW6     30150\n",
       "euRefVoteW7     30895\n",
       "euRefVoteW8     33501\n",
       "euRefVoteW9     28248\n",
       "euRefVoteW10    30237\n",
       "euRefVoteW11    30956\n",
       "euRefVoteW12    34394\n",
       "euRefVoteW13    31136\n",
       "euRefVoteW14    31063\n",
       "dtype: int64"
      ]
     },
     "execution_count": 25,
     "metadata": {},
     "output_type": "execute_result"
    }
   ],
   "source": [
    "search(BES_Panel,\"euRefVoteW\\d+\")"
   ]
  },
  {
   "cell_type": "code",
   "execution_count": 107,
   "metadata": {},
   "outputs": [
    {
     "name": "stdout",
     "output_type": "stream",
     "text": [
      "Amalgamating variables: \n",
      "{1: 'ptvLabW1', 2: 'ptvLabW2', 3: 'ptvLabW3', 4: 'ptvLabW4', 5: 'ptvLabW5', 6: 'ptvLabW6', 7: 'ptvLabW7', 8: 'ptvLabW8', 9: 'ptvLabW9', 10: 'ptvLabW10', 11: 'ptvLabW11', 12: 'ptvLabW12', 13: 'ptvLabW13', 14: 'ptvLabExpW14'}\n",
      "Amalgamating variables: \n",
      "{1: 'ptvConW1', 2: 'ptvConW2', 3: 'ptvConW3', 4: 'ptvConW4', 5: 'ptvConW5', 6: 'ptvConW6', 7: 'ptvConW7', 8: 'ptvConW8', 9: 'ptvConW9', 10: 'ptvConW10', 11: 'ptvConW11', 12: 'ptvConW12', 13: 'ptvConW13', 14: 'ptvConExpW14'}\n",
      "Amalgamating variables: \n",
      "{1: 'ptvLDW1', 2: 'ptvLDW2', 3: 'ptvLDW3', 4: 'ptvLDW4', 5: 'ptvLDW5', 6: 'ptvLDW6', 7: 'ptvLDW7', 8: 'ptvLDW8', 9: 'ptvLDW9', 10: 'ptvLDW10', 11: 'ptvLDW11', 12: 'ptvLDW12', 13: 'ptvLDW13', 14: 'ptvLDExpW14'}\n",
      "Amalgamating variables: \n",
      "{1: 'ptvSNPW1', 2: 'ptvSNPW2', 3: 'ptvSNPW3', 4: 'ptvSNPW4', 5: 'ptvSNPW5', 6: 'ptvSNPW6', 7: 'ptvSNPW7', 8: 'ptvSNPW8', 9: 'ptvSNPW9', 10: 'ptvSNPW10', 11: 'ptvSNPW11', 12: 'ptvSNPW12', 13: 'ptvSNPW13', 14: 'ptvSNPExpW14'}\n",
      "Amalgamating variables: \n",
      "{1: 'ptvPCW1', 2: 'ptvPCW2', 3: 'ptvPCW3', 4: 'ptvPCW4', 5: 'ptvPCW5', 6: 'ptvPCW6', 7: 'ptvPCW7', 8: 'ptvPCW8', 9: 'ptvPCW9', 10: 'ptvPCW10', 11: 'ptvPCW11', 12: 'ptvPCW12', 13: 'ptvPCW13', 14: 'ptvPCExpW14'}\n",
      "Amalgamating variables: \n",
      "{1: 'ptvUKIPW1', 2: 'ptvUKIPW2', 3: 'ptvUKIPW3', 4: 'ptvUKIPW4', 5: 'ptvUKIPW5', 6: 'ptvUKIPW6', 7: 'ptvUKIPW7', 8: 'ptvUKIPW8', 9: 'ptvUKIPW9', 10: 'ptvUKIPW10', 11: 'ptvUKIPW11', 12: 'ptvUKIPW12', 13: 'ptvUKIPW13', 14: 'ptvUKIPExpW14'}\n",
      "Amalgamating variables: \n",
      "{1: 'ptvGrnW1', 2: 'ptvGrnW2', 3: 'ptvGrnW3', 4: 'ptvGrnW4', 5: 'ptvGrnW5', 6: 'ptvGrnW6', 7: 'ptvGrnW7', 8: 'ptvGrnW8', 9: 'ptvGrnW9', 10: 'ptvGrnW10', 11: 'ptvGrnW11', 12: 'ptvGrnW12', 13: 'ptvGrnW13', 14: 'ptvGrnExpW14'}\n"
     ]
    },
    {
     "data": {
      "text/html": [
       "<div>\n",
       "<style scoped>\n",
       "    .dataframe tbody tr th:only-of-type {\n",
       "        vertical-align: middle;\n",
       "    }\n",
       "\n",
       "    .dataframe tbody tr th {\n",
       "        vertical-align: top;\n",
       "    }\n",
       "\n",
       "    .dataframe thead th {\n",
       "        text-align: right;\n",
       "    }\n",
       "</style>\n",
       "<table border=\"1\" class=\"dataframe\">\n",
       "  <thead>\n",
       "    <tr style=\"text-align: right;\">\n",
       "      <th></th>\n",
       "      <th>Remain%</th>\n",
       "      <th>Leave%</th>\n",
       "      <th>Remain_N</th>\n",
       "      <th>Leave_N</th>\n",
       "      <th>Remain_frac</th>\n",
       "      <th>Leave_frac</th>\n",
       "      <th>Weighted_average</th>\n",
       "    </tr>\n",
       "  </thead>\n",
       "  <tbody>\n",
       "    <tr>\n",
       "      <th>Lab</th>\n",
       "      <td>82.221550</td>\n",
       "      <td>69.665259</td>\n",
       "      <td>5166.0</td>\n",
       "      <td>1599.0</td>\n",
       "      <td>73.655560</td>\n",
       "      <td>26.344440</td>\n",
       "      <td>78.913665</td>\n",
       "    </tr>\n",
       "    <tr>\n",
       "      <th>Con</th>\n",
       "      <td>6.267923</td>\n",
       "      <td>12.049842</td>\n",
       "      <td>365.0</td>\n",
       "      <td>284.0</td>\n",
       "      <td>73.655560</td>\n",
       "      <td>26.344440</td>\n",
       "      <td>7.791137</td>\n",
       "    </tr>\n",
       "    <tr>\n",
       "      <th>LD</th>\n",
       "      <td>33.499622</td>\n",
       "      <td>12.704609</td>\n",
       "      <td>2120.0</td>\n",
       "      <td>285.0</td>\n",
       "      <td>73.655560</td>\n",
       "      <td>26.344440</td>\n",
       "      <td>28.021292</td>\n",
       "    </tr>\n",
       "    <tr>\n",
       "      <th>SNP</th>\n",
       "      <td>23.496753</td>\n",
       "      <td>22.940347</td>\n",
       "      <td>126.0</td>\n",
       "      <td>32.0</td>\n",
       "      <td>73.946341</td>\n",
       "      <td>26.053659</td>\n",
       "      <td>23.351789</td>\n",
       "    </tr>\n",
       "    <tr>\n",
       "      <th>PC</th>\n",
       "      <td>39.909673</td>\n",
       "      <td>25.863406</td>\n",
       "      <td>219.0</td>\n",
       "      <td>47.0</td>\n",
       "      <td>70.554484</td>\n",
       "      <td>29.445516</td>\n",
       "      <td>35.773677</td>\n",
       "    </tr>\n",
       "    <tr>\n",
       "      <th>UKIP</th>\n",
       "      <td>1.691264</td>\n",
       "      <td>18.477107</td>\n",
       "      <td>94.0</td>\n",
       "      <td>425.0</td>\n",
       "      <td>73.655560</td>\n",
       "      <td>26.344440</td>\n",
       "      <td>6.113400</td>\n",
       "    </tr>\n",
       "    <tr>\n",
       "      <th>Grn</th>\n",
       "      <td>36.929112</td>\n",
       "      <td>15.613454</td>\n",
       "      <td>2324.0</td>\n",
       "      <td>367.0</td>\n",
       "      <td>73.655560</td>\n",
       "      <td>26.344440</td>\n",
       "      <td>31.313621</td>\n",
       "    </tr>\n",
       "  </tbody>\n",
       "</table>\n",
       "</div>"
      ],
      "text/plain": [
       "        Remain%     Leave%  Remain_N  Leave_N  Remain_frac  Leave_frac  \\\n",
       "Lab   82.221550  69.665259    5166.0   1599.0    73.655560   26.344440   \n",
       "Con    6.267923  12.049842     365.0    284.0    73.655560   26.344440   \n",
       "LD    33.499622  12.704609    2120.0    285.0    73.655560   26.344440   \n",
       "SNP   23.496753  22.940347     126.0     32.0    73.946341   26.053659   \n",
       "PC    39.909673  25.863406     219.0     47.0    70.554484   29.445516   \n",
       "UKIP   1.691264  18.477107      94.0    425.0    73.655560   26.344440   \n",
       "Grn   36.929112  15.613454    2324.0    367.0    73.655560   26.344440   \n",
       "\n",
       "      Weighted_average  \n",
       "Lab          78.913665  \n",
       "Con           7.791137  \n",
       "LD           28.021292  \n",
       "SNP          23.351789  \n",
       "PC           35.773677  \n",
       "UKIP          6.113400  \n",
       "Grn          31.313621  "
      ]
     },
     "execution_count": 107,
     "metadata": {},
     "output_type": "execute_result"
    }
   ],
   "source": [
    "# %%time\n",
    "# ~1 min\n",
    "\n",
    "split_var = \"euRefVoteW14\"\n",
    "wave = 14\n",
    "cat_list = [\"6\",\"7\",\"8\",\"9\",\"Very likely\"]\n",
    "party_list = \"Lab/Con/LD/SNP/PC/UKIP/Grn\".split(\"/\")\n",
    "like_type = \"ptv\"\n",
    "mask = Labour2017\n",
    "\n",
    "df = like_by_party_by_euref(like_type=like_type, mask=mask,\n",
    "                           party_list=party_list, cat_list=cat_list,\n",
    "                           wave=wave, split_var=split_var)\n",
    "\n",
    "df"
   ]
  },
  {
   "cell_type": "code",
   "execution_count": null,
   "metadata": {},
   "outputs": [],
   "source": []
  },
  {
   "cell_type": "code",
   "execution_count": null,
   "metadata": {},
   "outputs": [],
   "source": []
  },
  {
   "cell_type": "code",
   "execution_count": null,
   "metadata": {},
   "outputs": [],
   "source": []
  },
  {
   "cell_type": "code",
   "execution_count": null,
   "metadata": {},
   "outputs": [],
   "source": []
  },
  {
   "cell_type": "code",
   "execution_count": 27,
   "metadata": {},
   "outputs": [
    {
     "name": "stdout",
     "output_type": "stream",
     "text": [
      "BES_census_data (632, 308)\n"
     ]
    }
   ],
   "source": [
    "BES_census_data = pd.read_stata( BES_small_data_files + \"BES-2017-General-Election-results-file-v1.0.dta\" )\n",
    "print(\"BES_census_data\", BES_census_data.shape )"
   ]
  },
  {
   "cell_type": "code",
   "execution_count": 28,
   "metadata": {},
   "outputs": [
    {
     "name": "stdout",
     "output_type": "stream",
     "text": [
      "Amalgamating variables: \n",
      "{11: 'panoW11', 12: 'panoW12', 13: 'panoW13', 14: 'panoW14', 2: 'panoW2', 3: 'panoW3', 6: 'panoW6'}\n"
     ]
    },
    {
     "data": {
      "text/plain": [
       "68108"
      ]
     },
     "execution_count": 28,
     "metadata": {},
     "output_type": "execute_result"
    }
   ],
   "source": [
    "amalgamated_pano = amalgamate_waves(BES_Panel,\"pano\")\n",
    "amalgamated_pano.notnull().sum()"
   ]
  },
  {
   "cell_type": "code",
   "execution_count": 29,
   "metadata": {},
   "outputs": [
    {
     "data": {
      "text/plain": [
       "(20.4, 33.3]    6880\n",
       "(33.3, 40.7]    6812\n",
       "(40.7, 45.3]    6831\n",
       "(45.3, 49.8]    6726\n",
       "(49.8, 52.9]    6819\n",
       "(52.9, 55.3]    6840\n",
       "(55.3, 58.1]    6798\n",
       "(58.1, 60.8]    6907\n",
       "(60.8, 64.7]    6687\n",
       "(64.7, 75.6]    6808\n",
       "Name: panoW2&3&6&11&12&13&14, dtype: int64"
      ]
     },
     "execution_count": 29,
     "metadata": {},
     "output_type": "execute_result"
    },
    {
     "data": {
      "image/png": "[encoded data removed]",
      "text/plain": [
       "<Figure size 432x288 with 1 Axes>"
      ]
     },
     "metadata": {
      "needs_background": "light"
     },
     "output_type": "display_data"
    }
   ],
   "source": [
    "pano_to_const_leave = BES_census_data.set_index(\"pano\")[\"leaveHanretty\"]\n",
    "\n",
    "leaveHanretty = amalgamated_pano.apply( lambda x: pano_to_const_leave.loc[int(x)] if not np.isnan(x) else x )\n",
    "\n",
    "leaveHanretty.hist(bins=20);\n",
    "# get Leave% for each constituency\n",
    "\n",
    "# split Constituency Leave% distributions into q equally(~)populated intervals \n",
    "\n",
    "leaveHanretty_tenths = pd.qcut(leaveHanretty,q=10,precision=1)\n",
    "leaveHanretty_tenths.value_counts().sort_index()"
   ]
  },
  {
   "cell_type": "code",
   "execution_count": 30,
   "metadata": {},
   "outputs": [
    {
     "data": {
      "text/plain": [
       "6808"
      ]
     },
     "execution_count": 30,
     "metadata": {},
     "output_type": "execute_result"
    }
   ],
   "source": [
    "(leaveHanretty_tenths == leaveHanretty_tenths.cat.categories[9]).sum()"
   ]
  },
  {
   "cell_type": "code",
   "execution_count": 31,
   "metadata": {},
   "outputs": [
    {
     "name": "stdout",
     "output_type": "stream",
     "text": [
      "Amalgamating variables: \n",
      "{1: 'likeLabW1', 2: 'likeLabW2', 3: 'likeLabW3', 4: 'likeLabW4', 5: 'likeLabW5', 6: 'likeLabW6', 7: 'likeLabW7', 8: 'likeLabW8', 9: 'likeLabW9', 10: 'likeLabW10', 11: 'likeLabW11', 12: 'likeLabW12', 13: 'likeLabW13', 14: 'likeLabW14'}\n",
      "Amalgamating variables: \n",
      "{1: 'euRefVoteW1', 2: 'euRefVoteW2', 3: 'euRefVoteW3', 4: 'euRefVoteW4', 6: 'euRefVoteW6', 7: 'euRefVoteW7', 8: 'euRefVoteW8', 9: 'euRefVoteW9', 10: 'euRefVoteW10', 11: 'euRefVoteW11', 12: 'euRefVoteW12', 13: 'euRefVoteW13', 14: 'euRefVoteW14'}\n",
      "Amalgamating variables: \n",
      "{1: 'likeConW1', 2: 'likeConW2', 3: 'likeConW3', 4: 'likeConW4', 5: 'likeConW5', 6: 'likeConW6', 7: 'likeConW7', 8: 'likeConW8', 9: 'likeConW9', 10: 'likeConW10', 11: 'likeConW11', 12: 'likeConW12', 13: 'likeConW13', 14: 'likeConW14'}\n",
      "Amalgamating variables: \n",
      "{1: 'euRefVoteW1', 2: 'euRefVoteW2', 3: 'euRefVoteW3', 4: 'euRefVoteW4', 6: 'euRefVoteW6', 7: 'euRefVoteW7', 8: 'euRefVoteW8', 9: 'euRefVoteW9', 10: 'euRefVoteW10', 11: 'euRefVoteW11', 12: 'euRefVoteW12', 13: 'euRefVoteW13', 14: 'euRefVoteW14'}\n",
      "Amalgamating variables: \n",
      "{1: 'likeLDW1', 2: 'likeLDW2', 3: 'likeLDW3', 4: 'likeLDW4', 5: 'likeLDW5', 6: 'likeLDW6', 7: 'likeLDW7', 8: 'likeLDW8', 9: 'likeLDW9', 10: 'likeLDW10', 11: 'likeLDW11', 12: 'likeLDW12', 13: 'likeLDW13', 14: 'likeLDW14'}\n",
      "Amalgamating variables: \n",
      "{1: 'euRefVoteW1', 2: 'euRefVoteW2', 3: 'euRefVoteW3', 4: 'euRefVoteW4', 6: 'euRefVoteW6', 7: 'euRefVoteW7', 8: 'euRefVoteW8', 9: 'euRefVoteW9', 10: 'euRefVoteW10', 11: 'euRefVoteW11', 12: 'euRefVoteW12', 13: 'euRefVoteW13', 14: 'euRefVoteW14'}\n",
      "Amalgamating variables: \n",
      "{1: 'likeSNPW1', 2: 'likeSNPW2', 3: 'likeSNPW3', 4: 'likeSNPW4', 5: 'likeSNPExtraW5', 6: 'likeSNPW6', 7: 'likeSNPW7', 8: 'likeSNPW8', 9: 'likeSNPW9', 10: 'likeSNPW10', 11: 'likeSNPW11', 12: 'likeSNPW12', 13: 'likeSNPW13', 14: 'likeSNPW14'}\n",
      "Amalgamating variables: \n",
      "{1: 'euRefVoteW1', 2: 'euRefVoteW2', 3: 'euRefVoteW3', 4: 'euRefVoteW4', 6: 'euRefVoteW6', 7: 'euRefVoteW7', 8: 'euRefVoteW8', 9: 'euRefVoteW9', 10: 'euRefVoteW10', 11: 'euRefVoteW11', 12: 'euRefVoteW12', 13: 'euRefVoteW13', 14: 'euRefVoteW14'}\n",
      "Amalgamating variables: \n",
      "{1: 'likeUKIPW1', 2: 'likeUKIPW2', 3: 'likeUKIPW3', 4: 'likeUKIPW4', 5: 'likeUKIPW5', 6: 'likeUKIPW6', 7: 'likeUKIPW7', 8: 'likeUKIPW8', 9: 'likeUKIPW9', 10: 'likeUKIPW10', 11: 'likeUKIPW11', 12: 'likeUKIPW12', 13: 'likeUKIPW13', 14: 'likeUKIPW14'}\n",
      "Amalgamating variables: \n",
      "{1: 'euRefVoteW1', 2: 'euRefVoteW2', 3: 'euRefVoteW3', 4: 'euRefVoteW4', 6: 'euRefVoteW6', 7: 'euRefVoteW7', 8: 'euRefVoteW8', 9: 'euRefVoteW9', 10: 'euRefVoteW10', 11: 'euRefVoteW11', 12: 'euRefVoteW12', 13: 'euRefVoteW13', 14: 'euRefVoteW14'}\n",
      "Amalgamating variables: \n",
      "{1: 'likeGrnW1', 2: 'likeGrnW2', 3: 'likeGrnW3', 4: 'likeGrnW4', 5: 'likeGrnW5', 6: 'likeGrnW6', 7: 'likeGrnW7', 8: 'likeGrnW8', 9: 'likeGrnW9', 10: 'likeGrnW10', 11: 'likeGrnW11', 12: 'likeGrnW12', 13: 'likeGrnW13', 14: 'likeGrnW14'}\n",
      "Amalgamating variables: \n",
      "{1: 'euRefVoteW1', 2: 'euRefVoteW2', 3: 'euRefVoteW3', 4: 'euRefVoteW4', 6: 'euRefVoteW6', 7: 'euRefVoteW7', 8: 'euRefVoteW8', 9: 'euRefVoteW9', 10: 'euRefVoteW10', 11: 'euRefVoteW11', 12: 'euRefVoteW12', 13: 'euRefVoteW13', 14: 'euRefVoteW14'}\n"
     ]
    },
    {
     "data": {
      "text/html": [
       "<div>\n",
       "<style scoped>\n",
       "    .dataframe tbody tr th:only-of-type {\n",
       "        vertical-align: middle;\n",
       "    }\n",
       "\n",
       "    .dataframe tbody tr th {\n",
       "        vertical-align: top;\n",
       "    }\n",
       "\n",
       "    .dataframe thead th {\n",
       "        text-align: right;\n",
       "    }\n",
       "</style>\n",
       "<table border=\"1\" class=\"dataframe\">\n",
       "  <thead>\n",
       "    <tr style=\"text-align: right;\">\n",
       "      <th></th>\n",
       "      <th>Remain%</th>\n",
       "      <th>Leave%</th>\n",
       "      <th>Remain_N</th>\n",
       "      <th>Leave_N</th>\n",
       "      <th>Remain_frac</th>\n",
       "      <th>Leave_frac</th>\n",
       "      <th>Weighted_average</th>\n",
       "    </tr>\n",
       "  </thead>\n",
       "  <tbody>\n",
       "    <tr>\n",
       "      <th>Lab</th>\n",
       "      <td>75.476122</td>\n",
       "      <td>53.849999</td>\n",
       "      <td>789.0</td>\n",
       "      <td>334.0</td>\n",
       "      <td>63.948575</td>\n",
       "      <td>36.051425</td>\n",
       "      <td>67.679596</td>\n",
       "    </tr>\n",
       "    <tr>\n",
       "      <th>Con</th>\n",
       "      <td>5.286666</td>\n",
       "      <td>7.758624</td>\n",
       "      <td>47.0</td>\n",
       "      <td>43.0</td>\n",
       "      <td>63.948575</td>\n",
       "      <td>36.051425</td>\n",
       "      <td>6.177842</td>\n",
       "    </tr>\n",
       "    <tr>\n",
       "      <th>LD</th>\n",
       "      <td>28.114541</td>\n",
       "      <td>10.950196</td>\n",
       "      <td>291.0</td>\n",
       "      <td>61.0</td>\n",
       "      <td>63.948575</td>\n",
       "      <td>36.051425</td>\n",
       "      <td>21.926550</td>\n",
       "    </tr>\n",
       "    <tr>\n",
       "      <th>SNP</th>\n",
       "      <td>17.522235</td>\n",
       "      <td>5.265065</td>\n",
       "      <td>157.0</td>\n",
       "      <td>34.0</td>\n",
       "      <td>61.650028</td>\n",
       "      <td>38.349972</td>\n",
       "      <td>12.821614</td>\n",
       "    </tr>\n",
       "    <tr>\n",
       "      <th>UKIP</th>\n",
       "      <td>2.203586</td>\n",
       "      <td>15.421912</td>\n",
       "      <td>22.0</td>\n",
       "      <td>89.0</td>\n",
       "      <td>63.948575</td>\n",
       "      <td>36.051425</td>\n",
       "      <td>6.968981</td>\n",
       "    </tr>\n",
       "    <tr>\n",
       "      <th>Grn</th>\n",
       "      <td>47.755302</td>\n",
       "      <td>22.661594</td>\n",
       "      <td>520.0</td>\n",
       "      <td>135.0</td>\n",
       "      <td>63.948575</td>\n",
       "      <td>36.051425</td>\n",
       "      <td>38.708663</td>\n",
       "    </tr>\n",
       "  </tbody>\n",
       "</table>\n",
       "</div>"
      ],
      "text/plain": [
       "        Remain%     Leave%  Remain_N  Leave_N  Remain_frac  Leave_frac  \\\n",
       "Lab   75.476122  53.849999     789.0    334.0    63.948575   36.051425   \n",
       "Con    5.286666   7.758624      47.0     43.0    63.948575   36.051425   \n",
       "LD    28.114541  10.950196     291.0     61.0    63.948575   36.051425   \n",
       "SNP   17.522235   5.265065     157.0     34.0    61.650028   38.349972   \n",
       "UKIP   2.203586  15.421912      22.0     89.0    63.948575   36.051425   \n",
       "Grn   47.755302  22.661594     520.0    135.0    63.948575   36.051425   \n",
       "\n",
       "      Weighted_average  \n",
       "Lab          67.679596  \n",
       "Con           6.177842  \n",
       "LD           21.926550  \n",
       "SNP          12.821614  \n",
       "UKIP          6.968981  \n",
       "Grn          38.708663  "
      ]
     },
     "execution_count": 31,
     "metadata": {},
     "output_type": "execute_result"
    }
   ],
   "source": [
    "# %%time\n",
    "# ~1 min\n",
    "\n",
    "split_var = \"euRefVoteW14\"\n",
    "wave = 14\n",
    "cat_list = [\"6\",\"7\",\"8\",\"9\",\"Strongly like\"]\n",
    "party_list = \"Lab/Con/LD/SNP/PC/UKIP/Grn\".split(\"/\")\n",
    "party_list = \"Lab/Con/LD/SNP/UKIP/Grn\".split(\"/\")\n",
    "like_type = \"like\"\n",
    "mask = Labour2017 & (leaveHanretty_tenths == leaveHanretty_tenths.cat.categories[9])\n",
    "\n",
    "df2 = like_by_party_by_euref(like_type=like_type, mask=mask,\n",
    "                           party_list=party_list, cat_list=cat_list,\n",
    "                           wave=wave, split_var=split_var,\n",
    "                           maximise_euref=True)\n",
    "\n",
    "df2"
   ]
  },
  {
   "cell_type": "code",
   "execution_count": 67,
   "metadata": {},
   "outputs": [
    {
     "name": "stdout",
     "output_type": "stream",
     "text": [
      "Amalgamating variables: \n",
      "{1: 'ptvLabW1', 2: 'ptvLabW2', 3: 'ptvLabW3', 4: 'ptvLabW4', 5: 'ptvLabW5', 6: 'ptvLabW6', 7: 'ptvLabW7', 8: 'ptvLabW8', 9: 'ptvLabW9', 10: 'ptvLabW10', 11: 'ptvLabW11', 12: 'ptvLabW12', 13: 'ptvLabW13', 14: 'ptvLabExpW14'}\n",
      "Amalgamating variables: \n",
      "{1: 'euRefVoteW1', 2: 'euRefVoteW2', 3: 'euRefVoteW3', 4: 'euRefVoteW4', 6: 'euRefVoteW6', 7: 'euRefVoteW7', 8: 'euRefVoteW8', 9: 'euRefVoteW9', 10: 'euRefVoteW10', 11: 'euRefVoteW11', 12: 'euRefVoteW12', 13: 'euRefVoteW13', 14: 'euRefVoteW14'}\n",
      "Amalgamating variables: \n",
      "{1: 'ptvConW1', 2: 'ptvConW2', 3: 'ptvConW3', 4: 'ptvConW4', 5: 'ptvConW5', 6: 'ptvConW6', 7: 'ptvConW7', 8: 'ptvConW8', 9: 'ptvConW9', 10: 'ptvConW10', 11: 'ptvConW11', 12: 'ptvConW12', 13: 'ptvConW13', 14: 'ptvConExpW14'}\n",
      "Amalgamating variables: \n",
      "{1: 'euRefVoteW1', 2: 'euRefVoteW2', 3: 'euRefVoteW3', 4: 'euRefVoteW4', 6: 'euRefVoteW6', 7: 'euRefVoteW7', 8: 'euRefVoteW8', 9: 'euRefVoteW9', 10: 'euRefVoteW10', 11: 'euRefVoteW11', 12: 'euRefVoteW12', 13: 'euRefVoteW13', 14: 'euRefVoteW14'}\n",
      "Amalgamating variables: \n",
      "{1: 'ptvLDW1', 2: 'ptvLDW2', 3: 'ptvLDW3', 4: 'ptvLDW4', 5: 'ptvLDW5', 6: 'ptvLDW6', 7: 'ptvLDW7', 8: 'ptvLDW8', 9: 'ptvLDW9', 10: 'ptvLDW10', 11: 'ptvLDW11', 12: 'ptvLDW12', 13: 'ptvLDW13', 14: 'ptvLDExpW14'}\n",
      "Amalgamating variables: \n",
      "{1: 'euRefVoteW1', 2: 'euRefVoteW2', 3: 'euRefVoteW3', 4: 'euRefVoteW4', 6: 'euRefVoteW6', 7: 'euRefVoteW7', 8: 'euRefVoteW8', 9: 'euRefVoteW9', 10: 'euRefVoteW10', 11: 'euRefVoteW11', 12: 'euRefVoteW12', 13: 'euRefVoteW13', 14: 'euRefVoteW14'}\n",
      "Amalgamating variables: \n",
      "{1: 'ptvSNPW1', 2: 'ptvSNPW2', 3: 'ptvSNPW3', 4: 'ptvSNPW4', 5: 'ptvSNPW5', 6: 'ptvSNPW6', 7: 'ptvSNPW7', 8: 'ptvSNPW8', 9: 'ptvSNPW9', 10: 'ptvSNPW10', 11: 'ptvSNPW11', 12: 'ptvSNPW12', 13: 'ptvSNPW13', 14: 'ptvSNPExpW14'}\n",
      "Amalgamating variables: \n",
      "{1: 'euRefVoteW1', 2: 'euRefVoteW2', 3: 'euRefVoteW3', 4: 'euRefVoteW4', 6: 'euRefVoteW6', 7: 'euRefVoteW7', 8: 'euRefVoteW8', 9: 'euRefVoteW9', 10: 'euRefVoteW10', 11: 'euRefVoteW11', 12: 'euRefVoteW12', 13: 'euRefVoteW13', 14: 'euRefVoteW14'}\n",
      "Amalgamating variables: \n",
      "{1: 'ptvUKIPW1', 2: 'ptvUKIPW2', 3: 'ptvUKIPW3', 4: 'ptvUKIPW4', 5: 'ptvUKIPW5', 6: 'ptvUKIPW6', 7: 'ptvUKIPW7', 8: 'ptvUKIPW8', 9: 'ptvUKIPW9', 10: 'ptvUKIPW10', 11: 'ptvUKIPW11', 12: 'ptvUKIPW12', 13: 'ptvUKIPW13', 14: 'ptvUKIPExpW14'}\n",
      "Amalgamating variables: \n",
      "{1: 'euRefVoteW1', 2: 'euRefVoteW2', 3: 'euRefVoteW3', 4: 'euRefVoteW4', 6: 'euRefVoteW6', 7: 'euRefVoteW7', 8: 'euRefVoteW8', 9: 'euRefVoteW9', 10: 'euRefVoteW10', 11: 'euRefVoteW11', 12: 'euRefVoteW12', 13: 'euRefVoteW13', 14: 'euRefVoteW14'}\n",
      "Amalgamating variables: \n",
      "{1: 'ptvGrnW1', 2: 'ptvGrnW2', 3: 'ptvGrnW3', 4: 'ptvGrnW4', 5: 'ptvGrnW5', 6: 'ptvGrnW6', 7: 'ptvGrnW7', 8: 'ptvGrnW8', 9: 'ptvGrnW9', 10: 'ptvGrnW10', 11: 'ptvGrnW11', 12: 'ptvGrnW12', 13: 'ptvGrnW13', 14: 'ptvGrnExpW14'}\n",
      "Amalgamating variables: \n",
      "{1: 'euRefVoteW1', 2: 'euRefVoteW2', 3: 'euRefVoteW3', 4: 'euRefVoteW4', 6: 'euRefVoteW6', 7: 'euRefVoteW7', 8: 'euRefVoteW8', 9: 'euRefVoteW9', 10: 'euRefVoteW10', 11: 'euRefVoteW11', 12: 'euRefVoteW12', 13: 'euRefVoteW13', 14: 'euRefVoteW14'}\n"
     ]
    },
    {
     "data": {
      "text/html": [
       "<div>\n",
       "<style scoped>\n",
       "    .dataframe tbody tr th:only-of-type {\n",
       "        vertical-align: middle;\n",
       "    }\n",
       "\n",
       "    .dataframe tbody tr th {\n",
       "        vertical-align: top;\n",
       "    }\n",
       "\n",
       "    .dataframe thead th {\n",
       "        text-align: right;\n",
       "    }\n",
       "</style>\n",
       "<table border=\"1\" class=\"dataframe\">\n",
       "  <thead>\n",
       "    <tr style=\"text-align: right;\">\n",
       "      <th></th>\n",
       "      <th>Remain%</th>\n",
       "      <th>Leave%</th>\n",
       "      <th>Remain_N</th>\n",
       "      <th>Leave_N</th>\n",
       "      <th>Remain_frac</th>\n",
       "      <th>Leave_frac</th>\n",
       "      <th>Weighted_average</th>\n",
       "    </tr>\n",
       "  </thead>\n",
       "  <tbody>\n",
       "    <tr>\n",
       "      <th>Lab</th>\n",
       "      <td>82.112714</td>\n",
       "      <td>69.855431</td>\n",
       "      <td>746.0</td>\n",
       "      <td>367.0</td>\n",
       "      <td>62.312118</td>\n",
       "      <td>37.687882</td>\n",
       "      <td>77.493204</td>\n",
       "    </tr>\n",
       "    <tr>\n",
       "      <th>Con</th>\n",
       "      <td>7.458056</td>\n",
       "      <td>11.754431</td>\n",
       "      <td>51.0</td>\n",
       "      <td>56.0</td>\n",
       "      <td>62.312118</td>\n",
       "      <td>37.687882</td>\n",
       "      <td>9.077268</td>\n",
       "    </tr>\n",
       "    <tr>\n",
       "      <th>LD</th>\n",
       "      <td>27.009021</td>\n",
       "      <td>9.825597</td>\n",
       "      <td>243.0</td>\n",
       "      <td>52.0</td>\n",
       "      <td>62.312118</td>\n",
       "      <td>37.687882</td>\n",
       "      <td>20.532953</td>\n",
       "    </tr>\n",
       "    <tr>\n",
       "      <th>SNP</th>\n",
       "      <td>0.000000</td>\n",
       "      <td>500.000000</td>\n",
       "      <td>0.0</td>\n",
       "      <td>5.0</td>\n",
       "      <td>75.846897</td>\n",
       "      <td>24.153103</td>\n",
       "      <td>120.765517</td>\n",
       "    </tr>\n",
       "    <tr>\n",
       "      <th>UKIP</th>\n",
       "      <td>2.219743</td>\n",
       "      <td>20.850684</td>\n",
       "      <td>20.0</td>\n",
       "      <td>98.0</td>\n",
       "      <td>62.312118</td>\n",
       "      <td>37.687882</td>\n",
       "      <td>9.241350</td>\n",
       "    </tr>\n",
       "    <tr>\n",
       "      <th>Grn</th>\n",
       "      <td>29.625991</td>\n",
       "      <td>14.196638</td>\n",
       "      <td>299.0</td>\n",
       "      <td>70.0</td>\n",
       "      <td>62.312118</td>\n",
       "      <td>37.687882</td>\n",
       "      <td>23.810995</td>\n",
       "    </tr>\n",
       "  </tbody>\n",
       "</table>\n",
       "</div>"
      ],
      "text/plain": [
       "        Remain%      Leave%  Remain_N  Leave_N  Remain_frac  Leave_frac  \\\n",
       "Lab   82.112714   69.855431     746.0    367.0    62.312118   37.687882   \n",
       "Con    7.458056   11.754431      51.0     56.0    62.312118   37.687882   \n",
       "LD    27.009021    9.825597     243.0     52.0    62.312118   37.687882   \n",
       "SNP    0.000000  500.000000       0.0      5.0    75.846897   24.153103   \n",
       "UKIP   2.219743   20.850684      20.0     98.0    62.312118   37.687882   \n",
       "Grn   29.625991   14.196638     299.0     70.0    62.312118   37.687882   \n",
       "\n",
       "      Weighted_average  \n",
       "Lab          77.493204  \n",
       "Con           9.077268  \n",
       "LD           20.532953  \n",
       "SNP         120.765517  \n",
       "UKIP          9.241350  \n",
       "Grn          23.810995  "
      ]
     },
     "execution_count": 67,
     "metadata": {},
     "output_type": "execute_result"
    }
   ],
   "source": [
    "# %%time\n",
    "# ~1 min\n",
    "\n",
    "split_var = \"euRefVoteW14\"\n",
    "wave = 14\n",
    "cat_list = [\"6\",\"7\",\"8\",\"9\",\"Very likely\"]\n",
    "party_list = \"Lab/Con/LD/SNP/PC/UKIP/Grn\".split(\"/\")\n",
    "party_list = \"Lab/Con/LD/SNP/UKIP/Grn\".split(\"/\")\n",
    "like_type = \"ptv\"\n",
    "mask = Labour2017 & (leaveHanretty_tenths == leaveHanretty_tenths.cat.categories[9])\n",
    "\n",
    "df = like_by_party_by_euref(like_type=like_type, mask=mask,\n",
    "                           party_list=party_list, cat_list=cat_list,\n",
    "                           wave=wave, split_var=split_var,\n",
    "                           maximise_euref=True)\n",
    "\n",
    "df"
   ]
  },
  {
   "cell_type": "code",
   "execution_count": null,
   "metadata": {},
   "outputs": [],
   "source": []
  },
  {
   "cell_type": "code",
   "execution_count": null,
   "metadata": {},
   "outputs": [],
   "source": []
  },
  {
   "cell_type": "code",
   "execution_count": null,
   "metadata": {},
   "outputs": [],
   "source": []
  },
  {
   "cell_type": "code",
   "execution_count": null,
   "metadata": {},
   "outputs": [],
   "source": []
  },
  {
   "cell_type": "code",
   "execution_count": null,
   "metadata": {},
   "outputs": [],
   "source": []
  },
  {
   "cell_type": "code",
   "execution_count": null,
   "metadata": {},
   "outputs": [],
   "source": []
  },
  {
   "cell_type": "code",
   "execution_count": null,
   "metadata": {},
   "outputs": [],
   "source": []
  },
  {
   "cell_type": "code",
   "execution_count": null,
   "metadata": {},
   "outputs": [],
   "source": []
  },
  {
   "cell_type": "code",
   "execution_count": 33,
   "metadata": {},
   "outputs": [
    {
     "name": "stdout",
     "output_type": "stream",
     "text": [
      "Amalgamating variables: \n",
      "{1: 'likeLabW1', 2: 'likeLabW2', 3: 'likeLabW3', 4: 'likeLabW4', 5: 'likeLabW5', 6: 'likeLabW6', 7: 'likeLabW7', 8: 'likeLabW8', 9: 'likeLabW9', 10: 'likeLabW10', 11: 'likeLabW11', 12: 'likeLabW12', 13: 'likeLabW13', 14: 'likeLabW14'}\n"
     ]
    },
    {
     "data": {
      "image/png": "[encoded data removed]",
      "text/plain": [
       "<Figure size 432x288 with 1 Axes>"
      ]
     },
     "metadata": {
      "needs_background": "light"
     },
     "output_type": "display_data"
    }
   ],
   "source": [
    "like_var = \"Lab\"\n",
    "like_amalgamated = amalgamate_waves(BES_Panel,\"like\"+like_var)\n",
    "like_amalgamated.cat.codes.replace(11,np.nan).replace(-1,np.nan).hist(bins=11);"
   ]
  },
  {
   "cell_type": "code",
   "execution_count": 34,
   "metadata": {},
   "outputs": [
    {
     "name": "stdout",
     "output_type": "stream",
     "text": [
      "Amalgamating variables: \n",
      "{1: 'likeConW1', 2: 'likeConW2', 3: 'likeConW3', 4: 'likeConW4', 5: 'likeConW5', 6: 'likeConW6', 7: 'likeConW7', 8: 'likeConW8', 9: 'likeConW9', 10: 'likeConW10', 11: 'likeConW11', 12: 'likeConW12', 13: 'likeConW13', 14: 'likeConW14'}\n"
     ]
    },
    {
     "data": {
      "image/png": "[encoded data removed]",
      "text/plain": [
       "<Figure size 432x288 with 1 Axes>"
      ]
     },
     "metadata": {
      "needs_background": "light"
     },
     "output_type": "display_data"
    }
   ],
   "source": [
    "like_var = \"Con\"\n",
    "like_amalgamated = amalgamate_waves(BES_Panel,\"like\"+like_var)\n",
    "like_amalgamated.cat.codes.replace(11,np.nan).replace(-1,np.nan).hist(bins=11);"
   ]
  },
  {
   "cell_type": "code",
   "execution_count": 35,
   "metadata": {},
   "outputs": [
    {
     "name": "stdout",
     "output_type": "stream",
     "text": [
      "Amalgamating variables: \n",
      "{1: 'ptvLabW1', 2: 'ptvLabW2', 3: 'ptvLabW3', 4: 'ptvLabW4', 5: 'ptvLabW5', 6: 'ptvLabW6', 7: 'ptvLabW7', 8: 'ptvLabW8', 9: 'ptvLabW9', 10: 'ptvLabW10', 11: 'ptvLabW11', 12: 'ptvLabW12', 13: 'ptvLabW13', 14: 'ptvLabExpW14'}\n"
     ]
    },
    {
     "data": {
      "image/png": "[encoded data removed]",
      "text/plain": [
       "<Figure size 432x288 with 1 Axes>"
      ]
     },
     "metadata": {
      "needs_background": "light"
     },
     "output_type": "display_data"
    }
   ],
   "source": [
    "like_var = \"Lab\"\n",
    "like_amalgamated = amalgamate_waves(BES_Panel,\"ptv\"+like_var)\n",
    "like_amalgamated.cat.codes.replace(11,np.nan).replace(-1,np.nan).hist(bins=11);"
   ]
  },
  {
   "cell_type": "code",
   "execution_count": 36,
   "metadata": {},
   "outputs": [
    {
     "name": "stdout",
     "output_type": "stream",
     "text": [
      "Amalgamating variables: \n",
      "{1: 'ptvConW1', 2: 'ptvConW2', 3: 'ptvConW3', 4: 'ptvConW4', 5: 'ptvConW5', 6: 'ptvConW6', 7: 'ptvConW7', 8: 'ptvConW8', 9: 'ptvConW9', 10: 'ptvConW10', 11: 'ptvConW11', 12: 'ptvConW12', 13: 'ptvConW13', 14: 'ptvConExpW14'}\n"
     ]
    },
    {
     "data": {
      "image/png": "[encoded data removed]",
      "text/plain": [
       "<Figure size 432x288 with 1 Axes>"
      ]
     },
     "metadata": {
      "needs_background": "light"
     },
     "output_type": "display_data"
    }
   ],
   "source": [
    "like_var = \"Con\"\n",
    "like_amalgamated = amalgamate_waves(BES_Panel,\"ptv\"+like_var)\n",
    "like_amalgamated.cat.codes.replace(11,np.nan).replace(-1,np.nan).hist(bins=11);"
   ]
  },
  {
   "cell_type": "code",
   "execution_count": null,
   "metadata": {},
   "outputs": [],
   "source": []
  },
  {
   "cell_type": "code",
   "execution_count": 68,
   "metadata": {},
   "outputs": [
    {
     "data": {
      "text/html": [
       "<div>\n",
       "<style scoped>\n",
       "    .dataframe tbody tr th:only-of-type {\n",
       "        vertical-align: middle;\n",
       "    }\n",
       "\n",
       "    .dataframe tbody tr th {\n",
       "        vertical-align: top;\n",
       "    }\n",
       "\n",
       "    .dataframe thead th {\n",
       "        text-align: right;\n",
       "    }\n",
       "</style>\n",
       "<table border=\"1\" class=\"dataframe\">\n",
       "  <thead>\n",
       "    <tr style=\"text-align: right;\">\n",
       "      <th></th>\n",
       "      <th>Remain%</th>\n",
       "      <th>Leave%</th>\n",
       "      <th>Remain_N</th>\n",
       "      <th>Leave_N</th>\n",
       "      <th>Remain_frac</th>\n",
       "      <th>Leave_frac</th>\n",
       "      <th>Weighted_average</th>\n",
       "    </tr>\n",
       "  </thead>\n",
       "  <tbody>\n",
       "    <tr>\n",
       "      <th>Lab</th>\n",
       "      <td>82.112714</td>\n",
       "      <td>69.855431</td>\n",
       "      <td>746.0</td>\n",
       "      <td>367.0</td>\n",
       "      <td>62.312118</td>\n",
       "      <td>37.687882</td>\n",
       "      <td>77.493204</td>\n",
       "    </tr>\n",
       "    <tr>\n",
       "      <th>Con</th>\n",
       "      <td>7.458056</td>\n",
       "      <td>11.754431</td>\n",
       "      <td>51.0</td>\n",
       "      <td>56.0</td>\n",
       "      <td>62.312118</td>\n",
       "      <td>37.687882</td>\n",
       "      <td>9.077268</td>\n",
       "    </tr>\n",
       "    <tr>\n",
       "      <th>LD</th>\n",
       "      <td>27.009021</td>\n",
       "      <td>9.825597</td>\n",
       "      <td>243.0</td>\n",
       "      <td>52.0</td>\n",
       "      <td>62.312118</td>\n",
       "      <td>37.687882</td>\n",
       "      <td>20.532953</td>\n",
       "    </tr>\n",
       "    <tr>\n",
       "      <th>UKIP</th>\n",
       "      <td>2.219743</td>\n",
       "      <td>20.850684</td>\n",
       "      <td>20.0</td>\n",
       "      <td>98.0</td>\n",
       "      <td>62.312118</td>\n",
       "      <td>37.687882</td>\n",
       "      <td>9.241350</td>\n",
       "    </tr>\n",
       "    <tr>\n",
       "      <th>Grn</th>\n",
       "      <td>29.625991</td>\n",
       "      <td>14.196638</td>\n",
       "      <td>299.0</td>\n",
       "      <td>70.0</td>\n",
       "      <td>62.312118</td>\n",
       "      <td>37.687882</td>\n",
       "      <td>23.810995</td>\n",
       "    </tr>\n",
       "  </tbody>\n",
       "</table>\n",
       "</div>"
      ],
      "text/plain": [
       "        Remain%     Leave%  Remain_N  Leave_N  Remain_frac  Leave_frac  \\\n",
       "Lab   82.112714  69.855431     746.0    367.0    62.312118   37.687882   \n",
       "Con    7.458056  11.754431      51.0     56.0    62.312118   37.687882   \n",
       "LD    27.009021   9.825597     243.0     52.0    62.312118   37.687882   \n",
       "UKIP   2.219743  20.850684      20.0     98.0    62.312118   37.687882   \n",
       "Grn   29.625991  14.196638     299.0     70.0    62.312118   37.687882   \n",
       "\n",
       "      Weighted_average  \n",
       "Lab          77.493204  \n",
       "Con           9.077268  \n",
       "LD           20.532953  \n",
       "UKIP          9.241350  \n",
       "Grn          23.810995  "
      ]
     },
     "execution_count": 68,
     "metadata": {},
     "output_type": "execute_result"
    }
   ],
   "source": [
    "df = df.drop(\"SNP\")\n"
   ]
  },
  {
   "cell_type": "code",
   "execution_count": 108,
   "metadata": {},
   "outputs": [
    {
     "data": {
      "text/html": [
       "<div>\n",
       "<style scoped>\n",
       "    .dataframe tbody tr th:only-of-type {\n",
       "        vertical-align: middle;\n",
       "    }\n",
       "\n",
       "    .dataframe tbody tr th {\n",
       "        vertical-align: top;\n",
       "    }\n",
       "\n",
       "    .dataframe thead th {\n",
       "        text-align: right;\n",
       "    }\n",
       "</style>\n",
       "<table border=\"1\" class=\"dataframe\">\n",
       "  <thead>\n",
       "    <tr style=\"text-align: right;\">\n",
       "      <th></th>\n",
       "      <th>Remain%</th>\n",
       "      <th>Leave%</th>\n",
       "      <th>Remain_N</th>\n",
       "      <th>Leave_N</th>\n",
       "      <th>Remain_frac</th>\n",
       "      <th>Leave_frac</th>\n",
       "      <th>Weighted_average</th>\n",
       "    </tr>\n",
       "  </thead>\n",
       "  <tbody>\n",
       "    <tr>\n",
       "      <th>Lab</th>\n",
       "      <td>82.221550</td>\n",
       "      <td>69.665259</td>\n",
       "      <td>5166.0</td>\n",
       "      <td>1599.0</td>\n",
       "      <td>73.655560</td>\n",
       "      <td>26.344440</td>\n",
       "      <td>78.913665</td>\n",
       "    </tr>\n",
       "    <tr>\n",
       "      <th>Con</th>\n",
       "      <td>6.267923</td>\n",
       "      <td>12.049842</td>\n",
       "      <td>365.0</td>\n",
       "      <td>284.0</td>\n",
       "      <td>73.655560</td>\n",
       "      <td>26.344440</td>\n",
       "      <td>7.791137</td>\n",
       "    </tr>\n",
       "    <tr>\n",
       "      <th>LD</th>\n",
       "      <td>33.499622</td>\n",
       "      <td>12.704609</td>\n",
       "      <td>2120.0</td>\n",
       "      <td>285.0</td>\n",
       "      <td>73.655560</td>\n",
       "      <td>26.344440</td>\n",
       "      <td>28.021292</td>\n",
       "    </tr>\n",
       "    <tr>\n",
       "      <th>SNP</th>\n",
       "      <td>23.496753</td>\n",
       "      <td>22.940347</td>\n",
       "      <td>126.0</td>\n",
       "      <td>32.0</td>\n",
       "      <td>73.946341</td>\n",
       "      <td>26.053659</td>\n",
       "      <td>23.351789</td>\n",
       "    </tr>\n",
       "    <tr>\n",
       "      <th>PC</th>\n",
       "      <td>39.909673</td>\n",
       "      <td>25.863406</td>\n",
       "      <td>219.0</td>\n",
       "      <td>47.0</td>\n",
       "      <td>70.554484</td>\n",
       "      <td>29.445516</td>\n",
       "      <td>35.773677</td>\n",
       "    </tr>\n",
       "    <tr>\n",
       "      <th>UKIP</th>\n",
       "      <td>1.691264</td>\n",
       "      <td>18.477107</td>\n",
       "      <td>94.0</td>\n",
       "      <td>425.0</td>\n",
       "      <td>73.655560</td>\n",
       "      <td>26.344440</td>\n",
       "      <td>6.113400</td>\n",
       "    </tr>\n",
       "    <tr>\n",
       "      <th>Grn</th>\n",
       "      <td>36.929112</td>\n",
       "      <td>15.613454</td>\n",
       "      <td>2324.0</td>\n",
       "      <td>367.0</td>\n",
       "      <td>73.655560</td>\n",
       "      <td>26.344440</td>\n",
       "      <td>31.313621</td>\n",
       "    </tr>\n",
       "  </tbody>\n",
       "</table>\n",
       "</div>"
      ],
      "text/plain": [
       "        Remain%     Leave%  Remain_N  Leave_N  Remain_frac  Leave_frac  \\\n",
       "Lab   82.221550  69.665259    5166.0   1599.0    73.655560   26.344440   \n",
       "Con    6.267923  12.049842     365.0    284.0    73.655560   26.344440   \n",
       "LD    33.499622  12.704609    2120.0    285.0    73.655560   26.344440   \n",
       "SNP   23.496753  22.940347     126.0     32.0    73.946341   26.053659   \n",
       "PC    39.909673  25.863406     219.0     47.0    70.554484   29.445516   \n",
       "UKIP   1.691264  18.477107      94.0    425.0    73.655560   26.344440   \n",
       "Grn   36.929112  15.613454    2324.0    367.0    73.655560   26.344440   \n",
       "\n",
       "      Weighted_average  \n",
       "Lab          78.913665  \n",
       "Con           7.791137  \n",
       "LD           28.021292  \n",
       "SNP          23.351789  \n",
       "PC           35.773677  \n",
       "UKIP          6.113400  \n",
       "Grn          31.313621  "
      ]
     },
     "execution_count": 108,
     "metadata": {},
     "output_type": "execute_result"
    }
   ],
   "source": [
    "df"
   ]
  },
  {
   "cell_type": "code",
   "execution_count": 109,
   "metadata": {},
   "outputs": [],
   "source": [
    "import plotly.plotly as py\n",
    "from plotly.graph_objs import *\n",
    "import networkx as nx"
   ]
  },
  {
   "cell_type": "code",
   "execution_count": 110,
   "metadata": {},
   "outputs": [],
   "source": [
    "df.index = [x+\"\\n(\"+ str(df.loc[x,\"Weighted_average\" ].round().astype('int'))+\"%)\" for x in df.index]"
   ]
  },
  {
   "cell_type": "code",
   "execution_count": 111,
   "metadata": {},
   "outputs": [
    {
     "data": {
      "text/plain": [
       "('Lab2017\\nRemain\\n(74%)', 'Lab2017\\nLeave\\n(26%)')"
      ]
     },
     "execution_count": 111,
     "metadata": {},
     "output_type": "execute_result"
    }
   ],
   "source": [
    "Lab_Remain = \"Lab2017\\nRemain\" + \"\\n(\"+str(df.loc[df.index[0],\"Remain_frac\"].round().astype('int'))+\"%)\"\n",
    "Lab_Leave  = \"Lab2017\\nLeave\" + \"\\n(\"+str(df.loc[df.index[0],\"Leave_frac\"].round().astype('int'))+\"%)\"\n",
    "Lab_Remain,Lab_Leave"
   ]
  },
  {
   "cell_type": "code",
   "execution_count": 112,
   "metadata": {},
   "outputs": [],
   "source": [
    "source_to_df_perc = {Lab_Remain:\"Remain%\",Lab_Leave:\"Leave%\"}\n",
    "source_to_df_N = {Lab_Remain:\"Remain_N\",Lab_Leave:\"Leave_N\"}\n",
    "source_to_df_frac = {Lab_Remain:\"Remain_frac\",Lab_Leave:\"Leave_frac\"}\n",
    "# df[source_to_df_N[\"Labour Remain\"]]\n",
    "# df.loc[destination,source_to_df_N[\"Labour Remain\"]]\n",
    "\n",
    "# N should probably be relative to *all* like/dislike???"
   ]
  },
  {
   "cell_type": "code",
   "execution_count": 113,
   "metadata": {},
   "outputs": [
    {
     "data": {
      "text/html": [
       "<div>\n",
       "<style scoped>\n",
       "    .dataframe tbody tr th:only-of-type {\n",
       "        vertical-align: middle;\n",
       "    }\n",
       "\n",
       "    .dataframe tbody tr th {\n",
       "        vertical-align: top;\n",
       "    }\n",
       "\n",
       "    .dataframe thead th {\n",
       "        text-align: right;\n",
       "    }\n",
       "</style>\n",
       "<table border=\"1\" class=\"dataframe\">\n",
       "  <thead>\n",
       "    <tr style=\"text-align: right;\">\n",
       "      <th></th>\n",
       "      <th>Remain%</th>\n",
       "      <th>Leave%</th>\n",
       "      <th>Remain_N</th>\n",
       "      <th>Leave_N</th>\n",
       "      <th>Remain_frac</th>\n",
       "      <th>Leave_frac</th>\n",
       "      <th>Weighted_average</th>\n",
       "    </tr>\n",
       "  </thead>\n",
       "  <tbody>\n",
       "    <tr>\n",
       "      <th>Lab\\n(79%)</th>\n",
       "      <td>82.221550</td>\n",
       "      <td>69.665259</td>\n",
       "      <td>5166.0</td>\n",
       "      <td>1599.0</td>\n",
       "      <td>73.655560</td>\n",
       "      <td>26.344440</td>\n",
       "      <td>78.913665</td>\n",
       "    </tr>\n",
       "    <tr>\n",
       "      <th>Con\\n(8%)</th>\n",
       "      <td>6.267923</td>\n",
       "      <td>12.049842</td>\n",
       "      <td>365.0</td>\n",
       "      <td>284.0</td>\n",
       "      <td>73.655560</td>\n",
       "      <td>26.344440</td>\n",
       "      <td>7.791137</td>\n",
       "    </tr>\n",
       "    <tr>\n",
       "      <th>LD\\n(28%)</th>\n",
       "      <td>33.499622</td>\n",
       "      <td>12.704609</td>\n",
       "      <td>2120.0</td>\n",
       "      <td>285.0</td>\n",
       "      <td>73.655560</td>\n",
       "      <td>26.344440</td>\n",
       "      <td>28.021292</td>\n",
       "    </tr>\n",
       "    <tr>\n",
       "      <th>SNP\\n(23%)</th>\n",
       "      <td>23.496753</td>\n",
       "      <td>22.940347</td>\n",
       "      <td>126.0</td>\n",
       "      <td>32.0</td>\n",
       "      <td>73.946341</td>\n",
       "      <td>26.053659</td>\n",
       "      <td>23.351789</td>\n",
       "    </tr>\n",
       "    <tr>\n",
       "      <th>PC\\n(36%)</th>\n",
       "      <td>39.909673</td>\n",
       "      <td>25.863406</td>\n",
       "      <td>219.0</td>\n",
       "      <td>47.0</td>\n",
       "      <td>70.554484</td>\n",
       "      <td>29.445516</td>\n",
       "      <td>35.773677</td>\n",
       "    </tr>\n",
       "    <tr>\n",
       "      <th>UKIP\\n(6%)</th>\n",
       "      <td>1.691264</td>\n",
       "      <td>18.477107</td>\n",
       "      <td>94.0</td>\n",
       "      <td>425.0</td>\n",
       "      <td>73.655560</td>\n",
       "      <td>26.344440</td>\n",
       "      <td>6.113400</td>\n",
       "    </tr>\n",
       "    <tr>\n",
       "      <th>Grn\\n(31%)</th>\n",
       "      <td>36.929112</td>\n",
       "      <td>15.613454</td>\n",
       "      <td>2324.0</td>\n",
       "      <td>367.0</td>\n",
       "      <td>73.655560</td>\n",
       "      <td>26.344440</td>\n",
       "      <td>31.313621</td>\n",
       "    </tr>\n",
       "  </tbody>\n",
       "</table>\n",
       "</div>"
      ],
      "text/plain": [
       "              Remain%     Leave%  Remain_N  Leave_N  Remain_frac  Leave_frac  \\\n",
       "Lab\\n(79%)  82.221550  69.665259    5166.0   1599.0    73.655560   26.344440   \n",
       "Con\\n(8%)    6.267923  12.049842     365.0    284.0    73.655560   26.344440   \n",
       "LD\\n(28%)   33.499622  12.704609    2120.0    285.0    73.655560   26.344440   \n",
       "SNP\\n(23%)  23.496753  22.940347     126.0     32.0    73.946341   26.053659   \n",
       "PC\\n(36%)   39.909673  25.863406     219.0     47.0    70.554484   29.445516   \n",
       "UKIP\\n(6%)   1.691264  18.477107      94.0    425.0    73.655560   26.344440   \n",
       "Grn\\n(31%)  36.929112  15.613454    2324.0    367.0    73.655560   26.344440   \n",
       "\n",
       "            Weighted_average  \n",
       "Lab\\n(79%)         78.913665  \n",
       "Con\\n(8%)           7.791137  \n",
       "LD\\n(28%)          28.021292  \n",
       "SNP\\n(23%)         23.351789  \n",
       "PC\\n(36%)          35.773677  \n",
       "UKIP\\n(6%)          6.113400  \n",
       "Grn\\n(31%)         31.313621  "
      ]
     },
     "execution_count": 113,
     "metadata": {},
     "output_type": "execute_result"
    }
   ],
   "source": [
    "df"
   ]
  },
  {
   "cell_type": "code",
   "execution_count": 117,
   "metadata": {},
   "outputs": [],
   "source": [
    "G = nx.DiGraph( )\n",
    "edge_width = []\n",
    "\n",
    "scale = 10\n",
    "\n",
    "# node_size_label =  df.loc[\"Lab\",\"Remain_frac\"].round().astype('int')\n",
    "G.add_node(Lab_Remain, node_size = df.loc[df.index[0],\"Remain_frac\"] )\n",
    "# node_size_label =  df.loc[\"Lab\",\"Leave_frac\" ].round().astype('int')\n",
    "G.add_node(Lab_Leave , node_size = df.loc[df.index[0],\"Leave_frac\" ] )\n",
    "\n",
    "for destination in df.index:\n",
    "    node_size_label = df.loc[destination,\"Weighted_average\" ].round().astype('int')\n",
    "    G.add_node(destination , node_size = df.loc[destination,\"Weighted_average\" ])    \n",
    "    for source in [Lab_Remain,Lab_Leave]:\n",
    "        if df.loc[destination,source_to_df_N[source]] >= 1:\n",
    "            flow = df.loc[destination, source_to_df_perc[source]]\n",
    "            frac = df.loc[destination, source_to_df_frac[source]]\n",
    "            edge_width.append( (flow*frac/100)/scale )\n",
    "            G.add_edge( source, destination, weight= (flow*frac/100)/scale,\n",
    "                       str_label = str(flow.round().astype('int'))+\"%\",\n",
    "                       Leave_remain = source)\n"
   ]
  },
  {
   "cell_type": "code",
   "execution_count": 118,
   "metadata": {},
   "outputs": [
    {
     "data": {
      "image/png": "[encoded data removed]",
      "text/plain": [
       "<Figure size 1440x1440 with 1 Axes>"
      ]
     },
     "metadata": {},
     "output_type": "display_data"
    }
   ],
   "source": [
    "# node_size = 300 * node_size/np.mean(node_size)\n",
    "node_size = np.append(df[[\"Remain_frac\",\"Leave_frac\"]].mean().values,df[\"Weighted_average\"].values)\n",
    "\n",
    "plt.figure(figsize=(20,20));\n",
    "pos=nx.spring_layout(G,weight='weight')\n",
    "nx.draw(G,pos, with_labels=True,node_size = node_size*100,width=2*edge_width)"
   ]
  },
  {
   "cell_type": "code",
   "execution_count": 119,
   "metadata": {},
   "outputs": [],
   "source": [
    "nx.write_graphml(G, \"Labour_like.graphml\")"
   ]
  },
  {
   "cell_type": "code",
   "execution_count": 92,
   "metadata": {},
   "outputs": [
    {
     "data": {
      "text/plain": [
       "23.810994541965567"
      ]
     },
     "execution_count": 92,
     "metadata": {},
     "output_type": "execute_result"
    }
   ],
   "source": []
  },
  {
   "cell_type": "code",
   "execution_count": 121,
   "metadata": {},
   "outputs": [
    {
     "data": {
      "text/plain": [
       "NodeView(('Lab2017\\nRemain\\n(74%)', 'Lab2017\\nLeave\\n(26%)', 'Lab\\n(79%)', 'Con\\n(8%)', 'LD\\n(28%)', 'SNP\\n(23%)', 'PC\\n(36%)', 'UKIP\\n(6%)', 'Grn\\n(31%)'))"
      ]
     },
     "execution_count": 121,
     "metadata": {},
     "output_type": "execute_result"
    }
   ],
   "source": [
    "G.nodes"
   ]
  },
  {
   "cell_type": "code",
   "execution_count": 122,
   "metadata": {},
   "outputs": [
    {
     "data": {
      "text/plain": [
       "OutEdgeView([('Lab2017\\nRemain\\n(74%)', 'Lab\\n(79%)'), ('Lab2017\\nRemain\\n(74%)', 'Con\\n(8%)'), ('Lab2017\\nRemain\\n(74%)', 'LD\\n(28%)'), ('Lab2017\\nRemain\\n(74%)', 'SNP\\n(23%)'), ('Lab2017\\nRemain\\n(74%)', 'PC\\n(36%)'), ('Lab2017\\nRemain\\n(74%)', 'UKIP\\n(6%)'), ('Lab2017\\nRemain\\n(74%)', 'Grn\\n(31%)'), ('Lab2017\\nLeave\\n(26%)', 'Lab\\n(79%)'), ('Lab2017\\nLeave\\n(26%)', 'Con\\n(8%)'), ('Lab2017\\nLeave\\n(26%)', 'LD\\n(28%)'), ('Lab2017\\nLeave\\n(26%)', 'SNP\\n(23%)'), ('Lab2017\\nLeave\\n(26%)', 'PC\\n(36%)'), ('Lab2017\\nLeave\\n(26%)', 'UKIP\\n(6%)'), ('Lab2017\\nLeave\\n(26%)', 'Grn\\n(31%)')])"
      ]
     },
     "execution_count": 122,
     "metadata": {},
     "output_type": "execute_result"
    }
   ],
   "source": [
    "G.edges\n"
   ]
  },
  {
   "cell_type": "code",
   "execution_count": 84,
   "metadata": {},
   "outputs": [
    {
     "data": {
      "text/plain": [
       "14"
      ]
     },
     "execution_count": 84,
     "metadata": {},
     "output_type": "execute_result"
    }
   ],
   "source": [
    "flow.round().astype('int')"
   ]
  },
  {
   "cell_type": "code",
   "execution_count": 120,
   "metadata": {},
   "outputs": [
    {
     "data": {
      "text/html": [
       "<div>\n",
       "<style scoped>\n",
       "    .dataframe tbody tr th:only-of-type {\n",
       "        vertical-align: middle;\n",
       "    }\n",
       "\n",
       "    .dataframe tbody tr th {\n",
       "        vertical-align: top;\n",
       "    }\n",
       "\n",
       "    .dataframe thead th {\n",
       "        text-align: right;\n",
       "    }\n",
       "</style>\n",
       "<table border=\"1\" class=\"dataframe\">\n",
       "  <thead>\n",
       "    <tr style=\"text-align: right;\">\n",
       "      <th></th>\n",
       "      <th>Remain%</th>\n",
       "      <th>Leave%</th>\n",
       "      <th>Remain_N</th>\n",
       "      <th>Leave_N</th>\n",
       "      <th>Remain_frac</th>\n",
       "      <th>Leave_frac</th>\n",
       "      <th>Weighted_average</th>\n",
       "    </tr>\n",
       "  </thead>\n",
       "  <tbody>\n",
       "    <tr>\n",
       "      <th>Lab\\n(79%)</th>\n",
       "      <td>82.221550</td>\n",
       "      <td>69.665259</td>\n",
       "      <td>5166.0</td>\n",
       "      <td>1599.0</td>\n",
       "      <td>73.655560</td>\n",
       "      <td>26.344440</td>\n",
       "      <td>78.913665</td>\n",
       "    </tr>\n",
       "    <tr>\n",
       "      <th>Con\\n(8%)</th>\n",
       "      <td>6.267923</td>\n",
       "      <td>12.049842</td>\n",
       "      <td>365.0</td>\n",
       "      <td>284.0</td>\n",
       "      <td>73.655560</td>\n",
       "      <td>26.344440</td>\n",
       "      <td>7.791137</td>\n",
       "    </tr>\n",
       "    <tr>\n",
       "      <th>LD\\n(28%)</th>\n",
       "      <td>33.499622</td>\n",
       "      <td>12.704609</td>\n",
       "      <td>2120.0</td>\n",
       "      <td>285.0</td>\n",
       "      <td>73.655560</td>\n",
       "      <td>26.344440</td>\n",
       "      <td>28.021292</td>\n",
       "    </tr>\n",
       "    <tr>\n",
       "      <th>SNP\\n(23%)</th>\n",
       "      <td>23.496753</td>\n",
       "      <td>22.940347</td>\n",
       "      <td>126.0</td>\n",
       "      <td>32.0</td>\n",
       "      <td>73.946341</td>\n",
       "      <td>26.053659</td>\n",
       "      <td>23.351789</td>\n",
       "    </tr>\n",
       "    <tr>\n",
       "      <th>PC\\n(36%)</th>\n",
       "      <td>39.909673</td>\n",
       "      <td>25.863406</td>\n",
       "      <td>219.0</td>\n",
       "      <td>47.0</td>\n",
       "      <td>70.554484</td>\n",
       "      <td>29.445516</td>\n",
       "      <td>35.773677</td>\n",
       "    </tr>\n",
       "    <tr>\n",
       "      <th>UKIP\\n(6%)</th>\n",
       "      <td>1.691264</td>\n",
       "      <td>18.477107</td>\n",
       "      <td>94.0</td>\n",
       "      <td>425.0</td>\n",
       "      <td>73.655560</td>\n",
       "      <td>26.344440</td>\n",
       "      <td>6.113400</td>\n",
       "    </tr>\n",
       "    <tr>\n",
       "      <th>Grn\\n(31%)</th>\n",
       "      <td>36.929112</td>\n",
       "      <td>15.613454</td>\n",
       "      <td>2324.0</td>\n",
       "      <td>367.0</td>\n",
       "      <td>73.655560</td>\n",
       "      <td>26.344440</td>\n",
       "      <td>31.313621</td>\n",
       "    </tr>\n",
       "  </tbody>\n",
       "</table>\n",
       "</div>"
      ],
      "text/plain": [
       "              Remain%     Leave%  Remain_N  Leave_N  Remain_frac  Leave_frac  \\\n",
       "Lab\\n(79%)  82.221550  69.665259    5166.0   1599.0    73.655560   26.344440   \n",
       "Con\\n(8%)    6.267923  12.049842     365.0    284.0    73.655560   26.344440   \n",
       "LD\\n(28%)   33.499622  12.704609    2120.0    285.0    73.655560   26.344440   \n",
       "SNP\\n(23%)  23.496753  22.940347     126.0     32.0    73.946341   26.053659   \n",
       "PC\\n(36%)   39.909673  25.863406     219.0     47.0    70.554484   29.445516   \n",
       "UKIP\\n(6%)   1.691264  18.477107      94.0    425.0    73.655560   26.344440   \n",
       "Grn\\n(31%)  36.929112  15.613454    2324.0    367.0    73.655560   26.344440   \n",
       "\n",
       "            Weighted_average  \n",
       "Lab\\n(79%)         78.913665  \n",
       "Con\\n(8%)           7.791137  \n",
       "LD\\n(28%)          28.021292  \n",
       "SNP\\n(23%)         23.351789  \n",
       "PC\\n(36%)          35.773677  \n",
       "UKIP\\n(6%)          6.113400  \n",
       "Grn\\n(31%)         31.313621  "
      ]
     },
     "execution_count": 120,
     "metadata": {},
     "output_type": "execute_result"
    }
   ],
   "source": [
    "df"
   ]
  },
  {
   "cell_type": "code",
   "execution_count": null,
   "metadata": {},
   "outputs": [],
   "source": []
  },
  {
   "cell_type": "code",
   "execution_count": null,
   "metadata": {},
   "outputs": [],
   "source": []
  },
  {
   "cell_type": "code",
   "execution_count": 127,
   "metadata": {},
   "outputs": [
    {
     "data": {
      "text/plain": [
       "al_scaleW14__Authoritarian    27351\n",
       "dtype: int64"
      ]
     },
     "execution_count": 127,
     "metadata": {},
     "output_type": "execute_result"
    }
   ],
   "source": [
    "search(BES_reduced_with_na,\"al_scaleW14\")"
   ]
  },
  {
   "cell_type": "code",
   "execution_count": 123,
   "metadata": {},
   "outputs": [
    {
     "data": {
      "text/plain": [
       "countryOfBirth      36635\n",
       "mapUKBirthW3        15137\n",
       "cogempathyIRTW14     7430\n",
       "affempathyIRTW14     7417\n",
       "zeroSumIRTW14        7776\n",
       "dtype: int64"
      ]
     },
     "execution_count": 123,
     "metadata": {},
     "output_type": "execute_result"
    }
   ],
   "source": [
    "search(BES_Panel,\"IRT\")"
   ]
  },
  {
   "cell_type": "code",
   "execution_count": 131,
   "metadata": {},
   "outputs": [
    {
     "data": {
      "text/plain": [
       "cogempathyIRTW14    0.028222\n",
       "affempathyIRTW14   -0.045156\n",
       "zeroSumIRTW14      -0.153945\n",
       "dtype: float64"
      ]
     },
     "execution_count": 131,
     "metadata": {},
     "output_type": "execute_result"
    }
   ],
   "source": [
    "BES_reduced_with_na[search(BES_reduced_with_na,\"IRTW14\").index]\\\n",
    "    .corrwith( BES_reduced_with_na[\"al_scaleW14__Authoritarian\"]  )"
   ]
  },
  {
   "cell_type": "code",
   "execution_count": null,
   "metadata": {},
   "outputs": [],
   "source": [
    "BES_reduced_with_na.corrwith(BES_reduced_with_na[\"cogempathyIRTW14\"])"
   ]
  },
  {
   "cell_type": "code",
   "execution_count": 132,
   "metadata": {},
   "outputs": [
    {
     "name": "stderr",
     "output_type": "stream",
     "text": [
      "C:\\ProgramData\\Anaconda3\\envs\\BES_analysis\\lib\\site-packages\\numpy\\lib\\function_base.py:2400: RuntimeWarning:\n",
      "\n",
      "invalid value encountered in true_divide\n",
      "\n",
      "C:\\ProgramData\\Anaconda3\\envs\\BES_analysis\\lib\\site-packages\\numpy\\lib\\function_base.py:2401: RuntimeWarning:\n",
      "\n",
      "invalid value encountered in true_divide\n",
      "\n",
      "C:\\ProgramData\\Anaconda3\\envs\\BES_analysis\\lib\\site-packages\\scipy\\stats\\_distn_infrastructure.py:879: RuntimeWarning:\n",
      "\n",
      "invalid value encountered in greater\n",
      "\n",
      "C:\\ProgramData\\Anaconda3\\envs\\BES_analysis\\lib\\site-packages\\scipy\\stats\\_distn_infrastructure.py:879: RuntimeWarning:\n",
      "\n",
      "invalid value encountered in less\n",
      "\n",
      "C:\\ProgramData\\Anaconda3\\envs\\BES_analysis\\lib\\site-packages\\scipy\\stats\\_distn_infrastructure.py:1821: RuntimeWarning:\n",
      "\n",
      "invalid value encountered in less_equal\n",
      "\n"
     ]
    },
    {
     "data": {
      "text/html": [
       "<style  type=\"text/css\" >\n",
       "</style>  \n",
       "<table id=\"T_857b2d34_5dd9_11e9_a87d_20cf301b91b3\" style='display:inline'><caption>Top 20 positive (spearman) correlations for cogempathyIRTW14</caption> \n",
       "<thead>    <tr> \n",
       "        <th class=\"blank level0\" ></th> \n",
       "        <th class=\"col_heading level0 col0\" >r</th> \n",
       "        <th class=\"col_heading level0 col1\" >p</th> \n",
       "        <th class=\"col_heading level0 col2\" >N</th> \n",
       "    </tr></thead> \n",
       "<tbody>    <tr> \n",
       "        <th id=\"T_857b2d34_5dd9_11e9_a87d_20cf301b91b3level0_row0\" class=\"row_heading level0 row0\" >empathy2W14__Strongly agree</th> \n",
       "        <td id=\"T_857b2d34_5dd9_11e9_a87d_20cf301b91b3row0_col0\" class=\"data row0 col0\" >0.77</td> \n",
       "        <td id=\"T_857b2d34_5dd9_11e9_a87d_20cf301b91b3row0_col1\" class=\"data row0 col1\" >0.00</td> \n",
       "        <td id=\"T_857b2d34_5dd9_11e9_a87d_20cf301b91b3row0_col2\" class=\"data row0 col2\" >7113</td> \n",
       "    </tr>    <tr> \n",
       "        <th id=\"T_857b2d34_5dd9_11e9_a87d_20cf301b91b3level0_row1\" class=\"row_heading level0 row1\" >empathy3W14__Strongly agree</th> \n",
       "        <td id=\"T_857b2d34_5dd9_11e9_a87d_20cf301b91b3row1_col0\" class=\"data row1 col0\" >0.74</td> \n",
       "        <td id=\"T_857b2d34_5dd9_11e9_a87d_20cf301b91b3row1_col1\" class=\"data row1 col1\" >0.00</td> \n",
       "        <td id=\"T_857b2d34_5dd9_11e9_a87d_20cf301b91b3row1_col2\" class=\"data row1 col2\" >7293</td> \n",
       "    </tr>    <tr> \n",
       "        <th id=\"T_857b2d34_5dd9_11e9_a87d_20cf301b91b3level0_row2\" class=\"row_heading level0 row2\" >empathy1W14__Strongly agree</th> \n",
       "        <td id=\"T_857b2d34_5dd9_11e9_a87d_20cf301b91b3row2_col0\" class=\"data row2 col0\" >0.7</td> \n",
       "        <td id=\"T_857b2d34_5dd9_11e9_a87d_20cf301b91b3row2_col1\" class=\"data row2 col1\" >0.00</td> \n",
       "        <td id=\"T_857b2d34_5dd9_11e9_a87d_20cf301b91b3row2_col2\" class=\"data row2 col2\" >5898</td> \n",
       "    </tr>    <tr> \n",
       "        <th id=\"T_857b2d34_5dd9_11e9_a87d_20cf301b91b3level0_row3\" class=\"row_heading level0 row3\" >empathy5W14__Strongly agree</th> \n",
       "        <td id=\"T_857b2d34_5dd9_11e9_a87d_20cf301b91b3row3_col0\" class=\"data row3 col0\" >0.58</td> \n",
       "        <td id=\"T_857b2d34_5dd9_11e9_a87d_20cf301b91b3row3_col1\" class=\"data row3 col1\" >0.00</td> \n",
       "        <td id=\"T_857b2d34_5dd9_11e9_a87d_20cf301b91b3row3_col2\" class=\"data row3 col2\" >7058</td> \n",
       "    </tr>    <tr> \n",
       "        <th id=\"T_857b2d34_5dd9_11e9_a87d_20cf301b91b3level0_row4\" class=\"row_heading level0 row4\" >affempathyIRTW14</th> \n",
       "        <td id=\"T_857b2d34_5dd9_11e9_a87d_20cf301b91b3row4_col0\" class=\"data row4 col0\" >0.39</td> \n",
       "        <td id=\"T_857b2d34_5dd9_11e9_a87d_20cf301b91b3row4_col1\" class=\"data row4 col1\" >0.00</td> \n",
       "        <td id=\"T_857b2d34_5dd9_11e9_a87d_20cf301b91b3row4_col2\" class=\"data row4 col2\" >7367</td> \n",
       "    </tr>    <tr> \n",
       "        <th id=\"T_857b2d34_5dd9_11e9_a87d_20cf301b91b3level0_row5\" class=\"row_heading level0 row5\" >groupempathy4W14__Describes me extremely well</th> \n",
       "        <td id=\"T_857b2d34_5dd9_11e9_a87d_20cf301b91b3row5_col0\" class=\"data row5 col0\" >0.23</td> \n",
       "        <td id=\"T_857b2d34_5dd9_11e9_a87d_20cf301b91b3row5_col1\" class=\"data row5 col1\" >0.00</td> \n",
       "        <td id=\"T_857b2d34_5dd9_11e9_a87d_20cf301b91b3row5_col2\" class=\"data row5 col2\" >7430</td> \n",
       "    </tr>    <tr> \n",
       "        <th id=\"T_857b2d34_5dd9_11e9_a87d_20cf301b91b3level0_row6\" class=\"row_heading level0 row6\" >groupempathy2W14__Describes me extremely well</th> \n",
       "        <td id=\"T_857b2d34_5dd9_11e9_a87d_20cf301b91b3row6_col0\" class=\"data row6 col0\" >0.22</td> \n",
       "        <td id=\"T_857b2d34_5dd9_11e9_a87d_20cf301b91b3row6_col1\" class=\"data row6 col1\" >0.00</td> \n",
       "        <td id=\"T_857b2d34_5dd9_11e9_a87d_20cf301b91b3row6_col2\" class=\"data row6 col2\" >7430</td> \n",
       "    </tr>    <tr> \n",
       "        <th id=\"T_857b2d34_5dd9_11e9_a87d_20cf301b91b3level0_row7\" class=\"row_heading level0 row7\" >groupempathy1W14__Describes me extremely well</th> \n",
       "        <td id=\"T_857b2d34_5dd9_11e9_a87d_20cf301b91b3row7_col0\" class=\"data row7 col0\" >0.21</td> \n",
       "        <td id=\"T_857b2d34_5dd9_11e9_a87d_20cf301b91b3row7_col1\" class=\"data row7 col1\" >0.00</td> \n",
       "        <td id=\"T_857b2d34_5dd9_11e9_a87d_20cf301b91b3row7_col2\" class=\"data row7 col2\" >7430</td> \n",
       "    </tr>    <tr> \n",
       "        <th id=\"T_857b2d34_5dd9_11e9_a87d_20cf301b91b3level0_row8\" class=\"row_heading level0 row8\" >empathy6W14__Strongly agree</th> \n",
       "        <td id=\"T_857b2d34_5dd9_11e9_a87d_20cf301b91b3row8_col0\" class=\"data row8 col0\" >0.21</td> \n",
       "        <td id=\"T_857b2d34_5dd9_11e9_a87d_20cf301b91b3row8_col1\" class=\"data row8 col1\" >0.00</td> \n",
       "        <td id=\"T_857b2d34_5dd9_11e9_a87d_20cf301b91b3row8_col2\" class=\"data row8 col2\" >6803</td> \n",
       "    </tr>    <tr> \n",
       "        <th id=\"T_857b2d34_5dd9_11e9_a87d_20cf301b91b3level0_row9\" class=\"row_heading level0 row9\" >gender_Female</th> \n",
       "        <td id=\"T_857b2d34_5dd9_11e9_a87d_20cf301b91b3row9_col0\" class=\"data row9 col0\" >0.18</td> \n",
       "        <td id=\"T_857b2d34_5dd9_11e9_a87d_20cf301b91b3row9_col1\" class=\"data row9 col1\" >0.00</td> \n",
       "        <td id=\"T_857b2d34_5dd9_11e9_a87d_20cf301b91b3row9_col2\" class=\"data row9 col2\" >7430</td> \n",
       "    </tr>    <tr> \n",
       "        <th id=\"T_857b2d34_5dd9_11e9_a87d_20cf301b91b3level0_row10\" class=\"row_heading level0 row10\" >groupempathy3W14__Describes me extremely well</th> \n",
       "        <td id=\"T_857b2d34_5dd9_11e9_a87d_20cf301b91b3row10_col0\" class=\"data row10 col0\" >0.18</td> \n",
       "        <td id=\"T_857b2d34_5dd9_11e9_a87d_20cf301b91b3row10_col1\" class=\"data row10 col1\" >0.00</td> \n",
       "        <td id=\"T_857b2d34_5dd9_11e9_a87d_20cf301b91b3row10_col2\" class=\"data row10 col2\" >7430</td> \n",
       "    </tr>    <tr> \n",
       "        <th id=\"T_857b2d34_5dd9_11e9_a87d_20cf301b91b3level0_row11\" class=\"row_heading level0 row11\" >dutyToVote2W8__Strongly agree</th> \n",
       "        <td id=\"T_857b2d34_5dd9_11e9_a87d_20cf301b91b3row11_col0\" class=\"data row11 col0\" >0.16</td> \n",
       "        <td id=\"T_857b2d34_5dd9_11e9_a87d_20cf301b91b3row11_col1\" class=\"data row11 col1\" >0.00</td> \n",
       "        <td id=\"T_857b2d34_5dd9_11e9_a87d_20cf301b91b3row11_col2\" class=\"data row11 col2\" >873</td> \n",
       "    </tr>    <tr> \n",
       "        <th id=\"T_857b2d34_5dd9_11e9_a87d_20cf301b91b3level0_row12\" class=\"row_heading level0 row12\" >beliefTradeoffW8__Strongly agree</th> \n",
       "        <td id=\"T_857b2d34_5dd9_11e9_a87d_20cf301b91b3row12_col0\" class=\"data row12 col0\" >0.16</td> \n",
       "        <td id=\"T_857b2d34_5dd9_11e9_a87d_20cf301b91b3row12_col1\" class=\"data row12 col1\" >0.00</td> \n",
       "        <td id=\"T_857b2d34_5dd9_11e9_a87d_20cf301b91b3row12_col2\" class=\"data row12 col2\" >3972</td> \n",
       "    </tr>    <tr> \n",
       "        <th id=\"T_857b2d34_5dd9_11e9_a87d_20cf301b91b3level0_row13\" class=\"row_heading level0 row13\" >prefTradeoffW11__Strongly agree</th> \n",
       "        <td id=\"T_857b2d34_5dd9_11e9_a87d_20cf301b91b3row13_col0\" class=\"data row13 col0\" >0.15</td> \n",
       "        <td id=\"T_857b2d34_5dd9_11e9_a87d_20cf301b91b3row13_col1\" class=\"data row13 col1\" >0.00</td> \n",
       "        <td id=\"T_857b2d34_5dd9_11e9_a87d_20cf301b91b3row13_col2\" class=\"data row13 col2\" >4392</td> \n",
       "    </tr>    <tr> \n",
       "        <th id=\"T_857b2d34_5dd9_11e9_a87d_20cf301b91b3level0_row14\" class=\"row_heading level0 row14\" >personality_agreeableness</th> \n",
       "        <td id=\"T_857b2d34_5dd9_11e9_a87d_20cf301b91b3row14_col0\" class=\"data row14 col0\" >0.15</td> \n",
       "        <td id=\"T_857b2d34_5dd9_11e9_a87d_20cf301b91b3row14_col1\" class=\"data row14 col1\" >0.00</td> \n",
       "        <td id=\"T_857b2d34_5dd9_11e9_a87d_20cf301b91b3row14_col2\" class=\"data row14 col2\" >4716</td> \n",
       "    </tr>    <tr> \n",
       "        <th id=\"T_857b2d34_5dd9_11e9_a87d_20cf301b91b3level0_row15\" class=\"row_heading level0 row15\" >cutsTooFarNHSW14__Gone much too far</th> \n",
       "        <td id=\"T_857b2d34_5dd9_11e9_a87d_20cf301b91b3row15_col0\" class=\"data row15 col0\" >0.14</td> \n",
       "        <td id=\"T_857b2d34_5dd9_11e9_a87d_20cf301b91b3row15_col1\" class=\"data row15 col1\" >0.00</td> \n",
       "        <td id=\"T_857b2d34_5dd9_11e9_a87d_20cf301b91b3row15_col2\" class=\"data row15 col2\" >6938</td> \n",
       "    </tr>    <tr> \n",
       "        <th id=\"T_857b2d34_5dd9_11e9_a87d_20cf301b91b3level0_row16\" class=\"row_heading level0 row16\" >gayMarriageW10__Strongly agree</th> \n",
       "        <td id=\"T_857b2d34_5dd9_11e9_a87d_20cf301b91b3row16_col0\" class=\"data row16 col0\" >0.14</td> \n",
       "        <td id=\"T_857b2d34_5dd9_11e9_a87d_20cf301b91b3row16_col1\" class=\"data row16 col1\" >0.00</td> \n",
       "        <td id=\"T_857b2d34_5dd9_11e9_a87d_20cf301b91b3row16_col2\" class=\"data row16 col2\" >4089</td> \n",
       "    </tr>    <tr> \n",
       "        <th id=\"T_857b2d34_5dd9_11e9_a87d_20cf301b91b3level0_row17\" class=\"row_heading level0 row17\" >subjectHEW1W2W3_Humanities, social sciences,[...]</th> \n",
       "        <td id=\"T_857b2d34_5dd9_11e9_a87d_20cf301b91b3row17_col0\" class=\"data row17 col0\" >0.14</td> \n",
       "        <td id=\"T_857b2d34_5dd9_11e9_a87d_20cf301b91b3row17_col1\" class=\"data row17 col1\" >0.00</td> \n",
       "        <td id=\"T_857b2d34_5dd9_11e9_a87d_20cf301b91b3row17_col2\" class=\"data row17 col2\" >1047</td> \n",
       "    </tr>    <tr> \n",
       "        <th id=\"T_857b2d34_5dd9_11e9_a87d_20cf301b91b3level0_row18\" class=\"row_heading level0 row18\" >euID2W9__Strongly agree</th> \n",
       "        <td id=\"T_857b2d34_5dd9_11e9_a87d_20cf301b91b3row18_col0\" class=\"data row18 col0\" >0.13</td> \n",
       "        <td id=\"T_857b2d34_5dd9_11e9_a87d_20cf301b91b3row18_col1\" class=\"data row18 col1\" >0.00</td> \n",
       "        <td id=\"T_857b2d34_5dd9_11e9_a87d_20cf301b91b3row18_col2\" class=\"data row18 col2\" >3529</td> \n",
       "    </tr>    <tr> \n",
       "        <th id=\"T_857b2d34_5dd9_11e9_a87d_20cf301b91b3level0_row19\" class=\"row_heading level0 row19\" >personality_openness</th> \n",
       "        <td id=\"T_857b2d34_5dd9_11e9_a87d_20cf301b91b3row19_col0\" class=\"data row19 col0\" >0.13</td> \n",
       "        <td id=\"T_857b2d34_5dd9_11e9_a87d_20cf301b91b3row19_col1\" class=\"data row19 col1\" >0.00</td> \n",
       "        <td id=\"T_857b2d34_5dd9_11e9_a87d_20cf301b91b3row19_col2\" class=\"data row19 col2\" >4716</td> \n",
       "    </tr></tbody> \n",
       "</table> <style  type=\"text/css\" >\n",
       "</style>  \n",
       "<table id=\"T_857c1798_5dd9_11e9_b367_20cf301b91b3\" style='display:inline'><caption>Top 20 negative (spearman) correlations for cogempathyIRTW14</caption> \n",
       "<thead>    <tr> \n",
       "        <th class=\"blank level0\" ></th> \n",
       "        <th class=\"col_heading level0 col0\" >r</th> \n",
       "        <th class=\"col_heading level0 col1\" >p</th> \n",
       "        <th class=\"col_heading level0 col2\" >N</th> \n",
       "    </tr></thead> \n",
       "<tbody>    <tr> \n",
       "        <th id=\"T_857c1798_5dd9_11e9_b367_20cf301b91b3level0_row0\" class=\"row_heading level0 row0\" >empathy4W14__Strongly agree</th> \n",
       "        <td id=\"T_857c1798_5dd9_11e9_b367_20cf301b91b3row0_col0\" class=\"data row0 col0\" >-0.54</td> \n",
       "        <td id=\"T_857c1798_5dd9_11e9_b367_20cf301b91b3row0_col1\" class=\"data row0 col1\" >0.00</td> \n",
       "        <td id=\"T_857c1798_5dd9_11e9_b367_20cf301b91b3row0_col2\" class=\"data row0 col2\" >7054</td> \n",
       "    </tr>    <tr> \n",
       "        <th id=\"T_857c1798_5dd9_11e9_b367_20cf301b91b3level0_row1\" class=\"row_heading level0 row1\" >empathy7W14__Strongly agree</th> \n",
       "        <td id=\"T_857c1798_5dd9_11e9_b367_20cf301b91b3row1_col0\" class=\"data row1 col0\" >-0.38</td> \n",
       "        <td id=\"T_857c1798_5dd9_11e9_b367_20cf301b91b3row1_col1\" class=\"data row1 col1\" >0.00</td> \n",
       "        <td id=\"T_857c1798_5dd9_11e9_b367_20cf301b91b3row1_col2\" class=\"data row1 col2\" >6958</td> \n",
       "    </tr>    <tr> \n",
       "        <th id=\"T_857c1798_5dd9_11e9_b367_20cf301b91b3level0_row2\" class=\"row_heading level0 row2\" >empathy8W14__Strongly agree</th> \n",
       "        <td id=\"T_857c1798_5dd9_11e9_b367_20cf301b91b3row2_col0\" class=\"data row2 col0\" >-0.37</td> \n",
       "        <td id=\"T_857c1798_5dd9_11e9_b367_20cf301b91b3row2_col1\" class=\"data row2 col1\" >0.00</td> \n",
       "        <td id=\"T_857c1798_5dd9_11e9_b367_20cf301b91b3row2_col2\" class=\"data row2 col2\" >7180</td> \n",
       "    </tr>    <tr> \n",
       "        <th id=\"T_857c1798_5dd9_11e9_b367_20cf301b91b3level0_row3\" class=\"row_heading level0 row3\" >empathy10W14__Strongly agree</th> \n",
       "        <td id=\"T_857c1798_5dd9_11e9_b367_20cf301b91b3row3_col0\" class=\"data row3 col0\" >-0.36</td> \n",
       "        <td id=\"T_857c1798_5dd9_11e9_b367_20cf301b91b3row3_col1\" class=\"data row3 col1\" >0.00</td> \n",
       "        <td id=\"T_857c1798_5dd9_11e9_b367_20cf301b91b3row3_col2\" class=\"data row3 col2\" >7057</td> \n",
       "    </tr>    <tr> \n",
       "        <th id=\"T_857c1798_5dd9_11e9_b367_20cf301b91b3level0_row4\" class=\"row_heading level0 row4\" >empathy9W14__Strongly agree</th> \n",
       "        <td id=\"T_857c1798_5dd9_11e9_b367_20cf301b91b3row4_col0\" class=\"data row4 col0\" >-0.22</td> \n",
       "        <td id=\"T_857c1798_5dd9_11e9_b367_20cf301b91b3row4_col1\" class=\"data row4 col1\" >0.00</td> \n",
       "        <td id=\"T_857c1798_5dd9_11e9_b367_20cf301b91b3row4_col2\" class=\"data row4 col2\" >6895</td> \n",
       "    </tr>    <tr> \n",
       "        <th id=\"T_857c1798_5dd9_11e9_b367_20cf301b91b3level0_row5\" class=\"row_heading level0 row5\" >femaleEquality2W14__Gone much too far</th> \n",
       "        <td id=\"T_857c1798_5dd9_11e9_b367_20cf301b91b3row5_col0\" class=\"data row5 col0\" >-0.13</td> \n",
       "        <td id=\"T_857c1798_5dd9_11e9_b367_20cf301b91b3row5_col1\" class=\"data row5 col1\" >0.00</td> \n",
       "        <td id=\"T_857c1798_5dd9_11e9_b367_20cf301b91b3row5_col2\" class=\"data row5 col2\" >1174</td> \n",
       "    </tr>    <tr> \n",
       "        <th id=\"T_857c1798_5dd9_11e9_b367_20cf301b91b3level0_row6\" class=\"row_heading level0 row6\" >gayEquality2W14__Gone much too far</th> \n",
       "        <td id=\"T_857c1798_5dd9_11e9_b367_20cf301b91b3row6_col0\" class=\"data row6 col0\" >-0.12</td> \n",
       "        <td id=\"T_857c1798_5dd9_11e9_b367_20cf301b91b3row6_col1\" class=\"data row6 col1\" >0.00</td> \n",
       "        <td id=\"T_857c1798_5dd9_11e9_b367_20cf301b91b3row6_col2\" class=\"data row6 col2\" >1133</td> \n",
       "    </tr>    <tr> \n",
       "        <th id=\"T_857c1798_5dd9_11e9_b367_20cf301b91b3level0_row7\" class=\"row_heading level0 row7\" >profile_work_statW1_W10_Retired</th> \n",
       "        <td id=\"T_857c1798_5dd9_11e9_b367_20cf301b91b3row7_col0\" class=\"data row7 col0\" >-0.12</td> \n",
       "        <td id=\"T_857c1798_5dd9_11e9_b367_20cf301b91b3row7_col1\" class=\"data row7 col1\" >0.00</td> \n",
       "        <td id=\"T_857c1798_5dd9_11e9_b367_20cf301b91b3row7_col2\" class=\"data row7 col2\" >1068</td> \n",
       "    </tr>    <tr> \n",
       "        <th id=\"T_857c1798_5dd9_11e9_b367_20cf301b91b3level0_row8\" class=\"row_heading level0 row8\" >lr_scaleW7W8W9__Right</th> \n",
       "        <td id=\"T_857c1798_5dd9_11e9_b367_20cf301b91b3row8_col0\" class=\"data row8 col0\" >-0.11</td> \n",
       "        <td id=\"T_857c1798_5dd9_11e9_b367_20cf301b91b3row8_col1\" class=\"data row8 col1\" >0.00</td> \n",
       "        <td id=\"T_857c1798_5dd9_11e9_b367_20cf301b91b3row8_col2\" class=\"data row8 col2\" >4273</td> \n",
       "    </tr>    <tr> \n",
       "        <th id=\"T_857c1798_5dd9_11e9_b367_20cf301b91b3level0_row9\" class=\"row_heading level0 row9\" >womenJobsW10__Strongly agree</th> \n",
       "        <td id=\"T_857c1798_5dd9_11e9_b367_20cf301b91b3row9_col0\" class=\"data row9 col0\" >-0.11</td> \n",
       "        <td id=\"T_857c1798_5dd9_11e9_b367_20cf301b91b3row9_col1\" class=\"data row9 col1\" >0.00</td> \n",
       "        <td id=\"T_857c1798_5dd9_11e9_b367_20cf301b91b3row9_col2\" class=\"data row9 col2\" >3921</td> \n",
       "    </tr>    <tr> \n",
       "        <th id=\"T_857c1798_5dd9_11e9_b367_20cf301b91b3level0_row10\" class=\"row_heading level0 row10\" >subjectHEW1W2W3_Engineering, Mathematics or[...]</th> \n",
       "        <td id=\"T_857c1798_5dd9_11e9_b367_20cf301b91b3row10_col0\" class=\"data row10 col0\" >-0.1</td> \n",
       "        <td id=\"T_857c1798_5dd9_11e9_b367_20cf301b91b3row10_col1\" class=\"data row10 col1\" >0.00</td> \n",
       "        <td id=\"T_857c1798_5dd9_11e9_b367_20cf301b91b3row10_col2\" class=\"data row10 col2\" >1047</td> \n",
       "    </tr>    <tr> \n",
       "        <th id=\"T_857c1798_5dd9_11e9_b367_20cf301b91b3level0_row11\" class=\"row_heading level0 row11\" >immigLDW12__Allow many more</th> \n",
       "        <td id=\"T_857c1798_5dd9_11e9_b367_20cf301b91b3row11_col0\" class=\"data row11 col0\" >-0.1</td> \n",
       "        <td id=\"T_857c1798_5dd9_11e9_b367_20cf301b91b3row11_col1\" class=\"data row11 col1\" >0.01</td> \n",
       "        <td id=\"T_857c1798_5dd9_11e9_b367_20cf301b91b3row11_col2\" class=\"data row11 col2\" >601</td> \n",
       "    </tr>    <tr> \n",
       "        <th id=\"T_857c1798_5dd9_11e9_b367_20cf301b91b3level0_row12\" class=\"row_heading level0 row12\" >discrimMenW14__A lot of discrimination against</th> \n",
       "        <td id=\"T_857c1798_5dd9_11e9_b367_20cf301b91b3row12_col0\" class=\"data row12 col0\" >-0.1</td> \n",
       "        <td id=\"T_857c1798_5dd9_11e9_b367_20cf301b91b3row12_col1\" class=\"data row12 col1\" >0.00</td> \n",
       "        <td id=\"T_857c1798_5dd9_11e9_b367_20cf301b91b3row12_col2\" class=\"data row12 col2\" >6365</td> \n",
       "    </tr>    <tr> \n",
       "        <th id=\"T_857c1798_5dd9_11e9_b367_20cf301b91b3level0_row13\" class=\"row_heading level0 row13\" >pccVote2W7_The Conservative candidate</th> \n",
       "        <td id=\"T_857c1798_5dd9_11e9_b367_20cf301b91b3row13_col0\" class=\"data row13 col0\" >-0.1</td> \n",
       "        <td id=\"T_857c1798_5dd9_11e9_b367_20cf301b91b3row13_col1\" class=\"data row13 col1\" >0.00</td> \n",
       "        <td id=\"T_857c1798_5dd9_11e9_b367_20cf301b91b3row13_col2\" class=\"data row13 col2\" >1058</td> \n",
       "    </tr>    <tr> \n",
       "        <th id=\"T_857c1798_5dd9_11e9_b367_20cf301b91b3level0_row14\" class=\"row_heading level0 row14\" >selfOccOrgSizeLastW6_W12__500 or more employees</th> \n",
       "        <td id=\"T_857c1798_5dd9_11e9_b367_20cf301b91b3row14_col0\" class=\"data row14 col0\" >-0.1</td> \n",
       "        <td id=\"T_857c1798_5dd9_11e9_b367_20cf301b91b3row14_col1\" class=\"data row14 col1\" >0.00</td> \n",
       "        <td id=\"T_857c1798_5dd9_11e9_b367_20cf301b91b3row14_col2\" class=\"data row14 col2\" >786</td> \n",
       "    </tr>    <tr> \n",
       "        <th id=\"T_857c1798_5dd9_11e9_b367_20cf301b91b3level0_row15\" class=\"row_heading level0 row15\" >changeNHSW14__Getting a lot better</th> \n",
       "        <td id=\"T_857c1798_5dd9_11e9_b367_20cf301b91b3row15_col0\" class=\"data row15 col0\" >-0.1</td> \n",
       "        <td id=\"T_857c1798_5dd9_11e9_b367_20cf301b91b3row15_col1\" class=\"data row15 col1\" >0.00</td> \n",
       "        <td id=\"T_857c1798_5dd9_11e9_b367_20cf301b91b3row15_col2\" class=\"data row15 col2\" >7180</td> \n",
       "    </tr>    <tr> \n",
       "        <th id=\"T_857c1798_5dd9_11e9_b367_20cf301b91b3level0_row16\" class=\"row_heading level0 row16\" >govtHandleNHSW14__Very well</th> \n",
       "        <td id=\"T_857c1798_5dd9_11e9_b367_20cf301b91b3row16_col0\" class=\"data row16 col0\" >-0.1</td> \n",
       "        <td id=\"T_857c1798_5dd9_11e9_b367_20cf301b91b3row16_col1\" class=\"data row16 col1\" >0.00</td> \n",
       "        <td id=\"T_857c1798_5dd9_11e9_b367_20cf301b91b3row16_col2\" class=\"data row16 col2\" >7017</td> \n",
       "    </tr>    <tr> \n",
       "        <th id=\"T_857c1798_5dd9_11e9_b367_20cf301b91b3level0_row17\" class=\"row_heading level0 row17\" >genderRolesW10__Strongly agree</th> \n",
       "        <td id=\"T_857c1798_5dd9_11e9_b367_20cf301b91b3row17_col0\" class=\"data row17 col0\" >-0.1</td> \n",
       "        <td id=\"T_857c1798_5dd9_11e9_b367_20cf301b91b3row17_col1\" class=\"data row17 col1\" >0.00</td> \n",
       "        <td id=\"T_857c1798_5dd9_11e9_b367_20cf301b91b3row17_col2\" class=\"data row17 col2\" >4179</td> \n",
       "    </tr>    <tr> \n",
       "        <th id=\"T_857c1798_5dd9_11e9_b367_20cf301b91b3level0_row18\" class=\"row_heading level0 row18\" >regSatisfactionW8__Very dissatisfied</th> \n",
       "        <td id=\"T_857c1798_5dd9_11e9_b367_20cf301b91b3row18_col0\" class=\"data row18 col0\" >-0.1</td> \n",
       "        <td id=\"T_857c1798_5dd9_11e9_b367_20cf301b91b3row18_col1\" class=\"data row18 col1\" >0.00</td> \n",
       "        <td id=\"T_857c1798_5dd9_11e9_b367_20cf301b91b3row18_col2\" class=\"data row18 col2\" >4100</td> \n",
       "    </tr>    <tr> \n",
       "        <th id=\"T_857c1798_5dd9_11e9_b367_20cf301b91b3level0_row19\" class=\"row_heading level0 row19\" >econGenRetroW12__Got a lot better</th> \n",
       "        <td id=\"T_857c1798_5dd9_11e9_b367_20cf301b91b3row19_col0\" class=\"data row19 col0\" >-0.1</td> \n",
       "        <td id=\"T_857c1798_5dd9_11e9_b367_20cf301b91b3row19_col1\" class=\"data row19 col1\" >0.00</td> \n",
       "        <td id=\"T_857c1798_5dd9_11e9_b367_20cf301b91b3row19_col2\" class=\"data row19 col2\" >782</td> \n",
       "    </tr></tbody> \n",
       "</table> "
      ]
     },
     "metadata": {},
     "output_type": "display_data"
    }
   ],
   "source": [
    "# BES_reduced_with_na[\"ever_voted_BNP\"] = ever_voted_BNP\n",
    "pattern = \"cogempathyIRTW14\"\n",
    "name = \"cogempathyIRTW14\"\n",
    "corr_type = \"spearman\"\n",
    "df,corr_type = make_corr_summary(BES_reduced_with_na, name, corr_type, pattern=pattern)\n",
    "display_corr(df, name, corr_type, text_wrap_length=50)"
   ]
  },
  {
   "cell_type": "code",
   "execution_count": 133,
   "metadata": {},
   "outputs": [
    {
     "data": {
      "text/html": [
       "<style  type=\"text/css\" >\n",
       "</style>  \n",
       "<table id=\"T_9f1d710a_5dd9_11e9_abb9_20cf301b91b3\" style='display:inline'><caption>Top 20 positive (spearman) correlations for affempathyIRTW14</caption> \n",
       "<thead>    <tr> \n",
       "        <th class=\"blank level0\" ></th> \n",
       "        <th class=\"col_heading level0 col0\" >r</th> \n",
       "        <th class=\"col_heading level0 col1\" >p</th> \n",
       "        <th class=\"col_heading level0 col2\" >N</th> \n",
       "    </tr></thead> \n",
       "<tbody>    <tr> \n",
       "        <th id=\"T_9f1d710a_5dd9_11e9_abb9_20cf301b91b3level0_row0\" class=\"row_heading level0 row0\" >empathy6W14__Strongly agree</th> \n",
       "        <td id=\"T_9f1d710a_5dd9_11e9_abb9_20cf301b91b3row0_col0\" class=\"data row0 col0\" >0.52</td> \n",
       "        <td id=\"T_9f1d710a_5dd9_11e9_abb9_20cf301b91b3row0_col1\" class=\"data row0 col1\" >0.00</td> \n",
       "        <td id=\"T_9f1d710a_5dd9_11e9_abb9_20cf301b91b3row0_col2\" class=\"data row0 col2\" >6818</td> \n",
       "    </tr>    <tr> \n",
       "        <th id=\"T_9f1d710a_5dd9_11e9_abb9_20cf301b91b3level0_row1\" class=\"row_heading level0 row1\" >cogempathyIRTW14</th> \n",
       "        <td id=\"T_9f1d710a_5dd9_11e9_abb9_20cf301b91b3row1_col0\" class=\"data row1 col0\" >0.39</td> \n",
       "        <td id=\"T_9f1d710a_5dd9_11e9_abb9_20cf301b91b3row1_col1\" class=\"data row1 col1\" >0.00</td> \n",
       "        <td id=\"T_9f1d710a_5dd9_11e9_abb9_20cf301b91b3row1_col2\" class=\"data row1 col2\" >7367</td> \n",
       "    </tr>    <tr> \n",
       "        <th id=\"T_9f1d710a_5dd9_11e9_abb9_20cf301b91b3level0_row2\" class=\"row_heading level0 row2\" >empathy5W14__Strongly agree</th> \n",
       "        <td id=\"T_9f1d710a_5dd9_11e9_abb9_20cf301b91b3row2_col0\" class=\"data row2 col0\" >0.36</td> \n",
       "        <td id=\"T_9f1d710a_5dd9_11e9_abb9_20cf301b91b3row2_col1\" class=\"data row2 col1\" >0.00</td> \n",
       "        <td id=\"T_9f1d710a_5dd9_11e9_abb9_20cf301b91b3row2_col2\" class=\"data row2 col2\" >7034</td> \n",
       "    </tr>    <tr> \n",
       "        <th id=\"T_9f1d710a_5dd9_11e9_abb9_20cf301b91b3level0_row3\" class=\"row_heading level0 row3\" >gender_Female</th> \n",
       "        <td id=\"T_9f1d710a_5dd9_11e9_abb9_20cf301b91b3row3_col0\" class=\"data row3 col0\" >0.29</td> \n",
       "        <td id=\"T_9f1d710a_5dd9_11e9_abb9_20cf301b91b3row3_col1\" class=\"data row3 col1\" >0.00</td> \n",
       "        <td id=\"T_9f1d710a_5dd9_11e9_abb9_20cf301b91b3row3_col2\" class=\"data row3 col2\" >7417</td> \n",
       "    </tr>    <tr> \n",
       "        <th id=\"T_9f1d710a_5dd9_11e9_abb9_20cf301b91b3level0_row4\" class=\"row_heading level0 row4\" >empathy2W14__Strongly agree</th> \n",
       "        <td id=\"T_9f1d710a_5dd9_11e9_abb9_20cf301b91b3row4_col0\" class=\"data row4 col0\" >0.27</td> \n",
       "        <td id=\"T_9f1d710a_5dd9_11e9_abb9_20cf301b91b3row4_col1\" class=\"data row4 col1\" >0.00</td> \n",
       "        <td id=\"T_9f1d710a_5dd9_11e9_abb9_20cf301b91b3row4_col2\" class=\"data row4 col2\" >7076</td> \n",
       "    </tr>    <tr> \n",
       "        <th id=\"T_9f1d710a_5dd9_11e9_abb9_20cf301b91b3level0_row5\" class=\"row_heading level0 row5\" >empathy3W14__Strongly agree</th> \n",
       "        <td id=\"T_9f1d710a_5dd9_11e9_abb9_20cf301b91b3row5_col0\" class=\"data row5 col0\" >0.27</td> \n",
       "        <td id=\"T_9f1d710a_5dd9_11e9_abb9_20cf301b91b3row5_col1\" class=\"data row5 col1\" >0.00</td> \n",
       "        <td id=\"T_9f1d710a_5dd9_11e9_abb9_20cf301b91b3row5_col2\" class=\"data row5 col2\" >7245</td> \n",
       "    </tr>    <tr> \n",
       "        <th id=\"T_9f1d710a_5dd9_11e9_abb9_20cf301b91b3level0_row6\" class=\"row_heading level0 row6\" >groupempathy4W14__Describes me extremely well</th> \n",
       "        <td id=\"T_9f1d710a_5dd9_11e9_abb9_20cf301b91b3row6_col0\" class=\"data row6 col0\" >0.26</td> \n",
       "        <td id=\"T_9f1d710a_5dd9_11e9_abb9_20cf301b91b3row6_col1\" class=\"data row6 col1\" >0.00</td> \n",
       "        <td id=\"T_9f1d710a_5dd9_11e9_abb9_20cf301b91b3row6_col2\" class=\"data row6 col2\" >7417</td> \n",
       "    </tr>    <tr> \n",
       "        <th id=\"T_9f1d710a_5dd9_11e9_abb9_20cf301b91b3level0_row7\" class=\"row_heading level0 row7\" >groupempathy3W14__Describes me extremely well</th> \n",
       "        <td id=\"T_9f1d710a_5dd9_11e9_abb9_20cf301b91b3row7_col0\" class=\"data row7 col0\" >0.25</td> \n",
       "        <td id=\"T_9f1d710a_5dd9_11e9_abb9_20cf301b91b3row7_col1\" class=\"data row7 col1\" >0.00</td> \n",
       "        <td id=\"T_9f1d710a_5dd9_11e9_abb9_20cf301b91b3row7_col2\" class=\"data row7 col2\" >7417</td> \n",
       "    </tr>    <tr> \n",
       "        <th id=\"T_9f1d710a_5dd9_11e9_abb9_20cf301b91b3level0_row8\" class=\"row_heading level0 row8\" >empathy1W14__Strongly agree</th> \n",
       "        <td id=\"T_9f1d710a_5dd9_11e9_abb9_20cf301b91b3row8_col0\" class=\"data row8 col0\" >0.25</td> \n",
       "        <td id=\"T_9f1d710a_5dd9_11e9_abb9_20cf301b91b3row8_col1\" class=\"data row8 col1\" >0.00</td> \n",
       "        <td id=\"T_9f1d710a_5dd9_11e9_abb9_20cf301b91b3row8_col2\" class=\"data row8 col2\" >5868</td> \n",
       "    </tr>    <tr> \n",
       "        <th id=\"T_9f1d710a_5dd9_11e9_abb9_20cf301b91b3level0_row9\" class=\"row_heading level0 row9\" >groupempathy2W14__Describes me extremely well</th> \n",
       "        <td id=\"T_9f1d710a_5dd9_11e9_abb9_20cf301b91b3row9_col0\" class=\"data row9 col0\" >0.25</td> \n",
       "        <td id=\"T_9f1d710a_5dd9_11e9_abb9_20cf301b91b3row9_col1\" class=\"data row9 col1\" >0.00</td> \n",
       "        <td id=\"T_9f1d710a_5dd9_11e9_abb9_20cf301b91b3row9_col2\" class=\"data row9 col2\" >7417</td> \n",
       "    </tr>    <tr> \n",
       "        <th id=\"T_9f1d710a_5dd9_11e9_abb9_20cf301b91b3level0_row10\" class=\"row_heading level0 row10\" >groupempathy1W14__Describes me extremely well</th> \n",
       "        <td id=\"T_9f1d710a_5dd9_11e9_abb9_20cf301b91b3row10_col0\" class=\"data row10 col0\" >0.24</td> \n",
       "        <td id=\"T_9f1d710a_5dd9_11e9_abb9_20cf301b91b3row10_col1\" class=\"data row10 col1\" >0.00</td> \n",
       "        <td id=\"T_9f1d710a_5dd9_11e9_abb9_20cf301b91b3row10_col2\" class=\"data row10 col2\" >7417</td> \n",
       "    </tr>    <tr> \n",
       "        <th id=\"T_9f1d710a_5dd9_11e9_abb9_20cf301b91b3level0_row11\" class=\"row_heading level0 row11\" >personality_agreeableness</th> \n",
       "        <td id=\"T_9f1d710a_5dd9_11e9_abb9_20cf301b91b3row11_col0\" class=\"data row11 col0\" >0.22</td> \n",
       "        <td id=\"T_9f1d710a_5dd9_11e9_abb9_20cf301b91b3row11_col1\" class=\"data row11 col1\" >0.00</td> \n",
       "        <td id=\"T_9f1d710a_5dd9_11e9_abb9_20cf301b91b3row11_col2\" class=\"data row11 col2\" >4718</td> \n",
       "    </tr>    <tr> \n",
       "        <th id=\"T_9f1d710a_5dd9_11e9_abb9_20cf301b91b3level0_row12\" class=\"row_heading level0 row12\" >cutsTooFarNHSW14__Gone much too far</th> \n",
       "        <td id=\"T_9f1d710a_5dd9_11e9_abb9_20cf301b91b3row12_col0\" class=\"data row12 col0\" >0.19</td> \n",
       "        <td id=\"T_9f1d710a_5dd9_11e9_abb9_20cf301b91b3row12_col1\" class=\"data row12 col1\" >0.00</td> \n",
       "        <td id=\"T_9f1d710a_5dd9_11e9_abb9_20cf301b91b3row12_col2\" class=\"data row12 col2\" >6931</td> \n",
       "    </tr>    <tr> \n",
       "        <th id=\"T_9f1d710a_5dd9_11e9_abb9_20cf301b91b3level0_row13\" class=\"row_heading level0 row13\" >spendLeast3W2_Defence</th> \n",
       "        <td id=\"T_9f1d710a_5dd9_11e9_abb9_20cf301b91b3row13_col0\" class=\"data row13 col0\" >0.18</td> \n",
       "        <td id=\"T_9f1d710a_5dd9_11e9_abb9_20cf301b91b3row13_col1\" class=\"data row13 col1\" >0.00</td> \n",
       "        <td id=\"T_9f1d710a_5dd9_11e9_abb9_20cf301b91b3row13_col2\" class=\"data row13 col2\" >501</td> \n",
       "    </tr>    <tr> \n",
       "        <th id=\"T_9f1d710a_5dd9_11e9_abb9_20cf301b91b3level0_row14\" class=\"row_heading level0 row14\" >likeGrnW2__Strongly like</th> \n",
       "        <td id=\"T_9f1d710a_5dd9_11e9_abb9_20cf301b91b3row14_col0\" class=\"data row14 col0\" >0.17</td> \n",
       "        <td id=\"T_9f1d710a_5dd9_11e9_abb9_20cf301b91b3row14_col1\" class=\"data row14 col1\" >0.00</td> \n",
       "        <td id=\"T_9f1d710a_5dd9_11e9_abb9_20cf301b91b3row14_col2\" class=\"data row14 col2\" >1330</td> \n",
       "    </tr>    <tr> \n",
       "        <th id=\"T_9f1d710a_5dd9_11e9_abb9_20cf301b91b3level0_row15\" class=\"row_heading level0 row15\" >cutsTooFarNationalW14__Gone much too far</th> \n",
       "        <td id=\"T_9f1d710a_5dd9_11e9_abb9_20cf301b91b3row15_col0\" class=\"data row15 col0\" >0.17</td> \n",
       "        <td id=\"T_9f1d710a_5dd9_11e9_abb9_20cf301b91b3row15_col1\" class=\"data row15 col1\" >0.00</td> \n",
       "        <td id=\"T_9f1d710a_5dd9_11e9_abb9_20cf301b91b3row15_col2\" class=\"data row15 col2\" >6662</td> \n",
       "    </tr>    <tr> \n",
       "        <th id=\"T_9f1d710a_5dd9_11e9_abb9_20cf301b91b3level0_row16\" class=\"row_heading level0 row16\" >immigSelfW12__Allow many more</th> \n",
       "        <td id=\"T_9f1d710a_5dd9_11e9_abb9_20cf301b91b3row16_col0\" class=\"data row16 col0\" >0.17</td> \n",
       "        <td id=\"T_9f1d710a_5dd9_11e9_abb9_20cf301b91b3row16_col1\" class=\"data row16 col1\" >0.00</td> \n",
       "        <td id=\"T_9f1d710a_5dd9_11e9_abb9_20cf301b91b3row16_col2\" class=\"data row16 col2\" >765</td> \n",
       "    </tr>    <tr> \n",
       "        <th id=\"T_9f1d710a_5dd9_11e9_abb9_20cf301b91b3level0_row17\" class=\"row_heading level0 row17\" >pidInterestedOthersW13__Strongly agree</th> \n",
       "        <td id=\"T_9f1d710a_5dd9_11e9_abb9_20cf301b91b3row17_col0\" class=\"data row17 col0\" >0.17</td> \n",
       "        <td id=\"T_9f1d710a_5dd9_11e9_abb9_20cf301b91b3row17_col1\" class=\"data row17 col1\" >0.00</td> \n",
       "        <td id=\"T_9f1d710a_5dd9_11e9_abb9_20cf301b91b3row17_col2\" class=\"data row17 col2\" >3947</td> \n",
       "    </tr>    <tr> \n",
       "        <th id=\"T_9f1d710a_5dd9_11e9_abb9_20cf301b91b3level0_row18\" class=\"row_heading level0 row18\" >subjectHEW1W2W3_Humanities, social sciences,[...]</th> \n",
       "        <td id=\"T_9f1d710a_5dd9_11e9_abb9_20cf301b91b3row18_col0\" class=\"data row18 col0\" >0.17</td> \n",
       "        <td id=\"T_9f1d710a_5dd9_11e9_abb9_20cf301b91b3row18_col1\" class=\"data row18 col1\" >0.00</td> \n",
       "        <td id=\"T_9f1d710a_5dd9_11e9_abb9_20cf301b91b3row18_col2\" class=\"data row18 col2\" >1048</td> \n",
       "    </tr>    <tr> \n",
       "        <th id=\"T_9f1d710a_5dd9_11e9_abb9_20cf301b91b3level0_row19\" class=\"row_heading level0 row19\" >warmBlackW11__Very warm</th> \n",
       "        <td id=\"T_9f1d710a_5dd9_11e9_abb9_20cf301b91b3row19_col0\" class=\"data row19 col0\" >0.16</td> \n",
       "        <td id=\"T_9f1d710a_5dd9_11e9_abb9_20cf301b91b3row19_col1\" class=\"data row19 col1\" >0.00</td> \n",
       "        <td id=\"T_9f1d710a_5dd9_11e9_abb9_20cf301b91b3row19_col2\" class=\"data row19 col2\" >4314</td> \n",
       "    </tr></tbody> \n",
       "</table> <style  type=\"text/css\" >\n",
       "</style>  \n",
       "<table id=\"T_9f1e345c_5dd9_11e9_b890_20cf301b91b3\" style='display:inline'><caption>Top 20 negative (spearman) correlations for affempathyIRTW14</caption> \n",
       "<thead>    <tr> \n",
       "        <th class=\"blank level0\" ></th> \n",
       "        <th class=\"col_heading level0 col0\" >r</th> \n",
       "        <th class=\"col_heading level0 col1\" >p</th> \n",
       "        <th class=\"col_heading level0 col2\" >N</th> \n",
       "    </tr></thead> \n",
       "<tbody>    <tr> \n",
       "        <th id=\"T_9f1e345c_5dd9_11e9_b890_20cf301b91b3level0_row0\" class=\"row_heading level0 row0\" >empathy10W14__Strongly agree</th> \n",
       "        <td id=\"T_9f1e345c_5dd9_11e9_b890_20cf301b91b3row0_col0\" class=\"data row0 col0\" >-0.83</td> \n",
       "        <td id=\"T_9f1e345c_5dd9_11e9_b890_20cf301b91b3row0_col1\" class=\"data row0 col1\" >0.00</td> \n",
       "        <td id=\"T_9f1e345c_5dd9_11e9_b890_20cf301b91b3row0_col2\" class=\"data row0 col2\" >7089</td> \n",
       "    </tr>    <tr> \n",
       "        <th id=\"T_9f1e345c_5dd9_11e9_b890_20cf301b91b3level0_row1\" class=\"row_heading level0 row1\" >empathy8W14__Strongly agree</th> \n",
       "        <td id=\"T_9f1e345c_5dd9_11e9_b890_20cf301b91b3row1_col0\" class=\"data row1 col0\" >-0.82</td> \n",
       "        <td id=\"T_9f1e345c_5dd9_11e9_b890_20cf301b91b3row1_col1\" class=\"data row1 col1\" >0.00</td> \n",
       "        <td id=\"T_9f1e345c_5dd9_11e9_b890_20cf301b91b3row1_col2\" class=\"data row1 col2\" >7213</td> \n",
       "    </tr>    <tr> \n",
       "        <th id=\"T_9f1e345c_5dd9_11e9_b890_20cf301b91b3level0_row2\" class=\"row_heading level0 row2\" >empathy7W14__Strongly agree</th> \n",
       "        <td id=\"T_9f1e345c_5dd9_11e9_b890_20cf301b91b3row2_col0\" class=\"data row2 col0\" >-0.77</td> \n",
       "        <td id=\"T_9f1e345c_5dd9_11e9_b890_20cf301b91b3row2_col1\" class=\"data row2 col1\" >0.00</td> \n",
       "        <td id=\"T_9f1e345c_5dd9_11e9_b890_20cf301b91b3row2_col2\" class=\"data row2 col2\" >6976</td> \n",
       "    </tr>    <tr> \n",
       "        <th id=\"T_9f1e345c_5dd9_11e9_b890_20cf301b91b3level0_row3\" class=\"row_heading level0 row3\" >empathy9W14__Strongly agree</th> \n",
       "        <td id=\"T_9f1e345c_5dd9_11e9_b890_20cf301b91b3row3_col0\" class=\"data row3 col0\" >-0.71</td> \n",
       "        <td id=\"T_9f1e345c_5dd9_11e9_b890_20cf301b91b3row3_col1\" class=\"data row3 col1\" >0.00</td> \n",
       "        <td id=\"T_9f1e345c_5dd9_11e9_b890_20cf301b91b3row3_col2\" class=\"data row3 col2\" >6930</td> \n",
       "    </tr>    <tr> \n",
       "        <th id=\"T_9f1e345c_5dd9_11e9_b890_20cf301b91b3level0_row4\" class=\"row_heading level0 row4\" >empathy4W14__Strongly agree</th> \n",
       "        <td id=\"T_9f1e345c_5dd9_11e9_b890_20cf301b91b3row4_col0\" class=\"data row4 col0\" >-0.38</td> \n",
       "        <td id=\"T_9f1e345c_5dd9_11e9_b890_20cf301b91b3row4_col1\" class=\"data row4 col1\" >0.00</td> \n",
       "        <td id=\"T_9f1e345c_5dd9_11e9_b890_20cf301b91b3row4_col2\" class=\"data row4 col2\" >7021</td> \n",
       "    </tr>    <tr> \n",
       "        <th id=\"T_9f1e345c_5dd9_11e9_b890_20cf301b91b3level0_row5\" class=\"row_heading level0 row5\" >femaleEquality2W14__Gone much too far</th> \n",
       "        <td id=\"T_9f1e345c_5dd9_11e9_b890_20cf301b91b3row5_col0\" class=\"data row5 col0\" >-0.2</td> \n",
       "        <td id=\"T_9f1e345c_5dd9_11e9_b890_20cf301b91b3row5_col1\" class=\"data row5 col1\" >0.00</td> \n",
       "        <td id=\"T_9f1e345c_5dd9_11e9_b890_20cf301b91b3row5_col2\" class=\"data row5 col2\" >1172</td> \n",
       "    </tr>    <tr> \n",
       "        <th id=\"T_9f1e345c_5dd9_11e9_b890_20cf301b91b3level0_row6\" class=\"row_heading level0 row6\" >immigLDW12__Allow many more</th> \n",
       "        <td id=\"T_9f1e345c_5dd9_11e9_b890_20cf301b91b3row6_col0\" class=\"data row6 col0\" >-0.2</td> \n",
       "        <td id=\"T_9f1e345c_5dd9_11e9_b890_20cf301b91b3row6_col1\" class=\"data row6 col1\" >0.00</td> \n",
       "        <td id=\"T_9f1e345c_5dd9_11e9_b890_20cf301b91b3row6_col2\" class=\"data row6 col2\" >601</td> \n",
       "    </tr>    <tr> \n",
       "        <th id=\"T_9f1e345c_5dd9_11e9_b890_20cf301b91b3level0_row7\" class=\"row_heading level0 row7\" >happyTrumpW10__Extremely happy</th> \n",
       "        <td id=\"T_9f1e345c_5dd9_11e9_b890_20cf301b91b3row7_col0\" class=\"data row7 col0\" >-0.2</td> \n",
       "        <td id=\"T_9f1e345c_5dd9_11e9_b890_20cf301b91b3row7_col1\" class=\"data row7 col1\" >0.00</td> \n",
       "        <td id=\"T_9f1e345c_5dd9_11e9_b890_20cf301b91b3row7_col2\" class=\"data row7 col2\" >4005</td> \n",
       "    </tr>    <tr> \n",
       "        <th id=\"T_9f1e345c_5dd9_11e9_b890_20cf301b91b3level0_row8\" class=\"row_heading level0 row8\" >econGenRetroW12__Got a lot better</th> \n",
       "        <td id=\"T_9f1e345c_5dd9_11e9_b890_20cf301b91b3row8_col0\" class=\"data row8 col0\" >-0.18</td> \n",
       "        <td id=\"T_9f1e345c_5dd9_11e9_b890_20cf301b91b3row8_col1\" class=\"data row8 col1\" >0.00</td> \n",
       "        <td id=\"T_9f1e345c_5dd9_11e9_b890_20cf301b91b3row8_col2\" class=\"data row8 col2\" >783</td> \n",
       "    </tr>    <tr> \n",
       "        <th id=\"T_9f1e345c_5dd9_11e9_b890_20cf301b91b3level0_row9\" class=\"row_heading level0 row9\" >spendLeast3W2_Environmental Policy</th> \n",
       "        <td id=\"T_9f1e345c_5dd9_11e9_b890_20cf301b91b3row9_col0\" class=\"data row9 col0\" >-0.18</td> \n",
       "        <td id=\"T_9f1e345c_5dd9_11e9_b890_20cf301b91b3row9_col1\" class=\"data row9 col1\" >0.00</td> \n",
       "        <td id=\"T_9f1e345c_5dd9_11e9_b890_20cf301b91b3row9_col2\" class=\"data row9 col2\" >501</td> \n",
       "    </tr>    <tr> \n",
       "        <th id=\"T_9f1e345c_5dd9_11e9_b890_20cf301b91b3level0_row10\" class=\"row_heading level0 row10\" >leftRightW12__Right</th> \n",
       "        <td id=\"T_9f1e345c_5dd9_11e9_b890_20cf301b91b3row10_col0\" class=\"data row10 col0\" >-0.17</td> \n",
       "        <td id=\"T_9f1e345c_5dd9_11e9_b890_20cf301b91b3row10_col1\" class=\"data row10 col1\" >0.00</td> \n",
       "        <td id=\"T_9f1e345c_5dd9_11e9_b890_20cf301b91b3row10_col2\" class=\"data row10 col2\" >3989</td> \n",
       "    </tr>    <tr> \n",
       "        <th id=\"T_9f1e345c_5dd9_11e9_b890_20cf301b91b3level0_row11\" class=\"row_heading level0 row11\" >changeNHSW14__Getting a lot better</th> \n",
       "        <td id=\"T_9f1e345c_5dd9_11e9_b890_20cf301b91b3row11_col0\" class=\"data row11 col0\" >-0.17</td> \n",
       "        <td id=\"T_9f1e345c_5dd9_11e9_b890_20cf301b91b3row11_col1\" class=\"data row11 col1\" >0.00</td> \n",
       "        <td id=\"T_9f1e345c_5dd9_11e9_b890_20cf301b91b3row11_col2\" class=\"data row11 col2\" >7173</td> \n",
       "    </tr>    <tr> \n",
       "        <th id=\"T_9f1e345c_5dd9_11e9_b890_20cf301b91b3level0_row12\" class=\"row_heading level0 row12\" >govtHandleNHSW14__Very well</th> \n",
       "        <td id=\"T_9f1e345c_5dd9_11e9_b890_20cf301b91b3row12_col0\" class=\"data row12 col0\" >-0.17</td> \n",
       "        <td id=\"T_9f1e345c_5dd9_11e9_b890_20cf301b91b3row12_col1\" class=\"data row12 col1\" >0.00</td> \n",
       "        <td id=\"T_9f1e345c_5dd9_11e9_b890_20cf301b91b3row12_col2\" class=\"data row12 col2\" >7007</td> \n",
       "    </tr>    <tr> \n",
       "        <th id=\"T_9f1e345c_5dd9_11e9_b890_20cf301b91b3level0_row13\" class=\"row_heading level0 row13\" >gayEquality2W14__Gone much too far</th> \n",
       "        <td id=\"T_9f1e345c_5dd9_11e9_b890_20cf301b91b3row13_col0\" class=\"data row13 col0\" >-0.17</td> \n",
       "        <td id=\"T_9f1e345c_5dd9_11e9_b890_20cf301b91b3row13_col1\" class=\"data row13 col1\" >0.00</td> \n",
       "        <td id=\"T_9f1e345c_5dd9_11e9_b890_20cf301b91b3row13_col2\" class=\"data row13 col2\" >1131</td> \n",
       "    </tr>    <tr> \n",
       "        <th id=\"T_9f1e345c_5dd9_11e9_b890_20cf301b91b3level0_row14\" class=\"row_heading level0 row14\" >enviroProtectionW4__Gone much too far</th> \n",
       "        <td id=\"T_9f1e345c_5dd9_11e9_b890_20cf301b91b3row14_col0\" class=\"data row14 col0\" >-0.17</td> \n",
       "        <td id=\"T_9f1e345c_5dd9_11e9_b890_20cf301b91b3row14_col1\" class=\"data row14 col1\" >0.00</td> \n",
       "        <td id=\"T_9f1e345c_5dd9_11e9_b890_20cf301b91b3row14_col2\" class=\"data row14 col2\" >2881</td> \n",
       "    </tr>    <tr> \n",
       "        <th id=\"T_9f1e345c_5dd9_11e9_b890_20cf301b91b3level0_row15\" class=\"row_heading level0 row15\" >discrimMenW14__A lot of discrimination against</th> \n",
       "        <td id=\"T_9f1e345c_5dd9_11e9_b890_20cf301b91b3row15_col0\" class=\"data row15 col0\" >-0.17</td> \n",
       "        <td id=\"T_9f1e345c_5dd9_11e9_b890_20cf301b91b3row15_col1\" class=\"data row15 col1\" >0.00</td> \n",
       "        <td id=\"T_9f1e345c_5dd9_11e9_b890_20cf301b91b3row15_col2\" class=\"data row15 col2\" >6362</td> \n",
       "    </tr>    <tr> \n",
       "        <th id=\"T_9f1e345c_5dd9_11e9_b890_20cf301b91b3level0_row16\" class=\"row_heading level0 row16\" >spendMost3W2_Infrastructure: Roads and Public[...]</th> \n",
       "        <td id=\"T_9f1e345c_5dd9_11e9_b890_20cf301b91b3row16_col0\" class=\"data row16 col0\" >-0.16</td> \n",
       "        <td id=\"T_9f1e345c_5dd9_11e9_b890_20cf301b91b3row16_col1\" class=\"data row16 col1\" >0.00</td> \n",
       "        <td id=\"T_9f1e345c_5dd9_11e9_b890_20cf301b91b3row16_col2\" class=\"data row16 col2\" >539</td> \n",
       "    </tr>    <tr> \n",
       "        <th id=\"T_9f1e345c_5dd9_11e9_b890_20cf301b91b3level0_row17\" class=\"row_heading level0 row17\" >womenJobsW10__Strongly agree</th> \n",
       "        <td id=\"T_9f1e345c_5dd9_11e9_b890_20cf301b91b3row17_col0\" class=\"data row17 col0\" >-0.16</td> \n",
       "        <td id=\"T_9f1e345c_5dd9_11e9_b890_20cf301b91b3row17_col1\" class=\"data row17 col1\" >0.00</td> \n",
       "        <td id=\"T_9f1e345c_5dd9_11e9_b890_20cf301b91b3row17_col2\" class=\"data row17 col2\" >3924</td> \n",
       "    </tr>    <tr> \n",
       "        <th id=\"T_9f1e345c_5dd9_11e9_b890_20cf301b91b3level0_row18\" class=\"row_heading level0 row18\" >immigLabW12__Allow many more</th> \n",
       "        <td id=\"T_9f1e345c_5dd9_11e9_b890_20cf301b91b3row18_col0\" class=\"data row18 col0\" >-0.16</td> \n",
       "        <td id=\"T_9f1e345c_5dd9_11e9_b890_20cf301b91b3row18_col1\" class=\"data row18 col1\" >0.00</td> \n",
       "        <td id=\"T_9f1e345c_5dd9_11e9_b890_20cf301b91b3row18_col2\" class=\"data row18 col2\" >677</td> \n",
       "    </tr>    <tr> \n",
       "        <th id=\"T_9f1e345c_5dd9_11e9_b890_20cf301b91b3level0_row19\" class=\"row_heading level0 row19\" >femaleEqualityW1W2W3W4W5__Gone much too far</th> \n",
       "        <td id=\"T_9f1e345c_5dd9_11e9_b890_20cf301b91b3row19_col0\" class=\"data row19 col0\" >-0.15</td> \n",
       "        <td id=\"T_9f1e345c_5dd9_11e9_b890_20cf301b91b3row19_col1\" class=\"data row19 col1\" >0.00</td> \n",
       "        <td id=\"T_9f1e345c_5dd9_11e9_b890_20cf301b91b3row19_col2\" class=\"data row19 col2\" >3289</td> \n",
       "    </tr></tbody> \n",
       "</table> "
      ]
     },
     "metadata": {},
     "output_type": "display_data"
    }
   ],
   "source": [
    "# BES_reduced_with_na[\"ever_voted_BNP\"] = ever_voted_BNP\n",
    "pattern = \"affempathyIRTW14\"\n",
    "name = \"affempathyIRTW14\"\n",
    "corr_type = \"spearman\"\n",
    "df,corr_type = make_corr_summary(BES_reduced_with_na, name, corr_type, pattern=pattern)\n",
    "display_corr(df, name, corr_type, text_wrap_length=50)"
   ]
  },
  {
   "cell_type": "code",
   "execution_count": 134,
   "metadata": {},
   "outputs": [
    {
     "data": {
      "text/html": [
       "<style  type=\"text/css\" >\n",
       "</style>  \n",
       "<table id=\"T_b75cc44c_5dd9_11e9_85fd_20cf301b91b3\" style='display:inline'><caption>Top 20 positive (spearman) correlations for zeroSumIRTW14</caption> \n",
       "<thead>    <tr> \n",
       "        <th class=\"blank level0\" ></th> \n",
       "        <th class=\"col_heading level0 col0\" >r</th> \n",
       "        <th class=\"col_heading level0 col1\" >p</th> \n",
       "        <th class=\"col_heading level0 col2\" >N</th> \n",
       "    </tr></thead> \n",
       "<tbody>    <tr> \n",
       "        <th id=\"T_b75cc44c_5dd9_11e9_85fd_20cf301b91b3level0_row0\" class=\"row_heading level0 row0\" >zeroSum9W14__Strongly agree</th> \n",
       "        <td id=\"T_b75cc44c_5dd9_11e9_85fd_20cf301b91b3row0_col0\" class=\"data row0 col0\" >0.75</td> \n",
       "        <td id=\"T_b75cc44c_5dd9_11e9_85fd_20cf301b91b3row0_col1\" class=\"data row0 col1\" >0.00</td> \n",
       "        <td id=\"T_b75cc44c_5dd9_11e9_85fd_20cf301b91b3row0_col2\" class=\"data row0 col2\" >7115</td> \n",
       "    </tr>    <tr> \n",
       "        <th id=\"T_b75cc44c_5dd9_11e9_85fd_20cf301b91b3level0_row1\" class=\"row_heading level0 row1\" >zeroSum5W14__Strongly agree</th> \n",
       "        <td id=\"T_b75cc44c_5dd9_11e9_85fd_20cf301b91b3row1_col0\" class=\"data row1 col0\" >0.67</td> \n",
       "        <td id=\"T_b75cc44c_5dd9_11e9_85fd_20cf301b91b3row1_col1\" class=\"data row1 col1\" >0.00</td> \n",
       "        <td id=\"T_b75cc44c_5dd9_11e9_85fd_20cf301b91b3row1_col2\" class=\"data row1 col2\" >7599</td> \n",
       "    </tr>    <tr> \n",
       "        <th id=\"T_b75cc44c_5dd9_11e9_85fd_20cf301b91b3level0_row2\" class=\"row_heading level0 row2\" >zeroSum11W14__Strongly agree</th> \n",
       "        <td id=\"T_b75cc44c_5dd9_11e9_85fd_20cf301b91b3row2_col0\" class=\"data row2 col0\" >0.66</td> \n",
       "        <td id=\"T_b75cc44c_5dd9_11e9_85fd_20cf301b91b3row2_col1\" class=\"data row2 col1\" >0.00</td> \n",
       "        <td id=\"T_b75cc44c_5dd9_11e9_85fd_20cf301b91b3row2_col2\" class=\"data row2 col2\" >7404</td> \n",
       "    </tr>    <tr> \n",
       "        <th id=\"T_b75cc44c_5dd9_11e9_85fd_20cf301b91b3level0_row3\" class=\"row_heading level0 row3\" >immigCulturalW2__Enriches cultural life</th> \n",
       "        <td id=\"T_b75cc44c_5dd9_11e9_85fd_20cf301b91b3row3_col0\" class=\"data row3 col0\" >0.22</td> \n",
       "        <td id=\"T_b75cc44c_5dd9_11e9_85fd_20cf301b91b3row3_col1\" class=\"data row3 col1\" >0.00</td> \n",
       "        <td id=\"T_b75cc44c_5dd9_11e9_85fd_20cf301b91b3row3_col2\" class=\"data row3 col2\" >2867</td> \n",
       "    </tr>    <tr> \n",
       "        <th id=\"T_b75cc44c_5dd9_11e9_85fd_20cf301b91b3level0_row4\" class=\"row_heading level0 row4\" >motive2W11__Strongly agree</th> \n",
       "        <td id=\"T_b75cc44c_5dd9_11e9_85fd_20cf301b91b3row4_col0\" class=\"data row4 col0\" >0.22</td> \n",
       "        <td id=\"T_b75cc44c_5dd9_11e9_85fd_20cf301b91b3row4_col1\" class=\"data row4 col1\" >0.00</td> \n",
       "        <td id=\"T_b75cc44c_5dd9_11e9_85fd_20cf301b91b3row4_col2\" class=\"data row4 col2\" >4596</td> \n",
       "    </tr>    <tr> \n",
       "        <th id=\"T_b75cc44c_5dd9_11e9_85fd_20cf301b91b3level0_row5\" class=\"row_heading level0 row5\" >motive1W11__Strongly agree</th> \n",
       "        <td id=\"T_b75cc44c_5dd9_11e9_85fd_20cf301b91b3row5_col0\" class=\"data row5 col0\" >0.21</td> \n",
       "        <td id=\"T_b75cc44c_5dd9_11e9_85fd_20cf301b91b3row5_col1\" class=\"data row5 col1\" >0.00</td> \n",
       "        <td id=\"T_b75cc44c_5dd9_11e9_85fd_20cf301b91b3row5_col2\" class=\"data row5 col2\" >4656</td> \n",
       "    </tr>    <tr> \n",
       "        <th id=\"T_b75cc44c_5dd9_11e9_85fd_20cf301b91b3level0_row6\" class=\"row_heading level0 row6\" >immigEconW2__Good for economy</th> \n",
       "        <td id=\"T_b75cc44c_5dd9_11e9_85fd_20cf301b91b3row6_col0\" class=\"data row6 col0\" >0.2</td> \n",
       "        <td id=\"T_b75cc44c_5dd9_11e9_85fd_20cf301b91b3row6_col1\" class=\"data row6 col1\" >0.00</td> \n",
       "        <td id=\"T_b75cc44c_5dd9_11e9_85fd_20cf301b91b3row6_col2\" class=\"data row6 col2\" >2820</td> \n",
       "    </tr>    <tr> \n",
       "        <th id=\"T_b75cc44c_5dd9_11e9_85fd_20cf301b91b3level0_row7\" class=\"row_heading level0 row7\" >studentsMoreW8__Many more</th> \n",
       "        <td id=\"T_b75cc44c_5dd9_11e9_85fd_20cf301b91b3row7_col0\" class=\"data row7 col0\" >0.19</td> \n",
       "        <td id=\"T_b75cc44c_5dd9_11e9_85fd_20cf301b91b3row7_col1\" class=\"data row7 col1\" >0.00</td> \n",
       "        <td id=\"T_b75cc44c_5dd9_11e9_85fd_20cf301b91b3row7_col2\" class=\"data row7 col2\" >4185</td> \n",
       "    </tr>    <tr> \n",
       "        <th id=\"T_b75cc44c_5dd9_11e9_85fd_20cf301b91b3level0_row8\" class=\"row_heading level0 row8\" >euFinancialHelpW2__Strongly agree</th> \n",
       "        <td id=\"T_b75cc44c_5dd9_11e9_85fd_20cf301b91b3row8_col0\" class=\"data row8 col0\" >0.18</td> \n",
       "        <td id=\"T_b75cc44c_5dd9_11e9_85fd_20cf301b91b3row8_col1\" class=\"data row8 col1\" >0.00</td> \n",
       "        <td id=\"T_b75cc44c_5dd9_11e9_85fd_20cf301b91b3row8_col2\" class=\"data row8 col2\" >2776</td> \n",
       "    </tr>    <tr> \n",
       "        <th id=\"T_b75cc44c_5dd9_11e9_85fd_20cf301b91b3level0_row9\" class=\"row_heading level0 row9\" >likeBennettW5__Strongly like</th> \n",
       "        <td id=\"T_b75cc44c_5dd9_11e9_85fd_20cf301b91b3row9_col0\" class=\"data row9 col0\" >0.18</td> \n",
       "        <td id=\"T_b75cc44c_5dd9_11e9_85fd_20cf301b91b3row9_col1\" class=\"data row9 col1\" >0.00</td> \n",
       "        <td id=\"T_b75cc44c_5dd9_11e9_85fd_20cf301b91b3row9_col2\" class=\"data row9 col2\" >2738</td> \n",
       "    </tr>    <tr> \n",
       "        <th id=\"T_b75cc44c_5dd9_11e9_85fd_20cf301b91b3level0_row10\" class=\"row_heading level0 row10\" >immigSelfW8__Allow many more</th> \n",
       "        <td id=\"T_b75cc44c_5dd9_11e9_85fd_20cf301b91b3row10_col0\" class=\"data row10 col0\" >0.18</td> \n",
       "        <td id=\"T_b75cc44c_5dd9_11e9_85fd_20cf301b91b3row10_col1\" class=\"data row10 col1\" >0.00</td> \n",
       "        <td id=\"T_b75cc44c_5dd9_11e9_85fd_20cf301b91b3row10_col2\" class=\"data row10 col2\" >4093</td> \n",
       "    </tr>    <tr> \n",
       "        <th id=\"T_b75cc44c_5dd9_11e9_85fd_20cf301b91b3level0_row11\" class=\"row_heading level0 row11\" >asylumMoreW8__Many more</th> \n",
       "        <td id=\"T_b75cc44c_5dd9_11e9_85fd_20cf301b91b3row11_col0\" class=\"data row11 col0\" >0.18</td> \n",
       "        <td id=\"T_b75cc44c_5dd9_11e9_85fd_20cf301b91b3row11_col1\" class=\"data row11 col1\" >0.00</td> \n",
       "        <td id=\"T_b75cc44c_5dd9_11e9_85fd_20cf301b91b3row11_col2\" class=\"data row11 col2\" >4209</td> \n",
       "    </tr>    <tr> \n",
       "        <th id=\"T_b75cc44c_5dd9_11e9_85fd_20cf301b91b3level0_row12\" class=\"row_heading level0 row12\" >likeLucasW11__Strongly like</th> \n",
       "        <td id=\"T_b75cc44c_5dd9_11e9_85fd_20cf301b91b3row12_col0\" class=\"data row12 col0\" >0.18</td> \n",
       "        <td id=\"T_b75cc44c_5dd9_11e9_85fd_20cf301b91b3row12_col1\" class=\"data row12 col1\" >0.00</td> \n",
       "        <td id=\"T_b75cc44c_5dd9_11e9_85fd_20cf301b91b3row12_col2\" class=\"data row12 col2\" >3111</td> \n",
       "    </tr>    <tr> \n",
       "        <th id=\"T_b75cc44c_5dd9_11e9_85fd_20cf301b91b3level0_row13\" class=\"row_heading level0 row13\" >likeGrnW2__Strongly like</th> \n",
       "        <td id=\"T_b75cc44c_5dd9_11e9_85fd_20cf301b91b3row13_col0\" class=\"data row13 col0\" >0.18</td> \n",
       "        <td id=\"T_b75cc44c_5dd9_11e9_85fd_20cf301b91b3row13_col1\" class=\"data row13 col1\" >0.00</td> \n",
       "        <td id=\"T_b75cc44c_5dd9_11e9_85fd_20cf301b91b3row13_col2\" class=\"data row13 col2\" >1380</td> \n",
       "    </tr>    <tr> \n",
       "        <th id=\"T_b75cc44c_5dd9_11e9_85fd_20cf301b91b3level0_row14\" class=\"row_heading level0 row14\" >europeannessW12__Very strongly European</th> \n",
       "        <td id=\"T_b75cc44c_5dd9_11e9_85fd_20cf301b91b3row14_col0\" class=\"data row14 col0\" >0.17</td> \n",
       "        <td id=\"T_b75cc44c_5dd9_11e9_85fd_20cf301b91b3row14_col1\" class=\"data row14 col1\" >0.00</td> \n",
       "        <td id=\"T_b75cc44c_5dd9_11e9_85fd_20cf301b91b3row14_col2\" class=\"data row14 col2\" >867</td> \n",
       "    </tr>    <tr> \n",
       "        <th id=\"T_b75cc44c_5dd9_11e9_85fd_20cf301b91b3level0_row15\" class=\"row_heading level0 row15\" >spendLeast2W2_Defence</th> \n",
       "        <td id=\"T_b75cc44c_5dd9_11e9_85fd_20cf301b91b3row15_col0\" class=\"data row15 col0\" >0.17</td> \n",
       "        <td id=\"T_b75cc44c_5dd9_11e9_85fd_20cf301b91b3row15_col1\" class=\"data row15 col1\" >0.00</td> \n",
       "        <td id=\"T_b75cc44c_5dd9_11e9_85fd_20cf301b91b3row15_col2\" class=\"data row15 col2\" >2325</td> \n",
       "    </tr>    <tr> \n",
       "        <th id=\"T_b75cc44c_5dd9_11e9_85fd_20cf301b91b3level0_row16\" class=\"row_heading level0 row16\" >winConstituencySNPW12__100 - Very likely to win</th> \n",
       "        <td id=\"T_b75cc44c_5dd9_11e9_85fd_20cf301b91b3row16_col0\" class=\"data row16 col0\" >0.17</td> \n",
       "        <td id=\"T_b75cc44c_5dd9_11e9_85fd_20cf301b91b3row16_col1\" class=\"data row16 col1\" >0.00</td> \n",
       "        <td id=\"T_b75cc44c_5dd9_11e9_85fd_20cf301b91b3row16_col2\" class=\"data row16 col2\" >598</td> \n",
       "    </tr>    <tr> \n",
       "        <th id=\"T_b75cc44c_5dd9_11e9_85fd_20cf301b91b3level0_row17\" class=\"row_heading level0 row17\" >familiesMoreW8__Many more</th> \n",
       "        <td id=\"T_b75cc44c_5dd9_11e9_85fd_20cf301b91b3row17_col0\" class=\"data row17 col0\" >0.17</td> \n",
       "        <td id=\"T_b75cc44c_5dd9_11e9_85fd_20cf301b91b3row17_col1\" class=\"data row17 col1\" >0.00</td> \n",
       "        <td id=\"T_b75cc44c_5dd9_11e9_85fd_20cf301b91b3row17_col2\" class=\"data row17 col2\" >4172</td> \n",
       "    </tr>    <tr> \n",
       "        <th id=\"T_b75cc44c_5dd9_11e9_85fd_20cf301b91b3level0_row18\" class=\"row_heading level0 row18\" >ptvGrnW5__Very likely</th> \n",
       "        <td id=\"T_b75cc44c_5dd9_11e9_85fd_20cf301b91b3row18_col0\" class=\"data row18 col0\" >0.17</td> \n",
       "        <td id=\"T_b75cc44c_5dd9_11e9_85fd_20cf301b91b3row18_col1\" class=\"data row18 col1\" >0.00</td> \n",
       "        <td id=\"T_b75cc44c_5dd9_11e9_85fd_20cf301b91b3row18_col2\" class=\"data row18 col2\" >1648</td> \n",
       "    </tr>    <tr> \n",
       "        <th id=\"T_b75cc44c_5dd9_11e9_85fd_20cf301b91b3level0_row19\" class=\"row_heading level0 row19\" >euCloserW8__Strongly agree</th> \n",
       "        <td id=\"T_b75cc44c_5dd9_11e9_85fd_20cf301b91b3row19_col0\" class=\"data row19 col0\" >0.16</td> \n",
       "        <td id=\"T_b75cc44c_5dd9_11e9_85fd_20cf301b91b3row19_col1\" class=\"data row19 col1\" >0.00</td> \n",
       "        <td id=\"T_b75cc44c_5dd9_11e9_85fd_20cf301b91b3row19_col2\" class=\"data row19 col2\" >4219</td> \n",
       "    </tr></tbody> \n",
       "</table> <style  type=\"text/css\" >\n",
       "</style>  \n",
       "<table id=\"T_b75daeb0_5dd9_11e9_a17c_20cf301b91b3\" style='display:inline'><caption>Top 20 negative (spearman) correlations for zeroSumIRTW14</caption> \n",
       "<thead>    <tr> \n",
       "        <th class=\"blank level0\" ></th> \n",
       "        <th class=\"col_heading level0 col0\" >r</th> \n",
       "        <th class=\"col_heading level0 col1\" >p</th> \n",
       "        <th class=\"col_heading level0 col2\" >N</th> \n",
       "    </tr></thead> \n",
       "<tbody>    <tr> \n",
       "        <th id=\"T_b75daeb0_5dd9_11e9_a17c_20cf301b91b3level0_row0\" class=\"row_heading level0 row0\" >zeroSum7W14__Strongly agree</th> \n",
       "        <td id=\"T_b75daeb0_5dd9_11e9_a17c_20cf301b91b3row0_col0\" class=\"data row0 col0\" >-0.68</td> \n",
       "        <td id=\"T_b75daeb0_5dd9_11e9_a17c_20cf301b91b3row0_col1\" class=\"data row0 col1\" >0.00</td> \n",
       "        <td id=\"T_b75daeb0_5dd9_11e9_a17c_20cf301b91b3row0_col2\" class=\"data row0 col2\" >7447</td> \n",
       "    </tr>    <tr> \n",
       "        <th id=\"T_b75daeb0_5dd9_11e9_a17c_20cf301b91b3level0_row1\" class=\"row_heading level0 row1\" >zeroSum4W14__Strongly agree</th> \n",
       "        <td id=\"T_b75daeb0_5dd9_11e9_a17c_20cf301b91b3row1_col0\" class=\"data row1 col0\" >-0.52</td> \n",
       "        <td id=\"T_b75daeb0_5dd9_11e9_a17c_20cf301b91b3row1_col1\" class=\"data row1 col1\" >0.00</td> \n",
       "        <td id=\"T_b75daeb0_5dd9_11e9_a17c_20cf301b91b3row1_col2\" class=\"data row1 col2\" >7363</td> \n",
       "    </tr>    <tr> \n",
       "        <th id=\"T_b75daeb0_5dd9_11e9_a17c_20cf301b91b3level0_row2\" class=\"row_heading level0 row2\" >zeroSum1W14__Strongly agree</th> \n",
       "        <td id=\"T_b75daeb0_5dd9_11e9_a17c_20cf301b91b3row2_col0\" class=\"data row2 col0\" >-0.43</td> \n",
       "        <td id=\"T_b75daeb0_5dd9_11e9_a17c_20cf301b91b3row2_col1\" class=\"data row2 col1\" >0.00</td> \n",
       "        <td id=\"T_b75daeb0_5dd9_11e9_a17c_20cf301b91b3row2_col2\" class=\"data row2 col2\" >7425</td> \n",
       "    </tr>    <tr> \n",
       "        <th id=\"T_b75daeb0_5dd9_11e9_a17c_20cf301b91b3level0_row3\" class=\"row_heading level0 row3\" >overseasAidW10__Strongly agree</th> \n",
       "        <td id=\"T_b75daeb0_5dd9_11e9_a17c_20cf301b91b3row3_col0\" class=\"data row3 col0\" >-0.2</td> \n",
       "        <td id=\"T_b75daeb0_5dd9_11e9_a17c_20cf301b91b3row3_col1\" class=\"data row3 col1\" >0.00</td> \n",
       "        <td id=\"T_b75daeb0_5dd9_11e9_a17c_20cf301b91b3row3_col2\" class=\"data row3 col2\" >4372</td> \n",
       "    </tr>    <tr> \n",
       "        <th id=\"T_b75daeb0_5dd9_11e9_a17c_20cf301b91b3level0_row4\" class=\"row_heading level0 row4\" >blackEquality2W14__Gone much too far</th> \n",
       "        <td id=\"T_b75daeb0_5dd9_11e9_a17c_20cf301b91b3row4_col0\" class=\"data row4 col0\" >-0.19</td> \n",
       "        <td id=\"T_b75daeb0_5dd9_11e9_a17c_20cf301b91b3row4_col1\" class=\"data row4 col1\" >0.00</td> \n",
       "        <td id=\"T_b75daeb0_5dd9_11e9_a17c_20cf301b91b3row4_col2\" class=\"data row4 col2\" >1169</td> \n",
       "    </tr>    <tr> \n",
       "        <th id=\"T_b75daeb0_5dd9_11e9_a17c_20cf301b91b3level0_row5\" class=\"row_heading level0 row5\" >immigrantsWelfareStateW10__Strongly agree</th> \n",
       "        <td id=\"T_b75daeb0_5dd9_11e9_a17c_20cf301b91b3row5_col0\" class=\"data row5 col0\" >-0.19</td> \n",
       "        <td id=\"T_b75daeb0_5dd9_11e9_a17c_20cf301b91b3row5_col1\" class=\"data row5 col1\" >0.00</td> \n",
       "        <td id=\"T_b75daeb0_5dd9_11e9_a17c_20cf301b91b3row5_col2\" class=\"data row5 col2\" >4294</td> \n",
       "    </tr>    <tr> \n",
       "        <th id=\"T_b75daeb0_5dd9_11e9_a17c_20cf301b91b3level0_row6\" class=\"row_heading level0 row6\" >euRefVoteW2_Leave the EU</th> \n",
       "        <td id=\"T_b75daeb0_5dd9_11e9_a17c_20cf301b91b3row6_col0\" class=\"data row6 col0\" >-0.19</td> \n",
       "        <td id=\"T_b75daeb0_5dd9_11e9_a17c_20cf301b91b3row6_col1\" class=\"data row6 col1\" >0.00</td> \n",
       "        <td id=\"T_b75daeb0_5dd9_11e9_a17c_20cf301b91b3row6_col2\" class=\"data row6 col2\" >2090</td> \n",
       "    </tr>    <tr> \n",
       "        <th id=\"T_b75daeb0_5dd9_11e9_a17c_20cf301b91b3level0_row7\" class=\"row_heading level0 row7\" >blackEqualityW6_W12__Gone much too far</th> \n",
       "        <td id=\"T_b75daeb0_5dd9_11e9_a17c_20cf301b91b3row7_col0\" class=\"data row7 col0\" >-0.18</td> \n",
       "        <td id=\"T_b75daeb0_5dd9_11e9_a17c_20cf301b91b3row7_col1\" class=\"data row7 col1\" >0.00</td> \n",
       "        <td id=\"T_b75daeb0_5dd9_11e9_a17c_20cf301b91b3row7_col2\" class=\"data row7 col2\" >5824</td> \n",
       "    </tr>    <tr> \n",
       "        <th id=\"T_b75daeb0_5dd9_11e9_a17c_20cf301b91b3level0_row8\" class=\"row_heading level0 row8\" >womenJobsW10__Strongly agree</th> \n",
       "        <td id=\"T_b75daeb0_5dd9_11e9_a17c_20cf301b91b3row8_col0\" class=\"data row8 col0\" >-0.18</td> \n",
       "        <td id=\"T_b75daeb0_5dd9_11e9_a17c_20cf301b91b3row8_col1\" class=\"data row8 col1\" >0.00</td> \n",
       "        <td id=\"T_b75daeb0_5dd9_11e9_a17c_20cf301b91b3row8_col2\" class=\"data row8 col2\" >4138</td> \n",
       "    </tr>    <tr> \n",
       "        <th id=\"T_b75daeb0_5dd9_11e9_a17c_20cf301b91b3level0_row9\" class=\"row_heading level0 row9\" >ptvUKIPW8__Very likely</th> \n",
       "        <td id=\"T_b75daeb0_5dd9_11e9_a17c_20cf301b91b3row9_col0\" class=\"data row9 col0\" >-0.18</td> \n",
       "        <td id=\"T_b75daeb0_5dd9_11e9_a17c_20cf301b91b3row9_col1\" class=\"data row9 col1\" >0.00</td> \n",
       "        <td id=\"T_b75daeb0_5dd9_11e9_a17c_20cf301b91b3row9_col2\" class=\"data row9 col2\" >939</td> \n",
       "    </tr>    <tr> \n",
       "        <th id=\"T_b75daeb0_5dd9_11e9_a17c_20cf301b91b3level0_row10\" class=\"row_heading level0 row10\" >EUIntegrationSelfW3__Protect our independence</th> \n",
       "        <td id=\"T_b75daeb0_5dd9_11e9_a17c_20cf301b91b3row10_col0\" class=\"data row10 col0\" >-0.18</td> \n",
       "        <td id=\"T_b75daeb0_5dd9_11e9_a17c_20cf301b91b3row10_col1\" class=\"data row10 col1\" >0.00</td> \n",
       "        <td id=\"T_b75daeb0_5dd9_11e9_a17c_20cf301b91b3row10_col2\" class=\"data row10 col2\" >2494</td> \n",
       "    </tr>    <tr> \n",
       "        <th id=\"T_b75daeb0_5dd9_11e9_a17c_20cf301b91b3level0_row11\" class=\"row_heading level0 row11\" >blackEqualityW1W2W3W4W5__Gone much too far</th> \n",
       "        <td id=\"T_b75daeb0_5dd9_11e9_a17c_20cf301b91b3row11_col0\" class=\"data row11 col0\" >-0.18</td> \n",
       "        <td id=\"T_b75daeb0_5dd9_11e9_a17c_20cf301b91b3row11_col1\" class=\"data row11 col1\" >0.00</td> \n",
       "        <td id=\"T_b75daeb0_5dd9_11e9_a17c_20cf301b91b3row11_col2\" class=\"data row11 col2\" >3424</td> \n",
       "    </tr>    <tr> \n",
       "        <th id=\"T_b75daeb0_5dd9_11e9_a17c_20cf301b91b3level0_row12\" class=\"row_heading level0 row12\" >britBornHereW11__Very important</th> \n",
       "        <td id=\"T_b75daeb0_5dd9_11e9_a17c_20cf301b91b3row12_col0\" class=\"data row12 col0\" >-0.17</td> \n",
       "        <td id=\"T_b75daeb0_5dd9_11e9_a17c_20cf301b91b3row12_col1\" class=\"data row12 col1\" >0.00</td> \n",
       "        <td id=\"T_b75daeb0_5dd9_11e9_a17c_20cf301b91b3row12_col2\" class=\"data row12 col2\" >4717</td> \n",
       "    </tr>    <tr> \n",
       "        <th id=\"T_b75daeb0_5dd9_11e9_a17c_20cf301b91b3level0_row13\" class=\"row_heading level0 row13\" >al2W6__Strongly agree</th> \n",
       "        <td id=\"T_b75daeb0_5dd9_11e9_a17c_20cf301b91b3row13_col0\" class=\"data row13 col0\" >-0.17</td> \n",
       "        <td id=\"T_b75daeb0_5dd9_11e9_a17c_20cf301b91b3row13_col1\" class=\"data row13 col1\" >0.00</td> \n",
       "        <td id=\"T_b75daeb0_5dd9_11e9_a17c_20cf301b91b3row13_col2\" class=\"data row13 col2\" >3248</td> \n",
       "    </tr>    <tr> \n",
       "        <th id=\"T_b75daeb0_5dd9_11e9_a17c_20cf301b91b3level0_row14\" class=\"row_heading level0 row14\" >gayEquality2W14__Gone much too far</th> \n",
       "        <td id=\"T_b75daeb0_5dd9_11e9_a17c_20cf301b91b3row14_col0\" class=\"data row14 col0\" >-0.17</td> \n",
       "        <td id=\"T_b75daeb0_5dd9_11e9_a17c_20cf301b91b3row14_col1\" class=\"data row14 col1\" >0.00</td> \n",
       "        <td id=\"T_b75daeb0_5dd9_11e9_a17c_20cf301b91b3row14_col2\" class=\"data row14 col2\" >1173</td> \n",
       "    </tr>    <tr> \n",
       "        <th id=\"T_b75daeb0_5dd9_11e9_a17c_20cf301b91b3level0_row15\" class=\"row_heading level0 row15\" >likeUKIPW10__Strongly like</th> \n",
       "        <td id=\"T_b75daeb0_5dd9_11e9_a17c_20cf301b91b3row15_col0\" class=\"data row15 col0\" >-0.17</td> \n",
       "        <td id=\"T_b75daeb0_5dd9_11e9_a17c_20cf301b91b3row15_col1\" class=\"data row15 col1\" >0.00</td> \n",
       "        <td id=\"T_b75daeb0_5dd9_11e9_a17c_20cf301b91b3row15_col2\" class=\"data row15 col2\" >4217</td> \n",
       "    </tr>    <tr> \n",
       "        <th id=\"T_b75daeb0_5dd9_11e9_a17c_20cf301b91b3level0_row16\" class=\"row_heading level0 row16\" >miilabelW2_immigration</th> \n",
       "        <td id=\"T_b75daeb0_5dd9_11e9_a17c_20cf301b91b3row16_col0\" class=\"data row16 col0\" >-0.16</td> \n",
       "        <td id=\"T_b75daeb0_5dd9_11e9_a17c_20cf301b91b3row16_col1\" class=\"data row16 col1\" >0.00</td> \n",
       "        <td id=\"T_b75daeb0_5dd9_11e9_a17c_20cf301b91b3row16_col2\" class=\"data row16 col2\" >2223</td> \n",
       "    </tr>    <tr> \n",
       "        <th id=\"T_b75daeb0_5dd9_11e9_a17c_20cf301b91b3level0_row17\" class=\"row_heading level0 row17\" >leftRightW10__Right</th> \n",
       "        <td id=\"T_b75daeb0_5dd9_11e9_a17c_20cf301b91b3row17_col0\" class=\"data row17 col0\" >-0.16</td> \n",
       "        <td id=\"T_b75daeb0_5dd9_11e9_a17c_20cf301b91b3row17_col1\" class=\"data row17 col1\" >0.00</td> \n",
       "        <td id=\"T_b75daeb0_5dd9_11e9_a17c_20cf301b91b3row17_col2\" class=\"data row17 col2\" >3582</td> \n",
       "    </tr>    <tr> \n",
       "        <th id=\"T_b75daeb0_5dd9_11e9_a17c_20cf301b91b3level0_row18\" class=\"row_heading level0 row18\" >euroElectionVoteW2_United Kingdom Independence[...]</th> \n",
       "        <td id=\"T_b75daeb0_5dd9_11e9_a17c_20cf301b91b3row18_col0\" class=\"data row18 col0\" >-0.16</td> \n",
       "        <td id=\"T_b75daeb0_5dd9_11e9_a17c_20cf301b91b3row18_col1\" class=\"data row18 col1\" >0.00</td> \n",
       "        <td id=\"T_b75daeb0_5dd9_11e9_a17c_20cf301b91b3row18_col2\" class=\"data row18 col2\" >2150</td> \n",
       "    </tr>    <tr> \n",
       "        <th id=\"T_b75daeb0_5dd9_11e9_a17c_20cf301b91b3level0_row19\" class=\"row_heading level0 row19\" >ukCoopMovementW7__Bad for Britain</th> \n",
       "        <td id=\"T_b75daeb0_5dd9_11e9_a17c_20cf301b91b3row19_col0\" class=\"data row19 col0\" >-0.16</td> \n",
       "        <td id=\"T_b75daeb0_5dd9_11e9_a17c_20cf301b91b3row19_col1\" class=\"data row19 col1\" >0.00</td> \n",
       "        <td id=\"T_b75daeb0_5dd9_11e9_a17c_20cf301b91b3row19_col2\" class=\"data row19 col2\" >3647</td> \n",
       "    </tr></tbody> \n",
       "</table> "
      ]
     },
     "metadata": {},
     "output_type": "display_data"
    }
   ],
   "source": [
    "# BES_reduced_with_na[\"ever_voted_BNP\"] = ever_voted_BNP\n",
    "pattern = \"zeroSumIRTW14\"\n",
    "name = \"zeroSumIRTW14\"\n",
    "corr_type = \"spearman\"\n",
    "df,corr_type = make_corr_summary(BES_reduced_with_na, name, corr_type, pattern=pattern)\n",
    "display_corr(df, name, corr_type, text_wrap_length=50)"
   ]
  },
  {
   "cell_type": "code",
   "execution_count": 135,
   "metadata": {},
   "outputs": [
    {
     "data": {
      "text/html": [
       "<style  type=\"text/css\" >\n",
       "</style>  \n",
       "<table id=\"T_ccefd2e6_5dda_11e9_84d9_20cf301b91b3\" style='display:inline'><caption>Top 20 positive (spearman) correlations for al_scaleW14__Authoritarian</caption> \n",
       "<thead>    <tr> \n",
       "        <th class=\"blank level0\" ></th> \n",
       "        <th class=\"col_heading level0 col0\" >r</th> \n",
       "        <th class=\"col_heading level0 col1\" >p</th> \n",
       "        <th class=\"col_heading level0 col2\" >N</th> \n",
       "    </tr></thead> \n",
       "<tbody>    <tr> \n",
       "        <th id=\"T_ccefd2e6_5dda_11e9_84d9_20cf301b91b3level0_row0\" class=\"row_heading level0 row0\" >al_scaleW13__Authoritarian</th> \n",
       "        <td id=\"T_ccefd2e6_5dda_11e9_84d9_20cf301b91b3row0_col0\" class=\"data row0 col0\" >0.85</td> \n",
       "        <td id=\"T_ccefd2e6_5dda_11e9_84d9_20cf301b91b3row0_col1\" class=\"data row0 col1\" >0.00</td> \n",
       "        <td id=\"T_ccefd2e6_5dda_11e9_84d9_20cf301b91b3row0_col2\" class=\"data row0 col2\" >16580</td> \n",
       "    </tr>    <tr> \n",
       "        <th id=\"T_ccefd2e6_5dda_11e9_84d9_20cf301b91b3level0_row1\" class=\"row_heading level0 row1\" >al2W14__Strongly agree</th> \n",
       "        <td id=\"T_ccefd2e6_5dda_11e9_84d9_20cf301b91b3row1_col0\" class=\"data row1 col0\" >0.8</td> \n",
       "        <td id=\"T_ccefd2e6_5dda_11e9_84d9_20cf301b91b3row1_col1\" class=\"data row1 col1\" >0.00</td> \n",
       "        <td id=\"T_ccefd2e6_5dda_11e9_84d9_20cf301b91b3row1_col2\" class=\"data row1 col2\" >27351</td> \n",
       "    </tr>    <tr> \n",
       "        <th id=\"T_ccefd2e6_5dda_11e9_84d9_20cf301b91b3level0_row2\" class=\"row_heading level0 row2\" >al1W14__Strongly agree</th> \n",
       "        <td id=\"T_ccefd2e6_5dda_11e9_84d9_20cf301b91b3row2_col0\" class=\"data row2 col0\" >0.79</td> \n",
       "        <td id=\"T_ccefd2e6_5dda_11e9_84d9_20cf301b91b3row2_col1\" class=\"data row2 col1\" >0.00</td> \n",
       "        <td id=\"T_ccefd2e6_5dda_11e9_84d9_20cf301b91b3row2_col2\" class=\"data row2 col2\" >27351</td> \n",
       "    </tr>    <tr> \n",
       "        <th id=\"T_ccefd2e6_5dda_11e9_84d9_20cf301b91b3level0_row3\" class=\"row_heading level0 row3\" >al5W14__Strongly agree</th> \n",
       "        <td id=\"T_ccefd2e6_5dda_11e9_84d9_20cf301b91b3row3_col0\" class=\"data row3 col0\" >0.78</td> \n",
       "        <td id=\"T_ccefd2e6_5dda_11e9_84d9_20cf301b91b3row3_col1\" class=\"data row3 col1\" >0.00</td> \n",
       "        <td id=\"T_ccefd2e6_5dda_11e9_84d9_20cf301b91b3row3_col2\" class=\"data row3 col2\" >27351</td> \n",
       "    </tr>    <tr> \n",
       "        <th id=\"T_ccefd2e6_5dda_11e9_84d9_20cf301b91b3level0_row4\" class=\"row_heading level0 row4\" >al3W14__Strongly agree</th> \n",
       "        <td id=\"T_ccefd2e6_5dda_11e9_84d9_20cf301b91b3row4_col0\" class=\"data row4 col0\" >0.76</td> \n",
       "        <td id=\"T_ccefd2e6_5dda_11e9_84d9_20cf301b91b3row4_col1\" class=\"data row4 col1\" >0.00</td> \n",
       "        <td id=\"T_ccefd2e6_5dda_11e9_84d9_20cf301b91b3row4_col2\" class=\"data row4 col2\" >27351</td> \n",
       "    </tr>    <tr> \n",
       "        <th id=\"T_ccefd2e6_5dda_11e9_84d9_20cf301b91b3level0_row5\" class=\"row_heading level0 row5\" >al4W14__Strongly agree</th> \n",
       "        <td id=\"T_ccefd2e6_5dda_11e9_84d9_20cf301b91b3row5_col0\" class=\"data row5 col0\" >0.63</td> \n",
       "        <td id=\"T_ccefd2e6_5dda_11e9_84d9_20cf301b91b3row5_col1\" class=\"data row5 col1\" >0.00</td> \n",
       "        <td id=\"T_ccefd2e6_5dda_11e9_84d9_20cf301b91b3row5_col2\" class=\"data row5 col2\" >27351</td> \n",
       "    </tr>    <tr> \n",
       "        <th id=\"T_ccefd2e6_5dda_11e9_84d9_20cf301b91b3level0_row6\" class=\"row_heading level0 row6\" >immigrantsWelfareStateW8__Strongly agree</th> \n",
       "        <td id=\"T_ccefd2e6_5dda_11e9_84d9_20cf301b91b3row6_col0\" class=\"data row6 col0\" >0.61</td> \n",
       "        <td id=\"T_ccefd2e6_5dda_11e9_84d9_20cf301b91b3row6_col1\" class=\"data row6 col1\" >0.00</td> \n",
       "        <td id=\"T_ccefd2e6_5dda_11e9_84d9_20cf301b91b3row6_col2\" class=\"data row6 col2\" >15233</td> \n",
       "    </tr>    <tr> \n",
       "        <th id=\"T_ccefd2e6_5dda_11e9_84d9_20cf301b91b3level0_row7\" class=\"row_heading level0 row7\" >overseasAidW14__Strongly agree</th> \n",
       "        <td id=\"T_ccefd2e6_5dda_11e9_84d9_20cf301b91b3row7_col0\" class=\"data row7 col0\" >0.6</td> \n",
       "        <td id=\"T_ccefd2e6_5dda_11e9_84d9_20cf301b91b3row7_col1\" class=\"data row7 col1\" >0.00</td> \n",
       "        <td id=\"T_ccefd2e6_5dda_11e9_84d9_20cf301b91b3row7_col2\" class=\"data row7 col2\" >26820</td> \n",
       "    </tr>    <tr> \n",
       "        <th id=\"T_ccefd2e6_5dda_11e9_84d9_20cf301b91b3level0_row8\" class=\"row_heading level0 row8\" >euPriorityBalanceW12__Control immigration</th> \n",
       "        <td id=\"T_ccefd2e6_5dda_11e9_84d9_20cf301b91b3row8_col0\" class=\"data row8 col0\" >0.56</td> \n",
       "        <td id=\"T_ccefd2e6_5dda_11e9_84d9_20cf301b91b3row8_col1\" class=\"data row8 col1\" >0.00</td> \n",
       "        <td id=\"T_ccefd2e6_5dda_11e9_84d9_20cf301b91b3row8_col2\" class=\"data row8 col2\" >17057</td> \n",
       "    </tr>    <tr> \n",
       "        <th id=\"T_ccefd2e6_5dda_11e9_84d9_20cf301b91b3level0_row9\" class=\"row_heading level0 row9\" >immigContributeTakeW8__Get more than they pay</th> \n",
       "        <td id=\"T_ccefd2e6_5dda_11e9_84d9_20cf301b91b3row9_col0\" class=\"data row9 col0\" >0.55</td> \n",
       "        <td id=\"T_ccefd2e6_5dda_11e9_84d9_20cf301b91b3row9_col1\" class=\"data row9 col1\" >0.00</td> \n",
       "        <td id=\"T_ccefd2e6_5dda_11e9_84d9_20cf301b91b3row9_col2\" class=\"data row9 col2\" >13367</td> \n",
       "    </tr>    <tr> \n",
       "        <th id=\"T_ccefd2e6_5dda_11e9_84d9_20cf301b91b3level0_row10\" class=\"row_heading level0 row10\" >euUndermineIdentityW8__Strongly agree</th> \n",
       "        <td id=\"T_ccefd2e6_5dda_11e9_84d9_20cf301b91b3row10_col0\" class=\"data row10 col0\" >0.54</td> \n",
       "        <td id=\"T_ccefd2e6_5dda_11e9_84d9_20cf301b91b3row10_col1\" class=\"data row10 col1\" >0.00</td> \n",
       "        <td id=\"T_ccefd2e6_5dda_11e9_84d9_20cf301b91b3row10_col2\" class=\"data row10 col2\" >15103</td> \n",
       "    </tr>    <tr> \n",
       "        <th id=\"T_ccefd2e6_5dda_11e9_84d9_20cf301b91b3level0_row11\" class=\"row_heading level0 row11\" >euParlOverRideW8__Strongly agree</th> \n",
       "        <td id=\"T_ccefd2e6_5dda_11e9_84d9_20cf301b91b3row11_col0\" class=\"data row11 col0\" >0.52</td> \n",
       "        <td id=\"T_ccefd2e6_5dda_11e9_84d9_20cf301b91b3row11_col1\" class=\"data row11 col1\" >0.00</td> \n",
       "        <td id=\"T_ccefd2e6_5dda_11e9_84d9_20cf301b91b3row11_col2\" class=\"data row11 col2\" >15100</td> \n",
       "    </tr>    <tr> \n",
       "        <th id=\"T_ccefd2e6_5dda_11e9_84d9_20cf301b91b3level0_row12\" class=\"row_heading level0 row12\" >EUIntegrationSelfW3__Protect our independence</th> \n",
       "        <td id=\"T_ccefd2e6_5dda_11e9_84d9_20cf301b91b3row12_col0\" class=\"data row12 col0\" >0.51</td> \n",
       "        <td id=\"T_ccefd2e6_5dda_11e9_84d9_20cf301b91b3row12_col1\" class=\"data row12 col1\" >0.00</td> \n",
       "        <td id=\"T_ccefd2e6_5dda_11e9_84d9_20cf301b91b3row12_col2\" class=\"data row12 col2\" >4735</td> \n",
       "    </tr>    <tr> \n",
       "        <th id=\"T_ccefd2e6_5dda_11e9_84d9_20cf301b91b3level0_row13\" class=\"row_heading level0 row13\" >UKsovereigntyW8__Strongly agree</th> \n",
       "        <td id=\"T_ccefd2e6_5dda_11e9_84d9_20cf301b91b3row13_col0\" class=\"data row13 col0\" >0.5</td> \n",
       "        <td id=\"T_ccefd2e6_5dda_11e9_84d9_20cf301b91b3row13_col1\" class=\"data row13 col1\" >0.00</td> \n",
       "        <td id=\"T_ccefd2e6_5dda_11e9_84d9_20cf301b91b3row13_col2\" class=\"data row13 col2\" >14984</td> \n",
       "    </tr>    <tr> \n",
       "        <th id=\"T_ccefd2e6_5dda_11e9_84d9_20cf301b91b3level0_row14\" class=\"row_heading level0 row14\" >euRefVoteW2_Leave the EU</th> \n",
       "        <td id=\"T_ccefd2e6_5dda_11e9_84d9_20cf301b91b3row14_col0\" class=\"data row14 col0\" >0.5</td> \n",
       "        <td id=\"T_ccefd2e6_5dda_11e9_84d9_20cf301b91b3row14_col1\" class=\"data row14 col1\" >0.00</td> \n",
       "        <td id=\"T_ccefd2e6_5dda_11e9_84d9_20cf301b91b3row14_col2\" class=\"data row14 col2\" >7512</td> \n",
       "    </tr>    <tr> \n",
       "        <th id=\"T_ccefd2e6_5dda_11e9_84d9_20cf301b91b3level0_row15\" class=\"row_heading level0 row15\" >strongLeaderW14__Strongly agree</th> \n",
       "        <td id=\"T_ccefd2e6_5dda_11e9_84d9_20cf301b91b3row15_col0\" class=\"data row15 col0\" >0.5</td> \n",
       "        <td id=\"T_ccefd2e6_5dda_11e9_84d9_20cf301b91b3row15_col1\" class=\"data row15 col1\" >0.00</td> \n",
       "        <td id=\"T_ccefd2e6_5dda_11e9_84d9_20cf301b91b3row15_col2\" class=\"data row15 col2\" >26095</td> \n",
       "    </tr>    <tr> \n",
       "        <th id=\"T_ccefd2e6_5dda_11e9_84d9_20cf301b91b3level0_row16\" class=\"row_heading level0 row16\" >harkBackW7__Strongly agree</th> \n",
       "        <td id=\"T_ccefd2e6_5dda_11e9_84d9_20cf301b91b3row16_col0\" class=\"data row16 col0\" >0.5</td> \n",
       "        <td id=\"T_ccefd2e6_5dda_11e9_84d9_20cf301b91b3row16_col1\" class=\"data row16 col1\" >0.00</td> \n",
       "        <td id=\"T_ccefd2e6_5dda_11e9_84d9_20cf301b91b3row16_col2\" class=\"data row16 col2\" >13644</td> \n",
       "    </tr>    <tr> \n",
       "        <th id=\"T_ccefd2e6_5dda_11e9_84d9_20cf301b91b3level0_row17\" class=\"row_heading level0 row17\" >ukCoopMovementW8__Bad for Britain</th> \n",
       "        <td id=\"T_ccefd2e6_5dda_11e9_84d9_20cf301b91b3row17_col0\" class=\"data row17 col0\" >0.49</td> \n",
       "        <td id=\"T_ccefd2e6_5dda_11e9_84d9_20cf301b91b3row17_col1\" class=\"data row17 col1\" >0.00</td> \n",
       "        <td id=\"T_ccefd2e6_5dda_11e9_84d9_20cf301b91b3row17_col2\" class=\"data row17 col2\" >14971</td> \n",
       "    </tr>    <tr> \n",
       "        <th id=\"T_ccefd2e6_5dda_11e9_84d9_20cf301b91b3level0_row18\" class=\"row_heading level0 row18\" >likeUKIPW5__Strongly like</th> \n",
       "        <td id=\"T_ccefd2e6_5dda_11e9_84d9_20cf301b91b3row18_col0\" class=\"data row18 col0\" >0.49</td> \n",
       "        <td id=\"T_ccefd2e6_5dda_11e9_84d9_20cf301b91b3row18_col1\" class=\"data row18 col1\" >0.00</td> \n",
       "        <td id=\"T_ccefd2e6_5dda_11e9_84d9_20cf301b91b3row18_col2\" class=\"data row18 col2\" >5889</td> \n",
       "    </tr>    <tr> \n",
       "        <th id=\"T_ccefd2e6_5dda_11e9_84d9_20cf301b91b3level0_row19\" class=\"row_heading level0 row19\" >changeImmigW3__Getting a lot higher</th> \n",
       "        <td id=\"T_ccefd2e6_5dda_11e9_84d9_20cf301b91b3row19_col0\" class=\"data row19 col0\" >0.49</td> \n",
       "        <td id=\"T_ccefd2e6_5dda_11e9_84d9_20cf301b91b3row19_col1\" class=\"data row19 col1\" >0.00</td> \n",
       "        <td id=\"T_ccefd2e6_5dda_11e9_84d9_20cf301b91b3row19_col2\" class=\"data row19 col2\" >10142</td> \n",
       "    </tr></tbody> \n",
       "</table> <style  type=\"text/css\" >\n",
       "</style>  \n",
       "<table id=\"T_ccf09638_5dda_11e9_a401_20cf301b91b3\" style='display:inline'><caption>Top 20 negative (spearman) correlations for al_scaleW14__Authoritarian</caption> \n",
       "<thead>    <tr> \n",
       "        <th class=\"blank level0\" ></th> \n",
       "        <th class=\"col_heading level0 col0\" >r</th> \n",
       "        <th class=\"col_heading level0 col1\" >p</th> \n",
       "        <th class=\"col_heading level0 col2\" >N</th> \n",
       "    </tr></thead> \n",
       "<tbody>    <tr> \n",
       "        <th id=\"T_ccf09638_5dda_11e9_a401_20cf301b91b3level0_row0\" class=\"row_heading level0 row0\" >immigSelfW12__Allow many more</th> \n",
       "        <td id=\"T_ccf09638_5dda_11e9_a401_20cf301b91b3row0_col0\" class=\"data row0 col0\" >-0.61</td> \n",
       "        <td id=\"T_ccf09638_5dda_11e9_a401_20cf301b91b3row0_col1\" class=\"data row0 col1\" >0.00</td> \n",
       "        <td id=\"T_ccf09638_5dda_11e9_a401_20cf301b91b3row0_col2\" class=\"data row0 col2\" >2923</td> \n",
       "    </tr>    <tr> \n",
       "        <th id=\"T_ccf09638_5dda_11e9_a401_20cf301b91b3level0_row1\" class=\"row_heading level0 row1\" >asylumMoreW13__Many more</th> \n",
       "        <td id=\"T_ccf09638_5dda_11e9_a401_20cf301b91b3row1_col0\" class=\"data row1 col0\" >-0.57</td> \n",
       "        <td id=\"T_ccf09638_5dda_11e9_a401_20cf301b91b3row1_col1\" class=\"data row1 col1\" >0.00</td> \n",
       "        <td id=\"T_ccf09638_5dda_11e9_a401_20cf301b91b3row1_col2\" class=\"data row1 col2\" >16995</td> \n",
       "    </tr>    <tr> \n",
       "        <th id=\"T_ccf09638_5dda_11e9_a401_20cf301b91b3level0_row2\" class=\"row_heading level0 row2\" >immigEconW3__Good for economy</th> \n",
       "        <td id=\"T_ccf09638_5dda_11e9_a401_20cf301b91b3row2_col0\" class=\"data row2 col0\" >-0.56</td> \n",
       "        <td id=\"T_ccf09638_5dda_11e9_a401_20cf301b91b3row2_col1\" class=\"data row2 col1\" >0.00</td> \n",
       "        <td id=\"T_ccf09638_5dda_11e9_a401_20cf301b91b3row2_col2\" class=\"data row2 col2\" >10181</td> \n",
       "    </tr>    <tr> \n",
       "        <th id=\"T_ccf09638_5dda_11e9_a401_20cf301b91b3level0_row3\" class=\"row_heading level0 row3\" >immigCulturalW13__Enriches cultural life</th> \n",
       "        <td id=\"T_ccf09638_5dda_11e9_a401_20cf301b91b3row3_col0\" class=\"data row3 col0\" >-0.54</td> \n",
       "        <td id=\"T_ccf09638_5dda_11e9_a401_20cf301b91b3row3_col1\" class=\"data row3 col1\" >0.00</td> \n",
       "        <td id=\"T_ccf09638_5dda_11e9_a401_20cf301b91b3row3_col2\" class=\"data row3 col2\" >17373</td> \n",
       "    </tr>    <tr> \n",
       "        <th id=\"T_ccf09638_5dda_11e9_a401_20cf301b91b3level0_row4\" class=\"row_heading level0 row4\" >warmSyriansW11__Very warm</th> \n",
       "        <td id=\"T_ccf09638_5dda_11e9_a401_20cf301b91b3row4_col0\" class=\"data row4 col0\" >-0.52</td> \n",
       "        <td id=\"T_ccf09638_5dda_11e9_a401_20cf301b91b3row4_col1\" class=\"data row4 col1\" >0.00</td> \n",
       "        <td id=\"T_ccf09638_5dda_11e9_a401_20cf301b91b3row4_col2\" class=\"data row4 col2\" >3909</td> \n",
       "    </tr>    <tr> \n",
       "        <th id=\"T_ccf09638_5dda_11e9_a401_20cf301b91b3level0_row5\" class=\"row_heading level0 row5\" >natSecuritySelfW13__Protect civil liberties</th> \n",
       "        <td id=\"T_ccf09638_5dda_11e9_a401_20cf301b91b3row5_col0\" class=\"data row5 col0\" >-0.51</td> \n",
       "        <td id=\"T_ccf09638_5dda_11e9_a401_20cf301b91b3row5_col1\" class=\"data row5 col1\" >0.00</td> \n",
       "        <td id=\"T_ccf09638_5dda_11e9_a401_20cf301b91b3row5_col2\" class=\"data row5 col2\" >16496</td> \n",
       "    </tr>    <tr> \n",
       "        <th id=\"T_ccf09638_5dda_11e9_a401_20cf301b91b3level0_row6\" class=\"row_heading level0 row6\" >immigrationLevelW4__Increased a lot</th> \n",
       "        <td id=\"T_ccf09638_5dda_11e9_a401_20cf301b91b3row6_col0\" class=\"data row6 col0\" >-0.5</td> \n",
       "        <td id=\"T_ccf09638_5dda_11e9_a401_20cf301b91b3row6_col1\" class=\"data row6 col1\" >0.00</td> \n",
       "        <td id=\"T_ccf09638_5dda_11e9_a401_20cf301b91b3row6_col2\" class=\"data row6 col2\" >11730</td> \n",
       "    </tr>    <tr> \n",
       "        <th id=\"T_ccf09638_5dda_11e9_a401_20cf301b91b3level0_row7\" class=\"row_heading level0 row7\" >warmEasternW11__Very warm</th> \n",
       "        <td id=\"T_ccf09638_5dda_11e9_a401_20cf301b91b3row7_col0\" class=\"data row7 col0\" >-0.49</td> \n",
       "        <td id=\"T_ccf09638_5dda_11e9_a401_20cf301b91b3row7_col1\" class=\"data row7 col1\" >0.00</td> \n",
       "        <td id=\"T_ccf09638_5dda_11e9_a401_20cf301b91b3row7_col2\" class=\"data row7 col2\" >3977</td> \n",
       "    </tr>    <tr> \n",
       "        <th id=\"T_ccf09638_5dda_11e9_a401_20cf301b91b3level0_row8\" class=\"row_heading level0 row8\" >spendLeast2W3_Defence</th> \n",
       "        <td id=\"T_ccf09638_5dda_11e9_a401_20cf301b91b3row8_col0\" class=\"data row8 col0\" >-0.48</td> \n",
       "        <td id=\"T_ccf09638_5dda_11e9_a401_20cf301b91b3row8_col1\" class=\"data row8 col1\" >0.00</td> \n",
       "        <td id=\"T_ccf09638_5dda_11e9_a401_20cf301b91b3row8_col2\" class=\"data row8 col2\" >1669</td> \n",
       "    </tr>    <tr> \n",
       "        <th id=\"T_ccf09638_5dda_11e9_a401_20cf301b91b3level0_row9\" class=\"row_heading level0 row9\" >echrW8__Strongly agree</th> \n",
       "        <td id=\"T_ccf09638_5dda_11e9_a401_20cf301b91b3row9_col0\" class=\"data row9 col0\" >-0.48</td> \n",
       "        <td id=\"T_ccf09638_5dda_11e9_a401_20cf301b91b3row9_col1\" class=\"data row9 col1\" >0.00</td> \n",
       "        <td id=\"T_ccf09638_5dda_11e9_a401_20cf301b91b3row9_col2\" class=\"data row9 col2\" >15036</td> \n",
       "    </tr>    <tr> \n",
       "        <th id=\"T_ccf09638_5dda_11e9_a401_20cf301b91b3level0_row10\" class=\"row_heading level0 row10\" >euFinancialHelpW2__Strongly agree</th> \n",
       "        <td id=\"T_ccf09638_5dda_11e9_a401_20cf301b91b3row10_col0\" class=\"data row10 col0\" >-0.47</td> \n",
       "        <td id=\"T_ccf09638_5dda_11e9_a401_20cf301b91b3row10_col1\" class=\"data row10 col1\" >0.00</td> \n",
       "        <td id=\"T_ccf09638_5dda_11e9_a401_20cf301b91b3row10_col2\" class=\"data row10 col2\" >10100</td> \n",
       "    </tr>    <tr> \n",
       "        <th id=\"T_ccf09638_5dda_11e9_a401_20cf301b91b3level0_row11\" class=\"row_heading level0 row11\" >euLawsLevelW8__Strongly agree</th> \n",
       "        <td id=\"T_ccf09638_5dda_11e9_a401_20cf301b91b3row11_col0\" class=\"data row11 col0\" >-0.47</td> \n",
       "        <td id=\"T_ccf09638_5dda_11e9_a401_20cf301b91b3row11_col1\" class=\"data row11 col1\" >0.00</td> \n",
       "        <td id=\"T_ccf09638_5dda_11e9_a401_20cf301b91b3row11_col2\" class=\"data row11 col2\" >15006</td> \n",
       "    </tr>    <tr> \n",
       "        <th id=\"T_ccf09638_5dda_11e9_a401_20cf301b91b3level0_row12\" class=\"row_heading level0 row12\" >eesEUIntegrationSelfW3__Unification should be[...]</th> \n",
       "        <td id=\"T_ccf09638_5dda_11e9_a401_20cf301b91b3row12_col0\" class=\"data row12 col0\" >-0.47</td> \n",
       "        <td id=\"T_ccf09638_5dda_11e9_a401_20cf301b91b3row12_col1\" class=\"data row12 col1\" >0.00</td> \n",
       "        <td id=\"T_ccf09638_5dda_11e9_a401_20cf301b91b3row12_col2\" class=\"data row12 col2\" >4491</td> \n",
       "    </tr>    <tr> \n",
       "        <th id=\"T_ccf09638_5dda_11e9_a401_20cf301b91b3level0_row13\" class=\"row_heading level0 row13\" >euScepticismW7__Work towards single European[...]</th> \n",
       "        <td id=\"T_ccf09638_5dda_11e9_a401_20cf301b91b3row13_col0\" class=\"data row13 col0\" >-0.46</td> \n",
       "        <td id=\"T_ccf09638_5dda_11e9_a401_20cf301b91b3row13_col1\" class=\"data row13 col1\" >0.00</td> \n",
       "        <td id=\"T_ccf09638_5dda_11e9_a401_20cf301b91b3row13_col2\" class=\"data row13 col2\" >3173</td> \n",
       "    </tr>    <tr> \n",
       "        <th id=\"T_ccf09638_5dda_11e9_a401_20cf301b91b3level0_row14\" class=\"row_heading level0 row14\" >euUKRichW8__Strongly agree</th> \n",
       "        <td id=\"T_ccf09638_5dda_11e9_a401_20cf301b91b3row14_col0\" class=\"data row14 col0\" >-0.46</td> \n",
       "        <td id=\"T_ccf09638_5dda_11e9_a401_20cf301b91b3row14_col1\" class=\"data row14 col1\" >0.00</td> \n",
       "        <td id=\"T_ccf09638_5dda_11e9_a401_20cf301b91b3row14_col2\" class=\"data row14 col2\" >14675</td> \n",
       "    </tr>    <tr> \n",
       "        <th id=\"T_ccf09638_5dda_11e9_a401_20cf301b91b3level0_row15\" class=\"row_heading level0 row15\" >familiesMoreW8__Many more</th> \n",
       "        <td id=\"T_ccf09638_5dda_11e9_a401_20cf301b91b3row15_col0\" class=\"data row15 col0\" >-0.46</td> \n",
       "        <td id=\"T_ccf09638_5dda_11e9_a401_20cf301b91b3row15_col1\" class=\"data row15 col1\" >0.00</td> \n",
       "        <td id=\"T_ccf09638_5dda_11e9_a401_20cf301b91b3row15_col2\" class=\"data row15 col2\" >14923</td> \n",
       "    </tr>    <tr> \n",
       "        <th id=\"T_ccf09638_5dda_11e9_a401_20cf301b91b3level0_row16\" class=\"row_heading level0 row16\" >euMoreW8__Many more</th> \n",
       "        <td id=\"T_ccf09638_5dda_11e9_a401_20cf301b91b3row16_col0\" class=\"data row16 col0\" >-0.45</td> \n",
       "        <td id=\"T_ccf09638_5dda_11e9_a401_20cf301b91b3row16_col1\" class=\"data row16 col1\" >0.00</td> \n",
       "        <td id=\"T_ccf09638_5dda_11e9_a401_20cf301b91b3row16_col2\" class=\"data row16 col2\" >15010</td> \n",
       "    </tr>    <tr> \n",
       "        <th id=\"T_ccf09638_5dda_11e9_a401_20cf301b91b3level0_row17\" class=\"row_heading level0 row17\" >europeannessW9__Very strongly European</th> \n",
       "        <td id=\"T_ccf09638_5dda_11e9_a401_20cf301b91b3row17_col0\" class=\"data row17 col0\" >-0.45</td> \n",
       "        <td id=\"T_ccf09638_5dda_11e9_a401_20cf301b91b3row17_col1\" class=\"data row17 col1\" >0.00</td> \n",
       "        <td id=\"T_ccf09638_5dda_11e9_a401_20cf301b91b3row17_col2\" class=\"data row17 col2\" >14952</td> \n",
       "    </tr>    <tr> \n",
       "        <th id=\"T_ccf09638_5dda_11e9_a401_20cf301b91b3level0_row18\" class=\"row_heading level0 row18\" >redistUKIPW7__Government should be less concerned[...]</th> \n",
       "        <td id=\"T_ccf09638_5dda_11e9_a401_20cf301b91b3row18_col0\" class=\"data row18 col0\" >-0.44</td> \n",
       "        <td id=\"T_ccf09638_5dda_11e9_a401_20cf301b91b3row18_col1\" class=\"data row18 col1\" >0.00</td> \n",
       "        <td id=\"T_ccf09638_5dda_11e9_a401_20cf301b91b3row18_col2\" class=\"data row18 col2\" >9114</td> \n",
       "    </tr>    <tr> \n",
       "        <th id=\"T_ccf09638_5dda_11e9_a401_20cf301b91b3level0_row19\" class=\"row_heading level0 row19\" >preferMPEthnicW6__A lot more</th> \n",
       "        <td id=\"T_ccf09638_5dda_11e9_a401_20cf301b91b3row19_col0\" class=\"data row19 col0\" >-0.44</td> \n",
       "        <td id=\"T_ccf09638_5dda_11e9_a401_20cf301b91b3row19_col1\" class=\"data row19 col1\" >0.00</td> \n",
       "        <td id=\"T_ccf09638_5dda_11e9_a401_20cf301b91b3row19_col2\" class=\"data row19 col2\" >2709</td> \n",
       "    </tr></tbody> \n",
       "</table> "
      ]
     },
     "metadata": {},
     "output_type": "display_data"
    }
   ],
   "source": [
    "# BES_reduced_with_na[\"ever_voted_BNP\"] = ever_voted_BNP\n",
    "pattern = \"al_scaleW14__Authoritarian\"\n",
    "name = \"al_scaleW14__Authoritarian\"\n",
    "corr_type = \"spearman\"\n",
    "df,corr_type = make_corr_summary(BES_reduced_with_na, name, corr_type, pattern=pattern)\n",
    "display_corr(df, name, corr_type, text_wrap_length=50)"
   ]
  },
  {
   "cell_type": "code",
   "execution_count": null,
   "metadata": {},
   "outputs": [],
   "source": []
  },
  {
   "cell_type": "code",
   "execution_count": null,
   "metadata": {},
   "outputs": [],
   "source": [
    "### 2005 Labour, thereafter not\n",
    "\n",
    "\n"
   ]
  },
  {
   "cell_type": "code",
   "execution_count": 141,
   "metadata": {},
   "outputs": [
    {
     "data": {
      "text/plain": [
       "profile_past_vote_2010    63248\n",
       "profile_past_vote_2017    37245\n",
       "profile_past_vote_2015    57064\n",
       "dtype: int64"
      ]
     },
     "execution_count": 141,
     "metadata": {},
     "output_type": "execute_result"
    }
   ],
   "source": []
  },
  {
   "cell_type": "code",
   "execution_count": 6,
   "metadata": {},
   "outputs": [],
   "source": [
    "Labour2005 = BES_Panel[\"profile_past_vote_2005\"]==\"Labour Party\"\n",
    "\n",
    "\n",
    "NotLabourSince2005 = BES_Panel[search(BES_Panel, \"profile_past_vote_201\").index].applymap(lambda x: x not in [\"Labour\",\"Labour Party\"]).all(axis=1)"
   ]
  },
  {
   "cell_type": "code",
   "execution_count": 18,
   "metadata": {},
   "outputs": [],
   "source": [
    "LD2005 = BES_Panel[\"profile_past_vote_2005\"] ==\"Liberal Democrats\""
   ]
  },
  {
   "cell_type": "code",
   "execution_count": 21,
   "metadata": {},
   "outputs": [],
   "source": [
    "GRN2005 = BES_Panel[\"profile_past_vote_2005\"] == \"Green Party\""
   ]
  },
  {
   "cell_type": "code",
   "execution_count": 7,
   "metadata": {},
   "outputs": [
    {
     "data": {
      "text/plain": [
       "(15463, 45638)"
      ]
     },
     "execution_count": 7,
     "metadata": {},
     "output_type": "execute_result"
    }
   ],
   "source": [
    "Labour2005.sum(), NotLabourSince2005.sum()"
   ]
  },
  {
   "cell_type": "code",
   "execution_count": 8,
   "metadata": {},
   "outputs": [
    {
     "data": {
      "text/plain": [
       "3391"
      ]
     },
     "execution_count": 8,
     "metadata": {},
     "output_type": "execute_result"
    }
   ],
   "source": [
    "(Labour2005&NotLabourSince2005).sum()"
   ]
  },
  {
   "cell_type": "code",
   "execution_count": 9,
   "metadata": {},
   "outputs": [
    {
     "name": "stdout",
     "output_type": "stream",
     "text": [
      "Amalgamating variables: \n",
      "{1: 'ptvLabW1', 2: 'ptvLabW2', 3: 'ptvLabW3', 4: 'ptvLabW4', 5: 'ptvLabW5', 6: 'ptvLabW6', 7: 'ptvLabW7', 8: 'ptvLabW8', 9: 'ptvLabW9', 10: 'ptvLabW10', 11: 'ptvLabW11', 12: 'ptvLabW12', 13: 'ptvLabW13', 14: 'ptvLabExpW14'}\n",
      "Amalgamating variables: \n",
      "{1: 'likeLabW1', 2: 'likeLabW2', 3: 'likeLabW3', 4: 'likeLabW4', 5: 'likeLabW5', 6: 'likeLabW6', 7: 'likeLabW7', 8: 'likeLabW8', 9: 'likeLabW9', 10: 'likeLabW10', 11: 'likeLabW11', 12: 'likeLabW12', 13: 'likeLabW13', 14: 'likeLabW14'}\n"
     ]
    }
   ],
   "source": [
    "ptvLab = amalgamate_waves(BES_Panel,\"ptvLab\")\n",
    "likeLab = amalgamate_waves(BES_Panel,\"likeLab\")"
   ]
  },
  {
   "cell_type": "code",
   "execution_count": null,
   "metadata": {},
   "outputs": [
    {
     "ename": "KeyboardInterrupt",
     "evalue": "",
     "output_type": "error",
     "traceback": [
      "\u001b[1;31m---------------------------------------------------------------------------\u001b[0m",
      "\u001b[1;31mKeyboardInterrupt\u001b[0m                         Traceback (most recent call last)",
      "\u001b[1;32m<ipython-input-153-8787e2a4a914>\u001b[0m in \u001b[0;36m<module>\u001b[1;34m\u001b[0m\n\u001b[1;32m----> 1\u001b[1;33m \u001b[0mptvLab\u001b[0m\u001b[1;33m[\u001b[0m\u001b[0mLabour2005\u001b[0m\u001b[1;33m&\u001b[0m\u001b[0mNotLabourSince2005\u001b[0m\u001b[1;33m]\u001b[0m\u001b[1;33m.\u001b[0m\u001b[0mhist\u001b[0m\u001b[1;33m(\u001b[0m\u001b[1;33m)\u001b[0m\u001b[1;33m\u001b[0m\u001b[0m\n\u001b[0m",
      "\u001b[1;32mC:\\ProgramData\\Anaconda3\\envs\\BES_analysis\\lib\\site-packages\\pandas\\plotting\\_core.py\u001b[0m in \u001b[0;36mhist_series\u001b[1;34m(self, by, ax, grid, xlabelsize, xrot, ylabelsize, yrot, figsize, bins, **kwds)\u001b[0m\n\u001b[0;32m   2479\u001b[0m         \u001b[0mvalues\u001b[0m \u001b[1;33m=\u001b[0m \u001b[0mself\u001b[0m\u001b[1;33m.\u001b[0m\u001b[0mdropna\u001b[0m\u001b[1;33m(\u001b[0m\u001b[1;33m)\u001b[0m\u001b[1;33m.\u001b[0m\u001b[0mvalues\u001b[0m\u001b[1;33m\u001b[0m\u001b[0m\n\u001b[0;32m   2480\u001b[0m \u001b[1;33m\u001b[0m\u001b[0m\n\u001b[1;32m-> 2481\u001b[1;33m         \u001b[0max\u001b[0m\u001b[1;33m.\u001b[0m\u001b[0mhist\u001b[0m\u001b[1;33m(\u001b[0m\u001b[0mvalues\u001b[0m\u001b[1;33m,\u001b[0m \u001b[0mbins\u001b[0m\u001b[1;33m=\u001b[0m\u001b[0mbins\u001b[0m\u001b[1;33m,\u001b[0m \u001b[1;33m**\u001b[0m\u001b[0mkwds\u001b[0m\u001b[1;33m)\u001b[0m\u001b[1;33m\u001b[0m\u001b[0m\n\u001b[0m\u001b[0;32m   2482\u001b[0m         \u001b[0max\u001b[0m\u001b[1;33m.\u001b[0m\u001b[0mgrid\u001b[0m\u001b[1;33m(\u001b[0m\u001b[0mgrid\u001b[0m\u001b[1;33m)\u001b[0m\u001b[1;33m\u001b[0m\u001b[0m\n\u001b[0;32m   2483\u001b[0m         \u001b[0maxes\u001b[0m \u001b[1;33m=\u001b[0m \u001b[0mnp\u001b[0m\u001b[1;33m.\u001b[0m\u001b[0marray\u001b[0m\u001b[1;33m(\u001b[0m\u001b[1;33m[\u001b[0m\u001b[0max\u001b[0m\u001b[1;33m]\u001b[0m\u001b[1;33m)\u001b[0m\u001b[1;33m\u001b[0m\u001b[0m\n",
      "\u001b[1;32mC:\\ProgramData\\Anaconda3\\envs\\BES_analysis\\lib\\site-packages\\matplotlib\\__init__.py\u001b[0m in \u001b[0;36minner\u001b[1;34m(ax, data, *args, **kwargs)\u001b[0m\n\u001b[0;32m   1808\u001b[0m                         \u001b[1;34m\"the Matplotlib list!)\"\u001b[0m \u001b[1;33m%\u001b[0m \u001b[1;33m(\u001b[0m\u001b[0mlabel_namer\u001b[0m\u001b[1;33m,\u001b[0m \u001b[0mfunc\u001b[0m\u001b[1;33m.\u001b[0m\u001b[0m__name__\u001b[0m\u001b[1;33m)\u001b[0m\u001b[1;33m,\u001b[0m\u001b[1;33m\u001b[0m\u001b[0m\n\u001b[0;32m   1809\u001b[0m                         RuntimeWarning, stacklevel=2)\n\u001b[1;32m-> 1810\u001b[1;33m             \u001b[1;32mreturn\u001b[0m \u001b[0mfunc\u001b[0m\u001b[1;33m(\u001b[0m\u001b[0max\u001b[0m\u001b[1;33m,\u001b[0m \u001b[1;33m*\u001b[0m\u001b[0margs\u001b[0m\u001b[1;33m,\u001b[0m \u001b[1;33m**\u001b[0m\u001b[0mkwargs\u001b[0m\u001b[1;33m)\u001b[0m\u001b[1;33m\u001b[0m\u001b[0m\n\u001b[0m\u001b[0;32m   1811\u001b[0m \u001b[1;33m\u001b[0m\u001b[0m\n\u001b[0;32m   1812\u001b[0m         inner.__doc__ = _add_data_doc(inner.__doc__,\n",
      "\u001b[1;32mC:\\ProgramData\\Anaconda3\\envs\\BES_analysis\\lib\\site-packages\\matplotlib\\axes\\_axes.py\u001b[0m in \u001b[0;36mhist\u001b[1;34m(self, x, bins, range, density, weights, cumulative, bottom, histtype, align, orientation, rwidth, log, color, label, stacked, normed, **kwargs)\u001b[0m\n\u001b[0;32m   6665\u001b[0m                 patch = _barfunc(bins[:-1]+boffset, height, width,\n\u001b[0;32m   6666\u001b[0m                                  \u001b[0malign\u001b[0m\u001b[1;33m=\u001b[0m\u001b[1;34m'center'\u001b[0m\u001b[1;33m,\u001b[0m \u001b[0mlog\u001b[0m\u001b[1;33m=\u001b[0m\u001b[0mlog\u001b[0m\u001b[1;33m,\u001b[0m\u001b[1;33m\u001b[0m\u001b[0m\n\u001b[1;32m-> 6667\u001b[1;33m                                  color=c, **{bottom_kwarg: bottom})\n\u001b[0m\u001b[0;32m   6668\u001b[0m                 \u001b[0mpatches\u001b[0m\u001b[1;33m.\u001b[0m\u001b[0mappend\u001b[0m\u001b[1;33m(\u001b[0m\u001b[0mpatch\u001b[0m\u001b[1;33m)\u001b[0m\u001b[1;33m\u001b[0m\u001b[0m\n\u001b[0;32m   6669\u001b[0m                 \u001b[1;32mif\u001b[0m \u001b[0mstacked\u001b[0m\u001b[1;33m:\u001b[0m\u001b[1;33m\u001b[0m\u001b[0m\n",
      "\u001b[1;32mC:\\ProgramData\\Anaconda3\\envs\\BES_analysis\\lib\\site-packages\\matplotlib\\__init__.py\u001b[0m in \u001b[0;36minner\u001b[1;34m(ax, data, *args, **kwargs)\u001b[0m\n\u001b[0;32m   1808\u001b[0m                         \u001b[1;34m\"the Matplotlib list!)\"\u001b[0m \u001b[1;33m%\u001b[0m \u001b[1;33m(\u001b[0m\u001b[0mlabel_namer\u001b[0m\u001b[1;33m,\u001b[0m \u001b[0mfunc\u001b[0m\u001b[1;33m.\u001b[0m\u001b[0m__name__\u001b[0m\u001b[1;33m)\u001b[0m\u001b[1;33m,\u001b[0m\u001b[1;33m\u001b[0m\u001b[0m\n\u001b[0;32m   1809\u001b[0m                         RuntimeWarning, stacklevel=2)\n\u001b[1;32m-> 1810\u001b[1;33m             \u001b[1;32mreturn\u001b[0m \u001b[0mfunc\u001b[0m\u001b[1;33m(\u001b[0m\u001b[0max\u001b[0m\u001b[1;33m,\u001b[0m \u001b[1;33m*\u001b[0m\u001b[0margs\u001b[0m\u001b[1;33m,\u001b[0m \u001b[1;33m**\u001b[0m\u001b[0mkwargs\u001b[0m\u001b[1;33m)\u001b[0m\u001b[1;33m\u001b[0m\u001b[0m\n\u001b[0m\u001b[0;32m   1811\u001b[0m \u001b[1;33m\u001b[0m\u001b[0m\n\u001b[0;32m   1812\u001b[0m         inner.__doc__ = _add_data_doc(inner.__doc__,\n",
      "\u001b[1;32mC:\\ProgramData\\Anaconda3\\envs\\BES_analysis\\lib\\site-packages\\matplotlib\\axes\\_axes.py\u001b[0m in \u001b[0;36mbar\u001b[1;34m(self, x, height, width, bottom, align, **kwargs)\u001b[0m\n\u001b[0;32m   2339\u001b[0m             \u001b[0mymin\u001b[0m \u001b[1;33m=\u001b[0m \u001b[0mmax\u001b[0m\u001b[1;33m(\u001b[0m\u001b[0mymin\u001b[0m \u001b[1;33m*\u001b[0m \u001b[1;36m0.9\u001b[0m\u001b[1;33m,\u001b[0m \u001b[1;36m1e-100\u001b[0m\u001b[1;33m)\u001b[0m\u001b[1;33m\u001b[0m\u001b[0m\n\u001b[0;32m   2340\u001b[0m             \u001b[0mself\u001b[0m\u001b[1;33m.\u001b[0m\u001b[0mdataLim\u001b[0m\u001b[1;33m.\u001b[0m\u001b[0mintervaly\u001b[0m \u001b[1;33m=\u001b[0m \u001b[1;33m(\u001b[0m\u001b[0mymin\u001b[0m\u001b[1;33m,\u001b[0m \u001b[0mymax\u001b[0m\u001b[1;33m)\u001b[0m\u001b[1;33m\u001b[0m\u001b[0m\n\u001b[1;32m-> 2341\u001b[1;33m         \u001b[0mself\u001b[0m\u001b[1;33m.\u001b[0m\u001b[0mautoscale_view\u001b[0m\u001b[1;33m(\u001b[0m\u001b[1;33m)\u001b[0m\u001b[1;33m\u001b[0m\u001b[0m\n\u001b[0m\u001b[0;32m   2342\u001b[0m \u001b[1;33m\u001b[0m\u001b[0m\n\u001b[0;32m   2343\u001b[0m         \u001b[0mbar_container\u001b[0m \u001b[1;33m=\u001b[0m \u001b[0mBarContainer\u001b[0m\u001b[1;33m(\u001b[0m\u001b[0mpatches\u001b[0m\u001b[1;33m,\u001b[0m \u001b[0merrorbar\u001b[0m\u001b[1;33m,\u001b[0m \u001b[0mlabel\u001b[0m\u001b[1;33m=\u001b[0m\u001b[0mlabel\u001b[0m\u001b[1;33m)\u001b[0m\u001b[1;33m\u001b[0m\u001b[0m\n",
      "\u001b[1;32mC:\\ProgramData\\Anaconda3\\envs\\BES_analysis\\lib\\site-packages\\matplotlib\\axes\\_base.py\u001b[0m in \u001b[0;36mautoscale_view\u001b[1;34m(self, tight, scalex, scaley)\u001b[0m\n\u001b[0;32m   2427\u001b[0m             \u001b[0mx_stickies\u001b[0m \u001b[1;33m=\u001b[0m \u001b[0msum\u001b[0m\u001b[1;33m(\u001b[0m\u001b[1;33m[\u001b[0m\u001b[0msticky\u001b[0m\u001b[1;33m.\u001b[0m\u001b[0mx\u001b[0m \u001b[1;32mfor\u001b[0m \u001b[0msticky\u001b[0m \u001b[1;32min\u001b[0m \u001b[0mstickies\u001b[0m\u001b[1;33m]\u001b[0m\u001b[1;33m,\u001b[0m \u001b[1;33m[\u001b[0m\u001b[1;33m]\u001b[0m\u001b[1;33m)\u001b[0m\u001b[1;33m\u001b[0m\u001b[0m\n\u001b[0;32m   2428\u001b[0m             \u001b[0my_stickies\u001b[0m \u001b[1;33m=\u001b[0m \u001b[0msum\u001b[0m\u001b[1;33m(\u001b[0m\u001b[1;33m[\u001b[0m\u001b[0msticky\u001b[0m\u001b[1;33m.\u001b[0m\u001b[0my\u001b[0m \u001b[1;32mfor\u001b[0m \u001b[0msticky\u001b[0m \u001b[1;32min\u001b[0m \u001b[0mstickies\u001b[0m\u001b[1;33m]\u001b[0m\u001b[1;33m,\u001b[0m \u001b[1;33m[\u001b[0m\u001b[1;33m]\u001b[0m\u001b[1;33m)\u001b[0m\u001b[1;33m\u001b[0m\u001b[0m\n\u001b[1;32m-> 2429\u001b[1;33m             \u001b[1;32mif\u001b[0m \u001b[0mself\u001b[0m\u001b[1;33m.\u001b[0m\u001b[0mget_xscale\u001b[0m\u001b[1;33m(\u001b[0m\u001b[1;33m)\u001b[0m\u001b[1;33m.\u001b[0m\u001b[0mlower\u001b[0m\u001b[1;33m(\u001b[0m\u001b[1;33m)\u001b[0m \u001b[1;33m==\u001b[0m \u001b[1;34m'log'\u001b[0m\u001b[1;33m:\u001b[0m\u001b[1;33m\u001b[0m\u001b[0m\n\u001b[0m\u001b[0;32m   2430\u001b[0m                 \u001b[0mx_stickies\u001b[0m \u001b[1;33m=\u001b[0m \u001b[1;33m[\u001b[0m\u001b[0mxs\u001b[0m \u001b[1;32mfor\u001b[0m \u001b[0mxs\u001b[0m \u001b[1;32min\u001b[0m \u001b[0mx_stickies\u001b[0m \u001b[1;32mif\u001b[0m \u001b[0mxs\u001b[0m \u001b[1;33m>\u001b[0m \u001b[1;36m0\u001b[0m\u001b[1;33m]\u001b[0m\u001b[1;33m\u001b[0m\u001b[0m\n\u001b[0;32m   2431\u001b[0m             \u001b[1;32mif\u001b[0m \u001b[0mself\u001b[0m\u001b[1;33m.\u001b[0m\u001b[0mget_yscale\u001b[0m\u001b[1;33m(\u001b[0m\u001b[1;33m)\u001b[0m\u001b[1;33m.\u001b[0m\u001b[0mlower\u001b[0m\u001b[1;33m(\u001b[0m\u001b[1;33m)\u001b[0m \u001b[1;33m==\u001b[0m \u001b[1;34m'log'\u001b[0m\u001b[1;33m:\u001b[0m\u001b[1;33m\u001b[0m\u001b[0m\n",
      "\u001b[1;31mKeyboardInterrupt\u001b[0m: "
     ]
    }
   ],
   "source": [
    "ptvLab[Labour2005&NotLabourSince2005].hist()"
   ]
  },
  {
   "cell_type": "code",
   "execution_count": null,
   "metadata": {},
   "outputs": [],
   "source": [
    "likeLab[Labour2005&NotLabourSince2005].hist()"
   ]
  },
  {
   "cell_type": "code",
   "execution_count": null,
   "metadata": {},
   "outputs": [],
   "source": []
  },
  {
   "cell_type": "code",
   "execution_count": 13,
   "metadata": {},
   "outputs": [
    {
     "data": {
      "text/plain": [
       "<matplotlib.axes._subplots.AxesSubplot at 0xb253828>"
      ]
     },
     "execution_count": 13,
     "metadata": {},
     "output_type": "execute_result"
    },
    {
     "data": {
      "image/png": "[encoded data removed]",
      "text/plain": [
       "<Figure size 432x288 with 1 Axes>"
      ]
     },
     "metadata": {
      "needs_background": "light"
     },
     "output_type": "display_data"
    }
   ],
   "source": [
    "ptvLab.cat.codes.replace(-1,np.nan).replace(11,np.nan).hist(bins=11);"
   ]
  },
  {
   "cell_type": "code",
   "execution_count": 14,
   "metadata": {},
   "outputs": [
    {
     "data": {
      "image/png": "[encoded data removed]",
      "text/plain": [
       "<Figure size 432x288 with 1 Axes>"
      ]
     },
     "metadata": {
      "needs_background": "light"
     },
     "output_type": "display_data"
    }
   ],
   "source": [
    "ptvLab[Labour2005].cat.codes.replace(-1,np.nan).replace(11,np.nan).hist(bins=11);"
   ]
  },
  {
   "cell_type": "code",
   "execution_count": 15,
   "metadata": {},
   "outputs": [
    {
     "data": {
      "image/png": "[encoded data removed]",
      "text/plain": [
       "<Figure size 432x288 with 1 Axes>"
      ]
     },
     "metadata": {
      "needs_background": "light"
     },
     "output_type": "display_data"
    }
   ],
   "source": [
    "ptvLab[NotLabourSince2005].cat.codes.replace(-1,np.nan).replace(11,np.nan).hist(bins=11);"
   ]
  },
  {
   "cell_type": "code",
   "execution_count": 16,
   "metadata": {},
   "outputs": [
    {
     "data": {
      "image/png": "[encoded data removed]",
      "text/plain": [
       "<Figure size 432x288 with 1 Axes>"
      ]
     },
     "metadata": {
      "needs_background": "light"
     },
     "output_type": "display_data"
    }
   ],
   "source": [
    "ptvLab[Labour2005&NotLabourSince2005].cat.codes.replace(-1,np.nan).replace(11,np.nan).hist(bins=11);"
   ]
  },
  {
   "cell_type": "code",
   "execution_count": 19,
   "metadata": {},
   "outputs": [
    {
     "data": {
      "image/png": "[encoded data removed]",
      "text/plain": [
       "<Figure size 432x288 with 1 Axes>"
      ]
     },
     "metadata": {
      "needs_background": "light"
     },
     "output_type": "display_data"
    }
   ],
   "source": [
    "ptvLab[LD2005&NotLabourSince2005].cat.codes.replace(-1,np.nan).replace(11,np.nan).hist(bins=11);"
   ]
  },
  {
   "cell_type": "code",
   "execution_count": 22,
   "metadata": {},
   "outputs": [
    {
     "data": {
      "image/png": "[encoded data removed]",
      "text/plain": [
       "<Figure size 432x288 with 1 Axes>"
      ]
     },
     "metadata": {
      "needs_background": "light"
     },
     "output_type": "display_data"
    }
   ],
   "source": [
    "ptvLab[GRN2005&NotLabourSince2005].cat.codes.replace(-1,np.nan).replace(11,np.nan).hist(bins=11);"
   ]
  },
  {
   "cell_type": "code",
   "execution_count": 26,
   "metadata": {},
   "outputs": [
    {
     "data": {
      "text/plain": [
       "<matplotlib.axes._subplots.AxesSubplot at 0x1bd2f198>"
      ]
     },
     "execution_count": 26,
     "metadata": {},
     "output_type": "execute_result"
    },
    {
     "data": {
      "image/png": "[encoded data removed]",
      "text/plain": [
       "<Figure size 432x288 with 1 Axes>"
      ]
     },
     "metadata": {
      "needs_background": "light"
     },
     "output_type": "display_data"
    }
   ],
   "source": [
    "sns.kdeplot(ptvLab[Labour2005&NotLabourSince2005].cat.codes.replace(-1,np.nan).replace(11,np.nan), cut=0, bw=.25)"
   ]
  },
  {
   "cell_type": "code",
   "execution_count": null,
   "metadata": {},
   "outputs": [],
   "source": []
  }
 ],
 "metadata": {
  "kernelspec": {
   "display_name": "Python 3",
   "language": "python",
   "name": "python3"
  },
  "language_info": {
   "codemirror_mode": {
    "name": "ipython",
    "version": 3
   },
   "file_extension": ".py",
   "mimetype": "text/x-python",
   "name": "python",
   "nbconvert_exporter": "python",
   "pygments_lexer": "ipython3",
   "version": "3.6.6"
  }
 },
 "nbformat": 4,
 "nbformat_minor": 2
}
