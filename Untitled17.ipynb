{
 "cells": [
  {
   "cell_type": "code",
   "execution_count": 1,
   "metadata": {},
   "outputs": [
    {
     "data": {
      "text/html": [
       "<script>jQuery(function() {if (jQuery(\"body.notebook_app\").length == 0) { jQuery(\".input_area\").toggle(); jQuery(\".prompt\").toggle();}});</script>"
      ]
     },
     "metadata": {},
     "output_type": "display_data"
    },
    {
     "data": {
      "text/html": [
       "<button onclick=\"jQuery('.input_area').toggle(); jQuery('.prompt').toggle();\">Toggle code</button>"
      ]
     },
     "metadata": {},
     "output_type": "display_data"
    }
   ],
   "source": [
    "import IPython.core.display as di # Example: di.display_html('<h3>%s:</h3>' % str, raw=True)\n",
    "# This line will hide code by default when the notebook is exported as HTML\n",
    "di.display_html('<script>jQuery(function() {if (jQuery(\"body.notebook_app\").length == 0) { jQuery(\".input_area\").toggle(); jQuery(\".prompt\").toggle();}});</script>', raw=True)\n",
    "# This line will add a button to toggle visibility of code blocks, for use with the HTML export version\n",
    "di.display_html('''<button onclick=\"jQuery('.input_area').toggle(); jQuery('.prompt').toggle();\">Toggle code</button>''', raw=True)\n",
    "\n",
    "import numpy as np, pandas as pd, matplotlib.pyplot as plt, seaborn as sns\n",
    "import pickle, os, gc, re, sys\n",
    "\n",
    "sns.set();\n",
    "sns.set_palette(\"colorblind\")\n",
    "\n",
    "from IPython.display import display, display_html, HTML\n",
    "from IPython.core.debugger import set_trace\n",
    "# plt.rcParams[\"axes.grid\"] = False\n",
    "\n",
    "import Jupyter_module_loader\n",
    "# sys.path.insert(1, '/path/to/application/app/folder')\n",
    "from utility import *\n",
    "# import gaussian_kde\n",
    "\n",
    "# import warnings\n",
    "# warnings.filterwarnings('ignore')\n",
    "\n",
    "import holoviews as hv\n",
    "from holoviews import opts\n",
    "\n",
    "encoding = \"ISO-8859-1\"\n",
    "\n",
    "# you should clone this git to a subdirectory called 'BES_analysis_code' (in some directory - I call it BES_analysis - doesn't matter though)\n",
    "# %matplotlib inline\n",
    "\n"
   ]
  },
  {
   "cell_type": "code",
   "execution_count": 2,
   "metadata": {},
   "outputs": [],
   "source": [
    "dataset_folder = \"C:\\\\Users\\\\Marios\\\\Documents\\\\GitHub\\\\Thomas Prosser project\\\\datasets\\\\\"\n",
    "output_folder = \"C:\\\\Users\\\\Marios\\\\Documents\\\\GitHub\\\\Thomas Prosser project\\\\output\\\\\""
   ]
  },
  {
   "cell_type": "code",
   "execution_count": 3,
   "metadata": {},
   "outputs": [],
   "source": [
    "CSES_int = pd.read_stata(dataset_folder + \"CSES\"+os.sep+\"integrated 1-4\"+os.sep+\"cses_imd.dta\")"
   ]
  },
  {
   "cell_type": "code",
   "execution_count": 4,
   "metadata": {},
   "outputs": [
    {
     "data": {
      "text/plain": [
       "2. SECOND HOUSEHOLD INCOME QUINTILE     0.172113\n",
       "3. THIRD HOUSEHOLD INCOME QUINTILE      0.170377\n",
       "1. LOWEST HOUSEHOLD INCOME QUINTILE     0.159668\n",
       "4. FOURTH HOUSEHOLD INCOME QUINTILE     0.153442\n",
       "5. HIGHEST HOUSEHOLD INCOME QUINTILE    0.143132\n",
       "9. MISSING                              0.096256\n",
       "7. VOLUNTEERED: REFUSED                 0.056289\n",
       "8. VOLUNTEERED: DON'T KNOW              0.048455\n",
       "6. [SEE ELECTION STUDY NOTES]           0.000267\n",
       "Name: IMD2006, dtype: float64"
      ]
     },
     "execution_count": 4,
     "metadata": {},
     "output_type": "execute_result"
    }
   ],
   "source": [
    "CSES_int[\"IMD2006\"].value_counts()/CSES_int.shape[0]\n",
    "\n",
    "# 15% missing"
   ]
  },
  {
   "cell_type": "code",
   "execution_count": 9,
   "metadata": {},
   "outputs": [
    {
     "data": {
      "text/plain": [
       "281083"
      ]
     },
     "execution_count": 9,
     "metadata": {},
     "output_type": "execute_result"
    }
   ],
   "source": [
    "## look up the appropriate weights\n",
    "\n",
    "## look up party links\n",
    "\n",
    "## Build the income vs party pos chart!\n",
    "\n",
    "## Also, check out"
   ]
  },
  {
   "cell_type": "code",
   "execution_count": 32,
   "metadata": {},
   "outputs": [],
   "source": [
    "def try_to_strip_ques_no(x):\n",
    "    # format:\n",
    "#     \"97.00 NOT APPLICABLE\"\n",
    "#     \"\\d+\\.\\d+? ([A-Z].*$)\"\n",
    "    if not isinstance(x,str):\n",
    "        return x\n",
    "    match_exists = re.match(\"[0-9\\.]+ ([A-Z\\[].*$)\",x)\n",
    "    if match_exists:\n",
    "        return match_exists.groups()[0]\n",
    "    else:\n",
    "        return x"
   ]
  },
  {
   "cell_type": "code",
   "execution_count": 35,
   "metadata": {},
   "outputs": [
    {
     "data": {
      "text/plain": [
       "MISSING                                                        14687005\n",
       "NOT APPLICABLE                                                  3162242\n",
       "NOT APPLICABLE: UNICAMERAL SYSTEM                               2917715\n",
       "1.0                                                             2450637\n",
       "0.0                                                             2386651\n",
       "NOT APPLICABLE: NO UPPER HOUSE ELECTION                         2078388\n",
       "NOT APPLICABLE: NO ROLE OF PRESIDENT                            1645836\n",
       "NOT APPLICABLE: NO PRESIDENTIAL ELECTION                        1271085\n",
       "5                                                               1138066\n",
       "NOT APPLICABLE: NO SECOND ROUND                                  968848\n",
       "MISSING/ABSTAINED (DID NOT VOTE)                                 952702\n",
       "2                                                                939348\n",
       "3                                                                933840\n",
       "4                                                                910783\n",
       "NOT APPLICABLE: NO UPPER HOUSE ELECTION OR CANDIDATE VOTE        823814\n",
       "6                                                                765451\n",
       "7                                                                752218\n",
       "RESPONDENT CAST A BALLOT                                         726834\n",
       "8                                                                722532\n",
       "NO                                                               589106\n",
       "NOT APPLICABLE: NO LOWER HOUSE ELECTION                          576480\n",
       "Democratic                                                       509242\n",
       "9                                                                477388\n",
       "STRONGLY DISLIKE                                                 421082\n",
       "CORRECT                                                          396650\n",
       "SOCIAL DEMOCRATIC PARTIES                                        296979\n",
       "YES                                                              285493\n",
       "NOT APPLICABLE: NO UPPER HOUSE ELECTION OR LIST VOTE             281114\n",
       "VER2019-OCT-17                                                   281083\n",
       "CSES-IMD                                                         281083\n",
       "doi:10.7804/cses.imd.2019-10-17                                  281083\n",
       "VOLUNTEERED: DON'T KNOW                                          280333\n",
       "VOLUNTEERED: DON'T KNOW WHERE TO PLACE                           271385\n",
       "NOT APPLICABLE: NO PRESIDENTIAL ELECTION / NO SECOND ROUND       260142\n",
       "NOT APPLICABLE: NO PRESIDENTIAL ELECTIONS / NO SECOND ROUND      258237\n",
       "001. [SEE ELECTION STUDY NOTES]                                  254602\n",
       "NOT APPLICABLE: NO DISTRICT CANDIDATE VOTE                       251780\n",
       "PARTY LISTS                                                      236784\n",
       "POST-ELECTION STUDY                                              232554\n",
       "NOT IN CSES MODULE 1                                             218674\n",
       "NOT IN CSES MODULE 2                                             216827\n",
       "PARLIAMENTARY/LEGISLATIVE                                        216621\n",
       "CANDIDATES                                                       209323\n",
       "NOT IN CSES MODULE 4                                             205525\n",
       "CONSERVATIVE PARTIES                                             205028\n",
       "NOT APPLICABLE: NO PRESIDENTIAL ELECTIONS                        202273\n",
       "NOT IN CSES MODULE 3                                             200920\n",
       "FACE-TO-FACE                                                     197938\n",
       "OCTOBER                                                          192844\n",
       "INCORRECT                                                        187412\n",
       "dtype: int64"
      ]
     },
     "execution_count": 35,
     "metadata": {},
     "output_type": "execute_result"
    }
   ],
   "source": [
    "CSES_int.applymap(lambda x: try_to_strip_ques_no(x)).stack().value_counts().head(50)\n",
    "\n",
    "# MISSING\n",
    "# NOT APPLICABLE(: <explanation>)\n",
    "# MISSING/ABSTRAINED (DID NOT VOTE)\n",
    "# VOLUNTEERED: DON'T KNOW( WHERE TO PLACE)\n",
    "# [SEE ELECTION STUDY NOTES]"
   ]
  },
  {
   "cell_type": "code",
   "execution_count": 38,
   "metadata": {},
   "outputs": [
    {
     "ename": "TypeError",
     "evalue": "'Series' object is not callable",
     "output_type": "error",
     "traceback": [
      "\u001b[1;31m---------------------------------------------------------------------------\u001b[0m",
      "\u001b[1;31mTypeError\u001b[0m                                 Traceback (most recent call last)",
      "\u001b[1;32m<ipython-input-38-4873e25d5ada>\u001b[0m in \u001b[0;36m<module>\u001b[1;34m\u001b[0m\n\u001b[0;32m      1\u001b[0m \u001b[0mnum_unique\u001b[0m \u001b[1;33m=\u001b[0m \u001b[0mCSES_int\u001b[0m\u001b[1;33m.\u001b[0m\u001b[0mdescribe\u001b[0m\u001b[1;33m(\u001b[0m\u001b[0minclude\u001b[0m\u001b[1;33m=\u001b[0m\u001b[1;34m'all'\u001b[0m\u001b[1;33m)\u001b[0m\u001b[1;33m.\u001b[0m\u001b[0mloc\u001b[0m\u001b[1;33m[\u001b[0m\u001b[1;34m\"unique\"\u001b[0m\u001b[1;33m]\u001b[0m\u001b[1;33m\u001b[0m\u001b[1;33m\u001b[0m\u001b[0m\n\u001b[1;32m----> 2\u001b[1;33m \u001b[0mnum_unique\u001b[0m\u001b[1;33m(\u001b[0m\u001b[1;33m)\u001b[0m\u001b[1;33m\u001b[0m\u001b[1;33m\u001b[0m\u001b[0m\n\u001b[0m",
      "\u001b[1;31mTypeError\u001b[0m: 'Series' object is not callable"
     ]
    }
   ],
   "source": [
    "num_unique = CSES_int.describe(include='all').loc[\"unique\"]\n"
   ]
  },
  {
   "cell_type": "code",
   "execution_count": 40,
   "metadata": {},
   "outputs": [
    {
     "data": {
      "text/plain": [
       "IMD1001        1\n",
       "IMD1002_VER    1\n",
       "IMD1002_DOI    1\n",
       "IMD1016_3      1\n",
       "Name: unique, dtype: object"
      ]
     },
     "execution_count": 40,
     "metadata": {},
     "output_type": "execute_result"
    }
   ],
   "source": [
    "num_unique[num_unique==1]"
   ]
  },
  {
   "cell_type": "code",
   "execution_count": 42,
   "metadata": {},
   "outputs": [
    {
     "data": {
      "text/plain": [
       "0         9. MISSING\n",
       "1         9. MISSING\n",
       "2         9. MISSING\n",
       "3         9. MISSING\n",
       "4         9. MISSING\n",
       "             ...    \n",
       "281078    9. MISSING\n",
       "281079    9. MISSING\n",
       "281080    9. MISSING\n",
       "281081    9. MISSING\n",
       "281082    9. MISSING\n",
       "Name: IMD1016_3, Length: 281083, dtype: category\n",
       "Categories (1, object): [9. MISSING]"
      ]
     },
     "execution_count": 42,
     "metadata": {},
     "output_type": "execute_result"
    }
   ],
   "source": [
    "CSES_int[\"IMD1016_3\"]"
   ]
  },
  {
   "cell_type": "code",
   "execution_count": 23,
   "metadata": {},
   "outputs": [
    {
     "data": {
      "text/plain": [
       "'2. SECOND HOUSEHOLD INCOME QUINTILE'"
      ]
     },
     "execution_count": 23,
     "metadata": {},
     "output_type": "execute_result"
    }
   ],
   "source": [
    "try_to_strip_ques_no(\"2. SECOND HOUSEHOLD INCOME QUINTILE\")"
   ]
  },
  {
   "cell_type": "code",
   "execution_count": null,
   "metadata": {},
   "outputs": [],
   "source": [
    "\n",
    "match_exists = re.match(\"\\d+\\.\\d+? ([A-Z].*$)\",x)\n",
    "if match_exists:\n",
    "    return match_exists.groups()[0]\n",
    "else:\n",
    "    return x"
   ]
  },
  {
   "cell_type": "code",
   "execution_count": 29,
   "metadata": {},
   "outputs": [
    {
     "name": "stdout",
     "output_type": "stream",
     "text": [
      "SECOND HOUSEHOLD INCOME QUINTILE\n"
     ]
    }
   ],
   "source": [
    "x = \"2. SECOND HOUSEHOLD INCOME QUINTILE\"\n",
    "\n",
    "match_exists = re.match(\"[0-9\\.]+ ([A-Z].*$)\",x)\n",
    "if match_exists:\n",
    "    print( match_exists.groups()[0] )"
   ]
  },
  {
   "cell_type": "code",
   "execution_count": 28,
   "metadata": {},
   "outputs": [
    {
     "data": {
      "text/plain": [
       "False"
      ]
     },
     "execution_count": 28,
     "metadata": {},
     "output_type": "execute_result"
    }
   ],
   "source": [
    "match_exists==True"
   ]
  },
  {
   "cell_type": "code",
   "execution_count": null,
   "metadata": {},
   "outputs": [],
   "source": []
  }
 ],
 "metadata": {
  "kernelspec": {
   "display_name": "Python [conda env:BES_analysis] *",
   "language": "python",
   "name": "conda-env-BES_analysis-py"
  },
  "language_info": {
   "codemirror_mode": {
    "name": "ipython",
    "version": 3
   },
   "file_extension": ".py",
   "mimetype": "text/x-python",
   "name": "python",
   "nbconvert_exporter": "python",
   "pygments_lexer": "ipython3",
   "version": "3.7.6"
  }
 },
 "nbformat": 4,
 "nbformat_minor": 4
}
