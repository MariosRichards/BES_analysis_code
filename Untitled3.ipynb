{
 "cells": [
  {
   "cell_type": "code",
   "execution_count": null,
   "id": "f0d596be",
   "metadata": {},
   "outputs": [],
   "source": []
  },
  {
   "cell_type": "code",
   "execution_count": null,
   "id": "d134e54d",
   "metadata": {},
   "outputs": [],
   "source": [
    "### Candidate information/religion project\n",
    "http://localhost:8888/notebooks/MP%20Public%20Religion.ipynb"
   ]
  },
  {
   "cell_type": "code",
   "execution_count": null,
   "id": "42e3ef7c",
   "metadata": {},
   "outputs": [],
   "source": [
    "* MP Religion Data\n",
    "\t- transcription of swearing in audio (just to see how practical it would be to then scrape it for desired data)\n",
    "\t- get 2010/2015 video/audio clip\n",
    "\t- improve match algorithm!\n",
    "\t- get 2010 and 2015 matches\n",
    "\t"
   ]
  },
  {
   "cell_type": "code",
   "execution_count": null,
   "id": "b955ed44",
   "metadata": {},
   "outputs": [],
   "source": [
    "# Datasets\n",
    "\n",
    "# (1) Semi-manual scraping of wikipedia+ for religious identification\n",
    "# (2) Oath/Affirmation/Holy books - freebie dataset contributed for 2019, but could replicate for earlier sessions\n",
    "# (3) Voting record data - in theory, all available through Public Whip, but something is up with their data for 2019\n",
    "# (4) can we get more candidate information??\n",
    "# (5) Pippa Norris candidate datasets (anonymous)\n",
    "\n",
    "\n",
    "\n",
    "# Analyses\n",
    "\n",
    "# (1) Looking at correlation of identification/oath & affirmation by party - basic data checking\n",
    "# (2) \n",
    "\n",
    "\n",
    "# TODO\n",
    "# (1) Update with NI and 2017 Religious Identification added\n",
    "# (2) Get match dataset for 2015\n",
    "# (3) Set up excelsheet for entering 2017 oath/affirmation - just to see how long it would take!\n"
   ]
  },
  {
   "cell_type": "code",
   "execution_count": null,
   "id": "a143352d",
   "metadata": {},
   "outputs": [],
   "source": []
  },
  {
   "cell_type": "code",
   "execution_count": null,
   "id": "fd9bac5d",
   "metadata": {},
   "outputs": [],
   "source": []
  },
  {
   "cell_type": "code",
   "execution_count": null,
   "id": "34e480f1",
   "metadata": {},
   "outputs": [],
   "source": [
    "# # try to read public whip sql file\n",
    "\n",
    "\n",
    "    \n",
    "# import sqlite3\n",
    "\n",
    "# fname= \"C:\\\\Users\\\\Gamer\\\\Downloads\\\\pw_static_tables (2).sql\"\n",
    "# dat = sqlite3.connect(fname)\n",
    "\n",
    "# df = pd.read_sql_query(\"SELECT * FROM table_name\", cnx)\n",
    "\n",
    "# cursor = dat.cursor()\n",
    "# # cursor.execute(\"SELECT name FROM sqlite_master WHERE type='table';\")\n",
    "# # print(cursor.fetchall())\n",
    "# cursor.execute(\"SELECT name FROM sqlite_master WHERE type='table';\")"
   ]
  },
  {
   "cell_type": "code",
   "execution_count": null,
   "id": "69590a01",
   "metadata": {},
   "outputs": [],
   "source": []
  },
  {
   "cell_type": "code",
   "execution_count": null,
   "id": "06e355ba",
   "metadata": {},
   "outputs": [],
   "source": []
  },
  {
   "cell_type": "code",
   "execution_count": null,
   "id": "0a58c202",
   "metadata": {},
   "outputs": [],
   "source": []
  },
  {
   "cell_type": "code",
   "execution_count": null,
   "id": "2a0b363e",
   "metadata": {},
   "outputs": [],
   "source": []
  }
 ],
 "metadata": {
  "kernelspec": {
   "display_name": "Python 3",
   "language": "python",
   "name": "python3"
  },
  "language_info": {
   "codemirror_mode": {
    "name": "ipython",
    "version": 3
   },
   "file_extension": ".py",
   "mimetype": "text/x-python",
   "name": "python",
   "nbconvert_exporter": "python",
   "pygments_lexer": "ipython3",
   "version": "3.7.12"
  }
 },
 "nbformat": 4,
 "nbformat_minor": 5
}
