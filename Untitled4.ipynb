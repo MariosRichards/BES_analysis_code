{
 "cells": [
  {
   "cell_type": "code",
   "execution_count": 3,
   "metadata": {},
   "outputs": [
    {
     "data": {
      "text/html": [
       "<script>jQuery(function() {if (jQuery(\"body.notebook_app\").length == 0) { jQuery(\".input_area\").toggle(); jQuery(\".prompt\").toggle();}});</script>"
      ]
     },
     "metadata": {},
     "output_type": "display_data"
    },
    {
     "data": {
      "text/html": [
       "<button onclick=\"jQuery('.input_area').toggle(); jQuery('.prompt').toggle();\">Toggle code</button>"
      ]
     },
     "metadata": {},
     "output_type": "display_data"
    }
   ],
   "source": [
    "import warnings\n",
    "warnings.filterwarnings('ignore')\n",
    "\n",
    "from IPython.display import display\n",
    "from IPython.display import HTML\n",
    "import IPython.core.display as di # Example: di.display_html('<h3>%s:</h3>' % str, raw=True)\n",
    "\n",
    "# This line will hide code by default when the notebook is exported as HTML\n",
    "di.display_html('<script>jQuery(function() {if (jQuery(\"body.notebook_app\").length == 0) { jQuery(\".input_area\").toggle(); jQuery(\".prompt\").toggle();}});</script>', raw=True)\n",
    "\n",
    "# This line will add a button to toggle visibility of code blocks, for use with the HTML export version\n",
    "di.display_html('''<button onclick=\"jQuery('.input_area').toggle(); jQuery('.prompt').toggle();\">Toggle code</button>''', raw=True)\n",
    "\n",
    "%matplotlib inline\n",
    "\n",
    "import numpy as np, pandas as pd, matplotlib.pyplot as plt, seaborn as sns\n",
    "import pickle, os, gc, re\n",
    "\n",
    "sns.set();\n",
    "sns.set_palette(\"colorblind\")\n",
    "\n",
    "from IPython.display import display, display_html, HTML\n",
    "from IPython.core.debugger import set_trace\n",
    "# plt.rcParams[\"axes.grid\"] = False\n",
    "\n",
    "import Jupyter_module_loader\n",
    "from utility import *\n",
    "import gaussian_kde\n",
    "\n",
    "import warnings\n",
    "warnings.filterwarnings('ignore')\n",
    "\n",
    "import holoviews as hv\n",
    "from holoviews import opts\n",
    "\n",
    "encoding = \"ISO-8859-1\"\n",
    "\n",
    "(BES_code_folder, BES_small_data_files, BES_data_folder,\n",
    " BES_output_folder, BES_file_manifest, BES_R_data_files) = setup_directories()\n"
   ]
  },
  {
   "cell_type": "code",
   "execution_count": 7,
   "metadata": {},
   "outputs": [],
   "source": [
    "df = pd.read_csv(BES_data_folder+\"parliamentary constituency data\"+os.sep+\"Lots of aggregated parliamentary data.csv\")"
   ]
  },
  {
   "cell_type": "code",
   "execution_count": 13,
   "metadata": {},
   "outputs": [],
   "source": [
    "con_div_ukipbxp = (df[\"RESULTS2019_BXP\"]+df[\"RESULTS2019_UKIP\"])/df[\"RESULTS2019_CON\"]"
   ]
  },
  {
   "cell_type": "code",
   "execution_count": 14,
   "metadata": {},
   "outputs": [
    {
     "data": {
      "text/plain": [
       "<matplotlib.axes._subplots.AxesSubplot at 0x6bcc588>"
      ]
     },
     "execution_count": 14,
     "metadata": {},
     "output_type": "execute_result"
    },
    {
     "data": {
      "image/png": "[encoded data removed]",
      "text/plain": [
       "<Figure size 432x288 with 1 Axes>"
      ]
     },
     "metadata": {},
     "output_type": "display_data"
    }
   ],
   "source": [
    "con_div_ukipbxp.dropna().hist(bins=50)"
   ]
  },
  {
   "cell_type": "code",
   "execution_count": 16,
   "metadata": {},
   "outputs": [
    {
     "data": {
      "text/plain": [
       "5"
      ]
     },
     "execution_count": 16,
     "metadata": {},
     "output_type": "execute_result"
    }
   ],
   "source": [
    "(con_div_ukipbxp>.8).sum()"
   ]
  },
  {
   "cell_type": "code",
   "execution_count": 29,
   "metadata": {},
   "outputs": [
    {
     "data": {
      "text/html": [
       "<div>\n",
       "<style scoped>\n",
       "    .dataframe tbody tr th:only-of-type {\n",
       "        vertical-align: middle;\n",
       "    }\n",
       "\n",
       "    .dataframe tbody tr th {\n",
       "        vertical-align: top;\n",
       "    }\n",
       "\n",
       "    .dataframe thead th {\n",
       "        text-align: right;\n",
       "    }\n",
       "</style>\n",
       "<table border=\"1\" class=\"dataframe\">\n",
       "  <thead>\n",
       "    <tr style=\"text-align: right;\">\n",
       "      <th></th>\n",
       "      <th>ConstituencyName</th>\n",
       "      <th>Region</th>\n",
       "      <th>Con15</th>\n",
       "      <th>Lab15</th>\n",
       "      <th>UKIP15</th>\n",
       "      <th>Con17</th>\n",
       "      <th>Lab17</th>\n",
       "      <th>UKIP17</th>\n",
       "      <th>RESULTS2019_CON</th>\n",
       "      <th>RESULTS2019_LAB</th>\n",
       "      <th>RESULTS2019_BXP</th>\n",
       "    </tr>\n",
       "  </thead>\n",
       "  <tbody>\n",
       "    <tr>\n",
       "      <th>25</th>\n",
       "      <td>Barnsley Central</td>\n",
       "      <td>Yorkshire and The Humber</td>\n",
       "      <td>15.00</td>\n",
       "      <td>55.73</td>\n",
       "      <td>21.72</td>\n",
       "      <td>24.14</td>\n",
       "      <td>63.91</td>\n",
       "      <td>8.54</td>\n",
       "      <td>7892.0</td>\n",
       "      <td>14804.0</td>\n",
       "      <td>11233.0</td>\n",
       "    </tr>\n",
       "    <tr>\n",
       "      <th>26</th>\n",
       "      <td>Barnsley East</td>\n",
       "      <td>Yorkshire and The Humber</td>\n",
       "      <td>14.60</td>\n",
       "      <td>54.73</td>\n",
       "      <td>23.48</td>\n",
       "      <td>26.97</td>\n",
       "      <td>59.54</td>\n",
       "      <td>7.96</td>\n",
       "      <td>10377.0</td>\n",
       "      <td>14329.0</td>\n",
       "      <td>11112.0</td>\n",
       "    </tr>\n",
       "    <tr>\n",
       "      <th>63</th>\n",
       "      <td>Blaenau Gwent</td>\n",
       "      <td>Wales</td>\n",
       "      <td>10.79</td>\n",
       "      <td>58.01</td>\n",
       "      <td>17.92</td>\n",
       "      <td>14.77</td>\n",
       "      <td>58.01</td>\n",
       "      <td>3.00</td>\n",
       "      <td>5749.0</td>\n",
       "      <td>14862.0</td>\n",
       "      <td>6215.0</td>\n",
       "    </tr>\n",
       "    <tr>\n",
       "      <th>188</th>\n",
       "      <td>Doncaster North</td>\n",
       "      <td>Yorkshire and The Humber</td>\n",
       "      <td>18.32</td>\n",
       "      <td>52.42</td>\n",
       "      <td>22.60</td>\n",
       "      <td>27.62</td>\n",
       "      <td>60.77</td>\n",
       "      <td>6.47</td>\n",
       "      <td>13370.0</td>\n",
       "      <td>15740.0</td>\n",
       "      <td>8297.0</td>\n",
       "    </tr>\n",
       "    <tr>\n",
       "      <th>211</th>\n",
       "      <td>Easington</td>\n",
       "      <td>North East</td>\n",
       "      <td>12.93</td>\n",
       "      <td>61.03</td>\n",
       "      <td>18.75</td>\n",
       "      <td>22.71</td>\n",
       "      <td>63.67</td>\n",
       "      <td>4.75</td>\n",
       "      <td>9142.0</td>\n",
       "      <td>15723.0</td>\n",
       "      <td>6744.0</td>\n",
       "    </tr>\n",
       "    <tr>\n",
       "      <th>284</th>\n",
       "      <td>Hartlepool</td>\n",
       "      <td>North East</td>\n",
       "      <td>20.91</td>\n",
       "      <td>35.64</td>\n",
       "      <td>27.99</td>\n",
       "      <td>34.23</td>\n",
       "      <td>52.51</td>\n",
       "      <td>11.48</td>\n",
       "      <td>11869.0</td>\n",
       "      <td>15464.0</td>\n",
       "      <td>10603.0</td>\n",
       "    </tr>\n",
       "    <tr>\n",
       "      <th>334</th>\n",
       "      <td>Knowsley</td>\n",
       "      <td>North West</td>\n",
       "      <td>6.64</td>\n",
       "      <td>78.12</td>\n",
       "      <td>9.80</td>\n",
       "      <td>9.26</td>\n",
       "      <td>85.34</td>\n",
       "      <td>2.32</td>\n",
       "      <td>4432.0</td>\n",
       "      <td>44374.0</td>\n",
       "      <td>3348.0</td>\n",
       "    </tr>\n",
       "    <tr>\n",
       "      <th>455</th>\n",
       "      <td>Rhondda</td>\n",
       "      <td>Wales</td>\n",
       "      <td>6.71</td>\n",
       "      <td>50.66</td>\n",
       "      <td>12.68</td>\n",
       "      <td>10.12</td>\n",
       "      <td>64.05</td>\n",
       "      <td>2.67</td>\n",
       "      <td>4675.0</td>\n",
       "      <td>16115.0</td>\n",
       "      <td>3733.0</td>\n",
       "    </tr>\n",
       "    <tr>\n",
       "      <th>507</th>\n",
       "      <td>South Shields</td>\n",
       "      <td>North East</td>\n",
       "      <td>16.60</td>\n",
       "      <td>51.26</td>\n",
       "      <td>21.99</td>\n",
       "      <td>25.92</td>\n",
       "      <td>61.51</td>\n",
       "      <td>7.37</td>\n",
       "      <td>7688.0</td>\n",
       "      <td>17273.0</td>\n",
       "      <td>6446.0</td>\n",
       "    </tr>\n",
       "  </tbody>\n",
       "</table>\n",
       "</div>"
      ],
      "text/plain": [
       "     ConstituencyName                    Region  Con15  Lab15  UKIP15  Con17  \\\n",
       "25   Barnsley Central  Yorkshire and The Humber  15.00  55.73   21.72  24.14   \n",
       "26      Barnsley East  Yorkshire and The Humber  14.60  54.73   23.48  26.97   \n",
       "63      Blaenau Gwent                     Wales  10.79  58.01   17.92  14.77   \n",
       "188   Doncaster North  Yorkshire and The Humber  18.32  52.42   22.60  27.62   \n",
       "211         Easington                North East  12.93  61.03   18.75  22.71   \n",
       "284        Hartlepool                North East  20.91  35.64   27.99  34.23   \n",
       "334          Knowsley                North West   6.64  78.12    9.80   9.26   \n",
       "455           Rhondda                     Wales   6.71  50.66   12.68  10.12   \n",
       "507     South Shields                North East  16.60  51.26   21.99  25.92   \n",
       "\n",
       "     Lab17  UKIP17  RESULTS2019_CON  RESULTS2019_LAB  RESULTS2019_BXP  \n",
       "25   63.91    8.54           7892.0          14804.0          11233.0  \n",
       "26   59.54    7.96          10377.0          14329.0          11112.0  \n",
       "63   58.01    3.00           5749.0          14862.0           6215.0  \n",
       "188  60.77    6.47          13370.0          15740.0           8297.0  \n",
       "211  63.67    4.75           9142.0          15723.0           6744.0  \n",
       "284  52.51   11.48          11869.0          15464.0          10603.0  \n",
       "334  85.34    2.32           4432.0          44374.0           3348.0  \n",
       "455  64.05    2.67           4675.0          16115.0           3733.0  \n",
       "507  61.51    7.37           7688.0          17273.0           6446.0  "
      ]
     },
     "execution_count": 29,
     "metadata": {},
     "output_type": "execute_result"
    }
   ],
   "source": [
    "df[con_div_ukipbxp>.6][[\"ConstituencyName\",\"Region\",\"Con15\",\"Lab15\",\"UKIP15\",\"Con17\",\"Lab17\",\"UKIP17\",\"RESULTS2019_CON\",\"RESULTS2019_LAB\",\"RESULTS2019_BXP\"]].round(2)"
   ]
  },
  {
   "cell_type": "code",
   "execution_count": 21,
   "metadata": {},
   "outputs": [
    {
     "data": {
      "text/html": [
       "['c11Age18to19', 'CHAM_REG_VOTERS_2019', 'RESULTS2019_CON', 'RESULTS2019_LAB', 'RESULTS2019_LIBDEM', 'RESULTS2019_GRN', 'RESULTS2019_SNP', 'RESULTS2019_PC', 'RESULTS2019_BXP', 'RESULTS2019_UKIP', 'RESULTS2019_OTHER', 'RESULTS2019_Registered Voters', 'RESULTS2019_Turnout']"
      ],
      "text/plain": [
       "['c11Age18to19',\n",
       " 'CHAM_REG_VOTERS_2019',\n",
       " 'RESULTS2019_CON',\n",
       " 'RESULTS2019_LAB',\n",
       " 'RESULTS2019_LIBDEM',\n",
       " 'RESULTS2019_GRN',\n",
       " 'RESULTS2019_SNP',\n",
       " 'RESULTS2019_PC',\n",
       " 'RESULTS2019_BXP',\n",
       " 'RESULTS2019_UKIP',\n",
       " 'RESULTS2019_OTHER',\n",
       " 'RESULTS2019_Registered Voters',\n",
       " 'RESULTS2019_Turnout']"
      ]
     },
     "execution_count": 21,
     "metadata": {},
     "output_type": "execute_result"
    }
   ],
   "source": [
    "[x for x in df.columns if \"19\" in x]"
   ]
  },
  {
   "cell_type": "code",
   "execution_count": null,
   "metadata": {},
   "outputs": [],
   "source": []
  }
 ],
 "metadata": {
  "kernelspec": {
   "display_name": "Python [conda env:BES_analysis] *",
   "language": "python",
   "name": "conda-env-BES_analysis-py"
  },
  "language_info": {
   "codemirror_mode": {
    "name": "ipython",
    "version": 3
   },
   "file_extension": ".py",
   "mimetype": "text/x-python",
   "name": "python",
   "nbconvert_exporter": "python",
   "pygments_lexer": "ipython3",
   "version": "3.7.6"
  }
 },
 "nbformat": 4,
 "nbformat_minor": 4
}
