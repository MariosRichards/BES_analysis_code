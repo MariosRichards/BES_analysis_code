{
 "cells": [
  {
   "cell_type": "code",
   "execution_count": null,
   "id": "eaa165eb",
   "metadata": {},
   "outputs": [],
   "source": [
    "### https://twitter.com/ChristabelCoops/status/1422503503629627393"
   ]
  },
  {
   "cell_type": "code",
   "execution_count": null,
   "id": "178bd3ed",
   "metadata": {},
   "outputs": [],
   "source": [
    "## Is the BES period long enough to check for any 'house-getting' effect?\n",
    "## Probably not - but how long would it take to check?\n",
    "\n",
    "## Not visibly! An afternoon"
   ]
  },
  {
   "cell_type": "code",
   "execution_count": 200,
   "id": "b4793a2f",
   "metadata": {},
   "outputs": [
    {
     "data": {
      "text/html": [
       "<script>jQuery(function() {if (jQuery(\"body.notebook_app\").length == 0) { jQuery(\".input_area\").toggle(); jQuery(\".prompt\").toggle();}});</script>"
      ]
     },
     "metadata": {},
     "output_type": "display_data"
    },
    {
     "data": {
      "text/html": [
       "<button onclick=\"jQuery('.input_area').toggle(); jQuery('.prompt').toggle();\">Toggle code</button>"
      ]
     },
     "metadata": {},
     "output_type": "display_data"
    },
    {
     "name": "stdout",
     "output_type": "stream",
     "text": [
      "Wall time: 11.6 s\n"
     ]
    }
   ],
   "source": [
    "%%time\n",
    "dataset_name = \"W20_comb\"\n",
    "df_list = \"BES_Panel\"\n",
    "\n",
    "%matplotlib inline\n",
    "%run BES_header.py {dataset_name} {df_list}\n",
    "# (var_type, cat_dictionary, new_old_col_names, old_new_col_names) = get_small_files(data_subfolder, encoding)    \n",
    "# get full set of inferred \"cross wave\" auth-lib/left-right values and ages\n",
    "# pan_dataset_allr_values = pd.read_pickle(BES_small_data_files + \"pan_dataset_allr_valuesW19\"+\".zip\",compression='zip')\n",
    "# # pan_dataset_allr_values = pan_dataset_allr_values.loc[BES_Panel.index].sort_index()\n",
    "# pan_dataset_ages = pd.read_pickle(BES_small_data_files + \"pan_dataset_ages\"+\".zip\", compression='zip')\n",
    "# pan_dataset_votes = pd.read_pickle(BES_small_data_files+\"pan_dataset_votes\"+\".zip\",compression='zip')\n"
   ]
  },
  {
   "cell_type": "code",
   "execution_count": 202,
   "id": "c2a5f820",
   "metadata": {},
   "outputs": [],
   "source": [
    "BES_PanelW20_comb = BES_Panel.copy()"
   ]
  },
  {
   "cell_type": "code",
   "execution_count": null,
   "id": "8841c450",
   "metadata": {},
   "outputs": [],
   "source": [
    "# W14\n",
    "# homeOwn, homeamtb, mortgagePayment, secondHome, secondHomeAmtb\n",
    "# rentPayment\n",
    "# buyHomeFuture,savings,savingsAmtb,debt,debtAmtb\n",
    "\n",
    "# p_housing"
   ]
  },
  {
   "cell_type": "code",
   "execution_count": 6,
   "id": "4d3e67d8",
   "metadata": {},
   "outputs": [
    {
     "data": {
      "text/plain": [
       "Own â outright                                                                          243113\n",
       "Own â with a mortgage                                                                   175826\n",
       "Rent â from a private landlord                                                           80881\n",
       "Rent â from a housing association                                                        37390\n",
       "Rent â from my local authority                                                           33489\n",
       "Neither â I live rent-free with my parents, family or friends                            24312\n",
       "Neither â I live with my parents, family or friends but pay some rent to them            21877\n",
       "Other                                                                                       9644\n",
       "Own (part-own) â through shared ownership scheme (i.e. pay part mortgage, part rent)      4524\n",
       "dtype: int64"
      ]
     },
     "execution_count": 6,
     "metadata": {},
     "output_type": "execute_result"
    }
   ],
   "source": [
    "BES_Panel[search(BES_Panel,\"p_housing\").index].stack().value_counts()"
   ]
  },
  {
   "cell_type": "code",
   "execution_count": null,
   "id": "3995e9f5",
   "metadata": {},
   "outputs": [],
   "source": [
    "\n"
   ]
  },
  {
   "cell_type": "code",
   "execution_count": 70,
   "id": "7e8a0bc9",
   "metadata": {},
   "outputs": [],
   "source": [
    "replace_dict = {'Own â\\x80\\x93 outright':\"Own\",\n",
    " 'Own â\\x80\\x93 with a mortgage':\"Mortgage\",\n",
    " 'Own (part-own) â\\x80\\x93 through shared ownership scheme (i.e. pay part mortgage, part rent)':\"Shared Ownership\",\n",
    " 'Rent â\\x80\\x93 from a private landlord':\"Private Rent\",\n",
    " 'Rent â\\x80\\x93 from my local authority':\"LA/HA Rent\",\n",
    " 'Rent â\\x80\\x93 from a housing association':\"LA/HA Rent\",\n",
    " 'Neither â\\x80\\x93 I live with my parents, family or friends but pay some rent to them':\"F&F Rent/Free\",\n",
    " 'Neither â\\x80\\x93 I live rent-free with my parents, family or friends':\"F&F Rent/Free\",\n",
    " 'Other':'Other',\n",
    "\n",
    "}"
   ]
  },
  {
   "cell_type": "code",
   "execution_count": 249,
   "id": "e8a27241",
   "metadata": {},
   "outputs": [],
   "source": [
    "# focus on p_housing for the moment\n",
    "# try to build a quick'n'easy transition matrix\n",
    "\n",
    "# fillna (both directions)\n",
    "# get all adjacent pairs\n",
    "\n"
   ]
  },
  {
   "cell_type": "code",
   "execution_count": 250,
   "id": "c890da49",
   "metadata": {},
   "outputs": [],
   "source": [
    "df = BES_PanelW20_comb[search(BES_PanelW20_comb,\"p_housing\").index].copy()\n",
    "df = df.replace(replace_dict)"
   ]
  },
  {
   "cell_type": "code",
   "execution_count": 73,
   "id": "a01b295a",
   "metadata": {},
   "outputs": [
    {
     "data": {
      "text/plain": [
       "Own                 243113\n",
       "Mortgage            175826\n",
       "Private Rent         80881\n",
       "LA/HA Rent           70879\n",
       "F&F Rent/Free        46189\n",
       "Other                 9644\n",
       "Shared Ownership      4524\n",
       "dtype: int64"
      ]
     },
     "execution_count": 73,
     "metadata": {},
     "output_type": "execute_result"
    }
   ],
   "source": [
    "df.stack().value_counts()"
   ]
  },
  {
   "cell_type": "code",
   "execution_count": 251,
   "id": "69561e50",
   "metadata": {},
   "outputs": [
    {
     "name": "stdout",
     "output_type": "stream",
     "text": [
      "Wall time: 153 ms\n"
     ]
    }
   ],
   "source": [
    "%%time\n",
    "df = df.fillna(method='ffill',axis=1).fillna(method='bfill',axis=1)"
   ]
  },
  {
   "cell_type": "code",
   "execution_count": 252,
   "id": "9960c8e1",
   "metadata": {},
   "outputs": [],
   "source": [
    "df = df.dropna()"
   ]
  },
  {
   "cell_type": "code",
   "execution_count": 76,
   "id": "4ba1e22b",
   "metadata": {},
   "outputs": [],
   "source": [
    "column_list = df.columns\n",
    "df_pairs = pd.DataFrame()\n",
    "for pos in range(len(column_list)-1):\n",
    "    df_pairs[column_list[pos]] = df[column_list[pos]].astype(str)+\"->\"+df[column_list[pos+1]].astype(str)"
   ]
  },
  {
   "cell_type": "code",
   "execution_count": 77,
   "id": "60bb6f3b",
   "metadata": {},
   "outputs": [
    {
     "data": {
      "text/plain": [
       "Own->Own                              567066\n",
       "Mortgage->Mortgage                    508519\n",
       "Private Rent->Private Rent            297637\n",
       "LA/HA Rent->LA/HA Rent                208576\n",
       "F&F Rent/Free->F&F Rent/Free          192173\n",
       "Other->Other                           35224\n",
       "Shared Ownership->Shared Ownership     14895\n",
       "Mortgage->Own                           4154\n",
       "F&F Rent/Free->Private Rent             1544\n",
       "Private Rent->Mortgage                  1375\n",
       "Private Rent->F&F Rent/Free             1276\n",
       "Own->Mortgage                           1224\n",
       "F&F Rent/Free->Mortgage                  850\n",
       "Private Rent->LA/HA Rent                 737\n",
       "F&F Rent/Free->Other                     693\n",
       "LA/HA Rent->Private Rent                 603\n",
       "Other->F&F Rent/Free                     594\n",
       "Mortgage->Private Rent                   571\n",
       "F&F Rent/Free->Own                       562\n",
       "F&F Rent/Free->LA/HA Rent                506\n",
       "Mortgage->F&F Rent/Free                  493\n",
       "Other->Own                               475\n",
       "Own->F&F Rent/Free                       471\n",
       "LA/HA Rent->F&F Rent/Free                466\n",
       "Other->Private Rent                      461\n",
       "Own->Other                               434\n",
       "Private Rent->Other                      393\n",
       "Private Rent->Own                        389\n",
       "Other->Mortgage                          387\n",
       "Mortgage->Other                          341\n",
       "Own->Private Rent                        312\n",
       "Shared Ownership->Mortgage               229\n",
       "Other->LA/HA Rent                        218\n",
       "LA/HA Rent->Mortgage                     209\n",
       "LA/HA Rent->Other                        184\n",
       "Mortgage->Shared Ownership               176\n",
       "LA/HA Rent->Own                          142\n",
       "Own->LA/HA Rent                          130\n",
       "Mortgage->LA/HA Rent                     129\n",
       "Private Rent->Shared Ownership           115\n",
       "Shared Ownership->Own                     86\n",
       "Own->Shared Ownership                     76\n",
       "F&F Rent/Free->Shared Ownership           70\n",
       "Shared Ownership->LA/HA Rent              51\n",
       "Shared Ownership->Private Rent            50\n",
       "LA/HA Rent->Shared Ownership              50\n",
       "Shared Ownership->F&F Rent/Free           38\n",
       "Other->Shared Ownership                   31\n",
       "Shared Ownership->Other                   28\n",
       "dtype: int64"
      ]
     },
     "execution_count": 77,
     "metadata": {},
     "output_type": "execute_result"
    }
   ],
   "source": [
    "df_pairs.stack().value_counts().head(50)"
   ]
  },
  {
   "cell_type": "code",
   "execution_count": 78,
   "id": "9d25fa7a",
   "metadata": {},
   "outputs": [],
   "source": [
    "stable_transitions = [x+\"->\"+x for x in replace_dict.values()]\n"
   ]
  },
  {
   "cell_type": "code",
   "execution_count": 79,
   "id": "4f365d9a",
   "metadata": {},
   "outputs": [
    {
     "data": {
      "text/plain": [
       "Mortgage->Own                  4154\n",
       "F&F Rent/Free->Private Rent    1544\n",
       "Private Rent->Mortgage         1375\n",
       "Private Rent->F&F Rent/Free    1276\n",
       "Own->Mortgage                  1224\n",
       "F&F Rent/Free->Mortgage         850\n",
       "Private Rent->LA/HA Rent        737\n",
       "F&F Rent/Free->Other            693\n",
       "LA/HA Rent->Private Rent        603\n",
       "Other->F&F Rent/Free            594\n",
       "dtype: int64"
      ]
     },
     "execution_count": 79,
     "metadata": {},
     "output_type": "execute_result"
    }
   ],
   "source": [
    "df_pairs.stack().value_counts().drop(stable_transitions).head(10)"
   ]
  },
  {
   "cell_type": "code",
   "execution_count": 80,
   "id": "b8fd0c45",
   "metadata": {},
   "outputs": [],
   "source": [
    "## I think it's unclear if people are really distinction reliably between F&F Free and F&F Rent\n",
    "\n",
    "## I wonder if that's also true for LA vs HA???\n",
    "\n"
   ]
  },
  {
   "cell_type": "code",
   "execution_count": null,
   "id": "3b147c94",
   "metadata": {},
   "outputs": [],
   "source": [
    "## find rows where Transition happens\n",
    "## where it happens *only once*\n",
    "## return wave in which it happens (technically, don't we have before/during/after???)"
   ]
  },
  {
   "cell_type": "code",
   "execution_count": 279,
   "id": "0e263ab9",
   "metadata": {},
   "outputs": [
    {
     "name": "stdout",
     "output_type": "stream",
     "text": [
      "-0.008089607965152458\n"
     ]
    },
    {
     "data": {
      "image/png": "[encoded data removed]",
      "text/plain": [
       "<Figure size 432x288 with 1 Axes>"
      ]
     },
     "metadata": {},
     "output_type": "display_data"
    }
   ],
   "source": [
    "transition = \"Mortgage->Own\"\n",
    "scale_var = \"lr_scale\"\n",
    "\n",
    "rows_with_trans = df_pairs.apply(lambda x: transition in x.values,axis=1)\n",
    "one_and_only_one_trans = df_pairs.apply(lambda x: sum([y not in stable_transitions for y in x.values])==1,axis=1)\n",
    "candidate_indices = df.index[(rows_with_trans&one_and_only_one_trans)]\n",
    "transition_to_wave = (df.loc[candidate_indices]==transition.split(\"->\")[1]).apply(lambda x: x.idxmax(),axis=1)\n",
    "# transition_to_wave.value_counts()\n",
    "\n",
    "transition_to = transition_to_wave.replace(wave_replace_dict)\n",
    "transition_from = transition_to_wave.replace(wave_replace_dict_from)\n",
    "\n",
    "transition_to = pd.Series(list(zip(transition_to.index,transition_to.values))).apply(lambda x: high_gran_values.loc[x[0],scale_var+x[1]])\n",
    "transition_from = pd.Series(list(zip(transition_from.index,transition_from.values))).apply(lambda x: high_gran_values.loc[x[0],scale_var+x[1]])\n",
    "\n",
    "(transition_to.replace(value_replace_dict)-transition_from.replace(value_replace_dict)).hist(bins=100)\n",
    "print( (transition_to.replace(value_replace_dict)-transition_from.replace(value_replace_dict)).mean() )"
   ]
  },
  {
   "cell_type": "code",
   "execution_count": 282,
   "id": "9242cb60",
   "metadata": {},
   "outputs": [
    {
     "name": "stdout",
     "output_type": "stream",
     "text": [
      "-0.014771997430956968\n"
     ]
    },
    {
     "data": {
      "image/png": "[encoded data removed]",
      "text/plain": [
       "<Figure size 432x288 with 1 Axes>"
      ]
     },
     "metadata": {},
     "output_type": "display_data"
    }
   ],
   "source": [
    "transition = \"Mortgage->Own\"\n",
    "scale_var = \"al_scale\"\n",
    "\n",
    "rows_with_trans = df_pairs.apply(lambda x: transition in x.values,axis=1)\n",
    "one_and_only_one_trans = df_pairs.apply(lambda x: sum([y not in stable_transitions for y in x.values])==1,axis=1)\n",
    "candidate_indices = df.index[(rows_with_trans&one_and_only_one_trans)]\n",
    "transition_to_wave = (df.loc[candidate_indices]==transition.split(\"->\")[1]).apply(lambda x: x.idxmax(),axis=1)\n",
    "# transition_to_wave.value_counts()\n",
    "\n",
    "transition_to = transition_to_wave.replace(wave_replace_dict)\n",
    "transition_from = transition_to_wave.replace(wave_replace_dict_from)\n",
    "\n",
    "transition_to = pd.Series(list(zip(transition_to.index,transition_to.values))).apply(lambda x: high_gran_values.loc[x[0],scale_var+x[1]])\n",
    "transition_from = pd.Series(list(zip(transition_from.index,transition_from.values))).apply(lambda x: high_gran_values.loc[x[0],scale_var+x[1]])\n",
    "\n",
    "(transition_to.replace(value_replace_dict)-transition_from.replace(value_replace_dict)).hist(bins=100)\n",
    "print( (transition_to.replace(value_replace_dict)-transition_from.replace(value_replace_dict)).mean() )"
   ]
  },
  {
   "cell_type": "code",
   "execution_count": 280,
   "id": "e4dc1d13",
   "metadata": {},
   "outputs": [
    {
     "name": "stdout",
     "output_type": "stream",
     "text": [
      "-0.028669724770642203\n"
     ]
    },
    {
     "data": {
      "image/png": "[encoded data removed]",
      "text/plain": [
       "<Figure size 432x288 with 1 Axes>"
      ]
     },
     "metadata": {},
     "output_type": "display_data"
    }
   ],
   "source": [
    "transition = \"Private Rent->Mortgage\"\n",
    "scale_var = \"lr_scale\"\n",
    "\n",
    "rows_with_trans = df_pairs.apply(lambda x: transition in x.values,axis=1)\n",
    "one_and_only_one_trans = df_pairs.apply(lambda x: sum([y not in stable_transitions for y in x.values])==1,axis=1)\n",
    "candidate_indices = df.index[(rows_with_trans&one_and_only_one_trans)]\n",
    "transition_to_wave = (df.loc[candidate_indices]==transition.split(\"->\")[1]).apply(lambda x: x.idxmax(),axis=1)\n",
    "# transition_to_wave.value_counts()\n",
    "\n",
    "transition_to = transition_to_wave.replace(wave_replace_dict)\n",
    "transition_from = transition_to_wave.replace(wave_replace_dict_from)\n",
    "\n",
    "transition_to = pd.Series(list(zip(transition_to.index,transition_to.values))).apply(lambda x: high_gran_values.loc[x[0],scale_var+x[1]])\n",
    "transition_from = pd.Series(list(zip(transition_from.index,transition_from.values))).apply(lambda x: high_gran_values.loc[x[0],scale_var+x[1]])\n",
    "\n",
    "(transition_to.replace(value_replace_dict)-transition_from.replace(value_replace_dict)).hist(bins=100)\n",
    "print( (transition_to.replace(value_replace_dict)-transition_from.replace(value_replace_dict)).mean() )"
   ]
  },
  {
   "cell_type": "code",
   "execution_count": 283,
   "id": "6db8f387",
   "metadata": {},
   "outputs": [
    {
     "name": "stdout",
     "output_type": "stream",
     "text": [
      "-0.0059665871121718375\n"
     ]
    },
    {
     "data": {
      "image/png": "[encoded data removed]",
      "text/plain": [
       "<Figure size 432x288 with 1 Axes>"
      ]
     },
     "metadata": {},
     "output_type": "display_data"
    }
   ],
   "source": [
    "transition = \"Private Rent->Mortgage\"\n",
    "scale_var = \"al_scale\"\n",
    "\n",
    "rows_with_trans = df_pairs.apply(lambda x: transition in x.values,axis=1)\n",
    "one_and_only_one_trans = df_pairs.apply(lambda x: sum([y not in stable_transitions for y in x.values])==1,axis=1)\n",
    "candidate_indices = df.index[(rows_with_trans&one_and_only_one_trans)]\n",
    "transition_to_wave = (df.loc[candidate_indices]==transition.split(\"->\")[1]).apply(lambda x: x.idxmax(),axis=1)\n",
    "# transition_to_wave.value_counts()\n",
    "\n",
    "transition_to = transition_to_wave.replace(wave_replace_dict)\n",
    "transition_from = transition_to_wave.replace(wave_replace_dict_from)\n",
    "\n",
    "transition_to = pd.Series(list(zip(transition_to.index,transition_to.values))).apply(lambda x: high_gran_values.loc[x[0],scale_var+x[1]])\n",
    "transition_from = pd.Series(list(zip(transition_from.index,transition_from.values))).apply(lambda x: high_gran_values.loc[x[0],scale_var+x[1]])\n",
    "\n",
    "(transition_to.replace(value_replace_dict)-transition_from.replace(value_replace_dict)).hist(bins=100)\n",
    "print( (transition_to.replace(value_replace_dict)-transition_from.replace(value_replace_dict)).mean() )"
   ]
  },
  {
   "cell_type": "code",
   "execution_count": null,
   "id": "b83028e1",
   "metadata": {},
   "outputs": [],
   "source": [
    "## convert granularity of housing data waves to granularity of lr_scale/al_scale waves!"
   ]
  },
  {
   "cell_type": "code",
   "execution_count": 187,
   "id": "b4a9bcfe",
   "metadata": {},
   "outputs": [],
   "source": [
    "wave_replace_dict = { 'p_housingW2':\"W2\", \n",
    "       'p_housingW3':\"W3\", 'p_housingW4':\"W4\", 'p_housingW5':\"W5\", 'p_housingW6':\"W6\",\n",
    "       'p_housingW7':\"W7W8W9\", 'p_housingW8':\"W7W8W9\", 'p_housingW9':\"W7W8W9\",\n",
    " 'p_housingW10':\"W10\", 'p_housingW11':\"W13\", 'p_housingW12':\"W13\", 'p_housingW13':\"W13\",\n",
    "       'p_housingW14':\"W14W15\", 'p_housingW15':\"W14W15\", 'p_housingW16':\"W16\", 'p_housingW17':\"W17\",\n",
    "       'p_housingW18':\"W20\", 'p_housingW19':\"W20\",\n",
    " 'p_housingW20':\"W20\",\n",
    "}\n",
    "\n",
    "wave_replace_dict_from = { 'p_housingW2':\"W1\", \n",
    "       'p_housingW3':\"W2\", 'p_housingW4':\"W3\", 'p_housingW5':\"W4\", 'p_housingW6':\"W5\",\n",
    "       'p_housingW7':\"W6\", 'p_housingW8':\"W6\", 'p_housingW9':\"W6\",\n",
    " 'p_housingW10':\"W7W8W9\", 'p_housingW11':\"W10\", 'p_housingW12':\"W10\", 'p_housingW13':\"W10\",\n",
    "       'p_housingW14':\"W13\", 'p_housingW15':\"W13\", 'p_housingW16':\"W14W15\", 'p_housingW17':\"W16\",\n",
    "       'p_housingW18':\"W17\", 'p_housingW19':\"W17\",\n",
    " 'p_housingW20':\"W17\",\n",
    "}"
   ]
  },
  {
   "cell_type": "code",
   "execution_count": 233,
   "id": "5d62cd61",
   "metadata": {},
   "outputs": [],
   "source": [
    "\n"
   ]
  },
  {
   "cell_type": "code",
   "execution_count": null,
   "id": "4433ab38",
   "metadata": {},
   "outputs": [],
   "source": []
  },
  {
   "cell_type": "code",
   "execution_count": 215,
   "id": "fc9ce10a",
   "metadata": {},
   "outputs": [],
   "source": []
  },
  {
   "cell_type": "code",
   "execution_count": 217,
   "id": "f56ff126",
   "metadata": {},
   "outputs": [
    {
     "data": {
      "text/plain": [
       "712"
      ]
     },
     "execution_count": 217,
     "metadata": {},
     "output_type": "execute_result"
    }
   ],
   "source": [
    "transition_to.notnull().sum()"
   ]
  },
  {
   "cell_type": "code",
   "execution_count": 218,
   "id": "239cabca",
   "metadata": {},
   "outputs": [
    {
     "data": {
      "text/plain": [
       "517"
      ]
     },
     "execution_count": 218,
     "metadata": {},
     "output_type": "execute_result"
    }
   ],
   "source": [
    "transition_from.notnull().sum()"
   ]
  },
  {
   "cell_type": "code",
   "execution_count": 281,
   "id": "60811a4a",
   "metadata": {},
   "outputs": [],
   "source": [
    "value_replace_dict = {\"Left\":0.0,\"Right\":10.0,\"Authoritarian\":10.0,\"Libertarian\":0.0}"
   ]
  },
  {
   "cell_type": "code",
   "execution_count": 225,
   "id": "4d299057",
   "metadata": {},
   "outputs": [
    {
     "data": {
      "text/plain": [
       "2.5     69\n",
       "3.0     58\n",
       "2.0     46\n",
       "3.5     44\n",
       "1.5     40\n",
       "0.0     34\n",
       "4.5     34\n",
       "4.0     31\n",
       "0.5     30\n",
       "5.0     29\n",
       "1.0     26\n",
       "5.5     20\n",
       "6.5     16\n",
       "7.5     12\n",
       "7.0     11\n",
       "6.0     10\n",
       "8.5      3\n",
       "9.0      2\n",
       "10.0     1\n",
       "9.5      1\n",
       "dtype: int64"
      ]
     },
     "execution_count": 225,
     "metadata": {},
     "output_type": "execute_result"
    }
   ],
   "source": [
    "transition_from.replace(value_replace_dict).value_counts()"
   ]
  },
  {
   "cell_type": "code",
   "execution_count": 226,
   "id": "b237b2d6",
   "metadata": {},
   "outputs": [
    {
     "data": {
      "text/plain": [
       "2.5    85\n",
       "3.0    71\n",
       "2.0    66\n",
       "3.5    57\n",
       "1.5    56\n",
       "5.0    53\n",
       "1.0    45\n",
       "4.0    43\n",
       "4.5    43\n",
       "0.5    42\n",
       "0.0    40\n",
       "5.5    39\n",
       "6.5    23\n",
       "6.0    17\n",
       "7.5    10\n",
       "7.0     9\n",
       "8.0     5\n",
       "9.0     5\n",
       "9.5     2\n",
       "8.5     1\n",
       "dtype: int64"
      ]
     },
     "execution_count": 226,
     "metadata": {},
     "output_type": "execute_result"
    }
   ],
   "source": [
    "transition_to.replace(value_replace_dict).value_counts()"
   ]
  },
  {
   "cell_type": "code",
   "execution_count": 231,
   "id": "c3229954",
   "metadata": {},
   "outputs": [
    {
     "data": {
      "text/plain": [
       "<matplotlib.axes._subplots.AxesSubplot at 0x18433935108>"
      ]
     },
     "execution_count": 231,
     "metadata": {},
     "output_type": "execute_result"
    },
    {
     "data": {
      "image/png": "[encoded data removed]",
      "text/plain": [
       "<Figure size 432x288 with 1 Axes>"
      ]
     },
     "metadata": {},
     "output_type": "display_data"
    }
   ],
   "source": [
    "(transition_to.replace(value_replace_dict)-transition_from.replace(value_replace_dict)).hist(bins=100)"
   ]
  },
  {
   "cell_type": "code",
   "execution_count": null,
   "id": "f9fe1bf6",
   "metadata": {},
   "outputs": [],
   "source": [
    "### not stunning ... but 'compared to' what?\n",
    "\n",
    "### logically, all private renters/private renters who didn't transition"
   ]
  },
  {
   "cell_type": "code",
   "execution_count": 253,
   "id": "4a19964e",
   "metadata": {},
   "outputs": [],
   "source": [
    "transition = \"Private Rent->Private Rent\"\n",
    "rows_with_trans = df_pairs.apply(lambda x: transition in x.values,axis=1)\n",
    "one_and_only_one_trans = df_pairs.apply(lambda x: sum([y not in stable_transitions for y in x.values])==1,axis=1)\n",
    "candidate_indices = df.index[(rows_with_trans&one_and_only_one_trans)]"
   ]
  },
  {
   "cell_type": "code",
   "execution_count": 271,
   "id": "29670509",
   "metadata": {},
   "outputs": [],
   "source": [
    "wave_pairs_sampled = pd.Series(list(zip(transition_from,transition_to))).sample(len(candidate_indices),replace=True)\n",
    "wave_pairs_sampled.index = candidate_indices"
   ]
  },
  {
   "cell_type": "code",
   "execution_count": 272,
   "id": "ecc77f57",
   "metadata": {},
   "outputs": [],
   "source": [
    "transition_from_control = wave_pairs_sampled.apply(lambda x: x[0])\n",
    "transition_to_control = wave_pairs_sampled.apply(lambda x: x[1])"
   ]
  },
  {
   "cell_type": "code",
   "execution_count": 273,
   "id": "52e9e57f",
   "metadata": {},
   "outputs": [],
   "source": [
    "transition_to_control = pd.Series(list(zip(transition_to_control.index,transition_to_control.values))).apply(lambda x: high_gran_values.loc[x[0],\"lr_scale\"+x[1]])\n",
    "transition_from_control = pd.Series(list(zip(transition_from_control.index,transition_from_control.values))).apply(lambda x: high_gran_values.loc[x[0],\"lr_scale\"+x[1]])"
   ]
  },
  {
   "cell_type": "code",
   "execution_count": 274,
   "id": "c3947bbb",
   "metadata": {},
   "outputs": [
    {
     "data": {
      "text/plain": [
       "<matplotlib.axes._subplots.AxesSubplot at 0x184c46d3ac8>"
      ]
     },
     "execution_count": 274,
     "metadata": {},
     "output_type": "execute_result"
    },
    {
     "data": {
      "image/png": "[encoded data removed]",
      "text/plain": [
       "<Figure size 432x288 with 1 Axes>"
      ]
     },
     "metadata": {},
     "output_type": "display_data"
    }
   ],
   "source": [
    "(transition_to_control.replace(value_replace_dict)-transition_from_control.replace(value_replace_dict)).hist(bins=100)"
   ]
  },
  {
   "cell_type": "code",
   "execution_count": 275,
   "id": "cf2d661c",
   "metadata": {},
   "outputs": [
    {
     "data": {
      "text/plain": [
       "0.09142857142857143"
      ]
     },
     "execution_count": 275,
     "metadata": {},
     "output_type": "execute_result"
    }
   ],
   "source": [
    "(transition_to_control.replace(value_replace_dict)-transition_from_control.replace(value_replace_dict)).mean()"
   ]
  },
  {
   "cell_type": "code",
   "execution_count": null,
   "id": "d2fa9bf4",
   "metadata": {},
   "outputs": [],
   "source": []
  },
  {
   "cell_type": "code",
   "execution_count": null,
   "id": "af8a2551",
   "metadata": {},
   "outputs": [],
   "source": []
  },
  {
   "cell_type": "code",
   "execution_count": 232,
   "id": "cbd92c2f",
   "metadata": {},
   "outputs": [
    {
     "data": {
      "text/plain": [
       "-0.028669724770642203"
      ]
     },
     "execution_count": 232,
     "metadata": {},
     "output_type": "execute_result"
    }
   ],
   "source": [
    "(transition_to.replace(value_replace_dict)-transition_from.replace(value_replace_dict)).mean()"
   ]
  },
  {
   "cell_type": "code",
   "execution_count": null,
   "id": "8bda73de",
   "metadata": {},
   "outputs": [],
   "source": [
    "### amalgamated lr_scales are a problem - could we get more granularity by loading and using single wave datasets?"
   ]
  },
  {
   "cell_type": "code",
   "execution_count": 103,
   "id": "586298d7",
   "metadata": {},
   "outputs": [
    {
     "data": {
      "text/html": [
       "<div>\n",
       "<style scoped>\n",
       "    .dataframe tbody tr th:only-of-type {\n",
       "        vertical-align: middle;\n",
       "    }\n",
       "\n",
       "    .dataframe tbody tr th {\n",
       "        vertical-align: top;\n",
       "    }\n",
       "\n",
       "    .dataframe thead th {\n",
       "        text-align: right;\n",
       "    }\n",
       "</style>\n",
       "<table border=\"1\" class=\"dataframe\">\n",
       "  <thead>\n",
       "    <tr style=\"text-align: right;\">\n",
       "      <th></th>\n",
       "      <th>p_housingW1</th>\n",
       "      <th>p_housingW2</th>\n",
       "      <th>p_housingW3</th>\n",
       "      <th>p_housingW4</th>\n",
       "      <th>p_housingW5</th>\n",
       "      <th>p_housingW6</th>\n",
       "      <th>p_housingW7</th>\n",
       "      <th>p_housingW8</th>\n",
       "      <th>p_housingW9</th>\n",
       "      <th>p_housingW10</th>\n",
       "      <th>p_housingW11</th>\n",
       "      <th>p_housingW12</th>\n",
       "      <th>p_housingW13</th>\n",
       "      <th>p_housingW14</th>\n",
       "      <th>p_housingW15</th>\n",
       "      <th>p_housingW16</th>\n",
       "      <th>p_housingW17</th>\n",
       "      <th>p_housingW18</th>\n",
       "      <th>p_housingW19</th>\n",
       "      <th>p_housingW20</th>\n",
       "    </tr>\n",
       "    <tr>\n",
       "      <th>id</th>\n",
       "      <th></th>\n",
       "      <th></th>\n",
       "      <th></th>\n",
       "      <th></th>\n",
       "      <th></th>\n",
       "      <th></th>\n",
       "      <th></th>\n",
       "      <th></th>\n",
       "      <th></th>\n",
       "      <th></th>\n",
       "      <th></th>\n",
       "      <th></th>\n",
       "      <th></th>\n",
       "      <th></th>\n",
       "      <th></th>\n",
       "      <th></th>\n",
       "      <th></th>\n",
       "      <th></th>\n",
       "      <th></th>\n",
       "      <th></th>\n",
       "    </tr>\n",
       "  </thead>\n",
       "  <tbody>\n",
       "    <tr>\n",
       "      <th>1</th>\n",
       "      <td>Own</td>\n",
       "      <td>Own</td>\n",
       "      <td>Own</td>\n",
       "      <td>Own</td>\n",
       "      <td>Own</td>\n",
       "      <td>Own</td>\n",
       "      <td>Own</td>\n",
       "      <td>Own</td>\n",
       "      <td>Own</td>\n",
       "      <td>Own</td>\n",
       "      <td>Own</td>\n",
       "      <td>Own</td>\n",
       "      <td>Own</td>\n",
       "      <td>Own</td>\n",
       "      <td>Own</td>\n",
       "      <td>Own</td>\n",
       "      <td>Own</td>\n",
       "      <td>Own</td>\n",
       "      <td>Own</td>\n",
       "      <td>Own</td>\n",
       "    </tr>\n",
       "    <tr>\n",
       "      <th>2</th>\n",
       "      <td>Own</td>\n",
       "      <td>Own</td>\n",
       "      <td>Own</td>\n",
       "      <td>Own</td>\n",
       "      <td>Own</td>\n",
       "      <td>Own</td>\n",
       "      <td>Own</td>\n",
       "      <td>Own</td>\n",
       "      <td>Own</td>\n",
       "      <td>Own</td>\n",
       "      <td>Own</td>\n",
       "      <td>Own</td>\n",
       "      <td>Own</td>\n",
       "      <td>Own</td>\n",
       "      <td>Own</td>\n",
       "      <td>Own</td>\n",
       "      <td>Own</td>\n",
       "      <td>Own</td>\n",
       "      <td>Own</td>\n",
       "      <td>Own</td>\n",
       "    </tr>\n",
       "    <tr>\n",
       "      <th>3</th>\n",
       "      <td>Own</td>\n",
       "      <td>Own</td>\n",
       "      <td>Own</td>\n",
       "      <td>Own</td>\n",
       "      <td>Own</td>\n",
       "      <td>Own</td>\n",
       "      <td>Own</td>\n",
       "      <td>Own</td>\n",
       "      <td>Own</td>\n",
       "      <td>Own</td>\n",
       "      <td>Own</td>\n",
       "      <td>Own</td>\n",
       "      <td>Own</td>\n",
       "      <td>Own</td>\n",
       "      <td>Own</td>\n",
       "      <td>Own</td>\n",
       "      <td>Own</td>\n",
       "      <td>Own</td>\n",
       "      <td>Mortgage</td>\n",
       "      <td>Mortgage</td>\n",
       "    </tr>\n",
       "    <tr>\n",
       "      <th>4</th>\n",
       "      <td>Mortgage</td>\n",
       "      <td>Mortgage</td>\n",
       "      <td>Mortgage</td>\n",
       "      <td>Mortgage</td>\n",
       "      <td>Mortgage</td>\n",
       "      <td>Mortgage</td>\n",
       "      <td>Mortgage</td>\n",
       "      <td>Mortgage</td>\n",
       "      <td>Mortgage</td>\n",
       "      <td>Mortgage</td>\n",
       "      <td>Mortgage</td>\n",
       "      <td>Mortgage</td>\n",
       "      <td>Mortgage</td>\n",
       "      <td>Mortgage</td>\n",
       "      <td>Mortgage</td>\n",
       "      <td>Mortgage</td>\n",
       "      <td>Mortgage</td>\n",
       "      <td>Mortgage</td>\n",
       "      <td>Mortgage</td>\n",
       "      <td>Mortgage</td>\n",
       "    </tr>\n",
       "    <tr>\n",
       "      <th>5</th>\n",
       "      <td>Own</td>\n",
       "      <td>Own</td>\n",
       "      <td>Own</td>\n",
       "      <td>Own</td>\n",
       "      <td>Own</td>\n",
       "      <td>Own</td>\n",
       "      <td>Own</td>\n",
       "      <td>Own</td>\n",
       "      <td>Own</td>\n",
       "      <td>Own</td>\n",
       "      <td>Own</td>\n",
       "      <td>Own</td>\n",
       "      <td>Own</td>\n",
       "      <td>Own</td>\n",
       "      <td>Own</td>\n",
       "      <td>Own</td>\n",
       "      <td>Own</td>\n",
       "      <td>Own</td>\n",
       "      <td>Own</td>\n",
       "      <td>Own</td>\n",
       "    </tr>\n",
       "    <tr>\n",
       "      <th>...</th>\n",
       "      <td>...</td>\n",
       "      <td>...</td>\n",
       "      <td>...</td>\n",
       "      <td>...</td>\n",
       "      <td>...</td>\n",
       "      <td>...</td>\n",
       "      <td>...</td>\n",
       "      <td>...</td>\n",
       "      <td>...</td>\n",
       "      <td>...</td>\n",
       "      <td>...</td>\n",
       "      <td>...</td>\n",
       "      <td>...</td>\n",
       "      <td>...</td>\n",
       "      <td>...</td>\n",
       "      <td>...</td>\n",
       "      <td>...</td>\n",
       "      <td>...</td>\n",
       "      <td>...</td>\n",
       "      <td>...</td>\n",
       "    </tr>\n",
       "    <tr>\n",
       "      <th>102854</th>\n",
       "      <td>Mortgage</td>\n",
       "      <td>Mortgage</td>\n",
       "      <td>Mortgage</td>\n",
       "      <td>Mortgage</td>\n",
       "      <td>Mortgage</td>\n",
       "      <td>Mortgage</td>\n",
       "      <td>Mortgage</td>\n",
       "      <td>Mortgage</td>\n",
       "      <td>Mortgage</td>\n",
       "      <td>Mortgage</td>\n",
       "      <td>Mortgage</td>\n",
       "      <td>Mortgage</td>\n",
       "      <td>Mortgage</td>\n",
       "      <td>Mortgage</td>\n",
       "      <td>Mortgage</td>\n",
       "      <td>Mortgage</td>\n",
       "      <td>Mortgage</td>\n",
       "      <td>Mortgage</td>\n",
       "      <td>Mortgage</td>\n",
       "      <td>Mortgage</td>\n",
       "    </tr>\n",
       "    <tr>\n",
       "      <th>102855</th>\n",
       "      <td>Own</td>\n",
       "      <td>Own</td>\n",
       "      <td>Own</td>\n",
       "      <td>Own</td>\n",
       "      <td>Own</td>\n",
       "      <td>Own</td>\n",
       "      <td>Own</td>\n",
       "      <td>Own</td>\n",
       "      <td>Own</td>\n",
       "      <td>Own</td>\n",
       "      <td>Own</td>\n",
       "      <td>Own</td>\n",
       "      <td>Own</td>\n",
       "      <td>Own</td>\n",
       "      <td>Own</td>\n",
       "      <td>Own</td>\n",
       "      <td>Own</td>\n",
       "      <td>Own</td>\n",
       "      <td>Own</td>\n",
       "      <td>Own</td>\n",
       "    </tr>\n",
       "    <tr>\n",
       "      <th>102856</th>\n",
       "      <td>Mortgage</td>\n",
       "      <td>Mortgage</td>\n",
       "      <td>Mortgage</td>\n",
       "      <td>Mortgage</td>\n",
       "      <td>Mortgage</td>\n",
       "      <td>Mortgage</td>\n",
       "      <td>Mortgage</td>\n",
       "      <td>Mortgage</td>\n",
       "      <td>Mortgage</td>\n",
       "      <td>Mortgage</td>\n",
       "      <td>Mortgage</td>\n",
       "      <td>Mortgage</td>\n",
       "      <td>Mortgage</td>\n",
       "      <td>Mortgage</td>\n",
       "      <td>Mortgage</td>\n",
       "      <td>Mortgage</td>\n",
       "      <td>Mortgage</td>\n",
       "      <td>Mortgage</td>\n",
       "      <td>Mortgage</td>\n",
       "      <td>Mortgage</td>\n",
       "    </tr>\n",
       "    <tr>\n",
       "      <th>102857</th>\n",
       "      <td>Own</td>\n",
       "      <td>Own</td>\n",
       "      <td>Own</td>\n",
       "      <td>Own</td>\n",
       "      <td>Own</td>\n",
       "      <td>Own</td>\n",
       "      <td>Own</td>\n",
       "      <td>Own</td>\n",
       "      <td>Own</td>\n",
       "      <td>Own</td>\n",
       "      <td>Own</td>\n",
       "      <td>Own</td>\n",
       "      <td>Own</td>\n",
       "      <td>Own</td>\n",
       "      <td>Own</td>\n",
       "      <td>Own</td>\n",
       "      <td>Own</td>\n",
       "      <td>Own</td>\n",
       "      <td>Own</td>\n",
       "      <td>Own</td>\n",
       "    </tr>\n",
       "    <tr>\n",
       "      <th>102858</th>\n",
       "      <td>Own</td>\n",
       "      <td>Own</td>\n",
       "      <td>Own</td>\n",
       "      <td>Own</td>\n",
       "      <td>Own</td>\n",
       "      <td>Own</td>\n",
       "      <td>Own</td>\n",
       "      <td>Own</td>\n",
       "      <td>Own</td>\n",
       "      <td>Own</td>\n",
       "      <td>Own</td>\n",
       "      <td>Own</td>\n",
       "      <td>Own</td>\n",
       "      <td>Own</td>\n",
       "      <td>Own</td>\n",
       "      <td>Own</td>\n",
       "      <td>Own</td>\n",
       "      <td>Own</td>\n",
       "      <td>Own</td>\n",
       "      <td>Own</td>\n",
       "    </tr>\n",
       "  </tbody>\n",
       "</table>\n",
       "<p>97127 rows × 20 columns</p>\n",
       "</div>"
      ],
      "text/plain": [
       "       p_housingW1 p_housingW2 p_housingW3 p_housingW4 p_housingW5  \\\n",
       "id                                                                   \n",
       "1              Own         Own         Own         Own         Own   \n",
       "2              Own         Own         Own         Own         Own   \n",
       "3              Own         Own         Own         Own         Own   \n",
       "4         Mortgage    Mortgage    Mortgage    Mortgage    Mortgage   \n",
       "5              Own         Own         Own         Own         Own   \n",
       "...            ...         ...         ...         ...         ...   \n",
       "102854    Mortgage    Mortgage    Mortgage    Mortgage    Mortgage   \n",
       "102855         Own         Own         Own         Own         Own   \n",
       "102856    Mortgage    Mortgage    Mortgage    Mortgage    Mortgage   \n",
       "102857         Own         Own         Own         Own         Own   \n",
       "102858         Own         Own         Own         Own         Own   \n",
       "\n",
       "       p_housingW6 p_housingW7 p_housingW8 p_housingW9 p_housingW10  \\\n",
       "id                                                                    \n",
       "1              Own         Own         Own         Own          Own   \n",
       "2              Own         Own         Own         Own          Own   \n",
       "3              Own         Own         Own         Own          Own   \n",
       "4         Mortgage    Mortgage    Mortgage    Mortgage     Mortgage   \n",
       "5              Own         Own         Own         Own          Own   \n",
       "...            ...         ...         ...         ...          ...   \n",
       "102854    Mortgage    Mortgage    Mortgage    Mortgage     Mortgage   \n",
       "102855         Own         Own         Own         Own          Own   \n",
       "102856    Mortgage    Mortgage    Mortgage    Mortgage     Mortgage   \n",
       "102857         Own         Own         Own         Own          Own   \n",
       "102858         Own         Own         Own         Own          Own   \n",
       "\n",
       "       p_housingW11 p_housingW12 p_housingW13 p_housingW14 p_housingW15  \\\n",
       "id                                                                        \n",
       "1               Own          Own          Own          Own          Own   \n",
       "2               Own          Own          Own          Own          Own   \n",
       "3               Own          Own          Own          Own          Own   \n",
       "4          Mortgage     Mortgage     Mortgage     Mortgage     Mortgage   \n",
       "5               Own          Own          Own          Own          Own   \n",
       "...             ...          ...          ...          ...          ...   \n",
       "102854     Mortgage     Mortgage     Mortgage     Mortgage     Mortgage   \n",
       "102855          Own          Own          Own          Own          Own   \n",
       "102856     Mortgage     Mortgage     Mortgage     Mortgage     Mortgage   \n",
       "102857          Own          Own          Own          Own          Own   \n",
       "102858          Own          Own          Own          Own          Own   \n",
       "\n",
       "       p_housingW16 p_housingW17 p_housingW18 p_housingW19 p_housingW20  \n",
       "id                                                                       \n",
       "1               Own          Own          Own          Own          Own  \n",
       "2               Own          Own          Own          Own          Own  \n",
       "3               Own          Own          Own     Mortgage     Mortgage  \n",
       "4          Mortgage     Mortgage     Mortgage     Mortgage     Mortgage  \n",
       "5               Own          Own          Own          Own          Own  \n",
       "...             ...          ...          ...          ...          ...  \n",
       "102854     Mortgage     Mortgage     Mortgage     Mortgage     Mortgage  \n",
       "102855          Own          Own          Own          Own          Own  \n",
       "102856     Mortgage     Mortgage     Mortgage     Mortgage     Mortgage  \n",
       "102857          Own          Own          Own          Own          Own  \n",
       "102858          Own          Own          Own          Own          Own  \n",
       "\n",
       "[97127 rows x 20 columns]"
      ]
     },
     "execution_count": 103,
     "metadata": {},
     "output_type": "execute_result"
    }
   ],
   "source": [
    "### lazy version first where we ignore 'gaps'"
   ]
  },
  {
   "cell_type": "code",
   "execution_count": null,
   "id": "d0136686",
   "metadata": {},
   "outputs": [],
   "source": []
  },
  {
   "cell_type": "code",
   "execution_count": null,
   "id": "f2c83a3b",
   "metadata": {},
   "outputs": [],
   "source": []
  },
  {
   "cell_type": "code",
   "execution_count": 199,
   "id": "b8af240f",
   "metadata": {},
   "outputs": [
    {
     "data": {
      "text/html": [
       "<div>\n",
       "<style scoped>\n",
       "    .dataframe tbody tr th:only-of-type {\n",
       "        vertical-align: middle;\n",
       "    }\n",
       "\n",
       "    .dataframe tbody tr th {\n",
       "        vertical-align: top;\n",
       "    }\n",
       "\n",
       "    .dataframe thead th {\n",
       "        text-align: right;\n",
       "    }\n",
       "</style>\n",
       "<table border=\"1\" class=\"dataframe\">\n",
       "  <thead>\n",
       "    <tr style=\"text-align: right;\">\n",
       "      <th></th>\n",
       "      <th>starttime</th>\n",
       "      <th>endtime</th>\n",
       "      <th>wt</th>\n",
       "      <th>turnoutUKGeneral</th>\n",
       "      <th>generalElectionVote</th>\n",
       "      <th>partyIdStrength</th>\n",
       "      <th>partyId</th>\n",
       "      <th>partyIdSqueeze</th>\n",
       "      <th>mii</th>\n",
       "      <th>bestOnMII</th>\n",
       "      <th>...</th>\n",
       "      <th>p_welsh_const_vote_2016</th>\n",
       "      <th>p_welsh_list_vote_2016</th>\n",
       "      <th>p_eurefvote</th>\n",
       "      <th>p_vote_scot_ref</th>\n",
       "      <th>p_turnout_2010</th>\n",
       "      <th>p_turnout_2005</th>\n",
       "      <th>p_turnout_scot_ref</th>\n",
       "      <th>p_edlevel</th>\n",
       "      <th>p_edlevelUni</th>\n",
       "      <th>p_eurefturnout</th>\n",
       "    </tr>\n",
       "    <tr>\n",
       "      <th>id</th>\n",
       "      <th></th>\n",
       "      <th></th>\n",
       "      <th></th>\n",
       "      <th></th>\n",
       "      <th></th>\n",
       "      <th></th>\n",
       "      <th></th>\n",
       "      <th></th>\n",
       "      <th></th>\n",
       "      <th></th>\n",
       "      <th></th>\n",
       "      <th></th>\n",
       "      <th></th>\n",
       "      <th></th>\n",
       "      <th></th>\n",
       "      <th></th>\n",
       "      <th></th>\n",
       "      <th></th>\n",
       "      <th></th>\n",
       "      <th></th>\n",
       "      <th></th>\n",
       "    </tr>\n",
       "  </thead>\n",
       "  <tbody>\n",
       "    <tr>\n",
       "      <th>2</th>\n",
       "      <td>2020-06-12 18:51:16.172</td>\n",
       "      <td>2020-06-12 19:39:46.236</td>\n",
       "      <td>0.661776</td>\n",
       "      <td>Very likely that I would vote</td>\n",
       "      <td>Conservative</td>\n",
       "      <td>Not very strong</td>\n",
       "      <td>Conservative</td>\n",
       "      <td>NaN</td>\n",
       "      <td>Issue stated</td>\n",
       "      <td>No party is best able to handle this issue</td>\n",
       "      <td>...</td>\n",
       "      <td>NaN</td>\n",
       "      <td>NaN</td>\n",
       "      <td>I voted to leave</td>\n",
       "      <td>NaN</td>\n",
       "      <td>Yes, I voted</td>\n",
       "      <td>Yes, I voted</td>\n",
       "      <td>NaN</td>\n",
       "      <td>Undergraduate</td>\n",
       "      <td>Undergraduate</td>\n",
       "      <td>Yes, voted</td>\n",
       "    </tr>\n",
       "    <tr>\n",
       "      <th>7</th>\n",
       "      <td>2020-06-17 22:02:31.727</td>\n",
       "      <td>2020-06-17 22:45:23.824</td>\n",
       "      <td>0.555841</td>\n",
       "      <td>Very likely that I would vote</td>\n",
       "      <td>Scottish National Party (SNP)</td>\n",
       "      <td>Very strong</td>\n",
       "      <td>Scottish National Party (SNP)</td>\n",
       "      <td>NaN</td>\n",
       "      <td>Issue stated</td>\n",
       "      <td>Scottish National Party (SNP)</td>\n",
       "      <td>...</td>\n",
       "      <td>NaN</td>\n",
       "      <td>NaN</td>\n",
       "      <td>I voted to remain</td>\n",
       "      <td>Voted no</td>\n",
       "      <td>Yes, I voted</td>\n",
       "      <td>Yes, I voted</td>\n",
       "      <td>Yes, I voted</td>\n",
       "      <td>A-level</td>\n",
       "      <td>A-level</td>\n",
       "      <td>Yes, voted</td>\n",
       "    </tr>\n",
       "    <tr>\n",
       "      <th>8</th>\n",
       "      <td>2020-06-20 14:10:28.128</td>\n",
       "      <td>2020-06-20 15:44:19.532</td>\n",
       "      <td>0.681199</td>\n",
       "      <td>Very likely that I would vote</td>\n",
       "      <td>Conservative</td>\n",
       "      <td>Not very strong</td>\n",
       "      <td>Conservative</td>\n",
       "      <td>NaN</td>\n",
       "      <td>Issue stated</td>\n",
       "      <td>Conservative</td>\n",
       "      <td>...</td>\n",
       "      <td>NaN</td>\n",
       "      <td>NaN</td>\n",
       "      <td>I voted to leave</td>\n",
       "      <td>NaN</td>\n",
       "      <td>Yes, I voted</td>\n",
       "      <td>Yes, I voted</td>\n",
       "      <td>NaN</td>\n",
       "      <td>NaN</td>\n",
       "      <td>A-level</td>\n",
       "      <td>Yes, voted</td>\n",
       "    </tr>\n",
       "    <tr>\n",
       "      <th>9</th>\n",
       "      <td>2020-06-16 10:55:19.241</td>\n",
       "      <td>2020-06-16 11:19:23.716</td>\n",
       "      <td>0.777926</td>\n",
       "      <td>Very likely that I would vote</td>\n",
       "      <td>Conservative</td>\n",
       "      <td>Not very strong</td>\n",
       "      <td>No - none</td>\n",
       "      <td>Conservative</td>\n",
       "      <td>Issue stated</td>\n",
       "      <td>Conservative</td>\n",
       "      <td>...</td>\n",
       "      <td>Labour</td>\n",
       "      <td>Labour</td>\n",
       "      <td>I voted to remain</td>\n",
       "      <td>Voted no</td>\n",
       "      <td>Yes, I voted</td>\n",
       "      <td>Yes, I voted</td>\n",
       "      <td>Yes, I voted</td>\n",
       "      <td>Undergraduate</td>\n",
       "      <td>Undergraduate</td>\n",
       "      <td>Yes, voted</td>\n",
       "    </tr>\n",
       "    <tr>\n",
       "      <th>15</th>\n",
       "      <td>2020-06-12 18:51:04.627</td>\n",
       "      <td>2020-06-12 19:19:29.900</td>\n",
       "      <td>0.748275</td>\n",
       "      <td>Very likely that I would vote</td>\n",
       "      <td>Conservative</td>\n",
       "      <td>Very strong</td>\n",
       "      <td>Conservative</td>\n",
       "      <td>NaN</td>\n",
       "      <td>Issue stated</td>\n",
       "      <td>Conservative</td>\n",
       "      <td>...</td>\n",
       "      <td>NaN</td>\n",
       "      <td>NaN</td>\n",
       "      <td>I voted to leave</td>\n",
       "      <td>NaN</td>\n",
       "      <td>Yes, I voted</td>\n",
       "      <td>Yes, I voted</td>\n",
       "      <td>NaN</td>\n",
       "      <td>Undergraduate</td>\n",
       "      <td>Undergraduate</td>\n",
       "      <td>Yes, voted</td>\n",
       "    </tr>\n",
       "    <tr>\n",
       "      <th>...</th>\n",
       "      <td>...</td>\n",
       "      <td>...</td>\n",
       "      <td>...</td>\n",
       "      <td>...</td>\n",
       "      <td>...</td>\n",
       "      <td>...</td>\n",
       "      <td>...</td>\n",
       "      <td>...</td>\n",
       "      <td>...</td>\n",
       "      <td>...</td>\n",
       "      <td>...</td>\n",
       "      <td>...</td>\n",
       "      <td>...</td>\n",
       "      <td>...</td>\n",
       "      <td>...</td>\n",
       "      <td>...</td>\n",
       "      <td>...</td>\n",
       "      <td>...</td>\n",
       "      <td>...</td>\n",
       "      <td>...</td>\n",
       "      <td>...</td>\n",
       "    </tr>\n",
       "    <tr>\n",
       "      <th>102854</th>\n",
       "      <td>2020-06-15 12:20:11.539</td>\n",
       "      <td>2020-06-15 12:48:48.355</td>\n",
       "      <td>0.539279</td>\n",
       "      <td>Very likely that I would vote</td>\n",
       "      <td>Labour</td>\n",
       "      <td>Very strong</td>\n",
       "      <td>Labour</td>\n",
       "      <td>NaN</td>\n",
       "      <td>Issue stated</td>\n",
       "      <td>Labour</td>\n",
       "      <td>...</td>\n",
       "      <td>NaN</td>\n",
       "      <td>NaN</td>\n",
       "      <td>I voted to remain</td>\n",
       "      <td>Voted no</td>\n",
       "      <td>Yes, I voted</td>\n",
       "      <td>Yes, I voted</td>\n",
       "      <td>Yes, I voted</td>\n",
       "      <td>Undergraduate</td>\n",
       "      <td>Undergraduate</td>\n",
       "      <td>Yes, voted</td>\n",
       "    </tr>\n",
       "    <tr>\n",
       "      <th>102855</th>\n",
       "      <td>2020-06-12 15:15:27.640</td>\n",
       "      <td>2020-06-12 15:36:47.055</td>\n",
       "      <td>0.589397</td>\n",
       "      <td>Very likely that I would vote</td>\n",
       "      <td>Labour</td>\n",
       "      <td>Not very strong</td>\n",
       "      <td>Conservative</td>\n",
       "      <td>NaN</td>\n",
       "      <td>Issue stated</td>\n",
       "      <td>Labour</td>\n",
       "      <td>...</td>\n",
       "      <td>NaN</td>\n",
       "      <td>NaN</td>\n",
       "      <td>I voted to remain</td>\n",
       "      <td>NaN</td>\n",
       "      <td>Yes, I voted</td>\n",
       "      <td>Yes, I voted</td>\n",
       "      <td>NaN</td>\n",
       "      <td>Undergraduate</td>\n",
       "      <td>Undergraduate</td>\n",
       "      <td>Yes, voted</td>\n",
       "    </tr>\n",
       "    <tr>\n",
       "      <th>102856</th>\n",
       "      <td>2020-06-14 15:09:22.901</td>\n",
       "      <td>2020-06-14 15:25:23.707</td>\n",
       "      <td>0.699022</td>\n",
       "      <td>Very likely that I would vote</td>\n",
       "      <td>Labour</td>\n",
       "      <td>Fairly strong</td>\n",
       "      <td>Labour</td>\n",
       "      <td>NaN</td>\n",
       "      <td>Issue stated</td>\n",
       "      <td>Labour</td>\n",
       "      <td>...</td>\n",
       "      <td>NaN</td>\n",
       "      <td>NaN</td>\n",
       "      <td>I voted to remain</td>\n",
       "      <td>NaN</td>\n",
       "      <td>Yes, I voted</td>\n",
       "      <td>Yes, I voted</td>\n",
       "      <td>NaN</td>\n",
       "      <td>Undergraduate</td>\n",
       "      <td>Undergraduate</td>\n",
       "      <td>Yes, voted</td>\n",
       "    </tr>\n",
       "    <tr>\n",
       "      <th>102857</th>\n",
       "      <td>2020-06-12 09:48:31.828</td>\n",
       "      <td>2020-06-12 10:13:56.161</td>\n",
       "      <td>0.628405</td>\n",
       "      <td>Very likely that I would vote</td>\n",
       "      <td>Conservative</td>\n",
       "      <td>Fairly strong</td>\n",
       "      <td>Conservative</td>\n",
       "      <td>NaN</td>\n",
       "      <td>Issue stated</td>\n",
       "      <td>No party is best able to handle this issue</td>\n",
       "      <td>...</td>\n",
       "      <td>NaN</td>\n",
       "      <td>NaN</td>\n",
       "      <td>I voted to remain</td>\n",
       "      <td>NaN</td>\n",
       "      <td>Yes, I voted</td>\n",
       "      <td>Yes, I voted</td>\n",
       "      <td>NaN</td>\n",
       "      <td>Undergraduate</td>\n",
       "      <td>Undergraduate</td>\n",
       "      <td>Yes, voted</td>\n",
       "    </tr>\n",
       "    <tr>\n",
       "      <th>102858</th>\n",
       "      <td>2020-06-14 12:14:47.352</td>\n",
       "      <td>2020-06-14 12:44:30.379</td>\n",
       "      <td>0.988571</td>\n",
       "      <td>Very likely that I would vote</td>\n",
       "      <td>Conservative</td>\n",
       "      <td>Fairly strong</td>\n",
       "      <td>Conservative</td>\n",
       "      <td>NaN</td>\n",
       "      <td>Issue stated</td>\n",
       "      <td>Conservative</td>\n",
       "      <td>...</td>\n",
       "      <td>NaN</td>\n",
       "      <td>NaN</td>\n",
       "      <td>I voted to remain</td>\n",
       "      <td>NaN</td>\n",
       "      <td>Yes, I voted</td>\n",
       "      <td>Yes, I voted</td>\n",
       "      <td>No, I did not vote</td>\n",
       "      <td>A-level</td>\n",
       "      <td>A-level</td>\n",
       "      <td>Yes, voted</td>\n",
       "    </tr>\n",
       "  </tbody>\n",
       "</table>\n",
       "<p>31468 rows × 463 columns</p>\n",
       "</div>"
      ],
      "text/plain": [
       "                     starttime                 endtime        wt  \\\n",
       "id                                                                 \n",
       "2      2020-06-12 18:51:16.172 2020-06-12 19:39:46.236  0.661776   \n",
       "7      2020-06-17 22:02:31.727 2020-06-17 22:45:23.824  0.555841   \n",
       "8      2020-06-20 14:10:28.128 2020-06-20 15:44:19.532  0.681199   \n",
       "9      2020-06-16 10:55:19.241 2020-06-16 11:19:23.716  0.777926   \n",
       "15     2020-06-12 18:51:04.627 2020-06-12 19:19:29.900  0.748275   \n",
       "...                        ...                     ...       ...   \n",
       "102854 2020-06-15 12:20:11.539 2020-06-15 12:48:48.355  0.539279   \n",
       "102855 2020-06-12 15:15:27.640 2020-06-12 15:36:47.055  0.589397   \n",
       "102856 2020-06-14 15:09:22.901 2020-06-14 15:25:23.707  0.699022   \n",
       "102857 2020-06-12 09:48:31.828 2020-06-12 10:13:56.161  0.628405   \n",
       "102858 2020-06-14 12:14:47.352 2020-06-14 12:44:30.379  0.988571   \n",
       "\n",
       "                     turnoutUKGeneral            generalElectionVote  \\\n",
       "id                                                                     \n",
       "2       Very likely that I would vote                   Conservative   \n",
       "7       Very likely that I would vote  Scottish National Party (SNP)   \n",
       "8       Very likely that I would vote                   Conservative   \n",
       "9       Very likely that I would vote                   Conservative   \n",
       "15      Very likely that I would vote                   Conservative   \n",
       "...                               ...                            ...   \n",
       "102854  Very likely that I would vote                         Labour   \n",
       "102855  Very likely that I would vote                         Labour   \n",
       "102856  Very likely that I would vote                         Labour   \n",
       "102857  Very likely that I would vote                   Conservative   \n",
       "102858  Very likely that I would vote                   Conservative   \n",
       "\n",
       "        partyIdStrength                        partyId partyIdSqueeze  \\\n",
       "id                                                                      \n",
       "2       Not very strong                   Conservative            NaN   \n",
       "7           Very strong  Scottish National Party (SNP)            NaN   \n",
       "8       Not very strong                   Conservative            NaN   \n",
       "9       Not very strong                      No - none   Conservative   \n",
       "15          Very strong                   Conservative            NaN   \n",
       "...                 ...                            ...            ...   \n",
       "102854      Very strong                         Labour            NaN   \n",
       "102855  Not very strong                   Conservative            NaN   \n",
       "102856    Fairly strong                         Labour            NaN   \n",
       "102857    Fairly strong                   Conservative            NaN   \n",
       "102858    Fairly strong                   Conservative            NaN   \n",
       "\n",
       "                 mii                                   bestOnMII  ...  \\\n",
       "id                                                                ...   \n",
       "2       Issue stated  No party is best able to handle this issue  ...   \n",
       "7       Issue stated               Scottish National Party (SNP)  ...   \n",
       "8       Issue stated                                Conservative  ...   \n",
       "9       Issue stated                                Conservative  ...   \n",
       "15      Issue stated                                Conservative  ...   \n",
       "...              ...                                         ...  ...   \n",
       "102854  Issue stated                                      Labour  ...   \n",
       "102855  Issue stated                                      Labour  ...   \n",
       "102856  Issue stated                                      Labour  ...   \n",
       "102857  Issue stated  No party is best able to handle this issue  ...   \n",
       "102858  Issue stated                                Conservative  ...   \n",
       "\n",
       "       p_welsh_const_vote_2016 p_welsh_list_vote_2016        p_eurefvote  \\\n",
       "id                                                                         \n",
       "2                          NaN                    NaN   I voted to leave   \n",
       "7                          NaN                    NaN  I voted to remain   \n",
       "8                          NaN                    NaN   I voted to leave   \n",
       "9                       Labour                 Labour  I voted to remain   \n",
       "15                         NaN                    NaN   I voted to leave   \n",
       "...                        ...                    ...                ...   \n",
       "102854                     NaN                    NaN  I voted to remain   \n",
       "102855                     NaN                    NaN  I voted to remain   \n",
       "102856                     NaN                    NaN  I voted to remain   \n",
       "102857                     NaN                    NaN  I voted to remain   \n",
       "102858                     NaN                    NaN  I voted to remain   \n",
       "\n",
       "       p_vote_scot_ref p_turnout_2010 p_turnout_2005  p_turnout_scot_ref  \\\n",
       "id                                                                         \n",
       "2                  NaN   Yes, I voted   Yes, I voted                 NaN   \n",
       "7             Voted no   Yes, I voted   Yes, I voted        Yes, I voted   \n",
       "8                  NaN   Yes, I voted   Yes, I voted                 NaN   \n",
       "9             Voted no   Yes, I voted   Yes, I voted        Yes, I voted   \n",
       "15                 NaN   Yes, I voted   Yes, I voted                 NaN   \n",
       "...                ...            ...            ...                 ...   \n",
       "102854        Voted no   Yes, I voted   Yes, I voted        Yes, I voted   \n",
       "102855             NaN   Yes, I voted   Yes, I voted                 NaN   \n",
       "102856             NaN   Yes, I voted   Yes, I voted                 NaN   \n",
       "102857             NaN   Yes, I voted   Yes, I voted                 NaN   \n",
       "102858             NaN   Yes, I voted   Yes, I voted  No, I did not vote   \n",
       "\n",
       "            p_edlevel   p_edlevelUni p_eurefturnout  \n",
       "id                                                   \n",
       "2       Undergraduate  Undergraduate     Yes, voted  \n",
       "7             A-level        A-level     Yes, voted  \n",
       "8                 NaN        A-level     Yes, voted  \n",
       "9       Undergraduate  Undergraduate     Yes, voted  \n",
       "15      Undergraduate  Undergraduate     Yes, voted  \n",
       "...               ...            ...            ...  \n",
       "102854  Undergraduate  Undergraduate     Yes, voted  \n",
       "102855  Undergraduate  Undergraduate     Yes, voted  \n",
       "102856  Undergraduate  Undergraduate     Yes, voted  \n",
       "102857  Undergraduate  Undergraduate     Yes, voted  \n",
       "102858        A-level        A-level     Yes, voted  \n",
       "\n",
       "[31468 rows x 463 columns]"
      ]
     },
     "execution_count": 199,
     "metadata": {},
     "output_type": "execute_result"
    }
   ],
   "source": [
    "BES_Panel"
   ]
  },
  {
   "cell_type": "code",
   "execution_count": 141,
   "id": "269162d0",
   "metadata": {},
   "outputs": [],
   "source": [
    "del high_gran_values"
   ]
  },
  {
   "cell_type": "code",
   "execution_count": 204,
   "id": "85e85d8d",
   "metadata": {},
   "outputs": [
    {
     "ename": "SyntaxError",
     "evalue": "invalid syntax (<ipython-input-204-f6642e6e64c7>, line 1)",
     "output_type": "error",
     "traceback": [
      "\u001b[1;36m  File \u001b[1;32m\"<ipython-input-204-f6642e6e64c7>\"\u001b[1;36m, line \u001b[1;32m1\u001b[0m\n\u001b[1;33m    BES_PanelW20_comb[]\u001b[0m\n\u001b[1;37m                      ^\u001b[0m\n\u001b[1;31mSyntaxError\u001b[0m\u001b[1;31m:\u001b[0m invalid syntax\n"
     ]
    }
   ],
   "source": [
    "# BES_PanelW20_comb"
   ]
  },
  {
   "cell_type": "code",
   "execution_count": 205,
   "id": "4f3739c5",
   "metadata": {},
   "outputs": [
    {
     "data": {
      "text/html": [
       "<script>jQuery(function() {if (jQuery(\"body.notebook_app\").length == 0) { jQuery(\".input_area\").toggle(); jQuery(\".prompt\").toggle();}});</script>"
      ]
     },
     "metadata": {},
     "output_type": "display_data"
    },
    {
     "data": {
      "text/html": [
       "<button onclick=\"jQuery('.input_area').toggle(); jQuery('.prompt').toggle();\">Toggle code</button>"
      ]
     },
     "metadata": {},
     "output_type": "display_data"
    },
    {
     "name": "stdout",
     "output_type": "stream",
     "text": [
      "W1_only\n",
      "Index(['lr1', 'lr2', 'lr3', 'lr4', 'lr5', 'al1', 'al2', 'al3', 'al4', 'al5',\n",
      "       'lr_scale', 'al_scale'],\n",
      "      dtype='object')\n"
     ]
    },
    {
     "data": {
      "text/html": [
       "<script>jQuery(function() {if (jQuery(\"body.notebook_app\").length == 0) { jQuery(\".input_area\").toggle(); jQuery(\".prompt\").toggle();}});</script>"
      ]
     },
     "metadata": {},
     "output_type": "display_data"
    },
    {
     "data": {
      "text/html": [
       "<button onclick=\"jQuery('.input_area').toggle(); jQuery('.prompt').toggle();\">Toggle code</button>"
      ]
     },
     "metadata": {},
     "output_type": "display_data"
    },
    {
     "name": "stdout",
     "output_type": "stream",
     "text": [
      "W2_only\n",
      "Index(['lr1', 'lr2', 'lr3', 'lr4', 'lr5', 'al1', 'al2', 'al3', 'al4', 'al5',\n",
      "       'lr_scale', 'al_scale'],\n",
      "      dtype='object')\n"
     ]
    },
    {
     "data": {
      "text/html": [
       "<script>jQuery(function() {if (jQuery(\"body.notebook_app\").length == 0) { jQuery(\".input_area\").toggle(); jQuery(\".prompt\").toggle();}});</script>"
      ]
     },
     "metadata": {},
     "output_type": "display_data"
    },
    {
     "data": {
      "text/html": [
       "<button onclick=\"jQuery('.input_area').toggle(); jQuery('.prompt').toggle();\">Toggle code</button>"
      ]
     },
     "metadata": {},
     "output_type": "display_data"
    },
    {
     "name": "stdout",
     "output_type": "stream",
     "text": [
      "W3_only\n",
      "Index(['lr1', 'lr2', 'lr3', 'lr4', 'lr5', 'al1', 'al2', 'al3', 'al4', 'al5',\n",
      "       'lr_scale', 'al_scale'],\n",
      "      dtype='object')\n"
     ]
    },
    {
     "data": {
      "text/html": [
       "<script>jQuery(function() {if (jQuery(\"body.notebook_app\").length == 0) { jQuery(\".input_area\").toggle(); jQuery(\".prompt\").toggle();}});</script>"
      ]
     },
     "metadata": {},
     "output_type": "display_data"
    },
    {
     "data": {
      "text/html": [
       "<button onclick=\"jQuery('.input_area').toggle(); jQuery('.prompt').toggle();\">Toggle code</button>"
      ]
     },
     "metadata": {},
     "output_type": "display_data"
    },
    {
     "name": "stdout",
     "output_type": "stream",
     "text": [
      "W4_only\n",
      "Index(['lr1', 'lr2', 'lr3', 'lr4', 'lr5', 'al1', 'al2', 'al3', 'al4', 'al5',\n",
      "       'lr_scale', 'al_scale'],\n",
      "      dtype='object')\n"
     ]
    },
    {
     "data": {
      "text/html": [
       "<script>jQuery(function() {if (jQuery(\"body.notebook_app\").length == 0) { jQuery(\".input_area\").toggle(); jQuery(\".prompt\").toggle();}});</script>"
      ]
     },
     "metadata": {},
     "output_type": "display_data"
    },
    {
     "data": {
      "text/html": [
       "<button onclick=\"jQuery('.input_area').toggle(); jQuery('.prompt').toggle();\">Toggle code</button>"
      ]
     },
     "metadata": {},
     "output_type": "display_data"
    },
    {
     "name": "stdout",
     "output_type": "stream",
     "text": [
      "W5_only\n",
      "Index(['lr1', 'lr2', 'lr3', 'lr4', 'lr5', 'al1', 'al2', 'al3', 'al4', 'al5',\n",
      "       'lr_scale', 'al_scale'],\n",
      "      dtype='object')\n"
     ]
    },
    {
     "data": {
      "text/html": [
       "<script>jQuery(function() {if (jQuery(\"body.notebook_app\").length == 0) { jQuery(\".input_area\").toggle(); jQuery(\".prompt\").toggle();}});</script>"
      ]
     },
     "metadata": {},
     "output_type": "display_data"
    },
    {
     "data": {
      "text/html": [
       "<button onclick=\"jQuery('.input_area').toggle(); jQuery('.prompt').toggle();\">Toggle code</button>"
      ]
     },
     "metadata": {},
     "output_type": "display_data"
    },
    {
     "name": "stdout",
     "output_type": "stream",
     "text": [
      "W6_only\n",
      "Index(['lr1', 'lr2', 'lr3', 'lr4', 'lr5', 'al1', 'al2', 'al3', 'al4', 'al5',\n",
      "       'lr_scale', 'al_scale'],\n",
      "      dtype='object')\n"
     ]
    },
    {
     "data": {
      "text/html": [
       "<script>jQuery(function() {if (jQuery(\"body.notebook_app\").length == 0) { jQuery(\".input_area\").toggle(); jQuery(\".prompt\").toggle();}});</script>"
      ]
     },
     "metadata": {},
     "output_type": "display_data"
    },
    {
     "data": {
      "text/html": [
       "<button onclick=\"jQuery('.input_area').toggle(); jQuery('.prompt').toggle();\">Toggle code</button>"
      ]
     },
     "metadata": {},
     "output_type": "display_data"
    },
    {
     "name": "stdout",
     "output_type": "stream",
     "text": [
      "W7_only\n",
      "Index([], dtype='object')\n"
     ]
    },
    {
     "data": {
      "text/html": [
       "<script>jQuery(function() {if (jQuery(\"body.notebook_app\").length == 0) { jQuery(\".input_area\").toggle(); jQuery(\".prompt\").toggle();}});</script>"
      ]
     },
     "metadata": {},
     "output_type": "display_data"
    },
    {
     "data": {
      "text/html": [
       "<button onclick=\"jQuery('.input_area').toggle(); jQuery('.prompt').toggle();\">Toggle code</button>"
      ]
     },
     "metadata": {},
     "output_type": "display_data"
    },
    {
     "name": "stdout",
     "output_type": "stream",
     "text": [
      "W8_only\n",
      "Index(['lr1', 'lr2', 'lr3', 'lr4', 'lr5', 'al1', 'al2', 'al3', 'al4', 'al5',\n",
      "       'lr_scale', 'al_scale'],\n",
      "      dtype='object')\n"
     ]
    },
    {
     "data": {
      "text/html": [
       "<script>jQuery(function() {if (jQuery(\"body.notebook_app\").length == 0) { jQuery(\".input_area\").toggle(); jQuery(\".prompt\").toggle();}});</script>"
      ]
     },
     "metadata": {},
     "output_type": "display_data"
    },
    {
     "data": {
      "text/html": [
       "<button onclick=\"jQuery('.input_area').toggle(); jQuery('.prompt').toggle();\">Toggle code</button>"
      ]
     },
     "metadata": {},
     "output_type": "display_data"
    },
    {
     "name": "stdout",
     "output_type": "stream",
     "text": [
      "W9_only\n",
      "Index(['lr1W7W8W9', 'lr2W7W8W9', 'lr3W7W8W9', 'lr4W7W8W9', 'lr5W7W8W9',\n",
      "       'al1W7W8W9', 'al2W7W8W9', 'al3W7W8W9', 'al4W7W8W9', 'al5W7W8W9',\n",
      "       'lr_scaleW7W8W9', 'al_scaleW7W8W9'],\n",
      "      dtype='object')\n"
     ]
    },
    {
     "data": {
      "text/html": [
       "<script>jQuery(function() {if (jQuery(\"body.notebook_app\").length == 0) { jQuery(\".input_area\").toggle(); jQuery(\".prompt\").toggle();}});</script>"
      ]
     },
     "metadata": {},
     "output_type": "display_data"
    },
    {
     "data": {
      "text/html": [
       "<button onclick=\"jQuery('.input_area').toggle(); jQuery('.prompt').toggle();\">Toggle code</button>"
      ]
     },
     "metadata": {},
     "output_type": "display_data"
    },
    {
     "name": "stdout",
     "output_type": "stream",
     "text": [
      "W10_only\n",
      "Index(['lr1W17', 'lr2W17', 'lr3W17', 'lr4W17', 'lr5W17', 'al1W17', 'al2W17',\n",
      "       'al3W17', 'al4W17', 'al5W17', 'lr1', 'lr2', 'lr3', 'lr4', 'lr5', 'al1',\n",
      "       'al2', 'al3', 'al4', 'al5', 'lr_scale', 'al_scale', 'lr_scaleW17',\n",
      "       'al_scaleW17'],\n",
      "      dtype='object')\n"
     ]
    },
    {
     "data": {
      "text/html": [
       "<script>jQuery(function() {if (jQuery(\"body.notebook_app\").length == 0) { jQuery(\".input_area\").toggle(); jQuery(\".prompt\").toggle();}});</script>"
      ]
     },
     "metadata": {},
     "output_type": "display_data"
    },
    {
     "data": {
      "text/html": [
       "<button onclick=\"jQuery('.input_area').toggle(); jQuery('.prompt').toggle();\">Toggle code</button>"
      ]
     },
     "metadata": {},
     "output_type": "display_data"
    },
    {
     "name": "stdout",
     "output_type": "stream",
     "text": [
      "W11_only\n",
      "Index([], dtype='object')\n"
     ]
    },
    {
     "data": {
      "text/html": [
       "<script>jQuery(function() {if (jQuery(\"body.notebook_app\").length == 0) { jQuery(\".input_area\").toggle(); jQuery(\".prompt\").toggle();}});</script>"
      ]
     },
     "metadata": {},
     "output_type": "display_data"
    },
    {
     "data": {
      "text/html": [
       "<button onclick=\"jQuery('.input_area').toggle(); jQuery('.prompt').toggle();\">Toggle code</button>"
      ]
     },
     "metadata": {},
     "output_type": "display_data"
    },
    {
     "name": "stdout",
     "output_type": "stream",
     "text": [
      "W12_only\n",
      "Index([], dtype='object')\n"
     ]
    },
    {
     "data": {
      "text/html": [
       "<script>jQuery(function() {if (jQuery(\"body.notebook_app\").length == 0) { jQuery(\".input_area\").toggle(); jQuery(\".prompt\").toggle();}});</script>"
      ]
     },
     "metadata": {},
     "output_type": "display_data"
    },
    {
     "data": {
      "text/html": [
       "<button onclick=\"jQuery('.input_area').toggle(); jQuery('.prompt').toggle();\">Toggle code</button>"
      ]
     },
     "metadata": {},
     "output_type": "display_data"
    },
    {
     "name": "stdout",
     "output_type": "stream",
     "text": [
      "W13_only\n",
      "Index(['lr1', 'lr2', 'lr3', 'lr4', 'lr5', 'al1', 'al2', 'al3', 'al4', 'al5',\n",
      "       'lr_scale', 'al_scale'],\n",
      "      dtype='object')\n"
     ]
    },
    {
     "data": {
      "text/html": [
       "<script>jQuery(function() {if (jQuery(\"body.notebook_app\").length == 0) { jQuery(\".input_area\").toggle(); jQuery(\".prompt\").toggle();}});</script>"
      ]
     },
     "metadata": {},
     "output_type": "display_data"
    },
    {
     "data": {
      "text/html": [
       "<button onclick=\"jQuery('.input_area').toggle(); jQuery('.prompt').toggle();\">Toggle code</button>"
      ]
     },
     "metadata": {},
     "output_type": "display_data"
    },
    {
     "name": "stdout",
     "output_type": "stream",
     "text": [
      "W14_only\n",
      "Index([], dtype='object')\n"
     ]
    },
    {
     "data": {
      "text/html": [
       "<script>jQuery(function() {if (jQuery(\"body.notebook_app\").length == 0) { jQuery(\".input_area\").toggle(); jQuery(\".prompt\").toggle();}});</script>"
      ]
     },
     "metadata": {},
     "output_type": "display_data"
    },
    {
     "data": {
      "text/html": [
       "<button onclick=\"jQuery('.input_area').toggle(); jQuery('.prompt').toggle();\">Toggle code</button>"
      ]
     },
     "metadata": {},
     "output_type": "display_data"
    },
    {
     "name": "stdout",
     "output_type": "stream",
     "text": [
      "W15_only\n",
      "Index(['lr1W14', 'lr2W14', 'lr3W14', 'lr4W14', 'lr5W14', 'al1W14', 'al2W14',\n",
      "       'al3W14', 'al4W14', 'al5W14', 'lr_scaleW14', 'al_scaleW14'],\n",
      "      dtype='object')\n"
     ]
    },
    {
     "data": {
      "text/html": [
       "<script>jQuery(function() {if (jQuery(\"body.notebook_app\").length == 0) { jQuery(\".input_area\").toggle(); jQuery(\".prompt\").toggle();}});</script>"
      ]
     },
     "metadata": {},
     "output_type": "display_data"
    },
    {
     "data": {
      "text/html": [
       "<button onclick=\"jQuery('.input_area').toggle(); jQuery('.prompt').toggle();\">Toggle code</button>"
      ]
     },
     "metadata": {},
     "output_type": "display_data"
    },
    {
     "name": "stdout",
     "output_type": "stream",
     "text": [
      "W16_only\n",
      "Index(['lr1', 'lr2', 'lr3', 'lr4', 'lr5', 'al1', 'al2', 'al3', 'al4', 'al5',\n",
      "       'lr_scale', 'al_scale'],\n",
      "      dtype='object')\n"
     ]
    },
    {
     "data": {
      "text/html": [
       "<script>jQuery(function() {if (jQuery(\"body.notebook_app\").length == 0) { jQuery(\".input_area\").toggle(); jQuery(\".prompt\").toggle();}});</script>"
      ]
     },
     "metadata": {},
     "output_type": "display_data"
    },
    {
     "data": {
      "text/html": [
       "<button onclick=\"jQuery('.input_area').toggle(); jQuery('.prompt').toggle();\">Toggle code</button>"
      ]
     },
     "metadata": {},
     "output_type": "display_data"
    },
    {
     "name": "stdout",
     "output_type": "stream",
     "text": [
      "W17_only\n",
      "Index(['lr1', 'lr2', 'lr3', 'lr4', 'lr5', 'al1', 'al2', 'al3', 'al4', 'al5',\n",
      "       'lr_scale', 'al_scale'],\n",
      "      dtype='object')\n"
     ]
    },
    {
     "data": {
      "text/html": [
       "<script>jQuery(function() {if (jQuery(\"body.notebook_app\").length == 0) { jQuery(\".input_area\").toggle(); jQuery(\".prompt\").toggle();}});</script>"
      ]
     },
     "metadata": {},
     "output_type": "display_data"
    },
    {
     "data": {
      "text/html": [
       "<button onclick=\"jQuery('.input_area').toggle(); jQuery('.prompt').toggle();\">Toggle code</button>"
      ]
     },
     "metadata": {},
     "output_type": "display_data"
    },
    {
     "name": "stdout",
     "output_type": "stream",
     "text": [
      "W18_only\n",
      "Index([], dtype='object')\n"
     ]
    },
    {
     "data": {
      "text/html": [
       "<script>jQuery(function() {if (jQuery(\"body.notebook_app\").length == 0) { jQuery(\".input_area\").toggle(); jQuery(\".prompt\").toggle();}});</script>"
      ]
     },
     "metadata": {},
     "output_type": "display_data"
    },
    {
     "data": {
      "text/html": [
       "<button onclick=\"jQuery('.input_area').toggle(); jQuery('.prompt').toggle();\">Toggle code</button>"
      ]
     },
     "metadata": {},
     "output_type": "display_data"
    },
    {
     "name": "stdout",
     "output_type": "stream",
     "text": [
      "W19_only\n",
      "Index([], dtype='object')\n"
     ]
    },
    {
     "data": {
      "text/html": [
       "<script>jQuery(function() {if (jQuery(\"body.notebook_app\").length == 0) { jQuery(\".input_area\").toggle(); jQuery(\".prompt\").toggle();}});</script>"
      ]
     },
     "metadata": {},
     "output_type": "display_data"
    },
    {
     "data": {
      "text/html": [
       "<button onclick=\"jQuery('.input_area').toggle(); jQuery('.prompt').toggle();\">Toggle code</button>"
      ]
     },
     "metadata": {},
     "output_type": "display_data"
    },
    {
     "name": "stdout",
     "output_type": "stream",
     "text": [
      "W20_only\n",
      "Index(['lr1', 'lr2', 'lr3', 'lr4', 'lr5', 'al1', 'al2', 'al3', 'al4', 'al5',\n",
      "       'lr_scale', 'al_scale'],\n",
      "      dtype='object')\n"
     ]
    }
   ],
   "source": [
    "high_gran_values = pd.DataFrame(index=BES_PanelW20_comb.index)\n",
    "for dataset_name in [\"W\"+str(x)+\"_only\" for x in range(1,21)]:\n",
    "\n",
    "# dataset_name = \"W2_only\"\n",
    "    df_list = \"BES_Panel\"\n",
    "\n",
    "    %matplotlib inline\n",
    "    %run BES_header.py {dataset_name} {df_list}\n",
    "# (var_type, cat_dictionary, new_old_col_names, old_new_col_names) = get_small_files(data_subfolder, encoding)    \n",
    "# get full set of inferred \"cross wave\" auth-lib/left-right values and ages\n",
    "# pan_dataset_allr_values = pd.read_pickle(BES_small_data_files + \"pan_dataset_allr_valuesW19\"+\".zip\",compression='zip')\n",
    "# # pan_dataset_allr_values = pan_dataset_allr_values.loc[BES_Panel.index].sort_index()\n",
    "# pan_dataset_ages = pd.read_pickle(BES_small_data_files + \"pan_dataset_ages\"+\".zip\", compression='zip')\n",
    "# pan_dataset_votes = pd.read_pickle(BES_small_data_files+\"pan_dataset_votes\"+\".zip\",compression='zip')\n",
    "    \n",
    "    \n",
    "    value_vars = search(BES_Panel,\"lr_scale|^lr\\d|al_scale|^al\\d\").index\n",
    "    print(dataset_name)\n",
    "    print(value_vars)\n",
    "    high_gran_values[[x+dataset_name.split(\"_\")[0] for x in value_vars]] = BES_Panel[value_vars]\n",
    "    "
   ]
  },
  {
   "cell_type": "code",
   "execution_count": 209,
   "id": "7c3016bb",
   "metadata": {},
   "outputs": [],
   "source": [
    "high_gran_values = high_gran_values.drop(search(high_gran_values,\"W17W10\").index,axis=1)"
   ]
  },
  {
   "cell_type": "code",
   "execution_count": 211,
   "id": "757c4aad",
   "metadata": {},
   "outputs": [],
   "source": [
    "for col in search(high_gran_values,\"W7W8W9W9\").index:\n",
    "    mask = high_gran_values[col.replace(\"W7W8W9W9\",\"W8\")].notnull()&high_gran_values[col].isnull()\n",
    "    high_gran_values[col][mask] = high_gran_values[col.replace(\"W7W8W9W9\",\"W8\")][mask]\n",
    "    \n",
    "high_gran_values.columns = [x.replace(\"W7W8W9W9\",\"W7W8W9\") for x in high_gran_values.columns]\n",
    "high_gran_values = high_gran_values.drop(search(high_gran_values,\"W8$\").index,axis=1)"
   ]
  },
  {
   "cell_type": "code",
   "execution_count": 212,
   "id": "6cf94643",
   "metadata": {},
   "outputs": [
    {
     "data": {
      "text/plain": [
       "lr_scaleW1        28423\n",
       "lr_scaleW2        28138\n",
       "lr_scaleW3        25755\n",
       "lr_scaleW4        28792\n",
       "lr_scaleW5        28346\n",
       "lr_scaleW6        27819\n",
       "lr_scaleW7W8W9    32968\n",
       "lr_scaleW10       26383\n",
       "lr_scaleW13       28065\n",
       "lr_scaleW14W15    22553\n",
       "lr_scaleW16       33450\n",
       "lr_scaleW17       30488\n",
       "lr_scaleW20       27872\n",
       "dtype: int64"
      ]
     },
     "execution_count": 212,
     "metadata": {},
     "output_type": "execute_result"
    }
   ],
   "source": [
    "search(high_gran_values,\"lr_scale\")"
   ]
  },
  {
   "cell_type": "code",
   "execution_count": 213,
   "id": "3a12c181",
   "metadata": {},
   "outputs": [
    {
     "data": {
      "text/html": [
       "<div>\n",
       "<style scoped>\n",
       "    .dataframe tbody tr th:only-of-type {\n",
       "        vertical-align: middle;\n",
       "    }\n",
       "\n",
       "    .dataframe tbody tr th {\n",
       "        vertical-align: top;\n",
       "    }\n",
       "\n",
       "    .dataframe thead th {\n",
       "        text-align: right;\n",
       "    }\n",
       "</style>\n",
       "<table border=\"1\" class=\"dataframe\">\n",
       "  <thead>\n",
       "    <tr style=\"text-align: right;\">\n",
       "      <th></th>\n",
       "      <th>lr1W1</th>\n",
       "      <th>lr2W1</th>\n",
       "      <th>lr3W1</th>\n",
       "      <th>lr4W1</th>\n",
       "      <th>lr5W1</th>\n",
       "      <th>al1W1</th>\n",
       "      <th>al2W1</th>\n",
       "      <th>al3W1</th>\n",
       "      <th>al4W1</th>\n",
       "      <th>al5W1</th>\n",
       "      <th>...</th>\n",
       "      <th>lr3W20</th>\n",
       "      <th>lr4W20</th>\n",
       "      <th>lr5W20</th>\n",
       "      <th>al1W20</th>\n",
       "      <th>al2W20</th>\n",
       "      <th>al3W20</th>\n",
       "      <th>al4W20</th>\n",
       "      <th>al5W20</th>\n",
       "      <th>lr_scaleW20</th>\n",
       "      <th>al_scaleW20</th>\n",
       "    </tr>\n",
       "    <tr>\n",
       "      <th>id</th>\n",
       "      <th></th>\n",
       "      <th></th>\n",
       "      <th></th>\n",
       "      <th></th>\n",
       "      <th></th>\n",
       "      <th></th>\n",
       "      <th></th>\n",
       "      <th></th>\n",
       "      <th></th>\n",
       "      <th></th>\n",
       "      <th></th>\n",
       "      <th></th>\n",
       "      <th></th>\n",
       "      <th></th>\n",
       "      <th></th>\n",
       "      <th></th>\n",
       "      <th></th>\n",
       "      <th></th>\n",
       "      <th></th>\n",
       "      <th></th>\n",
       "      <th></th>\n",
       "    </tr>\n",
       "  </thead>\n",
       "  <tbody>\n",
       "    <tr>\n",
       "      <th>1</th>\n",
       "      <td>Agree</td>\n",
       "      <td>Strongly agree</td>\n",
       "      <td>Strongly agree</td>\n",
       "      <td>Strongly agree</td>\n",
       "      <td>Strongly agree</td>\n",
       "      <td>Strongly agree</td>\n",
       "      <td>Strongly agree</td>\n",
       "      <td>Strongly agree</td>\n",
       "      <td>Strongly disagree</td>\n",
       "      <td>Strongly agree</td>\n",
       "      <td>...</td>\n",
       "      <td>NaN</td>\n",
       "      <td>NaN</td>\n",
       "      <td>NaN</td>\n",
       "      <td>NaN</td>\n",
       "      <td>NaN</td>\n",
       "      <td>NaN</td>\n",
       "      <td>NaN</td>\n",
       "      <td>NaN</td>\n",
       "      <td>NaN</td>\n",
       "      <td>NaN</td>\n",
       "    </tr>\n",
       "    <tr>\n",
       "      <th>2</th>\n",
       "      <td>Disagree</td>\n",
       "      <td>Disagree</td>\n",
       "      <td>Disagree</td>\n",
       "      <td>Disagree</td>\n",
       "      <td>Disagree</td>\n",
       "      <td>Neither agree nor disagree</td>\n",
       "      <td>Disagree</td>\n",
       "      <td>Agree</td>\n",
       "      <td>Agree</td>\n",
       "      <td>Agree</td>\n",
       "      <td>...</td>\n",
       "      <td>Neither agree nor disagree</td>\n",
       "      <td>Neither agree nor disagree</td>\n",
       "      <td>Agree</td>\n",
       "      <td>Neither agree nor disagree</td>\n",
       "      <td>Strongly disagree</td>\n",
       "      <td>Agree</td>\n",
       "      <td>Disagree</td>\n",
       "      <td>Neither agree nor disagree</td>\n",
       "      <td>5.0</td>\n",
       "      <td>4.0</td>\n",
       "    </tr>\n",
       "    <tr>\n",
       "      <th>3</th>\n",
       "      <td>Neither agree nor disagree</td>\n",
       "      <td>Agree</td>\n",
       "      <td>Agree</td>\n",
       "      <td>Agree</td>\n",
       "      <td>Neither agree nor disagree</td>\n",
       "      <td>Agree</td>\n",
       "      <td>Agree</td>\n",
       "      <td>Agree</td>\n",
       "      <td>Neither agree nor disagree</td>\n",
       "      <td>Don't know</td>\n",
       "      <td>...</td>\n",
       "      <td>NaN</td>\n",
       "      <td>NaN</td>\n",
       "      <td>NaN</td>\n",
       "      <td>NaN</td>\n",
       "      <td>NaN</td>\n",
       "      <td>NaN</td>\n",
       "      <td>NaN</td>\n",
       "      <td>NaN</td>\n",
       "      <td>NaN</td>\n",
       "      <td>NaN</td>\n",
       "    </tr>\n",
       "    <tr>\n",
       "      <th>4</th>\n",
       "      <td>Agree</td>\n",
       "      <td>Agree</td>\n",
       "      <td>Neither agree nor disagree</td>\n",
       "      <td>Agree</td>\n",
       "      <td>Neither agree nor disagree</td>\n",
       "      <td>Agree</td>\n",
       "      <td>Strongly agree</td>\n",
       "      <td>Agree</td>\n",
       "      <td>Neither agree nor disagree</td>\n",
       "      <td>Strongly agree</td>\n",
       "      <td>...</td>\n",
       "      <td>NaN</td>\n",
       "      <td>NaN</td>\n",
       "      <td>NaN</td>\n",
       "      <td>NaN</td>\n",
       "      <td>NaN</td>\n",
       "      <td>NaN</td>\n",
       "      <td>NaN</td>\n",
       "      <td>NaN</td>\n",
       "      <td>NaN</td>\n",
       "      <td>NaN</td>\n",
       "    </tr>\n",
       "    <tr>\n",
       "      <th>5</th>\n",
       "      <td>Neither agree nor disagree</td>\n",
       "      <td>Disagree</td>\n",
       "      <td>Neither agree nor disagree</td>\n",
       "      <td>Disagree</td>\n",
       "      <td>Agree</td>\n",
       "      <td>Agree</td>\n",
       "      <td>Agree</td>\n",
       "      <td>Agree</td>\n",
       "      <td>Disagree</td>\n",
       "      <td>Neither agree nor disagree</td>\n",
       "      <td>...</td>\n",
       "      <td>NaN</td>\n",
       "      <td>NaN</td>\n",
       "      <td>NaN</td>\n",
       "      <td>NaN</td>\n",
       "      <td>NaN</td>\n",
       "      <td>NaN</td>\n",
       "      <td>NaN</td>\n",
       "      <td>NaN</td>\n",
       "      <td>NaN</td>\n",
       "      <td>NaN</td>\n",
       "    </tr>\n",
       "    <tr>\n",
       "      <th>...</th>\n",
       "      <td>...</td>\n",
       "      <td>...</td>\n",
       "      <td>...</td>\n",
       "      <td>...</td>\n",
       "      <td>...</td>\n",
       "      <td>...</td>\n",
       "      <td>...</td>\n",
       "      <td>...</td>\n",
       "      <td>...</td>\n",
       "      <td>...</td>\n",
       "      <td>...</td>\n",
       "      <td>...</td>\n",
       "      <td>...</td>\n",
       "      <td>...</td>\n",
       "      <td>...</td>\n",
       "      <td>...</td>\n",
       "      <td>...</td>\n",
       "      <td>...</td>\n",
       "      <td>...</td>\n",
       "      <td>...</td>\n",
       "      <td>...</td>\n",
       "    </tr>\n",
       "    <tr>\n",
       "      <th>102854</th>\n",
       "      <td>NaN</td>\n",
       "      <td>NaN</td>\n",
       "      <td>NaN</td>\n",
       "      <td>NaN</td>\n",
       "      <td>NaN</td>\n",
       "      <td>NaN</td>\n",
       "      <td>NaN</td>\n",
       "      <td>NaN</td>\n",
       "      <td>NaN</td>\n",
       "      <td>NaN</td>\n",
       "      <td>...</td>\n",
       "      <td>Agree</td>\n",
       "      <td>Strongly agree</td>\n",
       "      <td>Agree</td>\n",
       "      <td>Neither agree nor disagree</td>\n",
       "      <td>Disagree</td>\n",
       "      <td>Agree</td>\n",
       "      <td>Strongly disagree</td>\n",
       "      <td>Neither agree nor disagree</td>\n",
       "      <td>2.0</td>\n",
       "      <td>4.0</td>\n",
       "    </tr>\n",
       "    <tr>\n",
       "      <th>102855</th>\n",
       "      <td>NaN</td>\n",
       "      <td>NaN</td>\n",
       "      <td>NaN</td>\n",
       "      <td>NaN</td>\n",
       "      <td>NaN</td>\n",
       "      <td>NaN</td>\n",
       "      <td>NaN</td>\n",
       "      <td>NaN</td>\n",
       "      <td>NaN</td>\n",
       "      <td>NaN</td>\n",
       "      <td>...</td>\n",
       "      <td>Neither agree nor disagree</td>\n",
       "      <td>Neither agree nor disagree</td>\n",
       "      <td>Neither agree nor disagree</td>\n",
       "      <td>Agree</td>\n",
       "      <td>Neither agree nor disagree</td>\n",
       "      <td>Agree</td>\n",
       "      <td>Disagree</td>\n",
       "      <td>Neither agree nor disagree</td>\n",
       "      <td>4.5</td>\n",
       "      <td>5.5</td>\n",
       "    </tr>\n",
       "    <tr>\n",
       "      <th>102856</th>\n",
       "      <td>NaN</td>\n",
       "      <td>NaN</td>\n",
       "      <td>NaN</td>\n",
       "      <td>NaN</td>\n",
       "      <td>NaN</td>\n",
       "      <td>NaN</td>\n",
       "      <td>NaN</td>\n",
       "      <td>NaN</td>\n",
       "      <td>NaN</td>\n",
       "      <td>NaN</td>\n",
       "      <td>...</td>\n",
       "      <td>Neither agree nor disagree</td>\n",
       "      <td>Agree</td>\n",
       "      <td>Neither agree nor disagree</td>\n",
       "      <td>Strongly agree</td>\n",
       "      <td>Strongly disagree</td>\n",
       "      <td>Agree</td>\n",
       "      <td>Neither agree nor disagree</td>\n",
       "      <td>Neither agree nor disagree</td>\n",
       "      <td>4.5</td>\n",
       "      <td>5.5</td>\n",
       "    </tr>\n",
       "    <tr>\n",
       "      <th>102857</th>\n",
       "      <td>NaN</td>\n",
       "      <td>NaN</td>\n",
       "      <td>NaN</td>\n",
       "      <td>NaN</td>\n",
       "      <td>NaN</td>\n",
       "      <td>NaN</td>\n",
       "      <td>NaN</td>\n",
       "      <td>NaN</td>\n",
       "      <td>NaN</td>\n",
       "      <td>NaN</td>\n",
       "      <td>...</td>\n",
       "      <td>Agree</td>\n",
       "      <td>Agree</td>\n",
       "      <td>Neither agree nor disagree</td>\n",
       "      <td>Strongly agree</td>\n",
       "      <td>Agree</td>\n",
       "      <td>Strongly agree</td>\n",
       "      <td>Strongly agree</td>\n",
       "      <td>Strongly agree</td>\n",
       "      <td>3.0</td>\n",
       "      <td>9.5</td>\n",
       "    </tr>\n",
       "    <tr>\n",
       "      <th>102858</th>\n",
       "      <td>NaN</td>\n",
       "      <td>NaN</td>\n",
       "      <td>NaN</td>\n",
       "      <td>NaN</td>\n",
       "      <td>NaN</td>\n",
       "      <td>NaN</td>\n",
       "      <td>NaN</td>\n",
       "      <td>NaN</td>\n",
       "      <td>NaN</td>\n",
       "      <td>NaN</td>\n",
       "      <td>...</td>\n",
       "      <td>Agree</td>\n",
       "      <td>Agree</td>\n",
       "      <td>Agree</td>\n",
       "      <td>Agree</td>\n",
       "      <td>Strongly disagree</td>\n",
       "      <td>Agree</td>\n",
       "      <td>Disagree</td>\n",
       "      <td>Neither agree nor disagree</td>\n",
       "      <td>3.0</td>\n",
       "      <td>4.5</td>\n",
       "    </tr>\n",
       "  </tbody>\n",
       "</table>\n",
       "<p>101413 rows × 156 columns</p>\n",
       "</div>"
      ],
      "text/plain": [
       "                             lr1W1           lr2W1  \\\n",
       "id                                                   \n",
       "1                            Agree  Strongly agree   \n",
       "2                         Disagree        Disagree   \n",
       "3       Neither agree nor disagree           Agree   \n",
       "4                            Agree           Agree   \n",
       "5       Neither agree nor disagree        Disagree   \n",
       "...                            ...             ...   \n",
       "102854                         NaN             NaN   \n",
       "102855                         NaN             NaN   \n",
       "102856                         NaN             NaN   \n",
       "102857                         NaN             NaN   \n",
       "102858                         NaN             NaN   \n",
       "\n",
       "                             lr3W1           lr4W1  \\\n",
       "id                                                   \n",
       "1                   Strongly agree  Strongly agree   \n",
       "2                         Disagree        Disagree   \n",
       "3                            Agree           Agree   \n",
       "4       Neither agree nor disagree           Agree   \n",
       "5       Neither agree nor disagree        Disagree   \n",
       "...                            ...             ...   \n",
       "102854                         NaN             NaN   \n",
       "102855                         NaN             NaN   \n",
       "102856                         NaN             NaN   \n",
       "102857                         NaN             NaN   \n",
       "102858                         NaN             NaN   \n",
       "\n",
       "                             lr5W1                       al1W1  \\\n",
       "id                                                               \n",
       "1                   Strongly agree              Strongly agree   \n",
       "2                         Disagree  Neither agree nor disagree   \n",
       "3       Neither agree nor disagree                       Agree   \n",
       "4       Neither agree nor disagree                       Agree   \n",
       "5                            Agree                       Agree   \n",
       "...                            ...                         ...   \n",
       "102854                         NaN                         NaN   \n",
       "102855                         NaN                         NaN   \n",
       "102856                         NaN                         NaN   \n",
       "102857                         NaN                         NaN   \n",
       "102858                         NaN                         NaN   \n",
       "\n",
       "                 al2W1           al3W1                       al4W1  \\\n",
       "id                                                                   \n",
       "1       Strongly agree  Strongly agree           Strongly disagree   \n",
       "2             Disagree           Agree                       Agree   \n",
       "3                Agree           Agree  Neither agree nor disagree   \n",
       "4       Strongly agree           Agree  Neither agree nor disagree   \n",
       "5                Agree           Agree                    Disagree   \n",
       "...                ...             ...                         ...   \n",
       "102854             NaN             NaN                         NaN   \n",
       "102855             NaN             NaN                         NaN   \n",
       "102856             NaN             NaN                         NaN   \n",
       "102857             NaN             NaN                         NaN   \n",
       "102858             NaN             NaN                         NaN   \n",
       "\n",
       "                             al5W1  ...                      lr3W20  \\\n",
       "id                                  ...                               \n",
       "1                   Strongly agree  ...                         NaN   \n",
       "2                            Agree  ...  Neither agree nor disagree   \n",
       "3                       Don't know  ...                         NaN   \n",
       "4                   Strongly agree  ...                         NaN   \n",
       "5       Neither agree nor disagree  ...                         NaN   \n",
       "...                            ...  ...                         ...   \n",
       "102854                         NaN  ...                       Agree   \n",
       "102855                         NaN  ...  Neither agree nor disagree   \n",
       "102856                         NaN  ...  Neither agree nor disagree   \n",
       "102857                         NaN  ...                       Agree   \n",
       "102858                         NaN  ...                       Agree   \n",
       "\n",
       "                            lr4W20                      lr5W20  \\\n",
       "id                                                               \n",
       "1                              NaN                         NaN   \n",
       "2       Neither agree nor disagree                       Agree   \n",
       "3                              NaN                         NaN   \n",
       "4                              NaN                         NaN   \n",
       "5                              NaN                         NaN   \n",
       "...                            ...                         ...   \n",
       "102854              Strongly agree                       Agree   \n",
       "102855  Neither agree nor disagree  Neither agree nor disagree   \n",
       "102856                       Agree  Neither agree nor disagree   \n",
       "102857                       Agree  Neither agree nor disagree   \n",
       "102858                       Agree                       Agree   \n",
       "\n",
       "                            al1W20                      al2W20  \\\n",
       "id                                                               \n",
       "1                              NaN                         NaN   \n",
       "2       Neither agree nor disagree           Strongly disagree   \n",
       "3                              NaN                         NaN   \n",
       "4                              NaN                         NaN   \n",
       "5                              NaN                         NaN   \n",
       "...                            ...                         ...   \n",
       "102854  Neither agree nor disagree                    Disagree   \n",
       "102855                       Agree  Neither agree nor disagree   \n",
       "102856              Strongly agree           Strongly disagree   \n",
       "102857              Strongly agree                       Agree   \n",
       "102858                       Agree           Strongly disagree   \n",
       "\n",
       "                al3W20                      al4W20  \\\n",
       "id                                                   \n",
       "1                  NaN                         NaN   \n",
       "2                Agree                    Disagree   \n",
       "3                  NaN                         NaN   \n",
       "4                  NaN                         NaN   \n",
       "5                  NaN                         NaN   \n",
       "...                ...                         ...   \n",
       "102854           Agree           Strongly disagree   \n",
       "102855           Agree                    Disagree   \n",
       "102856           Agree  Neither agree nor disagree   \n",
       "102857  Strongly agree              Strongly agree   \n",
       "102858           Agree                    Disagree   \n",
       "\n",
       "                            al5W20 lr_scaleW20 al_scaleW20  \n",
       "id                                                          \n",
       "1                              NaN         NaN         NaN  \n",
       "2       Neither agree nor disagree         5.0         4.0  \n",
       "3                              NaN         NaN         NaN  \n",
       "4                              NaN         NaN         NaN  \n",
       "5                              NaN         NaN         NaN  \n",
       "...                            ...         ...         ...  \n",
       "102854  Neither agree nor disagree         2.0         4.0  \n",
       "102855  Neither agree nor disagree         4.5         5.5  \n",
       "102856  Neither agree nor disagree         4.5         5.5  \n",
       "102857              Strongly agree         3.0         9.5  \n",
       "102858  Neither agree nor disagree         3.0         4.5  \n",
       "\n",
       "[101413 rows x 156 columns]"
      ]
     },
     "execution_count": 213,
     "metadata": {},
     "output_type": "execute_result"
    }
   ],
   "source": [
    "high_gran_values"
   ]
  },
  {
   "cell_type": "code",
   "execution_count": null,
   "id": "1dde9c71",
   "metadata": {},
   "outputs": [],
   "source": []
  },
  {
   "cell_type": "code",
   "execution_count": null,
   "id": "0327fcd4",
   "metadata": {},
   "outputs": [],
   "source": []
  },
  {
   "cell_type": "code",
   "execution_count": null,
   "id": "d7b9f61b",
   "metadata": {},
   "outputs": [],
   "source": []
  },
  {
   "cell_type": "code",
   "execution_count": 155,
   "id": "dfe61218",
   "metadata": {},
   "outputs": [
    {
     "data": {
      "text/plain": [
       "0"
      ]
     },
     "execution_count": 155,
     "metadata": {},
     "output_type": "execute_result"
    }
   ],
   "source": [
    "mask = high_gran_values[\"lr_scaleW7W8W9W9\"].notnull()&high_gran_values[\"lr_scaleW8\"].notnull()\n",
    "\n",
    "(high_gran_values[\"lr_scaleW7W8W9W9\"][mask]!=high_gran_values[\"lr_scaleW8\"][mask]).sum()\n",
    "# no disagreements where overlap"
   ]
  },
  {
   "cell_type": "code",
   "execution_count": 159,
   "id": "36b57414",
   "metadata": {},
   "outputs": [
    {
     "data": {
      "text/plain": [
       "1278"
      ]
     },
     "execution_count": 159,
     "metadata": {},
     "output_type": "execute_result"
    }
   ],
   "source": [
    "not_W8_values = high_gran_values[\"lr_scaleW8\"].isnull() & high_gran_values[\"lr_scaleW7W8W9W9\"].notnull()\n",
    "not_W8_values.sum()\n",
    "# some exist!"
   ]
  },
  {
   "cell_type": "code",
   "execution_count": 176,
   "id": "22e12df0",
   "metadata": {},
   "outputs": [
    {
     "data": {
      "text/plain": [
       "0"
      ]
     },
     "execution_count": 176,
     "metadata": {},
     "output_type": "execute_result"
    }
   ],
   "source": [
    "not_W7W8W9_values = high_gran_values[\"lr_scaleW8\"].notnull() & high_gran_values[\"lr_scaleW7W8W9W9\"].isnull()\n",
    "not_W7W8W9_values.sum()\n",
    "# some exist!"
   ]
  },
  {
   "cell_type": "code",
   "execution_count": 178,
   "id": "70d5fdfc",
   "metadata": {},
   "outputs": [],
   "source": []
  },
  {
   "cell_type": "code",
   "execution_count": 179,
   "id": "203ef3b0",
   "metadata": {},
   "outputs": [
    {
     "data": {
      "text/html": [
       "<div>\n",
       "<style scoped>\n",
       "    .dataframe tbody tr th:only-of-type {\n",
       "        vertical-align: middle;\n",
       "    }\n",
       "\n",
       "    .dataframe tbody tr th {\n",
       "        vertical-align: top;\n",
       "    }\n",
       "\n",
       "    .dataframe thead th {\n",
       "        text-align: right;\n",
       "    }\n",
       "</style>\n",
       "<table border=\"1\" class=\"dataframe\">\n",
       "  <thead>\n",
       "    <tr style=\"text-align: right;\">\n",
       "      <th></th>\n",
       "      <th>lr1W1</th>\n",
       "      <th>lr2W1</th>\n",
       "      <th>lr3W1</th>\n",
       "      <th>lr4W1</th>\n",
       "      <th>lr5W1</th>\n",
       "      <th>al1W1</th>\n",
       "      <th>al2W1</th>\n",
       "      <th>al3W1</th>\n",
       "      <th>al4W1</th>\n",
       "      <th>al5W1</th>\n",
       "      <th>...</th>\n",
       "      <th>lr3W20</th>\n",
       "      <th>lr4W20</th>\n",
       "      <th>lr5W20</th>\n",
       "      <th>al1W20</th>\n",
       "      <th>al2W20</th>\n",
       "      <th>al3W20</th>\n",
       "      <th>al4W20</th>\n",
       "      <th>al5W20</th>\n",
       "      <th>lr_scaleW20</th>\n",
       "      <th>al_scaleW20</th>\n",
       "    </tr>\n",
       "    <tr>\n",
       "      <th>id</th>\n",
       "      <th></th>\n",
       "      <th></th>\n",
       "      <th></th>\n",
       "      <th></th>\n",
       "      <th></th>\n",
       "      <th></th>\n",
       "      <th></th>\n",
       "      <th></th>\n",
       "      <th></th>\n",
       "      <th></th>\n",
       "      <th></th>\n",
       "      <th></th>\n",
       "      <th></th>\n",
       "      <th></th>\n",
       "      <th></th>\n",
       "      <th></th>\n",
       "      <th></th>\n",
       "      <th></th>\n",
       "      <th></th>\n",
       "      <th></th>\n",
       "      <th></th>\n",
       "    </tr>\n",
       "  </thead>\n",
       "  <tbody>\n",
       "    <tr>\n",
       "      <th>1</th>\n",
       "      <td>Agree</td>\n",
       "      <td>Strongly agree</td>\n",
       "      <td>Strongly agree</td>\n",
       "      <td>Strongly agree</td>\n",
       "      <td>Strongly agree</td>\n",
       "      <td>Strongly agree</td>\n",
       "      <td>Strongly agree</td>\n",
       "      <td>Strongly agree</td>\n",
       "      <td>Strongly disagree</td>\n",
       "      <td>Strongly agree</td>\n",
       "      <td>...</td>\n",
       "      <td>NaN</td>\n",
       "      <td>NaN</td>\n",
       "      <td>NaN</td>\n",
       "      <td>NaN</td>\n",
       "      <td>NaN</td>\n",
       "      <td>NaN</td>\n",
       "      <td>NaN</td>\n",
       "      <td>NaN</td>\n",
       "      <td>NaN</td>\n",
       "      <td>NaN</td>\n",
       "    </tr>\n",
       "    <tr>\n",
       "      <th>2</th>\n",
       "      <td>Disagree</td>\n",
       "      <td>Disagree</td>\n",
       "      <td>Disagree</td>\n",
       "      <td>Disagree</td>\n",
       "      <td>Disagree</td>\n",
       "      <td>Neither agree nor disagree</td>\n",
       "      <td>Disagree</td>\n",
       "      <td>Agree</td>\n",
       "      <td>Agree</td>\n",
       "      <td>Agree</td>\n",
       "      <td>...</td>\n",
       "      <td>Neither agree nor disagree</td>\n",
       "      <td>Neither agree nor disagree</td>\n",
       "      <td>Agree</td>\n",
       "      <td>Neither agree nor disagree</td>\n",
       "      <td>Strongly disagree</td>\n",
       "      <td>Agree</td>\n",
       "      <td>Disagree</td>\n",
       "      <td>Neither agree nor disagree</td>\n",
       "      <td>5.0</td>\n",
       "      <td>4.0</td>\n",
       "    </tr>\n",
       "    <tr>\n",
       "      <th>3</th>\n",
       "      <td>Neither agree nor disagree</td>\n",
       "      <td>Agree</td>\n",
       "      <td>Agree</td>\n",
       "      <td>Agree</td>\n",
       "      <td>Neither agree nor disagree</td>\n",
       "      <td>Agree</td>\n",
       "      <td>Agree</td>\n",
       "      <td>Agree</td>\n",
       "      <td>Neither agree nor disagree</td>\n",
       "      <td>Don't know</td>\n",
       "      <td>...</td>\n",
       "      <td>NaN</td>\n",
       "      <td>NaN</td>\n",
       "      <td>NaN</td>\n",
       "      <td>NaN</td>\n",
       "      <td>NaN</td>\n",
       "      <td>NaN</td>\n",
       "      <td>NaN</td>\n",
       "      <td>NaN</td>\n",
       "      <td>NaN</td>\n",
       "      <td>NaN</td>\n",
       "    </tr>\n",
       "    <tr>\n",
       "      <th>4</th>\n",
       "      <td>Agree</td>\n",
       "      <td>Agree</td>\n",
       "      <td>Neither agree nor disagree</td>\n",
       "      <td>Agree</td>\n",
       "      <td>Neither agree nor disagree</td>\n",
       "      <td>Agree</td>\n",
       "      <td>Strongly agree</td>\n",
       "      <td>Agree</td>\n",
       "      <td>Neither agree nor disagree</td>\n",
       "      <td>Strongly agree</td>\n",
       "      <td>...</td>\n",
       "      <td>NaN</td>\n",
       "      <td>NaN</td>\n",
       "      <td>NaN</td>\n",
       "      <td>NaN</td>\n",
       "      <td>NaN</td>\n",
       "      <td>NaN</td>\n",
       "      <td>NaN</td>\n",
       "      <td>NaN</td>\n",
       "      <td>NaN</td>\n",
       "      <td>NaN</td>\n",
       "    </tr>\n",
       "    <tr>\n",
       "      <th>5</th>\n",
       "      <td>Neither agree nor disagree</td>\n",
       "      <td>Disagree</td>\n",
       "      <td>Neither agree nor disagree</td>\n",
       "      <td>Disagree</td>\n",
       "      <td>Agree</td>\n",
       "      <td>Agree</td>\n",
       "      <td>Agree</td>\n",
       "      <td>Agree</td>\n",
       "      <td>Disagree</td>\n",
       "      <td>Neither agree nor disagree</td>\n",
       "      <td>...</td>\n",
       "      <td>NaN</td>\n",
       "      <td>NaN</td>\n",
       "      <td>NaN</td>\n",
       "      <td>NaN</td>\n",
       "      <td>NaN</td>\n",
       "      <td>NaN</td>\n",
       "      <td>NaN</td>\n",
       "      <td>NaN</td>\n",
       "      <td>NaN</td>\n",
       "      <td>NaN</td>\n",
       "    </tr>\n",
       "    <tr>\n",
       "      <th>...</th>\n",
       "      <td>...</td>\n",
       "      <td>...</td>\n",
       "      <td>...</td>\n",
       "      <td>...</td>\n",
       "      <td>...</td>\n",
       "      <td>...</td>\n",
       "      <td>...</td>\n",
       "      <td>...</td>\n",
       "      <td>...</td>\n",
       "      <td>...</td>\n",
       "      <td>...</td>\n",
       "      <td>...</td>\n",
       "      <td>...</td>\n",
       "      <td>...</td>\n",
       "      <td>...</td>\n",
       "      <td>...</td>\n",
       "      <td>...</td>\n",
       "      <td>...</td>\n",
       "      <td>...</td>\n",
       "      <td>...</td>\n",
       "      <td>...</td>\n",
       "    </tr>\n",
       "    <tr>\n",
       "      <th>30586</th>\n",
       "      <td>Agree</td>\n",
       "      <td>Neither agree nor disagree</td>\n",
       "      <td>Neither agree nor disagree</td>\n",
       "      <td>Agree</td>\n",
       "      <td>Agree</td>\n",
       "      <td>Neither agree nor disagree</td>\n",
       "      <td>Neither agree nor disagree</td>\n",
       "      <td>Agree</td>\n",
       "      <td>Disagree</td>\n",
       "      <td>Agree</td>\n",
       "      <td>...</td>\n",
       "      <td>NaN</td>\n",
       "      <td>NaN</td>\n",
       "      <td>NaN</td>\n",
       "      <td>NaN</td>\n",
       "      <td>NaN</td>\n",
       "      <td>NaN</td>\n",
       "      <td>NaN</td>\n",
       "      <td>NaN</td>\n",
       "      <td>NaN</td>\n",
       "      <td>NaN</td>\n",
       "    </tr>\n",
       "    <tr>\n",
       "      <th>30587</th>\n",
       "      <td>Agree</td>\n",
       "      <td>Agree</td>\n",
       "      <td>Agree</td>\n",
       "      <td>Neither agree nor disagree</td>\n",
       "      <td>Strongly agree</td>\n",
       "      <td>Agree</td>\n",
       "      <td>Agree</td>\n",
       "      <td>Agree</td>\n",
       "      <td>Agree</td>\n",
       "      <td>Agree</td>\n",
       "      <td>...</td>\n",
       "      <td>NaN</td>\n",
       "      <td>NaN</td>\n",
       "      <td>NaN</td>\n",
       "      <td>NaN</td>\n",
       "      <td>NaN</td>\n",
       "      <td>NaN</td>\n",
       "      <td>NaN</td>\n",
       "      <td>NaN</td>\n",
       "      <td>NaN</td>\n",
       "      <td>NaN</td>\n",
       "    </tr>\n",
       "    <tr>\n",
       "      <th>30588</th>\n",
       "      <td>Strongly agree</td>\n",
       "      <td>Strongly agree</td>\n",
       "      <td>Strongly agree</td>\n",
       "      <td>Disagree</td>\n",
       "      <td>Agree</td>\n",
       "      <td>Agree</td>\n",
       "      <td>Neither agree nor disagree</td>\n",
       "      <td>Strongly agree</td>\n",
       "      <td>Neither agree nor disagree</td>\n",
       "      <td>Disagree</td>\n",
       "      <td>...</td>\n",
       "      <td>NaN</td>\n",
       "      <td>NaN</td>\n",
       "      <td>NaN</td>\n",
       "      <td>NaN</td>\n",
       "      <td>NaN</td>\n",
       "      <td>NaN</td>\n",
       "      <td>NaN</td>\n",
       "      <td>NaN</td>\n",
       "      <td>NaN</td>\n",
       "      <td>NaN</td>\n",
       "    </tr>\n",
       "    <tr>\n",
       "      <th>30589</th>\n",
       "      <td>Agree</td>\n",
       "      <td>Neither agree nor disagree</td>\n",
       "      <td>Agree</td>\n",
       "      <td>Neither agree nor disagree</td>\n",
       "      <td>Disagree</td>\n",
       "      <td>Agree</td>\n",
       "      <td>Neither agree nor disagree</td>\n",
       "      <td>Neither agree nor disagree</td>\n",
       "      <td>Agree</td>\n",
       "      <td>Disagree</td>\n",
       "      <td>...</td>\n",
       "      <td>NaN</td>\n",
       "      <td>NaN</td>\n",
       "      <td>NaN</td>\n",
       "      <td>NaN</td>\n",
       "      <td>NaN</td>\n",
       "      <td>NaN</td>\n",
       "      <td>NaN</td>\n",
       "      <td>NaN</td>\n",
       "      <td>NaN</td>\n",
       "      <td>NaN</td>\n",
       "    </tr>\n",
       "    <tr>\n",
       "      <th>30590</th>\n",
       "      <td>Agree</td>\n",
       "      <td>Agree</td>\n",
       "      <td>Agree</td>\n",
       "      <td>Neither agree nor disagree</td>\n",
       "      <td>Agree</td>\n",
       "      <td>Agree</td>\n",
       "      <td>Neither agree nor disagree</td>\n",
       "      <td>Neither agree nor disagree</td>\n",
       "      <td>Agree</td>\n",
       "      <td>Neither agree nor disagree</td>\n",
       "      <td>...</td>\n",
       "      <td>Don't know</td>\n",
       "      <td>Don't know</td>\n",
       "      <td>Don't know</td>\n",
       "      <td>Don't know</td>\n",
       "      <td>Don't know</td>\n",
       "      <td>Don't know</td>\n",
       "      <td>Don't know</td>\n",
       "      <td>Don't know</td>\n",
       "      <td>NaN</td>\n",
       "      <td>NaN</td>\n",
       "    </tr>\n",
       "  </tbody>\n",
       "</table>\n",
       "<p>30569 rows × 168 columns</p>\n",
       "</div>"
      ],
      "text/plain": [
       "                            lr1W1                       lr2W1  \\\n",
       "id                                                              \n",
       "1                           Agree              Strongly agree   \n",
       "2                        Disagree                    Disagree   \n",
       "3      Neither agree nor disagree                       Agree   \n",
       "4                           Agree                       Agree   \n",
       "5      Neither agree nor disagree                    Disagree   \n",
       "...                           ...                         ...   \n",
       "30586                       Agree  Neither agree nor disagree   \n",
       "30587                       Agree                       Agree   \n",
       "30588              Strongly agree              Strongly agree   \n",
       "30589                       Agree  Neither agree nor disagree   \n",
       "30590                       Agree                       Agree   \n",
       "\n",
       "                            lr3W1                       lr4W1  \\\n",
       "id                                                              \n",
       "1                  Strongly agree              Strongly agree   \n",
       "2                        Disagree                    Disagree   \n",
       "3                           Agree                       Agree   \n",
       "4      Neither agree nor disagree                       Agree   \n",
       "5      Neither agree nor disagree                    Disagree   \n",
       "...                           ...                         ...   \n",
       "30586  Neither agree nor disagree                       Agree   \n",
       "30587                       Agree  Neither agree nor disagree   \n",
       "30588              Strongly agree                    Disagree   \n",
       "30589                       Agree  Neither agree nor disagree   \n",
       "30590                       Agree  Neither agree nor disagree   \n",
       "\n",
       "                            lr5W1                       al1W1  \\\n",
       "id                                                              \n",
       "1                  Strongly agree              Strongly agree   \n",
       "2                        Disagree  Neither agree nor disagree   \n",
       "3      Neither agree nor disagree                       Agree   \n",
       "4      Neither agree nor disagree                       Agree   \n",
       "5                           Agree                       Agree   \n",
       "...                           ...                         ...   \n",
       "30586                       Agree  Neither agree nor disagree   \n",
       "30587              Strongly agree                       Agree   \n",
       "30588                       Agree                       Agree   \n",
       "30589                    Disagree                       Agree   \n",
       "30590                       Agree                       Agree   \n",
       "\n",
       "                            al2W1                       al3W1  \\\n",
       "id                                                              \n",
       "1                  Strongly agree              Strongly agree   \n",
       "2                        Disagree                       Agree   \n",
       "3                           Agree                       Agree   \n",
       "4                  Strongly agree                       Agree   \n",
       "5                           Agree                       Agree   \n",
       "...                           ...                         ...   \n",
       "30586  Neither agree nor disagree                       Agree   \n",
       "30587                       Agree                       Agree   \n",
       "30588  Neither agree nor disagree              Strongly agree   \n",
       "30589  Neither agree nor disagree  Neither agree nor disagree   \n",
       "30590  Neither agree nor disagree  Neither agree nor disagree   \n",
       "\n",
       "                            al4W1                       al5W1  ...  \\\n",
       "id                                                             ...   \n",
       "1               Strongly disagree              Strongly agree  ...   \n",
       "2                           Agree                       Agree  ...   \n",
       "3      Neither agree nor disagree                  Don't know  ...   \n",
       "4      Neither agree nor disagree              Strongly agree  ...   \n",
       "5                        Disagree  Neither agree nor disagree  ...   \n",
       "...                           ...                         ...  ...   \n",
       "30586                    Disagree                       Agree  ...   \n",
       "30587                       Agree                       Agree  ...   \n",
       "30588  Neither agree nor disagree                    Disagree  ...   \n",
       "30589                       Agree                    Disagree  ...   \n",
       "30590                       Agree  Neither agree nor disagree  ...   \n",
       "\n",
       "                           lr3W20                      lr4W20      lr5W20  \\\n",
       "id                                                                          \n",
       "1                             NaN                         NaN         NaN   \n",
       "2      Neither agree nor disagree  Neither agree nor disagree       Agree   \n",
       "3                             NaN                         NaN         NaN   \n",
       "4                             NaN                         NaN         NaN   \n",
       "5                             NaN                         NaN         NaN   \n",
       "...                           ...                         ...         ...   \n",
       "30586                         NaN                         NaN         NaN   \n",
       "30587                         NaN                         NaN         NaN   \n",
       "30588                         NaN                         NaN         NaN   \n",
       "30589                         NaN                         NaN         NaN   \n",
       "30590                  Don't know                  Don't know  Don't know   \n",
       "\n",
       "                           al1W20             al2W20      al3W20      al4W20  \\\n",
       "id                                                                             \n",
       "1                             NaN                NaN         NaN         NaN   \n",
       "2      Neither agree nor disagree  Strongly disagree       Agree    Disagree   \n",
       "3                             NaN                NaN         NaN         NaN   \n",
       "4                             NaN                NaN         NaN         NaN   \n",
       "5                             NaN                NaN         NaN         NaN   \n",
       "...                           ...                ...         ...         ...   \n",
       "30586                         NaN                NaN         NaN         NaN   \n",
       "30587                         NaN                NaN         NaN         NaN   \n",
       "30588                         NaN                NaN         NaN         NaN   \n",
       "30589                         NaN                NaN         NaN         NaN   \n",
       "30590                  Don't know         Don't know  Don't know  Don't know   \n",
       "\n",
       "                           al5W20 lr_scaleW20 al_scaleW20  \n",
       "id                                                         \n",
       "1                             NaN         NaN         NaN  \n",
       "2      Neither agree nor disagree         5.0         4.0  \n",
       "3                             NaN         NaN         NaN  \n",
       "4                             NaN         NaN         NaN  \n",
       "5                             NaN         NaN         NaN  \n",
       "...                           ...         ...         ...  \n",
       "30586                         NaN         NaN         NaN  \n",
       "30587                         NaN         NaN         NaN  \n",
       "30588                         NaN         NaN         NaN  \n",
       "30589                         NaN         NaN         NaN  \n",
       "30590                  Don't know         NaN         NaN  \n",
       "\n",
       "[30569 rows x 168 columns]"
      ]
     },
     "execution_count": 179,
     "metadata": {},
     "output_type": "execute_result"
    }
   ],
   "source": [
    "high_gran_values"
   ]
  },
  {
   "cell_type": "code",
   "execution_count": 207,
   "id": "78c571a1",
   "metadata": {},
   "outputs": [],
   "source": [
    "# not really possible to be sure whether gathered in W7 or W8 - still, only a small fraction"
   ]
  },
  {
   "cell_type": "code",
   "execution_count": 208,
   "id": "ebeecb36",
   "metadata": {},
   "outputs": [
    {
     "ename": "KeyError",
     "evalue": "\"Passing list-likes to .loc or [] with any missing labels is no longer supported. The following labels were missing: Int64Index([    1,     3,     4,     5,     6,\\n            ...\\n            30585, 30586, 30587, 30588, 30589],\\n           dtype='int64', name='id', length=23834). See https://pandas.pydata.org/pandas-docs/stable/user_guide/indexing.html#deprecate-loc-reindex-listlike\"",
     "output_type": "error",
     "traceback": [
      "\u001b[1;31m---------------------------------------------------------------------------\u001b[0m",
      "\u001b[1;31mKeyError\u001b[0m                                  Traceback (most recent call last)",
      "\u001b[1;32m<ipython-input-208-7b5399c67da5>\u001b[0m in \u001b[0;36m<module>\u001b[1;34m\u001b[0m\n\u001b[1;32m----> 1\u001b[1;33m \u001b[0mBES_Panel\u001b[0m\u001b[1;33m.\u001b[0m\u001b[0mloc\u001b[0m\u001b[1;33m[\u001b[0m\u001b[0mnot_W8_values\u001b[0m\u001b[1;33m.\u001b[0m\u001b[0mindex\u001b[0m\u001b[1;33m]\u001b[0m\u001b[1;33m[\u001b[0m\u001b[0mnot_W8_values\u001b[0m\u001b[1;33m]\u001b[0m\u001b[1;33m[\u001b[0m\u001b[0msearch\u001b[0m\u001b[1;33m(\u001b[0m\u001b[0mBES_Panel\u001b[0m\u001b[1;33m,\u001b[0m\u001b[1;34m\"wave\"\u001b[0m\u001b[1;33m)\u001b[0m\u001b[1;33m.\u001b[0m\u001b[0mindex\u001b[0m\u001b[1;33m]\u001b[0m\u001b[1;33m.\u001b[0m\u001b[0msum\u001b[0m\u001b[1;33m(\u001b[0m\u001b[1;33m)\u001b[0m\u001b[1;33m\u001b[0m\u001b[1;33m\u001b[0m\u001b[0m\n\u001b[0m",
      "\u001b[1;32mE:\\Users\\Gamer\\anaconda3\\envs\\test_tensorflow_install\\lib\\site-packages\\pandas\\core\\indexing.py\u001b[0m in \u001b[0;36m__getitem__\u001b[1;34m(self, key)\u001b[0m\n\u001b[0;32m    893\u001b[0m \u001b[1;33m\u001b[0m\u001b[0m\n\u001b[0;32m    894\u001b[0m             \u001b[0mmaybe_callable\u001b[0m \u001b[1;33m=\u001b[0m \u001b[0mcom\u001b[0m\u001b[1;33m.\u001b[0m\u001b[0mapply_if_callable\u001b[0m\u001b[1;33m(\u001b[0m\u001b[0mkey\u001b[0m\u001b[1;33m,\u001b[0m \u001b[0mself\u001b[0m\u001b[1;33m.\u001b[0m\u001b[0mobj\u001b[0m\u001b[1;33m)\u001b[0m\u001b[1;33m\u001b[0m\u001b[1;33m\u001b[0m\u001b[0m\n\u001b[1;32m--> 895\u001b[1;33m             \u001b[1;32mreturn\u001b[0m \u001b[0mself\u001b[0m\u001b[1;33m.\u001b[0m\u001b[0m_getitem_axis\u001b[0m\u001b[1;33m(\u001b[0m\u001b[0mmaybe_callable\u001b[0m\u001b[1;33m,\u001b[0m \u001b[0maxis\u001b[0m\u001b[1;33m=\u001b[0m\u001b[0maxis\u001b[0m\u001b[1;33m)\u001b[0m\u001b[1;33m\u001b[0m\u001b[1;33m\u001b[0m\u001b[0m\n\u001b[0m\u001b[0;32m    896\u001b[0m \u001b[1;33m\u001b[0m\u001b[0m\n\u001b[0;32m    897\u001b[0m     \u001b[1;32mdef\u001b[0m \u001b[0m_is_scalar_access\u001b[0m\u001b[1;33m(\u001b[0m\u001b[0mself\u001b[0m\u001b[1;33m,\u001b[0m \u001b[0mkey\u001b[0m\u001b[1;33m:\u001b[0m \u001b[0mTuple\u001b[0m\u001b[1;33m)\u001b[0m\u001b[1;33m:\u001b[0m\u001b[1;33m\u001b[0m\u001b[1;33m\u001b[0m\u001b[0m\n",
      "\u001b[1;32mE:\\Users\\Gamer\\anaconda3\\envs\\test_tensorflow_install\\lib\\site-packages\\pandas\\core\\indexing.py\u001b[0m in \u001b[0;36m_getitem_axis\u001b[1;34m(self, key, axis)\u001b[0m\n\u001b[0;32m   1111\u001b[0m                     \u001b[1;32mraise\u001b[0m \u001b[0mValueError\u001b[0m\u001b[1;33m(\u001b[0m\u001b[1;34m\"Cannot index with multidimensional key\"\u001b[0m\u001b[1;33m)\u001b[0m\u001b[1;33m\u001b[0m\u001b[1;33m\u001b[0m\u001b[0m\n\u001b[0;32m   1112\u001b[0m \u001b[1;33m\u001b[0m\u001b[0m\n\u001b[1;32m-> 1113\u001b[1;33m                 \u001b[1;32mreturn\u001b[0m \u001b[0mself\u001b[0m\u001b[1;33m.\u001b[0m\u001b[0m_getitem_iterable\u001b[0m\u001b[1;33m(\u001b[0m\u001b[0mkey\u001b[0m\u001b[1;33m,\u001b[0m \u001b[0maxis\u001b[0m\u001b[1;33m=\u001b[0m\u001b[0maxis\u001b[0m\u001b[1;33m)\u001b[0m\u001b[1;33m\u001b[0m\u001b[1;33m\u001b[0m\u001b[0m\n\u001b[0m\u001b[0;32m   1114\u001b[0m \u001b[1;33m\u001b[0m\u001b[0m\n\u001b[0;32m   1115\u001b[0m             \u001b[1;31m# nested tuple slicing\u001b[0m\u001b[1;33m\u001b[0m\u001b[1;33m\u001b[0m\u001b[1;33m\u001b[0m\u001b[0m\n",
      "\u001b[1;32mE:\\Users\\Gamer\\anaconda3\\envs\\test_tensorflow_install\\lib\\site-packages\\pandas\\core\\indexing.py\u001b[0m in \u001b[0;36m_getitem_iterable\u001b[1;34m(self, key, axis)\u001b[0m\n\u001b[0;32m   1051\u001b[0m \u001b[1;33m\u001b[0m\u001b[0m\n\u001b[0;32m   1052\u001b[0m         \u001b[1;31m# A collection of keys\u001b[0m\u001b[1;33m\u001b[0m\u001b[1;33m\u001b[0m\u001b[1;33m\u001b[0m\u001b[0m\n\u001b[1;32m-> 1053\u001b[1;33m         \u001b[0mkeyarr\u001b[0m\u001b[1;33m,\u001b[0m \u001b[0mindexer\u001b[0m \u001b[1;33m=\u001b[0m \u001b[0mself\u001b[0m\u001b[1;33m.\u001b[0m\u001b[0m_get_listlike_indexer\u001b[0m\u001b[1;33m(\u001b[0m\u001b[0mkey\u001b[0m\u001b[1;33m,\u001b[0m \u001b[0maxis\u001b[0m\u001b[1;33m,\u001b[0m \u001b[0mraise_missing\u001b[0m\u001b[1;33m=\u001b[0m\u001b[1;32mFalse\u001b[0m\u001b[1;33m)\u001b[0m\u001b[1;33m\u001b[0m\u001b[1;33m\u001b[0m\u001b[0m\n\u001b[0m\u001b[0;32m   1054\u001b[0m         return self.obj._reindex_with_indexers(\n\u001b[0;32m   1055\u001b[0m             \u001b[1;33m{\u001b[0m\u001b[0maxis\u001b[0m\u001b[1;33m:\u001b[0m \u001b[1;33m[\u001b[0m\u001b[0mkeyarr\u001b[0m\u001b[1;33m,\u001b[0m \u001b[0mindexer\u001b[0m\u001b[1;33m]\u001b[0m\u001b[1;33m}\u001b[0m\u001b[1;33m,\u001b[0m \u001b[0mcopy\u001b[0m\u001b[1;33m=\u001b[0m\u001b[1;32mTrue\u001b[0m\u001b[1;33m,\u001b[0m \u001b[0mallow_dups\u001b[0m\u001b[1;33m=\u001b[0m\u001b[1;32mTrue\u001b[0m\u001b[1;33m\u001b[0m\u001b[1;33m\u001b[0m\u001b[0m\n",
      "\u001b[1;32mE:\\Users\\Gamer\\anaconda3\\envs\\test_tensorflow_install\\lib\\site-packages\\pandas\\core\\indexing.py\u001b[0m in \u001b[0;36m_get_listlike_indexer\u001b[1;34m(self, key, axis, raise_missing)\u001b[0m\n\u001b[0;32m   1264\u001b[0m             \u001b[0mkeyarr\u001b[0m\u001b[1;33m,\u001b[0m \u001b[0mindexer\u001b[0m\u001b[1;33m,\u001b[0m \u001b[0mnew_indexer\u001b[0m \u001b[1;33m=\u001b[0m \u001b[0max\u001b[0m\u001b[1;33m.\u001b[0m\u001b[0m_reindex_non_unique\u001b[0m\u001b[1;33m(\u001b[0m\u001b[0mkeyarr\u001b[0m\u001b[1;33m)\u001b[0m\u001b[1;33m\u001b[0m\u001b[1;33m\u001b[0m\u001b[0m\n\u001b[0;32m   1265\u001b[0m \u001b[1;33m\u001b[0m\u001b[0m\n\u001b[1;32m-> 1266\u001b[1;33m         \u001b[0mself\u001b[0m\u001b[1;33m.\u001b[0m\u001b[0m_validate_read_indexer\u001b[0m\u001b[1;33m(\u001b[0m\u001b[0mkeyarr\u001b[0m\u001b[1;33m,\u001b[0m \u001b[0mindexer\u001b[0m\u001b[1;33m,\u001b[0m \u001b[0maxis\u001b[0m\u001b[1;33m,\u001b[0m \u001b[0mraise_missing\u001b[0m\u001b[1;33m=\u001b[0m\u001b[0mraise_missing\u001b[0m\u001b[1;33m)\u001b[0m\u001b[1;33m\u001b[0m\u001b[1;33m\u001b[0m\u001b[0m\n\u001b[0m\u001b[0;32m   1267\u001b[0m         \u001b[1;32mreturn\u001b[0m \u001b[0mkeyarr\u001b[0m\u001b[1;33m,\u001b[0m \u001b[0mindexer\u001b[0m\u001b[1;33m\u001b[0m\u001b[1;33m\u001b[0m\u001b[0m\n\u001b[0;32m   1268\u001b[0m \u001b[1;33m\u001b[0m\u001b[0m\n",
      "\u001b[1;32mE:\\Users\\Gamer\\anaconda3\\envs\\test_tensorflow_install\\lib\\site-packages\\pandas\\core\\indexing.py\u001b[0m in \u001b[0;36m_validate_read_indexer\u001b[1;34m(self, key, indexer, axis, raise_missing)\u001b[0m\n\u001b[0;32m   1320\u001b[0m             \u001b[1;32mwith\u001b[0m \u001b[0moption_context\u001b[0m\u001b[1;33m(\u001b[0m\u001b[1;34m\"display.max_seq_items\"\u001b[0m\u001b[1;33m,\u001b[0m \u001b[1;36m10\u001b[0m\u001b[1;33m,\u001b[0m \u001b[1;34m\"display.width\"\u001b[0m\u001b[1;33m,\u001b[0m \u001b[1;36m80\u001b[0m\u001b[1;33m)\u001b[0m\u001b[1;33m:\u001b[0m\u001b[1;33m\u001b[0m\u001b[1;33m\u001b[0m\u001b[0m\n\u001b[0;32m   1321\u001b[0m                 raise KeyError(\n\u001b[1;32m-> 1322\u001b[1;33m                     \u001b[1;34m\"Passing list-likes to .loc or [] with any missing labels \"\u001b[0m\u001b[1;33m\u001b[0m\u001b[1;33m\u001b[0m\u001b[0m\n\u001b[0m\u001b[0;32m   1323\u001b[0m                     \u001b[1;34m\"is no longer supported. \"\u001b[0m\u001b[1;33m\u001b[0m\u001b[1;33m\u001b[0m\u001b[0m\n\u001b[0;32m   1324\u001b[0m                     \u001b[1;34mf\"The following labels were missing: {not_found}. \"\u001b[0m\u001b[1;33m\u001b[0m\u001b[1;33m\u001b[0m\u001b[0m\n",
      "\u001b[1;31mKeyError\u001b[0m: \"Passing list-likes to .loc or [] with any missing labels is no longer supported. The following labels were missing: Int64Index([    1,     3,     4,     5,     6,\\n            ...\\n            30585, 30586, 30587, 30588, 30589],\\n           dtype='int64', name='id', length=23834). See https://pandas.pydata.org/pandas-docs/stable/user_guide/indexing.html#deprecate-loc-reindex-listlike\""
     ]
    }
   ],
   "source": [
    "BES_Panel.loc[not_W8_values.index][not_W8_values][search(BES_Panel,\"wave\").index].sum()"
   ]
  },
  {
   "cell_type": "code",
   "execution_count": null,
   "id": "be8a42d3",
   "metadata": {},
   "outputs": [],
   "source": []
  },
  {
   "cell_type": "code",
   "execution_count": null,
   "id": "8a277e5a",
   "metadata": {},
   "outputs": [],
   "source": [
    "#### BUGGGGG! W10_only appears to have W17 variables????\n",
    "\n",
    "\n",
    "\n",
    "# W10_only\n",
    "# Index(['lr1W17', 'lr2W17', 'lr3W17', 'lr4W17', 'lr5W17', 'al1W17', 'al2W17',\n",
    "#        'al3W17', 'al4W17', 'al5W17', 'lr1', 'lr2', 'lr3', 'lr4', 'lr5', 'al1',\n",
    "#        'al2', 'al3', 'al4', 'al5', 'lr_scale', 'al_scale', 'lr_scaleW17',\n",
    "#        'al_scaleW17'],"
   ]
  }
 ],
 "metadata": {
  "kernelspec": {
   "display_name": "Python 3 (ipykernel)",
   "language": "python",
   "name": "python3"
  },
  "language_info": {
   "codemirror_mode": {
    "name": "ipython",
    "version": 3
   },
   "file_extension": ".py",
   "mimetype": "text/x-python",
   "name": "python",
   "nbconvert_exporter": "python",
   "pygments_lexer": "ipython3",
   "version": "3.7.10"
  }
 },
 "nbformat": 4,
 "nbformat_minor": 5
}
