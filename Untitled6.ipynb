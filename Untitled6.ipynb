{
 "cells": [
  {
   "cell_type": "code",
   "execution_count": 1,
   "id": "6a952cff",
   "metadata": {},
   "outputs": [
    {
     "data": {
      "text/html": [
       "<script>jQuery(function() {if (jQuery(\"body.notebook_app\").length == 0) { jQuery(\".input_area\").toggle(); jQuery(\".prompt\").toggle();}});</script>"
      ]
     },
     "metadata": {},
     "output_type": "display_data"
    },
    {
     "data": {
      "text/html": [
       "<button onclick=\"jQuery('.input_area').toggle(); jQuery('.prompt').toggle();\">Toggle code</button>"
      ]
     },
     "metadata": {},
     "output_type": "display_data"
    },
    {
     "name": "stdout",
     "output_type": "stream",
     "text": [
      "2023-07-05 22:12:18,490 WARNING: panel.io.resources - Mimetype declaration for .js files was set to 'text/plain'. This will interefere with serving JS modules. Ensure your system does not override the mimetype declaration and/or contact your system administrator. \n",
      "Wall time: 2.3 s\n"
     ]
    }
   ],
   "source": [
    "%%time\n",
    "dataset_name = \"W16_only\"\n",
    "df_list = \"BES_Panel\"\n",
    "\n",
    "%matplotlib inline\n",
    "%run BES_header.py {dataset_name} {df_list}"
   ]
  },
  {
   "cell_type": "code",
   "execution_count": 4,
   "id": "437eb66d",
   "metadata": {},
   "outputs": [
    {
     "data": {
      "text/plain": [
       "euRefDoOver             37959\n",
       "euRefVote               37959\n",
       "euRefLA                 37959\n",
       "profiles_newspaper2     13775\n",
       "profile_newspaper       14759\n",
       "profile_eurefvote       32797\n",
       "profile_eurefturnout    37954\n",
       "dtype: int64"
      ]
     },
     "execution_count": 4,
     "metadata": {},
     "output_type": "execute_result"
    }
   ],
   "source": [
    "search(BES_Panel,\"newspaper|euref\")"
   ]
  },
  {
   "cell_type": "code",
   "execution_count": 12,
   "id": "3a2ff794",
   "metadata": {},
   "outputs": [
    {
     "data": {
      "text/plain": [
       "None                                           34.202859\n",
       "The Daily Mail / The Scottish Daily Mail       14.431872\n",
       "The Sun                                        13.544278\n",
       "The Mirror / Daily Record                       7.690223\n",
       "Other Newspaper                                 6.938139\n",
       "The Guardian                                    4.871604\n",
       "The Times                                       4.214378\n",
       "The Daily Telegraph                             4.051765\n",
       "Other local daily morning newspaper             3.699438\n",
       "The Express                                     2.127515\n",
       "The Independent                                 1.456738\n",
       "The Daily Star / The Daily Star of Scotland     0.996002\n",
       "The Herald (Glasgow)                            0.650451\n",
       "The Scotsman                                    0.569144\n",
       "The Financial Times                             0.345552\n",
       "The Western Mail                                0.210041\n",
       "Name: profile_newspaper, dtype: float64"
      ]
     },
     "execution_count": 12,
     "metadata": {},
     "output_type": "execute_result"
    }
   ],
   "source": [
    "(BES_Panel[\"profile_newspaper\"].value_counts(normalize=True)*100)"
   ]
  },
  {
   "cell_type": "code",
   "execution_count": 27,
   "id": "8f54ae5c",
   "metadata": {},
   "outputs": [
    {
     "data": {
      "text/html": [
       "<div>\n",
       "<style scoped>\n",
       "    .dataframe tbody tr th:only-of-type {\n",
       "        vertical-align: middle;\n",
       "    }\n",
       "\n",
       "    .dataframe tbody tr th {\n",
       "        vertical-align: top;\n",
       "    }\n",
       "\n",
       "    .dataframe thead th {\n",
       "        text-align: right;\n",
       "    }\n",
       "</style>\n",
       "<table border=\"1\" class=\"dataframe\">\n",
       "  <thead>\n",
       "    <tr style=\"text-align: right;\">\n",
       "      <th>euRefVote</th>\n",
       "      <th>Stay/remain in the EU</th>\n",
       "      <th>Leave the EU</th>\n",
       "      <th>I would/will not vote</th>\n",
       "      <th>Don't know</th>\n",
       "    </tr>\n",
       "    <tr>\n",
       "      <th>profile_newspaper</th>\n",
       "      <th></th>\n",
       "      <th></th>\n",
       "      <th></th>\n",
       "      <th></th>\n",
       "    </tr>\n",
       "  </thead>\n",
       "  <tbody>\n",
       "    <tr>\n",
       "      <th>The Express</th>\n",
       "      <td>0.92</td>\n",
       "      <td>3.02</td>\n",
       "      <td>0.75</td>\n",
       "      <td>1.46</td>\n",
       "    </tr>\n",
       "    <tr>\n",
       "      <th>The Daily Mail / The Scottish Daily Mail</th>\n",
       "      <td>8.30</td>\n",
       "      <td>19.36</td>\n",
       "      <td>12.12</td>\n",
       "      <td>10.70</td>\n",
       "    </tr>\n",
       "    <tr>\n",
       "      <th>The Mirror / Daily Record</th>\n",
       "      <td>8.35</td>\n",
       "      <td>6.51</td>\n",
       "      <td>8.15</td>\n",
       "      <td>8.60</td>\n",
       "    </tr>\n",
       "    <tr>\n",
       "      <th>The Daily Star / The Daily Star of Scotland</th>\n",
       "      <td>0.52</td>\n",
       "      <td>1.55</td>\n",
       "      <td>1.82</td>\n",
       "      <td>1.53</td>\n",
       "    </tr>\n",
       "    <tr>\n",
       "      <th>The Sun</th>\n",
       "      <td>8.25</td>\n",
       "      <td>20.11</td>\n",
       "      <td>20.05</td>\n",
       "      <td>16.43</td>\n",
       "    </tr>\n",
       "    <tr>\n",
       "      <th>The Daily Telegraph</th>\n",
       "      <td>2.65</td>\n",
       "      <td>5.08</td>\n",
       "      <td>2.26</td>\n",
       "      <td>2.37</td>\n",
       "    </tr>\n",
       "    <tr>\n",
       "      <th>The Financial Times</th>\n",
       "      <td>0.37</td>\n",
       "      <td>0.33</td>\n",
       "      <td>0.25</td>\n",
       "      <td>0.29</td>\n",
       "    </tr>\n",
       "    <tr>\n",
       "      <th>The Guardian</th>\n",
       "      <td>9.41</td>\n",
       "      <td>0.73</td>\n",
       "      <td>1.39</td>\n",
       "      <td>2.78</td>\n",
       "    </tr>\n",
       "    <tr>\n",
       "      <th>The Independent</th>\n",
       "      <td>2.49</td>\n",
       "      <td>0.41</td>\n",
       "      <td>0.21</td>\n",
       "      <td>1.06</td>\n",
       "    </tr>\n",
       "    <tr>\n",
       "      <th>The Times</th>\n",
       "      <td>5.18</td>\n",
       "      <td>2.95</td>\n",
       "      <td>1.18</td>\n",
       "      <td>2.01</td>\n",
       "    </tr>\n",
       "    <tr>\n",
       "      <th>The Scotsman</th>\n",
       "      <td>0.71</td>\n",
       "      <td>0.22</td>\n",
       "      <td>0.45</td>\n",
       "      <td>0.55</td>\n",
       "    </tr>\n",
       "    <tr>\n",
       "      <th>The Herald (Glasgow)</th>\n",
       "      <td>0.89</td>\n",
       "      <td>0.18</td>\n",
       "      <td>0.00</td>\n",
       "      <td>0.12</td>\n",
       "    </tr>\n",
       "    <tr>\n",
       "      <th>The Western Mail</th>\n",
       "      <td>0.24</td>\n",
       "      <td>0.07</td>\n",
       "      <td>0.06</td>\n",
       "      <td>0.28</td>\n",
       "    </tr>\n",
       "    <tr>\n",
       "      <th>Other local daily morning newspaper</th>\n",
       "      <td>4.27</td>\n",
       "      <td>3.01</td>\n",
       "      <td>3.51</td>\n",
       "      <td>4.21</td>\n",
       "    </tr>\n",
       "    <tr>\n",
       "      <th>Other Newspaper</th>\n",
       "      <td>8.60</td>\n",
       "      <td>5.21</td>\n",
       "      <td>7.36</td>\n",
       "      <td>7.84</td>\n",
       "    </tr>\n",
       "    <tr>\n",
       "      <th>None</th>\n",
       "      <td>38.84</td>\n",
       "      <td>31.27</td>\n",
       "      <td>40.46</td>\n",
       "      <td>39.77</td>\n",
       "    </tr>\n",
       "  </tbody>\n",
       "</table>\n",
       "</div>"
      ],
      "text/plain": [
       "euRefVote                                    Stay/remain in the EU  \\\n",
       "profile_newspaper                                                    \n",
       "The Express                                                   0.92   \n",
       "The Daily Mail / The Scottish Daily Mail                      8.30   \n",
       "The Mirror / Daily Record                                     8.35   \n",
       "The Daily Star / The Daily Star of Scotland                   0.52   \n",
       "The Sun                                                       8.25   \n",
       "The Daily Telegraph                                           2.65   \n",
       "The Financial Times                                           0.37   \n",
       "The Guardian                                                  9.41   \n",
       "The Independent                                               2.49   \n",
       "The Times                                                     5.18   \n",
       "The Scotsman                                                  0.71   \n",
       "The Herald (Glasgow)                                          0.89   \n",
       "The Western Mail                                              0.24   \n",
       "Other local daily morning newspaper                           4.27   \n",
       "Other Newspaper                                               8.60   \n",
       "None                                                         38.84   \n",
       "\n",
       "euRefVote                                    Leave the EU  \\\n",
       "profile_newspaper                                           \n",
       "The Express                                          3.02   \n",
       "The Daily Mail / The Scottish Daily Mail            19.36   \n",
       "The Mirror / Daily Record                            6.51   \n",
       "The Daily Star / The Daily Star of Scotland          1.55   \n",
       "The Sun                                             20.11   \n",
       "The Daily Telegraph                                  5.08   \n",
       "The Financial Times                                  0.33   \n",
       "The Guardian                                         0.73   \n",
       "The Independent                                      0.41   \n",
       "The Times                                            2.95   \n",
       "The Scotsman                                         0.22   \n",
       "The Herald (Glasgow)                                 0.18   \n",
       "The Western Mail                                     0.07   \n",
       "Other local daily morning newspaper                  3.01   \n",
       "Other Newspaper                                      5.21   \n",
       "None                                                31.27   \n",
       "\n",
       "euRefVote                                    I would/will not vote  Don't know  \n",
       "profile_newspaper                                                               \n",
       "The Express                                                   0.75        1.46  \n",
       "The Daily Mail / The Scottish Daily Mail                     12.12       10.70  \n",
       "The Mirror / Daily Record                                     8.15        8.60  \n",
       "The Daily Star / The Daily Star of Scotland                   1.82        1.53  \n",
       "The Sun                                                      20.05       16.43  \n",
       "The Daily Telegraph                                           2.26        2.37  \n",
       "The Financial Times                                           0.25        0.29  \n",
       "The Guardian                                                  1.39        2.78  \n",
       "The Independent                                               0.21        1.06  \n",
       "The Times                                                     1.18        2.01  \n",
       "The Scotsman                                                  0.45        0.55  \n",
       "The Herald (Glasgow)                                          0.00        0.12  \n",
       "The Western Mail                                              0.06        0.28  \n",
       "Other local daily morning newspaper                           3.51        4.21  \n",
       "Other Newspaper                                               7.36        7.84  \n",
       "None                                                         40.46       39.77  "
      ]
     },
     "execution_count": 27,
     "metadata": {},
     "output_type": "execute_result"
    }
   ],
   "source": [
    "round(pd.crosstab(BES_Panel[\"profile_newspaper\"],BES_Panel[\"euRefVote\"],values=BES_Panel[\"wt_new_\"],\n",
    "                  aggfunc=sum,normalize='columns')*100,2)"
   ]
  },
  {
   "cell_type": "code",
   "execution_count": null,
   "id": "3f8ec578",
   "metadata": {},
   "outputs": [],
   "source": []
  },
  {
   "cell_type": "code",
   "execution_count": null,
   "id": "0b024e05",
   "metadata": {},
   "outputs": [],
   "source": []
  }
 ],
 "metadata": {
  "kernelspec": {
   "display_name": "Python 3 (ipykernel)",
   "language": "python",
   "name": "python3"
  },
  "language_info": {
   "codemirror_mode": {
    "name": "ipython",
    "version": 3
   },
   "file_extension": ".py",
   "mimetype": "text/x-python",
   "name": "python",
   "nbconvert_exporter": "python",
   "pygments_lexer": "ipython3",
   "version": "3.7.12"
  }
 },
 "nbformat": 4,
 "nbformat_minor": 5
}
