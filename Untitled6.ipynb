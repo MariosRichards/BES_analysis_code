{
 "cells": [
  {
   "cell_type": "code",
   "execution_count": 1,
   "metadata": {
    "collapsed": true
   },
   "outputs": [],
   "source": [
    "# Looking at this: https://twitter.com/p_surridge/status/953238833964908544\n",
    "        \n",
    "# Populism and nationalism not as correlated as you might expect among the electorate?\n",
    "\n",
    "# ethno variables and populism variables\n",
    "\n",
    "# I wonder - are they mediated by al_scale?"
   ]
  },
  {
   "cell_type": "code",
   "execution_count": 2,
   "metadata": {
    "collapsed": true
   },
   "outputs": [],
   "source": [
    "import numpy as np\n",
    "import pandas as pd\n",
    "%matplotlib inline\n",
    "import matplotlib.pyplot as plt\n",
    "import gc\n",
    "import re\n",
    "\n",
    "from itertools import cycle\n",
    "from IPython.display import display\n",
    "import pickle, os\n",
    "\n",
    "import seaborn as sns\n",
    "\n",
    "encoding = \"ISO-8859-1\"\n",
    "\n",
    "import Jupyter_module_loader"
   ]
  },
  {
   "cell_type": "code",
   "execution_count": 3,
   "metadata": {
    "collapsed": true
   },
   "outputs": [],
   "source": [
    "# you should clone this git to this subdirectory (in some directory - I call it BES_analysis - doesn't matter though)\n",
    "\n",
    "if os.getcwd().split(os.sep)[-1] != 'BES_analysis_code':\n",
    "    raise Exception(\"Stop! You're in the wrong directory - should be in 'BES_analysis_code'\")\n",
    "\n",
    "BES_code_folder   = \"../BES_analysis_code/\" # we should be here!\n",
    "BES_small_data_files = BES_code_folder + \"small data files\" + os.sep\n",
    "if not os.path.exists( BES_small_data_files ):\n",
    "    os.makedirs( BES_small_data_files )\n",
    "\n",
    "# we should create these if they don't already exist\n",
    "BES_data_folder   = \"../BES_analysis_data/\"\n",
    "if not os.path.exists( BES_data_folder ):\n",
    "    os.makedirs( BES_data_folder )\n",
    "\n",
    "BES_output_folder = \"../BES_analysis_output/\"\n",
    "if not os.path.exists( BES_output_folder ):\n",
    "    os.makedirs( BES_output_folder )\n",
    "    \n",
    "BES_file_manifest = pd.read_csv( BES_small_data_files + \"BES_file_manifest.csv\" )"
   ]
  },
  {
   "cell_type": "code",
   "execution_count": 4,
   "metadata": {
    "collapsed": true
   },
   "outputs": [],
   "source": [
    "from sklearn import datasets\n",
    "from sklearn.decomposition import PCA, IncrementalPCA, NMF, TruncatedSVD, FastICA, FactorAnalysis, SparsePCA\n",
    "from sklearn.preprocessing import StandardScaler\n",
    "from sklearn.discriminant_analysis import LinearDiscriminantAnalysis\n",
    "\n",
    "from gaussian_kde import gaussian_kde\n",
    "from utility import display_components,display_pca_data\n"
   ]
  },
  {
   "cell_type": "code",
   "execution_count": 5,
   "metadata": {},
   "outputs": [
    {
     "name": "stdout",
     "output_type": "stream",
     "text": [
      "BES_Panel (30319, 393)\n",
      "BES_numeric (30319, 372)\n",
      "var_type (393, 13)\n",
      "BES_non_numeric (30319, 18)\n",
      "BES_reduced (30319, 419)\n",
      "BES_reduced_with_na (30319, 419)\n",
      "Wall time: 10.6 s\n"
     ]
    }
   ],
   "source": [
    "%%time\n",
    "\n",
    "dataset_name = \"W10_only\"\n",
    "\n",
    "manifest = BES_file_manifest[ BES_file_manifest[\"Name\"] == dataset_name ]\n",
    "\n",
    "data_subfolder = BES_data_folder + dataset_name + os.sep\n",
    "\n",
    "dataset_filename = manifest[\"Stata_Filename\"].values[0]\n",
    "\n",
    "BES_Panel = pd.read_stata( data_subfolder + dataset_filename )\n",
    "print(\"BES_Panel\", BES_Panel.shape )\n",
    "\n",
    "####\n",
    "\n",
    "BES_numeric = pd.read_hdf( data_subfolder + \"BESnumeric.hdf\", \"BESnumeric\" )\n",
    "print(\"BES_numeric\",  BES_numeric.shape )\n",
    "\n",
    "var_type    = pd.read_csv( data_subfolder + \"var_type.csv\", encoding=encoding)\n",
    "var_type.set_index(\"Unnamed: 0\", inplace=True)\n",
    "print(\"var_type\",  var_type.shape )\n",
    "\n",
    "fname = data_subfolder + \"cat_dictionary.pkl\"\n",
    "with open(fname, \"rb\") as f:\n",
    "    cat_dictionary = pickle.load( f )\n",
    "    \n",
    "####\n",
    "\n",
    "BES_non_numeric = pd.read_hdf( data_subfolder + \"BESnon_numeric.hdf\", \"BESnon_numeric\" )\n",
    "print(\"BES_non_numeric\",  BES_non_numeric.shape )\n",
    "\n",
    "BES_reduced = pd.read_hdf( data_subfolder + \"BES_reduced.hdf\", \"BES_reduced\" )\n",
    "print(\"BES_reduced\",  BES_reduced.shape )\n",
    "\n",
    "BES_reduced_with_na = pd.read_hdf( data_subfolder + \"BES_reduced_with_na.hdf\", \"BES_reduced_with_na\")\n",
    "print(\"BES_reduced_with_na\", BES_reduced_with_na.shape )\n",
    "\n",
    "fname = data_subfolder + \"new_old_col_names.pkl\"\n",
    "with open(fname, \"rb\") as f:\n",
    "    new_old_col_names = pickle.load(f) "
   ]
  },
  {
   "cell_type": "code",
   "execution_count": 7,
   "metadata": {},
   "outputs": [
    {
     "data": {
      "text/plain": [
       "3.0    10031\n",
       "2.0     8821\n",
       "1.0     4692\n",
       "4.0     2807\n",
       "0.0      874\n",
       "Name: ethno1, dtype: int64"
      ]
     },
     "execution_count": 7,
     "metadata": {},
     "output_type": "execute_result"
    }
   ],
   "source": [
    "BES_numeric[\"ethno1\"].value_counts() # 1-6"
   ]
  },
  {
   "cell_type": "code",
   "execution_count": 8,
   "metadata": {},
   "outputs": [
    {
     "data": {
      "text/plain": [
       "3.0    14587\n",
       "4.0     6848\n",
       "2.0     5056\n",
       "1.0     1618\n",
       "0.0      370\n",
       "Name: populism1, dtype: int64"
      ]
     },
     "execution_count": 8,
     "metadata": {},
     "output_type": "execute_result"
    }
   ],
   "source": [
    "BES_numeric[\"populism1\"].value_counts() # 1-6"
   ]
  },
  {
   "cell_type": "code",
   "execution_count": 11,
   "metadata": {},
   "outputs": [
    {
     "data": {
      "text/plain": [
       "3.0    10759\n",
       "4.0     7769\n",
       "2.0     5674\n",
       "1.0     3007\n",
       "0.0     1122\n",
       "Name: al1, dtype: int64"
      ]
     },
     "execution_count": 11,
     "metadata": {},
     "output_type": "execute_result"
    }
   ],
   "source": [
    "BES_numeric[\"al1\"].value_counts() # 1-5"
   ]
  },
  {
   "cell_type": "code",
   "execution_count": 10,
   "metadata": {},
   "outputs": [
    {
     "data": {
      "text/plain": [
       "3.0    9370\n",
       "2.0    7020\n",
       "1.0    4996\n",
       "4.0    4791\n",
       "0.0    1736\n",
       "Name: lr1, dtype: int64"
      ]
     },
     "execution_count": 10,
     "metadata": {},
     "output_type": "execute_result"
    }
   ],
   "source": [
    "BES_numeric[\"lr1\"].value_counts() # 1-5"
   ]
  },
  {
   "cell_type": "code",
   "execution_count": null,
   "metadata": {
    "collapsed": true
   },
   "outputs": [],
   "source": []
  },
  {
   "cell_type": "code",
   "execution_count": null,
   "metadata": {
    "collapsed": true
   },
   "outputs": [],
   "source": []
  },
  {
   "cell_type": "code",
   "execution_count": null,
   "metadata": {
    "collapsed": true
   },
   "outputs": [],
   "source": []
  }
 ],
 "metadata": {
  "kernelspec": {
   "display_name": "Python 3",
   "language": "python",
   "name": "python3"
  },
  "language_info": {
   "codemirror_mode": {
    "name": "ipython",
    "version": 3
   },
   "file_extension": ".py",
   "mimetype": "text/x-python",
   "name": "python",
   "nbconvert_exporter": "python",
   "pygments_lexer": "ipython3",
   "version": "3.6.6"
  }
 },
 "nbformat": 4,
 "nbformat_minor": 2
}
