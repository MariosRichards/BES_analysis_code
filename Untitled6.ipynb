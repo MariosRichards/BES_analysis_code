{
 "cells": [
  {
   "cell_type": "code",
   "execution_count": null,
   "metadata": {},
   "outputs": [],
   "source": []
  },
  {
   "cell_type": "code",
   "execution_count": 1,
   "metadata": {},
   "outputs": [],
   "source": [
    "import IPython.core.display as di # Example: di.display_html('<h3>%s:</h3>' % str, raw=True)\n",
    "# This line will hide code by default when the notebook is exported as HTML\n",
    "di.display_html('<script>jQuery(function() {if (jQuery(\"body.notebook_app\").length == 0) { jQuery(\".input_area\").toggle(); jQuery(\".prompt\").toggle();}});</script>', raw=True)\n",
    "# This line will add a button to toggle visibility of code blocks, for use with the HTML export version\n",
    "di.display_html('''<button onclick=\"jQuery('.input_area').toggle(); jQuery('.prompt').toggle();\">Toggle code</button>''', raw=True)\n",
    "\n",
    "import numpy as np, pandas as pd, matplotlib.pyplot as plt, seaborn as sns\n",
    "import pickle, os, gc, re, sys\n",
    "\n",
    "sns.set();\n",
    "sns.set_palette(\"colorblind\")\n",
    "\n",
    "from IPython.display import display, display_html, HTML\n",
    "from IPython.core.debugger import set_trace\n",
    "# plt.rcParams[\"axes.grid\"] = False\n",
    "\n",
    "import Jupyter_module_loader\n",
    "# sys.path.insert(1, '/path/to/application/app/folder')\n",
    "from utility import *\n",
    "# import gaussian_kde\n",
    "\n",
    "# import warnings\n",
    "# warnings.filterwarnings('ignore')\n",
    "\n",
    "import holoviews as hv\n",
    "from holoviews import opts\n",
    "\n",
    "encoding = \"ISO-8859-1\"\n",
    "\n",
    "# you should clone this git to a subdirectory called 'BES_analysis_code' (in some directory - I call it BES_analysis - doesn't matter though)\n",
    "# %matplotlib inline\n",
    "\n"
   ]
  },
  {
   "cell_type": "code",
   "execution_count": 2,
   "metadata": {},
   "outputs": [],
   "source": [
    "def weighted_mean(x, **kws):\n",
    "    val, weight = map(np.asarray, zip(*x))\n",
    "    val, weight = val[~np.isnan(val)],weight[~np.isnan(val)]\n",
    "    return (val * weight).sum() / weight.sum()\n",
    "\n",
    "flatten = lambda l: [item for sublist in l for item in sublist]"
   ]
  },
  {
   "cell_type": "code",
   "execution_count": 3,
   "metadata": {},
   "outputs": [],
   "source": [
    "dataset_folder = \"C:\\\\Users\\\\Marios\\\\Documents\\\\GitHub\\\\Thomas Prosser project\\\\datasets\\\\\"\n",
    "output_folder = \"C:\\\\Users\\\\Marios\\\\Documents\\\\GitHub\\\\Thomas Prosser project\\\\output\\\\\"\n",
    "\n",
    "Manifesto_Project_Dataset_version_2019b = \"MPDataset_MPDS2019b_stata14.dta\"\n",
    "\n",
    "manifesto_project = pd.read_pickle(dataset_folder+Manifesto_Project_Dataset_version_2019b.replace(\"dta\",\"zip\"),compression='zip')"
   ]
  },
  {
   "cell_type": "code",
   "execution_count": 4,
   "metadata": {},
   "outputs": [],
   "source": [
    "EuropeanSocialSurvey9_2018_v2_integrated = \"ESS9e02.dta\"\n",
    "df = pd.read_stata(dataset_folder+EuropeanSocialSurvey9_2018_v2_integrated,convert_categoricals=False)\n",
    "original_column_order = df.columns\n",
    "\n",
    "columns_with_non_unique_category_labels = [\"edlvdlt\",\"edlvpdlt\",\"isco08\",\"isco08p\", \"edlvfdlt\",\"edlvmdlt\",]\n",
    "\n",
    "df = pd.read_stata(dataset_folder+EuropeanSocialSurvey9_2018_v2_integrated,\n",
    "                   columns=[x for x in original_column_order if x not in columns_with_non_unique_category_labels])\n",
    "\n",
    "object_cols = [\"cntry\",\"ctzshipd\",\"cntbrthd\",\"lnghom1\",\"lnghom2\",\"fbrncntc\",\"mbrncntc\",\"region\",\n",
    "              \"name\",\"edition\",\"proddate\"]\n",
    "\n",
    "df[object_cols] = df[object_cols].astype('category')\n",
    "\n",
    "df[columns_with_non_unique_category_labels] = pd.read_stata(dataset_folder+EuropeanSocialSurvey9_2018_v2_integrated,convert_categoricals=False,\n",
    "              columns=columns_with_non_unique_category_labels)\n",
    "df = df[original_column_order]\n",
    "\n",
    "reader = pd.io.stata.StataReader(dataset_folder+EuropeanSocialSurvey9_2018_v2_integrated)\n",
    "\n",
    "header = reader.variable_labels()\n",
    "labels = reader.value_labels()\n",
    "# labelling = labels[\"edlvdlt\"]\n",
    "\n",
    "## For now, I'll assume that the categories are *supposed* to be merged\n",
    "\n",
    "df[columns_with_non_unique_category_labels] = df[columns_with_non_unique_category_labels]\\\n",
    "    .apply(lambda x: x.map(labels[x.name]).astype('category').cat.set_categories(pd.Series(labels[x.name]).unique())  )\n",
    "\n",
    "df.to_pickle(dataset_folder+EuropeanSocialSurvey9_2018_v2_integrated.replace(\"dta\",\"zip\"),compression='zip')"
   ]
  },
  {
   "cell_type": "code",
   "execution_count": 5,
   "metadata": {},
   "outputs": [],
   "source": [
    "ESS = df.copy()"
   ]
  },
  {
   "cell_type": "code",
   "execution_count": 6,
   "metadata": {},
   "outputs": [
    {
     "ename": "NameError",
     "evalue": "name 'EuropeanSocialSurvey' is not defined",
     "output_type": "error",
     "traceback": [
      "\u001b[1;31m---------------------------------------------------------------------------\u001b[0m",
      "\u001b[1;31mNameError\u001b[0m                                 Traceback (most recent call last)",
      "\u001b[1;32m<ipython-input-6-a7e3227eacab>\u001b[0m in \u001b[0;36m<module>\u001b[1;34m\u001b[0m\n\u001b[1;32m----> 1\u001b[1;33m \u001b[0mdeciles\u001b[0m \u001b[1;33m=\u001b[0m \u001b[0mEuropeanSocialSurvey\u001b[0m\u001b[1;33m[\u001b[0m\u001b[1;34m'hinctnta'\u001b[0m\u001b[1;33m]\u001b[0m\u001b[1;33m.\u001b[0m\u001b[0mcat\u001b[0m\u001b[1;33m.\u001b[0m\u001b[0mcodes\u001b[0m\u001b[1;33m.\u001b[0m\u001b[0mreplace\u001b[0m\u001b[1;33m(\u001b[0m\u001b[1;33m-\u001b[0m\u001b[1;36m1\u001b[0m\u001b[1;33m,\u001b[0m\u001b[0mnp\u001b[0m\u001b[1;33m.\u001b[0m\u001b[0mnan\u001b[0m\u001b[1;33m)\u001b[0m\u001b[1;33m\u001b[0m\u001b[1;33m\u001b[0m\u001b[0m\n\u001b[0m",
      "\u001b[1;31mNameError\u001b[0m: name 'EuropeanSocialSurvey' is not defined"
     ]
    }
   ],
   "source": [
    "deciles = EuropeanSocialSurvey['hinctnta'].cat.codes.replace(-1,np.nan)"
   ]
  },
  {
   "cell_type": "code",
   "execution_count": null,
   "metadata": {},
   "outputs": [],
   "source": [
    "vote_vars = ['prtvtcat',\n",
    " 'prtvtdbe',\n",
    " 'prtvtdbg',\n",
    " 'prtvtgch',\n",
    " 'prtvtbcy',\n",
    " 'prtvtecz',\n",
    "#  'prtvede1',\n",
    " 'prtvede2',\n",
    " 'prtvtgee',\n",
    " 'prtvtees',\n",
    " 'prtvtdfi',\n",
    " 'prtvtdfr',\n",
    " 'prtvtcgb',\n",
    " 'prtvtahr',\n",
    " 'prtvtfhu',\n",
    " 'prtvtcie',\n",
    " 'prtvtcit',\n",
    " 'prtvblt1',\n",
    "#  'prtvblt2',\n",
    "#  'prtvblt3',\n",
    " 'prtvtalv',\n",
    " 'prtvtme',\n",
    " 'prtvtgnl',\n",
    " 'prtvtbno',\n",
    " 'prtvtdpl',\n",
    " 'prtvtcpt',\n",
    " 'prtvtrs',\n",
    " 'prtvtcse',\n",
    " 'prtvtfsi',\n",
    " 'prtvtdsk']\n",
    "\n",
    "\n",
    "votes_country_dict = {x:re.sub(\"Party voted for in last national election\\s?\\d?, \",\"\",header[x])\\\n",
    "                      .replace('France (ballot 1)',\"France\")\\\n",
    "                      .replace('Ireland (derived from 1st preference','Ireland')\\\n",
    "                      .replace('Lithuania (first vote, party)','Lithuania')\n",
    "                      for x in vote_vars}\n",
    "\n",
    "ESS_big_parties_to_CMP_parties = {'Ã\\x96VP':42520, 'SPÃ\\x96':42320, 'FPÃ\\x96':42420, 'GrÃ¼ne':42110,#Austria\n",
    " 'N-VA':21916, 'PS':21322, 'CD&V':21521,  'MR':21426,#Belgium\n",
    " 'Grazhdani za evropeiÌ\\x86sko razvitie na Bulgariya (GERB)':80510,\n",
    "       'Balgarska sotsialisticheska partiya (BSP)':80220,\n",
    "       'Dvizhenie za prava i svobodi (DPS)':80951,#Bulgaria \n",
    "       'Social Democratic Party / Socialist Party':43320, 'FDP. The Liberals':43420,\n",
    "           \"Swiss People's Party\":43810,#Swizterland\n",
    "       'Democratic Rally (DISY)':55711,#Cyprus\n",
    "       'ANO 2011':82430,'ODS':82413, 'Ä\\x8cSSD':82320,\n",
    "         'Ä\\x8ceskÃ¡ pirÃ¡tskÃ¡ strana':82953, 'KSÄ\\x8cM':82220,#Czechia\n",
    "       'Christian Democratic Union/Christian Social Union (CDU/CSU)':41521,\n",
    "           'Social Democratic Party (SPD)':41320,\n",
    "           'Alliance 90/The Greens (BÃ¼ndnis 90/Die GrÃ¼nen)':41113,\n",
    "           'Free Democratic Party (FDP)':41420, 'The Left (Die Linke)':41223,\n",
    "           'Alternative for Germany (AFD)':41953,#Germany\n",
    "       'Eesti Reformierakond':83430,\n",
    "       'Eesti Keskerakond':83411, 'Sotsiaaldemokraatlik Erakond':83410,\n",
    "       'Erakond Isamaa ja Res Publica Liit':83611,#Estonia\n",
    "       'PSOE':33320, 'PP':33610,'Unidas Podemos':33210, 'VOX':np.nan,#Spain\n",
    "       'The National Coalition Party':14620,\n",
    "           'The Centre Party':14810, 'Social Democratic Party':14320, 'Green League':14110,\n",
    "           'True Finns':14820,#Finland\n",
    "     'LREM (LA RÃ\\x89PUBLIQUE EN MARCHE)':31425,\n",
    "       'LR (LES RÃ\\x89PUBLICAINS)':31626, 'PS (Parti Socialiste)':31320,\n",
    "       'FN (Front National)':31720,#France\n",
    "         'Conservative':51620, 'Labour':51320, 'Liberal Democrat':51421,#United Kingdom\n",
    " 'Narodna koalicija - SDP, HNS, HSU, HSS':81032,  'Hrvatska demokratska zajednica (HDZ)':81711,#Croatia\n",
    "       'Fidesz (Fidesz Magyar PolgÃ¡ri PÃ¡rt)':86421,\n",
    "       'Jobbik (Jobbik MagyarorszÃ¡gÃ©rt Mozgalom)':86710,\n",
    "       'MSZP (Magyar Szocialista PÃ¡rt)':86320,#Hungary\n",
    " 'Fine Gael':53520, 'Fianna FÃ¡il':53620,\n",
    "       'Independent':53981, 'Sinn FÃ©in':53951,#Ireland\n",
    " 'Movimento 5 Stelle':32956,\n",
    "       'Partido Democratico (PD)':32440, 'Lega Nord':32720,#Italy\n",
    "       'Lithuanian Peasant and Greens Union (LVZS)':88820,\n",
    "       'Homeland Union - Lithuanian Christian Democrats (TS-LKD)':88621,\n",
    "       'Lithuanian Social Democratic Party (LSDP)':88320,#Lithuania\n",
    " \n",
    "       'DPS - Milo Ä\\x90ukanoviÄ\\x87':91220,#Montenegro\n",
    " \n",
    "       \"People's Party for Freedom and Democracy\":22955, \"Democrats '66\":22330,\n",
    "       'Green Left':22110, 'Christian Democratic Appeal':22521,#Netherlands\n",
    " 'HÃ¸yre':12620,\n",
    "       'Arbeiderpartiet':12320, 'Fremskrittspartiet':12951,#Norway\n",
    "       'Prawo i SprawiedliwoÅ\\x9bÄ\\x87':92436, 'Platforma Obywatelska':92435,#Poland\n",
    "       'PS - Partido Socialista':35311,\n",
    "       'PPD-PSD/CDS-PP - Portugal Ã\\xa0 Frente':35313,#Portugal\n",
    "       'Aleksandar VuÄ\\x8diÄ\\x87-Srbija pobeÄ\\x91uje':95071,#Serbia\n",
    "       'Socialdemokraterna':11320, 'Moderata samlingspartiet':11620, 'Centern':11810,\n",
    "       'Sverigedemokraterna':11710, 'VÃ¤nsterpartiet':11220,#Sweden\n",
    "       'SDS - Slovenska demokratska stranka':97330,\n",
    "       'LMÅ\\xa0 - Lista Marjana Å\\xa0arca':np.nan,#Slovenia\n",
    " 'Smer â\\x80\\x93 SD':96423#Slovakia]\n",
    "}"
   ]
  },
  {
   "cell_type": "code",
   "execution_count": null,
   "metadata": {},
   "outputs": [],
   "source": [
    "minimum_sample_size = 100\n",
    "\n",
    "big_parties_by_country_dict = {}\n",
    "for vote_var in votes_country_dict.keys():\n",
    "    big_parties_by_country_dict[ votes_country_dict[vote_var] ] = list(ESS[vote_var].value_counts()[ESS[vote_var].value_counts()>=minimum_sample_size].index)\n",
    "big_parties_by_country_dict"
   ]
  },
  {
   "cell_type": "code",
   "execution_count": null,
   "metadata": {},
   "outputs": [],
   "source": [
    "ESS[\"income_deciles_wts\"] = list(zip(deciles,ESS[\"pspwght\"]))"
   ]
  },
  {
   "cell_type": "code",
   "execution_count": null,
   "metadata": {},
   "outputs": [],
   "source": [
    "ESS_big_party_list_overlap = [x for x in ESS_big_parties_to_CMP_parties.keys() if pd.notnull(ESS_big_parties_to_CMP_parties[x])]\n",
    "\n",
    "party_voted_in_last_nat_election = ESS[list(votes_country_dict.keys())].fillna(axis=1,method ='ffill')[list(votes_country_dict.keys())[-1]]\n",
    "\n",
    "party_voted_in_last_nat_election.loc[party_voted_in_last_nat_election.apply(lambda x: x not in ESS_big_party_list_overlap)] = np.nan\n",
    "\n",
    "ESS[list(votes_country_dict.keys())].notnull().idxmax(axis=1).map(votes_country_dict).loc[party_voted_in_last_nat_election.apply(lambda x: x not in ESS_big_party_list_overlap)] = np.nan\n",
    "\n",
    "voting_country = ESS[list(votes_country_dict.keys())].notnull().idxmax(axis=1).map(votes_country_dict)\n",
    "voting_country.loc[party_voted_in_last_nat_election.apply(lambda x: x not in ESS_big_party_list_overlap)] = np.nan"
   ]
  },
  {
   "cell_type": "code",
   "execution_count": null,
   "metadata": {},
   "outputs": [],
   "source": [
    "weighted_income_deciles_by_party = ESS[\"income_deciles_wts\"].groupby(party_voted_in_last_nat_election).agg(weighted_mean).sort_values().reset_index()\n",
    "weighted_income_deciles_by_party.columns = [\"party\",\"mean_inc_decile\"]\n",
    "weighted_income_deciles_by_party"
   ]
  },
  {
   "cell_type": "code",
   "execution_count": null,
   "metadata": {},
   "outputs": [],
   "source": [
    "cmp_overlap_df = manifesto_project[manifesto_project[\"party\"].apply(lambda x: x in ESS_big_parties_to_CMP_parties.values())].sort_values(by=\"edate\").groupby(\"party\").last()\n",
    "\n",
    "cmp_overlap_df = cmp_overlap_df.sort_index()\n",
    "\n",
    "manifesto_redist = cmp_overlap_df[[\"per\"+x for x in [\"404\",\"405\",\"409\",\"413\",\"504\",\"701\"]]].sum(axis=1)\n",
    "\n"
   ]
  },
  {
   "cell_type": "code",
   "execution_count": null,
   "metadata": {},
   "outputs": [],
   "source": [
    "weighted_income_deciles_by_party[\"party\"] = weighted_income_deciles_by_party[\"party\"].map(ESS_big_parties_to_CMP_parties)\n",
    "weighted_income_deciles_by_party = weighted_income_deciles_by_party.set_index(\"party\")\n",
    "\n",
    "weighted_income_deciles_by_party = weighted_income_deciles_by_party[\"mean_inc_decile\"].sort_index()\n",
    "\n"
   ]
  },
  {
   "cell_type": "code",
   "execution_count": null,
   "metadata": {},
   "outputs": [],
   "source": [
    "## need to filter by programme type"
   ]
  },
  {
   "cell_type": "code",
   "execution_count": null,
   "metadata": {},
   "outputs": [],
   "source": []
  },
  {
   "cell_type": "code",
   "execution_count": null,
   "metadata": {},
   "outputs": [],
   "source": []
  },
  {
   "cell_type": "code",
   "execution_count": null,
   "metadata": {},
   "outputs": [],
   "source": []
  },
  {
   "cell_type": "code",
   "execution_count": null,
   "metadata": {},
   "outputs": [],
   "source": [
    "cmp_overlap_df[\"weighted_income_deciles\"] = weighted_income_deciles_by_party\n",
    "cmp_overlap_df[\"manifesto_redist\"] = manifesto_redist\n",
    "\n",
    "cmp_overlap_df[\"partyabbrev_filled\"] = cmp_overlap_df[\"partyabbrev\"].astype('object')\n",
    "cmp_overlap_df.loc[cmp_overlap_df[\"partyabbrev\"]==\"\",\"partyabbrev_filled\"] = cmp_overlap_df[cmp_overlap_df[\"partyabbrev\"]==\"\"][\"partyname\"].astype('object')"
   ]
  },
  {
   "cell_type": "code",
   "execution_count": null,
   "metadata": {},
   "outputs": [],
   "source": [
    "plt.figure(figsize=(12,8))\n",
    "sns.scatterplot(data = cmp_overlap_df,x=\"weighted_income_deciles\",y=\"manifesto_redist\",\n",
    "                hue=\"parfam\");\n",
    "\n",
    "# make size = percentage of the vote? \"pervote\"\n",
    "\n",
    "def label_point(x, y, val, ax):\n",
    "    a = pd.concat({'x': x, 'y': y, 'val': val}, axis=1)\n",
    "    for i, point in a.iterrows():\n",
    "        ax.text(point['x']+.02, point['y'], str(point['val']), fontsize=8)\n",
    "\n",
    "label_point(cmp_overlap_df[\"weighted_income_deciles\"],\n",
    "            cmp_overlap_df[\"manifesto_redist\"],\n",
    "            cmp_overlap_df[\"partyabbrev_filled\"], plt.gca())  "
   ]
  },
  {
   "cell_type": "code",
   "execution_count": null,
   "metadata": {},
   "outputs": [],
   "source": [
    "from bokeh.models import ColumnDataSource\n",
    "from bokeh.plotting import figure, show,  output_notebook\n",
    "from bokeh.layouts import column, row\n",
    "from bokeh.embed import components\n",
    "from bokeh.plotting import figure, show, output_file\n",
    "from bokeh.sampledata.iris import flowers\n",
    "from bokeh.transform import factor_cmap, factor_mark\n",
    "\n",
    "output_notebook()"
   ]
  },
  {
   "cell_type": "code",
   "execution_count": null,
   "metadata": {},
   "outputs": [],
   "source": [
    "SPECIES = ['setosa', 'versicolor', 'virginica']\n",
    "MARKERS = ['hex', 'circle_x', 'triangle']\n",
    "\n",
    "p = figure(title = \"Iris Morphology\", background_fill_color=\"#fafafa\")\n",
    "p.xaxis.axis_label = 'Petal Length'\n",
    "p.yaxis.axis_label = 'Sepal Width'\n",
    "\n",
    "p.scatter(\"petal_length\", \"sepal_width\", source=flowers, legend=\"species\", \n",
    "          fill_alpha=0.4, size=12,\n",
    "          marker=factor_mark('species', MARKERS, SPECIES),\n",
    "          color=factor_cmap('species', 'Category10_3', SPECIES))"
   ]
  },
  {
   "cell_type": "code",
   "execution_count": null,
   "metadata": {},
   "outputs": [],
   "source": []
  },
  {
   "cell_type": "code",
   "execution_count": null,
   "metadata": {},
   "outputs": [],
   "source": []
  },
  {
   "cell_type": "code",
   "execution_count": null,
   "metadata": {},
   "outputs": [],
   "source": []
  },
  {
   "cell_type": "code",
   "execution_count": null,
   "metadata": {},
   "outputs": [],
   "source": []
  }
 ],
 "metadata": {
  "kernelspec": {
   "display_name": "Python [conda env:BES_analysis] *",
   "language": "python",
   "name": "conda-env-BES_analysis-py"
  },
  "language_info": {
   "codemirror_mode": {
    "name": "ipython",
    "version": 3
   },
   "file_extension": ".py",
   "mimetype": "text/x-python",
   "name": "python",
   "nbconvert_exporter": "python",
   "pygments_lexer": "ipython3",
   "version": "3.7.6"
  }
 },
 "nbformat": 4,
 "nbformat_minor": 4
}
