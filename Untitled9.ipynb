{
 "cells": [
  {
   "cell_type": "code",
   "execution_count": 1,
   "metadata": {},
   "outputs": [],
   "source": [
    "import numpy as np\n",
    "import pandas as pd\n",
    "%matplotlib inline\n",
    "import matplotlib.pyplot as plt\n",
    "import gc\n",
    "import re\n",
    "\n",
    "from itertools import cycle\n",
    "from IPython.display import display\n",
    "import pickle, os\n",
    "\n",
    "import seaborn as sns\n",
    "\n",
    "encoding = \"ISO-8859-1\"\n",
    "\n",
    "import Jupyter_module_loader"
   ]
  },
  {
   "cell_type": "code",
   "execution_count": 2,
   "metadata": {},
   "outputs": [],
   "source": [
    "# you should clone this git to this subdirectory (in some directory - I call it BES_analysis - doesn't matter though)\n",
    "\n",
    "if os.getcwd().split(os.sep)[-1] != 'BES_analysis_code':\n",
    "    raise Exception(\"Stop! You're in the wrong directory - should be in 'BES_analysis_code'\")\n",
    "\n",
    "BES_code_folder   = \"../BES_analysis_code/\" # we should be here!\n",
    "BES_small_data_files = BES_code_folder + \"small data files\" + os.sep\n",
    "if not os.path.exists( BES_small_data_files ):\n",
    "    os.makedirs( BES_small_data_files )\n",
    "\n",
    "# we should create these if they don't already exist\n",
    "BES_data_folder   = \"../BES_analysis_data/\"\n",
    "if not os.path.exists( BES_data_folder ):\n",
    "    os.makedirs( BES_data_folder )\n",
    "\n",
    "BES_output_folder = \"../BES_analysis_output/\"\n",
    "if not os.path.exists( BES_output_folder ):\n",
    "    os.makedirs( BES_output_folder )\n",
    "    \n",
    "BES_file_manifest = pd.read_csv( BES_small_data_files + \"BES_file_manifest.csv\" )\n",
    "\n",
    "BES_R_data_files = BES_data_folder + \"R_data\" + os.sep\n",
    "if not os.path.exists( BES_R_data_files ):\n",
    "    os.makedirs( BES_R_data_files )\n"
   ]
  },
  {
   "cell_type": "code",
   "execution_count": 3,
   "metadata": {},
   "outputs": [],
   "source": [
    "dataset_name = \"W13_comb\""
   ]
  },
  {
   "cell_type": "code",
   "execution_count": 4,
   "metadata": {},
   "outputs": [
    {
     "name": "stdout",
     "output_type": "stream",
     "text": [
      "BES_Panel (68625, 5150)\n",
      "Wall time: 3.37 s\n"
     ]
    }
   ],
   "source": [
    "%%time\n",
    "\n",
    "manifest = BES_file_manifest[ BES_file_manifest[\"Name\"] == dataset_name ]\n",
    "\n",
    "data_subfolder = BES_data_folder + dataset_name + os.sep\n",
    "\n",
    "dataset_filename = manifest[\"Stata_Filename\"].values[0]\n",
    "# dataset_description = manifest[\"Friendlier_Description\"].values[0]\n",
    "# dataset_citation = manifest[\"Citation\"].values[0]\n",
    "# dataset_start = manifest[\"Date_Start\"].values[0]\n",
    "# dataset_stop = manifest[\"Date_Stop\"].values[0]\n",
    "# dataset_wave = manifest[\"Wave No\"].values[0]\n",
    "\n",
    "BES_Panel  = pd.read_msgpack(data_subfolder + dataset_filename.replace('.dta','.msgpack'))\n",
    "print(\"BES_Panel\", BES_Panel.shape )"
   ]
  },
  {
   "cell_type": "code",
   "execution_count": 5,
   "metadata": {},
   "outputs": [
    {
     "name": "stdout",
     "output_type": "stream",
     "text": [
      "var_type (5173, 12)\n",
      "BES_reduced (68625, 2572)\n"
     ]
    }
   ],
   "source": [
    "####\n",
    "\n",
    "# BES_numeric = pd.read_hdf( data_subfolder + \"BESnumeric.hdf\", \"BESnumeric\" )\n",
    "# print(\"BES_numeric\",  BES_numeric.shape )\n",
    "try:\n",
    "    var_type    = pd.read_hdf( data_subfolder + \"var_type.hdf\", encoding=encoding)\n",
    "except:\n",
    "    var_type    = pd.read_csv( data_subfolder + \"var_type.csv\", encoding=encoding)\n",
    "    var_type.set_index(\"Unnamed: 0\", inplace=True)\n",
    "print(\"var_type\",  var_type.shape )\n",
    "\n",
    "fname = data_subfolder + \"cat_dictionary.pkl\"\n",
    "with open(fname, \"rb\") as f:\n",
    "    cat_dictionary = pickle.load( f )\n",
    "    \n",
    "####\n",
    "\n",
    "# BES_non_numeric = pd.read_hdf( data_subfolder + \"BESnon_numeric.hdf\", \"BESnon_numeric\" )\n",
    "# print(\"BES_non_numeric\",  BES_non_numeric.shape )\n",
    "\n",
    "BES_reduced = pd.read_hdf( data_subfolder + \"BES_reduced.hdf\", \"BES_reduced\" )\n",
    "print(\"BES_reduced\",  BES_reduced.shape )\n",
    "\n",
    "# BES_reduced_with_na = pd.read_hdf( data_subfolder + \"BES_reduced_with_na.hdf\", \"BES_reduced_with_na\")\n",
    "# print(\"BES_reduced_with_na\", BES_reduced_with_na.shape )\n",
    "\n",
    "# fname = data_subfolder + \"new_old_col_names.pkl\"\n",
    "# with open(fname, \"rb\") as f:\n",
    "#     new_old_col_names = pickle.load(f) "
   ]
  },
  {
   "cell_type": "code",
   "execution_count": null,
   "metadata": {},
   "outputs": [],
   "source": [
    "#####\n",
    "##### Lib dems support VI\n",
    "##### compared to difference between like for two leaders/parties?\n",
    "\n",
    "\n",
    "\n",
    "\n",
    "# England Only\n",
    "# W1-6\n",
    "# Cameron - Miliband -> Clegg\n",
    "# Con - Lab -> LD\n",
    "\n",
    "# W7-9\n",
    "# Cameron - Corbyn -> Farron\n",
    "\n",
    "# W10-13\n",
    "# May - Corbyn -> Farron\n"
   ]
  },
  {
   "cell_type": "code",
   "execution_count": 93,
   "metadata": {},
   "outputs": [],
   "source": [
    "Conservative_leader = {n: \"Cameron\" if n <10 else \"May\" for n in range(1,14)}\n",
    "Labour_leader = {n: \"Miliband\" if n <7 else \"Corbyn\" for n in range(1,14)}\n",
    "LD_leader = {n: \"Clegg\" if n <7 else \"Farron\" for n in range(1,14)}\n"
   ]
  },
  {
   "cell_type": "code",
   "execution_count": 184,
   "metadata": {},
   "outputs": [
    {
     "data": {
      "text/plain": [
       "['profile_past_vote_2005', 'profile_past_vote_2010', 'profile_past_vote_2015']"
      ]
     },
     "execution_count": 184,
     "metadata": {},
     "output_type": "execute_result"
    }
   ],
   "source": [
    "[x for x in BES_Panel.columns if \"profile_past_vote\" in x]"
   ]
  },
  {
   "cell_type": "code",
   "execution_count": 186,
   "metadata": {},
   "outputs": [
    {
     "data": {
      "text/plain": [
       "Index(['Did not vote', 'Conservative Party', 'Labour Party',\n",
       "       'Liberal Democrats', 'Scottish National Party', 'Plaid Cymru',\n",
       "       'British National Party (BNP)', 'Green Party', 'Respect',\n",
       "       'United Kingdom Independence Party (UKIP)', 'Some other party',\n",
       "       'Don't know'],\n",
       "      dtype='object')"
      ]
     },
     "execution_count": 186,
     "metadata": {},
     "output_type": "execute_result"
    }
   ],
   "source": [
    "BES_Panel['profile_past_vote_2010'].cat.categories"
   ]
  },
  {
   "cell_type": "code",
   "execution_count": 13,
   "metadata": {},
   "outputs": [
    {
     "data": {
      "text/plain": [
       "-1     38277\n",
       " 0      8093\n",
       " 1      2455\n",
       " 2      2395\n",
       " 3      2348\n",
       " 4      2150\n",
       " 5      3309\n",
       " 6      2521\n",
       " 7      2809\n",
       " 8      1889\n",
       " 9       730\n",
       " 10      723\n",
       " 11      926\n",
       "dtype: int64"
      ]
     },
     "execution_count": 13,
     "metadata": {},
     "output_type": "execute_result"
    }
   ],
   "source": [
    "\n"
   ]
  },
  {
   "cell_type": "code",
   "execution_count": 15,
   "metadata": {},
   "outputs": [
    {
     "data": {
      "text/plain": [
       "0.0     8093\n",
       "1.0     2455\n",
       "2.0     2395\n",
       "3.0     2348\n",
       "4.0     2150\n",
       "5.0     4235\n",
       "6.0     2521\n",
       "7.0     2809\n",
       "8.0     1889\n",
       "9.0      730\n",
       "10.0     723\n",
       "dtype: int64"
      ]
     },
     "execution_count": 15,
     "metadata": {},
     "output_type": "execute_result"
    }
   ],
   "source": [
    "BES_Panel['likeCameronW1'].cat.codes.replace(-1,np.nan).replace(11,5).value_counts().sort_index()"
   ]
  },
  {
   "cell_type": "code",
   "execution_count": 117,
   "metadata": {},
   "outputs": [],
   "source": [
    "wave_description = BES_file_manifest[BES_file_manifest[\"Only_or_Combined\"]==\"Only\"][[\"Wave No\",\"Friendlier_Description\"]].set_index(\"Wave No\")"
   ]
  },
  {
   "cell_type": "code",
   "execution_count": 129,
   "metadata": {},
   "outputs": [
    {
     "data": {
      "text/plain": [
       "11"
      ]
     },
     "execution_count": 129,
     "metadata": {},
     "output_type": "execute_result"
    }
   ],
   "source": []
  },
  {
   "cell_type": "code",
   "execution_count": 140,
   "metadata": {},
   "outputs": [
    {
     "data": {
      "image/png": "[encoded data removed]",
      "text/plain": [
       "<Figure size 432x288 with 1 Axes>"
      ]
     },
     "metadata": {},
     "output_type": "display_data"
    }
   ],
   "source": [
    "wave_no = 13\n",
    "DKs_transformed = False\n",
    "\n",
    "Con_name = Conservative_leader[wave_no]\n",
    "Con_var = \"like\"+Con_name+\"W\"+str(wave_no)\n",
    "Lab_name = Labour_leader[wave_no]\n",
    "Lab_var = \"like\"+Lab_name+\"W\"+str(wave_no)\n",
    "\n",
    "likeCon = BES_Panel[Con_var].cat.codes.replace(-1,np.nan)\n",
    "likeLab = BES_Panel[Lab_var].cat.codes.replace(-1,np.nan)\n",
    "if DKs_transformed:\n",
    "    likeCon = likeCon.replace(11,5)\n",
    "    likeLab = likeLab.replace(11,5)\n",
    "\n",
    "likeCon_label = Con_name+' (N='+str(likeCon.notnull().sum())+')'\n",
    "likeLab_label = Lab_name+' (N='+str(likeLab.notnull().sum())+')'\n",
    "\n",
    "xlabels = BES_Panel[Con_var].cat.categories[0:len(likeCon.value_counts())]\n",
    "bins = np.arange(len(xlabels)+1)-.5\n",
    "\n",
    "likeCon.hist(alpha=.5, label=likeCon_label, bins=bins, grid=True)\n",
    "likeLab.hist(alpha=.5, label=likeLab_label, bins=bins, grid=True)\n",
    "plt.legend()\n",
    "\n",
    "plt.xticks(range(0,len(xlabels)), xlabels, rotation =90);\n",
    "plt.title(\"Wave \"+str(wave_no)+\" : \"+wave_description.loc[wave_no].values[0]);"
   ]
  },
  {
   "cell_type": "code",
   "execution_count": 142,
   "metadata": {},
   "outputs": [
    {
     "data": {
      "image/png": "[encoded data removed]",
      "text/plain": [
       "<Figure size 432x288 with 1 Axes>"
      ]
     },
     "metadata": {},
     "output_type": "display_data"
    }
   ],
   "source": [
    "wave_no = 1\n",
    "DKs_transformed = False\n",
    "\n",
    "Con_name = Conservative_leader[wave_no]\n",
    "Con_var = \"like\"+Con_name+\"W\"+str(wave_no)\n",
    "Lab_name = Labour_leader[wave_no]\n",
    "Lab_var = \"like\"+Lab_name+\"W\"+str(wave_no)\n",
    "LD_name = LD_leader[wave_no]\n",
    "LD_var = \"like\"+LD_name+\"W\"+str(wave_no)\n",
    "\n",
    "likeLD = BES_Panel[LD_var].cat.codes.replace(-1,np.nan)\n",
    "if DKs_transformed:\n",
    "    likeLD = likeLD.replace(11,5)\n",
    "\n",
    "likeLD_label = LD_name+' (N='+str(likeLD.notnull().sum())+')'\n",
    "\n",
    "xlabels = BES_Panel[Con_var].cat.categories[0:len(likeLD.value_counts())]\n",
    "bins = np.arange(len(xlabels)+1)-.5\n",
    "\n",
    "likeLD.hist(alpha=.5, label=likeLD_label, bins=bins, grid=True)\n",
    "plt.legend()\n",
    "\n",
    "plt.xticks(range(0,len(xlabels)), xlabels, rotation =90);\n",
    "plt.title(\"Wave \"+str(wave_no)+\" : \"+wave_description.loc[wave_no].values[0]);"
   ]
  },
  {
   "cell_type": "code",
   "execution_count": 163,
   "metadata": {},
   "outputs": [
    {
     "data": {
      "image/png": "[encoded data removed]",
      "text/plain": [
       "<Figure size 432x288 with 1 Axes>"
      ]
     },
     "metadata": {},
     "output_type": "display_data"
    }
   ],
   "source": [
    "wave_no = 13\n",
    "DKs_transformed = True\n",
    "\n",
    "Con_name = Conservative_leader[wave_no]\n",
    "Con_var = \"like\"+Con_name+\"W\"+str(wave_no)\n",
    "Lab_name = Labour_leader[wave_no]\n",
    "Lab_var = \"like\"+Lab_name+\"W\"+str(wave_no)\n",
    "\n",
    "likeCon = BES_Panel[Con_var].cat.codes.replace(-1,np.nan)\n",
    "likeLab = BES_Panel[Lab_var].cat.codes.replace(-1,np.nan)\n",
    "if DKs_transformed:\n",
    "    likeCon = likeCon.replace(11,5)\n",
    "    likeLab = likeLab.replace(11,5)\n",
    "\n",
    "likeCon_label = Con_name+' (N='+str(likeCon.notnull().sum())+')'\n",
    "likeLab_label = Lab_name+' (N='+str(likeLab.notnull().sum())+')'\n",
    "\n",
    "bins = np.arange(-10,12)-.5\n",
    "\n",
    "(likeCon-likeLab).hist(bins=bins);"
   ]
  },
  {
   "cell_type": "code",
   "execution_count": 193,
   "metadata": {},
   "outputs": [
    {
     "data": {
      "image/png": "[encoded data removed]",
      "text/plain": [
       "<Figure size 432x288 with 1 Axes>"
      ]
     },
     "metadata": {},
     "output_type": "display_data"
    }
   ],
   "source": [
    "wave_no = 13\n",
    "DKs_transformed = True\n",
    "Leaders = True\n",
    "\n",
    "if Leaders:\n",
    "    Con_name = Conservative_leader[wave_no]\n",
    "    Con_var = \"like\"+Con_name+\"W\"+str(wave_no)\n",
    "    Lab_name = Labour_leader[wave_no]\n",
    "    Lab_var = \"like\"+Lab_name+\"W\"+str(wave_no)    \n",
    "    LD_name = LD_leader[wave_no]\n",
    "    LD_var = \"like\"+LD_name+\"W\"+str(wave_no)    \n",
    "else:\n",
    "    Con_name = \"Con\"\n",
    "    Con_var = \"like\"+Con_name+\"W\"+str(wave_no)\n",
    "    Lab_name = \"Lab\"\n",
    "    Lab_var = \"like\"+Lab_name+\"W\"+str(wave_no)\n",
    "    LD_name = \"LD\"\n",
    "    LD_var = \"like\"+LD_name+\"W\"+str(wave_no)\n",
    "\n",
    "likeLD = BES_Panel[LD_var].cat.codes.replace(-1,np.nan)\n",
    "likeCon = BES_Panel[Con_var].cat.codes.replace(-1,np.nan)\n",
    "likeLab = BES_Panel[Lab_var].cat.codes.replace(-1,np.nan)\n",
    "if DKs_transformed:\n",
    "    likeCon = likeCon.replace(11,5)\n",
    "    likeLab = likeLab.replace(11,5)\n",
    "    likeLD = likeLD.replace(11,5)\n",
    "\n",
    "likeCon_label = Con_name+' (N='+str(likeCon.notnull().sum())+')'\n",
    "likeLab_label = Lab_name+' (N='+str(likeLab.notnull().sum())+')'\n",
    "\n",
    "bins = np.arange(-10,12)-.5\n",
    "\n",
    "# (likeCon-likeLab)[likeLD<5].hist(bins=bins,label=\"Don't like LD\",alpha=.5);\n",
    "# (likeCon-likeLab)[likeLD>5].hist(bins=bins,label=\"Like LD\",alpha=.5);\n",
    "# (likeCon-likeLab)[likeLD==5].hist(bins=bins,label=\"Meh LD\",alpha=.5);\n",
    "\n",
    "LD2010 = BES_Panel['profile_past_vote_2010']=='Liberal Democrats'\n",
    "# (likeCon-likeLab)[LD2010].hist(bins=bins,label=\"LD2010\",alpha=.5);\n",
    "# (likeCon-likeLab)[~LD2010].hist(bins=bins,label=\"Not LD2010\",alpha=.5);\n",
    "\n",
    "bins = np.arange(0,22)-.5\n",
    "(likeCon+likeLab)[LD2010].hist(bins=bins,label=\"LD2010\",alpha=.5);\n",
    "(likeCon+likeLab)[~LD2010].hist(bins=bins,label=\"Not LD2010\",alpha=.5);\n",
    "\n",
    "plt.legend();"
   ]
  },
  {
   "cell_type": "code",
   "execution_count": 178,
   "metadata": {},
   "outputs": [
    {
     "data": {
      "text/plain": [
       "5.0     7356\n",
       "0.0     5287\n",
       "4.0     3091\n",
       "6.0     3035\n",
       "3.0     2895\n",
       "2.0     2630\n",
       "7.0     2414\n",
       "1.0     2174\n",
       "8.0     1425\n",
       "9.0      503\n",
       "10.0     387\n",
       "dtype: int64"
      ]
     },
     "execution_count": 178,
     "metadata": {},
     "output_type": "execute_result"
    }
   ],
   "source": [
    "likeLD.value_counts()"
   ]
  },
  {
   "cell_type": "code",
   "execution_count": null,
   "metadata": {},
   "outputs": [],
   "source": []
  },
  {
   "cell_type": "code",
   "execution_count": null,
   "metadata": {},
   "outputs": [],
   "source": []
  }
 ],
 "metadata": {
  "kernelspec": {
   "display_name": "Python 3",
   "language": "python",
   "name": "python3"
  },
  "language_info": {
   "codemirror_mode": {
    "name": "ipython",
    "version": 3
   },
   "file_extension": ".py",
   "mimetype": "text/x-python",
   "name": "python",
   "nbconvert_exporter": "python",
   "pygments_lexer": "ipython3",
   "version": "3.6.6"
  }
 },
 "nbformat": 4,
 "nbformat_minor": 2
}
