{
 "cells": [
  {
   "cell_type": "code",
   "execution_count": null,
   "metadata": {
    "collapsed": true
   },
   "outputs": [],
   "source": []
  },
  {
   "cell_type": "code",
   "execution_count": 4,
   "metadata": {
    "collapsed": true
   },
   "outputs": [],
   "source": [
    "import numpy as np\n",
    "import pandas as pd\n",
    "%matplotlib inline\n",
    "import matplotlib.pyplot as plt\n",
    "import gc\n",
    "import re\n",
    "\n",
    "from itertools import cycle\n",
    "from IPython.display import display\n",
    "import pickle, os\n",
    "\n",
    "import seaborn as sns\n",
    "\n",
    "encoding = \"ISO-8859-1\"\n",
    "\n",
    "import Jupyter_module_loader"
   ]
  },
  {
   "cell_type": "code",
   "execution_count": 5,
   "metadata": {
    "collapsed": true
   },
   "outputs": [],
   "source": [
    "# you should clone this git to this subdirectory (in some directory - I call it BES_analysis - doesn't matter though)\n",
    "\n",
    "if os.getcwd().split(os.sep)[-1] != 'BES_analysis_code':\n",
    "    raise Exception(\"Stop! You're in the wrong directory - should be in 'BES_analysis_code'\")\n",
    "\n",
    "BES_code_folder   = \"../BES_analysis_code/\" # we should be here!\n",
    "BES_small_data_files = BES_code_folder + \"small data files\" + os.sep\n",
    "if not os.path.exists( BES_small_data_files ):\n",
    "    os.makedirs( BES_small_data_files )\n",
    "\n",
    "# we should create these if they don't already exist\n",
    "BES_data_folder   = \"../BES_analysis_data/\"\n",
    "if not os.path.exists( BES_data_folder ):\n",
    "    os.makedirs( BES_data_folder )\n",
    "\n",
    "BES_output_folder = \"../BES_analysis_output/\"\n",
    "if not os.path.exists( BES_output_folder ):\n",
    "    os.makedirs( BES_output_folder )\n",
    "    \n",
    "BES_file_manifest = pd.read_csv( BES_small_data_files + \"BES_file_manifest.csv\" )"
   ]
  },
  {
   "cell_type": "code",
   "execution_count": 6,
   "metadata": {},
   "outputs": [
    {
     "data": {
      "text/html": [
       "\n",
       "<script src=\"https://code.jquery.com/ui/1.10.4/jquery-ui.min.js\" type=\"text/javascript\"></script>\n",
       "<script type=\"text/javascript\">function HoloViewsWidget(){\n",
       "}\n",
       "\n",
       "HoloViewsWidget.comms = {};\n",
       "HoloViewsWidget.comm_state = {};\n",
       "\n",
       "HoloViewsWidget.prototype.init_slider = function(init_val){\n",
       "  if(this.load_json) {\n",
       "    this.from_json()\n",
       "  } else {\n",
       "    this.update_cache();\n",
       "  }\n",
       "}\n",
       "\n",
       "HoloViewsWidget.prototype.populate_cache = function(idx){\n",
       "  this.cache[idx].html(this.frames[idx]);\n",
       "  if (this.embed) {\n",
       "    delete this.frames[idx];\n",
       "  }\n",
       "}\n",
       "\n",
       "HoloViewsWidget.prototype.process_error = function(msg){\n",
       "\n",
       "}\n",
       "\n",
       "HoloViewsWidget.prototype.from_json = function() {\n",
       "  var data_url = this.json_path + this.id + '.json';\n",
       "  $.getJSON(data_url, $.proxy(function(json_data) {\n",
       "    this.frames = json_data;\n",
       "    this.update_cache();\n",
       "    this.update(0);\n",
       "  }, this));\n",
       "}\n",
       "\n",
       "HoloViewsWidget.prototype.dynamic_update = function(current){\n",
       "  if (current === undefined) {\n",
       "    return\n",
       "  }\n",
       "  if(this.dynamic) {\n",
       "    current = JSON.stringify(current);\n",
       "  }\n",
       "  function callback(initialized, msg){\n",
       "    /* This callback receives data from Python as a string\n",
       "       in order to parse it correctly quotes are sliced off*/\n",
       "    if (msg.content.ename != undefined) {\n",
       "      this.process_error(msg);\n",
       "    }\n",
       "    if (msg.msg_type != \"execute_result\") {\n",
       "      console.log(\"Warning: HoloViews callback returned unexpected data for key: (\", current, \") with the following content:\", msg.content)\n",
       "    } else {\n",
       "      if (msg.content.data['text/plain'].includes('Complete')) {\n",
       "        if (this.queue.length > 0) {\n",
       "          this.time = Date.now();\n",
       "          this.dynamic_update(this.queue[this.queue.length-1]);\n",
       "          this.queue = [];\n",
       "        } else {\n",
       "          this.wait = false;\n",
       "        }\n",
       "        return\n",
       "      }\n",
       "    }\n",
       "  }\n",
       "  this.current = current;\n",
       "  if ((window.Jupyter !== undefined) && (Jupyter.notebook.kernel != null)) {\n",
       "    var kernel = Jupyter.notebook.kernel;\n",
       "    callbacks = {iopub: {output: $.proxy(callback, this, this.initialized)}};\n",
       "    var cmd = \"holoviews.plotting.widgets.NdWidget.widgets['\" + this.id + \"'].update(\" + current + \")\";\n",
       "    kernel.execute(\"import holoviews;\" + cmd, callbacks, {silent : false});\n",
       "  }\n",
       "}\n",
       "\n",
       "HoloViewsWidget.prototype.update_cache = function(force){\n",
       "  var frame_len = Object.keys(this.frames).length;\n",
       "  for (var i=0; i<frame_len; i++) {\n",
       "    if(!this.load_json || this.dynamic)  {\n",
       "      frame = Object.keys(this.frames)[i];\n",
       "    } else {\n",
       "      frame = i;\n",
       "    }\n",
       "    if(!(frame in this.cache) || force) {\n",
       "      if ((frame in this.cache) && force) { this.cache[frame].remove() }\n",
       "      this.cache[frame] = $('<div />').appendTo(\"#\"+\"_anim_img\"+this.id).hide();\n",
       "      var cache_id = \"_anim_img\"+this.id+\"_\"+frame;\n",
       "      this.cache[frame].attr(\"id\", cache_id);\n",
       "      this.populate_cache(frame);\n",
       "    }\n",
       "  }\n",
       "}\n",
       "\n",
       "HoloViewsWidget.prototype.update = function(current){\n",
       "  if(current in this.cache) {\n",
       "    $.each(this.cache, function(index, value) {\n",
       "      value.hide();\n",
       "    });\n",
       "    this.cache[current].show();\n",
       "    this.wait = false;\n",
       "  }\n",
       "}\n",
       "\n",
       "HoloViewsWidget.prototype.init_comms = function() {\n",
       "  if ((window.Jupyter !== undefined) && (Jupyter.notebook.kernel !== undefined)) {\n",
       "    var widget = this;\n",
       "    comm_manager = Jupyter.notebook.kernel.comm_manager;\n",
       "    comm_manager.register_target(this.id, function (comm) {\n",
       "      comm.on_msg(function (msg) { widget.process_msg(msg) });\n",
       "    });\n",
       "  }\n",
       "}\n",
       "\n",
       "HoloViewsWidget.prototype.process_msg = function(msg) {\n",
       "}\n",
       "\n",
       "function SelectionWidget(frames, id, slider_ids, keyMap, dim_vals, notFound, load_json, mode, cached, json_path, dynamic){\n",
       "  this.frames = frames;\n",
       "  this.id = id;\n",
       "  this.slider_ids = slider_ids;\n",
       "  this.keyMap = keyMap\n",
       "  this.current_frame = 0;\n",
       "  this.current_vals = dim_vals;\n",
       "  this.load_json = load_json;\n",
       "  this.mode = mode;\n",
       "  this.notFound = notFound;\n",
       "  this.cached = cached;\n",
       "  this.dynamic = dynamic;\n",
       "  this.cache = {};\n",
       "  this.json_path = json_path;\n",
       "  this.init_slider(this.current_vals[0]);\n",
       "  this.queue = [];\n",
       "  this.wait = false;\n",
       "  if (!this.cached || this.dynamic) {\n",
       "    this.init_comms()\n",
       "  }\n",
       "}\n",
       "\n",
       "SelectionWidget.prototype = new HoloViewsWidget;\n",
       "\n",
       "\n",
       "SelectionWidget.prototype.get_key = function(current_vals) {\n",
       "  var key = \"(\";\n",
       "  for (var i=0; i<this.slider_ids.length; i++)\n",
       "  {\n",
       "    val = this.current_vals[i];\n",
       "    if (!(typeof val === 'string')) {\n",
       "      if (val % 1 === 0) { val = val.toFixed(1); }\n",
       "      else { val = val.toFixed(10); val = val.slice(0, val.length-1);}\n",
       "    }\n",
       "    key += \"'\" + val + \"'\";\n",
       "    if(i != this.slider_ids.length-1) { key += ', ';}\n",
       "    else if(this.slider_ids.length == 1) { key += ',';}\n",
       "  }\n",
       "  key += \")\";\n",
       "  return this.keyMap[key];\n",
       "}\n",
       "\n",
       "SelectionWidget.prototype.set_frame = function(dim_val, dim_idx){\n",
       "  this.current_vals[dim_idx] = dim_val;\n",
       "  var key = this.current_vals;\n",
       "  if (!this.dynamic) {\n",
       "    key = this.get_key(key)\n",
       "  }\n",
       "  if (this.dynamic || !this.cached) {\n",
       "    if ((this.time !== undefined) && ((this.wait) && ((this.time + 10000) > Date.now()))) {\n",
       "      this.queue.push(key);\n",
       "      return\n",
       "    }\n",
       "    this.queue = [];\n",
       "    this.time = Date.now();\n",
       "    this.current_frame = key;\n",
       "    this.wait = true;\n",
       "    this.dynamic_update(key)\n",
       "  } else if (key !== undefined) {\n",
       "    this.update(key)\n",
       "  }\n",
       "}\n",
       "\n",
       "\n",
       "/* Define the ScrubberWidget class */\n",
       "function ScrubberWidget(frames, num_frames, id, interval, load_json, mode, cached, json_path, dynamic){\n",
       "  this.slider_id = \"_anim_slider\" + id;\n",
       "  this.loop_select_id = \"_anim_loop_select\" + id;\n",
       "  this.id = id;\n",
       "  this.interval = interval;\n",
       "  this.current_frame = 0;\n",
       "  this.direction = 0;\n",
       "  this.dynamic = dynamic;\n",
       "  this.timer = null;\n",
       "  this.load_json = load_json;\n",
       "  this.mode = mode;\n",
       "  this.cached = cached;\n",
       "  this.frames = frames;\n",
       "  this.cache = {};\n",
       "  this.length = num_frames;\n",
       "  this.json_path = json_path;\n",
       "  document.getElementById(this.slider_id).max = this.length - 1;\n",
       "  this.init_slider(0);\n",
       "  this.wait = false;\n",
       "  this.queue = [];\n",
       "  if (!this.cached || this.dynamic) {\n",
       "    this.init_comms()\n",
       "  }\n",
       "}\n",
       "\n",
       "ScrubberWidget.prototype = new HoloViewsWidget;\n",
       "\n",
       "ScrubberWidget.prototype.set_frame = function(frame){\n",
       "  this.current_frame = frame;\n",
       "  widget = document.getElementById(this.slider_id);\n",
       "  if (widget === null) {\n",
       "    this.pause_animation();\n",
       "    return\n",
       "  }\n",
       "  widget.value = this.current_frame;\n",
       "  if(this.cached) {\n",
       "    this.update(frame)\n",
       "  } else {\n",
       "    this.dynamic_update(frame)\n",
       "  }\n",
       "}\n",
       "\n",
       "\n",
       "ScrubberWidget.prototype.get_loop_state = function(){\n",
       "  var button_group = document[this.loop_select_id].state;\n",
       "  for (var i = 0; i < button_group.length; i++) {\n",
       "    var button = button_group[i];\n",
       "    if (button.checked) {\n",
       "      return button.value;\n",
       "    }\n",
       "  }\n",
       "  return undefined;\n",
       "}\n",
       "\n",
       "\n",
       "ScrubberWidget.prototype.next_frame = function() {\n",
       "  this.set_frame(Math.min(this.length - 1, this.current_frame + 1));\n",
       "}\n",
       "\n",
       "ScrubberWidget.prototype.previous_frame = function() {\n",
       "  this.set_frame(Math.max(0, this.current_frame - 1));\n",
       "}\n",
       "\n",
       "ScrubberWidget.prototype.first_frame = function() {\n",
       "  this.set_frame(0);\n",
       "}\n",
       "\n",
       "ScrubberWidget.prototype.last_frame = function() {\n",
       "  this.set_frame(this.length - 1);\n",
       "}\n",
       "\n",
       "ScrubberWidget.prototype.slower = function() {\n",
       "  this.interval /= 0.7;\n",
       "  if(this.direction > 0){this.play_animation();}\n",
       "  else if(this.direction < 0){this.reverse_animation();}\n",
       "}\n",
       "\n",
       "ScrubberWidget.prototype.faster = function() {\n",
       "  this.interval *= 0.7;\n",
       "  if(this.direction > 0){this.play_animation();}\n",
       "  else if(this.direction < 0){this.reverse_animation();}\n",
       "}\n",
       "\n",
       "ScrubberWidget.prototype.anim_step_forward = function() {\n",
       "  if(this.current_frame < this.length - 1){\n",
       "    this.next_frame();\n",
       "  }else{\n",
       "    var loop_state = this.get_loop_state();\n",
       "    if(loop_state == \"loop\"){\n",
       "      this.first_frame();\n",
       "    }else if(loop_state == \"reflect\"){\n",
       "      this.last_frame();\n",
       "      this.reverse_animation();\n",
       "    }else{\n",
       "      this.pause_animation();\n",
       "      this.last_frame();\n",
       "    }\n",
       "  }\n",
       "}\n",
       "\n",
       "ScrubberWidget.prototype.anim_step_reverse = function() {\n",
       "  if(this.current_frame > 0){\n",
       "    this.previous_frame();\n",
       "  } else {\n",
       "    var loop_state = this.get_loop_state();\n",
       "    if(loop_state == \"loop\"){\n",
       "      this.last_frame();\n",
       "    }else if(loop_state == \"reflect\"){\n",
       "      this.first_frame();\n",
       "      this.play_animation();\n",
       "    }else{\n",
       "      this.pause_animation();\n",
       "      this.first_frame();\n",
       "    }\n",
       "  }\n",
       "}\n",
       "\n",
       "ScrubberWidget.prototype.pause_animation = function() {\n",
       "  this.direction = 0;\n",
       "  if (this.timer){\n",
       "    clearInterval(this.timer);\n",
       "    this.timer = null;\n",
       "  }\n",
       "}\n",
       "\n",
       "ScrubberWidget.prototype.play_animation = function() {\n",
       "  this.pause_animation();\n",
       "  this.direction = 1;\n",
       "  var t = this;\n",
       "  if (!this.timer) this.timer = setInterval(function(){t.anim_step_forward();}, this.interval);\n",
       "}\n",
       "\n",
       "ScrubberWidget.prototype.reverse_animation = function() {\n",
       "  this.pause_animation();\n",
       "  this.direction = -1;\n",
       "  var t = this;\n",
       "  if (!this.timer) this.timer = setInterval(function(){t.anim_step_reverse();}, this.interval);\n",
       "}\n",
       "\n",
       "function extend(destination, source) {\n",
       "  for (var k in source) {\n",
       "    if (source.hasOwnProperty(k)) {\n",
       "      destination[k] = source[k];\n",
       "    }\n",
       "  }\n",
       "  return destination;\n",
       "}\n",
       "\n",
       "function update_widget(widget, values) {\n",
       "  if (widget.hasClass(\"ui-slider\")) {\n",
       "    widget.slider('option', {\n",
       "      min: 0,\n",
       "      max: values.length-1,\n",
       "      dim_vals: values,\n",
       "      value: 0,\n",
       "      dim_labels: values\n",
       "\t})\n",
       "    widget.slider('option', 'slide').call(widget, event, {value: 0})\n",
       "  } else {\n",
       "    widget.empty();\n",
       "    for (var i=0; i<values.length; i++){\n",
       "      widget.append($(\"<option>\", {\n",
       "        value: i,\n",
       "        text: values[i]\n",
       "      }))\n",
       "    };\n",
       "    widget.data('values', values);\n",
       "    widget.data('value', 0);\n",
       "    widget.trigger(\"change\");\n",
       "  };\n",
       "}\n",
       "\n",
       "// Define MPL specific subclasses\n",
       "function MPLSelectionWidget() {\n",
       "    SelectionWidget.apply(this, arguments);\n",
       "}\n",
       "\n",
       "function MPLScrubberWidget() {\n",
       "    ScrubberWidget.apply(this, arguments);\n",
       "}\n",
       "\n",
       "// Let them inherit from the baseclasses\n",
       "MPLSelectionWidget.prototype = Object.create(SelectionWidget.prototype);\n",
       "MPLScrubberWidget.prototype = Object.create(ScrubberWidget.prototype);\n",
       "\n",
       "// Define methods to override on widgets\n",
       "var MPLMethods = {\n",
       "    init_slider : function(init_val){\n",
       "        if(this.load_json) {\n",
       "            this.from_json()\n",
       "        } else {\n",
       "            this.update_cache();\n",
       "        }\n",
       "        this.update(0);\n",
       "        if(this.mode == 'nbagg') {\n",
       "            this.set_frame(init_val, 0);\n",
       "        }\n",
       "    },\n",
       "    populate_cache : function(idx){\n",
       "        var cache_id = \"_anim_img\"+this.id+\"_\"+idx;\n",
       "        this.cache[idx].html(this.frames[idx]);\n",
       "        if (this.embed) {\n",
       "            delete this.frames[idx];\n",
       "        }\n",
       "    },\n",
       "    process_msg : function(msg) {\n",
       "        if (!(this.mode == 'nbagg')) {\n",
       "            var data = msg.content.data;\n",
       "            this.frames[this.current] = data;\n",
       "            this.update_cache(true);\n",
       "            this.update(this.current);\n",
       "        }\n",
       "    }\n",
       "}\n",
       "// Extend MPL widgets with backend specific methods\n",
       "extend(MPLSelectionWidget.prototype, MPLMethods);\n",
       "extend(MPLScrubberWidget.prototype, MPLMethods);\n",
       "</script>\n",
       "\n",
       "\n",
       "<link rel=\"stylesheet\" href=\"https://code.jquery.com/ui/1.10.4/themes/smoothness/jquery-ui.css\">\n",
       "<style>div.hololayout {\n",
       "    display: flex;\n",
       "    align-items: center;\n",
       "    margin: 0;\n",
       "}\n",
       "\n",
       "div.holoframe {\n",
       "\twidth: 75%;\n",
       "}\n",
       "\n",
       "div.holowell {\n",
       "    display: flex;\n",
       "    align-items: center;\n",
       "    margin: 0;\n",
       "}\n",
       "\n",
       "form.holoform {\n",
       "    background-color: #fafafa;\n",
       "    border-radius: 5px;\n",
       "    overflow: hidden;\n",
       "\tpadding-left: 0.8em;\n",
       "    padding-right: 0.8em;\n",
       "    padding-top: 0.4em;\n",
       "    padding-bottom: 0.4em;\n",
       "}\n",
       "\n",
       "div.holowidgets {\n",
       "    padding-right: 0;\n",
       "\twidth: 25%;\n",
       "}\n",
       "\n",
       "div.holoslider {\n",
       "    min-height: 0 !important;\n",
       "    height: 0.8em;\n",
       "    width: 60%;\n",
       "}\n",
       "\n",
       "div.holoformgroup {\n",
       "    padding-top: 0.5em;\n",
       "    margin-bottom: 0.5em;\n",
       "}\n",
       "\n",
       "div.hologroup {\n",
       "    padding-left: 0;\n",
       "    padding-right: 0.8em;\n",
       "    width: 50%;\n",
       "}\n",
       "\n",
       ".holoselect {\n",
       "    width: 92%;\n",
       "    margin-left: 0;\n",
       "    margin-right: 0;\n",
       "}\n",
       "\n",
       ".holotext {\n",
       "    width: 100%;\n",
       "    padding-left:  0.5em;\n",
       "    padding-right: 0;\n",
       "}\n",
       "\n",
       ".holowidgets .ui-resizable-se {\n",
       "\tvisibility: hidden\n",
       "}\n",
       "\n",
       ".holoframe > .ui-resizable-se {\n",
       "\tvisibility: hidden\n",
       "}\n",
       "\n",
       ".holowidgets .ui-resizable-s {\n",
       "\tvisibility: hidden\n",
       "}\n",
       "</style>\n",
       "\n",
       "\n",
       "<div class=\"logo-block\">\n",
       "<img src='data:image/png;base64,iVBORw0KGgoAAAANSUhEUgAAAEAAAABACAYAAACqaXHeAAAABHNCSVQICAgIfAhkiAAAAAlwSFlz\n",
       "AAAB+wAAAfsBxc2miwAAABl0RVh0U29mdHdhcmUAd3d3Lmlua3NjYXBlLm9yZ5vuPBoAAA6zSURB\n",
       "VHic7ZtpeFRVmsf/5966taWqUlUJ2UioBBJiIBAwCZtog9IOgjqACsogKtqirT2ttt069nQ/zDzt\n",
       "tI4+CrJIREFaFgWhBXpUNhHZQoKBkIUASchWla1S+3ar7r1nPkDaCAnZKoQP/D7mnPOe9/xy76n3\n",
       "nFSAW9ziFoPFNED2LLK5wcyBDObkb8ZkxuaoSYlI6ZcOKq1eWFdedqNzGHQBk9RMEwFAASkk0Xw3\n",
       "ETacDNi2vtvc7L0ROdw0AjoSotQVkKSvHQz/wRO1lScGModBFbDMaNRN1A4tUBCS3lk7BWhQkgpD\n",
       "lG4852/+7DWr1R3uHAZVQDsbh6ZPN7CyxUrCzJMRouusj0ipRwD2uKm0Zn5d2dFwzX1TCGhnmdGo\n",
       "G62Nna+isiUqhkzuKrkQaJlPEv5mFl2fvGg2t/VnzkEV8F5ioioOEWkLG86fvbpthynjdhXYZziQ\n",
       "x1hC9J2NFyi8vCTt91Fh04KGip0AaG9zuCk2wQCVyoNU3Hjezee9bq92duzzTmxsRJoy+jEZZZYo\n",
       "GTKJ6SJngdJqAfRzpze0+jHreUtPc7gpBLQnIYK6BYp/uGhw9YK688eu7v95ysgshcg9qSLMo3JC\n",
       "4jqLKQFBgdKDPoQ+Pltb8dUyQLpeDjeVgI6EgLIQFT5tEl3rn2losHVsexbZ3EyT9wE1uGdkIPcy\n",
       "BGxn8QUq1QrA5nqW5i2tLqvrrM9NK6AdkVIvL9E9bZL/oyfMVd/jqvc8LylzRBKDJSzIExwhQzuL\n",
       "QYGQj4rHfFTc8mUdu3E7yoLtbTe9gI4EqVgVkug2i5+uXGo919ixbRog+3fTbQ8qJe4ZOYNfMoTI\n",
       "OoshUNosgO60AisX15aeI2PSIp5KiFLI9ubb1vV3Qb2ltwLakUCDAkWX7/nHKRmmGIl9VgYsUhJm\n",
       "2NXjKYADtM1ygne9QQDIXlk49FBstMKx66D1v4+XuQr7vqTe0VcBHQlRWiOCbmmSYe2SqtL6q5rJ\n",
       "zsTb7lKx3FKOYC4DoqyS/B5bvLPxvD9Qtf6saxYLQGJErmDOdOMr/zo96km1nElr8bmPOBwI9COv\n",
       "HnFPRIwmkSOv9kcAS4heRsidOkpeWBgZM+UBrTFAXNYL5Vf2ii9c1trNzpYdaoVil3WIc+wdk+gQ\n",
       "noie3ecCcxt9ITcLAPWt/laGEO/9U6PmzZkenTtsSMQ8uYywJVW+grCstAvCIaAdArAsIWkRDDs/\n",
       "KzLm2YcjY1Lv0UdW73HabE9n6V66cxSzfEmuJssTpKGVp+0vHq73FwL46eOjpMpbRAnNmJFrGJNu\n",
       "Ukf9Yrz+3rghiumCKNXXWPhLYcjxGsIpoCMsIRoFITkW8AuyM8jC1+/QLx4bozCEJIq38+1rtpR6\n",
       "V/yzb8eBlRb3fo5l783N0CWolAzJHaVNzkrTzlEp2bQ2q3TC5gn6wpnoQAmwSiGh2GitnTmVMc5O\n",
       "UyfKWUKCIsU7+fZDKwqdT6DDpvkzAX4/+AMFjk0tDp5GRXLpQ2MUmhgDp5gxQT8+Y7hyPsMi8uxF\n",
       "71H0oebujHALECjFKaW9Lm68n18wXp2kVzIcABytD5iXFzg+WVXkegpAsOOYziqo0OkK76GyquC3\n",
       "ltZAzMhhqlSNmmWTE5T6e3IN05ITFLM4GdN0vtZ3ob8Jh1NAKXFbm5PtLU/eqTSlGjkNAJjdgn/N\n",
       "aedXa0tdi7+t9G0FIF49rtMSEgAs1kDLkTPO7ebm4IUWeyh1bKomXqlgMG6kJmHcSM0clYLJ8XtR\n",
       "1GTnbV3F6I5wCGikAb402npp1h1s7LQUZZSMIfALFOuL3UUrfnS8+rez7v9qcold5tilgHbO1fjK\n",
       "9ubb17u9oshxzMiUBKXWqJNxd+fqb0tLVs4lILFnK71H0Ind7uiPgACVcFJlrb0tV6DzxqqTIhUM\n",
       "CwDf1/rrVhTa33/3pGPxJYdQ2l2cbgVcQSosdx8uqnDtbGjh9SlDVSMNWhlnilfqZk42Th2ZpLpf\n",
       "xrHec5e815zrr0dfBZSwzkZfqsv+1FS1KUknUwPARVvItfKUY+cn57yP7qv07UE3p8B2uhUwLk09\n",
       "e0SCOrK+hbdYHYLjRIl71wWzv9jpEoeOHhGRrJAzyEyNiJuUqX0g2sBN5kGK6y2Blp5M3lsB9Qh4\n",
       "y2Ja6x6+i0ucmKgwMATwhSjdUu49tKrQ/pvN5d53ml2CGwCmJipmKjgmyuaXzNeL2a0AkQ01Th5j\n",
       "2DktO3Jyk8f9vcOBQHV94OK+fPumJmvQHxJoWkaKWq9Vs+yUsbq0zGT1I4RgeH2b5wef7+c7bl8F\n",
       "eKgoHVVZa8ZPEORzR6sT1BzDUAD/d9F78e2Tzv99v8D+fLVTqAKAsbGamKey1Mt9Ann4eH3gTXTz\n",
       "idWtAJ8PQWOk7NzSeQn/OTHDuEikVF1R4z8BQCy+6D1aWRfY0tTGG2OM8rRoPaeIj5ZHzJxszElN\n",
       "VM8K8JS5WOfv8mzRnQAKoEhmt8gyPM4lU9SmBK1MCQBnW4KONT86v1hZ1PbwSXPw4JWussVjtH9Y\n",
       "NCoiL9UoH/6PSu8jFrfY2t36erQHXLIEakMi1SydmzB31h3GGXFDFNPaK8Rme9B79Ixrd0WN+1ij\n",
       "NRQ/doRmuFLBkHSTOm5GruG+pFjFdAmorG4IXH1Qua6ASniclfFtDYt+oUjKipPrCQB7QBQ2lrgP\n",
       "fFzm+9XWUtcqJ3/5vDLDpJ79XHZk3u8nGZ42qlj1+ydtbxysCezrydp6ugmipNJ7WBPB5tydY0jP\n",
       "HaVNzs3QzeE4ZpTbI+ZbnSFPbVOw9vsfnVvqWnirPyCNGD08IlqtYkh2hjZ5dErEQzoNm+6ykyOt\n",
       "Lt5/PQEuSRRKo22VkydK+vvS1XEKlhCJAnsqvcVvH7f/ZU2R67eXbMEGAMiIV5oWZWiWvz5Fv2xG\n",
       "sjqNJQRvn3Rs2lji/lNP19VjAQDgD7FHhujZB9OGqYxRkZxixgRDVlqS6uEOFaJUVu0rPFzctrnF\n",
       "JqijImVp8dEKVWyUXDk92zAuMZ6bFwpBU1HrOw6AdhQgUooChb0+ItMbWJitSo5Ws3IAOGEOtL53\n",
       "0vHZih9sC4vtofZ7Qu6523V/fmGcds1TY3V36pUsBwAbSlxnVh2xLfAD/IAIMDf7XYIkNmXfpp2l\n",
       "18rkAJAy9HKFaIr/qULkeQQKy9zf1JgDB2uaeFNGijo5QsUyacNUUTOnGO42xSnv4oOwpDi1zYkc\n",
       "efUc3I5Gk6PhyTuVKaOGyLUAYPGIoY9Pu/atL/L92+4q9wbflRJ2Trpm/jPjdBtfnqB/dIThcl8A\n",
       "KG7hbRuKnb8qsQsVvVlTrwQAQMUlf3kwJI24Z4JhPMtcfng5GcH49GsrxJpGvvHIaeem2ma+KSjQ\n",
       "lIwUdYyCY8j4dE1KzijNnIP2llF2wcXNnsoapw9XxsgYAl6k+KzUXbi2yP3KR2ecf6z3BFsBICdW\n",
       "nvnIaG3eHybqX7vbpEqUMT+9OL4Qpe8VON7dXuFd39v19FoAABRVePbGGuXTszO0P7tu6lghUonE\n",
       "llRdrhArLvmKdh9u29jcFiRRkfLUxBiFNiqSU9icoZQHo5mYBI1MBgBH6wMNb+U7Pnw337H4gi1Y\n",
       "ciWs+uks3Z9fztUvfzxTm9Ne8XXkvQLHNytOOZeiD4e0PgkAIAYCYknKUNUDSXEKzdWNpnil7r4p\n",
       "xqkjTarZMtk/K8TQ6Qve78qqvXurGwIJqcOUKfUWHsm8KGvxSP68YudXq4pcj39X49uOK2X142O0\n",
       "Tz5/u/7TVybqH0rSya6ZBwD21/gubbrgWdDgEOx9WUhfBaC2ibcEBYm7a7x+ukrBMNcEZggyR0TE\n",
       "T8zUPjikQ4VosQZbTpS4vqizBKvqmvjsqnpfzaZyx9JPiz1/bfGKdgD45XB1zoIMzYbfTdS/NClB\n",
       "Gct0USiY3YL/g0LHy/uq/Ef6uo5+n0R/vyhp17Klpge763f8rMu6YU/zrn2nml+2WtH+Z+5IAAFc\n",
       "2bUTdTDOSNa9+cQY7YLsOIXhevEkCvzph7a8laecz/Un/z4/Ae04XeL3UQb57IwU9ZDr9UuKVajv\n",
       "nxp1+1UVIo/LjztZkKH59fO3G/JemqCfmaCRqbqbd90ZZ8FfjtkfAyD0J/9+C2h1hDwsSxvGjNDc\n",
       "b4zk5NfrSwiQblLHzZhg+Jf4aPlUwpDqkQqa9nimbt1/TDH8OitGMaQnj+RJS6B1fbF7SY1TqO5v\n",
       "/v0WAADl1f7zokgS7s7VT2DZ7pegUjBM7mjtiDZbcN4j0YrHH0rXpCtY0qPX0cVL0rv5jv/ZXend\n",
       "0u/EESYBAFBU4T4Qa5TflZOhTe7pmKpaP8kCVUVw1+yhXfJWvn1P3hnXi33JsTN6PnP3hHZ8Z3/h\n",
       "aLHzmkNPuPj7Bc/F/Q38CwjTpSwQXgE4Vmwry9tpfq/ZFgqFMy4AVDtCvi8rvMvOmv0N4YwbVgEA\n",
       "sPM72/KVnzfspmH7HQGCRLG2yL1+z8XwvPcdCbsAANh+xPzstgMtxeGKt+6MK3/tacfvwhWvIwMi\n",
       "oKEBtm0H7W+UVfkc/Y1V0BhoPlDr/w1w/eu1vjIgAgDg22OtX6/eYfnEz/focrZTHAFR+PSs56/7\n",
       "q32nwpjazxgwAQCwcU/T62t3WL7r6/jVRa6/byp1rei+Z98ZUAEAhEPHPc8fKnTU9nbgtnOe8h0l\n",
       "9hcGIqmODLQAHCy2Xti6v/XNRivf43f4fFvIteu854+VHnR7q9tfBlwAAGz+pnndB9vM26UebAe8\n",
       "SLHujPOTPVW+rwY+sxskAAC2HrA8t2Vvc7ffP1r9o+vwR2dcr92InIAbKKC1FZ5tB1tf+/G8p8sv\n",
       "N/9Q5zd/XR34LYCwV5JdccMEAMDBk45DH243r/X4xGvqxFa/GNpS7n6rwOwNWwHVE26oAADYurf1\n",
       "zx/utOzt+DMKYM0p17YtZZ5VNzqfsB2HewG1WXE8PoZ7gOclbTIvynZf9JV+fqZtfgs/8F/Nu5rB\n",
       "EIBmJ+8QRMmpU7EzGRsf2FzuePqYRbzh/zE26EwdrT10f6r6o8HOYzCJB9Dpff8tbnGLG8L/A/WE\n",
       "roTBs2RqAAAAAElFTkSuQmCC'\n",
       "     style='height:25px; border-radius:12px; display: inline-block; float: left; vertical-align: middle'></img>\n",
       "\n",
       "\n",
       "\n",
       "\n",
       "  <img src='data:image/png;base64,iVBORw0KGgoAAAANSUhEUgAAACAAAAAgCAYAAABzenr0AAAABHNCSVQICAgIfAhkiAAAAAlwSFlz\n",
       "AAAFMAAABTABZarKtgAAABl0RVh0U29mdHdhcmUAd3d3Lmlua3NjYXBlLm9yZ5vuPBoAAArNSURB\n",
       "VFiFnVd5VFNXGv/ee0kgGyQhbFoXIKCFYEXEDVErTucMoKUOWA/VLsNSLPQgFTOdyrHPiIp1lFIQ\n",
       "OlaPShEG3EpPcQmISCuV1bQ1CLKIULeQhJA9JO+9+UMT0x5aPfOdc895373f/e7v/t537/ddBF5Q\n",
       "JBIJl81mJwCACEVRQBCEQhAEAQCgnghCURRCkmS7Wq2+WlJSYn0Rv8jzDHAcD0EQJIVGo5mFQuGF\n",
       "jIyMu39kq1KpkOrq6gU6nS6aIAiGzWY7VVBQ0P9/AcjNzWXy+fxcOp2uiY+Przm0d6+n8dblv/Fo\n",
       "kzM4SzYfPlRePvFnjnt6ehh1dXVv2mw2nlar/byoqMj8wgBwHBchCJIZEhJSeu1yHVi7vtu02t8+\n",
       "NykQ7BMWoOUMhXQsXLv5IQAwSJJEEASxcDicoeTk5DtCoZBy9XX69Gnv3t7ebJIky3EcH3guAKlU\n",
       "GoGiaOKWLVsOvhs7/9XXPMde3/IyIFbMnaPDuD5AUdQuOf2XlD0npTExMWYAgNbWVpZcLg8xGAzB\n",
       "JEnSvby82tPT052LaTQatLy8fBtJkt/s3Lnz5h8CwHFcRKPRNu/YsePAjh072KTs0IGCxRg8RgUB\n",
       "TGpSx6cmHgMAfNqN6Xa1GvJ/D35gYAAViURkcXHxUrPZHDRv3rxv4uLiDI7xPXv2bLdYLBUFBQWD\n",
       "jj7M8ZGbm8tkMpmSrKysQiaTScXGxtpqL7dManT6tcu5mgEWWJyOhicozpk+c3NsbKzNFcBbWWEf\n",
       "1Td9/upA30i3ZJv0h8bGxiSFQmFcuHDhOACAWCy+0d3dvX3lypUtzc3N9t8AiIuLk4SEhByLiooy\n",
       "AgAcO3ZsNlPgH3Cttb35JZo+bCYXIQAA9MDiUW7sWS1KN687w6Mera2twa2trfMvXboUOS28Pyb1\n",
       "U08McRtf/sXBSmt5cc35pqamVQqFwhoZGallMpnU/fv3e7RaberVq1d/AABAn1IfQqfTNRs3blQB\n",
       "AFy+fJk7Nja2XCKRnD3dNSorusPq6NfTPR+gPiEEoLRFXO1tS2+zavv27ReftjNttyr0S1/j0rUP\n",
       "PEJQwNwQYGgAACQSyXmNRhMtk8lYAAApKSlKDMP0+fn5QU4ACIKkxMfH1zjYuHnz5uspKSlOfdX7\n",
       "u68fvOePcCzKQR4YVCgATGfa/F3pnzaHWOAXSDyaMCqH2+r8VXErP3D+snXr1tV2dXW94dATExOr\n",
       "6XT6JgAAVCKRcDEMM4WHh9sAAHJyUqNu//wDymKx7AAAVVVVPiaTKXxByrYMvBsxEMSTwPXhuL+8\n",
       "e/fu9fv371+flvbemogYNz+TnsBOFEwMFO8/KzEYDKFVVVX+AAChoaGT7u7ud48ePRro0DEMs+bl\n",
       "5bFRNpud4O3tfdGBzq5uy/5wTUPM/q2zC9atmbVqeHg4Pi0t7WxGRoZFH5rw76I7LI8HqHfwPL7d\n",
       "rfVagzw1NfW81t4ePUfsP/OrnWZ6fPSuUqFQSEkkkrOjo6OvuQR5q0ajiXLoPj4+lzgcTjwKACLH\n",
       "9SqXy2kzhBO8haGo+UA2wZW+p880DxeveGt9aHx9fT09ctlq3sC0NT9e6xsbjuZblSxl7wKtVotM\n",
       "m6PnXvlmZJBtX91CEMQsxyJsNlteXl4udugIghAajQYFAEhPTx9AEGQOimGY8y4oLt63KlJkdB4t\n",
       "P282Z/c/dPrDH04ktJ9P2tfWXP3+2o1vHzunEp6Xq0lsGt08KzUrcSGTQ3n3XeefLCs5UqnT6Rap\n",
       "VCoEACA7O/snvV4f5gJooLa2NsihoygKKEVRzquTND2OCpttGXdG1tOxwOlgzdvE9v30rV+m3W5I\n",
       "2jfJNQmLH85QUUzPNTwvkAx0+vVGhq2/VV9fT+dyuZ01NTXOXQOA3fGxevXq2waDYY5r8KIoij5b\n",
       "jzB5Cz2oKdOo0erOm+1tVuVtBMZXElNMRJR1fvvjx9iPLQ/RjpuB0Xu/Vp7YmH1864YNG3oNBkPw\n",
       "VD7mzp1rJUnSzZUBmqsBggAgGFC/n6jVA+3WoN3tu1Gg39cg2tEx1Cg3CIJHsclxnl2HRorMN8Z0\n",
       "fRW+vr7GJ36Q56Z5h9BIknzGAMJWtvdQYs0EZe3/FSwqk5tpXEMb1JoYD+n8xRdQJl/fMPEgzKhS\n",
       "L40KCD7lGzg92qIyovpb3y/msT2un2psvFpWVvYyl8vtc1nDSXFXV5c7iqLOtEyS5LNBAADfWeKm\n",
       "Ly4uuvR1++sfv51/P5sfnHm2/Iy+mBmwsaHJbpt+Q0jHSS7TZ/PSNVkNJ/973OxtemD1s91CPb12\n",
       "h9MfvZsk5meo1eqo5ORkxTNWn7HR1tY2l8PhOAsUiqIolCRJcETtv/61qzNySYK5trZ2TCgUUiwW\n",
       "S1FSUhLR+bA/kAzwXcAbHa/cFhrTXrJ/v+7IkSPu3Je4Xm5eboJv2wba5QbO5fQwxhsP679Y+nFO\n",
       "jgAAoKSkJILFYjnBGI1G0YYNGwYBnqRoiqIQlKKojurq6gUAAAKBgKQoiuGYkJWVpTCZTOKmI1Xd\n",
       "HwnDcm+cOnOMw+H0FxYWbqpvqv/r9EV+bky+O+/QoUPiqJRt9JphTLFHbKBCR87tWL9EPN9oNIZn\n",
       "ZWUpXHaMCQQCEgCgsrIyEgBuoGq1+qpOp4t2GPH5/BvFxcVLHXpgYGDD8ePH/56Xl2cCAMjMzOxP\n",
       "S0s7pWfow4RCbz/fAF9RT0+P9yeffHJySSqev+9nxLD1FaAlTR8vlJ8vxxzsFhUVLRMIBB0OvwaD\n",
       "YRlFUdfQkpISK0EQ9J6eHgYAQEZGxl2z2Rw0MjJCBwBITk5+xOVyfzpw4ECSw5lQKKQIbxtJm4EN\n",
       "8eZ7jPz0oNv+dK5FG/jq54eH+IFr/S1KabBy0UerAvI+++wzD4vFEpCWljYEACCTyVh2ux3FcXwS\n",
       "BQCw2WxVdXV1bzrQRURE1FVVVTn1zMzM/pkzZ35/9OjRd0pLS19RqVQIy4/tCwDgOcPTQvFQEQBA\n",
       "aWnpK0ERK2LbyVllN341GUJ4YDu8zD5bKyur7O+85tx9Z2fnO1ar9QjA04KkpaVFs2LFir8olcq7\n",
       "YWFhJpFINNnX16drbGyMjY6Ovg0AIBaLjcuXL5d3d3d7XbhwIW704b3F479MeD1qVfJ5Og/bvb4R\n",
       "LwaDMZabm9uwflNa/z/3HOIv5NsDEK7XS7FeevXPvYNLvm5S/GglCK5KpZorlUobXE8g5ObmMqVS\n",
       "6UG1Wu1BURSHoijOiRMnwgoLC7coFAqBo+9Fm0KhEKStmvvto3TeucFN7pVJYbytarXaQyqVHsRx\n",
       "3N15TF1BuBaljr4rV66wOzo63mAymXdzcnKuwwtIUVHRMqvVGkgQxMV7NXvyJijGvcNXB/7z5Zdf\n",
       "bicI4gSO40NTAgD4bVnuODIAT2pElUq1FEEQO4fD6QsPD++fqixHEATj8/ntjoCrqKhwS0hIsJWV\n",
       "leURBHEOx3G563pT3tn5+flBDAbjg6CgoMMpKSlK17GhoSFMJpMFPk04DJIkEQzDzCwW6+5UD5Oa\n",
       "mhrfO3fufECS5GHXnf8pAAAAHMfdURTdimGYPjExsTo0NHTyj2ynEplMxurs7HyHIAiKJMlSHMct\n",
       "U9k9N2vl5+cH0en0TRiGWX18fC65vnh+LxqNBq2oqFhgMpmi7XY7arVaj+zdu/fxn/l/4bSZl5fH\n",
       "5nK5CQAQMtXznCRJePpEbwOAZhzHX4ix/wHzzC/tu64gcwAAAABJRU5ErkJggg=='\n",
       "       style='height:15px; border-radius:12px; display: inline-block; float: left'></img>\n",
       "  \n",
       "\n",
       "\n",
       "</div>\n"
      ],
      "text/plain": [
       "<IPython.core.display.HTML object>"
      ]
     },
     "metadata": {},
     "output_type": "display_data"
    }
   ],
   "source": [
    "from ipysankeywidget import SankeyWidget\n",
    "# from ipywidgets import Layout\n",
    "from IPython.display import SVG\n",
    "import holoviews as hv\n",
    "hv.notebook_extension()"
   ]
  },
  {
   "cell_type": "code",
   "execution_count": 8,
   "metadata": {},
   "outputs": [
    {
     "name": "stdout",
     "output_type": "stream",
     "text": [
      "BES_Panel (31197, 312)\n",
      "BES_numeric (31197, 299)\n",
      "var_type (312, 13)\n",
      "BES_non_numeric (31197, 11)\n",
      "Wall time: 3.22 s\n"
     ]
    }
   ],
   "source": [
    "%%time\n",
    "\n",
    "dataset_name = \"W13_only\"\n",
    "\n",
    "manifest = BES_file_manifest[ BES_file_manifest[\"Name\"] == dataset_name ]\n",
    "\n",
    "data_subfolder = BES_data_folder + dataset_name + os.sep\n",
    "\n",
    "dataset_filename = manifest[\"Stata_Filename\"].values[0]\n",
    "# dataset_description = manifest[\"Friendlier_Description\"].values[0]\n",
    "# dataset_citation = manifest[\"Citation\"].values[0]\n",
    "# dataset_start = manifest[\"Date_Start\"].values[0]\n",
    "# dataset_stop = manifest[\"Date_Stop\"].values[0]\n",
    "# dataset_wave = manifest[\"Wave No\"].values[0]\n",
    "\n",
    "BES_Panel = pd.read_stata( data_subfolder + dataset_filename )\n",
    "print(\"BES_Panel\", BES_Panel.shape )\n",
    "\n",
    "####\n",
    "\n",
    "BES_numeric = pd.read_hdf( data_subfolder + \"BESnumeric.hdf\", \"BESnumeric\" )\n",
    "print(\"BES_numeric\",  BES_numeric.shape )\n",
    "\n",
    "var_type    = pd.read_csv( data_subfolder + \"var_type.csv\", encoding=encoding)\n",
    "var_type.set_index(\"Unnamed: 0\", inplace=True)\n",
    "print(\"var_type\",  var_type.shape )\n",
    "\n",
    "fname = data_subfolder + \"cat_dictionary.pkl\"\n",
    "with open(fname, \"rb\") as f:\n",
    "    cat_dictionary = pickle.load( f )\n",
    "    \n",
    "####\n",
    "\n",
    "BES_non_numeric = pd.read_hdf( data_subfolder + \"BESnon_numeric.hdf\", \"BESnon_numeric\" )\n",
    "print(\"BES_non_numeric\",  BES_non_numeric.shape )\n",
    "\n",
    "# BES_reduced = pd.read_hdf( data_subfolder + \"BES_reduced.hdf\", \"BES_reduced\" )\n",
    "# print(\"BES_reduced\",  BES_reduced.shape )\n",
    "\n",
    "# BES_reduced_with_na = pd.read_hdf( data_subfolder + \"BES_reduced_with_na.hdf\", \"BES_reduced_with_na\")\n",
    "# print(\"BES_reduced_with_na\", BES_reduced_with_na.shape )\n",
    "\n",
    "# fname = data_subfolder + \"new_old_col_names.pkl\"\n",
    "# with open(fname, \"rb\") as f:\n",
    "#     new_old_col_names = pickle.load(f) "
   ]
  },
  {
   "cell_type": "code",
   "execution_count": 2,
   "metadata": {
    "collapsed": true
   },
   "outputs": [],
   "source": [
    "# import numpy as np\n",
    "# import pandas as pd\n",
    "# %matplotlib inline\n",
    "# import matplotlib.pyplot as plt\n",
    "# from matplotlib import colors\n",
    "# import gc\n",
    "# import re\n",
    "\n",
    "# from sklearn import datasets\n",
    "# from sklearn.decomposition import PCA\n",
    "# from sklearn.discriminant_analysis import LinearDiscriminantAnalysis\n",
    "# from itertools import cycle\n",
    "# from IPython.display import display\n",
    "# import pickle, os\n",
    "\n",
    "# import seaborn as sns\n",
    "\n",
    "# BES_data_folder = \"../BES_analysis_data/\"\n",
    "# BES_code_folder = \"../BES_analysis_code/\"\n",
    "\n",
    "# # from fancyimpute import BiScaler, KNN, NuclearNormMinimization, SoftImpute, MICE"
   ]
  },
  {
   "cell_type": "code",
   "execution_count": 3,
   "metadata": {
    "collapsed": true
   },
   "outputs": [],
   "source": [
    "# gc.collect()"
   ]
  },
  {
   "cell_type": "code",
   "execution_count": 3,
   "metadata": {},
   "outputs": [
    {
     "name": "stdout",
     "output_type": "stream",
     "text": [
      "(64689, 4247)\n"
     ]
    }
   ],
   "source": [
    "# # %%time # 10 mins\n",
    "# # load BES Panel for Wave 10\n",
    "# BES_Panel = pd.read_stata(BES_data_folder+\"BES2015_W10_Panel_v0.3.dta\")\n",
    "# # big!\n",
    "# print( BES_Panel.shape )"
   ]
  },
  {
   "cell_type": "code",
   "execution_count": 3,
   "metadata": {},
   "outputs": [
    {
     "name": "stdout",
     "output_type": "stream",
     "text": [
      "(31409, 733)\n",
      "Wall time: 12.6 s\n"
     ]
    }
   ],
   "source": [
    "# %%time\n",
    "# # Load BES Panel for Wave 8\n",
    "# BES_Panel = pd.read_stata(BES_data_folder+\"BES2015_W8_v1.3.dta\") # 130Mb\n",
    "# #(31409, 733)\n",
    "\n",
    "# # BES_Panel = pd.read_stata(BES_data_folder+BES2015_W8_v1.6.dta\")\n",
    "\n",
    "# print( BES_Panel.shape )\n",
    "\n",
    "# read back in later with this\n",
    "# BES_Panel= pd.read_pickle(\"BES_W10_small.pkl\")"
   ]
  },
  {
   "cell_type": "code",
   "execution_count": 4,
   "metadata": {
    "collapsed": true
   },
   "outputs": [],
   "source": [
    "# for development, lets pare down the BES_Panel dataset to just the columns we're working with now\n",
    "cols = ['profile_past_vote_2005',\n",
    "        'profile_past_vote_2010',\n",
    "        'profile_past_vote_2015',\n",
    "        'al_scaleW10','al1W10','al2W10','al3W10','al4W10','al5W10',\n",
    "        'lr_scaleW10','lr1W10','lr2W10','lr3W10','lr4W10','lr5W10',\n",
    "        'marital', 'profile_education_age', 'profile_ethnicity',\n",
    "        'gender', 'profile_household_size', 'housing',\n",
    "        'profile_newspaper_readership_201', 'profile_household_children',\n",
    "        'profile_gross_household', 'profile_gross_personal',\n",
    "        'edlevel','ageGroup','country','countryOfBirth',\n",
    "        'personality_agreeableness', 'personality_conscientiousness',\n",
    "        'personality_extraversion', 'personality_neuroticism',\n",
    "        'personality_openness',\n",
    "        \"euRefVoteW1\",\"euRefVoteW2\",\"euRefVoteW3\",\n",
    "        \"euRefVoteW4\",\"euRefVoteW6\",\"euRefVoteW8\",\"euRefVoteW10\"]\n",
    "\n",
    "for wave in [\"W1\",\"W2\",\"W3\",\"W4\",\"W5\",\"W6\",\"W8\",\"W10\"]:\n",
    "    cols.append( \"generalElectionVote\"+wave )\n",
    "    cols.append( \"wave\" + wave.replace(\"W\",\"\") )\n",
    "    cols.append( \"wt_full_\"+wave )\n",
    "    \n",
    "BES_Panel[cols].to_pickle(\"BES_W10_small.pkl\")\n",
    "\n",
    "# read back in later with this\n",
    "# BES_Panel= pd.read_pickle(\"BES_W10_small.pkl\")"
   ]
  },
  {
   "cell_type": "code",
   "execution_count": 9,
   "metadata": {},
   "outputs": [
    {
     "ename": "KeyError",
     "evalue": "\"['profile_past_vote_2005' 'profile_past_vote_2010'] not in index\"",
     "output_type": "error",
     "traceback": [
      "\u001b[1;31m---------------------------------------------------------------------------\u001b[0m",
      "\u001b[1;31mKeyError\u001b[0m                                  Traceback (most recent call last)",
      "\u001b[1;32m<ipython-input-9-5fd7294da75b>\u001b[0m in \u001b[0;36m<module>\u001b[1;34m()\u001b[0m\n\u001b[1;32m----> 1\u001b[1;33m \u001b[0mparty_list\u001b[0m \u001b[1;33m=\u001b[0m \u001b[0mlist\u001b[0m\u001b[1;33m(\u001b[0m \u001b[0mBES_Panel\u001b[0m\u001b[1;33m[\u001b[0m \u001b[1;33m[\u001b[0m\u001b[1;34m'profile_past_vote_2005'\u001b[0m\u001b[1;33m,\u001b[0m\u001b[1;34m'profile_past_vote_2010'\u001b[0m\u001b[1;33m,\u001b[0m\u001b[1;34m'profile_past_vote_2015'\u001b[0m \u001b[1;33m]\u001b[0m \u001b[1;33m]\u001b[0m\u001b[1;33m.\u001b[0m\u001b[0mstack\u001b[0m\u001b[1;33m(\u001b[0m\u001b[1;33m)\u001b[0m\u001b[1;33m.\u001b[0m\u001b[0munique\u001b[0m\u001b[1;33m(\u001b[0m\u001b[1;33m)\u001b[0m \u001b[1;33m)\u001b[0m\u001b[1;33m\u001b[0m\u001b[0m\n\u001b[0m\u001b[0;32m      2\u001b[0m \u001b[0mparty_list\u001b[0m\u001b[1;33m.\u001b[0m\u001b[0mappend\u001b[0m\u001b[1;33m(\u001b[0m\u001b[1;34m'I would not vote'\u001b[0m\u001b[1;33m)\u001b[0m\u001b[1;33m\u001b[0m\u001b[0m\n\u001b[0;32m      3\u001b[0m replace_dict = {'Labour Party':\"LAB\", \n\u001b[0;32m      4\u001b[0m  \u001b[1;34m'United Kingdom Independence Party (UKIP)'\u001b[0m\u001b[1;33m:\u001b[0m\u001b[1;34m\"UKIP\"\u001b[0m\u001b[1;33m,\u001b[0m\u001b[1;33m\u001b[0m\u001b[0m\n\u001b[0;32m      5\u001b[0m  \u001b[1;34m'Labour'\u001b[0m\u001b[1;33m:\u001b[0m\u001b[1;34m\"LAB\"\u001b[0m\u001b[1;33m,\u001b[0m\u001b[1;33m\u001b[0m\u001b[0m\n",
      "\u001b[1;32m~\\Anaconda3\\envs\\BES_analysis\\lib\\site-packages\\pandas\\core\\frame.py\u001b[0m in \u001b[0;36m__getitem__\u001b[1;34m(self, key)\u001b[0m\n\u001b[0;32m   1956\u001b[0m         \u001b[1;32mif\u001b[0m \u001b[0misinstance\u001b[0m\u001b[1;33m(\u001b[0m\u001b[0mkey\u001b[0m\u001b[1;33m,\u001b[0m \u001b[1;33m(\u001b[0m\u001b[0mSeries\u001b[0m\u001b[1;33m,\u001b[0m \u001b[0mnp\u001b[0m\u001b[1;33m.\u001b[0m\u001b[0mndarray\u001b[0m\u001b[1;33m,\u001b[0m \u001b[0mIndex\u001b[0m\u001b[1;33m,\u001b[0m \u001b[0mlist\u001b[0m\u001b[1;33m)\u001b[0m\u001b[1;33m)\u001b[0m\u001b[1;33m:\u001b[0m\u001b[1;33m\u001b[0m\u001b[0m\n\u001b[0;32m   1957\u001b[0m             \u001b[1;31m# either boolean or fancy integer index\u001b[0m\u001b[1;33m\u001b[0m\u001b[1;33m\u001b[0m\u001b[0m\n\u001b[1;32m-> 1958\u001b[1;33m             \u001b[1;32mreturn\u001b[0m \u001b[0mself\u001b[0m\u001b[1;33m.\u001b[0m\u001b[0m_getitem_array\u001b[0m\u001b[1;33m(\u001b[0m\u001b[0mkey\u001b[0m\u001b[1;33m)\u001b[0m\u001b[1;33m\u001b[0m\u001b[0m\n\u001b[0m\u001b[0;32m   1959\u001b[0m         \u001b[1;32melif\u001b[0m \u001b[0misinstance\u001b[0m\u001b[1;33m(\u001b[0m\u001b[0mkey\u001b[0m\u001b[1;33m,\u001b[0m \u001b[0mDataFrame\u001b[0m\u001b[1;33m)\u001b[0m\u001b[1;33m:\u001b[0m\u001b[1;33m\u001b[0m\u001b[0m\n\u001b[0;32m   1960\u001b[0m             \u001b[1;32mreturn\u001b[0m \u001b[0mself\u001b[0m\u001b[1;33m.\u001b[0m\u001b[0m_getitem_frame\u001b[0m\u001b[1;33m(\u001b[0m\u001b[0mkey\u001b[0m\u001b[1;33m)\u001b[0m\u001b[1;33m\u001b[0m\u001b[0m\n",
      "\u001b[1;32m~\\Anaconda3\\envs\\BES_analysis\\lib\\site-packages\\pandas\\core\\frame.py\u001b[0m in \u001b[0;36m_getitem_array\u001b[1;34m(self, key)\u001b[0m\n\u001b[0;32m   2000\u001b[0m             \u001b[1;32mreturn\u001b[0m \u001b[0mself\u001b[0m\u001b[1;33m.\u001b[0m\u001b[0mtake\u001b[0m\u001b[1;33m(\u001b[0m\u001b[0mindexer\u001b[0m\u001b[1;33m,\u001b[0m \u001b[0maxis\u001b[0m\u001b[1;33m=\u001b[0m\u001b[1;36m0\u001b[0m\u001b[1;33m,\u001b[0m \u001b[0mconvert\u001b[0m\u001b[1;33m=\u001b[0m\u001b[1;32mFalse\u001b[0m\u001b[1;33m)\u001b[0m\u001b[1;33m\u001b[0m\u001b[0m\n\u001b[0;32m   2001\u001b[0m         \u001b[1;32melse\u001b[0m\u001b[1;33m:\u001b[0m\u001b[1;33m\u001b[0m\u001b[0m\n\u001b[1;32m-> 2002\u001b[1;33m             \u001b[0mindexer\u001b[0m \u001b[1;33m=\u001b[0m \u001b[0mself\u001b[0m\u001b[1;33m.\u001b[0m\u001b[0mloc\u001b[0m\u001b[1;33m.\u001b[0m\u001b[0m_convert_to_indexer\u001b[0m\u001b[1;33m(\u001b[0m\u001b[0mkey\u001b[0m\u001b[1;33m,\u001b[0m \u001b[0maxis\u001b[0m\u001b[1;33m=\u001b[0m\u001b[1;36m1\u001b[0m\u001b[1;33m)\u001b[0m\u001b[1;33m\u001b[0m\u001b[0m\n\u001b[0m\u001b[0;32m   2003\u001b[0m             \u001b[1;32mreturn\u001b[0m \u001b[0mself\u001b[0m\u001b[1;33m.\u001b[0m\u001b[0mtake\u001b[0m\u001b[1;33m(\u001b[0m\u001b[0mindexer\u001b[0m\u001b[1;33m,\u001b[0m \u001b[0maxis\u001b[0m\u001b[1;33m=\u001b[0m\u001b[1;36m1\u001b[0m\u001b[1;33m,\u001b[0m \u001b[0mconvert\u001b[0m\u001b[1;33m=\u001b[0m\u001b[1;32mTrue\u001b[0m\u001b[1;33m)\u001b[0m\u001b[1;33m\u001b[0m\u001b[0m\n\u001b[0;32m   2004\u001b[0m \u001b[1;33m\u001b[0m\u001b[0m\n",
      "\u001b[1;32m~\\Anaconda3\\envs\\BES_analysis\\lib\\site-packages\\pandas\\core\\indexing.py\u001b[0m in \u001b[0;36m_convert_to_indexer\u001b[1;34m(self, obj, axis, is_setter)\u001b[0m\n\u001b[0;32m   1229\u001b[0m                 \u001b[0mmask\u001b[0m \u001b[1;33m=\u001b[0m \u001b[0mcheck\u001b[0m \u001b[1;33m==\u001b[0m \u001b[1;33m-\u001b[0m\u001b[1;36m1\u001b[0m\u001b[1;33m\u001b[0m\u001b[0m\n\u001b[0;32m   1230\u001b[0m                 \u001b[1;32mif\u001b[0m \u001b[0mmask\u001b[0m\u001b[1;33m.\u001b[0m\u001b[0many\u001b[0m\u001b[1;33m(\u001b[0m\u001b[1;33m)\u001b[0m\u001b[1;33m:\u001b[0m\u001b[1;33m\u001b[0m\u001b[0m\n\u001b[1;32m-> 1231\u001b[1;33m                     \u001b[1;32mraise\u001b[0m \u001b[0mKeyError\u001b[0m\u001b[1;33m(\u001b[0m\u001b[1;34m'%s not in index'\u001b[0m \u001b[1;33m%\u001b[0m \u001b[0mobjarr\u001b[0m\u001b[1;33m[\u001b[0m\u001b[0mmask\u001b[0m\u001b[1;33m]\u001b[0m\u001b[1;33m)\u001b[0m\u001b[1;33m\u001b[0m\u001b[0m\n\u001b[0m\u001b[0;32m   1232\u001b[0m \u001b[1;33m\u001b[0m\u001b[0m\n\u001b[0;32m   1233\u001b[0m                 \u001b[1;32mreturn\u001b[0m \u001b[0m_values_from_object\u001b[0m\u001b[1;33m(\u001b[0m\u001b[0mindexer\u001b[0m\u001b[1;33m)\u001b[0m\u001b[1;33m\u001b[0m\u001b[0m\n",
      "\u001b[1;31mKeyError\u001b[0m: \"['profile_past_vote_2005' 'profile_past_vote_2010'] not in index\""
     ]
    }
   ],
   "source": [
    "party_list = list( BES_Panel[ ['profile_past_vote_2005','profile_past_vote_2010','profile_past_vote_2015' ] ].stack().unique() )\n",
    "party_list.append('I would not vote')\n",
    "replace_dict = {'Labour Party':\"LAB\", \n",
    " 'United Kingdom Independence Party (UKIP)':\"UKIP\",\n",
    " 'Labour':\"LAB\",\n",
    " 'Conservative Party':\"CON\",\n",
    " 'Conservative':\"CON\",\n",
    " 'Liberal Democrats':\"LD\",\n",
    " 'Did not vote':\"DNV\",\n",
    " 'Scottish National Party':\"SNP\",\n",
    " 'Scottish National Party (SNP)':\"SNP\",\n",
    " 'British National Party (BNP)':\"BNP\",\n",
    " 'Green Party':\"GP\",\n",
    " 'Liberal Democrat':\"LD\",\n",
    " \"Don't know\":\"DK\",\n",
    " 'Some other party':\"OTH\",\n",
    " 'Veritas':\"VER\",\n",
    " 'Plaid Cymru':\"PC\",\n",
    " 'Other':\"OTH\",\n",
    " 'Respect':\"RES\",\n",
    " 'I would not vote':\"DNV\"}\n",
    "colourmap = {'LAB':'red', 'UKIP':'purple', 'CON':'blue', 'SNP':'yellow', 'BNP':'black', 'LD':'orange', 'DNV':'grey', 'DK':'cyan', 'OTH':'brown', 'GP':'green',\n",
    "       'VER':'pink', 'PC':'olive', 'RES':'peru'}\n",
    "base_order = ['LAB','CON','DK','UKIP','LD','SNP','DNV','GP','PC','BNP','OTH','RES','VER']\n",
    "lr_order   = ['GP','PC','LAB','SNP','DK','OTH','DNV','LD','CON','UKIP','BNP','RES','VER']\n",
    "cmap = ['red','purple','blue','yellow','black','orange','grey','cyan','brown','green','pink','olive','peru']"
   ]
  },
  {
   "cell_type": "code",
   "execution_count": 12,
   "metadata": {},
   "outputs": [
    {
     "data": {
      "text/plain": [
       "['profile_past_vote_2015']"
      ]
     },
     "execution_count": 12,
     "metadata": {},
     "output_type": "execute_result"
    }
   ],
   "source": [
    "[x for x in BES_Panel.columns if \"profile_past\" in x]"
   ]
  },
  {
   "cell_type": "code",
   "execution_count": 6,
   "metadata": {
    "collapsed": true
   },
   "outputs": [],
   "source": [
    "def flatten(A):\n",
    "    rt = []\n",
    "    for i in A:\n",
    "        if isinstance(i,list): rt.extend(flatten(i))\n",
    "        else: rt.append(i)\n",
    "    return rt\n",
    "\n",
    "def make_sankey(BES, links, order, first_year, second_year, first_col, second_col,\n",
    "                replace_dict, threshold, colour, fixed_order, scale, nodes):\n",
    "    \n",
    "    crosstab = pd.crosstab(index   = BES[ first_col  ],\n",
    "                           columns = BES[ second_col ],\n",
    "                           values  = BES[ \"wt_full_W10\" ],\n",
    "                           aggfunc = sum,\n",
    "                           normalize=True)*scale\n",
    "#     if order == []: # initialise\n",
    "#         order = [ [[replace_dict[x]+first_year] for x in crosstab.index] ]\n",
    "#     order.append( [[replace_dict[x]+second_year] for x in crosstab.columns] ) # add new layer\n",
    "#     if nodes == []: # initialise\n",
    "#         nodes =   [ {'id':x+first_year } for x in lr_order ]  #, 'direction':'r'\n",
    "#     nodes.extend( [ {'id':x+second_year} for x in lr_order ] ) # , 'direction':'r'\n",
    "    \n",
    "    if order == []: # initialise\n",
    "        order = [ [[x+first_year]  for x in fixed_order] ]\n",
    "    order.append( [[x+second_year] for x in fixed_order] ) # add new layer\n",
    "    \n",
    "    for col in crosstab.columns:\n",
    "        second_party = replace_dict[ col ]\n",
    "        for ind in crosstab[col].index:\n",
    "            first_party = replace_dict[ ind ]\n",
    "            \n",
    "            if crosstab[col][ind]>threshold:\n",
    "                if colour == []:\n",
    "                    col_to_use = colourmap[first_party]\n",
    "                else:\n",
    "                    col_to_use = cmap[colour]\n",
    "                    \n",
    "                node_id_first = first_party+first_year\n",
    "                if node_id_first not in [x['id'] for x in nodes]:\n",
    "                    nodes.append({'id':node_id_first, 'direction':'l'})\n",
    "                node_id_second = second_party+second_year\n",
    "                if node_id_second not in [x['id'] for x in nodes]:\n",
    "                    nodes.append({'id':node_id_second, 'direction':'l'})                    \n",
    "\n",
    "                d = {'source': node_id_first,\n",
    "                     'target': node_id_second,\n",
    "                     'value': crosstab[col][ind],\n",
    "                     'color': col_to_use,'type' : colour}\n",
    "                links.append(d)\n",
    "\n",
    "    return links, order, nodes"
   ]
  },
  {
   "cell_type": "code",
   "execution_count": 7,
   "metadata": {
    "collapsed": true
   },
   "outputs": [],
   "source": [
    "threshold = 0.5\n",
    "margins=dict(top=30, bottom=0, left=70, right=70)"
   ]
  },
  {
   "cell_type": "code",
   "execution_count": null,
   "metadata": {
    "collapsed": true
   },
   "outputs": [],
   "source": []
  },
  {
   "cell_type": "code",
   "execution_count": 215,
   "metadata": {},
   "outputs": [
    {
     "data": {
      "application/vnd.jupyter.widget-view+json": {
       "model_id": "eba045897c7c4d0b856df794dc259bc0"
      }
     },
     "metadata": {},
     "output_type": "display_data"
    }
   ],
   "source": [
    "# 2005 -> 2010, weighted\n",
    "colour = []\n",
    "order  = []\n",
    "links  = []\n",
    "pairs = ([\"2005\",'profile_past_vote_2005'],\n",
    "         [\"2010\",'profile_past_vote_2010'])\n",
    "for pair_no in range(0,len(pairs)-1):\n",
    "    (links,order) = make_sankey(BES_Panel, links, order,\n",
    "                        pairs[pair_no][0], pairs[pair_no+1][0], pairs[pair_no][1], pairs[pair_no+1][1],\n",
    "                        replace_dict, threshold, colour, lr_order)\n",
    "\n",
    "SankeyWidget(links=links, order=order, margins = margins, scale=2)"
   ]
  },
  {
   "cell_type": "code",
   "execution_count": null,
   "metadata": {
    "collapsed": true
   },
   "outputs": [],
   "source": []
  },
  {
   "cell_type": "code",
   "execution_count": 216,
   "metadata": {},
   "outputs": [
    {
     "data": {
      "application/vnd.jupyter.widget-view+json": {
       "model_id": "6428a8be1adc406b9249592a2b72fbb7"
      }
     },
     "metadata": {},
     "output_type": "display_data"
    }
   ],
   "source": [
    "# 2010 -> 2015, weighted\n",
    "links = []\n",
    "order = []\n",
    "colour = []\n",
    "pairs = ([\"2010\",'profile_past_vote_2010'],\n",
    "         [\"2015\",'profile_past_vote_2015'])\n",
    "for pair_no in range(0,len(pairs)-1):\n",
    "    (links,order) = make_sankey(BES_Panel, links,order,\n",
    "                        pairs[pair_no][0], pairs[pair_no+1][0], pairs[pair_no][1], pairs[pair_no+1][1],\n",
    "                        replace_dict, threshold, colour, lr_order)\n",
    "\n",
    "SankeyWidget(links=links, order=order, margins=margins,scale=2)"
   ]
  },
  {
   "cell_type": "code",
   "execution_count": null,
   "metadata": {
    "collapsed": true
   },
   "outputs": [],
   "source": []
  },
  {
   "cell_type": "code",
   "execution_count": 228,
   "metadata": {},
   "outputs": [
    {
     "data": {
      "application/vnd.jupyter.widget-view+json": {
       "model_id": "4bc3578e905c4fce9d821df68b812e22"
      }
     },
     "metadata": {},
     "output_type": "display_data"
    }
   ],
   "source": [
    "links  = []\n",
    "order  = []\n",
    "colour = []\n",
    "pairs = ([\"2005\",'profile_past_vote_2005'],\n",
    "         [\"2010\",'profile_past_vote_2010'],\n",
    "         [\"2015\",'profile_past_vote_2015'],\n",
    "         [\"2017\",'generalElectionVoteW10'])\n",
    "for pair_no in range(0,len(pairs)-1):\n",
    "    (links,order) = make_sankey(BES_Panel, links,order,\n",
    "                        pairs[pair_no][0], pairs[pair_no+1][0], pairs[pair_no][1], pairs[pair_no+1][1],\n",
    "                        replace_dict, threshold, colour, lr_order)\n",
    "\n",
    "sankey = SankeyWidget(links=links, order=order, margins=margins, scale=2)\n",
    "sankey\n"
   ]
  },
  {
   "cell_type": "code",
   "execution_count": 229,
   "metadata": {
    "collapsed": true
   },
   "outputs": [],
   "source": [
    "sankey.save_png(filename=\"PastElectionVote+2007intention.png\")"
   ]
  },
  {
   "cell_type": "code",
   "execution_count": null,
   "metadata": {
    "collapsed": true
   },
   "outputs": [],
   "source": [
    "# links = []\n",
    "# pairs = ([\"2005\",'profile_past_vote_2005'],\n",
    "#          [\"2010\",'profile_past_vote_2010'],\n",
    "#          [\"2015\",'profile_past_vote_2015'],\n",
    "#          [\"2017\",'generalElectionVoteW10'])\n",
    "# for pair_no in range(0,len(pairs)-1):\n",
    "#     links = make_sankey(BES_Panel, links,\n",
    "#                         pairs[pair_no][0], pairs[pair_no+1][0], pairs[pair_no][1], pairs[pair_no+1][1],\n",
    "#                         replace_dict, threshold, [])\n",
    "\n",
    "# sankey = SankeyWidget(links=links, width=1600, height=800, margins=dict(top=0, bottom=0, left=70, right=70),scale=2)\n",
    "# sankey\n",
    "# sankey.save_png(filename=\"2005-2017.png\")"
   ]
  },
  {
   "cell_type": "code",
   "execution_count": 223,
   "metadata": {},
   "outputs": [
    {
     "data": {
      "application/vnd.jupyter.widget-view+json": {
       "model_id": "5143e07f714b4581950ec4ffc4c4f1e6"
      }
     },
     "metadata": {},
     "output_type": "display_data"
    }
   ],
   "source": [
    "links  = []\n",
    "order  = []\n",
    "colour = []\n",
    "waves = [\"W1\",\"W2\",\"W3\",\"W4\",\"W5\",\"W6\",\"W8\",\"W10\"]\n",
    "for wave_no in range(0, len(waves)-1):\n",
    "    \n",
    "    (links, order) = make_sankey(BES_Panel, links, order,\n",
    "                        waves[wave_no], waves[wave_no+1],\n",
    "                        'generalElectionVote'+waves[wave_no], 'generalElectionVote'+waves[wave_no+1],\n",
    "                        replace_dict, threshold, colour, lr_order)\n",
    "\n",
    "SankeyWidget(links=links, order=order, margins=margins, scale=2)"
   ]
  },
  {
   "cell_type": "code",
   "execution_count": 224,
   "metadata": {},
   "outputs": [
    {
     "data": {
      "application/vnd.jupyter.widget-view+json": {
       "model_id": "ef1512776afb415ea491709b6e1fb7f2"
      }
     },
     "metadata": {},
     "output_type": "display_data"
    }
   ],
   "source": [
    "sankey = SankeyWidget(links=links, order=order, margins=margins, scale=2)\n",
    "sankey"
   ]
  },
  {
   "cell_type": "code",
   "execution_count": 225,
   "metadata": {
    "collapsed": true
   },
   "outputs": [],
   "source": [
    "sankey.save_png(filename=\"VotingIntentions2014-2017.png\")"
   ]
  },
  {
   "cell_type": "code",
   "execution_count": 190,
   "metadata": {},
   "outputs": [
    {
     "data": {
      "application/vnd.jupyter.widget-view+json": {
       "model_id": "c9d670cad05045088a8596922e71b391"
      }
     },
     "metadata": {},
     "output_type": "display_data"
    }
   ],
   "source": [
    "SankeyWidget(links=links, width=1600, height=800, margins=dict(top=0, bottom=0, left=70, right=70),scale=2)"
   ]
  },
  {
   "cell_type": "code",
   "execution_count": 156,
   "metadata": {},
   "outputs": [
    {
     "data": {
      "application/vnd.jupyter.widget-view+json": {
       "model_id": "9312e00bda894ee79d313ef267acd6a2"
      }
     },
     "metadata": {},
     "output_type": "display_data"
    }
   ],
   "source": []
  },
  {
   "cell_type": "code",
   "execution_count": null,
   "metadata": {
    "collapsed": true
   },
   "outputs": [],
   "source": []
  },
  {
   "cell_type": "code",
   "execution_count": 236,
   "metadata": {},
   "outputs": [
    {
     "data": {
      "application/vnd.jupyter.widget-view+json": {
       "model_id": "389c4f84dd29453780ef17bc80a8bc10"
      }
     },
     "metadata": {},
     "output_type": "display_data"
    }
   ],
   "source": [
    "links  = []\n",
    "order  = []\n",
    "colour = []\n",
    "pairs = ([\"2005\",'profile_past_vote_2005'],\n",
    "         [\"2010\",'profile_past_vote_2010'],\n",
    "         [\"W1\",'generalElectionVoteW1'])\n",
    "for pair_no in range(0,len(pairs)-1):\n",
    "    (links, order) = make_sankey(BES_Panel, links, order,\n",
    "                        pairs[pair_no][0], pairs[pair_no+1][0],\n",
    "                        pairs[pair_no][1], pairs[pair_no+1][1],\n",
    "                        replace_dict, threshold, colour, lr_order)\n",
    "\n",
    "waves = [\"W1\",\"W2\",\"W3\",\"W4\",\"W5\",\"W6\",\"W8\",\"W10\"]\n",
    "for wave_no in range(0, len(waves)-1):\n",
    "    \n",
    "    (links, order) = make_sankey(BES_Panel, links, order,\n",
    "                        waves[wave_no], waves[wave_no+1],\n",
    "                        'generalElectionVote'+waves[wave_no], 'generalElectionVote'+waves[wave_no+1],\n",
    "                        replace_dict, threshold, colour, lr_order)\n",
    "\n",
    "sankey = SankeyWidget(links=links, order=order, margins=margins, scale=2)\n",
    "sankey"
   ]
  },
  {
   "cell_type": "code",
   "execution_count": 237,
   "metadata": {
    "collapsed": true
   },
   "outputs": [],
   "source": [
    "sankey.save_png(filename=\"Votes_and_VotingIntentions2005-2017.png\")"
   ]
  },
  {
   "cell_type": "code",
   "execution_count": 305,
   "metadata": {
    "collapsed": true
   },
   "outputs": [],
   "source": [
    "threshold = 0.5\n",
    "margins=dict(top=30, bottom=0, left=70, right=70)\n",
    "links  = []\n",
    "order  = []\n",
    "colour = []\n",
    "\n",
    "parties = BES_Panel['profile_past_vote_2005'].dropna().unique()\n",
    "#parties = ['Labour Party', 'Conservative Party', 'Did not vote', 'United Kingdom Independence Party (UKIP)']\n",
    "#parties = ['Labour Party']\n",
    "\n",
    "for party in parties:\n",
    "    order  = []\n",
    "    BES = BES_Panel.loc[ BES_Panel['profile_past_vote_2005']==party ]\n",
    "    scale = 100 * BES.shape[0]/BES_Panel.shape[0]\n",
    "    #scale = 100\n",
    "    colour = colourmap[replace_dict[party]]\n",
    "    \n",
    "    pairs = ([\"2005\",'profile_past_vote_2005'],\n",
    "             [\"2010\",'profile_past_vote_2010'],\n",
    "             [\"W1\",'generalElectionVoteW1'])\n",
    "    for pair_no in range(0,len(pairs)-1):\n",
    "        (links, order) = make_sankey(BES, links, order,\n",
    "                            pairs[pair_no][0], pairs[pair_no+1][0],\n",
    "                            pairs[pair_no][1], pairs[pair_no+1][1],\n",
    "                            replace_dict, threshold, colour, lr_order, scale)\n",
    "\n",
    "    waves = [\"W1\",\"W2\",\"W3\",\"W4\",\"W5\",\"W6\",\"W8\",\"W10\"]\n",
    "    for wave_no in range(0, len(waves)-1):\n",
    "\n",
    "        (links, order) = make_sankey(BES, links, order,\n",
    "                            waves[wave_no], waves[wave_no+1],\n",
    "                            'generalElectionVote'+waves[wave_no], 'generalElectionVote'+waves[wave_no+1],\n",
    "                            replace_dict, threshold, colour, lr_order, scale)\n",
    "\n"
   ]
  },
  {
   "cell_type": "code",
   "execution_count": 306,
   "metadata": {},
   "outputs": [
    {
     "data": {
      "application/vnd.jupyter.widget-view+json": {
       "model_id": "9dd93bffb0fb48caa186d7dcd5051392"
      }
     },
     "metadata": {},
     "output_type": "display_data"
    }
   ],
   "source": [
    "sankey = SankeyWidget(links=links, order=order, margins=margins, scale=4)\n",
    "sankey"
   ]
  },
  {
   "cell_type": "code",
   "execution_count": 307,
   "metadata": {
    "collapsed": true
   },
   "outputs": [],
   "source": [
    "sankey.save_png(filename=\"Votes_and_VotingIntentions_by2005Vote.png\")"
   ]
  },
  {
   "cell_type": "code",
   "execution_count": 313,
   "metadata": {},
   "outputs": [
    {
     "data": {
      "application/vnd.jupyter.widget-view+json": {
       "model_id": "baf6ee95c8054f478034fbd20f3d8713"
      }
     },
     "metadata": {},
     "output_type": "display_data"
    }
   ],
   "source": [
    "threshold = 0.5\n",
    "margins=dict(top=30, bottom=0, left=70, right=70)\n",
    "links  = []\n",
    "order  = []\n",
    "colour = []\n",
    "\n",
    "parties = BES_Panel['profile_past_vote_2005'].dropna().unique()\n",
    "#parties = ['Labour Party', 'Conservative Party', 'Did not vote', 'United Kingdom Independence Party (UKIP)']\n",
    "parties = ['United Kingdom Independence Party (UKIP)']\n",
    "\n",
    "for party in parties:\n",
    "    order  = []\n",
    "    BES = BES_Panel.loc[ BES_Panel['profile_past_vote_2015']==party ]\n",
    "    #scale = 100 * BES.shape[0]/BES_Panel.shape[0]\n",
    "    scale = 100\n",
    "    #colour = colourmap[replace_dict[party]]\n",
    "    \n",
    "    pairs = ([\"2005\",'profile_past_vote_2005'],\n",
    "             [\"2010\",'profile_past_vote_2010'],\n",
    "             [\"W1\",'generalElectionVoteW1'])\n",
    "    for pair_no in range(0,len(pairs)-1):\n",
    "        (links, order) = make_sankey(BES, links, order,\n",
    "                            pairs[pair_no][0], pairs[pair_no+1][0],\n",
    "                            pairs[pair_no][1], pairs[pair_no+1][1],\n",
    "                            replace_dict, threshold, colour, lr_order, scale)\n",
    "\n",
    "    waves = [\"W1\",\"W2\",\"W3\",\"W4\",\"W5\",\"W6\",\"W8\",\"W10\"]\n",
    "    for wave_no in range(0, len(waves)-1):\n",
    "\n",
    "        (links, order) = make_sankey(BES, links, order,\n",
    "                            waves[wave_no], waves[wave_no+1],\n",
    "                            'generalElectionVote'+waves[wave_no], 'generalElectionVote'+waves[wave_no+1],\n",
    "                            replace_dict, threshold, colour, lr_order, scale)\n",
    "\n",
    "sankey = SankeyWidget(links=links, order=order, margins=margins, scale=.5)\n",
    "sankey"
   ]
  },
  {
   "cell_type": "code",
   "execution_count": 314,
   "metadata": {
    "collapsed": true
   },
   "outputs": [],
   "source": [
    "sankey.save_png(filename=\"Votes_and_VotingIntentions_by2005UKIPVote.png\")"
   ]
  },
  {
   "cell_type": "code",
   "execution_count": 324,
   "metadata": {},
   "outputs": [
    {
     "data": {
      "application/vnd.jupyter.widget-view+json": {
       "model_id": "24b9de6bd546471aa218047eea4027f3"
      }
     },
     "metadata": {},
     "output_type": "display_data"
    }
   ],
   "source": [
    "threshold = 0.5\n",
    "margins=dict(top=30, bottom=0, left=70, right=70)\n",
    "links  = []\n",
    "order  = []\n",
    "colour = []\n",
    "\n",
    "parties = BES_Panel['profile_past_vote_2005'].dropna().unique()\n",
    "#parties = ['Labour Party', 'Conservative Party', 'Did not vote', 'United Kingdom Independence Party (UKIP)']\n",
    "#parties = ['Labour Party']\n",
    "\n",
    "for party in parties:\n",
    "    order  = []\n",
    "    BES = BES_Panel.loc[ (BES_Panel['profile_past_vote_2005']==party) &\n",
    "                         (BES_Panel['generalElectionVoteW1'] =='United Kingdom Independence Party (UKIP)') ]\n",
    "    scale = 100 * BES.shape[0]/BES_Panel[(BES_Panel['generalElectionVoteW1'] =='United Kingdom Independence Party (UKIP)')].shape[0]\n",
    "#     scale = 100\n",
    "    colour = colourmap[replace_dict[party]]\n",
    "    \n",
    "    pairs = ([\"2005\",'profile_past_vote_2005'],\n",
    "             [\"2010\",'profile_past_vote_2010'],\n",
    "             [\"W1\",'generalElectionVoteW1'])\n",
    "    for pair_no in range(0,len(pairs)-1):\n",
    "        (links, order) = make_sankey(BES, links, order,\n",
    "                            pairs[pair_no][0], pairs[pair_no+1][0],\n",
    "                            pairs[pair_no][1], pairs[pair_no+1][1],\n",
    "                            replace_dict, threshold, colour, lr_order, scale)\n",
    "\n",
    "    waves = [\"W1\",\"W2\",\"W3\",\"W4\",\"W5\",\"W6\",\"W8\",\"W10\"]\n",
    "    for wave_no in range(0, len(waves)-1):\n",
    "\n",
    "        (links, order) = make_sankey(BES, links, order,\n",
    "                            waves[wave_no], waves[wave_no+1],\n",
    "                            'generalElectionVote'+waves[wave_no], 'generalElectionVote'+waves[wave_no+1],\n",
    "                            replace_dict, threshold, colour, lr_order, scale)\n",
    "\n",
    "sankey = SankeyWidget(links=links, order=order, margins=margins, scale=1)\n",
    "sankey"
   ]
  },
  {
   "cell_type": "code",
   "execution_count": 325,
   "metadata": {
    "collapsed": true
   },
   "outputs": [],
   "source": [
    "sankey.save_png(filename=\"Votes_and_VotingIntentions_bypeakUKIPVote.png\")"
   ]
  },
  {
   "cell_type": "code",
   "execution_count": 328,
   "metadata": {},
   "outputs": [
    {
     "data": {
      "text/plain": [
       "Stay/remain in the EU    15016\n",
       "Leave the EU             12735\n",
       "Don't know                1450\n",
       "I would/will not vote     1118\n",
       "Name: euRefVoteW10, dtype: int64"
      ]
     },
     "execution_count": 328,
     "metadata": {},
     "output_type": "execute_result"
    }
   ],
   "source": [
    "BES_Panel['euRefVoteW10'].value_counts()"
   ]
  },
  {
   "cell_type": "code",
   "execution_count": 353,
   "metadata": {},
   "outputs": [
    {
     "data": {
      "application/vnd.jupyter.widget-view+json": {
       "model_id": "1f00b9c11a9247afaffab0174441c500"
      }
     },
     "metadata": {},
     "output_type": "display_data"
    }
   ],
   "source": [
    "threshold = 0.3\n",
    "margins=dict(top=30, bottom=0, left=70, right=70)\n",
    "links  = []\n",
    "order  = []\n",
    "colour = []\n",
    "\n",
    "parties = list( BES_Panel['euRefVoteW10'].dropna().unique() )\n",
    "#parties = ['Labour Party', 'Conservative Party', 'Did not vote', 'United Kingdom Independence Party (UKIP)']\n",
    "#parties = ['Labour Party']\n",
    "\n",
    "\n",
    "\n",
    "for party in parties:\n",
    "    order  = []\n",
    "    BES = BES_Panel.loc[ BES_Panel['euRefVoteW10']==party ]\n",
    "    scale = 100 * BES.shape[0]/BES_Panel.shape[0]\n",
    "#     scale = 100\n",
    "    colour = cmap[parties.index(party)]\n",
    "    \n",
    "    pairs = ([\"2005\",'profile_past_vote_2005'],\n",
    "             [\"2010\",'profile_past_vote_2010'],\n",
    "             [\"W1\",'generalElectionVoteW1'])\n",
    "    for pair_no in range(0,len(pairs)-1):\n",
    "        (links, order) = make_sankey(BES, links, order,\n",
    "                            pairs[pair_no][0], pairs[pair_no+1][0],\n",
    "                            pairs[pair_no][1], pairs[pair_no+1][1],\n",
    "                            replace_dict, threshold, colour, lr_order, scale)\n",
    "\n",
    "    waves = [\"W1\",\"W2\",\"W3\",\"W4\",\"W5\",\"W6\",\"W8\",\"W10\"]\n",
    "    for wave_no in range(0, len(waves)-1):\n",
    "\n",
    "        (links, order) = make_sankey(BES, links, order,\n",
    "                            waves[wave_no], waves[wave_no+1],\n",
    "                            'generalElectionVote'+waves[wave_no], 'generalElectionVote'+waves[wave_no+1],\n",
    "                            replace_dict, threshold, colour, lr_order, scale)\n",
    "\n",
    "sankey = SankeyWidget(links=links, order=order, margins=margins, scale=5)\n",
    "sankey"
   ]
  },
  {
   "cell_type": "code",
   "execution_count": 354,
   "metadata": {
    "collapsed": true
   },
   "outputs": [],
   "source": [
    "sankey.save_png(filename=\"Votes_and_VotingIntentions_by_euRefVote.png\")"
   ]
  },
  {
   "cell_type": "code",
   "execution_count": 355,
   "metadata": {},
   "outputs": [
    {
     "data": {
      "text/plain": [
       "[('Leave the EU', 'red'),\n",
       " ('Stay/remain in the EU', 'purple'),\n",
       " ('I would/will not vote', 'blue'),\n",
       " (\"Don't know\", 'yellow')]"
      ]
     },
     "execution_count": 355,
     "metadata": {},
     "output_type": "execute_result"
    }
   ],
   "source": [
    "[x for x in zip(parties,cmap[0:4])]"
   ]
  },
  {
   "cell_type": "code",
   "execution_count": 15,
   "metadata": {},
   "outputs": [
    {
     "ename": "TypeError",
     "evalue": "make_sankey() missing 1 required positional argument: 'nodes'",
     "output_type": "error",
     "traceback": [
      "\u001b[0;31m---------------------------------------------------------------------------\u001b[0m",
      "\u001b[0;31mTypeError\u001b[0m                                 Traceback (most recent call last)",
      "\u001b[0;32m<ipython-input-15-51c3c517fbe0>\u001b[0m in \u001b[0;36m<module>\u001b[0;34m()\u001b[0m\n\u001b[1;32m     27\u001b[0m                             \u001b[0mpairs\u001b[0m\u001b[0;34m[\u001b[0m\u001b[0mpair_no\u001b[0m\u001b[0;34m]\u001b[0m\u001b[0;34m[\u001b[0m\u001b[0;36m0\u001b[0m\u001b[0;34m]\u001b[0m\u001b[0;34m,\u001b[0m \u001b[0mpairs\u001b[0m\u001b[0;34m[\u001b[0m\u001b[0mpair_no\u001b[0m\u001b[0;34m+\u001b[0m\u001b[0;36m1\u001b[0m\u001b[0;34m]\u001b[0m\u001b[0;34m[\u001b[0m\u001b[0;36m0\u001b[0m\u001b[0;34m]\u001b[0m\u001b[0;34m,\u001b[0m\u001b[0;34m\u001b[0m\u001b[0m\n\u001b[1;32m     28\u001b[0m                             \u001b[0mpairs\u001b[0m\u001b[0;34m[\u001b[0m\u001b[0mpair_no\u001b[0m\u001b[0;34m]\u001b[0m\u001b[0;34m[\u001b[0m\u001b[0;36m1\u001b[0m\u001b[0;34m]\u001b[0m\u001b[0;34m,\u001b[0m \u001b[0mpairs\u001b[0m\u001b[0;34m[\u001b[0m\u001b[0mpair_no\u001b[0m\u001b[0;34m+\u001b[0m\u001b[0;36m1\u001b[0m\u001b[0;34m]\u001b[0m\u001b[0;34m[\u001b[0m\u001b[0;36m1\u001b[0m\u001b[0;34m]\u001b[0m\u001b[0;34m,\u001b[0m\u001b[0;34m\u001b[0m\u001b[0m\n\u001b[0;32m---> 29\u001b[0;31m                             replace_dict, threshold, colour, lr_order, scale)\n\u001b[0m\u001b[1;32m     30\u001b[0m \u001b[0;34m\u001b[0m\u001b[0m\n\u001b[1;32m     31\u001b[0m     \u001b[0mwaves\u001b[0m \u001b[0;34m=\u001b[0m \u001b[0;34m[\u001b[0m\u001b[0;34m\"W1\"\u001b[0m\u001b[0;34m,\u001b[0m\u001b[0;34m\"W2\"\u001b[0m\u001b[0;34m,\u001b[0m\u001b[0;34m\"W3\"\u001b[0m\u001b[0;34m,\u001b[0m\u001b[0;34m\"W4\"\u001b[0m\u001b[0;34m,\u001b[0m\u001b[0;34m\"W5\"\u001b[0m\u001b[0;34m,\u001b[0m\u001b[0;34m\"W6\"\u001b[0m\u001b[0;34m,\u001b[0m\u001b[0;34m\"W8\"\u001b[0m\u001b[0;34m,\u001b[0m\u001b[0;34m\"W10\"\u001b[0m\u001b[0;34m]\u001b[0m\u001b[0;34m\u001b[0m\u001b[0m\n",
      "\u001b[0;31mTypeError\u001b[0m: make_sankey() missing 1 required positional argument: 'nodes'"
     ]
    }
   ],
   "source": [
    "threshold = 0.2\n",
    "margins=dict(top=30, bottom=0, left=70, right=70)\n",
    "links  = []\n",
    "order  = []\n",
    "colour = []\n",
    "spl_var = 'al2W10'\n",
    "\n",
    "parties = list( BES_Panel[ spl_var ].cat.categories )\n",
    "#parties = ['Labour Party', 'Conservative Party', 'Did not vote', 'United Kingdom Independence Party (UKIP)']\n",
    "#parties = ['Labour Party']\n",
    "\n",
    "cmap = ['red','purple','blue','yellow','black','orange','grey','cyan','brown','green','pink','olive','peru']\n",
    "\n",
    "for party in parties:\n",
    "    order  = []\n",
    "    BES = BES_Panel.loc[ BES_Panel[spl_var].notnull() & (BES_Panel[ spl_var ]==party) ]\n",
    "    scale = 100 * BES.shape[0]/BES_Panel.shape[0]\n",
    "#     scale = 100\n",
    "    colour = cmap[parties.index(party)]\n",
    "    \n",
    "    pairs = ([\"2005\",'profile_past_vote_2005'],\n",
    "             [\"2010\",'profile_past_vote_2010'],\n",
    "             [\"W1\",'generalElectionVoteW1'])\n",
    "    for pair_no in range(0,len(pairs)-1):\n",
    "        (links, order) = make_sankey(BES, links, order,\n",
    "                            pairs[pair_no][0], pairs[pair_no+1][0],\n",
    "                            pairs[pair_no][1], pairs[pair_no+1][1],\n",
    "                            replace_dict, threshold, colour, lr_order, scale)\n",
    "\n",
    "    waves = [\"W1\",\"W2\",\"W3\",\"W4\",\"W5\",\"W6\",\"W8\",\"W10\"]\n",
    "    for wave_no in range(0, len(waves)-1):\n",
    "\n",
    "        (links, order) = make_sankey(BES, links, order,\n",
    "                            waves[wave_no], waves[wave_no+1],\n",
    "                            'generalElectionVote'+waves[wave_no], 'generalElectionVote'+waves[wave_no+1],\n",
    "                            replace_dict, threshold, colour, lr_order, scale)\n",
    "\n",
    "sankey = SankeyWidget(links=links, order=order, margins=margins, scale=4)\n",
    "sankey"
   ]
  },
  {
   "cell_type": "code",
   "execution_count": 364,
   "metadata": {},
   "outputs": [
    {
     "data": {
      "text/plain": [
       "[('Strongly disagree', 'red'),\n",
       " ('Disagree', 'purple'),\n",
       " ('Neither agree nor disagree', 'blue'),\n",
       " ('Agree', 'yellow'),\n",
       " ('Strongly agree', 'black'),\n",
       " (\"Don't know\", 'orange')]"
      ]
     },
     "execution_count": 364,
     "metadata": {},
     "output_type": "execute_result"
    }
   ],
   "source": [
    "[x for x in zip(parties,cmap[0:7])]"
   ]
  },
  {
   "cell_type": "code",
   "execution_count": 368,
   "metadata": {
    "collapsed": true
   },
   "outputs": [],
   "source": [
    "sankey.save_png(filename=\"Votes_and_VotingIntentions_by_DeathPenalty.png\")"
   ]
  },
  {
   "cell_type": "code",
   "execution_count": 428,
   "metadata": {},
   "outputs": [
    {
     "data": {
      "text/plain": [
       "0         True\n",
       "1         True\n",
       "2         True\n",
       "3        False\n",
       "4        False\n",
       "5        False\n",
       "6         True\n",
       "7         True\n",
       "8         True\n",
       "9        False\n",
       "10        True\n",
       "11       False\n",
       "12       False\n",
       "13        True\n",
       "14        True\n",
       "15       False\n",
       "16        True\n",
       "17        True\n",
       "18       False\n",
       "19       False\n",
       "20       False\n",
       "21       False\n",
       "22       False\n",
       "23       False\n",
       "24       False\n",
       "25       False\n",
       "26       False\n",
       "27       False\n",
       "28       False\n",
       "29        True\n",
       "         ...  \n",
       "64659    False\n",
       "64660    False\n",
       "64661    False\n",
       "64662    False\n",
       "64663    False\n",
       "64664    False\n",
       "64665    False\n",
       "64666    False\n",
       "64667    False\n",
       "64668    False\n",
       "64669    False\n",
       "64670    False\n",
       "64671    False\n",
       "64672    False\n",
       "64673    False\n",
       "64674    False\n",
       "64675    False\n",
       "64676    False\n",
       "64677    False\n",
       "64678    False\n",
       "64679    False\n",
       "64680    False\n",
       "64681    False\n",
       "64682    False\n",
       "64683    False\n",
       "64684    False\n",
       "64685    False\n",
       "64686    False\n",
       "64687    False\n",
       "64688    False\n",
       "Name: al2W10, dtype: bool"
      ]
     },
     "execution_count": 428,
     "metadata": {},
     "output_type": "execute_result"
    }
   ],
   "source": [
    "BES_Panel[spl_var].notnull()"
   ]
  },
  {
   "cell_type": "code",
   "execution_count": null,
   "metadata": {
    "collapsed": true
   },
   "outputs": [],
   "source": []
  },
  {
   "cell_type": "code",
   "execution_count": null,
   "metadata": {
    "collapsed": true
   },
   "outputs": [],
   "source": []
  },
  {
   "cell_type": "code",
   "execution_count": 446,
   "metadata": {},
   "outputs": [
    {
     "data": {
      "application/vnd.jupyter.widget-view+json": {
       "model_id": "b3e733ff7d5f4067a6b583638860d6b1"
      }
     },
     "metadata": {},
     "output_type": "display_data"
    }
   ],
   "source": [
    "threshold = 0.2\n",
    "margins=dict(top=30, bottom=30, left=70, right=70)\n",
    "links  = []\n",
    "order  = []\n",
    "colour = []\n",
    "\n",
    "spl_var = 'al_scaleW10'\n",
    "\n",
    "parties = list( BES_Panel[spl_var].cat.categories )\n",
    "#parties = ['Labour Party', 'Conservative Party', 'Did not vote', 'United Kingdom Independence Party (UKIP)']\n",
    "#parties = ['Labour Party']\n",
    "parties = [['Libertarian', 0.5, 1.0, 1.5],\n",
    "           [2.0,           2.5, 3.0, 3.5],\n",
    "           [4.0,           4.5, 5.0, 5.5, 6.0],\n",
    "           [6.5,           7.0, 7.5, 8.0],\n",
    "           [8.5, 9.0, 9.5, 'Authoritarian']]\n",
    "# Meh - distribution upsetting!\n",
    "# 0,9.0,12.0,14,17,20.0\n",
    "\n",
    "# parties = [['Libertarian', 0.5, 1.0, 1.5,2.0, 2.5, 3.0, 3.5, 4.0, 4.5 ],\n",
    "#            [5.0, 5.5, 6.0],\n",
    "#            [6.5, 7.0],\n",
    "#            [7.5, 8.0, 8.5],\n",
    "#            [9.0, 9.5, 'Authoritarian']]\n",
    "\n",
    "cmap = ['red','purple','blue','yellow','black','orange','grey','cyan','brown','green','pink','olive','peru']\n",
    "\n",
    "for party_no in range(0,len(parties)):\n",
    "    order  = []\n",
    "    BES = BES_Panel.loc[ BES_Panel[spl_var].notnull() & BES_Panel[spl_var].apply(lambda x: x in parties[party_no]) ]\n",
    "    scale = 100 * BES.shape[0]/BES_Panel.shape[0]\n",
    "#     scale = 100\n",
    "    colour = cmap[party_no]\n",
    "    \n",
    "    pairs = ([\"2005\",'profile_past_vote_2005'],\n",
    "             [\"2010\",'profile_past_vote_2010'],\n",
    "             [\"W1\",'generalElectionVoteW1'])\n",
    "    for pair_no in range(0,len(pairs)-1):\n",
    "        (links, order) = make_sankey(BES, links, order,\n",
    "                            pairs[pair_no][0], pairs[pair_no+1][0],\n",
    "                            pairs[pair_no][1], pairs[pair_no+1][1],\n",
    "                            replace_dict, threshold, colour, lr_order, scale)\n",
    "\n",
    "    waves = [\"W1\",\"W2\",\"W3\",\"W4\",\"W5\",\"W6\",\"W8\",\"W10\"]\n",
    "    for wave_no in range(0, len(waves)-1):\n",
    "\n",
    "        (links, order) = make_sankey(BES, links, order,\n",
    "                            waves[wave_no], waves[wave_no+1],\n",
    "                            'generalElectionVote'+waves[wave_no], 'generalElectionVote'+waves[wave_no+1],\n",
    "                            replace_dict, threshold, colour, lr_order, scale)\n",
    "\n",
    "sankey = SankeyWidget(links=links, order=order, margins=margins, scale=4)\n",
    "sankey"
   ]
  },
  {
   "cell_type": "code",
   "execution_count": 447,
   "metadata": {
    "collapsed": true
   },
   "outputs": [],
   "source": [
    "sankey.save_png(filename=\"Votes_and_VotingIntentions_by_soc_con_vs_soc_lib.png\")"
   ]
  },
  {
   "cell_type": "code",
   "execution_count": null,
   "metadata": {
    "collapsed": true
   },
   "outputs": [],
   "source": []
  },
  {
   "cell_type": "code",
   "execution_count": 450,
   "metadata": {},
   "outputs": [
    {
     "data": {
      "application/vnd.jupyter.widget-view+json": {
       "model_id": "c86b3b3049ed44b5a7efe7a2b2adb1bc"
      }
     },
     "metadata": {},
     "output_type": "display_data"
    }
   ],
   "source": [
    "threshold = 0.2\n",
    "margins=dict(top=30, bottom=30, left=70, right=70)\n",
    "links  = []\n",
    "order  = []\n",
    "colour = []\n",
    "\n",
    "spl_var = 'lr_scaleW10'\n",
    "\n",
    "parties = list( BES_Panel[spl_var].cat.categories )\n",
    "#parties = ['Labour Party', 'Conservative Party', 'Did not vote', 'United Kingdom Independence Party (UKIP)']\n",
    "#parties = ['Labour Party']\n",
    "parties = [['Left', 0.5, 1.0, 1.5],\n",
    "           [2.0,           2.5, 3.0, 3.5],\n",
    "           [4.0,           4.5, 5.0, 5.5, 6.0],\n",
    "           [6.5,           7.0, 7.5, 8.0],\n",
    "           [8.5, 9.0, 9.5, 'Right']]\n",
    "# Meh - distribution upsetting!\n",
    "# 0,9.0,12.0,14,17,20.0\n",
    "\n",
    "# parties = [['Libertarian', 0.5, 1.0, 1.5,2.0, 2.5, 3.0, 3.5, 4.0, 4.5 ],\n",
    "#            [5.0, 5.5, 6.0],\n",
    "#            [6.5, 7.0],\n",
    "#            [7.5, 8.0, 8.5],\n",
    "#            [9.0, 9.5, 'Authoritarian']]\n",
    "\n",
    "cmap = ['red','purple','blue','yellow','black','orange','grey','cyan','brown','green','pink','olive','peru']\n",
    "\n",
    "for party_no in range(0,len(parties)):\n",
    "    order  = []\n",
    "    BES = BES_Panel.loc[ BES_Panel[spl_var].notnull() & BES_Panel[spl_var].apply(lambda x: x in parties[party_no]) ]\n",
    "    scale = 100 * BES.shape[0]/BES_Panel.shape[0]\n",
    "#     scale = 100\n",
    "    colour = cmap[party_no]\n",
    "    \n",
    "    pairs = ([\"2005\",'profile_past_vote_2005'],\n",
    "             [\"2010\",'profile_past_vote_2010'],\n",
    "             [\"W1\",'generalElectionVoteW1'])\n",
    "    for pair_no in range(0,len(pairs)-1):\n",
    "        (links, order) = make_sankey(BES, links, order,\n",
    "                            pairs[pair_no][0], pairs[pair_no+1][0],\n",
    "                            pairs[pair_no][1], pairs[pair_no+1][1],\n",
    "                            replace_dict, threshold, colour, lr_order, scale)\n",
    "\n",
    "    waves = [\"W1\",\"W2\",\"W3\",\"W4\",\"W5\",\"W6\",\"W8\",\"W10\"]\n",
    "    for wave_no in range(0, len(waves)-1):\n",
    "\n",
    "        (links, order) = make_sankey(BES, links, order,\n",
    "                            waves[wave_no], waves[wave_no+1],\n",
    "                            'generalElectionVote'+waves[wave_no], 'generalElectionVote'+waves[wave_no+1],\n",
    "                            replace_dict, threshold, colour, lr_order, scale)\n",
    "\n",
    "sankey = SankeyWidget(links=links, order=order, margins=margins, scale=4)\n",
    "sankey"
   ]
  },
  {
   "cell_type": "code",
   "execution_count": 451,
   "metadata": {
    "collapsed": true
   },
   "outputs": [],
   "source": [
    "sankey.save_png(filename=\"Votes_and_VotingIntentions_by_ec_left_vs_ec_right.png\")"
   ]
  },
  {
   "cell_type": "code",
   "execution_count": null,
   "metadata": {
    "collapsed": true
   },
   "outputs": [],
   "source": []
  },
  {
   "cell_type": "code",
   "execution_count": null,
   "metadata": {
    "collapsed": true
   },
   "outputs": [],
   "source": []
  },
  {
   "cell_type": "code",
   "execution_count": 459,
   "metadata": {},
   "outputs": [
    {
     "data": {
      "text/plain": [
       "[0.0, 1.0, 2.0, 3.0, 4.0, 5.0, 6.0, 7.0, 8.0, 9.0, 10.0, nan]"
      ]
     },
     "execution_count": 459,
     "metadata": {},
     "output_type": "execute_result"
    }
   ],
   "source": [
    "list( BES_Panel['personality_agreeableness'].sort_values().unique() )"
   ]
  },
  {
   "cell_type": "code",
   "execution_count": 8,
   "metadata": {
    "scrolled": true
   },
   "outputs": [
    {
     "data": {
      "text/plain": [
       "[('No', 'red'),\n",
       " ('Yes, middle class', 'purple'),\n",
       " ('Yes, working class', 'blue'),\n",
       " ('Yes, other', 'yellow'),\n",
       " (\"Don't know\", 'black')]"
      ]
     },
     "metadata": {},
     "output_type": "display_data"
    },
    {
     "data": {
      "application/vnd.jupyter.widget-view+json": {
       "model_id": "5d40ac11c3a549fea468562c9f9332e1"
      }
     },
     "metadata": {},
     "output_type": "display_data"
    }
   ],
   "source": [
    "threshold = 0.3\n",
    "margins=dict(top=20, bottom=20, left=70, right=70)\n",
    "links  = []\n",
    "order  = []\n",
    "colour = []\n",
    "nodes  = []\n",
    "\n",
    "#'profile_ethnicity'- interesting but hard to make out\n",
    "\n",
    "# BES_Panel[['marital', 'profile_education_age', 'profile_ethnicity',\n",
    "#         'gender', 'profile_household_size', 'housing',\n",
    "#         'profile_newspaper_readership_201', 'profile_household_children',\n",
    "#         'profile_gross_household', 'profile_gross_personal',\n",
    "#         'edlevel','ageGroup','country','countryOfBirth',\n",
    "\n",
    "spl_var = 'subjClassW10'\n",
    "\n",
    "parties = list( BES_Panel[spl_var].cat.categories )\n",
    "# parties.remove(\"Don't know\")\n",
    "# parties.remove('Some other party')\n",
    "# parties.remove('No, I have never been a member')\n",
    "# parties.remove('England')\n",
    "# parties.remove('Scotland')\n",
    "# parties.remove('Wales')\n",
    "# parties.remove('Prefer not to answer')\n",
    "\n",
    "# parties.remove('Prefer not to answer')\n",
    "# parties.remove(\"Don't know\")\n",
    "# parties.remove('None')\n",
    "# parties.remove('Other local daily morning newspaper')\n",
    "# parties.remove('Other Newspaper')\n",
    "\n",
    "# parties.remove('White British')\n",
    "# parties.remove('Any other white background')\n",
    "# parties.remove('Prefer not to say')\n",
    "\n",
    "# parties = [['under Â£5,000 per year', 'Â£5,000 to Â£9,999 per year'],\n",
    "#  ['Â£10,000 to Â£14,999 per year', 'Â£15,000 to Â£19,999 per year'],\n",
    "#  ['Â£20,000 to Â£24,999 per year', 'Â£25,000 to Â£29,999 per year'],\n",
    "#  ['Â£30,000 to Â£34,999 per year', 'Â£35,000 to Â£39,999 per year'],\n",
    "#  ['Â£40,000 to Â£44,999 per year', 'Â£45,000 to Â£49,999 per year'],\n",
    "#  ['Â£50,000 to Â£59,999 per year'],\n",
    "#  ['Â£60,000 to Â£69,999 per year'],\n",
    "#  ['Â£70,000 to Â£99,999 per year'],\n",
    "#  ['Â£100,000 and over']]\n",
    "\n",
    "# parties = [['Left', 0.5, 1.0, 1.5],\n",
    "#            [2.0,           2.5, 3.0, 3.5],\n",
    "#            [4.0,           4.5, 5.0, 5.5, 6.0],\n",
    "#            [6.5,           7.0, 7.5, 8.0],\n",
    "#            [8.5, 9.0, 9.5, 'Right']]\n",
    "\n",
    "# parties = [['Left'], [0.5], [1.0], [1.5], [2.0], [2.5], [3.0], [3.5], [4.0], [4.5], [5.0],\n",
    "#  [5.5,\n",
    "#  6.0,\n",
    "#  6.5,\n",
    "#  7.0,\n",
    "#  7.5],\n",
    "#  [8.0,\n",
    "#  8.5,\n",
    "#  9.0,\n",
    "#  9.5,\n",
    "#  'Right']]\n",
    "\n",
    "\n",
    "# parties = [[0.0, 1.0],\n",
    "#            [2.0, 3.0],\n",
    "#            [4.0, 5.0, 6.0],\n",
    "#            [7.0, 8.0],\n",
    "#            [9.0, 10.0]]\n",
    "\n",
    "# Meh - distribution upsetting!\n",
    "# 0,9.0,12.0,14,17,20.0\n",
    "\n",
    "# parties = [['Libertarian', 0.5, 1.0, 1.5,2.0, 2.5, 3.0, 3.5, 4.0, 4.5 ],\n",
    "#            [5.0, 5.5, 6.0],\n",
    "#            [6.5, 7.0],\n",
    "#            [7.5, 8.0, 8.5],\n",
    "#            [9.0, 9.5, 'Authoritarian']]\n",
    "\n",
    "# parties = [['Strongly dislike', '1'],\n",
    "#           ['2', '3'],\n",
    "#           ['4', '5', '6'],\n",
    "#           ['7','8'],\n",
    "#           ['9', 'Strongly like']]\n",
    "\n",
    "\n",
    "cmap = ['red','purple','blue','yellow','black','orange','grey','cyan','brown','green',\n",
    "        'pink','olive','peru', 'lime','lightskyblue','magenta']\n",
    "\n",
    "# cm=plt.get_cmap('cool')\n",
    "# cmap = [colors.rgb2hex(cm(x)) for x in range( 0,255,int( 255/(len(parties)-1) ) )]\n",
    "\n",
    "# region = 'Scotland'\n",
    "restriction = BES_Panel[spl_var].notnull()\n",
    "restriction = restriction & (BES_Panel['generalElectionVoteW6']=='Green Party')\n",
    "# restriction = restriction & (BES_Panel['generalElectionVoteW6']=='United Kingdom Independence Party (UKIP)')\n",
    "# restriction = restriction & (BES_Panel['profile_past_vote_2005']=='Labour Party')\n",
    "# restriction = restriction & (BES_Panel['profile_past_vote_2005']=='Green Party')\n",
    "# restriction = restriction & (BES_Panel['profile_past_vote_2005']=='Labour Party')\n",
    "# restriction = restriction & (BES_Panel['generalElectionVoteW6']=='Scottish National Party (SNP)')\n",
    "# restriction = restriction & ( BES_Panel['gor'] == region )\n",
    "# restriction = restriction & (BES_Panel['partyMemberNowW10']=='Labour')\n",
    "\n",
    "full_scale = BES_Panel.loc[BES_Panel[spl_var].apply(lambda x: x in flatten(parties)) &\n",
    "                            restriction].shape[0]\n",
    "\n",
    "\n",
    "for party_no in range(0,len(parties)):\n",
    "    order  = []\n",
    "    BES = BES_Panel.loc[BES_Panel[spl_var].apply(lambda x: x in parties[party_no]) &\n",
    "                        restriction]\n",
    "#     scale = 100 * BES.shape[0]/BES_Panel.shape[0]\n",
    "#     scale = scale * BES_Panel.shape[0]/(BES_Panel['profile_past_vote_2005']=='Labour Party').sum()\n",
    "#     scale = 100\n",
    "    scale = 100* BES.shape[0] / full_scale\n",
    "    colour = party_no\n",
    "#     colour = cmap.index( colourmap[ replace_dict[ parties[party_no] ] ] )\n",
    "\n",
    "    \n",
    "    pairs = ([\"2005\",'profile_past_vote_2005'],\n",
    "             [\"2010\",'profile_past_vote_2010'],\n",
    "             [\"W1\",'generalElectionVoteW1'])\n",
    "    \n",
    "#     pairs = ([\"2005\",'profile_past_vote_2005'],\n",
    "#              [\"W6\",'generalElectionVoteW6'])\n",
    "\n",
    "    for pair_no in range(0,len(pairs)-1):\n",
    "        (links, order, nodes) = make_sankey(BES, links, order,\n",
    "                            pairs[pair_no][0], pairs[pair_no+1][0],\n",
    "                            pairs[pair_no][1], pairs[pair_no+1][1],\n",
    "                            replace_dict, threshold, colour, lr_order, scale, nodes)\n",
    "\n",
    "    waves = [\"W1\",\"W2\",\"W3\",\"W4\",\"W5\",\"W6\",\"W8\",\"W10\"]\n",
    "#     waves = [\"W6\"]\n",
    "\n",
    "    for wave_no in range(0, len(waves)-1):\n",
    "\n",
    "        (links, order, nodes) = make_sankey(BES, links, order,\n",
    "                            waves[wave_no], waves[wave_no+1],\n",
    "                            'generalElectionVote'+waves[wave_no], 'generalElectionVote'+waves[wave_no+1],\n",
    "                            replace_dict, threshold, colour, lr_order, scale, nodes)\n",
    "\n",
    "        \n",
    "layout=dict(width='1500',height='750')       \n",
    "# layout=dict(width='1000',height='500') \n",
    "sankey = SankeyWidget(links=links, order=order, margins=margins, scale=1,\n",
    "                      layout=layout,   align_link_types = False, nodes=nodes) \n",
    "\n",
    "display([x for x in zip(parties,cmap)])\n",
    "sankey\n",
    "# filename = spl_var\n",
    "# # filename = 'LAB2005Vote_in_scotland_by_lr_scale'\n",
    "# # filename = region\n",
    "filename = 'GP2015_by_subjClass'\n",
    "sankey.auto_save_svg(filename=filename+'.svg')\n",
    "sankey.auto_save_png(filename=filename+'.png')"
   ]
  },
  {
   "cell_type": "code",
   "execution_count": 58,
   "metadata": {},
   "outputs": [
    {
     "data": {
      "text/plain": [
       "[('Did not vote', 'red'),\n",
       " ('Conservative Party', 'purple'),\n",
       " ('Labour Party', 'blue'),\n",
       " ('Liberal Democrats', 'yellow'),\n",
       " ('Scottish National Party', 'black'),\n",
       " ('Plaid Cymru', 'orange'),\n",
       " ('British National Party (BNP)', 'grey'),\n",
       " ('Green Party', 'cyan'),\n",
       " ('Respect', 'brown'),\n",
       " ('United Kingdom Independence Party (UKIP)', 'green'),\n",
       " ('Veritas', 'pink'),\n",
       " ('Some other party', 'olive'),\n",
       " (\"Don't know\", 'peru')]"
      ]
     },
     "metadata": {},
     "output_type": "display_data"
    },
    {
     "data": {
      "application/vnd.jupyter.widget-view+json": {
       "model_id": "795295e6dbb4417b98dd811335615d9e"
      }
     },
     "metadata": {},
     "output_type": "display_data"
    }
   ],
   "source": [
    "threshold = 0.3\n",
    "margins=dict(top=20, bottom=20, left=70, right=70)\n",
    "links  = []\n",
    "order  = []\n",
    "colour = []\n",
    "nodes  = []\n",
    "\n",
    "#'profile_ethnicity'- interesting but hard to make out\n",
    "\n",
    "# BES_Panel[['marital', 'profile_education_age', 'profile_ethnicity',\n",
    "#         'gender', 'profile_household_size', 'housing',\n",
    "#         'profile_newspaper_readership_201', 'profile_household_children',\n",
    "#         'profile_gross_household', 'profile_gross_personal',\n",
    "#         'edlevel','ageGroup','country','countryOfBirth',\n",
    "\n",
    "#  BES_Panel['euRefDoOverW10']\n",
    "\n",
    "spl_var = 'profile_past_vote_2005'\n",
    "#'profile_past_vote_2005'\n",
    "\n",
    "parties = list( BES_Panel[spl_var].cat.categories )\n",
    "# parties.remove(\"Don't know\")\n",
    "# parties.remove('Some other party')\n",
    "# parties.remove('No, I have never been a member')\n",
    "# parties.remove('England')\n",
    "# parties.remove('Scotland')\n",
    "# parties.remove('Wales')\n",
    "# parties.remove('Prefer not to answer')\n",
    "\n",
    "# parties.remove('Prefer not to answer')\n",
    "# parties.remove(\"Don't know\")\n",
    "# parties.remove('None')\n",
    "# parties.remove('Other local daily morning newspaper')\n",
    "# parties.remove('Other Newspaper')\n",
    "\n",
    "# parties.remove('White British')\n",
    "# parties.remove('Any other white background')\n",
    "# parties.remove('Prefer not to say')\n",
    "\n",
    "# parties = [['under Â£5,000 per year', 'Â£5,000 to Â£9,999 per year'],\n",
    "#  ['Â£10,000 to Â£14,999 per year', 'Â£15,000 to Â£19,999 per year'],\n",
    "#  ['Â£20,000 to Â£24,999 per year', 'Â£25,000 to Â£29,999 per year'],\n",
    "#  ['Â£30,000 to Â£34,999 per year', 'Â£35,000 to Â£39,999 per year'],\n",
    "#  ['Â£40,000 to Â£44,999 per year', 'Â£45,000 to Â£49,999 per year'],\n",
    "#  ['Â£50,000 to Â£59,999 per year'],\n",
    "#  ['Â£60,000 to Â£69,999 per year'],\n",
    "#  ['Â£70,000 to Â£99,999 per year'],\n",
    "#  ['Â£100,000 and over']]\n",
    "\n",
    "# parties = [['Left', 0.5, 1.0, 1.5],\n",
    "#            [2.0,           2.5, 3.0, 3.5],\n",
    "#            [4.0,           4.5, 5.0, 5.5, 6.0],\n",
    "#            [6.5,           7.0, 7.5, 8.0],\n",
    "#            [8.5, 9.0, 9.5, 'Right']]\n",
    "\n",
    "# parties = [['Left'], [0.5], [1.0], [1.5], [2.0], [2.5], [3.0], [3.5], [4.0], [4.5], [5.0],\n",
    "#  [5.5,\n",
    "#  6.0,\n",
    "#  6.5,\n",
    "#  7.0,\n",
    "#  7.5],\n",
    "#  [8.0,\n",
    "#  8.5,\n",
    "#  9.0,\n",
    "#  9.5,\n",
    "#  'Right']]\n",
    "\n",
    "\n",
    "# parties = [[0.0, 1.0],\n",
    "#            [2.0, 3.0],\n",
    "#            [4.0, 5.0, 6.0],\n",
    "#            [7.0, 8.0],\n",
    "#            [9.0, 10.0]]\n",
    "\n",
    "# Meh - distribution upsetting!\n",
    "# 0,9.0,12.0,14,17,20.0\n",
    "\n",
    "# parties = [['Libertarian', 0.5, 1.0, 1.5,2.0, 2.5, 3.0, 3.5, 4.0, 4.5 ],\n",
    "#            [5.0, 5.5, 6.0],\n",
    "#            [6.5, 7.0],\n",
    "#            [7.5, 8.0, 8.5],\n",
    "#            [9.0, 9.5, 'Authoritarian']]\n",
    "\n",
    "# parties = [['Strongly dislike', '1'],\n",
    "#           ['2', '3'],\n",
    "#           ['4', '5', '6'],\n",
    "#           ['7','8'],\n",
    "#           ['9', 'Strongly like']]\n",
    "\n",
    "\n",
    "cmap = ['red','purple','blue','yellow','black','orange','grey','cyan','brown','green',\n",
    "        'pink','olive','peru', 'lime','lightskyblue','magenta']\n",
    "\n",
    "# cm=plt.get_cmap('cool')\n",
    "# cmap = [colors.rgb2hex(cm(x)) for x in range( 0,255,int( 255/(len(parties)-1) ) )]\n",
    "\n",
    "# region = 'Scotland'\n",
    "restriction = BES_Panel[spl_var].notnull()\n",
    "# restriction = restriction & (BES_Panel['generalElectionVoteW6']=='Green Party')\n",
    "# restriction = restriction & (BES_Panel['generalElectionVoteW6']=='United Kingdom Independence Party (UKIP)')\n",
    "# restriction = restriction & (BES_Panel['profile_past_vote_2005']=='Labour Party')\n",
    "# restriction = restriction & (BES_Panel['profile_past_vote_2005']=='Green Party')\n",
    "# restriction = restriction & (BES_Panel['profile_past_vote_2005']=='Labour Party')\n",
    "# restriction = restriction & (BES_Panel['generalElectionVoteW6']=='Scottish National Party (SNP)')\n",
    "# restriction = restriction & ( BES_Panel['gor'] == region )\n",
    "# restriction = restriction & (BES_Panel['partyMemberNowW10']=='Labour')\n",
    "restriction = restriction & (BES_Panel[\"new_eu_split\"]=='Hard Leave')\n",
    "\n",
    "full_scale = BES_Panel.loc[BES_Panel[spl_var].apply(lambda x: x in flatten(parties)) &\n",
    "                            restriction].shape[0]\n",
    "\n",
    "\n",
    "for party_no in range(0,len(parties)):\n",
    "    order  = []\n",
    "    BES = BES_Panel.loc[BES_Panel[spl_var].apply(lambda x: x in parties[party_no]) &\n",
    "                        restriction]\n",
    "#     scale = 100 * BES.shape[0]/BES_Panel.shape[0]\n",
    "#     scale = scale * BES_Panel.shape[0]/(BES_Panel['profile_past_vote_2005']=='Labour Party').sum()\n",
    "#     scale = 100\n",
    "    scale = 100* BES.shape[0] / full_scale\n",
    "    colour = party_no\n",
    "#     colour = cmap.index( colourmap[ replace_dict[ parties[party_no] ] ] )\n",
    "\n",
    "    \n",
    "    pairs = ([\"2005\",'profile_past_vote_2005'],\n",
    "             [\"2010\",'profile_past_vote_2010'],\n",
    "             [\"W1\",'generalElectionVoteW1'])\n",
    "    \n",
    "#     pairs = ([\"2005\",'profile_past_vote_2005'],\n",
    "#              [\"W6\",'generalElectionVoteW6'])\n",
    "\n",
    "    for pair_no in range(0,len(pairs)-1):\n",
    "        (links, order, nodes) = make_sankey(BES, links, order,\n",
    "                            pairs[pair_no][0], pairs[pair_no+1][0],\n",
    "                            pairs[pair_no][1], pairs[pair_no+1][1],\n",
    "                            replace_dict, threshold, colour, lr_order, scale, nodes)\n",
    "\n",
    "    waves = [\"W1\",\"W2\",\"W3\",\"W4\",\"W5\",\"W6\",\"W8\",\"W10\"]\n",
    "#     waves = [\"W6\"]\n",
    "\n",
    "    for wave_no in range(0, len(waves)-1):\n",
    "\n",
    "        (links, order, nodes) = make_sankey(BES, links, order,\n",
    "                            waves[wave_no], waves[wave_no+1],\n",
    "                            'generalElectionVote'+waves[wave_no], 'generalElectionVote'+waves[wave_no+1],\n",
    "                            replace_dict, threshold, colour, lr_order, scale, nodes)\n",
    "\n",
    "        \n",
    "layout=dict(width='1500',height='750')       \n",
    "# layout=dict(width='1000',height='500') \n",
    "sankey = SankeyWidget(links=links, order=order, margins=margins, scale=3,\n",
    "                      layout=layout,   align_link_types = False, nodes=nodes) \n",
    "\n",
    "display([x for x in zip(parties,cmap)])\n",
    "sankey\n",
    "# filename = spl_var\n",
    "# # filename = 'LAB2005Vote_in_scotland_by_lr_scale'\n",
    "# # filename = region\n",
    "filename = 'HardLeave_by2005Vote'\n",
    "sankey.auto_save_svg(filename=filename+'.svg')\n",
    "sankey.auto_save_png(filename=filename+'.png')"
   ]
  },
  {
   "cell_type": "code",
   "execution_count": 15,
   "metadata": {},
   "outputs": [
    {
     "data": {
      "text/plain": [
       "30319"
      ]
     },
     "execution_count": 15,
     "metadata": {},
     "output_type": "execute_result"
    }
   ],
   "source": [
    "BES_Panel['euRefDoOverW10'].notnull().sum()"
   ]
  },
  {
   "cell_type": "code",
   "execution_count": 16,
   "metadata": {},
   "outputs": [
    {
     "data": {
      "text/plain": [
       "30319"
      ]
     },
     "execution_count": 16,
     "metadata": {},
     "output_type": "execute_result"
    }
   ],
   "source": [
    "BES_Panel['euRefVoteW10'].notnull().sum()"
   ]
  },
  {
   "cell_type": "code",
   "execution_count": 22,
   "metadata": {},
   "outputs": [
    {
     "data": {
      "text/plain": [
       "10667"
      ]
     },
     "execution_count": 22,
     "metadata": {},
     "output_type": "execute_result"
    }
   ],
   "source": [
    "( (BES_Panel['euRefDoOverW10']==\"Yes\") & (BES_Panel['euRefVoteW10']=='Stay/remain in the EU') ).sum()"
   ]
  },
  {
   "cell_type": "code",
   "execution_count": 23,
   "metadata": {},
   "outputs": [
    {
     "data": {
      "text/plain": [
       "2843"
      ]
     },
     "execution_count": 23,
     "metadata": {},
     "output_type": "execute_result"
    }
   ],
   "source": [
    "( (BES_Panel['euRefDoOverW10']==\"No\") & (BES_Panel['euRefVoteW10']=='Stay/remain in the EU') ).sum()"
   ]
  },
  {
   "cell_type": "code",
   "execution_count": 27,
   "metadata": {},
   "outputs": [
    {
     "data": {
      "text/plain": [
       "1506"
      ]
     },
     "execution_count": 27,
     "metadata": {},
     "output_type": "execute_result"
    }
   ],
   "source": [
    "( (BES_Panel['euRefDoOverW10']=='Don\\'t know') & (BES_Panel['euRefVoteW10']=='Stay/remain in the EU') ).sum()\n"
   ]
  },
  {
   "cell_type": "code",
   "execution_count": 25,
   "metadata": {},
   "outputs": [
    {
     "data": {
      "text/plain": [
       "Index(['No', 'Yes', 'Don't know'], dtype='object')"
      ]
     },
     "execution_count": 25,
     "metadata": {},
     "output_type": "execute_result"
    }
   ],
   "source": [
    "BES_Panel['euRefDoOverW10'].cat.categories"
   ]
  },
  {
   "cell_type": "code",
   "execution_count": 29,
   "metadata": {},
   "outputs": [
    {
     "data": {
      "text/plain": [
       "351"
      ]
     },
     "execution_count": 29,
     "metadata": {},
     "output_type": "execute_result"
    }
   ],
   "source": [
    "( (BES_Panel['euRefDoOverW10']==\"Yes\") & (BES_Panel['euRefVoteW10']=='Leave the EU') ).sum()"
   ]
  },
  {
   "cell_type": "code",
   "execution_count": 30,
   "metadata": {},
   "outputs": [
    {
     "data": {
      "text/plain": [
       "12127"
      ]
     },
     "execution_count": 30,
     "metadata": {},
     "output_type": "execute_result"
    }
   ],
   "source": [
    "( (BES_Panel['euRefDoOverW10']==\"No\") & (BES_Panel['euRefVoteW10']=='Leave the EU') ).sum()"
   ]
  },
  {
   "cell_type": "code",
   "execution_count": 34,
   "metadata": {
    "collapsed": true
   },
   "outputs": [],
   "source": [
    "BES_Panel[\"new_eu_split\"] = BES_Panel['euRefVoteW10'].astype('object')"
   ]
  },
  {
   "cell_type": "code",
   "execution_count": 46,
   "metadata": {
    "collapsed": true
   },
   "outputs": [],
   "source": [
    "BES_Panel[\"new_eu_split\"][ (BES_Panel['euRefDoOverW10']==\"Yes\")\n",
    "                         & (BES_Panel['euRefVoteW10']=='Stay/remain in the EU') ]  = \"Hard Remain\"\n",
    "BES_Panel[\"new_eu_split\"][ (BES_Panel['euRefDoOverW10']!=\"Yes\")\n",
    "                         & (BES_Panel['euRefVoteW10']=='Stay/remain in the EU') ]  = \"Re-Leave\"\n",
    "BES_Panel[\"new_eu_split\"][ (BES_Panel['euRefDoOverW10']==\"No\")\n",
    "                         & (BES_Panel['euRefVoteW10']=='Leave the EU') ]  = \"Hard Leave\"\n",
    "BES_Panel[\"new_eu_split\"] = BES_Panel[\"new_eu_split\"].astype('category')\n"
   ]
  },
  {
   "cell_type": "code",
   "execution_count": 45,
   "metadata": {
    "collapsed": true
   },
   "outputs": [],
   "source": []
  },
  {
   "cell_type": "code",
   "execution_count": null,
   "metadata": {
    "collapsed": true
   },
   "outputs": [],
   "source": [
    "# variable of interest!\n",
    "# euRefFinal"
   ]
  },
  {
   "cell_type": "code",
   "execution_count": 37,
   "metadata": {},
   "outputs": [
    {
     "data": {
      "text/plain": [
       "0                 Leave the EU\n",
       "1                 Leave the EU\n",
       "2                 Leave the EU\n",
       "3                          NaN\n",
       "4                          NaN\n",
       "5                          NaN\n",
       "6        Stay/remain in the EU\n",
       "7                 Leave the EU\n",
       "8        Stay/remain in the EU\n",
       "9                          NaN\n",
       "10                Leave the EU\n",
       "11                         NaN\n",
       "12                         NaN\n",
       "13                Leave the EU\n",
       "14                Leave the EU\n",
       "15                         NaN\n",
       "16                Leave the EU\n",
       "17       Stay/remain in the EU\n",
       "18                         NaN\n",
       "19                         NaN\n",
       "20                         NaN\n",
       "21                         NaN\n",
       "22                         NaN\n",
       "23                         NaN\n",
       "24                         NaN\n",
       "25                         NaN\n",
       "26                         NaN\n",
       "27                         NaN\n",
       "28                         NaN\n",
       "29                Leave the EU\n",
       "                 ...          \n",
       "64659                      NaN\n",
       "64660                      NaN\n",
       "64661                      NaN\n",
       "64662                      NaN\n",
       "64663                      NaN\n",
       "64664                      NaN\n",
       "64665                      NaN\n",
       "64666                      NaN\n",
       "64667                      NaN\n",
       "64668                      NaN\n",
       "64669                      NaN\n",
       "64670                      NaN\n",
       "64671                      NaN\n",
       "64672                      NaN\n",
       "64673                      NaN\n",
       "64674                      NaN\n",
       "64675                      NaN\n",
       "64676                      NaN\n",
       "64677                      NaN\n",
       "64678                      NaN\n",
       "64679                      NaN\n",
       "64680                      NaN\n",
       "64681                      NaN\n",
       "64682                      NaN\n",
       "64683                      NaN\n",
       "64684                      NaN\n",
       "64685                      NaN\n",
       "64686                      NaN\n",
       "64687                      NaN\n",
       "64688                      NaN\n",
       "Name: euRefVoteW10, dtype: category\n",
       "Categories (4, object): [Stay/remain in the EU < Leave the EU < I would/will not vote < Don't know]"
      ]
     },
     "execution_count": 37,
     "metadata": {},
     "output_type": "execute_result"
    }
   ],
   "source": [
    "BES_Panel['euRefVoteW10']"
   ]
  },
  {
   "cell_type": "code",
   "execution_count": null,
   "metadata": {
    "collapsed": true
   },
   "outputs": [],
   "source": []
  },
  {
   "cell_type": "code",
   "execution_count": null,
   "metadata": {
    "collapsed": true
   },
   "outputs": [],
   "source": []
  },
  {
   "cell_type": "code",
   "execution_count": null,
   "metadata": {
    "collapsed": true
   },
   "outputs": [],
   "source": []
  },
  {
   "cell_type": "code",
   "execution_count": null,
   "metadata": {
    "collapsed": true
   },
   "outputs": [],
   "source": []
  },
  {
   "cell_type": "code",
   "execution_count": null,
   "metadata": {
    "collapsed": true
   },
   "outputs": [],
   "source": []
  },
  {
   "cell_type": "code",
   "execution_count": 12,
   "metadata": {},
   "outputs": [
    {
     "data": {
      "text/html": [
       "<div class=\"hololayout row row-fluid\">\n",
       "  <div class=\"holoframe\" id=\"display_areaef25d704b9194b92a1a4a85f8d41d796\">\n",
       "    <div id=\"_anim_imgef25d704b9194b92a1a4a85f8d41d796\">\n",
       "      \n",
       "      \n",
       "      \n",
       "    </div>\n",
       "  </div>\n",
       "  <div class=\"holowidgets\" id=\"widget_areaef25d704b9194b92a1a4a85f8d41d796\">\n",
       "    <form class=\"holoform well\" id=\"formef25d704b9194b92a1a4a85f8d41d796\">\n",
       "      \n",
       "      \n",
       "        <div class=\"form-group control-group holoformgroup\" style=''>\n",
       "          <label for=\"textInputef25d704b9194b92a1a4a85f8d41d796_region\"><strong>region:</strong></label>\n",
       "          <select class=\"holoselect form-control\" id=\"_anim_widgetef25d704b9194b92a1a4a85f8d41d796_region\" >\n",
       "          </select>\n",
       "        </div>\n",
       "        <script>\n",
       "        var vals = ['East Midlands', 'East of England', 'London', 'North East', 'North West', 'Scotland', 'South East', 'South West', 'Wales', 'West Midlands', 'Yorkshire and the Humber'];\n",
       "        var labels = ['East Midlands', 'East of England', 'London', 'North East', 'North West', 'Scotland', 'South East', 'South West', 'Wales', 'West Midlands', 'Yorkshire and the Humber'];\n",
       "        function init_dropdown() {\n",
       "        var widget = $(\"#_anim_widgetef25d704b9194b92a1a4a85f8d41d796_region\");\n",
       "        widget.data('values', vals)\n",
       "        for (var i=0; i<vals.length; i++){\n",
       "\t\t\tif (false) {\n",
       "\t\t       var val = vals[i];\n",
       "\t\t\t} else {\n",
       "\t\t\t   var val = i;\n",
       "\t\t\t}\n",
       "            widget.append($(\"<option>\", {\n",
       "                value: val,\n",
       "                text: labels[i]\n",
       "            }));\n",
       "        };\n",
       "        widget.data(\"next_vals\", {});\n",
       "        widget.on('change', function(event, ui) {\n",
       "\t\t    if (false) {\n",
       "                var dim_val = parseInt(this.value);\n",
       "\t\t\t} else {\n",
       "\t\t\t    var dim_val = $.data(this, 'values')[this.value];\n",
       "\t\t\t}\n",
       "            var next_vals = $.data(this, \"next_vals\");\n",
       "            if (Object.keys(next_vals).length > 0) {\n",
       "                var new_vals = next_vals[dim_val];\n",
       "                var next_widget = $('#_anim_widgetef25d704b9194b92a1a4a85f8d41d796_');\n",
       "                update_widget(next_widget, new_vals);\n",
       "            }\n",
       "\t\t\tif (animef25d704b9194b92a1a4a85f8d41d796) {\n",
       "                animef25d704b9194b92a1a4a85f8d41d796.set_frame(dim_val, 0);\n",
       "            }\n",
       "\n",
       "        });\n",
       "        }\n",
       "        $(document).ready(init_dropdown)\n",
       "        </script>\n",
       "        \n",
       "        \n",
       "        </form>\n",
       "    </div>\n",
       "</div>\n",
       "\n",
       "\n",
       "<script language=\"javascript\">\n",
       "/* Instantiate the MPLSelectionWidget class. */\n",
       "/* The IDs given should match those used in the template above. */\n",
       "(function() {\n",
       "\tif (jQuery.ui !== undefined) {\n",
       "\t\t$(\"#display_areaef25d704b9194b92a1a4a85f8d41d796\").resizable({\n",
       "\t\t\tresize: function(event, ui) {\n",
       "\t\t\t\t$(\"#widget_areaef25d704b9194b92a1a4a85f8d41d796\").width($(this).parent().width()-ui.size.width);\n",
       "\t\t\t}\n",
       "\t\t});\n",
       "\t\t$(\"#widget_areaef25d704b9194b92a1a4a85f8d41d796\").resizable();\n",
       "\t}\n",
       "    var widget_ids = new Array(1);\n",
       "    \n",
       "    widget_ids[0] = \"_anim_widgetef25d704b9194b92a1a4a85f8d41d796_region\";\n",
       "    \n",
       "    var frame_data = {\"0\": \"<img src='data:image/png;base64,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' style='max-width:100%; margin: auto; display: block; '/>\", \"1\": \"<img src='data:image/png;base64,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' style='max-width:100%; margin: auto; display: block; '/>\", \"2\": \"<img src='data:image/png;base64,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' style='max-width:100%; margin: auto; display: block; '/>\", \"3\": \"<img src='data:image/png;base64,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' style='max-width:100%; margin: auto; display: block; '/>\", \"4\": \"<img src='data:image/png;base64,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' style='max-width:100%; margin: auto; display: block; '/>\", \"5\": \"<img src='data:image/png;base64,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' style='max-width:100%; margin: auto; display: block; '/>\", \"6\": \"<img src='data:image/png;base64,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' style='max-width:100%; margin: auto; display: block; '/>\", \"7\": \"<img src='data:image/png;base64,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' style='max-width:100%; margin: auto; display: block; '/>\", \"8\": \"<img src='data:image/png;base64,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' style='max-width:100%; margin: auto; display: block; '/>\", \"9\": \"<img src='data:image/png;base64,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' style='max-width:100%; margin: auto; display: block; '/>\", \"10\": \"<img src='data:image/png;base64,iVBORw0KGgoAAAANSUhEUgAAAlwAAAEKCAYAAADHI4vHAAAABHNCSVQICAgIfAhkiAAAAAlwSFlzAAALEgAACxIB0t1+/AAAIABJREFUeJzs3XdYFOf6N/DvDFJlFxFYBUTBRERJxBg1KhAk5liwxqgoomKwaxJjPMYuKm80avQYozGNKJbYWzQaO2os8RhLsFdEQBELYAEE7vcPfjuHdZcmW9jh/lwXV8LM7Oxz7zKPz87OPF+BiAiMMcYYY8xgRFM3gDHGGGNM7njAxRhjjDFmYDzgYowxxhgzMB5wMcYYY4wZGA+4GGOMMcYMjAdcjDHGGGMGxgMuxoxs4MCBqFu3rknbkJ+fjxYtWqBevXrIzs7WWr98+XKIoojffvtNL8+3dOlSiKKI5OTkcu2nRYsWaNu2bYnbTZgwAXZ2duV6ropE/fqlpqYWu93XX3+t8z0bP348LC0tDdU8AMDly5chiiJWr16tc33Tpk0REhJi0Dbo8scff0AURRw9etToz81YYTzgYszIpk6dis2bN5u0DaIo4pdffkFiYiKmTp2qse7+/fv4/PPPERYWhs6dO+vl+QRBgCAIetlPaYwaNQqHDh0q9/NVFKV9/ebNm6dzwKWv1788TPn8pq6dMYAHXIwVKScnxyD79fLygp+fn0H2XRYNGjTAlClTsGDBApw+fVpaPmrUKFSpUgXffPNNuZ/jxYsX5d7Hq3B3d0fTpk2L3SY/Px95eXlGahGTM1P9nTPzwgMuxgBERUVBFEWcP38e7du3h0KhQGhoqLR+06ZNaNmyJapWrQpHR0f06tULiYmJGvt4/vw5hg8fDmdnZygUCnz44Yc4duwYRFFEbGystF1ERAS8vLw0Hnv37l30798fLi4usLGxgZ+fH1atWqWxzbJlyyCKIk6cOIHw8HA4ODjA3d0dn3766SsPDsePH4833ngDkZGRyMvLw7Zt27B+/Xp8++23qF69urRdTk4Oxo8fD09PT1hbW6Nu3bqYPn26xoBF/ZXSzz//jDFjxsDNzQ22trY6v7IEgOPHj8PFxQVhYWHIzc0FUHCGpkGDBrCzs4OTkxPeeecd/P7771qP3bVrF9566y1UrVoVjRo10tpm/PjxsLW1lX7Pzs6GKIqYOXMmoqOjpTquXbsGAEhNTcXgwYPh5uYGGxsb+Pr6YtmyZSW+fs+ePcOnn34KX19f2Nvbw93dHR988IG0XzX1V4J///03QkNDoVQqUatWLYwdO1aqXe3atWto37497Ozs4Orqin//+9+l+gfd1dUVqamp+OmnnyCKIkRRxIgRI3Tu297eHnXr1sXs2bO19vOqr0VZqb/q++uvvzSW6/r61NXVFYMHD8Yvv/wCb29v2NnZITg4GAkJCcjMzMSgQYPg5OQENzc3TJw4EboCVB4+fIh+/fqhWrVqqFatGiIiIpCenq6xTW5uLmbOnIn69evDxsYGHh4eGD9+vMbrX9a/c8bUqpi6AYxVBOqvHLp164bIyEiMHz8eoljweWTp0qUYMWIEIiMjMW3aNGRmZmLatGlo3bo1zp07h6pVqwIABg8ejI0bN2L69Ol4++23sW/fPvTt21fr64yXv9559uwZ3n33XaSnp2P27NmoVasWVq5ciX79+uH58+cYNGiQRhv79++PPn36YPPmzTh27BimTZuG6tWrY9q0adI+W7dujYSEBNy8ebPYui0sLBATE4N33nkHkyZNwsqVK9G9e3f06NFDY7vevXtjx44dmDp1Kt555x0cOnQIM2fORGJiIn766SeNbaOiotCqVSv8/PPPyMnJQZUq2t3Mjh07EBoaiiFDhmD+/PkAgJ9//hmTJk3CjBkz0KJFCzx79gxnz57Fw4cPNR574cIFfPHFF5g4cSKqVauG2bNn48MPP8SVK1fg4eGh8zVW+/777+Hj44OFCxfCxsYGKpUKjx8/RosWLSCKIr788kt4eHhgx44d0iA0MjKyyNfv2bNnyMrKwrRp0+Dq6oq0tDR8++23aNmyJa5cuQJHR0epPQDQt29f9O3bF0OHDsXhw4cxffp0uLi44IsvvgAAZGVl4b333oMgCPjxxx/h6OiIxYsXY+3atcW+jwCwc+dOvP/++wgMDMSECRMAADVq1JDW5+fn48MPP0RkZCTGjRuHTZs2YeLEifDy8pI+XJTntSj8PC+fOSwqQU7Xe1TUe7d7925cuXIFX3/9tTTQ7dmzJ1xcXODn54d169Zh3759mD17Nry9vREREaHx/CNHjkSHDh2wfv16XLhwAZMmTUJqaqrGYL1nz57Yt28fJk2ahGbNmiE+Ph5TpkxBUlISVqxYodGe0vydM6aBGGMUFRVFoijSokWLNJY/efKEHBwcaNCgQRrLb926RVZWVrRw4UIiIrp8+TKJokjz5s3T2O6TTz4hURRp+fLl0rKIiAjy8vKSfl+0aBGJokiHDh3SeOz7779PNWrUoPz8fCIiWrZsGQmCQNOnT9fYrlOnTlS/fn2NZW3atCFvb+9S1z9lyhQSBIGcnJzo3r17Guv++9//kiAINGfOHI3lkydPJlEU6cqVK0REdOnSJRIEgQICArT2v3TpUhJFkZKSkigmJoYsLS1p9uzZGtsMGjSI/P39i21nixYtyMbGhhITE6Vld+7cIUEQaMGCBdKy8ePHk62trfR7VlYWCYJAXl5elJubq7HPiRMnkr29Pd2+fVtjeb9+/cjd3b3Y9rwsLy+PMjMzycbGhpYuXSotX7p0KQmCQF999ZXG9u+//z75+flJv3/zzTckiiKdPXtWY5+vv/46iaKo9d68rGbNmjR48GCt5ePHjydRFGnt2rUay729valr167S7+V5LdTvvyiKJAiC1o8oitShQwdp+127dpEoinTixAmN/aj/VgrXWrNmTapRowY9e/ZMWjZnzhwSBIE++eQTjcc3bNiQQkJCNJ5HEATq3r27xnY///wziaJIR48eJSKi3bt3kyAItGHDBp3bXbp0SaNOXX/njBWHv1JkrJBu3bpp/H7s2DFkZmYiLCwMeXl50o+7uzt8fHykC7OPHz8OAFpnhnr06FHkp3u1w4cPw93dHYGBgRrLw8PDcf/+fVy4cEFaJgiC1p1eb775Jm7fvq2xbO/evbh8+XIpKi4wZcoUAAVn6VQqlca6Q4cOQRAE9O3bV6t9RKR1cXrXrl2LfJ7Zs2dj6NCh+PHHH6WzOmrNmjXDiRMnMGbMGBw4cABZWVk69+Hr64tatWpJv7u7u6NatWpar4EuISEhsLCw0Fj2xx9/ICAgAG5ubhrvcdu2bZGSkqL19eDLVq1ahebNm6NatWqoUqUKlEolcnJytF7/0rx3x48fR7169dCoUSNpmSiK6NmzZ4m1lcbLz+/r66vx/OV9LQBg5syZ+O9//6v14+PjU662BwYGanxN7OPjA0EQtO5a9fHx0fq6H4DWaxgaGgoiwrFjxwAUfE1tb2+Pzp07a9T+r3/9C0SEw4cPazy+uL9zxnThc6CMFeLq6qrxe2pqKogIbdq00dpWEAQ4OTkBKLgGC4DWYKXwVzpFefjwodbzAkDNmjWl9YUVvrYKAKytrct9/Yh6ygBdUweon1/dnpLap6sWoOBrnTVr1sDLywtdunTRWj948GDk5eXhl19+wTfffAMrKyt06tQJCxYsgLu7u7Tdy/UDBa9BUQO0ktqWmpqK06dP66xdEAQ8ePAAr7/+us79rV+/Hv369cOQIUMwc+ZMODk5QRRFtGnTRmd7dL13hbdLSUnR+TdTmr+jklhYWMDe3r7Y5y/Pa6Hm6emJJk2aaC0v7zQd6q9n1aysrIpc/vJrLwiC1mtYtWpVVK1aFUlJSQAK7s598uQJbGxstJ5bXXthRf2dM1YUHnAxVsjL146oB1SxsbFo2LCh1vYKhQLA/zrf1NRU1KlTR1p/7969Ep+zevXquHLlitZy9SBO1wDDmNTPf+/ePY1/ZIpqX1G34AuCgK1btyI8PBzBwcHYt2+f9Pqq1w8fPhzDhw/Ho0ePsGvXLowZMwbh4eE4cOCAXmrR1TYnJyfUq1cP8+bN03k2srgzM2vXrsWbb76JpUuXSsueP3+udTF2abm6uuLUqVNay9WvtaGV57UoK/XA5uUbPl4e2OgDEWkdi0+fPsXTp0+ls6VOTk5QKpU4cOCAztoLD/oBnmqClR1/pchYMVq1agWFQoGrV6+iSZMmWj/16tUDADRv3hxAwRmPwtatW1dixxwUFIQ7d+5IX22orVq1CiqVSudAz5iCgoKks1OFrVy5EoIgICgoqNT7qlOnDuLi4vD06VMEBwcX+Y+ro6Mj+vTpg+7duyM+Pr5c7S9J+/btcfHiRXh5eel8j4s7M/Ps2TOti6V/+eWXV25Ly5YtcfXqVZw7d05alp+fr/V3VRRra2s8f/78lZ+/PK9FWdWpUwdEpPX+7tixQ2/PUdi6des0fl+zZg0EQUCLFi0AFNSemZmJrKwsnbXr4ywjq9z4DBdjxVAoFJg7dy5GjRqF1NRUdOjQAQ4ODkhKSkJcXByCg4PRu3dv1K9fH2FhYZgyZQry8vLw9ttvY//+/di+fTsASHc86hIREYGFCxeie/fuiI6Olu5S3LdvH3744YdX+iTdpk0b3L59G1evXn3l2tWaNGmCDz74ABMnTsTz58/RvHlzHDp0CLNnz8ZHH31U4ldML6tVq5b02rVu3Rr79++Hi4sLBg4cCBcXF7Ro0QIuLi64ePEi1qxZgw4dOpS7huKMGzcOGzduhL+/P0aPHg1vb29kZmbi4sWLOHHiBDZs2FDkY9u3b4/PPvsM48ePR9u2bXHixAksXbpUOvNZVoMGDcLcuXPRqVMnfPnll6hWrRqWLFlS6mk/GjZsiAMHDmDnzp1QqVRQqVTSnZulUZ7Xoqw8PT3xzjvvYMaMGVAqlahevTqWLVtWpjSCkq6PLOzUqVMYNmwYunfvjgsXLmDy5Mno0KEDWrZsCQBo164dPvjgA3Tp0gVjxoyR5nG7ceMGfv/9d3z77bdlei0ZexkPuBj7P0UNbIYMGYLatWtj7ty5+PXXX5Gbmytd5N64cWNpux9//BFKpRJz585FTk4O2rRpgyVLlqBjx45wcHAo8rns7Oxw6NAhjBs3DhMmTEBmZibq16+PlStXok+fPq/U9vz8fOTn55e2dGkfRb0Ga9aswbRp0/DDDz9gxowZcHd3x9SpUzFp0qRi21EUNzc3xMXF4b333kNwcDD279+PgIAArFixAsuXL0dmZibc3NwwePBgrZnwSzuVQEnTcag5OjrixIkTmD59Or788kukpKTA0dERPj4+GnOx6TJq1CikpKQgNjYWixcvRosWLfD777/jX//6V6lfi8Lb2djYYN++ffj4448xdOhQKBQK9O/fHx07dsQnn3xS4r7mzJmD4cOHo2fPnnj+/DmGDh2KJUuWaD1PUc9fnteiuOcoav26deswfPhwjBw5EnZ2dhgyZAiCgoIwatQorccV9b6X5nkEQcCSJUuwZs0a6WL5nj174j//+Y/GduvXr8d//vMfLFu2DDNnzoSNjQ28vLzQrl07ra+/GSsrgcryEYExVibz5s3D+PHjcevWLY076xhjjFUufIaLMT3ZsWMH4uPj0bhxY4iiiEOHDuHrr79GaGgoD7YYY6yS4zNcjOnJoUOH8MUXX+Dy5ct4+vQp3N3d0bt3b0RFRUm3sDPGGKuceMDFGGOMMWZgPC0EY4wxxpiB8YCLMcYYY8zAeMDFGGOMMWZgPOBijDHGGDMwHnAxxhhjjBkYD7gYY4wxxgyMB1yMMcYYYwbGAy7GGGOMMQPjARdjjDHGmIHxgIsxxhhjzMB4wMUYY4wxZmA84GKMMcYYMzC9Dbisra0hCILGj6urq752zxhjRvVyf6brx8bGxtTNZIyZCYGISC87EgSdy/W0e8YYM6qi+jRd2+Xn5xu4NYwxc6eXM1w//fRTkesyMzP18RSMMWZS1tbWsLa21lrOHyoZY6WhlzNcxX0SFEUReXl55X0Kxhgzqpf7tcJdZXHrGGNMF4NfNM+n2hljctK8eXNTN4ExZobKPeB6ufPp378/GjRooLHss88+K+/TMMaYSakvlD958qTG8iZNmpioRYwxc1LurxSLOrXOp9wZY+astBfNu7i4IDU11cCtYYyZO56HizHGSkF90fzLA7H79+8jLi7ORK1ijJmLcg24dM1Boz7t/rJatWqV56kYY8yksrKykJWVhfz8fLRr105j3XvvvWeiVjHGzEW5BlzZ2dml3jYpKak8T8UYYxXGy30f3xzEGCtJlVd94MaNG8v8mMzMTCgUild9SsYYMxn1HFwvXrzQuibVycnJFE1ijJmRVz7D1aNHD43fT548CSLS+Bk9erTGNtWqVXvVp2OMMZPKyclBTk6OzhuA0tLSTNAixpg5eeW7FEt7FyLfrcgYM0elvUsxIyODz9wzxkqktyzFymz27NnIysoydTMM5tKlS/Dx8TF1MwxG7vXpk42NDcaPH2/qZjAj4b7NvMm9Pn0ySt9GrNymTZtWpu0jIyOpQYMGZG9vT05OThQSEkLx8fEa26xbt44aNmxI1tbW5OnpSXPmzNFYf+vWLerSpQvZ29uTg4MD9erVi+7evSutj4iIIEEQNH4UCsUr1TdgwACj1xcREUGenp5S2+Pi4jTW5+fn07Rp06hWrVpkbW1NjRs3pt9//90o9elTUFAQCYJAy5cvf+V9ZGVlUVhYGCmVSvL29qa9e/dK6/bv308KhYKSk5P10dwy/60z82aKvq0iH/vGqM+Ufbc+cd+mjefhMoGYmBg4OjoiLCwMDg4O2LlzJzp06ICcnBwAwLFjx9C7d2/cuXMHffr0QV5eHsaPH48ff/wRQMHXsiEhIdi+fTsCAgLQpEkTrF+/Ht27d9d4HkEQEBkZidGjR2P06NEYNWqUWdQHACdOnECjRo1gZWWl86udr776CjNmzICVlRX69OmDS5cuoWvXrrh48aJRatSXoqZRKYsffvgBv/76Kzp27Ijc3FyEh4cDAPLy8vDxxx8jKioKrq6u+mguY8WS+7FvjPoA0/Xd+sR9mw4GH9JVAmUdGR87dkz6/1u3bpEgCCSKIp0+fZqIiLp27UqiKNKCBQuIiGjfvn0kCAJ5eXkREdHmzZtJEATy8/MjIqK8vDzy9PQkURSlT0sREREkiiIlJCSUt7wyf0oqb32FVatWTaMuIqLc3FxydnbW2OeUKVNIEAQaOHBgWct75U+BAwYMIEEQaP78+dIy9afTr7/+moiIzp49S+3atSNnZ2dycXGhzp070+XLl4mIqHXr1tJro/4kO336dCIiOnz4MAUFBZGjoyO5ubnRRx99RA8ePNDZjhEjRpBSqSQiorlz55IoinT//n2aN28eNWzYkHJzc1+pPl34DFflYuy+rbCKeOwbuj4i0/bdhR/HfZv+8RkuE2jRooX0/+r5fCwsLKSR+pkzZwAAb7/9NgCgadOmAICEhARkZGRorRdFEW+99ZbGY4GCM2GNGzeGUqlEy5YtsWfPHkOWJSlvfSVJTEzEgwcPIIoiGjdurLGPwvUbWv/+/QEA69atAwDk5uZi69atqFKlCsLDw3H37l0EBQVhz549aNmyJZo0aYLt27cjODgY6enp6NGjB9zd3QEAbdu2xejRo9GiRQucP38e77//Pk6fPo0OHTrAz88Pv/zyC3r16qWzHQ0aNMCTJ0/QvXt3LFq0CDVq1EB2djZmzJiBxYsXw8LCwjgvCKv05H7sG7o+NVP13WrctxkGD7hM6OnTpxg4cCAEQcDnn3+OGjVqAADu3bsHALC3twcAVK1aVXrM3bt3tdYX3ubu3bsACi4AbNu2LXr37g0/Pz+cOHECXbp0wYULFwxf2P951fpKon68nZ2dtOzl+o0hODgYHh4e+Ouvv5CQkIA//vgDjx8/xr/+9S+oVCrExsYiPT0drVu3xrZt27Br1y40btwYd+/exfr16zFy5Ei8/vrrAICwsDDMnz8fbdu2xXfffYecnBz4+vpCpVKhfv36sLa2xoEDB3DlyhWtdgwePBhhYWHYv38/bG1tsWLFCowbNw4dO3aEnZ0d3n33XdSvXx+ff/453yXMjELux76h6gMqRt/NfZthvPLEp6x80tLS0KFDB/z9998YMmQIZs2aJa2rUaMGEhMT8eTJEwCQ/gsANWvWlA7uwsvV/1+zZk0AwHfffafxfP7+/jh+/Dh+++03NGzY0DBFFVKe+kqirv/Zs2fSspfrNwZBEBAeHo7Zs2dj7dq1uHDhAgRBwIABAwAUfKoVBAENGjSQHuPj44OzZ88iISGhyP3eunULQMG1HidOnNB4vmvXrsHb21tje2tra6xYsUL6PS4uDtu3b8eFCxfQokULtGvXDvPnz4e/vz8aNmyIyMhIfZTPmE5yP/YNWR9g+r4b4L7NUPgMlwkkJCTA398ff//9NyZOnKh1gKlPlf/1118a/61Tpw6USqW0/uTJkwAKLiD8+++/AQB+fn4AgOvXr+t8blE0/Fte3vpK4uHhgerVqyM/Px+nTp3S2Id638bSv39/EBFWrVqFrVu3QqlUomvXrgAAT09PEBEuXbokbX/58mVpHQDplHjhaBj1us8++wx5eXnSz9WrVxESElJse/Ly8jBq1ChMmTIFVlZWSEpKQtOmTdG0aVM4ODgY9StXVvnI/dg3dH2AafvuwrhvMwCDXyVWCZT1Yjs3NzcSBIE8PT1p9OjR0s/JkyeJiOjPP/8kURRJoVDQgAEDyN3dnURRpO+//56ICm6LbtCgAYmiSG3btpVuv23ZsqX0HBYWFhQcHExDhw4lf39/EgSB7O3t6cqVK2Wur6wXXpa3PiKizz//nCIiIsjKyopEUaT27dtTRESEdFHml19+KT1H//79ycbGhiwtLen8+fMGr+9lzZs3ly4MHTx4sLQ8OTlZujC2S5cu1L59exIEgdzc3OjRo0dE9L8LUf38/Gj06NF07tw5Onv2LFlZWVGVKlXogw8+oMGDB5O/vz9ZWFiU2Javv/5aupg0Pz+fnJ2dydPTk3r06EGiKNK3335brlr5ovnKxdh9G1HFPvaNUZ8p++6Xcd+mXzzg0oOyvlGiKOr8KTxfybp168jX15esra2pTp06Rc7DpVAoSKlUUq9evSglJUVa/9lnn0nzxbi4uFC7du3o+PHjr1RfWQ9afdSnvuvy5R/1HT15eXk0depUaS6et956y2TzcC1evJhEUSQLCws6dOiQxrozZ85Q+/btpTt5unTpQpcuXZLW//PPP9S4cWOp8924cSMRFdzJ06ZNG3J2dialUkmNGzemKVOmFNuOlJQUqlatGu3fv19atnv3bvL29ialUknh4eGUnZ1drlp5wFW5mKJvq8jHvjHqM2Xf/TLu2/SLB1x6IPd/hEw5eZ4xyL0+fZL73zrTJPf3W+7Hvtzr0yeeFoIxxhhjTAY4S1EPevfuDRsbG1M3w2CuX7+O1157zdTNMBi516dPWVlZWLNmjambwYyE+zbzJvf69MkofZvBz6FVAvo6Fenp6Un79u3Tue7mzZskiiKNGDFCa536okqFQkEuLi4UFhZG6enpemkTkf5OS8u9vsKys7MpMjKS6tSpQ0qlkt566y3auXOntP7Zs2c0fPhwcnZ2pmrVqlFQUFCR+7p16xaFhISQo6Mjubq60qhRoygvL4+IiHJycqhHjx5SNtvLs1brm9y/YmKauG8rHbnXV1hJfdvatWupQYMGpFQqydfXl7Zs2fJK+1HP5K9QKKTXKDo6Wu/1qPFXikwSGxuL6tWrY+3atXjx4oXGOkEQcO7cOWRkZODGjRt4+PAhoqKiTNPQVyS3+nJzc1G7dm0cPnwY6enpmDlzJnr16oXbt28DKJjQ7/Hjx7h8+TIePnyIBQsWFLmvESNGQKVS4d69ezhz5gzi4uKwZMkSaX1gYCBWrVplXplijP0fuR37L5NbfcX1bcnJyejXrx/+85//ID09HXPmzEFYWBjS0tLKtB81QRCQnp6OzMxMZGRkYNKkScYsVe94wGUmYmNjER0dDUtLS/z2228a66jg5gcABTMcG3tWYn2QW312dnaYOnUqPDw8AAAdO3aEl5cXTp06hcuXL2P79u344YcfUL16dQiCIEUz6XLr1i2EhobC0tISKpUK7du3x/nz5wEAlpaW+OSTT9CqVSujz9PDmD7I7dh/mdzqK65vu3PnDhwdHdG2bVsAQEhICKpWrapzbrHi9qNGRBrzeJk77qHNwOHDh5GUlITevXujZ8+eWL58eZHbPnr0CFu2bEHLli2N2MLykXt9QEHkx9WrV+Hr64u//voLtWvXxtSpU+Hi4gI/Pz9s2rSpyMeOHj0aa9aswfPnz5GUlISdO3eiQ4cORmw9Y4Yh92Nf7vUBBX3blStX8MYbb6Bp06Zo0KABtm/fjvz8fGzZsgU2NjZo1KhRqffj6+srLRMEAZ6enqhduzY++ugjPHjwwJClGBwPuMxAbGwsQkJC4ODggLCwMOzatUvrFG2TJk3g6OgIlUqFxMREDBkyxEStLTu515ebm4vw8HBERETA29sbd+7cQXx8PBwdHZGSkoJFixZhwIAB0kzNLwsMDER8fDyUSiVq166NZs2aoUuXLkaugjH9k/uxL/f61H3bwIEDUa9ePYiiiH79+qFPnz6wtrZGeHg4vv/+e9ja2pZ6P+p4H2dnZ5w8eRIJCQk4deoUMjMz0bdvX2OUZTA84KrgsrKysH79eoSFhQEoSKv38PDA6tWrNbY7ffo0Hj16hKysLAwbNgwBAQHIyckxRZPLRO71ERHCw8NhbW2NRYsWAQBsbW1hZWWFyZMno0qVKnj33XcRHByM3bt363x8+/bt0aNHDzx79gxpaWl4+PAhvvjiC2OXwpheyf3Yl3t9uvq2vXv3Yty4cTh06BBevHiBgwcPIjIyEufOnSvTfoCC4O8mTZpAFEW4uLjg22+/xe7du/H06VOD12YoPOCq4DZt2oSMjAyMGDECrq6ucHV1RXJystapafV1ABYWFhg0aBBu3ryJ+Pgl2iWlAAAgAElEQVR4UzS5TOReX2RkJNLS0rBp0yYpW0x9ep0KzcgiCILOxz98+BCJiYkYOXIkLC0t4ejoiIEDB2Lnzp2GbzxjBiT3Y1/u9enq286ePYugoCDpmtSmTZvinXfewd69e8u0n6IIgmDW13TxgKuCycnJQXZ2NrKzs5GVlYWYmBhERkbin3/+wdmzZ3H27FkcOXIEZ86ckS6cLiw/Px8xMTGws7ND3bp1TVBB8eReX2HDhg3DpUuXsG3bNlhZWUnL3333XdSuXRuzZs1CXl4e/vzzTxw8eBDt2rXT2oeTkxO8vLywdOlS5OXl4fHjx1i+fLkUUg4UvKZZWVkAIL22jFU0cj/25V5fYUX1bc2aNcORI0dw9uxZAAVn744cOVLkNVxF7QcoCP6+cuUKiAgPHjzAp59+iuDgYCgUCsMVZmgGn3iiEtDnXDWFs7UEQSArKyuKj4/X2rZjx47073//m4g053JxcHCg5s2b0549e/TSJiL9zlUj5/oKS0hIIEEQyNbWluzt7aX2r169moiILly4QC1btiR7e3vy9fWlrVu3So/98ssvKSQkRPr97Nmz1Lp1a3J0dCQXFxcKDQ2l1NRUab2ubLaEhAS910TE83BVNty3lY7c6yuspL5t8eLF9Prrr5NSqaTXXnuNFixYID22cN9W0n5+/fVX8vLyInt7e3Jzc6MBAwbQvXv39F6PmjH6tiqmHvCx/7l582apt92+fbv0/+ZyilXu9RVWu3btYtvdoEEDHD16VOe6CRMmaPzeqFEjHDhwoMh9leV1ZcwU5H7sy72+wkrq20aMGIERI0boXFe4bytpP71790bv3r1fvaEVEH+lyBhjjDFmYDzgYowxxhgzMA6v1gMOeDVvcq9Pnzi8unLhvs28yb0+feLwajOhj4vtVq1aRU2bNpUuEAwJCaE///yTiIjOnz9PXbp0IQcHB1IqlfTee+/R0aNHpceqQz47duyosc/w8HCaPn16udumjwsv5V5fSb799ltq2rQpWVtb08CBAzXWlTbslaj4IGtj4IvmKxfu20om9/pKUlwIdU5ODvXo0YM8PT1JEASKi4srdl/qC+fVgdUWFhb0ySefGLwGIg6vrjTmz5+PMWPGYPLkyUhNTcXt27cxcuRIbNu2DTdu3EBAQAD8/Pxw69YtJCcno1u3bmjbti1OnDihsZ8TJ07g+PHjJqqiaHKvrzTc3d0xZcoUREZGaiwvS9grUHKQNWMVidyPfbnXVxolhVAHBgZi1apVcHV1LXFf6pDqjIwM3L17F3Z2dujVq5ehSzAegw/pKoHyjIzT09PJ3t6eNm7cqHN9eHi41qcfIqLhw4dTUFAQEf3vU9KcOXMoODhY47Gm/pQk9/rKavLkyRpnuE6cOEE1atTQ2MbFxYWOHz+u8/ENGzaUPj0SEf373/+mYcOGGaaxOvAZrsqF+7aiyb2+8mjUqBFt2rRJY1mtWrVKPMNV2LJly+i1117Td9OKxGe4KoFjx44hOzsb3bp107l+79696Nmzp9byXr164c8//5QmuRQEASNGjMCVK1ewf/9+g7a5LOReX3mVNeyVg6yZuZD7sS/3+l7VvXv3cPXqVY0Q6lcRGxuL/v3766lVFQMPuEzswYMHcHZ2hijqfivS0tJ0nop1dXVFfn4+Hj58KC2ztbXFpEmTMHnyZIO1t6zkXl95lTXslYOsmbmQ+7Ev9/pehTqEOiIiQgqhfhUJCQk4dOgQBgwYoMfWmR4PuEzMyckJaWlpRU4A5+zsjJSUFK3lKSkpEEURjo6OGssHDRqEe/fuaUyuZ0pyr6+8yhL2ShxkzcyI3I99uddXVlRECPWrWLFiBQICAlCnTh09ta5i4AGXibVs2RLW1tbYsmWLzvXvv/8+1q9fr7V87dq1aNmypdYt25aWlpg2bRqmTJlikPaWldzrK6+yhL1ykDUzJ3I/9uVeX1mVJYS6JCtWrEBERIR+GlaB8IDLxJRKJaZPn46RI0di69ateP78OXJzc7Fr1y6MHz8eUVFROHr0KKZMmYJHjx7hyZMnWLRoEVauXIk5c+ZI+6FC06mFh4cjKyurQvxDLPf6SisvLw9ZWVnIy8tDbm4usrOzkZeXV6aw19IEWTNWUcj92Jd7fWVRXAh1Tk4OsrKyAEAK9y7O0aNHkZycjB49ehisvSZj8MvyKwF93N2wevVqaS4XV1dX6tSpEx07doyICuZy6dSpEymVSlIoFBQcHKw1l4soihrzMa1bt45EUaQZM2aUu236uNNF7vWVJCoqigRB0Ai4Vd+FVNqwV6KSg6wNje9SrFy4byuZ3OsrSUkh1C8He4uiSAkJCUSk3b8REQ0dOtQkd1cao2/jAZceyP0fIVPdWmwscq9Pn+T+t840yf39lvuxL/f69ImnhWCMMcYYkwHOUtQDzhszb3KvT584S7Fy4b7NvMm9Pn3iLEUzYYhTkZ6enrRv3z6NZQcPHiRRFKWsKQ8PD+rVqxedPHlS789fmCFOS8u9Pl0uXrxI7733Hjk4OFC9evVo8+bNOrdbtmwZWVhYSHliCoVCY4bm8PBwqlmzJjk4OFD9+vXpp59+Mkr7ieT/FRPTxH1b6eiqSe3mzZskiiKNGDFCa50gCNIx7uLiQmFhYZSenq6XNhEZp28rS/5hfHw8tWvXjpydnUkURa31QUFBZGNjI+3Lx8fH0M2X8FeKTIu7u7uUNXX8+HH4+PggMDAQBw4cMHXT9EKu9eXl5aFr167o0qULHj16hO+//x7h4eG4du2azu1btWqFjIwMKVvs3XffldZNmDABN2/exOPHj7Ft2zZMnjwZp0+fNlYpjBmEXI/92NhYVK9eHWvXrsWLFy801gmCgHPnziEjIwM3btzAw4cPERUVZZqGvqKy5B9aWloiNDQUMTExOtcLgoAlS5ZIfd/FixcN2XSj4wGXGXNzc8P06dMxaNAgWU5+Kaf6Ll26hJSUFHz66acQBAHBwcHw9/fHihUryryvhg0bSl/zEBEEQcD169f13WTGTEZOx35sbCyio6NhaWmJ3377TWMdFdy4BgCwt7dHly5dcOHCBVM0Uy82bNgAlUoFf39/neu9vb0xcOBANGzYsMh9kIyvcuIBlwx0794df//9N54/f27qphiEXOsjIsTHx+tcd/r0aahUKvj4+CA6OlprNuuRI0eiatWqaNCgAdzc3BASEmKMJjNmVOZ+7B8+fBhJSUno3bs3evbsieXLlxe57aNHj7Blyxa0bNnSiC3UL33kH06YMAEqlQqBgYGIi4vTU8sqBh5wyYCbmxuICI8fPzZ1UwxCDvXVr18fKpUK8+bNQ25uLnbv3o24uDg8e/ZMa9ugoCDEx8cjNTUVGzduxK+//oq5c+dqbLN48WI8efIER44cQffu3WFtbW2sUhgzGnM/9mNjYxESEgIHBweEhYVh165dSEtL09imSZMmcHR0hEqlQmJiIoYMGWKi1paPPvIP58yZgxs3biApKQmDBw9G586dcfPmTT220rR4wCUDSUlJEAQB1apVM3VTDEIO9VWpUgVbtmzB9u3b4erqigULFiA0NBS1atXS2tbT01PKEPP19cXUqVOxYcMGre0EQUCrVq2QmJiI7777zuA1MGZs5nzsZ2VlYf369QgLCwMAtGjRAh4eHli9erXGdqdPn8ajR4+QlZWFYcOGISAgADk5OaZocrnoI/+wWbNmqFq1KiwtLdG/f3/4+/vj999/12MrTYsHXDKwadMmNGnSBLa2tqZuikHIpb433ngDBw8exP3797Fz505cv34dzZs3L9Vji7uuITc3l6/hYrJkzsf+pk2bkJGRgREjRsDV1RWurq5ITk7W+lpRfWxbWFhg0KBBuHnzZpGXGlRkhsg/FARBVtd0VTF1A1jRcnJyNHKnXrx4ofHHl5ycjB9//BExMTFaF2OaA7nX97J//vkH3t7eyMvLw5IlS3D37l2dHdSuXbvQpEkTqFQqXLp0CdHR0QgNDQUA3L9/H/v370enTp1ga2uLPXv2YM2aNTw3FjMrcjz2C9dERIiJiUFkZCT+3//7f9I2d+7cQbNmzXD+/Hn4+vpqPD4/Px8xMTGws7ND3bp1jdr28ipL/qE6T5GIkJ2dDUEQYGVlhfT0dJw4cQJBQUGoUqUK1qxZg8OHD+Obb74xQgXGwQOuCqxjx44av/v7+yMlJQVKpRJEBAcHB7Rq1QpxcXFo1qyZiVr56uRe38tWrFiBn376Cbm5uQgMDMSePXtgaWmJxMRE+Pr64sKFC6hVqxb27duHiIgIPH36FDVq1EC/fv0wYcIEAAWf+L777jsMHz4c+fn5qFOnDhYuXKj1WjJWkcnx2C9cExHB0tISCxcuhEqlkparVCp06NABy5cvlwKs/fz8IAgCRFFE/fr1sWXLFrP7CjU2NhYffvghqlatqrH85b4tISEBXl5eEAQBgiDA1tYWnp6euHHjBl68eIHJkyfj8uXLsLCwgI+PD7Zu3YrXX3/dRFXpHw+4Kig5XSioi9zr02XOnDlSJ1uYh4cHMjIypN/nzp2rdZG8mrOzMw4ePGioJjJmcHI89stS0/bt26X/f/nuY3O1dOlSnctf7tvq1KlTZM3Ozs7466+/DNK+ioKv4WKMMcYYMzAecDHGGGOMGRiHV+tBeQNeN2zYgKysLIiiKN0CXbduXXh7e0MQBBw5cgTXr19Hx44d4ezsDADIyMjA5s2bMWDAABw7dgx5eXkICAjQ2O/Dhw+xY8cOhIaGwsrK6pXbV94AVLnXV1pPnjzB8ePHcf/+fVhYWKBOnTpo3rw5BEHQas/FixeRkZEBKysreHl5oUmTJtJ2hw8fRkpKCnJzc2Fra4s33ngD9erVM3j7AQ6vrmwMEV69ceNGtGrVCq6urtKyu3fvYvfu3ahSpeAqFysrK7i4uMDX11fqEwzBEMe+3OvTRT2/mCiKICJUrVoV3bp109ouLy8Pp06dwq1bt5Cfnw9PT080b94colhw7qe0faQhcHi1mShv6KWnpyft37+fiIgyMjLot99+Iy8vL/roo4+IiCgiIoKcnZ2pXbt20mOuXbsmhX8eO3aMFAoFPXv2TGO/Y8eOpR49epSrbUTlD0CVe32lFRISQhEREZSTk0P37t2jN998kxYtWqS13dKlS+nIkSP04sULSk5Oprfffpu++uoraf358+fp+fPnRER0+fJlqlmzJv39999GqYHDqysXY4ZXe3h4SL8nJSXR1KlTycbGRuo7DMEQx77c69OldevWFBMTU+J2UVFR9O6779Ljx48pLS2NWrRoQVFRUdL60vaRhsDh1ZUI/d+JRoVCgU6dOmHt2rVYvny5lKs1YMAAnDt3DocPH9Z6bIsWLeDu7o6NGzdKy/Lz87F69epyzfqrT3KvrzRu3bqF0NBQWFpaQqVSoX379jh//rzWdkOHDoW/vz+qVKkCV1dX9O3bF3/++ae0nrMUmdzJKUtRFznWR6X4smz79u34+OOP4eDgACcnJ3zyyScaQdal7SPNFQ+4KqhmzZrB3d1dGoDY2dlh4sSJmDhxos7t+/XrpzGh3p49e5Cbm4sOHToYpb1lJff6dBk9ejTWrFmD58+fIykpCTt37ixV+w8dOqQ1Zw9nKbLKwNyzFEsip/peJQMxPz8fd+7cQWZmJoBX7yPNBQ+4KjA3Nzc8fPhQ+n3IkCG4ffs2/vjjD61t+/Xrh0OHDiE5ORlAwZxPYWFhsLCwMFp7y0ru9b0sMDAQ8fHxUCqVqF27Npo1a4YuXboU+5iYmBicOnUKY8eO1VjOWYqsMjD3LMWSyKW+0mYgtm/fHgsXLkRaWhru3r2LRYsWAYCUKfsqfaQ54QFXBZaUlITq1atLv1tZWWHKlCmYMmWK1rYeHh4IDAzEypUr8fTpU2zZsqXCf90m9/oKIyK0b98ePXr0wLNnz5CWloaHDx8W+3XCli1bMGnSJOzatUvjdVLjLEUmd+acpVgacqmvtBmIkyZNwltvvYXGjRsjICAAH3zwASwtLVGjRo1X6iPNDQ+4KqiTJ08iOTlZ6868gQMH4vHjx9i0aZPWYwYMGIDY2Fhs3LgRdevWRePGjY3V3DKTe30ve/jwIRITEzFy5EhYWlrC0dERAwcOxM6dO3Vuv2vXLgwdOhTbt29Hw4YNi903ZykyuTLnLMXSkGt9RWUg2tjY4JtvvsGdO3dw7do1ODo64u233wZQ9j7SHPGAq4LJzMzE9u3b0adPH/Tr10/r2h0LCwtERUXhq6++0nrshx9+iNu3b2PatGkV9uyP3OsripOTE7y8vLB06VLk5eXh8ePHWL58Ofz8/LS23b9/P8LDw7Fx40apM1K7f/8+1q5di6dPnyI/Px9//PEH1qxZg/fff99YpTBWburcQfWPrizF6dOnIyYmBrNmzTJhS1+N3OsrLD09Hbt370Z2djby8vKwatUqHD58GO3bt9faNjk5GSkpKQCA48ePIzo6GjNmzABQtj7SXPGAq4Lo3LkzHBwcULt2bcyaNQtjx47VuHujsD59+sDV1VVrbhI7Ozt8+OGHSE5ORt++fY3R7FKTe32lsWnTJvz+++9wcXGBt7c3rKysMH/+fCQmJkKpVOLOnTsAgOjoaGRkZCAkJAQKhQJKpVLKaVNnKXp4eKB69eoYN24cZykys9OxY0fY2dlJPzNmzJCyFBUKBZo3b47z588jLi4Obdq0MXVzy0zu9RWmzkBUqVRwcXHB4sWLpQzEl/u269evo1WrVrC3t8fAgQMxZ84cjfqL6iPlgrMUK4CScrh++eUXjd8FQcA///xT5LYvb29qcq+vtBo1aoQDBw7oXFc4b2z//v1F7oOzFJm5k2OWYmFyr+9lxWUgvpylGBgYWOzrU1wfKQd8hosxxhhjzMB4wMUYY4wxZmCcpagHhsgbq0iMlcdlKnKvT584S7Fy4b7NvMm9Pn3iLEUzoa8MJl0ZXGo3b94kURRpxIgRWusEQSB7e3tSKBTk4uJCYWFhlJ6erpc2ERk3b0wURVIoFKRQKMjDw4N69epFJ0+e1PvzF2asvLGgoCCysbEhhUJB9vb25OPjo3O75cuX09tvv01KpZI8PDxo3LhxlJeXJ60PDw+nmjVrkoODA9WvX59++ukno7SfiLMUK5vyvt916tQhW1tbUiqV5OjoSP7+/rR06VLKz88nooJjTxAEjWP82rVrJAgCERENGzaM+vfvr7XfM2fOkLW1NT169Khc7dPXsV+Z+u7iXLlyhWxsbKhfv34615fUt5W2jzQEzlJkktjYWFSvXh1r167FixcvNNYJgoBz584hIyMDN27cwMOHDxEVFWWahpaTu7s7MjIykJGRgePHj8PHxweBgYGyuJBSEAQsWbIEGRkZyMzMxMWLF3Vu9/z5cyxcuBAPHjzAiRMnsG/fPsybN09aP2HCBNy8eROPHz/Gtm3bMHnyZJw+fdpYZTBWaoIgYMeOHUhPT0dCQgLGjx+Pr776CoMGDZLWOzk5YfLkyVqPAwrm3tu8ebNW9M3KlSvRuXNns5gwtLL03QAwatQoNG/evMj1JfVtpe0jzRUPuMxEbGwsoqOjYWlpid9++01jHRFJc7zY29ujS5cuUii0OausAa8cXs3khCp5cH1l6bvXrFkDR0fHYqe5KKlvA0rXR5orHnCZgcOHDyMpKQm9e/dGz549NUKcX/bo0SNs2bIFLVu2NGILDauyB7xyeDWTk8oUXF9Z+u6MjAxMmzYN8+fPL9OASVff9ip9pLngAZcZiI2NRUhICBwcHBAWFoZdu3YhLS1NY5smTZrA0dERKpUKiYmJGDJkiIlaq3+VLeC1MA6vZnJUWYLrK0vfPXXqVAwePBhubm6lfoyuvu1V+khzwgOuCi4rKwvr169HWFgYgIJT7B4eHli9erXGdqdPn8ajR4+QlZWFYcOGISAgADk5OaZost5VtoBXNQ6vZnJVGYLrK0vffebMGezduxejR48u9WOK6tvK2keaGx5wVXCbNm1CRkYGRowYAVdXV7i6uiI5OVnr1LT6NK6FhQUGDRqEmzdvIj4+3hRN1rvKFvAKcHg1k6/KElxfWfruuLg4JCQkoHbt2nB1dcW8efOwYcMGNG3aVOf2ZenbiusjzREPuCqYwqGnWVlZiImJQWRkJP755x+cPXsWZ8+exZEjR3DmzBmcP39e6/H5+fmIiYmBnZ0d6tata4IKSo8DXnUHvHJ4NZMjuQfXV6a+u7ChQ4fi+vXrOHPmDM6ePYthw4ahU6dO2L17t9a2xfVtZekjzRVnKVYwhUOIiQiWlpZYuHAhVCqVtFylUqFDhw5Yvnw55syZAwDw8/ODIAgQRRH169fHli1bKvxXcC8HLvv7+0sBr0QEBwcHtGrVCnFxcWjWrJmJWqkf6oDXy5cvw8LCAj4+PhoBr76+vrhw4QJq1aqlEV6tvgsxMDAQO3bskMKrhw8fjvz8fNSpU4fDq1mF1rlzZ1SpUgWiKKJhw4YYO3Yshg4dqnPbPn36YNasWVrXa6qD61evXl1hg+srU99dmI2NjcbkuPb29rCxsUH16tXL1LcV10fKBQ+4KpCyXBy4fft26f/z8/MN0RyDktOFkKVRloBXDq9mclFZgusrU99dkmnTpkn/X9a+rag+Ui74K0XGGGOMMQPjLEU94Lwx8yb3+vSJsxQrF+7bzJvc69MnzlI0E5ylWLJVq1ZR06ZNyd7entzc3CgkJIT+/PNPIiI6f/48denShRwcHEipVNJ7771HR48elR5769YtEgSBOnbsqLHP8PBwmj59ernbZoy8sezsbIqMjKQ6deqQUqmkt956i3bu3Klz22XLlpGFhYWUJ6ZQKCguLk5ar16mXm9hYUGffPKJwWsg4izFyoazFEtW2fs2otLnu5aUpXjr1i0KCQkhR0dHcnV1pVGjRmmsNyTOUmQSc87jmj9/PsaMGYPJkycjNTUVt2/fxsiRI7Ft2zbcuHEDAQEB8PPzw61bt5CcnIxu3bqhbdu2OHHihMZ+Tpw4gePHj5uoivLJzc1F7dq1cfjwYaSnp2PmzJno1asXbt++rXP7Vq1aSXliGRkZePfdd6V16mUZGRm4e/cu7Ozs0KtXL2OVwlipyT1Lkfu2AqXNdy0pS3HEiBFQqVS4d+8ezpw5g7i4OCxZssSYpRgUD7jMhLnmcakjH5YsWYKuXbvC1tYWFhYWCAkJwezZszFt2jS0atUKM2bMQLVq1VC1alV8/PHH6Nevn1Z+4rhx44qM/6jo7OzsMHXqVHh4eAAouKPJy8sLp06dKtd+N2zYAJVKBX9/f300kzG9I5lmKXLf9j+lzXctKUvx1q1bCA0NhaWlJVQqFdq3b69zCg1zxQMuM2DOeVzHjh1DdnY2unXrpnP93r170bNnT63lvXr1wp9//ons7GwABZ94R4wYgStXrhR7p4u5uHfvHq5evao1F5Ha6dOnoVKp4OPjg+jo6CLvZoqNjUX//v0N2VTG9EouWYrct2l6lXzXl7MUR48ejTVr1uD58+dISkrCzp07Tf4+6xMPuMyAOedxPXjwAM7OzhBF3X9qaWlpcHV11Vru6uqK/Px8jbw1W1tbTJo0SevrB3OTm5uL8PBwREREwNvbW2t9UFAQ4uPjkZqaio0bN+LXX3/F3LlztbZLSEjAoUOHTP5Jn7GykkOWIvdtmsqa76orSzEwMBDx8fFQKpWoXbs2mjVrhi5duhi66UbDA64KztzzuJycnJCWllbkGRpnZ2ekpKRoLU9JSYEoinB0dNRYPmjQINy7d09jLhtzQkQIDw+HtbU1Fi1apHMbT09P1KlTBwDg6+uLqVOnYsOGDVrbrVixAgEBAdK2jJkLOWQpct+mrbT5rrqyFIkI7du3R48ePfDs2TOkpaXh4cOHWl+/mjMecFVw5p7H1bJlS1hbW2PLli0617///vtYv3691vK1a9eiZcuWWrekW1paYtq0aTo7ZnMQGRmJtLQ0bNq0qUyf0EnH7C0rVqxARESEHlvHmOHJJUuR+7aiFZfvWlSW4sOHD5GYmIiRI0fC0tISjo6OGDhwIHbu3GmsZhscD7gqGLnlcSmVSkyfPh0jR47E1q1b8fz5c+Tm5mLXrl0YP348oqKicPToUUyZMgWPHj3CkydPsGjRIqxcuVKKvgA0Bxzh4eHIysoyuwNx2LBhuHTpErZt2wYrK6sit9u1axdSU1MBAJcuXUJ0dLTWdSJHjx5FcnIyevToYdA2M6YvcstS5L6tQFnyXYvLUnRycoKXlxeWLl2KvLw8PH78GMuXL4efn5+xSjE8g088UQnocx4uURSlH0EQyMrKiuLj47W27dixI/373/8mIs15uBwcHKh58+a0Z88evbSJSD9zuaxevVqaq8bV1ZU6depEx44dI6KCuWo6depESqWSFAoFBQcHa81VI4qixnws69atI1EUacaMGeVumzHmqklISCBBEMjW1pbs7e2l92v16tV0+/Ztsre3p8TERCIiGjt2LNWoUYPs7e3ptddeo6ioKMrNzdXY39ChQ402x05hPA9X5VLe99vT05Ps7OxIqVRStWrVqFWrVvTdd99J83BFRETQlClTpO3z8/PpjTfeIAsLC619RUREkJWVFaWkpJSrTYVx31Z+9+/fp6CgIHJ0dCQHBwdq1KgR/fzzz0REdPv2bVIoFFLfFhwcTJaWlhpzDIaEhEj7Onv2LLVu3ZocHR3JxcWFQkNDKTU11eA1EBmnb+MBlx7I/R8hU/zDbkxyr0+f5P63zjTJ/f2W+7Ev9/r0iSc+ZYwxxhiTAR5wMcYYY4wZGIdX6wEHvJo3udenTxxeXblw32be5F6fPnF4tZnggNfSkXM4d0n0GV4dFBRENjY20nofHx+Dt19N7tf0ME2GeL919QMHDx4kURSlUHYPDw/q1auXRp9nCBxerR/6Cq9Wu3LlCtnY2FC/fv0M3XQJX8NVScg94LU0zDmcu/JF0HgAACAASURBVDT0GV4tCAKWLFkirb948aKxymDMYNzd3aVQ9uPHj8PHxweBgYE4cOCAqZtWJA6vLqCv8Gq1UaNGoXnz5sZoulHxgKuCIJkGvJaWuYZzl5a+w6uJrwRgMubm5obp06dj0KBBFXamcQ6v/h99hVcDwJo1a+Do6Ig2bdoYpe3GxAOuCkouAa+lYc7h3K+qrOHVeXl5GusnTJgAlUqFwMBAxMXFGaPJjBld9+7d8ffff2udva8IOLxakz7Cq9WD2Pnz58vyQyUPuCowOQS8loY5h3O/ilcJry582n3OnDm4ceMGkpKSMHjwYHTu3Bk3b940ZgmMGYWbmxuICI8fPzZ1U7RweLUmfYRXT506FYMHD4abm5uhm2sSPOCqwOQQ8FoScw/nLivSQ3h1s2bNULVqVVhaWqJ///7w9/fH77//bpT2M2ZMSUlJEAShQl6HyuHV2soTXn3mzBns3bsXo0ePNlZzjY4HXBWUXAJeS2Lu4dxlpc/wajVBEGR5+p2xTZs2oUmTJrC1tTV1U7RweHXRXiW8Oi4uDgkJCahduzZcXV0xb948bNiwAU2bNjVWsw2OB1wVjNwCXl8mt3DustBHeHV6ejp2796N7Oxs5OXlYdWqVTh8+DDat29vlBoY04fC/UB2djZevHih8aEhOTkZ06dPR0xMDGbNmmXClhaNw6sL6Cu8eujQobh+/TrOnDmDs2fPYtiwYejUqRN2795trFIMroqpG8AKdO7cGVWqVIEoimjYsCHGjh2LoUOH6ty2T58+mDVrltZ1DXZ2dvjwww+xevVq9O3b1xjNLrOOHTtK/09EsLS0xMKFC6FSqaTlKpUKHTp0wPLly6WOyc/PD4IgQBRF1K9fH1u2bKmQXzMU5fbt2/jhhx9gY2ODGjVqACg4M/X9998jICAADRs2xMWLF1GrVi3s27cPERERePr0KWrUqIF+/fphwoQJAIAXL15g8uTJuHz5MiwsLODj44OtW7fi9ddfN2V5jJVJ4X4AAPz9/ZGSkgKlUgkigoODA1q1aoW4uDg0a9bMRK0s2ZgxY+Dq6oro6GiEh4dDoVDg7bffxqRJk/Daa6/hyJEj+OKLL+Dp6QkiQtOmTbF79260aNFC2od6eh8AEEURM2bMQO/evTWWV2SCIOC7777D8OHDkZ+fjzp16mDhwoXo2LEjEhMT4evriwsXLqBWrVqIjo5GRkYGQkJCpLsZAwMDsWPHDtjY2Gic9bO3t4eNjY3GZTVmz+AzfVUCcp8MUu4BqHKvT5/k/rfONMn9/Zb7sS/3+vSJJz5ljDHGGJMBzlLUA84bM29yr0+fOEuxcuG+zbzJvT594ixFM8FZiiWr7HljZclSLClv7OLFi/Tee++Rg4MD1atXjzZv3mzw9qvJ/Ssmpkkf77ecj31BEOj69esay6KioqQMwIMHD1KtWrWkdTk5OfTBBx9QQEAAZWZmUlRUFIWHh2vsT52fWqtWLRozZoz078CrqGhZivHx8dSuXTtydnYmURRfeT+GwF8pVhJyz1LkvLGyZSkWlzeWl5eHrl27okuXLnj06BG+//57hIeH49q1a8YuibESyf3YL82F7eptcnJy8MEHHyAjIwN79uyBvb291j4K58bu27cPq1evxo8//miYxutRabMULS0tERoaipiYmHLtx1zxgKuCIJlmKXLeWIGyZCkWlzd26dIlpKSk4NNPP4UgCAgODoa/vz9WrFhh1HoYK0llOPaplFfkPH/+HJ06dQIRSXfkFbU/9T69vb0RGBhoFvMNljZL0dvbGwMHDtSYf+tV9mOueMBVQcklS5HzxnQrKUuxsJfzxl5GRGbRKbPKhY/9AllZWejQoQPs7OywZcuWEiNv1C5cuIDDhw+jSZMmBm6hfrxKlqIh91MR8YCrApNDliLnjWkrKUuxsJfzxurXrw+VSoV58+YhNzcXu3fvRlxcHJ49e2aMpjNWanzsF8jMzMTx48cxYMAAWFpalrh9kyZN4OTkhK5du2LIkCGIiIgwfCP1oKxZiobeT0XEA64KTA5Zipw3polKkaWopitvrEqVKtiyZQu2b98OV1dXLFiwAKGhoahVq5Yxms9YqVWGY9/CwgIvXrzQWPbixQuNgZWLiwvWrFmD/v37l2rW9NOnT+PBgwe4evUqpk+frvc2G1JpsxSNtZ+KhgdcFZRcshQ5b0xTabMUi8obA4A33ngDBw8exP3797Fz505cv34dzZs3N3TTGSuTynDs165dG7du3dJYdvPmTSl8Xq1bt2748ccf0bNnTxw8eLDYfZb2urCKrLgsRVPsp6LgAVcFI7csRc4b+5/SZikWlzcGAP/88w+ys7Px7NkzzJs3D3fv3jWbrx1Y5VEZjv3Q0FBER0cjKSkJRIS9e/di+/bt6NGjh9a2vXv3xqJFi9C1a1ccPXrUBK01jLJkKQKQ8jOJCNnZ2cjJyXml/ZgjHnBVEJ07d4aDgwNq166NWbNmYezYsUXeOtunTx+4urpq3ZKszlJMTk6uUFmKY8aMwfz58xEdHQ2VSoXatWtj8eLF6Natm5Q3dubMGXh6esLNzQ2bN28uVd7Yo0ePzCZvTJ2leObMGdSoUQMKhQJKpRK//vorEhMToVAocOfOHQDQyBtTb1c4e27FihVwdXVFzZo1ceDAAezZs6dU14YwZmxyP/anTp2KVq1aISAgANWrV8f48eOxevXqIu/C69+/P77++mt06tQJ//3vf7XWV4Saykqdpejh4YHq1atj3LhxGlmKSqVS6tsSEhJga2uLN998E4IgwNbWFj4+PiXuRzYMPtNXJSD3ySDlnscl9/r0Se5/60yT3N9vuR/7cq9Pn3jiU8YYY4wxGeABF2OMMcaYgXF4tR5wwKt5k3t9+sTh1ZUL923mTe716ROHV5sJQ3z36+npSfv27dNYdvDgQRJFkRQKBSkUCvLw8KBevXpphFobgr6uA9BVk9rNmzdJFEUaMWKE1rrCga4uLi4UFhZG6enpemkTUcULry4p4JWI6Ndff6UGDRpQ1apV6fXXX6cjR44YsvkSuV/TwzTp6/2W87Ev53Du0ihL37Zs2TL6/+3de1RTZ7o/8O9OQAETAohoAAH1VB3tqR2qFLm008tyFPDWlooUUY+OdbC6LKue1lERXJlxrK1djuPRc+wwI2pGqyBtdWpB23pBsReBVrSnlXuJVq3BgCWGy/P7gx85xIDEkp0bz2ctl7L3m+2zCfvlhf3u9yuVSkkulxvf15MnTxr3d27r3C+VSmnFihWinwMRz+Fi3QgKCoJOp4NOp0NxcTHGjh2L2NhYfPrpp/YurU9ycnLg5+eHAwcOmC0k2DXQtbKyErdu3UJmZqZ9Cv2FHiS8ureA18LCQqxevRq7d+9GU1MTTp06hZEjR4p9CoyJwpmvfVcP57bEg/RtABAVFQWdTofGxkbodDo88cQTxn2d23Q6Ha5duwYvLy+8+OKLtjoV0fGAy4kFBgYiKysLixcvNgt7dTY5OTlQqVRwd3fHhx9+aLKPugS6ymQyzJgxwxjq7SweJLy6t4DXzMxMZGRkYNKkSQA6olC6i0hhzBk467XfH8K5LfEgfduDOHToEAICAhAdHW2NMh0CD7hcwHPPPYcLFy6gubnZ3qX8IqdPn0Z9fT2SkpKQmJhoEsJ9L61Wi/z8fEyePNmGFVrfg4RXd9Xe3o4vv/wS169fx0MPPYSQkBAsX77cGPTLmDNx5mufw7m711vfVlJSgoCAAIwdOxYqlarH6KecnBykpqaKWarN8YDLBQQGBoKI0NDQYO9SfpGcnBzExcVBoVAgOTkZx44dw82bN03ahIeHw9fXFwEBAairq8OSJUvsVG3fPUh49b1+/PFHtLS0IDc3F0VFRSgtLUVJSQlUKpVI1TImHme+9jmc21xvfduTTz6Jixcv4vr168jNzcU///lPbN682axdTU0NTp065TCJKdbCAy4XUF9fD0EQ4OPjY+9SHpher8fBgweRnJwMAIiMjMTw4cOhVqtN2pWUlECr1UKv12Pp0qWIiYkxRkI4E3qA8OrueHp6AgBWrFiBgIAA+Pn5IT09Hf/617+sXSpjonL2a78/hHM/CEv6trCwMGPO5Pjx45GRkYFDhw6ZtduzZw9iYmLMMimdHQ+4XEBeXh7Cw8ON34ydSV5eHnQ6HdLS0oxzkTQajdmthc55HFKpFIsXL0ZVVRUuXrxoj5L7xNLw6p74+PggODjYZJszxoEw5uzXfn8I534Qv7Rvo25WptqzZ49L5sPygMuBGQwGY9Dn3bt30dLSYvLFqdFokJWVhezsbGzcuNGOlVqu6znp9XpkZ2dj0aJF+Oabb1BWVoaysjJjvlp5ebnZ69vb25GdnQ0vLy+nezLP0vBqoOeAVwBYuHAhtm3bhhs3bkCr1eKdd97B9OnTxS6fsT5xtWu/P4RzW8rSvu3YsWO4fv06AODbb7+FSqUymwN39uxZaDSabgPAnZ7oC0/0A2KtwyWRSEz+xMbGmqxhEhQURImJifT5559b/f/vyprrcHU9H0EQaMCAAXTx4kWztvHx8bRq1SoiMl2LR6FQUEREBBUWFlqlJiLbrFVTU1NDgiCQp6cnyWQy4/mo1Wqqra0luVxOdXV1RPR/a/N0/TyNGDHCeKyWlhZKS0sjHx8fUiqVtHLlSrp7967o50DE63D1N9Zch8tVr321Wm1ch0upVFJCQgKdO3eOiDrW4UpISCBvb2+Sy+X01FNPma3DJZFIqK2tzbjtvffeI4lEQhs2bOhzbY7Qt8lkMmPf9tprr9HQoUNJJpPRqFGjKDMzk1pbW02O9/LLL9slA9IWfZubvQd8rHtVVVX2LsHqHuScus5j6GmOhDMJCQm573nodDrjv0NDQ+/b1s3NDdu3b8f27dutWiNjYnHla3/u3LmYO3dut/vGjRtnttRFV6GhoWhrazPZlpiY2O3TjY6qt76tsbHR+O/Nmzd3O0m+q507d1qtNkfDtxQZY4wxxkTGWYpWwHljzs3Vz8+aOEuxf+G+zbm5+vlZE2cpOom+3vsNDQ0lT09P8vb2Jl9fX4qOjqadO3dSe3s7EXXchxcEwSQz8cqVKyQIAhERLV26lFJTU82OW1paSgMHDiStVtun+sS4n+6KWZH3Y80sxZSUFBo2bBgpFAoaM2YMvfvuu2KXb8RzuPoXzom9P0EQqKKiwmRbZmYmzZs3j4g6zis4ONi4z2Aw0OzZsykmJoYaGxspMzOTUlJSTI7XOQcqODiY0tPTjd8HfglH69v2799PY8aMIW9vbxo6dCgtWLCAGhsbzdp999135OHhYfw82gJnKfYTgiDg6NGjuH37NmpqavDGG29g06ZNWLx4sXH/4MGDzRbF61wOYP78+Th8+LDZSvN79+7F9OnTnWp9LlfNirRmluLq1atRVVWFhoYGfPDBB1i7di1KSkrEPgXGROWM174lS7J0tjEYDJg9ezZ0Oh0KCwshk8nMjtE1O/LEiRNQq9XYtWuXOMVbyYP0bdHR0Th16hRu376NyspKtLS0dLvY6yuvvIKIiAhblG9TPOByEPT/7+zK5XIkJCTgwIED2L17tzE3bP78+fj6669x+vRps9dGRkYiKCgIubm5xm3t7e1Qq9VOvVKvK2VFWjNLcdy4ccbbPEQEQRBQUVEhXvGM2ZizXPtk4Yyc5uZmJCQkgIhw9OjRHm/TUpfsyNGjRyM2NtYh1hy7nwfp24KDgxEQEACg43uUVCrFlStXTNrs378fvr6+eOaZZ8Qv3sZ4wOWgJk2ahKCgIOMAy8vLC3/4wx96DDidN2+eyYKBhYWFaG1txbRp02xSr5icPSuyO780S7HTsmXLMGjQIPzqV79CYGAg4uLirFwhY/bnCte+Xq/HtGnT4OXlhfz8fAwcONCi1126dAmnT59GeHi4yBVaV299W1FREXx8fODt7Y28vDy8+uqrxn2dgeBbtmyxeDDrTHjA5cACAwNN8raWLFmC2tpafPzxx2Zt582bh1OnTkGj0QDoWKk3OTn5F61m7micPSvyXn3JUuy0fft2NDU14cyZM3juuecs7sQZcyaucO03NjaiuLgY8+fPh7u7e6/tw8PDMXjwYMycORNLlixxqhXXLenboqOj0dDQgPr6eqxatQohISHGfRkZGfjd736HwMBAW5VsUzzgcmD19fXw8/MzfjxgwACsW7eu2+iH4cOHIzY2Fnv37sWdO3eQn5/v1LcTu3LmrMh7UR+zFLsSBAFRUVGoq6vDjh07rFQhY47D0a99qVSKlpYWk20tLS0mA6shQ4Zg//79SE1NRUFBQa/HLCkpwU8//YTvv/8eWVlZVq9ZLA/atymVSvz2t79FUlISAKC0tBTHjx/HypUrxS7VbnjA5aC++OILaDQaxMTEmGxfuHAhGhoakJeXZ/aa+fPnIycnB7m5uRg5ciQeffRRW5UrKmfOirxXX7MUu9Pa2spzuJhLcvRrPyQkBNXV1SbbqqqqzEKXZ82ahV27diExMRGfffbZfY/prLfSfknf1tLSgsrKSgDAyZMnUVNTg5CQECiVSrz11ls4dOgQJk6cKGbZNsUDLgfT2NiII0eOYO7cuZg3b57ZfXCpVIrMzExs2rTJ7LXPP/88amtrsX79eqf47ZYrZkXejzWyFG/cuIEDBw7gzp07aG9vx8cff4z9+/fj2WeftcUpMGYVrnLtz5kzByqVCvX19SAiHD9+HEeOHOk2BzApKQnbtm3DzJkzcfbsWTtUKx5L+za1Wo26ujoAQE1NDdauXWvsu15++WVUVFSgtLQUZWVlWLp0KRISEiz6raCz4GgfBzF9+nS4ublBIpFg3LhxeO211/Dyyy9323bu3LnYuHGj2bwGLy8vPP/881Cr1XjppZdsUXafxMfHm3wcHR2Nq1evwtvbG0QEhUKBqKgonDx5EpMmTbJTldZRW1uL//mf/4GHhweGDh0KoOOW4H//938jJiYG48ePx6VLlxAcHIyamhqMGDECgiBAEAR4enoiLCwMlZWVEAQBO3bswO9//3u0t7cjNDQUW7duNftcMubIXOXaz8jIwPr16xETE4OGhgaMGjUKarW6xyeMU1NTYTAYehxIWLLMhKPprW8bN24cLl++jODgYFy6dAmvv/46Ghoa4Ovri/j4ePzpT38CAHh4eJg8vSmTyeDh4WEyrcbZ8YDLAfSWM/b3v//d5GNBEPDNN9/02Pbe9o7IFbMi78daWYr+/v693pJgzJG50rXv4eGBTZs2dXvHAQCefPJJs/WoFi9ebFxj8d7bZffmKjqDB8lSVKlUUKlUFh13/fr1fa7N0fAtRcYYY4wxkfGAizHGGGNMZBxebQXWCnjNzc1FVFQUlEql2b6mpibk5eVh9OjRiIyMNNm3e/duuLm5QRAESKVSKJVKREZG9jox21J9DUA9dOgQ9Ho9JBKJ8RHvkSNHYvTo0RAEAWfOnEFFRQXi4+Ph7+8PoOMW2+HDhzF//nycO3cObW1tZk9s3rp1C0ePHsWcOXP6dK62CHhta2vD+fPnodFoYDAYIJfLER4ejqCgoG7bl5eXo7y8HK2trQgLC0NkZCQkko6fj06fPo2rV6+itbUVnp6eePjhh/HQQw+JWn8nDq/uX8QIr+6un7t27RoKCgrg5tYxy2XAgAEYMmQIxo8fb+wTxCDmtV9VVYVLly6hoaEBbm5ukMvlGDVqFMaMGYMzZ86gqqoKUqkUEokEfn5+ePzxx6FQKKxagy36tm+//RZXrlyBVqvFyJEjER0d3W27trY2fPXVV6iurkZ7ezvCwsIQERFh7NeamppQXFyMGzduQCqVIjQ0FBERETab18bh1U7CWqGX3YW6dsrKyiJ/f38aPHgwGQwGk30SiYQqKyuJiKixsZGmTp1Kr776qlVqIup7AGpYWBh98sknRESk0+noww8/pBEjRtB//Md/EBHRggULyN/fn377298aX3PlyhVjcPO5c+dILpfTzz//bHLc1157jV544YU+1UZkm4DXO3fuUFZWFtXW1hIR0ZEjR0gul1NNTY1Z22PHjtGwYcPo8uXL1NDQQL/5zW9o9erVxv3l5eXU3NxMRET/+7//S8OGDaMLFy6Ifg5EHF7d39gyvHr48OHGj+vr6ykjI4M8PDyMfYcYxLr233rrLRo2bBjl5eVRU1MTERGVlpZSSkoKGQwGWrBgAa1bt46IiJqbm+mll16iyZMnW70OW/Rthw8fpvfff5/S0tJo4cKFPbbLzMykJ554ghoaGujmzZsUGRlJmZmZxv1xcXG0YMECMhgM9OOPP9K///u/07Zt20SvvxOHVzOjnJwcqFQquLu748MPPzTZR13yt2QyGWbMmGHMYHQU1M+zIh8kbywnJweLFi3C2LFjoVAokJGRYfIgBGcpMlfnLFmK3emMp9mxYwdmz56NQYMGAQAmTJiAPXv2mK027+HhgeTkZIfPTOzJrFmzMGPGjF6fJjxy5AiWL18OhUKBwYMHY8WKFcjOzjbur66uxpw5c+Du7o6AgABMnToV5eXlYpdvUzzgcgKnT59GfX09kpKSkJiYaJKZeC+tVov8/HxMnjzZhhU+uP6eFXm/vLHy8nJMmDDB+PGECRNw/fp1aLVa4zbOUmT9gTNmKZ47dw4GgwEzZsywqH1TUxP27dvndJmJfdXe3o4ffvjB+BTjypUrsX//fjQ3N6O+vh4fffSR0/bvPeEBlxPIyclBXFwcFAoFkpOTcezYMdy8edOkTXh4OHx9fREQEIC6ujosWbLETtVarr9mRfaWN9bU1GQyl6NzbaKuj1dzliLrD5wxS/HmzZvw9/c3zk0COtYZ8/X1hZeXF86cOQMA2Lx5M/z8/DB69GjcuXPHKZbz6YupU6di69atuHnzJq5du2aM//n5558BALGxsbh48SK8vb0REhKCSZMmWTxodRY84HJwer0eBw8eRHJyMoCO22vDhw+HWq02aVdSUgKtVgu9Xo+lS5ciJibGuDq5o+qPWZFkQd6YTCYzWZfr9u3bEAQBcrncpB1nKTJX5+hZit0ZPHgwbt68abI2VVFREbRaLfz9/Y3bV61ahVu3bkGj0SA/Px8jRoywV8k2sWbNGvz617/Go48+ipiYGMyePRvu7u4YOnQoiAhTp07FCy+8gJ9//hk3b97ErVu3nO52cm94wOXg8vLyoNPpkJaWBqVSCaVSCY1GY3ZbsXOOlFQqxeLFi1FVVeXQcwL6a1akJXlj48ePR1lZmfHj0tJSDB06FL6+vt225yxF5qocPUuxO5MnT8bAgQPx/vvvm+2jfrwogIeHB/7yl7/ghx9+wJUrV+Dr64vHHnsMQMcT53V1dVi2bBnc3d3h6+uLhQsX4qOPPrJz1dbFAy4H0zVjTK/XIzs7G4sWLcI333yDsrIylJWV4cyZMygtLe12QmF7ezuys7Ph5eWFkSNH2uEM7q8/ZUXey9K8sdTUVPztb3/D5cuXodVqoVKpsHDhQgCcpchcg6tkKXan80GXtLQ05ObmoqmpCUSE0tJS4+0zV9LW1ga9Xo+2tja0trbi7t273a6Yr9FocPXqVQBAcXExVCoVNmzYAKDjt4IjRozAzp070dbWhoaGBuzevdtkLqtLEP05yH7AmstCSCQS4x9BEGjAgAF08eJFs7bx8fG0atUqIiISBIFkMhnJ5XJSKBQUERFBhYWFVqmJyDrLQnh5eZG3tzf5+PhQVFQU7dixg9rb24mITB6RJiJqb2+nhx9+mKRSqdmxFixYQAMGDKCrV6/2qaaubPHodE1NDQmCQJ6eniSTyYzvl1qtptraWpLL5VRXV2ds/84779DQoUNJoVDQokWLjEuB3Lhxg5588kny9fUlhUJBjzzyCP3tb38Tvf5OvCxE/yLWshBd+zmJREKxsbEklUpJLpeTTCajoKAgSkxMpM8//9zq/39XYl77arWaIiIiaNCgQRQQEECRkZH07rvvmi0LISZb9G2ZmZkkCILJ+9m5BI5MJjP2a6dOnaKwsDAaNGgQjR07lv75z3+aHKesrIx+85vfkK+vLw0ZMoTmzJlD169fF73+Trbo2zhL0YE8SMbYkSNHjP++X46VI+iPWZH3epAsRaDjiZ2VK1eateMsRebsXClL8X7mzp2LuXPndrvPGfuwnqxfv77H3MOuD/rExsbe971/5JFH8Omnn1q9PkfCtxQZY4wxxkTGAy7GGGOMMZFxlqIViJE35khskcdlT65+ftbEWYr9C/dtzs3Vz8+aOEvRSYgx2S40NJQ8PT3J29ubfH19KTo6mnbu3NnjRPOLFy+SUqmkt99+2+q1WGPi5b59+2jixIkkk8koMDCQ4uLiqKioiIg6sgFnzJhBCoWCvL296emnn6azZ88aX1tdXU2CIFB8fLzJMVNSUigrK6vPtdliYulf//pXmjhxIg0cOPC+eWNERGvWrKGgoCDy8fGhp556isrLy437Oifbd04ulkqltGLFCrHLN+JJ8/1LX9/v3vqx+fPnkyAI9MUXXxhfc+XKFRIEgYiIli5dSqmpqWbHLS0tpYEDB5JWq+1TfX299gVBoIqKCpNtmZmZNG/ePCLqyIgMDg427jMYDDR79myKiYmhxsZGyszMpJSUFJPjdV7jwcHBlJ6ebvxc/RKO1LfdvXuXVq5cSYGBgeTn50fLli2j1tZW4/7+0LfxLUUHJQgCjh49itu3b6OmpgZvvPEGNm3ahMWLF5u1LSkpwdNPP42MjAykp6fbodr727JlC9LT07F27Vpcv34dtbW1WLZsGT744ANUVlYiJiYGEyZMQHV1NTQaDWbNmoUpU6bg/PnzJsc5f/48iouL7XQWfRMUFIR169Zh0aJF92333nvv4R//+AeKiopw69YtREZGYt68ecb9jY2N0Ol00Ol0uHbtGry8vPDiiy+KXT5jv0hv/ZggCBg8eDDWrl1r9jqgY+29w4cPm0X77N27F9OnBYIdxQAAEwtJREFUT7f7gqiddVrSxmAwYPbs2dDpdCgsLIRMJjM7hiAI+Prrr6HT6XDixAmo1Wrs2rVLnOKtxNK+bePGjbhw4QIuXbqE7777Dl999RVUKpVxf3/o23jA5cCol8BnoGMB0SlTpuDPf/4zli5daq9Se9QZ5Ppf//VfmDlzJjw9PSGVShEXF4c///nPWL9+PaKiorBhwwb4+Phg0KBBWL58OebNm2e2yvB//ud/9pi16OgsDXitrq5GTEwMQkNDIQgCUlJScPny5W7bHjp0CAEBAYiOjhajZMasord+zJmD68nCGTnNzc1ISEgAEeHo0aM93qYlIuMxR48ebYy7cWTWCq/uylX7Nh5wOZF7A5/Pnz9vzKfqXBjT0Zw7dw53797FrFmzut1//PhxJCYmmm1/8cUXUVRUhLt37wLo+MkvLS0N3333HT755BNRa7anpKQkVFRU4Pvvv0dLSwv+8Y9/9BjgmpOTg9TUVBtXyFjf9Lfger1ej2nTpsHLywv5+fkW555eunQJp0+fdtlQ63vDq7ty1b6NB1xOpmvgc3FxMXx8fDB16lQ7V9Wzn376ySzItaubN29CqVSabVcqlWhvbzcJt/b09MSaNWvMbj+4EqVSiejoaIwZMwaDBg1Cbm4utmzZYtaupqYGp06dcoif8hl7UP0puL6xsRHFxcWYP38+3N3de20fHh6OwYMHY+bMmViyZAkWLFggfpE20Ft4dSdX7tt4wOVkugY+v/LKK5g4cSKeffZZ3L59286Vda+7INeu/P39jXEPXV29ehUSicQsP3Dx4sX48ccfTRZ+dSVZWVn44osvUF9fD71ej4yMDDz11FPQ6/Um7fbs2WO89ciYs3GV4HqpVIqWlhaTbS0tLSYDqyFDhmD//v1ITU1FQUFBr8csKSnBTz/9hO+//x5ZWVlWr9le7hde3ZUr92084HIi9wY+S6VSqNVqhISEYMqUKWhqarJzheY6g1zz8/O73f/ss8/i4MGDZtsPHDiAyZMnm811cHd3x/r167vtmF1BWVkZkpKSoFQqIZFIMH/+fGi1WpN5e0BHp+QqP/my/sWVgutDQkJQXV1tsq2qqspssDBr1izs2rULiYmJvSZFWDovzNncL7y6K1fu23jA5QTuF/gslUpx8OBB+Pv7Y9q0aQ4Xjurt7Y2srCwsW7YM77//Ppqbm9Ha2opjx47hjTfeQGZmJs6ePYt169ZBq9WiqakJ27Ztw969e/Hmm28aj9O1E0pJSYFer3eqJHlLA14nTZqEgwcP4vr16yAi7NmzB62trfi3f/s3Y5uzZ89Co9HghRdesOUpMNYnrhhcP2fOHKhUKtTX14OIcPz4cRw5cqTbazMpKQnbtm3DzJkzcfbsWTtUKw5rhFd3cvW+jQdcDmz69OlQKBQICQnBxo0b8dprr3X7VIe7uzvy8vLg6emJGTNmGCeaO4r09HRs2bIFKpUKAQEBCAkJwfbt2zFr1iyMGjUKZ86cQWlpKcLCwhAYGIjDhw+joKAAkZGRxmN0fXRaIpFgw4YN0Gq1Fj2W7QhUKhW8vLywadMm7Nu3D15eXvjjH/+Iuro6yOVy/PDDDwCA119/HRMmTMCjjz4KX19fbN26FXl5efD29jYeKycnB88//zwGDRpkr9NhzGKW9mNAR/6gUqk0u669vLzw/PPPQ6PR4KWXXrJF2RbJyMhAVFQUYmJi4OfnhzfeeANqtRrjxo3rtn1qairefvttJCQk4MsvvzTb7yz9WVeW9m0VFRWIioqCTCbDwoUL8eabb+KZZ54xOZbL922ir/TVD7j6YpC2WDzPnlz9/KzJ1b/WmSlXf79d/dp39fOzJl74lDHGGGPMBfCAizHGGGNMZBxebQViBLzm5uYiKirKZI2qa9euoaCgAG5ubgA6HqUeMmQIxo8fD39/f6v+/11ZIwC1srISly5dwu3bt+Hu7g4/Pz888sgjCAgIQENDAy5cuIBr164B6FhK4te//jUCAgIAAE1NTcjNzUVwcLDJPf/Tp0/D29sbEyZM6FNttgh4/fbbb3HlyhVotVqMHDnSohWUP/74Y1y7dg2pqakmczuqqqpQVlaGO3fuwNPTEzExMcbPldg4vLp/sUbf1h+u/e76605NTU3Iy8vD6NGjTealAsDu3bvh5uYGQRAglUqhVCoRGRmJAQMG9LkmwPH6tgsXLqCiogKtra3w8/PD448/boxn2rdvn7GfIyK0tbVh7NixiIiIELX+Thxe7STEuPcbFhZGJ06cMNn22Wef0fDhw40f19fXU0ZGBnl4eNAnn3xi9Ro69XUewNtvv01Dhw6l/Px8+vnnn6m1tZWOHj1Kr7/+OlVUVJCvry+tW7eOtFotNTU10V/+8heSyWRUXFxMRP8XXu3v70/nzp0zHteZwqsPHz5M77//PqWlpfUaXk3UEfb9xBNPkEQioba2NuP2goICCgsLo88//5yIiDQaDWk0GtHqvperz+lhpvr6fveXa7+7/rpTVlYW+fv70+DBg8lgMJjsk0gkVFlZSUREjY2NNHXqVHr11VetUhORY/VtBw4coKCgIKqurqb29nZavXo1hYeHd9u2qamJ5HI5nTlzRqyyzfAcLnZfgYGByMrKwuLFi81yBx0FZyl2sDRvDOj4nG3YsAGbN28225eZmYmMjAxMmjQJQMfK9N39VM2YvfG13yEnJwcqlQru7u748MMPTfZRl+xEmUyGGTNmmK255+g4J9ZyPOByAc899xwuXLiA5uZme5dihrMUH9wf/vAHpKWlma3A3N7eji+//BLXr1/HQw89hJCQECxfvtzhlgFhDOBrH+i49VlfX4+kpCQkJiaaZELeS6vVIj8/H5MnT7ZhhbbDObE84HIJgYGBICI0NDTYuxQznKX4YL788kucPXsWy5cvN9v3448/oqWlBbm5uSgqKkJpaSlKSkqgUqnsUClj98fXfsfAIS4uDgqFAsnJyTh27Bhu3rxp0iY8PBy+vr4ICAhAXV0dlixZYqdqxcU5sTzgcgn19fUQBME4+dCRcJai5YgIy5Ytw9atWyEIgvFWQ+ffnp6eAIAVK1YgICAAfn5+SE9Px7/+9S+71cxYT/r7ta/X63Hw4EEkJycDACIjIzF8+HCo1WqTdiUlJdBqtdDr9Vi6dCliYmJgMBjsUbKoOCeWB1wuIS8vD+Hh4cZvyI6EsxQtp9Pp8NVXX2HOnDlQKpWIiIgAEWH48OEoKiqCj48PgoODTV7jjCtTs/6hv1/7eXl50Ol0SEtLM8611Gg0ZrcVO3+gkkqlWLx4MaqqqnDx4kV7lCwqzonlAZdDMxgMuHv3rvFPS0uLSaagRqNBVlYWsrOzsXHjRjtW2jPOUuxgSd6YQqGARqNBaWkpysrKjL+5unDhAh5//HEAHQG/27Ztw40bN6DVavHOO+9g+vTpNj8fxnrT3679rv21Xq9HdnY2Fi1ahG+++QZlZWUoKyszxpiVl5ebvb69vR3Z2dnw8vLCyJEj7XAGvwznxD4A0Z+D7AfEWhZCIpGY/ImNjSWpVEpyuZxkMhkFBQVRYmKicYkAsVjj0WK1Wk0TJ04kmUxGSqWSEhISjI95l5eXU0JCAnl7e5NcLqennnqKzp49a3xtdXW12fII7733HkkkEtqwYUOfa7PFo9OZmZkkCILJ+5mVlUW1tbUkk8morq7O7DXdnXdLSwulpaWRj48PKZVKWrlyJd29e1f0+jvxshD9izXe7/5w7d/bXwuCQAMGDKCLFy+atY2Pj6dVq1YREZEgCCSTyUgul5NCoaCIiAgqLCy0Sk1EjtW36fV6euWVV0ipVJJCoaDHHnuMCgoKTI718ssv2y2OyBZ9Gw+4rMDVvwm5eh6Xq5+fNbn61zoz5ervt6tf+65+ftbE63AxxhhjjLkAHnAxxhhjjImMsxStQIwsRUdiizwue3L187MmzlLsX7hvc26ufn7WxFmKTsIa93737dtnnFgaGBhIcXFxVFRUREQdE0tnzJhBCoWCvL296emnnzabWCoIAsXHx5sc09HyxrrqKStSIpGQXC4nuVxOw4cPpxdffJG++OILq///XdlinsNf//pXmjhxIg0cONCiLEUioqeffpoEQTCZMJySkkLDhg0jhUJBY8aMoXfffVeskrvl6nN6mClrvd/3yxqsqqoiiURCaWlpZvu6TiofMmQIJScn0+3bt61SE1Hfr31BEKiiosJkW2ZmJs2bN4+IOvq04OBg4z6DwUCzZ8+mmJgYamxspMzMTEpJSTE5Xuf5BgcHU3p6OrW3t//i+pypb+v03XffkYeHh/FzaCs8h6uf2LJlC9LT07F27Vpcv34dtbW1WLZsGT744ANUVlYiJiYGEyZMQHV1NTQaDWbNmoUpU6bg/PnzJsc5f/48iouL7XQW1hEUFASdTgedTofi4mKMHTsWsbGx+PTTT+1dWp8EBQVh3bp1WLRokUXt1Wo1WltbzdbZWr16NaqqqtDQ0IAPPvgAa9euRUlJiRglM2YTOTk58PPzw4EDB9DS0mKyTxAEfP3119DpdKisrMStW7eQmZlpn0K7Yck6eJ1tDAYDZs+eDZ1Oh8LCQshkMrNjdD3fEydOQK1WY9euXeIUbyXW6ts6vfLKK4iIiLBmiQ6DB1x2xgGvPXOGcG5LWSu8ety4ccZbPEQEQRBQUVFh9XoZsxVnDncmC2fkNDc3IyEhAUSEo0eP9nibtuv5jh49GrGxsQ6/CKq1+jYA2L9/P3x9ffHMM89Yu0yHwAMuO+OA1945cji3GHoKr+60bNkyDBo0CL/61a8QGBiIuLg4G1fImHX0h3BnvV6PadOmwcvLC/n5+Rg4cKBFr7t06RJOnz6N8PBwkSu0nfv1bZ2/fNiyZYvFA1lnwwMuO+OA1945cji3td0vvLrT9u3b0dTUhDNnzuC5556zuANnzNH0h3DnxsZGFBcXY/78+XB3d++1fXh4OAYPHoyZM2diyZIlLhNz01vflpGRgd/97ncIDAy0cWW2wwMuO+vvAa+WcORwbmuiHsKruyMIAqKiolBXV4cdO3bYsErGrMMVwp2lUqnZvLOWlhaTgdWQIUOwf/9+pKamoqCgoNdjlpSU4KeffsL333+PrKwsq9dsD731baWlpTh+/DhWrlxppwptgwdcdtbfA14t4cjh3NbUU3h1cHAwioqKun1Na2srz+FiTskVwp1DQkJQXV1tsq2qqgqhoaEm22bNmoVdu3YhMTERn3322X2P6Yq303rr206ePImamhqEhIRAqVTirbfewqFDhzBx4kR7l25VbvYuoL/rGvAqlUoxZcoUuLu74/jx4/jss8+QmZmJSZMmYd26dUhPT4e7uzv+/ve/Y+/evSgsLDQeh+4JeN24cSM++ugjPPTQQ/Y4LYt0hr126i6ce9euXcjOzjabTOts2tra0NLSYhLw6ubmBqlUamzTGV7dqba2FhEREbhw4QL8/f1x48YNfPLJJ0hISICnpycKCwuxf/9+XheLOYWu1zsRGcOd//jHPxrb/PDDD5g0aRLKy8sxfvx4k9c7YrjznDlzoFKp8PDDDyMwMBAnTpzAkSNHsGbNGrO2SUlJMBgMmDlzJj766CNERUXZoWLrs0bf9thjj2Hu3LnG/Zs3b0ZNTQ127txp03MRGw+4HEB6ejqUSiVUKhVSUlIgl8vx2GOPYc2aNRg1ahTOnDmD119/HWFhYSAiTJw4EQUFBYiMjDQeo+sjthKJBBs2bEBSUpJFjy3bS3x8vMnH0dHRuHr1Kry9vUFEUCgUiIqKwsmTJzFp0iQ7VWkdKpUKWVlZxvdj3759WL9+PRYuXIhx48bh8uXLCA4ORkBAgPE1zc3NEAQBAQEBkEgkEAQBO3bswO9//3u0t7cjNDQUW7duNfs8MuaIun6dEhHc3d2xdetWk6/5gIAATJs2Dbt378abb74JAJgwYQIEQYBEIsGYMWOQn5/vMNMLMjIysH79esTExKChoQGjRo2CWq3GuHHjum2fmpoKg8GAhISEbm8vOnJ/3RNr9G1ubm4md2tkMhk8PDwsevLRqYi+0lc/4OqLQbp6AKqrn581ufrXOjPl6u+3q1/7rn5+1sQLnzLGGGOMuQC+pWgFHh4eDrX6sbXp9Xo+PwYALp2rx8xx3+bcXP38rMkWfRuHVzPGGGOMiYxvKTLGGGOMiYwHXIwxxhhjIuMBF2OMMcaYyHjAxRhjjDEmMh5wMcYYY4yJjAdcjDHGGGMi4wEXY4wxxpjIeMDFGGOMMSYyHnAxxhhjjImMB1yMMcYYYyLjARdjjDHGmMh4wMUYY4wxJjIecDHGGGOMiYwHXIwxxhhjIuMBF2OMMcaYyHjAxRhjjDEmMh5wMcYYY4yJjAdcjDHGGGMi4wEXY4wxxpjIeMDFGGOMMSYyHnAxxhhjjImMB1yMMcYYYyLjARdjjDHGmMh4wMUYY4wxJjIecDHGGGOMiYwHXIwxxhhjIuMBF2OMMcaYyHjAxRhjjDEmMh5wMcYYY4yJjAdcjDHGGGMi+38n5gvtMZCyJwAAAABJRU5ErkJggg==' style='max-width:100%; margin: auto; display: block; '/>\"};\n",
       "    var dim_vals = ['East Midlands'];\n",
       "    var keyMap = {\"('East Midlands',)\": 0, \"('East of England',)\": 1, \"('London',)\": 2, \"('North East',)\": 3, \"('North West',)\": 4, \"('Scotland',)\": 5, \"('South East',)\": 6, \"('South West',)\": 7, \"('Wales',)\": 8, \"('West Midlands',)\": 9, \"('Yorkshire and the Humber',)\": 10};\n",
       "    var notFound = \"<h2 style='vertical-align: middle>No frame at selected dimension value.<h2>\";\n",
       "    function create_widget() {\n",
       "        setTimeout(function() {\n",
       "            animef25d704b9194b92a1a4a85f8d41d796 = new MPLSelectionWidget(frame_data, \"ef25d704b9194b92a1a4a85f8d41d796\", widget_ids,\n",
       "\t\t\t\tkeyMap, dim_vals, notFound, false, \"default\",\n",
       "\t\t\t\ttrue, \"./json_figures/\", false);\n",
       "        }, 0);\n",
       "    }\n",
       "    \n",
       "\n",
       "\n",
       "    create_widget();\n",
       "    \n",
       "\n",
       "\n",
       "})();\n",
       "</script>"
      ],
      "text/plain": [
       ":Layout\n",
       "   .HoloMap.I  :HoloMap   [region]\n",
       "      :Table   [2005,2010,vote %]\n",
       "   .HoloMap.II :HoloMap   [region]\n",
       "      :Table   [2010,2015,vote %]"
      ]
     },
     "execution_count": 12,
     "metadata": {},
     "output_type": "execute_result"
    }
   ],
   "source": [
    "%%opts Table [fig_size=200]    \n",
    "regions = list( BES_Panel[\"gor\"].dropna().unique() )\n",
    "x_dim = hv.Dimension(\"region\",values = regions )\n",
    "tables_2005_2010 = hv.HoloMap(kdims=[\"region\"])\n",
    "tables_2010_2015 = hv.HoloMap(kdims=[\"region\"])\n",
    "links_by_reg_2005_2010 = dict()\n",
    "links_by_reg_2010_2015 = dict()\n",
    "links_by_reg_2005_2015 = dict()\n",
    "\n",
    "\n",
    "\n",
    "for reg in regions:\n",
    "    \n",
    "    BESreg = BES_Panel[ BES_Panel[\"gor\"]==reg ]\n",
    "    links_2005_2010 = []\n",
    "    links_2005_2015 = []  \n",
    "    \n",
    "    \n",
    "    # 2005 -> 2010, weighted\n",
    "    first_elec  = \"2005\"\n",
    "    second_elec = \"2010\"\n",
    "    crosstab = pd.crosstab(index   = BESreg[ 'profile_past_vote_'+first_elec  ],\n",
    "                           columns = BESreg[ 'profile_past_vote_'+second_elec ],\n",
    "                           values  = BESreg[ \"wt_full_W8\" ],\n",
    "                           aggfunc = sum,\n",
    "                           normalize=True)*100\n",
    "    tb = pd.DataFrame(columns = [ first_elec  , second_elec, '%'])\n",
    "    \n",
    "    tb_ind = 0\n",
    "    for col in crosstab.columns:\n",
    "        second_party = replace_list[ party_list.index( col ) ]\n",
    "        for ind in crosstab[col].index:\n",
    "            first_party = replace_list[ party_list.index( ind ) ]\n",
    "            if crosstab[col][ind]>threshold:\n",
    "                \n",
    "                tb.loc[tb_ind] = [first_party, second_party, crosstab[col][ind].round(decimals=2)]\n",
    "                tb_ind = tb_ind + 1\n",
    "                \n",
    "                d = {'source': first_party+first_elec,\n",
    "                     'target': second_party+second_elec,\n",
    "                     'value': crosstab[col][ind],\n",
    "                     'color': colourmap[first_party]}\n",
    "                links_2005_2010.append(d)\n",
    "                links_2005_2015.append(d)\n",
    "                \n",
    "    tables_2005_2010[reg] = hv.Table(tb.sort_values(by='%', ascending=False)[0:14])\n",
    "    links_by_reg_2005_2010[reg] = links_2005_2010\n",
    "    ###########################################\n",
    "    links_2010_2015 = []\n",
    "      \n",
    "    # 2010 -> 2015, weighted\n",
    "    first_elec  = \"2010\"\n",
    "    second_elec = \"2015\"    \n",
    "    crosstab = pd.crosstab(index   = BESreg[ 'profile_past_vote_'+first_elec  ],\n",
    "                           columns = BESreg[ 'profile_past_vote_'+second_elec ],\n",
    "                           values  = BESreg[ \"wt_full_W8\" ],\n",
    "                           aggfunc = sum,\n",
    "                           normalize=True)*100\n",
    "    tb = pd.DataFrame(columns = [ first_elec  , second_elec, '%'])\n",
    "    links = []\n",
    "    tb_ind = 0\n",
    "    for col in crosstab.columns:\n",
    "        second_party = replace_list[ party_list.index( col ) ]\n",
    "        for ind in crosstab[col].index:\n",
    "            first_party = replace_list[ party_list.index( ind ) ]\n",
    "            if crosstab[col][ind]>threshold:\n",
    "                \n",
    "                tb.loc[tb_ind] = [first_party, second_party, crosstab[col][ind].round(decimals=2)]\n",
    "                tb_ind = tb_ind + 1\n",
    "                \n",
    "                d = {'source': first_party+first_elec,\n",
    "                     'target': second_party+second_elec,\n",
    "                     'value' : crosstab[col][ind],\n",
    "                     'color' : colourmap[first_party]}\n",
    "                links_2010_2015.append(d)\n",
    "                links_2005_2015.append(d)\n",
    "                \n",
    "    tables_2010_2015[reg] = hv.Table(tb.sort_values(by='%', ascending=False)[0:14])\n",
    "    links_by_reg_2010_2015[reg] = links_2010_2015 \n",
    "    links_by_reg_2005_2015[reg] = links_2005_2015\n",
    "\n",
    "tables_2005_2010 + tables_2010_2015"
   ]
  },
  {
   "cell_type": "code",
   "execution_count": 14,
   "metadata": {},
   "outputs": [
    {
     "name": "stdout",
     "output_type": "stream",
     "text": [
      "Scotland\n"
     ]
    },
    {
     "data": {
      "application/vnd.jupyter.widget-view+json": {
       "model_id": "88167e0fff134a37b736819005b8909f"
      }
     },
     "metadata": {},
     "output_type": "display_data"
    }
   ],
   "source": [
    "reg = \"Scotland\"\n",
    "print(reg)\n",
    "sankey = SankeyWidget(links=links_by_reg_2005_2015[reg], margins=dict(top=0, bottom=0, left=70, right=70), scale=2 )\n",
    "sankey"
   ]
  },
  {
   "cell_type": "code",
   "execution_count": 15,
   "metadata": {},
   "outputs": [
    {
     "data": {
      "image/svg+xml": [
       "<svg height=\"400\" viewBox=\"0 0 600 400\" width=\"600\" xmlns=\"http://www.w3.org/2000/svg\"><g class=\"sankey\" transform=\"translate(70,0)\"><g class=\"groups\"/><g class=\"links\"><g class=\"link\" style=\"opacity: 0.8;\"><path d=\"M222.58411758363488,182.77555400180808 A94.22835413468285 94.22835413468285 0.5189587792342159 0 0 269.31914588461234,170.3690786810344 L412.2730191443982,88.71667214408366 A96.22835413468285 96.22835413468285 0.5189587792342159 0 1 460,76.0468689654756 L460,78.0468689654756 A94.22835413468285 94.22835413468285 0.5189587792342159 0 0 413.26497169902257,90.45334428624925 L270.31109843923673,172.10575082320003 A96.22835413468285 96.22835413468285 0.5189587792342159 0 1 222.58411758363488,184.77555400180808 Z\" style=\"fill: rgb(255, 255, 0);\"/><title>SNP2010 → CON2015\n",
       "507m</title></g><g class=\"link\" style=\"opacity: 0.8;\"><path d=\"M222.58411758363488,357.9525955123559 A308.8986962610858 308.8986962610858 0.1420870966571255 0 0 266.3271030996631,354.8396997226836 L415.9737955125388,333.43258046257944 A310.8986962610858 310.8986962610858 0.1420870966571255 0 1 460,330.299529872467 L460,332.299529872467 A308.8986962610858 308.8986962610858 0.1420870966571255 0 0 416.25701448397183,335.41242566213936 L266.6103220710961,356.8195449222435 A310.8986962610858 310.8986962610858 0.1420870966571255 0 1 222.58411758363488,359.9525955123559 Z\" style=\"fill: rgb(0, 255, 255);\"/><title>DK2010 → SNP2015\n",
       "525m</title></g><g class=\"link\" style=\"opacity: 0.8;\"><path d=\"M222.58411758363488,186.29174551111717 A385.9803739180875 385.9803739180875 0.11400266069825316 0 1 266.4916546153845,188.79724770779427 L416.31997472790823,205.95245916718994 A383.9803739180875 383.9803739180875 0.11400266069825316 0 0 460,208.4449788271062 L460,210.4449788271062 A385.9803739180875 385.9803739180875 0.11400266069825316 0 1 416.09246296825035,207.9394766304291 L266.2641428557266,190.78426517103344 A383.9803739180875 383.9803739180875 0.11400266069825316 0 0 222.58411758363488,188.29174551111717 Z\" style=\"fill: rgb(255, 255, 0);\"/><title>SNP2010 → LD2015\n",
       "535m</title></g><g class=\"link\" style=\"opacity: 0.8;\"><path d=\"M0,185.118803990394 A75.89611563151915 75.89611563151915 0.6470452427131916 0 0 45.75257173023697,169.7778082747205 L175.62588278752062,71.65170451587257 A77.89611563151915 77.89611563151915 0.6470452427131916 0 1 222.58411758363488,55.90644579970099 L222.58411758363488,57.90644579970099 A75.89611563151915 75.89611563151915 0.6470452427131916 0 0 176.8315458533979,73.24744151537449 L46.95823479611425,171.37354527422244 A77.89611563151915 77.89611563151915 0.6470452427131916 0 1 0,187.118803990394 Z\" style=\"fill: rgb(255, 255, 0);\"/><title>SNP2005 → DNV2010\n",
       "547m</title></g><g class=\"link\" style=\"opacity: 0.8;\"><path d=\"M222.58411758363488,39.568996888809814 A0 0 0 0 0 222.58411758363488,39.568996888809814 L460,39.568996888809814 A0 0 0 0 0 460,39.568996888809814 L460,41.568996888809814 A0 0 0 0 0 460,41.568996888809814 L222.58411758363488,41.568996888809814 A0 0 0 0 0 222.58411758363488,41.568996888809814 Z\" style=\"fill: rgb(128, 128, 128);\"/><title>DNV2010 → OTH2015\n",
       "569m</title></g><g class=\"link\" style=\"opacity: 0.8;\"><path d=\"M0,252.9034909102736 A209.49000066082706 209.49000066082706 0.19782298435502543 0 0 41.17216785517961,248.8177574178241 L181.0188792456131,220.7862449534706 A211.49000066082706 211.49000066082706 0.19782298435502543 0 1 222.58411758363488,216.66150498358007 L222.58411758363488,218.66150498358007 A209.49000066082706 209.49000066082706 0.19782298435502543 0 0 181.41194972845528,222.74723847602957 L41.565238338021786,250.77875094038308 A211.49000066082706 211.49000066082706 0.19782298435502543 0 1 0,254.9034909102736 Z\" style=\"fill: rgb(0, 0, 255);\"/><title>CON2005 → SNP2010\n",
       "590m</title></g><g class=\"link\" style=\"opacity: 0.8;\"><path d=\"M0,355.02141366472415 A106.61648788368716 106.61648788368716 0.41071388312532386 0 0 42.56811938780662,346.15476312329474 L179.21747030895497,286.646675514815 A108.61648788368716 108.61648788368716 0.41071388312532386 0 1 222.58411758363488,277.61369703073 L222.58411758363488,279.61369703073 A106.61648788368716 106.61648788368716 0.41071388312532386 0 0 180.01599819582825,288.4803475721594 L43.36664727467992,347.98843518063916 A108.61648788368716 108.61648788368716 0.41071388312532386 0 1 0,357.02141366472415 Z\" style=\"fill: rgb(0, 255, 255);\"/><title>DK2005 → CON2010\n",
       "616m</title></g><g class=\"link\" style=\"opacity: 0.8;\"><path d=\"M0,220.6323804142722 A233.77147459928958 233.77147459928958 0.1782884540132521 0 1 41.458299949500294,224.33796944678863 L181.4805084707353,249.57023152755676 A231.77147459928958 231.77147459928958 0.1782884540132521 0 0 222.58411758363488,253.2441178979852 L222.58411758363488,255.2441178979852 A233.77147459928958 233.77147459928958 0.1782884540132521 0 1 181.1258176341346,251.53852886546878 L41.1036091128996,226.30626678470065 A231.77147459928958 231.77147459928958 0.1782884540132521 0 0 0,222.6323804142722 Z\" style=\"fill: rgb(255, 255, 0);\"/><title>SNP2005 → CON2010\n",
       "620m</title></g><g class=\"link\" style=\"opacity: 0.8;\"><path d=\"M222.58411758363488,82.92616195242012 A205.84810126190146 205.84810126190146 0.21543452834551857 0 0 266.58866390580766,78.16769417795079 L415.5679098136632,45.56649035704711 A207.84810126190146 207.84810126190146 0.21543452834551857 0 1 460,40.76178977551958 L460,42.76178977551958 A205.84810126190146 205.84810126190146 0.21543452834551857 0 0 415.99545367782724,47.520257549988905 L267.0162077699717,80.12146137089259 A207.84810126190146 207.84810126190146 0.21543452834551857 0 1 222.58411758363488,84.92616195242012 Z\" style=\"fill: rgb(255, 0, 0);\"/><title>LAB2010 → OTH2015\n",
       "624m</title></g><g class=\"link\" style=\"opacity: 0.8;\"><path d=\"M0,310.0958409174223 A224.05147355345133 224.05147355345133 0.18459689127603518 0 0 41.12471259069745,306.2892783512749 L181.09230441610606,280.15415922398756 A226.05147355345133 226.05147355345133 0.18459689127603518 0 1 222.58411758363488,276.3136173002776 L222.58411758363488,278.3136173002776 A224.05147355345133 224.05147355345133 0.18459689127603518 0 0 181.45940499293744,282.120179866425 L41.49181316752884,308.25529899371236 A226.05147355345133 226.05147355345133 0.18459689127603518 0 1 0,312.0958409174223 Z\" style=\"fill: rgb(255, 165, 0);\"/><title>LD2005 → CON2010\n",
       "685m</title></g><g class=\"link\" style=\"opacity: 0.8;\"><path d=\"M222.58411758363488,46.967032444088176 A78.20101343425577 78.20101343425577 0.7233416661535341 0 1 274.34484204167035,66.5487154000454 L409.5630620809089,185.94607071013596 A76.20101343425577 76.20101343425577 0.7233416661535341 0 0 460,205.02694985048996 L460,207.02694985048996 A78.20101343425577 78.20101343425577 0.7233416661535341 0 1 408.23927554196456,187.44526689453275 L273.021055502726,68.04791158444216 A76.20101343425577 76.20101343425577 0.7233416661535341 0 0 222.58411758363488,48.967032444088176 Z\" style=\"fill: rgb(128, 128, 128);\"/><title>DNV2010 → LD2015\n",
       "690m</title></g><g class=\"link\" style=\"opacity: 0.8;\"><path d=\"M0,275.98781211746694 A199.19565248009016 199.19565248009016 0.21059506738695566 0 1 41.64022914143503,280.3887026453484 L181.3619721566082,310.2562685741486 A197.19565248009016 197.19565248009016 0.21059506738695566 0 0 222.58411758363488,314.61297248979145 L222.58411758363488,316.61297248979145 A199.19565248009016 199.19565248009016 0.21059506738695566 0 1 180.94388844219986,312.21208196191 L41.22214542702669,282.3445160331098 A197.19565248009016 197.19565248009016 0.21059506738695566 0 0 0,277.98781211746694 Z\" style=\"fill: rgb(0, 0, 255);\"/><title>CON2005 → LD2010\n",
       "729m</title></g><g class=\"link\" style=\"opacity: 0.8;\"><path d=\"M0,358.2138247828287 A0 0 0 0 0 0,358.2138247828287 L222.58411758363488,358.2138247828287 A0 0 0 0 0 222.58411758363488,358.2138247828287 L222.58411758363488,360.2138247828287 A0 0 0 0 0 222.58411758363488,360.2138247828287 L0,360.2138247828287 A0 0 0 0 0 0,360.2138247828287 Z\" style=\"fill: rgb(0, 255, 255);\"/><title>DK2005 → DK2010\n",
       "786m</title></g><g class=\"link\" style=\"opacity: 0.8;\"><path d=\"M222.58411758363488,330.7899899223853 A313.446172335713 313.446172335713 0.14090720045546612 0 1 266.6049310526369,333.896556449499 L416.26006929399983,355.12472327672583 A311.446172335713 311.446172335713 0.14090720045546612 0 0 460,358.2114677941849 L460,360.2114677941849 A313.446172335713 313.446172335713 0.14090720045546612 0 1 415.979186530998,357.1049012670712 L266.3240482896351,335.87673443984437 A311.446172335713 311.446172335713 0.14090720045546612 0 0 222.58411758363488,332.7899899223853 Z\" style=\"fill: rgb(255, 165, 0);\"/><title>LD2010 → GP2015\n",
       "789m</title></g><g class=\"link\" style=\"opacity: 0.8;\"><path d=\"M0,353.5867676193696 A74.8511752967843 74.8511752967843 0.6623456640604203 0 0 46.031094032156666,337.7596283207503 L175.3230871116122,236.92863988698096 A76.8511752967843 76.8511752967843 0.6623456640604203 0 1 222.58411758363488,220.6786043750193 L222.58411758363488,222.6786043750193 A74.8511752967843 74.8511752967843 0.6623456640604203 0 0 176.5530235514782,238.50574367363853 L47.261030472022675,339.33673210740795 A76.8511752967843 76.8511752967843 0.6623456640604203 0 1 0,355.5867676193696 Z\" style=\"fill: rgb(0, 255, 255);\"/><title>DK2005 → SNP2010\n",
       "819m</title></g><g class=\"link\" style=\"opacity: 0.8;\"><path d=\"M0,59.556171806527125 A68.09237762280534 68.09237762280534 1.032856123165344 0 1 58.475410354847405,92.76018067757042 L165.82623898186472,272.68787522134863 A66.09237762280534 66.09237762280534 1.032856123165344 0 0 222.58411758363488,304.91662048638375 L222.58411758363488,306.91662048638375 A68.09237762280534 68.09237762280534 1.032856123165344 0 1 164.10870722878747,273.71261161534045 L56.75787860177015,93.78491707156226 A66.09237762280534 66.09237762280534 1.032856123165344 0 0 0,61.556171806527125 Z\" style=\"fill: rgb(128, 128, 128);\"/><title>DNV2005 → LD2010\n",
       "838m</title></g><g class=\"link\" style=\"opacity: 0.8;\"><path d=\"M0,356.5323106400183 A277.6638381372825 277.6638381372825 0.14826295056274907 0 0 41.0166031393202,353.486107180552 L181.27207371703463,332.5376965602582 A279.6638381372825 279.6638381372825 0.14826295056274907 0 1 222.58411758363488,329.46955143579225 L222.58411758363488,331.46955143579225 A277.6638381372825 277.6638381372825 0.14826295056274907 0 0 181.56751444431467,334.51575489525857 L41.31204386660023,355.46416551555234 A279.6638381372825 279.6638381372825 0.14826295056274907 0 1 0,358.5323106400183 Z\" style=\"fill: rgb(0, 255, 255);\"/><title>DK2005 → LD2010\n",
       "895m</title></g><g class=\"link\" style=\"opacity: 0.8;\"><path d=\"M0,57.78125230793145 A69.86729712140101 69.86729712140101 0.876387482100111 0 1 53.688276280835645,82.93827994856564 L171.41755990543763,224.30809003887342 A66.58565585682587 66.58565585682587 0.876387482100111 0 0 222.58411758363488,248.28350133822974 L222.58411758363488,250.28350133822974 A68.58565585682587 68.58565585682587 0.876387482100111 0 1 169.8806956358052,225.58795261615555 L52.151412011203256,84.21814252584777 A67.86729712140101 67.86729712140101 0.876387482100111 0 0 0,59.78125230793145 Z\" style=\"fill: rgb(128, 128, 128);\"/><title>DNV2005 → CON2010\n",
       "937m</title></g><g class=\"link\" style=\"opacity: 0.8;\"><path d=\"M0,55.82277871562121 A79.20418356683201 79.20418356683201 0.6294658739669516 0 1 46.6285392839363,71.00288853878371 L177.14583374269955,166.0582393786742 A77.18239150457568 77.18239150457568 0.6294658739669516 0 0 222.58411758363488,180.85085672148364 L222.58411758363488,182.87264878373998 A79.20418356683201 79.20418356683201 0.6294658739669516 0 1 175.95557829969857,167.69253896057748 L45.43828384093532,72.637188120687 A77.18239150457568 77.18239150457568 0.6294658739669516 0 0 0,57.84457077787755 Z\" style=\"fill: rgb(128, 128, 128);\"/><title>DNV2005 → SNP2010\n",
       "1.01</title></g><g class=\"link\" style=\"opacity: 0.8;\"><path d=\"M222.58411758363488,41.13799377761963 A284.99890317560227 284.99890317560227 0.15537124307547057 0 1 266.68680896229506,44.57104777322106 L416.2334515259646,67.99508674281928 A282.8266919990596 282.8266919990596 0.15537124307547057 0 0 460,71.40197460874151 L460,73.57418578528419 A284.99890317560227 284.99890317560227 0.15537124307547057 0 1 415.8973086213398,70.14113178968275 L266.35066605767025,46.71709282008454 A282.8266919990596 282.8266919990596 0.15537124307547057 0 0 222.58411758363488,43.31020495416229 Z\" style=\"fill: rgb(128, 128, 128);\"/><title>DNV2010 → CON2015\n",
       "1.09</title></g><g class=\"link\" style=\"opacity: 0.8;\"><path d=\"M222.58411758363488,123.93663279035073 A115.6505904115806 115.6505904115806 0.4117064992267663 0 1 268.86445530085314,133.60048156257625 L414.59718647792647,197.23636574021702 A113.45773279050974 113.45773279050974 0.4117064992267663 0 0 460,206.71697770964167 L460,208.90983533071253 A115.6505904115806 115.6505904115806 0.4117064992267663 0 1 413.71966228278177,199.245986558487 L267.98693110570844,135.61010238084623 A113.45773279050974 113.45773279050974 0.4117064992267663 0 0 222.58411758363488,126.12949041142159 Z\" style=\"fill: rgb(255, 0, 0);\"/><title>LAB2010 → LD2015\n",
       "1.10</title></g><g class=\"link\" style=\"opacity: 0.8;\"><path d=\"M0,251.08264640277014 A84.99341285091035 84.99341285091035 0.5452255535374795 0 0 44.07851494792718,238.75948020088836 L177.3488203747125,157.9236853502058 A87.22395243246214 87.22395243246214 0.5452255535374795 0 1 222.58411758363488,145.27711396830668 L222.58411758363488,147.50765354985847 A84.99341285091035 84.99341285091035 0.5452255535374795 0 0 178.5056026357077,159.83081975174025 L45.23529720892238,240.6666146024228 A87.22395243246214 87.22395243246214 0.5452255535374795 0 1 0,253.31318598432193 Z\" style=\"fill: rgb(0, 0, 255);\"/><title>CON2005 → LAB2010\n",
       "1.12</title></g><g class=\"link\" style=\"opacity: 0.8;\"><path d=\"M0,351.382997418807 A65.95975450122458 65.95975450122458 0.9046623655191383 0 0 51.85865116244615,326.18314372062093 L168.8505897857248,177.3347899623449 A68.34443670608758 68.34443670608758 0.9046623655191383 0 1 222.58411758363488,151.22387097694494 L222.58411758363488,153.60855318180793 A65.95975450122458 65.95975450122458 0.9046623655191383 0 0 170.7254664211887,178.808406879994 L53.733527797910085,327.65676063827004 A68.34443670608758 68.34443670608758 0.9046623655191383 0 1 0,353.76767962367 Z\" style=\"fill: rgb(0, 255, 255);\"/><title>DK2005 → LAB2010\n",
       "1.19</title></g><g class=\"link\" style=\"opacity: 0.8;\"><path d=\"M222.58411758363488,180.85085672148364 A80.6226730664467 80.6226730664467 0.6495551392710757 0 0 271.34730625957286,164.4322866589262 L409.7743699688994,59.29655997327998 A83.0406021325643 83.0406021325643 0.6495551392710757 0 1 460,42.38558577341954 L460,44.803514839537165 A80.6226730664467 80.6226730664467 0.6495551392710757 0 0 411.236811324062,61.22208490209459 L272.80974761473544,166.35781158774083 A83.0406021325643 83.0406021325643 0.6495551392710757 0 1 222.58411758363488,183.26878578760125 Z\" style=\"fill: rgb(255, 255, 0);\"/><title>SNP2010 → OTH2015\n",
       "1.21</title></g><g class=\"link\" style=\"opacity: 0.8;\"><path d=\"M0,222.25243606555438 A97.17118475122358 97.17118475122358 0.4725971171543888 0 1 44.23234882655253,232.90345863915257 L179.47143455085214,302.0427466869531 A94.71146342526235 94.71146342526235 0.4725971171543888 0 0 222.58411758363488,312.4241569528013 L222.58411758363488,314.88387827876255 A97.17118475122358 97.17118475122358 0.4725971171543888 0 1 178.35176875708234,304.23285570516435 L43.11268303278276,235.09356765736385 A94.71146342526235 94.71146342526235 0.4725971171543888 0 0 0,224.71215739151563 Z\" style=\"fill: rgb(255, 255, 0);\"/><title>SNP2005 → LD2010\n",
       "1.23</title></g><g class=\"link\" style=\"opacity: 0.8;\"><path d=\"M222.58411758363488,184.2823222160149 A457.63953212799515 457.63953212799515 0.09547539824103635 0 0 266.21108296552444,182.19808778292935 L416.13716050421687,167.84018254569634 A460.11381192670376 460.11381192670376 0.09547539824103635 0 1 460,165.7446794638348 L460,168.21895926254336 A457.63953212799515 457.63953212799515 0.09547539824103635 0 0 416.37303461811047,170.30319369562892 L266.44695707941804,184.66109893286193 A460.11381192670376 460.11381192670376 0.09547539824103635 0 1 222.58411758363488,186.75660201472346 Z\" style=\"fill: rgb(255, 255, 0);\"/><title>SNP2010 → LAB2015\n",
       "1.24</title></g><g class=\"link\" style=\"opacity: 0.8;\"><path d=\"M222.58411758363488,305.078382517842 A70.56858966201554 70.56858966201554 0.8908142546340049 0 0 277.4571232093949,278.8818460028382 L403.1922172638781,123.39067455426691 A73.05678017448298 73.05678017448298 0.8908142546340049 0 1 460,96.27046967734282 L460,98.75866018981026 A70.56858966201554 70.56858966201554 0.8908142546340049 0 0 405.12699437424,124.95519670481404 L279.3919003197568,280.4463681533854 A73.05678017448298 73.05678017448298 0.8908142546340049 0 1 222.58411758363488,307.5665730303094 Z\" style=\"fill: rgb(255, 165, 0);\"/><title>LD2010 → CON2015\n",
       "1.24</title></g><g class=\"link\" style=\"opacity: 0.8;\"><path d=\"M0,307.80361276683686 A95.11500092352348 95.11500092352348 0.46964389264272577 0 0 43.046078276749725,297.5054648011649 L178.357872816517,228.8322955382029 A97.72270739331147 97.72270739331147 0.46964389264272577 0 1 222.58411758363488,218.25180990953174 L222.58411758363488,220.85951637931976 A95.11500092352348 95.11500092352348 0.46964389264272577 0 0 179.53803930688514,231.1576643449917 L44.226244767117905,299.8308336079537 A97.72270739331147 97.72270739331147 0.46964389264272577 0 1 0,310.4113192366249 Z\" style=\"fill: rgb(255, 165, 0);\"/><title>LD2005 → SNP2010\n",
       "1.30</title></g><g class=\"link\" style=\"opacity: 0.8;\"><path d=\"M222.58411758363488,84.54995795032006 A770.4914596532717 770.4914596532717 0.05660024598306834 0 0 266.17084270971253,83.31611885820533 L416.2454929747851,74.81277439380571 A773.4573746192564 773.4573746192564 0.05660024598306834 0 1 460,73.57418578528417 L460,76.54010075126878 A770.4914596532717 770.4914596532717 0.05660024598306834 0 0 416.4132748739224,77.77393984338352 L266.3386246088498,86.27728430778313 A773.4573746192564 773.4573746192564 0.05660024598306834 0 1 222.58411758363488,87.51587291630467 Z\" style=\"fill: rgb(255, 0, 0);\"/><title>LAB2010 → CON2015\n",
       "1.48</title></g><g class=\"link\" style=\"opacity: 0.8;\"><path d=\"M0,52.44231514028918 A247.1339242205522 247.1339242205522 0.16883066317135476 0 1 41.525852268999515,55.95608400832778 L181.6262837745563,79.83666077384461 A243.75346064522014 243.75346064522014 0.16883066317135476 0 0 222.58411758363488,83.30236595452016 L222.58411758363488,86.6828295298522 A247.1339242205522 247.1339242205522 0.16883066317135476 0 1 181.05826531463535,83.1690606618136 L40.95783380907859,59.28848389629675 A243.75346064522014 243.75346064522014 0.16883066317135476 0 0 0,55.82277871562121 Z\" style=\"fill: rgb(128, 128, 128);\"/><title>DNV2005 → LAB2010\n",
       "1.69</title></g><g class=\"link\" style=\"opacity: 0.8;\"><path d=\"M0,150.12834438548214 A90.9630619258449 90.9630619258449 0.5191003383601283 0 1 45.12670163583334,162.11128581005423 L179.14607776131348,238.68564859211162 A87.55918254742551 87.55918254742551 0.5191003383601283 0 0 222.58411758363488,250.22018286828364 L222.58411758363488,253.62406224670303 A90.9630619258449 90.9630619258449 0.5191003383601283 0 1 177.45741594780154,241.64112082213094 L43.438039822321386,165.06675804007355 A87.55918254742551 87.55918254742551 0.5191003383601283 0 0 0,153.53222376390153 Z\" style=\"fill: rgb(255, 0, 0);\"/><title>LAB2005 → CON2010\n",
       "1.70</title></g><g class=\"link\" style=\"opacity: 0.8;\"><path d=\"M222.58411758363488,275.26390140847275 A218.47149000690524 218.47149000690524 0.20520862651631044 0 1 267.10236192394433,279.8477623512037 L416.19165518173776,310.8789800743339 A214.9876867115355 214.9876867115355 0.20520862651631044 0 0 460,315.38974557629456 L460,318.8735488716643 A218.47149000690524 218.47149000690524 0.20520862651631044 0 1 415.4817556596906,314.28968792893335 L266.39246240189715,283.2584702058031 A214.9876867115355 214.9876867115355 0.20520862651631044 0 0 222.58411758363488,278.7477047038425 Z\" style=\"fill: rgb(0, 0, 255);\"/><title>CON2010 → SNP2015\n",
       "1.74</title></g><g class=\"link\" style=\"opacity: 0.8;\"><path d=\"M0,304.0873953397504 A69.09063353069995 69.09063353069995 0.7553240442502739 0 0 47.36333063387358,285.29815893616666 L172.6732283920843,167.30751735974064 A72.80685095778641 72.80685095778641 0.7553240442502739 0 1 222.58411758363488,147.50765354985847 L222.58411758363488,151.22387097694494 A69.09063353069995 69.09063353069995 0.7553240442502739 0 0 175.2207869497613,170.0131073805287 L49.91088919155056,288.00374895695467 A72.80685095778641 72.80685095778641 0.7553240442502739 0 1 0,307.80361276683686 Z\" style=\"fill: rgb(255, 165, 0);\"/><title>LD2005 → LAB2010\n",
       "1.86</title></g><g class=\"link\" style=\"opacity: 0.8;\"><path d=\"M0,87.76489878632343 A213.73071048473992 213.73071048473992 0.19288441272633494 0 0 40.970170466228474,83.80134906865851 L180.8630302140957,56.478510308198445 A217.64804842678956 217.64804842678956 0.19288441272633494 0 1 222.58411758363488,52.44231514028918 L222.58411758363488,56.35965308233881 A213.73071048473992 213.73071048473992 0.19288441272633494 0 0 181.6139471174064,60.32320280000372 L41.721087369539184,87.6460415604638 A217.64804842678956 217.64804842678956 0.19288441272633494 0 1 0,91.68223672837307 Z\" style=\"fill: rgb(255, 0, 0);\"/><title>LAB2005 → DNV2010\n",
       "1.96</title></g><g class=\"link\" style=\"opacity: 0.8;\"><path d=\"M222.58411758363488,43.31020495416229 A117.34056616641277 117.34056616641277 0.40831202597407357 0 1 269.17544313134715,52.956496193996976 L414.9837346298381,116.03692996258323 A113.3737665356386 113.3737665356386 0.40831202597407357 0 0 460,125.35711995901461 L460,129.32391958978877 A117.34056616641277 117.34056616641277 0.40831202597407357 0 1 413.4086744522877,119.67762834995409 L267.6003829537967,56.59719458136782 A113.3737665356386 113.3737665356386 0.40831202597407357 0 0 222.58411758363488,47.27700458493645 Z\" style=\"fill: rgb(128, 128, 128);\"/><title>DNV2010 → LAB2015\n",
       "1.98</title></g><g class=\"link\" style=\"opacity: 0.8;\"><path d=\"M222.58411758363488,271.2006512440188 A145.25782694838415 145.25782694838415 0.30947173163469 0 0 266.8231885998013,264.3001185933814 L414.52344377317013,217.0736813398524 A149.32107711283817 149.32107711283817 0.30947173163469 0 1 460,209.98012232349987 L460,214.0433724879539 A145.25782694838415 145.25782694838415 0.30947173163469 0 0 415.76092898383354,220.9439051385913 L268.0606738104647,268.17034239212023 A149.32107711283817 149.32107711283817 0.30947173163469 0 1 222.58411758363488,275.26390140847275 Z\" style=\"fill: rgb(0, 0, 255);\"/><title>CON2010 → LD2015\n",
       "2.03</title></g><g class=\"link\" style=\"opacity: 0.8;\"><path d=\"M222.58411758363488,267.06365230583623 A98.29587902727937 98.29587902727937 0.48444160394652114 0 0 268.36191287759846,255.75325075479716 L412.2955451919494,180.00538401689582 A102.4328779654619 102.4328779654619 0.48444160394652114 0 1 460,168.2189592625434 L460,172.35595820072595 A98.29587902727937 98.29587902727937 0.48444160394652114 0 0 414.22220470603645,183.666359751765 L270.28857239168553,259.41422648966636 A102.4328779654619 102.4328779654619 0.48444160394652114 0 1 222.58411758363488,271.20065124401873 Z\" style=\"fill: rgb(0, 0, 255);\"/><title>CON2010 → LAB2015\n",
       "2.07</title></g><g class=\"link\" style=\"opacity: 0.8;\"><path d=\"M222.58411758363488,313.9490770517174 A97.03943623814064 97.03943623814064 0.48913325719485945 0 0 268.17915984795974,302.57027533335247 L411.9845415631839,226.02621873254247 A102.19078184888934 102.19078184888934 0.48913325719485945 0 1 460,214.0433724879539 L460,219.1947180987026 A97.03943623814064 97.03943623814064 0.48913325719485945 0 0 414.40495773567517,230.5735198170675 L270.599576020451,307.11757641787756 A102.19078184888934 102.19078184888934 0.48913325719485945 0 1 222.58411758363488,319.10042266246614 Z\" style=\"fill: rgb(255, 165, 0);\"/><title>LD2010 → LD2015\n",
       "2.58</title></g><g class=\"link\" style=\"opacity: 0.8;\"><path d=\"M0,153.53222376390153 A74.31971279329493 74.31971279329493 0.7426622802825013 0 1 50.25881948583647,173.10277424791585 L176.1591698810296,288.6771998066239 A68.65041429541917 68.65041429541917 0.7426622802825013 0 0 222.58411758363488,306.7548584549255 L222.58411758363488,312.42415695280124 A74.31971279329493 74.31971279329493 0.7426622802825013 0 1 172.32529809779842,292.8536064687869 L46.42494770260525,177.2791809100789 A68.65041429541917 68.65041429541917 0.7426622802825013 0 0 0,159.20152226177726 Z\" style=\"fill: rgb(255, 0, 0);\"/><title>LAB2005 → LD2010\n",
       "2.83</title></g><g class=\"link\" style=\"opacity: 0.8;\"><path d=\"M0,144.0360988293701 A200.22622917071715 200.22622917071715 0.21172587320372482 0 1 42.07705068364004,148.5072140089301 L181.78733735258945,178.53757537900816 A194.13398361460509 194.13398361460509 0.21172587320372482 0 0 222.58411758363488,182.87264878373998 L222.58411758363488,188.96489433985204 A200.22622917071715 200.22622917071715 0.21172587320372482 0 1 180.50706689999484,184.49377916029204 L40.79678023104543,154.46341779021398 A194.13398361460509 194.13398361460509 0.21172587320372482 0 0 0,150.12834438548217 Z\" style=\"fill: rgb(255, 0, 0);\"/><title>LAB2005 → SNP2010\n",
       "3.05</title></g><g class=\"link\" style=\"opacity: 0.8;\"><path d=\"M0,186.66559670775618 A160.05444689547195 160.05444689547195 0.2584319063945266 0 0 40.90429015219702,181.35049522307602 L180.08499485468155,144.559025583444 A166.29486923292941 166.29486923292941 0.2584319063945266 0 1 222.58411758363488,139.03669163084925 L222.58411758363488,145.2771139683067 A160.05444689547195 160.05444689547195 0.2584319063945266 0 0 181.67982743143784,150.59221545298686 L42.499122728953324,187.3836850926189 A166.29486923292941 166.29486923292941 0.2584319063945266 0 1 0,192.90601904521364 Z\" style=\"fill: rgb(255, 255, 0);\"/><title>SNP2005 → LAB2010\n",
       "3.12</title></g><g class=\"link\" style=\"opacity: 0.8;\"><path d=\"M222.58411758363488,307.5665730303094 A79.62200752541335 79.62200752541335 0.6367911447102247 0 0 269.9288412003295,291.9612916632665 L408.86012102026643,189.21215968616158 A86.0045115468213 86.0045115468213 0.6367911447102247 0 1 460,172.35595820072592 L460,178.73846222213388 A79.62200752541335 79.62200752541335 0.6367911447102247 0 0 412.65527638330536,194.34374358917685 L273.7239965633684,297.0928755662817 A86.0045115468213 86.0045115468213 0.6367911447102247 0 1 222.58411758363488,313.9490770517174 Z\" style=\"fill: rgb(255, 165, 0);\"/><title>LD2010 → LAB2015\n",
       "3.19</title></g><g class=\"link\" style=\"opacity: 0.8;\"><path d=\"M222.58411758363488,48.65706030323991 A76.27891165868004 76.27891165868004 0.8551924982185225 0 1 280.1516003895161,74.89141893936532 L408.1978375157612,222.186161502072 A68.6396622410621 68.6396622410621 0.8551924982185225 0 0 460,245.79317786790696 L460,253.43242728552494 A76.27891165868004 76.27891165868004 0.8551924982185225 0 1 402.43251719411876,227.19806864939952 L274.38628006787366,79.90332608669281 A68.6396622410621 68.6396622410621 0.8551924982185225 0 0 222.58411758363488,56.29630972085787 Z\" style=\"fill: rgb(128, 128, 128);\"/><title>DNV2010 → SNP2015\n",
       "3.82</title></g><g class=\"link\" style=\"opacity: 0.8;\"><path d=\"M222.58411758363488,319.1004226624661 A37261.258155666415 37261.258155666415 0.0011707470397168684 0 0 266.2076153000912,319.07488661914164 L416.36256918516744,318.89909307105654 A37273.15919072052 37273.15919072052 0.0011707470397168684 0 1 460,318.8735488716643 L460,330.7745839257685 A37261.258155666415 37261.258155666415 0.0011707470397168684 0 0 416.3765022835437,330.800119969093 L266.22154839846746,330.97591351717807 A37273.15919072052 37273.15919072052 0.0011707470397168684 0 1 222.58411758363488,331.0014577165703 Z\" style=\"fill: rgb(255, 165, 0);\"/><title>LD2010 → SNP2015\n",
       "5.95</title></g><g class=\"link\" style=\"opacity: 0.8;\"><path d=\"M0,40 A0 0 0 0 0 0,40 L222.58411758363488,40 A0 0 0 0 0 222.58411758363488,40 L222.58411758363488,52.44231514028918 A0 0 0 0 0 222.58411758363488,52.44231514028918 L0,52.44231514028918 A0 0 0 0 0 0,52.44231514028918 Z\" style=\"fill: rgb(128, 128, 128);\"/><title>DNV2005 → DNV2010\n",
       "6.22</title></g><g class=\"link\" style=\"opacity: 0.8;\"><path d=\"M0,311.7803625982197 A1636.4181412769133 1636.4181412769133 0.02510518542617013 0 1 41.07826548549745,312.29602841857616 L181.83801267787436,315.830570575942 A1623.1859954675804 1623.1859954675804 0.02510518542617013 0 0 222.58411758363488,316.3420667008204 L222.58411758363488,329.5742125101532 A1636.4181412769133 1636.4181412769133 0.02510518542617013 0 1 181.50585209813744,329.05854668979674 L40.74610490576051,325.5240045324309 A1623.1859954675804 1623.1859954675804 0.02510518542617013 0 0 0,325.0125084075525 Z\" style=\"fill: rgb(255, 165, 0);\"/><title>LD2005 → LD2010\n",
       "6.62</title></g><g class=\"link\" style=\"opacity: 0.8;\"><path d=\"M222.58411758363488,248.34681980817587 A65.76455804631694 65.76455804631694 0.7799530297890012 0 0 268.8327817251365,229.3373487594678 L395.4605715355534,104.08111466835933 A91.77361267214337 91.77361267214337 0.7799530297890012 0 1 460,77.55363717968243 L460,96.27046967734282 A73.05678017448298 73.05678017448298 0.7799530297890012 0 0 408.6231096213015,117.38778254152379 L281.9953198108846,242.64401663263223 A84.48139054397733 84.48139054397733 0.7799530297890012 0 1 222.58411758363488,267.0636523058363 Z\" style=\"fill: rgb(0, 0, 255);\"/><title>CON2010 → CON2015\n",
       "9.36</title></g><g class=\"link\" style=\"opacity: 0.8;\"><path d=\"M0,254.49379583622527 A20075.734436012244 20075.734436012244 0.00203863241761737 0 1 40.927014679788364,254.53551342011394 L181.70147354881152,254.82250119311198 A20053.96951394203 20053.96951394203 0.00203863241761737 0 0 222.58411758363488,254.86417354926738 L222.58411758363488,276.6290956194801 A20075.734436012244 20075.734436012244 0.00203863241761737 0 1 181.65710290384652,276.5873780355914 L40.882644034823365,276.3003902625934 A20053.96951394203 20053.96951394203 0.00203863241761737 0 0 0,276.258717906438 Z\" style=\"fill: rgb(0, 0, 255);\"/><title>CON2005 → CON2010\n",
       "10.9</title></g><g class=\"link\" style=\"opacity: 0.8;\"><path d=\"M0,192.9060190452136 A1872.18081216918 1872.18081216918 0.02169058376972921 0 0 40.605510540585094,192.46562316462496 L181.36901266751627,189.41190170859196 A1900.2871178869561 1900.2871178869561 0.02169058376972921 0 1 222.58411758363488,188.964894339852 L222.58411758363488,217.07120005762843 A1872.18081216918 1872.18081216918 0.02169058376972921 0 0 181.97860704304978,217.51159593821708 L41.2151049161186,220.5653173942501 A1900.2871178869561 1900.2871178869561 0.02169058376972921 0 1 0,221.01232476299003 Z\" style=\"fill: rgb(255, 255, 0);\"/><title>SNP2005 → SNP2010\n",
       "14.1</title></g><g class=\"link\" style=\"opacity: 0.8;\"><path d=\"M222.58411758363488,126.12949041142157 A99.94750755779253 99.94750755779253 0.6107119795105038 0 1 279.8991044908878,144.19600785040558 L416.25779041574623,239.6442466556937 A76.27891165868004 76.27891165868004 0.6107119795105038 0 0 460,253.43242728552488 L460,282.30466615813 A105.15115053128514 105.15115053128514 0.6107119795105038 0 1 399.70097941163414,263.29753790428913 L263.3422934867757,167.84929909900097 A71.07526868518744 71.07526868518744 0.6107119795105038 0 0 222.58411758363488,155.00172928402668 Z\" style=\"fill: rgb(255, 0, 0);\"/><title>LAB2010 → SNP2015\n",
       "14.4</title></g><g class=\"link\" style=\"opacity: 0.8;\"><path d=\"M222.58411758363488,187.82688900751083 A120.20557069059933 120.20557069059933 0.47756722144390396 0 1 277.832995847182,201.2760047378951 L411.670433561452,270.5399036387761 A105.15115053128514 105.15115053128514 0.47756722144390396 0 0 460,282.30466615813003 L460,315.3897455762945 A138.23622994944964 138.23622994944964 0.47756722144390396 0 1 396.463871048481,299.92328221655976 L262.626433334211,230.65938331567878 A87.12049127243483 87.12049127243483 0.47756722144390396 0 0 222.58411758363488,220.9119684256753 Z\" style=\"fill: rgb(255, 255, 0);\"/><title>SNP2010 → SNP2015\n",
       "16.5</title></g><g class=\"link\" style=\"opacity: 0.8;\"><path d=\"M222.58411758363488,87.51587291630469 A226.71407221924812 226.71407221924812 0.2136491346096725 0 1 270.65372882987117,92.67051063349834 L419.65259034143065,124.99735496350613 A190.29331234520208 190.29331234520208 0.2136491346096725 0 0 460,129.32391958978877 L460,165.7446794638348 A226.71407221924812 226.71407221924812 0.2136491346096725 0 1 411.9303887537637,160.59004174664116 L262.9315272422042,128.26319741663337 A190.29331234520208 190.29331234520208 0.2136491346096725 0 0 222.58411758363488,123.93663279035073 Z\" style=\"fill: rgb(255, 0, 0);\"/><title>LAB2010 → LAB2015\n",
       "18.2</title></g><g class=\"link\" style=\"opacity: 0.8;\"><path d=\"M0,91.68223672837306 A1461.0599003728587 1461.0599003728587 0.0275133291145917 0 0 40.193550472941894,91.12927265466342 L180.95031979552618,87.25560785269316 A1513.4137624738557 1513.4137624738557 0.0275133291145917 0 1 222.58411758363488,86.68282952985219 L222.58411758363488,139.03669163084925 A1461.0599003728587 1461.0599003728587 0.0275133291145917 0 0 182.39056711069298,139.58965570455888 L41.63379778810868,143.46332050652913 A1513.4137624738557 1513.4137624738557 0.0275133291145917 0 1 0,144.0360988293701 Z\" style=\"fill: rgb(255, 0, 0);\"/><title>LAB2005 → LAB2010\n",
       "26.2</title></g></g><g class=\"nodes\"><g class=\"node\" transform=\"translate(0,40)\"><title>DNV2005</title><text dy=\".35em\" text-anchor=\"end\" transform=\"translate(-4, 10.69720458984375)\">DNV2005</text><line style=\"stroke: rgb(0, 0, 0);\" x1=\"0\" x2=\"0\" y1=\"0\" y2=\"21.394409775068894\"/><rect height=\"26.394409775068894\" style=\"fill: none; visibility: hidden; pointer-events: all;\" width=\"10\" x=\"-5\" y=\"-5\"/></g><g class=\"node\" transform=\"translate(222.58411758363488,40)\"><title>DNV2010</title><text dy=\".35em\" text-anchor=\"start\" transform=\"translate(-4, -10)\">DNV2010</text><line style=\"stroke: rgb(0, 0, 0);\" x1=\"0\" x2=\"0\" y1=\"-5\" y2=\"17.453238517063173\"/><rect height=\"22.453238517063173\" style=\"fill: none; visibility: hidden; pointer-events: all;\" width=\"10\" x=\"-5\" y=\"-5\"/></g><g class=\"node\" transform=\"translate(0,87.76489878632343)\"><title>LAB2005</title><text dy=\".35em\" text-anchor=\"end\" transform=\"translate(-4, 35.71831130981445)\">LAB2005</text><line style=\"stroke: rgb(0, 0, 0);\" x1=\"0\" x2=\"0\" y1=\"0\" y2=\"71.43662347545386\"/><rect height=\"76.43662347545386\" style=\"fill: none; visibility: hidden; pointer-events: all;\" width=\"10\" x=\"-5\" y=\"-5\"/></g><g class=\"node\" transform=\"translate(0,185.57201127303182)\"><title>SNP2005</title><text dy=\".35em\" text-anchor=\"end\" transform=\"translate(-4, 19.570072174072266)\">SNP2005</text><line style=\"stroke: rgb(0, 0, 0);\" x1=\"0\" x2=\"0\" y1=\"0\" y2=\"39.14014611848378\"/><rect height=\"44.14014611848378\" style=\"fill: none; visibility: hidden; pointer-events: all;\" width=\"10\" x=\"-5\" y=\"-5\"/></g><g class=\"node\" transform=\"translate(222.58411758363488,248.34681980817584)\"><title>CON2010</title><text dy=\".35em\" text-anchor=\"start\" transform=\"translate(-4, -10)\">CON2010</text><line style=\"stroke: rgb(0, 0, 0);\" x1=\"0\" x2=\"0\" y1=\"-5\" y2=\"30.882435272209197\"/><rect height=\"35.88243527220919\" style=\"fill: none; visibility: hidden; pointer-events: all;\" width=\"10\" x=\"-5\" y=\"-5\"/></g><g class=\"node\" transform=\"translate(0,251.08264640277014)\"><title>CON2005</title><text dy=\".35em\" text-anchor=\"end\" transform=\"translate(-4, 13.317130088806152)\">CON2005</text><line style=\"stroke: rgb(0, 0, 0);\" x1=\"0\" x2=\"0\" y1=\"0\" y2=\"26.63425992572575\"/><rect height=\"31.63425992572575\" style=\"fill: none; visibility: hidden; pointer-events: all;\" width=\"10\" x=\"-5\" y=\"-5\"/></g><g class=\"node\" transform=\"translate(0,304.0873953397504)\"><title>LD2005</title><text dy=\".35em\" text-anchor=\"end\" transform=\"translate(-4, 10.462556838989258)\">LD2005</text><line style=\"stroke: rgb(0, 0, 0);\" x1=\"0\" x2=\"0\" y1=\"0\" y2=\"20.925113067802098\"/><rect height=\"25.925113067802098\" style=\"fill: none; visibility: hidden; pointer-events: all;\" width=\"10\" x=\"-5\" y=\"-5\"/></g><g class=\"node\" transform=\"translate(0,351.382997418807)\"><title>DK2005</title><text dy=\".35em\" text-anchor=\"end\" transform=\"translate(-4, 4.308501243591309)\">DK2005</text><line style=\"stroke: rgb(0, 0, 0);\" x1=\"0\" x2=\"0\" y1=\"0\" y2=\"8.617002581192946\"/><rect height=\"13.617002581192946\" style=\"fill: none; visibility: hidden; pointer-events: all;\" width=\"10\" x=\"-5\" y=\"-5\"/></g><g class=\"node\" transform=\"translate(222.58411758363488,83.30236595452016)\"><title>LAB2010</title><text dy=\".35em\" text-anchor=\"start\" transform=\"translate(-4, -10)\">LAB2010</text><line style=\"stroke: rgb(0, 0, 0);\" x1=\"0\" x2=\"0\" y1=\"-5\" y2=\"71.69936332950651\"/><rect height=\"76.69936332950651\" style=\"fill: none; visibility: hidden; pointer-events: all;\" width=\"10\" x=\"-5\" y=\"-5\"/></g><g class=\"node\" transform=\"translate(222.58411758363488,305.078382517842)\"><title>LD2010</title><text dy=\".35em\" text-anchor=\"start\" transform=\"translate(-4, -10)\">LD2010</text><line style=\"stroke: rgb(0, 0, 0);\" x1=\"0\" x2=\"0\" y1=\"-5\" y2=\"27.50013961035841\"/><rect height=\"32.50013961035841\" style=\"fill: none; visibility: hidden; pointer-events: all;\" width=\"10\" x=\"-5\" y=\"-5\"/></g><g class=\"node\" transform=\"translate(222.58411758363488,180.85085672148364)\"><title>SNP2010</title><text dy=\".35em\" text-anchor=\"start\" transform=\"translate(-4, -10)\">SNP2010</text><line style=\"stroke: rgb(0, 0, 0);\" x1=\"0\" x2=\"0\" y1=\"-5\" y2=\"41.64683564923522\"/><rect height=\"46.64683564923522\" style=\"fill: none; visibility: hidden; pointer-events: all;\" width=\"10\" x=\"-5\" y=\"-5\"/></g><g class=\"node\" transform=\"translate(222.58411758363488,358.42764956565736)\"><title>DK2010</title><text dy=\".35em\" text-anchor=\"start\" transform=\"translate(-4, -10)\">DK2010</text><line style=\"stroke: rgb(0, 0, 0);\" x1=\"0\" x2=\"0\" y1=\"-5\" y2=\"1.5723504343426187\"/><rect height=\"6.572350434342619\" style=\"fill: none; visibility: hidden; pointer-events: all;\" width=\"10\" x=\"-5\" y=\"-5\"/></g><g class=\"node\" transform=\"translate(460,71.40197460874151)\"><title>CON2015</title><text dy=\".35em\" text-anchor=\"start\" transform=\"translate(4, 13.678342819213867)\">CON2015</text><line style=\"stroke: rgb(0, 0, 0);\" x1=\"0\" x2=\"0\" y1=\"0\" y2=\"27.35668558106874\"/><rect height=\"32.35668558106874\" style=\"fill: none; visibility: hidden; pointer-events: all;\" width=\"10\" x=\"-5\" y=\"-5\"/></g><g class=\"node\" transform=\"translate(460,125.35711995901461)\"><title>LAB2015</title><text dy=\".35em\" text-anchor=\"start\" transform=\"translate(4, 26.690671920776367)\">LAB2015</text><line style=\"stroke: rgb(0, 0, 0);\" x1=\"0\" x2=\"0\" y1=\"0\" y2=\"53.381342263119265\"/><rect height=\"58.381342263119265\" style=\"fill: none; visibility: hidden; pointer-events: all;\" width=\"10\" x=\"-5\" y=\"-5\"/></g><g class=\"node\" transform=\"translate(460,205.33692199133822)\"><title>LD2015</title><text dy=\".35em\" text-anchor=\"start\" transform=\"translate(4, 6.928897857666016)\">LD2015</text><line style=\"stroke: rgb(0, 0, 0);\" x1=\"0\" x2=\"0\" y1=\"0\" y2=\"13.857796107364392\"/><rect height=\"18.857796107364393\" style=\"fill: none; visibility: hidden; pointer-events: all;\" width=\"10\" x=\"-5\" y=\"-5\"/></g><g class=\"node\" transform=\"translate(460,245.79317786790696)\"><title>SNP2015</title><text dy=\".35em\" text-anchor=\"start\" transform=\"translate(4, 43.015647888183594)\">SNP2015</text><line style=\"stroke: rgb(0, 0, 0);\" x1=\"0\" x2=\"0\" y1=\"0\" y2=\"86.03129795125855\"/><rect height=\"91.03129795125855\" style=\"fill: none; visibility: hidden; pointer-events: all;\" width=\"10\" x=\"-5\" y=\"-5\"/></g><g class=\"node\" transform=\"translate(460,358.42293558836985)\"><title>GP2015</title><text dy=\".35em\" text-anchor=\"start\" transform=\"translate(4, 0.7885321974754333)\">GP2015</text><line style=\"stroke: rgb(0, 0, 0);\" x1=\"0\" x2=\"0\" y1=\"0\" y2=\"1.5770644116301116\"/><rect height=\"6.577064411630111\" style=\"fill: none; visibility: hidden; pointer-events: all;\" width=\"10\" x=\"-5\" y=\"-5\"/></g><g class=\"node\" transform=\"translate(460,40)\"><title>OTH2015</title><text dy=\".35em\" text-anchor=\"start\" transform=\"translate(4, 2.4017574787139893)\">OTH2015</text><line style=\"stroke: rgb(0, 0, 0);\" x1=\"0\" x2=\"0\" y1=\"0\" y2=\"4.803514839537161\"/><rect height=\"9.803514839537161\" style=\"fill: none; visibility: hidden; pointer-events: all;\" width=\"10\" x=\"-5\" y=\"-5\"/></g></g><g class=\"slice-titles\"/></g></svg>"
      ],
      "text/plain": [
       "<IPython.core.display.SVG object>"
      ]
     },
     "execution_count": 15,
     "metadata": {},
     "output_type": "execute_result"
    }
   ],
   "source": [
    "SVG(sankey.svg)"
   ]
  },
  {
   "cell_type": "code",
   "execution_count": 17,
   "metadata": {
    "collapsed": true
   },
   "outputs": [],
   "source": [
    "sankey.save_png(filename=\"scotland.png\")"
   ]
  },
  {
   "cell_type": "code",
   "execution_count": null,
   "metadata": {
    "collapsed": true
   },
   "outputs": [],
   "source": []
  },
  {
   "cell_type": "code",
   "execution_count": null,
   "metadata": {
    "collapsed": true
   },
   "outputs": [],
   "source": []
  },
  {
   "cell_type": "code",
   "execution_count": 9,
   "metadata": {},
   "outputs": [
    {
     "name": "stdout",
     "output_type": "stream",
     "text": [
      "BES_numeric (31409, 659)\n"
     ]
    }
   ],
   "source": [
    "BES_numeric = pd.read_hdf( BES_data_folder+\"BESW8numeric.hdf\", \"BESW8numeric\" )\n",
    "print(\"BES_numeric\",  BES_numeric.shape )"
   ]
  },
  {
   "cell_type": "code",
   "execution_count": 10,
   "metadata": {},
   "outputs": [
    {
     "name": "stdout",
     "output_type": "stream",
     "text": [
      "cat_dictionary 650\n"
     ]
    }
   ],
   "source": [
    "fname = BES_data_folder+\"cat_dictionary\"+\".pkl\"\n",
    "with open(fname, \"rb\") as f:\n",
    "    cat_dictionary = pickle.load( f )\n",
    "print(\"cat_dictionary\", len( cat_dictionary ) )"
   ]
  },
  {
   "cell_type": "code",
   "execution_count": 13,
   "metadata": {},
   "outputs": [
    {
     "name": "stdout",
     "output_type": "stream",
     "text": [
      "BES_reduced_with_na (31409, 454)\n"
     ]
    }
   ],
   "source": [
    "BES_reduced_with_na = pd.read_hdf(BES_data_folder+\"BES_reduced_with_na.hdf\",\"BES_reduced_with_na\")\n",
    "print(\"BES_reduced_with_na\",  BES_reduced_with_na.shape )"
   ]
  },
  {
   "cell_type": "code",
   "execution_count": null,
   "metadata": {
    "collapsed": true
   },
   "outputs": [],
   "source": []
  },
  {
   "cell_type": "code",
   "execution_count": null,
   "metadata": {
    "collapsed": true
   },
   "outputs": [],
   "source": []
  },
  {
   "cell_type": "code",
   "execution_count": null,
   "metadata": {
    "collapsed": true
   },
   "outputs": [],
   "source": []
  },
  {
   "cell_type": "code",
   "execution_count": null,
   "metadata": {
    "collapsed": true
   },
   "outputs": [],
   "source": []
  },
  {
   "cell_type": "code",
   "execution_count": 14,
   "metadata": {},
   "outputs": [
    {
     "name": "stdout",
     "output_type": "stream",
     "text": [
      "profile_past_vote_2005\n"
     ]
    },
    {
     "name": "stderr",
     "output_type": "stream",
     "text": [
      "C:\\ANACON~1\\envs\\BES_analysis\\lib\\site-packages\\pandas\\indexes\\base.py:1264: VisibleDeprecationWarning: using a non-integer number instead of an integer will result in an error in the future\n",
      "  return getitem(key)\n",
      "C:\\ANACON~1\\envs\\BES_analysis\\lib\\site-packages\\ipykernel\\__main__.py:10: SettingWithCopyWarning: \n",
      "A value is trying to be set on a copy of a slice from a DataFrame.\n",
      "Try using .loc[row_indexer,col_indexer] = value instead\n",
      "\n",
      "See the caveats in the documentation: http://pandas.pydata.org/pandas-docs/stable/indexing.html#indexing-view-versus-copy\n"
     ]
    },
    {
     "name": "stdout",
     "output_type": "stream",
     "text": [
      "profile_past_vote_2010\n",
      "profile_past_vote_2015\n",
      "generalElectionVote\n",
      "generalElectionVoteW9\n"
     ]
    }
   ],
   "source": [
    "# for development, lets pare down the BES_Panel dataset to just the columns we're working with now\n",
    "cols = ['profile_past_vote_2005',\n",
    "        'profile_past_vote_2010',\n",
    "        'profile_past_vote_2015',\n",
    "        'generalElectionVote',\n",
    "        'generalElectionVoteW9']\n",
    "BES = BES_numeric[cols]\n",
    "for col in cols:\n",
    "    print(col)\n",
    "    BES[col] = BES_numeric[col].apply( lambda x: replace_dict[cat_dictionary[col][x]]  if not np.isnan(x) else np.nan )"
   ]
  },
  {
   "cell_type": "code",
   "execution_count": 15,
   "metadata": {
    "collapsed": true
   },
   "outputs": [],
   "source": [
    "swingers = BES.apply(lambda x: len(x.dropna().unique())-1,axis=1)\n",
    "swingers[swingers==-1]=0"
   ]
  },
  {
   "cell_type": "code",
   "execution_count": 16,
   "metadata": {},
   "outputs": [
    {
     "data": {
      "text/plain": [
       "19"
      ]
     },
     "execution_count": 16,
     "metadata": {},
     "output_type": "execute_result"
    }
   ],
   "source": [
    "gc.collect()"
   ]
  },
  {
   "cell_type": "code",
   "execution_count": 31,
   "metadata": {},
   "outputs": [
    {
     "data": {
      "text/plain": [
       "0        UKIP\n",
       "1         CON\n",
       "2         NaN\n",
       "3         LAB\n",
       "4         CON\n",
       "5         CON\n",
       "6         CON\n",
       "7         SNP\n",
       "8        UKIP\n",
       "9        UKIP\n",
       "10        LAB\n",
       "11        CON\n",
       "12        CON\n",
       "13       UKIP\n",
       "14       UKIP\n",
       "15        SNP\n",
       "16        CON\n",
       "17        LAB\n",
       "18       UKIP\n",
       "19        LAB\n",
       "20        CON\n",
       "21        SNP\n",
       "22        LAB\n",
       "23        NaN\n",
       "24        CON\n",
       "25        NaN\n",
       "26        CON\n",
       "27        CON\n",
       "28         GP\n",
       "29        CON\n",
       "         ... \n",
       "31379     LAB\n",
       "31380     LAB\n",
       "31381      GP\n",
       "31382     LAB\n",
       "31383      GP\n",
       "31384    UKIP\n",
       "31385      GP\n",
       "31386     LAB\n",
       "31387     LAB\n",
       "31388     NaN\n",
       "31389     NaN\n",
       "31390     LAB\n",
       "31391     CON\n",
       "31392      GP\n",
       "31393      LD\n",
       "31394     LAB\n",
       "31395     LAB\n",
       "31396     NaN\n",
       "31397    UKIP\n",
       "31398     CON\n",
       "31399     NaN\n",
       "31400     NaN\n",
       "31401     LAB\n",
       "31402     NaN\n",
       "31403      LD\n",
       "31404     LAB\n",
       "31405      PC\n",
       "31406    UKIP\n",
       "31407     LAB\n",
       "31408     LAB\n",
       "Name: generalElectionVote, dtype: object"
      ]
     },
     "execution_count": 31,
     "metadata": {},
     "output_type": "execute_result"
    }
   ],
   "source": []
  },
  {
   "cell_type": "code",
   "execution_count": 32,
   "metadata": {},
   "outputs": [
    {
     "data": {
      "text/plain": [
       "25238"
      ]
     },
     "execution_count": 32,
     "metadata": {},
     "output_type": "execute_result"
    }
   ],
   "source": [
    "party_now = BES[\"generalElectionVote\"] ## on even of EU referendum!\n",
    "party_now.notnull().sum()"
   ]
  },
  {
   "cell_type": "code",
   "execution_count": 33,
   "metadata": {},
   "outputs": [
    {
     "data": {
      "text/plain": [
       "0        False\n",
       "1        False\n",
       "2        False\n",
       "3         True\n",
       "4        False\n",
       "5        False\n",
       "6        False\n",
       "7        False\n",
       "8        False\n",
       "9        False\n",
       "10        True\n",
       "11       False\n",
       "12       False\n",
       "13       False\n",
       "14       False\n",
       "15       False\n",
       "16       False\n",
       "17        True\n",
       "18       False\n",
       "19        True\n",
       "20       False\n",
       "21       False\n",
       "22        True\n",
       "23       False\n",
       "24       False\n",
       "25       False\n",
       "26       False\n",
       "27       False\n",
       "28       False\n",
       "29       False\n",
       "         ...  \n",
       "31379     True\n",
       "31380     True\n",
       "31381    False\n",
       "31382     True\n",
       "31383    False\n",
       "31384    False\n",
       "31385    False\n",
       "31386     True\n",
       "31387     True\n",
       "31388    False\n",
       "31389    False\n",
       "31390     True\n",
       "31391    False\n",
       "31392    False\n",
       "31393    False\n",
       "31394     True\n",
       "31395     True\n",
       "31396    False\n",
       "31397    False\n",
       "31398    False\n",
       "31399    False\n",
       "31400    False\n",
       "31401     True\n",
       "31402    False\n",
       "31403    False\n",
       "31404     True\n",
       "31405    False\n",
       "31406    False\n",
       "31407     True\n",
       "31408     True\n",
       "Name: generalElectionVote, dtype: bool"
      ]
     },
     "execution_count": 33,
     "metadata": {},
     "output_type": "execute_result"
    }
   ],
   "source": [
    "party_now=='LAB'"
   ]
  },
  {
   "cell_type": "code",
   "execution_count": null,
   "metadata": {
    "collapsed": true
   },
   "outputs": [],
   "source": []
  },
  {
   "cell_type": "code",
   "execution_count": null,
   "metadata": {
    "collapsed": true
   },
   "outputs": [],
   "source": []
  },
  {
   "cell_type": "code",
   "execution_count": 42,
   "metadata": {},
   "outputs": [
    {
     "data": {
      "text/plain": [
       "profile_past_vote_2005_Did not vote                                0.217748\n",
       "marital_Married                                                    0.211792\n",
       "euMemberJoin__Strongly agree                                       0.211437\n",
       "profile_past_vote_2015_Scottish National Party (SNP)               0.202245\n",
       "prevJob_Yes, I have done paid work in the past                     0.199664\n",
       "profile_gross_personal__Â£100,000 and over                         0.196767\n",
       "profile_past_vote_2015_Labour                                      0.196554\n",
       "profile_past_vote_2010_Liberal Democrats                           0.193859\n",
       "al_scale__Authoritarian                                            0.172685\n",
       "profile_past_vote_2015_United Kingdom Independence Party (UKIP)    0.171635\n",
       "al1__Strongly agree                                                0.171625\n",
       "profile_past_vote_2005_Labour Party                                0.168549\n",
       "euParlOverRide__Strongly agree                                     0.162900\n",
       "EUIntegrationSelf__Protect our independence                        0.154669\n",
       "blackEquality__Gone much too far                                   0.152689\n",
       "profile_past_vote_2015_Conservative                                0.145170\n",
       "ukCoopMovement__Bad for Britain                                    0.143959\n",
       "immigrantsWelfareState__Strongly agree                             0.140806\n",
       "euRefVote_Leave the EU                                             0.140367\n",
       "countryOfBirth_Wales                                               0.139085\n",
       "gayEquality__Gone much too far                                     0.135024\n",
       "euUndermineIdentity__Strongly agree                                0.132135\n",
       "changeImmig__Getting a lot higher                                  0.131402\n",
       "likeUKIP__Strongly like                                            0.131110\n",
       "partyId_Labour                                                     0.130097\n",
       "EUIntegrationGreen__Protect our independence                       0.129966\n",
       "euLeaveVoice__Much higher                                          0.129558\n",
       "al3__Strongly agree                                                0.129530\n",
       "housing_Own with a mortgage                                        0.126407\n",
       "al5__Strongly agree                                                0.124345\n",
       "UKsovereignty__Strongly agree                                      0.122362\n",
       "effectsEUEcon__Much better                                         0.120530\n",
       "childBenefitsRepatriate__No, not at any level                      0.120472\n",
       "profile_past_vote_2010_Conservative Party                          0.119297\n",
       "al4__Strongly agree                                                0.119082\n",
       "profile_gross_household__Â£150,000 and over                        0.118871\n",
       "ukCoopCAP__Bad for Britain                                         0.117502\n",
       "profile_newspaper_readership_201_The Mirror / Daily Record         0.112729\n",
       "workingStatus_Working full time (30 or more hours per week)        0.111277\n",
       "benefitsToMigrants__Never                                          0.110508\n",
       "likeFarage__Strongly like                                          0.107622\n",
       "effectsEUWorkers__Much better                                      0.107504\n",
       "infoSourceRadio__More than 2 hours                                 0.106923\n",
       "immigContributeTake__Get more than they pay                        0.104332\n",
       "profile_religion_Yes - Church of England/Anglican/Episcopal        0.101465\n",
       "schoolChildrenInHousehold_Yes                                      0.101437\n",
       "dtype: float64"
      ]
     },
     "metadata": {},
     "output_type": "display_data"
    },
    {
     "data": {
      "text/plain": [
       "profile_past_vote_2010_Green Party                                    -0.466095\n",
       "profile_past_vote_2005_Green Party                                    -0.449604\n",
       "profile_past_vote_2015_Green Party                                    -0.398026\n",
       "marital_Never married                                                 -0.248427\n",
       "workingStatus_Full time university student                            -0.237653\n",
       "housing_Neither I live rent-free with my parents, family or friends   -0.211110\n",
       "bestPM_Jeremy Corbyn                                                  -0.181387\n",
       "profile_turnout_2015_No, did not vote                                 -0.179784\n",
       "pccVote1_The Green candidate                                          -0.173818\n",
       "euCloser__Strongly agree                                              -0.171794\n",
       "likeCorbyn__Strongly like                                             -0.167531\n",
       "partyId_Green Party                                                   -0.159657\n",
       "noneuMore__Many more                                                  -0.154764\n",
       "profile_education_age__Still at school/Full time student              -0.151371\n",
       "euLawsLevel__Strongly agree                                           -0.149287\n",
       "euUKRich__Strongly agree                                              -0.146587\n",
       "immigCultural__Enriches cultural life                                 -0.141878\n",
       "euMore__Many more                                                     -0.141592\n",
       "workingStatus_Other full time student                                 -0.139337\n",
       "profile_household_size__8 or more                                     -0.136839\n",
       "likeBennett__Strongly like                                            -0.132967\n",
       "bestOnMII_Green Party                                                 -0.132694\n",
       "immigSelf__Allow many more                                            -0.131400\n",
       "studentsMore__Many more                                               -0.125929\n",
       "countryOfBirth_England                                                -0.125293\n",
       "normEU__Strongly agree                                                -0.119079\n",
       "profile_newspaper_readership_201_The Guardian                         -0.117983\n",
       "country_England                                                       -0.116971\n",
       "immigEcon__Good for economy                                           -0.116467\n",
       "turkey__Much better                                                   -0.115737\n",
       "familiesMore__Many more                                               -0.113498\n",
       "polKnowClegg_Home secretary                                           -0.112720\n",
       "education_GCE A level or Higher Certificate                           -0.111957\n",
       "noDependentsInHousehold_Yes                                           -0.110316\n",
       "likeGrn__Strongly like                                                -0.109401\n",
       "asylumMore__Many more                                                 -0.108948\n",
       "euLeaveBigBusiness__Much more likely                                  -0.108153\n",
       "profile_religion_denom_None                                           -0.107307\n",
       "remainTone__5 - Hope                                                  -0.104463\n",
       "echr__Strongly agree                                                  -0.104278\n",
       "friendsEU_Yes                                                         -0.103252\n",
       "regSatisfaction__Very dissatisfied                                    -0.103072\n",
       "profile_religion_denom_Baptist                                        -0.102314\n",
       "partyContact1_Yes                                                     -0.102099\n",
       "campaigninfoRemain__Strongly agree                                    -0.101445\n",
       "dtype: float64"
      ]
     },
     "metadata": {},
     "output_type": "display_data"
    },
    {
     "data": {
      "image/png": "[encoded data removed]",
      "text/plain": [
       "<matplotlib.figure.Figure at 0x10939b70>"
      ]
     },
     "metadata": {},
     "output_type": "display_data"
    }
   ],
   "source": [
    "pnow = 'GP'\n",
    "corr = BES_reduced_with_na[party_now==pnow].corrwith(swingers[party_now==pnow])\n",
    "corr.sort_values().hist(bins=100)\n",
    "display(corr[corr>.1].sort_values(ascending=False))\n",
    "display(corr[corr<-.1].sort_values())"
   ]
  },
  {
   "cell_type": "code",
   "execution_count": 20,
   "metadata": {},
   "outputs": [
    {
     "data": {
      "text/plain": [
       "<matplotlib.axes._subplots.AxesSubplot at 0xbc450b8>"
      ]
     },
     "execution_count": 20,
     "metadata": {},
     "output_type": "execute_result"
    },
    {
     "data": {
      "image/png": "[encoded data removed]",
      "text/plain": [
       "<matplotlib.figure.Figure at 0xbc51438>"
      ]
     },
     "metadata": {},
     "output_type": "display_data"
    }
   ],
   "source": []
  },
  {
   "cell_type": "code",
   "execution_count": 22,
   "metadata": {},
   "outputs": [
    {
     "data": {
      "text/plain": [
       "profile_past_vote_2010_Some other party                            0.080515\n",
       "profile_past_vote_2005_Green Party                                 0.080611\n",
       "lr5__Strongly agree                                                0.080825\n",
       "effectsEUEcon__Much better                                         0.083265\n",
       "effectsEUNHS__Much better                                          0.083712\n",
       "euRefVote_Leave the EU                                             0.089556\n",
       "bestPM_Jeremy Corbyn                                               0.098411\n",
       "partyId_No - none                                                  0.099349\n",
       "lr2__Strongly agree                                                0.099712\n",
       "partyId_Green Party                                                0.099766\n",
       "lr3__Strongly agree                                                0.103307\n",
       "profile_past_vote_2010_British National Party (BNP)                0.103698\n",
       "immigCon__Allow many more                                          0.107552\n",
       "partyIdEU__Mainly leave                                            0.110990\n",
       "profile_past_vote_2010_Did not vote                                0.120110\n",
       "lr4__Strongly agree                                                0.121074\n",
       "profile_past_vote_2005_Liberal Democrats                           0.121654\n",
       "efficacyPolCare__Strongly agree                                    0.130385\n",
       "generalElectionVote_Green Party                                    0.137831\n",
       "likeFarage__Strongly like                                          0.158820\n",
       "likeUKIP__Strongly like                                            0.166172\n",
       "partyId_United Kingdom Independence Party (UKIP)                   0.187473\n",
       "profile_past_vote_2015_Green Party                                 0.189130\n",
       "profile_past_vote_2005_Did not vote                                0.219754\n",
       "bestOnMII_United Kingdom Independence Party (UKIP)                 0.224164\n",
       "profile_past_vote_2015_United Kingdom Independence Party (UKIP)    0.248724\n",
       "pccVote1_The UKIP candidate                                        0.249308\n",
       "profile_past_vote_2010_Liberal Democrats                           0.253422\n",
       "generalElectionVote_United Kingdom Independence Party (UKIP)       0.326231\n",
       "dtype: float64"
      ]
     },
     "execution_count": 22,
     "metadata": {},
     "output_type": "execute_result"
    }
   ],
   "source": [
    "corr[corr>.08].sort_values()"
   ]
  },
  {
   "cell_type": "code",
   "execution_count": 93,
   "metadata": {},
   "outputs": [
    {
     "data": {
      "text/plain": [
       "<matplotlib.axes._subplots.AxesSubplot at 0x12e27898>"
      ]
     },
     "execution_count": 93,
     "metadata": {},
     "output_type": "execute_result"
    },
    {
     "data": {
      "image/png": "[encoded data removed]",
      "text/plain": [
       "<matplotlib.figure.Figure at 0x7cf7b240>"
      ]
     },
     "metadata": {},
     "output_type": "display_data"
    }
   ],
   "source": [
    "corr.sort_values().hist(bins=100)"
   ]
  },
  {
   "cell_type": "code",
   "execution_count": 108,
   "metadata": {},
   "outputs": [
    {
     "data": {
      "text/plain": [
       "lr3                         0.103307\n",
       "creditLeave_6W9             0.104275\n",
       "immigCon                    0.107552\n",
       "partyIdEU                   0.110990\n",
       "EUContactLeaveNone          0.111015\n",
       "partyContactUKIP            0.115045\n",
       "ptvGrnW9                    0.116356\n",
       "immigConW9                  0.116461\n",
       "lr4                         0.121074\n",
       "prPreferenceW9              0.123236\n",
       "euID                        0.124656\n",
       "partyContactUKIP_5          0.126438\n",
       "efficacyPolCareW9           0.128294\n",
       "profile_past_vote_2010      0.129817\n",
       "efficacyPolCare             0.130385\n",
       "scotElectionVoteList        0.130855\n",
       "reasonNotRegistered_7       0.138103\n",
       "achieveReduceImmigUKIPW9    0.141260\n",
       "ptvGrn                      0.142304\n",
       "euRefVotePost               0.145046\n",
       "handleMIIUKIPW9             0.145260\n",
       "bestOnMIIW9                 0.149440\n",
       "EUContactRemainSNP          0.149968\n",
       "likeFarageW9                0.157817\n",
       "likeFarage                  0.158820\n",
       "likeUKIPW9                  0.164365\n",
       "likeUKIP                    0.166172\n",
       "selfNumEmployees            0.171759\n",
       "partyMemberPast             0.183034\n",
       "ptvUKIP                     0.183748\n",
       "bestOnMII                   0.205952\n",
       "partyIdW9                   0.206542\n",
       "partyContactGreen_5         0.206988\n",
       "ptvUKIPW9                   0.209939\n",
       "motherNumEmployees          0.212116\n",
       "EUContactRemainPC           0.215029\n",
       "partyId                     0.222408\n",
       "pccVote1                    0.228619\n",
       "partyContactOther_3         0.233333\n",
       "partyMemberNow              0.247782\n",
       "euRefVoteSqueeze            0.275079\n",
       "localElectionVote           0.303248\n",
       "welshElectionVoteConst      0.304913\n",
       "welshElectionVoteList       0.304938\n",
       "recallVote15                0.322139\n",
       "generalElectionVoteW9       0.333752\n",
       "profile_past_vote_2015      0.334527\n",
       "generalElectionVote         0.369820\n",
       "dtype: float64"
      ]
     },
     "execution_count": 108,
     "metadata": {},
     "output_type": "execute_result"
    }
   ],
   "source": [
    "corr[corr>.1].sort_values()"
   ]
  },
  {
   "cell_type": "code",
   "execution_count": 109,
   "metadata": {},
   "outputs": [
    {
     "data": {
      "text/plain": [
       "likeCameron              -0.114115\n",
       "likeOsborne              -0.109108\n",
       "EUIntegrationCon         -0.112523\n",
       "partyContactSNP_5        -0.143692\n",
       "partyContactSNP_6        -0.104112\n",
       "partyContactPC_5         -0.177449\n",
       "partyContactUKIP_2       -0.136551\n",
       "partyContactGreen_2      -0.155779\n",
       "partyContactOther_7      -0.152578\n",
       "satDemUK                 -0.110692\n",
       "satDemEng                -0.120840\n",
       "registeredUpToDate       -0.112817\n",
       "reasonNotRegistered_4    -0.101512\n",
       "reasonNotRegistered_5    -0.239837\n",
       "ptvCon                   -0.113936\n",
       "trustMPs                 -0.182127\n",
       "pidWeTheyW9              -0.105646\n",
       "pidMyPartyW9             -0.100373\n",
       "pidPraiseGoodW9          -0.113196\n",
       "likeCameronW9            -0.100247\n",
       "trustMPsW9               -0.133293\n",
       "conPriorities_immigW9    -0.104673\n",
       "selfOccEmployeesLastW9   -0.165322\n",
       "profile_turnout_2015     -0.101801\n",
       "lr_scale                 -0.117361\n",
       "dtype: float64"
      ]
     },
     "execution_count": 109,
     "metadata": {},
     "output_type": "execute_result"
    }
   ],
   "source": [
    "corr[corr<-.1]"
   ]
  },
  {
   "cell_type": "code",
   "execution_count": 101,
   "metadata": {},
   "outputs": [
    {
     "data": {
      "text/plain": [
       "34259"
      ]
     },
     "execution_count": 101,
     "metadata": {},
     "output_type": "execute_result"
    }
   ],
   "source": [
    "BES_Panel[\"bestOnMIIW8\"].isnull().sum()"
   ]
  },
  {
   "cell_type": "code",
   "execution_count": 106,
   "metadata": {},
   "outputs": [
    {
     "data": {
      "text/plain": [
       "[NaN, Leave the EU, Don't know, Stay/remain in the EU, I would/will not vote]\n",
       "Categories (4, object): [Stay/remain in the EU < Leave the EU < I would/will not vote < Don't know]"
      ]
     },
     "execution_count": 106,
     "metadata": {},
     "output_type": "execute_result"
    }
   ],
   "source": [
    "BES_Panel[\"euRefVoteSqueezeW8\"].unique()"
   ]
  },
  {
   "cell_type": "code",
   "execution_count": null,
   "metadata": {
    "collapsed": true
   },
   "outputs": [],
   "source": []
  }
 ],
 "metadata": {
  "kernelspec": {
   "display_name": "Python [conda env:BES_analysis]",
   "language": "python",
   "name": "conda-env-BES_analysis-py"
  },
  "language_info": {
   "codemirror_mode": {
    "name": "ipython",
    "version": 3
   },
   "file_extension": ".py",
   "mimetype": "text/x-python",
   "name": "python",
   "nbconvert_exporter": "python",
   "pygments_lexer": "ipython3",
   "version": "3.5.4"
  }
 },
 "nbformat": 4,
 "nbformat_minor": 2
}
