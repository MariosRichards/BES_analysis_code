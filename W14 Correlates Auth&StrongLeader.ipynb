{
 "cells": [
  {
   "cell_type": "code",
   "execution_count": null,
   "metadata": {},
   "outputs": [],
   "source": []
  },
  {
   "cell_type": "code",
   "execution_count": 1,
   "metadata": {},
   "outputs": [],
   "source": [
    "dataset_name = \"W14_comb\"\n",
    "df_list = [\n",
    "           \"BES_Panel\",\n",
    "           \"BES_reduced_with_na\",\n",
    "#            \"BESnumeric\"\n",
    "#            \"BES_reduced\",\n",
    "#            \"BESnumeric\"\n",
    "          ]"
   ]
  },
  {
   "cell_type": "code",
   "execution_count": 2,
   "metadata": {},
   "outputs": [],
   "source": [
    "import numpy as np, pandas as pd, matplotlib.pyplot as plt, seaborn as sns\n",
    "import pickle, os, gc, re\n",
    "sns.set()\n",
    "sns.palplot(sns.color_palette(\"colorblind\"))\n",
    "from IPython.display import display, display_html, HTML\n",
    "\n",
    "import Jupyter_module_loader\n",
    "from utility import *\n",
    "import gaussian_kde\n"
   ]
  },
  {
   "cell_type": "code",
   "execution_count": 3,
   "metadata": {},
   "outputs": [],
   "source": [
    "# you should clone this git to a subdirectory called 'BES_analysis_code' (in some directory - I call it BES_analysis - doesn't matter though)\n",
    "%matplotlib inline\n",
    "encoding = \"ISO-8859-1\"\n",
    "\n",
    "(BES_code_folder, BES_small_data_files, BES_data_folder,\n",
    " BES_output_folder, BES_file_manifest, BES_R_data_files) = setup_directories()\n",
    "\n",
    "\n"
   ]
  },
  {
   "cell_type": "code",
   "execution_count": 4,
   "metadata": {},
   "outputs": [
    {
     "name": "stdout",
     "output_type": "stream",
     "text": [
      "var_type (5692, 13)\n"
     ]
    }
   ],
   "source": [
    "global BES_Panel, BES_numeric, BES_reduced, BES_reduced_with_na, BES_non_numeric\n",
    "data_subfolder = BES_data_folder + dataset_name + os.sep\n",
    "\n",
    "(manifest, dataset_filename, dataset_description, dataset_citation,\n",
    " dataset_start, dataset_stop, dataset_wave) = get_manifest(dataset_name, BES_file_manifest)\n",
    "\n",
    "for df in df_list:\n",
    "    if df==\"BES_Panel\":\n",
    "        globals()[df]  = pd.read_msgpack(data_subfolder + dataset_filename.replace('.dta','.msgpack'))\n",
    "    else:\n",
    "        globals()[df]  = pd.read_msgpack(data_subfolder + df + '.msgpack' )\n",
    "        globals()[df].replace(-1,np.nan,inplace=True)\n",
    "  \n",
    "(var_type, cat_dictionary, new_old_col_names, old_new_col_names) = get_small_files(data_subfolder, encoding)"
   ]
  },
  {
   "cell_type": "code",
   "execution_count": 6,
   "metadata": {},
   "outputs": [],
   "source": [
    "# pan_dataset_ages = pd.read_msgpack(    BES_small_data_files + \"pan_dataset_ages\"+\".msgpack\" )\n",
    "pan_dataset_allr_values = pd.read_csv( BES_small_data_files + \"pan_dataset_allr_values\"+\".csv\" )"
   ]
  },
  {
   "cell_type": "code",
   "execution_count": 9,
   "metadata": {},
   "outputs": [
    {
     "data": {
      "text/plain": [
       "Index(['Economic: Left(0) <-> Right(200){uniform}',\n",
       "       'Social: Liberalism(0) <-> Conservatism(200){uniform}',\n",
       "       'Economic: Left <-> Right{gaussian-ish}',\n",
       "       'Social: Liberalism <-> Conservatism{gaussian-ish}', 'id'],\n",
       "      dtype='object')"
      ]
     },
     "execution_count": 9,
     "metadata": {},
     "output_type": "execute_result"
    }
   ],
   "source": [
    "pan_dataset_allr_values.columns"
   ]
  },
  {
   "cell_type": "code",
   "execution_count": 13,
   "metadata": {},
   "outputs": [],
   "source": [
    "corrs = BES_reduced_with_na.corrwith( pan_dataset_allr_values[pan_dataset_allr_values.columns[3]] )"
   ]
  },
  {
   "cell_type": "code",
   "execution_count": 17,
   "metadata": {},
   "outputs": [
    {
     "data": {
      "text/plain": [
       "changeImmigW3__Getting a lot higher               0.489178\n",
       "blackEqualityW6_W12__Gone much too far            0.489371\n",
       "leftRightW9__Right                                0.489485\n",
       "euRefVoteW4_Leave the EU                          0.489956\n",
       "euRefVoteUnsqueezeW8_Leave the EU                 0.490231\n",
       "euIDW8_The leave side                             0.491403\n",
       "EUIntegrationSelfW9__Protect our independence     0.491637\n",
       "changeImmigW7__Getting a lot higher               0.492255\n",
       "govtHandoutsW2__Strongly agree                    0.492763\n",
       "EUIntegrationSelfW10__Protect our independence    0.492991\n",
       "leftRightW12__Right                               0.493420\n",
       "euRefVoteW6_Leave the EU                          0.494043\n",
       "handleMIIUKIPW9__Very well                        0.494828\n",
       "leftRightW11__Right                               0.494882\n",
       "euIDW7_The leave side                             0.495115\n",
       "auth1W11_Respect for elders                       0.495585\n",
       "happyLeaveW7__Very happy                          0.495698\n",
       "al4W1W2W3W4W5__Strongly agree                     0.497802\n",
       "euExpRefW7_To leave the European Union            0.497984\n",
       "euRefVoteW2_Leave the EU                          0.500123\n",
       "happyEULeaveW9__Extremely happy                   0.500350\n",
       "euRefVoteW3_Leave the EU                          0.501209\n",
       "likeUKIPW8__Strongly like                         0.503882\n",
       "EUIntegrationSelfW8__Protect our independence     0.507092\n",
       "govtHandoutsW4__Strongly agree                    0.508579\n",
       "happyEULeaveW11__Extremely happy                  0.509084\n",
       "govtHandoutsW3__Strongly agree                    0.509685\n",
       "EUIntegrationSelfW4__Protect our independence     0.510182\n",
       "EUIntegrationSelfW7__Protect our independence     0.510666\n",
       "authLong2W10__Strongly agree                      0.512047\n",
       "                                                    ...   \n",
       "govtHandoutsW7__Strongly agree                    0.535232\n",
       "UKsovereigntyW8__Strongly agree                   0.536275\n",
       "al4W6__Strongly agree                             0.539726\n",
       "harkBackW7__Strongly agree                        0.540192\n",
       "euPriorityBalanceW14__Control immigration         0.540835\n",
       "al4W7W8W9__Strongly agree                         0.551504\n",
       "euPriorityBalanceW10__Control immigration         0.557003\n",
       "euParlOverRideW7__Strongly agree                  0.560093\n",
       "al4W10W11W12__Strongly agree                      0.564803\n",
       "euParlOverRideW8__Strongly agree                  0.566117\n",
       "euPriorityBalanceW11__Control immigration         0.568230\n",
       "euUndermineIdentityW7__Strongly agree             0.577147\n",
       "euUndermineIdentityW8__Strongly agree             0.579981\n",
       "euPriorityBalanceW12__Control immigration         0.581394\n",
       "overseasAidW14__Strongly agree                    0.584422\n",
       "euPriorityBalanceW13__Control immigration         0.587279\n",
       "immigContributeTakeW8__Get more than they pay     0.588027\n",
       "al4W13__Strongly agree                            0.588375\n",
       "overseasAidW12__Strongly agree                    0.591265\n",
       "immigrantsWelfareStateW10__Strongly agree         0.592961\n",
       "overseasAidW10__Strongly agree                    0.593092\n",
       "immigrantsWelfareStateW1__Strongly agree          0.597251\n",
       "immigContributeTakeW7__Get more than they pay     0.598033\n",
       "immigrantsWelfareStateW2__Strongly agree          0.599874\n",
       "immigrantsWelfareStateW11__Strongly agree         0.604124\n",
       "immigrantsWelfareStateW4__Strongly agree          0.615672\n",
       "overseasAidW11__Strongly agree                    0.616473\n",
       "al3W1W2W3W4W5__Strongly agree                     0.622488\n",
       "immigrantsWelfareStateW3__Strongly agree          0.635262\n",
       "immigrantsWelfareStateW8__Strongly agree          0.645360\n",
       "Length: 70, dtype: float64"
      ]
     },
     "execution_count": 17,
     "metadata": {},
     "output_type": "execute_result"
    }
   ],
   "source": [
    "corrs.sort_values().tail(100)[0:70]"
   ]
  },
  {
   "cell_type": "code",
   "execution_count": 26,
   "metadata": {},
   "outputs": [
    {
     "data": {
      "text/plain": [
       "govtHandoutsW1__Strongly agree    29525\n",
       "govtHandoutsW2__Strongly agree    29461\n",
       "govtHandoutsW3__Strongly agree    27015\n",
       "govtHandoutsW4__Strongly agree    30628\n",
       "govtHandoutsW7__Strongly agree    29375\n",
       "dtype: int64"
      ]
     },
     "execution_count": 26,
     "metadata": {},
     "output_type": "execute_result"
    }
   ],
   "source": [
    "search(BES_reduced_with_na,\"govtHandout\")"
   ]
  },
  {
   "cell_type": "code",
   "execution_count": 28,
   "metadata": {},
   "outputs": [
    {
     "data": {
      "text/plain": [
       "0.35340844977572256"
      ]
     },
     "execution_count": 28,
     "metadata": {},
     "output_type": "execute_result"
    }
   ],
   "source": [
    "BES_reduced_with_na[\"likeUKIPW1__Strongly like\"].corr( BES_reduced_with_na[\"govtHandoutsW1__Strongly agree\"] )"
   ]
  },
  {
   "cell_type": "code",
   "execution_count": 29,
   "metadata": {},
   "outputs": [
    {
     "data": {
      "text/plain": [
       "0.3666052106839375"
      ]
     },
     "execution_count": 29,
     "metadata": {},
     "output_type": "execute_result"
    }
   ],
   "source": [
    "BES_reduced_with_na[\"likeUKIPW2__Strongly like\"].corr( BES_reduced_with_na[\"govtHandoutsW2__Strongly agree\"] )"
   ]
  },
  {
   "cell_type": "code",
   "execution_count": 30,
   "metadata": {},
   "outputs": [
    {
     "data": {
      "text/plain": [
       "0.37568163805818333"
      ]
     },
     "execution_count": 30,
     "metadata": {},
     "output_type": "execute_result"
    }
   ],
   "source": [
    "BES_reduced_with_na[\"likeUKIPW3__Strongly like\"].corr( BES_reduced_with_na[\"govtHandoutsW3__Strongly agree\"] )"
   ]
  },
  {
   "cell_type": "code",
   "execution_count": 31,
   "metadata": {},
   "outputs": [
    {
     "data": {
      "text/plain": [
       "0.3468223514843521"
      ]
     },
     "execution_count": 31,
     "metadata": {},
     "output_type": "execute_result"
    }
   ],
   "source": [
    "BES_reduced_with_na[\"likeUKIPW4__Strongly like\"].corr( BES_reduced_with_na[\"govtHandoutsW4__Strongly agree\"] )"
   ]
  },
  {
   "cell_type": "code",
   "execution_count": 32,
   "metadata": {},
   "outputs": [
    {
     "data": {
      "text/plain": [
       "0.36972526848975906"
      ]
     },
     "execution_count": 32,
     "metadata": {},
     "output_type": "execute_result"
    }
   ],
   "source": [
    "BES_reduced_with_na[\"likeUKIPW7__Strongly like\"].corr( BES_reduced_with_na[\"govtHandoutsW7__Strongly agree\"] )"
   ]
  },
  {
   "cell_type": "code",
   "execution_count": null,
   "metadata": {},
   "outputs": [],
   "source": []
  },
  {
   "cell_type": "code",
   "execution_count": 37,
   "metadata": {},
   "outputs": [
    {
     "data": {
      "text/plain": [
       "likeCameronW1__Strongly like     0.381053\n",
       "likeMilibandW1__Strongly like   -0.335237\n",
       "likeCleggW1__Strongly like       0.081406\n",
       "likeSalmondW1__Strongly like    -0.256044\n",
       "likeFarageW1__Strongly like      0.310298\n",
       "likeConW1__Strongly like         0.425824\n",
       "likeLabW1__Strongly like        -0.321300\n",
       "likeLDW1__Strongly like          0.020238\n",
       "likeUKIPW1__Strongly like        0.353408\n",
       "likeGrnW1__Strongly like        -0.317548\n",
       "likeBNPW1__Strongly like         0.183336\n",
       "dtype: float64"
      ]
     },
     "execution_count": 37,
     "metadata": {},
     "output_type": "execute_result"
    }
   ],
   "source": [
    "BES_reduced_with_na[search(BES_reduced_with_na,\"like.*W1__Strongly like\").index].corrwith( BES_reduced_with_na[\"govtHandoutsW1__Strongly agree\"] )"
   ]
  },
  {
   "cell_type": "code",
   "execution_count": 24,
   "metadata": {},
   "outputs": [
    {
     "data": {
      "text/plain": [
       "auth2W10_Self-reliance        -0.433385\n",
       "auth2W11_Self-reliance        -0.417702\n",
       "auth2W7_Self-reliance         -0.414478\n",
       "auth2W14_Self-reliance        -0.339960\n",
       "auth3W14_To be well-behaved    0.257265\n",
       "auth3W10_To be well-behaved    0.292794\n",
       "auth3W7_To be well-behaved     0.312503\n",
       "auth3W11_To be well-behaved    0.314702\n",
       "auth4W14_Good manners          0.402783\n",
       "auth4W7_Good manners           0.427815\n",
       "auth1W14_Respect for elders    0.429728\n",
       "auth4W11_Good manners          0.432644\n",
       "auth4W10_Good manners          0.439897\n",
       "auth1W7_Respect for elders     0.484471\n",
       "auth1W11_Respect for elders    0.495585\n",
       "auth1W10_Respect for elders    0.518273\n",
       "dtype: float64"
      ]
     },
     "execution_count": 24,
     "metadata": {},
     "output_type": "execute_result"
    }
   ],
   "source": [
    "corrs.loc[ [x for x in corrs.index if re.match(\"auth(\\d)\", x)] ].sort_values()"
   ]
  },
  {
   "cell_type": "code",
   "execution_count": 25,
   "metadata": {},
   "outputs": [
    {
     "data": {
      "text/plain": [
       "authLong4W10__Strongly agree   -0.399055\n",
       "authLong1W10__Strongly agree   -0.376369\n",
       "authLong3W10__Strongly agree   -0.233478\n",
       "authLong2W10__Strongly agree    0.512047\n",
       "dtype: float64"
      ]
     },
     "execution_count": 25,
     "metadata": {},
     "output_type": "execute_result"
    }
   ],
   "source": [
    "corrs.loc[ [x for x in corrs.index if re.match(\"authL\", x)] ].sort_values()"
   ]
  },
  {
   "cell_type": "code",
   "execution_count": 24,
   "metadata": {},
   "outputs": [],
   "source": [
    "# globals()[\"BES_Panel\"]  = pd.read_stata(data_subfolder + dataset_filename)"
   ]
  },
  {
   "cell_type": "code",
   "execution_count": 25,
   "metadata": {},
   "outputs": [],
   "source": [
    "# data_subfolder"
   ]
  },
  {
   "cell_type": "code",
   "execution_count": 26,
   "metadata": {},
   "outputs": [],
   "source": [
    "# BES_Panel.to_msgpack(data_subfolder + \"BES2019_W15_Panel_v0.3.msgpack\")"
   ]
  },
  {
   "cell_type": "code",
   "execution_count": 27,
   "metadata": {},
   "outputs": [],
   "source": [
    "# BES_data_folder"
   ]
  },
  {
   "cell_type": "code",
   "execution_count": 13,
   "metadata": {},
   "outputs": [],
   "source": [
    "# BES_PanelW15 = pd.read_stata(BES_data_folder + \"W15_only\"+os.sep + \"BES2019_W15_v0.2.dta\")"
   ]
  },
  {
   "cell_type": "code",
   "execution_count": 14,
   "metadata": {},
   "outputs": [],
   "source": [
    "# BES_PanelW15.to_msgpack(BES_data_folder + \"W15_only\"+os.sep + \"BES2019_W15_v0.2.msgpack\")"
   ]
  },
  {
   "cell_type": "code",
   "execution_count": null,
   "metadata": {},
   "outputs": [],
   "source": [
    "# BES_PanelW15 = pd.read_stata(BES_data_folder + \"W15_only\"+os.sep + \"BES2019_W15_v0.2.dta\")"
   ]
  },
  {
   "cell_type": "code",
   "execution_count": 28,
   "metadata": {},
   "outputs": [],
   "source": [
    "BES_PanelW15 = pd.read_msgpack(BES_data_folder + \"W15_only\"+os.sep + \"BES2019_W15_v0.2.msgpack\")"
   ]
  },
  {
   "cell_type": "code",
   "execution_count": 29,
   "metadata": {},
   "outputs": [
    {
     "data": {
      "text/plain": [
       "strongLeader    30842\n",
       "dtype: int64"
      ]
     },
     "execution_count": 29,
     "metadata": {},
     "output_type": "execute_result"
    }
   ],
   "source": [
    "search(BES_PanelW15,\"strongLeader\")"
   ]
  },
  {
   "cell_type": "code",
   "execution_count": 37,
   "metadata": {},
   "outputs": [
    {
     "data": {
      "text/html": [
       "<div>\n",
       "<style>\n",
       "    .dataframe thead tr:only-child th {\n",
       "        text-align: right;\n",
       "    }\n",
       "\n",
       "    .dataframe thead th {\n",
       "        text-align: left;\n",
       "    }\n",
       "\n",
       "    .dataframe tbody tr th {\n",
       "        vertical-align: top;\n",
       "    }\n",
       "</style>\n",
       "<table border=\"1\" class=\"dataframe\">\n",
       "  <thead>\n",
       "    <tr style=\"text-align: right;\">\n",
       "      <th></th>\n",
       "      <th>strongLeaderW10__Strongly agree</th>\n",
       "      <th>strongLeaderW11__Strongly agree</th>\n",
       "      <th>strongLeaderW14__Strongly agree</th>\n",
       "      <th>strongLeaderW15__Strongly agree</th>\n",
       "    </tr>\n",
       "  </thead>\n",
       "  <tbody>\n",
       "    <tr>\n",
       "      <th>0</th>\n",
       "      <td>NaN</td>\n",
       "      <td>NaN</td>\n",
       "      <td>NaN</td>\n",
       "      <td>NaN</td>\n",
       "    </tr>\n",
       "    <tr>\n",
       "      <th>1</th>\n",
       "      <td>0.0</td>\n",
       "      <td>NaN</td>\n",
       "      <td>NaN</td>\n",
       "      <td>NaN</td>\n",
       "    </tr>\n",
       "    <tr>\n",
       "      <th>2</th>\n",
       "      <td>0.0</td>\n",
       "      <td>-1.0</td>\n",
       "      <td>-1.0</td>\n",
       "      <td>NaN</td>\n",
       "    </tr>\n",
       "    <tr>\n",
       "      <th>3</th>\n",
       "      <td>NaN</td>\n",
       "      <td>NaN</td>\n",
       "      <td>NaN</td>\n",
       "      <td>NaN</td>\n",
       "    </tr>\n",
       "    <tr>\n",
       "      <th>4</th>\n",
       "      <td>NaN</td>\n",
       "      <td>NaN</td>\n",
       "      <td>NaN</td>\n",
       "      <td>NaN</td>\n",
       "    </tr>\n",
       "    <tr>\n",
       "      <th>5</th>\n",
       "      <td>NaN</td>\n",
       "      <td>NaN</td>\n",
       "      <td>NaN</td>\n",
       "      <td>NaN</td>\n",
       "    </tr>\n",
       "    <tr>\n",
       "      <th>6</th>\n",
       "      <td>NaN</td>\n",
       "      <td>2.0</td>\n",
       "      <td>NaN</td>\n",
       "      <td>NaN</td>\n",
       "    </tr>\n",
       "    <tr>\n",
       "      <th>7</th>\n",
       "      <td>1.0</td>\n",
       "      <td>1.0</td>\n",
       "      <td>0.0</td>\n",
       "      <td>-1.0</td>\n",
       "    </tr>\n",
       "    <tr>\n",
       "      <th>8</th>\n",
       "      <td>-3.0</td>\n",
       "      <td>-3.0</td>\n",
       "      <td>-2.0</td>\n",
       "      <td>0.0</td>\n",
       "    </tr>\n",
       "    <tr>\n",
       "      <th>9</th>\n",
       "      <td>NaN</td>\n",
       "      <td>NaN</td>\n",
       "      <td>NaN</td>\n",
       "      <td>-1.0</td>\n",
       "    </tr>\n",
       "    <tr>\n",
       "      <th>10</th>\n",
       "      <td>NaN</td>\n",
       "      <td>NaN</td>\n",
       "      <td>NaN</td>\n",
       "      <td>NaN</td>\n",
       "    </tr>\n",
       "    <tr>\n",
       "      <th>11</th>\n",
       "      <td>NaN</td>\n",
       "      <td>NaN</td>\n",
       "      <td>NaN</td>\n",
       "      <td>NaN</td>\n",
       "    </tr>\n",
       "    <tr>\n",
       "      <th>12</th>\n",
       "      <td>NaN</td>\n",
       "      <td>NaN</td>\n",
       "      <td>NaN</td>\n",
       "      <td>NaN</td>\n",
       "    </tr>\n",
       "    <tr>\n",
       "      <th>13</th>\n",
       "      <td>NaN</td>\n",
       "      <td>NaN</td>\n",
       "      <td>NaN</td>\n",
       "      <td>NaN</td>\n",
       "    </tr>\n",
       "    <tr>\n",
       "      <th>14</th>\n",
       "      <td>1.0</td>\n",
       "      <td>-1.0</td>\n",
       "      <td>NaN</td>\n",
       "      <td>NaN</td>\n",
       "    </tr>\n",
       "    <tr>\n",
       "      <th>15</th>\n",
       "      <td>NaN</td>\n",
       "      <td>NaN</td>\n",
       "      <td>NaN</td>\n",
       "      <td>NaN</td>\n",
       "    </tr>\n",
       "    <tr>\n",
       "      <th>16</th>\n",
       "      <td>NaN</td>\n",
       "      <td>NaN</td>\n",
       "      <td>NaN</td>\n",
       "      <td>NaN</td>\n",
       "    </tr>\n",
       "    <tr>\n",
       "      <th>17</th>\n",
       "      <td>-1.0</td>\n",
       "      <td>NaN</td>\n",
       "      <td>NaN</td>\n",
       "      <td>NaN</td>\n",
       "    </tr>\n",
       "    <tr>\n",
       "      <th>18</th>\n",
       "      <td>NaN</td>\n",
       "      <td>NaN</td>\n",
       "      <td>0.0</td>\n",
       "      <td>NaN</td>\n",
       "    </tr>\n",
       "    <tr>\n",
       "      <th>19</th>\n",
       "      <td>NaN</td>\n",
       "      <td>NaN</td>\n",
       "      <td>NaN</td>\n",
       "      <td>NaN</td>\n",
       "    </tr>\n",
       "    <tr>\n",
       "      <th>20</th>\n",
       "      <td>NaN</td>\n",
       "      <td>NaN</td>\n",
       "      <td>NaN</td>\n",
       "      <td>NaN</td>\n",
       "    </tr>\n",
       "    <tr>\n",
       "      <th>21</th>\n",
       "      <td>NaN</td>\n",
       "      <td>NaN</td>\n",
       "      <td>NaN</td>\n",
       "      <td>NaN</td>\n",
       "    </tr>\n",
       "    <tr>\n",
       "      <th>22</th>\n",
       "      <td>NaN</td>\n",
       "      <td>NaN</td>\n",
       "      <td>NaN</td>\n",
       "      <td>NaN</td>\n",
       "    </tr>\n",
       "    <tr>\n",
       "      <th>23</th>\n",
       "      <td>NaN</td>\n",
       "      <td>NaN</td>\n",
       "      <td>NaN</td>\n",
       "      <td>-1.0</td>\n",
       "    </tr>\n",
       "    <tr>\n",
       "      <th>24</th>\n",
       "      <td>NaN</td>\n",
       "      <td>NaN</td>\n",
       "      <td>NaN</td>\n",
       "      <td>NaN</td>\n",
       "    </tr>\n",
       "    <tr>\n",
       "      <th>25</th>\n",
       "      <td>NaN</td>\n",
       "      <td>NaN</td>\n",
       "      <td>NaN</td>\n",
       "      <td>NaN</td>\n",
       "    </tr>\n",
       "    <tr>\n",
       "      <th>26</th>\n",
       "      <td>NaN</td>\n",
       "      <td>NaN</td>\n",
       "      <td>NaN</td>\n",
       "      <td>NaN</td>\n",
       "    </tr>\n",
       "    <tr>\n",
       "      <th>27</th>\n",
       "      <td>NaN</td>\n",
       "      <td>NaN</td>\n",
       "      <td>NaN</td>\n",
       "      <td>NaN</td>\n",
       "    </tr>\n",
       "    <tr>\n",
       "      <th>28</th>\n",
       "      <td>NaN</td>\n",
       "      <td>NaN</td>\n",
       "      <td>NaN</td>\n",
       "      <td>0.0</td>\n",
       "    </tr>\n",
       "    <tr>\n",
       "      <th>29</th>\n",
       "      <td>NaN</td>\n",
       "      <td>-1.0</td>\n",
       "      <td>-3.0</td>\n",
       "      <td>-3.0</td>\n",
       "    </tr>\n",
       "    <tr>\n",
       "      <th>...</th>\n",
       "      <td>...</td>\n",
       "      <td>...</td>\n",
       "      <td>...</td>\n",
       "      <td>...</td>\n",
       "    </tr>\n",
       "    <tr>\n",
       "      <th>73673</th>\n",
       "      <td>NaN</td>\n",
       "      <td>NaN</td>\n",
       "      <td>4.0</td>\n",
       "      <td>NaN</td>\n",
       "    </tr>\n",
       "    <tr>\n",
       "      <th>73674</th>\n",
       "      <td>NaN</td>\n",
       "      <td>NaN</td>\n",
       "      <td>NaN</td>\n",
       "      <td>NaN</td>\n",
       "    </tr>\n",
       "    <tr>\n",
       "      <th>73675</th>\n",
       "      <td>NaN</td>\n",
       "      <td>NaN</td>\n",
       "      <td>NaN</td>\n",
       "      <td>NaN</td>\n",
       "    </tr>\n",
       "    <tr>\n",
       "      <th>73676</th>\n",
       "      <td>NaN</td>\n",
       "      <td>NaN</td>\n",
       "      <td>-2.0</td>\n",
       "      <td>NaN</td>\n",
       "    </tr>\n",
       "    <tr>\n",
       "      <th>73677</th>\n",
       "      <td>NaN</td>\n",
       "      <td>NaN</td>\n",
       "      <td>2.0</td>\n",
       "      <td>NaN</td>\n",
       "    </tr>\n",
       "    <tr>\n",
       "      <th>73678</th>\n",
       "      <td>NaN</td>\n",
       "      <td>NaN</td>\n",
       "      <td>-2.0</td>\n",
       "      <td>NaN</td>\n",
       "    </tr>\n",
       "    <tr>\n",
       "      <th>73679</th>\n",
       "      <td>NaN</td>\n",
       "      <td>NaN</td>\n",
       "      <td>0.0</td>\n",
       "      <td>NaN</td>\n",
       "    </tr>\n",
       "    <tr>\n",
       "      <th>73680</th>\n",
       "      <td>NaN</td>\n",
       "      <td>NaN</td>\n",
       "      <td>-1.0</td>\n",
       "      <td>NaN</td>\n",
       "    </tr>\n",
       "    <tr>\n",
       "      <th>73681</th>\n",
       "      <td>NaN</td>\n",
       "      <td>NaN</td>\n",
       "      <td>0.0</td>\n",
       "      <td>NaN</td>\n",
       "    </tr>\n",
       "    <tr>\n",
       "      <th>73682</th>\n",
       "      <td>NaN</td>\n",
       "      <td>NaN</td>\n",
       "      <td>0.0</td>\n",
       "      <td>NaN</td>\n",
       "    </tr>\n",
       "    <tr>\n",
       "      <th>73683</th>\n",
       "      <td>NaN</td>\n",
       "      <td>NaN</td>\n",
       "      <td>NaN</td>\n",
       "      <td>NaN</td>\n",
       "    </tr>\n",
       "    <tr>\n",
       "      <th>73684</th>\n",
       "      <td>NaN</td>\n",
       "      <td>NaN</td>\n",
       "      <td>NaN</td>\n",
       "      <td>NaN</td>\n",
       "    </tr>\n",
       "    <tr>\n",
       "      <th>73685</th>\n",
       "      <td>NaN</td>\n",
       "      <td>NaN</td>\n",
       "      <td>-1.0</td>\n",
       "      <td>NaN</td>\n",
       "    </tr>\n",
       "    <tr>\n",
       "      <th>73686</th>\n",
       "      <td>NaN</td>\n",
       "      <td>NaN</td>\n",
       "      <td>0.0</td>\n",
       "      <td>NaN</td>\n",
       "    </tr>\n",
       "    <tr>\n",
       "      <th>73687</th>\n",
       "      <td>NaN</td>\n",
       "      <td>NaN</td>\n",
       "      <td>2.0</td>\n",
       "      <td>NaN</td>\n",
       "    </tr>\n",
       "    <tr>\n",
       "      <th>73688</th>\n",
       "      <td>NaN</td>\n",
       "      <td>NaN</td>\n",
       "      <td>0.0</td>\n",
       "      <td>NaN</td>\n",
       "    </tr>\n",
       "    <tr>\n",
       "      <th>73689</th>\n",
       "      <td>NaN</td>\n",
       "      <td>NaN</td>\n",
       "      <td>-3.0</td>\n",
       "      <td>NaN</td>\n",
       "    </tr>\n",
       "    <tr>\n",
       "      <th>73690</th>\n",
       "      <td>NaN</td>\n",
       "      <td>NaN</td>\n",
       "      <td>2.0</td>\n",
       "      <td>NaN</td>\n",
       "    </tr>\n",
       "    <tr>\n",
       "      <th>73691</th>\n",
       "      <td>NaN</td>\n",
       "      <td>NaN</td>\n",
       "      <td>1.0</td>\n",
       "      <td>NaN</td>\n",
       "    </tr>\n",
       "    <tr>\n",
       "      <th>73692</th>\n",
       "      <td>NaN</td>\n",
       "      <td>NaN</td>\n",
       "      <td>0.0</td>\n",
       "      <td>NaN</td>\n",
       "    </tr>\n",
       "    <tr>\n",
       "      <th>73693</th>\n",
       "      <td>NaN</td>\n",
       "      <td>NaN</td>\n",
       "      <td>0.0</td>\n",
       "      <td>NaN</td>\n",
       "    </tr>\n",
       "    <tr>\n",
       "      <th>73694</th>\n",
       "      <td>NaN</td>\n",
       "      <td>NaN</td>\n",
       "      <td>-3.0</td>\n",
       "      <td>NaN</td>\n",
       "    </tr>\n",
       "    <tr>\n",
       "      <th>73695</th>\n",
       "      <td>NaN</td>\n",
       "      <td>NaN</td>\n",
       "      <td>2.0</td>\n",
       "      <td>NaN</td>\n",
       "    </tr>\n",
       "    <tr>\n",
       "      <th>73696</th>\n",
       "      <td>NaN</td>\n",
       "      <td>NaN</td>\n",
       "      <td>-2.0</td>\n",
       "      <td>NaN</td>\n",
       "    </tr>\n",
       "    <tr>\n",
       "      <th>73697</th>\n",
       "      <td>NaN</td>\n",
       "      <td>NaN</td>\n",
       "      <td>0.0</td>\n",
       "      <td>NaN</td>\n",
       "    </tr>\n",
       "    <tr>\n",
       "      <th>73698</th>\n",
       "      <td>NaN</td>\n",
       "      <td>NaN</td>\n",
       "      <td>1.0</td>\n",
       "      <td>NaN</td>\n",
       "    </tr>\n",
       "    <tr>\n",
       "      <th>73699</th>\n",
       "      <td>NaN</td>\n",
       "      <td>NaN</td>\n",
       "      <td>2.0</td>\n",
       "      <td>NaN</td>\n",
       "    </tr>\n",
       "    <tr>\n",
       "      <th>73700</th>\n",
       "      <td>NaN</td>\n",
       "      <td>NaN</td>\n",
       "      <td>-3.0</td>\n",
       "      <td>NaN</td>\n",
       "    </tr>\n",
       "    <tr>\n",
       "      <th>73701</th>\n",
       "      <td>NaN</td>\n",
       "      <td>NaN</td>\n",
       "      <td>4.0</td>\n",
       "      <td>NaN</td>\n",
       "    </tr>\n",
       "    <tr>\n",
       "      <th>73702</th>\n",
       "      <td>NaN</td>\n",
       "      <td>NaN</td>\n",
       "      <td>-4.0</td>\n",
       "      <td>NaN</td>\n",
       "    </tr>\n",
       "  </tbody>\n",
       "</table>\n",
       "<p>73703 rows × 4 columns</p>\n",
       "</div>"
      ],
      "text/plain": [
       "       strongLeaderW10__Strongly agree  strongLeaderW11__Strongly agree  \\\n",
       "0                                  NaN                              NaN   \n",
       "1                                  0.0                              NaN   \n",
       "2                                  0.0                             -1.0   \n",
       "3                                  NaN                              NaN   \n",
       "4                                  NaN                              NaN   \n",
       "5                                  NaN                              NaN   \n",
       "6                                  NaN                              2.0   \n",
       "7                                  1.0                              1.0   \n",
       "8                                 -3.0                             -3.0   \n",
       "9                                  NaN                              NaN   \n",
       "10                                 NaN                              NaN   \n",
       "11                                 NaN                              NaN   \n",
       "12                                 NaN                              NaN   \n",
       "13                                 NaN                              NaN   \n",
       "14                                 1.0                             -1.0   \n",
       "15                                 NaN                              NaN   \n",
       "16                                 NaN                              NaN   \n",
       "17                                -1.0                              NaN   \n",
       "18                                 NaN                              NaN   \n",
       "19                                 NaN                              NaN   \n",
       "20                                 NaN                              NaN   \n",
       "21                                 NaN                              NaN   \n",
       "22                                 NaN                              NaN   \n",
       "23                                 NaN                              NaN   \n",
       "24                                 NaN                              NaN   \n",
       "25                                 NaN                              NaN   \n",
       "26                                 NaN                              NaN   \n",
       "27                                 NaN                              NaN   \n",
       "28                                 NaN                              NaN   \n",
       "29                                 NaN                             -1.0   \n",
       "...                                ...                              ...   \n",
       "73673                              NaN                              NaN   \n",
       "73674                              NaN                              NaN   \n",
       "73675                              NaN                              NaN   \n",
       "73676                              NaN                              NaN   \n",
       "73677                              NaN                              NaN   \n",
       "73678                              NaN                              NaN   \n",
       "73679                              NaN                              NaN   \n",
       "73680                              NaN                              NaN   \n",
       "73681                              NaN                              NaN   \n",
       "73682                              NaN                              NaN   \n",
       "73683                              NaN                              NaN   \n",
       "73684                              NaN                              NaN   \n",
       "73685                              NaN                              NaN   \n",
       "73686                              NaN                              NaN   \n",
       "73687                              NaN                              NaN   \n",
       "73688                              NaN                              NaN   \n",
       "73689                              NaN                              NaN   \n",
       "73690                              NaN                              NaN   \n",
       "73691                              NaN                              NaN   \n",
       "73692                              NaN                              NaN   \n",
       "73693                              NaN                              NaN   \n",
       "73694                              NaN                              NaN   \n",
       "73695                              NaN                              NaN   \n",
       "73696                              NaN                              NaN   \n",
       "73697                              NaN                              NaN   \n",
       "73698                              NaN                              NaN   \n",
       "73699                              NaN                              NaN   \n",
       "73700                              NaN                              NaN   \n",
       "73701                              NaN                              NaN   \n",
       "73702                              NaN                              NaN   \n",
       "\n",
       "       strongLeaderW14__Strongly agree  strongLeaderW15__Strongly agree  \n",
       "0                                  NaN                              NaN  \n",
       "1                                  NaN                              NaN  \n",
       "2                                 -1.0                              NaN  \n",
       "3                                  NaN                              NaN  \n",
       "4                                  NaN                              NaN  \n",
       "5                                  NaN                              NaN  \n",
       "6                                  NaN                              NaN  \n",
       "7                                  0.0                             -1.0  \n",
       "8                                 -2.0                              0.0  \n",
       "9                                  NaN                             -1.0  \n",
       "10                                 NaN                              NaN  \n",
       "11                                 NaN                              NaN  \n",
       "12                                 NaN                              NaN  \n",
       "13                                 NaN                              NaN  \n",
       "14                                 NaN                              NaN  \n",
       "15                                 NaN                              NaN  \n",
       "16                                 NaN                              NaN  \n",
       "17                                 NaN                              NaN  \n",
       "18                                 0.0                              NaN  \n",
       "19                                 NaN                              NaN  \n",
       "20                                 NaN                              NaN  \n",
       "21                                 NaN                              NaN  \n",
       "22                                 NaN                              NaN  \n",
       "23                                 NaN                             -1.0  \n",
       "24                                 NaN                              NaN  \n",
       "25                                 NaN                              NaN  \n",
       "26                                 NaN                              NaN  \n",
       "27                                 NaN                              NaN  \n",
       "28                                 NaN                              0.0  \n",
       "29                                -3.0                             -3.0  \n",
       "...                                ...                              ...  \n",
       "73673                              4.0                              NaN  \n",
       "73674                              NaN                              NaN  \n",
       "73675                              NaN                              NaN  \n",
       "73676                             -2.0                              NaN  \n",
       "73677                              2.0                              NaN  \n",
       "73678                             -2.0                              NaN  \n",
       "73679                              0.0                              NaN  \n",
       "73680                             -1.0                              NaN  \n",
       "73681                              0.0                              NaN  \n",
       "73682                              0.0                              NaN  \n",
       "73683                              NaN                              NaN  \n",
       "73684                              NaN                              NaN  \n",
       "73685                             -1.0                              NaN  \n",
       "73686                              0.0                              NaN  \n",
       "73687                              2.0                              NaN  \n",
       "73688                              0.0                              NaN  \n",
       "73689                             -3.0                              NaN  \n",
       "73690                              2.0                              NaN  \n",
       "73691                              1.0                              NaN  \n",
       "73692                              0.0                              NaN  \n",
       "73693                              0.0                              NaN  \n",
       "73694                             -3.0                              NaN  \n",
       "73695                              2.0                              NaN  \n",
       "73696                             -2.0                              NaN  \n",
       "73697                              0.0                              NaN  \n",
       "73698                              1.0                              NaN  \n",
       "73699                              2.0                              NaN  \n",
       "73700                             -3.0                              NaN  \n",
       "73701                              4.0                              NaN  \n",
       "73702                             -4.0                              NaN  \n",
       "\n",
       "[73703 rows x 4 columns]"
      ]
     },
     "execution_count": 37,
     "metadata": {},
     "output_type": "execute_result"
    }
   ],
   "source": [
    "BES_reduced_with_na[search(BES_reduced_with_na,\"strongLeader\").index].diff()"
   ]
  },
  {
   "cell_type": "code",
   "execution_count": 34,
   "metadata": {},
   "outputs": [],
   "source": [
    "BES_reduced_with_na[\"strongLeaderW15__Strongly agree\"] = BES_PanelW15[\"strongLeader\"].cat.codes.replace(-1,np.nan)"
   ]
  },
  {
   "cell_type": "code",
   "execution_count": null,
   "metadata": {},
   "outputs": [],
   "source": [
    "#         immig.columns = [\"Delta_\"+x for x in immig.columns]\n",
    "#         if num ==0:\n",
    "#             immigDiff = immig.diff(axis=1).drop(immig.columns[0],axis=1)\n",
    "#         else:\n",
    "#             immigDiff = pd.concat( [immigDiff, immig.diff(axis=1).drop(immig.columns[0],axis=1)], axis=1)"
   ]
  },
  {
   "cell_type": "code",
   "execution_count": 38,
   "metadata": {},
   "outputs": [],
   "source": [
    "diffs = BES_reduced_with_na[search(BES_reduced_with_na,\"strongLeader\").index].diff(axis=1)\n"
   ]
  },
  {
   "cell_type": "code",
   "execution_count": 61,
   "metadata": {},
   "outputs": [
    {
     "data": {
      "text/plain": [
       "15086"
      ]
     },
     "execution_count": 61,
     "metadata": {},
     "output_type": "execute_result"
    }
   ],
   "source": [
    "diffW14_W15 = BES_reduced_with_na[\"strongLeaderW15__Strongly agree\"] - BES_reduced_with_na[\"strongLeaderW14__Strongly agree\"]\n",
    "diffW14_W15.notnull().sum()"
   ]
  },
  {
   "cell_type": "code",
   "execution_count": 62,
   "metadata": {},
   "outputs": [
    {
     "data": {
      "text/plain": [
       "ageW1                                                 -0.023081\n",
       "turnoutUKGeneralW1__Very likely that I will vote      -0.027770\n",
       "turnoutUKGeneralW2__Very likely that I will vote      -0.026766\n",
       "turnoutUKGeneralW3__Very likely that I will vote      -0.030392\n",
       "turnoutUKGeneralW4__Very likely that I will vote      -0.010683\n",
       "turnoutUKGeneralW5__Very likely that I will vote      -0.007528\n",
       "turnoutUKGeneralW7__Very likely that I will vote      -0.002602\n",
       "turnoutUKGeneralW8__Very likely that I will vote       0.023761\n",
       "turnoutUKGeneralW9__Very likely that I will vote       0.011989\n",
       "turnoutUKGeneralW10__Very likely that I will vote      0.015013\n",
       "turnoutUKGeneralW11__Very likely that I will vote      0.005730\n",
       "turnoutUKGeneralW12__Very likely that I will vote      0.031325\n",
       "generalElectionCertaintyW1__Completely certain         0.005640\n",
       "generalElectionCertaintyW2__Completely certain        -0.013310\n",
       "generalElectionCertaintyW3__Completely certain        -0.003668\n",
       "generalElectionCertaintyW4__Completely certain        -0.007280\n",
       "generalElectionCertaintyUnsqW5__Completely certain     0.018199\n",
       "generalElectionCertaintySqW5__Completely certain      -0.057727\n",
       "generalElectionCertaintyW5__Completely certain        -0.008268\n",
       "generalElectionCertaintyW9__Completely certain        -0.017220\n",
       "generalElectionCertaintyW10__Completely certain       -0.008479\n",
       "generalElectionCertaintyW11__Completely certain       -0.011699\n",
       "generalElectionCertaintyUnsqW12__Completely certain   -0.005660\n",
       "generalElectionCertaintySqW12__Completely certain     -0.022618\n",
       "generalElectionCertaintyW12__Completely certain        0.004975\n",
       "partyIdStrengthW1__Not very strong                     0.018653\n",
       "partyIdStrengthW2__Not very strong                     0.037201\n",
       "partyIdStrengthW3__Not very strong                     0.015201\n",
       "partyIdStrengthW4__Not very strong                     0.012908\n",
       "partyIdStrengthW6__Not very strong                     0.008206\n",
       "                                                         ...   \n",
       "achieveReduceImmigDKW12_Yes                            0.013519\n",
       "ukipPriorities_noneW2_Yes                              0.052200\n",
       "ukipPriorities_schoolW2_Yes                           -0.013873\n",
       "ukipPriorities_crimeW2_Yes                            -0.028667\n",
       "ukipPriorities_immigW2_Yes                            -0.040440\n",
       "ukipPriorities_nhsW2_Yes                               0.010613\n",
       "partyContactLD_2W2_Yes                                -0.025539\n",
       "ukipPriorities_costLiveW2_Yes                         -0.003481\n",
       "ukipPriorities_econW2_Yes                             -0.024398\n",
       "ldPriorities_noneW2_Yes                                0.056288\n",
       "ldPriorities_schoolW2_Yes                             -0.006819\n",
       "RV2W2_factory worker                                   0.025740\n",
       "ldPriorities_crimeW2_Yes                               0.013169\n",
       "achieveReduceImmigGrnW12_Yes                           0.020666\n",
       "scotReferendumIntentionW12_Will vote 'Yes'             0.025312\n",
       "partyContact1W12_Yes                                   0.026676\n",
       "partyContactUKIP_2W2_Yes                              -0.024828\n",
       "dv1ClassExpW2_Simmons                                  0.014668\n",
       "partyContactLD_5W2_Yes                                 0.021728\n",
       "partyContactLD_4W2_Yes                                -0.039762\n",
       "successReduceInequalityConW12_Yes                     -0.070609\n",
       "bestPMW12_Jeremy Corbyn                                0.059454\n",
       "partyContactUKIP_3W2_Yes                              -0.005031\n",
       "partyContactUKIP_4W2_Yes                               0.015243\n",
       "successReduceInequalityUKIPW12_Yes                    -0.065073\n",
       "partyContactUKIP_5W2_Yes                              -0.011787\n",
       "partyContactLDW12_Yes                                  0.014096\n",
       "partyContactLabW12_Yes                                 0.052926\n",
       "partyContactConW12_Yes                                -0.017477\n",
       "strongLeaderW15__Strongly agree                        0.701501\n",
       "Length: 6865, dtype: float64"
      ]
     },
     "execution_count": 62,
     "metadata": {},
     "output_type": "execute_result"
    }
   ],
   "source": [
    "corrs = BES_reduced_with_na.corrwith(diffW14_W15)\n",
    "# corrs"
   ]
  },
  {
   "cell_type": "code",
   "execution_count": 63,
   "metadata": {},
   "outputs": [
    {
     "data": {
      "text/plain": [
       "strongLeaderW14__Strongly agree                                                                             -0.476722\n",
       "al_scaleW14__Authoritarian                                                                                  -0.179497\n",
       "antiIntellectualW8__Strongly agree                                                                          -0.166995\n",
       "strongLeaderW10__Strongly agree                                                                             -0.164698\n",
       "blackEquality2W14__Gone much too far                                                                        -0.164235\n",
       "ptvUKIPW8__Very likely                                                                                      -0.162917\n",
       "overseasAidW14__Strongly agree                                                                              -0.160303\n",
       "al2W14__Strongly agree                                                                                      -0.155169\n",
       "al_scaleW10W11W12__Authoritarian                                                                            -0.146874\n",
       "euRefpastVoteW14_Leave the EU                                                                               -0.143303\n",
       "al1W14__Strongly agree                                                                                      -0.141925\n",
       "al2W10W11W12__Strongly agree                                                                                -0.141735\n",
       "strongLeaderW11__Strongly agree                                                                             -0.141634\n",
       "efficacyNotUnderstandW8__Strongly agree                                                                     -0.139216\n",
       "overseasAidW12__Strongly agree                                                                              -0.139112\n",
       "nhsEUW14__Strongly agree                                                                                    -0.139107\n",
       "al_scaleW13__Authoritarian                                                                                  -0.136017\n",
       "gayEquality2W14__Gone much too far                                                                          -0.135970\n",
       "al3W14__Strongly agree                                                                                      -0.134047\n",
       "ptvUKIPExpW14__Very likely                                                                                  -0.133638\n",
       "al5W14__Strongly agree                                                                                      -0.125343\n",
       "al2W13__Strongly agree                                                                                      -0.123821\n",
       "authLong2W10__Strongly agree                                                                                -0.122501\n",
       "taxSpendUKIPW14__Government should increase taxes a lot and spend much more on health and social services   -0.121349\n",
       "overseasAidW10__Strongly agree                                                                              -0.120771\n",
       "euPriorityBalanceW14__Control immigration                                                                   -0.119661\n",
       "likeNuttallW10__Strongly like                                                                               -0.119060\n",
       "al4W14__Strongly agree                                                                                      -0.117846\n",
       "al1W10W11W12__Strongly agree                                                                                -0.116864\n",
       "ukipLookAfterUnempW10__Very closely                                                                         -0.116270\n",
       "                                                                                                               ...   \n",
       "responsibleEconScottishGovtW3_Yes                                                                            0.093335\n",
       "immigCulturalW10__Enriches cultural life                                                                     0.093780\n",
       "competentLucasW10__A great deal of competence                                                                0.094170\n",
       "immigCulturalW13__Enriches cultural life                                                                     0.094504\n",
       "ptvLabW12__Very likely                                                                                       0.094797\n",
       "welfarePreferenceW11__Much too low                                                                           0.094990\n",
       "euLeaveBigBusinessW14__Much more likely                                                                      0.095332\n",
       "grnUnitedW12__Very united                                                                                    0.095435\n",
       "groupempathy4W14__Describes me extremely well                                                                0.095511\n",
       "auth2W14_Self-reliance                                                                                       0.096246\n",
       "integrityCorbynW13__Complete integrity                                                                       0.098043\n",
       "warmBenefitsW11__Very warm                                                                                   0.098416\n",
       "labHandleEducW14__Very well                                                                                  0.098929\n",
       "polKnowNetanyahuW10_Prime Minister of Israel                                                                 0.099259\n",
       "immigEconW10__Good for economy                                                                               0.099822\n",
       "likeLucasW14__Strongly like                                                                                  0.100334\n",
       "grnUnitedW11__Very united                                                                                    0.100463\n",
       "immigEconW13__Good for economy                                                                               0.104511\n",
       "labHandleNHSW14__Very well                                                                                   0.106773\n",
       "grnUnitedW13__Very united                                                                                    0.108383\n",
       "grnUnitedW14__Very united                                                                                    0.109300\n",
       "competentLucasW13__A great deal of competence                                                                0.111964\n",
       "redistUKIPW14__Government should be less concerned about equal incomes                                       0.114146\n",
       "immigCulturalW14__Enriches cultural life                                                                     0.118399\n",
       "redistConW12__Government should be less concerned about equal incomes                                        0.121659\n",
       "immigSelfW14__Allow many more                                                                                0.122878\n",
       "ukipAngryW14_Yes                                                                                             0.124073\n",
       "redistUKIPW12__Government should be less concerned about equal incomes                                       0.126218\n",
       "immigEconW14__Good for economy                                                                               0.133323\n",
       "strongLeaderW15__Strongly agree                                                                              0.701501\n",
       "Length: 6828, dtype: float64"
      ]
     },
     "execution_count": 63,
     "metadata": {},
     "output_type": "execute_result"
    }
   ],
   "source": [
    "corrs.sort_values().dropna()"
   ]
  },
  {
   "cell_type": "code",
   "execution_count": null,
   "metadata": {},
   "outputs": [],
   "source": []
  }
 ],
 "metadata": {
  "kernelspec": {
   "display_name": "Python [conda env:root]",
   "language": "python",
   "name": "conda-root-py"
  },
  "language_info": {
   "codemirror_mode": {
    "name": "ipython",
    "version": 3
   },
   "file_extension": ".py",
   "mimetype": "text/x-python",
   "name": "python",
   "nbconvert_exporter": "python",
   "pygments_lexer": "ipython3",
   "version": "3.6.7"
  }
 },
 "nbformat": 4,
 "nbformat_minor": 2
}
