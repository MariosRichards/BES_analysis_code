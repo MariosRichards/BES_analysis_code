{
 "cells": [
  {
   "cell_type": "code",
   "execution_count": null,
   "metadata": {
    "collapsed": true
   },
   "outputs": [],
   "source": []
  },
  {
   "cell_type": "code",
   "execution_count": null,
   "metadata": {
    "collapsed": true
   },
   "outputs": [],
   "source": [
    "# \"I'd be interested to see the actual per-question differences\n",
    "#  between the bottom-left and bottom-right corners of the\n",
    "#  population blob - is there one of the economic-left-coded\n",
    "#  questions that is particularly incompatible with social liberalism?\""
   ]
  },
  {
   "cell_type": "code",
   "execution_count": null,
   "metadata": {
    "collapsed": true
   },
   "outputs": [],
   "source": [
    "# load decomp\n",
    "\n",
    "# decomp"
   ]
  },
  {
   "cell_type": "code",
   "execution_count": null,
   "metadata": {
    "collapsed": true
   },
   "outputs": [],
   "source": []
  },
  {
   "cell_type": "code",
   "execution_count": null,
   "metadata": {
    "collapsed": true
   },
   "outputs": [],
   "source": [
    "comp = pd.DataFrame( decomp.components_[0], index = BES_reduced.columns, columns = [\"components_\"] )\n",
    "[comp.loc[\"al_scale__Authoritarian\"],\n",
    " comp.loc[\"al1__Strongly agree\"],\n",
    " comp.loc[\"al2__Strongly agree\"],\n",
    " comp.loc[\"al3__Strongly agree\"],\n",
    " comp.loc[\"al4__Strongly agree\"],\n",
    " comp.loc[\"al5__Strongly agree\"] ]"
   ]
  },
  {
   "cell_type": "code",
   "execution_count": null,
   "metadata": {
    "collapsed": true
   },
   "outputs": [],
   "source": [
    "comp = pd.DataFrame( decomp.components_[0], index = BES_reduced.columns, columns = [\"components_\"] )\n",
    "[comp.loc[\"lr_scale__Right\"],\n",
    " comp.loc[\"lr1__Strongly agree\"],\n",
    " comp.loc[\"lr2__Strongly agree\"],\n",
    " comp.loc[\"lr3__Strongly agree\"],\n",
    " comp.loc[\"lr4__Strongly agree\"],\n",
    " comp.loc[\"lr5__Strongly agree\"] ]"
   ]
  },
  {
   "cell_type": "code",
   "execution_count": null,
   "metadata": {
    "collapsed": true
   },
   "outputs": [],
   "source": [
    "comp = pd.DataFrame( decomp.components_[1], index = BES_reduced.columns, columns = [\"components_\"] )\n",
    "[comp.loc[\"al_scale__Authoritarian\"],\n",
    " comp.loc[\"al1__Strongly agree\"],\n",
    " comp.loc[\"al2__Strongly agree\"],\n",
    " comp.loc[\"al3__Strongly agree\"],\n",
    " comp.loc[\"al4__Strongly agree\"],\n",
    " comp.loc[\"al5__Strongly agree\"] ]"
   ]
  },
  {
   "cell_type": "code",
   "execution_count": null,
   "metadata": {
    "collapsed": true
   },
   "outputs": [],
   "source": [
    "comp = pd.DataFrame( decomp.components_[1], index = BES_reduced.columns, columns = [\"components_\"] )\n",
    "[comp.loc[\"lr_scale__Right\"],\n",
    " comp.loc[\"lr1__Strongly agree\"],\n",
    " comp.loc[\"lr2__Strongly agree\"],\n",
    " comp.loc[\"lr3__Strongly agree\"],\n",
    " comp.loc[\"lr4__Strongly agree\"],\n",
    " comp.loc[\"lr5__Strongly agree\"] ]"
   ]
  },
  {
   "cell_type": "code",
   "execution_count": null,
   "metadata": {
    "collapsed": true
   },
   "outputs": [],
   "source": [
    "# looking at the lr/al contribution to the first two components\n",
    "# significant (either top variable or close) and well behaved\n",
    "# (lr_scale and al_scale make a bigger contribution than any individual question)\n",
    "\n",
    "# Only thing that does stand out:\n",
    "# in Component 0 (EUrefVote/authoritarian) axes, lr_scale and variables are basically noise ...\n",
    "# ... except for lr1\n",
    "# \"Government should redistribute income from the better off to those who are less well off\"\n",
    "# Which negatively correlates with Component 0\n",
    "# Not a *huge* contribution, but significantly larger than the other lr/lr_scale variables"
   ]
  },
  {
   "cell_type": "code",
   "execution_count": null,
   "metadata": {
    "collapsed": true
   },
   "outputs": [],
   "source": [
    "al_lr_vars = [ \"al_scale__Authoritarian\",\n",
    " \"al1__Strongly agree\",\n",
    " \"al2__Strongly agree\",\n",
    " \"al3__Strongly agree\",\n",
    " \"al4__Strongly agree\",\n",
    " \"al5__Strongly agree\",\n",
    " \"lr_scale__Right\",\n",
    " \"lr1__Strongly agree\",\n",
    " \"lr2__Strongly agree\",\n",
    " \"lr3__Strongly agree\",\n",
    " \"lr4__Strongly agree\",\n",
    " \"lr5__Strongly agree\",\n",
    " #\"leftRight__10 (right)\",\n",
    "]\n",
    "\n",
    "# , \"lrgreens\"\n",
    "#  \"lrCon__10 - Right\",\n",
    "#  \"lrLab__10 - Right\", \"lrLD__10 - Right\", \"lrUKIP__10 - Right\",\n",
    "#  \"lrSNP__10 - Right\", \"lrPC__10 - Right\""
   ]
  },
  {
   "cell_type": "code",
   "execution_count": null,
   "metadata": {
    "collapsed": true
   },
   "outputs": [],
   "source": [
    "from scipy.stats import pearsonr\n",
    "corr_out = BES_reduced[ al_lr_vars ].corr()\n",
    "p_list = []\n",
    "for col in corr_out:\n",
    "    \n",
    "    for ind in corr_out[col].index:\n",
    "        \n",
    "        (cor,p) = pearsonr(BES_reduced[col], BES_reduced[ind])\n",
    "\n",
    "        if p>0.01: # not highly significant!\n",
    "\n",
    "            corr_out.loc[ind,col] = 0\n",
    "\n",
    "corr_out"
   ]
  },
  {
   "cell_type": "code",
   "execution_count": null,
   "metadata": {
    "collapsed": true
   },
   "outputs": [],
   "source": [
    "BES_Panel[\"profile_past_vote_2015\"].cat.categories"
   ]
  },
  {
   "cell_type": "code",
   "execution_count": null,
   "metadata": {
    "collapsed": true
   },
   "outputs": [],
   "source": [
    "# Notes on correlations between al/lr variables\n",
    "# in al variables, al4 is the 'odd man out' weaker corr with other variables, breaks trend\n",
    "# note - this is also the only variable with significant gender correlation - perhaps related\n",
    "\n",
    "# in lr variables no similar variables different across board\n",
    "# but lr1 x lr5 correlation *bit* of outlier in weakness\n",
    "\n",
    "# in cross-correlation - very little\n",
    "# except lr1 negatively correlating (weakly) with all al variables (except al4)\n",
    "# similar pattern, but even weaker positive correlation with lr5 (except al4) - but also weaker for al3\n"
   ]
  },
  {
   "cell_type": "code",
   "execution_count": null,
   "metadata": {
    "collapsed": true
   },
   "outputs": [],
   "source": [
    "UKIP_index = BES_Panel[ BES_Panel[\"profile_past_vote_2015\"] == \"United Kingdom Independence Party (UKIP)\" ].index\n",
    "Con_index = BES_Panel[ BES_Panel[\"profile_past_vote_2015\"] == 'Conservative' ].index\n",
    "Labour_index = BES_Panel[ BES_Panel[\"profile_past_vote_2015\"] == \"Labour\" ].index\n",
    "LD_index = BES_Panel[ BES_Panel[\"profile_past_vote_2015\"] == 'Liberal Democrat' ].index\n",
    "SNP_index = BES_Panel[ BES_Panel[\"profile_past_vote_2015\"] == 'Scottish National Party (SNP)' ].index\n",
    "GP_index = BES_Panel[ BES_Panel[\"profile_past_vote_2015\"] == 'Green Party' ].index\n",
    "BNP_index = BES_Panel[ BES_Panel[\"profile_past_vote_2015\"] == 'British National Party (BNP)' ].index\n",
    "Oth_index = BES_Panel[ BES_Panel[\"profile_past_vote_2015\"] == 'Other' ].index\n",
    "DK_index = BES_Panel[ BES_Panel[\"profile_past_vote_2015\"] == 'Don\\'t know' ].index"
   ]
  },
  {
   "cell_type": "code",
   "execution_count": null,
   "metadata": {
    "collapsed": true
   },
   "outputs": [],
   "source": [
    "from scipy.stats import pearsonr\n",
    "corr_out = BES_reduced[ al_lr_vars ].loc[UKIP_index].corr()\n",
    "p_list = []\n",
    "for col in corr_out:\n",
    "    \n",
    "    for ind in corr_out[col].index:\n",
    "        \n",
    "        (cor,p) = pearsonr(BES_reduced[col], BES_reduced[ind])\n",
    "\n",
    "        if p>0.01: # not highly significant!\n",
    "\n",
    "            corr_out.loc[ind,col] = 0\n",
    "\n",
    "corr_out"
   ]
  },
  {
   "cell_type": "code",
   "execution_count": null,
   "metadata": {
    "collapsed": true
   },
   "outputs": [],
   "source": [
    "from scipy.stats import pearsonr\n",
    "corr_out = BES_reduced[ al_lr_vars ].loc[Labour_index].corr()\n",
    "p_list = []\n",
    "for col in corr_out:\n",
    "    \n",
    "    for ind in corr_out[col].index:\n",
    "        \n",
    "        (cor,p) = pearsonr(BES_reduced[col], BES_reduced[ind])\n",
    "\n",
    "        if p>0.01: # not highly significant!\n",
    "\n",
    "            corr_out.loc[ind,col] = 0\n",
    "\n",
    "corr_out"
   ]
  },
  {
   "cell_type": "code",
   "execution_count": null,
   "metadata": {
    "collapsed": true
   },
   "outputs": [],
   "source": [
    "from scipy.stats import pearsonr\n",
    "corr_out = BES_reduced[ al_lr_vars ].loc[Con_index].corr()\n",
    "p_list = []\n",
    "for col in corr_out:\n",
    "    \n",
    "    for ind in corr_out[col].index:\n",
    "        \n",
    "        (cor,p) = pearsonr(BES_reduced[col], BES_reduced[ind])\n",
    "\n",
    "        if p>0.01: # not highly significant!\n",
    "\n",
    "            corr_out.loc[ind,col] = 0\n",
    "\n",
    "corr_out"
   ]
  },
  {
   "cell_type": "code",
   "execution_count": null,
   "metadata": {
    "collapsed": true
   },
   "outputs": [],
   "source": [
    "from scipy.stats import pearsonr\n",
    "corr_out = BES_reduced[ al_lr_vars ].loc[LD_index].corr()\n",
    "p_list = []\n",
    "for col in corr_out:\n",
    "    \n",
    "    for ind in corr_out[col].index:\n",
    "        \n",
    "        (cor,p) = pearsonr(BES_reduced[col], BES_reduced[ind])\n",
    "\n",
    "        if p>0.01: # not highly significant!\n",
    "\n",
    "            corr_out.loc[ind,col] = 0\n",
    "\n",
    "corr_out"
   ]
  },
  {
   "cell_type": "code",
   "execution_count": null,
   "metadata": {
    "collapsed": true
   },
   "outputs": [],
   "source": [
    "from scipy.stats import pearsonr\n",
    "corr_out = BES_reduced[ al_lr_vars ].loc[GP_index].corr()\n",
    "p_list = []\n",
    "for col in corr_out:\n",
    "    \n",
    "    for ind in corr_out[col].index:\n",
    "        \n",
    "        (cor,p) = pearsonr(BES_reduced[col], BES_reduced[ind])\n",
    "\n",
    "        if p>0.01: # not highly significant!\n",
    "\n",
    "            corr_out.loc[ind,col] = 0\n",
    "\n",
    "corr_out"
   ]
  },
  {
   "cell_type": "code",
   "execution_count": null,
   "metadata": {
    "collapsed": true
   },
   "outputs": [],
   "source": [
    "from scipy.stats import pearsonr\n",
    "corr_out = BES_reduced[ al_lr_vars ].loc[BNP_index].corr()\n",
    "p_list = []\n",
    "for col in corr_out:\n",
    "    \n",
    "    for ind in corr_out[col].index:\n",
    "        \n",
    "        (cor,p) = pearsonr(BES_reduced[col], BES_reduced[ind])\n",
    "\n",
    "        if p>0.01: # not highly significant!\n",
    "\n",
    "            corr_out.loc[ind,col] = 0\n",
    "\n",
    "corr_out"
   ]
  },
  {
   "cell_type": "code",
   "execution_count": null,
   "metadata": {
    "collapsed": true
   },
   "outputs": [],
   "source": [
    "from scipy.stats import pearsonr\n",
    "corr_out = BES_reduced[ al_lr_vars ].loc[SNP_index].corr()\n",
    "p_list = []\n",
    "for col in corr_out:\n",
    "    \n",
    "    for ind in corr_out[col].index:\n",
    "        \n",
    "        (cor,p) = pearsonr(BES_reduced[col], BES_reduced[ind])\n",
    "\n",
    "        if p>0.01: # not highly significant!\n",
    "\n",
    "            corr_out.loc[ind,col] = 0\n",
    "\n",
    "corr_out"
   ]
  },
  {
   "cell_type": "code",
   "execution_count": null,
   "metadata": {
    "collapsed": true
   },
   "outputs": [],
   "source": [
    "from scipy.stats import pearsonr\n",
    "corr_out = BES_reduced[ al_lr_vars ].loc[Oth_index].corr()\n",
    "p_list = []\n",
    "for col in corr_out:\n",
    "    \n",
    "    for ind in corr_out[col].index:\n",
    "        \n",
    "        (cor,p) = pearsonr(BES_reduced[col], BES_reduced[ind])\n",
    "\n",
    "        if p>0.01: # not highly significant!\n",
    "\n",
    "            corr_out.loc[ind,col] = 0\n",
    "\n",
    "corr_out"
   ]
  },
  {
   "cell_type": "code",
   "execution_count": null,
   "metadata": {
    "collapsed": true
   },
   "outputs": [],
   "source": [
    "from scipy.stats import pearsonr\n",
    "corr_out = BES_reduced[ al_lr_vars ].loc[DK_index].corr()\n",
    "p_list = []\n",
    "for col in corr_out:\n",
    "    \n",
    "    for ind in corr_out[col].index:\n",
    "        \n",
    "        (cor,p) = pearsonr(BES_reduced[col], BES_reduced[ind])\n",
    "\n",
    "        if p>0.01: # not highly significant!\n",
    "\n",
    "            corr_out.loc[ind,col] = 0\n",
    "\n",
    "corr_out"
   ]
  },
  {
   "cell_type": "code",
   "execution_count": null,
   "metadata": {
    "collapsed": true
   },
   "outputs": [],
   "source": [
    "BES_reduced[ al_lr_vars ].loc[UKIP_index].mean()"
   ]
  },
  {
   "cell_type": "code",
   "execution_count": null,
   "metadata": {
    "collapsed": true
   },
   "outputs": [],
   "source": [
    "BES_reduced[ al_lr_vars ].loc[Labour_index].mean()"
   ]
  },
  {
   "cell_type": "code",
   "execution_count": null,
   "metadata": {
    "collapsed": true
   },
   "outputs": [],
   "source": [
    "al_lr_vars_short = [\"al_scale\", \"al1\", \"al2\", \"al3\", \"al4\", \"al5\", \"lr_scale\", \"lr1\", \"lr2\", \"lr3\", \"lr5\", \"leftRight\",\n",
    "                   \"lrCon\", \"lrLab\", \"lrLD\", \"lrSNP\",\"lrUKIP\",'lrgreens']\n",
    "\n",
    "\n",
    "BES_corr = BES_Panel[ al_lr_vars_short ].apply(lambda x: x.cat.codes).replace(-1,np.nan).corr()"
   ]
  },
  {
   "cell_type": "code",
   "execution_count": null,
   "metadata": {
    "collapsed": true
   },
   "outputs": [],
   "source": [
    "BES_corr[\"leftRight\"]"
   ]
  },
  {
   "cell_type": "code",
   "execution_count": null,
   "metadata": {
    "collapsed": true
   },
   "outputs": [],
   "source": [
    "BES_corr[[\"lrCon\", \"lrLab\", \"lrLD\", \"lrSNP\",\"lrUKIP\",'lrgreens']]"
   ]
  },
  {
   "cell_type": "code",
   "execution_count": null,
   "metadata": {
    "collapsed": true
   },
   "outputs": [],
   "source": [
    "[x for x in BES_Panel.columns if \"lr\" in x]"
   ]
  },
  {
   "cell_type": "code",
   "execution_count": null,
   "metadata": {
    "collapsed": true
   },
   "outputs": [],
   "source": []
  },
  {
   "cell_type": "code",
   "execution_count": null,
   "metadata": {
    "collapsed": true
   },
   "outputs": [],
   "source": []
  },
  {
   "cell_type": "code",
   "execution_count": null,
   "metadata": {
    "collapsed": true
   },
   "outputs": [],
   "source": []
  },
  {
   "cell_type": "code",
   "execution_count": null,
   "metadata": {
    "collapsed": true
   },
   "outputs": [],
   "source": []
  }
 ],
 "metadata": {
  "anaconda-cloud": {},
  "kernelspec": {
   "display_name": "Python [conda env:BES_analysis] *",
   "language": "python",
   "name": "conda-env-BES_analysis-py"
  },
  "language_info": {
   "codemirror_mode": {
    "name": "ipython",
    "version": 3
   },
   "file_extension": ".py",
   "mimetype": "text/x-python",
   "name": "python",
   "nbconvert_exporter": "python",
   "pygments_lexer": "ipython3",
   "version": "3.7.9"
  }
 },
 "nbformat": 4,
 "nbformat_minor": 1
}
