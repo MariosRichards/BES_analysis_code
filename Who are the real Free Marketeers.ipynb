{
 "cells": [
  {
   "cell_type": "code",
   "execution_count": null,
   "metadata": {
    "collapsed": true
   },
   "outputs": [],
   "source": [
    "fig = plt.figure( figsize=(16,10) )\n",
    "sns.kdeplot(BES_reduced_with_na[BES_numeric['profile_education_age']<4.0].lr_scale__Right.dropna(),cut=0, label=\"Little/No Higher Education\")\n",
    "sns.kdeplot(BES_reduced_with_na[BES_numeric['profile_education_age']==4.0].lr_scale__Right.dropna(),cut=0, label=\"Some Higher Education\")\n",
    "sns.kdeplot(BES_reduced_with_na[BES_numeric['profile_education_age']==5.0].lr_scale__Right.dropna(),cut=0, label=\"Current Full Time Students\")\n"
   ]
  },
  {
   "cell_type": "code",
   "execution_count": null,
   "metadata": {
    "collapsed": true
   },
   "outputs": [],
   "source": [
    "fig = plt.figure( figsize=(16,10) )\n",
    "sns.kdeplot(BES_reduced_with_na[BES_numeric['profile_education_age']<4.0].lr_scale__Right.dropna(),cut=0, label=\"Little/No Higher Education\")\n",
    "sns.kdeplot(BES_reduced_with_na[BES_numeric['profile_education_age']==4.0].lr_scale__Right.dropna(),cut=0, label=\"Some Higher Education\")\n",
    "sns.kdeplot(BES_reduced_with_na[BES_numeric['profile_education_age']==5.0].lr_scale__Right.dropna(),cut=0, label=\"Current Full Time Students\")\n",
    "\n",
    "plt.xlabel( \"Economic Left(0)-Right(20)\" )\n",
    "\n",
    "plt.title( 'Are universities are luring millennials to communism?' )\n",
    "dataset_citation = \"Source: \" + manifest[\"Citation\"].values[0]\n",
    "plt.annotate(dataset_citation, (0,0), (0, -40),\n",
    "                 xycoords='axes fraction', textcoords='offset points', va='top', fontsize = 7)     \n",
    "\n",
    "fig.savefig( output_subfolder + decomp_method+ \"communist_universities\"+\".png\", bbox_inches='tight' )"
   ]
  },
  {
   "cell_type": "code",
   "execution_count": null,
   "metadata": {
    "collapsed": true
   },
   "outputs": [],
   "source": [
    "fig = plt.figure( figsize=(16,10) )\n",
    "sns.kdeplot(BES_reduced_with_na[BES_numeric['profile_education_age']<4.0].al_scale__Authoritarian.dropna(),cut=0, label=\"Little/No Higher Education\")\n",
    "sns.kdeplot(BES_reduced_with_na[BES_numeric['profile_education_age']==4.0].al_scale__Authoritarian.dropna(),cut=0, label=\"Some Higher Education\")\n",
    "sns.kdeplot(BES_reduced_with_na[BES_numeric['profile_education_age']==5.0].al_scale__Authoritarian.dropna(),cut=0, label=\"Current Full Time Students\")\n",
    "\n",
    "plt.xlabel( \"Socially Liberal(0)-Socially Conservative(20)\" )\n",
    "\n",
    "plt.title( 'Are universities are luring millennials to communism?' )\n",
    "dataset_citation = \"Source: \" + manifest[\"Citation\"].values[0]\n",
    "plt.annotate(dataset_citation, (0,0), (0, -40),\n",
    "                 xycoords='axes fraction', textcoords='offset points', va='top', fontsize = 7)     \n",
    "\n",
    "fig.savefig( output_subfolder + decomp_method+ \"communist_universities_by_al_scale\"+\".png\", bbox_inches='tight' )"
   ]
  }
 ],
 "metadata": {
  "kernelspec": {
   "display_name": "Python [conda env:BES_analysis]",
   "language": "python",
   "name": "conda-env-BES_analysis-py"
  },
  "language_info": {
   "codemirror_mode": {
    "name": "ipython",
    "version": 3
   },
   "file_extension": ".py",
   "mimetype": "text/x-python",
   "name": "python",
   "nbconvert_exporter": "python",
   "pygments_lexer": "ipython3",
   "version": "3.6.2"
  }
 },
 "nbformat": 4,
 "nbformat_minor": 2
}
