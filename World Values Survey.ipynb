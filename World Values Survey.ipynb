{
 "cells": [
  {
   "cell_type": "code",
   "execution_count": null,
   "id": "b611640f-419e-47cf-a2c7-daaf3e1ec1a2",
   "metadata": {},
   "outputs": [],
   "source": [
    "# https://www.worldvaluessurvey.org/WVSContents.jsp\n",
    "# datasets \n",
    "\n",
    "\n",
    "# https://www.ft.com/content/3046013f-da85-4987-92a5-4a9e3008a9e1\n",
    "# John Burn-Murdoch \"Why the Maga Mindset is different\"\n",
    "\n",
    "# liberal-conservative x international co-operation (wave 7)\n",
    "# 1990-2020 timeseries\n",
    "\n",
    "# https://www.worldvaluessurvey.org/WVSDocumentationWVL.jsp"
   ]
  },
  {
   "cell_type": "code",
   "execution_count": 1,
   "id": "16284908-022b-4526-b1aa-36ec729e94b0",
   "metadata": {},
   "outputs": [
    {
     "data": {
      "text/html": [
       "<script>jQuery(function() {if (jQuery(\"body.notebook_app\").length == 0) { jQuery(\".input_area\").toggle(); jQuery(\".prompt\").toggle();}});</script>"
      ]
     },
     "metadata": {},
     "output_type": "display_data"
    },
    {
     "data": {
      "text/html": [
       "<button onclick=\"jQuery('.input_area').toggle(); jQuery('.prompt').toggle();\">Toggle code</button>"
      ]
     },
     "metadata": {},
     "output_type": "display_data"
    },
    {
     "name": "stdout",
     "output_type": "stream",
     "text": [
      "var_type (474, 13)\n",
      "CPU times: total: 3.45 s\n",
      "Wall time: 48.4 s\n"
     ]
    }
   ],
   "source": [
    "%%time\n",
    "dataset_name = \"W29_only\"\n",
    "df_list = \"BES_Panel\"\n",
    "#|BES_reduced_with_na\"\n",
    "\n",
    "%matplotlib inline \n",
    "%run BES_header.py {dataset_name} {df_list}\n",
    "\n",
    "global BES_label_list, BES_df_list\n",
    "# BES_reduced_with_na.index=BES_Panel.index\n",
    "\n",
    "del BES_Panel\n",
    "\n",
    "## MAKE VS JUST FOR THE IMPORTS!"
   ]
  },
  {
   "cell_type": "code",
   "execution_count": 2,
   "id": "f11a0603-4272-4540-8c55-eb530c77c57a",
   "metadata": {},
   "outputs": [
    {
     "ename": "ValueError",
     "evalue": "\nValue labels for column E179WVS are not unique. These cannot be converted to\npandas categoricals.\n\nEither read the file with `convert_categoricals` set to False or use the\nlow level interface in `StataReader` to separately read the values and the\nvalue_labels.\n\nThe repeated labels are:\n--------------------------------------------------------------------------------\nPAK: Awami National Party\nIDN: Prosperous Justice Party\nIND: National People's Party\nMKD: Socialist Party of Macedonia\nCYP: Democratic Alignment\nBRA:Communist Party of Brazil\nZAF: Afrikaner Unity Movement\nPAK: Assembly of Islamic Clerics\n",
     "output_type": "error",
     "traceback": [
      "\u001b[1;31m---------------------------------------------------------------------------\u001b[0m",
      "\u001b[1;31mValueError\u001b[0m                                Traceback (most recent call last)",
      "File \u001b[1;32mE:\\Users\\Gamer\\anaconda3\\envs\\tf-n-gpu\\lib\\site-packages\\pandas\\io\\stata.py:1963\u001b[0m, in \u001b[0;36mStataReader._do_convert_categoricals\u001b[1;34m(self, data, value_label_dict, lbllist, order_categoricals)\u001b[0m\n\u001b[0;32m   1960\u001b[0m \u001b[38;5;28;01mtry\u001b[39;00m:\n\u001b[0;32m   1961\u001b[0m     \u001b[38;5;66;03m# Try to catch duplicate categories\u001b[39;00m\n\u001b[0;32m   1962\u001b[0m     \u001b[38;5;66;03m# TODO: if we get a non-copying rename_categories, use that\u001b[39;00m\n\u001b[1;32m-> 1963\u001b[0m     cat_data \u001b[38;5;241m=\u001b[39m \u001b[43mcat_data\u001b[49m\u001b[38;5;241;43m.\u001b[39;49m\u001b[43mrename_categories\u001b[49m\u001b[43m(\u001b[49m\u001b[43mcategories\u001b[49m\u001b[43m)\u001b[49m\n\u001b[0;32m   1964\u001b[0m \u001b[38;5;28;01mexcept\u001b[39;00m \u001b[38;5;167;01mValueError\u001b[39;00m \u001b[38;5;28;01mas\u001b[39;00m err:\n",
      "File \u001b[1;32mE:\\Users\\Gamer\\anaconda3\\envs\\tf-n-gpu\\lib\\site-packages\\pandas\\core\\arrays\\categorical.py:1205\u001b[0m, in \u001b[0;36mCategorical.rename_categories\u001b[1;34m(self, new_categories)\u001b[0m\n\u001b[0;32m   1204\u001b[0m cat \u001b[38;5;241m=\u001b[39m \u001b[38;5;28mself\u001b[39m\u001b[38;5;241m.\u001b[39mcopy()\n\u001b[1;32m-> 1205\u001b[0m \u001b[43mcat\u001b[49m\u001b[38;5;241;43m.\u001b[39;49m\u001b[43m_set_categories\u001b[49m\u001b[43m(\u001b[49m\u001b[43mnew_categories\u001b[49m\u001b[43m)\u001b[49m\n\u001b[0;32m   1206\u001b[0m \u001b[38;5;28;01mreturn\u001b[39;00m cat\n",
      "File \u001b[1;32mE:\\Users\\Gamer\\anaconda3\\envs\\tf-n-gpu\\lib\\site-packages\\pandas\\core\\arrays\\categorical.py:924\u001b[0m, in \u001b[0;36mCategorical._set_categories\u001b[1;34m(self, categories, fastpath)\u001b[0m\n\u001b[0;32m    923\u001b[0m \u001b[38;5;28;01melse\u001b[39;00m:\n\u001b[1;32m--> 924\u001b[0m     new_dtype \u001b[38;5;241m=\u001b[39m \u001b[43mCategoricalDtype\u001b[49m\u001b[43m(\u001b[49m\u001b[43mcategories\u001b[49m\u001b[43m,\u001b[49m\u001b[43m \u001b[49m\u001b[43mordered\u001b[49m\u001b[38;5;241;43m=\u001b[39;49m\u001b[38;5;28;43mself\u001b[39;49m\u001b[38;5;241;43m.\u001b[39;49m\u001b[43mordered\u001b[49m\u001b[43m)\u001b[49m\n\u001b[0;32m    925\u001b[0m \u001b[38;5;28;01mif\u001b[39;00m (\n\u001b[0;32m    926\u001b[0m     \u001b[38;5;129;01mnot\u001b[39;00m fastpath\n\u001b[0;32m    927\u001b[0m     \u001b[38;5;129;01mand\u001b[39;00m \u001b[38;5;28mself\u001b[39m\u001b[38;5;241m.\u001b[39mdtype\u001b[38;5;241m.\u001b[39mcategories \u001b[38;5;129;01mis\u001b[39;00m \u001b[38;5;129;01mnot\u001b[39;00m \u001b[38;5;28;01mNone\u001b[39;00m\n\u001b[0;32m    928\u001b[0m     \u001b[38;5;129;01mand\u001b[39;00m \u001b[38;5;28mlen\u001b[39m(new_dtype\u001b[38;5;241m.\u001b[39mcategories) \u001b[38;5;241m!=\u001b[39m \u001b[38;5;28mlen\u001b[39m(\u001b[38;5;28mself\u001b[39m\u001b[38;5;241m.\u001b[39mdtype\u001b[38;5;241m.\u001b[39mcategories)\n\u001b[0;32m    929\u001b[0m ):\n",
      "File \u001b[1;32mE:\\Users\\Gamer\\anaconda3\\envs\\tf-n-gpu\\lib\\site-packages\\pandas\\core\\dtypes\\dtypes.py:221\u001b[0m, in \u001b[0;36mCategoricalDtype.__init__\u001b[1;34m(self, categories, ordered)\u001b[0m\n\u001b[0;32m    220\u001b[0m \u001b[38;5;28;01mdef\u001b[39;00m\u001b[38;5;250m \u001b[39m\u001b[38;5;21m__init__\u001b[39m(\u001b[38;5;28mself\u001b[39m, categories\u001b[38;5;241m=\u001b[39m\u001b[38;5;28;01mNone\u001b[39;00m, ordered: Ordered \u001b[38;5;241m=\u001b[39m \u001b[38;5;28;01mFalse\u001b[39;00m) \u001b[38;5;241m-\u001b[39m\u001b[38;5;241m>\u001b[39m \u001b[38;5;28;01mNone\u001b[39;00m:\n\u001b[1;32m--> 221\u001b[0m     \u001b[38;5;28;43mself\u001b[39;49m\u001b[38;5;241;43m.\u001b[39;49m\u001b[43m_finalize\u001b[49m\u001b[43m(\u001b[49m\u001b[43mcategories\u001b[49m\u001b[43m,\u001b[49m\u001b[43m \u001b[49m\u001b[43mordered\u001b[49m\u001b[43m,\u001b[49m\u001b[43m \u001b[49m\u001b[43mfastpath\u001b[49m\u001b[38;5;241;43m=\u001b[39;49m\u001b[38;5;28;43;01mFalse\u001b[39;49;00m\u001b[43m)\u001b[49m\n",
      "File \u001b[1;32mE:\\Users\\Gamer\\anaconda3\\envs\\tf-n-gpu\\lib\\site-packages\\pandas\\core\\dtypes\\dtypes.py:378\u001b[0m, in \u001b[0;36mCategoricalDtype._finalize\u001b[1;34m(self, categories, ordered, fastpath)\u001b[0m\n\u001b[0;32m    377\u001b[0m \u001b[38;5;28;01mif\u001b[39;00m categories \u001b[38;5;129;01mis\u001b[39;00m \u001b[38;5;129;01mnot\u001b[39;00m \u001b[38;5;28;01mNone\u001b[39;00m:\n\u001b[1;32m--> 378\u001b[0m     categories \u001b[38;5;241m=\u001b[39m \u001b[38;5;28;43mself\u001b[39;49m\u001b[38;5;241;43m.\u001b[39;49m\u001b[43mvalidate_categories\u001b[49m\u001b[43m(\u001b[49m\u001b[43mcategories\u001b[49m\u001b[43m,\u001b[49m\u001b[43m \u001b[49m\u001b[43mfastpath\u001b[49m\u001b[38;5;241;43m=\u001b[39;49m\u001b[43mfastpath\u001b[49m\u001b[43m)\u001b[49m\n\u001b[0;32m    380\u001b[0m \u001b[38;5;28mself\u001b[39m\u001b[38;5;241m.\u001b[39m_categories \u001b[38;5;241m=\u001b[39m categories\n",
      "File \u001b[1;32mE:\\Users\\Gamer\\anaconda3\\envs\\tf-n-gpu\\lib\\site-packages\\pandas\\core\\dtypes\\dtypes.py:579\u001b[0m, in \u001b[0;36mCategoricalDtype.validate_categories\u001b[1;34m(categories, fastpath)\u001b[0m\n\u001b[0;32m    578\u001b[0m     \u001b[38;5;28;01mif\u001b[39;00m \u001b[38;5;129;01mnot\u001b[39;00m categories\u001b[38;5;241m.\u001b[39mis_unique:\n\u001b[1;32m--> 579\u001b[0m         \u001b[38;5;28;01mraise\u001b[39;00m \u001b[38;5;167;01mValueError\u001b[39;00m(\u001b[38;5;124m\"\u001b[39m\u001b[38;5;124mCategorical categories must be unique\u001b[39m\u001b[38;5;124m\"\u001b[39m)\n\u001b[0;32m    581\u001b[0m \u001b[38;5;28;01mif\u001b[39;00m \u001b[38;5;28misinstance\u001b[39m(categories, ABCCategoricalIndex):\n",
      "\u001b[1;31mValueError\u001b[0m: Categorical categories must be unique",
      "\nThe above exception was the direct cause of the following exception:\n",
      "\u001b[1;31mValueError\u001b[0m                                Traceback (most recent call last)",
      "Cell \u001b[1;32mIn[2], line 1\u001b[0m\n\u001b[1;32m----> 1\u001b[0m \u001b[43mpd\u001b[49m\u001b[38;5;241;43m.\u001b[39;49m\u001b[43mread_stata\u001b[49m\u001b[43m(\u001b[49m\u001b[38;5;124;43m\"\u001b[39;49m\u001b[38;5;124;43mE:\u001b[39;49m\u001b[38;5;130;43;01m\\\\\u001b[39;49;00m\u001b[38;5;124;43mDatasets\u001b[39;49m\u001b[38;5;130;43;01m\\\\\u001b[39;49;00m\u001b[38;5;124;43mWorld Values Survey\u001b[39;49m\u001b[38;5;130;43;01m\\\\\u001b[39;49;00m\u001b[38;5;124;43mWVS Time Series Data\u001b[39;49m\u001b[38;5;130;43;01m\\\\\u001b[39;49;00m\u001b[38;5;124;43mF00011930-WVS_Time_Series_1981-2022_Stata_v5_0\u001b[39;49m\u001b[38;5;130;43;01m\\\\\u001b[39;49;00m\u001b[38;5;124;43mWVS_Time_Series_1981-2022_stata_v5_0.dta\u001b[39;49m\u001b[38;5;124;43m\"\u001b[39;49m\u001b[43m)\u001b[49m\n",
      "File \u001b[1;32mE:\\Users\\Gamer\\anaconda3\\envs\\tf-n-gpu\\lib\\site-packages\\pandas\\io\\stata.py:2109\u001b[0m, in \u001b[0;36mread_stata\u001b[1;34m(filepath_or_buffer, convert_dates, convert_categoricals, index_col, convert_missing, preserve_dtypes, columns, order_categoricals, chunksize, iterator, compression, storage_options)\u001b[0m\n\u001b[0;32m   2106\u001b[0m     \u001b[38;5;28;01mreturn\u001b[39;00m reader\n\u001b[0;32m   2108\u001b[0m \u001b[38;5;28;01mwith\u001b[39;00m reader:\n\u001b[1;32m-> 2109\u001b[0m     \u001b[38;5;28;01mreturn\u001b[39;00m \u001b[43mreader\u001b[49m\u001b[38;5;241;43m.\u001b[39;49m\u001b[43mread\u001b[49m\u001b[43m(\u001b[49m\u001b[43m)\u001b[49m\n",
      "File \u001b[1;32mE:\\Users\\Gamer\\anaconda3\\envs\\tf-n-gpu\\lib\\site-packages\\pandas\\io\\stata.py:1795\u001b[0m, in \u001b[0;36mStataReader.read\u001b[1;34m(self, nrows, convert_dates, convert_categoricals, index_col, convert_missing, preserve_dtypes, columns, order_categoricals)\u001b[0m\n\u001b[0;32m   1790\u001b[0m             data\u001b[38;5;241m.\u001b[39misetitem(\n\u001b[0;32m   1791\u001b[0m                 i, _stata_elapsed_date_to_datetime_vec(data\u001b[38;5;241m.\u001b[39miloc[:, i], fmt)\n\u001b[0;32m   1792\u001b[0m             )\n\u001b[0;32m   1794\u001b[0m \u001b[38;5;28;01mif\u001b[39;00m convert_categoricals \u001b[38;5;129;01mand\u001b[39;00m \u001b[38;5;28mself\u001b[39m\u001b[38;5;241m.\u001b[39m_format_version \u001b[38;5;241m>\u001b[39m \u001b[38;5;241m108\u001b[39m:\n\u001b[1;32m-> 1795\u001b[0m     data \u001b[38;5;241m=\u001b[39m \u001b[38;5;28;43mself\u001b[39;49m\u001b[38;5;241;43m.\u001b[39;49m\u001b[43m_do_convert_categoricals\u001b[49m\u001b[43m(\u001b[49m\n\u001b[0;32m   1796\u001b[0m \u001b[43m        \u001b[49m\u001b[43mdata\u001b[49m\u001b[43m,\u001b[49m\u001b[43m \u001b[49m\u001b[38;5;28;43mself\u001b[39;49m\u001b[38;5;241;43m.\u001b[39;49m\u001b[43m_value_label_dict\u001b[49m\u001b[43m,\u001b[49m\u001b[43m \u001b[49m\u001b[38;5;28;43mself\u001b[39;49m\u001b[38;5;241;43m.\u001b[39;49m\u001b[43m_lbllist\u001b[49m\u001b[43m,\u001b[49m\u001b[43m \u001b[49m\u001b[43morder_categoricals\u001b[49m\n\u001b[0;32m   1797\u001b[0m \u001b[43m    \u001b[49m\u001b[43m)\u001b[49m\n\u001b[0;32m   1799\u001b[0m \u001b[38;5;28;01mif\u001b[39;00m \u001b[38;5;129;01mnot\u001b[39;00m preserve_dtypes:\n\u001b[0;32m   1800\u001b[0m     retyped_data \u001b[38;5;241m=\u001b[39m []\n",
      "File \u001b[1;32mE:\\Users\\Gamer\\anaconda3\\envs\\tf-n-gpu\\lib\\site-packages\\pandas\\io\\stata.py:1980\u001b[0m, in \u001b[0;36mStataReader._do_convert_categoricals\u001b[1;34m(self, data, value_label_dict, lbllist, order_categoricals)\u001b[0m\n\u001b[0;32m   1968\u001b[0m                     \u001b[38;5;66;03m# GH 25772\u001b[39;00m\n\u001b[0;32m   1969\u001b[0m                     msg \u001b[38;5;241m=\u001b[39m \u001b[38;5;124mf\u001b[39m\u001b[38;5;124m\"\"\"\u001b[39m\n\u001b[0;32m   1970\u001b[0m \u001b[38;5;124mValue labels for column \u001b[39m\u001b[38;5;132;01m{\u001b[39;00mcol\u001b[38;5;132;01m}\u001b[39;00m\u001b[38;5;124m are not unique. These cannot be converted to\u001b[39m\n\u001b[0;32m   1971\u001b[0m \u001b[38;5;124mpandas categoricals.\u001b[39m\n\u001b[1;32m   (...)\u001b[0m\n\u001b[0;32m   1978\u001b[0m \u001b[38;5;132;01m{\u001b[39;00mrepeats\u001b[38;5;132;01m}\u001b[39;00m\n\u001b[0;32m   1979\u001b[0m \u001b[38;5;124m\"\"\"\u001b[39m\n\u001b[1;32m-> 1980\u001b[0m                     \u001b[38;5;28;01mraise\u001b[39;00m \u001b[38;5;167;01mValueError\u001b[39;00m(msg) \u001b[38;5;28;01mfrom\u001b[39;00m\u001b[38;5;250m \u001b[39m\u001b[38;5;21;01merr\u001b[39;00m\n\u001b[0;32m   1981\u001b[0m                 \u001b[38;5;66;03m# TODO: is the next line needed above in the data(...) method?\u001b[39;00m\n\u001b[0;32m   1982\u001b[0m                 cat_series \u001b[38;5;241m=\u001b[39m Series(cat_data, index\u001b[38;5;241m=\u001b[39mdata\u001b[38;5;241m.\u001b[39mindex, copy\u001b[38;5;241m=\u001b[39m\u001b[38;5;28;01mFalse\u001b[39;00m)\n",
      "\u001b[1;31mValueError\u001b[0m: \nValue labels for column E179WVS are not unique. These cannot be converted to\npandas categoricals.\n\nEither read the file with `convert_categoricals` set to False or use the\nlow level interface in `StataReader` to separately read the values and the\nvalue_labels.\n\nThe repeated labels are:\n--------------------------------------------------------------------------------\nPAK: Awami National Party\nIDN: Prosperous Justice Party\nIND: National People's Party\nMKD: Socialist Party of Macedonia\nCYP: Democratic Alignment\nBRA:Communist Party of Brazil\nZAF: Afrikaner Unity Movement\nPAK: Assembly of Islamic Clerics\n"
     ]
    }
   ],
   "source": [
    "df = pd.read_stata(\"E:\\\\Datasets\\\\World Values Survey\\\\WVS Time Series Data\\\\F00011930-WVS_Time_Series_1981-2022_Stata_v5_0\\\\WVS_Time_Series_1981-2022_stata_v5_0.dta\")"
   ]
  },
  {
   "cell_type": "code",
   "execution_count": null,
   "id": "dafa83bc-75ed-46e9-97e0-9ca94780c3f6",
   "metadata": {},
   "outputs": [],
   "source": []
  },
  {
   "cell_type": "code",
   "execution_count": null,
   "id": "3534d63a-69f8-4312-8fda-d88d54ee18a0",
   "metadata": {},
   "outputs": [],
   "source": []
  },
  {
   "cell_type": "code",
   "execution_count": null,
   "id": "473f7735-e8e5-4b07-99ca-bc0857621968",
   "metadata": {},
   "outputs": [],
   "source": []
  },
  {
   "cell_type": "code",
   "execution_count": null,
   "id": "32d0d7b7-cbee-49a0-a7f8-45319cabddfa",
   "metadata": {},
   "outputs": [],
   "source": []
  },
  {
   "cell_type": "code",
   "execution_count": null,
   "id": "12ac7ee6-5c6a-4262-8a8d-c97a199a9728",
   "metadata": {},
   "outputs": [],
   "source": []
  },
  {
   "cell_type": "code",
   "execution_count": null,
   "id": "d6a52f5e-8872-4357-8501-b4f6ed93cc4a",
   "metadata": {},
   "outputs": [],
   "source": []
  },
  {
   "cell_type": "code",
   "execution_count": null,
   "id": "6c450388-2a49-4057-b7b5-cf7fc0244a5e",
   "metadata": {},
   "outputs": [],
   "source": []
  },
  {
   "cell_type": "code",
   "execution_count": null,
   "id": "d7e18bbc-03db-4b5e-b34f-62545591ef5f",
   "metadata": {},
   "outputs": [],
   "source": []
  },
  {
   "cell_type": "code",
   "execution_count": null,
   "id": "a1bfe1d3-3d3b-4068-9f12-f05f8d3cfbc7",
   "metadata": {},
   "outputs": [],
   "source": []
  },
  {
   "cell_type": "code",
   "execution_count": null,
   "id": "66a4fcf9-8c26-489e-bb97-7d6d4c80a806",
   "metadata": {},
   "outputs": [],
   "source": []
  },
  {
   "cell_type": "code",
   "execution_count": null,
   "id": "9743a71a-fcc0-4913-9f93-d29dfdf5a7ff",
   "metadata": {},
   "outputs": [],
   "source": []
  }
 ],
 "metadata": {
  "kernelspec": {
   "display_name": "Python 3 (ipykernel)",
   "language": "python",
   "name": "python3"
  },
  "language_info": {
   "codemirror_mode": {
    "name": "ipython",
    "version": 3
   },
   "file_extension": ".py",
   "mimetype": "text/x-python",
   "name": "python",
   "nbconvert_exporter": "python",
   "pygments_lexer": "ipython3",
   "version": "3.10.16"
  }
 },
 "nbformat": 4,
 "nbformat_minor": 5
}
