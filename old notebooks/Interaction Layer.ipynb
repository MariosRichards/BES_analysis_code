{
 "cells": [
  {
   "cell_type": "code",
   "execution_count": 13,
   "metadata": {
    "collapsed": true
   },
   "outputs": [],
   "source": [
    "import pandas as pd\n",
    "import numpy as np\n",
    "\n",
    "symbol = 'Security 1'\n",
    "symbol2 = 'Security 2'"
   ]
  },
  {
   "cell_type": "code",
   "execution_count": 14,
   "metadata": {
    "collapsed": true
   },
   "outputs": [],
   "source": [
    "price_data = pd.DataFrame(np.cumsum(np.random.randn(150, 2).dot([[0.5, 0.4], [0.4, 1.0]]), axis=0) + 100,\n",
    "                          columns=['Security 1', 'Security 2'],\n",
    "                          index=pd.date_range(start='01-01-2007', periods=150))\n",
    "\n",
    "dates_actual = price_data.index.values\n",
    "prices = price_data[symbol].values"
   ]
  },
  {
   "cell_type": "code",
   "execution_count": 15,
   "metadata": {
    "collapsed": true
   },
   "outputs": [],
   "source": [
    "from bqplot import DateScale, LinearScale, Axis, Lines, Scatter, Bars, Hist, Figure\n",
    "from bqplot.interacts import (\n",
    "    FastIntervalSelector, IndexSelector, BrushIntervalSelector,\n",
    "    BrushSelector, MultiSelector, LassoSelector, PanZoom, HandDraw\n",
    ")\n",
    "from traitlets import link\n",
    "\n",
    "from ipywidgets import ToggleButtons, VBox, HTML"
   ]
  },
  {
   "cell_type": "markdown",
   "metadata": {},
   "source": [
    "# Line Chart Selectors"
   ]
  },
  {
   "cell_type": "markdown",
   "metadata": {},
   "source": [
    "## Fast Interval Selector"
   ]
  },
  {
   "cell_type": "code",
   "execution_count": 16,
   "metadata": {
    "collapsed": true
   },
   "outputs": [],
   "source": [
    "## First we define a Figure\n",
    "dt_x_fast = DateScale()\n",
    "lin_y = LinearScale()\n",
    "\n",
    "x_ax = Axis(label='Index', scale=dt_x_fast)\n",
    "x_ay = Axis(label=(symbol + ' Price'), scale=lin_y, orientation='vertical')\n",
    "lc = Lines(x=dates_actual, y=prices, scales={'x': dt_x_fast, 'y': lin_y}, colors=['orange'])\n",
    "lc_2 = Lines(x=dates_actual[50:], y=prices[50:] + 2, scales={'x': dt_x_fast, 'y': lin_y}, colors=['blue'])"
   ]
  },
  {
   "cell_type": "code",
   "execution_count": 17,
   "metadata": {
    "collapsed": true
   },
   "outputs": [],
   "source": [
    "## Next we define the type of selector we would like\n",
    "intsel_fast = FastIntervalSelector(scale=dt_x_fast, marks=[lc, lc_2])"
   ]
  },
  {
   "cell_type": "code",
   "execution_count": 18,
   "metadata": {
    "collapsed": true
   },
   "outputs": [],
   "source": [
    "## Now, we define a function that will be called when the FastIntervalSelector is interacted with\n",
    "def fast_interval_change_callback(change):\n",
    "    db_fast.value = 'The selected period is ' + str(change.new)"
   ]
  },
  {
   "cell_type": "code",
   "execution_count": 19,
   "metadata": {
    "collapsed": true
   },
   "outputs": [],
   "source": [
    "## Now we connect the selectors to that function\n",
    "intsel_fast.observe(fast_interval_change_callback, names=['selected'])"
   ]
  },
  {
   "cell_type": "code",
   "execution_count": 20,
   "metadata": {},
   "outputs": [
    {
     "data": {
      "application/vnd.jupyter.widget-view+json": {
       "model_id": "b91a9ca77e6544b4bd996361178c0ce7"
      }
     },
     "metadata": {},
     "output_type": "display_data"
    }
   ],
   "source": [
    "## We use the HTML widget to see the value of what we are selecting and modify it when an interaction is performed\n",
    "## on the selector\n",
    "db_fast = HTML()\n",
    "db_fast.value = 'The selected period is ' + str(intsel_fast.selected)\n",
    "\n",
    "fig_fast_intsel = Figure(marks=[lc, lc_2], axes=[x_ax, x_ay], title='Fast Interval Selector Example',\n",
    "                         interaction=intsel_fast) #This is where we assign the interaction to this particular Figure\n",
    "\n",
    "VBox([db_fast, fig_fast_intsel])"
   ]
  },
  {
   "cell_type": "markdown",
   "metadata": {},
   "source": [
    "## Index Selector"
   ]
  },
  {
   "cell_type": "code",
   "execution_count": 21,
   "metadata": {
    "collapsed": true
   },
   "outputs": [],
   "source": [
    "db_index = HTML(value='[]')"
   ]
  },
  {
   "cell_type": "code",
   "execution_count": 22,
   "metadata": {
    "collapsed": true
   },
   "outputs": [],
   "source": [
    "## Now we try a selector made to select all the y-values associated with a single x-value\n",
    "index_sel = IndexSelector(scale=dt_x_fast, marks=[lc, lc_2])"
   ]
  },
  {
   "cell_type": "code",
   "execution_count": 23,
   "metadata": {
    "collapsed": true
   },
   "outputs": [],
   "source": [
    "## Now, we define a function that will be called when the selectors are interacted with\n",
    "def index_change_callback(change):\n",
    "    db_index.value = 'The selected date is ' + str(change.new)"
   ]
  },
  {
   "cell_type": "code",
   "execution_count": 24,
   "metadata": {
    "collapsed": true
   },
   "outputs": [],
   "source": [
    "index_sel.observe(index_change_callback, names=['selected'])"
   ]
  },
  {
   "cell_type": "code",
   "execution_count": 25,
   "metadata": {},
   "outputs": [
    {
     "data": {
      "application/vnd.jupyter.widget-view+json": {
       "model_id": "52efa489d16b44589cdd3c832f53d528"
      }
     },
     "metadata": {},
     "output_type": "display_data"
    }
   ],
   "source": [
    "fig_index_sel = Figure(marks=[lc, lc_2], axes=[x_ax, x_ay], title='Index Selector Example',\n",
    "                       interaction=index_sel)\n",
    "VBox([db_index, fig_index_sel])"
   ]
  },
  {
   "cell_type": "markdown",
   "metadata": {},
   "source": [
    "## Returning indexes of selected values"
   ]
  },
  {
   "cell_type": "code",
   "execution_count": 26,
   "metadata": {
    "collapsed": true
   },
   "outputs": [],
   "source": [
    "from datetime import datetime as py_dtime\n",
    "\n",
    "dt_x_index = DateScale(min=np.datetime64(py_dtime(2006, 6, 1)))\n",
    "lin_y2 = LinearScale()\n",
    "\n",
    "lc2_index = Lines(x=dates_actual, y=prices,\n",
    "            scales={'x': dt_x_index, 'y': lin_y2})\n",
    "\n",
    "x_ax1 = Axis(label='Date', scale=dt_x_index)\n",
    "x_ay2 = Axis(label=(symbol + ' Price'), scale=lin_y2, orientation='vertical')"
   ]
  },
  {
   "cell_type": "code",
   "execution_count": 27,
   "metadata": {
    "collapsed": true
   },
   "outputs": [],
   "source": [
    "intsel_date = FastIntervalSelector(scale=dt_x_index, marks=[lc2_index])"
   ]
  },
  {
   "cell_type": "code",
   "execution_count": 28,
   "metadata": {
    "collapsed": true
   },
   "outputs": [],
   "source": [
    "db_date = HTML()\n",
    "db_date.value = str(intsel_date.selected)"
   ]
  },
  {
   "cell_type": "code",
   "execution_count": 29,
   "metadata": {
    "collapsed": true
   },
   "outputs": [],
   "source": [
    "## Now, we define a function that will be called when the selectors are interacted with - a callback\n",
    "def date_interval_change_callback(change):\n",
    "    db_date.value = str(change.new)"
   ]
  },
  {
   "cell_type": "code",
   "execution_count": 30,
   "metadata": {},
   "outputs": [
    {
     "data": {
      "application/vnd.jupyter.widget-view+json": {
       "model_id": "e213d8dc0f3548bcb501b6cd16701841"
      }
     },
     "metadata": {},
     "output_type": "display_data"
    }
   ],
   "source": [
    "## Notice here that we call the observe on the Mark lc2_index rather than on the selector intsel_date\n",
    "lc2_index.observe(date_interval_change_callback, names=['selected'])\n",
    "\n",
    "fig_date_mark = Figure(marks=[lc2_index], axes=[x_ax1, x_ay2],\n",
    "                       title='Fast Interval Selector Selected Indices Example', interaction=intsel_date)\n",
    "\n",
    "VBox([db_date, fig_date_mark])"
   ]
  },
  {
   "cell_type": "markdown",
   "metadata": {},
   "source": [
    "## Brush Selector"
   ]
  },
  {
   "cell_type": "markdown",
   "metadata": {},
   "source": [
    "### We can do the same with any type of selector"
   ]
  },
  {
   "cell_type": "code",
   "execution_count": 31,
   "metadata": {
    "collapsed": true
   },
   "outputs": [],
   "source": [
    "## Defining a new Figure\n",
    "dt_x_brush = DateScale(min=np.datetime64(py_dtime(2006, 6, 1)))\n",
    "lin_y2_brush = LinearScale()\n",
    "\n",
    "lc3_brush = Lines(x=dates_actual, y=prices,\n",
    "            scales={'x': dt_x_brush, 'y': lin_y2_brush})\n",
    "\n",
    "x_ax_brush = Axis(label='Date', scale=dt_x_brush)\n",
    "x_ay_brush = Axis(label=(symbol + ' Price'), scale=lin_y2_brush, orientation='vertical')"
   ]
  },
  {
   "cell_type": "code",
   "execution_count": 32,
   "metadata": {
    "collapsed": true
   },
   "outputs": [],
   "source": [
    "db_brush = HTML(value='[]')"
   ]
  },
  {
   "cell_type": "code",
   "execution_count": 33,
   "metadata": {
    "collapsed": true
   },
   "outputs": [],
   "source": [
    "brushsel_date = BrushIntervalSelector(scale=dt_x_brush, marks=[lc3_brush], color='FireBrick')"
   ]
  },
  {
   "cell_type": "code",
   "execution_count": 34,
   "metadata": {
    "collapsed": true
   },
   "outputs": [],
   "source": [
    "## Now, we define a function that will be called when the selectors are interacted with - a callback\n",
    "def date_brush_change_callback(change):\n",
    "    db_brush.value = str(change.new)"
   ]
  },
  {
   "cell_type": "code",
   "execution_count": 35,
   "metadata": {
    "collapsed": true
   },
   "outputs": [],
   "source": [
    "lc3_brush.observe(date_brush_change_callback, names=['selected'])"
   ]
  },
  {
   "cell_type": "code",
   "execution_count": 36,
   "metadata": {},
   "outputs": [
    {
     "data": {
      "application/vnd.jupyter.widget-view+json": {
       "model_id": "3cbe70c6ddf04b23b1c00b6e4271fe93"
      }
     },
     "metadata": {},
     "output_type": "display_data"
    }
   ],
   "source": [
    "fig_brush_sel = Figure(marks=[lc3_brush], axes=[x_ax_brush, x_ay_brush],\n",
    "                       title='Brush Selector Selected Indices Example', interaction=brushsel_date)\n",
    "\n",
    "VBox([db_brush, fig_brush_sel])"
   ]
  },
  {
   "cell_type": "markdown",
   "metadata": {},
   "source": [
    "# Scatter Chart Selectors"
   ]
  },
  {
   "cell_type": "markdown",
   "metadata": {},
   "source": [
    "## Brush Selector"
   ]
  },
  {
   "cell_type": "code",
   "execution_count": 37,
   "metadata": {
    "collapsed": true
   },
   "outputs": [],
   "source": [
    "date_fmt = '%m-%d-%Y'\n",
    "\n",
    "sec2_data = price_data[symbol2].values\n",
    "dates = price_data.index.values"
   ]
  },
  {
   "cell_type": "code",
   "execution_count": 38,
   "metadata": {
    "collapsed": true
   },
   "outputs": [],
   "source": [
    "sc_x = LinearScale()\n",
    "sc_y = LinearScale()\n",
    "\n",
    "scatt = Scatter(x=prices, y=sec2_data,\n",
    "                scales={'x': sc_x, 'y': sc_y})\n",
    "\n",
    "sc_xax = Axis(label=(symbol), scale=sc_x)\n",
    "sc_yax = Axis(label=(symbol2), scale=sc_y, orientation='vertical')"
   ]
  },
  {
   "cell_type": "code",
   "execution_count": 39,
   "metadata": {
    "collapsed": true
   },
   "outputs": [],
   "source": [
    "br_sel = BrushSelector(x_scale=sc_x, y_scale=sc_y, marks=[scatt], color='red')\n",
    "\n",
    "db_scat_brush = HTML(value='[]')"
   ]
  },
  {
   "cell_type": "code",
   "execution_count": 40,
   "metadata": {
    "collapsed": true
   },
   "outputs": [],
   "source": [
    "## call back for the selector\n",
    "def brush_callback(change):\n",
    "    db_scat_brush.value = str(br_sel.selected)"
   ]
  },
  {
   "cell_type": "code",
   "execution_count": 41,
   "metadata": {
    "collapsed": true
   },
   "outputs": [],
   "source": [
    "br_sel.observe(brush_callback, names=['brushing'])"
   ]
  },
  {
   "cell_type": "code",
   "execution_count": 42,
   "metadata": {
    "collapsed": true
   },
   "outputs": [],
   "source": [
    "fig_scat_brush = Figure(marks=[scatt], axes=[sc_xax, sc_yax], title='Scatter Chart Brush Selector Example',\n",
    "                        interaction=br_sel)"
   ]
  },
  {
   "cell_type": "code",
   "execution_count": 43,
   "metadata": {
    "scrolled": true
   },
   "outputs": [
    {
     "data": {
      "application/vnd.jupyter.widget-view+json": {
       "model_id": "8a7e80e9cb0e4a4aa5d94db8f69b39a9"
      }
     },
     "metadata": {},
     "output_type": "display_data"
    }
   ],
   "source": [
    "VBox([db_scat_brush, fig_scat_brush])"
   ]
  },
  {
   "cell_type": "markdown",
   "metadata": {},
   "source": [
    "## Brush Selector with Date Values"
   ]
  },
  {
   "cell_type": "code",
   "execution_count": 44,
   "metadata": {
    "collapsed": true
   },
   "outputs": [],
   "source": [
    "sc_brush_dt_x = DateScale(date_format=date_fmt)\n",
    "sc_brush_dt_y = LinearScale()\n",
    "\n",
    "scatt2 = Scatter(x=dates_actual, y=sec2_data,\n",
    "                scales={'x': sc_brush_dt_x, 'y': sc_brush_dt_y})"
   ]
  },
  {
   "cell_type": "code",
   "execution_count": 45,
   "metadata": {
    "collapsed": true
   },
   "outputs": [],
   "source": [
    "br_sel_dt = BrushSelector(x_scale=sc_brush_dt_x, y_scale=sc_brush_dt_y, marks=[scatt2])"
   ]
  },
  {
   "cell_type": "code",
   "execution_count": 46,
   "metadata": {
    "collapsed": true
   },
   "outputs": [],
   "source": [
    "db_brush_dt = HTML(value=str(br_sel_dt.selected))"
   ]
  },
  {
   "cell_type": "code",
   "execution_count": 47,
   "metadata": {
    "collapsed": true
   },
   "outputs": [],
   "source": [
    "## call back for the selector\n",
    "def brush_dt_callback(change):\n",
    "    db_brush_dt.value = str(br_sel_dt.selected)"
   ]
  },
  {
   "cell_type": "code",
   "execution_count": 48,
   "metadata": {
    "collapsed": true
   },
   "outputs": [],
   "source": [
    "br_sel_dt.observe(brush_dt_callback, names=['brushing'])"
   ]
  },
  {
   "cell_type": "code",
   "execution_count": 49,
   "metadata": {
    "collapsed": true
   },
   "outputs": [],
   "source": [
    "sc_xax = Axis(label=(symbol), scale=sc_brush_dt_x)\n",
    "sc_yax = Axis(label=(symbol2), scale=sc_brush_dt_y, orientation='vertical')\n",
    "fig_brush_dt = Figure(marks =[scatt2], axes=[sc_xax, sc_yax], title='Brush Selector with Dates Example',\n",
    "                      interaction=br_sel_dt)"
   ]
  },
  {
   "cell_type": "code",
   "execution_count": 50,
   "metadata": {},
   "outputs": [
    {
     "data": {
      "application/vnd.jupyter.widget-view+json": {
       "model_id": "eb1e489eadf04a0a81141415b7ecba5a"
      }
     },
     "metadata": {},
     "output_type": "display_data"
    }
   ],
   "source": [
    "VBox([db_brush_dt, fig_brush_dt])"
   ]
  },
  {
   "cell_type": "markdown",
   "metadata": {},
   "source": [
    "# Histogram Selectors"
   ]
  },
  {
   "cell_type": "code",
   "execution_count": 51,
   "metadata": {
    "collapsed": true
   },
   "outputs": [],
   "source": [
    "## call back for selectors\n",
    "def interval_change_callback(name, value):\n",
    "    db3.value = str(value)\n",
    "    \n",
    "## call back for the selector\n",
    "def brush_callback(change):\n",
    "    if(not br_intsel.brushing):\n",
    "        db3.value = str(br_intsel.selected)"
   ]
  },
  {
   "cell_type": "code",
   "execution_count": 52,
   "metadata": {},
   "outputs": [
    {
     "data": {
      "application/vnd.jupyter.widget-view+json": {
       "model_id": "6942ac6fa26a4b2ca31b1364ca391f55"
      }
     },
     "metadata": {},
     "output_type": "display_data"
    }
   ],
   "source": [
    "returns = np.log(prices[1:]) - np.log(prices[:-1])\n",
    "hist_x = LinearScale()\n",
    "hist_y = LinearScale()\n",
    "hist = Hist(sample=returns, scales={'sample': hist_x, 'count': hist_y})\n",
    "\n",
    "br_intsel = BrushIntervalSelector(scale=hist_x, marks=[hist])\n",
    "br_intsel.observe(brush_callback, names=['selected'])\n",
    "br_intsel.observe(brush_callback, names=['brushing'])\n",
    "\n",
    "db3 = HTML()\n",
    "db3.value = str(br_intsel.selected)\n",
    "\n",
    "h_xax = Axis(scale=hist_x, label='Returns', grids='off', set_ticks=True, tick_format='0.2%')\n",
    "h_yax = Axis(scale=hist_y, label='Freq', orientation='vertical', grid_lines='none')\n",
    "\n",
    "fig_hist = Figure(marks=[hist], axes=[h_xax, h_yax], title='Histogram Selection Example', interaction=br_intsel)\n",
    "VBox([db3, fig_hist])"
   ]
  },
  {
   "cell_type": "markdown",
   "metadata": {},
   "source": [
    "## Multi Selector\n",
    "\n",
    "* This selector provides the ability to have multiple brush selectors on the same graph.\n",
    "* The first brush works like a regular brush.\n",
    "* `Ctrl + click` creates a new brush, which works like the regular brush. \n",
    "* The `active` brush has a Green border while all the `inactive` brushes have a Red border.\n",
    "* `Shift + click` deactivates the current `active` brush. Now, click on any `inactive` brush to make it `active`.\n",
    "* `Ctrl + Alt + Shift + click` clears and resets all the brushes."
   ]
  },
  {
   "cell_type": "code",
   "execution_count": 53,
   "metadata": {
    "collapsed": true
   },
   "outputs": [],
   "source": [
    "def multi_sel_callback(change):\n",
    "    if(not multi_sel.brushing):\n",
    "        db4.value = str(multi_sel.selected)"
   ]
  },
  {
   "cell_type": "code",
   "execution_count": 54,
   "metadata": {},
   "outputs": [
    {
     "data": {
      "application/vnd.jupyter.widget-view+json": {
       "model_id": "ebf3499ea4684b429bb9869302462d5a"
      }
     },
     "metadata": {},
     "output_type": "display_data"
    }
   ],
   "source": [
    "line_x = LinearScale()\n",
    "line_y = LinearScale()\n",
    "line = Lines(x=np.arange(100), y=np.random.randn(100), scales={'x': line_x, 'y': line_y})\n",
    "\n",
    "multi_sel = MultiSelector(scale=line_x, marks=[line])\n",
    "multi_sel.observe(multi_sel_callback, names=['selected'])\n",
    "multi_sel.observe(multi_sel_callback, names=['brushing'])\n",
    "\n",
    "db4 = HTML()\n",
    "db4.value = str(multi_sel.selected)\n",
    "\n",
    "h_xax = Axis(scale=line_x, label='Returns', grid_lines='none')\n",
    "h_yax = Axis(scale=hist_y, label='Freq', orientation='vertical', grid_lines='none')\n",
    "\n",
    "fig_multi = Figure(marks=[line], axes=[h_xax, h_yax], title='Multi-Selector Example',\n",
    "                   interaction=multi_sel)\n",
    "VBox([db4, fig_multi])"
   ]
  },
  {
   "cell_type": "code",
   "execution_count": 55,
   "metadata": {
    "collapsed": true
   },
   "outputs": [],
   "source": [
    "# changing the names of the intervals.\n",
    "multi_sel.names = ['int1', 'int2', 'int3']"
   ]
  },
  {
   "cell_type": "markdown",
   "metadata": {},
   "source": [
    "## Multi Selector with Date X"
   ]
  },
  {
   "cell_type": "code",
   "execution_count": 56,
   "metadata": {
    "collapsed": true
   },
   "outputs": [],
   "source": [
    "def multi_sel_dt_callback(change):\n",
    "    if(not multi_sel_dt.brushing):\n",
    "        db_multi_dt.value = str(multi_sel_dt.selected)"
   ]
  },
  {
   "cell_type": "code",
   "execution_count": 57,
   "metadata": {},
   "outputs": [
    {
     "data": {
      "application/vnd.jupyter.widget-view+json": {
       "model_id": "a64f73dbd9c740579d54d7bfc9ca86f7"
      }
     },
     "metadata": {},
     "output_type": "display_data"
    }
   ],
   "source": [
    "line_dt_x = DateScale(min=np.datetime64(py_dtime(2007, 1, 1)))\n",
    "line_dt_y = LinearScale()\n",
    "line_dt = Lines(x=dates_actual, y=sec2_data, scales={'x': line_dt_x, 'y': line_dt_y}, colors=['red'])\n",
    "\n",
    "multi_sel_dt = MultiSelector(scale=line_dt_x)\n",
    "multi_sel_dt.observe(multi_sel_dt_callback, names=['selected'])\n",
    "multi_sel_dt.observe(multi_sel_dt_callback, names=['brushing'])\n",
    "\n",
    "db_multi_dt = HTML()\n",
    "db_multi_dt.value = str(multi_sel_dt.selected)\n",
    "\n",
    "h_xax_dt = Axis(scale=line_dt_x, label='Returns', grid_lines='none')\n",
    "h_yax_dt = Axis(scale=line_dt_y, label='Freq', orientation='vertical', grid_lines='none')\n",
    "\n",
    "fig_multi_dt = Figure(marks=[line_dt], axes=[h_xax_dt, h_yax_dt], title='Multi-Selector with Date Example',\n",
    "                      interaction=multi_sel_dt)\n",
    "VBox([db_multi_dt, fig_multi_dt])"
   ]
  },
  {
   "cell_type": "markdown",
   "metadata": {},
   "source": [
    "## Lasso Selector"
   ]
  },
  {
   "cell_type": "code",
   "execution_count": 58,
   "metadata": {
    "collapsed": true
   },
   "outputs": [],
   "source": [
    "lasso_sel = LassoSelector()"
   ]
  },
  {
   "cell_type": "code",
   "execution_count": 68,
   "metadata": {},
   "outputs": [
    {
     "data": {
      "application/vnd.jupyter.widget-view+json": {
       "model_id": "cda0be452ebd4cebb0667a8243e38fdd"
      }
     },
     "metadata": {},
     "output_type": "display_data"
    }
   ],
   "source": [
    "xs, ys = LinearScale(), LinearScale()\n",
    "data = np.arange(20)\n",
    "line_lasso = Lines(x=data, y=data, scales={'x': xs, 'y': ys})\n",
    "scatter_lasso = Scatter(x=data, y=data, scales={'x': xs, 'y': ys}, colors=['skyblue'])\n",
    "bar_lasso = Bars(x=data, y=data/2., scales={'x': xs, 'y': ys})\n",
    "xax_lasso, yax_lasso = Axis(scale=xs, label='X'), Axis(scale=ys, label='Y', orientation='vertical')\n",
    "fig_lasso = Figure(marks=[scatter_lasso, line_lasso, bar_lasso], axes=[xax_lasso, yax_lasso],\n",
    "                   title='Lasso Selector Example', interaction=lasso_sel)\n",
    "lasso_sel.marks = [scatter_lasso, line_lasso]\n",
    "fig_lasso"
   ]
  },
  {
   "cell_type": "code",
   "execution_count": 69,
   "metadata": {},
   "outputs": [
    {
     "data": {
      "text/plain": [
       "([{'indices': [8, 9, 10], 'lasso_name': 'l1'},\n",
       "  {'indices': [12, 13, 14, 15, 16], 'lasso_name': 'l2'}],\n",
       " [{'indices': [8, 9, 10], 'lasso_name': 'l1', 'line_name': 'C1'},\n",
       "  {'indices': [12, 13, 14, 15, 16], 'lasso_name': 'l2', 'line_name': 'C1'}])"
      ]
     },
     "execution_count": 69,
     "metadata": {},
     "output_type": "execute_result"
    }
   ],
   "source": [
    "scatter_lasso.selected, line_lasso.selected"
   ]
  },
  {
   "cell_type": "markdown",
   "metadata": {},
   "source": [
    "## Pan Zoom"
   ]
  },
  {
   "cell_type": "code",
   "execution_count": 61,
   "metadata": {},
   "outputs": [
    {
     "data": {
      "application/vnd.jupyter.widget-view+json": {
       "model_id": "d772c6192f974097b1c0ef21c7575d9e"
      }
     },
     "metadata": {},
     "output_type": "display_data"
    }
   ],
   "source": [
    "xs_pz = DateScale(min=np.datetime64(py_dtime(2007, 1, 1)))\n",
    "ys_pz = LinearScale()\n",
    "line_pz = Lines(x=dates_actual, y=sec2_data, scales={'x': xs_pz, 'y': ys_pz}, colors=['red'])\n",
    "\n",
    "panzoom = PanZoom(scales={'x': [xs_pz], 'y': [ys_pz]})\n",
    "xax = Axis(scale=xs_pz, label='Date', grids='off')\n",
    "yax = Axis(scale=ys_pz, label='Price', orientation='vertical', grid_lines='none')\n",
    "\n",
    "Figure(marks=[line_pz], axes=[xax, yax], interaction=panzoom)"
   ]
  },
  {
   "cell_type": "markdown",
   "metadata": {},
   "source": [
    "## Hand Draw"
   ]
  },
  {
   "cell_type": "code",
   "execution_count": 62,
   "metadata": {},
   "outputs": [
    {
     "data": {
      "application/vnd.jupyter.widget-view+json": {
       "model_id": "77f09b36f4c3458eb51d6517cc014e3f"
      }
     },
     "metadata": {},
     "output_type": "display_data"
    }
   ],
   "source": [
    "xs_hd = DateScale(min=np.datetime64(py_dtime(2007, 1, 1)))\n",
    "ys_hd = LinearScale()\n",
    "line_hd = Lines(x=dates_actual, y=sec2_data, scales={'x': xs_hd, 'y': ys_hd}, colors=['red'])\n",
    "\n",
    "handdraw = HandDraw(lines=line_hd)\n",
    "xax = Axis(scale=xs_hd, label='Date', grid_lines='none')\n",
    "yax = Axis(scale=ys_hd, label='Price', orientation='vertical', grid_lines='none')\n",
    "\n",
    "Figure(marks=[line_hd], axes=[xax, yax], interaction=handdraw)"
   ]
  },
  {
   "cell_type": "markdown",
   "metadata": {},
   "source": [
    "# Unified Figure with All Interactions"
   ]
  },
  {
   "cell_type": "code",
   "execution_count": 70,
   "metadata": {
    "collapsed": true
   },
   "outputs": [],
   "source": [
    "dt_x = DateScale(date_format=date_fmt, min=py_dtime(2007, 1, 1))\n",
    "lc1_x = LinearScale()\n",
    "lc2_y = LinearScale()\n",
    "\n",
    "lc2 = Lines(x=np.linspace(0.0, 10.0, len(prices)), y=prices * 0.25,\n",
    "            scales={'x': lc1_x, 'y': lc2_y}, \n",
    "            display_legend=True,\n",
    "            labels=['Security 1'])\n",
    "\n",
    "lc3 = Lines(x=dates_actual, y=sec2_data,\n",
    "            scales={'x': dt_x, 'y': lc2_y},\n",
    "            colors=['red'], \n",
    "            display_legend=True, \n",
    "            labels=['Security 2'])\n",
    "\n",
    "lc4 = Lines(x=np.linspace(0.0, 10.0, len(prices)), y=sec2_data * 0.75,\n",
    "            scales={'x': LinearScale(min=5, max=10), 'y': lc2_y},\n",
    "            colors=['green'], display_legend=True, \n",
    "            labels=['Security 2 squared'])\n",
    "\n",
    "x_ax1 = Axis(label='Date', scale=dt_x)\n",
    "x_ax2 = Axis(label='Time', scale=lc1_x, side='top', grid_lines='none')\n",
    "x_ay2 = Axis(label=(symbol + ' Price'), scale=lc2_y, orientation='vertical')\n",
    "\n",
    "\n",
    "fig = Figure(marks=[lc2, lc3, lc4], axes=[x_ax1, x_ax2, x_ay2])"
   ]
  },
  {
   "cell_type": "code",
   "execution_count": 71,
   "metadata": {
    "collapsed": true
   },
   "outputs": [],
   "source": [
    "## declaring the interactions\n",
    "multi_sel = MultiSelector(scale=dt_x, marks=[lc2, lc3])\n",
    "br_intsel = BrushIntervalSelector(scale=lc1_x, marks=[lc2, lc3])\n",
    "index_sel = IndexSelector(scale=dt_x, marks=[lc2, lc3])\n",
    "int_sel = FastIntervalSelector(scale=dt_x, marks=[lc3, lc2])\n",
    "\n",
    "hd = HandDraw(lines=lc2)\n",
    "hd2 = HandDraw(lines=lc3)\n",
    "pz = PanZoom(scales={'x': [dt_x], 'y': [lc2_y]})\n",
    "\n",
    "deb = HTML()\n",
    "deb.value = '[]'"
   ]
  },
  {
   "cell_type": "code",
   "execution_count": 72,
   "metadata": {
    "collapsed": true
   },
   "outputs": [],
   "source": [
    "## Call back handler for the interactions\n",
    "def test_callback(change):\n",
    "    deb.value = str(change.new)\n",
    "    \n",
    "multi_sel.observe(test_callback, names=['selected'])\n",
    "br_intsel.observe(test_callback, names=['selected'])\n",
    "index_sel.observe(test_callback, names=['selected'])\n",
    "int_sel.observe(test_callback, names=['selected'])"
   ]
  },
  {
   "cell_type": "code",
   "execution_count": 66,
   "metadata": {},
   "outputs": [
    {
     "data": {
      "application/vnd.jupyter.widget-view+json": {
       "model_id": "c9adb7f35eaf4deb820005012f3f3bc6"
      }
     },
     "metadata": {},
     "output_type": "display_data"
    }
   ],
   "source": [
    "from collections import OrderedDict\n",
    "selection_interacts = ToggleButtons(options=OrderedDict([('HandDraw1', hd), ('HandDraw2', hd2), ('PanZoom', pz), \n",
    "                                                       ('FastIntervalSelector', int_sel), ('IndexSelector', index_sel),\n",
    "                                                       ('BrushIntervalSelector', br_intsel), ('MultiSelector', multi_sel),\n",
    "                                                       ('None', None)]))\n",
    "\n",
    "link((selection_interacts, 'value'), (fig, 'interaction'))\n",
    "VBox([deb, fig, selection_interacts], align_self='stretch')"
   ]
  },
  {
   "cell_type": "code",
   "execution_count": 67,
   "metadata": {
    "collapsed": true
   },
   "outputs": [],
   "source": [
    "# Set the scales of lc4 to the ones of lc2 and check if panzoom pans the two.\n",
    "lc4.scales = lc2.scales"
   ]
  },
  {
   "cell_type": "code",
   "execution_count": null,
   "metadata": {
    "collapsed": true
   },
   "outputs": [],
   "source": []
  },
  {
   "cell_type": "code",
   "execution_count": null,
   "metadata": {
    "collapsed": true
   },
   "outputs": [],
   "source": []
  }
 ],
 "metadata": {
  "anaconda-cloud": {},
  "kernelspec": {
   "display_name": "Python [conda env:BES_analysis]",
   "language": "python",
   "name": "conda-env-BES_analysis-py"
  },
  "language_info": {
   "codemirror_mode": {
    "name": "ipython",
    "version": 3
   },
   "file_extension": ".py",
   "mimetype": "text/x-python",
   "name": "python",
   "nbconvert_exporter": "python",
   "pygments_lexer": "ipython3",
   "version": "3.6.2"
  },
  "widgets": {
   "application/vnd.jupyter.widget-state+json": {
    "state": {
     "020335f5f9a0462da4d695debb39e144": {
      "model_module": "jupyter-js-widgets",
      "model_module_version": "~2.1.4",
      "model_name": "LayoutModel",
      "state": {
       "_model_module_version": "~2.1.4",
       "_view_module_version": "~2.1.4"
      }
     },
     "02b781dffd3a4b64bf1ac4d8580b30f3": {
      "model_module": "jupyter-js-widgets",
      "model_module_version": "~2.1.4",
      "model_name": "VBoxModel",
      "state": {
       "_model_module_version": "~2.1.4",
       "_view_module_version": "~2.1.4",
       "children": [
        "IPY_MODEL_0eac543490984556b34646dafb22f2b5",
        "IPY_MODEL_a9be95c6c5a141c2880ed48b4d0b2313"
       ],
       "layout": "IPY_MODEL_790ab4bd1f434d92937b4630de114c18"
      }
     },
     "02bfb83b131f47be8e6e5f30701801a5": {
      "model_module": "bqplot",
      "model_module_version": "^0.2.3",
      "model_name": "LinearScaleModel",
      "state": {
       "allow_padding": false,
       "max": 1,
       "min": 0,
       "stabilized": false
      }
     },
     "042574180f054a1ea60ed282379ec155": {
      "model_module": "bqplot",
      "model_module_version": "^0.2.3",
      "model_name": "LinearScaleModel",
      "state": {
       "stabilized": false
      }
     },
     "05022f064730447eb5624e96b4c79580": {
      "model_module": "bqplot",
      "model_module_version": "^0.2.3",
      "model_name": "FigureModel",
      "state": {
       "_dom_classes": [],
       "axes": [
        "IPY_MODEL_721297a027e24c87b0c7551440aedf51",
        "IPY_MODEL_d9af8a0223cf4480bc005a0c69634908"
       ],
       "interaction": "IPY_MODEL_2e21b080dd1b49f7ad4ccbdfdaf87d33",
       "layout": "IPY_MODEL_6f731b8df095411288def8c71fe5f465",
       "marks": [
        "IPY_MODEL_51296b198a5343f79b174d5a4b097a0a"
       ],
       "max_aspect_ratio": 6,
       "scale_x": "IPY_MODEL_98d9dddc619642fb8a84166994b48321",
       "scale_y": "IPY_MODEL_b664a79fdf544ea9b8ef31c20f8af47b"
      }
     },
     "05894e69f70d4aab89982c4beb79649d": {
      "model_module": "jupyter-js-widgets",
      "model_module_version": "~2.1.4",
      "model_name": "LayoutModel",
      "state": {
       "_model_module_version": "~2.1.4",
       "_view_module_version": "~2.1.4"
      }
     },
     "0695e0e82f564a2dbee5562461de6987": {
      "model_module": "bqplot",
      "model_module_version": "^0.2.3",
      "model_name": "LinearScaleModel",
      "state": {
       "stabilized": false
      }
     },
     "06d2d815f4264862b02397bbc6613af7": {
      "model_module": "bqplot",
      "model_module_version": "^0.2.3",
      "model_name": "MultiSelectorModel",
      "state": {
       "marks": [
        "IPY_MODEL_08204ca788c14738a6d57bf9f1c61439",
        "IPY_MODEL_86daf68ab0954da9bf0e736ac2f928b1"
       ],
       "scale": "IPY_MODEL_f70ba89fbdc048118bba2f2c6d0bbca3"
      }
     },
     "07ded3a71b754c90b72f615734bc308f": {
      "model_module": "bqplot",
      "model_module_version": "^0.2.3",
      "model_name": "LinearScaleModel",
      "state": {
       "allow_padding": false,
       "max": 1,
       "min": 0,
       "stabilized": false
      }
     },
     "08204ca788c14738a6d57bf9f1c61439": {
      "model_module": "bqplot",
      "model_module_version": "^0.2.3",
      "model_name": "LinesModel",
      "state": {
       "color": {
        "type": null,
        "values": null
       },
       "fill_colors": [],
       "labels": [
        "Security 1"
       ],
       "scales": {
        "x": "IPY_MODEL_d318a282b85943189bcde9d6a765d2b4",
        "y": "IPY_MODEL_df6875fbdf674469a3009822cd4e3a7c"
       },
       "selected": [],
       "x": {
        "type": "float",
        "values": [
         0,
         0.06711409395973154,
         0.1342281879194631,
         0.20134228187919462,
         0.2684563758389262,
         0.33557046979865773,
         0.40268456375838924,
         0.4697986577181208,
         0.5369127516778524,
         0.6040268456375839,
         0.6711409395973155,
         0.738255033557047,
         0.8053691275167785,
         0.87248322147651,
         0.9395973154362416,
         1.0067114093959733,
         1.0738255033557047,
         1.1409395973154361,
         1.2080536912751678,
         1.2751677852348993,
         1.342281879194631,
         1.4093959731543624,
         1.476510067114094,
         1.5436241610738255,
         1.610738255033557,
         1.6778523489932886,
         1.74496644295302,
         1.8120805369127517,
         1.8791946308724832,
         1.9463087248322148,
         2.0134228187919465,
         2.0805369127516777,
         2.1476510067114094,
         2.214765100671141,
         2.2818791946308723,
         2.348993288590604,
         2.4161073825503356,
         2.4832214765100673,
         2.5503355704697985,
         2.61744966442953,
         2.684563758389262,
         2.751677852348993,
         2.8187919463087248,
         2.8859060402684564,
         2.953020134228188,
         3.0201342281879193,
         3.087248322147651,
         3.1543624161073827,
         3.221476510067114,
         3.2885906040268456,
         3.3557046979865772,
         3.422818791946309,
         3.48993288590604,
         3.557046979865772,
         3.6241610738255035,
         3.691275167785235,
         3.7583892617449663,
         3.825503355704698,
         3.8926174496644297,
         3.959731543624161,
         4.026845637583893,
         4.093959731543624,
         4.1610738255033555,
         4.228187919463087,
         4.295302013422819,
         4.3624161073825505,
         4.429530201342282,
         4.496644295302014,
         4.563758389261745,
         4.630872483221476,
         4.697986577181208,
         4.76510067114094,
         4.832214765100671,
         4.899328859060403,
         4.966442953020135,
         5.033557046979865,
         5.100671140939597,
         5.167785234899329,
         5.23489932885906,
         5.302013422818792,
         5.369127516778524,
         5.436241610738255,
         5.503355704697986,
         5.570469798657718,
         5.6375838926174495,
         5.704697986577181,
         5.771812080536913,
         5.8389261744966445,
         5.906040268456376,
         5.973154362416107,
         6.040268456375839,
         6.10738255033557,
         6.174496644295302,
         6.241610738255034,
         6.308724832214765,
         6.375838926174497,
         6.442953020134228,
         6.510067114093959,
         6.577181208053691,
         6.644295302013423,
         6.7114093959731544,
         6.778523489932886,
         6.845637583892618,
         6.9127516778523495,
         6.97986577181208,
         7.046979865771812,
         7.114093959731544,
         7.181208053691275,
         7.248322147651007,
         7.315436241610739,
         7.38255033557047,
         7.449664429530201,
         7.516778523489933,
         7.583892617449664,
         7.651006711409396,
         7.718120805369128,
         7.785234899328859,
         7.852348993288591,
         7.919463087248322,
         7.9865771812080535,
         8.053691275167786,
         8.120805369127517,
         8.187919463087248,
         8.25503355704698,
         8.322147651006711,
         8.389261744966444,
         8.456375838926174,
         8.523489932885907,
         8.590604026845638,
         8.657718120805368,
         8.724832214765101,
         8.791946308724832,
         8.859060402684564,
         8.926174496644295,
         8.993288590604028,
         9.060402684563758,
         9.12751677852349,
         9.194630872483222,
         9.261744966442953,
         9.328859060402685,
         9.395973154362416,
         9.463087248322148,
         9.53020134228188,
         9.59731543624161,
         9.664429530201343,
         9.731543624161073,
         9.798657718120806,
         9.865771812080537,
         9.93288590604027,
         10
        ]
       },
       "y": {
        "type": "float",
        "values": [
         25.195934096463805,
         25.345875012511865,
         25.495454166309564,
         25.369260133701108,
         25.211413386539302,
         25.2366557734497,
         25.134801469374885,
         25.346585716191484,
         25.168392042849348,
         25.38207608324299,
         25.30728523658971,
         25.372077967749203,
         25.406645701177773,
         25.5281296278645,
         25.393026915533856,
         25.272394901556623,
         25.182592165977507,
         24.887721778400003,
         25.04837634511529,
         25.085548124427593,
         25.099296569482043,
         24.98537448688222,
         24.943642208136392,
         24.91029799912028,
         25.246893151322737,
         25.06168011257758,
         25.040638430013924,
         24.97665527969921,
         25.181962597414422,
         25.168463208256377,
         25.241943412754758,
         24.75858649074483,
         24.675312421349233,
         24.176315852644343,
         24.053901383587448,
         24.068817215476106,
         24.102577276514616,
         23.83543492147592,
         23.656982221180105,
         23.786675268334143,
         23.778065991155028,
         23.974259930567488,
         23.820677621107603,
         23.85893786709449,
         23.89180240705521,
         23.968104571318342,
         23.702199069001246,
         23.211669789889186,
         23.160008881135468,
         23.072496386966343,
         23.079389808091822,
         22.827020013135428,
         22.765967697234824,
         22.811601607459426,
         23.00771954553165,
         22.974988070343134,
         22.93516041284618,
         23.113114084276496,
         23.066772242649186,
         23.205875929514583,
         23.262323029319983,
         23.094531020387794,
         22.989793102195105,
         23.381889539118426,
         23.09477374107727,
         23.043453895354872,
         22.914332471671106,
         22.87269877604489,
         22.804976307337157,
         22.804935777879873,
         22.820265505977677,
         22.795876449791123,
         22.490970824574823,
         22.326996998255936,
         22.242792561117792,
         22.369586923027878,
         22.59580246148242,
         22.884111301078672,
         23.095817895046917,
         23.065300555703402,
         23.142351148288952,
         23.29292645935861,
         23.166204371621742,
         23.11573629314483,
         22.984258220490204,
         22.992522302474477,
         23.17571353485392,
         23.1951331411855,
         23.332157403853344,
         23.390819234565903,
         23.4293755030557,
         23.272200269653943,
         23.42325490431353,
         23.458464792509012,
         23.487839477036864,
         23.51402610195057,
         23.631971059038737,
         23.396905640726587,
         23.22358174265846,
         23.481213242280482,
         23.457688961503713,
         23.52678337458154,
         23.672615915540923,
         23.447448351530547,
         23.322464080743117,
         23.494960494006968,
         23.585009511917995,
         23.503119958500818,
         23.33352353437973,
         23.192318518324516,
         22.859974358857816,
         22.79611125580128,
         22.842978147797137,
         22.842334899499093,
         22.722102363039266,
         22.47021769625788,
         22.59180198116823,
         22.48157361611696,
         22.50662900666191,
         22.590643688324537,
         22.55047665587441,
         22.662137473395937,
         22.68053076793197,
         22.504868227413596,
         22.503436455953125,
         22.6256719704116,
         22.42655354476925,
         22.487151168410623,
         22.51559669817037,
         22.458395996775955,
         22.56788428229417,
         22.438767393467646,
         22.42325731034431,
         22.536647351274112,
         22.5224642216638,
         22.53574858870692,
         22.742907231662457,
         22.825639980227358,
         22.609372582475967,
         22.509018046558005,
         22.18245758233432,
         22.13075005678818,
         21.91709291968954,
         21.848117572587995,
         21.715742246309937,
         21.76803888255836,
         21.536103348367682,
         21.710881535172742,
         21.898007169498232,
         22.097483193315384
        ]
       }
      }
     },
     "097ee5ae48d840369e7e32c10ed1c69d": {
      "model_module": "bqplot",
      "model_module_version": "^0.2.3",
      "model_name": "BarsModel",
      "state": {
       "color": {
        "type": null,
        "values": null
       },
       "display_legend": false,
       "scales": {
        "x": "IPY_MODEL_81423f889c0748c78d244d90e3aa8ae3",
        "y": "IPY_MODEL_345237c0377f4f2b971c4d052d063fe6"
       },
       "selected": [],
       "x": {
        "type": "float",
        "values": [
         0,
         1,
         2,
         3,
         4,
         5,
         6,
         7,
         8,
         9,
         10,
         11,
         12,
         13,
         14,
         15,
         16,
         17,
         18,
         19
        ]
       },
       "y": {
        "type": "float",
        "values": [
         0,
         0.5,
         1,
         1.5,
         2,
         2.5,
         3,
         3.5,
         4,
         4.5,
         5,
         5.5,
         6,
         6.5,
         7,
         7.5,
         8,
         8.5,
         9,
         9.5
        ]
       }
      }
     },
     "0b3ec023c3c54639964f51de3eb51e53": {
      "model_module": "jupyter-js-widgets",
      "model_module_version": "~2.1.4",
      "model_name": "LayoutModel",
      "state": {
       "_model_module_version": "~2.1.4",
       "_view_module_version": "~2.1.4",
       "min_width": "125px"
      }
     },
     "0c1e12352f7f4fa5b53d4634427f9bc4": {
      "model_module": "jupyter-js-widgets",
      "model_module_version": "~2.1.4",
      "model_name": "HTMLModel",
      "state": {
       "_model_module_version": "~2.1.4",
       "_view_module_version": "~2.1.4",
       "layout": "IPY_MODEL_f7544def20c142bd94784a8652a52ce9",
       "value": "The selected date is [u'2007-04-01T15:08:02.142Z']"
      }
     },
     "0ca1a9d477564cf9be6faddc319fcf10": {
      "model_module": "bqplot",
      "model_module_version": "^0.2.3",
      "model_name": "LinearScaleModel",
      "state": {
       "allow_padding": false,
       "max": 1,
       "min": 0,
       "stabilized": false
      }
     },
     "0ccb423924cc4ca8af07fe43491f6d50": {
      "model_module": "bqplot",
      "model_module_version": "^0.2.3",
      "model_name": "LinearScaleModel",
      "state": {
       "allow_padding": false,
       "max": 1,
       "min": 0,
       "stabilized": false
      }
     },
     "0d227db6f67940a58a15ae331f486d09": {
      "model_module": "bqplot",
      "model_module_version": "^0.2.3",
      "model_name": "LinearScaleModel",
      "state": {
       "allow_padding": false,
       "max": 1,
       "min": 0,
       "stabilized": false
      }
     },
     "0eac543490984556b34646dafb22f2b5": {
      "model_module": "jupyter-js-widgets",
      "model_module_version": "~2.1.4",
      "model_name": "HTMLModel",
      "state": {
       "_model_module_version": "~2.1.4",
       "_view_module_version": "~2.1.4",
       "layout": "IPY_MODEL_35b75ee9120f47a882b16244d29a8dc5",
       "value": "[]"
      }
     },
     "0f291ce1e27f456ca35e12629c1759ed": {
      "model_module": "jupyter-js-widgets",
      "model_module_version": "~2.1.4",
      "model_name": "LayoutModel",
      "state": {
       "_model_module_version": "~2.1.4",
       "_view_module_version": "~2.1.4"
      }
     },
     "10584fb7be964121a7a41c9d8faa2aa0": {
      "model_module": "bqplot",
      "model_module_version": "^0.2.3",
      "model_name": "AxisModel",
      "state": {
       "label": "Date",
       "scale": "IPY_MODEL_915de23c8b254ed8b0ca2e1d047cfb9e",
       "side": "bottom",
       "tick_values": {
        "type": null,
        "values": null
       }
      }
     },
     "137c63db9b9c4dee8f145ffcfa5c6839": {
      "model_module": "bqplot",
      "model_module_version": "^0.2.3",
      "model_name": "AxisModel",
      "state": {
       "label": "Y",
       "orientation": "vertical",
       "scale": "IPY_MODEL_e8da91a04a6144bb9397516feb34441e",
       "side": "left",
       "tick_values": {
        "type": null,
        "values": null
       }
      }
     },
     "143f1161796a43d08cc22be26f2b7ffc": {
      "model_module": "jupyter-js-widgets",
      "model_module_version": "~2.1.4",
      "model_name": "LayoutModel",
      "state": {
       "_model_module_version": "~2.1.4",
       "_view_module_version": "~2.1.4",
       "min_width": "125px"
      }
     },
     "156eebc0ce7048caa9bfd36f09d5162e": {
      "model_module": "bqplot",
      "model_module_version": "^0.2.3",
      "model_name": "LinearScaleModel",
      "state": {
       "allow_padding": false,
       "max": 1,
       "min": 0,
       "stabilized": false
      }
     },
     "160843a52c5d4272a3019f743774b8f9": {
      "model_module": "bqplot",
      "model_module_version": "^0.2.3",
      "model_name": "HandDrawModel",
      "state": {
       "lines": "IPY_MODEL_86daf68ab0954da9bf0e736ac2f928b1"
      }
     },
     "182ef2905e744bcba41dc7ed909f0e7d": {
      "model_module": "bqplot",
      "model_module_version": "^0.2.3",
      "model_name": "LinearScaleModel",
      "state": {
       "allow_padding": false,
       "max": 1,
       "min": 0,
       "stabilized": false
      }
     },
     "19d46401c09e47a1bebbe62ef4475f8c": {
      "model_module": "bqplot",
      "model_module_version": "^0.2.3",
      "model_name": "LinearScaleModel",
      "state": {
       "allow_padding": false,
       "max": 1,
       "min": 0,
       "stabilized": false
      }
     },
     "1bbab0ec02824ae09bbf179846f160ff": {
      "model_module": "bqplot",
      "model_module_version": "^0.2.3",
      "model_name": "FigureModel",
      "state": {
       "_dom_classes": [],
       "axes": [
        "IPY_MODEL_6ff446212da743dfbf2d4814d92cd789",
        "IPY_MODEL_41375caeb0f04bc481f0f8351441d5c3"
       ],
       "interaction": "IPY_MODEL_625ed841f3a54656a093ee83ac52a63c",
       "layout": "IPY_MODEL_80d468871f4545d3a9014b52325827f2",
       "marks": [
        "IPY_MODEL_f22fc0307a9345719a0e65ff77a72b6d",
        "IPY_MODEL_361887d2113048b790c8dc15ddc886a4"
       ],
       "max_aspect_ratio": 6,
       "scale_x": "IPY_MODEL_503acaf77b064d41bf23f60ca96ca31f",
       "scale_y": "IPY_MODEL_2a0142af30244e4facf9875cb357dcba",
       "title": "Index Selector Example"
      }
     },
     "1bc38fada4b348108b68ee399dead2ff": {
      "model_module": "jupyter-js-widgets",
      "model_module_version": "~2.1.4",
      "model_name": "HTMLModel",
      "state": {
       "_model_module_version": "~2.1.4",
       "_view_module_version": "~2.1.4",
       "layout": "IPY_MODEL_d30736ebf1b1456590ab71b2dd4971bc",
       "value": "[]"
      }
     },
     "1bfe14899ffc4fefad23d6a39676e922": {
      "model_module": "jupyter-js-widgets",
      "model_module_version": "~2.1.4",
      "model_name": "VBoxModel",
      "state": {
       "_model_module_version": "~2.1.4",
       "_view_module_version": "~2.1.4",
       "children": [
        "IPY_MODEL_0c1e12352f7f4fa5b53d4634427f9bc4",
        "IPY_MODEL_1bbab0ec02824ae09bbf179846f160ff"
       ],
       "layout": "IPY_MODEL_59c60931805a43cf80c866f9f2826691"
      }
     },
     "1c593977ee764d4b985be0367a49c875": {
      "model_module": "jupyter-js-widgets",
      "model_module_version": "~2.1.4",
      "model_name": "HTMLModel",
      "state": {
       "_model_module_version": "~2.1.4",
       "_view_module_version": "~2.1.4",
       "layout": "IPY_MODEL_4444078ad4b049dea808faa92d4f72c5",
       "value": "[[89.1213104413553, 75.80137660345918], [92.40886149505857, 82.2444154348564]]"
      }
     },
     "1c68016b1956420a9d614c5e554bc9be": {
      "model_module": "jupyter-js-widgets",
      "model_module_version": "~2.1.4",
      "model_name": "HTMLModel",
      "state": {
       "_model_module_version": "~2.1.4",
       "_view_module_version": "~2.1.4",
       "layout": "IPY_MODEL_05894e69f70d4aab89982c4beb79649d",
       "value": "[0, 1, 2, 3, 4, 5, 6, 7, 8, 9, 10, 11, 12, 13, 14, 15, 16, 17, 18, 19, 20, 21, 22, 23, 24, 25, 26, 27, 28, 29, 30, 31, 32, 33, 34, 35, 36, 37, 38, 39, 40, 41, 42, 43, 44, 45, 46, 47, 48, 49, 50, 51, 52, 53, 54, 55, 56, 57, 58, 59, 60, 61, 62, 63, 64, 65, 66, 67, 68, 69, 70, 71, 72, 73, 74, 75, 76]"
      }
     },
     "1c96005b2a0047e7ac51dea502595c63": {
      "model_module": "bqplot",
      "model_module_version": "^0.2.3",
      "model_name": "LinearScaleModel",
      "state": {
       "allow_padding": false,
       "max": 1,
       "min": 0,
       "stabilized": false
      }
     },
     "1e31e2d535884da2bfc03a76ba165801": {
      "model_module": "bqplot",
      "model_module_version": "^0.2.3",
      "model_name": "LinearScaleModel",
      "state": {
       "allow_padding": false,
       "max": 1,
       "min": 0,
       "stabilized": false
      }
     },
     "1e50bb9b9ede419b93620773aa0d3c5c": {
      "model_module": "bqplot",
      "model_module_version": "^0.2.3",
      "model_name": "LinesModel",
      "state": {
       "color": {
        "type": null,
        "values": null
       },
       "colors": [
        "red"
       ],
       "display_legend": false,
       "fill_colors": [],
       "labels": [
        "C1"
       ],
       "scales": {
        "x": "IPY_MODEL_b32be766aeb441abb03371b7264410af",
        "y": "IPY_MODEL_d6eff4c6065444b2a876491e875277e7"
       },
       "selected": [],
       "x": {
        "type": "date",
        "values": [
         "2007-01-01T00:00:00.000000",
         "2007-01-02T00:00:00.000000",
         "2007-01-03T00:00:00.000000",
         "2007-01-04T00:00:00.000000",
         "2007-01-05T00:00:00.000000",
         "2007-01-06T00:00:00.000000",
         "2007-01-07T00:00:00.000000",
         "2007-01-08T00:00:00.000000",
         "2007-01-09T00:00:00.000000",
         "2007-01-10T00:00:00.000000",
         "2007-01-11T00:00:00.000000",
         "2007-01-12T00:00:00.000000",
         "2007-01-13T00:00:00.000000",
         "2007-01-14T00:00:00.000000",
         "2007-01-15T00:00:00.000000",
         "2007-01-16T00:00:00.000000",
         "2007-01-17T00:00:00.000000",
         "2007-01-18T00:00:00.000000",
         "2007-01-19T00:00:00.000000",
         "2007-01-20T00:00:00.000000",
         "2007-01-21T00:00:00.000000",
         "2007-01-22T00:00:00.000000",
         "2007-01-23T00:00:00.000000",
         "2007-01-24T00:00:00.000000",
         "2007-01-25T00:00:00.000000",
         "2007-01-26T00:00:00.000000",
         "2007-01-27T00:00:00.000000",
         "2007-01-28T00:00:00.000000",
         "2007-01-29T00:00:00.000000",
         "2007-01-30T00:00:00.000000",
         "2007-01-31T00:00:00.000000",
         "2007-02-01T00:00:00.000000",
         "2007-02-02T00:00:00.000000",
         "2007-02-03T00:00:00.000000",
         "2007-02-04T00:00:00.000000",
         "2007-02-05T00:00:00.000000",
         "2007-02-06T00:00:00.000000",
         "2007-02-07T00:00:00.000000",
         "2007-02-08T00:00:00.000000",
         "2007-02-09T00:00:00.000000",
         "2007-02-10T00:00:00.000000",
         "2007-02-11T00:00:00.000000",
         "2007-02-12T00:00:00.000000",
         "2007-02-13T00:00:00.000000",
         "2007-02-14T00:00:00.000000",
         "2007-02-15T00:00:00.000000",
         "2007-02-16T00:00:00.000000",
         "2007-02-17T00:00:00.000000",
         "2007-02-18T00:00:00.000000",
         "2007-02-19T00:00:00.000000",
         "2007-02-20T00:00:00.000000",
         "2007-02-21T00:00:00.000000",
         "2007-02-22T00:00:00.000000",
         "2007-02-23T00:00:00.000000",
         "2007-02-24T00:00:00.000000",
         "2007-02-25T00:00:00.000000",
         "2007-02-26T00:00:00.000000",
         "2007-02-27T00:00:00.000000",
         "2007-02-28T00:00:00.000000",
         "2007-03-01T00:00:00.000000",
         "2007-03-02T00:00:00.000000",
         "2007-03-03T00:00:00.000000",
         "2007-03-04T00:00:00.000000",
         "2007-03-05T00:00:00.000000",
         "2007-03-06T00:00:00.000000",
         "2007-03-07T00:00:00.000000",
         "2007-03-08T00:00:00.000000",
         "2007-03-09T00:00:00.000000",
         "2007-03-10T00:00:00.000000",
         "2007-03-11T00:00:00.000000",
         "2007-03-12T00:00:00.000000",
         "2007-03-13T00:00:00.000000",
         "2007-03-14T00:00:00.000000",
         "2007-03-15T00:00:00.000000",
         "2007-03-16T00:00:00.000000",
         "2007-03-17T00:00:00.000000",
         "2007-03-18T00:00:00.000000",
         "2007-03-19T00:00:00.000000",
         "2007-03-20T00:00:00.000000",
         "2007-03-21T00:00:00.000000",
         "2007-03-22T00:00:00.000000",
         "2007-03-23T00:00:00.000000",
         "2007-03-24T00:00:00.000000",
         "2007-03-25T00:00:00.000000",
         "2007-03-26T00:00:00.000000",
         "2007-03-27T00:00:00.000000",
         "2007-03-28T00:00:00.000000",
         "2007-03-29T00:00:00.000000",
         "2007-03-30T00:00:00.000000",
         "2007-03-31T00:00:00.000000",
         "2007-04-01T00:00:00.000000",
         "2007-04-02T00:00:00.000000",
         "2007-04-03T00:00:00.000000",
         "2007-04-04T00:00:00.000000",
         "2007-04-05T00:00:00.000000",
         "2007-04-06T00:00:00.000000",
         "2007-04-07T00:00:00.000000",
         "2007-04-08T00:00:00.000000",
         "2007-04-09T00:00:00.000000",
         "2007-04-10T00:00:00.000000",
         "2007-04-11T00:00:00.000000",
         "2007-04-12T00:00:00.000000",
         "2007-04-13T00:00:00.000000",
         "2007-04-14T00:00:00.000000",
         "2007-04-15T00:00:00.000000",
         "2007-04-16T00:00:00.000000",
         "2007-04-17T00:00:00.000000",
         "2007-04-18T00:00:00.000000",
         "2007-04-19T00:00:00.000000",
         "2007-04-20T00:00:00.000000",
         "2007-04-21T00:00:00.000000",
         "2007-04-22T00:00:00.000000",
         "2007-04-23T00:00:00.000000",
         "2007-04-24T00:00:00.000000",
         "2007-04-25T00:00:00.000000",
         "2007-04-26T00:00:00.000000",
         "2007-04-27T00:00:00.000000",
         "2007-04-28T00:00:00.000000",
         "2007-04-29T00:00:00.000000",
         "2007-04-30T00:00:00.000000",
         "2007-05-01T00:00:00.000000",
         "2007-05-02T00:00:00.000000",
         "2007-05-03T00:00:00.000000",
         "2007-05-04T00:00:00.000000",
         "2007-05-05T00:00:00.000000",
         "2007-05-06T00:00:00.000000",
         "2007-05-07T00:00:00.000000",
         "2007-05-08T00:00:00.000000",
         "2007-05-09T00:00:00.000000",
         "2007-05-10T00:00:00.000000",
         "2007-05-11T00:00:00.000000",
         "2007-05-12T00:00:00.000000",
         "2007-05-13T00:00:00.000000",
         "2007-05-14T00:00:00.000000",
         "2007-05-15T00:00:00.000000",
         "2007-05-16T00:00:00.000000",
         "2007-05-17T00:00:00.000000",
         "2007-05-18T00:00:00.000000",
         "2007-05-19T00:00:00.000000",
         "2007-05-20T00:00:00.000000",
         "2007-05-21T00:00:00.000000",
         "2007-05-22T00:00:00.000000",
         "2007-05-23T00:00:00.000000",
         "2007-05-24T00:00:00.000000",
         "2007-05-25T00:00:00.000000",
         "2007-05-26T00:00:00.000000",
         "2007-05-27T00:00:00.000000",
         "2007-05-28T00:00:00.000000",
         "2007-05-29T00:00:00.000000",
         "2007-05-30T00:00:00.000000"
        ]
       },
       "y": {
        "type": "float",
        "values": [
         100.68943970602382,
         101.04967257614271,
         101.70788739575829,
         100.9893077987132,
         100.15284381937975,
         99.49442572238767,
         99.3825237381875,
         100.85095984753357,
         99.85739161488387,
         101.61439127439795,
         101.98464897763643,
         103.06613586459986,
         103.04943250953093,
         103.4708210080052,
         102.48824931136326,
         101.27432586122985,
         100.58597048142923,
         98.66522227912566,
         99.92750105333691,
         99.29858370590395,
         98.70642687630868,
         97.75780533465444,
         98.52785075946646,
         98.29114650215546,
         100.20111776440702,
         99.88374731231532,
         99.44173454186618,
         98.95055520641374,
         100.65043576015452,
         99.82173899879308,
         100.42676368847032,
         97.6743354971758,
         97.01245200732231,
         95.02300976777425,
         94.56426007340116,
         93.53551517264161,
         92.91148174128412,
         90.58271447851807,
         89.30190519052212,
         89.5516080279304,
         88.568738806283,
         89.85878392747374,
         88.88130863668752,
         89.19089706759176,
         89.48452186747998,
         89.66500697325438,
         88.28009740061813,
         84.5225966929577,
         84.15080733864565,
         83.46270885804839,
         84.47893673996809,
         82.30680959895892,
         82.18097797633718,
         81.82634288252896,
         82.8441429996618,
         82.39987824646754,
         81.42120730808674,
         82.6575147643762,
         81.5424634721007,
         81.71142047040902,
         81.50198543358822,
         80.66130202508035,
         79.81483827673134,
         81.34248867324428,
         79.29259328505262,
         79.72198457703541,
         79.22426830999798,
         79.43649460802604,
         78.7439544839615,
         77.9120355472159,
         77.43146305849402,
         77.46865805951539,
         75.28151725646141,
         74.29545382566724,
         73.73371870924876,
         74.47449093903796,
         77.3084474474269,
         78.54283824755433,
         80.43083177005164,
         80.73699274638942,
         81.49220122267747,
         89.1256756573597,
         89.1256756573597,
         89.1256756573597,
         89.1256756573597,
         89.47552391969799,
         89.47552391969799,
         89.47552391969799,
         89.47552391969799,
         90.2626825099592,
         90.2626825099592,
         90.2626825099592,
         92.01192382165075,
         92.01192382165075,
         92.01192382165075,
         92.01192382165075,
         92.01192382165075,
         92.01192382165075,
         93.23639273983484,
         93.23639273983484,
         93.23639273983484,
         94.02355133009604,
         94.98563405152639,
         94.98563405152639,
         96.03517883854133,
         96.64741329763338,
         97.25964775672543,
         97.25964775672543,
         97.43457188789458,
         97.43457188789458,
         97.43457188789458,
         97.43457188789458,
         97.34710982231,
         97.34710982231,
         96.90979949438712,
         96.90979949438712,
         96.73487536321795,
         96.73487536321795,
         96.64741329763338,
         96.38502710087964,
         96.38502710087964,
         79.60165581354613,
         80.4903136990689,
         79.6236683803528,
         78.59948680229257,
         78.97376620932894,
         78.232418320374,
         79.87152298858473,
         79.3097210306836,
         80.62713535852998,
         80.92701642071572,
         80.1331153792402,
         79.65416889069813,
         81.34975904424722,
         81.23874942117084,
         80.74554470193664,
         81.20332707382255,
         81.46052437182307,
         80.24529857569283,
         79.67568944838081,
         78.14656121361405,
         78.48680205835102,
         76.42002712283318,
         76.06381985751345,
         75.30882790394682,
         76.05285267777393,
         74.77629145755768,
         74.93828810285069,
         76.08941493803721,
         77.23098783333327
        ]
       }
      }
     },
     "20c4ada6dfc14995b79ad225fca58a86": {
      "model_module": "bqplot",
      "model_module_version": "^0.2.3",
      "model_name": "BrushIntervalSelectorModel",
      "state": {
       "marks": [
        "IPY_MODEL_08204ca788c14738a6d57bf9f1c61439",
        "IPY_MODEL_86daf68ab0954da9bf0e736ac2f928b1"
       ],
       "scale": "IPY_MODEL_d318a282b85943189bcde9d6a765d2b4",
       "selected": {
        "type": null,
        "values": null
       }
      }
     },
     "234bb5d8d28c41ecb272e7c80d2cb5a0": {
      "model_module": "bqplot",
      "model_module_version": "^0.2.3",
      "model_name": "ScatterModel",
      "state": {
       "_model_module": "bqplot",
       "_model_module_version": "^0.2.3",
       "_view_module": "bqplot",
       "_view_module_version": "^0.2.3",
       "apply_clip": true,
       "color": {
        "type": null,
        "values": null
       },
       "colors": [
        "DeepSkyBlue"
       ],
       "display_legend": false,
       "enable_hover": true,
       "hovered_style": {},
       "interactions": {
        "hover": "tooltip"
       },
       "labels": [],
       "msg_throttle": 1,
       "names": {
        "type": null,
        "values": null
       },
       "opacity": {
        "type": null,
        "values": null
       },
       "preserve_domain": {},
       "rotation": {
        "type": null,
        "values": null
       },
       "scales": {
        "x": "IPY_MODEL_52f2ec6a864d4b4aa5fb1997b62ebfd3",
        "y": "IPY_MODEL_0695e0e82f564a2dbee5562461de6987"
       },
       "scales_metadata": {
        "color": {
         "dimension": "color"
        },
        "opacity": {
         "dimension": "opacity"
        },
        "size": {
         "dimension": "size"
        },
        "x": {
         "dimension": "x",
         "orientation": "horizontal"
        },
        "y": {
         "dimension": "y",
         "orientation": "vertical"
        }
       },
       "selected": [
        56,
        58,
        61,
        62,
        64,
        65,
        66,
        67,
        68,
        69,
        70,
        71,
        72,
        76,
        77,
        78,
        79,
        84,
        85,
        110,
        111,
        112,
        113,
        114,
        115,
        116,
        117,
        118,
        119,
        120,
        121,
        122,
        123,
        124,
        125,
        126,
        127,
        128,
        129,
        130,
        131,
        132,
        133,
        134,
        135,
        136,
        137,
        138,
        139
       ],
       "selected_style": {},
       "size": {
        "type": null,
        "values": null
       },
       "skew": {
        "type": null,
        "values": null
       },
       "tooltip": null,
       "tooltip_location": "mouse",
       "tooltip_style": {
        "opacity": 0.9
       },
       "unhovered_style": {},
       "unselected_style": {},
       "visible": true,
       "x": {
        "type": "float",
        "values": [
         100.78373638585522,
         101.38350005004746,
         101.98181666523826,
         101.47704053480443,
         100.84565354615721,
         100.9466230937988,
         100.53920587749954,
         101.38634286476594,
         100.67356817139739,
         101.52830433297196,
         101.22914094635884,
         101.48831187099681,
         101.62658280471109,
         102.112518511458,
         101.57210766213542,
         101.0895796062265,
         100.73036866391003,
         99.55088711360001,
         100.19350538046116,
         100.34219249771037,
         100.39718627792817,
         99.94149794752887,
         99.77456883254557,
         99.64119199648113,
         100.98757260529095,
         100.24672045031032,
         100.1625537200557,
         99.90662111879683,
         100.72785038965769,
         100.6738528330255,
         100.96777365101903,
         99.03434596297932,
         98.70124968539693,
         96.70526341057737,
         96.21560553434979,
         96.27526886190442,
         96.41030910605846,
         95.34173968590368,
         94.62792888472042,
         95.14670107333657,
         95.11226396462011,
         95.89703972226995,
         95.28271048443041,
         95.43575146837796,
         95.56720962822084,
         95.87241828527337,
         94.80879627600498,
         92.84667915955674,
         92.64003552454187,
         92.28998554786537,
         92.31755923236729,
         91.30808005254171,
         91.0638707889393,
         91.2464064298377,
         92.0308781821266,
         91.89995228137253,
         91.74064165138472,
         92.45245633710599,
         92.26708897059675,
         92.82350371805833,
         93.04929211727993,
         92.37812408155118,
         91.95917240878042,
         93.5275581564737,
         92.37909496430908,
         92.17381558141949,
         91.65732988668442,
         91.49079510417955,
         91.21990522934863,
         91.21974311151949,
         91.2810620239107,
         91.1835057991645,
         89.9638832982993,
         89.30798799302374,
         88.97117024447117,
         89.47834769211151,
         90.38320984592968,
         91.53644520431469,
         92.38327158018767,
         92.26120222281361,
         92.56940459315581,
         93.17170583743444,
         92.66481748648697,
         92.46294517257932,
         91.93703288196082,
         91.9700892098979,
         92.70285413941568,
         92.780532564742,
         93.32862961541338,
         93.56327693826361,
         93.7175020122228,
         93.08880107861577,
         93.69301961725412,
         93.83385917003605,
         93.95135790814746,
         94.05610440780228,
         94.52788423615495,
         93.58762256290635,
         92.89432697063384,
         93.92485296912193,
         93.83075584601485,
         94.10713349832616,
         94.6904636621637,
         93.78979340612219,
         93.28985632297247,
         93.97984197602787,
         94.34003804767198,
         94.01247983400327,
         93.33409413751892,
         92.76927407329806,
         91.43989743543126,
         91.18444502320511,
         91.37191259118855,
         91.36933959799637,
         90.88840945215706,
         89.88087078503152,
         90.36720792467293,
         89.92629446446784,
         90.02651602664764,
         90.36257475329815,
         90.20190662349763,
         90.64854989358375,
         90.72212307172788,
         90.01947290965438,
         90.0137458238125,
         90.5026878816464,
         89.706214179077,
         89.94860467364249,
         90.06238679268148,
         89.83358398710382,
         90.27153712917668,
         89.75506957387059,
         89.69302924137725,
         90.14658940509645,
         90.0898568866552,
         90.14299435482768,
         90.97162892664983,
         91.30255992090943,
         90.43749032990387,
         90.03607218623202,
         88.72983032933728,
         88.52300022715272,
         87.66837167875816,
         87.39247029035198,
         86.86296898523975,
         87.07215553023345,
         86.14441339347073,
         86.84352614069097,
         87.59202867799293,
         88.38993277326153
        ]
       },
       "y": {
        "type": "float",
        "values": [
         100.68943970602382,
         101.04967257614271,
         101.70788739575829,
         100.9893077987132,
         100.15284381937975,
         99.49442572238767,
         99.3825237381875,
         100.85095984753357,
         99.85739161488387,
         101.61439127439795,
         101.98464897763643,
         103.06613586459986,
         103.04943250953093,
         103.4708210080052,
         102.48824931136326,
         101.27432586122985,
         100.58597048142923,
         98.66522227912566,
         99.92750105333691,
         99.29858370590395,
         98.70642687630868,
         97.75780533465444,
         98.52785075946646,
         98.29114650215546,
         100.20111776440702,
         99.88374731231532,
         99.44173454186618,
         98.95055520641374,
         100.65043576015452,
         99.82173899879308,
         100.42676368847032,
         97.6743354971758,
         97.01245200732231,
         95.02300976777425,
         94.56426007340116,
         93.53551517264161,
         92.91148174128412,
         90.58271447851807,
         89.30190519052212,
         89.5516080279304,
         88.568738806283,
         89.85878392747374,
         88.88130863668752,
         89.19089706759176,
         89.48452186747998,
         89.66500697325438,
         88.28009740061813,
         84.5225966929577,
         84.15080733864565,
         83.46270885804839,
         84.47893673996809,
         82.30680959895892,
         82.18097797633718,
         81.82634288252896,
         82.8441429996618,
         82.39987824646754,
         81.42120730808674,
         82.6575147643762,
         81.5424634721007,
         81.71142047040902,
         81.50198543358822,
         80.66130202508035,
         79.81483827673134,
         81.34248867324428,
         79.29259328505262,
         79.72198457703541,
         79.22426830999798,
         79.43649460802604,
         78.7439544839615,
         77.9120355472159,
         77.43146305849402,
         77.46865805951539,
         75.28151725646141,
         74.29545382566724,
         73.73371870924876,
         74.47449093903796,
         77.3084474474269,
         78.54283824755433,
         80.43083177005164,
         80.73699274638942,
         81.49220122267747,
         81.96091301429752,
         81.36691829189286,
         81.57269458058445,
         80.618238000884,
         80.93806052697613,
         81.78218493282519,
         81.18022538891498,
         81.75495700501388,
         82.34655353799855,
         82.38057404084634,
         82.14148125762102,
         83.18324134065307,
         83.26655054076741,
         84.17028361429595,
         84.26207938947702,
         85.73769627851088,
         84.19829674767767,
         82.6443507073366,
         83.34834800244785,
         82.87105387993691,
         82.84823302990034,
         84.15998868370058,
         83.44951642318995,
         82.49858125160843,
         83.29297122067928,
         83.49947778814446,
         83.52608954754557,
         82.49112053588398,
         81.05304125515252,
         78.82533968928378,
         77.27986465236565,
         77.01481891171008,
         78.24137479627275,
         77.66664200207752,
         76.691596913963,
         77.71548072811935,
         77.02224202015353,
         77.21872191334775,
         78.6408309700679,
         78.85321882624797,
         79.60165581354613,
         80.4903136990689,
         79.6236683803528,
         78.59948680229257,
         78.97376620932894,
         78.232418320374,
         79.87152298858473,
         79.3097210306836,
         80.62713535852998,
         80.92701642071572,
         80.1331153792402,
         79.65416889069813,
         81.34975904424722,
         81.23874942117084,
         80.74554470193664,
         81.20332707382255,
         81.46052437182307,
         80.24529857569283,
         79.67568944838081,
         78.14656121361405,
         78.48680205835102,
         76.42002712283318,
         76.06381985751345,
         75.30882790394682,
         76.05285267777393,
         74.77629145755768,
         74.93828810285069,
         76.08941493803721,
         77.23098783333327
        ]
       }
      }
     },
     "23a7f9b68a3a4e9eaa5d5a6b2bfdb625": {
      "model_module": "bqplot",
      "model_module_version": "^0.2.3",
      "model_name": "DateScaleModel",
      "state": {
       "max": "2007-05-25T19:43:49.387000",
       "min": "2007-01-17T01:30:08.778000"
      }
     },
     "273fc291f8074bbba9c2ae213a7886c1": {
      "model_module": "bqplot",
      "model_module_version": "^0.2.3",
      "model_name": "LinearScaleModel",
      "state": {
       "stabilized": false
      }
     },
     "2878a0534a67461bbe270546cb834685": {
      "model_module": "bqplot",
      "model_module_version": "^0.2.3",
      "model_name": "LinearScaleModel",
      "state": {
       "allow_padding": false,
       "max": 1,
       "min": 0,
       "stabilized": false
      }
     },
     "2a0142af30244e4facf9875cb357dcba": {
      "model_module": "bqplot",
      "model_module_version": "^0.2.3",
      "model_name": "LinearScaleModel",
      "state": {
       "allow_padding": false,
       "max": 1,
       "min": 0,
       "stabilized": false
      }
     },
     "2bc7ea62f01c4b91978e4aa8fcba71e5": {
      "model_module": "bqplot",
      "model_module_version": "^0.2.3",
      "model_name": "HandDrawModel",
      "state": {
       "lines": "IPY_MODEL_1e50bb9b9ede419b93620773aa0d3c5c"
      }
     },
     "2e21b080dd1b49f7ad4ccbdfdaf87d33": {
      "model_module": "bqplot",
      "model_module_version": "^0.2.3",
      "model_name": "PanZoomModel",
      "state": {
       "scales": {
        "x": [
         "IPY_MODEL_23a7f9b68a3a4e9eaa5d5a6b2bfdb625"
        ],
        "y": [
         "IPY_MODEL_b47bceaab4ae4fa58c79a4bf76759f78"
        ]
       }
      }
     },
     "31fc2d2e97c04d5d8af622835758b365": {
      "model_module": "bqplot",
      "model_module_version": "^0.2.3",
      "model_name": "LinearScaleModel",
      "state": {
       "stabilized": false
      }
     },
     "33ac66b842b64bdb93cacedd48723412": {
      "model_module": "bqplot",
      "model_module_version": "^0.2.3",
      "model_name": "AxisModel",
      "state": {
       "grid_lines": "none",
       "label": "Freq",
       "orientation": "vertical",
       "scale": "IPY_MODEL_5c8e56a3539743518d8f39a0f192ebf7",
       "side": "left",
       "tick_values": {
        "type": null,
        "values": null
       }
      }
     },
     "34043c7f6da74f718bbb9edd84b20bda": {
      "model_module": "jupyter-js-widgets",
      "model_module_version": "~2.1.4",
      "model_name": "LayoutModel",
      "state": {
       "_model_module_version": "~2.1.4",
       "_view_module_version": "~2.1.4"
      }
     },
     "345237c0377f4f2b971c4d052d063fe6": {
      "model_module": "bqplot",
      "model_module_version": "^0.2.3",
      "model_name": "LinearScaleModel",
      "state": {
       "stabilized": false
      }
     },
     "355d326d1f5445ed843f74f7b38f847e": {
      "model_module": "bqplot",
      "model_module_version": "^0.2.3",
      "model_name": "LinearScaleModel",
      "state": {
       "allow_padding": false,
       "max": 1,
       "min": 0,
       "stabilized": false
      }
     },
     "35b75ee9120f47a882b16244d29a8dc5": {
      "model_module": "jupyter-js-widgets",
      "model_module_version": "~2.1.4",
      "model_name": "LayoutModel",
      "state": {
       "_model_module_version": "~2.1.4",
       "_view_module_version": "~2.1.4"
      }
     },
     "361887d2113048b790c8dc15ddc886a4": {
      "model_module": "bqplot",
      "model_module_version": "^0.2.3",
      "model_name": "LinesModel",
      "state": {
       "color": {
        "type": null,
        "values": null
       },
       "colors": [
        "blue"
       ],
       "display_legend": false,
       "fill_colors": [],
       "labels": [
        "C1"
       ],
       "scales": {
        "x": "IPY_MODEL_655e5933ae3d4d8cba3cff0ce2705bc7",
        "y": "IPY_MODEL_be81e8b1dcde433a8216b014af3b86f0"
       },
       "selected": [
        41
       ],
       "x": {
        "type": "date",
        "values": [
         "2007-02-20T00:00:00.000000",
         "2007-02-21T00:00:00.000000",
         "2007-02-22T00:00:00.000000",
         "2007-02-23T00:00:00.000000",
         "2007-02-24T00:00:00.000000",
         "2007-02-25T00:00:00.000000",
         "2007-02-26T00:00:00.000000",
         "2007-02-27T00:00:00.000000",
         "2007-02-28T00:00:00.000000",
         "2007-03-01T00:00:00.000000",
         "2007-03-02T00:00:00.000000",
         "2007-03-03T00:00:00.000000",
         "2007-03-04T00:00:00.000000",
         "2007-03-05T00:00:00.000000",
         "2007-03-06T00:00:00.000000",
         "2007-03-07T00:00:00.000000",
         "2007-03-08T00:00:00.000000",
         "2007-03-09T00:00:00.000000",
         "2007-03-10T00:00:00.000000",
         "2007-03-11T00:00:00.000000",
         "2007-03-12T00:00:00.000000",
         "2007-03-13T00:00:00.000000",
         "2007-03-14T00:00:00.000000",
         "2007-03-15T00:00:00.000000",
         "2007-03-16T00:00:00.000000",
         "2007-03-17T00:00:00.000000",
         "2007-03-18T00:00:00.000000",
         "2007-03-19T00:00:00.000000",
         "2007-03-20T00:00:00.000000",
         "2007-03-21T00:00:00.000000",
         "2007-03-22T00:00:00.000000",
         "2007-03-23T00:00:00.000000",
         "2007-03-24T00:00:00.000000",
         "2007-03-25T00:00:00.000000",
         "2007-03-26T00:00:00.000000",
         "2007-03-27T00:00:00.000000",
         "2007-03-28T00:00:00.000000",
         "2007-03-29T00:00:00.000000",
         "2007-03-30T00:00:00.000000",
         "2007-03-31T00:00:00.000000",
         "2007-04-01T00:00:00.000000",
         "2007-04-02T00:00:00.000000",
         "2007-04-03T00:00:00.000000",
         "2007-04-04T00:00:00.000000",
         "2007-04-05T00:00:00.000000",
         "2007-04-06T00:00:00.000000",
         "2007-04-07T00:00:00.000000",
         "2007-04-08T00:00:00.000000",
         "2007-04-09T00:00:00.000000",
         "2007-04-10T00:00:00.000000",
         "2007-04-11T00:00:00.000000",
         "2007-04-12T00:00:00.000000",
         "2007-04-13T00:00:00.000000",
         "2007-04-14T00:00:00.000000",
         "2007-04-15T00:00:00.000000",
         "2007-04-16T00:00:00.000000",
         "2007-04-17T00:00:00.000000",
         "2007-04-18T00:00:00.000000",
         "2007-04-19T00:00:00.000000",
         "2007-04-20T00:00:00.000000",
         "2007-04-21T00:00:00.000000",
         "2007-04-22T00:00:00.000000",
         "2007-04-23T00:00:00.000000",
         "2007-04-24T00:00:00.000000",
         "2007-04-25T00:00:00.000000",
         "2007-04-26T00:00:00.000000",
         "2007-04-27T00:00:00.000000",
         "2007-04-28T00:00:00.000000",
         "2007-04-29T00:00:00.000000",
         "2007-04-30T00:00:00.000000",
         "2007-05-01T00:00:00.000000",
         "2007-05-02T00:00:00.000000",
         "2007-05-03T00:00:00.000000",
         "2007-05-04T00:00:00.000000",
         "2007-05-05T00:00:00.000000",
         "2007-05-06T00:00:00.000000",
         "2007-05-07T00:00:00.000000",
         "2007-05-08T00:00:00.000000",
         "2007-05-09T00:00:00.000000",
         "2007-05-10T00:00:00.000000",
         "2007-05-11T00:00:00.000000",
         "2007-05-12T00:00:00.000000",
         "2007-05-13T00:00:00.000000",
         "2007-05-14T00:00:00.000000",
         "2007-05-15T00:00:00.000000",
         "2007-05-16T00:00:00.000000",
         "2007-05-17T00:00:00.000000",
         "2007-05-18T00:00:00.000000",
         "2007-05-19T00:00:00.000000",
         "2007-05-20T00:00:00.000000",
         "2007-05-21T00:00:00.000000",
         "2007-05-22T00:00:00.000000",
         "2007-05-23T00:00:00.000000",
         "2007-05-24T00:00:00.000000",
         "2007-05-25T00:00:00.000000",
         "2007-05-26T00:00:00.000000",
         "2007-05-27T00:00:00.000000",
         "2007-05-28T00:00:00.000000",
         "2007-05-29T00:00:00.000000",
         "2007-05-30T00:00:00.000000"
        ]
       },
       "y": {
        "type": "float",
        "values": [
         94.31755923236729,
         93.30808005254171,
         93.0638707889393,
         93.2464064298377,
         94.0308781821266,
         93.89995228137253,
         93.74064165138472,
         94.45245633710599,
         94.26708897059675,
         94.82350371805833,
         95.04929211727993,
         94.37812408155118,
         93.95917240878042,
         95.5275581564737,
         94.37909496430908,
         94.17381558141949,
         93.65732988668442,
         93.49079510417955,
         93.21990522934863,
         93.21974311151949,
         93.2810620239107,
         93.1835057991645,
         91.9638832982993,
         91.30798799302374,
         90.97117024447117,
         91.47834769211151,
         92.38320984592968,
         93.53644520431469,
         94.38327158018767,
         94.26120222281361,
         94.56940459315581,
         95.17170583743444,
         94.66481748648697,
         94.46294517257932,
         93.93703288196082,
         93.9700892098979,
         94.70285413941568,
         94.780532564742,
         95.32862961541338,
         95.56327693826361,
         95.7175020122228,
         95.08880107861577,
         95.69301961725412,
         95.83385917003605,
         95.95135790814746,
         96.05610440780228,
         96.52788423615495,
         95.58762256290635,
         94.89432697063384,
         95.92485296912193,
         95.83075584601485,
         96.10713349832616,
         96.6904636621637,
         95.78979340612219,
         95.28985632297247,
         95.97984197602787,
         96.34003804767198,
         96.01247983400327,
         95.33409413751892,
         94.76927407329806,
         93.43989743543126,
         93.18444502320511,
         93.37191259118855,
         93.36933959799637,
         92.88840945215706,
         91.88087078503152,
         92.36720792467293,
         91.92629446446784,
         92.02651602664764,
         92.36257475329815,
         92.20190662349763,
         92.64854989358375,
         92.72212307172788,
         92.01947290965438,
         92.0137458238125,
         92.5026878816464,
         91.706214179077,
         91.94860467364249,
         92.06238679268148,
         91.83358398710382,
         92.27153712917668,
         91.75506957387059,
         91.69302924137725,
         92.14658940509645,
         92.0898568866552,
         92.14299435482768,
         92.97162892664983,
         93.30255992090943,
         92.43749032990387,
         92.03607218623202,
         90.72983032933728,
         90.52300022715272,
         89.66837167875816,
         89.39247029035198,
         88.86296898523975,
         89.07215553023345,
         88.14441339347073,
         88.84352614069097,
         89.59202867799293,
         90.38993277326153
        ]
       }
      }
     },
     "3897a2e9d28849c194e5604501ee1fd8": {
      "model_module": "bqplot",
      "model_module_version": "^0.2.3",
      "model_name": "LinesModel",
      "state": {
       "color": {
        "type": null,
        "values": null
       },
       "display_legend": false,
       "fill_colors": [],
       "labels": [
        "C1"
       ],
       "scales": {
        "x": "IPY_MODEL_49c0af784a894f7fb5d0bf8c1ba4da43",
        "y": "IPY_MODEL_ffa174cec71240e8ae4a62771d4d9fbd"
       },
       "selected": [],
       "x": {
        "type": "float",
        "values": [
         0,
         1,
         2,
         3,
         4,
         5,
         6,
         7,
         8,
         9,
         10,
         11,
         12,
         13,
         14,
         15,
         16,
         17,
         18,
         19,
         20,
         21,
         22,
         23,
         24,
         25,
         26,
         27,
         28,
         29,
         30,
         31,
         32,
         33,
         34,
         35,
         36,
         37,
         38,
         39,
         40,
         41,
         42,
         43,
         44,
         45,
         46,
         47,
         48,
         49,
         50,
         51,
         52,
         53,
         54,
         55,
         56,
         57,
         58,
         59,
         60,
         61,
         62,
         63,
         64,
         65,
         66,
         67,
         68,
         69,
         70,
         71,
         72,
         73,
         74,
         75,
         76,
         77,
         78,
         79,
         80,
         81,
         82,
         83,
         84,
         85,
         86,
         87,
         88,
         89,
         90,
         91,
         92,
         93,
         94,
         95,
         96,
         97,
         98,
         99
        ]
       },
       "y": {
        "type": "float",
        "values": [
         1.1660872723724347,
         -0.9446755244658525,
         1.1329929104920586,
         0.8841858675130843,
         -0.25020494102163443,
         1.139276481247438,
         1.5511789556392548,
         -0.42010917916704466,
         0.9406405300153688,
         1.6798172828944749,
         1.9669688242744952,
         1.283698739493928,
         -0.12404511039829448,
         0.4160001268332573,
         -1.8510125523156138,
         2.0088051833499283,
         -0.4399354459500889,
         0.5471667407370512,
         -0.2634989651105101,
         1.5728230379992818,
         0.3100259213057303,
         0.384530449125641,
         -2.3849241489466944,
         0.46833595282032203,
         2.091465313706348,
         0.23674154745284384,
         0.34567527591623004,
         -0.5561669602846091,
         -0.2213918322029183,
         0.6524829055829909,
         0.4438195891806332,
         1.216519538436323,
         -0.2013256344679179,
         -1.0787970356370287,
         -0.053486486720427225,
         -0.9488542947815026,
         -0.03478631050675534,
         0.9024371385778532,
         0.29430721568620183,
         0.7174838345494131,
         -0.8564320017264396,
         -0.3691069650288865,
         -0.49879345123812374,
         1.1006360149778363,
         -0.8363273535237601,
         0.04053202014379507,
         -0.04309431105404343,
         1.037350380051088,
         0.1620444561478995,
         1.0862332041106013,
         -0.15413054041179208,
         0.8747558494055142,
         1.1950348711724375,
         0.7872047800785151,
         -0.23326604373733398,
         0.8852919408836794,
         -0.5279568093002561,
         -0.30385204034971924,
         0.7552765436637289,
         1.669247042865426,
         -0.2408215149946547,
         -0.7821284177153838,
         -0.3152915831250668,
         -0.7010166732271186,
         1.4687979642923246,
         -0.16444962513348613,
         0.9780585934848027,
         -0.8622362918879772,
         0.7872904586940956,
         -0.3582263145396637,
         -1.3363210086183253,
         0.7333803510628238,
         0.07295429258354617,
         1.3630407396410353,
         0.38384558538158114,
         -0.0932682178079591,
         -2.1688695110433294,
         0.15650097023442677,
         -0.6846554760779194,
         0.1026684848990102,
         -0.28550275318878177,
         -0.9312020548817904,
         -0.5805023876037764,
         1.5771516707020485,
         -0.577731535828388,
         -0.9451544056652577,
         -0.7645972263244248,
         1.0418072127931073,
         -0.372192645283572,
         0.6434601644956077,
         -0.9585611276071965,
         -1.3717369372235504,
         0.22029591315478933,
         -0.08995343737190946,
         0.88689174906822,
         -0.987227821959419,
         2.3842650147359405,
         -0.45614202388036207,
         0.745354738357165,
         0.5548313945284877
        ]
       }
      }
     },
     "3a4283a879334e76aeb0431b886ec383": {
      "model_module": "bqplot",
      "model_module_version": "^0.2.3",
      "model_name": "PanZoomModel",
      "state": {
       "scales": {
        "x": [
         "IPY_MODEL_f70ba89fbdc048118bba2f2c6d0bbca3"
        ],
        "y": [
         "IPY_MODEL_df6875fbdf674469a3009822cd4e3a7c"
        ]
       }
      }
     },
     "3c29d2aced5543ae96fe0e66a133b281": {
      "model_module": "jupyter-js-widgets",
      "model_module_version": "~2.1.4",
      "model_name": "VBoxModel",
      "state": {
       "_model_module_version": "~2.1.4",
       "_view_module_version": "~2.1.4",
       "children": [
        "IPY_MODEL_1bc38fada4b348108b68ee399dead2ff",
        "IPY_MODEL_66e7a3ce478a43f8b849845370b49434",
        "IPY_MODEL_91014942973742d48edcce9e71a6476d"
       ],
       "layout": "IPY_MODEL_4fa3ce074ea343a19cb301d6a74f35c2"
      }
     },
     "40cdefa6fe0b439ca6a08577c1c095d9": {
      "model_module": "bqplot",
      "model_module_version": "^0.2.3",
      "model_name": "LassoSelectorModel",
      "state": {
       "marks": [
        "IPY_MODEL_dab97f866a384aa4a56d27a94696bcb2",
        "IPY_MODEL_ca10059759d04b349afa7d1e414fc66e"
       ],
       "x_scale": null,
       "y_scale": null
      }
     },
     "41375caeb0f04bc481f0f8351441d5c3": {
      "model_module": "bqplot",
      "model_module_version": "^0.2.3",
      "model_name": "AxisModel",
      "state": {
       "label": "Security 1 Price",
       "orientation": "vertical",
       "scale": "IPY_MODEL_be81e8b1dcde433a8216b014af3b86f0",
       "side": "left",
       "tick_values": {
        "type": null,
        "values": null
       }
      }
     },
     "414c60729cfa450789553b50fdf41f24": {
      "model_module": "bqplot",
      "model_module_version": "^0.2.3",
      "model_name": "AxisModel",
      "state": {
       "grid_lines": "none",
       "label": "Date",
       "scale": "IPY_MODEL_b32be766aeb441abb03371b7264410af",
       "side": "bottom",
       "tick_values": {
        "type": null,
        "values": null
       }
      }
     },
     "4444078ad4b049dea808faa92d4f72c5": {
      "model_module": "jupyter-js-widgets",
      "model_module_version": "~2.1.4",
      "model_name": "LayoutModel",
      "state": {
       "_model_module_version": "~2.1.4",
       "_view_module_version": "~2.1.4"
      }
     },
     "44bcb531a016428a83cbf4e578fb061e": {
      "model_module": "jupyter-js-widgets",
      "model_module_version": "~2.1.4",
      "model_name": "LayoutModel",
      "state": {
       "_model_module_version": "~2.1.4",
       "_view_module_version": "~2.1.4"
      }
     },
     "462636db67a04b02a5083f473b9bd86e": {
      "model_module": "bqplot",
      "model_module_version": "^0.2.3",
      "model_name": "DateScaleModel",
      "state": {
       "min": "2007-01-01T00:00:00.000000"
      }
     },
     "4635dc3ea7fa4ce289cdf30a25159fbe": {
      "model_module": "bqplot",
      "model_module_version": "^0.2.3",
      "model_name": "ScatterModel",
      "state": {
       "_model_module": "bqplot",
       "_model_module_version": "^0.2.3",
       "_view_module": "bqplot",
       "_view_module_version": "^0.2.3",
       "apply_clip": true,
       "color": {
        "type": null,
        "values": null
       },
       "colors": [
        "DeepSkyBlue"
       ],
       "display_legend": false,
       "enable_hover": true,
       "hovered_style": {},
       "interactions": {
        "hover": "tooltip"
       },
       "labels": [],
       "msg_throttle": 1,
       "names": {
        "type": null,
        "values": null
       },
       "opacity": {
        "type": null,
        "values": null
       },
       "preserve_domain": {},
       "rotation": {
        "type": null,
        "values": null
       },
       "scales": {
        "x": "IPY_MODEL_a2181f7ed85a4f099178051b9e6178dd",
        "y": "IPY_MODEL_4acf8a8d34e34afd898c6b51982d60e1"
       },
       "scales_metadata": {
        "color": {
         "dimension": "color"
        },
        "opacity": {
         "dimension": "opacity"
        },
        "size": {
         "dimension": "size"
        },
        "x": {
         "dimension": "x",
         "orientation": "horizontal"
        },
        "y": {
         "dimension": "y",
         "orientation": "vertical"
        }
       },
       "selected": [],
       "selected_style": {},
       "size": {
        "type": null,
        "values": null
       },
       "skew": {
        "type": null,
        "values": null
       },
       "tooltip": null,
       "tooltip_location": "mouse",
       "tooltip_style": {
        "opacity": 0.9
       },
       "unhovered_style": {},
       "unselected_style": {},
       "visible": true,
       "x": {
        "type": "date",
        "values": [
         "2007-01-01T00:00:00.000000",
         "2007-01-02T00:00:00.000000",
         "2007-01-03T00:00:00.000000",
         "2007-01-04T00:00:00.000000",
         "2007-01-05T00:00:00.000000",
         "2007-01-06T00:00:00.000000",
         "2007-01-07T00:00:00.000000",
         "2007-01-08T00:00:00.000000",
         "2007-01-09T00:00:00.000000",
         "2007-01-10T00:00:00.000000",
         "2007-01-11T00:00:00.000000",
         "2007-01-12T00:00:00.000000",
         "2007-01-13T00:00:00.000000",
         "2007-01-14T00:00:00.000000",
         "2007-01-15T00:00:00.000000",
         "2007-01-16T00:00:00.000000",
         "2007-01-17T00:00:00.000000",
         "2007-01-18T00:00:00.000000",
         "2007-01-19T00:00:00.000000",
         "2007-01-20T00:00:00.000000",
         "2007-01-21T00:00:00.000000",
         "2007-01-22T00:00:00.000000",
         "2007-01-23T00:00:00.000000",
         "2007-01-24T00:00:00.000000",
         "2007-01-25T00:00:00.000000",
         "2007-01-26T00:00:00.000000",
         "2007-01-27T00:00:00.000000",
         "2007-01-28T00:00:00.000000",
         "2007-01-29T00:00:00.000000",
         "2007-01-30T00:00:00.000000",
         "2007-01-31T00:00:00.000000",
         "2007-02-01T00:00:00.000000",
         "2007-02-02T00:00:00.000000",
         "2007-02-03T00:00:00.000000",
         "2007-02-04T00:00:00.000000",
         "2007-02-05T00:00:00.000000",
         "2007-02-06T00:00:00.000000",
         "2007-02-07T00:00:00.000000",
         "2007-02-08T00:00:00.000000",
         "2007-02-09T00:00:00.000000",
         "2007-02-10T00:00:00.000000",
         "2007-02-11T00:00:00.000000",
         "2007-02-12T00:00:00.000000",
         "2007-02-13T00:00:00.000000",
         "2007-02-14T00:00:00.000000",
         "2007-02-15T00:00:00.000000",
         "2007-02-16T00:00:00.000000",
         "2007-02-17T00:00:00.000000",
         "2007-02-18T00:00:00.000000",
         "2007-02-19T00:00:00.000000",
         "2007-02-20T00:00:00.000000",
         "2007-02-21T00:00:00.000000",
         "2007-02-22T00:00:00.000000",
         "2007-02-23T00:00:00.000000",
         "2007-02-24T00:00:00.000000",
         "2007-02-25T00:00:00.000000",
         "2007-02-26T00:00:00.000000",
         "2007-02-27T00:00:00.000000",
         "2007-02-28T00:00:00.000000",
         "2007-03-01T00:00:00.000000",
         "2007-03-02T00:00:00.000000",
         "2007-03-03T00:00:00.000000",
         "2007-03-04T00:00:00.000000",
         "2007-03-05T00:00:00.000000",
         "2007-03-06T00:00:00.000000",
         "2007-03-07T00:00:00.000000",
         "2007-03-08T00:00:00.000000",
         "2007-03-09T00:00:00.000000",
         "2007-03-10T00:00:00.000000",
         "2007-03-11T00:00:00.000000",
         "2007-03-12T00:00:00.000000",
         "2007-03-13T00:00:00.000000",
         "2007-03-14T00:00:00.000000",
         "2007-03-15T00:00:00.000000",
         "2007-03-16T00:00:00.000000",
         "2007-03-17T00:00:00.000000",
         "2007-03-18T00:00:00.000000",
         "2007-03-19T00:00:00.000000",
         "2007-03-20T00:00:00.000000",
         "2007-03-21T00:00:00.000000",
         "2007-03-22T00:00:00.000000",
         "2007-03-23T00:00:00.000000",
         "2007-03-24T00:00:00.000000",
         "2007-03-25T00:00:00.000000",
         "2007-03-26T00:00:00.000000",
         "2007-03-27T00:00:00.000000",
         "2007-03-28T00:00:00.000000",
         "2007-03-29T00:00:00.000000",
         "2007-03-30T00:00:00.000000",
         "2007-03-31T00:00:00.000000",
         "2007-04-01T00:00:00.000000",
         "2007-04-02T00:00:00.000000",
         "2007-04-03T00:00:00.000000",
         "2007-04-04T00:00:00.000000",
         "2007-04-05T00:00:00.000000",
         "2007-04-06T00:00:00.000000",
         "2007-04-07T00:00:00.000000",
         "2007-04-08T00:00:00.000000",
         "2007-04-09T00:00:00.000000",
         "2007-04-10T00:00:00.000000",
         "2007-04-11T00:00:00.000000",
         "2007-04-12T00:00:00.000000",
         "2007-04-13T00:00:00.000000",
         "2007-04-14T00:00:00.000000",
         "2007-04-15T00:00:00.000000",
         "2007-04-16T00:00:00.000000",
         "2007-04-17T00:00:00.000000",
         "2007-04-18T00:00:00.000000",
         "2007-04-19T00:00:00.000000",
         "2007-04-20T00:00:00.000000",
         "2007-04-21T00:00:00.000000",
         "2007-04-22T00:00:00.000000",
         "2007-04-23T00:00:00.000000",
         "2007-04-24T00:00:00.000000",
         "2007-04-25T00:00:00.000000",
         "2007-04-26T00:00:00.000000",
         "2007-04-27T00:00:00.000000",
         "2007-04-28T00:00:00.000000",
         "2007-04-29T00:00:00.000000",
         "2007-04-30T00:00:00.000000",
         "2007-05-01T00:00:00.000000",
         "2007-05-02T00:00:00.000000",
         "2007-05-03T00:00:00.000000",
         "2007-05-04T00:00:00.000000",
         "2007-05-05T00:00:00.000000",
         "2007-05-06T00:00:00.000000",
         "2007-05-07T00:00:00.000000",
         "2007-05-08T00:00:00.000000",
         "2007-05-09T00:00:00.000000",
         "2007-05-10T00:00:00.000000",
         "2007-05-11T00:00:00.000000",
         "2007-05-12T00:00:00.000000",
         "2007-05-13T00:00:00.000000",
         "2007-05-14T00:00:00.000000",
         "2007-05-15T00:00:00.000000",
         "2007-05-16T00:00:00.000000",
         "2007-05-17T00:00:00.000000",
         "2007-05-18T00:00:00.000000",
         "2007-05-19T00:00:00.000000",
         "2007-05-20T00:00:00.000000",
         "2007-05-21T00:00:00.000000",
         "2007-05-22T00:00:00.000000",
         "2007-05-23T00:00:00.000000",
         "2007-05-24T00:00:00.000000",
         "2007-05-25T00:00:00.000000",
         "2007-05-26T00:00:00.000000",
         "2007-05-27T00:00:00.000000",
         "2007-05-28T00:00:00.000000",
         "2007-05-29T00:00:00.000000",
         "2007-05-30T00:00:00.000000"
        ]
       },
       "y": {
        "type": "float",
        "values": [
         100.68943970602382,
         101.04967257614271,
         101.70788739575829,
         100.9893077987132,
         100.15284381937975,
         99.49442572238767,
         99.3825237381875,
         100.85095984753357,
         99.85739161488387,
         101.61439127439795,
         101.98464897763643,
         103.06613586459986,
         103.04943250953093,
         103.4708210080052,
         102.48824931136326,
         101.27432586122985,
         100.58597048142923,
         98.66522227912566,
         99.92750105333691,
         99.29858370590395,
         98.70642687630868,
         97.75780533465444,
         98.52785075946646,
         98.29114650215546,
         100.20111776440702,
         99.88374731231532,
         99.44173454186618,
         98.95055520641374,
         100.65043576015452,
         99.82173899879308,
         100.42676368847032,
         97.6743354971758,
         97.01245200732231,
         95.02300976777425,
         94.56426007340116,
         93.53551517264161,
         92.91148174128412,
         90.58271447851807,
         89.30190519052212,
         89.5516080279304,
         88.568738806283,
         89.85878392747374,
         88.88130863668752,
         89.19089706759176,
         89.48452186747998,
         89.66500697325438,
         88.28009740061813,
         84.5225966929577,
         84.15080733864565,
         83.46270885804839,
         84.47893673996809,
         82.30680959895892,
         82.18097797633718,
         81.82634288252896,
         82.8441429996618,
         82.39987824646754,
         81.42120730808674,
         82.6575147643762,
         81.5424634721007,
         81.71142047040902,
         81.50198543358822,
         80.66130202508035,
         79.81483827673134,
         81.34248867324428,
         79.29259328505262,
         79.72198457703541,
         79.22426830999798,
         79.43649460802604,
         78.7439544839615,
         77.9120355472159,
         77.43146305849402,
         77.46865805951539,
         75.28151725646141,
         74.29545382566724,
         73.73371870924876,
         74.47449093903796,
         77.3084474474269,
         78.54283824755433,
         80.43083177005164,
         80.73699274638942,
         81.49220122267747,
         81.96091301429752,
         81.36691829189286,
         81.57269458058445,
         80.618238000884,
         80.93806052697613,
         81.78218493282519,
         81.18022538891498,
         81.75495700501388,
         82.34655353799855,
         82.38057404084634,
         82.14148125762102,
         83.18324134065307,
         83.26655054076741,
         84.17028361429595,
         84.26207938947702,
         85.73769627851088,
         84.19829674767767,
         82.6443507073366,
         83.34834800244785,
         82.87105387993691,
         82.84823302990034,
         84.15998868370058,
         83.44951642318995,
         82.49858125160843,
         83.29297122067928,
         83.49947778814446,
         83.52608954754557,
         82.49112053588398,
         81.05304125515252,
         78.82533968928378,
         77.27986465236565,
         77.01481891171008,
         78.24137479627275,
         77.66664200207752,
         76.691596913963,
         77.71548072811935,
         77.02224202015353,
         77.21872191334775,
         78.6408309700679,
         78.85321882624797,
         79.60165581354613,
         80.4903136990689,
         79.6236683803528,
         78.59948680229257,
         78.97376620932894,
         78.232418320374,
         79.87152298858473,
         79.3097210306836,
         80.62713535852998,
         80.92701642071572,
         80.1331153792402,
         79.65416889069813,
         81.34975904424722,
         81.23874942117084,
         80.74554470193664,
         81.20332707382255,
         81.46052437182307,
         80.24529857569283,
         79.67568944838081,
         78.14656121361405,
         78.48680205835102,
         76.42002712283318,
         76.06381985751345,
         75.30882790394682,
         76.05285267777393,
         74.77629145755768,
         74.93828810285069,
         76.08941493803721,
         77.23098783333327
        ]
       }
      }
     },
     "472504de5c844b078c250c7440dba462": {
      "model_module": "bqplot",
      "model_module_version": "^0.2.3",
      "model_name": "FigureModel",
      "state": {
       "_dom_classes": [],
       "axes": [
        "IPY_MODEL_5832d4bd33964b8eb3a85e4fbc10d4bc",
        "IPY_MODEL_b3fec2e42f4a4d40bcd2511011492410"
       ],
       "interaction": "IPY_MODEL_6c347ceae44a4864a7051dee08f953d4",
       "layout": "IPY_MODEL_51b52101a29f46c78345cfda51a62f35",
       "marks": [
        "IPY_MODEL_234bb5d8d28c41ecb272e7c80d2cb5a0"
       ],
       "max_aspect_ratio": 6,
       "scale_x": "IPY_MODEL_e7a492c94923407f8f9cae281ae452d2",
       "scale_y": "IPY_MODEL_182ef2905e744bcba41dc7ed909f0e7d",
       "title": "Scatter Chart Brush Selector Example"
      }
     },
     "480aa835a31a467baf9163f129e3f537": {
      "model_module": "bqplot",
      "model_module_version": "^0.2.3",
      "model_name": "LinearScaleModel",
      "state": {
       "allow_padding": false,
       "max": 1,
       "min": 0,
       "stabilized": false
      }
     },
     "485916526b83435182197676486227fb": {
      "model_module": "bqplot",
      "model_module_version": "^0.2.3",
      "model_name": "LinesModel",
      "state": {
       "color": {
        "type": null,
        "values": null
       },
       "display_legend": false,
       "fill_colors": [],
       "labels": [
        "C1"
       ],
       "scales": {
        "x": "IPY_MODEL_cda8694f326441e2b95898ddcbbfe543",
        "y": "IPY_MODEL_31fc2d2e97c04d5d8af622835758b365"
       },
       "selected": [
        50,
        51,
        52,
        53,
        54,
        55,
        56,
        57,
        58,
        59,
        60,
        61,
        62,
        63,
        64,
        65,
        66,
        67,
        68,
        69,
        70,
        71,
        72,
        73,
        74,
        75,
        76,
        77,
        78,
        79,
        80,
        81,
        82,
        83,
        84,
        85,
        86,
        87,
        88,
        89,
        90,
        91,
        92,
        93,
        94,
        95,
        96,
        97,
        98,
        99,
        100,
        101,
        102,
        103,
        104,
        105,
        106,
        107,
        108,
        109,
        110
       ],
       "x": {
        "type": "date",
        "values": [
         "2007-01-01T00:00:00.000000",
         "2007-01-02T00:00:00.000000",
         "2007-01-03T00:00:00.000000",
         "2007-01-04T00:00:00.000000",
         "2007-01-05T00:00:00.000000",
         "2007-01-06T00:00:00.000000",
         "2007-01-07T00:00:00.000000",
         "2007-01-08T00:00:00.000000",
         "2007-01-09T00:00:00.000000",
         "2007-01-10T00:00:00.000000",
         "2007-01-11T00:00:00.000000",
         "2007-01-12T00:00:00.000000",
         "2007-01-13T00:00:00.000000",
         "2007-01-14T00:00:00.000000",
         "2007-01-15T00:00:00.000000",
         "2007-01-16T00:00:00.000000",
         "2007-01-17T00:00:00.000000",
         "2007-01-18T00:00:00.000000",
         "2007-01-19T00:00:00.000000",
         "2007-01-20T00:00:00.000000",
         "2007-01-21T00:00:00.000000",
         "2007-01-22T00:00:00.000000",
         "2007-01-23T00:00:00.000000",
         "2007-01-24T00:00:00.000000",
         "2007-01-25T00:00:00.000000",
         "2007-01-26T00:00:00.000000",
         "2007-01-27T00:00:00.000000",
         "2007-01-28T00:00:00.000000",
         "2007-01-29T00:00:00.000000",
         "2007-01-30T00:00:00.000000",
         "2007-01-31T00:00:00.000000",
         "2007-02-01T00:00:00.000000",
         "2007-02-02T00:00:00.000000",
         "2007-02-03T00:00:00.000000",
         "2007-02-04T00:00:00.000000",
         "2007-02-05T00:00:00.000000",
         "2007-02-06T00:00:00.000000",
         "2007-02-07T00:00:00.000000",
         "2007-02-08T00:00:00.000000",
         "2007-02-09T00:00:00.000000",
         "2007-02-10T00:00:00.000000",
         "2007-02-11T00:00:00.000000",
         "2007-02-12T00:00:00.000000",
         "2007-02-13T00:00:00.000000",
         "2007-02-14T00:00:00.000000",
         "2007-02-15T00:00:00.000000",
         "2007-02-16T00:00:00.000000",
         "2007-02-17T00:00:00.000000",
         "2007-02-18T00:00:00.000000",
         "2007-02-19T00:00:00.000000",
         "2007-02-20T00:00:00.000000",
         "2007-02-21T00:00:00.000000",
         "2007-02-22T00:00:00.000000",
         "2007-02-23T00:00:00.000000",
         "2007-02-24T00:00:00.000000",
         "2007-02-25T00:00:00.000000",
         "2007-02-26T00:00:00.000000",
         "2007-02-27T00:00:00.000000",
         "2007-02-28T00:00:00.000000",
         "2007-03-01T00:00:00.000000",
         "2007-03-02T00:00:00.000000",
         "2007-03-03T00:00:00.000000",
         "2007-03-04T00:00:00.000000",
         "2007-03-05T00:00:00.000000",
         "2007-03-06T00:00:00.000000",
         "2007-03-07T00:00:00.000000",
         "2007-03-08T00:00:00.000000",
         "2007-03-09T00:00:00.000000",
         "2007-03-10T00:00:00.000000",
         "2007-03-11T00:00:00.000000",
         "2007-03-12T00:00:00.000000",
         "2007-03-13T00:00:00.000000",
         "2007-03-14T00:00:00.000000",
         "2007-03-15T00:00:00.000000",
         "2007-03-16T00:00:00.000000",
         "2007-03-17T00:00:00.000000",
         "2007-03-18T00:00:00.000000",
         "2007-03-19T00:00:00.000000",
         "2007-03-20T00:00:00.000000",
         "2007-03-21T00:00:00.000000",
         "2007-03-22T00:00:00.000000",
         "2007-03-23T00:00:00.000000",
         "2007-03-24T00:00:00.000000",
         "2007-03-25T00:00:00.000000",
         "2007-03-26T00:00:00.000000",
         "2007-03-27T00:00:00.000000",
         "2007-03-28T00:00:00.000000",
         "2007-03-29T00:00:00.000000",
         "2007-03-30T00:00:00.000000",
         "2007-03-31T00:00:00.000000",
         "2007-04-01T00:00:00.000000",
         "2007-04-02T00:00:00.000000",
         "2007-04-03T00:00:00.000000",
         "2007-04-04T00:00:00.000000",
         "2007-04-05T00:00:00.000000",
         "2007-04-06T00:00:00.000000",
         "2007-04-07T00:00:00.000000",
         "2007-04-08T00:00:00.000000",
         "2007-04-09T00:00:00.000000",
         "2007-04-10T00:00:00.000000",
         "2007-04-11T00:00:00.000000",
         "2007-04-12T00:00:00.000000",
         "2007-04-13T00:00:00.000000",
         "2007-04-14T00:00:00.000000",
         "2007-04-15T00:00:00.000000",
         "2007-04-16T00:00:00.000000",
         "2007-04-17T00:00:00.000000",
         "2007-04-18T00:00:00.000000",
         "2007-04-19T00:00:00.000000",
         "2007-04-20T00:00:00.000000",
         "2007-04-21T00:00:00.000000",
         "2007-04-22T00:00:00.000000",
         "2007-04-23T00:00:00.000000",
         "2007-04-24T00:00:00.000000",
         "2007-04-25T00:00:00.000000",
         "2007-04-26T00:00:00.000000",
         "2007-04-27T00:00:00.000000",
         "2007-04-28T00:00:00.000000",
         "2007-04-29T00:00:00.000000",
         "2007-04-30T00:00:00.000000",
         "2007-05-01T00:00:00.000000",
         "2007-05-02T00:00:00.000000",
         "2007-05-03T00:00:00.000000",
         "2007-05-04T00:00:00.000000",
         "2007-05-05T00:00:00.000000",
         "2007-05-06T00:00:00.000000",
         "2007-05-07T00:00:00.000000",
         "2007-05-08T00:00:00.000000",
         "2007-05-09T00:00:00.000000",
         "2007-05-10T00:00:00.000000",
         "2007-05-11T00:00:00.000000",
         "2007-05-12T00:00:00.000000",
         "2007-05-13T00:00:00.000000",
         "2007-05-14T00:00:00.000000",
         "2007-05-15T00:00:00.000000",
         "2007-05-16T00:00:00.000000",
         "2007-05-17T00:00:00.000000",
         "2007-05-18T00:00:00.000000",
         "2007-05-19T00:00:00.000000",
         "2007-05-20T00:00:00.000000",
         "2007-05-21T00:00:00.000000",
         "2007-05-22T00:00:00.000000",
         "2007-05-23T00:00:00.000000",
         "2007-05-24T00:00:00.000000",
         "2007-05-25T00:00:00.000000",
         "2007-05-26T00:00:00.000000",
         "2007-05-27T00:00:00.000000",
         "2007-05-28T00:00:00.000000",
         "2007-05-29T00:00:00.000000",
         "2007-05-30T00:00:00.000000"
        ]
       },
       "y": {
        "type": "float",
        "values": [
         100.78373638585522,
         101.38350005004746,
         101.98181666523826,
         101.47704053480443,
         100.84565354615721,
         100.9466230937988,
         100.53920587749954,
         101.38634286476594,
         100.67356817139739,
         101.52830433297196,
         101.22914094635884,
         101.48831187099681,
         101.62658280471109,
         102.112518511458,
         101.57210766213542,
         101.0895796062265,
         100.73036866391003,
         99.55088711360001,
         100.19350538046116,
         100.34219249771037,
         100.39718627792817,
         99.94149794752887,
         99.77456883254557,
         99.64119199648113,
         100.98757260529095,
         100.24672045031032,
         100.1625537200557,
         99.90662111879683,
         100.72785038965769,
         100.6738528330255,
         100.96777365101903,
         99.03434596297932,
         98.70124968539693,
         96.70526341057737,
         96.21560553434979,
         96.27526886190442,
         96.41030910605846,
         95.34173968590368,
         94.62792888472042,
         95.14670107333657,
         95.11226396462011,
         95.89703972226995,
         95.28271048443041,
         95.43575146837796,
         95.56720962822084,
         95.87241828527337,
         94.80879627600498,
         92.84667915955674,
         92.64003552454187,
         92.28998554786537,
         92.31755923236729,
         91.30808005254171,
         91.0638707889393,
         91.2464064298377,
         92.0308781821266,
         91.89995228137253,
         91.74064165138472,
         92.45245633710599,
         92.26708897059675,
         92.82350371805833,
         93.04929211727993,
         92.37812408155118,
         91.95917240878042,
         93.5275581564737,
         92.37909496430908,
         92.17381558141949,
         91.65732988668442,
         91.49079510417955,
         91.21990522934863,
         91.21974311151949,
         91.2810620239107,
         91.1835057991645,
         89.9638832982993,
         89.30798799302374,
         88.97117024447117,
         89.47834769211151,
         90.38320984592968,
         91.53644520431469,
         92.38327158018767,
         92.26120222281361,
         92.56940459315581,
         93.17170583743444,
         92.66481748648697,
         92.46294517257932,
         91.93703288196082,
         91.9700892098979,
         92.70285413941568,
         92.780532564742,
         93.32862961541338,
         93.56327693826361,
         93.7175020122228,
         93.08880107861577,
         93.69301961725412,
         93.83385917003605,
         93.95135790814746,
         94.05610440780228,
         94.52788423615495,
         93.58762256290635,
         92.89432697063384,
         93.92485296912193,
         93.83075584601485,
         94.10713349832616,
         94.6904636621637,
         93.78979340612219,
         93.28985632297247,
         93.97984197602787,
         94.34003804767198,
         94.01247983400327,
         93.33409413751892,
         92.76927407329806,
         91.43989743543126,
         91.18444502320511,
         91.37191259118855,
         91.36933959799637,
         90.88840945215706,
         89.88087078503152,
         90.36720792467293,
         89.92629446446784,
         90.02651602664764,
         90.36257475329815,
         90.20190662349763,
         90.64854989358375,
         90.72212307172788,
         90.01947290965438,
         90.0137458238125,
         90.5026878816464,
         89.706214179077,
         89.94860467364249,
         90.06238679268148,
         89.83358398710382,
         90.27153712917668,
         89.75506957387059,
         89.69302924137725,
         90.14658940509645,
         90.0898568866552,
         90.14299435482768,
         90.97162892664983,
         91.30255992090943,
         90.43749032990387,
         90.03607218623202,
         88.72983032933728,
         88.52300022715272,
         87.66837167875816,
         87.39247029035198,
         86.86296898523975,
         87.07215553023345,
         86.14441339347073,
         86.84352614069097,
         87.59202867799293,
         88.38993277326153
        ]
       }
      }
     },
     "486ebd2c19dd4c84893fa6df2fac5a36": {
      "model_module": "bqplot",
      "model_module_version": "^0.2.3",
      "model_name": "HandDrawModel",
      "state": {
       "lines": "IPY_MODEL_08204ca788c14738a6d57bf9f1c61439"
      }
     },
     "49c0af784a894f7fb5d0bf8c1ba4da43": {
      "model_module": "bqplot",
      "model_module_version": "^0.2.3",
      "model_name": "LinearScaleModel",
      "state": {
       "stabilized": false
      }
     },
     "4acf8a8d34e34afd898c6b51982d60e1": {
      "model_module": "bqplot",
      "model_module_version": "^0.2.3",
      "model_name": "LinearScaleModel",
      "state": {
       "stabilized": false
      }
     },
     "4fa3ce074ea343a19cb301d6a74f35c2": {
      "model_module": "jupyter-js-widgets",
      "model_module_version": "~2.1.4",
      "model_name": "LayoutModel",
      "state": {
       "_model_module_version": "~2.1.4",
       "_view_module_version": "~2.1.4"
      }
     },
     "503acaf77b064d41bf23f60ca96ca31f": {
      "model_module": "bqplot",
      "model_module_version": "^0.2.3",
      "model_name": "LinearScaleModel",
      "state": {
       "allow_padding": false,
       "max": 1,
       "min": 0,
       "stabilized": false
      }
     },
     "51296b198a5343f79b174d5a4b097a0a": {
      "model_module": "bqplot",
      "model_module_version": "^0.2.3",
      "model_name": "LinesModel",
      "state": {
       "color": {
        "type": null,
        "values": null
       },
       "colors": [
        "red"
       ],
       "display_legend": false,
       "fill_colors": [],
       "labels": [
        "C1"
       ],
       "scales": {
        "x": "IPY_MODEL_23a7f9b68a3a4e9eaa5d5a6b2bfdb625",
        "y": "IPY_MODEL_b47bceaab4ae4fa58c79a4bf76759f78"
       },
       "selected": [],
       "x": {
        "type": "date",
        "values": [
         "2007-01-01T00:00:00.000000",
         "2007-01-02T00:00:00.000000",
         "2007-01-03T00:00:00.000000",
         "2007-01-04T00:00:00.000000",
         "2007-01-05T00:00:00.000000",
         "2007-01-06T00:00:00.000000",
         "2007-01-07T00:00:00.000000",
         "2007-01-08T00:00:00.000000",
         "2007-01-09T00:00:00.000000",
         "2007-01-10T00:00:00.000000",
         "2007-01-11T00:00:00.000000",
         "2007-01-12T00:00:00.000000",
         "2007-01-13T00:00:00.000000",
         "2007-01-14T00:00:00.000000",
         "2007-01-15T00:00:00.000000",
         "2007-01-16T00:00:00.000000",
         "2007-01-17T00:00:00.000000",
         "2007-01-18T00:00:00.000000",
         "2007-01-19T00:00:00.000000",
         "2007-01-20T00:00:00.000000",
         "2007-01-21T00:00:00.000000",
         "2007-01-22T00:00:00.000000",
         "2007-01-23T00:00:00.000000",
         "2007-01-24T00:00:00.000000",
         "2007-01-25T00:00:00.000000",
         "2007-01-26T00:00:00.000000",
         "2007-01-27T00:00:00.000000",
         "2007-01-28T00:00:00.000000",
         "2007-01-29T00:00:00.000000",
         "2007-01-30T00:00:00.000000",
         "2007-01-31T00:00:00.000000",
         "2007-02-01T00:00:00.000000",
         "2007-02-02T00:00:00.000000",
         "2007-02-03T00:00:00.000000",
         "2007-02-04T00:00:00.000000",
         "2007-02-05T00:00:00.000000",
         "2007-02-06T00:00:00.000000",
         "2007-02-07T00:00:00.000000",
         "2007-02-08T00:00:00.000000",
         "2007-02-09T00:00:00.000000",
         "2007-02-10T00:00:00.000000",
         "2007-02-11T00:00:00.000000",
         "2007-02-12T00:00:00.000000",
         "2007-02-13T00:00:00.000000",
         "2007-02-14T00:00:00.000000",
         "2007-02-15T00:00:00.000000",
         "2007-02-16T00:00:00.000000",
         "2007-02-17T00:00:00.000000",
         "2007-02-18T00:00:00.000000",
         "2007-02-19T00:00:00.000000",
         "2007-02-20T00:00:00.000000",
         "2007-02-21T00:00:00.000000",
         "2007-02-22T00:00:00.000000",
         "2007-02-23T00:00:00.000000",
         "2007-02-24T00:00:00.000000",
         "2007-02-25T00:00:00.000000",
         "2007-02-26T00:00:00.000000",
         "2007-02-27T00:00:00.000000",
         "2007-02-28T00:00:00.000000",
         "2007-03-01T00:00:00.000000",
         "2007-03-02T00:00:00.000000",
         "2007-03-03T00:00:00.000000",
         "2007-03-04T00:00:00.000000",
         "2007-03-05T00:00:00.000000",
         "2007-03-06T00:00:00.000000",
         "2007-03-07T00:00:00.000000",
         "2007-03-08T00:00:00.000000",
         "2007-03-09T00:00:00.000000",
         "2007-03-10T00:00:00.000000",
         "2007-03-11T00:00:00.000000",
         "2007-03-12T00:00:00.000000",
         "2007-03-13T00:00:00.000000",
         "2007-03-14T00:00:00.000000",
         "2007-03-15T00:00:00.000000",
         "2007-03-16T00:00:00.000000",
         "2007-03-17T00:00:00.000000",
         "2007-03-18T00:00:00.000000",
         "2007-03-19T00:00:00.000000",
         "2007-03-20T00:00:00.000000",
         "2007-03-21T00:00:00.000000",
         "2007-03-22T00:00:00.000000",
         "2007-03-23T00:00:00.000000",
         "2007-03-24T00:00:00.000000",
         "2007-03-25T00:00:00.000000",
         "2007-03-26T00:00:00.000000",
         "2007-03-27T00:00:00.000000",
         "2007-03-28T00:00:00.000000",
         "2007-03-29T00:00:00.000000",
         "2007-03-30T00:00:00.000000",
         "2007-03-31T00:00:00.000000",
         "2007-04-01T00:00:00.000000",
         "2007-04-02T00:00:00.000000",
         "2007-04-03T00:00:00.000000",
         "2007-04-04T00:00:00.000000",
         "2007-04-05T00:00:00.000000",
         "2007-04-06T00:00:00.000000",
         "2007-04-07T00:00:00.000000",
         "2007-04-08T00:00:00.000000",
         "2007-04-09T00:00:00.000000",
         "2007-04-10T00:00:00.000000",
         "2007-04-11T00:00:00.000000",
         "2007-04-12T00:00:00.000000",
         "2007-04-13T00:00:00.000000",
         "2007-04-14T00:00:00.000000",
         "2007-04-15T00:00:00.000000",
         "2007-04-16T00:00:00.000000",
         "2007-04-17T00:00:00.000000",
         "2007-04-18T00:00:00.000000",
         "2007-04-19T00:00:00.000000",
         "2007-04-20T00:00:00.000000",
         "2007-04-21T00:00:00.000000",
         "2007-04-22T00:00:00.000000",
         "2007-04-23T00:00:00.000000",
         "2007-04-24T00:00:00.000000",
         "2007-04-25T00:00:00.000000",
         "2007-04-26T00:00:00.000000",
         "2007-04-27T00:00:00.000000",
         "2007-04-28T00:00:00.000000",
         "2007-04-29T00:00:00.000000",
         "2007-04-30T00:00:00.000000",
         "2007-05-01T00:00:00.000000",
         "2007-05-02T00:00:00.000000",
         "2007-05-03T00:00:00.000000",
         "2007-05-04T00:00:00.000000",
         "2007-05-05T00:00:00.000000",
         "2007-05-06T00:00:00.000000",
         "2007-05-07T00:00:00.000000",
         "2007-05-08T00:00:00.000000",
         "2007-05-09T00:00:00.000000",
         "2007-05-10T00:00:00.000000",
         "2007-05-11T00:00:00.000000",
         "2007-05-12T00:00:00.000000",
         "2007-05-13T00:00:00.000000",
         "2007-05-14T00:00:00.000000",
         "2007-05-15T00:00:00.000000",
         "2007-05-16T00:00:00.000000",
         "2007-05-17T00:00:00.000000",
         "2007-05-18T00:00:00.000000",
         "2007-05-19T00:00:00.000000",
         "2007-05-20T00:00:00.000000",
         "2007-05-21T00:00:00.000000",
         "2007-05-22T00:00:00.000000",
         "2007-05-23T00:00:00.000000",
         "2007-05-24T00:00:00.000000",
         "2007-05-25T00:00:00.000000",
         "2007-05-26T00:00:00.000000",
         "2007-05-27T00:00:00.000000",
         "2007-05-28T00:00:00.000000",
         "2007-05-29T00:00:00.000000",
         "2007-05-30T00:00:00.000000"
        ]
       },
       "y": {
        "type": "float",
        "values": [
         100.68943970602382,
         101.04967257614271,
         101.70788739575829,
         100.9893077987132,
         100.15284381937975,
         99.49442572238767,
         99.3825237381875,
         100.85095984753357,
         99.85739161488387,
         101.61439127439795,
         101.98464897763643,
         103.06613586459986,
         103.04943250953093,
         103.4708210080052,
         102.48824931136326,
         101.27432586122985,
         100.58597048142923,
         98.66522227912566,
         99.92750105333691,
         99.29858370590395,
         98.70642687630868,
         97.75780533465444,
         98.52785075946646,
         98.29114650215546,
         100.20111776440702,
         99.88374731231532,
         99.44173454186618,
         98.95055520641374,
         100.65043576015452,
         99.82173899879308,
         100.42676368847032,
         97.6743354971758,
         97.01245200732231,
         95.02300976777425,
         94.56426007340116,
         93.53551517264161,
         92.91148174128412,
         90.58271447851807,
         89.30190519052212,
         89.5516080279304,
         88.568738806283,
         89.85878392747374,
         88.88130863668752,
         89.19089706759176,
         89.48452186747998,
         89.66500697325438,
         88.28009740061813,
         84.5225966929577,
         84.15080733864565,
         83.46270885804839,
         84.47893673996809,
         82.30680959895892,
         82.18097797633718,
         81.82634288252896,
         82.8441429996618,
         82.39987824646754,
         81.42120730808674,
         82.6575147643762,
         81.5424634721007,
         81.71142047040902,
         81.50198543358822,
         80.66130202508035,
         79.81483827673134,
         81.34248867324428,
         79.29259328505262,
         79.72198457703541,
         79.22426830999798,
         79.43649460802604,
         78.7439544839615,
         77.9120355472159,
         77.43146305849402,
         77.46865805951539,
         75.28151725646141,
         74.29545382566724,
         73.73371870924876,
         74.47449093903796,
         77.3084474474269,
         78.54283824755433,
         80.43083177005164,
         80.73699274638942,
         81.49220122267747,
         81.96091301429752,
         81.36691829189286,
         81.57269458058445,
         80.618238000884,
         80.93806052697613,
         81.78218493282519,
         81.18022538891498,
         81.75495700501388,
         82.34655353799855,
         82.38057404084634,
         82.14148125762102,
         83.18324134065307,
         83.26655054076741,
         84.17028361429595,
         84.26207938947702,
         85.73769627851088,
         84.19829674767767,
         82.6443507073366,
         83.34834800244785,
         82.87105387993691,
         82.84823302990034,
         84.15998868370058,
         83.44951642318995,
         82.49858125160843,
         83.29297122067928,
         83.49947778814446,
         83.52608954754557,
         82.49112053588398,
         81.05304125515252,
         78.82533968928378,
         77.27986465236565,
         77.01481891171008,
         78.24137479627275,
         77.66664200207752,
         76.691596913963,
         77.71548072811935,
         77.02224202015353,
         77.21872191334775,
         78.6408309700679,
         78.85321882624797,
         79.60165581354613,
         80.4903136990689,
         79.6236683803528,
         78.59948680229257,
         78.97376620932894,
         78.232418320374,
         79.87152298858473,
         79.3097210306836,
         80.62713535852998,
         80.92701642071572,
         80.1331153792402,
         79.65416889069813,
         81.34975904424722,
         81.23874942117084,
         80.74554470193664,
         81.20332707382255,
         81.46052437182307,
         80.24529857569283,
         79.67568944838081,
         78.14656121361405,
         78.48680205835102,
         76.42002712283318,
         76.06381985751345,
         75.30882790394682,
         76.05285267777393,
         74.77629145755768,
         74.93828810285069,
         76.08941493803721,
         77.23098783333327
        ]
       }
      }
     },
     "51b52101a29f46c78345cfda51a62f35": {
      "model_module": "jupyter-js-widgets",
      "model_module_version": "~2.1.4",
      "model_name": "LayoutModel",
      "state": {
       "_model_module_version": "~2.1.4",
       "_view_module_version": "~2.1.4",
       "min_width": "125px"
      }
     },
     "52f2ec6a864d4b4aa5fb1997b62ebfd3": {
      "model_module": "bqplot",
      "model_module_version": "^0.2.3",
      "model_name": "LinearScaleModel",
      "state": {
       "stabilized": false
      }
     },
     "57ec3bcf0b754122be94bdb66ec86ba5": {
      "model_module": "bqplot",
      "model_module_version": "^0.2.3",
      "model_name": "LinesModel",
      "state": {
       "color": {
        "type": null,
        "values": null
       },
       "colors": [
        "green"
       ],
       "fill_colors": [],
       "labels": [
        "Security 2 squared"
       ],
       "scales": {
        "x": "IPY_MODEL_d318a282b85943189bcde9d6a765d2b4",
        "y": "IPY_MODEL_df6875fbdf674469a3009822cd4e3a7c"
       },
       "selected": [],
       "x": {
        "type": "float",
        "values": [
         0,
         0.06711409395973154,
         0.1342281879194631,
         0.20134228187919462,
         0.2684563758389262,
         0.33557046979865773,
         0.40268456375838924,
         0.4697986577181208,
         0.5369127516778524,
         0.6040268456375839,
         0.6711409395973155,
         0.738255033557047,
         0.8053691275167785,
         0.87248322147651,
         0.9395973154362416,
         1.0067114093959733,
         1.0738255033557047,
         1.1409395973154361,
         1.2080536912751678,
         1.2751677852348993,
         1.342281879194631,
         1.4093959731543624,
         1.476510067114094,
         1.5436241610738255,
         1.610738255033557,
         1.6778523489932886,
         1.74496644295302,
         1.8120805369127517,
         1.8791946308724832,
         1.9463087248322148,
         2.0134228187919465,
         2.0805369127516777,
         2.1476510067114094,
         2.214765100671141,
         2.2818791946308723,
         2.348993288590604,
         2.4161073825503356,
         2.4832214765100673,
         2.5503355704697985,
         2.61744966442953,
         2.684563758389262,
         2.751677852348993,
         2.8187919463087248,
         2.8859060402684564,
         2.953020134228188,
         3.0201342281879193,
         3.087248322147651,
         3.1543624161073827,
         3.221476510067114,
         3.2885906040268456,
         3.3557046979865772,
         3.422818791946309,
         3.48993288590604,
         3.557046979865772,
         3.6241610738255035,
         3.691275167785235,
         3.7583892617449663,
         3.825503355704698,
         3.8926174496644297,
         3.959731543624161,
         4.026845637583893,
         4.093959731543624,
         4.1610738255033555,
         4.228187919463087,
         4.295302013422819,
         4.3624161073825505,
         4.429530201342282,
         4.496644295302014,
         4.563758389261745,
         4.630872483221476,
         4.697986577181208,
         4.76510067114094,
         4.832214765100671,
         4.899328859060403,
         4.966442953020135,
         5.033557046979865,
         5.100671140939597,
         5.167785234899329,
         5.23489932885906,
         5.302013422818792,
         5.369127516778524,
         5.436241610738255,
         5.503355704697986,
         5.570469798657718,
         5.6375838926174495,
         5.704697986577181,
         5.771812080536913,
         5.8389261744966445,
         5.906040268456376,
         5.973154362416107,
         6.040268456375839,
         6.10738255033557,
         6.174496644295302,
         6.241610738255034,
         6.308724832214765,
         6.375838926174497,
         6.442953020134228,
         6.510067114093959,
         6.577181208053691,
         6.644295302013423,
         6.7114093959731544,
         6.778523489932886,
         6.845637583892618,
         6.9127516778523495,
         6.97986577181208,
         7.046979865771812,
         7.114093959731544,
         7.181208053691275,
         7.248322147651007,
         7.315436241610739,
         7.38255033557047,
         7.449664429530201,
         7.516778523489933,
         7.583892617449664,
         7.651006711409396,
         7.718120805369128,
         7.785234899328859,
         7.852348993288591,
         7.919463087248322,
         7.9865771812080535,
         8.053691275167786,
         8.120805369127517,
         8.187919463087248,
         8.25503355704698,
         8.322147651006711,
         8.389261744966444,
         8.456375838926174,
         8.523489932885907,
         8.590604026845638,
         8.657718120805368,
         8.724832214765101,
         8.791946308724832,
         8.859060402684564,
         8.926174496644295,
         8.993288590604028,
         9.060402684563758,
         9.12751677852349,
         9.194630872483222,
         9.261744966442953,
         9.328859060402685,
         9.395973154362416,
         9.463087248322148,
         9.53020134228188,
         9.59731543624161,
         9.664429530201343,
         9.731543624161073,
         9.798657718120806,
         9.865771812080537,
         9.93288590604027,
         10
        ]
       },
       "y": {
        "type": "float",
        "values": [
         75.51707977951787,
         75.78725443210703,
         76.28091554681872,
         75.7419808490349,
         75.11463286453481,
         74.62081929179075,
         74.53689280364063,
         75.63821988565019,
         74.8930437111629,
         76.21079345579847,
         76.48848673322732,
         77.2996018984499,
         77.2870743821482,
         77.6031157560039,
         76.86618698352245,
         75.9557443959224,
         75.43947786107192,
         73.99891670934424,
         74.94562579000268,
         74.47393777942796,
         74.02982015723151,
         73.31835400099082,
         73.89588806959985,
         73.71835987661659,
         75.15083832330527,
         74.91281048423649,
         74.58130090639963,
         74.2129164048103,
         75.48782682011588,
         74.86630424909481,
         75.32007276635274,
         73.25575162288186,
         72.75933900549174,
         71.26725732583068,
         70.92319505505087,
         70.1516363794812,
         69.6836113059631,
         67.93703585888855,
         66.97642889289159,
         67.1637060209478,
         66.42655410471224,
         67.3940879456053,
         66.66098147751563,
         66.89317280069382,
         67.11339140060998,
         67.24875522994078,
         66.21007305046359,
         63.39194751971828,
         63.11310550398424,
         62.59703164353629,
         63.359202554976065,
         61.73010719921919,
         61.63573348225288,
         61.36975716189672,
         62.133107249746345,
         61.79990868485065,
         61.06590548106505,
         61.99313607328215,
         61.15684760407553,
         61.28356535280677,
         61.12648907519116,
         60.49597651881026,
         59.8611287075485,
         61.00686650493321,
         59.46944496378946,
         59.79148843277656,
         59.41820123249849,
         59.57737095601953,
         59.05796586297113,
         58.43402666041192,
         58.07359729387051,
         58.10149354463654,
         56.461137942346056,
         55.72159036925043,
         55.30028903193657,
         55.85586820427847,
         57.98133558557018,
         58.90712868566575,
         60.32312382753873,
         60.55274455979206,
         61.1191509170081,
         61.47068476072314,
         61.025188718919644,
         61.17952093543834,
         60.46367850066301,
         60.7035453952321,
         61.33663869961889,
         60.88516904168623,
         61.31621775376041,
         61.75991515349891,
         61.785430530634756,
         61.60611094321577,
         62.3874310054898,
         62.44991290557556,
         63.127712710721966,
         63.196559542107764,
         64.30327220888316,
         63.14872256075826,
         61.98326303050245,
         62.51126100183589,
         62.15329040995268,
         62.13617477242526,
         63.11999151277543,
         62.58713731739246,
         61.873935938706325,
         62.46972841550946,
         62.62460834110834,
         62.64456716065918,
         61.86834040191299,
         60.78978094136439,
         59.11900476696283,
         57.95989848927424,
         57.76111418378256,
         58.68103109720457,
         58.24998150155814,
         57.51869768547225,
         58.286610546089506,
         57.766681515115145,
         57.914041435010816,
         58.98062322755092,
         59.139914119685976,
         59.7012418601596,
         60.36773527430168,
         59.7177512852646,
         58.94961510171943,
         59.23032465699671,
         58.674313740280496,
         59.90364224143855,
         59.48229077301271,
         60.47035151889749,
         60.69526231553679,
         60.099836534430146,
         59.740626668023594,
         61.01231928318542,
         60.92906206587813,
         60.55915852645248,
         60.90249530536691,
         61.095393278867306,
         60.18397393176962,
         59.756767086285606,
         58.60992091021053,
         58.86510154376326,
         57.31502034212488,
         57.047864893135085,
         56.481620927960115,
         57.039639508330445,
         56.08221859316826,
         56.20371607713802,
         57.067061203527906,
         57.923240874999955
        ]
       }
      }
     },
     "5832d4bd33964b8eb3a85e4fbc10d4bc": {
      "model_module": "bqplot",
      "model_module_version": "^0.2.3",
      "model_name": "AxisModel",
      "state": {
       "label": "Security 1",
       "scale": "IPY_MODEL_52f2ec6a864d4b4aa5fb1997b62ebfd3",
       "side": "bottom",
       "tick_values": {
        "type": null,
        "values": null
       }
      }
     },
     "5874d481ff984c9a81160642f51db7ff": {
      "model_module": "bqplot",
      "model_module_version": "^0.2.3",
      "model_name": "AxisModel",
      "state": {
       "label": "Security 1 Price",
       "orientation": "vertical",
       "scale": "IPY_MODEL_df6875fbdf674469a3009822cd4e3a7c",
       "side": "left",
       "tick_values": {
        "type": null,
        "values": null
       }
      }
     },
     "59c60931805a43cf80c866f9f2826691": {
      "model_module": "jupyter-js-widgets",
      "model_module_version": "~2.1.4",
      "model_name": "LayoutModel",
      "state": {
       "_model_module_version": "~2.1.4",
       "_view_module_version": "~2.1.4"
      }
     },
     "5a099318fcd948098651254b308f05c4": {
      "model_module": "bqplot",
      "model_module_version": "^0.2.3",
      "model_name": "AxisModel",
      "state": {
       "grid_lines": "none",
       "label": "Freq",
       "orientation": "vertical",
       "scale": "IPY_MODEL_5c8e56a3539743518d8f39a0f192ebf7",
       "side": "left",
       "tick_values": {
        "type": null,
        "values": null
       }
      }
     },
     "5b147fdc6bbb44758de6cef9e7a5c681": {
      "model_module": "bqplot",
      "model_module_version": "^0.2.3",
      "model_name": "LinesModel",
      "state": {
       "color": {
        "type": null,
        "values": null
       },
       "display_legend": false,
       "fill_colors": [],
       "labels": [
        "C1"
       ],
       "scales": {
        "x": "IPY_MODEL_915de23c8b254ed8b0ca2e1d047cfb9e",
        "y": "IPY_MODEL_6db62a83550f418ab7732b20dc3e8a78"
       },
       "selected": [
        0,
        1,
        2,
        3,
        4,
        5,
        6,
        7,
        8,
        9,
        10,
        11,
        12,
        13,
        14,
        15,
        16,
        17,
        18,
        19,
        20,
        21,
        22,
        23,
        24,
        25,
        26,
        27,
        28,
        29,
        30,
        31,
        32,
        33,
        34,
        35,
        36,
        37,
        38,
        39,
        40,
        41,
        42,
        43,
        44,
        45,
        46,
        47,
        48,
        49,
        50,
        51,
        52,
        53,
        54,
        55,
        56,
        57,
        58,
        59,
        60,
        61,
        62,
        63,
        64,
        65,
        66,
        67,
        68,
        69,
        70,
        71,
        72,
        73,
        74,
        75,
        76
       ],
       "x": {
        "type": "date",
        "values": [
         "2007-01-01T00:00:00.000000",
         "2007-01-02T00:00:00.000000",
         "2007-01-03T00:00:00.000000",
         "2007-01-04T00:00:00.000000",
         "2007-01-05T00:00:00.000000",
         "2007-01-06T00:00:00.000000",
         "2007-01-07T00:00:00.000000",
         "2007-01-08T00:00:00.000000",
         "2007-01-09T00:00:00.000000",
         "2007-01-10T00:00:00.000000",
         "2007-01-11T00:00:00.000000",
         "2007-01-12T00:00:00.000000",
         "2007-01-13T00:00:00.000000",
         "2007-01-14T00:00:00.000000",
         "2007-01-15T00:00:00.000000",
         "2007-01-16T00:00:00.000000",
         "2007-01-17T00:00:00.000000",
         "2007-01-18T00:00:00.000000",
         "2007-01-19T00:00:00.000000",
         "2007-01-20T00:00:00.000000",
         "2007-01-21T00:00:00.000000",
         "2007-01-22T00:00:00.000000",
         "2007-01-23T00:00:00.000000",
         "2007-01-24T00:00:00.000000",
         "2007-01-25T00:00:00.000000",
         "2007-01-26T00:00:00.000000",
         "2007-01-27T00:00:00.000000",
         "2007-01-28T00:00:00.000000",
         "2007-01-29T00:00:00.000000",
         "2007-01-30T00:00:00.000000",
         "2007-01-31T00:00:00.000000",
         "2007-02-01T00:00:00.000000",
         "2007-02-02T00:00:00.000000",
         "2007-02-03T00:00:00.000000",
         "2007-02-04T00:00:00.000000",
         "2007-02-05T00:00:00.000000",
         "2007-02-06T00:00:00.000000",
         "2007-02-07T00:00:00.000000",
         "2007-02-08T00:00:00.000000",
         "2007-02-09T00:00:00.000000",
         "2007-02-10T00:00:00.000000",
         "2007-02-11T00:00:00.000000",
         "2007-02-12T00:00:00.000000",
         "2007-02-13T00:00:00.000000",
         "2007-02-14T00:00:00.000000",
         "2007-02-15T00:00:00.000000",
         "2007-02-16T00:00:00.000000",
         "2007-02-17T00:00:00.000000",
         "2007-02-18T00:00:00.000000",
         "2007-02-19T00:00:00.000000",
         "2007-02-20T00:00:00.000000",
         "2007-02-21T00:00:00.000000",
         "2007-02-22T00:00:00.000000",
         "2007-02-23T00:00:00.000000",
         "2007-02-24T00:00:00.000000",
         "2007-02-25T00:00:00.000000",
         "2007-02-26T00:00:00.000000",
         "2007-02-27T00:00:00.000000",
         "2007-02-28T00:00:00.000000",
         "2007-03-01T00:00:00.000000",
         "2007-03-02T00:00:00.000000",
         "2007-03-03T00:00:00.000000",
         "2007-03-04T00:00:00.000000",
         "2007-03-05T00:00:00.000000",
         "2007-03-06T00:00:00.000000",
         "2007-03-07T00:00:00.000000",
         "2007-03-08T00:00:00.000000",
         "2007-03-09T00:00:00.000000",
         "2007-03-10T00:00:00.000000",
         "2007-03-11T00:00:00.000000",
         "2007-03-12T00:00:00.000000",
         "2007-03-13T00:00:00.000000",
         "2007-03-14T00:00:00.000000",
         "2007-03-15T00:00:00.000000",
         "2007-03-16T00:00:00.000000",
         "2007-03-17T00:00:00.000000",
         "2007-03-18T00:00:00.000000",
         "2007-03-19T00:00:00.000000",
         "2007-03-20T00:00:00.000000",
         "2007-03-21T00:00:00.000000",
         "2007-03-22T00:00:00.000000",
         "2007-03-23T00:00:00.000000",
         "2007-03-24T00:00:00.000000",
         "2007-03-25T00:00:00.000000",
         "2007-03-26T00:00:00.000000",
         "2007-03-27T00:00:00.000000",
         "2007-03-28T00:00:00.000000",
         "2007-03-29T00:00:00.000000",
         "2007-03-30T00:00:00.000000",
         "2007-03-31T00:00:00.000000",
         "2007-04-01T00:00:00.000000",
         "2007-04-02T00:00:00.000000",
         "2007-04-03T00:00:00.000000",
         "2007-04-04T00:00:00.000000",
         "2007-04-05T00:00:00.000000",
         "2007-04-06T00:00:00.000000",
         "2007-04-07T00:00:00.000000",
         "2007-04-08T00:00:00.000000",
         "2007-04-09T00:00:00.000000",
         "2007-04-10T00:00:00.000000",
         "2007-04-11T00:00:00.000000",
         "2007-04-12T00:00:00.000000",
         "2007-04-13T00:00:00.000000",
         "2007-04-14T00:00:00.000000",
         "2007-04-15T00:00:00.000000",
         "2007-04-16T00:00:00.000000",
         "2007-04-17T00:00:00.000000",
         "2007-04-18T00:00:00.000000",
         "2007-04-19T00:00:00.000000",
         "2007-04-20T00:00:00.000000",
         "2007-04-21T00:00:00.000000",
         "2007-04-22T00:00:00.000000",
         "2007-04-23T00:00:00.000000",
         "2007-04-24T00:00:00.000000",
         "2007-04-25T00:00:00.000000",
         "2007-04-26T00:00:00.000000",
         "2007-04-27T00:00:00.000000",
         "2007-04-28T00:00:00.000000",
         "2007-04-29T00:00:00.000000",
         "2007-04-30T00:00:00.000000",
         "2007-05-01T00:00:00.000000",
         "2007-05-02T00:00:00.000000",
         "2007-05-03T00:00:00.000000",
         "2007-05-04T00:00:00.000000",
         "2007-05-05T00:00:00.000000",
         "2007-05-06T00:00:00.000000",
         "2007-05-07T00:00:00.000000",
         "2007-05-08T00:00:00.000000",
         "2007-05-09T00:00:00.000000",
         "2007-05-10T00:00:00.000000",
         "2007-05-11T00:00:00.000000",
         "2007-05-12T00:00:00.000000",
         "2007-05-13T00:00:00.000000",
         "2007-05-14T00:00:00.000000",
         "2007-05-15T00:00:00.000000",
         "2007-05-16T00:00:00.000000",
         "2007-05-17T00:00:00.000000",
         "2007-05-18T00:00:00.000000",
         "2007-05-19T00:00:00.000000",
         "2007-05-20T00:00:00.000000",
         "2007-05-21T00:00:00.000000",
         "2007-05-22T00:00:00.000000",
         "2007-05-23T00:00:00.000000",
         "2007-05-24T00:00:00.000000",
         "2007-05-25T00:00:00.000000",
         "2007-05-26T00:00:00.000000",
         "2007-05-27T00:00:00.000000",
         "2007-05-28T00:00:00.000000",
         "2007-05-29T00:00:00.000000",
         "2007-05-30T00:00:00.000000"
        ]
       },
       "y": {
        "type": "float",
        "values": [
         100.78373638585522,
         101.38350005004746,
         101.98181666523826,
         101.47704053480443,
         100.84565354615721,
         100.9466230937988,
         100.53920587749954,
         101.38634286476594,
         100.67356817139739,
         101.52830433297196,
         101.22914094635884,
         101.48831187099681,
         101.62658280471109,
         102.112518511458,
         101.57210766213542,
         101.0895796062265,
         100.73036866391003,
         99.55088711360001,
         100.19350538046116,
         100.34219249771037,
         100.39718627792817,
         99.94149794752887,
         99.77456883254557,
         99.64119199648113,
         100.98757260529095,
         100.24672045031032,
         100.1625537200557,
         99.90662111879683,
         100.72785038965769,
         100.6738528330255,
         100.96777365101903,
         99.03434596297932,
         98.70124968539693,
         96.70526341057737,
         96.21560553434979,
         96.27526886190442,
         96.41030910605846,
         95.34173968590368,
         94.62792888472042,
         95.14670107333657,
         95.11226396462011,
         95.89703972226995,
         95.28271048443041,
         95.43575146837796,
         95.56720962822084,
         95.87241828527337,
         94.80879627600498,
         92.84667915955674,
         92.64003552454187,
         92.28998554786537,
         92.31755923236729,
         91.30808005254171,
         91.0638707889393,
         91.2464064298377,
         92.0308781821266,
         91.89995228137253,
         91.74064165138472,
         92.45245633710599,
         92.26708897059675,
         92.82350371805833,
         93.04929211727993,
         92.37812408155118,
         91.95917240878042,
         93.5275581564737,
         92.37909496430908,
         92.17381558141949,
         91.65732988668442,
         91.49079510417955,
         91.21990522934863,
         91.21974311151949,
         91.2810620239107,
         91.1835057991645,
         89.9638832982993,
         89.30798799302374,
         88.97117024447117,
         89.47834769211151,
         90.38320984592968,
         91.53644520431469,
         92.38327158018767,
         92.26120222281361,
         92.56940459315581,
         93.17170583743444,
         92.66481748648697,
         92.46294517257932,
         91.93703288196082,
         91.9700892098979,
         92.70285413941568,
         92.780532564742,
         93.32862961541338,
         93.56327693826361,
         93.7175020122228,
         93.08880107861577,
         93.69301961725412,
         93.83385917003605,
         93.95135790814746,
         94.05610440780228,
         94.52788423615495,
         93.58762256290635,
         92.89432697063384,
         93.92485296912193,
         93.83075584601485,
         94.10713349832616,
         94.6904636621637,
         93.78979340612219,
         93.28985632297247,
         93.97984197602787,
         94.34003804767198,
         94.01247983400327,
         93.33409413751892,
         92.76927407329806,
         91.43989743543126,
         91.18444502320511,
         91.37191259118855,
         91.36933959799637,
         90.88840945215706,
         89.88087078503152,
         90.36720792467293,
         89.92629446446784,
         90.02651602664764,
         90.36257475329815,
         90.20190662349763,
         90.64854989358375,
         90.72212307172788,
         90.01947290965438,
         90.0137458238125,
         90.5026878816464,
         89.706214179077,
         89.94860467364249,
         90.06238679268148,
         89.83358398710382,
         90.27153712917668,
         89.75506957387059,
         89.69302924137725,
         90.14658940509645,
         90.0898568866552,
         90.14299435482768,
         90.97162892664983,
         91.30255992090943,
         90.43749032990387,
         90.03607218623202,
         88.72983032933728,
         88.52300022715272,
         87.66837167875816,
         87.39247029035198,
         86.86296898523975,
         87.07215553023345,
         86.14441339347073,
         86.84352614069097,
         87.59202867799293,
         88.38993277326153
        ]
       }
      }
     },
     "5ba99a318b7e44d7adce80aa6932d3ec": {
      "model_module": "bqplot",
      "model_module_version": "^0.2.3",
      "model_name": "AxisModel",
      "state": {
       "grid_lines": "none",
       "label": "Returns",
       "scale": "IPY_MODEL_462636db67a04b02a5083f473b9bd86e",
       "side": "bottom",
       "tick_values": {
        "type": null,
        "values": null
       }
      }
     },
     "5c8e56a3539743518d8f39a0f192ebf7": {
      "model_module": "bqplot",
      "model_module_version": "^0.2.3",
      "model_name": "LinearScaleModel",
      "state": {
       "stabilized": false
      }
     },
     "625ed841f3a54656a093ee83ac52a63c": {
      "model_module": "bqplot",
      "model_module_version": "^0.2.3",
      "model_name": "IndexSelectorModel",
      "state": {
       "marks": [
        "IPY_MODEL_f22fc0307a9345719a0e65ff77a72b6d",
        "IPY_MODEL_361887d2113048b790c8dc15ddc886a4"
       ],
       "scale": "IPY_MODEL_655e5933ae3d4d8cba3cff0ce2705bc7",
       "selected": {
        "type": "object",
        "values": [
         "2007-04-01T15:08:02.142Z"
        ]
       }
      }
     },
     "64aac9c673fa4064ba8cd7f3cec99e7c": {
      "model_module": "bqplot",
      "model_module_version": "^0.2.3",
      "model_name": "FastIntervalSelectorModel",
      "state": {
       "marks": [
        "IPY_MODEL_5b147fdc6bbb44758de6cef9e7a5c681"
       ],
       "scale": "IPY_MODEL_915de23c8b254ed8b0ca2e1d047cfb9e",
       "selected": {
        "type": "object",
        "values": [
         "2006-12-20T13:52:11.756Z",
         "2007-03-18T21:00:18.242Z"
        ]
       }
      }
     },
     "655e5933ae3d4d8cba3cff0ce2705bc7": {
      "model_module": "bqplot",
      "model_module_version": "^0.2.3",
      "model_name": "DateScaleModel",
      "state": {}
     },
     "66a82ca7ca2c456facc863250dd3df31": {
      "model_module": "jupyter-js-widgets",
      "model_module_version": "~2.1.4",
      "model_name": "LayoutModel",
      "state": {
       "_model_module_version": "~2.1.4",
       "_view_module_version": "~2.1.4",
       "min_width": "125px"
      }
     },
     "66e7a3ce478a43f8b849845370b49434": {
      "model_module": "bqplot",
      "model_module_version": "^0.2.3",
      "model_name": "FigureModel",
      "state": {
       "_dom_classes": [],
       "axes": [
        "IPY_MODEL_83b78c6bdabe45bbbb1c63e404764c40",
        "IPY_MODEL_d462357cbbfe4847b68c19217cd3be5d",
        "IPY_MODEL_5874d481ff984c9a81160642f51db7ff"
       ],
       "layout": "IPY_MODEL_ec462e5409314d84bb332bd726fa9686",
       "marks": [
        "IPY_MODEL_08204ca788c14738a6d57bf9f1c61439",
        "IPY_MODEL_86daf68ab0954da9bf0e736ac2f928b1",
        "IPY_MODEL_57ec3bcf0b754122be94bdb66ec86ba5"
       ],
       "max_aspect_ratio": 6,
       "scale_x": "IPY_MODEL_b1953b51439a46238546649f0e8f50c8",
       "scale_y": "IPY_MODEL_d44ae49e72124fd7a37b33594034aa64"
      }
     },
     "6791cabde9d44ee09770afed442a5c9b": {
      "model_module": "jupyter-js-widgets",
      "model_module_version": "~2.1.4",
      "model_name": "HTMLModel",
      "state": {
       "_model_module_version": "~2.1.4",
       "_view_module_version": "~2.1.4",
       "layout": "IPY_MODEL_e9e12cc8109d41dc8e90e2c0002c82da",
       "value": "{}"
      }
     },
     "679d6d19db754828804b969c14fc1019": {
      "model_module": "bqplot",
      "model_module_version": "^0.2.3",
      "model_name": "FastIntervalSelectorModel",
      "state": {
       "marks": [
        "IPY_MODEL_86daf68ab0954da9bf0e736ac2f928b1",
        "IPY_MODEL_08204ca788c14738a6d57bf9f1c61439"
       ],
       "scale": "IPY_MODEL_f70ba89fbdc048118bba2f2c6d0bbca3",
       "selected": {
        "type": null,
        "values": null
       }
      }
     },
     "685820f8c37645008f7668b23d8585e0": {
      "model_module": "bqplot",
      "model_module_version": "^0.2.3",
      "model_name": "FigureModel",
      "state": {
       "_dom_classes": [],
       "axes": [
        "IPY_MODEL_b91fc5e491804ae4bb8a2f3c87a32d80",
        "IPY_MODEL_a6dbb69d45464729b493d4a8242b1efb"
       ],
       "interaction": "IPY_MODEL_6e72a70f9d95439c8f49811441b7e182",
       "layout": "IPY_MODEL_e8ea882149a54136b3cf7c1012d394d6",
       "marks": [
        "IPY_MODEL_485916526b83435182197676486227fb"
       ],
       "max_aspect_ratio": 6,
       "scale_x": "IPY_MODEL_9897001ccf4a44468476391f986d928d",
       "scale_y": "IPY_MODEL_6cb49c55f7f14bc3bda1dcb9a1a24e00",
       "title": "Brush Selector Selected Indices Example"
      }
     },
     "6b300859afb04b37b699e308c463cacb": {
      "model_module": "bqplot",
      "model_module_version": "^0.2.3",
      "model_name": "HistModel",
      "state": {
       "count": {
        "type": "float",
        "values": [
         3,
         3,
         9,
         16,
         32,
         37,
         22,
         22,
         3,
         2
        ]
       },
       "display_legend": false,
       "midpoints": [
        -0.01902146600265242,
        -0.01523905567353756,
        -0.0114566453444227,
        -0.00767423501530784,
        -0.0038918246861929795,
        -0.0001094143570781192,
        0.003672995972036741,
        0.007455406301151601,
        0.011237816630266462,
        0.015020226959381322
       ],
       "sample": {
        "type": "float",
        "values": [
         0.005933359275310579,
         0.005884172888191763,
         -0.004961958137932321,
         -0.006241405999082517,
         0.0010007276566703638,
         -0.004044133263916727,
         0.008390636673803797,
         -0.007055111983545359,
         0.008454335680088576,
         -0.0029509506129024032,
         0.0025569684528186087,
         0.0013615048300064103,
         0.004770185252113812,
         -0.005306361383520475,
         -0.004761916020965096,
         -0.0035597206788571256,
         -0.011778388162499098,
         0.006434428280751803,
         0.0014828995143432167,
         0.0005479122425207095,
         -0.00454918747257782,
         -0.001671664744331558,
         -0.0013376761736223486,
         0.013421812404665445,
         -0.007363113819856437,
         -0.000839948505890753,
         -0.0025584425093798657,
         0.008186368484101259,
         -0.0005362174903389416,
         0.00291528124707785,
         -0.01933467427687674,
         -0.0033691110755142972,
         -0.020429776528295918,
         -0.005076267076585594,
         0.0006199081348912117,
         0.0014016644907961506,
         -0.011145440045232213,
         -0.00751503296253464,
         0.0054672585154804665,
         -0.00036200248525108947,
         0.008217193176631277,
         -0.006426740820026922,
         0.0016048893770337358,
         0.0013765041111923892,
         0.003188565700485313,
         -0.011156138722687281,
         -0.02091267116720985,
         -0.0022281242174955196,
         -0.0037857606106603825,
         0.00029872760335702964,
         -0.010995080573159122,
         -0.0026781465948122474,
         0.002002472978253067,
         0.008560543055194714,
         -0.0014236430351246554,
         -0.0017350267339129033,
         0.007729043455266371,
         -0.0020070147793376236,
         0.006012368489519915,
         0.002429494959340417,
         -0.0072391772540436605,
         -0.004545497868271298,
         0.016911432123938752,
         -0.012355424433502904,
         -0.002224613710416712,
         -0.005619146335772207,
         -0.0018185807625457073,
         -0.002965234907668979,
         -1.7772214606637249e-06,
         0.0006719851416896461,
         -0.0010693170208986302,
         -0.013465730154661237,
         -0.007317358012033814,
         -0.0037785476734706336,
         0.005684283366242049,
         0.010061847570655758,
         0.01267868286664875,
         0.009208717531141275,
         -0.0013222098949805527,
         0.0033349742372763558,
         0.006485407069787286,
         -0.005455220523280957,
         -0.0021808981108195624,
         -0.005704054003691894,
         0.0003594893761267315,
         0.007935854185058488,
         0.0008375783001142167,
         0.00589007686504317,
         0.0025110498412912463,
         0.0016469934574798728,
         -0.006731071670845523,
         0.006469801440176504,
         0.0015020735179209765,
         0.0012514164349424206,
         0.0011142803503911836,
         0.005003402631978737,
         -0.009996725093190939,
         -0.007435559186517615,
         0.011032448074452361,
         -0.0010023362985425166,
         0.0029411615987351425,
         0.0061794432645339015,
         -0.009557256826039584,
         -0.005344656930313718,
         0.007368931349502894,
         0.003825368950333363,
         -0.0034781435106019387,
         -0.0072420717078083285,
         -0.006069979322420593,
         -0.01443358879275003,
         -0.0027975742487944544,
         0.0020538055900090058,
         -2.8159960178797405e-05,
         -0.00527748493085145,
         -0.011147348699169335,
         0.005396321817265459,
         -0.004891072982052158,
         0.001113865043489426,
         0.0037259361303734195,
         -0.001779621008285659,
         0.004939375733592932,
         0.0008113018601827449,
         -0.0077752295823270146,
         -6.36225457073536e-05,
         0.005417160570807766,
         -0.008839506590614832,
         0.002698404008214972,
         0.0012641687406453883,
         -0.002543724886765908,
         0.004863315407777513,
         -0.005737696017896532,
         -0.0006914571441525297,
         0.005044062357081991,
         -0.0006295343864373137,
         0.0005896535436917816,
         0.00915045222359101,
         0.0036311379023734602,
         -0.009519928306064962,
         -0.0044485053661462715,
         -0.014614253467434501,
         -0.0023337308115953803,
         -0.009701215693128873,
         -0.0031520654617906985,
         -0.0060773188718883375,
         0.0024053410308395584,
         -0.010712035388610985,
         0.008082835778207453,
         0.00858204776090421,
         0.009068083527744797
        ]
       },
       "scales": {
        "count": "IPY_MODEL_5c8e56a3539743518d8f39a0f192ebf7",
        "sample": "IPY_MODEL_7457865964464c509c61c9e48b721c0b"
       }
      }
     },
     "6c347ceae44a4864a7051dee08f953d4": {
      "model_module": "bqplot",
      "model_module_version": "^0.2.3",
      "model_name": "BrushSelectorModel",
      "state": {
       "color": "red",
       "marks": [
        "IPY_MODEL_234bb5d8d28c41ecb272e7c80d2cb5a0"
       ],
       "selected": [
        [
         89.1213104413553,
         75.80137660345918
        ],
        [
         92.40886149505857,
         82.2444154348564
        ]
       ],
       "x_scale": "IPY_MODEL_52f2ec6a864d4b4aa5fb1997b62ebfd3",
       "y_scale": "IPY_MODEL_0695e0e82f564a2dbee5562461de6987"
      }
     },
     "6cb49c55f7f14bc3bda1dcb9a1a24e00": {
      "model_module": "bqplot",
      "model_module_version": "^0.2.3",
      "model_name": "LinearScaleModel",
      "state": {
       "allow_padding": false,
       "max": 1,
       "min": 0,
       "stabilized": false
      }
     },
     "6db62a83550f418ab7732b20dc3e8a78": {
      "model_module": "bqplot",
      "model_module_version": "^0.2.3",
      "model_name": "LinearScaleModel",
      "state": {
       "stabilized": false
      }
     },
     "6dcadc40804845b4a6a5815b3cdf8022": {
      "model_module": "bqplot",
      "model_module_version": "^0.2.3",
      "model_name": "LinearScaleModel",
      "state": {
       "max": 10,
       "min": 5,
       "stabilized": false
      }
     },
     "6e08efa3feea4f8c8109f1306e31498a": {
      "model_module": "bqplot",
      "model_module_version": "^0.2.3",
      "model_name": "BrushSelectorModel",
      "state": {
       "marks": [
        "IPY_MODEL_4635dc3ea7fa4ce289cdf30a25159fbe"
       ],
       "x_scale": "IPY_MODEL_a2181f7ed85a4f099178051b9e6178dd",
       "y_scale": "IPY_MODEL_4acf8a8d34e34afd898c6b51982d60e1"
      }
     },
     "6e72a70f9d95439c8f49811441b7e182": {
      "model_module": "bqplot",
      "model_module_version": "^0.2.3",
      "model_name": "BrushIntervalSelectorModel",
      "state": {
       "color": "FireBrick",
       "marks": [
        "IPY_MODEL_485916526b83435182197676486227fb"
       ],
       "scale": "IPY_MODEL_cda8694f326441e2b95898ddcbbfe543",
       "selected": {
        "type": "object",
        "values": [
         "2007-02-19T13:04:56.235Z",
         "2007-04-21T12:17:40.714Z"
        ]
       }
      }
     },
     "6f6c85a5b36f48afb835701cfbc1122d": {
      "model_module": "jupyter-js-widgets",
      "model_module_version": "~2.1.4",
      "model_name": "VBoxModel",
      "state": {
       "_model_module_version": "~2.1.4",
       "_view_module_version": "~2.1.4",
       "children": [
        "IPY_MODEL_bc8661564a04473e92280c1c5cc9eb43",
        "IPY_MODEL_8470ed913db24d969dfe29af2817b014"
       ],
       "layout": "IPY_MODEL_44bcb531a016428a83cbf4e578fb061e"
      }
     },
     "6f731b8df095411288def8c71fe5f465": {
      "model_module": "jupyter-js-widgets",
      "model_module_version": "~2.1.4",
      "model_name": "LayoutModel",
      "state": {
       "_model_module_version": "~2.1.4",
       "_view_module_version": "~2.1.4",
       "min_width": "125px"
      }
     },
     "6ff446212da743dfbf2d4814d92cd789": {
      "model_module": "bqplot",
      "model_module_version": "^0.2.3",
      "model_name": "AxisModel",
      "state": {
       "label": "Index",
       "scale": "IPY_MODEL_655e5933ae3d4d8cba3cff0ce2705bc7",
       "side": "bottom",
       "tick_values": {
        "type": null,
        "values": null
       }
      }
     },
     "706d656a427a4fceb6bdb148668982d4": {
      "model_module": "bqplot",
      "model_module_version": "^0.2.3",
      "model_name": "IndexSelectorModel",
      "state": {
       "marks": [
        "IPY_MODEL_08204ca788c14738a6d57bf9f1c61439",
        "IPY_MODEL_86daf68ab0954da9bf0e736ac2f928b1"
       ],
       "scale": "IPY_MODEL_f70ba89fbdc048118bba2f2c6d0bbca3",
       "selected": {
        "type": null,
        "values": null
       }
      }
     },
     "721297a027e24c87b0c7551440aedf51": {
      "model_module": "bqplot",
      "model_module_version": "^0.2.3",
      "model_name": "AxisModel",
      "state": {
       "label": "Date",
       "scale": "IPY_MODEL_23a7f9b68a3a4e9eaa5d5a6b2bfdb625",
       "side": "bottom",
       "tick_values": {
        "type": null,
        "values": null
       }
      }
     },
     "7369fe40a643468db2fbdc144b0f93a8": {
      "model_module": "bqplot",
      "model_module_version": "^0.2.3",
      "model_name": "FigureModel",
      "state": {
       "_dom_classes": [],
       "axes": [
        "IPY_MODEL_ac198c52ddc0458a9da563d08f410c23",
        "IPY_MODEL_5a099318fcd948098651254b308f05c4"
       ],
       "interaction": "IPY_MODEL_b540bd7bd4c240e2aa596e44cf6d5211",
       "layout": "IPY_MODEL_87bf462786184e8b8a75151c67fb10f5",
       "marks": [
        "IPY_MODEL_3897a2e9d28849c194e5604501ee1fd8"
       ],
       "max_aspect_ratio": 6,
       "scale_x": "IPY_MODEL_c63da5fab86f4fea90fa26a7bccd8dbf",
       "scale_y": "IPY_MODEL_1c96005b2a0047e7ac51dea502595c63",
       "title": "Multi-Selector Example"
      }
     },
     "73ce13fb9c114025a450fa8c06df6936": {
      "model_module": "bqplot",
      "model_module_version": "^0.2.3",
      "model_name": "FigureModel",
      "state": {
       "_dom_classes": [],
       "axes": [
        "IPY_MODEL_ae8f76f9e5834608a7b718c117760e94",
        "IPY_MODEL_b3014d3724b2401da1db12f705d1d9e4"
       ],
       "interaction": "IPY_MODEL_40cdefa6fe0b439ca6a08577c1c095d9",
       "layout": "IPY_MODEL_df222f645fcc421ca3cf3e8103eee81e",
       "marks": [
        "IPY_MODEL_e30d2a0d428745c8937f1c84e1551810",
        "IPY_MODEL_cd61f305e2f94d7fa5c46c97bac237fd",
        "IPY_MODEL_097ee5ae48d840369e7e32c10ed1c69d"
       ],
       "max_aspect_ratio": 6,
       "scale_x": "IPY_MODEL_0d227db6f67940a58a15ae331f486d09",
       "scale_y": "IPY_MODEL_d33fb0d3491d41f995a8944a05bd1a20",
       "title": "Lasso Selector Example"
      }
     },
     "7457865964464c509c61c9e48b721c0b": {
      "model_module": "bqplot",
      "model_module_version": "^0.2.3",
      "model_name": "LinearScaleModel",
      "state": {
       "stabilized": false
      }
     },
     "74864a3c1f1a486ca05d68f6fe6ef150": {
      "model_module": "jupyter-js-widgets",
      "model_module_version": "~2.1.4",
      "model_name": "LayoutModel",
      "state": {
       "_model_module_version": "~2.1.4",
       "_view_module_version": "~2.1.4",
       "min_width": "125px"
      }
     },
     "74a030dc0a384862aab9bbacc8ff8e57": {
      "model_module": "bqplot",
      "model_module_version": "^0.2.3",
      "model_name": "AxisModel",
      "state": {
       "label": "Security 1",
       "scale": "IPY_MODEL_a2181f7ed85a4f099178051b9e6178dd",
       "side": "bottom",
       "tick_values": {
        "type": null,
        "values": null
       }
      }
     },
     "752b5ce3c87f4c73ae507fc856fbcf94": {
      "model_module": "jupyter-js-widgets",
      "model_module_version": "~2.1.4",
      "model_name": "VBoxModel",
      "state": {
       "_model_module_version": "~2.1.4",
       "_view_module_version": "~2.1.4",
       "children": [
        "IPY_MODEL_1c68016b1956420a9d614c5e554bc9be",
        "IPY_MODEL_fdf9c64971914709bb74900a5e40a7b2"
       ],
       "layout": "IPY_MODEL_be5537ff74584314b304034b4d776eed"
      }
     },
     "75e93a7b3da34fdf92b6d231e4816614": {
      "model_module": "jupyter-js-widgets",
      "model_module_version": "~2.1.4",
      "model_name": "LayoutModel",
      "state": {
       "_model_module_version": "~2.1.4",
       "_view_module_version": "~2.1.4",
       "min_width": "125px"
      }
     },
     "77955e0ac0ac42d9b83f50a48f236864": {
      "model_module": "jupyter-js-widgets",
      "model_module_version": "~2.1.4",
      "model_name": "HTMLModel",
      "state": {
       "_model_module_version": "~2.1.4",
       "_view_module_version": "~2.1.4",
       "layout": "IPY_MODEL_84832768b5794f43a5e917b95fdff653",
       "value": "The selected period is [u'2007-03-04T00:14:17.431Z' u'2007-04-15T07:02:56.350Z']"
      }
     },
     "7906cfa8e498418b809793abc22e80bd": {
      "model_module": "bqplot",
      "model_module_version": "^0.2.3",
      "model_name": "AxisModel",
      "state": {
       "grid_lines": "none",
       "label": "Price",
       "orientation": "vertical",
       "scale": "IPY_MODEL_d6eff4c6065444b2a876491e875277e7",
       "side": "left",
       "tick_values": {
        "type": null,
        "values": null
       }
      }
     },
     "790ab4bd1f434d92937b4630de114c18": {
      "model_module": "jupyter-js-widgets",
      "model_module_version": "~2.1.4",
      "model_name": "LayoutModel",
      "state": {
       "_model_module_version": "~2.1.4",
       "_view_module_version": "~2.1.4"
      }
     },
     "7b582d2e1ce647b386f415cc0c2d8025": {
      "model_module": "bqplot",
      "model_module_version": "^0.2.3",
      "model_name": "AxisModel",
      "state": {
       "grid_lines": "none",
       "label": "Freq",
       "orientation": "vertical",
       "scale": "IPY_MODEL_273fc291f8074bbba9c2ae213a7886c1",
       "side": "left",
       "tick_values": {
        "type": null,
        "values": null
       }
      }
     },
     "7d2837880284415297fd440d78e708e4": {
      "model_module": "bqplot",
      "model_module_version": "^0.2.3",
      "model_name": "LinesModel",
      "state": {
       "color": {
        "type": null,
        "values": null
       },
       "colors": [
        "red"
       ],
       "display_legend": false,
       "fill_colors": [],
       "labels": [
        "C1"
       ],
       "scales": {
        "x": "IPY_MODEL_462636db67a04b02a5083f473b9bd86e",
        "y": "IPY_MODEL_273fc291f8074bbba9c2ae213a7886c1"
       },
       "selected": [],
       "x": {
        "type": "date",
        "values": [
         "2007-01-01T00:00:00.000000",
         "2007-01-02T00:00:00.000000",
         "2007-01-03T00:00:00.000000",
         "2007-01-04T00:00:00.000000",
         "2007-01-05T00:00:00.000000",
         "2007-01-06T00:00:00.000000",
         "2007-01-07T00:00:00.000000",
         "2007-01-08T00:00:00.000000",
         "2007-01-09T00:00:00.000000",
         "2007-01-10T00:00:00.000000",
         "2007-01-11T00:00:00.000000",
         "2007-01-12T00:00:00.000000",
         "2007-01-13T00:00:00.000000",
         "2007-01-14T00:00:00.000000",
         "2007-01-15T00:00:00.000000",
         "2007-01-16T00:00:00.000000",
         "2007-01-17T00:00:00.000000",
         "2007-01-18T00:00:00.000000",
         "2007-01-19T00:00:00.000000",
         "2007-01-20T00:00:00.000000",
         "2007-01-21T00:00:00.000000",
         "2007-01-22T00:00:00.000000",
         "2007-01-23T00:00:00.000000",
         "2007-01-24T00:00:00.000000",
         "2007-01-25T00:00:00.000000",
         "2007-01-26T00:00:00.000000",
         "2007-01-27T00:00:00.000000",
         "2007-01-28T00:00:00.000000",
         "2007-01-29T00:00:00.000000",
         "2007-01-30T00:00:00.000000",
         "2007-01-31T00:00:00.000000",
         "2007-02-01T00:00:00.000000",
         "2007-02-02T00:00:00.000000",
         "2007-02-03T00:00:00.000000",
         "2007-02-04T00:00:00.000000",
         "2007-02-05T00:00:00.000000",
         "2007-02-06T00:00:00.000000",
         "2007-02-07T00:00:00.000000",
         "2007-02-08T00:00:00.000000",
         "2007-02-09T00:00:00.000000",
         "2007-02-10T00:00:00.000000",
         "2007-02-11T00:00:00.000000",
         "2007-02-12T00:00:00.000000",
         "2007-02-13T00:00:00.000000",
         "2007-02-14T00:00:00.000000",
         "2007-02-15T00:00:00.000000",
         "2007-02-16T00:00:00.000000",
         "2007-02-17T00:00:00.000000",
         "2007-02-18T00:00:00.000000",
         "2007-02-19T00:00:00.000000",
         "2007-02-20T00:00:00.000000",
         "2007-02-21T00:00:00.000000",
         "2007-02-22T00:00:00.000000",
         "2007-02-23T00:00:00.000000",
         "2007-02-24T00:00:00.000000",
         "2007-02-25T00:00:00.000000",
         "2007-02-26T00:00:00.000000",
         "2007-02-27T00:00:00.000000",
         "2007-02-28T00:00:00.000000",
         "2007-03-01T00:00:00.000000",
         "2007-03-02T00:00:00.000000",
         "2007-03-03T00:00:00.000000",
         "2007-03-04T00:00:00.000000",
         "2007-03-05T00:00:00.000000",
         "2007-03-06T00:00:00.000000",
         "2007-03-07T00:00:00.000000",
         "2007-03-08T00:00:00.000000",
         "2007-03-09T00:00:00.000000",
         "2007-03-10T00:00:00.000000",
         "2007-03-11T00:00:00.000000",
         "2007-03-12T00:00:00.000000",
         "2007-03-13T00:00:00.000000",
         "2007-03-14T00:00:00.000000",
         "2007-03-15T00:00:00.000000",
         "2007-03-16T00:00:00.000000",
         "2007-03-17T00:00:00.000000",
         "2007-03-18T00:00:00.000000",
         "2007-03-19T00:00:00.000000",
         "2007-03-20T00:00:00.000000",
         "2007-03-21T00:00:00.000000",
         "2007-03-22T00:00:00.000000",
         "2007-03-23T00:00:00.000000",
         "2007-03-24T00:00:00.000000",
         "2007-03-25T00:00:00.000000",
         "2007-03-26T00:00:00.000000",
         "2007-03-27T00:00:00.000000",
         "2007-03-28T00:00:00.000000",
         "2007-03-29T00:00:00.000000",
         "2007-03-30T00:00:00.000000",
         "2007-03-31T00:00:00.000000",
         "2007-04-01T00:00:00.000000",
         "2007-04-02T00:00:00.000000",
         "2007-04-03T00:00:00.000000",
         "2007-04-04T00:00:00.000000",
         "2007-04-05T00:00:00.000000",
         "2007-04-06T00:00:00.000000",
         "2007-04-07T00:00:00.000000",
         "2007-04-08T00:00:00.000000",
         "2007-04-09T00:00:00.000000",
         "2007-04-10T00:00:00.000000",
         "2007-04-11T00:00:00.000000",
         "2007-04-12T00:00:00.000000",
         "2007-04-13T00:00:00.000000",
         "2007-04-14T00:00:00.000000",
         "2007-04-15T00:00:00.000000",
         "2007-04-16T00:00:00.000000",
         "2007-04-17T00:00:00.000000",
         "2007-04-18T00:00:00.000000",
         "2007-04-19T00:00:00.000000",
         "2007-04-20T00:00:00.000000",
         "2007-04-21T00:00:00.000000",
         "2007-04-22T00:00:00.000000",
         "2007-04-23T00:00:00.000000",
         "2007-04-24T00:00:00.000000",
         "2007-04-25T00:00:00.000000",
         "2007-04-26T00:00:00.000000",
         "2007-04-27T00:00:00.000000",
         "2007-04-28T00:00:00.000000",
         "2007-04-29T00:00:00.000000",
         "2007-04-30T00:00:00.000000",
         "2007-05-01T00:00:00.000000",
         "2007-05-02T00:00:00.000000",
         "2007-05-03T00:00:00.000000",
         "2007-05-04T00:00:00.000000",
         "2007-05-05T00:00:00.000000",
         "2007-05-06T00:00:00.000000",
         "2007-05-07T00:00:00.000000",
         "2007-05-08T00:00:00.000000",
         "2007-05-09T00:00:00.000000",
         "2007-05-10T00:00:00.000000",
         "2007-05-11T00:00:00.000000",
         "2007-05-12T00:00:00.000000",
         "2007-05-13T00:00:00.000000",
         "2007-05-14T00:00:00.000000",
         "2007-05-15T00:00:00.000000",
         "2007-05-16T00:00:00.000000",
         "2007-05-17T00:00:00.000000",
         "2007-05-18T00:00:00.000000",
         "2007-05-19T00:00:00.000000",
         "2007-05-20T00:00:00.000000",
         "2007-05-21T00:00:00.000000",
         "2007-05-22T00:00:00.000000",
         "2007-05-23T00:00:00.000000",
         "2007-05-24T00:00:00.000000",
         "2007-05-25T00:00:00.000000",
         "2007-05-26T00:00:00.000000",
         "2007-05-27T00:00:00.000000",
         "2007-05-28T00:00:00.000000",
         "2007-05-29T00:00:00.000000",
         "2007-05-30T00:00:00.000000"
        ]
       },
       "y": {
        "type": "float",
        "values": [
         100.68943970602382,
         101.04967257614271,
         101.70788739575829,
         100.9893077987132,
         100.15284381937975,
         99.49442572238767,
         99.3825237381875,
         100.85095984753357,
         99.85739161488387,
         101.61439127439795,
         101.98464897763643,
         103.06613586459986,
         103.04943250953093,
         103.4708210080052,
         102.48824931136326,
         101.27432586122985,
         100.58597048142923,
         98.66522227912566,
         99.92750105333691,
         99.29858370590395,
         98.70642687630868,
         97.75780533465444,
         98.52785075946646,
         98.29114650215546,
         100.20111776440702,
         99.88374731231532,
         99.44173454186618,
         98.95055520641374,
         100.65043576015452,
         99.82173899879308,
         100.42676368847032,
         97.6743354971758,
         97.01245200732231,
         95.02300976777425,
         94.56426007340116,
         93.53551517264161,
         92.91148174128412,
         90.58271447851807,
         89.30190519052212,
         89.5516080279304,
         88.568738806283,
         89.85878392747374,
         88.88130863668752,
         89.19089706759176,
         89.48452186747998,
         89.66500697325438,
         88.28009740061813,
         84.5225966929577,
         84.15080733864565,
         83.46270885804839,
         84.47893673996809,
         82.30680959895892,
         82.18097797633718,
         81.82634288252896,
         82.8441429996618,
         82.39987824646754,
         81.42120730808674,
         82.6575147643762,
         81.5424634721007,
         81.71142047040902,
         81.50198543358822,
         80.66130202508035,
         79.81483827673134,
         81.34248867324428,
         79.29259328505262,
         79.72198457703541,
         79.22426830999798,
         79.43649460802604,
         78.7439544839615,
         77.9120355472159,
         77.43146305849402,
         77.46865805951539,
         75.28151725646141,
         74.29545382566724,
         73.73371870924876,
         74.47449093903796,
         77.3084474474269,
         78.54283824755433,
         80.43083177005164,
         80.73699274638942,
         81.49220122267747,
         81.96091301429752,
         81.36691829189286,
         81.57269458058445,
         80.618238000884,
         80.93806052697613,
         81.78218493282519,
         81.18022538891498,
         81.75495700501388,
         82.34655353799855,
         82.38057404084634,
         82.14148125762102,
         83.18324134065307,
         83.26655054076741,
         84.17028361429595,
         84.26207938947702,
         85.73769627851088,
         84.19829674767767,
         82.6443507073366,
         83.34834800244785,
         82.87105387993691,
         82.84823302990034,
         84.15998868370058,
         83.44951642318995,
         82.49858125160843,
         83.29297122067928,
         83.49947778814446,
         83.52608954754557,
         82.49112053588398,
         81.05304125515252,
         78.82533968928378,
         77.27986465236565,
         77.01481891171008,
         78.24137479627275,
         77.66664200207752,
         76.691596913963,
         77.71548072811935,
         77.02224202015353,
         77.21872191334775,
         78.6408309700679,
         78.85321882624797,
         79.60165581354613,
         80.4903136990689,
         79.6236683803528,
         78.59948680229257,
         78.97376620932894,
         78.232418320374,
         79.87152298858473,
         79.3097210306836,
         80.62713535852998,
         80.92701642071572,
         80.1331153792402,
         79.65416889069813,
         81.34975904424722,
         81.23874942117084,
         80.74554470193664,
         81.20332707382255,
         81.46052437182307,
         80.24529857569283,
         79.67568944838081,
         78.14656121361405,
         78.48680205835102,
         76.42002712283318,
         76.06381985751345,
         75.30882790394682,
         76.05285267777393,
         74.77629145755768,
         74.93828810285069,
         76.08941493803721,
         77.23098783333327
        ]
       }
      }
     },
     "80d468871f4545d3a9014b52325827f2": {
      "model_module": "jupyter-js-widgets",
      "model_module_version": "~2.1.4",
      "model_name": "LayoutModel",
      "state": {
       "_model_module_version": "~2.1.4",
       "_view_module_version": "~2.1.4",
       "min_width": "125px"
      }
     },
     "81423f889c0748c78d244d90e3aa8ae3": {
      "model_module": "bqplot",
      "model_module_version": "^0.2.3",
      "model_name": "LinearScaleModel",
      "state": {
       "stabilized": false
      }
     },
     "83b78c6bdabe45bbbb1c63e404764c40": {
      "model_module": "bqplot",
      "model_module_version": "^0.2.3",
      "model_name": "AxisModel",
      "state": {
       "label": "Date",
       "scale": "IPY_MODEL_f70ba89fbdc048118bba2f2c6d0bbca3",
       "side": "bottom",
       "tick_values": {
        "type": null,
        "values": null
       }
      }
     },
     "8470ed913db24d969dfe29af2817b014": {
      "model_module": "bqplot",
      "model_module_version": "^0.2.3",
      "model_name": "FigureModel",
      "state": {
       "_dom_classes": [],
       "axes": [
        "IPY_MODEL_5ba99a318b7e44d7adce80aa6932d3ec",
        "IPY_MODEL_7b582d2e1ce647b386f415cc0c2d8025"
       ],
       "interaction": "IPY_MODEL_e7244794f4874a038fd5a1477e09e2d8",
       "layout": "IPY_MODEL_143f1161796a43d08cc22be26f2b7ffc",
       "marks": [
        "IPY_MODEL_7d2837880284415297fd440d78e708e4"
       ],
       "max_aspect_ratio": 6,
       "scale_x": "IPY_MODEL_b77c1abf697247cc95213a46a9357ffa",
       "scale_y": "IPY_MODEL_355d326d1f5445ed843f74f7b38f847e",
       "title": "Multi-Selector with Date Example"
      }
     },
     "84832768b5794f43a5e917b95fdff653": {
      "model_module": "jupyter-js-widgets",
      "model_module_version": "~2.1.4",
      "model_name": "LayoutModel",
      "state": {
       "_model_module_version": "~2.1.4",
       "_view_module_version": "~2.1.4"
      }
     },
     "851a1ce24bea4e4a9791ac3bfee69146": {
      "model_module": "bqplot",
      "model_module_version": "^0.2.3",
      "model_name": "FigureModel",
      "state": {
       "_dom_classes": [],
       "axes": [
        "IPY_MODEL_414c60729cfa450789553b50fdf41f24",
        "IPY_MODEL_7906cfa8e498418b809793abc22e80bd"
       ],
       "interaction": "IPY_MODEL_2bc7ea62f01c4b91978e4aa8fcba71e5",
       "layout": "IPY_MODEL_75e93a7b3da34fdf92b6d231e4816614",
       "marks": [
        "IPY_MODEL_1e50bb9b9ede419b93620773aa0d3c5c"
       ],
       "max_aspect_ratio": 6,
       "scale_x": "IPY_MODEL_07ded3a71b754c90b72f615734bc308f",
       "scale_y": "IPY_MODEL_0ccb423924cc4ca8af07fe43491f6d50"
      }
     },
     "86daf68ab0954da9bf0e736ac2f928b1": {
      "model_module": "bqplot",
      "model_module_version": "^0.2.3",
      "model_name": "LinesModel",
      "state": {
       "color": {
        "type": null,
        "values": null
       },
       "colors": [
        "red"
       ],
       "fill_colors": [],
       "labels": [
        "Security 2"
       ],
       "scales": {
        "x": "IPY_MODEL_f70ba89fbdc048118bba2f2c6d0bbca3",
        "y": "IPY_MODEL_df6875fbdf674469a3009822cd4e3a7c"
       },
       "selected": [],
       "x": {
        "type": "date",
        "values": [
         "2007-01-01T00:00:00.000000",
         "2007-01-02T00:00:00.000000",
         "2007-01-03T00:00:00.000000",
         "2007-01-04T00:00:00.000000",
         "2007-01-05T00:00:00.000000",
         "2007-01-06T00:00:00.000000",
         "2007-01-07T00:00:00.000000",
         "2007-01-08T00:00:00.000000",
         "2007-01-09T00:00:00.000000",
         "2007-01-10T00:00:00.000000",
         "2007-01-11T00:00:00.000000",
         "2007-01-12T00:00:00.000000",
         "2007-01-13T00:00:00.000000",
         "2007-01-14T00:00:00.000000",
         "2007-01-15T00:00:00.000000",
         "2007-01-16T00:00:00.000000",
         "2007-01-17T00:00:00.000000",
         "2007-01-18T00:00:00.000000",
         "2007-01-19T00:00:00.000000",
         "2007-01-20T00:00:00.000000",
         "2007-01-21T00:00:00.000000",
         "2007-01-22T00:00:00.000000",
         "2007-01-23T00:00:00.000000",
         "2007-01-24T00:00:00.000000",
         "2007-01-25T00:00:00.000000",
         "2007-01-26T00:00:00.000000",
         "2007-01-27T00:00:00.000000",
         "2007-01-28T00:00:00.000000",
         "2007-01-29T00:00:00.000000",
         "2007-01-30T00:00:00.000000",
         "2007-01-31T00:00:00.000000",
         "2007-02-01T00:00:00.000000",
         "2007-02-02T00:00:00.000000",
         "2007-02-03T00:00:00.000000",
         "2007-02-04T00:00:00.000000",
         "2007-02-05T00:00:00.000000",
         "2007-02-06T00:00:00.000000",
         "2007-02-07T00:00:00.000000",
         "2007-02-08T00:00:00.000000",
         "2007-02-09T00:00:00.000000",
         "2007-02-10T00:00:00.000000",
         "2007-02-11T00:00:00.000000",
         "2007-02-12T00:00:00.000000",
         "2007-02-13T00:00:00.000000",
         "2007-02-14T00:00:00.000000",
         "2007-02-15T00:00:00.000000",
         "2007-02-16T00:00:00.000000",
         "2007-02-17T00:00:00.000000",
         "2007-02-18T00:00:00.000000",
         "2007-02-19T00:00:00.000000",
         "2007-02-20T00:00:00.000000",
         "2007-02-21T00:00:00.000000",
         "2007-02-22T00:00:00.000000",
         "2007-02-23T00:00:00.000000",
         "2007-02-24T00:00:00.000000",
         "2007-02-25T00:00:00.000000",
         "2007-02-26T00:00:00.000000",
         "2007-02-27T00:00:00.000000",
         "2007-02-28T00:00:00.000000",
         "2007-03-01T00:00:00.000000",
         "2007-03-02T00:00:00.000000",
         "2007-03-03T00:00:00.000000",
         "2007-03-04T00:00:00.000000",
         "2007-03-05T00:00:00.000000",
         "2007-03-06T00:00:00.000000",
         "2007-03-07T00:00:00.000000",
         "2007-03-08T00:00:00.000000",
         "2007-03-09T00:00:00.000000",
         "2007-03-10T00:00:00.000000",
         "2007-03-11T00:00:00.000000",
         "2007-03-12T00:00:00.000000",
         "2007-03-13T00:00:00.000000",
         "2007-03-14T00:00:00.000000",
         "2007-03-15T00:00:00.000000",
         "2007-03-16T00:00:00.000000",
         "2007-03-17T00:00:00.000000",
         "2007-03-18T00:00:00.000000",
         "2007-03-19T00:00:00.000000",
         "2007-03-20T00:00:00.000000",
         "2007-03-21T00:00:00.000000",
         "2007-03-22T00:00:00.000000",
         "2007-03-23T00:00:00.000000",
         "2007-03-24T00:00:00.000000",
         "2007-03-25T00:00:00.000000",
         "2007-03-26T00:00:00.000000",
         "2007-03-27T00:00:00.000000",
         "2007-03-28T00:00:00.000000",
         "2007-03-29T00:00:00.000000",
         "2007-03-30T00:00:00.000000",
         "2007-03-31T00:00:00.000000",
         "2007-04-01T00:00:00.000000",
         "2007-04-02T00:00:00.000000",
         "2007-04-03T00:00:00.000000",
         "2007-04-04T00:00:00.000000",
         "2007-04-05T00:00:00.000000",
         "2007-04-06T00:00:00.000000",
         "2007-04-07T00:00:00.000000",
         "2007-04-08T00:00:00.000000",
         "2007-04-09T00:00:00.000000",
         "2007-04-10T00:00:00.000000",
         "2007-04-11T00:00:00.000000",
         "2007-04-12T00:00:00.000000",
         "2007-04-13T00:00:00.000000",
         "2007-04-14T00:00:00.000000",
         "2007-04-15T00:00:00.000000",
         "2007-04-16T00:00:00.000000",
         "2007-04-17T00:00:00.000000",
         "2007-04-18T00:00:00.000000",
         "2007-04-19T00:00:00.000000",
         "2007-04-20T00:00:00.000000",
         "2007-04-21T00:00:00.000000",
         "2007-04-22T00:00:00.000000",
         "2007-04-23T00:00:00.000000",
         "2007-04-24T00:00:00.000000",
         "2007-04-25T00:00:00.000000",
         "2007-04-26T00:00:00.000000",
         "2007-04-27T00:00:00.000000",
         "2007-04-28T00:00:00.000000",
         "2007-04-29T00:00:00.000000",
         "2007-04-30T00:00:00.000000",
         "2007-05-01T00:00:00.000000",
         "2007-05-02T00:00:00.000000",
         "2007-05-03T00:00:00.000000",
         "2007-05-04T00:00:00.000000",
         "2007-05-05T00:00:00.000000",
         "2007-05-06T00:00:00.000000",
         "2007-05-07T00:00:00.000000",
         "2007-05-08T00:00:00.000000",
         "2007-05-09T00:00:00.000000",
         "2007-05-10T00:00:00.000000",
         "2007-05-11T00:00:00.000000",
         "2007-05-12T00:00:00.000000",
         "2007-05-13T00:00:00.000000",
         "2007-05-14T00:00:00.000000",
         "2007-05-15T00:00:00.000000",
         "2007-05-16T00:00:00.000000",
         "2007-05-17T00:00:00.000000",
         "2007-05-18T00:00:00.000000",
         "2007-05-19T00:00:00.000000",
         "2007-05-20T00:00:00.000000",
         "2007-05-21T00:00:00.000000",
         "2007-05-22T00:00:00.000000",
         "2007-05-23T00:00:00.000000",
         "2007-05-24T00:00:00.000000",
         "2007-05-25T00:00:00.000000",
         "2007-05-26T00:00:00.000000",
         "2007-05-27T00:00:00.000000",
         "2007-05-28T00:00:00.000000",
         "2007-05-29T00:00:00.000000",
         "2007-05-30T00:00:00.000000"
        ]
       },
       "y": {
        "type": "float",
        "values": [
         100.68943970602382,
         101.04967257614271,
         101.70788739575829,
         100.9893077987132,
         100.15284381937975,
         99.49442572238767,
         99.3825237381875,
         100.85095984753357,
         99.85739161488387,
         101.61439127439795,
         101.98464897763643,
         103.06613586459986,
         103.04943250953093,
         103.4708210080052,
         102.48824931136326,
         101.27432586122985,
         100.58597048142923,
         98.66522227912566,
         99.92750105333691,
         99.29858370590395,
         98.70642687630868,
         97.75780533465444,
         98.52785075946646,
         98.29114650215546,
         100.20111776440702,
         99.88374731231532,
         99.44173454186618,
         98.95055520641374,
         100.65043576015452,
         99.82173899879308,
         100.42676368847032,
         97.6743354971758,
         97.01245200732231,
         95.02300976777425,
         94.56426007340116,
         93.53551517264161,
         92.91148174128412,
         90.58271447851807,
         89.30190519052212,
         89.5516080279304,
         88.568738806283,
         89.85878392747374,
         88.88130863668752,
         89.19089706759176,
         89.48452186747998,
         89.66500697325438,
         88.28009740061813,
         84.5225966929577,
         84.15080733864565,
         83.46270885804839,
         84.47893673996809,
         82.30680959895892,
         82.18097797633718,
         81.82634288252896,
         82.8441429996618,
         82.39987824646754,
         81.42120730808674,
         82.6575147643762,
         81.5424634721007,
         81.71142047040902,
         81.50198543358822,
         80.66130202508035,
         79.81483827673134,
         81.34248867324428,
         79.29259328505262,
         79.72198457703541,
         79.22426830999798,
         79.43649460802604,
         78.7439544839615,
         77.9120355472159,
         77.43146305849402,
         77.46865805951539,
         75.28151725646141,
         74.29545382566724,
         73.73371870924876,
         74.47449093903796,
         77.3084474474269,
         78.54283824755433,
         80.43083177005164,
         80.73699274638942,
         81.49220122267747,
         81.96091301429752,
         81.36691829189286,
         81.57269458058445,
         80.618238000884,
         80.93806052697613,
         81.78218493282519,
         81.18022538891498,
         81.75495700501388,
         82.34655353799855,
         82.38057404084634,
         82.14148125762102,
         83.18324134065307,
         83.26655054076741,
         84.17028361429595,
         84.26207938947702,
         85.73769627851088,
         84.19829674767767,
         82.6443507073366,
         83.34834800244785,
         82.87105387993691,
         82.84823302990034,
         84.15998868370058,
         83.44951642318995,
         82.49858125160843,
         83.29297122067928,
         83.49947778814446,
         83.52608954754557,
         82.49112053588398,
         81.05304125515252,
         78.82533968928378,
         77.27986465236565,
         77.01481891171008,
         78.24137479627275,
         77.66664200207752,
         76.691596913963,
         77.71548072811935,
         77.02224202015353,
         77.21872191334775,
         78.6408309700679,
         78.85321882624797,
         79.60165581354613,
         80.4903136990689,
         79.6236683803528,
         78.59948680229257,
         78.97376620932894,
         78.232418320374,
         79.87152298858473,
         79.3097210306836,
         80.62713535852998,
         80.92701642071572,
         80.1331153792402,
         79.65416889069813,
         81.34975904424722,
         81.23874942117084,
         80.74554470193664,
         81.20332707382255,
         81.46052437182307,
         80.24529857569283,
         79.67568944838081,
         78.14656121361405,
         78.48680205835102,
         76.42002712283318,
         76.06381985751345,
         75.30882790394682,
         76.05285267777393,
         74.77629145755768,
         74.93828810285069,
         76.08941493803721,
         77.23098783333327
        ]
       }
      }
     },
     "87bf462786184e8b8a75151c67fb10f5": {
      "model_module": "jupyter-js-widgets",
      "model_module_version": "~2.1.4",
      "model_name": "LayoutModel",
      "state": {
       "_model_module_version": "~2.1.4",
       "_view_module_version": "~2.1.4",
       "min_width": "125px"
      }
     },
     "8d780a802b8a4268b67852800e891c30": {
      "model_module": "bqplot",
      "model_module_version": "^0.2.3",
      "model_name": "BarsModel",
      "state": {
       "color": {
        "type": null,
        "values": null
       },
       "display_legend": false,
       "scales": {
        "x": "IPY_MODEL_042574180f054a1ea60ed282379ec155",
        "y": "IPY_MODEL_e8da91a04a6144bb9397516feb34441e"
       },
       "selected": [],
       "x": {
        "type": "float",
        "values": [
         0,
         1,
         2,
         3,
         4,
         5,
         6,
         7,
         8,
         9,
         10,
         11,
         12,
         13,
         14,
         15,
         16,
         17,
         18,
         19
        ]
       },
       "y": {
        "type": "float",
        "values": [
         0,
         0.5,
         1,
         1.5,
         2,
         2.5,
         3,
         3.5,
         4,
         4.5,
         5,
         5.5,
         6,
         6.5,
         7,
         7.5,
         8,
         8.5,
         9,
         9.5
        ]
       }
      }
     },
     "8dc2ae265cd44cbb9ae46808cf57f299": {
      "model_module": "jupyter-js-widgets",
      "model_module_version": "~2.1.4",
      "model_name": "LayoutModel",
      "state": {
       "_model_module_version": "~2.1.4",
       "_view_module_version": "~2.1.4"
      }
     },
     "8e1125a763694687b4c27f9b826169c9": {
      "model_module": "jupyter-js-widgets",
      "model_module_version": "~2.1.4",
      "model_name": "VBoxModel",
      "state": {
       "_model_module_version": "~2.1.4",
       "_view_module_version": "~2.1.4",
       "children": [
        "IPY_MODEL_77955e0ac0ac42d9b83f50a48f236864",
        "IPY_MODEL_a28f5e15f9d34dfa95e8e8e87a038b61"
       ],
       "layout": "IPY_MODEL_8dc2ae265cd44cbb9ae46808cf57f299"
      }
     },
     "8eba7977ee0f486aa1563fe1e363951c": {
      "model_module": "jupyter-js-widgets",
      "model_module_version": "~2.1.4",
      "model_name": "LayoutModel",
      "state": {
       "_model_module_version": "~2.1.4",
       "_view_module_version": "~2.1.4",
       "min_width": "125px"
      }
     },
     "91014942973742d48edcce9e71a6476d": {
      "model_module": "jupyter-js-widgets",
      "model_module_version": "~2.1.4",
      "model_name": "ToggleButtonsModel",
      "state": {
       "_model_module_version": "~2.1.4",
       "_options_labels": [
        "HandDraw1",
        "HandDraw2",
        "PanZoom",
        "FastIntervalSelector",
        "IndexSelector",
        "BrushIntervalSelector",
        "MultiSelector",
        "None"
       ],
       "_view_module_version": "~2.1.4",
       "button_style": "",
       "icons": [],
       "layout": "IPY_MODEL_020335f5f9a0462da4d695debb39e144",
       "tooltips": [],
       "value": "None"
      }
     },
     "915de23c8b254ed8b0ca2e1d047cfb9e": {
      "model_module": "bqplot",
      "model_module_version": "^0.2.3",
      "model_name": "DateScaleModel",
      "state": {
       "min": "2006-06-01T00:00:00.000000"
      }
     },
     "9897001ccf4a44468476391f986d928d": {
      "model_module": "bqplot",
      "model_module_version": "^0.2.3",
      "model_name": "LinearScaleModel",
      "state": {
       "allow_padding": false,
       "max": 1,
       "min": 0,
       "stabilized": false
      }
     },
     "98d9dddc619642fb8a84166994b48321": {
      "model_module": "bqplot",
      "model_module_version": "^0.2.3",
      "model_name": "LinearScaleModel",
      "state": {
       "allow_padding": false,
       "max": 1,
       "min": 0,
       "stabilized": false
      }
     },
     "9b4741d775f84a96b4ea08a9f7042462": {
      "model_module": "bqplot",
      "model_module_version": "^0.2.3",
      "model_name": "AxisModel",
      "state": {
       "label": "Returns",
       "scale": "IPY_MODEL_7457865964464c509c61c9e48b721c0b",
       "side": "bottom",
       "tick_format": "0.2%",
       "tick_values": {
        "type": null,
        "values": null
       }
      }
     },
     "a2181f7ed85a4f099178051b9e6178dd": {
      "model_module": "bqplot",
      "model_module_version": "^0.2.3",
      "model_name": "DateScaleModel",
      "state": {}
     },
     "a28f5e15f9d34dfa95e8e8e87a038b61": {
      "model_module": "bqplot",
      "model_module_version": "^0.2.3",
      "model_name": "FigureModel",
      "state": {
       "_dom_classes": [],
       "axes": [
        "IPY_MODEL_6ff446212da743dfbf2d4814d92cd789",
        "IPY_MODEL_41375caeb0f04bc481f0f8351441d5c3"
       ],
       "interaction": "IPY_MODEL_cc2f03f59f104b0a8662a6232c09772c",
       "layout": "IPY_MODEL_cd9d719088a84126ab2758e6edf69cb9",
       "marks": [
        "IPY_MODEL_f22fc0307a9345719a0e65ff77a72b6d",
        "IPY_MODEL_361887d2113048b790c8dc15ddc886a4"
       ],
       "max_aspect_ratio": 6,
       "scale_x": "IPY_MODEL_f82fa0acf644437090242246a60c6266",
       "scale_y": "IPY_MODEL_480aa835a31a467baf9163f129e3f537",
       "title": "Fast Interval Selector Example"
      }
     },
     "a625c128311d4c0893a531f94a2bf64c": {
      "model_module": "bqplot",
      "model_module_version": "^0.2.3",
      "model_name": "FigureModel",
      "state": {
       "_dom_classes": [],
       "axes": [
        "IPY_MODEL_c3069039b1774161b3320f36a8c71c6d",
        "IPY_MODEL_137c63db9b9c4dee8f145ffcfa5c6839"
       ],
       "interaction": "IPY_MODEL_40cdefa6fe0b439ca6a08577c1c095d9",
       "layout": "IPY_MODEL_8eba7977ee0f486aa1563fe1e363951c",
       "marks": [
        "IPY_MODEL_dab97f866a384aa4a56d27a94696bcb2",
        "IPY_MODEL_ca10059759d04b349afa7d1e414fc66e",
        "IPY_MODEL_8d780a802b8a4268b67852800e891c30"
       ],
       "max_aspect_ratio": 6,
       "scale_x": "IPY_MODEL_1e31e2d535884da2bfc03a76ba165801",
       "scale_y": "IPY_MODEL_02bfb83b131f47be8e6e5f30701801a5",
       "title": "Lasso Selector Example"
      }
     },
     "a6dbb69d45464729b493d4a8242b1efb": {
      "model_module": "bqplot",
      "model_module_version": "^0.2.3",
      "model_name": "AxisModel",
      "state": {
       "label": "Security 1 Price",
       "orientation": "vertical",
       "scale": "IPY_MODEL_31fc2d2e97c04d5d8af622835758b365",
       "side": "left",
       "tick_values": {
        "type": null,
        "values": null
       }
      }
     },
     "a952eab5d10c483f9f4d061394b01c2a": {
      "model_module": "jupyter-js-widgets",
      "model_module_version": "~2.1.4",
      "model_name": "VBoxModel",
      "state": {
       "_model_module_version": "~2.1.4",
       "_view_module_version": "~2.1.4",
       "children": [
        "IPY_MODEL_e355e4ba09c54df8bd3c8296aa60c1e5",
        "IPY_MODEL_abb2ec9507a941fe916631f7e89218ef"
       ],
       "layout": "IPY_MODEL_cc89c1540cce449f834dafcdaa97b1bd"
      }
     },
     "a9be95c6c5a141c2880ed48b4d0b2313": {
      "model_module": "bqplot",
      "model_module_version": "^0.2.3",
      "model_name": "FigureModel",
      "state": {
       "_dom_classes": [],
       "axes": [
        "IPY_MODEL_74a030dc0a384862aab9bbacc8ff8e57",
        "IPY_MODEL_bfd00362e13c443ab7b2655f0b63d0a2"
       ],
       "interaction": "IPY_MODEL_6e08efa3feea4f8c8109f1306e31498a",
       "layout": "IPY_MODEL_0b3ec023c3c54639964f51de3eb51e53",
       "marks": [
        "IPY_MODEL_4635dc3ea7fa4ce289cdf30a25159fbe"
       ],
       "max_aspect_ratio": 6,
       "scale_x": "IPY_MODEL_fe0bdca9298a49878dd7f91c1caf2f8c",
       "scale_y": "IPY_MODEL_0ca1a9d477564cf9be6faddc319fcf10",
       "title": "Brush Selector with Dates Example"
      }
     },
     "abb2ec9507a941fe916631f7e89218ef": {
      "model_module": "bqplot",
      "model_module_version": "^0.2.3",
      "model_name": "FigureModel",
      "state": {
       "_dom_classes": [],
       "axes": [
        "IPY_MODEL_9b4741d775f84a96b4ea08a9f7042462",
        "IPY_MODEL_33ac66b842b64bdb93cacedd48723412"
       ],
       "interaction": "IPY_MODEL_ea5533090131464c990f3aa7690f1997",
       "layout": "IPY_MODEL_66a82ca7ca2c456facc863250dd3df31",
       "marks": [
        "IPY_MODEL_6b300859afb04b37b699e308c463cacb"
       ],
       "max_aspect_ratio": 6,
       "scale_x": "IPY_MODEL_19d46401c09e47a1bebbe62ef4475f8c",
       "scale_y": "IPY_MODEL_c54449e6364944e4818c82a60b291982",
       "title": "Histogram Selection Example"
      }
     },
     "ac198c52ddc0458a9da563d08f410c23": {
      "model_module": "bqplot",
      "model_module_version": "^0.2.3",
      "model_name": "AxisModel",
      "state": {
       "grid_lines": "none",
       "label": "Returns",
       "scale": "IPY_MODEL_49c0af784a894f7fb5d0bf8c1ba4da43",
       "side": "bottom",
       "tick_values": {
        "type": null,
        "values": null
       }
      }
     },
     "acab03dad1964d209ee8732064586bb7": {
      "model_module": "jupyter-js-widgets",
      "model_module_version": "~2.1.4",
      "model_name": "VBoxModel",
      "state": {
       "_model_module_version": "~2.1.4",
       "_view_module_version": "~2.1.4",
       "children": [
        "IPY_MODEL_1c593977ee764d4b985be0367a49c875",
        "IPY_MODEL_472504de5c844b078c250c7440dba462"
       ],
       "layout": "IPY_MODEL_0f291ce1e27f456ca35e12629c1759ed"
      }
     },
     "ae8f76f9e5834608a7b718c117760e94": {
      "model_module": "bqplot",
      "model_module_version": "^0.2.3",
      "model_name": "AxisModel",
      "state": {
       "label": "X",
       "scale": "IPY_MODEL_81423f889c0748c78d244d90e3aa8ae3",
       "side": "bottom",
       "tick_values": {
        "type": null,
        "values": null
       }
      }
     },
     "b18e0ccf097247ce909d9c340b04f704": {
      "model_module": "jupyter-js-widgets",
      "model_module_version": "~2.1.4",
      "model_name": "VBoxModel",
      "state": {
       "_model_module_version": "~2.1.4",
       "_view_module_version": "~2.1.4",
       "children": [
        "IPY_MODEL_6791cabde9d44ee09770afed442a5c9b",
        "IPY_MODEL_7369fe40a643468db2fbdc144b0f93a8"
       ],
       "layout": "IPY_MODEL_d56a40973f4b4305acd4c6bc66eb6b5e"
      }
     },
     "b1953b51439a46238546649f0e8f50c8": {
      "model_module": "bqplot",
      "model_module_version": "^0.2.3",
      "model_name": "LinearScaleModel",
      "state": {
       "allow_padding": false,
       "max": 1,
       "min": 0,
       "stabilized": false
      }
     },
     "b3014d3724b2401da1db12f705d1d9e4": {
      "model_module": "bqplot",
      "model_module_version": "^0.2.3",
      "model_name": "AxisModel",
      "state": {
       "label": "Y",
       "orientation": "vertical",
       "scale": "IPY_MODEL_345237c0377f4f2b971c4d052d063fe6",
       "side": "left",
       "tick_values": {
        "type": null,
        "values": null
       }
      }
     },
     "b32be766aeb441abb03371b7264410af": {
      "model_module": "bqplot",
      "model_module_version": "^0.2.3",
      "model_name": "DateScaleModel",
      "state": {
       "min": "2007-01-01T00:00:00.000000"
      }
     },
     "b3fec2e42f4a4d40bcd2511011492410": {
      "model_module": "bqplot",
      "model_module_version": "^0.2.3",
      "model_name": "AxisModel",
      "state": {
       "label": "Security 2",
       "orientation": "vertical",
       "scale": "IPY_MODEL_0695e0e82f564a2dbee5562461de6987",
       "side": "left",
       "tick_values": {
        "type": null,
        "values": null
       }
      }
     },
     "b47bceaab4ae4fa58c79a4bf76759f78": {
      "model_module": "bqplot",
      "model_module_version": "^0.2.3",
      "model_name": "LinearScaleModel",
      "state": {
       "max": 99.31987990729743,
       "min": 73.62233388543731,
       "stabilized": false
      }
     },
     "b540bd7bd4c240e2aa596e44cf6d5211": {
      "model_module": "bqplot",
      "model_module_version": "^0.2.3",
      "model_name": "MultiSelectorModel",
      "state": {
       "marks": [
        "IPY_MODEL_3897a2e9d28849c194e5604501ee1fd8"
       ],
       "names": [
        "int1",
        "int2",
        "int3"
       ],
       "scale": "IPY_MODEL_49c0af784a894f7fb5d0bf8c1ba4da43"
      }
     },
     "b664a79fdf544ea9b8ef31c20f8af47b": {
      "model_module": "bqplot",
      "model_module_version": "^0.2.3",
      "model_name": "LinearScaleModel",
      "state": {
       "allow_padding": false,
       "max": 1,
       "min": 0,
       "stabilized": false
      }
     },
     "b77c1abf697247cc95213a46a9357ffa": {
      "model_module": "bqplot",
      "model_module_version": "^0.2.3",
      "model_name": "LinearScaleModel",
      "state": {
       "allow_padding": false,
       "max": 1,
       "min": 0,
       "stabilized": false
      }
     },
     "b85a13517393464a911ddbc47929a646": {
      "model_module": "jupyter-js-widgets",
      "model_module_version": "~2.1.4",
      "model_name": "LayoutModel",
      "state": {
       "_model_module_version": "~2.1.4",
       "_view_module_version": "~2.1.4"
      }
     },
     "b8caf062fd5341cab0b4f267e4a7eecc": {
      "model_module": "jupyter-js-widgets",
      "model_module_version": "~2.1.4",
      "model_name": "LayoutModel",
      "state": {
       "_model_module_version": "~2.1.4",
       "_view_module_version": "~2.1.4"
      }
     },
     "b91fc5e491804ae4bb8a2f3c87a32d80": {
      "model_module": "bqplot",
      "model_module_version": "^0.2.3",
      "model_name": "AxisModel",
      "state": {
       "label": "Date",
       "scale": "IPY_MODEL_cda8694f326441e2b95898ddcbbfe543",
       "side": "bottom",
       "tick_values": {
        "type": null,
        "values": null
       }
      }
     },
     "bc8661564a04473e92280c1c5cc9eb43": {
      "model_module": "jupyter-js-widgets",
      "model_module_version": "~2.1.4",
      "model_name": "HTMLModel",
      "state": {
       "_model_module_version": "~2.1.4",
       "_view_module_version": "~2.1.4",
       "layout": "IPY_MODEL_f3d516be9d584200bff1b6b7fbbc536e",
       "value": "{}"
      }
     },
     "be5537ff74584314b304034b4d776eed": {
      "model_module": "jupyter-js-widgets",
      "model_module_version": "~2.1.4",
      "model_name": "LayoutModel",
      "state": {
       "_model_module_version": "~2.1.4",
       "_view_module_version": "~2.1.4"
      }
     },
     "be81e8b1dcde433a8216b014af3b86f0": {
      "model_module": "bqplot",
      "model_module_version": "^0.2.3",
      "model_name": "LinearScaleModel",
      "state": {
       "stabilized": false
      }
     },
     "bfd00362e13c443ab7b2655f0b63d0a2": {
      "model_module": "bqplot",
      "model_module_version": "^0.2.3",
      "model_name": "AxisModel",
      "state": {
       "label": "Security 2",
       "orientation": "vertical",
       "scale": "IPY_MODEL_4acf8a8d34e34afd898c6b51982d60e1",
       "side": "left",
       "tick_values": {
        "type": null,
        "values": null
       }
      }
     },
     "c3069039b1774161b3320f36a8c71c6d": {
      "model_module": "bqplot",
      "model_module_version": "^0.2.3",
      "model_name": "AxisModel",
      "state": {
       "label": "X",
       "scale": "IPY_MODEL_042574180f054a1ea60ed282379ec155",
       "side": "bottom",
       "tick_values": {
        "type": null,
        "values": null
       }
      }
     },
     "c54449e6364944e4818c82a60b291982": {
      "model_module": "bqplot",
      "model_module_version": "^0.2.3",
      "model_name": "LinearScaleModel",
      "state": {
       "allow_padding": false,
       "max": 1,
       "min": 0,
       "stabilized": false
      }
     },
     "c63da5fab86f4fea90fa26a7bccd8dbf": {
      "model_module": "bqplot",
      "model_module_version": "^0.2.3",
      "model_name": "LinearScaleModel",
      "state": {
       "allow_padding": false,
       "max": 1,
       "min": 0,
       "stabilized": false
      }
     },
     "ca10059759d04b349afa7d1e414fc66e": {
      "model_module": "bqplot",
      "model_module_version": "^0.2.3",
      "model_name": "LinesModel",
      "state": {
       "color": {
        "type": null,
        "values": null
       },
       "display_legend": false,
       "fill_colors": [],
       "labels": [
        "C1"
       ],
       "scales": {
        "x": "IPY_MODEL_042574180f054a1ea60ed282379ec155",
        "y": "IPY_MODEL_e8da91a04a6144bb9397516feb34441e"
       },
       "selected": [
        {
         "indices": [
          5,
          6,
          7,
          8
         ],
         "lasso_name": "l1",
         "line_name": "C1"
        }
       ],
       "x": {
        "type": "float",
        "values": [
         0,
         1,
         2,
         3,
         4,
         5,
         6,
         7,
         8,
         9,
         10,
         11,
         12,
         13,
         14,
         15,
         16,
         17,
         18,
         19
        ]
       },
       "y": {
        "type": "float",
        "values": [
         0,
         1,
         2,
         3,
         4,
         5,
         6,
         7,
         8,
         9,
         10,
         11,
         12,
         13,
         14,
         15,
         16,
         17,
         18,
         19
        ]
       }
      }
     },
     "cc2f03f59f104b0a8662a6232c09772c": {
      "model_module": "bqplot",
      "model_module_version": "^0.2.3",
      "model_name": "FastIntervalSelectorModel",
      "state": {
       "marks": [
        "IPY_MODEL_f22fc0307a9345719a0e65ff77a72b6d",
        "IPY_MODEL_361887d2113048b790c8dc15ddc886a4"
       ],
       "scale": "IPY_MODEL_655e5933ae3d4d8cba3cff0ce2705bc7",
       "selected": {
        "type": "object",
        "values": [
         "2007-03-04T00:14:17.431Z",
         "2007-04-15T07:02:56.350Z"
        ]
       }
      }
     },
     "cc89c1540cce449f834dafcdaa97b1bd": {
      "model_module": "jupyter-js-widgets",
      "model_module_version": "~2.1.4",
      "model_name": "LayoutModel",
      "state": {
       "_model_module_version": "~2.1.4",
       "_view_module_version": "~2.1.4"
      }
     },
     "cd61f305e2f94d7fa5c46c97bac237fd": {
      "model_module": "bqplot",
      "model_module_version": "^0.2.3",
      "model_name": "LinesModel",
      "state": {
       "color": {
        "type": null,
        "values": null
       },
       "display_legend": false,
       "fill_colors": [],
       "labels": [
        "C1"
       ],
       "scales": {
        "x": "IPY_MODEL_81423f889c0748c78d244d90e3aa8ae3",
        "y": "IPY_MODEL_345237c0377f4f2b971c4d052d063fe6"
       },
       "selected": [
        {
         "indices": [
          8,
          9,
          10,
          11,
          12,
          13
         ],
         "lasso_name": "l1",
         "line_name": "C1"
        },
        {
         "indices": [
          7,
          8,
          9,
          10,
          11,
          12,
          13,
          14
         ],
         "lasso_name": "l2",
         "line_name": "C1"
        }
       ],
       "x": {
        "type": "float",
        "values": [
         0,
         1,
         2,
         3,
         4,
         5,
         6,
         7,
         8,
         9,
         10,
         11,
         12,
         13,
         14,
         15,
         16,
         17,
         18,
         19
        ]
       },
       "y": {
        "type": "float",
        "values": [
         0,
         1,
         2,
         3,
         4,
         5,
         6,
         7,
         8,
         9,
         10,
         11,
         12,
         13,
         14,
         15,
         16,
         17,
         18,
         19
        ]
       }
      }
     },
     "cd9d719088a84126ab2758e6edf69cb9": {
      "model_module": "jupyter-js-widgets",
      "model_module_version": "~2.1.4",
      "model_name": "LayoutModel",
      "state": {
       "_model_module_version": "~2.1.4",
       "_view_module_version": "~2.1.4",
       "min_width": "125px"
      }
     },
     "cda8694f326441e2b95898ddcbbfe543": {
      "model_module": "bqplot",
      "model_module_version": "^0.2.3",
      "model_name": "DateScaleModel",
      "state": {
       "min": "2006-06-01T00:00:00.000000"
      }
     },
     "d30736ebf1b1456590ab71b2dd4971bc": {
      "model_module": "jupyter-js-widgets",
      "model_module_version": "~2.1.4",
      "model_name": "LayoutModel",
      "state": {
       "_model_module_version": "~2.1.4",
       "_view_module_version": "~2.1.4"
      }
     },
     "d318a282b85943189bcde9d6a765d2b4": {
      "model_module": "bqplot",
      "model_module_version": "^0.2.3",
      "model_name": "LinearScaleModel",
      "state": {
       "stabilized": false
      }
     },
     "d33fb0d3491d41f995a8944a05bd1a20": {
      "model_module": "bqplot",
      "model_module_version": "^0.2.3",
      "model_name": "LinearScaleModel",
      "state": {
       "allow_padding": false,
       "max": 1,
       "min": 0,
       "stabilized": false
      }
     },
     "d44ae49e72124fd7a37b33594034aa64": {
      "model_module": "bqplot",
      "model_module_version": "^0.2.3",
      "model_name": "LinearScaleModel",
      "state": {
       "allow_padding": false,
       "max": 1,
       "min": 0,
       "stabilized": false
      }
     },
     "d462357cbbfe4847b68c19217cd3be5d": {
      "model_module": "bqplot",
      "model_module_version": "^0.2.3",
      "model_name": "AxisModel",
      "state": {
       "grid_lines": "none",
       "label": "Time",
       "scale": "IPY_MODEL_d318a282b85943189bcde9d6a765d2b4",
       "side": "top",
       "tick_values": {
        "type": null,
        "values": null
       }
      }
     },
     "d56a40973f4b4305acd4c6bc66eb6b5e": {
      "model_module": "jupyter-js-widgets",
      "model_module_version": "~2.1.4",
      "model_name": "LayoutModel",
      "state": {
       "_model_module_version": "~2.1.4",
       "_view_module_version": "~2.1.4"
      }
     },
     "d59c290ea2364fee970a756aa45cfa87": {
      "model_module": "jupyter-js-widgets",
      "model_module_version": "~2.1.4",
      "model_name": "VBoxModel",
      "state": {
       "_model_module_version": "~2.1.4",
       "_view_module_version": "~2.1.4",
       "children": [
        "IPY_MODEL_fab20523a45a48e1862c822193eeb552",
        "IPY_MODEL_685820f8c37645008f7668b23d8585e0"
       ],
       "layout": "IPY_MODEL_b8caf062fd5341cab0b4f267e4a7eecc"
      }
     },
     "d6eff4c6065444b2a876491e875277e7": {
      "model_module": "bqplot",
      "model_module_version": "^0.2.3",
      "model_name": "LinearScaleModel",
      "state": {
       "stabilized": false
      }
     },
     "d9af8a0223cf4480bc005a0c69634908": {
      "model_module": "bqplot",
      "model_module_version": "^0.2.3",
      "model_name": "AxisModel",
      "state": {
       "grid_lines": "none",
       "label": "Price",
       "orientation": "vertical",
       "scale": "IPY_MODEL_b47bceaab4ae4fa58c79a4bf76759f78",
       "side": "left",
       "tick_values": {
        "type": null,
        "values": null
       }
      }
     },
     "dab97f866a384aa4a56d27a94696bcb2": {
      "model_module": "bqplot",
      "model_module_version": "^0.2.3",
      "model_name": "ScatterModel",
      "state": {
       "_model_module": "bqplot",
       "_model_module_version": "^0.2.3",
       "_view_module": "bqplot",
       "_view_module_version": "^0.2.3",
       "apply_clip": true,
       "color": {
        "type": null,
        "values": null
       },
       "colors": [
        "skyblue"
       ],
       "display_legend": false,
       "enable_hover": true,
       "hovered_style": {},
       "interactions": {
        "hover": "tooltip"
       },
       "labels": [],
       "msg_throttle": 1,
       "names": {
        "type": null,
        "values": null
       },
       "opacity": {
        "type": null,
        "values": null
       },
       "preserve_domain": {},
       "rotation": {
        "type": null,
        "values": null
       },
       "scales": {
        "x": "IPY_MODEL_042574180f054a1ea60ed282379ec155",
        "y": "IPY_MODEL_e8da91a04a6144bb9397516feb34441e"
       },
       "scales_metadata": {
        "color": {
         "dimension": "color"
        },
        "opacity": {
         "dimension": "opacity"
        },
        "size": {
         "dimension": "size"
        },
        "x": {
         "dimension": "x",
         "orientation": "horizontal"
        },
        "y": {
         "dimension": "y",
         "orientation": "vertical"
        }
       },
       "selected": [
        {
         "indices": [
          5,
          6,
          7,
          8
         ],
         "lasso_name": "l1"
        }
       ],
       "selected_style": {},
       "size": {
        "type": null,
        "values": null
       },
       "skew": {
        "type": null,
        "values": null
       },
       "tooltip": null,
       "tooltip_location": "mouse",
       "tooltip_style": {
        "opacity": 0.9
       },
       "unhovered_style": {},
       "unselected_style": {},
       "visible": true,
       "x": {
        "type": "float",
        "values": [
         0,
         1,
         2,
         3,
         4,
         5,
         6,
         7,
         8,
         9,
         10,
         11,
         12,
         13,
         14,
         15,
         16,
         17,
         18,
         19
        ]
       },
       "y": {
        "type": "float",
        "values": [
         0,
         1,
         2,
         3,
         4,
         5,
         6,
         7,
         8,
         9,
         10,
         11,
         12,
         13,
         14,
         15,
         16,
         17,
         18,
         19
        ]
       }
      }
     },
     "df222f645fcc421ca3cf3e8103eee81e": {
      "model_module": "jupyter-js-widgets",
      "model_module_version": "~2.1.4",
      "model_name": "LayoutModel",
      "state": {
       "_model_module_version": "~2.1.4",
       "_view_module_version": "~2.1.4",
       "min_width": "125px"
      }
     },
     "df6875fbdf674469a3009822cd4e3a7c": {
      "model_module": "bqplot",
      "model_module_version": "^0.2.3",
      "model_name": "LinearScaleModel",
      "state": {
       "stabilized": false
      }
     },
     "e30d2a0d428745c8937f1c84e1551810": {
      "model_module": "bqplot",
      "model_module_version": "^0.2.3",
      "model_name": "ScatterModel",
      "state": {
       "_model_module": "bqplot",
       "_model_module_version": "^0.2.3",
       "_view_module": "bqplot",
       "_view_module_version": "^0.2.3",
       "apply_clip": true,
       "color": {
        "type": null,
        "values": null
       },
       "colors": [
        "skyblue"
       ],
       "display_legend": false,
       "enable_hover": true,
       "hovered_style": {},
       "interactions": {
        "hover": "tooltip"
       },
       "labels": [],
       "msg_throttle": 1,
       "names": {
        "type": null,
        "values": null
       },
       "opacity": {
        "type": null,
        "values": null
       },
       "preserve_domain": {},
       "rotation": {
        "type": null,
        "values": null
       },
       "scales": {
        "x": "IPY_MODEL_81423f889c0748c78d244d90e3aa8ae3",
        "y": "IPY_MODEL_345237c0377f4f2b971c4d052d063fe6"
       },
       "scales_metadata": {
        "color": {
         "dimension": "color"
        },
        "opacity": {
         "dimension": "opacity"
        },
        "size": {
         "dimension": "size"
        },
        "x": {
         "dimension": "x",
         "orientation": "horizontal"
        },
        "y": {
         "dimension": "y",
         "orientation": "vertical"
        }
       },
       "selected": [
        {
         "indices": [
          8,
          9,
          10,
          11,
          12,
          13
         ],
         "lasso_name": "l1"
        },
        {
         "indices": [
          7,
          8,
          9,
          10,
          11,
          12,
          13,
          14
         ],
         "lasso_name": "l2"
        }
       ],
       "selected_style": {},
       "size": {
        "type": null,
        "values": null
       },
       "skew": {
        "type": null,
        "values": null
       },
       "tooltip": null,
       "tooltip_location": "mouse",
       "tooltip_style": {
        "opacity": 0.9
       },
       "unhovered_style": {},
       "unselected_style": {},
       "visible": true,
       "x": {
        "type": "float",
        "values": [
         0,
         1,
         2,
         3,
         4,
         5,
         6,
         7,
         8,
         9,
         10,
         11,
         12,
         13,
         14,
         15,
         16,
         17,
         18,
         19
        ]
       },
       "y": {
        "type": "float",
        "values": [
         0,
         1,
         2,
         3,
         4,
         5,
         6,
         7,
         8,
         9,
         10,
         11,
         12,
         13,
         14,
         15,
         16,
         17,
         18,
         19
        ]
       }
      }
     },
     "e355e4ba09c54df8bd3c8296aa60c1e5": {
      "model_module": "jupyter-js-widgets",
      "model_module_version": "~2.1.4",
      "model_name": "HTMLModel",
      "state": {
       "_model_module_version": "~2.1.4",
       "_view_module_version": "~2.1.4",
       "layout": "IPY_MODEL_b85a13517393464a911ddbc47929a646",
       "value": "[]"
      }
     },
     "e7244794f4874a038fd5a1477e09e2d8": {
      "model_module": "bqplot",
      "model_module_version": "^0.2.3",
      "model_name": "MultiSelectorModel",
      "state": {
       "scale": "IPY_MODEL_462636db67a04b02a5083f473b9bd86e"
      }
     },
     "e7a492c94923407f8f9cae281ae452d2": {
      "model_module": "bqplot",
      "model_module_version": "^0.2.3",
      "model_name": "LinearScaleModel",
      "state": {
       "allow_padding": false,
       "max": 1,
       "min": 0,
       "stabilized": false
      }
     },
     "e8da91a04a6144bb9397516feb34441e": {
      "model_module": "bqplot",
      "model_module_version": "^0.2.3",
      "model_name": "LinearScaleModel",
      "state": {
       "stabilized": false
      }
     },
     "e8ea882149a54136b3cf7c1012d394d6": {
      "model_module": "jupyter-js-widgets",
      "model_module_version": "~2.1.4",
      "model_name": "LayoutModel",
      "state": {
       "_model_module_version": "~2.1.4",
       "_view_module_version": "~2.1.4",
       "min_width": "125px"
      }
     },
     "e9e12cc8109d41dc8e90e2c0002c82da": {
      "model_module": "jupyter-js-widgets",
      "model_module_version": "~2.1.4",
      "model_name": "LayoutModel",
      "state": {
       "_model_module_version": "~2.1.4",
       "_view_module_version": "~2.1.4"
      }
     },
     "ea5533090131464c990f3aa7690f1997": {
      "model_module": "bqplot",
      "model_module_version": "^0.2.3",
      "model_name": "BrushIntervalSelectorModel",
      "state": {
       "marks": [
        "IPY_MODEL_6b300859afb04b37b699e308c463cacb"
       ],
       "scale": "IPY_MODEL_7457865964464c509c61c9e48b721c0b",
       "selected": {
        "type": "object",
        "values": []
       }
      }
     },
     "ec462e5409314d84bb332bd726fa9686": {
      "model_module": "jupyter-js-widgets",
      "model_module_version": "~2.1.4",
      "model_name": "LayoutModel",
      "state": {
       "_model_module_version": "~2.1.4",
       "_view_module_version": "~2.1.4",
       "min_width": "125px"
      }
     },
     "f22fc0307a9345719a0e65ff77a72b6d": {
      "model_module": "bqplot",
      "model_module_version": "^0.2.3",
      "model_name": "LinesModel",
      "state": {
       "color": {
        "type": null,
        "values": null
       },
       "colors": [
        "orange"
       ],
       "display_legend": false,
       "fill_colors": [],
       "labels": [
        "C1"
       ],
       "scales": {
        "x": "IPY_MODEL_655e5933ae3d4d8cba3cff0ce2705bc7",
        "y": "IPY_MODEL_be81e8b1dcde433a8216b014af3b86f0"
       },
       "selected": [
        91
       ],
       "x": {
        "type": "date",
        "values": [
         "2007-01-01T00:00:00.000000",
         "2007-01-02T00:00:00.000000",
         "2007-01-03T00:00:00.000000",
         "2007-01-04T00:00:00.000000",
         "2007-01-05T00:00:00.000000",
         "2007-01-06T00:00:00.000000",
         "2007-01-07T00:00:00.000000",
         "2007-01-08T00:00:00.000000",
         "2007-01-09T00:00:00.000000",
         "2007-01-10T00:00:00.000000",
         "2007-01-11T00:00:00.000000",
         "2007-01-12T00:00:00.000000",
         "2007-01-13T00:00:00.000000",
         "2007-01-14T00:00:00.000000",
         "2007-01-15T00:00:00.000000",
         "2007-01-16T00:00:00.000000",
         "2007-01-17T00:00:00.000000",
         "2007-01-18T00:00:00.000000",
         "2007-01-19T00:00:00.000000",
         "2007-01-20T00:00:00.000000",
         "2007-01-21T00:00:00.000000",
         "2007-01-22T00:00:00.000000",
         "2007-01-23T00:00:00.000000",
         "2007-01-24T00:00:00.000000",
         "2007-01-25T00:00:00.000000",
         "2007-01-26T00:00:00.000000",
         "2007-01-27T00:00:00.000000",
         "2007-01-28T00:00:00.000000",
         "2007-01-29T00:00:00.000000",
         "2007-01-30T00:00:00.000000",
         "2007-01-31T00:00:00.000000",
         "2007-02-01T00:00:00.000000",
         "2007-02-02T00:00:00.000000",
         "2007-02-03T00:00:00.000000",
         "2007-02-04T00:00:00.000000",
         "2007-02-05T00:00:00.000000",
         "2007-02-06T00:00:00.000000",
         "2007-02-07T00:00:00.000000",
         "2007-02-08T00:00:00.000000",
         "2007-02-09T00:00:00.000000",
         "2007-02-10T00:00:00.000000",
         "2007-02-11T00:00:00.000000",
         "2007-02-12T00:00:00.000000",
         "2007-02-13T00:00:00.000000",
         "2007-02-14T00:00:00.000000",
         "2007-02-15T00:00:00.000000",
         "2007-02-16T00:00:00.000000",
         "2007-02-17T00:00:00.000000",
         "2007-02-18T00:00:00.000000",
         "2007-02-19T00:00:00.000000",
         "2007-02-20T00:00:00.000000",
         "2007-02-21T00:00:00.000000",
         "2007-02-22T00:00:00.000000",
         "2007-02-23T00:00:00.000000",
         "2007-02-24T00:00:00.000000",
         "2007-02-25T00:00:00.000000",
         "2007-02-26T00:00:00.000000",
         "2007-02-27T00:00:00.000000",
         "2007-02-28T00:00:00.000000",
         "2007-03-01T00:00:00.000000",
         "2007-03-02T00:00:00.000000",
         "2007-03-03T00:00:00.000000",
         "2007-03-04T00:00:00.000000",
         "2007-03-05T00:00:00.000000",
         "2007-03-06T00:00:00.000000",
         "2007-03-07T00:00:00.000000",
         "2007-03-08T00:00:00.000000",
         "2007-03-09T00:00:00.000000",
         "2007-03-10T00:00:00.000000",
         "2007-03-11T00:00:00.000000",
         "2007-03-12T00:00:00.000000",
         "2007-03-13T00:00:00.000000",
         "2007-03-14T00:00:00.000000",
         "2007-03-15T00:00:00.000000",
         "2007-03-16T00:00:00.000000",
         "2007-03-17T00:00:00.000000",
         "2007-03-18T00:00:00.000000",
         "2007-03-19T00:00:00.000000",
         "2007-03-20T00:00:00.000000",
         "2007-03-21T00:00:00.000000",
         "2007-03-22T00:00:00.000000",
         "2007-03-23T00:00:00.000000",
         "2007-03-24T00:00:00.000000",
         "2007-03-25T00:00:00.000000",
         "2007-03-26T00:00:00.000000",
         "2007-03-27T00:00:00.000000",
         "2007-03-28T00:00:00.000000",
         "2007-03-29T00:00:00.000000",
         "2007-03-30T00:00:00.000000",
         "2007-03-31T00:00:00.000000",
         "2007-04-01T00:00:00.000000",
         "2007-04-02T00:00:00.000000",
         "2007-04-03T00:00:00.000000",
         "2007-04-04T00:00:00.000000",
         "2007-04-05T00:00:00.000000",
         "2007-04-06T00:00:00.000000",
         "2007-04-07T00:00:00.000000",
         "2007-04-08T00:00:00.000000",
         "2007-04-09T00:00:00.000000",
         "2007-04-10T00:00:00.000000",
         "2007-04-11T00:00:00.000000",
         "2007-04-12T00:00:00.000000",
         "2007-04-13T00:00:00.000000",
         "2007-04-14T00:00:00.000000",
         "2007-04-15T00:00:00.000000",
         "2007-04-16T00:00:00.000000",
         "2007-04-17T00:00:00.000000",
         "2007-04-18T00:00:00.000000",
         "2007-04-19T00:00:00.000000",
         "2007-04-20T00:00:00.000000",
         "2007-04-21T00:00:00.000000",
         "2007-04-22T00:00:00.000000",
         "2007-04-23T00:00:00.000000",
         "2007-04-24T00:00:00.000000",
         "2007-04-25T00:00:00.000000",
         "2007-04-26T00:00:00.000000",
         "2007-04-27T00:00:00.000000",
         "2007-04-28T00:00:00.000000",
         "2007-04-29T00:00:00.000000",
         "2007-04-30T00:00:00.000000",
         "2007-05-01T00:00:00.000000",
         "2007-05-02T00:00:00.000000",
         "2007-05-03T00:00:00.000000",
         "2007-05-04T00:00:00.000000",
         "2007-05-05T00:00:00.000000",
         "2007-05-06T00:00:00.000000",
         "2007-05-07T00:00:00.000000",
         "2007-05-08T00:00:00.000000",
         "2007-05-09T00:00:00.000000",
         "2007-05-10T00:00:00.000000",
         "2007-05-11T00:00:00.000000",
         "2007-05-12T00:00:00.000000",
         "2007-05-13T00:00:00.000000",
         "2007-05-14T00:00:00.000000",
         "2007-05-15T00:00:00.000000",
         "2007-05-16T00:00:00.000000",
         "2007-05-17T00:00:00.000000",
         "2007-05-18T00:00:00.000000",
         "2007-05-19T00:00:00.000000",
         "2007-05-20T00:00:00.000000",
         "2007-05-21T00:00:00.000000",
         "2007-05-22T00:00:00.000000",
         "2007-05-23T00:00:00.000000",
         "2007-05-24T00:00:00.000000",
         "2007-05-25T00:00:00.000000",
         "2007-05-26T00:00:00.000000",
         "2007-05-27T00:00:00.000000",
         "2007-05-28T00:00:00.000000",
         "2007-05-29T00:00:00.000000",
         "2007-05-30T00:00:00.000000"
        ]
       },
       "y": {
        "type": "float",
        "values": [
         100.78373638585522,
         101.38350005004746,
         101.98181666523826,
         101.47704053480443,
         100.84565354615721,
         100.9466230937988,
         100.53920587749954,
         101.38634286476594,
         100.67356817139739,
         101.52830433297196,
         101.22914094635884,
         101.48831187099681,
         101.62658280471109,
         102.112518511458,
         101.57210766213542,
         101.0895796062265,
         100.73036866391003,
         99.55088711360001,
         100.19350538046116,
         100.34219249771037,
         100.39718627792817,
         99.94149794752887,
         99.77456883254557,
         99.64119199648113,
         100.98757260529095,
         100.24672045031032,
         100.1625537200557,
         99.90662111879683,
         100.72785038965769,
         100.6738528330255,
         100.96777365101903,
         99.03434596297932,
         98.70124968539693,
         96.70526341057737,
         96.21560553434979,
         96.27526886190442,
         96.41030910605846,
         95.34173968590368,
         94.62792888472042,
         95.14670107333657,
         95.11226396462011,
         95.89703972226995,
         95.28271048443041,
         95.43575146837796,
         95.56720962822084,
         95.87241828527337,
         94.80879627600498,
         92.84667915955674,
         92.64003552454187,
         92.28998554786537,
         92.31755923236729,
         91.30808005254171,
         91.0638707889393,
         91.2464064298377,
         92.0308781821266,
         91.89995228137253,
         91.74064165138472,
         92.45245633710599,
         92.26708897059675,
         92.82350371805833,
         93.04929211727993,
         92.37812408155118,
         91.95917240878042,
         93.5275581564737,
         92.37909496430908,
         92.17381558141949,
         91.65732988668442,
         91.49079510417955,
         91.21990522934863,
         91.21974311151949,
         91.2810620239107,
         91.1835057991645,
         89.9638832982993,
         89.30798799302374,
         88.97117024447117,
         89.47834769211151,
         90.38320984592968,
         91.53644520431469,
         92.38327158018767,
         92.26120222281361,
         92.56940459315581,
         93.17170583743444,
         92.66481748648697,
         92.46294517257932,
         91.93703288196082,
         91.9700892098979,
         92.70285413941568,
         92.780532564742,
         93.32862961541338,
         93.56327693826361,
         93.7175020122228,
         93.08880107861577,
         93.69301961725412,
         93.83385917003605,
         93.95135790814746,
         94.05610440780228,
         94.52788423615495,
         93.58762256290635,
         92.89432697063384,
         93.92485296912193,
         93.83075584601485,
         94.10713349832616,
         94.6904636621637,
         93.78979340612219,
         93.28985632297247,
         93.97984197602787,
         94.34003804767198,
         94.01247983400327,
         93.33409413751892,
         92.76927407329806,
         91.43989743543126,
         91.18444502320511,
         91.37191259118855,
         91.36933959799637,
         90.88840945215706,
         89.88087078503152,
         90.36720792467293,
         89.92629446446784,
         90.02651602664764,
         90.36257475329815,
         90.20190662349763,
         90.64854989358375,
         90.72212307172788,
         90.01947290965438,
         90.0137458238125,
         90.5026878816464,
         89.706214179077,
         89.94860467364249,
         90.06238679268148,
         89.83358398710382,
         90.27153712917668,
         89.75506957387059,
         89.69302924137725,
         90.14658940509645,
         90.0898568866552,
         90.14299435482768,
         90.97162892664983,
         91.30255992090943,
         90.43749032990387,
         90.03607218623202,
         88.72983032933728,
         88.52300022715272,
         87.66837167875816,
         87.39247029035198,
         86.86296898523975,
         87.07215553023345,
         86.14441339347073,
         86.84352614069097,
         87.59202867799293,
         88.38993277326153
        ]
       }
      }
     },
     "f3d516be9d584200bff1b6b7fbbc536e": {
      "model_module": "jupyter-js-widgets",
      "model_module_version": "~2.1.4",
      "model_name": "LayoutModel",
      "state": {
       "_model_module_version": "~2.1.4",
       "_view_module_version": "~2.1.4"
      }
     },
     "f70ba89fbdc048118bba2f2c6d0bbca3": {
      "model_module": "bqplot",
      "model_module_version": "^0.2.3",
      "model_name": "DateScaleModel",
      "state": {
       "min": "2007-01-01T00:00:00.000000"
      }
     },
     "f7544def20c142bd94784a8652a52ce9": {
      "model_module": "jupyter-js-widgets",
      "model_module_version": "~2.1.4",
      "model_name": "LayoutModel",
      "state": {
       "_model_module_version": "~2.1.4",
       "_view_module_version": "~2.1.4"
      }
     },
     "f77d818533ce4f6baebc2f635dbb49cf": {
      "model_module": "bqplot",
      "model_module_version": "^0.2.3",
      "model_name": "AxisModel",
      "state": {
       "label": "Security 1 Price",
       "orientation": "vertical",
       "scale": "IPY_MODEL_6db62a83550f418ab7732b20dc3e8a78",
       "side": "left",
       "tick_values": {
        "type": null,
        "values": null
       }
      }
     },
     "f82fa0acf644437090242246a60c6266": {
      "model_module": "bqplot",
      "model_module_version": "^0.2.3",
      "model_name": "LinearScaleModel",
      "state": {
       "allow_padding": false,
       "max": 1,
       "min": 0,
       "stabilized": false
      }
     },
     "fab20523a45a48e1862c822193eeb552": {
      "model_module": "jupyter-js-widgets",
      "model_module_version": "~2.1.4",
      "model_name": "HTMLModel",
      "state": {
       "_model_module_version": "~2.1.4",
       "_view_module_version": "~2.1.4",
       "layout": "IPY_MODEL_34043c7f6da74f718bbb9edd84b20bda",
       "value": "[50, 51, 52, 53, 54, 55, 56, 57, 58, 59, 60, 61, 62, 63, 64, 65, 66, 67, 68, 69, 70, 71, 72, 73, 74, 75, 76, 77, 78, 79, 80, 81, 82, 83, 84, 85, 86, 87, 88, 89, 90, 91, 92, 93, 94, 95, 96, 97, 98, 99, 100, 101, 102, 103, 104, 105, 106, 107, 108, 109, 110]"
      }
     },
     "fdf9c64971914709bb74900a5e40a7b2": {
      "model_module": "bqplot",
      "model_module_version": "^0.2.3",
      "model_name": "FigureModel",
      "state": {
       "_dom_classes": [],
       "axes": [
        "IPY_MODEL_10584fb7be964121a7a41c9d8faa2aa0",
        "IPY_MODEL_f77d818533ce4f6baebc2f635dbb49cf"
       ],
       "interaction": "IPY_MODEL_64aac9c673fa4064ba8cd7f3cec99e7c",
       "layout": "IPY_MODEL_74864a3c1f1a486ca05d68f6fe6ef150",
       "marks": [
        "IPY_MODEL_5b147fdc6bbb44758de6cef9e7a5c681"
       ],
       "max_aspect_ratio": 6,
       "scale_x": "IPY_MODEL_2878a0534a67461bbe270546cb834685",
       "scale_y": "IPY_MODEL_156eebc0ce7048caa9bfd36f09d5162e",
       "title": "Fast Interval Selector Selected Indices Example"
      }
     },
     "fe0bdca9298a49878dd7f91c1caf2f8c": {
      "model_module": "bqplot",
      "model_module_version": "^0.2.3",
      "model_name": "LinearScaleModel",
      "state": {
       "allow_padding": false,
       "max": 1,
       "min": 0,
       "stabilized": false
      }
     },
     "ffa174cec71240e8ae4a62771d4d9fbd": {
      "model_module": "bqplot",
      "model_module_version": "^0.2.3",
      "model_name": "LinearScaleModel",
      "state": {
       "stabilized": false
      }
     }
    },
    "version_major": 1,
    "version_minor": 0
   }
  }
 },
 "nbformat": 4,
 "nbformat_minor": 1
}
