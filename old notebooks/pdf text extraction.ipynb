{
 "cells": [
  {
   "cell_type": "code",
   "execution_count": null,
   "metadata": {
    "collapsed": true
   },
   "outputs": [],
   "source": [
    "# getting text out of pdfs\n",
    "# in this case, BESW13_documentation"
   ]
  },
  {
   "cell_type": "code",
   "execution_count": null,
   "metadata": {
    "collapsed": true
   },
   "outputs": [],
   "source": [
    "# UPSHOT - yes, theoretically doable\n",
    "# but the pdf is so painfully formatted that rebuilding it as a meaningful dataframe would be a lot of work\n",
    "# might be able to shorten it a bit using an extractor like Able2Extract that respected distance and turned it into a csv\n",
    "# but, really, the formatting is pretty heterogeneous"
   ]
  },
  {
   "cell_type": "code",
   "execution_count": 1,
   "metadata": {
    "collapsed": true
   },
   "outputs": [],
   "source": [
    "import os\n",
    "from os.path import isfile, join\n",
    "import PyPDF2"
   ]
  },
  {
   "cell_type": "code",
   "execution_count": 2,
   "metadata": {
    "collapsed": true
   },
   "outputs": [],
   "source": [
    "BES_data_folder = \"../BES_analysis_data/\"\n",
    "BES_code_folder = \"../BES_analysis_code/\"\n"
   ]
  },
  {
   "cell_type": "code",
   "execution_count": 9,
   "metadata": {
    "collapsed": true
   },
   "outputs": [],
   "source": [
    "filename =  \"Bes_wave13Documentation_V1.0.pdf\"\n",
    "txt_dir = BES_data_folder"
   ]
  },
  {
   "cell_type": "code",
   "execution_count": 10,
   "metadata": {},
   "outputs": [],
   "source": [
    "pdf = open(join(BES_data_folder, filename),'rb')\n",
    "pdfReader = PyPDF2.PdfFileReader(pdf)\n",
    "\n",
    "# Loop through the pages, extract the text, and write each page to individual file.\n",
    "for page in range(0, pdfReader.numPages):\n",
    "    pageObj = pdfReader.getPage(page)\n",
    "    text = pageObj.extractText()\n",
    "\n",
    "    # Compile the page name. Add one because Python counts from 0.\n",
    "    page_name = \"{}-page{}.txt\".format(filename[:-4], page+1)\n",
    "\n",
    "    # Write to each page to file\n",
    "    with open(join(txt_dir, page_name), mode=\"w\", encoding='utf-8') as o:\n",
    "        o.write(text)"
   ]
  },
  {
   "cell_type": "code",
   "execution_count": null,
   "metadata": {
    "collapsed": true
   },
   "outputs": [],
   "source": []
  },
  {
   "cell_type": "code",
   "execution_count": null,
   "metadata": {
    "collapsed": true
   },
   "outputs": [],
   "source": []
  }
 ],
 "metadata": {
  "kernelspec": {
   "display_name": "Python [conda env:BES_analysis]",
   "language": "python",
   "name": "conda-env-BES_analysis-py"
  },
  "language_info": {
   "codemirror_mode": {
    "name": "ipython",
    "version": 3
   },
   "file_extension": ".py",
   "mimetype": "text/x-python",
   "name": "python",
   "nbconvert_exporter": "python",
   "pygments_lexer": "ipython3",
   "version": "3.5.2"
  }
 },
 "nbformat": 4,
 "nbformat_minor": 2
}
